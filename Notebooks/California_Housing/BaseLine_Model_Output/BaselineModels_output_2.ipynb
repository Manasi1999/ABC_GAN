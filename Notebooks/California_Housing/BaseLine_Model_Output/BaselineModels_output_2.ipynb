{
 "cells": [
  {
   "cell_type": "markdown",
   "id": "03af5045",
   "metadata": {
    "papermill": {
     "duration": 0.013467,
     "end_time": "2022-03-02T04:30:16.561192",
     "exception": false,
     "start_time": "2022-03-02T04:30:16.547725",
     "status": "completed"
    },
    "tags": []
   },
   "source": [
    "## Import Libraries "
   ]
  },
  {
   "cell_type": "code",
   "execution_count": 1,
   "id": "69259c95",
   "metadata": {
    "execution": {
     "iopub.execute_input": "2022-03-02T04:30:16.586928Z",
     "iopub.status.busy": "2022-03-02T04:30:16.586237Z",
     "iopub.status.idle": "2022-03-02T04:30:16.589449Z",
     "shell.execute_reply": "2022-03-02T04:30:16.590044Z"
    },
    "papermill": {
     "duration": 0.02063,
     "end_time": "2022-03-02T04:30:16.590325",
     "exception": false,
     "start_time": "2022-03-02T04:30:16.569695",
     "status": "completed"
    },
    "tags": []
   },
   "outputs": [],
   "source": [
    "import warnings\n",
    "import sys\n",
    "sys.path.insert(0, '../../src')\n",
    "warnings.filterwarnings('ignore')"
   ]
  },
  {
   "cell_type": "code",
   "execution_count": 2,
   "id": "f5b55411",
   "metadata": {
    "execution": {
     "iopub.execute_input": "2022-03-02T04:30:16.604131Z",
     "iopub.status.busy": "2022-03-02T04:30:16.603597Z",
     "iopub.status.idle": "2022-03-02T04:30:18.273756Z",
     "shell.execute_reply": "2022-03-02T04:30:18.274021Z"
    },
    "papermill": {
     "duration": 1.67816,
     "end_time": "2022-03-02T04:30:18.274157",
     "exception": false,
     "start_time": "2022-03-02T04:30:16.595997",
     "status": "completed"
    },
    "tags": []
   },
   "outputs": [],
   "source": [
    "import statsModel\n",
    "import scrapbook as sb \n",
    "import torch \n",
    "import statsModel\n",
    "import baselineModels\n",
    "import californiaDataset\n",
    "import dataset \n",
    "from torch.utils.data import random_split \n",
    "from sklearn.model_selection import train_test_split"
   ]
  },
  {
   "cell_type": "markdown",
   "id": "cac992f6",
   "metadata": {
    "papermill": {
     "duration": 0.002747,
     "end_time": "2022-03-02T04:30:18.279997",
     "exception": false,
     "start_time": "2022-03-02T04:30:18.277250",
     "status": "completed"
    },
    "tags": []
   },
   "source": [
    "## Import Dataset \n"
   ]
  },
  {
   "cell_type": "code",
   "execution_count": 3,
   "id": "c3da70ba",
   "metadata": {
    "execution": {
     "iopub.execute_input": "2022-03-02T04:30:18.288766Z",
     "iopub.status.busy": "2022-03-02T04:30:18.288386Z",
     "iopub.status.idle": "2022-03-02T04:30:18.303514Z",
     "shell.execute_reply": "2022-03-02T04:30:18.303819Z"
    },
    "papermill": {
     "duration": 0.020259,
     "end_time": "2022-03-02T04:30:18.303955",
     "exception": false,
     "start_time": "2022-03-02T04:30:18.283696",
     "status": "completed"
    },
    "tags": []
   },
   "outputs": [
    {
     "name": "stdout",
     "output_type": "stream",
     "text": [
      "       X1    X2        X3        X4      X5        X6     X7      X8      Y\n",
      "0  8.3252  41.0  6.984127  1.023810   322.0  2.555556  37.88 -122.23  4.526\n",
      "1  8.3014  21.0  6.238137  0.971880  2401.0  2.109842  37.86 -122.22  3.585\n",
      "2  7.2574  52.0  8.288136  1.073446   496.0  2.802260  37.85 -122.24  3.521\n",
      "3  5.6431  52.0  5.817352  1.073059   558.0  2.547945  37.85 -122.25  3.413\n",
      "4  3.8462  52.0  6.281853  1.081081   565.0  2.181467  37.85 -122.25  3.422\n"
     ]
    }
   ],
   "source": [
    "n_features = 8\n",
    "n_samples= 20640\n",
    "n_target = 1 \n",
    "X,Y = californiaDataset.california_data()"
   ]
  },
  {
   "cell_type": "code",
   "execution_count": 4,
   "id": "d20a7eb6",
   "metadata": {
    "execution": {
     "iopub.execute_input": "2022-03-02T04:30:18.312921Z",
     "iopub.status.busy": "2022-03-02T04:30:18.312550Z",
     "iopub.status.idle": "2022-03-02T04:30:18.314646Z",
     "shell.execute_reply": "2022-03-02T04:30:18.314888Z"
    },
    "papermill": {
     "duration": 0.0078,
     "end_time": "2022-03-02T04:30:18.314996",
     "exception": false,
     "start_time": "2022-03-02T04:30:18.307196",
     "status": "completed"
    },
    "tags": []
   },
   "outputs": [],
   "source": [
    "# Train test split for dataset \n",
    "real_dataset = dataset.CustomDataset(X,Y)\n",
    "X_train, X_test, y_train, y_test = train_test_split(X, Y, test_size=0.2)"
   ]
  },
  {
   "cell_type": "markdown",
   "id": "19eb8ffb",
   "metadata": {
    "papermill": {
     "duration": 0.003006,
     "end_time": "2022-03-02T04:30:18.321078",
     "exception": false,
     "start_time": "2022-03-02T04:30:18.318072",
     "status": "completed"
    },
    "tags": []
   },
   "source": [
    "## Stats Model \n",
    "\n"
   ]
  },
  {
   "cell_type": "code",
   "execution_count": 5,
   "id": "975038ec",
   "metadata": {
    "execution": {
     "iopub.execute_input": "2022-03-02T04:30:18.329241Z",
     "iopub.status.busy": "2022-03-02T04:30:18.328879Z",
     "iopub.status.idle": "2022-03-02T04:30:18.439930Z",
     "shell.execute_reply": "2022-03-02T04:30:18.440332Z"
    },
    "papermill": {
     "duration": 0.116387,
     "end_time": "2022-03-02T04:30:18.440458",
     "exception": false,
     "start_time": "2022-03-02T04:30:18.324071",
     "status": "completed"
    },
    "tags": []
   },
   "outputs": [
    {
     "name": "stderr",
     "output_type": "stream",
     "text": [
      "No handles with labels found to put in legend.\n"
     ]
    },
    {
     "name": "stdout",
     "output_type": "stream",
     "text": [
      "                                 OLS Regression Results                                \n",
      "=======================================================================================\n",
      "Dep. Variable:                      y   R-squared (uncentered):                   0.613\n",
      "Model:                            OLS   Adj. R-squared (uncentered):              0.612\n",
      "Method:                 Least Squares   F-statistic:                              3261.\n",
      "Date:                Wed, 02 Mar 2022   Prob (F-statistic):                        0.00\n",
      "Time:                        10:00:18   Log-Likelihood:                         -15595.\n",
      "No. Observations:               16512   AIC:                                  3.121e+04\n",
      "Df Residuals:                   16504   BIC:                                  3.127e+04\n",
      "Df Model:                           8                                                  \n",
      "Covariance Type:            nonrobust                                                  \n",
      "==============================================================================\n",
      "                 coef    std err          t      P>|t|      [0.025      0.975]\n",
      "------------------------------------------------------------------------------\n",
      "x1             0.7280      0.008     94.519      0.000       0.713       0.743\n",
      "x2             0.1062      0.005     19.650      0.000       0.096       0.117\n",
      "x3            -0.2531      0.014    -17.874      0.000      -0.281      -0.225\n",
      "x4             0.3212      0.014     23.107      0.000       0.294       0.348\n",
      "x5            -0.0021      0.005     -0.400      0.689      -0.012       0.008\n",
      "x6            -0.0312      0.004     -7.153      0.000      -0.040      -0.023\n",
      "x7            -0.7912      0.015    -53.572      0.000      -0.820      -0.762\n",
      "x8            -0.7695      0.015    -53.066      0.000      -0.798      -0.741\n",
      "==============================================================================\n",
      "Omnibus:                     3303.885   Durbin-Watson:                   2.008\n",
      "Prob(Omnibus):                  0.000   Jarque-Bera (JB):             8395.158\n",
      "Skew:                           1.098   Prob(JB):                         0.00\n",
      "Kurtosis:                       5.717   Cond. No.                         6.64\n",
      "==============================================================================\n",
      "\n",
      "Notes:\n",
      "[1] R² is computed without centering (uncentered) since the model does not contain a constant.\n",
      "[2] Standard Errors assume that the covariance matrix of the errors is correctly specified.\n"
     ]
    },
    {
     "data": {
      "image/png": "[encoded data removed]",
      "text/plain": [
       "<Figure size 432x288 with 1 Axes>"
      ]
     },
     "metadata": {
      "needs_background": "light"
     },
     "output_type": "display_data"
    },
    {
     "name": "stdout",
     "output_type": "stream",
     "text": [
      "Performance Metrics\n",
      "Mean Squared Error: 0.42719828290628986\n",
      "Mean Absolute Error: 0.46661040769930506\n",
      "Manhattan distance: 1926.167762982729\n",
      "Euclidean distance: 41.993743722573306\n"
     ]
    },
    {
     "data": {
      "application/scrapbook.scrap.json+json": {
       "data": 0.42719828290628986,
       "encoder": "json",
       "name": "Stats Model MSE",
       "version": 1
      }
     },
     "metadata": {
      "scrapbook": {
       "data": true,
       "display": false,
       "name": "Stats Model MSE"
      }
     },
     "output_type": "display_data"
    },
    {
     "data": {
      "application/scrapbook.scrap.json+json": {
       "data": 0.46661040769930506,
       "encoder": "json",
       "name": "Stats Model MAE",
       "version": 1
      }
     },
     "metadata": {
      "scrapbook": {
       "data": true,
       "display": false,
       "name": "Stats Model MAE"
      }
     },
     "output_type": "display_data"
    },
    {
     "data": {
      "application/scrapbook.scrap.json+json": {
       "data": 1926.167762982729,
       "encoder": "json",
       "name": "Stats Model Manhattan Distance",
       "version": 1
      }
     },
     "metadata": {
      "scrapbook": {
       "data": true,
       "display": false,
       "name": "Stats Model Manhattan Distance"
      }
     },
     "output_type": "display_data"
    },
    {
     "data": {
      "application/scrapbook.scrap.json+json": {
       "data": 41.993743722573306,
       "encoder": "json",
       "name": "Stats Model Euclidean distance",
       "version": 1
      }
     },
     "metadata": {
      "scrapbook": {
       "data": true,
       "display": false,
       "name": "Stats Model Euclidean distance"
      }
     },
     "output_type": "display_data"
    },
    {
     "data": {
      "application/scrapbook.scrap.json+json": {
       "data": [
        0.7279912651851804,
        0.10623386882556024,
        -0.25313275279016606,
        0.32121195127639357,
        -0.0020543009612505794,
        -0.031183680348679115,
        -0.7911778809784167,
        -0.7694904235542903
       ],
       "encoder": "json",
       "name": "Coefficients",
       "version": 1
      }
     },
     "metadata": {
      "scrapbook": {
       "data": true,
       "display": false,
       "name": "Coefficients"
      }
     },
     "output_type": "display_data"
    }
   ],
   "source": [
    "coefficients , y_pred =statsModel.statsModel(X_train,y_train,X_test,y_test)\n",
    "#Store MSE Value \n",
    "sb.glue(\"Coefficients\",coefficients)"
   ]
  },
  {
   "cell_type": "markdown",
   "id": "3e42b41a",
   "metadata": {
    "papermill": {
     "duration": 0.005147,
     "end_time": "2022-03-02T04:30:18.450882",
     "exception": false,
     "start_time": "2022-03-02T04:30:18.445735",
     "status": "completed"
    },
    "tags": []
   },
   "source": [
    "# Catboost Model "
   ]
  },
  {
   "cell_type": "code",
   "execution_count": 6,
   "id": "4163170d",
   "metadata": {
    "execution": {
     "iopub.execute_input": "2022-03-02T04:30:18.498527Z",
     "iopub.status.busy": "2022-03-02T04:30:18.498124Z",
     "iopub.status.idle": "2022-03-02T04:30:21.205598Z",
     "shell.execute_reply": "2022-03-02T04:30:21.205909Z"
    },
    "papermill": {
     "duration": 2.750306,
     "end_time": "2022-03-02T04:30:21.206033",
     "exception": false,
     "start_time": "2022-03-02T04:30:18.455727",
     "status": "completed"
    },
    "tags": []
   },
   "outputs": [
    {
     "name": "stdout",
     "output_type": "stream",
     "text": [
      "Learning rate set to 0.064294\n"
     ]
    },
    {
     "name": "stdout",
     "output_type": "stream",
     "text": [
      "0:\tlearn: 0.9636338\ttotal: 60.6ms\tremaining: 1m\n",
      "1:\tlearn: 0.9321273\ttotal: 63.4ms\tremaining: 31.7s\n",
      "2:\tlearn: 0.9017317\ttotal: 66.6ms\tremaining: 22.1s\n",
      "3:\tlearn: 0.8740425\ttotal: 69.4ms\tremaining: 17.3s\n",
      "4:\tlearn: 0.8487215\ttotal: 71.9ms\tremaining: 14.3s\n",
      "5:\tlearn: 0.8252505\ttotal: 75.2ms\tremaining: 12.5s\n",
      "6:\tlearn: 0.8022571\ttotal: 77.7ms\tremaining: 11s\n",
      "7:\tlearn: 0.7811478\ttotal: 80.5ms\tremaining: 9.99s\n",
      "8:\tlearn: 0.7637071\ttotal: 83.3ms\tremaining: 9.17s\n",
      "9:\tlearn: 0.7452001\ttotal: 85.7ms\tremaining: 8.48s\n",
      "10:\tlearn: 0.7289208\ttotal: 88.1ms\tremaining: 7.92s\n",
      "11:\tlearn: 0.7137198\ttotal: 90.5ms\tremaining: 7.45s\n",
      "12:\tlearn: 0.6998140\ttotal: 93.2ms\tremaining: 7.08s\n",
      "13:\tlearn: 0.6858472\ttotal: 95.5ms\tremaining: 6.72s\n",
      "14:\tlearn: 0.6741179\ttotal: 98.1ms\tremaining: 6.44s\n",
      "15:\tlearn: 0.6623839\ttotal: 101ms\tremaining: 6.21s\n",
      "16:\tlearn: 0.6529271\ttotal: 104ms\tremaining: 5.99s\n",
      "17:\tlearn: 0.6430345\ttotal: 106ms\tremaining: 5.78s\n",
      "18:\tlearn: 0.6344868\ttotal: 109ms\tremaining: 5.61s\n",
      "19:\tlearn: 0.6241397\ttotal: 111ms\tremaining: 5.44s\n",
      "20:\tlearn: 0.6166990\ttotal: 113ms\tremaining: 5.29s\n",
      "21:\tlearn: 0.6093615\ttotal: 115ms\tremaining: 5.13s\n",
      "22:\tlearn: 0.6028667\ttotal: 118ms\tremaining: 5s\n",
      "23:\tlearn: 0.5958846\ttotal: 120ms\tremaining: 4.88s\n",
      "24:\tlearn: 0.5893450\ttotal: 123ms\tremaining: 4.79s\n",
      "25:\tlearn: 0.5834805\ttotal: 125ms\tremaining: 4.7s\n"
     ]
    },
    {
     "name": "stdout",
     "output_type": "stream",
     "text": [
      "26:\tlearn: 0.5762696\ttotal: 128ms\tremaining: 4.62s\n",
      "27:\tlearn: 0.5708501\ttotal: 131ms\tremaining: 4.54s\n",
      "28:\tlearn: 0.5646633\ttotal: 133ms\tremaining: 4.46s\n",
      "29:\tlearn: 0.5583412\ttotal: 136ms\tremaining: 4.39s\n",
      "30:\tlearn: 0.5545163\ttotal: 138ms\tremaining: 4.32s\n",
      "31:\tlearn: 0.5503269\ttotal: 141ms\tremaining: 4.25s\n",
      "32:\tlearn: 0.5461987\ttotal: 143ms\tremaining: 4.19s\n",
      "33:\tlearn: 0.5414558\ttotal: 145ms\tremaining: 4.13s\n",
      "34:\tlearn: 0.5371693\ttotal: 147ms\tremaining: 4.07s\n",
      "35:\tlearn: 0.5345190\ttotal: 150ms\tremaining: 4.01s\n",
      "36:\tlearn: 0.5313362\ttotal: 152ms\tremaining: 3.96s\n",
      "37:\tlearn: 0.5286366\ttotal: 155ms\tremaining: 3.92s\n",
      "38:\tlearn: 0.5251312\ttotal: 157ms\tremaining: 3.87s\n",
      "39:\tlearn: 0.5227882\ttotal: 160ms\tremaining: 3.84s\n",
      "40:\tlearn: 0.5205594\ttotal: 162ms\tremaining: 3.8s\n",
      "41:\tlearn: 0.5183260\ttotal: 165ms\tremaining: 3.75s\n",
      "42:\tlearn: 0.5154722\ttotal: 168ms\tremaining: 3.73s\n",
      "43:\tlearn: 0.5132443\ttotal: 170ms\tremaining: 3.7s\n",
      "44:\tlearn: 0.5114453\ttotal: 173ms\tremaining: 3.66s\n",
      "45:\tlearn: 0.5094712\ttotal: 175ms\tremaining: 3.63s\n",
      "46:\tlearn: 0.5062150\ttotal: 178ms\tremaining: 3.6s\n",
      "47:\tlearn: 0.5038747\ttotal: 180ms\tremaining: 3.57s\n",
      "48:\tlearn: 0.5019161\ttotal: 182ms\tremaining: 3.54s\n",
      "49:\tlearn: 0.4991513\ttotal: 185ms\tremaining: 3.51s\n",
      "50:\tlearn: 0.4971954\ttotal: 187ms\tremaining: 3.48s\n",
      "51:\tlearn: 0.4945803\ttotal: 189ms\tremaining: 3.45s\n",
      "52:\tlearn: 0.4931173\ttotal: 192ms\tremaining: 3.42s\n"
     ]
    },
    {
     "name": "stdout",
     "output_type": "stream",
     "text": [
      "53:\tlearn: 0.4918876\ttotal: 195ms\tremaining: 3.41s\n",
      "54:\tlearn: 0.4905796\ttotal: 197ms\tremaining: 3.38s\n",
      "55:\tlearn: 0.4890119\ttotal: 200ms\tremaining: 3.36s\n",
      "56:\tlearn: 0.4871157\ttotal: 202ms\tremaining: 3.34s\n",
      "57:\tlearn: 0.4856807\ttotal: 205ms\tremaining: 3.32s\n",
      "58:\tlearn: 0.4842533\ttotal: 207ms\tremaining: 3.3s\n",
      "59:\tlearn: 0.4832987\ttotal: 209ms\tremaining: 3.28s\n",
      "60:\tlearn: 0.4818186\ttotal: 212ms\tremaining: 3.26s\n",
      "61:\tlearn: 0.4806233\ttotal: 214ms\tremaining: 3.23s\n",
      "62:\tlearn: 0.4798667\ttotal: 216ms\tremaining: 3.21s\n",
      "63:\tlearn: 0.4783822\ttotal: 218ms\tremaining: 3.19s\n",
      "64:\tlearn: 0.4771041\ttotal: 221ms\tremaining: 3.17s\n",
      "65:\tlearn: 0.4763881\ttotal: 223ms\tremaining: 3.15s\n",
      "66:\tlearn: 0.4749600\ttotal: 225ms\tremaining: 3.14s\n",
      "67:\tlearn: 0.4738278\ttotal: 228ms\tremaining: 3.12s\n",
      "68:\tlearn: 0.4720427\ttotal: 230ms\tremaining: 3.1s\n",
      "69:\tlearn: 0.4714450\ttotal: 232ms\tremaining: 3.09s\n",
      "70:\tlearn: 0.4699290\ttotal: 235ms\tremaining: 3.07s\n",
      "71:\tlearn: 0.4686375\ttotal: 237ms\tremaining: 3.06s\n",
      "72:\tlearn: 0.4679582\ttotal: 240ms\tremaining: 3.05s\n",
      "73:\tlearn: 0.4666557\ttotal: 242ms\tremaining: 3.03s\n",
      "74:\tlearn: 0.4651573\ttotal: 245ms\tremaining: 3.02s\n",
      "75:\tlearn: 0.4645053\ttotal: 247ms\tremaining: 3.01s\n",
      "76:\tlearn: 0.4640320\ttotal: 250ms\tremaining: 2.99s\n",
      "77:\tlearn: 0.4632354\ttotal: 252ms\tremaining: 2.98s\n",
      "78:\tlearn: 0.4619944\ttotal: 255ms\tremaining: 2.97s\n"
     ]
    },
    {
     "name": "stdout",
     "output_type": "stream",
     "text": [
      "79:\tlearn: 0.4612249\ttotal: 257ms\tremaining: 2.96s\n",
      "80:\tlearn: 0.4601139\ttotal: 259ms\tremaining: 2.94s\n",
      "81:\tlearn: 0.4593268\ttotal: 262ms\tremaining: 2.93s\n",
      "82:\tlearn: 0.4583579\ttotal: 264ms\tremaining: 2.92s\n",
      "83:\tlearn: 0.4574654\ttotal: 266ms\tremaining: 2.9s\n",
      "84:\tlearn: 0.4566872\ttotal: 269ms\tremaining: 2.89s\n",
      "85:\tlearn: 0.4560316\ttotal: 271ms\tremaining: 2.88s\n",
      "86:\tlearn: 0.4554219\ttotal: 274ms\tremaining: 2.87s\n",
      "87:\tlearn: 0.4550081\ttotal: 276ms\tremaining: 2.87s\n",
      "88:\tlearn: 0.4544509\ttotal: 279ms\tremaining: 2.86s\n",
      "89:\tlearn: 0.4541410\ttotal: 282ms\tremaining: 2.85s\n",
      "90:\tlearn: 0.4537598\ttotal: 284ms\tremaining: 2.84s\n",
      "91:\tlearn: 0.4532996\ttotal: 286ms\tremaining: 2.83s\n",
      "92:\tlearn: 0.4527168\ttotal: 289ms\tremaining: 2.81s\n",
      "93:\tlearn: 0.4517803\ttotal: 291ms\tremaining: 2.8s\n",
      "94:\tlearn: 0.4511397\ttotal: 293ms\tremaining: 2.79s\n",
      "95:\tlearn: 0.4502703\ttotal: 296ms\tremaining: 2.79s\n",
      "96:\tlearn: 0.4493513\ttotal: 298ms\tremaining: 2.78s\n",
      "97:\tlearn: 0.4487195\ttotal: 301ms\tremaining: 2.77s\n",
      "98:\tlearn: 0.4481953\ttotal: 303ms\tremaining: 2.76s\n",
      "99:\tlearn: 0.4477682\ttotal: 306ms\tremaining: 2.75s\n",
      "100:\tlearn: 0.4469034\ttotal: 308ms\tremaining: 2.74s\n",
      "101:\tlearn: 0.4463608\ttotal: 311ms\tremaining: 2.73s\n",
      "102:\tlearn: 0.4460082\ttotal: 313ms\tremaining: 2.73s\n",
      "103:\tlearn: 0.4453399\ttotal: 316ms\tremaining: 2.72s\n",
      "104:\tlearn: 0.4449647\ttotal: 318ms\tremaining: 2.71s\n",
      "105:\tlearn: 0.4445535\ttotal: 320ms\tremaining: 2.7s\n"
     ]
    },
    {
     "name": "stdout",
     "output_type": "stream",
     "text": [
      "106:\tlearn: 0.4439047\ttotal: 323ms\tremaining: 2.69s\n",
      "107:\tlearn: 0.4434557\ttotal: 325ms\tremaining: 2.69s\n",
      "108:\tlearn: 0.4426739\ttotal: 328ms\tremaining: 2.68s\n",
      "109:\tlearn: 0.4423040\ttotal: 331ms\tremaining: 2.68s\n",
      "110:\tlearn: 0.4417448\ttotal: 333ms\tremaining: 2.67s\n",
      "111:\tlearn: 0.4411550\ttotal: 336ms\tremaining: 2.66s\n",
      "112:\tlearn: 0.4405830\ttotal: 338ms\tremaining: 2.65s\n",
      "113:\tlearn: 0.4400951\ttotal: 341ms\tremaining: 2.65s\n",
      "114:\tlearn: 0.4392822\ttotal: 343ms\tremaining: 2.64s\n",
      "115:\tlearn: 0.4388491\ttotal: 345ms\tremaining: 2.63s\n",
      "116:\tlearn: 0.4385961\ttotal: 348ms\tremaining: 2.63s\n",
      "117:\tlearn: 0.4382215\ttotal: 350ms\tremaining: 2.62s\n",
      "118:\tlearn: 0.4374490\ttotal: 353ms\tremaining: 2.61s\n",
      "119:\tlearn: 0.4370461\ttotal: 355ms\tremaining: 2.6s\n",
      "120:\tlearn: 0.4365557\ttotal: 358ms\tremaining: 2.6s\n",
      "121:\tlearn: 0.4361818\ttotal: 360ms\tremaining: 2.59s\n",
      "122:\tlearn: 0.4357353\ttotal: 363ms\tremaining: 2.59s\n",
      "123:\tlearn: 0.4350993\ttotal: 366ms\tremaining: 2.58s\n",
      "124:\tlearn: 0.4341463\ttotal: 368ms\tremaining: 2.58s\n",
      "125:\tlearn: 0.4333499\ttotal: 370ms\tremaining: 2.57s\n",
      "126:\tlearn: 0.4327209\ttotal: 373ms\tremaining: 2.56s\n",
      "127:\tlearn: 0.4323580\ttotal: 376ms\tremaining: 2.56s\n",
      "128:\tlearn: 0.4319871\ttotal: 378ms\tremaining: 2.55s\n",
      "129:\tlearn: 0.4316101\ttotal: 380ms\tremaining: 2.54s\n",
      "130:\tlearn: 0.4312185\ttotal: 383ms\tremaining: 2.54s\n",
      "131:\tlearn: 0.4306776\ttotal: 385ms\tremaining: 2.53s\n",
      "132:\tlearn: 0.4301981\ttotal: 388ms\tremaining: 2.53s\n"
     ]
    },
    {
     "name": "stdout",
     "output_type": "stream",
     "text": [
      "133:\tlearn: 0.4295075\ttotal: 390ms\tremaining: 2.52s\n",
      "134:\tlearn: 0.4291745\ttotal: 393ms\tremaining: 2.52s\n",
      "135:\tlearn: 0.4289367\ttotal: 395ms\tremaining: 2.51s\n",
      "136:\tlearn: 0.4286164\ttotal: 398ms\tremaining: 2.5s\n",
      "137:\tlearn: 0.4281842\ttotal: 400ms\tremaining: 2.5s\n",
      "138:\tlearn: 0.4276641\ttotal: 403ms\tremaining: 2.49s\n",
      "139:\tlearn: 0.4273052\ttotal: 405ms\tremaining: 2.49s\n",
      "140:\tlearn: 0.4268546\ttotal: 407ms\tremaining: 2.48s\n",
      "141:\tlearn: 0.4264300\ttotal: 410ms\tremaining: 2.48s\n",
      "142:\tlearn: 0.4260387\ttotal: 412ms\tremaining: 2.47s\n",
      "143:\tlearn: 0.4254272\ttotal: 415ms\tremaining: 2.46s\n",
      "144:\tlearn: 0.4251784\ttotal: 417ms\tremaining: 2.46s\n",
      "145:\tlearn: 0.4247845\ttotal: 420ms\tremaining: 2.46s\n",
      "146:\tlearn: 0.4244641\ttotal: 423ms\tremaining: 2.45s\n",
      "147:\tlearn: 0.4236716\ttotal: 425ms\tremaining: 2.45s\n",
      "148:\tlearn: 0.4233972\ttotal: 427ms\tremaining: 2.44s\n",
      "149:\tlearn: 0.4228931\ttotal: 431ms\tremaining: 2.44s\n",
      "150:\tlearn: 0.4220134\ttotal: 433ms\tremaining: 2.43s\n",
      "151:\tlearn: 0.4214900\ttotal: 435ms\tremaining: 2.43s\n",
      "152:\tlearn: 0.4212082\ttotal: 438ms\tremaining: 2.42s\n",
      "153:\tlearn: 0.4207385\ttotal: 441ms\tremaining: 2.42s\n",
      "154:\tlearn: 0.4202434\ttotal: 443ms\tremaining: 2.42s\n",
      "155:\tlearn: 0.4198919\ttotal: 445ms\tremaining: 2.41s\n",
      "156:\tlearn: 0.4196025\ttotal: 448ms\tremaining: 2.4s\n",
      "157:\tlearn: 0.4190330\ttotal: 450ms\tremaining: 2.4s\n"
     ]
    },
    {
     "name": "stdout",
     "output_type": "stream",
     "text": [
      "158:\tlearn: 0.4186026\ttotal: 453ms\tremaining: 2.39s\n",
      "159:\tlearn: 0.4180452\ttotal: 455ms\tremaining: 2.39s\n",
      "160:\tlearn: 0.4176993\ttotal: 457ms\tremaining: 2.38s\n",
      "161:\tlearn: 0.4172974\ttotal: 460ms\tremaining: 2.38s\n",
      "162:\tlearn: 0.4167978\ttotal: 462ms\tremaining: 2.37s\n",
      "163:\tlearn: 0.4159657\ttotal: 465ms\tremaining: 2.37s\n",
      "164:\tlearn: 0.4156800\ttotal: 467ms\tremaining: 2.36s\n",
      "165:\tlearn: 0.4153127\ttotal: 470ms\tremaining: 2.36s\n",
      "166:\tlearn: 0.4149928\ttotal: 472ms\tremaining: 2.35s\n",
      "167:\tlearn: 0.4146335\ttotal: 474ms\tremaining: 2.35s\n",
      "168:\tlearn: 0.4142452\ttotal: 477ms\tremaining: 2.34s\n",
      "169:\tlearn: 0.4138330\ttotal: 479ms\tremaining: 2.34s\n",
      "170:\tlearn: 0.4129649\ttotal: 482ms\tremaining: 2.33s\n",
      "171:\tlearn: 0.4125348\ttotal: 484ms\tremaining: 2.33s\n",
      "172:\tlearn: 0.4122010\ttotal: 486ms\tremaining: 2.32s\n",
      "173:\tlearn: 0.4116478\ttotal: 488ms\tremaining: 2.32s\n",
      "174:\tlearn: 0.4113205\ttotal: 491ms\tremaining: 2.31s\n",
      "175:\tlearn: 0.4109552\ttotal: 494ms\tremaining: 2.31s\n",
      "176:\tlearn: 0.4105536\ttotal: 496ms\tremaining: 2.31s\n",
      "177:\tlearn: 0.4101979\ttotal: 499ms\tremaining: 2.3s\n",
      "178:\tlearn: 0.4098361\ttotal: 501ms\tremaining: 2.3s\n",
      "179:\tlearn: 0.4094408\ttotal: 504ms\tremaining: 2.29s\n",
      "180:\tlearn: 0.4090515\ttotal: 506ms\tremaining: 2.29s\n",
      "181:\tlearn: 0.4086539\ttotal: 509ms\tremaining: 2.29s\n",
      "182:\tlearn: 0.4082153\ttotal: 511ms\tremaining: 2.28s\n",
      "183:\tlearn: 0.4078232\ttotal: 514ms\tremaining: 2.28s\n",
      "184:\tlearn: 0.4075585\ttotal: 516ms\tremaining: 2.27s\n"
     ]
    },
    {
     "name": "stdout",
     "output_type": "stream",
     "text": [
      "185:\tlearn: 0.4072732\ttotal: 519ms\tremaining: 2.27s\n",
      "186:\tlearn: 0.4069116\ttotal: 522ms\tremaining: 2.27s\n",
      "187:\tlearn: 0.4064463\ttotal: 524ms\tremaining: 2.26s\n",
      "188:\tlearn: 0.4062377\ttotal: 526ms\tremaining: 2.26s\n",
      "189:\tlearn: 0.4058573\ttotal: 529ms\tremaining: 2.25s\n",
      "190:\tlearn: 0.4054796\ttotal: 531ms\tremaining: 2.25s\n",
      "191:\tlearn: 0.4050720\ttotal: 534ms\tremaining: 2.25s\n",
      "192:\tlearn: 0.4047671\ttotal: 536ms\tremaining: 2.24s\n",
      "193:\tlearn: 0.4044317\ttotal: 539ms\tremaining: 2.24s\n",
      "194:\tlearn: 0.4041047\ttotal: 541ms\tremaining: 2.23s\n",
      "195:\tlearn: 0.4036198\ttotal: 544ms\tremaining: 2.23s\n",
      "196:\tlearn: 0.4031847\ttotal: 546ms\tremaining: 2.23s\n",
      "197:\tlearn: 0.4029488\ttotal: 549ms\tremaining: 2.22s\n",
      "198:\tlearn: 0.4026841\ttotal: 551ms\tremaining: 2.22s\n",
      "199:\tlearn: 0.4024053\ttotal: 554ms\tremaining: 2.21s\n",
      "200:\tlearn: 0.4019477\ttotal: 556ms\tremaining: 2.21s\n",
      "201:\tlearn: 0.4016509\ttotal: 558ms\tremaining: 2.21s\n",
      "202:\tlearn: 0.4011269\ttotal: 562ms\tremaining: 2.2s\n",
      "203:\tlearn: 0.4008125\ttotal: 564ms\tremaining: 2.2s\n",
      "204:\tlearn: 0.4004948\ttotal: 567ms\tremaining: 2.2s\n",
      "205:\tlearn: 0.4000701\ttotal: 570ms\tremaining: 2.19s\n",
      "206:\tlearn: 0.3998351\ttotal: 572ms\tremaining: 2.19s\n",
      "207:\tlearn: 0.3996183\ttotal: 575ms\tremaining: 2.19s\n",
      "208:\tlearn: 0.3993925\ttotal: 577ms\tremaining: 2.18s\n",
      "209:\tlearn: 0.3987331\ttotal: 579ms\tremaining: 2.18s\n",
      "210:\tlearn: 0.3982976\ttotal: 582ms\tremaining: 2.17s\n",
      "211:\tlearn: 0.3979129\ttotal: 584ms\tremaining: 2.17s\n"
     ]
    },
    {
     "name": "stdout",
     "output_type": "stream",
     "text": [
      "212:\tlearn: 0.3975829\ttotal: 586ms\tremaining: 2.17s\n",
      "213:\tlearn: 0.3971806\ttotal: 588ms\tremaining: 2.16s\n",
      "214:\tlearn: 0.3969839\ttotal: 591ms\tremaining: 2.16s\n",
      "215:\tlearn: 0.3966884\ttotal: 593ms\tremaining: 2.15s\n",
      "216:\tlearn: 0.3963106\ttotal: 595ms\tremaining: 2.15s\n",
      "217:\tlearn: 0.3958774\ttotal: 598ms\tremaining: 2.14s\n",
      "218:\tlearn: 0.3956790\ttotal: 600ms\tremaining: 2.14s\n",
      "219:\tlearn: 0.3955005\ttotal: 602ms\tremaining: 2.13s\n",
      "220:\tlearn: 0.3948983\ttotal: 604ms\tremaining: 2.13s\n",
      "221:\tlearn: 0.3945215\ttotal: 607ms\tremaining: 2.13s\n",
      "222:\tlearn: 0.3942408\ttotal: 610ms\tremaining: 2.12s\n",
      "223:\tlearn: 0.3939962\ttotal: 612ms\tremaining: 2.12s\n",
      "224:\tlearn: 0.3936300\ttotal: 614ms\tremaining: 2.12s\n",
      "225:\tlearn: 0.3933261\ttotal: 617ms\tremaining: 2.11s\n",
      "226:\tlearn: 0.3928751\ttotal: 619ms\tremaining: 2.11s\n",
      "227:\tlearn: 0.3925177\ttotal: 622ms\tremaining: 2.1s\n",
      "228:\tlearn: 0.3922890\ttotal: 624ms\tremaining: 2.1s\n",
      "229:\tlearn: 0.3919340\ttotal: 626ms\tremaining: 2.1s\n",
      "230:\tlearn: 0.3917031\ttotal: 629ms\tremaining: 2.09s\n",
      "231:\tlearn: 0.3915157\ttotal: 631ms\tremaining: 2.09s\n",
      "232:\tlearn: 0.3913541\ttotal: 634ms\tremaining: 2.08s\n",
      "233:\tlearn: 0.3912184\ttotal: 636ms\tremaining: 2.08s\n",
      "234:\tlearn: 0.3910518\ttotal: 638ms\tremaining: 2.08s\n",
      "235:\tlearn: 0.3908454\ttotal: 641ms\tremaining: 2.07s\n",
      "236:\tlearn: 0.3904922\ttotal: 643ms\tremaining: 2.07s\n",
      "237:\tlearn: 0.3901240\ttotal: 646ms\tremaining: 2.07s\n"
     ]
    },
    {
     "name": "stdout",
     "output_type": "stream",
     "text": [
      "238:\tlearn: 0.3898403\ttotal: 649ms\tremaining: 2.06s\n",
      "239:\tlearn: 0.3895431\ttotal: 651ms\tremaining: 2.06s\n",
      "240:\tlearn: 0.3892420\ttotal: 654ms\tremaining: 2.06s\n",
      "241:\tlearn: 0.3890738\ttotal: 656ms\tremaining: 2.06s\n",
      "242:\tlearn: 0.3888185\ttotal: 659ms\tremaining: 2.05s\n",
      "243:\tlearn: 0.3886421\ttotal: 661ms\tremaining: 2.05s\n",
      "244:\tlearn: 0.3883894\ttotal: 664ms\tremaining: 2.04s\n",
      "245:\tlearn: 0.3880461\ttotal: 666ms\tremaining: 2.04s\n",
      "246:\tlearn: 0.3878505\ttotal: 668ms\tremaining: 2.04s\n",
      "247:\tlearn: 0.3876194\ttotal: 671ms\tremaining: 2.03s\n",
      "248:\tlearn: 0.3873207\ttotal: 673ms\tremaining: 2.03s\n",
      "249:\tlearn: 0.3871958\ttotal: 675ms\tremaining: 2.03s\n",
      "250:\tlearn: 0.3869429\ttotal: 678ms\tremaining: 2.02s\n",
      "251:\tlearn: 0.3866045\ttotal: 680ms\tremaining: 2.02s\n",
      "252:\tlearn: 0.3863574\ttotal: 682ms\tremaining: 2.02s\n",
      "253:\tlearn: 0.3860870\ttotal: 685ms\tremaining: 2.01s\n",
      "254:\tlearn: 0.3859010\ttotal: 687ms\tremaining: 2.01s\n",
      "255:\tlearn: 0.3856056\ttotal: 690ms\tremaining: 2s\n",
      "256:\tlearn: 0.3853213\ttotal: 692ms\tremaining: 2s\n",
      "257:\tlearn: 0.3849798\ttotal: 695ms\tremaining: 2s\n",
      "258:\tlearn: 0.3847728\ttotal: 698ms\tremaining: 2s\n",
      "259:\tlearn: 0.3846303\ttotal: 700ms\tremaining: 1.99s\n",
      "260:\tlearn: 0.3843685\ttotal: 703ms\tremaining: 1.99s\n",
      "261:\tlearn: 0.3840964\ttotal: 705ms\tremaining: 1.99s\n",
      "262:\tlearn: 0.3837673\ttotal: 708ms\tremaining: 1.98s\n",
      "263:\tlearn: 0.3834008\ttotal: 710ms\tremaining: 1.98s\n",
      "264:\tlearn: 0.3831234\ttotal: 713ms\tremaining: 1.98s\n"
     ]
    },
    {
     "name": "stdout",
     "output_type": "stream",
     "text": [
      "265:\tlearn: 0.3829085\ttotal: 715ms\tremaining: 1.97s\n",
      "266:\tlearn: 0.3826123\ttotal: 718ms\tremaining: 1.97s\n",
      "267:\tlearn: 0.3823396\ttotal: 720ms\tremaining: 1.97s\n",
      "268:\tlearn: 0.3821348\ttotal: 724ms\tremaining: 1.97s\n",
      "269:\tlearn: 0.3818545\ttotal: 726ms\tremaining: 1.96s\n",
      "270:\tlearn: 0.3816040\ttotal: 729ms\tremaining: 1.96s\n",
      "271:\tlearn: 0.3812772\ttotal: 731ms\tremaining: 1.96s\n",
      "272:\tlearn: 0.3810233\ttotal: 734ms\tremaining: 1.95s\n",
      "273:\tlearn: 0.3807637\ttotal: 736ms\tremaining: 1.95s\n",
      "274:\tlearn: 0.3806255\ttotal: 738ms\tremaining: 1.95s\n",
      "275:\tlearn: 0.3804448\ttotal: 741ms\tremaining: 1.94s\n",
      "276:\tlearn: 0.3802744\ttotal: 743ms\tremaining: 1.94s\n",
      "277:\tlearn: 0.3800888\ttotal: 745ms\tremaining: 1.94s\n",
      "278:\tlearn: 0.3799046\ttotal: 748ms\tremaining: 1.93s\n",
      "279:\tlearn: 0.3797039\ttotal: 750ms\tremaining: 1.93s\n",
      "280:\tlearn: 0.3795504\ttotal: 752ms\tremaining: 1.92s\n",
      "281:\tlearn: 0.3792835\ttotal: 755ms\tremaining: 1.92s\n",
      "282:\tlearn: 0.3789765\ttotal: 757ms\tremaining: 1.92s\n",
      "283:\tlearn: 0.3787386\ttotal: 760ms\tremaining: 1.91s\n",
      "284:\tlearn: 0.3786183\ttotal: 762ms\tremaining: 1.91s\n",
      "285:\tlearn: 0.3783850\ttotal: 765ms\tremaining: 1.91s\n",
      "286:\tlearn: 0.3781250\ttotal: 767ms\tremaining: 1.91s\n",
      "287:\tlearn: 0.3777730\ttotal: 769ms\tremaining: 1.9s\n",
      "288:\tlearn: 0.3774780\ttotal: 772ms\tremaining: 1.9s\n",
      "289:\tlearn: 0.3770941\ttotal: 774ms\tremaining: 1.89s\n",
      "290:\tlearn: 0.3768653\ttotal: 776ms\tremaining: 1.89s\n",
      "291:\tlearn: 0.3766636\ttotal: 779ms\tremaining: 1.89s\n"
     ]
    },
    {
     "name": "stdout",
     "output_type": "stream",
     "text": [
      "292:\tlearn: 0.3765256\ttotal: 782ms\tremaining: 1.89s\n",
      "293:\tlearn: 0.3762822\ttotal: 784ms\tremaining: 1.88s\n",
      "294:\tlearn: 0.3760899\ttotal: 786ms\tremaining: 1.88s\n",
      "295:\tlearn: 0.3758105\ttotal: 790ms\tremaining: 1.88s\n",
      "296:\tlearn: 0.3755646\ttotal: 792ms\tremaining: 1.87s\n",
      "297:\tlearn: 0.3752959\ttotal: 795ms\tremaining: 1.87s\n",
      "298:\tlearn: 0.3751255\ttotal: 797ms\tremaining: 1.87s\n",
      "299:\tlearn: 0.3749189\ttotal: 799ms\tremaining: 1.86s\n",
      "300:\tlearn: 0.3748127\ttotal: 802ms\tremaining: 1.86s\n",
      "301:\tlearn: 0.3745685\ttotal: 804ms\tremaining: 1.86s\n",
      "302:\tlearn: 0.3744139\ttotal: 806ms\tremaining: 1.85s\n",
      "303:\tlearn: 0.3741719\ttotal: 809ms\tremaining: 1.85s\n",
      "304:\tlearn: 0.3737418\ttotal: 812ms\tremaining: 1.85s\n",
      "305:\tlearn: 0.3735022\ttotal: 814ms\tremaining: 1.84s\n",
      "306:\tlearn: 0.3732382\ttotal: 816ms\tremaining: 1.84s\n",
      "307:\tlearn: 0.3730677\ttotal: 819ms\tremaining: 1.84s\n",
      "308:\tlearn: 0.3728450\ttotal: 821ms\tremaining: 1.84s\n",
      "309:\tlearn: 0.3726736\ttotal: 824ms\tremaining: 1.83s\n",
      "310:\tlearn: 0.3725246\ttotal: 826ms\tremaining: 1.83s\n",
      "311:\tlearn: 0.3723888\ttotal: 829ms\tremaining: 1.83s\n",
      "312:\tlearn: 0.3722121\ttotal: 831ms\tremaining: 1.82s\n",
      "313:\tlearn: 0.3719963\ttotal: 834ms\tremaining: 1.82s\n",
      "314:\tlearn: 0.3718208\ttotal: 836ms\tremaining: 1.82s\n",
      "315:\tlearn: 0.3716328\ttotal: 838ms\tremaining: 1.81s\n",
      "316:\tlearn: 0.3714440\ttotal: 841ms\tremaining: 1.81s\n"
     ]
    },
    {
     "name": "stdout",
     "output_type": "stream",
     "text": [
      "317:\tlearn: 0.3712889\ttotal: 844ms\tremaining: 1.81s\n",
      "318:\tlearn: 0.3710555\ttotal: 846ms\tremaining: 1.81s\n",
      "319:\tlearn: 0.3708146\ttotal: 848ms\tremaining: 1.8s\n",
      "320:\tlearn: 0.3706470\ttotal: 851ms\tremaining: 1.8s\n",
      "321:\tlearn: 0.3705340\ttotal: 853ms\tremaining: 1.8s\n",
      "322:\tlearn: 0.3703714\ttotal: 856ms\tremaining: 1.79s\n",
      "323:\tlearn: 0.3701700\ttotal: 859ms\tremaining: 1.79s\n",
      "324:\tlearn: 0.3699092\ttotal: 861ms\tremaining: 1.79s\n",
      "325:\tlearn: 0.3697446\ttotal: 864ms\tremaining: 1.78s\n",
      "326:\tlearn: 0.3696147\ttotal: 866ms\tremaining: 1.78s\n",
      "327:\tlearn: 0.3695330\ttotal: 869ms\tremaining: 1.78s\n",
      "328:\tlearn: 0.3692799\ttotal: 871ms\tremaining: 1.78s\n",
      "329:\tlearn: 0.3691223\ttotal: 873ms\tremaining: 1.77s\n",
      "330:\tlearn: 0.3689191\ttotal: 875ms\tremaining: 1.77s\n",
      "331:\tlearn: 0.3688088\ttotal: 878ms\tremaining: 1.77s\n",
      "332:\tlearn: 0.3686267\ttotal: 880ms\tremaining: 1.76s\n",
      "333:\tlearn: 0.3684193\ttotal: 882ms\tremaining: 1.76s\n",
      "334:\tlearn: 0.3681247\ttotal: 885ms\tremaining: 1.76s\n",
      "335:\tlearn: 0.3680155\ttotal: 887ms\tremaining: 1.75s\n",
      "336:\tlearn: 0.3677305\ttotal: 890ms\tremaining: 1.75s\n",
      "337:\tlearn: 0.3675018\ttotal: 892ms\tremaining: 1.75s\n",
      "338:\tlearn: 0.3673760\ttotal: 895ms\tremaining: 1.74s\n",
      "339:\tlearn: 0.3671401\ttotal: 897ms\tremaining: 1.74s\n",
      "340:\tlearn: 0.3670382\ttotal: 899ms\tremaining: 1.74s\n",
      "341:\tlearn: 0.3668188\ttotal: 902ms\tremaining: 1.73s\n",
      "342:\tlearn: 0.3666145\ttotal: 904ms\tremaining: 1.73s\n",
      "343:\tlearn: 0.3663454\ttotal: 907ms\tremaining: 1.73s\n",
      "344:\tlearn: 0.3661618\ttotal: 909ms\tremaining: 1.73s\n"
     ]
    },
    {
     "name": "stdout",
     "output_type": "stream",
     "text": [
      "345:\tlearn: 0.3659745\ttotal: 912ms\tremaining: 1.72s\n",
      "346:\tlearn: 0.3657280\ttotal: 914ms\tremaining: 1.72s\n",
      "347:\tlearn: 0.3654562\ttotal: 916ms\tremaining: 1.72s\n",
      "348:\tlearn: 0.3653080\ttotal: 919ms\tremaining: 1.71s\n",
      "349:\tlearn: 0.3651524\ttotal: 921ms\tremaining: 1.71s\n",
      "350:\tlearn: 0.3649502\ttotal: 924ms\tremaining: 1.71s\n",
      "351:\tlearn: 0.3647441\ttotal: 927ms\tremaining: 1.71s\n",
      "352:\tlearn: 0.3645508\ttotal: 929ms\tremaining: 1.7s\n",
      "353:\tlearn: 0.3644047\ttotal: 932ms\tremaining: 1.7s\n",
      "354:\tlearn: 0.3642199\ttotal: 934ms\tremaining: 1.7s\n",
      "355:\tlearn: 0.3640577\ttotal: 937ms\tremaining: 1.69s\n",
      "356:\tlearn: 0.3638571\ttotal: 939ms\tremaining: 1.69s\n",
      "357:\tlearn: 0.3636634\ttotal: 942ms\tremaining: 1.69s\n",
      "358:\tlearn: 0.3634021\ttotal: 945ms\tremaining: 1.69s\n",
      "359:\tlearn: 0.3633011\ttotal: 948ms\tremaining: 1.68s\n",
      "360:\tlearn: 0.3631702\ttotal: 950ms\tremaining: 1.68s\n",
      "361:\tlearn: 0.3630682\ttotal: 953ms\tremaining: 1.68s\n",
      "362:\tlearn: 0.3629513\ttotal: 955ms\tremaining: 1.68s\n",
      "363:\tlearn: 0.3628460\ttotal: 957ms\tremaining: 1.67s\n",
      "364:\tlearn: 0.3626548\ttotal: 960ms\tremaining: 1.67s\n",
      "365:\tlearn: 0.3624433\ttotal: 962ms\tremaining: 1.67s\n",
      "366:\tlearn: 0.3623156\ttotal: 965ms\tremaining: 1.66s\n",
      "367:\tlearn: 0.3622231\ttotal: 968ms\tremaining: 1.66s\n",
      "368:\tlearn: 0.3621185\ttotal: 970ms\tremaining: 1.66s\n",
      "369:\tlearn: 0.3619429\ttotal: 972ms\tremaining: 1.66s\n",
      "370:\tlearn: 0.3617692\ttotal: 975ms\tremaining: 1.65s\n"
     ]
    },
    {
     "name": "stdout",
     "output_type": "stream",
     "text": [
      "371:\tlearn: 0.3616446\ttotal: 977ms\tremaining: 1.65s\n",
      "372:\tlearn: 0.3614898\ttotal: 980ms\tremaining: 1.65s\n",
      "373:\tlearn: 0.3613821\ttotal: 982ms\tremaining: 1.64s\n",
      "374:\tlearn: 0.3611739\ttotal: 985ms\tremaining: 1.64s\n",
      "375:\tlearn: 0.3608846\ttotal: 987ms\tremaining: 1.64s\n",
      "376:\tlearn: 0.3607000\ttotal: 989ms\tremaining: 1.64s\n",
      "377:\tlearn: 0.3604007\ttotal: 992ms\tremaining: 1.63s\n",
      "378:\tlearn: 0.3602536\ttotal: 994ms\tremaining: 1.63s\n",
      "379:\tlearn: 0.3601949\ttotal: 997ms\tremaining: 1.63s\n",
      "380:\tlearn: 0.3599639\ttotal: 1000ms\tremaining: 1.62s\n",
      "381:\tlearn: 0.3596065\ttotal: 1s\tremaining: 1.62s\n",
      "382:\tlearn: 0.3594855\ttotal: 1s\tremaining: 1.62s\n",
      "383:\tlearn: 0.3593863\ttotal: 1.01s\tremaining: 1.61s\n",
      "384:\tlearn: 0.3591687\ttotal: 1.01s\tremaining: 1.61s\n",
      "385:\tlearn: 0.3590754\ttotal: 1.01s\tremaining: 1.61s\n",
      "386:\tlearn: 0.3589400\ttotal: 1.01s\tremaining: 1.61s\n",
      "387:\tlearn: 0.3587539\ttotal: 1.02s\tremaining: 1.6s\n",
      "388:\tlearn: 0.3586134\ttotal: 1.02s\tremaining: 1.6s\n",
      "389:\tlearn: 0.3584045\ttotal: 1.02s\tremaining: 1.6s\n",
      "390:\tlearn: 0.3582667\ttotal: 1.02s\tremaining: 1.6s\n",
      "391:\tlearn: 0.3579786\ttotal: 1.03s\tremaining: 1.59s\n",
      "392:\tlearn: 0.3577741\ttotal: 1.03s\tremaining: 1.59s\n",
      "393:\tlearn: 0.3576507\ttotal: 1.03s\tremaining: 1.59s\n",
      "394:\tlearn: 0.3575286\ttotal: 1.03s\tremaining: 1.59s\n"
     ]
    },
    {
     "name": "stdout",
     "output_type": "stream",
     "text": [
      "395:\tlearn: 0.3573486\ttotal: 1.04s\tremaining: 1.58s\n",
      "396:\tlearn: 0.3571412\ttotal: 1.04s\tremaining: 1.58s\n",
      "397:\tlearn: 0.3570279\ttotal: 1.04s\tremaining: 1.58s\n",
      "398:\tlearn: 0.3568167\ttotal: 1.04s\tremaining: 1.57s\n",
      "399:\tlearn: 0.3566676\ttotal: 1.05s\tremaining: 1.57s\n",
      "400:\tlearn: 0.3565853\ttotal: 1.05s\tremaining: 1.57s\n",
      "401:\tlearn: 0.3564937\ttotal: 1.05s\tremaining: 1.57s\n",
      "402:\tlearn: 0.3563240\ttotal: 1.05s\tremaining: 1.56s\n",
      "403:\tlearn: 0.3561595\ttotal: 1.06s\tremaining: 1.56s\n",
      "404:\tlearn: 0.3560710\ttotal: 1.06s\tremaining: 1.56s\n",
      "405:\tlearn: 0.3557946\ttotal: 1.06s\tremaining: 1.55s\n",
      "406:\tlearn: 0.3556226\ttotal: 1.06s\tremaining: 1.55s\n",
      "407:\tlearn: 0.3553837\ttotal: 1.07s\tremaining: 1.55s\n",
      "408:\tlearn: 0.3552582\ttotal: 1.07s\tremaining: 1.54s\n",
      "409:\tlearn: 0.3550701\ttotal: 1.07s\tremaining: 1.54s\n",
      "410:\tlearn: 0.3549618\ttotal: 1.07s\tremaining: 1.54s\n",
      "411:\tlearn: 0.3548550\ttotal: 1.08s\tremaining: 1.54s\n",
      "412:\tlearn: 0.3547153\ttotal: 1.08s\tremaining: 1.53s\n",
      "413:\tlearn: 0.3545420\ttotal: 1.08s\tremaining: 1.53s\n",
      "414:\tlearn: 0.3544154\ttotal: 1.08s\tremaining: 1.53s\n",
      "415:\tlearn: 0.3542437\ttotal: 1.09s\tremaining: 1.52s\n",
      "416:\tlearn: 0.3541120\ttotal: 1.09s\tremaining: 1.52s\n",
      "417:\tlearn: 0.3539433\ttotal: 1.09s\tremaining: 1.52s\n",
      "418:\tlearn: 0.3537744\ttotal: 1.09s\tremaining: 1.52s\n",
      "419:\tlearn: 0.3536074\ttotal: 1.1s\tremaining: 1.51s\n",
      "420:\tlearn: 0.3534125\ttotal: 1.1s\tremaining: 1.51s\n",
      "421:\tlearn: 0.3532598\ttotal: 1.1s\tremaining: 1.51s\n",
      "422:\tlearn: 0.3531078\ttotal: 1.1s\tremaining: 1.5s\n"
     ]
    },
    {
     "name": "stdout",
     "output_type": "stream",
     "text": [
      "423:\tlearn: 0.3529225\ttotal: 1.11s\tremaining: 1.5s\n",
      "424:\tlearn: 0.3528261\ttotal: 1.11s\tremaining: 1.5s\n",
      "425:\tlearn: 0.3526095\ttotal: 1.11s\tremaining: 1.5s\n",
      "426:\tlearn: 0.3525252\ttotal: 1.11s\tremaining: 1.49s\n",
      "427:\tlearn: 0.3524160\ttotal: 1.11s\tremaining: 1.49s\n",
      "428:\tlearn: 0.3522454\ttotal: 1.12s\tremaining: 1.49s\n",
      "429:\tlearn: 0.3521214\ttotal: 1.12s\tremaining: 1.49s\n",
      "430:\tlearn: 0.3519323\ttotal: 1.12s\tremaining: 1.48s\n",
      "431:\tlearn: 0.3518456\ttotal: 1.13s\tremaining: 1.48s\n",
      "432:\tlearn: 0.3517301\ttotal: 1.13s\tremaining: 1.48s\n",
      "433:\tlearn: 0.3515645\ttotal: 1.13s\tremaining: 1.47s\n",
      "434:\tlearn: 0.3514561\ttotal: 1.13s\tremaining: 1.47s\n",
      "435:\tlearn: 0.3513193\ttotal: 1.14s\tremaining: 1.47s\n",
      "436:\tlearn: 0.3511312\ttotal: 1.14s\tremaining: 1.47s\n",
      "437:\tlearn: 0.3509786\ttotal: 1.14s\tremaining: 1.46s\n",
      "438:\tlearn: 0.3508787\ttotal: 1.14s\tremaining: 1.46s\n",
      "439:\tlearn: 0.3506898\ttotal: 1.14s\tremaining: 1.46s\n",
      "440:\tlearn: 0.3505323\ttotal: 1.15s\tremaining: 1.45s\n",
      "441:\tlearn: 0.3504133\ttotal: 1.15s\tremaining: 1.45s\n",
      "442:\tlearn: 0.3503111\ttotal: 1.15s\tremaining: 1.45s\n",
      "443:\tlearn: 0.3501399\ttotal: 1.16s\tremaining: 1.45s\n",
      "444:\tlearn: 0.3499758\ttotal: 1.16s\tremaining: 1.44s\n",
      "445:\tlearn: 0.3498581\ttotal: 1.16s\tremaining: 1.44s\n",
      "446:\tlearn: 0.3497088\ttotal: 1.16s\tremaining: 1.44s\n",
      "447:\tlearn: 0.3495431\ttotal: 1.16s\tremaining: 1.43s\n",
      "448:\tlearn: 0.3493269\ttotal: 1.17s\tremaining: 1.43s\n",
      "449:\tlearn: 0.3492448\ttotal: 1.17s\tremaining: 1.43s\n",
      "450:\tlearn: 0.3491083\ttotal: 1.17s\tremaining: 1.43s\n"
     ]
    },
    {
     "name": "stdout",
     "output_type": "stream",
     "text": [
      "451:\tlearn: 0.3490100\ttotal: 1.17s\tremaining: 1.42s\n",
      "452:\tlearn: 0.3489167\ttotal: 1.18s\tremaining: 1.42s\n",
      "453:\tlearn: 0.3487495\ttotal: 1.18s\tremaining: 1.42s\n",
      "454:\tlearn: 0.3485936\ttotal: 1.18s\tremaining: 1.42s\n",
      "455:\tlearn: 0.3485107\ttotal: 1.18s\tremaining: 1.41s\n",
      "456:\tlearn: 0.3483499\ttotal: 1.19s\tremaining: 1.41s\n",
      "457:\tlearn: 0.3482231\ttotal: 1.19s\tremaining: 1.41s\n",
      "458:\tlearn: 0.3480517\ttotal: 1.19s\tremaining: 1.4s\n",
      "459:\tlearn: 0.3478235\ttotal: 1.19s\tremaining: 1.4s\n",
      "460:\tlearn: 0.3476695\ttotal: 1.2s\tremaining: 1.4s\n",
      "461:\tlearn: 0.3474858\ttotal: 1.2s\tremaining: 1.4s\n",
      "462:\tlearn: 0.3472649\ttotal: 1.2s\tremaining: 1.39s\n",
      "463:\tlearn: 0.3471196\ttotal: 1.2s\tremaining: 1.39s\n",
      "464:\tlearn: 0.3469947\ttotal: 1.21s\tremaining: 1.39s\n",
      "465:\tlearn: 0.3468981\ttotal: 1.21s\tremaining: 1.39s\n",
      "466:\tlearn: 0.3467606\ttotal: 1.21s\tremaining: 1.38s\n",
      "467:\tlearn: 0.3465237\ttotal: 1.21s\tremaining: 1.38s\n",
      "468:\tlearn: 0.3463552\ttotal: 1.22s\tremaining: 1.38s\n",
      "469:\tlearn: 0.3462148\ttotal: 1.22s\tremaining: 1.37s\n",
      "470:\tlearn: 0.3460943\ttotal: 1.22s\tremaining: 1.37s\n",
      "471:\tlearn: 0.3459735\ttotal: 1.22s\tremaining: 1.37s\n",
      "472:\tlearn: 0.3458522\ttotal: 1.23s\tremaining: 1.37s\n",
      "473:\tlearn: 0.3457874\ttotal: 1.23s\tremaining: 1.36s\n",
      "474:\tlearn: 0.3456335\ttotal: 1.23s\tremaining: 1.36s\n"
     ]
    },
    {
     "name": "stdout",
     "output_type": "stream",
     "text": [
      "475:\tlearn: 0.3455229\ttotal: 1.23s\tremaining: 1.36s\n",
      "476:\tlearn: 0.3453698\ttotal: 1.24s\tremaining: 1.35s\n",
      "477:\tlearn: 0.3451478\ttotal: 1.24s\tremaining: 1.35s\n",
      "478:\tlearn: 0.3450200\ttotal: 1.24s\tremaining: 1.35s\n",
      "479:\tlearn: 0.3448679\ttotal: 1.24s\tremaining: 1.35s\n",
      "480:\tlearn: 0.3447296\ttotal: 1.25s\tremaining: 1.34s\n",
      "481:\tlearn: 0.3446433\ttotal: 1.25s\tremaining: 1.34s\n",
      "482:\tlearn: 0.3445333\ttotal: 1.25s\tremaining: 1.34s\n",
      "483:\tlearn: 0.3443340\ttotal: 1.25s\tremaining: 1.34s\n",
      "484:\tlearn: 0.3442461\ttotal: 1.26s\tremaining: 1.33s\n",
      "485:\tlearn: 0.3441499\ttotal: 1.26s\tremaining: 1.33s\n",
      "486:\tlearn: 0.3440958\ttotal: 1.26s\tremaining: 1.33s\n",
      "487:\tlearn: 0.3439740\ttotal: 1.26s\tremaining: 1.32s\n",
      "488:\tlearn: 0.3437765\ttotal: 1.26s\tremaining: 1.32s\n",
      "489:\tlearn: 0.3436553\ttotal: 1.27s\tremaining: 1.32s\n",
      "490:\tlearn: 0.3435049\ttotal: 1.27s\tremaining: 1.32s\n",
      "491:\tlearn: 0.3434195\ttotal: 1.27s\tremaining: 1.31s\n",
      "492:\tlearn: 0.3432886\ttotal: 1.27s\tremaining: 1.31s\n",
      "493:\tlearn: 0.3430561\ttotal: 1.28s\tremaining: 1.31s\n",
      "494:\tlearn: 0.3428783\ttotal: 1.28s\tremaining: 1.31s\n",
      "495:\tlearn: 0.3427237\ttotal: 1.28s\tremaining: 1.3s\n",
      "496:\tlearn: 0.3426529\ttotal: 1.28s\tremaining: 1.3s\n",
      "497:\tlearn: 0.3425491\ttotal: 1.29s\tremaining: 1.3s\n",
      "498:\tlearn: 0.3424452\ttotal: 1.29s\tremaining: 1.3s\n",
      "499:\tlearn: 0.3423619\ttotal: 1.3s\tremaining: 1.3s\n",
      "500:\tlearn: 0.3422243\ttotal: 1.3s\tremaining: 1.29s\n"
     ]
    },
    {
     "name": "stdout",
     "output_type": "stream",
     "text": [
      "501:\tlearn: 0.3421133\ttotal: 1.3s\tremaining: 1.29s\n",
      "502:\tlearn: 0.3419946\ttotal: 1.3s\tremaining: 1.29s\n",
      "503:\tlearn: 0.3418917\ttotal: 1.31s\tremaining: 1.29s\n",
      "504:\tlearn: 0.3417641\ttotal: 1.35s\tremaining: 1.33s\n",
      "505:\tlearn: 0.3415672\ttotal: 1.36s\tremaining: 1.32s\n",
      "506:\tlearn: 0.3413501\ttotal: 1.36s\tremaining: 1.32s\n",
      "507:\tlearn: 0.3412628\ttotal: 1.36s\tremaining: 1.32s\n",
      "508:\tlearn: 0.3411546\ttotal: 1.36s\tremaining: 1.31s\n",
      "509:\tlearn: 0.3409826\ttotal: 1.37s\tremaining: 1.31s\n",
      "510:\tlearn: 0.3408190\ttotal: 1.37s\tremaining: 1.31s\n"
     ]
    },
    {
     "name": "stdout",
     "output_type": "stream",
     "text": [
      "511:\tlearn: 0.3407116\ttotal: 1.37s\tremaining: 1.31s\n",
      "512:\tlearn: 0.3406024\ttotal: 1.37s\tremaining: 1.3s\n",
      "513:\tlearn: 0.3404536\ttotal: 1.38s\tremaining: 1.3s\n",
      "514:\tlearn: 0.3402777\ttotal: 1.38s\tremaining: 1.3s\n",
      "515:\tlearn: 0.3402185\ttotal: 1.38s\tremaining: 1.29s\n",
      "516:\tlearn: 0.3400643\ttotal: 1.38s\tremaining: 1.29s\n",
      "517:\tlearn: 0.3399183\ttotal: 1.39s\tremaining: 1.29s\n",
      "518:\tlearn: 0.3397206\ttotal: 1.39s\tremaining: 1.29s\n",
      "519:\tlearn: 0.3396208\ttotal: 1.39s\tremaining: 1.28s\n",
      "520:\tlearn: 0.3394939\ttotal: 1.39s\tremaining: 1.28s\n",
      "521:\tlearn: 0.3393282\ttotal: 1.4s\tremaining: 1.28s\n",
      "522:\tlearn: 0.3392145\ttotal: 1.4s\tremaining: 1.27s\n",
      "523:\tlearn: 0.3390819\ttotal: 1.4s\tremaining: 1.27s\n",
      "524:\tlearn: 0.3389608\ttotal: 1.4s\tremaining: 1.27s\n",
      "525:\tlearn: 0.3388765\ttotal: 1.41s\tremaining: 1.27s\n",
      "526:\tlearn: 0.3387957\ttotal: 1.41s\tremaining: 1.26s\n",
      "527:\tlearn: 0.3386189\ttotal: 1.41s\tremaining: 1.26s\n",
      "528:\tlearn: 0.3385239\ttotal: 1.41s\tremaining: 1.26s\n",
      "529:\tlearn: 0.3383822\ttotal: 1.42s\tremaining: 1.25s\n",
      "530:\tlearn: 0.3382847\ttotal: 1.42s\tremaining: 1.25s\n",
      "531:\tlearn: 0.3381564\ttotal: 1.42s\tremaining: 1.25s\n",
      "532:\tlearn: 0.3380696\ttotal: 1.43s\tremaining: 1.25s\n"
     ]
    },
    {
     "name": "stdout",
     "output_type": "stream",
     "text": [
      "533:\tlearn: 0.3379167\ttotal: 1.43s\tremaining: 1.25s\n",
      "534:\tlearn: 0.3378291\ttotal: 1.43s\tremaining: 1.24s\n",
      "535:\tlearn: 0.3377135\ttotal: 1.43s\tremaining: 1.24s\n",
      "536:\tlearn: 0.3376633\ttotal: 1.44s\tremaining: 1.24s\n",
      "537:\tlearn: 0.3375008\ttotal: 1.44s\tremaining: 1.24s\n",
      "538:\tlearn: 0.3373907\ttotal: 1.44s\tremaining: 1.23s\n",
      "539:\tlearn: 0.3372878\ttotal: 1.45s\tremaining: 1.23s\n",
      "540:\tlearn: 0.3371409\ttotal: 1.45s\tremaining: 1.23s\n",
      "541:\tlearn: 0.3370116\ttotal: 1.45s\tremaining: 1.23s\n",
      "542:\tlearn: 0.3368567\ttotal: 1.45s\tremaining: 1.22s\n",
      "543:\tlearn: 0.3366381\ttotal: 1.45s\tremaining: 1.22s\n",
      "544:\tlearn: 0.3364922\ttotal: 1.46s\tremaining: 1.22s\n",
      "545:\tlearn: 0.3363541\ttotal: 1.46s\tremaining: 1.21s\n",
      "546:\tlearn: 0.3362386\ttotal: 1.46s\tremaining: 1.21s\n",
      "547:\tlearn: 0.3361607\ttotal: 1.46s\tremaining: 1.21s\n",
      "548:\tlearn: 0.3360425\ttotal: 1.47s\tremaining: 1.21s\n",
      "549:\tlearn: 0.3359106\ttotal: 1.47s\tremaining: 1.2s\n",
      "550:\tlearn: 0.3358109\ttotal: 1.47s\tremaining: 1.2s\n",
      "551:\tlearn: 0.3356832\ttotal: 1.47s\tremaining: 1.2s\n",
      "552:\tlearn: 0.3356086\ttotal: 1.48s\tremaining: 1.19s\n",
      "553:\tlearn: 0.3355346\ttotal: 1.48s\tremaining: 1.19s\n",
      "554:\tlearn: 0.3354366\ttotal: 1.48s\tremaining: 1.19s\n",
      "555:\tlearn: 0.3353371\ttotal: 1.49s\tremaining: 1.19s\n",
      "556:\tlearn: 0.3351873\ttotal: 1.49s\tremaining: 1.18s\n",
      "557:\tlearn: 0.3350805\ttotal: 1.49s\tremaining: 1.18s\n",
      "558:\tlearn: 0.3349817\ttotal: 1.49s\tremaining: 1.18s\n",
      "559:\tlearn: 0.3348448\ttotal: 1.5s\tremaining: 1.17s\n"
     ]
    },
    {
     "name": "stdout",
     "output_type": "stream",
     "text": [
      "560:\tlearn: 0.3347539\ttotal: 1.5s\tremaining: 1.17s\n",
      "561:\tlearn: 0.3346849\ttotal: 1.5s\tremaining: 1.17s\n",
      "562:\tlearn: 0.3345869\ttotal: 1.5s\tremaining: 1.17s\n",
      "563:\tlearn: 0.3345107\ttotal: 1.5s\tremaining: 1.16s\n",
      "564:\tlearn: 0.3344300\ttotal: 1.51s\tremaining: 1.16s\n",
      "565:\tlearn: 0.3343077\ttotal: 1.51s\tremaining: 1.16s\n",
      "566:\tlearn: 0.3341412\ttotal: 1.51s\tremaining: 1.16s\n",
      "567:\tlearn: 0.3340167\ttotal: 1.51s\tremaining: 1.15s\n",
      "568:\tlearn: 0.3339102\ttotal: 1.52s\tremaining: 1.15s\n",
      "569:\tlearn: 0.3338292\ttotal: 1.52s\tremaining: 1.15s\n",
      "570:\tlearn: 0.3337031\ttotal: 1.52s\tremaining: 1.14s\n",
      "571:\tlearn: 0.3336174\ttotal: 1.53s\tremaining: 1.14s\n",
      "572:\tlearn: 0.3335246\ttotal: 1.53s\tremaining: 1.14s\n",
      "573:\tlearn: 0.3333947\ttotal: 1.53s\tremaining: 1.14s\n",
      "574:\tlearn: 0.3333242\ttotal: 1.53s\tremaining: 1.13s\n",
      "575:\tlearn: 0.3332174\ttotal: 1.54s\tremaining: 1.13s\n",
      "576:\tlearn: 0.3331194\ttotal: 1.54s\tremaining: 1.13s\n",
      "577:\tlearn: 0.3329575\ttotal: 1.54s\tremaining: 1.13s\n",
      "578:\tlearn: 0.3328788\ttotal: 1.54s\tremaining: 1.12s\n",
      "579:\tlearn: 0.3327212\ttotal: 1.54s\tremaining: 1.12s\n",
      "580:\tlearn: 0.3325767\ttotal: 1.55s\tremaining: 1.12s\n",
      "581:\tlearn: 0.3324570\ttotal: 1.55s\tremaining: 1.11s\n",
      "582:\tlearn: 0.3323612\ttotal: 1.55s\tremaining: 1.11s\n",
      "583:\tlearn: 0.3322848\ttotal: 1.55s\tremaining: 1.11s\n",
      "584:\tlearn: 0.3322279\ttotal: 1.56s\tremaining: 1.1s\n",
      "585:\tlearn: 0.3321547\ttotal: 1.56s\tremaining: 1.1s\n",
      "586:\tlearn: 0.3319925\ttotal: 1.56s\tremaining: 1.1s\n"
     ]
    },
    {
     "name": "stdout",
     "output_type": "stream",
     "text": [
      "587:\tlearn: 0.3319184\ttotal: 1.57s\tremaining: 1.1s\n",
      "588:\tlearn: 0.3318377\ttotal: 1.57s\tremaining: 1.09s\n",
      "589:\tlearn: 0.3316883\ttotal: 1.57s\tremaining: 1.09s\n",
      "590:\tlearn: 0.3315634\ttotal: 1.57s\tremaining: 1.09s\n",
      "591:\tlearn: 0.3314403\ttotal: 1.58s\tremaining: 1.09s\n",
      "592:\tlearn: 0.3313746\ttotal: 1.58s\tremaining: 1.08s\n",
      "593:\tlearn: 0.3312345\ttotal: 1.58s\tremaining: 1.08s\n",
      "594:\tlearn: 0.3311503\ttotal: 1.58s\tremaining: 1.08s\n",
      "595:\tlearn: 0.3310928\ttotal: 1.59s\tremaining: 1.07s\n",
      "596:\tlearn: 0.3310066\ttotal: 1.59s\tremaining: 1.07s\n",
      "597:\tlearn: 0.3308540\ttotal: 1.59s\tremaining: 1.07s\n",
      "598:\tlearn: 0.3307520\ttotal: 1.59s\tremaining: 1.07s\n",
      "599:\tlearn: 0.3306871\ttotal: 1.6s\tremaining: 1.06s\n",
      "600:\tlearn: 0.3305845\ttotal: 1.6s\tremaining: 1.06s\n",
      "601:\tlearn: 0.3304577\ttotal: 1.6s\tremaining: 1.06s\n",
      "602:\tlearn: 0.3303742\ttotal: 1.6s\tremaining: 1.05s\n",
      "603:\tlearn: 0.3302855\ttotal: 1.6s\tremaining: 1.05s\n",
      "604:\tlearn: 0.3301609\ttotal: 1.61s\tremaining: 1.05s\n",
      "605:\tlearn: 0.3300090\ttotal: 1.61s\tremaining: 1.05s\n",
      "606:\tlearn: 0.3299112\ttotal: 1.61s\tremaining: 1.04s\n",
      "607:\tlearn: 0.3298185\ttotal: 1.61s\tremaining: 1.04s\n",
      "608:\tlearn: 0.3296084\ttotal: 1.62s\tremaining: 1.04s\n",
      "609:\tlearn: 0.3294715\ttotal: 1.62s\tremaining: 1.04s\n"
     ]
    },
    {
     "name": "stdout",
     "output_type": "stream",
     "text": [
      "610:\tlearn: 0.3294336\ttotal: 1.62s\tremaining: 1.03s\n",
      "611:\tlearn: 0.3293330\ttotal: 1.63s\tremaining: 1.03s\n",
      "612:\tlearn: 0.3292575\ttotal: 1.63s\tremaining: 1.03s\n",
      "613:\tlearn: 0.3291698\ttotal: 1.63s\tremaining: 1.02s\n",
      "614:\tlearn: 0.3291239\ttotal: 1.63s\tremaining: 1.02s\n",
      "615:\tlearn: 0.3289873\ttotal: 1.64s\tremaining: 1.02s\n",
      "616:\tlearn: 0.3288205\ttotal: 1.64s\tremaining: 1.02s\n",
      "617:\tlearn: 0.3287077\ttotal: 1.64s\tremaining: 1.01s\n",
      "618:\tlearn: 0.3285864\ttotal: 1.64s\tremaining: 1.01s\n",
      "619:\tlearn: 0.3285204\ttotal: 1.65s\tremaining: 1.01s\n",
      "620:\tlearn: 0.3284198\ttotal: 1.65s\tremaining: 1.01s\n",
      "621:\tlearn: 0.3283571\ttotal: 1.65s\tremaining: 1s\n",
      "622:\tlearn: 0.3282860\ttotal: 1.65s\tremaining: 1s\n",
      "623:\tlearn: 0.3281923\ttotal: 1.66s\tremaining: 998ms\n",
      "624:\tlearn: 0.3280977\ttotal: 1.66s\tremaining: 995ms\n",
      "625:\tlearn: 0.3280527\ttotal: 1.66s\tremaining: 992ms\n",
      "626:\tlearn: 0.3279750\ttotal: 1.66s\tremaining: 989ms\n",
      "627:\tlearn: 0.3278666\ttotal: 1.67s\tremaining: 987ms\n",
      "628:\tlearn: 0.3277975\ttotal: 1.67s\tremaining: 984ms\n",
      "629:\tlearn: 0.3275617\ttotal: 1.67s\tremaining: 981ms\n",
      "630:\tlearn: 0.3274815\ttotal: 1.67s\tremaining: 978ms\n",
      "631:\tlearn: 0.3274056\ttotal: 1.68s\tremaining: 976ms\n",
      "632:\tlearn: 0.3273135\ttotal: 1.68s\tremaining: 973ms\n",
      "633:\tlearn: 0.3272168\ttotal: 1.68s\tremaining: 970ms\n",
      "634:\tlearn: 0.3271208\ttotal: 1.68s\tremaining: 967ms\n",
      "635:\tlearn: 0.3270453\ttotal: 1.68s\tremaining: 964ms\n",
      "636:\tlearn: 0.3269756\ttotal: 1.69s\tremaining: 961ms\n",
      "637:\tlearn: 0.3268751\ttotal: 1.69s\tremaining: 959ms\n"
     ]
    },
    {
     "name": "stdout",
     "output_type": "stream",
     "text": [
      "638:\tlearn: 0.3267210\ttotal: 1.69s\tremaining: 956ms\n",
      "639:\tlearn: 0.3266260\ttotal: 1.69s\tremaining: 953ms\n",
      "640:\tlearn: 0.3264778\ttotal: 1.7s\tremaining: 950ms\n",
      "641:\tlearn: 0.3263457\ttotal: 1.7s\tremaining: 948ms\n",
      "642:\tlearn: 0.3262032\ttotal: 1.7s\tremaining: 945ms\n",
      "643:\tlearn: 0.3260115\ttotal: 1.7s\tremaining: 942ms\n",
      "644:\tlearn: 0.3258675\ttotal: 1.71s\tremaining: 940ms\n",
      "645:\tlearn: 0.3257485\ttotal: 1.71s\tremaining: 937ms\n",
      "646:\tlearn: 0.3256764\ttotal: 1.71s\tremaining: 934ms\n",
      "647:\tlearn: 0.3255632\ttotal: 1.71s\tremaining: 931ms\n",
      "648:\tlearn: 0.3254701\ttotal: 1.72s\tremaining: 928ms\n",
      "649:\tlearn: 0.3253696\ttotal: 1.72s\tremaining: 926ms\n",
      "650:\tlearn: 0.3252487\ttotal: 1.72s\tremaining: 923ms\n",
      "651:\tlearn: 0.3251226\ttotal: 1.72s\tremaining: 920ms\n",
      "652:\tlearn: 0.3249837\ttotal: 1.73s\tremaining: 918ms\n",
      "653:\tlearn: 0.3248919\ttotal: 1.73s\tremaining: 915ms\n",
      "654:\tlearn: 0.3248186\ttotal: 1.73s\tremaining: 912ms\n",
      "655:\tlearn: 0.3247491\ttotal: 1.73s\tremaining: 909ms\n",
      "656:\tlearn: 0.3246843\ttotal: 1.74s\tremaining: 907ms\n",
      "657:\tlearn: 0.3246139\ttotal: 1.74s\tremaining: 904ms\n",
      "658:\tlearn: 0.3244975\ttotal: 1.74s\tremaining: 901ms\n",
      "659:\tlearn: 0.3244210\ttotal: 1.74s\tremaining: 898ms\n",
      "660:\tlearn: 0.3243043\ttotal: 1.75s\tremaining: 896ms\n",
      "661:\tlearn: 0.3242371\ttotal: 1.75s\tremaining: 893ms\n",
      "662:\tlearn: 0.3241468\ttotal: 1.75s\tremaining: 890ms\n",
      "663:\tlearn: 0.3240413\ttotal: 1.75s\tremaining: 888ms\n",
      "664:\tlearn: 0.3239319\ttotal: 1.76s\tremaining: 885ms\n",
      "665:\tlearn: 0.3238201\ttotal: 1.76s\tremaining: 882ms\n"
     ]
    },
    {
     "name": "stdout",
     "output_type": "stream",
     "text": [
      "666:\tlearn: 0.3236607\ttotal: 1.76s\tremaining: 880ms\n",
      "667:\tlearn: 0.3235256\ttotal: 1.76s\tremaining: 877ms\n",
      "668:\tlearn: 0.3234075\ttotal: 1.77s\tremaining: 874ms\n",
      "669:\tlearn: 0.3233473\ttotal: 1.77s\tremaining: 872ms\n",
      "670:\tlearn: 0.3232345\ttotal: 1.77s\tremaining: 869ms\n",
      "671:\tlearn: 0.3231012\ttotal: 1.77s\tremaining: 866ms\n",
      "672:\tlearn: 0.3229901\ttotal: 1.78s\tremaining: 864ms\n",
      "673:\tlearn: 0.3228786\ttotal: 1.78s\tremaining: 861ms\n",
      "674:\tlearn: 0.3227782\ttotal: 1.78s\tremaining: 858ms\n",
      "675:\tlearn: 0.3226524\ttotal: 1.78s\tremaining: 855ms\n",
      "676:\tlearn: 0.3225363\ttotal: 1.79s\tremaining: 852ms\n",
      "677:\tlearn: 0.3224561\ttotal: 1.79s\tremaining: 850ms\n",
      "678:\tlearn: 0.3223261\ttotal: 1.79s\tremaining: 847ms\n",
      "679:\tlearn: 0.3222087\ttotal: 1.79s\tremaining: 844ms\n",
      "680:\tlearn: 0.3221227\ttotal: 1.79s\tremaining: 841ms\n",
      "681:\tlearn: 0.3220244\ttotal: 1.8s\tremaining: 838ms\n",
      "682:\tlearn: 0.3219331\ttotal: 1.8s\tremaining: 836ms\n",
      "683:\tlearn: 0.3218299\ttotal: 1.8s\tremaining: 833ms\n",
      "684:\tlearn: 0.3217587\ttotal: 1.8s\tremaining: 830ms\n",
      "685:\tlearn: 0.3216505\ttotal: 1.81s\tremaining: 827ms\n",
      "686:\tlearn: 0.3215752\ttotal: 1.81s\tremaining: 825ms\n",
      "687:\tlearn: 0.3214639\ttotal: 1.81s\tremaining: 822ms\n",
      "688:\tlearn: 0.3213094\ttotal: 1.81s\tremaining: 819ms\n"
     ]
    },
    {
     "name": "stdout",
     "output_type": "stream",
     "text": [
      "689:\tlearn: 0.3211798\ttotal: 1.82s\tremaining: 817ms\n",
      "690:\tlearn: 0.3210503\ttotal: 1.82s\tremaining: 814ms\n",
      "691:\tlearn: 0.3209327\ttotal: 1.82s\tremaining: 811ms\n",
      "692:\tlearn: 0.3208755\ttotal: 1.82s\tremaining: 808ms\n",
      "693:\tlearn: 0.3207935\ttotal: 1.83s\tremaining: 806ms\n",
      "694:\tlearn: 0.3207168\ttotal: 1.83s\tremaining: 803ms\n",
      "695:\tlearn: 0.3206403\ttotal: 1.83s\tremaining: 800ms\n",
      "696:\tlearn: 0.3204784\ttotal: 1.83s\tremaining: 797ms\n",
      "697:\tlearn: 0.3203754\ttotal: 1.84s\tremaining: 795ms\n",
      "698:\tlearn: 0.3202868\ttotal: 1.84s\tremaining: 792ms\n",
      "699:\tlearn: 0.3201609\ttotal: 1.84s\tremaining: 789ms\n",
      "700:\tlearn: 0.3200635\ttotal: 1.84s\tremaining: 787ms\n",
      "701:\tlearn: 0.3199664\ttotal: 1.85s\tremaining: 784ms\n",
      "702:\tlearn: 0.3199076\ttotal: 1.85s\tremaining: 781ms\n",
      "703:\tlearn: 0.3198290\ttotal: 1.85s\tremaining: 779ms\n",
      "704:\tlearn: 0.3197220\ttotal: 1.85s\tremaining: 776ms\n",
      "705:\tlearn: 0.3196542\ttotal: 1.86s\tremaining: 773ms\n",
      "706:\tlearn: 0.3195435\ttotal: 1.86s\tremaining: 770ms\n",
      "707:\tlearn: 0.3194611\ttotal: 1.86s\tremaining: 767ms\n",
      "708:\tlearn: 0.3193241\ttotal: 1.86s\tremaining: 765ms\n",
      "709:\tlearn: 0.3192443\ttotal: 1.86s\tremaining: 762ms\n",
      "710:\tlearn: 0.3191812\ttotal: 1.87s\tremaining: 759ms\n",
      "711:\tlearn: 0.3190868\ttotal: 1.87s\tremaining: 757ms\n",
      "712:\tlearn: 0.3189963\ttotal: 1.87s\tremaining: 754ms\n",
      "713:\tlearn: 0.3189187\ttotal: 1.88s\tremaining: 751ms\n",
      "714:\tlearn: 0.3188206\ttotal: 1.88s\tremaining: 749ms\n",
      "715:\tlearn: 0.3187362\ttotal: 1.88s\tremaining: 746ms\n",
      "716:\tlearn: 0.3186206\ttotal: 1.88s\tremaining: 743ms\n",
      "717:\tlearn: 0.3185475\ttotal: 1.89s\tremaining: 741ms\n"
     ]
    },
    {
     "name": "stdout",
     "output_type": "stream",
     "text": [
      "718:\tlearn: 0.3184694\ttotal: 1.89s\tremaining: 738ms\n",
      "719:\tlearn: 0.3183148\ttotal: 1.89s\tremaining: 735ms\n",
      "720:\tlearn: 0.3181831\ttotal: 1.89s\tremaining: 733ms\n",
      "721:\tlearn: 0.3181098\ttotal: 1.9s\tremaining: 730ms\n",
      "722:\tlearn: 0.3180592\ttotal: 1.9s\tremaining: 727ms\n",
      "723:\tlearn: 0.3179650\ttotal: 1.9s\tremaining: 725ms\n",
      "724:\tlearn: 0.3178636\ttotal: 1.9s\tremaining: 722ms\n",
      "725:\tlearn: 0.3178062\ttotal: 1.91s\tremaining: 719ms\n",
      "726:\tlearn: 0.3176821\ttotal: 1.91s\tremaining: 717ms\n",
      "727:\tlearn: 0.3175343\ttotal: 1.91s\tremaining: 714ms\n",
      "728:\tlearn: 0.3174540\ttotal: 1.91s\tremaining: 711ms\n",
      "729:\tlearn: 0.3173890\ttotal: 1.92s\tremaining: 709ms\n",
      "730:\tlearn: 0.3173124\ttotal: 1.92s\tremaining: 706ms\n",
      "731:\tlearn: 0.3171810\ttotal: 1.92s\tremaining: 703ms\n",
      "732:\tlearn: 0.3171293\ttotal: 1.92s\tremaining: 700ms\n",
      "733:\tlearn: 0.3170235\ttotal: 1.93s\tremaining: 698ms\n",
      "734:\tlearn: 0.3169203\ttotal: 1.93s\tremaining: 695ms\n",
      "735:\tlearn: 0.3168333\ttotal: 1.93s\tremaining: 692ms\n",
      "736:\tlearn: 0.3167535\ttotal: 1.93s\tremaining: 690ms\n",
      "737:\tlearn: 0.3166590\ttotal: 1.93s\tremaining: 687ms\n",
      "738:\tlearn: 0.3165516\ttotal: 1.94s\tremaining: 684ms\n",
      "739:\tlearn: 0.3165148\ttotal: 1.94s\tremaining: 682ms\n",
      "740:\tlearn: 0.3163864\ttotal: 1.94s\tremaining: 679ms\n",
      "741:\tlearn: 0.3163149\ttotal: 1.94s\tremaining: 676ms\n",
      "742:\tlearn: 0.3162810\ttotal: 1.95s\tremaining: 674ms\n",
      "743:\tlearn: 0.3162333\ttotal: 1.95s\tremaining: 671ms\n",
      "744:\tlearn: 0.3160962\ttotal: 1.95s\tremaining: 668ms\n",
      "745:\tlearn: 0.3159961\ttotal: 1.95s\tremaining: 665ms\n"
     ]
    },
    {
     "name": "stdout",
     "output_type": "stream",
     "text": [
      "746:\tlearn: 0.3158941\ttotal: 1.96s\tremaining: 663ms\n",
      "747:\tlearn: 0.3157643\ttotal: 1.96s\tremaining: 660ms\n",
      "748:\tlearn: 0.3156629\ttotal: 1.96s\tremaining: 657ms\n",
      "749:\tlearn: 0.3154711\ttotal: 1.96s\tremaining: 655ms\n",
      "750:\tlearn: 0.3153540\ttotal: 1.97s\tremaining: 652ms\n",
      "751:\tlearn: 0.3152345\ttotal: 1.97s\tremaining: 649ms\n",
      "752:\tlearn: 0.3151369\ttotal: 1.97s\tremaining: 647ms\n",
      "753:\tlearn: 0.3150589\ttotal: 1.97s\tremaining: 644ms\n",
      "754:\tlearn: 0.3149916\ttotal: 1.98s\tremaining: 641ms\n",
      "755:\tlearn: 0.3148872\ttotal: 1.98s\tremaining: 638ms\n",
      "756:\tlearn: 0.3147764\ttotal: 1.98s\tremaining: 636ms\n",
      "757:\tlearn: 0.3147010\ttotal: 1.98s\tremaining: 633ms\n",
      "758:\tlearn: 0.3145652\ttotal: 1.99s\tremaining: 631ms\n",
      "759:\tlearn: 0.3144502\ttotal: 1.99s\tremaining: 628ms\n",
      "760:\tlearn: 0.3143317\ttotal: 1.99s\tremaining: 625ms\n",
      "761:\tlearn: 0.3142880\ttotal: 1.99s\tremaining: 623ms\n",
      "762:\tlearn: 0.3141572\ttotal: 2s\tremaining: 620ms\n",
      "763:\tlearn: 0.3140684\ttotal: 2s\tremaining: 617ms\n",
      "764:\tlearn: 0.3139329\ttotal: 2s\tremaining: 615ms\n",
      "765:\tlearn: 0.3138484\ttotal: 2s\tremaining: 612ms\n",
      "766:\tlearn: 0.3138001\ttotal: 2s\tremaining: 609ms\n",
      "767:\tlearn: 0.3137046\ttotal: 2.01s\tremaining: 606ms\n",
      "768:\tlearn: 0.3135035\ttotal: 2.01s\tremaining: 604ms\n",
      "769:\tlearn: 0.3134217\ttotal: 2.01s\tremaining: 601ms\n"
     ]
    },
    {
     "name": "stdout",
     "output_type": "stream",
     "text": [
      "770:\tlearn: 0.3132972\ttotal: 2.01s\tremaining: 598ms\n",
      "771:\tlearn: 0.3132371\ttotal: 2.02s\tremaining: 596ms\n",
      "772:\tlearn: 0.3131536\ttotal: 2.02s\tremaining: 593ms\n",
      "773:\tlearn: 0.3130500\ttotal: 2.02s\tremaining: 590ms\n",
      "774:\tlearn: 0.3129656\ttotal: 2.02s\tremaining: 588ms\n",
      "775:\tlearn: 0.3129048\ttotal: 2.03s\tremaining: 585ms\n",
      "776:\tlearn: 0.3127999\ttotal: 2.03s\tremaining: 582ms\n",
      "777:\tlearn: 0.3127415\ttotal: 2.03s\tremaining: 580ms\n",
      "778:\tlearn: 0.3126438\ttotal: 2.03s\tremaining: 577ms\n",
      "779:\tlearn: 0.3125869\ttotal: 2.04s\tremaining: 574ms\n",
      "780:\tlearn: 0.3124787\ttotal: 2.04s\tremaining: 572ms\n",
      "781:\tlearn: 0.3124140\ttotal: 2.04s\tremaining: 569ms\n",
      "782:\tlearn: 0.3122551\ttotal: 2.04s\tremaining: 566ms\n",
      "783:\tlearn: 0.3121981\ttotal: 2.05s\tremaining: 564ms\n",
      "784:\tlearn: 0.3121257\ttotal: 2.05s\tremaining: 561ms\n",
      "785:\tlearn: 0.3120471\ttotal: 2.05s\tremaining: 558ms\n",
      "786:\tlearn: 0.3120036\ttotal: 2.05s\tremaining: 556ms\n",
      "787:\tlearn: 0.3118407\ttotal: 2.06s\tremaining: 553ms\n",
      "788:\tlearn: 0.3117839\ttotal: 2.06s\tremaining: 550ms\n",
      "789:\tlearn: 0.3117029\ttotal: 2.06s\tremaining: 548ms\n",
      "790:\tlearn: 0.3116484\ttotal: 2.06s\tremaining: 545ms\n",
      "791:\tlearn: 0.3115314\ttotal: 2.06s\tremaining: 543ms\n",
      "792:\tlearn: 0.3114142\ttotal: 2.07s\tremaining: 540ms\n",
      "793:\tlearn: 0.3113622\ttotal: 2.07s\tremaining: 537ms\n",
      "794:\tlearn: 0.3112858\ttotal: 2.07s\tremaining: 535ms\n",
      "795:\tlearn: 0.3112057\ttotal: 2.08s\tremaining: 532ms\n",
      "796:\tlearn: 0.3111235\ttotal: 2.08s\tremaining: 529ms\n",
      "797:\tlearn: 0.3109379\ttotal: 2.08s\tremaining: 527ms\n"
     ]
    },
    {
     "name": "stdout",
     "output_type": "stream",
     "text": [
      "798:\tlearn: 0.3108204\ttotal: 2.08s\tremaining: 524ms\n",
      "799:\tlearn: 0.3107525\ttotal: 2.08s\tremaining: 521ms\n",
      "800:\tlearn: 0.3107068\ttotal: 2.09s\tremaining: 519ms\n",
      "801:\tlearn: 0.3104809\ttotal: 2.09s\tremaining: 516ms\n",
      "802:\tlearn: 0.3103882\ttotal: 2.09s\tremaining: 513ms\n",
      "803:\tlearn: 0.3102795\ttotal: 2.09s\tremaining: 511ms\n",
      "804:\tlearn: 0.3101793\ttotal: 2.1s\tremaining: 508ms\n",
      "805:\tlearn: 0.3100683\ttotal: 2.1s\tremaining: 505ms\n",
      "806:\tlearn: 0.3099856\ttotal: 2.1s\tremaining: 503ms\n",
      "807:\tlearn: 0.3099341\ttotal: 2.1s\tremaining: 500ms\n",
      "808:\tlearn: 0.3098555\ttotal: 2.11s\tremaining: 498ms\n",
      "809:\tlearn: 0.3097365\ttotal: 2.11s\tremaining: 495ms\n",
      "810:\tlearn: 0.3096293\ttotal: 2.11s\tremaining: 492ms\n",
      "811:\tlearn: 0.3095897\ttotal: 2.11s\tremaining: 490ms\n",
      "812:\tlearn: 0.3094884\ttotal: 2.12s\tremaining: 487ms\n",
      "813:\tlearn: 0.3093717\ttotal: 2.12s\tremaining: 484ms\n",
      "814:\tlearn: 0.3092921\ttotal: 2.12s\tremaining: 482ms\n",
      "815:\tlearn: 0.3092266\ttotal: 2.12s\tremaining: 479ms\n",
      "816:\tlearn: 0.3091337\ttotal: 2.13s\tremaining: 476ms\n",
      "817:\tlearn: 0.3090163\ttotal: 2.13s\tremaining: 474ms\n",
      "818:\tlearn: 0.3089304\ttotal: 2.13s\tremaining: 471ms\n",
      "819:\tlearn: 0.3087673\ttotal: 2.13s\tremaining: 468ms\n",
      "820:\tlearn: 0.3086669\ttotal: 2.13s\tremaining: 466ms\n",
      "821:\tlearn: 0.3085750\ttotal: 2.14s\tremaining: 463ms\n",
      "822:\tlearn: 0.3084818\ttotal: 2.14s\tremaining: 460ms\n",
      "823:\tlearn: 0.3084077\ttotal: 2.14s\tremaining: 458ms\n",
      "824:\tlearn: 0.3083525\ttotal: 2.15s\tremaining: 455ms\n",
      "825:\tlearn: 0.3082540\ttotal: 2.15s\tremaining: 453ms\n",
      "826:\tlearn: 0.3081456\ttotal: 2.15s\tremaining: 450ms\n"
     ]
    },
    {
     "name": "stdout",
     "output_type": "stream",
     "text": [
      "827:\tlearn: 0.3080960\ttotal: 2.15s\tremaining: 447ms\n",
      "828:\tlearn: 0.3080224\ttotal: 2.15s\tremaining: 445ms\n",
      "829:\tlearn: 0.3079571\ttotal: 2.16s\tremaining: 442ms\n",
      "830:\tlearn: 0.3079136\ttotal: 2.16s\tremaining: 439ms\n",
      "831:\tlearn: 0.3078383\ttotal: 2.16s\tremaining: 437ms\n",
      "832:\tlearn: 0.3077675\ttotal: 2.17s\tremaining: 434ms\n",
      "833:\tlearn: 0.3076416\ttotal: 2.17s\tremaining: 431ms\n",
      "834:\tlearn: 0.3075828\ttotal: 2.17s\tremaining: 429ms\n",
      "835:\tlearn: 0.3074991\ttotal: 2.17s\tremaining: 426ms\n",
      "836:\tlearn: 0.3073174\ttotal: 2.17s\tremaining: 424ms\n",
      "837:\tlearn: 0.3072404\ttotal: 2.18s\tremaining: 421ms\n",
      "838:\tlearn: 0.3071555\ttotal: 2.18s\tremaining: 418ms\n",
      "839:\tlearn: 0.3071223\ttotal: 2.18s\tremaining: 416ms\n",
      "840:\tlearn: 0.3070348\ttotal: 2.18s\tremaining: 413ms\n",
      "841:\tlearn: 0.3069538\ttotal: 2.19s\tremaining: 410ms\n",
      "842:\tlearn: 0.3068443\ttotal: 2.19s\tremaining: 408ms\n",
      "843:\tlearn: 0.3068016\ttotal: 2.19s\tremaining: 405ms\n",
      "844:\tlearn: 0.3067104\ttotal: 2.19s\tremaining: 403ms\n",
      "845:\tlearn: 0.3066188\ttotal: 2.2s\tremaining: 400ms\n",
      "846:\tlearn: 0.3065128\ttotal: 2.2s\tremaining: 397ms\n",
      "847:\tlearn: 0.3064270\ttotal: 2.2s\tremaining: 395ms\n",
      "848:\tlearn: 0.3063721\ttotal: 2.2s\tremaining: 392ms\n",
      "849:\tlearn: 0.3063042\ttotal: 2.21s\tremaining: 390ms\n"
     ]
    },
    {
     "name": "stdout",
     "output_type": "stream",
     "text": [
      "850:\tlearn: 0.3062292\ttotal: 2.21s\tremaining: 387ms\n",
      "851:\tlearn: 0.3061450\ttotal: 2.21s\tremaining: 384ms\n",
      "852:\tlearn: 0.3060933\ttotal: 2.21s\tremaining: 382ms\n",
      "853:\tlearn: 0.3060013\ttotal: 2.22s\tremaining: 379ms\n",
      "854:\tlearn: 0.3059375\ttotal: 2.22s\tremaining: 377ms\n",
      "855:\tlearn: 0.3058200\ttotal: 2.22s\tremaining: 374ms\n",
      "856:\tlearn: 0.3057319\ttotal: 2.23s\tremaining: 371ms\n",
      "857:\tlearn: 0.3056322\ttotal: 2.23s\tremaining: 369ms\n",
      "858:\tlearn: 0.3055560\ttotal: 2.23s\tremaining: 366ms\n",
      "859:\tlearn: 0.3054755\ttotal: 2.23s\tremaining: 363ms\n",
      "860:\tlearn: 0.3053624\ttotal: 2.23s\tremaining: 361ms\n",
      "861:\tlearn: 0.3053061\ttotal: 2.24s\tremaining: 358ms\n",
      "862:\tlearn: 0.3052302\ttotal: 2.24s\tremaining: 356ms\n",
      "863:\tlearn: 0.3051522\ttotal: 2.24s\tremaining: 353ms\n",
      "864:\tlearn: 0.3050989\ttotal: 2.24s\tremaining: 350ms\n",
      "865:\tlearn: 0.3050317\ttotal: 2.25s\tremaining: 348ms\n",
      "866:\tlearn: 0.3049664\ttotal: 2.25s\tremaining: 345ms\n",
      "867:\tlearn: 0.3049073\ttotal: 2.25s\tremaining: 343ms\n",
      "868:\tlearn: 0.3048133\ttotal: 2.25s\tremaining: 340ms\n",
      "869:\tlearn: 0.3046653\ttotal: 2.26s\tremaining: 337ms\n",
      "870:\tlearn: 0.3045450\ttotal: 2.26s\tremaining: 335ms\n",
      "871:\tlearn: 0.3044642\ttotal: 2.26s\tremaining: 332ms\n",
      "872:\tlearn: 0.3043719\ttotal: 2.26s\tremaining: 329ms\n",
      "873:\tlearn: 0.3042734\ttotal: 2.27s\tremaining: 327ms\n",
      "874:\tlearn: 0.3041907\ttotal: 2.27s\tremaining: 324ms\n"
     ]
    },
    {
     "name": "stdout",
     "output_type": "stream",
     "text": [
      "875:\tlearn: 0.3041568\ttotal: 2.27s\tremaining: 322ms\n",
      "876:\tlearn: 0.3040896\ttotal: 2.27s\tremaining: 319ms\n",
      "877:\tlearn: 0.3039315\ttotal: 2.28s\tremaining: 316ms\n",
      "878:\tlearn: 0.3038644\ttotal: 2.28s\tremaining: 314ms\n",
      "879:\tlearn: 0.3038026\ttotal: 2.28s\tremaining: 311ms\n",
      "880:\tlearn: 0.3036511\ttotal: 2.28s\tremaining: 309ms\n",
      "881:\tlearn: 0.3036028\ttotal: 2.29s\tremaining: 306ms\n",
      "882:\tlearn: 0.3034747\ttotal: 2.29s\tremaining: 303ms\n",
      "883:\tlearn: 0.3034371\ttotal: 2.29s\tremaining: 301ms\n",
      "884:\tlearn: 0.3033719\ttotal: 2.29s\tremaining: 298ms\n",
      "885:\tlearn: 0.3033137\ttotal: 2.3s\tremaining: 296ms\n",
      "886:\tlearn: 0.3032110\ttotal: 2.3s\tremaining: 293ms\n",
      "887:\tlearn: 0.3031260\ttotal: 2.3s\tremaining: 290ms\n",
      "888:\tlearn: 0.3030371\ttotal: 2.3s\tremaining: 288ms\n",
      "889:\tlearn: 0.3029797\ttotal: 2.31s\tremaining: 285ms\n",
      "890:\tlearn: 0.3029044\ttotal: 2.31s\tremaining: 283ms\n",
      "891:\tlearn: 0.3028475\ttotal: 2.31s\tremaining: 280ms\n",
      "892:\tlearn: 0.3027995\ttotal: 2.31s\tremaining: 277ms\n",
      "893:\tlearn: 0.3026659\ttotal: 2.32s\tremaining: 275ms\n",
      "894:\tlearn: 0.3025014\ttotal: 2.32s\tremaining: 272ms\n",
      "895:\tlearn: 0.3024583\ttotal: 2.32s\tremaining: 270ms\n",
      "896:\tlearn: 0.3024014\ttotal: 2.32s\tremaining: 267ms\n",
      "897:\tlearn: 0.3022866\ttotal: 2.33s\tremaining: 264ms\n"
     ]
    },
    {
     "name": "stdout",
     "output_type": "stream",
     "text": [
      "898:\tlearn: 0.3022139\ttotal: 2.33s\tremaining: 262ms\n",
      "899:\tlearn: 0.3021415\ttotal: 2.33s\tremaining: 259ms\n",
      "900:\tlearn: 0.3020362\ttotal: 2.33s\tremaining: 256ms\n",
      "901:\tlearn: 0.3019376\ttotal: 2.34s\tremaining: 254ms\n",
      "902:\tlearn: 0.3018961\ttotal: 2.34s\tremaining: 251ms\n",
      "903:\tlearn: 0.3018314\ttotal: 2.34s\tremaining: 249ms\n",
      "904:\tlearn: 0.3017288\ttotal: 2.34s\tremaining: 246ms\n",
      "905:\tlearn: 0.3016868\ttotal: 2.35s\tremaining: 243ms\n",
      "906:\tlearn: 0.3016161\ttotal: 2.35s\tremaining: 241ms\n",
      "907:\tlearn: 0.3015785\ttotal: 2.35s\tremaining: 238ms\n",
      "908:\tlearn: 0.3014896\ttotal: 2.35s\tremaining: 236ms\n",
      "909:\tlearn: 0.3014515\ttotal: 2.35s\tremaining: 233ms\n",
      "910:\tlearn: 0.3013660\ttotal: 2.36s\tremaining: 230ms\n",
      "911:\tlearn: 0.3013037\ttotal: 2.36s\tremaining: 228ms\n",
      "912:\tlearn: 0.3011713\ttotal: 2.36s\tremaining: 225ms\n",
      "913:\tlearn: 0.3010585\ttotal: 2.37s\tremaining: 223ms\n",
      "914:\tlearn: 0.3010002\ttotal: 2.37s\tremaining: 220ms\n",
      "915:\tlearn: 0.3009763\ttotal: 2.37s\tremaining: 217ms\n",
      "916:\tlearn: 0.3008924\ttotal: 2.37s\tremaining: 215ms\n",
      "917:\tlearn: 0.3007810\ttotal: 2.38s\tremaining: 212ms\n",
      "918:\tlearn: 0.3007234\ttotal: 2.38s\tremaining: 210ms\n",
      "919:\tlearn: 0.3006748\ttotal: 2.38s\tremaining: 207ms\n",
      "920:\tlearn: 0.3006034\ttotal: 2.38s\tremaining: 204ms\n"
     ]
    },
    {
     "name": "stdout",
     "output_type": "stream",
     "text": [
      "921:\tlearn: 0.3005422\ttotal: 2.39s\tremaining: 202ms\n",
      "922:\tlearn: 0.3004868\ttotal: 2.39s\tremaining: 199ms\n",
      "923:\tlearn: 0.3004589\ttotal: 2.39s\tremaining: 197ms\n",
      "924:\tlearn: 0.3004016\ttotal: 2.39s\tremaining: 194ms\n",
      "925:\tlearn: 0.3003112\ttotal: 2.4s\tremaining: 192ms\n",
      "926:\tlearn: 0.3001992\ttotal: 2.4s\tremaining: 189ms\n",
      "927:\tlearn: 0.3000919\ttotal: 2.4s\tremaining: 186ms\n",
      "928:\tlearn: 0.3000177\ttotal: 2.4s\tremaining: 184ms\n",
      "929:\tlearn: 0.2999111\ttotal: 2.41s\tremaining: 181ms\n",
      "930:\tlearn: 0.2998553\ttotal: 2.41s\tremaining: 179ms\n",
      "931:\tlearn: 0.2997922\ttotal: 2.41s\tremaining: 176ms\n",
      "932:\tlearn: 0.2996947\ttotal: 2.41s\tremaining: 173ms\n",
      "933:\tlearn: 0.2996279\ttotal: 2.42s\tremaining: 171ms\n",
      "934:\tlearn: 0.2995131\ttotal: 2.42s\tremaining: 168ms\n",
      "935:\tlearn: 0.2994644\ttotal: 2.42s\tremaining: 166ms\n",
      "936:\tlearn: 0.2993827\ttotal: 2.42s\tremaining: 163ms\n",
      "937:\tlearn: 0.2992611\ttotal: 2.43s\tremaining: 160ms\n",
      "938:\tlearn: 0.2991915\ttotal: 2.43s\tremaining: 158ms\n",
      "939:\tlearn: 0.2991355\ttotal: 2.43s\tremaining: 155ms\n",
      "940:\tlearn: 0.2990475\ttotal: 2.43s\tremaining: 153ms\n",
      "941:\tlearn: 0.2989940\ttotal: 2.44s\tremaining: 150ms\n",
      "942:\tlearn: 0.2989324\ttotal: 2.44s\tremaining: 147ms\n",
      "943:\tlearn: 0.2988210\ttotal: 2.44s\tremaining: 145ms\n",
      "944:\tlearn: 0.2987677\ttotal: 2.44s\tremaining: 142ms\n",
      "945:\tlearn: 0.2986298\ttotal: 2.44s\tremaining: 140ms\n",
      "946:\tlearn: 0.2985517\ttotal: 2.45s\tremaining: 137ms\n",
      "947:\tlearn: 0.2984295\ttotal: 2.45s\tremaining: 134ms\n",
      "948:\tlearn: 0.2983858\ttotal: 2.45s\tremaining: 132ms\n",
      "949:\tlearn: 0.2983190\ttotal: 2.46s\tremaining: 129ms\n",
      "950:\tlearn: 0.2982606\ttotal: 2.46s\tremaining: 127ms\n",
      "951:\tlearn: 0.2981926\ttotal: 2.46s\tremaining: 124ms\n",
      "952:\tlearn: 0.2981057\ttotal: 2.46s\tremaining: 121ms\n",
      "953:\tlearn: 0.2980223\ttotal: 2.46s\tremaining: 119ms\n"
     ]
    },
    {
     "name": "stdout",
     "output_type": "stream",
     "text": [
      "954:\tlearn: 0.2979563\ttotal: 2.47s\tremaining: 116ms\n",
      "955:\tlearn: 0.2979189\ttotal: 2.47s\tremaining: 114ms\n",
      "956:\tlearn: 0.2978650\ttotal: 2.47s\tremaining: 111ms\n",
      "957:\tlearn: 0.2977768\ttotal: 2.48s\tremaining: 109ms\n",
      "958:\tlearn: 0.2976600\ttotal: 2.48s\tremaining: 106ms\n",
      "959:\tlearn: 0.2975724\ttotal: 2.48s\tremaining: 103ms\n",
      "960:\tlearn: 0.2975012\ttotal: 2.48s\tremaining: 101ms\n",
      "961:\tlearn: 0.2974451\ttotal: 2.48s\tremaining: 98.2ms\n",
      "962:\tlearn: 0.2973599\ttotal: 2.49s\tremaining: 95.6ms\n",
      "963:\tlearn: 0.2972602\ttotal: 2.49s\tremaining: 93ms\n",
      "964:\tlearn: 0.2971978\ttotal: 2.49s\tremaining: 90.4ms\n",
      "965:\tlearn: 0.2971137\ttotal: 2.5s\tremaining: 87.8ms\n",
      "966:\tlearn: 0.2970083\ttotal: 2.5s\tremaining: 85.2ms\n",
      "967:\tlearn: 0.2969735\ttotal: 2.5s\tremaining: 82.7ms\n",
      "968:\tlearn: 0.2969086\ttotal: 2.5s\tremaining: 80.1ms\n",
      "969:\tlearn: 0.2968350\ttotal: 2.5s\tremaining: 77.5ms\n",
      "970:\tlearn: 0.2967503\ttotal: 2.51s\tremaining: 74.9ms\n",
      "971:\tlearn: 0.2966631\ttotal: 2.51s\tremaining: 72.3ms\n",
      "972:\tlearn: 0.2965822\ttotal: 2.51s\tremaining: 69.7ms\n",
      "973:\tlearn: 0.2965020\ttotal: 2.51s\tremaining: 67.1ms\n",
      "974:\tlearn: 0.2964551\ttotal: 2.52s\tremaining: 64.5ms\n",
      "975:\tlearn: 0.2963956\ttotal: 2.52s\tremaining: 61.9ms\n",
      "976:\tlearn: 0.2963487\ttotal: 2.52s\tremaining: 59.4ms\n",
      "977:\tlearn: 0.2962707\ttotal: 2.52s\tremaining: 56.8ms\n"
     ]
    },
    {
     "name": "stdout",
     "output_type": "stream",
     "text": [
      "978:\tlearn: 0.2962336\ttotal: 2.53s\tremaining: 54.2ms\n",
      "979:\tlearn: 0.2961377\ttotal: 2.53s\tremaining: 51.6ms\n",
      "980:\tlearn: 0.2960978\ttotal: 2.53s\tremaining: 49ms\n",
      "981:\tlearn: 0.2960156\ttotal: 2.53s\tremaining: 46.4ms\n",
      "982:\tlearn: 0.2959402\ttotal: 2.54s\tremaining: 43.9ms\n",
      "983:\tlearn: 0.2958530\ttotal: 2.54s\tremaining: 41.3ms\n",
      "984:\tlearn: 0.2957724\ttotal: 2.54s\tremaining: 38.7ms\n",
      "985:\tlearn: 0.2956967\ttotal: 2.54s\tremaining: 36.1ms\n",
      "986:\tlearn: 0.2956282\ttotal: 2.54s\tremaining: 33.5ms\n",
      "987:\tlearn: 0.2955502\ttotal: 2.55s\tremaining: 30.9ms\n",
      "988:\tlearn: 0.2954970\ttotal: 2.55s\tremaining: 28.4ms\n",
      "989:\tlearn: 0.2954422\ttotal: 2.55s\tremaining: 25.8ms\n",
      "990:\tlearn: 0.2953229\ttotal: 2.56s\tremaining: 23.2ms\n",
      "991:\tlearn: 0.2952783\ttotal: 2.56s\tremaining: 20.6ms\n",
      "992:\tlearn: 0.2952440\ttotal: 2.56s\tremaining: 18ms\n",
      "993:\tlearn: 0.2951701\ttotal: 2.56s\tremaining: 15.5ms\n",
      "994:\tlearn: 0.2950971\ttotal: 2.56s\tremaining: 12.9ms\n",
      "995:\tlearn: 0.2950395\ttotal: 2.57s\tremaining: 10.3ms\n",
      "996:\tlearn: 0.2950104\ttotal: 2.57s\tremaining: 7.73ms\n",
      "997:\tlearn: 0.2949717\ttotal: 2.57s\tremaining: 5.16ms\n",
      "998:\tlearn: 0.2949214\ttotal: 2.58s\tremaining: 2.58ms\n",
      "999:\tlearn: 0.2948262\ttotal: 2.58s\tremaining: 0us\n"
     ]
    },
    {
     "name": "stdout",
     "output_type": "stream",
     "text": [
      "Mean Squared error 0.1549802583733588\n"
     ]
    },
    {
     "data": {
      "application/scrapbook.scrap.json+json": {
       "data": 0.1549802583733588,
       "encoder": "json",
       "name": "Catboost MAE",
       "version": 1
      }
     },
     "metadata": {
      "scrapbook": {
       "data": true,
       "display": false,
       "name": "Catboost MAE"
      }
     },
     "output_type": "display_data"
    }
   ],
   "source": [
    "mae_cb = baselineModels.catboost(X_train,y_train,X_test,y_test)\n",
    "#Store MSE Value\n",
    "sb.glue(\"Catboost MAE\",mae_cb)"
   ]
  }
 ],
 "metadata": {
  "interpreter": {
   "hash": "10498c76ddd8160350534c6544a2b2fb65f2138dbc70420f7c81a3268f830f23"
  },
  "kernelspec": {
   "display_name": "Python 3 (ipykernel)",
   "language": "python",
   "name": "python3"
  },
  "language_info": {
   "codemirror_mode": {
    "name": "ipython",
    "version": 3
   },
   "file_extension": ".py",
   "mimetype": "text/x-python",
   "name": "python",
   "nbconvert_exporter": "python",
   "pygments_lexer": "ipython3",
   "version": "3.8.11"
  },
  "papermill": {
   "default_parameters": {},
   "duration": 5.821307,
   "end_time": "2022-03-02T04:30:21.524242",
   "environment_variables": {},
   "exception": null,
   "input_path": "BaselineModels.ipynb",
   "output_path": "./BaseLine_Model_Output/BaselineModels_output_2.ipynb",
   "parameters": {},
   "start_time": "2022-03-02T04:30:15.702935",
   "version": "2.3.3"
  }
 },
 "nbformat": 4,
 "nbformat_minor": 5
}