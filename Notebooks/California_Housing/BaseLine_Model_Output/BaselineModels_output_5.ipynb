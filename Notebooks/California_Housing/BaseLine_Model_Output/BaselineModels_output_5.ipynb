{
 "cells": [
  {
   "cell_type": "markdown",
   "id": "d6490997",
   "metadata": {
    "papermill": {
     "duration": 0.01359,
     "end_time": "2022-03-02T04:30:36.607070",
     "exception": false,
     "start_time": "2022-03-02T04:30:36.593480",
     "status": "completed"
    },
    "tags": []
   },
   "source": [
    "## Import Libraries "
   ]
  },
  {
   "cell_type": "code",
   "execution_count": 1,
   "id": "dc14c66b",
   "metadata": {
    "execution": {
     "iopub.execute_input": "2022-03-02T04:30:36.633535Z",
     "iopub.status.busy": "2022-03-02T04:30:36.632884Z",
     "iopub.status.idle": "2022-03-02T04:30:36.635885Z",
     "shell.execute_reply": "2022-03-02T04:30:36.636370Z"
    },
    "papermill": {
     "duration": 0.020624,
     "end_time": "2022-03-02T04:30:36.636637",
     "exception": false,
     "start_time": "2022-03-02T04:30:36.616013",
     "status": "completed"
    },
    "tags": []
   },
   "outputs": [],
   "source": [
    "import warnings\n",
    "import sys\n",
    "sys.path.insert(0, '../../src')\n",
    "warnings.filterwarnings('ignore')"
   ]
  },
  {
   "cell_type": "code",
   "execution_count": 2,
   "id": "b57da55a",
   "metadata": {
    "execution": {
     "iopub.execute_input": "2022-03-02T04:30:36.650116Z",
     "iopub.status.busy": "2022-03-02T04:30:36.649572Z",
     "iopub.status.idle": "2022-03-02T04:30:38.310290Z",
     "shell.execute_reply": "2022-03-02T04:30:38.310519Z"
    },
    "papermill": {
     "duration": 1.66866,
     "end_time": "2022-03-02T04:30:38.310643",
     "exception": false,
     "start_time": "2022-03-02T04:30:36.641983",
     "status": "completed"
    },
    "tags": []
   },
   "outputs": [],
   "source": [
    "import statsModel\n",
    "import scrapbook as sb \n",
    "import torch \n",
    "import statsModel\n",
    "import baselineModels\n",
    "import californiaDataset\n",
    "import dataset \n",
    "from torch.utils.data import random_split \n",
    "from sklearn.model_selection import train_test_split"
   ]
  },
  {
   "cell_type": "markdown",
   "id": "2e8631ff",
   "metadata": {
    "papermill": {
     "duration": 0.002776,
     "end_time": "2022-03-02T04:30:38.316430",
     "exception": false,
     "start_time": "2022-03-02T04:30:38.313654",
     "status": "completed"
    },
    "tags": []
   },
   "source": [
    "## Import Dataset \n"
   ]
  },
  {
   "cell_type": "code",
   "execution_count": 3,
   "id": "7c327611",
   "metadata": {
    "execution": {
     "iopub.execute_input": "2022-03-02T04:30:38.325916Z",
     "iopub.status.busy": "2022-03-02T04:30:38.325419Z",
     "iopub.status.idle": "2022-03-02T04:30:38.339276Z",
     "shell.execute_reply": "2022-03-02T04:30:38.339572Z"
    },
    "papermill": {
     "duration": 0.019558,
     "end_time": "2022-03-02T04:30:38.339692",
     "exception": false,
     "start_time": "2022-03-02T04:30:38.320134",
     "status": "completed"
    },
    "tags": []
   },
   "outputs": [
    {
     "name": "stdout",
     "output_type": "stream",
     "text": [
      "       X1    X2        X3        X4      X5        X6     X7      X8      Y\n",
      "0  8.3252  41.0  6.984127  1.023810   322.0  2.555556  37.88 -122.23  4.526\n",
      "1  8.3014  21.0  6.238137  0.971880  2401.0  2.109842  37.86 -122.22  3.585\n",
      "2  7.2574  52.0  8.288136  1.073446   496.0  2.802260  37.85 -122.24  3.521\n",
      "3  5.6431  52.0  5.817352  1.073059   558.0  2.547945  37.85 -122.25  3.413\n",
      "4  3.8462  52.0  6.281853  1.081081   565.0  2.181467  37.85 -122.25  3.422\n"
     ]
    }
   ],
   "source": [
    "n_features = 8\n",
    "n_samples= 20640\n",
    "n_target = 1 \n",
    "X,Y = californiaDataset.california_data()"
   ]
  },
  {
   "cell_type": "code",
   "execution_count": 4,
   "id": "59b435aa",
   "metadata": {
    "execution": {
     "iopub.execute_input": "2022-03-02T04:30:38.348684Z",
     "iopub.status.busy": "2022-03-02T04:30:38.348292Z",
     "iopub.status.idle": "2022-03-02T04:30:38.350409Z",
     "shell.execute_reply": "2022-03-02T04:30:38.350657Z"
    },
    "papermill": {
     "duration": 0.007836,
     "end_time": "2022-03-02T04:30:38.350764",
     "exception": false,
     "start_time": "2022-03-02T04:30:38.342928",
     "status": "completed"
    },
    "tags": []
   },
   "outputs": [],
   "source": [
    "# Train test split for dataset \n",
    "real_dataset = dataset.CustomDataset(X,Y)\n",
    "X_train, X_test, y_train, y_test = train_test_split(X, Y, test_size=0.2)"
   ]
  },
  {
   "cell_type": "markdown",
   "id": "5b11c72b",
   "metadata": {
    "papermill": {
     "duration": 0.002933,
     "end_time": "2022-03-02T04:30:38.356725",
     "exception": false,
     "start_time": "2022-03-02T04:30:38.353792",
     "status": "completed"
    },
    "tags": []
   },
   "source": [
    "## Stats Model \n",
    "\n"
   ]
  },
  {
   "cell_type": "code",
   "execution_count": 5,
   "id": "822213c2",
   "metadata": {
    "execution": {
     "iopub.execute_input": "2022-03-02T04:30:38.364758Z",
     "iopub.status.busy": "2022-03-02T04:30:38.364373Z",
     "iopub.status.idle": "2022-03-02T04:30:38.467672Z",
     "shell.execute_reply": "2022-03-02T04:30:38.467921Z"
    },
    "papermill": {
     "duration": 0.108411,
     "end_time": "2022-03-02T04:30:38.468058",
     "exception": false,
     "start_time": "2022-03-02T04:30:38.359647",
     "status": "completed"
    },
    "tags": []
   },
   "outputs": [
    {
     "name": "stderr",
     "output_type": "stream",
     "text": [
      "No handles with labels found to put in legend.\n"
     ]
    },
    {
     "name": "stdout",
     "output_type": "stream",
     "text": [
      "                                 OLS Regression Results                                \n",
      "=======================================================================================\n",
      "Dep. Variable:                      y   R-squared (uncentered):                   0.603\n",
      "Model:                            OLS   Adj. R-squared (uncentered):              0.603\n",
      "Method:                 Least Squares   F-statistic:                              3134.\n",
      "Date:                Wed, 02 Mar 2022   Prob (F-statistic):                        0.00\n",
      "Time:                        10:00:38   Log-Likelihood:                         -15810.\n",
      "No. Observations:               16512   AIC:                                  3.164e+04\n",
      "Df Residuals:                   16504   BIC:                                  3.170e+04\n",
      "Df Model:                           8                                                  \n",
      "Covariance Type:            nonrobust                                                  \n",
      "==============================================================================\n",
      "                 coef    std err          t      P>|t|      [0.025      0.975]\n",
      "------------------------------------------------------------------------------\n",
      "x1             0.7180      0.008     91.026      0.000       0.703       0.733\n",
      "x2             0.1044      0.005     19.124      0.000       0.094       0.115\n",
      "x3            -0.2321      0.015    -15.995      0.000      -0.261      -0.204\n",
      "x4             0.2544      0.013     19.790      0.000       0.229       0.280\n",
      "x5            -0.0032      0.005     -0.626      0.531      -0.013       0.007\n",
      "x6            -0.0315      0.004     -7.058      0.000      -0.040      -0.023\n",
      "x7            -0.7729      0.015    -51.497      0.000      -0.802      -0.744\n",
      "x8            -0.7495      0.015    -50.993      0.000      -0.778      -0.721\n",
      "==============================================================================\n",
      "Omnibus:                     3602.751   Durbin-Watson:                   2.021\n",
      "Prob(Omnibus):                  0.000   Jarque-Bera (JB):            11248.508\n",
      "Skew:                           1.117   Prob(JB):                         0.00\n",
      "Kurtosis:                       6.370   Cond. No.                         6.71\n",
      "==============================================================================\n",
      "\n",
      "Notes:\n",
      "[1] R² is computed without centering (uncentered) since the model does not contain a constant.\n",
      "[2] Standard Errors assume that the covariance matrix of the errors is correctly specified.\n"
     ]
    },
    {
     "data": {
      "image/png": "[encoded data removed]",
      "text/plain": [
       "<Figure size 432x288 with 1 Axes>"
      ]
     },
     "metadata": {
      "needs_background": "light"
     },
     "output_type": "display_data"
    },
    {
     "name": "stdout",
     "output_type": "stream",
     "text": [
      "Performance Metrics\n",
      "Mean Squared Error: 0.3802725682045239\n",
      "Mean Absolute Error: 0.45379220099795253\n",
      "Manhattan distance: 1873.254205719548\n",
      "Euclidean distance: 39.62026200756726\n"
     ]
    },
    {
     "data": {
      "application/scrapbook.scrap.json+json": {
       "data": 0.3802725682045239,
       "encoder": "json",
       "name": "Stats Model MSE",
       "version": 1
      }
     },
     "metadata": {
      "scrapbook": {
       "data": true,
       "display": false,
       "name": "Stats Model MSE"
      }
     },
     "output_type": "display_data"
    },
    {
     "data": {
      "application/scrapbook.scrap.json+json": {
       "data": 0.45379220099795253,
       "encoder": "json",
       "name": "Stats Model MAE",
       "version": 1
      }
     },
     "metadata": {
      "scrapbook": {
       "data": true,
       "display": false,
       "name": "Stats Model MAE"
      }
     },
     "output_type": "display_data"
    },
    {
     "data": {
      "application/scrapbook.scrap.json+json": {
       "data": 1873.254205719548,
       "encoder": "json",
       "name": "Stats Model Manhattan Distance",
       "version": 1
      }
     },
     "metadata": {
      "scrapbook": {
       "data": true,
       "display": false,
       "name": "Stats Model Manhattan Distance"
      }
     },
     "output_type": "display_data"
    },
    {
     "data": {
      "application/scrapbook.scrap.json+json": {
       "data": 39.62026200756726,
       "encoder": "json",
       "name": "Stats Model Euclidean distance",
       "version": 1
      }
     },
     "metadata": {
      "scrapbook": {
       "data": true,
       "display": false,
       "name": "Stats Model Euclidean distance"
      }
     },
     "output_type": "display_data"
    },
    {
     "data": {
      "application/scrapbook.scrap.json+json": {
       "data": [
        0.7179908313874652,
        0.1043666417841719,
        -0.232068341703986,
        0.2543789102428376,
        -0.003245021730037023,
        -0.03154742660516339,
        -0.7729402882137462,
        -0.7495344488120524
       ],
       "encoder": "json",
       "name": "Coefficients",
       "version": 1
      }
     },
     "metadata": {
      "scrapbook": {
       "data": true,
       "display": false,
       "name": "Coefficients"
      }
     },
     "output_type": "display_data"
    }
   ],
   "source": [
    "coefficients , y_pred =statsModel.statsModel(X_train,y_train,X_test,y_test)\n",
    "#Store MSE Value \n",
    "sb.glue(\"Coefficients\",coefficients)"
   ]
  },
  {
   "cell_type": "markdown",
   "id": "280e6218",
   "metadata": {
    "papermill": {
     "duration": 0.005414,
     "end_time": "2022-03-02T04:30:38.478833",
     "exception": false,
     "start_time": "2022-03-02T04:30:38.473419",
     "status": "completed"
    },
    "tags": []
   },
   "source": [
    "# Catboost Model "
   ]
  },
  {
   "cell_type": "code",
   "execution_count": 6,
   "id": "b244a8e5",
   "metadata": {
    "execution": {
     "iopub.execute_input": "2022-03-02T04:30:38.529170Z",
     "iopub.status.busy": "2022-03-02T04:30:38.528782Z",
     "iopub.status.idle": "2022-03-02T04:30:41.139443Z",
     "shell.execute_reply": "2022-03-02T04:30:41.139743Z"
    },
    "papermill": {
     "duration": 2.656028,
     "end_time": "2022-03-02T04:30:41.139863",
     "exception": false,
     "start_time": "2022-03-02T04:30:38.483835",
     "status": "completed"
    },
    "tags": []
   },
   "outputs": [
    {
     "name": "stdout",
     "output_type": "stream",
     "text": [
      "Learning rate set to 0.064294\n"
     ]
    },
    {
     "name": "stdout",
     "output_type": "stream",
     "text": [
      "0:\tlearn: 0.9645896\ttotal: 58.8ms\tremaining: 58.8s\n",
      "1:\tlearn: 0.9327253\ttotal: 61.5ms\tremaining: 30.7s\n",
      "2:\tlearn: 0.9033765\ttotal: 64.4ms\tremaining: 21.4s\n",
      "3:\tlearn: 0.8756407\ttotal: 66.9ms\tremaining: 16.6s\n",
      "4:\tlearn: 0.8509208\ttotal: 69.5ms\tremaining: 13.8s\n",
      "5:\tlearn: 0.8276826\ttotal: 71.9ms\tremaining: 11.9s\n",
      "6:\tlearn: 0.8074770\ttotal: 74.2ms\tremaining: 10.5s\n",
      "7:\tlearn: 0.7871608\ttotal: 76.7ms\tremaining: 9.51s\n",
      "8:\tlearn: 0.7687746\ttotal: 79.3ms\tremaining: 8.73s\n",
      "9:\tlearn: 0.7518975\ttotal: 81.5ms\tremaining: 8.07s\n",
      "10:\tlearn: 0.7367284\ttotal: 84ms\tremaining: 7.55s\n",
      "11:\tlearn: 0.7212158\ttotal: 86.4ms\tremaining: 7.11s\n",
      "12:\tlearn: 0.7076663\ttotal: 88.8ms\tremaining: 6.74s\n",
      "13:\tlearn: 0.6918664\ttotal: 91.1ms\tremaining: 6.42s\n",
      "14:\tlearn: 0.6777656\ttotal: 93.6ms\tremaining: 6.14s\n",
      "15:\tlearn: 0.6664835\ttotal: 95.9ms\tremaining: 5.9s\n",
      "16:\tlearn: 0.6549546\ttotal: 98.6ms\tremaining: 5.7s\n",
      "17:\tlearn: 0.6451781\ttotal: 101ms\tremaining: 5.5s\n",
      "18:\tlearn: 0.6368101\ttotal: 104ms\tremaining: 5.36s\n",
      "19:\tlearn: 0.6274814\ttotal: 107ms\tremaining: 5.22s\n",
      "20:\tlearn: 0.6180592\ttotal: 110ms\tremaining: 5.11s\n",
      "21:\tlearn: 0.6111173\ttotal: 112ms\tremaining: 4.98s\n",
      "22:\tlearn: 0.6032325\ttotal: 115ms\tremaining: 4.87s\n",
      "23:\tlearn: 0.5971061\ttotal: 117ms\tremaining: 4.76s\n",
      "24:\tlearn: 0.5915913\ttotal: 119ms\tremaining: 4.66s\n",
      "25:\tlearn: 0.5858852\ttotal: 122ms\tremaining: 4.56s\n"
     ]
    },
    {
     "name": "stdout",
     "output_type": "stream",
     "text": [
      "26:\tlearn: 0.5803529\ttotal: 124ms\tremaining: 4.48s\n",
      "27:\tlearn: 0.5748335\ttotal: 127ms\tremaining: 4.41s\n",
      "28:\tlearn: 0.5703297\ttotal: 130ms\tremaining: 4.34s\n",
      "29:\tlearn: 0.5661181\ttotal: 132ms\tremaining: 4.26s\n",
      "30:\tlearn: 0.5621182\ttotal: 134ms\tremaining: 4.19s\n",
      "31:\tlearn: 0.5588044\ttotal: 137ms\tremaining: 4.14s\n",
      "32:\tlearn: 0.5540316\ttotal: 140ms\tremaining: 4.09s\n",
      "33:\tlearn: 0.5493805\ttotal: 142ms\tremaining: 4.04s\n",
      "34:\tlearn: 0.5445557\ttotal: 145ms\tremaining: 3.99s\n",
      "35:\tlearn: 0.5421993\ttotal: 147ms\tremaining: 3.94s\n",
      "36:\tlearn: 0.5375580\ttotal: 150ms\tremaining: 3.9s\n",
      "37:\tlearn: 0.5348179\ttotal: 152ms\tremaining: 3.86s\n",
      "38:\tlearn: 0.5313029\ttotal: 155ms\tremaining: 3.81s\n",
      "39:\tlearn: 0.5293668\ttotal: 157ms\tremaining: 3.78s\n",
      "40:\tlearn: 0.5269621\ttotal: 160ms\tremaining: 3.74s\n",
      "41:\tlearn: 0.5248975\ttotal: 162ms\tremaining: 3.7s\n",
      "42:\tlearn: 0.5218720\ttotal: 165ms\tremaining: 3.67s\n",
      "43:\tlearn: 0.5199280\ttotal: 168ms\tremaining: 3.64s\n",
      "44:\tlearn: 0.5180164\ttotal: 170ms\tremaining: 3.61s\n",
      "45:\tlearn: 0.5143870\ttotal: 173ms\tremaining: 3.58s\n",
      "46:\tlearn: 0.5128442\ttotal: 175ms\tremaining: 3.54s\n",
      "47:\tlearn: 0.5106091\ttotal: 178ms\tremaining: 3.52s\n",
      "48:\tlearn: 0.5077666\ttotal: 180ms\tremaining: 3.5s\n",
      "49:\tlearn: 0.5052886\ttotal: 183ms\tremaining: 3.47s\n",
      "50:\tlearn: 0.5037348\ttotal: 185ms\tremaining: 3.44s\n",
      "51:\tlearn: 0.5021354\ttotal: 188ms\tremaining: 3.42s\n",
      "52:\tlearn: 0.4995109\ttotal: 191ms\tremaining: 3.41s\n",
      "53:\tlearn: 0.4982428\ttotal: 193ms\tremaining: 3.38s\n"
     ]
    },
    {
     "name": "stdout",
     "output_type": "stream",
     "text": [
      "54:\tlearn: 0.4967927\ttotal: 196ms\tremaining: 3.36s\n",
      "55:\tlearn: 0.4946772\ttotal: 198ms\tremaining: 3.34s\n",
      "56:\tlearn: 0.4933061\ttotal: 200ms\tremaining: 3.32s\n",
      "57:\tlearn: 0.4909717\ttotal: 203ms\tremaining: 3.3s\n",
      "58:\tlearn: 0.4895145\ttotal: 205ms\tremaining: 3.28s\n",
      "59:\tlearn: 0.4883542\ttotal: 208ms\tremaining: 3.25s\n",
      "60:\tlearn: 0.4872208\ttotal: 210ms\tremaining: 3.23s\n",
      "61:\tlearn: 0.4861718\ttotal: 212ms\tremaining: 3.21s\n",
      "62:\tlearn: 0.4852867\ttotal: 215ms\tremaining: 3.2s\n",
      "63:\tlearn: 0.4842506\ttotal: 218ms\tremaining: 3.18s\n",
      "64:\tlearn: 0.4827408\ttotal: 220ms\tremaining: 3.16s\n",
      "65:\tlearn: 0.4812664\ttotal: 222ms\tremaining: 3.15s\n",
      "66:\tlearn: 0.4798635\ttotal: 225ms\tremaining: 3.13s\n",
      "67:\tlearn: 0.4786929\ttotal: 227ms\tremaining: 3.11s\n",
      "68:\tlearn: 0.4780784\ttotal: 230ms\tremaining: 3.1s\n",
      "69:\tlearn: 0.4768528\ttotal: 232ms\tremaining: 3.09s\n",
      "70:\tlearn: 0.4760098\ttotal: 235ms\tremaining: 3.07s\n",
      "71:\tlearn: 0.4749357\ttotal: 237ms\tremaining: 3.05s\n",
      "72:\tlearn: 0.4739856\ttotal: 239ms\tremaining: 3.04s\n",
      "73:\tlearn: 0.4733793\ttotal: 242ms\tremaining: 3.03s\n",
      "74:\tlearn: 0.4727651\ttotal: 244ms\tremaining: 3.01s\n",
      "75:\tlearn: 0.4718330\ttotal: 247ms\tremaining: 3s\n",
      "76:\tlearn: 0.4711967\ttotal: 249ms\tremaining: 2.99s\n",
      "77:\tlearn: 0.4704638\ttotal: 252ms\tremaining: 2.97s\n"
     ]
    },
    {
     "name": "stdout",
     "output_type": "stream",
     "text": [
      "78:\tlearn: 0.4692050\ttotal: 254ms\tremaining: 2.96s\n",
      "79:\tlearn: 0.4682068\ttotal: 256ms\tremaining: 2.95s\n",
      "80:\tlearn: 0.4672540\ttotal: 259ms\tremaining: 2.93s\n",
      "81:\tlearn: 0.4665072\ttotal: 261ms\tremaining: 2.92s\n",
      "82:\tlearn: 0.4654660\ttotal: 264ms\tremaining: 2.92s\n",
      "83:\tlearn: 0.4645981\ttotal: 267ms\tremaining: 2.91s\n",
      "84:\tlearn: 0.4628526\ttotal: 269ms\tremaining: 2.89s\n",
      "85:\tlearn: 0.4622260\ttotal: 272ms\tremaining: 2.89s\n",
      "86:\tlearn: 0.4613951\ttotal: 274ms\tremaining: 2.88s\n",
      "87:\tlearn: 0.4608258\ttotal: 276ms\tremaining: 2.87s\n",
      "88:\tlearn: 0.4598168\ttotal: 279ms\tremaining: 2.85s\n",
      "89:\tlearn: 0.4591311\ttotal: 281ms\tremaining: 2.85s\n",
      "90:\tlearn: 0.4581122\ttotal: 284ms\tremaining: 2.83s\n",
      "91:\tlearn: 0.4575797\ttotal: 286ms\tremaining: 2.83s\n",
      "92:\tlearn: 0.4569991\ttotal: 289ms\tremaining: 2.81s\n",
      "93:\tlearn: 0.4564074\ttotal: 291ms\tremaining: 2.8s\n",
      "94:\tlearn: 0.4557442\ttotal: 293ms\tremaining: 2.79s\n",
      "95:\tlearn: 0.4550752\ttotal: 296ms\tremaining: 2.79s\n",
      "96:\tlearn: 0.4544867\ttotal: 298ms\tremaining: 2.78s\n",
      "97:\tlearn: 0.4539872\ttotal: 301ms\tremaining: 2.77s\n",
      "98:\tlearn: 0.4533868\ttotal: 303ms\tremaining: 2.76s\n",
      "99:\tlearn: 0.4522299\ttotal: 306ms\tremaining: 2.75s\n",
      "100:\tlearn: 0.4509458\ttotal: 308ms\tremaining: 2.74s\n",
      "101:\tlearn: 0.4504705\ttotal: 311ms\tremaining: 2.74s\n",
      "102:\tlearn: 0.4500889\ttotal: 313ms\tremaining: 2.73s\n",
      "103:\tlearn: 0.4494199\ttotal: 316ms\tremaining: 2.72s\n",
      "104:\tlearn: 0.4490039\ttotal: 318ms\tremaining: 2.71s\n"
     ]
    },
    {
     "name": "stdout",
     "output_type": "stream",
     "text": [
      "105:\tlearn: 0.4487145\ttotal: 320ms\tremaining: 2.7s\n",
      "106:\tlearn: 0.4482163\ttotal: 323ms\tremaining: 2.69s\n",
      "107:\tlearn: 0.4474892\ttotal: 325ms\tremaining: 2.68s\n",
      "108:\tlearn: 0.4467236\ttotal: 327ms\tremaining: 2.67s\n",
      "109:\tlearn: 0.4463213\ttotal: 330ms\tremaining: 2.67s\n",
      "110:\tlearn: 0.4460714\ttotal: 332ms\tremaining: 2.66s\n",
      "111:\tlearn: 0.4453379\ttotal: 335ms\tremaining: 2.65s\n",
      "112:\tlearn: 0.4446394\ttotal: 337ms\tremaining: 2.65s\n",
      "113:\tlearn: 0.4441709\ttotal: 340ms\tremaining: 2.64s\n",
      "114:\tlearn: 0.4437195\ttotal: 342ms\tremaining: 2.63s\n",
      "115:\tlearn: 0.4433209\ttotal: 345ms\tremaining: 2.63s\n",
      "116:\tlearn: 0.4430972\ttotal: 347ms\tremaining: 2.62s\n",
      "117:\tlearn: 0.4427032\ttotal: 349ms\tremaining: 2.61s\n",
      "118:\tlearn: 0.4417228\ttotal: 352ms\tremaining: 2.6s\n",
      "119:\tlearn: 0.4414194\ttotal: 354ms\tremaining: 2.6s\n",
      "120:\tlearn: 0.4409234\ttotal: 357ms\tremaining: 2.59s\n",
      "121:\tlearn: 0.4406072\ttotal: 359ms\tremaining: 2.58s\n",
      "122:\tlearn: 0.4398786\ttotal: 361ms\tremaining: 2.58s\n",
      "123:\tlearn: 0.4392123\ttotal: 364ms\tremaining: 2.57s\n",
      "124:\tlearn: 0.4387285\ttotal: 366ms\tremaining: 2.56s\n",
      "125:\tlearn: 0.4381299\ttotal: 368ms\tremaining: 2.56s\n",
      "126:\tlearn: 0.4373067\ttotal: 371ms\tremaining: 2.55s\n",
      "127:\tlearn: 0.4367811\ttotal: 373ms\tremaining: 2.54s\n",
      "128:\tlearn: 0.4362053\ttotal: 376ms\tremaining: 2.54s\n",
      "129:\tlearn: 0.4358179\ttotal: 378ms\tremaining: 2.53s\n",
      "130:\tlearn: 0.4353786\ttotal: 381ms\tremaining: 2.52s\n",
      "131:\tlearn: 0.4350436\ttotal: 383ms\tremaining: 2.52s\n",
      "132:\tlearn: 0.4347942\ttotal: 385ms\tremaining: 2.51s\n",
      "133:\tlearn: 0.4343643\ttotal: 388ms\tremaining: 2.5s\n"
     ]
    },
    {
     "name": "stdout",
     "output_type": "stream",
     "text": [
      "134:\tlearn: 0.4335707\ttotal: 390ms\tremaining: 2.5s\n",
      "135:\tlearn: 0.4332447\ttotal: 393ms\tremaining: 2.5s\n",
      "136:\tlearn: 0.4330335\ttotal: 395ms\tremaining: 2.49s\n",
      "137:\tlearn: 0.4325032\ttotal: 397ms\tremaining: 2.48s\n",
      "138:\tlearn: 0.4318910\ttotal: 400ms\tremaining: 2.48s\n",
      "139:\tlearn: 0.4314741\ttotal: 402ms\tremaining: 2.47s\n",
      "140:\tlearn: 0.4311412\ttotal: 405ms\tremaining: 2.47s\n",
      "141:\tlearn: 0.4307227\ttotal: 407ms\tremaining: 2.46s\n",
      "142:\tlearn: 0.4301722\ttotal: 409ms\tremaining: 2.45s\n",
      "143:\tlearn: 0.4296695\ttotal: 412ms\tremaining: 2.45s\n",
      "144:\tlearn: 0.4293205\ttotal: 414ms\tremaining: 2.44s\n",
      "145:\tlearn: 0.4289884\ttotal: 417ms\tremaining: 2.44s\n",
      "146:\tlearn: 0.4285634\ttotal: 419ms\tremaining: 2.43s\n",
      "147:\tlearn: 0.4280710\ttotal: 422ms\tremaining: 2.43s\n",
      "148:\tlearn: 0.4273978\ttotal: 424ms\tremaining: 2.42s\n",
      "149:\tlearn: 0.4270477\ttotal: 426ms\tremaining: 2.42s\n",
      "150:\tlearn: 0.4264765\ttotal: 428ms\tremaining: 2.41s\n",
      "151:\tlearn: 0.4262354\ttotal: 431ms\tremaining: 2.4s\n",
      "152:\tlearn: 0.4259229\ttotal: 434ms\tremaining: 2.4s\n",
      "153:\tlearn: 0.4255296\ttotal: 436ms\tremaining: 2.39s\n",
      "154:\tlearn: 0.4250728\ttotal: 438ms\tremaining: 2.39s\n",
      "155:\tlearn: 0.4247512\ttotal: 440ms\tremaining: 2.38s\n",
      "156:\tlearn: 0.4243943\ttotal: 443ms\tremaining: 2.38s\n",
      "157:\tlearn: 0.4239368\ttotal: 445ms\tremaining: 2.37s\n",
      "158:\tlearn: 0.4234931\ttotal: 447ms\tremaining: 2.37s\n"
     ]
    },
    {
     "name": "stdout",
     "output_type": "stream",
     "text": [
      "159:\tlearn: 0.4231831\ttotal: 450ms\tremaining: 2.36s\n",
      "160:\tlearn: 0.4228247\ttotal: 453ms\tremaining: 2.36s\n",
      "161:\tlearn: 0.4224200\ttotal: 455ms\tremaining: 2.35s\n",
      "162:\tlearn: 0.4218900\ttotal: 457ms\tremaining: 2.35s\n",
      "163:\tlearn: 0.4216216\ttotal: 460ms\tremaining: 2.34s\n",
      "164:\tlearn: 0.4209659\ttotal: 462ms\tremaining: 2.34s\n",
      "165:\tlearn: 0.4205915\ttotal: 464ms\tremaining: 2.33s\n",
      "166:\tlearn: 0.4202143\ttotal: 467ms\tremaining: 2.33s\n",
      "167:\tlearn: 0.4197253\ttotal: 469ms\tremaining: 2.32s\n",
      "168:\tlearn: 0.4191254\ttotal: 471ms\tremaining: 2.32s\n",
      "169:\tlearn: 0.4185399\ttotal: 473ms\tremaining: 2.31s\n",
      "170:\tlearn: 0.4179379\ttotal: 476ms\tremaining: 2.31s\n",
      "171:\tlearn: 0.4174030\ttotal: 478ms\tremaining: 2.3s\n",
      "172:\tlearn: 0.4170458\ttotal: 480ms\tremaining: 2.29s\n",
      "173:\tlearn: 0.4166179\ttotal: 483ms\tremaining: 2.29s\n",
      "174:\tlearn: 0.4162139\ttotal: 485ms\tremaining: 2.29s\n",
      "175:\tlearn: 0.4158472\ttotal: 487ms\tremaining: 2.28s\n",
      "176:\tlearn: 0.4153674\ttotal: 490ms\tremaining: 2.28s\n",
      "177:\tlearn: 0.4151086\ttotal: 492ms\tremaining: 2.27s\n",
      "178:\tlearn: 0.4147581\ttotal: 495ms\tremaining: 2.27s\n",
      "179:\tlearn: 0.4143364\ttotal: 498ms\tremaining: 2.27s\n",
      "180:\tlearn: 0.4135288\ttotal: 500ms\tremaining: 2.26s\n",
      "181:\tlearn: 0.4129046\ttotal: 502ms\tremaining: 2.26s\n",
      "182:\tlearn: 0.4125046\ttotal: 505ms\tremaining: 2.25s\n",
      "183:\tlearn: 0.4122266\ttotal: 507ms\tremaining: 2.25s\n",
      "184:\tlearn: 0.4118798\ttotal: 509ms\tremaining: 2.24s\n",
      "185:\tlearn: 0.4114899\ttotal: 512ms\tremaining: 2.24s\n"
     ]
    },
    {
     "name": "stdout",
     "output_type": "stream",
     "text": [
      "186:\tlearn: 0.4109302\ttotal: 515ms\tremaining: 2.24s\n",
      "187:\tlearn: 0.4106025\ttotal: 517ms\tremaining: 2.23s\n",
      "188:\tlearn: 0.4102622\ttotal: 520ms\tremaining: 2.23s\n",
      "189:\tlearn: 0.4100245\ttotal: 522ms\tremaining: 2.23s\n",
      "190:\tlearn: 0.4096780\ttotal: 524ms\tremaining: 2.22s\n",
      "191:\tlearn: 0.4092380\ttotal: 526ms\tremaining: 2.21s\n",
      "192:\tlearn: 0.4088396\ttotal: 529ms\tremaining: 2.21s\n",
      "193:\tlearn: 0.4085258\ttotal: 532ms\tremaining: 2.21s\n",
      "194:\tlearn: 0.4082721\ttotal: 534ms\tremaining: 2.21s\n",
      "195:\tlearn: 0.4080331\ttotal: 537ms\tremaining: 2.2s\n",
      "196:\tlearn: 0.4075904\ttotal: 539ms\tremaining: 2.2s\n",
      "197:\tlearn: 0.4072720\ttotal: 542ms\tremaining: 2.19s\n",
      "198:\tlearn: 0.4068160\ttotal: 544ms\tremaining: 2.19s\n",
      "199:\tlearn: 0.4065065\ttotal: 547ms\tremaining: 2.19s\n",
      "200:\tlearn: 0.4062104\ttotal: 549ms\tremaining: 2.18s\n",
      "201:\tlearn: 0.4057667\ttotal: 551ms\tremaining: 2.18s\n",
      "202:\tlearn: 0.4054619\ttotal: 554ms\tremaining: 2.17s\n",
      "203:\tlearn: 0.4052645\ttotal: 556ms\tremaining: 2.17s\n",
      "204:\tlearn: 0.4048970\ttotal: 559ms\tremaining: 2.17s\n",
      "205:\tlearn: 0.4044925\ttotal: 561ms\tremaining: 2.16s\n",
      "206:\tlearn: 0.4041508\ttotal: 563ms\tremaining: 2.16s\n",
      "207:\tlearn: 0.4038294\ttotal: 566ms\tremaining: 2.15s\n",
      "208:\tlearn: 0.4035330\ttotal: 568ms\tremaining: 2.15s\n",
      "209:\tlearn: 0.4033004\ttotal: 571ms\tremaining: 2.15s\n",
      "210:\tlearn: 0.4029514\ttotal: 573ms\tremaining: 2.14s\n",
      "211:\tlearn: 0.4026221\ttotal: 575ms\tremaining: 2.14s\n",
      "212:\tlearn: 0.4022990\ttotal: 578ms\tremaining: 2.13s\n",
      "213:\tlearn: 0.4020047\ttotal: 580ms\tremaining: 2.13s\n",
      "214:\tlearn: 0.4017530\ttotal: 583ms\tremaining: 2.13s\n"
     ]
    },
    {
     "name": "stdout",
     "output_type": "stream",
     "text": [
      "215:\tlearn: 0.4014037\ttotal: 585ms\tremaining: 2.12s\n",
      "216:\tlearn: 0.4010907\ttotal: 587ms\tremaining: 2.12s\n",
      "217:\tlearn: 0.4007009\ttotal: 590ms\tremaining: 2.11s\n",
      "218:\tlearn: 0.4003485\ttotal: 592ms\tremaining: 2.11s\n",
      "219:\tlearn: 0.4000918\ttotal: 594ms\tremaining: 2.1s\n",
      "220:\tlearn: 0.3997820\ttotal: 597ms\tremaining: 2.1s\n",
      "221:\tlearn: 0.3995835\ttotal: 599ms\tremaining: 2.1s\n",
      "222:\tlearn: 0.3993886\ttotal: 602ms\tremaining: 2.1s\n",
      "223:\tlearn: 0.3990325\ttotal: 604ms\tremaining: 2.09s\n",
      "224:\tlearn: 0.3987830\ttotal: 606ms\tremaining: 2.09s\n",
      "225:\tlearn: 0.3983064\ttotal: 609ms\tremaining: 2.08s\n",
      "226:\tlearn: 0.3980154\ttotal: 611ms\tremaining: 2.08s\n",
      "227:\tlearn: 0.3977608\ttotal: 614ms\tremaining: 2.08s\n",
      "228:\tlearn: 0.3975295\ttotal: 616ms\tremaining: 2.07s\n",
      "229:\tlearn: 0.3969203\ttotal: 618ms\tremaining: 2.07s\n",
      "230:\tlearn: 0.3966831\ttotal: 621ms\tremaining: 2.06s\n",
      "231:\tlearn: 0.3964416\ttotal: 623ms\tremaining: 2.06s\n",
      "232:\tlearn: 0.3961274\ttotal: 625ms\tremaining: 2.06s\n",
      "233:\tlearn: 0.3958244\ttotal: 628ms\tremaining: 2.05s\n",
      "234:\tlearn: 0.3956219\ttotal: 630ms\tremaining: 2.05s\n",
      "235:\tlearn: 0.3954150\ttotal: 633ms\tremaining: 2.05s\n",
      "236:\tlearn: 0.3952201\ttotal: 635ms\tremaining: 2.04s\n",
      "237:\tlearn: 0.3949419\ttotal: 637ms\tremaining: 2.04s\n",
      "238:\tlearn: 0.3946028\ttotal: 639ms\tremaining: 2.04s\n",
      "239:\tlearn: 0.3943399\ttotal: 642ms\tremaining: 2.03s\n"
     ]
    },
    {
     "name": "stdout",
     "output_type": "stream",
     "text": [
      "240:\tlearn: 0.3940907\ttotal: 645ms\tremaining: 2.03s\n",
      "241:\tlearn: 0.3937513\ttotal: 648ms\tremaining: 2.03s\n",
      "242:\tlearn: 0.3935783\ttotal: 650ms\tremaining: 2.02s\n",
      "243:\tlearn: 0.3933741\ttotal: 652ms\tremaining: 2.02s\n",
      "244:\tlearn: 0.3931038\ttotal: 655ms\tremaining: 2.02s\n",
      "245:\tlearn: 0.3928000\ttotal: 657ms\tremaining: 2.01s\n",
      "246:\tlearn: 0.3925488\ttotal: 660ms\tremaining: 2.01s\n",
      "247:\tlearn: 0.3923127\ttotal: 662ms\tremaining: 2.01s\n",
      "248:\tlearn: 0.3920387\ttotal: 665ms\tremaining: 2s\n",
      "249:\tlearn: 0.3914800\ttotal: 667ms\tremaining: 2s\n",
      "250:\tlearn: 0.3913277\ttotal: 669ms\tremaining: 2s\n",
      "251:\tlearn: 0.3911541\ttotal: 672ms\tremaining: 1.99s\n",
      "252:\tlearn: 0.3909010\ttotal: 674ms\tremaining: 1.99s\n",
      "253:\tlearn: 0.3906142\ttotal: 677ms\tremaining: 1.99s\n",
      "254:\tlearn: 0.3904101\ttotal: 679ms\tremaining: 1.98s\n",
      "255:\tlearn: 0.3902596\ttotal: 681ms\tremaining: 1.98s\n",
      "256:\tlearn: 0.3900426\ttotal: 684ms\tremaining: 1.98s\n",
      "257:\tlearn: 0.3898004\ttotal: 686ms\tremaining: 1.97s\n",
      "258:\tlearn: 0.3894933\ttotal: 689ms\tremaining: 1.97s\n",
      "259:\tlearn: 0.3891369\ttotal: 691ms\tremaining: 1.97s\n",
      "260:\tlearn: 0.3889308\ttotal: 694ms\tremaining: 1.96s\n",
      "261:\tlearn: 0.3886282\ttotal: 696ms\tremaining: 1.96s\n",
      "262:\tlearn: 0.3884142\ttotal: 699ms\tremaining: 1.96s\n",
      "263:\tlearn: 0.3881156\ttotal: 701ms\tremaining: 1.95s\n",
      "264:\tlearn: 0.3878840\ttotal: 704ms\tremaining: 1.95s\n",
      "265:\tlearn: 0.3875602\ttotal: 706ms\tremaining: 1.95s\n",
      "266:\tlearn: 0.3873118\ttotal: 708ms\tremaining: 1.94s\n"
     ]
    },
    {
     "name": "stdout",
     "output_type": "stream",
     "text": [
      "267:\tlearn: 0.3870794\ttotal: 711ms\tremaining: 1.94s\n",
      "268:\tlearn: 0.3867726\ttotal: 714ms\tremaining: 1.94s\n",
      "269:\tlearn: 0.3865881\ttotal: 717ms\tremaining: 1.94s\n",
      "270:\tlearn: 0.3862646\ttotal: 719ms\tremaining: 1.93s\n",
      "271:\tlearn: 0.3859004\ttotal: 722ms\tremaining: 1.93s\n",
      "272:\tlearn: 0.3856571\ttotal: 724ms\tremaining: 1.93s\n",
      "273:\tlearn: 0.3854299\ttotal: 727ms\tremaining: 1.93s\n",
      "274:\tlearn: 0.3851272\ttotal: 729ms\tremaining: 1.92s\n",
      "275:\tlearn: 0.3849162\ttotal: 731ms\tremaining: 1.92s\n",
      "276:\tlearn: 0.3846746\ttotal: 734ms\tremaining: 1.92s\n",
      "277:\tlearn: 0.3845514\ttotal: 737ms\tremaining: 1.91s\n",
      "278:\tlearn: 0.3843300\ttotal: 739ms\tremaining: 1.91s\n",
      "279:\tlearn: 0.3840672\ttotal: 742ms\tremaining: 1.91s\n",
      "280:\tlearn: 0.3836605\ttotal: 744ms\tremaining: 1.9s\n",
      "281:\tlearn: 0.3834254\ttotal: 747ms\tremaining: 1.9s\n",
      "282:\tlearn: 0.3831799\ttotal: 749ms\tremaining: 1.9s\n",
      "283:\tlearn: 0.3830116\ttotal: 751ms\tremaining: 1.89s\n",
      "284:\tlearn: 0.3828303\ttotal: 754ms\tremaining: 1.89s\n",
      "285:\tlearn: 0.3826108\ttotal: 756ms\tremaining: 1.89s\n",
      "286:\tlearn: 0.3823235\ttotal: 759ms\tremaining: 1.89s\n",
      "287:\tlearn: 0.3821095\ttotal: 761ms\tremaining: 1.88s\n",
      "288:\tlearn: 0.3818162\ttotal: 764ms\tremaining: 1.88s\n",
      "289:\tlearn: 0.3816274\ttotal: 766ms\tremaining: 1.88s\n",
      "290:\tlearn: 0.3814416\ttotal: 769ms\tremaining: 1.87s\n",
      "291:\tlearn: 0.3812829\ttotal: 771ms\tremaining: 1.87s\n",
      "292:\tlearn: 0.3810513\ttotal: 774ms\tremaining: 1.87s\n",
      "293:\tlearn: 0.3808485\ttotal: 776ms\tremaining: 1.86s\n",
      "294:\tlearn: 0.3805750\ttotal: 778ms\tremaining: 1.86s\n"
     ]
    },
    {
     "name": "stdout",
     "output_type": "stream",
     "text": [
      "295:\tlearn: 0.3803234\ttotal: 781ms\tremaining: 1.86s\n",
      "296:\tlearn: 0.3801055\ttotal: 784ms\tremaining: 1.85s\n",
      "297:\tlearn: 0.3798633\ttotal: 786ms\tremaining: 1.85s\n",
      "298:\tlearn: 0.3796739\ttotal: 788ms\tremaining: 1.85s\n",
      "299:\tlearn: 0.3794433\ttotal: 791ms\tremaining: 1.84s\n",
      "300:\tlearn: 0.3791399\ttotal: 793ms\tremaining: 1.84s\n",
      "301:\tlearn: 0.3789909\ttotal: 796ms\tremaining: 1.84s\n",
      "302:\tlearn: 0.3785293\ttotal: 799ms\tremaining: 1.84s\n",
      "303:\tlearn: 0.3783091\ttotal: 801ms\tremaining: 1.83s\n",
      "304:\tlearn: 0.3780737\ttotal: 804ms\tremaining: 1.83s\n",
      "305:\tlearn: 0.3778651\ttotal: 807ms\tremaining: 1.83s\n",
      "306:\tlearn: 0.3776077\ttotal: 809ms\tremaining: 1.83s\n",
      "307:\tlearn: 0.3774350\ttotal: 812ms\tremaining: 1.82s\n",
      "308:\tlearn: 0.3772005\ttotal: 814ms\tremaining: 1.82s\n",
      "309:\tlearn: 0.3769884\ttotal: 816ms\tremaining: 1.82s\n",
      "310:\tlearn: 0.3768232\ttotal: 819ms\tremaining: 1.81s\n",
      "311:\tlearn: 0.3766904\ttotal: 821ms\tremaining: 1.81s\n",
      "312:\tlearn: 0.3764421\ttotal: 823ms\tremaining: 1.81s\n",
      "313:\tlearn: 0.3762461\ttotal: 826ms\tremaining: 1.8s\n",
      "314:\tlearn: 0.3760847\ttotal: 828ms\tremaining: 1.8s\n",
      "315:\tlearn: 0.3759388\ttotal: 830ms\tremaining: 1.8s\n",
      "316:\tlearn: 0.3757148\ttotal: 832ms\tremaining: 1.79s\n",
      "317:\tlearn: 0.3755634\ttotal: 835ms\tremaining: 1.79s\n",
      "318:\tlearn: 0.3753568\ttotal: 837ms\tremaining: 1.79s\n"
     ]
    },
    {
     "name": "stdout",
     "output_type": "stream",
     "text": [
      "319:\tlearn: 0.3752171\ttotal: 841ms\tremaining: 1.79s\n",
      "320:\tlearn: 0.3750347\ttotal: 843ms\tremaining: 1.78s\n",
      "321:\tlearn: 0.3748534\ttotal: 846ms\tremaining: 1.78s\n",
      "322:\tlearn: 0.3746849\ttotal: 848ms\tremaining: 1.78s\n",
      "323:\tlearn: 0.3745311\ttotal: 850ms\tremaining: 1.77s\n",
      "324:\tlearn: 0.3743911\ttotal: 853ms\tremaining: 1.77s\n",
      "325:\tlearn: 0.3741388\ttotal: 855ms\tremaining: 1.77s\n",
      "326:\tlearn: 0.3738002\ttotal: 857ms\tremaining: 1.76s\n",
      "327:\tlearn: 0.3736551\ttotal: 859ms\tremaining: 1.76s\n",
      "328:\tlearn: 0.3734890\ttotal: 862ms\tremaining: 1.76s\n",
      "329:\tlearn: 0.3732772\ttotal: 864ms\tremaining: 1.75s\n",
      "330:\tlearn: 0.3731428\ttotal: 867ms\tremaining: 1.75s\n",
      "331:\tlearn: 0.3730252\ttotal: 869ms\tremaining: 1.75s\n",
      "332:\tlearn: 0.3729088\ttotal: 872ms\tremaining: 1.75s\n",
      "333:\tlearn: 0.3726931\ttotal: 874ms\tremaining: 1.74s\n",
      "334:\tlearn: 0.3723005\ttotal: 877ms\tremaining: 1.74s\n",
      "335:\tlearn: 0.3720269\ttotal: 879ms\tremaining: 1.74s\n",
      "336:\tlearn: 0.3718449\ttotal: 881ms\tremaining: 1.73s\n",
      "337:\tlearn: 0.3717053\ttotal: 884ms\tremaining: 1.73s\n",
      "338:\tlearn: 0.3715098\ttotal: 886ms\tremaining: 1.73s\n",
      "339:\tlearn: 0.3713386\ttotal: 889ms\tremaining: 1.72s\n",
      "340:\tlearn: 0.3711787\ttotal: 891ms\tremaining: 1.72s\n",
      "341:\tlearn: 0.3709515\ttotal: 893ms\tremaining: 1.72s\n",
      "342:\tlearn: 0.3707750\ttotal: 896ms\tremaining: 1.72s\n",
      "343:\tlearn: 0.3705575\ttotal: 898ms\tremaining: 1.71s\n",
      "344:\tlearn: 0.3704439\ttotal: 900ms\tremaining: 1.71s\n",
      "345:\tlearn: 0.3702833\ttotal: 903ms\tremaining: 1.71s\n",
      "346:\tlearn: 0.3701271\ttotal: 905ms\tremaining: 1.7s\n"
     ]
    },
    {
     "name": "stdout",
     "output_type": "stream",
     "text": [
      "347:\tlearn: 0.3699263\ttotal: 908ms\tremaining: 1.7s\n",
      "348:\tlearn: 0.3694933\ttotal: 911ms\tremaining: 1.7s\n",
      "349:\tlearn: 0.3693141\ttotal: 913ms\tremaining: 1.7s\n",
      "350:\tlearn: 0.3692109\ttotal: 915ms\tremaining: 1.69s\n",
      "351:\tlearn: 0.3689712\ttotal: 918ms\tremaining: 1.69s\n",
      "352:\tlearn: 0.3686876\ttotal: 920ms\tremaining: 1.69s\n",
      "353:\tlearn: 0.3685168\ttotal: 923ms\tremaining: 1.68s\n",
      "354:\tlearn: 0.3683107\ttotal: 925ms\tremaining: 1.68s\n",
      "355:\tlearn: 0.3681385\ttotal: 928ms\tremaining: 1.68s\n",
      "356:\tlearn: 0.3679393\ttotal: 930ms\tremaining: 1.68s\n",
      "357:\tlearn: 0.3675611\ttotal: 932ms\tremaining: 1.67s\n",
      "358:\tlearn: 0.3673239\ttotal: 935ms\tremaining: 1.67s\n",
      "359:\tlearn: 0.3671493\ttotal: 937ms\tremaining: 1.67s\n",
      "360:\tlearn: 0.3670359\ttotal: 940ms\tremaining: 1.66s\n",
      "361:\tlearn: 0.3669069\ttotal: 942ms\tremaining: 1.66s\n",
      "362:\tlearn: 0.3666511\ttotal: 944ms\tremaining: 1.66s\n",
      "363:\tlearn: 0.3663820\ttotal: 947ms\tremaining: 1.65s\n",
      "364:\tlearn: 0.3662443\ttotal: 949ms\tremaining: 1.65s\n",
      "365:\tlearn: 0.3660714\ttotal: 951ms\tremaining: 1.65s\n",
      "366:\tlearn: 0.3659231\ttotal: 953ms\tremaining: 1.64s\n",
      "367:\tlearn: 0.3657243\ttotal: 956ms\tremaining: 1.64s\n",
      "368:\tlearn: 0.3655329\ttotal: 958ms\tremaining: 1.64s\n",
      "369:\tlearn: 0.3653321\ttotal: 961ms\tremaining: 1.64s\n",
      "370:\tlearn: 0.3651799\ttotal: 963ms\tremaining: 1.63s\n",
      "371:\tlearn: 0.3650132\ttotal: 965ms\tremaining: 1.63s\n",
      "372:\tlearn: 0.3649115\ttotal: 968ms\tremaining: 1.63s\n",
      "373:\tlearn: 0.3648078\ttotal: 970ms\tremaining: 1.62s\n",
      "374:\tlearn: 0.3645141\ttotal: 972ms\tremaining: 1.62s\n",
      "375:\tlearn: 0.3644229\ttotal: 975ms\tremaining: 1.62s\n"
     ]
    },
    {
     "name": "stdout",
     "output_type": "stream",
     "text": [
      "376:\tlearn: 0.3642492\ttotal: 977ms\tremaining: 1.61s\n",
      "377:\tlearn: 0.3641010\ttotal: 979ms\tremaining: 1.61s\n",
      "378:\tlearn: 0.3639351\ttotal: 981ms\tremaining: 1.61s\n",
      "379:\tlearn: 0.3637375\ttotal: 984ms\tremaining: 1.6s\n",
      "380:\tlearn: 0.3635534\ttotal: 986ms\tremaining: 1.6s\n",
      "381:\tlearn: 0.3633583\ttotal: 989ms\tremaining: 1.6s\n",
      "382:\tlearn: 0.3631727\ttotal: 991ms\tremaining: 1.6s\n",
      "383:\tlearn: 0.3630264\ttotal: 994ms\tremaining: 1.59s\n",
      "384:\tlearn: 0.3627415\ttotal: 996ms\tremaining: 1.59s\n",
      "385:\tlearn: 0.3626129\ttotal: 998ms\tremaining: 1.59s\n",
      "386:\tlearn: 0.3625069\ttotal: 1s\tremaining: 1.58s\n",
      "387:\tlearn: 0.3623445\ttotal: 1s\tremaining: 1.58s\n",
      "388:\tlearn: 0.3621759\ttotal: 1s\tremaining: 1.58s\n",
      "389:\tlearn: 0.3620129\ttotal: 1.01s\tremaining: 1.58s\n",
      "390:\tlearn: 0.3617593\ttotal: 1.01s\tremaining: 1.57s\n",
      "391:\tlearn: 0.3615457\ttotal: 1.01s\tremaining: 1.57s\n",
      "392:\tlearn: 0.3613129\ttotal: 1.01s\tremaining: 1.57s\n",
      "393:\tlearn: 0.3611285\ttotal: 1.02s\tremaining: 1.56s\n",
      "394:\tlearn: 0.3609868\ttotal: 1.02s\tremaining: 1.56s\n",
      "395:\tlearn: 0.3608236\ttotal: 1.02s\tremaining: 1.56s\n",
      "396:\tlearn: 0.3606043\ttotal: 1.02s\tremaining: 1.56s\n",
      "397:\tlearn: 0.3605150\ttotal: 1.03s\tremaining: 1.55s\n",
      "398:\tlearn: 0.3603663\ttotal: 1.03s\tremaining: 1.55s\n",
      "399:\tlearn: 0.3602398\ttotal: 1.03s\tremaining: 1.55s\n",
      "400:\tlearn: 0.3601500\ttotal: 1.03s\tremaining: 1.54s\n"
     ]
    },
    {
     "name": "stdout",
     "output_type": "stream",
     "text": [
      "401:\tlearn: 0.3599237\ttotal: 1.04s\tremaining: 1.54s\n",
      "402:\tlearn: 0.3597387\ttotal: 1.04s\tremaining: 1.54s\n",
      "403:\tlearn: 0.3595394\ttotal: 1.04s\tremaining: 1.54s\n",
      "404:\tlearn: 0.3593145\ttotal: 1.04s\tremaining: 1.53s\n",
      "405:\tlearn: 0.3591688\ttotal: 1.05s\tremaining: 1.53s\n",
      "406:\tlearn: 0.3590021\ttotal: 1.05s\tremaining: 1.53s\n",
      "407:\tlearn: 0.3589009\ttotal: 1.05s\tremaining: 1.53s\n",
      "408:\tlearn: 0.3587974\ttotal: 1.05s\tremaining: 1.52s\n",
      "409:\tlearn: 0.3586001\ttotal: 1.06s\tremaining: 1.52s\n",
      "410:\tlearn: 0.3584310\ttotal: 1.06s\tremaining: 1.52s\n",
      "411:\tlearn: 0.3581873\ttotal: 1.06s\tremaining: 1.52s\n",
      "412:\tlearn: 0.3580690\ttotal: 1.06s\tremaining: 1.51s\n",
      "413:\tlearn: 0.3578751\ttotal: 1.07s\tremaining: 1.51s\n",
      "414:\tlearn: 0.3576471\ttotal: 1.07s\tremaining: 1.51s\n",
      "415:\tlearn: 0.3575029\ttotal: 1.07s\tremaining: 1.51s\n",
      "416:\tlearn: 0.3573371\ttotal: 1.07s\tremaining: 1.5s\n",
      "417:\tlearn: 0.3571685\ttotal: 1.08s\tremaining: 1.5s\n",
      "418:\tlearn: 0.3569366\ttotal: 1.08s\tremaining: 1.5s\n",
      "419:\tlearn: 0.3568225\ttotal: 1.08s\tremaining: 1.49s\n",
      "420:\tlearn: 0.3566514\ttotal: 1.08s\tremaining: 1.49s\n",
      "421:\tlearn: 0.3565115\ttotal: 1.09s\tremaining: 1.49s\n",
      "422:\tlearn: 0.3564116\ttotal: 1.09s\tremaining: 1.49s\n",
      "423:\tlearn: 0.3562654\ttotal: 1.09s\tremaining: 1.48s\n",
      "424:\tlearn: 0.3561392\ttotal: 1.09s\tremaining: 1.48s\n",
      "425:\tlearn: 0.3559867\ttotal: 1.1s\tremaining: 1.48s\n",
      "426:\tlearn: 0.3558025\ttotal: 1.1s\tremaining: 1.47s\n",
      "427:\tlearn: 0.3556933\ttotal: 1.1s\tremaining: 1.47s\n"
     ]
    },
    {
     "name": "stdout",
     "output_type": "stream",
     "text": [
      "428:\tlearn: 0.3555323\ttotal: 1.1s\tremaining: 1.47s\n",
      "429:\tlearn: 0.3553764\ttotal: 1.1s\tremaining: 1.47s\n",
      "430:\tlearn: 0.3552837\ttotal: 1.11s\tremaining: 1.46s\n",
      "431:\tlearn: 0.3552237\ttotal: 1.11s\tremaining: 1.46s\n",
      "432:\tlearn: 0.3551096\ttotal: 1.11s\tremaining: 1.46s\n",
      "433:\tlearn: 0.3549390\ttotal: 1.11s\tremaining: 1.46s\n",
      "434:\tlearn: 0.3548000\ttotal: 1.12s\tremaining: 1.45s\n",
      "435:\tlearn: 0.3545868\ttotal: 1.12s\tremaining: 1.45s\n",
      "436:\tlearn: 0.3544260\ttotal: 1.12s\tremaining: 1.45s\n",
      "437:\tlearn: 0.3541635\ttotal: 1.13s\tremaining: 1.45s\n",
      "438:\tlearn: 0.3539892\ttotal: 1.13s\tremaining: 1.44s\n",
      "439:\tlearn: 0.3538362\ttotal: 1.13s\tremaining: 1.44s\n",
      "440:\tlearn: 0.3536813\ttotal: 1.13s\tremaining: 1.44s\n",
      "441:\tlearn: 0.3535052\ttotal: 1.14s\tremaining: 1.44s\n",
      "442:\tlearn: 0.3533487\ttotal: 1.14s\tremaining: 1.43s\n",
      "443:\tlearn: 0.3532259\ttotal: 1.14s\tremaining: 1.43s\n",
      "444:\tlearn: 0.3530156\ttotal: 1.14s\tremaining: 1.43s\n",
      "445:\tlearn: 0.3527357\ttotal: 1.15s\tremaining: 1.42s\n",
      "446:\tlearn: 0.3525858\ttotal: 1.15s\tremaining: 1.42s\n",
      "447:\tlearn: 0.3524431\ttotal: 1.15s\tremaining: 1.42s\n",
      "448:\tlearn: 0.3522402\ttotal: 1.15s\tremaining: 1.42s\n",
      "449:\tlearn: 0.3521099\ttotal: 1.16s\tremaining: 1.41s\n",
      "450:\tlearn: 0.3519766\ttotal: 1.16s\tremaining: 1.41s\n",
      "451:\tlearn: 0.3517892\ttotal: 1.16s\tremaining: 1.41s\n",
      "452:\tlearn: 0.3515596\ttotal: 1.16s\tremaining: 1.41s\n",
      "453:\tlearn: 0.3514196\ttotal: 1.17s\tremaining: 1.4s\n",
      "454:\tlearn: 0.3511976\ttotal: 1.17s\tremaining: 1.4s\n",
      "455:\tlearn: 0.3510923\ttotal: 1.17s\tremaining: 1.4s\n"
     ]
    },
    {
     "name": "stdout",
     "output_type": "stream",
     "text": [
      "456:\tlearn: 0.3509585\ttotal: 1.17s\tremaining: 1.39s\n",
      "457:\tlearn: 0.3507834\ttotal: 1.18s\tremaining: 1.39s\n",
      "458:\tlearn: 0.3505161\ttotal: 1.18s\tremaining: 1.39s\n",
      "459:\tlearn: 0.3503959\ttotal: 1.18s\tremaining: 1.39s\n",
      "460:\tlearn: 0.3501921\ttotal: 1.18s\tremaining: 1.38s\n",
      "461:\tlearn: 0.3500690\ttotal: 1.19s\tremaining: 1.38s\n",
      "462:\tlearn: 0.3499848\ttotal: 1.19s\tremaining: 1.38s\n",
      "463:\tlearn: 0.3498698\ttotal: 1.19s\tremaining: 1.38s\n",
      "464:\tlearn: 0.3497391\ttotal: 1.19s\tremaining: 1.37s\n",
      "465:\tlearn: 0.3495772\ttotal: 1.2s\tremaining: 1.37s\n",
      "466:\tlearn: 0.3494832\ttotal: 1.2s\tremaining: 1.37s\n",
      "467:\tlearn: 0.3493636\ttotal: 1.2s\tremaining: 1.36s\n",
      "468:\tlearn: 0.3492329\ttotal: 1.2s\tremaining: 1.36s\n",
      "469:\tlearn: 0.3490757\ttotal: 1.21s\tremaining: 1.36s\n",
      "470:\tlearn: 0.3489183\ttotal: 1.21s\tremaining: 1.36s\n",
      "471:\tlearn: 0.3487995\ttotal: 1.21s\tremaining: 1.35s\n",
      "472:\tlearn: 0.3486354\ttotal: 1.21s\tremaining: 1.35s\n",
      "473:\tlearn: 0.3484812\ttotal: 1.22s\tremaining: 1.35s\n",
      "474:\tlearn: 0.3483448\ttotal: 1.22s\tremaining: 1.35s\n",
      "475:\tlearn: 0.3481971\ttotal: 1.22s\tremaining: 1.34s\n",
      "476:\tlearn: 0.3480530\ttotal: 1.22s\tremaining: 1.34s\n",
      "477:\tlearn: 0.3479639\ttotal: 1.23s\tremaining: 1.34s\n",
      "478:\tlearn: 0.3478033\ttotal: 1.23s\tremaining: 1.33s\n",
      "479:\tlearn: 0.3477143\ttotal: 1.23s\tremaining: 1.33s\n"
     ]
    },
    {
     "name": "stdout",
     "output_type": "stream",
     "text": [
      "480:\tlearn: 0.3475418\ttotal: 1.23s\tremaining: 1.33s\n",
      "481:\tlearn: 0.3474185\ttotal: 1.24s\tremaining: 1.33s\n",
      "482:\tlearn: 0.3472945\ttotal: 1.24s\tremaining: 1.32s\n",
      "483:\tlearn: 0.3470907\ttotal: 1.24s\tremaining: 1.32s\n",
      "484:\tlearn: 0.3469583\ttotal: 1.24s\tremaining: 1.32s\n",
      "485:\tlearn: 0.3467471\ttotal: 1.24s\tremaining: 1.32s\n",
      "486:\tlearn: 0.3466232\ttotal: 1.25s\tremaining: 1.31s\n",
      "487:\tlearn: 0.3464909\ttotal: 1.25s\tremaining: 1.31s\n",
      "488:\tlearn: 0.3462825\ttotal: 1.25s\tremaining: 1.31s\n",
      "489:\tlearn: 0.3461235\ttotal: 1.25s\tremaining: 1.31s\n",
      "490:\tlearn: 0.3460171\ttotal: 1.26s\tremaining: 1.3s\n",
      "491:\tlearn: 0.3459034\ttotal: 1.26s\tremaining: 1.3s\n",
      "492:\tlearn: 0.3456842\ttotal: 1.26s\tremaining: 1.3s\n",
      "493:\tlearn: 0.3455410\ttotal: 1.26s\tremaining: 1.29s\n",
      "494:\tlearn: 0.3453804\ttotal: 1.27s\tremaining: 1.29s\n",
      "495:\tlearn: 0.3452557\ttotal: 1.27s\tremaining: 1.29s\n",
      "496:\tlearn: 0.3452060\ttotal: 1.27s\tremaining: 1.29s\n",
      "497:\tlearn: 0.3451082\ttotal: 1.27s\tremaining: 1.28s\n",
      "498:\tlearn: 0.3450541\ttotal: 1.27s\tremaining: 1.28s\n",
      "499:\tlearn: 0.3449174\ttotal: 1.28s\tremaining: 1.28s\n",
      "500:\tlearn: 0.3447800\ttotal: 1.28s\tremaining: 1.27s\n",
      "501:\tlearn: 0.3445878\ttotal: 1.28s\tremaining: 1.27s\n",
      "502:\tlearn: 0.3444671\ttotal: 1.28s\tremaining: 1.27s\n",
      "503:\tlearn: 0.3443430\ttotal: 1.29s\tremaining: 1.27s\n",
      "504:\tlearn: 0.3442516\ttotal: 1.29s\tremaining: 1.26s\n",
      "505:\tlearn: 0.3441693\ttotal: 1.29s\tremaining: 1.26s\n",
      "506:\tlearn: 0.3440918\ttotal: 1.29s\tremaining: 1.26s\n",
      "507:\tlearn: 0.3439763\ttotal: 1.3s\tremaining: 1.26s\n"
     ]
    },
    {
     "name": "stdout",
     "output_type": "stream",
     "text": [
      "508:\tlearn: 0.3438516\ttotal: 1.3s\tremaining: 1.25s\n",
      "509:\tlearn: 0.3437150\ttotal: 1.3s\tremaining: 1.25s\n",
      "510:\tlearn: 0.3435725\ttotal: 1.3s\tremaining: 1.25s\n",
      "511:\tlearn: 0.3434620\ttotal: 1.31s\tremaining: 1.25s\n",
      "512:\tlearn: 0.3433612\ttotal: 1.31s\tremaining: 1.24s\n",
      "513:\tlearn: 0.3432598\ttotal: 1.31s\tremaining: 1.24s\n",
      "514:\tlearn: 0.3431483\ttotal: 1.31s\tremaining: 1.24s\n",
      "515:\tlearn: 0.3429937\ttotal: 1.32s\tremaining: 1.24s\n",
      "516:\tlearn: 0.3428069\ttotal: 1.32s\tremaining: 1.23s\n",
      "517:\tlearn: 0.3426316\ttotal: 1.32s\tremaining: 1.23s\n",
      "518:\tlearn: 0.3424836\ttotal: 1.32s\tremaining: 1.23s\n",
      "519:\tlearn: 0.3423721\ttotal: 1.33s\tremaining: 1.23s\n",
      "520:\tlearn: 0.3422545\ttotal: 1.33s\tremaining: 1.22s\n",
      "521:\tlearn: 0.3421481\ttotal: 1.33s\tremaining: 1.22s\n",
      "522:\tlearn: 0.3420439\ttotal: 1.33s\tremaining: 1.22s\n",
      "523:\tlearn: 0.3419586\ttotal: 1.34s\tremaining: 1.22s\n",
      "524:\tlearn: 0.3417450\ttotal: 1.34s\tremaining: 1.21s\n",
      "525:\tlearn: 0.3416479\ttotal: 1.34s\tremaining: 1.21s\n",
      "526:\tlearn: 0.3415482\ttotal: 1.34s\tremaining: 1.21s\n",
      "527:\tlearn: 0.3413615\ttotal: 1.35s\tremaining: 1.2s\n",
      "528:\tlearn: 0.3412650\ttotal: 1.35s\tremaining: 1.2s\n",
      "529:\tlearn: 0.3411567\ttotal: 1.35s\tremaining: 1.2s\n",
      "530:\tlearn: 0.3411045\ttotal: 1.35s\tremaining: 1.2s\n",
      "531:\tlearn: 0.3410265\ttotal: 1.36s\tremaining: 1.19s\n",
      "532:\tlearn: 0.3408419\ttotal: 1.36s\tremaining: 1.19s\n",
      "533:\tlearn: 0.3406727\ttotal: 1.36s\tremaining: 1.19s\n",
      "534:\tlearn: 0.3405474\ttotal: 1.36s\tremaining: 1.19s\n"
     ]
    },
    {
     "name": "stdout",
     "output_type": "stream",
     "text": [
      "535:\tlearn: 0.3404797\ttotal: 1.37s\tremaining: 1.18s\n",
      "536:\tlearn: 0.3403341\ttotal: 1.37s\tremaining: 1.18s\n",
      "537:\tlearn: 0.3402388\ttotal: 1.37s\tremaining: 1.18s\n",
      "538:\tlearn: 0.3401729\ttotal: 1.38s\tremaining: 1.18s\n",
      "539:\tlearn: 0.3400332\ttotal: 1.38s\tremaining: 1.17s\n",
      "540:\tlearn: 0.3398243\ttotal: 1.38s\tremaining: 1.17s\n",
      "541:\tlearn: 0.3397446\ttotal: 1.38s\tremaining: 1.17s\n",
      "542:\tlearn: 0.3395744\ttotal: 1.38s\tremaining: 1.17s\n",
      "543:\tlearn: 0.3393994\ttotal: 1.39s\tremaining: 1.16s\n",
      "544:\tlearn: 0.3392650\ttotal: 1.39s\tremaining: 1.16s\n",
      "545:\tlearn: 0.3391841\ttotal: 1.39s\tremaining: 1.16s\n",
      "546:\tlearn: 0.3390810\ttotal: 1.39s\tremaining: 1.15s\n",
      "547:\tlearn: 0.3389781\ttotal: 1.4s\tremaining: 1.15s\n",
      "548:\tlearn: 0.3388610\ttotal: 1.4s\tremaining: 1.15s\n",
      "549:\tlearn: 0.3387719\ttotal: 1.4s\tremaining: 1.15s\n",
      "550:\tlearn: 0.3386407\ttotal: 1.4s\tremaining: 1.14s\n",
      "551:\tlearn: 0.3385341\ttotal: 1.41s\tremaining: 1.14s\n",
      "552:\tlearn: 0.3384306\ttotal: 1.41s\tremaining: 1.14s\n",
      "553:\tlearn: 0.3383449\ttotal: 1.41s\tremaining: 1.14s\n",
      "554:\tlearn: 0.3381783\ttotal: 1.41s\tremaining: 1.13s\n",
      "555:\tlearn: 0.3380745\ttotal: 1.42s\tremaining: 1.13s\n",
      "556:\tlearn: 0.3379851\ttotal: 1.42s\tremaining: 1.13s\n",
      "557:\tlearn: 0.3379031\ttotal: 1.42s\tremaining: 1.13s\n",
      "558:\tlearn: 0.3377487\ttotal: 1.42s\tremaining: 1.12s\n",
      "559:\tlearn: 0.3376304\ttotal: 1.43s\tremaining: 1.12s\n"
     ]
    },
    {
     "name": "stdout",
     "output_type": "stream",
     "text": [
      "560:\tlearn: 0.3375393\ttotal: 1.43s\tremaining: 1.12s\n",
      "561:\tlearn: 0.3374608\ttotal: 1.43s\tremaining: 1.11s\n",
      "562:\tlearn: 0.3373714\ttotal: 1.43s\tremaining: 1.11s\n",
      "563:\tlearn: 0.3373139\ttotal: 1.44s\tremaining: 1.11s\n",
      "564:\tlearn: 0.3371514\ttotal: 1.44s\tremaining: 1.11s\n",
      "565:\tlearn: 0.3370017\ttotal: 1.44s\tremaining: 1.1s\n",
      "566:\tlearn: 0.3368316\ttotal: 1.44s\tremaining: 1.1s\n",
      "567:\tlearn: 0.3367028\ttotal: 1.45s\tremaining: 1.1s\n",
      "568:\tlearn: 0.3366102\ttotal: 1.45s\tremaining: 1.1s\n",
      "569:\tlearn: 0.3364765\ttotal: 1.45s\tremaining: 1.09s\n",
      "570:\tlearn: 0.3363550\ttotal: 1.45s\tremaining: 1.09s\n",
      "571:\tlearn: 0.3361959\ttotal: 1.46s\tremaining: 1.09s\n",
      "572:\tlearn: 0.3361488\ttotal: 1.46s\tremaining: 1.09s\n",
      "573:\tlearn: 0.3360211\ttotal: 1.46s\tremaining: 1.08s\n",
      "574:\tlearn: 0.3359567\ttotal: 1.46s\tremaining: 1.08s\n",
      "575:\tlearn: 0.3358166\ttotal: 1.47s\tremaining: 1.08s\n",
      "576:\tlearn: 0.3357016\ttotal: 1.47s\tremaining: 1.08s\n",
      "577:\tlearn: 0.3355350\ttotal: 1.47s\tremaining: 1.07s\n",
      "578:\tlearn: 0.3354215\ttotal: 1.47s\tremaining: 1.07s\n",
      "579:\tlearn: 0.3353312\ttotal: 1.48s\tremaining: 1.07s\n",
      "580:\tlearn: 0.3351948\ttotal: 1.48s\tremaining: 1.06s\n",
      "581:\tlearn: 0.3350711\ttotal: 1.48s\tremaining: 1.06s\n",
      "582:\tlearn: 0.3350122\ttotal: 1.48s\tremaining: 1.06s\n",
      "583:\tlearn: 0.3348592\ttotal: 1.49s\tremaining: 1.06s\n",
      "584:\tlearn: 0.3347306\ttotal: 1.49s\tremaining: 1.06s\n",
      "585:\tlearn: 0.3346110\ttotal: 1.49s\tremaining: 1.05s\n",
      "586:\tlearn: 0.3345235\ttotal: 1.49s\tremaining: 1.05s\n"
     ]
    },
    {
     "name": "stdout",
     "output_type": "stream",
     "text": [
      "587:\tlearn: 0.3344242\ttotal: 1.5s\tremaining: 1.05s\n",
      "588:\tlearn: 0.3343039\ttotal: 1.5s\tremaining: 1.04s\n",
      "589:\tlearn: 0.3341805\ttotal: 1.5s\tremaining: 1.04s\n",
      "590:\tlearn: 0.3340858\ttotal: 1.5s\tremaining: 1.04s\n",
      "591:\tlearn: 0.3338887\ttotal: 1.5s\tremaining: 1.04s\n",
      "592:\tlearn: 0.3338078\ttotal: 1.51s\tremaining: 1.03s\n",
      "593:\tlearn: 0.3337258\ttotal: 1.51s\tremaining: 1.03s\n",
      "594:\tlearn: 0.3336107\ttotal: 1.51s\tremaining: 1.03s\n",
      "595:\tlearn: 0.3333784\ttotal: 1.51s\tremaining: 1.03s\n",
      "596:\tlearn: 0.3332197\ttotal: 1.52s\tremaining: 1.02s\n",
      "597:\tlearn: 0.3331484\ttotal: 1.52s\tremaining: 1.02s\n",
      "598:\tlearn: 0.3330553\ttotal: 1.52s\tremaining: 1.02s\n",
      "599:\tlearn: 0.3329879\ttotal: 1.52s\tremaining: 1.02s\n",
      "600:\tlearn: 0.3328710\ttotal: 1.53s\tremaining: 1.01s\n",
      "601:\tlearn: 0.3327879\ttotal: 1.53s\tremaining: 1.01s\n",
      "602:\tlearn: 0.3327020\ttotal: 1.53s\tremaining: 1.01s\n",
      "603:\tlearn: 0.3326114\ttotal: 1.53s\tremaining: 1.01s\n",
      "604:\tlearn: 0.3325092\ttotal: 1.54s\tremaining: 1s\n",
      "605:\tlearn: 0.3324048\ttotal: 1.54s\tremaining: 1s\n",
      "606:\tlearn: 0.3323050\ttotal: 1.54s\tremaining: 998ms\n",
      "607:\tlearn: 0.3321774\ttotal: 1.54s\tremaining: 996ms\n",
      "608:\tlearn: 0.3320968\ttotal: 1.55s\tremaining: 993ms\n",
      "609:\tlearn: 0.3319757\ttotal: 1.55s\tremaining: 990ms\n",
      "610:\tlearn: 0.3317749\ttotal: 1.55s\tremaining: 988ms\n",
      "611:\tlearn: 0.3316088\ttotal: 1.55s\tremaining: 986ms\n",
      "612:\tlearn: 0.3314938\ttotal: 1.56s\tremaining: 983ms\n",
      "613:\tlearn: 0.3313800\ttotal: 1.56s\tremaining: 980ms\n"
     ]
    },
    {
     "name": "stdout",
     "output_type": "stream",
     "text": [
      "614:\tlearn: 0.3312509\ttotal: 1.56s\tremaining: 978ms\n",
      "615:\tlearn: 0.3311444\ttotal: 1.56s\tremaining: 975ms\n",
      "616:\tlearn: 0.3310528\ttotal: 1.57s\tremaining: 973ms\n",
      "617:\tlearn: 0.3309811\ttotal: 1.57s\tremaining: 970ms\n",
      "618:\tlearn: 0.3309019\ttotal: 1.57s\tremaining: 968ms\n",
      "619:\tlearn: 0.3308510\ttotal: 1.57s\tremaining: 965ms\n",
      "620:\tlearn: 0.3307006\ttotal: 1.58s\tremaining: 962ms\n",
      "621:\tlearn: 0.3306043\ttotal: 1.58s\tremaining: 960ms\n",
      "622:\tlearn: 0.3305396\ttotal: 1.58s\tremaining: 957ms\n",
      "623:\tlearn: 0.3304258\ttotal: 1.58s\tremaining: 955ms\n",
      "624:\tlearn: 0.3303064\ttotal: 1.59s\tremaining: 952ms\n",
      "625:\tlearn: 0.3301561\ttotal: 1.59s\tremaining: 949ms\n",
      "626:\tlearn: 0.3300517\ttotal: 1.59s\tremaining: 947ms\n",
      "627:\tlearn: 0.3299681\ttotal: 1.59s\tremaining: 944ms\n",
      "628:\tlearn: 0.3298722\ttotal: 1.6s\tremaining: 941ms\n",
      "629:\tlearn: 0.3297502\ttotal: 1.6s\tremaining: 939ms\n",
      "630:\tlearn: 0.3296175\ttotal: 1.6s\tremaining: 936ms\n",
      "631:\tlearn: 0.3294902\ttotal: 1.6s\tremaining: 934ms\n",
      "632:\tlearn: 0.3293429\ttotal: 1.6s\tremaining: 931ms\n",
      "633:\tlearn: 0.3292585\ttotal: 1.61s\tremaining: 928ms\n",
      "634:\tlearn: 0.3291906\ttotal: 1.61s\tremaining: 926ms\n",
      "635:\tlearn: 0.3291364\ttotal: 1.61s\tremaining: 923ms\n",
      "636:\tlearn: 0.3290465\ttotal: 1.61s\tremaining: 921ms\n",
      "637:\tlearn: 0.3289611\ttotal: 1.62s\tremaining: 918ms\n",
      "638:\tlearn: 0.3288627\ttotal: 1.62s\tremaining: 916ms\n"
     ]
    },
    {
     "name": "stdout",
     "output_type": "stream",
     "text": [
      "639:\tlearn: 0.3287945\ttotal: 1.62s\tremaining: 913ms\n",
      "640:\tlearn: 0.3287019\ttotal: 1.63s\tremaining: 911ms\n",
      "641:\tlearn: 0.3286350\ttotal: 1.63s\tremaining: 908ms\n",
      "642:\tlearn: 0.3285471\ttotal: 1.63s\tremaining: 906ms\n",
      "643:\tlearn: 0.3284502\ttotal: 1.63s\tremaining: 903ms\n",
      "644:\tlearn: 0.3283382\ttotal: 1.64s\tremaining: 901ms\n",
      "645:\tlearn: 0.3282018\ttotal: 1.64s\tremaining: 898ms\n",
      "646:\tlearn: 0.3281613\ttotal: 1.64s\tremaining: 896ms\n",
      "647:\tlearn: 0.3280273\ttotal: 1.64s\tremaining: 893ms\n",
      "648:\tlearn: 0.3279533\ttotal: 1.65s\tremaining: 890ms\n",
      "649:\tlearn: 0.3277863\ttotal: 1.65s\tremaining: 888ms\n",
      "650:\tlearn: 0.3276462\ttotal: 1.65s\tremaining: 885ms\n",
      "651:\tlearn: 0.3275078\ttotal: 1.65s\tremaining: 883ms\n",
      "652:\tlearn: 0.3273694\ttotal: 1.66s\tremaining: 880ms\n",
      "653:\tlearn: 0.3272888\ttotal: 1.66s\tremaining: 877ms\n",
      "654:\tlearn: 0.3271370\ttotal: 1.66s\tremaining: 875ms\n",
      "655:\tlearn: 0.3270124\ttotal: 1.66s\tremaining: 872ms\n",
      "656:\tlearn: 0.3269056\ttotal: 1.67s\tremaining: 869ms\n",
      "657:\tlearn: 0.3267966\ttotal: 1.67s\tremaining: 867ms\n",
      "658:\tlearn: 0.3267138\ttotal: 1.67s\tremaining: 864ms\n",
      "659:\tlearn: 0.3266059\ttotal: 1.67s\tremaining: 862ms\n",
      "660:\tlearn: 0.3264824\ttotal: 1.67s\tremaining: 859ms\n",
      "661:\tlearn: 0.3263962\ttotal: 1.68s\tremaining: 856ms\n",
      "662:\tlearn: 0.3262878\ttotal: 1.68s\tremaining: 854ms\n",
      "663:\tlearn: 0.3261715\ttotal: 1.68s\tremaining: 851ms\n",
      "664:\tlearn: 0.3261007\ttotal: 1.68s\tremaining: 849ms\n",
      "665:\tlearn: 0.3260099\ttotal: 1.69s\tremaining: 846ms\n",
      "666:\tlearn: 0.3258826\ttotal: 1.69s\tremaining: 844ms\n"
     ]
    },
    {
     "name": "stdout",
     "output_type": "stream",
     "text": [
      "667:\tlearn: 0.3258136\ttotal: 1.69s\tremaining: 841ms\n",
      "668:\tlearn: 0.3257226\ttotal: 1.69s\tremaining: 839ms\n",
      "669:\tlearn: 0.3256779\ttotal: 1.7s\tremaining: 836ms\n",
      "670:\tlearn: 0.3255904\ttotal: 1.7s\tremaining: 833ms\n",
      "671:\tlearn: 0.3255163\ttotal: 1.7s\tremaining: 831ms\n",
      "672:\tlearn: 0.3254491\ttotal: 1.7s\tremaining: 828ms\n",
      "673:\tlearn: 0.3253779\ttotal: 1.71s\tremaining: 826ms\n",
      "674:\tlearn: 0.3252835\ttotal: 1.71s\tremaining: 823ms\n",
      "675:\tlearn: 0.3251342\ttotal: 1.71s\tremaining: 821ms\n",
      "676:\tlearn: 0.3250337\ttotal: 1.71s\tremaining: 818ms\n",
      "677:\tlearn: 0.3249891\ttotal: 1.72s\tremaining: 815ms\n",
      "678:\tlearn: 0.3248807\ttotal: 1.72s\tremaining: 813ms\n",
      "679:\tlearn: 0.3247927\ttotal: 1.72s\tremaining: 810ms\n",
      "680:\tlearn: 0.3247323\ttotal: 1.72s\tremaining: 807ms\n",
      "681:\tlearn: 0.3246582\ttotal: 1.73s\tremaining: 805ms\n",
      "682:\tlearn: 0.3245390\ttotal: 1.73s\tremaining: 802ms\n",
      "683:\tlearn: 0.3244343\ttotal: 1.73s\tremaining: 799ms\n",
      "684:\tlearn: 0.3243208\ttotal: 1.73s\tremaining: 797ms\n",
      "685:\tlearn: 0.3241368\ttotal: 1.74s\tremaining: 794ms\n",
      "686:\tlearn: 0.3240219\ttotal: 1.74s\tremaining: 792ms\n",
      "687:\tlearn: 0.3239461\ttotal: 1.74s\tremaining: 789ms\n",
      "688:\tlearn: 0.3238374\ttotal: 1.74s\tremaining: 787ms\n",
      "689:\tlearn: 0.3237414\ttotal: 1.75s\tremaining: 784ms\n",
      "690:\tlearn: 0.3236392\ttotal: 1.75s\tremaining: 781ms\n",
      "691:\tlearn: 0.3235388\ttotal: 1.75s\tremaining: 779ms\n",
      "692:\tlearn: 0.3234489\ttotal: 1.75s\tremaining: 776ms\n",
      "693:\tlearn: 0.3232679\ttotal: 1.75s\tremaining: 774ms\n"
     ]
    },
    {
     "name": "stdout",
     "output_type": "stream",
     "text": [
      "694:\tlearn: 0.3231880\ttotal: 1.76s\tremaining: 771ms\n",
      "695:\tlearn: 0.3230142\ttotal: 1.76s\tremaining: 769ms\n",
      "696:\tlearn: 0.3229358\ttotal: 1.76s\tremaining: 766ms\n",
      "697:\tlearn: 0.3228714\ttotal: 1.76s\tremaining: 764ms\n",
      "698:\tlearn: 0.3227875\ttotal: 1.77s\tremaining: 761ms\n",
      "699:\tlearn: 0.3226590\ttotal: 1.77s\tremaining: 758ms\n",
      "700:\tlearn: 0.3225142\ttotal: 1.77s\tremaining: 756ms\n",
      "701:\tlearn: 0.3224101\ttotal: 1.77s\tremaining: 753ms\n",
      "702:\tlearn: 0.3223035\ttotal: 1.78s\tremaining: 751ms\n",
      "703:\tlearn: 0.3222416\ttotal: 1.78s\tremaining: 748ms\n",
      "704:\tlearn: 0.3221664\ttotal: 1.78s\tremaining: 746ms\n",
      "705:\tlearn: 0.3220469\ttotal: 1.78s\tremaining: 743ms\n",
      "706:\tlearn: 0.3218848\ttotal: 1.79s\tremaining: 741ms\n",
      "707:\tlearn: 0.3217716\ttotal: 1.79s\tremaining: 738ms\n",
      "708:\tlearn: 0.3216707\ttotal: 1.79s\tremaining: 735ms\n",
      "709:\tlearn: 0.3214861\ttotal: 1.79s\tremaining: 733ms\n",
      "710:\tlearn: 0.3213390\ttotal: 1.8s\tremaining: 730ms\n",
      "711:\tlearn: 0.3212602\ttotal: 1.8s\tremaining: 728ms\n",
      "712:\tlearn: 0.3211749\ttotal: 1.8s\tremaining: 725ms\n",
      "713:\tlearn: 0.3210886\ttotal: 1.8s\tremaining: 723ms\n",
      "714:\tlearn: 0.3209969\ttotal: 1.81s\tremaining: 720ms\n",
      "715:\tlearn: 0.3209132\ttotal: 1.81s\tremaining: 717ms\n",
      "716:\tlearn: 0.3208033\ttotal: 1.81s\tremaining: 715ms\n",
      "717:\tlearn: 0.3207226\ttotal: 1.81s\tremaining: 712ms\n",
      "718:\tlearn: 0.3205997\ttotal: 1.81s\tremaining: 710ms\n",
      "719:\tlearn: 0.3205091\ttotal: 1.82s\tremaining: 707ms\n"
     ]
    },
    {
     "name": "stdout",
     "output_type": "stream",
     "text": [
      "720:\tlearn: 0.3204145\ttotal: 1.82s\tremaining: 704ms\n",
      "721:\tlearn: 0.3203473\ttotal: 1.82s\tremaining: 702ms\n",
      "722:\tlearn: 0.3202606\ttotal: 1.82s\tremaining: 699ms\n",
      "723:\tlearn: 0.3201841\ttotal: 1.83s\tremaining: 697ms\n",
      "724:\tlearn: 0.3200861\ttotal: 1.83s\tremaining: 694ms\n",
      "725:\tlearn: 0.3199762\ttotal: 1.83s\tremaining: 692ms\n",
      "726:\tlearn: 0.3198459\ttotal: 1.83s\tremaining: 689ms\n",
      "727:\tlearn: 0.3197183\ttotal: 1.84s\tremaining: 687ms\n",
      "728:\tlearn: 0.3196226\ttotal: 1.84s\tremaining: 684ms\n",
      "729:\tlearn: 0.3194257\ttotal: 1.84s\tremaining: 681ms\n",
      "730:\tlearn: 0.3193939\ttotal: 1.84s\tremaining: 679ms\n",
      "731:\tlearn: 0.3193005\ttotal: 1.85s\tremaining: 676ms\n",
      "732:\tlearn: 0.3192011\ttotal: 1.85s\tremaining: 674ms\n",
      "733:\tlearn: 0.3190891\ttotal: 1.85s\tremaining: 671ms\n",
      "734:\tlearn: 0.3190157\ttotal: 1.85s\tremaining: 669ms\n",
      "735:\tlearn: 0.3189361\ttotal: 1.86s\tremaining: 666ms\n",
      "736:\tlearn: 0.3188525\ttotal: 1.86s\tremaining: 664ms\n",
      "737:\tlearn: 0.3187294\ttotal: 1.86s\tremaining: 661ms\n",
      "738:\tlearn: 0.3186538\ttotal: 1.86s\tremaining: 658ms\n",
      "739:\tlearn: 0.3186268\ttotal: 1.87s\tremaining: 656ms\n",
      "740:\tlearn: 0.3185403\ttotal: 1.87s\tremaining: 653ms\n",
      "741:\tlearn: 0.3184298\ttotal: 1.87s\tremaining: 650ms\n",
      "742:\tlearn: 0.3183249\ttotal: 1.87s\tremaining: 648ms\n",
      "743:\tlearn: 0.3182783\ttotal: 1.88s\tremaining: 645ms\n",
      "744:\tlearn: 0.3181825\ttotal: 1.88s\tremaining: 643ms\n",
      "745:\tlearn: 0.3180887\ttotal: 1.88s\tremaining: 640ms\n",
      "746:\tlearn: 0.3179877\ttotal: 1.88s\tremaining: 638ms\n",
      "747:\tlearn: 0.3178969\ttotal: 1.89s\tremaining: 635ms\n"
     ]
    },
    {
     "name": "stdout",
     "output_type": "stream",
     "text": [
      "748:\tlearn: 0.3178079\ttotal: 1.89s\tremaining: 633ms\n",
      "749:\tlearn: 0.3177079\ttotal: 1.89s\tremaining: 630ms\n",
      "750:\tlearn: 0.3175938\ttotal: 1.89s\tremaining: 628ms\n",
      "751:\tlearn: 0.3174807\ttotal: 1.9s\tremaining: 625ms\n",
      "752:\tlearn: 0.3173875\ttotal: 1.9s\tremaining: 623ms\n",
      "753:\tlearn: 0.3172977\ttotal: 1.9s\tremaining: 620ms\n",
      "754:\tlearn: 0.3172435\ttotal: 1.9s\tremaining: 617ms\n",
      "755:\tlearn: 0.3170727\ttotal: 1.9s\tremaining: 615ms\n",
      "756:\tlearn: 0.3170218\ttotal: 1.91s\tremaining: 612ms\n",
      "757:\tlearn: 0.3169117\ttotal: 1.91s\tremaining: 610ms\n",
      "758:\tlearn: 0.3168559\ttotal: 1.91s\tremaining: 607ms\n",
      "759:\tlearn: 0.3167908\ttotal: 1.92s\tremaining: 605ms\n",
      "760:\tlearn: 0.3166867\ttotal: 1.92s\tremaining: 602ms\n",
      "761:\tlearn: 0.3165604\ttotal: 1.92s\tremaining: 600ms\n",
      "762:\tlearn: 0.3164776\ttotal: 1.92s\tremaining: 597ms\n",
      "763:\tlearn: 0.3164218\ttotal: 1.92s\tremaining: 594ms\n",
      "764:\tlearn: 0.3163652\ttotal: 1.93s\tremaining: 592ms\n",
      "765:\tlearn: 0.3162847\ttotal: 1.93s\tremaining: 589ms\n",
      "766:\tlearn: 0.3161741\ttotal: 1.93s\tremaining: 587ms\n",
      "767:\tlearn: 0.3160901\ttotal: 1.93s\tremaining: 584ms\n",
      "768:\tlearn: 0.3159531\ttotal: 1.94s\tremaining: 582ms\n",
      "769:\tlearn: 0.3158708\ttotal: 1.94s\tremaining: 579ms\n",
      "770:\tlearn: 0.3157973\ttotal: 1.94s\tremaining: 577ms\n",
      "771:\tlearn: 0.3156478\ttotal: 1.94s\tremaining: 574ms\n",
      "772:\tlearn: 0.3155686\ttotal: 1.95s\tremaining: 571ms\n",
      "773:\tlearn: 0.3154584\ttotal: 1.95s\tremaining: 569ms\n",
      "774:\tlearn: 0.3154314\ttotal: 1.95s\tremaining: 566ms\n"
     ]
    },
    {
     "name": "stdout",
     "output_type": "stream",
     "text": [
      "775:\tlearn: 0.3153566\ttotal: 1.95s\tremaining: 564ms\n",
      "776:\tlearn: 0.3152730\ttotal: 1.96s\tremaining: 561ms\n",
      "777:\tlearn: 0.3151673\ttotal: 1.96s\tremaining: 559ms\n",
      "778:\tlearn: 0.3150711\ttotal: 1.96s\tremaining: 556ms\n",
      "779:\tlearn: 0.3150046\ttotal: 1.96s\tremaining: 554ms\n",
      "780:\tlearn: 0.3148987\ttotal: 1.97s\tremaining: 551ms\n",
      "781:\tlearn: 0.3147926\ttotal: 1.97s\tremaining: 549ms\n",
      "782:\tlearn: 0.3146816\ttotal: 1.97s\tremaining: 546ms\n",
      "783:\tlearn: 0.3146181\ttotal: 1.97s\tremaining: 544ms\n",
      "784:\tlearn: 0.3145059\ttotal: 1.98s\tremaining: 541ms\n",
      "785:\tlearn: 0.3144334\ttotal: 1.98s\tremaining: 539ms\n",
      "786:\tlearn: 0.3143217\ttotal: 1.98s\tremaining: 536ms\n",
      "787:\tlearn: 0.3142731\ttotal: 1.98s\tremaining: 533ms\n",
      "788:\tlearn: 0.3141995\ttotal: 1.99s\tremaining: 531ms\n",
      "789:\tlearn: 0.3141020\ttotal: 1.99s\tremaining: 528ms\n",
      "790:\tlearn: 0.3140187\ttotal: 1.99s\tremaining: 526ms\n",
      "791:\tlearn: 0.3139193\ttotal: 1.99s\tremaining: 523ms\n",
      "792:\tlearn: 0.3138547\ttotal: 2s\tremaining: 521ms\n",
      "793:\tlearn: 0.3137147\ttotal: 2s\tremaining: 518ms\n",
      "794:\tlearn: 0.3135963\ttotal: 2s\tremaining: 516ms\n",
      "795:\tlearn: 0.3134634\ttotal: 2s\tremaining: 513ms\n",
      "796:\tlearn: 0.3133699\ttotal: 2s\tremaining: 511ms\n",
      "797:\tlearn: 0.3132666\ttotal: 2.01s\tremaining: 508ms\n",
      "798:\tlearn: 0.3132159\ttotal: 2.01s\tremaining: 506ms\n",
      "799:\tlearn: 0.3131544\ttotal: 2.01s\tremaining: 503ms\n"
     ]
    },
    {
     "name": "stdout",
     "output_type": "stream",
     "text": [
      "800:\tlearn: 0.3130380\ttotal: 2.02s\tremaining: 501ms\n",
      "801:\tlearn: 0.3129423\ttotal: 2.02s\tremaining: 498ms\n",
      "802:\tlearn: 0.3128809\ttotal: 2.02s\tremaining: 496ms\n",
      "803:\tlearn: 0.3128121\ttotal: 2.02s\tremaining: 493ms\n",
      "804:\tlearn: 0.3127419\ttotal: 2.02s\tremaining: 491ms\n",
      "805:\tlearn: 0.3126530\ttotal: 2.03s\tremaining: 488ms\n",
      "806:\tlearn: 0.3125448\ttotal: 2.03s\tremaining: 486ms\n",
      "807:\tlearn: 0.3124627\ttotal: 2.03s\tremaining: 483ms\n",
      "808:\tlearn: 0.3123472\ttotal: 2.04s\tremaining: 481ms\n",
      "809:\tlearn: 0.3122430\ttotal: 2.04s\tremaining: 478ms\n",
      "810:\tlearn: 0.3121221\ttotal: 2.04s\tremaining: 475ms\n",
      "811:\tlearn: 0.3120446\ttotal: 2.04s\tremaining: 473ms\n",
      "812:\tlearn: 0.3119865\ttotal: 2.04s\tremaining: 470ms\n",
      "813:\tlearn: 0.3119389\ttotal: 2.05s\tremaining: 468ms\n",
      "814:\tlearn: 0.3118894\ttotal: 2.05s\tremaining: 465ms\n",
      "815:\tlearn: 0.3117446\ttotal: 2.05s\tremaining: 463ms\n",
      "816:\tlearn: 0.3116582\ttotal: 2.05s\tremaining: 460ms\n",
      "817:\tlearn: 0.3115740\ttotal: 2.06s\tremaining: 458ms\n",
      "818:\tlearn: 0.3114915\ttotal: 2.06s\tremaining: 455ms\n",
      "819:\tlearn: 0.3114163\ttotal: 2.06s\tremaining: 453ms\n",
      "820:\tlearn: 0.3113429\ttotal: 2.06s\tremaining: 450ms\n",
      "821:\tlearn: 0.3112947\ttotal: 2.07s\tremaining: 448ms\n",
      "822:\tlearn: 0.3111650\ttotal: 2.07s\tremaining: 445ms\n",
      "823:\tlearn: 0.3110730\ttotal: 2.07s\tremaining: 443ms\n",
      "824:\tlearn: 0.3109834\ttotal: 2.07s\tremaining: 440ms\n",
      "825:\tlearn: 0.3108903\ttotal: 2.08s\tremaining: 438ms\n",
      "826:\tlearn: 0.3107841\ttotal: 2.08s\tremaining: 435ms\n",
      "827:\tlearn: 0.3106799\ttotal: 2.08s\tremaining: 432ms\n"
     ]
    },
    {
     "name": "stdout",
     "output_type": "stream",
     "text": [
      "828:\tlearn: 0.3106218\ttotal: 2.08s\tremaining: 430ms\n",
      "829:\tlearn: 0.3105459\ttotal: 2.09s\tremaining: 427ms\n",
      "830:\tlearn: 0.3104580\ttotal: 2.09s\tremaining: 425ms\n",
      "831:\tlearn: 0.3103410\ttotal: 2.09s\tremaining: 422ms\n",
      "832:\tlearn: 0.3102485\ttotal: 2.09s\tremaining: 420ms\n",
      "833:\tlearn: 0.3101860\ttotal: 2.1s\tremaining: 417ms\n",
      "834:\tlearn: 0.3101136\ttotal: 2.1s\tremaining: 415ms\n",
      "835:\tlearn: 0.3100439\ttotal: 2.1s\tremaining: 412ms\n",
      "836:\tlearn: 0.3099211\ttotal: 2.1s\tremaining: 410ms\n",
      "837:\tlearn: 0.3098551\ttotal: 2.11s\tremaining: 407ms\n",
      "838:\tlearn: 0.3097880\ttotal: 2.11s\tremaining: 405ms\n",
      "839:\tlearn: 0.3097379\ttotal: 2.11s\tremaining: 402ms\n",
      "840:\tlearn: 0.3096335\ttotal: 2.11s\tremaining: 400ms\n",
      "841:\tlearn: 0.3095711\ttotal: 2.12s\tremaining: 397ms\n",
      "842:\tlearn: 0.3094475\ttotal: 2.12s\tremaining: 395ms\n",
      "843:\tlearn: 0.3093277\ttotal: 2.12s\tremaining: 392ms\n",
      "844:\tlearn: 0.3092434\ttotal: 2.12s\tremaining: 390ms\n",
      "845:\tlearn: 0.3091838\ttotal: 2.13s\tremaining: 387ms\n",
      "846:\tlearn: 0.3091223\ttotal: 2.13s\tremaining: 385ms\n",
      "847:\tlearn: 0.3090211\ttotal: 2.13s\tremaining: 382ms\n",
      "848:\tlearn: 0.3089662\ttotal: 2.13s\tremaining: 379ms\n",
      "849:\tlearn: 0.3088654\ttotal: 2.14s\tremaining: 377ms\n",
      "850:\tlearn: 0.3087737\ttotal: 2.14s\tremaining: 375ms\n",
      "851:\tlearn: 0.3086411\ttotal: 2.14s\tremaining: 372ms\n",
      "852:\tlearn: 0.3085247\ttotal: 2.14s\tremaining: 369ms\n",
      "853:\tlearn: 0.3084692\ttotal: 2.15s\tremaining: 367ms\n"
     ]
    },
    {
     "name": "stdout",
     "output_type": "stream",
     "text": [
      "854:\tlearn: 0.3082689\ttotal: 2.15s\tremaining: 364ms\n",
      "855:\tlearn: 0.3081942\ttotal: 2.15s\tremaining: 362ms\n",
      "856:\tlearn: 0.3080680\ttotal: 2.15s\tremaining: 359ms\n",
      "857:\tlearn: 0.3080161\ttotal: 2.16s\tremaining: 357ms\n",
      "858:\tlearn: 0.3078577\ttotal: 2.16s\tremaining: 354ms\n",
      "859:\tlearn: 0.3077926\ttotal: 2.16s\tremaining: 352ms\n",
      "860:\tlearn: 0.3077139\ttotal: 2.16s\tremaining: 349ms\n",
      "861:\tlearn: 0.3076567\ttotal: 2.17s\tremaining: 347ms\n",
      "862:\tlearn: 0.3076096\ttotal: 2.17s\tremaining: 344ms\n",
      "863:\tlearn: 0.3075210\ttotal: 2.17s\tremaining: 342ms\n",
      "864:\tlearn: 0.3074400\ttotal: 2.17s\tremaining: 339ms\n",
      "865:\tlearn: 0.3073182\ttotal: 2.17s\tremaining: 337ms\n",
      "866:\tlearn: 0.3071837\ttotal: 2.18s\tremaining: 334ms\n",
      "867:\tlearn: 0.3071147\ttotal: 2.18s\tremaining: 332ms\n",
      "868:\tlearn: 0.3070111\ttotal: 2.18s\tremaining: 329ms\n",
      "869:\tlearn: 0.3069334\ttotal: 2.19s\tremaining: 327ms\n",
      "870:\tlearn: 0.3067822\ttotal: 2.19s\tremaining: 324ms\n",
      "871:\tlearn: 0.3067128\ttotal: 2.19s\tremaining: 321ms\n",
      "872:\tlearn: 0.3065873\ttotal: 2.19s\tremaining: 319ms\n",
      "873:\tlearn: 0.3065093\ttotal: 2.19s\tremaining: 316ms\n",
      "874:\tlearn: 0.3064522\ttotal: 2.2s\tremaining: 314ms\n",
      "875:\tlearn: 0.3063497\ttotal: 2.2s\tremaining: 311ms\n",
      "876:\tlearn: 0.3063001\ttotal: 2.2s\tremaining: 309ms\n",
      "877:\tlearn: 0.3062405\ttotal: 2.2s\tremaining: 306ms\n",
      "878:\tlearn: 0.3061665\ttotal: 2.21s\tremaining: 304ms\n"
     ]
    },
    {
     "name": "stdout",
     "output_type": "stream",
     "text": [
      "879:\tlearn: 0.3061165\ttotal: 2.21s\tremaining: 301ms\n",
      "880:\tlearn: 0.3060377\ttotal: 2.21s\tremaining: 299ms\n",
      "881:\tlearn: 0.3059316\ttotal: 2.21s\tremaining: 296ms\n",
      "882:\tlearn: 0.3058284\ttotal: 2.22s\tremaining: 294ms\n",
      "883:\tlearn: 0.3057496\ttotal: 2.22s\tremaining: 291ms\n",
      "884:\tlearn: 0.3056533\ttotal: 2.22s\tremaining: 289ms\n",
      "885:\tlearn: 0.3055692\ttotal: 2.22s\tremaining: 286ms\n",
      "886:\tlearn: 0.3054702\ttotal: 2.23s\tremaining: 284ms\n",
      "887:\tlearn: 0.3053769\ttotal: 2.23s\tremaining: 281ms\n",
      "888:\tlearn: 0.3053000\ttotal: 2.23s\tremaining: 279ms\n",
      "889:\tlearn: 0.3052323\ttotal: 2.23s\tremaining: 276ms\n",
      "890:\tlearn: 0.3051464\ttotal: 2.23s\tremaining: 274ms\n",
      "891:\tlearn: 0.3050896\ttotal: 2.24s\tremaining: 271ms\n",
      "892:\tlearn: 0.3050266\ttotal: 2.24s\tremaining: 268ms\n",
      "893:\tlearn: 0.3049701\ttotal: 2.24s\tremaining: 266ms\n",
      "894:\tlearn: 0.3048954\ttotal: 2.25s\tremaining: 263ms\n",
      "895:\tlearn: 0.3048181\ttotal: 2.25s\tremaining: 261ms\n",
      "896:\tlearn: 0.3047283\ttotal: 2.25s\tremaining: 258ms\n",
      "897:\tlearn: 0.3046378\ttotal: 2.25s\tremaining: 256ms\n",
      "898:\tlearn: 0.3045651\ttotal: 2.25s\tremaining: 253ms\n",
      "899:\tlearn: 0.3044730\ttotal: 2.26s\tremaining: 251ms\n",
      "900:\tlearn: 0.3043745\ttotal: 2.26s\tremaining: 248ms\n",
      "901:\tlearn: 0.3042345\ttotal: 2.26s\tremaining: 246ms\n",
      "902:\tlearn: 0.3041400\ttotal: 2.26s\tremaining: 243ms\n",
      "903:\tlearn: 0.3040907\ttotal: 2.27s\tremaining: 241ms\n",
      "904:\tlearn: 0.3040398\ttotal: 2.27s\tremaining: 238ms\n",
      "905:\tlearn: 0.3039275\ttotal: 2.27s\tremaining: 236ms\n",
      "906:\tlearn: 0.3037980\ttotal: 2.27s\tremaining: 233ms\n",
      "907:\tlearn: 0.3037317\ttotal: 2.28s\tremaining: 231ms\n"
     ]
    },
    {
     "name": "stdout",
     "output_type": "stream",
     "text": [
      "908:\tlearn: 0.3036683\ttotal: 2.28s\tremaining: 228ms\n",
      "909:\tlearn: 0.3036126\ttotal: 2.28s\tremaining: 226ms\n",
      "910:\tlearn: 0.3034819\ttotal: 2.28s\tremaining: 223ms\n",
      "911:\tlearn: 0.3034168\ttotal: 2.29s\tremaining: 221ms\n",
      "912:\tlearn: 0.3032755\ttotal: 2.29s\tremaining: 218ms\n",
      "913:\tlearn: 0.3032015\ttotal: 2.29s\tremaining: 216ms\n",
      "914:\tlearn: 0.3030665\ttotal: 2.29s\tremaining: 213ms\n",
      "915:\tlearn: 0.3029833\ttotal: 2.29s\tremaining: 211ms\n",
      "916:\tlearn: 0.3029400\ttotal: 2.3s\tremaining: 208ms\n",
      "917:\tlearn: 0.3028252\ttotal: 2.3s\tremaining: 205ms\n",
      "918:\tlearn: 0.3027427\ttotal: 2.3s\tremaining: 203ms\n",
      "919:\tlearn: 0.3026144\ttotal: 2.31s\tremaining: 200ms\n",
      "920:\tlearn: 0.3025534\ttotal: 2.31s\tremaining: 198ms\n",
      "921:\tlearn: 0.3024975\ttotal: 2.31s\tremaining: 195ms\n",
      "922:\tlearn: 0.3024198\ttotal: 2.31s\tremaining: 193ms\n",
      "923:\tlearn: 0.3023575\ttotal: 2.31s\tremaining: 190ms\n",
      "924:\tlearn: 0.3022908\ttotal: 2.32s\tremaining: 188ms\n",
      "925:\tlearn: 0.3022109\ttotal: 2.32s\tremaining: 185ms\n",
      "926:\tlearn: 0.3021715\ttotal: 2.32s\tremaining: 183ms\n",
      "927:\tlearn: 0.3021343\ttotal: 2.32s\tremaining: 180ms\n",
      "928:\tlearn: 0.3020654\ttotal: 2.33s\tremaining: 178ms\n",
      "929:\tlearn: 0.3019722\ttotal: 2.33s\tremaining: 175ms\n",
      "930:\tlearn: 0.3018895\ttotal: 2.33s\tremaining: 173ms\n",
      "931:\tlearn: 0.3018209\ttotal: 2.33s\tremaining: 170ms\n",
      "932:\tlearn: 0.3017593\ttotal: 2.34s\tremaining: 168ms\n",
      "933:\tlearn: 0.3016384\ttotal: 2.34s\tremaining: 165ms\n",
      "934:\tlearn: 0.3015800\ttotal: 2.34s\tremaining: 163ms\n"
     ]
    },
    {
     "name": "stdout",
     "output_type": "stream",
     "text": [
      "935:\tlearn: 0.3015056\ttotal: 2.34s\tremaining: 160ms\n",
      "936:\tlearn: 0.3014436\ttotal: 2.35s\tremaining: 158ms\n",
      "937:\tlearn: 0.3013449\ttotal: 2.35s\tremaining: 155ms\n",
      "938:\tlearn: 0.3012726\ttotal: 2.35s\tremaining: 153ms\n",
      "939:\tlearn: 0.3012109\ttotal: 2.35s\tremaining: 150ms\n",
      "940:\tlearn: 0.3011094\ttotal: 2.36s\tremaining: 148ms\n",
      "941:\tlearn: 0.3010694\ttotal: 2.36s\tremaining: 145ms\n",
      "942:\tlearn: 0.3010170\ttotal: 2.36s\tremaining: 143ms\n",
      "943:\tlearn: 0.3009007\ttotal: 2.36s\tremaining: 140ms\n",
      "944:\tlearn: 0.3008059\ttotal: 2.37s\tremaining: 138ms\n",
      "945:\tlearn: 0.3006926\ttotal: 2.37s\tremaining: 135ms\n",
      "946:\tlearn: 0.3006031\ttotal: 2.37s\tremaining: 133ms\n",
      "947:\tlearn: 0.3005212\ttotal: 2.37s\tremaining: 130ms\n",
      "948:\tlearn: 0.3004423\ttotal: 2.38s\tremaining: 128ms\n",
      "949:\tlearn: 0.3003561\ttotal: 2.38s\tremaining: 125ms\n",
      "950:\tlearn: 0.3003155\ttotal: 2.38s\tremaining: 123ms\n",
      "951:\tlearn: 0.3002628\ttotal: 2.38s\tremaining: 120ms\n",
      "952:\tlearn: 0.3001997\ttotal: 2.38s\tremaining: 118ms\n",
      "953:\tlearn: 0.3001197\ttotal: 2.39s\tremaining: 115ms\n",
      "954:\tlearn: 0.3000636\ttotal: 2.39s\tremaining: 113ms\n",
      "955:\tlearn: 0.3000203\ttotal: 2.39s\tremaining: 110ms\n",
      "956:\tlearn: 0.2999798\ttotal: 2.39s\tremaining: 108ms\n",
      "957:\tlearn: 0.2998734\ttotal: 2.4s\tremaining: 105ms\n",
      "958:\tlearn: 0.2997975\ttotal: 2.4s\tremaining: 103ms\n",
      "959:\tlearn: 0.2997541\ttotal: 2.4s\tremaining: 100ms\n"
     ]
    },
    {
     "name": "stdout",
     "output_type": "stream",
     "text": [
      "960:\tlearn: 0.2996976\ttotal: 2.4s\tremaining: 97.6ms\n",
      "961:\tlearn: 0.2996300\ttotal: 2.41s\tremaining: 95.1ms\n",
      "962:\tlearn: 0.2995680\ttotal: 2.41s\tremaining: 92.6ms\n",
      "963:\tlearn: 0.2994848\ttotal: 2.41s\tremaining: 90.1ms\n",
      "964:\tlearn: 0.2993810\ttotal: 2.41s\tremaining: 87.6ms\n",
      "965:\tlearn: 0.2993213\ttotal: 2.42s\tremaining: 85.1ms\n",
      "966:\tlearn: 0.2992779\ttotal: 2.42s\tremaining: 82.6ms\n",
      "967:\tlearn: 0.2992254\ttotal: 2.42s\tremaining: 80.1ms\n",
      "968:\tlearn: 0.2991472\ttotal: 2.42s\tremaining: 77.5ms\n",
      "969:\tlearn: 0.2990758\ttotal: 2.43s\tremaining: 75ms\n",
      "970:\tlearn: 0.2990053\ttotal: 2.43s\tremaining: 72.5ms\n",
      "971:\tlearn: 0.2989268\ttotal: 2.43s\tremaining: 70ms\n",
      "972:\tlearn: 0.2988547\ttotal: 2.43s\tremaining: 67.5ms\n",
      "973:\tlearn: 0.2987814\ttotal: 2.44s\tremaining: 65ms\n",
      "974:\tlearn: 0.2986608\ttotal: 2.44s\tremaining: 62.5ms\n",
      "975:\tlearn: 0.2985480\ttotal: 2.44s\tremaining: 60ms\n",
      "976:\tlearn: 0.2984570\ttotal: 2.44s\tremaining: 57.5ms\n",
      "977:\tlearn: 0.2983894\ttotal: 2.45s\tremaining: 55ms\n",
      "978:\tlearn: 0.2983089\ttotal: 2.45s\tremaining: 52.5ms\n",
      "979:\tlearn: 0.2982241\ttotal: 2.45s\tremaining: 50ms\n",
      "980:\tlearn: 0.2981867\ttotal: 2.45s\tremaining: 47.5ms\n",
      "981:\tlearn: 0.2981518\ttotal: 2.46s\tremaining: 45ms\n",
      "982:\tlearn: 0.2980411\ttotal: 2.46s\tremaining: 42.5ms\n",
      "983:\tlearn: 0.2979873\ttotal: 2.46s\tremaining: 40ms\n",
      "984:\tlearn: 0.2979098\ttotal: 2.46s\tremaining: 37.5ms\n",
      "985:\tlearn: 0.2978257\ttotal: 2.46s\tremaining: 35ms\n",
      "986:\tlearn: 0.2977960\ttotal: 2.47s\tremaining: 32.5ms\n",
      "987:\tlearn: 0.2977413\ttotal: 2.47s\tremaining: 30ms\n",
      "988:\tlearn: 0.2976324\ttotal: 2.47s\tremaining: 27.5ms\n"
     ]
    },
    {
     "name": "stdout",
     "output_type": "stream",
     "text": [
      "989:\tlearn: 0.2975718\ttotal: 2.48s\tremaining: 25ms\n",
      "990:\tlearn: 0.2975058\ttotal: 2.48s\tremaining: 22.5ms\n",
      "991:\tlearn: 0.2974425\ttotal: 2.48s\tremaining: 20ms\n",
      "992:\tlearn: 0.2973857\ttotal: 2.48s\tremaining: 17.5ms\n",
      "993:\tlearn: 0.2972912\ttotal: 2.49s\tremaining: 15ms\n",
      "994:\tlearn: 0.2972278\ttotal: 2.49s\tremaining: 12.5ms\n",
      "995:\tlearn: 0.2971759\ttotal: 2.49s\tremaining: 10ms\n",
      "996:\tlearn: 0.2971102\ttotal: 2.49s\tremaining: 7.5ms\n",
      "997:\tlearn: 0.2970162\ttotal: 2.5s\tremaining: 5ms\n",
      "998:\tlearn: 0.2969774\ttotal: 2.5s\tremaining: 2.5ms\n",
      "999:\tlearn: 0.2969327\ttotal: 2.5s\tremaining: 0us\n",
      "Mean Squared error 0.14480802061322787\n"
     ]
    },
    {
     "data": {
      "application/scrapbook.scrap.json+json": {
       "data": 0.14480802061322787,
       "encoder": "json",
       "name": "Catboost MAE",
       "version": 1
      }
     },
     "metadata": {
      "scrapbook": {
       "data": true,
       "display": false,
       "name": "Catboost MAE"
      }
     },
     "output_type": "display_data"
    }
   ],
   "source": [
    "mae_cb = baselineModels.catboost(X_train,y_train,X_test,y_test)\n",
    "#Store MSE Value\n",
    "sb.glue(\"Catboost MAE\",mae_cb)"
   ]
  }
 ],
 "metadata": {
  "interpreter": {
   "hash": "10498c76ddd8160350534c6544a2b2fb65f2138dbc70420f7c81a3268f830f23"
  },
  "kernelspec": {
   "display_name": "Python 3 (ipykernel)",
   "language": "python",
   "name": "python3"
  },
  "language_info": {
   "codemirror_mode": {
    "name": "ipython",
    "version": 3
   },
   "file_extension": ".py",
   "mimetype": "text/x-python",
   "name": "python",
   "nbconvert_exporter": "python",
   "pygments_lexer": "ipython3",
   "version": "3.8.11"
  },
  "papermill": {
   "default_parameters": {},
   "duration": 5.612708,
   "end_time": "2022-03-02T04:30:41.458137",
   "environment_variables": {},
   "exception": null,
   "input_path": "BaselineModels.ipynb",
   "output_path": "./BaseLine_Model_Output/BaselineModels_output_5.ipynb",
   "parameters": {},
   "start_time": "2022-03-02T04:30:35.845429",
   "version": "2.3.3"
  }
 },
 "nbformat": 4,
 "nbformat_minor": 5
}