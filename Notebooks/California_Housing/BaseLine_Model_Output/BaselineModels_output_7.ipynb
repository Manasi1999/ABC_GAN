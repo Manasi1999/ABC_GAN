{
 "cells": [
  {
   "cell_type": "markdown",
   "id": "ca1d36fd",
   "metadata": {
    "papermill": {
     "duration": 0.01358,
     "end_time": "2022-03-02T04:30:49.977256",
     "exception": false,
     "start_time": "2022-03-02T04:30:49.963676",
     "status": "completed"
    },
    "tags": []
   },
   "source": [
    "## Import Libraries "
   ]
  },
  {
   "cell_type": "code",
   "execution_count": 1,
   "id": "86d4d8d8",
   "metadata": {
    "execution": {
     "iopub.execute_input": "2022-03-02T04:30:50.003194Z",
     "iopub.status.busy": "2022-03-02T04:30:50.002572Z",
     "iopub.status.idle": "2022-03-02T04:30:50.005631Z",
     "shell.execute_reply": "2022-03-02T04:30:50.006099Z"
    },
    "papermill": {
     "duration": 0.020491,
     "end_time": "2022-03-02T04:30:50.006358",
     "exception": false,
     "start_time": "2022-03-02T04:30:49.985867",
     "status": "completed"
    },
    "tags": []
   },
   "outputs": [],
   "source": [
    "import warnings\n",
    "import sys\n",
    "sys.path.insert(0, '../../src')\n",
    "warnings.filterwarnings('ignore')"
   ]
  },
  {
   "cell_type": "code",
   "execution_count": 2,
   "id": "0212ebfc",
   "metadata": {
    "execution": {
     "iopub.execute_input": "2022-03-02T04:30:50.020237Z",
     "iopub.status.busy": "2022-03-02T04:30:50.019686Z",
     "iopub.status.idle": "2022-03-02T04:30:51.667207Z",
     "shell.execute_reply": "2022-03-02T04:30:51.667434Z"
    },
    "papermill": {
     "duration": 1.655708,
     "end_time": "2022-03-02T04:30:51.667556",
     "exception": false,
     "start_time": "2022-03-02T04:30:50.011848",
     "status": "completed"
    },
    "tags": []
   },
   "outputs": [],
   "source": [
    "import statsModel\n",
    "import scrapbook as sb \n",
    "import torch \n",
    "import statsModel\n",
    "import baselineModels\n",
    "import californiaDataset\n",
    "import dataset \n",
    "from torch.utils.data import random_split \n",
    "from sklearn.model_selection import train_test_split"
   ]
  },
  {
   "cell_type": "markdown",
   "id": "81ca53f1",
   "metadata": {
    "papermill": {
     "duration": 0.002844,
     "end_time": "2022-03-02T04:30:51.673478",
     "exception": false,
     "start_time": "2022-03-02T04:30:51.670634",
     "status": "completed"
    },
    "tags": []
   },
   "source": [
    "## Import Dataset \n"
   ]
  },
  {
   "cell_type": "code",
   "execution_count": 3,
   "id": "1d923335",
   "metadata": {
    "execution": {
     "iopub.execute_input": "2022-03-02T04:30:51.683101Z",
     "iopub.status.busy": "2022-03-02T04:30:51.682712Z",
     "iopub.status.idle": "2022-03-02T04:30:51.696613Z",
     "shell.execute_reply": "2022-03-02T04:30:51.696852Z"
    },
    "papermill": {
     "duration": 0.019189,
     "end_time": "2022-03-02T04:30:51.696971",
     "exception": false,
     "start_time": "2022-03-02T04:30:51.677782",
     "status": "completed"
    },
    "tags": []
   },
   "outputs": [
    {
     "name": "stdout",
     "output_type": "stream",
     "text": [
      "       X1    X2        X3        X4      X5        X6     X7      X8      Y\n",
      "0  8.3252  41.0  6.984127  1.023810   322.0  2.555556  37.88 -122.23  4.526\n",
      "1  8.3014  21.0  6.238137  0.971880  2401.0  2.109842  37.86 -122.22  3.585\n",
      "2  7.2574  52.0  8.288136  1.073446   496.0  2.802260  37.85 -122.24  3.521\n",
      "3  5.6431  52.0  5.817352  1.073059   558.0  2.547945  37.85 -122.25  3.413\n",
      "4  3.8462  52.0  6.281853  1.081081   565.0  2.181467  37.85 -122.25  3.422\n"
     ]
    }
   ],
   "source": [
    "n_features = 8\n",
    "n_samples= 20640\n",
    "n_target = 1 \n",
    "X,Y = californiaDataset.california_data()"
   ]
  },
  {
   "cell_type": "code",
   "execution_count": 4,
   "id": "8fc10b78",
   "metadata": {
    "execution": {
     "iopub.execute_input": "2022-03-02T04:30:51.705746Z",
     "iopub.status.busy": "2022-03-02T04:30:51.705374Z",
     "iopub.status.idle": "2022-03-02T04:30:51.707216Z",
     "shell.execute_reply": "2022-03-02T04:30:51.707501Z"
    },
    "papermill": {
     "duration": 0.007436,
     "end_time": "2022-03-02T04:30:51.707611",
     "exception": false,
     "start_time": "2022-03-02T04:30:51.700175",
     "status": "completed"
    },
    "tags": []
   },
   "outputs": [],
   "source": [
    "# Train test split for dataset \n",
    "real_dataset = dataset.CustomDataset(X,Y)\n",
    "X_train, X_test, y_train, y_test = train_test_split(X, Y, test_size=0.2)"
   ]
  },
  {
   "cell_type": "markdown",
   "id": "1d71dda6",
   "metadata": {
    "papermill": {
     "duration": 0.002924,
     "end_time": "2022-03-02T04:30:51.713609",
     "exception": false,
     "start_time": "2022-03-02T04:30:51.710685",
     "status": "completed"
    },
    "tags": []
   },
   "source": [
    "## Stats Model \n",
    "\n"
   ]
  },
  {
   "cell_type": "code",
   "execution_count": 5,
   "id": "87f36c51",
   "metadata": {
    "execution": {
     "iopub.execute_input": "2022-03-02T04:30:51.721701Z",
     "iopub.status.busy": "2022-03-02T04:30:51.721325Z",
     "iopub.status.idle": "2022-03-02T04:30:51.823441Z",
     "shell.execute_reply": "2022-03-02T04:30:51.823830Z"
    },
    "papermill": {
     "duration": 0.107451,
     "end_time": "2022-03-02T04:30:51.823954",
     "exception": false,
     "start_time": "2022-03-02T04:30:51.716503",
     "status": "completed"
    },
    "tags": []
   },
   "outputs": [
    {
     "name": "stderr",
     "output_type": "stream",
     "text": [
      "No handles with labels found to put in legend.\n"
     ]
    },
    {
     "name": "stdout",
     "output_type": "stream",
     "text": [
      "                                 OLS Regression Results                                \n",
      "=======================================================================================\n",
      "Dep. Variable:                      y   R-squared (uncentered):                   0.612\n",
      "Model:                            OLS   Adj. R-squared (uncentered):              0.612\n",
      "Method:                 Least Squares   F-statistic:                              3250.\n",
      "Date:                Wed, 02 Mar 2022   Prob (F-statistic):                        0.00\n",
      "Time:                        10:00:51   Log-Likelihood:                         -15576.\n",
      "No. Observations:               16512   AIC:                                  3.117e+04\n",
      "Df Residuals:                   16504   BIC:                                  3.123e+04\n",
      "Df Model:                           8                                                  \n",
      "Covariance Type:            nonrobust                                                  \n",
      "==============================================================================\n",
      "                 coef    std err          t      P>|t|      [0.025      0.975]\n",
      "------------------------------------------------------------------------------\n",
      "x1             0.7413      0.008     95.128      0.000       0.726       0.757\n",
      "x2             0.1060      0.005     19.644      0.000       0.095       0.117\n",
      "x3            -0.2686      0.014    -18.967      0.000      -0.296      -0.241\n",
      "x4             0.3386      0.014     24.327      0.000       0.311       0.366\n",
      "x5             0.0004      0.005      0.086      0.931      -0.010       0.010\n",
      "x6            -0.0356      0.005     -7.502      0.000      -0.045      -0.026\n",
      "x7            -0.7881      0.015    -52.983      0.000      -0.817      -0.759\n",
      "x8            -0.7635      0.015    -52.384      0.000      -0.792      -0.735\n",
      "==============================================================================\n",
      "Omnibus:                     3387.869   Durbin-Watson:                   1.976\n",
      "Prob(Omnibus):                  0.000   Jarque-Bera (JB):             9232.443\n",
      "Skew:                           1.099   Prob(JB):                         0.00\n",
      "Kurtosis:                       5.931   Cond. No.                         6.68\n",
      "==============================================================================\n",
      "\n",
      "Notes:\n",
      "[1] R² is computed without centering (uncentered) since the model does not contain a constant.\n",
      "[2] Standard Errors assume that the covariance matrix of the errors is correctly specified.\n"
     ]
    },
    {
     "data": {
      "image/png": "[encoded data removed]",
      "text/plain": [
       "<Figure size 432x288 with 1 Axes>"
      ]
     },
     "metadata": {
      "needs_background": "light"
     },
     "output_type": "display_data"
    },
    {
     "name": "stdout",
     "output_type": "stream",
     "text": [
      "Performance Metrics\n",
      "Mean Squared Error: 0.4329795433879377\n",
      "Mean Absolute Error: 0.4691364619925961\n",
      "Manhattan distance: 1936.595315105435\n",
      "Euclidean distance: 42.276938809537825\n"
     ]
    },
    {
     "data": {
      "application/scrapbook.scrap.json+json": {
       "data": 0.4329795433879377,
       "encoder": "json",
       "name": "Stats Model MSE",
       "version": 1
      }
     },
     "metadata": {
      "scrapbook": {
       "data": true,
       "display": false,
       "name": "Stats Model MSE"
      }
     },
     "output_type": "display_data"
    },
    {
     "data": {
      "application/scrapbook.scrap.json+json": {
       "data": 0.4691364619925961,
       "encoder": "json",
       "name": "Stats Model MAE",
       "version": 1
      }
     },
     "metadata": {
      "scrapbook": {
       "data": true,
       "display": false,
       "name": "Stats Model MAE"
      }
     },
     "output_type": "display_data"
    },
    {
     "data": {
      "application/scrapbook.scrap.json+json": {
       "data": 1936.595315105435,
       "encoder": "json",
       "name": "Stats Model Manhattan Distance",
       "version": 1
      }
     },
     "metadata": {
      "scrapbook": {
       "data": true,
       "display": false,
       "name": "Stats Model Manhattan Distance"
      }
     },
     "output_type": "display_data"
    },
    {
     "data": {
      "application/scrapbook.scrap.json+json": {
       "data": 42.276938809537825,
       "encoder": "json",
       "name": "Stats Model Euclidean distance",
       "version": 1
      }
     },
     "metadata": {
      "scrapbook": {
       "data": true,
       "display": false,
       "name": "Stats Model Euclidean distance"
      }
     },
     "output_type": "display_data"
    },
    {
     "data": {
      "application/scrapbook.scrap.json+json": {
       "data": [
        0.7412975365726233,
        0.1060362962502509,
        -0.2685934798875335,
        0.33858741516780266,
        0.0004401271032111417,
        -0.03562122594062259,
        -0.7881462310270134,
        -0.7634809141407338
       ],
       "encoder": "json",
       "name": "Coefficients",
       "version": 1
      }
     },
     "metadata": {
      "scrapbook": {
       "data": true,
       "display": false,
       "name": "Coefficients"
      }
     },
     "output_type": "display_data"
    }
   ],
   "source": [
    "coefficients , y_pred =statsModel.statsModel(X_train,y_train,X_test,y_test)\n",
    "#Store MSE Value \n",
    "sb.glue(\"Coefficients\",coefficients)"
   ]
  },
  {
   "cell_type": "markdown",
   "id": "143e84ae",
   "metadata": {
    "papermill": {
     "duration": 0.005153,
     "end_time": "2022-03-02T04:30:51.834482",
     "exception": false,
     "start_time": "2022-03-02T04:30:51.829329",
     "status": "completed"
    },
    "tags": []
   },
   "source": [
    "# Catboost Model "
   ]
  },
  {
   "cell_type": "code",
   "execution_count": 6,
   "id": "7bd2e7c4",
   "metadata": {
    "execution": {
     "iopub.execute_input": "2022-03-02T04:30:51.884079Z",
     "iopub.status.busy": "2022-03-02T04:30:51.883671Z",
     "iopub.status.idle": "2022-03-02T04:30:54.907070Z",
     "shell.execute_reply": "2022-03-02T04:30:54.907435Z"
    },
    "papermill": {
     "duration": 3.068274,
     "end_time": "2022-03-02T04:30:54.907612",
     "exception": false,
     "start_time": "2022-03-02T04:30:51.839338",
     "status": "completed"
    },
    "tags": []
   },
   "outputs": [
    {
     "name": "stdout",
     "output_type": "stream",
     "text": [
      "Learning rate set to 0.064294\n"
     ]
    },
    {
     "name": "stdout",
     "output_type": "stream",
     "text": [
      "0:\tlearn: 0.9617238\ttotal: 60.2ms\tremaining: 1m\n",
      "1:\tlearn: 0.9295467\ttotal: 63.2ms\tremaining: 31.6s\n",
      "2:\tlearn: 0.8999234\ttotal: 66.1ms\tremaining: 22s\n",
      "3:\tlearn: 0.8721597\ttotal: 69.1ms\tremaining: 17.2s\n",
      "4:\tlearn: 0.8457927\ttotal: 71.8ms\tremaining: 14.3s\n",
      "5:\tlearn: 0.8224001\ttotal: 74.7ms\tremaining: 12.4s\n",
      "6:\tlearn: 0.8016242\ttotal: 77.6ms\tremaining: 11s\n",
      "7:\tlearn: 0.7808384\ttotal: 80.2ms\tremaining: 9.94s\n",
      "8:\tlearn: 0.7610961\ttotal: 82.5ms\tremaining: 9.09s\n",
      "9:\tlearn: 0.7423146\ttotal: 85.4ms\tremaining: 8.46s\n",
      "10:\tlearn: 0.7258492\ttotal: 87.8ms\tremaining: 7.89s\n",
      "11:\tlearn: 0.7108490\ttotal: 90.4ms\tremaining: 7.44s\n",
      "12:\tlearn: 0.6969939\ttotal: 92.9ms\tremaining: 7.05s\n",
      "13:\tlearn: 0.6840308\ttotal: 95.5ms\tremaining: 6.72s\n",
      "14:\tlearn: 0.6730508\ttotal: 97.7ms\tremaining: 6.41s\n",
      "15:\tlearn: 0.6602633\ttotal: 100ms\tremaining: 6.15s\n",
      "16:\tlearn: 0.6484459\ttotal: 102ms\tremaining: 5.92s\n",
      "17:\tlearn: 0.6390931\ttotal: 105ms\tremaining: 5.72s\n",
      "18:\tlearn: 0.6307314\ttotal: 108ms\tremaining: 5.56s\n",
      "19:\tlearn: 0.6232458\ttotal: 110ms\tremaining: 5.4s\n",
      "20:\tlearn: 0.6138185\ttotal: 113ms\tremaining: 5.26s\n",
      "21:\tlearn: 0.6068886\ttotal: 115ms\tremaining: 5.12s\n",
      "22:\tlearn: 0.5992202\ttotal: 118ms\tremaining: 5.01s\n",
      "23:\tlearn: 0.5924759\ttotal: 120ms\tremaining: 4.9s\n",
      "24:\tlearn: 0.5863463\ttotal: 123ms\tremaining: 4.78s\n"
     ]
    },
    {
     "name": "stdout",
     "output_type": "stream",
     "text": [
      "25:\tlearn: 0.5793675\ttotal: 126ms\tremaining: 4.72s\n",
      "26:\tlearn: 0.5739756\ttotal: 128ms\tremaining: 4.62s\n",
      "27:\tlearn: 0.5689029\ttotal: 131ms\tremaining: 4.55s\n",
      "28:\tlearn: 0.5629093\ttotal: 134ms\tremaining: 4.48s\n",
      "29:\tlearn: 0.5568627\ttotal: 136ms\tremaining: 4.41s\n",
      "30:\tlearn: 0.5535212\ttotal: 139ms\tremaining: 4.34s\n",
      "31:\tlearn: 0.5494699\ttotal: 142ms\tremaining: 4.29s\n",
      "32:\tlearn: 0.5455478\ttotal: 145ms\tremaining: 4.24s\n",
      "33:\tlearn: 0.5420918\ttotal: 147ms\tremaining: 4.19s\n",
      "34:\tlearn: 0.5375001\ttotal: 150ms\tremaining: 4.13s\n",
      "35:\tlearn: 0.5348661\ttotal: 153ms\tremaining: 4.1s\n",
      "36:\tlearn: 0.5320946\ttotal: 155ms\tremaining: 4.05s\n",
      "37:\tlearn: 0.5278856\ttotal: 158ms\tremaining: 3.99s\n",
      "38:\tlearn: 0.5240533\ttotal: 160ms\tremaining: 3.94s\n",
      "39:\tlearn: 0.5223016\ttotal: 163ms\tremaining: 3.9s\n",
      "40:\tlearn: 0.5200009\ttotal: 165ms\tremaining: 3.86s\n",
      "41:\tlearn: 0.5181701\ttotal: 167ms\tremaining: 3.81s\n",
      "42:\tlearn: 0.5157061\ttotal: 170ms\tremaining: 3.77s\n",
      "43:\tlearn: 0.5136114\ttotal: 172ms\tremaining: 3.74s\n",
      "44:\tlearn: 0.5118332\ttotal: 175ms\tremaining: 3.71s\n",
      "45:\tlearn: 0.5088432\ttotal: 177ms\tremaining: 3.67s\n",
      "46:\tlearn: 0.5069745\ttotal: 179ms\tremaining: 3.64s\n",
      "47:\tlearn: 0.5054277\ttotal: 182ms\tremaining: 3.61s\n",
      "48:\tlearn: 0.5042797\ttotal: 184ms\tremaining: 3.58s\n",
      "49:\tlearn: 0.5031255\ttotal: 187ms\tremaining: 3.55s\n",
      "50:\tlearn: 0.5015694\ttotal: 189ms\tremaining: 3.52s\n",
      "51:\tlearn: 0.4985596\ttotal: 192ms\tremaining: 3.5s\n"
     ]
    },
    {
     "name": "stdout",
     "output_type": "stream",
     "text": [
      "52:\tlearn: 0.4960979\ttotal: 194ms\tremaining: 3.48s\n",
      "53:\tlearn: 0.4948468\ttotal: 197ms\tremaining: 3.46s\n",
      "54:\tlearn: 0.4923278\ttotal: 200ms\tremaining: 3.43s\n",
      "55:\tlearn: 0.4909379\ttotal: 202ms\tremaining: 3.41s\n",
      "56:\tlearn: 0.4890248\ttotal: 205ms\tremaining: 3.39s\n",
      "57:\tlearn: 0.4870848\ttotal: 207ms\tremaining: 3.36s\n",
      "58:\tlearn: 0.4857835\ttotal: 210ms\tremaining: 3.34s\n",
      "59:\tlearn: 0.4846532\ttotal: 212ms\tremaining: 3.33s\n",
      "60:\tlearn: 0.4833625\ttotal: 215ms\tremaining: 3.3s\n",
      "61:\tlearn: 0.4823415\ttotal: 217ms\tremaining: 3.29s\n",
      "62:\tlearn: 0.4815397\ttotal: 220ms\tremaining: 3.27s\n",
      "63:\tlearn: 0.4804061\ttotal: 222ms\tremaining: 3.25s\n",
      "64:\tlearn: 0.4790872\ttotal: 226ms\tremaining: 3.25s\n",
      "65:\tlearn: 0.4776004\ttotal: 228ms\tremaining: 3.23s\n",
      "66:\tlearn: 0.4764360\ttotal: 231ms\tremaining: 3.21s\n",
      "67:\tlearn: 0.4756462\ttotal: 233ms\tremaining: 3.19s\n",
      "68:\tlearn: 0.4746654\ttotal: 235ms\tremaining: 3.18s\n",
      "69:\tlearn: 0.4736386\ttotal: 238ms\tremaining: 3.16s\n",
      "70:\tlearn: 0.4731169\ttotal: 241ms\tremaining: 3.15s\n",
      "71:\tlearn: 0.4724832\ttotal: 243ms\tremaining: 3.13s\n",
      "72:\tlearn: 0.4715913\ttotal: 246ms\tremaining: 3.12s\n",
      "73:\tlearn: 0.4707448\ttotal: 248ms\tremaining: 3.1s\n",
      "74:\tlearn: 0.4701593\ttotal: 251ms\tremaining: 3.09s\n",
      "75:\tlearn: 0.4692461\ttotal: 253ms\tremaining: 3.08s\n"
     ]
    },
    {
     "name": "stdout",
     "output_type": "stream",
     "text": [
      "76:\tlearn: 0.4671551\ttotal: 256ms\tremaining: 3.07s\n",
      "77:\tlearn: 0.4663515\ttotal: 258ms\tremaining: 3.05s\n",
      "78:\tlearn: 0.4649911\ttotal: 261ms\tremaining: 3.04s\n",
      "79:\tlearn: 0.4642025\ttotal: 263ms\tremaining: 3.03s\n",
      "80:\tlearn: 0.4636046\ttotal: 266ms\tremaining: 3.01s\n",
      "81:\tlearn: 0.4623767\ttotal: 268ms\tremaining: 3s\n",
      "82:\tlearn: 0.4618770\ttotal: 270ms\tremaining: 2.98s\n",
      "83:\tlearn: 0.4607146\ttotal: 273ms\tremaining: 2.97s\n",
      "84:\tlearn: 0.4600279\ttotal: 275ms\tremaining: 2.96s\n",
      "85:\tlearn: 0.4592120\ttotal: 278ms\tremaining: 2.95s\n",
      "86:\tlearn: 0.4582201\ttotal: 280ms\tremaining: 2.94s\n",
      "87:\tlearn: 0.4570256\ttotal: 283ms\tremaining: 2.93s\n",
      "88:\tlearn: 0.4565121\ttotal: 286ms\tremaining: 2.92s\n",
      "89:\tlearn: 0.4554721\ttotal: 288ms\tremaining: 2.91s\n",
      "90:\tlearn: 0.4547479\ttotal: 291ms\tremaining: 2.9s\n",
      "91:\tlearn: 0.4535134\ttotal: 293ms\tremaining: 2.89s\n",
      "92:\tlearn: 0.4529577\ttotal: 296ms\tremaining: 2.88s\n",
      "93:\tlearn: 0.4520030\ttotal: 299ms\tremaining: 2.88s\n",
      "94:\tlearn: 0.4513807\ttotal: 301ms\tremaining: 2.87s\n",
      "95:\tlearn: 0.4508728\ttotal: 304ms\tremaining: 2.86s\n",
      "96:\tlearn: 0.4502157\ttotal: 306ms\tremaining: 2.85s\n",
      "97:\tlearn: 0.4495947\ttotal: 309ms\tremaining: 2.84s\n",
      "98:\tlearn: 0.4489287\ttotal: 311ms\tremaining: 2.83s\n",
      "99:\tlearn: 0.4480730\ttotal: 314ms\tremaining: 2.82s\n",
      "100:\tlearn: 0.4472375\ttotal: 316ms\tremaining: 2.81s\n",
      "101:\tlearn: 0.4465343\ttotal: 319ms\tremaining: 2.81s\n"
     ]
    },
    {
     "name": "stdout",
     "output_type": "stream",
     "text": [
      "102:\tlearn: 0.4460990\ttotal: 321ms\tremaining: 2.8s\n",
      "103:\tlearn: 0.4454823\ttotal: 324ms\tremaining: 2.79s\n",
      "104:\tlearn: 0.4450330\ttotal: 326ms\tremaining: 2.78s\n",
      "105:\tlearn: 0.4446279\ttotal: 329ms\tremaining: 2.77s\n",
      "106:\tlearn: 0.4442923\ttotal: 331ms\tremaining: 2.76s\n",
      "107:\tlearn: 0.4435993\ttotal: 333ms\tremaining: 2.75s\n",
      "108:\tlearn: 0.4431028\ttotal: 335ms\tremaining: 2.74s\n",
      "109:\tlearn: 0.4425613\ttotal: 338ms\tremaining: 2.73s\n",
      "110:\tlearn: 0.4421408\ttotal: 340ms\tremaining: 2.72s\n",
      "111:\tlearn: 0.4415531\ttotal: 342ms\tremaining: 2.71s\n",
      "112:\tlearn: 0.4411646\ttotal: 345ms\tremaining: 2.71s\n",
      "113:\tlearn: 0.4404724\ttotal: 347ms\tremaining: 2.7s\n",
      "114:\tlearn: 0.4397171\ttotal: 350ms\tremaining: 2.69s\n",
      "115:\tlearn: 0.4389061\ttotal: 352ms\tremaining: 2.68s\n",
      "116:\tlearn: 0.4387069\ttotal: 354ms\tremaining: 2.67s\n",
      "117:\tlearn: 0.4382398\ttotal: 357ms\tremaining: 2.67s\n",
      "118:\tlearn: 0.4376639\ttotal: 359ms\tremaining: 2.66s\n",
      "119:\tlearn: 0.4371085\ttotal: 361ms\tremaining: 2.65s\n",
      "120:\tlearn: 0.4366114\ttotal: 364ms\tremaining: 2.64s\n",
      "121:\tlearn: 0.4363162\ttotal: 366ms\tremaining: 2.64s\n",
      "122:\tlearn: 0.4358506\ttotal: 369ms\tremaining: 2.63s\n",
      "123:\tlearn: 0.4353186\ttotal: 371ms\tremaining: 2.62s\n",
      "124:\tlearn: 0.4348783\ttotal: 374ms\tremaining: 2.61s\n",
      "125:\tlearn: 0.4346857\ttotal: 376ms\tremaining: 2.61s\n",
      "126:\tlearn: 0.4340325\ttotal: 379ms\tremaining: 2.6s\n",
      "127:\tlearn: 0.4337149\ttotal: 381ms\tremaining: 2.59s\n",
      "128:\tlearn: 0.4331934\ttotal: 383ms\tremaining: 2.59s\n",
      "129:\tlearn: 0.4327811\ttotal: 386ms\tremaining: 2.58s\n",
      "130:\tlearn: 0.4322219\ttotal: 388ms\tremaining: 2.58s\n"
     ]
    },
    {
     "name": "stdout",
     "output_type": "stream",
     "text": [
      "131:\tlearn: 0.4317120\ttotal: 391ms\tremaining: 2.57s\n",
      "132:\tlearn: 0.4312105\ttotal: 394ms\tremaining: 2.57s\n",
      "133:\tlearn: 0.4306589\ttotal: 396ms\tremaining: 2.56s\n",
      "134:\tlearn: 0.4302800\ttotal: 399ms\tremaining: 2.56s\n",
      "135:\tlearn: 0.4297698\ttotal: 402ms\tremaining: 2.55s\n",
      "136:\tlearn: 0.4294342\ttotal: 404ms\tremaining: 2.55s\n",
      "137:\tlearn: 0.4290390\ttotal: 407ms\tremaining: 2.54s\n",
      "138:\tlearn: 0.4285654\ttotal: 409ms\tremaining: 2.54s\n",
      "139:\tlearn: 0.4281394\ttotal: 412ms\tremaining: 2.53s\n",
      "140:\tlearn: 0.4277876\ttotal: 414ms\tremaining: 2.52s\n",
      "141:\tlearn: 0.4274566\ttotal: 417ms\tremaining: 2.52s\n",
      "142:\tlearn: 0.4270229\ttotal: 420ms\tremaining: 2.52s\n",
      "143:\tlearn: 0.4264945\ttotal: 422ms\tremaining: 2.51s\n",
      "144:\tlearn: 0.4258907\ttotal: 425ms\tremaining: 2.5s\n",
      "145:\tlearn: 0.4254926\ttotal: 427ms\tremaining: 2.5s\n",
      "146:\tlearn: 0.4252865\ttotal: 430ms\tremaining: 2.49s\n",
      "147:\tlearn: 0.4249465\ttotal: 432ms\tremaining: 2.49s\n",
      "148:\tlearn: 0.4243114\ttotal: 435ms\tremaining: 2.48s\n",
      "149:\tlearn: 0.4236951\ttotal: 437ms\tremaining: 2.48s\n",
      "150:\tlearn: 0.4234033\ttotal: 440ms\tremaining: 2.47s\n",
      "151:\tlearn: 0.4230454\ttotal: 442ms\tremaining: 2.47s\n",
      "152:\tlearn: 0.4227762\ttotal: 446ms\tremaining: 2.47s\n",
      "153:\tlearn: 0.4224605\ttotal: 448ms\tremaining: 2.46s\n"
     ]
    },
    {
     "name": "stdout",
     "output_type": "stream",
     "text": [
      "154:\tlearn: 0.4222127\ttotal: 451ms\tremaining: 2.46s\n",
      "155:\tlearn: 0.4218791\ttotal: 453ms\tremaining: 2.45s\n",
      "156:\tlearn: 0.4215178\ttotal: 456ms\tremaining: 2.44s\n",
      "157:\tlearn: 0.4211113\ttotal: 458ms\tremaining: 2.44s\n",
      "158:\tlearn: 0.4207565\ttotal: 460ms\tremaining: 2.43s\n",
      "159:\tlearn: 0.4203691\ttotal: 463ms\tremaining: 2.43s\n",
      "160:\tlearn: 0.4199923\ttotal: 465ms\tremaining: 2.42s\n",
      "161:\tlearn: 0.4195532\ttotal: 467ms\tremaining: 2.42s\n",
      "162:\tlearn: 0.4190719\ttotal: 470ms\tremaining: 2.41s\n",
      "163:\tlearn: 0.4187339\ttotal: 472ms\tremaining: 2.41s\n",
      "164:\tlearn: 0.4182579\ttotal: 475ms\tremaining: 2.4s\n",
      "165:\tlearn: 0.4179005\ttotal: 478ms\tremaining: 2.4s\n",
      "166:\tlearn: 0.4168226\ttotal: 480ms\tremaining: 2.39s\n",
      "167:\tlearn: 0.4164161\ttotal: 483ms\tremaining: 2.39s\n",
      "168:\tlearn: 0.4160355\ttotal: 485ms\tremaining: 2.38s\n",
      "169:\tlearn: 0.4157506\ttotal: 488ms\tremaining: 2.38s\n",
      "170:\tlearn: 0.4151770\ttotal: 490ms\tremaining: 2.38s\n",
      "171:\tlearn: 0.4150215\ttotal: 493ms\tremaining: 2.37s\n",
      "172:\tlearn: 0.4145308\ttotal: 496ms\tremaining: 2.37s\n",
      "173:\tlearn: 0.4141286\ttotal: 498ms\tremaining: 2.36s\n",
      "174:\tlearn: 0.4137954\ttotal: 501ms\tremaining: 2.36s\n",
      "175:\tlearn: 0.4133130\ttotal: 503ms\tremaining: 2.36s\n",
      "176:\tlearn: 0.4128255\ttotal: 506ms\tremaining: 2.35s\n",
      "177:\tlearn: 0.4124823\ttotal: 509ms\tremaining: 2.35s\n",
      "178:\tlearn: 0.4115247\ttotal: 511ms\tremaining: 2.35s\n",
      "179:\tlearn: 0.4109750\ttotal: 515ms\tremaining: 2.34s\n"
     ]
    },
    {
     "name": "stdout",
     "output_type": "stream",
     "text": [
      "180:\tlearn: 0.4105475\ttotal: 517ms\tremaining: 2.34s\n",
      "181:\tlearn: 0.4098294\ttotal: 520ms\tremaining: 2.33s\n",
      "182:\tlearn: 0.4094086\ttotal: 522ms\tremaining: 2.33s\n",
      "183:\tlearn: 0.4088837\ttotal: 525ms\tremaining: 2.33s\n",
      "184:\tlearn: 0.4085764\ttotal: 527ms\tremaining: 2.32s\n",
      "185:\tlearn: 0.4083411\ttotal: 529ms\tremaining: 2.31s\n",
      "186:\tlearn: 0.4079867\ttotal: 532ms\tremaining: 2.31s\n",
      "187:\tlearn: 0.4076832\ttotal: 534ms\tremaining: 2.31s\n",
      "188:\tlearn: 0.4073269\ttotal: 537ms\tremaining: 2.3s\n",
      "189:\tlearn: 0.4069308\ttotal: 540ms\tremaining: 2.3s\n",
      "190:\tlearn: 0.4066195\ttotal: 542ms\tremaining: 2.3s\n",
      "191:\tlearn: 0.4063903\ttotal: 545ms\tremaining: 2.29s\n",
      "192:\tlearn: 0.4060510\ttotal: 548ms\tremaining: 2.29s\n",
      "193:\tlearn: 0.4058430\ttotal: 550ms\tremaining: 2.29s\n",
      "194:\tlearn: 0.4053951\ttotal: 553ms\tremaining: 2.28s\n",
      "195:\tlearn: 0.4050013\ttotal: 555ms\tremaining: 2.28s\n",
      "196:\tlearn: 0.4046768\ttotal: 558ms\tremaining: 2.27s\n",
      "197:\tlearn: 0.4043814\ttotal: 560ms\tremaining: 2.27s\n",
      "198:\tlearn: 0.4039825\ttotal: 563ms\tremaining: 2.27s\n",
      "199:\tlearn: 0.4037002\ttotal: 566ms\tremaining: 2.26s\n",
      "200:\tlearn: 0.4034559\ttotal: 568ms\tremaining: 2.26s\n",
      "201:\tlearn: 0.4030964\ttotal: 570ms\tremaining: 2.25s\n",
      "202:\tlearn: 0.4026900\ttotal: 572ms\tremaining: 2.25s\n",
      "203:\tlearn: 0.4024295\ttotal: 575ms\tremaining: 2.24s\n",
      "204:\tlearn: 0.4021092\ttotal: 577ms\tremaining: 2.24s\n",
      "205:\tlearn: 0.4018531\ttotal: 580ms\tremaining: 2.23s\n",
      "206:\tlearn: 0.4011165\ttotal: 582ms\tremaining: 2.23s\n",
      "207:\tlearn: 0.4008169\ttotal: 585ms\tremaining: 2.23s\n"
     ]
    },
    {
     "name": "stdout",
     "output_type": "stream",
     "text": [
      "208:\tlearn: 0.4005803\ttotal: 588ms\tremaining: 2.22s\n",
      "209:\tlearn: 0.4002873\ttotal: 590ms\tremaining: 2.22s\n",
      "210:\tlearn: 0.4000450\ttotal: 592ms\tremaining: 2.21s\n",
      "211:\tlearn: 0.3998005\ttotal: 595ms\tremaining: 2.21s\n",
      "212:\tlearn: 0.3995067\ttotal: 598ms\tremaining: 2.21s\n",
      "213:\tlearn: 0.3992623\ttotal: 601ms\tremaining: 2.21s\n",
      "214:\tlearn: 0.3989376\ttotal: 603ms\tremaining: 2.2s\n",
      "215:\tlearn: 0.3985983\ttotal: 606ms\tremaining: 2.2s\n",
      "216:\tlearn: 0.3984393\ttotal: 608ms\tremaining: 2.19s\n",
      "217:\tlearn: 0.3981696\ttotal: 611ms\tremaining: 2.19s\n",
      "218:\tlearn: 0.3979316\ttotal: 613ms\tremaining: 2.19s\n",
      "219:\tlearn: 0.3974496\ttotal: 616ms\tremaining: 2.18s\n",
      "220:\tlearn: 0.3970124\ttotal: 619ms\tremaining: 2.18s\n",
      "221:\tlearn: 0.3967989\ttotal: 621ms\tremaining: 2.18s\n",
      "222:\tlearn: 0.3964832\ttotal: 624ms\tremaining: 2.17s\n",
      "223:\tlearn: 0.3961037\ttotal: 626ms\tremaining: 2.17s\n",
      "224:\tlearn: 0.3958206\ttotal: 628ms\tremaining: 2.16s\n",
      "225:\tlearn: 0.3954960\ttotal: 631ms\tremaining: 2.16s\n",
      "226:\tlearn: 0.3951488\ttotal: 634ms\tremaining: 2.16s\n",
      "227:\tlearn: 0.3949159\ttotal: 637ms\tremaining: 2.15s\n",
      "228:\tlearn: 0.3946158\ttotal: 639ms\tremaining: 2.15s\n",
      "229:\tlearn: 0.3943853\ttotal: 641ms\tremaining: 2.15s\n",
      "230:\tlearn: 0.3941480\ttotal: 644ms\tremaining: 2.14s\n"
     ]
    },
    {
     "name": "stdout",
     "output_type": "stream",
     "text": [
      "231:\tlearn: 0.3939610\ttotal: 647ms\tremaining: 2.14s\n",
      "232:\tlearn: 0.3937304\ttotal: 649ms\tremaining: 2.14s\n",
      "233:\tlearn: 0.3934318\ttotal: 652ms\tremaining: 2.13s\n",
      "234:\tlearn: 0.3931502\ttotal: 654ms\tremaining: 2.13s\n",
      "235:\tlearn: 0.3929079\ttotal: 657ms\tremaining: 2.13s\n",
      "236:\tlearn: 0.3926452\ttotal: 659ms\tremaining: 2.12s\n",
      "237:\tlearn: 0.3923916\ttotal: 662ms\tremaining: 2.12s\n",
      "238:\tlearn: 0.3921071\ttotal: 664ms\tremaining: 2.12s\n",
      "239:\tlearn: 0.3918739\ttotal: 667ms\tremaining: 2.11s\n",
      "240:\tlearn: 0.3913709\ttotal: 669ms\tremaining: 2.11s\n",
      "241:\tlearn: 0.3910458\ttotal: 672ms\tremaining: 2.1s\n",
      "242:\tlearn: 0.3908485\ttotal: 674ms\tremaining: 2.1s\n",
      "243:\tlearn: 0.3905747\ttotal: 677ms\tremaining: 2.1s\n",
      "244:\tlearn: 0.3903892\ttotal: 679ms\tremaining: 2.09s\n",
      "245:\tlearn: 0.3900289\ttotal: 682ms\tremaining: 2.09s\n",
      "246:\tlearn: 0.3898073\ttotal: 685ms\tremaining: 2.09s\n",
      "247:\tlearn: 0.3895941\ttotal: 687ms\tremaining: 2.08s\n",
      "248:\tlearn: 0.3893003\ttotal: 689ms\tremaining: 2.08s\n",
      "249:\tlearn: 0.3890170\ttotal: 692ms\tremaining: 2.08s\n",
      "250:\tlearn: 0.3886620\ttotal: 694ms\tremaining: 2.07s\n",
      "251:\tlearn: 0.3884239\ttotal: 697ms\tremaining: 2.07s\n",
      "252:\tlearn: 0.3882057\ttotal: 699ms\tremaining: 2.06s\n",
      "253:\tlearn: 0.3880267\ttotal: 701ms\tremaining: 2.06s\n",
      "254:\tlearn: 0.3877635\ttotal: 704ms\tremaining: 2.06s\n",
      "255:\tlearn: 0.3875564\ttotal: 706ms\tremaining: 2.05s\n",
      "256:\tlearn: 0.3873980\ttotal: 709ms\tremaining: 2.05s\n",
      "257:\tlearn: 0.3870813\ttotal: 711ms\tremaining: 2.04s\n"
     ]
    },
    {
     "name": "stdout",
     "output_type": "stream",
     "text": [
      "258:\tlearn: 0.3868570\ttotal: 714ms\tremaining: 2.04s\n",
      "259:\tlearn: 0.3866118\ttotal: 716ms\tremaining: 2.04s\n",
      "260:\tlearn: 0.3863984\ttotal: 719ms\tremaining: 2.04s\n",
      "261:\tlearn: 0.3860225\ttotal: 722ms\tremaining: 2.03s\n",
      "262:\tlearn: 0.3857937\ttotal: 724ms\tremaining: 2.03s\n",
      "263:\tlearn: 0.3855460\ttotal: 726ms\tremaining: 2.02s\n",
      "264:\tlearn: 0.3853009\ttotal: 729ms\tremaining: 2.02s\n",
      "265:\tlearn: 0.3849993\ttotal: 731ms\tremaining: 2.02s\n",
      "266:\tlearn: 0.3847635\ttotal: 734ms\tremaining: 2.02s\n",
      "267:\tlearn: 0.3845739\ttotal: 737ms\tremaining: 2.01s\n",
      "268:\tlearn: 0.3842905\ttotal: 739ms\tremaining: 2.01s\n",
      "269:\tlearn: 0.3839698\ttotal: 742ms\tremaining: 2s\n",
      "270:\tlearn: 0.3836788\ttotal: 744ms\tremaining: 2s\n",
      "271:\tlearn: 0.3835069\ttotal: 747ms\tremaining: 2s\n",
      "272:\tlearn: 0.3832368\ttotal: 750ms\tremaining: 2s\n",
      "273:\tlearn: 0.3827527\ttotal: 752ms\tremaining: 1.99s\n",
      "274:\tlearn: 0.3825140\ttotal: 755ms\tremaining: 1.99s\n",
      "275:\tlearn: 0.3822445\ttotal: 757ms\tremaining: 1.99s\n",
      "276:\tlearn: 0.3820018\ttotal: 760ms\tremaining: 1.98s\n",
      "277:\tlearn: 0.3817812\ttotal: 762ms\tremaining: 1.98s\n",
      "278:\tlearn: 0.3815748\ttotal: 764ms\tremaining: 1.98s\n",
      "279:\tlearn: 0.3813749\ttotal: 767ms\tremaining: 1.97s\n",
      "280:\tlearn: 0.3812121\ttotal: 769ms\tremaining: 1.97s\n",
      "281:\tlearn: 0.3809281\ttotal: 772ms\tremaining: 1.96s\n",
      "282:\tlearn: 0.3804907\ttotal: 774ms\tremaining: 1.96s\n",
      "283:\tlearn: 0.3802838\ttotal: 776ms\tremaining: 1.96s\n",
      "284:\tlearn: 0.3800163\ttotal: 779ms\tremaining: 1.95s\n",
      "285:\tlearn: 0.3797851\ttotal: 782ms\tremaining: 1.95s\n"
     ]
    },
    {
     "name": "stdout",
     "output_type": "stream",
     "text": [
      "286:\tlearn: 0.3795328\ttotal: 785ms\tremaining: 1.95s\n",
      "287:\tlearn: 0.3793285\ttotal: 787ms\tremaining: 1.95s\n",
      "288:\tlearn: 0.3788785\ttotal: 789ms\tremaining: 1.94s\n",
      "289:\tlearn: 0.3787075\ttotal: 792ms\tremaining: 1.94s\n",
      "290:\tlearn: 0.3785212\ttotal: 795ms\tremaining: 1.94s\n",
      "291:\tlearn: 0.3782830\ttotal: 797ms\tremaining: 1.93s\n",
      "292:\tlearn: 0.3780816\ttotal: 800ms\tremaining: 1.93s\n",
      "293:\tlearn: 0.3779050\ttotal: 802ms\tremaining: 1.93s\n",
      "294:\tlearn: 0.3774853\ttotal: 805ms\tremaining: 1.92s\n",
      "295:\tlearn: 0.3773400\ttotal: 807ms\tremaining: 1.92s\n",
      "296:\tlearn: 0.3771397\ttotal: 810ms\tremaining: 1.92s\n",
      "297:\tlearn: 0.3769125\ttotal: 813ms\tremaining: 1.91s\n",
      "298:\tlearn: 0.3766530\ttotal: 815ms\tremaining: 1.91s\n",
      "299:\tlearn: 0.3764757\ttotal: 818ms\tremaining: 1.91s\n",
      "300:\tlearn: 0.3762899\ttotal: 820ms\tremaining: 1.9s\n",
      "301:\tlearn: 0.3759932\ttotal: 823ms\tremaining: 1.9s\n",
      "302:\tlearn: 0.3757955\ttotal: 825ms\tremaining: 1.9s\n",
      "303:\tlearn: 0.3755981\ttotal: 828ms\tremaining: 1.9s\n",
      "304:\tlearn: 0.3754145\ttotal: 830ms\tremaining: 1.89s\n",
      "305:\tlearn: 0.3752551\ttotal: 833ms\tremaining: 1.89s\n",
      "306:\tlearn: 0.3749661\ttotal: 836ms\tremaining: 1.89s\n",
      "307:\tlearn: 0.3748362\ttotal: 838ms\tremaining: 1.88s\n"
     ]
    },
    {
     "name": "stdout",
     "output_type": "stream",
     "text": [
      "308:\tlearn: 0.3746553\ttotal: 840ms\tremaining: 1.88s\n",
      "309:\tlearn: 0.3744133\ttotal: 843ms\tremaining: 1.88s\n",
      "310:\tlearn: 0.3742037\ttotal: 845ms\tremaining: 1.87s\n",
      "311:\tlearn: 0.3739362\ttotal: 848ms\tremaining: 1.87s\n",
      "312:\tlearn: 0.3736762\ttotal: 850ms\tremaining: 1.87s\n",
      "313:\tlearn: 0.3733960\ttotal: 853ms\tremaining: 1.86s\n",
      "314:\tlearn: 0.3732608\ttotal: 855ms\tremaining: 1.86s\n",
      "315:\tlearn: 0.3730553\ttotal: 858ms\tremaining: 1.86s\n",
      "316:\tlearn: 0.3729317\ttotal: 860ms\tremaining: 1.85s\n",
      "317:\tlearn: 0.3727760\ttotal: 862ms\tremaining: 1.85s\n",
      "318:\tlearn: 0.3725792\ttotal: 865ms\tremaining: 1.85s\n",
      "319:\tlearn: 0.3723442\ttotal: 867ms\tremaining: 1.84s\n",
      "320:\tlearn: 0.3721897\ttotal: 870ms\tremaining: 1.84s\n",
      "321:\tlearn: 0.3719731\ttotal: 873ms\tremaining: 1.84s\n",
      "322:\tlearn: 0.3718645\ttotal: 875ms\tremaining: 1.83s\n",
      "323:\tlearn: 0.3716152\ttotal: 878ms\tremaining: 1.83s\n",
      "324:\tlearn: 0.3714924\ttotal: 881ms\tremaining: 1.83s\n",
      "325:\tlearn: 0.3712953\ttotal: 883ms\tremaining: 1.82s\n",
      "326:\tlearn: 0.3711075\ttotal: 886ms\tremaining: 1.82s\n",
      "327:\tlearn: 0.3709559\ttotal: 888ms\tremaining: 1.82s\n",
      "328:\tlearn: 0.3708427\ttotal: 891ms\tremaining: 1.82s\n",
      "329:\tlearn: 0.3706695\ttotal: 893ms\tremaining: 1.81s\n",
      "330:\tlearn: 0.3705277\ttotal: 896ms\tremaining: 1.81s\n",
      "331:\tlearn: 0.3701779\ttotal: 899ms\tremaining: 1.81s\n",
      "332:\tlearn: 0.3699531\ttotal: 901ms\tremaining: 1.8s\n",
      "333:\tlearn: 0.3696308\ttotal: 904ms\tremaining: 1.8s\n"
     ]
    },
    {
     "name": "stdout",
     "output_type": "stream",
     "text": [
      "334:\tlearn: 0.3694371\ttotal: 907ms\tremaining: 1.8s\n",
      "335:\tlearn: 0.3691906\ttotal: 910ms\tremaining: 1.8s\n",
      "336:\tlearn: 0.3689819\ttotal: 912ms\tremaining: 1.79s\n",
      "337:\tlearn: 0.3688257\ttotal: 915ms\tremaining: 1.79s\n",
      "338:\tlearn: 0.3686686\ttotal: 918ms\tremaining: 1.79s\n",
      "339:\tlearn: 0.3684530\ttotal: 921ms\tremaining: 1.79s\n",
      "340:\tlearn: 0.3682889\ttotal: 924ms\tremaining: 1.78s\n",
      "341:\tlearn: 0.3681636\ttotal: 926ms\tremaining: 1.78s\n",
      "342:\tlearn: 0.3679810\ttotal: 929ms\tremaining: 1.78s\n",
      "343:\tlearn: 0.3678227\ttotal: 932ms\tremaining: 1.78s\n",
      "344:\tlearn: 0.3676236\ttotal: 934ms\tremaining: 1.77s\n",
      "345:\tlearn: 0.3674427\ttotal: 937ms\tremaining: 1.77s\n",
      "346:\tlearn: 0.3672405\ttotal: 939ms\tremaining: 1.77s\n",
      "347:\tlearn: 0.3670699\ttotal: 942ms\tremaining: 1.76s\n",
      "348:\tlearn: 0.3668360\ttotal: 945ms\tremaining: 1.76s\n",
      "349:\tlearn: 0.3667325\ttotal: 947ms\tremaining: 1.76s\n",
      "350:\tlearn: 0.3665529\ttotal: 950ms\tremaining: 1.76s\n",
      "351:\tlearn: 0.3663203\ttotal: 954ms\tremaining: 1.76s\n",
      "352:\tlearn: 0.3662072\ttotal: 957ms\tremaining: 1.75s\n",
      "353:\tlearn: 0.3659493\ttotal: 959ms\tremaining: 1.75s\n",
      "354:\tlearn: 0.3657371\ttotal: 961ms\tremaining: 1.75s\n",
      "355:\tlearn: 0.3656159\ttotal: 964ms\tremaining: 1.74s\n",
      "356:\tlearn: 0.3653963\ttotal: 966ms\tremaining: 1.74s\n",
      "357:\tlearn: 0.3652070\ttotal: 969ms\tremaining: 1.74s\n",
      "358:\tlearn: 0.3650168\ttotal: 971ms\tremaining: 1.73s\n",
      "359:\tlearn: 0.3648230\ttotal: 974ms\tremaining: 1.73s\n",
      "360:\tlearn: 0.3647090\ttotal: 976ms\tremaining: 1.73s\n"
     ]
    },
    {
     "name": "stdout",
     "output_type": "stream",
     "text": [
      "361:\tlearn: 0.3645999\ttotal: 979ms\tremaining: 1.73s\n",
      "362:\tlearn: 0.3644338\ttotal: 982ms\tremaining: 1.72s\n",
      "363:\tlearn: 0.3642705\ttotal: 984ms\tremaining: 1.72s\n",
      "364:\tlearn: 0.3640624\ttotal: 987ms\tremaining: 1.72s\n",
      "365:\tlearn: 0.3638932\ttotal: 990ms\tremaining: 1.72s\n",
      "366:\tlearn: 0.3637843\ttotal: 993ms\tremaining: 1.71s\n",
      "367:\tlearn: 0.3636217\ttotal: 995ms\tremaining: 1.71s\n",
      "368:\tlearn: 0.3634072\ttotal: 997ms\tremaining: 1.7s\n",
      "369:\tlearn: 0.3633283\ttotal: 999ms\tremaining: 1.7s\n",
      "370:\tlearn: 0.3631106\ttotal: 1s\tremaining: 1.7s\n",
      "371:\tlearn: 0.3628709\ttotal: 1s\tremaining: 1.69s\n",
      "372:\tlearn: 0.3626780\ttotal: 1.01s\tremaining: 1.69s\n",
      "373:\tlearn: 0.3625210\ttotal: 1.01s\tremaining: 1.69s\n",
      "374:\tlearn: 0.3623060\ttotal: 1.01s\tremaining: 1.68s\n",
      "375:\tlearn: 0.3621425\ttotal: 1.01s\tremaining: 1.68s\n",
      "376:\tlearn: 0.3619841\ttotal: 1.01s\tremaining: 1.68s\n",
      "377:\tlearn: 0.3617473\ttotal: 1.02s\tremaining: 1.67s\n",
      "378:\tlearn: 0.3615767\ttotal: 1.02s\tremaining: 1.67s\n",
      "379:\tlearn: 0.3614365\ttotal: 1.02s\tremaining: 1.67s\n",
      "380:\tlearn: 0.3612642\ttotal: 1.02s\tremaining: 1.66s\n",
      "381:\tlearn: 0.3610819\ttotal: 1.03s\tremaining: 1.66s\n",
      "382:\tlearn: 0.3607639\ttotal: 1.03s\tremaining: 1.66s\n"
     ]
    },
    {
     "name": "stdout",
     "output_type": "stream",
     "text": [
      "383:\tlearn: 0.3605777\ttotal: 1.03s\tremaining: 1.66s\n",
      "384:\tlearn: 0.3604784\ttotal: 1.03s\tremaining: 1.65s\n",
      "385:\tlearn: 0.3603232\ttotal: 1.04s\tremaining: 1.65s\n",
      "386:\tlearn: 0.3602142\ttotal: 1.04s\tremaining: 1.65s\n",
      "387:\tlearn: 0.3600268\ttotal: 1.04s\tremaining: 1.65s\n",
      "388:\tlearn: 0.3597901\ttotal: 1.05s\tremaining: 1.65s\n",
      "389:\tlearn: 0.3596429\ttotal: 1.05s\tremaining: 1.64s\n",
      "390:\tlearn: 0.3595061\ttotal: 1.05s\tremaining: 1.64s\n",
      "391:\tlearn: 0.3593069\ttotal: 1.06s\tremaining: 1.64s\n",
      "392:\tlearn: 0.3591693\ttotal: 1.06s\tremaining: 1.64s\n",
      "393:\tlearn: 0.3590375\ttotal: 1.06s\tremaining: 1.63s\n",
      "394:\tlearn: 0.3589339\ttotal: 1.06s\tremaining: 1.63s\n",
      "395:\tlearn: 0.3587359\ttotal: 1.07s\tremaining: 1.63s\n",
      "396:\tlearn: 0.3585795\ttotal: 1.07s\tremaining: 1.62s\n",
      "397:\tlearn: 0.3582283\ttotal: 1.07s\tremaining: 1.62s\n",
      "398:\tlearn: 0.3581108\ttotal: 1.07s\tremaining: 1.62s\n",
      "399:\tlearn: 0.3578914\ttotal: 1.07s\tremaining: 1.61s\n",
      "400:\tlearn: 0.3576305\ttotal: 1.08s\tremaining: 1.61s\n",
      "401:\tlearn: 0.3574867\ttotal: 1.08s\tremaining: 1.61s\n",
      "402:\tlearn: 0.3573097\ttotal: 1.08s\tremaining: 1.6s\n"
     ]
    },
    {
     "name": "stdout",
     "output_type": "stream",
     "text": [
      "403:\tlearn: 0.3571190\ttotal: 1.08s\tremaining: 1.6s\n",
      "404:\tlearn: 0.3569447\ttotal: 1.09s\tremaining: 1.6s\n",
      "405:\tlearn: 0.3567919\ttotal: 1.09s\tremaining: 1.59s\n",
      "406:\tlearn: 0.3567039\ttotal: 1.09s\tremaining: 1.59s\n",
      "407:\tlearn: 0.3565127\ttotal: 1.09s\tremaining: 1.59s\n",
      "408:\tlearn: 0.3563497\ttotal: 1.1s\tremaining: 1.58s\n",
      "409:\tlearn: 0.3562725\ttotal: 1.1s\tremaining: 1.58s\n",
      "410:\tlearn: 0.3560299\ttotal: 1.1s\tremaining: 1.58s\n",
      "411:\tlearn: 0.3558674\ttotal: 1.1s\tremaining: 1.58s\n",
      "412:\tlearn: 0.3558030\ttotal: 1.11s\tremaining: 1.57s\n",
      "413:\tlearn: 0.3557013\ttotal: 1.11s\tremaining: 1.57s\n",
      "414:\tlearn: 0.3555263\ttotal: 1.11s\tremaining: 1.57s\n",
      "415:\tlearn: 0.3553555\ttotal: 1.11s\tremaining: 1.56s\n",
      "416:\tlearn: 0.3552450\ttotal: 1.12s\tremaining: 1.56s\n",
      "417:\tlearn: 0.3551029\ttotal: 1.12s\tremaining: 1.56s\n",
      "418:\tlearn: 0.3550051\ttotal: 1.12s\tremaining: 1.56s\n",
      "419:\tlearn: 0.3548304\ttotal: 1.13s\tremaining: 1.55s\n",
      "420:\tlearn: 0.3546851\ttotal: 1.13s\tremaining: 1.55s\n",
      "421:\tlearn: 0.3544211\ttotal: 1.13s\tremaining: 1.55s\n",
      "422:\tlearn: 0.3542512\ttotal: 1.13s\tremaining: 1.55s\n",
      "423:\tlearn: 0.3540753\ttotal: 1.14s\tremaining: 1.54s\n",
      "424:\tlearn: 0.3540003\ttotal: 1.14s\tremaining: 1.54s\n",
      "425:\tlearn: 0.3538907\ttotal: 1.14s\tremaining: 1.54s\n",
      "426:\tlearn: 0.3536945\ttotal: 1.14s\tremaining: 1.54s\n",
      "427:\tlearn: 0.3535437\ttotal: 1.15s\tremaining: 1.53s\n",
      "428:\tlearn: 0.3534542\ttotal: 1.15s\tremaining: 1.53s\n",
      "429:\tlearn: 0.3533546\ttotal: 1.15s\tremaining: 1.53s\n"
     ]
    },
    {
     "name": "stdout",
     "output_type": "stream",
     "text": [
      "430:\tlearn: 0.3531854\ttotal: 1.16s\tremaining: 1.53s\n",
      "431:\tlearn: 0.3530917\ttotal: 1.16s\tremaining: 1.52s\n",
      "432:\tlearn: 0.3528995\ttotal: 1.16s\tremaining: 1.52s\n",
      "433:\tlearn: 0.3527667\ttotal: 1.17s\tremaining: 1.52s\n",
      "434:\tlearn: 0.3525988\ttotal: 1.17s\tremaining: 1.52s\n",
      "435:\tlearn: 0.3524925\ttotal: 1.17s\tremaining: 1.51s\n",
      "436:\tlearn: 0.3523244\ttotal: 1.17s\tremaining: 1.51s\n",
      "437:\tlearn: 0.3522053\ttotal: 1.18s\tremaining: 1.51s\n",
      "438:\tlearn: 0.3520017\ttotal: 1.18s\tremaining: 1.51s\n",
      "439:\tlearn: 0.3518448\ttotal: 1.18s\tremaining: 1.5s\n",
      "440:\tlearn: 0.3517301\ttotal: 1.18s\tremaining: 1.5s\n",
      "441:\tlearn: 0.3515365\ttotal: 1.19s\tremaining: 1.5s\n",
      "442:\tlearn: 0.3513903\ttotal: 1.19s\tremaining: 1.5s\n",
      "443:\tlearn: 0.3510942\ttotal: 1.19s\tremaining: 1.49s\n",
      "444:\tlearn: 0.3508789\ttotal: 1.2s\tremaining: 1.49s\n",
      "445:\tlearn: 0.3507338\ttotal: 1.2s\tremaining: 1.49s\n",
      "446:\tlearn: 0.3506347\ttotal: 1.2s\tremaining: 1.49s\n",
      "447:\tlearn: 0.3504003\ttotal: 1.2s\tremaining: 1.48s\n",
      "448:\tlearn: 0.3502684\ttotal: 1.21s\tremaining: 1.48s\n",
      "449:\tlearn: 0.3501244\ttotal: 1.21s\tremaining: 1.48s\n"
     ]
    },
    {
     "name": "stdout",
     "output_type": "stream",
     "text": [
      "450:\tlearn: 0.3499803\ttotal: 1.21s\tremaining: 1.47s\n",
      "451:\tlearn: 0.3498197\ttotal: 1.21s\tremaining: 1.47s\n",
      "452:\tlearn: 0.3496993\ttotal: 1.22s\tremaining: 1.47s\n",
      "453:\tlearn: 0.3495169\ttotal: 1.22s\tremaining: 1.47s\n",
      "454:\tlearn: 0.3493723\ttotal: 1.22s\tremaining: 1.46s\n",
      "455:\tlearn: 0.3492271\ttotal: 1.22s\tremaining: 1.46s\n",
      "456:\tlearn: 0.3490733\ttotal: 1.23s\tremaining: 1.46s\n",
      "457:\tlearn: 0.3488638\ttotal: 1.23s\tremaining: 1.46s\n",
      "458:\tlearn: 0.3487032\ttotal: 1.23s\tremaining: 1.45s\n",
      "459:\tlearn: 0.3486093\ttotal: 1.23s\tremaining: 1.45s\n",
      "460:\tlearn: 0.3484980\ttotal: 1.24s\tremaining: 1.45s\n",
      "461:\tlearn: 0.3483417\ttotal: 1.24s\tremaining: 1.44s\n",
      "462:\tlearn: 0.3481766\ttotal: 1.24s\tremaining: 1.44s\n",
      "463:\tlearn: 0.3479793\ttotal: 1.24s\tremaining: 1.44s\n",
      "464:\tlearn: 0.3478361\ttotal: 1.25s\tremaining: 1.44s\n",
      "465:\tlearn: 0.3476074\ttotal: 1.25s\tremaining: 1.43s\n",
      "466:\tlearn: 0.3474546\ttotal: 1.25s\tremaining: 1.43s\n",
      "467:\tlearn: 0.3473510\ttotal: 1.25s\tremaining: 1.43s\n",
      "468:\tlearn: 0.3471833\ttotal: 1.26s\tremaining: 1.42s\n",
      "469:\tlearn: 0.3470847\ttotal: 1.26s\tremaining: 1.42s\n",
      "470:\tlearn: 0.3468880\ttotal: 1.26s\tremaining: 1.42s\n",
      "471:\tlearn: 0.3467434\ttotal: 1.27s\tremaining: 1.42s\n",
      "472:\tlearn: 0.3466068\ttotal: 1.27s\tremaining: 1.41s\n",
      "473:\tlearn: 0.3464618\ttotal: 1.27s\tremaining: 1.41s\n",
      "474:\tlearn: 0.3463439\ttotal: 1.27s\tremaining: 1.41s\n",
      "475:\tlearn: 0.3462112\ttotal: 1.27s\tremaining: 1.4s\n",
      "476:\tlearn: 0.3460397\ttotal: 1.28s\tremaining: 1.4s\n"
     ]
    },
    {
     "name": "stdout",
     "output_type": "stream",
     "text": [
      "477:\tlearn: 0.3459340\ttotal: 1.28s\tremaining: 1.4s\n",
      "478:\tlearn: 0.3458367\ttotal: 1.28s\tremaining: 1.4s\n",
      "479:\tlearn: 0.3456930\ttotal: 1.29s\tremaining: 1.39s\n",
      "480:\tlearn: 0.3456120\ttotal: 1.29s\tremaining: 1.39s\n",
      "481:\tlearn: 0.3454387\ttotal: 1.29s\tremaining: 1.39s\n",
      "482:\tlearn: 0.3453103\ttotal: 1.29s\tremaining: 1.39s\n",
      "483:\tlearn: 0.3451383\ttotal: 1.3s\tremaining: 1.38s\n",
      "484:\tlearn: 0.3449284\ttotal: 1.3s\tremaining: 1.38s\n",
      "485:\tlearn: 0.3447757\ttotal: 1.3s\tremaining: 1.38s\n",
      "486:\tlearn: 0.3445569\ttotal: 1.3s\tremaining: 1.37s\n",
      "487:\tlearn: 0.3444158\ttotal: 1.31s\tremaining: 1.37s\n",
      "488:\tlearn: 0.3442432\ttotal: 1.31s\tremaining: 1.37s\n",
      "489:\tlearn: 0.3441104\ttotal: 1.31s\tremaining: 1.36s\n",
      "490:\tlearn: 0.3439248\ttotal: 1.31s\tremaining: 1.36s\n",
      "491:\tlearn: 0.3438039\ttotal: 1.32s\tremaining: 1.36s\n",
      "492:\tlearn: 0.3437145\ttotal: 1.32s\tremaining: 1.36s\n",
      "493:\tlearn: 0.3436212\ttotal: 1.32s\tremaining: 1.35s\n",
      "494:\tlearn: 0.3435148\ttotal: 1.32s\tremaining: 1.35s\n",
      "495:\tlearn: 0.3432914\ttotal: 1.33s\tremaining: 1.35s\n",
      "496:\tlearn: 0.3431363\ttotal: 1.33s\tremaining: 1.34s\n",
      "497:\tlearn: 0.3430231\ttotal: 1.33s\tremaining: 1.34s\n",
      "498:\tlearn: 0.3428782\ttotal: 1.33s\tremaining: 1.34s\n",
      "499:\tlearn: 0.3426316\ttotal: 1.34s\tremaining: 1.34s\n",
      "500:\tlearn: 0.3425257\ttotal: 1.34s\tremaining: 1.33s\n",
      "501:\tlearn: 0.3424576\ttotal: 1.34s\tremaining: 1.33s\n",
      "502:\tlearn: 0.3423044\ttotal: 1.35s\tremaining: 1.33s\n",
      "503:\tlearn: 0.3421655\ttotal: 1.35s\tremaining: 1.33s\n"
     ]
    },
    {
     "name": "stdout",
     "output_type": "stream",
     "text": [
      "504:\tlearn: 0.3420066\ttotal: 1.35s\tremaining: 1.32s\n",
      "505:\tlearn: 0.3418654\ttotal: 1.35s\tremaining: 1.32s\n",
      "506:\tlearn: 0.3417708\ttotal: 1.36s\tremaining: 1.32s\n",
      "507:\tlearn: 0.3416523\ttotal: 1.36s\tremaining: 1.32s\n",
      "508:\tlearn: 0.3415029\ttotal: 1.36s\tremaining: 1.31s\n",
      "509:\tlearn: 0.3414549\ttotal: 1.36s\tremaining: 1.31s\n",
      "510:\tlearn: 0.3413143\ttotal: 1.36s\tremaining: 1.31s\n",
      "511:\tlearn: 0.3411905\ttotal: 1.37s\tremaining: 1.3s\n",
      "512:\tlearn: 0.3411203\ttotal: 1.37s\tremaining: 1.3s\n",
      "513:\tlearn: 0.3410430\ttotal: 1.37s\tremaining: 1.3s\n",
      "514:\tlearn: 0.3409869\ttotal: 1.38s\tremaining: 1.29s\n",
      "515:\tlearn: 0.3408075\ttotal: 1.38s\tremaining: 1.29s\n",
      "516:\tlearn: 0.3406109\ttotal: 1.38s\tremaining: 1.29s\n",
      "517:\tlearn: 0.3405088\ttotal: 1.38s\tremaining: 1.29s\n",
      "518:\tlearn: 0.3403795\ttotal: 1.39s\tremaining: 1.28s\n",
      "519:\tlearn: 0.3402202\ttotal: 1.39s\tremaining: 1.28s\n",
      "520:\tlearn: 0.3400732\ttotal: 1.39s\tremaining: 1.28s\n",
      "521:\tlearn: 0.3399678\ttotal: 1.39s\tremaining: 1.28s\n",
      "522:\tlearn: 0.3398662\ttotal: 1.4s\tremaining: 1.27s\n",
      "523:\tlearn: 0.3397941\ttotal: 1.4s\tremaining: 1.27s\n",
      "524:\tlearn: 0.3395848\ttotal: 1.4s\tremaining: 1.27s\n",
      "525:\tlearn: 0.3394674\ttotal: 1.4s\tremaining: 1.26s\n"
     ]
    },
    {
     "name": "stdout",
     "output_type": "stream",
     "text": [
      "526:\tlearn: 0.3393168\ttotal: 1.41s\tremaining: 1.26s\n",
      "527:\tlearn: 0.3391760\ttotal: 1.41s\tremaining: 1.26s\n",
      "528:\tlearn: 0.3390458\ttotal: 1.41s\tremaining: 1.25s\n",
      "529:\tlearn: 0.3389099\ttotal: 1.41s\tremaining: 1.25s\n",
      "530:\tlearn: 0.3387297\ttotal: 1.41s\tremaining: 1.25s\n",
      "531:\tlearn: 0.3385956\ttotal: 1.42s\tremaining: 1.25s\n",
      "532:\tlearn: 0.3385509\ttotal: 1.42s\tremaining: 1.25s\n",
      "533:\tlearn: 0.3384595\ttotal: 1.43s\tremaining: 1.24s\n",
      "534:\tlearn: 0.3382885\ttotal: 1.43s\tremaining: 1.24s\n",
      "535:\tlearn: 0.3382410\ttotal: 1.43s\tremaining: 1.24s\n",
      "536:\tlearn: 0.3381016\ttotal: 1.43s\tremaining: 1.23s\n",
      "537:\tlearn: 0.3379754\ttotal: 1.43s\tremaining: 1.23s\n",
      "538:\tlearn: 0.3378757\ttotal: 1.44s\tremaining: 1.23s\n",
      "539:\tlearn: 0.3376846\ttotal: 1.44s\tremaining: 1.23s\n",
      "540:\tlearn: 0.3375929\ttotal: 1.44s\tremaining: 1.22s\n",
      "541:\tlearn: 0.3373247\ttotal: 1.44s\tremaining: 1.22s\n",
      "542:\tlearn: 0.3371216\ttotal: 1.45s\tremaining: 1.22s\n",
      "543:\tlearn: 0.3369996\ttotal: 1.45s\tremaining: 1.21s\n",
      "544:\tlearn: 0.3368734\ttotal: 1.45s\tremaining: 1.21s\n",
      "545:\tlearn: 0.3367744\ttotal: 1.45s\tremaining: 1.21s\n",
      "546:\tlearn: 0.3366295\ttotal: 1.46s\tremaining: 1.21s\n"
     ]
    },
    {
     "name": "stdout",
     "output_type": "stream",
     "text": [
      "547:\tlearn: 0.3365154\ttotal: 1.46s\tremaining: 1.2s\n",
      "548:\tlearn: 0.3363534\ttotal: 1.46s\tremaining: 1.2s\n",
      "549:\tlearn: 0.3361917\ttotal: 1.46s\tremaining: 1.2s\n",
      "550:\tlearn: 0.3360032\ttotal: 1.46s\tremaining: 1.19s\n",
      "551:\tlearn: 0.3358750\ttotal: 1.47s\tremaining: 1.19s\n",
      "552:\tlearn: 0.3357917\ttotal: 1.47s\tremaining: 1.19s\n",
      "553:\tlearn: 0.3356430\ttotal: 1.47s\tremaining: 1.19s\n",
      "554:\tlearn: 0.3355635\ttotal: 1.47s\tremaining: 1.18s\n",
      "555:\tlearn: 0.3354278\ttotal: 1.48s\tremaining: 1.18s\n",
      "556:\tlearn: 0.3352831\ttotal: 1.48s\tremaining: 1.18s\n",
      "557:\tlearn: 0.3351504\ttotal: 1.48s\tremaining: 1.17s\n",
      "558:\tlearn: 0.3350161\ttotal: 1.48s\tremaining: 1.17s\n",
      "559:\tlearn: 0.3348765\ttotal: 1.49s\tremaining: 1.17s\n",
      "560:\tlearn: 0.3346775\ttotal: 1.49s\tremaining: 1.17s\n",
      "561:\tlearn: 0.3345863\ttotal: 1.49s\tremaining: 1.16s\n",
      "562:\tlearn: 0.3345079\ttotal: 1.49s\tremaining: 1.16s\n",
      "563:\tlearn: 0.3343883\ttotal: 1.5s\tremaining: 1.16s\n",
      "564:\tlearn: 0.3342820\ttotal: 1.5s\tremaining: 1.15s\n",
      "565:\tlearn: 0.3341806\ttotal: 1.5s\tremaining: 1.15s\n",
      "566:\tlearn: 0.3340414\ttotal: 1.5s\tremaining: 1.15s\n",
      "567:\tlearn: 0.3339357\ttotal: 1.51s\tremaining: 1.15s\n",
      "568:\tlearn: 0.3338900\ttotal: 1.51s\tremaining: 1.14s\n",
      "569:\tlearn: 0.3338197\ttotal: 1.51s\tremaining: 1.14s\n",
      "570:\tlearn: 0.3337458\ttotal: 1.51s\tremaining: 1.14s\n",
      "571:\tlearn: 0.3336459\ttotal: 1.52s\tremaining: 1.13s\n",
      "572:\tlearn: 0.3335115\ttotal: 1.52s\tremaining: 1.13s\n",
      "573:\tlearn: 0.3334029\ttotal: 1.52s\tremaining: 1.13s\n",
      "574:\tlearn: 0.3332500\ttotal: 1.52s\tremaining: 1.13s\n",
      "575:\tlearn: 0.3331439\ttotal: 1.53s\tremaining: 1.12s\n",
      "576:\tlearn: 0.3330055\ttotal: 1.53s\tremaining: 1.12s\n"
     ]
    },
    {
     "name": "stdout",
     "output_type": "stream",
     "text": [
      "577:\tlearn: 0.3328623\ttotal: 1.53s\tremaining: 1.12s\n",
      "578:\tlearn: 0.3327594\ttotal: 1.53s\tremaining: 1.11s\n",
      "579:\tlearn: 0.3326382\ttotal: 1.54s\tremaining: 1.11s\n",
      "580:\tlearn: 0.3325482\ttotal: 1.54s\tremaining: 1.11s\n",
      "581:\tlearn: 0.3324146\ttotal: 1.54s\tremaining: 1.11s\n",
      "582:\tlearn: 0.3323652\ttotal: 1.54s\tremaining: 1.1s\n",
      "583:\tlearn: 0.3322284\ttotal: 1.55s\tremaining: 1.1s\n",
      "584:\tlearn: 0.3321262\ttotal: 1.55s\tremaining: 1.1s\n",
      "585:\tlearn: 0.3320521\ttotal: 1.55s\tremaining: 1.1s\n",
      "586:\tlearn: 0.3319166\ttotal: 1.55s\tremaining: 1.09s\n",
      "587:\tlearn: 0.3318086\ttotal: 1.56s\tremaining: 1.09s\n",
      "588:\tlearn: 0.3316395\ttotal: 1.56s\tremaining: 1.09s\n",
      "589:\tlearn: 0.3315252\ttotal: 1.56s\tremaining: 1.08s\n",
      "590:\tlearn: 0.3314419\ttotal: 1.56s\tremaining: 1.08s\n",
      "591:\tlearn: 0.3312986\ttotal: 1.57s\tremaining: 1.08s\n",
      "592:\tlearn: 0.3311938\ttotal: 1.57s\tremaining: 1.08s\n",
      "593:\tlearn: 0.3311214\ttotal: 1.57s\tremaining: 1.07s\n",
      "594:\tlearn: 0.3309498\ttotal: 1.57s\tremaining: 1.07s\n",
      "595:\tlearn: 0.3308027\ttotal: 1.58s\tremaining: 1.07s\n",
      "596:\tlearn: 0.3307035\ttotal: 1.58s\tremaining: 1.07s\n",
      "597:\tlearn: 0.3305931\ttotal: 1.58s\tremaining: 1.06s\n"
     ]
    },
    {
     "name": "stdout",
     "output_type": "stream",
     "text": [
      "598:\tlearn: 0.3305100\ttotal: 1.58s\tremaining: 1.06s\n",
      "599:\tlearn: 0.3303316\ttotal: 1.59s\tremaining: 1.06s\n",
      "600:\tlearn: 0.3302717\ttotal: 1.59s\tremaining: 1.05s\n",
      "601:\tlearn: 0.3302354\ttotal: 1.59s\tremaining: 1.05s\n",
      "602:\tlearn: 0.3300691\ttotal: 1.59s\tremaining: 1.05s\n",
      "603:\tlearn: 0.3299269\ttotal: 1.6s\tremaining: 1.05s\n",
      "604:\tlearn: 0.3297464\ttotal: 1.6s\tremaining: 1.04s\n",
      "605:\tlearn: 0.3296346\ttotal: 1.6s\tremaining: 1.04s\n",
      "606:\tlearn: 0.3295328\ttotal: 1.6s\tremaining: 1.04s\n",
      "607:\tlearn: 0.3293484\ttotal: 1.61s\tremaining: 1.03s\n",
      "608:\tlearn: 0.3292396\ttotal: 1.61s\tremaining: 1.03s\n",
      "609:\tlearn: 0.3291013\ttotal: 1.61s\tremaining: 1.03s\n",
      "610:\tlearn: 0.3289816\ttotal: 1.61s\tremaining: 1.03s\n",
      "611:\tlearn: 0.3288991\ttotal: 1.62s\tremaining: 1.02s\n",
      "612:\tlearn: 0.3287788\ttotal: 1.62s\tremaining: 1.02s\n",
      "613:\tlearn: 0.3286574\ttotal: 1.62s\tremaining: 1.02s\n",
      "614:\tlearn: 0.3285062\ttotal: 1.62s\tremaining: 1.02s\n",
      "615:\tlearn: 0.3284250\ttotal: 1.63s\tremaining: 1.01s\n",
      "616:\tlearn: 0.3283319\ttotal: 1.63s\tremaining: 1.01s\n",
      "617:\tlearn: 0.3282140\ttotal: 1.63s\tremaining: 1.01s\n",
      "618:\tlearn: 0.3281054\ttotal: 1.63s\tremaining: 1s\n",
      "619:\tlearn: 0.3279769\ttotal: 1.64s\tremaining: 1s\n",
      "620:\tlearn: 0.3278781\ttotal: 1.64s\tremaining: 1s\n",
      "621:\tlearn: 0.3277442\ttotal: 1.64s\tremaining: 998ms\n",
      "622:\tlearn: 0.3276614\ttotal: 1.65s\tremaining: 996ms\n",
      "623:\tlearn: 0.3274967\ttotal: 1.65s\tremaining: 993ms\n",
      "624:\tlearn: 0.3273697\ttotal: 1.65s\tremaining: 991ms\n"
     ]
    },
    {
     "name": "stdout",
     "output_type": "stream",
     "text": [
      "625:\tlearn: 0.3273010\ttotal: 1.65s\tremaining: 988ms\n",
      "626:\tlearn: 0.3271548\ttotal: 1.66s\tremaining: 986ms\n",
      "627:\tlearn: 0.3270215\ttotal: 1.66s\tremaining: 984ms\n",
      "628:\tlearn: 0.3269172\ttotal: 1.66s\tremaining: 981ms\n",
      "629:\tlearn: 0.3268186\ttotal: 1.67s\tremaining: 979ms\n",
      "630:\tlearn: 0.3266773\ttotal: 1.67s\tremaining: 976ms\n",
      "631:\tlearn: 0.3265752\ttotal: 1.67s\tremaining: 973ms\n",
      "632:\tlearn: 0.3264922\ttotal: 1.67s\tremaining: 971ms\n",
      "633:\tlearn: 0.3264149\ttotal: 1.68s\tremaining: 969ms\n",
      "634:\tlearn: 0.3262645\ttotal: 1.68s\tremaining: 967ms\n",
      "635:\tlearn: 0.3261840\ttotal: 1.69s\tremaining: 965ms\n",
      "636:\tlearn: 0.3260754\ttotal: 1.69s\tremaining: 963ms\n",
      "637:\tlearn: 0.3259352\ttotal: 1.69s\tremaining: 960ms\n",
      "638:\tlearn: 0.3258203\ttotal: 1.69s\tremaining: 957ms\n",
      "639:\tlearn: 0.3256758\ttotal: 1.7s\tremaining: 955ms\n",
      "640:\tlearn: 0.3255798\ttotal: 1.7s\tremaining: 953ms\n",
      "641:\tlearn: 0.3255197\ttotal: 1.7s\tremaining: 950ms\n",
      "642:\tlearn: 0.3254699\ttotal: 1.71s\tremaining: 948ms\n",
      "643:\tlearn: 0.3253546\ttotal: 1.71s\tremaining: 945ms\n",
      "644:\tlearn: 0.3252793\ttotal: 1.71s\tremaining: 943ms\n",
      "645:\tlearn: 0.3251401\ttotal: 1.72s\tremaining: 940ms\n",
      "646:\tlearn: 0.3250287\ttotal: 1.72s\tremaining: 938ms\n",
      "647:\tlearn: 0.3249067\ttotal: 1.72s\tremaining: 935ms\n",
      "648:\tlearn: 0.3248067\ttotal: 1.72s\tremaining: 933ms\n"
     ]
    },
    {
     "name": "stdout",
     "output_type": "stream",
     "text": [
      "649:\tlearn: 0.3246394\ttotal: 1.73s\tremaining: 930ms\n",
      "650:\tlearn: 0.3244560\ttotal: 1.73s\tremaining: 928ms\n",
      "651:\tlearn: 0.3243775\ttotal: 1.73s\tremaining: 925ms\n",
      "652:\tlearn: 0.3242990\ttotal: 1.74s\tremaining: 923ms\n",
      "653:\tlearn: 0.3242275\ttotal: 1.74s\tremaining: 920ms\n",
      "654:\tlearn: 0.3240950\ttotal: 1.74s\tremaining: 917ms\n",
      "655:\tlearn: 0.3239759\ttotal: 1.74s\tremaining: 915ms\n",
      "656:\tlearn: 0.3238355\ttotal: 1.75s\tremaining: 912ms\n",
      "657:\tlearn: 0.3237372\ttotal: 1.75s\tremaining: 909ms\n",
      "658:\tlearn: 0.3236431\ttotal: 1.75s\tremaining: 907ms\n",
      "659:\tlearn: 0.3235705\ttotal: 1.75s\tremaining: 904ms\n",
      "660:\tlearn: 0.3234370\ttotal: 1.76s\tremaining: 902ms\n",
      "661:\tlearn: 0.3233436\ttotal: 1.76s\tremaining: 899ms\n",
      "662:\tlearn: 0.3232252\ttotal: 1.76s\tremaining: 897ms\n",
      "663:\tlearn: 0.3231089\ttotal: 1.77s\tremaining: 894ms\n",
      "664:\tlearn: 0.3230075\ttotal: 1.77s\tremaining: 892ms\n",
      "665:\tlearn: 0.3229474\ttotal: 1.77s\tremaining: 889ms\n",
      "666:\tlearn: 0.3228331\ttotal: 1.77s\tremaining: 887ms\n"
     ]
    },
    {
     "name": "stdout",
     "output_type": "stream",
     "text": [
      "667:\tlearn: 0.3227749\ttotal: 1.78s\tremaining: 884ms\n",
      "668:\tlearn: 0.3226693\ttotal: 1.78s\tremaining: 882ms\n",
      "669:\tlearn: 0.3225561\ttotal: 1.78s\tremaining: 879ms\n",
      "670:\tlearn: 0.3224644\ttotal: 1.79s\tremaining: 876ms\n",
      "671:\tlearn: 0.3224321\ttotal: 1.79s\tremaining: 874ms\n",
      "672:\tlearn: 0.3223270\ttotal: 1.79s\tremaining: 871ms\n",
      "673:\tlearn: 0.3222629\ttotal: 1.8s\tremaining: 869ms\n",
      "674:\tlearn: 0.3221331\ttotal: 1.8s\tremaining: 866ms\n",
      "675:\tlearn: 0.3220510\ttotal: 1.8s\tremaining: 864ms\n",
      "676:\tlearn: 0.3219556\ttotal: 1.8s\tremaining: 861ms\n",
      "677:\tlearn: 0.3218693\ttotal: 1.81s\tremaining: 858ms\n",
      "678:\tlearn: 0.3217649\ttotal: 1.81s\tremaining: 856ms\n",
      "679:\tlearn: 0.3216342\ttotal: 1.81s\tremaining: 853ms\n"
     ]
    },
    {
     "name": "stdout",
     "output_type": "stream",
     "text": [
      "680:\tlearn: 0.3215661\ttotal: 1.81s\tremaining: 850ms\n",
      "681:\tlearn: 0.3214489\ttotal: 1.82s\tremaining: 848ms\n",
      "682:\tlearn: 0.3213226\ttotal: 1.82s\tremaining: 845ms\n",
      "683:\tlearn: 0.3212383\ttotal: 1.82s\tremaining: 843ms\n",
      "684:\tlearn: 0.3210999\ttotal: 1.83s\tremaining: 841ms\n",
      "685:\tlearn: 0.3210464\ttotal: 1.83s\tremaining: 838ms\n",
      "686:\tlearn: 0.3209762\ttotal: 1.83s\tremaining: 836ms\n",
      "687:\tlearn: 0.3209205\ttotal: 1.84s\tremaining: 833ms\n",
      "688:\tlearn: 0.3207789\ttotal: 1.84s\tremaining: 830ms\n",
      "689:\tlearn: 0.3206433\ttotal: 1.84s\tremaining: 828ms\n",
      "690:\tlearn: 0.3205613\ttotal: 1.84s\tremaining: 825ms\n",
      "691:\tlearn: 0.3204337\ttotal: 1.85s\tremaining: 822ms\n",
      "692:\tlearn: 0.3202457\ttotal: 1.85s\tremaining: 820ms\n",
      "693:\tlearn: 0.3201163\ttotal: 1.85s\tremaining: 817ms\n",
      "694:\tlearn: 0.3200316\ttotal: 1.86s\tremaining: 815ms\n",
      "695:\tlearn: 0.3199682\ttotal: 1.86s\tremaining: 812ms\n",
      "696:\tlearn: 0.3199143\ttotal: 1.86s\tremaining: 809ms\n",
      "697:\tlearn: 0.3198726\ttotal: 1.86s\tremaining: 806ms\n",
      "698:\tlearn: 0.3197539\ttotal: 1.87s\tremaining: 804ms\n",
      "699:\tlearn: 0.3196730\ttotal: 1.87s\tremaining: 801ms\n",
      "700:\tlearn: 0.3195520\ttotal: 1.87s\tremaining: 799ms\n"
     ]
    },
    {
     "name": "stdout",
     "output_type": "stream",
     "text": [
      "701:\tlearn: 0.3194685\ttotal: 1.88s\tremaining: 796ms\n",
      "702:\tlearn: 0.3193454\ttotal: 1.88s\tremaining: 794ms\n",
      "703:\tlearn: 0.3192954\ttotal: 1.88s\tremaining: 792ms\n",
      "704:\tlearn: 0.3192084\ttotal: 1.89s\tremaining: 789ms\n",
      "705:\tlearn: 0.3191300\ttotal: 1.89s\tremaining: 787ms\n",
      "706:\tlearn: 0.3190670\ttotal: 1.89s\tremaining: 784ms\n",
      "707:\tlearn: 0.3189474\ttotal: 1.9s\tremaining: 782ms\n",
      "708:\tlearn: 0.3188357\ttotal: 1.9s\tremaining: 779ms\n",
      "709:\tlearn: 0.3187140\ttotal: 1.9s\tremaining: 776ms\n",
      "710:\tlearn: 0.3186148\ttotal: 1.9s\tremaining: 774ms\n",
      "711:\tlearn: 0.3185065\ttotal: 1.91s\tremaining: 771ms\n",
      "712:\tlearn: 0.3183793\ttotal: 1.91s\tremaining: 769ms\n",
      "713:\tlearn: 0.3182623\ttotal: 1.91s\tremaining: 766ms\n",
      "714:\tlearn: 0.3181864\ttotal: 1.91s\tremaining: 763ms\n",
      "715:\tlearn: 0.3180908\ttotal: 1.92s\tremaining: 761ms\n",
      "716:\tlearn: 0.3179366\ttotal: 1.92s\tremaining: 758ms\n",
      "717:\tlearn: 0.3178193\ttotal: 1.92s\tremaining: 756ms\n"
     ]
    },
    {
     "name": "stdout",
     "output_type": "stream",
     "text": [
      "718:\tlearn: 0.3176934\ttotal: 1.93s\tremaining: 753ms\n",
      "719:\tlearn: 0.3176093\ttotal: 1.93s\tremaining: 751ms\n",
      "720:\tlearn: 0.3175298\ttotal: 1.93s\tremaining: 748ms\n",
      "721:\tlearn: 0.3173933\ttotal: 1.94s\tremaining: 746ms\n",
      "722:\tlearn: 0.3172958\ttotal: 1.94s\tremaining: 743ms\n",
      "723:\tlearn: 0.3171936\ttotal: 1.94s\tremaining: 741ms\n",
      "724:\tlearn: 0.3171192\ttotal: 1.95s\tremaining: 738ms\n",
      "725:\tlearn: 0.3170437\ttotal: 1.95s\tremaining: 736ms\n",
      "726:\tlearn: 0.3169329\ttotal: 1.95s\tremaining: 733ms\n",
      "727:\tlearn: 0.3168206\ttotal: 1.95s\tremaining: 730ms\n",
      "728:\tlearn: 0.3165994\ttotal: 1.96s\tremaining: 728ms\n",
      "729:\tlearn: 0.3164771\ttotal: 1.96s\tremaining: 725ms\n",
      "730:\tlearn: 0.3163913\ttotal: 1.96s\tremaining: 723ms\n",
      "731:\tlearn: 0.3163438\ttotal: 1.97s\tremaining: 720ms\n",
      "732:\tlearn: 0.3162493\ttotal: 1.97s\tremaining: 717ms\n",
      "733:\tlearn: 0.3161585\ttotal: 1.97s\tremaining: 715ms\n",
      "734:\tlearn: 0.3160779\ttotal: 1.97s\tremaining: 712ms\n",
      "735:\tlearn: 0.3160005\ttotal: 1.98s\tremaining: 709ms\n",
      "736:\tlearn: 0.3158988\ttotal: 1.98s\tremaining: 706ms\n",
      "737:\tlearn: 0.3157409\ttotal: 1.98s\tremaining: 704ms\n",
      "738:\tlearn: 0.3156593\ttotal: 1.99s\tremaining: 701ms\n",
      "739:\tlearn: 0.3155848\ttotal: 1.99s\tremaining: 698ms\n",
      "740:\tlearn: 0.3154330\ttotal: 1.99s\tremaining: 696ms\n",
      "741:\tlearn: 0.3153437\ttotal: 1.99s\tremaining: 693ms\n",
      "742:\tlearn: 0.3151338\ttotal: 2s\tremaining: 690ms\n",
      "743:\tlearn: 0.3150156\ttotal: 2s\tremaining: 688ms\n",
      "744:\tlearn: 0.3149324\ttotal: 2s\tremaining: 685ms\n",
      "745:\tlearn: 0.3148386\ttotal: 2s\tremaining: 682ms\n",
      "746:\tlearn: 0.3147328\ttotal: 2.01s\tremaining: 680ms\n"
     ]
    },
    {
     "name": "stdout",
     "output_type": "stream",
     "text": [
      "747:\tlearn: 0.3146365\ttotal: 2.01s\tremaining: 677ms\n",
      "748:\tlearn: 0.3145219\ttotal: 2.01s\tremaining: 674ms\n",
      "749:\tlearn: 0.3144328\ttotal: 2.02s\tremaining: 672ms\n",
      "750:\tlearn: 0.3143488\ttotal: 2.02s\tremaining: 669ms\n",
      "751:\tlearn: 0.3142644\ttotal: 2.02s\tremaining: 666ms\n",
      "752:\tlearn: 0.3141960\ttotal: 2.02s\tremaining: 663ms\n",
      "753:\tlearn: 0.3140622\ttotal: 2.02s\tremaining: 661ms\n",
      "754:\tlearn: 0.3140034\ttotal: 2.03s\tremaining: 658ms\n",
      "755:\tlearn: 0.3139577\ttotal: 2.03s\tremaining: 655ms\n",
      "756:\tlearn: 0.3138591\ttotal: 2.03s\tremaining: 653ms\n",
      "757:\tlearn: 0.3137740\ttotal: 2.04s\tremaining: 650ms\n",
      "758:\tlearn: 0.3136534\ttotal: 2.04s\tremaining: 647ms\n",
      "759:\tlearn: 0.3134810\ttotal: 2.04s\tremaining: 645ms\n",
      "760:\tlearn: 0.3133819\ttotal: 2.04s\tremaining: 642ms\n",
      "761:\tlearn: 0.3133013\ttotal: 2.05s\tremaining: 639ms\n",
      "762:\tlearn: 0.3132687\ttotal: 2.05s\tremaining: 637ms\n",
      "763:\tlearn: 0.3131383\ttotal: 2.05s\tremaining: 634ms\n",
      "764:\tlearn: 0.3129823\ttotal: 2.06s\tremaining: 632ms\n",
      "765:\tlearn: 0.3129067\ttotal: 2.06s\tremaining: 629ms\n",
      "766:\tlearn: 0.3127860\ttotal: 2.06s\tremaining: 626ms\n",
      "767:\tlearn: 0.3127034\ttotal: 2.06s\tremaining: 624ms\n",
      "768:\tlearn: 0.3126494\ttotal: 2.07s\tremaining: 621ms\n"
     ]
    },
    {
     "name": "stdout",
     "output_type": "stream",
     "text": [
      "769:\tlearn: 0.3125386\ttotal: 2.07s\tremaining: 619ms\n",
      "770:\tlearn: 0.3124189\ttotal: 2.07s\tremaining: 616ms\n",
      "771:\tlearn: 0.3123232\ttotal: 2.08s\tremaining: 614ms\n",
      "772:\tlearn: 0.3121829\ttotal: 2.08s\tremaining: 611ms\n",
      "773:\tlearn: 0.3120409\ttotal: 2.08s\tremaining: 609ms\n",
      "774:\tlearn: 0.3119575\ttotal: 2.09s\tremaining: 606ms\n",
      "775:\tlearn: 0.3118909\ttotal: 2.09s\tremaining: 603ms\n",
      "776:\tlearn: 0.3117840\ttotal: 2.09s\tremaining: 601ms\n"
     ]
    },
    {
     "name": "stdout",
     "output_type": "stream",
     "text": [
      "777:\tlearn: 0.3116764\ttotal: 2.1s\tremaining: 598ms\n",
      "778:\tlearn: 0.3116089\ttotal: 2.1s\tremaining: 596ms\n",
      "779:\tlearn: 0.3114841\ttotal: 2.1s\tremaining: 593ms\n",
      "780:\tlearn: 0.3113732\ttotal: 2.11s\tremaining: 591ms\n",
      "781:\tlearn: 0.3112794\ttotal: 2.11s\tremaining: 588ms\n",
      "782:\tlearn: 0.3111781\ttotal: 2.11s\tremaining: 586ms\n",
      "783:\tlearn: 0.3111090\ttotal: 2.12s\tremaining: 583ms\n",
      "784:\tlearn: 0.3109955\ttotal: 2.12s\tremaining: 581ms\n",
      "785:\tlearn: 0.3109249\ttotal: 2.12s\tremaining: 579ms\n",
      "786:\tlearn: 0.3108526\ttotal: 2.13s\tremaining: 576ms\n",
      "787:\tlearn: 0.3107168\ttotal: 2.13s\tremaining: 574ms\n",
      "788:\tlearn: 0.3106445\ttotal: 2.14s\tremaining: 571ms\n",
      "789:\tlearn: 0.3105438\ttotal: 2.14s\tremaining: 569ms\n",
      "790:\tlearn: 0.3104597\ttotal: 2.14s\tremaining: 566ms\n",
      "791:\tlearn: 0.3103634\ttotal: 2.15s\tremaining: 564ms\n",
      "792:\tlearn: 0.3102611\ttotal: 2.15s\tremaining: 561ms\n",
      "793:\tlearn: 0.3101917\ttotal: 2.15s\tremaining: 558ms\n",
      "794:\tlearn: 0.3101428\ttotal: 2.15s\tremaining: 556ms\n",
      "795:\tlearn: 0.3100493\ttotal: 2.16s\tremaining: 553ms\n",
      "796:\tlearn: 0.3099344\ttotal: 2.16s\tremaining: 551ms\n",
      "797:\tlearn: 0.3098976\ttotal: 2.17s\tremaining: 548ms\n",
      "798:\tlearn: 0.3097963\ttotal: 2.17s\tremaining: 546ms\n",
      "799:\tlearn: 0.3097045\ttotal: 2.17s\tremaining: 543ms\n"
     ]
    },
    {
     "name": "stdout",
     "output_type": "stream",
     "text": [
      "800:\tlearn: 0.3096438\ttotal: 2.17s\tremaining: 541ms\n",
      "801:\tlearn: 0.3095571\ttotal: 2.18s\tremaining: 538ms\n",
      "802:\tlearn: 0.3094355\ttotal: 2.18s\tremaining: 535ms\n",
      "803:\tlearn: 0.3093624\ttotal: 2.18s\tremaining: 533ms\n",
      "804:\tlearn: 0.3092344\ttotal: 2.19s\tremaining: 530ms\n",
      "805:\tlearn: 0.3091866\ttotal: 2.19s\tremaining: 528ms\n",
      "806:\tlearn: 0.3090972\ttotal: 2.19s\tremaining: 525ms\n",
      "807:\tlearn: 0.3090021\ttotal: 2.2s\tremaining: 522ms\n",
      "808:\tlearn: 0.3089823\ttotal: 2.2s\tremaining: 520ms\n",
      "809:\tlearn: 0.3089050\ttotal: 2.2s\tremaining: 517ms\n",
      "810:\tlearn: 0.3088147\ttotal: 2.21s\tremaining: 514ms\n",
      "811:\tlearn: 0.3086685\ttotal: 2.21s\tremaining: 512ms\n",
      "812:\tlearn: 0.3085886\ttotal: 2.21s\tremaining: 509ms\n",
      "813:\tlearn: 0.3084796\ttotal: 2.21s\tremaining: 506ms\n",
      "814:\tlearn: 0.3084322\ttotal: 2.22s\tremaining: 504ms\n",
      "815:\tlearn: 0.3083587\ttotal: 2.22s\tremaining: 501ms\n",
      "816:\tlearn: 0.3082142\ttotal: 2.22s\tremaining: 498ms\n",
      "817:\tlearn: 0.3081326\ttotal: 2.23s\tremaining: 495ms\n",
      "818:\tlearn: 0.3080475\ttotal: 2.23s\tremaining: 493ms\n",
      "819:\tlearn: 0.3079777\ttotal: 2.23s\tremaining: 490ms\n"
     ]
    },
    {
     "name": "stdout",
     "output_type": "stream",
     "text": [
      "820:\tlearn: 0.3079564\ttotal: 2.24s\tremaining: 488ms\n",
      "821:\tlearn: 0.3078957\ttotal: 2.24s\tremaining: 485ms\n",
      "822:\tlearn: 0.3077545\ttotal: 2.24s\tremaining: 482ms\n",
      "823:\tlearn: 0.3076735\ttotal: 2.25s\tremaining: 480ms\n",
      "824:\tlearn: 0.3075474\ttotal: 2.25s\tremaining: 477ms\n",
      "825:\tlearn: 0.3074769\ttotal: 2.25s\tremaining: 474ms\n",
      "826:\tlearn: 0.3073699\ttotal: 2.25s\tremaining: 472ms\n",
      "827:\tlearn: 0.3072888\ttotal: 2.26s\tremaining: 469ms\n",
      "828:\tlearn: 0.3072082\ttotal: 2.26s\tremaining: 466ms\n",
      "829:\tlearn: 0.3071226\ttotal: 2.26s\tremaining: 464ms\n",
      "830:\tlearn: 0.3070497\ttotal: 2.27s\tremaining: 461ms\n",
      "831:\tlearn: 0.3069882\ttotal: 2.27s\tremaining: 459ms\n",
      "832:\tlearn: 0.3068375\ttotal: 2.27s\tremaining: 456ms\n",
      "833:\tlearn: 0.3067661\ttotal: 2.28s\tremaining: 453ms\n",
      "834:\tlearn: 0.3066942\ttotal: 2.28s\tremaining: 451ms\n",
      "835:\tlearn: 0.3065667\ttotal: 2.28s\tremaining: 448ms\n",
      "836:\tlearn: 0.3064698\ttotal: 2.29s\tremaining: 445ms\n"
     ]
    },
    {
     "name": "stdout",
     "output_type": "stream",
     "text": [
      "837:\tlearn: 0.3063438\ttotal: 2.29s\tremaining: 443ms\n",
      "838:\tlearn: 0.3062795\ttotal: 2.29s\tremaining: 440ms\n",
      "839:\tlearn: 0.3062018\ttotal: 2.3s\tremaining: 438ms\n",
      "840:\tlearn: 0.3061472\ttotal: 2.3s\tremaining: 435ms\n",
      "841:\tlearn: 0.3060579\ttotal: 2.31s\tremaining: 433ms\n",
      "842:\tlearn: 0.3059693\ttotal: 2.31s\tremaining: 430ms\n",
      "843:\tlearn: 0.3058944\ttotal: 2.31s\tremaining: 427ms\n",
      "844:\tlearn: 0.3057696\ttotal: 2.31s\tremaining: 425ms\n",
      "845:\tlearn: 0.3056934\ttotal: 2.32s\tremaining: 422ms\n",
      "846:\tlearn: 0.3056177\ttotal: 2.32s\tremaining: 419ms\n",
      "847:\tlearn: 0.3055709\ttotal: 2.32s\tremaining: 416ms\n",
      "848:\tlearn: 0.3055238\ttotal: 2.33s\tremaining: 414ms\n",
      "849:\tlearn: 0.3053808\ttotal: 2.33s\tremaining: 411ms\n",
      "850:\tlearn: 0.3053339\ttotal: 2.33s\tremaining: 408ms\n",
      "851:\tlearn: 0.3052351\ttotal: 2.33s\tremaining: 406ms\n",
      "852:\tlearn: 0.3051644\ttotal: 2.34s\tremaining: 403ms\n",
      "853:\tlearn: 0.3050631\ttotal: 2.34s\tremaining: 400ms\n",
      "854:\tlearn: 0.3048588\ttotal: 2.35s\tremaining: 398ms\n",
      "855:\tlearn: 0.3047578\ttotal: 2.35s\tremaining: 395ms\n",
      "856:\tlearn: 0.3046872\ttotal: 2.35s\tremaining: 392ms\n",
      "857:\tlearn: 0.3046008\ttotal: 2.35s\tremaining: 390ms\n",
      "858:\tlearn: 0.3045480\ttotal: 2.36s\tremaining: 387ms\n",
      "859:\tlearn: 0.3044926\ttotal: 2.36s\tremaining: 384ms\n",
      "860:\tlearn: 0.3043931\ttotal: 2.36s\tremaining: 382ms\n",
      "861:\tlearn: 0.3042815\ttotal: 2.37s\tremaining: 379ms\n"
     ]
    },
    {
     "name": "stdout",
     "output_type": "stream",
     "text": [
      "862:\tlearn: 0.3042175\ttotal: 2.37s\tremaining: 376ms\n",
      "863:\tlearn: 0.3041595\ttotal: 2.37s\tremaining: 373ms\n",
      "864:\tlearn: 0.3041010\ttotal: 2.37s\tremaining: 371ms\n",
      "865:\tlearn: 0.3040194\ttotal: 2.38s\tremaining: 368ms\n",
      "866:\tlearn: 0.3039487\ttotal: 2.38s\tremaining: 365ms\n",
      "867:\tlearn: 0.3038234\ttotal: 2.38s\tremaining: 362ms\n",
      "868:\tlearn: 0.3037471\ttotal: 2.38s\tremaining: 360ms\n",
      "869:\tlearn: 0.3036693\ttotal: 2.39s\tremaining: 357ms\n",
      "870:\tlearn: 0.3035995\ttotal: 2.39s\tremaining: 354ms\n",
      "871:\tlearn: 0.3035124\ttotal: 2.39s\tremaining: 351ms\n",
      "872:\tlearn: 0.3034428\ttotal: 2.4s\tremaining: 349ms\n",
      "873:\tlearn: 0.3033697\ttotal: 2.4s\tremaining: 346ms\n",
      "874:\tlearn: 0.3032903\ttotal: 2.4s\tremaining: 343ms\n",
      "875:\tlearn: 0.3032124\ttotal: 2.4s\tremaining: 340ms\n",
      "876:\tlearn: 0.3031069\ttotal: 2.41s\tremaining: 338ms\n",
      "877:\tlearn: 0.3030214\ttotal: 2.41s\tremaining: 335ms\n",
      "878:\tlearn: 0.3029779\ttotal: 2.41s\tremaining: 332ms\n",
      "879:\tlearn: 0.3029286\ttotal: 2.42s\tremaining: 330ms\n",
      "880:\tlearn: 0.3028375\ttotal: 2.42s\tremaining: 327ms\n",
      "881:\tlearn: 0.3027663\ttotal: 2.42s\tremaining: 324ms\n",
      "882:\tlearn: 0.3027303\ttotal: 2.43s\tremaining: 322ms\n"
     ]
    },
    {
     "name": "stdout",
     "output_type": "stream",
     "text": [
      "883:\tlearn: 0.3026235\ttotal: 2.43s\tremaining: 319ms\n",
      "884:\tlearn: 0.3025303\ttotal: 2.43s\tremaining: 316ms\n",
      "885:\tlearn: 0.3024485\ttotal: 2.43s\tremaining: 313ms\n",
      "886:\tlearn: 0.3023426\ttotal: 2.44s\tremaining: 311ms\n",
      "887:\tlearn: 0.3022579\ttotal: 2.44s\tremaining: 308ms\n",
      "888:\tlearn: 0.3021987\ttotal: 2.44s\tremaining: 305ms\n",
      "889:\tlearn: 0.3021181\ttotal: 2.45s\tremaining: 302ms\n",
      "890:\tlearn: 0.3020200\ttotal: 2.45s\tremaining: 300ms\n",
      "891:\tlearn: 0.3019220\ttotal: 2.45s\tremaining: 297ms\n",
      "892:\tlearn: 0.3018700\ttotal: 2.45s\tremaining: 294ms\n",
      "893:\tlearn: 0.3017849\ttotal: 2.46s\tremaining: 291ms\n",
      "894:\tlearn: 0.3017211\ttotal: 2.46s\tremaining: 289ms\n",
      "895:\tlearn: 0.3016564\ttotal: 2.46s\tremaining: 286ms\n",
      "896:\tlearn: 0.3015775\ttotal: 2.47s\tremaining: 283ms\n",
      "897:\tlearn: 0.3015101\ttotal: 2.47s\tremaining: 281ms\n",
      "898:\tlearn: 0.3014355\ttotal: 2.47s\tremaining: 278ms\n",
      "899:\tlearn: 0.3013714\ttotal: 2.48s\tremaining: 275ms\n",
      "900:\tlearn: 0.3013126\ttotal: 2.48s\tremaining: 272ms\n",
      "901:\tlearn: 0.3012282\ttotal: 2.48s\tremaining: 270ms\n"
     ]
    },
    {
     "name": "stdout",
     "output_type": "stream",
     "text": [
      "902:\tlearn: 0.3011659\ttotal: 2.49s\tremaining: 267ms\n",
      "903:\tlearn: 0.3010801\ttotal: 2.49s\tremaining: 264ms\n",
      "904:\tlearn: 0.3010112\ttotal: 2.49s\tremaining: 262ms\n",
      "905:\tlearn: 0.3009477\ttotal: 2.5s\tremaining: 259ms\n",
      "906:\tlearn: 0.3008879\ttotal: 2.5s\tremaining: 256ms\n",
      "907:\tlearn: 0.3007993\ttotal: 2.5s\tremaining: 254ms\n",
      "908:\tlearn: 0.3007170\ttotal: 2.5s\tremaining: 251ms\n",
      "909:\tlearn: 0.3006212\ttotal: 2.51s\tremaining: 248ms\n",
      "910:\tlearn: 0.3005546\ttotal: 2.51s\tremaining: 245ms\n",
      "911:\tlearn: 0.3004520\ttotal: 2.51s\tremaining: 243ms\n",
      "912:\tlearn: 0.3003915\ttotal: 2.52s\tremaining: 240ms\n",
      "913:\tlearn: 0.3003337\ttotal: 2.52s\tremaining: 237ms\n",
      "914:\tlearn: 0.3002697\ttotal: 2.52s\tremaining: 234ms\n",
      "915:\tlearn: 0.3002318\ttotal: 2.53s\tremaining: 232ms\n",
      "916:\tlearn: 0.3001643\ttotal: 2.53s\tremaining: 229ms\n",
      "917:\tlearn: 0.3001111\ttotal: 2.53s\tremaining: 226ms\n",
      "918:\tlearn: 0.3000002\ttotal: 2.53s\tremaining: 223ms\n",
      "919:\tlearn: 0.2998459\ttotal: 2.54s\tremaining: 221ms\n",
      "920:\tlearn: 0.2997710\ttotal: 2.54s\tremaining: 218ms\n",
      "921:\tlearn: 0.2996594\ttotal: 2.54s\tremaining: 215ms\n",
      "922:\tlearn: 0.2995536\ttotal: 2.55s\tremaining: 212ms\n",
      "923:\tlearn: 0.2994741\ttotal: 2.55s\tremaining: 210ms\n",
      "924:\tlearn: 0.2993628\ttotal: 2.55s\tremaining: 207ms\n",
      "925:\tlearn: 0.2992771\ttotal: 2.56s\tremaining: 204ms\n",
      "926:\tlearn: 0.2991739\ttotal: 2.56s\tremaining: 202ms\n",
      "927:\tlearn: 0.2991364\ttotal: 2.56s\tremaining: 199ms\n"
     ]
    },
    {
     "name": "stdout",
     "output_type": "stream",
     "text": [
      "928:\tlearn: 0.2990783\ttotal: 2.56s\tremaining: 196ms\n",
      "929:\tlearn: 0.2989806\ttotal: 2.57s\tremaining: 193ms\n",
      "930:\tlearn: 0.2988586\ttotal: 2.57s\tremaining: 190ms\n",
      "931:\tlearn: 0.2987754\ttotal: 2.57s\tremaining: 188ms\n",
      "932:\tlearn: 0.2987274\ttotal: 2.58s\tremaining: 185ms\n",
      "933:\tlearn: 0.2986235\ttotal: 2.58s\tremaining: 182ms\n",
      "934:\tlearn: 0.2985114\ttotal: 2.58s\tremaining: 179ms\n",
      "935:\tlearn: 0.2984299\ttotal: 2.58s\tremaining: 177ms\n",
      "936:\tlearn: 0.2983670\ttotal: 2.59s\tremaining: 174ms\n",
      "937:\tlearn: 0.2982047\ttotal: 2.59s\tremaining: 171ms\n",
      "938:\tlearn: 0.2981196\ttotal: 2.59s\tremaining: 168ms\n",
      "939:\tlearn: 0.2980662\ttotal: 2.6s\tremaining: 166ms\n",
      "940:\tlearn: 0.2980129\ttotal: 2.6s\tremaining: 163ms\n",
      "941:\tlearn: 0.2979062\ttotal: 2.6s\tremaining: 160ms\n",
      "942:\tlearn: 0.2978358\ttotal: 2.6s\tremaining: 157ms\n",
      "943:\tlearn: 0.2977293\ttotal: 2.61s\tremaining: 155ms\n",
      "944:\tlearn: 0.2976698\ttotal: 2.61s\tremaining: 152ms\n",
      "945:\tlearn: 0.2976160\ttotal: 2.61s\tremaining: 149ms\n",
      "946:\tlearn: 0.2975541\ttotal: 2.62s\tremaining: 146ms\n",
      "947:\tlearn: 0.2974959\ttotal: 2.62s\tremaining: 144ms\n",
      "948:\tlearn: 0.2973850\ttotal: 2.62s\tremaining: 141ms\n"
     ]
    },
    {
     "name": "stdout",
     "output_type": "stream",
     "text": [
      "949:\tlearn: 0.2972838\ttotal: 2.62s\tremaining: 138ms\n",
      "950:\tlearn: 0.2972040\ttotal: 2.63s\tremaining: 135ms\n",
      "951:\tlearn: 0.2970985\ttotal: 2.63s\tremaining: 133ms\n",
      "952:\tlearn: 0.2970283\ttotal: 2.63s\tremaining: 130ms\n",
      "953:\tlearn: 0.2969310\ttotal: 2.64s\tremaining: 127ms\n",
      "954:\tlearn: 0.2968440\ttotal: 2.64s\tremaining: 124ms\n",
      "955:\tlearn: 0.2967409\ttotal: 2.64s\tremaining: 122ms\n",
      "956:\tlearn: 0.2966101\ttotal: 2.64s\tremaining: 119ms\n",
      "957:\tlearn: 0.2965288\ttotal: 2.65s\tremaining: 116ms\n",
      "958:\tlearn: 0.2964727\ttotal: 2.65s\tremaining: 113ms\n",
      "959:\tlearn: 0.2963609\ttotal: 2.65s\tremaining: 111ms\n",
      "960:\tlearn: 0.2962653\ttotal: 2.66s\tremaining: 108ms\n",
      "961:\tlearn: 0.2962116\ttotal: 2.66s\tremaining: 105ms\n",
      "962:\tlearn: 0.2961452\ttotal: 2.66s\tremaining: 102ms\n",
      "963:\tlearn: 0.2960930\ttotal: 2.67s\tremaining: 99.6ms\n",
      "964:\tlearn: 0.2960237\ttotal: 2.67s\tremaining: 96.8ms\n",
      "965:\tlearn: 0.2959575\ttotal: 2.67s\tremaining: 94.1ms\n",
      "966:\tlearn: 0.2959170\ttotal: 2.67s\tremaining: 91.3ms\n",
      "967:\tlearn: 0.2958401\ttotal: 2.68s\tremaining: 88.6ms\n"
     ]
    },
    {
     "name": "stdout",
     "output_type": "stream",
     "text": [
      "968:\tlearn: 0.2957452\ttotal: 2.68s\tremaining: 85.8ms\n",
      "969:\tlearn: 0.2956863\ttotal: 2.69s\tremaining: 83.1ms\n",
      "970:\tlearn: 0.2956229\ttotal: 2.69s\tremaining: 80.3ms\n",
      "971:\tlearn: 0.2955624\ttotal: 2.69s\tremaining: 77.5ms\n",
      "972:\tlearn: 0.2955292\ttotal: 2.69s\tremaining: 74.8ms\n",
      "973:\tlearn: 0.2954603\ttotal: 2.7s\tremaining: 72ms\n",
      "974:\tlearn: 0.2954006\ttotal: 2.7s\tremaining: 69.3ms\n",
      "975:\tlearn: 0.2953506\ttotal: 2.7s\tremaining: 66.5ms\n",
      "976:\tlearn: 0.2952366\ttotal: 2.71s\tremaining: 63.8ms\n",
      "977:\tlearn: 0.2951327\ttotal: 2.71s\tremaining: 61ms\n",
      "978:\tlearn: 0.2950586\ttotal: 2.71s\tremaining: 58.2ms\n",
      "979:\tlearn: 0.2949732\ttotal: 2.72s\tremaining: 55.4ms\n",
      "980:\tlearn: 0.2948995\ttotal: 2.72s\tremaining: 52.7ms\n",
      "981:\tlearn: 0.2947947\ttotal: 2.72s\tremaining: 49.9ms\n",
      "982:\tlearn: 0.2946779\ttotal: 2.73s\tremaining: 47.1ms\n",
      "983:\tlearn: 0.2946159\ttotal: 2.73s\tremaining: 44.4ms\n",
      "984:\tlearn: 0.2945403\ttotal: 2.73s\tremaining: 41.6ms\n",
      "985:\tlearn: 0.2944052\ttotal: 2.73s\tremaining: 38.8ms\n",
      "986:\tlearn: 0.2943452\ttotal: 2.74s\tremaining: 36.1ms\n",
      "987:\tlearn: 0.2942519\ttotal: 2.74s\tremaining: 33.3ms\n",
      "988:\tlearn: 0.2941759\ttotal: 2.74s\tremaining: 30.5ms\n",
      "989:\tlearn: 0.2940968\ttotal: 2.75s\tremaining: 27.8ms\n",
      "990:\tlearn: 0.2940501\ttotal: 2.75s\tremaining: 25ms\n",
      "991:\tlearn: 0.2939972\ttotal: 2.75s\tremaining: 22.2ms\n",
      "992:\tlearn: 0.2939243\ttotal: 2.76s\tremaining: 19.4ms\n"
     ]
    },
    {
     "name": "stdout",
     "output_type": "stream",
     "text": [
      "993:\tlearn: 0.2938467\ttotal: 2.76s\tremaining: 16.7ms\n",
      "994:\tlearn: 0.2937749\ttotal: 2.76s\tremaining: 13.9ms\n",
      "995:\tlearn: 0.2936927\ttotal: 2.77s\tremaining: 11.1ms\n",
      "996:\tlearn: 0.2936060\ttotal: 2.77s\tremaining: 8.34ms\n",
      "997:\tlearn: 0.2935422\ttotal: 2.77s\tremaining: 5.56ms\n",
      "998:\tlearn: 0.2934590\ttotal: 2.78s\tremaining: 2.78ms\n",
      "999:\tlearn: 0.2933847\ttotal: 2.78s\tremaining: 0us\n",
      "Mean Squared error 0.1550687903444467\n"
     ]
    },
    {
     "data": {
      "application/scrapbook.scrap.json+json": {
       "data": 0.1550687903444467,
       "encoder": "json",
       "name": "Catboost MAE",
       "version": 1
      }
     },
     "metadata": {
      "scrapbook": {
       "data": true,
       "display": false,
       "name": "Catboost MAE"
      }
     },
     "output_type": "display_data"
    }
   ],
   "source": [
    "mae_cb = baselineModels.catboost(X_train,y_train,X_test,y_test)\n",
    "#Store MSE Value\n",
    "sb.glue(\"Catboost MAE\",mae_cb)"
   ]
  }
 ],
 "metadata": {
  "interpreter": {
   "hash": "10498c76ddd8160350534c6544a2b2fb65f2138dbc70420f7c81a3268f830f23"
  },
  "kernelspec": {
   "display_name": "Python 3 (ipykernel)",
   "language": "python",
   "name": "python3"
  },
  "language_info": {
   "codemirror_mode": {
    "name": "ipython",
    "version": 3
   },
   "file_extension": ".py",
   "mimetype": "text/x-python",
   "name": "python",
   "nbconvert_exporter": "python",
   "pygments_lexer": "ipython3",
   "version": "3.8.11"
  },
  "papermill": {
   "default_parameters": {},
   "duration": 6.140351,
   "end_time": "2022-03-02T04:30:55.228546",
   "environment_variables": {},
   "exception": null,
   "input_path": "BaselineModels.ipynb",
   "output_path": "./BaseLine_Model_Output/BaselineModels_output_7.ipynb",
   "parameters": {},
   "start_time": "2022-03-02T04:30:49.088195",
   "version": "2.3.3"
  }
 },
 "nbformat": 4,
 "nbformat_minor": 5
}