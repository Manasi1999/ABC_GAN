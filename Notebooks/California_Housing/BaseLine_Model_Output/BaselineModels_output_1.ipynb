{
 "cells": [
  {
   "cell_type": "markdown",
   "id": "5d263376",
   "metadata": {
    "papermill": {
     "duration": 0.007372,
     "end_time": "2022-03-02T04:30:07.936601",
     "exception": false,
     "start_time": "2022-03-02T04:30:07.929229",
     "status": "completed"
    },
    "tags": []
   },
   "source": [
    "## Import Libraries "
   ]
  },
  {
   "cell_type": "code",
   "execution_count": 1,
   "id": "3a2e9753",
   "metadata": {
    "execution": {
     "iopub.execute_input": "2022-03-02T04:30:07.956096Z",
     "iopub.status.busy": "2022-03-02T04:30:07.955535Z",
     "iopub.status.idle": "2022-03-02T04:30:07.959070Z",
     "shell.execute_reply": "2022-03-02T04:30:07.958613Z"
    },
    "papermill": {
     "duration": 0.016767,
     "end_time": "2022-03-02T04:30:07.959262",
     "exception": false,
     "start_time": "2022-03-02T04:30:07.942495",
     "status": "completed"
    },
    "tags": []
   },
   "outputs": [],
   "source": [
    "import warnings\n",
    "import sys\n",
    "sys.path.insert(0, '../../src')\n",
    "warnings.filterwarnings('ignore')"
   ]
  },
  {
   "cell_type": "code",
   "execution_count": 2,
   "id": "8b83d77a",
   "metadata": {
    "execution": {
     "iopub.execute_input": "2022-03-02T04:30:07.970798Z",
     "iopub.status.busy": "2022-03-02T04:30:07.970333Z",
     "iopub.status.idle": "2022-03-02T04:30:11.579495Z",
     "shell.execute_reply": "2022-03-02T04:30:11.579778Z"
    },
    "papermill": {
     "duration": 3.616097,
     "end_time": "2022-03-02T04:30:11.579906",
     "exception": false,
     "start_time": "2022-03-02T04:30:07.963809",
     "status": "completed"
    },
    "tags": []
   },
   "outputs": [],
   "source": [
    "import statsModel\n",
    "import scrapbook as sb \n",
    "import torch \n",
    "import statsModel\n",
    "import baselineModels\n",
    "import californiaDataset\n",
    "import dataset \n",
    "from torch.utils.data import random_split \n",
    "from sklearn.model_selection import train_test_split"
   ]
  },
  {
   "cell_type": "markdown",
   "id": "c30253a1",
   "metadata": {
    "papermill": {
     "duration": 0.003064,
     "end_time": "2022-03-02T04:30:11.586401",
     "exception": false,
     "start_time": "2022-03-02T04:30:11.583337",
     "status": "completed"
    },
    "tags": []
   },
   "source": [
    "## Import Dataset \n"
   ]
  },
  {
   "cell_type": "code",
   "execution_count": 3,
   "id": "50a6c28d",
   "metadata": {
    "execution": {
     "iopub.execute_input": "2022-03-02T04:30:11.596653Z",
     "iopub.status.busy": "2022-03-02T04:30:11.596205Z",
     "iopub.status.idle": "2022-03-02T04:30:11.619294Z",
     "shell.execute_reply": "2022-03-02T04:30:11.619541Z"
    },
    "papermill": {
     "duration": 0.02894,
     "end_time": "2022-03-02T04:30:11.619667",
     "exception": false,
     "start_time": "2022-03-02T04:30:11.590727",
     "status": "completed"
    },
    "tags": []
   },
   "outputs": [
    {
     "name": "stdout",
     "output_type": "stream",
     "text": [
      "       X1    X2        X3        X4      X5        X6     X7      X8      Y\n",
      "0  8.3252  41.0  6.984127  1.023810   322.0  2.555556  37.88 -122.23  4.526\n",
      "1  8.3014  21.0  6.238137  0.971880  2401.0  2.109842  37.86 -122.22  3.585\n",
      "2  7.2574  52.0  8.288136  1.073446   496.0  2.802260  37.85 -122.24  3.521\n",
      "3  5.6431  52.0  5.817352  1.073059   558.0  2.547945  37.85 -122.25  3.413\n",
      "4  3.8462  52.0  6.281853  1.081081   565.0  2.181467  37.85 -122.25  3.422\n"
     ]
    }
   ],
   "source": [
    "n_features = 8\n",
    "n_samples= 20640\n",
    "n_target = 1 \n",
    "X,Y = californiaDataset.california_data()"
   ]
  },
  {
   "cell_type": "code",
   "execution_count": 4,
   "id": "7657643a",
   "metadata": {
    "execution": {
     "iopub.execute_input": "2022-03-02T04:30:11.628958Z",
     "iopub.status.busy": "2022-03-02T04:30:11.628583Z",
     "iopub.status.idle": "2022-03-02T04:30:11.630446Z",
     "shell.execute_reply": "2022-03-02T04:30:11.630692Z"
    },
    "papermill": {
     "duration": 0.00797,
     "end_time": "2022-03-02T04:30:11.630801",
     "exception": false,
     "start_time": "2022-03-02T04:30:11.622831",
     "status": "completed"
    },
    "tags": []
   },
   "outputs": [],
   "source": [
    "# Train test split for dataset \n",
    "real_dataset = dataset.CustomDataset(X,Y)\n",
    "X_train, X_test, y_train, y_test = train_test_split(X, Y, test_size=0.2)"
   ]
  },
  {
   "cell_type": "markdown",
   "id": "c8b56e0b",
   "metadata": {
    "papermill": {
     "duration": 0.002889,
     "end_time": "2022-03-02T04:30:11.636705",
     "exception": false,
     "start_time": "2022-03-02T04:30:11.633816",
     "status": "completed"
    },
    "tags": []
   },
   "source": [
    "## Stats Model \n",
    "\n"
   ]
  },
  {
   "cell_type": "code",
   "execution_count": 5,
   "id": "9bd27dcd",
   "metadata": {
    "execution": {
     "iopub.execute_input": "2022-03-02T04:30:11.644927Z",
     "iopub.status.busy": "2022-03-02T04:30:11.644555Z",
     "iopub.status.idle": "2022-03-02T04:30:11.762536Z",
     "shell.execute_reply": "2022-03-02T04:30:11.762903Z"
    },
    "papermill": {
     "duration": 0.123273,
     "end_time": "2022-03-02T04:30:11.763026",
     "exception": false,
     "start_time": "2022-03-02T04:30:11.639753",
     "status": "completed"
    },
    "tags": []
   },
   "outputs": [
    {
     "name": "stderr",
     "output_type": "stream",
     "text": [
      "No handles with labels found to put in legend.\n"
     ]
    },
    {
     "name": "stdout",
     "output_type": "stream",
     "text": [
      "                                 OLS Regression Results                                \n",
      "=======================================================================================\n",
      "Dep. Variable:                      y   R-squared (uncentered):                   0.600\n",
      "Model:                            OLS   Adj. R-squared (uncentered):              0.600\n",
      "Method:                 Least Squares   F-statistic:                              3099.\n",
      "Date:                Wed, 02 Mar 2022   Prob (F-statistic):                        0.00\n",
      "Time:                        10:00:11   Log-Likelihood:                         -15875.\n",
      "No. Observations:               16512   AIC:                                  3.177e+04\n",
      "Df Residuals:                   16504   BIC:                                  3.183e+04\n",
      "Df Model:                           8                                                  \n",
      "Covariance Type:            nonrobust                                                  \n",
      "==============================================================================\n",
      "                 coef    std err          t      P>|t|      [0.025      0.975]\n",
      "------------------------------------------------------------------------------\n",
      "x1             0.7117      0.008     91.954      0.000       0.697       0.727\n",
      "x2             0.0970      0.005     17.695      0.000       0.086       0.108\n",
      "x3            -0.2239      0.014    -15.910      0.000      -0.251      -0.196\n",
      "x4             0.2576      0.013     20.080      0.000       0.232       0.283\n",
      "x5            -0.0040      0.005     -0.771      0.441      -0.014       0.006\n",
      "x6            -0.0429      0.008     -5.371      0.000      -0.059      -0.027\n",
      "x7            -0.7893      0.015    -52.586      0.000      -0.819      -0.760\n",
      "x8            -0.7591      0.015    -51.620      0.000      -0.788      -0.730\n",
      "==============================================================================\n",
      "Omnibus:                     3634.582   Durbin-Watson:                   2.007\n",
      "Prob(Omnibus):                  0.000   Jarque-Bera (JB):            12065.935\n",
      "Skew:                           1.106   Prob(JB):                         0.00\n",
      "Kurtosis:                       6.556   Cond. No.                         6.75\n",
      "==============================================================================\n",
      "\n",
      "Notes:\n",
      "[1] R² is computed without centering (uncentered) since the model does not contain a constant.\n",
      "[2] Standard Errors assume that the covariance matrix of the errors is correctly specified.\n"
     ]
    },
    {
     "data": {
      "image/png": "[encoded data removed]",
      "text/plain": [
       "<Figure size 432x288 with 1 Axes>"
      ]
     },
     "metadata": {
      "needs_background": "light"
     },
     "output_type": "display_data"
    },
    {
     "name": "stdout",
     "output_type": "stream",
     "text": [
      "Performance Metrics\n",
      "Mean Squared Error: 0.3675602385953373\n",
      "Mean Absolute Error: 0.44997979067141575\n",
      "Manhattan distance: 1857.516575891602\n",
      "Euclidean distance: 38.95238972029253\n"
     ]
    },
    {
     "data": {
      "application/scrapbook.scrap.json+json": {
       "data": 0.3675602385953373,
       "encoder": "json",
       "name": "Stats Model MSE",
       "version": 1
      }
     },
     "metadata": {
      "scrapbook": {
       "data": true,
       "display": false,
       "name": "Stats Model MSE"
      }
     },
     "output_type": "display_data"
    },
    {
     "data": {
      "application/scrapbook.scrap.json+json": {
       "data": 0.44997979067141575,
       "encoder": "json",
       "name": "Stats Model MAE",
       "version": 1
      }
     },
     "metadata": {
      "scrapbook": {
       "data": true,
       "display": false,
       "name": "Stats Model MAE"
      }
     },
     "output_type": "display_data"
    },
    {
     "data": {
      "application/scrapbook.scrap.json+json": {
       "data": 1857.516575891602,
       "encoder": "json",
       "name": "Stats Model Manhattan Distance",
       "version": 1
      }
     },
     "metadata": {
      "scrapbook": {
       "data": true,
       "display": false,
       "name": "Stats Model Manhattan Distance"
      }
     },
     "output_type": "display_data"
    },
    {
     "data": {
      "application/scrapbook.scrap.json+json": {
       "data": 38.95238972029253,
       "encoder": "json",
       "name": "Stats Model Euclidean distance",
       "version": 1
      }
     },
     "metadata": {
      "scrapbook": {
       "data": true,
       "display": false,
       "name": "Stats Model Euclidean distance"
      }
     },
     "output_type": "display_data"
    },
    {
     "data": {
      "application/scrapbook.scrap.json+json": {
       "data": [
        0.7117217004790011,
        0.09699501117327633,
        -0.22385764901163835,
        0.25757913574552493,
        -0.0039939318015985055,
        -0.04287581092880802,
        -0.7893342708151411,
        -0.7591031720917194
       ],
       "encoder": "json",
       "name": "Coefficients",
       "version": 1
      }
     },
     "metadata": {
      "scrapbook": {
       "data": true,
       "display": false,
       "name": "Coefficients"
      }
     },
     "output_type": "display_data"
    }
   ],
   "source": [
    "coefficients , y_pred =statsModel.statsModel(X_train,y_train,X_test,y_test)\n",
    "#Store MSE Value \n",
    "sb.glue(\"Coefficients\",coefficients)"
   ]
  },
  {
   "cell_type": "markdown",
   "id": "29c6968c",
   "metadata": {
    "papermill": {
     "duration": 0.005162,
     "end_time": "2022-03-02T04:30:11.773468",
     "exception": false,
     "start_time": "2022-03-02T04:30:11.768306",
     "status": "completed"
    },
    "tags": []
   },
   "source": [
    "# Catboost Model "
   ]
  },
  {
   "cell_type": "code",
   "execution_count": 6,
   "id": "32a7a7aa",
   "metadata": {
    "execution": {
     "iopub.execute_input": "2022-03-02T04:30:11.833439Z",
     "iopub.status.busy": "2022-03-02T04:30:11.833029Z",
     "iopub.status.idle": "2022-03-02T04:30:14.466156Z",
     "shell.execute_reply": "2022-03-02T04:30:14.466414Z"
    },
    "papermill": {
     "duration": 2.688051,
     "end_time": "2022-03-02T04:30:14.466533",
     "exception": false,
     "start_time": "2022-03-02T04:30:11.778482",
     "status": "completed"
    },
    "tags": []
   },
   "outputs": [
    {
     "name": "stdout",
     "output_type": "stream",
     "text": [
      "Learning rate set to 0.064294\n"
     ]
    },
    {
     "name": "stdout",
     "output_type": "stream",
     "text": [
      "0:\tlearn: 0.9653420\ttotal: 62.7ms\tremaining: 1m 2s\n",
      "1:\tlearn: 0.9325602\ttotal: 64.7ms\tremaining: 32.3s\n",
      "2:\tlearn: 0.9026673\ttotal: 66.6ms\tremaining: 22.1s\n",
      "3:\tlearn: 0.8746695\ttotal: 68.8ms\tremaining: 17.1s\n",
      "4:\tlearn: 0.8485804\ttotal: 70.7ms\tremaining: 14.1s\n",
      "5:\tlearn: 0.8253444\ttotal: 72.7ms\tremaining: 12s\n",
      "6:\tlearn: 0.8047960\ttotal: 74.7ms\tremaining: 10.6s\n",
      "7:\tlearn: 0.7839699\ttotal: 76.7ms\tremaining: 9.51s\n",
      "8:\tlearn: 0.7656780\ttotal: 79.2ms\tremaining: 8.72s\n",
      "9:\tlearn: 0.7472175\ttotal: 81.9ms\tremaining: 8.1s\n",
      "10:\tlearn: 0.7311963\ttotal: 84.5ms\tremaining: 7.59s\n",
      "11:\tlearn: 0.7154461\ttotal: 87.1ms\tremaining: 7.17s\n",
      "12:\tlearn: 0.7013399\ttotal: 89.6ms\tremaining: 6.8s\n",
      "13:\tlearn: 0.6890075\ttotal: 92.1ms\tremaining: 6.49s\n",
      "14:\tlearn: 0.6765922\ttotal: 95.2ms\tremaining: 6.25s\n",
      "15:\tlearn: 0.6659247\ttotal: 98.2ms\tremaining: 6.04s\n",
      "16:\tlearn: 0.6546758\ttotal: 101ms\tremaining: 5.82s\n",
      "17:\tlearn: 0.6449855\ttotal: 103ms\tremaining: 5.62s\n",
      "18:\tlearn: 0.6368872\ttotal: 105ms\tremaining: 5.43s\n"
     ]
    },
    {
     "name": "stdout",
     "output_type": "stream",
     "text": [
      "19:\tlearn: 0.6294334\ttotal: 107ms\tremaining: 5.26s\n",
      "20:\tlearn: 0.6209843\ttotal: 110ms\tremaining: 5.11s\n",
      "21:\tlearn: 0.6142225\ttotal: 112ms\tremaining: 4.98s\n",
      "22:\tlearn: 0.6050466\ttotal: 114ms\tremaining: 4.86s\n",
      "23:\tlearn: 0.5980342\ttotal: 117ms\tremaining: 4.76s\n",
      "24:\tlearn: 0.5906570\ttotal: 119ms\tremaining: 4.66s\n",
      "25:\tlearn: 0.5834167\ttotal: 122ms\tremaining: 4.56s\n",
      "26:\tlearn: 0.5783232\ttotal: 124ms\tremaining: 4.48s\n",
      "27:\tlearn: 0.5736601\ttotal: 128ms\tremaining: 4.44s\n",
      "28:\tlearn: 0.5677884\ttotal: 132ms\tremaining: 4.42s\n",
      "29:\tlearn: 0.5616626\ttotal: 134ms\tremaining: 4.34s\n",
      "30:\tlearn: 0.5582712\ttotal: 137ms\tremaining: 4.28s\n",
      "31:\tlearn: 0.5543827\ttotal: 139ms\tremaining: 4.2s\n",
      "32:\tlearn: 0.5510345\ttotal: 141ms\tremaining: 4.14s\n",
      "33:\tlearn: 0.5481802\ttotal: 144ms\tremaining: 4.08s\n",
      "34:\tlearn: 0.5433697\ttotal: 146ms\tremaining: 4.03s\n",
      "35:\tlearn: 0.5398903\ttotal: 149ms\tremaining: 4s\n",
      "36:\tlearn: 0.5368563\ttotal: 152ms\tremaining: 3.95s\n",
      "37:\tlearn: 0.5330390\ttotal: 155ms\tremaining: 3.91s\n",
      "38:\tlearn: 0.5294958\ttotal: 157ms\tremaining: 3.87s\n",
      "39:\tlearn: 0.5267525\ttotal: 160ms\tremaining: 3.83s\n",
      "40:\tlearn: 0.5242703\ttotal: 161ms\tremaining: 3.78s\n",
      "41:\tlearn: 0.5221665\ttotal: 164ms\tremaining: 3.73s\n",
      "42:\tlearn: 0.5196524\ttotal: 166ms\tremaining: 3.7s\n",
      "43:\tlearn: 0.5165648\ttotal: 169ms\tremaining: 3.67s\n",
      "44:\tlearn: 0.5148535\ttotal: 171ms\tremaining: 3.64s\n",
      "45:\tlearn: 0.5127319\ttotal: 174ms\tremaining: 3.6s\n",
      "46:\tlearn: 0.5107042\ttotal: 177ms\tremaining: 3.58s\n",
      "47:\tlearn: 0.5091118\ttotal: 179ms\tremaining: 3.55s\n",
      "48:\tlearn: 0.5079036\ttotal: 182ms\tremaining: 3.52s\n",
      "49:\tlearn: 0.5062038\ttotal: 184ms\tremaining: 3.5s\n",
      "50:\tlearn: 0.5039079\ttotal: 187ms\tremaining: 3.47s\n",
      "51:\tlearn: 0.5023470\ttotal: 189ms\tremaining: 3.45s\n"
     ]
    },
    {
     "name": "stdout",
     "output_type": "stream",
     "text": [
      "52:\tlearn: 0.4998148\ttotal: 192ms\tremaining: 3.42s\n",
      "53:\tlearn: 0.4973952\ttotal: 194ms\tremaining: 3.39s\n",
      "54:\tlearn: 0.4947713\ttotal: 196ms\tremaining: 3.37s\n",
      "55:\tlearn: 0.4934200\ttotal: 198ms\tremaining: 3.34s\n",
      "56:\tlearn: 0.4919751\ttotal: 200ms\tremaining: 3.32s\n",
      "57:\tlearn: 0.4907552\ttotal: 203ms\tremaining: 3.29s\n",
      "58:\tlearn: 0.4898838\ttotal: 205ms\tremaining: 3.28s\n",
      "59:\tlearn: 0.4888465\ttotal: 208ms\tremaining: 3.25s\n",
      "60:\tlearn: 0.4867130\ttotal: 210ms\tremaining: 3.23s\n",
      "61:\tlearn: 0.4859898\ttotal: 212ms\tremaining: 3.21s\n",
      "62:\tlearn: 0.4851917\ttotal: 214ms\tremaining: 3.18s\n",
      "63:\tlearn: 0.4830333\ttotal: 216ms\tremaining: 3.16s\n",
      "64:\tlearn: 0.4818534\ttotal: 219ms\tremaining: 3.15s\n",
      "65:\tlearn: 0.4812596\ttotal: 221ms\tremaining: 3.13s\n",
      "66:\tlearn: 0.4801407\ttotal: 224ms\tremaining: 3.12s\n",
      "67:\tlearn: 0.4792435\ttotal: 226ms\tremaining: 3.1s\n",
      "68:\tlearn: 0.4781787\ttotal: 228ms\tremaining: 3.08s\n",
      "69:\tlearn: 0.4769423\ttotal: 231ms\tremaining: 3.06s\n",
      "70:\tlearn: 0.4756551\ttotal: 233ms\tremaining: 3.05s\n",
      "71:\tlearn: 0.4738931\ttotal: 236ms\tremaining: 3.04s\n",
      "72:\tlearn: 0.4731590\ttotal: 238ms\tremaining: 3.02s\n",
      "73:\tlearn: 0.4727233\ttotal: 240ms\tremaining: 3s\n",
      "74:\tlearn: 0.4719247\ttotal: 242ms\tremaining: 2.99s\n",
      "75:\tlearn: 0.4709466\ttotal: 245ms\tremaining: 2.98s\n",
      "76:\tlearn: 0.4704643\ttotal: 248ms\tremaining: 2.97s\n",
      "77:\tlearn: 0.4695772\ttotal: 250ms\tremaining: 2.96s\n",
      "78:\tlearn: 0.4691255\ttotal: 253ms\tremaining: 2.94s\n",
      "79:\tlearn: 0.4685861\ttotal: 255ms\tremaining: 2.93s\n"
     ]
    },
    {
     "name": "stdout",
     "output_type": "stream",
     "text": [
      "80:\tlearn: 0.4676997\ttotal: 258ms\tremaining: 2.92s\n",
      "81:\tlearn: 0.4667689\ttotal: 260ms\tremaining: 2.91s\n",
      "82:\tlearn: 0.4653660\ttotal: 262ms\tremaining: 2.9s\n",
      "83:\tlearn: 0.4642021\ttotal: 265ms\tremaining: 2.89s\n",
      "84:\tlearn: 0.4635018\ttotal: 267ms\tremaining: 2.88s\n",
      "85:\tlearn: 0.4627599\ttotal: 270ms\tremaining: 2.87s\n",
      "86:\tlearn: 0.4621767\ttotal: 272ms\tremaining: 2.85s\n",
      "87:\tlearn: 0.4618001\ttotal: 274ms\tremaining: 2.84s\n",
      "88:\tlearn: 0.4610530\ttotal: 276ms\tremaining: 2.83s\n",
      "89:\tlearn: 0.4602844\ttotal: 279ms\tremaining: 2.82s\n",
      "90:\tlearn: 0.4599543\ttotal: 282ms\tremaining: 2.81s\n",
      "91:\tlearn: 0.4590816\ttotal: 284ms\tremaining: 2.8s\n",
      "92:\tlearn: 0.4584466\ttotal: 286ms\tremaining: 2.79s\n",
      "93:\tlearn: 0.4577139\ttotal: 289ms\tremaining: 2.79s\n",
      "94:\tlearn: 0.4572516\ttotal: 291ms\tremaining: 2.77s\n",
      "95:\tlearn: 0.4564146\ttotal: 294ms\tremaining: 2.77s\n",
      "96:\tlearn: 0.4558934\ttotal: 296ms\tremaining: 2.76s\n",
      "97:\tlearn: 0.4542976\ttotal: 299ms\tremaining: 2.75s\n",
      "98:\tlearn: 0.4533540\ttotal: 301ms\tremaining: 2.74s\n"
     ]
    },
    {
     "name": "stdout",
     "output_type": "stream",
     "text": [
      "99:\tlearn: 0.4525221\ttotal: 304ms\tremaining: 2.73s\n",
      "100:\tlearn: 0.4515039\ttotal: 306ms\tremaining: 2.72s\n",
      "101:\tlearn: 0.4507083\ttotal: 308ms\tremaining: 2.71s\n",
      "102:\tlearn: 0.4502154\ttotal: 311ms\tremaining: 2.71s\n",
      "103:\tlearn: 0.4495615\ttotal: 313ms\tremaining: 2.7s\n",
      "104:\tlearn: 0.4485986\ttotal: 316ms\tremaining: 2.69s\n",
      "105:\tlearn: 0.4482863\ttotal: 318ms\tremaining: 2.68s\n",
      "106:\tlearn: 0.4479938\ttotal: 321ms\tremaining: 2.67s\n",
      "107:\tlearn: 0.4476302\ttotal: 323ms\tremaining: 2.67s\n",
      "108:\tlearn: 0.4471067\ttotal: 325ms\tremaining: 2.66s\n",
      "109:\tlearn: 0.4463404\ttotal: 328ms\tremaining: 2.65s\n",
      "110:\tlearn: 0.4458498\ttotal: 330ms\tremaining: 2.64s\n",
      "111:\tlearn: 0.4453590\ttotal: 332ms\tremaining: 2.64s\n",
      "112:\tlearn: 0.4446911\ttotal: 335ms\tremaining: 2.63s\n",
      "113:\tlearn: 0.4440785\ttotal: 337ms\tremaining: 2.62s\n",
      "114:\tlearn: 0.4437029\ttotal: 340ms\tremaining: 2.62s\n",
      "115:\tlearn: 0.4430227\ttotal: 342ms\tremaining: 2.61s\n",
      "116:\tlearn: 0.4427820\ttotal: 345ms\tremaining: 2.6s\n",
      "117:\tlearn: 0.4420231\ttotal: 347ms\tremaining: 2.6s\n",
      "118:\tlearn: 0.4414537\ttotal: 350ms\tremaining: 2.59s\n",
      "119:\tlearn: 0.4409626\ttotal: 353ms\tremaining: 2.59s\n",
      "120:\tlearn: 0.4404571\ttotal: 356ms\tremaining: 2.58s\n",
      "121:\tlearn: 0.4399872\ttotal: 358ms\tremaining: 2.58s\n",
      "122:\tlearn: 0.4393474\ttotal: 360ms\tremaining: 2.57s\n",
      "123:\tlearn: 0.4390431\ttotal: 363ms\tremaining: 2.56s\n",
      "124:\tlearn: 0.4387047\ttotal: 365ms\tremaining: 2.55s\n",
      "125:\tlearn: 0.4384857\ttotal: 367ms\tremaining: 2.55s\n",
      "126:\tlearn: 0.4379088\ttotal: 370ms\tremaining: 2.54s\n",
      "127:\tlearn: 0.4373357\ttotal: 372ms\tremaining: 2.54s\n",
      "128:\tlearn: 0.4368707\ttotal: 375ms\tremaining: 2.53s\n",
      "129:\tlearn: 0.4364923\ttotal: 377ms\tremaining: 2.52s\n",
      "130:\tlearn: 0.4358695\ttotal: 379ms\tremaining: 2.52s\n",
      "131:\tlearn: 0.4354916\ttotal: 382ms\tremaining: 2.51s\n",
      "132:\tlearn: 0.4349252\ttotal: 384ms\tremaining: 2.5s\n"
     ]
    },
    {
     "name": "stdout",
     "output_type": "stream",
     "text": [
      "133:\tlearn: 0.4341281\ttotal: 387ms\tremaining: 2.5s\n",
      "134:\tlearn: 0.4337239\ttotal: 390ms\tremaining: 2.5s\n",
      "135:\tlearn: 0.4333441\ttotal: 392ms\tremaining: 2.49s\n",
      "136:\tlearn: 0.4330799\ttotal: 395ms\tremaining: 2.48s\n",
      "137:\tlearn: 0.4328101\ttotal: 397ms\tremaining: 2.48s\n",
      "138:\tlearn: 0.4322662\ttotal: 399ms\tremaining: 2.47s\n",
      "139:\tlearn: 0.4319077\ttotal: 401ms\tremaining: 2.46s\n",
      "140:\tlearn: 0.4314358\ttotal: 404ms\tremaining: 2.46s\n",
      "141:\tlearn: 0.4309014\ttotal: 407ms\tremaining: 2.46s\n",
      "142:\tlearn: 0.4303199\ttotal: 409ms\tremaining: 2.45s\n",
      "143:\tlearn: 0.4298171\ttotal: 411ms\tremaining: 2.44s\n",
      "144:\tlearn: 0.4294749\ttotal: 414ms\tremaining: 2.44s\n",
      "145:\tlearn: 0.4290340\ttotal: 416ms\tremaining: 2.43s\n",
      "146:\tlearn: 0.4285816\ttotal: 419ms\tremaining: 2.43s\n",
      "147:\tlearn: 0.4279416\ttotal: 421ms\tremaining: 2.42s\n",
      "148:\tlearn: 0.4276454\ttotal: 423ms\tremaining: 2.42s\n",
      "149:\tlearn: 0.4270142\ttotal: 426ms\tremaining: 2.41s\n",
      "150:\tlearn: 0.4266519\ttotal: 428ms\tremaining: 2.41s\n",
      "151:\tlearn: 0.4262508\ttotal: 430ms\tremaining: 2.4s\n",
      "152:\tlearn: 0.4253826\ttotal: 433ms\tremaining: 2.39s\n",
      "153:\tlearn: 0.4250762\ttotal: 435ms\tremaining: 2.39s\n",
      "154:\tlearn: 0.4246332\ttotal: 437ms\tremaining: 2.38s\n",
      "155:\tlearn: 0.4241707\ttotal: 439ms\tremaining: 2.38s\n",
      "156:\tlearn: 0.4235170\ttotal: 442ms\tremaining: 2.37s\n",
      "157:\tlearn: 0.4230799\ttotal: 444ms\tremaining: 2.37s\n",
      "158:\tlearn: 0.4227803\ttotal: 447ms\tremaining: 2.36s\n",
      "159:\tlearn: 0.4224482\ttotal: 449ms\tremaining: 2.36s\n"
     ]
    },
    {
     "name": "stdout",
     "output_type": "stream",
     "text": [
      "160:\tlearn: 0.4217338\ttotal: 452ms\tremaining: 2.35s\n",
      "161:\tlearn: 0.4214111\ttotal: 454ms\tremaining: 2.35s\n",
      "162:\tlearn: 0.4209615\ttotal: 457ms\tremaining: 2.35s\n",
      "163:\tlearn: 0.4204442\ttotal: 459ms\tremaining: 2.34s\n",
      "164:\tlearn: 0.4200139\ttotal: 462ms\tremaining: 2.34s\n",
      "165:\tlearn: 0.4191619\ttotal: 464ms\tremaining: 2.33s\n",
      "166:\tlearn: 0.4186388\ttotal: 466ms\tremaining: 2.33s\n",
      "167:\tlearn: 0.4182842\ttotal: 468ms\tremaining: 2.32s\n",
      "168:\tlearn: 0.4178249\ttotal: 471ms\tremaining: 2.31s\n",
      "169:\tlearn: 0.4175866\ttotal: 473ms\tremaining: 2.31s\n",
      "170:\tlearn: 0.4169310\ttotal: 475ms\tremaining: 2.3s\n",
      "171:\tlearn: 0.4164216\ttotal: 478ms\tremaining: 2.3s\n",
      "172:\tlearn: 0.4160009\ttotal: 480ms\tremaining: 2.29s\n",
      "173:\tlearn: 0.4155353\ttotal: 483ms\tremaining: 2.29s\n",
      "174:\tlearn: 0.4151038\ttotal: 485ms\tremaining: 2.29s\n",
      "175:\tlearn: 0.4148052\ttotal: 488ms\tremaining: 2.28s\n",
      "176:\tlearn: 0.4143256\ttotal: 490ms\tremaining: 2.28s\n",
      "177:\tlearn: 0.4140327\ttotal: 493ms\tremaining: 2.27s\n",
      "178:\tlearn: 0.4135204\ttotal: 495ms\tremaining: 2.27s\n"
     ]
    },
    {
     "name": "stdout",
     "output_type": "stream",
     "text": [
      "179:\tlearn: 0.4131831\ttotal: 498ms\tremaining: 2.27s\n",
      "180:\tlearn: 0.4126476\ttotal: 500ms\tremaining: 2.26s\n",
      "181:\tlearn: 0.4123193\ttotal: 503ms\tremaining: 2.26s\n",
      "182:\tlearn: 0.4119918\ttotal: 505ms\tremaining: 2.26s\n",
      "183:\tlearn: 0.4116463\ttotal: 508ms\tremaining: 2.25s\n",
      "184:\tlearn: 0.4112641\ttotal: 510ms\tremaining: 2.25s\n",
      "185:\tlearn: 0.4109241\ttotal: 512ms\tremaining: 2.24s\n",
      "186:\tlearn: 0.4105377\ttotal: 515ms\tremaining: 2.24s\n",
      "187:\tlearn: 0.4102916\ttotal: 518ms\tremaining: 2.24s\n",
      "188:\tlearn: 0.4098920\ttotal: 521ms\tremaining: 2.23s\n",
      "189:\tlearn: 0.4093796\ttotal: 523ms\tremaining: 2.23s\n",
      "190:\tlearn: 0.4090612\ttotal: 525ms\tremaining: 2.22s\n",
      "191:\tlearn: 0.4087115\ttotal: 528ms\tremaining: 2.22s\n",
      "192:\tlearn: 0.4083908\ttotal: 530ms\tremaining: 2.22s\n",
      "193:\tlearn: 0.4081341\ttotal: 533ms\tremaining: 2.21s\n",
      "194:\tlearn: 0.4078064\ttotal: 536ms\tremaining: 2.21s\n",
      "195:\tlearn: 0.4073301\ttotal: 538ms\tremaining: 2.21s\n",
      "196:\tlearn: 0.4069743\ttotal: 540ms\tremaining: 2.2s\n",
      "197:\tlearn: 0.4066265\ttotal: 542ms\tremaining: 2.2s\n",
      "198:\tlearn: 0.4062557\ttotal: 544ms\tremaining: 2.19s\n",
      "199:\tlearn: 0.4059330\ttotal: 546ms\tremaining: 2.19s\n",
      "200:\tlearn: 0.4055079\ttotal: 549ms\tremaining: 2.18s\n",
      "201:\tlearn: 0.4051718\ttotal: 551ms\tremaining: 2.18s\n",
      "202:\tlearn: 0.4048201\ttotal: 554ms\tremaining: 2.17s\n",
      "203:\tlearn: 0.4045670\ttotal: 556ms\tremaining: 2.17s\n",
      "204:\tlearn: 0.4041062\ttotal: 558ms\tremaining: 2.17s\n",
      "205:\tlearn: 0.4038576\ttotal: 561ms\tremaining: 2.16s\n",
      "206:\tlearn: 0.4033945\ttotal: 563ms\tremaining: 2.16s\n",
      "207:\tlearn: 0.4030294\ttotal: 565ms\tremaining: 2.15s\n",
      "208:\tlearn: 0.4026984\ttotal: 568ms\tremaining: 2.15s\n",
      "209:\tlearn: 0.4023970\ttotal: 570ms\tremaining: 2.14s\n",
      "210:\tlearn: 0.4018632\ttotal: 573ms\tremaining: 2.14s\n",
      "211:\tlearn: 0.4015770\ttotal: 575ms\tremaining: 2.14s\n",
      "212:\tlearn: 0.4012976\ttotal: 578ms\tremaining: 2.13s\n",
      "213:\tlearn: 0.4009957\ttotal: 581ms\tremaining: 2.13s\n"
     ]
    },
    {
     "name": "stdout",
     "output_type": "stream",
     "text": [
      "214:\tlearn: 0.4007342\ttotal: 583ms\tremaining: 2.13s\n",
      "215:\tlearn: 0.4004384\ttotal: 586ms\tremaining: 2.13s\n",
      "216:\tlearn: 0.4001791\ttotal: 588ms\tremaining: 2.12s\n",
      "217:\tlearn: 0.3998940\ttotal: 591ms\tremaining: 2.12s\n",
      "218:\tlearn: 0.3996233\ttotal: 593ms\tremaining: 2.11s\n",
      "219:\tlearn: 0.3991652\ttotal: 596ms\tremaining: 2.11s\n",
      "220:\tlearn: 0.3986757\ttotal: 598ms\tremaining: 2.11s\n",
      "221:\tlearn: 0.3983992\ttotal: 600ms\tremaining: 2.1s\n",
      "222:\tlearn: 0.3979693\ttotal: 603ms\tremaining: 2.1s\n",
      "223:\tlearn: 0.3976437\ttotal: 605ms\tremaining: 2.1s\n",
      "224:\tlearn: 0.3973380\ttotal: 608ms\tremaining: 2.09s\n",
      "225:\tlearn: 0.3969530\ttotal: 610ms\tremaining: 2.09s\n",
      "226:\tlearn: 0.3967206\ttotal: 612ms\tremaining: 2.08s\n",
      "227:\tlearn: 0.3963460\ttotal: 614ms\tremaining: 2.08s\n",
      "228:\tlearn: 0.3960330\ttotal: 617ms\tremaining: 2.08s\n",
      "229:\tlearn: 0.3958109\ttotal: 619ms\tremaining: 2.07s\n",
      "230:\tlearn: 0.3955706\ttotal: 622ms\tremaining: 2.07s\n",
      "231:\tlearn: 0.3950878\ttotal: 624ms\tremaining: 2.06s\n",
      "232:\tlearn: 0.3948449\ttotal: 626ms\tremaining: 2.06s\n",
      "233:\tlearn: 0.3946524\ttotal: 629ms\tremaining: 2.06s\n",
      "234:\tlearn: 0.3943732\ttotal: 631ms\tremaining: 2.05s\n",
      "235:\tlearn: 0.3940954\ttotal: 634ms\tremaining: 2.05s\n",
      "236:\tlearn: 0.3938559\ttotal: 637ms\tremaining: 2.05s\n",
      "237:\tlearn: 0.3935960\ttotal: 639ms\tremaining: 2.04s\n",
      "238:\tlearn: 0.3932285\ttotal: 641ms\tremaining: 2.04s\n",
      "239:\tlearn: 0.3929191\ttotal: 643ms\tremaining: 2.04s\n",
      "240:\tlearn: 0.3926937\ttotal: 646ms\tremaining: 2.03s\n"
     ]
    },
    {
     "name": "stdout",
     "output_type": "stream",
     "text": [
      "241:\tlearn: 0.3924523\ttotal: 649ms\tremaining: 2.03s\n",
      "242:\tlearn: 0.3918864\ttotal: 651ms\tremaining: 2.03s\n",
      "243:\tlearn: 0.3915739\ttotal: 653ms\tremaining: 2.02s\n",
      "244:\tlearn: 0.3913164\ttotal: 656ms\tremaining: 2.02s\n",
      "245:\tlearn: 0.3910994\ttotal: 658ms\tremaining: 2.02s\n",
      "246:\tlearn: 0.3909087\ttotal: 661ms\tremaining: 2.01s\n",
      "247:\tlearn: 0.3906529\ttotal: 663ms\tremaining: 2.01s\n",
      "248:\tlearn: 0.3904475\ttotal: 665ms\tremaining: 2.01s\n",
      "249:\tlearn: 0.3902082\ttotal: 668ms\tremaining: 2s\n",
      "250:\tlearn: 0.3899195\ttotal: 670ms\tremaining: 2s\n",
      "251:\tlearn: 0.3896684\ttotal: 672ms\tremaining: 2s\n",
      "252:\tlearn: 0.3892373\ttotal: 675ms\tremaining: 1.99s\n",
      "253:\tlearn: 0.3890671\ttotal: 678ms\tremaining: 1.99s\n",
      "254:\tlearn: 0.3888457\ttotal: 681ms\tremaining: 1.99s\n",
      "255:\tlearn: 0.3886430\ttotal: 684ms\tremaining: 1.99s\n",
      "256:\tlearn: 0.3883956\ttotal: 686ms\tremaining: 1.98s\n",
      "257:\tlearn: 0.3881181\ttotal: 689ms\tremaining: 1.98s\n",
      "258:\tlearn: 0.3878278\ttotal: 691ms\tremaining: 1.98s\n"
     ]
    },
    {
     "name": "stdout",
     "output_type": "stream",
     "text": [
      "259:\tlearn: 0.3876672\ttotal: 693ms\tremaining: 1.97s\n",
      "260:\tlearn: 0.3874419\ttotal: 696ms\tremaining: 1.97s\n",
      "261:\tlearn: 0.3872066\ttotal: 698ms\tremaining: 1.97s\n",
      "262:\tlearn: 0.3869738\ttotal: 701ms\tremaining: 1.96s\n",
      "263:\tlearn: 0.3867600\ttotal: 703ms\tremaining: 1.96s\n",
      "264:\tlearn: 0.3864388\ttotal: 706ms\tremaining: 1.96s\n",
      "265:\tlearn: 0.3861847\ttotal: 709ms\tremaining: 1.96s\n",
      "266:\tlearn: 0.3859670\ttotal: 711ms\tremaining: 1.95s\n",
      "267:\tlearn: 0.3857579\ttotal: 714ms\tremaining: 1.95s\n",
      "268:\tlearn: 0.3855277\ttotal: 716ms\tremaining: 1.95s\n",
      "269:\tlearn: 0.3852867\ttotal: 718ms\tremaining: 1.94s\n",
      "270:\tlearn: 0.3850374\ttotal: 721ms\tremaining: 1.94s\n",
      "271:\tlearn: 0.3848559\ttotal: 723ms\tremaining: 1.94s\n",
      "272:\tlearn: 0.3845354\ttotal: 726ms\tremaining: 1.93s\n",
      "273:\tlearn: 0.3843422\ttotal: 728ms\tremaining: 1.93s\n",
      "274:\tlearn: 0.3840945\ttotal: 731ms\tremaining: 1.93s\n",
      "275:\tlearn: 0.3838440\ttotal: 733ms\tremaining: 1.92s\n",
      "276:\tlearn: 0.3836944\ttotal: 735ms\tremaining: 1.92s\n",
      "277:\tlearn: 0.3834270\ttotal: 738ms\tremaining: 1.92s\n",
      "278:\tlearn: 0.3832463\ttotal: 740ms\tremaining: 1.91s\n",
      "279:\tlearn: 0.3830165\ttotal: 742ms\tremaining: 1.91s\n",
      "280:\tlearn: 0.3827905\ttotal: 744ms\tremaining: 1.9s\n",
      "281:\tlearn: 0.3826456\ttotal: 747ms\tremaining: 1.9s\n",
      "282:\tlearn: 0.3823951\ttotal: 749ms\tremaining: 1.9s\n",
      "283:\tlearn: 0.3819324\ttotal: 752ms\tremaining: 1.9s\n",
      "284:\tlearn: 0.3816923\ttotal: 754ms\tremaining: 1.89s\n",
      "285:\tlearn: 0.3814259\ttotal: 757ms\tremaining: 1.89s\n",
      "286:\tlearn: 0.3812126\ttotal: 759ms\tremaining: 1.89s\n",
      "287:\tlearn: 0.3808566\ttotal: 762ms\tremaining: 1.88s\n",
      "288:\tlearn: 0.3805957\ttotal: 764ms\tremaining: 1.88s\n",
      "289:\tlearn: 0.3803299\ttotal: 766ms\tremaining: 1.88s\n",
      "290:\tlearn: 0.3802248\ttotal: 769ms\tremaining: 1.87s\n",
      "291:\tlearn: 0.3800208\ttotal: 772ms\tremaining: 1.87s\n",
      "292:\tlearn: 0.3798043\ttotal: 774ms\tremaining: 1.87s\n",
      "293:\tlearn: 0.3796060\ttotal: 777ms\tremaining: 1.86s\n"
     ]
    },
    {
     "name": "stdout",
     "output_type": "stream",
     "text": [
      "294:\tlearn: 0.3794314\ttotal: 779ms\tremaining: 1.86s\n",
      "295:\tlearn: 0.3792186\ttotal: 782ms\tremaining: 1.86s\n",
      "296:\tlearn: 0.3789776\ttotal: 784ms\tremaining: 1.86s\n",
      "297:\tlearn: 0.3788321\ttotal: 787ms\tremaining: 1.85s\n",
      "298:\tlearn: 0.3784303\ttotal: 789ms\tremaining: 1.85s\n",
      "299:\tlearn: 0.3781800\ttotal: 792ms\tremaining: 1.85s\n",
      "300:\tlearn: 0.3779344\ttotal: 794ms\tremaining: 1.84s\n",
      "301:\tlearn: 0.3777191\ttotal: 797ms\tremaining: 1.84s\n",
      "302:\tlearn: 0.3774929\ttotal: 799ms\tremaining: 1.84s\n",
      "303:\tlearn: 0.3772718\ttotal: 802ms\tremaining: 1.83s\n",
      "304:\tlearn: 0.3771048\ttotal: 805ms\tremaining: 1.83s\n",
      "305:\tlearn: 0.3768175\ttotal: 807ms\tremaining: 1.83s\n",
      "306:\tlearn: 0.3766725\ttotal: 809ms\tremaining: 1.83s\n",
      "307:\tlearn: 0.3764903\ttotal: 812ms\tremaining: 1.82s\n",
      "308:\tlearn: 0.3763049\ttotal: 815ms\tremaining: 1.82s\n",
      "309:\tlearn: 0.3761221\ttotal: 817ms\tremaining: 1.82s\n",
      "310:\tlearn: 0.3759250\ttotal: 820ms\tremaining: 1.81s\n",
      "311:\tlearn: 0.3757182\ttotal: 822ms\tremaining: 1.81s\n",
      "312:\tlearn: 0.3755442\ttotal: 825ms\tremaining: 1.81s\n",
      "313:\tlearn: 0.3753407\ttotal: 827ms\tremaining: 1.81s\n",
      "314:\tlearn: 0.3750988\ttotal: 830ms\tremaining: 1.8s\n",
      "315:\tlearn: 0.3748680\ttotal: 832ms\tremaining: 1.8s\n",
      "316:\tlearn: 0.3746956\ttotal: 834ms\tremaining: 1.8s\n",
      "317:\tlearn: 0.3745199\ttotal: 837ms\tremaining: 1.79s\n",
      "318:\tlearn: 0.3744310\ttotal: 839ms\tremaining: 1.79s\n",
      "319:\tlearn: 0.3742642\ttotal: 842ms\tremaining: 1.79s\n"
     ]
    },
    {
     "name": "stdout",
     "output_type": "stream",
     "text": [
      "320:\tlearn: 0.3740612\ttotal: 845ms\tremaining: 1.79s\n",
      "321:\tlearn: 0.3738489\ttotal: 847ms\tremaining: 1.78s\n",
      "322:\tlearn: 0.3736681\ttotal: 849ms\tremaining: 1.78s\n",
      "323:\tlearn: 0.3734701\ttotal: 852ms\tremaining: 1.78s\n",
      "324:\tlearn: 0.3732959\ttotal: 854ms\tremaining: 1.77s\n",
      "325:\tlearn: 0.3730359\ttotal: 857ms\tremaining: 1.77s\n",
      "326:\tlearn: 0.3728353\ttotal: 860ms\tremaining: 1.77s\n",
      "327:\tlearn: 0.3726389\ttotal: 862ms\tremaining: 1.77s\n",
      "328:\tlearn: 0.3724525\ttotal: 865ms\tremaining: 1.76s\n",
      "329:\tlearn: 0.3722812\ttotal: 867ms\tremaining: 1.76s\n",
      "330:\tlearn: 0.3721028\ttotal: 870ms\tremaining: 1.76s\n",
      "331:\tlearn: 0.3720034\ttotal: 872ms\tremaining: 1.75s\n",
      "332:\tlearn: 0.3717973\ttotal: 875ms\tremaining: 1.75s\n",
      "333:\tlearn: 0.3716425\ttotal: 878ms\tremaining: 1.75s\n",
      "334:\tlearn: 0.3714205\ttotal: 881ms\tremaining: 1.75s\n",
      "335:\tlearn: 0.3710524\ttotal: 885ms\tremaining: 1.75s\n"
     ]
    },
    {
     "name": "stdout",
     "output_type": "stream",
     "text": [
      "336:\tlearn: 0.3709176\ttotal: 888ms\tremaining: 1.75s\n",
      "337:\tlearn: 0.3707390\ttotal: 890ms\tremaining: 1.74s\n",
      "338:\tlearn: 0.3705400\ttotal: 893ms\tremaining: 1.74s\n",
      "339:\tlearn: 0.3701949\ttotal: 895ms\tremaining: 1.74s\n",
      "340:\tlearn: 0.3699601\ttotal: 898ms\tremaining: 1.73s\n",
      "341:\tlearn: 0.3697963\ttotal: 901ms\tremaining: 1.73s\n",
      "342:\tlearn: 0.3695664\ttotal: 903ms\tremaining: 1.73s\n",
      "343:\tlearn: 0.3693789\ttotal: 906ms\tremaining: 1.73s\n",
      "344:\tlearn: 0.3691893\ttotal: 908ms\tremaining: 1.72s\n",
      "345:\tlearn: 0.3689904\ttotal: 911ms\tremaining: 1.72s\n",
      "346:\tlearn: 0.3688242\ttotal: 914ms\tremaining: 1.72s\n",
      "347:\tlearn: 0.3686622\ttotal: 916ms\tremaining: 1.72s\n",
      "348:\tlearn: 0.3684781\ttotal: 919ms\tremaining: 1.71s\n",
      "349:\tlearn: 0.3681184\ttotal: 921ms\tremaining: 1.71s\n",
      "350:\tlearn: 0.3679184\ttotal: 924ms\tremaining: 1.71s\n",
      "351:\tlearn: 0.3675871\ttotal: 926ms\tremaining: 1.7s\n",
      "352:\tlearn: 0.3674286\ttotal: 929ms\tremaining: 1.7s\n",
      "353:\tlearn: 0.3673123\ttotal: 931ms\tremaining: 1.7s\n",
      "354:\tlearn: 0.3672252\ttotal: 934ms\tremaining: 1.7s\n",
      "355:\tlearn: 0.3670881\ttotal: 937ms\tremaining: 1.69s\n",
      "356:\tlearn: 0.3669225\ttotal: 940ms\tremaining: 1.69s\n",
      "357:\tlearn: 0.3667503\ttotal: 942ms\tremaining: 1.69s\n",
      "358:\tlearn: 0.3665185\ttotal: 945ms\tremaining: 1.69s\n",
      "359:\tlearn: 0.3662157\ttotal: 947ms\tremaining: 1.68s\n",
      "360:\tlearn: 0.3660281\ttotal: 950ms\tremaining: 1.68s\n",
      "361:\tlearn: 0.3659106\ttotal: 953ms\tremaining: 1.68s\n",
      "362:\tlearn: 0.3657280\ttotal: 956ms\tremaining: 1.68s\n",
      "363:\tlearn: 0.3654310\ttotal: 958ms\tremaining: 1.67s\n",
      "364:\tlearn: 0.3651102\ttotal: 961ms\tremaining: 1.67s\n",
      "365:\tlearn: 0.3647328\ttotal: 963ms\tremaining: 1.67s\n",
      "366:\tlearn: 0.3645383\ttotal: 966ms\tremaining: 1.67s\n",
      "367:\tlearn: 0.3643930\ttotal: 969ms\tremaining: 1.66s\n",
      "368:\tlearn: 0.3642279\ttotal: 971ms\tremaining: 1.66s\n"
     ]
    },
    {
     "name": "stdout",
     "output_type": "stream",
     "text": [
      "369:\tlearn: 0.3640410\ttotal: 973ms\tremaining: 1.66s\n",
      "370:\tlearn: 0.3638749\ttotal: 976ms\tremaining: 1.66s\n",
      "371:\tlearn: 0.3636905\ttotal: 979ms\tremaining: 1.65s\n",
      "372:\tlearn: 0.3635138\ttotal: 981ms\tremaining: 1.65s\n",
      "373:\tlearn: 0.3632663\ttotal: 984ms\tremaining: 1.65s\n",
      "374:\tlearn: 0.3630755\ttotal: 986ms\tremaining: 1.64s\n",
      "375:\tlearn: 0.3627090\ttotal: 989ms\tremaining: 1.64s\n",
      "376:\tlearn: 0.3625198\ttotal: 991ms\tremaining: 1.64s\n",
      "377:\tlearn: 0.3623055\ttotal: 993ms\tremaining: 1.63s\n",
      "378:\tlearn: 0.3620953\ttotal: 996ms\tremaining: 1.63s\n",
      "379:\tlearn: 0.3619018\ttotal: 999ms\tremaining: 1.63s\n",
      "380:\tlearn: 0.3616875\ttotal: 1s\tremaining: 1.63s\n",
      "381:\tlearn: 0.3615201\ttotal: 1s\tremaining: 1.62s\n",
      "382:\tlearn: 0.3613383\ttotal: 1s\tremaining: 1.62s\n",
      "383:\tlearn: 0.3612007\ttotal: 1.01s\tremaining: 1.62s\n",
      "384:\tlearn: 0.3610927\ttotal: 1.01s\tremaining: 1.61s\n",
      "385:\tlearn: 0.3609275\ttotal: 1.01s\tremaining: 1.61s\n",
      "386:\tlearn: 0.3608259\ttotal: 1.01s\tremaining: 1.61s\n",
      "387:\tlearn: 0.3606674\ttotal: 1.02s\tremaining: 1.6s\n",
      "388:\tlearn: 0.3605546\ttotal: 1.02s\tremaining: 1.6s\n",
      "389:\tlearn: 0.3604058\ttotal: 1.02s\tremaining: 1.6s\n",
      "390:\tlearn: 0.3602463\ttotal: 1.02s\tremaining: 1.6s\n",
      "391:\tlearn: 0.3601080\ttotal: 1.03s\tremaining: 1.59s\n",
      "392:\tlearn: 0.3599447\ttotal: 1.03s\tremaining: 1.59s\n",
      "393:\tlearn: 0.3598400\ttotal: 1.03s\tremaining: 1.59s\n",
      "394:\tlearn: 0.3596493\ttotal: 1.03s\tremaining: 1.59s\n"
     ]
    },
    {
     "name": "stdout",
     "output_type": "stream",
     "text": [
      "395:\tlearn: 0.3594733\ttotal: 1.04s\tremaining: 1.58s\n",
      "396:\tlearn: 0.3593366\ttotal: 1.04s\tremaining: 1.58s\n",
      "397:\tlearn: 0.3591082\ttotal: 1.04s\tremaining: 1.58s\n",
      "398:\tlearn: 0.3590158\ttotal: 1.05s\tremaining: 1.58s\n",
      "399:\tlearn: 0.3589214\ttotal: 1.05s\tremaining: 1.57s\n",
      "400:\tlearn: 0.3587232\ttotal: 1.05s\tremaining: 1.57s\n",
      "401:\tlearn: 0.3585629\ttotal: 1.05s\tremaining: 1.57s\n",
      "402:\tlearn: 0.3584668\ttotal: 1.06s\tremaining: 1.56s\n",
      "403:\tlearn: 0.3582976\ttotal: 1.06s\tremaining: 1.56s\n",
      "404:\tlearn: 0.3581534\ttotal: 1.06s\tremaining: 1.56s\n",
      "405:\tlearn: 0.3580593\ttotal: 1.06s\tremaining: 1.55s\n",
      "406:\tlearn: 0.3579427\ttotal: 1.06s\tremaining: 1.55s\n",
      "407:\tlearn: 0.3578621\ttotal: 1.07s\tremaining: 1.55s\n",
      "408:\tlearn: 0.3576916\ttotal: 1.07s\tremaining: 1.55s\n",
      "409:\tlearn: 0.3575289\ttotal: 1.07s\tremaining: 1.54s\n",
      "410:\tlearn: 0.3573729\ttotal: 1.07s\tremaining: 1.54s\n",
      "411:\tlearn: 0.3572867\ttotal: 1.08s\tremaining: 1.54s\n",
      "412:\tlearn: 0.3571566\ttotal: 1.08s\tremaining: 1.53s\n"
     ]
    },
    {
     "name": "stdout",
     "output_type": "stream",
     "text": [
      "413:\tlearn: 0.3569797\ttotal: 1.08s\tremaining: 1.53s\n",
      "414:\tlearn: 0.3568189\ttotal: 1.08s\tremaining: 1.53s\n",
      "415:\tlearn: 0.3566631\ttotal: 1.09s\tremaining: 1.53s\n",
      "416:\tlearn: 0.3564788\ttotal: 1.09s\tremaining: 1.52s\n",
      "417:\tlearn: 0.3563391\ttotal: 1.09s\tremaining: 1.52s\n",
      "418:\tlearn: 0.3561596\ttotal: 1.09s\tremaining: 1.52s\n",
      "419:\tlearn: 0.3560254\ttotal: 1.1s\tremaining: 1.52s\n",
      "420:\tlearn: 0.3558861\ttotal: 1.1s\tremaining: 1.51s\n",
      "421:\tlearn: 0.3557152\ttotal: 1.1s\tremaining: 1.51s\n",
      "422:\tlearn: 0.3555927\ttotal: 1.1s\tremaining: 1.51s\n",
      "423:\tlearn: 0.3554555\ttotal: 1.11s\tremaining: 1.5s\n",
      "424:\tlearn: 0.3552328\ttotal: 1.11s\tremaining: 1.5s\n",
      "425:\tlearn: 0.3550707\ttotal: 1.11s\tremaining: 1.5s\n",
      "426:\tlearn: 0.3548904\ttotal: 1.11s\tremaining: 1.5s\n",
      "427:\tlearn: 0.3547665\ttotal: 1.12s\tremaining: 1.49s\n",
      "428:\tlearn: 0.3546071\ttotal: 1.12s\tremaining: 1.49s\n",
      "429:\tlearn: 0.3544264\ttotal: 1.12s\tremaining: 1.49s\n",
      "430:\tlearn: 0.3542297\ttotal: 1.12s\tremaining: 1.48s\n",
      "431:\tlearn: 0.3540949\ttotal: 1.13s\tremaining: 1.48s\n",
      "432:\tlearn: 0.3540313\ttotal: 1.13s\tremaining: 1.48s\n",
      "433:\tlearn: 0.3538689\ttotal: 1.13s\tremaining: 1.48s\n",
      "434:\tlearn: 0.3538028\ttotal: 1.13s\tremaining: 1.47s\n",
      "435:\tlearn: 0.3535890\ttotal: 1.14s\tremaining: 1.47s\n",
      "436:\tlearn: 0.3534606\ttotal: 1.14s\tremaining: 1.47s\n",
      "437:\tlearn: 0.3533671\ttotal: 1.14s\tremaining: 1.46s\n",
      "438:\tlearn: 0.3531899\ttotal: 1.14s\tremaining: 1.46s\n",
      "439:\tlearn: 0.3530584\ttotal: 1.15s\tremaining: 1.46s\n",
      "440:\tlearn: 0.3529176\ttotal: 1.15s\tremaining: 1.45s\n",
      "441:\tlearn: 0.3528065\ttotal: 1.15s\tremaining: 1.45s\n",
      "442:\tlearn: 0.3527565\ttotal: 1.15s\tremaining: 1.45s\n",
      "443:\tlearn: 0.3526398\ttotal: 1.15s\tremaining: 1.45s\n",
      "444:\tlearn: 0.3524601\ttotal: 1.16s\tremaining: 1.44s\n",
      "445:\tlearn: 0.3522166\ttotal: 1.16s\tremaining: 1.44s\n",
      "446:\tlearn: 0.3520589\ttotal: 1.16s\tremaining: 1.44s\n",
      "447:\tlearn: 0.3519468\ttotal: 1.17s\tremaining: 1.44s\n",
      "448:\tlearn: 0.3517909\ttotal: 1.17s\tremaining: 1.43s\n"
     ]
    },
    {
     "name": "stdout",
     "output_type": "stream",
     "text": [
      "449:\tlearn: 0.3515729\ttotal: 1.17s\tremaining: 1.43s\n",
      "450:\tlearn: 0.3514577\ttotal: 1.17s\tremaining: 1.43s\n",
      "451:\tlearn: 0.3513267\ttotal: 1.18s\tremaining: 1.42s\n",
      "452:\tlearn: 0.3511688\ttotal: 1.18s\tremaining: 1.42s\n",
      "453:\tlearn: 0.3509861\ttotal: 1.18s\tremaining: 1.42s\n",
      "454:\tlearn: 0.3508523\ttotal: 1.18s\tremaining: 1.42s\n",
      "455:\tlearn: 0.3507776\ttotal: 1.19s\tremaining: 1.41s\n",
      "456:\tlearn: 0.3506119\ttotal: 1.19s\tremaining: 1.41s\n",
      "457:\tlearn: 0.3503223\ttotal: 1.19s\tremaining: 1.41s\n",
      "458:\tlearn: 0.3501935\ttotal: 1.19s\tremaining: 1.41s\n",
      "459:\tlearn: 0.3500394\ttotal: 1.2s\tremaining: 1.4s\n",
      "460:\tlearn: 0.3498703\ttotal: 1.2s\tremaining: 1.4s\n",
      "461:\tlearn: 0.3496217\ttotal: 1.2s\tremaining: 1.4s\n",
      "462:\tlearn: 0.3495188\ttotal: 1.2s\tremaining: 1.39s\n",
      "463:\tlearn: 0.3494104\ttotal: 1.2s\tremaining: 1.39s\n",
      "464:\tlearn: 0.3492984\ttotal: 1.21s\tremaining: 1.39s\n",
      "465:\tlearn: 0.3491925\ttotal: 1.21s\tremaining: 1.39s\n",
      "466:\tlearn: 0.3491153\ttotal: 1.21s\tremaining: 1.38s\n",
      "467:\tlearn: 0.3489903\ttotal: 1.21s\tremaining: 1.38s\n",
      "468:\tlearn: 0.3489108\ttotal: 1.22s\tremaining: 1.38s\n",
      "469:\tlearn: 0.3486949\ttotal: 1.22s\tremaining: 1.38s\n",
      "470:\tlearn: 0.3485598\ttotal: 1.22s\tremaining: 1.37s\n",
      "471:\tlearn: 0.3484449\ttotal: 1.22s\tremaining: 1.37s\n",
      "472:\tlearn: 0.3483160\ttotal: 1.23s\tremaining: 1.37s\n",
      "473:\tlearn: 0.3482325\ttotal: 1.23s\tremaining: 1.36s\n",
      "474:\tlearn: 0.3481400\ttotal: 1.23s\tremaining: 1.36s\n"
     ]
    },
    {
     "name": "stdout",
     "output_type": "stream",
     "text": [
      "475:\tlearn: 0.3480459\ttotal: 1.23s\tremaining: 1.36s\n",
      "476:\tlearn: 0.3478599\ttotal: 1.24s\tremaining: 1.36s\n",
      "477:\tlearn: 0.3476538\ttotal: 1.24s\tremaining: 1.35s\n",
      "478:\tlearn: 0.3474989\ttotal: 1.24s\tremaining: 1.35s\n",
      "479:\tlearn: 0.3473927\ttotal: 1.24s\tremaining: 1.35s\n",
      "480:\tlearn: 0.3472494\ttotal: 1.25s\tremaining: 1.34s\n",
      "481:\tlearn: 0.3471842\ttotal: 1.25s\tremaining: 1.34s\n",
      "482:\tlearn: 0.3469618\ttotal: 1.25s\tremaining: 1.34s\n",
      "483:\tlearn: 0.3468361\ttotal: 1.25s\tremaining: 1.34s\n",
      "484:\tlearn: 0.3467277\ttotal: 1.26s\tremaining: 1.33s\n",
      "485:\tlearn: 0.3464722\ttotal: 1.26s\tremaining: 1.33s\n",
      "486:\tlearn: 0.3463355\ttotal: 1.26s\tremaining: 1.33s\n",
      "487:\tlearn: 0.3462484\ttotal: 1.26s\tremaining: 1.33s\n",
      "488:\tlearn: 0.3461757\ttotal: 1.27s\tremaining: 1.32s\n",
      "489:\tlearn: 0.3460223\ttotal: 1.27s\tremaining: 1.32s\n",
      "490:\tlearn: 0.3458999\ttotal: 1.27s\tremaining: 1.32s\n",
      "491:\tlearn: 0.3457388\ttotal: 1.27s\tremaining: 1.31s\n",
      "492:\tlearn: 0.3455754\ttotal: 1.27s\tremaining: 1.31s\n"
     ]
    },
    {
     "name": "stdout",
     "output_type": "stream",
     "text": [
      "493:\tlearn: 0.3453263\ttotal: 1.28s\tremaining: 1.31s\n",
      "494:\tlearn: 0.3452040\ttotal: 1.28s\tremaining: 1.31s\n",
      "495:\tlearn: 0.3450602\ttotal: 1.28s\tremaining: 1.3s\n",
      "496:\tlearn: 0.3449234\ttotal: 1.28s\tremaining: 1.3s\n",
      "497:\tlearn: 0.3448231\ttotal: 1.29s\tremaining: 1.3s\n",
      "498:\tlearn: 0.3446658\ttotal: 1.29s\tremaining: 1.29s\n",
      "499:\tlearn: 0.3445592\ttotal: 1.29s\tremaining: 1.29s\n",
      "500:\tlearn: 0.3444100\ttotal: 1.29s\tremaining: 1.29s\n",
      "501:\tlearn: 0.3443268\ttotal: 1.3s\tremaining: 1.29s\n",
      "502:\tlearn: 0.3441346\ttotal: 1.3s\tremaining: 1.28s\n",
      "503:\tlearn: 0.3440415\ttotal: 1.3s\tremaining: 1.28s\n",
      "504:\tlearn: 0.3439136\ttotal: 1.3s\tremaining: 1.28s\n",
      "505:\tlearn: 0.3436933\ttotal: 1.31s\tremaining: 1.28s\n",
      "506:\tlearn: 0.3435355\ttotal: 1.31s\tremaining: 1.27s\n",
      "507:\tlearn: 0.3433075\ttotal: 1.31s\tremaining: 1.27s\n",
      "508:\tlearn: 0.3432418\ttotal: 1.31s\tremaining: 1.27s\n",
      "509:\tlearn: 0.3430874\ttotal: 1.32s\tremaining: 1.26s\n",
      "510:\tlearn: 0.3428151\ttotal: 1.32s\tremaining: 1.26s\n",
      "511:\tlearn: 0.3426721\ttotal: 1.32s\tremaining: 1.26s\n",
      "512:\tlearn: 0.3425352\ttotal: 1.32s\tremaining: 1.26s\n",
      "513:\tlearn: 0.3424552\ttotal: 1.33s\tremaining: 1.25s\n",
      "514:\tlearn: 0.3423085\ttotal: 1.33s\tremaining: 1.25s\n",
      "515:\tlearn: 0.3422044\ttotal: 1.33s\tremaining: 1.25s\n",
      "516:\tlearn: 0.3420226\ttotal: 1.33s\tremaining: 1.25s\n",
      "517:\tlearn: 0.3419088\ttotal: 1.33s\tremaining: 1.24s\n",
      "518:\tlearn: 0.3416713\ttotal: 1.34s\tremaining: 1.24s\n",
      "519:\tlearn: 0.3415169\ttotal: 1.34s\tremaining: 1.24s\n",
      "520:\tlearn: 0.3413211\ttotal: 1.34s\tremaining: 1.23s\n",
      "521:\tlearn: 0.3411561\ttotal: 1.34s\tremaining: 1.23s\n",
      "522:\tlearn: 0.3409848\ttotal: 1.35s\tremaining: 1.23s\n",
      "523:\tlearn: 0.3408308\ttotal: 1.35s\tremaining: 1.23s\n",
      "524:\tlearn: 0.3407306\ttotal: 1.35s\tremaining: 1.22s\n",
      "525:\tlearn: 0.3405253\ttotal: 1.35s\tremaining: 1.22s\n",
      "526:\tlearn: 0.3403949\ttotal: 1.36s\tremaining: 1.22s\n",
      "527:\tlearn: 0.3402573\ttotal: 1.36s\tremaining: 1.22s\n",
      "528:\tlearn: 0.3401018\ttotal: 1.36s\tremaining: 1.21s\n"
     ]
    },
    {
     "name": "stdout",
     "output_type": "stream",
     "text": [
      "529:\tlearn: 0.3399760\ttotal: 1.36s\tremaining: 1.21s\n",
      "530:\tlearn: 0.3398272\ttotal: 1.37s\tremaining: 1.21s\n",
      "531:\tlearn: 0.3396967\ttotal: 1.37s\tremaining: 1.21s\n",
      "532:\tlearn: 0.3395773\ttotal: 1.37s\tremaining: 1.2s\n",
      "533:\tlearn: 0.3393874\ttotal: 1.37s\tremaining: 1.2s\n",
      "534:\tlearn: 0.3392528\ttotal: 1.38s\tremaining: 1.2s\n",
      "535:\tlearn: 0.3391214\ttotal: 1.38s\tremaining: 1.19s\n",
      "536:\tlearn: 0.3390646\ttotal: 1.38s\tremaining: 1.19s\n",
      "537:\tlearn: 0.3390131\ttotal: 1.38s\tremaining: 1.19s\n",
      "538:\tlearn: 0.3388121\ttotal: 1.39s\tremaining: 1.19s\n",
      "539:\tlearn: 0.3387111\ttotal: 1.39s\tremaining: 1.18s\n",
      "540:\tlearn: 0.3385707\ttotal: 1.39s\tremaining: 1.18s\n",
      "541:\tlearn: 0.3384288\ttotal: 1.39s\tremaining: 1.18s\n",
      "542:\tlearn: 0.3383621\ttotal: 1.4s\tremaining: 1.18s\n",
      "543:\tlearn: 0.3382379\ttotal: 1.4s\tremaining: 1.17s\n",
      "544:\tlearn: 0.3381026\ttotal: 1.4s\tremaining: 1.17s\n",
      "545:\tlearn: 0.3379824\ttotal: 1.4s\tremaining: 1.17s\n",
      "546:\tlearn: 0.3378683\ttotal: 1.41s\tremaining: 1.17s\n",
      "547:\tlearn: 0.3377062\ttotal: 1.41s\tremaining: 1.16s\n",
      "548:\tlearn: 0.3375857\ttotal: 1.41s\tremaining: 1.16s\n",
      "549:\tlearn: 0.3373951\ttotal: 1.42s\tremaining: 1.16s\n",
      "550:\tlearn: 0.3372970\ttotal: 1.42s\tremaining: 1.16s\n",
      "551:\tlearn: 0.3372097\ttotal: 1.42s\tremaining: 1.15s\n",
      "552:\tlearn: 0.3371212\ttotal: 1.42s\tremaining: 1.15s\n",
      "553:\tlearn: 0.3369975\ttotal: 1.43s\tremaining: 1.15s\n",
      "554:\tlearn: 0.3368798\ttotal: 1.43s\tremaining: 1.14s\n"
     ]
    },
    {
     "name": "stdout",
     "output_type": "stream",
     "text": [
      "555:\tlearn: 0.3367623\ttotal: 1.43s\tremaining: 1.14s\n",
      "556:\tlearn: 0.3365790\ttotal: 1.43s\tremaining: 1.14s\n",
      "557:\tlearn: 0.3364938\ttotal: 1.43s\tremaining: 1.14s\n",
      "558:\tlearn: 0.3363536\ttotal: 1.44s\tremaining: 1.13s\n",
      "559:\tlearn: 0.3362424\ttotal: 1.44s\tremaining: 1.13s\n",
      "560:\tlearn: 0.3361345\ttotal: 1.44s\tremaining: 1.13s\n",
      "561:\tlearn: 0.3360302\ttotal: 1.44s\tremaining: 1.13s\n",
      "562:\tlearn: 0.3358770\ttotal: 1.45s\tremaining: 1.12s\n",
      "563:\tlearn: 0.3357294\ttotal: 1.45s\tremaining: 1.12s\n",
      "564:\tlearn: 0.3356275\ttotal: 1.45s\tremaining: 1.12s\n",
      "565:\tlearn: 0.3354744\ttotal: 1.45s\tremaining: 1.11s\n",
      "566:\tlearn: 0.3353893\ttotal: 1.46s\tremaining: 1.11s\n",
      "567:\tlearn: 0.3352367\ttotal: 1.46s\tremaining: 1.11s\n",
      "568:\tlearn: 0.3350320\ttotal: 1.46s\tremaining: 1.11s\n",
      "569:\tlearn: 0.3349098\ttotal: 1.47s\tremaining: 1.1s\n",
      "570:\tlearn: 0.3348474\ttotal: 1.47s\tremaining: 1.1s\n",
      "571:\tlearn: 0.3347015\ttotal: 1.47s\tremaining: 1.1s\n",
      "572:\tlearn: 0.3345440\ttotal: 1.47s\tremaining: 1.1s\n"
     ]
    },
    {
     "name": "stdout",
     "output_type": "stream",
     "text": [
      "573:\tlearn: 0.3343908\ttotal: 1.48s\tremaining: 1.09s\n",
      "574:\tlearn: 0.3342359\ttotal: 1.48s\tremaining: 1.09s\n",
      "575:\tlearn: 0.3341359\ttotal: 1.48s\tremaining: 1.09s\n",
      "576:\tlearn: 0.3340320\ttotal: 1.48s\tremaining: 1.09s\n",
      "577:\tlearn: 0.3339156\ttotal: 1.49s\tremaining: 1.08s\n",
      "578:\tlearn: 0.3337448\ttotal: 1.49s\tremaining: 1.08s\n",
      "579:\tlearn: 0.3336510\ttotal: 1.49s\tremaining: 1.08s\n",
      "580:\tlearn: 0.3335617\ttotal: 1.49s\tremaining: 1.08s\n",
      "581:\tlearn: 0.3334552\ttotal: 1.49s\tremaining: 1.07s\n",
      "582:\tlearn: 0.3333656\ttotal: 1.5s\tremaining: 1.07s\n",
      "583:\tlearn: 0.3333070\ttotal: 1.5s\tremaining: 1.07s\n",
      "584:\tlearn: 0.3331408\ttotal: 1.5s\tremaining: 1.06s\n",
      "585:\tlearn: 0.3330798\ttotal: 1.5s\tremaining: 1.06s\n",
      "586:\tlearn: 0.3330211\ttotal: 1.51s\tremaining: 1.06s\n",
      "587:\tlearn: 0.3329257\ttotal: 1.51s\tremaining: 1.06s\n",
      "588:\tlearn: 0.3328145\ttotal: 1.51s\tremaining: 1.05s\n",
      "589:\tlearn: 0.3327133\ttotal: 1.51s\tremaining: 1.05s\n",
      "590:\tlearn: 0.3326210\ttotal: 1.52s\tremaining: 1.05s\n",
      "591:\tlearn: 0.3325190\ttotal: 1.52s\tremaining: 1.05s\n",
      "592:\tlearn: 0.3324457\ttotal: 1.52s\tremaining: 1.04s\n",
      "593:\tlearn: 0.3323836\ttotal: 1.52s\tremaining: 1.04s\n",
      "594:\tlearn: 0.3323205\ttotal: 1.52s\tremaining: 1.04s\n",
      "595:\tlearn: 0.3322419\ttotal: 1.53s\tremaining: 1.03s\n",
      "596:\tlearn: 0.3320844\ttotal: 1.53s\tremaining: 1.03s\n",
      "597:\tlearn: 0.3319337\ttotal: 1.53s\tremaining: 1.03s\n",
      "598:\tlearn: 0.3317794\ttotal: 1.53s\tremaining: 1.03s\n",
      "599:\tlearn: 0.3316149\ttotal: 1.54s\tremaining: 1.02s\n",
      "600:\tlearn: 0.3315018\ttotal: 1.54s\tremaining: 1.02s\n",
      "601:\tlearn: 0.3314516\ttotal: 1.54s\tremaining: 1.02s\n",
      "602:\tlearn: 0.3312754\ttotal: 1.54s\tremaining: 1.02s\n",
      "603:\tlearn: 0.3311778\ttotal: 1.55s\tremaining: 1.01s\n",
      "604:\tlearn: 0.3310366\ttotal: 1.55s\tremaining: 1.01s\n",
      "605:\tlearn: 0.3309275\ttotal: 1.55s\tremaining: 1.01s\n",
      "606:\tlearn: 0.3307696\ttotal: 1.55s\tremaining: 1s\n",
      "607:\tlearn: 0.3306891\ttotal: 1.55s\tremaining: 1s\n",
      "608:\tlearn: 0.3305637\ttotal: 1.56s\tremaining: 1s\n"
     ]
    },
    {
     "name": "stdout",
     "output_type": "stream",
     "text": [
      "609:\tlearn: 0.3304594\ttotal: 1.56s\tremaining: 998ms\n",
      "610:\tlearn: 0.3303200\ttotal: 1.56s\tremaining: 995ms\n",
      "611:\tlearn: 0.3302253\ttotal: 1.56s\tremaining: 992ms\n",
      "612:\tlearn: 0.3301330\ttotal: 1.57s\tremaining: 990ms\n",
      "613:\tlearn: 0.3300773\ttotal: 1.57s\tremaining: 987ms\n",
      "614:\tlearn: 0.3299263\ttotal: 1.57s\tremaining: 985ms\n",
      "615:\tlearn: 0.3297759\ttotal: 1.57s\tremaining: 982ms\n",
      "616:\tlearn: 0.3296872\ttotal: 1.58s\tremaining: 979ms\n",
      "617:\tlearn: 0.3296478\ttotal: 1.58s\tremaining: 977ms\n",
      "618:\tlearn: 0.3294749\ttotal: 1.58s\tremaining: 974ms\n",
      "619:\tlearn: 0.3293640\ttotal: 1.58s\tremaining: 972ms\n",
      "620:\tlearn: 0.3292857\ttotal: 1.59s\tremaining: 969ms\n",
      "621:\tlearn: 0.3291305\ttotal: 1.59s\tremaining: 967ms\n",
      "622:\tlearn: 0.3290321\ttotal: 1.59s\tremaining: 964ms\n",
      "623:\tlearn: 0.3289093\ttotal: 1.6s\tremaining: 962ms\n",
      "624:\tlearn: 0.3287994\ttotal: 1.6s\tremaining: 959ms\n",
      "625:\tlearn: 0.3286591\ttotal: 1.6s\tremaining: 957ms\n",
      "626:\tlearn: 0.3284624\ttotal: 1.6s\tremaining: 954ms\n",
      "627:\tlearn: 0.3283794\ttotal: 1.61s\tremaining: 951ms\n",
      "628:\tlearn: 0.3282213\ttotal: 1.61s\tremaining: 949ms\n",
      "629:\tlearn: 0.3281416\ttotal: 1.61s\tremaining: 946ms\n",
      "630:\tlearn: 0.3280216\ttotal: 1.61s\tremaining: 943ms\n",
      "631:\tlearn: 0.3279447\ttotal: 1.61s\tremaining: 940ms\n",
      "632:\tlearn: 0.3278506\ttotal: 1.62s\tremaining: 938ms\n",
      "633:\tlearn: 0.3277363\ttotal: 1.62s\tremaining: 935ms\n",
      "634:\tlearn: 0.3276600\ttotal: 1.62s\tremaining: 933ms\n"
     ]
    },
    {
     "name": "stdout",
     "output_type": "stream",
     "text": [
      "635:\tlearn: 0.3275628\ttotal: 1.63s\tremaining: 930ms\n",
      "636:\tlearn: 0.3274779\ttotal: 1.63s\tremaining: 928ms\n",
      "637:\tlearn: 0.3273248\ttotal: 1.63s\tremaining: 925ms\n",
      "638:\tlearn: 0.3271033\ttotal: 1.63s\tremaining: 923ms\n",
      "639:\tlearn: 0.3270278\ttotal: 1.64s\tremaining: 920ms\n",
      "640:\tlearn: 0.3269234\ttotal: 1.64s\tremaining: 917ms\n",
      "641:\tlearn: 0.3268481\ttotal: 1.64s\tremaining: 915ms\n",
      "642:\tlearn: 0.3266793\ttotal: 1.64s\tremaining: 912ms\n",
      "643:\tlearn: 0.3265588\ttotal: 1.64s\tremaining: 909ms\n",
      "644:\tlearn: 0.3264093\ttotal: 1.65s\tremaining: 907ms\n",
      "645:\tlearn: 0.3262865\ttotal: 1.65s\tremaining: 904ms\n",
      "646:\tlearn: 0.3262004\ttotal: 1.65s\tremaining: 901ms\n",
      "647:\tlearn: 0.3260976\ttotal: 1.65s\tremaining: 899ms\n",
      "648:\tlearn: 0.3259742\ttotal: 1.66s\tremaining: 896ms\n",
      "649:\tlearn: 0.3258766\ttotal: 1.66s\tremaining: 894ms\n",
      "650:\tlearn: 0.3258040\ttotal: 1.66s\tremaining: 891ms\n",
      "651:\tlearn: 0.3257240\ttotal: 1.66s\tremaining: 888ms\n",
      "652:\tlearn: 0.3256022\ttotal: 1.67s\tremaining: 886ms\n",
      "653:\tlearn: 0.3255106\ttotal: 1.67s\tremaining: 883ms\n"
     ]
    },
    {
     "name": "stdout",
     "output_type": "stream",
     "text": [
      "654:\tlearn: 0.3254387\ttotal: 1.67s\tremaining: 880ms\n",
      "655:\tlearn: 0.3253422\ttotal: 1.67s\tremaining: 878ms\n",
      "656:\tlearn: 0.3252533\ttotal: 1.68s\tremaining: 875ms\n",
      "657:\tlearn: 0.3251635\ttotal: 1.68s\tremaining: 873ms\n",
      "658:\tlearn: 0.3250711\ttotal: 1.68s\tremaining: 870ms\n",
      "659:\tlearn: 0.3249832\ttotal: 1.68s\tremaining: 867ms\n",
      "660:\tlearn: 0.3249430\ttotal: 1.69s\tremaining: 865ms\n",
      "661:\tlearn: 0.3248552\ttotal: 1.69s\tremaining: 862ms\n",
      "662:\tlearn: 0.3247871\ttotal: 1.69s\tremaining: 860ms\n",
      "663:\tlearn: 0.3246897\ttotal: 1.69s\tremaining: 857ms\n",
      "664:\tlearn: 0.3246014\ttotal: 1.7s\tremaining: 854ms\n",
      "665:\tlearn: 0.3244919\ttotal: 1.7s\tremaining: 852ms\n",
      "666:\tlearn: 0.3244203\ttotal: 1.7s\tremaining: 849ms\n",
      "667:\tlearn: 0.3243386\ttotal: 1.7s\tremaining: 847ms\n",
      "668:\tlearn: 0.3241817\ttotal: 1.71s\tremaining: 844ms\n",
      "669:\tlearn: 0.3240850\ttotal: 1.71s\tremaining: 841ms\n",
      "670:\tlearn: 0.3239538\ttotal: 1.71s\tremaining: 838ms\n",
      "671:\tlearn: 0.3238531\ttotal: 1.71s\tremaining: 836ms\n",
      "672:\tlearn: 0.3237675\ttotal: 1.71s\tremaining: 833ms\n",
      "673:\tlearn: 0.3236656\ttotal: 1.72s\tremaining: 831ms\n",
      "674:\tlearn: 0.3235622\ttotal: 1.72s\tremaining: 828ms\n",
      "675:\tlearn: 0.3234974\ttotal: 1.72s\tremaining: 825ms\n",
      "676:\tlearn: 0.3234101\ttotal: 1.72s\tremaining: 823ms\n",
      "677:\tlearn: 0.3233377\ttotal: 1.73s\tremaining: 820ms\n",
      "678:\tlearn: 0.3233090\ttotal: 1.73s\tremaining: 817ms\n",
      "679:\tlearn: 0.3231865\ttotal: 1.73s\tremaining: 815ms\n",
      "680:\tlearn: 0.3230785\ttotal: 1.73s\tremaining: 812ms\n",
      "681:\tlearn: 0.3230050\ttotal: 1.74s\tremaining: 809ms\n",
      "682:\tlearn: 0.3229239\ttotal: 1.74s\tremaining: 807ms\n",
      "683:\tlearn: 0.3228232\ttotal: 1.74s\tremaining: 804ms\n",
      "684:\tlearn: 0.3226801\ttotal: 1.74s\tremaining: 802ms\n",
      "685:\tlearn: 0.3225313\ttotal: 1.75s\tremaining: 799ms\n",
      "686:\tlearn: 0.3224224\ttotal: 1.75s\tremaining: 796ms\n",
      "687:\tlearn: 0.3223209\ttotal: 1.75s\tremaining: 794ms\n",
      "688:\tlearn: 0.3222627\ttotal: 1.75s\tremaining: 791ms\n"
     ]
    },
    {
     "name": "stdout",
     "output_type": "stream",
     "text": [
      "689:\tlearn: 0.3221670\ttotal: 1.75s\tremaining: 789ms\n",
      "690:\tlearn: 0.3220890\ttotal: 1.76s\tremaining: 786ms\n",
      "691:\tlearn: 0.3219800\ttotal: 1.76s\tremaining: 784ms\n",
      "692:\tlearn: 0.3218911\ttotal: 1.76s\tremaining: 781ms\n",
      "693:\tlearn: 0.3218223\ttotal: 1.76s\tremaining: 778ms\n",
      "694:\tlearn: 0.3216993\ttotal: 1.77s\tremaining: 776ms\n",
      "695:\tlearn: 0.3215187\ttotal: 1.77s\tremaining: 773ms\n",
      "696:\tlearn: 0.3214240\ttotal: 1.77s\tremaining: 771ms\n",
      "697:\tlearn: 0.3213533\ttotal: 1.77s\tremaining: 768ms\n",
      "698:\tlearn: 0.3212243\ttotal: 1.78s\tremaining: 766ms\n",
      "699:\tlearn: 0.3211314\ttotal: 1.78s\tremaining: 763ms\n",
      "700:\tlearn: 0.3210232\ttotal: 1.78s\tremaining: 760ms\n",
      "701:\tlearn: 0.3209341\ttotal: 1.78s\tremaining: 758ms\n",
      "702:\tlearn: 0.3208618\ttotal: 1.79s\tremaining: 755ms\n",
      "703:\tlearn: 0.3207522\ttotal: 1.79s\tremaining: 752ms\n",
      "704:\tlearn: 0.3206297\ttotal: 1.79s\tremaining: 750ms\n",
      "705:\tlearn: 0.3205351\ttotal: 1.79s\tremaining: 747ms\n",
      "706:\tlearn: 0.3204610\ttotal: 1.8s\tremaining: 745ms\n",
      "707:\tlearn: 0.3203869\ttotal: 1.8s\tremaining: 742ms\n",
      "708:\tlearn: 0.3202759\ttotal: 1.8s\tremaining: 739ms\n",
      "709:\tlearn: 0.3202113\ttotal: 1.8s\tremaining: 737ms\n",
      "710:\tlearn: 0.3201020\ttotal: 1.81s\tremaining: 734ms\n",
      "711:\tlearn: 0.3200078\ttotal: 1.81s\tremaining: 732ms\n",
      "712:\tlearn: 0.3198912\ttotal: 1.81s\tremaining: 729ms\n",
      "713:\tlearn: 0.3197842\ttotal: 1.81s\tremaining: 727ms\n",
      "714:\tlearn: 0.3196757\ttotal: 1.82s\tremaining: 724ms\n"
     ]
    },
    {
     "name": "stdout",
     "output_type": "stream",
     "text": [
      "715:\tlearn: 0.3195782\ttotal: 1.82s\tremaining: 722ms\n",
      "716:\tlearn: 0.3194730\ttotal: 1.82s\tremaining: 719ms\n",
      "717:\tlearn: 0.3193415\ttotal: 1.82s\tremaining: 716ms\n",
      "718:\tlearn: 0.3192841\ttotal: 1.83s\tremaining: 714ms\n",
      "719:\tlearn: 0.3191969\ttotal: 1.83s\tremaining: 711ms\n",
      "720:\tlearn: 0.3189745\ttotal: 1.83s\tremaining: 709ms\n",
      "721:\tlearn: 0.3188711\ttotal: 1.83s\tremaining: 706ms\n",
      "722:\tlearn: 0.3187668\ttotal: 1.84s\tremaining: 703ms\n",
      "723:\tlearn: 0.3186564\ttotal: 1.84s\tremaining: 701ms\n",
      "724:\tlearn: 0.3185772\ttotal: 1.84s\tremaining: 698ms\n",
      "725:\tlearn: 0.3185181\ttotal: 1.84s\tremaining: 696ms\n",
      "726:\tlearn: 0.3184387\ttotal: 1.85s\tremaining: 693ms\n",
      "727:\tlearn: 0.3183595\ttotal: 1.85s\tremaining: 691ms\n",
      "728:\tlearn: 0.3181648\ttotal: 1.85s\tremaining: 688ms\n",
      "729:\tlearn: 0.3181182\ttotal: 1.85s\tremaining: 686ms\n",
      "730:\tlearn: 0.3179786\ttotal: 1.86s\tremaining: 683ms\n",
      "731:\tlearn: 0.3178553\ttotal: 1.86s\tremaining: 680ms\n",
      "732:\tlearn: 0.3177704\ttotal: 1.86s\tremaining: 678ms\n",
      "733:\tlearn: 0.3176829\ttotal: 1.86s\tremaining: 675ms\n",
      "734:\tlearn: 0.3175617\ttotal: 1.86s\tremaining: 672ms\n"
     ]
    },
    {
     "name": "stdout",
     "output_type": "stream",
     "text": [
      "735:\tlearn: 0.3174337\ttotal: 1.87s\tremaining: 670ms\n",
      "736:\tlearn: 0.3173936\ttotal: 1.87s\tremaining: 667ms\n",
      "737:\tlearn: 0.3172726\ttotal: 1.87s\tremaining: 665ms\n",
      "738:\tlearn: 0.3171423\ttotal: 1.88s\tremaining: 662ms\n",
      "739:\tlearn: 0.3170719\ttotal: 1.88s\tremaining: 660ms\n",
      "740:\tlearn: 0.3169957\ttotal: 1.88s\tremaining: 657ms\n",
      "741:\tlearn: 0.3169153\ttotal: 1.88s\tremaining: 654ms\n",
      "742:\tlearn: 0.3167884\ttotal: 1.88s\tremaining: 652ms\n",
      "743:\tlearn: 0.3167247\ttotal: 1.89s\tremaining: 649ms\n",
      "744:\tlearn: 0.3166537\ttotal: 1.89s\tremaining: 647ms\n",
      "745:\tlearn: 0.3165430\ttotal: 1.89s\tremaining: 644ms\n",
      "746:\tlearn: 0.3164714\ttotal: 1.89s\tremaining: 641ms\n",
      "747:\tlearn: 0.3163868\ttotal: 1.9s\tremaining: 639ms\n",
      "748:\tlearn: 0.3163028\ttotal: 1.9s\tremaining: 636ms\n",
      "749:\tlearn: 0.3162365\ttotal: 1.9s\tremaining: 634ms\n",
      "750:\tlearn: 0.3161514\ttotal: 1.9s\tremaining: 631ms\n",
      "751:\tlearn: 0.3160728\ttotal: 1.91s\tremaining: 629ms\n",
      "752:\tlearn: 0.3159603\ttotal: 1.91s\tremaining: 626ms\n",
      "753:\tlearn: 0.3158904\ttotal: 1.91s\tremaining: 623ms\n",
      "754:\tlearn: 0.3157881\ttotal: 1.91s\tremaining: 621ms\n",
      "755:\tlearn: 0.3157098\ttotal: 1.92s\tremaining: 618ms\n",
      "756:\tlearn: 0.3156147\ttotal: 1.92s\tremaining: 616ms\n",
      "757:\tlearn: 0.3154879\ttotal: 1.92s\tremaining: 613ms\n",
      "758:\tlearn: 0.3154238\ttotal: 1.92s\tremaining: 611ms\n",
      "759:\tlearn: 0.3153355\ttotal: 1.93s\tremaining: 608ms\n",
      "760:\tlearn: 0.3152698\ttotal: 1.93s\tremaining: 605ms\n",
      "761:\tlearn: 0.3151698\ttotal: 1.93s\tremaining: 603ms\n",
      "762:\tlearn: 0.3150656\ttotal: 1.93s\tremaining: 600ms\n",
      "763:\tlearn: 0.3149565\ttotal: 1.93s\tremaining: 598ms\n",
      "764:\tlearn: 0.3148967\ttotal: 1.94s\tremaining: 595ms\n",
      "765:\tlearn: 0.3148009\ttotal: 1.94s\tremaining: 593ms\n",
      "766:\tlearn: 0.3146750\ttotal: 1.94s\tremaining: 590ms\n",
      "767:\tlearn: 0.3145399\ttotal: 1.94s\tremaining: 587ms\n",
      "768:\tlearn: 0.3144628\ttotal: 1.95s\tremaining: 585ms\n"
     ]
    },
    {
     "name": "stdout",
     "output_type": "stream",
     "text": [
      "769:\tlearn: 0.3143544\ttotal: 1.95s\tremaining: 582ms\n",
      "770:\tlearn: 0.3142841\ttotal: 1.95s\tremaining: 580ms\n",
      "771:\tlearn: 0.3141607\ttotal: 1.95s\tremaining: 577ms\n",
      "772:\tlearn: 0.3140434\ttotal: 1.96s\tremaining: 575ms\n",
      "773:\tlearn: 0.3139675\ttotal: 1.96s\tremaining: 572ms\n",
      "774:\tlearn: 0.3138926\ttotal: 1.96s\tremaining: 570ms\n",
      "775:\tlearn: 0.3137989\ttotal: 1.96s\tremaining: 567ms\n",
      "776:\tlearn: 0.3137259\ttotal: 1.97s\tremaining: 565ms\n",
      "777:\tlearn: 0.3136290\ttotal: 1.97s\tremaining: 562ms\n",
      "778:\tlearn: 0.3135449\ttotal: 1.97s\tremaining: 559ms\n",
      "779:\tlearn: 0.3134478\ttotal: 1.97s\tremaining: 557ms\n",
      "780:\tlearn: 0.3133759\ttotal: 1.98s\tremaining: 554ms\n",
      "781:\tlearn: 0.3133311\ttotal: 1.98s\tremaining: 552ms\n",
      "782:\tlearn: 0.3132334\ttotal: 1.98s\tremaining: 549ms\n",
      "783:\tlearn: 0.3131151\ttotal: 1.98s\tremaining: 547ms\n",
      "784:\tlearn: 0.3130352\ttotal: 1.99s\tremaining: 544ms\n",
      "785:\tlearn: 0.3129169\ttotal: 1.99s\tremaining: 542ms\n",
      "786:\tlearn: 0.3128601\ttotal: 1.99s\tremaining: 539ms\n",
      "787:\tlearn: 0.3127811\ttotal: 1.99s\tremaining: 537ms\n",
      "788:\tlearn: 0.3126963\ttotal: 2s\tremaining: 534ms\n",
      "789:\tlearn: 0.3126169\ttotal: 2s\tremaining: 532ms\n",
      "790:\tlearn: 0.3125137\ttotal: 2s\tremaining: 529ms\n",
      "791:\tlearn: 0.3124076\ttotal: 2s\tremaining: 526ms\n",
      "792:\tlearn: 0.3122800\ttotal: 2.01s\tremaining: 524ms\n",
      "793:\tlearn: 0.3121888\ttotal: 2.01s\tremaining: 521ms\n",
      "794:\tlearn: 0.3120975\ttotal: 2.01s\tremaining: 519ms\n",
      "795:\tlearn: 0.3119588\ttotal: 2.01s\tremaining: 516ms\n"
     ]
    },
    {
     "name": "stdout",
     "output_type": "stream",
     "text": [
      "796:\tlearn: 0.3118924\ttotal: 2.02s\tremaining: 514ms\n",
      "797:\tlearn: 0.3117870\ttotal: 2.02s\tremaining: 511ms\n",
      "798:\tlearn: 0.3116969\ttotal: 2.02s\tremaining: 508ms\n",
      "799:\tlearn: 0.3116088\ttotal: 2.02s\tremaining: 506ms\n",
      "800:\tlearn: 0.3115223\ttotal: 2.03s\tremaining: 503ms\n",
      "801:\tlearn: 0.3114472\ttotal: 2.03s\tremaining: 501ms\n",
      "802:\tlearn: 0.3113770\ttotal: 2.03s\tremaining: 498ms\n",
      "803:\tlearn: 0.3112759\ttotal: 2.03s\tremaining: 496ms\n",
      "804:\tlearn: 0.3111871\ttotal: 2.04s\tremaining: 493ms\n",
      "805:\tlearn: 0.3111057\ttotal: 2.04s\tremaining: 490ms\n",
      "806:\tlearn: 0.3110258\ttotal: 2.04s\tremaining: 488ms\n",
      "807:\tlearn: 0.3109305\ttotal: 2.04s\tremaining: 485ms\n",
      "808:\tlearn: 0.3108282\ttotal: 2.04s\tremaining: 483ms\n",
      "809:\tlearn: 0.3107775\ttotal: 2.05s\tremaining: 480ms\n",
      "810:\tlearn: 0.3106880\ttotal: 2.05s\tremaining: 478ms\n",
      "811:\tlearn: 0.3105811\ttotal: 2.05s\tremaining: 475ms\n",
      "812:\tlearn: 0.3104695\ttotal: 2.05s\tremaining: 473ms\n",
      "813:\tlearn: 0.3104112\ttotal: 2.06s\tremaining: 470ms\n",
      "814:\tlearn: 0.3103145\ttotal: 2.06s\tremaining: 468ms\n",
      "815:\tlearn: 0.3102152\ttotal: 2.06s\tremaining: 465ms\n"
     ]
    },
    {
     "name": "stdout",
     "output_type": "stream",
     "text": [
      "816:\tlearn: 0.3101291\ttotal: 2.06s\tremaining: 462ms\n",
      "817:\tlearn: 0.3101039\ttotal: 2.07s\tremaining: 460ms\n",
      "818:\tlearn: 0.3100122\ttotal: 2.07s\tremaining: 457ms\n",
      "819:\tlearn: 0.3099470\ttotal: 2.07s\tremaining: 455ms\n",
      "820:\tlearn: 0.3098247\ttotal: 2.08s\tremaining: 452ms\n",
      "821:\tlearn: 0.3096985\ttotal: 2.08s\tremaining: 450ms\n",
      "822:\tlearn: 0.3096157\ttotal: 2.08s\tremaining: 447ms\n",
      "823:\tlearn: 0.3095427\ttotal: 2.08s\tremaining: 445ms\n",
      "824:\tlearn: 0.3094242\ttotal: 2.08s\tremaining: 442ms\n",
      "825:\tlearn: 0.3093760\ttotal: 2.09s\tremaining: 440ms\n",
      "826:\tlearn: 0.3092845\ttotal: 2.09s\tremaining: 437ms\n",
      "827:\tlearn: 0.3092588\ttotal: 2.09s\tremaining: 435ms\n",
      "828:\tlearn: 0.3092037\ttotal: 2.09s\tremaining: 432ms\n",
      "829:\tlearn: 0.3091182\ttotal: 2.1s\tremaining: 429ms\n",
      "830:\tlearn: 0.3090723\ttotal: 2.1s\tremaining: 427ms\n",
      "831:\tlearn: 0.3089961\ttotal: 2.1s\tremaining: 424ms\n",
      "832:\tlearn: 0.3088934\ttotal: 2.1s\tremaining: 422ms\n",
      "833:\tlearn: 0.3088432\ttotal: 2.11s\tremaining: 419ms\n",
      "834:\tlearn: 0.3087766\ttotal: 2.11s\tremaining: 417ms\n",
      "835:\tlearn: 0.3086869\ttotal: 2.11s\tremaining: 414ms\n",
      "836:\tlearn: 0.3085785\ttotal: 2.11s\tremaining: 412ms\n",
      "837:\tlearn: 0.3084675\ttotal: 2.12s\tremaining: 409ms\n",
      "838:\tlearn: 0.3084022\ttotal: 2.12s\tremaining: 407ms\n",
      "839:\tlearn: 0.3083513\ttotal: 2.12s\tremaining: 404ms\n",
      "840:\tlearn: 0.3082750\ttotal: 2.12s\tremaining: 402ms\n",
      "841:\tlearn: 0.3082207\ttotal: 2.13s\tremaining: 399ms\n",
      "842:\tlearn: 0.3081551\ttotal: 2.13s\tremaining: 397ms\n",
      "843:\tlearn: 0.3080768\ttotal: 2.13s\tremaining: 394ms\n",
      "844:\tlearn: 0.3079868\ttotal: 2.13s\tremaining: 392ms\n",
      "845:\tlearn: 0.3077933\ttotal: 2.14s\tremaining: 389ms\n",
      "846:\tlearn: 0.3077666\ttotal: 2.14s\tremaining: 386ms\n",
      "847:\tlearn: 0.3077058\ttotal: 2.14s\tremaining: 384ms\n",
      "848:\tlearn: 0.3076366\ttotal: 2.14s\tremaining: 381ms\n"
     ]
    },
    {
     "name": "stdout",
     "output_type": "stream",
     "text": [
      "849:\tlearn: 0.3075251\ttotal: 2.15s\tremaining: 379ms\n",
      "850:\tlearn: 0.3074561\ttotal: 2.15s\tremaining: 376ms\n",
      "851:\tlearn: 0.3073639\ttotal: 2.15s\tremaining: 374ms\n",
      "852:\tlearn: 0.3072912\ttotal: 2.15s\tremaining: 371ms\n",
      "853:\tlearn: 0.3072234\ttotal: 2.16s\tremaining: 369ms\n",
      "854:\tlearn: 0.3071406\ttotal: 2.16s\tremaining: 366ms\n",
      "855:\tlearn: 0.3070936\ttotal: 2.16s\tremaining: 364ms\n",
      "856:\tlearn: 0.3069919\ttotal: 2.16s\tremaining: 361ms\n",
      "857:\tlearn: 0.3068892\ttotal: 2.17s\tremaining: 358ms\n",
      "858:\tlearn: 0.3067479\ttotal: 2.17s\tremaining: 356ms\n",
      "859:\tlearn: 0.3066718\ttotal: 2.17s\tremaining: 353ms\n",
      "860:\tlearn: 0.3065817\ttotal: 2.17s\tremaining: 351ms\n",
      "861:\tlearn: 0.3065266\ttotal: 2.17s\tremaining: 348ms\n",
      "862:\tlearn: 0.3064069\ttotal: 2.18s\tremaining: 346ms\n",
      "863:\tlearn: 0.3062853\ttotal: 2.18s\tremaining: 343ms\n",
      "864:\tlearn: 0.3062248\ttotal: 2.18s\tremaining: 341ms\n",
      "865:\tlearn: 0.3061540\ttotal: 2.18s\tremaining: 338ms\n",
      "866:\tlearn: 0.3060679\ttotal: 2.19s\tremaining: 336ms\n",
      "867:\tlearn: 0.3059818\ttotal: 2.19s\tremaining: 333ms\n",
      "868:\tlearn: 0.3058403\ttotal: 2.19s\tremaining: 330ms\n",
      "869:\tlearn: 0.3057394\ttotal: 2.19s\tremaining: 328ms\n",
      "870:\tlearn: 0.3056707\ttotal: 2.2s\tremaining: 325ms\n",
      "871:\tlearn: 0.3055821\ttotal: 2.2s\tremaining: 323ms\n",
      "872:\tlearn: 0.3055192\ttotal: 2.2s\tremaining: 320ms\n",
      "873:\tlearn: 0.3054389\ttotal: 2.2s\tremaining: 318ms\n",
      "874:\tlearn: 0.3053355\ttotal: 2.21s\tremaining: 315ms\n",
      "875:\tlearn: 0.3052398\ttotal: 2.21s\tremaining: 313ms\n",
      "876:\tlearn: 0.3051765\ttotal: 2.21s\tremaining: 310ms\n"
     ]
    },
    {
     "name": "stdout",
     "output_type": "stream",
     "text": [
      "877:\tlearn: 0.3051016\ttotal: 2.21s\tremaining: 308ms\n",
      "878:\tlearn: 0.3050237\ttotal: 2.22s\tremaining: 305ms\n",
      "879:\tlearn: 0.3049376\ttotal: 2.22s\tremaining: 303ms\n",
      "880:\tlearn: 0.3048184\ttotal: 2.22s\tremaining: 300ms\n",
      "881:\tlearn: 0.3047235\ttotal: 2.22s\tremaining: 298ms\n",
      "882:\tlearn: 0.3045800\ttotal: 2.23s\tremaining: 295ms\n",
      "883:\tlearn: 0.3045235\ttotal: 2.23s\tremaining: 293ms\n",
      "884:\tlearn: 0.3044471\ttotal: 2.23s\tremaining: 290ms\n",
      "885:\tlearn: 0.3043649\ttotal: 2.23s\tremaining: 287ms\n",
      "886:\tlearn: 0.3043212\ttotal: 2.24s\tremaining: 285ms\n",
      "887:\tlearn: 0.3042703\ttotal: 2.24s\tremaining: 282ms\n",
      "888:\tlearn: 0.3042185\ttotal: 2.24s\tremaining: 280ms\n",
      "889:\tlearn: 0.3040721\ttotal: 2.24s\tremaining: 277ms\n",
      "890:\tlearn: 0.3040024\ttotal: 2.25s\tremaining: 275ms\n",
      "891:\tlearn: 0.3039057\ttotal: 2.25s\tremaining: 272ms\n",
      "892:\tlearn: 0.3038223\ttotal: 2.25s\tremaining: 270ms\n",
      "893:\tlearn: 0.3037267\ttotal: 2.25s\tremaining: 267ms\n",
      "894:\tlearn: 0.3036469\ttotal: 2.25s\tremaining: 265ms\n",
      "895:\tlearn: 0.3035953\ttotal: 2.26s\tremaining: 262ms\n"
     ]
    },
    {
     "name": "stdout",
     "output_type": "stream",
     "text": [
      "896:\tlearn: 0.3034599\ttotal: 2.26s\tremaining: 260ms\n",
      "897:\tlearn: 0.3033734\ttotal: 2.26s\tremaining: 257ms\n",
      "898:\tlearn: 0.3033259\ttotal: 2.27s\tremaining: 255ms\n",
      "899:\tlearn: 0.3032276\ttotal: 2.27s\tremaining: 252ms\n",
      "900:\tlearn: 0.3030475\ttotal: 2.27s\tremaining: 249ms\n",
      "901:\tlearn: 0.3029786\ttotal: 2.27s\tremaining: 247ms\n",
      "902:\tlearn: 0.3028280\ttotal: 2.27s\tremaining: 244ms\n",
      "903:\tlearn: 0.3027846\ttotal: 2.28s\tremaining: 242ms\n",
      "904:\tlearn: 0.3027210\ttotal: 2.28s\tremaining: 239ms\n",
      "905:\tlearn: 0.3026557\ttotal: 2.28s\tremaining: 237ms\n",
      "906:\tlearn: 0.3025955\ttotal: 2.29s\tremaining: 234ms\n",
      "907:\tlearn: 0.3025304\ttotal: 2.29s\tremaining: 232ms\n",
      "908:\tlearn: 0.3024752\ttotal: 2.29s\tremaining: 229ms\n",
      "909:\tlearn: 0.3023953\ttotal: 2.29s\tremaining: 227ms\n",
      "910:\tlearn: 0.3023351\ttotal: 2.29s\tremaining: 224ms\n",
      "911:\tlearn: 0.3022330\ttotal: 2.3s\tremaining: 222ms\n",
      "912:\tlearn: 0.3021651\ttotal: 2.3s\tremaining: 219ms\n",
      "913:\tlearn: 0.3021033\ttotal: 2.3s\tremaining: 217ms\n",
      "914:\tlearn: 0.3020499\ttotal: 2.3s\tremaining: 214ms\n",
      "915:\tlearn: 0.3019757\ttotal: 2.31s\tremaining: 212ms\n",
      "916:\tlearn: 0.3019007\ttotal: 2.31s\tremaining: 209ms\n",
      "917:\tlearn: 0.3017901\ttotal: 2.31s\tremaining: 206ms\n",
      "918:\tlearn: 0.3016922\ttotal: 2.31s\tremaining: 204ms\n",
      "919:\tlearn: 0.3016104\ttotal: 2.32s\tremaining: 201ms\n",
      "920:\tlearn: 0.3015635\ttotal: 2.32s\tremaining: 199ms\n",
      "921:\tlearn: 0.3015001\ttotal: 2.32s\tremaining: 196ms\n",
      "922:\tlearn: 0.3014078\ttotal: 2.32s\tremaining: 194ms\n",
      "923:\tlearn: 0.3013184\ttotal: 2.33s\tremaining: 191ms\n",
      "924:\tlearn: 0.3012509\ttotal: 2.33s\tremaining: 189ms\n",
      "925:\tlearn: 0.3011491\ttotal: 2.33s\tremaining: 186ms\n",
      "926:\tlearn: 0.3011193\ttotal: 2.33s\tremaining: 184ms\n",
      "927:\tlearn: 0.3010601\ttotal: 2.33s\tremaining: 181ms\n",
      "928:\tlearn: 0.3009993\ttotal: 2.34s\tremaining: 179ms\n",
      "929:\tlearn: 0.3008950\ttotal: 2.34s\tremaining: 176ms\n"
     ]
    },
    {
     "name": "stdout",
     "output_type": "stream",
     "text": [
      "930:\tlearn: 0.3008347\ttotal: 2.34s\tremaining: 174ms\n",
      "931:\tlearn: 0.3007949\ttotal: 2.35s\tremaining: 171ms\n",
      "932:\tlearn: 0.3007457\ttotal: 2.35s\tremaining: 169ms\n",
      "933:\tlearn: 0.3006732\ttotal: 2.35s\tremaining: 166ms\n",
      "934:\tlearn: 0.3006202\ttotal: 2.35s\tremaining: 164ms\n",
      "935:\tlearn: 0.3005460\ttotal: 2.35s\tremaining: 161ms\n",
      "936:\tlearn: 0.3005019\ttotal: 2.36s\tremaining: 159ms\n",
      "937:\tlearn: 0.3004291\ttotal: 2.36s\tremaining: 156ms\n",
      "938:\tlearn: 0.3003473\ttotal: 2.36s\tremaining: 154ms\n",
      "939:\tlearn: 0.3002612\ttotal: 2.37s\tremaining: 151ms\n",
      "940:\tlearn: 0.3001847\ttotal: 2.37s\tremaining: 148ms\n",
      "941:\tlearn: 0.3001333\ttotal: 2.37s\tremaining: 146ms\n",
      "942:\tlearn: 0.3000487\ttotal: 2.37s\tremaining: 143ms\n",
      "943:\tlearn: 0.2999401\ttotal: 2.38s\tremaining: 141ms\n",
      "944:\tlearn: 0.2998719\ttotal: 2.38s\tremaining: 138ms\n",
      "945:\tlearn: 0.2998081\ttotal: 2.38s\tremaining: 136ms\n",
      "946:\tlearn: 0.2997423\ttotal: 2.38s\tremaining: 133ms\n",
      "947:\tlearn: 0.2996682\ttotal: 2.38s\tremaining: 131ms\n",
      "948:\tlearn: 0.2995765\ttotal: 2.39s\tremaining: 128ms\n",
      "949:\tlearn: 0.2995034\ttotal: 2.39s\tremaining: 126ms\n",
      "950:\tlearn: 0.2994586\ttotal: 2.39s\tremaining: 123ms\n",
      "951:\tlearn: 0.2993694\ttotal: 2.39s\tremaining: 121ms\n",
      "952:\tlearn: 0.2992891\ttotal: 2.4s\tremaining: 118ms\n",
      "953:\tlearn: 0.2992393\ttotal: 2.4s\tremaining: 116ms\n",
      "954:\tlearn: 0.2992119\ttotal: 2.4s\tremaining: 113ms\n",
      "955:\tlearn: 0.2991499\ttotal: 2.4s\tremaining: 111ms\n",
      "956:\tlearn: 0.2990571\ttotal: 2.41s\tremaining: 108ms\n"
     ]
    },
    {
     "name": "stdout",
     "output_type": "stream",
     "text": [
      "957:\tlearn: 0.2989407\ttotal: 2.41s\tremaining: 106ms\n",
      "958:\tlearn: 0.2988395\ttotal: 2.41s\tremaining: 103ms\n",
      "959:\tlearn: 0.2987194\ttotal: 2.41s\tremaining: 101ms\n",
      "960:\tlearn: 0.2986192\ttotal: 2.42s\tremaining: 98ms\n",
      "961:\tlearn: 0.2985658\ttotal: 2.42s\tremaining: 95.5ms\n",
      "962:\tlearn: 0.2984662\ttotal: 2.42s\tremaining: 93ms\n",
      "963:\tlearn: 0.2984116\ttotal: 2.42s\tremaining: 90.5ms\n",
      "964:\tlearn: 0.2983328\ttotal: 2.42s\tremaining: 88ms\n",
      "965:\tlearn: 0.2982884\ttotal: 2.43s\tremaining: 85.5ms\n",
      "966:\tlearn: 0.2982141\ttotal: 2.43s\tremaining: 82.9ms\n",
      "967:\tlearn: 0.2981320\ttotal: 2.43s\tremaining: 80.4ms\n",
      "968:\tlearn: 0.2980334\ttotal: 2.44s\tremaining: 77.9ms\n",
      "969:\tlearn: 0.2979858\ttotal: 2.44s\tremaining: 75.4ms\n",
      "970:\tlearn: 0.2979289\ttotal: 2.44s\tremaining: 72.9ms\n",
      "971:\tlearn: 0.2978842\ttotal: 2.44s\tremaining: 70.4ms\n",
      "972:\tlearn: 0.2978054\ttotal: 2.44s\tremaining: 67.8ms\n",
      "973:\tlearn: 0.2977413\ttotal: 2.45s\tremaining: 65.3ms\n",
      "974:\tlearn: 0.2976943\ttotal: 2.45s\tremaining: 62.8ms\n",
      "975:\tlearn: 0.2975612\ttotal: 2.45s\tremaining: 60.3ms\n",
      "976:\tlearn: 0.2975142\ttotal: 2.45s\tremaining: 57.8ms\n"
     ]
    },
    {
     "name": "stdout",
     "output_type": "stream",
     "text": [
      "977:\tlearn: 0.2974574\ttotal: 2.46s\tremaining: 55.3ms\n",
      "978:\tlearn: 0.2973731\ttotal: 2.46s\tremaining: 52.8ms\n",
      "979:\tlearn: 0.2973018\ttotal: 2.46s\tremaining: 50.3ms\n",
      "980:\tlearn: 0.2972198\ttotal: 2.46s\tremaining: 47.7ms\n",
      "981:\tlearn: 0.2971767\ttotal: 2.47s\tremaining: 45.2ms\n",
      "982:\tlearn: 0.2970858\ttotal: 2.47s\tremaining: 42.7ms\n",
      "983:\tlearn: 0.2970572\ttotal: 2.47s\tremaining: 40.2ms\n",
      "984:\tlearn: 0.2969101\ttotal: 2.47s\tremaining: 37.7ms\n",
      "985:\tlearn: 0.2968652\ttotal: 2.48s\tremaining: 35.2ms\n",
      "986:\tlearn: 0.2968119\ttotal: 2.48s\tremaining: 32.7ms\n",
      "987:\tlearn: 0.2967542\ttotal: 2.48s\tremaining: 30.1ms\n",
      "988:\tlearn: 0.2966539\ttotal: 2.48s\tremaining: 27.6ms\n",
      "989:\tlearn: 0.2966075\ttotal: 2.49s\tremaining: 25.1ms\n",
      "990:\tlearn: 0.2965735\ttotal: 2.49s\tremaining: 22.6ms\n",
      "991:\tlearn: 0.2964922\ttotal: 2.49s\tremaining: 20.1ms\n",
      "992:\tlearn: 0.2964209\ttotal: 2.49s\tremaining: 17.6ms\n",
      "993:\tlearn: 0.2963355\ttotal: 2.5s\tremaining: 15.1ms\n",
      "994:\tlearn: 0.2962618\ttotal: 2.5s\tremaining: 12.6ms\n",
      "995:\tlearn: 0.2961768\ttotal: 2.5s\tremaining: 10ms\n",
      "996:\tlearn: 0.2960767\ttotal: 2.5s\tremaining: 7.53ms\n",
      "997:\tlearn: 0.2960108\ttotal: 2.51s\tremaining: 5.02ms\n",
      "998:\tlearn: 0.2959090\ttotal: 2.51s\tremaining: 2.51ms\n",
      "999:\tlearn: 0.2958645\ttotal: 2.51s\tremaining: 0us\n",
      "Mean Squared error 0.1371894187390292\n"
     ]
    },
    {
     "data": {
      "application/scrapbook.scrap.json+json": {
       "data": 0.1371894187390292,
       "encoder": "json",
       "name": "Catboost MAE",
       "version": 1
      }
     },
     "metadata": {
      "scrapbook": {
       "data": true,
       "display": false,
       "name": "Catboost MAE"
      }
     },
     "output_type": "display_data"
    }
   ],
   "source": [
    "mae_cb = baselineModels.catboost(X_train,y_train,X_test,y_test)\n",
    "#Store MSE Value\n",
    "sb.glue(\"Catboost MAE\",mae_cb)"
   ]
  }
 ],
 "metadata": {
  "interpreter": {
   "hash": "10498c76ddd8160350534c6544a2b2fb65f2138dbc70420f7c81a3268f830f23"
  },
  "kernelspec": {
   "display_name": "Python 3 (ipykernel)",
   "language": "python",
   "name": "python3"
  },
  "language_info": {
   "codemirror_mode": {
    "name": "ipython",
    "version": 3
   },
   "file_extension": ".py",
   "mimetype": "text/x-python",
   "name": "python",
   "nbconvert_exporter": "python",
   "pygments_lexer": "ipython3",
   "version": "3.8.11"
  },
  "papermill": {
   "default_parameters": {},
   "duration": 8.272404,
   "end_time": "2022-03-02T04:30:14.784682",
   "environment_variables": {},
   "exception": null,
   "input_path": "BaselineModels.ipynb",
   "output_path": "./BaseLine_Model_Output/BaselineModels_output_1.ipynb",
   "parameters": {},
   "start_time": "2022-03-02T04:30:06.512278",
   "version": "2.3.3"
  }
 },
 "nbformat": 4,
 "nbformat_minor": 5
}