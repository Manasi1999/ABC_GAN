{
 "cells": [
  {
   "cell_type": "markdown",
   "id": "e9f2aee6",
   "metadata": {
    "papermill": {
     "duration": 0.004277,
     "end_time": "2022-03-02T04:30:57.072047",
     "exception": false,
     "start_time": "2022-03-02T04:30:57.067770",
     "status": "completed"
    },
    "tags": []
   },
   "source": [
    "## Import Libraries "
   ]
  },
  {
   "cell_type": "code",
   "execution_count": 1,
   "id": "74bff71f",
   "metadata": {
    "execution": {
     "iopub.execute_input": "2022-03-02T04:30:57.084789Z",
     "iopub.status.busy": "2022-03-02T04:30:57.084257Z",
     "iopub.status.idle": "2022-03-02T04:30:57.086407Z",
     "shell.execute_reply": "2022-03-02T04:30:57.086700Z"
    },
    "papermill": {
     "duration": 0.01122,
     "end_time": "2022-03-02T04:30:57.086896",
     "exception": false,
     "start_time": "2022-03-02T04:30:57.075676",
     "status": "completed"
    },
    "tags": []
   },
   "outputs": [],
   "source": [
    "import warnings\n",
    "import sys\n",
    "sys.path.insert(0, '../../src')\n",
    "warnings.filterwarnings('ignore')"
   ]
  },
  {
   "cell_type": "code",
   "execution_count": 2,
   "id": "83b91633",
   "metadata": {
    "execution": {
     "iopub.execute_input": "2022-03-02T04:30:57.096767Z",
     "iopub.status.busy": "2022-03-02T04:30:57.096201Z",
     "iopub.status.idle": "2022-03-02T04:30:58.827385Z",
     "shell.execute_reply": "2022-03-02T04:30:58.827640Z"
    },
    "papermill": {
     "duration": 1.737344,
     "end_time": "2022-03-02T04:30:58.827764",
     "exception": false,
     "start_time": "2022-03-02T04:30:57.090420",
     "status": "completed"
    },
    "tags": []
   },
   "outputs": [],
   "source": [
    "import statsModel\n",
    "import scrapbook as sb \n",
    "import torch \n",
    "import statsModel\n",
    "import baselineModels\n",
    "import californiaDataset\n",
    "import dataset \n",
    "from torch.utils.data import random_split \n",
    "from sklearn.model_selection import train_test_split"
   ]
  },
  {
   "cell_type": "markdown",
   "id": "5e9f0029",
   "metadata": {
    "papermill": {
     "duration": 0.002985,
     "end_time": "2022-03-02T04:30:58.833943",
     "exception": false,
     "start_time": "2022-03-02T04:30:58.830958",
     "status": "completed"
    },
    "tags": []
   },
   "source": [
    "## Import Dataset \n"
   ]
  },
  {
   "cell_type": "code",
   "execution_count": 3,
   "id": "128d4b66",
   "metadata": {
    "execution": {
     "iopub.execute_input": "2022-03-02T04:30:58.843809Z",
     "iopub.status.busy": "2022-03-02T04:30:58.843418Z",
     "iopub.status.idle": "2022-03-02T04:30:58.857544Z",
     "shell.execute_reply": "2022-03-02T04:30:58.857847Z"
    },
    "papermill": {
     "duration": 0.019763,
     "end_time": "2022-03-02T04:30:58.857971",
     "exception": false,
     "start_time": "2022-03-02T04:30:58.838208",
     "status": "completed"
    },
    "tags": []
   },
   "outputs": [
    {
     "name": "stdout",
     "output_type": "stream",
     "text": [
      "       X1    X2        X3        X4      X5        X6     X7      X8      Y\n",
      "0  8.3252  41.0  6.984127  1.023810   322.0  2.555556  37.88 -122.23  4.526\n",
      "1  8.3014  21.0  6.238137  0.971880  2401.0  2.109842  37.86 -122.22  3.585\n",
      "2  7.2574  52.0  8.288136  1.073446   496.0  2.802260  37.85 -122.24  3.521\n",
      "3  5.6431  52.0  5.817352  1.073059   558.0  2.547945  37.85 -122.25  3.413\n",
      "4  3.8462  52.0  6.281853  1.081081   565.0  2.181467  37.85 -122.25  3.422\n"
     ]
    }
   ],
   "source": [
    "n_features = 8\n",
    "n_samples= 20640\n",
    "n_target = 1 \n",
    "X,Y = californiaDataset.california_data()"
   ]
  },
  {
   "cell_type": "code",
   "execution_count": 4,
   "id": "e7b2cfd3",
   "metadata": {
    "execution": {
     "iopub.execute_input": "2022-03-02T04:30:58.867091Z",
     "iopub.status.busy": "2022-03-02T04:30:58.866696Z",
     "iopub.status.idle": "2022-03-02T04:30:58.868786Z",
     "shell.execute_reply": "2022-03-02T04:30:58.869024Z"
    },
    "papermill": {
     "duration": 0.007824,
     "end_time": "2022-03-02T04:30:58.869140",
     "exception": false,
     "start_time": "2022-03-02T04:30:58.861316",
     "status": "completed"
    },
    "tags": []
   },
   "outputs": [],
   "source": [
    "# Train test split for dataset \n",
    "real_dataset = dataset.CustomDataset(X,Y)\n",
    "X_train, X_test, y_train, y_test = train_test_split(X, Y, test_size=0.2)"
   ]
  },
  {
   "cell_type": "markdown",
   "id": "d5394d29",
   "metadata": {
    "papermill": {
     "duration": 0.003003,
     "end_time": "2022-03-02T04:30:58.875273",
     "exception": false,
     "start_time": "2022-03-02T04:30:58.872270",
     "status": "completed"
    },
    "tags": []
   },
   "source": [
    "## Stats Model \n",
    "\n"
   ]
  },
  {
   "cell_type": "code",
   "execution_count": 5,
   "id": "dab6be1b",
   "metadata": {
    "execution": {
     "iopub.execute_input": "2022-03-02T04:30:58.883445Z",
     "iopub.status.busy": "2022-03-02T04:30:58.883071Z",
     "iopub.status.idle": "2022-03-02T04:30:58.983591Z",
     "shell.execute_reply": "2022-03-02T04:30:58.983847Z"
    },
    "papermill": {
     "duration": 0.105705,
     "end_time": "2022-03-02T04:30:58.983974",
     "exception": false,
     "start_time": "2022-03-02T04:30:58.878269",
     "status": "completed"
    },
    "tags": []
   },
   "outputs": [
    {
     "name": "stderr",
     "output_type": "stream",
     "text": [
      "No handles with labels found to put in legend.\n"
     ]
    },
    {
     "name": "stdout",
     "output_type": "stream",
     "text": [
      "                                 OLS Regression Results                                \n",
      "=======================================================================================\n",
      "Dep. Variable:                      y   R-squared (uncentered):                   0.612\n",
      "Model:                            OLS   Adj. R-squared (uncentered):              0.612\n",
      "Method:                 Least Squares   F-statistic:                              3260.\n",
      "Date:                Wed, 02 Mar 2022   Prob (F-statistic):                        0.00\n",
      "Time:                        10:00:58   Log-Likelihood:                         -15649.\n",
      "No. Observations:               16512   AIC:                                  3.131e+04\n",
      "Df Residuals:                   16504   BIC:                                  3.138e+04\n",
      "Df Model:                           8                                                  \n",
      "Covariance Type:            nonrobust                                                  \n",
      "==============================================================================\n",
      "                 coef    std err          t      P>|t|      [0.025      0.975]\n",
      "------------------------------------------------------------------------------\n",
      "x1             0.7236      0.008     94.308      0.000       0.709       0.739\n",
      "x2             0.1028      0.005     18.966      0.000       0.092       0.113\n",
      "x3            -0.2526      0.014    -17.880      0.000      -0.280      -0.225\n",
      "x4             0.3152      0.014     23.042      0.000       0.288       0.342\n",
      "x5            -0.0023      0.005     -0.447      0.655      -0.012       0.008\n",
      "x6            -0.0367      0.005     -7.914      0.000      -0.046      -0.028\n",
      "x7            -0.7934      0.015    -53.509      0.000      -0.823      -0.764\n",
      "x8            -0.7737      0.015    -53.202      0.000      -0.802      -0.745\n",
      "==============================================================================\n",
      "Omnibus:                     3375.666   Durbin-Watson:                   2.007\n",
      "Prob(Omnibus):                  0.000   Jarque-Bera (JB):             9713.891\n",
      "Skew:                           1.076   Prob(JB):                         0.00\n",
      "Kurtosis:                       6.081   Cond. No.                         6.61\n",
      "==============================================================================\n",
      "\n",
      "Notes:\n",
      "[1] R² is computed without centering (uncentered) since the model does not contain a constant.\n",
      "[2] Standard Errors assume that the covariance matrix of the errors is correctly specified.\n"
     ]
    },
    {
     "data": {
      "image/png": "[encoded data removed]",
      "text/plain": [
       "<Figure size 432x288 with 1 Axes>"
      ]
     },
     "metadata": {
      "needs_background": "light"
     },
     "output_type": "display_data"
    },
    {
     "name": "stdout",
     "output_type": "stream",
     "text": [
      "Performance Metrics\n",
      "Mean Squared Error: 0.41531817759772993\n",
      "Mean Absolute Error: 0.4661689327645932\n",
      "Manhattan distance: 1924.3453544522383\n",
      "Euclidean distance: 41.40571744485804\n"
     ]
    },
    {
     "data": {
      "application/scrapbook.scrap.json+json": {
       "data": 0.41531817759772993,
       "encoder": "json",
       "name": "Stats Model MSE",
       "version": 1
      }
     },
     "metadata": {
      "scrapbook": {
       "data": true,
       "display": false,
       "name": "Stats Model MSE"
      }
     },
     "output_type": "display_data"
    },
    {
     "data": {
      "application/scrapbook.scrap.json+json": {
       "data": 0.4661689327645932,
       "encoder": "json",
       "name": "Stats Model MAE",
       "version": 1
      }
     },
     "metadata": {
      "scrapbook": {
       "data": true,
       "display": false,
       "name": "Stats Model MAE"
      }
     },
     "output_type": "display_data"
    },
    {
     "data": {
      "application/scrapbook.scrap.json+json": {
       "data": 1924.3453544522383,
       "encoder": "json",
       "name": "Stats Model Manhattan Distance",
       "version": 1
      }
     },
     "metadata": {
      "scrapbook": {
       "data": true,
       "display": false,
       "name": "Stats Model Manhattan Distance"
      }
     },
     "output_type": "display_data"
    },
    {
     "data": {
      "application/scrapbook.scrap.json+json": {
       "data": 41.40571744485804,
       "encoder": "json",
       "name": "Stats Model Euclidean distance",
       "version": 1
      }
     },
     "metadata": {
      "scrapbook": {
       "data": true,
       "display": false,
       "name": "Stats Model Euclidean distance"
      }
     },
     "output_type": "display_data"
    },
    {
     "data": {
      "application/scrapbook.scrap.json+json": {
       "data": [
        0.7235887317612163,
        0.10282492273984997,
        -0.2526001836495654,
        0.3152261285691086,
        -0.0022859192893220316,
        -0.03670146659213297,
        -0.793447320626495,
        -0.7737264749614094
       ],
       "encoder": "json",
       "name": "Coefficients",
       "version": 1
      }
     },
     "metadata": {
      "scrapbook": {
       "data": true,
       "display": false,
       "name": "Coefficients"
      }
     },
     "output_type": "display_data"
    }
   ],
   "source": [
    "coefficients , y_pred =statsModel.statsModel(X_train,y_train,X_test,y_test)\n",
    "#Store MSE Value \n",
    "sb.glue(\"Coefficients\",coefficients)"
   ]
  },
  {
   "cell_type": "markdown",
   "id": "d33e2c20",
   "metadata": {
    "papermill": {
     "duration": 0.005364,
     "end_time": "2022-03-02T04:30:58.994866",
     "exception": false,
     "start_time": "2022-03-02T04:30:58.989502",
     "status": "completed"
    },
    "tags": []
   },
   "source": [
    "# Catboost Model "
   ]
  },
  {
   "cell_type": "code",
   "execution_count": 6,
   "id": "b23e1c12",
   "metadata": {
    "execution": {
     "iopub.execute_input": "2022-03-02T04:30:59.042402Z",
     "iopub.status.busy": "2022-03-02T04:30:59.041991Z",
     "iopub.status.idle": "2022-03-02T04:31:01.676837Z",
     "shell.execute_reply": "2022-03-02T04:31:01.677135Z"
    },
    "papermill": {
     "duration": 2.677306,
     "end_time": "2022-03-02T04:31:01.677262",
     "exception": false,
     "start_time": "2022-03-02T04:30:58.999956",
     "status": "completed"
    },
    "tags": []
   },
   "outputs": [
    {
     "name": "stdout",
     "output_type": "stream",
     "text": [
      "Learning rate set to 0.064294\n"
     ]
    },
    {
     "name": "stdout",
     "output_type": "stream",
     "text": [
      "0:\tlearn: 0.9663725\ttotal: 60.2ms\tremaining: 1m\n",
      "1:\tlearn: 0.9341864\ttotal: 63.5ms\tremaining: 31.7s\n",
      "2:\tlearn: 0.9040081\ttotal: 66.2ms\tremaining: 22s\n",
      "3:\tlearn: 0.8763766\ttotal: 68.7ms\tremaining: 17.1s\n",
      "4:\tlearn: 0.8505552\ttotal: 71.1ms\tremaining: 14.1s\n",
      "5:\tlearn: 0.8265515\ttotal: 73.6ms\tremaining: 12.2s\n",
      "6:\tlearn: 0.8036085\ttotal: 75.8ms\tremaining: 10.8s\n",
      "7:\tlearn: 0.7828177\ttotal: 78.8ms\tremaining: 9.77s\n",
      "8:\tlearn: 0.7644132\ttotal: 81ms\tremaining: 8.92s\n",
      "9:\tlearn: 0.7454244\ttotal: 83.4ms\tremaining: 8.25s\n",
      "10:\tlearn: 0.7288210\ttotal: 86.1ms\tremaining: 7.74s\n",
      "11:\tlearn: 0.7129350\ttotal: 88.4ms\tremaining: 7.28s\n",
      "12:\tlearn: 0.6991228\ttotal: 90.7ms\tremaining: 6.88s\n",
      "13:\tlearn: 0.6859432\ttotal: 93.4ms\tremaining: 6.58s\n",
      "14:\tlearn: 0.6739182\ttotal: 95.6ms\tremaining: 6.28s\n",
      "15:\tlearn: 0.6619116\ttotal: 97.7ms\tremaining: 6.01s\n",
      "16:\tlearn: 0.6520460\ttotal: 101ms\tremaining: 5.81s\n",
      "17:\tlearn: 0.6424877\ttotal: 103ms\tremaining: 5.62s\n",
      "18:\tlearn: 0.6338293\ttotal: 106ms\tremaining: 5.45s\n",
      "19:\tlearn: 0.6242084\ttotal: 108ms\tremaining: 5.28s\n",
      "20:\tlearn: 0.6172885\ttotal: 110ms\tremaining: 5.13s\n",
      "21:\tlearn: 0.6100664\ttotal: 112ms\tremaining: 5s\n",
      "22:\tlearn: 0.6024641\ttotal: 115ms\tremaining: 4.87s\n",
      "23:\tlearn: 0.5940149\ttotal: 117ms\tremaining: 4.76s\n",
      "24:\tlearn: 0.5878902\ttotal: 120ms\tremaining: 4.67s\n",
      "25:\tlearn: 0.5822354\ttotal: 122ms\tremaining: 4.58s\n",
      "26:\tlearn: 0.5776062\ttotal: 124ms\tremaining: 4.48s\n"
     ]
    },
    {
     "name": "stdout",
     "output_type": "stream",
     "text": [
      "27:\tlearn: 0.5728080\ttotal: 127ms\tremaining: 4.41s\n",
      "28:\tlearn: 0.5664887\ttotal: 129ms\tremaining: 4.32s\n",
      "29:\tlearn: 0.5609050\ttotal: 131ms\tremaining: 4.25s\n",
      "30:\tlearn: 0.5575283\ttotal: 134ms\tremaining: 4.18s\n",
      "31:\tlearn: 0.5534405\ttotal: 136ms\tremaining: 4.11s\n",
      "32:\tlearn: 0.5501076\ttotal: 139ms\tremaining: 4.06s\n",
      "33:\tlearn: 0.5460937\ttotal: 141ms\tremaining: 4s\n",
      "34:\tlearn: 0.5409320\ttotal: 144ms\tremaining: 3.96s\n",
      "35:\tlearn: 0.5376912\ttotal: 146ms\tremaining: 3.91s\n",
      "36:\tlearn: 0.5326814\ttotal: 149ms\tremaining: 3.87s\n",
      "37:\tlearn: 0.5298255\ttotal: 151ms\tremaining: 3.82s\n",
      "38:\tlearn: 0.5253418\ttotal: 153ms\tremaining: 3.78s\n",
      "39:\tlearn: 0.5233634\ttotal: 156ms\tremaining: 3.75s\n",
      "40:\tlearn: 0.5208368\ttotal: 159ms\tremaining: 3.72s\n",
      "41:\tlearn: 0.5183391\ttotal: 162ms\tremaining: 3.69s\n",
      "42:\tlearn: 0.5153726\ttotal: 164ms\tremaining: 3.66s\n",
      "43:\tlearn: 0.5117729\ttotal: 167ms\tremaining: 3.62s\n",
      "44:\tlearn: 0.5099660\ttotal: 170ms\tremaining: 3.61s\n",
      "45:\tlearn: 0.5068684\ttotal: 172ms\tremaining: 3.58s\n",
      "46:\tlearn: 0.5049516\ttotal: 175ms\tremaining: 3.55s\n",
      "47:\tlearn: 0.5032650\ttotal: 177ms\tremaining: 3.52s\n",
      "48:\tlearn: 0.5004734\ttotal: 180ms\tremaining: 3.5s\n",
      "49:\tlearn: 0.4989278\ttotal: 183ms\tremaining: 3.47s\n",
      "50:\tlearn: 0.4964433\ttotal: 185ms\tremaining: 3.44s\n",
      "51:\tlearn: 0.4949530\ttotal: 187ms\tremaining: 3.42s\n",
      "52:\tlearn: 0.4925631\ttotal: 190ms\tremaining: 3.39s\n",
      "53:\tlearn: 0.4912577\ttotal: 193ms\tremaining: 3.37s\n"
     ]
    },
    {
     "name": "stdout",
     "output_type": "stream",
     "text": [
      "54:\tlearn: 0.4891008\ttotal: 195ms\tremaining: 3.35s\n",
      "55:\tlearn: 0.4874895\ttotal: 198ms\tremaining: 3.33s\n",
      "56:\tlearn: 0.4859974\ttotal: 200ms\tremaining: 3.3s\n",
      "57:\tlearn: 0.4841598\ttotal: 202ms\tremaining: 3.28s\n",
      "58:\tlearn: 0.4830712\ttotal: 205ms\tremaining: 3.26s\n",
      "59:\tlearn: 0.4818453\ttotal: 207ms\tremaining: 3.24s\n",
      "60:\tlearn: 0.4808340\ttotal: 209ms\tremaining: 3.22s\n",
      "61:\tlearn: 0.4795615\ttotal: 212ms\tremaining: 3.2s\n",
      "62:\tlearn: 0.4787036\ttotal: 214ms\tremaining: 3.18s\n",
      "63:\tlearn: 0.4768728\ttotal: 216ms\tremaining: 3.16s\n",
      "64:\tlearn: 0.4755387\ttotal: 218ms\tremaining: 3.14s\n",
      "65:\tlearn: 0.4747019\ttotal: 221ms\tremaining: 3.12s\n",
      "66:\tlearn: 0.4738463\ttotal: 223ms\tremaining: 3.11s\n",
      "67:\tlearn: 0.4729706\ttotal: 225ms\tremaining: 3.09s\n",
      "68:\tlearn: 0.4720499\ttotal: 228ms\tremaining: 3.07s\n",
      "69:\tlearn: 0.4708946\ttotal: 230ms\tremaining: 3.06s\n",
      "70:\tlearn: 0.4703006\ttotal: 233ms\tremaining: 3.05s\n",
      "71:\tlearn: 0.4687163\ttotal: 235ms\tremaining: 3.03s\n",
      "72:\tlearn: 0.4677603\ttotal: 238ms\tremaining: 3.02s\n",
      "73:\tlearn: 0.4671675\ttotal: 240ms\tremaining: 3.01s\n",
      "74:\tlearn: 0.4666116\ttotal: 243ms\tremaining: 2.99s\n",
      "75:\tlearn: 0.4658029\ttotal: 245ms\tremaining: 2.98s\n",
      "76:\tlearn: 0.4644114\ttotal: 248ms\tremaining: 2.97s\n",
      "77:\tlearn: 0.4634042\ttotal: 250ms\tremaining: 2.96s\n",
      "78:\tlearn: 0.4625435\ttotal: 253ms\tremaining: 2.95s\n"
     ]
    },
    {
     "name": "stdout",
     "output_type": "stream",
     "text": [
      "79:\tlearn: 0.4617083\ttotal: 256ms\tremaining: 2.94s\n",
      "80:\tlearn: 0.4611650\ttotal: 258ms\tremaining: 2.92s\n",
      "81:\tlearn: 0.4602655\ttotal: 260ms\tremaining: 2.91s\n",
      "82:\tlearn: 0.4593865\ttotal: 263ms\tremaining: 2.9s\n",
      "83:\tlearn: 0.4588508\ttotal: 265ms\tremaining: 2.89s\n",
      "84:\tlearn: 0.4579499\ttotal: 267ms\tremaining: 2.87s\n",
      "85:\tlearn: 0.4572674\ttotal: 269ms\tremaining: 2.86s\n",
      "86:\tlearn: 0.4567361\ttotal: 272ms\tremaining: 2.85s\n",
      "87:\tlearn: 0.4561335\ttotal: 275ms\tremaining: 2.84s\n",
      "88:\tlearn: 0.4555893\ttotal: 277ms\tremaining: 2.83s\n",
      "89:\tlearn: 0.4552599\ttotal: 279ms\tremaining: 2.82s\n",
      "90:\tlearn: 0.4546157\ttotal: 281ms\tremaining: 2.81s\n",
      "91:\tlearn: 0.4536412\ttotal: 283ms\tremaining: 2.79s\n",
      "92:\tlearn: 0.4530213\ttotal: 286ms\tremaining: 2.79s\n",
      "93:\tlearn: 0.4520593\ttotal: 288ms\tremaining: 2.77s\n",
      "94:\tlearn: 0.4515837\ttotal: 290ms\tremaining: 2.77s\n",
      "95:\tlearn: 0.4509381\ttotal: 293ms\tremaining: 2.76s\n",
      "96:\tlearn: 0.4503902\ttotal: 296ms\tremaining: 2.75s\n",
      "97:\tlearn: 0.4497702\ttotal: 298ms\tremaining: 2.74s\n",
      "98:\tlearn: 0.4487589\ttotal: 300ms\tremaining: 2.73s\n",
      "99:\tlearn: 0.4479754\ttotal: 303ms\tremaining: 2.73s\n",
      "100:\tlearn: 0.4468575\ttotal: 306ms\tremaining: 2.72s\n",
      "101:\tlearn: 0.4462141\ttotal: 309ms\tremaining: 2.72s\n",
      "102:\tlearn: 0.4458625\ttotal: 311ms\tremaining: 2.71s\n",
      "103:\tlearn: 0.4451466\ttotal: 313ms\tremaining: 2.7s\n",
      "104:\tlearn: 0.4443951\ttotal: 316ms\tremaining: 2.69s\n",
      "105:\tlearn: 0.4437181\ttotal: 318ms\tremaining: 2.69s\n",
      "106:\tlearn: 0.4433844\ttotal: 321ms\tremaining: 2.68s\n"
     ]
    },
    {
     "name": "stdout",
     "output_type": "stream",
     "text": [
      "107:\tlearn: 0.4426855\ttotal: 323ms\tremaining: 2.67s\n",
      "108:\tlearn: 0.4419543\ttotal: 326ms\tremaining: 2.66s\n",
      "109:\tlearn: 0.4414544\ttotal: 328ms\tremaining: 2.65s\n",
      "110:\tlearn: 0.4410486\ttotal: 331ms\tremaining: 2.65s\n",
      "111:\tlearn: 0.4405940\ttotal: 333ms\tremaining: 2.64s\n",
      "112:\tlearn: 0.4401052\ttotal: 335ms\tremaining: 2.63s\n",
      "113:\tlearn: 0.4395302\ttotal: 338ms\tremaining: 2.63s\n",
      "114:\tlearn: 0.4388485\ttotal: 340ms\tremaining: 2.62s\n",
      "115:\tlearn: 0.4384032\ttotal: 342ms\tremaining: 2.61s\n",
      "116:\tlearn: 0.4378322\ttotal: 345ms\tremaining: 2.6s\n",
      "117:\tlearn: 0.4374303\ttotal: 347ms\tremaining: 2.59s\n",
      "118:\tlearn: 0.4369526\ttotal: 349ms\tremaining: 2.59s\n",
      "119:\tlearn: 0.4366255\ttotal: 352ms\tremaining: 2.58s\n",
      "120:\tlearn: 0.4361004\ttotal: 354ms\tremaining: 2.57s\n",
      "121:\tlearn: 0.4357495\ttotal: 356ms\tremaining: 2.56s\n",
      "122:\tlearn: 0.4352338\ttotal: 359ms\tremaining: 2.56s\n",
      "123:\tlearn: 0.4345910\ttotal: 362ms\tremaining: 2.56s\n",
      "124:\tlearn: 0.4340293\ttotal: 364ms\tremaining: 2.55s\n",
      "125:\tlearn: 0.4335002\ttotal: 367ms\tremaining: 2.54s\n",
      "126:\tlearn: 0.4328173\ttotal: 369ms\tremaining: 2.54s\n",
      "127:\tlearn: 0.4322777\ttotal: 371ms\tremaining: 2.53s\n",
      "128:\tlearn: 0.4316719\ttotal: 374ms\tremaining: 2.52s\n",
      "129:\tlearn: 0.4313048\ttotal: 376ms\tremaining: 2.52s\n",
      "130:\tlearn: 0.4307962\ttotal: 378ms\tremaining: 2.51s\n",
      "131:\tlearn: 0.4303340\ttotal: 381ms\tremaining: 2.5s\n",
      "132:\tlearn: 0.4300472\ttotal: 383ms\tremaining: 2.5s\n",
      "133:\tlearn: 0.4296633\ttotal: 386ms\tremaining: 2.49s\n",
      "134:\tlearn: 0.4292557\ttotal: 388ms\tremaining: 2.49s\n"
     ]
    },
    {
     "name": "stdout",
     "output_type": "stream",
     "text": [
      "135:\tlearn: 0.4288980\ttotal: 391ms\tremaining: 2.48s\n",
      "136:\tlearn: 0.4287005\ttotal: 393ms\tremaining: 2.48s\n",
      "137:\tlearn: 0.4283045\ttotal: 396ms\tremaining: 2.47s\n",
      "138:\tlearn: 0.4278162\ttotal: 399ms\tremaining: 2.47s\n",
      "139:\tlearn: 0.4274116\ttotal: 401ms\tremaining: 2.46s\n",
      "140:\tlearn: 0.4269877\ttotal: 404ms\tremaining: 2.46s\n",
      "141:\tlearn: 0.4264718\ttotal: 406ms\tremaining: 2.46s\n",
      "142:\tlearn: 0.4260222\ttotal: 409ms\tremaining: 2.45s\n",
      "143:\tlearn: 0.4257157\ttotal: 412ms\tremaining: 2.45s\n",
      "144:\tlearn: 0.4254837\ttotal: 414ms\tremaining: 2.44s\n",
      "145:\tlearn: 0.4250774\ttotal: 417ms\tremaining: 2.44s\n",
      "146:\tlearn: 0.4247256\ttotal: 419ms\tremaining: 2.43s\n",
      "147:\tlearn: 0.4244252\ttotal: 421ms\tremaining: 2.42s\n",
      "148:\tlearn: 0.4241742\ttotal: 424ms\tremaining: 2.42s\n",
      "149:\tlearn: 0.4235067\ttotal: 426ms\tremaining: 2.41s\n",
      "150:\tlearn: 0.4228856\ttotal: 428ms\tremaining: 2.41s\n",
      "151:\tlearn: 0.4226378\ttotal: 430ms\tremaining: 2.4s\n",
      "152:\tlearn: 0.4220643\ttotal: 433ms\tremaining: 2.4s\n",
      "153:\tlearn: 0.4217888\ttotal: 435ms\tremaining: 2.39s\n",
      "154:\tlearn: 0.4212765\ttotal: 438ms\tremaining: 2.39s\n",
      "155:\tlearn: 0.4208629\ttotal: 440ms\tremaining: 2.38s\n",
      "156:\tlearn: 0.4203769\ttotal: 442ms\tremaining: 2.38s\n",
      "157:\tlearn: 0.4199190\ttotal: 445ms\tremaining: 2.37s\n",
      "158:\tlearn: 0.4191919\ttotal: 448ms\tremaining: 2.37s\n",
      "159:\tlearn: 0.4189935\ttotal: 450ms\tremaining: 2.36s\n"
     ]
    },
    {
     "name": "stdout",
     "output_type": "stream",
     "text": [
      "160:\tlearn: 0.4186834\ttotal: 452ms\tremaining: 2.36s\n",
      "161:\tlearn: 0.4181638\ttotal: 455ms\tremaining: 2.35s\n",
      "162:\tlearn: 0.4175299\ttotal: 457ms\tremaining: 2.35s\n",
      "163:\tlearn: 0.4172349\ttotal: 460ms\tremaining: 2.34s\n",
      "164:\tlearn: 0.4168017\ttotal: 462ms\tremaining: 2.34s\n",
      "165:\tlearn: 0.4165415\ttotal: 465ms\tremaining: 2.33s\n",
      "166:\tlearn: 0.4163041\ttotal: 467ms\tremaining: 2.33s\n",
      "167:\tlearn: 0.4159547\ttotal: 469ms\tremaining: 2.32s\n",
      "168:\tlearn: 0.4156031\ttotal: 472ms\tremaining: 2.32s\n",
      "169:\tlearn: 0.4152477\ttotal: 474ms\tremaining: 2.31s\n",
      "170:\tlearn: 0.4143644\ttotal: 476ms\tremaining: 2.31s\n",
      "171:\tlearn: 0.4138384\ttotal: 479ms\tremaining: 2.3s\n",
      "172:\tlearn: 0.4134742\ttotal: 481ms\tremaining: 2.3s\n",
      "173:\tlearn: 0.4131593\ttotal: 483ms\tremaining: 2.29s\n",
      "174:\tlearn: 0.4127469\ttotal: 486ms\tremaining: 2.29s\n",
      "175:\tlearn: 0.4120478\ttotal: 488ms\tremaining: 2.28s\n",
      "176:\tlearn: 0.4117176\ttotal: 490ms\tremaining: 2.28s\n",
      "177:\tlearn: 0.4113569\ttotal: 492ms\tremaining: 2.27s\n",
      "178:\tlearn: 0.4109888\ttotal: 495ms\tremaining: 2.27s\n",
      "179:\tlearn: 0.4107624\ttotal: 497ms\tremaining: 2.26s\n",
      "180:\tlearn: 0.4104727\ttotal: 499ms\tremaining: 2.26s\n",
      "181:\tlearn: 0.4101455\ttotal: 502ms\tremaining: 2.25s\n",
      "182:\tlearn: 0.4096703\ttotal: 504ms\tremaining: 2.25s\n",
      "183:\tlearn: 0.4090649\ttotal: 507ms\tremaining: 2.25s\n",
      "184:\tlearn: 0.4086412\ttotal: 510ms\tremaining: 2.25s\n",
      "185:\tlearn: 0.4080652\ttotal: 513ms\tremaining: 2.25s\n",
      "186:\tlearn: 0.4076381\ttotal: 516ms\tremaining: 2.24s\n",
      "187:\tlearn: 0.4072798\ttotal: 518ms\tremaining: 2.24s\n"
     ]
    },
    {
     "name": "stdout",
     "output_type": "stream",
     "text": [
      "188:\tlearn: 0.4067625\ttotal: 521ms\tremaining: 2.23s\n",
      "189:\tlearn: 0.4064828\ttotal: 523ms\tremaining: 2.23s\n",
      "190:\tlearn: 0.4060357\ttotal: 526ms\tremaining: 2.23s\n",
      "191:\tlearn: 0.4054111\ttotal: 529ms\tremaining: 2.22s\n",
      "192:\tlearn: 0.4049968\ttotal: 531ms\tremaining: 2.22s\n",
      "193:\tlearn: 0.4046459\ttotal: 533ms\tremaining: 2.21s\n",
      "194:\tlearn: 0.4042985\ttotal: 536ms\tremaining: 2.21s\n",
      "195:\tlearn: 0.4039184\ttotal: 539ms\tremaining: 2.21s\n",
      "196:\tlearn: 0.4036247\ttotal: 541ms\tremaining: 2.21s\n",
      "197:\tlearn: 0.4033586\ttotal: 544ms\tremaining: 2.2s\n",
      "198:\tlearn: 0.4029509\ttotal: 546ms\tremaining: 2.2s\n",
      "199:\tlearn: 0.4026124\ttotal: 548ms\tremaining: 2.19s\n",
      "200:\tlearn: 0.4023413\ttotal: 551ms\tremaining: 2.19s\n",
      "201:\tlearn: 0.4020243\ttotal: 554ms\tremaining: 2.19s\n",
      "202:\tlearn: 0.4016365\ttotal: 557ms\tremaining: 2.19s\n",
      "203:\tlearn: 0.4013266\ttotal: 559ms\tremaining: 2.18s\n",
      "204:\tlearn: 0.4010175\ttotal: 562ms\tremaining: 2.18s\n",
      "205:\tlearn: 0.4006616\ttotal: 564ms\tremaining: 2.17s\n",
      "206:\tlearn: 0.4002269\ttotal: 566ms\tremaining: 2.17s\n",
      "207:\tlearn: 0.3998001\ttotal: 568ms\tremaining: 2.16s\n",
      "208:\tlearn: 0.3995121\ttotal: 571ms\tremaining: 2.16s\n",
      "209:\tlearn: 0.3989430\ttotal: 573ms\tremaining: 2.16s\n",
      "210:\tlearn: 0.3986401\ttotal: 576ms\tremaining: 2.15s\n",
      "211:\tlearn: 0.3983206\ttotal: 578ms\tremaining: 2.15s\n",
      "212:\tlearn: 0.3980249\ttotal: 582ms\tremaining: 2.15s\n",
      "213:\tlearn: 0.3977538\ttotal: 584ms\tremaining: 2.15s\n"
     ]
    },
    {
     "name": "stdout",
     "output_type": "stream",
     "text": [
      "214:\tlearn: 0.3974240\ttotal: 587ms\tremaining: 2.14s\n",
      "215:\tlearn: 0.3970793\ttotal: 589ms\tremaining: 2.14s\n",
      "216:\tlearn: 0.3968581\ttotal: 592ms\tremaining: 2.14s\n",
      "217:\tlearn: 0.3963540\ttotal: 594ms\tremaining: 2.13s\n",
      "218:\tlearn: 0.3960647\ttotal: 597ms\tremaining: 2.13s\n",
      "219:\tlearn: 0.3958036\ttotal: 599ms\tremaining: 2.12s\n",
      "220:\tlearn: 0.3956374\ttotal: 602ms\tremaining: 2.12s\n",
      "221:\tlearn: 0.3953861\ttotal: 604ms\tremaining: 2.12s\n",
      "222:\tlearn: 0.3950876\ttotal: 606ms\tremaining: 2.11s\n",
      "223:\tlearn: 0.3946888\ttotal: 609ms\tremaining: 2.11s\n",
      "224:\tlearn: 0.3943461\ttotal: 611ms\tremaining: 2.1s\n",
      "225:\tlearn: 0.3939075\ttotal: 613ms\tremaining: 2.1s\n",
      "226:\tlearn: 0.3935232\ttotal: 616ms\tremaining: 2.1s\n",
      "227:\tlearn: 0.3932384\ttotal: 618ms\tremaining: 2.09s\n",
      "228:\tlearn: 0.3930550\ttotal: 620ms\tremaining: 2.09s\n",
      "229:\tlearn: 0.3927724\ttotal: 623ms\tremaining: 2.09s\n",
      "230:\tlearn: 0.3924889\ttotal: 625ms\tremaining: 2.08s\n",
      "231:\tlearn: 0.3920787\ttotal: 628ms\tremaining: 2.08s\n",
      "232:\tlearn: 0.3918169\ttotal: 631ms\tremaining: 2.08s\n",
      "233:\tlearn: 0.3914918\ttotal: 633ms\tremaining: 2.07s\n",
      "234:\tlearn: 0.3911720\ttotal: 636ms\tremaining: 2.07s\n",
      "235:\tlearn: 0.3909056\ttotal: 638ms\tremaining: 2.07s\n",
      "236:\tlearn: 0.3905484\ttotal: 640ms\tremaining: 2.06s\n",
      "237:\tlearn: 0.3902436\ttotal: 643ms\tremaining: 2.06s\n",
      "238:\tlearn: 0.3899634\ttotal: 645ms\tremaining: 2.05s\n",
      "239:\tlearn: 0.3897858\ttotal: 647ms\tremaining: 2.05s\n"
     ]
    },
    {
     "name": "stdout",
     "output_type": "stream",
     "text": [
      "240:\tlearn: 0.3894747\ttotal: 650ms\tremaining: 2.05s\n",
      "241:\tlearn: 0.3892614\ttotal: 652ms\tremaining: 2.04s\n",
      "242:\tlearn: 0.3890337\ttotal: 654ms\tremaining: 2.04s\n",
      "243:\tlearn: 0.3887395\ttotal: 657ms\tremaining: 2.04s\n",
      "244:\tlearn: 0.3884505\ttotal: 659ms\tremaining: 2.03s\n",
      "245:\tlearn: 0.3881797\ttotal: 662ms\tremaining: 2.03s\n",
      "246:\tlearn: 0.3879315\ttotal: 664ms\tremaining: 2.02s\n",
      "247:\tlearn: 0.3875308\ttotal: 667ms\tremaining: 2.02s\n",
      "248:\tlearn: 0.3872089\ttotal: 670ms\tremaining: 2.02s\n",
      "249:\tlearn: 0.3870149\ttotal: 672ms\tremaining: 2.02s\n",
      "250:\tlearn: 0.3867979\ttotal: 675ms\tremaining: 2.01s\n",
      "251:\tlearn: 0.3865881\ttotal: 677ms\tremaining: 2.01s\n",
      "252:\tlearn: 0.3863150\ttotal: 680ms\tremaining: 2.01s\n",
      "253:\tlearn: 0.3860394\ttotal: 682ms\tremaining: 2s\n",
      "254:\tlearn: 0.3857843\ttotal: 685ms\tremaining: 2s\n",
      "255:\tlearn: 0.3855014\ttotal: 687ms\tremaining: 2s\n",
      "256:\tlearn: 0.3853852\ttotal: 690ms\tremaining: 1.99s\n",
      "257:\tlearn: 0.3851064\ttotal: 692ms\tremaining: 1.99s\n",
      "258:\tlearn: 0.3848152\ttotal: 695ms\tremaining: 1.99s\n",
      "259:\tlearn: 0.3843894\ttotal: 697ms\tremaining: 1.98s\n",
      "260:\tlearn: 0.3841753\ttotal: 699ms\tremaining: 1.98s\n",
      "261:\tlearn: 0.3839622\ttotal: 702ms\tremaining: 1.98s\n",
      "262:\tlearn: 0.3837160\ttotal: 704ms\tremaining: 1.97s\n",
      "263:\tlearn: 0.3835132\ttotal: 706ms\tremaining: 1.97s\n",
      "264:\tlearn: 0.3832602\ttotal: 709ms\tremaining: 1.97s\n",
      "265:\tlearn: 0.3830729\ttotal: 711ms\tremaining: 1.96s\n",
      "266:\tlearn: 0.3828728\ttotal: 714ms\tremaining: 1.96s\n"
     ]
    },
    {
     "name": "stdout",
     "output_type": "stream",
     "text": [
      "267:\tlearn: 0.3825691\ttotal: 716ms\tremaining: 1.96s\n",
      "268:\tlearn: 0.3823657\ttotal: 719ms\tremaining: 1.95s\n",
      "269:\tlearn: 0.3821845\ttotal: 721ms\tremaining: 1.95s\n",
      "270:\tlearn: 0.3820464\ttotal: 724ms\tremaining: 1.95s\n",
      "271:\tlearn: 0.3818428\ttotal: 726ms\tremaining: 1.94s\n",
      "272:\tlearn: 0.3816310\ttotal: 729ms\tremaining: 1.94s\n",
      "273:\tlearn: 0.3814462\ttotal: 731ms\tremaining: 1.94s\n",
      "274:\tlearn: 0.3812284\ttotal: 733ms\tremaining: 1.93s\n",
      "275:\tlearn: 0.3808549\ttotal: 736ms\tremaining: 1.93s\n",
      "276:\tlearn: 0.3805833\ttotal: 738ms\tremaining: 1.93s\n",
      "277:\tlearn: 0.3803889\ttotal: 740ms\tremaining: 1.92s\n",
      "278:\tlearn: 0.3801028\ttotal: 742ms\tremaining: 1.92s\n",
      "279:\tlearn: 0.3798740\ttotal: 745ms\tremaining: 1.92s\n",
      "280:\tlearn: 0.3796999\ttotal: 748ms\tremaining: 1.91s\n",
      "281:\tlearn: 0.3794842\ttotal: 750ms\tremaining: 1.91s\n",
      "282:\tlearn: 0.3792037\ttotal: 753ms\tremaining: 1.91s\n",
      "283:\tlearn: 0.3790176\ttotal: 755ms\tremaining: 1.9s\n",
      "284:\tlearn: 0.3788637\ttotal: 758ms\tremaining: 1.9s\n",
      "285:\tlearn: 0.3786183\ttotal: 760ms\tremaining: 1.9s\n",
      "286:\tlearn: 0.3784550\ttotal: 762ms\tremaining: 1.89s\n",
      "287:\tlearn: 0.3781713\ttotal: 764ms\tremaining: 1.89s\n",
      "288:\tlearn: 0.3780455\ttotal: 767ms\tremaining: 1.89s\n",
      "289:\tlearn: 0.3776697\ttotal: 769ms\tremaining: 1.88s\n",
      "290:\tlearn: 0.3773981\ttotal: 772ms\tremaining: 1.88s\n",
      "291:\tlearn: 0.3772499\ttotal: 774ms\tremaining: 1.88s\n",
      "292:\tlearn: 0.3770302\ttotal: 776ms\tremaining: 1.87s\n",
      "293:\tlearn: 0.3768511\ttotal: 778ms\tremaining: 1.87s\n",
      "294:\tlearn: 0.3766376\ttotal: 781ms\tremaining: 1.87s\n"
     ]
    },
    {
     "name": "stdout",
     "output_type": "stream",
     "text": [
      "295:\tlearn: 0.3763901\ttotal: 783ms\tremaining: 1.86s\n",
      "296:\tlearn: 0.3761763\ttotal: 786ms\tremaining: 1.86s\n",
      "297:\tlearn: 0.3758848\ttotal: 788ms\tremaining: 1.86s\n",
      "298:\tlearn: 0.3756489\ttotal: 791ms\tremaining: 1.85s\n",
      "299:\tlearn: 0.3754045\ttotal: 793ms\tremaining: 1.85s\n",
      "300:\tlearn: 0.3752063\ttotal: 796ms\tremaining: 1.85s\n",
      "301:\tlearn: 0.3749965\ttotal: 799ms\tremaining: 1.84s\n",
      "302:\tlearn: 0.3747355\ttotal: 801ms\tremaining: 1.84s\n",
      "303:\tlearn: 0.3746205\ttotal: 803ms\tremaining: 1.84s\n",
      "304:\tlearn: 0.3744662\ttotal: 806ms\tremaining: 1.83s\n",
      "305:\tlearn: 0.3741897\ttotal: 808ms\tremaining: 1.83s\n",
      "306:\tlearn: 0.3739113\ttotal: 810ms\tremaining: 1.83s\n",
      "307:\tlearn: 0.3737809\ttotal: 813ms\tremaining: 1.83s\n",
      "308:\tlearn: 0.3735431\ttotal: 815ms\tremaining: 1.82s\n",
      "309:\tlearn: 0.3731255\ttotal: 818ms\tremaining: 1.82s\n",
      "310:\tlearn: 0.3729089\ttotal: 821ms\tremaining: 1.82s\n",
      "311:\tlearn: 0.3727140\ttotal: 823ms\tremaining: 1.81s\n",
      "312:\tlearn: 0.3725035\ttotal: 825ms\tremaining: 1.81s\n",
      "313:\tlearn: 0.3723147\ttotal: 828ms\tremaining: 1.81s\n",
      "314:\tlearn: 0.3721340\ttotal: 830ms\tremaining: 1.8s\n",
      "315:\tlearn: 0.3719276\ttotal: 833ms\tremaining: 1.8s\n",
      "316:\tlearn: 0.3717352\ttotal: 835ms\tremaining: 1.8s\n",
      "317:\tlearn: 0.3715092\ttotal: 837ms\tremaining: 1.79s\n",
      "318:\tlearn: 0.3712179\ttotal: 840ms\tremaining: 1.79s\n",
      "319:\tlearn: 0.3710230\ttotal: 842ms\tremaining: 1.79s\n",
      "320:\tlearn: 0.3707990\ttotal: 844ms\tremaining: 1.79s\n"
     ]
    },
    {
     "name": "stdout",
     "output_type": "stream",
     "text": [
      "321:\tlearn: 0.3704134\ttotal: 847ms\tremaining: 1.78s\n",
      "322:\tlearn: 0.3701779\ttotal: 850ms\tremaining: 1.78s\n",
      "323:\tlearn: 0.3698250\ttotal: 852ms\tremaining: 1.78s\n",
      "324:\tlearn: 0.3696075\ttotal: 855ms\tremaining: 1.77s\n",
      "325:\tlearn: 0.3694192\ttotal: 858ms\tremaining: 1.77s\n",
      "326:\tlearn: 0.3692191\ttotal: 860ms\tremaining: 1.77s\n",
      "327:\tlearn: 0.3689864\ttotal: 863ms\tremaining: 1.77s\n",
      "328:\tlearn: 0.3687837\ttotal: 865ms\tremaining: 1.76s\n",
      "329:\tlearn: 0.3685661\ttotal: 868ms\tremaining: 1.76s\n",
      "330:\tlearn: 0.3683166\ttotal: 871ms\tremaining: 1.76s\n",
      "331:\tlearn: 0.3681308\ttotal: 873ms\tremaining: 1.75s\n",
      "332:\tlearn: 0.3679779\ttotal: 875ms\tremaining: 1.75s\n",
      "333:\tlearn: 0.3678855\ttotal: 877ms\tremaining: 1.75s\n",
      "334:\tlearn: 0.3676668\ttotal: 880ms\tremaining: 1.75s\n",
      "335:\tlearn: 0.3675674\ttotal: 882ms\tremaining: 1.74s\n",
      "336:\tlearn: 0.3673632\ttotal: 885ms\tremaining: 1.74s\n",
      "337:\tlearn: 0.3671892\ttotal: 887ms\tremaining: 1.74s\n",
      "338:\tlearn: 0.3670307\ttotal: 889ms\tremaining: 1.73s\n",
      "339:\tlearn: 0.3669161\ttotal: 891ms\tremaining: 1.73s\n",
      "340:\tlearn: 0.3667517\ttotal: 894ms\tremaining: 1.73s\n",
      "341:\tlearn: 0.3665424\ttotal: 896ms\tremaining: 1.72s\n",
      "342:\tlearn: 0.3663319\ttotal: 898ms\tremaining: 1.72s\n",
      "343:\tlearn: 0.3660734\ttotal: 901ms\tremaining: 1.72s\n",
      "344:\tlearn: 0.3658656\ttotal: 903ms\tremaining: 1.72s\n",
      "345:\tlearn: 0.3656922\ttotal: 906ms\tremaining: 1.71s\n",
      "346:\tlearn: 0.3655127\ttotal: 908ms\tremaining: 1.71s\n",
      "347:\tlearn: 0.3653668\ttotal: 911ms\tremaining: 1.71s\n"
     ]
    },
    {
     "name": "stdout",
     "output_type": "stream",
     "text": [
      "348:\tlearn: 0.3652590\ttotal: 913ms\tremaining: 1.7s\n",
      "349:\tlearn: 0.3650972\ttotal: 915ms\tremaining: 1.7s\n",
      "350:\tlearn: 0.3649143\ttotal: 918ms\tremaining: 1.7s\n",
      "351:\tlearn: 0.3647815\ttotal: 920ms\tremaining: 1.69s\n",
      "352:\tlearn: 0.3646405\ttotal: 922ms\tremaining: 1.69s\n",
      "353:\tlearn: 0.3643614\ttotal: 924ms\tremaining: 1.69s\n",
      "354:\tlearn: 0.3641333\ttotal: 927ms\tremaining: 1.68s\n",
      "355:\tlearn: 0.3639497\ttotal: 930ms\tremaining: 1.68s\n",
      "356:\tlearn: 0.3638606\ttotal: 932ms\tremaining: 1.68s\n",
      "357:\tlearn: 0.3637130\ttotal: 935ms\tremaining: 1.68s\n",
      "358:\tlearn: 0.3635173\ttotal: 937ms\tremaining: 1.67s\n",
      "359:\tlearn: 0.3633251\ttotal: 940ms\tremaining: 1.67s\n",
      "360:\tlearn: 0.3631661\ttotal: 942ms\tremaining: 1.67s\n",
      "361:\tlearn: 0.3629707\ttotal: 945ms\tremaining: 1.66s\n",
      "362:\tlearn: 0.3628865\ttotal: 949ms\tremaining: 1.67s\n",
      "363:\tlearn: 0.3627209\ttotal: 952ms\tremaining: 1.66s\n",
      "364:\tlearn: 0.3625991\ttotal: 954ms\tremaining: 1.66s\n",
      "365:\tlearn: 0.3624353\ttotal: 957ms\tremaining: 1.66s\n",
      "366:\tlearn: 0.3622986\ttotal: 959ms\tremaining: 1.65s\n",
      "367:\tlearn: 0.3620725\ttotal: 961ms\tremaining: 1.65s\n",
      "368:\tlearn: 0.3619237\ttotal: 964ms\tremaining: 1.65s\n",
      "369:\tlearn: 0.3616316\ttotal: 966ms\tremaining: 1.64s\n",
      "370:\tlearn: 0.3614488\ttotal: 968ms\tremaining: 1.64s\n",
      "371:\tlearn: 0.3612703\ttotal: 971ms\tremaining: 1.64s\n",
      "372:\tlearn: 0.3610601\ttotal: 973ms\tremaining: 1.64s\n",
      "373:\tlearn: 0.3608044\ttotal: 975ms\tremaining: 1.63s\n",
      "374:\tlearn: 0.3606858\ttotal: 978ms\tremaining: 1.63s\n"
     ]
    },
    {
     "name": "stdout",
     "output_type": "stream",
     "text": [
      "375:\tlearn: 0.3604457\ttotal: 981ms\tremaining: 1.63s\n",
      "376:\tlearn: 0.3603208\ttotal: 983ms\tremaining: 1.62s\n",
      "377:\tlearn: 0.3601890\ttotal: 986ms\tremaining: 1.62s\n",
      "378:\tlearn: 0.3599749\ttotal: 988ms\tremaining: 1.62s\n",
      "379:\tlearn: 0.3598741\ttotal: 991ms\tremaining: 1.62s\n",
      "380:\tlearn: 0.3597665\ttotal: 993ms\tremaining: 1.61s\n",
      "381:\tlearn: 0.3596072\ttotal: 995ms\tremaining: 1.61s\n",
      "382:\tlearn: 0.3593778\ttotal: 998ms\tremaining: 1.61s\n",
      "383:\tlearn: 0.3592295\ttotal: 1s\tremaining: 1.6s\n",
      "384:\tlearn: 0.3590355\ttotal: 1s\tremaining: 1.6s\n",
      "385:\tlearn: 0.3589073\ttotal: 1s\tremaining: 1.6s\n",
      "386:\tlearn: 0.3587393\ttotal: 1.01s\tremaining: 1.59s\n",
      "387:\tlearn: 0.3585866\ttotal: 1.01s\tremaining: 1.59s\n",
      "388:\tlearn: 0.3583857\ttotal: 1.01s\tremaining: 1.59s\n",
      "389:\tlearn: 0.3582878\ttotal: 1.01s\tremaining: 1.59s\n",
      "390:\tlearn: 0.3580159\ttotal: 1.02s\tremaining: 1.58s\n",
      "391:\tlearn: 0.3579432\ttotal: 1.02s\tremaining: 1.58s\n",
      "392:\tlearn: 0.3577828\ttotal: 1.02s\tremaining: 1.58s\n",
      "393:\tlearn: 0.3575857\ttotal: 1.02s\tremaining: 1.57s\n",
      "394:\tlearn: 0.3573928\ttotal: 1.03s\tremaining: 1.57s\n",
      "395:\tlearn: 0.3571869\ttotal: 1.03s\tremaining: 1.57s\n",
      "396:\tlearn: 0.3569880\ttotal: 1.03s\tremaining: 1.57s\n",
      "397:\tlearn: 0.3568288\ttotal: 1.03s\tremaining: 1.56s\n",
      "398:\tlearn: 0.3567348\ttotal: 1.04s\tremaining: 1.56s\n",
      "399:\tlearn: 0.3564402\ttotal: 1.04s\tremaining: 1.56s\n",
      "400:\tlearn: 0.3562857\ttotal: 1.04s\tremaining: 1.55s\n"
     ]
    },
    {
     "name": "stdout",
     "output_type": "stream",
     "text": [
      "401:\tlearn: 0.3561237\ttotal: 1.04s\tremaining: 1.55s\n",
      "402:\tlearn: 0.3559658\ttotal: 1.05s\tremaining: 1.55s\n",
      "403:\tlearn: 0.3558008\ttotal: 1.05s\tremaining: 1.55s\n",
      "404:\tlearn: 0.3556884\ttotal: 1.05s\tremaining: 1.54s\n",
      "405:\tlearn: 0.3555955\ttotal: 1.05s\tremaining: 1.54s\n",
      "406:\tlearn: 0.3554589\ttotal: 1.05s\tremaining: 1.54s\n",
      "407:\tlearn: 0.3553078\ttotal: 1.06s\tremaining: 1.53s\n",
      "408:\tlearn: 0.3550714\ttotal: 1.06s\tremaining: 1.53s\n",
      "409:\tlearn: 0.3549216\ttotal: 1.06s\tremaining: 1.53s\n",
      "410:\tlearn: 0.3548098\ttotal: 1.06s\tremaining: 1.53s\n",
      "411:\tlearn: 0.3545934\ttotal: 1.07s\tremaining: 1.52s\n",
      "412:\tlearn: 0.3544695\ttotal: 1.07s\tremaining: 1.52s\n",
      "413:\tlearn: 0.3543322\ttotal: 1.07s\tremaining: 1.52s\n",
      "414:\tlearn: 0.3542227\ttotal: 1.07s\tremaining: 1.51s\n",
      "415:\tlearn: 0.3540633\ttotal: 1.08s\tremaining: 1.51s\n",
      "416:\tlearn: 0.3538921\ttotal: 1.08s\tremaining: 1.51s\n",
      "417:\tlearn: 0.3536921\ttotal: 1.08s\tremaining: 1.51s\n",
      "418:\tlearn: 0.3534237\ttotal: 1.08s\tremaining: 1.5s\n",
      "419:\tlearn: 0.3532940\ttotal: 1.09s\tremaining: 1.5s\n",
      "420:\tlearn: 0.3531865\ttotal: 1.09s\tremaining: 1.5s\n",
      "421:\tlearn: 0.3530499\ttotal: 1.09s\tremaining: 1.49s\n",
      "422:\tlearn: 0.3528706\ttotal: 1.09s\tremaining: 1.49s\n",
      "423:\tlearn: 0.3526517\ttotal: 1.1s\tremaining: 1.49s\n",
      "424:\tlearn: 0.3525710\ttotal: 1.1s\tremaining: 1.49s\n",
      "425:\tlearn: 0.3524102\ttotal: 1.1s\tremaining: 1.48s\n",
      "426:\tlearn: 0.3523127\ttotal: 1.1s\tremaining: 1.48s\n",
      "427:\tlearn: 0.3522150\ttotal: 1.11s\tremaining: 1.48s\n"
     ]
    },
    {
     "name": "stdout",
     "output_type": "stream",
     "text": [
      "428:\tlearn: 0.3520308\ttotal: 1.11s\tremaining: 1.48s\n",
      "429:\tlearn: 0.3519063\ttotal: 1.11s\tremaining: 1.47s\n",
      "430:\tlearn: 0.3517692\ttotal: 1.11s\tremaining: 1.47s\n",
      "431:\tlearn: 0.3515928\ttotal: 1.11s\tremaining: 1.47s\n",
      "432:\tlearn: 0.3514367\ttotal: 1.12s\tremaining: 1.46s\n",
      "433:\tlearn: 0.3512931\ttotal: 1.12s\tremaining: 1.46s\n",
      "434:\tlearn: 0.3511586\ttotal: 1.12s\tremaining: 1.46s\n",
      "435:\tlearn: 0.3510988\ttotal: 1.13s\tremaining: 1.46s\n",
      "436:\tlearn: 0.3509123\ttotal: 1.13s\tremaining: 1.45s\n",
      "437:\tlearn: 0.3507485\ttotal: 1.13s\tremaining: 1.45s\n",
      "438:\tlearn: 0.3505518\ttotal: 1.13s\tremaining: 1.45s\n",
      "439:\tlearn: 0.3504409\ttotal: 1.14s\tremaining: 1.45s\n",
      "440:\tlearn: 0.3503221\ttotal: 1.14s\tremaining: 1.44s\n",
      "441:\tlearn: 0.3501766\ttotal: 1.14s\tremaining: 1.44s\n",
      "442:\tlearn: 0.3500200\ttotal: 1.14s\tremaining: 1.44s\n",
      "443:\tlearn: 0.3497704\ttotal: 1.15s\tremaining: 1.44s\n",
      "444:\tlearn: 0.3495348\ttotal: 1.15s\tremaining: 1.43s\n",
      "445:\tlearn: 0.3494844\ttotal: 1.15s\tremaining: 1.43s\n",
      "446:\tlearn: 0.3492875\ttotal: 1.15s\tremaining: 1.43s\n",
      "447:\tlearn: 0.3491245\ttotal: 1.16s\tremaining: 1.42s\n",
      "448:\tlearn: 0.3489635\ttotal: 1.16s\tremaining: 1.42s\n",
      "449:\tlearn: 0.3488012\ttotal: 1.16s\tremaining: 1.42s\n",
      "450:\tlearn: 0.3487200\ttotal: 1.16s\tremaining: 1.42s\n",
      "451:\tlearn: 0.3484737\ttotal: 1.17s\tremaining: 1.41s\n",
      "452:\tlearn: 0.3483645\ttotal: 1.17s\tremaining: 1.41s\n",
      "453:\tlearn: 0.3482202\ttotal: 1.17s\tremaining: 1.41s\n",
      "454:\tlearn: 0.3480769\ttotal: 1.17s\tremaining: 1.4s\n",
      "455:\tlearn: 0.3479601\ttotal: 1.18s\tremaining: 1.4s\n"
     ]
    },
    {
     "name": "stdout",
     "output_type": "stream",
     "text": [
      "456:\tlearn: 0.3478246\ttotal: 1.18s\tremaining: 1.4s\n",
      "457:\tlearn: 0.3476335\ttotal: 1.18s\tremaining: 1.4s\n",
      "458:\tlearn: 0.3475785\ttotal: 1.18s\tremaining: 1.39s\n",
      "459:\tlearn: 0.3474711\ttotal: 1.19s\tremaining: 1.39s\n",
      "460:\tlearn: 0.3473350\ttotal: 1.19s\tremaining: 1.39s\n",
      "461:\tlearn: 0.3471744\ttotal: 1.19s\tremaining: 1.39s\n",
      "462:\tlearn: 0.3470347\ttotal: 1.19s\tremaining: 1.38s\n",
      "463:\tlearn: 0.3468230\ttotal: 1.19s\tremaining: 1.38s\n",
      "464:\tlearn: 0.3466783\ttotal: 1.2s\tremaining: 1.38s\n",
      "465:\tlearn: 0.3465258\ttotal: 1.2s\tremaining: 1.37s\n",
      "466:\tlearn: 0.3463132\ttotal: 1.2s\tremaining: 1.37s\n",
      "467:\tlearn: 0.3462187\ttotal: 1.2s\tremaining: 1.37s\n",
      "468:\tlearn: 0.3460967\ttotal: 1.21s\tremaining: 1.37s\n",
      "469:\tlearn: 0.3459801\ttotal: 1.21s\tremaining: 1.36s\n",
      "470:\tlearn: 0.3459041\ttotal: 1.21s\tremaining: 1.36s\n",
      "471:\tlearn: 0.3458005\ttotal: 1.21s\tremaining: 1.36s\n",
      "472:\tlearn: 0.3455452\ttotal: 1.22s\tremaining: 1.35s\n",
      "473:\tlearn: 0.3453882\ttotal: 1.22s\tremaining: 1.35s\n",
      "474:\tlearn: 0.3452378\ttotal: 1.22s\tremaining: 1.35s\n",
      "475:\tlearn: 0.3451442\ttotal: 1.22s\tremaining: 1.35s\n",
      "476:\tlearn: 0.3450066\ttotal: 1.23s\tremaining: 1.34s\n",
      "477:\tlearn: 0.3449008\ttotal: 1.23s\tremaining: 1.34s\n",
      "478:\tlearn: 0.3447456\ttotal: 1.23s\tremaining: 1.34s\n",
      "479:\tlearn: 0.3446331\ttotal: 1.23s\tremaining: 1.34s\n",
      "480:\tlearn: 0.3445319\ttotal: 1.24s\tremaining: 1.33s\n",
      "481:\tlearn: 0.3443353\ttotal: 1.24s\tremaining: 1.33s\n"
     ]
    },
    {
     "name": "stdout",
     "output_type": "stream",
     "text": [
      "482:\tlearn: 0.3442176\ttotal: 1.24s\tremaining: 1.33s\n",
      "483:\tlearn: 0.3441107\ttotal: 1.24s\tremaining: 1.32s\n",
      "484:\tlearn: 0.3439784\ttotal: 1.25s\tremaining: 1.32s\n",
      "485:\tlearn: 0.3437689\ttotal: 1.25s\tremaining: 1.32s\n",
      "486:\tlearn: 0.3436571\ttotal: 1.25s\tremaining: 1.32s\n",
      "487:\tlearn: 0.3434670\ttotal: 1.25s\tremaining: 1.31s\n",
      "488:\tlearn: 0.3433719\ttotal: 1.25s\tremaining: 1.31s\n",
      "489:\tlearn: 0.3432460\ttotal: 1.26s\tremaining: 1.31s\n",
      "490:\tlearn: 0.3431084\ttotal: 1.26s\tremaining: 1.3s\n",
      "491:\tlearn: 0.3430058\ttotal: 1.26s\tremaining: 1.3s\n",
      "492:\tlearn: 0.3427672\ttotal: 1.26s\tremaining: 1.3s\n",
      "493:\tlearn: 0.3426430\ttotal: 1.27s\tremaining: 1.3s\n",
      "494:\tlearn: 0.3425348\ttotal: 1.27s\tremaining: 1.29s\n",
      "495:\tlearn: 0.3424058\ttotal: 1.27s\tremaining: 1.29s\n",
      "496:\tlearn: 0.3422187\ttotal: 1.27s\tremaining: 1.29s\n",
      "497:\tlearn: 0.3421105\ttotal: 1.28s\tremaining: 1.29s\n",
      "498:\tlearn: 0.3419406\ttotal: 1.28s\tremaining: 1.28s\n",
      "499:\tlearn: 0.3418225\ttotal: 1.28s\tremaining: 1.28s\n",
      "500:\tlearn: 0.3416682\ttotal: 1.28s\tremaining: 1.28s\n",
      "501:\tlearn: 0.3415546\ttotal: 1.29s\tremaining: 1.28s\n",
      "502:\tlearn: 0.3414734\ttotal: 1.29s\tremaining: 1.27s\n",
      "503:\tlearn: 0.3413250\ttotal: 1.29s\tremaining: 1.27s\n",
      "504:\tlearn: 0.3412703\ttotal: 1.29s\tremaining: 1.27s\n",
      "505:\tlearn: 0.3411724\ttotal: 1.3s\tremaining: 1.27s\n",
      "506:\tlearn: 0.3410017\ttotal: 1.3s\tremaining: 1.26s\n",
      "507:\tlearn: 0.3409096\ttotal: 1.3s\tremaining: 1.26s\n"
     ]
    },
    {
     "name": "stdout",
     "output_type": "stream",
     "text": [
      "508:\tlearn: 0.3407708\ttotal: 1.3s\tremaining: 1.26s\n",
      "509:\tlearn: 0.3406442\ttotal: 1.31s\tremaining: 1.25s\n",
      "510:\tlearn: 0.3405043\ttotal: 1.31s\tremaining: 1.25s\n",
      "511:\tlearn: 0.3403687\ttotal: 1.31s\tremaining: 1.25s\n",
      "512:\tlearn: 0.3402177\ttotal: 1.31s\tremaining: 1.25s\n",
      "513:\tlearn: 0.3400591\ttotal: 1.32s\tremaining: 1.24s\n",
      "514:\tlearn: 0.3399230\ttotal: 1.32s\tremaining: 1.24s\n",
      "515:\tlearn: 0.3398321\ttotal: 1.32s\tremaining: 1.24s\n",
      "516:\tlearn: 0.3397135\ttotal: 1.32s\tremaining: 1.24s\n",
      "517:\tlearn: 0.3396021\ttotal: 1.33s\tremaining: 1.23s\n",
      "518:\tlearn: 0.3394799\ttotal: 1.33s\tremaining: 1.23s\n",
      "519:\tlearn: 0.3393495\ttotal: 1.33s\tremaining: 1.23s\n",
      "520:\tlearn: 0.3392390\ttotal: 1.33s\tremaining: 1.23s\n",
      "521:\tlearn: 0.3391391\ttotal: 1.34s\tremaining: 1.22s\n",
      "522:\tlearn: 0.3390582\ttotal: 1.34s\tremaining: 1.22s\n",
      "523:\tlearn: 0.3389255\ttotal: 1.34s\tremaining: 1.22s\n",
      "524:\tlearn: 0.3387820\ttotal: 1.34s\tremaining: 1.22s\n",
      "525:\tlearn: 0.3386724\ttotal: 1.35s\tremaining: 1.21s\n",
      "526:\tlearn: 0.3385535\ttotal: 1.35s\tremaining: 1.21s\n",
      "527:\tlearn: 0.3384606\ttotal: 1.35s\tremaining: 1.21s\n",
      "528:\tlearn: 0.3383472\ttotal: 1.35s\tremaining: 1.21s\n",
      "529:\tlearn: 0.3382232\ttotal: 1.35s\tremaining: 1.2s\n",
      "530:\tlearn: 0.3381243\ttotal: 1.36s\tremaining: 1.2s\n",
      "531:\tlearn: 0.3379646\ttotal: 1.36s\tremaining: 1.2s\n",
      "532:\tlearn: 0.3378811\ttotal: 1.36s\tremaining: 1.19s\n",
      "533:\tlearn: 0.3378348\ttotal: 1.36s\tremaining: 1.19s\n",
      "534:\tlearn: 0.3377310\ttotal: 1.37s\tremaining: 1.19s\n",
      "535:\tlearn: 0.3376050\ttotal: 1.37s\tremaining: 1.19s\n"
     ]
    },
    {
     "name": "stdout",
     "output_type": "stream",
     "text": [
      "536:\tlearn: 0.3375085\ttotal: 1.37s\tremaining: 1.18s\n",
      "537:\tlearn: 0.3374027\ttotal: 1.38s\tremaining: 1.18s\n",
      "538:\tlearn: 0.3371627\ttotal: 1.38s\tremaining: 1.18s\n",
      "539:\tlearn: 0.3369777\ttotal: 1.38s\tremaining: 1.18s\n",
      "540:\tlearn: 0.3368081\ttotal: 1.38s\tremaining: 1.17s\n",
      "541:\tlearn: 0.3366939\ttotal: 1.39s\tremaining: 1.17s\n",
      "542:\tlearn: 0.3366074\ttotal: 1.39s\tremaining: 1.17s\n",
      "543:\tlearn: 0.3365086\ttotal: 1.39s\tremaining: 1.17s\n",
      "544:\tlearn: 0.3363743\ttotal: 1.39s\tremaining: 1.16s\n",
      "545:\tlearn: 0.3362286\ttotal: 1.39s\tremaining: 1.16s\n",
      "546:\tlearn: 0.3360900\ttotal: 1.4s\tremaining: 1.16s\n",
      "547:\tlearn: 0.3359600\ttotal: 1.4s\tremaining: 1.15s\n",
      "548:\tlearn: 0.3358800\ttotal: 1.4s\tremaining: 1.15s\n",
      "549:\tlearn: 0.3357916\ttotal: 1.4s\tremaining: 1.15s\n",
      "550:\tlearn: 0.3356981\ttotal: 1.41s\tremaining: 1.15s\n",
      "551:\tlearn: 0.3356408\ttotal: 1.41s\tremaining: 1.14s\n",
      "552:\tlearn: 0.3355076\ttotal: 1.41s\tremaining: 1.14s\n",
      "553:\tlearn: 0.3354022\ttotal: 1.41s\tremaining: 1.14s\n",
      "554:\tlearn: 0.3352142\ttotal: 1.42s\tremaining: 1.14s\n",
      "555:\tlearn: 0.3351070\ttotal: 1.42s\tremaining: 1.13s\n",
      "556:\tlearn: 0.3349870\ttotal: 1.42s\tremaining: 1.13s\n",
      "557:\tlearn: 0.3348480\ttotal: 1.42s\tremaining: 1.13s\n",
      "558:\tlearn: 0.3346791\ttotal: 1.43s\tremaining: 1.13s\n",
      "559:\tlearn: 0.3345734\ttotal: 1.43s\tremaining: 1.12s\n",
      "560:\tlearn: 0.3344334\ttotal: 1.43s\tremaining: 1.12s\n",
      "561:\tlearn: 0.3343117\ttotal: 1.43s\tremaining: 1.12s\n"
     ]
    },
    {
     "name": "stdout",
     "output_type": "stream",
     "text": [
      "562:\tlearn: 0.3341404\ttotal: 1.44s\tremaining: 1.11s\n",
      "563:\tlearn: 0.3339724\ttotal: 1.44s\tremaining: 1.11s\n",
      "564:\tlearn: 0.3338621\ttotal: 1.44s\tremaining: 1.11s\n",
      "565:\tlearn: 0.3337885\ttotal: 1.44s\tremaining: 1.11s\n",
      "566:\tlearn: 0.3336164\ttotal: 1.45s\tremaining: 1.1s\n",
      "567:\tlearn: 0.3334560\ttotal: 1.45s\tremaining: 1.1s\n",
      "568:\tlearn: 0.3333453\ttotal: 1.45s\tremaining: 1.1s\n",
      "569:\tlearn: 0.3332349\ttotal: 1.45s\tremaining: 1.1s\n",
      "570:\tlearn: 0.3331258\ttotal: 1.46s\tremaining: 1.09s\n",
      "571:\tlearn: 0.3329458\ttotal: 1.46s\tremaining: 1.09s\n",
      "572:\tlearn: 0.3328279\ttotal: 1.46s\tremaining: 1.09s\n",
      "573:\tlearn: 0.3326448\ttotal: 1.46s\tremaining: 1.09s\n",
      "574:\tlearn: 0.3324624\ttotal: 1.47s\tremaining: 1.08s\n",
      "575:\tlearn: 0.3323615\ttotal: 1.47s\tremaining: 1.08s\n",
      "576:\tlearn: 0.3322692\ttotal: 1.48s\tremaining: 1.08s\n",
      "577:\tlearn: 0.3321657\ttotal: 1.48s\tremaining: 1.08s\n",
      "578:\tlearn: 0.3320520\ttotal: 1.48s\tremaining: 1.08s\n",
      "579:\tlearn: 0.3318971\ttotal: 1.48s\tremaining: 1.07s\n",
      "580:\tlearn: 0.3317830\ttotal: 1.49s\tremaining: 1.07s\n",
      "581:\tlearn: 0.3316658\ttotal: 1.49s\tremaining: 1.07s\n",
      "582:\tlearn: 0.3315579\ttotal: 1.49s\tremaining: 1.07s\n",
      "583:\tlearn: 0.3314096\ttotal: 1.49s\tremaining: 1.06s\n",
      "584:\tlearn: 0.3312712\ttotal: 1.5s\tremaining: 1.06s\n"
     ]
    },
    {
     "name": "stdout",
     "output_type": "stream",
     "text": [
      "585:\tlearn: 0.3311931\ttotal: 1.5s\tremaining: 1.06s\n",
      "586:\tlearn: 0.3310401\ttotal: 1.5s\tremaining: 1.06s\n",
      "587:\tlearn: 0.3309422\ttotal: 1.5s\tremaining: 1.05s\n",
      "588:\tlearn: 0.3308234\ttotal: 1.51s\tremaining: 1.05s\n",
      "589:\tlearn: 0.3307815\ttotal: 1.51s\tremaining: 1.05s\n",
      "590:\tlearn: 0.3306118\ttotal: 1.51s\tremaining: 1.04s\n",
      "591:\tlearn: 0.3305179\ttotal: 1.51s\tremaining: 1.04s\n",
      "592:\tlearn: 0.3303975\ttotal: 1.51s\tremaining: 1.04s\n",
      "593:\tlearn: 0.3302336\ttotal: 1.52s\tremaining: 1.04s\n",
      "594:\tlearn: 0.3301233\ttotal: 1.52s\tremaining: 1.03s\n",
      "595:\tlearn: 0.3299912\ttotal: 1.52s\tremaining: 1.03s\n",
      "596:\tlearn: 0.3298028\ttotal: 1.52s\tremaining: 1.03s\n",
      "597:\tlearn: 0.3296778\ttotal: 1.53s\tremaining: 1.03s\n",
      "598:\tlearn: 0.3295670\ttotal: 1.53s\tremaining: 1.02s\n",
      "599:\tlearn: 0.3294258\ttotal: 1.53s\tremaining: 1.02s\n",
      "600:\tlearn: 0.3292438\ttotal: 1.53s\tremaining: 1.02s\n",
      "601:\tlearn: 0.3291221\ttotal: 1.54s\tremaining: 1.02s\n",
      "602:\tlearn: 0.3290762\ttotal: 1.54s\tremaining: 1.01s\n",
      "603:\tlearn: 0.3289194\ttotal: 1.54s\tremaining: 1.01s\n",
      "604:\tlearn: 0.3288280\ttotal: 1.54s\tremaining: 1.01s\n",
      "605:\tlearn: 0.3286937\ttotal: 1.55s\tremaining: 1s\n",
      "606:\tlearn: 0.3286214\ttotal: 1.55s\tremaining: 1s\n",
      "607:\tlearn: 0.3285190\ttotal: 1.55s\tremaining: 1s\n",
      "608:\tlearn: 0.3283365\ttotal: 1.55s\tremaining: 998ms\n",
      "609:\tlearn: 0.3282064\ttotal: 1.56s\tremaining: 995ms\n",
      "610:\tlearn: 0.3280545\ttotal: 1.56s\tremaining: 993ms\n",
      "611:\tlearn: 0.3278519\ttotal: 1.56s\tremaining: 990ms\n",
      "612:\tlearn: 0.3276632\ttotal: 1.56s\tremaining: 987ms\n",
      "613:\tlearn: 0.3275134\ttotal: 1.57s\tremaining: 985ms\n"
     ]
    },
    {
     "name": "stdout",
     "output_type": "stream",
     "text": [
      "614:\tlearn: 0.3274024\ttotal: 1.57s\tremaining: 982ms\n",
      "615:\tlearn: 0.3273150\ttotal: 1.57s\tremaining: 980ms\n",
      "616:\tlearn: 0.3272529\ttotal: 1.57s\tremaining: 977ms\n",
      "617:\tlearn: 0.3271740\ttotal: 1.58s\tremaining: 975ms\n",
      "618:\tlearn: 0.3270552\ttotal: 1.58s\tremaining: 972ms\n",
      "619:\tlearn: 0.3270017\ttotal: 1.58s\tremaining: 969ms\n",
      "620:\tlearn: 0.3268757\ttotal: 1.58s\tremaining: 966ms\n",
      "621:\tlearn: 0.3267932\ttotal: 1.58s\tremaining: 964ms\n",
      "622:\tlearn: 0.3267025\ttotal: 1.59s\tremaining: 961ms\n",
      "623:\tlearn: 0.3265519\ttotal: 1.59s\tremaining: 958ms\n",
      "624:\tlearn: 0.3264688\ttotal: 1.59s\tremaining: 956ms\n",
      "625:\tlearn: 0.3263441\ttotal: 1.59s\tremaining: 953ms\n",
      "626:\tlearn: 0.3262067\ttotal: 1.6s\tremaining: 951ms\n",
      "627:\tlearn: 0.3260915\ttotal: 1.6s\tremaining: 948ms\n",
      "628:\tlearn: 0.3260235\ttotal: 1.6s\tremaining: 945ms\n",
      "629:\tlearn: 0.3259203\ttotal: 1.6s\tremaining: 943ms\n",
      "630:\tlearn: 0.3257992\ttotal: 1.61s\tremaining: 940ms\n",
      "631:\tlearn: 0.3257128\ttotal: 1.61s\tremaining: 937ms\n",
      "632:\tlearn: 0.3255495\ttotal: 1.61s\tremaining: 935ms\n",
      "633:\tlearn: 0.3254660\ttotal: 1.61s\tremaining: 932ms\n",
      "634:\tlearn: 0.3253781\ttotal: 1.62s\tremaining: 930ms\n",
      "635:\tlearn: 0.3252864\ttotal: 1.62s\tremaining: 927ms\n",
      "636:\tlearn: 0.3252004\ttotal: 1.62s\tremaining: 924ms\n",
      "637:\tlearn: 0.3251214\ttotal: 1.62s\tremaining: 922ms\n",
      "638:\tlearn: 0.3249686\ttotal: 1.63s\tremaining: 919ms\n",
      "639:\tlearn: 0.3248968\ttotal: 1.63s\tremaining: 917ms\n"
     ]
    },
    {
     "name": "stdout",
     "output_type": "stream",
     "text": [
      "640:\tlearn: 0.3247421\ttotal: 1.63s\tremaining: 914ms\n",
      "641:\tlearn: 0.3246335\ttotal: 1.63s\tremaining: 912ms\n",
      "642:\tlearn: 0.3244863\ttotal: 1.64s\tremaining: 909ms\n",
      "643:\tlearn: 0.3243944\ttotal: 1.64s\tremaining: 906ms\n",
      "644:\tlearn: 0.3242726\ttotal: 1.64s\tremaining: 904ms\n",
      "645:\tlearn: 0.3241471\ttotal: 1.64s\tremaining: 901ms\n",
      "646:\tlearn: 0.3240600\ttotal: 1.65s\tremaining: 898ms\n",
      "647:\tlearn: 0.3239305\ttotal: 1.65s\tremaining: 896ms\n",
      "648:\tlearn: 0.3238656\ttotal: 1.65s\tremaining: 893ms\n",
      "649:\tlearn: 0.3236980\ttotal: 1.65s\tremaining: 891ms\n",
      "650:\tlearn: 0.3235746\ttotal: 1.66s\tremaining: 888ms\n",
      "651:\tlearn: 0.3234616\ttotal: 1.66s\tremaining: 886ms\n",
      "652:\tlearn: 0.3233422\ttotal: 1.66s\tremaining: 883ms\n",
      "653:\tlearn: 0.3232042\ttotal: 1.66s\tremaining: 881ms\n",
      "654:\tlearn: 0.3231096\ttotal: 1.67s\tremaining: 878ms\n",
      "655:\tlearn: 0.3229964\ttotal: 1.67s\tremaining: 876ms\n",
      "656:\tlearn: 0.3229334\ttotal: 1.67s\tremaining: 873ms\n",
      "657:\tlearn: 0.3228114\ttotal: 1.67s\tremaining: 870ms\n",
      "658:\tlearn: 0.3226987\ttotal: 1.68s\tremaining: 868ms\n",
      "659:\tlearn: 0.3226166\ttotal: 1.68s\tremaining: 865ms\n",
      "660:\tlearn: 0.3225072\ttotal: 1.68s\tremaining: 863ms\n",
      "661:\tlearn: 0.3224347\ttotal: 1.68s\tremaining: 860ms\n",
      "662:\tlearn: 0.3223471\ttotal: 1.69s\tremaining: 857ms\n",
      "663:\tlearn: 0.3222886\ttotal: 1.69s\tremaining: 855ms\n",
      "664:\tlearn: 0.3221988\ttotal: 1.69s\tremaining: 852ms\n"
     ]
    },
    {
     "name": "stdout",
     "output_type": "stream",
     "text": [
      "665:\tlearn: 0.3221211\ttotal: 1.69s\tremaining: 850ms\n",
      "666:\tlearn: 0.3219624\ttotal: 1.7s\tremaining: 847ms\n",
      "667:\tlearn: 0.3218564\ttotal: 1.7s\tremaining: 844ms\n",
      "668:\tlearn: 0.3217113\ttotal: 1.7s\tremaining: 842ms\n",
      "669:\tlearn: 0.3216044\ttotal: 1.7s\tremaining: 839ms\n",
      "670:\tlearn: 0.3215516\ttotal: 1.71s\tremaining: 836ms\n",
      "671:\tlearn: 0.3214416\ttotal: 1.71s\tremaining: 834ms\n",
      "672:\tlearn: 0.3213383\ttotal: 1.71s\tremaining: 831ms\n",
      "673:\tlearn: 0.3212357\ttotal: 1.71s\tremaining: 828ms\n",
      "674:\tlearn: 0.3211540\ttotal: 1.72s\tremaining: 826ms\n",
      "675:\tlearn: 0.3210865\ttotal: 1.72s\tremaining: 823ms\n",
      "676:\tlearn: 0.3209367\ttotal: 1.72s\tremaining: 821ms\n",
      "677:\tlearn: 0.3208432\ttotal: 1.72s\tremaining: 818ms\n",
      "678:\tlearn: 0.3207538\ttotal: 1.72s\tremaining: 815ms\n",
      "679:\tlearn: 0.3206469\ttotal: 1.73s\tremaining: 813ms\n",
      "680:\tlearn: 0.3204889\ttotal: 1.73s\tremaining: 810ms\n",
      "681:\tlearn: 0.3203920\ttotal: 1.73s\tremaining: 808ms\n",
      "682:\tlearn: 0.3203114\ttotal: 1.73s\tremaining: 805ms\n",
      "683:\tlearn: 0.3202227\ttotal: 1.74s\tremaining: 803ms\n",
      "684:\tlearn: 0.3201304\ttotal: 1.74s\tremaining: 800ms\n",
      "685:\tlearn: 0.3200130\ttotal: 1.74s\tremaining: 798ms\n",
      "686:\tlearn: 0.3198893\ttotal: 1.74s\tremaining: 795ms\n",
      "687:\tlearn: 0.3198386\ttotal: 1.75s\tremaining: 792ms\n",
      "688:\tlearn: 0.3196750\ttotal: 1.75s\tremaining: 790ms\n",
      "689:\tlearn: 0.3195962\ttotal: 1.75s\tremaining: 788ms\n",
      "690:\tlearn: 0.3195208\ttotal: 1.75s\tremaining: 785ms\n",
      "691:\tlearn: 0.3194450\ttotal: 1.76s\tremaining: 782ms\n",
      "692:\tlearn: 0.3193243\ttotal: 1.76s\tremaining: 780ms\n",
      "693:\tlearn: 0.3192130\ttotal: 1.76s\tremaining: 777ms\n"
     ]
    },
    {
     "name": "stdout",
     "output_type": "stream",
     "text": [
      "694:\tlearn: 0.3191156\ttotal: 1.76s\tremaining: 775ms\n",
      "695:\tlearn: 0.3190333\ttotal: 1.77s\tremaining: 772ms\n",
      "696:\tlearn: 0.3189029\ttotal: 1.77s\tremaining: 770ms\n",
      "697:\tlearn: 0.3187969\ttotal: 1.77s\tremaining: 767ms\n",
      "698:\tlearn: 0.3186874\ttotal: 1.78s\tremaining: 765ms\n",
      "699:\tlearn: 0.3185751\ttotal: 1.78s\tremaining: 762ms\n",
      "700:\tlearn: 0.3184816\ttotal: 1.78s\tremaining: 760ms\n",
      "701:\tlearn: 0.3183729\ttotal: 1.78s\tremaining: 757ms\n",
      "702:\tlearn: 0.3183198\ttotal: 1.79s\tremaining: 755ms\n",
      "703:\tlearn: 0.3182548\ttotal: 1.79s\tremaining: 752ms\n",
      "704:\tlearn: 0.3181813\ttotal: 1.79s\tremaining: 749ms\n",
      "705:\tlearn: 0.3180652\ttotal: 1.79s\tremaining: 747ms\n",
      "706:\tlearn: 0.3179956\ttotal: 1.8s\tremaining: 744ms\n",
      "707:\tlearn: 0.3179203\ttotal: 1.8s\tremaining: 742ms\n",
      "708:\tlearn: 0.3178207\ttotal: 1.8s\tremaining: 739ms\n",
      "709:\tlearn: 0.3177273\ttotal: 1.8s\tremaining: 737ms\n",
      "710:\tlearn: 0.3175795\ttotal: 1.81s\tremaining: 734ms\n",
      "711:\tlearn: 0.3174571\ttotal: 1.81s\tremaining: 732ms\n"
     ]
    },
    {
     "name": "stdout",
     "output_type": "stream",
     "text": [
      "712:\tlearn: 0.3173978\ttotal: 1.81s\tremaining: 730ms\n",
      "713:\tlearn: 0.3173397\ttotal: 1.81s\tremaining: 727ms\n",
      "714:\tlearn: 0.3172581\ttotal: 1.82s\tremaining: 725ms\n",
      "715:\tlearn: 0.3171550\ttotal: 1.82s\tremaining: 722ms\n",
      "716:\tlearn: 0.3170615\ttotal: 1.82s\tremaining: 719ms\n",
      "717:\tlearn: 0.3169776\ttotal: 1.82s\tremaining: 717ms\n",
      "718:\tlearn: 0.3168662\ttotal: 1.83s\tremaining: 714ms\n",
      "719:\tlearn: 0.3167654\ttotal: 1.83s\tremaining: 711ms\n",
      "720:\tlearn: 0.3166973\ttotal: 1.83s\tremaining: 709ms\n",
      "721:\tlearn: 0.3165897\ttotal: 1.83s\tremaining: 707ms\n",
      "722:\tlearn: 0.3165198\ttotal: 1.84s\tremaining: 704ms\n",
      "723:\tlearn: 0.3164216\ttotal: 1.84s\tremaining: 702ms\n",
      "724:\tlearn: 0.3163541\ttotal: 1.84s\tremaining: 700ms\n",
      "725:\tlearn: 0.3162794\ttotal: 1.85s\tremaining: 698ms\n",
      "726:\tlearn: 0.3162055\ttotal: 1.85s\tremaining: 695ms\n",
      "727:\tlearn: 0.3161130\ttotal: 1.85s\tremaining: 693ms\n",
      "728:\tlearn: 0.3159748\ttotal: 1.86s\tremaining: 690ms\n",
      "729:\tlearn: 0.3158862\ttotal: 1.86s\tremaining: 688ms\n",
      "730:\tlearn: 0.3158011\ttotal: 1.86s\tremaining: 685ms\n",
      "731:\tlearn: 0.3157408\ttotal: 1.86s\tremaining: 683ms\n",
      "732:\tlearn: 0.3156547\ttotal: 1.87s\tremaining: 680ms\n",
      "733:\tlearn: 0.3155956\ttotal: 1.87s\tremaining: 677ms\n"
     ]
    },
    {
     "name": "stdout",
     "output_type": "stream",
     "text": [
      "734:\tlearn: 0.3154534\ttotal: 1.87s\tremaining: 675ms\n",
      "735:\tlearn: 0.3153301\ttotal: 1.87s\tremaining: 672ms\n",
      "736:\tlearn: 0.3152588\ttotal: 1.88s\tremaining: 670ms\n",
      "737:\tlearn: 0.3151328\ttotal: 1.88s\tremaining: 667ms\n",
      "738:\tlearn: 0.3150371\ttotal: 1.88s\tremaining: 664ms\n",
      "739:\tlearn: 0.3149647\ttotal: 1.88s\tremaining: 662ms\n",
      "740:\tlearn: 0.3148931\ttotal: 1.89s\tremaining: 659ms\n",
      "741:\tlearn: 0.3148068\ttotal: 1.89s\tremaining: 657ms\n",
      "742:\tlearn: 0.3147230\ttotal: 1.89s\tremaining: 654ms\n",
      "743:\tlearn: 0.3145993\ttotal: 1.89s\tremaining: 651ms\n",
      "744:\tlearn: 0.3144887\ttotal: 1.9s\tremaining: 649ms\n",
      "745:\tlearn: 0.3143580\ttotal: 1.9s\tremaining: 646ms\n",
      "746:\tlearn: 0.3142790\ttotal: 1.9s\tremaining: 644ms\n",
      "747:\tlearn: 0.3141640\ttotal: 1.9s\tremaining: 641ms\n",
      "748:\tlearn: 0.3140868\ttotal: 1.91s\tremaining: 639ms\n",
      "749:\tlearn: 0.3140360\ttotal: 1.91s\tremaining: 636ms\n",
      "750:\tlearn: 0.3139921\ttotal: 1.91s\tremaining: 634ms\n",
      "751:\tlearn: 0.3138685\ttotal: 1.91s\tremaining: 631ms\n",
      "752:\tlearn: 0.3137951\ttotal: 1.92s\tremaining: 628ms\n",
      "753:\tlearn: 0.3137362\ttotal: 1.92s\tremaining: 626ms\n",
      "754:\tlearn: 0.3136010\ttotal: 1.92s\tremaining: 623ms\n",
      "755:\tlearn: 0.3134924\ttotal: 1.92s\tremaining: 621ms\n",
      "756:\tlearn: 0.3133075\ttotal: 1.93s\tremaining: 618ms\n",
      "757:\tlearn: 0.3132260\ttotal: 1.93s\tremaining: 616ms\n",
      "758:\tlearn: 0.3131023\ttotal: 1.93s\tremaining: 613ms\n",
      "759:\tlearn: 0.3130550\ttotal: 1.93s\tremaining: 610ms\n",
      "760:\tlearn: 0.3129772\ttotal: 1.94s\tremaining: 608ms\n",
      "761:\tlearn: 0.3128208\ttotal: 1.94s\tremaining: 605ms\n",
      "762:\tlearn: 0.3127276\ttotal: 1.94s\tremaining: 603ms\n",
      "763:\tlearn: 0.3126551\ttotal: 1.94s\tremaining: 600ms\n"
     ]
    },
    {
     "name": "stdout",
     "output_type": "stream",
     "text": [
      "764:\tlearn: 0.3125553\ttotal: 1.95s\tremaining: 598ms\n",
      "765:\tlearn: 0.3124910\ttotal: 1.95s\tremaining: 595ms\n",
      "766:\tlearn: 0.3123977\ttotal: 1.95s\tremaining: 593ms\n",
      "767:\tlearn: 0.3122929\ttotal: 1.95s\tremaining: 590ms\n",
      "768:\tlearn: 0.3122415\ttotal: 1.96s\tremaining: 587ms\n",
      "769:\tlearn: 0.3121575\ttotal: 1.96s\tremaining: 585ms\n",
      "770:\tlearn: 0.3120355\ttotal: 1.96s\tremaining: 582ms\n",
      "771:\tlearn: 0.3119230\ttotal: 1.96s\tremaining: 580ms\n",
      "772:\tlearn: 0.3118851\ttotal: 1.96s\tremaining: 577ms\n",
      "773:\tlearn: 0.3117590\ttotal: 1.97s\tremaining: 574ms\n",
      "774:\tlearn: 0.3116819\ttotal: 1.97s\tremaining: 572ms\n",
      "775:\tlearn: 0.3116006\ttotal: 1.97s\tremaining: 569ms\n",
      "776:\tlearn: 0.3114259\ttotal: 1.97s\tremaining: 567ms\n",
      "777:\tlearn: 0.3113510\ttotal: 1.98s\tremaining: 564ms\n",
      "778:\tlearn: 0.3112847\ttotal: 1.98s\tremaining: 562ms\n",
      "779:\tlearn: 0.3112048\ttotal: 1.98s\tremaining: 559ms\n",
      "780:\tlearn: 0.3111436\ttotal: 1.98s\tremaining: 557ms\n",
      "781:\tlearn: 0.3110641\ttotal: 1.99s\tremaining: 554ms\n",
      "782:\tlearn: 0.3109842\ttotal: 1.99s\tremaining: 551ms\n",
      "783:\tlearn: 0.3109170\ttotal: 1.99s\tremaining: 549ms\n",
      "784:\tlearn: 0.3108041\ttotal: 1.99s\tremaining: 546ms\n",
      "785:\tlearn: 0.3107100\ttotal: 2s\tremaining: 544ms\n",
      "786:\tlearn: 0.3105697\ttotal: 2s\tremaining: 541ms\n",
      "787:\tlearn: 0.3104807\ttotal: 2s\tremaining: 538ms\n",
      "788:\tlearn: 0.3103967\ttotal: 2s\tremaining: 536ms\n",
      "789:\tlearn: 0.3103243\ttotal: 2.01s\tremaining: 533ms\n"
     ]
    },
    {
     "name": "stdout",
     "output_type": "stream",
     "text": [
      "790:\tlearn: 0.3102245\ttotal: 2.01s\tremaining: 531ms\n",
      "791:\tlearn: 0.3101301\ttotal: 2.01s\tremaining: 528ms\n",
      "792:\tlearn: 0.3100472\ttotal: 2.01s\tremaining: 526ms\n",
      "793:\tlearn: 0.3099729\ttotal: 2.02s\tremaining: 523ms\n",
      "794:\tlearn: 0.3098936\ttotal: 2.02s\tremaining: 521ms\n",
      "795:\tlearn: 0.3098134\ttotal: 2.02s\tremaining: 518ms\n",
      "796:\tlearn: 0.3097189\ttotal: 2.02s\tremaining: 516ms\n",
      "797:\tlearn: 0.3096442\ttotal: 2.03s\tremaining: 513ms\n",
      "798:\tlearn: 0.3095550\ttotal: 2.03s\tremaining: 511ms\n",
      "799:\tlearn: 0.3094893\ttotal: 2.03s\tremaining: 508ms\n",
      "800:\tlearn: 0.3093841\ttotal: 2.03s\tremaining: 505ms\n",
      "801:\tlearn: 0.3093067\ttotal: 2.04s\tremaining: 503ms\n",
      "802:\tlearn: 0.3091695\ttotal: 2.04s\tremaining: 500ms\n",
      "803:\tlearn: 0.3090606\ttotal: 2.04s\tremaining: 498ms\n",
      "804:\tlearn: 0.3089965\ttotal: 2.04s\tremaining: 495ms\n",
      "805:\tlearn: 0.3088832\ttotal: 2.05s\tremaining: 493ms\n",
      "806:\tlearn: 0.3087340\ttotal: 2.05s\tremaining: 490ms\n",
      "807:\tlearn: 0.3086436\ttotal: 2.05s\tremaining: 488ms\n",
      "808:\tlearn: 0.3086008\ttotal: 2.05s\tremaining: 485ms\n",
      "809:\tlearn: 0.3085521\ttotal: 2.06s\tremaining: 482ms\n",
      "810:\tlearn: 0.3084684\ttotal: 2.06s\tremaining: 480ms\n",
      "811:\tlearn: 0.3084228\ttotal: 2.06s\tremaining: 477ms\n",
      "812:\tlearn: 0.3082903\ttotal: 2.06s\tremaining: 475ms\n",
      "813:\tlearn: 0.3081982\ttotal: 2.07s\tremaining: 472ms\n"
     ]
    },
    {
     "name": "stdout",
     "output_type": "stream",
     "text": [
      "814:\tlearn: 0.3081375\ttotal: 2.07s\tremaining: 470ms\n",
      "815:\tlearn: 0.3080685\ttotal: 2.07s\tremaining: 467ms\n",
      "816:\tlearn: 0.3079603\ttotal: 2.07s\tremaining: 465ms\n",
      "817:\tlearn: 0.3078837\ttotal: 2.08s\tremaining: 462ms\n",
      "818:\tlearn: 0.3078194\ttotal: 2.08s\tremaining: 459ms\n",
      "819:\tlearn: 0.3077207\ttotal: 2.08s\tremaining: 457ms\n",
      "820:\tlearn: 0.3076920\ttotal: 2.08s\tremaining: 454ms\n",
      "821:\tlearn: 0.3075238\ttotal: 2.08s\tremaining: 452ms\n",
      "822:\tlearn: 0.3074724\ttotal: 2.09s\tremaining: 449ms\n",
      "823:\tlearn: 0.3073378\ttotal: 2.09s\tremaining: 446ms\n",
      "824:\tlearn: 0.3072476\ttotal: 2.09s\tremaining: 444ms\n",
      "825:\tlearn: 0.3071703\ttotal: 2.1s\tremaining: 441ms\n",
      "826:\tlearn: 0.3071017\ttotal: 2.1s\tremaining: 439ms\n",
      "827:\tlearn: 0.3070275\ttotal: 2.1s\tremaining: 436ms\n",
      "828:\tlearn: 0.3069428\ttotal: 2.1s\tremaining: 434ms\n",
      "829:\tlearn: 0.3068747\ttotal: 2.1s\tremaining: 431ms\n",
      "830:\tlearn: 0.3068001\ttotal: 2.11s\tremaining: 429ms\n",
      "831:\tlearn: 0.3066731\ttotal: 2.11s\tremaining: 426ms\n",
      "832:\tlearn: 0.3066271\ttotal: 2.11s\tremaining: 424ms\n",
      "833:\tlearn: 0.3065630\ttotal: 2.12s\tremaining: 421ms\n",
      "834:\tlearn: 0.3065063\ttotal: 2.12s\tremaining: 419ms\n",
      "835:\tlearn: 0.3064002\ttotal: 2.12s\tremaining: 416ms\n",
      "836:\tlearn: 0.3063306\ttotal: 2.12s\tremaining: 413ms\n",
      "837:\tlearn: 0.3062266\ttotal: 2.12s\tremaining: 411ms\n",
      "838:\tlearn: 0.3061517\ttotal: 2.13s\tremaining: 408ms\n",
      "839:\tlearn: 0.3060859\ttotal: 2.13s\tremaining: 406ms\n",
      "840:\tlearn: 0.3060046\ttotal: 2.13s\tremaining: 403ms\n",
      "841:\tlearn: 0.3059143\ttotal: 2.13s\tremaining: 400ms\n",
      "842:\tlearn: 0.3058257\ttotal: 2.14s\tremaining: 398ms\n",
      "843:\tlearn: 0.3057344\ttotal: 2.14s\tremaining: 395ms\n"
     ]
    },
    {
     "name": "stdout",
     "output_type": "stream",
     "text": [
      "844:\tlearn: 0.3056394\ttotal: 2.14s\tremaining: 393ms\n",
      "845:\tlearn: 0.3055520\ttotal: 2.14s\tremaining: 390ms\n",
      "846:\tlearn: 0.3054653\ttotal: 2.15s\tremaining: 388ms\n",
      "847:\tlearn: 0.3053647\ttotal: 2.15s\tremaining: 385ms\n",
      "848:\tlearn: 0.3052559\ttotal: 2.15s\tremaining: 383ms\n",
      "849:\tlearn: 0.3051719\ttotal: 2.15s\tremaining: 380ms\n",
      "850:\tlearn: 0.3050609\ttotal: 2.15s\tremaining: 377ms\n",
      "851:\tlearn: 0.3050031\ttotal: 2.16s\tremaining: 375ms\n",
      "852:\tlearn: 0.3049570\ttotal: 2.16s\tremaining: 372ms\n",
      "853:\tlearn: 0.3048939\ttotal: 2.16s\tremaining: 370ms\n",
      "854:\tlearn: 0.3048553\ttotal: 2.16s\tremaining: 367ms\n",
      "855:\tlearn: 0.3048139\ttotal: 2.17s\tremaining: 365ms\n",
      "856:\tlearn: 0.3047273\ttotal: 2.17s\tremaining: 362ms\n",
      "857:\tlearn: 0.3046714\ttotal: 2.17s\tremaining: 359ms\n",
      "858:\tlearn: 0.3045895\ttotal: 2.17s\tremaining: 357ms\n",
      "859:\tlearn: 0.3045276\ttotal: 2.18s\tremaining: 354ms\n",
      "860:\tlearn: 0.3044108\ttotal: 2.18s\tremaining: 352ms\n",
      "861:\tlearn: 0.3043348\ttotal: 2.18s\tremaining: 349ms\n",
      "862:\tlearn: 0.3042466\ttotal: 2.18s\tremaining: 347ms\n",
      "863:\tlearn: 0.3041972\ttotal: 2.19s\tremaining: 344ms\n",
      "864:\tlearn: 0.3041151\ttotal: 2.19s\tremaining: 341ms\n",
      "865:\tlearn: 0.3040107\ttotal: 2.19s\tremaining: 339ms\n",
      "866:\tlearn: 0.3039578\ttotal: 2.19s\tremaining: 336ms\n",
      "867:\tlearn: 0.3038504\ttotal: 2.19s\tremaining: 334ms\n",
      "868:\tlearn: 0.3037734\ttotal: 2.2s\tremaining: 331ms\n",
      "869:\tlearn: 0.3037206\ttotal: 2.2s\tremaining: 329ms\n",
      "870:\tlearn: 0.3036185\ttotal: 2.2s\tremaining: 326ms\n"
     ]
    },
    {
     "name": "stdout",
     "output_type": "stream",
     "text": [
      "871:\tlearn: 0.3035536\ttotal: 2.2s\tremaining: 324ms\n",
      "872:\tlearn: 0.3034357\ttotal: 2.21s\tremaining: 321ms\n",
      "873:\tlearn: 0.3033311\ttotal: 2.21s\tremaining: 319ms\n",
      "874:\tlearn: 0.3032125\ttotal: 2.21s\tremaining: 316ms\n",
      "875:\tlearn: 0.3031544\ttotal: 2.21s\tremaining: 314ms\n",
      "876:\tlearn: 0.3031014\ttotal: 2.22s\tremaining: 311ms\n",
      "877:\tlearn: 0.3030144\ttotal: 2.22s\tremaining: 308ms\n",
      "878:\tlearn: 0.3029556\ttotal: 2.22s\tremaining: 306ms\n",
      "879:\tlearn: 0.3028867\ttotal: 2.22s\tremaining: 303ms\n",
      "880:\tlearn: 0.3027851\ttotal: 2.23s\tremaining: 301ms\n",
      "881:\tlearn: 0.3027287\ttotal: 2.23s\tremaining: 298ms\n",
      "882:\tlearn: 0.3026731\ttotal: 2.23s\tremaining: 296ms\n",
      "883:\tlearn: 0.3025959\ttotal: 2.23s\tremaining: 293ms\n",
      "884:\tlearn: 0.3025196\ttotal: 2.24s\tremaining: 291ms\n",
      "885:\tlearn: 0.3024425\ttotal: 2.24s\tremaining: 288ms\n",
      "886:\tlearn: 0.3023346\ttotal: 2.24s\tremaining: 286ms\n",
      "887:\tlearn: 0.3022980\ttotal: 2.24s\tremaining: 283ms\n",
      "888:\tlearn: 0.3022037\ttotal: 2.25s\tremaining: 280ms\n",
      "889:\tlearn: 0.3021095\ttotal: 2.25s\tremaining: 278ms\n",
      "890:\tlearn: 0.3020655\ttotal: 2.25s\tremaining: 275ms\n",
      "891:\tlearn: 0.3020088\ttotal: 2.25s\tremaining: 273ms\n",
      "892:\tlearn: 0.3019491\ttotal: 2.25s\tremaining: 270ms\n",
      "893:\tlearn: 0.3018290\ttotal: 2.26s\tremaining: 268ms\n",
      "894:\tlearn: 0.3017006\ttotal: 2.26s\tremaining: 265ms\n",
      "895:\tlearn: 0.3016118\ttotal: 2.26s\tremaining: 263ms\n"
     ]
    },
    {
     "name": "stdout",
     "output_type": "stream",
     "text": [
      "896:\tlearn: 0.3015250\ttotal: 2.27s\tremaining: 260ms\n",
      "897:\tlearn: 0.3013646\ttotal: 2.27s\tremaining: 258ms\n",
      "898:\tlearn: 0.3013135\ttotal: 2.27s\tremaining: 255ms\n",
      "899:\tlearn: 0.3012381\ttotal: 2.27s\tremaining: 253ms\n",
      "900:\tlearn: 0.3011527\ttotal: 2.27s\tremaining: 250ms\n",
      "901:\tlearn: 0.3010969\ttotal: 2.28s\tremaining: 247ms\n",
      "902:\tlearn: 0.3010379\ttotal: 2.28s\tremaining: 245ms\n",
      "903:\tlearn: 0.3009501\ttotal: 2.28s\tremaining: 242ms\n",
      "904:\tlearn: 0.3008412\ttotal: 2.28s\tremaining: 240ms\n",
      "905:\tlearn: 0.3007715\ttotal: 2.29s\tremaining: 237ms\n",
      "906:\tlearn: 0.3007245\ttotal: 2.29s\tremaining: 235ms\n",
      "907:\tlearn: 0.3006766\ttotal: 2.29s\tremaining: 232ms\n",
      "908:\tlearn: 0.3005871\ttotal: 2.29s\tremaining: 230ms\n",
      "909:\tlearn: 0.3005031\ttotal: 2.3s\tremaining: 227ms\n",
      "910:\tlearn: 0.3004142\ttotal: 2.3s\tremaining: 225ms\n",
      "911:\tlearn: 0.3003084\ttotal: 2.3s\tremaining: 222ms\n",
      "912:\tlearn: 0.3001629\ttotal: 2.31s\tremaining: 220ms\n",
      "913:\tlearn: 0.3000783\ttotal: 2.31s\tremaining: 217ms\n",
      "914:\tlearn: 0.3000124\ttotal: 2.31s\tremaining: 215ms\n",
      "915:\tlearn: 0.2999596\ttotal: 2.31s\tremaining: 212ms\n",
      "916:\tlearn: 0.2998850\ttotal: 2.31s\tremaining: 210ms\n",
      "917:\tlearn: 0.2997825\ttotal: 2.32s\tremaining: 207ms\n",
      "918:\tlearn: 0.2997314\ttotal: 2.32s\tremaining: 204ms\n",
      "919:\tlearn: 0.2996506\ttotal: 2.32s\tremaining: 202ms\n",
      "920:\tlearn: 0.2995906\ttotal: 2.32s\tremaining: 199ms\n",
      "921:\tlearn: 0.2995497\ttotal: 2.33s\tremaining: 197ms\n",
      "922:\tlearn: 0.2994805\ttotal: 2.33s\tremaining: 194ms\n",
      "923:\tlearn: 0.2994056\ttotal: 2.33s\tremaining: 192ms\n",
      "924:\tlearn: 0.2993343\ttotal: 2.33s\tremaining: 189ms\n"
     ]
    },
    {
     "name": "stdout",
     "output_type": "stream",
     "text": [
      "925:\tlearn: 0.2992518\ttotal: 2.33s\tremaining: 187ms\n",
      "926:\tlearn: 0.2991787\ttotal: 2.34s\tremaining: 184ms\n",
      "927:\tlearn: 0.2990978\ttotal: 2.34s\tremaining: 182ms\n",
      "928:\tlearn: 0.2990517\ttotal: 2.34s\tremaining: 179ms\n",
      "929:\tlearn: 0.2989852\ttotal: 2.35s\tremaining: 177ms\n",
      "930:\tlearn: 0.2989145\ttotal: 2.35s\tremaining: 174ms\n",
      "931:\tlearn: 0.2987993\ttotal: 2.35s\tremaining: 171ms\n",
      "932:\tlearn: 0.2987207\ttotal: 2.35s\tremaining: 169ms\n",
      "933:\tlearn: 0.2986674\ttotal: 2.35s\tremaining: 166ms\n",
      "934:\tlearn: 0.2986290\ttotal: 2.36s\tremaining: 164ms\n",
      "935:\tlearn: 0.2985531\ttotal: 2.36s\tremaining: 161ms\n",
      "936:\tlearn: 0.2984819\ttotal: 2.36s\tremaining: 159ms\n",
      "937:\tlearn: 0.2983909\ttotal: 2.36s\tremaining: 156ms\n",
      "938:\tlearn: 0.2983465\ttotal: 2.37s\tremaining: 154ms\n",
      "939:\tlearn: 0.2982734\ttotal: 2.37s\tremaining: 151ms\n",
      "940:\tlearn: 0.2982093\ttotal: 2.37s\tremaining: 149ms\n",
      "941:\tlearn: 0.2980681\ttotal: 2.37s\tremaining: 146ms\n",
      "942:\tlearn: 0.2979714\ttotal: 2.38s\tremaining: 144ms\n",
      "943:\tlearn: 0.2979344\ttotal: 2.38s\tremaining: 141ms\n",
      "944:\tlearn: 0.2978901\ttotal: 2.38s\tremaining: 139ms\n",
      "945:\tlearn: 0.2978183\ttotal: 2.38s\tremaining: 136ms\n",
      "946:\tlearn: 0.2977749\ttotal: 2.39s\tremaining: 134ms\n",
      "947:\tlearn: 0.2977054\ttotal: 2.39s\tremaining: 131ms\n",
      "948:\tlearn: 0.2976434\ttotal: 2.39s\tremaining: 128ms\n",
      "949:\tlearn: 0.2975882\ttotal: 2.39s\tremaining: 126ms\n",
      "950:\tlearn: 0.2975056\ttotal: 2.4s\tremaining: 123ms\n",
      "951:\tlearn: 0.2974208\ttotal: 2.4s\tremaining: 121ms\n"
     ]
    },
    {
     "name": "stdout",
     "output_type": "stream",
     "text": [
      "952:\tlearn: 0.2973386\ttotal: 2.4s\tremaining: 118ms\n",
      "953:\tlearn: 0.2972632\ttotal: 2.4s\tremaining: 116ms\n",
      "954:\tlearn: 0.2972181\ttotal: 2.4s\tremaining: 113ms\n",
      "955:\tlearn: 0.2971947\ttotal: 2.41s\tremaining: 111ms\n",
      "956:\tlearn: 0.2970908\ttotal: 2.41s\tremaining: 108ms\n",
      "957:\tlearn: 0.2970069\ttotal: 2.41s\tremaining: 106ms\n",
      "958:\tlearn: 0.2968868\ttotal: 2.41s\tremaining: 103ms\n",
      "959:\tlearn: 0.2968463\ttotal: 2.42s\tremaining: 101ms\n",
      "960:\tlearn: 0.2968220\ttotal: 2.42s\tremaining: 98.2ms\n",
      "961:\tlearn: 0.2967616\ttotal: 2.42s\tremaining: 95.7ms\n",
      "962:\tlearn: 0.2967178\ttotal: 2.42s\tremaining: 93.1ms\n",
      "963:\tlearn: 0.2966817\ttotal: 2.43s\tremaining: 90.6ms\n",
      "964:\tlearn: 0.2965979\ttotal: 2.43s\tremaining: 88.1ms\n",
      "965:\tlearn: 0.2965405\ttotal: 2.43s\tremaining: 85.6ms\n",
      "966:\tlearn: 0.2964475\ttotal: 2.43s\tremaining: 83.1ms\n",
      "967:\tlearn: 0.2963596\ttotal: 2.44s\tremaining: 80.5ms\n",
      "968:\tlearn: 0.2962919\ttotal: 2.44s\tremaining: 78ms\n",
      "969:\tlearn: 0.2961955\ttotal: 2.44s\tremaining: 75.5ms\n",
      "970:\tlearn: 0.2961309\ttotal: 2.44s\tremaining: 73ms\n",
      "971:\tlearn: 0.2960850\ttotal: 2.44s\tremaining: 70.5ms\n",
      "972:\tlearn: 0.2960280\ttotal: 2.45s\tremaining: 67.9ms\n",
      "973:\tlearn: 0.2959717\ttotal: 2.45s\tremaining: 65.4ms\n",
      "974:\tlearn: 0.2959180\ttotal: 2.45s\tremaining: 62.9ms\n",
      "975:\tlearn: 0.2958457\ttotal: 2.45s\tremaining: 60.4ms\n",
      "976:\tlearn: 0.2957944\ttotal: 2.46s\tremaining: 57.9ms\n"
     ]
    },
    {
     "name": "stdout",
     "output_type": "stream",
     "text": [
      "977:\tlearn: 0.2957288\ttotal: 2.46s\tremaining: 55.3ms\n",
      "978:\tlearn: 0.2956482\ttotal: 2.46s\tremaining: 52.8ms\n",
      "979:\tlearn: 0.2955941\ttotal: 2.46s\tremaining: 50.3ms\n",
      "980:\tlearn: 0.2955159\ttotal: 2.47s\tremaining: 47.8ms\n",
      "981:\tlearn: 0.2954675\ttotal: 2.47s\tremaining: 45.3ms\n",
      "982:\tlearn: 0.2953955\ttotal: 2.47s\tremaining: 42.8ms\n",
      "983:\tlearn: 0.2952952\ttotal: 2.47s\tremaining: 40.2ms\n",
      "984:\tlearn: 0.2952384\ttotal: 2.48s\tremaining: 37.7ms\n",
      "985:\tlearn: 0.2951184\ttotal: 2.48s\tremaining: 35.2ms\n",
      "986:\tlearn: 0.2950040\ttotal: 2.48s\tremaining: 32.7ms\n",
      "987:\tlearn: 0.2949209\ttotal: 2.48s\tremaining: 30.2ms\n",
      "988:\tlearn: 0.2948731\ttotal: 2.49s\tremaining: 27.7ms\n",
      "989:\tlearn: 0.2948089\ttotal: 2.49s\tremaining: 25.1ms\n",
      "990:\tlearn: 0.2947230\ttotal: 2.49s\tremaining: 22.6ms\n",
      "991:\tlearn: 0.2946335\ttotal: 2.49s\tremaining: 20.1ms\n",
      "992:\tlearn: 0.2945649\ttotal: 2.5s\tremaining: 17.6ms\n",
      "993:\tlearn: 0.2944679\ttotal: 2.5s\tremaining: 15.1ms\n",
      "994:\tlearn: 0.2944306\ttotal: 2.5s\tremaining: 12.6ms\n",
      "995:\tlearn: 0.2943599\ttotal: 2.5s\tremaining: 10.1ms\n",
      "996:\tlearn: 0.2942838\ttotal: 2.51s\tremaining: 7.54ms\n",
      "997:\tlearn: 0.2942239\ttotal: 2.51s\tremaining: 5.03ms\n",
      "998:\tlearn: 0.2941574\ttotal: 2.51s\tremaining: 2.51ms\n",
      "999:\tlearn: 0.2940974\ttotal: 2.51s\tremaining: 0us\n"
     ]
    },
    {
     "name": "stdout",
     "output_type": "stream",
     "text": [
      "Mean Squared error 0.15089027165584573\n"
     ]
    },
    {
     "data": {
      "application/scrapbook.scrap.json+json": {
       "data": 0.15089027165584573,
       "encoder": "json",
       "name": "Catboost MAE",
       "version": 1
      }
     },
     "metadata": {
      "scrapbook": {
       "data": true,
       "display": false,
       "name": "Catboost MAE"
      }
     },
     "output_type": "display_data"
    }
   ],
   "source": [
    "mae_cb = baselineModels.catboost(X_train,y_train,X_test,y_test)\n",
    "#Store MSE Value\n",
    "sb.glue(\"Catboost MAE\",mae_cb)"
   ]
  }
 ],
 "metadata": {
  "interpreter": {
   "hash": "10498c76ddd8160350534c6544a2b2fb65f2138dbc70420f7c81a3268f830f23"
  },
  "kernelspec": {
   "display_name": "Python 3 (ipykernel)",
   "language": "python",
   "name": "python3"
  },
  "language_info": {
   "codemirror_mode": {
    "name": "ipython",
    "version": 3
   },
   "file_extension": ".py",
   "mimetype": "text/x-python",
   "name": "python",
   "nbconvert_exporter": "python",
   "pygments_lexer": "ipython3",
   "version": "3.8.11"
  },
  "papermill": {
   "default_parameters": {},
   "duration": 5.783371,
   "end_time": "2022-03-02T04:31:01.995947",
   "environment_variables": {},
   "exception": null,
   "input_path": "BaselineModels.ipynb",
   "output_path": "./BaseLine_Model_Output/BaselineModels_output_8.ipynb",
   "parameters": {},
   "start_time": "2022-03-02T04:30:56.212576",
   "version": "2.3.3"
  }
 },
 "nbformat": 4,
 "nbformat_minor": 5
}