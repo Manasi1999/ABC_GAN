{
 "cells": [
  {
   "cell_type": "markdown",
   "id": "fc9d0a22",
   "metadata": {
    "papermill": {
     "duration": 0.013385,
     "end_time": "2022-03-02T04:30:23.365842",
     "exception": false,
     "start_time": "2022-03-02T04:30:23.352457",
     "status": "completed"
    },
    "tags": []
   },
   "source": [
    "## Import Libraries "
   ]
  },
  {
   "cell_type": "code",
   "execution_count": 1,
   "id": "a2200ee6",
   "metadata": {
    "execution": {
     "iopub.execute_input": "2022-03-02T04:30:23.392204Z",
     "iopub.status.busy": "2022-03-02T04:30:23.391547Z",
     "iopub.status.idle": "2022-03-02T04:30:23.394742Z",
     "shell.execute_reply": "2022-03-02T04:30:23.395175Z"
    },
    "papermill": {
     "duration": 0.020993,
     "end_time": "2022-03-02T04:30:23.395439",
     "exception": false,
     "start_time": "2022-03-02T04:30:23.374446",
     "status": "completed"
    },
    "tags": []
   },
   "outputs": [],
   "source": [
    "import warnings\n",
    "import sys\n",
    "sys.path.insert(0, '../../src')\n",
    "warnings.filterwarnings('ignore')"
   ]
  },
  {
   "cell_type": "code",
   "execution_count": 2,
   "id": "c88023b6",
   "metadata": {
    "execution": {
     "iopub.execute_input": "2022-03-02T04:30:23.408995Z",
     "iopub.status.busy": "2022-03-02T04:30:23.408434Z",
     "iopub.status.idle": "2022-03-02T04:30:25.050767Z",
     "shell.execute_reply": "2022-03-02T04:30:25.050997Z"
    },
    "papermill": {
     "duration": 1.650229,
     "end_time": "2022-03-02T04:30:25.051156",
     "exception": false,
     "start_time": "2022-03-02T04:30:23.400927",
     "status": "completed"
    },
    "tags": []
   },
   "outputs": [],
   "source": [
    "import statsModel\n",
    "import scrapbook as sb \n",
    "import torch \n",
    "import statsModel\n",
    "import baselineModels\n",
    "import californiaDataset\n",
    "import dataset \n",
    "from torch.utils.data import random_split \n",
    "from sklearn.model_selection import train_test_split"
   ]
  },
  {
   "cell_type": "markdown",
   "id": "6b77d435",
   "metadata": {
    "papermill": {
     "duration": 0.002881,
     "end_time": "2022-03-02T04:30:25.057151",
     "exception": false,
     "start_time": "2022-03-02T04:30:25.054270",
     "status": "completed"
    },
    "tags": []
   },
   "source": [
    "## Import Dataset \n"
   ]
  },
  {
   "cell_type": "code",
   "execution_count": 3,
   "id": "ec36f98c",
   "metadata": {
    "execution": {
     "iopub.execute_input": "2022-03-02T04:30:25.066643Z",
     "iopub.status.busy": "2022-03-02T04:30:25.066264Z",
     "iopub.status.idle": "2022-03-02T04:30:25.080503Z",
     "shell.execute_reply": "2022-03-02T04:30:25.080797Z"
    },
    "papermill": {
     "duration": 0.019711,
     "end_time": "2022-03-02T04:30:25.080912",
     "exception": false,
     "start_time": "2022-03-02T04:30:25.061201",
     "status": "completed"
    },
    "tags": []
   },
   "outputs": [
    {
     "name": "stdout",
     "output_type": "stream",
     "text": [
      "       X1    X2        X3        X4      X5        X6     X7      X8      Y\n",
      "0  8.3252  41.0  6.984127  1.023810   322.0  2.555556  37.88 -122.23  4.526\n",
      "1  8.3014  21.0  6.238137  0.971880  2401.0  2.109842  37.86 -122.22  3.585\n",
      "2  7.2574  52.0  8.288136  1.073446   496.0  2.802260  37.85 -122.24  3.521\n",
      "3  5.6431  52.0  5.817352  1.073059   558.0  2.547945  37.85 -122.25  3.413\n",
      "4  3.8462  52.0  6.281853  1.081081   565.0  2.181467  37.85 -122.25  3.422\n"
     ]
    }
   ],
   "source": [
    "n_features = 8\n",
    "n_samples= 20640\n",
    "n_target = 1 \n",
    "X,Y = californiaDataset.california_data()"
   ]
  },
  {
   "cell_type": "code",
   "execution_count": 4,
   "id": "99816f3f",
   "metadata": {
    "execution": {
     "iopub.execute_input": "2022-03-02T04:30:25.090089Z",
     "iopub.status.busy": "2022-03-02T04:30:25.089669Z",
     "iopub.status.idle": "2022-03-02T04:30:25.091477Z",
     "shell.execute_reply": "2022-03-02T04:30:25.091770Z"
    },
    "papermill": {
     "duration": 0.007646,
     "end_time": "2022-03-02T04:30:25.091879",
     "exception": false,
     "start_time": "2022-03-02T04:30:25.084233",
     "status": "completed"
    },
    "tags": []
   },
   "outputs": [],
   "source": [
    "# Train test split for dataset \n",
    "real_dataset = dataset.CustomDataset(X,Y)\n",
    "X_train, X_test, y_train, y_test = train_test_split(X, Y, test_size=0.2)"
   ]
  },
  {
   "cell_type": "markdown",
   "id": "9e7b99f4",
   "metadata": {
    "papermill": {
     "duration": 0.002904,
     "end_time": "2022-03-02T04:30:25.097800",
     "exception": false,
     "start_time": "2022-03-02T04:30:25.094896",
     "status": "completed"
    },
    "tags": []
   },
   "source": [
    "## Stats Model \n",
    "\n"
   ]
  },
  {
   "cell_type": "code",
   "execution_count": 5,
   "id": "e58495f9",
   "metadata": {
    "execution": {
     "iopub.execute_input": "2022-03-02T04:30:25.105675Z",
     "iopub.status.busy": "2022-03-02T04:30:25.105306Z",
     "iopub.status.idle": "2022-03-02T04:30:25.209208Z",
     "shell.execute_reply": "2022-03-02T04:30:25.209451Z"
    },
    "papermill": {
     "duration": 0.108904,
     "end_time": "2022-03-02T04:30:25.209572",
     "exception": false,
     "start_time": "2022-03-02T04:30:25.100668",
     "status": "completed"
    },
    "tags": []
   },
   "outputs": [
    {
     "name": "stderr",
     "output_type": "stream",
     "text": [
      "No handles with labels found to put in legend.\n"
     ]
    },
    {
     "name": "stdout",
     "output_type": "stream",
     "text": [
      "                                 OLS Regression Results                                \n",
      "=======================================================================================\n",
      "Dep. Variable:                      y   R-squared (uncentered):                   0.607\n",
      "Model:                            OLS   Adj. R-squared (uncentered):              0.607\n",
      "Method:                 Least Squares   F-statistic:                              3185.\n",
      "Date:                Wed, 02 Mar 2022   Prob (F-statistic):                        0.00\n",
      "Time:                        10:00:25   Log-Likelihood:                         -15652.\n",
      "No. Observations:               16512   AIC:                                  3.132e+04\n",
      "Df Residuals:                   16504   BIC:                                  3.138e+04\n",
      "Df Model:                           8                                                  \n",
      "Covariance Type:            nonrobust                                                  \n",
      "==============================================================================\n",
      "                 coef    std err          t      P>|t|      [0.025      0.975]\n",
      "------------------------------------------------------------------------------\n",
      "x1             0.7156      0.008     93.278      0.000       0.701       0.731\n",
      "x2             0.1037      0.005     19.178      0.000       0.093       0.114\n",
      "x3            -0.2300      0.014    -16.420      0.000      -0.257      -0.203\n",
      "x4             0.2606      0.013     20.427      0.000       0.236       0.286\n",
      "x5            -0.0031      0.005     -0.611      0.541      -0.013       0.007\n",
      "x6            -0.0308      0.004     -7.035      0.000      -0.039      -0.022\n",
      "x7            -0.7699      0.015    -52.016      0.000      -0.799      -0.741\n",
      "x8            -0.7432      0.015    -51.201      0.000      -0.772      -0.715\n",
      "==============================================================================\n",
      "Omnibus:                     3496.909   Durbin-Watson:                   1.991\n",
      "Prob(Omnibus):                  0.000   Jarque-Bera (JB):            11272.456\n",
      "Skew:                           1.074   Prob(JB):                         0.00\n",
      "Kurtosis:                       6.431   Cond. No.                         6.74\n",
      "==============================================================================\n",
      "\n",
      "Notes:\n",
      "[1] R² is computed without centering (uncentered) since the model does not contain a constant.\n",
      "[2] Standard Errors assume that the covariance matrix of the errors is correctly specified.\n"
     ]
    },
    {
     "data": {
      "image/png": "[encoded data removed]",
      "text/plain": [
       "<Figure size 432x288 with 1 Axes>"
      ]
     },
     "metadata": {
      "needs_background": "light"
     },
     "output_type": "display_data"
    },
    {
     "name": "stdout",
     "output_type": "stream",
     "text": [
      "Performance Metrics\n",
      "Mean Squared Error: 0.4097809443403508\n",
      "Mean Absolute Error: 0.46814880131317443\n",
      "Manhattan distance: 1932.5182518207873\n",
      "Euclidean distance: 41.128770200882116\n"
     ]
    },
    {
     "data": {
      "application/scrapbook.scrap.json+json": {
       "data": 0.4097809443403508,
       "encoder": "json",
       "name": "Stats Model MSE",
       "version": 1
      }
     },
     "metadata": {
      "scrapbook": {
       "data": true,
       "display": false,
       "name": "Stats Model MSE"
      }
     },
     "output_type": "display_data"
    },
    {
     "data": {
      "application/scrapbook.scrap.json+json": {
       "data": 0.46814880131317443,
       "encoder": "json",
       "name": "Stats Model MAE",
       "version": 1
      }
     },
     "metadata": {
      "scrapbook": {
       "data": true,
       "display": false,
       "name": "Stats Model MAE"
      }
     },
     "output_type": "display_data"
    },
    {
     "data": {
      "application/scrapbook.scrap.json+json": {
       "data": 1932.5182518207873,
       "encoder": "json",
       "name": "Stats Model Manhattan Distance",
       "version": 1
      }
     },
     "metadata": {
      "scrapbook": {
       "data": true,
       "display": false,
       "name": "Stats Model Manhattan Distance"
      }
     },
     "output_type": "display_data"
    },
    {
     "data": {
      "application/scrapbook.scrap.json+json": {
       "data": 41.128770200882116,
       "encoder": "json",
       "name": "Stats Model Euclidean distance",
       "version": 1
      }
     },
     "metadata": {
      "scrapbook": {
       "data": true,
       "display": false,
       "name": "Stats Model Euclidean distance"
      }
     },
     "output_type": "display_data"
    },
    {
     "data": {
      "application/scrapbook.scrap.json+json": {
       "data": [
        0.7156298750584211,
        0.10371921846248308,
        -0.22997811174155006,
        0.2605658684483213,
        -0.0031476990782188423,
        -0.03075597594319763,
        -0.7699284255704719,
        -0.7432475518785455
       ],
       "encoder": "json",
       "name": "Coefficients",
       "version": 1
      }
     },
     "metadata": {
      "scrapbook": {
       "data": true,
       "display": false,
       "name": "Coefficients"
      }
     },
     "output_type": "display_data"
    }
   ],
   "source": [
    "coefficients , y_pred =statsModel.statsModel(X_train,y_train,X_test,y_test)\n",
    "#Store MSE Value \n",
    "sb.glue(\"Coefficients\",coefficients)"
   ]
  },
  {
   "cell_type": "markdown",
   "id": "0c5c6fa6",
   "metadata": {
    "papermill": {
     "duration": 0.005332,
     "end_time": "2022-03-02T04:30:25.220256",
     "exception": false,
     "start_time": "2022-03-02T04:30:25.214924",
     "status": "completed"
    },
    "tags": []
   },
   "source": [
    "# Catboost Model "
   ]
  },
  {
   "cell_type": "code",
   "execution_count": 6,
   "id": "0ae6b4e6",
   "metadata": {
    "execution": {
     "iopub.execute_input": "2022-03-02T04:30:25.267197Z",
     "iopub.status.busy": "2022-03-02T04:30:25.266787Z",
     "iopub.status.idle": "2022-03-02T04:30:27.915038Z",
     "shell.execute_reply": "2022-03-02T04:30:27.915343Z"
    },
    "papermill": {
     "duration": 2.690153,
     "end_time": "2022-03-02T04:30:27.915463",
     "exception": false,
     "start_time": "2022-03-02T04:30:25.225310",
     "status": "completed"
    },
    "tags": []
   },
   "outputs": [
    {
     "name": "stdout",
     "output_type": "stream",
     "text": [
      "Learning rate set to 0.064294\n"
     ]
    },
    {
     "name": "stdout",
     "output_type": "stream",
     "text": [
      "0:\tlearn: 0.9601426\ttotal: 59.2ms\tremaining: 59.1s\n",
      "1:\tlearn: 0.9285599\ttotal: 61.9ms\tremaining: 30.9s\n",
      "2:\tlearn: 0.8984877\ttotal: 64.6ms\tremaining: 21.5s\n",
      "3:\tlearn: 0.8706691\ttotal: 67.2ms\tremaining: 16.7s\n",
      "4:\tlearn: 0.8452697\ttotal: 70.2ms\tremaining: 14s\n",
      "5:\tlearn: 0.8218904\ttotal: 73.7ms\tremaining: 12.2s\n",
      "6:\tlearn: 0.7990791\ttotal: 76ms\tremaining: 10.8s\n",
      "7:\tlearn: 0.7784170\ttotal: 78.4ms\tremaining: 9.72s\n",
      "8:\tlearn: 0.7603157\ttotal: 80.7ms\tremaining: 8.88s\n",
      "9:\tlearn: 0.7413906\ttotal: 83.5ms\tremaining: 8.27s\n",
      "10:\tlearn: 0.7251209\ttotal: 86.2ms\tremaining: 7.75s\n",
      "11:\tlearn: 0.7095110\ttotal: 88.8ms\tremaining: 7.31s\n",
      "12:\tlearn: 0.6963344\ttotal: 91.3ms\tremaining: 6.93s\n",
      "13:\tlearn: 0.6819673\ttotal: 93.6ms\tremaining: 6.59s\n",
      "14:\tlearn: 0.6704034\ttotal: 96.2ms\tremaining: 6.31s\n",
      "15:\tlearn: 0.6585345\ttotal: 99ms\tremaining: 6.09s\n",
      "16:\tlearn: 0.6464488\ttotal: 101ms\tremaining: 5.86s\n",
      "17:\tlearn: 0.6360178\ttotal: 104ms\tremaining: 5.66s\n",
      "18:\tlearn: 0.6274455\ttotal: 106ms\tremaining: 5.49s\n",
      "19:\tlearn: 0.6191569\ttotal: 109ms\tremaining: 5.34s\n",
      "20:\tlearn: 0.6095522\ttotal: 112ms\tremaining: 5.21s\n",
      "21:\tlearn: 0.6027116\ttotal: 114ms\tremaining: 5.07s\n",
      "22:\tlearn: 0.5965212\ttotal: 117ms\tremaining: 4.96s\n",
      "23:\tlearn: 0.5897593\ttotal: 119ms\tremaining: 4.84s\n",
      "24:\tlearn: 0.5826830\ttotal: 121ms\tremaining: 4.74s\n",
      "25:\tlearn: 0.5757972\ttotal: 124ms\tremaining: 4.65s\n",
      "26:\tlearn: 0.5686897\ttotal: 126ms\tremaining: 4.55s\n"
     ]
    },
    {
     "name": "stdout",
     "output_type": "stream",
     "text": [
      "27:\tlearn: 0.5627176\ttotal: 130ms\tremaining: 4.5s\n",
      "28:\tlearn: 0.5577337\ttotal: 132ms\tremaining: 4.41s\n",
      "29:\tlearn: 0.5528080\ttotal: 134ms\tremaining: 4.34s\n",
      "30:\tlearn: 0.5495395\ttotal: 137ms\tremaining: 4.29s\n",
      "31:\tlearn: 0.5453171\ttotal: 140ms\tremaining: 4.23s\n",
      "32:\tlearn: 0.5417687\ttotal: 142ms\tremaining: 4.16s\n",
      "33:\tlearn: 0.5390300\ttotal: 144ms\tremaining: 4.1s\n",
      "34:\tlearn: 0.5346964\ttotal: 147ms\tremaining: 4.05s\n",
      "35:\tlearn: 0.5315337\ttotal: 150ms\tremaining: 4.01s\n",
      "36:\tlearn: 0.5287959\ttotal: 152ms\tremaining: 3.96s\n",
      "37:\tlearn: 0.5265736\ttotal: 155ms\tremaining: 3.92s\n",
      "38:\tlearn: 0.5227915\ttotal: 158ms\tremaining: 3.89s\n",
      "39:\tlearn: 0.5201526\ttotal: 160ms\tremaining: 3.84s\n",
      "40:\tlearn: 0.5182167\ttotal: 163ms\tremaining: 3.8s\n",
      "41:\tlearn: 0.5162610\ttotal: 165ms\tremaining: 3.77s\n",
      "42:\tlearn: 0.5133778\ttotal: 168ms\tremaining: 3.74s\n",
      "43:\tlearn: 0.5112844\ttotal: 171ms\tremaining: 3.71s\n",
      "44:\tlearn: 0.5095063\ttotal: 173ms\tremaining: 3.67s\n",
      "45:\tlearn: 0.5063636\ttotal: 175ms\tremaining: 3.64s\n",
      "46:\tlearn: 0.5041660\ttotal: 178ms\tremaining: 3.61s\n",
      "47:\tlearn: 0.5019101\ttotal: 181ms\tremaining: 3.58s\n",
      "48:\tlearn: 0.5002236\ttotal: 183ms\tremaining: 3.55s\n",
      "49:\tlearn: 0.4990628\ttotal: 186ms\tremaining: 3.53s\n",
      "50:\tlearn: 0.4978998\ttotal: 188ms\tremaining: 3.5s\n",
      "51:\tlearn: 0.4950747\ttotal: 190ms\tremaining: 3.47s\n",
      "52:\tlearn: 0.4927039\ttotal: 193ms\tremaining: 3.44s\n"
     ]
    },
    {
     "name": "stdout",
     "output_type": "stream",
     "text": [
      "53:\tlearn: 0.4908433\ttotal: 195ms\tremaining: 3.42s\n",
      "54:\tlearn: 0.4883194\ttotal: 198ms\tremaining: 3.4s\n",
      "55:\tlearn: 0.4874615\ttotal: 201ms\tremaining: 3.38s\n",
      "56:\tlearn: 0.4858617\ttotal: 203ms\tremaining: 3.36s\n",
      "57:\tlearn: 0.4839313\ttotal: 205ms\tremaining: 3.34s\n",
      "58:\tlearn: 0.4828713\ttotal: 208ms\tremaining: 3.31s\n",
      "59:\tlearn: 0.4813718\ttotal: 211ms\tremaining: 3.3s\n",
      "60:\tlearn: 0.4801627\ttotal: 213ms\tremaining: 3.28s\n",
      "61:\tlearn: 0.4791477\ttotal: 215ms\tremaining: 3.25s\n",
      "62:\tlearn: 0.4782444\ttotal: 218ms\tremaining: 3.24s\n",
      "63:\tlearn: 0.4770509\ttotal: 220ms\tremaining: 3.22s\n",
      "64:\tlearn: 0.4755089\ttotal: 223ms\tremaining: 3.21s\n",
      "65:\tlearn: 0.4740544\ttotal: 225ms\tremaining: 3.19s\n",
      "66:\tlearn: 0.4732433\ttotal: 228ms\tremaining: 3.17s\n",
      "67:\tlearn: 0.4722746\ttotal: 230ms\tremaining: 3.16s\n",
      "68:\tlearn: 0.4709367\ttotal: 233ms\tremaining: 3.14s\n",
      "69:\tlearn: 0.4696874\ttotal: 236ms\tremaining: 3.13s\n",
      "70:\tlearn: 0.4686805\ttotal: 238ms\tremaining: 3.12s\n",
      "71:\tlearn: 0.4679885\ttotal: 241ms\tremaining: 3.1s\n",
      "72:\tlearn: 0.4671312\ttotal: 243ms\tremaining: 3.09s\n",
      "73:\tlearn: 0.4658837\ttotal: 246ms\tremaining: 3.07s\n",
      "74:\tlearn: 0.4651856\ttotal: 248ms\tremaining: 3.06s\n",
      "75:\tlearn: 0.4642742\ttotal: 251ms\tremaining: 3.05s\n",
      "76:\tlearn: 0.4636426\ttotal: 253ms\tremaining: 3.03s\n"
     ]
    },
    {
     "name": "stdout",
     "output_type": "stream",
     "text": [
      "77:\tlearn: 0.4626411\ttotal: 255ms\tremaining: 3.02s\n",
      "78:\tlearn: 0.4613355\ttotal: 258ms\tremaining: 3.01s\n",
      "79:\tlearn: 0.4604291\ttotal: 260ms\tremaining: 2.99s\n",
      "80:\tlearn: 0.4597626\ttotal: 263ms\tremaining: 2.98s\n",
      "81:\tlearn: 0.4588608\ttotal: 265ms\tremaining: 2.97s\n",
      "82:\tlearn: 0.4579991\ttotal: 268ms\tremaining: 2.96s\n",
      "83:\tlearn: 0.4570467\ttotal: 270ms\tremaining: 2.94s\n",
      "84:\tlearn: 0.4561571\ttotal: 272ms\tremaining: 2.93s\n",
      "85:\tlearn: 0.4555366\ttotal: 275ms\tremaining: 2.92s\n",
      "86:\tlearn: 0.4550082\ttotal: 277ms\tremaining: 2.91s\n",
      "87:\tlearn: 0.4544041\ttotal: 280ms\tremaining: 2.9s\n",
      "88:\tlearn: 0.4535358\ttotal: 282ms\tremaining: 2.89s\n",
      "89:\tlearn: 0.4532110\ttotal: 285ms\tremaining: 2.88s\n",
      "90:\tlearn: 0.4525540\ttotal: 287ms\tremaining: 2.87s\n",
      "91:\tlearn: 0.4521605\ttotal: 290ms\tremaining: 2.86s\n",
      "92:\tlearn: 0.4515380\ttotal: 292ms\tremaining: 2.85s\n",
      "93:\tlearn: 0.4510703\ttotal: 295ms\tremaining: 2.84s\n",
      "94:\tlearn: 0.4506297\ttotal: 297ms\tremaining: 2.83s\n",
      "95:\tlearn: 0.4494903\ttotal: 300ms\tremaining: 2.82s\n",
      "96:\tlearn: 0.4489066\ttotal: 302ms\tremaining: 2.81s\n",
      "97:\tlearn: 0.4483883\ttotal: 305ms\tremaining: 2.8s\n",
      "98:\tlearn: 0.4475533\ttotal: 307ms\tremaining: 2.79s\n",
      "99:\tlearn: 0.4465687\ttotal: 310ms\tremaining: 2.79s\n",
      "100:\tlearn: 0.4458401\ttotal: 312ms\tremaining: 2.78s\n",
      "101:\tlearn: 0.4454226\ttotal: 315ms\tremaining: 2.77s\n",
      "102:\tlearn: 0.4451291\ttotal: 317ms\tremaining: 2.76s\n",
      "103:\tlearn: 0.4445762\ttotal: 320ms\tremaining: 2.75s\n",
      "104:\tlearn: 0.4440923\ttotal: 322ms\tremaining: 2.75s\n"
     ]
    },
    {
     "name": "stdout",
     "output_type": "stream",
     "text": [
      "105:\tlearn: 0.4435697\ttotal: 325ms\tremaining: 2.74s\n",
      "106:\tlearn: 0.4422964\ttotal: 327ms\tremaining: 2.73s\n",
      "107:\tlearn: 0.4417959\ttotal: 330ms\tremaining: 2.72s\n",
      "108:\tlearn: 0.4412538\ttotal: 332ms\tremaining: 2.71s\n",
      "109:\tlearn: 0.4409380\ttotal: 335ms\tremaining: 2.71s\n",
      "110:\tlearn: 0.4406238\ttotal: 337ms\tremaining: 2.7s\n",
      "111:\tlearn: 0.4402209\ttotal: 340ms\tremaining: 2.69s\n",
      "112:\tlearn: 0.4395808\ttotal: 342ms\tremaining: 2.69s\n",
      "113:\tlearn: 0.4391120\ttotal: 345ms\tremaining: 2.68s\n",
      "114:\tlearn: 0.4386258\ttotal: 347ms\tremaining: 2.67s\n",
      "115:\tlearn: 0.4382753\ttotal: 350ms\tremaining: 2.67s\n",
      "116:\tlearn: 0.4380664\ttotal: 352ms\tremaining: 2.66s\n",
      "117:\tlearn: 0.4374847\ttotal: 355ms\tremaining: 2.65s\n",
      "118:\tlearn: 0.4368978\ttotal: 357ms\tremaining: 2.64s\n",
      "119:\tlearn: 0.4363063\ttotal: 360ms\tremaining: 2.64s\n",
      "120:\tlearn: 0.4357982\ttotal: 362ms\tremaining: 2.63s\n",
      "121:\tlearn: 0.4351159\ttotal: 364ms\tremaining: 2.62s\n",
      "122:\tlearn: 0.4345535\ttotal: 367ms\tremaining: 2.62s\n",
      "123:\tlearn: 0.4337558\ttotal: 369ms\tremaining: 2.61s\n",
      "124:\tlearn: 0.4332986\ttotal: 372ms\tremaining: 2.6s\n",
      "125:\tlearn: 0.4327073\ttotal: 374ms\tremaining: 2.59s\n",
      "126:\tlearn: 0.4321695\ttotal: 377ms\tremaining: 2.59s\n",
      "127:\tlearn: 0.4317988\ttotal: 380ms\tremaining: 2.59s\n",
      "128:\tlearn: 0.4310223\ttotal: 383ms\tremaining: 2.58s\n",
      "129:\tlearn: 0.4307458\ttotal: 385ms\tremaining: 2.58s\n",
      "130:\tlearn: 0.4301936\ttotal: 387ms\tremaining: 2.57s\n"
     ]
    },
    {
     "name": "stdout",
     "output_type": "stream",
     "text": [
      "131:\tlearn: 0.4298062\ttotal: 390ms\tremaining: 2.56s\n",
      "132:\tlearn: 0.4294438\ttotal: 392ms\tremaining: 2.56s\n",
      "133:\tlearn: 0.4291500\ttotal: 395ms\tremaining: 2.55s\n",
      "134:\tlearn: 0.4288675\ttotal: 397ms\tremaining: 2.54s\n",
      "135:\tlearn: 0.4285243\ttotal: 400ms\tremaining: 2.54s\n",
      "136:\tlearn: 0.4282026\ttotal: 402ms\tremaining: 2.53s\n",
      "137:\tlearn: 0.4278883\ttotal: 404ms\tremaining: 2.52s\n",
      "138:\tlearn: 0.4271772\ttotal: 407ms\tremaining: 2.52s\n",
      "139:\tlearn: 0.4267790\ttotal: 410ms\tremaining: 2.52s\n",
      "140:\tlearn: 0.4262440\ttotal: 412ms\tremaining: 2.51s\n",
      "141:\tlearn: 0.4258474\ttotal: 415ms\tremaining: 2.5s\n",
      "142:\tlearn: 0.4249672\ttotal: 417ms\tremaining: 2.5s\n",
      "143:\tlearn: 0.4244296\ttotal: 420ms\tremaining: 2.49s\n",
      "144:\tlearn: 0.4242025\ttotal: 423ms\tremaining: 2.49s\n",
      "145:\tlearn: 0.4239040\ttotal: 425ms\tremaining: 2.49s\n",
      "146:\tlearn: 0.4235268\ttotal: 428ms\tremaining: 2.48s\n",
      "147:\tlearn: 0.4227302\ttotal: 430ms\tremaining: 2.48s\n",
      "148:\tlearn: 0.4223806\ttotal: 433ms\tremaining: 2.47s\n",
      "149:\tlearn: 0.4218821\ttotal: 435ms\tremaining: 2.46s\n",
      "150:\tlearn: 0.4215792\ttotal: 437ms\tremaining: 2.46s\n",
      "151:\tlearn: 0.4211627\ttotal: 440ms\tremaining: 2.45s\n",
      "152:\tlearn: 0.4206604\ttotal: 442ms\tremaining: 2.45s\n",
      "153:\tlearn: 0.4204517\ttotal: 445ms\tremaining: 2.44s\n",
      "154:\tlearn: 0.4200588\ttotal: 447ms\tremaining: 2.44s\n"
     ]
    },
    {
     "name": "stdout",
     "output_type": "stream",
     "text": [
      "155:\tlearn: 0.4197061\ttotal: 450ms\tremaining: 2.43s\n",
      "156:\tlearn: 0.4192575\ttotal: 453ms\tremaining: 2.43s\n",
      "157:\tlearn: 0.4187509\ttotal: 455ms\tremaining: 2.43s\n",
      "158:\tlearn: 0.4184295\ttotal: 458ms\tremaining: 2.42s\n",
      "159:\tlearn: 0.4179583\ttotal: 461ms\tremaining: 2.42s\n",
      "160:\tlearn: 0.4175849\ttotal: 463ms\tremaining: 2.41s\n",
      "161:\tlearn: 0.4172536\ttotal: 466ms\tremaining: 2.41s\n",
      "162:\tlearn: 0.4168393\ttotal: 468ms\tremaining: 2.4s\n",
      "163:\tlearn: 0.4162176\ttotal: 471ms\tremaining: 2.4s\n",
      "164:\tlearn: 0.4159098\ttotal: 473ms\tremaining: 2.4s\n",
      "165:\tlearn: 0.4156140\ttotal: 476ms\tremaining: 2.39s\n",
      "166:\tlearn: 0.4153043\ttotal: 478ms\tremaining: 2.39s\n",
      "167:\tlearn: 0.4148307\ttotal: 481ms\tremaining: 2.38s\n",
      "168:\tlearn: 0.4145709\ttotal: 483ms\tremaining: 2.38s\n",
      "169:\tlearn: 0.4136270\ttotal: 486ms\tremaining: 2.37s\n",
      "170:\tlearn: 0.4129387\ttotal: 488ms\tremaining: 2.37s\n",
      "171:\tlearn: 0.4125834\ttotal: 491ms\tremaining: 2.36s\n",
      "172:\tlearn: 0.4121869\ttotal: 493ms\tremaining: 2.36s\n",
      "173:\tlearn: 0.4119353\ttotal: 496ms\tremaining: 2.35s\n",
      "174:\tlearn: 0.4113291\ttotal: 498ms\tremaining: 2.35s\n",
      "175:\tlearn: 0.4110252\ttotal: 501ms\tremaining: 2.34s\n",
      "176:\tlearn: 0.4105903\ttotal: 503ms\tremaining: 2.34s\n",
      "177:\tlearn: 0.4103261\ttotal: 506ms\tremaining: 2.33s\n",
      "178:\tlearn: 0.4098943\ttotal: 508ms\tremaining: 2.33s\n",
      "179:\tlearn: 0.4094555\ttotal: 511ms\tremaining: 2.33s\n",
      "180:\tlearn: 0.4091770\ttotal: 513ms\tremaining: 2.32s\n",
      "181:\tlearn: 0.4088873\ttotal: 516ms\tremaining: 2.32s\n",
      "182:\tlearn: 0.4083241\ttotal: 518ms\tremaining: 2.31s\n"
     ]
    },
    {
     "name": "stdout",
     "output_type": "stream",
     "text": [
      "183:\tlearn: 0.4078767\ttotal: 521ms\tremaining: 2.31s\n",
      "184:\tlearn: 0.4074442\ttotal: 523ms\tremaining: 2.3s\n",
      "185:\tlearn: 0.4072619\ttotal: 525ms\tremaining: 2.3s\n",
      "186:\tlearn: 0.4068029\ttotal: 528ms\tremaining: 2.29s\n",
      "187:\tlearn: 0.4063967\ttotal: 530ms\tremaining: 2.29s\n",
      "188:\tlearn: 0.4060983\ttotal: 532ms\tremaining: 2.28s\n",
      "189:\tlearn: 0.4057336\ttotal: 535ms\tremaining: 2.28s\n",
      "190:\tlearn: 0.4054147\ttotal: 537ms\tremaining: 2.28s\n",
      "191:\tlearn: 0.4050464\ttotal: 540ms\tremaining: 2.27s\n",
      "192:\tlearn: 0.4046884\ttotal: 542ms\tremaining: 2.27s\n",
      "193:\tlearn: 0.4041067\ttotal: 545ms\tremaining: 2.26s\n",
      "194:\tlearn: 0.4036451\ttotal: 548ms\tremaining: 2.26s\n",
      "195:\tlearn: 0.4034236\ttotal: 550ms\tremaining: 2.26s\n",
      "196:\tlearn: 0.4031516\ttotal: 552ms\tremaining: 2.25s\n",
      "197:\tlearn: 0.4028663\ttotal: 555ms\tremaining: 2.25s\n",
      "198:\tlearn: 0.4025222\ttotal: 557ms\tremaining: 2.24s\n",
      "199:\tlearn: 0.4021428\ttotal: 560ms\tremaining: 2.24s\n",
      "200:\tlearn: 0.4017084\ttotal: 562ms\tremaining: 2.23s\n",
      "201:\tlearn: 0.4014832\ttotal: 565ms\tremaining: 2.23s\n",
      "202:\tlearn: 0.4010710\ttotal: 567ms\tremaining: 2.23s\n",
      "203:\tlearn: 0.4007778\ttotal: 569ms\tremaining: 2.22s\n",
      "204:\tlearn: 0.4004544\ttotal: 572ms\tremaining: 2.22s\n",
      "205:\tlearn: 0.4002071\ttotal: 574ms\tremaining: 2.21s\n",
      "206:\tlearn: 0.3999915\ttotal: 576ms\tremaining: 2.21s\n",
      "207:\tlearn: 0.3996880\ttotal: 579ms\tremaining: 2.2s\n",
      "208:\tlearn: 0.3994948\ttotal: 581ms\tremaining: 2.2s\n",
      "209:\tlearn: 0.3990820\ttotal: 584ms\tremaining: 2.19s\n"
     ]
    },
    {
     "name": "stdout",
     "output_type": "stream",
     "text": [
      "210:\tlearn: 0.3987040\ttotal: 586ms\tremaining: 2.19s\n",
      "211:\tlearn: 0.3984881\ttotal: 589ms\tremaining: 2.19s\n",
      "212:\tlearn: 0.3982009\ttotal: 591ms\tremaining: 2.18s\n",
      "213:\tlearn: 0.3978713\ttotal: 594ms\tremaining: 2.18s\n",
      "214:\tlearn: 0.3975541\ttotal: 596ms\tremaining: 2.18s\n",
      "215:\tlearn: 0.3970071\ttotal: 599ms\tremaining: 2.17s\n",
      "216:\tlearn: 0.3965847\ttotal: 601ms\tremaining: 2.17s\n",
      "217:\tlearn: 0.3963042\ttotal: 604ms\tremaining: 2.17s\n",
      "218:\tlearn: 0.3959621\ttotal: 606ms\tremaining: 2.16s\n",
      "219:\tlearn: 0.3956885\ttotal: 609ms\tremaining: 2.16s\n",
      "220:\tlearn: 0.3954995\ttotal: 611ms\tremaining: 2.15s\n",
      "221:\tlearn: 0.3950703\ttotal: 613ms\tremaining: 2.15s\n",
      "222:\tlearn: 0.3947675\ttotal: 616ms\tremaining: 2.14s\n",
      "223:\tlearn: 0.3944162\ttotal: 618ms\tremaining: 2.14s\n",
      "224:\tlearn: 0.3940589\ttotal: 621ms\tremaining: 2.14s\n",
      "225:\tlearn: 0.3937526\ttotal: 623ms\tremaining: 2.13s\n",
      "226:\tlearn: 0.3934321\ttotal: 625ms\tremaining: 2.13s\n",
      "227:\tlearn: 0.3931719\ttotal: 628ms\tremaining: 2.13s\n",
      "228:\tlearn: 0.3930109\ttotal: 630ms\tremaining: 2.12s\n",
      "229:\tlearn: 0.3924718\ttotal: 632ms\tremaining: 2.12s\n",
      "230:\tlearn: 0.3922368\ttotal: 635ms\tremaining: 2.11s\n",
      "231:\tlearn: 0.3919307\ttotal: 637ms\tremaining: 2.11s\n",
      "232:\tlearn: 0.3917577\ttotal: 639ms\tremaining: 2.1s\n",
      "233:\tlearn: 0.3914688\ttotal: 642ms\tremaining: 2.1s\n",
      "234:\tlearn: 0.3911706\ttotal: 644ms\tremaining: 2.1s\n"
     ]
    },
    {
     "name": "stdout",
     "output_type": "stream",
     "text": [
      "235:\tlearn: 0.3908632\ttotal: 647ms\tremaining: 2.09s\n",
      "236:\tlearn: 0.3905568\ttotal: 649ms\tremaining: 2.09s\n",
      "237:\tlearn: 0.3902755\ttotal: 652ms\tremaining: 2.09s\n",
      "238:\tlearn: 0.3900336\ttotal: 654ms\tremaining: 2.08s\n",
      "239:\tlearn: 0.3898116\ttotal: 656ms\tremaining: 2.08s\n",
      "240:\tlearn: 0.3895877\ttotal: 659ms\tremaining: 2.08s\n",
      "241:\tlearn: 0.3893133\ttotal: 661ms\tremaining: 2.07s\n",
      "242:\tlearn: 0.3890008\ttotal: 664ms\tremaining: 2.07s\n",
      "243:\tlearn: 0.3887776\ttotal: 666ms\tremaining: 2.06s\n",
      "244:\tlearn: 0.3885080\ttotal: 669ms\tremaining: 2.06s\n",
      "245:\tlearn: 0.3882368\ttotal: 672ms\tremaining: 2.06s\n",
      "246:\tlearn: 0.3880664\ttotal: 674ms\tremaining: 2.06s\n",
      "247:\tlearn: 0.3876232\ttotal: 677ms\tremaining: 2.05s\n",
      "248:\tlearn: 0.3873409\ttotal: 679ms\tremaining: 2.05s\n",
      "249:\tlearn: 0.3871036\ttotal: 681ms\tremaining: 2.04s\n",
      "250:\tlearn: 0.3869469\ttotal: 684ms\tremaining: 2.04s\n",
      "251:\tlearn: 0.3866966\ttotal: 687ms\tremaining: 2.04s\n",
      "252:\tlearn: 0.3863733\ttotal: 689ms\tremaining: 2.03s\n",
      "253:\tlearn: 0.3860507\ttotal: 691ms\tremaining: 2.03s\n",
      "254:\tlearn: 0.3857823\ttotal: 694ms\tremaining: 2.03s\n",
      "255:\tlearn: 0.3855516\ttotal: 696ms\tremaining: 2.02s\n",
      "256:\tlearn: 0.3852547\ttotal: 699ms\tremaining: 2.02s\n",
      "257:\tlearn: 0.3850301\ttotal: 701ms\tremaining: 2.02s\n",
      "258:\tlearn: 0.3848786\ttotal: 703ms\tremaining: 2.01s\n",
      "259:\tlearn: 0.3847238\ttotal: 706ms\tremaining: 2.01s\n",
      "260:\tlearn: 0.3843929\ttotal: 709ms\tremaining: 2.01s\n",
      "261:\tlearn: 0.3841863\ttotal: 712ms\tremaining: 2s\n",
      "262:\tlearn: 0.3839422\ttotal: 714ms\tremaining: 2s\n"
     ]
    },
    {
     "name": "stdout",
     "output_type": "stream",
     "text": [
      "263:\tlearn: 0.3837001\ttotal: 717ms\tremaining: 2s\n",
      "264:\tlearn: 0.3834144\ttotal: 720ms\tremaining: 2s\n",
      "265:\tlearn: 0.3832213\ttotal: 722ms\tremaining: 1.99s\n",
      "266:\tlearn: 0.3829586\ttotal: 724ms\tremaining: 1.99s\n",
      "267:\tlearn: 0.3828170\ttotal: 727ms\tremaining: 1.99s\n",
      "268:\tlearn: 0.3824515\ttotal: 730ms\tremaining: 1.98s\n",
      "269:\tlearn: 0.3821337\ttotal: 732ms\tremaining: 1.98s\n",
      "270:\tlearn: 0.3818864\ttotal: 735ms\tremaining: 1.98s\n",
      "271:\tlearn: 0.3817759\ttotal: 737ms\tremaining: 1.97s\n",
      "272:\tlearn: 0.3814949\ttotal: 740ms\tremaining: 1.97s\n",
      "273:\tlearn: 0.3812274\ttotal: 742ms\tremaining: 1.97s\n",
      "274:\tlearn: 0.3810778\ttotal: 744ms\tremaining: 1.96s\n",
      "275:\tlearn: 0.3807064\ttotal: 747ms\tremaining: 1.96s\n",
      "276:\tlearn: 0.3804879\ttotal: 749ms\tremaining: 1.96s\n",
      "277:\tlearn: 0.3802903\ttotal: 752ms\tremaining: 1.95s\n",
      "278:\tlearn: 0.3800665\ttotal: 754ms\tremaining: 1.95s\n",
      "279:\tlearn: 0.3797506\ttotal: 757ms\tremaining: 1.95s\n",
      "280:\tlearn: 0.3794819\ttotal: 759ms\tremaining: 1.94s\n",
      "281:\tlearn: 0.3792409\ttotal: 761ms\tremaining: 1.94s\n",
      "282:\tlearn: 0.3790388\ttotal: 764ms\tremaining: 1.94s\n",
      "283:\tlearn: 0.3788689\ttotal: 766ms\tremaining: 1.93s\n",
      "284:\tlearn: 0.3786446\ttotal: 769ms\tremaining: 1.93s\n",
      "285:\tlearn: 0.3781997\ttotal: 771ms\tremaining: 1.93s\n",
      "286:\tlearn: 0.3779085\ttotal: 774ms\tremaining: 1.92s\n",
      "287:\tlearn: 0.3776313\ttotal: 776ms\tremaining: 1.92s\n",
      "288:\tlearn: 0.3775024\ttotal: 778ms\tremaining: 1.91s\n"
     ]
    },
    {
     "name": "stdout",
     "output_type": "stream",
     "text": [
      "289:\tlearn: 0.3772590\ttotal: 781ms\tremaining: 1.91s\n",
      "290:\tlearn: 0.3769645\ttotal: 784ms\tremaining: 1.91s\n",
      "291:\tlearn: 0.3768211\ttotal: 786ms\tremaining: 1.91s\n",
      "292:\tlearn: 0.3766508\ttotal: 788ms\tremaining: 1.9s\n",
      "293:\tlearn: 0.3763599\ttotal: 791ms\tremaining: 1.9s\n",
      "294:\tlearn: 0.3762151\ttotal: 794ms\tremaining: 1.9s\n",
      "295:\tlearn: 0.3760931\ttotal: 796ms\tremaining: 1.89s\n",
      "296:\tlearn: 0.3758508\ttotal: 799ms\tremaining: 1.89s\n",
      "297:\tlearn: 0.3756455\ttotal: 801ms\tremaining: 1.89s\n",
      "298:\tlearn: 0.3754193\ttotal: 804ms\tremaining: 1.88s\n",
      "299:\tlearn: 0.3751711\ttotal: 806ms\tremaining: 1.88s\n",
      "300:\tlearn: 0.3748989\ttotal: 809ms\tremaining: 1.88s\n",
      "301:\tlearn: 0.3747897\ttotal: 812ms\tremaining: 1.88s\n",
      "302:\tlearn: 0.3744621\ttotal: 815ms\tremaining: 1.87s\n",
      "303:\tlearn: 0.3742098\ttotal: 817ms\tremaining: 1.87s\n",
      "304:\tlearn: 0.3739817\ttotal: 820ms\tremaining: 1.87s\n",
      "305:\tlearn: 0.3738649\ttotal: 822ms\tremaining: 1.86s\n",
      "306:\tlearn: 0.3735951\ttotal: 825ms\tremaining: 1.86s\n",
      "307:\tlearn: 0.3733860\ttotal: 827ms\tremaining: 1.86s\n",
      "308:\tlearn: 0.3732405\ttotal: 830ms\tremaining: 1.85s\n",
      "309:\tlearn: 0.3731246\ttotal: 832ms\tremaining: 1.85s\n",
      "310:\tlearn: 0.3728877\ttotal: 834ms\tremaining: 1.85s\n",
      "311:\tlearn: 0.3727060\ttotal: 838ms\tremaining: 1.85s\n",
      "312:\tlearn: 0.3725694\ttotal: 840ms\tremaining: 1.84s\n"
     ]
    },
    {
     "name": "stdout",
     "output_type": "stream",
     "text": [
      "313:\tlearn: 0.3723494\ttotal: 842ms\tremaining: 1.84s\n",
      "314:\tlearn: 0.3722093\ttotal: 845ms\tremaining: 1.84s\n",
      "315:\tlearn: 0.3719709\ttotal: 848ms\tremaining: 1.83s\n",
      "316:\tlearn: 0.3717620\ttotal: 850ms\tremaining: 1.83s\n",
      "317:\tlearn: 0.3715357\ttotal: 853ms\tremaining: 1.83s\n",
      "318:\tlearn: 0.3713636\ttotal: 855ms\tremaining: 1.82s\n",
      "319:\tlearn: 0.3711440\ttotal: 858ms\tremaining: 1.82s\n",
      "320:\tlearn: 0.3709005\ttotal: 860ms\tremaining: 1.82s\n",
      "321:\tlearn: 0.3706904\ttotal: 863ms\tremaining: 1.82s\n",
      "322:\tlearn: 0.3705236\ttotal: 865ms\tremaining: 1.81s\n",
      "323:\tlearn: 0.3703412\ttotal: 868ms\tremaining: 1.81s\n",
      "324:\tlearn: 0.3702308\ttotal: 870ms\tremaining: 1.81s\n",
      "325:\tlearn: 0.3700995\ttotal: 873ms\tremaining: 1.8s\n",
      "326:\tlearn: 0.3699080\ttotal: 876ms\tremaining: 1.8s\n",
      "327:\tlearn: 0.3697099\ttotal: 878ms\tremaining: 1.8s\n",
      "328:\tlearn: 0.3695396\ttotal: 880ms\tremaining: 1.79s\n",
      "329:\tlearn: 0.3692946\ttotal: 882ms\tremaining: 1.79s\n",
      "330:\tlearn: 0.3691221\ttotal: 885ms\tremaining: 1.79s\n",
      "331:\tlearn: 0.3686849\ttotal: 888ms\tremaining: 1.78s\n",
      "332:\tlearn: 0.3685286\ttotal: 890ms\tremaining: 1.78s\n",
      "333:\tlearn: 0.3683436\ttotal: 893ms\tremaining: 1.78s\n",
      "334:\tlearn: 0.3682540\ttotal: 895ms\tremaining: 1.78s\n",
      "335:\tlearn: 0.3681053\ttotal: 898ms\tremaining: 1.77s\n",
      "336:\tlearn: 0.3678839\ttotal: 900ms\tremaining: 1.77s\n",
      "337:\tlearn: 0.3677208\ttotal: 903ms\tremaining: 1.77s\n",
      "338:\tlearn: 0.3675200\ttotal: 905ms\tremaining: 1.76s\n",
      "339:\tlearn: 0.3673402\ttotal: 907ms\tremaining: 1.76s\n",
      "340:\tlearn: 0.3671679\ttotal: 910ms\tremaining: 1.76s\n"
     ]
    },
    {
     "name": "stdout",
     "output_type": "stream",
     "text": [
      "341:\tlearn: 0.3669859\ttotal: 913ms\tremaining: 1.75s\n",
      "342:\tlearn: 0.3668021\ttotal: 915ms\tremaining: 1.75s\n",
      "343:\tlearn: 0.3666909\ttotal: 918ms\tremaining: 1.75s\n",
      "344:\tlearn: 0.3665436\ttotal: 920ms\tremaining: 1.75s\n",
      "345:\tlearn: 0.3663766\ttotal: 923ms\tremaining: 1.74s\n",
      "346:\tlearn: 0.3661473\ttotal: 925ms\tremaining: 1.74s\n",
      "347:\tlearn: 0.3659190\ttotal: 928ms\tremaining: 1.74s\n",
      "348:\tlearn: 0.3657222\ttotal: 930ms\tremaining: 1.73s\n",
      "349:\tlearn: 0.3655701\ttotal: 932ms\tremaining: 1.73s\n",
      "350:\tlearn: 0.3654263\ttotal: 935ms\tremaining: 1.73s\n",
      "351:\tlearn: 0.3653446\ttotal: 937ms\tremaining: 1.73s\n",
      "352:\tlearn: 0.3652459\ttotal: 940ms\tremaining: 1.72s\n",
      "353:\tlearn: 0.3650058\ttotal: 942ms\tremaining: 1.72s\n",
      "354:\tlearn: 0.3648482\ttotal: 945ms\tremaining: 1.72s\n",
      "355:\tlearn: 0.3646613\ttotal: 947ms\tremaining: 1.71s\n",
      "356:\tlearn: 0.3644353\ttotal: 949ms\tremaining: 1.71s\n",
      "357:\tlearn: 0.3642303\ttotal: 952ms\tremaining: 1.71s\n",
      "358:\tlearn: 0.3638091\ttotal: 955ms\tremaining: 1.7s\n",
      "359:\tlearn: 0.3636606\ttotal: 957ms\tremaining: 1.7s\n",
      "360:\tlearn: 0.3634546\ttotal: 960ms\tremaining: 1.7s\n",
      "361:\tlearn: 0.3632936\ttotal: 962ms\tremaining: 1.7s\n",
      "362:\tlearn: 0.3630744\ttotal: 964ms\tremaining: 1.69s\n",
      "363:\tlearn: 0.3629106\ttotal: 966ms\tremaining: 1.69s\n",
      "364:\tlearn: 0.3627054\ttotal: 969ms\tremaining: 1.68s\n",
      "365:\tlearn: 0.3625508\ttotal: 971ms\tremaining: 1.68s\n",
      "366:\tlearn: 0.3624820\ttotal: 974ms\tremaining: 1.68s\n"
     ]
    },
    {
     "name": "stdout",
     "output_type": "stream",
     "text": [
      "367:\tlearn: 0.3622856\ttotal: 976ms\tremaining: 1.68s\n",
      "368:\tlearn: 0.3620983\ttotal: 979ms\tremaining: 1.67s\n",
      "369:\tlearn: 0.3619489\ttotal: 981ms\tremaining: 1.67s\n",
      "370:\tlearn: 0.3618053\ttotal: 984ms\tremaining: 1.67s\n",
      "371:\tlearn: 0.3615962\ttotal: 986ms\tremaining: 1.66s\n",
      "372:\tlearn: 0.3614155\ttotal: 989ms\tremaining: 1.66s\n",
      "373:\tlearn: 0.3613445\ttotal: 991ms\tremaining: 1.66s\n",
      "374:\tlearn: 0.3612174\ttotal: 994ms\tremaining: 1.66s\n",
      "375:\tlearn: 0.3609747\ttotal: 996ms\tremaining: 1.65s\n",
      "376:\tlearn: 0.3607924\ttotal: 998ms\tremaining: 1.65s\n",
      "377:\tlearn: 0.3605977\ttotal: 1s\tremaining: 1.65s\n",
      "378:\tlearn: 0.3604944\ttotal: 1s\tremaining: 1.65s\n",
      "379:\tlearn: 0.3602938\ttotal: 1.01s\tremaining: 1.64s\n",
      "380:\tlearn: 0.3601335\ttotal: 1.01s\tremaining: 1.64s\n",
      "381:\tlearn: 0.3599996\ttotal: 1.01s\tremaining: 1.64s\n",
      "382:\tlearn: 0.3598116\ttotal: 1.01s\tremaining: 1.63s\n",
      "383:\tlearn: 0.3596337\ttotal: 1.02s\tremaining: 1.63s\n",
      "384:\tlearn: 0.3593301\ttotal: 1.02s\tremaining: 1.63s\n",
      "385:\tlearn: 0.3591544\ttotal: 1.02s\tremaining: 1.62s\n",
      "386:\tlearn: 0.3588386\ttotal: 1.02s\tremaining: 1.62s\n",
      "387:\tlearn: 0.3586761\ttotal: 1.03s\tremaining: 1.62s\n",
      "388:\tlearn: 0.3585203\ttotal: 1.03s\tremaining: 1.61s\n",
      "389:\tlearn: 0.3584054\ttotal: 1.03s\tremaining: 1.61s\n",
      "390:\tlearn: 0.3581649\ttotal: 1.03s\tremaining: 1.61s\n",
      "391:\tlearn: 0.3579876\ttotal: 1.04s\tremaining: 1.61s\n"
     ]
    },
    {
     "name": "stdout",
     "output_type": "stream",
     "text": [
      "392:\tlearn: 0.3578122\ttotal: 1.04s\tremaining: 1.6s\n",
      "393:\tlearn: 0.3575801\ttotal: 1.04s\tremaining: 1.6s\n",
      "394:\tlearn: 0.3574098\ttotal: 1.04s\tremaining: 1.6s\n",
      "395:\tlearn: 0.3572724\ttotal: 1.04s\tremaining: 1.59s\n",
      "396:\tlearn: 0.3571912\ttotal: 1.05s\tremaining: 1.59s\n",
      "397:\tlearn: 0.3569281\ttotal: 1.05s\tremaining: 1.59s\n",
      "398:\tlearn: 0.3567334\ttotal: 1.05s\tremaining: 1.59s\n",
      "399:\tlearn: 0.3565414\ttotal: 1.05s\tremaining: 1.58s\n",
      "400:\tlearn: 0.3564176\ttotal: 1.06s\tremaining: 1.58s\n",
      "401:\tlearn: 0.3562912\ttotal: 1.06s\tremaining: 1.58s\n",
      "402:\tlearn: 0.3561548\ttotal: 1.06s\tremaining: 1.57s\n",
      "403:\tlearn: 0.3559687\ttotal: 1.06s\tremaining: 1.57s\n",
      "404:\tlearn: 0.3558670\ttotal: 1.07s\tremaining: 1.57s\n",
      "405:\tlearn: 0.3557853\ttotal: 1.07s\tremaining: 1.56s\n",
      "406:\tlearn: 0.3556543\ttotal: 1.07s\tremaining: 1.56s\n",
      "407:\tlearn: 0.3554800\ttotal: 1.07s\tremaining: 1.56s\n",
      "408:\tlearn: 0.3553079\ttotal: 1.08s\tremaining: 1.56s\n",
      "409:\tlearn: 0.3551537\ttotal: 1.08s\tremaining: 1.55s\n",
      "410:\tlearn: 0.3550373\ttotal: 1.08s\tremaining: 1.55s\n",
      "411:\tlearn: 0.3548064\ttotal: 1.08s\tremaining: 1.55s\n",
      "412:\tlearn: 0.3546751\ttotal: 1.09s\tremaining: 1.54s\n",
      "413:\tlearn: 0.3544743\ttotal: 1.09s\tremaining: 1.54s\n",
      "414:\tlearn: 0.3543320\ttotal: 1.09s\tremaining: 1.54s\n",
      "415:\tlearn: 0.3541870\ttotal: 1.09s\tremaining: 1.54s\n",
      "416:\tlearn: 0.3539975\ttotal: 1.1s\tremaining: 1.53s\n",
      "417:\tlearn: 0.3538857\ttotal: 1.1s\tremaining: 1.53s\n",
      "418:\tlearn: 0.3537658\ttotal: 1.1s\tremaining: 1.53s\n",
      "419:\tlearn: 0.3535680\ttotal: 1.1s\tremaining: 1.52s\n",
      "420:\tlearn: 0.3534585\ttotal: 1.11s\tremaining: 1.52s\n"
     ]
    },
    {
     "name": "stdout",
     "output_type": "stream",
     "text": [
      "421:\tlearn: 0.3533418\ttotal: 1.11s\tremaining: 1.52s\n",
      "422:\tlearn: 0.3532027\ttotal: 1.11s\tremaining: 1.52s\n",
      "423:\tlearn: 0.3530357\ttotal: 1.11s\tremaining: 1.51s\n",
      "424:\tlearn: 0.3528525\ttotal: 1.12s\tremaining: 1.51s\n",
      "425:\tlearn: 0.3527333\ttotal: 1.12s\tremaining: 1.51s\n",
      "426:\tlearn: 0.3525531\ttotal: 1.12s\tremaining: 1.5s\n",
      "427:\tlearn: 0.3523413\ttotal: 1.12s\tremaining: 1.5s\n",
      "428:\tlearn: 0.3522342\ttotal: 1.13s\tremaining: 1.5s\n",
      "429:\tlearn: 0.3519480\ttotal: 1.13s\tremaining: 1.5s\n",
      "430:\tlearn: 0.3517935\ttotal: 1.13s\tremaining: 1.49s\n",
      "431:\tlearn: 0.3517007\ttotal: 1.13s\tremaining: 1.49s\n",
      "432:\tlearn: 0.3515524\ttotal: 1.14s\tremaining: 1.49s\n",
      "433:\tlearn: 0.3514129\ttotal: 1.14s\tremaining: 1.48s\n",
      "434:\tlearn: 0.3512396\ttotal: 1.14s\tremaining: 1.48s\n",
      "435:\tlearn: 0.3510030\ttotal: 1.14s\tremaining: 1.48s\n",
      "436:\tlearn: 0.3508453\ttotal: 1.15s\tremaining: 1.48s\n",
      "437:\tlearn: 0.3506977\ttotal: 1.15s\tremaining: 1.47s\n",
      "438:\tlearn: 0.3505568\ttotal: 1.15s\tremaining: 1.47s\n",
      "439:\tlearn: 0.3504254\ttotal: 1.15s\tremaining: 1.47s\n",
      "440:\tlearn: 0.3502992\ttotal: 1.16s\tremaining: 1.46s\n",
      "441:\tlearn: 0.3500448\ttotal: 1.16s\tremaining: 1.46s\n",
      "442:\tlearn: 0.3499071\ttotal: 1.16s\tremaining: 1.46s\n",
      "443:\tlearn: 0.3496352\ttotal: 1.16s\tremaining: 1.46s\n",
      "444:\tlearn: 0.3494872\ttotal: 1.17s\tremaining: 1.45s\n",
      "445:\tlearn: 0.3493642\ttotal: 1.17s\tremaining: 1.45s\n"
     ]
    },
    {
     "name": "stdout",
     "output_type": "stream",
     "text": [
      "446:\tlearn: 0.3492084\ttotal: 1.17s\tremaining: 1.45s\n",
      "447:\tlearn: 0.3490530\ttotal: 1.17s\tremaining: 1.45s\n",
      "448:\tlearn: 0.3488776\ttotal: 1.18s\tremaining: 1.44s\n",
      "449:\tlearn: 0.3487708\ttotal: 1.18s\tremaining: 1.44s\n",
      "450:\tlearn: 0.3485724\ttotal: 1.18s\tremaining: 1.44s\n",
      "451:\tlearn: 0.3484275\ttotal: 1.18s\tremaining: 1.43s\n",
      "452:\tlearn: 0.3483058\ttotal: 1.19s\tremaining: 1.43s\n",
      "453:\tlearn: 0.3480957\ttotal: 1.19s\tremaining: 1.43s\n",
      "454:\tlearn: 0.3479743\ttotal: 1.19s\tremaining: 1.43s\n",
      "455:\tlearn: 0.3478400\ttotal: 1.2s\tremaining: 1.43s\n",
      "456:\tlearn: 0.3476628\ttotal: 1.2s\tremaining: 1.42s\n",
      "457:\tlearn: 0.3474050\ttotal: 1.2s\tremaining: 1.42s\n",
      "458:\tlearn: 0.3472942\ttotal: 1.2s\tremaining: 1.42s\n",
      "459:\tlearn: 0.3471432\ttotal: 1.21s\tremaining: 1.41s\n",
      "460:\tlearn: 0.3470097\ttotal: 1.21s\tremaining: 1.41s\n",
      "461:\tlearn: 0.3469212\ttotal: 1.21s\tremaining: 1.41s\n",
      "462:\tlearn: 0.3466441\ttotal: 1.21s\tremaining: 1.41s\n",
      "463:\tlearn: 0.3464089\ttotal: 1.22s\tremaining: 1.4s\n",
      "464:\tlearn: 0.3462157\ttotal: 1.22s\tremaining: 1.4s\n",
      "465:\tlearn: 0.3460725\ttotal: 1.22s\tremaining: 1.4s\n",
      "466:\tlearn: 0.3459170\ttotal: 1.22s\tremaining: 1.4s\n",
      "467:\tlearn: 0.3458347\ttotal: 1.22s\tremaining: 1.39s\n",
      "468:\tlearn: 0.3456747\ttotal: 1.23s\tremaining: 1.39s\n",
      "469:\tlearn: 0.3454012\ttotal: 1.23s\tremaining: 1.39s\n",
      "470:\tlearn: 0.3452704\ttotal: 1.23s\tremaining: 1.38s\n"
     ]
    },
    {
     "name": "stdout",
     "output_type": "stream",
     "text": [
      "471:\tlearn: 0.3451377\ttotal: 1.23s\tremaining: 1.38s\n",
      "472:\tlearn: 0.3449718\ttotal: 1.24s\tremaining: 1.38s\n",
      "473:\tlearn: 0.3448066\ttotal: 1.24s\tremaining: 1.38s\n",
      "474:\tlearn: 0.3447614\ttotal: 1.24s\tremaining: 1.37s\n",
      "475:\tlearn: 0.3446319\ttotal: 1.24s\tremaining: 1.37s\n",
      "476:\tlearn: 0.3444183\ttotal: 1.25s\tremaining: 1.37s\n",
      "477:\tlearn: 0.3442863\ttotal: 1.25s\tremaining: 1.36s\n",
      "478:\tlearn: 0.3441889\ttotal: 1.25s\tremaining: 1.36s\n",
      "479:\tlearn: 0.3440917\ttotal: 1.25s\tremaining: 1.36s\n",
      "480:\tlearn: 0.3439263\ttotal: 1.26s\tremaining: 1.36s\n",
      "481:\tlearn: 0.3437028\ttotal: 1.26s\tremaining: 1.35s\n",
      "482:\tlearn: 0.3435747\ttotal: 1.26s\tremaining: 1.35s\n",
      "483:\tlearn: 0.3434701\ttotal: 1.27s\tremaining: 1.35s\n",
      "484:\tlearn: 0.3432889\ttotal: 1.27s\tremaining: 1.35s\n",
      "485:\tlearn: 0.3431549\ttotal: 1.27s\tremaining: 1.34s\n",
      "486:\tlearn: 0.3430283\ttotal: 1.27s\tremaining: 1.34s\n",
      "487:\tlearn: 0.3429437\ttotal: 1.28s\tremaining: 1.34s\n",
      "488:\tlearn: 0.3427734\ttotal: 1.28s\tremaining: 1.34s\n",
      "489:\tlearn: 0.3424943\ttotal: 1.28s\tremaining: 1.33s\n",
      "490:\tlearn: 0.3423773\ttotal: 1.28s\tremaining: 1.33s\n",
      "491:\tlearn: 0.3422630\ttotal: 1.28s\tremaining: 1.33s\n",
      "492:\tlearn: 0.3421535\ttotal: 1.29s\tremaining: 1.32s\n",
      "493:\tlearn: 0.3420199\ttotal: 1.29s\tremaining: 1.32s\n",
      "494:\tlearn: 0.3419058\ttotal: 1.29s\tremaining: 1.32s\n",
      "495:\tlearn: 0.3417544\ttotal: 1.29s\tremaining: 1.31s\n",
      "496:\tlearn: 0.3416426\ttotal: 1.3s\tremaining: 1.31s\n",
      "497:\tlearn: 0.3415101\ttotal: 1.3s\tremaining: 1.31s\n",
      "498:\tlearn: 0.3414441\ttotal: 1.3s\tremaining: 1.31s\n"
     ]
    },
    {
     "name": "stdout",
     "output_type": "stream",
     "text": [
      "499:\tlearn: 0.3413363\ttotal: 1.3s\tremaining: 1.3s\n",
      "500:\tlearn: 0.3411595\ttotal: 1.31s\tremaining: 1.3s\n",
      "501:\tlearn: 0.3409954\ttotal: 1.31s\tremaining: 1.3s\n",
      "502:\tlearn: 0.3408742\ttotal: 1.31s\tremaining: 1.3s\n",
      "503:\tlearn: 0.3407460\ttotal: 1.31s\tremaining: 1.29s\n",
      "504:\tlearn: 0.3405583\ttotal: 1.32s\tremaining: 1.29s\n",
      "505:\tlearn: 0.3404928\ttotal: 1.32s\tremaining: 1.29s\n",
      "506:\tlearn: 0.3403042\ttotal: 1.32s\tremaining: 1.28s\n",
      "507:\tlearn: 0.3401137\ttotal: 1.32s\tremaining: 1.28s\n",
      "508:\tlearn: 0.3399929\ttotal: 1.33s\tremaining: 1.28s\n",
      "509:\tlearn: 0.3398774\ttotal: 1.33s\tremaining: 1.28s\n",
      "510:\tlearn: 0.3397122\ttotal: 1.33s\tremaining: 1.27s\n",
      "511:\tlearn: 0.3395910\ttotal: 1.33s\tremaining: 1.27s\n",
      "512:\tlearn: 0.3394945\ttotal: 1.34s\tremaining: 1.27s\n",
      "513:\tlearn: 0.3393701\ttotal: 1.34s\tremaining: 1.26s\n",
      "514:\tlearn: 0.3391628\ttotal: 1.34s\tremaining: 1.26s\n",
      "515:\tlearn: 0.3390654\ttotal: 1.34s\tremaining: 1.26s\n",
      "516:\tlearn: 0.3389460\ttotal: 1.35s\tremaining: 1.26s\n",
      "517:\tlearn: 0.3388270\ttotal: 1.35s\tremaining: 1.25s\n",
      "518:\tlearn: 0.3387446\ttotal: 1.35s\tremaining: 1.25s\n",
      "519:\tlearn: 0.3386025\ttotal: 1.35s\tremaining: 1.25s\n",
      "520:\tlearn: 0.3383544\ttotal: 1.36s\tremaining: 1.25s\n",
      "521:\tlearn: 0.3381890\ttotal: 1.36s\tremaining: 1.24s\n",
      "522:\tlearn: 0.3381261\ttotal: 1.36s\tremaining: 1.24s\n",
      "523:\tlearn: 0.3380203\ttotal: 1.36s\tremaining: 1.24s\n"
     ]
    },
    {
     "name": "stdout",
     "output_type": "stream",
     "text": [
      "524:\tlearn: 0.3378480\ttotal: 1.37s\tremaining: 1.24s\n",
      "525:\tlearn: 0.3377125\ttotal: 1.37s\tremaining: 1.23s\n",
      "526:\tlearn: 0.3375910\ttotal: 1.37s\tremaining: 1.23s\n",
      "527:\tlearn: 0.3374948\ttotal: 1.37s\tremaining: 1.23s\n",
      "528:\tlearn: 0.3373624\ttotal: 1.38s\tremaining: 1.23s\n",
      "529:\tlearn: 0.3372248\ttotal: 1.38s\tremaining: 1.22s\n",
      "530:\tlearn: 0.3371218\ttotal: 1.38s\tremaining: 1.22s\n",
      "531:\tlearn: 0.3370635\ttotal: 1.38s\tremaining: 1.22s\n",
      "532:\tlearn: 0.3369254\ttotal: 1.39s\tremaining: 1.21s\n",
      "533:\tlearn: 0.3367657\ttotal: 1.39s\tremaining: 1.21s\n",
      "534:\tlearn: 0.3366809\ttotal: 1.39s\tremaining: 1.21s\n",
      "535:\tlearn: 0.3365494\ttotal: 1.39s\tremaining: 1.21s\n",
      "536:\tlearn: 0.3364560\ttotal: 1.4s\tremaining: 1.2s\n",
      "537:\tlearn: 0.3363489\ttotal: 1.4s\tremaining: 1.2s\n",
      "538:\tlearn: 0.3362351\ttotal: 1.4s\tremaining: 1.2s\n",
      "539:\tlearn: 0.3361126\ttotal: 1.4s\tremaining: 1.2s\n",
      "540:\tlearn: 0.3359022\ttotal: 1.41s\tremaining: 1.19s\n",
      "541:\tlearn: 0.3357748\ttotal: 1.41s\tremaining: 1.19s\n",
      "542:\tlearn: 0.3356575\ttotal: 1.41s\tremaining: 1.19s\n",
      "543:\tlearn: 0.3355503\ttotal: 1.41s\tremaining: 1.19s\n",
      "544:\tlearn: 0.3354499\ttotal: 1.42s\tremaining: 1.18s\n",
      "545:\tlearn: 0.3353592\ttotal: 1.42s\tremaining: 1.18s\n",
      "546:\tlearn: 0.3351628\ttotal: 1.42s\tremaining: 1.18s\n",
      "547:\tlearn: 0.3350334\ttotal: 1.42s\tremaining: 1.17s\n",
      "548:\tlearn: 0.3349146\ttotal: 1.43s\tremaining: 1.17s\n"
     ]
    },
    {
     "name": "stdout",
     "output_type": "stream",
     "text": [
      "549:\tlearn: 0.3348053\ttotal: 1.43s\tremaining: 1.17s\n",
      "550:\tlearn: 0.3347429\ttotal: 1.43s\tremaining: 1.17s\n",
      "551:\tlearn: 0.3346856\ttotal: 1.43s\tremaining: 1.16s\n",
      "552:\tlearn: 0.3345193\ttotal: 1.44s\tremaining: 1.16s\n",
      "553:\tlearn: 0.3343578\ttotal: 1.44s\tremaining: 1.16s\n",
      "554:\tlearn: 0.3342465\ttotal: 1.44s\tremaining: 1.16s\n",
      "555:\tlearn: 0.3341475\ttotal: 1.44s\tremaining: 1.15s\n",
      "556:\tlearn: 0.3340045\ttotal: 1.45s\tremaining: 1.15s\n",
      "557:\tlearn: 0.3339023\ttotal: 1.45s\tremaining: 1.15s\n",
      "558:\tlearn: 0.3338371\ttotal: 1.45s\tremaining: 1.14s\n",
      "559:\tlearn: 0.3337343\ttotal: 1.45s\tremaining: 1.14s\n",
      "560:\tlearn: 0.3336364\ttotal: 1.46s\tremaining: 1.14s\n",
      "561:\tlearn: 0.3335196\ttotal: 1.46s\tremaining: 1.14s\n",
      "562:\tlearn: 0.3334079\ttotal: 1.46s\tremaining: 1.13s\n",
      "563:\tlearn: 0.3332991\ttotal: 1.46s\tremaining: 1.13s\n",
      "564:\tlearn: 0.3331951\ttotal: 1.47s\tremaining: 1.13s\n",
      "565:\tlearn: 0.3330156\ttotal: 1.47s\tremaining: 1.13s\n",
      "566:\tlearn: 0.3328455\ttotal: 1.47s\tremaining: 1.12s\n",
      "567:\tlearn: 0.3327196\ttotal: 1.47s\tremaining: 1.12s\n",
      "568:\tlearn: 0.3325679\ttotal: 1.48s\tremaining: 1.12s\n",
      "569:\tlearn: 0.3324492\ttotal: 1.48s\tremaining: 1.11s\n",
      "570:\tlearn: 0.3323074\ttotal: 1.48s\tremaining: 1.11s\n",
      "571:\tlearn: 0.3320375\ttotal: 1.48s\tremaining: 1.11s\n",
      "572:\tlearn: 0.3319211\ttotal: 1.48s\tremaining: 1.11s\n",
      "573:\tlearn: 0.3317864\ttotal: 1.49s\tremaining: 1.1s\n",
      "574:\tlearn: 0.3316393\ttotal: 1.49s\tremaining: 1.1s\n",
      "575:\tlearn: 0.3315344\ttotal: 1.49s\tremaining: 1.1s\n",
      "576:\tlearn: 0.3314189\ttotal: 1.49s\tremaining: 1.09s\n",
      "577:\tlearn: 0.3313482\ttotal: 1.5s\tremaining: 1.09s\n"
     ]
    },
    {
     "name": "stdout",
     "output_type": "stream",
     "text": [
      "578:\tlearn: 0.3311800\ttotal: 1.5s\tremaining: 1.09s\n",
      "579:\tlearn: 0.3310324\ttotal: 1.5s\tremaining: 1.09s\n",
      "580:\tlearn: 0.3309368\ttotal: 1.5s\tremaining: 1.08s\n",
      "581:\tlearn: 0.3308053\ttotal: 1.51s\tremaining: 1.08s\n",
      "582:\tlearn: 0.3306939\ttotal: 1.51s\tremaining: 1.08s\n",
      "583:\tlearn: 0.3305721\ttotal: 1.51s\tremaining: 1.08s\n",
      "584:\tlearn: 0.3304250\ttotal: 1.51s\tremaining: 1.07s\n",
      "585:\tlearn: 0.3303338\ttotal: 1.52s\tremaining: 1.07s\n",
      "586:\tlearn: 0.3302913\ttotal: 1.52s\tremaining: 1.07s\n",
      "587:\tlearn: 0.3302298\ttotal: 1.52s\tremaining: 1.07s\n",
      "588:\tlearn: 0.3300925\ttotal: 1.52s\tremaining: 1.06s\n",
      "589:\tlearn: 0.3299890\ttotal: 1.53s\tremaining: 1.06s\n",
      "590:\tlearn: 0.3298765\ttotal: 1.53s\tremaining: 1.06s\n",
      "591:\tlearn: 0.3297814\ttotal: 1.53s\tremaining: 1.05s\n",
      "592:\tlearn: 0.3296658\ttotal: 1.53s\tremaining: 1.05s\n",
      "593:\tlearn: 0.3295462\ttotal: 1.54s\tremaining: 1.05s\n",
      "594:\tlearn: 0.3294579\ttotal: 1.54s\tremaining: 1.05s\n",
      "595:\tlearn: 0.3293276\ttotal: 1.54s\tremaining: 1.04s\n",
      "596:\tlearn: 0.3292092\ttotal: 1.54s\tremaining: 1.04s\n",
      "597:\tlearn: 0.3291039\ttotal: 1.54s\tremaining: 1.04s\n",
      "598:\tlearn: 0.3290007\ttotal: 1.55s\tremaining: 1.04s\n",
      "599:\tlearn: 0.3289115\ttotal: 1.55s\tremaining: 1.03s\n",
      "600:\tlearn: 0.3287905\ttotal: 1.55s\tremaining: 1.03s\n",
      "601:\tlearn: 0.3286701\ttotal: 1.56s\tremaining: 1.03s\n",
      "602:\tlearn: 0.3284859\ttotal: 1.56s\tremaining: 1.03s\n"
     ]
    },
    {
     "name": "stdout",
     "output_type": "stream",
     "text": [
      "603:\tlearn: 0.3283392\ttotal: 1.56s\tremaining: 1.02s\n",
      "604:\tlearn: 0.3282649\ttotal: 1.56s\tremaining: 1.02s\n",
      "605:\tlearn: 0.3281595\ttotal: 1.56s\tremaining: 1.02s\n",
      "606:\tlearn: 0.3280384\ttotal: 1.57s\tremaining: 1.01s\n",
      "607:\tlearn: 0.3279693\ttotal: 1.57s\tremaining: 1.01s\n",
      "608:\tlearn: 0.3277983\ttotal: 1.57s\tremaining: 1.01s\n",
      "609:\tlearn: 0.3277477\ttotal: 1.57s\tremaining: 1.01s\n",
      "610:\tlearn: 0.3276636\ttotal: 1.58s\tremaining: 1s\n",
      "611:\tlearn: 0.3276112\ttotal: 1.58s\tremaining: 1s\n",
      "612:\tlearn: 0.3275206\ttotal: 1.58s\tremaining: 1000ms\n",
      "613:\tlearn: 0.3273781\ttotal: 1.58s\tremaining: 997ms\n",
      "614:\tlearn: 0.3272443\ttotal: 1.59s\tremaining: 994ms\n",
      "615:\tlearn: 0.3271110\ttotal: 1.59s\tremaining: 992ms\n",
      "616:\tlearn: 0.3270364\ttotal: 1.59s\tremaining: 989ms\n",
      "617:\tlearn: 0.3269341\ttotal: 1.59s\tremaining: 986ms\n",
      "618:\tlearn: 0.3268177\ttotal: 1.6s\tremaining: 984ms\n",
      "619:\tlearn: 0.3267381\ttotal: 1.6s\tremaining: 981ms\n",
      "620:\tlearn: 0.3266473\ttotal: 1.6s\tremaining: 978ms\n",
      "621:\tlearn: 0.3265372\ttotal: 1.6s\tremaining: 976ms\n",
      "622:\tlearn: 0.3264512\ttotal: 1.61s\tremaining: 973ms\n",
      "623:\tlearn: 0.3263317\ttotal: 1.61s\tremaining: 970ms\n",
      "624:\tlearn: 0.3262556\ttotal: 1.61s\tremaining: 968ms\n",
      "625:\tlearn: 0.3261915\ttotal: 1.61s\tremaining: 965ms\n",
      "626:\tlearn: 0.3260864\ttotal: 1.62s\tremaining: 962ms\n",
      "627:\tlearn: 0.3259765\ttotal: 1.62s\tremaining: 960ms\n",
      "628:\tlearn: 0.3258158\ttotal: 1.62s\tremaining: 957ms\n"
     ]
    },
    {
     "name": "stdout",
     "output_type": "stream",
     "text": [
      "629:\tlearn: 0.3257137\ttotal: 1.63s\tremaining: 955ms\n",
      "630:\tlearn: 0.3255818\ttotal: 1.63s\tremaining: 952ms\n",
      "631:\tlearn: 0.3253996\ttotal: 1.63s\tremaining: 949ms\n",
      "632:\tlearn: 0.3253008\ttotal: 1.63s\tremaining: 947ms\n",
      "633:\tlearn: 0.3252310\ttotal: 1.63s\tremaining: 944ms\n",
      "634:\tlearn: 0.3250885\ttotal: 1.64s\tremaining: 941ms\n",
      "635:\tlearn: 0.3250212\ttotal: 1.64s\tremaining: 938ms\n",
      "636:\tlearn: 0.3249581\ttotal: 1.64s\tremaining: 936ms\n",
      "637:\tlearn: 0.3248919\ttotal: 1.64s\tremaining: 933ms\n",
      "638:\tlearn: 0.3247294\ttotal: 1.65s\tremaining: 930ms\n",
      "639:\tlearn: 0.3246373\ttotal: 1.65s\tremaining: 928ms\n",
      "640:\tlearn: 0.3245322\ttotal: 1.65s\tremaining: 925ms\n",
      "641:\tlearn: 0.3244234\ttotal: 1.65s\tremaining: 923ms\n",
      "642:\tlearn: 0.3243444\ttotal: 1.66s\tremaining: 920ms\n",
      "643:\tlearn: 0.3242352\ttotal: 1.66s\tremaining: 917ms\n",
      "644:\tlearn: 0.3241756\ttotal: 1.66s\tremaining: 915ms\n",
      "645:\tlearn: 0.3240399\ttotal: 1.66s\tremaining: 912ms\n",
      "646:\tlearn: 0.3238968\ttotal: 1.67s\tremaining: 909ms\n",
      "647:\tlearn: 0.3238113\ttotal: 1.67s\tremaining: 907ms\n",
      "648:\tlearn: 0.3237015\ttotal: 1.67s\tremaining: 904ms\n",
      "649:\tlearn: 0.3235821\ttotal: 1.67s\tremaining: 901ms\n",
      "650:\tlearn: 0.3234702\ttotal: 1.68s\tremaining: 899ms\n",
      "651:\tlearn: 0.3232246\ttotal: 1.68s\tremaining: 896ms\n",
      "652:\tlearn: 0.3230816\ttotal: 1.68s\tremaining: 894ms\n",
      "653:\tlearn: 0.3229618\ttotal: 1.68s\tremaining: 891ms\n",
      "654:\tlearn: 0.3229199\ttotal: 1.69s\tremaining: 888ms\n",
      "655:\tlearn: 0.3228267\ttotal: 1.69s\tremaining: 886ms\n",
      "656:\tlearn: 0.3226933\ttotal: 1.69s\tremaining: 883ms\n"
     ]
    },
    {
     "name": "stdout",
     "output_type": "stream",
     "text": [
      "657:\tlearn: 0.3226055\ttotal: 1.69s\tremaining: 880ms\n",
      "658:\tlearn: 0.3224496\ttotal: 1.7s\tremaining: 878ms\n",
      "659:\tlearn: 0.3223608\ttotal: 1.7s\tremaining: 875ms\n",
      "660:\tlearn: 0.3222353\ttotal: 1.7s\tremaining: 872ms\n",
      "661:\tlearn: 0.3221206\ttotal: 1.7s\tremaining: 870ms\n",
      "662:\tlearn: 0.3220197\ttotal: 1.71s\tremaining: 867ms\n",
      "663:\tlearn: 0.3219702\ttotal: 1.71s\tremaining: 864ms\n",
      "664:\tlearn: 0.3219207\ttotal: 1.71s\tremaining: 862ms\n",
      "665:\tlearn: 0.3218259\ttotal: 1.71s\tremaining: 859ms\n",
      "666:\tlearn: 0.3216940\ttotal: 1.72s\tremaining: 856ms\n",
      "667:\tlearn: 0.3214671\ttotal: 1.72s\tremaining: 854ms\n",
      "668:\tlearn: 0.3213883\ttotal: 1.72s\tremaining: 851ms\n",
      "669:\tlearn: 0.3213401\ttotal: 1.72s\tremaining: 849ms\n",
      "670:\tlearn: 0.3211960\ttotal: 1.73s\tremaining: 846ms\n",
      "671:\tlearn: 0.3210494\ttotal: 1.73s\tremaining: 843ms\n",
      "672:\tlearn: 0.3209220\ttotal: 1.73s\tremaining: 841ms\n",
      "673:\tlearn: 0.3207792\ttotal: 1.73s\tremaining: 838ms\n",
      "674:\tlearn: 0.3206766\ttotal: 1.74s\tremaining: 836ms\n",
      "675:\tlearn: 0.3205782\ttotal: 1.74s\tremaining: 833ms\n",
      "676:\tlearn: 0.3205017\ttotal: 1.74s\tremaining: 830ms\n",
      "677:\tlearn: 0.3203733\ttotal: 1.74s\tremaining: 828ms\n",
      "678:\tlearn: 0.3202533\ttotal: 1.75s\tremaining: 825ms\n",
      "679:\tlearn: 0.3201650\ttotal: 1.75s\tremaining: 822ms\n",
      "680:\tlearn: 0.3200566\ttotal: 1.75s\tremaining: 820ms\n",
      "681:\tlearn: 0.3199502\ttotal: 1.75s\tremaining: 817ms\n",
      "682:\tlearn: 0.3198657\ttotal: 1.75s\tremaining: 815ms\n"
     ]
    },
    {
     "name": "stdout",
     "output_type": "stream",
     "text": [
      "683:\tlearn: 0.3197462\ttotal: 1.76s\tremaining: 812ms\n",
      "684:\tlearn: 0.3196781\ttotal: 1.76s\tremaining: 809ms\n",
      "685:\tlearn: 0.3196074\ttotal: 1.76s\tremaining: 807ms\n",
      "686:\tlearn: 0.3195594\ttotal: 1.76s\tremaining: 804ms\n",
      "687:\tlearn: 0.3195085\ttotal: 1.77s\tremaining: 802ms\n",
      "688:\tlearn: 0.3194358\ttotal: 1.77s\tremaining: 799ms\n",
      "689:\tlearn: 0.3193459\ttotal: 1.77s\tremaining: 796ms\n",
      "690:\tlearn: 0.3191605\ttotal: 1.77s\tremaining: 794ms\n",
      "691:\tlearn: 0.3190571\ttotal: 1.78s\tremaining: 791ms\n",
      "692:\tlearn: 0.3189743\ttotal: 1.78s\tremaining: 789ms\n",
      "693:\tlearn: 0.3188807\ttotal: 1.78s\tremaining: 786ms\n",
      "694:\tlearn: 0.3187785\ttotal: 1.78s\tremaining: 783ms\n",
      "695:\tlearn: 0.3187224\ttotal: 1.79s\tremaining: 781ms\n",
      "696:\tlearn: 0.3186141\ttotal: 1.79s\tremaining: 778ms\n",
      "697:\tlearn: 0.3185273\ttotal: 1.79s\tremaining: 776ms\n",
      "698:\tlearn: 0.3184408\ttotal: 1.79s\tremaining: 773ms\n",
      "699:\tlearn: 0.3183446\ttotal: 1.8s\tremaining: 770ms\n",
      "700:\tlearn: 0.3182741\ttotal: 1.8s\tremaining: 768ms\n",
      "701:\tlearn: 0.3182071\ttotal: 1.8s\tremaining: 765ms\n",
      "702:\tlearn: 0.3181083\ttotal: 1.8s\tremaining: 763ms\n",
      "703:\tlearn: 0.3180528\ttotal: 1.81s\tremaining: 760ms\n",
      "704:\tlearn: 0.3179601\ttotal: 1.81s\tremaining: 757ms\n",
      "705:\tlearn: 0.3178839\ttotal: 1.81s\tremaining: 755ms\n",
      "706:\tlearn: 0.3178051\ttotal: 1.81s\tremaining: 752ms\n",
      "707:\tlearn: 0.3176582\ttotal: 1.82s\tremaining: 749ms\n",
      "708:\tlearn: 0.3176302\ttotal: 1.82s\tremaining: 747ms\n"
     ]
    },
    {
     "name": "stdout",
     "output_type": "stream",
     "text": [
      "709:\tlearn: 0.3175597\ttotal: 1.82s\tremaining: 744ms\n",
      "710:\tlearn: 0.3174878\ttotal: 1.82s\tremaining: 741ms\n",
      "711:\tlearn: 0.3173654\ttotal: 1.83s\tremaining: 739ms\n",
      "712:\tlearn: 0.3172174\ttotal: 1.83s\tremaining: 736ms\n",
      "713:\tlearn: 0.3171317\ttotal: 1.83s\tremaining: 734ms\n",
      "714:\tlearn: 0.3170305\ttotal: 1.83s\tremaining: 731ms\n",
      "715:\tlearn: 0.3169286\ttotal: 1.84s\tremaining: 729ms\n",
      "716:\tlearn: 0.3168359\ttotal: 1.84s\tremaining: 726ms\n",
      "717:\tlearn: 0.3167236\ttotal: 1.84s\tremaining: 723ms\n",
      "718:\tlearn: 0.3166158\ttotal: 1.84s\tremaining: 721ms\n",
      "719:\tlearn: 0.3164740\ttotal: 1.85s\tremaining: 718ms\n",
      "720:\tlearn: 0.3163613\ttotal: 1.85s\tremaining: 715ms\n",
      "721:\tlearn: 0.3161894\ttotal: 1.85s\tremaining: 713ms\n",
      "722:\tlearn: 0.3160822\ttotal: 1.85s\tremaining: 710ms\n",
      "723:\tlearn: 0.3159816\ttotal: 1.85s\tremaining: 708ms\n",
      "724:\tlearn: 0.3159403\ttotal: 1.86s\tremaining: 705ms\n",
      "725:\tlearn: 0.3158938\ttotal: 1.86s\tremaining: 702ms\n",
      "726:\tlearn: 0.3157521\ttotal: 1.86s\tremaining: 700ms\n",
      "727:\tlearn: 0.3156916\ttotal: 1.86s\tremaining: 697ms\n",
      "728:\tlearn: 0.3155252\ttotal: 1.87s\tremaining: 694ms\n",
      "729:\tlearn: 0.3154550\ttotal: 1.87s\tremaining: 692ms\n",
      "730:\tlearn: 0.3152962\ttotal: 1.87s\tremaining: 689ms\n",
      "731:\tlearn: 0.3152161\ttotal: 1.88s\tremaining: 687ms\n",
      "732:\tlearn: 0.3151327\ttotal: 1.88s\tremaining: 684ms\n",
      "733:\tlearn: 0.3150120\ttotal: 1.88s\tremaining: 682ms\n",
      "734:\tlearn: 0.3148762\ttotal: 1.88s\tremaining: 679ms\n",
      "735:\tlearn: 0.3147637\ttotal: 1.89s\tremaining: 676ms\n",
      "736:\tlearn: 0.3146360\ttotal: 1.89s\tremaining: 674ms\n"
     ]
    },
    {
     "name": "stdout",
     "output_type": "stream",
     "text": [
      "737:\tlearn: 0.3145491\ttotal: 1.89s\tremaining: 671ms\n",
      "738:\tlearn: 0.3144317\ttotal: 1.89s\tremaining: 668ms\n",
      "739:\tlearn: 0.3143274\ttotal: 1.89s\tremaining: 666ms\n",
      "740:\tlearn: 0.3142568\ttotal: 1.9s\tremaining: 663ms\n",
      "741:\tlearn: 0.3141781\ttotal: 1.9s\tremaining: 661ms\n",
      "742:\tlearn: 0.3140916\ttotal: 1.9s\tremaining: 658ms\n",
      "743:\tlearn: 0.3140468\ttotal: 1.9s\tremaining: 655ms\n",
      "744:\tlearn: 0.3139415\ttotal: 1.91s\tremaining: 653ms\n",
      "745:\tlearn: 0.3138429\ttotal: 1.91s\tremaining: 650ms\n",
      "746:\tlearn: 0.3137043\ttotal: 1.91s\tremaining: 648ms\n",
      "747:\tlearn: 0.3136394\ttotal: 1.91s\tremaining: 645ms\n",
      "748:\tlearn: 0.3135394\ttotal: 1.92s\tremaining: 643ms\n",
      "749:\tlearn: 0.3134688\ttotal: 1.92s\tremaining: 640ms\n",
      "750:\tlearn: 0.3133983\ttotal: 1.92s\tremaining: 637ms\n",
      "751:\tlearn: 0.3133202\ttotal: 1.92s\tremaining: 635ms\n",
      "752:\tlearn: 0.3131933\ttotal: 1.93s\tremaining: 632ms\n",
      "753:\tlearn: 0.3130643\ttotal: 1.93s\tremaining: 630ms\n",
      "754:\tlearn: 0.3130130\ttotal: 1.93s\tremaining: 627ms\n",
      "755:\tlearn: 0.3129352\ttotal: 1.93s\tremaining: 624ms\n",
      "756:\tlearn: 0.3128601\ttotal: 1.94s\tremaining: 622ms\n",
      "757:\tlearn: 0.3127371\ttotal: 1.94s\tremaining: 619ms\n",
      "758:\tlearn: 0.3126531\ttotal: 1.94s\tremaining: 616ms\n",
      "759:\tlearn: 0.3125743\ttotal: 1.94s\tremaining: 614ms\n",
      "760:\tlearn: 0.3124911\ttotal: 1.95s\tremaining: 611ms\n",
      "761:\tlearn: 0.3123766\ttotal: 1.95s\tremaining: 609ms\n",
      "762:\tlearn: 0.3123056\ttotal: 1.95s\tremaining: 606ms\n"
     ]
    },
    {
     "name": "stdout",
     "output_type": "stream",
     "text": [
      "763:\tlearn: 0.3122127\ttotal: 1.95s\tremaining: 604ms\n",
      "764:\tlearn: 0.3121263\ttotal: 1.96s\tremaining: 601ms\n",
      "765:\tlearn: 0.3121008\ttotal: 1.96s\tremaining: 599ms\n",
      "766:\tlearn: 0.3120080\ttotal: 1.96s\tremaining: 596ms\n",
      "767:\tlearn: 0.3119061\ttotal: 1.96s\tremaining: 594ms\n",
      "768:\tlearn: 0.3117820\ttotal: 1.97s\tremaining: 591ms\n",
      "769:\tlearn: 0.3116995\ttotal: 1.97s\tremaining: 588ms\n",
      "770:\tlearn: 0.3116097\ttotal: 1.97s\tremaining: 586ms\n",
      "771:\tlearn: 0.3115468\ttotal: 1.97s\tremaining: 583ms\n",
      "772:\tlearn: 0.3114860\ttotal: 1.98s\tremaining: 581ms\n",
      "773:\tlearn: 0.3114119\ttotal: 1.98s\tremaining: 578ms\n",
      "774:\tlearn: 0.3113526\ttotal: 1.98s\tremaining: 575ms\n",
      "775:\tlearn: 0.3112427\ttotal: 1.98s\tremaining: 573ms\n",
      "776:\tlearn: 0.3111306\ttotal: 1.99s\tremaining: 570ms\n",
      "777:\tlearn: 0.3110772\ttotal: 1.99s\tremaining: 568ms\n",
      "778:\tlearn: 0.3110262\ttotal: 1.99s\tremaining: 565ms\n",
      "779:\tlearn: 0.3109247\ttotal: 1.99s\tremaining: 562ms\n",
      "780:\tlearn: 0.3108498\ttotal: 2s\tremaining: 560ms\n",
      "781:\tlearn: 0.3107955\ttotal: 2s\tremaining: 557ms\n",
      "782:\tlearn: 0.3106780\ttotal: 2s\tremaining: 555ms\n",
      "783:\tlearn: 0.3106073\ttotal: 2s\tremaining: 552ms\n",
      "784:\tlearn: 0.3105210\ttotal: 2.01s\tremaining: 550ms\n",
      "785:\tlearn: 0.3104150\ttotal: 2.01s\tremaining: 547ms\n",
      "786:\tlearn: 0.3103468\ttotal: 2.01s\tremaining: 544ms\n",
      "787:\tlearn: 0.3102730\ttotal: 2.01s\tremaining: 542ms\n"
     ]
    },
    {
     "name": "stdout",
     "output_type": "stream",
     "text": [
      "788:\tlearn: 0.3101903\ttotal: 2.02s\tremaining: 539ms\n",
      "789:\tlearn: 0.3101052\ttotal: 2.02s\tremaining: 537ms\n",
      "790:\tlearn: 0.3099941\ttotal: 2.02s\tremaining: 534ms\n",
      "791:\tlearn: 0.3098615\ttotal: 2.02s\tremaining: 532ms\n",
      "792:\tlearn: 0.3097940\ttotal: 2.03s\tremaining: 529ms\n",
      "793:\tlearn: 0.3097385\ttotal: 2.03s\tremaining: 527ms\n",
      "794:\tlearn: 0.3096918\ttotal: 2.03s\tremaining: 524ms\n",
      "795:\tlearn: 0.3096034\ttotal: 2.03s\tremaining: 521ms\n",
      "796:\tlearn: 0.3094752\ttotal: 2.04s\tremaining: 519ms\n",
      "797:\tlearn: 0.3093994\ttotal: 2.04s\tremaining: 516ms\n",
      "798:\tlearn: 0.3092526\ttotal: 2.04s\tremaining: 513ms\n",
      "799:\tlearn: 0.3091799\ttotal: 2.04s\tremaining: 511ms\n",
      "800:\tlearn: 0.3091150\ttotal: 2.04s\tremaining: 508ms\n",
      "801:\tlearn: 0.3090647\ttotal: 2.05s\tremaining: 506ms\n",
      "802:\tlearn: 0.3089599\ttotal: 2.05s\tremaining: 503ms\n",
      "803:\tlearn: 0.3088872\ttotal: 2.05s\tremaining: 501ms\n",
      "804:\tlearn: 0.3087759\ttotal: 2.06s\tremaining: 498ms\n",
      "805:\tlearn: 0.3086746\ttotal: 2.06s\tremaining: 495ms\n",
      "806:\tlearn: 0.3085338\ttotal: 2.06s\tremaining: 493ms\n",
      "807:\tlearn: 0.3084873\ttotal: 2.06s\tremaining: 490ms\n",
      "808:\tlearn: 0.3084176\ttotal: 2.06s\tremaining: 487ms\n",
      "809:\tlearn: 0.3083720\ttotal: 2.07s\tremaining: 485ms\n",
      "810:\tlearn: 0.3083127\ttotal: 2.07s\tremaining: 482ms\n",
      "811:\tlearn: 0.3081787\ttotal: 2.07s\tremaining: 480ms\n",
      "812:\tlearn: 0.3080953\ttotal: 2.07s\tremaining: 477ms\n",
      "813:\tlearn: 0.3080017\ttotal: 2.08s\tremaining: 475ms\n",
      "814:\tlearn: 0.3078982\ttotal: 2.08s\tremaining: 472ms\n",
      "815:\tlearn: 0.3078239\ttotal: 2.08s\tremaining: 469ms\n"
     ]
    },
    {
     "name": "stdout",
     "output_type": "stream",
     "text": [
      "816:\tlearn: 0.3077757\ttotal: 2.08s\tremaining: 467ms\n",
      "817:\tlearn: 0.3076921\ttotal: 2.09s\tremaining: 464ms\n",
      "818:\tlearn: 0.3076361\ttotal: 2.09s\tremaining: 462ms\n",
      "819:\tlearn: 0.3075938\ttotal: 2.09s\tremaining: 459ms\n",
      "820:\tlearn: 0.3075558\ttotal: 2.09s\tremaining: 456ms\n",
      "821:\tlearn: 0.3074385\ttotal: 2.1s\tremaining: 454ms\n",
      "822:\tlearn: 0.3073284\ttotal: 2.1s\tremaining: 451ms\n",
      "823:\tlearn: 0.3072721\ttotal: 2.1s\tremaining: 449ms\n",
      "824:\tlearn: 0.3071840\ttotal: 2.1s\tremaining: 446ms\n",
      "825:\tlearn: 0.3071115\ttotal: 2.1s\tremaining: 443ms\n",
      "826:\tlearn: 0.3069977\ttotal: 2.11s\tremaining: 441ms\n",
      "827:\tlearn: 0.3069500\ttotal: 2.11s\tremaining: 438ms\n",
      "828:\tlearn: 0.3068104\ttotal: 2.11s\tremaining: 436ms\n",
      "829:\tlearn: 0.3067320\ttotal: 2.11s\tremaining: 433ms\n",
      "830:\tlearn: 0.3066485\ttotal: 2.12s\tremaining: 431ms\n",
      "831:\tlearn: 0.3066236\ttotal: 2.12s\tremaining: 428ms\n",
      "832:\tlearn: 0.3064596\ttotal: 2.12s\tremaining: 425ms\n",
      "833:\tlearn: 0.3063774\ttotal: 2.12s\tremaining: 423ms\n",
      "834:\tlearn: 0.3062776\ttotal: 2.13s\tremaining: 420ms\n",
      "835:\tlearn: 0.3061717\ttotal: 2.13s\tremaining: 418ms\n",
      "836:\tlearn: 0.3060849\ttotal: 2.13s\tremaining: 415ms\n",
      "837:\tlearn: 0.3060333\ttotal: 2.13s\tremaining: 413ms\n",
      "838:\tlearn: 0.3059660\ttotal: 2.14s\tremaining: 410ms\n",
      "839:\tlearn: 0.3058782\ttotal: 2.14s\tremaining: 407ms\n",
      "840:\tlearn: 0.3057938\ttotal: 2.14s\tremaining: 405ms\n",
      "841:\tlearn: 0.3056858\ttotal: 2.14s\tremaining: 402ms\n",
      "842:\tlearn: 0.3055664\ttotal: 2.15s\tremaining: 400ms\n"
     ]
    },
    {
     "name": "stdout",
     "output_type": "stream",
     "text": [
      "843:\tlearn: 0.3054857\ttotal: 2.15s\tremaining: 397ms\n",
      "844:\tlearn: 0.3053966\ttotal: 2.15s\tremaining: 395ms\n",
      "845:\tlearn: 0.3053213\ttotal: 2.15s\tremaining: 392ms\n",
      "846:\tlearn: 0.3052140\ttotal: 2.16s\tremaining: 390ms\n",
      "847:\tlearn: 0.3051451\ttotal: 2.16s\tremaining: 387ms\n",
      "848:\tlearn: 0.3050744\ttotal: 2.16s\tremaining: 384ms\n",
      "849:\tlearn: 0.3050166\ttotal: 2.16s\tremaining: 382ms\n",
      "850:\tlearn: 0.3049152\ttotal: 2.17s\tremaining: 379ms\n",
      "851:\tlearn: 0.3048492\ttotal: 2.17s\tremaining: 377ms\n",
      "852:\tlearn: 0.3047624\ttotal: 2.17s\tremaining: 374ms\n",
      "853:\tlearn: 0.3046782\ttotal: 2.17s\tremaining: 372ms\n",
      "854:\tlearn: 0.3045423\ttotal: 2.17s\tremaining: 369ms\n",
      "855:\tlearn: 0.3044794\ttotal: 2.18s\tremaining: 366ms\n",
      "856:\tlearn: 0.3043851\ttotal: 2.18s\tremaining: 364ms\n",
      "857:\tlearn: 0.3043288\ttotal: 2.18s\tremaining: 361ms\n",
      "858:\tlearn: 0.3042571\ttotal: 2.19s\tremaining: 359ms\n",
      "859:\tlearn: 0.3041681\ttotal: 2.19s\tremaining: 356ms\n",
      "860:\tlearn: 0.3041344\ttotal: 2.19s\tremaining: 354ms\n",
      "861:\tlearn: 0.3041032\ttotal: 2.19s\tremaining: 351ms\n",
      "862:\tlearn: 0.3039629\ttotal: 2.19s\tremaining: 348ms\n",
      "863:\tlearn: 0.3038940\ttotal: 2.2s\tremaining: 346ms\n",
      "864:\tlearn: 0.3038028\ttotal: 2.2s\tremaining: 343ms\n",
      "865:\tlearn: 0.3036777\ttotal: 2.2s\tremaining: 341ms\n",
      "866:\tlearn: 0.3035832\ttotal: 2.21s\tremaining: 338ms\n",
      "867:\tlearn: 0.3034878\ttotal: 2.21s\tremaining: 336ms\n",
      "868:\tlearn: 0.3034302\ttotal: 2.21s\tremaining: 333ms\n"
     ]
    },
    {
     "name": "stdout",
     "output_type": "stream",
     "text": [
      "869:\tlearn: 0.3033740\ttotal: 2.21s\tremaining: 331ms\n",
      "870:\tlearn: 0.3032742\ttotal: 2.21s\tremaining: 328ms\n",
      "871:\tlearn: 0.3032028\ttotal: 2.22s\tremaining: 326ms\n",
      "872:\tlearn: 0.3031141\ttotal: 2.22s\tremaining: 323ms\n",
      "873:\tlearn: 0.3030595\ttotal: 2.22s\tremaining: 321ms\n",
      "874:\tlearn: 0.3029727\ttotal: 2.23s\tremaining: 318ms\n",
      "875:\tlearn: 0.3028799\ttotal: 2.23s\tremaining: 315ms\n",
      "876:\tlearn: 0.3027638\ttotal: 2.23s\tremaining: 313ms\n",
      "877:\tlearn: 0.3026540\ttotal: 2.23s\tremaining: 310ms\n",
      "878:\tlearn: 0.3025321\ttotal: 2.23s\tremaining: 308ms\n",
      "879:\tlearn: 0.3024839\ttotal: 2.24s\tremaining: 305ms\n",
      "880:\tlearn: 0.3023587\ttotal: 2.24s\tremaining: 303ms\n",
      "881:\tlearn: 0.3022668\ttotal: 2.24s\tremaining: 300ms\n",
      "882:\tlearn: 0.3021708\ttotal: 2.25s\tremaining: 298ms\n",
      "883:\tlearn: 0.3021029\ttotal: 2.25s\tremaining: 295ms\n",
      "884:\tlearn: 0.3020115\ttotal: 2.25s\tremaining: 292ms\n",
      "885:\tlearn: 0.3019521\ttotal: 2.25s\tremaining: 290ms\n",
      "886:\tlearn: 0.3018858\ttotal: 2.25s\tremaining: 287ms\n",
      "887:\tlearn: 0.3018106\ttotal: 2.26s\tremaining: 285ms\n",
      "888:\tlearn: 0.3016921\ttotal: 2.26s\tremaining: 282ms\n",
      "889:\tlearn: 0.3016125\ttotal: 2.26s\tremaining: 280ms\n",
      "890:\tlearn: 0.3015250\ttotal: 2.27s\tremaining: 277ms\n",
      "891:\tlearn: 0.3014528\ttotal: 2.27s\tremaining: 275ms\n",
      "892:\tlearn: 0.3013309\ttotal: 2.27s\tremaining: 272ms\n",
      "893:\tlearn: 0.3012473\ttotal: 2.27s\tremaining: 269ms\n",
      "894:\tlearn: 0.3011575\ttotal: 2.27s\tremaining: 267ms\n",
      "895:\tlearn: 0.3010445\ttotal: 2.28s\tremaining: 264ms\n"
     ]
    },
    {
     "name": "stdout",
     "output_type": "stream",
     "text": [
      "896:\tlearn: 0.3008614\ttotal: 2.28s\tremaining: 262ms\n",
      "897:\tlearn: 0.3007911\ttotal: 2.28s\tremaining: 259ms\n",
      "898:\tlearn: 0.3006378\ttotal: 2.29s\tremaining: 257ms\n",
      "899:\tlearn: 0.3005773\ttotal: 2.29s\tremaining: 254ms\n",
      "900:\tlearn: 0.3005114\ttotal: 2.29s\tremaining: 252ms\n",
      "901:\tlearn: 0.3004435\ttotal: 2.29s\tremaining: 249ms\n",
      "902:\tlearn: 0.3003569\ttotal: 2.29s\tremaining: 247ms\n",
      "903:\tlearn: 0.3002382\ttotal: 2.3s\tremaining: 244ms\n",
      "904:\tlearn: 0.3001494\ttotal: 2.3s\tremaining: 241ms\n",
      "905:\tlearn: 0.3000945\ttotal: 2.3s\tremaining: 239ms\n",
      "906:\tlearn: 0.3000283\ttotal: 2.3s\tremaining: 236ms\n",
      "907:\tlearn: 0.2999822\ttotal: 2.31s\tremaining: 234ms\n",
      "908:\tlearn: 0.2999034\ttotal: 2.31s\tremaining: 231ms\n",
      "909:\tlearn: 0.2998005\ttotal: 2.31s\tremaining: 229ms\n",
      "910:\tlearn: 0.2997528\ttotal: 2.31s\tremaining: 226ms\n",
      "911:\tlearn: 0.2996327\ttotal: 2.32s\tremaining: 224ms\n",
      "912:\tlearn: 0.2995353\ttotal: 2.32s\tremaining: 221ms\n",
      "913:\tlearn: 0.2994906\ttotal: 2.32s\tremaining: 218ms\n",
      "914:\tlearn: 0.2994522\ttotal: 2.32s\tremaining: 216ms\n",
      "915:\tlearn: 0.2993535\ttotal: 2.33s\tremaining: 213ms\n",
      "916:\tlearn: 0.2992636\ttotal: 2.33s\tremaining: 211ms\n",
      "917:\tlearn: 0.2991821\ttotal: 2.33s\tremaining: 208ms\n",
      "918:\tlearn: 0.2991098\ttotal: 2.33s\tremaining: 206ms\n",
      "919:\tlearn: 0.2989990\ttotal: 2.34s\tremaining: 203ms\n",
      "920:\tlearn: 0.2989256\ttotal: 2.34s\tremaining: 201ms\n",
      "921:\tlearn: 0.2988575\ttotal: 2.34s\tremaining: 198ms\n"
     ]
    },
    {
     "name": "stdout",
     "output_type": "stream",
     "text": [
      "922:\tlearn: 0.2987956\ttotal: 2.34s\tremaining: 196ms\n",
      "923:\tlearn: 0.2986972\ttotal: 2.35s\tremaining: 193ms\n",
      "924:\tlearn: 0.2986168\ttotal: 2.35s\tremaining: 190ms\n",
      "925:\tlearn: 0.2985660\ttotal: 2.35s\tremaining: 188ms\n",
      "926:\tlearn: 0.2984563\ttotal: 2.35s\tremaining: 185ms\n",
      "927:\tlearn: 0.2983569\ttotal: 2.35s\tremaining: 183ms\n",
      "928:\tlearn: 0.2983210\ttotal: 2.36s\tremaining: 180ms\n",
      "929:\tlearn: 0.2982626\ttotal: 2.36s\tremaining: 178ms\n",
      "930:\tlearn: 0.2982241\ttotal: 2.36s\tremaining: 175ms\n",
      "931:\tlearn: 0.2981230\ttotal: 2.37s\tremaining: 173ms\n",
      "932:\tlearn: 0.2980651\ttotal: 2.37s\tremaining: 170ms\n",
      "933:\tlearn: 0.2980161\ttotal: 2.37s\tremaining: 168ms\n",
      "934:\tlearn: 0.2979247\ttotal: 2.37s\tremaining: 165ms\n",
      "935:\tlearn: 0.2978693\ttotal: 2.38s\tremaining: 162ms\n",
      "936:\tlearn: 0.2977820\ttotal: 2.38s\tremaining: 160ms\n",
      "937:\tlearn: 0.2976728\ttotal: 2.38s\tremaining: 157ms\n",
      "938:\tlearn: 0.2975725\ttotal: 2.38s\tremaining: 155ms\n",
      "939:\tlearn: 0.2974914\ttotal: 2.38s\tremaining: 152ms\n",
      "940:\tlearn: 0.2974415\ttotal: 2.39s\tremaining: 150ms\n",
      "941:\tlearn: 0.2973672\ttotal: 2.39s\tremaining: 147ms\n",
      "942:\tlearn: 0.2972873\ttotal: 2.39s\tremaining: 145ms\n",
      "943:\tlearn: 0.2971855\ttotal: 2.4s\tremaining: 142ms\n",
      "944:\tlearn: 0.2971276\ttotal: 2.4s\tremaining: 140ms\n",
      "945:\tlearn: 0.2970568\ttotal: 2.4s\tremaining: 137ms\n",
      "946:\tlearn: 0.2969781\ttotal: 2.4s\tremaining: 134ms\n",
      "947:\tlearn: 0.2969109\ttotal: 2.4s\tremaining: 132ms\n"
     ]
    },
    {
     "name": "stdout",
     "output_type": "stream",
     "text": [
      "948:\tlearn: 0.2968435\ttotal: 2.41s\tremaining: 129ms\n",
      "949:\tlearn: 0.2967441\ttotal: 2.41s\tremaining: 127ms\n",
      "950:\tlearn: 0.2966558\ttotal: 2.41s\tremaining: 124ms\n",
      "951:\tlearn: 0.2966180\ttotal: 2.42s\tremaining: 122ms\n",
      "952:\tlearn: 0.2965062\ttotal: 2.42s\tremaining: 119ms\n",
      "953:\tlearn: 0.2964276\ttotal: 2.42s\tremaining: 117ms\n",
      "954:\tlearn: 0.2963620\ttotal: 2.42s\tremaining: 114ms\n",
      "955:\tlearn: 0.2962855\ttotal: 2.42s\tremaining: 112ms\n",
      "956:\tlearn: 0.2961842\ttotal: 2.43s\tremaining: 109ms\n",
      "957:\tlearn: 0.2960977\ttotal: 2.43s\tremaining: 107ms\n",
      "958:\tlearn: 0.2960381\ttotal: 2.43s\tremaining: 104ms\n",
      "959:\tlearn: 0.2959221\ttotal: 2.43s\tremaining: 101ms\n",
      "960:\tlearn: 0.2958433\ttotal: 2.44s\tremaining: 98.9ms\n",
      "961:\tlearn: 0.2957426\ttotal: 2.44s\tremaining: 96.4ms\n",
      "962:\tlearn: 0.2956785\ttotal: 2.44s\tremaining: 93.8ms\n",
      "963:\tlearn: 0.2955960\ttotal: 2.44s\tremaining: 91.3ms\n",
      "964:\tlearn: 0.2955249\ttotal: 2.45s\tremaining: 88.7ms\n",
      "965:\tlearn: 0.2954484\ttotal: 2.45s\tremaining: 86.2ms\n",
      "966:\tlearn: 0.2953927\ttotal: 2.45s\tremaining: 83.6ms\n",
      "967:\tlearn: 0.2953195\ttotal: 2.45s\tremaining: 81.1ms\n",
      "968:\tlearn: 0.2952280\ttotal: 2.46s\tremaining: 78.6ms\n",
      "969:\tlearn: 0.2951216\ttotal: 2.46s\tremaining: 76.1ms\n",
      "970:\tlearn: 0.2950830\ttotal: 2.46s\tremaining: 73.5ms\n",
      "971:\tlearn: 0.2949996\ttotal: 2.46s\tremaining: 71ms\n",
      "972:\tlearn: 0.2949417\ttotal: 2.47s\tremaining: 68.4ms\n",
      "973:\tlearn: 0.2948919\ttotal: 2.47s\tremaining: 65.9ms\n",
      "974:\tlearn: 0.2948420\ttotal: 2.47s\tremaining: 63.4ms\n",
      "975:\tlearn: 0.2947258\ttotal: 2.47s\tremaining: 60.8ms\n"
     ]
    },
    {
     "name": "stdout",
     "output_type": "stream",
     "text": [
      "976:\tlearn: 0.2946038\ttotal: 2.48s\tremaining: 58.3ms\n",
      "977:\tlearn: 0.2945376\ttotal: 2.48s\tremaining: 55.8ms\n",
      "978:\tlearn: 0.2944799\ttotal: 2.48s\tremaining: 53.2ms\n",
      "979:\tlearn: 0.2943747\ttotal: 2.48s\tremaining: 50.7ms\n",
      "980:\tlearn: 0.2942941\ttotal: 2.49s\tremaining: 48.2ms\n",
      "981:\tlearn: 0.2942433\ttotal: 2.49s\tremaining: 45.6ms\n",
      "982:\tlearn: 0.2941718\ttotal: 2.49s\tremaining: 43.1ms\n",
      "983:\tlearn: 0.2941199\ttotal: 2.49s\tremaining: 40.6ms\n",
      "984:\tlearn: 0.2940698\ttotal: 2.5s\tremaining: 38ms\n",
      "985:\tlearn: 0.2939802\ttotal: 2.5s\tremaining: 35.5ms\n",
      "986:\tlearn: 0.2939234\ttotal: 2.5s\tremaining: 33ms\n",
      "987:\tlearn: 0.2938183\ttotal: 2.5s\tremaining: 30.4ms\n",
      "988:\tlearn: 0.2937459\ttotal: 2.51s\tremaining: 27.9ms\n",
      "989:\tlearn: 0.2936971\ttotal: 2.51s\tremaining: 25.4ms\n",
      "990:\tlearn: 0.2936425\ttotal: 2.51s\tremaining: 22.8ms\n",
      "991:\tlearn: 0.2935703\ttotal: 2.52s\tremaining: 20.3ms\n",
      "992:\tlearn: 0.2934602\ttotal: 2.52s\tremaining: 17.8ms\n",
      "993:\tlearn: 0.2934120\ttotal: 2.52s\tremaining: 15.2ms\n",
      "994:\tlearn: 0.2933553\ttotal: 2.52s\tremaining: 12.7ms\n",
      "995:\tlearn: 0.2932587\ttotal: 2.53s\tremaining: 10.1ms\n",
      "996:\tlearn: 0.2932039\ttotal: 2.53s\tremaining: 7.61ms\n",
      "997:\tlearn: 0.2931524\ttotal: 2.53s\tremaining: 5.08ms\n",
      "998:\tlearn: 0.2930954\ttotal: 2.54s\tremaining: 2.54ms\n"
     ]
    },
    {
     "name": "stdout",
     "output_type": "stream",
     "text": [
      "999:\tlearn: 0.2929884\ttotal: 2.54s\tremaining: 0us\n",
      "Mean Squared error 0.1551748850489237\n"
     ]
    },
    {
     "data": {
      "application/scrapbook.scrap.json+json": {
       "data": 0.1551748850489237,
       "encoder": "json",
       "name": "Catboost MAE",
       "version": 1
      }
     },
     "metadata": {
      "scrapbook": {
       "data": true,
       "display": false,
       "name": "Catboost MAE"
      }
     },
     "output_type": "display_data"
    }
   ],
   "source": [
    "mae_cb = baselineModels.catboost(X_train,y_train,X_test,y_test)\n",
    "#Store MSE Value\n",
    "sb.glue(\"Catboost MAE\",mae_cb)"
   ]
  }
 ],
 "metadata": {
  "interpreter": {
   "hash": "10498c76ddd8160350534c6544a2b2fb65f2138dbc70420f7c81a3268f830f23"
  },
  "kernelspec": {
   "display_name": "Python 3 (ipykernel)",
   "language": "python",
   "name": "python3"
  },
  "language_info": {
   "codemirror_mode": {
    "name": "ipython",
    "version": 3
   },
   "file_extension": ".py",
   "mimetype": "text/x-python",
   "name": "python",
   "nbconvert_exporter": "python",
   "pygments_lexer": "ipython3",
   "version": "3.8.11"
  },
  "papermill": {
   "default_parameters": {},
   "duration": 5.797561,
   "end_time": "2022-03-02T04:30:28.233747",
   "environment_variables": {},
   "exception": null,
   "input_path": "BaselineModels.ipynb",
   "output_path": "./BaseLine_Model_Output/BaselineModels_output_3.ipynb",
   "parameters": {},
   "start_time": "2022-03-02T04:30:22.436186",
   "version": "2.3.3"
  }
 },
 "nbformat": 4,
 "nbformat_minor": 5
}