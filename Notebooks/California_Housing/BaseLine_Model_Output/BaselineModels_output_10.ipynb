{
 "cells": [
  {
   "cell_type": "markdown",
   "id": "796774d6",
   "metadata": {
    "papermill": {
     "duration": 0.013342,
     "end_time": "2022-03-02T04:31:10.396813",
     "exception": false,
     "start_time": "2022-03-02T04:31:10.383471",
     "status": "completed"
    },
    "tags": []
   },
   "source": [
    "## Import Libraries "
   ]
  },
  {
   "cell_type": "code",
   "execution_count": 1,
   "id": "4e3c50df",
   "metadata": {
    "execution": {
     "iopub.execute_input": "2022-03-02T04:31:10.422872Z",
     "iopub.status.busy": "2022-03-02T04:31:10.422162Z",
     "iopub.status.idle": "2022-03-02T04:31:10.426171Z",
     "shell.execute_reply": "2022-03-02T04:31:10.426631Z"
    },
    "papermill": {
     "duration": 0.021412,
     "end_time": "2022-03-02T04:31:10.426906",
     "exception": false,
     "start_time": "2022-03-02T04:31:10.405494",
     "status": "completed"
    },
    "tags": []
   },
   "outputs": [],
   "source": [
    "import warnings\n",
    "import sys\n",
    "sys.path.insert(0, '../../src')\n",
    "warnings.filterwarnings('ignore')"
   ]
  },
  {
   "cell_type": "code",
   "execution_count": 2,
   "id": "b0dcd561",
   "metadata": {
    "execution": {
     "iopub.execute_input": "2022-03-02T04:31:10.440392Z",
     "iopub.status.busy": "2022-03-02T04:31:10.439766Z",
     "iopub.status.idle": "2022-03-02T04:31:12.083402Z",
     "shell.execute_reply": "2022-03-02T04:31:12.083630Z"
    },
    "papermill": {
     "duration": 1.651266,
     "end_time": "2022-03-02T04:31:12.083756",
     "exception": false,
     "start_time": "2022-03-02T04:31:10.432490",
     "status": "completed"
    },
    "tags": []
   },
   "outputs": [],
   "source": [
    "import statsModel\n",
    "import scrapbook as sb \n",
    "import torch \n",
    "import statsModel\n",
    "import baselineModels\n",
    "import californiaDataset\n",
    "import dataset \n",
    "from torch.utils.data import random_split \n",
    "from sklearn.model_selection import train_test_split"
   ]
  },
  {
   "cell_type": "markdown",
   "id": "a1729694",
   "metadata": {
    "papermill": {
     "duration": 0.002848,
     "end_time": "2022-03-02T04:31:12.089621",
     "exception": false,
     "start_time": "2022-03-02T04:31:12.086773",
     "status": "completed"
    },
    "tags": []
   },
   "source": [
    "## Import Dataset \n"
   ]
  },
  {
   "cell_type": "code",
   "execution_count": 3,
   "id": "b9d5c14d",
   "metadata": {
    "execution": {
     "iopub.execute_input": "2022-03-02T04:31:12.099095Z",
     "iopub.status.busy": "2022-03-02T04:31:12.098721Z",
     "iopub.status.idle": "2022-03-02T04:31:12.112702Z",
     "shell.execute_reply": "2022-03-02T04:31:12.112930Z"
    },
    "papermill": {
     "duration": 0.019223,
     "end_time": "2022-03-02T04:31:12.113053",
     "exception": false,
     "start_time": "2022-03-02T04:31:12.093830",
     "status": "completed"
    },
    "tags": []
   },
   "outputs": [
    {
     "name": "stdout",
     "output_type": "stream",
     "text": [
      "       X1    X2        X3        X4      X5        X6     X7      X8      Y\n",
      "0  8.3252  41.0  6.984127  1.023810   322.0  2.555556  37.88 -122.23  4.526\n",
      "1  8.3014  21.0  6.238137  0.971880  2401.0  2.109842  37.86 -122.22  3.585\n",
      "2  7.2574  52.0  8.288136  1.073446   496.0  2.802260  37.85 -122.24  3.521\n",
      "3  5.6431  52.0  5.817352  1.073059   558.0  2.547945  37.85 -122.25  3.413\n",
      "4  3.8462  52.0  6.281853  1.081081   565.0  2.181467  37.85 -122.25  3.422\n"
     ]
    }
   ],
   "source": [
    "n_features = 8\n",
    "n_samples= 20640\n",
    "n_target = 1 \n",
    "X,Y = californiaDataset.california_data()"
   ]
  },
  {
   "cell_type": "code",
   "execution_count": 4,
   "id": "51690242",
   "metadata": {
    "execution": {
     "iopub.execute_input": "2022-03-02T04:31:12.121832Z",
     "iopub.status.busy": "2022-03-02T04:31:12.121399Z",
     "iopub.status.idle": "2022-03-02T04:31:12.123222Z",
     "shell.execute_reply": "2022-03-02T04:31:12.123467Z"
    },
    "papermill": {
     "duration": 0.007329,
     "end_time": "2022-03-02T04:31:12.123575",
     "exception": false,
     "start_time": "2022-03-02T04:31:12.116246",
     "status": "completed"
    },
    "tags": []
   },
   "outputs": [],
   "source": [
    "# Train test split for dataset \n",
    "real_dataset = dataset.CustomDataset(X,Y)\n",
    "X_train, X_test, y_train, y_test = train_test_split(X, Y, test_size=0.2)"
   ]
  },
  {
   "cell_type": "markdown",
   "id": "0a941d3f",
   "metadata": {
    "papermill": {
     "duration": 0.002909,
     "end_time": "2022-03-02T04:31:12.129542",
     "exception": false,
     "start_time": "2022-03-02T04:31:12.126633",
     "status": "completed"
    },
    "tags": []
   },
   "source": [
    "## Stats Model \n",
    "\n"
   ]
  },
  {
   "cell_type": "code",
   "execution_count": 5,
   "id": "68a77d46",
   "metadata": {
    "execution": {
     "iopub.execute_input": "2022-03-02T04:31:12.137476Z",
     "iopub.status.busy": "2022-03-02T04:31:12.137098Z",
     "iopub.status.idle": "2022-03-02T04:31:12.242835Z",
     "shell.execute_reply": "2022-03-02T04:31:12.243105Z"
    },
    "papermill": {
     "duration": 0.11079,
     "end_time": "2022-03-02T04:31:12.243230",
     "exception": false,
     "start_time": "2022-03-02T04:31:12.132440",
     "status": "completed"
    },
    "tags": []
   },
   "outputs": [
    {
     "name": "stderr",
     "output_type": "stream",
     "text": [
      "No handles with labels found to put in legend.\n"
     ]
    },
    {
     "name": "stdout",
     "output_type": "stream",
     "text": [
      "                                 OLS Regression Results                                \n",
      "=======================================================================================\n",
      "Dep. Variable:                      y   R-squared (uncentered):                   0.609\n",
      "Model:                            OLS   Adj. R-squared (uncentered):              0.608\n",
      "Method:                 Least Squares   F-statistic:                              3208.\n",
      "Date:                Wed, 02 Mar 2022   Prob (F-statistic):                        0.00\n",
      "Time:                        10:01:12   Log-Likelihood:                         -15695.\n",
      "No. Observations:               16512   AIC:                                  3.141e+04\n",
      "Df Residuals:                   16504   BIC:                                  3.147e+04\n",
      "Df Model:                           8                                                  \n",
      "Covariance Type:            nonrobust                                                  \n",
      "==============================================================================\n",
      "                 coef    std err          t      P>|t|      [0.025      0.975]\n",
      "------------------------------------------------------------------------------\n",
      "x1             0.7207      0.008     93.160      0.000       0.706       0.736\n",
      "x2             0.1045      0.005     19.209      0.000       0.094       0.115\n",
      "x3            -0.2380      0.014    -16.763      0.000      -0.266      -0.210\n",
      "x4             0.3025      0.014     21.860      0.000       0.275       0.330\n",
      "x5            -0.0011      0.005     -0.204      0.839      -0.011       0.009\n",
      "x6            -0.0855      0.012     -6.881      0.000      -0.110      -0.061\n",
      "x7            -0.7805      0.015    -52.766      0.000      -0.809      -0.752\n",
      "x8            -0.7560      0.015    -51.905      0.000      -0.785      -0.727\n",
      "==============================================================================\n",
      "Omnibus:                     3613.169   Durbin-Watson:                   2.013\n",
      "Prob(Omnibus):                  0.000   Jarque-Bera (JB):            10950.107\n",
      "Skew:                           1.130   Prob(JB):                         0.00\n",
      "Kurtosis:                       6.287   Cond. No.                         6.65\n",
      "==============================================================================\n",
      "\n",
      "Notes:\n",
      "[1] R² is computed without centering (uncentered) since the model does not contain a constant.\n",
      "[2] Standard Errors assume that the covariance matrix of the errors is correctly specified.\n"
     ]
    },
    {
     "data": {
      "image/png": "[encoded data removed]",
      "text/plain": [
       "<Figure size 432x288 with 1 Axes>"
      ]
     },
     "metadata": {
      "needs_background": "light"
     },
     "output_type": "display_data"
    },
    {
     "name": "stdout",
     "output_type": "stream",
     "text": [
      "Performance Metrics\n",
      "Mean Squared Error: 0.4192244976815353\n",
      "Mean Absolute Error: 0.4623335161709274\n",
      "Manhattan distance: 1908.512754753585\n",
      "Euclidean distance: 41.59998469265801\n"
     ]
    },
    {
     "data": {
      "application/scrapbook.scrap.json+json": {
       "data": 0.4192244976815353,
       "encoder": "json",
       "name": "Stats Model MSE",
       "version": 1
      }
     },
     "metadata": {
      "scrapbook": {
       "data": true,
       "display": false,
       "name": "Stats Model MSE"
      }
     },
     "output_type": "display_data"
    },
    {
     "data": {
      "application/scrapbook.scrap.json+json": {
       "data": 0.4623335161709274,
       "encoder": "json",
       "name": "Stats Model MAE",
       "version": 1
      }
     },
     "metadata": {
      "scrapbook": {
       "data": true,
       "display": false,
       "name": "Stats Model MAE"
      }
     },
     "output_type": "display_data"
    },
    {
     "data": {
      "application/scrapbook.scrap.json+json": {
       "data": 1908.512754753585,
       "encoder": "json",
       "name": "Stats Model Manhattan Distance",
       "version": 1
      }
     },
     "metadata": {
      "scrapbook": {
       "data": true,
       "display": false,
       "name": "Stats Model Manhattan Distance"
      }
     },
     "output_type": "display_data"
    },
    {
     "data": {
      "application/scrapbook.scrap.json+json": {
       "data": 41.59998469265801,
       "encoder": "json",
       "name": "Stats Model Euclidean distance",
       "version": 1
      }
     },
     "metadata": {
      "scrapbook": {
       "data": true,
       "display": false,
       "name": "Stats Model Euclidean distance"
      }
     },
     "output_type": "display_data"
    },
    {
     "data": {
      "application/scrapbook.scrap.json+json": {
       "data": [
        0.7206957303799701,
        0.10449146482053678,
        -0.23797738792647222,
        0.3025442290574075,
        -0.0010739531492680965,
        -0.08547423869491022,
        -0.7805051342807068,
        -0.7559605209735509
       ],
       "encoder": "json",
       "name": "Coefficients",
       "version": 1
      }
     },
     "metadata": {
      "scrapbook": {
       "data": true,
       "display": false,
       "name": "Coefficients"
      }
     },
     "output_type": "display_data"
    }
   ],
   "source": [
    "coefficients , y_pred =statsModel.statsModel(X_train,y_train,X_test,y_test)\n",
    "#Store MSE Value \n",
    "sb.glue(\"Coefficients\",coefficients)"
   ]
  },
  {
   "cell_type": "markdown",
   "id": "45659ba7",
   "metadata": {
    "papermill": {
     "duration": 0.00488,
     "end_time": "2022-03-02T04:31:12.253546",
     "exception": false,
     "start_time": "2022-03-02T04:31:12.248666",
     "status": "completed"
    },
    "tags": []
   },
   "source": [
    "# Catboost Model "
   ]
  },
  {
   "cell_type": "code",
   "execution_count": 6,
   "id": "b89605d7",
   "metadata": {
    "execution": {
     "iopub.execute_input": "2022-03-02T04:31:12.300717Z",
     "iopub.status.busy": "2022-03-02T04:31:12.300311Z",
     "iopub.status.idle": "2022-03-02T04:31:14.943990Z",
     "shell.execute_reply": "2022-03-02T04:31:14.944298Z"
    },
    "papermill": {
     "duration": 2.685904,
     "end_time": "2022-03-02T04:31:14.944418",
     "exception": false,
     "start_time": "2022-03-02T04:31:12.258514",
     "status": "completed"
    },
    "tags": []
   },
   "outputs": [
    {
     "name": "stdout",
     "output_type": "stream",
     "text": [
      "Learning rate set to 0.064294\n"
     ]
    },
    {
     "name": "stdout",
     "output_type": "stream",
     "text": [
      "0:\tlearn: 0.9646105\ttotal: 61.1ms\tremaining: 1m 1s\n",
      "1:\tlearn: 0.9315167\ttotal: 64ms\tremaining: 31.9s\n",
      "2:\tlearn: 0.9026834\ttotal: 67ms\tremaining: 22.3s\n",
      "3:\tlearn: 0.8751339\ttotal: 69.8ms\tremaining: 17.4s\n",
      "4:\tlearn: 0.8486662\ttotal: 72.5ms\tremaining: 14.4s\n",
      "5:\tlearn: 0.8248527\ttotal: 75ms\tremaining: 12.4s\n",
      "6:\tlearn: 0.8028031\ttotal: 77.4ms\tremaining: 11s\n",
      "7:\tlearn: 0.7819964\ttotal: 79.5ms\tremaining: 9.86s\n",
      "8:\tlearn: 0.7647496\ttotal: 82.1ms\tremaining: 9.04s\n",
      "9:\tlearn: 0.7459830\ttotal: 84.7ms\tremaining: 8.39s\n",
      "10:\tlearn: 0.7293109\ttotal: 87.2ms\tremaining: 7.84s\n",
      "11:\tlearn: 0.7135848\ttotal: 90.3ms\tremaining: 7.43s\n",
      "12:\tlearn: 0.6998325\ttotal: 92.6ms\tremaining: 7.03s\n",
      "13:\tlearn: 0.6853097\ttotal: 94.8ms\tremaining: 6.68s\n",
      "14:\tlearn: 0.6732612\ttotal: 97.7ms\tremaining: 6.41s\n",
      "15:\tlearn: 0.6617696\ttotal: 100ms\tremaining: 6.16s\n",
      "16:\tlearn: 0.6519901\ttotal: 102ms\tremaining: 5.92s\n",
      "17:\tlearn: 0.6420415\ttotal: 105ms\tremaining: 5.71s\n",
      "18:\tlearn: 0.6337537\ttotal: 107ms\tremaining: 5.53s\n",
      "19:\tlearn: 0.6239099\ttotal: 110ms\tremaining: 5.41s\n",
      "20:\tlearn: 0.6168498\ttotal: 113ms\tremaining: 5.25s\n",
      "21:\tlearn: 0.6090963\ttotal: 115ms\tremaining: 5.11s\n",
      "22:\tlearn: 0.6003930\ttotal: 118ms\tremaining: 4.99s\n",
      "23:\tlearn: 0.5935621\ttotal: 120ms\tremaining: 4.89s\n",
      "24:\tlearn: 0.5870818\ttotal: 122ms\tremaining: 4.78s\n",
      "25:\tlearn: 0.5813944\ttotal: 125ms\tremaining: 4.68s\n"
     ]
    },
    {
     "name": "stdout",
     "output_type": "stream",
     "text": [
      "26:\tlearn: 0.5749076\ttotal: 128ms\tremaining: 4.61s\n",
      "27:\tlearn: 0.5703781\ttotal: 130ms\tremaining: 4.52s\n",
      "28:\tlearn: 0.5646719\ttotal: 133ms\tremaining: 4.44s\n",
      "29:\tlearn: 0.5599148\ttotal: 135ms\tremaining: 4.37s\n",
      "30:\tlearn: 0.5555744\ttotal: 137ms\tremaining: 4.29s\n",
      "31:\tlearn: 0.5517590\ttotal: 140ms\tremaining: 4.22s\n",
      "32:\tlearn: 0.5482102\ttotal: 142ms\tremaining: 4.16s\n",
      "33:\tlearn: 0.5443633\ttotal: 144ms\tremaining: 4.1s\n",
      "34:\tlearn: 0.5394670\ttotal: 147ms\tremaining: 4.04s\n",
      "35:\tlearn: 0.5362813\ttotal: 149ms\tremaining: 4s\n",
      "36:\tlearn: 0.5334400\ttotal: 152ms\tremaining: 3.95s\n",
      "37:\tlearn: 0.5308291\ttotal: 154ms\tremaining: 3.9s\n",
      "38:\tlearn: 0.5271296\ttotal: 157ms\tremaining: 3.86s\n",
      "39:\tlearn: 0.5250968\ttotal: 159ms\tremaining: 3.81s\n",
      "40:\tlearn: 0.5230248\ttotal: 162ms\tremaining: 3.78s\n",
      "41:\tlearn: 0.5207518\ttotal: 164ms\tremaining: 3.74s\n",
      "42:\tlearn: 0.5176102\ttotal: 166ms\tremaining: 3.71s\n",
      "43:\tlearn: 0.5152140\ttotal: 169ms\tremaining: 3.67s\n",
      "44:\tlearn: 0.5133216\ttotal: 172ms\tremaining: 3.64s\n",
      "45:\tlearn: 0.5116489\ttotal: 174ms\tremaining: 3.6s\n",
      "46:\tlearn: 0.5099125\ttotal: 176ms\tremaining: 3.58s\n",
      "47:\tlearn: 0.5079639\ttotal: 179ms\tremaining: 3.54s\n",
      "48:\tlearn: 0.5062753\ttotal: 181ms\tremaining: 3.51s\n",
      "49:\tlearn: 0.5041825\ttotal: 183ms\tremaining: 3.48s\n",
      "50:\tlearn: 0.5026866\ttotal: 186ms\tremaining: 3.46s\n",
      "51:\tlearn: 0.5014327\ttotal: 189ms\tremaining: 3.44s\n",
      "52:\tlearn: 0.4983889\ttotal: 191ms\tremaining: 3.42s\n",
      "53:\tlearn: 0.4969600\ttotal: 194ms\tremaining: 3.4s\n"
     ]
    },
    {
     "name": "stdout",
     "output_type": "stream",
     "text": [
      "54:\tlearn: 0.4941715\ttotal: 197ms\tremaining: 3.38s\n",
      "55:\tlearn: 0.4916932\ttotal: 199ms\tremaining: 3.36s\n",
      "56:\tlearn: 0.4900052\ttotal: 201ms\tremaining: 3.33s\n",
      "57:\tlearn: 0.4882913\ttotal: 204ms\tremaining: 3.31s\n",
      "58:\tlearn: 0.4874128\ttotal: 206ms\tremaining: 3.29s\n",
      "59:\tlearn: 0.4859199\ttotal: 209ms\tremaining: 3.27s\n",
      "60:\tlearn: 0.4846751\ttotal: 211ms\tremaining: 3.25s\n",
      "61:\tlearn: 0.4834460\ttotal: 214ms\tremaining: 3.24s\n",
      "62:\tlearn: 0.4825436\ttotal: 218ms\tremaining: 3.24s\n",
      "63:\tlearn: 0.4807883\ttotal: 220ms\tremaining: 3.22s\n",
      "64:\tlearn: 0.4797788\ttotal: 223ms\tremaining: 3.21s\n",
      "65:\tlearn: 0.4791348\ttotal: 226ms\tremaining: 3.2s\n",
      "66:\tlearn: 0.4778535\ttotal: 228ms\tremaining: 3.18s\n",
      "67:\tlearn: 0.4766809\ttotal: 231ms\tremaining: 3.16s\n",
      "68:\tlearn: 0.4754407\ttotal: 233ms\tremaining: 3.15s\n",
      "69:\tlearn: 0.4747116\ttotal: 235ms\tremaining: 3.13s\n",
      "70:\tlearn: 0.4735873\ttotal: 238ms\tremaining: 3.11s\n",
      "71:\tlearn: 0.4722173\ttotal: 240ms\tremaining: 3.09s\n",
      "72:\tlearn: 0.4716051\ttotal: 242ms\tremaining: 3.08s\n",
      "73:\tlearn: 0.4709812\ttotal: 245ms\tremaining: 3.06s\n",
      "74:\tlearn: 0.4694096\ttotal: 247ms\tremaining: 3.05s\n",
      "75:\tlearn: 0.4686052\ttotal: 250ms\tremaining: 3.03s\n",
      "76:\tlearn: 0.4677814\ttotal: 252ms\tremaining: 3.02s\n",
      "77:\tlearn: 0.4667452\ttotal: 254ms\tremaining: 3.01s\n"
     ]
    },
    {
     "name": "stdout",
     "output_type": "stream",
     "text": [
      "78:\tlearn: 0.4654747\ttotal: 257ms\tremaining: 3s\n",
      "79:\tlearn: 0.4645712\ttotal: 259ms\tremaining: 2.98s\n",
      "80:\tlearn: 0.4632580\ttotal: 262ms\tremaining: 2.97s\n",
      "81:\tlearn: 0.4622639\ttotal: 264ms\tremaining: 2.96s\n",
      "82:\tlearn: 0.4615886\ttotal: 267ms\tremaining: 2.95s\n",
      "83:\tlearn: 0.4605656\ttotal: 269ms\tremaining: 2.94s\n",
      "84:\tlearn: 0.4597327\ttotal: 272ms\tremaining: 2.92s\n",
      "85:\tlearn: 0.4591401\ttotal: 274ms\tremaining: 2.92s\n",
      "86:\tlearn: 0.4585417\ttotal: 277ms\tremaining: 2.91s\n",
      "87:\tlearn: 0.4575155\ttotal: 279ms\tremaining: 2.9s\n",
      "88:\tlearn: 0.4569588\ttotal: 282ms\tremaining: 2.88s\n",
      "89:\tlearn: 0.4566559\ttotal: 284ms\tremaining: 2.87s\n",
      "90:\tlearn: 0.4561852\ttotal: 286ms\tremaining: 2.86s\n",
      "91:\tlearn: 0.4555005\ttotal: 289ms\tremaining: 2.85s\n",
      "92:\tlearn: 0.4547585\ttotal: 291ms\tremaining: 2.84s\n",
      "93:\tlearn: 0.4538469\ttotal: 293ms\tremaining: 2.83s\n",
      "94:\tlearn: 0.4533632\ttotal: 296ms\tremaining: 2.82s\n",
      "95:\tlearn: 0.4527832\ttotal: 298ms\tremaining: 2.81s\n",
      "96:\tlearn: 0.4522225\ttotal: 301ms\tremaining: 2.8s\n",
      "97:\tlearn: 0.4516982\ttotal: 303ms\tremaining: 2.79s\n",
      "98:\tlearn: 0.4508687\ttotal: 306ms\tremaining: 2.78s\n",
      "99:\tlearn: 0.4501248\ttotal: 308ms\tremaining: 2.77s\n",
      "100:\tlearn: 0.4492951\ttotal: 311ms\tremaining: 2.76s\n",
      "101:\tlearn: 0.4487055\ttotal: 313ms\tremaining: 2.75s\n",
      "102:\tlearn: 0.4482606\ttotal: 315ms\tremaining: 2.75s\n",
      "103:\tlearn: 0.4475543\ttotal: 318ms\tremaining: 2.74s\n",
      "104:\tlearn: 0.4471302\ttotal: 320ms\tremaining: 2.73s\n",
      "105:\tlearn: 0.4466887\ttotal: 322ms\tremaining: 2.72s\n"
     ]
    },
    {
     "name": "stdout",
     "output_type": "stream",
     "text": [
      "106:\tlearn: 0.4461650\ttotal: 325ms\tremaining: 2.71s\n",
      "107:\tlearn: 0.4457180\ttotal: 327ms\tremaining: 2.7s\n",
      "108:\tlearn: 0.4451365\ttotal: 330ms\tremaining: 2.7s\n",
      "109:\tlearn: 0.4445660\ttotal: 333ms\tremaining: 2.69s\n",
      "110:\tlearn: 0.4442169\ttotal: 335ms\tremaining: 2.68s\n",
      "111:\tlearn: 0.4433620\ttotal: 338ms\tremaining: 2.68s\n",
      "112:\tlearn: 0.4425813\ttotal: 340ms\tremaining: 2.67s\n",
      "113:\tlearn: 0.4418802\ttotal: 343ms\tremaining: 2.66s\n",
      "114:\tlearn: 0.4413186\ttotal: 345ms\tremaining: 2.66s\n",
      "115:\tlearn: 0.4409120\ttotal: 348ms\tremaining: 2.65s\n",
      "116:\tlearn: 0.4404705\ttotal: 350ms\tremaining: 2.64s\n",
      "117:\tlearn: 0.4396011\ttotal: 352ms\tremaining: 2.63s\n",
      "118:\tlearn: 0.4388419\ttotal: 355ms\tremaining: 2.63s\n",
      "119:\tlearn: 0.4385789\ttotal: 357ms\tremaining: 2.62s\n",
      "120:\tlearn: 0.4381706\ttotal: 360ms\tremaining: 2.61s\n",
      "121:\tlearn: 0.4376228\ttotal: 362ms\tremaining: 2.6s\n",
      "122:\tlearn: 0.4371141\ttotal: 364ms\tremaining: 2.6s\n",
      "123:\tlearn: 0.4368240\ttotal: 367ms\tremaining: 2.59s\n",
      "124:\tlearn: 0.4363311\ttotal: 369ms\tremaining: 2.58s\n",
      "125:\tlearn: 0.4357977\ttotal: 371ms\tremaining: 2.57s\n",
      "126:\tlearn: 0.4353712\ttotal: 373ms\tremaining: 2.57s\n",
      "127:\tlearn: 0.4351309\ttotal: 376ms\tremaining: 2.56s\n",
      "128:\tlearn: 0.4344283\ttotal: 378ms\tremaining: 2.55s\n",
      "129:\tlearn: 0.4340344\ttotal: 381ms\tremaining: 2.55s\n",
      "130:\tlearn: 0.4336545\ttotal: 384ms\tremaining: 2.54s\n",
      "131:\tlearn: 0.4333058\ttotal: 386ms\tremaining: 2.54s\n",
      "132:\tlearn: 0.4327191\ttotal: 389ms\tremaining: 2.53s\n"
     ]
    },
    {
     "name": "stdout",
     "output_type": "stream",
     "text": [
      "133:\tlearn: 0.4322324\ttotal: 391ms\tremaining: 2.53s\n",
      "134:\tlearn: 0.4318659\ttotal: 394ms\tremaining: 2.52s\n",
      "135:\tlearn: 0.4314617\ttotal: 396ms\tremaining: 2.52s\n",
      "136:\tlearn: 0.4312644\ttotal: 399ms\tremaining: 2.51s\n",
      "137:\tlearn: 0.4308985\ttotal: 401ms\tremaining: 2.51s\n",
      "138:\tlearn: 0.4302675\ttotal: 404ms\tremaining: 2.5s\n",
      "139:\tlearn: 0.4299463\ttotal: 407ms\tremaining: 2.5s\n",
      "140:\tlearn: 0.4295602\ttotal: 409ms\tremaining: 2.49s\n",
      "141:\tlearn: 0.4288733\ttotal: 411ms\tremaining: 2.48s\n",
      "142:\tlearn: 0.4283975\ttotal: 414ms\tremaining: 2.48s\n",
      "143:\tlearn: 0.4279786\ttotal: 416ms\tremaining: 2.47s\n",
      "144:\tlearn: 0.4276965\ttotal: 418ms\tremaining: 2.47s\n",
      "145:\tlearn: 0.4273628\ttotal: 420ms\tremaining: 2.46s\n",
      "146:\tlearn: 0.4269504\ttotal: 423ms\tremaining: 2.45s\n",
      "147:\tlearn: 0.4261605\ttotal: 425ms\tremaining: 2.44s\n",
      "148:\tlearn: 0.4256195\ttotal: 427ms\tremaining: 2.44s\n",
      "149:\tlearn: 0.4250830\ttotal: 430ms\tremaining: 2.44s\n",
      "150:\tlearn: 0.4245022\ttotal: 432ms\tremaining: 2.43s\n",
      "151:\tlearn: 0.4240629\ttotal: 435ms\tremaining: 2.42s\n",
      "152:\tlearn: 0.4237254\ttotal: 437ms\tremaining: 2.42s\n",
      "153:\tlearn: 0.4234112\ttotal: 440ms\tremaining: 2.41s\n",
      "154:\tlearn: 0.4228653\ttotal: 442ms\tremaining: 2.41s\n",
      "155:\tlearn: 0.4224108\ttotal: 445ms\tremaining: 2.41s\n",
      "156:\tlearn: 0.4219411\ttotal: 448ms\tremaining: 2.41s\n",
      "157:\tlearn: 0.4215086\ttotal: 450ms\tremaining: 2.4s\n"
     ]
    },
    {
     "name": "stdout",
     "output_type": "stream",
     "text": [
      "158:\tlearn: 0.4211283\ttotal: 453ms\tremaining: 2.4s\n",
      "159:\tlearn: 0.4208261\ttotal: 456ms\tremaining: 2.39s\n",
      "160:\tlearn: 0.4204798\ttotal: 458ms\tremaining: 2.39s\n",
      "161:\tlearn: 0.4199418\ttotal: 461ms\tremaining: 2.38s\n",
      "162:\tlearn: 0.4194677\ttotal: 463ms\tremaining: 2.38s\n",
      "163:\tlearn: 0.4191122\ttotal: 466ms\tremaining: 2.37s\n",
      "164:\tlearn: 0.4186556\ttotal: 468ms\tremaining: 2.37s\n",
      "165:\tlearn: 0.4178969\ttotal: 470ms\tremaining: 2.36s\n",
      "166:\tlearn: 0.4175569\ttotal: 473ms\tremaining: 2.36s\n",
      "167:\tlearn: 0.4171531\ttotal: 475ms\tremaining: 2.35s\n",
      "168:\tlearn: 0.4168187\ttotal: 478ms\tremaining: 2.35s\n",
      "169:\tlearn: 0.4164685\ttotal: 480ms\tremaining: 2.34s\n",
      "170:\tlearn: 0.4161640\ttotal: 483ms\tremaining: 2.34s\n",
      "171:\tlearn: 0.4155191\ttotal: 485ms\tremaining: 2.33s\n",
      "172:\tlearn: 0.4152537\ttotal: 487ms\tremaining: 2.33s\n",
      "173:\tlearn: 0.4149031\ttotal: 489ms\tremaining: 2.32s\n",
      "174:\tlearn: 0.4144515\ttotal: 492ms\tremaining: 2.32s\n",
      "175:\tlearn: 0.4141525\ttotal: 494ms\tremaining: 2.31s\n",
      "176:\tlearn: 0.4138306\ttotal: 497ms\tremaining: 2.31s\n",
      "177:\tlearn: 0.4134524\ttotal: 499ms\tremaining: 2.31s\n",
      "178:\tlearn: 0.4129575\ttotal: 501ms\tremaining: 2.3s\n",
      "179:\tlearn: 0.4125524\ttotal: 504ms\tremaining: 2.29s\n",
      "180:\tlearn: 0.4121883\ttotal: 507ms\tremaining: 2.29s\n",
      "181:\tlearn: 0.4117444\ttotal: 509ms\tremaining: 2.29s\n",
      "182:\tlearn: 0.4112894\ttotal: 512ms\tremaining: 2.29s\n",
      "183:\tlearn: 0.4109351\ttotal: 515ms\tremaining: 2.28s\n",
      "184:\tlearn: 0.4105999\ttotal: 517ms\tremaining: 2.28s\n"
     ]
    },
    {
     "name": "stdout",
     "output_type": "stream",
     "text": [
      "185:\tlearn: 0.4102791\ttotal: 520ms\tremaining: 2.28s\n",
      "186:\tlearn: 0.4099544\ttotal: 523ms\tremaining: 2.27s\n",
      "187:\tlearn: 0.4096390\ttotal: 525ms\tremaining: 2.27s\n",
      "188:\tlearn: 0.4092824\ttotal: 528ms\tremaining: 2.27s\n",
      "189:\tlearn: 0.4089474\ttotal: 530ms\tremaining: 2.26s\n",
      "190:\tlearn: 0.4086575\ttotal: 533ms\tremaining: 2.26s\n",
      "191:\tlearn: 0.4083647\ttotal: 535ms\tremaining: 2.25s\n",
      "192:\tlearn: 0.4080788\ttotal: 537ms\tremaining: 2.25s\n",
      "193:\tlearn: 0.4077809\ttotal: 540ms\tremaining: 2.24s\n",
      "194:\tlearn: 0.4075565\ttotal: 543ms\tremaining: 2.24s\n",
      "195:\tlearn: 0.4068476\ttotal: 545ms\tremaining: 2.24s\n",
      "196:\tlearn: 0.4064619\ttotal: 548ms\tremaining: 2.23s\n",
      "197:\tlearn: 0.4059521\ttotal: 550ms\tremaining: 2.23s\n",
      "198:\tlearn: 0.4056777\ttotal: 553ms\tremaining: 2.22s\n",
      "199:\tlearn: 0.4052927\ttotal: 555ms\tremaining: 2.22s\n",
      "200:\tlearn: 0.4050388\ttotal: 557ms\tremaining: 2.22s\n",
      "201:\tlearn: 0.4046744\ttotal: 560ms\tremaining: 2.21s\n",
      "202:\tlearn: 0.4043309\ttotal: 563ms\tremaining: 2.21s\n",
      "203:\tlearn: 0.4040299\ttotal: 565ms\tremaining: 2.2s\n",
      "204:\tlearn: 0.4037256\ttotal: 567ms\tremaining: 2.2s\n",
      "205:\tlearn: 0.4030607\ttotal: 570ms\tremaining: 2.19s\n",
      "206:\tlearn: 0.4027767\ttotal: 572ms\tremaining: 2.19s\n",
      "207:\tlearn: 0.4023439\ttotal: 574ms\tremaining: 2.19s\n",
      "208:\tlearn: 0.4020050\ttotal: 576ms\tremaining: 2.18s\n",
      "209:\tlearn: 0.4014061\ttotal: 579ms\tremaining: 2.18s\n",
      "210:\tlearn: 0.4010923\ttotal: 581ms\tremaining: 2.17s\n",
      "211:\tlearn: 0.4008081\ttotal: 584ms\tremaining: 2.17s\n"
     ]
    },
    {
     "name": "stdout",
     "output_type": "stream",
     "text": [
      "212:\tlearn: 0.4004777\ttotal: 586ms\tremaining: 2.17s\n",
      "213:\tlearn: 0.4001952\ttotal: 589ms\tremaining: 2.16s\n",
      "214:\tlearn: 0.3999384\ttotal: 591ms\tremaining: 2.16s\n",
      "215:\tlearn: 0.3996924\ttotal: 593ms\tremaining: 2.15s\n",
      "216:\tlearn: 0.3993774\ttotal: 596ms\tremaining: 2.15s\n",
      "217:\tlearn: 0.3989078\ttotal: 598ms\tremaining: 2.14s\n",
      "218:\tlearn: 0.3986615\ttotal: 600ms\tremaining: 2.14s\n",
      "219:\tlearn: 0.3983784\ttotal: 602ms\tremaining: 2.13s\n",
      "220:\tlearn: 0.3981462\ttotal: 605ms\tremaining: 2.13s\n",
      "221:\tlearn: 0.3978838\ttotal: 607ms\tremaining: 2.13s\n",
      "222:\tlearn: 0.3976104\ttotal: 610ms\tremaining: 2.12s\n",
      "223:\tlearn: 0.3973174\ttotal: 612ms\tremaining: 2.12s\n",
      "224:\tlearn: 0.3969603\ttotal: 614ms\tremaining: 2.12s\n",
      "225:\tlearn: 0.3967484\ttotal: 617ms\tremaining: 2.11s\n",
      "226:\tlearn: 0.3964884\ttotal: 619ms\tremaining: 2.11s\n",
      "227:\tlearn: 0.3962539\ttotal: 622ms\tremaining: 2.1s\n",
      "228:\tlearn: 0.3960183\ttotal: 624ms\tremaining: 2.1s\n",
      "229:\tlearn: 0.3957849\ttotal: 626ms\tremaining: 2.1s\n",
      "230:\tlearn: 0.3952063\ttotal: 629ms\tremaining: 2.09s\n",
      "231:\tlearn: 0.3949714\ttotal: 631ms\tremaining: 2.09s\n",
      "232:\tlearn: 0.3945764\ttotal: 634ms\tremaining: 2.09s\n",
      "233:\tlearn: 0.3943062\ttotal: 637ms\tremaining: 2.08s\n",
      "234:\tlearn: 0.3939501\ttotal: 639ms\tremaining: 2.08s\n",
      "235:\tlearn: 0.3936463\ttotal: 642ms\tremaining: 2.08s\n",
      "236:\tlearn: 0.3933311\ttotal: 644ms\tremaining: 2.07s\n",
      "237:\tlearn: 0.3930188\ttotal: 646ms\tremaining: 2.07s\n"
     ]
    },
    {
     "name": "stdout",
     "output_type": "stream",
     "text": [
      "238:\tlearn: 0.3927854\ttotal: 649ms\tremaining: 2.06s\n",
      "239:\tlearn: 0.3924110\ttotal: 651ms\tremaining: 2.06s\n",
      "240:\tlearn: 0.3920812\ttotal: 654ms\tremaining: 2.06s\n",
      "241:\tlearn: 0.3917368\ttotal: 656ms\tremaining: 2.05s\n",
      "242:\tlearn: 0.3915137\ttotal: 658ms\tremaining: 2.05s\n",
      "243:\tlearn: 0.3912614\ttotal: 660ms\tremaining: 2.05s\n",
      "244:\tlearn: 0.3909847\ttotal: 663ms\tremaining: 2.04s\n",
      "245:\tlearn: 0.3907404\ttotal: 666ms\tremaining: 2.04s\n",
      "246:\tlearn: 0.3904642\ttotal: 668ms\tremaining: 2.04s\n",
      "247:\tlearn: 0.3902437\ttotal: 670ms\tremaining: 2.03s\n",
      "248:\tlearn: 0.3900404\ttotal: 672ms\tremaining: 2.03s\n",
      "249:\tlearn: 0.3896437\ttotal: 675ms\tremaining: 2.02s\n",
      "250:\tlearn: 0.3894550\ttotal: 677ms\tremaining: 2.02s\n",
      "251:\tlearn: 0.3888499\ttotal: 680ms\tremaining: 2.02s\n",
      "252:\tlearn: 0.3886048\ttotal: 682ms\tremaining: 2.01s\n",
      "253:\tlearn: 0.3884101\ttotal: 685ms\tremaining: 2.01s\n",
      "254:\tlearn: 0.3881168\ttotal: 687ms\tremaining: 2.01s\n",
      "255:\tlearn: 0.3879547\ttotal: 690ms\tremaining: 2s\n",
      "256:\tlearn: 0.3876784\ttotal: 692ms\tremaining: 2s\n",
      "257:\tlearn: 0.3875200\ttotal: 695ms\tremaining: 2s\n",
      "258:\tlearn: 0.3872574\ttotal: 697ms\tremaining: 1.99s\n",
      "259:\tlearn: 0.3869903\ttotal: 700ms\tremaining: 1.99s\n",
      "260:\tlearn: 0.3867197\ttotal: 702ms\tremaining: 1.99s\n",
      "261:\tlearn: 0.3865119\ttotal: 704ms\tremaining: 1.98s\n",
      "262:\tlearn: 0.3862973\ttotal: 707ms\tremaining: 1.98s\n",
      "263:\tlearn: 0.3860567\ttotal: 709ms\tremaining: 1.98s\n",
      "264:\tlearn: 0.3858510\ttotal: 712ms\tremaining: 1.97s\n",
      "265:\tlearn: 0.3855558\ttotal: 714ms\tremaining: 1.97s\n"
     ]
    },
    {
     "name": "stdout",
     "output_type": "stream",
     "text": [
      "266:\tlearn: 0.3853121\ttotal: 717ms\tremaining: 1.97s\n",
      "267:\tlearn: 0.3851302\ttotal: 719ms\tremaining: 1.97s\n",
      "268:\tlearn: 0.3849531\ttotal: 722ms\tremaining: 1.96s\n",
      "269:\tlearn: 0.3846715\ttotal: 725ms\tremaining: 1.96s\n",
      "270:\tlearn: 0.3844613\ttotal: 727ms\tremaining: 1.96s\n",
      "271:\tlearn: 0.3842695\ttotal: 730ms\tremaining: 1.95s\n",
      "272:\tlearn: 0.3840121\ttotal: 732ms\tremaining: 1.95s\n",
      "273:\tlearn: 0.3838422\ttotal: 734ms\tremaining: 1.95s\n",
      "274:\tlearn: 0.3836333\ttotal: 737ms\tremaining: 1.94s\n",
      "275:\tlearn: 0.3833508\ttotal: 739ms\tremaining: 1.94s\n",
      "276:\tlearn: 0.3830777\ttotal: 741ms\tremaining: 1.93s\n",
      "277:\tlearn: 0.3828928\ttotal: 744ms\tremaining: 1.93s\n",
      "278:\tlearn: 0.3825931\ttotal: 746ms\tremaining: 1.93s\n",
      "279:\tlearn: 0.3823647\ttotal: 748ms\tremaining: 1.92s\n",
      "280:\tlearn: 0.3821618\ttotal: 751ms\tremaining: 1.92s\n",
      "281:\tlearn: 0.3819762\ttotal: 754ms\tremaining: 1.92s\n",
      "282:\tlearn: 0.3818022\ttotal: 757ms\tremaining: 1.92s\n",
      "283:\tlearn: 0.3816213\ttotal: 759ms\tremaining: 1.91s\n",
      "284:\tlearn: 0.3814335\ttotal: 761ms\tremaining: 1.91s\n",
      "285:\tlearn: 0.3812227\ttotal: 763ms\tremaining: 1.91s\n",
      "286:\tlearn: 0.3810092\ttotal: 766ms\tremaining: 1.9s\n",
      "287:\tlearn: 0.3805480\ttotal: 769ms\tremaining: 1.9s\n",
      "288:\tlearn: 0.3803653\ttotal: 771ms\tremaining: 1.9s\n",
      "289:\tlearn: 0.3802111\ttotal: 773ms\tremaining: 1.89s\n",
      "290:\tlearn: 0.3800363\ttotal: 776ms\tremaining: 1.89s\n",
      "291:\tlearn: 0.3798375\ttotal: 778ms\tremaining: 1.89s\n",
      "292:\tlearn: 0.3795901\ttotal: 780ms\tremaining: 1.88s\n"
     ]
    },
    {
     "name": "stdout",
     "output_type": "stream",
     "text": [
      "293:\tlearn: 0.3793861\ttotal: 783ms\tremaining: 1.88s\n",
      "294:\tlearn: 0.3791262\ttotal: 785ms\tremaining: 1.88s\n",
      "295:\tlearn: 0.3789007\ttotal: 788ms\tremaining: 1.87s\n",
      "296:\tlearn: 0.3787258\ttotal: 790ms\tremaining: 1.87s\n",
      "297:\tlearn: 0.3785226\ttotal: 792ms\tremaining: 1.86s\n",
      "298:\tlearn: 0.3782751\ttotal: 795ms\tremaining: 1.86s\n",
      "299:\tlearn: 0.3780340\ttotal: 797ms\tremaining: 1.86s\n",
      "300:\tlearn: 0.3777996\ttotal: 799ms\tremaining: 1.86s\n",
      "301:\tlearn: 0.3775576\ttotal: 802ms\tremaining: 1.85s\n",
      "302:\tlearn: 0.3774085\ttotal: 804ms\tremaining: 1.85s\n",
      "303:\tlearn: 0.3772655\ttotal: 807ms\tremaining: 1.85s\n",
      "304:\tlearn: 0.3771130\ttotal: 809ms\tremaining: 1.84s\n",
      "305:\tlearn: 0.3769977\ttotal: 812ms\tremaining: 1.84s\n",
      "306:\tlearn: 0.3768573\ttotal: 815ms\tremaining: 1.84s\n",
      "307:\tlearn: 0.3767084\ttotal: 817ms\tremaining: 1.83s\n",
      "308:\tlearn: 0.3765563\ttotal: 819ms\tremaining: 1.83s\n",
      "309:\tlearn: 0.3761793\ttotal: 821ms\tremaining: 1.83s\n",
      "310:\tlearn: 0.3759967\ttotal: 824ms\tremaining: 1.83s\n",
      "311:\tlearn: 0.3758072\ttotal: 826ms\tremaining: 1.82s\n",
      "312:\tlearn: 0.3756622\ttotal: 829ms\tremaining: 1.82s\n",
      "313:\tlearn: 0.3754373\ttotal: 831ms\tremaining: 1.81s\n",
      "314:\tlearn: 0.3752110\ttotal: 834ms\tremaining: 1.81s\n",
      "315:\tlearn: 0.3750319\ttotal: 836ms\tremaining: 1.81s\n",
      "316:\tlearn: 0.3747966\ttotal: 839ms\tremaining: 1.81s\n",
      "317:\tlearn: 0.3745806\ttotal: 841ms\tremaining: 1.8s\n",
      "318:\tlearn: 0.3744969\ttotal: 843ms\tremaining: 1.8s\n"
     ]
    },
    {
     "name": "stdout",
     "output_type": "stream",
     "text": [
      "319:\tlearn: 0.3742452\ttotal: 846ms\tremaining: 1.8s\n",
      "320:\tlearn: 0.3740952\ttotal: 848ms\tremaining: 1.79s\n",
      "321:\tlearn: 0.3737963\ttotal: 850ms\tremaining: 1.79s\n",
      "322:\tlearn: 0.3732947\ttotal: 853ms\tremaining: 1.79s\n",
      "323:\tlearn: 0.3731428\ttotal: 855ms\tremaining: 1.78s\n",
      "324:\tlearn: 0.3729203\ttotal: 858ms\tremaining: 1.78s\n",
      "325:\tlearn: 0.3727457\ttotal: 860ms\tremaining: 1.78s\n",
      "326:\tlearn: 0.3725099\ttotal: 862ms\tremaining: 1.77s\n",
      "327:\tlearn: 0.3722566\ttotal: 865ms\tremaining: 1.77s\n",
      "328:\tlearn: 0.3721018\ttotal: 867ms\tremaining: 1.77s\n",
      "329:\tlearn: 0.3718984\ttotal: 869ms\tremaining: 1.76s\n",
      "330:\tlearn: 0.3717336\ttotal: 872ms\tremaining: 1.76s\n",
      "331:\tlearn: 0.3715155\ttotal: 874ms\tremaining: 1.76s\n",
      "332:\tlearn: 0.3713014\ttotal: 877ms\tremaining: 1.76s\n",
      "333:\tlearn: 0.3710951\ttotal: 879ms\tremaining: 1.75s\n",
      "334:\tlearn: 0.3709115\ttotal: 882ms\tremaining: 1.75s\n",
      "335:\tlearn: 0.3707570\ttotal: 884ms\tremaining: 1.75s\n",
      "336:\tlearn: 0.3706266\ttotal: 886ms\tremaining: 1.74s\n",
      "337:\tlearn: 0.3704300\ttotal: 889ms\tremaining: 1.74s\n",
      "338:\tlearn: 0.3702057\ttotal: 891ms\tremaining: 1.74s\n",
      "339:\tlearn: 0.3700995\ttotal: 894ms\tremaining: 1.74s\n",
      "340:\tlearn: 0.3698876\ttotal: 896ms\tremaining: 1.73s\n",
      "341:\tlearn: 0.3697078\ttotal: 899ms\tremaining: 1.73s\n",
      "342:\tlearn: 0.3693496\ttotal: 901ms\tremaining: 1.73s\n",
      "343:\tlearn: 0.3690986\ttotal: 904ms\tremaining: 1.72s\n",
      "344:\tlearn: 0.3689274\ttotal: 906ms\tremaining: 1.72s\n",
      "345:\tlearn: 0.3687108\ttotal: 909ms\tremaining: 1.72s\n",
      "346:\tlearn: 0.3685737\ttotal: 911ms\tremaining: 1.71s\n"
     ]
    },
    {
     "name": "stdout",
     "output_type": "stream",
     "text": [
      "347:\tlearn: 0.3683670\ttotal: 914ms\tremaining: 1.71s\n",
      "348:\tlearn: 0.3681451\ttotal: 916ms\tremaining: 1.71s\n",
      "349:\tlearn: 0.3678608\ttotal: 919ms\tremaining: 1.71s\n",
      "350:\tlearn: 0.3676591\ttotal: 921ms\tremaining: 1.7s\n",
      "351:\tlearn: 0.3674979\ttotal: 923ms\tremaining: 1.7s\n",
      "352:\tlearn: 0.3672818\ttotal: 926ms\tremaining: 1.7s\n",
      "353:\tlearn: 0.3670819\ttotal: 929ms\tremaining: 1.69s\n",
      "354:\tlearn: 0.3669028\ttotal: 931ms\tremaining: 1.69s\n",
      "355:\tlearn: 0.3667751\ttotal: 934ms\tremaining: 1.69s\n",
      "356:\tlearn: 0.3666055\ttotal: 936ms\tremaining: 1.69s\n",
      "357:\tlearn: 0.3664158\ttotal: 938ms\tremaining: 1.68s\n",
      "358:\tlearn: 0.3662707\ttotal: 941ms\tremaining: 1.68s\n",
      "359:\tlearn: 0.3660977\ttotal: 943ms\tremaining: 1.68s\n",
      "360:\tlearn: 0.3659721\ttotal: 946ms\tremaining: 1.67s\n",
      "361:\tlearn: 0.3657813\ttotal: 949ms\tremaining: 1.67s\n",
      "362:\tlearn: 0.3656560\ttotal: 951ms\tremaining: 1.67s\n",
      "363:\tlearn: 0.3654074\ttotal: 954ms\tremaining: 1.67s\n",
      "364:\tlearn: 0.3652320\ttotal: 957ms\tremaining: 1.66s\n",
      "365:\tlearn: 0.3651222\ttotal: 959ms\tremaining: 1.66s\n",
      "366:\tlearn: 0.3649060\ttotal: 962ms\tremaining: 1.66s\n",
      "367:\tlearn: 0.3646973\ttotal: 965ms\tremaining: 1.66s\n",
      "368:\tlearn: 0.3644596\ttotal: 967ms\tremaining: 1.65s\n",
      "369:\tlearn: 0.3642793\ttotal: 971ms\tremaining: 1.65s\n",
      "370:\tlearn: 0.3641646\ttotal: 973ms\tremaining: 1.65s\n",
      "371:\tlearn: 0.3640210\ttotal: 976ms\tremaining: 1.65s\n"
     ]
    },
    {
     "name": "stdout",
     "output_type": "stream",
     "text": [
      "372:\tlearn: 0.3636493\ttotal: 980ms\tremaining: 1.65s\n",
      "373:\tlearn: 0.3635494\ttotal: 983ms\tremaining: 1.64s\n",
      "374:\tlearn: 0.3633670\ttotal: 985ms\tremaining: 1.64s\n",
      "375:\tlearn: 0.3631955\ttotal: 987ms\tremaining: 1.64s\n",
      "376:\tlearn: 0.3630745\ttotal: 990ms\tremaining: 1.64s\n",
      "377:\tlearn: 0.3629861\ttotal: 992ms\tremaining: 1.63s\n",
      "378:\tlearn: 0.3628149\ttotal: 995ms\tremaining: 1.63s\n",
      "379:\tlearn: 0.3626994\ttotal: 997ms\tremaining: 1.63s\n",
      "380:\tlearn: 0.3623970\ttotal: 999ms\tremaining: 1.62s\n",
      "381:\tlearn: 0.3622515\ttotal: 1s\tremaining: 1.62s\n",
      "382:\tlearn: 0.3621034\ttotal: 1s\tremaining: 1.62s\n",
      "383:\tlearn: 0.3619308\ttotal: 1.01s\tremaining: 1.61s\n",
      "384:\tlearn: 0.3617597\ttotal: 1.01s\tremaining: 1.61s\n",
      "385:\tlearn: 0.3616283\ttotal: 1.01s\tremaining: 1.61s\n",
      "386:\tlearn: 0.3614959\ttotal: 1.01s\tremaining: 1.61s\n",
      "387:\tlearn: 0.3612879\ttotal: 1.02s\tremaining: 1.6s\n",
      "388:\tlearn: 0.3610914\ttotal: 1.02s\tremaining: 1.6s\n",
      "389:\tlearn: 0.3609827\ttotal: 1.02s\tremaining: 1.6s\n",
      "390:\tlearn: 0.3607410\ttotal: 1.02s\tremaining: 1.59s\n",
      "391:\tlearn: 0.3606011\ttotal: 1.02s\tremaining: 1.59s\n",
      "392:\tlearn: 0.3604728\ttotal: 1.03s\tremaining: 1.59s\n",
      "393:\tlearn: 0.3603273\ttotal: 1.03s\tremaining: 1.58s\n",
      "394:\tlearn: 0.3602255\ttotal: 1.03s\tremaining: 1.58s\n",
      "395:\tlearn: 0.3600641\ttotal: 1.03s\tremaining: 1.58s\n",
      "396:\tlearn: 0.3598743\ttotal: 1.04s\tremaining: 1.58s\n"
     ]
    },
    {
     "name": "stdout",
     "output_type": "stream",
     "text": [
      "397:\tlearn: 0.3596297\ttotal: 1.04s\tremaining: 1.57s\n",
      "398:\tlearn: 0.3595080\ttotal: 1.04s\tremaining: 1.57s\n",
      "399:\tlearn: 0.3592567\ttotal: 1.04s\tremaining: 1.57s\n",
      "400:\tlearn: 0.3591215\ttotal: 1.05s\tremaining: 1.56s\n",
      "401:\tlearn: 0.3589465\ttotal: 1.05s\tremaining: 1.56s\n",
      "402:\tlearn: 0.3588158\ttotal: 1.05s\tremaining: 1.56s\n",
      "403:\tlearn: 0.3583707\ttotal: 1.05s\tremaining: 1.56s\n",
      "404:\tlearn: 0.3582451\ttotal: 1.06s\tremaining: 1.55s\n",
      "405:\tlearn: 0.3580786\ttotal: 1.06s\tremaining: 1.55s\n",
      "406:\tlearn: 0.3579980\ttotal: 1.06s\tremaining: 1.55s\n",
      "407:\tlearn: 0.3579158\ttotal: 1.06s\tremaining: 1.54s\n",
      "408:\tlearn: 0.3578007\ttotal: 1.07s\tremaining: 1.54s\n",
      "409:\tlearn: 0.3574923\ttotal: 1.07s\tremaining: 1.54s\n",
      "410:\tlearn: 0.3573659\ttotal: 1.07s\tremaining: 1.53s\n",
      "411:\tlearn: 0.3571354\ttotal: 1.07s\tremaining: 1.53s\n",
      "412:\tlearn: 0.3569775\ttotal: 1.08s\tremaining: 1.53s\n",
      "413:\tlearn: 0.3568234\ttotal: 1.08s\tremaining: 1.53s\n",
      "414:\tlearn: 0.3566736\ttotal: 1.08s\tremaining: 1.53s\n",
      "415:\tlearn: 0.3565348\ttotal: 1.08s\tremaining: 1.52s\n",
      "416:\tlearn: 0.3563674\ttotal: 1.09s\tremaining: 1.52s\n",
      "417:\tlearn: 0.3562789\ttotal: 1.09s\tremaining: 1.52s\n",
      "418:\tlearn: 0.3561526\ttotal: 1.09s\tremaining: 1.52s\n",
      "419:\tlearn: 0.3560636\ttotal: 1.1s\tremaining: 1.51s\n",
      "420:\tlearn: 0.3559781\ttotal: 1.1s\tremaining: 1.51s\n",
      "421:\tlearn: 0.3558737\ttotal: 1.1s\tremaining: 1.51s\n",
      "422:\tlearn: 0.3557704\ttotal: 1.1s\tremaining: 1.5s\n",
      "423:\tlearn: 0.3555262\ttotal: 1.1s\tremaining: 1.5s\n"
     ]
    },
    {
     "name": "stdout",
     "output_type": "stream",
     "text": [
      "424:\tlearn: 0.3553844\ttotal: 1.11s\tremaining: 1.5s\n",
      "425:\tlearn: 0.3551579\ttotal: 1.11s\tremaining: 1.5s\n",
      "426:\tlearn: 0.3550503\ttotal: 1.11s\tremaining: 1.49s\n",
      "427:\tlearn: 0.3548824\ttotal: 1.11s\tremaining: 1.49s\n",
      "428:\tlearn: 0.3546589\ttotal: 1.12s\tremaining: 1.49s\n",
      "429:\tlearn: 0.3545462\ttotal: 1.12s\tremaining: 1.48s\n",
      "430:\tlearn: 0.3543307\ttotal: 1.12s\tremaining: 1.48s\n",
      "431:\tlearn: 0.3541107\ttotal: 1.12s\tremaining: 1.48s\n",
      "432:\tlearn: 0.3540223\ttotal: 1.13s\tremaining: 1.48s\n",
      "433:\tlearn: 0.3538416\ttotal: 1.13s\tremaining: 1.47s\n",
      "434:\tlearn: 0.3536581\ttotal: 1.13s\tremaining: 1.47s\n",
      "435:\tlearn: 0.3534687\ttotal: 1.13s\tremaining: 1.47s\n",
      "436:\tlearn: 0.3533228\ttotal: 1.14s\tremaining: 1.46s\n",
      "437:\tlearn: 0.3531564\ttotal: 1.14s\tremaining: 1.46s\n",
      "438:\tlearn: 0.3530074\ttotal: 1.14s\tremaining: 1.46s\n",
      "439:\tlearn: 0.3528440\ttotal: 1.14s\tremaining: 1.46s\n",
      "440:\tlearn: 0.3526784\ttotal: 1.15s\tremaining: 1.45s\n",
      "441:\tlearn: 0.3524055\ttotal: 1.15s\tremaining: 1.45s\n",
      "442:\tlearn: 0.3522417\ttotal: 1.15s\tremaining: 1.45s\n",
      "443:\tlearn: 0.3521073\ttotal: 1.15s\tremaining: 1.45s\n",
      "444:\tlearn: 0.3517891\ttotal: 1.16s\tremaining: 1.44s\n",
      "445:\tlearn: 0.3516270\ttotal: 1.16s\tremaining: 1.44s\n",
      "446:\tlearn: 0.3515121\ttotal: 1.16s\tremaining: 1.44s\n",
      "447:\tlearn: 0.3514012\ttotal: 1.16s\tremaining: 1.43s\n",
      "448:\tlearn: 0.3512694\ttotal: 1.17s\tremaining: 1.43s\n",
      "449:\tlearn: 0.3510925\ttotal: 1.17s\tremaining: 1.43s\n",
      "450:\tlearn: 0.3508978\ttotal: 1.17s\tremaining: 1.43s\n"
     ]
    },
    {
     "name": "stdout",
     "output_type": "stream",
     "text": [
      "451:\tlearn: 0.3507400\ttotal: 1.17s\tremaining: 1.42s\n",
      "452:\tlearn: 0.3505811\ttotal: 1.18s\tremaining: 1.42s\n",
      "453:\tlearn: 0.3503974\ttotal: 1.18s\tremaining: 1.42s\n",
      "454:\tlearn: 0.3502255\ttotal: 1.18s\tremaining: 1.42s\n",
      "455:\tlearn: 0.3500890\ttotal: 1.18s\tremaining: 1.41s\n",
      "456:\tlearn: 0.3498827\ttotal: 1.19s\tremaining: 1.41s\n",
      "457:\tlearn: 0.3497343\ttotal: 1.19s\tremaining: 1.41s\n",
      "458:\tlearn: 0.3495047\ttotal: 1.19s\tremaining: 1.4s\n",
      "459:\tlearn: 0.3493582\ttotal: 1.19s\tremaining: 1.4s\n",
      "460:\tlearn: 0.3492185\ttotal: 1.2s\tremaining: 1.4s\n",
      "461:\tlearn: 0.3489454\ttotal: 1.2s\tremaining: 1.4s\n",
      "462:\tlearn: 0.3487095\ttotal: 1.2s\tremaining: 1.39s\n",
      "463:\tlearn: 0.3485289\ttotal: 1.2s\tremaining: 1.39s\n",
      "464:\tlearn: 0.3483842\ttotal: 1.21s\tremaining: 1.39s\n",
      "465:\tlearn: 0.3482668\ttotal: 1.21s\tremaining: 1.38s\n",
      "466:\tlearn: 0.3480924\ttotal: 1.21s\tremaining: 1.38s\n",
      "467:\tlearn: 0.3479758\ttotal: 1.21s\tremaining: 1.38s\n",
      "468:\tlearn: 0.3478218\ttotal: 1.22s\tremaining: 1.38s\n",
      "469:\tlearn: 0.3477280\ttotal: 1.22s\tremaining: 1.37s\n",
      "470:\tlearn: 0.3475761\ttotal: 1.22s\tremaining: 1.37s\n",
      "471:\tlearn: 0.3474887\ttotal: 1.22s\tremaining: 1.37s\n",
      "472:\tlearn: 0.3474059\ttotal: 1.23s\tremaining: 1.36s\n",
      "473:\tlearn: 0.3472025\ttotal: 1.23s\tremaining: 1.36s\n",
      "474:\tlearn: 0.3470767\ttotal: 1.23s\tremaining: 1.36s\n",
      "475:\tlearn: 0.3470031\ttotal: 1.23s\tremaining: 1.36s\n"
     ]
    },
    {
     "name": "stdout",
     "output_type": "stream",
     "text": [
      "476:\tlearn: 0.3468561\ttotal: 1.24s\tremaining: 1.35s\n",
      "477:\tlearn: 0.3466944\ttotal: 1.24s\tremaining: 1.35s\n",
      "478:\tlearn: 0.3465090\ttotal: 1.24s\tremaining: 1.35s\n",
      "479:\tlearn: 0.3463951\ttotal: 1.24s\tremaining: 1.35s\n",
      "480:\tlearn: 0.3462756\ttotal: 1.25s\tremaining: 1.34s\n",
      "481:\tlearn: 0.3461315\ttotal: 1.25s\tremaining: 1.34s\n",
      "482:\tlearn: 0.3459505\ttotal: 1.25s\tremaining: 1.34s\n",
      "483:\tlearn: 0.3457995\ttotal: 1.25s\tremaining: 1.33s\n",
      "484:\tlearn: 0.3456954\ttotal: 1.25s\tremaining: 1.33s\n",
      "485:\tlearn: 0.3455472\ttotal: 1.26s\tremaining: 1.33s\n",
      "486:\tlearn: 0.3454645\ttotal: 1.26s\tremaining: 1.33s\n",
      "487:\tlearn: 0.3453408\ttotal: 1.26s\tremaining: 1.32s\n",
      "488:\tlearn: 0.3452134\ttotal: 1.26s\tremaining: 1.32s\n",
      "489:\tlearn: 0.3450806\ttotal: 1.27s\tremaining: 1.32s\n",
      "490:\tlearn: 0.3449455\ttotal: 1.27s\tremaining: 1.31s\n",
      "491:\tlearn: 0.3446819\ttotal: 1.27s\tremaining: 1.31s\n",
      "492:\tlearn: 0.3445454\ttotal: 1.27s\tremaining: 1.31s\n",
      "493:\tlearn: 0.3443736\ttotal: 1.27s\tremaining: 1.31s\n",
      "494:\tlearn: 0.3442721\ttotal: 1.28s\tremaining: 1.3s\n",
      "495:\tlearn: 0.3441025\ttotal: 1.28s\tremaining: 1.3s\n",
      "496:\tlearn: 0.3438818\ttotal: 1.28s\tremaining: 1.3s\n",
      "497:\tlearn: 0.3437510\ttotal: 1.28s\tremaining: 1.3s\n",
      "498:\tlearn: 0.3436295\ttotal: 1.29s\tremaining: 1.29s\n",
      "499:\tlearn: 0.3434289\ttotal: 1.29s\tremaining: 1.29s\n",
      "500:\tlearn: 0.3433034\ttotal: 1.29s\tremaining: 1.29s\n",
      "501:\tlearn: 0.3431997\ttotal: 1.29s\tremaining: 1.28s\n",
      "502:\tlearn: 0.3430010\ttotal: 1.3s\tremaining: 1.28s\n",
      "503:\tlearn: 0.3428931\ttotal: 1.3s\tremaining: 1.28s\n"
     ]
    },
    {
     "name": "stdout",
     "output_type": "stream",
     "text": [
      "504:\tlearn: 0.3427266\ttotal: 1.3s\tremaining: 1.28s\n",
      "505:\tlearn: 0.3425246\ttotal: 1.3s\tremaining: 1.27s\n",
      "506:\tlearn: 0.3424135\ttotal: 1.31s\tremaining: 1.27s\n",
      "507:\tlearn: 0.3423062\ttotal: 1.31s\tremaining: 1.27s\n",
      "508:\tlearn: 0.3421498\ttotal: 1.31s\tremaining: 1.27s\n",
      "509:\tlearn: 0.3420973\ttotal: 1.31s\tremaining: 1.26s\n",
      "510:\tlearn: 0.3419911\ttotal: 1.32s\tremaining: 1.26s\n",
      "511:\tlearn: 0.3418423\ttotal: 1.32s\tremaining: 1.26s\n",
      "512:\tlearn: 0.3417032\ttotal: 1.32s\tremaining: 1.25s\n",
      "513:\tlearn: 0.3415016\ttotal: 1.32s\tremaining: 1.25s\n",
      "514:\tlearn: 0.3414164\ttotal: 1.33s\tremaining: 1.25s\n",
      "515:\tlearn: 0.3412954\ttotal: 1.33s\tremaining: 1.25s\n",
      "516:\tlearn: 0.3411524\ttotal: 1.33s\tremaining: 1.24s\n",
      "517:\tlearn: 0.3409989\ttotal: 1.33s\tremaining: 1.24s\n",
      "518:\tlearn: 0.3409071\ttotal: 1.34s\tremaining: 1.24s\n",
      "519:\tlearn: 0.3408383\ttotal: 1.34s\tremaining: 1.24s\n",
      "520:\tlearn: 0.3407269\ttotal: 1.34s\tremaining: 1.23s\n",
      "521:\tlearn: 0.3406210\ttotal: 1.34s\tremaining: 1.23s\n",
      "522:\tlearn: 0.3404172\ttotal: 1.35s\tremaining: 1.23s\n",
      "523:\tlearn: 0.3403212\ttotal: 1.35s\tremaining: 1.22s\n",
      "524:\tlearn: 0.3401551\ttotal: 1.35s\tremaining: 1.22s\n",
      "525:\tlearn: 0.3400862\ttotal: 1.35s\tremaining: 1.22s\n",
      "526:\tlearn: 0.3399746\ttotal: 1.35s\tremaining: 1.22s\n",
      "527:\tlearn: 0.3398635\ttotal: 1.36s\tremaining: 1.21s\n",
      "528:\tlearn: 0.3397309\ttotal: 1.36s\tremaining: 1.21s\n",
      "529:\tlearn: 0.3395737\ttotal: 1.36s\tremaining: 1.21s\n",
      "530:\tlearn: 0.3394435\ttotal: 1.36s\tremaining: 1.21s\n",
      "531:\tlearn: 0.3393650\ttotal: 1.37s\tremaining: 1.2s\n"
     ]
    },
    {
     "name": "stdout",
     "output_type": "stream",
     "text": [
      "532:\tlearn: 0.3392190\ttotal: 1.37s\tremaining: 1.2s\n",
      "533:\tlearn: 0.3391426\ttotal: 1.37s\tremaining: 1.2s\n",
      "534:\tlearn: 0.3390202\ttotal: 1.37s\tremaining: 1.2s\n",
      "535:\tlearn: 0.3389372\ttotal: 1.38s\tremaining: 1.19s\n",
      "536:\tlearn: 0.3388022\ttotal: 1.38s\tremaining: 1.19s\n",
      "537:\tlearn: 0.3386307\ttotal: 1.38s\tremaining: 1.19s\n",
      "538:\tlearn: 0.3384731\ttotal: 1.38s\tremaining: 1.18s\n",
      "539:\tlearn: 0.3383147\ttotal: 1.39s\tremaining: 1.18s\n",
      "540:\tlearn: 0.3381814\ttotal: 1.39s\tremaining: 1.18s\n",
      "541:\tlearn: 0.3380999\ttotal: 1.39s\tremaining: 1.18s\n",
      "542:\tlearn: 0.3379947\ttotal: 1.39s\tremaining: 1.17s\n",
      "543:\tlearn: 0.3379139\ttotal: 1.4s\tremaining: 1.17s\n",
      "544:\tlearn: 0.3376989\ttotal: 1.4s\tremaining: 1.17s\n",
      "545:\tlearn: 0.3375704\ttotal: 1.4s\tremaining: 1.16s\n",
      "546:\tlearn: 0.3374402\ttotal: 1.4s\tremaining: 1.16s\n",
      "547:\tlearn: 0.3373369\ttotal: 1.41s\tremaining: 1.16s\n",
      "548:\tlearn: 0.3371788\ttotal: 1.41s\tremaining: 1.16s\n",
      "549:\tlearn: 0.3370587\ttotal: 1.41s\tremaining: 1.15s\n",
      "550:\tlearn: 0.3369661\ttotal: 1.41s\tremaining: 1.15s\n",
      "551:\tlearn: 0.3368676\ttotal: 1.42s\tremaining: 1.15s\n",
      "552:\tlearn: 0.3366671\ttotal: 1.42s\tremaining: 1.15s\n",
      "553:\tlearn: 0.3365575\ttotal: 1.42s\tremaining: 1.14s\n",
      "554:\tlearn: 0.3364536\ttotal: 1.42s\tremaining: 1.14s\n",
      "555:\tlearn: 0.3363365\ttotal: 1.43s\tremaining: 1.14s\n",
      "556:\tlearn: 0.3362000\ttotal: 1.43s\tremaining: 1.14s\n"
     ]
    },
    {
     "name": "stdout",
     "output_type": "stream",
     "text": [
      "557:\tlearn: 0.3361154\ttotal: 1.43s\tremaining: 1.13s\n",
      "558:\tlearn: 0.3360147\ttotal: 1.43s\tremaining: 1.13s\n",
      "559:\tlearn: 0.3358286\ttotal: 1.43s\tremaining: 1.13s\n",
      "560:\tlearn: 0.3357089\ttotal: 1.44s\tremaining: 1.12s\n",
      "561:\tlearn: 0.3355738\ttotal: 1.44s\tremaining: 1.12s\n",
      "562:\tlearn: 0.3354518\ttotal: 1.44s\tremaining: 1.12s\n",
      "563:\tlearn: 0.3353676\ttotal: 1.44s\tremaining: 1.12s\n",
      "564:\tlearn: 0.3351852\ttotal: 1.45s\tremaining: 1.11s\n",
      "565:\tlearn: 0.3350566\ttotal: 1.45s\tremaining: 1.11s\n",
      "566:\tlearn: 0.3348903\ttotal: 1.45s\tremaining: 1.11s\n",
      "567:\tlearn: 0.3347584\ttotal: 1.45s\tremaining: 1.1s\n",
      "568:\tlearn: 0.3345714\ttotal: 1.46s\tremaining: 1.1s\n",
      "569:\tlearn: 0.3344665\ttotal: 1.46s\tremaining: 1.1s\n",
      "570:\tlearn: 0.3343072\ttotal: 1.46s\tremaining: 1.1s\n",
      "571:\tlearn: 0.3342147\ttotal: 1.46s\tremaining: 1.09s\n",
      "572:\tlearn: 0.3341057\ttotal: 1.47s\tremaining: 1.09s\n",
      "573:\tlearn: 0.3340219\ttotal: 1.47s\tremaining: 1.09s\n",
      "574:\tlearn: 0.3339097\ttotal: 1.47s\tremaining: 1.09s\n",
      "575:\tlearn: 0.3338473\ttotal: 1.47s\tremaining: 1.08s\n",
      "576:\tlearn: 0.3337046\ttotal: 1.47s\tremaining: 1.08s\n",
      "577:\tlearn: 0.3336039\ttotal: 1.48s\tremaining: 1.08s\n",
      "578:\tlearn: 0.3335078\ttotal: 1.48s\tremaining: 1.08s\n",
      "579:\tlearn: 0.3334578\ttotal: 1.48s\tremaining: 1.07s\n",
      "580:\tlearn: 0.3332160\ttotal: 1.49s\tremaining: 1.07s\n",
      "581:\tlearn: 0.3330831\ttotal: 1.49s\tremaining: 1.07s\n",
      "582:\tlearn: 0.3329716\ttotal: 1.49s\tremaining: 1.06s\n",
      "583:\tlearn: 0.3329016\ttotal: 1.49s\tremaining: 1.06s\n",
      "584:\tlearn: 0.3328144\ttotal: 1.49s\tremaining: 1.06s\n",
      "585:\tlearn: 0.3327176\ttotal: 1.5s\tremaining: 1.06s\n"
     ]
    },
    {
     "name": "stdout",
     "output_type": "stream",
     "text": [
      "586:\tlearn: 0.3325888\ttotal: 1.5s\tremaining: 1.05s\n",
      "587:\tlearn: 0.3324547\ttotal: 1.5s\tremaining: 1.05s\n",
      "588:\tlearn: 0.3323381\ttotal: 1.5s\tremaining: 1.05s\n",
      "589:\tlearn: 0.3322189\ttotal: 1.51s\tremaining: 1.05s\n",
      "590:\tlearn: 0.3320912\ttotal: 1.51s\tremaining: 1.04s\n",
      "591:\tlearn: 0.3319396\ttotal: 1.51s\tremaining: 1.04s\n",
      "592:\tlearn: 0.3318603\ttotal: 1.51s\tremaining: 1.04s\n",
      "593:\tlearn: 0.3316821\ttotal: 1.51s\tremaining: 1.03s\n",
      "594:\tlearn: 0.3315723\ttotal: 1.52s\tremaining: 1.03s\n",
      "595:\tlearn: 0.3314265\ttotal: 1.52s\tremaining: 1.03s\n",
      "596:\tlearn: 0.3313386\ttotal: 1.52s\tremaining: 1.03s\n",
      "597:\tlearn: 0.3312604\ttotal: 1.53s\tremaining: 1.02s\n",
      "598:\tlearn: 0.3311841\ttotal: 1.53s\tremaining: 1.02s\n",
      "599:\tlearn: 0.3309985\ttotal: 1.53s\tremaining: 1.02s\n",
      "600:\tlearn: 0.3308320\ttotal: 1.53s\tremaining: 1.02s\n",
      "601:\tlearn: 0.3307552\ttotal: 1.53s\tremaining: 1.01s\n",
      "602:\tlearn: 0.3305868\ttotal: 1.54s\tremaining: 1.01s\n",
      "603:\tlearn: 0.3304678\ttotal: 1.54s\tremaining: 1.01s\n",
      "604:\tlearn: 0.3303979\ttotal: 1.54s\tremaining: 1.01s\n",
      "605:\tlearn: 0.3303142\ttotal: 1.54s\tremaining: 1s\n",
      "606:\tlearn: 0.3301975\ttotal: 1.55s\tremaining: 1s\n",
      "607:\tlearn: 0.3301000\ttotal: 1.55s\tremaining: 999ms\n",
      "608:\tlearn: 0.3299894\ttotal: 1.55s\tremaining: 997ms\n",
      "609:\tlearn: 0.3298934\ttotal: 1.55s\tremaining: 994ms\n",
      "610:\tlearn: 0.3297176\ttotal: 1.56s\tremaining: 992ms\n",
      "611:\tlearn: 0.3296577\ttotal: 1.56s\tremaining: 989ms\n",
      "612:\tlearn: 0.3295428\ttotal: 1.56s\tremaining: 986ms\n"
     ]
    },
    {
     "name": "stdout",
     "output_type": "stream",
     "text": [
      "613:\tlearn: 0.3294225\ttotal: 1.56s\tremaining: 984ms\n",
      "614:\tlearn: 0.3293443\ttotal: 1.57s\tremaining: 981ms\n",
      "615:\tlearn: 0.3291899\ttotal: 1.57s\tremaining: 979ms\n",
      "616:\tlearn: 0.3290376\ttotal: 1.57s\tremaining: 976ms\n",
      "617:\tlearn: 0.3289559\ttotal: 1.57s\tremaining: 973ms\n",
      "618:\tlearn: 0.3288872\ttotal: 1.58s\tremaining: 971ms\n",
      "619:\tlearn: 0.3288182\ttotal: 1.58s\tremaining: 968ms\n",
      "620:\tlearn: 0.3287232\ttotal: 1.58s\tremaining: 965ms\n",
      "621:\tlearn: 0.3286514\ttotal: 1.58s\tremaining: 963ms\n",
      "622:\tlearn: 0.3285791\ttotal: 1.59s\tremaining: 960ms\n",
      "623:\tlearn: 0.3284528\ttotal: 1.59s\tremaining: 958ms\n",
      "624:\tlearn: 0.3283625\ttotal: 1.59s\tremaining: 955ms\n",
      "625:\tlearn: 0.3282430\ttotal: 1.59s\tremaining: 953ms\n",
      "626:\tlearn: 0.3280935\ttotal: 1.6s\tremaining: 950ms\n",
      "627:\tlearn: 0.3279846\ttotal: 1.6s\tremaining: 948ms\n",
      "628:\tlearn: 0.3278727\ttotal: 1.6s\tremaining: 945ms\n",
      "629:\tlearn: 0.3277672\ttotal: 1.6s\tremaining: 942ms\n",
      "630:\tlearn: 0.3275578\ttotal: 1.61s\tremaining: 940ms\n",
      "631:\tlearn: 0.3274155\ttotal: 1.61s\tremaining: 937ms\n",
      "632:\tlearn: 0.3273122\ttotal: 1.61s\tremaining: 935ms\n",
      "633:\tlearn: 0.3272151\ttotal: 1.61s\tremaining: 932ms\n",
      "634:\tlearn: 0.3270650\ttotal: 1.62s\tremaining: 929ms\n",
      "635:\tlearn: 0.3269668\ttotal: 1.62s\tremaining: 927ms\n",
      "636:\tlearn: 0.3267847\ttotal: 1.62s\tremaining: 924ms\n"
     ]
    },
    {
     "name": "stdout",
     "output_type": "stream",
     "text": [
      "637:\tlearn: 0.3266544\ttotal: 1.62s\tremaining: 922ms\n",
      "638:\tlearn: 0.3265333\ttotal: 1.63s\tremaining: 919ms\n",
      "639:\tlearn: 0.3264530\ttotal: 1.63s\tremaining: 917ms\n",
      "640:\tlearn: 0.3263621\ttotal: 1.63s\tremaining: 914ms\n",
      "641:\tlearn: 0.3262852\ttotal: 1.63s\tremaining: 911ms\n",
      "642:\tlearn: 0.3261932\ttotal: 1.64s\tremaining: 909ms\n",
      "643:\tlearn: 0.3260905\ttotal: 1.64s\tremaining: 906ms\n",
      "644:\tlearn: 0.3260170\ttotal: 1.64s\tremaining: 903ms\n",
      "645:\tlearn: 0.3259214\ttotal: 1.64s\tremaining: 901ms\n",
      "646:\tlearn: 0.3258185\ttotal: 1.65s\tremaining: 898ms\n",
      "647:\tlearn: 0.3257213\ttotal: 1.65s\tremaining: 896ms\n",
      "648:\tlearn: 0.3255885\ttotal: 1.65s\tremaining: 893ms\n",
      "649:\tlearn: 0.3255230\ttotal: 1.65s\tremaining: 890ms\n",
      "650:\tlearn: 0.3254346\ttotal: 1.66s\tremaining: 888ms\n",
      "651:\tlearn: 0.3253458\ttotal: 1.66s\tremaining: 885ms\n",
      "652:\tlearn: 0.3252400\ttotal: 1.66s\tremaining: 882ms\n",
      "653:\tlearn: 0.3251315\ttotal: 1.66s\tremaining: 880ms\n",
      "654:\tlearn: 0.3250637\ttotal: 1.67s\tremaining: 878ms\n",
      "655:\tlearn: 0.3249344\ttotal: 1.67s\tremaining: 876ms\n",
      "656:\tlearn: 0.3247931\ttotal: 1.67s\tremaining: 873ms\n",
      "657:\tlearn: 0.3246905\ttotal: 1.67s\tremaining: 870ms\n",
      "658:\tlearn: 0.3245753\ttotal: 1.68s\tremaining: 868ms\n",
      "659:\tlearn: 0.3244867\ttotal: 1.68s\tremaining: 866ms\n",
      "660:\tlearn: 0.3243307\ttotal: 1.68s\tremaining: 863ms\n",
      "661:\tlearn: 0.3242393\ttotal: 1.69s\tremaining: 860ms\n",
      "662:\tlearn: 0.3241569\ttotal: 1.69s\tremaining: 858ms\n",
      "663:\tlearn: 0.3240644\ttotal: 1.69s\tremaining: 855ms\n"
     ]
    },
    {
     "name": "stdout",
     "output_type": "stream",
     "text": [
      "664:\tlearn: 0.3239619\ttotal: 1.69s\tremaining: 853ms\n",
      "665:\tlearn: 0.3238522\ttotal: 1.7s\tremaining: 851ms\n",
      "666:\tlearn: 0.3237666\ttotal: 1.7s\tremaining: 848ms\n",
      "667:\tlearn: 0.3236960\ttotal: 1.7s\tremaining: 846ms\n",
      "668:\tlearn: 0.3236050\ttotal: 1.7s\tremaining: 843ms\n",
      "669:\tlearn: 0.3235143\ttotal: 1.71s\tremaining: 840ms\n",
      "670:\tlearn: 0.3234110\ttotal: 1.71s\tremaining: 838ms\n",
      "671:\tlearn: 0.3232543\ttotal: 1.71s\tremaining: 835ms\n",
      "672:\tlearn: 0.3231436\ttotal: 1.71s\tremaining: 833ms\n",
      "673:\tlearn: 0.3230837\ttotal: 1.72s\tremaining: 830ms\n",
      "674:\tlearn: 0.3229722\ttotal: 1.72s\tremaining: 828ms\n",
      "675:\tlearn: 0.3229078\ttotal: 1.72s\tremaining: 825ms\n",
      "676:\tlearn: 0.3227851\ttotal: 1.72s\tremaining: 822ms\n",
      "677:\tlearn: 0.3226524\ttotal: 1.73s\tremaining: 820ms\n",
      "678:\tlearn: 0.3225591\ttotal: 1.73s\tremaining: 817ms\n",
      "679:\tlearn: 0.3224332\ttotal: 1.73s\tremaining: 815ms\n",
      "680:\tlearn: 0.3223265\ttotal: 1.73s\tremaining: 812ms\n",
      "681:\tlearn: 0.3222036\ttotal: 1.74s\tremaining: 810ms\n",
      "682:\tlearn: 0.3221302\ttotal: 1.74s\tremaining: 807ms\n",
      "683:\tlearn: 0.3220505\ttotal: 1.74s\tremaining: 804ms\n",
      "684:\tlearn: 0.3219398\ttotal: 1.74s\tremaining: 802ms\n",
      "685:\tlearn: 0.3218671\ttotal: 1.75s\tremaining: 799ms\n",
      "686:\tlearn: 0.3217273\ttotal: 1.75s\tremaining: 796ms\n",
      "687:\tlearn: 0.3216284\ttotal: 1.75s\tremaining: 794ms\n",
      "688:\tlearn: 0.3214941\ttotal: 1.75s\tremaining: 791ms\n",
      "689:\tlearn: 0.3213923\ttotal: 1.75s\tremaining: 789ms\n",
      "690:\tlearn: 0.3212765\ttotal: 1.76s\tremaining: 786ms\n"
     ]
    },
    {
     "name": "stdout",
     "output_type": "stream",
     "text": [
      "691:\tlearn: 0.3211706\ttotal: 1.76s\tremaining: 784ms\n",
      "692:\tlearn: 0.3210993\ttotal: 1.76s\tremaining: 781ms\n",
      "693:\tlearn: 0.3210249\ttotal: 1.76s\tremaining: 779ms\n",
      "694:\tlearn: 0.3209493\ttotal: 1.77s\tremaining: 776ms\n",
      "695:\tlearn: 0.3208196\ttotal: 1.77s\tremaining: 774ms\n",
      "696:\tlearn: 0.3206845\ttotal: 1.77s\tremaining: 771ms\n",
      "697:\tlearn: 0.3205899\ttotal: 1.77s\tremaining: 768ms\n",
      "698:\tlearn: 0.3205043\ttotal: 1.78s\tremaining: 766ms\n",
      "699:\tlearn: 0.3204195\ttotal: 1.78s\tremaining: 763ms\n",
      "700:\tlearn: 0.3203365\ttotal: 1.78s\tremaining: 760ms\n",
      "701:\tlearn: 0.3202773\ttotal: 1.78s\tremaining: 758ms\n",
      "702:\tlearn: 0.3201708\ttotal: 1.79s\tremaining: 755ms\n",
      "703:\tlearn: 0.3200412\ttotal: 1.79s\tremaining: 753ms\n",
      "704:\tlearn: 0.3199639\ttotal: 1.79s\tremaining: 750ms\n",
      "705:\tlearn: 0.3198874\ttotal: 1.79s\tremaining: 748ms\n",
      "706:\tlearn: 0.3198106\ttotal: 1.8s\tremaining: 745ms\n",
      "707:\tlearn: 0.3197132\ttotal: 1.8s\tremaining: 743ms\n",
      "708:\tlearn: 0.3196093\ttotal: 1.8s\tremaining: 740ms\n",
      "709:\tlearn: 0.3195018\ttotal: 1.81s\tremaining: 738ms\n",
      "710:\tlearn: 0.3193929\ttotal: 1.81s\tremaining: 735ms\n",
      "711:\tlearn: 0.3192725\ttotal: 1.81s\tremaining: 733ms\n",
      "712:\tlearn: 0.3191315\ttotal: 1.81s\tremaining: 730ms\n",
      "713:\tlearn: 0.3190318\ttotal: 1.82s\tremaining: 728ms\n"
     ]
    },
    {
     "name": "stdout",
     "output_type": "stream",
     "text": [
      "714:\tlearn: 0.3188986\ttotal: 1.82s\tremaining: 726ms\n",
      "715:\tlearn: 0.3188000\ttotal: 1.82s\tremaining: 723ms\n",
      "716:\tlearn: 0.3187116\ttotal: 1.82s\tremaining: 720ms\n",
      "717:\tlearn: 0.3186191\ttotal: 1.83s\tremaining: 718ms\n",
      "718:\tlearn: 0.3184944\ttotal: 1.83s\tremaining: 715ms\n",
      "719:\tlearn: 0.3184403\ttotal: 1.83s\tremaining: 712ms\n",
      "720:\tlearn: 0.3183419\ttotal: 1.83s\tremaining: 710ms\n",
      "721:\tlearn: 0.3182726\ttotal: 1.84s\tremaining: 707ms\n",
      "722:\tlearn: 0.3181484\ttotal: 1.84s\tremaining: 705ms\n",
      "723:\tlearn: 0.3180791\ttotal: 1.84s\tremaining: 702ms\n",
      "724:\tlearn: 0.3179839\ttotal: 1.84s\tremaining: 700ms\n",
      "725:\tlearn: 0.3179297\ttotal: 1.85s\tremaining: 697ms\n",
      "726:\tlearn: 0.3178216\ttotal: 1.85s\tremaining: 694ms\n",
      "727:\tlearn: 0.3177550\ttotal: 1.85s\tremaining: 692ms\n",
      "728:\tlearn: 0.3176738\ttotal: 1.85s\tremaining: 689ms\n",
      "729:\tlearn: 0.3175652\ttotal: 1.85s\tremaining: 686ms\n",
      "730:\tlearn: 0.3174580\ttotal: 1.86s\tremaining: 684ms\n",
      "731:\tlearn: 0.3173525\ttotal: 1.86s\tremaining: 681ms\n",
      "732:\tlearn: 0.3172590\ttotal: 1.86s\tremaining: 679ms\n",
      "733:\tlearn: 0.3171850\ttotal: 1.86s\tremaining: 676ms\n",
      "734:\tlearn: 0.3171037\ttotal: 1.87s\tremaining: 674ms\n",
      "735:\tlearn: 0.3170292\ttotal: 1.87s\tremaining: 671ms\n",
      "736:\tlearn: 0.3169406\ttotal: 1.87s\tremaining: 668ms\n",
      "737:\tlearn: 0.3168287\ttotal: 1.88s\tremaining: 666ms\n",
      "738:\tlearn: 0.3167371\ttotal: 1.88s\tremaining: 663ms\n",
      "739:\tlearn: 0.3166545\ttotal: 1.88s\tremaining: 661ms\n",
      "740:\tlearn: 0.3165637\ttotal: 1.88s\tremaining: 658ms\n",
      "741:\tlearn: 0.3164939\ttotal: 1.89s\tremaining: 656ms\n"
     ]
    },
    {
     "name": "stdout",
     "output_type": "stream",
     "text": [
      "742:\tlearn: 0.3164553\ttotal: 1.89s\tremaining: 653ms\n",
      "743:\tlearn: 0.3163811\ttotal: 1.89s\tremaining: 651ms\n",
      "744:\tlearn: 0.3163153\ttotal: 1.89s\tremaining: 648ms\n",
      "745:\tlearn: 0.3161790\ttotal: 1.9s\tremaining: 646ms\n",
      "746:\tlearn: 0.3160991\ttotal: 1.9s\tremaining: 643ms\n",
      "747:\tlearn: 0.3159942\ttotal: 1.9s\tremaining: 641ms\n",
      "748:\tlearn: 0.3158753\ttotal: 1.9s\tremaining: 638ms\n",
      "749:\tlearn: 0.3157971\ttotal: 1.91s\tremaining: 636ms\n",
      "750:\tlearn: 0.3156602\ttotal: 1.91s\tremaining: 633ms\n",
      "751:\tlearn: 0.3155939\ttotal: 1.91s\tremaining: 631ms\n",
      "752:\tlearn: 0.3155143\ttotal: 1.92s\tremaining: 628ms\n",
      "753:\tlearn: 0.3154425\ttotal: 1.92s\tremaining: 626ms\n",
      "754:\tlearn: 0.3153689\ttotal: 1.92s\tremaining: 623ms\n",
      "755:\tlearn: 0.3152387\ttotal: 1.92s\tremaining: 621ms\n",
      "756:\tlearn: 0.3151520\ttotal: 1.93s\tremaining: 618ms\n",
      "757:\tlearn: 0.3150637\ttotal: 1.93s\tremaining: 615ms\n",
      "758:\tlearn: 0.3149813\ttotal: 1.93s\tremaining: 613ms\n",
      "759:\tlearn: 0.3148882\ttotal: 1.93s\tremaining: 611ms\n",
      "760:\tlearn: 0.3147946\ttotal: 1.94s\tremaining: 608ms\n",
      "761:\tlearn: 0.3147407\ttotal: 1.94s\tremaining: 605ms\n",
      "762:\tlearn: 0.3146779\ttotal: 1.94s\tremaining: 603ms\n",
      "763:\tlearn: 0.3146160\ttotal: 1.94s\tremaining: 600ms\n",
      "764:\tlearn: 0.3145240\ttotal: 1.95s\tremaining: 598ms\n",
      "765:\tlearn: 0.3144124\ttotal: 1.95s\tremaining: 595ms\n",
      "766:\tlearn: 0.3142913\ttotal: 1.95s\tremaining: 593ms\n"
     ]
    },
    {
     "name": "stdout",
     "output_type": "stream",
     "text": [
      "767:\tlearn: 0.3142037\ttotal: 1.95s\tremaining: 591ms\n",
      "768:\tlearn: 0.3141177\ttotal: 1.96s\tremaining: 588ms\n",
      "769:\tlearn: 0.3140224\ttotal: 1.96s\tremaining: 585ms\n",
      "770:\tlearn: 0.3139695\ttotal: 1.96s\tremaining: 583ms\n",
      "771:\tlearn: 0.3138467\ttotal: 1.97s\tremaining: 580ms\n",
      "772:\tlearn: 0.3137387\ttotal: 1.97s\tremaining: 578ms\n",
      "773:\tlearn: 0.3136674\ttotal: 1.97s\tremaining: 575ms\n",
      "774:\tlearn: 0.3136170\ttotal: 1.97s\tremaining: 573ms\n",
      "775:\tlearn: 0.3135017\ttotal: 1.97s\tremaining: 570ms\n",
      "776:\tlearn: 0.3134086\ttotal: 1.98s\tremaining: 567ms\n",
      "777:\tlearn: 0.3133214\ttotal: 1.98s\tremaining: 565ms\n",
      "778:\tlearn: 0.3132525\ttotal: 1.98s\tremaining: 562ms\n",
      "779:\tlearn: 0.3131635\ttotal: 1.98s\tremaining: 560ms\n",
      "780:\tlearn: 0.3130653\ttotal: 1.99s\tremaining: 557ms\n",
      "781:\tlearn: 0.3129519\ttotal: 1.99s\tremaining: 554ms\n",
      "782:\tlearn: 0.3128509\ttotal: 1.99s\tremaining: 552ms\n",
      "783:\tlearn: 0.3127262\ttotal: 1.99s\tremaining: 549ms\n",
      "784:\tlearn: 0.3125815\ttotal: 2s\tremaining: 547ms\n",
      "785:\tlearn: 0.3125249\ttotal: 2s\tremaining: 544ms\n",
      "786:\tlearn: 0.3124450\ttotal: 2s\tremaining: 542ms\n",
      "787:\tlearn: 0.3123811\ttotal: 2s\tremaining: 539ms\n",
      "788:\tlearn: 0.3122623\ttotal: 2.01s\tremaining: 537ms\n",
      "789:\tlearn: 0.3121442\ttotal: 2.01s\tremaining: 534ms\n",
      "790:\tlearn: 0.3120524\ttotal: 2.01s\tremaining: 532ms\n"
     ]
    },
    {
     "name": "stdout",
     "output_type": "stream",
     "text": [
      "791:\tlearn: 0.3119225\ttotal: 2.01s\tremaining: 529ms\n",
      "792:\tlearn: 0.3118217\ttotal: 2.02s\tremaining: 526ms\n",
      "793:\tlearn: 0.3117438\ttotal: 2.02s\tremaining: 524ms\n",
      "794:\tlearn: 0.3116434\ttotal: 2.02s\tremaining: 521ms\n",
      "795:\tlearn: 0.3115687\ttotal: 2.02s\tremaining: 519ms\n",
      "796:\tlearn: 0.3114253\ttotal: 2.03s\tremaining: 516ms\n",
      "797:\tlearn: 0.3113856\ttotal: 2.03s\tremaining: 514ms\n",
      "798:\tlearn: 0.3112885\ttotal: 2.03s\tremaining: 511ms\n",
      "799:\tlearn: 0.3111918\ttotal: 2.03s\tremaining: 508ms\n",
      "800:\tlearn: 0.3111483\ttotal: 2.04s\tremaining: 506ms\n",
      "801:\tlearn: 0.3110244\ttotal: 2.04s\tremaining: 503ms\n",
      "802:\tlearn: 0.3109612\ttotal: 2.04s\tremaining: 501ms\n",
      "803:\tlearn: 0.3108898\ttotal: 2.04s\tremaining: 498ms\n",
      "804:\tlearn: 0.3107974\ttotal: 2.05s\tremaining: 496ms\n",
      "805:\tlearn: 0.3106896\ttotal: 2.05s\tremaining: 493ms\n",
      "806:\tlearn: 0.3105646\ttotal: 2.05s\tremaining: 491ms\n",
      "807:\tlearn: 0.3104815\ttotal: 2.05s\tremaining: 488ms\n",
      "808:\tlearn: 0.3104207\ttotal: 2.06s\tremaining: 486ms\n",
      "809:\tlearn: 0.3103286\ttotal: 2.06s\tremaining: 483ms\n",
      "810:\tlearn: 0.3102311\ttotal: 2.06s\tremaining: 480ms\n",
      "811:\tlearn: 0.3101770\ttotal: 2.06s\tremaining: 478ms\n",
      "812:\tlearn: 0.3101023\ttotal: 2.07s\tremaining: 475ms\n",
      "813:\tlearn: 0.3100203\ttotal: 2.07s\tremaining: 473ms\n",
      "814:\tlearn: 0.3098771\ttotal: 2.07s\tremaining: 470ms\n",
      "815:\tlearn: 0.3097928\ttotal: 2.07s\tremaining: 467ms\n",
      "816:\tlearn: 0.3096740\ttotal: 2.08s\tremaining: 465ms\n",
      "817:\tlearn: 0.3095939\ttotal: 2.08s\tremaining: 462ms\n",
      "818:\tlearn: 0.3094739\ttotal: 2.08s\tremaining: 460ms\n"
     ]
    },
    {
     "name": "stdout",
     "output_type": "stream",
     "text": [
      "819:\tlearn: 0.3094161\ttotal: 2.08s\tremaining: 457ms\n",
      "820:\tlearn: 0.3093289\ttotal: 2.09s\tremaining: 455ms\n",
      "821:\tlearn: 0.3092255\ttotal: 2.09s\tremaining: 452ms\n",
      "822:\tlearn: 0.3091538\ttotal: 2.09s\tremaining: 450ms\n",
      "823:\tlearn: 0.3090523\ttotal: 2.09s\tremaining: 447ms\n",
      "824:\tlearn: 0.3089909\ttotal: 2.1s\tremaining: 445ms\n",
      "825:\tlearn: 0.3089406\ttotal: 2.1s\tremaining: 442ms\n",
      "826:\tlearn: 0.3088326\ttotal: 2.1s\tremaining: 439ms\n",
      "827:\tlearn: 0.3087620\ttotal: 2.1s\tremaining: 437ms\n",
      "828:\tlearn: 0.3086263\ttotal: 2.1s\tremaining: 434ms\n",
      "829:\tlearn: 0.3085324\ttotal: 2.11s\tremaining: 432ms\n",
      "830:\tlearn: 0.3083114\ttotal: 2.11s\tremaining: 429ms\n",
      "831:\tlearn: 0.3081962\ttotal: 2.11s\tremaining: 427ms\n",
      "832:\tlearn: 0.3081386\ttotal: 2.12s\tremaining: 424ms\n",
      "833:\tlearn: 0.3080537\ttotal: 2.12s\tremaining: 422ms\n",
      "834:\tlearn: 0.3079999\ttotal: 2.12s\tremaining: 419ms\n",
      "835:\tlearn: 0.3078757\ttotal: 2.12s\tremaining: 416ms\n",
      "836:\tlearn: 0.3077945\ttotal: 2.13s\tremaining: 414ms\n",
      "837:\tlearn: 0.3077372\ttotal: 2.13s\tremaining: 411ms\n",
      "838:\tlearn: 0.3076343\ttotal: 2.13s\tremaining: 409ms\n",
      "839:\tlearn: 0.3075633\ttotal: 2.13s\tremaining: 406ms\n",
      "840:\tlearn: 0.3074481\ttotal: 2.13s\tremaining: 404ms\n",
      "841:\tlearn: 0.3073282\ttotal: 2.14s\tremaining: 401ms\n",
      "842:\tlearn: 0.3072640\ttotal: 2.14s\tremaining: 399ms\n",
      "843:\tlearn: 0.3071780\ttotal: 2.14s\tremaining: 396ms\n",
      "844:\tlearn: 0.3070957\ttotal: 2.14s\tremaining: 393ms\n",
      "845:\tlearn: 0.3070512\ttotal: 2.15s\tremaining: 391ms\n",
      "846:\tlearn: 0.3069461\ttotal: 2.15s\tremaining: 388ms\n"
     ]
    },
    {
     "name": "stdout",
     "output_type": "stream",
     "text": [
      "847:\tlearn: 0.3068667\ttotal: 2.15s\tremaining: 386ms\n",
      "848:\tlearn: 0.3068194\ttotal: 2.15s\tremaining: 383ms\n",
      "849:\tlearn: 0.3067521\ttotal: 2.16s\tremaining: 381ms\n",
      "850:\tlearn: 0.3066191\ttotal: 2.16s\tremaining: 378ms\n",
      "851:\tlearn: 0.3065761\ttotal: 2.16s\tremaining: 375ms\n",
      "852:\tlearn: 0.3064797\ttotal: 2.16s\tremaining: 373ms\n",
      "853:\tlearn: 0.3064376\ttotal: 2.17s\tremaining: 370ms\n",
      "854:\tlearn: 0.3063196\ttotal: 2.17s\tremaining: 368ms\n",
      "855:\tlearn: 0.3062702\ttotal: 2.17s\tremaining: 365ms\n",
      "856:\tlearn: 0.3061884\ttotal: 2.17s\tremaining: 363ms\n",
      "857:\tlearn: 0.3061114\ttotal: 2.18s\tremaining: 360ms\n",
      "858:\tlearn: 0.3060485\ttotal: 2.18s\tremaining: 358ms\n",
      "859:\tlearn: 0.3059805\ttotal: 2.18s\tremaining: 355ms\n",
      "860:\tlearn: 0.3059036\ttotal: 2.18s\tremaining: 353ms\n",
      "861:\tlearn: 0.3058339\ttotal: 2.19s\tremaining: 350ms\n",
      "862:\tlearn: 0.3057642\ttotal: 2.19s\tremaining: 347ms\n",
      "863:\tlearn: 0.3056764\ttotal: 2.19s\tremaining: 345ms\n",
      "864:\tlearn: 0.3056095\ttotal: 2.19s\tremaining: 342ms\n",
      "865:\tlearn: 0.3055420\ttotal: 2.19s\tremaining: 340ms\n",
      "866:\tlearn: 0.3054853\ttotal: 2.2s\tremaining: 337ms\n",
      "867:\tlearn: 0.3054026\ttotal: 2.2s\tremaining: 335ms\n",
      "868:\tlearn: 0.3053246\ttotal: 2.2s\tremaining: 332ms\n",
      "869:\tlearn: 0.3052327\ttotal: 2.21s\tremaining: 330ms\n",
      "870:\tlearn: 0.3051895\ttotal: 2.21s\tremaining: 327ms\n"
     ]
    },
    {
     "name": "stdout",
     "output_type": "stream",
     "text": [
      "871:\tlearn: 0.3050665\ttotal: 2.21s\tremaining: 325ms\n",
      "872:\tlearn: 0.3049963\ttotal: 2.21s\tremaining: 322ms\n",
      "873:\tlearn: 0.3048634\ttotal: 2.21s\tremaining: 319ms\n",
      "874:\tlearn: 0.3047842\ttotal: 2.22s\tremaining: 317ms\n",
      "875:\tlearn: 0.3047110\ttotal: 2.22s\tremaining: 314ms\n",
      "876:\tlearn: 0.3046423\ttotal: 2.22s\tremaining: 312ms\n",
      "877:\tlearn: 0.3045335\ttotal: 2.23s\tremaining: 309ms\n",
      "878:\tlearn: 0.3045007\ttotal: 2.23s\tremaining: 307ms\n",
      "879:\tlearn: 0.3044284\ttotal: 2.23s\tremaining: 304ms\n",
      "880:\tlearn: 0.3043899\ttotal: 2.23s\tremaining: 302ms\n",
      "881:\tlearn: 0.3043334\ttotal: 2.24s\tremaining: 299ms\n",
      "882:\tlearn: 0.3042592\ttotal: 2.24s\tremaining: 297ms\n",
      "883:\tlearn: 0.3042097\ttotal: 2.24s\tremaining: 294ms\n",
      "884:\tlearn: 0.3040865\ttotal: 2.24s\tremaining: 292ms\n",
      "885:\tlearn: 0.3039949\ttotal: 2.25s\tremaining: 289ms\n",
      "886:\tlearn: 0.3039252\ttotal: 2.25s\tremaining: 286ms\n",
      "887:\tlearn: 0.3038422\ttotal: 2.25s\tremaining: 284ms\n",
      "888:\tlearn: 0.3037482\ttotal: 2.25s\tremaining: 281ms\n",
      "889:\tlearn: 0.3036735\ttotal: 2.26s\tremaining: 279ms\n",
      "890:\tlearn: 0.3035736\ttotal: 2.26s\tremaining: 276ms\n",
      "891:\tlearn: 0.3034764\ttotal: 2.26s\tremaining: 274ms\n",
      "892:\tlearn: 0.3034084\ttotal: 2.26s\tremaining: 271ms\n",
      "893:\tlearn: 0.3033405\ttotal: 2.27s\tremaining: 269ms\n",
      "894:\tlearn: 0.3032419\ttotal: 2.27s\tremaining: 266ms\n",
      "895:\tlearn: 0.3031822\ttotal: 2.27s\tremaining: 264ms\n",
      "896:\tlearn: 0.3031379\ttotal: 2.27s\tremaining: 261ms\n",
      "897:\tlearn: 0.3030562\ttotal: 2.28s\tremaining: 259ms\n"
     ]
    },
    {
     "name": "stdout",
     "output_type": "stream",
     "text": [
      "898:\tlearn: 0.3029931\ttotal: 2.28s\tremaining: 256ms\n",
      "899:\tlearn: 0.3029199\ttotal: 2.28s\tremaining: 254ms\n",
      "900:\tlearn: 0.3028139\ttotal: 2.28s\tremaining: 251ms\n",
      "901:\tlearn: 0.3027284\ttotal: 2.29s\tremaining: 248ms\n",
      "902:\tlearn: 0.3026585\ttotal: 2.29s\tremaining: 246ms\n",
      "903:\tlearn: 0.3025746\ttotal: 2.29s\tremaining: 243ms\n",
      "904:\tlearn: 0.3024762\ttotal: 2.29s\tremaining: 241ms\n",
      "905:\tlearn: 0.3023940\ttotal: 2.3s\tremaining: 238ms\n",
      "906:\tlearn: 0.3023272\ttotal: 2.3s\tremaining: 236ms\n",
      "907:\tlearn: 0.3022475\ttotal: 2.3s\tremaining: 233ms\n",
      "908:\tlearn: 0.3021850\ttotal: 2.31s\tremaining: 231ms\n",
      "909:\tlearn: 0.3020765\ttotal: 2.31s\tremaining: 228ms\n",
      "910:\tlearn: 0.3020140\ttotal: 2.31s\tremaining: 226ms\n",
      "911:\tlearn: 0.3019343\ttotal: 2.31s\tremaining: 223ms\n",
      "912:\tlearn: 0.3018774\ttotal: 2.31s\tremaining: 221ms\n",
      "913:\tlearn: 0.3018402\ttotal: 2.32s\tremaining: 218ms\n",
      "914:\tlearn: 0.3017760\ttotal: 2.32s\tremaining: 216ms\n",
      "915:\tlearn: 0.3016884\ttotal: 2.32s\tremaining: 213ms\n",
      "916:\tlearn: 0.3015955\ttotal: 2.32s\tremaining: 210ms\n",
      "917:\tlearn: 0.3015462\ttotal: 2.33s\tremaining: 208ms\n",
      "918:\tlearn: 0.3014725\ttotal: 2.33s\tremaining: 205ms\n",
      "919:\tlearn: 0.3014142\ttotal: 2.33s\tremaining: 203ms\n",
      "920:\tlearn: 0.3012944\ttotal: 2.33s\tremaining: 200ms\n",
      "921:\tlearn: 0.3012361\ttotal: 2.34s\tremaining: 198ms\n",
      "922:\tlearn: 0.3011556\ttotal: 2.34s\tremaining: 195ms\n",
      "923:\tlearn: 0.3010624\ttotal: 2.34s\tremaining: 193ms\n",
      "924:\tlearn: 0.3009633\ttotal: 2.34s\tremaining: 190ms\n"
     ]
    },
    {
     "name": "stdout",
     "output_type": "stream",
     "text": [
      "925:\tlearn: 0.3008561\ttotal: 2.35s\tremaining: 188ms\n",
      "926:\tlearn: 0.3007880\ttotal: 2.35s\tremaining: 185ms\n",
      "927:\tlearn: 0.3007250\ttotal: 2.35s\tremaining: 182ms\n",
      "928:\tlearn: 0.3006496\ttotal: 2.35s\tremaining: 180ms\n",
      "929:\tlearn: 0.3005605\ttotal: 2.35s\tremaining: 177ms\n",
      "930:\tlearn: 0.3004674\ttotal: 2.36s\tremaining: 175ms\n",
      "931:\tlearn: 0.3004151\ttotal: 2.36s\tremaining: 172ms\n",
      "932:\tlearn: 0.3002218\ttotal: 2.36s\tremaining: 170ms\n",
      "933:\tlearn: 0.3001160\ttotal: 2.37s\tremaining: 167ms\n",
      "934:\tlearn: 0.3000648\ttotal: 2.37s\tremaining: 165ms\n",
      "935:\tlearn: 0.2999977\ttotal: 2.37s\tremaining: 162ms\n",
      "936:\tlearn: 0.2999313\ttotal: 2.37s\tremaining: 160ms\n",
      "937:\tlearn: 0.2998461\ttotal: 2.38s\tremaining: 157ms\n",
      "938:\tlearn: 0.2997572\ttotal: 2.38s\tremaining: 155ms\n",
      "939:\tlearn: 0.2995858\ttotal: 2.38s\tremaining: 152ms\n",
      "940:\tlearn: 0.2995256\ttotal: 2.38s\tremaining: 149ms\n",
      "941:\tlearn: 0.2994664\ttotal: 2.39s\tremaining: 147ms\n",
      "942:\tlearn: 0.2993951\ttotal: 2.39s\tremaining: 144ms\n",
      "943:\tlearn: 0.2993198\ttotal: 2.39s\tremaining: 142ms\n",
      "944:\tlearn: 0.2992443\ttotal: 2.39s\tremaining: 139ms\n",
      "945:\tlearn: 0.2991888\ttotal: 2.4s\tremaining: 137ms\n",
      "946:\tlearn: 0.2990824\ttotal: 2.4s\tremaining: 134ms\n",
      "947:\tlearn: 0.2990288\ttotal: 2.4s\tremaining: 132ms\n",
      "948:\tlearn: 0.2989475\ttotal: 2.4s\tremaining: 129ms\n"
     ]
    },
    {
     "name": "stdout",
     "output_type": "stream",
     "text": [
      "949:\tlearn: 0.2988734\ttotal: 2.41s\tremaining: 127ms\n",
      "950:\tlearn: 0.2988121\ttotal: 2.41s\tremaining: 124ms\n",
      "951:\tlearn: 0.2987267\ttotal: 2.41s\tremaining: 122ms\n",
      "952:\tlearn: 0.2986503\ttotal: 2.42s\tremaining: 119ms\n",
      "953:\tlearn: 0.2985847\ttotal: 2.42s\tremaining: 117ms\n",
      "954:\tlearn: 0.2985258\ttotal: 2.42s\tremaining: 114ms\n",
      "955:\tlearn: 0.2984691\ttotal: 2.42s\tremaining: 111ms\n",
      "956:\tlearn: 0.2984254\ttotal: 2.42s\tremaining: 109ms\n",
      "957:\tlearn: 0.2983638\ttotal: 2.43s\tremaining: 106ms\n",
      "958:\tlearn: 0.2982468\ttotal: 2.43s\tremaining: 104ms\n",
      "959:\tlearn: 0.2981802\ttotal: 2.43s\tremaining: 101ms\n",
      "960:\tlearn: 0.2981037\ttotal: 2.43s\tremaining: 98.8ms\n",
      "961:\tlearn: 0.2980238\ttotal: 2.44s\tremaining: 96.2ms\n",
      "962:\tlearn: 0.2979752\ttotal: 2.44s\tremaining: 93.7ms\n",
      "963:\tlearn: 0.2978872\ttotal: 2.44s\tremaining: 91.2ms\n",
      "964:\tlearn: 0.2978085\ttotal: 2.44s\tremaining: 88.6ms\n",
      "965:\tlearn: 0.2977103\ttotal: 2.44s\tremaining: 86.1ms\n",
      "966:\tlearn: 0.2976807\ttotal: 2.45s\tremaining: 83.6ms\n",
      "967:\tlearn: 0.2975904\ttotal: 2.45s\tremaining: 81ms\n",
      "968:\tlearn: 0.2974966\ttotal: 2.45s\tremaining: 78.5ms\n",
      "969:\tlearn: 0.2974255\ttotal: 2.46s\tremaining: 76ms\n",
      "970:\tlearn: 0.2973621\ttotal: 2.46s\tremaining: 73.4ms\n",
      "971:\tlearn: 0.2973123\ttotal: 2.46s\tremaining: 70.9ms\n",
      "972:\tlearn: 0.2972334\ttotal: 2.46s\tremaining: 68.3ms\n",
      "973:\tlearn: 0.2971890\ttotal: 2.46s\tremaining: 65.8ms\n",
      "974:\tlearn: 0.2970871\ttotal: 2.47s\tremaining: 63.3ms\n",
      "975:\tlearn: 0.2970202\ttotal: 2.47s\tremaining: 60.8ms\n",
      "976:\tlearn: 0.2969579\ttotal: 2.47s\tremaining: 58.2ms\n"
     ]
    },
    {
     "name": "stdout",
     "output_type": "stream",
     "text": [
      "977:\tlearn: 0.2969152\ttotal: 2.48s\tremaining: 55.7ms\n",
      "978:\tlearn: 0.2968543\ttotal: 2.48s\tremaining: 53.2ms\n",
      "979:\tlearn: 0.2967656\ttotal: 2.48s\tremaining: 50.6ms\n",
      "980:\tlearn: 0.2967145\ttotal: 2.48s\tremaining: 48.1ms\n",
      "981:\tlearn: 0.2966287\ttotal: 2.48s\tremaining: 45.6ms\n",
      "982:\tlearn: 0.2965573\ttotal: 2.49s\tremaining: 43ms\n",
      "983:\tlearn: 0.2963769\ttotal: 2.49s\tremaining: 40.5ms\n",
      "984:\tlearn: 0.2962791\ttotal: 2.49s\tremaining: 38ms\n",
      "985:\tlearn: 0.2962193\ttotal: 2.5s\tremaining: 35.4ms\n",
      "986:\tlearn: 0.2961550\ttotal: 2.5s\tremaining: 32.9ms\n",
      "987:\tlearn: 0.2960831\ttotal: 2.5s\tremaining: 30.4ms\n",
      "988:\tlearn: 0.2960202\ttotal: 2.5s\tremaining: 27.8ms\n",
      "989:\tlearn: 0.2959681\ttotal: 2.5s\tremaining: 25.3ms\n",
      "990:\tlearn: 0.2958883\ttotal: 2.51s\tremaining: 22.8ms\n",
      "991:\tlearn: 0.2958340\ttotal: 2.51s\tremaining: 20.2ms\n",
      "992:\tlearn: 0.2957783\ttotal: 2.51s\tremaining: 17.7ms\n",
      "993:\tlearn: 0.2956948\ttotal: 2.52s\tremaining: 15.2ms\n",
      "994:\tlearn: 0.2955805\ttotal: 2.52s\tremaining: 12.7ms\n",
      "995:\tlearn: 0.2954989\ttotal: 2.52s\tremaining: 10.1ms\n",
      "996:\tlearn: 0.2954473\ttotal: 2.52s\tremaining: 7.59ms\n",
      "997:\tlearn: 0.2953748\ttotal: 2.52s\tremaining: 5.06ms\n",
      "998:\tlearn: 0.2952922\ttotal: 2.53s\tremaining: 2.53ms\n",
      "999:\tlearn: 0.2952120\ttotal: 2.53s\tremaining: 0us\n"
     ]
    },
    {
     "name": "stdout",
     "output_type": "stream",
     "text": [
      "Mean Squared error 0.1490738243756016\n"
     ]
    },
    {
     "data": {
      "application/scrapbook.scrap.json+json": {
       "data": 0.1490738243756016,
       "encoder": "json",
       "name": "Catboost MAE",
       "version": 1
      }
     },
     "metadata": {
      "scrapbook": {
       "data": true,
       "display": false,
       "name": "Catboost MAE"
      }
     },
     "output_type": "display_data"
    }
   ],
   "source": [
    "mae_cb = baselineModels.catboost(X_train,y_train,X_test,y_test)\n",
    "#Store MSE Value\n",
    "sb.glue(\"Catboost MAE\",mae_cb)"
   ]
  }
 ],
 "metadata": {
  "interpreter": {
   "hash": "10498c76ddd8160350534c6544a2b2fb65f2138dbc70420f7c81a3268f830f23"
  },
  "kernelspec": {
   "display_name": "Python 3 (ipykernel)",
   "language": "python",
   "name": "python3"
  },
  "language_info": {
   "codemirror_mode": {
    "name": "ipython",
    "version": 3
   },
   "file_extension": ".py",
   "mimetype": "text/x-python",
   "name": "python",
   "nbconvert_exporter": "python",
   "pygments_lexer": "ipython3",
   "version": "3.8.11"
  },
  "papermill": {
   "default_parameters": {},
   "duration": 5.751403,
   "end_time": "2022-03-02T04:31:15.263231",
   "environment_variables": {},
   "exception": null,
   "input_path": "BaselineModels.ipynb",
   "output_path": "./BaseLine_Model_Output/BaselineModels_output_10.ipynb",
   "parameters": {},
   "start_time": "2022-03-02T04:31:09.511828",
   "version": "2.3.3"
  }
 },
 "nbformat": 4,
 "nbformat_minor": 5
}