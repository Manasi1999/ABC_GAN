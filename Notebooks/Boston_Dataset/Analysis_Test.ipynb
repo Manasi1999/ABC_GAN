{
 "cells": [
  {
   "cell_type": "code",
   "execution_count": 1,
   "id": "423b7ca4",
   "metadata": {},
   "outputs": [],
   "source": [
    "import warnings\n",
    "warnings.filterwarnings('ignore')"
   ]
  },
  {
   "cell_type": "code",
   "execution_count": 2,
   "id": "618121c9",
   "metadata": {},
   "outputs": [],
   "source": [
    "import scrapbook as sb \n",
    "import pandas as pd\n",
    "import numpy as np \n",
    "import seaborn as sns \n",
    "import numpy as np\n",
    "from statistics import mean\n",
    "import matplotlib.pyplot as plt"
   ]
  },
  {
   "cell_type": "markdown",
   "id": "8842137f",
   "metadata": {},
   "source": [
    "## BaseLine Models \n",
    "\n",
    "We have used Random Forest, Catboost, Vanilla NN and Stats Model as the Baseline Model for the problem \n",
    "\n",
    "Importing data of baseline Models "
   ]
  },
  {
   "cell_type": "code",
   "execution_count": 3,
   "id": "a9dce367",
   "metadata": {},
   "outputs": [
    {
     "name": "stdout",
     "output_type": "stream",
     "text": [
      "BASELINE MODEL MSE VALUES\n",
      "   Catboost  Stats Model  Random Forest  Vanilla Neural Network\n",
      "0  0.134360     0.308435       0.182300                0.911658\n",
      "1  0.088122     0.305280       0.123892                1.015526\n",
      "2  0.101181     0.309786       0.173017                1.117976\n",
      "3  0.093362     0.280718       0.178366                0.978198\n",
      "4  0.115354     0.237479       0.198445                0.972637\n",
      "5  0.088785     0.326439       0.119403                0.919878\n",
      "6  0.097160     0.336741       0.228378                0.805377\n",
      "7  0.078201     0.379283       0.121724                0.681750\n",
      "8  0.076088     0.348601       0.101290                0.861582\n",
      "9  0.136799     0.286368       0.207355                0.881409\n",
      "MEAN:\n",
      "Catboost                  0.100941\n",
      "Stats Model               0.311913\n",
      "Random Forest             0.163417\n",
      "Vanilla Neural Network    0.914599\n",
      "dtype: float64\n"
     ]
    }
   ],
   "source": [
    "books = sb.read_notebooks(\"./BaseLine_Model_Output\")\n",
    "baseLine_data = []\n",
    "for nb in books.notebooks: \n",
    "    nbList=[nb.scraps['Catboost MSE'].data,\n",
    "            nb.scraps['Stats Model MSE'].data,\n",
    "            nb.scraps['Random Forest MSE'].data,\n",
    "            nb.scraps['Vanilla NN MSE'].data]\n",
    "    baseLine_data.append(nbList)\n",
    "print(\"BASELINE MODEL MSE VALUES\")\n",
    "df = pd.DataFrame(baseLine_data, columns = [\"Catboost\",\"Stats Model\",\"Random Forest\",\"Vanilla Neural Network\"])\n",
    "print(df)\n",
    "print(\"MEAN:\")\n",
    "print(df.mean(axis = 0))\n",
    "baseLine_data = np.array(baseLine_data)"
   ]
  },
  {
   "cell_type": "markdown",
   "id": "5fcc83e7",
   "metadata": {},
   "source": [
    "## GAN \n",
    "\n",
    "Simple C-GAN was used to train the dataset "
   ]
  },
  {
   "cell_type": "code",
   "execution_count": 4,
   "id": "4301cf4d",
   "metadata": {},
   "outputs": [
    {
     "name": "stdout",
     "output_type": "stream",
     "text": [
      "GAN Performance Metrics\n",
      "        MSE       MAE  Euclidean Distance  Manhattan Distance  Epochs\n",
      "0  0.108423  0.251182            3.308940           25.369408     171\n",
      "1  0.310981  0.371125            5.600692           37.483586     142\n",
      "2  0.222287  0.312892            4.738119           31.602059    5000\n",
      "3  0.382009  0.469235            6.210758           47.392747    5000\n",
      "4  0.288838  0.324927            5.401011           32.817620    5000\n",
      "5  0.213533  0.313193            4.643706           31.632467    5000\n",
      "6  0.122288  0.262596            3.514324           26.522194    1983\n",
      "7  0.244608  0.315503            4.966387           31.865806    5000\n",
      "8  0.168282  0.312029            4.122393           31.514973     263\n",
      "9  0.763354  0.560267            8.779184           56.586946    5000\n",
      "MEAN:\n",
      "MSE                      0.282460\n",
      "MAE                      0.349295\n",
      "Euclidean Distance       5.128551\n",
      "Manhattan Distance      35.278780\n",
      "Epochs                3255.900000\n",
      "dtype: float64\n"
     ]
    }
   ],
   "source": [
    "book = sb.read_notebooks(\"./Main/GAN\")\n",
    "gan_data = []\n",
    "gan_mse = []\n",
    "for nb in book.notebooks:\n",
    "    metrics = nb.scraps['GAN_1 Metrics'].data\n",
    "    for i in range(1000):\n",
    "        gan_mse.append(metrics[0][i])\n",
    "    nbList = [nb.scraps['GAN Model MSE'].data,\n",
    "              nb.scraps['GAN Model MAE'].data,\n",
    "              nb.scraps['GAN Model Euclidean distance'].data,\n",
    "              nb.scraps['GAN Model Manhattan Distance'].data,\n",
    "              nb.scraps['GAN Model n_epochs'].data]        \n",
    "    gan_data.append(nbList)\n",
    "print(\"GAN Performance Metrics\")\n",
    "df = pd.DataFrame(gan_data, columns = ['MSE','MAE','Euclidean Distance','Manhattan Distance','Epochs'])\n",
    "print(df)\n",
    "print(\"MEAN:\")\n",
    "print(df.mean(axis = 0))\n",
    "gan_data = np.array(gan_data)"
   ]
  },
  {
   "cell_type": "markdown",
   "id": "db69b3bd",
   "metadata": {},
   "source": [
    "## ABC_GAN Analysis"
   ]
  },
  {
   "cell_type": "code",
   "execution_count": 11,
   "id": "ea491444",
   "metadata": {},
   "outputs": [],
   "source": [
    "book = sb.read_notebooks(\"./Test\")\n",
    "paramVal = [0.01,0.1,1]\n",
    "abc_mse = [[] for i in range(3)]\n",
    "abc_mse_skip = [[] for i in range(3)]\n",
    "abc_mse_mean = [[] for i in range(3)]\n",
    "abc_mse_skip_mean = [[] for i in range(3)]\n",
    "abc_weights = [[] for i in range(3)]\n",
    "abc_epochs = [[] for i in range(3)]\n",
    "\n",
    "for nb in book.notebooks:\n",
    "    metrics1 = np.array(nb.scraps['ABC_GAN_1 Metrics'].data)\n",
    "    metrics2 = np.array(nb.scraps['ABC_GAN_2 Metrics'].data)\n",
    "    metrics3 = np.array(nb.scraps['ABC_GAN_3 Metrics'].data)\n",
    "    paramVar = float(nb.papermill_dataframe.iloc[0]['value'])\n",
    "    #Divide data according to parameters \n",
    "    for i in range(3):\n",
    "        if paramVar == paramVal[i]:\n",
    "            for j in range(1000):\n",
    "                abc_mse[i].append(metrics1[0,j])\n",
    "                abc_mse_skip[i].append(metrics3[0,j])\n",
    "            abc_epochs[i].append(nb.scraps['ABC-GAN Model n_epochs'].data)\n",
    "            abc_weights[i].append(nb.scraps['Skip Connection Weight'].data)\n",
    "            abc_epochs[i].append(nb.scraps['ABC-GAN Model n_epochs'].data)\n",
    "            abc_mse_mean[i].append(mean(metrics1[0]))\n",
    "            abc_mse_skip_mean[i].append(mean(metrics3[0]))\n",
    "            "
   ]
  },
  {
   "cell_type": "code",
   "execution_count": 12,
   "id": "d0d13f91",
   "metadata": {},
   "outputs": [
    {
     "name": "stdout",
     "output_type": "stream",
     "text": [
      "    Variance    Weight  ABC_Mean  Skip Connection ABC Mean  Epochs\n",
      "0       0.01  0.000000  0.142007                  0.005896      62\n",
      "1       0.01  0.000000  0.060067                  0.005693      62\n",
      "2       0.01  0.015057  0.254994                  0.021283      42\n",
      "3       0.01  0.002985  0.243528                  0.005128      42\n",
      "4       0.01  0.005365  0.132533                  0.003611     178\n",
      "5       0.01  0.035787  0.388269                  0.011524     178\n",
      "6       0.01  0.071458  0.157338                  5.350273      63\n",
      "7       0.01  0.073413  0.277285                  0.010582      63\n",
      "8       0.01  0.000087  0.090055                  0.004755    5000\n",
      "9       0.01  0.006217  0.110667                  0.005384    5000\n",
      "10      0.01  0.017501  0.101729                  0.006248      58\n",
      "11      0.01  0.139940  0.116963                  0.025114      58\n",
      "Variance                      0.010000\n",
      "Weight                        0.030651\n",
      "ABC_Mean                      0.172953\n",
      "Skip Connection ABC Mean      0.454624\n",
      "Epochs                      900.500000\n",
      "dtype: float64\n",
      "    Variance    Weight  ABC_Mean  Skip Connection ABC Mean  Epochs\n",
      "0        0.1  0.033136  0.241343                  0.015642      53\n",
      "1        0.1  0.011148  0.069785                  0.015451      53\n",
      "2        0.1  0.007397  0.059361                  0.015510      29\n",
      "3        0.1  0.048406  0.207625                  0.027378      29\n",
      "4        0.1  0.000000  0.132892                  0.015136      48\n",
      "5        0.1  0.002828  0.110457                  0.015003      48\n",
      "6        0.1  0.039032  0.169502                  0.015846      36\n",
      "7        0.1  0.012134  0.056144                  0.017275      36\n",
      "8        0.1  0.007834  0.091934                  0.014463     193\n",
      "9        0.1  0.006314  0.090706                  0.016932     193\n",
      "10       0.1  0.032581  0.121959                  0.016522      45\n",
      "11       0.1  0.000007  0.100863                  0.013994      45\n",
      "Variance                     0.100000\n",
      "Weight                       0.016735\n",
      "ABC_Mean                     0.121048\n",
      "Skip Connection ABC Mean     0.016596\n",
      "Epochs                      67.333333\n",
      "dtype: float64\n",
      "    Variance    Weight  ABC_Mean  Skip Connection ABC Mean  Epochs\n",
      "0          1  0.717305  0.199444                  0.181074     554\n",
      "1          1  0.927315  0.186651                  0.152681     554\n",
      "2          1  0.970261  0.193092                  0.133733    5000\n",
      "3          1  0.747636  0.112559                  0.116968    5000\n",
      "4          1  0.741823  0.295416                  0.220009     326\n",
      "5          1  0.973936  0.125268                  0.490795     326\n",
      "6          1  0.886234  0.375375                  0.589509     430\n",
      "7          1  0.833734  0.316354                  0.132037     430\n",
      "8          1  0.802353  0.159330                  0.121161    5000\n",
      "9          1  0.747843  0.158700                  0.152564    5000\n",
      "10         1  0.897789  0.201753                  0.309947    3439\n",
      "11         1  0.938318  0.326075                  0.327597    3439\n",
      "Variance                       1.000000\n",
      "Weight                         0.848712\n",
      "ABC_Mean                       0.220835\n",
      "Skip Connection ABC Mean       0.244006\n",
      "Epochs                      2458.166667\n",
      "dtype: float64\n"
     ]
    }
   ],
   "source": [
    "for i in range(3):\n",
    "    data = []\n",
    "    for j in range(len(abc_weights[i])):\n",
    "        data.append([paramVal[i],abc_weights[i][j],abc_mse_mean[i][j],abc_mse_skip_mean[i][j],abc_epochs[i][j]])\n",
    "    df = pd.DataFrame(data, columns = ['Variance','Weight','ABC_Mean','Skip Connection ABC Mean','Epochs'])\n",
    "    print(df)\n",
    "    print(df.mean(axis=0))"
   ]
  }
 ],
 "metadata": {
  "interpreter": {
   "hash": "10498c76ddd8160350534c6544a2b2fb65f2138dbc70420f7c81a3268f830f23"
  },
  "kernelspec": {
   "display_name": "Python 3 (ipykernel)",
   "language": "python",
   "name": "python3"
  },
  "language_info": {
   "codemirror_mode": {
    "name": "ipython",
    "version": 3
   },
   "file_extension": ".py",
   "mimetype": "text/x-python",
   "name": "python",
   "nbconvert_exporter": "python",
   "pygments_lexer": "ipython3",
   "version": "3.8.11"
  }
 },
 "nbformat": 4,
 "nbformat_minor": 5
}
