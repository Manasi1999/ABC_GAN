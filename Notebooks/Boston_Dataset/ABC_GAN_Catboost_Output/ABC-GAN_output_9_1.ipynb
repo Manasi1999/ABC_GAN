{
 "cells": [
  {
   "cell_type": "markdown",
   "id": "622780e6",
   "metadata": {
    "papermill": {
     "duration": 0.026844,
     "end_time": "2022-01-15T10:31:58.357556",
     "exception": false,
     "start_time": "2022-01-15T10:31:58.330712",
     "status": "completed"
    },
    "tags": []
   },
   "source": [
    "## Import Libraries "
   ]
  },
  {
   "cell_type": "code",
   "execution_count": 1,
   "id": "a62397e3",
   "metadata": {
    "execution": {
     "iopub.execute_input": "2022-01-15T10:31:58.414652Z",
     "iopub.status.busy": "2022-01-15T10:31:58.413984Z",
     "iopub.status.idle": "2022-01-15T10:31:58.416288Z",
     "shell.execute_reply": "2022-01-15T10:31:58.416796Z"
    },
    "papermill": {
     "duration": 0.034641,
     "end_time": "2022-01-15T10:31:58.417057",
     "exception": false,
     "start_time": "2022-01-15T10:31:58.382416",
     "status": "completed"
    },
    "tags": []
   },
   "outputs": [],
   "source": [
    "import warnings\n",
    "import sys\n",
    "sys.path.insert(0, '../../src')\n",
    "warnings.filterwarnings('ignore')"
   ]
  },
  {
   "cell_type": "code",
   "execution_count": 2,
   "id": "d6a4e155",
   "metadata": {
    "execution": {
     "iopub.execute_input": "2022-01-15T10:31:58.475631Z",
     "iopub.status.busy": "2022-01-15T10:31:58.474883Z",
     "iopub.status.idle": "2022-01-15T10:32:00.179122Z",
     "shell.execute_reply": "2022-01-15T10:32:00.178577Z"
    },
    "papermill": {
     "duration": 1.735347,
     "end_time": "2022-01-15T10:32:00.179283",
     "exception": false,
     "start_time": "2022-01-15T10:31:58.443936",
     "status": "completed"
    },
    "tags": []
   },
   "outputs": [],
   "source": [
    "import ABC_train_test2\n",
    "import bostonDataset\n",
    "import network\n",
    "import dataset\n",
    "import sanityChecks\n",
    "import performanceMetrics\n",
    "import torch \n",
    "from torch.utils.data import random_split \n",
    "import scrapbook as sb\n",
    "from statistics import mean \n",
    "import catboost as ctb \n",
    "from sklearn.model_selection import train_test_split\n",
    "from sklearn.metrics import mean_squared_error\n",
    "import numpy as np"
   ]
  },
  {
   "cell_type": "markdown",
   "id": "2fa5b0f7",
   "metadata": {
    "papermill": {
     "duration": 0.024457,
     "end_time": "2022-01-15T10:32:00.228478",
     "exception": false,
     "start_time": "2022-01-15T10:32:00.204021",
     "status": "completed"
    },
    "tags": []
   },
   "source": [
    "## Parameters "
   ]
  },
  {
   "cell_type": "code",
   "execution_count": 3,
   "id": "783186fb",
   "metadata": {
    "execution": {
     "iopub.execute_input": "2022-01-15T10:32:00.281057Z",
     "iopub.status.busy": "2022-01-15T10:32:00.280404Z",
     "iopub.status.idle": "2022-01-15T10:32:00.282982Z",
     "shell.execute_reply": "2022-01-15T10:32:00.282376Z"
    },
    "papermill": {
     "duration": 0.0305,
     "end_time": "2022-01-15T10:32:00.283132",
     "exception": false,
     "start_time": "2022-01-15T10:32:00.252632",
     "status": "completed"
    },
    "tags": [
     "parameters"
    ]
   },
   "outputs": [],
   "source": [
    "variance = 1"
   ]
  },
  {
   "cell_type": "code",
   "execution_count": 4,
   "id": "c5618160",
   "metadata": {
    "execution": {
     "iopub.execute_input": "2022-01-15T10:32:00.335781Z",
     "iopub.status.busy": "2022-01-15T10:32:00.335124Z",
     "iopub.status.idle": "2022-01-15T10:32:00.337865Z",
     "shell.execute_reply": "2022-01-15T10:32:00.337379Z"
    },
    "papermill": {
     "duration": 0.03006,
     "end_time": "2022-01-15T10:32:00.337994",
     "exception": false,
     "start_time": "2022-01-15T10:32:00.307934",
     "status": "completed"
    },
    "tags": [
     "injected-parameters"
    ]
   },
   "outputs": [],
   "source": [
    "# Parameters\n",
    "variance = 0.1\n"
   ]
  },
  {
   "cell_type": "markdown",
   "id": "391cdbfd",
   "metadata": {
    "papermill": {
     "duration": 0.027613,
     "end_time": "2022-01-15T10:32:00.389227",
     "exception": false,
     "start_time": "2022-01-15T10:32:00.361614",
     "status": "completed"
    },
    "tags": []
   },
   "source": [
    "## Dataset - Boston Housing "
   ]
  },
  {
   "cell_type": "code",
   "execution_count": 5,
   "id": "5b51f161",
   "metadata": {
    "execution": {
     "iopub.execute_input": "2022-01-15T10:32:00.442495Z",
     "iopub.status.busy": "2022-01-15T10:32:00.441870Z",
     "iopub.status.idle": "2022-01-15T10:32:00.444912Z",
     "shell.execute_reply": "2022-01-15T10:32:00.444360Z"
    },
    "papermill": {
     "duration": 0.031323,
     "end_time": "2022-01-15T10:32:00.445054",
     "exception": false,
     "start_time": "2022-01-15T10:32:00.413731",
     "status": "completed"
    },
    "tags": []
   },
   "outputs": [],
   "source": [
    "#Parameters \n",
    "n_features = 13\n",
    "n_samples= 506\n",
    "n_target = 1 "
   ]
  },
  {
   "cell_type": "code",
   "execution_count": 6,
   "id": "5d6eced4",
   "metadata": {
    "execution": {
     "iopub.execute_input": "2022-01-15T10:32:00.501433Z",
     "iopub.status.busy": "2022-01-15T10:32:00.500790Z",
     "iopub.status.idle": "2022-01-15T10:32:00.536692Z",
     "shell.execute_reply": "2022-01-15T10:32:00.536140Z"
    },
    "papermill": {
     "duration": 0.064327,
     "end_time": "2022-01-15T10:32:00.536841",
     "exception": false,
     "start_time": "2022-01-15T10:32:00.472514",
     "status": "completed"
    },
    "tags": []
   },
   "outputs": [
    {
     "name": "stdout",
     "output_type": "stream",
     "text": [
      "         X1        X2        X3        X4        X5        X6        X7        X8        X9       X10       X11       X12       X13         Y\n",
      "0 -0.419782  0.284830 -1.287909 -0.272599 -0.144217  0.413672 -0.120013  0.140214 -0.982843 -0.666608 -1.459000  0.441052 -1.075562  0.159686\n",
      "1 -0.417339 -0.487722 -0.593381 -0.272599 -0.740262  0.194274  0.367166  0.557160 -0.867883 -0.987329 -0.303094  0.441052 -0.492439 -0.101524\n",
      "2 -0.417342 -0.487722 -0.593381 -0.272599 -0.740262  1.282714 -0.265812  0.557160 -0.867883 -0.987329 -0.303094  0.396427 -1.208727  1.324247\n",
      "3 -0.416750 -0.487722 -1.306878 -0.272599 -0.835284  1.016303 -0.809889  1.077737 -0.752922 -1.106115  0.113032  0.416163 -1.361517  1.182758\n",
      "4 -0.412482 -0.487722 -1.306878 -0.272599 -0.835284  1.228577 -0.511180  1.077737 -0.752922 -1.106115  0.113032  0.441052 -1.026501  1.487503\n"
     ]
    }
   ],
   "source": [
    "X,Y = bostonDataset.boston_data()"
   ]
  },
  {
   "cell_type": "code",
   "execution_count": 7,
   "id": "fe007438",
   "metadata": {
    "execution": {
     "iopub.execute_input": "2022-01-15T10:32:00.593313Z",
     "iopub.status.busy": "2022-01-15T10:32:00.592669Z",
     "iopub.status.idle": "2022-01-15T10:32:00.595884Z",
     "shell.execute_reply": "2022-01-15T10:32:00.595414Z"
    },
    "papermill": {
     "duration": 0.03362,
     "end_time": "2022-01-15T10:32:00.596027",
     "exception": false,
     "start_time": "2022-01-15T10:32:00.562407",
     "status": "completed"
    },
    "tags": []
   },
   "outputs": [],
   "source": [
    "#Train test split for dataset \n",
    "X_train,X_test,Y_train,Y_test = train_test_split(X,Y,test_size = 0.2)\n",
    "train_data = dataset.CustomDataset(X_train,Y_train)\n",
    "test_data = dataset.CustomDataset(X_test,Y_test)\n"
   ]
  },
  {
   "cell_type": "markdown",
   "id": "a9a1af34",
   "metadata": {
    "papermill": {
     "duration": 0.024855,
     "end_time": "2022-01-15T10:32:00.645726",
     "exception": false,
     "start_time": "2022-01-15T10:32:00.620871",
     "status": "completed"
    },
    "tags": []
   },
   "source": [
    "## Training Parameters \n",
    "\n"
   ]
  },
  {
   "cell_type": "code",
   "execution_count": 8,
   "id": "952b7fc8",
   "metadata": {
    "execution": {
     "iopub.execute_input": "2022-01-15T10:32:00.721827Z",
     "iopub.status.busy": "2022-01-15T10:32:00.721142Z",
     "iopub.status.idle": "2022-01-15T10:32:00.723353Z",
     "shell.execute_reply": "2022-01-15T10:32:00.723815Z"
    },
    "papermill": {
     "duration": 0.052576,
     "end_time": "2022-01-15T10:32:00.724006",
     "exception": false,
     "start_time": "2022-01-15T10:32:00.671430",
     "status": "completed"
    },
    "tags": []
   },
   "outputs": [],
   "source": [
    "batch_size = 64\n",
    "n_epochs = 5000\n",
    "#Select the device \n",
    "device = torch.device('cuda' if torch.cuda.is_available() else 'cpu')"
   ]
  },
  {
   "cell_type": "markdown",
   "id": "a95e1600",
   "metadata": {
    "papermill": {
     "duration": 0.025949,
     "end_time": "2022-01-15T10:32:00.777213",
     "exception": false,
     "start_time": "2022-01-15T10:32:00.751264",
     "status": "completed"
    },
    "tags": []
   },
   "source": [
    "# ABC Pre-generator Model \n",
    "\n",
    "1. The catboost model is used as a pre-generator model for the ABC-GAN. \n",
    "2. The model is first trained on the train dataset \n",
    "3. It generats X,Y pairs and we add some Gaussian noise with mean 0 and variance V (1,0.01,0.1) to it which is then feed as input to the generator.\n"
   ]
  },
  {
   "cell_type": "code",
   "execution_count": 9,
   "id": "ff8ce7bd",
   "metadata": {
    "execution": {
     "iopub.execute_input": "2022-01-15T10:32:00.850145Z",
     "iopub.status.busy": "2022-01-15T10:32:00.849391Z",
     "iopub.status.idle": "2022-01-15T10:32:02.531539Z",
     "shell.execute_reply": "2022-01-15T10:32:02.530844Z"
    },
    "papermill": {
     "duration": 1.728474,
     "end_time": "2022-01-15T10:32:02.531712",
     "exception": false,
     "start_time": "2022-01-15T10:32:00.803238",
     "status": "completed"
    },
    "tags": []
   },
   "outputs": [
    {
     "name": "stdout",
     "output_type": "stream",
     "text": [
      "Learning rate set to 0.03548\n",
      "0:\tlearn: 0.9956526\ttotal: 48.5ms\tremaining: 48.5s\n",
      "1:\tlearn: 0.9762239\ttotal: 49.6ms\tremaining: 24.8s\n",
      "2:\tlearn: 0.9559352\ttotal: 50.8ms\tremaining: 16.9s\n",
      "3:\tlearn: 0.9379227\ttotal: 52ms\tremaining: 13s\n",
      "4:\tlearn: 0.9170563\ttotal: 53.1ms\tremaining: 10.6s\n",
      "5:\tlearn: 0.9032334\ttotal: 54.2ms\tremaining: 8.98s\n",
      "6:\tlearn: 0.8877069\ttotal: 55.3ms\tremaining: 7.84s\n",
      "7:\tlearn: 0.8704279\ttotal: 56.3ms\tremaining: 6.98s\n",
      "8:\tlearn: 0.8539304\ttotal: 57.3ms\tremaining: 6.3s\n",
      "9:\tlearn: 0.8363641\ttotal: 58.3ms\tremaining: 5.77s\n",
      "10:\tlearn: 0.8204864\ttotal: 59.3ms\tremaining: 5.33s\n",
      "11:\tlearn: 0.8044728\ttotal: 60.3ms\tremaining: 4.97s\n",
      "12:\tlearn: 0.7882009\ttotal: 61.3ms\tremaining: 4.66s\n",
      "13:\tlearn: 0.7729076\ttotal: 62.4ms\tremaining: 4.39s\n",
      "14:\tlearn: 0.7599406\ttotal: 63.4ms\tremaining: 4.16s\n",
      "15:\tlearn: 0.7457319\ttotal: 64.4ms\tremaining: 3.96s\n",
      "16:\tlearn: 0.7338870\ttotal: 65.4ms\tremaining: 3.78s\n",
      "17:\tlearn: 0.7206018\ttotal: 66.4ms\tremaining: 3.62s\n",
      "18:\tlearn: 0.7080001\ttotal: 67.3ms\tremaining: 3.48s\n",
      "19:\tlearn: 0.6959325\ttotal: 68.3ms\tremaining: 3.35s\n",
      "20:\tlearn: 0.6857486\ttotal: 69.2ms\tremaining: 3.23s\n",
      "21:\tlearn: 0.6750208\ttotal: 70.2ms\tremaining: 3.12s\n",
      "22:\tlearn: 0.6626159\ttotal: 71.1ms\tremaining: 3.02s\n",
      "23:\tlearn: 0.6528445\ttotal: 72.1ms\tremaining: 2.93s\n",
      "24:\tlearn: 0.6419417\ttotal: 73ms\tremaining: 2.85s\n",
      "25:\tlearn: 0.6333490\ttotal: 74.1ms\tremaining: 2.78s\n",
      "26:\tlearn: 0.6235673\ttotal: 75.1ms\tremaining: 2.71s\n",
      "27:\tlearn: 0.6139406\ttotal: 76.2ms\tremaining: 2.64s\n",
      "28:\tlearn: 0.6048072\ttotal: 77.3ms\tremaining: 2.59s\n",
      "29:\tlearn: 0.5938145\ttotal: 78.4ms\tremaining: 2.53s\n",
      "30:\tlearn: 0.5838770\ttotal: 79.4ms\tremaining: 2.48s\n",
      "31:\tlearn: 0.5750140\ttotal: 80.5ms\tremaining: 2.43s\n",
      "32:\tlearn: 0.5677760\ttotal: 81.5ms\tremaining: 2.39s\n",
      "33:\tlearn: 0.5598533\ttotal: 82.5ms\tremaining: 2.35s\n",
      "34:\tlearn: 0.5532451\ttotal: 83.5ms\tremaining: 2.3s\n",
      "35:\tlearn: 0.5455057\ttotal: 84.6ms\tremaining: 2.26s\n",
      "36:\tlearn: 0.5393895\ttotal: 85.6ms\tremaining: 2.23s\n",
      "37:\tlearn: 0.5312695\ttotal: 86.5ms\tremaining: 2.19s\n",
      "38:\tlearn: 0.5238549\ttotal: 87.5ms\tremaining: 2.16s\n",
      "39:\tlearn: 0.5165896\ttotal: 88.6ms\tremaining: 2.13s\n",
      "40:\tlearn: 0.5106440\ttotal: 89.5ms\tremaining: 2.09s\n",
      "41:\tlearn: 0.5029502\ttotal: 90.6ms\tremaining: 2.07s\n",
      "42:\tlearn: 0.4976393\ttotal: 91.6ms\tremaining: 2.04s\n",
      "43:\tlearn: 0.4919452\ttotal: 92.6ms\tremaining: 2.01s\n",
      "44:\tlearn: 0.4865399\ttotal: 93.7ms\tremaining: 1.99s\n",
      "45:\tlearn: 0.4790833\ttotal: 94.7ms\tremaining: 1.96s\n",
      "46:\tlearn: 0.4734094\ttotal: 95.8ms\tremaining: 1.94s\n",
      "47:\tlearn: 0.4667790\ttotal: 96.8ms\tremaining: 1.92s\n",
      "48:\tlearn: 0.4614836\ttotal: 97.7ms\tremaining: 1.9s\n",
      "49:\tlearn: 0.4554209\ttotal: 98.8ms\tremaining: 1.88s\n",
      "50:\tlearn: 0.4497389\ttotal: 99.8ms\tremaining: 1.86s\n",
      "51:\tlearn: 0.4448812\ttotal: 101ms\tremaining: 1.84s\n",
      "52:\tlearn: 0.4409566\ttotal: 102ms\tremaining: 1.82s\n",
      "53:\tlearn: 0.4373455\ttotal: 103ms\tremaining: 1.8s\n",
      "54:\tlearn: 0.4324857\ttotal: 104ms\tremaining: 1.78s\n",
      "55:\tlearn: 0.4290124\ttotal: 105ms\tremaining: 1.77s\n",
      "56:\tlearn: 0.4253756\ttotal: 106ms\tremaining: 1.75s\n",
      "57:\tlearn: 0.4212221\ttotal: 107ms\tremaining: 1.74s\n",
      "58:\tlearn: 0.4179958\ttotal: 108ms\tremaining: 1.73s\n",
      "59:\tlearn: 0.4137114\ttotal: 109ms\tremaining: 1.71s\n",
      "60:\tlearn: 0.4092391\ttotal: 110ms\tremaining: 1.7s\n",
      "61:\tlearn: 0.4045247\ttotal: 111ms\tremaining: 1.68s\n",
      "62:\tlearn: 0.4015959\ttotal: 112ms\tremaining: 1.67s\n",
      "63:\tlearn: 0.3981349\ttotal: 113ms\tremaining: 1.66s\n",
      "64:\tlearn: 0.3948264\ttotal: 114ms\tremaining: 1.65s\n",
      "65:\tlearn: 0.3905175\ttotal: 115ms\tremaining: 1.63s\n",
      "66:\tlearn: 0.3867435\ttotal: 116ms\tremaining: 1.62s\n",
      "67:\tlearn: 0.3828994\ttotal: 117ms\tremaining: 1.61s\n",
      "68:\tlearn: 0.3797641\ttotal: 118ms\tremaining: 1.59s\n",
      "69:\tlearn: 0.3765258\ttotal: 119ms\tremaining: 1.58s\n",
      "70:\tlearn: 0.3731034\ttotal: 120ms\tremaining: 1.57s\n",
      "71:\tlearn: 0.3705493\ttotal: 121ms\tremaining: 1.56s\n",
      "72:\tlearn: 0.3680006\ttotal: 123ms\tremaining: 1.55s\n",
      "73:\tlearn: 0.3649141\ttotal: 124ms\tremaining: 1.55s\n",
      "74:\tlearn: 0.3629246\ttotal: 125ms\tremaining: 1.54s\n",
      "75:\tlearn: 0.3602072\ttotal: 126ms\tremaining: 1.53s\n",
      "76:\tlearn: 0.3580105\ttotal: 127ms\tremaining: 1.52s\n",
      "77:\tlearn: 0.3556542\ttotal: 128ms\tremaining: 1.51s\n",
      "78:\tlearn: 0.3518628\ttotal: 129ms\tremaining: 1.5s\n",
      "79:\tlearn: 0.3498323\ttotal: 130ms\tremaining: 1.49s\n",
      "80:\tlearn: 0.3474688\ttotal: 131ms\tremaining: 1.49s\n",
      "81:\tlearn: 0.3450181\ttotal: 132ms\tremaining: 1.48s\n",
      "82:\tlearn: 0.3419486\ttotal: 133ms\tremaining: 1.47s\n",
      "83:\tlearn: 0.3400718\ttotal: 134ms\tremaining: 1.46s\n",
      "84:\tlearn: 0.3382260\ttotal: 135ms\tremaining: 1.45s\n",
      "85:\tlearn: 0.3353742\ttotal: 136ms\tremaining: 1.45s\n",
      "86:\tlearn: 0.3330543\ttotal: 137ms\tremaining: 1.44s\n",
      "87:\tlearn: 0.3304579\ttotal: 138ms\tremaining: 1.43s\n",
      "88:\tlearn: 0.3279952\ttotal: 139ms\tremaining: 1.43s\n",
      "89:\tlearn: 0.3251732\ttotal: 140ms\tremaining: 1.42s\n",
      "90:\tlearn: 0.3224990\ttotal: 141ms\tremaining: 1.41s\n",
      "91:\tlearn: 0.3198347\ttotal: 142ms\tremaining: 1.41s\n"
     ]
    },
    {
     "name": "stdout",
     "output_type": "stream",
     "text": [
      "92:\tlearn: 0.3182693\ttotal: 144ms\tremaining: 1.4s\n",
      "93:\tlearn: 0.3159012\ttotal: 145ms\tremaining: 1.4s\n",
      "94:\tlearn: 0.3141968\ttotal: 146ms\tremaining: 1.39s\n",
      "95:\tlearn: 0.3127825\ttotal: 147ms\tremaining: 1.39s\n",
      "96:\tlearn: 0.3114039\ttotal: 148ms\tremaining: 1.38s\n",
      "97:\tlearn: 0.3094799\ttotal: 149ms\tremaining: 1.38s\n",
      "98:\tlearn: 0.3077395\ttotal: 150ms\tremaining: 1.37s\n",
      "99:\tlearn: 0.3060987\ttotal: 151ms\tremaining: 1.36s\n",
      "100:\tlearn: 0.3044234\ttotal: 153ms\tremaining: 1.36s\n",
      "101:\tlearn: 0.3025964\ttotal: 154ms\tremaining: 1.35s\n",
      "102:\tlearn: 0.3009602\ttotal: 155ms\tremaining: 1.35s\n",
      "103:\tlearn: 0.2989786\ttotal: 156ms\tremaining: 1.34s\n",
      "104:\tlearn: 0.2980193\ttotal: 157ms\tremaining: 1.33s\n",
      "105:\tlearn: 0.2965799\ttotal: 158ms\tremaining: 1.33s\n",
      "106:\tlearn: 0.2947991\ttotal: 159ms\tremaining: 1.32s\n",
      "107:\tlearn: 0.2925134\ttotal: 160ms\tremaining: 1.32s\n",
      "108:\tlearn: 0.2911645\ttotal: 161ms\tremaining: 1.31s\n",
      "109:\tlearn: 0.2896218\ttotal: 162ms\tremaining: 1.31s\n",
      "110:\tlearn: 0.2881442\ttotal: 163ms\tremaining: 1.3s\n",
      "111:\tlearn: 0.2865554\ttotal: 163ms\tremaining: 1.3s\n",
      "112:\tlearn: 0.2845357\ttotal: 165ms\tremaining: 1.29s\n",
      "113:\tlearn: 0.2834870\ttotal: 165ms\tremaining: 1.28s\n",
      "114:\tlearn: 0.2822382\ttotal: 167ms\tremaining: 1.28s\n",
      "115:\tlearn: 0.2811776\ttotal: 168ms\tremaining: 1.28s\n",
      "116:\tlearn: 0.2800345\ttotal: 168ms\tremaining: 1.27s\n",
      "117:\tlearn: 0.2788051\ttotal: 169ms\tremaining: 1.27s\n",
      "118:\tlearn: 0.2775446\ttotal: 171ms\tremaining: 1.26s\n",
      "119:\tlearn: 0.2766635\ttotal: 172ms\tremaining: 1.26s\n",
      "120:\tlearn: 0.2754101\ttotal: 173ms\tremaining: 1.25s\n",
      "121:\tlearn: 0.2743475\ttotal: 174ms\tremaining: 1.25s\n",
      "122:\tlearn: 0.2730102\ttotal: 175ms\tremaining: 1.25s\n",
      "123:\tlearn: 0.2713453\ttotal: 176ms\tremaining: 1.24s\n",
      "124:\tlearn: 0.2702483\ttotal: 177ms\tremaining: 1.24s\n",
      "125:\tlearn: 0.2692320\ttotal: 178ms\tremaining: 1.23s\n",
      "126:\tlearn: 0.2681919\ttotal: 179ms\tremaining: 1.23s\n",
      "127:\tlearn: 0.2673089\ttotal: 180ms\tremaining: 1.22s\n",
      "128:\tlearn: 0.2662166\ttotal: 181ms\tremaining: 1.22s\n",
      "129:\tlearn: 0.2652997\ttotal: 182ms\tremaining: 1.22s\n",
      "130:\tlearn: 0.2643960\ttotal: 183ms\tremaining: 1.21s\n",
      "131:\tlearn: 0.2630964\ttotal: 184ms\tremaining: 1.21s\n",
      "132:\tlearn: 0.2621312\ttotal: 185ms\tremaining: 1.21s\n",
      "133:\tlearn: 0.2611036\ttotal: 186ms\tremaining: 1.2s\n",
      "134:\tlearn: 0.2600460\ttotal: 187ms\tremaining: 1.2s\n",
      "135:\tlearn: 0.2591200\ttotal: 188ms\tremaining: 1.2s\n",
      "136:\tlearn: 0.2584613\ttotal: 189ms\tremaining: 1.19s\n",
      "137:\tlearn: 0.2577595\ttotal: 190ms\tremaining: 1.19s\n",
      "138:\tlearn: 0.2568751\ttotal: 192ms\tremaining: 1.19s\n",
      "139:\tlearn: 0.2558696\ttotal: 193ms\tremaining: 1.19s\n",
      "140:\tlearn: 0.2547579\ttotal: 194ms\tremaining: 1.18s\n",
      "141:\tlearn: 0.2540642\ttotal: 195ms\tremaining: 1.18s\n",
      "142:\tlearn: 0.2530715\ttotal: 196ms\tremaining: 1.18s\n",
      "143:\tlearn: 0.2521284\ttotal: 197ms\tremaining: 1.17s\n",
      "144:\tlearn: 0.2512723\ttotal: 198ms\tremaining: 1.17s\n",
      "145:\tlearn: 0.2504348\ttotal: 199ms\tremaining: 1.17s\n",
      "146:\tlearn: 0.2497988\ttotal: 200ms\tremaining: 1.16s\n",
      "147:\tlearn: 0.2486068\ttotal: 201ms\tremaining: 1.16s\n",
      "148:\tlearn: 0.2472196\ttotal: 202ms\tremaining: 1.16s\n",
      "149:\tlearn: 0.2466453\ttotal: 203ms\tremaining: 1.15s\n",
      "150:\tlearn: 0.2455069\ttotal: 204ms\tremaining: 1.15s\n",
      "151:\tlearn: 0.2446345\ttotal: 205ms\tremaining: 1.15s\n",
      "152:\tlearn: 0.2440180\ttotal: 206ms\tremaining: 1.14s\n",
      "153:\tlearn: 0.2433076\ttotal: 207ms\tremaining: 1.14s\n",
      "154:\tlearn: 0.2426262\ttotal: 208ms\tremaining: 1.14s\n",
      "155:\tlearn: 0.2418581\ttotal: 209ms\tremaining: 1.13s\n",
      "156:\tlearn: 0.2412834\ttotal: 210ms\tremaining: 1.13s\n",
      "157:\tlearn: 0.2403183\ttotal: 211ms\tremaining: 1.13s\n",
      "158:\tlearn: 0.2395451\ttotal: 212ms\tremaining: 1.12s\n",
      "159:\tlearn: 0.2389926\ttotal: 213ms\tremaining: 1.12s\n",
      "160:\tlearn: 0.2381889\ttotal: 214ms\tremaining: 1.12s\n",
      "161:\tlearn: 0.2374557\ttotal: 215ms\tremaining: 1.11s\n",
      "162:\tlearn: 0.2365039\ttotal: 216ms\tremaining: 1.11s\n",
      "163:\tlearn: 0.2358104\ttotal: 218ms\tremaining: 1.11s\n",
      "164:\tlearn: 0.2353210\ttotal: 219ms\tremaining: 1.1s\n",
      "165:\tlearn: 0.2345882\ttotal: 220ms\tremaining: 1.1s\n",
      "166:\tlearn: 0.2340252\ttotal: 221ms\tremaining: 1.1s\n",
      "167:\tlearn: 0.2331225\ttotal: 222ms\tremaining: 1.1s\n",
      "168:\tlearn: 0.2324608\ttotal: 223ms\tremaining: 1.09s\n",
      "169:\tlearn: 0.2318307\ttotal: 224ms\tremaining: 1.09s\n",
      "170:\tlearn: 0.2309359\ttotal: 225ms\tremaining: 1.09s\n",
      "171:\tlearn: 0.2303753\ttotal: 226ms\tremaining: 1.09s\n",
      "172:\tlearn: 0.2297461\ttotal: 227ms\tremaining: 1.08s\n",
      "173:\tlearn: 0.2290619\ttotal: 228ms\tremaining: 1.08s\n",
      "174:\tlearn: 0.2285720\ttotal: 229ms\tremaining: 1.08s\n",
      "175:\tlearn: 0.2281169\ttotal: 230ms\tremaining: 1.08s\n",
      "176:\tlearn: 0.2273497\ttotal: 231ms\tremaining: 1.07s\n",
      "177:\tlearn: 0.2266568\ttotal: 232ms\tremaining: 1.07s\n",
      "178:\tlearn: 0.2259147\ttotal: 233ms\tremaining: 1.07s\n",
      "179:\tlearn: 0.2250068\ttotal: 234ms\tremaining: 1.07s\n",
      "180:\tlearn: 0.2241305\ttotal: 235ms\tremaining: 1.06s\n",
      "181:\tlearn: 0.2235951\ttotal: 236ms\tremaining: 1.06s\n",
      "182:\tlearn: 0.2232160\ttotal: 237ms\tremaining: 1.06s\n",
      "183:\tlearn: 0.2224882\ttotal: 239ms\tremaining: 1.06s\n",
      "184:\tlearn: 0.2215971\ttotal: 240ms\tremaining: 1.05s\n",
      "185:\tlearn: 0.2209650\ttotal: 241ms\tremaining: 1.05s\n",
      "186:\tlearn: 0.2202404\ttotal: 242ms\tremaining: 1.05s\n",
      "187:\tlearn: 0.2193963\ttotal: 243ms\tremaining: 1.05s\n",
      "188:\tlearn: 0.2189077\ttotal: 244ms\tremaining: 1.04s\n",
      "189:\tlearn: 0.2185452\ttotal: 245ms\tremaining: 1.04s\n",
      "190:\tlearn: 0.2179869\ttotal: 246ms\tremaining: 1.04s\n",
      "191:\tlearn: 0.2173525\ttotal: 247ms\tremaining: 1.04s\n",
      "192:\tlearn: 0.2168362\ttotal: 248ms\tremaining: 1.03s\n",
      "193:\tlearn: 0.2163153\ttotal: 249ms\tremaining: 1.03s\n",
      "194:\tlearn: 0.2157169\ttotal: 250ms\tremaining: 1.03s\n",
      "195:\tlearn: 0.2152119\ttotal: 251ms\tremaining: 1.03s\n",
      "196:\tlearn: 0.2143602\ttotal: 252ms\tremaining: 1.03s\n",
      "197:\tlearn: 0.2138371\ttotal: 253ms\tremaining: 1.02s\n",
      "198:\tlearn: 0.2132730\ttotal: 254ms\tremaining: 1.02s\n",
      "199:\tlearn: 0.2125356\ttotal: 255ms\tremaining: 1.02s\n",
      "200:\tlearn: 0.2119567\ttotal: 256ms\tremaining: 1.02s\n",
      "201:\tlearn: 0.2113795\ttotal: 257ms\tremaining: 1.01s\n",
      "202:\tlearn: 0.2107579\ttotal: 258ms\tremaining: 1.01s\n",
      "203:\tlearn: 0.2101941\ttotal: 259ms\tremaining: 1.01s\n",
      "204:\tlearn: 0.2093425\ttotal: 260ms\tremaining: 1.01s\n",
      "205:\tlearn: 0.2085625\ttotal: 261ms\tremaining: 1.01s\n",
      "206:\tlearn: 0.2081499\ttotal: 262ms\tremaining: 1s\n",
      "207:\tlearn: 0.2077010\ttotal: 263ms\tremaining: 1s\n",
      "208:\tlearn: 0.2072710\ttotal: 264ms\tremaining: 1s\n",
      "209:\tlearn: 0.2067938\ttotal: 266ms\tremaining: 999ms\n",
      "210:\tlearn: 0.2064142\ttotal: 267ms\tremaining: 997ms\n",
      "211:\tlearn: 0.2058521\ttotal: 268ms\tremaining: 995ms\n",
      "212:\tlearn: 0.2051167\ttotal: 269ms\tremaining: 993ms\n",
      "213:\tlearn: 0.2046728\ttotal: 270ms\tremaining: 991ms\n",
      "214:\tlearn: 0.2039730\ttotal: 271ms\tremaining: 989ms\n",
      "215:\tlearn: 0.2033848\ttotal: 272ms\tremaining: 987ms\n",
      "216:\tlearn: 0.2029984\ttotal: 273ms\tremaining: 985ms\n",
      "217:\tlearn: 0.2025897\ttotal: 274ms\tremaining: 984ms\n",
      "218:\tlearn: 0.2021315\ttotal: 276ms\tremaining: 983ms\n",
      "219:\tlearn: 0.2017744\ttotal: 277ms\tremaining: 980ms\n",
      "220:\tlearn: 0.2011745\ttotal: 278ms\tremaining: 979ms\n",
      "221:\tlearn: 0.2004721\ttotal: 279ms\tremaining: 977ms\n"
     ]
    },
    {
     "name": "stdout",
     "output_type": "stream",
     "text": [
      "222:\tlearn: 0.2000123\ttotal: 280ms\tremaining: 975ms\n",
      "223:\tlearn: 0.1995768\ttotal: 281ms\tremaining: 974ms\n",
      "224:\tlearn: 0.1991282\ttotal: 282ms\tremaining: 973ms\n",
      "225:\tlearn: 0.1988763\ttotal: 284ms\tremaining: 972ms\n",
      "226:\tlearn: 0.1984243\ttotal: 285ms\tremaining: 970ms\n",
      "227:\tlearn: 0.1979642\ttotal: 286ms\tremaining: 969ms\n",
      "228:\tlearn: 0.1973530\ttotal: 287ms\tremaining: 967ms\n",
      "229:\tlearn: 0.1971219\ttotal: 288ms\tremaining: 966ms\n",
      "230:\tlearn: 0.1966845\ttotal: 290ms\tremaining: 964ms\n",
      "231:\tlearn: 0.1961833\ttotal: 291ms\tremaining: 962ms\n",
      "232:\tlearn: 0.1957567\ttotal: 292ms\tremaining: 960ms\n",
      "233:\tlearn: 0.1952590\ttotal: 293ms\tremaining: 959ms\n",
      "234:\tlearn: 0.1949362\ttotal: 294ms\tremaining: 957ms\n",
      "235:\tlearn: 0.1943602\ttotal: 295ms\tremaining: 955ms\n",
      "236:\tlearn: 0.1939241\ttotal: 296ms\tremaining: 953ms\n",
      "237:\tlearn: 0.1934773\ttotal: 297ms\tremaining: 952ms\n",
      "238:\tlearn: 0.1928960\ttotal: 298ms\tremaining: 950ms\n",
      "239:\tlearn: 0.1922522\ttotal: 300ms\tremaining: 949ms\n",
      "240:\tlearn: 0.1917263\ttotal: 301ms\tremaining: 947ms\n",
      "241:\tlearn: 0.1911744\ttotal: 302ms\tremaining: 945ms\n",
      "242:\tlearn: 0.1908287\ttotal: 303ms\tremaining: 944ms\n",
      "243:\tlearn: 0.1902508\ttotal: 304ms\tremaining: 942ms\n",
      "244:\tlearn: 0.1898888\ttotal: 305ms\tremaining: 940ms\n",
      "245:\tlearn: 0.1895808\ttotal: 306ms\tremaining: 938ms\n",
      "246:\tlearn: 0.1892007\ttotal: 307ms\tremaining: 937ms\n",
      "247:\tlearn: 0.1889878\ttotal: 308ms\tremaining: 935ms\n",
      "248:\tlearn: 0.1885049\ttotal: 310ms\tremaining: 934ms\n",
      "249:\tlearn: 0.1879459\ttotal: 311ms\tremaining: 932ms\n",
      "250:\tlearn: 0.1874727\ttotal: 312ms\tremaining: 931ms\n",
      "251:\tlearn: 0.1871865\ttotal: 313ms\tremaining: 929ms\n",
      "252:\tlearn: 0.1864485\ttotal: 314ms\tremaining: 928ms\n",
      "253:\tlearn: 0.1859361\ttotal: 315ms\tremaining: 926ms\n",
      "254:\tlearn: 0.1854106\ttotal: 316ms\tremaining: 924ms\n",
      "255:\tlearn: 0.1847013\ttotal: 317ms\tremaining: 923ms\n",
      "256:\tlearn: 0.1842443\ttotal: 319ms\tremaining: 921ms\n",
      "257:\tlearn: 0.1836355\ttotal: 320ms\tremaining: 920ms\n",
      "258:\tlearn: 0.1828922\ttotal: 321ms\tremaining: 918ms\n",
      "259:\tlearn: 0.1825421\ttotal: 322ms\tremaining: 917ms\n",
      "260:\tlearn: 0.1819630\ttotal: 323ms\tremaining: 915ms\n",
      "261:\tlearn: 0.1814151\ttotal: 324ms\tremaining: 914ms\n",
      "262:\tlearn: 0.1809434\ttotal: 325ms\tremaining: 912ms\n",
      "263:\tlearn: 0.1803786\ttotal: 327ms\tremaining: 910ms\n",
      "264:\tlearn: 0.1798340\ttotal: 328ms\tremaining: 909ms\n",
      "265:\tlearn: 0.1795380\ttotal: 329ms\tremaining: 907ms\n",
      "266:\tlearn: 0.1792726\ttotal: 330ms\tremaining: 906ms\n",
      "267:\tlearn: 0.1787323\ttotal: 331ms\tremaining: 904ms\n",
      "268:\tlearn: 0.1784749\ttotal: 332ms\tremaining: 902ms\n",
      "269:\tlearn: 0.1779434\ttotal: 333ms\tremaining: 901ms\n",
      "270:\tlearn: 0.1777278\ttotal: 335ms\tremaining: 900ms\n",
      "271:\tlearn: 0.1770928\ttotal: 336ms\tremaining: 898ms\n",
      "272:\tlearn: 0.1767012\ttotal: 337ms\tremaining: 897ms\n",
      "273:\tlearn: 0.1763085\ttotal: 338ms\tremaining: 895ms\n",
      "274:\tlearn: 0.1760429\ttotal: 339ms\tremaining: 893ms\n",
      "275:\tlearn: 0.1756198\ttotal: 340ms\tremaining: 892ms\n",
      "276:\tlearn: 0.1754141\ttotal: 341ms\tremaining: 890ms\n",
      "277:\tlearn: 0.1748116\ttotal: 342ms\tremaining: 888ms\n",
      "278:\tlearn: 0.1743437\ttotal: 343ms\tremaining: 887ms\n",
      "279:\tlearn: 0.1739427\ttotal: 344ms\tremaining: 885ms\n",
      "280:\tlearn: 0.1737112\ttotal: 345ms\tremaining: 884ms\n",
      "281:\tlearn: 0.1733943\ttotal: 346ms\tremaining: 882ms\n",
      "282:\tlearn: 0.1728871\ttotal: 347ms\tremaining: 880ms\n",
      "283:\tlearn: 0.1723471\ttotal: 349ms\tremaining: 879ms\n",
      "284:\tlearn: 0.1719846\ttotal: 350ms\tremaining: 877ms\n",
      "285:\tlearn: 0.1716336\ttotal: 351ms\tremaining: 876ms\n",
      "286:\tlearn: 0.1711068\ttotal: 352ms\tremaining: 875ms\n",
      "287:\tlearn: 0.1709695\ttotal: 353ms\tremaining: 873ms\n",
      "288:\tlearn: 0.1706588\ttotal: 354ms\tremaining: 871ms\n",
      "289:\tlearn: 0.1700052\ttotal: 355ms\tremaining: 870ms\n",
      "290:\tlearn: 0.1697485\ttotal: 356ms\tremaining: 868ms\n",
      "291:\tlearn: 0.1693876\ttotal: 357ms\tremaining: 866ms\n",
      "292:\tlearn: 0.1689985\ttotal: 358ms\tremaining: 865ms\n",
      "293:\tlearn: 0.1686225\ttotal: 359ms\tremaining: 863ms\n",
      "294:\tlearn: 0.1684411\ttotal: 360ms\tremaining: 862ms\n",
      "295:\tlearn: 0.1680203\ttotal: 362ms\tremaining: 860ms\n",
      "296:\tlearn: 0.1677709\ttotal: 363ms\tremaining: 858ms\n",
      "297:\tlearn: 0.1672524\ttotal: 364ms\tremaining: 857ms\n",
      "298:\tlearn: 0.1668482\ttotal: 365ms\tremaining: 856ms\n",
      "299:\tlearn: 0.1663186\ttotal: 366ms\tremaining: 854ms\n",
      "300:\tlearn: 0.1660746\ttotal: 367ms\tremaining: 853ms\n",
      "301:\tlearn: 0.1659546\ttotal: 368ms\tremaining: 851ms\n",
      "302:\tlearn: 0.1655953\ttotal: 369ms\tremaining: 849ms\n",
      "303:\tlearn: 0.1651449\ttotal: 370ms\tremaining: 848ms\n",
      "304:\tlearn: 0.1647077\ttotal: 371ms\tremaining: 846ms\n",
      "305:\tlearn: 0.1643521\ttotal: 372ms\tremaining: 845ms\n",
      "306:\tlearn: 0.1641631\ttotal: 373ms\tremaining: 843ms\n",
      "307:\tlearn: 0.1638968\ttotal: 375ms\tremaining: 841ms\n",
      "308:\tlearn: 0.1637377\ttotal: 376ms\tremaining: 841ms\n",
      "309:\tlearn: 0.1634083\ttotal: 377ms\tremaining: 840ms\n",
      "310:\tlearn: 0.1629341\ttotal: 378ms\tremaining: 838ms\n",
      "311:\tlearn: 0.1625058\ttotal: 380ms\tremaining: 837ms\n",
      "312:\tlearn: 0.1623180\ttotal: 381ms\tremaining: 835ms\n",
      "313:\tlearn: 0.1621400\ttotal: 382ms\tremaining: 835ms\n",
      "314:\tlearn: 0.1619672\ttotal: 383ms\tremaining: 833ms\n",
      "315:\tlearn: 0.1617199\ttotal: 384ms\tremaining: 831ms\n",
      "316:\tlearn: 0.1614409\ttotal: 385ms\tremaining: 830ms\n",
      "317:\tlearn: 0.1612954\ttotal: 386ms\tremaining: 828ms\n",
      "318:\tlearn: 0.1609529\ttotal: 387ms\tremaining: 826ms\n",
      "319:\tlearn: 0.1607108\ttotal: 388ms\tremaining: 824ms\n",
      "320:\tlearn: 0.1603760\ttotal: 389ms\tremaining: 823ms\n",
      "321:\tlearn: 0.1599313\ttotal: 390ms\tremaining: 821ms\n",
      "322:\tlearn: 0.1594827\ttotal: 391ms\tremaining: 820ms\n",
      "323:\tlearn: 0.1590874\ttotal: 392ms\tremaining: 818ms\n",
      "324:\tlearn: 0.1588635\ttotal: 393ms\tremaining: 817ms\n",
      "325:\tlearn: 0.1584300\ttotal: 394ms\tremaining: 815ms\n",
      "326:\tlearn: 0.1581700\ttotal: 395ms\tremaining: 813ms\n",
      "327:\tlearn: 0.1577680\ttotal: 396ms\tremaining: 812ms\n",
      "328:\tlearn: 0.1576248\ttotal: 397ms\tremaining: 810ms\n",
      "329:\tlearn: 0.1575155\ttotal: 398ms\tremaining: 809ms\n",
      "330:\tlearn: 0.1571659\ttotal: 399ms\tremaining: 807ms\n",
      "331:\tlearn: 0.1567945\ttotal: 400ms\tremaining: 805ms\n",
      "332:\tlearn: 0.1564703\ttotal: 401ms\tremaining: 804ms\n",
      "333:\tlearn: 0.1559822\ttotal: 402ms\tremaining: 803ms\n",
      "334:\tlearn: 0.1558792\ttotal: 404ms\tremaining: 801ms\n",
      "335:\tlearn: 0.1556868\ttotal: 405ms\tremaining: 799ms\n",
      "336:\tlearn: 0.1554426\ttotal: 406ms\tremaining: 798ms\n",
      "337:\tlearn: 0.1551923\ttotal: 407ms\tremaining: 796ms\n",
      "338:\tlearn: 0.1549024\ttotal: 408ms\tremaining: 795ms\n"
     ]
    },
    {
     "name": "stdout",
     "output_type": "stream",
     "text": [
      "339:\tlearn: 0.1547051\ttotal: 409ms\tremaining: 793ms\n",
      "340:\tlearn: 0.1542990\ttotal: 410ms\tremaining: 792ms\n",
      "341:\tlearn: 0.1540603\ttotal: 411ms\tremaining: 791ms\n",
      "342:\tlearn: 0.1536759\ttotal: 412ms\tremaining: 790ms\n",
      "343:\tlearn: 0.1531405\ttotal: 413ms\tremaining: 788ms\n",
      "344:\tlearn: 0.1528146\ttotal: 414ms\tremaining: 787ms\n",
      "345:\tlearn: 0.1526199\ttotal: 415ms\tremaining: 785ms\n",
      "346:\tlearn: 0.1523344\ttotal: 417ms\tremaining: 784ms\n",
      "347:\tlearn: 0.1520902\ttotal: 418ms\tremaining: 782ms\n",
      "348:\tlearn: 0.1516047\ttotal: 419ms\tremaining: 781ms\n",
      "349:\tlearn: 0.1513768\ttotal: 420ms\tremaining: 779ms\n",
      "350:\tlearn: 0.1511193\ttotal: 421ms\tremaining: 778ms\n",
      "351:\tlearn: 0.1509891\ttotal: 422ms\tremaining: 776ms\n",
      "352:\tlearn: 0.1505476\ttotal: 423ms\tremaining: 775ms\n",
      "353:\tlearn: 0.1501941\ttotal: 424ms\tremaining: 773ms\n",
      "354:\tlearn: 0.1501036\ttotal: 425ms\tremaining: 772ms\n",
      "355:\tlearn: 0.1496627\ttotal: 426ms\tremaining: 770ms\n",
      "356:\tlearn: 0.1495718\ttotal: 427ms\tremaining: 769ms\n",
      "357:\tlearn: 0.1493312\ttotal: 428ms\tremaining: 767ms\n",
      "358:\tlearn: 0.1491306\ttotal: 429ms\tremaining: 766ms\n",
      "359:\tlearn: 0.1488299\ttotal: 430ms\tremaining: 764ms\n",
      "360:\tlearn: 0.1486022\ttotal: 431ms\tremaining: 763ms\n",
      "361:\tlearn: 0.1484619\ttotal: 432ms\tremaining: 762ms\n",
      "362:\tlearn: 0.1481448\ttotal: 433ms\tremaining: 760ms\n",
      "363:\tlearn: 0.1477066\ttotal: 434ms\tremaining: 759ms\n",
      "364:\tlearn: 0.1475333\ttotal: 435ms\tremaining: 758ms\n",
      "365:\tlearn: 0.1472197\ttotal: 437ms\tremaining: 756ms\n",
      "366:\tlearn: 0.1469871\ttotal: 438ms\tremaining: 755ms\n",
      "367:\tlearn: 0.1466598\ttotal: 439ms\tremaining: 753ms\n",
      "368:\tlearn: 0.1464610\ttotal: 440ms\tremaining: 752ms\n",
      "369:\tlearn: 0.1460286\ttotal: 441ms\tremaining: 751ms\n",
      "370:\tlearn: 0.1456349\ttotal: 442ms\tremaining: 749ms\n",
      "371:\tlearn: 0.1451838\ttotal: 443ms\tremaining: 747ms\n",
      "372:\tlearn: 0.1450054\ttotal: 444ms\tremaining: 746ms\n",
      "373:\tlearn: 0.1447947\ttotal: 445ms\tremaining: 744ms\n",
      "374:\tlearn: 0.1446270\ttotal: 446ms\tremaining: 743ms\n",
      "375:\tlearn: 0.1443192\ttotal: 447ms\tremaining: 742ms\n",
      "376:\tlearn: 0.1441778\ttotal: 448ms\tremaining: 740ms\n",
      "377:\tlearn: 0.1440177\ttotal: 449ms\tremaining: 739ms\n",
      "378:\tlearn: 0.1439162\ttotal: 450ms\tremaining: 737ms\n",
      "379:\tlearn: 0.1437263\ttotal: 451ms\tremaining: 736ms\n",
      "380:\tlearn: 0.1434491\ttotal: 452ms\tremaining: 734ms\n",
      "381:\tlearn: 0.1431759\ttotal: 453ms\tremaining: 733ms\n",
      "382:\tlearn: 0.1427781\ttotal: 454ms\tremaining: 731ms\n",
      "383:\tlearn: 0.1425078\ttotal: 455ms\tremaining: 730ms\n",
      "384:\tlearn: 0.1421423\ttotal: 456ms\tremaining: 728ms\n",
      "385:\tlearn: 0.1417477\ttotal: 457ms\tremaining: 727ms\n",
      "386:\tlearn: 0.1414004\ttotal: 458ms\tremaining: 725ms\n",
      "387:\tlearn: 0.1411938\ttotal: 459ms\tremaining: 724ms\n",
      "388:\tlearn: 0.1409134\ttotal: 460ms\tremaining: 722ms\n",
      "389:\tlearn: 0.1407153\ttotal: 461ms\tremaining: 721ms\n",
      "390:\tlearn: 0.1404077\ttotal: 462ms\tremaining: 720ms\n",
      "391:\tlearn: 0.1401121\ttotal: 463ms\tremaining: 718ms\n",
      "392:\tlearn: 0.1399132\ttotal: 464ms\tremaining: 717ms\n",
      "393:\tlearn: 0.1395892\ttotal: 465ms\tremaining: 715ms\n",
      "394:\tlearn: 0.1393252\ttotal: 466ms\tremaining: 714ms\n",
      "395:\tlearn: 0.1390930\ttotal: 467ms\tremaining: 712ms\n",
      "396:\tlearn: 0.1386192\ttotal: 468ms\tremaining: 711ms\n",
      "397:\tlearn: 0.1383335\ttotal: 469ms\tremaining: 710ms\n",
      "398:\tlearn: 0.1380632\ttotal: 470ms\tremaining: 708ms\n",
      "399:\tlearn: 0.1380095\ttotal: 471ms\tremaining: 707ms\n",
      "400:\tlearn: 0.1376514\ttotal: 472ms\tremaining: 705ms\n",
      "401:\tlearn: 0.1372162\ttotal: 473ms\tremaining: 704ms\n",
      "402:\tlearn: 0.1369857\ttotal: 474ms\tremaining: 703ms\n",
      "403:\tlearn: 0.1368584\ttotal: 475ms\tremaining: 701ms\n",
      "404:\tlearn: 0.1364861\ttotal: 476ms\tremaining: 700ms\n",
      "405:\tlearn: 0.1361683\ttotal: 477ms\tremaining: 698ms\n",
      "406:\tlearn: 0.1359274\ttotal: 478ms\tremaining: 697ms\n",
      "407:\tlearn: 0.1357259\ttotal: 479ms\tremaining: 696ms\n",
      "408:\tlearn: 0.1354374\ttotal: 481ms\tremaining: 694ms\n",
      "409:\tlearn: 0.1351043\ttotal: 482ms\tremaining: 693ms\n",
      "410:\tlearn: 0.1348250\ttotal: 483ms\tremaining: 692ms\n",
      "411:\tlearn: 0.1346355\ttotal: 484ms\tremaining: 690ms\n",
      "412:\tlearn: 0.1344513\ttotal: 485ms\tremaining: 689ms\n",
      "413:\tlearn: 0.1342762\ttotal: 486ms\tremaining: 687ms\n",
      "414:\tlearn: 0.1340596\ttotal: 487ms\tremaining: 686ms\n",
      "415:\tlearn: 0.1339270\ttotal: 488ms\tremaining: 684ms\n",
      "416:\tlearn: 0.1337077\ttotal: 488ms\tremaining: 683ms\n",
      "417:\tlearn: 0.1334482\ttotal: 489ms\tremaining: 681ms\n",
      "418:\tlearn: 0.1330961\ttotal: 490ms\tremaining: 680ms\n",
      "419:\tlearn: 0.1327451\ttotal: 491ms\tremaining: 679ms\n",
      "420:\tlearn: 0.1324288\ttotal: 492ms\tremaining: 677ms\n",
      "421:\tlearn: 0.1321159\ttotal: 493ms\tremaining: 676ms\n",
      "422:\tlearn: 0.1319083\ttotal: 494ms\tremaining: 674ms\n",
      "423:\tlearn: 0.1316170\ttotal: 495ms\tremaining: 673ms\n",
      "424:\tlearn: 0.1313704\ttotal: 496ms\tremaining: 672ms\n",
      "425:\tlearn: 0.1309609\ttotal: 498ms\tremaining: 670ms\n",
      "426:\tlearn: 0.1306012\ttotal: 499ms\tremaining: 669ms\n",
      "427:\tlearn: 0.1303014\ttotal: 499ms\tremaining: 668ms\n",
      "428:\tlearn: 0.1301246\ttotal: 500ms\tremaining: 666ms\n",
      "429:\tlearn: 0.1297396\ttotal: 502ms\tremaining: 665ms\n",
      "430:\tlearn: 0.1295655\ttotal: 503ms\tremaining: 663ms\n",
      "431:\tlearn: 0.1293685\ttotal: 503ms\tremaining: 662ms\n",
      "432:\tlearn: 0.1290941\ttotal: 505ms\tremaining: 661ms\n",
      "433:\tlearn: 0.1290068\ttotal: 506ms\tremaining: 659ms\n",
      "434:\tlearn: 0.1288225\ttotal: 507ms\tremaining: 658ms\n",
      "435:\tlearn: 0.1285981\ttotal: 507ms\tremaining: 656ms\n",
      "436:\tlearn: 0.1284040\ttotal: 508ms\tremaining: 655ms\n",
      "437:\tlearn: 0.1281125\ttotal: 509ms\tremaining: 654ms\n",
      "438:\tlearn: 0.1279644\ttotal: 510ms\tremaining: 652ms\n",
      "439:\tlearn: 0.1276669\ttotal: 511ms\tremaining: 651ms\n",
      "440:\tlearn: 0.1276197\ttotal: 512ms\tremaining: 649ms\n",
      "441:\tlearn: 0.1273906\ttotal: 513ms\tremaining: 648ms\n",
      "442:\tlearn: 0.1270652\ttotal: 514ms\tremaining: 647ms\n",
      "443:\tlearn: 0.1269078\ttotal: 515ms\tremaining: 645ms\n",
      "444:\tlearn: 0.1266759\ttotal: 516ms\tremaining: 644ms\n",
      "445:\tlearn: 0.1265800\ttotal: 518ms\tremaining: 643ms\n",
      "446:\tlearn: 0.1263537\ttotal: 519ms\tremaining: 642ms\n",
      "447:\tlearn: 0.1262375\ttotal: 520ms\tremaining: 640ms\n",
      "448:\tlearn: 0.1259942\ttotal: 521ms\tremaining: 639ms\n",
      "449:\tlearn: 0.1257832\ttotal: 522ms\tremaining: 638ms\n",
      "450:\tlearn: 0.1253949\ttotal: 523ms\tremaining: 636ms\n",
      "451:\tlearn: 0.1252304\ttotal: 524ms\tremaining: 635ms\n",
      "452:\tlearn: 0.1249186\ttotal: 525ms\tremaining: 634ms\n",
      "453:\tlearn: 0.1247911\ttotal: 526ms\tremaining: 632ms\n",
      "454:\tlearn: 0.1247264\ttotal: 527ms\tremaining: 631ms\n",
      "455:\tlearn: 0.1245021\ttotal: 528ms\tremaining: 630ms\n",
      "456:\tlearn: 0.1242508\ttotal: 529ms\tremaining: 628ms\n",
      "457:\tlearn: 0.1239674\ttotal: 530ms\tremaining: 627ms\n",
      "458:\tlearn: 0.1239191\ttotal: 531ms\tremaining: 626ms\n",
      "459:\tlearn: 0.1237183\ttotal: 532ms\tremaining: 624ms\n",
      "460:\tlearn: 0.1235567\ttotal: 533ms\tremaining: 623ms\n",
      "461:\tlearn: 0.1234416\ttotal: 534ms\tremaining: 622ms\n",
      "462:\tlearn: 0.1232589\ttotal: 535ms\tremaining: 620ms\n",
      "463:\tlearn: 0.1228739\ttotal: 536ms\tremaining: 619ms\n",
      "464:\tlearn: 0.1225378\ttotal: 537ms\tremaining: 618ms\n",
      "465:\tlearn: 0.1223904\ttotal: 538ms\tremaining: 616ms\n",
      "466:\tlearn: 0.1220650\ttotal: 539ms\tremaining: 615ms\n",
      "467:\tlearn: 0.1218517\ttotal: 540ms\tremaining: 614ms\n",
      "468:\tlearn: 0.1215447\ttotal: 541ms\tremaining: 612ms\n"
     ]
    },
    {
     "name": "stdout",
     "output_type": "stream",
     "text": [
      "469:\tlearn: 0.1211858\ttotal: 543ms\tremaining: 612ms\n",
      "470:\tlearn: 0.1209872\ttotal: 544ms\tremaining: 611ms\n",
      "471:\tlearn: 0.1208972\ttotal: 545ms\tremaining: 610ms\n",
      "472:\tlearn: 0.1206069\ttotal: 546ms\tremaining: 608ms\n",
      "473:\tlearn: 0.1205204\ttotal: 547ms\tremaining: 607ms\n",
      "474:\tlearn: 0.1201499\ttotal: 548ms\tremaining: 606ms\n",
      "475:\tlearn: 0.1198507\ttotal: 549ms\tremaining: 605ms\n",
      "476:\tlearn: 0.1196873\ttotal: 550ms\tremaining: 603ms\n",
      "477:\tlearn: 0.1195305\ttotal: 551ms\tremaining: 602ms\n",
      "478:\tlearn: 0.1193061\ttotal: 553ms\tremaining: 601ms\n",
      "479:\tlearn: 0.1190279\ttotal: 554ms\tremaining: 600ms\n",
      "480:\tlearn: 0.1187952\ttotal: 555ms\tremaining: 599ms\n",
      "481:\tlearn: 0.1186340\ttotal: 556ms\tremaining: 597ms\n",
      "482:\tlearn: 0.1184643\ttotal: 557ms\tremaining: 596ms\n",
      "483:\tlearn: 0.1181829\ttotal: 558ms\tremaining: 595ms\n",
      "484:\tlearn: 0.1178323\ttotal: 559ms\tremaining: 593ms\n",
      "485:\tlearn: 0.1177307\ttotal: 560ms\tremaining: 592ms\n",
      "486:\tlearn: 0.1174512\ttotal: 561ms\tremaining: 591ms\n",
      "487:\tlearn: 0.1173596\ttotal: 562ms\tremaining: 589ms\n",
      "488:\tlearn: 0.1169927\ttotal: 563ms\tremaining: 588ms\n",
      "489:\tlearn: 0.1168146\ttotal: 564ms\tremaining: 587ms\n",
      "490:\tlearn: 0.1165610\ttotal: 565ms\tremaining: 585ms\n",
      "491:\tlearn: 0.1163569\ttotal: 566ms\tremaining: 584ms\n",
      "492:\tlearn: 0.1162330\ttotal: 567ms\tremaining: 583ms\n",
      "493:\tlearn: 0.1159452\ttotal: 568ms\tremaining: 582ms\n",
      "494:\tlearn: 0.1157251\ttotal: 569ms\tremaining: 580ms\n",
      "495:\tlearn: 0.1153730\ttotal: 570ms\tremaining: 579ms\n",
      "496:\tlearn: 0.1150232\ttotal: 571ms\tremaining: 578ms\n",
      "497:\tlearn: 0.1147997\ttotal: 572ms\tremaining: 577ms\n",
      "498:\tlearn: 0.1145707\ttotal: 573ms\tremaining: 575ms\n",
      "499:\tlearn: 0.1143274\ttotal: 574ms\tremaining: 574ms\n",
      "500:\tlearn: 0.1141714\ttotal: 575ms\tremaining: 573ms\n",
      "501:\tlearn: 0.1139927\ttotal: 576ms\tremaining: 572ms\n",
      "502:\tlearn: 0.1139591\ttotal: 577ms\tremaining: 570ms\n",
      "503:\tlearn: 0.1138227\ttotal: 578ms\tremaining: 569ms\n",
      "504:\tlearn: 0.1136282\ttotal: 579ms\tremaining: 568ms\n",
      "505:\tlearn: 0.1133506\ttotal: 580ms\tremaining: 567ms\n",
      "506:\tlearn: 0.1130753\ttotal: 581ms\tremaining: 565ms\n",
      "507:\tlearn: 0.1128010\ttotal: 582ms\tremaining: 564ms\n",
      "508:\tlearn: 0.1125143\ttotal: 584ms\tremaining: 563ms\n",
      "509:\tlearn: 0.1123025\ttotal: 585ms\tremaining: 562ms\n",
      "510:\tlearn: 0.1121973\ttotal: 586ms\tremaining: 561ms\n",
      "511:\tlearn: 0.1121042\ttotal: 587ms\tremaining: 559ms\n",
      "512:\tlearn: 0.1117651\ttotal: 588ms\tremaining: 558ms\n",
      "513:\tlearn: 0.1115282\ttotal: 590ms\tremaining: 558ms\n",
      "514:\tlearn: 0.1113620\ttotal: 591ms\tremaining: 557ms\n",
      "515:\tlearn: 0.1110706\ttotal: 592ms\tremaining: 555ms\n",
      "516:\tlearn: 0.1108861\ttotal: 593ms\tremaining: 554ms\n",
      "517:\tlearn: 0.1108395\ttotal: 594ms\tremaining: 553ms\n",
      "518:\tlearn: 0.1105680\ttotal: 595ms\tremaining: 551ms\n",
      "519:\tlearn: 0.1103565\ttotal: 596ms\tremaining: 550ms\n",
      "520:\tlearn: 0.1103036\ttotal: 597ms\tremaining: 549ms\n",
      "521:\tlearn: 0.1101545\ttotal: 598ms\tremaining: 548ms\n",
      "522:\tlearn: 0.1098969\ttotal: 599ms\tremaining: 547ms\n",
      "523:\tlearn: 0.1097308\ttotal: 600ms\tremaining: 545ms\n",
      "524:\tlearn: 0.1095452\ttotal: 601ms\tremaining: 544ms\n",
      "525:\tlearn: 0.1093638\ttotal: 602ms\tremaining: 543ms\n",
      "526:\tlearn: 0.1091524\ttotal: 603ms\tremaining: 541ms\n",
      "527:\tlearn: 0.1090425\ttotal: 604ms\tremaining: 540ms\n",
      "528:\tlearn: 0.1088129\ttotal: 605ms\tremaining: 539ms\n",
      "529:\tlearn: 0.1086203\ttotal: 607ms\tremaining: 538ms\n",
      "530:\tlearn: 0.1084639\ttotal: 608ms\tremaining: 537ms\n",
      "531:\tlearn: 0.1083171\ttotal: 609ms\tremaining: 536ms\n",
      "532:\tlearn: 0.1082755\ttotal: 610ms\tremaining: 534ms\n",
      "533:\tlearn: 0.1080380\ttotal: 611ms\tremaining: 533ms\n",
      "534:\tlearn: 0.1077562\ttotal: 612ms\tremaining: 532ms\n",
      "535:\tlearn: 0.1075792\ttotal: 613ms\tremaining: 531ms\n",
      "536:\tlearn: 0.1073662\ttotal: 614ms\tremaining: 530ms\n",
      "537:\tlearn: 0.1071305\ttotal: 615ms\tremaining: 528ms\n",
      "538:\tlearn: 0.1069653\ttotal: 616ms\tremaining: 527ms\n",
      "539:\tlearn: 0.1067462\ttotal: 617ms\tremaining: 526ms\n",
      "540:\tlearn: 0.1066546\ttotal: 618ms\tremaining: 524ms\n",
      "541:\tlearn: 0.1064490\ttotal: 619ms\tremaining: 523ms\n",
      "542:\tlearn: 0.1064009\ttotal: 620ms\tremaining: 522ms\n",
      "543:\tlearn: 0.1062068\ttotal: 621ms\tremaining: 521ms\n",
      "544:\tlearn: 0.1060299\ttotal: 622ms\tremaining: 520ms\n",
      "545:\tlearn: 0.1058468\ttotal: 623ms\tremaining: 518ms\n",
      "546:\tlearn: 0.1055549\ttotal: 624ms\tremaining: 517ms\n",
      "547:\tlearn: 0.1053670\ttotal: 625ms\tremaining: 516ms\n",
      "548:\tlearn: 0.1051793\ttotal: 627ms\tremaining: 515ms\n",
      "549:\tlearn: 0.1049404\ttotal: 628ms\tremaining: 514ms\n",
      "550:\tlearn: 0.1046606\ttotal: 629ms\tremaining: 512ms\n",
      "551:\tlearn: 0.1044232\ttotal: 630ms\tremaining: 511ms\n",
      "552:\tlearn: 0.1041554\ttotal: 631ms\tremaining: 510ms\n",
      "553:\tlearn: 0.1040097\ttotal: 632ms\tremaining: 509ms\n",
      "554:\tlearn: 0.1037996\ttotal: 633ms\tremaining: 507ms\n",
      "555:\tlearn: 0.1036523\ttotal: 634ms\tremaining: 506ms\n",
      "556:\tlearn: 0.1035428\ttotal: 635ms\tremaining: 505ms\n",
      "557:\tlearn: 0.1034032\ttotal: 636ms\tremaining: 504ms\n",
      "558:\tlearn: 0.1033643\ttotal: 637ms\tremaining: 502ms\n",
      "559:\tlearn: 0.1032211\ttotal: 638ms\tremaining: 501ms\n",
      "560:\tlearn: 0.1032075\ttotal: 639ms\tremaining: 500ms\n",
      "561:\tlearn: 0.1031140\ttotal: 640ms\tremaining: 499ms\n",
      "562:\tlearn: 0.1029930\ttotal: 641ms\tremaining: 497ms\n",
      "563:\tlearn: 0.1028780\ttotal: 642ms\tremaining: 496ms\n",
      "564:\tlearn: 0.1026065\ttotal: 643ms\tremaining: 495ms\n",
      "565:\tlearn: 0.1025078\ttotal: 644ms\tremaining: 494ms\n",
      "566:\tlearn: 0.1022981\ttotal: 645ms\tremaining: 493ms\n",
      "567:\tlearn: 0.1020587\ttotal: 646ms\tremaining: 491ms\n",
      "568:\tlearn: 0.1018851\ttotal: 647ms\tremaining: 490ms\n",
      "569:\tlearn: 0.1018112\ttotal: 648ms\tremaining: 489ms\n",
      "570:\tlearn: 0.1015714\ttotal: 649ms\tremaining: 488ms\n",
      "571:\tlearn: 0.1013994\ttotal: 650ms\tremaining: 486ms\n",
      "572:\tlearn: 0.1012181\ttotal: 651ms\tremaining: 485ms\n",
      "573:\tlearn: 0.1011318\ttotal: 652ms\tremaining: 484ms\n",
      "574:\tlearn: 0.1010667\ttotal: 653ms\tremaining: 483ms\n",
      "575:\tlearn: 0.1009449\ttotal: 654ms\tremaining: 481ms\n",
      "576:\tlearn: 0.1007345\ttotal: 655ms\tremaining: 480ms\n",
      "577:\tlearn: 0.1004361\ttotal: 656ms\tremaining: 479ms\n",
      "578:\tlearn: 0.1001663\ttotal: 657ms\tremaining: 478ms\n",
      "579:\tlearn: 0.1000280\ttotal: 658ms\tremaining: 477ms\n",
      "580:\tlearn: 0.0997814\ttotal: 659ms\tremaining: 475ms\n",
      "581:\tlearn: 0.0996070\ttotal: 660ms\tremaining: 474ms\n",
      "582:\tlearn: 0.0993858\ttotal: 661ms\tremaining: 473ms\n",
      "583:\tlearn: 0.0992758\ttotal: 662ms\tremaining: 472ms\n",
      "584:\tlearn: 0.0991676\ttotal: 663ms\tremaining: 470ms\n",
      "585:\tlearn: 0.0989011\ttotal: 664ms\tremaining: 469ms\n",
      "586:\tlearn: 0.0987979\ttotal: 665ms\tremaining: 468ms\n",
      "587:\tlearn: 0.0986789\ttotal: 666ms\tremaining: 467ms\n",
      "588:\tlearn: 0.0984545\ttotal: 667ms\tremaining: 466ms\n",
      "589:\tlearn: 0.0982703\ttotal: 668ms\tremaining: 464ms\n",
      "590:\tlearn: 0.0981667\ttotal: 669ms\tremaining: 463ms\n",
      "591:\tlearn: 0.0979774\ttotal: 670ms\tremaining: 462ms\n",
      "592:\tlearn: 0.0978295\ttotal: 671ms\tremaining: 461ms\n",
      "593:\tlearn: 0.0975712\ttotal: 672ms\tremaining: 459ms\n",
      "594:\tlearn: 0.0974982\ttotal: 673ms\tremaining: 458ms\n",
      "595:\tlearn: 0.0972561\ttotal: 674ms\tremaining: 457ms\n",
      "596:\tlearn: 0.0970358\ttotal: 675ms\tremaining: 456ms\n"
     ]
    },
    {
     "name": "stdout",
     "output_type": "stream",
     "text": [
      "597:\tlearn: 0.0968711\ttotal: 676ms\tremaining: 455ms\n",
      "598:\tlearn: 0.0966561\ttotal: 677ms\tremaining: 453ms\n",
      "599:\tlearn: 0.0964664\ttotal: 678ms\tremaining: 452ms\n",
      "600:\tlearn: 0.0963202\ttotal: 680ms\tremaining: 451ms\n",
      "601:\tlearn: 0.0962907\ttotal: 680ms\tremaining: 450ms\n",
      "602:\tlearn: 0.0960272\ttotal: 681ms\tremaining: 449ms\n",
      "603:\tlearn: 0.0958713\ttotal: 682ms\tremaining: 447ms\n",
      "604:\tlearn: 0.0955914\ttotal: 683ms\tremaining: 446ms\n",
      "605:\tlearn: 0.0954737\ttotal: 685ms\tremaining: 445ms\n",
      "606:\tlearn: 0.0952806\ttotal: 686ms\tremaining: 444ms\n",
      "607:\tlearn: 0.0951249\ttotal: 687ms\tremaining: 443ms\n",
      "608:\tlearn: 0.0949607\ttotal: 688ms\tremaining: 441ms\n",
      "609:\tlearn: 0.0948211\ttotal: 689ms\tremaining: 440ms\n",
      "610:\tlearn: 0.0946446\ttotal: 690ms\tremaining: 439ms\n",
      "611:\tlearn: 0.0944239\ttotal: 691ms\tremaining: 438ms\n",
      "612:\tlearn: 0.0942916\ttotal: 692ms\tremaining: 437ms\n",
      "613:\tlearn: 0.0941621\ttotal: 693ms\tremaining: 436ms\n",
      "614:\tlearn: 0.0941304\ttotal: 694ms\tremaining: 435ms\n",
      "615:\tlearn: 0.0940806\ttotal: 695ms\tremaining: 433ms\n",
      "616:\tlearn: 0.0939118\ttotal: 696ms\tremaining: 432ms\n",
      "617:\tlearn: 0.0938052\ttotal: 697ms\tremaining: 431ms\n",
      "618:\tlearn: 0.0936136\ttotal: 698ms\tremaining: 430ms\n",
      "619:\tlearn: 0.0933823\ttotal: 699ms\tremaining: 429ms\n",
      "620:\tlearn: 0.0932477\ttotal: 701ms\tremaining: 428ms\n",
      "621:\tlearn: 0.0930083\ttotal: 701ms\tremaining: 426ms\n",
      "622:\tlearn: 0.0928236\ttotal: 702ms\tremaining: 425ms\n",
      "623:\tlearn: 0.0925761\ttotal: 704ms\tremaining: 424ms\n",
      "624:\tlearn: 0.0923800\ttotal: 705ms\tremaining: 423ms\n",
      "625:\tlearn: 0.0922425\ttotal: 706ms\tremaining: 422ms\n",
      "626:\tlearn: 0.0920975\ttotal: 707ms\tremaining: 420ms\n",
      "627:\tlearn: 0.0920769\ttotal: 708ms\tremaining: 419ms\n",
      "628:\tlearn: 0.0920449\ttotal: 709ms\tremaining: 418ms\n",
      "629:\tlearn: 0.0918439\ttotal: 710ms\tremaining: 417ms\n",
      "630:\tlearn: 0.0917608\ttotal: 711ms\tremaining: 416ms\n",
      "631:\tlearn: 0.0915008\ttotal: 712ms\tremaining: 414ms\n",
      "632:\tlearn: 0.0913285\ttotal: 713ms\tremaining: 413ms\n",
      "633:\tlearn: 0.0913059\ttotal: 714ms\tremaining: 412ms\n",
      "634:\tlearn: 0.0910665\ttotal: 715ms\tremaining: 411ms\n",
      "635:\tlearn: 0.0908259\ttotal: 716ms\tremaining: 410ms\n",
      "636:\tlearn: 0.0906637\ttotal: 717ms\tremaining: 409ms\n",
      "637:\tlearn: 0.0904331\ttotal: 718ms\tremaining: 407ms\n",
      "638:\tlearn: 0.0903619\ttotal: 719ms\tremaining: 406ms\n",
      "639:\tlearn: 0.0902294\ttotal: 720ms\tremaining: 405ms\n",
      "640:\tlearn: 0.0901570\ttotal: 721ms\tremaining: 404ms\n",
      "641:\tlearn: 0.0900068\ttotal: 722ms\tremaining: 403ms\n",
      "642:\tlearn: 0.0898906\ttotal: 723ms\tremaining: 401ms\n",
      "643:\tlearn: 0.0896863\ttotal: 724ms\tremaining: 400ms\n",
      "644:\tlearn: 0.0895611\ttotal: 725ms\tremaining: 399ms\n",
      "645:\tlearn: 0.0893923\ttotal: 726ms\tremaining: 398ms\n",
      "646:\tlearn: 0.0891824\ttotal: 728ms\tremaining: 397ms\n",
      "647:\tlearn: 0.0890172\ttotal: 729ms\tremaining: 396ms\n",
      "648:\tlearn: 0.0888333\ttotal: 730ms\tremaining: 395ms\n",
      "649:\tlearn: 0.0886938\ttotal: 731ms\tremaining: 394ms\n",
      "650:\tlearn: 0.0885106\ttotal: 732ms\tremaining: 392ms\n",
      "651:\tlearn: 0.0883532\ttotal: 733ms\tremaining: 391ms\n",
      "652:\tlearn: 0.0880925\ttotal: 734ms\tremaining: 390ms\n",
      "653:\tlearn: 0.0880607\ttotal: 735ms\tremaining: 389ms\n",
      "654:\tlearn: 0.0879414\ttotal: 736ms\tremaining: 388ms\n",
      "655:\tlearn: 0.0878654\ttotal: 737ms\tremaining: 386ms\n",
      "656:\tlearn: 0.0877896\ttotal: 738ms\tremaining: 385ms\n",
      "657:\tlearn: 0.0875853\ttotal: 739ms\tremaining: 384ms\n",
      "658:\tlearn: 0.0873643\ttotal: 740ms\tremaining: 383ms\n",
      "659:\tlearn: 0.0871658\ttotal: 741ms\tremaining: 382ms\n",
      "660:\tlearn: 0.0871200\ttotal: 742ms\tremaining: 381ms\n",
      "661:\tlearn: 0.0869289\ttotal: 743ms\tremaining: 379ms\n",
      "662:\tlearn: 0.0867086\ttotal: 744ms\tremaining: 378ms\n",
      "663:\tlearn: 0.0865477\ttotal: 745ms\tremaining: 377ms\n",
      "664:\tlearn: 0.0863562\ttotal: 746ms\tremaining: 376ms\n",
      "665:\tlearn: 0.0862062\ttotal: 747ms\tremaining: 375ms\n",
      "666:\tlearn: 0.0860151\ttotal: 748ms\tremaining: 373ms\n",
      "667:\tlearn: 0.0858310\ttotal: 749ms\tremaining: 372ms\n",
      "668:\tlearn: 0.0857182\ttotal: 750ms\tremaining: 371ms\n",
      "669:\tlearn: 0.0854600\ttotal: 751ms\tremaining: 370ms\n",
      "670:\tlearn: 0.0852881\ttotal: 752ms\tremaining: 369ms\n",
      "671:\tlearn: 0.0851343\ttotal: 753ms\tremaining: 368ms\n",
      "672:\tlearn: 0.0850321\ttotal: 754ms\tremaining: 366ms\n",
      "673:\tlearn: 0.0848681\ttotal: 755ms\tremaining: 365ms\n",
      "674:\tlearn: 0.0846954\ttotal: 756ms\tremaining: 364ms\n",
      "675:\tlearn: 0.0846183\ttotal: 757ms\tremaining: 363ms\n",
      "676:\tlearn: 0.0844207\ttotal: 758ms\tremaining: 362ms\n",
      "677:\tlearn: 0.0843994\ttotal: 759ms\tremaining: 361ms\n",
      "678:\tlearn: 0.0841943\ttotal: 760ms\tremaining: 359ms\n",
      "679:\tlearn: 0.0841363\ttotal: 762ms\tremaining: 358ms\n",
      "680:\tlearn: 0.0838833\ttotal: 763ms\tremaining: 357ms\n",
      "681:\tlearn: 0.0837623\ttotal: 764ms\tremaining: 356ms\n",
      "682:\tlearn: 0.0835484\ttotal: 765ms\tremaining: 355ms\n",
      "683:\tlearn: 0.0833089\ttotal: 766ms\tremaining: 354ms\n",
      "684:\tlearn: 0.0832352\ttotal: 767ms\tremaining: 353ms\n",
      "685:\tlearn: 0.0831114\ttotal: 768ms\tremaining: 351ms\n",
      "686:\tlearn: 0.0829385\ttotal: 769ms\tremaining: 350ms\n",
      "687:\tlearn: 0.0827736\ttotal: 770ms\tremaining: 349ms\n",
      "688:\tlearn: 0.0825885\ttotal: 771ms\tremaining: 348ms\n",
      "689:\tlearn: 0.0824303\ttotal: 772ms\tremaining: 347ms\n",
      "690:\tlearn: 0.0823023\ttotal: 773ms\tremaining: 346ms\n",
      "691:\tlearn: 0.0821117\ttotal: 774ms\tremaining: 344ms\n",
      "692:\tlearn: 0.0819742\ttotal: 775ms\tremaining: 343ms\n",
      "693:\tlearn: 0.0817855\ttotal: 776ms\tremaining: 342ms\n",
      "694:\tlearn: 0.0816769\ttotal: 777ms\tremaining: 341ms\n",
      "695:\tlearn: 0.0814868\ttotal: 778ms\tremaining: 340ms\n",
      "696:\tlearn: 0.0813738\ttotal: 779ms\tremaining: 339ms\n",
      "697:\tlearn: 0.0812594\ttotal: 780ms\tremaining: 337ms\n",
      "698:\tlearn: 0.0810970\ttotal: 781ms\tremaining: 336ms\n",
      "699:\tlearn: 0.0809313\ttotal: 782ms\tremaining: 335ms\n",
      "700:\tlearn: 0.0807689\ttotal: 783ms\tremaining: 334ms\n",
      "701:\tlearn: 0.0806113\ttotal: 784ms\tremaining: 333ms\n",
      "702:\tlearn: 0.0805476\ttotal: 785ms\tremaining: 332ms\n",
      "703:\tlearn: 0.0804581\ttotal: 786ms\tremaining: 331ms\n",
      "704:\tlearn: 0.0803671\ttotal: 787ms\tremaining: 329ms\n",
      "705:\tlearn: 0.0802613\ttotal: 788ms\tremaining: 328ms\n",
      "706:\tlearn: 0.0800931\ttotal: 789ms\tremaining: 327ms\n",
      "707:\tlearn: 0.0800530\ttotal: 790ms\tremaining: 326ms\n",
      "708:\tlearn: 0.0799063\ttotal: 791ms\tremaining: 325ms\n",
      "709:\tlearn: 0.0797437\ttotal: 792ms\tremaining: 324ms\n",
      "710:\tlearn: 0.0795889\ttotal: 793ms\tremaining: 322ms\n",
      "711:\tlearn: 0.0793738\ttotal: 794ms\tremaining: 321ms\n",
      "712:\tlearn: 0.0792201\ttotal: 795ms\tremaining: 320ms\n",
      "713:\tlearn: 0.0790848\ttotal: 796ms\tremaining: 319ms\n",
      "714:\tlearn: 0.0790244\ttotal: 797ms\tremaining: 318ms\n",
      "715:\tlearn: 0.0789282\ttotal: 798ms\tremaining: 317ms\n",
      "716:\tlearn: 0.0787882\ttotal: 799ms\tremaining: 316ms\n",
      "717:\tlearn: 0.0786512\ttotal: 800ms\tremaining: 314ms\n",
      "718:\tlearn: 0.0785581\ttotal: 802ms\tremaining: 313ms\n",
      "719:\tlearn: 0.0784344\ttotal: 803ms\tremaining: 312ms\n",
      "720:\tlearn: 0.0783964\ttotal: 804ms\tremaining: 311ms\n",
      "721:\tlearn: 0.0782740\ttotal: 805ms\tremaining: 310ms\n",
      "722:\tlearn: 0.0782306\ttotal: 806ms\tremaining: 309ms\n",
      "723:\tlearn: 0.0780423\ttotal: 807ms\tremaining: 307ms\n",
      "724:\tlearn: 0.0779414\ttotal: 807ms\tremaining: 306ms\n",
      "725:\tlearn: 0.0778623\ttotal: 808ms\tremaining: 305ms\n",
      "726:\tlearn: 0.0776871\ttotal: 809ms\tremaining: 304ms\n",
      "727:\tlearn: 0.0774850\ttotal: 810ms\tremaining: 303ms\n"
     ]
    },
    {
     "name": "stdout",
     "output_type": "stream",
     "text": [
      "728:\tlearn: 0.0773035\ttotal: 814ms\tremaining: 302ms\n",
      "729:\tlearn: 0.0772427\ttotal: 815ms\tremaining: 301ms\n",
      "730:\tlearn: 0.0772091\ttotal: 816ms\tremaining: 300ms\n",
      "731:\tlearn: 0.0771317\ttotal: 817ms\tremaining: 299ms\n",
      "732:\tlearn: 0.0769762\ttotal: 818ms\tremaining: 298ms\n",
      "733:\tlearn: 0.0768015\ttotal: 819ms\tremaining: 297ms\n",
      "734:\tlearn: 0.0767426\ttotal: 820ms\tremaining: 296ms\n",
      "735:\tlearn: 0.0766698\ttotal: 821ms\tremaining: 294ms\n",
      "736:\tlearn: 0.0765472\ttotal: 822ms\tremaining: 293ms\n",
      "737:\tlearn: 0.0764812\ttotal: 823ms\tremaining: 292ms\n",
      "738:\tlearn: 0.0763849\ttotal: 824ms\tremaining: 291ms\n",
      "739:\tlearn: 0.0761859\ttotal: 825ms\tremaining: 290ms\n",
      "740:\tlearn: 0.0760874\ttotal: 826ms\tremaining: 289ms\n",
      "741:\tlearn: 0.0760040\ttotal: 827ms\tremaining: 288ms\n",
      "742:\tlearn: 0.0759742\ttotal: 828ms\tremaining: 286ms\n",
      "743:\tlearn: 0.0758026\ttotal: 829ms\tremaining: 285ms\n",
      "744:\tlearn: 0.0756685\ttotal: 830ms\tremaining: 284ms\n",
      "745:\tlearn: 0.0756348\ttotal: 831ms\tremaining: 283ms\n",
      "746:\tlearn: 0.0754551\ttotal: 832ms\tremaining: 282ms\n",
      "747:\tlearn: 0.0753312\ttotal: 833ms\tremaining: 281ms\n",
      "748:\tlearn: 0.0752384\ttotal: 834ms\tremaining: 279ms\n",
      "749:\tlearn: 0.0751357\ttotal: 835ms\tremaining: 278ms\n",
      "750:\tlearn: 0.0750014\ttotal: 836ms\tremaining: 277ms\n",
      "751:\tlearn: 0.0749208\ttotal: 837ms\tremaining: 276ms\n",
      "752:\tlearn: 0.0747617\ttotal: 838ms\tremaining: 275ms\n",
      "753:\tlearn: 0.0746395\ttotal: 839ms\tremaining: 274ms\n",
      "754:\tlearn: 0.0743811\ttotal: 840ms\tremaining: 273ms\n",
      "755:\tlearn: 0.0742614\ttotal: 841ms\tremaining: 271ms\n",
      "756:\tlearn: 0.0741155\ttotal: 842ms\tremaining: 270ms\n",
      "757:\tlearn: 0.0740265\ttotal: 843ms\tremaining: 269ms\n",
      "758:\tlearn: 0.0738529\ttotal: 844ms\tremaining: 268ms\n",
      "759:\tlearn: 0.0736885\ttotal: 845ms\tremaining: 267ms\n",
      "760:\tlearn: 0.0735794\ttotal: 846ms\tremaining: 266ms\n",
      "761:\tlearn: 0.0734061\ttotal: 847ms\tremaining: 265ms\n",
      "762:\tlearn: 0.0732548\ttotal: 848ms\tremaining: 263ms\n",
      "763:\tlearn: 0.0732044\ttotal: 849ms\tremaining: 262ms\n",
      "764:\tlearn: 0.0730539\ttotal: 850ms\tremaining: 261ms\n",
      "765:\tlearn: 0.0729028\ttotal: 851ms\tremaining: 260ms\n",
      "766:\tlearn: 0.0728587\ttotal: 852ms\tremaining: 259ms\n",
      "767:\tlearn: 0.0727906\ttotal: 853ms\tremaining: 258ms\n",
      "768:\tlearn: 0.0726763\ttotal: 854ms\tremaining: 257ms\n",
      "769:\tlearn: 0.0725580\ttotal: 855ms\tremaining: 255ms\n",
      "770:\tlearn: 0.0724949\ttotal: 856ms\tremaining: 254ms\n",
      "771:\tlearn: 0.0723315\ttotal: 857ms\tremaining: 253ms\n",
      "772:\tlearn: 0.0722392\ttotal: 858ms\tremaining: 252ms\n",
      "773:\tlearn: 0.0721993\ttotal: 859ms\tremaining: 251ms\n",
      "774:\tlearn: 0.0720196\ttotal: 860ms\tremaining: 250ms\n",
      "775:\tlearn: 0.0719215\ttotal: 861ms\tremaining: 249ms\n",
      "776:\tlearn: 0.0717954\ttotal: 862ms\tremaining: 248ms\n",
      "777:\tlearn: 0.0716452\ttotal: 863ms\tremaining: 246ms\n",
      "778:\tlearn: 0.0715291\ttotal: 864ms\tremaining: 245ms\n",
      "779:\tlearn: 0.0714389\ttotal: 865ms\tremaining: 244ms\n",
      "780:\tlearn: 0.0712800\ttotal: 867ms\tremaining: 243ms\n",
      "781:\tlearn: 0.0712430\ttotal: 868ms\tremaining: 242ms\n",
      "782:\tlearn: 0.0711511\ttotal: 869ms\tremaining: 241ms\n",
      "783:\tlearn: 0.0710219\ttotal: 870ms\tremaining: 240ms\n",
      "784:\tlearn: 0.0708934\ttotal: 871ms\tremaining: 238ms\n",
      "785:\tlearn: 0.0707100\ttotal: 871ms\tremaining: 237ms\n",
      "786:\tlearn: 0.0705447\ttotal: 872ms\tremaining: 236ms\n",
      "787:\tlearn: 0.0704011\ttotal: 873ms\tremaining: 235ms\n",
      "788:\tlearn: 0.0702504\ttotal: 874ms\tremaining: 234ms\n",
      "789:\tlearn: 0.0701433\ttotal: 875ms\tremaining: 233ms\n",
      "790:\tlearn: 0.0699964\ttotal: 876ms\tremaining: 232ms\n",
      "791:\tlearn: 0.0698380\ttotal: 877ms\tremaining: 230ms\n",
      "792:\tlearn: 0.0697052\ttotal: 878ms\tremaining: 229ms\n",
      "793:\tlearn: 0.0695221\ttotal: 879ms\tremaining: 228ms\n",
      "794:\tlearn: 0.0694835\ttotal: 880ms\tremaining: 227ms\n",
      "795:\tlearn: 0.0694458\ttotal: 882ms\tremaining: 226ms\n",
      "796:\tlearn: 0.0694010\ttotal: 883ms\tremaining: 225ms\n",
      "797:\tlearn: 0.0693086\ttotal: 884ms\tremaining: 224ms\n",
      "798:\tlearn: 0.0691629\ttotal: 885ms\tremaining: 223ms\n",
      "799:\tlearn: 0.0690196\ttotal: 886ms\tremaining: 221ms\n",
      "800:\tlearn: 0.0688594\ttotal: 887ms\tremaining: 220ms\n",
      "801:\tlearn: 0.0687133\ttotal: 888ms\tremaining: 219ms\n",
      "802:\tlearn: 0.0686042\ttotal: 889ms\tremaining: 218ms\n",
      "803:\tlearn: 0.0684929\ttotal: 890ms\tremaining: 217ms\n",
      "804:\tlearn: 0.0683725\ttotal: 891ms\tremaining: 216ms\n",
      "805:\tlearn: 0.0682451\ttotal: 892ms\tremaining: 215ms\n",
      "806:\tlearn: 0.0682117\ttotal: 893ms\tremaining: 214ms\n",
      "807:\tlearn: 0.0681562\ttotal: 894ms\tremaining: 213ms\n",
      "808:\tlearn: 0.0680074\ttotal: 895ms\tremaining: 211ms\n",
      "809:\tlearn: 0.0679077\ttotal: 896ms\tremaining: 210ms\n",
      "810:\tlearn: 0.0678761\ttotal: 897ms\tremaining: 209ms\n",
      "811:\tlearn: 0.0677906\ttotal: 898ms\tremaining: 208ms\n",
      "812:\tlearn: 0.0677091\ttotal: 899ms\tremaining: 207ms\n",
      "813:\tlearn: 0.0675893\ttotal: 900ms\tremaining: 206ms\n",
      "814:\tlearn: 0.0674373\ttotal: 901ms\tremaining: 205ms\n",
      "815:\tlearn: 0.0673520\ttotal: 902ms\tremaining: 203ms\n",
      "816:\tlearn: 0.0673420\ttotal: 903ms\tremaining: 202ms\n",
      "817:\tlearn: 0.0672289\ttotal: 904ms\tremaining: 201ms\n",
      "818:\tlearn: 0.0670866\ttotal: 905ms\tremaining: 200ms\n",
      "819:\tlearn: 0.0669772\ttotal: 906ms\tremaining: 199ms\n",
      "820:\tlearn: 0.0669537\ttotal: 907ms\tremaining: 198ms\n",
      "821:\tlearn: 0.0668336\ttotal: 908ms\tremaining: 197ms\n",
      "822:\tlearn: 0.0668194\ttotal: 909ms\tremaining: 195ms\n",
      "823:\tlearn: 0.0667272\ttotal: 910ms\tremaining: 194ms\n",
      "824:\tlearn: 0.0666708\ttotal: 911ms\tremaining: 193ms\n",
      "825:\tlearn: 0.0666400\ttotal: 912ms\tremaining: 192ms\n",
      "826:\tlearn: 0.0665505\ttotal: 913ms\tremaining: 191ms\n",
      "827:\tlearn: 0.0663883\ttotal: 914ms\tremaining: 190ms\n",
      "828:\tlearn: 0.0662641\ttotal: 915ms\tremaining: 189ms\n",
      "829:\tlearn: 0.0662203\ttotal: 916ms\tremaining: 188ms\n",
      "830:\tlearn: 0.0661190\ttotal: 917ms\tremaining: 186ms\n",
      "831:\tlearn: 0.0660054\ttotal: 918ms\tremaining: 185ms\n",
      "832:\tlearn: 0.0659964\ttotal: 919ms\tremaining: 184ms\n",
      "833:\tlearn: 0.0659328\ttotal: 920ms\tremaining: 183ms\n",
      "834:\tlearn: 0.0658020\ttotal: 921ms\tremaining: 182ms\n",
      "835:\tlearn: 0.0657399\ttotal: 922ms\tremaining: 181ms\n",
      "836:\tlearn: 0.0657167\ttotal: 923ms\tremaining: 180ms\n",
      "837:\tlearn: 0.0656121\ttotal: 924ms\tremaining: 179ms\n",
      "838:\tlearn: 0.0655312\ttotal: 926ms\tremaining: 178ms\n",
      "839:\tlearn: 0.0654175\ttotal: 927ms\tremaining: 177ms\n",
      "840:\tlearn: 0.0652515\ttotal: 928ms\tremaining: 175ms\n",
      "841:\tlearn: 0.0651962\ttotal: 929ms\tremaining: 174ms\n",
      "842:\tlearn: 0.0650738\ttotal: 930ms\tremaining: 173ms\n",
      "843:\tlearn: 0.0650305\ttotal: 931ms\tremaining: 172ms\n",
      "844:\tlearn: 0.0649680\ttotal: 932ms\tremaining: 171ms\n",
      "845:\tlearn: 0.0649189\ttotal: 933ms\tremaining: 170ms\n",
      "846:\tlearn: 0.0648223\ttotal: 934ms\tremaining: 169ms\n",
      "847:\tlearn: 0.0648000\ttotal: 935ms\tremaining: 168ms\n",
      "848:\tlearn: 0.0647128\ttotal: 936ms\tremaining: 167ms\n",
      "849:\tlearn: 0.0646633\ttotal: 937ms\tremaining: 165ms\n",
      "850:\tlearn: 0.0646276\ttotal: 938ms\tremaining: 164ms\n",
      "851:\tlearn: 0.0646017\ttotal: 939ms\tremaining: 163ms\n",
      "852:\tlearn: 0.0645650\ttotal: 941ms\tremaining: 162ms\n",
      "853:\tlearn: 0.0644949\ttotal: 942ms\tremaining: 161ms\n",
      "854:\tlearn: 0.0644709\ttotal: 943ms\tremaining: 160ms\n",
      "855:\tlearn: 0.0643034\ttotal: 944ms\tremaining: 159ms\n",
      "856:\tlearn: 0.0642383\ttotal: 945ms\tremaining: 158ms\n",
      "857:\tlearn: 0.0641755\ttotal: 946ms\tremaining: 157ms\n"
     ]
    },
    {
     "name": "stdout",
     "output_type": "stream",
     "text": [
      "858:\tlearn: 0.0640184\ttotal: 948ms\tremaining: 156ms\n",
      "859:\tlearn: 0.0640000\ttotal: 949ms\tremaining: 154ms\n",
      "860:\tlearn: 0.0639069\ttotal: 950ms\tremaining: 153ms\n",
      "861:\tlearn: 0.0638821\ttotal: 951ms\tremaining: 152ms\n",
      "862:\tlearn: 0.0638579\ttotal: 952ms\tremaining: 151ms\n",
      "863:\tlearn: 0.0637418\ttotal: 953ms\tremaining: 150ms\n",
      "864:\tlearn: 0.0637286\ttotal: 954ms\tremaining: 149ms\n",
      "865:\tlearn: 0.0636325\ttotal: 955ms\tremaining: 148ms\n",
      "866:\tlearn: 0.0636240\ttotal: 957ms\tremaining: 147ms\n",
      "867:\tlearn: 0.0635643\ttotal: 958ms\tremaining: 146ms\n",
      "868:\tlearn: 0.0634295\ttotal: 959ms\tremaining: 145ms\n",
      "869:\tlearn: 0.0634130\ttotal: 960ms\tremaining: 143ms\n",
      "870:\tlearn: 0.0633224\ttotal: 961ms\tremaining: 142ms\n",
      "871:\tlearn: 0.0632470\ttotal: 962ms\tremaining: 141ms\n",
      "872:\tlearn: 0.0631326\ttotal: 963ms\tremaining: 140ms\n",
      "873:\tlearn: 0.0629887\ttotal: 964ms\tremaining: 139ms\n",
      "874:\tlearn: 0.0629160\ttotal: 965ms\tremaining: 138ms\n",
      "875:\tlearn: 0.0627938\ttotal: 966ms\tremaining: 137ms\n",
      "876:\tlearn: 0.0626582\ttotal: 967ms\tremaining: 136ms\n",
      "877:\tlearn: 0.0625790\ttotal: 968ms\tremaining: 135ms\n",
      "878:\tlearn: 0.0625331\ttotal: 970ms\tremaining: 133ms\n",
      "879:\tlearn: 0.0625058\ttotal: 971ms\tremaining: 132ms\n",
      "880:\tlearn: 0.0623947\ttotal: 972ms\tremaining: 131ms\n",
      "881:\tlearn: 0.0622508\ttotal: 973ms\tremaining: 130ms\n",
      "882:\tlearn: 0.0622040\ttotal: 974ms\tremaining: 129ms\n",
      "883:\tlearn: 0.0621325\ttotal: 975ms\tremaining: 128ms\n",
      "884:\tlearn: 0.0620754\ttotal: 976ms\tremaining: 127ms\n",
      "885:\tlearn: 0.0619344\ttotal: 977ms\tremaining: 126ms\n",
      "886:\tlearn: 0.0619092\ttotal: 978ms\tremaining: 125ms\n",
      "887:\tlearn: 0.0618239\ttotal: 979ms\tremaining: 123ms\n",
      "888:\tlearn: 0.0617375\ttotal: 980ms\tremaining: 122ms\n",
      "889:\tlearn: 0.0616471\ttotal: 981ms\tremaining: 121ms\n",
      "890:\tlearn: 0.0615646\ttotal: 982ms\tremaining: 120ms\n",
      "891:\tlearn: 0.0614335\ttotal: 983ms\tremaining: 119ms\n",
      "892:\tlearn: 0.0613128\ttotal: 984ms\tremaining: 118ms\n",
      "893:\tlearn: 0.0612679\ttotal: 985ms\tremaining: 117ms\n",
      "894:\tlearn: 0.0611226\ttotal: 986ms\tremaining: 116ms\n",
      "895:\tlearn: 0.0609656\ttotal: 987ms\tremaining: 115ms\n",
      "896:\tlearn: 0.0608539\ttotal: 988ms\tremaining: 113ms\n",
      "897:\tlearn: 0.0607437\ttotal: 989ms\tremaining: 112ms\n",
      "898:\tlearn: 0.0607011\ttotal: 990ms\tremaining: 111ms\n",
      "899:\tlearn: 0.0606799\ttotal: 991ms\tremaining: 110ms\n",
      "900:\tlearn: 0.0606535\ttotal: 992ms\tremaining: 109ms\n",
      "901:\tlearn: 0.0605169\ttotal: 993ms\tremaining: 108ms\n",
      "902:\tlearn: 0.0603827\ttotal: 994ms\tremaining: 107ms\n",
      "903:\tlearn: 0.0603368\ttotal: 995ms\tremaining: 106ms\n",
      "904:\tlearn: 0.0603023\ttotal: 996ms\tremaining: 105ms\n",
      "905:\tlearn: 0.0602259\ttotal: 997ms\tremaining: 103ms\n",
      "906:\tlearn: 0.0601195\ttotal: 998ms\tremaining: 102ms\n",
      "907:\tlearn: 0.0600055\ttotal: 999ms\tremaining: 101ms\n",
      "908:\tlearn: 0.0599238\ttotal: 1s\tremaining: 100ms\n",
      "909:\tlearn: 0.0598396\ttotal: 1s\tremaining: 99.1ms\n",
      "910:\tlearn: 0.0597717\ttotal: 1s\tremaining: 98ms\n",
      "911:\tlearn: 0.0596616\ttotal: 1s\tremaining: 96.8ms\n",
      "912:\tlearn: 0.0596386\ttotal: 1s\tremaining: 95.7ms\n",
      "913:\tlearn: 0.0595918\ttotal: 1.01s\tremaining: 94.7ms\n",
      "914:\tlearn: 0.0594212\ttotal: 1.01s\tremaining: 93.5ms\n",
      "915:\tlearn: 0.0593271\ttotal: 1.01s\tremaining: 92.4ms\n",
      "916:\tlearn: 0.0592226\ttotal: 1.01s\tremaining: 91.3ms\n",
      "917:\tlearn: 0.0591911\ttotal: 1.01s\tremaining: 90.2ms\n",
      "918:\tlearn: 0.0591502\ttotal: 1.01s\tremaining: 89.2ms\n",
      "919:\tlearn: 0.0591246\ttotal: 1.01s\tremaining: 88.1ms\n",
      "920:\tlearn: 0.0589893\ttotal: 1.01s\tremaining: 86.9ms\n",
      "921:\tlearn: 0.0589604\ttotal: 1.01s\tremaining: 85.8ms\n",
      "922:\tlearn: 0.0589403\ttotal: 1.01s\tremaining: 84.7ms\n",
      "923:\tlearn: 0.0588038\ttotal: 1.02s\tremaining: 83.6ms\n",
      "924:\tlearn: 0.0587967\ttotal: 1.02s\tremaining: 82.5ms\n",
      "925:\tlearn: 0.0587707\ttotal: 1.02s\tremaining: 81.4ms\n",
      "926:\tlearn: 0.0587551\ttotal: 1.02s\tremaining: 80.3ms\n",
      "927:\tlearn: 0.0586273\ttotal: 1.02s\tremaining: 79.2ms\n",
      "928:\tlearn: 0.0585565\ttotal: 1.02s\tremaining: 78.1ms\n",
      "929:\tlearn: 0.0584535\ttotal: 1.02s\tremaining: 77ms\n",
      "930:\tlearn: 0.0583568\ttotal: 1.02s\tremaining: 75.8ms\n",
      "931:\tlearn: 0.0583395\ttotal: 1.02s\tremaining: 74.7ms\n",
      "932:\tlearn: 0.0582301\ttotal: 1.02s\tremaining: 73.6ms\n",
      "933:\tlearn: 0.0581902\ttotal: 1.03s\tremaining: 72.5ms\n",
      "934:\tlearn: 0.0581636\ttotal: 1.03s\tremaining: 71.4ms\n",
      "935:\tlearn: 0.0581423\ttotal: 1.03s\tremaining: 70.3ms\n",
      "936:\tlearn: 0.0581073\ttotal: 1.03s\tremaining: 69.2ms\n",
      "937:\tlearn: 0.0580706\ttotal: 1.03s\tremaining: 68.1ms\n",
      "938:\tlearn: 0.0580178\ttotal: 1.03s\tremaining: 67ms\n",
      "939:\tlearn: 0.0580021\ttotal: 1.03s\tremaining: 65.9ms\n",
      "940:\tlearn: 0.0578509\ttotal: 1.03s\tremaining: 64.8ms\n",
      "941:\tlearn: 0.0578026\ttotal: 1.03s\tremaining: 63.7ms\n",
      "942:\tlearn: 0.0577842\ttotal: 1.03s\tremaining: 62.6ms\n",
      "943:\tlearn: 0.0577637\ttotal: 1.04s\tremaining: 61.5ms\n",
      "944:\tlearn: 0.0576431\ttotal: 1.04s\tremaining: 60.4ms\n",
      "945:\tlearn: 0.0575280\ttotal: 1.04s\tremaining: 59.3ms\n",
      "946:\tlearn: 0.0574298\ttotal: 1.04s\tremaining: 58.2ms\n",
      "947:\tlearn: 0.0573829\ttotal: 1.04s\tremaining: 57.1ms\n",
      "948:\tlearn: 0.0572703\ttotal: 1.04s\tremaining: 56ms\n",
      "949:\tlearn: 0.0572539\ttotal: 1.04s\tremaining: 54.9ms\n",
      "950:\tlearn: 0.0571665\ttotal: 1.04s\tremaining: 53.8ms\n",
      "951:\tlearn: 0.0570564\ttotal: 1.04s\tremaining: 52.7ms\n",
      "952:\tlearn: 0.0569989\ttotal: 1.05s\tremaining: 51.6ms\n",
      "953:\tlearn: 0.0569207\ttotal: 1.05s\tremaining: 50.5ms\n",
      "954:\tlearn: 0.0568084\ttotal: 1.05s\tremaining: 49.4ms\n",
      "955:\tlearn: 0.0567093\ttotal: 1.05s\tremaining: 48.3ms\n",
      "956:\tlearn: 0.0565781\ttotal: 1.05s\tremaining: 47.2ms\n",
      "957:\tlearn: 0.0565305\ttotal: 1.05s\tremaining: 46.1ms\n",
      "958:\tlearn: 0.0565179\ttotal: 1.05s\tremaining: 45ms\n",
      "959:\tlearn: 0.0564385\ttotal: 1.05s\tremaining: 43.9ms\n",
      "960:\tlearn: 0.0563644\ttotal: 1.05s\tremaining: 42.8ms\n",
      "961:\tlearn: 0.0563529\ttotal: 1.05s\tremaining: 41.7ms\n",
      "962:\tlearn: 0.0563382\ttotal: 1.06s\tremaining: 40.6ms\n",
      "963:\tlearn: 0.0563236\ttotal: 1.06s\tremaining: 39.5ms\n",
      "964:\tlearn: 0.0561974\ttotal: 1.06s\tremaining: 38.4ms\n",
      "965:\tlearn: 0.0560396\ttotal: 1.06s\tremaining: 37.3ms\n",
      "966:\tlearn: 0.0560329\ttotal: 1.06s\tremaining: 36.2ms\n",
      "967:\tlearn: 0.0560196\ttotal: 1.06s\tremaining: 35.1ms\n",
      "968:\tlearn: 0.0558548\ttotal: 1.06s\tremaining: 34ms\n",
      "969:\tlearn: 0.0557785\ttotal: 1.06s\tremaining: 32.9ms\n",
      "970:\tlearn: 0.0556711\ttotal: 1.06s\tremaining: 31.8ms\n",
      "971:\tlearn: 0.0555262\ttotal: 1.07s\tremaining: 30.7ms\n",
      "972:\tlearn: 0.0555140\ttotal: 1.07s\tremaining: 29.6ms\n",
      "973:\tlearn: 0.0554163\ttotal: 1.07s\tremaining: 28.5ms\n",
      "974:\tlearn: 0.0553736\ttotal: 1.07s\tremaining: 27.4ms\n",
      "975:\tlearn: 0.0553422\ttotal: 1.07s\tremaining: 26.3ms\n",
      "976:\tlearn: 0.0552256\ttotal: 1.07s\tremaining: 25.2ms\n",
      "977:\tlearn: 0.0551931\ttotal: 1.07s\tremaining: 24.1ms\n",
      "978:\tlearn: 0.0551032\ttotal: 1.07s\tremaining: 23ms\n",
      "979:\tlearn: 0.0550033\ttotal: 1.07s\tremaining: 21.9ms\n",
      "980:\tlearn: 0.0548870\ttotal: 1.07s\tremaining: 20.8ms\n",
      "981:\tlearn: 0.0547919\ttotal: 1.08s\tremaining: 19.7ms\n",
      "982:\tlearn: 0.0547053\ttotal: 1.08s\tremaining: 18.6ms\n",
      "983:\tlearn: 0.0546440\ttotal: 1.08s\tremaining: 17.5ms\n",
      "984:\tlearn: 0.0546303\ttotal: 1.08s\tremaining: 16.4ms\n",
      "985:\tlearn: 0.0545683\ttotal: 1.08s\tremaining: 15.3ms\n"
     ]
    },
    {
     "name": "stdout",
     "output_type": "stream",
     "text": [
      "986:\tlearn: 0.0544900\ttotal: 1.08s\tremaining: 14.3ms\n",
      "987:\tlearn: 0.0544098\ttotal: 1.08s\tremaining: 13.2ms\n",
      "988:\tlearn: 0.0543813\ttotal: 1.08s\tremaining: 12.1ms\n",
      "989:\tlearn: 0.0543549\ttotal: 1.09s\tremaining: 11ms\n",
      "990:\tlearn: 0.0543411\ttotal: 1.09s\tremaining: 9.88ms\n",
      "991:\tlearn: 0.0543150\ttotal: 1.09s\tremaining: 8.78ms\n",
      "992:\tlearn: 0.0542080\ttotal: 1.09s\tremaining: 7.68ms\n",
      "993:\tlearn: 0.0541902\ttotal: 1.09s\tremaining: 6.59ms\n",
      "994:\tlearn: 0.0541625\ttotal: 1.09s\tremaining: 5.49ms\n",
      "995:\tlearn: 0.0541527\ttotal: 1.09s\tremaining: 4.39ms\n",
      "996:\tlearn: 0.0541478\ttotal: 1.09s\tremaining: 3.29ms\n",
      "997:\tlearn: 0.0541373\ttotal: 1.09s\tremaining: 2.19ms\n",
      "998:\tlearn: 0.0540427\ttotal: 1.1s\tremaining: 1.1ms\n",
      "999:\tlearn: 0.0539240\ttotal: 1.1s\tremaining: 0us\n"
     ]
    },
    {
     "data": {
      "text/plain": [
       "<catboost.core.CatBoostRegressor at 0x7f91148c4a10>"
      ]
     },
     "execution_count": 9,
     "metadata": {},
     "output_type": "execute_result"
    }
   ],
   "source": [
    "#Train the Model \n",
    "prior_model = ctb.CatBoostRegressor()\n",
    "prior_model.fit(X_train,Y_train)"
   ]
  },
  {
   "cell_type": "code",
   "execution_count": 10,
   "id": "c775fd81",
   "metadata": {
    "execution": {
     "iopub.execute_input": "2022-01-15T10:32:02.597462Z",
     "iopub.status.busy": "2022-01-15T10:32:02.596763Z",
     "iopub.status.idle": "2022-01-15T10:32:02.610527Z",
     "shell.execute_reply": "2022-01-15T10:32:02.609943Z"
    },
    "papermill": {
     "duration": 0.048996,
     "end_time": "2022-01-15T10:32:02.610664",
     "exception": false,
     "start_time": "2022-01-15T10:32:02.561668",
     "status": "completed"
    },
    "tags": []
   },
   "outputs": [
    {
     "data": {
      "application/scrapbook.scrap.json+json": {
       "data": 0.12492268248599918,
       "encoder": "json",
       "name": "Prior Model MSE",
       "version": 1
      }
     },
     "metadata": {
      "scrapbook": {
       "data": true,
       "display": false,
       "name": "Prior Model MSE"
      }
     },
     "output_type": "display_data"
    },
    {
     "data": {
      "application/scrapbook.scrap.json+json": {
       "data": 0.12813285021350093,
       "encoder": "json",
       "name": "ABC Pre-generator MSE",
       "version": 1
      }
     },
     "metadata": {
      "scrapbook": {
       "data": true,
       "display": false,
       "name": "ABC Pre-generator MSE"
      }
     },
     "output_type": "display_data"
    }
   ],
   "source": [
    "y_pred = prior_model.predict(X_test)\n",
    "y_abc = y_pred + np.random.normal(0,variance, y_pred.shape)\n",
    "mse = mean_squared_error(y_pred,Y_test)\n",
    "sb.glue(\"Prior Model MSE\",mse)\n",
    "mse = mean_squared_error(y_abc,Y_test)\n",
    "sb.glue(\"ABC Pre-generator MSE\",mse)"
   ]
  },
  {
   "cell_type": "markdown",
   "id": "0cd0def6",
   "metadata": {
    "papermill": {
     "duration": 0.032269,
     "end_time": "2022-01-15T10:32:02.674508",
     "exception": false,
     "start_time": "2022-01-15T10:32:02.642239",
     "status": "completed"
    },
    "tags": []
   },
   "source": [
    "# ABC GAN Model"
   ]
  },
  {
   "cell_type": "markdown",
   "id": "70beaf4c",
   "metadata": {
    "papermill": {
     "duration": 0.030158,
     "end_time": "2022-01-15T10:32:02.735708",
     "exception": false,
     "start_time": "2022-01-15T10:32:02.705550",
     "status": "completed"
    },
    "tags": []
   },
   "source": [
    "### Training the network\n",
    "**Training ABC-GAN for n_epochs number of epochs** "
   ]
  },
  {
   "cell_type": "code",
   "execution_count": 11,
   "id": "dbaaafa1",
   "metadata": {
    "execution": {
     "iopub.execute_input": "2022-01-15T10:32:02.805396Z",
     "iopub.status.busy": "2022-01-15T10:32:02.804696Z",
     "iopub.status.idle": "2022-01-15T10:32:05.944404Z",
     "shell.execute_reply": "2022-01-15T10:32:05.943727Z"
    },
    "papermill": {
     "duration": 3.176644,
     "end_time": "2022-01-15T10:32:05.944560",
     "exception": false,
     "start_time": "2022-01-15T10:32:02.767916",
     "status": "completed"
    },
    "tags": []
   },
   "outputs": [],
   "source": [
    "gen = network.Generator(n_features+1).to(device)\n",
    "disc = network.Discriminator(n_features+1).to(device)\n",
    "\n",
    "criterion = torch.nn.BCELoss()\n",
    "gen_opt = torch.optim.Adam(gen.parameters(), lr=0.001, betas=(0.5, 0.999))\n",
    "disc_opt = torch.optim.Adam(disc.parameters(), lr=0.01, betas=(0.5, 0.999))"
   ]
  },
  {
   "cell_type": "code",
   "execution_count": 12,
   "id": "6e9eeab8",
   "metadata": {
    "execution": {
     "iopub.execute_input": "2022-01-15T10:32:06.012493Z",
     "iopub.status.busy": "2022-01-15T10:32:06.011826Z",
     "iopub.status.idle": "2022-01-15T10:37:25.658123Z",
     "shell.execute_reply": "2022-01-15T10:37:25.657610Z"
    },
    "papermill": {
     "duration": 319.681888,
     "end_time": "2022-01-15T10:37:25.658303",
     "exception": false,
     "start_time": "2022-01-15T10:32:05.976415",
     "status": "completed"
    },
    "tags": []
   },
   "outputs": [
    {
     "data": {
      "image/png": "[encoded data removed]",
      "text/plain": [
       "<Figure size 432x288 with 1 Axes>"
      ]
     },
     "metadata": {
      "needs_background": "light"
     },
     "output_type": "display_data"
    },
    {
     "data": {
      "image/png": "[encoded data removed]",
      "text/plain": [
       "<Figure size 432x288 with 1 Axes>"
      ]
     },
     "metadata": {
      "needs_background": "light"
     },
     "output_type": "display_data"
    }
   ],
   "source": [
    "#Training the ABC_GAN \n",
    "ABC_train_test2.training_GAN(disc,gen,disc_opt,gen_opt,train_data,batch_size,n_epochs,criterion,prior_model,variance,device)"
   ]
  },
  {
   "cell_type": "code",
   "execution_count": 13,
   "id": "11c3082e",
   "metadata": {
    "execution": {
     "iopub.execute_input": "2022-01-15T10:37:25.729000Z",
     "iopub.status.busy": "2022-01-15T10:37:25.728366Z",
     "iopub.status.idle": "2022-01-15T10:37:26.125993Z",
     "shell.execute_reply": "2022-01-15T10:37:26.126480Z"
    },
    "papermill": {
     "duration": 0.435072,
     "end_time": "2022-01-15T10:37:26.126666",
     "exception": false,
     "start_time": "2022-01-15T10:37:25.691594",
     "status": "completed"
    },
    "tags": []
   },
   "outputs": [
    {
     "data": {
      "application/scrapbook.scrap.json+json": {
       "data": 0.39104633548450024,
       "encoder": "json",
       "name": "ABC-GAN Model 1 MSE",
       "version": 1
      }
     },
     "metadata": {
      "scrapbook": {
       "data": true,
       "display": false,
       "name": "ABC-GAN Model 1 MSE"
      }
     },
     "output_type": "display_data"
    },
    {
     "data": {
      "application/scrapbook.scrap.json+json": {
       "data": 0.47536849679644494,
       "encoder": "json",
       "name": "ABC-GAN Model 1 MAE",
       "version": 1
      }
     },
     "metadata": {
      "scrapbook": {
       "data": true,
       "display": false,
       "name": "ABC-GAN Model 1 MAE"
      }
     },
     "output_type": "display_data"
    },
    {
     "data": {
      "application/scrapbook.scrap.json+json": {
       "data": 48.48758667323738,
       "encoder": "json",
       "name": "ABC-GAN Model 1 Manhattan Distance",
       "version": 1
      }
     },
     "metadata": {
      "scrapbook": {
       "data": true,
       "display": false,
       "name": "ABC-GAN Model 1 Manhattan Distance"
      }
     },
     "output_type": "display_data"
    },
    {
     "data": {
      "application/scrapbook.scrap.json+json": {
       "data": 6.315564984561777,
       "encoder": "json",
       "name": "ABC-GAN Model 1 Euclidean distance",
       "version": 1
      }
     },
     "metadata": {
      "scrapbook": {
       "data": true,
       "display": false,
       "name": "ABC-GAN Model 1 Euclidean distance"
      }
     },
     "output_type": "display_data"
    },
    {
     "data": {
      "application/scrapbook.scrap.json+json": {
       "data": [
        [
         0.39204394034565404,
         0.3932116034473032,
         0.3899386469010055,
         0.39302251062967775,
         0.388053032813544,
         0.3886396456669427,
         0.3936472063088389,
         0.38937536733333156,
         0.3893575923467871,
         0.39411854354779235,
         0.38982264046454723,
         0.39158169068145987,
         0.3900375807244474,
         0.3922600200839889,
         0.3942127878021468,
         0.39111714494342226,
         0.3928282068445445,
         0.3889478604480489,
         0.3895337321806057,
         0.38935396555527213,
         0.39118702614264733,
         0.39289554335872107,
         0.39031104102219916,
         0.3926950153181509,
         0.39223533153340595,
         0.3907582008350975,
         0.39529422193306807,
         0.39156255790828165,
         0.39159513979192223,
         0.3930657879388227,
         0.39402587454018595,
         0.39111272591824514,
         0.3900212412729887,
         0.39087113003229074,
         0.3894960753278254,
         0.3877880993551122,
         0.393589786573917,
         0.3899521728475063,
         0.39465562857358044,
         0.38973161412483864,
         0.3893816579021275,
         0.3921439055362296,
         0.391073666117875,
         0.39122800909741373,
         0.3922597805187891,
         0.38487087682345883,
         0.3905255475594918,
         0.39688459227276435,
         0.3921488935558171,
         0.38902679581256666,
         0.39059594388939606,
         0.3880977355272797,
         0.3879644003462736,
         0.38963284082020766,
         0.38605944837578027,
         0.3918258783601812,
         0.39025161418886645,
         0.3906624247256126,
         0.387817486224531,
         0.3938256788871486,
         0.3901524037086931,
         0.39481982011761785,
         0.3925769292933456,
         0.390461554063058,
         0.3932725478716374,
         0.3866463559609265,
         0.38528589225306364,
         0.3963515298187784,
         0.3924639920220635,
         0.39018797797986027,
         0.39465244254288423,
         0.3930404101965979,
         0.3924848728350873,
         0.38993602525976107,
         0.3894817939894449,
         0.38927941647825504,
         0.39461826008216166,
         0.3927253101727894,
         0.39144724675491765,
         0.3890888471181624,
         0.3910905323896496,
         0.38806734114847563,
         0.3939633251008974,
         0.39207137401389364,
         0.3906779748302135,
         0.38779284520146273,
         0.38954445333495474,
         0.38904192371968604,
         0.38866337079282215,
         0.38932949761424246,
         0.3878157371436514,
         0.3902742517412666,
         0.3949942514751317,
         0.39281013795690933,
         0.3895554196920287,
         0.3932547411451113,
         0.3913578459005285,
         0.38828321327971876,
         0.3956257626773364,
         0.39122081081296134
        ],
        [
         0.4783395369372824,
         0.4752534137600485,
         0.47413473618308116,
         0.4772095915258807,
         0.4710615369144316,
         0.4714837991541215,
         0.4754914194893311,
         0.47444033193602864,
         0.4727702139895044,
         0.4769516818627131,
         0.4745668374988086,
         0.4753118049097704,
         0.47639780460546416,
         0.4785847644705106,
         0.47553124729836105,
         0.47498267777629344,
         0.47429438455797296,
         0.4738233634179421,
         0.4763638628281507,
         0.4748915404848316,
         0.4763461790942386,
         0.47509433371106197,
         0.4743940212088181,
         0.47764636084948686,
         0.47796679534675446,
         0.4751823867908588,
         0.4765564174592203,
         0.4745848212281571,
         0.47762335331051375,
         0.4744581899185683,
         0.47860823891253446,
         0.47510670116353854,
         0.4723382067556183,
         0.47407076929641123,
         0.47764391190938504,
         0.4739370650849214,
         0.47902678053680003,
         0.47467391592833924,
         0.48062553050398243,
         0.47314115319693206,
         0.474836030554976,
         0.4768355524021329,
         0.4753480394206503,
         0.47521718998677004,
         0.4775913742498732,
         0.47170107926735105,
         0.4739968182665168,
         0.4770407726184702,
         0.47523389126667204,
         0.4760526024060799,
         0.4731566788190428,
         0.4739333709482761,
         0.47457136942402406,
         0.47334709118905605,
         0.47063372881316085,
         0.47541349284423917,
         0.47787201603618906,
         0.4745816735769896,
         0.47046601953094497,
         0.48178014814780623,
         0.47129004205777947,
         0.47756207323468786,
         0.4760536178763883,
         0.47922205039318283,
         0.47718311194330454,
         0.47167537797826764,
         0.470437162701844,
         0.4775335028877153,
         0.47558700481393174,
         0.4768785882339466,
         0.4785802654155037,
         0.47762580184886855,
         0.4788480171130276,
         0.47449462917432483,
         0.47358465338965844,
         0.47837327243577615,
         0.4785184087231755,
         0.4765582566569541,
         0.4757384219407743,
         0.4733343709296748,
         0.47409889574947894,
         0.47187890424667034,
         0.4775811855809069,
         0.4763945950852597,
         0.4739040930152816,
         0.47305207719624626,
         0.47563695690284175,
         0.4742085393335597,
         0.4722755892640528,
         0.4740663032577026,
         0.4727794406570348,
         0.47564922008371235,
         0.4762279650415568,
         0.476685242015211,
         0.4694143224544093,
         0.4758135863926773,
         0.47473852057009935,
         0.4770828971054916,
         0.48000277927620155,
         0.4757613150914218
        ],
        [
         48.7906327676028,
         48.47584820352495,
         48.36174309067428,
         48.675378335639834,
         48.04827676527202,
         48.09134751372039,
         48.50012478791177,
         48.39291385747492,
         48.22256182692945,
         48.649071549996734,
         48.40581742487848,
         48.48180410079658,
         48.59257606975734,
         48.81564597599208,
         48.504187224432826,
         48.44823313318193,
         48.37802722491324,
         48.3299830686301,
         48.58911400847137,
         48.438937129452825,
         48.58731026761234,
         48.45962203852832,
         48.38819016329944,
         48.71992880664766,
         48.75261312536895,
         48.468603452667594,
         48.60875458084047,
         48.40765176527202,
         48.7175820376724,
         48.39473537169397,
         48.81804036907852,
         48.46088351868093,
         48.17849708907306,
         48.35521846823394,
         48.719679014757276,
         48.34158063866198,
         48.860731614753604,
         48.416739424690604,
         49.02380411140621,
         48.26039762608707,
         48.43327511660755,
         48.63722634501755,
         48.48550002090633,
         48.472153378650546,
         48.71432017348707,
         48.11351008526981,
         48.347675463184714,
         48.658158807083964,
         48.47385690920055,
         48.557365445420146,
         48.261981239542365,
         48.34120383672416,
         48.40627968125045,
         48.28140330128372,
         48.00464033894241,
         48.492176270112395,
         48.742945635691285,
         48.40733070485294,
         47.987533992156386,
         49.141575111076236,
         48.07158428989351,
         48.71133146993816,
         48.557469023391604,
         48.88064914010465,
         48.67267741821706,
         48.1108885537833,
         47.98459059558809,
         48.70841729454696,
         48.50987449102104,
         48.64161599986255,
         48.81518707238138,
         48.71783178858459,
         48.84249774552882,
         48.39845217578113,
         48.30563464574516,
         48.79407378844917,
         48.808877689763904,
         48.60894217900932,
         48.52531903795898,
         48.28010583482683,
         48.35808736644685,
         48.13164823316038,
         48.713280929252505,
         48.592248698696494,
         48.33821748755872,
         48.25131187401712,
         48.514969604089856,
         48.36927101202309,
         48.17211010493338,
         48.35476293228567,
         48.22350294701755,
         48.51622044853866,
         48.57525243423879,
         48.621894685551524,
         47.880260890349746,
         48.532985812053084,
         48.423329098150134,
         48.662455504760146,
         48.96028348617256,
         48.52765413932502
        ],
        [
         6.32364467022434,
         6.333054835671716,
         6.306642687191227,
         6.331531890800767,
         6.291375791270259,
         6.296129275835124,
         6.336561768301606,
         6.302085961647922,
         6.301942114885877,
         6.340354204764496,
         6.305704506824263,
         6.319915541327187,
         6.30744268573989,
         6.325387106617812,
         6.341112233340376,
         6.31616567105622,
         6.329966595341837,
         6.298625386995242,
         6.303367408173332,
         6.301912764124694,
         6.316729902928415,
         6.330509096635873,
         6.309653412372532,
         6.3288933916168455,
         6.325188045932501,
         6.3132667047401005,
         6.349803984153598,
         6.319761143163935,
         6.320024071059863,
         6.331880476585129,
         6.339608757888691,
         6.31612998945248,
         6.307310568684947,
         6.314178906500325,
         6.303062722473749,
         6.289227785207136,
         6.336099607056342,
         6.306752066669946,
         6.344672892632464,
         6.304968250572999,
         6.302136868238979,
         6.324450835028716,
         6.315814590694003,
         6.3170607823525184,
         6.325385175063768,
         6.2655270676929335,
         6.311386998993817,
         6.362564609638316,
         6.324491057997739,
         6.299264494596317,
         6.311955820244499,
         6.291738156009238,
         6.290657265764834,
         6.304169236597409,
         6.275194318451786,
         6.3218857623923,
         6.309173055739109,
         6.3124929561950776,
         6.2894660818627655,
         6.337998047214052,
         6.308371039998098,
         6.345992566336415,
         6.327941749725676,
         6.310869869869914,
         6.3335456012337215,
         6.279962444793321,
         6.268904291007522,
         6.358290339510724,
         6.327031467145591,
         6.308658633492998,
         6.344647282503119,
         6.331676068787236,
         6.327199777877959,
         6.306621486699167,
         6.302947166756467,
         6.301309425887765,
         6.344372508639486,
         6.329137511353698,
         6.318830522256599,
         6.2997668533091415,
         6.315950783828534,
         6.291491778357857,
         6.339105548915519,
         6.323865918045476,
         6.312618587613369,
         6.289266269649362,
         6.303454151508154,
         6.299386971714625,
         6.296321451519758,
         6.301714747324946,
         6.289451898906012,
         6.309356043021282,
         6.347394240982942,
         6.329821014183952,
         6.303542877508403,
         6.3334022134079975,
         6.318108916586823,
         6.293241434629003,
         6.352466276422748,
         6.317002667636136
        ]
       ],
       "encoder": "json",
       "name": "ABC_GAN_1 Metrics",
       "version": 1
      }
     },
     "metadata": {
      "scrapbook": {
       "data": true,
       "display": false,
       "name": "ABC_GAN_1 Metrics"
      }
     },
     "output_type": "display_data"
    }
   ],
   "source": [
    "ABC_GAN1_metrics=ABC_train_test2.test_generator(gen,test_data,prior_model,variance,\"1\",device)\n",
    "sb.glue(\"ABC_GAN_1 Metrics\",ABC_GAN1_metrics)"
   ]
  },
  {
   "cell_type": "markdown",
   "id": "394a2b9d",
   "metadata": {
    "papermill": {
     "duration": 0.037254,
     "end_time": "2022-01-15T10:37:26.201222",
     "exception": false,
     "start_time": "2022-01-15T10:37:26.163968",
     "status": "completed"
    },
    "tags": []
   },
   "source": [
    "#### Sanity Checks "
   ]
  },
  {
   "cell_type": "code",
   "execution_count": 14,
   "id": "a36b3b22",
   "metadata": {
    "execution": {
     "iopub.execute_input": "2022-01-15T10:37:26.276090Z",
     "iopub.status.busy": "2022-01-15T10:37:26.275518Z",
     "iopub.status.idle": "2022-01-15T10:37:27.060300Z",
     "shell.execute_reply": "2022-01-15T10:37:27.059714Z"
    },
    "papermill": {
     "duration": 0.82399,
     "end_time": "2022-01-15T10:37:27.060459",
     "exception": false,
     "start_time": "2022-01-15T10:37:26.236469",
     "status": "completed"
    },
    "tags": []
   },
   "outputs": [
    {
     "data": {
      "image/png": "[encoded data removed]",
      "text/plain": [
       "<Figure size 432x288 with 1 Axes>"
      ]
     },
     "metadata": {
      "needs_background": "light"
     },
     "output_type": "display_data"
    },
    {
     "data": {
      "image/png": "[encoded data removed]",
      "text/plain": [
       "<Figure size 432x288 with 1 Axes>"
      ]
     },
     "metadata": {
      "needs_background": "light"
     },
     "output_type": "display_data"
    },
    {
     "data": {
      "image/png": "[encoded data removed]",
      "text/plain": [
       "<Figure size 432x288 with 1 Axes>"
      ]
     },
     "metadata": {
      "needs_background": "light"
     },
     "output_type": "display_data"
    },
    {
     "data": {
      "image/png": "[encoded data removed]",
      "text/plain": [
       "<Figure size 432x288 with 1 Axes>"
      ]
     },
     "metadata": {
      "needs_background": "light"
     },
     "output_type": "display_data"
    }
   ],
   "source": [
    "sanityChecks.discProbVsError(train_data,disc,device)\n",
    "sanityChecks.discProbVsError(test_data,disc,device)"
   ]
  },
  {
   "cell_type": "markdown",
   "id": "130f3a4d",
   "metadata": {
    "papermill": {
     "duration": 0.041619,
     "end_time": "2022-01-15T10:37:27.145721",
     "exception": false,
     "start_time": "2022-01-15T10:37:27.104102",
     "status": "completed"
    },
    "tags": []
   },
   "source": [
    "# ABC - GAN Model with skip connection"
   ]
  },
  {
   "cell_type": "code",
   "execution_count": 15,
   "id": "4e43dad1",
   "metadata": {
    "execution": {
     "iopub.execute_input": "2022-01-15T10:37:27.236698Z",
     "iopub.status.busy": "2022-01-15T10:37:27.236011Z",
     "iopub.status.idle": "2022-01-15T10:37:27.241032Z",
     "shell.execute_reply": "2022-01-15T10:37:27.240476Z"
    },
    "papermill": {
     "duration": 0.05463,
     "end_time": "2022-01-15T10:37:27.241164",
     "exception": false,
     "start_time": "2022-01-15T10:37:27.186534",
     "status": "completed"
    },
    "tags": []
   },
   "outputs": [],
   "source": [
    "#Generator\n",
    "gen3 = network.GeneratorWithSkipConnection(n_features+1).to(device)\n",
    "constraints=network.weightConstraint()\n",
    "#Discriminator \n",
    "disc3 = network.Discriminator(n_features+1).to(device)\n",
    "\n",
    "criterion = torch.nn.BCELoss()\n",
    "gen_opt = torch.optim.Adam(gen3.parameters(), lr=0.01, betas=(0.5, 0.999))\n",
    "disc_opt = torch.optim.Adam(disc3.parameters(), lr=0.01, betas=(0.5, 0.999))\n"
   ]
  },
  {
   "cell_type": "code",
   "execution_count": 16,
   "id": "26acbc37",
   "metadata": {
    "execution": {
     "iopub.execute_input": "2022-01-15T10:37:27.328369Z",
     "iopub.status.busy": "2022-01-15T10:37:27.327608Z",
     "iopub.status.idle": "2022-01-15T11:11:52.240594Z",
     "shell.execute_reply": "2022-01-15T11:11:52.239970Z"
    },
    "papermill": {
     "duration": 2064.958767,
     "end_time": "2022-01-15T11:11:52.240774",
     "exception": false,
     "start_time": "2022-01-15T10:37:27.282007",
     "status": "completed"
    },
    "tags": []
   },
   "outputs": [
    {
     "data": {
      "image/png": "[encoded data removed]",
      "text/plain": [
       "<Figure size 432x288 with 1 Axes>"
      ]
     },
     "metadata": {
      "needs_background": "light"
     },
     "output_type": "display_data"
    },
    {
     "data": {
      "image/png": "[encoded data removed]",
      "text/plain": [
       "<Figure size 432x288 with 1 Axes>"
      ]
     },
     "metadata": {
      "needs_background": "light"
     },
     "output_type": "display_data"
    }
   ],
   "source": [
    "ABC_train_test2.training_GAN_skip_connection(disc3,gen3,disc_opt,gen_opt,train_data,batch_size,n_epochs,criterion,prior_model,variance,device)\n"
   ]
  },
  {
   "cell_type": "code",
   "execution_count": 17,
   "id": "c5e0717b",
   "metadata": {
    "execution": {
     "iopub.execute_input": "2022-01-15T11:11:52.334798Z",
     "iopub.status.busy": "2022-01-15T11:11:52.334126Z",
     "iopub.status.idle": "2022-01-15T11:11:54.124501Z",
     "shell.execute_reply": "2022-01-15T11:11:54.123850Z"
    },
    "papermill": {
     "duration": 1.839408,
     "end_time": "2022-01-15T11:11:54.124649",
     "exception": false,
     "start_time": "2022-01-15T11:11:52.285241",
     "status": "completed"
    },
    "tags": []
   },
   "outputs": [
    {
     "data": {
      "application/scrapbook.scrap.json+json": {
       "data": 2.9241921406478313,
       "encoder": "json",
       "name": "ABC-GAN Model 3 MSE",
       "version": 1
      }
     },
     "metadata": {
      "scrapbook": {
       "data": true,
       "display": false,
       "name": "ABC-GAN Model 3 MSE"
      }
     },
     "output_type": "display_data"
    },
    {
     "data": {
      "application/scrapbook.scrap.json+json": {
       "data": 0.8895938561180055,
       "encoder": "json",
       "name": "ABC-GAN Model 3 MAE",
       "version": 1
      }
     },
     "metadata": {
      "scrapbook": {
       "data": true,
       "display": false,
       "name": "ABC-GAN Model 3 MAE"
      }
     },
     "output_type": "display_data"
    },
    {
     "data": {
      "application/scrapbook.scrap.json+json": {
       "data": 90.73857332403655,
       "encoder": "json",
       "name": "ABC-GAN Model 3 Manhattan Distance",
       "version": 1
      }
     },
     "metadata": {
      "scrapbook": {
       "data": true,
       "display": false,
       "name": "ABC-GAN Model 3 Manhattan Distance"
      }
     },
     "output_type": "display_data"
    },
    {
     "data": {
      "application/scrapbook.scrap.json+json": {
       "data": 17.26939103201724,
       "encoder": "json",
       "name": "ABC-GAN Model 3 Euclidean distance",
       "version": 1
      }
     },
     "metadata": {
      "scrapbook": {
       "data": true,
       "display": false,
       "name": "ABC-GAN Model 3 Euclidean distance"
      }
     },
     "output_type": "display_data"
    },
    {
     "data": {
      "application/scrapbook.scrap.json+json": {
       "data": [
        [
         2.9439379536606753,
         2.8763381186123302,
         2.7995940059800977,
         2.8343323670837566,
         3.030312987911088,
         2.917013616542186,
         2.8994384235816577,
         2.9491107069794396,
         3.057067455150865,
         2.8287077708754795,
         2.93413756694263,
         2.9379605514118663,
         2.93619421382123,
         2.865931545333741,
         2.859529241204874,
         2.9161998864554333,
         2.9569857115992195,
         2.9725984932292775,
         2.9863921001689993,
         2.9707470775995004,
         2.9768942363022752,
         2.9330750889555564,
         2.97643828859823,
         2.8583738868464783,
         2.9185750786773323,
         2.8316708711206364,
         2.911535223056932,
         2.9561427767614497,
         2.8110225780392155,
         2.855803096287417,
         2.99179750777595,
         3.011939223908838,
         2.8950637596935382,
         2.899665115711864,
         2.8802520204155075,
         2.9479792800892244,
         3.0801114773016995,
         2.952325935760639,
         2.909498757999129,
         2.8347031006460317,
         2.9933837906864027,
         2.929827255688434,
         2.969407415145576,
         2.8139720099858523,
         2.9640053698317517,
         2.8351962749873616,
         2.993445682454194,
         2.851247332831821,
         2.880164604810758,
         2.840262311835594,
         2.91639638670447,
         2.8370494238183603,
         3.0352636099821275,
         3.0020662473543434,
         2.979045306229213,
         2.8683004041254834,
         2.8338206410332374,
         2.8328789184785843,
         2.9677816780520327,
         2.8079316151200593,
         2.843165334631653,
         2.9191564405489725,
         2.9062076292082097,
         2.8301192658056213,
         2.9525536439721884,
         3.014593871184519,
         2.844727460006961,
         2.8247950096865337,
         2.8524521828175233,
         2.9450075419559623,
         2.890132173455406,
         2.898230871137512,
         2.894613916308324,
         2.937105668177985,
         2.982723213896146,
         2.9907488732044065,
         3.044168647128862,
         2.9656658808169056,
         2.922529902550818,
         2.9120017505935474,
         2.8675749613943684,
         2.9110506678078742,
         2.872236663391933,
         2.9388673317401253,
         2.9547648527992534,
         3.0011013406375366,
         2.9458501181556076,
         2.9929919069214543,
         3.0264958429491586,
         2.8871526423411398,
         2.9379612456580735,
         2.9839310131568726,
         2.9243831536866085,
         2.9215488459879384,
         2.964487982980663,
         3.016324134598007,
         2.9654760117792263,
         2.9065899934040833,
         2.966848880109657,
         3.0060338209475397
        ],
        [
         0.9049874587240172,
         0.8723709018827945,
         0.8563380249520289,
         0.8840272637157172,
         0.9049961690736168,
         0.859681382318776,
         0.8873477731100923,
         0.8783520739890781,
         0.9238481179482358,
         0.8776386722958848,
         0.8942974720917204,
         0.9036982116179869,
         0.903164699888222,
         0.8750761214680239,
         0.8860047189336197,
         0.8995439160122153,
         0.9037899853314693,
         0.9000121585148222,
         0.8810219340501171,
         0.892365004118605,
         0.9008657616910105,
         0.8772550240597304,
         0.9162625809400982,
         0.8830712502091831,
         0.8885666833706566,
         0.8753390678606343,
         0.8948179694148255,
         0.8797380009246077,
         0.8688272208559746,
         0.859701498265506,
         0.9164165307347681,
         0.9046409720207984,
         0.8863988299306262,
         0.907528171370573,
         0.8912249860700732,
         0.8917671234584322,
         0.9018541398063283,
         0.8880041004889005,
         0.9017793419496978,
         0.8778543134731259,
         0.8894097998957423,
         0.8877646715435035,
         0.9106737242500279,
         0.882931308193114,
         0.8783735816513061,
         0.8656100888700023,
         0.8852455519851955,
         0.8802438354594451,
         0.8834689299521201,
         0.8782070821479839,
         0.8912990801218971,
         0.8634485538099327,
         0.9101950435113966,
         0.9022084967799339,
         0.8877680006290913,
         0.874982194938496,
         0.8768634543338717,
         0.8778809737322816,
         0.9027777014701974,
         0.8889755813185783,
         0.8893960497944671,
         0.8885164498077596,
         0.878793320874227,
         0.8814484917686558,
         0.9005975609499157,
         0.9015153985032264,
         0.8822107728680267,
         0.8669157788230508,
         0.8761635562678909,
         0.9042767418877167,
         0.8830323505635355,
         0.8861090317185895,
         0.8934281237204286,
         0.9097641879583106,
         0.8856204106545478,
         0.879536282691155,
         0.8998847147267238,
         0.881956065886234,
         0.8895684488975972,
         0.897162949876385,
         0.8963332716672334,
         0.8820702421259793,
         0.888370612910127,
         0.9104247927556143,
         0.8853202775376392,
         0.8955243342172574,
         0.8970466938563714,
         0.8958910049998439,
         0.8878343765368211,
         0.8908921634303588,
         0.8765583988461717,
         0.8969434855241036,
         0.8736298691627442,
         0.9054246837999124,
         0.9021931142527976,
         0.9052767395954945,
         0.8794580732892249,
         0.9065963887408668,
         0.8911720146425068,
         0.8977251041443178
        ],
        [
         92.30872078984976,
         88.98183199204504,
         87.34647854510695,
         90.17078089900315,
         92.30960924550891,
         87.68750099651515,
         90.50947285722941,
         89.59191154688597,
         94.23250803072006,
         89.51914457418025,
         91.21834215335548,
         92.17721758503467,
         92.12279938859865,
         89.25776438973844,
         90.37248133122921,
         91.75347943324596,
         92.18657850380987,
         91.80124016851187,
         89.86423727311194,
         91.02123042009771,
         91.88830769248307,
         89.4800124540925,
         93.45878325589001,
         90.07326752133667,
         90.63380170380697,
         89.2845849217847,
         91.2714328803122,
         89.73327609430999,
         88.62037652730942,
         87.68955282308161,
         93.47448613494635,
         92.27337914612144,
         90.41268065292388,
         92.56787347979844,
         90.90494857914746,
         90.96024659276009,
         91.9891222602455,
         90.57641824986786,
         91.98149287886918,
         89.54113997425884,
         90.71979958936572,
         90.55199649743736,
         92.88871987350285,
         90.05899343569763,
         89.59410532843322,
         88.29222906474024,
         90.29504630248994,
         89.7848712168634,
         90.11383085511625,
         89.57712237909436,
         90.9125061724335,
         88.07175248861313,
         92.83989443816245,
         92.02526667155325,
         90.55233606416732,
         89.2481838837266,
         89.44007234205492,
         89.54385932069272,
         92.08332554996014,
         90.67550929449499,
         90.71839707903564,
         90.62867788039148,
         89.63691872917116,
         89.9077461604029,
         91.86095121689141,
         91.95457064732909,
         89.98549883253872,
         88.42540943995118,
         89.36868273932487,
         92.2362276725471,
         90.06929975748062,
         90.38312123529613,
         91.12966861948371,
         92.79594717174768,
         90.33328188676387,
         89.71270083449781,
         91.78824090212584,
         89.95951872039586,
         90.73598178755492,
         91.51062088739127,
         91.42599371005781,
         89.97116469684988,
         90.61380251683295,
         92.86332886107266,
         90.3026683088392,
         91.34348209016025,
         91.49876277334988,
         91.38088250998408,
         90.55910640675575,
         90.8710006698966,
         89.40895668230951,
         91.48823552345857,
         89.1102466545999,
         92.35331774759106,
         92.02369765378535,
         92.33822743874043,
         89.70472347550094,
         92.47283165156841,
         90.8995454935357,
         91.56796062272042
        ],
        [
         17.3286373172673,
         17.128528486080103,
         16.898478884502293,
         17.00299683710325,
         17.581010345453155,
         17.24921415274629,
         17.197171837407716,
         17.343854592099845,
         17.658450680209413,
         16.986117644397112,
         17.299769704483012,
         17.311036255637916,
         17.305831670560227,
         17.09751495463717,
         17.078406910566837,
         17.24680806463776,
         17.36699578462321,
         17.412783990774894,
         17.453137088135122,
         17.40736056716092,
         17.42536117567817,
         17.296637218646485,
         17.42402667115209,
         17.07495641160881,
         17.253830242154578,
         16.995011881558213,
         17.23300881308331,
         17.36452024185143,
         16.932935450181105,
         17.067276168777383,
         17.468925147047454,
         17.527629641189407,
         17.18419341978962,
         17.197844103334873,
         17.140178122831212,
         17.34052728636303,
         17.724879990701584,
         17.35330647016831,
         17.2269809692793,
         17.004108805400396,
         17.47355563845015,
         17.287058167317547,
         17.403435188055507,
         16.941816461600478,
         17.387597525904457,
         17.005587906588552,
         17.4737362807823,
         17.05365731885233,
         17.139918018785778,
         17.02077424229669,
         17.247389119627815,
         17.01114461843978,
         17.595365532383155,
         17.498878742083534,
         17.43165572271836,
         17.104579539433274,
         17.00146186024573,
         16.998636700771495,
         17.398670384868705,
         16.923623274649135,
         17.02947045954244,
         17.255548584035083,
         17.217234916769808,
         16.990355061392137,
         17.353975673751627,
         17.53535214533261,
         17.034148083209505,
         16.974365702082256,
         17.057260115487114,
         17.331784942108765,
         17.169551004392964,
         17.19359034221841,
         17.182858303071963,
         17.30851750307213,
         17.442412901241813,
         17.46586342173926,
         17.621157794173005,
         17.392467330523417,
         17.26551621180738,
         17.234389416528277,
         17.102416380799102,
         17.231574742791302,
         17.116312093029187,
         17.31370751276262,
         17.36047277540343,
         17.49606632203447,
         17.33426410471099,
         17.472411811366744,
         17.569933863871377,
         17.16069839834021,
         17.31103830095478,
         17.445944036996135,
         17.27098959747339,
         17.262618060154423,
         17.389013033062792,
         17.5403837395023,
         17.391910567889923,
         17.218367498901177,
         17.39593589811094,
         17.510438307953603
        ]
       ],
       "encoder": "json",
       "name": "ABC_GAN_3 Metrics",
       "version": 1
      }
     },
     "metadata": {
      "scrapbook": {
       "data": true,
       "display": false,
       "name": "ABC_GAN_3 Metrics"
      }
     },
     "output_type": "display_data"
    }
   ],
   "source": [
    "ABC_GAN3_metrics=ABC_train_test2.test_generator(gen3,test_data,prior_model,variance,\"3\",device)\n",
    "sb.glue(\"ABC_GAN_3 Metrics\",ABC_GAN3_metrics)"
   ]
  },
  {
   "cell_type": "code",
   "execution_count": 18,
   "id": "c8e46b48",
   "metadata": {
    "execution": {
     "iopub.execute_input": "2022-01-15T11:11:54.223831Z",
     "iopub.status.busy": "2022-01-15T11:11:54.223137Z",
     "iopub.status.idle": "2022-01-15T11:11:55.074634Z",
     "shell.execute_reply": "2022-01-15T11:11:55.075165Z"
    },
    "papermill": {
     "duration": 0.903797,
     "end_time": "2022-01-15T11:11:55.075355",
     "exception": false,
     "start_time": "2022-01-15T11:11:54.171558",
     "status": "completed"
    },
    "tags": []
   },
   "outputs": [
    {
     "data": {
      "image/png": "[encoded data removed]",
      "text/plain": [
       "<Figure size 432x288 with 1 Axes>"
      ]
     },
     "metadata": {
      "needs_background": "light"
     },
     "output_type": "display_data"
    },
    {
     "data": {
      "image/png": "[encoded data removed]",
      "text/plain": [
       "<Figure size 432x288 with 1 Axes>"
      ]
     },
     "metadata": {
      "needs_background": "light"
     },
     "output_type": "display_data"
    },
    {
     "data": {
      "image/png": "[encoded data removed]",
      "text/plain": [
       "<Figure size 432x288 with 1 Axes>"
      ]
     },
     "metadata": {
      "needs_background": "light"
     },
     "output_type": "display_data"
    },
    {
     "data": {
      "image/png": "[encoded data removed]",
      "text/plain": [
       "<Figure size 432x288 with 1 Axes>"
      ]
     },
     "metadata": {
      "needs_background": "light"
     },
     "output_type": "display_data"
    }
   ],
   "source": [
    "sanityChecks.discProbVsError(train_data,disc,device)\n",
    "sanityChecks.discProbVsError(test_data,disc3,device)"
   ]
  },
  {
   "cell_type": "markdown",
   "id": "a5bd74c3",
   "metadata": {
    "papermill": {
     "duration": 0.051347,
     "end_time": "2022-01-15T11:11:55.195821",
     "exception": false,
     "start_time": "2022-01-15T11:11:55.144474",
     "status": "completed"
    },
    "tags": []
   },
   "source": [
    "## Skip Connection Model Analysis - ABC-GAN "
   ]
  },
  {
   "cell_type": "markdown",
   "id": "5744a8bf",
   "metadata": {
    "papermill": {
     "duration": 0.052498,
     "end_time": "2022-01-15T11:11:55.299450",
     "exception": false,
     "start_time": "2022-01-15T11:11:55.246952",
     "status": "completed"
    },
    "tags": []
   },
   "source": [
    "### Weight Analysis \n",
    "\n",
    "Study the weights of the skip connection layer\n",
    "\n",
    "Equation of the skip connection is \n",
    "\n",
    "$output = y_{gan} * w + y_{abc} * (1-w)$"
   ]
  },
  {
   "cell_type": "code",
   "execution_count": 19,
   "id": "52c31dea",
   "metadata": {
    "execution": {
     "iopub.execute_input": "2022-01-15T11:11:55.409052Z",
     "iopub.status.busy": "2022-01-15T11:11:55.408403Z",
     "iopub.status.idle": "2022-01-15T11:11:55.417623Z",
     "shell.execute_reply": "2022-01-15T11:11:55.418061Z"
    },
    "papermill": {
     "duration": 0.066432,
     "end_time": "2022-01-15T11:11:55.418253",
     "exception": false,
     "start_time": "2022-01-15T11:11:55.351821",
     "status": "completed"
    },
    "tags": []
   },
   "outputs": [
    {
     "name": "stdout",
     "output_type": "stream",
     "text": [
      "Weight of the node at skip connection\n",
      "Parameter containing:\n",
      "tensor([[0.0237]], device='cuda:0', requires_grad=True)\n"
     ]
    },
    {
     "data": {
      "application/scrapbook.scrap.json+json": {
       "data": 0.023693688213825226,
       "encoder": "json",
       "name": "Skip Connection Weight",
       "version": 1
      }
     },
     "metadata": {
      "scrapbook": {
       "data": true,
       "display": false,
       "name": "Skip Connection Weight"
      }
     },
     "output_type": "display_data"
    }
   ],
   "source": [
    "print(\"Weight of the node at skip connection\")\n",
    "for name,param in gen3.named_parameters():\n",
    "    if(name == \"skipNode.weight\"):\n",
    "        print(param)\n",
    "        sb.glue(\"Skip Connection Weight\",param.item())"
   ]
  }
 ],
 "metadata": {
  "interpreter": {
   "hash": "10498c76ddd8160350534c6544a2b2fb65f2138dbc70420f7c81a3268f830f23"
  },
  "kernelspec": {
   "display_name": "papermill-tutorial",
   "language": "python",
   "name": "python3"
  },
  "language_info": {
   "codemirror_mode": {
    "name": "ipython",
    "version": 3
   },
   "file_extension": ".py",
   "mimetype": "text/x-python",
   "name": "python",
   "nbconvert_exporter": "python",
   "pygments_lexer": "ipython3",
   "version": "3.7.12"
  },
  "papermill": {
   "default_parameters": {},
   "duration": 2400.838034,
   "end_time": "2022-01-15T11:11:56.295873",
   "environment_variables": {},
   "exception": null,
   "input_path": "ABC_GAN_Model-Catboost_Pre-gen.ipynb",
   "output_path": "./ABC_GAN_Output/ABC-GAN_output_9_1.ipynb",
   "parameters": {
    "variance": 0.1
   },
   "start_time": "2022-01-15T10:31:55.457839",
   "version": "2.3.3"
  }
 },
 "nbformat": 4,
 "nbformat_minor": 5
}