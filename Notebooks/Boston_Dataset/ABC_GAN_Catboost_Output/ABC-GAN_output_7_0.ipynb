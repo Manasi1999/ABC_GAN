{
 "cells": [
  {
   "cell_type": "markdown",
   "id": "622780e6",
   "metadata": {
    "papermill": {
     "duration": 0.020026,
     "end_time": "2022-01-15T03:48:05.818244",
     "exception": false,
     "start_time": "2022-01-15T03:48:05.798218",
     "status": "completed"
    },
    "tags": []
   },
   "source": [
    "## Import Libraries "
   ]
  },
  {
   "cell_type": "code",
   "execution_count": 1,
   "id": "a62397e3",
   "metadata": {
    "execution": {
     "iopub.execute_input": "2022-01-15T03:48:05.859691Z",
     "iopub.status.busy": "2022-01-15T03:48:05.859257Z",
     "iopub.status.idle": "2022-01-15T03:48:05.861789Z",
     "shell.execute_reply": "2022-01-15T03:48:05.861328Z"
    },
    "papermill": {
     "duration": 0.02593,
     "end_time": "2022-01-15T03:48:05.861913",
     "exception": false,
     "start_time": "2022-01-15T03:48:05.835983",
     "status": "completed"
    },
    "tags": []
   },
   "outputs": [],
   "source": [
    "import warnings\n",
    "import sys\n",
    "sys.path.insert(0, '../../src')\n",
    "warnings.filterwarnings('ignore')"
   ]
  },
  {
   "cell_type": "code",
   "execution_count": 2,
   "id": "d6a4e155",
   "metadata": {
    "execution": {
     "iopub.execute_input": "2022-01-15T03:48:05.904150Z",
     "iopub.status.busy": "2022-01-15T03:48:05.903442Z",
     "iopub.status.idle": "2022-01-15T03:48:15.776569Z",
     "shell.execute_reply": "2022-01-15T03:48:15.776120Z"
    },
    "papermill": {
     "duration": 9.896102,
     "end_time": "2022-01-15T03:48:15.776695",
     "exception": false,
     "start_time": "2022-01-15T03:48:05.880593",
     "status": "completed"
    },
    "tags": []
   },
   "outputs": [],
   "source": [
    "import ABC_train_test2\n",
    "import bostonDataset\n",
    "import network\n",
    "import dataset\n",
    "import sanityChecks\n",
    "import performanceMetrics\n",
    "import torch \n",
    "from torch.utils.data import random_split \n",
    "import scrapbook as sb\n",
    "from statistics import mean \n",
    "import catboost as ctb \n",
    "from sklearn.model_selection import train_test_split\n",
    "from sklearn.metrics import mean_squared_error\n",
    "import numpy as np"
   ]
  },
  {
   "cell_type": "markdown",
   "id": "2fa5b0f7",
   "metadata": {
    "papermill": {
     "duration": 0.018319,
     "end_time": "2022-01-15T03:48:15.813726",
     "exception": false,
     "start_time": "2022-01-15T03:48:15.795407",
     "status": "completed"
    },
    "tags": []
   },
   "source": [
    "## Parameters "
   ]
  },
  {
   "cell_type": "code",
   "execution_count": 3,
   "id": "783186fb",
   "metadata": {
    "execution": {
     "iopub.execute_input": "2022-01-15T03:48:15.872926Z",
     "iopub.status.busy": "2022-01-15T03:48:15.872318Z",
     "iopub.status.idle": "2022-01-15T03:48:15.874807Z",
     "shell.execute_reply": "2022-01-15T03:48:15.874357Z"
    },
    "papermill": {
     "duration": 0.025626,
     "end_time": "2022-01-15T03:48:15.874917",
     "exception": false,
     "start_time": "2022-01-15T03:48:15.849291",
     "status": "completed"
    },
    "tags": [
     "parameters"
    ]
   },
   "outputs": [],
   "source": [
    "variance = 1"
   ]
  },
  {
   "cell_type": "code",
   "execution_count": 4,
   "id": "fbd5dc9e",
   "metadata": {
    "execution": {
     "iopub.execute_input": "2022-01-15T03:48:15.917572Z",
     "iopub.status.busy": "2022-01-15T03:48:15.916736Z",
     "iopub.status.idle": "2022-01-15T03:48:15.919033Z",
     "shell.execute_reply": "2022-01-15T03:48:15.918595Z"
    },
    "papermill": {
     "duration": 0.024784,
     "end_time": "2022-01-15T03:48:15.919144",
     "exception": false,
     "start_time": "2022-01-15T03:48:15.894360",
     "status": "completed"
    },
    "tags": [
     "injected-parameters"
    ]
   },
   "outputs": [],
   "source": [
    "# Parameters\n",
    "variance = 1\n"
   ]
  },
  {
   "cell_type": "markdown",
   "id": "391cdbfd",
   "metadata": {
    "papermill": {
     "duration": 0.01918,
     "end_time": "2022-01-15T03:48:15.956719",
     "exception": false,
     "start_time": "2022-01-15T03:48:15.937539",
     "status": "completed"
    },
    "tags": []
   },
   "source": [
    "## Dataset - Boston Housing "
   ]
  },
  {
   "cell_type": "code",
   "execution_count": 5,
   "id": "5b51f161",
   "metadata": {
    "execution": {
     "iopub.execute_input": "2022-01-15T03:48:15.999745Z",
     "iopub.status.busy": "2022-01-15T03:48:15.999267Z",
     "iopub.status.idle": "2022-01-15T03:48:16.001544Z",
     "shell.execute_reply": "2022-01-15T03:48:16.001155Z"
    },
    "papermill": {
     "duration": 0.025252,
     "end_time": "2022-01-15T03:48:16.001654",
     "exception": false,
     "start_time": "2022-01-15T03:48:15.976402",
     "status": "completed"
    },
    "tags": []
   },
   "outputs": [],
   "source": [
    "#Parameters \n",
    "n_features = 13\n",
    "n_samples= 506\n",
    "n_target = 1 "
   ]
  },
  {
   "cell_type": "code",
   "execution_count": 6,
   "id": "5d6eced4",
   "metadata": {
    "execution": {
     "iopub.execute_input": "2022-01-15T03:48:16.043180Z",
     "iopub.status.busy": "2022-01-15T03:48:16.042711Z",
     "iopub.status.idle": "2022-01-15T03:48:16.078366Z",
     "shell.execute_reply": "2022-01-15T03:48:16.077939Z"
    },
    "papermill": {
     "duration": 0.058255,
     "end_time": "2022-01-15T03:48:16.078490",
     "exception": false,
     "start_time": "2022-01-15T03:48:16.020235",
     "status": "completed"
    },
    "tags": []
   },
   "outputs": [
    {
     "name": "stdout",
     "output_type": "stream",
     "text": [
      "         X1        X2        X3        X4        X5        X6        X7        X8        X9       X10       X11       X12       X13         Y\n",
      "0 -0.419782  0.284830 -1.287909 -0.272599 -0.144217  0.413672 -0.120013  0.140214 -0.982843 -0.666608 -1.459000  0.441052 -1.075562  0.159686\n",
      "1 -0.417339 -0.487722 -0.593381 -0.272599 -0.740262  0.194274  0.367166  0.557160 -0.867883 -0.987329 -0.303094  0.441052 -0.492439 -0.101524\n",
      "2 -0.417342 -0.487722 -0.593381 -0.272599 -0.740262  1.282714 -0.265812  0.557160 -0.867883 -0.987329 -0.303094  0.396427 -1.208727  1.324247\n",
      "3 -0.416750 -0.487722 -1.306878 -0.272599 -0.835284  1.016303 -0.809889  1.077737 -0.752922 -1.106115  0.113032  0.416163 -1.361517  1.182758\n",
      "4 -0.412482 -0.487722 -1.306878 -0.272599 -0.835284  1.228577 -0.511180  1.077737 -0.752922 -1.106115  0.113032  0.441052 -1.026501  1.487503\n"
     ]
    }
   ],
   "source": [
    "X,Y = bostonDataset.boston_data()"
   ]
  },
  {
   "cell_type": "code",
   "execution_count": 7,
   "id": "fe007438",
   "metadata": {
    "execution": {
     "iopub.execute_input": "2022-01-15T03:48:16.124394Z",
     "iopub.status.busy": "2022-01-15T03:48:16.123751Z",
     "iopub.status.idle": "2022-01-15T03:48:16.126072Z",
     "shell.execute_reply": "2022-01-15T03:48:16.125571Z"
    },
    "papermill": {
     "duration": 0.027944,
     "end_time": "2022-01-15T03:48:16.126175",
     "exception": false,
     "start_time": "2022-01-15T03:48:16.098231",
     "status": "completed"
    },
    "tags": []
   },
   "outputs": [],
   "source": [
    "#Train test split for dataset \n",
    "X_train,X_test,Y_train,Y_test = train_test_split(X,Y,test_size = 0.2)\n",
    "train_data = dataset.CustomDataset(X_train,Y_train)\n",
    "test_data = dataset.CustomDataset(X_test,Y_test)\n"
   ]
  },
  {
   "cell_type": "markdown",
   "id": "a9a1af34",
   "metadata": {
    "papermill": {
     "duration": 0.01895,
     "end_time": "2022-01-15T03:48:16.163849",
     "exception": false,
     "start_time": "2022-01-15T03:48:16.144899",
     "status": "completed"
    },
    "tags": []
   },
   "source": [
    "## Training Parameters \n",
    "\n"
   ]
  },
  {
   "cell_type": "code",
   "execution_count": 8,
   "id": "952b7fc8",
   "metadata": {
    "execution": {
     "iopub.execute_input": "2022-01-15T03:48:16.259876Z",
     "iopub.status.busy": "2022-01-15T03:48:16.259138Z",
     "iopub.status.idle": "2022-01-15T03:48:16.261317Z",
     "shell.execute_reply": "2022-01-15T03:48:16.260859Z"
    },
    "papermill": {
     "duration": 0.078452,
     "end_time": "2022-01-15T03:48:16.261433",
     "exception": false,
     "start_time": "2022-01-15T03:48:16.182981",
     "status": "completed"
    },
    "tags": []
   },
   "outputs": [],
   "source": [
    "batch_size = 64\n",
    "n_epochs = 5000\n",
    "#Select the device \n",
    "device = torch.device('cuda' if torch.cuda.is_available() else 'cpu')"
   ]
  },
  {
   "cell_type": "markdown",
   "id": "a95e1600",
   "metadata": {
    "papermill": {
     "duration": 0.021971,
     "end_time": "2022-01-15T03:48:16.307077",
     "exception": false,
     "start_time": "2022-01-15T03:48:16.285106",
     "status": "completed"
    },
    "tags": []
   },
   "source": [
    "# ABC Pre-generator Model \n",
    "\n",
    "1. The catboost model is used as a pre-generator model for the ABC-GAN. \n",
    "2. The model is first trained on the train dataset \n",
    "3. It generats X,Y pairs and we add some Gaussian noise with mean 0 and variance V (1,0.01,0.1) to it which is then feed as input to the generator.\n"
   ]
  },
  {
   "cell_type": "code",
   "execution_count": 9,
   "id": "ff8ce7bd",
   "metadata": {
    "execution": {
     "iopub.execute_input": "2022-01-15T03:48:16.367413Z",
     "iopub.status.busy": "2022-01-15T03:48:16.366800Z",
     "iopub.status.idle": "2022-01-15T03:48:20.437032Z",
     "shell.execute_reply": "2022-01-15T03:48:20.436617Z"
    },
    "papermill": {
     "duration": 4.110915,
     "end_time": "2022-01-15T03:48:20.437158",
     "exception": false,
     "start_time": "2022-01-15T03:48:16.326243",
     "status": "completed"
    },
    "tags": []
   },
   "outputs": [
    {
     "name": "stdout",
     "output_type": "stream",
     "text": [
      "Learning rate set to 0.03548\n"
     ]
    },
    {
     "name": "stdout",
     "output_type": "stream",
     "text": [
      "0:\tlearn: 0.9836885\ttotal: 47.6ms\tremaining: 47.5s\n",
      "1:\tlearn: 0.9629817\ttotal: 48.8ms\tremaining: 24.3s\n",
      "2:\tlearn: 0.9433149\ttotal: 49.6ms\tremaining: 16.5s\n",
      "3:\tlearn: 0.9264493\ttotal: 50.5ms\tremaining: 12.6s\n",
      "4:\tlearn: 0.9107792\ttotal: 51.3ms\tremaining: 10.2s\n",
      "5:\tlearn: 0.8936856\ttotal: 52.3ms\tremaining: 8.66s\n",
      "6:\tlearn: 0.8756018\ttotal: 53.2ms\tremaining: 7.54s\n",
      "7:\tlearn: 0.8595925\ttotal: 54ms\tremaining: 6.7s\n",
      "8:\tlearn: 0.8437732\ttotal: 54.9ms\tremaining: 6.05s\n",
      "9:\tlearn: 0.8260449\ttotal: 55.9ms\tremaining: 5.53s\n",
      "10:\tlearn: 0.8106791\ttotal: 56.7ms\tremaining: 5.1s\n",
      "11:\tlearn: 0.7949963\ttotal: 57.5ms\tremaining: 4.74s\n",
      "12:\tlearn: 0.7798396\ttotal: 58.3ms\tremaining: 4.43s\n",
      "13:\tlearn: 0.7644106\ttotal: 59.1ms\tremaining: 4.16s\n",
      "14:\tlearn: 0.7510096\ttotal: 59.9ms\tremaining: 3.93s\n",
      "15:\tlearn: 0.7369301\ttotal: 60.8ms\tremaining: 3.74s\n",
      "16:\tlearn: 0.7250427\ttotal: 61.8ms\tremaining: 3.57s\n",
      "17:\tlearn: 0.7131317\ttotal: 62.5ms\tremaining: 3.41s\n",
      "18:\tlearn: 0.7006910\ttotal: 63.3ms\tremaining: 3.27s\n",
      "19:\tlearn: 0.6861614\ttotal: 64ms\tremaining: 3.14s\n",
      "20:\tlearn: 0.6738188\ttotal: 64.8ms\tremaining: 3.02s\n",
      "21:\tlearn: 0.6624984\ttotal: 65.6ms\tremaining: 2.92s\n",
      "22:\tlearn: 0.6520205\ttotal: 66.4ms\tremaining: 2.82s\n",
      "23:\tlearn: 0.6419429\ttotal: 67.2ms\tremaining: 2.73s\n",
      "24:\tlearn: 0.6326453\ttotal: 67.9ms\tremaining: 2.65s\n",
      "25:\tlearn: 0.6241756\ttotal: 69ms\tremaining: 2.58s\n",
      "26:\tlearn: 0.6160638\ttotal: 69.9ms\tremaining: 2.52s\n",
      "27:\tlearn: 0.6072558\ttotal: 70.7ms\tremaining: 2.45s\n",
      "28:\tlearn: 0.5987757\ttotal: 71.5ms\tremaining: 2.4s\n",
      "29:\tlearn: 0.5884170\ttotal: 72.3ms\tremaining: 2.34s\n",
      "30:\tlearn: 0.5776684\ttotal: 73.1ms\tremaining: 2.29s\n",
      "31:\tlearn: 0.5688523\ttotal: 74ms\tremaining: 2.24s\n",
      "32:\tlearn: 0.5620128\ttotal: 74.9ms\tremaining: 2.19s\n",
      "33:\tlearn: 0.5540120\ttotal: 75.9ms\tremaining: 2.15s\n",
      "34:\tlearn: 0.5474629\ttotal: 76.8ms\tremaining: 2.12s\n",
      "35:\tlearn: 0.5394691\ttotal: 77.6ms\tremaining: 2.08s\n",
      "36:\tlearn: 0.5331667\ttotal: 78.5ms\tremaining: 2.04s\n",
      "37:\tlearn: 0.5264278\ttotal: 79.3ms\tremaining: 2.01s\n",
      "38:\tlearn: 0.5189299\ttotal: 80.1ms\tremaining: 1.97s\n",
      "39:\tlearn: 0.5118145\ttotal: 81ms\tremaining: 1.94s\n",
      "40:\tlearn: 0.5060408\ttotal: 81.8ms\tremaining: 1.91s\n",
      "41:\tlearn: 0.4980862\ttotal: 82.7ms\tremaining: 1.89s\n",
      "42:\tlearn: 0.4935464\ttotal: 83.6ms\tremaining: 1.86s\n",
      "43:\tlearn: 0.4871517\ttotal: 84.4ms\tremaining: 1.83s\n",
      "44:\tlearn: 0.4819606\ttotal: 85.2ms\tremaining: 1.81s\n",
      "45:\tlearn: 0.4760301\ttotal: 86ms\tremaining: 1.78s\n",
      "46:\tlearn: 0.4694289\ttotal: 86.8ms\tremaining: 1.76s\n",
      "47:\tlearn: 0.4639040\ttotal: 87.6ms\tremaining: 1.74s\n",
      "48:\tlearn: 0.4583798\ttotal: 88.4ms\tremaining: 1.72s\n",
      "49:\tlearn: 0.4534349\ttotal: 89.3ms\tremaining: 1.7s\n",
      "50:\tlearn: 0.4477011\ttotal: 90.1ms\tremaining: 1.68s\n",
      "51:\tlearn: 0.4428355\ttotal: 90.8ms\tremaining: 1.66s\n",
      "52:\tlearn: 0.4384790\ttotal: 91.6ms\tremaining: 1.64s\n",
      "53:\tlearn: 0.4347726\ttotal: 92.2ms\tremaining: 1.61s\n",
      "54:\tlearn: 0.4297514\ttotal: 92.9ms\tremaining: 1.6s\n",
      "55:\tlearn: 0.4263940\ttotal: 93.7ms\tremaining: 1.58s\n",
      "56:\tlearn: 0.4217843\ttotal: 94.6ms\tremaining: 1.56s\n",
      "57:\tlearn: 0.4184398\ttotal: 95.4ms\tremaining: 1.55s\n",
      "58:\tlearn: 0.4151356\ttotal: 96.3ms\tremaining: 1.53s\n",
      "59:\tlearn: 0.4111704\ttotal: 97.2ms\tremaining: 1.52s\n",
      "60:\tlearn: 0.4069573\ttotal: 98.1ms\tremaining: 1.51s\n",
      "61:\tlearn: 0.4025338\ttotal: 98.9ms\tremaining: 1.5s\n",
      "62:\tlearn: 0.3994959\ttotal: 99.8ms\tremaining: 1.48s\n",
      "63:\tlearn: 0.3954657\ttotal: 101ms\tremaining: 1.47s\n",
      "64:\tlearn: 0.3924345\ttotal: 101ms\tremaining: 1.46s\n",
      "65:\tlearn: 0.3893274\ttotal: 102ms\tremaining: 1.45s\n",
      "66:\tlearn: 0.3850613\ttotal: 103ms\tremaining: 1.44s\n",
      "67:\tlearn: 0.3810213\ttotal: 104ms\tremaining: 1.43s\n",
      "68:\tlearn: 0.3783008\ttotal: 105ms\tremaining: 1.41s\n",
      "69:\tlearn: 0.3754276\ttotal: 106ms\tremaining: 1.4s\n",
      "70:\tlearn: 0.3710853\ttotal: 106ms\tremaining: 1.39s\n",
      "71:\tlearn: 0.3671235\ttotal: 107ms\tremaining: 1.38s\n",
      "72:\tlearn: 0.3644970\ttotal: 108ms\tremaining: 1.37s\n",
      "73:\tlearn: 0.3614156\ttotal: 109ms\tremaining: 1.36s\n",
      "74:\tlearn: 0.3589388\ttotal: 110ms\tremaining: 1.36s\n",
      "75:\tlearn: 0.3564046\ttotal: 111ms\tremaining: 1.35s\n",
      "76:\tlearn: 0.3528605\ttotal: 112ms\tremaining: 1.34s\n",
      "77:\tlearn: 0.3500716\ttotal: 112ms\tremaining: 1.33s\n",
      "78:\tlearn: 0.3469590\ttotal: 113ms\tremaining: 1.32s\n",
      "79:\tlearn: 0.3450434\ttotal: 114ms\tremaining: 1.31s\n",
      "80:\tlearn: 0.3423884\ttotal: 115ms\tremaining: 1.3s\n",
      "81:\tlearn: 0.3399707\ttotal: 116ms\tremaining: 1.3s\n",
      "82:\tlearn: 0.3376601\ttotal: 117ms\tremaining: 1.29s\n",
      "83:\tlearn: 0.3353439\ttotal: 118ms\tremaining: 1.28s\n",
      "84:\tlearn: 0.3334859\ttotal: 119ms\tremaining: 1.28s\n",
      "85:\tlearn: 0.3312817\ttotal: 119ms\tremaining: 1.27s\n",
      "86:\tlearn: 0.3294866\ttotal: 120ms\tremaining: 1.26s\n",
      "87:\tlearn: 0.3272031\ttotal: 121ms\tremaining: 1.25s\n",
      "88:\tlearn: 0.3247784\ttotal: 122ms\tremaining: 1.25s\n",
      "89:\tlearn: 0.3231906\ttotal: 123ms\tremaining: 1.24s\n",
      "90:\tlearn: 0.3207044\ttotal: 124ms\tremaining: 1.24s\n",
      "91:\tlearn: 0.3187119\ttotal: 125ms\tremaining: 1.23s\n",
      "92:\tlearn: 0.3170434\ttotal: 125ms\tremaining: 1.22s\n",
      "93:\tlearn: 0.3156330\ttotal: 126ms\tremaining: 1.22s\n",
      "94:\tlearn: 0.3136662\ttotal: 127ms\tremaining: 1.21s\n",
      "95:\tlearn: 0.3124369\ttotal: 128ms\tremaining: 1.2s\n",
      "96:\tlearn: 0.3109479\ttotal: 129ms\tremaining: 1.2s\n",
      "97:\tlearn: 0.3089436\ttotal: 130ms\tremaining: 1.19s\n",
      "98:\tlearn: 0.3074227\ttotal: 130ms\tremaining: 1.19s\n",
      "99:\tlearn: 0.3058228\ttotal: 131ms\tremaining: 1.18s\n",
      "100:\tlearn: 0.3048008\ttotal: 132ms\tremaining: 1.18s\n",
      "101:\tlearn: 0.3034584\ttotal: 133ms\tremaining: 1.17s\n",
      "102:\tlearn: 0.3021989\ttotal: 134ms\tremaining: 1.17s\n",
      "103:\tlearn: 0.3007868\ttotal: 135ms\tremaining: 1.16s\n",
      "104:\tlearn: 0.2994192\ttotal: 136ms\tremaining: 1.16s\n",
      "105:\tlearn: 0.2973031\ttotal: 137ms\tremaining: 1.15s\n",
      "106:\tlearn: 0.2958513\ttotal: 138ms\tremaining: 1.15s\n",
      "107:\tlearn: 0.2946909\ttotal: 138ms\tremaining: 1.14s\n",
      "108:\tlearn: 0.2931853\ttotal: 139ms\tremaining: 1.14s\n",
      "109:\tlearn: 0.2917728\ttotal: 140ms\tremaining: 1.13s\n",
      "110:\tlearn: 0.2900799\ttotal: 141ms\tremaining: 1.13s\n",
      "111:\tlearn: 0.2888006\ttotal: 142ms\tremaining: 1.12s\n",
      "112:\tlearn: 0.2868706\ttotal: 143ms\tremaining: 1.12s\n",
      "113:\tlearn: 0.2850319\ttotal: 144ms\tremaining: 1.12s\n",
      "114:\tlearn: 0.2833292\ttotal: 145ms\tremaining: 1.11s\n",
      "115:\tlearn: 0.2823059\ttotal: 145ms\tremaining: 1.11s\n",
      "116:\tlearn: 0.2807920\ttotal: 146ms\tremaining: 1.1s\n",
      "117:\tlearn: 0.2797424\ttotal: 147ms\tremaining: 1.1s\n",
      "118:\tlearn: 0.2788068\ttotal: 148ms\tremaining: 1.09s\n",
      "119:\tlearn: 0.2780238\ttotal: 149ms\tremaining: 1.09s\n",
      "120:\tlearn: 0.2764226\ttotal: 150ms\tremaining: 1.09s\n",
      "121:\tlearn: 0.2755699\ttotal: 151ms\tremaining: 1.08s\n",
      "122:\tlearn: 0.2746117\ttotal: 151ms\tremaining: 1.08s\n",
      "123:\tlearn: 0.2730026\ttotal: 152ms\tremaining: 1.07s\n",
      "124:\tlearn: 0.2720436\ttotal: 153ms\tremaining: 1.07s\n",
      "125:\tlearn: 0.2708622\ttotal: 154ms\tremaining: 1.07s\n",
      "126:\tlearn: 0.2696675\ttotal: 155ms\tremaining: 1.06s\n",
      "127:\tlearn: 0.2681948\ttotal: 156ms\tremaining: 1.06s\n",
      "128:\tlearn: 0.2671099\ttotal: 157ms\tremaining: 1.06s\n",
      "129:\tlearn: 0.2662208\ttotal: 158ms\tremaining: 1.05s\n",
      "130:\tlearn: 0.2652001\ttotal: 158ms\tremaining: 1.05s\n",
      "131:\tlearn: 0.2641864\ttotal: 159ms\tremaining: 1.05s\n",
      "132:\tlearn: 0.2632110\ttotal: 160ms\tremaining: 1.04s\n",
      "133:\tlearn: 0.2624974\ttotal: 161ms\tremaining: 1.04s\n",
      "134:\tlearn: 0.2613777\ttotal: 162ms\tremaining: 1.03s\n",
      "135:\tlearn: 0.2600476\ttotal: 163ms\tremaining: 1.03s\n",
      "136:\tlearn: 0.2593550\ttotal: 163ms\tremaining: 1.03s\n",
      "137:\tlearn: 0.2584314\ttotal: 164ms\tremaining: 1.03s\n",
      "138:\tlearn: 0.2573446\ttotal: 165ms\tremaining: 1.02s\n",
      "139:\tlearn: 0.2563683\ttotal: 166ms\tremaining: 1.02s\n",
      "140:\tlearn: 0.2554699\ttotal: 167ms\tremaining: 1.02s\n",
      "141:\tlearn: 0.2548769\ttotal: 168ms\tremaining: 1.01s\n",
      "142:\tlearn: 0.2538814\ttotal: 169ms\tremaining: 1.01s\n",
      "143:\tlearn: 0.2530965\ttotal: 170ms\tremaining: 1.01s\n",
      "144:\tlearn: 0.2525582\ttotal: 170ms\tremaining: 1s\n",
      "145:\tlearn: 0.2516029\ttotal: 171ms\tremaining: 1s\n",
      "146:\tlearn: 0.2508929\ttotal: 172ms\tremaining: 1000ms\n",
      "147:\tlearn: 0.2497823\ttotal: 173ms\tremaining: 996ms\n",
      "148:\tlearn: 0.2488451\ttotal: 174ms\tremaining: 993ms\n",
      "149:\tlearn: 0.2482845\ttotal: 175ms\tremaining: 991ms\n",
      "150:\tlearn: 0.2469825\ttotal: 176ms\tremaining: 988ms\n",
      "151:\tlearn: 0.2464018\ttotal: 177ms\tremaining: 985ms\n",
      "152:\tlearn: 0.2455441\ttotal: 177ms\tremaining: 982ms\n",
      "153:\tlearn: 0.2443878\ttotal: 178ms\tremaining: 980ms\n",
      "154:\tlearn: 0.2435385\ttotal: 180ms\tremaining: 979ms\n",
      "155:\tlearn: 0.2423195\ttotal: 180ms\tremaining: 976ms\n",
      "156:\tlearn: 0.2413381\ttotal: 181ms\tremaining: 974ms\n",
      "157:\tlearn: 0.2403486\ttotal: 182ms\tremaining: 972ms\n",
      "158:\tlearn: 0.2396300\ttotal: 183ms\tremaining: 969ms\n",
      "159:\tlearn: 0.2389123\ttotal: 184ms\tremaining: 966ms\n"
     ]
    },
    {
     "name": "stdout",
     "output_type": "stream",
     "text": [
      "160:\tlearn: 0.2379110\ttotal: 185ms\tremaining: 964ms\n",
      "161:\tlearn: 0.2369506\ttotal: 186ms\tremaining: 963ms\n",
      "162:\tlearn: 0.2361473\ttotal: 187ms\tremaining: 961ms\n",
      "163:\tlearn: 0.2355468\ttotal: 188ms\tremaining: 959ms\n",
      "164:\tlearn: 0.2349941\ttotal: 189ms\tremaining: 956ms\n",
      "165:\tlearn: 0.2343131\ttotal: 190ms\tremaining: 954ms\n",
      "166:\tlearn: 0.2336975\ttotal: 191ms\tremaining: 951ms\n",
      "167:\tlearn: 0.2331988\ttotal: 192ms\tremaining: 948ms\n",
      "168:\tlearn: 0.2326059\ttotal: 192ms\tremaining: 946ms\n",
      "169:\tlearn: 0.2318374\ttotal: 193ms\tremaining: 944ms\n",
      "170:\tlearn: 0.2312742\ttotal: 194ms\tremaining: 941ms\n",
      "171:\tlearn: 0.2304826\ttotal: 195ms\tremaining: 938ms\n",
      "172:\tlearn: 0.2298521\ttotal: 196ms\tremaining: 936ms\n",
      "173:\tlearn: 0.2288109\ttotal: 197ms\tremaining: 933ms\n",
      "174:\tlearn: 0.2280753\ttotal: 197ms\tremaining: 931ms\n",
      "175:\tlearn: 0.2275769\ttotal: 198ms\tremaining: 928ms\n",
      "176:\tlearn: 0.2267610\ttotal: 199ms\tremaining: 926ms\n",
      "177:\tlearn: 0.2262101\ttotal: 200ms\tremaining: 923ms\n",
      "178:\tlearn: 0.2258408\ttotal: 201ms\tremaining: 921ms\n",
      "179:\tlearn: 0.2251923\ttotal: 202ms\tremaining: 918ms\n",
      "180:\tlearn: 0.2244048\ttotal: 202ms\tremaining: 916ms\n",
      "181:\tlearn: 0.2235813\ttotal: 203ms\tremaining: 913ms\n",
      "182:\tlearn: 0.2227710\ttotal: 204ms\tremaining: 911ms\n",
      "183:\tlearn: 0.2221514\ttotal: 205ms\tremaining: 909ms\n",
      "184:\tlearn: 0.2214367\ttotal: 206ms\tremaining: 908ms\n",
      "185:\tlearn: 0.2203893\ttotal: 207ms\tremaining: 906ms\n",
      "186:\tlearn: 0.2194051\ttotal: 208ms\tremaining: 904ms\n",
      "187:\tlearn: 0.2190441\ttotal: 209ms\tremaining: 901ms\n",
      "188:\tlearn: 0.2186853\ttotal: 209ms\tremaining: 899ms\n",
      "189:\tlearn: 0.2180259\ttotal: 210ms\tremaining: 896ms\n",
      "190:\tlearn: 0.2175230\ttotal: 211ms\tremaining: 894ms\n",
      "191:\tlearn: 0.2168305\ttotal: 212ms\tremaining: 892ms\n",
      "192:\tlearn: 0.2161159\ttotal: 213ms\tremaining: 890ms\n",
      "193:\tlearn: 0.2152998\ttotal: 214ms\tremaining: 888ms\n",
      "194:\tlearn: 0.2145071\ttotal: 214ms\tremaining: 885ms\n",
      "195:\tlearn: 0.2138669\ttotal: 215ms\tremaining: 883ms\n",
      "196:\tlearn: 0.2132169\ttotal: 216ms\tremaining: 881ms\n",
      "197:\tlearn: 0.2126723\ttotal: 217ms\tremaining: 878ms\n",
      "198:\tlearn: 0.2121885\ttotal: 218ms\tremaining: 877ms\n",
      "199:\tlearn: 0.2114867\ttotal: 219ms\tremaining: 875ms\n",
      "200:\tlearn: 0.2109034\ttotal: 220ms\tremaining: 874ms\n",
      "201:\tlearn: 0.2101936\ttotal: 221ms\tremaining: 872ms\n",
      "202:\tlearn: 0.2094914\ttotal: 222ms\tremaining: 870ms\n",
      "203:\tlearn: 0.2091341\ttotal: 223ms\tremaining: 869ms\n",
      "204:\tlearn: 0.2085183\ttotal: 224ms\tremaining: 867ms\n",
      "205:\tlearn: 0.2078222\ttotal: 224ms\tremaining: 865ms\n",
      "206:\tlearn: 0.2073468\ttotal: 225ms\tremaining: 863ms\n",
      "207:\tlearn: 0.2070013\ttotal: 226ms\tremaining: 862ms\n",
      "208:\tlearn: 0.2062260\ttotal: 227ms\tremaining: 860ms\n",
      "209:\tlearn: 0.2057070\ttotal: 228ms\tremaining: 858ms\n",
      "210:\tlearn: 0.2053316\ttotal: 229ms\tremaining: 856ms\n",
      "211:\tlearn: 0.2050852\ttotal: 230ms\tremaining: 855ms\n",
      "212:\tlearn: 0.2044454\ttotal: 231ms\tremaining: 852ms\n",
      "213:\tlearn: 0.2039056\ttotal: 232ms\tremaining: 850ms\n",
      "214:\tlearn: 0.2033252\ttotal: 232ms\tremaining: 848ms\n",
      "215:\tlearn: 0.2027817\ttotal: 233ms\tremaining: 847ms\n",
      "216:\tlearn: 0.2021802\ttotal: 234ms\tremaining: 845ms\n",
      "217:\tlearn: 0.2017900\ttotal: 235ms\tremaining: 843ms\n",
      "218:\tlearn: 0.2010331\ttotal: 236ms\tremaining: 841ms\n",
      "219:\tlearn: 0.2006350\ttotal: 237ms\tremaining: 839ms\n",
      "220:\tlearn: 0.2000879\ttotal: 238ms\tremaining: 837ms\n",
      "221:\tlearn: 0.1993726\ttotal: 238ms\tremaining: 836ms\n",
      "222:\tlearn: 0.1987890\ttotal: 240ms\tremaining: 835ms\n",
      "223:\tlearn: 0.1984440\ttotal: 240ms\tremaining: 833ms\n",
      "224:\tlearn: 0.1977901\ttotal: 241ms\tremaining: 831ms\n",
      "225:\tlearn: 0.1971927\ttotal: 242ms\tremaining: 829ms\n",
      "226:\tlearn: 0.1963682\ttotal: 243ms\tremaining: 828ms\n",
      "227:\tlearn: 0.1959972\ttotal: 244ms\tremaining: 826ms\n",
      "228:\tlearn: 0.1954196\ttotal: 245ms\tremaining: 824ms\n",
      "229:\tlearn: 0.1951513\ttotal: 246ms\tremaining: 822ms\n",
      "230:\tlearn: 0.1944356\ttotal: 246ms\tremaining: 821ms\n",
      "231:\tlearn: 0.1939179\ttotal: 247ms\tremaining: 819ms\n",
      "232:\tlearn: 0.1932389\ttotal: 248ms\tremaining: 817ms\n",
      "233:\tlearn: 0.1926076\ttotal: 249ms\tremaining: 815ms\n",
      "234:\tlearn: 0.1923221\ttotal: 250ms\tremaining: 814ms\n",
      "235:\tlearn: 0.1916122\ttotal: 251ms\tremaining: 812ms\n",
      "236:\tlearn: 0.1911948\ttotal: 252ms\tremaining: 810ms\n",
      "237:\tlearn: 0.1906994\ttotal: 252ms\tremaining: 808ms\n",
      "238:\tlearn: 0.1901394\ttotal: 253ms\tremaining: 807ms\n",
      "239:\tlearn: 0.1895691\ttotal: 254ms\tremaining: 806ms\n",
      "240:\tlearn: 0.1890129\ttotal: 255ms\tremaining: 804ms\n",
      "241:\tlearn: 0.1885829\ttotal: 256ms\tremaining: 802ms\n",
      "242:\tlearn: 0.1879500\ttotal: 257ms\tremaining: 801ms\n",
      "243:\tlearn: 0.1874657\ttotal: 258ms\tremaining: 799ms\n",
      "244:\tlearn: 0.1870142\ttotal: 259ms\tremaining: 797ms\n",
      "245:\tlearn: 0.1866120\ttotal: 260ms\tremaining: 796ms\n",
      "246:\tlearn: 0.1862756\ttotal: 261ms\tremaining: 794ms\n",
      "247:\tlearn: 0.1859062\ttotal: 261ms\tremaining: 793ms\n",
      "248:\tlearn: 0.1856197\ttotal: 262ms\tremaining: 791ms\n",
      "249:\tlearn: 0.1852744\ttotal: 263ms\tremaining: 789ms\n",
      "250:\tlearn: 0.1847014\ttotal: 264ms\tremaining: 788ms\n",
      "251:\tlearn: 0.1838385\ttotal: 265ms\tremaining: 786ms\n",
      "252:\tlearn: 0.1832963\ttotal: 266ms\tremaining: 784ms\n",
      "253:\tlearn: 0.1827705\ttotal: 267ms\tremaining: 783ms\n",
      "254:\tlearn: 0.1822446\ttotal: 268ms\tremaining: 782ms\n",
      "255:\tlearn: 0.1819775\ttotal: 268ms\tremaining: 780ms\n",
      "256:\tlearn: 0.1817482\ttotal: 269ms\tremaining: 778ms\n",
      "257:\tlearn: 0.1815416\ttotal: 270ms\tremaining: 777ms\n",
      "258:\tlearn: 0.1810432\ttotal: 271ms\tremaining: 775ms\n",
      "259:\tlearn: 0.1805212\ttotal: 272ms\tremaining: 773ms\n",
      "260:\tlearn: 0.1803571\ttotal: 272ms\tremaining: 772ms\n",
      "261:\tlearn: 0.1801733\ttotal: 273ms\tremaining: 770ms\n",
      "262:\tlearn: 0.1794912\ttotal: 274ms\tremaining: 769ms\n",
      "263:\tlearn: 0.1789487\ttotal: 275ms\tremaining: 767ms\n",
      "264:\tlearn: 0.1784953\ttotal: 276ms\tremaining: 765ms\n",
      "265:\tlearn: 0.1782830\ttotal: 277ms\tremaining: 764ms\n",
      "266:\tlearn: 0.1781110\ttotal: 278ms\tremaining: 762ms\n",
      "267:\tlearn: 0.1775762\ttotal: 278ms\tremaining: 761ms\n",
      "268:\tlearn: 0.1769739\ttotal: 279ms\tremaining: 759ms\n",
      "269:\tlearn: 0.1766394\ttotal: 280ms\tremaining: 758ms\n",
      "270:\tlearn: 0.1761137\ttotal: 281ms\tremaining: 756ms\n",
      "271:\tlearn: 0.1756055\ttotal: 282ms\tremaining: 754ms\n",
      "272:\tlearn: 0.1749840\ttotal: 283ms\tremaining: 753ms\n",
      "273:\tlearn: 0.1745810\ttotal: 283ms\tremaining: 751ms\n",
      "274:\tlearn: 0.1743645\ttotal: 284ms\tremaining: 750ms\n",
      "275:\tlearn: 0.1739164\ttotal: 285ms\tremaining: 748ms\n",
      "276:\tlearn: 0.1736138\ttotal: 286ms\tremaining: 746ms\n",
      "277:\tlearn: 0.1733746\ttotal: 287ms\tremaining: 745ms\n",
      "278:\tlearn: 0.1728307\ttotal: 288ms\tremaining: 743ms\n",
      "279:\tlearn: 0.1724891\ttotal: 289ms\tremaining: 742ms\n",
      "280:\tlearn: 0.1719928\ttotal: 289ms\tremaining: 741ms\n",
      "281:\tlearn: 0.1714528\ttotal: 290ms\tremaining: 739ms\n",
      "282:\tlearn: 0.1712171\ttotal: 291ms\tremaining: 738ms\n",
      "283:\tlearn: 0.1706720\ttotal: 292ms\tremaining: 736ms\n",
      "284:\tlearn: 0.1705030\ttotal: 293ms\tremaining: 735ms\n",
      "285:\tlearn: 0.1702997\ttotal: 294ms\tremaining: 733ms\n",
      "286:\tlearn: 0.1697911\ttotal: 295ms\tremaining: 732ms\n",
      "287:\tlearn: 0.1695142\ttotal: 296ms\tremaining: 731ms\n",
      "288:\tlearn: 0.1689987\ttotal: 296ms\tremaining: 729ms\n",
      "289:\tlearn: 0.1687475\ttotal: 297ms\tremaining: 728ms\n",
      "290:\tlearn: 0.1682699\ttotal: 298ms\tremaining: 726ms\n",
      "291:\tlearn: 0.1679702\ttotal: 299ms\tremaining: 725ms\n",
      "292:\tlearn: 0.1678106\ttotal: 300ms\tremaining: 723ms\n",
      "293:\tlearn: 0.1672905\ttotal: 301ms\tremaining: 722ms\n",
      "294:\tlearn: 0.1668300\ttotal: 302ms\tremaining: 721ms\n",
      "295:\tlearn: 0.1662342\ttotal: 302ms\tremaining: 719ms\n",
      "296:\tlearn: 0.1657232\ttotal: 303ms\tremaining: 718ms\n",
      "297:\tlearn: 0.1652587\ttotal: 304ms\tremaining: 717ms\n",
      "298:\tlearn: 0.1648677\ttotal: 305ms\tremaining: 715ms\n",
      "299:\tlearn: 0.1645864\ttotal: 306ms\tremaining: 714ms\n",
      "300:\tlearn: 0.1642210\ttotal: 307ms\tremaining: 712ms\n",
      "301:\tlearn: 0.1638600\ttotal: 308ms\tremaining: 711ms\n",
      "302:\tlearn: 0.1635080\ttotal: 308ms\tremaining: 710ms\n",
      "303:\tlearn: 0.1632160\ttotal: 309ms\tremaining: 708ms\n",
      "304:\tlearn: 0.1626765\ttotal: 310ms\tremaining: 706ms\n",
      "305:\tlearn: 0.1621869\ttotal: 311ms\tremaining: 705ms\n",
      "306:\tlearn: 0.1618077\ttotal: 312ms\tremaining: 703ms\n",
      "307:\tlearn: 0.1614159\ttotal: 312ms\tremaining: 702ms\n",
      "308:\tlearn: 0.1611195\ttotal: 313ms\tremaining: 700ms\n",
      "309:\tlearn: 0.1608386\ttotal: 314ms\tremaining: 699ms\n",
      "310:\tlearn: 0.1604576\ttotal: 315ms\tremaining: 698ms\n",
      "311:\tlearn: 0.1601171\ttotal: 316ms\tremaining: 697ms\n",
      "312:\tlearn: 0.1597698\ttotal: 317ms\tremaining: 695ms\n",
      "313:\tlearn: 0.1593292\ttotal: 318ms\tremaining: 694ms\n",
      "314:\tlearn: 0.1590464\ttotal: 318ms\tremaining: 692ms\n",
      "315:\tlearn: 0.1586656\ttotal: 319ms\tremaining: 691ms\n",
      "316:\tlearn: 0.1583243\ttotal: 320ms\tremaining: 690ms\n",
      "317:\tlearn: 0.1578534\ttotal: 321ms\tremaining: 689ms\n",
      "318:\tlearn: 0.1573590\ttotal: 322ms\tremaining: 688ms\n"
     ]
    },
    {
     "name": "stdout",
     "output_type": "stream",
     "text": [
      "319:\tlearn: 0.1570198\ttotal: 323ms\tremaining: 687ms\n",
      "320:\tlearn: 0.1565983\ttotal: 324ms\tremaining: 686ms\n",
      "321:\tlearn: 0.1564703\ttotal: 325ms\tremaining: 685ms\n",
      "322:\tlearn: 0.1562932\ttotal: 326ms\tremaining: 683ms\n",
      "323:\tlearn: 0.1557532\ttotal: 327ms\tremaining: 682ms\n",
      "324:\tlearn: 0.1551458\ttotal: 328ms\tremaining: 681ms\n",
      "325:\tlearn: 0.1547800\ttotal: 329ms\tremaining: 680ms\n",
      "326:\tlearn: 0.1545697\ttotal: 330ms\tremaining: 678ms\n",
      "327:\tlearn: 0.1542966\ttotal: 330ms\tremaining: 677ms\n",
      "328:\tlearn: 0.1537904\ttotal: 331ms\tremaining: 676ms\n",
      "329:\tlearn: 0.1534935\ttotal: 332ms\tremaining: 675ms\n",
      "330:\tlearn: 0.1531995\ttotal: 333ms\tremaining: 673ms\n",
      "331:\tlearn: 0.1528339\ttotal: 334ms\tremaining: 672ms\n",
      "332:\tlearn: 0.1527222\ttotal: 335ms\tremaining: 671ms\n",
      "333:\tlearn: 0.1523834\ttotal: 336ms\tremaining: 670ms\n",
      "334:\tlearn: 0.1518405\ttotal: 337ms\tremaining: 668ms\n",
      "335:\tlearn: 0.1515648\ttotal: 338ms\tremaining: 667ms\n",
      "336:\tlearn: 0.1510352\ttotal: 338ms\tremaining: 666ms\n",
      "337:\tlearn: 0.1508055\ttotal: 339ms\tremaining: 664ms\n",
      "338:\tlearn: 0.1503722\ttotal: 340ms\tremaining: 663ms\n",
      "339:\tlearn: 0.1499653\ttotal: 341ms\tremaining: 662ms\n",
      "340:\tlearn: 0.1495892\ttotal: 342ms\tremaining: 661ms\n",
      "341:\tlearn: 0.1491924\ttotal: 343ms\tremaining: 660ms\n",
      "342:\tlearn: 0.1488864\ttotal: 344ms\tremaining: 658ms\n",
      "343:\tlearn: 0.1485307\ttotal: 345ms\tremaining: 657ms\n",
      "344:\tlearn: 0.1484276\ttotal: 345ms\tremaining: 656ms\n",
      "345:\tlearn: 0.1481476\ttotal: 346ms\tremaining: 654ms\n",
      "346:\tlearn: 0.1477536\ttotal: 347ms\tremaining: 653ms\n",
      "347:\tlearn: 0.1474334\ttotal: 348ms\tremaining: 652ms\n",
      "348:\tlearn: 0.1470506\ttotal: 349ms\tremaining: 650ms\n",
      "349:\tlearn: 0.1467688\ttotal: 350ms\tremaining: 649ms\n",
      "350:\tlearn: 0.1464067\ttotal: 350ms\tremaining: 648ms\n",
      "351:\tlearn: 0.1460946\ttotal: 351ms\tremaining: 647ms\n",
      "352:\tlearn: 0.1456504\ttotal: 352ms\tremaining: 646ms\n",
      "353:\tlearn: 0.1452141\ttotal: 353ms\tremaining: 644ms\n",
      "354:\tlearn: 0.1447897\ttotal: 354ms\tremaining: 643ms\n",
      "355:\tlearn: 0.1445972\ttotal: 355ms\tremaining: 641ms\n",
      "356:\tlearn: 0.1442264\ttotal: 355ms\tremaining: 640ms\n",
      "357:\tlearn: 0.1440717\ttotal: 356ms\tremaining: 639ms\n",
      "358:\tlearn: 0.1435425\ttotal: 357ms\tremaining: 638ms\n",
      "359:\tlearn: 0.1431823\ttotal: 358ms\tremaining: 637ms\n",
      "360:\tlearn: 0.1428066\ttotal: 359ms\tremaining: 636ms\n",
      "361:\tlearn: 0.1425063\ttotal: 361ms\tremaining: 636ms\n",
      "362:\tlearn: 0.1419972\ttotal: 362ms\tremaining: 635ms\n",
      "363:\tlearn: 0.1419092\ttotal: 363ms\tremaining: 634ms\n",
      "364:\tlearn: 0.1416313\ttotal: 364ms\tremaining: 633ms\n",
      "365:\tlearn: 0.1414378\ttotal: 365ms\tremaining: 632ms\n",
      "366:\tlearn: 0.1409632\ttotal: 366ms\tremaining: 630ms\n",
      "367:\tlearn: 0.1406711\ttotal: 366ms\tremaining: 629ms\n",
      "368:\tlearn: 0.1404823\ttotal: 367ms\tremaining: 628ms\n",
      "369:\tlearn: 0.1403435\ttotal: 368ms\tremaining: 627ms\n",
      "370:\tlearn: 0.1400765\ttotal: 369ms\tremaining: 625ms\n",
      "371:\tlearn: 0.1398534\ttotal: 370ms\tremaining: 624ms\n",
      "372:\tlearn: 0.1396066\ttotal: 371ms\tremaining: 623ms\n",
      "373:\tlearn: 0.1391939\ttotal: 371ms\tremaining: 622ms\n",
      "374:\tlearn: 0.1387247\ttotal: 372ms\tremaining: 621ms\n",
      "375:\tlearn: 0.1384653\ttotal: 373ms\tremaining: 619ms\n",
      "376:\tlearn: 0.1380316\ttotal: 374ms\tremaining: 618ms\n",
      "377:\tlearn: 0.1377256\ttotal: 375ms\tremaining: 617ms\n",
      "378:\tlearn: 0.1374565\ttotal: 376ms\tremaining: 616ms\n",
      "379:\tlearn: 0.1372191\ttotal: 377ms\tremaining: 615ms\n",
      "380:\tlearn: 0.1368527\ttotal: 378ms\tremaining: 614ms\n",
      "381:\tlearn: 0.1365882\ttotal: 379ms\tremaining: 613ms\n",
      "382:\tlearn: 0.1363054\ttotal: 380ms\tremaining: 612ms\n",
      "383:\tlearn: 0.1359024\ttotal: 381ms\tremaining: 610ms\n",
      "384:\tlearn: 0.1356528\ttotal: 381ms\tremaining: 609ms\n",
      "385:\tlearn: 0.1353187\ttotal: 382ms\tremaining: 608ms\n",
      "386:\tlearn: 0.1351603\ttotal: 383ms\tremaining: 607ms\n",
      "387:\tlearn: 0.1347381\ttotal: 384ms\tremaining: 606ms\n",
      "388:\tlearn: 0.1342488\ttotal: 385ms\tremaining: 605ms\n",
      "389:\tlearn: 0.1339359\ttotal: 386ms\tremaining: 603ms\n",
      "390:\tlearn: 0.1336460\ttotal: 387ms\tremaining: 602ms\n",
      "391:\tlearn: 0.1332786\ttotal: 388ms\tremaining: 601ms\n",
      "392:\tlearn: 0.1330447\ttotal: 388ms\tremaining: 600ms\n",
      "393:\tlearn: 0.1326586\ttotal: 389ms\tremaining: 599ms\n",
      "394:\tlearn: 0.1323906\ttotal: 390ms\tremaining: 597ms\n",
      "395:\tlearn: 0.1319403\ttotal: 391ms\tremaining: 596ms\n",
      "396:\tlearn: 0.1315957\ttotal: 392ms\tremaining: 595ms\n",
      "397:\tlearn: 0.1313694\ttotal: 393ms\tremaining: 594ms\n",
      "398:\tlearn: 0.1308607\ttotal: 393ms\tremaining: 593ms\n",
      "399:\tlearn: 0.1305295\ttotal: 394ms\tremaining: 591ms\n",
      "400:\tlearn: 0.1302869\ttotal: 395ms\tremaining: 590ms\n",
      "401:\tlearn: 0.1299932\ttotal: 396ms\tremaining: 589ms\n",
      "402:\tlearn: 0.1298572\ttotal: 397ms\tremaining: 587ms\n",
      "403:\tlearn: 0.1296179\ttotal: 397ms\tremaining: 586ms\n",
      "404:\tlearn: 0.1294238\ttotal: 398ms\tremaining: 585ms\n",
      "405:\tlearn: 0.1292033\ttotal: 399ms\tremaining: 584ms\n",
      "406:\tlearn: 0.1289799\ttotal: 400ms\tremaining: 583ms\n",
      "407:\tlearn: 0.1286396\ttotal: 401ms\tremaining: 582ms\n",
      "408:\tlearn: 0.1284415\ttotal: 402ms\tremaining: 580ms\n",
      "409:\tlearn: 0.1282071\ttotal: 403ms\tremaining: 579ms\n",
      "410:\tlearn: 0.1278005\ttotal: 403ms\tremaining: 578ms\n",
      "411:\tlearn: 0.1275275\ttotal: 404ms\tremaining: 577ms\n",
      "412:\tlearn: 0.1271306\ttotal: 405ms\tremaining: 576ms\n",
      "413:\tlearn: 0.1270175\ttotal: 406ms\tremaining: 575ms\n",
      "414:\tlearn: 0.1268120\ttotal: 407ms\tremaining: 573ms\n",
      "415:\tlearn: 0.1265422\ttotal: 408ms\tremaining: 572ms\n",
      "416:\tlearn: 0.1264032\ttotal: 409ms\tremaining: 571ms\n",
      "417:\tlearn: 0.1261968\ttotal: 409ms\tremaining: 570ms\n",
      "418:\tlearn: 0.1258329\ttotal: 410ms\tremaining: 569ms\n",
      "419:\tlearn: 0.1256428\ttotal: 411ms\tremaining: 568ms\n",
      "420:\tlearn: 0.1253301\ttotal: 412ms\tremaining: 567ms\n",
      "421:\tlearn: 0.1252386\ttotal: 413ms\tremaining: 565ms\n",
      "422:\tlearn: 0.1250451\ttotal: 414ms\tremaining: 564ms\n",
      "423:\tlearn: 0.1248455\ttotal: 414ms\tremaining: 563ms\n",
      "424:\tlearn: 0.1245184\ttotal: 415ms\tremaining: 562ms\n",
      "425:\tlearn: 0.1242788\ttotal: 416ms\tremaining: 561ms\n",
      "426:\tlearn: 0.1240476\ttotal: 417ms\tremaining: 560ms\n",
      "427:\tlearn: 0.1238539\ttotal: 418ms\tremaining: 559ms\n",
      "428:\tlearn: 0.1236202\ttotal: 419ms\tremaining: 558ms\n",
      "429:\tlearn: 0.1233647\ttotal: 420ms\tremaining: 556ms\n",
      "430:\tlearn: 0.1230357\ttotal: 420ms\tremaining: 555ms\n",
      "431:\tlearn: 0.1228859\ttotal: 421ms\tremaining: 554ms\n",
      "432:\tlearn: 0.1226003\ttotal: 422ms\tremaining: 553ms\n",
      "433:\tlearn: 0.1221988\ttotal: 423ms\tremaining: 552ms\n",
      "434:\tlearn: 0.1220786\ttotal: 424ms\tremaining: 550ms\n",
      "435:\tlearn: 0.1216855\ttotal: 425ms\tremaining: 549ms\n",
      "436:\tlearn: 0.1216208\ttotal: 426ms\tremaining: 548ms\n",
      "437:\tlearn: 0.1213760\ttotal: 426ms\tremaining: 547ms\n",
      "438:\tlearn: 0.1210601\ttotal: 427ms\tremaining: 546ms\n",
      "439:\tlearn: 0.1208147\ttotal: 428ms\tremaining: 545ms\n",
      "440:\tlearn: 0.1206282\ttotal: 429ms\tremaining: 544ms\n",
      "441:\tlearn: 0.1202348\ttotal: 430ms\tremaining: 543ms\n",
      "442:\tlearn: 0.1198742\ttotal: 431ms\tremaining: 542ms\n",
      "443:\tlearn: 0.1195415\ttotal: 432ms\tremaining: 540ms\n",
      "444:\tlearn: 0.1191684\ttotal: 432ms\tremaining: 539ms\n",
      "445:\tlearn: 0.1190405\ttotal: 433ms\tremaining: 538ms\n",
      "446:\tlearn: 0.1188927\ttotal: 434ms\tremaining: 537ms\n",
      "447:\tlearn: 0.1186719\ttotal: 435ms\tremaining: 536ms\n",
      "448:\tlearn: 0.1185646\ttotal: 436ms\tremaining: 535ms\n",
      "449:\tlearn: 0.1183344\ttotal: 437ms\tremaining: 534ms\n",
      "450:\tlearn: 0.1182169\ttotal: 437ms\tremaining: 533ms\n",
      "451:\tlearn: 0.1179368\ttotal: 438ms\tremaining: 531ms\n",
      "452:\tlearn: 0.1175044\ttotal: 439ms\tremaining: 530ms\n",
      "453:\tlearn: 0.1172518\ttotal: 440ms\tremaining: 529ms\n",
      "454:\tlearn: 0.1172041\ttotal: 441ms\tremaining: 528ms\n",
      "455:\tlearn: 0.1168894\ttotal: 442ms\tremaining: 527ms\n",
      "456:\tlearn: 0.1168131\ttotal: 443ms\tremaining: 526ms\n",
      "457:\tlearn: 0.1166464\ttotal: 443ms\tremaining: 525ms\n",
      "458:\tlearn: 0.1164779\ttotal: 444ms\tremaining: 524ms\n",
      "459:\tlearn: 0.1163946\ttotal: 446ms\tremaining: 523ms\n",
      "460:\tlearn: 0.1163051\ttotal: 447ms\tremaining: 522ms\n",
      "461:\tlearn: 0.1160020\ttotal: 447ms\tremaining: 521ms\n",
      "462:\tlearn: 0.1156405\ttotal: 448ms\tremaining: 520ms\n",
      "463:\tlearn: 0.1154912\ttotal: 449ms\tremaining: 519ms\n",
      "464:\tlearn: 0.1154527\ttotal: 450ms\tremaining: 518ms\n",
      "465:\tlearn: 0.1152417\ttotal: 451ms\tremaining: 517ms\n",
      "466:\tlearn: 0.1148955\ttotal: 452ms\tremaining: 515ms\n",
      "467:\tlearn: 0.1145931\ttotal: 453ms\tremaining: 514ms\n",
      "468:\tlearn: 0.1144113\ttotal: 454ms\tremaining: 514ms\n",
      "469:\tlearn: 0.1141887\ttotal: 455ms\tremaining: 513ms\n",
      "470:\tlearn: 0.1140991\ttotal: 456ms\tremaining: 512ms\n",
      "471:\tlearn: 0.1138370\ttotal: 456ms\tremaining: 511ms\n",
      "472:\tlearn: 0.1135710\ttotal: 457ms\tremaining: 509ms\n",
      "473:\tlearn: 0.1133788\ttotal: 458ms\tremaining: 508ms\n",
      "474:\tlearn: 0.1130872\ttotal: 459ms\tremaining: 507ms\n",
      "475:\tlearn: 0.1126772\ttotal: 460ms\tremaining: 506ms\n",
      "476:\tlearn: 0.1126063\ttotal: 461ms\tremaining: 505ms\n"
     ]
    },
    {
     "name": "stdout",
     "output_type": "stream",
     "text": [
      "477:\tlearn: 0.1124023\ttotal: 462ms\tremaining: 505ms\n",
      "478:\tlearn: 0.1122893\ttotal: 463ms\tremaining: 504ms\n",
      "479:\tlearn: 0.1119376\ttotal: 464ms\tremaining: 502ms\n",
      "480:\tlearn: 0.1118065\ttotal: 465ms\tremaining: 501ms\n",
      "481:\tlearn: 0.1114403\ttotal: 466ms\tremaining: 500ms\n",
      "482:\tlearn: 0.1111956\ttotal: 467ms\tremaining: 499ms\n",
      "483:\tlearn: 0.1108608\ttotal: 467ms\tremaining: 498ms\n",
      "484:\tlearn: 0.1106300\ttotal: 468ms\tremaining: 497ms\n",
      "485:\tlearn: 0.1103381\ttotal: 469ms\tremaining: 496ms\n",
      "486:\tlearn: 0.1101200\ttotal: 470ms\tremaining: 495ms\n",
      "487:\tlearn: 0.1098026\ttotal: 471ms\tremaining: 494ms\n",
      "488:\tlearn: 0.1097350\ttotal: 472ms\tremaining: 493ms\n",
      "489:\tlearn: 0.1095073\ttotal: 473ms\tremaining: 492ms\n",
      "490:\tlearn: 0.1093510\ttotal: 474ms\tremaining: 491ms\n",
      "491:\tlearn: 0.1090880\ttotal: 475ms\tremaining: 490ms\n",
      "492:\tlearn: 0.1087752\ttotal: 475ms\tremaining: 489ms\n",
      "493:\tlearn: 0.1085339\ttotal: 476ms\tremaining: 488ms\n",
      "494:\tlearn: 0.1083214\ttotal: 477ms\tremaining: 487ms\n",
      "495:\tlearn: 0.1081208\ttotal: 478ms\tremaining: 486ms\n",
      "496:\tlearn: 0.1078807\ttotal: 479ms\tremaining: 484ms\n",
      "497:\tlearn: 0.1076211\ttotal: 480ms\tremaining: 483ms\n",
      "498:\tlearn: 0.1075008\ttotal: 480ms\tremaining: 482ms\n",
      "499:\tlearn: 0.1072967\ttotal: 481ms\tremaining: 481ms\n",
      "500:\tlearn: 0.1070982\ttotal: 482ms\tremaining: 480ms\n",
      "501:\tlearn: 0.1068336\ttotal: 483ms\tremaining: 479ms\n",
      "502:\tlearn: 0.1066479\ttotal: 484ms\tremaining: 478ms\n",
      "503:\tlearn: 0.1064355\ttotal: 485ms\tremaining: 477ms\n",
      "504:\tlearn: 0.1061754\ttotal: 486ms\tremaining: 476ms\n",
      "505:\tlearn: 0.1060302\ttotal: 487ms\tremaining: 475ms\n",
      "506:\tlearn: 0.1059196\ttotal: 488ms\tremaining: 474ms\n",
      "507:\tlearn: 0.1057763\ttotal: 489ms\tremaining: 473ms\n",
      "508:\tlearn: 0.1056557\ttotal: 489ms\tremaining: 472ms\n",
      "509:\tlearn: 0.1055114\ttotal: 490ms\tremaining: 471ms\n",
      "510:\tlearn: 0.1052523\ttotal: 491ms\tremaining: 470ms\n",
      "511:\tlearn: 0.1051766\ttotal: 492ms\tremaining: 469ms\n",
      "512:\tlearn: 0.1049544\ttotal: 493ms\tremaining: 468ms\n",
      "513:\tlearn: 0.1046229\ttotal: 494ms\tremaining: 467ms\n",
      "514:\tlearn: 0.1043871\ttotal: 495ms\tremaining: 466ms\n",
      "515:\tlearn: 0.1041140\ttotal: 496ms\tremaining: 465ms\n",
      "516:\tlearn: 0.1037988\ttotal: 497ms\tremaining: 464ms\n",
      "517:\tlearn: 0.1037289\ttotal: 498ms\tremaining: 463ms\n",
      "518:\tlearn: 0.1036425\ttotal: 498ms\tremaining: 462ms\n",
      "519:\tlearn: 0.1033729\ttotal: 499ms\tremaining: 461ms\n",
      "520:\tlearn: 0.1031914\ttotal: 500ms\tremaining: 460ms\n",
      "521:\tlearn: 0.1028939\ttotal: 501ms\tremaining: 459ms\n",
      "522:\tlearn: 0.1025802\ttotal: 502ms\tremaining: 458ms\n",
      "523:\tlearn: 0.1022042\ttotal: 503ms\tremaining: 457ms\n",
      "524:\tlearn: 0.1020991\ttotal: 504ms\tremaining: 456ms\n",
      "525:\tlearn: 0.1018792\ttotal: 505ms\tremaining: 455ms\n",
      "526:\tlearn: 0.1017901\ttotal: 506ms\tremaining: 454ms\n",
      "527:\tlearn: 0.1016401\ttotal: 507ms\tremaining: 453ms\n",
      "528:\tlearn: 0.1014652\ttotal: 507ms\tremaining: 452ms\n",
      "529:\tlearn: 0.1012294\ttotal: 508ms\tremaining: 451ms\n",
      "530:\tlearn: 0.1009821\ttotal: 509ms\tremaining: 450ms\n",
      "531:\tlearn: 0.1007149\ttotal: 510ms\tremaining: 449ms\n",
      "532:\tlearn: 0.1005035\ttotal: 511ms\tremaining: 448ms\n",
      "533:\tlearn: 0.1001940\ttotal: 512ms\tremaining: 447ms\n",
      "534:\tlearn: 0.0999183\ttotal: 513ms\tremaining: 446ms\n",
      "535:\tlearn: 0.0997435\ttotal: 514ms\tremaining: 445ms\n",
      "536:\tlearn: 0.0996664\ttotal: 515ms\tremaining: 444ms\n",
      "537:\tlearn: 0.0994428\ttotal: 515ms\tremaining: 443ms\n",
      "538:\tlearn: 0.0992793\ttotal: 516ms\tremaining: 442ms\n",
      "539:\tlearn: 0.0991881\ttotal: 517ms\tremaining: 441ms\n",
      "540:\tlearn: 0.0990047\ttotal: 518ms\tremaining: 439ms\n",
      "541:\tlearn: 0.0989163\ttotal: 519ms\tremaining: 438ms\n",
      "542:\tlearn: 0.0987782\ttotal: 519ms\tremaining: 437ms\n",
      "543:\tlearn: 0.0984821\ttotal: 520ms\tremaining: 436ms\n",
      "544:\tlearn: 0.0983466\ttotal: 521ms\tremaining: 435ms\n",
      "545:\tlearn: 0.0981719\ttotal: 522ms\tremaining: 434ms\n",
      "546:\tlearn: 0.0980964\ttotal: 523ms\tremaining: 433ms\n",
      "547:\tlearn: 0.0979193\ttotal: 524ms\tremaining: 432ms\n",
      "548:\tlearn: 0.0977994\ttotal: 525ms\tremaining: 431ms\n",
      "549:\tlearn: 0.0976308\ttotal: 525ms\tremaining: 430ms\n",
      "550:\tlearn: 0.0974083\ttotal: 526ms\tremaining: 429ms\n",
      "551:\tlearn: 0.0972135\ttotal: 527ms\tremaining: 428ms\n",
      "552:\tlearn: 0.0970185\ttotal: 528ms\tremaining: 427ms\n",
      "553:\tlearn: 0.0968225\ttotal: 529ms\tremaining: 426ms\n",
      "554:\tlearn: 0.0966114\ttotal: 530ms\tremaining: 425ms\n",
      "555:\tlearn: 0.0963922\ttotal: 531ms\tremaining: 424ms\n",
      "556:\tlearn: 0.0961206\ttotal: 532ms\tremaining: 423ms\n",
      "557:\tlearn: 0.0959465\ttotal: 532ms\tremaining: 422ms\n",
      "558:\tlearn: 0.0958076\ttotal: 533ms\tremaining: 421ms\n",
      "559:\tlearn: 0.0956084\ttotal: 534ms\tremaining: 420ms\n",
      "560:\tlearn: 0.0953846\ttotal: 535ms\tremaining: 419ms\n",
      "561:\tlearn: 0.0950437\ttotal: 536ms\tremaining: 418ms\n",
      "562:\tlearn: 0.0949236\ttotal: 537ms\tremaining: 416ms\n",
      "563:\tlearn: 0.0946610\ttotal: 537ms\tremaining: 415ms\n",
      "564:\tlearn: 0.0943283\ttotal: 538ms\tremaining: 414ms\n",
      "565:\tlearn: 0.0941686\ttotal: 539ms\tremaining: 413ms\n",
      "566:\tlearn: 0.0938568\ttotal: 540ms\tremaining: 412ms\n",
      "567:\tlearn: 0.0937130\ttotal: 541ms\tremaining: 411ms\n",
      "568:\tlearn: 0.0935846\ttotal: 542ms\tremaining: 410ms\n",
      "569:\tlearn: 0.0933103\ttotal: 543ms\tremaining: 409ms\n",
      "570:\tlearn: 0.0930584\ttotal: 543ms\tremaining: 408ms\n",
      "571:\tlearn: 0.0929074\ttotal: 544ms\tremaining: 407ms\n",
      "572:\tlearn: 0.0926712\ttotal: 545ms\tremaining: 406ms\n",
      "573:\tlearn: 0.0925961\ttotal: 546ms\tremaining: 405ms\n",
      "574:\tlearn: 0.0923936\ttotal: 547ms\tremaining: 404ms\n",
      "575:\tlearn: 0.0921618\ttotal: 548ms\tremaining: 403ms\n",
      "576:\tlearn: 0.0920747\ttotal: 549ms\tremaining: 402ms\n",
      "577:\tlearn: 0.0918665\ttotal: 550ms\tremaining: 401ms\n",
      "578:\tlearn: 0.0916324\ttotal: 550ms\tremaining: 400ms\n",
      "579:\tlearn: 0.0915335\ttotal: 551ms\tremaining: 399ms\n",
      "580:\tlearn: 0.0913640\ttotal: 552ms\tremaining: 398ms\n",
      "581:\tlearn: 0.0912933\ttotal: 553ms\tremaining: 397ms\n",
      "582:\tlearn: 0.0911013\ttotal: 554ms\tremaining: 396ms\n",
      "583:\tlearn: 0.0909651\ttotal: 555ms\tremaining: 395ms\n",
      "584:\tlearn: 0.0907921\ttotal: 556ms\tremaining: 394ms\n",
      "585:\tlearn: 0.0907119\ttotal: 557ms\tremaining: 393ms\n",
      "586:\tlearn: 0.0906218\ttotal: 558ms\tremaining: 392ms\n",
      "587:\tlearn: 0.0904666\ttotal: 559ms\tremaining: 391ms\n",
      "588:\tlearn: 0.0903475\ttotal: 559ms\tremaining: 390ms\n",
      "589:\tlearn: 0.0902219\ttotal: 560ms\tremaining: 389ms\n",
      "590:\tlearn: 0.0899846\ttotal: 561ms\tremaining: 388ms\n",
      "591:\tlearn: 0.0898117\ttotal: 562ms\tremaining: 387ms\n",
      "592:\tlearn: 0.0896704\ttotal: 563ms\tremaining: 386ms\n",
      "593:\tlearn: 0.0896150\ttotal: 564ms\tremaining: 386ms\n",
      "594:\tlearn: 0.0894431\ttotal: 565ms\tremaining: 385ms\n",
      "595:\tlearn: 0.0892685\ttotal: 566ms\tremaining: 384ms\n",
      "596:\tlearn: 0.0891202\ttotal: 567ms\tremaining: 383ms\n",
      "597:\tlearn: 0.0888320\ttotal: 568ms\tremaining: 382ms\n",
      "598:\tlearn: 0.0886734\ttotal: 569ms\tremaining: 381ms\n",
      "599:\tlearn: 0.0884390\ttotal: 570ms\tremaining: 380ms\n",
      "600:\tlearn: 0.0883864\ttotal: 571ms\tremaining: 379ms\n",
      "601:\tlearn: 0.0882569\ttotal: 571ms\tremaining: 378ms\n",
      "602:\tlearn: 0.0881320\ttotal: 572ms\tremaining: 377ms\n",
      "603:\tlearn: 0.0880441\ttotal: 573ms\tremaining: 376ms\n",
      "604:\tlearn: 0.0879185\ttotal: 574ms\tremaining: 375ms\n",
      "605:\tlearn: 0.0877442\ttotal: 575ms\tremaining: 374ms\n",
      "606:\tlearn: 0.0875589\ttotal: 576ms\tremaining: 373ms\n",
      "607:\tlearn: 0.0874867\ttotal: 577ms\tremaining: 372ms\n",
      "608:\tlearn: 0.0872762\ttotal: 578ms\tremaining: 371ms\n",
      "609:\tlearn: 0.0870810\ttotal: 578ms\tremaining: 370ms\n",
      "610:\tlearn: 0.0869020\ttotal: 579ms\tremaining: 369ms\n",
      "611:\tlearn: 0.0868121\ttotal: 580ms\tremaining: 368ms\n",
      "612:\tlearn: 0.0866602\ttotal: 581ms\tremaining: 367ms\n",
      "613:\tlearn: 0.0865185\ttotal: 582ms\tremaining: 366ms\n",
      "614:\tlearn: 0.0864151\ttotal: 583ms\tremaining: 365ms\n",
      "615:\tlearn: 0.0863660\ttotal: 584ms\tremaining: 364ms\n",
      "616:\tlearn: 0.0862935\ttotal: 585ms\tremaining: 363ms\n",
      "617:\tlearn: 0.0861681\ttotal: 585ms\tremaining: 362ms\n",
      "618:\tlearn: 0.0860042\ttotal: 586ms\tremaining: 361ms\n",
      "619:\tlearn: 0.0858924\ttotal: 587ms\tremaining: 360ms\n",
      "620:\tlearn: 0.0857299\ttotal: 588ms\tremaining: 359ms\n",
      "621:\tlearn: 0.0855984\ttotal: 589ms\tremaining: 358ms\n",
      "622:\tlearn: 0.0855639\ttotal: 590ms\tremaining: 357ms\n",
      "623:\tlearn: 0.0854124\ttotal: 591ms\tremaining: 356ms\n",
      "624:\tlearn: 0.0853461\ttotal: 591ms\tremaining: 355ms\n",
      "625:\tlearn: 0.0851651\ttotal: 592ms\tremaining: 354ms\n",
      "626:\tlearn: 0.0849387\ttotal: 593ms\tremaining: 353ms\n",
      "627:\tlearn: 0.0847504\ttotal: 594ms\tremaining: 352ms\n",
      "628:\tlearn: 0.0845682\ttotal: 595ms\tremaining: 351ms\n",
      "629:\tlearn: 0.0843663\ttotal: 596ms\tremaining: 350ms\n"
     ]
    },
    {
     "name": "stdout",
     "output_type": "stream",
     "text": [
      "630:\tlearn: 0.0841601\ttotal: 597ms\tremaining: 349ms\n",
      "631:\tlearn: 0.0841105\ttotal: 598ms\tremaining: 348ms\n",
      "632:\tlearn: 0.0838675\ttotal: 599ms\tremaining: 347ms\n",
      "633:\tlearn: 0.0837407\ttotal: 600ms\tremaining: 346ms\n",
      "634:\tlearn: 0.0836572\ttotal: 601ms\tremaining: 345ms\n",
      "635:\tlearn: 0.0835705\ttotal: 602ms\tremaining: 344ms\n",
      "636:\tlearn: 0.0833803\ttotal: 602ms\tremaining: 343ms\n",
      "637:\tlearn: 0.0832231\ttotal: 603ms\tremaining: 342ms\n",
      "638:\tlearn: 0.0831097\ttotal: 604ms\tremaining: 341ms\n",
      "639:\tlearn: 0.0830648\ttotal: 605ms\tremaining: 340ms\n",
      "640:\tlearn: 0.0829966\ttotal: 606ms\tremaining: 339ms\n",
      "641:\tlearn: 0.0827979\ttotal: 607ms\tremaining: 338ms\n",
      "642:\tlearn: 0.0825874\ttotal: 608ms\tremaining: 337ms\n",
      "643:\tlearn: 0.0824818\ttotal: 609ms\tremaining: 336ms\n",
      "644:\tlearn: 0.0823341\ttotal: 610ms\tremaining: 335ms\n",
      "645:\tlearn: 0.0822566\ttotal: 611ms\tremaining: 335ms\n",
      "646:\tlearn: 0.0821028\ttotal: 611ms\tremaining: 334ms\n",
      "647:\tlearn: 0.0819960\ttotal: 612ms\tremaining: 333ms\n",
      "648:\tlearn: 0.0819369\ttotal: 613ms\tremaining: 332ms\n",
      "649:\tlearn: 0.0817466\ttotal: 614ms\tremaining: 331ms\n",
      "650:\tlearn: 0.0816312\ttotal: 615ms\tremaining: 330ms\n",
      "651:\tlearn: 0.0815554\ttotal: 616ms\tremaining: 329ms\n",
      "652:\tlearn: 0.0814169\ttotal: 617ms\tremaining: 328ms\n",
      "653:\tlearn: 0.0813093\ttotal: 618ms\tremaining: 327ms\n",
      "654:\tlearn: 0.0812685\ttotal: 619ms\tremaining: 326ms\n",
      "655:\tlearn: 0.0810701\ttotal: 620ms\tremaining: 325ms\n",
      "656:\tlearn: 0.0808383\ttotal: 620ms\tremaining: 324ms\n",
      "657:\tlearn: 0.0805941\ttotal: 621ms\tremaining: 323ms\n",
      "658:\tlearn: 0.0804462\ttotal: 622ms\tremaining: 322ms\n",
      "659:\tlearn: 0.0802690\ttotal: 623ms\tremaining: 321ms\n",
      "660:\tlearn: 0.0802294\ttotal: 624ms\tremaining: 320ms\n",
      "661:\tlearn: 0.0800806\ttotal: 625ms\tremaining: 319ms\n",
      "662:\tlearn: 0.0799278\ttotal: 626ms\tremaining: 318ms\n",
      "663:\tlearn: 0.0797120\ttotal: 626ms\tremaining: 317ms\n",
      "664:\tlearn: 0.0795787\ttotal: 627ms\tremaining: 316ms\n",
      "665:\tlearn: 0.0794448\ttotal: 628ms\tremaining: 315ms\n",
      "666:\tlearn: 0.0792612\ttotal: 629ms\tremaining: 314ms\n",
      "667:\tlearn: 0.0791494\ttotal: 630ms\tremaining: 313ms\n",
      "668:\tlearn: 0.0790439\ttotal: 631ms\tremaining: 312ms\n",
      "669:\tlearn: 0.0789170\ttotal: 631ms\tremaining: 311ms\n",
      "670:\tlearn: 0.0787796\ttotal: 632ms\tremaining: 310ms\n",
      "671:\tlearn: 0.0787625\ttotal: 633ms\tremaining: 309ms\n",
      "672:\tlearn: 0.0786368\ttotal: 634ms\tremaining: 308ms\n",
      "673:\tlearn: 0.0783153\ttotal: 635ms\tremaining: 307ms\n",
      "674:\tlearn: 0.0781712\ttotal: 636ms\tremaining: 306ms\n",
      "675:\tlearn: 0.0780052\ttotal: 637ms\tremaining: 305ms\n",
      "676:\tlearn: 0.0779861\ttotal: 638ms\tremaining: 304ms\n",
      "677:\tlearn: 0.0779766\ttotal: 639ms\tremaining: 303ms\n",
      "678:\tlearn: 0.0778225\ttotal: 639ms\tremaining: 302ms\n",
      "679:\tlearn: 0.0776753\ttotal: 640ms\tremaining: 301ms\n",
      "680:\tlearn: 0.0776044\ttotal: 641ms\tremaining: 300ms\n",
      "681:\tlearn: 0.0774530\ttotal: 642ms\tremaining: 299ms\n",
      "682:\tlearn: 0.0773298\ttotal: 643ms\tremaining: 298ms\n",
      "683:\tlearn: 0.0772830\ttotal: 644ms\tremaining: 297ms\n",
      "684:\tlearn: 0.0771675\ttotal: 645ms\tremaining: 297ms\n",
      "685:\tlearn: 0.0769958\ttotal: 646ms\tremaining: 296ms\n",
      "686:\tlearn: 0.0768995\ttotal: 647ms\tremaining: 295ms\n",
      "687:\tlearn: 0.0767974\ttotal: 648ms\tremaining: 294ms\n",
      "688:\tlearn: 0.0766579\ttotal: 649ms\tremaining: 293ms\n",
      "689:\tlearn: 0.0764104\ttotal: 650ms\tremaining: 292ms\n",
      "690:\tlearn: 0.0762378\ttotal: 651ms\tremaining: 291ms\n",
      "691:\tlearn: 0.0761320\ttotal: 651ms\tremaining: 290ms\n",
      "692:\tlearn: 0.0760507\ttotal: 652ms\tremaining: 289ms\n",
      "693:\tlearn: 0.0759363\ttotal: 653ms\tremaining: 288ms\n",
      "694:\tlearn: 0.0758427\ttotal: 654ms\tremaining: 287ms\n",
      "695:\tlearn: 0.0758031\ttotal: 655ms\tremaining: 286ms\n",
      "696:\tlearn: 0.0757377\ttotal: 656ms\tremaining: 285ms\n",
      "697:\tlearn: 0.0756312\ttotal: 657ms\tremaining: 284ms\n",
      "698:\tlearn: 0.0754523\ttotal: 658ms\tremaining: 283ms\n",
      "699:\tlearn: 0.0753239\ttotal: 659ms\tremaining: 282ms\n",
      "700:\tlearn: 0.0751318\ttotal: 660ms\tremaining: 281ms\n",
      "701:\tlearn: 0.0749410\ttotal: 661ms\tremaining: 281ms\n",
      "702:\tlearn: 0.0747288\ttotal: 662ms\tremaining: 280ms\n",
      "703:\tlearn: 0.0745697\ttotal: 662ms\tremaining: 279ms\n",
      "704:\tlearn: 0.0744037\ttotal: 663ms\tremaining: 278ms\n",
      "705:\tlearn: 0.0742432\ttotal: 664ms\tremaining: 277ms\n",
      "706:\tlearn: 0.0741784\ttotal: 665ms\tremaining: 276ms\n",
      "707:\tlearn: 0.0741707\ttotal: 666ms\tremaining: 275ms\n",
      "708:\tlearn: 0.0739973\ttotal: 667ms\tremaining: 274ms\n",
      "709:\tlearn: 0.0737819\ttotal: 668ms\tremaining: 273ms\n",
      "710:\tlearn: 0.0736469\ttotal: 669ms\tremaining: 272ms\n",
      "711:\tlearn: 0.0735358\ttotal: 669ms\tremaining: 271ms\n",
      "712:\tlearn: 0.0734348\ttotal: 670ms\tremaining: 270ms\n",
      "713:\tlearn: 0.0733045\ttotal: 671ms\tremaining: 269ms\n",
      "714:\tlearn: 0.0731506\ttotal: 672ms\tremaining: 268ms\n",
      "715:\tlearn: 0.0731283\ttotal: 673ms\tremaining: 267ms\n",
      "716:\tlearn: 0.0730002\ttotal: 674ms\tremaining: 266ms\n",
      "717:\tlearn: 0.0728463\ttotal: 675ms\tremaining: 265ms\n",
      "718:\tlearn: 0.0726906\ttotal: 676ms\tremaining: 264ms\n",
      "719:\tlearn: 0.0725411\ttotal: 677ms\tremaining: 263ms\n",
      "720:\tlearn: 0.0723455\ttotal: 678ms\tremaining: 262ms\n",
      "721:\tlearn: 0.0722057\ttotal: 678ms\tremaining: 261ms\n",
      "722:\tlearn: 0.0721256\ttotal: 679ms\tremaining: 260ms\n",
      "723:\tlearn: 0.0720230\ttotal: 680ms\tremaining: 259ms\n",
      "724:\tlearn: 0.0718480\ttotal: 681ms\tremaining: 258ms\n",
      "725:\tlearn: 0.0718270\ttotal: 682ms\tremaining: 257ms\n",
      "726:\tlearn: 0.0717959\ttotal: 683ms\tremaining: 256ms\n",
      "727:\tlearn: 0.0716005\ttotal: 684ms\tremaining: 255ms\n",
      "728:\tlearn: 0.0713797\ttotal: 685ms\tremaining: 255ms\n",
      "729:\tlearn: 0.0712539\ttotal: 686ms\tremaining: 254ms\n",
      "730:\tlearn: 0.0712221\ttotal: 687ms\tremaining: 253ms\n",
      "731:\tlearn: 0.0710670\ttotal: 687ms\tremaining: 252ms\n",
      "732:\tlearn: 0.0709231\ttotal: 688ms\tremaining: 251ms\n",
      "733:\tlearn: 0.0707584\ttotal: 689ms\tremaining: 250ms\n",
      "734:\tlearn: 0.0706413\ttotal: 690ms\tremaining: 249ms\n",
      "735:\tlearn: 0.0706284\ttotal: 691ms\tremaining: 248ms\n",
      "736:\tlearn: 0.0704739\ttotal: 692ms\tremaining: 247ms\n",
      "737:\tlearn: 0.0704228\ttotal: 693ms\tremaining: 246ms\n",
      "738:\tlearn: 0.0704045\ttotal: 694ms\tremaining: 245ms\n",
      "739:\tlearn: 0.0703381\ttotal: 694ms\tremaining: 244ms\n",
      "740:\tlearn: 0.0702682\ttotal: 695ms\tremaining: 243ms\n",
      "741:\tlearn: 0.0701978\ttotal: 696ms\tremaining: 242ms\n",
      "742:\tlearn: 0.0700696\ttotal: 697ms\tremaining: 241ms\n",
      "743:\tlearn: 0.0699563\ttotal: 698ms\tremaining: 240ms\n",
      "744:\tlearn: 0.0699323\ttotal: 699ms\tremaining: 239ms\n",
      "745:\tlearn: 0.0699267\ttotal: 699ms\tremaining: 238ms\n",
      "746:\tlearn: 0.0699074\ttotal: 700ms\tremaining: 237ms\n",
      "747:\tlearn: 0.0697994\ttotal: 701ms\tremaining: 236ms\n",
      "748:\tlearn: 0.0696424\ttotal: 702ms\tremaining: 235ms\n",
      "749:\tlearn: 0.0695596\ttotal: 703ms\tremaining: 234ms\n",
      "750:\tlearn: 0.0694210\ttotal: 704ms\tremaining: 233ms\n",
      "751:\tlearn: 0.0693719\ttotal: 705ms\tremaining: 232ms\n",
      "752:\tlearn: 0.0692823\ttotal: 706ms\tremaining: 231ms\n",
      "753:\tlearn: 0.0692457\ttotal: 707ms\tremaining: 231ms\n",
      "754:\tlearn: 0.0690761\ttotal: 707ms\tremaining: 230ms\n",
      "755:\tlearn: 0.0689585\ttotal: 708ms\tremaining: 229ms\n",
      "756:\tlearn: 0.0688618\ttotal: 709ms\tremaining: 228ms\n",
      "757:\tlearn: 0.0687686\ttotal: 710ms\tremaining: 227ms\n",
      "758:\tlearn: 0.0686973\ttotal: 711ms\tremaining: 226ms\n",
      "759:\tlearn: 0.0685991\ttotal: 712ms\tremaining: 225ms\n",
      "760:\tlearn: 0.0685672\ttotal: 713ms\tremaining: 224ms\n",
      "761:\tlearn: 0.0684031\ttotal: 714ms\tremaining: 223ms\n",
      "762:\tlearn: 0.0683955\ttotal: 715ms\tremaining: 222ms\n",
      "763:\tlearn: 0.0682842\ttotal: 716ms\tremaining: 221ms\n",
      "764:\tlearn: 0.0682346\ttotal: 716ms\tremaining: 220ms\n",
      "765:\tlearn: 0.0680766\ttotal: 717ms\tremaining: 219ms\n",
      "766:\tlearn: 0.0680041\ttotal: 718ms\tremaining: 218ms\n",
      "767:\tlearn: 0.0678880\ttotal: 719ms\tremaining: 217ms\n",
      "768:\tlearn: 0.0677719\ttotal: 720ms\tremaining: 216ms\n",
      "769:\tlearn: 0.0676595\ttotal: 720ms\tremaining: 215ms\n",
      "770:\tlearn: 0.0676359\ttotal: 721ms\tremaining: 214ms\n",
      "771:\tlearn: 0.0675867\ttotal: 722ms\tremaining: 213ms\n",
      "772:\tlearn: 0.0674346\ttotal: 723ms\tremaining: 212ms\n",
      "773:\tlearn: 0.0674033\ttotal: 724ms\tremaining: 211ms\n",
      "774:\tlearn: 0.0672990\ttotal: 724ms\tremaining: 210ms\n",
      "775:\tlearn: 0.0671001\ttotal: 725ms\tremaining: 209ms\n",
      "776:\tlearn: 0.0670065\ttotal: 726ms\tremaining: 208ms\n",
      "777:\tlearn: 0.0668850\ttotal: 727ms\tremaining: 207ms\n",
      "778:\tlearn: 0.0668437\ttotal: 728ms\tremaining: 206ms\n",
      "779:\tlearn: 0.0667704\ttotal: 729ms\tremaining: 206ms\n",
      "780:\tlearn: 0.0665507\ttotal: 729ms\tremaining: 205ms\n",
      "781:\tlearn: 0.0665001\ttotal: 730ms\tremaining: 204ms\n",
      "782:\tlearn: 0.0663598\ttotal: 731ms\tremaining: 203ms\n"
     ]
    },
    {
     "name": "stdout",
     "output_type": "stream",
     "text": [
      "783:\tlearn: 0.0662169\ttotal: 732ms\tremaining: 202ms\n",
      "784:\tlearn: 0.0660709\ttotal: 733ms\tremaining: 201ms\n",
      "785:\tlearn: 0.0659916\ttotal: 734ms\tremaining: 200ms\n",
      "786:\tlearn: 0.0658679\ttotal: 735ms\tremaining: 199ms\n",
      "787:\tlearn: 0.0657576\ttotal: 736ms\tremaining: 198ms\n",
      "788:\tlearn: 0.0656562\ttotal: 736ms\tremaining: 197ms\n",
      "789:\tlearn: 0.0655531\ttotal: 737ms\tremaining: 196ms\n",
      "790:\tlearn: 0.0654748\ttotal: 738ms\tremaining: 195ms\n",
      "791:\tlearn: 0.0654637\ttotal: 739ms\tremaining: 194ms\n",
      "792:\tlearn: 0.0654527\ttotal: 740ms\tremaining: 193ms\n",
      "793:\tlearn: 0.0653804\ttotal: 741ms\tremaining: 192ms\n",
      "794:\tlearn: 0.0652748\ttotal: 742ms\tremaining: 191ms\n",
      "795:\tlearn: 0.0651323\ttotal: 742ms\tremaining: 190ms\n",
      "796:\tlearn: 0.0649861\ttotal: 743ms\tremaining: 189ms\n",
      "797:\tlearn: 0.0647858\ttotal: 744ms\tremaining: 188ms\n",
      "798:\tlearn: 0.0646473\ttotal: 745ms\tremaining: 187ms\n",
      "799:\tlearn: 0.0645258\ttotal: 746ms\tremaining: 186ms\n",
      "800:\tlearn: 0.0644288\ttotal: 747ms\tremaining: 185ms\n",
      "801:\tlearn: 0.0643219\ttotal: 747ms\tremaining: 185ms\n",
      "802:\tlearn: 0.0643038\ttotal: 748ms\tremaining: 184ms\n",
      "803:\tlearn: 0.0641648\ttotal: 749ms\tremaining: 183ms\n",
      "804:\tlearn: 0.0639732\ttotal: 750ms\tremaining: 182ms\n",
      "805:\tlearn: 0.0638763\ttotal: 751ms\tremaining: 181ms\n",
      "806:\tlearn: 0.0638218\ttotal: 752ms\tremaining: 180ms\n",
      "807:\tlearn: 0.0637223\ttotal: 753ms\tremaining: 179ms\n",
      "808:\tlearn: 0.0636523\ttotal: 753ms\tremaining: 178ms\n",
      "809:\tlearn: 0.0635453\ttotal: 754ms\tremaining: 177ms\n",
      "810:\tlearn: 0.0634435\ttotal: 756ms\tremaining: 176ms\n",
      "811:\tlearn: 0.0634377\ttotal: 756ms\tremaining: 175ms\n",
      "812:\tlearn: 0.0633576\ttotal: 757ms\tremaining: 174ms\n",
      "813:\tlearn: 0.0632868\ttotal: 758ms\tremaining: 173ms\n",
      "814:\tlearn: 0.0631735\ttotal: 759ms\tremaining: 172ms\n",
      "815:\tlearn: 0.0631080\ttotal: 760ms\tremaining: 171ms\n",
      "816:\tlearn: 0.0630116\ttotal: 761ms\tremaining: 170ms\n",
      "817:\tlearn: 0.0629545\ttotal: 762ms\tremaining: 169ms\n",
      "818:\tlearn: 0.0628518\ttotal: 762ms\tremaining: 169ms\n",
      "819:\tlearn: 0.0627395\ttotal: 763ms\tremaining: 168ms\n",
      "820:\tlearn: 0.0626411\ttotal: 764ms\tremaining: 167ms\n",
      "821:\tlearn: 0.0625853\ttotal: 765ms\tremaining: 166ms\n",
      "822:\tlearn: 0.0624504\ttotal: 766ms\tremaining: 165ms\n",
      "823:\tlearn: 0.0623491\ttotal: 767ms\tremaining: 164ms\n",
      "824:\tlearn: 0.0622529\ttotal: 768ms\tremaining: 163ms\n",
      "825:\tlearn: 0.0622032\ttotal: 769ms\tremaining: 162ms\n",
      "826:\tlearn: 0.0620909\ttotal: 770ms\tremaining: 161ms\n",
      "827:\tlearn: 0.0620684\ttotal: 771ms\tremaining: 160ms\n",
      "828:\tlearn: 0.0619067\ttotal: 771ms\tremaining: 159ms\n",
      "829:\tlearn: 0.0618468\ttotal: 772ms\tremaining: 158ms\n",
      "830:\tlearn: 0.0617443\ttotal: 773ms\tremaining: 157ms\n",
      "831:\tlearn: 0.0616761\ttotal: 774ms\tremaining: 156ms\n",
      "832:\tlearn: 0.0616629\ttotal: 775ms\tremaining: 155ms\n",
      "833:\tlearn: 0.0616320\ttotal: 776ms\tremaining: 154ms\n",
      "834:\tlearn: 0.0616230\ttotal: 777ms\tremaining: 154ms\n",
      "835:\tlearn: 0.0615101\ttotal: 778ms\tremaining: 153ms\n",
      "836:\tlearn: 0.0614157\ttotal: 779ms\tremaining: 152ms\n",
      "837:\tlearn: 0.0613542\ttotal: 780ms\tremaining: 151ms\n",
      "838:\tlearn: 0.0612999\ttotal: 781ms\tremaining: 150ms\n",
      "839:\tlearn: 0.0612600\ttotal: 782ms\tremaining: 149ms\n",
      "840:\tlearn: 0.0612013\ttotal: 783ms\tremaining: 148ms\n",
      "841:\tlearn: 0.0611616\ttotal: 784ms\tremaining: 147ms\n",
      "842:\tlearn: 0.0610931\ttotal: 784ms\tremaining: 146ms\n",
      "843:\tlearn: 0.0610003\ttotal: 785ms\tremaining: 145ms\n",
      "844:\tlearn: 0.0608860\ttotal: 786ms\tremaining: 144ms\n",
      "845:\tlearn: 0.0608483\ttotal: 787ms\tremaining: 143ms\n",
      "846:\tlearn: 0.0606777\ttotal: 788ms\tremaining: 142ms\n",
      "847:\tlearn: 0.0606074\ttotal: 789ms\tremaining: 141ms\n",
      "848:\tlearn: 0.0605671\ttotal: 790ms\tremaining: 140ms\n",
      "849:\tlearn: 0.0604771\ttotal: 791ms\tremaining: 140ms\n",
      "850:\tlearn: 0.0603361\ttotal: 791ms\tremaining: 139ms\n",
      "851:\tlearn: 0.0602685\ttotal: 792ms\tremaining: 138ms\n",
      "852:\tlearn: 0.0602452\ttotal: 793ms\tremaining: 137ms\n",
      "853:\tlearn: 0.0601052\ttotal: 794ms\tremaining: 136ms\n",
      "854:\tlearn: 0.0600944\ttotal: 795ms\tremaining: 135ms\n",
      "855:\tlearn: 0.0599829\ttotal: 796ms\tremaining: 134ms\n",
      "856:\tlearn: 0.0598857\ttotal: 797ms\tremaining: 133ms\n",
      "857:\tlearn: 0.0597893\ttotal: 798ms\tremaining: 132ms\n",
      "858:\tlearn: 0.0597680\ttotal: 799ms\tremaining: 131ms\n",
      "859:\tlearn: 0.0596651\ttotal: 799ms\tremaining: 130ms\n",
      "860:\tlearn: 0.0595371\ttotal: 800ms\tremaining: 129ms\n",
      "861:\tlearn: 0.0595114\ttotal: 801ms\tremaining: 128ms\n",
      "862:\tlearn: 0.0594300\ttotal: 802ms\tremaining: 127ms\n",
      "863:\tlearn: 0.0593506\ttotal: 803ms\tremaining: 126ms\n",
      "864:\tlearn: 0.0592294\ttotal: 804ms\tremaining: 125ms\n",
      "865:\tlearn: 0.0590719\ttotal: 805ms\tremaining: 125ms\n",
      "866:\tlearn: 0.0589441\ttotal: 806ms\tremaining: 124ms\n",
      "867:\tlearn: 0.0588709\ttotal: 807ms\tremaining: 123ms\n",
      "868:\tlearn: 0.0587494\ttotal: 807ms\tremaining: 122ms\n",
      "869:\tlearn: 0.0586403\ttotal: 808ms\tremaining: 121ms\n",
      "870:\tlearn: 0.0585390\ttotal: 809ms\tremaining: 120ms\n",
      "871:\tlearn: 0.0583942\ttotal: 810ms\tremaining: 119ms\n",
      "872:\tlearn: 0.0583525\ttotal: 811ms\tremaining: 118ms\n",
      "873:\tlearn: 0.0582287\ttotal: 812ms\tremaining: 117ms\n",
      "874:\tlearn: 0.0581800\ttotal: 813ms\tremaining: 116ms\n",
      "875:\tlearn: 0.0581462\ttotal: 814ms\tremaining: 115ms\n",
      "876:\tlearn: 0.0580545\ttotal: 815ms\tremaining: 114ms\n",
      "877:\tlearn: 0.0579948\ttotal: 816ms\tremaining: 113ms\n",
      "878:\tlearn: 0.0579034\ttotal: 817ms\tremaining: 112ms\n",
      "879:\tlearn: 0.0577383\ttotal: 817ms\tremaining: 111ms\n",
      "880:\tlearn: 0.0576316\ttotal: 818ms\tremaining: 111ms\n",
      "881:\tlearn: 0.0576171\ttotal: 819ms\tremaining: 110ms\n",
      "882:\tlearn: 0.0576045\ttotal: 820ms\tremaining: 109ms\n",
      "883:\tlearn: 0.0575171\ttotal: 821ms\tremaining: 108ms\n",
      "884:\tlearn: 0.0574399\ttotal: 822ms\tremaining: 107ms\n",
      "885:\tlearn: 0.0573383\ttotal: 823ms\tremaining: 106ms\n",
      "886:\tlearn: 0.0573307\ttotal: 823ms\tremaining: 105ms\n",
      "887:\tlearn: 0.0572978\ttotal: 824ms\tremaining: 104ms\n",
      "888:\tlearn: 0.0572396\ttotal: 825ms\tremaining: 103ms\n",
      "889:\tlearn: 0.0572007\ttotal: 826ms\tremaining: 102ms\n",
      "890:\tlearn: 0.0570858\ttotal: 827ms\tremaining: 101ms\n",
      "891:\tlearn: 0.0569193\ttotal: 828ms\tremaining: 100ms\n",
      "892:\tlearn: 0.0568378\ttotal: 829ms\tremaining: 99.3ms\n",
      "893:\tlearn: 0.0568063\ttotal: 830ms\tremaining: 98.4ms\n",
      "894:\tlearn: 0.0566618\ttotal: 831ms\tremaining: 97.5ms\n",
      "895:\tlearn: 0.0566553\ttotal: 832ms\tremaining: 96.5ms\n",
      "896:\tlearn: 0.0566132\ttotal: 832ms\tremaining: 95.6ms\n",
      "897:\tlearn: 0.0565200\ttotal: 833ms\tremaining: 94.6ms\n",
      "898:\tlearn: 0.0564311\ttotal: 834ms\tremaining: 93.7ms\n",
      "899:\tlearn: 0.0563934\ttotal: 835ms\tremaining: 92.8ms\n",
      "900:\tlearn: 0.0563052\ttotal: 836ms\tremaining: 91.8ms\n",
      "901:\tlearn: 0.0562944\ttotal: 837ms\tremaining: 90.9ms\n",
      "902:\tlearn: 0.0561531\ttotal: 838ms\tremaining: 90ms\n",
      "903:\tlearn: 0.0560403\ttotal: 839ms\tremaining: 89ms\n",
      "904:\tlearn: 0.0559984\ttotal: 840ms\tremaining: 88.1ms\n",
      "905:\tlearn: 0.0559013\ttotal: 840ms\tremaining: 87.2ms\n",
      "906:\tlearn: 0.0558841\ttotal: 841ms\tremaining: 86.3ms\n",
      "907:\tlearn: 0.0557604\ttotal: 842ms\tremaining: 85.3ms\n",
      "908:\tlearn: 0.0556606\ttotal: 843ms\tremaining: 84.4ms\n",
      "909:\tlearn: 0.0555786\ttotal: 844ms\tremaining: 83.5ms\n",
      "910:\tlearn: 0.0554765\ttotal: 845ms\tremaining: 82.5ms\n",
      "911:\tlearn: 0.0554404\ttotal: 846ms\tremaining: 81.6ms\n",
      "912:\tlearn: 0.0553918\ttotal: 847ms\tremaining: 80.7ms\n",
      "913:\tlearn: 0.0553207\ttotal: 848ms\tremaining: 79.8ms\n",
      "914:\tlearn: 0.0552962\ttotal: 849ms\tremaining: 78.8ms\n",
      "915:\tlearn: 0.0552604\ttotal: 850ms\tremaining: 77.9ms\n",
      "916:\tlearn: 0.0552417\ttotal: 851ms\tremaining: 77ms\n",
      "917:\tlearn: 0.0552127\ttotal: 852ms\tremaining: 76.1ms\n",
      "918:\tlearn: 0.0550354\ttotal: 852ms\tremaining: 75.1ms\n",
      "919:\tlearn: 0.0550153\ttotal: 853ms\tremaining: 74.2ms\n",
      "920:\tlearn: 0.0548826\ttotal: 854ms\tremaining: 73.3ms\n",
      "921:\tlearn: 0.0548514\ttotal: 855ms\tremaining: 72.3ms\n",
      "922:\tlearn: 0.0548307\ttotal: 856ms\tremaining: 71.4ms\n",
      "923:\tlearn: 0.0546783\ttotal: 857ms\tremaining: 70.5ms\n",
      "924:\tlearn: 0.0545910\ttotal: 858ms\tremaining: 69.6ms\n",
      "925:\tlearn: 0.0544844\ttotal: 859ms\tremaining: 68.6ms\n",
      "926:\tlearn: 0.0543605\ttotal: 860ms\tremaining: 67.7ms\n",
      "927:\tlearn: 0.0543106\ttotal: 861ms\tremaining: 66.8ms\n",
      "928:\tlearn: 0.0542210\ttotal: 861ms\tremaining: 65.8ms\n",
      "929:\tlearn: 0.0542024\ttotal: 862ms\tremaining: 64.9ms\n",
      "930:\tlearn: 0.0540810\ttotal: 863ms\tremaining: 64ms\n",
      "931:\tlearn: 0.0540219\ttotal: 864ms\tremaining: 63ms\n",
      "932:\tlearn: 0.0539942\ttotal: 865ms\tremaining: 62.1ms\n",
      "933:\tlearn: 0.0539493\ttotal: 866ms\tremaining: 61.2ms\n",
      "934:\tlearn: 0.0538374\ttotal: 867ms\tremaining: 60.3ms\n",
      "935:\tlearn: 0.0537346\ttotal: 868ms\tremaining: 59.3ms\n"
     ]
    },
    {
     "name": "stdout",
     "output_type": "stream",
     "text": [
      "936:\tlearn: 0.0536359\ttotal: 869ms\tremaining: 58.4ms\n",
      "937:\tlearn: 0.0535574\ttotal: 870ms\tremaining: 57.5ms\n",
      "938:\tlearn: 0.0535493\ttotal: 871ms\tremaining: 56.6ms\n",
      "939:\tlearn: 0.0534768\ttotal: 872ms\tremaining: 55.7ms\n",
      "940:\tlearn: 0.0533973\ttotal: 873ms\tremaining: 54.7ms\n",
      "941:\tlearn: 0.0532553\ttotal: 874ms\tremaining: 53.8ms\n",
      "942:\tlearn: 0.0532287\ttotal: 875ms\tremaining: 52.9ms\n",
      "943:\tlearn: 0.0531332\ttotal: 876ms\tremaining: 52ms\n",
      "944:\tlearn: 0.0531034\ttotal: 877ms\tremaining: 51ms\n",
      "945:\tlearn: 0.0529759\ttotal: 878ms\tremaining: 50.1ms\n",
      "946:\tlearn: 0.0529580\ttotal: 879ms\tremaining: 49.2ms\n",
      "947:\tlearn: 0.0528712\ttotal: 880ms\tremaining: 48.3ms\n",
      "948:\tlearn: 0.0527849\ttotal: 881ms\tremaining: 47.4ms\n",
      "949:\tlearn: 0.0527634\ttotal: 882ms\tremaining: 46.4ms\n",
      "950:\tlearn: 0.0526793\ttotal: 883ms\tremaining: 45.5ms\n",
      "951:\tlearn: 0.0526004\ttotal: 884ms\tremaining: 44.6ms\n",
      "952:\tlearn: 0.0525196\ttotal: 885ms\tremaining: 43.6ms\n",
      "953:\tlearn: 0.0524590\ttotal: 886ms\tremaining: 42.7ms\n",
      "954:\tlearn: 0.0524450\ttotal: 887ms\tremaining: 41.8ms\n",
      "955:\tlearn: 0.0523749\ttotal: 887ms\tremaining: 40.8ms\n",
      "956:\tlearn: 0.0522905\ttotal: 888ms\tremaining: 39.9ms\n",
      "957:\tlearn: 0.0522798\ttotal: 889ms\tremaining: 39ms\n",
      "958:\tlearn: 0.0522349\ttotal: 890ms\tremaining: 38.1ms\n",
      "959:\tlearn: 0.0521835\ttotal: 891ms\tremaining: 37.1ms\n",
      "960:\tlearn: 0.0521748\ttotal: 892ms\tremaining: 36.2ms\n",
      "961:\tlearn: 0.0520828\ttotal: 893ms\tremaining: 35.3ms\n",
      "962:\tlearn: 0.0520409\ttotal: 894ms\tremaining: 34.3ms\n",
      "963:\tlearn: 0.0519950\ttotal: 895ms\tremaining: 33.4ms\n",
      "964:\tlearn: 0.0518860\ttotal: 896ms\tremaining: 32.5ms\n",
      "965:\tlearn: 0.0518332\ttotal: 897ms\tremaining: 31.6ms\n",
      "966:\tlearn: 0.0518195\ttotal: 897ms\tremaining: 30.6ms\n",
      "967:\tlearn: 0.0517333\ttotal: 898ms\tremaining: 29.7ms\n",
      "968:\tlearn: 0.0516322\ttotal: 899ms\tremaining: 28.8ms\n",
      "969:\tlearn: 0.0515024\ttotal: 900ms\tremaining: 27.8ms\n",
      "970:\tlearn: 0.0514630\ttotal: 901ms\tremaining: 26.9ms\n",
      "971:\tlearn: 0.0514133\ttotal: 902ms\tremaining: 26ms\n",
      "972:\tlearn: 0.0513706\ttotal: 903ms\tremaining: 25.1ms\n",
      "973:\tlearn: 0.0512752\ttotal: 904ms\tremaining: 24.1ms\n",
      "974:\tlearn: 0.0511928\ttotal: 905ms\tremaining: 23.2ms\n",
      "975:\tlearn: 0.0510829\ttotal: 906ms\tremaining: 22.3ms\n",
      "976:\tlearn: 0.0510427\ttotal: 907ms\tremaining: 21.3ms\n",
      "977:\tlearn: 0.0509992\ttotal: 907ms\tremaining: 20.4ms\n",
      "978:\tlearn: 0.0509525\ttotal: 908ms\tremaining: 19.5ms\n",
      "979:\tlearn: 0.0508359\ttotal: 909ms\tremaining: 18.6ms\n",
      "980:\tlearn: 0.0507554\ttotal: 910ms\tremaining: 17.6ms\n",
      "981:\tlearn: 0.0507375\ttotal: 911ms\tremaining: 16.7ms\n",
      "982:\tlearn: 0.0506751\ttotal: 911ms\tremaining: 15.8ms\n",
      "983:\tlearn: 0.0504927\ttotal: 912ms\tremaining: 14.8ms\n",
      "984:\tlearn: 0.0504794\ttotal: 913ms\tremaining: 13.9ms\n",
      "985:\tlearn: 0.0503768\ttotal: 914ms\tremaining: 13ms\n",
      "986:\tlearn: 0.0502532\ttotal: 915ms\tremaining: 12ms\n",
      "987:\tlearn: 0.0501766\ttotal: 916ms\tremaining: 11.1ms\n",
      "988:\tlearn: 0.0500820\ttotal: 916ms\tremaining: 10.2ms\n",
      "989:\tlearn: 0.0500604\ttotal: 917ms\tremaining: 9.27ms\n",
      "990:\tlearn: 0.0499653\ttotal: 918ms\tremaining: 8.34ms\n",
      "991:\tlearn: 0.0499297\ttotal: 919ms\tremaining: 7.41ms\n",
      "992:\tlearn: 0.0498057\ttotal: 920ms\tremaining: 6.48ms\n",
      "993:\tlearn: 0.0496710\ttotal: 921ms\tremaining: 5.56ms\n",
      "994:\tlearn: 0.0495865\ttotal: 921ms\tremaining: 4.63ms\n",
      "995:\tlearn: 0.0495362\ttotal: 922ms\tremaining: 3.7ms\n",
      "996:\tlearn: 0.0494472\ttotal: 923ms\tremaining: 2.78ms\n",
      "997:\tlearn: 0.0493118\ttotal: 924ms\tremaining: 1.85ms\n",
      "998:\tlearn: 0.0492851\ttotal: 925ms\tremaining: 925us\n",
      "999:\tlearn: 0.0491739\ttotal: 926ms\tremaining: 0us\n"
     ]
    },
    {
     "data": {
      "text/plain": [
       "<catboost.core.CatBoostRegressor at 0x7f912005a990>"
      ]
     },
     "execution_count": 9,
     "metadata": {},
     "output_type": "execute_result"
    }
   ],
   "source": [
    "#Train the Model \n",
    "prior_model = ctb.CatBoostRegressor()\n",
    "prior_model.fit(X_train,Y_train)"
   ]
  },
  {
   "cell_type": "code",
   "execution_count": 10,
   "id": "c775fd81",
   "metadata": {
    "execution": {
     "iopub.execute_input": "2022-01-15T03:48:20.487126Z",
     "iopub.status.busy": "2022-01-15T03:48:20.486643Z",
     "iopub.status.idle": "2022-01-15T03:48:20.498150Z",
     "shell.execute_reply": "2022-01-15T03:48:20.497621Z"
    },
    "papermill": {
     "duration": 0.03841,
     "end_time": "2022-01-15T03:48:20.498262",
     "exception": false,
     "start_time": "2022-01-15T03:48:20.459852",
     "status": "completed"
    },
    "tags": []
   },
   "outputs": [
    {
     "data": {
      "application/scrapbook.scrap.json+json": {
       "data": 0.10015928360022457,
       "encoder": "json",
       "name": "Prior Model MSE",
       "version": 1
      }
     },
     "metadata": {
      "scrapbook": {
       "data": true,
       "display": false,
       "name": "Prior Model MSE"
      }
     },
     "output_type": "display_data"
    },
    {
     "data": {
      "application/scrapbook.scrap.json+json": {
       "data": 1.211880628111773,
       "encoder": "json",
       "name": "ABC Pre-generator MSE",
       "version": 1
      }
     },
     "metadata": {
      "scrapbook": {
       "data": true,
       "display": false,
       "name": "ABC Pre-generator MSE"
      }
     },
     "output_type": "display_data"
    }
   ],
   "source": [
    "y_pred = prior_model.predict(X_test)\n",
    "y_abc = y_pred + np.random.normal(0,variance, y_pred.shape)\n",
    "mse = mean_squared_error(y_pred,Y_test)\n",
    "sb.glue(\"Prior Model MSE\",mse)\n",
    "mse = mean_squared_error(y_abc,Y_test)\n",
    "sb.glue(\"ABC Pre-generator MSE\",mse)"
   ]
  },
  {
   "cell_type": "markdown",
   "id": "0cd0def6",
   "metadata": {
    "papermill": {
     "duration": 0.023404,
     "end_time": "2022-01-15T03:48:20.544859",
     "exception": false,
     "start_time": "2022-01-15T03:48:20.521455",
     "status": "completed"
    },
    "tags": []
   },
   "source": [
    "# ABC GAN Model"
   ]
  },
  {
   "cell_type": "markdown",
   "id": "70beaf4c",
   "metadata": {
    "papermill": {
     "duration": 0.022732,
     "end_time": "2022-01-15T03:48:20.590407",
     "exception": false,
     "start_time": "2022-01-15T03:48:20.567675",
     "status": "completed"
    },
    "tags": []
   },
   "source": [
    "### Training the network\n",
    "**Training ABC-GAN for n_epochs number of epochs** "
   ]
  },
  {
   "cell_type": "code",
   "execution_count": 11,
   "id": "dbaaafa1",
   "metadata": {
    "execution": {
     "iopub.execute_input": "2022-01-15T03:48:20.645141Z",
     "iopub.status.busy": "2022-01-15T03:48:20.644650Z",
     "iopub.status.idle": "2022-01-15T03:48:28.910242Z",
     "shell.execute_reply": "2022-01-15T03:48:28.909802Z"
    },
    "papermill": {
     "duration": 8.297423,
     "end_time": "2022-01-15T03:48:28.910363",
     "exception": false,
     "start_time": "2022-01-15T03:48:20.612940",
     "status": "completed"
    },
    "tags": []
   },
   "outputs": [],
   "source": [
    "gen = network.Generator(n_features+1).to(device)\n",
    "disc = network.Discriminator(n_features+1).to(device)\n",
    "\n",
    "criterion = torch.nn.BCELoss()\n",
    "gen_opt = torch.optim.Adam(gen.parameters(), lr=0.001, betas=(0.5, 0.999))\n",
    "disc_opt = torch.optim.Adam(disc.parameters(), lr=0.01, betas=(0.5, 0.999))"
   ]
  },
  {
   "cell_type": "code",
   "execution_count": 12,
   "id": "6e9eeab8",
   "metadata": {
    "execution": {
     "iopub.execute_input": "2022-01-15T03:48:28.960670Z",
     "iopub.status.busy": "2022-01-15T03:48:28.960172Z",
     "iopub.status.idle": "2022-01-15T03:52:08.962367Z",
     "shell.execute_reply": "2022-01-15T03:52:08.961979Z"
    },
    "papermill": {
     "duration": 220.028451,
     "end_time": "2022-01-15T03:52:08.962484",
     "exception": false,
     "start_time": "2022-01-15T03:48:28.934033",
     "status": "completed"
    },
    "tags": []
   },
   "outputs": [
    {
     "data": {
      "image/png": "[encoded data removed]",
      "text/plain": [
       "<Figure size 432x288 with 1 Axes>"
      ]
     },
     "metadata": {
      "needs_background": "light"
     },
     "output_type": "display_data"
    },
    {
     "data": {
      "image/png": "[encoded data removed]",
      "text/plain": [
       "<Figure size 432x288 with 1 Axes>"
      ]
     },
     "metadata": {
      "needs_background": "light"
     },
     "output_type": "display_data"
    }
   ],
   "source": [
    "#Training the ABC_GAN \n",
    "ABC_train_test2.training_GAN(disc,gen,disc_opt,gen_opt,train_data,batch_size,n_epochs,criterion,prior_model,variance,device)"
   ]
  },
  {
   "cell_type": "code",
   "execution_count": 13,
   "id": "11c3082e",
   "metadata": {
    "execution": {
     "iopub.execute_input": "2022-01-15T03:52:09.018072Z",
     "iopub.status.busy": "2022-01-15T03:52:09.017557Z",
     "iopub.status.idle": "2022-01-15T03:52:09.345622Z",
     "shell.execute_reply": "2022-01-15T03:52:09.346157Z"
    },
    "papermill": {
     "duration": 0.358111,
     "end_time": "2022-01-15T03:52:09.346318",
     "exception": false,
     "start_time": "2022-01-15T03:52:08.988207",
     "status": "completed"
    },
    "tags": []
   },
   "outputs": [
    {
     "data": {
      "application/scrapbook.scrap.json+json": {
       "data": 0.28373583465530566,
       "encoder": "json",
       "name": "ABC-GAN Model 1 MSE",
       "version": 1
      }
     },
     "metadata": {
      "scrapbook": {
       "data": true,
       "display": false,
       "name": "ABC-GAN Model 1 MSE"
      }
     },
     "output_type": "display_data"
    },
    {
     "data": {
      "application/scrapbook.scrap.json+json": {
       "data": 0.3413261202609568,
       "encoder": "json",
       "name": "ABC-GAN Model 1 MAE",
       "version": 1
      }
     },
     "metadata": {
      "scrapbook": {
       "data": true,
       "display": false,
       "name": "ABC-GAN Model 1 MAE"
      }
     },
     "output_type": "display_data"
    },
    {
     "data": {
      "application/scrapbook.scrap.json+json": {
       "data": 34.815264266617596,
       "encoder": "json",
       "name": "ABC-GAN Model 1 Manhattan Distance",
       "version": 1
      }
     },
     "metadata": {
      "scrapbook": {
       "data": true,
       "display": false,
       "name": "ABC-GAN Model 1 Manhattan Distance"
      }
     },
     "output_type": "display_data"
    },
    {
     "data": {
      "application/scrapbook.scrap.json+json": {
       "data": 5.379575045314005,
       "encoder": "json",
       "name": "ABC-GAN Model 1 Euclidean distance",
       "version": 1
      }
     },
     "metadata": {
      "scrapbook": {
       "data": true,
       "display": false,
       "name": "ABC-GAN Model 1 Euclidean distance"
      }
     },
     "output_type": "display_data"
    },
    {
     "data": {
      "application/scrapbook.scrap.json+json": {
       "data": [
        [
         0.28305098888248115,
         0.281909290528387,
         0.28727916574487583,
         0.2810386765439979,
         0.2841960225179643,
         0.2868430163311592,
         0.2843742083679515,
         0.2887129927421917,
         0.28708130252544384,
         0.2900185062190125,
         0.28698280922975156,
         0.28993393899533326,
         0.27654083471610963,
         0.284281379412728,
         0.2803813477974214,
         0.27702177976410547,
         0.27986007146574843,
         0.2776607505201658,
         0.28180739796651755,
         0.28417461392833865,
         0.2810545399977668,
         0.2840112676936545,
         0.2772273814776578,
         0.2845836942185974,
         0.28861444608891534,
         0.28626501201655924,
         0.2833228324828542,
         0.28395988327327515,
         0.2841418208985709,
         0.2819621360945473,
         0.2807179517032655,
         0.2915912462167027,
         0.2809299403187365,
         0.2777128742875316,
         0.2860203504179396,
         0.28387511045616826,
         0.28202080655399453,
         0.28565282347415755,
         0.28035877394689895,
         0.28257019683131196,
         0.28230773723374974,
         0.28464989556628595,
         0.289207033572598,
         0.2842115809294891,
         0.280252192763607,
         0.27992057142365134,
         0.2822991745826429,
         0.2895189570123854,
         0.28619884958536845,
         0.2808013125688051,
         0.2868008950896209,
         0.28403488120195847,
         0.2761970894948112,
         0.2866950273397405,
         0.2905785800091027,
         0.2786920786050935,
         0.2875321377924755,
         0.2841153847005068,
         0.28575965842730994,
         0.288352412895475,
         0.2832717904194117,
         0.2881254191596934,
         0.2864271620431239,
         0.285647139678211,
         0.2850312493379907,
         0.2858289828626763,
         0.2856204274512438,
         0.28499115183923396,
         0.2844440931624817,
         0.28712248076273245,
         0.27780283214832197,
         0.29239122073229923,
         0.2884227469869005,
         0.2777883520831789,
         0.2847345006114732,
         0.28496773923818514,
         0.2839926887291103,
         0.2837464814638549,
         0.2854442069435512,
         0.27836038929532464,
         0.2777936602277612,
         0.2808686191397511,
         0.27790235526482654,
         0.2815279368382967,
         0.2856193468980228,
         0.2837982415752097,
         0.2767857368066681,
         0.2841983146730734,
         0.2855005201262568,
         0.28842602770734355,
         0.285491859465875,
         0.2871600715434068,
         0.28376935437610395,
         0.28040702959024216,
         0.28245225302993615,
         0.284407885943249,
         0.2754579630649211,
         0.28213843480393164,
         0.28572566172336034,
         0.2821235043398632
        ],
        [
         0.34345703878823447,
         0.3395297195324126,
         0.34159803123889015,
         0.3394586936406353,
         0.3416375078114809,
         0.3417984677076924,
         0.3406127367679979,
         0.34562591466979653,
         0.34508342770676986,
         0.3472168704348744,
         0.3426729718990186,
         0.34478023867396745,
         0.34004300029254425,
         0.33735599686556,
         0.3380512472461252,
         0.33544768057033125,
         0.33745660534238114,
         0.3387186447268023,
         0.3427535263346691,
         0.3446514480838589,
         0.33788475430771414,
         0.3431785396281995,
         0.3365652227189903,
         0.3443010957984656,
         0.34363009791602106,
         0.34367344009817813,
         0.3417730859535582,
         0.33754401482349516,
         0.3422699334903383,
         0.33905487794282974,
         0.3407378045878574,
         0.3465110706348045,
         0.34045845989649204,
         0.3396442887902844,
         0.3439143216420038,
         0.3414612792103606,
         0.3434754407362026,
         0.3412979733856285,
         0.3421721139594036,
         0.3387505660089208,
         0.3441304753662324,
         0.34168505559072776,
         0.34355847690911856,
         0.3420451039484903,
         0.33809943427788275,
         0.3416317917917873,
         0.33982362017473755,
         0.3444116464359503,
         0.3425405953882956,
         0.33694183278609724,
         0.34569710178994667,
         0.3393043869850682,
         0.3353935652869005,
         0.3422638677498874,
         0.34517717960418437,
         0.3435299431393836,
         0.34339293899635476,
         0.3416931616763274,
         0.3437158246981163,
         0.34508528869014743,
         0.3425086953622453,
         0.3427285850778514,
         0.34120282801050766,
         0.34255282206497356,
         0.33862475769630834,
         0.34010624575118226,
         0.34009207620778503,
         0.34306720655192346,
         0.3396568903334293,
         0.342689970763875,
         0.3397859047879191,
         0.34744839709909525,
         0.3406650510927041,
         0.3378740482251434,
         0.34125705952664803,
         0.3447162429345589,
         0.33892009012839375,
         0.3393098977850933,
         0.3439249355601622,
         0.33842151805612386,
         0.33928227981589004,
         0.3374501811705676,
         0.33844270104286717,
         0.3423258034585446,
         0.3413159661360231,
         0.34346070074859786,
         0.33741954053003415,
         0.34315612170772225,
         0.3418155746790124,
         0.3418494140473651,
         0.3441422041505575,
         0.3437961102919836,
         0.3398588567460869,
         0.3386631200053528,
         0.34110189273076896,
         0.34291285641637503,
         0.3365309179632687,
         0.3356496999222858,
         0.34214941098117363,
         0.3393660093858546
        ],
        [
         35.03261795639992,
         34.63203139230609,
         34.8429991863668,
         34.6247867513448,
         34.84702579677105,
         34.863443706184626,
         34.74249915033579,
         35.253843296319246,
         35.19850962609053,
         35.41612078435719,
         34.952643133699894,
         35.16758434474468,
         34.684386029839516,
         34.41031168028712,
         34.48122721910477,
         34.21566341817379,
         34.420573744922876,
         34.54930176213384,
         34.960859686136246,
         35.154447704553604,
         34.464244939386845,
         35.00421104207635,
         34.32965271733701,
         35.118711771443486,
         35.05026998743415,
         35.05469089001417,
         34.860854767262936,
         34.42948951199651,
         34.911533216014504,
         34.58359755016863,
         34.755256067961454,
         35.34412920475006,
         34.726762909442186,
         34.64371745660901,
         35.07926080748439,
         34.82905047945678,
         35.03449495509267,
         34.81239328533411,
         34.90155562385917,
         34.55255773290992,
         35.10130848735571,
         34.85187567025423,
         35.04296464473009,
         34.88860060274601,
         34.48614229634404,
         34.84644276276231,
         34.66200925782323,
         35.12998793646693,
         34.93914072960615,
         34.36806694418192,
         35.26110438257456,
         34.60904747247696,
         34.21014365926385,
         34.91091451048851,
         35.20807231962681,
         35.04005420021713,
         35.02607977762818,
         34.85270249098539,
         35.05901411920786,
         35.19869944639504,
         34.935886926949024,
         34.958315677940845,
         34.80268845707178,
         34.9403878506273,
         34.53972528502345,
         34.69083706662059,
         34.689391773194075,
         34.992855068296194,
         34.645002814009786,
         34.95437701791525,
         34.65816228836775,
         35.439736504107714,
         34.74783521145582,
         34.463152918964624,
         34.8082200717181,
         35.16105677932501,
         34.56984919309616,
         34.60960957407951,
         35.08034342713654,
         34.518994841724634,
         34.606792541220784,
         34.41991847939789,
         34.52115550637245,
         34.917231952771544,
         34.81422854587436,
         35.03299147635698,
         34.41679313406348,
         35.00192441418767,
         34.865188617259264,
         34.86864023283124,
         35.10250482335687,
         35.067203249782324,
         34.66560338810086,
         34.54363824054599,
         34.79239305853844,
         34.97711135447025,
         34.32615363225341,
         34.236269392073154,
         34.89923992007971,
         34.61533295735717
        ],
        [
         5.373192800003837,
         5.362345348249725,
         5.413176046091364,
         5.354058741505157,
         5.384049990186973,
         5.409065322750155,
         5.385737577484726,
         5.426667970283749,
         5.411311565378145,
         5.438923389269172,
         5.41038321576528,
         5.438130356797636,
         5.311041813151464,
         5.38485846611573,
         5.347793701643415,
         5.31565814701611,
         5.342820162564555,
         5.321785090837181,
         5.361376184580297,
         5.383847195146843,
         5.354209846445338,
         5.38229962978212,
         5.317630384929089,
         5.387720929140348,
         5.425741746625006,
         5.403612793834236,
         5.375772401548556,
         5.381812714492587,
         5.383536545028205,
         5.362847926395435,
         5.351002810103267,
         5.453650806029266,
         5.353022876143079,
         5.322284582519824,
         5.401303152261483,
         5.381009316710867,
         5.363405845962753,
         5.397831786408693,
         5.3475784185539235,
         5.368627392247839,
         5.366133542676931,
         5.388347552613988,
         5.431308997323296,
         5.384197364028169,
         5.3465618543029985,
         5.343397634952169,
         5.366052162197976,
         5.434237169581698,
         5.4029883081224215,
         5.3517972571854875,
         5.408668163156372,
         5.382523375016569,
         5.307739926604425,
         5.40766981135623,
         5.444172587356913,
         5.3316594056371915,
         5.415558886655421,
         5.383286100464259,
         5.398841094122479,
         5.423278170566069,
         5.375288143232881,
         5.421143122468611,
         5.405142970208895,
         5.39777808428408,
         5.391955807726455,
         5.399495925731677,
         5.397525692391548,
         5.391576530811917,
         5.386399307754033,
         5.4116996440858305,
         5.323146520539223,
         5.461126670815695,
         5.423939545447004,
         5.323007788129211,
         5.389148268731365,
         5.391355061790577,
         5.382123581855887,
         5.3797900618252,
         5.3958603677488,
         5.3284856862079595,
         5.323058645481151,
         5.352438617327115,
         5.324099946189244,
         5.358717155953116,
         5.397515482478797,
         5.3802807213630945,
         5.313392998290278,
         5.384071702406412,
         5.396392596251518,
         5.423970393185146,
         5.3963107458261925,
         5.412053888998842,
         5.380006890921479,
         5.348038614128052,
         5.3675068522595755,
         5.386056476329542,
         5.300633191668894,
         5.364524242652,
         5.398519935665954,
         5.364382298332777
        ]
       ],
       "encoder": "json",
       "name": "ABC_GAN_1 Metrics",
       "version": 1
      }
     },
     "metadata": {
      "scrapbook": {
       "data": true,
       "display": false,
       "name": "ABC_GAN_1 Metrics"
      }
     },
     "output_type": "display_data"
    }
   ],
   "source": [
    "ABC_GAN1_metrics=ABC_train_test2.test_generator(gen,test_data,prior_model,variance,\"1\",device)\n",
    "sb.glue(\"ABC_GAN_1 Metrics\",ABC_GAN1_metrics)"
   ]
  },
  {
   "cell_type": "markdown",
   "id": "394a2b9d",
   "metadata": {
    "papermill": {
     "duration": 0.028105,
     "end_time": "2022-01-15T03:52:09.402716",
     "exception": false,
     "start_time": "2022-01-15T03:52:09.374611",
     "status": "completed"
    },
    "tags": []
   },
   "source": [
    "#### Sanity Checks "
   ]
  },
  {
   "cell_type": "code",
   "execution_count": 14,
   "id": "a36b3b22",
   "metadata": {
    "execution": {
     "iopub.execute_input": "2022-01-15T03:52:09.461744Z",
     "iopub.status.busy": "2022-01-15T03:52:09.461263Z",
     "iopub.status.idle": "2022-01-15T03:52:10.070414Z",
     "shell.execute_reply": "2022-01-15T03:52:10.069985Z"
    },
    "papermill": {
     "duration": 0.640635,
     "end_time": "2022-01-15T03:52:10.070549",
     "exception": false,
     "start_time": "2022-01-15T03:52:09.429914",
     "status": "completed"
    },
    "tags": []
   },
   "outputs": [
    {
     "data": {
      "image/png": "[encoded data removed]",
      "text/plain": [
       "<Figure size 432x288 with 1 Axes>"
      ]
     },
     "metadata": {
      "needs_background": "light"
     },
     "output_type": "display_data"
    },
    {
     "data": {
      "image/png": "[encoded data removed]",
      "text/plain": [
       "<Figure size 432x288 with 1 Axes>"
      ]
     },
     "metadata": {
      "needs_background": "light"
     },
     "output_type": "display_data"
    },
    {
     "data": {
      "image/png": "[encoded data removed]",
      "text/plain": [
       "<Figure size 432x288 with 1 Axes>"
      ]
     },
     "metadata": {
      "needs_background": "light"
     },
     "output_type": "display_data"
    },
    {
     "data": {
      "image/png": "[encoded data removed]",
      "text/plain": [
       "<Figure size 432x288 with 1 Axes>"
      ]
     },
     "metadata": {
      "needs_background": "light"
     },
     "output_type": "display_data"
    }
   ],
   "source": [
    "sanityChecks.discProbVsError(train_data,disc,device)\n",
    "sanityChecks.discProbVsError(test_data,disc,device)"
   ]
  },
  {
   "cell_type": "markdown",
   "id": "130f3a4d",
   "metadata": {
    "papermill": {
     "duration": 0.035247,
     "end_time": "2022-01-15T03:52:10.142400",
     "exception": false,
     "start_time": "2022-01-15T03:52:10.107153",
     "status": "completed"
    },
    "tags": []
   },
   "source": [
    "# ABC - GAN Model with skip connection"
   ]
  },
  {
   "cell_type": "code",
   "execution_count": 15,
   "id": "4e43dad1",
   "metadata": {
    "execution": {
     "iopub.execute_input": "2022-01-15T03:52:10.217082Z",
     "iopub.status.busy": "2022-01-15T03:52:10.216509Z",
     "iopub.status.idle": "2022-01-15T03:52:10.220920Z",
     "shell.execute_reply": "2022-01-15T03:52:10.220495Z"
    },
    "papermill": {
     "duration": 0.0437,
     "end_time": "2022-01-15T03:52:10.221027",
     "exception": false,
     "start_time": "2022-01-15T03:52:10.177327",
     "status": "completed"
    },
    "tags": []
   },
   "outputs": [],
   "source": [
    "#Generator\n",
    "gen3 = network.GeneratorWithSkipConnection(n_features+1).to(device)\n",
    "constraints=network.weightConstraint()\n",
    "#Discriminator \n",
    "disc3 = network.Discriminator(n_features+1).to(device)\n",
    "\n",
    "criterion = torch.nn.BCELoss()\n",
    "gen_opt = torch.optim.Adam(gen3.parameters(), lr=0.01, betas=(0.5, 0.999))\n",
    "disc_opt = torch.optim.Adam(disc3.parameters(), lr=0.01, betas=(0.5, 0.999))\n"
   ]
  },
  {
   "cell_type": "code",
   "execution_count": 16,
   "id": "26acbc37",
   "metadata": {
    "execution": {
     "iopub.execute_input": "2022-01-15T03:52:10.290851Z",
     "iopub.status.busy": "2022-01-15T03:52:10.290383Z",
     "iopub.status.idle": "2022-01-15T04:14:05.892644Z",
     "shell.execute_reply": "2022-01-15T04:14:05.893040Z"
    },
    "papermill": {
     "duration": 1315.639177,
     "end_time": "2022-01-15T04:14:05.893178",
     "exception": false,
     "start_time": "2022-01-15T03:52:10.254001",
     "status": "completed"
    },
    "tags": []
   },
   "outputs": [
    {
     "data": {
      "image/png": "[encoded data removed]",
      "text/plain": [
       "<Figure size 432x288 with 1 Axes>"
      ]
     },
     "metadata": {
      "needs_background": "light"
     },
     "output_type": "display_data"
    },
    {
     "data": {
      "image/png": "[encoded data removed]",
      "text/plain": [
       "<Figure size 432x288 with 1 Axes>"
      ]
     },
     "metadata": {
      "needs_background": "light"
     },
     "output_type": "display_data"
    }
   ],
   "source": [
    "ABC_train_test2.training_GAN_skip_connection(disc3,gen3,disc_opt,gen_opt,train_data,batch_size,n_epochs,criterion,prior_model,variance,device)\n"
   ]
  },
  {
   "cell_type": "code",
   "execution_count": 17,
   "id": "c5e0717b",
   "metadata": {
    "execution": {
     "iopub.execute_input": "2022-01-15T04:14:05.964738Z",
     "iopub.status.busy": "2022-01-15T04:14:05.964257Z",
     "iopub.status.idle": "2022-01-15T04:14:07.124910Z",
     "shell.execute_reply": "2022-01-15T04:14:07.125290Z"
    },
    "papermill": {
     "duration": 1.197839,
     "end_time": "2022-01-15T04:14:07.125438",
     "exception": false,
     "start_time": "2022-01-15T04:14:05.927599",
     "status": "completed"
    },
    "tags": []
   },
   "outputs": [
    {
     "data": {
      "application/scrapbook.scrap.json+json": {
       "data": 0.14020067140138406,
       "encoder": "json",
       "name": "ABC-GAN Model 3 MSE",
       "version": 1
      }
     },
     "metadata": {
      "scrapbook": {
       "data": true,
       "display": false,
       "name": "ABC-GAN Model 3 MSE"
      }
     },
     "output_type": "display_data"
    },
    {
     "data": {
      "application/scrapbook.scrap.json+json": {
       "data": 0.26689088724644894,
       "encoder": "json",
       "name": "ABC-GAN Model 3 MAE",
       "version": 1
      }
     },
     "metadata": {
      "scrapbook": {
       "data": true,
       "display": false,
       "name": "ABC-GAN Model 3 MAE"
      }
     },
     "output_type": "display_data"
    },
    {
     "data": {
      "application/scrapbook.scrap.json+json": {
       "data": 27.222870499137787,
       "encoder": "json",
       "name": "ABC-GAN Model 3 Manhattan Distance",
       "version": 1
      }
     },
     "metadata": {
      "scrapbook": {
       "data": true,
       "display": false,
       "name": "ABC-GAN Model 3 Manhattan Distance"
      }
     },
     "output_type": "display_data"
    },
    {
     "data": {
      "application/scrapbook.scrap.json+json": {
       "data": 3.7815229535679085,
       "encoder": "json",
       "name": "ABC-GAN Model 3 Euclidean distance",
       "version": 1
      }
     },
     "metadata": {
      "scrapbook": {
       "data": true,
       "display": false,
       "name": "ABC-GAN Model 3 Euclidean distance"
      }
     },
     "output_type": "display_data"
    },
    {
     "data": {
      "application/scrapbook.scrap.json+json": {
       "data": [
        [
         0.13909364188847276,
         0.1399166055069472,
         0.13854540596608825,
         0.13955901493128417,
         0.14154133483457684,
         0.1403744500613005,
         0.13929983945456104,
         0.1392041466066989,
         0.139951227640494,
         0.14076634243853098,
         0.13910897809022646,
         0.14254861036251945,
         0.14058977424029062,
         0.13858425459039703,
         0.13839960529649784,
         0.13785466088837656,
         0.13813324757326192,
         0.1393210147121885,
         0.14012737402637343,
         0.14520871571069377,
         0.14279726500455048,
         0.1383728011954991,
         0.1417145380130091,
         0.1401848829441902,
         0.1382597461433614,
         0.1369386342367727,
         0.13950364052121128,
         0.1387190559528448,
         0.1413434839286133,
         0.14148118318032954,
         0.13967978809196852,
         0.13950702291446687,
         0.1392212761826064,
         0.13890768499736908,
         0.1399293451475215,
         0.13822913499030873,
         0.13928292733230344,
         0.14173032843779754,
         0.14253602144906213,
         0.144883295275711,
         0.13911059910561138,
         0.14170174674927108,
         0.14056057908882685,
         0.14270941228455178,
         0.14464888241930166,
         0.13814465462988523,
         0.1389867621141287,
         0.14486144368865145,
         0.14091711788357372,
         0.14253959094961424,
         0.139662440811714,
         0.1396053387514944,
         0.14042163444922262,
         0.1387299550420983,
         0.1413131822900919,
         0.14021591896735738,
         0.1386200421092091,
         0.13979338478979544,
         0.14052554182871052,
         0.13830980177181149,
         0.14123094080277904,
         0.14171179809906825,
         0.13999977660577603,
         0.13883874932255907,
         0.13793057364642033,
         0.14006294493804555,
         0.13854494798241335,
         0.14033125137366445,
         0.14443426031353143,
         0.13901808901149698,
         0.14059139425430753,
         0.1408043407855169,
         0.140175889504658,
         0.1395001133797333,
         0.13949185012335255,
         0.13978162445284648,
         0.140651563086649,
         0.1401811209311813,
         0.1385167418636035,
         0.14194685051194486,
         0.1377486502830194,
         0.14032257962093367,
         0.1386886282211386,
         0.1438562720921683,
         0.13922489579435754,
         0.1415663280101863,
         0.13966447497345952,
         0.1401487410888512,
         0.13898476975404156,
         0.1393435473792762,
         0.13991831322184217,
         0.13852712063002004,
         0.13915254952327213,
         0.14036675895529604,
         0.14007210645889057,
         0.14222493489465315,
         0.13858908399408218,
         0.1399396634702462,
         0.14540928540556036,
         0.13984528489336537
        ],
        [
         0.2658296801588115,
         0.2672830627062449,
         0.26593712954690646,
         0.2672501195441274,
         0.2687940078184885,
         0.2676350441852621,
         0.2656488903962514,
         0.2664642257287222,
         0.26677912302023055,
         0.26724905527982057,
         0.2655401120656261,
         0.26877112014620913,
         0.2676118344214617,
         0.2656801346251193,
         0.2648159520810141,
         0.2644778540832739,
         0.2648765666812074,
         0.26542352563610266,
         0.2670064280357431,
         0.2723292266840444,
         0.2697057362061505,
         0.26552218059990923,
         0.2681969990771191,
         0.26707784634302645,
         0.2651777269647402,
         0.26472140392105953,
         0.26566735994728174,
         0.2641389175665145,
         0.268237653717983,
         0.26852868051797735,
         0.26619892194867134,
         0.2659572127695177,
         0.26567754014303874,
         0.265541622013438,
         0.2666875807677998,
         0.266199705464875,
         0.2660983585040359,
         0.2675226292773789,
         0.2682341813091554,
         0.2703926722135614,
         0.2651230474093966,
         0.267680087729412,
         0.26605916877879815,
         0.26998347697743014,
         0.2693603983623724,
         0.26464505650687453,
         0.2648227615099327,
         0.2707089318839066,
         0.26731021800900207,
         0.2684495439570324,
         0.26620224516327473,
         0.26654679587512625,
         0.26717109722541826,
         0.2660588240068333,
         0.26856299095294056,
         0.2647957080865608,
         0.2656774560683498,
         0.2665887412925561,
         0.26773252162863226,
         0.2647943828327983,
         0.26816410326636303,
         0.2687627845352479,
         0.2670518398723182,
         0.26633617143128435,
         0.26519029843164427,
         0.2657129259086123,
         0.2655073382763886,
         0.2666166330888575,
         0.26951247636301845,
         0.2648967689670184,
         0.2676770529691495,
         0.26781450894971687,
         0.26721364351025984,
         0.2656580199870993,
         0.2679730001106566,
         0.26657322938462685,
         0.2676823475379862,
         0.2676988551940988,
         0.263832771128007,
         0.26882124684897124,
         0.2636515279026592,
         0.26682146729937956,
         0.2656122156071897,
         0.27194404006734785,
         0.2666681989589158,
         0.2681158196692373,
         0.2665004633440107,
         0.26710804263312443,
         0.2658787023130001,
         0.26660069187774377,
         0.26633675973497184,
         0.2664442067125849,
         0.26595136333330005,
         0.26681290508485306,
         0.2671606091088524,
         0.26992619534333545,
         0.2659411564031068,
         0.26619919520967145,
         0.271138938837776,
         0.2664187330679566
        ],
        [
         27.11462737619877,
         27.262872396036983,
         27.125587213784456,
         27.259512193500996,
         27.41698879748583,
         27.298774506896734,
         27.096186820417643,
         27.179351024329662,
         27.211470548063517,
         27.2594036385417,
         27.085091430693865,
         27.41465425491333,
         27.296407110989094,
         27.09937373176217,
         27.01122711226344,
         26.97674111649394,
         27.017409801483154,
         27.07319961488247,
         27.234655659645796,
         27.777581121772528,
         27.509985093027353,
         27.08326242119074,
         27.356093905866146,
         27.241940326988697,
         27.0481281504035,
         27.001583199948072,
         27.098070714622736,
         26.942169591784477,
         27.360240679234266,
         27.38992541283369,
         27.152290038764477,
         27.127635702490807,
         27.09910909458995,
         27.085245445370674,
         27.202133238315582,
         27.15236995741725,
         27.14203256741166,
         27.28730818629265,
         27.35988649353385,
         27.580052565783262,
         27.042550835758448,
         27.30336894840002,
         27.138035215437412,
         27.538314651697874,
         27.47476063296199,
         26.9937957637012,
         27.011921674013138,
         27.612311052158475,
         27.26564223691821,
         27.381853483617306,
         27.152629006654024,
         27.187773179262877,
         27.251451916992664,
         27.138000048696995,
         27.393425077199936,
         27.009162224829197,
         27.09910051897168,
         27.192051611840725,
         27.30871720612049,
         27.009027048945427,
         27.35273853316903,
         27.413804022595286,
         27.239287666976452,
         27.166289485991,
         27.049410440027714,
         27.10271844267845,
         27.081748504191637,
         27.194896575063467,
         27.49027258902788,
         27.019470434635878,
         27.30305940285325,
         27.317079912871122,
         27.255791638046503,
         27.09711803868413,
         27.333246011286974,
         27.190469397231936,
         27.303599448874593,
         27.30528322979808,
         26.910942655056715,
         27.419767178595066,
         26.892455846071243,
         27.215789664536715,
         27.092445991933346,
         27.73829208686948,
         27.200156293809414,
         27.347813606262207,
         27.183047261089087,
         27.24502034857869,
         27.11962763592601,
         27.193270571529865,
         27.16634949296713,
         27.177309084683657,
         27.127039059996605,
         27.214916318655014,
         27.250382129102945,
         27.532471925020218,
         27.125997953116894,
         27.15231791138649,
         27.65617176145315,
         27.174710772931576
        ],
        [
         3.766636626039765,
         3.777763063204019,
         3.7592062205392507,
         3.772932483227202,
         3.799633686702816,
         3.7839389406084036,
         3.769427492917886,
         3.7681325552431515,
         3.77823043491664,
         3.789217192076769,
         3.7668442714297465,
         3.8131297194007154,
         3.7868399718643566,
         3.7597332309913276,
         3.7572276668100346,
         3.749823383922823,
         3.7536104289700485,
         3.769713981278052,
         3.7806073785425127,
         3.8485437508869205,
         3.8164539864203975,
         3.7568638146652202,
         3.801957769008873,
         3.7813830882770127,
         3.75532876145656,
         3.737344069275775,
         3.7721838943990456,
         3.7615613390173723,
         3.7969771346057053,
         3.798826224558529,
         3.7745646617034905,
         3.7722296241448,
         3.768364389310812,
         3.764117940465155,
         3.777935045106941,
         3.7549130175027337,
         3.7691986665463717,
         3.802169578103447,
         3.8129613409795193,
         3.8442289367469415,
         3.766866218592367,
         3.8017861813134157,
         3.7864467600984884,
         3.815279813201684,
         3.841117806937033,
         3.753765412522244,
         3.765189203166439,
         3.8439390286843063,
         3.791245972516755,
         3.8130090842877165,
         3.7743302667883776,
         3.7735586059649884,
         3.7845748392416163,
         3.761709108144066,
         3.7965701091365833,
         3.7818016519471844,
         3.760218649911109,
         3.7760992106351146,
         3.7859748106040634,
         3.75600849050222,
         3.795465183858687,
         3.8019210152375544,
         3.7788857106016254,
         3.7631838157205424,
         3.7508557039607466,
         3.779738136919096,
         3.7592000072097997,
         3.783356663085542,
         3.8382671287939565,
         3.765613506345638,
         3.7868617896537184,
         3.7897285866038914,
         3.7812617906560115,
         3.7721362070758784,
         3.772024484621217,
         3.7759403721709295,
         3.7876720336953933,
         3.781332349183352,
         3.758817323319604,
         3.805072765692973,
         3.7483812944880595,
         3.7832397652455536,
         3.761148771127796,
         3.830579558422089,
         3.768413375815406,
         3.7999691389587618,
         3.774357752955179,
         3.780895607004089,
         3.7651622162812903,
         3.7700188106541557,
         3.777786117374553,
         3.7589581407967345,
         3.7674341469193267,
         3.7838352783175164,
         3.7798617512822914,
         3.8087981515505156,
         3.7597987402780455,
         3.778074334097347,
         3.851200736311619,
         3.776800108441439
        ]
       ],
       "encoder": "json",
       "name": "ABC_GAN_3 Metrics",
       "version": 1
      }
     },
     "metadata": {
      "scrapbook": {
       "data": true,
       "display": false,
       "name": "ABC_GAN_3 Metrics"
      }
     },
     "output_type": "display_data"
    }
   ],
   "source": [
    "ABC_GAN3_metrics=ABC_train_test2.test_generator(gen3,test_data,prior_model,variance,\"3\",device)\n",
    "sb.glue(\"ABC_GAN_3 Metrics\",ABC_GAN3_metrics)"
   ]
  },
  {
   "cell_type": "code",
   "execution_count": 18,
   "id": "c8e46b48",
   "metadata": {
    "execution": {
     "iopub.execute_input": "2022-01-15T04:14:07.212549Z",
     "iopub.status.busy": "2022-01-15T04:14:07.211991Z",
     "iopub.status.idle": "2022-01-15T04:14:07.938620Z",
     "shell.execute_reply": "2022-01-15T04:14:07.938975Z"
    },
    "papermill": {
     "duration": 0.77255,
     "end_time": "2022-01-15T04:14:07.939116",
     "exception": false,
     "start_time": "2022-01-15T04:14:07.166566",
     "status": "completed"
    },
    "tags": []
   },
   "outputs": [
    {
     "data": {
      "image/png": "[encoded data removed]",
      "text/plain": [
       "<Figure size 432x288 with 1 Axes>"
      ]
     },
     "metadata": {
      "needs_background": "light"
     },
     "output_type": "display_data"
    },
    {
     "data": {
      "image/png": "[encoded data removed]",
      "text/plain": [
       "<Figure size 432x288 with 1 Axes>"
      ]
     },
     "metadata": {
      "needs_background": "light"
     },
     "output_type": "display_data"
    },
    {
     "data": {
      "image/png": "[encoded data removed]",
      "text/plain": [
       "<Figure size 432x288 with 1 Axes>"
      ]
     },
     "metadata": {
      "needs_background": "light"
     },
     "output_type": "display_data"
    },
    {
     "data": {
      "image/png": "[encoded data removed]",
      "text/plain": [
       "<Figure size 432x288 with 1 Axes>"
      ]
     },
     "metadata": {
      "needs_background": "light"
     },
     "output_type": "display_data"
    }
   ],
   "source": [
    "sanityChecks.discProbVsError(train_data,disc,device)\n",
    "sanityChecks.discProbVsError(test_data,disc3,device)"
   ]
  },
  {
   "cell_type": "markdown",
   "id": "a5bd74c3",
   "metadata": {
    "papermill": {
     "duration": 0.041423,
     "end_time": "2022-01-15T04:14:08.049014",
     "exception": false,
     "start_time": "2022-01-15T04:14:08.007591",
     "status": "completed"
    },
    "tags": []
   },
   "source": [
    "## Skip Connection Model Analysis - ABC-GAN "
   ]
  },
  {
   "cell_type": "markdown",
   "id": "5744a8bf",
   "metadata": {
    "papermill": {
     "duration": 0.04091,
     "end_time": "2022-01-15T04:14:08.130863",
     "exception": false,
     "start_time": "2022-01-15T04:14:08.089953",
     "status": "completed"
    },
    "tags": []
   },
   "source": [
    "### Weight Analysis \n",
    "\n",
    "Study the weights of the skip connection layer\n",
    "\n",
    "Equation of the skip connection is \n",
    "\n",
    "$output = y_{gan} * w + y_{abc} * (1-w)$"
   ]
  },
  {
   "cell_type": "code",
   "execution_count": 19,
   "id": "52c31dea",
   "metadata": {
    "execution": {
     "iopub.execute_input": "2022-01-15T04:14:08.217463Z",
     "iopub.status.busy": "2022-01-15T04:14:08.216973Z",
     "iopub.status.idle": "2022-01-15T04:14:08.244732Z",
     "shell.execute_reply": "2022-01-15T04:14:08.245127Z"
    },
    "papermill": {
     "duration": 0.073271,
     "end_time": "2022-01-15T04:14:08.245264",
     "exception": false,
     "start_time": "2022-01-15T04:14:08.171993",
     "status": "completed"
    },
    "tags": []
   },
   "outputs": [
    {
     "name": "stdout",
     "output_type": "stream",
     "text": [
      "Weight of the node at skip connection\n",
      "Parameter containing:\n",
      "tensor([[0.9915]], device='cuda:0', requires_grad=True)\n"
     ]
    },
    {
     "data": {
      "application/scrapbook.scrap.json+json": {
       "data": 0.9915298819541931,
       "encoder": "json",
       "name": "Skip Connection Weight",
       "version": 1
      }
     },
     "metadata": {
      "scrapbook": {
       "data": true,
       "display": false,
       "name": "Skip Connection Weight"
      }
     },
     "output_type": "display_data"
    }
   ],
   "source": [
    "print(\"Weight of the node at skip connection\")\n",
    "for name,param in gen3.named_parameters():\n",
    "    if(name == \"skipNode.weight\"):\n",
    "        print(param)\n",
    "        sb.glue(\"Skip Connection Weight\",param.item())"
   ]
  }
 ],
 "metadata": {
  "interpreter": {
   "hash": "10498c76ddd8160350534c6544a2b2fb65f2138dbc70420f7c81a3268f830f23"
  },
  "kernelspec": {
   "display_name": "papermill-tutorial",
   "language": "python",
   "name": "python3"
  },
  "language_info": {
   "codemirror_mode": {
    "name": "ipython",
    "version": 3
   },
   "file_extension": ".py",
   "mimetype": "text/x-python",
   "name": "python",
   "nbconvert_exporter": "python",
   "pygments_lexer": "ipython3",
   "version": "3.7.12"
  },
  "papermill": {
   "default_parameters": {},
   "duration": 1565.976313,
   "end_time": "2022-01-15T04:14:09.709344",
   "environment_variables": {},
   "exception": null,
   "input_path": "ABC_GAN_Model-Catboost_Pre-gen.ipynb",
   "output_path": "./ABC_GAN_Output/ABC-GAN_output_7_0.ipynb",
   "parameters": {
    "variance": 1
   },
   "start_time": "2022-01-15T03:48:03.733031",
   "version": "2.3.3"
  }
 },
 "nbformat": 4,
 "nbformat_minor": 5
}