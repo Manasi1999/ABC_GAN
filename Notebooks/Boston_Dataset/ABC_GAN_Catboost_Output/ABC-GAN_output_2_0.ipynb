{
 "cells": [
  {
   "cell_type": "markdown",
   "id": "622780e6",
   "metadata": {
    "papermill": {
     "duration": 0.026945,
     "end_time": "2022-01-14T08:16:46.809791",
     "exception": false,
     "start_time": "2022-01-14T08:16:46.782846",
     "status": "completed"
    },
    "tags": []
   },
   "source": [
    "## Import Libraries "
   ]
  },
  {
   "cell_type": "code",
   "execution_count": 1,
   "id": "a62397e3",
   "metadata": {
    "execution": {
     "iopub.execute_input": "2022-01-14T08:16:46.864834Z",
     "iopub.status.busy": "2022-01-14T08:16:46.864184Z",
     "iopub.status.idle": "2022-01-14T08:16:46.867320Z",
     "shell.execute_reply": "2022-01-14T08:16:46.866775Z"
    },
    "papermill": {
     "duration": 0.033626,
     "end_time": "2022-01-14T08:16:46.867557",
     "exception": false,
     "start_time": "2022-01-14T08:16:46.833931",
     "status": "completed"
    },
    "tags": []
   },
   "outputs": [],
   "source": [
    "import warnings\n",
    "import sys\n",
    "sys.path.insert(0, '../../src')\n",
    "warnings.filterwarnings('ignore')"
   ]
  },
  {
   "cell_type": "code",
   "execution_count": 2,
   "id": "d6a4e155",
   "metadata": {
    "execution": {
     "iopub.execute_input": "2022-01-14T08:16:46.920462Z",
     "iopub.status.busy": "2022-01-14T08:16:46.919806Z",
     "iopub.status.idle": "2022-01-14T08:16:48.564496Z",
     "shell.execute_reply": "2022-01-14T08:16:48.563955Z"
    },
    "papermill": {
     "duration": 1.673866,
     "end_time": "2022-01-14T08:16:48.564656",
     "exception": false,
     "start_time": "2022-01-14T08:16:46.890790",
     "status": "completed"
    },
    "tags": []
   },
   "outputs": [],
   "source": [
    "import ABC_train_test2\n",
    "import bostonDataset\n",
    "import network\n",
    "import dataset\n",
    "import sanityChecks\n",
    "import performanceMetrics\n",
    "import torch \n",
    "from torch.utils.data import random_split \n",
    "import scrapbook as sb\n",
    "from statistics import mean \n",
    "import catboost as ctb \n",
    "from sklearn.model_selection import train_test_split\n",
    "from sklearn.metrics import mean_squared_error\n",
    "import numpy as np"
   ]
  },
  {
   "cell_type": "markdown",
   "id": "2fa5b0f7",
   "metadata": {
    "papermill": {
     "duration": 0.023701,
     "end_time": "2022-01-14T08:16:48.612159",
     "exception": false,
     "start_time": "2022-01-14T08:16:48.588458",
     "status": "completed"
    },
    "tags": []
   },
   "source": [
    "## Parameters "
   ]
  },
  {
   "cell_type": "code",
   "execution_count": 3,
   "id": "783186fb",
   "metadata": {
    "execution": {
     "iopub.execute_input": "2022-01-14T08:16:48.662923Z",
     "iopub.status.busy": "2022-01-14T08:16:48.662286Z",
     "iopub.status.idle": "2022-01-14T08:16:48.664754Z",
     "shell.execute_reply": "2022-01-14T08:16:48.664230Z"
    },
    "papermill": {
     "duration": 0.029525,
     "end_time": "2022-01-14T08:16:48.664924",
     "exception": false,
     "start_time": "2022-01-14T08:16:48.635399",
     "status": "completed"
    },
    "tags": [
     "parameters"
    ]
   },
   "outputs": [],
   "source": [
    "variance = 1"
   ]
  },
  {
   "cell_type": "code",
   "execution_count": 4,
   "id": "5b14ae64",
   "metadata": {
    "execution": {
     "iopub.execute_input": "2022-01-14T08:16:48.715300Z",
     "iopub.status.busy": "2022-01-14T08:16:48.714749Z",
     "iopub.status.idle": "2022-01-14T08:16:48.717356Z",
     "shell.execute_reply": "2022-01-14T08:16:48.716905Z"
    },
    "papermill": {
     "duration": 0.029323,
     "end_time": "2022-01-14T08:16:48.717517",
     "exception": false,
     "start_time": "2022-01-14T08:16:48.688194",
     "status": "completed"
    },
    "tags": [
     "injected-parameters"
    ]
   },
   "outputs": [],
   "source": [
    "# Parameters\n",
    "variance = 1\n"
   ]
  },
  {
   "cell_type": "markdown",
   "id": "391cdbfd",
   "metadata": {
    "papermill": {
     "duration": 0.023164,
     "end_time": "2022-01-14T08:16:48.764899",
     "exception": false,
     "start_time": "2022-01-14T08:16:48.741735",
     "status": "completed"
    },
    "tags": []
   },
   "source": [
    "## Dataset - Boston Housing "
   ]
  },
  {
   "cell_type": "code",
   "execution_count": 5,
   "id": "5b51f161",
   "metadata": {
    "execution": {
     "iopub.execute_input": "2022-01-14T08:16:48.833853Z",
     "iopub.status.busy": "2022-01-14T08:16:48.833182Z",
     "iopub.status.idle": "2022-01-14T08:16:48.836598Z",
     "shell.execute_reply": "2022-01-14T08:16:48.836015Z"
    },
    "papermill": {
     "duration": 0.047767,
     "end_time": "2022-01-14T08:16:48.836729",
     "exception": false,
     "start_time": "2022-01-14T08:16:48.788962",
     "status": "completed"
    },
    "tags": []
   },
   "outputs": [],
   "source": [
    "#Parameters \n",
    "n_features = 13\n",
    "n_samples= 506\n",
    "n_target = 1 "
   ]
  },
  {
   "cell_type": "code",
   "execution_count": 6,
   "id": "5d6eced4",
   "metadata": {
    "execution": {
     "iopub.execute_input": "2022-01-14T08:16:48.889610Z",
     "iopub.status.busy": "2022-01-14T08:16:48.888984Z",
     "iopub.status.idle": "2022-01-14T08:16:48.922181Z",
     "shell.execute_reply": "2022-01-14T08:16:48.921739Z"
    },
    "papermill": {
     "duration": 0.060106,
     "end_time": "2022-01-14T08:16:48.922316",
     "exception": false,
     "start_time": "2022-01-14T08:16:48.862210",
     "status": "completed"
    },
    "tags": []
   },
   "outputs": [
    {
     "name": "stdout",
     "output_type": "stream",
     "text": [
      "         X1        X2        X3        X4        X5        X6        X7        X8        X9       X10       X11       X12       X13         Y\n",
      "0 -0.419782  0.284830 -1.287909 -0.272599 -0.144217  0.413672 -0.120013  0.140214 -0.982843 -0.666608 -1.459000  0.441052 -1.075562  0.159686\n",
      "1 -0.417339 -0.487722 -0.593381 -0.272599 -0.740262  0.194274  0.367166  0.557160 -0.867883 -0.987329 -0.303094  0.441052 -0.492439 -0.101524\n",
      "2 -0.417342 -0.487722 -0.593381 -0.272599 -0.740262  1.282714 -0.265812  0.557160 -0.867883 -0.987329 -0.303094  0.396427 -1.208727  1.324247\n",
      "3 -0.416750 -0.487722 -1.306878 -0.272599 -0.835284  1.016303 -0.809889  1.077737 -0.752922 -1.106115  0.113032  0.416163 -1.361517  1.182758\n",
      "4 -0.412482 -0.487722 -1.306878 -0.272599 -0.835284  1.228577 -0.511180  1.077737 -0.752922 -1.106115  0.113032  0.441052 -1.026501  1.487503\n"
     ]
    }
   ],
   "source": [
    "X,Y = bostonDataset.boston_data()"
   ]
  },
  {
   "cell_type": "code",
   "execution_count": 7,
   "id": "fe007438",
   "metadata": {
    "execution": {
     "iopub.execute_input": "2022-01-14T08:16:48.975650Z",
     "iopub.status.busy": "2022-01-14T08:16:48.975012Z",
     "iopub.status.idle": "2022-01-14T08:16:48.977752Z",
     "shell.execute_reply": "2022-01-14T08:16:48.978197Z"
    },
    "papermill": {
     "duration": 0.031503,
     "end_time": "2022-01-14T08:16:48.978375",
     "exception": false,
     "start_time": "2022-01-14T08:16:48.946872",
     "status": "completed"
    },
    "tags": []
   },
   "outputs": [],
   "source": [
    "#Train test split for dataset \n",
    "X_train,X_test,Y_train,Y_test = train_test_split(X,Y,test_size = 0.2)\n",
    "train_data = dataset.CustomDataset(X_train,Y_train)\n",
    "test_data = dataset.CustomDataset(X_test,Y_test)\n"
   ]
  },
  {
   "cell_type": "markdown",
   "id": "a9a1af34",
   "metadata": {
    "papermill": {
     "duration": 0.025153,
     "end_time": "2022-01-14T08:16:49.031211",
     "exception": false,
     "start_time": "2022-01-14T08:16:49.006058",
     "status": "completed"
    },
    "tags": []
   },
   "source": [
    "## Training Parameters \n",
    "\n"
   ]
  },
  {
   "cell_type": "code",
   "execution_count": 8,
   "id": "952b7fc8",
   "metadata": {
    "execution": {
     "iopub.execute_input": "2022-01-14T08:16:49.103933Z",
     "iopub.status.busy": "2022-01-14T08:16:49.103222Z",
     "iopub.status.idle": "2022-01-14T08:16:49.105665Z",
     "shell.execute_reply": "2022-01-14T08:16:49.105127Z"
    },
    "papermill": {
     "duration": 0.049964,
     "end_time": "2022-01-14T08:16:49.105813",
     "exception": false,
     "start_time": "2022-01-14T08:16:49.055849",
     "status": "completed"
    },
    "tags": []
   },
   "outputs": [],
   "source": [
    "batch_size = 64\n",
    "n_epochs = 5000\n",
    "#Select the device \n",
    "device = torch.device('cuda' if torch.cuda.is_available() else 'cpu')"
   ]
  },
  {
   "cell_type": "markdown",
   "id": "a95e1600",
   "metadata": {
    "papermill": {
     "duration": 0.024491,
     "end_time": "2022-01-14T08:16:49.155052",
     "exception": false,
     "start_time": "2022-01-14T08:16:49.130561",
     "status": "completed"
    },
    "tags": []
   },
   "source": [
    "# ABC Pre-generator Model \n",
    "\n",
    "1. The catboost model is used as a pre-generator model for the ABC-GAN. \n",
    "2. The model is first trained on the train dataset \n",
    "3. It generats X,Y pairs and we add some Gaussian noise with mean 0 and variance V (1,0.01,0.1) to it which is then feed as input to the generator.\n"
   ]
  },
  {
   "cell_type": "code",
   "execution_count": 9,
   "id": "ff8ce7bd",
   "metadata": {
    "execution": {
     "iopub.execute_input": "2022-01-14T08:16:49.222779Z",
     "iopub.status.busy": "2022-01-14T08:16:49.221926Z",
     "iopub.status.idle": "2022-01-14T08:16:50.933073Z",
     "shell.execute_reply": "2022-01-14T08:16:50.933617Z"
    },
    "papermill": {
     "duration": 1.753293,
     "end_time": "2022-01-14T08:16:50.933785",
     "exception": false,
     "start_time": "2022-01-14T08:16:49.180492",
     "status": "completed"
    },
    "tags": []
   },
   "outputs": [
    {
     "name": "stdout",
     "output_type": "stream",
     "text": [
      "Learning rate set to 0.03548\n",
      "0:\tlearn: 0.9948728\ttotal: 48.6ms\tremaining: 48.5s\n",
      "1:\tlearn: 0.9742225\ttotal: 49.6ms\tremaining: 24.8s\n",
      "2:\tlearn: 0.9531878\ttotal: 50.6ms\tremaining: 16.8s\n",
      "3:\tlearn: 0.9362895\ttotal: 51.6ms\tremaining: 12.8s\n",
      "4:\tlearn: 0.9190194\ttotal: 52.6ms\tremaining: 10.5s\n",
      "5:\tlearn: 0.9003581\ttotal: 53.6ms\tremaining: 8.87s\n",
      "6:\tlearn: 0.8815288\ttotal: 54.5ms\tremaining: 7.74s\n",
      "7:\tlearn: 0.8644718\ttotal: 55.5ms\tremaining: 6.88s\n",
      "8:\tlearn: 0.8475730\ttotal: 56.6ms\tremaining: 6.23s\n",
      "9:\tlearn: 0.8299984\ttotal: 57.6ms\tremaining: 5.7s\n",
      "10:\tlearn: 0.8148219\ttotal: 58.5ms\tremaining: 5.26s\n",
      "11:\tlearn: 0.7992064\ttotal: 59.4ms\tremaining: 4.89s\n",
      "12:\tlearn: 0.7824393\ttotal: 60.5ms\tremaining: 4.59s\n",
      "13:\tlearn: 0.7666940\ttotal: 61.6ms\tremaining: 4.34s\n",
      "14:\tlearn: 0.7534662\ttotal: 62.6ms\tremaining: 4.11s\n",
      "15:\tlearn: 0.7408029\ttotal: 63.7ms\tremaining: 3.92s\n",
      "16:\tlearn: 0.7273961\ttotal: 64.8ms\tremaining: 3.75s\n",
      "17:\tlearn: 0.7156564\ttotal: 65.8ms\tremaining: 3.59s\n",
      "18:\tlearn: 0.7027071\ttotal: 66.8ms\tremaining: 3.45s\n",
      "19:\tlearn: 0.6899085\ttotal: 67.7ms\tremaining: 3.32s\n",
      "20:\tlearn: 0.6754341\ttotal: 68.7ms\tremaining: 3.2s\n",
      "21:\tlearn: 0.6653213\ttotal: 69.9ms\tremaining: 3.11s\n",
      "22:\tlearn: 0.6562794\ttotal: 70.8ms\tremaining: 3.01s\n",
      "23:\tlearn: 0.6461048\ttotal: 71.8ms\tremaining: 2.92s\n",
      "24:\tlearn: 0.6356449\ttotal: 72.8ms\tremaining: 2.84s\n",
      "25:\tlearn: 0.6268145\ttotal: 73.8ms\tremaining: 2.77s\n",
      "26:\tlearn: 0.6181226\ttotal: 75ms\tremaining: 2.7s\n",
      "27:\tlearn: 0.6094477\ttotal: 76ms\tremaining: 2.64s\n",
      "28:\tlearn: 0.6002988\ttotal: 77.1ms\tremaining: 2.58s\n",
      "29:\tlearn: 0.5900628\ttotal: 78.1ms\tremaining: 2.53s\n",
      "30:\tlearn: 0.5788266\ttotal: 79.2ms\tremaining: 2.48s\n",
      "31:\tlearn: 0.5703022\ttotal: 80.3ms\tremaining: 2.43s\n",
      "32:\tlearn: 0.5601170\ttotal: 81.3ms\tremaining: 2.38s\n",
      "33:\tlearn: 0.5520703\ttotal: 82.4ms\tremaining: 2.34s\n",
      "34:\tlearn: 0.5446255\ttotal: 83.4ms\tremaining: 2.3s\n",
      "35:\tlearn: 0.5371274\ttotal: 84.3ms\tremaining: 2.26s\n",
      "36:\tlearn: 0.5310541\ttotal: 85.5ms\tremaining: 2.22s\n",
      "37:\tlearn: 0.5242799\ttotal: 86.4ms\tremaining: 2.19s\n",
      "38:\tlearn: 0.5168473\ttotal: 87.5ms\tremaining: 2.15s\n",
      "39:\tlearn: 0.5090251\ttotal: 88.5ms\tremaining: 2.12s\n",
      "40:\tlearn: 0.5033612\ttotal: 89.5ms\tremaining: 2.09s\n",
      "41:\tlearn: 0.4960381\ttotal: 90.4ms\tremaining: 2.06s\n",
      "42:\tlearn: 0.4912100\ttotal: 91.4ms\tremaining: 2.03s\n",
      "43:\tlearn: 0.4858910\ttotal: 92.4ms\tremaining: 2.01s\n",
      "44:\tlearn: 0.4802047\ttotal: 93.5ms\tremaining: 1.99s\n",
      "45:\tlearn: 0.4743380\ttotal: 94.6ms\tremaining: 1.96s\n",
      "46:\tlearn: 0.4685990\ttotal: 95.6ms\tremaining: 1.94s\n",
      "47:\tlearn: 0.4629501\ttotal: 96.6ms\tremaining: 1.92s\n",
      "48:\tlearn: 0.4577797\ttotal: 97.8ms\tremaining: 1.9s\n",
      "49:\tlearn: 0.4532417\ttotal: 98.7ms\tremaining: 1.88s\n",
      "50:\tlearn: 0.4470031\ttotal: 99.8ms\tremaining: 1.86s\n",
      "51:\tlearn: 0.4422466\ttotal: 101ms\tremaining: 1.84s\n",
      "52:\tlearn: 0.4365095\ttotal: 102ms\tremaining: 1.82s\n",
      "53:\tlearn: 0.4321076\ttotal: 103ms\tremaining: 1.8s\n",
      "54:\tlearn: 0.4280049\ttotal: 104ms\tremaining: 1.79s\n",
      "55:\tlearn: 0.4231112\ttotal: 105ms\tremaining: 1.77s\n",
      "56:\tlearn: 0.4191748\ttotal: 106ms\tremaining: 1.76s\n",
      "57:\tlearn: 0.4150266\ttotal: 107ms\tremaining: 1.74s\n",
      "58:\tlearn: 0.4115844\ttotal: 108ms\tremaining: 1.73s\n",
      "59:\tlearn: 0.4073995\ttotal: 109ms\tremaining: 1.71s\n",
      "60:\tlearn: 0.4041012\ttotal: 110ms\tremaining: 1.7s\n",
      "61:\tlearn: 0.4002573\ttotal: 111ms\tremaining: 1.68s\n",
      "62:\tlearn: 0.3965169\ttotal: 112ms\tremaining: 1.67s\n",
      "63:\tlearn: 0.3931131\ttotal: 113ms\tremaining: 1.65s\n",
      "64:\tlearn: 0.3894965\ttotal: 114ms\tremaining: 1.64s\n",
      "65:\tlearn: 0.3857924\ttotal: 115ms\tremaining: 1.63s\n",
      "66:\tlearn: 0.3822722\ttotal: 116ms\tremaining: 1.62s\n",
      "67:\tlearn: 0.3797008\ttotal: 117ms\tremaining: 1.6s\n",
      "68:\tlearn: 0.3768973\ttotal: 118ms\tremaining: 1.59s\n",
      "69:\tlearn: 0.3739637\ttotal: 119ms\tremaining: 1.58s\n",
      "70:\tlearn: 0.3701625\ttotal: 120ms\tremaining: 1.57s\n",
      "71:\tlearn: 0.3673187\ttotal: 121ms\tremaining: 1.56s\n",
      "72:\tlearn: 0.3647899\ttotal: 122ms\tremaining: 1.55s\n",
      "73:\tlearn: 0.3612565\ttotal: 123ms\tremaining: 1.54s\n",
      "74:\tlearn: 0.3578833\ttotal: 124ms\tremaining: 1.53s\n",
      "75:\tlearn: 0.3560053\ttotal: 125ms\tremaining: 1.52s\n",
      "76:\tlearn: 0.3536955\ttotal: 126ms\tremaining: 1.51s\n",
      "77:\tlearn: 0.3508144\ttotal: 127ms\tremaining: 1.51s\n",
      "78:\tlearn: 0.3480768\ttotal: 128ms\tremaining: 1.5s\n",
      "79:\tlearn: 0.3458860\ttotal: 129ms\tremaining: 1.49s\n",
      "80:\tlearn: 0.3438101\ttotal: 130ms\tremaining: 1.48s\n",
      "81:\tlearn: 0.3417931\ttotal: 132ms\tremaining: 1.48s\n",
      "82:\tlearn: 0.3399607\ttotal: 134ms\tremaining: 1.48s\n",
      "83:\tlearn: 0.3379859\ttotal: 135ms\tremaining: 1.47s\n",
      "84:\tlearn: 0.3355262\ttotal: 136ms\tremaining: 1.47s\n",
      "85:\tlearn: 0.3331956\ttotal: 137ms\tremaining: 1.46s\n",
      "86:\tlearn: 0.3306766\ttotal: 139ms\tremaining: 1.45s\n",
      "87:\tlearn: 0.3285304\ttotal: 140ms\tremaining: 1.45s\n",
      "88:\tlearn: 0.3272380\ttotal: 141ms\tremaining: 1.44s\n",
      "89:\tlearn: 0.3252355\ttotal: 142ms\tremaining: 1.44s\n"
     ]
    },
    {
     "name": "stdout",
     "output_type": "stream",
     "text": [
      "90:\tlearn: 0.3234938\ttotal: 143ms\tremaining: 1.43s\n",
      "91:\tlearn: 0.3212331\ttotal: 145ms\tremaining: 1.43s\n",
      "92:\tlearn: 0.3197515\ttotal: 146ms\tremaining: 1.42s\n",
      "93:\tlearn: 0.3178398\ttotal: 147ms\tremaining: 1.41s\n",
      "94:\tlearn: 0.3164285\ttotal: 148ms\tremaining: 1.41s\n",
      "95:\tlearn: 0.3148823\ttotal: 149ms\tremaining: 1.4s\n",
      "96:\tlearn: 0.3131482\ttotal: 150ms\tremaining: 1.4s\n",
      "97:\tlearn: 0.3114142\ttotal: 151ms\tremaining: 1.39s\n",
      "98:\tlearn: 0.3095699\ttotal: 152ms\tremaining: 1.38s\n",
      "99:\tlearn: 0.3085774\ttotal: 153ms\tremaining: 1.38s\n",
      "100:\tlearn: 0.3073913\ttotal: 154ms\tremaining: 1.37s\n",
      "101:\tlearn: 0.3062019\ttotal: 155ms\tremaining: 1.36s\n",
      "102:\tlearn: 0.3051330\ttotal: 156ms\tremaining: 1.36s\n",
      "103:\tlearn: 0.3034565\ttotal: 157ms\tremaining: 1.35s\n",
      "104:\tlearn: 0.3017459\ttotal: 158ms\tremaining: 1.35s\n",
      "105:\tlearn: 0.3000694\ttotal: 159ms\tremaining: 1.34s\n",
      "106:\tlearn: 0.2984635\ttotal: 160ms\tremaining: 1.34s\n",
      "107:\tlearn: 0.2975818\ttotal: 162ms\tremaining: 1.33s\n",
      "108:\tlearn: 0.2964171\ttotal: 163ms\tremaining: 1.33s\n",
      "109:\tlearn: 0.2953456\ttotal: 164ms\tremaining: 1.32s\n",
      "110:\tlearn: 0.2943440\ttotal: 165ms\tremaining: 1.32s\n",
      "111:\tlearn: 0.2927540\ttotal: 166ms\tremaining: 1.31s\n",
      "112:\tlearn: 0.2912978\ttotal: 167ms\tremaining: 1.31s\n",
      "113:\tlearn: 0.2902232\ttotal: 168ms\tremaining: 1.3s\n",
      "114:\tlearn: 0.2891061\ttotal: 169ms\tremaining: 1.3s\n",
      "115:\tlearn: 0.2877554\ttotal: 170ms\tremaining: 1.29s\n",
      "116:\tlearn: 0.2865809\ttotal: 171ms\tremaining: 1.29s\n",
      "117:\tlearn: 0.2855357\ttotal: 172ms\tremaining: 1.28s\n",
      "118:\tlearn: 0.2842779\ttotal: 173ms\tremaining: 1.28s\n",
      "119:\tlearn: 0.2836207\ttotal: 174ms\tremaining: 1.27s\n",
      "120:\tlearn: 0.2825388\ttotal: 175ms\tremaining: 1.27s\n",
      "121:\tlearn: 0.2811067\ttotal: 176ms\tremaining: 1.26s\n",
      "122:\tlearn: 0.2799561\ttotal: 177ms\tremaining: 1.26s\n",
      "123:\tlearn: 0.2787432\ttotal: 178ms\tremaining: 1.25s\n",
      "124:\tlearn: 0.2777788\ttotal: 179ms\tremaining: 1.25s\n",
      "125:\tlearn: 0.2770960\ttotal: 180ms\tremaining: 1.25s\n",
      "126:\tlearn: 0.2760359\ttotal: 181ms\tremaining: 1.24s\n",
      "127:\tlearn: 0.2751338\ttotal: 182ms\tremaining: 1.24s\n",
      "128:\tlearn: 0.2742253\ttotal: 183ms\tremaining: 1.23s\n",
      "129:\tlearn: 0.2732664\ttotal: 184ms\tremaining: 1.23s\n",
      "130:\tlearn: 0.2726780\ttotal: 185ms\tremaining: 1.23s\n",
      "131:\tlearn: 0.2717859\ttotal: 186ms\tremaining: 1.22s\n",
      "132:\tlearn: 0.2708545\ttotal: 187ms\tremaining: 1.22s\n",
      "133:\tlearn: 0.2700296\ttotal: 188ms\tremaining: 1.22s\n",
      "134:\tlearn: 0.2687755\ttotal: 189ms\tremaining: 1.21s\n",
      "135:\tlearn: 0.2678551\ttotal: 191ms\tremaining: 1.21s\n",
      "136:\tlearn: 0.2669257\ttotal: 192ms\tremaining: 1.21s\n",
      "137:\tlearn: 0.2659992\ttotal: 193ms\tremaining: 1.2s\n",
      "138:\tlearn: 0.2652231\ttotal: 194ms\tremaining: 1.2s\n",
      "139:\tlearn: 0.2645740\ttotal: 195ms\tremaining: 1.2s\n",
      "140:\tlearn: 0.2634965\ttotal: 196ms\tremaining: 1.19s\n",
      "141:\tlearn: 0.2628154\ttotal: 197ms\tremaining: 1.19s\n",
      "142:\tlearn: 0.2624154\ttotal: 198ms\tremaining: 1.18s\n",
      "143:\tlearn: 0.2617448\ttotal: 199ms\tremaining: 1.18s\n",
      "144:\tlearn: 0.2608012\ttotal: 200ms\tremaining: 1.18s\n",
      "145:\tlearn: 0.2600001\ttotal: 201ms\tremaining: 1.17s\n",
      "146:\tlearn: 0.2590003\ttotal: 202ms\tremaining: 1.17s\n",
      "147:\tlearn: 0.2581658\ttotal: 203ms\tremaining: 1.17s\n",
      "148:\tlearn: 0.2574490\ttotal: 204ms\tremaining: 1.16s\n",
      "149:\tlearn: 0.2565432\ttotal: 205ms\tremaining: 1.16s\n",
      "150:\tlearn: 0.2558267\ttotal: 206ms\tremaining: 1.16s\n",
      "151:\tlearn: 0.2549387\ttotal: 207ms\tremaining: 1.15s\n",
      "152:\tlearn: 0.2543651\ttotal: 208ms\tremaining: 1.15s\n",
      "153:\tlearn: 0.2537598\ttotal: 209ms\tremaining: 1.15s\n",
      "154:\tlearn: 0.2529459\ttotal: 210ms\tremaining: 1.14s\n",
      "155:\tlearn: 0.2522008\ttotal: 211ms\tremaining: 1.14s\n",
      "156:\tlearn: 0.2515051\ttotal: 212ms\tremaining: 1.14s\n",
      "157:\tlearn: 0.2508928\ttotal: 213ms\tremaining: 1.13s\n",
      "158:\tlearn: 0.2503068\ttotal: 214ms\tremaining: 1.13s\n",
      "159:\tlearn: 0.2494336\ttotal: 215ms\tremaining: 1.13s\n",
      "160:\tlearn: 0.2487485\ttotal: 216ms\tremaining: 1.13s\n",
      "161:\tlearn: 0.2477479\ttotal: 217ms\tremaining: 1.12s\n",
      "162:\tlearn: 0.2468975\ttotal: 218ms\tremaining: 1.12s\n",
      "163:\tlearn: 0.2462205\ttotal: 219ms\tremaining: 1.12s\n",
      "164:\tlearn: 0.2457216\ttotal: 220ms\tremaining: 1.11s\n",
      "165:\tlearn: 0.2452034\ttotal: 221ms\tremaining: 1.11s\n",
      "166:\tlearn: 0.2444553\ttotal: 222ms\tremaining: 1.11s\n",
      "167:\tlearn: 0.2433581\ttotal: 223ms\tremaining: 1.1s\n",
      "168:\tlearn: 0.2427665\ttotal: 224ms\tremaining: 1.1s\n",
      "169:\tlearn: 0.2419312\ttotal: 225ms\tremaining: 1.1s\n",
      "170:\tlearn: 0.2412106\ttotal: 226ms\tremaining: 1.1s\n",
      "171:\tlearn: 0.2408965\ttotal: 227ms\tremaining: 1.09s\n",
      "172:\tlearn: 0.2402319\ttotal: 228ms\tremaining: 1.09s\n",
      "173:\tlearn: 0.2395591\ttotal: 229ms\tremaining: 1.09s\n",
      "174:\tlearn: 0.2388789\ttotal: 230ms\tremaining: 1.08s\n",
      "175:\tlearn: 0.2382262\ttotal: 231ms\tremaining: 1.08s\n",
      "176:\tlearn: 0.2375816\ttotal: 232ms\tremaining: 1.08s\n",
      "177:\tlearn: 0.2369671\ttotal: 233ms\tremaining: 1.08s\n",
      "178:\tlearn: 0.2364763\ttotal: 234ms\tremaining: 1.07s\n",
      "179:\tlearn: 0.2356513\ttotal: 235ms\tremaining: 1.07s\n",
      "180:\tlearn: 0.2349096\ttotal: 236ms\tremaining: 1.07s\n",
      "181:\tlearn: 0.2343875\ttotal: 237ms\tremaining: 1.07s\n",
      "182:\tlearn: 0.2339476\ttotal: 238ms\tremaining: 1.06s\n",
      "183:\tlearn: 0.2330595\ttotal: 239ms\tremaining: 1.06s\n",
      "184:\tlearn: 0.2323687\ttotal: 240ms\tremaining: 1.06s\n",
      "185:\tlearn: 0.2317864\ttotal: 241ms\tremaining: 1.06s\n",
      "186:\tlearn: 0.2309511\ttotal: 243ms\tremaining: 1.05s\n",
      "187:\tlearn: 0.2302943\ttotal: 244ms\tremaining: 1.05s\n",
      "188:\tlearn: 0.2294845\ttotal: 245ms\tremaining: 1.05s\n",
      "189:\tlearn: 0.2288775\ttotal: 246ms\tremaining: 1.05s\n",
      "190:\tlearn: 0.2283287\ttotal: 247ms\tremaining: 1.04s\n",
      "191:\tlearn: 0.2277543\ttotal: 248ms\tremaining: 1.04s\n",
      "192:\tlearn: 0.2269512\ttotal: 249ms\tremaining: 1.04s\n",
      "193:\tlearn: 0.2261644\ttotal: 250ms\tremaining: 1.04s\n",
      "194:\tlearn: 0.2254754\ttotal: 251ms\tremaining: 1.03s\n",
      "195:\tlearn: 0.2246597\ttotal: 252ms\tremaining: 1.03s\n",
      "196:\tlearn: 0.2242048\ttotal: 252ms\tremaining: 1.03s\n",
      "197:\tlearn: 0.2235741\ttotal: 254ms\tremaining: 1.03s\n",
      "198:\tlearn: 0.2230862\ttotal: 255ms\tremaining: 1.02s\n",
      "199:\tlearn: 0.2224669\ttotal: 256ms\tremaining: 1.02s\n",
      "200:\tlearn: 0.2221210\ttotal: 257ms\tremaining: 1.02s\n",
      "201:\tlearn: 0.2213837\ttotal: 258ms\tremaining: 1.02s\n",
      "202:\tlearn: 0.2208716\ttotal: 259ms\tremaining: 1.02s\n",
      "203:\tlearn: 0.2205084\ttotal: 260ms\tremaining: 1.01s\n",
      "204:\tlearn: 0.2200806\ttotal: 261ms\tremaining: 1.01s\n",
      "205:\tlearn: 0.2194976\ttotal: 262ms\tremaining: 1.01s\n",
      "206:\tlearn: 0.2190900\ttotal: 263ms\tremaining: 1.01s\n",
      "207:\tlearn: 0.2185715\ttotal: 264ms\tremaining: 1s\n",
      "208:\tlearn: 0.2181977\ttotal: 265ms\tremaining: 1s\n",
      "209:\tlearn: 0.2178492\ttotal: 266ms\tremaining: 1s\n",
      "210:\tlearn: 0.2173199\ttotal: 267ms\tremaining: 998ms\n",
      "211:\tlearn: 0.2169754\ttotal: 268ms\tremaining: 996ms\n",
      "212:\tlearn: 0.2162958\ttotal: 269ms\tremaining: 995ms\n",
      "213:\tlearn: 0.2157397\ttotal: 270ms\tremaining: 993ms\n",
      "214:\tlearn: 0.2152066\ttotal: 272ms\tremaining: 991ms\n",
      "215:\tlearn: 0.2146441\ttotal: 273ms\tremaining: 990ms\n",
      "216:\tlearn: 0.2142333\ttotal: 274ms\tremaining: 988ms\n",
      "217:\tlearn: 0.2136713\ttotal: 275ms\tremaining: 985ms\n",
      "218:\tlearn: 0.2130709\ttotal: 276ms\tremaining: 984ms\n",
      "219:\tlearn: 0.2126228\ttotal: 277ms\tremaining: 981ms\n",
      "220:\tlearn: 0.2117828\ttotal: 278ms\tremaining: 979ms\n"
     ]
    },
    {
     "name": "stdout",
     "output_type": "stream",
     "text": [
      "221:\tlearn: 0.2114209\ttotal: 280ms\tremaining: 980ms\n",
      "222:\tlearn: 0.2107980\ttotal: 281ms\tremaining: 978ms\n",
      "223:\tlearn: 0.2102230\ttotal: 282ms\tremaining: 976ms\n",
      "224:\tlearn: 0.2099498\ttotal: 283ms\tremaining: 975ms\n",
      "225:\tlearn: 0.2095913\ttotal: 284ms\tremaining: 973ms\n",
      "226:\tlearn: 0.2088157\ttotal: 285ms\tremaining: 971ms\n",
      "227:\tlearn: 0.2082872\ttotal: 286ms\tremaining: 969ms\n",
      "228:\tlearn: 0.2076599\ttotal: 287ms\tremaining: 967ms\n",
      "229:\tlearn: 0.2070052\ttotal: 288ms\tremaining: 965ms\n",
      "230:\tlearn: 0.2064607\ttotal: 289ms\tremaining: 963ms\n",
      "231:\tlearn: 0.2060895\ttotal: 290ms\tremaining: 961ms\n",
      "232:\tlearn: 0.2055208\ttotal: 291ms\tremaining: 959ms\n",
      "233:\tlearn: 0.2050216\ttotal: 292ms\tremaining: 957ms\n",
      "234:\tlearn: 0.2042052\ttotal: 293ms\tremaining: 955ms\n",
      "235:\tlearn: 0.2035652\ttotal: 294ms\tremaining: 953ms\n",
      "236:\tlearn: 0.2030939\ttotal: 295ms\tremaining: 951ms\n",
      "237:\tlearn: 0.2027053\ttotal: 296ms\tremaining: 949ms\n",
      "238:\tlearn: 0.2020620\ttotal: 297ms\tremaining: 947ms\n",
      "239:\tlearn: 0.2012853\ttotal: 299ms\tremaining: 945ms\n",
      "240:\tlearn: 0.2005100\ttotal: 300ms\tremaining: 943ms\n",
      "241:\tlearn: 0.1999545\ttotal: 301ms\tremaining: 941ms\n",
      "242:\tlearn: 0.1995860\ttotal: 301ms\tremaining: 939ms\n",
      "243:\tlearn: 0.1991336\ttotal: 302ms\tremaining: 937ms\n",
      "244:\tlearn: 0.1986462\ttotal: 304ms\tremaining: 935ms\n",
      "245:\tlearn: 0.1982880\ttotal: 304ms\tremaining: 933ms\n",
      "246:\tlearn: 0.1977986\ttotal: 305ms\tremaining: 931ms\n",
      "247:\tlearn: 0.1970694\ttotal: 307ms\tremaining: 929ms\n",
      "248:\tlearn: 0.1968514\ttotal: 308ms\tremaining: 928ms\n",
      "249:\tlearn: 0.1964085\ttotal: 309ms\tremaining: 926ms\n",
      "250:\tlearn: 0.1958241\ttotal: 310ms\tremaining: 924ms\n",
      "251:\tlearn: 0.1952908\ttotal: 311ms\tremaining: 922ms\n",
      "252:\tlearn: 0.1947995\ttotal: 312ms\tremaining: 920ms\n",
      "253:\tlearn: 0.1941199\ttotal: 313ms\tremaining: 919ms\n",
      "254:\tlearn: 0.1936750\ttotal: 314ms\tremaining: 917ms\n",
      "255:\tlearn: 0.1932748\ttotal: 315ms\tremaining: 915ms\n",
      "256:\tlearn: 0.1927759\ttotal: 316ms\tremaining: 913ms\n",
      "257:\tlearn: 0.1923545\ttotal: 317ms\tremaining: 911ms\n",
      "258:\tlearn: 0.1917408\ttotal: 318ms\tremaining: 909ms\n",
      "259:\tlearn: 0.1911189\ttotal: 319ms\tremaining: 908ms\n",
      "260:\tlearn: 0.1906768\ttotal: 320ms\tremaining: 906ms\n",
      "261:\tlearn: 0.1901742\ttotal: 321ms\tremaining: 904ms\n",
      "262:\tlearn: 0.1897612\ttotal: 322ms\tremaining: 902ms\n",
      "263:\tlearn: 0.1894485\ttotal: 323ms\tremaining: 900ms\n",
      "264:\tlearn: 0.1889942\ttotal: 324ms\tremaining: 899ms\n",
      "265:\tlearn: 0.1885969\ttotal: 325ms\tremaining: 897ms\n",
      "266:\tlearn: 0.1882588\ttotal: 326ms\tremaining: 895ms\n",
      "267:\tlearn: 0.1877748\ttotal: 327ms\tremaining: 893ms\n",
      "268:\tlearn: 0.1872208\ttotal: 328ms\tremaining: 891ms\n",
      "269:\tlearn: 0.1867389\ttotal: 329ms\tremaining: 889ms\n",
      "270:\tlearn: 0.1859465\ttotal: 330ms\tremaining: 888ms\n",
      "271:\tlearn: 0.1855519\ttotal: 331ms\tremaining: 886ms\n",
      "272:\tlearn: 0.1851583\ttotal: 332ms\tremaining: 884ms\n",
      "273:\tlearn: 0.1846609\ttotal: 333ms\tremaining: 882ms\n",
      "274:\tlearn: 0.1842398\ttotal: 334ms\tremaining: 881ms\n",
      "275:\tlearn: 0.1839613\ttotal: 335ms\tremaining: 879ms\n",
      "276:\tlearn: 0.1837251\ttotal: 336ms\tremaining: 877ms\n",
      "277:\tlearn: 0.1833423\ttotal: 337ms\tremaining: 876ms\n",
      "278:\tlearn: 0.1828525\ttotal: 339ms\tremaining: 877ms\n",
      "279:\tlearn: 0.1821801\ttotal: 340ms\tremaining: 875ms\n",
      "280:\tlearn: 0.1817893\ttotal: 342ms\tremaining: 874ms\n",
      "281:\tlearn: 0.1812313\ttotal: 343ms\tremaining: 873ms\n",
      "282:\tlearn: 0.1808660\ttotal: 344ms\tremaining: 872ms\n",
      "283:\tlearn: 0.1805665\ttotal: 346ms\tremaining: 873ms\n",
      "284:\tlearn: 0.1800151\ttotal: 348ms\tremaining: 872ms\n",
      "285:\tlearn: 0.1795004\ttotal: 349ms\tremaining: 870ms\n",
      "286:\tlearn: 0.1790164\ttotal: 350ms\tremaining: 868ms\n",
      "287:\tlearn: 0.1786175\ttotal: 351ms\tremaining: 867ms\n",
      "288:\tlearn: 0.1781934\ttotal: 352ms\tremaining: 865ms\n",
      "289:\tlearn: 0.1778195\ttotal: 353ms\tremaining: 864ms\n",
      "290:\tlearn: 0.1775111\ttotal: 354ms\tremaining: 862ms\n",
      "291:\tlearn: 0.1767745\ttotal: 355ms\tremaining: 860ms\n",
      "292:\tlearn: 0.1764737\ttotal: 356ms\tremaining: 859ms\n",
      "293:\tlearn: 0.1757962\ttotal: 357ms\tremaining: 857ms\n",
      "294:\tlearn: 0.1756011\ttotal: 358ms\tremaining: 855ms\n",
      "295:\tlearn: 0.1752607\ttotal: 359ms\tremaining: 854ms\n",
      "296:\tlearn: 0.1747016\ttotal: 360ms\tremaining: 852ms\n",
      "297:\tlearn: 0.1743634\ttotal: 361ms\tremaining: 850ms\n",
      "298:\tlearn: 0.1741108\ttotal: 362ms\tremaining: 849ms\n",
      "299:\tlearn: 0.1738119\ttotal: 363ms\tremaining: 847ms\n",
      "300:\tlearn: 0.1733186\ttotal: 364ms\tremaining: 846ms\n",
      "301:\tlearn: 0.1730091\ttotal: 365ms\tremaining: 844ms\n",
      "302:\tlearn: 0.1727791\ttotal: 366ms\tremaining: 842ms\n",
      "303:\tlearn: 0.1725032\ttotal: 367ms\tremaining: 840ms\n",
      "304:\tlearn: 0.1720547\ttotal: 368ms\tremaining: 839ms\n",
      "305:\tlearn: 0.1716448\ttotal: 369ms\tremaining: 837ms\n",
      "306:\tlearn: 0.1711957\ttotal: 370ms\tremaining: 836ms\n",
      "307:\tlearn: 0.1709007\ttotal: 371ms\tremaining: 834ms\n",
      "308:\tlearn: 0.1703757\ttotal: 372ms\tremaining: 832ms\n",
      "309:\tlearn: 0.1700935\ttotal: 373ms\tremaining: 831ms\n",
      "310:\tlearn: 0.1695402\ttotal: 374ms\tremaining: 829ms\n",
      "311:\tlearn: 0.1690001\ttotal: 375ms\tremaining: 828ms\n",
      "312:\tlearn: 0.1687466\ttotal: 377ms\tremaining: 827ms\n",
      "313:\tlearn: 0.1682414\ttotal: 378ms\tremaining: 825ms\n",
      "314:\tlearn: 0.1679085\ttotal: 379ms\tremaining: 824ms\n",
      "315:\tlearn: 0.1676545\ttotal: 380ms\tremaining: 822ms\n",
      "316:\tlearn: 0.1673373\ttotal: 381ms\tremaining: 821ms\n",
      "317:\tlearn: 0.1670929\ttotal: 382ms\tremaining: 819ms\n",
      "318:\tlearn: 0.1667655\ttotal: 383ms\tremaining: 818ms\n",
      "319:\tlearn: 0.1662357\ttotal: 384ms\tremaining: 816ms\n",
      "320:\tlearn: 0.1659138\ttotal: 385ms\tremaining: 815ms\n",
      "321:\tlearn: 0.1655686\ttotal: 386ms\tremaining: 813ms\n",
      "322:\tlearn: 0.1651342\ttotal: 388ms\tremaining: 812ms\n",
      "323:\tlearn: 0.1648778\ttotal: 389ms\tremaining: 811ms\n",
      "324:\tlearn: 0.1643403\ttotal: 390ms\tremaining: 809ms\n",
      "325:\tlearn: 0.1641694\ttotal: 391ms\tremaining: 808ms\n",
      "326:\tlearn: 0.1639453\ttotal: 392ms\tremaining: 806ms\n",
      "327:\tlearn: 0.1634905\ttotal: 393ms\tremaining: 805ms\n",
      "328:\tlearn: 0.1631404\ttotal: 394ms\tremaining: 803ms\n",
      "329:\tlearn: 0.1628799\ttotal: 395ms\tremaining: 802ms\n",
      "330:\tlearn: 0.1625476\ttotal: 396ms\tremaining: 800ms\n",
      "331:\tlearn: 0.1622627\ttotal: 397ms\tremaining: 798ms\n",
      "332:\tlearn: 0.1619875\ttotal: 398ms\tremaining: 797ms\n",
      "333:\tlearn: 0.1615040\ttotal: 399ms\tremaining: 795ms\n",
      "334:\tlearn: 0.1609007\ttotal: 400ms\tremaining: 794ms\n",
      "335:\tlearn: 0.1606533\ttotal: 401ms\tremaining: 792ms\n",
      "336:\tlearn: 0.1603891\ttotal: 402ms\tremaining: 791ms\n",
      "337:\tlearn: 0.1602138\ttotal: 403ms\tremaining: 789ms\n",
      "338:\tlearn: 0.1597282\ttotal: 404ms\tremaining: 788ms\n",
      "339:\tlearn: 0.1595034\ttotal: 405ms\tremaining: 786ms\n",
      "340:\tlearn: 0.1592679\ttotal: 406ms\tremaining: 785ms\n",
      "341:\tlearn: 0.1590392\ttotal: 407ms\tremaining: 783ms\n",
      "342:\tlearn: 0.1587229\ttotal: 408ms\tremaining: 782ms\n",
      "343:\tlearn: 0.1582173\ttotal: 409ms\tremaining: 780ms\n",
      "344:\tlearn: 0.1579371\ttotal: 410ms\tremaining: 779ms\n"
     ]
    },
    {
     "name": "stdout",
     "output_type": "stream",
     "text": [
      "345:\tlearn: 0.1574210\ttotal: 413ms\tremaining: 781ms\n",
      "346:\tlearn: 0.1569704\ttotal: 414ms\tremaining: 780ms\n",
      "347:\tlearn: 0.1566534\ttotal: 416ms\tremaining: 778ms\n",
      "348:\tlearn: 0.1563005\ttotal: 417ms\tremaining: 777ms\n",
      "349:\tlearn: 0.1558882\ttotal: 418ms\tremaining: 776ms\n",
      "350:\tlearn: 0.1554796\ttotal: 419ms\tremaining: 774ms\n",
      "351:\tlearn: 0.1551357\ttotal: 420ms\tremaining: 773ms\n",
      "352:\tlearn: 0.1546806\ttotal: 421ms\tremaining: 772ms\n",
      "353:\tlearn: 0.1542595\ttotal: 422ms\tremaining: 771ms\n",
      "354:\tlearn: 0.1537552\ttotal: 423ms\tremaining: 769ms\n",
      "355:\tlearn: 0.1534372\ttotal: 424ms\tremaining: 768ms\n",
      "356:\tlearn: 0.1530183\ttotal: 425ms\tremaining: 766ms\n",
      "357:\tlearn: 0.1526354\ttotal: 426ms\tremaining: 765ms\n",
      "358:\tlearn: 0.1525427\ttotal: 427ms\tremaining: 763ms\n",
      "359:\tlearn: 0.1522944\ttotal: 428ms\tremaining: 762ms\n",
      "360:\tlearn: 0.1518476\ttotal: 430ms\tremaining: 760ms\n",
      "361:\tlearn: 0.1515188\ttotal: 431ms\tremaining: 759ms\n",
      "362:\tlearn: 0.1513207\ttotal: 432ms\tremaining: 757ms\n",
      "363:\tlearn: 0.1508680\ttotal: 433ms\tremaining: 756ms\n",
      "364:\tlearn: 0.1506711\ttotal: 434ms\tremaining: 754ms\n",
      "365:\tlearn: 0.1501894\ttotal: 438ms\tremaining: 758ms\n",
      "366:\tlearn: 0.1500375\ttotal: 439ms\tremaining: 757ms\n",
      "367:\tlearn: 0.1499464\ttotal: 440ms\tremaining: 756ms\n",
      "368:\tlearn: 0.1496982\ttotal: 441ms\tremaining: 754ms\n",
      "369:\tlearn: 0.1494729\ttotal: 442ms\tremaining: 753ms\n",
      "370:\tlearn: 0.1491838\ttotal: 443ms\tremaining: 751ms\n",
      "371:\tlearn: 0.1489333\ttotal: 444ms\tremaining: 749ms\n",
      "372:\tlearn: 0.1485859\ttotal: 445ms\tremaining: 748ms\n",
      "373:\tlearn: 0.1485523\ttotal: 446ms\tremaining: 746ms\n",
      "374:\tlearn: 0.1484903\ttotal: 447ms\tremaining: 745ms\n",
      "375:\tlearn: 0.1480826\ttotal: 448ms\tremaining: 743ms\n",
      "376:\tlearn: 0.1479282\ttotal: 449ms\tremaining: 742ms\n",
      "377:\tlearn: 0.1478288\ttotal: 450ms\tremaining: 740ms\n",
      "378:\tlearn: 0.1477773\ttotal: 451ms\tremaining: 738ms\n",
      "379:\tlearn: 0.1474065\ttotal: 452ms\tremaining: 737ms\n",
      "380:\tlearn: 0.1471044\ttotal: 453ms\tremaining: 736ms\n",
      "381:\tlearn: 0.1467704\ttotal: 454ms\tremaining: 734ms\n",
      "382:\tlearn: 0.1465151\ttotal: 455ms\tremaining: 733ms\n",
      "383:\tlearn: 0.1460721\ttotal: 456ms\tremaining: 732ms\n",
      "384:\tlearn: 0.1457511\ttotal: 457ms\tremaining: 730ms\n",
      "385:\tlearn: 0.1453913\ttotal: 458ms\tremaining: 728ms\n",
      "386:\tlearn: 0.1450004\ttotal: 459ms\tremaining: 727ms\n",
      "387:\tlearn: 0.1446679\ttotal: 460ms\tremaining: 725ms\n",
      "388:\tlearn: 0.1441747\ttotal: 461ms\tremaining: 724ms\n",
      "389:\tlearn: 0.1437857\ttotal: 462ms\tremaining: 723ms\n",
      "390:\tlearn: 0.1435738\ttotal: 463ms\tremaining: 721ms\n",
      "391:\tlearn: 0.1434358\ttotal: 464ms\tremaining: 720ms\n",
      "392:\tlearn: 0.1429943\ttotal: 465ms\tremaining: 718ms\n",
      "393:\tlearn: 0.1427398\ttotal: 466ms\tremaining: 717ms\n",
      "394:\tlearn: 0.1426675\ttotal: 467ms\tremaining: 715ms\n",
      "395:\tlearn: 0.1424142\ttotal: 468ms\tremaining: 713ms\n",
      "396:\tlearn: 0.1419400\ttotal: 469ms\tremaining: 712ms\n",
      "397:\tlearn: 0.1416008\ttotal: 470ms\tremaining: 711ms\n",
      "398:\tlearn: 0.1412395\ttotal: 471ms\tremaining: 709ms\n",
      "399:\tlearn: 0.1410758\ttotal: 472ms\tremaining: 708ms\n",
      "400:\tlearn: 0.1409135\ttotal: 473ms\tremaining: 706ms\n",
      "401:\tlearn: 0.1405925\ttotal: 474ms\tremaining: 705ms\n",
      "402:\tlearn: 0.1402875\ttotal: 475ms\tremaining: 703ms\n",
      "403:\tlearn: 0.1402612\ttotal: 476ms\tremaining: 702ms\n",
      "404:\tlearn: 0.1398486\ttotal: 477ms\tremaining: 701ms\n",
      "405:\tlearn: 0.1396731\ttotal: 478ms\tremaining: 699ms\n",
      "406:\tlearn: 0.1396247\ttotal: 479ms\tremaining: 698ms\n",
      "407:\tlearn: 0.1392672\ttotal: 480ms\tremaining: 696ms\n",
      "408:\tlearn: 0.1392435\ttotal: 481ms\tremaining: 695ms\n",
      "409:\tlearn: 0.1388989\ttotal: 482ms\tremaining: 693ms\n",
      "410:\tlearn: 0.1385307\ttotal: 483ms\tremaining: 692ms\n",
      "411:\tlearn: 0.1382695\ttotal: 484ms\tremaining: 690ms\n",
      "412:\tlearn: 0.1379615\ttotal: 485ms\tremaining: 689ms\n",
      "413:\tlearn: 0.1377116\ttotal: 486ms\tremaining: 687ms\n",
      "414:\tlearn: 0.1372711\ttotal: 487ms\tremaining: 686ms\n",
      "415:\tlearn: 0.1369079\ttotal: 488ms\tremaining: 685ms\n",
      "416:\tlearn: 0.1367605\ttotal: 489ms\tremaining: 683ms\n",
      "417:\tlearn: 0.1363777\ttotal: 490ms\tremaining: 682ms\n",
      "418:\tlearn: 0.1360459\ttotal: 491ms\tremaining: 680ms\n",
      "419:\tlearn: 0.1356977\ttotal: 492ms\tremaining: 679ms\n",
      "420:\tlearn: 0.1353484\ttotal: 493ms\tremaining: 678ms\n",
      "421:\tlearn: 0.1350619\ttotal: 494ms\tremaining: 676ms\n",
      "422:\tlearn: 0.1347408\ttotal: 495ms\tremaining: 675ms\n",
      "423:\tlearn: 0.1345754\ttotal: 496ms\tremaining: 673ms\n",
      "424:\tlearn: 0.1343561\ttotal: 497ms\tremaining: 672ms\n",
      "425:\tlearn: 0.1340479\ttotal: 498ms\tremaining: 670ms\n",
      "426:\tlearn: 0.1337810\ttotal: 499ms\tremaining: 669ms\n",
      "427:\tlearn: 0.1336664\ttotal: 499ms\tremaining: 668ms\n",
      "428:\tlearn: 0.1333581\ttotal: 500ms\tremaining: 666ms\n",
      "429:\tlearn: 0.1331513\ttotal: 501ms\tremaining: 665ms\n",
      "430:\tlearn: 0.1329421\ttotal: 502ms\tremaining: 663ms\n",
      "431:\tlearn: 0.1327189\ttotal: 503ms\tremaining: 662ms\n",
      "432:\tlearn: 0.1323887\ttotal: 504ms\tremaining: 661ms\n",
      "433:\tlearn: 0.1320753\ttotal: 505ms\tremaining: 659ms\n",
      "434:\tlearn: 0.1316851\ttotal: 506ms\tremaining: 658ms\n",
      "435:\tlearn: 0.1315017\ttotal: 507ms\tremaining: 656ms\n",
      "436:\tlearn: 0.1312641\ttotal: 508ms\tremaining: 655ms\n",
      "437:\tlearn: 0.1309823\ttotal: 509ms\tremaining: 654ms\n",
      "438:\tlearn: 0.1306969\ttotal: 510ms\tremaining: 652ms\n",
      "439:\tlearn: 0.1303874\ttotal: 511ms\tremaining: 651ms\n",
      "440:\tlearn: 0.1301482\ttotal: 512ms\tremaining: 649ms\n",
      "441:\tlearn: 0.1298781\ttotal: 513ms\tremaining: 648ms\n",
      "442:\tlearn: 0.1296887\ttotal: 514ms\tremaining: 647ms\n",
      "443:\tlearn: 0.1296237\ttotal: 515ms\tremaining: 645ms\n",
      "444:\tlearn: 0.1292858\ttotal: 516ms\tremaining: 644ms\n",
      "445:\tlearn: 0.1291905\ttotal: 517ms\tremaining: 643ms\n",
      "446:\tlearn: 0.1289950\ttotal: 518ms\tremaining: 641ms\n",
      "447:\tlearn: 0.1285651\ttotal: 519ms\tremaining: 640ms\n",
      "448:\tlearn: 0.1282520\ttotal: 520ms\tremaining: 639ms\n",
      "449:\tlearn: 0.1280083\ttotal: 521ms\tremaining: 637ms\n",
      "450:\tlearn: 0.1277518\ttotal: 522ms\tremaining: 636ms\n",
      "451:\tlearn: 0.1275110\ttotal: 523ms\tremaining: 635ms\n",
      "452:\tlearn: 0.1273409\ttotal: 524ms\tremaining: 633ms\n",
      "453:\tlearn: 0.1269833\ttotal: 525ms\tremaining: 632ms\n",
      "454:\tlearn: 0.1268941\ttotal: 526ms\tremaining: 630ms\n",
      "455:\tlearn: 0.1266188\ttotal: 527ms\tremaining: 629ms\n",
      "456:\tlearn: 0.1263946\ttotal: 528ms\tremaining: 628ms\n",
      "457:\tlearn: 0.1260791\ttotal: 529ms\tremaining: 626ms\n",
      "458:\tlearn: 0.1257401\ttotal: 530ms\tremaining: 625ms\n",
      "459:\tlearn: 0.1254412\ttotal: 531ms\tremaining: 624ms\n",
      "460:\tlearn: 0.1251230\ttotal: 532ms\tremaining: 622ms\n",
      "461:\tlearn: 0.1249900\ttotal: 533ms\tremaining: 621ms\n",
      "462:\tlearn: 0.1248494\ttotal: 534ms\tremaining: 620ms\n",
      "463:\tlearn: 0.1245851\ttotal: 535ms\tremaining: 618ms\n",
      "464:\tlearn: 0.1244077\ttotal: 536ms\tremaining: 617ms\n",
      "465:\tlearn: 0.1240559\ttotal: 537ms\tremaining: 616ms\n",
      "466:\tlearn: 0.1237654\ttotal: 538ms\tremaining: 614ms\n",
      "467:\tlearn: 0.1235374\ttotal: 539ms\tremaining: 613ms\n",
      "468:\tlearn: 0.1233954\ttotal: 540ms\tremaining: 612ms\n",
      "469:\tlearn: 0.1231212\ttotal: 541ms\tremaining: 610ms\n",
      "470:\tlearn: 0.1228525\ttotal: 542ms\tremaining: 609ms\n",
      "471:\tlearn: 0.1224882\ttotal: 543ms\tremaining: 608ms\n",
      "472:\tlearn: 0.1221668\ttotal: 544ms\tremaining: 606ms\n",
      "473:\tlearn: 0.1218004\ttotal: 545ms\tremaining: 605ms\n",
      "474:\tlearn: 0.1216778\ttotal: 546ms\tremaining: 604ms\n",
      "475:\tlearn: 0.1214237\ttotal: 547ms\tremaining: 602ms\n"
     ]
    },
    {
     "name": "stdout",
     "output_type": "stream",
     "text": [
      "476:\tlearn: 0.1211233\ttotal: 548ms\tremaining: 601ms\n",
      "477:\tlearn: 0.1208924\ttotal: 549ms\tremaining: 600ms\n",
      "478:\tlearn: 0.1206365\ttotal: 550ms\tremaining: 598ms\n",
      "479:\tlearn: 0.1204873\ttotal: 551ms\tremaining: 597ms\n",
      "480:\tlearn: 0.1202388\ttotal: 552ms\tremaining: 596ms\n",
      "481:\tlearn: 0.1201206\ttotal: 553ms\tremaining: 595ms\n",
      "482:\tlearn: 0.1198550\ttotal: 554ms\tremaining: 593ms\n",
      "483:\tlearn: 0.1195365\ttotal: 555ms\tremaining: 592ms\n",
      "484:\tlearn: 0.1193815\ttotal: 556ms\tremaining: 591ms\n",
      "485:\tlearn: 0.1192470\ttotal: 557ms\tremaining: 589ms\n",
      "486:\tlearn: 0.1191051\ttotal: 558ms\tremaining: 588ms\n",
      "487:\tlearn: 0.1187785\ttotal: 559ms\tremaining: 587ms\n",
      "488:\tlearn: 0.1186588\ttotal: 560ms\tremaining: 586ms\n",
      "489:\tlearn: 0.1184048\ttotal: 561ms\tremaining: 584ms\n",
      "490:\tlearn: 0.1181767\ttotal: 562ms\tremaining: 583ms\n",
      "491:\tlearn: 0.1178805\ttotal: 563ms\tremaining: 582ms\n",
      "492:\tlearn: 0.1177565\ttotal: 564ms\tremaining: 580ms\n",
      "493:\tlearn: 0.1176021\ttotal: 565ms\tremaining: 579ms\n",
      "494:\tlearn: 0.1173456\ttotal: 566ms\tremaining: 578ms\n",
      "495:\tlearn: 0.1172887\ttotal: 567ms\tremaining: 576ms\n",
      "496:\tlearn: 0.1170248\ttotal: 568ms\tremaining: 575ms\n",
      "497:\tlearn: 0.1167214\ttotal: 569ms\tremaining: 574ms\n",
      "498:\tlearn: 0.1166542\ttotal: 570ms\tremaining: 572ms\n",
      "499:\tlearn: 0.1164538\ttotal: 571ms\tremaining: 571ms\n",
      "500:\tlearn: 0.1161536\ttotal: 572ms\tremaining: 570ms\n",
      "501:\tlearn: 0.1158292\ttotal: 573ms\tremaining: 569ms\n",
      "502:\tlearn: 0.1158132\ttotal: 574ms\tremaining: 568ms\n",
      "503:\tlearn: 0.1154939\ttotal: 576ms\tremaining: 566ms\n",
      "504:\tlearn: 0.1151835\ttotal: 577ms\tremaining: 565ms\n",
      "505:\tlearn: 0.1150093\ttotal: 578ms\tremaining: 564ms\n",
      "506:\tlearn: 0.1148218\ttotal: 579ms\tremaining: 563ms\n",
      "507:\tlearn: 0.1146286\ttotal: 580ms\tremaining: 562ms\n",
      "508:\tlearn: 0.1144031\ttotal: 581ms\tremaining: 560ms\n",
      "509:\tlearn: 0.1142334\ttotal: 582ms\tremaining: 559ms\n",
      "510:\tlearn: 0.1140497\ttotal: 583ms\tremaining: 558ms\n",
      "511:\tlearn: 0.1138103\ttotal: 584ms\tremaining: 557ms\n",
      "512:\tlearn: 0.1136560\ttotal: 585ms\tremaining: 555ms\n",
      "513:\tlearn: 0.1134343\ttotal: 586ms\tremaining: 554ms\n",
      "514:\tlearn: 0.1130746\ttotal: 587ms\tremaining: 553ms\n",
      "515:\tlearn: 0.1127536\ttotal: 588ms\tremaining: 552ms\n",
      "516:\tlearn: 0.1126712\ttotal: 589ms\tremaining: 550ms\n",
      "517:\tlearn: 0.1124237\ttotal: 590ms\tremaining: 549ms\n",
      "518:\tlearn: 0.1122200\ttotal: 591ms\tremaining: 548ms\n",
      "519:\tlearn: 0.1119499\ttotal: 592ms\tremaining: 547ms\n",
      "520:\tlearn: 0.1117273\ttotal: 593ms\tremaining: 546ms\n",
      "521:\tlearn: 0.1116303\ttotal: 594ms\tremaining: 544ms\n",
      "522:\tlearn: 0.1114945\ttotal: 595ms\tremaining: 543ms\n",
      "523:\tlearn: 0.1112517\ttotal: 596ms\tremaining: 542ms\n",
      "524:\tlearn: 0.1109927\ttotal: 597ms\tremaining: 541ms\n",
      "525:\tlearn: 0.1107082\ttotal: 598ms\tremaining: 539ms\n",
      "526:\tlearn: 0.1104876\ttotal: 599ms\tremaining: 538ms\n",
      "527:\tlearn: 0.1103434\ttotal: 600ms\tremaining: 537ms\n",
      "528:\tlearn: 0.1102201\ttotal: 601ms\tremaining: 535ms\n",
      "529:\tlearn: 0.1099900\ttotal: 603ms\tremaining: 534ms\n",
      "530:\tlearn: 0.1098497\ttotal: 603ms\tremaining: 533ms\n",
      "531:\tlearn: 0.1096981\ttotal: 605ms\tremaining: 532ms\n",
      "532:\tlearn: 0.1094492\ttotal: 605ms\tremaining: 531ms\n",
      "533:\tlearn: 0.1093152\ttotal: 607ms\tremaining: 529ms\n",
      "534:\tlearn: 0.1090608\ttotal: 607ms\tremaining: 528ms\n",
      "535:\tlearn: 0.1088170\ttotal: 608ms\tremaining: 527ms\n",
      "536:\tlearn: 0.1086019\ttotal: 609ms\tremaining: 525ms\n",
      "537:\tlearn: 0.1083791\ttotal: 610ms\tremaining: 524ms\n",
      "538:\tlearn: 0.1081456\ttotal: 611ms\tremaining: 523ms\n",
      "539:\tlearn: 0.1079129\ttotal: 613ms\tremaining: 522ms\n",
      "540:\tlearn: 0.1077487\ttotal: 614ms\tremaining: 521ms\n",
      "541:\tlearn: 0.1075334\ttotal: 615ms\tremaining: 519ms\n",
      "542:\tlearn: 0.1073995\ttotal: 616ms\tremaining: 518ms\n",
      "543:\tlearn: 0.1071903\ttotal: 617ms\tremaining: 517ms\n",
      "544:\tlearn: 0.1069524\ttotal: 618ms\tremaining: 516ms\n",
      "545:\tlearn: 0.1068498\ttotal: 619ms\tremaining: 514ms\n",
      "546:\tlearn: 0.1065848\ttotal: 620ms\tremaining: 513ms\n",
      "547:\tlearn: 0.1063215\ttotal: 621ms\tremaining: 512ms\n",
      "548:\tlearn: 0.1062341\ttotal: 622ms\tremaining: 511ms\n",
      "549:\tlearn: 0.1059706\ttotal: 623ms\tremaining: 510ms\n",
      "550:\tlearn: 0.1057114\ttotal: 624ms\tremaining: 508ms\n",
      "551:\tlearn: 0.1055789\ttotal: 625ms\tremaining: 507ms\n",
      "552:\tlearn: 0.1054132\ttotal: 626ms\tremaining: 506ms\n",
      "553:\tlearn: 0.1051662\ttotal: 627ms\tremaining: 505ms\n",
      "554:\tlearn: 0.1049658\ttotal: 628ms\tremaining: 503ms\n",
      "555:\tlearn: 0.1047720\ttotal: 629ms\tremaining: 502ms\n",
      "556:\tlearn: 0.1046507\ttotal: 630ms\tremaining: 501ms\n",
      "557:\tlearn: 0.1045316\ttotal: 631ms\tremaining: 500ms\n",
      "558:\tlearn: 0.1044501\ttotal: 632ms\tremaining: 498ms\n",
      "559:\tlearn: 0.1042653\ttotal: 633ms\tremaining: 497ms\n",
      "560:\tlearn: 0.1041682\ttotal: 634ms\tremaining: 496ms\n",
      "561:\tlearn: 0.1039441\ttotal: 635ms\tremaining: 495ms\n",
      "562:\tlearn: 0.1038792\ttotal: 636ms\tremaining: 494ms\n",
      "563:\tlearn: 0.1036325\ttotal: 637ms\tremaining: 493ms\n",
      "564:\tlearn: 0.1035138\ttotal: 638ms\tremaining: 491ms\n",
      "565:\tlearn: 0.1034032\ttotal: 639ms\tremaining: 490ms\n",
      "566:\tlearn: 0.1032044\ttotal: 640ms\tremaining: 489ms\n",
      "567:\tlearn: 0.1029625\ttotal: 641ms\tremaining: 488ms\n",
      "568:\tlearn: 0.1028128\ttotal: 642ms\tremaining: 486ms\n",
      "569:\tlearn: 0.1026422\ttotal: 643ms\tremaining: 485ms\n",
      "570:\tlearn: 0.1024621\ttotal: 644ms\tremaining: 484ms\n",
      "571:\tlearn: 0.1022461\ttotal: 645ms\tremaining: 483ms\n",
      "572:\tlearn: 0.1019656\ttotal: 646ms\tremaining: 482ms\n",
      "573:\tlearn: 0.1017652\ttotal: 647ms\tremaining: 480ms\n",
      "574:\tlearn: 0.1015191\ttotal: 648ms\tremaining: 479ms\n",
      "575:\tlearn: 0.1014075\ttotal: 649ms\tremaining: 478ms\n",
      "576:\tlearn: 0.1012235\ttotal: 650ms\tremaining: 477ms\n",
      "577:\tlearn: 0.1009753\ttotal: 652ms\tremaining: 476ms\n",
      "578:\tlearn: 0.1007931\ttotal: 653ms\tremaining: 475ms\n",
      "579:\tlearn: 0.1007182\ttotal: 654ms\tremaining: 473ms\n",
      "580:\tlearn: 0.1005679\ttotal: 655ms\tremaining: 472ms\n",
      "581:\tlearn: 0.1004881\ttotal: 656ms\tremaining: 471ms\n",
      "582:\tlearn: 0.1002806\ttotal: 657ms\tremaining: 470ms\n",
      "583:\tlearn: 0.1001686\ttotal: 658ms\tremaining: 469ms\n",
      "584:\tlearn: 0.1000095\ttotal: 659ms\tremaining: 467ms\n",
      "585:\tlearn: 0.0999011\ttotal: 660ms\tremaining: 466ms\n",
      "586:\tlearn: 0.0998157\ttotal: 661ms\tremaining: 465ms\n",
      "587:\tlearn: 0.0997073\ttotal: 662ms\tremaining: 464ms\n",
      "588:\tlearn: 0.0994328\ttotal: 663ms\tremaining: 463ms\n",
      "589:\tlearn: 0.0991836\ttotal: 664ms\tremaining: 462ms\n",
      "590:\tlearn: 0.0989779\ttotal: 665ms\tremaining: 460ms\n",
      "591:\tlearn: 0.0988925\ttotal: 667ms\tremaining: 459ms\n",
      "592:\tlearn: 0.0988288\ttotal: 668ms\tremaining: 458ms\n",
      "593:\tlearn: 0.0987535\ttotal: 669ms\tremaining: 457ms\n",
      "594:\tlearn: 0.0986923\ttotal: 670ms\tremaining: 456ms\n",
      "595:\tlearn: 0.0985081\ttotal: 671ms\tremaining: 455ms\n",
      "596:\tlearn: 0.0983056\ttotal: 672ms\tremaining: 454ms\n",
      "597:\tlearn: 0.0980378\ttotal: 673ms\tremaining: 452ms\n",
      "598:\tlearn: 0.0978434\ttotal: 674ms\tremaining: 451ms\n",
      "599:\tlearn: 0.0976000\ttotal: 675ms\tremaining: 450ms\n",
      "600:\tlearn: 0.0973093\ttotal: 677ms\tremaining: 449ms\n",
      "601:\tlearn: 0.0970672\ttotal: 678ms\tremaining: 448ms\n",
      "602:\tlearn: 0.0969750\ttotal: 679ms\tremaining: 447ms\n"
     ]
    },
    {
     "name": "stdout",
     "output_type": "stream",
     "text": [
      "603:\tlearn: 0.0969010\ttotal: 680ms\tremaining: 446ms\n",
      "604:\tlearn: 0.0967233\ttotal: 681ms\tremaining: 445ms\n",
      "605:\tlearn: 0.0965197\ttotal: 682ms\tremaining: 443ms\n",
      "606:\tlearn: 0.0964399\ttotal: 683ms\tremaining: 442ms\n",
      "607:\tlearn: 0.0962511\ttotal: 684ms\tremaining: 441ms\n",
      "608:\tlearn: 0.0960612\ttotal: 685ms\tremaining: 440ms\n",
      "609:\tlearn: 0.0958686\ttotal: 686ms\tremaining: 439ms\n",
      "610:\tlearn: 0.0957160\ttotal: 688ms\tremaining: 438ms\n",
      "611:\tlearn: 0.0956430\ttotal: 688ms\tremaining: 436ms\n",
      "612:\tlearn: 0.0954531\ttotal: 689ms\tremaining: 435ms\n",
      "613:\tlearn: 0.0952605\ttotal: 691ms\tremaining: 434ms\n",
      "614:\tlearn: 0.0951557\ttotal: 692ms\tremaining: 433ms\n",
      "615:\tlearn: 0.0949598\ttotal: 692ms\tremaining: 432ms\n",
      "616:\tlearn: 0.0949138\ttotal: 694ms\tremaining: 431ms\n",
      "617:\tlearn: 0.0947151\ttotal: 695ms\tremaining: 430ms\n",
      "618:\tlearn: 0.0945020\ttotal: 697ms\tremaining: 429ms\n",
      "619:\tlearn: 0.0943657\ttotal: 698ms\tremaining: 428ms\n",
      "620:\tlearn: 0.0941308\ttotal: 700ms\tremaining: 427ms\n",
      "621:\tlearn: 0.0939194\ttotal: 701ms\tremaining: 426ms\n",
      "622:\tlearn: 0.0938927\ttotal: 702ms\tremaining: 425ms\n",
      "623:\tlearn: 0.0936807\ttotal: 703ms\tremaining: 423ms\n",
      "624:\tlearn: 0.0935040\ttotal: 704ms\tremaining: 422ms\n",
      "625:\tlearn: 0.0933261\ttotal: 705ms\tremaining: 421ms\n",
      "626:\tlearn: 0.0932051\ttotal: 706ms\tremaining: 420ms\n",
      "627:\tlearn: 0.0930499\ttotal: 707ms\tremaining: 419ms\n",
      "628:\tlearn: 0.0928789\ttotal: 708ms\tremaining: 418ms\n",
      "629:\tlearn: 0.0927618\ttotal: 709ms\tremaining: 417ms\n",
      "630:\tlearn: 0.0926727\ttotal: 711ms\tremaining: 416ms\n",
      "631:\tlearn: 0.0924829\ttotal: 712ms\tremaining: 414ms\n",
      "632:\tlearn: 0.0922726\ttotal: 713ms\tremaining: 413ms\n",
      "633:\tlearn: 0.0920746\ttotal: 714ms\tremaining: 412ms\n",
      "634:\tlearn: 0.0920212\ttotal: 715ms\tremaining: 411ms\n",
      "635:\tlearn: 0.0917586\ttotal: 716ms\tremaining: 410ms\n",
      "636:\tlearn: 0.0916178\ttotal: 717ms\tremaining: 408ms\n",
      "637:\tlearn: 0.0915551\ttotal: 718ms\tremaining: 407ms\n",
      "638:\tlearn: 0.0913752\ttotal: 719ms\tremaining: 406ms\n",
      "639:\tlearn: 0.0911998\ttotal: 720ms\tremaining: 405ms\n",
      "640:\tlearn: 0.0911137\ttotal: 721ms\tremaining: 404ms\n",
      "641:\tlearn: 0.0909217\ttotal: 722ms\tremaining: 403ms\n",
      "642:\tlearn: 0.0907044\ttotal: 723ms\tremaining: 402ms\n",
      "643:\tlearn: 0.0904693\ttotal: 724ms\tremaining: 400ms\n",
      "644:\tlearn: 0.0902970\ttotal: 725ms\tremaining: 399ms\n",
      "645:\tlearn: 0.0901471\ttotal: 726ms\tremaining: 398ms\n",
      "646:\tlearn: 0.0899479\ttotal: 727ms\tremaining: 397ms\n",
      "647:\tlearn: 0.0898431\ttotal: 728ms\tremaining: 395ms\n",
      "648:\tlearn: 0.0897981\ttotal: 729ms\tremaining: 394ms\n",
      "649:\tlearn: 0.0895612\ttotal: 730ms\tremaining: 393ms\n",
      "650:\tlearn: 0.0892877\ttotal: 731ms\tremaining: 392ms\n",
      "651:\tlearn: 0.0892036\ttotal: 732ms\tremaining: 391ms\n",
      "652:\tlearn: 0.0891486\ttotal: 733ms\tremaining: 390ms\n",
      "653:\tlearn: 0.0889904\ttotal: 734ms\tremaining: 388ms\n",
      "654:\tlearn: 0.0887892\ttotal: 735ms\tremaining: 387ms\n",
      "655:\tlearn: 0.0885307\ttotal: 736ms\tremaining: 386ms\n",
      "656:\tlearn: 0.0884014\ttotal: 737ms\tremaining: 385ms\n",
      "657:\tlearn: 0.0881853\ttotal: 739ms\tremaining: 384ms\n",
      "658:\tlearn: 0.0879418\ttotal: 740ms\tremaining: 383ms\n",
      "659:\tlearn: 0.0878478\ttotal: 741ms\tremaining: 382ms\n",
      "660:\tlearn: 0.0876613\ttotal: 742ms\tremaining: 380ms\n",
      "661:\tlearn: 0.0875427\ttotal: 743ms\tremaining: 379ms\n",
      "662:\tlearn: 0.0873704\ttotal: 744ms\tremaining: 378ms\n",
      "663:\tlearn: 0.0872735\ttotal: 745ms\tremaining: 377ms\n",
      "664:\tlearn: 0.0871140\ttotal: 746ms\tremaining: 376ms\n",
      "665:\tlearn: 0.0869430\ttotal: 747ms\tremaining: 375ms\n",
      "666:\tlearn: 0.0868546\ttotal: 748ms\tremaining: 374ms\n",
      "667:\tlearn: 0.0867128\ttotal: 749ms\tremaining: 372ms\n",
      "668:\tlearn: 0.0865831\ttotal: 750ms\tremaining: 371ms\n",
      "669:\tlearn: 0.0863874\ttotal: 751ms\tremaining: 370ms\n",
      "670:\tlearn: 0.0861787\ttotal: 752ms\tremaining: 369ms\n",
      "671:\tlearn: 0.0860226\ttotal: 754ms\tremaining: 368ms\n",
      "672:\tlearn: 0.0859542\ttotal: 755ms\tremaining: 367ms\n",
      "673:\tlearn: 0.0857277\ttotal: 756ms\tremaining: 366ms\n",
      "674:\tlearn: 0.0854550\ttotal: 758ms\tremaining: 365ms\n",
      "675:\tlearn: 0.0853929\ttotal: 759ms\tremaining: 364ms\n",
      "676:\tlearn: 0.0851826\ttotal: 760ms\tremaining: 363ms\n",
      "677:\tlearn: 0.0851012\ttotal: 761ms\tremaining: 361ms\n",
      "678:\tlearn: 0.0850249\ttotal: 762ms\tremaining: 360ms\n",
      "679:\tlearn: 0.0849734\ttotal: 763ms\tremaining: 359ms\n",
      "680:\tlearn: 0.0849162\ttotal: 764ms\tremaining: 358ms\n",
      "681:\tlearn: 0.0846951\ttotal: 765ms\tremaining: 357ms\n",
      "682:\tlearn: 0.0844370\ttotal: 766ms\tremaining: 356ms\n",
      "683:\tlearn: 0.0842692\ttotal: 768ms\tremaining: 355ms\n",
      "684:\tlearn: 0.0841193\ttotal: 769ms\tremaining: 353ms\n",
      "685:\tlearn: 0.0839672\ttotal: 770ms\tremaining: 352ms\n",
      "686:\tlearn: 0.0839378\ttotal: 771ms\tremaining: 351ms\n",
      "687:\tlearn: 0.0838092\ttotal: 772ms\tremaining: 350ms\n",
      "688:\tlearn: 0.0836135\ttotal: 773ms\tremaining: 349ms\n",
      "689:\tlearn: 0.0833851\ttotal: 774ms\tremaining: 348ms\n",
      "690:\tlearn: 0.0832292\ttotal: 776ms\tremaining: 347ms\n",
      "691:\tlearn: 0.0829998\ttotal: 777ms\tremaining: 346ms\n",
      "692:\tlearn: 0.0828272\ttotal: 778ms\tremaining: 345ms\n",
      "693:\tlearn: 0.0826925\ttotal: 779ms\tremaining: 344ms\n",
      "694:\tlearn: 0.0825370\ttotal: 780ms\tremaining: 342ms\n",
      "695:\tlearn: 0.0824259\ttotal: 781ms\tremaining: 341ms\n",
      "696:\tlearn: 0.0823294\ttotal: 782ms\tremaining: 340ms\n",
      "697:\tlearn: 0.0821848\ttotal: 783ms\tremaining: 339ms\n",
      "698:\tlearn: 0.0820571\ttotal: 784ms\tremaining: 338ms\n",
      "699:\tlearn: 0.0818852\ttotal: 785ms\tremaining: 337ms\n",
      "700:\tlearn: 0.0818524\ttotal: 786ms\tremaining: 335ms\n",
      "701:\tlearn: 0.0817709\ttotal: 787ms\tremaining: 334ms\n",
      "702:\tlearn: 0.0816724\ttotal: 788ms\tremaining: 333ms\n",
      "703:\tlearn: 0.0815414\ttotal: 789ms\tremaining: 332ms\n",
      "704:\tlearn: 0.0814783\ttotal: 790ms\tremaining: 331ms\n",
      "705:\tlearn: 0.0813914\ttotal: 791ms\tremaining: 330ms\n",
      "706:\tlearn: 0.0813150\ttotal: 793ms\tremaining: 328ms\n",
      "707:\tlearn: 0.0811798\ttotal: 794ms\tremaining: 327ms\n",
      "708:\tlearn: 0.0810949\ttotal: 795ms\tremaining: 326ms\n",
      "709:\tlearn: 0.0810526\ttotal: 796ms\tremaining: 325ms\n",
      "710:\tlearn: 0.0810255\ttotal: 797ms\tremaining: 324ms\n",
      "711:\tlearn: 0.0808849\ttotal: 798ms\tremaining: 323ms\n",
      "712:\tlearn: 0.0807220\ttotal: 799ms\tremaining: 322ms\n",
      "713:\tlearn: 0.0806420\ttotal: 800ms\tremaining: 320ms\n",
      "714:\tlearn: 0.0805188\ttotal: 801ms\tremaining: 319ms\n",
      "715:\tlearn: 0.0803895\ttotal: 802ms\tremaining: 318ms\n",
      "716:\tlearn: 0.0802985\ttotal: 803ms\tremaining: 317ms\n",
      "717:\tlearn: 0.0801222\ttotal: 804ms\tremaining: 316ms\n",
      "718:\tlearn: 0.0799492\ttotal: 805ms\tremaining: 315ms\n",
      "719:\tlearn: 0.0798996\ttotal: 806ms\tremaining: 314ms\n",
      "720:\tlearn: 0.0797157\ttotal: 807ms\tremaining: 312ms\n",
      "721:\tlearn: 0.0796334\ttotal: 808ms\tremaining: 311ms\n",
      "722:\tlearn: 0.0794687\ttotal: 810ms\tremaining: 310ms\n",
      "723:\tlearn: 0.0793636\ttotal: 811ms\tremaining: 309ms\n",
      "724:\tlearn: 0.0792461\ttotal: 812ms\tremaining: 308ms\n"
     ]
    },
    {
     "name": "stdout",
     "output_type": "stream",
     "text": [
      "725:\tlearn: 0.0791069\ttotal: 814ms\tremaining: 307ms\n",
      "726:\tlearn: 0.0789304\ttotal: 815ms\tremaining: 306ms\n",
      "727:\tlearn: 0.0787569\ttotal: 816ms\tremaining: 305ms\n",
      "728:\tlearn: 0.0786517\ttotal: 817ms\tremaining: 304ms\n",
      "729:\tlearn: 0.0785713\ttotal: 818ms\tremaining: 303ms\n",
      "730:\tlearn: 0.0784583\ttotal: 819ms\tremaining: 301ms\n",
      "731:\tlearn: 0.0782596\ttotal: 820ms\tremaining: 300ms\n",
      "732:\tlearn: 0.0781931\ttotal: 821ms\tremaining: 299ms\n",
      "733:\tlearn: 0.0780611\ttotal: 822ms\tremaining: 298ms\n",
      "734:\tlearn: 0.0779491\ttotal: 824ms\tremaining: 297ms\n",
      "735:\tlearn: 0.0778976\ttotal: 825ms\tremaining: 296ms\n",
      "736:\tlearn: 0.0777610\ttotal: 826ms\tremaining: 295ms\n",
      "737:\tlearn: 0.0776566\ttotal: 827ms\tremaining: 294ms\n",
      "738:\tlearn: 0.0775046\ttotal: 828ms\tremaining: 292ms\n",
      "739:\tlearn: 0.0773743\ttotal: 829ms\tremaining: 291ms\n",
      "740:\tlearn: 0.0772490\ttotal: 830ms\tremaining: 290ms\n",
      "741:\tlearn: 0.0771794\ttotal: 831ms\tremaining: 289ms\n",
      "742:\tlearn: 0.0770069\ttotal: 832ms\tremaining: 288ms\n",
      "743:\tlearn: 0.0769577\ttotal: 833ms\tremaining: 287ms\n",
      "744:\tlearn: 0.0768418\ttotal: 834ms\tremaining: 286ms\n",
      "745:\tlearn: 0.0767439\ttotal: 835ms\tremaining: 284ms\n",
      "746:\tlearn: 0.0766955\ttotal: 837ms\tremaining: 283ms\n",
      "747:\tlearn: 0.0766293\ttotal: 838ms\tremaining: 282ms\n",
      "748:\tlearn: 0.0764412\ttotal: 839ms\tremaining: 281ms\n",
      "749:\tlearn: 0.0763033\ttotal: 840ms\tremaining: 280ms\n",
      "750:\tlearn: 0.0761300\ttotal: 841ms\tremaining: 279ms\n",
      "751:\tlearn: 0.0759210\ttotal: 842ms\tremaining: 278ms\n",
      "752:\tlearn: 0.0757764\ttotal: 843ms\tremaining: 276ms\n",
      "753:\tlearn: 0.0756401\ttotal: 844ms\tremaining: 275ms\n",
      "754:\tlearn: 0.0755803\ttotal: 845ms\tremaining: 274ms\n",
      "755:\tlearn: 0.0755465\ttotal: 846ms\tremaining: 273ms\n",
      "756:\tlearn: 0.0754671\ttotal: 847ms\tremaining: 272ms\n",
      "757:\tlearn: 0.0753247\ttotal: 848ms\tremaining: 271ms\n",
      "758:\tlearn: 0.0752043\ttotal: 849ms\tremaining: 270ms\n",
      "759:\tlearn: 0.0751422\ttotal: 851ms\tremaining: 269ms\n",
      "760:\tlearn: 0.0751027\ttotal: 852ms\tremaining: 267ms\n",
      "761:\tlearn: 0.0749666\ttotal: 853ms\tremaining: 266ms\n",
      "762:\tlearn: 0.0748457\ttotal: 854ms\tremaining: 265ms\n",
      "763:\tlearn: 0.0747396\ttotal: 855ms\tremaining: 264ms\n",
      "764:\tlearn: 0.0746268\ttotal: 856ms\tremaining: 263ms\n",
      "765:\tlearn: 0.0745794\ttotal: 857ms\tremaining: 262ms\n",
      "766:\tlearn: 0.0744223\ttotal: 858ms\tremaining: 261ms\n",
      "767:\tlearn: 0.0743907\ttotal: 859ms\tremaining: 260ms\n",
      "768:\tlearn: 0.0742579\ttotal: 860ms\tremaining: 258ms\n",
      "769:\tlearn: 0.0742066\ttotal: 861ms\tremaining: 257ms\n",
      "770:\tlearn: 0.0740591\ttotal: 862ms\tremaining: 256ms\n",
      "771:\tlearn: 0.0738977\ttotal: 863ms\tremaining: 255ms\n",
      "772:\tlearn: 0.0738139\ttotal: 864ms\tremaining: 254ms\n",
      "773:\tlearn: 0.0736153\ttotal: 865ms\tremaining: 253ms\n",
      "774:\tlearn: 0.0734334\ttotal: 866ms\tremaining: 252ms\n",
      "775:\tlearn: 0.0733422\ttotal: 867ms\tremaining: 250ms\n",
      "776:\tlearn: 0.0731957\ttotal: 869ms\tremaining: 249ms\n",
      "777:\tlearn: 0.0731562\ttotal: 870ms\tremaining: 248ms\n",
      "778:\tlearn: 0.0730643\ttotal: 871ms\tremaining: 247ms\n",
      "779:\tlearn: 0.0729905\ttotal: 872ms\tremaining: 246ms\n",
      "780:\tlearn: 0.0728773\ttotal: 873ms\tremaining: 245ms\n",
      "781:\tlearn: 0.0727474\ttotal: 874ms\tremaining: 244ms\n",
      "782:\tlearn: 0.0725632\ttotal: 875ms\tremaining: 243ms\n",
      "783:\tlearn: 0.0723972\ttotal: 876ms\tremaining: 241ms\n",
      "784:\tlearn: 0.0722758\ttotal: 878ms\tremaining: 240ms\n",
      "785:\tlearn: 0.0721665\ttotal: 879ms\tremaining: 239ms\n",
      "786:\tlearn: 0.0720212\ttotal: 880ms\tremaining: 238ms\n",
      "787:\tlearn: 0.0718858\ttotal: 881ms\tremaining: 237ms\n",
      "788:\tlearn: 0.0717695\ttotal: 882ms\tremaining: 236ms\n",
      "789:\tlearn: 0.0716020\ttotal: 883ms\tremaining: 235ms\n",
      "790:\tlearn: 0.0715163\ttotal: 884ms\tremaining: 234ms\n",
      "791:\tlearn: 0.0714340\ttotal: 885ms\tremaining: 233ms\n",
      "792:\tlearn: 0.0713612\ttotal: 887ms\tremaining: 231ms\n",
      "793:\tlearn: 0.0712893\ttotal: 888ms\tremaining: 230ms\n",
      "794:\tlearn: 0.0711963\ttotal: 889ms\tremaining: 229ms\n",
      "795:\tlearn: 0.0710665\ttotal: 890ms\tremaining: 228ms\n",
      "796:\tlearn: 0.0709224\ttotal: 891ms\tremaining: 227ms\n",
      "797:\tlearn: 0.0707823\ttotal: 892ms\tremaining: 226ms\n",
      "798:\tlearn: 0.0706111\ttotal: 893ms\tremaining: 225ms\n",
      "799:\tlearn: 0.0704056\ttotal: 894ms\tremaining: 224ms\n",
      "800:\tlearn: 0.0702461\ttotal: 895ms\tremaining: 222ms\n",
      "801:\tlearn: 0.0700861\ttotal: 896ms\tremaining: 221ms\n",
      "802:\tlearn: 0.0699332\ttotal: 897ms\tremaining: 220ms\n",
      "803:\tlearn: 0.0697934\ttotal: 898ms\tremaining: 219ms\n",
      "804:\tlearn: 0.0697187\ttotal: 899ms\tremaining: 218ms\n",
      "805:\tlearn: 0.0696140\ttotal: 900ms\tremaining: 217ms\n",
      "806:\tlearn: 0.0694708\ttotal: 901ms\tremaining: 216ms\n",
      "807:\tlearn: 0.0693708\ttotal: 902ms\tremaining: 214ms\n",
      "808:\tlearn: 0.0692995\ttotal: 903ms\tremaining: 213ms\n",
      "809:\tlearn: 0.0691843\ttotal: 905ms\tremaining: 212ms\n",
      "810:\tlearn: 0.0691554\ttotal: 905ms\tremaining: 211ms\n",
      "811:\tlearn: 0.0690508\ttotal: 907ms\tremaining: 210ms\n",
      "812:\tlearn: 0.0690218\ttotal: 908ms\tremaining: 209ms\n",
      "813:\tlearn: 0.0689422\ttotal: 909ms\tremaining: 208ms\n",
      "814:\tlearn: 0.0688919\ttotal: 910ms\tremaining: 206ms\n",
      "815:\tlearn: 0.0688114\ttotal: 911ms\tremaining: 205ms\n",
      "816:\tlearn: 0.0686892\ttotal: 912ms\tremaining: 204ms\n",
      "817:\tlearn: 0.0685954\ttotal: 913ms\tremaining: 203ms\n",
      "818:\tlearn: 0.0685302\ttotal: 914ms\tremaining: 202ms\n",
      "819:\tlearn: 0.0684011\ttotal: 915ms\tremaining: 201ms\n",
      "820:\tlearn: 0.0683181\ttotal: 916ms\tremaining: 200ms\n",
      "821:\tlearn: 0.0682944\ttotal: 917ms\tremaining: 198ms\n",
      "822:\tlearn: 0.0682260\ttotal: 918ms\tremaining: 197ms\n",
      "823:\tlearn: 0.0680974\ttotal: 919ms\tremaining: 196ms\n",
      "824:\tlearn: 0.0680740\ttotal: 920ms\tremaining: 195ms\n",
      "825:\tlearn: 0.0679581\ttotal: 921ms\tremaining: 194ms\n",
      "826:\tlearn: 0.0677828\ttotal: 922ms\tremaining: 193ms\n",
      "827:\tlearn: 0.0677441\ttotal: 923ms\tremaining: 192ms\n",
      "828:\tlearn: 0.0676783\ttotal: 924ms\tremaining: 191ms\n",
      "829:\tlearn: 0.0675618\ttotal: 925ms\tremaining: 189ms\n",
      "830:\tlearn: 0.0675269\ttotal: 926ms\tremaining: 188ms\n",
      "831:\tlearn: 0.0674168\ttotal: 927ms\tremaining: 187ms\n",
      "832:\tlearn: 0.0672698\ttotal: 928ms\tremaining: 186ms\n",
      "833:\tlearn: 0.0671680\ttotal: 929ms\tremaining: 185ms\n",
      "834:\tlearn: 0.0671103\ttotal: 930ms\tremaining: 184ms\n",
      "835:\tlearn: 0.0670498\ttotal: 931ms\tremaining: 183ms\n",
      "836:\tlearn: 0.0668544\ttotal: 932ms\tremaining: 181ms\n",
      "837:\tlearn: 0.0667811\ttotal: 933ms\tremaining: 180ms\n",
      "838:\tlearn: 0.0666068\ttotal: 934ms\tremaining: 179ms\n",
      "839:\tlearn: 0.0665420\ttotal: 935ms\tremaining: 178ms\n",
      "840:\tlearn: 0.0664775\ttotal: 936ms\tremaining: 177ms\n",
      "841:\tlearn: 0.0664023\ttotal: 937ms\tremaining: 176ms\n",
      "842:\tlearn: 0.0663654\ttotal: 938ms\tremaining: 175ms\n",
      "843:\tlearn: 0.0663342\ttotal: 939ms\tremaining: 174ms\n",
      "844:\tlearn: 0.0663125\ttotal: 940ms\tremaining: 172ms\n",
      "845:\tlearn: 0.0661754\ttotal: 941ms\tremaining: 171ms\n",
      "846:\tlearn: 0.0661583\ttotal: 942ms\tremaining: 170ms\n",
      "847:\tlearn: 0.0660623\ttotal: 943ms\tremaining: 169ms\n"
     ]
    },
    {
     "name": "stdout",
     "output_type": "stream",
     "text": [
      "848:\tlearn: 0.0658937\ttotal: 944ms\tremaining: 168ms\n",
      "849:\tlearn: 0.0658185\ttotal: 946ms\tremaining: 167ms\n",
      "850:\tlearn: 0.0657240\ttotal: 947ms\tremaining: 166ms\n",
      "851:\tlearn: 0.0655545\ttotal: 948ms\tremaining: 165ms\n",
      "852:\tlearn: 0.0654346\ttotal: 949ms\tremaining: 164ms\n",
      "853:\tlearn: 0.0653052\ttotal: 950ms\tremaining: 162ms\n",
      "854:\tlearn: 0.0651819\ttotal: 951ms\tremaining: 161ms\n",
      "855:\tlearn: 0.0650155\ttotal: 952ms\tremaining: 160ms\n",
      "856:\tlearn: 0.0649445\ttotal: 953ms\tremaining: 159ms\n",
      "857:\tlearn: 0.0649325\ttotal: 954ms\tremaining: 158ms\n",
      "858:\tlearn: 0.0648031\ttotal: 955ms\tremaining: 157ms\n",
      "859:\tlearn: 0.0647474\ttotal: 956ms\tremaining: 156ms\n",
      "860:\tlearn: 0.0646797\ttotal: 957ms\tremaining: 154ms\n",
      "861:\tlearn: 0.0645309\ttotal: 958ms\tremaining: 153ms\n",
      "862:\tlearn: 0.0645111\ttotal: 959ms\tremaining: 152ms\n",
      "863:\tlearn: 0.0644657\ttotal: 960ms\tremaining: 151ms\n",
      "864:\tlearn: 0.0643783\ttotal: 961ms\tremaining: 150ms\n",
      "865:\tlearn: 0.0642983\ttotal: 962ms\tremaining: 149ms\n",
      "866:\tlearn: 0.0642200\ttotal: 963ms\tremaining: 148ms\n",
      "867:\tlearn: 0.0641536\ttotal: 964ms\tremaining: 147ms\n",
      "868:\tlearn: 0.0639906\ttotal: 965ms\tremaining: 145ms\n",
      "869:\tlearn: 0.0639820\ttotal: 966ms\tremaining: 144ms\n",
      "870:\tlearn: 0.0639534\ttotal: 967ms\tremaining: 143ms\n",
      "871:\tlearn: 0.0637869\ttotal: 968ms\tremaining: 142ms\n",
      "872:\tlearn: 0.0636375\ttotal: 969ms\tremaining: 141ms\n",
      "873:\tlearn: 0.0636050\ttotal: 970ms\tremaining: 140ms\n",
      "874:\tlearn: 0.0634949\ttotal: 971ms\tremaining: 139ms\n",
      "875:\tlearn: 0.0633811\ttotal: 972ms\tremaining: 138ms\n",
      "876:\tlearn: 0.0632729\ttotal: 973ms\tremaining: 136ms\n",
      "877:\tlearn: 0.0631212\ttotal: 974ms\tremaining: 135ms\n",
      "878:\tlearn: 0.0630286\ttotal: 975ms\tremaining: 134ms\n",
      "879:\tlearn: 0.0629736\ttotal: 976ms\tremaining: 133ms\n",
      "880:\tlearn: 0.0628530\ttotal: 977ms\tremaining: 132ms\n",
      "881:\tlearn: 0.0628280\ttotal: 978ms\tremaining: 131ms\n",
      "882:\tlearn: 0.0628201\ttotal: 979ms\tremaining: 130ms\n",
      "883:\tlearn: 0.0627772\ttotal: 980ms\tremaining: 129ms\n",
      "884:\tlearn: 0.0626558\ttotal: 981ms\tremaining: 127ms\n",
      "885:\tlearn: 0.0626505\ttotal: 982ms\tremaining: 126ms\n",
      "886:\tlearn: 0.0625689\ttotal: 984ms\tremaining: 125ms\n",
      "887:\tlearn: 0.0624860\ttotal: 985ms\tremaining: 124ms\n",
      "888:\tlearn: 0.0623572\ttotal: 986ms\tremaining: 123ms\n",
      "889:\tlearn: 0.0622670\ttotal: 987ms\tremaining: 122ms\n",
      "890:\tlearn: 0.0622059\ttotal: 988ms\tremaining: 121ms\n",
      "891:\tlearn: 0.0620633\ttotal: 989ms\tremaining: 120ms\n",
      "892:\tlearn: 0.0620069\ttotal: 990ms\tremaining: 119ms\n",
      "893:\tlearn: 0.0619991\ttotal: 991ms\tremaining: 118ms\n",
      "894:\tlearn: 0.0619044\ttotal: 992ms\tremaining: 116ms\n",
      "895:\tlearn: 0.0617294\ttotal: 993ms\tremaining: 115ms\n",
      "896:\tlearn: 0.0616379\ttotal: 994ms\tremaining: 114ms\n",
      "897:\tlearn: 0.0616288\ttotal: 995ms\tremaining: 113ms\n",
      "898:\tlearn: 0.0615798\ttotal: 996ms\tremaining: 112ms\n",
      "899:\tlearn: 0.0614778\ttotal: 998ms\tremaining: 111ms\n",
      "900:\tlearn: 0.0614689\ttotal: 999ms\tremaining: 110ms\n",
      "901:\tlearn: 0.0613564\ttotal: 1000ms\tremaining: 109ms\n",
      "902:\tlearn: 0.0612752\ttotal: 1s\tremaining: 107ms\n",
      "903:\tlearn: 0.0611245\ttotal: 1s\tremaining: 106ms\n",
      "904:\tlearn: 0.0610130\ttotal: 1s\tremaining: 105ms\n",
      "905:\tlearn: 0.0609407\ttotal: 1s\tremaining: 104ms\n",
      "906:\tlearn: 0.0609246\ttotal: 1s\tremaining: 103ms\n",
      "907:\tlearn: 0.0608762\ttotal: 1s\tremaining: 102ms\n",
      "908:\tlearn: 0.0607897\ttotal: 1.01s\tremaining: 101ms\n",
      "909:\tlearn: 0.0607001\ttotal: 1.01s\tremaining: 99.7ms\n",
      "910:\tlearn: 0.0605715\ttotal: 1.01s\tremaining: 98.5ms\n",
      "911:\tlearn: 0.0605387\ttotal: 1.01s\tremaining: 97.4ms\n",
      "912:\tlearn: 0.0604540\ttotal: 1.01s\tremaining: 96.3ms\n",
      "913:\tlearn: 0.0603542\ttotal: 1.01s\tremaining: 95.2ms\n",
      "914:\tlearn: 0.0602943\ttotal: 1.01s\tremaining: 94.1ms\n",
      "915:\tlearn: 0.0601653\ttotal: 1.01s\tremaining: 93ms\n",
      "916:\tlearn: 0.0601333\ttotal: 1.01s\tremaining: 91.9ms\n",
      "917:\tlearn: 0.0600099\ttotal: 1.02s\tremaining: 90.8ms\n",
      "918:\tlearn: 0.0598377\ttotal: 1.02s\tremaining: 89.7ms\n",
      "919:\tlearn: 0.0598067\ttotal: 1.02s\tremaining: 88.5ms\n",
      "920:\tlearn: 0.0596670\ttotal: 1.02s\tremaining: 87.4ms\n",
      "921:\tlearn: 0.0596309\ttotal: 1.02s\tremaining: 86.3ms\n",
      "922:\tlearn: 0.0595094\ttotal: 1.02s\tremaining: 85.2ms\n",
      "923:\tlearn: 0.0594916\ttotal: 1.02s\tremaining: 84.1ms\n",
      "924:\tlearn: 0.0594228\ttotal: 1.02s\tremaining: 83ms\n",
      "925:\tlearn: 0.0593486\ttotal: 1.02s\tremaining: 81.9ms\n",
      "926:\tlearn: 0.0592465\ttotal: 1.02s\tremaining: 80.8ms\n",
      "927:\tlearn: 0.0591066\ttotal: 1.03s\tremaining: 79.7ms\n",
      "928:\tlearn: 0.0590032\ttotal: 1.03s\tremaining: 78.5ms\n",
      "929:\tlearn: 0.0589915\ttotal: 1.03s\tremaining: 77.4ms\n",
      "930:\tlearn: 0.0588977\ttotal: 1.03s\tremaining: 76.3ms\n",
      "931:\tlearn: 0.0587578\ttotal: 1.03s\tremaining: 75.2ms\n",
      "932:\tlearn: 0.0586837\ttotal: 1.03s\tremaining: 74.1ms\n",
      "933:\tlearn: 0.0585955\ttotal: 1.03s\tremaining: 73ms\n",
      "934:\tlearn: 0.0584358\ttotal: 1.03s\tremaining: 71.9ms\n",
      "935:\tlearn: 0.0583216\ttotal: 1.03s\tremaining: 70.7ms\n",
      "936:\tlearn: 0.0582290\ttotal: 1.03s\tremaining: 69.6ms\n",
      "937:\tlearn: 0.0581985\ttotal: 1.04s\tremaining: 68.5ms\n",
      "938:\tlearn: 0.0581072\ttotal: 1.04s\tremaining: 67.5ms\n",
      "939:\tlearn: 0.0580927\ttotal: 1.04s\tremaining: 66.4ms\n",
      "940:\tlearn: 0.0580067\ttotal: 1.04s\tremaining: 65.3ms\n",
      "941:\tlearn: 0.0579381\ttotal: 1.04s\tremaining: 64.2ms\n",
      "942:\tlearn: 0.0579291\ttotal: 1.04s\tremaining: 63ms\n",
      "943:\tlearn: 0.0578648\ttotal: 1.04s\tremaining: 61.9ms\n",
      "944:\tlearn: 0.0577892\ttotal: 1.04s\tremaining: 60.8ms\n",
      "945:\tlearn: 0.0577292\ttotal: 1.05s\tremaining: 59.7ms\n",
      "946:\tlearn: 0.0576119\ttotal: 1.05s\tremaining: 58.6ms\n",
      "947:\tlearn: 0.0576014\ttotal: 1.05s\tremaining: 57.5ms\n",
      "948:\tlearn: 0.0574962\ttotal: 1.05s\tremaining: 56.4ms\n",
      "949:\tlearn: 0.0574367\ttotal: 1.05s\tremaining: 55.3ms\n",
      "950:\tlearn: 0.0573945\ttotal: 1.05s\tremaining: 54.2ms\n",
      "951:\tlearn: 0.0573346\ttotal: 1.05s\tremaining: 53.1ms\n",
      "952:\tlearn: 0.0572870\ttotal: 1.05s\tremaining: 52ms\n",
      "953:\tlearn: 0.0571880\ttotal: 1.05s\tremaining: 50.8ms\n",
      "954:\tlearn: 0.0570583\ttotal: 1.05s\tremaining: 49.7ms\n",
      "955:\tlearn: 0.0569688\ttotal: 1.06s\tremaining: 48.6ms\n",
      "956:\tlearn: 0.0569311\ttotal: 1.06s\tremaining: 47.5ms\n",
      "957:\tlearn: 0.0568447\ttotal: 1.06s\tremaining: 46.4ms\n",
      "958:\tlearn: 0.0567914\ttotal: 1.06s\tremaining: 45.3ms\n",
      "959:\tlearn: 0.0566833\ttotal: 1.06s\tremaining: 44.2ms\n",
      "960:\tlearn: 0.0565945\ttotal: 1.06s\tremaining: 43.1ms\n",
      "961:\tlearn: 0.0565122\ttotal: 1.06s\tremaining: 42ms\n",
      "962:\tlearn: 0.0564319\ttotal: 1.06s\tremaining: 40.9ms\n",
      "963:\tlearn: 0.0563301\ttotal: 1.06s\tremaining: 39.8ms\n",
      "964:\tlearn: 0.0562293\ttotal: 1.07s\tremaining: 38.7ms\n",
      "965:\tlearn: 0.0562225\ttotal: 1.07s\tremaining: 37.6ms\n",
      "966:\tlearn: 0.0561834\ttotal: 1.07s\tremaining: 36.5ms\n",
      "967:\tlearn: 0.0560769\ttotal: 1.07s\tremaining: 35.4ms\n",
      "968:\tlearn: 0.0560114\ttotal: 1.07s\tremaining: 34.3ms\n",
      "969:\tlearn: 0.0558709\ttotal: 1.07s\tremaining: 33.1ms\n",
      "970:\tlearn: 0.0557975\ttotal: 1.07s\tremaining: 32ms\n",
      "971:\tlearn: 0.0557060\ttotal: 1.07s\tremaining: 30.9ms\n",
      "972:\tlearn: 0.0556855\ttotal: 1.08s\tremaining: 29.9ms\n",
      "973:\tlearn: 0.0555932\ttotal: 1.08s\tremaining: 28.8ms\n"
     ]
    },
    {
     "name": "stdout",
     "output_type": "stream",
     "text": [
      "974:\tlearn: 0.0555134\ttotal: 1.08s\tremaining: 27.7ms\n",
      "975:\tlearn: 0.0554196\ttotal: 1.08s\tremaining: 26.6ms\n",
      "976:\tlearn: 0.0553595\ttotal: 1.08s\tremaining: 25.5ms\n",
      "977:\tlearn: 0.0552923\ttotal: 1.08s\tremaining: 24.4ms\n",
      "978:\tlearn: 0.0551892\ttotal: 1.08s\tremaining: 23.3ms\n",
      "979:\tlearn: 0.0551206\ttotal: 1.08s\tremaining: 22.1ms\n",
      "980:\tlearn: 0.0550245\ttotal: 1.09s\tremaining: 21ms\n",
      "981:\tlearn: 0.0549433\ttotal: 1.09s\tremaining: 19.9ms\n",
      "982:\tlearn: 0.0548830\ttotal: 1.09s\tremaining: 18.8ms\n",
      "983:\tlearn: 0.0547966\ttotal: 1.09s\tremaining: 17.7ms\n",
      "984:\tlearn: 0.0546526\ttotal: 1.09s\tremaining: 16.6ms\n",
      "985:\tlearn: 0.0545365\ttotal: 1.09s\tremaining: 15.5ms\n",
      "986:\tlearn: 0.0544801\ttotal: 1.09s\tremaining: 14.4ms\n",
      "987:\tlearn: 0.0544032\ttotal: 1.09s\tremaining: 13.3ms\n",
      "988:\tlearn: 0.0543454\ttotal: 1.09s\tremaining: 12.2ms\n",
      "989:\tlearn: 0.0542392\ttotal: 1.09s\tremaining: 11.1ms\n",
      "990:\tlearn: 0.0541569\ttotal: 1.1s\tremaining: 9.96ms\n",
      "991:\tlearn: 0.0541485\ttotal: 1.1s\tremaining: 8.85ms\n",
      "992:\tlearn: 0.0541271\ttotal: 1.1s\tremaining: 7.74ms\n",
      "993:\tlearn: 0.0540527\ttotal: 1.1s\tremaining: 6.64ms\n",
      "994:\tlearn: 0.0540371\ttotal: 1.1s\tremaining: 5.53ms\n",
      "995:\tlearn: 0.0539262\ttotal: 1.1s\tremaining: 4.42ms\n",
      "996:\tlearn: 0.0538600\ttotal: 1.1s\tremaining: 3.32ms\n",
      "997:\tlearn: 0.0537975\ttotal: 1.1s\tremaining: 2.21ms\n",
      "998:\tlearn: 0.0537425\ttotal: 1.1s\tremaining: 1.1ms\n",
      "999:\tlearn: 0.0536289\ttotal: 1.1s\tremaining: 0us\n"
     ]
    },
    {
     "data": {
      "text/plain": [
       "<catboost.core.CatBoostRegressor at 0x7feac24f0550>"
      ]
     },
     "execution_count": 9,
     "metadata": {},
     "output_type": "execute_result"
    }
   ],
   "source": [
    "#Train the Model \n",
    "prior_model = ctb.CatBoostRegressor()\n",
    "prior_model.fit(X_train,Y_train)"
   ]
  },
  {
   "cell_type": "code",
   "execution_count": 10,
   "id": "c775fd81",
   "metadata": {
    "execution": {
     "iopub.execute_input": "2022-01-14T08:16:50.999554Z",
     "iopub.status.busy": "2022-01-14T08:16:50.998914Z",
     "iopub.status.idle": "2022-01-14T08:16:51.012118Z",
     "shell.execute_reply": "2022-01-14T08:16:51.011569Z"
    },
    "papermill": {
     "duration": 0.048659,
     "end_time": "2022-01-14T08:16:51.012258",
     "exception": false,
     "start_time": "2022-01-14T08:16:50.963599",
     "status": "completed"
    },
    "tags": []
   },
   "outputs": [
    {
     "data": {
      "application/scrapbook.scrap.json+json": {
       "data": 0.0885218260960577,
       "encoder": "json",
       "name": "Prior Model MSE",
       "version": 1
      }
     },
     "metadata": {
      "scrapbook": {
       "data": true,
       "display": false,
       "name": "Prior Model MSE"
      }
     },
     "output_type": "display_data"
    },
    {
     "data": {
      "application/scrapbook.scrap.json+json": {
       "data": 1.1790360925208476,
       "encoder": "json",
       "name": "ABC Pre-generator MSE",
       "version": 1
      }
     },
     "metadata": {
      "scrapbook": {
       "data": true,
       "display": false,
       "name": "ABC Pre-generator MSE"
      }
     },
     "output_type": "display_data"
    }
   ],
   "source": [
    "y_pred = prior_model.predict(X_test)\n",
    "y_abc = y_pred + np.random.normal(0,variance, y_pred.shape)\n",
    "mse = mean_squared_error(y_pred,Y_test)\n",
    "sb.glue(\"Prior Model MSE\",mse)\n",
    "mse = mean_squared_error(y_abc,Y_test)\n",
    "sb.glue(\"ABC Pre-generator MSE\",mse)"
   ]
  },
  {
   "cell_type": "markdown",
   "id": "0cd0def6",
   "metadata": {
    "papermill": {
     "duration": 0.029913,
     "end_time": "2022-01-14T08:16:51.072762",
     "exception": false,
     "start_time": "2022-01-14T08:16:51.042849",
     "status": "completed"
    },
    "tags": []
   },
   "source": [
    "# ABC GAN Model"
   ]
  },
  {
   "cell_type": "markdown",
   "id": "70beaf4c",
   "metadata": {
    "papermill": {
     "duration": 0.029466,
     "end_time": "2022-01-14T08:16:51.132734",
     "exception": false,
     "start_time": "2022-01-14T08:16:51.103268",
     "status": "completed"
    },
    "tags": []
   },
   "source": [
    "### Training the network\n",
    "**Training ABC-GAN for n_epochs number of epochs** "
   ]
  },
  {
   "cell_type": "code",
   "execution_count": 11,
   "id": "dbaaafa1",
   "metadata": {
    "execution": {
     "iopub.execute_input": "2022-01-14T08:16:51.197041Z",
     "iopub.status.busy": "2022-01-14T08:16:51.196339Z",
     "iopub.status.idle": "2022-01-14T08:16:54.193334Z",
     "shell.execute_reply": "2022-01-14T08:16:54.192752Z"
    },
    "papermill": {
     "duration": 3.031854,
     "end_time": "2022-01-14T08:16:54.193519",
     "exception": false,
     "start_time": "2022-01-14T08:16:51.161665",
     "status": "completed"
    },
    "tags": []
   },
   "outputs": [],
   "source": [
    "gen = network.Generator(n_features+1).to(device)\n",
    "disc = network.Discriminator(n_features+1).to(device)\n",
    "\n",
    "criterion = torch.nn.BCELoss()\n",
    "gen_opt = torch.optim.Adam(gen.parameters(), lr=0.001, betas=(0.5, 0.999))\n",
    "disc_opt = torch.optim.Adam(disc.parameters(), lr=0.01, betas=(0.5, 0.999))"
   ]
  },
  {
   "cell_type": "code",
   "execution_count": 12,
   "id": "6e9eeab8",
   "metadata": {
    "execution": {
     "iopub.execute_input": "2022-01-14T08:16:54.266051Z",
     "iopub.status.busy": "2022-01-14T08:16:54.265438Z",
     "iopub.status.idle": "2022-01-14T08:22:29.184689Z",
     "shell.execute_reply": "2022-01-14T08:22:29.185362Z"
    },
    "papermill": {
     "duration": 334.958919,
     "end_time": "2022-01-14T08:22:29.185560",
     "exception": false,
     "start_time": "2022-01-14T08:16:54.226641",
     "status": "completed"
    },
    "tags": []
   },
   "outputs": [
    {
     "data": {
      "image/png": "[encoded data removed]",
      "text/plain": [
       "<Figure size 432x288 with 1 Axes>"
      ]
     },
     "metadata": {
      "needs_background": "light"
     },
     "output_type": "display_data"
    },
    {
     "data": {
      "image/png": "[encoded data removed]",
      "text/plain": [
       "<Figure size 432x288 with 1 Axes>"
      ]
     },
     "metadata": {
      "needs_background": "light"
     },
     "output_type": "display_data"
    }
   ],
   "source": [
    "#Training the ABC_GAN \n",
    "ABC_train_test2.training_GAN(disc,gen,disc_opt,gen_opt,train_data,batch_size,n_epochs,criterion,prior_model,variance,device)"
   ]
  },
  {
   "cell_type": "code",
   "execution_count": 13,
   "id": "11c3082e",
   "metadata": {
    "execution": {
     "iopub.execute_input": "2022-01-14T08:22:29.252789Z",
     "iopub.status.busy": "2022-01-14T08:22:29.252085Z",
     "iopub.status.idle": "2022-01-14T08:22:29.749767Z",
     "shell.execute_reply": "2022-01-14T08:22:29.750201Z"
    },
    "papermill": {
     "duration": 0.533532,
     "end_time": "2022-01-14T08:22:29.750367",
     "exception": false,
     "start_time": "2022-01-14T08:22:29.216835",
     "status": "completed"
    },
    "tags": []
   },
   "outputs": [
    {
     "data": {
      "application/scrapbook.scrap.json+json": {
       "data": 0.22607287611724058,
       "encoder": "json",
       "name": "ABC-GAN Model 1 MSE",
       "version": 1
      }
     },
     "metadata": {
      "scrapbook": {
       "data": true,
       "display": false,
       "name": "ABC-GAN Model 1 MSE"
      }
     },
     "output_type": "display_data"
    },
    {
     "data": {
      "application/scrapbook.scrap.json+json": {
       "data": 0.2896158617873694,
       "encoder": "json",
       "name": "ABC-GAN Model 1 MAE",
       "version": 1
      }
     },
     "metadata": {
      "scrapbook": {
       "data": true,
       "display": false,
       "name": "ABC-GAN Model 1 MAE"
      }
     },
     "output_type": "display_data"
    },
    {
     "data": {
      "application/scrapbook.scrap.json+json": {
       "data": 29.540817902311684,
       "encoder": "json",
       "name": "ABC-GAN Model 1 Manhattan Distance",
       "version": 1
      }
     },
     "metadata": {
      "scrapbook": {
       "data": true,
       "display": false,
       "name": "ABC-GAN Model 1 Manhattan Distance"
      }
     },
     "output_type": "display_data"
    },
    {
     "data": {
      "application/scrapbook.scrap.json+json": {
       "data": 4.8017812364384715,
       "encoder": "json",
       "name": "ABC-GAN Model 1 Euclidean distance",
       "version": 1
      }
     },
     "metadata": {
      "scrapbook": {
       "data": true,
       "display": false,
       "name": "ABC-GAN Model 1 Euclidean distance"
      }
     },
     "output_type": "display_data"
    },
    {
     "data": {
      "application/scrapbook.scrap.json+json": {
       "data": [
        [
         0.22227559717460543,
         0.2277582643889523,
         0.22210170575902982,
         0.22437452676105282,
         0.2265547854731371,
         0.23296714846000763,
         0.22112441122923412,
         0.22986104793601114,
         0.22547470322169838,
         0.22504978158999905,
         0.22315309757851728,
         0.2192761651271304,
         0.22028604132599497,
         0.22374234872096715,
         0.22561131403140405,
         0.23081383056771815,
         0.22950486753006386,
         0.22850604565792423,
         0.2292936468753291,
         0.22593976846296307,
         0.2269589213249076,
         0.22420344356938865,
         0.22260921550940577,
         0.22872420987651534,
         0.22172965947471787,
         0.21919217106311745,
         0.22427378537248227,
         0.22612294777772288,
         0.2254845028771241,
         0.22915844593947354,
         0.22054522636890772,
         0.22284258862342313,
         0.22921518865551682,
         0.2239198416245587,
         0.22323052802256635,
         0.22704703043721433,
         0.21572103555936262,
         0.2220252418094657,
         0.23122929484635982,
         0.2302513222270027,
         0.22518159719443911,
         0.2217437393500988,
         0.21432457364630628,
         0.22365834761345207,
         0.22490239044083352,
         0.21628232230442185,
         0.22636558300873313,
         0.22716347962805292,
         0.22443983889195743,
         0.24035239004681902,
         0.22083048556707702,
         0.22280922692178132,
         0.2289414980235707,
         0.22548731689693086,
         0.2265851321016392,
         0.23123771791741116,
         0.2197718160543494,
         0.23216831687500405,
         0.22801807979599423,
         0.22598896329072934,
         0.22892369234861387,
         0.23468569688488186,
         0.22199461197241185,
         0.22056967560383298,
         0.23080768231128404,
         0.22228803527492463,
         0.23301770958333728,
         0.23237569039077605,
         0.22765230776741277,
         0.2305775291790478,
         0.2324079742245189,
         0.22600887853572862,
         0.23149856875440428,
         0.22332917532460442,
         0.2266374421269388,
         0.22743712517102194,
         0.22188022839363802,
         0.2315785720241394,
         0.22738364984788734,
         0.22913989462221257,
         0.23564492046216365,
         0.22635286912398914,
         0.23528202712359686,
         0.21956569621332783,
         0.2234092913426887,
         0.22513428264995006,
         0.22931435475341402,
         0.22732240680330146,
         0.2257162955862588,
         0.2310410376206326,
         0.2193903437694767,
         0.2293695117799296,
         0.22412638736157434,
         0.22849231021275443,
         0.228951400568991,
         0.22181262542515234,
         0.2219555276681906,
         0.22544053106413126,
         0.22206527424458608,
         0.23229986320775764
        ],
        [
         0.287727971798649,
         0.28874722079319115,
         0.2871927255947216,
         0.29174525655952155,
         0.28888223327550233,
         0.29261087538564906,
         0.288709659275471,
         0.29055772867857244,
         0.2890199078794788,
         0.2898053462598838,
         0.2852342670746878,
         0.28764315541176233,
         0.28693860188564835,
         0.28774677260833625,
         0.29125745097796124,
         0.29017522054560047,
         0.2908472241285969,
         0.2905516245347612,
         0.29168300337943376,
         0.2907422446444923,
         0.290587834575597,
         0.28605722971991,
         0.28644930396009893,
         0.29186173506519375,
         0.28668100262681645,
         0.28354038458828834,
         0.2868706483174773,
         0.29097381942704614,
         0.28896773445839974,
         0.28925498611494604,
         0.28610020364616434,
         0.28730156937358425,
         0.29133256254535095,
         0.28533638677760664,
         0.290008285831587,
         0.2897368679736175,
         0.2855088753881408,
         0.28595762173919115,
         0.2937267977086937,
         0.29296400967766256,
         0.28905728663883956,
         0.2864129465876841,
         0.2829371516172792,
         0.2898809322539498,
         0.28877712632803354,
         0.28192738640834303,
         0.2889559747395562,
         0.2882217109641608,
         0.2869814723437908,
         0.29841000805882845,
         0.2868773353596528,
         0.2866157351755628,
         0.293148242302385,
         0.2897305704068904,
         0.2902883825202783,
         0.2929428299414177,
         0.2842302457520775,
         0.2940482678366642,
         0.290630284258548,
         0.29216044162418325,
         0.29259192724438277,
         0.29541517801436723,
         0.29190996837090044,
         0.2867943114948039,
         0.2925493394335111,
         0.2859199545254894,
         0.29254144159894363,
         0.2926507023181401,
         0.2909693867698604,
         0.29295140767798705,
         0.29042286878707363,
         0.2894004662247265,
         0.2938871764230962,
         0.2887248004622319,
         0.29045886699767676,
         0.2906097213135046,
         0.2866605638581164,
         0.2952969078631962,
         0.2905111320170702,
         0.2936754929376583,
         0.2953347999091242,
         0.29211558569587914,
         0.29452355972984257,
         0.2858619389726835,
         0.2866540321094148,
         0.2903985421301103,
         0.2900402510867399,
         0.29123425476399123,
         0.28957216536589697,
         0.29267949055807263,
         0.2856411879845694,
         0.2908138537085524,
         0.28789998459465366,
         0.29230765063388675,
         0.2903108619445679,
         0.28662021231709744,
         0.2851150040971298,
         0.2915564595776446,
         0.2876602644648622,
         0.29203378343406844
        ],
        [
         29.3482531234622,
         29.452216520905495,
         29.293658010661602,
         29.758016169071198,
         29.46598779410124,
         29.846309289336205,
         29.44838524609804,
         29.636888325214386,
         29.480030603706837,
         29.560145318508148,
         29.093895241618156,
         29.33960185199976,
         29.26773739233613,
         29.3501708060503,
         29.708259999752045,
         29.597872495651245,
         29.666416861116886,
         29.636265702545643,
         29.751666344702244,
         29.655708953738213,
         29.63995912671089,
         29.177837431430817,
         29.217829003930092,
         29.76989697664976,
         29.241462267935276,
         28.92111922800541,
         29.260806128382683,
         29.679329581558704,
         29.474708914756775,
         29.5040085837245,
         29.18222077190876,
         29.304760076105595,
         29.715921379625797,
         29.10431145131588,
         29.580845154821873,
         29.553160533308983,
         29.12190528959036,
         29.1676774173975,
         29.960133366286755,
         29.882328987121582,
         29.483843237161636,
         29.21412055194378,
         28.859589464962482,
         29.567855089902878,
         29.455266885459423,
         28.75659341365099,
         29.473509423434734,
         29.398614518344402,
         29.272110179066658,
         30.437820822000504,
         29.26148820668459,
         29.23480498790741,
         29.901120714843273,
         29.55251818150282,
         29.609415017068386,
         29.8801686540246,
         28.991485066711903,
         29.992923319339752,
         29.64428899437189,
         29.800365045666695,
         29.84437657892704,
         30.132348157465458,
         29.774816773831844,
         29.253019772469997,
         29.840032622218132,
         29.163835361599922,
         29.83922704309225,
         29.85037163645029,
         29.67887745052576,
         29.88104358315468,
         29.62313261628151,
         29.518847554922104,
         29.97649199515581,
         29.449929647147655,
         29.626804433763027,
         29.64219157397747,
         29.23937751352787,
         30.120284602046013,
         29.632135465741158,
         29.95490027964115,
         30.124149590730667,
         29.79578974097967,
         30.041403092443943,
         29.15791777521372,
         29.238711275160313,
         29.62065129727125,
         29.584105610847473,
         29.705893985927105,
         29.53636086732149,
         29.85330803692341,
         29.13540117442608,
         29.663013078272343,
         29.36579842865467,
         29.81538036465645,
         29.611707918345928,
         29.235261656343937,
         29.081730417907238,
         29.738758876919746,
         29.341346975415945,
         29.787445910274982
        ],
        [
         4.761524011470461,
         4.819890348096431,
         4.759661121069549,
         4.78395252167362,
         4.807139286338599,
         4.874694774334161,
         4.749177817831407,
         4.842089103834535,
         4.795666765801522,
         4.791145762986126,
         4.770913534430147,
         4.729288407674806,
         4.74016626451557,
         4.777208344790778,
         4.797119347191938,
         4.852114046259347,
         4.838336128057507,
         4.827796252650713,
         4.836109177973918,
         4.800610001158418,
         4.811424942274438,
         4.782128317399862,
         4.7650960097315345,
         4.8301003516909,
         4.755672956209375,
         4.728382540408292,
         4.782878433327904,
         4.8025556397951,
         4.795770980089297,
         4.834683183604309,
         4.74295404675489,
         4.767593107595189,
         4.835281712874929,
         4.779102828534345,
         4.771741176792992,
         4.812358788016107,
         4.690793709710008,
         4.758841735608098,
         4.856478979088523,
         4.846197980598221,
         4.792548686641878,
         4.755823946879245,
         4.675586221205126,
         4.776311490739701,
         4.789576580968825,
         4.696892257126091,
         4.805131576438962,
         4.813592724988415,
         4.7846487401876905,
         4.951357771841532,
         4.746020388477262,
         4.767236216721559,
         4.832394106279433,
         4.795800905321961,
         4.807461229627046,
         4.856567432619045,
         4.734630422487443,
         4.866330067026939,
         4.82263871124423,
         4.801132601340479,
         4.832206185538714,
         4.892641523988647,
         4.75851346758481,
         4.743216937015528,
         4.852049422228814,
         4.761657232313379,
         4.875223725892012,
         4.868502893072895,
         4.8187690743877845,
         4.84962967413625,
         4.868841070614333,
         4.801344146241166,
         4.859305918847797,
         4.772795395060388,
         4.808016129023254,
         4.816491126063063,
         4.757287388433778,
         4.860145506717079,
         4.815924862836265,
         4.834487485914684,
         4.9026300989510405,
         4.804996633781016,
         4.898853617593291,
         4.732409641372927,
         4.7736514029570944,
         4.792045161545841,
         4.836327551443164,
         4.815276263511445,
         4.798235316217661,
         4.854501605448753,
         4.730519534309801,
         4.836909157876837,
         4.781306464856711,
         4.8276511516161715,
         4.832498614385428,
         4.756562602695936,
         4.758094557924993,
         4.7953033447886675,
         4.759270739614188,
         4.867708500638805
        ]
       ],
       "encoder": "json",
       "name": "ABC_GAN_1 Metrics",
       "version": 1
      }
     },
     "metadata": {
      "scrapbook": {
       "data": true,
       "display": false,
       "name": "ABC_GAN_1 Metrics"
      }
     },
     "output_type": "display_data"
    }
   ],
   "source": [
    "ABC_GAN1_metrics=ABC_train_test2.test_generator(gen,test_data,prior_model,variance,\"1\",device)\n",
    "sb.glue(\"ABC_GAN_1 Metrics\",ABC_GAN1_metrics)"
   ]
  },
  {
   "cell_type": "markdown",
   "id": "394a2b9d",
   "metadata": {
    "papermill": {
     "duration": 0.037081,
     "end_time": "2022-01-14T08:22:29.834670",
     "exception": false,
     "start_time": "2022-01-14T08:22:29.797589",
     "status": "completed"
    },
    "tags": []
   },
   "source": [
    "#### Sanity Checks "
   ]
  },
  {
   "cell_type": "code",
   "execution_count": 14,
   "id": "a36b3b22",
   "metadata": {
    "execution": {
     "iopub.execute_input": "2022-01-14T08:22:29.909611Z",
     "iopub.status.busy": "2022-01-14T08:22:29.908988Z",
     "iopub.status.idle": "2022-01-14T08:22:30.650949Z",
     "shell.execute_reply": "2022-01-14T08:22:30.650386Z"
    },
    "papermill": {
     "duration": 0.781269,
     "end_time": "2022-01-14T08:22:30.651118",
     "exception": false,
     "start_time": "2022-01-14T08:22:29.869849",
     "status": "completed"
    },
    "tags": []
   },
   "outputs": [
    {
     "data": {
      "image/png": "[encoded data removed]",
      "text/plain": [
       "<Figure size 432x288 with 1 Axes>"
      ]
     },
     "metadata": {
      "needs_background": "light"
     },
     "output_type": "display_data"
    },
    {
     "data": {
      "image/png": "[encoded data removed]",
      "text/plain": [
       "<Figure size 432x288 with 1 Axes>"
      ]
     },
     "metadata": {
      "needs_background": "light"
     },
     "output_type": "display_data"
    },
    {
     "data": {
      "image/png": "[encoded data removed]",
      "text/plain": [
       "<Figure size 432x288 with 1 Axes>"
      ]
     },
     "metadata": {
      "needs_background": "light"
     },
     "output_type": "display_data"
    },
    {
     "data": {
      "image/png": "[encoded data removed]",
      "text/plain": [
       "<Figure size 432x288 with 1 Axes>"
      ]
     },
     "metadata": {
      "needs_background": "light"
     },
     "output_type": "display_data"
    }
   ],
   "source": [
    "sanityChecks.discProbVsError(train_data,disc,device)\n",
    "sanityChecks.discProbVsError(test_data,disc,device)"
   ]
  },
  {
   "cell_type": "markdown",
   "id": "130f3a4d",
   "metadata": {
    "papermill": {
     "duration": 0.040987,
     "end_time": "2022-01-14T08:22:30.732661",
     "exception": false,
     "start_time": "2022-01-14T08:22:30.691674",
     "status": "completed"
    },
    "tags": []
   },
   "source": [
    "# ABC - GAN Model with skip connection"
   ]
  },
  {
   "cell_type": "code",
   "execution_count": 15,
   "id": "4e43dad1",
   "metadata": {
    "execution": {
     "iopub.execute_input": "2022-01-14T08:22:30.817020Z",
     "iopub.status.busy": "2022-01-14T08:22:30.816314Z",
     "iopub.status.idle": "2022-01-14T08:22:30.822027Z",
     "shell.execute_reply": "2022-01-14T08:22:30.821355Z"
    },
    "papermill": {
     "duration": 0.051424,
     "end_time": "2022-01-14T08:22:30.822186",
     "exception": false,
     "start_time": "2022-01-14T08:22:30.770762",
     "status": "completed"
    },
    "tags": []
   },
   "outputs": [],
   "source": [
    "#Generator\n",
    "gen3 = network.GeneratorWithSkipConnection(n_features+1).to(device)\n",
    "constraints=network.weightConstraint()\n",
    "#Discriminator \n",
    "disc3 = network.Discriminator(n_features+1).to(device)\n",
    "\n",
    "criterion = torch.nn.BCELoss()\n",
    "gen_opt = torch.optim.Adam(gen3.parameters(), lr=0.01, betas=(0.5, 0.999))\n",
    "disc_opt = torch.optim.Adam(disc3.parameters(), lr=0.01, betas=(0.5, 0.999))\n"
   ]
  },
  {
   "cell_type": "code",
   "execution_count": 16,
   "id": "26acbc37",
   "metadata": {
    "execution": {
     "iopub.execute_input": "2022-01-14T08:22:30.909981Z",
     "iopub.status.busy": "2022-01-14T08:22:30.909335Z",
     "iopub.status.idle": "2022-01-14T08:58:30.074400Z",
     "shell.execute_reply": "2022-01-14T08:58:30.073829Z"
    },
    "papermill": {
     "duration": 2159.210405,
     "end_time": "2022-01-14T08:58:30.074554",
     "exception": false,
     "start_time": "2022-01-14T08:22:30.864149",
     "status": "completed"
    },
    "tags": []
   },
   "outputs": [
    {
     "data": {
      "image/png": "[encoded data removed]",
      "text/plain": [
       "<Figure size 432x288 with 1 Axes>"
      ]
     },
     "metadata": {
      "needs_background": "light"
     },
     "output_type": "display_data"
    },
    {
     "data": {
      "image/png": "[encoded data removed]",
      "text/plain": [
       "<Figure size 432x288 with 1 Axes>"
      ]
     },
     "metadata": {
      "needs_background": "light"
     },
     "output_type": "display_data"
    }
   ],
   "source": [
    "ABC_train_test2.training_GAN_skip_connection(disc3,gen3,disc_opt,gen_opt,train_data,batch_size,n_epochs,criterion,prior_model,variance,device)\n"
   ]
  },
  {
   "cell_type": "code",
   "execution_count": 17,
   "id": "c5e0717b",
   "metadata": {
    "execution": {
     "iopub.execute_input": "2022-01-14T08:58:30.162999Z",
     "iopub.status.busy": "2022-01-14T08:58:30.162446Z",
     "iopub.status.idle": "2022-01-14T08:58:32.034192Z",
     "shell.execute_reply": "2022-01-14T08:58:32.033575Z"
    },
    "papermill": {
     "duration": 1.917608,
     "end_time": "2022-01-14T08:58:32.034430",
     "exception": false,
     "start_time": "2022-01-14T08:58:30.116822",
     "status": "completed"
    },
    "tags": []
   },
   "outputs": [
    {
     "data": {
      "application/scrapbook.scrap.json+json": {
       "data": 0.09878448401766267,
       "encoder": "json",
       "name": "ABC-GAN Model 3 MSE",
       "version": 1
      }
     },
     "metadata": {
      "scrapbook": {
       "data": true,
       "display": false,
       "name": "ABC-GAN Model 3 MSE"
      }
     },
     "output_type": "display_data"
    },
    {
     "data": {
      "application/scrapbook.scrap.json+json": {
       "data": 0.228288591245518,
       "encoder": "json",
       "name": "ABC-GAN Model 3 MAE",
       "version": 1
      }
     },
     "metadata": {
      "scrapbook": {
       "data": true,
       "display": false,
       "name": "ABC-GAN Model 3 MAE"
      }
     },
     "output_type": "display_data"
    },
    {
     "data": {
      "application/scrapbook.scrap.json+json": {
       "data": 23.285436307042836,
       "encoder": "json",
       "name": "ABC-GAN Model 3 Manhattan Distance",
       "version": 1
      }
     },
     "metadata": {
      "scrapbook": {
       "data": true,
       "display": false,
       "name": "ABC-GAN Model 3 Manhattan Distance"
      }
     },
     "output_type": "display_data"
    },
    {
     "data": {
      "application/scrapbook.scrap.json+json": {
       "data": 3.1741722651935738,
       "encoder": "json",
       "name": "ABC-GAN Model 3 Euclidean distance",
       "version": 1
      }
     },
     "metadata": {
      "scrapbook": {
       "data": true,
       "display": false,
       "name": "ABC-GAN Model 3 Euclidean distance"
      }
     },
     "output_type": "display_data"
    },
    {
     "data": {
      "application/scrapbook.scrap.json+json": {
       "data": [
        [
         0.09888898751552738,
         0.09528051757732858,
         0.0985782550248863,
         0.09738069066082805,
         0.1000558296696623,
         0.09810288843028364,
         0.09769424375629747,
         0.09598047104654783,
         0.10039926382830767,
         0.10042993222028318,
         0.097506951302038,
         0.09551210787950647,
         0.10096008504767352,
         0.10023811421914788,
         0.09813385678679534,
         0.09879322596061933,
         0.09881580123836844,
         0.1025112366060738,
         0.09792132470551912,
         0.09974975559798645,
         0.09816965635964019,
         0.09841949851426285,
         0.097208496221327,
         0.0986802466534587,
         0.09883475083756023,
         0.10049053169234357,
         0.09963117226480671,
         0.10162606056988588,
         0.09798948877242263,
         0.09733500366620448,
         0.09927951550834453,
         0.10011179730247136,
         0.09993609801562038,
         0.09853385843012531,
         0.10067733682401088,
         0.10067912911261763,
         0.0979462727678704,
         0.10020319242071989,
         0.0987621489122893,
         0.09782293972437202,
         0.09803161348282458,
         0.0981686674168847,
         0.09722493012529125,
         0.10082831958492484,
         0.09856229371931428,
         0.09712003802569168,
         0.09821723255973412,
         0.0985025812061682,
         0.09623379322906869,
         0.10002979347269449,
         0.09912803604168244,
         0.09626085950827562,
         0.09983606770388519,
         0.09953136561259443,
         0.09728593779405971,
         0.09891861964918441,
         0.10040730709732212,
         0.09645439137669481,
         0.1004544966349894,
         0.09994362477573165,
         0.09975833262809143,
         0.09748964501515088,
         0.0983549878940508,
         0.097913607889685,
         0.10274536477591162,
         0.09955333635268658,
         0.10063694065049349,
         0.10120177390409985,
         0.09886553664220127,
         0.09739779258399572,
         0.09738727649659047,
         0.09916267112799958,
         0.09544076452362599,
         0.10058578613822061,
         0.0990486045775755,
         0.10201526337741947,
         0.09665558971128864,
         0.09784076583699484,
         0.09865936530319833,
         0.10005092933264682,
         0.09897517795204104,
         0.09843252488410319,
         0.09865412910796127,
         0.10168678199840701,
         0.09679604086517303,
         0.09926153183529304,
         0.0975145216493967,
         0.09829073034222345,
         0.09853644909739581,
         0.09690942019741619,
         0.09974326341438151,
         0.09580671436994873,
         0.100635673518211,
         0.1007355672567677,
         0.10005387930075846,
         0.09900264503406969,
         0.09857639303440634,
         0.09799370713953849,
         0.09592086695139769,
         0.09774734639439901
        ],
        [
         0.22711446601897478,
         0.2225863934658906,
         0.23051226924301363,
         0.227604512472217,
         0.22872007678390718,
         0.22718062058237254,
         0.22574566536601268,
         0.2246944043493154,
         0.23001216143807945,
         0.2292088778397324,
         0.22682878972195528,
         0.22311917455026917,
         0.23034740734261042,
         0.23176721540078812,
         0.2276427348089569,
         0.22755931664769555,
         0.2275688896211339,
         0.23313056120612458,
         0.22600753747803323,
         0.22830483914517305,
         0.22817668461186044,
         0.22829865572937563,
         0.2268210928339292,
         0.2278051647704606,
         0.22817789452771345,
         0.23042714928149008,
         0.22949101129437194,
         0.2299360018953973,
         0.22769157542828836,
         0.22775645857202073,
         0.2308694851383859,
         0.23040515606236808,
         0.22903530137138625,
         0.22794605349647065,
         0.23157849451344387,
         0.2283096076628449,
         0.22690720049043497,
         0.23027383169049725,
         0.22881438141213914,
         0.22643506976173206,
         0.22741914962363594,
         0.22730032686947607,
         0.22736740022824675,
         0.23013366872043,
         0.2273992196127188,
         0.22611655466550706,
         0.22842767672138473,
         0.22872825052735268,
         0.22780130887586697,
         0.23074380918314644,
         0.23003411055633835,
         0.22405427312661036,
         0.22889911964097442,
         0.22943410595111988,
         0.22628817002416826,
         0.22913385765152236,
         0.23077631550019279,
         0.2249743904480163,
         0.23149446118623018,
         0.2286763450897792,
         0.22973965150395445,
         0.2270608115941286,
         0.22821792605899127,
         0.22626629046292282,
         0.23120478040301332,
         0.22919959483631686,
         0.23152474602501766,
         0.23172793813122838,
         0.22715134505985998,
         0.22769554131025194,
         0.2271031839225222,
         0.22922653555139608,
         0.22441506908074313,
         0.23098138204830534,
         0.22805996923981345,
         0.23163630533963442,
         0.22548854422262488,
         0.2280611450984782,
         0.2286547411817546,
         0.22877042928674057,
         0.2314058576947918,
         0.2276392514616543,
         0.2275573070361918,
         0.23273186150061734,
         0.22525043635829992,
         0.2299930082049732,
         0.22732623650089784,
         0.22916297831883034,
         0.22711766624421464,
         0.225211897883199,
         0.22824842493761988,
         0.2245279956316831,
         0.22997883484497958,
         0.23010692025954818,
         0.23006975910096777,
         0.22803605024648063,
         0.22618141518357923,
         0.22782376509013713,
         0.22602811904952808,
         0.22626071041632517
        ],
        [
         23.165675533935428,
         22.70381213352084,
         23.51225146278739,
         23.215660272166133,
         23.329447831958532,
         23.172423299402,
         23.026057867333293,
         22.91882924363017,
         23.461240466684103,
         23.379305539652705,
         23.136536551639438,
         22.758155804127455,
         23.49543554894626,
         23.64025597088039,
         23.2195589505136,
         23.211050298064947,
         23.212026741355658,
         23.779317243024707,
         23.05276882275939,
         23.28709359280765,
         23.274021830409765,
         23.286462884396315,
         23.13575146906078,
         23.23612680658698,
         23.274145241826773,
         23.50356922671199,
         23.408083152025938,
         23.453472193330526,
         23.224540693685412,
         23.231158774346113,
         23.548687484115362,
         23.501325918361545,
         23.361600739881396,
         23.250497456640005,
         23.621006440371275,
         23.28757998161018,
         23.144534450024366,
         23.48793083243072,
         23.33906690403819,
         23.09637711569667,
         23.196753261610866,
         23.18463334068656,
         23.19147482328117,
         23.473634209483862,
         23.194720400497317,
         23.06388857588172,
         23.29962302558124,
         23.330281553789973,
         23.23573350533843,
         23.535868536680937,
         23.46347927674651,
         22.853535858914256,
         23.347710203379393,
         23.402278807014227,
         23.081393342465162,
         23.37165348045528,
         23.539184181019664,
         22.94738782569766,
         23.61243504099548,
         23.324987199157476,
         23.433444453403354,
         23.160202782601118,
         23.27822845801711,
         23.079161627218127,
         23.58288760110736,
         23.37835867330432,
         23.6155240945518,
         23.636249689385295,
         23.16943719610572,
         23.224945213645697,
         23.164524760097265,
         23.3811066262424,
         22.8903370462358,
         23.560100968927145,
         23.26211686246097,
         23.62690314464271,
         22.999831510707736,
         23.262236800044775,
         23.32278360053897,
         23.33458378724754,
         23.603397484868765,
         23.21920364908874,
         23.210845317691565,
         23.73864987306297,
         22.97554450854659,
         23.459286836907268,
         23.18727612309158,
         23.374623788520694,
         23.166001956909895,
         22.9716135840863,
         23.281339343637228,
         22.901855554431677,
         23.457841154187918,
         23.470905866473913,
         23.467115428298712,
         23.259677125141025,
         23.07050434872508,
         23.238024039193988,
         23.054868143051863,
         23.078592462465167
        ],
        [
         3.175952884818002,
         3.1174689722413462,
         3.1709591628619878,
         3.151639326985952,
         3.194635288464953,
         3.163304383060368,
         3.1567091825415816,
         3.1288988553080266,
         3.200113265259119,
         3.20060198813737,
         3.1536818217454785,
         3.121255357017375,
         3.2090385904290244,
         3.1975440028798796,
         3.16380362732157,
         3.174414756767485,
         3.1747774294135294,
         3.233596470467446,
         3.160375787776344,
         3.1897452987651875,
         3.1643806579934877,
         3.1684047797677004,
         3.148851634258965,
         3.172599117230664,
         3.175081823423003,
         3.2015674649488557,
         3.1878487371596353,
         3.2196052829700044,
         3.161475581874247,
         3.150899930805937,
         3.1822178715246925,
         3.195528645600298,
         3.1927232886038337,
         3.170245031519296,
         3.2045418324698316,
         3.2045703564576327,
         3.160778357038465,
         3.196986960704317,
         3.173915435082275,
         3.1587877187120292,
         3.162155052373002,
         3.1643647192639217,
         3.149117792776209,
         3.206943809557993,
         3.1707024394241174,
         3.1474186055592526,
         3.1651473458739456,
         3.169741832236366,
         3.1330252008825283,
         3.194219612709,
         3.1797892502887057,
         3.1334657601199525,
         3.1911250219626757,
         3.186251605332609,
         3.1501056577508773,
         3.1764286870976357,
         3.2002414477546623,
         3.136614085351092,
         3.200993385930205,
         3.192843517481655,
         3.1898824316995325,
         3.1534019394212005,
         3.16736621898908,
         3.1602512565851266,
         3.2372870134022693,
         3.1866032555016996,
         3.20389886643607,
         3.2128773612166066,
         3.175576284315105,
         3.151916059092875,
         3.1517458975387322,
         3.1803447069548856,
         3.120089418816366,
         3.2030844800127425,
         3.1785150097038555,
         3.225764539531177,
         3.1398837797841246,
         3.1590755159339694,
         3.172263428677737,
         3.1945570572350053,
         3.177336644283728,
         3.1686144508567975,
         3.172179246040812,
         3.2205669941545256,
         3.1421642490881423,
         3.181929642088255,
         3.1538042438043714,
         3.1663313937278885,
         3.170286707528891,
         3.144003953581555,
         3.1896414952572507,
         3.1260653969062724,
         3.203878696027289,
         3.205468430696255,
         3.1946041521098296,
         3.177777492757337,
         3.1709292154681474,
         3.1615436306071953,
         3.1279271777077176,
         3.1575669956833377
        ]
       ],
       "encoder": "json",
       "name": "ABC_GAN_3 Metrics",
       "version": 1
      }
     },
     "metadata": {
      "scrapbook": {
       "data": true,
       "display": false,
       "name": "ABC_GAN_3 Metrics"
      }
     },
     "output_type": "display_data"
    }
   ],
   "source": [
    "ABC_GAN3_metrics=ABC_train_test2.test_generator(gen3,test_data,prior_model,variance,\"3\",device)\n",
    "sb.glue(\"ABC_GAN_3 Metrics\",ABC_GAN3_metrics)"
   ]
  },
  {
   "cell_type": "code",
   "execution_count": 18,
   "id": "c8e46b48",
   "metadata": {
    "execution": {
     "iopub.execute_input": "2022-01-14T08:58:32.134437Z",
     "iopub.status.busy": "2022-01-14T08:58:32.133466Z",
     "iopub.status.idle": "2022-01-14T08:58:33.004566Z",
     "shell.execute_reply": "2022-01-14T08:58:33.003870Z"
    },
    "papermill": {
     "duration": 0.920896,
     "end_time": "2022-01-14T08:58:33.004732",
     "exception": false,
     "start_time": "2022-01-14T08:58:32.083836",
     "status": "completed"
    },
    "tags": []
   },
   "outputs": [
    {
     "data": {
      "image/png": "[encoded data removed]",
      "text/plain": [
       "<Figure size 432x288 with 1 Axes>"
      ]
     },
     "metadata": {
      "needs_background": "light"
     },
     "output_type": "display_data"
    },
    {
     "data": {
      "image/png": "[encoded data removed]",
      "text/plain": [
       "<Figure size 432x288 with 1 Axes>"
      ]
     },
     "metadata": {
      "needs_background": "light"
     },
     "output_type": "display_data"
    },
    {
     "data": {
      "image/png": "[encoded data removed]",
      "text/plain": [
       "<Figure size 432x288 with 1 Axes>"
      ]
     },
     "metadata": {
      "needs_background": "light"
     },
     "output_type": "display_data"
    },
    {
     "data": {
      "image/png": "[encoded data removed]",
      "text/plain": [
       "<Figure size 432x288 with 1 Axes>"
      ]
     },
     "metadata": {
      "needs_background": "light"
     },
     "output_type": "display_data"
    }
   ],
   "source": [
    "sanityChecks.discProbVsError(train_data,disc,device)\n",
    "sanityChecks.discProbVsError(test_data,disc3,device)"
   ]
  },
  {
   "cell_type": "markdown",
   "id": "a5bd74c3",
   "metadata": {
    "papermill": {
     "duration": 0.052281,
     "end_time": "2022-01-14T08:58:33.111261",
     "exception": false,
     "start_time": "2022-01-14T08:58:33.058980",
     "status": "completed"
    },
    "tags": []
   },
   "source": [
    "## Skip Connection Model Analysis - ABC-GAN "
   ]
  },
  {
   "cell_type": "markdown",
   "id": "5744a8bf",
   "metadata": {
    "papermill": {
     "duration": 0.050621,
     "end_time": "2022-01-14T08:58:33.212085",
     "exception": false,
     "start_time": "2022-01-14T08:58:33.161464",
     "status": "completed"
    },
    "tags": []
   },
   "source": [
    "### Weight Analysis \n",
    "\n",
    "Study the weights of the skip connection layer\n",
    "\n",
    "Equation of the skip connection is \n",
    "\n",
    "$output = y_{gan} * w + y_{abc} * (1-w)$"
   ]
  },
  {
   "cell_type": "code",
   "execution_count": 19,
   "id": "52c31dea",
   "metadata": {
    "execution": {
     "iopub.execute_input": "2022-01-14T08:58:33.319049Z",
     "iopub.status.busy": "2022-01-14T08:58:33.318370Z",
     "iopub.status.idle": "2022-01-14T08:58:33.328432Z",
     "shell.execute_reply": "2022-01-14T08:58:33.328896Z"
    },
    "papermill": {
     "duration": 0.066768,
     "end_time": "2022-01-14T08:58:33.329107",
     "exception": false,
     "start_time": "2022-01-14T08:58:33.262339",
     "status": "completed"
    },
    "tags": []
   },
   "outputs": [
    {
     "name": "stdout",
     "output_type": "stream",
     "text": [
      "Weight of the node at skip connection\n",
      "Parameter containing:\n",
      "tensor([[1.]], device='cuda:0', requires_grad=True)\n"
     ]
    },
    {
     "data": {
      "application/scrapbook.scrap.json+json": {
       "data": 1.0,
       "encoder": "json",
       "name": "Skip Connection Weight",
       "version": 1
      }
     },
     "metadata": {
      "scrapbook": {
       "data": true,
       "display": false,
       "name": "Skip Connection Weight"
      }
     },
     "output_type": "display_data"
    }
   ],
   "source": [
    "print(\"Weight of the node at skip connection\")\n",
    "for name,param in gen3.named_parameters():\n",
    "    if(name == \"skipNode.weight\"):\n",
    "        print(param)\n",
    "        sb.glue(\"Skip Connection Weight\",param.item())"
   ]
  }
 ],
 "metadata": {
  "interpreter": {
   "hash": "10498c76ddd8160350534c6544a2b2fb65f2138dbc70420f7c81a3268f830f23"
  },
  "kernelspec": {
   "display_name": "papermill-tutorial",
   "language": "python",
   "name": "python3"
  },
  "language_info": {
   "codemirror_mode": {
    "name": "ipython",
    "version": 3
   },
   "file_extension": ".py",
   "mimetype": "text/x-python",
   "name": "python",
   "nbconvert_exporter": "python",
   "pygments_lexer": "ipython3",
   "version": "3.7.12"
  },
  "papermill": {
   "default_parameters": {},
   "duration": 2509.325449,
   "end_time": "2022-01-14T08:58:34.096083",
   "environment_variables": {},
   "exception": null,
   "input_path": "ABC_GAN_Model-Catboost_Pre-gen.ipynb",
   "output_path": "./ABC_GAN_Output/ABC-GAN_output_2_0.ipynb",
   "parameters": {
    "variance": 1
   },
   "start_time": "2022-01-14T08:16:44.770634",
   "version": "2.3.3"
  }
 },
 "nbformat": 4,
 "nbformat_minor": 5
}