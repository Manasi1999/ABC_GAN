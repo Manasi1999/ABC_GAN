{
 "cells": [
  {
   "cell_type": "markdown",
   "id": "622780e6",
   "metadata": {
    "papermill": {
     "duration": 0.02653,
     "end_time": "2022-01-14T10:24:59.400048",
     "exception": false,
     "start_time": "2022-01-14T10:24:59.373518",
     "status": "completed"
    },
    "tags": []
   },
   "source": [
    "## Import Libraries "
   ]
  },
  {
   "cell_type": "code",
   "execution_count": 1,
   "id": "a62397e3",
   "metadata": {
    "execution": {
     "iopub.execute_input": "2022-01-14T10:24:59.456767Z",
     "iopub.status.busy": "2022-01-14T10:24:59.456048Z",
     "iopub.status.idle": "2022-01-14T10:24:59.459560Z",
     "shell.execute_reply": "2022-01-14T10:24:59.458886Z"
    },
    "papermill": {
     "duration": 0.034974,
     "end_time": "2022-01-14T10:24:59.459711",
     "exception": false,
     "start_time": "2022-01-14T10:24:59.424737",
     "status": "completed"
    },
    "tags": []
   },
   "outputs": [],
   "source": [
    "import warnings\n",
    "import sys\n",
    "sys.path.insert(0, '../../src')\n",
    "warnings.filterwarnings('ignore')"
   ]
  },
  {
   "cell_type": "code",
   "execution_count": 2,
   "id": "d6a4e155",
   "metadata": {
    "execution": {
     "iopub.execute_input": "2022-01-14T10:24:59.521079Z",
     "iopub.status.busy": "2022-01-14T10:24:59.519857Z",
     "iopub.status.idle": "2022-01-14T10:25:01.170065Z",
     "shell.execute_reply": "2022-01-14T10:25:01.169523Z"
    },
    "papermill": {
     "duration": 1.685835,
     "end_time": "2022-01-14T10:25:01.170203",
     "exception": false,
     "start_time": "2022-01-14T10:24:59.484368",
     "status": "completed"
    },
    "tags": []
   },
   "outputs": [],
   "source": [
    "import ABC_train_test2\n",
    "import bostonDataset\n",
    "import network\n",
    "import dataset\n",
    "import sanityChecks\n",
    "import performanceMetrics\n",
    "import torch \n",
    "from torch.utils.data import random_split \n",
    "import scrapbook as sb\n",
    "from statistics import mean \n",
    "import catboost as ctb \n",
    "from sklearn.model_selection import train_test_split\n",
    "from sklearn.metrics import mean_squared_error\n",
    "import numpy as np"
   ]
  },
  {
   "cell_type": "markdown",
   "id": "2fa5b0f7",
   "metadata": {
    "papermill": {
     "duration": 0.023447,
     "end_time": "2022-01-14T10:25:01.216724",
     "exception": false,
     "start_time": "2022-01-14T10:25:01.193277",
     "status": "completed"
    },
    "tags": []
   },
   "source": [
    "## Parameters "
   ]
  },
  {
   "cell_type": "code",
   "execution_count": 3,
   "id": "783186fb",
   "metadata": {
    "execution": {
     "iopub.execute_input": "2022-01-14T10:25:01.267782Z",
     "iopub.status.busy": "2022-01-14T10:25:01.267106Z",
     "iopub.status.idle": "2022-01-14T10:25:01.270109Z",
     "shell.execute_reply": "2022-01-14T10:25:01.269524Z"
    },
    "papermill": {
     "duration": 0.03039,
     "end_time": "2022-01-14T10:25:01.270234",
     "exception": false,
     "start_time": "2022-01-14T10:25:01.239844",
     "status": "completed"
    },
    "tags": [
     "parameters"
    ]
   },
   "outputs": [],
   "source": [
    "variance = 1"
   ]
  },
  {
   "cell_type": "code",
   "execution_count": 4,
   "id": "d3c3131d",
   "metadata": {
    "execution": {
     "iopub.execute_input": "2022-01-14T10:25:01.320441Z",
     "iopub.status.busy": "2022-01-14T10:25:01.319829Z",
     "iopub.status.idle": "2022-01-14T10:25:01.322377Z",
     "shell.execute_reply": "2022-01-14T10:25:01.322900Z"
    },
    "papermill": {
     "duration": 0.029384,
     "end_time": "2022-01-14T10:25:01.323028",
     "exception": false,
     "start_time": "2022-01-14T10:25:01.293644",
     "status": "completed"
    },
    "tags": [
     "injected-parameters"
    ]
   },
   "outputs": [],
   "source": [
    "# Parameters\n",
    "variance = 1\n"
   ]
  },
  {
   "cell_type": "markdown",
   "id": "391cdbfd",
   "metadata": {
    "papermill": {
     "duration": 0.023282,
     "end_time": "2022-01-14T10:25:01.369900",
     "exception": false,
     "start_time": "2022-01-14T10:25:01.346618",
     "status": "completed"
    },
    "tags": []
   },
   "source": [
    "## Dataset - Boston Housing "
   ]
  },
  {
   "cell_type": "code",
   "execution_count": 5,
   "id": "5b51f161",
   "metadata": {
    "execution": {
     "iopub.execute_input": "2022-01-14T10:25:01.422119Z",
     "iopub.status.busy": "2022-01-14T10:25:01.421539Z",
     "iopub.status.idle": "2022-01-14T10:25:01.424388Z",
     "shell.execute_reply": "2022-01-14T10:25:01.423854Z"
    },
    "papermill": {
     "duration": 0.030637,
     "end_time": "2022-01-14T10:25:01.424552",
     "exception": false,
     "start_time": "2022-01-14T10:25:01.393915",
     "status": "completed"
    },
    "tags": []
   },
   "outputs": [],
   "source": [
    "#Parameters \n",
    "n_features = 13\n",
    "n_samples= 506\n",
    "n_target = 1 "
   ]
  },
  {
   "cell_type": "code",
   "execution_count": 6,
   "id": "5d6eced4",
   "metadata": {
    "execution": {
     "iopub.execute_input": "2022-01-14T10:25:01.480944Z",
     "iopub.status.busy": "2022-01-14T10:25:01.480286Z",
     "iopub.status.idle": "2022-01-14T10:25:01.515979Z",
     "shell.execute_reply": "2022-01-14T10:25:01.516521Z"
    },
    "papermill": {
     "duration": 0.067832,
     "end_time": "2022-01-14T10:25:01.516664",
     "exception": false,
     "start_time": "2022-01-14T10:25:01.448832",
     "status": "completed"
    },
    "tags": []
   },
   "outputs": [
    {
     "name": "stdout",
     "output_type": "stream",
     "text": [
      "         X1        X2        X3        X4        X5        X6        X7        X8        X9       X10       X11       X12       X13         Y\n",
      "0 -0.419782  0.284830 -1.287909 -0.272599 -0.144217  0.413672 -0.120013  0.140214 -0.982843 -0.666608 -1.459000  0.441052 -1.075562  0.159686\n",
      "1 -0.417339 -0.487722 -0.593381 -0.272599 -0.740262  0.194274  0.367166  0.557160 -0.867883 -0.987329 -0.303094  0.441052 -0.492439 -0.101524\n",
      "2 -0.417342 -0.487722 -0.593381 -0.272599 -0.740262  1.282714 -0.265812  0.557160 -0.867883 -0.987329 -0.303094  0.396427 -1.208727  1.324247\n",
      "3 -0.416750 -0.487722 -1.306878 -0.272599 -0.835284  1.016303 -0.809889  1.077737 -0.752922 -1.106115  0.113032  0.416163 -1.361517  1.182758\n",
      "4 -0.412482 -0.487722 -1.306878 -0.272599 -0.835284  1.228577 -0.511180  1.077737 -0.752922 -1.106115  0.113032  0.441052 -1.026501  1.487503\n"
     ]
    }
   ],
   "source": [
    "X,Y = bostonDataset.boston_data()"
   ]
  },
  {
   "cell_type": "code",
   "execution_count": 7,
   "id": "fe007438",
   "metadata": {
    "execution": {
     "iopub.execute_input": "2022-01-14T10:25:01.570495Z",
     "iopub.status.busy": "2022-01-14T10:25:01.569847Z",
     "iopub.status.idle": "2022-01-14T10:25:01.573189Z",
     "shell.execute_reply": "2022-01-14T10:25:01.572666Z"
    },
    "papermill": {
     "duration": 0.032063,
     "end_time": "2022-01-14T10:25:01.573319",
     "exception": false,
     "start_time": "2022-01-14T10:25:01.541256",
     "status": "completed"
    },
    "tags": []
   },
   "outputs": [],
   "source": [
    "#Train test split for dataset \n",
    "X_train,X_test,Y_train,Y_test = train_test_split(X,Y,test_size = 0.2)\n",
    "train_data = dataset.CustomDataset(X_train,Y_train)\n",
    "test_data = dataset.CustomDataset(X_test,Y_test)\n"
   ]
  },
  {
   "cell_type": "markdown",
   "id": "a9a1af34",
   "metadata": {
    "papermill": {
     "duration": 0.046229,
     "end_time": "2022-01-14T10:25:01.643962",
     "exception": false,
     "start_time": "2022-01-14T10:25:01.597733",
     "status": "completed"
    },
    "tags": []
   },
   "source": [
    "## Training Parameters \n",
    "\n"
   ]
  },
  {
   "cell_type": "code",
   "execution_count": 8,
   "id": "952b7fc8",
   "metadata": {
    "execution": {
     "iopub.execute_input": "2022-01-14T10:25:01.718347Z",
     "iopub.status.busy": "2022-01-14T10:25:01.717709Z",
     "iopub.status.idle": "2022-01-14T10:25:01.720167Z",
     "shell.execute_reply": "2022-01-14T10:25:01.719582Z"
    },
    "papermill": {
     "duration": 0.050995,
     "end_time": "2022-01-14T10:25:01.720322",
     "exception": false,
     "start_time": "2022-01-14T10:25:01.669327",
     "status": "completed"
    },
    "tags": []
   },
   "outputs": [],
   "source": [
    "batch_size = 64\n",
    "n_epochs = 5000\n",
    "#Select the device \n",
    "device = torch.device('cuda' if torch.cuda.is_available() else 'cpu')"
   ]
  },
  {
   "cell_type": "markdown",
   "id": "a95e1600",
   "metadata": {
    "papermill": {
     "duration": 0.024833,
     "end_time": "2022-01-14T10:25:01.770562",
     "exception": false,
     "start_time": "2022-01-14T10:25:01.745729",
     "status": "completed"
    },
    "tags": []
   },
   "source": [
    "# ABC Pre-generator Model \n",
    "\n",
    "1. The catboost model is used as a pre-generator model for the ABC-GAN. \n",
    "2. The model is first trained on the train dataset \n",
    "3. It generats X,Y pairs and we add some Gaussian noise with mean 0 and variance V (1,0.01,0.1) to it which is then feed as input to the generator.\n"
   ]
  },
  {
   "cell_type": "code",
   "execution_count": 9,
   "id": "ff8ce7bd",
   "metadata": {
    "execution": {
     "iopub.execute_input": "2022-01-14T10:25:01.843016Z",
     "iopub.status.busy": "2022-01-14T10:25:01.837666Z",
     "iopub.status.idle": "2022-01-14T10:25:03.593866Z",
     "shell.execute_reply": "2022-01-14T10:25:03.593269Z"
    },
    "papermill": {
     "duration": 1.798138,
     "end_time": "2022-01-14T10:25:03.594057",
     "exception": false,
     "start_time": "2022-01-14T10:25:01.795919",
     "status": "completed"
    },
    "tags": []
   },
   "outputs": [
    {
     "name": "stdout",
     "output_type": "stream",
     "text": [
      "Learning rate set to 0.03548\n",
      "0:\tlearn: 0.9702724\ttotal: 47.7ms\tremaining: 47.7s\n",
      "1:\tlearn: 0.9500787\ttotal: 48.9ms\tremaining: 24.4s\n",
      "2:\tlearn: 0.9299330\ttotal: 49.8ms\tremaining: 16.6s\n",
      "3:\tlearn: 0.9116810\ttotal: 50.8ms\tremaining: 12.6s\n",
      "4:\tlearn: 0.8917589\ttotal: 51.9ms\tremaining: 10.3s\n",
      "5:\tlearn: 0.8737186\ttotal: 53ms\tremaining: 8.77s\n",
      "6:\tlearn: 0.8589189\ttotal: 54.1ms\tremaining: 7.68s\n",
      "7:\tlearn: 0.8419367\ttotal: 55.1ms\tremaining: 6.84s\n",
      "8:\tlearn: 0.8264494\ttotal: 56.2ms\tremaining: 6.19s\n",
      "9:\tlearn: 0.8095681\ttotal: 57.2ms\tremaining: 5.67s\n",
      "10:\tlearn: 0.7962654\ttotal: 58.2ms\tremaining: 5.24s\n",
      "11:\tlearn: 0.7815940\ttotal: 59.3ms\tremaining: 4.88s\n",
      "12:\tlearn: 0.7661995\ttotal: 60.4ms\tremaining: 4.58s\n",
      "13:\tlearn: 0.7506767\ttotal: 61.4ms\tremaining: 4.33s\n",
      "14:\tlearn: 0.7383714\ttotal: 62.6ms\tremaining: 4.11s\n",
      "15:\tlearn: 0.7238213\ttotal: 63.6ms\tremaining: 3.91s\n",
      "16:\tlearn: 0.7118246\ttotal: 64.7ms\tremaining: 3.74s\n",
      "17:\tlearn: 0.6989783\ttotal: 65.8ms\tremaining: 3.59s\n",
      "18:\tlearn: 0.6863822\ttotal: 66.9ms\tremaining: 3.45s\n",
      "19:\tlearn: 0.6728439\ttotal: 67.9ms\tremaining: 3.33s\n",
      "20:\tlearn: 0.6595446\ttotal: 69ms\tremaining: 3.22s\n",
      "21:\tlearn: 0.6495167\ttotal: 70.3ms\tremaining: 3.13s\n",
      "22:\tlearn: 0.6397241\ttotal: 71.3ms\tremaining: 3.03s\n",
      "23:\tlearn: 0.6309229\ttotal: 72.5ms\tremaining: 2.95s\n",
      "24:\tlearn: 0.6212802\ttotal: 73.5ms\tremaining: 2.87s\n",
      "25:\tlearn: 0.6126150\ttotal: 74.5ms\tremaining: 2.79s\n",
      "26:\tlearn: 0.6018555\ttotal: 75.6ms\tremaining: 2.73s\n",
      "27:\tlearn: 0.5939776\ttotal: 76.7ms\tremaining: 2.66s\n",
      "28:\tlearn: 0.5840299\ttotal: 77.7ms\tremaining: 2.6s\n",
      "29:\tlearn: 0.5744259\ttotal: 78.8ms\tremaining: 2.55s\n",
      "30:\tlearn: 0.5646881\ttotal: 79.9ms\tremaining: 2.5s\n",
      "31:\tlearn: 0.5567124\ttotal: 81ms\tremaining: 2.45s\n",
      "32:\tlearn: 0.5503631\ttotal: 82ms\tremaining: 2.4s\n",
      "33:\tlearn: 0.5426685\ttotal: 83.1ms\tremaining: 2.36s\n",
      "34:\tlearn: 0.5358055\ttotal: 84.3ms\tremaining: 2.32s\n",
      "35:\tlearn: 0.5283075\ttotal: 85.4ms\tremaining: 2.29s\n",
      "36:\tlearn: 0.5215587\ttotal: 86.4ms\tremaining: 2.25s\n",
      "37:\tlearn: 0.5153436\ttotal: 87.5ms\tremaining: 2.21s\n",
      "38:\tlearn: 0.5078380\ttotal: 88.6ms\tremaining: 2.18s\n",
      "39:\tlearn: 0.5000900\ttotal: 89.7ms\tremaining: 2.15s\n",
      "40:\tlearn: 0.4941654\ttotal: 90.7ms\tremaining: 2.12s\n",
      "41:\tlearn: 0.4883117\ttotal: 91.7ms\tremaining: 2.09s\n",
      "42:\tlearn: 0.4828738\ttotal: 92.8ms\tremaining: 2.06s\n",
      "43:\tlearn: 0.4767334\ttotal: 93.9ms\tremaining: 2.04s\n",
      "44:\tlearn: 0.4700109\ttotal: 94.9ms\tremaining: 2.01s\n",
      "45:\tlearn: 0.4640799\ttotal: 96ms\tremaining: 1.99s\n",
      "46:\tlearn: 0.4581372\ttotal: 97.1ms\tremaining: 1.97s\n",
      "47:\tlearn: 0.4527472\ttotal: 98.1ms\tremaining: 1.95s\n",
      "48:\tlearn: 0.4486931\ttotal: 99.1ms\tremaining: 1.92s\n",
      "49:\tlearn: 0.4442104\ttotal: 100ms\tremaining: 1.9s\n",
      "50:\tlearn: 0.4387239\ttotal: 101ms\tremaining: 1.88s\n",
      "51:\tlearn: 0.4343771\ttotal: 102ms\tremaining: 1.86s\n",
      "52:\tlearn: 0.4300303\ttotal: 103ms\tremaining: 1.85s\n",
      "53:\tlearn: 0.4266425\ttotal: 104ms\tremaining: 1.82s\n",
      "54:\tlearn: 0.4221432\ttotal: 105ms\tremaining: 1.81s\n",
      "55:\tlearn: 0.4190138\ttotal: 106ms\tremaining: 1.79s\n",
      "56:\tlearn: 0.4158351\ttotal: 107ms\tremaining: 1.77s\n",
      "57:\tlearn: 0.4114685\ttotal: 108ms\tremaining: 1.76s\n",
      "58:\tlearn: 0.4084594\ttotal: 109ms\tremaining: 1.75s\n",
      "59:\tlearn: 0.4048092\ttotal: 111ms\tremaining: 1.73s\n",
      "60:\tlearn: 0.4005081\ttotal: 112ms\tremaining: 1.72s\n",
      "61:\tlearn: 0.3970088\ttotal: 113ms\tremaining: 1.71s\n",
      "62:\tlearn: 0.3939518\ttotal: 114ms\tremaining: 1.69s\n",
      "63:\tlearn: 0.3897912\ttotal: 115ms\tremaining: 1.68s\n",
      "64:\tlearn: 0.3865922\ttotal: 116ms\tremaining: 1.67s\n",
      "65:\tlearn: 0.3821983\ttotal: 117ms\tremaining: 1.66s\n",
      "66:\tlearn: 0.3787654\ttotal: 118ms\tremaining: 1.64s\n",
      "67:\tlearn: 0.3762500\ttotal: 119ms\tremaining: 1.63s\n",
      "68:\tlearn: 0.3729642\ttotal: 120ms\tremaining: 1.62s\n",
      "69:\tlearn: 0.3701673\ttotal: 121ms\tremaining: 1.61s\n",
      "70:\tlearn: 0.3668638\ttotal: 122ms\tremaining: 1.6s\n",
      "71:\tlearn: 0.3644372\ttotal: 123ms\tremaining: 1.59s\n",
      "72:\tlearn: 0.3620588\ttotal: 124ms\tremaining: 1.58s\n",
      "73:\tlearn: 0.3594448\ttotal: 125ms\tremaining: 1.57s\n",
      "74:\tlearn: 0.3565503\ttotal: 126ms\tremaining: 1.56s\n",
      "75:\tlearn: 0.3543267\ttotal: 127ms\tremaining: 1.55s\n",
      "76:\tlearn: 0.3522914\ttotal: 128ms\tremaining: 1.54s\n",
      "77:\tlearn: 0.3498834\ttotal: 129ms\tremaining: 1.53s\n",
      "78:\tlearn: 0.3476371\ttotal: 130ms\tremaining: 1.52s\n",
      "79:\tlearn: 0.3453315\ttotal: 131ms\tremaining: 1.51s\n",
      "80:\tlearn: 0.3425211\ttotal: 132ms\tremaining: 1.5s\n",
      "81:\tlearn: 0.3408654\ttotal: 134ms\tremaining: 1.49s\n",
      "82:\tlearn: 0.3386424\ttotal: 135ms\tremaining: 1.49s\n",
      "83:\tlearn: 0.3367267\ttotal: 136ms\tremaining: 1.48s\n",
      "84:\tlearn: 0.3347020\ttotal: 137ms\tremaining: 1.47s\n",
      "85:\tlearn: 0.3327963\ttotal: 138ms\tremaining: 1.46s\n",
      "86:\tlearn: 0.3304759\ttotal: 139ms\tremaining: 1.46s\n",
      "87:\tlearn: 0.3283632\ttotal: 140ms\tremaining: 1.45s\n"
     ]
    },
    {
     "name": "stdout",
     "output_type": "stream",
     "text": [
      "88:\tlearn: 0.3261305\ttotal: 142ms\tremaining: 1.45s\n",
      "89:\tlearn: 0.3241404\ttotal: 143ms\tremaining: 1.45s\n",
      "90:\tlearn: 0.3221514\ttotal: 144ms\tremaining: 1.44s\n",
      "91:\tlearn: 0.3209992\ttotal: 145ms\tremaining: 1.43s\n",
      "92:\tlearn: 0.3199235\ttotal: 146ms\tremaining: 1.43s\n",
      "93:\tlearn: 0.3187925\ttotal: 148ms\tremaining: 1.42s\n",
      "94:\tlearn: 0.3170916\ttotal: 149ms\tremaining: 1.42s\n",
      "95:\tlearn: 0.3158025\ttotal: 150ms\tremaining: 1.41s\n",
      "96:\tlearn: 0.3143956\ttotal: 151ms\tremaining: 1.4s\n",
      "97:\tlearn: 0.3120258\ttotal: 152ms\tremaining: 1.4s\n",
      "98:\tlearn: 0.3102421\ttotal: 153ms\tremaining: 1.39s\n",
      "99:\tlearn: 0.3084222\ttotal: 154ms\tremaining: 1.39s\n",
      "100:\tlearn: 0.3066328\ttotal: 155ms\tremaining: 1.38s\n",
      "101:\tlearn: 0.3046680\ttotal: 156ms\tremaining: 1.38s\n",
      "102:\tlearn: 0.3032143\ttotal: 157ms\tremaining: 1.37s\n",
      "103:\tlearn: 0.3020453\ttotal: 159ms\tremaining: 1.36s\n",
      "104:\tlearn: 0.3009408\ttotal: 160ms\tremaining: 1.36s\n",
      "105:\tlearn: 0.2995615\ttotal: 161ms\tremaining: 1.35s\n",
      "106:\tlearn: 0.2980348\ttotal: 162ms\tremaining: 1.35s\n",
      "107:\tlearn: 0.2963622\ttotal: 163ms\tremaining: 1.35s\n",
      "108:\tlearn: 0.2949102\ttotal: 164ms\tremaining: 1.34s\n",
      "109:\tlearn: 0.2932129\ttotal: 165ms\tremaining: 1.34s\n",
      "110:\tlearn: 0.2921995\ttotal: 166ms\tremaining: 1.33s\n",
      "111:\tlearn: 0.2905136\ttotal: 167ms\tremaining: 1.32s\n",
      "112:\tlearn: 0.2886972\ttotal: 168ms\tremaining: 1.32s\n",
      "113:\tlearn: 0.2875450\ttotal: 169ms\tremaining: 1.32s\n",
      "114:\tlearn: 0.2859599\ttotal: 170ms\tremaining: 1.31s\n",
      "115:\tlearn: 0.2851971\ttotal: 171ms\tremaining: 1.31s\n",
      "116:\tlearn: 0.2840511\ttotal: 172ms\tremaining: 1.3s\n",
      "117:\tlearn: 0.2824899\ttotal: 174ms\tremaining: 1.3s\n",
      "118:\tlearn: 0.2817218\ttotal: 175ms\tremaining: 1.29s\n",
      "119:\tlearn: 0.2810016\ttotal: 176ms\tremaining: 1.29s\n",
      "120:\tlearn: 0.2799514\ttotal: 177ms\tremaining: 1.28s\n",
      "121:\tlearn: 0.2785120\ttotal: 178ms\tremaining: 1.28s\n",
      "122:\tlearn: 0.2773878\ttotal: 179ms\tremaining: 1.27s\n",
      "123:\tlearn: 0.2765693\ttotal: 180ms\tremaining: 1.27s\n",
      "124:\tlearn: 0.2754189\ttotal: 181ms\tremaining: 1.27s\n",
      "125:\tlearn: 0.2742868\ttotal: 182ms\tremaining: 1.26s\n",
      "126:\tlearn: 0.2728785\ttotal: 183ms\tremaining: 1.26s\n",
      "127:\tlearn: 0.2719273\ttotal: 184ms\tremaining: 1.25s\n",
      "128:\tlearn: 0.2708066\ttotal: 185ms\tremaining: 1.25s\n",
      "129:\tlearn: 0.2699069\ttotal: 186ms\tremaining: 1.25s\n",
      "130:\tlearn: 0.2687853\ttotal: 188ms\tremaining: 1.24s\n",
      "131:\tlearn: 0.2676037\ttotal: 189ms\tremaining: 1.24s\n",
      "132:\tlearn: 0.2667980\ttotal: 190ms\tremaining: 1.24s\n",
      "133:\tlearn: 0.2655580\ttotal: 191ms\tremaining: 1.23s\n",
      "134:\tlearn: 0.2648143\ttotal: 192ms\tremaining: 1.23s\n",
      "135:\tlearn: 0.2637318\ttotal: 193ms\tremaining: 1.22s\n",
      "136:\tlearn: 0.2629346\ttotal: 194ms\tremaining: 1.22s\n",
      "137:\tlearn: 0.2623542\ttotal: 195ms\tremaining: 1.22s\n",
      "138:\tlearn: 0.2612480\ttotal: 196ms\tremaining: 1.21s\n",
      "139:\tlearn: 0.2605880\ttotal: 197ms\tremaining: 1.21s\n",
      "140:\tlearn: 0.2597396\ttotal: 198ms\tremaining: 1.2s\n",
      "141:\tlearn: 0.2590704\ttotal: 199ms\tremaining: 1.2s\n",
      "142:\tlearn: 0.2583335\ttotal: 200ms\tremaining: 1.2s\n",
      "143:\tlearn: 0.2572371\ttotal: 201ms\tremaining: 1.19s\n",
      "144:\tlearn: 0.2561655\ttotal: 202ms\tremaining: 1.19s\n",
      "145:\tlearn: 0.2551542\ttotal: 203ms\tremaining: 1.19s\n",
      "146:\tlearn: 0.2544536\ttotal: 204ms\tremaining: 1.18s\n",
      "147:\tlearn: 0.2533675\ttotal: 205ms\tremaining: 1.18s\n",
      "148:\tlearn: 0.2523617\ttotal: 206ms\tremaining: 1.18s\n",
      "149:\tlearn: 0.2516117\ttotal: 207ms\tremaining: 1.17s\n",
      "150:\tlearn: 0.2504842\ttotal: 208ms\tremaining: 1.17s\n",
      "151:\tlearn: 0.2496499\ttotal: 209ms\tremaining: 1.17s\n",
      "152:\tlearn: 0.2486604\ttotal: 210ms\tremaining: 1.16s\n",
      "153:\tlearn: 0.2480705\ttotal: 211ms\tremaining: 1.16s\n",
      "154:\tlearn: 0.2469968\ttotal: 212ms\tremaining: 1.16s\n",
      "155:\tlearn: 0.2459839\ttotal: 213ms\tremaining: 1.15s\n",
      "156:\tlearn: 0.2452574\ttotal: 214ms\tremaining: 1.15s\n",
      "157:\tlearn: 0.2446114\ttotal: 215ms\tremaining: 1.15s\n",
      "158:\tlearn: 0.2439378\ttotal: 216ms\tremaining: 1.14s\n",
      "159:\tlearn: 0.2431811\ttotal: 218ms\tremaining: 1.14s\n",
      "160:\tlearn: 0.2426114\ttotal: 219ms\tremaining: 1.14s\n",
      "161:\tlearn: 0.2419921\ttotal: 220ms\tremaining: 1.14s\n",
      "162:\tlearn: 0.2414183\ttotal: 221ms\tremaining: 1.13s\n",
      "163:\tlearn: 0.2406717\ttotal: 222ms\tremaining: 1.13s\n",
      "164:\tlearn: 0.2399752\ttotal: 223ms\tremaining: 1.13s\n",
      "165:\tlearn: 0.2391374\ttotal: 224ms\tremaining: 1.13s\n",
      "166:\tlearn: 0.2380634\ttotal: 225ms\tremaining: 1.12s\n",
      "167:\tlearn: 0.2374451\ttotal: 226ms\tremaining: 1.12s\n",
      "168:\tlearn: 0.2364605\ttotal: 227ms\tremaining: 1.12s\n",
      "169:\tlearn: 0.2359585\ttotal: 229ms\tremaining: 1.11s\n",
      "170:\tlearn: 0.2351569\ttotal: 230ms\tremaining: 1.11s\n",
      "171:\tlearn: 0.2346154\ttotal: 231ms\tremaining: 1.11s\n",
      "172:\tlearn: 0.2338026\ttotal: 232ms\tremaining: 1.11s\n",
      "173:\tlearn: 0.2333323\ttotal: 233ms\tremaining: 1.1s\n",
      "174:\tlearn: 0.2328563\ttotal: 234ms\tremaining: 1.1s\n",
      "175:\tlearn: 0.2324334\ttotal: 235ms\tremaining: 1.1s\n",
      "176:\tlearn: 0.2318228\ttotal: 236ms\tremaining: 1.1s\n",
      "177:\tlearn: 0.2310546\ttotal: 237ms\tremaining: 1.09s\n",
      "178:\tlearn: 0.2306145\ttotal: 238ms\tremaining: 1.09s\n",
      "179:\tlearn: 0.2299835\ttotal: 239ms\tremaining: 1.09s\n",
      "180:\tlearn: 0.2292591\ttotal: 240ms\tremaining: 1.09s\n",
      "181:\tlearn: 0.2286190\ttotal: 241ms\tremaining: 1.08s\n",
      "182:\tlearn: 0.2280010\ttotal: 242ms\tremaining: 1.08s\n",
      "183:\tlearn: 0.2274026\ttotal: 243ms\tremaining: 1.08s\n",
      "184:\tlearn: 0.2268956\ttotal: 244ms\tremaining: 1.08s\n",
      "185:\tlearn: 0.2262226\ttotal: 245ms\tremaining: 1.07s\n",
      "186:\tlearn: 0.2254696\ttotal: 246ms\tremaining: 1.07s\n",
      "187:\tlearn: 0.2248640\ttotal: 248ms\tremaining: 1.07s\n",
      "188:\tlearn: 0.2242251\ttotal: 249ms\tremaining: 1.07s\n",
      "189:\tlearn: 0.2236570\ttotal: 250ms\tremaining: 1.06s\n",
      "190:\tlearn: 0.2228341\ttotal: 251ms\tremaining: 1.06s\n",
      "191:\tlearn: 0.2222647\ttotal: 252ms\tremaining: 1.06s\n",
      "192:\tlearn: 0.2216895\ttotal: 253ms\tremaining: 1.06s\n",
      "193:\tlearn: 0.2212066\ttotal: 254ms\tremaining: 1.05s\n",
      "194:\tlearn: 0.2204982\ttotal: 255ms\tremaining: 1.05s\n",
      "195:\tlearn: 0.2197971\ttotal: 256ms\tremaining: 1.05s\n",
      "196:\tlearn: 0.2193813\ttotal: 257ms\tremaining: 1.05s\n",
      "197:\tlearn: 0.2187946\ttotal: 258ms\tremaining: 1.04s\n",
      "198:\tlearn: 0.2182847\ttotal: 259ms\tremaining: 1.04s\n",
      "199:\tlearn: 0.2174699\ttotal: 260ms\tremaining: 1.04s\n",
      "200:\tlearn: 0.2168923\ttotal: 261ms\tremaining: 1.04s\n",
      "201:\tlearn: 0.2161831\ttotal: 262ms\tremaining: 1.03s\n",
      "202:\tlearn: 0.2159293\ttotal: 263ms\tremaining: 1.03s\n",
      "203:\tlearn: 0.2155918\ttotal: 264ms\tremaining: 1.03s\n",
      "204:\tlearn: 0.2150166\ttotal: 265ms\tremaining: 1.03s\n",
      "205:\tlearn: 0.2144512\ttotal: 266ms\tremaining: 1.03s\n",
      "206:\tlearn: 0.2138504\ttotal: 267ms\tremaining: 1.02s\n",
      "207:\tlearn: 0.2131236\ttotal: 268ms\tremaining: 1.02s\n",
      "208:\tlearn: 0.2126565\ttotal: 269ms\tremaining: 1.02s\n",
      "209:\tlearn: 0.2120747\ttotal: 270ms\tremaining: 1.02s\n",
      "210:\tlearn: 0.2115609\ttotal: 271ms\tremaining: 1.01s\n",
      "211:\tlearn: 0.2109698\ttotal: 272ms\tremaining: 1.01s\n",
      "212:\tlearn: 0.2107616\ttotal: 273ms\tremaining: 1.01s\n",
      "213:\tlearn: 0.2101302\ttotal: 275ms\tremaining: 1.01s\n"
     ]
    },
    {
     "name": "stdout",
     "output_type": "stream",
     "text": [
      "214:\tlearn: 0.2098796\ttotal: 277ms\tremaining: 1.01s\n",
      "215:\tlearn: 0.2089464\ttotal: 279ms\tremaining: 1.01s\n",
      "216:\tlearn: 0.2082147\ttotal: 280ms\tremaining: 1.01s\n",
      "217:\tlearn: 0.2076933\ttotal: 281ms\tremaining: 1.01s\n",
      "218:\tlearn: 0.2074434\ttotal: 282ms\tremaining: 1s\n",
      "219:\tlearn: 0.2070364\ttotal: 283ms\tremaining: 1s\n",
      "220:\tlearn: 0.2061917\ttotal: 284ms\tremaining: 1s\n",
      "221:\tlearn: 0.2057366\ttotal: 285ms\tremaining: 999ms\n",
      "222:\tlearn: 0.2052250\ttotal: 286ms\tremaining: 997ms\n",
      "223:\tlearn: 0.2048868\ttotal: 287ms\tremaining: 995ms\n",
      "224:\tlearn: 0.2043530\ttotal: 288ms\tremaining: 992ms\n",
      "225:\tlearn: 0.2038823\ttotal: 289ms\tremaining: 990ms\n",
      "226:\tlearn: 0.2034438\ttotal: 290ms\tremaining: 989ms\n",
      "227:\tlearn: 0.2029557\ttotal: 292ms\tremaining: 987ms\n",
      "228:\tlearn: 0.2024576\ttotal: 293ms\tremaining: 986ms\n",
      "229:\tlearn: 0.2019786\ttotal: 294ms\tremaining: 984ms\n",
      "230:\tlearn: 0.2017854\ttotal: 295ms\tremaining: 982ms\n",
      "231:\tlearn: 0.2012026\ttotal: 296ms\tremaining: 979ms\n",
      "232:\tlearn: 0.2008904\ttotal: 297ms\tremaining: 977ms\n",
      "233:\tlearn: 0.2005238\ttotal: 298ms\tremaining: 976ms\n",
      "234:\tlearn: 0.1999775\ttotal: 299ms\tremaining: 974ms\n",
      "235:\tlearn: 0.1994874\ttotal: 301ms\tremaining: 974ms\n",
      "236:\tlearn: 0.1990114\ttotal: 302ms\tremaining: 973ms\n",
      "237:\tlearn: 0.1985091\ttotal: 304ms\tremaining: 973ms\n",
      "238:\tlearn: 0.1978447\ttotal: 305ms\tremaining: 972ms\n",
      "239:\tlearn: 0.1974894\ttotal: 306ms\tremaining: 970ms\n",
      "240:\tlearn: 0.1972033\ttotal: 307ms\tremaining: 968ms\n",
      "241:\tlearn: 0.1965423\ttotal: 309ms\tremaining: 967ms\n",
      "242:\tlearn: 0.1961159\ttotal: 310ms\tremaining: 965ms\n",
      "243:\tlearn: 0.1953847\ttotal: 311ms\tremaining: 964ms\n",
      "244:\tlearn: 0.1948847\ttotal: 312ms\tremaining: 963ms\n",
      "245:\tlearn: 0.1946347\ttotal: 314ms\tremaining: 961ms\n",
      "246:\tlearn: 0.1944125\ttotal: 315ms\tremaining: 960ms\n",
      "247:\tlearn: 0.1937382\ttotal: 316ms\tremaining: 958ms\n",
      "248:\tlearn: 0.1935109\ttotal: 317ms\tremaining: 956ms\n",
      "249:\tlearn: 0.1928944\ttotal: 318ms\tremaining: 955ms\n",
      "250:\tlearn: 0.1924258\ttotal: 320ms\tremaining: 954ms\n",
      "251:\tlearn: 0.1921866\ttotal: 321ms\tremaining: 952ms\n",
      "252:\tlearn: 0.1918357\ttotal: 322ms\tremaining: 951ms\n",
      "253:\tlearn: 0.1914708\ttotal: 323ms\tremaining: 949ms\n",
      "254:\tlearn: 0.1910284\ttotal: 324ms\tremaining: 947ms\n",
      "255:\tlearn: 0.1906018\ttotal: 325ms\tremaining: 945ms\n",
      "256:\tlearn: 0.1901142\ttotal: 326ms\tremaining: 943ms\n",
      "257:\tlearn: 0.1897220\ttotal: 328ms\tremaining: 942ms\n",
      "258:\tlearn: 0.1892644\ttotal: 329ms\tremaining: 940ms\n",
      "259:\tlearn: 0.1886873\ttotal: 330ms\tremaining: 939ms\n",
      "260:\tlearn: 0.1881711\ttotal: 331ms\tremaining: 937ms\n",
      "261:\tlearn: 0.1880443\ttotal: 332ms\tremaining: 935ms\n",
      "262:\tlearn: 0.1878194\ttotal: 333ms\tremaining: 933ms\n",
      "263:\tlearn: 0.1870523\ttotal: 334ms\tremaining: 931ms\n",
      "264:\tlearn: 0.1863986\ttotal: 335ms\tremaining: 930ms\n",
      "265:\tlearn: 0.1860777\ttotal: 336ms\tremaining: 928ms\n",
      "266:\tlearn: 0.1854888\ttotal: 337ms\tremaining: 926ms\n",
      "267:\tlearn: 0.1850604\ttotal: 339ms\tremaining: 925ms\n",
      "268:\tlearn: 0.1848902\ttotal: 340ms\tremaining: 923ms\n",
      "269:\tlearn: 0.1845493\ttotal: 341ms\tremaining: 921ms\n",
      "270:\tlearn: 0.1839336\ttotal: 342ms\tremaining: 919ms\n",
      "271:\tlearn: 0.1834284\ttotal: 343ms\tremaining: 918ms\n",
      "272:\tlearn: 0.1830833\ttotal: 344ms\tremaining: 916ms\n",
      "273:\tlearn: 0.1828704\ttotal: 345ms\tremaining: 915ms\n",
      "274:\tlearn: 0.1824302\ttotal: 347ms\tremaining: 914ms\n",
      "275:\tlearn: 0.1821017\ttotal: 348ms\tremaining: 912ms\n",
      "276:\tlearn: 0.1815510\ttotal: 349ms\tremaining: 910ms\n",
      "277:\tlearn: 0.1813852\ttotal: 350ms\tremaining: 909ms\n",
      "278:\tlearn: 0.1809908\ttotal: 351ms\tremaining: 907ms\n",
      "279:\tlearn: 0.1806121\ttotal: 352ms\tremaining: 905ms\n",
      "280:\tlearn: 0.1801415\ttotal: 353ms\tremaining: 904ms\n",
      "281:\tlearn: 0.1797242\ttotal: 354ms\tremaining: 902ms\n",
      "282:\tlearn: 0.1795786\ttotal: 355ms\tremaining: 900ms\n",
      "283:\tlearn: 0.1790265\ttotal: 356ms\tremaining: 898ms\n",
      "284:\tlearn: 0.1786603\ttotal: 357ms\tremaining: 897ms\n",
      "285:\tlearn: 0.1783298\ttotal: 359ms\tremaining: 895ms\n",
      "286:\tlearn: 0.1782001\ttotal: 360ms\tremaining: 894ms\n",
      "287:\tlearn: 0.1777209\ttotal: 361ms\tremaining: 892ms\n",
      "288:\tlearn: 0.1774622\ttotal: 362ms\tremaining: 890ms\n",
      "289:\tlearn: 0.1773225\ttotal: 363ms\tremaining: 889ms\n",
      "290:\tlearn: 0.1769318\ttotal: 364ms\tremaining: 887ms\n",
      "291:\tlearn: 0.1768133\ttotal: 365ms\tremaining: 885ms\n",
      "292:\tlearn: 0.1764322\ttotal: 366ms\tremaining: 884ms\n",
      "293:\tlearn: 0.1761161\ttotal: 367ms\tremaining: 882ms\n",
      "294:\tlearn: 0.1756223\ttotal: 369ms\tremaining: 881ms\n",
      "295:\tlearn: 0.1750862\ttotal: 370ms\tremaining: 879ms\n",
      "296:\tlearn: 0.1744695\ttotal: 371ms\tremaining: 878ms\n",
      "297:\tlearn: 0.1740280\ttotal: 372ms\tremaining: 877ms\n",
      "298:\tlearn: 0.1736606\ttotal: 373ms\tremaining: 875ms\n",
      "299:\tlearn: 0.1730536\ttotal: 375ms\tremaining: 874ms\n",
      "300:\tlearn: 0.1727083\ttotal: 376ms\tremaining: 872ms\n",
      "301:\tlearn: 0.1722877\ttotal: 377ms\tremaining: 871ms\n",
      "302:\tlearn: 0.1719304\ttotal: 378ms\tremaining: 869ms\n",
      "303:\tlearn: 0.1715235\ttotal: 379ms\tremaining: 868ms\n",
      "304:\tlearn: 0.1710109\ttotal: 380ms\tremaining: 866ms\n",
      "305:\tlearn: 0.1708985\ttotal: 381ms\tremaining: 865ms\n",
      "306:\tlearn: 0.1703831\ttotal: 382ms\tremaining: 863ms\n",
      "307:\tlearn: 0.1702319\ttotal: 383ms\tremaining: 862ms\n",
      "308:\tlearn: 0.1697825\ttotal: 385ms\tremaining: 860ms\n",
      "309:\tlearn: 0.1693815\ttotal: 386ms\tremaining: 859ms\n",
      "310:\tlearn: 0.1690033\ttotal: 387ms\tremaining: 857ms\n",
      "311:\tlearn: 0.1687009\ttotal: 388ms\tremaining: 855ms\n",
      "312:\tlearn: 0.1682891\ttotal: 389ms\tremaining: 854ms\n",
      "313:\tlearn: 0.1677174\ttotal: 390ms\tremaining: 852ms\n",
      "314:\tlearn: 0.1674054\ttotal: 391ms\tremaining: 851ms\n",
      "315:\tlearn: 0.1672937\ttotal: 392ms\tremaining: 850ms\n",
      "316:\tlearn: 0.1671318\ttotal: 394ms\tremaining: 848ms\n",
      "317:\tlearn: 0.1668980\ttotal: 395ms\tremaining: 846ms\n",
      "318:\tlearn: 0.1664403\ttotal: 396ms\tremaining: 845ms\n",
      "319:\tlearn: 0.1660284\ttotal: 397ms\tremaining: 843ms\n",
      "320:\tlearn: 0.1659277\ttotal: 398ms\tremaining: 842ms\n",
      "321:\tlearn: 0.1655795\ttotal: 399ms\tremaining: 840ms\n",
      "322:\tlearn: 0.1652835\ttotal: 401ms\tremaining: 839ms\n",
      "323:\tlearn: 0.1648533\ttotal: 402ms\tremaining: 838ms\n",
      "324:\tlearn: 0.1645665\ttotal: 403ms\tremaining: 836ms\n",
      "325:\tlearn: 0.1644327\ttotal: 404ms\tremaining: 835ms\n",
      "326:\tlearn: 0.1642969\ttotal: 405ms\tremaining: 833ms\n",
      "327:\tlearn: 0.1638540\ttotal: 406ms\tremaining: 832ms\n",
      "328:\tlearn: 0.1633560\ttotal: 407ms\tremaining: 830ms\n",
      "329:\tlearn: 0.1630403\ttotal: 408ms\tremaining: 829ms\n"
     ]
    },
    {
     "name": "stdout",
     "output_type": "stream",
     "text": [
      "330:\tlearn: 0.1628914\ttotal: 409ms\tremaining: 827ms\n",
      "331:\tlearn: 0.1623422\ttotal: 411ms\tremaining: 826ms\n",
      "332:\tlearn: 0.1620838\ttotal: 412ms\tremaining: 824ms\n",
      "333:\tlearn: 0.1617265\ttotal: 413ms\tremaining: 823ms\n",
      "334:\tlearn: 0.1614378\ttotal: 414ms\tremaining: 821ms\n",
      "335:\tlearn: 0.1610630\ttotal: 415ms\tremaining: 820ms\n",
      "336:\tlearn: 0.1608849\ttotal: 416ms\tremaining: 818ms\n",
      "337:\tlearn: 0.1603588\ttotal: 417ms\tremaining: 817ms\n",
      "338:\tlearn: 0.1599547\ttotal: 418ms\tremaining: 815ms\n",
      "339:\tlearn: 0.1594727\ttotal: 420ms\tremaining: 815ms\n",
      "340:\tlearn: 0.1591413\ttotal: 421ms\tremaining: 814ms\n",
      "341:\tlearn: 0.1585887\ttotal: 422ms\tremaining: 813ms\n",
      "342:\tlearn: 0.1583264\ttotal: 424ms\tremaining: 811ms\n",
      "343:\tlearn: 0.1581765\ttotal: 425ms\tremaining: 810ms\n",
      "344:\tlearn: 0.1580343\ttotal: 426ms\tremaining: 808ms\n",
      "345:\tlearn: 0.1575778\ttotal: 427ms\tremaining: 807ms\n",
      "346:\tlearn: 0.1573131\ttotal: 428ms\tremaining: 806ms\n",
      "347:\tlearn: 0.1568007\ttotal: 429ms\tremaining: 804ms\n",
      "348:\tlearn: 0.1563986\ttotal: 430ms\tremaining: 803ms\n",
      "349:\tlearn: 0.1559815\ttotal: 431ms\tremaining: 801ms\n",
      "350:\tlearn: 0.1556483\ttotal: 433ms\tremaining: 800ms\n",
      "351:\tlearn: 0.1555515\ttotal: 434ms\tremaining: 799ms\n",
      "352:\tlearn: 0.1554569\ttotal: 435ms\tremaining: 797ms\n",
      "353:\tlearn: 0.1550825\ttotal: 436ms\tremaining: 796ms\n",
      "354:\tlearn: 0.1546927\ttotal: 437ms\tremaining: 795ms\n",
      "355:\tlearn: 0.1542377\ttotal: 439ms\tremaining: 793ms\n",
      "356:\tlearn: 0.1540334\ttotal: 440ms\tremaining: 792ms\n",
      "357:\tlearn: 0.1535964\ttotal: 441ms\tremaining: 791ms\n",
      "358:\tlearn: 0.1532802\ttotal: 442ms\tremaining: 789ms\n",
      "359:\tlearn: 0.1528496\ttotal: 443ms\tremaining: 788ms\n",
      "360:\tlearn: 0.1524801\ttotal: 445ms\tremaining: 787ms\n",
      "361:\tlearn: 0.1522000\ttotal: 446ms\tremaining: 786ms\n",
      "362:\tlearn: 0.1521350\ttotal: 447ms\tremaining: 784ms\n",
      "363:\tlearn: 0.1517229\ttotal: 448ms\tremaining: 783ms\n",
      "364:\tlearn: 0.1514681\ttotal: 449ms\tremaining: 782ms\n",
      "365:\tlearn: 0.1512210\ttotal: 451ms\tremaining: 781ms\n",
      "366:\tlearn: 0.1510517\ttotal: 452ms\tremaining: 779ms\n",
      "367:\tlearn: 0.1509279\ttotal: 453ms\tremaining: 778ms\n",
      "368:\tlearn: 0.1505139\ttotal: 454ms\tremaining: 777ms\n",
      "369:\tlearn: 0.1501760\ttotal: 455ms\tremaining: 775ms\n",
      "370:\tlearn: 0.1498533\ttotal: 457ms\tremaining: 774ms\n",
      "371:\tlearn: 0.1496444\ttotal: 458ms\tremaining: 773ms\n",
      "372:\tlearn: 0.1495876\ttotal: 459ms\tremaining: 771ms\n",
      "373:\tlearn: 0.1494621\ttotal: 460ms\tremaining: 770ms\n",
      "374:\tlearn: 0.1491640\ttotal: 461ms\tremaining: 768ms\n",
      "375:\tlearn: 0.1489302\ttotal: 462ms\tremaining: 767ms\n",
      "376:\tlearn: 0.1486789\ttotal: 463ms\tremaining: 766ms\n",
      "377:\tlearn: 0.1484013\ttotal: 465ms\tremaining: 764ms\n",
      "378:\tlearn: 0.1481993\ttotal: 466ms\tremaining: 763ms\n",
      "379:\tlearn: 0.1480565\ttotal: 467ms\tremaining: 762ms\n",
      "380:\tlearn: 0.1476821\ttotal: 468ms\tremaining: 760ms\n",
      "381:\tlearn: 0.1476083\ttotal: 469ms\tremaining: 759ms\n",
      "382:\tlearn: 0.1471629\ttotal: 470ms\tremaining: 757ms\n",
      "383:\tlearn: 0.1468476\ttotal: 471ms\tremaining: 756ms\n",
      "384:\tlearn: 0.1466115\ttotal: 472ms\tremaining: 754ms\n",
      "385:\tlearn: 0.1462224\ttotal: 473ms\tremaining: 753ms\n",
      "386:\tlearn: 0.1457992\ttotal: 474ms\tremaining: 751ms\n",
      "387:\tlearn: 0.1456273\ttotal: 475ms\tremaining: 750ms\n",
      "388:\tlearn: 0.1453539\ttotal: 476ms\tremaining: 748ms\n",
      "389:\tlearn: 0.1449536\ttotal: 477ms\tremaining: 747ms\n",
      "390:\tlearn: 0.1449035\ttotal: 478ms\tremaining: 745ms\n",
      "391:\tlearn: 0.1446354\ttotal: 479ms\tremaining: 743ms\n",
      "392:\tlearn: 0.1443362\ttotal: 480ms\tremaining: 742ms\n",
      "393:\tlearn: 0.1441135\ttotal: 481ms\tremaining: 741ms\n",
      "394:\tlearn: 0.1440642\ttotal: 482ms\tremaining: 739ms\n",
      "395:\tlearn: 0.1436684\ttotal: 484ms\tremaining: 738ms\n",
      "396:\tlearn: 0.1432801\ttotal: 485ms\tremaining: 736ms\n",
      "397:\tlearn: 0.1429096\ttotal: 486ms\tremaining: 735ms\n",
      "398:\tlearn: 0.1427423\ttotal: 487ms\tremaining: 733ms\n",
      "399:\tlearn: 0.1425800\ttotal: 488ms\tremaining: 732ms\n",
      "400:\tlearn: 0.1423064\ttotal: 489ms\tremaining: 730ms\n",
      "401:\tlearn: 0.1420118\ttotal: 490ms\tremaining: 729ms\n",
      "402:\tlearn: 0.1418151\ttotal: 491ms\tremaining: 727ms\n",
      "403:\tlearn: 0.1413641\ttotal: 492ms\tremaining: 726ms\n",
      "404:\tlearn: 0.1411308\ttotal: 493ms\tremaining: 724ms\n",
      "405:\tlearn: 0.1408672\ttotal: 494ms\tremaining: 723ms\n",
      "406:\tlearn: 0.1405642\ttotal: 495ms\tremaining: 722ms\n",
      "407:\tlearn: 0.1401943\ttotal: 497ms\tremaining: 720ms\n",
      "408:\tlearn: 0.1399121\ttotal: 498ms\tremaining: 719ms\n",
      "409:\tlearn: 0.1394687\ttotal: 499ms\tremaining: 718ms\n",
      "410:\tlearn: 0.1392442\ttotal: 500ms\tremaining: 716ms\n",
      "411:\tlearn: 0.1390000\ttotal: 501ms\tremaining: 715ms\n",
      "412:\tlearn: 0.1387791\ttotal: 502ms\tremaining: 713ms\n",
      "413:\tlearn: 0.1385500\ttotal: 503ms\tremaining: 712ms\n",
      "414:\tlearn: 0.1382809\ttotal: 504ms\tremaining: 710ms\n",
      "415:\tlearn: 0.1380118\ttotal: 505ms\tremaining: 709ms\n",
      "416:\tlearn: 0.1377461\ttotal: 506ms\tremaining: 707ms\n",
      "417:\tlearn: 0.1374634\ttotal: 507ms\tremaining: 706ms\n",
      "418:\tlearn: 0.1371381\ttotal: 508ms\tremaining: 705ms\n",
      "419:\tlearn: 0.1369890\ttotal: 509ms\tremaining: 703ms\n",
      "420:\tlearn: 0.1369029\ttotal: 510ms\tremaining: 702ms\n",
      "421:\tlearn: 0.1364686\ttotal: 511ms\tremaining: 701ms\n",
      "422:\tlearn: 0.1362953\ttotal: 512ms\tremaining: 699ms\n",
      "423:\tlearn: 0.1360046\ttotal: 513ms\tremaining: 698ms\n",
      "424:\tlearn: 0.1358736\ttotal: 515ms\tremaining: 696ms\n",
      "425:\tlearn: 0.1358183\ttotal: 516ms\tremaining: 695ms\n",
      "426:\tlearn: 0.1357636\ttotal: 516ms\tremaining: 693ms\n",
      "427:\tlearn: 0.1355065\ttotal: 517ms\tremaining: 692ms\n",
      "428:\tlearn: 0.1351425\ttotal: 519ms\tremaining: 690ms\n",
      "429:\tlearn: 0.1349106\ttotal: 520ms\tremaining: 689ms\n",
      "430:\tlearn: 0.1346771\ttotal: 521ms\tremaining: 687ms\n",
      "431:\tlearn: 0.1343915\ttotal: 522ms\tremaining: 686ms\n",
      "432:\tlearn: 0.1341756\ttotal: 523ms\tremaining: 685ms\n",
      "433:\tlearn: 0.1340938\ttotal: 524ms\tremaining: 683ms\n",
      "434:\tlearn: 0.1338710\ttotal: 525ms\tremaining: 682ms\n",
      "435:\tlearn: 0.1337856\ttotal: 526ms\tremaining: 680ms\n",
      "436:\tlearn: 0.1336263\ttotal: 527ms\tremaining: 679ms\n",
      "437:\tlearn: 0.1335472\ttotal: 528ms\tremaining: 678ms\n",
      "438:\tlearn: 0.1334326\ttotal: 529ms\tremaining: 676ms\n",
      "439:\tlearn: 0.1332267\ttotal: 530ms\tremaining: 675ms\n",
      "440:\tlearn: 0.1329451\ttotal: 531ms\tremaining: 674ms\n",
      "441:\tlearn: 0.1327164\ttotal: 533ms\tremaining: 672ms\n",
      "442:\tlearn: 0.1325805\ttotal: 534ms\tremaining: 671ms\n",
      "443:\tlearn: 0.1322901\ttotal: 535ms\tremaining: 670ms\n",
      "444:\tlearn: 0.1320516\ttotal: 536ms\tremaining: 668ms\n",
      "445:\tlearn: 0.1317229\ttotal: 537ms\tremaining: 667ms\n",
      "446:\tlearn: 0.1313922\ttotal: 538ms\tremaining: 666ms\n",
      "447:\tlearn: 0.1310372\ttotal: 539ms\tremaining: 664ms\n",
      "448:\tlearn: 0.1309666\ttotal: 540ms\tremaining: 663ms\n",
      "449:\tlearn: 0.1306275\ttotal: 541ms\tremaining: 661ms\n",
      "450:\tlearn: 0.1304356\ttotal: 542ms\tremaining: 660ms\n",
      "451:\tlearn: 0.1303546\ttotal: 543ms\tremaining: 659ms\n"
     ]
    },
    {
     "name": "stdout",
     "output_type": "stream",
     "text": [
      "452:\tlearn: 0.1301689\ttotal: 545ms\tremaining: 658ms\n",
      "453:\tlearn: 0.1298856\ttotal: 546ms\tremaining: 657ms\n",
      "454:\tlearn: 0.1296648\ttotal: 547ms\tremaining: 655ms\n",
      "455:\tlearn: 0.1294988\ttotal: 548ms\tremaining: 654ms\n",
      "456:\tlearn: 0.1291614\ttotal: 549ms\tremaining: 653ms\n",
      "457:\tlearn: 0.1288513\ttotal: 550ms\tremaining: 651ms\n",
      "458:\tlearn: 0.1285834\ttotal: 551ms\tremaining: 650ms\n",
      "459:\tlearn: 0.1283295\ttotal: 552ms\tremaining: 648ms\n",
      "460:\tlearn: 0.1280947\ttotal: 554ms\tremaining: 647ms\n",
      "461:\tlearn: 0.1277996\ttotal: 555ms\tremaining: 646ms\n",
      "462:\tlearn: 0.1275988\ttotal: 556ms\tremaining: 645ms\n",
      "463:\tlearn: 0.1275261\ttotal: 557ms\tremaining: 643ms\n",
      "464:\tlearn: 0.1273762\ttotal: 558ms\tremaining: 642ms\n",
      "465:\tlearn: 0.1271374\ttotal: 559ms\tremaining: 641ms\n",
      "466:\tlearn: 0.1268687\ttotal: 560ms\tremaining: 639ms\n",
      "467:\tlearn: 0.1267416\ttotal: 561ms\tremaining: 638ms\n",
      "468:\tlearn: 0.1266803\ttotal: 562ms\tremaining: 637ms\n",
      "469:\tlearn: 0.1263736\ttotal: 563ms\tremaining: 635ms\n",
      "470:\tlearn: 0.1262903\ttotal: 565ms\tremaining: 634ms\n",
      "471:\tlearn: 0.1260244\ttotal: 566ms\tremaining: 633ms\n",
      "472:\tlearn: 0.1256985\ttotal: 567ms\tremaining: 631ms\n",
      "473:\tlearn: 0.1254673\ttotal: 568ms\tremaining: 630ms\n",
      "474:\tlearn: 0.1252932\ttotal: 569ms\tremaining: 629ms\n",
      "475:\tlearn: 0.1251291\ttotal: 570ms\tremaining: 627ms\n",
      "476:\tlearn: 0.1247786\ttotal: 571ms\tremaining: 626ms\n",
      "477:\tlearn: 0.1244907\ttotal: 572ms\tremaining: 625ms\n",
      "478:\tlearn: 0.1242447\ttotal: 573ms\tremaining: 623ms\n",
      "479:\tlearn: 0.1237931\ttotal: 574ms\tremaining: 622ms\n",
      "480:\tlearn: 0.1234226\ttotal: 575ms\tremaining: 621ms\n",
      "481:\tlearn: 0.1231396\ttotal: 576ms\tremaining: 619ms\n",
      "482:\tlearn: 0.1230505\ttotal: 577ms\tremaining: 618ms\n",
      "483:\tlearn: 0.1227633\ttotal: 578ms\tremaining: 617ms\n",
      "484:\tlearn: 0.1224732\ttotal: 580ms\tremaining: 615ms\n",
      "485:\tlearn: 0.1222409\ttotal: 581ms\tremaining: 614ms\n",
      "486:\tlearn: 0.1220237\ttotal: 582ms\tremaining: 613ms\n",
      "487:\tlearn: 0.1217847\ttotal: 583ms\tremaining: 611ms\n",
      "488:\tlearn: 0.1216628\ttotal: 584ms\tremaining: 610ms\n",
      "489:\tlearn: 0.1216038\ttotal: 585ms\tremaining: 609ms\n",
      "490:\tlearn: 0.1214106\ttotal: 586ms\tremaining: 607ms\n",
      "491:\tlearn: 0.1210623\ttotal: 587ms\tremaining: 606ms\n",
      "492:\tlearn: 0.1208180\ttotal: 588ms\tremaining: 604ms\n",
      "493:\tlearn: 0.1206031\ttotal: 589ms\tremaining: 603ms\n",
      "494:\tlearn: 0.1205189\ttotal: 590ms\tremaining: 602ms\n",
      "495:\tlearn: 0.1202939\ttotal: 591ms\tremaining: 600ms\n",
      "496:\tlearn: 0.1201033\ttotal: 592ms\tremaining: 599ms\n",
      "497:\tlearn: 0.1198541\ttotal: 593ms\tremaining: 598ms\n",
      "498:\tlearn: 0.1196482\ttotal: 594ms\tremaining: 596ms\n",
      "499:\tlearn: 0.1193941\ttotal: 595ms\tremaining: 595ms\n",
      "500:\tlearn: 0.1192809\ttotal: 596ms\tremaining: 594ms\n",
      "501:\tlearn: 0.1191405\ttotal: 597ms\tremaining: 592ms\n",
      "502:\tlearn: 0.1190014\ttotal: 598ms\tremaining: 591ms\n",
      "503:\tlearn: 0.1188584\ttotal: 599ms\tremaining: 590ms\n",
      "504:\tlearn: 0.1185853\ttotal: 601ms\tremaining: 589ms\n",
      "505:\tlearn: 0.1185351\ttotal: 603ms\tremaining: 588ms\n",
      "506:\tlearn: 0.1182238\ttotal: 604ms\tremaining: 587ms\n",
      "507:\tlearn: 0.1181952\ttotal: 605ms\tremaining: 586ms\n",
      "508:\tlearn: 0.1181639\ttotal: 606ms\tremaining: 584ms\n",
      "509:\tlearn: 0.1179152\ttotal: 607ms\tremaining: 583ms\n",
      "510:\tlearn: 0.1178485\ttotal: 610ms\tremaining: 583ms\n",
      "511:\tlearn: 0.1177981\ttotal: 612ms\tremaining: 583ms\n",
      "512:\tlearn: 0.1176166\ttotal: 613ms\tremaining: 582ms\n",
      "513:\tlearn: 0.1174115\ttotal: 614ms\tremaining: 580ms\n",
      "514:\tlearn: 0.1171637\ttotal: 615ms\tremaining: 579ms\n",
      "515:\tlearn: 0.1171020\ttotal: 616ms\tremaining: 578ms\n",
      "516:\tlearn: 0.1169953\ttotal: 617ms\tremaining: 576ms\n",
      "517:\tlearn: 0.1167942\ttotal: 618ms\tremaining: 575ms\n",
      "518:\tlearn: 0.1165421\ttotal: 619ms\tremaining: 574ms\n",
      "519:\tlearn: 0.1162428\ttotal: 620ms\tremaining: 572ms\n",
      "520:\tlearn: 0.1158656\ttotal: 621ms\tremaining: 571ms\n",
      "521:\tlearn: 0.1155855\ttotal: 622ms\tremaining: 570ms\n",
      "522:\tlearn: 0.1154665\ttotal: 623ms\tremaining: 569ms\n",
      "523:\tlearn: 0.1153246\ttotal: 624ms\tremaining: 567ms\n",
      "524:\tlearn: 0.1151349\ttotal: 626ms\tremaining: 566ms\n",
      "525:\tlearn: 0.1148550\ttotal: 627ms\tremaining: 565ms\n",
      "526:\tlearn: 0.1147488\ttotal: 628ms\tremaining: 564ms\n",
      "527:\tlearn: 0.1145716\ttotal: 629ms\tremaining: 562ms\n",
      "528:\tlearn: 0.1143943\ttotal: 630ms\tremaining: 561ms\n",
      "529:\tlearn: 0.1142494\ttotal: 631ms\tremaining: 560ms\n",
      "530:\tlearn: 0.1142115\ttotal: 632ms\tremaining: 559ms\n",
      "531:\tlearn: 0.1141562\ttotal: 634ms\tremaining: 557ms\n",
      "532:\tlearn: 0.1139953\ttotal: 635ms\tremaining: 556ms\n",
      "533:\tlearn: 0.1137704\ttotal: 636ms\tremaining: 555ms\n",
      "534:\tlearn: 0.1135610\ttotal: 637ms\tremaining: 553ms\n",
      "535:\tlearn: 0.1132158\ttotal: 638ms\tremaining: 552ms\n",
      "536:\tlearn: 0.1130930\ttotal: 639ms\tremaining: 551ms\n",
      "537:\tlearn: 0.1130378\ttotal: 640ms\tremaining: 550ms\n",
      "538:\tlearn: 0.1127690\ttotal: 641ms\tremaining: 548ms\n",
      "539:\tlearn: 0.1127313\ttotal: 642ms\tremaining: 547ms\n",
      "540:\tlearn: 0.1125146\ttotal: 643ms\tremaining: 546ms\n",
      "541:\tlearn: 0.1123240\ttotal: 644ms\tremaining: 544ms\n",
      "542:\tlearn: 0.1120255\ttotal: 645ms\tremaining: 543ms\n",
      "543:\tlearn: 0.1117814\ttotal: 646ms\tremaining: 542ms\n",
      "544:\tlearn: 0.1115489\ttotal: 647ms\tremaining: 540ms\n",
      "545:\tlearn: 0.1113458\ttotal: 648ms\tremaining: 539ms\n",
      "546:\tlearn: 0.1110946\ttotal: 649ms\tremaining: 538ms\n",
      "547:\tlearn: 0.1109320\ttotal: 650ms\tremaining: 537ms\n",
      "548:\tlearn: 0.1107179\ttotal: 652ms\tremaining: 535ms\n",
      "549:\tlearn: 0.1105464\ttotal: 653ms\tremaining: 534ms\n",
      "550:\tlearn: 0.1102603\ttotal: 654ms\tremaining: 533ms\n",
      "551:\tlearn: 0.1102350\ttotal: 655ms\tremaining: 531ms\n",
      "552:\tlearn: 0.1102058\ttotal: 655ms\tremaining: 530ms\n",
      "553:\tlearn: 0.1098990\ttotal: 656ms\tremaining: 528ms\n",
      "554:\tlearn: 0.1097627\ttotal: 657ms\tremaining: 527ms\n",
      "555:\tlearn: 0.1095269\ttotal: 658ms\tremaining: 526ms\n",
      "556:\tlearn: 0.1091903\ttotal: 660ms\tremaining: 525ms\n",
      "557:\tlearn: 0.1088981\ttotal: 661ms\tremaining: 523ms\n",
      "558:\tlearn: 0.1086521\ttotal: 662ms\tremaining: 522ms\n",
      "559:\tlearn: 0.1085718\ttotal: 663ms\tremaining: 521ms\n",
      "560:\tlearn: 0.1082904\ttotal: 664ms\tremaining: 519ms\n",
      "561:\tlearn: 0.1081226\ttotal: 665ms\tremaining: 518ms\n",
      "562:\tlearn: 0.1079342\ttotal: 666ms\tremaining: 517ms\n",
      "563:\tlearn: 0.1077754\ttotal: 667ms\tremaining: 515ms\n",
      "564:\tlearn: 0.1075412\ttotal: 668ms\tremaining: 514ms\n",
      "565:\tlearn: 0.1074856\ttotal: 669ms\tremaining: 513ms\n",
      "566:\tlearn: 0.1072983\ttotal: 670ms\tremaining: 512ms\n",
      "567:\tlearn: 0.1071156\ttotal: 671ms\tremaining: 511ms\n",
      "568:\tlearn: 0.1069359\ttotal: 672ms\tremaining: 509ms\n",
      "569:\tlearn: 0.1066896\ttotal: 673ms\tremaining: 508ms\n",
      "570:\tlearn: 0.1066020\ttotal: 674ms\tremaining: 507ms\n",
      "571:\tlearn: 0.1064291\ttotal: 676ms\tremaining: 505ms\n",
      "572:\tlearn: 0.1062839\ttotal: 677ms\tremaining: 504ms\n",
      "573:\tlearn: 0.1062299\ttotal: 678ms\tremaining: 503ms\n",
      "574:\tlearn: 0.1060778\ttotal: 679ms\tremaining: 502ms\n"
     ]
    },
    {
     "name": "stdout",
     "output_type": "stream",
     "text": [
      "575:\tlearn: 0.1059566\ttotal: 680ms\tremaining: 501ms\n",
      "576:\tlearn: 0.1059116\ttotal: 682ms\tremaining: 500ms\n",
      "577:\tlearn: 0.1057285\ttotal: 683ms\tremaining: 499ms\n",
      "578:\tlearn: 0.1057031\ttotal: 684ms\tremaining: 497ms\n",
      "579:\tlearn: 0.1056547\ttotal: 685ms\tremaining: 496ms\n",
      "580:\tlearn: 0.1054291\ttotal: 686ms\tremaining: 495ms\n",
      "581:\tlearn: 0.1051924\ttotal: 687ms\tremaining: 493ms\n",
      "582:\tlearn: 0.1050408\ttotal: 688ms\tremaining: 492ms\n",
      "583:\tlearn: 0.1047820\ttotal: 689ms\tremaining: 491ms\n",
      "584:\tlearn: 0.1045130\ttotal: 690ms\tremaining: 490ms\n",
      "585:\tlearn: 0.1044517\ttotal: 691ms\tremaining: 488ms\n",
      "586:\tlearn: 0.1043251\ttotal: 692ms\tremaining: 487ms\n",
      "587:\tlearn: 0.1041194\ttotal: 693ms\tremaining: 486ms\n",
      "588:\tlearn: 0.1038424\ttotal: 694ms\tremaining: 484ms\n",
      "589:\tlearn: 0.1036195\ttotal: 695ms\tremaining: 483ms\n",
      "590:\tlearn: 0.1034501\ttotal: 696ms\tremaining: 482ms\n",
      "591:\tlearn: 0.1032764\ttotal: 697ms\tremaining: 480ms\n",
      "592:\tlearn: 0.1031776\ttotal: 698ms\tremaining: 479ms\n",
      "593:\tlearn: 0.1029791\ttotal: 699ms\tremaining: 478ms\n",
      "594:\tlearn: 0.1028170\ttotal: 701ms\tremaining: 477ms\n",
      "595:\tlearn: 0.1026811\ttotal: 702ms\tremaining: 476ms\n",
      "596:\tlearn: 0.1025473\ttotal: 703ms\tremaining: 474ms\n",
      "597:\tlearn: 0.1023544\ttotal: 704ms\tremaining: 473ms\n",
      "598:\tlearn: 0.1021634\ttotal: 705ms\tremaining: 472ms\n",
      "599:\tlearn: 0.1020801\ttotal: 706ms\tremaining: 471ms\n",
      "600:\tlearn: 0.1019756\ttotal: 707ms\tremaining: 469ms\n",
      "601:\tlearn: 0.1019484\ttotal: 708ms\tremaining: 468ms\n",
      "602:\tlearn: 0.1018512\ttotal: 709ms\tremaining: 467ms\n",
      "603:\tlearn: 0.1015761\ttotal: 710ms\tremaining: 465ms\n",
      "604:\tlearn: 0.1013688\ttotal: 711ms\tremaining: 464ms\n",
      "605:\tlearn: 0.1011922\ttotal: 712ms\tremaining: 463ms\n",
      "606:\tlearn: 0.1010372\ttotal: 713ms\tremaining: 462ms\n",
      "607:\tlearn: 0.1009976\ttotal: 714ms\tremaining: 461ms\n",
      "608:\tlearn: 0.1008248\ttotal: 716ms\tremaining: 459ms\n",
      "609:\tlearn: 0.1006624\ttotal: 717ms\tremaining: 458ms\n",
      "610:\tlearn: 0.1006200\ttotal: 718ms\tremaining: 457ms\n",
      "611:\tlearn: 0.1005699\ttotal: 719ms\tremaining: 456ms\n",
      "612:\tlearn: 0.1004561\ttotal: 720ms\tremaining: 454ms\n",
      "613:\tlearn: 0.1003879\ttotal: 721ms\tremaining: 453ms\n",
      "614:\tlearn: 0.1002562\ttotal: 722ms\tremaining: 452ms\n",
      "615:\tlearn: 0.1000718\ttotal: 723ms\tremaining: 451ms\n",
      "616:\tlearn: 0.0998824\ttotal: 724ms\tremaining: 450ms\n",
      "617:\tlearn: 0.0997421\ttotal: 725ms\tremaining: 448ms\n",
      "618:\tlearn: 0.0995473\ttotal: 726ms\tremaining: 447ms\n",
      "619:\tlearn: 0.0994686\ttotal: 727ms\tremaining: 446ms\n",
      "620:\tlearn: 0.0994190\ttotal: 729ms\tremaining: 445ms\n",
      "621:\tlearn: 0.0993821\ttotal: 730ms\tremaining: 443ms\n",
      "622:\tlearn: 0.0991100\ttotal: 731ms\tremaining: 442ms\n",
      "623:\tlearn: 0.0989019\ttotal: 733ms\tremaining: 441ms\n",
      "624:\tlearn: 0.0988821\ttotal: 734ms\tremaining: 440ms\n",
      "625:\tlearn: 0.0988582\ttotal: 735ms\tremaining: 439ms\n",
      "626:\tlearn: 0.0987731\ttotal: 736ms\tremaining: 438ms\n",
      "627:\tlearn: 0.0985418\ttotal: 737ms\tremaining: 437ms\n",
      "628:\tlearn: 0.0983818\ttotal: 738ms\tremaining: 435ms\n",
      "629:\tlearn: 0.0982837\ttotal: 739ms\tremaining: 434ms\n",
      "630:\tlearn: 0.0981571\ttotal: 740ms\tremaining: 433ms\n",
      "631:\tlearn: 0.0979170\ttotal: 741ms\tremaining: 431ms\n",
      "632:\tlearn: 0.0977022\ttotal: 742ms\tremaining: 430ms\n",
      "633:\tlearn: 0.0975339\ttotal: 743ms\tremaining: 429ms\n",
      "634:\tlearn: 0.0972445\ttotal: 744ms\tremaining: 428ms\n",
      "635:\tlearn: 0.0972217\ttotal: 745ms\tremaining: 427ms\n",
      "636:\tlearn: 0.0969529\ttotal: 746ms\tremaining: 425ms\n",
      "637:\tlearn: 0.0967115\ttotal: 748ms\tremaining: 424ms\n",
      "638:\tlearn: 0.0965948\ttotal: 749ms\tremaining: 423ms\n",
      "639:\tlearn: 0.0963632\ttotal: 750ms\tremaining: 422ms\n",
      "640:\tlearn: 0.0962308\ttotal: 751ms\tremaining: 421ms\n",
      "641:\tlearn: 0.0961037\ttotal: 752ms\tremaining: 419ms\n",
      "642:\tlearn: 0.0959424\ttotal: 753ms\tremaining: 418ms\n",
      "643:\tlearn: 0.0957676\ttotal: 754ms\tremaining: 417ms\n",
      "644:\tlearn: 0.0956555\ttotal: 755ms\tremaining: 416ms\n",
      "645:\tlearn: 0.0954612\ttotal: 757ms\tremaining: 415ms\n",
      "646:\tlearn: 0.0953384\ttotal: 758ms\tremaining: 413ms\n",
      "647:\tlearn: 0.0953143\ttotal: 759ms\tremaining: 412ms\n",
      "648:\tlearn: 0.0951398\ttotal: 760ms\tremaining: 411ms\n",
      "649:\tlearn: 0.0951016\ttotal: 761ms\tremaining: 410ms\n",
      "650:\tlearn: 0.0950569\ttotal: 762ms\tremaining: 408ms\n",
      "651:\tlearn: 0.0948824\ttotal: 763ms\tremaining: 407ms\n",
      "652:\tlearn: 0.0946920\ttotal: 764ms\tremaining: 406ms\n",
      "653:\tlearn: 0.0945945\ttotal: 765ms\tremaining: 405ms\n",
      "654:\tlearn: 0.0945010\ttotal: 766ms\tremaining: 404ms\n",
      "655:\tlearn: 0.0943572\ttotal: 768ms\tremaining: 403ms\n",
      "656:\tlearn: 0.0941616\ttotal: 769ms\tremaining: 401ms\n",
      "657:\tlearn: 0.0939526\ttotal: 770ms\tremaining: 400ms\n",
      "658:\tlearn: 0.0937836\ttotal: 771ms\tremaining: 399ms\n",
      "659:\tlearn: 0.0936447\ttotal: 772ms\tremaining: 398ms\n",
      "660:\tlearn: 0.0936067\ttotal: 773ms\tremaining: 397ms\n",
      "661:\tlearn: 0.0935887\ttotal: 774ms\tremaining: 395ms\n",
      "662:\tlearn: 0.0934629\ttotal: 776ms\tremaining: 394ms\n",
      "663:\tlearn: 0.0934484\ttotal: 777ms\tremaining: 393ms\n",
      "664:\tlearn: 0.0933454\ttotal: 778ms\tremaining: 392ms\n",
      "665:\tlearn: 0.0931839\ttotal: 779ms\tremaining: 391ms\n",
      "666:\tlearn: 0.0930185\ttotal: 780ms\tremaining: 389ms\n",
      "667:\tlearn: 0.0929058\ttotal: 781ms\tremaining: 388ms\n",
      "668:\tlearn: 0.0927741\ttotal: 782ms\tremaining: 387ms\n",
      "669:\tlearn: 0.0925206\ttotal: 783ms\tremaining: 386ms\n",
      "670:\tlearn: 0.0923346\ttotal: 784ms\tremaining: 384ms\n",
      "671:\tlearn: 0.0923101\ttotal: 785ms\tremaining: 383ms\n",
      "672:\tlearn: 0.0921584\ttotal: 786ms\tremaining: 382ms\n",
      "673:\tlearn: 0.0921355\ttotal: 787ms\tremaining: 381ms\n",
      "674:\tlearn: 0.0919843\ttotal: 788ms\tremaining: 380ms\n",
      "675:\tlearn: 0.0918274\ttotal: 789ms\tremaining: 378ms\n",
      "676:\tlearn: 0.0917911\ttotal: 790ms\tremaining: 377ms\n",
      "677:\tlearn: 0.0917321\ttotal: 791ms\tremaining: 376ms\n",
      "678:\tlearn: 0.0916331\ttotal: 792ms\tremaining: 375ms\n",
      "679:\tlearn: 0.0916195\ttotal: 793ms\tremaining: 373ms\n",
      "680:\tlearn: 0.0915193\ttotal: 794ms\tremaining: 372ms\n",
      "681:\tlearn: 0.0913645\ttotal: 795ms\tremaining: 371ms\n",
      "682:\tlearn: 0.0912381\ttotal: 796ms\tremaining: 370ms\n",
      "683:\tlearn: 0.0909764\ttotal: 797ms\tremaining: 368ms\n",
      "684:\tlearn: 0.0908565\ttotal: 798ms\tremaining: 367ms\n",
      "685:\tlearn: 0.0907282\ttotal: 799ms\tremaining: 366ms\n",
      "686:\tlearn: 0.0905657\ttotal: 800ms\tremaining: 365ms\n",
      "687:\tlearn: 0.0904216\ttotal: 801ms\tremaining: 363ms\n",
      "688:\tlearn: 0.0902960\ttotal: 802ms\tremaining: 362ms\n",
      "689:\tlearn: 0.0902045\ttotal: 803ms\tremaining: 361ms\n",
      "690:\tlearn: 0.0901697\ttotal: 804ms\tremaining: 360ms\n",
      "691:\tlearn: 0.0899943\ttotal: 805ms\tremaining: 358ms\n",
      "692:\tlearn: 0.0898173\ttotal: 806ms\tremaining: 357ms\n",
      "693:\tlearn: 0.0896122\ttotal: 807ms\tremaining: 356ms\n",
      "694:\tlearn: 0.0894551\ttotal: 808ms\tremaining: 355ms\n",
      "695:\tlearn: 0.0892669\ttotal: 809ms\tremaining: 354ms\n"
     ]
    },
    {
     "name": "stdout",
     "output_type": "stream",
     "text": [
      "696:\tlearn: 0.0890649\ttotal: 811ms\tremaining: 353ms\n",
      "697:\tlearn: 0.0890417\ttotal: 812ms\tremaining: 351ms\n",
      "698:\tlearn: 0.0890108\ttotal: 813ms\tremaining: 350ms\n",
      "699:\tlearn: 0.0888837\ttotal: 814ms\tremaining: 349ms\n",
      "700:\tlearn: 0.0887955\ttotal: 815ms\tremaining: 348ms\n",
      "701:\tlearn: 0.0887629\ttotal: 816ms\tremaining: 347ms\n",
      "702:\tlearn: 0.0886010\ttotal: 817ms\tremaining: 345ms\n",
      "703:\tlearn: 0.0885861\ttotal: 818ms\tremaining: 344ms\n",
      "704:\tlearn: 0.0885488\ttotal: 820ms\tremaining: 343ms\n",
      "705:\tlearn: 0.0884345\ttotal: 821ms\tremaining: 342ms\n",
      "706:\tlearn: 0.0883060\ttotal: 821ms\tremaining: 340ms\n",
      "707:\tlearn: 0.0881780\ttotal: 822ms\tremaining: 339ms\n",
      "708:\tlearn: 0.0879843\ttotal: 823ms\tremaining: 338ms\n",
      "709:\tlearn: 0.0879668\ttotal: 824ms\tremaining: 337ms\n",
      "710:\tlearn: 0.0877884\ttotal: 826ms\tremaining: 336ms\n",
      "711:\tlearn: 0.0877775\ttotal: 827ms\tremaining: 334ms\n",
      "712:\tlearn: 0.0875303\ttotal: 828ms\tremaining: 333ms\n",
      "713:\tlearn: 0.0874600\ttotal: 829ms\tremaining: 332ms\n",
      "714:\tlearn: 0.0873345\ttotal: 830ms\tremaining: 331ms\n",
      "715:\tlearn: 0.0872597\ttotal: 831ms\tremaining: 329ms\n",
      "716:\tlearn: 0.0872267\ttotal: 832ms\tremaining: 328ms\n",
      "717:\tlearn: 0.0871994\ttotal: 833ms\tremaining: 327ms\n",
      "718:\tlearn: 0.0870851\ttotal: 834ms\tremaining: 326ms\n",
      "719:\tlearn: 0.0870708\ttotal: 835ms\tremaining: 325ms\n",
      "720:\tlearn: 0.0868597\ttotal: 836ms\tremaining: 323ms\n",
      "721:\tlearn: 0.0868327\ttotal: 837ms\tremaining: 322ms\n",
      "722:\tlearn: 0.0866748\ttotal: 838ms\tremaining: 321ms\n",
      "723:\tlearn: 0.0865502\ttotal: 839ms\tremaining: 320ms\n",
      "724:\tlearn: 0.0865220\ttotal: 840ms\tremaining: 319ms\n",
      "725:\tlearn: 0.0863626\ttotal: 841ms\tremaining: 317ms\n",
      "726:\tlearn: 0.0862338\ttotal: 842ms\tremaining: 316ms\n",
      "727:\tlearn: 0.0861276\ttotal: 843ms\tremaining: 315ms\n",
      "728:\tlearn: 0.0860071\ttotal: 844ms\tremaining: 314ms\n",
      "729:\tlearn: 0.0859755\ttotal: 845ms\tremaining: 313ms\n",
      "730:\tlearn: 0.0859435\ttotal: 846ms\tremaining: 311ms\n",
      "731:\tlearn: 0.0858709\ttotal: 847ms\tremaining: 310ms\n",
      "732:\tlearn: 0.0857664\ttotal: 848ms\tremaining: 309ms\n",
      "733:\tlearn: 0.0855708\ttotal: 849ms\tremaining: 308ms\n",
      "734:\tlearn: 0.0853433\ttotal: 851ms\tremaining: 307ms\n",
      "735:\tlearn: 0.0853171\ttotal: 852ms\tremaining: 305ms\n",
      "736:\tlearn: 0.0852706\ttotal: 853ms\tremaining: 304ms\n",
      "737:\tlearn: 0.0850854\ttotal: 854ms\tremaining: 303ms\n",
      "738:\tlearn: 0.0850725\ttotal: 855ms\tremaining: 302ms\n",
      "739:\tlearn: 0.0849270\ttotal: 856ms\tremaining: 301ms\n",
      "740:\tlearn: 0.0848528\ttotal: 857ms\tremaining: 299ms\n",
      "741:\tlearn: 0.0846570\ttotal: 858ms\tremaining: 298ms\n",
      "742:\tlearn: 0.0844442\ttotal: 859ms\tremaining: 297ms\n",
      "743:\tlearn: 0.0842740\ttotal: 860ms\tremaining: 296ms\n",
      "744:\tlearn: 0.0842475\ttotal: 861ms\tremaining: 295ms\n",
      "745:\tlearn: 0.0841555\ttotal: 862ms\tremaining: 293ms\n",
      "746:\tlearn: 0.0840575\ttotal: 863ms\tremaining: 292ms\n",
      "747:\tlearn: 0.0839311\ttotal: 864ms\tremaining: 291ms\n",
      "748:\tlearn: 0.0837148\ttotal: 865ms\tremaining: 290ms\n",
      "749:\tlearn: 0.0835888\ttotal: 866ms\tremaining: 289ms\n",
      "750:\tlearn: 0.0835552\ttotal: 867ms\tremaining: 287ms\n",
      "751:\tlearn: 0.0834328\ttotal: 868ms\tremaining: 286ms\n",
      "752:\tlearn: 0.0834064\ttotal: 869ms\tremaining: 285ms\n",
      "753:\tlearn: 0.0832648\ttotal: 870ms\tremaining: 284ms\n",
      "754:\tlearn: 0.0830864\ttotal: 871ms\tremaining: 283ms\n",
      "755:\tlearn: 0.0830306\ttotal: 872ms\tremaining: 281ms\n",
      "756:\tlearn: 0.0829100\ttotal: 873ms\tremaining: 280ms\n",
      "757:\tlearn: 0.0828188\ttotal: 874ms\tremaining: 279ms\n",
      "758:\tlearn: 0.0826140\ttotal: 875ms\tremaining: 278ms\n",
      "759:\tlearn: 0.0825113\ttotal: 876ms\tremaining: 277ms\n",
      "760:\tlearn: 0.0824516\ttotal: 877ms\tremaining: 275ms\n",
      "761:\tlearn: 0.0822745\ttotal: 878ms\tremaining: 274ms\n",
      "762:\tlearn: 0.0820558\ttotal: 879ms\tremaining: 273ms\n",
      "763:\tlearn: 0.0820110\ttotal: 880ms\tremaining: 272ms\n",
      "764:\tlearn: 0.0818346\ttotal: 881ms\tremaining: 271ms\n",
      "765:\tlearn: 0.0816914\ttotal: 882ms\tremaining: 269ms\n",
      "766:\tlearn: 0.0816777\ttotal: 883ms\tremaining: 268ms\n",
      "767:\tlearn: 0.0815690\ttotal: 884ms\tremaining: 267ms\n",
      "768:\tlearn: 0.0814459\ttotal: 885ms\tremaining: 266ms\n",
      "769:\tlearn: 0.0814292\ttotal: 886ms\tremaining: 265ms\n",
      "770:\tlearn: 0.0814084\ttotal: 887ms\tremaining: 264ms\n",
      "771:\tlearn: 0.0813012\ttotal: 888ms\tremaining: 262ms\n",
      "772:\tlearn: 0.0810946\ttotal: 889ms\tremaining: 261ms\n",
      "773:\tlearn: 0.0808706\ttotal: 891ms\tremaining: 260ms\n",
      "774:\tlearn: 0.0807619\ttotal: 892ms\tremaining: 259ms\n",
      "775:\tlearn: 0.0805704\ttotal: 893ms\tremaining: 258ms\n",
      "776:\tlearn: 0.0804322\ttotal: 894ms\tremaining: 257ms\n",
      "777:\tlearn: 0.0803580\ttotal: 895ms\tremaining: 255ms\n",
      "778:\tlearn: 0.0802516\ttotal: 896ms\tremaining: 254ms\n",
      "779:\tlearn: 0.0801155\ttotal: 897ms\tremaining: 253ms\n",
      "780:\tlearn: 0.0800725\ttotal: 898ms\tremaining: 252ms\n",
      "781:\tlearn: 0.0799938\ttotal: 899ms\tremaining: 251ms\n",
      "782:\tlearn: 0.0799746\ttotal: 900ms\tremaining: 249ms\n",
      "783:\tlearn: 0.0798117\ttotal: 901ms\tremaining: 248ms\n",
      "784:\tlearn: 0.0796052\ttotal: 902ms\tremaining: 247ms\n",
      "785:\tlearn: 0.0794965\ttotal: 903ms\tremaining: 246ms\n",
      "786:\tlearn: 0.0794251\ttotal: 905ms\tremaining: 245ms\n",
      "787:\tlearn: 0.0793039\ttotal: 906ms\tremaining: 244ms\n",
      "788:\tlearn: 0.0792070\ttotal: 907ms\tremaining: 243ms\n",
      "789:\tlearn: 0.0790362\ttotal: 908ms\tremaining: 241ms\n",
      "790:\tlearn: 0.0789227\ttotal: 909ms\tremaining: 240ms\n",
      "791:\tlearn: 0.0787960\ttotal: 910ms\tremaining: 239ms\n",
      "792:\tlearn: 0.0786223\ttotal: 911ms\tremaining: 238ms\n",
      "793:\tlearn: 0.0786088\ttotal: 912ms\tremaining: 237ms\n",
      "794:\tlearn: 0.0785175\ttotal: 913ms\tremaining: 236ms\n",
      "795:\tlearn: 0.0783622\ttotal: 914ms\tremaining: 234ms\n",
      "796:\tlearn: 0.0781948\ttotal: 915ms\tremaining: 233ms\n",
      "797:\tlearn: 0.0780889\ttotal: 916ms\tremaining: 232ms\n",
      "798:\tlearn: 0.0779817\ttotal: 917ms\tremaining: 231ms\n",
      "799:\tlearn: 0.0778584\ttotal: 918ms\tremaining: 230ms\n",
      "800:\tlearn: 0.0777369\ttotal: 919ms\tremaining: 228ms\n",
      "801:\tlearn: 0.0775284\ttotal: 920ms\tremaining: 227ms\n",
      "802:\tlearn: 0.0774591\ttotal: 921ms\tremaining: 226ms\n",
      "803:\tlearn: 0.0773306\ttotal: 923ms\tremaining: 225ms\n",
      "804:\tlearn: 0.0771552\ttotal: 924ms\tremaining: 224ms\n",
      "805:\tlearn: 0.0771453\ttotal: 925ms\tremaining: 223ms\n",
      "806:\tlearn: 0.0770327\ttotal: 926ms\tremaining: 221ms\n",
      "807:\tlearn: 0.0770083\ttotal: 927ms\tremaining: 220ms\n",
      "808:\tlearn: 0.0768749\ttotal: 928ms\tremaining: 219ms\n",
      "809:\tlearn: 0.0767764\ttotal: 929ms\tremaining: 218ms\n",
      "810:\tlearn: 0.0766577\ttotal: 930ms\tremaining: 217ms\n",
      "811:\tlearn: 0.0764388\ttotal: 931ms\tremaining: 216ms\n",
      "812:\tlearn: 0.0762475\ttotal: 932ms\tremaining: 214ms\n",
      "813:\tlearn: 0.0761302\ttotal: 933ms\tremaining: 213ms\n",
      "814:\tlearn: 0.0760577\ttotal: 934ms\tremaining: 212ms\n",
      "815:\tlearn: 0.0759169\ttotal: 935ms\tremaining: 211ms\n",
      "816:\tlearn: 0.0757570\ttotal: 937ms\tremaining: 210ms\n",
      "817:\tlearn: 0.0755429\ttotal: 938ms\tremaining: 209ms\n",
      "818:\tlearn: 0.0754140\ttotal: 939ms\tremaining: 207ms\n",
      "819:\tlearn: 0.0752951\ttotal: 941ms\tremaining: 207ms\n",
      "820:\tlearn: 0.0752028\ttotal: 942ms\tremaining: 205ms\n"
     ]
    },
    {
     "name": "stdout",
     "output_type": "stream",
     "text": [
      "821:\tlearn: 0.0751827\ttotal: 943ms\tremaining: 204ms\n",
      "822:\tlearn: 0.0750986\ttotal: 944ms\tremaining: 203ms\n",
      "823:\tlearn: 0.0749110\ttotal: 945ms\tremaining: 202ms\n",
      "824:\tlearn: 0.0748474\ttotal: 946ms\tremaining: 201ms\n",
      "825:\tlearn: 0.0746686\ttotal: 947ms\tremaining: 200ms\n",
      "826:\tlearn: 0.0745939\ttotal: 948ms\tremaining: 198ms\n",
      "827:\tlearn: 0.0744523\ttotal: 949ms\tremaining: 197ms\n",
      "828:\tlearn: 0.0743257\ttotal: 951ms\tremaining: 196ms\n",
      "829:\tlearn: 0.0742286\ttotal: 952ms\tremaining: 195ms\n",
      "830:\tlearn: 0.0741415\ttotal: 953ms\tremaining: 194ms\n",
      "831:\tlearn: 0.0740115\ttotal: 954ms\tremaining: 193ms\n",
      "832:\tlearn: 0.0739593\ttotal: 955ms\tremaining: 191ms\n",
      "833:\tlearn: 0.0738364\ttotal: 956ms\tremaining: 190ms\n",
      "834:\tlearn: 0.0736902\ttotal: 957ms\tremaining: 189ms\n",
      "835:\tlearn: 0.0735445\ttotal: 958ms\tremaining: 188ms\n",
      "836:\tlearn: 0.0734855\ttotal: 959ms\tremaining: 187ms\n",
      "837:\tlearn: 0.0734761\ttotal: 960ms\tremaining: 186ms\n",
      "838:\tlearn: 0.0734281\ttotal: 961ms\tremaining: 184ms\n",
      "839:\tlearn: 0.0732944\ttotal: 962ms\tremaining: 183ms\n",
      "840:\tlearn: 0.0732079\ttotal: 963ms\tremaining: 182ms\n",
      "841:\tlearn: 0.0730767\ttotal: 964ms\tremaining: 181ms\n",
      "842:\tlearn: 0.0729844\ttotal: 965ms\tremaining: 180ms\n",
      "843:\tlearn: 0.0728835\ttotal: 966ms\tremaining: 179ms\n",
      "844:\tlearn: 0.0728111\ttotal: 967ms\tremaining: 177ms\n",
      "845:\tlearn: 0.0726790\ttotal: 968ms\tremaining: 176ms\n",
      "846:\tlearn: 0.0725634\ttotal: 970ms\tremaining: 175ms\n",
      "847:\tlearn: 0.0725513\ttotal: 971ms\tremaining: 174ms\n",
      "848:\tlearn: 0.0724329\ttotal: 972ms\tremaining: 173ms\n",
      "849:\tlearn: 0.0723096\ttotal: 973ms\tremaining: 172ms\n",
      "850:\tlearn: 0.0721765\ttotal: 974ms\tremaining: 170ms\n",
      "851:\tlearn: 0.0720597\ttotal: 975ms\tremaining: 169ms\n",
      "852:\tlearn: 0.0720427\ttotal: 976ms\tremaining: 168ms\n",
      "853:\tlearn: 0.0718937\ttotal: 977ms\tremaining: 167ms\n",
      "854:\tlearn: 0.0718476\ttotal: 978ms\tremaining: 166ms\n",
      "855:\tlearn: 0.0717633\ttotal: 979ms\tremaining: 165ms\n",
      "856:\tlearn: 0.0716443\ttotal: 980ms\tremaining: 164ms\n",
      "857:\tlearn: 0.0715840\ttotal: 981ms\tremaining: 162ms\n",
      "858:\tlearn: 0.0714617\ttotal: 982ms\tremaining: 161ms\n",
      "859:\tlearn: 0.0713409\ttotal: 983ms\tremaining: 160ms\n",
      "860:\tlearn: 0.0712013\ttotal: 984ms\tremaining: 159ms\n",
      "861:\tlearn: 0.0711944\ttotal: 985ms\tremaining: 158ms\n",
      "862:\tlearn: 0.0710269\ttotal: 986ms\tremaining: 157ms\n",
      "863:\tlearn: 0.0708949\ttotal: 987ms\tremaining: 155ms\n",
      "864:\tlearn: 0.0707366\ttotal: 989ms\tremaining: 154ms\n",
      "865:\tlearn: 0.0706113\ttotal: 990ms\tremaining: 153ms\n",
      "866:\tlearn: 0.0704611\ttotal: 991ms\tremaining: 152ms\n",
      "867:\tlearn: 0.0703351\ttotal: 992ms\tremaining: 151ms\n",
      "868:\tlearn: 0.0701941\ttotal: 993ms\tremaining: 150ms\n",
      "869:\tlearn: 0.0700825\ttotal: 994ms\tremaining: 148ms\n",
      "870:\tlearn: 0.0700718\ttotal: 995ms\tremaining: 147ms\n",
      "871:\tlearn: 0.0700023\ttotal: 996ms\tremaining: 146ms\n",
      "872:\tlearn: 0.0698711\ttotal: 997ms\tremaining: 145ms\n",
      "873:\tlearn: 0.0697937\ttotal: 998ms\tremaining: 144ms\n",
      "874:\tlearn: 0.0696349\ttotal: 999ms\tremaining: 143ms\n",
      "875:\tlearn: 0.0695752\ttotal: 1000ms\tremaining: 142ms\n",
      "876:\tlearn: 0.0694613\ttotal: 1s\tremaining: 140ms\n",
      "877:\tlearn: 0.0693101\ttotal: 1s\tremaining: 139ms\n",
      "878:\tlearn: 0.0692040\ttotal: 1s\tremaining: 138ms\n",
      "879:\tlearn: 0.0690604\ttotal: 1s\tremaining: 137ms\n",
      "880:\tlearn: 0.0689324\ttotal: 1s\tremaining: 136ms\n",
      "881:\tlearn: 0.0688474\ttotal: 1.01s\tremaining: 135ms\n",
      "882:\tlearn: 0.0687248\ttotal: 1.01s\tremaining: 133ms\n",
      "883:\tlearn: 0.0686531\ttotal: 1.01s\tremaining: 132ms\n",
      "884:\tlearn: 0.0685235\ttotal: 1.01s\tremaining: 131ms\n",
      "885:\tlearn: 0.0684139\ttotal: 1.01s\tremaining: 130ms\n",
      "886:\tlearn: 0.0683375\ttotal: 1.01s\tremaining: 129ms\n",
      "887:\tlearn: 0.0682498\ttotal: 1.01s\tremaining: 128ms\n",
      "888:\tlearn: 0.0681603\ttotal: 1.01s\tremaining: 127ms\n",
      "889:\tlearn: 0.0681108\ttotal: 1.01s\tremaining: 125ms\n",
      "890:\tlearn: 0.0680205\ttotal: 1.01s\tremaining: 124ms\n",
      "891:\tlearn: 0.0679249\ttotal: 1.02s\tremaining: 123ms\n",
      "892:\tlearn: 0.0677581\ttotal: 1.02s\tremaining: 122ms\n",
      "893:\tlearn: 0.0676732\ttotal: 1.02s\tremaining: 121ms\n",
      "894:\tlearn: 0.0676037\ttotal: 1.02s\tremaining: 120ms\n",
      "895:\tlearn: 0.0675006\ttotal: 1.02s\tremaining: 119ms\n",
      "896:\tlearn: 0.0673882\ttotal: 1.02s\tremaining: 117ms\n",
      "897:\tlearn: 0.0672756\ttotal: 1.02s\tremaining: 116ms\n",
      "898:\tlearn: 0.0672159\ttotal: 1.02s\tremaining: 115ms\n",
      "899:\tlearn: 0.0671453\ttotal: 1.02s\tremaining: 114ms\n",
      "900:\tlearn: 0.0670527\ttotal: 1.03s\tremaining: 113ms\n",
      "901:\tlearn: 0.0669417\ttotal: 1.03s\tremaining: 112ms\n",
      "902:\tlearn: 0.0669323\ttotal: 1.03s\tremaining: 111ms\n",
      "903:\tlearn: 0.0668236\ttotal: 1.03s\tremaining: 109ms\n",
      "904:\tlearn: 0.0668106\ttotal: 1.03s\tremaining: 108ms\n",
      "905:\tlearn: 0.0667702\ttotal: 1.03s\tremaining: 107ms\n",
      "906:\tlearn: 0.0667120\ttotal: 1.03s\tremaining: 106ms\n",
      "907:\tlearn: 0.0667046\ttotal: 1.03s\tremaining: 105ms\n",
      "908:\tlearn: 0.0666976\ttotal: 1.03s\tremaining: 104ms\n",
      "909:\tlearn: 0.0666923\ttotal: 1.04s\tremaining: 103ms\n",
      "910:\tlearn: 0.0666720\ttotal: 1.04s\tremaining: 101ms\n",
      "911:\tlearn: 0.0665741\ttotal: 1.04s\tremaining: 100ms\n",
      "912:\tlearn: 0.0664960\ttotal: 1.04s\tremaining: 99.1ms\n",
      "913:\tlearn: 0.0663889\ttotal: 1.04s\tremaining: 97.9ms\n",
      "914:\tlearn: 0.0663147\ttotal: 1.04s\tremaining: 96.8ms\n",
      "915:\tlearn: 0.0661988\ttotal: 1.04s\tremaining: 95.6ms\n",
      "916:\tlearn: 0.0660703\ttotal: 1.04s\tremaining: 94.5ms\n",
      "917:\tlearn: 0.0660407\ttotal: 1.04s\tremaining: 93.3ms\n",
      "918:\tlearn: 0.0659219\ttotal: 1.04s\tremaining: 92.2ms\n",
      "919:\tlearn: 0.0658609\ttotal: 1.05s\tremaining: 91ms\n",
      "920:\tlearn: 0.0657940\ttotal: 1.05s\tremaining: 89.9ms\n",
      "921:\tlearn: 0.0657266\ttotal: 1.05s\tremaining: 88.7ms\n",
      "922:\tlearn: 0.0654819\ttotal: 1.05s\tremaining: 87.6ms\n",
      "923:\tlearn: 0.0654173\ttotal: 1.05s\tremaining: 86.5ms\n",
      "924:\tlearn: 0.0652825\ttotal: 1.05s\tremaining: 85.3ms\n",
      "925:\tlearn: 0.0652374\ttotal: 1.05s\tremaining: 84.2ms\n",
      "926:\tlearn: 0.0651855\ttotal: 1.05s\tremaining: 83ms\n",
      "927:\tlearn: 0.0651360\ttotal: 1.05s\tremaining: 81.9ms\n",
      "928:\tlearn: 0.0650897\ttotal: 1.06s\tremaining: 80.7ms\n",
      "929:\tlearn: 0.0650768\ttotal: 1.06s\tremaining: 79.6ms\n",
      "930:\tlearn: 0.0650242\ttotal: 1.06s\tremaining: 78.4ms\n",
      "931:\tlearn: 0.0649647\ttotal: 1.06s\tremaining: 77.3ms\n",
      "932:\tlearn: 0.0649102\ttotal: 1.06s\tremaining: 76.1ms\n",
      "933:\tlearn: 0.0648244\ttotal: 1.06s\tremaining: 75ms\n",
      "934:\tlearn: 0.0647466\ttotal: 1.06s\tremaining: 73.9ms\n",
      "935:\tlearn: 0.0646199\ttotal: 1.06s\tremaining: 72.7ms\n",
      "936:\tlearn: 0.0645393\ttotal: 1.06s\tremaining: 71.6ms\n",
      "937:\tlearn: 0.0644011\ttotal: 1.07s\tremaining: 70.5ms\n",
      "938:\tlearn: 0.0643176\ttotal: 1.07s\tremaining: 69.3ms\n",
      "939:\tlearn: 0.0641870\ttotal: 1.07s\tremaining: 68.2ms\n",
      "940:\tlearn: 0.0640568\ttotal: 1.07s\tremaining: 67ms\n",
      "941:\tlearn: 0.0639008\ttotal: 1.07s\tremaining: 65.9ms\n"
     ]
    },
    {
     "name": "stdout",
     "output_type": "stream",
     "text": [
      "942:\tlearn: 0.0638955\ttotal: 1.07s\tremaining: 64.8ms\n",
      "943:\tlearn: 0.0638906\ttotal: 1.07s\tremaining: 63.6ms\n",
      "944:\tlearn: 0.0638099\ttotal: 1.07s\tremaining: 62.5ms\n",
      "945:\tlearn: 0.0637223\ttotal: 1.07s\tremaining: 61.4ms\n",
      "946:\tlearn: 0.0636289\ttotal: 1.08s\tremaining: 60.2ms\n",
      "947:\tlearn: 0.0635797\ttotal: 1.08s\tremaining: 59.1ms\n",
      "948:\tlearn: 0.0635633\ttotal: 1.08s\tremaining: 58ms\n",
      "949:\tlearn: 0.0634553\ttotal: 1.08s\tremaining: 56.8ms\n",
      "950:\tlearn: 0.0634493\ttotal: 1.08s\tremaining: 55.7ms\n",
      "951:\tlearn: 0.0633362\ttotal: 1.08s\tremaining: 54.5ms\n",
      "952:\tlearn: 0.0631558\ttotal: 1.08s\tremaining: 53.4ms\n",
      "953:\tlearn: 0.0630585\ttotal: 1.08s\tremaining: 52.3ms\n",
      "954:\tlearn: 0.0630260\ttotal: 1.08s\tremaining: 51.1ms\n",
      "955:\tlearn: 0.0630204\ttotal: 1.08s\tremaining: 50ms\n",
      "956:\tlearn: 0.0629399\ttotal: 1.09s\tremaining: 48.8ms\n",
      "957:\tlearn: 0.0627960\ttotal: 1.09s\tremaining: 47.7ms\n",
      "958:\tlearn: 0.0627425\ttotal: 1.09s\tremaining: 46.6ms\n",
      "959:\tlearn: 0.0626062\ttotal: 1.09s\tremaining: 45.5ms\n",
      "960:\tlearn: 0.0625975\ttotal: 1.09s\tremaining: 44.3ms\n",
      "961:\tlearn: 0.0625394\ttotal: 1.09s\tremaining: 43.2ms\n",
      "962:\tlearn: 0.0625004\ttotal: 1.09s\tremaining: 42ms\n",
      "963:\tlearn: 0.0624787\ttotal: 1.09s\tremaining: 40.9ms\n",
      "964:\tlearn: 0.0624468\ttotal: 1.1s\tremaining: 39.8ms\n",
      "965:\tlearn: 0.0623959\ttotal: 1.1s\tremaining: 38.6ms\n",
      "966:\tlearn: 0.0623169\ttotal: 1.1s\tremaining: 37.5ms\n",
      "967:\tlearn: 0.0622651\ttotal: 1.1s\tremaining: 36.4ms\n",
      "968:\tlearn: 0.0621552\ttotal: 1.1s\tremaining: 35.2ms\n",
      "969:\tlearn: 0.0621260\ttotal: 1.1s\tremaining: 34.1ms\n",
      "970:\tlearn: 0.0620464\ttotal: 1.1s\tremaining: 33ms\n",
      "971:\tlearn: 0.0619715\ttotal: 1.1s\tremaining: 31.8ms\n",
      "972:\tlearn: 0.0618935\ttotal: 1.1s\tremaining: 30.7ms\n",
      "973:\tlearn: 0.0618103\ttotal: 1.11s\tremaining: 29.6ms\n",
      "974:\tlearn: 0.0618044\ttotal: 1.11s\tremaining: 28.4ms\n",
      "975:\tlearn: 0.0617050\ttotal: 1.11s\tremaining: 27.3ms\n",
      "976:\tlearn: 0.0615906\ttotal: 1.11s\tremaining: 26.1ms\n",
      "977:\tlearn: 0.0615860\ttotal: 1.11s\tremaining: 25ms\n",
      "978:\tlearn: 0.0614443\ttotal: 1.11s\tremaining: 23.9ms\n",
      "979:\tlearn: 0.0613346\ttotal: 1.11s\tremaining: 22.7ms\n",
      "980:\tlearn: 0.0611878\ttotal: 1.11s\tremaining: 21.6ms\n",
      "981:\tlearn: 0.0611561\ttotal: 1.11s\tremaining: 20.5ms\n",
      "982:\tlearn: 0.0610495\ttotal: 1.12s\tremaining: 19.3ms\n",
      "983:\tlearn: 0.0608849\ttotal: 1.12s\tremaining: 18.2ms\n",
      "984:\tlearn: 0.0608317\ttotal: 1.12s\tremaining: 17ms\n",
      "985:\tlearn: 0.0607320\ttotal: 1.12s\tremaining: 15.9ms\n",
      "986:\tlearn: 0.0605960\ttotal: 1.12s\tremaining: 14.8ms\n",
      "987:\tlearn: 0.0605380\ttotal: 1.12s\tremaining: 13.6ms\n",
      "988:\tlearn: 0.0604448\ttotal: 1.12s\tremaining: 12.5ms\n",
      "989:\tlearn: 0.0602801\ttotal: 1.12s\tremaining: 11.4ms\n",
      "990:\tlearn: 0.0601886\ttotal: 1.13s\tremaining: 10.2ms\n",
      "991:\tlearn: 0.0601263\ttotal: 1.13s\tremaining: 9.08ms\n",
      "992:\tlearn: 0.0599941\ttotal: 1.13s\tremaining: 7.95ms\n",
      "993:\tlearn: 0.0599093\ttotal: 1.13s\tremaining: 6.81ms\n",
      "994:\tlearn: 0.0598209\ttotal: 1.13s\tremaining: 5.67ms\n",
      "995:\tlearn: 0.0597276\ttotal: 1.13s\tremaining: 4.54ms\n",
      "996:\tlearn: 0.0597220\ttotal: 1.13s\tremaining: 3.4ms\n",
      "997:\tlearn: 0.0596298\ttotal: 1.13s\tremaining: 2.27ms\n",
      "998:\tlearn: 0.0596222\ttotal: 1.13s\tremaining: 1.13ms\n",
      "999:\tlearn: 0.0596122\ttotal: 1.13s\tremaining: 0us\n"
     ]
    },
    {
     "data": {
      "text/plain": [
       "<catboost.core.CatBoostRegressor at 0x7fed0db23ed0>"
      ]
     },
     "execution_count": 9,
     "metadata": {},
     "output_type": "execute_result"
    }
   ],
   "source": [
    "#Train the Model \n",
    "prior_model = ctb.CatBoostRegressor()\n",
    "prior_model.fit(X_train,Y_train)"
   ]
  },
  {
   "cell_type": "code",
   "execution_count": 10,
   "id": "c775fd81",
   "metadata": {
    "execution": {
     "iopub.execute_input": "2022-01-14T10:25:03.660113Z",
     "iopub.status.busy": "2022-01-14T10:25:03.659510Z",
     "iopub.status.idle": "2022-01-14T10:25:03.673072Z",
     "shell.execute_reply": "2022-01-14T10:25:03.672413Z"
    },
    "papermill": {
     "duration": 0.048712,
     "end_time": "2022-01-14T10:25:03.673238",
     "exception": false,
     "start_time": "2022-01-14T10:25:03.624526",
     "status": "completed"
    },
    "tags": []
   },
   "outputs": [
    {
     "data": {
      "application/scrapbook.scrap.json+json": {
       "data": 0.12120791190561679,
       "encoder": "json",
       "name": "Prior Model MSE",
       "version": 1
      }
     },
     "metadata": {
      "scrapbook": {
       "data": true,
       "display": false,
       "name": "Prior Model MSE"
      }
     },
     "output_type": "display_data"
    },
    {
     "data": {
      "application/scrapbook.scrap.json+json": {
       "data": 1.071226794893034,
       "encoder": "json",
       "name": "ABC Pre-generator MSE",
       "version": 1
      }
     },
     "metadata": {
      "scrapbook": {
       "data": true,
       "display": false,
       "name": "ABC Pre-generator MSE"
      }
     },
     "output_type": "display_data"
    }
   ],
   "source": [
    "y_pred = prior_model.predict(X_test)\n",
    "y_abc = y_pred + np.random.normal(0,variance, y_pred.shape)\n",
    "mse = mean_squared_error(y_pred,Y_test)\n",
    "sb.glue(\"Prior Model MSE\",mse)\n",
    "mse = mean_squared_error(y_abc,Y_test)\n",
    "sb.glue(\"ABC Pre-generator MSE\",mse)"
   ]
  },
  {
   "cell_type": "markdown",
   "id": "0cd0def6",
   "metadata": {
    "papermill": {
     "duration": 0.029867,
     "end_time": "2022-01-14T10:25:03.734314",
     "exception": false,
     "start_time": "2022-01-14T10:25:03.704447",
     "status": "completed"
    },
    "tags": []
   },
   "source": [
    "# ABC GAN Model"
   ]
  },
  {
   "cell_type": "markdown",
   "id": "70beaf4c",
   "metadata": {
    "papermill": {
     "duration": 0.031266,
     "end_time": "2022-01-14T10:25:03.796099",
     "exception": false,
     "start_time": "2022-01-14T10:25:03.764833",
     "status": "completed"
    },
    "tags": []
   },
   "source": [
    "### Training the network\n",
    "**Training ABC-GAN for n_epochs number of epochs** "
   ]
  },
  {
   "cell_type": "code",
   "execution_count": 11,
   "id": "dbaaafa1",
   "metadata": {
    "execution": {
     "iopub.execute_input": "2022-01-14T10:25:03.864181Z",
     "iopub.status.busy": "2022-01-14T10:25:03.863548Z",
     "iopub.status.idle": "2022-01-14T10:25:06.950780Z",
     "shell.execute_reply": "2022-01-14T10:25:06.950205Z"
    },
    "papermill": {
     "duration": 3.124309,
     "end_time": "2022-01-14T10:25:06.950922",
     "exception": false,
     "start_time": "2022-01-14T10:25:03.826613",
     "status": "completed"
    },
    "tags": []
   },
   "outputs": [],
   "source": [
    "gen = network.Generator(n_features+1).to(device)\n",
    "disc = network.Discriminator(n_features+1).to(device)\n",
    "\n",
    "criterion = torch.nn.BCELoss()\n",
    "gen_opt = torch.optim.Adam(gen.parameters(), lr=0.001, betas=(0.5, 0.999))\n",
    "disc_opt = torch.optim.Adam(disc.parameters(), lr=0.01, betas=(0.5, 0.999))"
   ]
  },
  {
   "cell_type": "code",
   "execution_count": 12,
   "id": "6e9eeab8",
   "metadata": {
    "execution": {
     "iopub.execute_input": "2022-01-14T10:25:07.017614Z",
     "iopub.status.busy": "2022-01-14T10:25:07.016999Z",
     "iopub.status.idle": "2022-01-14T10:30:40.468154Z",
     "shell.execute_reply": "2022-01-14T10:30:40.467672Z"
    },
    "papermill": {
     "duration": 333.485979,
     "end_time": "2022-01-14T10:30:40.468311",
     "exception": false,
     "start_time": "2022-01-14T10:25:06.982332",
     "status": "completed"
    },
    "tags": []
   },
   "outputs": [
    {
     "data": {
      "image/png": "[encoded data removed]",
      "text/plain": [
       "<Figure size 432x288 with 1 Axes>"
      ]
     },
     "metadata": {
      "needs_background": "light"
     },
     "output_type": "display_data"
    },
    {
     "data": {
      "image/png": "[encoded data removed]",
      "text/plain": [
       "<Figure size 432x288 with 1 Axes>"
      ]
     },
     "metadata": {
      "needs_background": "light"
     },
     "output_type": "display_data"
    }
   ],
   "source": [
    "#Training the ABC_GAN \n",
    "ABC_train_test2.training_GAN(disc,gen,disc_opt,gen_opt,train_data,batch_size,n_epochs,criterion,prior_model,variance,device)"
   ]
  },
  {
   "cell_type": "code",
   "execution_count": 13,
   "id": "11c3082e",
   "metadata": {
    "execution": {
     "iopub.execute_input": "2022-01-14T10:30:40.538909Z",
     "iopub.status.busy": "2022-01-14T10:30:40.538226Z",
     "iopub.status.idle": "2022-01-14T10:30:40.928536Z",
     "shell.execute_reply": "2022-01-14T10:30:40.928013Z"
    },
    "papermill": {
     "duration": 0.427186,
     "end_time": "2022-01-14T10:30:40.928677",
     "exception": false,
     "start_time": "2022-01-14T10:30:40.501491",
     "status": "completed"
    },
    "tags": []
   },
   "outputs": [
    {
     "data": {
      "application/scrapbook.scrap.json+json": {
       "data": 0.2844925442177103,
       "encoder": "json",
       "name": "ABC-GAN Model 1 MSE",
       "version": 1
      }
     },
     "metadata": {
      "scrapbook": {
       "data": true,
       "display": false,
       "name": "ABC-GAN Model 1 MSE"
      }
     },
     "output_type": "display_data"
    },
    {
     "data": {
      "application/scrapbook.scrap.json+json": {
       "data": 0.2911768297631951,
       "encoder": "json",
       "name": "ABC-GAN Model 1 MAE",
       "version": 1
      }
     },
     "metadata": {
      "scrapbook": {
       "data": true,
       "display": false,
       "name": "ABC-GAN Model 1 MAE"
      }
     },
     "output_type": "display_data"
    },
    {
     "data": {
      "application/scrapbook.scrap.json+json": {
       "data": 29.7000366358459,
       "encoder": "json",
       "name": "ABC-GAN Model 1 Manhattan Distance",
       "version": 1
      }
     },
     "metadata": {
      "scrapbook": {
       "data": true,
       "display": false,
       "name": "ABC-GAN Model 1 Manhattan Distance"
      }
     },
     "output_type": "display_data"
    },
    {
     "data": {
      "application/scrapbook.scrap.json+json": {
       "data": 5.386835178762257,
       "encoder": "json",
       "name": "ABC-GAN Model 1 Euclidean distance",
       "version": 1
      }
     },
     "metadata": {
      "scrapbook": {
       "data": true,
       "display": false,
       "name": "ABC-GAN Model 1 Euclidean distance"
      }
     },
     "output_type": "display_data"
    },
    {
     "data": {
      "application/scrapbook.scrap.json+json": {
       "data": [
        [
         0.2843166729085007,
         0.2854221667451072,
         0.28349732704542313,
         0.2834577441049755,
         0.2841013831225647,
         0.2850618193082723,
         0.28573635056473295,
         0.2832169810093914,
         0.28070323359261007,
         0.2867355467649873,
         0.285322452419914,
         0.2839521502855988,
         0.2838960737045329,
         0.2829788613607449,
         0.2843692667274488,
         0.28252474384075105,
         0.2825912464943608,
         0.28251782446217455,
         0.28603118310408737,
         0.2847133401894053,
         0.2854765018737504,
         0.2859283024596355,
         0.28456223909421474,
         0.2851090710730774,
         0.2819819622120554,
         0.28516479025648056,
         0.2846148269232929,
         0.2856300599733275,
         0.28573380977855206,
         0.2870174177818021,
         0.28349745130272064,
         0.2841860501930516,
         0.28551666572518775,
         0.28307119494131977,
         0.2853142082938229,
         0.28460021428125226,
         0.2816645154965069,
         0.2851043597342242,
         0.28482975378507086,
         0.2821693065548891,
         0.2835530835402357,
         0.28741765799172164,
         0.2861888181251601,
         0.2874734511205508,
         0.2860741416136023,
         0.28595902926139494,
         0.2856871667601282,
         0.28673562135192615,
         0.2833928051619287,
         0.28325483916519295,
         0.286323591932352,
         0.28642148312675947,
         0.28685138682371764,
         0.2865364472889151,
         0.2842887293713629,
         0.28127407985429165,
         0.2842996157031439,
         0.2859159725205729,
         0.2819226416707161,
         0.2812693099893121,
         0.2860444130241914,
         0.28208185381136447,
         0.28475684712140714,
         0.28492348743114043,
         0.28098484074703134,
         0.28269771642989583,
         0.2830838187559323,
         0.2838888161674091,
         0.28530570431599656,
         0.2874816738449715,
         0.28508481481025266,
         0.2830723602196463,
         0.28683564813613677,
         0.28298904337822306,
         0.28381633359248143,
         0.28367439256924637,
         0.2848589618867959,
         0.2828692766094914,
         0.284806270476779,
         0.28235185166242865,
         0.28471089359064095,
         0.2823851263668941,
         0.28727524934219895,
         0.28685344162151877,
         0.28434907149194405,
         0.2853744849524783,
         0.2839433708229311,
         0.28846608621863906,
         0.2836400143632652,
         0.28470723404960613,
         0.2829799403128219,
         0.2861847791943407,
         0.28215992172709736,
         0.28316070924616205,
         0.2845246827733397,
         0.28648302975187334,
         0.2848196540106219,
         0.28351051943423083,
         0.2859445176567464,
         0.28301462799005256
        ],
        [
         0.2886600186865704,
         0.29130638230080697,
         0.2911801038711679,
         0.2911668008595121,
         0.2917158191694933,
         0.29152002813769323,
         0.29362734085788916,
         0.2891300500315778,
         0.28754816576838493,
         0.29465899178210425,
         0.29241810658690975,
         0.2928529654939969,
         0.29072248234468345,
         0.29050639710005594,
         0.2925534559523358,
         0.2882515826792109,
         0.28840776080009983,
         0.29046717497940155,
         0.2930033557555255,
         0.2918964620022213,
         0.291391016148469,
         0.2957993148296487,
         0.29249027400624517,
         0.2910837851756928,
         0.2866772652841082,
         0.29170119682071255,
         0.28886497758475005,
         0.2964888808920103,
         0.2928304399053256,
         0.2956712980042486,
         0.29018109598580527,
         0.2902022429248866,
         0.291969122036415,
         0.28974633218318807,
         0.292517787904716,
         0.2912731276569413,
         0.28865105907122296,
         0.2929674879300828,
         0.29251762399194287,
         0.29027345170285185,
         0.2899884318604189,
         0.29255327151394356,
         0.29248376117617475,
         0.29343558767554806,
         0.2925972297933756,
         0.29086479814905747,
         0.2933574451097086,
         0.2950831439857389,
         0.28816553358646,
         0.2910188542423295,
         0.29563019651116107,
         0.29411658235624727,
         0.29271664433911737,
         0.2928568299348448,
         0.2891525806603478,
         0.28608973375430297,
         0.29249857110427874,
         0.29440947030397024,
         0.2875407404613261,
         0.2879784161991933,
         0.29529281172390076,
         0.2872266224494167,
         0.29394156449273523,
         0.28985001358623597,
         0.2864065070216562,
         0.28880368260776296,
         0.2895565790434678,
         0.2912560832120624,
         0.29395122512006294,
         0.2961064944518547,
         0.2896612309942059,
         0.29080714643293737,
         0.2941607043293177,
         0.2901230973063731,
         0.2884557442922218,
         0.28866008712964897,
         0.28988077652220634,
         0.2889816690893734,
         0.29147042845394094,
         0.28879454490893025,
         0.2938794557954751,
         0.2887930951136,
         0.2920844709756328,
         0.2922311694014306,
         0.2897039074815956,
         0.29266028288824886,
         0.2909780860531564,
         0.2931583809355895,
         0.29017116122093856,
         0.2924738831672014,
         0.28654733139510247,
         0.2906554004579198,
         0.28698370474226337,
         0.2902278822718882,
         0.2909533025733396,
         0.29317838209224684,
         0.2914845288238105,
         0.2896283458114839,
         0.2909858275716211,
         0.29008831646220357
        ],
        [
         29.443321906030178,
         29.713250994682312,
         29.700370594859123,
         29.69901368767023,
         29.755013555288315,
         29.73504287004471,
         29.949988767504692,
         29.49126510322094,
         29.329912908375263,
         30.055217161774635,
         29.826646871864796,
         29.871002480387688,
         29.653693199157715,
         29.631652504205704,
         29.840452507138252,
         29.401661433279514,
         29.417591601610184,
         29.62765184789896,
         29.8863422870636,
         29.77343912422657,
         29.72188364714384,
         30.17153011262417,
         29.83400794863701,
         29.690546087920666,
         29.241081058979034,
         29.75352207571268,
         29.464227713644505,
         30.24186585098505,
         29.86870487034321,
         30.158472396433353,
         29.59847179055214,
         29.600628778338432,
         29.78085044771433,
         29.554125882685184,
         29.836814366281033,
         29.709859021008015,
         29.44240802526474,
         29.882683768868446,
         29.836797647178173,
         29.60789207369089,
         29.578820049762726,
         29.840433694422245,
         29.833343639969826,
         29.930429942905903,
         29.844917438924313,
         29.66820941120386,
         29.92245940119028,
         30.098480686545372,
         29.39288442581892,
         29.68392313271761,
         30.15428004413843,
         29.99989140033722,
         29.85709772258997,
         29.871396653354168,
         29.49356322735548,
         29.1811528429389,
         29.834854252636433,
         30.029765971004963,
         29.329155527055264,
         29.373798452317715,
         30.11986679583788,
         29.297115489840508,
         29.98203957825899,
         29.56470138579607,
         29.213463716208935,
         29.45797562599182,
         29.53477106243372,
         29.708120487630367,
         29.983024962246418,
         30.202862434089184,
         29.545445561408997,
         29.66232893615961,
         30.004391841590405,
         29.592555925250053,
         29.422485917806625,
         29.443328887224197,
         29.567839205265045,
         29.47613024711609,
         29.72998370230198,
         29.457043580710888,
         29.97570449113846,
         29.4568957015872,
         29.79261603951454,
         29.807579278945923,
         29.54979856312275,
         29.851348854601383,
         29.67976477742195,
         29.902154855430126,
         29.597458444535732,
         29.832336083054543,
         29.227827802300453,
         29.64685084670782,
         29.27233788371086,
         29.603243991732597,
         29.67723686248064,
         29.904194973409176,
         29.731421940028667,
         29.54209127277136,
         29.680554412305355,
         29.589008279144764
        ],
        [
         5.385192720475941,
         5.395652046602053,
         5.377427578185796,
         5.377052156963655,
         5.383153451138245,
         5.392244947092424,
         5.398620912566723,
         5.374768093876974,
         5.350862531073492,
         5.408051938547623,
         5.394709458982126,
         5.381739433411011,
         5.381207998011447,
         5.3725081534415535,
         5.385690782638729,
         5.368195588068359,
         5.3688273526371475,
         5.368129850808548,
         5.401405435311898,
         5.3889480141600306,
         5.396165600787519,
         5.400433950237964,
         5.387517831767232,
         5.392691837056322,
         5.363036466930805,
         5.393218761200125,
         5.388015622302507,
         5.397616707147647,
         5.398596910069533,
         5.410709437194333,
         5.377428756652895,
         5.383955527276508,
         5.396545182241056,
         5.373384583669273,
         5.394631520870534,
         5.3878773052741025,
         5.36001684518283,
         5.392647280593351,
         5.390049618146128,
         5.364817729298796,
         5.377956351729162,
         5.414480687485699,
         5.402893618124119,
         5.415006187835447,
         5.401811033772602,
         5.400724116696045,
         5.398156260199687,
         5.408052641930962,
         5.376436191987842,
         5.375127309641111,
         5.404165650412643,
         5.405089386765908,
         5.409144244334699,
         5.40617402822637,
         5.3849280771314865,
         5.356300602574294,
         5.385031179270986,
         5.400317508915419,
         5.362472326307431,
         5.356255186126761,
         5.401530350601348,
         5.363986305795268,
         5.389359739930479,
         5.390936441656155,
         5.353545904930412,
         5.369838645234079,
         5.373504397793408,
         5.381139214801613,
         5.39455112499934,
         5.415083631135081,
         5.392462434792269,
         5.373395643576223,
         5.408995850422326,
         5.3726048081520705,
         5.38045221393454,
         5.379106621183775,
         5.390325974600532,
         5.3714677895495315,
         5.389827417332715,
         5.366552792022801,
         5.388924859955404,
         5.366869002446696,
         5.413139147750064,
         5.409163617916813,
         5.385499539706441,
         5.395201336850442,
         5.381656234277601,
         5.424347038520046,
         5.37878066712643,
         5.388890226480757,
         5.372518395678868,
         5.40285549296136,
         5.364728512810683,
         5.374234116886659,
         5.387162299660244,
         5.405670081931664,
         5.389954054450134,
         5.3775526945155585,
         5.400587079289448,
         5.372847667204547
        ]
       ],
       "encoder": "json",
       "name": "ABC_GAN_1 Metrics",
       "version": 1
      }
     },
     "metadata": {
      "scrapbook": {
       "data": true,
       "display": false,
       "name": "ABC_GAN_1 Metrics"
      }
     },
     "output_type": "display_data"
    }
   ],
   "source": [
    "ABC_GAN1_metrics=ABC_train_test2.test_generator(gen,test_data,prior_model,variance,\"1\",device)\n",
    "sb.glue(\"ABC_GAN_1 Metrics\",ABC_GAN1_metrics)"
   ]
  },
  {
   "cell_type": "markdown",
   "id": "394a2b9d",
   "metadata": {
    "papermill": {
     "duration": 0.03501,
     "end_time": "2022-01-14T10:30:40.999800",
     "exception": false,
     "start_time": "2022-01-14T10:30:40.964790",
     "status": "completed"
    },
    "tags": []
   },
   "source": [
    "#### Sanity Checks "
   ]
  },
  {
   "cell_type": "code",
   "execution_count": 14,
   "id": "a36b3b22",
   "metadata": {
    "execution": {
     "iopub.execute_input": "2022-01-14T10:30:41.079235Z",
     "iopub.status.busy": "2022-01-14T10:30:41.078666Z",
     "iopub.status.idle": "2022-01-14T10:30:41.836274Z",
     "shell.execute_reply": "2022-01-14T10:30:41.836750Z"
    },
    "papermill": {
     "duration": 0.798858,
     "end_time": "2022-01-14T10:30:41.836919",
     "exception": false,
     "start_time": "2022-01-14T10:30:41.038061",
     "status": "completed"
    },
    "tags": []
   },
   "outputs": [
    {
     "data": {
      "image/png": "[encoded data removed]",
      "text/plain": [
       "<Figure size 432x288 with 1 Axes>"
      ]
     },
     "metadata": {
      "needs_background": "light"
     },
     "output_type": "display_data"
    },
    {
     "data": {
      "image/png": "[encoded data removed]",
      "text/plain": [
       "<Figure size 432x288 with 1 Axes>"
      ]
     },
     "metadata": {
      "needs_background": "light"
     },
     "output_type": "display_data"
    },
    {
     "data": {
      "image/png": "[encoded data removed]",
      "text/plain": [
       "<Figure size 432x288 with 1 Axes>"
      ]
     },
     "metadata": {
      "needs_background": "light"
     },
     "output_type": "display_data"
    },
    {
     "data": {
      "image/png": "[encoded data removed]",
      "text/plain": [
       "<Figure size 432x288 with 1 Axes>"
      ]
     },
     "metadata": {
      "needs_background": "light"
     },
     "output_type": "display_data"
    }
   ],
   "source": [
    "sanityChecks.discProbVsError(train_data,disc,device)\n",
    "sanityChecks.discProbVsError(test_data,disc,device)"
   ]
  },
  {
   "cell_type": "markdown",
   "id": "130f3a4d",
   "metadata": {
    "papermill": {
     "duration": 0.039633,
     "end_time": "2022-01-14T10:30:41.917056",
     "exception": false,
     "start_time": "2022-01-14T10:30:41.877423",
     "status": "completed"
    },
    "tags": []
   },
   "source": [
    "# ABC - GAN Model with skip connection"
   ]
  },
  {
   "cell_type": "code",
   "execution_count": 15,
   "id": "4e43dad1",
   "metadata": {
    "execution": {
     "iopub.execute_input": "2022-01-14T10:30:42.024238Z",
     "iopub.status.busy": "2022-01-14T10:30:42.023614Z",
     "iopub.status.idle": "2022-01-14T10:30:42.028885Z",
     "shell.execute_reply": "2022-01-14T10:30:42.028413Z"
    },
    "papermill": {
     "duration": 0.054752,
     "end_time": "2022-01-14T10:30:42.029012",
     "exception": false,
     "start_time": "2022-01-14T10:30:41.974260",
     "status": "completed"
    },
    "tags": []
   },
   "outputs": [],
   "source": [
    "#Generator\n",
    "gen3 = network.GeneratorWithSkipConnection(n_features+1).to(device)\n",
    "constraints=network.weightConstraint()\n",
    "#Discriminator \n",
    "disc3 = network.Discriminator(n_features+1).to(device)\n",
    "\n",
    "criterion = torch.nn.BCELoss()\n",
    "gen_opt = torch.optim.Adam(gen3.parameters(), lr=0.01, betas=(0.5, 0.999))\n",
    "disc_opt = torch.optim.Adam(disc3.parameters(), lr=0.01, betas=(0.5, 0.999))\n"
   ]
  },
  {
   "cell_type": "code",
   "execution_count": 16,
   "id": "26acbc37",
   "metadata": {
    "execution": {
     "iopub.execute_input": "2022-01-14T10:30:42.110974Z",
     "iopub.status.busy": "2022-01-14T10:30:42.110427Z",
     "iopub.status.idle": "2022-01-14T11:07:28.302775Z",
     "shell.execute_reply": "2022-01-14T11:07:28.302211Z"
    },
    "papermill": {
     "duration": 2206.235164,
     "end_time": "2022-01-14T11:07:28.302912",
     "exception": false,
     "start_time": "2022-01-14T10:30:42.067748",
     "status": "completed"
    },
    "tags": []
   },
   "outputs": [
    {
     "data": {
      "image/png": "[encoded data removed]",
      "text/plain": [
       "<Figure size 432x288 with 1 Axes>"
      ]
     },
     "metadata": {
      "needs_background": "light"
     },
     "output_type": "display_data"
    },
    {
     "data": {
      "image/png": "[encoded data removed]",
      "text/plain": [
       "<Figure size 432x288 with 1 Axes>"
      ]
     },
     "metadata": {
      "needs_background": "light"
     },
     "output_type": "display_data"
    }
   ],
   "source": [
    "ABC_train_test2.training_GAN_skip_connection(disc3,gen3,disc_opt,gen_opt,train_data,batch_size,n_epochs,criterion,prior_model,variance,device)\n"
   ]
  },
  {
   "cell_type": "code",
   "execution_count": 17,
   "id": "c5e0717b",
   "metadata": {
    "execution": {
     "iopub.execute_input": "2022-01-14T11:07:28.392863Z",
     "iopub.status.busy": "2022-01-14T11:07:28.392189Z",
     "iopub.status.idle": "2022-01-14T11:07:30.494702Z",
     "shell.execute_reply": "2022-01-14T11:07:30.494124Z"
    },
    "papermill": {
     "duration": 2.148622,
     "end_time": "2022-01-14T11:07:30.494871",
     "exception": false,
     "start_time": "2022-01-14T11:07:28.346249",
     "status": "completed"
    },
    "tags": []
   },
   "outputs": [
    {
     "data": {
      "application/scrapbook.scrap.json+json": {
       "data": 0.3287209998997461,
       "encoder": "json",
       "name": "ABC-GAN Model 3 MSE",
       "version": 1
      }
     },
     "metadata": {
      "scrapbook": {
       "data": true,
       "display": false,
       "name": "ABC-GAN Model 3 MSE"
      }
     },
     "output_type": "display_data"
    },
    {
     "data": {
      "application/scrapbook.scrap.json+json": {
       "data": 0.32165520745283904,
       "encoder": "json",
       "name": "ABC-GAN Model 3 MAE",
       "version": 1
      }
     },
     "metadata": {
      "scrapbook": {
       "data": true,
       "display": false,
       "name": "ABC-GAN Model 3 MAE"
      }
     },
     "output_type": "display_data"
    },
    {
     "data": {
      "application/scrapbook.scrap.json+json": {
       "data": 32.808831160189584,
       "encoder": "json",
       "name": "ABC-GAN Model 3 Manhattan Distance",
       "version": 1
      }
     },
     "metadata": {
      "scrapbook": {
       "data": true,
       "display": false,
       "name": "ABC-GAN Model 3 Manhattan Distance"
      }
     },
     "output_type": "display_data"
    },
    {
     "data": {
      "application/scrapbook.scrap.json+json": {
       "data": 5.790456590046861,
       "encoder": "json",
       "name": "ABC-GAN Model 3 Euclidean distance",
       "version": 1
      }
     },
     "metadata": {
      "scrapbook": {
       "data": true,
       "display": false,
       "name": "ABC-GAN Model 3 Euclidean distance"
      }
     },
     "output_type": "display_data"
    },
    {
     "data": {
      "application/scrapbook.scrap.json+json": {
       "data": [
        [
         0.3301090542563583,
         0.32842321658724316,
         0.32780895848537134,
         0.3277632482266212,
         0.32962442949952964,
         0.3290421665843092,
         0.3267573288816235,
         0.32990133938185395,
         0.32634282577547413,
         0.32794401819624874,
         0.32786829393362166,
         0.32736754768584914,
         0.3311081661668198,
         0.32733262016718867,
         0.32845126894332316,
         0.33003450476085516,
         0.3285331286235145,
         0.33307966547436374,
         0.32878552264979505,
         0.3285417591080474,
         0.3254152787589073,
         0.32844706644996186,
         0.3278100708834097,
         0.32790059628191787,
         0.3297337567767849,
         0.3286657924057412,
         0.32919661994920063,
         0.3289849840144342,
         0.32744211631817893,
         0.3279898308386973,
         0.32599444445290704,
         0.32676719763790774,
         0.32751773311674165,
         0.32722453408740926,
         0.3303691083466059,
         0.3306339298563872,
         0.32904515965578485,
         0.33011174607451027,
         0.3272705682080261,
         0.331204735735552,
         0.3306637935014403,
         0.32755187763885474,
         0.3311795592461884,
         0.3329377335326745,
         0.3293038940963361,
         0.3261066036607162,
         0.32915369680445755,
         0.32659159665875653,
         0.3288247579152365,
         0.3299702103607565,
         0.327664290609134,
         0.3273712685173667,
         0.32816970812909496,
         0.32850182517181126,
         0.32911966421660627,
         0.3267090909864672,
         0.32942201272428423,
         0.32896079917602306,
         0.32956122046005054,
         0.33005090482796434,
         0.32849344518837303,
         0.32844676049203086,
         0.32736542458098056,
         0.32970727717927245,
         0.32918608444706193,
         0.3270771170552965,
         0.32958177984285625,
         0.3276672322657943,
         0.32779486711608363,
         0.32879178756624994,
         0.3295413447621142,
         0.33005018830068794,
         0.32918333604622774,
         0.3282577059943169,
         0.32629862680449123,
         0.3287683515556533,
         0.3296850523351141,
         0.3273167490927561,
         0.32847088198205415,
         0.32637522480226283,
         0.3280681657773369,
         0.3299414620118546,
         0.33006315839487604,
         0.3285552462205469,
         0.32637745068883633,
         0.3298170625382353,
         0.32780216085694724,
         0.3276490416371136,
         0.3289730576023569,
         0.32932313001225694,
         0.32850257125163573,
         0.329968294934466,
         0.3300655054838345,
         0.3300211191676027,
         0.329912686707773,
         0.3290210566313351,
         0.3295552400315611,
         0.3297196326680731,
         0.32982533103674694,
         0.33052053744024573
        ],
        [
         0.32482987857770684,
         0.32189557847439076,
         0.3194829557437961,
         0.3197495919086185,
         0.32300841101609606,
         0.3211178214051852,
         0.3194297215097821,
         0.3226300834075493,
         0.3207931342425154,
         0.32127716118360267,
         0.32161418821516574,
         0.3218095015241381,
         0.3223778279680832,
         0.3207857652074274,
         0.3222671590343702,
         0.32274723898473323,
         0.31982042387529624,
         0.32605893079045356,
         0.32106780414195624,
         0.32165620546313184,
         0.316568482283722,
         0.3228776493456726,
         0.32035737643566203,
         0.32221581684608086,
         0.32207507630992754,
         0.32131783972841266,
         0.32108719354751064,
         0.3233316484747418,
         0.3217033298649624,
         0.32046621482746274,
         0.31789485823509156,
         0.318361690126396,
         0.3189946644592519,
         0.3203242712234165,
         0.3244680566165377,
         0.3230819327610673,
         0.3214172620289758,
         0.3241370876009266,
         0.3205967143168856,
         0.32504372954295546,
         0.3231668440880729,
         0.3221550474454667,
         0.32342547309749264,
         0.32530153995635464,
         0.321015216364507,
         0.31857929521185513,
         0.3229853837002142,
         0.3194661935627022,
         0.3205952019448958,
         0.32214036740947005,
         0.3199526094101077,
         0.3188592244816177,
         0.3203350524235444,
         0.32241994913156125,
         0.3211705173530123,
         0.31965168065154087,
         0.32106336277416525,
         0.32042164112642113,
         0.32279202166725607,
         0.3247504131594563,
         0.32047988446064146,
         0.3223186356618124,
         0.3189439150395201,
         0.3214978672673597,
         0.32142042746657834,
         0.31906626034783675,
         0.32345844896546766,
         0.32044266093997104,
         0.3225137876967589,
         0.3226342870050347,
         0.3213313278541261,
         0.32471436240217266,
         0.32079155509378393,
         0.3214224391781232,
         0.3191773300972201,
         0.3212584074878809,
         0.32461212639349935,
         0.32086243290527194,
         0.32070844079933913,
         0.31906030567216814,
         0.3212690226295415,
         0.3225412867853747,
         0.32217840401127057,
         0.32207704963637335,
         0.31930609956821976,
         0.3240436155385539,
         0.3191445873064153,
         0.32133212261924554,
         0.32247878152731,
         0.3215712667899389,
         0.32150747621541514,
         0.322725405624392,
         0.3238208158051266,
         0.32189660753105204,
         0.32505039410556064,
         0.32451668414561186,
         0.322083368568736,
         0.3228325778801067,
         0.32369670733882516,
         0.32374625671289714
        ],
        [
         33.1326476149261,
         32.833349004387856,
         32.5872614858672,
         32.61445837467909,
         32.9468579236418,
         32.75401778332889,
         32.58183159399778,
         32.90826850757003,
         32.720899692736566,
         32.77027044072747,
         32.804647197946906,
         32.824569155462086,
         32.882538452744484,
         32.720148051157594,
         32.87125022150576,
         32.92021837644279,
         32.621683235280216,
         33.258010940626264,
         32.748916022479534,
         32.80893295723945,
         32.28998519293964,
         32.933520233258605,
         32.676452396437526,
         32.86601331830025,
         32.85165778361261,
         32.77441965229809,
         32.750893741846085,
         32.979828144423664,
         32.81373964622617,
         32.6875539124012,
         32.42527553997934,
         32.47289239289239,
         32.53745577484369,
         32.673075664788485,
         33.09574177488685,
         32.95435714162886,
         32.78456072695553,
         33.06198293529451,
         32.700864860322326,
         33.15446041338146,
         32.96301809698343,
         32.859814839437604,
         32.98939825594425,
         33.18075707554817,
         32.743552069179714,
         32.49508811160922,
         32.944509137421846,
         32.58555174339563,
         32.70071059837937,
         32.85831747576594,
         32.63516615983099,
         32.523640897125006,
         32.674175347201526,
         32.88683481141925,
         32.75939277000725,
         32.60447142645717,
         32.748463002964854,
         32.68300739489496,
         32.92478621006012,
         33.124542142264545,
         32.68894821498543,
         32.876500837504864,
         32.532279334031045,
         32.79278246127069,
         32.78488360159099,
         32.54475855547935,
         32.9927617944777,
         32.685151415877044,
         32.89640634506941,
         32.90869727451354,
         32.77579544112086,
         33.12086496502161,
         32.720738619565964,
         32.785088796168566,
         32.55608766991645,
         32.76835756376386,
         33.11043689213693,
         32.72796815633774,
         32.71226096153259,
         32.54415117856115,
         32.769440308213234,
         32.899211252108216,
         32.8621972091496,
         32.85185906291008,
         32.569222155958414,
         33.052448784932494,
         32.552747905254364,
         32.77587650716305,
         32.89283571578562,
         32.80026921257377,
         32.793762573972344,
         32.91799137368798,
         33.02972321212292,
         32.833453968167305,
         33.155140198767185,
         33.10070178285241,
         32.85250359401107,
         32.928922943770885,
         33.017064148560166,
         33.02211818471551
        ],
        [
         5.802682442986909,
         5.787846585034782,
         5.782431475210741,
         5.782028304938963,
         5.798421492867867,
         5.793297937410047,
         5.7731488414837875,
         5.800856541662541,
         5.769485958826691,
         5.783622554767674,
         5.7829547794556895,
         5.7785370003104255,
         5.811457041828289,
         5.778228730074055,
         5.788093764981608,
         5.80202718759635,
         5.788815001327861,
         5.828732784952927,
         5.791038189330052,
         5.7888910362020845,
         5.761280971572949,
         5.788056735891252,
         5.782441286351966,
         5.783239647529369,
         5.799383000908981,
         5.789983663654467,
         5.794657473467993,
         5.792794521599423,
         5.7791950879386516,
         5.78402651667047,
         5.766405581833149,
         5.77323602142391,
         5.779862349390998,
         5.777274658255027,
         5.804967618458676,
         5.807293762618824,
         5.793324286184059,
         5.802706101432333,
         5.777681018991847,
         5.812304452196761,
         5.807556021008054,
         5.780163623909204,
         5.812083537175909,
         5.827490782518047,
         5.795601538910888,
         5.7673974696905566,
         5.79427968552215,
         5.771684577243734,
         5.7913837126678205,
         5.801462010286472,
         5.781155389896699,
         5.778569839395503,
         5.785612346948911,
         5.788539208429425,
         5.793980130281242,
         5.772722692163522,
         5.796640863282545,
         5.792581593379099,
         5.797865511283022,
         5.802171342907099,
         5.788465376005463,
         5.788054040019594,
         5.778518262258933,
         5.7991501336218025,
         5.79456474755441,
         5.775973159532534,
         5.798046355797038,
         5.781181340445135,
         5.782307190546047,
         5.791093362376184,
         5.79769067523748,
         5.802165044763045,
         5.794540557862653,
         5.786387993508585,
         5.769095243975271,
         5.790886966491111,
         5.798954676334489,
         5.778088646556155,
         5.788266576633242,
         5.769772346447543,
         5.7847171849009476,
         5.801209281279995,
         5.802279048466847,
         5.789009856140839,
         5.769792021404351,
         5.800115548754178,
         5.782371521046413,
         5.781020865468795,
         5.792689520027842,
         5.7957708082057735,
         5.788545781771692,
         5.801445171964958,
         5.802299678519812,
         5.801909526620995,
         5.800956304282325,
         5.793112097689476,
         5.7978129051582235,
         5.799258791616689,
         5.800188252612855,
         5.8062978582660625
        ]
       ],
       "encoder": "json",
       "name": "ABC_GAN_3 Metrics",
       "version": 1
      }
     },
     "metadata": {
      "scrapbook": {
       "data": true,
       "display": false,
       "name": "ABC_GAN_3 Metrics"
      }
     },
     "output_type": "display_data"
    }
   ],
   "source": [
    "ABC_GAN3_metrics=ABC_train_test2.test_generator(gen3,test_data,prior_model,variance,\"3\",device)\n",
    "sb.glue(\"ABC_GAN_3 Metrics\",ABC_GAN3_metrics)"
   ]
  },
  {
   "cell_type": "code",
   "execution_count": 18,
   "id": "c8e46b48",
   "metadata": {
    "execution": {
     "iopub.execute_input": "2022-01-14T11:07:30.593207Z",
     "iopub.status.busy": "2022-01-14T11:07:30.592627Z",
     "iopub.status.idle": "2022-01-14T11:07:31.426537Z",
     "shell.execute_reply": "2022-01-14T11:07:31.425924Z"
    },
    "papermill": {
     "duration": 0.884059,
     "end_time": "2022-01-14T11:07:31.426712",
     "exception": false,
     "start_time": "2022-01-14T11:07:30.542653",
     "status": "completed"
    },
    "tags": []
   },
   "outputs": [
    {
     "data": {
      "image/png": "[encoded data removed]",
      "text/plain": [
       "<Figure size 432x288 with 1 Axes>"
      ]
     },
     "metadata": {
      "needs_background": "light"
     },
     "output_type": "display_data"
    },
    {
     "data": {
      "image/png": "[encoded data removed]",
      "text/plain": [
       "<Figure size 432x288 with 1 Axes>"
      ]
     },
     "metadata": {
      "needs_background": "light"
     },
     "output_type": "display_data"
    },
    {
     "data": {
      "image/png": "[encoded data removed]",
      "text/plain": [
       "<Figure size 432x288 with 1 Axes>"
      ]
     },
     "metadata": {
      "needs_background": "light"
     },
     "output_type": "display_data"
    },
    {
     "data": {
      "image/png": "[encoded data removed]",
      "text/plain": [
       "<Figure size 432x288 with 1 Axes>"
      ]
     },
     "metadata": {
      "needs_background": "light"
     },
     "output_type": "display_data"
    }
   ],
   "source": [
    "sanityChecks.discProbVsError(train_data,disc,device)\n",
    "sanityChecks.discProbVsError(test_data,disc3,device)"
   ]
  },
  {
   "cell_type": "markdown",
   "id": "a5bd74c3",
   "metadata": {
    "papermill": {
     "duration": 0.051311,
     "end_time": "2022-01-14T11:07:31.531481",
     "exception": false,
     "start_time": "2022-01-14T11:07:31.480170",
     "status": "completed"
    },
    "tags": []
   },
   "source": [
    "## Skip Connection Model Analysis - ABC-GAN "
   ]
  },
  {
   "cell_type": "markdown",
   "id": "5744a8bf",
   "metadata": {
    "papermill": {
     "duration": 0.050275,
     "end_time": "2022-01-14T11:07:31.632514",
     "exception": false,
     "start_time": "2022-01-14T11:07:31.582239",
     "status": "completed"
    },
    "tags": []
   },
   "source": [
    "### Weight Analysis \n",
    "\n",
    "Study the weights of the skip connection layer\n",
    "\n",
    "Equation of the skip connection is \n",
    "\n",
    "$output = y_{gan} * w + y_{abc} * (1-w)$"
   ]
  },
  {
   "cell_type": "code",
   "execution_count": 19,
   "id": "52c31dea",
   "metadata": {
    "execution": {
     "iopub.execute_input": "2022-01-14T11:07:31.737574Z",
     "iopub.status.busy": "2022-01-14T11:07:31.736936Z",
     "iopub.status.idle": "2022-01-14T11:07:31.746476Z",
     "shell.execute_reply": "2022-01-14T11:07:31.745886Z"
    },
    "papermill": {
     "duration": 0.064206,
     "end_time": "2022-01-14T11:07:31.746601",
     "exception": false,
     "start_time": "2022-01-14T11:07:31.682395",
     "status": "completed"
    },
    "tags": []
   },
   "outputs": [
    {
     "name": "stdout",
     "output_type": "stream",
     "text": [
      "Weight of the node at skip connection\n",
      "Parameter containing:\n",
      "tensor([[0.9919]], device='cuda:0', requires_grad=True)\n"
     ]
    },
    {
     "data": {
      "application/scrapbook.scrap.json+json": {
       "data": 0.9919465184211731,
       "encoder": "json",
       "name": "Skip Connection Weight",
       "version": 1
      }
     },
     "metadata": {
      "scrapbook": {
       "data": true,
       "display": false,
       "name": "Skip Connection Weight"
      }
     },
     "output_type": "display_data"
    }
   ],
   "source": [
    "print(\"Weight of the node at skip connection\")\n",
    "for name,param in gen3.named_parameters():\n",
    "    if(name == \"skipNode.weight\"):\n",
    "        print(param)\n",
    "        sb.glue(\"Skip Connection Weight\",param.item())"
   ]
  }
 ],
 "metadata": {
  "interpreter": {
   "hash": "10498c76ddd8160350534c6544a2b2fb65f2138dbc70420f7c81a3268f830f23"
  },
  "kernelspec": {
   "display_name": "papermill-tutorial",
   "language": "python",
   "name": "python3"
  },
  "language_info": {
   "codemirror_mode": {
    "name": "ipython",
    "version": 3
   },
   "file_extension": ".py",
   "mimetype": "text/x-python",
   "name": "python",
   "nbconvert_exporter": "python",
   "pygments_lexer": "ipython3",
   "version": "3.7.12"
  },
  "papermill": {
   "default_parameters": {},
   "duration": 2555.140936,
   "end_time": "2022-01-14T11:07:32.511906",
   "environment_variables": {},
   "exception": null,
   "input_path": "ABC_GAN_Model-Catboost_Pre-gen.ipynb",
   "output_path": "./ABC_GAN_Output/ABC-GAN_output_3_0.ipynb",
   "parameters": {
    "variance": 1
   },
   "start_time": "2022-01-14T10:24:57.370970",
   "version": "2.3.3"
  }
 },
 "nbformat": 4,
 "nbformat_minor": 5
}