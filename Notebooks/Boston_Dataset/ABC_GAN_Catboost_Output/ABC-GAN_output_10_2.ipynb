{
 "cells": [
  {
   "cell_type": "markdown",
   "id": "622780e6",
   "metadata": {
    "papermill": {
     "duration": 0.026332,
     "end_time": "2022-01-15T13:19:26.660856",
     "exception": false,
     "start_time": "2022-01-15T13:19:26.634524",
     "status": "completed"
    },
    "tags": []
   },
   "source": [
    "## Import Libraries "
   ]
  },
  {
   "cell_type": "code",
   "execution_count": 1,
   "id": "a62397e3",
   "metadata": {
    "execution": {
     "iopub.execute_input": "2022-01-15T13:19:26.714986Z",
     "iopub.status.busy": "2022-01-15T13:19:26.714383Z",
     "iopub.status.idle": "2022-01-15T13:19:26.717436Z",
     "shell.execute_reply": "2022-01-15T13:19:26.716766Z"
    },
    "papermill": {
     "duration": 0.032999,
     "end_time": "2022-01-15T13:19:26.717600",
     "exception": false,
     "start_time": "2022-01-15T13:19:26.684601",
     "status": "completed"
    },
    "tags": []
   },
   "outputs": [],
   "source": [
    "import warnings\n",
    "import sys\n",
    "sys.path.insert(0, '../../src')\n",
    "warnings.filterwarnings('ignore')"
   ]
  },
  {
   "cell_type": "code",
   "execution_count": 2,
   "id": "d6a4e155",
   "metadata": {
    "execution": {
     "iopub.execute_input": "2022-01-15T13:19:26.771671Z",
     "iopub.status.busy": "2022-01-15T13:19:26.770983Z",
     "iopub.status.idle": "2022-01-15T13:19:28.455512Z",
     "shell.execute_reply": "2022-01-15T13:19:28.456020Z"
    },
    "papermill": {
     "duration": 1.715207,
     "end_time": "2022-01-15T13:19:28.456250",
     "exception": false,
     "start_time": "2022-01-15T13:19:26.741043",
     "status": "completed"
    },
    "tags": []
   },
   "outputs": [],
   "source": [
    "import ABC_train_test2\n",
    "import bostonDataset\n",
    "import network\n",
    "import dataset\n",
    "import sanityChecks\n",
    "import performanceMetrics\n",
    "import torch \n",
    "from torch.utils.data import random_split \n",
    "import scrapbook as sb\n",
    "from statistics import mean \n",
    "import catboost as ctb \n",
    "from sklearn.model_selection import train_test_split\n",
    "from sklearn.metrics import mean_squared_error\n",
    "import numpy as np"
   ]
  },
  {
   "cell_type": "markdown",
   "id": "2fa5b0f7",
   "metadata": {
    "papermill": {
     "duration": 0.023644,
     "end_time": "2022-01-15T13:19:28.505126",
     "exception": false,
     "start_time": "2022-01-15T13:19:28.481482",
     "status": "completed"
    },
    "tags": []
   },
   "source": [
    "## Parameters "
   ]
  },
  {
   "cell_type": "code",
   "execution_count": 3,
   "id": "783186fb",
   "metadata": {
    "execution": {
     "iopub.execute_input": "2022-01-15T13:19:28.562106Z",
     "iopub.status.busy": "2022-01-15T13:19:28.561509Z",
     "iopub.status.idle": "2022-01-15T13:19:28.564121Z",
     "shell.execute_reply": "2022-01-15T13:19:28.563539Z"
    },
    "papermill": {
     "duration": 0.031143,
     "end_time": "2022-01-15T13:19:28.564292",
     "exception": false,
     "start_time": "2022-01-15T13:19:28.533149",
     "status": "completed"
    },
    "tags": [
     "parameters"
    ]
   },
   "outputs": [],
   "source": [
    "variance = 1"
   ]
  },
  {
   "cell_type": "code",
   "execution_count": 4,
   "id": "68d98370",
   "metadata": {
    "execution": {
     "iopub.execute_input": "2022-01-15T13:19:28.616219Z",
     "iopub.status.busy": "2022-01-15T13:19:28.615511Z",
     "iopub.status.idle": "2022-01-15T13:19:28.618349Z",
     "shell.execute_reply": "2022-01-15T13:19:28.617786Z"
    },
    "papermill": {
     "duration": 0.029943,
     "end_time": "2022-01-15T13:19:28.618480",
     "exception": false,
     "start_time": "2022-01-15T13:19:28.588537",
     "status": "completed"
    },
    "tags": [
     "injected-parameters"
    ]
   },
   "outputs": [],
   "source": [
    "# Parameters\n",
    "variance = 0.01\n"
   ]
  },
  {
   "cell_type": "markdown",
   "id": "391cdbfd",
   "metadata": {
    "papermill": {
     "duration": 0.023785,
     "end_time": "2022-01-15T13:19:28.666010",
     "exception": false,
     "start_time": "2022-01-15T13:19:28.642225",
     "status": "completed"
    },
    "tags": []
   },
   "source": [
    "## Dataset - Boston Housing "
   ]
  },
  {
   "cell_type": "code",
   "execution_count": 5,
   "id": "5b51f161",
   "metadata": {
    "execution": {
     "iopub.execute_input": "2022-01-15T13:19:28.723181Z",
     "iopub.status.busy": "2022-01-15T13:19:28.722568Z",
     "iopub.status.idle": "2022-01-15T13:19:28.725225Z",
     "shell.execute_reply": "2022-01-15T13:19:28.724671Z"
    },
    "papermill": {
     "duration": 0.034342,
     "end_time": "2022-01-15T13:19:28.725376",
     "exception": false,
     "start_time": "2022-01-15T13:19:28.691034",
     "status": "completed"
    },
    "tags": []
   },
   "outputs": [],
   "source": [
    "#Parameters \n",
    "n_features = 13\n",
    "n_samples= 506\n",
    "n_target = 1 "
   ]
  },
  {
   "cell_type": "code",
   "execution_count": 6,
   "id": "5d6eced4",
   "metadata": {
    "execution": {
     "iopub.execute_input": "2022-01-15T13:19:28.779207Z",
     "iopub.status.busy": "2022-01-15T13:19:28.778591Z",
     "iopub.status.idle": "2022-01-15T13:19:28.813550Z",
     "shell.execute_reply": "2022-01-15T13:19:28.814058Z"
    },
    "papermill": {
     "duration": 0.063659,
     "end_time": "2022-01-15T13:19:28.814303",
     "exception": false,
     "start_time": "2022-01-15T13:19:28.750644",
     "status": "completed"
    },
    "tags": []
   },
   "outputs": [
    {
     "name": "stdout",
     "output_type": "stream",
     "text": [
      "         X1        X2        X3        X4        X5        X6        X7        X8        X9       X10       X11       X12       X13         Y\n",
      "0 -0.419782  0.284830 -1.287909 -0.272599 -0.144217  0.413672 -0.120013  0.140214 -0.982843 -0.666608 -1.459000  0.441052 -1.075562  0.159686\n",
      "1 -0.417339 -0.487722 -0.593381 -0.272599 -0.740262  0.194274  0.367166  0.557160 -0.867883 -0.987329 -0.303094  0.441052 -0.492439 -0.101524\n",
      "2 -0.417342 -0.487722 -0.593381 -0.272599 -0.740262  1.282714 -0.265812  0.557160 -0.867883 -0.987329 -0.303094  0.396427 -1.208727  1.324247\n",
      "3 -0.416750 -0.487722 -1.306878 -0.272599 -0.835284  1.016303 -0.809889  1.077737 -0.752922 -1.106115  0.113032  0.416163 -1.361517  1.182758\n",
      "4 -0.412482 -0.487722 -1.306878 -0.272599 -0.835284  1.228577 -0.511180  1.077737 -0.752922 -1.106115  0.113032  0.441052 -1.026501  1.487503\n"
     ]
    }
   ],
   "source": [
    "X,Y = bostonDataset.boston_data()"
   ]
  },
  {
   "cell_type": "code",
   "execution_count": 7,
   "id": "fe007438",
   "metadata": {
    "execution": {
     "iopub.execute_input": "2022-01-15T13:19:28.869932Z",
     "iopub.status.busy": "2022-01-15T13:19:28.869265Z",
     "iopub.status.idle": "2022-01-15T13:19:28.873143Z",
     "shell.execute_reply": "2022-01-15T13:19:28.872651Z"
    },
    "papermill": {
     "duration": 0.033956,
     "end_time": "2022-01-15T13:19:28.873351",
     "exception": false,
     "start_time": "2022-01-15T13:19:28.839395",
     "status": "completed"
    },
    "tags": []
   },
   "outputs": [],
   "source": [
    "#Train test split for dataset \n",
    "X_train,X_test,Y_train,Y_test = train_test_split(X,Y,test_size = 0.2)\n",
    "train_data = dataset.CustomDataset(X_train,Y_train)\n",
    "test_data = dataset.CustomDataset(X_test,Y_test)\n"
   ]
  },
  {
   "cell_type": "markdown",
   "id": "a9a1af34",
   "metadata": {
    "papermill": {
     "duration": 0.024303,
     "end_time": "2022-01-15T13:19:28.923867",
     "exception": false,
     "start_time": "2022-01-15T13:19:28.899564",
     "status": "completed"
    },
    "tags": []
   },
   "source": [
    "## Training Parameters \n",
    "\n"
   ]
  },
  {
   "cell_type": "code",
   "execution_count": 8,
   "id": "952b7fc8",
   "metadata": {
    "execution": {
     "iopub.execute_input": "2022-01-15T13:19:28.999693Z",
     "iopub.status.busy": "2022-01-15T13:19:28.998577Z",
     "iopub.status.idle": "2022-01-15T13:19:29.001739Z",
     "shell.execute_reply": "2022-01-15T13:19:29.001234Z"
    },
    "papermill": {
     "duration": 0.053159,
     "end_time": "2022-01-15T13:19:29.001890",
     "exception": false,
     "start_time": "2022-01-15T13:19:28.948731",
     "status": "completed"
    },
    "tags": []
   },
   "outputs": [],
   "source": [
    "batch_size = 64\n",
    "n_epochs = 5000\n",
    "#Select the device \n",
    "device = torch.device('cuda' if torch.cuda.is_available() else 'cpu')"
   ]
  },
  {
   "cell_type": "markdown",
   "id": "a95e1600",
   "metadata": {
    "papermill": {
     "duration": 0.025603,
     "end_time": "2022-01-15T13:19:29.053862",
     "exception": false,
     "start_time": "2022-01-15T13:19:29.028259",
     "status": "completed"
    },
    "tags": []
   },
   "source": [
    "# ABC Pre-generator Model \n",
    "\n",
    "1. The catboost model is used as a pre-generator model for the ABC-GAN. \n",
    "2. The model is first trained on the train dataset \n",
    "3. It generats X,Y pairs and we add some Gaussian noise with mean 0 and variance V (1,0.01,0.1) to it which is then feed as input to the generator.\n"
   ]
  },
  {
   "cell_type": "code",
   "execution_count": 9,
   "id": "ff8ce7bd",
   "metadata": {
    "execution": {
     "iopub.execute_input": "2022-01-15T13:19:29.127229Z",
     "iopub.status.busy": "2022-01-15T13:19:29.126265Z",
     "iopub.status.idle": "2022-01-15T13:19:30.764032Z",
     "shell.execute_reply": "2022-01-15T13:19:30.764650Z"
    },
    "papermill": {
     "duration": 1.684726,
     "end_time": "2022-01-15T13:19:30.764836",
     "exception": false,
     "start_time": "2022-01-15T13:19:29.080110",
     "status": "completed"
    },
    "tags": []
   },
   "outputs": [
    {
     "name": "stdout",
     "output_type": "stream",
     "text": [
      "Learning rate set to 0.03548\n",
      "0:\tlearn: 0.9697378\ttotal: 48.3ms\tremaining: 48.2s\n",
      "1:\tlearn: 0.9514017\ttotal: 49.4ms\tremaining: 24.6s\n",
      "2:\tlearn: 0.9306007\ttotal: 50.6ms\tremaining: 16.8s\n",
      "3:\tlearn: 0.9138579\ttotal: 51.8ms\tremaining: 12.9s\n",
      "4:\tlearn: 0.8954099\ttotal: 53ms\tremaining: 10.5s\n",
      "5:\tlearn: 0.8787215\ttotal: 54.1ms\tremaining: 8.96s\n",
      "6:\tlearn: 0.8631804\ttotal: 55.2ms\tremaining: 7.83s\n",
      "7:\tlearn: 0.8464852\ttotal: 56.3ms\tremaining: 6.98s\n",
      "8:\tlearn: 0.8315079\ttotal: 57.2ms\tremaining: 6.3s\n",
      "9:\tlearn: 0.8143983\ttotal: 58.3ms\tremaining: 5.77s\n",
      "10:\tlearn: 0.7992950\ttotal: 59.4ms\tremaining: 5.34s\n",
      "11:\tlearn: 0.7852962\ttotal: 60.5ms\tremaining: 4.98s\n",
      "12:\tlearn: 0.7702603\ttotal: 61.5ms\tremaining: 4.67s\n",
      "13:\tlearn: 0.7552899\ttotal: 62.6ms\tremaining: 4.41s\n",
      "14:\tlearn: 0.7425021\ttotal: 63.7ms\tremaining: 4.18s\n",
      "15:\tlearn: 0.7293267\ttotal: 64.7ms\tremaining: 3.98s\n",
      "16:\tlearn: 0.7153021\ttotal: 65.7ms\tremaining: 3.8s\n",
      "17:\tlearn: 0.7023430\ttotal: 66.7ms\tremaining: 3.64s\n",
      "18:\tlearn: 0.6901362\ttotal: 67.8ms\tremaining: 3.5s\n",
      "19:\tlearn: 0.6768431\ttotal: 68.8ms\tremaining: 3.37s\n",
      "20:\tlearn: 0.6638341\ttotal: 69.8ms\tremaining: 3.26s\n",
      "21:\tlearn: 0.6515652\ttotal: 70.9ms\tremaining: 3.15s\n",
      "22:\tlearn: 0.6410656\ttotal: 72ms\tremaining: 3.06s\n",
      "23:\tlearn: 0.6311807\ttotal: 73ms\tremaining: 2.97s\n",
      "24:\tlearn: 0.6200409\ttotal: 74ms\tremaining: 2.89s\n",
      "25:\tlearn: 0.6110056\ttotal: 75.1ms\tremaining: 2.81s\n",
      "26:\tlearn: 0.6024153\ttotal: 76.2ms\tremaining: 2.75s\n",
      "27:\tlearn: 0.5935930\ttotal: 77.2ms\tremaining: 2.68s\n",
      "28:\tlearn: 0.5853834\ttotal: 78.2ms\tremaining: 2.62s\n",
      "29:\tlearn: 0.5752333\ttotal: 79.2ms\tremaining: 2.56s\n",
      "30:\tlearn: 0.5657823\ttotal: 80.3ms\tremaining: 2.51s\n",
      "31:\tlearn: 0.5579011\ttotal: 81.3ms\tremaining: 2.46s\n",
      "32:\tlearn: 0.5507679\ttotal: 82.3ms\tremaining: 2.41s\n",
      "33:\tlearn: 0.5433936\ttotal: 83.3ms\tremaining: 2.37s\n",
      "34:\tlearn: 0.5362580\ttotal: 84.3ms\tremaining: 2.33s\n",
      "35:\tlearn: 0.5291382\ttotal: 85.3ms\tremaining: 2.29s\n",
      "36:\tlearn: 0.5224633\ttotal: 86.4ms\tremaining: 2.25s\n",
      "37:\tlearn: 0.5148566\ttotal: 87.4ms\tremaining: 2.21s\n",
      "38:\tlearn: 0.5078409\ttotal: 88.4ms\tremaining: 2.18s\n",
      "39:\tlearn: 0.4994774\ttotal: 89.4ms\tremaining: 2.14s\n",
      "40:\tlearn: 0.4935506\ttotal: 90.3ms\tremaining: 2.11s\n",
      "41:\tlearn: 0.4871602\ttotal: 91.4ms\tremaining: 2.08s\n",
      "42:\tlearn: 0.4819275\ttotal: 92.4ms\tremaining: 2.06s\n",
      "43:\tlearn: 0.4767307\ttotal: 93.4ms\tremaining: 2.03s\n",
      "44:\tlearn: 0.4707585\ttotal: 94.4ms\tremaining: 2s\n",
      "45:\tlearn: 0.4650535\ttotal: 95.4ms\tremaining: 1.98s\n",
      "46:\tlearn: 0.4606587\ttotal: 96.3ms\tremaining: 1.95s\n",
      "47:\tlearn: 0.4542536\ttotal: 97.3ms\tremaining: 1.93s\n",
      "48:\tlearn: 0.4497490\ttotal: 98.3ms\tremaining: 1.91s\n",
      "49:\tlearn: 0.4452415\ttotal: 99.3ms\tremaining: 1.89s\n",
      "50:\tlearn: 0.4398725\ttotal: 100ms\tremaining: 1.87s\n",
      "51:\tlearn: 0.4358350\ttotal: 101ms\tremaining: 1.85s\n",
      "52:\tlearn: 0.4316517\ttotal: 102ms\tremaining: 1.83s\n",
      "53:\tlearn: 0.4280365\ttotal: 103ms\tremaining: 1.8s\n",
      "54:\tlearn: 0.4238607\ttotal: 104ms\tremaining: 1.79s\n",
      "55:\tlearn: 0.4203939\ttotal: 105ms\tremaining: 1.77s\n",
      "56:\tlearn: 0.4171828\ttotal: 106ms\tremaining: 1.75s\n",
      "57:\tlearn: 0.4130654\ttotal: 107ms\tremaining: 1.74s\n",
      "58:\tlearn: 0.4095850\ttotal: 108ms\tremaining: 1.72s\n",
      "59:\tlearn: 0.4057901\ttotal: 109ms\tremaining: 1.71s\n",
      "60:\tlearn: 0.4020936\ttotal: 110ms\tremaining: 1.69s\n",
      "61:\tlearn: 0.3988183\ttotal: 111ms\tremaining: 1.68s\n",
      "62:\tlearn: 0.3958131\ttotal: 112ms\tremaining: 1.67s\n",
      "63:\tlearn: 0.3916177\ttotal: 113ms\tremaining: 1.65s\n",
      "64:\tlearn: 0.3883968\ttotal: 114ms\tremaining: 1.64s\n",
      "65:\tlearn: 0.3845967\ttotal: 115ms\tremaining: 1.63s\n",
      "66:\tlearn: 0.3814965\ttotal: 116ms\tremaining: 1.62s\n",
      "67:\tlearn: 0.3776636\ttotal: 117ms\tremaining: 1.61s\n",
      "68:\tlearn: 0.3749940\ttotal: 118ms\tremaining: 1.6s\n",
      "69:\tlearn: 0.3725630\ttotal: 120ms\tremaining: 1.59s\n",
      "70:\tlearn: 0.3688403\ttotal: 121ms\tremaining: 1.58s\n",
      "71:\tlearn: 0.3662615\ttotal: 122ms\tremaining: 1.57s\n",
      "72:\tlearn: 0.3640259\ttotal: 123ms\tremaining: 1.56s\n",
      "73:\tlearn: 0.3609469\ttotal: 124ms\tremaining: 1.54s\n",
      "74:\tlearn: 0.3585120\ttotal: 125ms\tremaining: 1.54s\n",
      "75:\tlearn: 0.3561695\ttotal: 126ms\tremaining: 1.53s\n",
      "76:\tlearn: 0.3539281\ttotal: 127ms\tremaining: 1.52s\n",
      "77:\tlearn: 0.3508853\ttotal: 128ms\tremaining: 1.51s\n",
      "78:\tlearn: 0.3481736\ttotal: 129ms\tremaining: 1.5s\n",
      "79:\tlearn: 0.3460610\ttotal: 130ms\tremaining: 1.49s\n",
      "80:\tlearn: 0.3438022\ttotal: 131ms\tremaining: 1.48s\n",
      "81:\tlearn: 0.3418205\ttotal: 132ms\tremaining: 1.48s\n",
      "82:\tlearn: 0.3389587\ttotal: 133ms\tremaining: 1.47s\n",
      "83:\tlearn: 0.3365377\ttotal: 134ms\tremaining: 1.46s\n",
      "84:\tlearn: 0.3341989\ttotal: 135ms\tremaining: 1.45s\n",
      "85:\tlearn: 0.3320402\ttotal: 136ms\tremaining: 1.44s\n",
      "86:\tlearn: 0.3297791\ttotal: 137ms\tremaining: 1.44s\n",
      "87:\tlearn: 0.3274802\ttotal: 138ms\tremaining: 1.43s\n",
      "88:\tlearn: 0.3258665\ttotal: 139ms\tremaining: 1.42s\n",
      "89:\tlearn: 0.3236479\ttotal: 140ms\tremaining: 1.41s\n",
      "90:\tlearn: 0.3214250\ttotal: 141ms\tremaining: 1.41s\n"
     ]
    },
    {
     "name": "stdout",
     "output_type": "stream",
     "text": [
      "91:\tlearn: 0.3197059\ttotal: 142ms\tremaining: 1.41s\n",
      "92:\tlearn: 0.3178063\ttotal: 144ms\tremaining: 1.4s\n",
      "93:\tlearn: 0.3154811\ttotal: 145ms\tremaining: 1.39s\n",
      "94:\tlearn: 0.3138111\ttotal: 146ms\tremaining: 1.39s\n",
      "95:\tlearn: 0.3132072\ttotal: 147ms\tremaining: 1.38s\n",
      "96:\tlearn: 0.3114738\ttotal: 148ms\tremaining: 1.37s\n",
      "97:\tlearn: 0.3104684\ttotal: 148ms\tremaining: 1.37s\n",
      "98:\tlearn: 0.3088722\ttotal: 149ms\tremaining: 1.36s\n",
      "99:\tlearn: 0.3077537\ttotal: 150ms\tremaining: 1.35s\n",
      "100:\tlearn: 0.3060228\ttotal: 151ms\tremaining: 1.35s\n",
      "101:\tlearn: 0.3043544\ttotal: 152ms\tremaining: 1.34s\n",
      "102:\tlearn: 0.3029381\ttotal: 153ms\tremaining: 1.34s\n",
      "103:\tlearn: 0.3014757\ttotal: 154ms\tremaining: 1.33s\n",
      "104:\tlearn: 0.3004778\ttotal: 155ms\tremaining: 1.32s\n",
      "105:\tlearn: 0.2989123\ttotal: 156ms\tremaining: 1.32s\n",
      "106:\tlearn: 0.2973724\ttotal: 157ms\tremaining: 1.31s\n",
      "107:\tlearn: 0.2957482\ttotal: 158ms\tremaining: 1.31s\n",
      "108:\tlearn: 0.2943327\ttotal: 159ms\tremaining: 1.3s\n",
      "109:\tlearn: 0.2926492\ttotal: 160ms\tremaining: 1.3s\n",
      "110:\tlearn: 0.2911902\ttotal: 161ms\tremaining: 1.29s\n",
      "111:\tlearn: 0.2898553\ttotal: 162ms\tremaining: 1.29s\n",
      "112:\tlearn: 0.2885179\ttotal: 163ms\tremaining: 1.28s\n",
      "113:\tlearn: 0.2871686\ttotal: 164ms\tremaining: 1.28s\n",
      "114:\tlearn: 0.2861589\ttotal: 165ms\tremaining: 1.27s\n",
      "115:\tlearn: 0.2848975\ttotal: 166ms\tremaining: 1.26s\n",
      "116:\tlearn: 0.2834139\ttotal: 167ms\tremaining: 1.26s\n",
      "117:\tlearn: 0.2818676\ttotal: 168ms\tremaining: 1.26s\n",
      "118:\tlearn: 0.2807855\ttotal: 169ms\tremaining: 1.25s\n",
      "119:\tlearn: 0.2799930\ttotal: 170ms\tremaining: 1.25s\n",
      "120:\tlearn: 0.2788344\ttotal: 171ms\tremaining: 1.24s\n",
      "121:\tlearn: 0.2780053\ttotal: 172ms\tremaining: 1.24s\n",
      "122:\tlearn: 0.2774492\ttotal: 173ms\tremaining: 1.24s\n",
      "123:\tlearn: 0.2764524\ttotal: 174ms\tremaining: 1.23s\n",
      "124:\tlearn: 0.2757679\ttotal: 175ms\tremaining: 1.23s\n",
      "125:\tlearn: 0.2745445\ttotal: 176ms\tremaining: 1.22s\n",
      "126:\tlearn: 0.2730092\ttotal: 177ms\tremaining: 1.22s\n",
      "127:\tlearn: 0.2721140\ttotal: 178ms\tremaining: 1.21s\n",
      "128:\tlearn: 0.2709564\ttotal: 179ms\tremaining: 1.21s\n",
      "129:\tlearn: 0.2697908\ttotal: 180ms\tremaining: 1.21s\n",
      "130:\tlearn: 0.2688533\ttotal: 181ms\tremaining: 1.2s\n",
      "131:\tlearn: 0.2676034\ttotal: 182ms\tremaining: 1.2s\n",
      "132:\tlearn: 0.2666978\ttotal: 183ms\tremaining: 1.19s\n",
      "133:\tlearn: 0.2658390\ttotal: 184ms\tremaining: 1.19s\n",
      "134:\tlearn: 0.2649466\ttotal: 185ms\tremaining: 1.19s\n",
      "135:\tlearn: 0.2641348\ttotal: 186ms\tremaining: 1.18s\n",
      "136:\tlearn: 0.2634089\ttotal: 187ms\tremaining: 1.18s\n",
      "137:\tlearn: 0.2627853\ttotal: 188ms\tremaining: 1.17s\n",
      "138:\tlearn: 0.2615037\ttotal: 189ms\tremaining: 1.17s\n",
      "139:\tlearn: 0.2608847\ttotal: 190ms\tremaining: 1.17s\n",
      "140:\tlearn: 0.2598992\ttotal: 191ms\tremaining: 1.16s\n",
      "141:\tlearn: 0.2593089\ttotal: 192ms\tremaining: 1.16s\n",
      "142:\tlearn: 0.2580953\ttotal: 193ms\tremaining: 1.16s\n",
      "143:\tlearn: 0.2570293\ttotal: 194ms\tremaining: 1.15s\n",
      "144:\tlearn: 0.2566365\ttotal: 195ms\tremaining: 1.15s\n",
      "145:\tlearn: 0.2559115\ttotal: 196ms\tremaining: 1.14s\n",
      "146:\tlearn: 0.2550932\ttotal: 197ms\tremaining: 1.14s\n",
      "147:\tlearn: 0.2539254\ttotal: 198ms\tremaining: 1.14s\n",
      "148:\tlearn: 0.2524158\ttotal: 199ms\tremaining: 1.13s\n",
      "149:\tlearn: 0.2520130\ttotal: 200ms\tremaining: 1.13s\n",
      "150:\tlearn: 0.2514203\ttotal: 201ms\tremaining: 1.13s\n",
      "151:\tlearn: 0.2507004\ttotal: 202ms\tremaining: 1.12s\n",
      "152:\tlearn: 0.2495914\ttotal: 203ms\tremaining: 1.12s\n",
      "153:\tlearn: 0.2488573\ttotal: 203ms\tremaining: 1.12s\n",
      "154:\tlearn: 0.2484747\ttotal: 204ms\tremaining: 1.11s\n",
      "155:\tlearn: 0.2474943\ttotal: 205ms\tremaining: 1.11s\n",
      "156:\tlearn: 0.2462599\ttotal: 206ms\tremaining: 1.11s\n",
      "157:\tlearn: 0.2454333\ttotal: 207ms\tremaining: 1.1s\n",
      "158:\tlearn: 0.2444067\ttotal: 208ms\tremaining: 1.1s\n",
      "159:\tlearn: 0.2440417\ttotal: 209ms\tremaining: 1.1s\n",
      "160:\tlearn: 0.2433452\ttotal: 210ms\tremaining: 1.09s\n",
      "161:\tlearn: 0.2430567\ttotal: 211ms\tremaining: 1.09s\n",
      "162:\tlearn: 0.2423546\ttotal: 212ms\tremaining: 1.09s\n",
      "163:\tlearn: 0.2415481\ttotal: 213ms\tremaining: 1.09s\n",
      "164:\tlearn: 0.2409509\ttotal: 214ms\tremaining: 1.08s\n",
      "165:\tlearn: 0.2403766\ttotal: 215ms\tremaining: 1.08s\n",
      "166:\tlearn: 0.2396790\ttotal: 216ms\tremaining: 1.08s\n",
      "167:\tlearn: 0.2393981\ttotal: 217ms\tremaining: 1.07s\n",
      "168:\tlearn: 0.2390362\ttotal: 218ms\tremaining: 1.07s\n",
      "169:\tlearn: 0.2384723\ttotal: 219ms\tremaining: 1.07s\n",
      "170:\tlearn: 0.2378643\ttotal: 220ms\tremaining: 1.07s\n",
      "171:\tlearn: 0.2371693\ttotal: 221ms\tremaining: 1.06s\n",
      "172:\tlearn: 0.2365250\ttotal: 222ms\tremaining: 1.06s\n",
      "173:\tlearn: 0.2363758\ttotal: 223ms\tremaining: 1.06s\n",
      "174:\tlearn: 0.2357254\ttotal: 224ms\tremaining: 1.06s\n",
      "175:\tlearn: 0.2354130\ttotal: 225ms\tremaining: 1.05s\n",
      "176:\tlearn: 0.2351203\ttotal: 226ms\tremaining: 1.05s\n",
      "177:\tlearn: 0.2343054\ttotal: 227ms\tremaining: 1.05s\n",
      "178:\tlearn: 0.2338068\ttotal: 228ms\tremaining: 1.05s\n",
      "179:\tlearn: 0.2330025\ttotal: 229ms\tremaining: 1.04s\n",
      "180:\tlearn: 0.2323060\ttotal: 230ms\tremaining: 1.04s\n",
      "181:\tlearn: 0.2313854\ttotal: 231ms\tremaining: 1.04s\n",
      "182:\tlearn: 0.2309331\ttotal: 232ms\tremaining: 1.04s\n",
      "183:\tlearn: 0.2301182\ttotal: 233ms\tremaining: 1.03s\n",
      "184:\tlearn: 0.2291782\ttotal: 234ms\tremaining: 1.03s\n",
      "185:\tlearn: 0.2287484\ttotal: 235ms\tremaining: 1.03s\n",
      "186:\tlearn: 0.2279409\ttotal: 236ms\tremaining: 1.03s\n",
      "187:\tlearn: 0.2276586\ttotal: 239ms\tremaining: 1.03s\n",
      "188:\tlearn: 0.2269470\ttotal: 240ms\tremaining: 1.03s\n",
      "189:\tlearn: 0.2261025\ttotal: 241ms\tremaining: 1.03s\n",
      "190:\tlearn: 0.2254371\ttotal: 246ms\tremaining: 1.04s\n",
      "191:\tlearn: 0.2250794\ttotal: 247ms\tremaining: 1.04s\n",
      "192:\tlearn: 0.2247242\ttotal: 248ms\tremaining: 1.03s\n",
      "193:\tlearn: 0.2240282\ttotal: 249ms\tremaining: 1.03s\n",
      "194:\tlearn: 0.2235295\ttotal: 250ms\tremaining: 1.03s\n",
      "195:\tlearn: 0.2228415\ttotal: 251ms\tremaining: 1.03s\n",
      "196:\tlearn: 0.2224697\ttotal: 252ms\tremaining: 1.03s\n",
      "197:\tlearn: 0.2221424\ttotal: 253ms\tremaining: 1.03s\n",
      "198:\tlearn: 0.2214740\ttotal: 254ms\tremaining: 1.02s\n",
      "199:\tlearn: 0.2208974\ttotal: 256ms\tremaining: 1.02s\n",
      "200:\tlearn: 0.2206676\ttotal: 257ms\tremaining: 1.02s\n",
      "201:\tlearn: 0.2202988\ttotal: 258ms\tremaining: 1.02s\n",
      "202:\tlearn: 0.2194457\ttotal: 260ms\tremaining: 1.02s\n",
      "203:\tlearn: 0.2190761\ttotal: 261ms\tremaining: 1.02s\n",
      "204:\tlearn: 0.2184149\ttotal: 262ms\tremaining: 1.01s\n",
      "205:\tlearn: 0.2178655\ttotal: 263ms\tremaining: 1.01s\n",
      "206:\tlearn: 0.2173910\ttotal: 264ms\tremaining: 1.01s\n",
      "207:\tlearn: 0.2168969\ttotal: 265ms\tremaining: 1.01s\n",
      "208:\tlearn: 0.2164225\ttotal: 266ms\tremaining: 1s\n",
      "209:\tlearn: 0.2158874\ttotal: 267ms\tremaining: 1s\n",
      "210:\tlearn: 0.2155654\ttotal: 268ms\tremaining: 1s\n",
      "211:\tlearn: 0.2150288\ttotal: 269ms\tremaining: 998ms\n",
      "212:\tlearn: 0.2147137\ttotal: 270ms\tremaining: 997ms\n",
      "213:\tlearn: 0.2141527\ttotal: 271ms\tremaining: 995ms\n",
      "214:\tlearn: 0.2136169\ttotal: 272ms\tremaining: 993ms\n",
      "215:\tlearn: 0.2131722\ttotal: 273ms\tremaining: 991ms\n",
      "216:\tlearn: 0.2127798\ttotal: 274ms\tremaining: 989ms\n",
      "217:\tlearn: 0.2124929\ttotal: 275ms\tremaining: 987ms\n",
      "218:\tlearn: 0.2120069\ttotal: 276ms\tremaining: 985ms\n"
     ]
    },
    {
     "name": "stdout",
     "output_type": "stream",
     "text": [
      "219:\tlearn: 0.2117024\ttotal: 280ms\tremaining: 991ms\n",
      "220:\tlearn: 0.2111519\ttotal: 281ms\tremaining: 990ms\n",
      "221:\tlearn: 0.2108337\ttotal: 282ms\tremaining: 988ms\n",
      "222:\tlearn: 0.2105092\ttotal: 283ms\tremaining: 986ms\n",
      "223:\tlearn: 0.2098764\ttotal: 284ms\tremaining: 984ms\n",
      "224:\tlearn: 0.2094416\ttotal: 285ms\tremaining: 982ms\n",
      "225:\tlearn: 0.2090191\ttotal: 286ms\tremaining: 980ms\n",
      "226:\tlearn: 0.2086604\ttotal: 287ms\tremaining: 978ms\n",
      "227:\tlearn: 0.2083423\ttotal: 288ms\tremaining: 976ms\n",
      "228:\tlearn: 0.2077778\ttotal: 289ms\tremaining: 974ms\n",
      "229:\tlearn: 0.2074363\ttotal: 290ms\tremaining: 971ms\n",
      "230:\tlearn: 0.2071872\ttotal: 291ms\tremaining: 969ms\n",
      "231:\tlearn: 0.2065042\ttotal: 292ms\tremaining: 967ms\n",
      "232:\tlearn: 0.2060583\ttotal: 293ms\tremaining: 965ms\n",
      "233:\tlearn: 0.2056186\ttotal: 294ms\tremaining: 963ms\n",
      "234:\tlearn: 0.2053273\ttotal: 295ms\tremaining: 960ms\n",
      "235:\tlearn: 0.2047717\ttotal: 296ms\tremaining: 959ms\n",
      "236:\tlearn: 0.2045799\ttotal: 297ms\tremaining: 957ms\n",
      "237:\tlearn: 0.2040054\ttotal: 298ms\tremaining: 955ms\n",
      "238:\tlearn: 0.2034592\ttotal: 299ms\tremaining: 953ms\n",
      "239:\tlearn: 0.2029705\ttotal: 300ms\tremaining: 951ms\n",
      "240:\tlearn: 0.2028780\ttotal: 301ms\tremaining: 949ms\n",
      "241:\tlearn: 0.2026832\ttotal: 302ms\tremaining: 947ms\n",
      "242:\tlearn: 0.2024130\ttotal: 303ms\tremaining: 945ms\n",
      "243:\tlearn: 0.2020230\ttotal: 304ms\tremaining: 943ms\n",
      "244:\tlearn: 0.2018527\ttotal: 305ms\tremaining: 941ms\n",
      "245:\tlearn: 0.2013296\ttotal: 306ms\tremaining: 939ms\n",
      "246:\tlearn: 0.2009999\ttotal: 307ms\tremaining: 937ms\n",
      "247:\tlearn: 0.2003846\ttotal: 308ms\tremaining: 935ms\n",
      "248:\tlearn: 0.1998141\ttotal: 309ms\tremaining: 933ms\n",
      "249:\tlearn: 0.1995182\ttotal: 310ms\tremaining: 931ms\n",
      "250:\tlearn: 0.1992146\ttotal: 311ms\tremaining: 929ms\n",
      "251:\tlearn: 0.1986767\ttotal: 313ms\tremaining: 928ms\n",
      "252:\tlearn: 0.1984126\ttotal: 314ms\tremaining: 926ms\n",
      "253:\tlearn: 0.1979606\ttotal: 315ms\tremaining: 924ms\n",
      "254:\tlearn: 0.1972730\ttotal: 316ms\tremaining: 922ms\n",
      "255:\tlearn: 0.1967117\ttotal: 317ms\tremaining: 920ms\n",
      "256:\tlearn: 0.1962700\ttotal: 318ms\tremaining: 919ms\n",
      "257:\tlearn: 0.1959779\ttotal: 319ms\tremaining: 917ms\n",
      "258:\tlearn: 0.1955866\ttotal: 320ms\tremaining: 915ms\n",
      "259:\tlearn: 0.1954707\ttotal: 321ms\tremaining: 913ms\n",
      "260:\tlearn: 0.1948766\ttotal: 322ms\tremaining: 911ms\n",
      "261:\tlearn: 0.1943600\ttotal: 323ms\tremaining: 909ms\n",
      "262:\tlearn: 0.1941695\ttotal: 324ms\tremaining: 907ms\n",
      "263:\tlearn: 0.1938377\ttotal: 325ms\tremaining: 905ms\n",
      "264:\tlearn: 0.1933006\ttotal: 326ms\tremaining: 904ms\n",
      "265:\tlearn: 0.1931650\ttotal: 327ms\tremaining: 902ms\n",
      "266:\tlearn: 0.1928405\ttotal: 328ms\tremaining: 900ms\n",
      "267:\tlearn: 0.1922335\ttotal: 329ms\tremaining: 898ms\n",
      "268:\tlearn: 0.1916348\ttotal: 330ms\tremaining: 896ms\n",
      "269:\tlearn: 0.1912836\ttotal: 331ms\tremaining: 895ms\n",
      "270:\tlearn: 0.1911191\ttotal: 332ms\tremaining: 893ms\n",
      "271:\tlearn: 0.1910058\ttotal: 333ms\tremaining: 891ms\n",
      "272:\tlearn: 0.1905066\ttotal: 334ms\tremaining: 889ms\n",
      "273:\tlearn: 0.1904269\ttotal: 335ms\tremaining: 888ms\n",
      "274:\tlearn: 0.1899575\ttotal: 336ms\tremaining: 886ms\n",
      "275:\tlearn: 0.1894375\ttotal: 337ms\tremaining: 884ms\n",
      "276:\tlearn: 0.1893188\ttotal: 338ms\tremaining: 882ms\n",
      "277:\tlearn: 0.1889191\ttotal: 339ms\tremaining: 881ms\n",
      "278:\tlearn: 0.1888525\ttotal: 340ms\tremaining: 879ms\n",
      "279:\tlearn: 0.1883020\ttotal: 341ms\tremaining: 877ms\n",
      "280:\tlearn: 0.1877872\ttotal: 342ms\tremaining: 876ms\n",
      "281:\tlearn: 0.1873853\ttotal: 343ms\tremaining: 874ms\n",
      "282:\tlearn: 0.1872389\ttotal: 344ms\tremaining: 872ms\n",
      "283:\tlearn: 0.1865978\ttotal: 345ms\tremaining: 870ms\n",
      "284:\tlearn: 0.1862984\ttotal: 346ms\tremaining: 869ms\n",
      "285:\tlearn: 0.1861528\ttotal: 347ms\tremaining: 867ms\n",
      "286:\tlearn: 0.1859960\ttotal: 348ms\tremaining: 865ms\n",
      "287:\tlearn: 0.1856640\ttotal: 349ms\tremaining: 864ms\n",
      "288:\tlearn: 0.1852724\ttotal: 350ms\tremaining: 862ms\n",
      "289:\tlearn: 0.1848384\ttotal: 351ms\tremaining: 860ms\n",
      "290:\tlearn: 0.1846545\ttotal: 352ms\tremaining: 858ms\n",
      "291:\tlearn: 0.1845640\ttotal: 353ms\tremaining: 856ms\n",
      "292:\tlearn: 0.1842915\ttotal: 354ms\tremaining: 855ms\n",
      "293:\tlearn: 0.1842072\ttotal: 355ms\tremaining: 853ms\n",
      "294:\tlearn: 0.1836851\ttotal: 356ms\tremaining: 851ms\n",
      "295:\tlearn: 0.1832828\ttotal: 357ms\tremaining: 849ms\n",
      "296:\tlearn: 0.1829831\ttotal: 358ms\tremaining: 848ms\n",
      "297:\tlearn: 0.1828317\ttotal: 359ms\tremaining: 846ms\n",
      "298:\tlearn: 0.1824368\ttotal: 360ms\tremaining: 844ms\n",
      "299:\tlearn: 0.1823669\ttotal: 361ms\tremaining: 843ms\n",
      "300:\tlearn: 0.1822434\ttotal: 362ms\tremaining: 841ms\n",
      "301:\tlearn: 0.1819428\ttotal: 363ms\tremaining: 839ms\n",
      "302:\tlearn: 0.1812986\ttotal: 364ms\tremaining: 838ms\n",
      "303:\tlearn: 0.1806742\ttotal: 365ms\tremaining: 836ms\n",
      "304:\tlearn: 0.1803722\ttotal: 366ms\tremaining: 834ms\n",
      "305:\tlearn: 0.1802067\ttotal: 367ms\tremaining: 833ms\n",
      "306:\tlearn: 0.1799700\ttotal: 368ms\tremaining: 831ms\n",
      "307:\tlearn: 0.1796946\ttotal: 369ms\tremaining: 830ms\n",
      "308:\tlearn: 0.1791719\ttotal: 370ms\tremaining: 828ms\n",
      "309:\tlearn: 0.1787436\ttotal: 371ms\tremaining: 826ms\n",
      "310:\tlearn: 0.1786594\ttotal: 372ms\tremaining: 825ms\n",
      "311:\tlearn: 0.1782234\ttotal: 373ms\tremaining: 823ms\n",
      "312:\tlearn: 0.1779264\ttotal: 374ms\tremaining: 822ms\n",
      "313:\tlearn: 0.1776174\ttotal: 375ms\tremaining: 820ms\n",
      "314:\tlearn: 0.1774244\ttotal: 376ms\tremaining: 818ms\n",
      "315:\tlearn: 0.1769662\ttotal: 377ms\tremaining: 817ms\n",
      "316:\tlearn: 0.1764176\ttotal: 378ms\tremaining: 815ms\n",
      "317:\tlearn: 0.1760612\ttotal: 379ms\tremaining: 814ms\n",
      "318:\tlearn: 0.1758178\ttotal: 380ms\tremaining: 812ms\n",
      "319:\tlearn: 0.1753088\ttotal: 381ms\tremaining: 811ms\n",
      "320:\tlearn: 0.1747850\ttotal: 383ms\tremaining: 809ms\n",
      "321:\tlearn: 0.1743885\ttotal: 384ms\tremaining: 808ms\n",
      "322:\tlearn: 0.1742814\ttotal: 385ms\tremaining: 806ms\n",
      "323:\tlearn: 0.1738282\ttotal: 386ms\tremaining: 804ms\n",
      "324:\tlearn: 0.1735247\ttotal: 387ms\tremaining: 803ms\n",
      "325:\tlearn: 0.1734536\ttotal: 388ms\tremaining: 801ms\n",
      "326:\tlearn: 0.1730314\ttotal: 389ms\tremaining: 800ms\n",
      "327:\tlearn: 0.1724122\ttotal: 390ms\tremaining: 798ms\n",
      "328:\tlearn: 0.1719026\ttotal: 391ms\tremaining: 797ms\n",
      "329:\tlearn: 0.1715255\ttotal: 392ms\tremaining: 795ms\n",
      "330:\tlearn: 0.1713142\ttotal: 393ms\tremaining: 794ms\n",
      "331:\tlearn: 0.1710321\ttotal: 394ms\tremaining: 792ms\n",
      "332:\tlearn: 0.1704923\ttotal: 395ms\tremaining: 791ms\n",
      "333:\tlearn: 0.1699303\ttotal: 396ms\tremaining: 789ms\n",
      "334:\tlearn: 0.1697477\ttotal: 397ms\tremaining: 788ms\n",
      "335:\tlearn: 0.1695232\ttotal: 398ms\tremaining: 786ms\n",
      "336:\tlearn: 0.1691903\ttotal: 399ms\tremaining: 785ms\n",
      "337:\tlearn: 0.1687462\ttotal: 400ms\tremaining: 783ms\n",
      "338:\tlearn: 0.1686534\ttotal: 401ms\tremaining: 782ms\n",
      "339:\tlearn: 0.1683926\ttotal: 402ms\tremaining: 780ms\n",
      "340:\tlearn: 0.1679872\ttotal: 403ms\tremaining: 779ms\n",
      "341:\tlearn: 0.1675223\ttotal: 404ms\tremaining: 777ms\n",
      "342:\tlearn: 0.1671015\ttotal: 405ms\tremaining: 776ms\n",
      "343:\tlearn: 0.1667667\ttotal: 406ms\tremaining: 774ms\n",
      "344:\tlearn: 0.1663758\ttotal: 407ms\tremaining: 773ms\n",
      "345:\tlearn: 0.1662882\ttotal: 408ms\tremaining: 771ms\n",
      "346:\tlearn: 0.1661021\ttotal: 409ms\tremaining: 770ms\n",
      "347:\tlearn: 0.1657369\ttotal: 410ms\tremaining: 768ms\n",
      "348:\tlearn: 0.1654879\ttotal: 411ms\tremaining: 767ms\n",
      "349:\tlearn: 0.1650489\ttotal: 412ms\tremaining: 765ms\n",
      "350:\tlearn: 0.1648361\ttotal: 413ms\tremaining: 764ms\n",
      "351:\tlearn: 0.1644341\ttotal: 414ms\tremaining: 762ms\n"
     ]
    },
    {
     "name": "stdout",
     "output_type": "stream",
     "text": [
      "352:\tlearn: 0.1642041\ttotal: 415ms\tremaining: 761ms\n",
      "353:\tlearn: 0.1638164\ttotal: 416ms\tremaining: 760ms\n",
      "354:\tlearn: 0.1632681\ttotal: 418ms\tremaining: 759ms\n",
      "355:\tlearn: 0.1628835\ttotal: 419ms\tremaining: 757ms\n",
      "356:\tlearn: 0.1624348\ttotal: 420ms\tremaining: 756ms\n",
      "357:\tlearn: 0.1621089\ttotal: 421ms\tremaining: 754ms\n",
      "358:\tlearn: 0.1618275\ttotal: 422ms\tremaining: 753ms\n",
      "359:\tlearn: 0.1614968\ttotal: 423ms\tremaining: 751ms\n",
      "360:\tlearn: 0.1612285\ttotal: 424ms\tremaining: 750ms\n",
      "361:\tlearn: 0.1608087\ttotal: 425ms\tremaining: 748ms\n",
      "362:\tlearn: 0.1605049\ttotal: 426ms\tremaining: 747ms\n",
      "363:\tlearn: 0.1601491\ttotal: 427ms\tremaining: 745ms\n",
      "364:\tlearn: 0.1597941\ttotal: 428ms\tremaining: 744ms\n",
      "365:\tlearn: 0.1595472\ttotal: 429ms\tremaining: 743ms\n",
      "366:\tlearn: 0.1590506\ttotal: 430ms\tremaining: 741ms\n",
      "367:\tlearn: 0.1586107\ttotal: 431ms\tremaining: 740ms\n",
      "368:\tlearn: 0.1581950\ttotal: 432ms\tremaining: 738ms\n",
      "369:\tlearn: 0.1578291\ttotal: 433ms\tremaining: 737ms\n",
      "370:\tlearn: 0.1575070\ttotal: 434ms\tremaining: 735ms\n",
      "371:\tlearn: 0.1571975\ttotal: 435ms\tremaining: 734ms\n",
      "372:\tlearn: 0.1570734\ttotal: 436ms\tremaining: 732ms\n",
      "373:\tlearn: 0.1567793\ttotal: 437ms\tremaining: 731ms\n",
      "374:\tlearn: 0.1563785\ttotal: 438ms\tremaining: 730ms\n",
      "375:\tlearn: 0.1560424\ttotal: 439ms\tremaining: 728ms\n",
      "376:\tlearn: 0.1556995\ttotal: 440ms\tremaining: 727ms\n",
      "377:\tlearn: 0.1554618\ttotal: 441ms\tremaining: 725ms\n",
      "378:\tlearn: 0.1551446\ttotal: 442ms\tremaining: 724ms\n",
      "379:\tlearn: 0.1546719\ttotal: 443ms\tremaining: 723ms\n",
      "380:\tlearn: 0.1545980\ttotal: 444ms\tremaining: 721ms\n",
      "381:\tlearn: 0.1541568\ttotal: 445ms\tremaining: 720ms\n",
      "382:\tlearn: 0.1537747\ttotal: 446ms\tremaining: 718ms\n",
      "383:\tlearn: 0.1534663\ttotal: 447ms\tremaining: 717ms\n",
      "384:\tlearn: 0.1531918\ttotal: 448ms\tremaining: 715ms\n",
      "385:\tlearn: 0.1528680\ttotal: 449ms\tremaining: 714ms\n",
      "386:\tlearn: 0.1523603\ttotal: 450ms\tremaining: 712ms\n",
      "387:\tlearn: 0.1521444\ttotal: 451ms\tremaining: 711ms\n",
      "388:\tlearn: 0.1519035\ttotal: 452ms\tremaining: 709ms\n",
      "389:\tlearn: 0.1516398\ttotal: 453ms\tremaining: 708ms\n",
      "390:\tlearn: 0.1513004\ttotal: 454ms\tremaining: 707ms\n",
      "391:\tlearn: 0.1508911\ttotal: 455ms\tremaining: 705ms\n",
      "392:\tlearn: 0.1504834\ttotal: 456ms\tremaining: 704ms\n",
      "393:\tlearn: 0.1502060\ttotal: 457ms\tremaining: 703ms\n",
      "394:\tlearn: 0.1498775\ttotal: 458ms\tremaining: 701ms\n",
      "395:\tlearn: 0.1494995\ttotal: 459ms\tremaining: 700ms\n",
      "396:\tlearn: 0.1491881\ttotal: 460ms\tremaining: 699ms\n",
      "397:\tlearn: 0.1490923\ttotal: 461ms\tremaining: 697ms\n",
      "398:\tlearn: 0.1488169\ttotal: 462ms\tremaining: 696ms\n",
      "399:\tlearn: 0.1484055\ttotal: 463ms\tremaining: 695ms\n",
      "400:\tlearn: 0.1480810\ttotal: 464ms\tremaining: 693ms\n",
      "401:\tlearn: 0.1478363\ttotal: 465ms\tremaining: 692ms\n",
      "402:\tlearn: 0.1477377\ttotal: 466ms\tremaining: 690ms\n",
      "403:\tlearn: 0.1476993\ttotal: 467ms\tremaining: 689ms\n",
      "404:\tlearn: 0.1475462\ttotal: 468ms\tremaining: 687ms\n",
      "405:\tlearn: 0.1473437\ttotal: 469ms\tremaining: 686ms\n",
      "406:\tlearn: 0.1469980\ttotal: 470ms\tremaining: 684ms\n",
      "407:\tlearn: 0.1465876\ttotal: 471ms\tremaining: 683ms\n",
      "408:\tlearn: 0.1462769\ttotal: 472ms\tremaining: 682ms\n",
      "409:\tlearn: 0.1458966\ttotal: 473ms\tremaining: 681ms\n",
      "410:\tlearn: 0.1456856\ttotal: 474ms\tremaining: 679ms\n",
      "411:\tlearn: 0.1453508\ttotal: 475ms\tremaining: 678ms\n",
      "412:\tlearn: 0.1448819\ttotal: 476ms\tremaining: 677ms\n",
      "413:\tlearn: 0.1442925\ttotal: 477ms\tremaining: 675ms\n",
      "414:\tlearn: 0.1442065\ttotal: 478ms\tremaining: 674ms\n",
      "415:\tlearn: 0.1439257\ttotal: 479ms\tremaining: 673ms\n",
      "416:\tlearn: 0.1434403\ttotal: 480ms\tremaining: 671ms\n",
      "417:\tlearn: 0.1431912\ttotal: 481ms\tremaining: 670ms\n",
      "418:\tlearn: 0.1430243\ttotal: 482ms\tremaining: 669ms\n",
      "419:\tlearn: 0.1425876\ttotal: 483ms\tremaining: 667ms\n",
      "420:\tlearn: 0.1424588\ttotal: 484ms\tremaining: 666ms\n",
      "421:\tlearn: 0.1420071\ttotal: 485ms\tremaining: 664ms\n",
      "422:\tlearn: 0.1418128\ttotal: 486ms\tremaining: 663ms\n",
      "423:\tlearn: 0.1414543\ttotal: 487ms\tremaining: 662ms\n",
      "424:\tlearn: 0.1411026\ttotal: 488ms\tremaining: 660ms\n",
      "425:\tlearn: 0.1406688\ttotal: 489ms\tremaining: 659ms\n",
      "426:\tlearn: 0.1402530\ttotal: 490ms\tremaining: 658ms\n",
      "427:\tlearn: 0.1400605\ttotal: 491ms\tremaining: 656ms\n",
      "428:\tlearn: 0.1397544\ttotal: 492ms\tremaining: 655ms\n",
      "429:\tlearn: 0.1394231\ttotal: 493ms\tremaining: 654ms\n",
      "430:\tlearn: 0.1392373\ttotal: 494ms\tremaining: 652ms\n",
      "431:\tlearn: 0.1388035\ttotal: 495ms\tremaining: 651ms\n",
      "432:\tlearn: 0.1384791\ttotal: 496ms\tremaining: 649ms\n",
      "433:\tlearn: 0.1379975\ttotal: 497ms\tremaining: 648ms\n",
      "434:\tlearn: 0.1378195\ttotal: 498ms\tremaining: 647ms\n",
      "435:\tlearn: 0.1374521\ttotal: 499ms\tremaining: 645ms\n",
      "436:\tlearn: 0.1370358\ttotal: 500ms\tremaining: 644ms\n",
      "437:\tlearn: 0.1366730\ttotal: 501ms\tremaining: 643ms\n",
      "438:\tlearn: 0.1364751\ttotal: 502ms\tremaining: 641ms\n",
      "439:\tlearn: 0.1360601\ttotal: 503ms\tremaining: 640ms\n",
      "440:\tlearn: 0.1356425\ttotal: 504ms\tremaining: 639ms\n",
      "441:\tlearn: 0.1353416\ttotal: 505ms\tremaining: 637ms\n",
      "442:\tlearn: 0.1352387\ttotal: 506ms\tremaining: 636ms\n",
      "443:\tlearn: 0.1350421\ttotal: 507ms\tremaining: 635ms\n",
      "444:\tlearn: 0.1349378\ttotal: 508ms\tremaining: 633ms\n",
      "445:\tlearn: 0.1347842\ttotal: 509ms\tremaining: 632ms\n",
      "446:\tlearn: 0.1344538\ttotal: 510ms\tremaining: 630ms\n",
      "447:\tlearn: 0.1344079\ttotal: 511ms\tremaining: 629ms\n",
      "448:\tlearn: 0.1341565\ttotal: 512ms\tremaining: 628ms\n",
      "449:\tlearn: 0.1338430\ttotal: 513ms\tremaining: 626ms\n",
      "450:\tlearn: 0.1334699\ttotal: 514ms\tremaining: 625ms\n",
      "451:\tlearn: 0.1331035\ttotal: 515ms\tremaining: 624ms\n",
      "452:\tlearn: 0.1327854\ttotal: 516ms\tremaining: 623ms\n",
      "453:\tlearn: 0.1325296\ttotal: 517ms\tremaining: 621ms\n",
      "454:\tlearn: 0.1322667\ttotal: 518ms\tremaining: 620ms\n",
      "455:\tlearn: 0.1319056\ttotal: 519ms\tremaining: 619ms\n",
      "456:\tlearn: 0.1315313\ttotal: 520ms\tremaining: 617ms\n",
      "457:\tlearn: 0.1311264\ttotal: 521ms\tremaining: 616ms\n",
      "458:\tlearn: 0.1308098\ttotal: 522ms\tremaining: 615ms\n",
      "459:\tlearn: 0.1306445\ttotal: 522ms\tremaining: 613ms\n",
      "460:\tlearn: 0.1305317\ttotal: 523ms\tremaining: 612ms\n",
      "461:\tlearn: 0.1304220\ttotal: 524ms\tremaining: 611ms\n",
      "462:\tlearn: 0.1300736\ttotal: 525ms\tremaining: 609ms\n",
      "463:\tlearn: 0.1297482\ttotal: 526ms\tremaining: 608ms\n",
      "464:\tlearn: 0.1295045\ttotal: 527ms\tremaining: 607ms\n",
      "465:\tlearn: 0.1291600\ttotal: 528ms\tremaining: 606ms\n",
      "466:\tlearn: 0.1289702\ttotal: 530ms\tremaining: 604ms\n",
      "467:\tlearn: 0.1287294\ttotal: 531ms\tremaining: 603ms\n",
      "468:\tlearn: 0.1285383\ttotal: 531ms\tremaining: 602ms\n",
      "469:\tlearn: 0.1282098\ttotal: 533ms\tremaining: 600ms\n",
      "470:\tlearn: 0.1278733\ttotal: 534ms\tremaining: 599ms\n",
      "471:\tlearn: 0.1276584\ttotal: 534ms\tremaining: 598ms\n",
      "472:\tlearn: 0.1275650\ttotal: 536ms\tremaining: 597ms\n",
      "473:\tlearn: 0.1273713\ttotal: 537ms\tremaining: 595ms\n",
      "474:\tlearn: 0.1272790\ttotal: 537ms\tremaining: 594ms\n",
      "475:\tlearn: 0.1272034\ttotal: 538ms\tremaining: 593ms\n",
      "476:\tlearn: 0.1269131\ttotal: 539ms\tremaining: 591ms\n",
      "477:\tlearn: 0.1266976\ttotal: 540ms\tremaining: 590ms\n",
      "478:\tlearn: 0.1264660\ttotal: 541ms\tremaining: 589ms\n",
      "479:\tlearn: 0.1263647\ttotal: 542ms\tremaining: 588ms\n",
      "480:\tlearn: 0.1260288\ttotal: 543ms\tremaining: 586ms\n",
      "481:\tlearn: 0.1256987\ttotal: 544ms\tremaining: 585ms\n",
      "482:\tlearn: 0.1254818\ttotal: 545ms\tremaining: 584ms\n",
      "483:\tlearn: 0.1252737\ttotal: 546ms\tremaining: 583ms\n",
      "484:\tlearn: 0.1249765\ttotal: 547ms\tremaining: 581ms\n"
     ]
    },
    {
     "name": "stdout",
     "output_type": "stream",
     "text": [
      "485:\tlearn: 0.1247568\ttotal: 548ms\tremaining: 580ms\n",
      "486:\tlearn: 0.1244520\ttotal: 550ms\tremaining: 579ms\n",
      "487:\tlearn: 0.1241531\ttotal: 551ms\tremaining: 578ms\n",
      "488:\tlearn: 0.1238951\ttotal: 552ms\tremaining: 577ms\n",
      "489:\tlearn: 0.1237393\ttotal: 553ms\tremaining: 576ms\n",
      "490:\tlearn: 0.1236453\ttotal: 554ms\tremaining: 574ms\n",
      "491:\tlearn: 0.1235943\ttotal: 555ms\tremaining: 573ms\n",
      "492:\tlearn: 0.1233256\ttotal: 556ms\tremaining: 572ms\n",
      "493:\tlearn: 0.1232772\ttotal: 557ms\tremaining: 571ms\n",
      "494:\tlearn: 0.1229587\ttotal: 558ms\tremaining: 569ms\n",
      "495:\tlearn: 0.1226922\ttotal: 559ms\tremaining: 568ms\n",
      "496:\tlearn: 0.1226268\ttotal: 560ms\tremaining: 567ms\n",
      "497:\tlearn: 0.1224636\ttotal: 561ms\tremaining: 566ms\n",
      "498:\tlearn: 0.1222692\ttotal: 562ms\tremaining: 564ms\n",
      "499:\tlearn: 0.1219885\ttotal: 563ms\tremaining: 563ms\n",
      "500:\tlearn: 0.1215627\ttotal: 564ms\tremaining: 562ms\n",
      "501:\tlearn: 0.1214567\ttotal: 565ms\tremaining: 560ms\n",
      "502:\tlearn: 0.1212683\ttotal: 566ms\tremaining: 559ms\n",
      "503:\tlearn: 0.1210061\ttotal: 567ms\tremaining: 558ms\n",
      "504:\tlearn: 0.1207071\ttotal: 568ms\tremaining: 557ms\n",
      "505:\tlearn: 0.1206263\ttotal: 569ms\tremaining: 555ms\n",
      "506:\tlearn: 0.1203532\ttotal: 570ms\tremaining: 554ms\n",
      "507:\tlearn: 0.1201362\ttotal: 571ms\tremaining: 553ms\n",
      "508:\tlearn: 0.1197392\ttotal: 572ms\tremaining: 552ms\n",
      "509:\tlearn: 0.1195489\ttotal: 573ms\tremaining: 550ms\n",
      "510:\tlearn: 0.1194116\ttotal: 574ms\tremaining: 549ms\n",
      "511:\tlearn: 0.1193217\ttotal: 575ms\tremaining: 548ms\n",
      "512:\tlearn: 0.1192523\ttotal: 576ms\tremaining: 547ms\n",
      "513:\tlearn: 0.1192086\ttotal: 577ms\tremaining: 545ms\n",
      "514:\tlearn: 0.1189514\ttotal: 578ms\tremaining: 544ms\n",
      "515:\tlearn: 0.1189078\ttotal: 580ms\tremaining: 544ms\n",
      "516:\tlearn: 0.1186521\ttotal: 581ms\tremaining: 543ms\n",
      "517:\tlearn: 0.1184840\ttotal: 583ms\tremaining: 543ms\n",
      "518:\tlearn: 0.1183279\ttotal: 584ms\tremaining: 542ms\n",
      "519:\tlearn: 0.1181474\ttotal: 585ms\tremaining: 540ms\n",
      "520:\tlearn: 0.1178241\ttotal: 586ms\tremaining: 539ms\n",
      "521:\tlearn: 0.1175452\ttotal: 587ms\tremaining: 538ms\n",
      "522:\tlearn: 0.1173840\ttotal: 588ms\tremaining: 537ms\n",
      "523:\tlearn: 0.1171011\ttotal: 589ms\tremaining: 535ms\n",
      "524:\tlearn: 0.1169144\ttotal: 590ms\tremaining: 534ms\n",
      "525:\tlearn: 0.1166963\ttotal: 591ms\tremaining: 533ms\n",
      "526:\tlearn: 0.1166402\ttotal: 592ms\tremaining: 532ms\n",
      "527:\tlearn: 0.1163510\ttotal: 593ms\tremaining: 530ms\n",
      "528:\tlearn: 0.1162464\ttotal: 594ms\tremaining: 529ms\n",
      "529:\tlearn: 0.1160751\ttotal: 595ms\tremaining: 528ms\n",
      "530:\tlearn: 0.1159369\ttotal: 596ms\tremaining: 527ms\n",
      "531:\tlearn: 0.1155442\ttotal: 597ms\tremaining: 525ms\n",
      "532:\tlearn: 0.1153051\ttotal: 598ms\tremaining: 524ms\n",
      "533:\tlearn: 0.1152578\ttotal: 599ms\tremaining: 523ms\n",
      "534:\tlearn: 0.1151136\ttotal: 600ms\tremaining: 522ms\n",
      "535:\tlearn: 0.1149094\ttotal: 601ms\tremaining: 520ms\n",
      "536:\tlearn: 0.1146500\ttotal: 602ms\tremaining: 519ms\n",
      "537:\tlearn: 0.1144039\ttotal: 603ms\tremaining: 518ms\n",
      "538:\tlearn: 0.1141991\ttotal: 604ms\tremaining: 517ms\n",
      "539:\tlearn: 0.1140610\ttotal: 605ms\tremaining: 516ms\n",
      "540:\tlearn: 0.1138721\ttotal: 606ms\tremaining: 515ms\n",
      "541:\tlearn: 0.1137905\ttotal: 607ms\tremaining: 513ms\n",
      "542:\tlearn: 0.1136540\ttotal: 609ms\tremaining: 512ms\n",
      "543:\tlearn: 0.1134361\ttotal: 610ms\tremaining: 511ms\n",
      "544:\tlearn: 0.1133048\ttotal: 611ms\tremaining: 510ms\n",
      "545:\tlearn: 0.1132656\ttotal: 612ms\tremaining: 509ms\n",
      "546:\tlearn: 0.1130028\ttotal: 613ms\tremaining: 507ms\n",
      "547:\tlearn: 0.1128161\ttotal: 614ms\tremaining: 506ms\n",
      "548:\tlearn: 0.1124417\ttotal: 615ms\tremaining: 505ms\n",
      "549:\tlearn: 0.1121804\ttotal: 616ms\tremaining: 504ms\n",
      "550:\tlearn: 0.1120412\ttotal: 617ms\tremaining: 503ms\n",
      "551:\tlearn: 0.1118111\ttotal: 618ms\tremaining: 501ms\n",
      "552:\tlearn: 0.1116996\ttotal: 619ms\tremaining: 500ms\n",
      "553:\tlearn: 0.1114597\ttotal: 620ms\tremaining: 499ms\n",
      "554:\tlearn: 0.1114236\ttotal: 621ms\tremaining: 498ms\n",
      "555:\tlearn: 0.1112815\ttotal: 622ms\tremaining: 496ms\n",
      "556:\tlearn: 0.1109859\ttotal: 623ms\tremaining: 495ms\n",
      "557:\tlearn: 0.1107276\ttotal: 624ms\tremaining: 494ms\n",
      "558:\tlearn: 0.1104604\ttotal: 625ms\tremaining: 493ms\n",
      "559:\tlearn: 0.1103075\ttotal: 626ms\tremaining: 492ms\n",
      "560:\tlearn: 0.1102463\ttotal: 627ms\tremaining: 490ms\n",
      "561:\tlearn: 0.1100834\ttotal: 628ms\tremaining: 489ms\n",
      "562:\tlearn: 0.1098822\ttotal: 629ms\tremaining: 488ms\n",
      "563:\tlearn: 0.1096342\ttotal: 630ms\tremaining: 487ms\n",
      "564:\tlearn: 0.1094243\ttotal: 631ms\tremaining: 486ms\n",
      "565:\tlearn: 0.1093415\ttotal: 632ms\tremaining: 484ms\n",
      "566:\tlearn: 0.1091836\ttotal: 633ms\tremaining: 483ms\n",
      "567:\tlearn: 0.1089753\ttotal: 634ms\tremaining: 482ms\n",
      "568:\tlearn: 0.1088103\ttotal: 635ms\tremaining: 481ms\n",
      "569:\tlearn: 0.1086285\ttotal: 636ms\tremaining: 480ms\n",
      "570:\tlearn: 0.1084488\ttotal: 637ms\tremaining: 479ms\n",
      "571:\tlearn: 0.1081641\ttotal: 638ms\tremaining: 477ms\n",
      "572:\tlearn: 0.1080195\ttotal: 639ms\tremaining: 476ms\n",
      "573:\tlearn: 0.1078584\ttotal: 640ms\tremaining: 475ms\n",
      "574:\tlearn: 0.1076349\ttotal: 641ms\tremaining: 474ms\n",
      "575:\tlearn: 0.1073482\ttotal: 642ms\tremaining: 473ms\n",
      "576:\tlearn: 0.1070451\ttotal: 643ms\tremaining: 471ms\n",
      "577:\tlearn: 0.1069024\ttotal: 644ms\tremaining: 470ms\n",
      "578:\tlearn: 0.1067392\ttotal: 645ms\tremaining: 469ms\n",
      "579:\tlearn: 0.1066700\ttotal: 646ms\tremaining: 468ms\n",
      "580:\tlearn: 0.1064256\ttotal: 647ms\tremaining: 467ms\n",
      "581:\tlearn: 0.1062576\ttotal: 648ms\tremaining: 465ms\n",
      "582:\tlearn: 0.1059983\ttotal: 649ms\tremaining: 464ms\n",
      "583:\tlearn: 0.1056825\ttotal: 650ms\tremaining: 463ms\n",
      "584:\tlearn: 0.1054643\ttotal: 651ms\tremaining: 462ms\n",
      "585:\tlearn: 0.1054016\ttotal: 652ms\tremaining: 461ms\n",
      "586:\tlearn: 0.1052135\ttotal: 653ms\tremaining: 460ms\n",
      "587:\tlearn: 0.1051429\ttotal: 654ms\tremaining: 458ms\n",
      "588:\tlearn: 0.1050712\ttotal: 655ms\tremaining: 457ms\n",
      "589:\tlearn: 0.1049190\ttotal: 656ms\tremaining: 456ms\n",
      "590:\tlearn: 0.1047077\ttotal: 657ms\tremaining: 455ms\n",
      "591:\tlearn: 0.1044170\ttotal: 658ms\tremaining: 454ms\n",
      "592:\tlearn: 0.1042874\ttotal: 659ms\tremaining: 453ms\n",
      "593:\tlearn: 0.1041800\ttotal: 660ms\tremaining: 451ms\n",
      "594:\tlearn: 0.1039526\ttotal: 661ms\tremaining: 450ms\n",
      "595:\tlearn: 0.1038475\ttotal: 662ms\tremaining: 449ms\n",
      "596:\tlearn: 0.1037357\ttotal: 663ms\tremaining: 448ms\n",
      "597:\tlearn: 0.1036717\ttotal: 664ms\tremaining: 447ms\n",
      "598:\tlearn: 0.1036040\ttotal: 665ms\tremaining: 445ms\n",
      "599:\tlearn: 0.1034811\ttotal: 666ms\tremaining: 444ms\n",
      "600:\tlearn: 0.1033368\ttotal: 667ms\tremaining: 443ms\n",
      "601:\tlearn: 0.1030344\ttotal: 668ms\tremaining: 442ms\n",
      "602:\tlearn: 0.1028829\ttotal: 669ms\tremaining: 441ms\n",
      "603:\tlearn: 0.1028107\ttotal: 670ms\tremaining: 440ms\n",
      "604:\tlearn: 0.1026867\ttotal: 671ms\tremaining: 438ms\n",
      "605:\tlearn: 0.1025865\ttotal: 673ms\tremaining: 437ms\n",
      "606:\tlearn: 0.1025016\ttotal: 674ms\tremaining: 436ms\n",
      "607:\tlearn: 0.1023180\ttotal: 675ms\tremaining: 435ms\n",
      "608:\tlearn: 0.1021385\ttotal: 676ms\tremaining: 434ms\n",
      "609:\tlearn: 0.1020814\ttotal: 677ms\tremaining: 433ms\n",
      "610:\tlearn: 0.1019008\ttotal: 678ms\tremaining: 431ms\n",
      "611:\tlearn: 0.1017364\ttotal: 679ms\tremaining: 430ms\n",
      "612:\tlearn: 0.1015146\ttotal: 680ms\tremaining: 429ms\n",
      "613:\tlearn: 0.1014685\ttotal: 681ms\tremaining: 428ms\n",
      "614:\tlearn: 0.1013200\ttotal: 682ms\tremaining: 427ms\n",
      "615:\tlearn: 0.1010014\ttotal: 683ms\tremaining: 426ms\n"
     ]
    },
    {
     "name": "stdout",
     "output_type": "stream",
     "text": [
      "616:\tlearn: 0.1007578\ttotal: 684ms\tremaining: 424ms\n",
      "617:\tlearn: 0.1006239\ttotal: 685ms\tremaining: 423ms\n",
      "618:\tlearn: 0.1005696\ttotal: 686ms\tremaining: 422ms\n",
      "619:\tlearn: 0.1004764\ttotal: 687ms\tremaining: 421ms\n",
      "620:\tlearn: 0.1002249\ttotal: 688ms\tremaining: 420ms\n",
      "621:\tlearn: 0.1000852\ttotal: 689ms\tremaining: 419ms\n",
      "622:\tlearn: 0.0998988\ttotal: 690ms\tremaining: 418ms\n",
      "623:\tlearn: 0.0997459\ttotal: 691ms\tremaining: 416ms\n",
      "624:\tlearn: 0.0995324\ttotal: 692ms\tremaining: 415ms\n",
      "625:\tlearn: 0.0994040\ttotal: 693ms\tremaining: 414ms\n",
      "626:\tlearn: 0.0992933\ttotal: 694ms\tremaining: 413ms\n",
      "627:\tlearn: 0.0990812\ttotal: 695ms\tremaining: 412ms\n",
      "628:\tlearn: 0.0988926\ttotal: 696ms\tremaining: 411ms\n",
      "629:\tlearn: 0.0985557\ttotal: 697ms\tremaining: 409ms\n",
      "630:\tlearn: 0.0983586\ttotal: 698ms\tremaining: 408ms\n",
      "631:\tlearn: 0.0982443\ttotal: 699ms\tremaining: 407ms\n",
      "632:\tlearn: 0.0981509\ttotal: 700ms\tremaining: 406ms\n",
      "633:\tlearn: 0.0979342\ttotal: 701ms\tremaining: 405ms\n",
      "634:\tlearn: 0.0978003\ttotal: 702ms\tremaining: 404ms\n",
      "635:\tlearn: 0.0976044\ttotal: 703ms\tremaining: 403ms\n",
      "636:\tlearn: 0.0973360\ttotal: 704ms\tremaining: 401ms\n",
      "637:\tlearn: 0.0971655\ttotal: 705ms\tremaining: 400ms\n",
      "638:\tlearn: 0.0969683\ttotal: 706ms\tremaining: 399ms\n",
      "639:\tlearn: 0.0967511\ttotal: 707ms\tremaining: 398ms\n",
      "640:\tlearn: 0.0966018\ttotal: 708ms\tremaining: 397ms\n",
      "641:\tlearn: 0.0965396\ttotal: 709ms\tremaining: 396ms\n",
      "642:\tlearn: 0.0962761\ttotal: 710ms\tremaining: 394ms\n",
      "643:\tlearn: 0.0962357\ttotal: 711ms\tremaining: 393ms\n",
      "644:\tlearn: 0.0960375\ttotal: 712ms\tremaining: 392ms\n",
      "645:\tlearn: 0.0958757\ttotal: 713ms\tremaining: 391ms\n",
      "646:\tlearn: 0.0957884\ttotal: 714ms\tremaining: 390ms\n",
      "647:\tlearn: 0.0956545\ttotal: 715ms\tremaining: 389ms\n",
      "648:\tlearn: 0.0955909\ttotal: 716ms\tremaining: 387ms\n",
      "649:\tlearn: 0.0954036\ttotal: 717ms\tremaining: 386ms\n",
      "650:\tlearn: 0.0953033\ttotal: 718ms\tremaining: 385ms\n",
      "651:\tlearn: 0.0951822\ttotal: 719ms\tremaining: 384ms\n",
      "652:\tlearn: 0.0950490\ttotal: 720ms\tremaining: 383ms\n",
      "653:\tlearn: 0.0949370\ttotal: 721ms\tremaining: 382ms\n",
      "654:\tlearn: 0.0948555\ttotal: 722ms\tremaining: 380ms\n",
      "655:\tlearn: 0.0947347\ttotal: 723ms\tremaining: 379ms\n",
      "656:\tlearn: 0.0946675\ttotal: 724ms\tremaining: 378ms\n",
      "657:\tlearn: 0.0944022\ttotal: 725ms\tremaining: 377ms\n",
      "658:\tlearn: 0.0941821\ttotal: 726ms\tremaining: 376ms\n",
      "659:\tlearn: 0.0939588\ttotal: 727ms\tremaining: 375ms\n",
      "660:\tlearn: 0.0937336\ttotal: 728ms\tremaining: 374ms\n",
      "661:\tlearn: 0.0936177\ttotal: 729ms\tremaining: 372ms\n",
      "662:\tlearn: 0.0933288\ttotal: 731ms\tremaining: 371ms\n",
      "663:\tlearn: 0.0932515\ttotal: 732ms\tremaining: 370ms\n",
      "664:\tlearn: 0.0930878\ttotal: 733ms\tremaining: 369ms\n",
      "665:\tlearn: 0.0929166\ttotal: 734ms\tremaining: 368ms\n",
      "666:\tlearn: 0.0927762\ttotal: 735ms\tremaining: 367ms\n",
      "667:\tlearn: 0.0925734\ttotal: 736ms\tremaining: 366ms\n",
      "668:\tlearn: 0.0924916\ttotal: 737ms\tremaining: 365ms\n",
      "669:\tlearn: 0.0922876\ttotal: 738ms\tremaining: 363ms\n",
      "670:\tlearn: 0.0921571\ttotal: 739ms\tremaining: 362ms\n",
      "671:\tlearn: 0.0919529\ttotal: 740ms\tremaining: 361ms\n",
      "672:\tlearn: 0.0917391\ttotal: 741ms\tremaining: 360ms\n",
      "673:\tlearn: 0.0915834\ttotal: 742ms\tremaining: 359ms\n",
      "674:\tlearn: 0.0914661\ttotal: 743ms\tremaining: 358ms\n",
      "675:\tlearn: 0.0912313\ttotal: 744ms\tremaining: 357ms\n",
      "676:\tlearn: 0.0911708\ttotal: 745ms\tremaining: 355ms\n",
      "677:\tlearn: 0.0910111\ttotal: 746ms\tremaining: 354ms\n",
      "678:\tlearn: 0.0908379\ttotal: 747ms\tremaining: 353ms\n",
      "679:\tlearn: 0.0907713\ttotal: 748ms\tremaining: 352ms\n",
      "680:\tlearn: 0.0907003\ttotal: 749ms\tremaining: 351ms\n",
      "681:\tlearn: 0.0906352\ttotal: 750ms\tremaining: 350ms\n",
      "682:\tlearn: 0.0904852\ttotal: 751ms\tremaining: 349ms\n",
      "683:\tlearn: 0.0904106\ttotal: 752ms\tremaining: 347ms\n",
      "684:\tlearn: 0.0903568\ttotal: 753ms\tremaining: 346ms\n",
      "685:\tlearn: 0.0902298\ttotal: 754ms\tremaining: 345ms\n",
      "686:\tlearn: 0.0902098\ttotal: 755ms\tremaining: 344ms\n",
      "687:\tlearn: 0.0900514\ttotal: 756ms\tremaining: 343ms\n",
      "688:\tlearn: 0.0898630\ttotal: 757ms\tremaining: 342ms\n",
      "689:\tlearn: 0.0897340\ttotal: 758ms\tremaining: 341ms\n",
      "690:\tlearn: 0.0894843\ttotal: 759ms\tremaining: 339ms\n",
      "691:\tlearn: 0.0894253\ttotal: 760ms\tremaining: 338ms\n",
      "692:\tlearn: 0.0892195\ttotal: 761ms\tremaining: 337ms\n",
      "693:\tlearn: 0.0891918\ttotal: 762ms\tremaining: 336ms\n",
      "694:\tlearn: 0.0891389\ttotal: 763ms\tremaining: 335ms\n",
      "695:\tlearn: 0.0891226\ttotal: 764ms\tremaining: 334ms\n",
      "696:\tlearn: 0.0890362\ttotal: 765ms\tremaining: 333ms\n",
      "697:\tlearn: 0.0887878\ttotal: 766ms\tremaining: 332ms\n",
      "698:\tlearn: 0.0885869\ttotal: 767ms\tremaining: 330ms\n",
      "699:\tlearn: 0.0883396\ttotal: 768ms\tremaining: 329ms\n",
      "700:\tlearn: 0.0880974\ttotal: 769ms\tremaining: 328ms\n",
      "701:\tlearn: 0.0879536\ttotal: 770ms\tremaining: 327ms\n",
      "702:\tlearn: 0.0877758\ttotal: 771ms\tremaining: 326ms\n",
      "703:\tlearn: 0.0877005\ttotal: 772ms\tremaining: 325ms\n",
      "704:\tlearn: 0.0875542\ttotal: 773ms\tremaining: 324ms\n",
      "705:\tlearn: 0.0874182\ttotal: 774ms\tremaining: 322ms\n",
      "706:\tlearn: 0.0873194\ttotal: 775ms\tremaining: 321ms\n",
      "707:\tlearn: 0.0871658\ttotal: 776ms\tremaining: 320ms\n",
      "708:\tlearn: 0.0869982\ttotal: 777ms\tremaining: 319ms\n",
      "709:\tlearn: 0.0868566\ttotal: 778ms\tremaining: 318ms\n",
      "710:\tlearn: 0.0866793\ttotal: 779ms\tremaining: 317ms\n",
      "711:\tlearn: 0.0866393\ttotal: 780ms\tremaining: 316ms\n",
      "712:\tlearn: 0.0865660\ttotal: 781ms\tremaining: 314ms\n",
      "713:\tlearn: 0.0864499\ttotal: 782ms\tremaining: 313ms\n",
      "714:\tlearn: 0.0862727\ttotal: 783ms\tremaining: 312ms\n",
      "715:\tlearn: 0.0860599\ttotal: 784ms\tremaining: 311ms\n",
      "716:\tlearn: 0.0858610\ttotal: 785ms\tremaining: 310ms\n",
      "717:\tlearn: 0.0857343\ttotal: 786ms\tremaining: 309ms\n",
      "718:\tlearn: 0.0856874\ttotal: 787ms\tremaining: 308ms\n",
      "719:\tlearn: 0.0856184\ttotal: 788ms\tremaining: 306ms\n",
      "720:\tlearn: 0.0855485\ttotal: 789ms\tremaining: 305ms\n",
      "721:\tlearn: 0.0855147\ttotal: 790ms\tremaining: 304ms\n",
      "722:\tlearn: 0.0854803\ttotal: 791ms\tremaining: 303ms\n",
      "723:\tlearn: 0.0852480\ttotal: 792ms\tremaining: 302ms\n",
      "724:\tlearn: 0.0850782\ttotal: 793ms\tremaining: 301ms\n",
      "725:\tlearn: 0.0848999\ttotal: 794ms\tremaining: 299ms\n",
      "726:\tlearn: 0.0848849\ttotal: 795ms\tremaining: 298ms\n",
      "727:\tlearn: 0.0847499\ttotal: 796ms\tremaining: 297ms\n",
      "728:\tlearn: 0.0845711\ttotal: 797ms\tremaining: 296ms\n",
      "729:\tlearn: 0.0843794\ttotal: 798ms\tremaining: 295ms\n",
      "730:\tlearn: 0.0842076\ttotal: 799ms\tremaining: 294ms\n",
      "731:\tlearn: 0.0839763\ttotal: 800ms\tremaining: 293ms\n",
      "732:\tlearn: 0.0838799\ttotal: 800ms\tremaining: 292ms\n",
      "733:\tlearn: 0.0838024\ttotal: 801ms\tremaining: 290ms\n",
      "734:\tlearn: 0.0837087\ttotal: 802ms\tremaining: 289ms\n",
      "735:\tlearn: 0.0836051\ttotal: 803ms\tremaining: 288ms\n",
      "736:\tlearn: 0.0835881\ttotal: 804ms\tremaining: 287ms\n",
      "737:\tlearn: 0.0834654\ttotal: 805ms\tremaining: 286ms\n",
      "738:\tlearn: 0.0833493\ttotal: 806ms\tremaining: 285ms\n",
      "739:\tlearn: 0.0831691\ttotal: 807ms\tremaining: 284ms\n",
      "740:\tlearn: 0.0830213\ttotal: 808ms\tremaining: 282ms\n",
      "741:\tlearn: 0.0829003\ttotal: 809ms\tremaining: 281ms\n",
      "742:\tlearn: 0.0826988\ttotal: 810ms\tremaining: 280ms\n",
      "743:\tlearn: 0.0825509\ttotal: 811ms\tremaining: 279ms\n",
      "744:\tlearn: 0.0823755\ttotal: 812ms\tremaining: 278ms\n",
      "745:\tlearn: 0.0822377\ttotal: 813ms\tremaining: 277ms\n",
      "746:\tlearn: 0.0821168\ttotal: 814ms\tremaining: 276ms\n",
      "747:\tlearn: 0.0820266\ttotal: 815ms\tremaining: 275ms\n",
      "748:\tlearn: 0.0818582\ttotal: 816ms\tremaining: 273ms\n",
      "749:\tlearn: 0.0816871\ttotal: 817ms\tremaining: 272ms\n",
      "750:\tlearn: 0.0815983\ttotal: 818ms\tremaining: 271ms\n"
     ]
    },
    {
     "name": "stdout",
     "output_type": "stream",
     "text": [
      "751:\tlearn: 0.0814439\ttotal: 819ms\tremaining: 270ms\n",
      "752:\tlearn: 0.0812322\ttotal: 820ms\tremaining: 269ms\n",
      "753:\tlearn: 0.0811963\ttotal: 821ms\tremaining: 268ms\n",
      "754:\tlearn: 0.0810058\ttotal: 822ms\tremaining: 267ms\n",
      "755:\tlearn: 0.0809206\ttotal: 823ms\tremaining: 266ms\n",
      "756:\tlearn: 0.0807790\ttotal: 824ms\tremaining: 265ms\n",
      "757:\tlearn: 0.0806521\ttotal: 825ms\tremaining: 263ms\n",
      "758:\tlearn: 0.0804529\ttotal: 826ms\tremaining: 262ms\n",
      "759:\tlearn: 0.0803184\ttotal: 827ms\tremaining: 261ms\n",
      "760:\tlearn: 0.0801990\ttotal: 828ms\tremaining: 260ms\n",
      "761:\tlearn: 0.0801469\ttotal: 829ms\tremaining: 259ms\n",
      "762:\tlearn: 0.0799842\ttotal: 830ms\tremaining: 258ms\n",
      "763:\tlearn: 0.0797467\ttotal: 831ms\tremaining: 257ms\n",
      "764:\tlearn: 0.0795369\ttotal: 832ms\tremaining: 256ms\n",
      "765:\tlearn: 0.0793258\ttotal: 833ms\tremaining: 254ms\n",
      "766:\tlearn: 0.0791988\ttotal: 834ms\tremaining: 253ms\n",
      "767:\tlearn: 0.0791767\ttotal: 835ms\tremaining: 252ms\n",
      "768:\tlearn: 0.0790719\ttotal: 836ms\tremaining: 251ms\n",
      "769:\tlearn: 0.0789136\ttotal: 837ms\tremaining: 250ms\n",
      "770:\tlearn: 0.0788001\ttotal: 838ms\tremaining: 249ms\n",
      "771:\tlearn: 0.0786690\ttotal: 839ms\tremaining: 248ms\n",
      "772:\tlearn: 0.0785377\ttotal: 840ms\tremaining: 247ms\n",
      "773:\tlearn: 0.0783624\ttotal: 841ms\tremaining: 245ms\n",
      "774:\tlearn: 0.0782428\ttotal: 842ms\tremaining: 244ms\n",
      "775:\tlearn: 0.0780383\ttotal: 842ms\tremaining: 243ms\n",
      "776:\tlearn: 0.0779192\ttotal: 844ms\tremaining: 242ms\n",
      "777:\tlearn: 0.0776942\ttotal: 844ms\tremaining: 241ms\n",
      "778:\tlearn: 0.0775560\ttotal: 845ms\tremaining: 240ms\n",
      "779:\tlearn: 0.0774759\ttotal: 846ms\tremaining: 239ms\n",
      "780:\tlearn: 0.0773813\ttotal: 847ms\tremaining: 238ms\n",
      "781:\tlearn: 0.0772391\ttotal: 848ms\tremaining: 236ms\n",
      "782:\tlearn: 0.0771334\ttotal: 849ms\tremaining: 235ms\n",
      "783:\tlearn: 0.0770271\ttotal: 850ms\tremaining: 234ms\n",
      "784:\tlearn: 0.0768993\ttotal: 851ms\tremaining: 233ms\n",
      "785:\tlearn: 0.0768338\ttotal: 852ms\tremaining: 232ms\n",
      "786:\tlearn: 0.0767359\ttotal: 853ms\tremaining: 231ms\n",
      "787:\tlearn: 0.0766623\ttotal: 854ms\tremaining: 230ms\n",
      "788:\tlearn: 0.0764710\ttotal: 855ms\tremaining: 229ms\n",
      "789:\tlearn: 0.0762849\ttotal: 856ms\tremaining: 228ms\n",
      "790:\tlearn: 0.0762557\ttotal: 857ms\tremaining: 226ms\n",
      "791:\tlearn: 0.0762295\ttotal: 858ms\tremaining: 225ms\n",
      "792:\tlearn: 0.0760714\ttotal: 859ms\tremaining: 224ms\n",
      "793:\tlearn: 0.0759309\ttotal: 860ms\tremaining: 223ms\n",
      "794:\tlearn: 0.0759063\ttotal: 861ms\tremaining: 222ms\n",
      "795:\tlearn: 0.0757634\ttotal: 862ms\tremaining: 221ms\n",
      "796:\tlearn: 0.0755988\ttotal: 863ms\tremaining: 220ms\n",
      "797:\tlearn: 0.0754662\ttotal: 864ms\tremaining: 219ms\n",
      "798:\tlearn: 0.0753753\ttotal: 865ms\tremaining: 218ms\n",
      "799:\tlearn: 0.0753475\ttotal: 866ms\tremaining: 217ms\n",
      "800:\tlearn: 0.0752176\ttotal: 867ms\tremaining: 215ms\n",
      "801:\tlearn: 0.0751624\ttotal: 868ms\tremaining: 214ms\n",
      "802:\tlearn: 0.0750189\ttotal: 869ms\tremaining: 213ms\n",
      "803:\tlearn: 0.0750042\ttotal: 870ms\tremaining: 212ms\n",
      "804:\tlearn: 0.0749736\ttotal: 871ms\tremaining: 211ms\n",
      "805:\tlearn: 0.0748564\ttotal: 872ms\tremaining: 210ms\n",
      "806:\tlearn: 0.0747381\ttotal: 873ms\tremaining: 209ms\n",
      "807:\tlearn: 0.0746201\ttotal: 874ms\tremaining: 208ms\n",
      "808:\tlearn: 0.0745532\ttotal: 875ms\tremaining: 207ms\n",
      "809:\tlearn: 0.0744631\ttotal: 876ms\tremaining: 205ms\n",
      "810:\tlearn: 0.0742861\ttotal: 877ms\tremaining: 204ms\n",
      "811:\tlearn: 0.0742611\ttotal: 878ms\tremaining: 203ms\n",
      "812:\tlearn: 0.0740743\ttotal: 879ms\tremaining: 202ms\n",
      "813:\tlearn: 0.0739219\ttotal: 880ms\tremaining: 201ms\n",
      "814:\tlearn: 0.0737906\ttotal: 881ms\tremaining: 200ms\n",
      "815:\tlearn: 0.0737768\ttotal: 882ms\tremaining: 199ms\n",
      "816:\tlearn: 0.0736397\ttotal: 883ms\tremaining: 198ms\n",
      "817:\tlearn: 0.0735646\ttotal: 884ms\tremaining: 197ms\n",
      "818:\tlearn: 0.0735027\ttotal: 885ms\tremaining: 196ms\n",
      "819:\tlearn: 0.0733664\ttotal: 886ms\tremaining: 194ms\n",
      "820:\tlearn: 0.0733465\ttotal: 887ms\tremaining: 193ms\n",
      "821:\tlearn: 0.0733329\ttotal: 888ms\tremaining: 192ms\n",
      "822:\tlearn: 0.0733186\ttotal: 889ms\tremaining: 191ms\n",
      "823:\tlearn: 0.0732273\ttotal: 890ms\tremaining: 190ms\n",
      "824:\tlearn: 0.0731169\ttotal: 891ms\tremaining: 189ms\n",
      "825:\tlearn: 0.0729880\ttotal: 892ms\tremaining: 188ms\n",
      "826:\tlearn: 0.0729582\ttotal: 893ms\tremaining: 187ms\n",
      "827:\tlearn: 0.0728112\ttotal: 894ms\tremaining: 186ms\n",
      "828:\tlearn: 0.0727121\ttotal: 895ms\tremaining: 185ms\n",
      "829:\tlearn: 0.0726183\ttotal: 896ms\tremaining: 183ms\n",
      "830:\tlearn: 0.0725187\ttotal: 897ms\tremaining: 182ms\n",
      "831:\tlearn: 0.0724063\ttotal: 898ms\tremaining: 181ms\n",
      "832:\tlearn: 0.0723231\ttotal: 899ms\tremaining: 180ms\n",
      "833:\tlearn: 0.0721749\ttotal: 900ms\tremaining: 179ms\n",
      "834:\tlearn: 0.0720222\ttotal: 901ms\tremaining: 178ms\n",
      "835:\tlearn: 0.0718534\ttotal: 902ms\tremaining: 177ms\n",
      "836:\tlearn: 0.0717626\ttotal: 903ms\tremaining: 176ms\n",
      "837:\tlearn: 0.0716410\ttotal: 904ms\tremaining: 175ms\n",
      "838:\tlearn: 0.0716003\ttotal: 905ms\tremaining: 174ms\n",
      "839:\tlearn: 0.0714988\ttotal: 906ms\tremaining: 173ms\n",
      "840:\tlearn: 0.0713830\ttotal: 907ms\tremaining: 171ms\n",
      "841:\tlearn: 0.0713032\ttotal: 908ms\tremaining: 170ms\n",
      "842:\tlearn: 0.0711641\ttotal: 909ms\tremaining: 169ms\n",
      "843:\tlearn: 0.0711324\ttotal: 910ms\tremaining: 168ms\n",
      "844:\tlearn: 0.0709985\ttotal: 911ms\tremaining: 167ms\n",
      "845:\tlearn: 0.0708435\ttotal: 912ms\tremaining: 166ms\n",
      "846:\tlearn: 0.0706728\ttotal: 913ms\tremaining: 165ms\n",
      "847:\tlearn: 0.0705728\ttotal: 914ms\tremaining: 164ms\n",
      "848:\tlearn: 0.0704759\ttotal: 915ms\tremaining: 163ms\n",
      "849:\tlearn: 0.0703380\ttotal: 916ms\tremaining: 162ms\n",
      "850:\tlearn: 0.0702599\ttotal: 917ms\tremaining: 161ms\n",
      "851:\tlearn: 0.0701986\ttotal: 918ms\tremaining: 160ms\n",
      "852:\tlearn: 0.0701156\ttotal: 919ms\tremaining: 158ms\n",
      "853:\tlearn: 0.0700286\ttotal: 920ms\tremaining: 157ms\n",
      "854:\tlearn: 0.0699422\ttotal: 921ms\tremaining: 156ms\n",
      "855:\tlearn: 0.0697641\ttotal: 922ms\tremaining: 155ms\n",
      "856:\tlearn: 0.0697324\ttotal: 923ms\tremaining: 154ms\n",
      "857:\tlearn: 0.0696583\ttotal: 924ms\tremaining: 153ms\n",
      "858:\tlearn: 0.0695454\ttotal: 925ms\tremaining: 152ms\n",
      "859:\tlearn: 0.0694702\ttotal: 926ms\tremaining: 151ms\n",
      "860:\tlearn: 0.0692985\ttotal: 927ms\tremaining: 150ms\n",
      "861:\tlearn: 0.0691513\ttotal: 928ms\tremaining: 149ms\n",
      "862:\tlearn: 0.0690309\ttotal: 929ms\tremaining: 147ms\n",
      "863:\tlearn: 0.0689458\ttotal: 930ms\tremaining: 146ms\n",
      "864:\tlearn: 0.0688902\ttotal: 931ms\tremaining: 145ms\n",
      "865:\tlearn: 0.0687778\ttotal: 932ms\tremaining: 144ms\n",
      "866:\tlearn: 0.0686771\ttotal: 933ms\tremaining: 143ms\n",
      "867:\tlearn: 0.0685874\ttotal: 934ms\tremaining: 142ms\n",
      "868:\tlearn: 0.0685146\ttotal: 935ms\tremaining: 141ms\n",
      "869:\tlearn: 0.0684747\ttotal: 936ms\tremaining: 140ms\n",
      "870:\tlearn: 0.0683585\ttotal: 937ms\tremaining: 139ms\n",
      "871:\tlearn: 0.0682832\ttotal: 938ms\tremaining: 138ms\n",
      "872:\tlearn: 0.0681657\ttotal: 939ms\tremaining: 137ms\n",
      "873:\tlearn: 0.0680677\ttotal: 940ms\tremaining: 136ms\n",
      "874:\tlearn: 0.0679630\ttotal: 941ms\tremaining: 134ms\n",
      "875:\tlearn: 0.0678503\ttotal: 942ms\tremaining: 133ms\n",
      "876:\tlearn: 0.0678106\ttotal: 943ms\tremaining: 132ms\n",
      "877:\tlearn: 0.0677550\ttotal: 944ms\tremaining: 131ms\n",
      "878:\tlearn: 0.0676651\ttotal: 945ms\tremaining: 130ms\n",
      "879:\tlearn: 0.0675370\ttotal: 946ms\tremaining: 129ms\n",
      "880:\tlearn: 0.0674182\ttotal: 947ms\tremaining: 128ms\n",
      "881:\tlearn: 0.0673499\ttotal: 948ms\tremaining: 127ms\n",
      "882:\tlearn: 0.0673059\ttotal: 949ms\tremaining: 126ms\n",
      "883:\tlearn: 0.0671956\ttotal: 950ms\tremaining: 125ms\n",
      "884:\tlearn: 0.0671778\ttotal: 951ms\tremaining: 124ms\n",
      "885:\tlearn: 0.0670685\ttotal: 952ms\tremaining: 122ms\n",
      "886:\tlearn: 0.0670553\ttotal: 953ms\tremaining: 121ms\n",
      "887:\tlearn: 0.0669443\ttotal: 954ms\tremaining: 120ms\n",
      "888:\tlearn: 0.0668137\ttotal: 955ms\tremaining: 119ms\n"
     ]
    },
    {
     "name": "stdout",
     "output_type": "stream",
     "text": [
      "889:\tlearn: 0.0666628\ttotal: 957ms\tremaining: 118ms\n",
      "890:\tlearn: 0.0665842\ttotal: 958ms\tremaining: 117ms\n",
      "891:\tlearn: 0.0664878\ttotal: 959ms\tremaining: 116ms\n",
      "892:\tlearn: 0.0663558\ttotal: 960ms\tremaining: 115ms\n",
      "893:\tlearn: 0.0663013\ttotal: 962ms\tremaining: 114ms\n",
      "894:\tlearn: 0.0661359\ttotal: 963ms\tremaining: 113ms\n",
      "895:\tlearn: 0.0660256\ttotal: 964ms\tremaining: 112ms\n",
      "896:\tlearn: 0.0659311\ttotal: 965ms\tremaining: 111ms\n",
      "897:\tlearn: 0.0657956\ttotal: 966ms\tremaining: 110ms\n",
      "898:\tlearn: 0.0657144\ttotal: 967ms\tremaining: 109ms\n",
      "899:\tlearn: 0.0656326\ttotal: 968ms\tremaining: 108ms\n",
      "900:\tlearn: 0.0655271\ttotal: 969ms\tremaining: 107ms\n",
      "901:\tlearn: 0.0654405\ttotal: 971ms\tremaining: 105ms\n",
      "902:\tlearn: 0.0653666\ttotal: 972ms\tremaining: 104ms\n",
      "903:\tlearn: 0.0652456\ttotal: 973ms\tremaining: 103ms\n",
      "904:\tlearn: 0.0651624\ttotal: 974ms\tremaining: 102ms\n",
      "905:\tlearn: 0.0651219\ttotal: 975ms\tremaining: 101ms\n",
      "906:\tlearn: 0.0649891\ttotal: 976ms\tremaining: 100ms\n",
      "907:\tlearn: 0.0649519\ttotal: 977ms\tremaining: 99ms\n",
      "908:\tlearn: 0.0648413\ttotal: 978ms\tremaining: 97.9ms\n",
      "909:\tlearn: 0.0647340\ttotal: 979ms\tremaining: 96.9ms\n",
      "910:\tlearn: 0.0646413\ttotal: 981ms\tremaining: 95.8ms\n",
      "911:\tlearn: 0.0644570\ttotal: 982ms\tremaining: 94.7ms\n",
      "912:\tlearn: 0.0643829\ttotal: 983ms\tremaining: 93.6ms\n",
      "913:\tlearn: 0.0643435\ttotal: 984ms\tremaining: 92.6ms\n",
      "914:\tlearn: 0.0642285\ttotal: 985ms\tremaining: 91.5ms\n",
      "915:\tlearn: 0.0641310\ttotal: 986ms\tremaining: 90.4ms\n",
      "916:\tlearn: 0.0640066\ttotal: 987ms\tremaining: 89.3ms\n",
      "917:\tlearn: 0.0638824\ttotal: 988ms\tremaining: 88.3ms\n",
      "918:\tlearn: 0.0638244\ttotal: 989ms\tremaining: 87.2ms\n",
      "919:\tlearn: 0.0637485\ttotal: 990ms\tremaining: 86.1ms\n",
      "920:\tlearn: 0.0636742\ttotal: 991ms\tremaining: 85ms\n",
      "921:\tlearn: 0.0636039\ttotal: 993ms\tremaining: 84ms\n",
      "922:\tlearn: 0.0635351\ttotal: 994ms\tremaining: 82.9ms\n",
      "923:\tlearn: 0.0633862\ttotal: 995ms\tremaining: 81.8ms\n",
      "924:\tlearn: 0.0632742\ttotal: 996ms\tremaining: 80.7ms\n",
      "925:\tlearn: 0.0632618\ttotal: 997ms\tremaining: 79.7ms\n",
      "926:\tlearn: 0.0632276\ttotal: 998ms\tremaining: 78.6ms\n",
      "927:\tlearn: 0.0630763\ttotal: 999ms\tremaining: 77.5ms\n",
      "928:\tlearn: 0.0629140\ttotal: 1s\tremaining: 76.4ms\n",
      "929:\tlearn: 0.0627872\ttotal: 1s\tremaining: 75.4ms\n",
      "930:\tlearn: 0.0627298\ttotal: 1s\tremaining: 74.3ms\n",
      "931:\tlearn: 0.0627091\ttotal: 1s\tremaining: 73.2ms\n",
      "932:\tlearn: 0.0626086\ttotal: 1s\tremaining: 72.1ms\n",
      "933:\tlearn: 0.0624551\ttotal: 1s\tremaining: 71.1ms\n",
      "934:\tlearn: 0.0623573\ttotal: 1.01s\tremaining: 70ms\n",
      "935:\tlearn: 0.0622894\ttotal: 1.01s\tremaining: 68.9ms\n",
      "936:\tlearn: 0.0622121\ttotal: 1.01s\tremaining: 67.8ms\n",
      "937:\tlearn: 0.0621413\ttotal: 1.01s\tremaining: 66.8ms\n",
      "938:\tlearn: 0.0620315\ttotal: 1.01s\tremaining: 65.7ms\n",
      "939:\tlearn: 0.0619887\ttotal: 1.01s\tremaining: 64.6ms\n",
      "940:\tlearn: 0.0618655\ttotal: 1.01s\tremaining: 63.5ms\n",
      "941:\tlearn: 0.0617864\ttotal: 1.01s\tremaining: 62.4ms\n",
      "942:\tlearn: 0.0617260\ttotal: 1.01s\tremaining: 61.4ms\n",
      "943:\tlearn: 0.0617028\ttotal: 1.02s\tremaining: 60.3ms\n",
      "944:\tlearn: 0.0616515\ttotal: 1.02s\tremaining: 59.2ms\n",
      "945:\tlearn: 0.0615595\ttotal: 1.02s\tremaining: 58.1ms\n",
      "946:\tlearn: 0.0614586\ttotal: 1.02s\tremaining: 57.1ms\n",
      "947:\tlearn: 0.0613413\ttotal: 1.02s\tremaining: 56ms\n",
      "948:\tlearn: 0.0613131\ttotal: 1.02s\tremaining: 54.9ms\n",
      "949:\tlearn: 0.0612041\ttotal: 1.02s\tremaining: 53.8ms\n",
      "950:\tlearn: 0.0610991\ttotal: 1.02s\tremaining: 52.8ms\n",
      "951:\tlearn: 0.0608955\ttotal: 1.02s\tremaining: 51.7ms\n",
      "952:\tlearn: 0.0607429\ttotal: 1.03s\tremaining: 50.6ms\n",
      "953:\tlearn: 0.0606899\ttotal: 1.03s\tremaining: 49.5ms\n",
      "954:\tlearn: 0.0606030\ttotal: 1.03s\tremaining: 48.4ms\n",
      "955:\tlearn: 0.0605156\ttotal: 1.03s\tremaining: 47.4ms\n",
      "956:\tlearn: 0.0604633\ttotal: 1.03s\tremaining: 46.3ms\n",
      "957:\tlearn: 0.0603679\ttotal: 1.03s\tremaining: 45.2ms\n",
      "958:\tlearn: 0.0603077\ttotal: 1.03s\tremaining: 44.2ms\n",
      "959:\tlearn: 0.0602786\ttotal: 1.03s\tremaining: 43.1ms\n",
      "960:\tlearn: 0.0602653\ttotal: 1.03s\tremaining: 42ms\n",
      "961:\tlearn: 0.0601375\ttotal: 1.04s\tremaining: 41ms\n",
      "962:\tlearn: 0.0599960\ttotal: 1.04s\tremaining: 39.9ms\n",
      "963:\tlearn: 0.0598821\ttotal: 1.04s\tremaining: 38.8ms\n",
      "964:\tlearn: 0.0598079\ttotal: 1.04s\tremaining: 37.7ms\n",
      "965:\tlearn: 0.0596880\ttotal: 1.04s\tremaining: 36.6ms\n",
      "966:\tlearn: 0.0596139\ttotal: 1.04s\tremaining: 35.6ms\n",
      "967:\tlearn: 0.0595688\ttotal: 1.04s\tremaining: 34.5ms\n",
      "968:\tlearn: 0.0595478\ttotal: 1.04s\tremaining: 33.4ms\n",
      "969:\tlearn: 0.0594334\ttotal: 1.04s\tremaining: 32.3ms\n",
      "970:\tlearn: 0.0593817\ttotal: 1.05s\tremaining: 31.2ms\n",
      "971:\tlearn: 0.0593457\ttotal: 1.05s\tremaining: 30.2ms\n",
      "972:\tlearn: 0.0592023\ttotal: 1.05s\tremaining: 29.1ms\n",
      "973:\tlearn: 0.0591394\ttotal: 1.05s\tremaining: 28ms\n",
      "974:\tlearn: 0.0590370\ttotal: 1.05s\tremaining: 26.9ms\n",
      "975:\tlearn: 0.0588604\ttotal: 1.05s\tremaining: 25.9ms\n",
      "976:\tlearn: 0.0588068\ttotal: 1.05s\tremaining: 24.8ms\n",
      "977:\tlearn: 0.0586890\ttotal: 1.05s\tremaining: 23.7ms\n",
      "978:\tlearn: 0.0586176\ttotal: 1.05s\tremaining: 22.6ms\n",
      "979:\tlearn: 0.0585317\ttotal: 1.05s\tremaining: 21.5ms\n",
      "980:\tlearn: 0.0584966\ttotal: 1.06s\tremaining: 20.5ms\n",
      "981:\tlearn: 0.0584534\ttotal: 1.06s\tremaining: 19.4ms\n",
      "982:\tlearn: 0.0584184\ttotal: 1.06s\tremaining: 18.3ms\n",
      "983:\tlearn: 0.0582901\ttotal: 1.06s\tremaining: 17.2ms\n",
      "984:\tlearn: 0.0582176\ttotal: 1.06s\tremaining: 16.1ms\n",
      "985:\tlearn: 0.0581452\ttotal: 1.06s\tremaining: 15.1ms\n",
      "986:\tlearn: 0.0580929\ttotal: 1.06s\tremaining: 14ms\n",
      "987:\tlearn: 0.0580740\ttotal: 1.06s\tremaining: 12.9ms\n",
      "988:\tlearn: 0.0580292\ttotal: 1.06s\tremaining: 11.8ms\n",
      "989:\tlearn: 0.0579817\ttotal: 1.06s\tremaining: 10.8ms\n",
      "990:\tlearn: 0.0578957\ttotal: 1.07s\tremaining: 9.68ms\n",
      "991:\tlearn: 0.0578134\ttotal: 1.07s\tremaining: 8.61ms\n",
      "992:\tlearn: 0.0577328\ttotal: 1.07s\tremaining: 7.53ms\n",
      "993:\tlearn: 0.0576453\ttotal: 1.07s\tremaining: 6.45ms\n",
      "994:\tlearn: 0.0574898\ttotal: 1.07s\tremaining: 5.38ms\n",
      "995:\tlearn: 0.0573955\ttotal: 1.07s\tremaining: 4.3ms\n",
      "996:\tlearn: 0.0573198\ttotal: 1.07s\tremaining: 3.23ms\n",
      "997:\tlearn: 0.0573109\ttotal: 1.07s\tremaining: 2.15ms\n",
      "998:\tlearn: 0.0572313\ttotal: 1.07s\tremaining: 1.07ms\n",
      "999:\tlearn: 0.0572239\ttotal: 1.07s\tremaining: 0us\n"
     ]
    },
    {
     "data": {
      "text/plain": [
       "<catboost.core.CatBoostRegressor at 0x7f12a33eaf90>"
      ]
     },
     "execution_count": 9,
     "metadata": {},
     "output_type": "execute_result"
    }
   ],
   "source": [
    "#Train the Model \n",
    "prior_model = ctb.CatBoostRegressor()\n",
    "prior_model.fit(X_train,Y_train)"
   ]
  },
  {
   "cell_type": "code",
   "execution_count": 10,
   "id": "c775fd81",
   "metadata": {
    "execution": {
     "iopub.execute_input": "2022-01-15T13:19:30.831738Z",
     "iopub.status.busy": "2022-01-15T13:19:30.831085Z",
     "iopub.status.idle": "2022-01-15T13:19:30.843406Z",
     "shell.execute_reply": "2022-01-15T13:19:30.843856Z"
    },
    "papermill": {
     "duration": 0.049038,
     "end_time": "2022-01-15T13:19:30.844032",
     "exception": false,
     "start_time": "2022-01-15T13:19:30.794994",
     "status": "completed"
    },
    "tags": []
   },
   "outputs": [
    {
     "data": {
      "application/scrapbook.scrap.json+json": {
       "data": 0.12766733912667066,
       "encoder": "json",
       "name": "Prior Model MSE",
       "version": 1
      }
     },
     "metadata": {
      "scrapbook": {
       "data": true,
       "display": false,
       "name": "Prior Model MSE"
      }
     },
     "output_type": "display_data"
    },
    {
     "data": {
      "application/scrapbook.scrap.json+json": {
       "data": 0.12714807982547613,
       "encoder": "json",
       "name": "ABC Pre-generator MSE",
       "version": 1
      }
     },
     "metadata": {
      "scrapbook": {
       "data": true,
       "display": false,
       "name": "ABC Pre-generator MSE"
      }
     },
     "output_type": "display_data"
    }
   ],
   "source": [
    "y_pred = prior_model.predict(X_test)\n",
    "y_abc = y_pred + np.random.normal(0,variance, y_pred.shape)\n",
    "mse = mean_squared_error(y_pred,Y_test)\n",
    "sb.glue(\"Prior Model MSE\",mse)\n",
    "mse = mean_squared_error(y_abc,Y_test)\n",
    "sb.glue(\"ABC Pre-generator MSE\",mse)"
   ]
  },
  {
   "cell_type": "markdown",
   "id": "0cd0def6",
   "metadata": {
    "papermill": {
     "duration": 0.031768,
     "end_time": "2022-01-15T13:19:30.906529",
     "exception": false,
     "start_time": "2022-01-15T13:19:30.874761",
     "status": "completed"
    },
    "tags": []
   },
   "source": [
    "# ABC GAN Model"
   ]
  },
  {
   "cell_type": "markdown",
   "id": "70beaf4c",
   "metadata": {
    "papermill": {
     "duration": 0.030471,
     "end_time": "2022-01-15T13:19:30.966787",
     "exception": false,
     "start_time": "2022-01-15T13:19:30.936316",
     "status": "completed"
    },
    "tags": []
   },
   "source": [
    "### Training the network\n",
    "**Training ABC-GAN for n_epochs number of epochs** "
   ]
  },
  {
   "cell_type": "code",
   "execution_count": 11,
   "id": "dbaaafa1",
   "metadata": {
    "execution": {
     "iopub.execute_input": "2022-01-15T13:19:31.033745Z",
     "iopub.status.busy": "2022-01-15T13:19:31.033102Z",
     "iopub.status.idle": "2022-01-15T13:19:34.197734Z",
     "shell.execute_reply": "2022-01-15T13:19:34.197102Z"
    },
    "papermill": {
     "duration": 3.200321,
     "end_time": "2022-01-15T13:19:34.197885",
     "exception": false,
     "start_time": "2022-01-15T13:19:30.997564",
     "status": "completed"
    },
    "tags": []
   },
   "outputs": [],
   "source": [
    "gen = network.Generator(n_features+1).to(device)\n",
    "disc = network.Discriminator(n_features+1).to(device)\n",
    "\n",
    "criterion = torch.nn.BCELoss()\n",
    "gen_opt = torch.optim.Adam(gen.parameters(), lr=0.001, betas=(0.5, 0.999))\n",
    "disc_opt = torch.optim.Adam(disc.parameters(), lr=0.01, betas=(0.5, 0.999))"
   ]
  },
  {
   "cell_type": "code",
   "execution_count": 12,
   "id": "6e9eeab8",
   "metadata": {
    "execution": {
     "iopub.execute_input": "2022-01-15T13:19:34.265556Z",
     "iopub.status.busy": "2022-01-15T13:19:34.264911Z",
     "iopub.status.idle": "2022-01-15T13:25:10.249688Z",
     "shell.execute_reply": "2022-01-15T13:25:10.249146Z"
    },
    "papermill": {
     "duration": 336.019891,
     "end_time": "2022-01-15T13:25:10.249861",
     "exception": false,
     "start_time": "2022-01-15T13:19:34.229970",
     "status": "completed"
    },
    "tags": []
   },
   "outputs": [
    {
     "data": {
      "image/png": "[encoded data removed]",
      "text/plain": [
       "<Figure size 432x288 with 1 Axes>"
      ]
     },
     "metadata": {
      "needs_background": "light"
     },
     "output_type": "display_data"
    },
    {
     "data": {
      "image/png": "[encoded data removed]",
      "text/plain": [
       "<Figure size 432x288 with 1 Axes>"
      ]
     },
     "metadata": {
      "needs_background": "light"
     },
     "output_type": "display_data"
    }
   ],
   "source": [
    "#Training the ABC_GAN \n",
    "ABC_train_test2.training_GAN(disc,gen,disc_opt,gen_opt,train_data,batch_size,n_epochs,criterion,prior_model,variance,device)"
   ]
  },
  {
   "cell_type": "code",
   "execution_count": 13,
   "id": "11c3082e",
   "metadata": {
    "execution": {
     "iopub.execute_input": "2022-01-15T13:25:10.336845Z",
     "iopub.status.busy": "2022-01-15T13:25:10.336211Z",
     "iopub.status.idle": "2022-01-15T13:25:10.755537Z",
     "shell.execute_reply": "2022-01-15T13:25:10.754994Z"
    },
    "papermill": {
     "duration": 0.47109,
     "end_time": "2022-01-15T13:25:10.755690",
     "exception": false,
     "start_time": "2022-01-15T13:25:10.284600",
     "status": "completed"
    },
    "tags": []
   },
   "outputs": [
    {
     "data": {
      "application/scrapbook.scrap.json+json": {
       "data": 0.12474877731684961,
       "encoder": "json",
       "name": "ABC-GAN Model 1 MSE",
       "version": 1
      }
     },
     "metadata": {
      "scrapbook": {
       "data": true,
       "display": false,
       "name": "ABC-GAN Model 1 MSE"
      }
     },
     "output_type": "display_data"
    },
    {
     "data": {
      "application/scrapbook.scrap.json+json": {
       "data": 0.2443592935364109,
       "encoder": "json",
       "name": "ABC-GAN Model 1 MAE",
       "version": 1
      }
     },
     "metadata": {
      "scrapbook": {
       "data": true,
       "display": false,
       "name": "ABC-GAN Model 1 MAE"
      }
     },
     "output_type": "display_data"
    },
    {
     "data": {
      "application/scrapbook.scrap.json+json": {
       "data": 24.92464794071391,
       "encoder": "json",
       "name": "ABC-GAN Model 1 Manhattan Distance",
       "version": 1
      }
     },
     "metadata": {
      "scrapbook": {
       "data": true,
       "display": false,
       "name": "ABC-GAN Model 1 Manhattan Distance"
      }
     },
     "output_type": "display_data"
    },
    {
     "data": {
      "application/scrapbook.scrap.json+json": {
       "data": 3.5671103957689807,
       "encoder": "json",
       "name": "ABC-GAN Model 1 Euclidean distance",
       "version": 1
      }
     },
     "metadata": {
      "scrapbook": {
       "data": true,
       "display": false,
       "name": "ABC-GAN Model 1 Euclidean distance"
      }
     },
     "output_type": "display_data"
    },
    {
     "data": {
      "application/scrapbook.scrap.json+json": {
       "data": [
        [
         0.12372490987893242,
         0.12408530983117978,
         0.12568531061187543,
         0.12493982784897505,
         0.12396059397734116,
         0.12434553930870006,
         0.12467564244489039,
         0.12627853697947855,
         0.12416955962629833,
         0.12417499903582488,
         0.1252684867011645,
         0.12388081701263551,
         0.1251083388409321,
         0.1254896020332265,
         0.12463954291901065,
         0.1244197133851265,
         0.12442944554775913,
         0.12524980026155902,
         0.12362420583249095,
         0.12390707732619599,
         0.1255258528473818,
         0.12606809622137635,
         0.12404631942683139,
         0.12468083491134666,
         0.12454881699514828,
         0.12540865867313397,
         0.12407151160296646,
         0.12396386159122008,
         0.12403762699048938,
         0.12522940566088048,
         0.12502197963050501,
         0.12413569566711537,
         0.12483992579496614,
         0.12506290316168295,
         0.1252563654811323,
         0.12402963662116444,
         0.1251744634273599,
         0.12507385612395366,
         0.12463508872665935,
         0.12420444442861277,
         0.12372653805737024,
         0.1253218355255589,
         0.12491626072223369,
         0.12414843899917062,
         0.12495537933172253,
         0.12495371566734612,
         0.12525426390887012,
         0.12573914765656777,
         0.1250911279523807,
         0.12551159461255815,
         0.12469823538575177,
         0.12490516136797693,
         0.12460050723439212,
         0.12452900971413744,
         0.1239594387532022,
         0.1254885365908242,
         0.1241205486781247,
         0.12498091894245521,
         0.12479172690735323,
         0.12418930145137744,
         0.12526801377293473,
         0.12626965278109595,
         0.12543053446402733,
         0.12558465868136162,
         0.12427198578489479,
         0.12615690959068615,
         0.12491540729185237,
         0.12484192871747735,
         0.12373249676779106,
         0.12469128449908552,
         0.1253347590581567,
         0.12291133594150541,
         0.12516234279346006,
         0.12511248155899804,
         0.12561657517965938,
         0.12406738676321796,
         0.12592449796106905,
         0.12430544894534297,
         0.12484952804517259,
         0.12513047816448808,
         0.12461440930879451,
         0.1242105510456022,
         0.12413415515653661,
         0.12418147656833922,
         0.12583646986181277,
         0.12284132435611517,
         0.12455121669556718,
         0.1240825346308887,
         0.12486222984080325,
         0.12434632037279578,
         0.12513411432960603,
         0.12471936895427778,
         0.12423520633400595,
         0.12379159917953289,
         0.12437491563287646,
         0.12566896357210705,
         0.1244808727926159,
         0.12499459678389134,
         0.12512509534982055,
         0.12616031330979643
        ],
        [
         0.24390653492517622,
         0.2448165997150628,
         0.24487836944742822,
         0.24329470597463204,
         0.24328282553081712,
         0.24448162778371982,
         0.24488510762103924,
         0.24695463658438302,
         0.2438013572702367,
         0.24533515614366122,
         0.24385907439807175,
         0.2432047774120435,
         0.24396025193124718,
         0.24435642939608762,
         0.2444066113573225,
         0.24481863622535385,
         0.2439631261753247,
         0.24435849360865997,
         0.24345643108929782,
         0.24393519299908303,
         0.24456255295879992,
         0.24642771110851683,
         0.2434066627996371,
         0.24464613401020566,
         0.24344497792167114,
         0.24535655994516084,
         0.24304161364139587,
         0.2427651931750862,
         0.24409586338180245,
         0.2444232678424348,
         0.24459920451958098,
         0.2433309899186533,
         0.2443584808805848,
         0.24571068700877766,
         0.24451992077314677,
         0.24396619347709358,
         0.24540862522325388,
         0.24531895726663516,
         0.24419507881918667,
         0.24408223568553142,
         0.24382550178972237,
         0.24398664415211363,
         0.24426227697518235,
         0.24513257511288805,
         0.24493237165734172,
         0.24455036245761255,
         0.24562220692671105,
         0.24439818694201462,
         0.2437780438557121,
         0.24398008990558048,
         0.24493224770013317,
         0.24479151397541749,
         0.2441326295865663,
         0.2441434638629503,
         0.24293851846025563,
         0.24565276599434369,
         0.2435294229482465,
         0.24606417021805457,
         0.24452724399994694,
         0.24298135444120156,
         0.24478113741668708,
         0.2455729749327635,
         0.24542017771369395,
         0.2448709290931184,
         0.24323487768461013,
         0.24606375338728814,
         0.2448927009679085,
         0.2448694649262025,
         0.2429552063729395,
         0.2449247022524622,
         0.24551140267730637,
         0.24356595566496253,
         0.24413322994266362,
         0.24517526390834474,
         0.24624118921986105,
         0.2428318319897003,
         0.24530930297595321,
         0.2439378310889736,
         0.24561079512076342,
         0.24557195842156515,
         0.2436149815809639,
         0.24329165947240064,
         0.2435294892730228,
         0.24282258143648505,
         0.24554213314481518,
         0.24267876178354902,
         0.24403097485100814,
         0.24362833546839802,
         0.2439235364561718,
         0.2444504369506795,
         0.2448638658696676,
         0.24504726950773129,
         0.24310545105596676,
         0.24281605514789037,
         0.2438962490699601,
         0.2449865722207024,
         0.24314914984336378,
         0.24369028752085334,
         0.24348086638230027,
         0.24612756393959417
        ],
        [
         24.878466562367976,
         24.971293170936406,
         24.97759368363768,
         24.816060009412467,
         24.814848204143345,
         24.93712603393942,
         24.978280977346003,
         25.189372931607068,
         24.867738441564143,
         25.024185926653445,
         24.873625588603318,
         24.806887296028435,
         24.88394569698721,
         24.92435579840094,
         24.929474358446896,
         24.971500894986093,
         24.88423886988312,
         24.924566348083317,
         24.832555971108377,
         24.88138968590647,
         24.945380401797593,
         25.135626533068717,
         24.827479605562985,
         24.953905669040978,
         24.831387748010457,
         25.026369114406407,
         24.79024459142238,
         24.762049703858793,
         24.89777806494385,
         24.931173319928348,
         24.94911886099726,
         24.819760971702635,
         24.92456504981965,
         25.062490074895322,
         24.941031918860972,
         24.884551734663546,
         25.031679772771895,
         25.022533641196787,
         24.90789803955704,
         24.896388039924204,
         24.870201182551682,
         24.88663770351559,
         24.9147522514686,
         25.00352266151458,
         24.983101909048855,
         24.94413697067648,
         25.053465106524527,
         24.92861506808549,
         24.865360473282635,
         24.885969170369208,
         24.983089265413582,
         24.968734425492585,
         24.901528217829764,
         24.90263331402093,
         24.779728882946074,
         25.056582131423056,
         24.840001140721142,
         25.098545362241566,
         24.941778887994587,
         24.78409815300256,
         24.967676016502082,
         25.048443443141878,
         25.032858126796782,
         24.976834767498076,
         24.809957523830235,
         25.09850284550339,
         24.979055498726666,
         24.976685422472656,
         24.781431050039828,
         24.982319629751146,
         25.04216307308525,
         24.843727477826178,
         24.90158945415169,
         25.007876918651164,
         25.116601300425828,
         24.76884686294943,
         25.021548903547227,
         24.88165877107531,
         25.05230110231787,
         25.048339758999646,
         24.84872812125832,
         24.815749266184866,
         24.840007905848324,
         24.767903306521475,
         25.045297580771148,
         24.753233701922,
         24.89115943480283,
         24.850090217776597,
         24.880200718529522,
         24.93394456896931,
         24.976114318706095,
         24.994821489788592,
         24.79675600770861,
         24.767237625084817,
         24.87741740513593,
         24.988630366511643,
         24.801213284023106,
         24.85640932712704,
         24.835048370994627,
         25.105011521838605
        ],
        [
         3.552455602488384,
         3.5576258379402876,
         3.5804890283886213,
         3.5698546805991214,
         3.5558375364587165,
         3.5613543785317696,
         3.5660784524991618,
         3.588928917087494,
         3.558833387766619,
         3.558911336582317,
         3.5745469144380766,
         3.5546931422119714,
         3.57226126728926,
         3.577700295914836,
         3.5655621404960933,
         3.562416422217215,
         3.5625557463528104,
         3.5742802949235832,
         3.551009574038639,
         3.5550698850053544,
         3.5782170127638904,
         3.5859372295928975,
         3.5570668508669896,
         3.5661527113904357,
         3.564264206467462,
         3.5765462648565958,
         3.5574280292793805,
         3.5558844022696303,
         3.556942219523662,
         3.573989280539298,
         3.5710281323886974,
         3.558348065893184,
         3.5684271648846284,
         3.5716125381249935,
         3.5743739702324784,
         3.556827650499638,
         3.573205181568883,
         3.5717689349457182,
         3.565498429409169,
         3.559333270672824,
         3.5524789769753404,
         3.5753079900348452,
         3.569517977776248,
         3.5585307049280046,
         3.570076846768945,
         3.570053080567472,
         3.574343984384372,
         3.581255793848006,
         3.572015544639025,
         3.5780137856750818,
         3.566401549089317,
         3.569359390637716,
         3.5650037500552507,
         3.5639807786858246,
         3.5558209674879055,
         3.5776851080362104,
         3.558130965151328,
         3.570441671856639,
         3.567738239354175,
         3.559116287513025,
         3.5745401669080934,
         3.588802667140085,
         3.576858190553658,
         3.5790550687994287,
         3.5603009072351273,
         3.587200130777482,
         3.569505784246461,
         3.568455790560209,
         3.552564520218414,
         3.566302149132449,
         3.575492333082534,
         3.5407564539281084,
         3.573032180786079,
         3.5723204110238767,
         3.5795098363219027,
         3.557368894259946,
         3.583894361170407,
         3.560780222426678,
         3.5685643977105976,
         3.572577329152972,
         3.5652026239047117,
         3.559420768418848,
         3.558325986467054,
         3.559004159869808,
         3.582641473257532,
         3.5397478842883356,
         3.564298542904038,
         3.55758605410335,
         3.568745920314576,
         3.561365563660261,
         3.572629236517528,
         3.5667037490288327,
         3.5597740161516724,
         3.553412882893339,
         3.561775034242533,
         3.5802561758001223,
         3.56329188038909,
         3.5706370400751903,
         3.572500486449469,
         3.58724852186174
        ]
       ],
       "encoder": "json",
       "name": "ABC_GAN_1 Metrics",
       "version": 1
      }
     },
     "metadata": {
      "scrapbook": {
       "data": true,
       "display": false,
       "name": "ABC_GAN_1 Metrics"
      }
     },
     "output_type": "display_data"
    }
   ],
   "source": [
    "ABC_GAN1_metrics=ABC_train_test2.test_generator(gen,test_data,prior_model,variance,\"1\",device)\n",
    "sb.glue(\"ABC_GAN_1 Metrics\",ABC_GAN1_metrics)"
   ]
  },
  {
   "cell_type": "markdown",
   "id": "394a2b9d",
   "metadata": {
    "papermill": {
     "duration": 0.035082,
     "end_time": "2022-01-15T13:25:10.827466",
     "exception": false,
     "start_time": "2022-01-15T13:25:10.792384",
     "status": "completed"
    },
    "tags": []
   },
   "source": [
    "#### Sanity Checks "
   ]
  },
  {
   "cell_type": "code",
   "execution_count": 14,
   "id": "a36b3b22",
   "metadata": {
    "execution": {
     "iopub.execute_input": "2022-01-15T13:25:10.904545Z",
     "iopub.status.busy": "2022-01-15T13:25:10.903881Z",
     "iopub.status.idle": "2022-01-15T13:25:11.701015Z",
     "shell.execute_reply": "2022-01-15T13:25:11.701525Z"
    },
    "papermill": {
     "duration": 0.839151,
     "end_time": "2022-01-15T13:25:11.701702",
     "exception": false,
     "start_time": "2022-01-15T13:25:10.862551",
     "status": "completed"
    },
    "tags": []
   },
   "outputs": [
    {
     "data": {
      "image/png": "[encoded data removed]",
      "text/plain": [
       "<Figure size 432x288 with 1 Axes>"
      ]
     },
     "metadata": {
      "needs_background": "light"
     },
     "output_type": "display_data"
    },
    {
     "data": {
      "image/png": "[encoded data removed]",
      "text/plain": [
       "<Figure size 432x288 with 1 Axes>"
      ]
     },
     "metadata": {
      "needs_background": "light"
     },
     "output_type": "display_data"
    },
    {
     "data": {
      "image/png": "[encoded data removed]",
      "text/plain": [
       "<Figure size 432x288 with 1 Axes>"
      ]
     },
     "metadata": {
      "needs_background": "light"
     },
     "output_type": "display_data"
    },
    {
     "data": {
      "image/png": "[encoded data removed]",
      "text/plain": [
       "<Figure size 432x288 with 1 Axes>"
      ]
     },
     "metadata": {
      "needs_background": "light"
     },
     "output_type": "display_data"
    }
   ],
   "source": [
    "sanityChecks.discProbVsError(train_data,disc,device)\n",
    "sanityChecks.discProbVsError(test_data,disc,device)"
   ]
  },
  {
   "cell_type": "markdown",
   "id": "130f3a4d",
   "metadata": {
    "papermill": {
     "duration": 0.041582,
     "end_time": "2022-01-15T13:25:11.785866",
     "exception": false,
     "start_time": "2022-01-15T13:25:11.744284",
     "status": "completed"
    },
    "tags": []
   },
   "source": [
    "# ABC - GAN Model with skip connection"
   ]
  },
  {
   "cell_type": "code",
   "execution_count": 15,
   "id": "4e43dad1",
   "metadata": {
    "execution": {
     "iopub.execute_input": "2022-01-15T13:25:11.876517Z",
     "iopub.status.busy": "2022-01-15T13:25:11.875783Z",
     "iopub.status.idle": "2022-01-15T13:25:11.881592Z",
     "shell.execute_reply": "2022-01-15T13:25:11.880973Z"
    },
    "papermill": {
     "duration": 0.053906,
     "end_time": "2022-01-15T13:25:11.881745",
     "exception": false,
     "start_time": "2022-01-15T13:25:11.827839",
     "status": "completed"
    },
    "tags": []
   },
   "outputs": [],
   "source": [
    "#Generator\n",
    "gen3 = network.GeneratorWithSkipConnection(n_features+1).to(device)\n",
    "constraints=network.weightConstraint()\n",
    "#Discriminator \n",
    "disc3 = network.Discriminator(n_features+1).to(device)\n",
    "\n",
    "criterion = torch.nn.BCELoss()\n",
    "gen_opt = torch.optim.Adam(gen3.parameters(), lr=0.01, betas=(0.5, 0.999))\n",
    "disc_opt = torch.optim.Adam(disc3.parameters(), lr=0.01, betas=(0.5, 0.999))\n"
   ]
  },
  {
   "cell_type": "code",
   "execution_count": 16,
   "id": "26acbc37",
   "metadata": {
    "execution": {
     "iopub.execute_input": "2022-01-15T13:25:11.969229Z",
     "iopub.status.busy": "2022-01-15T13:25:11.968531Z",
     "iopub.status.idle": "2022-01-15T14:01:43.096488Z",
     "shell.execute_reply": "2022-01-15T14:01:43.095858Z"
    },
    "papermill": {
     "duration": 2191.173184,
     "end_time": "2022-01-15T14:01:43.096660",
     "exception": false,
     "start_time": "2022-01-15T13:25:11.923476",
     "status": "completed"
    },
    "tags": []
   },
   "outputs": [
    {
     "data": {
      "image/png": "[encoded data removed]",
      "text/plain": [
       "<Figure size 432x288 with 1 Axes>"
      ]
     },
     "metadata": {
      "needs_background": "light"
     },
     "output_type": "display_data"
    },
    {
     "data": {
      "image/png": "[encoded data removed]",
      "text/plain": [
       "<Figure size 432x288 with 1 Axes>"
      ]
     },
     "metadata": {
      "needs_background": "light"
     },
     "output_type": "display_data"
    }
   ],
   "source": [
    "ABC_train_test2.training_GAN_skip_connection(disc3,gen3,disc_opt,gen_opt,train_data,batch_size,n_epochs,criterion,prior_model,variance,device)\n"
   ]
  },
  {
   "cell_type": "code",
   "execution_count": 17,
   "id": "c5e0717b",
   "metadata": {
    "execution": {
     "iopub.execute_input": "2022-01-15T14:01:43.190897Z",
     "iopub.status.busy": "2022-01-15T14:01:43.190275Z",
     "iopub.status.idle": "2022-01-15T14:01:45.089550Z",
     "shell.execute_reply": "2022-01-15T14:01:45.088919Z"
    },
    "papermill": {
     "duration": 1.94909,
     "end_time": "2022-01-15T14:01:45.089728",
     "exception": false,
     "start_time": "2022-01-15T14:01:43.140638",
     "status": "completed"
    },
    "tags": []
   },
   "outputs": [
    {
     "data": {
      "application/scrapbook.scrap.json+json": {
       "data": 0.12767483458546483,
       "encoder": "json",
       "name": "ABC-GAN Model 3 MSE",
       "version": 1
      }
     },
     "metadata": {
      "scrapbook": {
       "data": true,
       "display": false,
       "name": "ABC-GAN Model 3 MSE"
      }
     },
     "output_type": "display_data"
    },
    {
     "data": {
      "application/scrapbook.scrap.json+json": {
       "data": 0.23963886596842998,
       "encoder": "json",
       "name": "ABC-GAN Model 3 MAE",
       "version": 1
      }
     },
     "metadata": {
      "scrapbook": {
       "data": true,
       "display": false,
       "name": "ABC-GAN Model 3 MAE"
      }
     },
     "output_type": "display_data"
    },
    {
     "data": {
      "application/scrapbook.scrap.json+json": {
       "data": 24.443164328779858,
       "encoder": "json",
       "name": "ABC-GAN Model 3 Manhattan Distance",
       "version": 1
      }
     },
     "metadata": {
      "scrapbook": {
       "data": true,
       "display": false,
       "name": "ABC-GAN Model 3 Manhattan Distance"
      }
     },
     "output_type": "display_data"
    },
    {
     "data": {
      "application/scrapbook.scrap.json+json": {
       "data": 3.6087025219885063,
       "encoder": "json",
       "name": "ABC-GAN Model 3 Euclidean distance",
       "version": 1
      }
     },
     "metadata": {
      "scrapbook": {
       "data": true,
       "display": false,
       "name": "ABC-GAN Model 3 Euclidean distance"
      }
     },
     "output_type": "display_data"
    },
    {
     "data": {
      "application/scrapbook.scrap.json+json": {
       "data": [
        [
         0.12795914485637463,
         0.12747299327553935,
         0.12731352417526148,
         0.12843985499693503,
         0.12789054885633067,
         0.12872040509932836,
         0.128624140511781,
         0.12659701648720403,
         0.12769559131026412,
         0.12717821281761232,
         0.12752765480636213,
         0.12703211312172932,
         0.12825518458708618,
         0.1285821342775917,
         0.12685140200748685,
         0.12766833710610362,
         0.12720175793950825,
         0.12835187583729812,
         0.1269838635308026,
         0.1280126795118808,
         0.12698177970085817,
         0.12736307087639337,
         0.12787257267327154,
         0.12652325808805784,
         0.1281201347662523,
         0.12845779377451821,
         0.12722528530822808,
         0.12657435413677046,
         0.1282607525611114,
         0.12708178322868155,
         0.12805810058920328,
         0.12667456292514429,
         0.1282379026847731,
         0.1273205451532985,
         0.1280873809710614,
         0.12791642430662883,
         0.12818203086805016,
         0.12911672816350983,
         0.1278321752265915,
         0.1278770277835134,
         0.12809368579288602,
         0.1277518920136757,
         0.1288619895172822,
         0.1274317341618932,
         0.12701216890103,
         0.1285139997947723,
         0.1278785791000442,
         0.1281968712102291,
         0.1272474211383984,
         0.12774867794444122,
         0.12728148758863259,
         0.12823332648367336,
         0.12611593137979016,
         0.12763778783457783,
         0.12825109535197518,
         0.128622694103914,
         0.1284812624843095,
         0.12775804392512352,
         0.1280865367994619,
         0.1261889322575427,
         0.12735269681048295,
         0.1277383793842126,
         0.12726908663718775,
         0.12733214437699888,
         0.12714689265986287,
         0.127239555836922,
         0.1269246943716296,
         0.1272488493903221,
         0.12743701311113176,
         0.12734338033592735,
         0.12869598269261814,
         0.12635565363508725,
         0.1280481572627618,
         0.1283900081380105,
         0.12813670938216762,
         0.12791005125256494,
         0.12822674717590463,
         0.12647932519353333,
         0.12730438482612194,
         0.1271969548004268,
         0.12732649226777215,
         0.12996424587308225,
         0.12702536910903173,
         0.12778876428526165,
         0.12692541895926726,
         0.12868919743254326,
         0.12778819907854386,
         0.12694474520392543,
         0.12892016301753947,
         0.12687564060491452,
         0.12658932555129895,
         0.12823732946487365,
         0.12666808112610006,
         0.12747996187063435,
         0.12760657417009333,
         0.1271012872312988,
         0.1276264088545242,
         0.1289824832055801,
         0.1278847892808959,
         0.12776609800337643
        ],
        [
         0.23901108591634707,
         0.2386273695703815,
         0.24015121466900205,
         0.23974260944398304,
         0.2400612431651383,
         0.24063010889507247,
         0.23982975800069706,
         0.23819110863020315,
         0.23950656493395275,
         0.23900161028894432,
         0.23882251741437643,
         0.24042777609372257,
         0.2417891085257425,
         0.2404740489882362,
         0.23790118139346733,
         0.24025396130381005,
         0.23994687346595467,
         0.23968513456958473,
         0.23881096310694427,
         0.23918893454852058,
         0.2391514748188795,
         0.23925678804516792,
         0.23947727957092152,
         0.23893588125322232,
         0.23974225836276425,
         0.2408732338808477,
         0.23908930450823962,
         0.23905991204996027,
         0.2397162908843408,
         0.23903552138739648,
         0.23822875569264093,
         0.2397644918722411,
         0.23941285112032704,
         0.23879196077092169,
         0.24071033738836572,
         0.23924241818067635,
         0.24022464259691975,
         0.24083983413327267,
         0.2396659373725746,
         0.2402182073314108,
         0.24032637539922314,
         0.2395401212715489,
         0.24010587012048298,
         0.23949359562877862,
         0.2376413805976364,
         0.24082949383220836,
         0.2399493991306015,
         0.24003495032186895,
         0.23967481231746063,
         0.2387951445747532,
         0.23930073297564305,
         0.23964495012792303,
         0.2387889595547498,
         0.23997964513232456,
         0.24006187735472387,
         0.24144767866670794,
         0.24063895293967982,
         0.23960249508530193,
         0.24002444831763997,
         0.2388905327146252,
         0.23945986834701663,
         0.24040462426822998,
         0.23970841418257824,
         0.2401409874186285,
         0.2400920286811158,
         0.23988528234208478,
         0.23992314693682334,
         0.2393224872648716,
         0.24021171865181304,
         0.23943229204080269,
         0.24015935453444756,
         0.23844404188989132,
         0.23968335807177366,
         0.24002242123927264,
         0.2399660385597278,
         0.23824332132205076,
         0.24047661738871945,
         0.23836526088416576,
         0.23886349670333312,
         0.24102382921138962,
         0.23840516253246688,
         0.24150037457801254,
         0.23858441207923142,
         0.23877292543686196,
         0.23952245181791632,
         0.24044488090108715,
         0.23893902033074377,
         0.2393683990259317,
         0.24219858680176093,
         0.2380652496061635,
         0.23764081218955563,
         0.2401704658279378,
         0.2389611744084487,
         0.23947860463065843,
         0.23975280171954164,
         0.23785344403529285,
         0.24115561315899386,
         0.24057800989305855,
         0.2403889563500735,
         0.2400146913714707
        ],
        [
         24.3791307634674,
         24.339991696178913,
         24.495423896238208,
         24.45374616328627,
         24.486246802844107,
         24.54427110729739,
         24.4626353160711,
         24.29549308028072,
         24.42966962326318,
         24.37816424947232,
         24.359896776266396,
         24.5236331615597,
         24.662489069625735,
         24.528352996800095,
         24.265920502133667,
         24.505904052988626,
         24.474581093527377,
         24.447883726097643,
         24.358718236908317,
         24.3972713239491,
         24.393450431525707,
         24.404192380607128,
         24.426682516233996,
         24.371459887828678,
         24.453710353001952,
         24.569069855846465,
         24.38710905984044,
         24.384111029095948,
         24.451061670202762,
         24.381623181514442,
         24.299333080649376,
         24.455978170968592,
         24.420110814273357,
         24.35677999863401,
         24.552454413613304,
         24.40272665442899,
         24.502913544885814,
         24.56566308159381,
         24.44592561200261,
         24.502257147803903,
         24.51329029072076,
         24.433092369697988,
         24.490798752289265,
         24.42834675413542,
         24.239420820958912,
         24.564608370885253,
         24.474838711321354,
         24.48356493283063,
         24.446830856380984,
         24.357104746624827,
         24.40867476351559,
         24.443784913048148,
         24.35647387458448,
         24.477923803497106,
         24.486311490181834,
         24.62766322400421,
         24.54517319984734,
         24.439454498700798,
         24.482493728399277,
         24.36683433689177,
         24.424906571395695,
         24.521271675359458,
         24.45025824662298,
         24.494380716700107,
         24.48938692547381,
         24.468298798892647,
         24.47216098755598,
         24.410893701016903,
         24.50159530248493,
         24.422093788161874,
         24.49625416251365,
         24.321292272768915,
         24.447702523320913,
         24.48228696640581,
         24.476535933092237,
         24.300818774849176,
         24.528614973649383,
         24.313256610184908,
         24.36407666373998,
         24.58443057956174,
         24.317326578311622,
         24.63303820695728,
         24.335610032081604,
         24.35483839455992,
         24.431290085427463,
         24.52537785191089,
         24.371780073735863,
         24.415576700645033,
         24.704255853779614,
         24.282655459828675,
         24.239362843334675,
         24.497387514449656,
         24.374039789661765,
         24.42681767232716,
         24.454785775393248,
         24.26105129159987,
         24.597872542217374,
         24.538957009091973,
         24.519673547707498,
         24.48149851989001
        ],
        [
         3.6127320375790686,
         3.605862631064169,
         3.603606452691064,
         3.6195117363654687,
         3.611763555847161,
         3.6234626147004048,
         3.622107443492208,
         3.593451778122925,
         3.6090096028754117,
         3.6016909511223276,
         3.6066356608685797,
         3.5996215826689877,
         3.6169087392250847,
         3.621515938983887,
         3.597060328207418,
         3.608624444968272,
         3.6020243349857926,
         3.6182718714055206,
         3.5989379100148238,
         3.6134876933804327,
         3.598908380257482,
         3.60430759361519,
         3.611509713772579,
         3.5924048108449442,
         3.61500397595324,
         3.6197644902674067,
         3.602357436657176,
         3.5931301287248956,
         3.616987249249486,
         3.6003252477138115,
         3.6141286999910136,
         3.5945521860677885,
         3.6166650486113388,
         3.6037058156342954,
         3.614541860187576,
         3.6121289123280387,
         3.615877092565664,
         3.6290365488209124,
         3.6109391954327243,
         3.6115726261447882,
         3.6146308180607285,
         3.6098051173705934,
         3.625454858464353,
         3.605279030049284,
         3.599338998747556,
         3.620556307954176,
         3.6115945326412966,
         3.6160864015456498,
         3.6026708087357413,
         3.6097597081153485,
         3.603153026730966,
         3.6166005172447067,
         3.586617487374224,
         3.6081926721181254,
         3.6168510787564183,
         3.622087077721797,
         3.620095133197409,
         3.6098920316766536,
         3.6145299491835883,
         3.5876553750700966,
         3.604160800334699,
         3.609614203372666,
         3.6029774960431196,
         3.6038699652531703,
         3.6012474298923163,
         3.602559464514922,
         3.5980993351915975,
         3.602691027247945,
         3.605353704886032,
         3.60402896690143,
         3.623118854612287,
         3.5900246058737397,
         3.61398838415423,
         3.6188093110962716,
         3.615237800889603,
         3.6120389294360633,
         3.6165077370223155,
         3.591781058157693,
         3.6034771058332584,
         3.6019563281144227,
         3.6037899788018666,
         3.640927502581504,
         3.599526031177054,
         3.610326018117573,
         3.5981096055908663,
         3.6230233421990823,
         3.610318033914945,
         3.598383527474579,
         3.6262731044129906,
         3.5974039725476037,
         3.593342622994987,
         3.6166569654056375,
         3.594460220236441,
         3.6059611909731784,
         3.607751455595232,
         3.600601518856603,
         3.608031832337607,
         3.627149471274815,
         3.611682226698714,
         3.6100058166635125
        ]
       ],
       "encoder": "json",
       "name": "ABC_GAN_3 Metrics",
       "version": 1
      }
     },
     "metadata": {
      "scrapbook": {
       "data": true,
       "display": false,
       "name": "ABC_GAN_3 Metrics"
      }
     },
     "output_type": "display_data"
    }
   ],
   "source": [
    "ABC_GAN3_metrics=ABC_train_test2.test_generator(gen3,test_data,prior_model,variance,\"3\",device)\n",
    "sb.glue(\"ABC_GAN_3 Metrics\",ABC_GAN3_metrics)"
   ]
  },
  {
   "cell_type": "code",
   "execution_count": 18,
   "id": "c8e46b48",
   "metadata": {
    "execution": {
     "iopub.execute_input": "2022-01-15T14:01:45.188818Z",
     "iopub.status.busy": "2022-01-15T14:01:45.188158Z",
     "iopub.status.idle": "2022-01-15T14:01:46.060959Z",
     "shell.execute_reply": "2022-01-15T14:01:46.060393Z"
    },
    "papermill": {
     "duration": 0.923768,
     "end_time": "2022-01-15T14:01:46.061101",
     "exception": false,
     "start_time": "2022-01-15T14:01:45.137333",
     "status": "completed"
    },
    "tags": []
   },
   "outputs": [
    {
     "data": {
      "image/png": "[encoded data removed]",
      "text/plain": [
       "<Figure size 432x288 with 1 Axes>"
      ]
     },
     "metadata": {
      "needs_background": "light"
     },
     "output_type": "display_data"
    },
    {
     "data": {
      "image/png": "[encoded data removed]",
      "text/plain": [
       "<Figure size 432x288 with 1 Axes>"
      ]
     },
     "metadata": {
      "needs_background": "light"
     },
     "output_type": "display_data"
    },
    {
     "data": {
      "image/png": "[encoded data removed]",
      "text/plain": [
       "<Figure size 432x288 with 1 Axes>"
      ]
     },
     "metadata": {
      "needs_background": "light"
     },
     "output_type": "display_data"
    },
    {
     "data": {
      "image/png": "[encoded data removed]",
      "text/plain": [
       "<Figure size 432x288 with 1 Axes>"
      ]
     },
     "metadata": {
      "needs_background": "light"
     },
     "output_type": "display_data"
    }
   ],
   "source": [
    "sanityChecks.discProbVsError(train_data,disc,device)\n",
    "sanityChecks.discProbVsError(test_data,disc3,device)"
   ]
  },
  {
   "cell_type": "markdown",
   "id": "a5bd74c3",
   "metadata": {
    "papermill": {
     "duration": 0.051472,
     "end_time": "2022-01-15T14:01:46.165749",
     "exception": false,
     "start_time": "2022-01-15T14:01:46.114277",
     "status": "completed"
    },
    "tags": []
   },
   "source": [
    "## Skip Connection Model Analysis - ABC-GAN "
   ]
  },
  {
   "cell_type": "markdown",
   "id": "5744a8bf",
   "metadata": {
    "papermill": {
     "duration": 0.058586,
     "end_time": "2022-01-15T14:01:46.276095",
     "exception": false,
     "start_time": "2022-01-15T14:01:46.217509",
     "status": "completed"
    },
    "tags": []
   },
   "source": [
    "### Weight Analysis \n",
    "\n",
    "Study the weights of the skip connection layer\n",
    "\n",
    "Equation of the skip connection is \n",
    "\n",
    "$output = y_{gan} * w + y_{abc} * (1-w)$"
   ]
  },
  {
   "cell_type": "code",
   "execution_count": 19,
   "id": "52c31dea",
   "metadata": {
    "execution": {
     "iopub.execute_input": "2022-01-15T14:01:46.382599Z",
     "iopub.status.busy": "2022-01-15T14:01:46.381923Z",
     "iopub.status.idle": "2022-01-15T14:01:46.391325Z",
     "shell.execute_reply": "2022-01-15T14:01:46.390805Z"
    },
    "papermill": {
     "duration": 0.064999,
     "end_time": "2022-01-15T14:01:46.391499",
     "exception": false,
     "start_time": "2022-01-15T14:01:46.326500",
     "status": "completed"
    },
    "tags": []
   },
   "outputs": [
    {
     "name": "stdout",
     "output_type": "stream",
     "text": [
      "Weight of the node at skip connection\n",
      "Parameter containing:\n",
      "tensor([[0.]], device='cuda:0', requires_grad=True)\n"
     ]
    },
    {
     "data": {
      "application/scrapbook.scrap.json+json": {
       "data": 0.0,
       "encoder": "json",
       "name": "Skip Connection Weight",
       "version": 1
      }
     },
     "metadata": {
      "scrapbook": {
       "data": true,
       "display": false,
       "name": "Skip Connection Weight"
      }
     },
     "output_type": "display_data"
    }
   ],
   "source": [
    "print(\"Weight of the node at skip connection\")\n",
    "for name,param in gen3.named_parameters():\n",
    "    if(name == \"skipNode.weight\"):\n",
    "        print(param)\n",
    "        sb.glue(\"Skip Connection Weight\",param.item())"
   ]
  }
 ],
 "metadata": {
  "interpreter": {
   "hash": "10498c76ddd8160350534c6544a2b2fb65f2138dbc70420f7c81a3268f830f23"
  },
  "kernelspec": {
   "display_name": "papermill-tutorial",
   "language": "python",
   "name": "python3"
  },
  "language_info": {
   "codemirror_mode": {
    "name": "ipython",
    "version": 3
   },
   "file_extension": ".py",
   "mimetype": "text/x-python",
   "name": "python",
   "nbconvert_exporter": "python",
   "pygments_lexer": "ipython3",
   "version": "3.7.12"
  },
  "papermill": {
   "default_parameters": {},
   "duration": 2542.707588,
   "end_time": "2022-01-15T14:01:47.267096",
   "environment_variables": {},
   "exception": null,
   "input_path": "ABC_GAN_Model-Catboost_Pre-gen.ipynb",
   "output_path": "./ABC_GAN_Output/ABC-GAN_output_10_2.ipynb",
   "parameters": {
    "variance": 0.01
   },
   "start_time": "2022-01-15T13:19:24.559508",
   "version": "2.3.3"
  }
 },
 "nbformat": 4,
 "nbformat_minor": 5
}