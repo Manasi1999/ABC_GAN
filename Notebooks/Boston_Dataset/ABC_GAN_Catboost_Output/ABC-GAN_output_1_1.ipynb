{
 "cells": [
  {
   "cell_type": "markdown",
   "id": "622780e6",
   "metadata": {
    "papermill": {
     "duration": 0.027164,
     "end_time": "2022-01-14T06:49:20.161120",
     "exception": false,
     "start_time": "2022-01-14T06:49:20.133956",
     "status": "completed"
    },
    "tags": []
   },
   "source": [
    "## Import Libraries "
   ]
  },
  {
   "cell_type": "code",
   "execution_count": 1,
   "id": "a62397e3",
   "metadata": {
    "execution": {
     "iopub.execute_input": "2022-01-14T06:49:20.215277Z",
     "iopub.status.busy": "2022-01-14T06:49:20.214603Z",
     "iopub.status.idle": "2022-01-14T06:49:20.217991Z",
     "shell.execute_reply": "2022-01-14T06:49:20.217332Z"
    },
    "papermill": {
     "duration": 0.03338,
     "end_time": "2022-01-14T06:49:20.218130",
     "exception": false,
     "start_time": "2022-01-14T06:49:20.184750",
     "status": "completed"
    },
    "tags": []
   },
   "outputs": [],
   "source": [
    "import warnings\n",
    "import sys\n",
    "sys.path.insert(0, '../../src')\n",
    "warnings.filterwarnings('ignore')"
   ]
  },
  {
   "cell_type": "code",
   "execution_count": 2,
   "id": "d6a4e155",
   "metadata": {
    "execution": {
     "iopub.execute_input": "2022-01-14T06:49:20.270746Z",
     "iopub.status.busy": "2022-01-14T06:49:20.269931Z",
     "iopub.status.idle": "2022-01-14T06:49:21.877283Z",
     "shell.execute_reply": "2022-01-14T06:49:21.877799Z"
    },
    "papermill": {
     "duration": 1.637437,
     "end_time": "2022-01-14T06:49:21.877986",
     "exception": false,
     "start_time": "2022-01-14T06:49:20.240549",
     "status": "completed"
    },
    "tags": []
   },
   "outputs": [],
   "source": [
    "import ABC_train_test2\n",
    "import bostonDataset\n",
    "import network\n",
    "import dataset\n",
    "import sanityChecks\n",
    "import performanceMetrics\n",
    "import torch \n",
    "from torch.utils.data import random_split \n",
    "import scrapbook as sb\n",
    "from statistics import mean \n",
    "import catboost as ctb \n",
    "from sklearn.model_selection import train_test_split\n",
    "from sklearn.metrics import mean_squared_error\n",
    "import numpy as np"
   ]
  },
  {
   "cell_type": "markdown",
   "id": "2fa5b0f7",
   "metadata": {
    "papermill": {
     "duration": 0.029755,
     "end_time": "2022-01-14T06:49:21.931063",
     "exception": false,
     "start_time": "2022-01-14T06:49:21.901308",
     "status": "completed"
    },
    "tags": []
   },
   "source": [
    "## Parameters "
   ]
  },
  {
   "cell_type": "code",
   "execution_count": 3,
   "id": "783186fb",
   "metadata": {
    "execution": {
     "iopub.execute_input": "2022-01-14T06:49:21.985025Z",
     "iopub.status.busy": "2022-01-14T06:49:21.984433Z",
     "iopub.status.idle": "2022-01-14T06:49:21.986824Z",
     "shell.execute_reply": "2022-01-14T06:49:21.986239Z"
    },
    "papermill": {
     "duration": 0.030262,
     "end_time": "2022-01-14T06:49:21.986951",
     "exception": false,
     "start_time": "2022-01-14T06:49:21.956689",
     "status": "completed"
    },
    "tags": [
     "parameters"
    ]
   },
   "outputs": [],
   "source": [
    "variance = 1"
   ]
  },
  {
   "cell_type": "code",
   "execution_count": 4,
   "id": "cdb0a3f2",
   "metadata": {
    "execution": {
     "iopub.execute_input": "2022-01-14T06:49:22.038156Z",
     "iopub.status.busy": "2022-01-14T06:49:22.037582Z",
     "iopub.status.idle": "2022-01-14T06:49:22.040647Z",
     "shell.execute_reply": "2022-01-14T06:49:22.040129Z"
    },
    "papermill": {
     "duration": 0.030031,
     "end_time": "2022-01-14T06:49:22.040781",
     "exception": false,
     "start_time": "2022-01-14T06:49:22.010750",
     "status": "completed"
    },
    "tags": [
     "injected-parameters"
    ]
   },
   "outputs": [],
   "source": [
    "# Parameters\n",
    "variance = 0.1\n"
   ]
  },
  {
   "cell_type": "markdown",
   "id": "391cdbfd",
   "metadata": {
    "papermill": {
     "duration": 0.023959,
     "end_time": "2022-01-14T06:49:22.088544",
     "exception": false,
     "start_time": "2022-01-14T06:49:22.064585",
     "status": "completed"
    },
    "tags": []
   },
   "source": [
    "## Dataset - Boston Housing "
   ]
  },
  {
   "cell_type": "code",
   "execution_count": 5,
   "id": "5b51f161",
   "metadata": {
    "execution": {
     "iopub.execute_input": "2022-01-14T06:49:22.140869Z",
     "iopub.status.busy": "2022-01-14T06:49:22.140138Z",
     "iopub.status.idle": "2022-01-14T06:49:22.142934Z",
     "shell.execute_reply": "2022-01-14T06:49:22.142377Z"
    },
    "papermill": {
     "duration": 0.029996,
     "end_time": "2022-01-14T06:49:22.143058",
     "exception": false,
     "start_time": "2022-01-14T06:49:22.113062",
     "status": "completed"
    },
    "tags": []
   },
   "outputs": [],
   "source": [
    "#Parameters \n",
    "n_features = 13\n",
    "n_samples= 506\n",
    "n_target = 1 "
   ]
  },
  {
   "cell_type": "code",
   "execution_count": 6,
   "id": "5d6eced4",
   "metadata": {
    "execution": {
     "iopub.execute_input": "2022-01-14T06:49:22.196136Z",
     "iopub.status.busy": "2022-01-14T06:49:22.195512Z",
     "iopub.status.idle": "2022-01-14T06:49:22.227979Z",
     "shell.execute_reply": "2022-01-14T06:49:22.227525Z"
    },
    "papermill": {
     "duration": 0.059512,
     "end_time": "2022-01-14T06:49:22.228240",
     "exception": false,
     "start_time": "2022-01-14T06:49:22.168728",
     "status": "completed"
    },
    "tags": []
   },
   "outputs": [
    {
     "name": "stdout",
     "output_type": "stream",
     "text": [
      "         X1        X2        X3        X4        X5        X6        X7        X8        X9       X10       X11       X12       X13         Y\n",
      "0 -0.419782  0.284830 -1.287909 -0.272599 -0.144217  0.413672 -0.120013  0.140214 -0.982843 -0.666608 -1.459000  0.441052 -1.075562  0.159686\n",
      "1 -0.417339 -0.487722 -0.593381 -0.272599 -0.740262  0.194274  0.367166  0.557160 -0.867883 -0.987329 -0.303094  0.441052 -0.492439 -0.101524\n",
      "2 -0.417342 -0.487722 -0.593381 -0.272599 -0.740262  1.282714 -0.265812  0.557160 -0.867883 -0.987329 -0.303094  0.396427 -1.208727  1.324247\n",
      "3 -0.416750 -0.487722 -1.306878 -0.272599 -0.835284  1.016303 -0.809889  1.077737 -0.752922 -1.106115  0.113032  0.416163 -1.361517  1.182758\n",
      "4 -0.412482 -0.487722 -1.306878 -0.272599 -0.835284  1.228577 -0.511180  1.077737 -0.752922 -1.106115  0.113032  0.441052 -1.026501  1.487503\n"
     ]
    }
   ],
   "source": [
    "X,Y = bostonDataset.boston_data()"
   ]
  },
  {
   "cell_type": "code",
   "execution_count": 7,
   "id": "fe007438",
   "metadata": {
    "execution": {
     "iopub.execute_input": "2022-01-14T06:49:22.279754Z",
     "iopub.status.busy": "2022-01-14T06:49:22.279081Z",
     "iopub.status.idle": "2022-01-14T06:49:22.282539Z",
     "shell.execute_reply": "2022-01-14T06:49:22.281951Z"
    },
    "papermill": {
     "duration": 0.03169,
     "end_time": "2022-01-14T06:49:22.282706",
     "exception": false,
     "start_time": "2022-01-14T06:49:22.251016",
     "status": "completed"
    },
    "tags": []
   },
   "outputs": [],
   "source": [
    "#Train test split for dataset \n",
    "X_train,X_test,Y_train,Y_test = train_test_split(X,Y,test_size = 0.2)\n",
    "train_data = dataset.CustomDataset(X_train,Y_train)\n",
    "test_data = dataset.CustomDataset(X_test,Y_test)\n"
   ]
  },
  {
   "cell_type": "markdown",
   "id": "a9a1af34",
   "metadata": {
    "papermill": {
     "duration": 0.023686,
     "end_time": "2022-01-14T06:49:22.329579",
     "exception": false,
     "start_time": "2022-01-14T06:49:22.305893",
     "status": "completed"
    },
    "tags": []
   },
   "source": [
    "## Training Parameters \n",
    "\n"
   ]
  },
  {
   "cell_type": "code",
   "execution_count": 8,
   "id": "952b7fc8",
   "metadata": {
    "execution": {
     "iopub.execute_input": "2022-01-14T06:49:22.411735Z",
     "iopub.status.busy": "2022-01-14T06:49:22.411039Z",
     "iopub.status.idle": "2022-01-14T06:49:22.413465Z",
     "shell.execute_reply": "2022-01-14T06:49:22.412920Z"
    },
    "papermill": {
     "duration": 0.059983,
     "end_time": "2022-01-14T06:49:22.413638",
     "exception": false,
     "start_time": "2022-01-14T06:49:22.353655",
     "status": "completed"
    },
    "tags": []
   },
   "outputs": [],
   "source": [
    "batch_size = 64\n",
    "n_epochs = 5000\n",
    "#Select the device \n",
    "device = torch.device('cuda' if torch.cuda.is_available() else 'cpu')"
   ]
  },
  {
   "cell_type": "markdown",
   "id": "a95e1600",
   "metadata": {
    "papermill": {
     "duration": 0.024309,
     "end_time": "2022-01-14T06:49:22.462349",
     "exception": false,
     "start_time": "2022-01-14T06:49:22.438040",
     "status": "completed"
    },
    "tags": []
   },
   "source": [
    "# ABC Pre-generator Model \n",
    "\n",
    "1. The catboost model is used as a pre-generator model for the ABC-GAN. \n",
    "2. The model is first trained on the train dataset \n",
    "3. It generats X,Y pairs and we add some Gaussian noise with mean 0 and variance V (1,0.01,0.1) to it which is then feed as input to the generator.\n"
   ]
  },
  {
   "cell_type": "code",
   "execution_count": 9,
   "id": "ff8ce7bd",
   "metadata": {
    "execution": {
     "iopub.execute_input": "2022-01-14T06:49:22.527594Z",
     "iopub.status.busy": "2022-01-14T06:49:22.526520Z",
     "iopub.status.idle": "2022-01-14T06:49:24.182452Z",
     "shell.execute_reply": "2022-01-14T06:49:24.183032Z"
    },
    "papermill": {
     "duration": 1.696718,
     "end_time": "2022-01-14T06:49:24.183221",
     "exception": false,
     "start_time": "2022-01-14T06:49:22.486503",
     "status": "completed"
    },
    "tags": []
   },
   "outputs": [
    {
     "name": "stdout",
     "output_type": "stream",
     "text": [
      "Learning rate set to 0.03548\n",
      "0:\tlearn: 0.9651438\ttotal: 48.2ms\tremaining: 48.2s\n",
      "1:\tlearn: 0.9438140\ttotal: 49.2ms\tremaining: 24.5s\n",
      "2:\tlearn: 0.9234602\ttotal: 50.3ms\tremaining: 16.7s\n",
      "3:\tlearn: 0.9065531\ttotal: 51.3ms\tremaining: 12.8s\n",
      "4:\tlearn: 0.8878163\ttotal: 52.3ms\tremaining: 10.4s\n",
      "5:\tlearn: 0.8705003\ttotal: 53.3ms\tremaining: 8.84s\n",
      "6:\tlearn: 0.8526342\ttotal: 54.5ms\tremaining: 7.73s\n",
      "7:\tlearn: 0.8356255\ttotal: 55.6ms\tremaining: 6.89s\n",
      "8:\tlearn: 0.8194857\ttotal: 56.6ms\tremaining: 6.24s\n",
      "9:\tlearn: 0.8032474\ttotal: 57.7ms\tremaining: 5.72s\n",
      "10:\tlearn: 0.7876646\ttotal: 58.8ms\tremaining: 5.29s\n",
      "11:\tlearn: 0.7728110\ttotal: 59.9ms\tremaining: 4.93s\n",
      "12:\tlearn: 0.7580140\ttotal: 60.9ms\tremaining: 4.62s\n",
      "13:\tlearn: 0.7427379\ttotal: 61.9ms\tremaining: 4.36s\n",
      "14:\tlearn: 0.7288061\ttotal: 63ms\tremaining: 4.13s\n",
      "15:\tlearn: 0.7140270\ttotal: 64ms\tremaining: 3.94s\n",
      "16:\tlearn: 0.7024466\ttotal: 65.2ms\tremaining: 3.77s\n",
      "17:\tlearn: 0.6893953\ttotal: 66.4ms\tremaining: 3.62s\n",
      "18:\tlearn: 0.6776995\ttotal: 67.4ms\tremaining: 3.48s\n",
      "19:\tlearn: 0.6654605\ttotal: 68.6ms\tremaining: 3.36s\n",
      "20:\tlearn: 0.6519822\ttotal: 69.6ms\tremaining: 3.25s\n",
      "21:\tlearn: 0.6407017\ttotal: 70.7ms\tremaining: 3.14s\n",
      "22:\tlearn: 0.6296830\ttotal: 71.6ms\tremaining: 3.04s\n",
      "23:\tlearn: 0.6198638\ttotal: 72.5ms\tremaining: 2.95s\n",
      "24:\tlearn: 0.6090398\ttotal: 73.5ms\tremaining: 2.87s\n",
      "25:\tlearn: 0.5992076\ttotal: 74.5ms\tremaining: 2.79s\n",
      "26:\tlearn: 0.5899125\ttotal: 75.6ms\tremaining: 2.72s\n",
      "27:\tlearn: 0.5811820\ttotal: 76.7ms\tremaining: 2.66s\n",
      "28:\tlearn: 0.5720967\ttotal: 77.8ms\tremaining: 2.6s\n",
      "29:\tlearn: 0.5618437\ttotal: 78.7ms\tremaining: 2.54s\n",
      "30:\tlearn: 0.5514938\ttotal: 79.9ms\tremaining: 2.5s\n",
      "31:\tlearn: 0.5435054\ttotal: 80.8ms\tremaining: 2.44s\n",
      "32:\tlearn: 0.5374386\ttotal: 81.8ms\tremaining: 2.4s\n",
      "33:\tlearn: 0.5300901\ttotal: 82.7ms\tremaining: 2.35s\n",
      "34:\tlearn: 0.5232390\ttotal: 83.8ms\tremaining: 2.31s\n",
      "35:\tlearn: 0.5155959\ttotal: 84.8ms\tremaining: 2.27s\n",
      "36:\tlearn: 0.5096894\ttotal: 85.8ms\tremaining: 2.23s\n",
      "37:\tlearn: 0.5030858\ttotal: 86.9ms\tremaining: 2.2s\n",
      "38:\tlearn: 0.4964434\ttotal: 87.9ms\tremaining: 2.17s\n",
      "39:\tlearn: 0.4895344\ttotal: 89ms\tremaining: 2.14s\n",
      "40:\tlearn: 0.4838445\ttotal: 89.9ms\tremaining: 2.1s\n",
      "41:\tlearn: 0.4772517\ttotal: 91ms\tremaining: 2.08s\n",
      "42:\tlearn: 0.4715850\ttotal: 91.9ms\tremaining: 2.05s\n",
      "43:\tlearn: 0.4668621\ttotal: 92.8ms\tremaining: 2.02s\n",
      "44:\tlearn: 0.4614302\ttotal: 93.7ms\tremaining: 1.99s\n",
      "45:\tlearn: 0.4562182\ttotal: 94.9ms\tremaining: 1.97s\n",
      "46:\tlearn: 0.4510143\ttotal: 95.9ms\tremaining: 1.94s\n",
      "47:\tlearn: 0.4456218\ttotal: 96.8ms\tremaining: 1.92s\n",
      "48:\tlearn: 0.4415386\ttotal: 97.9ms\tremaining: 1.9s\n",
      "49:\tlearn: 0.4373301\ttotal: 99ms\tremaining: 1.88s\n",
      "50:\tlearn: 0.4325646\ttotal: 100ms\tremaining: 1.86s\n",
      "51:\tlearn: 0.4281014\ttotal: 101ms\tremaining: 1.84s\n",
      "52:\tlearn: 0.4234041\ttotal: 102ms\tremaining: 1.83s\n",
      "53:\tlearn: 0.4191693\ttotal: 103ms\tremaining: 1.81s\n",
      "54:\tlearn: 0.4148832\ttotal: 104ms\tremaining: 1.79s\n",
      "55:\tlearn: 0.4107169\ttotal: 106ms\tremaining: 1.78s\n",
      "56:\tlearn: 0.4061181\ttotal: 107ms\tremaining: 1.77s\n",
      "57:\tlearn: 0.4019319\ttotal: 108ms\tremaining: 1.75s\n",
      "58:\tlearn: 0.3976490\ttotal: 109ms\tremaining: 1.74s\n",
      "59:\tlearn: 0.3934067\ttotal: 110ms\tremaining: 1.73s\n",
      "60:\tlearn: 0.3891693\ttotal: 111ms\tremaining: 1.71s\n",
      "61:\tlearn: 0.3860230\ttotal: 112ms\tremaining: 1.7s\n",
      "62:\tlearn: 0.3836733\ttotal: 113ms\tremaining: 1.68s\n",
      "63:\tlearn: 0.3798515\ttotal: 114ms\tremaining: 1.67s\n",
      "64:\tlearn: 0.3767503\ttotal: 116ms\tremaining: 1.66s\n",
      "65:\tlearn: 0.3735245\ttotal: 117ms\tremaining: 1.65s\n",
      "66:\tlearn: 0.3700074\ttotal: 118ms\tremaining: 1.64s\n",
      "67:\tlearn: 0.3670580\ttotal: 119ms\tremaining: 1.63s\n",
      "68:\tlearn: 0.3641881\ttotal: 120ms\tremaining: 1.62s\n",
      "69:\tlearn: 0.3615864\ttotal: 121ms\tremaining: 1.61s\n",
      "70:\tlearn: 0.3585824\ttotal: 122ms\tremaining: 1.6s\n",
      "71:\tlearn: 0.3557242\ttotal: 123ms\tremaining: 1.59s\n",
      "72:\tlearn: 0.3535969\ttotal: 124ms\tremaining: 1.58s\n",
      "73:\tlearn: 0.3512678\ttotal: 125ms\tremaining: 1.57s\n",
      "74:\tlearn: 0.3492408\ttotal: 126ms\tremaining: 1.56s\n",
      "75:\tlearn: 0.3473708\ttotal: 128ms\tremaining: 1.55s\n",
      "76:\tlearn: 0.3450877\ttotal: 128ms\tremaining: 1.54s\n",
      "77:\tlearn: 0.3426334\ttotal: 129ms\tremaining: 1.53s\n",
      "78:\tlearn: 0.3394907\ttotal: 130ms\tremaining: 1.52s\n",
      "79:\tlearn: 0.3376314\ttotal: 131ms\tremaining: 1.51s\n",
      "80:\tlearn: 0.3358024\ttotal: 133ms\tremaining: 1.5s\n",
      "81:\tlearn: 0.3336834\ttotal: 134ms\tremaining: 1.5s\n",
      "82:\tlearn: 0.3312031\ttotal: 135ms\tremaining: 1.49s\n",
      "83:\tlearn: 0.3296462\ttotal: 136ms\tremaining: 1.48s\n",
      "84:\tlearn: 0.3272205\ttotal: 137ms\tremaining: 1.47s\n",
      "85:\tlearn: 0.3249809\ttotal: 138ms\tremaining: 1.47s\n",
      "86:\tlearn: 0.3226155\ttotal: 139ms\tremaining: 1.46s\n",
      "87:\tlearn: 0.3199843\ttotal: 140ms\tremaining: 1.45s\n",
      "88:\tlearn: 0.3185013\ttotal: 141ms\tremaining: 1.45s\n",
      "89:\tlearn: 0.3164893\ttotal: 142ms\tremaining: 1.44s\n",
      "90:\tlearn: 0.3149723\ttotal: 143ms\tremaining: 1.43s\n"
     ]
    },
    {
     "name": "stdout",
     "output_type": "stream",
     "text": [
      "91:\tlearn: 0.3130411\ttotal: 144ms\tremaining: 1.42s\n",
      "92:\tlearn: 0.3115953\ttotal: 145ms\tremaining: 1.42s\n",
      "93:\tlearn: 0.3093556\ttotal: 146ms\tremaining: 1.41s\n",
      "94:\tlearn: 0.3072459\ttotal: 147ms\tremaining: 1.4s\n",
      "95:\tlearn: 0.3052604\ttotal: 148ms\tremaining: 1.4s\n",
      "96:\tlearn: 0.3036290\ttotal: 149ms\tremaining: 1.39s\n",
      "97:\tlearn: 0.3017950\ttotal: 151ms\tremaining: 1.39s\n",
      "98:\tlearn: 0.3002632\ttotal: 152ms\tremaining: 1.38s\n",
      "99:\tlearn: 0.2993048\ttotal: 153ms\tremaining: 1.37s\n",
      "100:\tlearn: 0.2982039\ttotal: 154ms\tremaining: 1.37s\n",
      "101:\tlearn: 0.2965686\ttotal: 155ms\tremaining: 1.36s\n",
      "102:\tlearn: 0.2952415\ttotal: 156ms\tremaining: 1.36s\n",
      "103:\tlearn: 0.2937594\ttotal: 157ms\tremaining: 1.35s\n",
      "104:\tlearn: 0.2924473\ttotal: 158ms\tremaining: 1.34s\n",
      "105:\tlearn: 0.2914347\ttotal: 159ms\tremaining: 1.34s\n",
      "106:\tlearn: 0.2905257\ttotal: 160ms\tremaining: 1.33s\n",
      "107:\tlearn: 0.2890776\ttotal: 161ms\tremaining: 1.33s\n",
      "108:\tlearn: 0.2873370\ttotal: 162ms\tremaining: 1.32s\n",
      "109:\tlearn: 0.2860125\ttotal: 163ms\tremaining: 1.31s\n",
      "110:\tlearn: 0.2844962\ttotal: 164ms\tremaining: 1.31s\n",
      "111:\tlearn: 0.2831364\ttotal: 165ms\tremaining: 1.31s\n",
      "112:\tlearn: 0.2816472\ttotal: 166ms\tremaining: 1.3s\n",
      "113:\tlearn: 0.2806343\ttotal: 167ms\tremaining: 1.3s\n",
      "114:\tlearn: 0.2793962\ttotal: 168ms\tremaining: 1.29s\n",
      "115:\tlearn: 0.2779421\ttotal: 169ms\tremaining: 1.29s\n",
      "116:\tlearn: 0.2767125\ttotal: 170ms\tremaining: 1.28s\n",
      "117:\tlearn: 0.2754707\ttotal: 171ms\tremaining: 1.27s\n",
      "118:\tlearn: 0.2739940\ttotal: 172ms\tremaining: 1.27s\n",
      "119:\tlearn: 0.2730915\ttotal: 173ms\tremaining: 1.27s\n",
      "120:\tlearn: 0.2715767\ttotal: 174ms\tremaining: 1.26s\n",
      "121:\tlearn: 0.2703935\ttotal: 175ms\tremaining: 1.26s\n",
      "122:\tlearn: 0.2692522\ttotal: 176ms\tremaining: 1.25s\n",
      "123:\tlearn: 0.2683510\ttotal: 177ms\tremaining: 1.25s\n",
      "124:\tlearn: 0.2674924\ttotal: 178ms\tremaining: 1.24s\n",
      "125:\tlearn: 0.2659088\ttotal: 179ms\tremaining: 1.24s\n",
      "126:\tlearn: 0.2650103\ttotal: 180ms\tremaining: 1.23s\n",
      "127:\tlearn: 0.2643418\ttotal: 181ms\tremaining: 1.23s\n",
      "128:\tlearn: 0.2633047\ttotal: 182ms\tremaining: 1.23s\n",
      "129:\tlearn: 0.2622413\ttotal: 182ms\tremaining: 1.22s\n",
      "130:\tlearn: 0.2613310\ttotal: 183ms\tremaining: 1.22s\n",
      "131:\tlearn: 0.2604865\ttotal: 184ms\tremaining: 1.21s\n",
      "132:\tlearn: 0.2592485\ttotal: 186ms\tremaining: 1.21s\n",
      "133:\tlearn: 0.2583818\ttotal: 187ms\tremaining: 1.21s\n",
      "134:\tlearn: 0.2575054\ttotal: 188ms\tremaining: 1.2s\n",
      "135:\tlearn: 0.2564594\ttotal: 189ms\tremaining: 1.2s\n",
      "136:\tlearn: 0.2553032\ttotal: 189ms\tremaining: 1.19s\n",
      "137:\tlearn: 0.2542651\ttotal: 191ms\tremaining: 1.19s\n",
      "138:\tlearn: 0.2536038\ttotal: 192ms\tremaining: 1.19s\n",
      "139:\tlearn: 0.2529246\ttotal: 193ms\tremaining: 1.18s\n",
      "140:\tlearn: 0.2519940\ttotal: 194ms\tremaining: 1.18s\n",
      "141:\tlearn: 0.2510816\ttotal: 194ms\tremaining: 1.18s\n",
      "142:\tlearn: 0.2502054\ttotal: 196ms\tremaining: 1.17s\n",
      "143:\tlearn: 0.2498626\ttotal: 196ms\tremaining: 1.17s\n",
      "144:\tlearn: 0.2488877\ttotal: 197ms\tremaining: 1.16s\n",
      "145:\tlearn: 0.2480649\ttotal: 198ms\tremaining: 1.16s\n",
      "146:\tlearn: 0.2471074\ttotal: 199ms\tremaining: 1.16s\n",
      "147:\tlearn: 0.2464539\ttotal: 200ms\tremaining: 1.15s\n",
      "148:\tlearn: 0.2457688\ttotal: 201ms\tremaining: 1.15s\n",
      "149:\tlearn: 0.2450229\ttotal: 202ms\tremaining: 1.15s\n",
      "150:\tlearn: 0.2445376\ttotal: 203ms\tremaining: 1.14s\n",
      "151:\tlearn: 0.2437216\ttotal: 204ms\tremaining: 1.14s\n",
      "152:\tlearn: 0.2426929\ttotal: 205ms\tremaining: 1.14s\n",
      "153:\tlearn: 0.2422135\ttotal: 206ms\tremaining: 1.13s\n",
      "154:\tlearn: 0.2419475\ttotal: 207ms\tremaining: 1.13s\n",
      "155:\tlearn: 0.2412361\ttotal: 208ms\tremaining: 1.12s\n",
      "156:\tlearn: 0.2404631\ttotal: 209ms\tremaining: 1.12s\n",
      "157:\tlearn: 0.2403084\ttotal: 210ms\tremaining: 1.12s\n",
      "158:\tlearn: 0.2395018\ttotal: 211ms\tremaining: 1.11s\n",
      "159:\tlearn: 0.2387724\ttotal: 212ms\tremaining: 1.11s\n",
      "160:\tlearn: 0.2381936\ttotal: 213ms\tremaining: 1.11s\n",
      "161:\tlearn: 0.2376405\ttotal: 214ms\tremaining: 1.11s\n",
      "162:\tlearn: 0.2369280\ttotal: 215ms\tremaining: 1.1s\n",
      "163:\tlearn: 0.2366598\ttotal: 216ms\tremaining: 1.1s\n",
      "164:\tlearn: 0.2361783\ttotal: 217ms\tremaining: 1.1s\n",
      "165:\tlearn: 0.2359177\ttotal: 218ms\tremaining: 1.1s\n",
      "166:\tlearn: 0.2354447\ttotal: 219ms\tremaining: 1.09s\n",
      "167:\tlearn: 0.2342550\ttotal: 220ms\tremaining: 1.09s\n",
      "168:\tlearn: 0.2337591\ttotal: 221ms\tremaining: 1.09s\n",
      "169:\tlearn: 0.2333464\ttotal: 222ms\tremaining: 1.09s\n",
      "170:\tlearn: 0.2325811\ttotal: 224ms\tremaining: 1.08s\n",
      "171:\tlearn: 0.2319382\ttotal: 225ms\tremaining: 1.08s\n",
      "172:\tlearn: 0.2313269\ttotal: 226ms\tremaining: 1.08s\n",
      "173:\tlearn: 0.2310768\ttotal: 227ms\tremaining: 1.07s\n",
      "174:\tlearn: 0.2307659\ttotal: 228ms\tremaining: 1.07s\n",
      "175:\tlearn: 0.2299839\ttotal: 229ms\tremaining: 1.07s\n",
      "176:\tlearn: 0.2297785\ttotal: 230ms\tremaining: 1.07s\n",
      "177:\tlearn: 0.2288456\ttotal: 231ms\tremaining: 1.06s\n",
      "178:\tlearn: 0.2281156\ttotal: 231ms\tremaining: 1.06s\n",
      "179:\tlearn: 0.2275937\ttotal: 232ms\tremaining: 1.06s\n",
      "180:\tlearn: 0.2274155\ttotal: 233ms\tremaining: 1.05s\n",
      "181:\tlearn: 0.2267083\ttotal: 234ms\tremaining: 1.05s\n",
      "182:\tlearn: 0.2262054\ttotal: 235ms\tremaining: 1.05s\n",
      "183:\tlearn: 0.2255845\ttotal: 236ms\tremaining: 1.05s\n",
      "184:\tlearn: 0.2250186\ttotal: 237ms\tremaining: 1.04s\n",
      "185:\tlearn: 0.2243812\ttotal: 238ms\tremaining: 1.04s\n",
      "186:\tlearn: 0.2238111\ttotal: 239ms\tremaining: 1.04s\n",
      "187:\tlearn: 0.2235091\ttotal: 240ms\tremaining: 1.04s\n",
      "188:\tlearn: 0.2229707\ttotal: 241ms\tremaining: 1.03s\n",
      "189:\tlearn: 0.2223265\ttotal: 242ms\tremaining: 1.03s\n",
      "190:\tlearn: 0.2218162\ttotal: 243ms\tremaining: 1.03s\n",
      "191:\tlearn: 0.2215172\ttotal: 244ms\tremaining: 1.03s\n",
      "192:\tlearn: 0.2208295\ttotal: 245ms\tremaining: 1.02s\n",
      "193:\tlearn: 0.2198641\ttotal: 246ms\tremaining: 1.02s\n",
      "194:\tlearn: 0.2194157\ttotal: 247ms\tremaining: 1.02s\n",
      "195:\tlearn: 0.2187746\ttotal: 248ms\tremaining: 1.02s\n",
      "196:\tlearn: 0.2184167\ttotal: 249ms\tremaining: 1.01s\n",
      "197:\tlearn: 0.2177901\ttotal: 250ms\tremaining: 1.01s\n",
      "198:\tlearn: 0.2172680\ttotal: 251ms\tremaining: 1.01s\n",
      "199:\tlearn: 0.2166515\ttotal: 252ms\tremaining: 1.01s\n",
      "200:\tlearn: 0.2157673\ttotal: 254ms\tremaining: 1.01s\n",
      "201:\tlearn: 0.2151805\ttotal: 254ms\tremaining: 1s\n",
      "202:\tlearn: 0.2147559\ttotal: 255ms\tremaining: 1s\n",
      "203:\tlearn: 0.2139533\ttotal: 256ms\tremaining: 1s\n",
      "204:\tlearn: 0.2132498\ttotal: 257ms\tremaining: 998ms\n",
      "205:\tlearn: 0.2125963\ttotal: 258ms\tremaining: 996ms\n",
      "206:\tlearn: 0.2118774\ttotal: 259ms\tremaining: 993ms\n",
      "207:\tlearn: 0.2115507\ttotal: 260ms\tremaining: 991ms\n",
      "208:\tlearn: 0.2107488\ttotal: 261ms\tremaining: 989ms\n",
      "209:\tlearn: 0.2105797\ttotal: 262ms\tremaining: 986ms\n",
      "210:\tlearn: 0.2101893\ttotal: 263ms\tremaining: 984ms\n",
      "211:\tlearn: 0.2098808\ttotal: 264ms\tremaining: 983ms\n",
      "212:\tlearn: 0.2091473\ttotal: 265ms\tremaining: 980ms\n",
      "213:\tlearn: 0.2083840\ttotal: 267ms\tremaining: 979ms\n",
      "214:\tlearn: 0.2082737\ttotal: 267ms\tremaining: 977ms\n",
      "215:\tlearn: 0.2075701\ttotal: 269ms\tremaining: 975ms\n",
      "216:\tlearn: 0.2072188\ttotal: 270ms\tremaining: 973ms\n",
      "217:\tlearn: 0.2064620\ttotal: 271ms\tremaining: 971ms\n",
      "218:\tlearn: 0.2059815\ttotal: 272ms\tremaining: 969ms\n",
      "219:\tlearn: 0.2055370\ttotal: 273ms\tremaining: 967ms\n",
      "220:\tlearn: 0.2049030\ttotal: 274ms\tremaining: 965ms\n",
      "221:\tlearn: 0.2046245\ttotal: 275ms\tremaining: 963ms\n"
     ]
    },
    {
     "name": "stdout",
     "output_type": "stream",
     "text": [
      "222:\tlearn: 0.2043893\ttotal: 277ms\tremaining: 967ms\n",
      "223:\tlearn: 0.2040892\ttotal: 279ms\tremaining: 966ms\n",
      "224:\tlearn: 0.2035670\ttotal: 280ms\tremaining: 965ms\n",
      "225:\tlearn: 0.2028538\ttotal: 281ms\tremaining: 963ms\n",
      "226:\tlearn: 0.2022945\ttotal: 282ms\tremaining: 961ms\n",
      "227:\tlearn: 0.2021768\ttotal: 283ms\tremaining: 959ms\n",
      "228:\tlearn: 0.2018525\ttotal: 284ms\tremaining: 957ms\n",
      "229:\tlearn: 0.2016873\ttotal: 285ms\tremaining: 955ms\n",
      "230:\tlearn: 0.2011909\ttotal: 286ms\tremaining: 953ms\n",
      "231:\tlearn: 0.2003371\ttotal: 287ms\tremaining: 952ms\n",
      "232:\tlearn: 0.1997728\ttotal: 289ms\tremaining: 950ms\n",
      "233:\tlearn: 0.1992345\ttotal: 290ms\tremaining: 948ms\n",
      "234:\tlearn: 0.1988129\ttotal: 291ms\tremaining: 946ms\n",
      "235:\tlearn: 0.1980658\ttotal: 292ms\tremaining: 945ms\n",
      "236:\tlearn: 0.1978625\ttotal: 293ms\tremaining: 943ms\n",
      "237:\tlearn: 0.1975792\ttotal: 294ms\tremaining: 941ms\n",
      "238:\tlearn: 0.1967042\ttotal: 295ms\tremaining: 939ms\n",
      "239:\tlearn: 0.1965219\ttotal: 296ms\tremaining: 937ms\n",
      "240:\tlearn: 0.1960235\ttotal: 297ms\tremaining: 935ms\n",
      "241:\tlearn: 0.1953774\ttotal: 298ms\tremaining: 933ms\n",
      "242:\tlearn: 0.1951296\ttotal: 299ms\tremaining: 930ms\n",
      "243:\tlearn: 0.1946824\ttotal: 300ms\tremaining: 928ms\n",
      "244:\tlearn: 0.1941979\ttotal: 300ms\tremaining: 926ms\n",
      "245:\tlearn: 0.1939054\ttotal: 301ms\tremaining: 924ms\n",
      "246:\tlearn: 0.1937271\ttotal: 302ms\tremaining: 922ms\n",
      "247:\tlearn: 0.1932093\ttotal: 303ms\tremaining: 919ms\n",
      "248:\tlearn: 0.1927126\ttotal: 304ms\tremaining: 917ms\n",
      "249:\tlearn: 0.1922859\ttotal: 305ms\tremaining: 915ms\n",
      "250:\tlearn: 0.1917537\ttotal: 306ms\tremaining: 914ms\n",
      "251:\tlearn: 0.1914726\ttotal: 307ms\tremaining: 912ms\n",
      "252:\tlearn: 0.1913285\ttotal: 308ms\tremaining: 909ms\n",
      "253:\tlearn: 0.1912692\ttotal: 309ms\tremaining: 908ms\n",
      "254:\tlearn: 0.1910289\ttotal: 310ms\tremaining: 906ms\n",
      "255:\tlearn: 0.1908960\ttotal: 311ms\tremaining: 904ms\n",
      "256:\tlearn: 0.1902186\ttotal: 312ms\tremaining: 902ms\n",
      "257:\tlearn: 0.1897538\ttotal: 313ms\tremaining: 900ms\n",
      "258:\tlearn: 0.1890405\ttotal: 314ms\tremaining: 898ms\n",
      "259:\tlearn: 0.1885750\ttotal: 315ms\tremaining: 896ms\n",
      "260:\tlearn: 0.1884687\ttotal: 316ms\tremaining: 895ms\n",
      "261:\tlearn: 0.1877308\ttotal: 317ms\tremaining: 893ms\n",
      "262:\tlearn: 0.1875379\ttotal: 318ms\tremaining: 891ms\n",
      "263:\tlearn: 0.1870542\ttotal: 319ms\tremaining: 889ms\n",
      "264:\tlearn: 0.1864513\ttotal: 320ms\tremaining: 887ms\n",
      "265:\tlearn: 0.1862402\ttotal: 321ms\tremaining: 885ms\n",
      "266:\tlearn: 0.1860141\ttotal: 322ms\tremaining: 883ms\n",
      "267:\tlearn: 0.1854312\ttotal: 323ms\tremaining: 882ms\n",
      "268:\tlearn: 0.1849136\ttotal: 324ms\tremaining: 880ms\n",
      "269:\tlearn: 0.1844690\ttotal: 325ms\tremaining: 878ms\n",
      "270:\tlearn: 0.1840071\ttotal: 326ms\tremaining: 876ms\n",
      "271:\tlearn: 0.1836020\ttotal: 327ms\tremaining: 875ms\n",
      "272:\tlearn: 0.1833747\ttotal: 328ms\tremaining: 873ms\n",
      "273:\tlearn: 0.1832705\ttotal: 329ms\tremaining: 871ms\n",
      "274:\tlearn: 0.1827088\ttotal: 330ms\tremaining: 870ms\n",
      "275:\tlearn: 0.1825945\ttotal: 331ms\tremaining: 868ms\n",
      "276:\tlearn: 0.1823533\ttotal: 332ms\tremaining: 867ms\n",
      "277:\tlearn: 0.1818392\ttotal: 333ms\tremaining: 865ms\n",
      "278:\tlearn: 0.1813859\ttotal: 334ms\tremaining: 864ms\n",
      "279:\tlearn: 0.1810931\ttotal: 335ms\tremaining: 862ms\n",
      "280:\tlearn: 0.1806334\ttotal: 336ms\tremaining: 860ms\n",
      "281:\tlearn: 0.1803102\ttotal: 337ms\tremaining: 859ms\n",
      "282:\tlearn: 0.1799096\ttotal: 338ms\tremaining: 857ms\n",
      "283:\tlearn: 0.1796933\ttotal: 339ms\tremaining: 855ms\n",
      "284:\tlearn: 0.1795103\ttotal: 340ms\tremaining: 854ms\n",
      "285:\tlearn: 0.1789855\ttotal: 341ms\tremaining: 852ms\n",
      "286:\tlearn: 0.1785487\ttotal: 342ms\tremaining: 851ms\n",
      "287:\tlearn: 0.1782235\ttotal: 343ms\tremaining: 849ms\n",
      "288:\tlearn: 0.1781479\ttotal: 344ms\tremaining: 847ms\n",
      "289:\tlearn: 0.1780226\ttotal: 345ms\tremaining: 845ms\n",
      "290:\tlearn: 0.1775857\ttotal: 346ms\tremaining: 843ms\n",
      "291:\tlearn: 0.1772518\ttotal: 347ms\tremaining: 842ms\n",
      "292:\tlearn: 0.1766189\ttotal: 348ms\tremaining: 840ms\n",
      "293:\tlearn: 0.1761575\ttotal: 349ms\tremaining: 839ms\n",
      "294:\tlearn: 0.1759007\ttotal: 350ms\tremaining: 837ms\n",
      "295:\tlearn: 0.1754986\ttotal: 351ms\tremaining: 835ms\n",
      "296:\tlearn: 0.1749037\ttotal: 352ms\tremaining: 833ms\n",
      "297:\tlearn: 0.1743195\ttotal: 353ms\tremaining: 831ms\n",
      "298:\tlearn: 0.1741273\ttotal: 354ms\tremaining: 830ms\n",
      "299:\tlearn: 0.1740143\ttotal: 355ms\tremaining: 828ms\n",
      "300:\tlearn: 0.1736943\ttotal: 356ms\tremaining: 826ms\n",
      "301:\tlearn: 0.1733107\ttotal: 357ms\tremaining: 825ms\n",
      "302:\tlearn: 0.1729718\ttotal: 358ms\tremaining: 823ms\n",
      "303:\tlearn: 0.1726058\ttotal: 359ms\tremaining: 821ms\n",
      "304:\tlearn: 0.1723886\ttotal: 360ms\tremaining: 820ms\n",
      "305:\tlearn: 0.1718250\ttotal: 361ms\tremaining: 818ms\n",
      "306:\tlearn: 0.1713014\ttotal: 362ms\tremaining: 817ms\n",
      "307:\tlearn: 0.1706727\ttotal: 363ms\tremaining: 815ms\n",
      "308:\tlearn: 0.1705600\ttotal: 364ms\tremaining: 814ms\n",
      "309:\tlearn: 0.1701742\ttotal: 365ms\tremaining: 812ms\n",
      "310:\tlearn: 0.1700727\ttotal: 366ms\tremaining: 810ms\n",
      "311:\tlearn: 0.1696563\ttotal: 366ms\tremaining: 808ms\n",
      "312:\tlearn: 0.1690691\ttotal: 368ms\tremaining: 807ms\n",
      "313:\tlearn: 0.1686249\ttotal: 369ms\tremaining: 805ms\n",
      "314:\tlearn: 0.1681881\ttotal: 370ms\tremaining: 804ms\n",
      "315:\tlearn: 0.1680118\ttotal: 371ms\tremaining: 802ms\n",
      "316:\tlearn: 0.1676596\ttotal: 372ms\tremaining: 801ms\n",
      "317:\tlearn: 0.1672813\ttotal: 373ms\tremaining: 799ms\n",
      "318:\tlearn: 0.1667084\ttotal: 374ms\tremaining: 797ms\n",
      "319:\tlearn: 0.1659995\ttotal: 375ms\tremaining: 796ms\n",
      "320:\tlearn: 0.1657427\ttotal: 375ms\tremaining: 794ms\n",
      "321:\tlearn: 0.1655087\ttotal: 376ms\tremaining: 793ms\n",
      "322:\tlearn: 0.1653039\ttotal: 378ms\tremaining: 791ms\n",
      "323:\tlearn: 0.1648986\ttotal: 378ms\tremaining: 790ms\n",
      "324:\tlearn: 0.1647782\ttotal: 380ms\tremaining: 788ms\n",
      "325:\tlearn: 0.1646501\ttotal: 381ms\tremaining: 787ms\n",
      "326:\tlearn: 0.1642927\ttotal: 382ms\tremaining: 785ms\n",
      "327:\tlearn: 0.1637625\ttotal: 383ms\tremaining: 784ms\n",
      "328:\tlearn: 0.1632756\ttotal: 384ms\tremaining: 783ms\n",
      "329:\tlearn: 0.1631451\ttotal: 385ms\tremaining: 781ms\n",
      "330:\tlearn: 0.1627372\ttotal: 386ms\tremaining: 779ms\n",
      "331:\tlearn: 0.1624168\ttotal: 387ms\tremaining: 778ms\n",
      "332:\tlearn: 0.1621354\ttotal: 388ms\tremaining: 776ms\n",
      "333:\tlearn: 0.1617824\ttotal: 389ms\tremaining: 775ms\n",
      "334:\tlearn: 0.1614777\ttotal: 390ms\tremaining: 774ms\n",
      "335:\tlearn: 0.1613449\ttotal: 391ms\tremaining: 772ms\n",
      "336:\tlearn: 0.1610232\ttotal: 392ms\tremaining: 770ms\n",
      "337:\tlearn: 0.1606064\ttotal: 393ms\tremaining: 769ms\n",
      "338:\tlearn: 0.1602766\ttotal: 394ms\tremaining: 768ms\n",
      "339:\tlearn: 0.1597178\ttotal: 395ms\tremaining: 766ms\n",
      "340:\tlearn: 0.1593932\ttotal: 396ms\tremaining: 765ms\n",
      "341:\tlearn: 0.1588092\ttotal: 397ms\tremaining: 764ms\n",
      "342:\tlearn: 0.1582874\ttotal: 398ms\tremaining: 762ms\n",
      "343:\tlearn: 0.1579631\ttotal: 399ms\tremaining: 761ms\n",
      "344:\tlearn: 0.1576203\ttotal: 400ms\tremaining: 759ms\n",
      "345:\tlearn: 0.1572728\ttotal: 401ms\tremaining: 758ms\n",
      "346:\tlearn: 0.1568248\ttotal: 402ms\tremaining: 756ms\n",
      "347:\tlearn: 0.1567198\ttotal: 403ms\tremaining: 755ms\n",
      "348:\tlearn: 0.1563001\ttotal: 404ms\tremaining: 753ms\n",
      "349:\tlearn: 0.1561038\ttotal: 405ms\tremaining: 752ms\n",
      "350:\tlearn: 0.1559145\ttotal: 406ms\tremaining: 750ms\n",
      "351:\tlearn: 0.1555288\ttotal: 407ms\tremaining: 749ms\n",
      "352:\tlearn: 0.1550685\ttotal: 408ms\tremaining: 748ms\n"
     ]
    },
    {
     "name": "stdout",
     "output_type": "stream",
     "text": [
      "353:\tlearn: 0.1548165\ttotal: 409ms\tremaining: 747ms\n",
      "354:\tlearn: 0.1546827\ttotal: 410ms\tremaining: 746ms\n",
      "355:\tlearn: 0.1542477\ttotal: 411ms\tremaining: 744ms\n",
      "356:\tlearn: 0.1541358\ttotal: 412ms\tremaining: 743ms\n",
      "357:\tlearn: 0.1536891\ttotal: 413ms\tremaining: 741ms\n",
      "358:\tlearn: 0.1535643\ttotal: 414ms\tremaining: 740ms\n",
      "359:\tlearn: 0.1530192\ttotal: 415ms\tremaining: 738ms\n",
      "360:\tlearn: 0.1524644\ttotal: 416ms\tremaining: 737ms\n",
      "361:\tlearn: 0.1523569\ttotal: 417ms\tremaining: 736ms\n",
      "362:\tlearn: 0.1520135\ttotal: 418ms\tremaining: 734ms\n",
      "363:\tlearn: 0.1517027\ttotal: 419ms\tremaining: 733ms\n",
      "364:\tlearn: 0.1514844\ttotal: 420ms\tremaining: 731ms\n",
      "365:\tlearn: 0.1513131\ttotal: 422ms\tremaining: 731ms\n",
      "366:\tlearn: 0.1508797\ttotal: 423ms\tremaining: 729ms\n",
      "367:\tlearn: 0.1506199\ttotal: 424ms\tremaining: 728ms\n",
      "368:\tlearn: 0.1504533\ttotal: 425ms\tremaining: 726ms\n",
      "369:\tlearn: 0.1501616\ttotal: 426ms\tremaining: 725ms\n",
      "370:\tlearn: 0.1498851\ttotal: 427ms\tremaining: 724ms\n",
      "371:\tlearn: 0.1495919\ttotal: 428ms\tremaining: 722ms\n",
      "372:\tlearn: 0.1494135\ttotal: 429ms\tremaining: 721ms\n",
      "373:\tlearn: 0.1490968\ttotal: 430ms\tremaining: 719ms\n",
      "374:\tlearn: 0.1485963\ttotal: 431ms\tremaining: 718ms\n",
      "375:\tlearn: 0.1482766\ttotal: 432ms\tremaining: 716ms\n",
      "376:\tlearn: 0.1478298\ttotal: 433ms\tremaining: 715ms\n",
      "377:\tlearn: 0.1476006\ttotal: 434ms\tremaining: 714ms\n",
      "378:\tlearn: 0.1473499\ttotal: 435ms\tremaining: 713ms\n",
      "379:\tlearn: 0.1471853\ttotal: 436ms\tremaining: 711ms\n",
      "380:\tlearn: 0.1469813\ttotal: 437ms\tremaining: 710ms\n",
      "381:\tlearn: 0.1465674\ttotal: 438ms\tremaining: 708ms\n",
      "382:\tlearn: 0.1462373\ttotal: 439ms\tremaining: 707ms\n",
      "383:\tlearn: 0.1457221\ttotal: 440ms\tremaining: 706ms\n",
      "384:\tlearn: 0.1452837\ttotal: 441ms\tremaining: 704ms\n",
      "385:\tlearn: 0.1450674\ttotal: 442ms\tremaining: 703ms\n",
      "386:\tlearn: 0.1446316\ttotal: 443ms\tremaining: 701ms\n",
      "387:\tlearn: 0.1441843\ttotal: 444ms\tremaining: 700ms\n",
      "388:\tlearn: 0.1438183\ttotal: 445ms\tremaining: 699ms\n",
      "389:\tlearn: 0.1435213\ttotal: 446ms\tremaining: 697ms\n",
      "390:\tlearn: 0.1433976\ttotal: 447ms\tremaining: 696ms\n",
      "391:\tlearn: 0.1433040\ttotal: 448ms\tremaining: 695ms\n",
      "392:\tlearn: 0.1428419\ttotal: 449ms\tremaining: 693ms\n",
      "393:\tlearn: 0.1425478\ttotal: 450ms\tremaining: 692ms\n",
      "394:\tlearn: 0.1421154\ttotal: 451ms\tremaining: 690ms\n",
      "395:\tlearn: 0.1418981\ttotal: 452ms\tremaining: 689ms\n",
      "396:\tlearn: 0.1414923\ttotal: 453ms\tremaining: 687ms\n",
      "397:\tlearn: 0.1411169\ttotal: 454ms\tremaining: 686ms\n",
      "398:\tlearn: 0.1410650\ttotal: 454ms\tremaining: 684ms\n",
      "399:\tlearn: 0.1409717\ttotal: 455ms\tremaining: 683ms\n",
      "400:\tlearn: 0.1406656\ttotal: 456ms\tremaining: 682ms\n",
      "401:\tlearn: 0.1404705\ttotal: 457ms\tremaining: 680ms\n",
      "402:\tlearn: 0.1401351\ttotal: 458ms\tremaining: 679ms\n",
      "403:\tlearn: 0.1397403\ttotal: 459ms\tremaining: 678ms\n",
      "404:\tlearn: 0.1394163\ttotal: 460ms\tremaining: 676ms\n",
      "405:\tlearn: 0.1389964\ttotal: 461ms\tremaining: 675ms\n",
      "406:\tlearn: 0.1389053\ttotal: 462ms\tremaining: 674ms\n",
      "407:\tlearn: 0.1386740\ttotal: 463ms\tremaining: 672ms\n",
      "408:\tlearn: 0.1382957\ttotal: 464ms\tremaining: 671ms\n",
      "409:\tlearn: 0.1381690\ttotal: 465ms\tremaining: 669ms\n",
      "410:\tlearn: 0.1377003\ttotal: 466ms\tremaining: 668ms\n",
      "411:\tlearn: 0.1375501\ttotal: 467ms\tremaining: 666ms\n",
      "412:\tlearn: 0.1373086\ttotal: 468ms\tremaining: 665ms\n",
      "413:\tlearn: 0.1369270\ttotal: 469ms\tremaining: 663ms\n",
      "414:\tlearn: 0.1367930\ttotal: 470ms\tremaining: 662ms\n",
      "415:\tlearn: 0.1364605\ttotal: 471ms\tremaining: 661ms\n",
      "416:\tlearn: 0.1361364\ttotal: 472ms\tremaining: 659ms\n",
      "417:\tlearn: 0.1360066\ttotal: 472ms\tremaining: 658ms\n",
      "418:\tlearn: 0.1359046\ttotal: 473ms\tremaining: 656ms\n",
      "419:\tlearn: 0.1354605\ttotal: 474ms\tremaining: 655ms\n",
      "420:\tlearn: 0.1350525\ttotal: 475ms\tremaining: 654ms\n",
      "421:\tlearn: 0.1346865\ttotal: 476ms\tremaining: 652ms\n",
      "422:\tlearn: 0.1343040\ttotal: 477ms\tremaining: 651ms\n",
      "423:\tlearn: 0.1342688\ttotal: 478ms\tremaining: 650ms\n",
      "424:\tlearn: 0.1339476\ttotal: 479ms\tremaining: 648ms\n",
      "425:\tlearn: 0.1336221\ttotal: 480ms\tremaining: 647ms\n",
      "426:\tlearn: 0.1333483\ttotal: 481ms\tremaining: 645ms\n",
      "427:\tlearn: 0.1331074\ttotal: 482ms\tremaining: 644ms\n",
      "428:\tlearn: 0.1328603\ttotal: 483ms\tremaining: 643ms\n",
      "429:\tlearn: 0.1328238\ttotal: 484ms\tremaining: 641ms\n",
      "430:\tlearn: 0.1326755\ttotal: 485ms\tremaining: 640ms\n",
      "431:\tlearn: 0.1324536\ttotal: 486ms\tremaining: 639ms\n",
      "432:\tlearn: 0.1321345\ttotal: 487ms\tremaining: 637ms\n",
      "433:\tlearn: 0.1318790\ttotal: 488ms\tremaining: 636ms\n",
      "434:\tlearn: 0.1316368\ttotal: 489ms\tremaining: 635ms\n",
      "435:\tlearn: 0.1314387\ttotal: 490ms\tremaining: 634ms\n",
      "436:\tlearn: 0.1313237\ttotal: 491ms\tremaining: 632ms\n",
      "437:\tlearn: 0.1311782\ttotal: 492ms\tremaining: 631ms\n",
      "438:\tlearn: 0.1309067\ttotal: 493ms\tremaining: 630ms\n",
      "439:\tlearn: 0.1307047\ttotal: 494ms\tremaining: 629ms\n",
      "440:\tlearn: 0.1305345\ttotal: 495ms\tremaining: 627ms\n",
      "441:\tlearn: 0.1301237\ttotal: 496ms\tremaining: 626ms\n",
      "442:\tlearn: 0.1298078\ttotal: 497ms\tremaining: 625ms\n",
      "443:\tlearn: 0.1296120\ttotal: 498ms\tremaining: 624ms\n",
      "444:\tlearn: 0.1293572\ttotal: 499ms\tremaining: 622ms\n",
      "445:\tlearn: 0.1292430\ttotal: 500ms\tremaining: 621ms\n",
      "446:\tlearn: 0.1289538\ttotal: 501ms\tremaining: 619ms\n",
      "447:\tlearn: 0.1288611\ttotal: 502ms\tremaining: 618ms\n",
      "448:\tlearn: 0.1286574\ttotal: 503ms\tremaining: 617ms\n",
      "449:\tlearn: 0.1283280\ttotal: 504ms\tremaining: 616ms\n",
      "450:\tlearn: 0.1280541\ttotal: 505ms\tremaining: 614ms\n",
      "451:\tlearn: 0.1277858\ttotal: 506ms\tremaining: 613ms\n",
      "452:\tlearn: 0.1275146\ttotal: 507ms\tremaining: 612ms\n",
      "453:\tlearn: 0.1273225\ttotal: 508ms\tremaining: 611ms\n",
      "454:\tlearn: 0.1270806\ttotal: 509ms\tremaining: 609ms\n",
      "455:\tlearn: 0.1267570\ttotal: 510ms\tremaining: 608ms\n",
      "456:\tlearn: 0.1266331\ttotal: 511ms\tremaining: 607ms\n",
      "457:\tlearn: 0.1263021\ttotal: 512ms\tremaining: 606ms\n",
      "458:\tlearn: 0.1262140\ttotal: 513ms\tremaining: 605ms\n",
      "459:\tlearn: 0.1260917\ttotal: 514ms\tremaining: 603ms\n",
      "460:\tlearn: 0.1257915\ttotal: 515ms\tremaining: 602ms\n",
      "461:\tlearn: 0.1256062\ttotal: 516ms\tremaining: 601ms\n",
      "462:\tlearn: 0.1252896\ttotal: 517ms\tremaining: 599ms\n",
      "463:\tlearn: 0.1250442\ttotal: 518ms\tremaining: 598ms\n",
      "464:\tlearn: 0.1247616\ttotal: 519ms\tremaining: 597ms\n",
      "465:\tlearn: 0.1244678\ttotal: 520ms\tremaining: 596ms\n",
      "466:\tlearn: 0.1240781\ttotal: 521ms\tremaining: 595ms\n",
      "467:\tlearn: 0.1239726\ttotal: 522ms\tremaining: 593ms\n",
      "468:\tlearn: 0.1237371\ttotal: 523ms\tremaining: 592ms\n",
      "469:\tlearn: 0.1236012\ttotal: 524ms\tremaining: 591ms\n",
      "470:\tlearn: 0.1234266\ttotal: 525ms\tremaining: 590ms\n",
      "471:\tlearn: 0.1230423\ttotal: 526ms\tremaining: 588ms\n",
      "472:\tlearn: 0.1228105\ttotal: 527ms\tremaining: 587ms\n",
      "473:\tlearn: 0.1225026\ttotal: 528ms\tremaining: 586ms\n",
      "474:\tlearn: 0.1221766\ttotal: 529ms\tremaining: 585ms\n",
      "475:\tlearn: 0.1221656\ttotal: 530ms\tremaining: 584ms\n",
      "476:\tlearn: 0.1217290\ttotal: 531ms\tremaining: 582ms\n",
      "477:\tlearn: 0.1214500\ttotal: 532ms\tremaining: 581ms\n",
      "478:\tlearn: 0.1212265\ttotal: 533ms\tremaining: 580ms\n",
      "479:\tlearn: 0.1209037\ttotal: 534ms\tremaining: 579ms\n",
      "480:\tlearn: 0.1205746\ttotal: 535ms\tremaining: 577ms\n",
      "481:\tlearn: 0.1202951\ttotal: 536ms\tremaining: 576ms\n",
      "482:\tlearn: 0.1200267\ttotal: 537ms\tremaining: 575ms\n",
      "483:\tlearn: 0.1199158\ttotal: 538ms\tremaining: 574ms\n"
     ]
    },
    {
     "name": "stdout",
     "output_type": "stream",
     "text": [
      "484:\tlearn: 0.1195580\ttotal: 539ms\tremaining: 573ms\n",
      "485:\tlearn: 0.1193243\ttotal: 541ms\tremaining: 572ms\n",
      "486:\tlearn: 0.1190074\ttotal: 542ms\tremaining: 571ms\n",
      "487:\tlearn: 0.1186672\ttotal: 543ms\tremaining: 570ms\n",
      "488:\tlearn: 0.1184086\ttotal: 544ms\tremaining: 569ms\n",
      "489:\tlearn: 0.1181188\ttotal: 545ms\tremaining: 567ms\n",
      "490:\tlearn: 0.1178229\ttotal: 546ms\tremaining: 566ms\n",
      "491:\tlearn: 0.1175568\ttotal: 547ms\tremaining: 565ms\n",
      "492:\tlearn: 0.1173024\ttotal: 548ms\tremaining: 564ms\n",
      "493:\tlearn: 0.1170474\ttotal: 549ms\tremaining: 563ms\n",
      "494:\tlearn: 0.1167976\ttotal: 551ms\tremaining: 562ms\n",
      "495:\tlearn: 0.1164322\ttotal: 552ms\tremaining: 561ms\n",
      "496:\tlearn: 0.1162010\ttotal: 553ms\tremaining: 559ms\n",
      "497:\tlearn: 0.1159849\ttotal: 554ms\tremaining: 558ms\n",
      "498:\tlearn: 0.1156886\ttotal: 555ms\tremaining: 557ms\n",
      "499:\tlearn: 0.1154487\ttotal: 556ms\tremaining: 556ms\n",
      "500:\tlearn: 0.1151519\ttotal: 557ms\tremaining: 554ms\n",
      "501:\tlearn: 0.1148909\ttotal: 558ms\tremaining: 553ms\n",
      "502:\tlearn: 0.1146261\ttotal: 559ms\tremaining: 552ms\n",
      "503:\tlearn: 0.1142804\ttotal: 560ms\tremaining: 551ms\n",
      "504:\tlearn: 0.1139898\ttotal: 561ms\tremaining: 550ms\n",
      "505:\tlearn: 0.1137372\ttotal: 562ms\tremaining: 549ms\n",
      "506:\tlearn: 0.1134304\ttotal: 563ms\tremaining: 547ms\n",
      "507:\tlearn: 0.1131369\ttotal: 564ms\tremaining: 546ms\n",
      "508:\tlearn: 0.1128727\ttotal: 565ms\tremaining: 545ms\n",
      "509:\tlearn: 0.1126395\ttotal: 566ms\tremaining: 544ms\n",
      "510:\tlearn: 0.1124695\ttotal: 567ms\tremaining: 542ms\n",
      "511:\tlearn: 0.1121976\ttotal: 568ms\tremaining: 541ms\n",
      "512:\tlearn: 0.1119814\ttotal: 569ms\tremaining: 540ms\n",
      "513:\tlearn: 0.1117533\ttotal: 570ms\tremaining: 539ms\n",
      "514:\tlearn: 0.1113826\ttotal: 571ms\tremaining: 538ms\n",
      "515:\tlearn: 0.1112356\ttotal: 572ms\tremaining: 537ms\n",
      "516:\tlearn: 0.1109664\ttotal: 573ms\tremaining: 536ms\n",
      "517:\tlearn: 0.1106143\ttotal: 574ms\tremaining: 534ms\n",
      "518:\tlearn: 0.1103883\ttotal: 575ms\tremaining: 533ms\n",
      "519:\tlearn: 0.1102007\ttotal: 576ms\tremaining: 532ms\n",
      "520:\tlearn: 0.1099477\ttotal: 577ms\tremaining: 531ms\n",
      "521:\tlearn: 0.1096996\ttotal: 579ms\tremaining: 530ms\n",
      "522:\tlearn: 0.1096281\ttotal: 580ms\tremaining: 529ms\n",
      "523:\tlearn: 0.1093723\ttotal: 580ms\tremaining: 527ms\n",
      "524:\tlearn: 0.1091387\ttotal: 581ms\tremaining: 526ms\n",
      "525:\tlearn: 0.1089316\ttotal: 583ms\tremaining: 525ms\n",
      "526:\tlearn: 0.1087282\ttotal: 583ms\tremaining: 524ms\n",
      "527:\tlearn: 0.1086317\ttotal: 584ms\tremaining: 522ms\n",
      "528:\tlearn: 0.1084616\ttotal: 586ms\tremaining: 521ms\n",
      "529:\tlearn: 0.1083058\ttotal: 587ms\tremaining: 520ms\n",
      "530:\tlearn: 0.1080129\ttotal: 587ms\tremaining: 519ms\n",
      "531:\tlearn: 0.1079737\ttotal: 588ms\tremaining: 518ms\n",
      "532:\tlearn: 0.1077464\ttotal: 589ms\tremaining: 516ms\n",
      "533:\tlearn: 0.1075318\ttotal: 590ms\tremaining: 515ms\n",
      "534:\tlearn: 0.1074105\ttotal: 591ms\tremaining: 514ms\n",
      "535:\tlearn: 0.1072138\ttotal: 592ms\tremaining: 513ms\n",
      "536:\tlearn: 0.1069683\ttotal: 593ms\tremaining: 512ms\n",
      "537:\tlearn: 0.1066834\ttotal: 595ms\tremaining: 511ms\n",
      "538:\tlearn: 0.1064884\ttotal: 596ms\tremaining: 509ms\n",
      "539:\tlearn: 0.1064068\ttotal: 597ms\tremaining: 508ms\n",
      "540:\tlearn: 0.1062251\ttotal: 598ms\tremaining: 507ms\n",
      "541:\tlearn: 0.1059523\ttotal: 599ms\tremaining: 506ms\n",
      "542:\tlearn: 0.1059235\ttotal: 600ms\tremaining: 505ms\n",
      "543:\tlearn: 0.1058022\ttotal: 601ms\tremaining: 504ms\n",
      "544:\tlearn: 0.1056151\ttotal: 602ms\tremaining: 502ms\n",
      "545:\tlearn: 0.1053258\ttotal: 603ms\tremaining: 501ms\n",
      "546:\tlearn: 0.1051435\ttotal: 604ms\tremaining: 500ms\n",
      "547:\tlearn: 0.1050259\ttotal: 605ms\tremaining: 499ms\n",
      "548:\tlearn: 0.1050048\ttotal: 606ms\tremaining: 498ms\n",
      "549:\tlearn: 0.1048395\ttotal: 607ms\tremaining: 497ms\n",
      "550:\tlearn: 0.1045906\ttotal: 608ms\tremaining: 495ms\n",
      "551:\tlearn: 0.1045185\ttotal: 609ms\tremaining: 494ms\n",
      "552:\tlearn: 0.1042680\ttotal: 610ms\tremaining: 493ms\n",
      "553:\tlearn: 0.1040468\ttotal: 611ms\tremaining: 492ms\n",
      "554:\tlearn: 0.1038520\ttotal: 612ms\tremaining: 491ms\n",
      "555:\tlearn: 0.1038326\ttotal: 613ms\tremaining: 490ms\n",
      "556:\tlearn: 0.1038214\ttotal: 615ms\tremaining: 489ms\n",
      "557:\tlearn: 0.1036092\ttotal: 616ms\tremaining: 488ms\n",
      "558:\tlearn: 0.1034637\ttotal: 617ms\tremaining: 487ms\n",
      "559:\tlearn: 0.1032757\ttotal: 618ms\tremaining: 485ms\n",
      "560:\tlearn: 0.1030410\ttotal: 619ms\tremaining: 484ms\n",
      "561:\tlearn: 0.1028021\ttotal: 620ms\tremaining: 483ms\n",
      "562:\tlearn: 0.1025737\ttotal: 621ms\tremaining: 482ms\n",
      "563:\tlearn: 0.1025359\ttotal: 622ms\tremaining: 481ms\n",
      "564:\tlearn: 0.1023672\ttotal: 623ms\tremaining: 479ms\n",
      "565:\tlearn: 0.1021381\ttotal: 624ms\tremaining: 478ms\n",
      "566:\tlearn: 0.1019716\ttotal: 625ms\tremaining: 477ms\n",
      "567:\tlearn: 0.1017006\ttotal: 626ms\tremaining: 476ms\n",
      "568:\tlearn: 0.1015103\ttotal: 627ms\tremaining: 475ms\n",
      "569:\tlearn: 0.1012920\ttotal: 628ms\tremaining: 474ms\n",
      "570:\tlearn: 0.1010387\ttotal: 629ms\tremaining: 472ms\n",
      "571:\tlearn: 0.1008284\ttotal: 630ms\tremaining: 471ms\n",
      "572:\tlearn: 0.1006661\ttotal: 631ms\tremaining: 470ms\n",
      "573:\tlearn: 0.1004630\ttotal: 632ms\tremaining: 469ms\n",
      "574:\tlearn: 0.1002311\ttotal: 633ms\tremaining: 468ms\n",
      "575:\tlearn: 0.1000812\ttotal: 634ms\tremaining: 467ms\n",
      "576:\tlearn: 0.0998823\ttotal: 635ms\tremaining: 465ms\n",
      "577:\tlearn: 0.0995677\ttotal: 636ms\tremaining: 464ms\n",
      "578:\tlearn: 0.0993364\ttotal: 637ms\tremaining: 463ms\n",
      "579:\tlearn: 0.0991023\ttotal: 638ms\tremaining: 462ms\n",
      "580:\tlearn: 0.0989227\ttotal: 639ms\tremaining: 461ms\n",
      "581:\tlearn: 0.0987746\ttotal: 640ms\tremaining: 460ms\n",
      "582:\tlearn: 0.0986088\ttotal: 641ms\tremaining: 458ms\n",
      "583:\tlearn: 0.0985900\ttotal: 642ms\tremaining: 457ms\n",
      "584:\tlearn: 0.0983843\ttotal: 643ms\tremaining: 456ms\n",
      "585:\tlearn: 0.0981141\ttotal: 644ms\tremaining: 455ms\n",
      "586:\tlearn: 0.0979709\ttotal: 645ms\tremaining: 453ms\n",
      "587:\tlearn: 0.0978746\ttotal: 645ms\tremaining: 452ms\n",
      "588:\tlearn: 0.0976238\ttotal: 646ms\tremaining: 451ms\n",
      "589:\tlearn: 0.0975329\ttotal: 647ms\tremaining: 450ms\n",
      "590:\tlearn: 0.0972597\ttotal: 648ms\tremaining: 449ms\n",
      "591:\tlearn: 0.0970939\ttotal: 649ms\tremaining: 448ms\n",
      "592:\tlearn: 0.0970337\ttotal: 650ms\tremaining: 446ms\n",
      "593:\tlearn: 0.0969307\ttotal: 651ms\tremaining: 445ms\n",
      "594:\tlearn: 0.0968106\ttotal: 653ms\tremaining: 444ms\n",
      "595:\tlearn: 0.0966987\ttotal: 654ms\tremaining: 443ms\n",
      "596:\tlearn: 0.0964923\ttotal: 655ms\tremaining: 442ms\n",
      "597:\tlearn: 0.0963376\ttotal: 656ms\tremaining: 441ms\n",
      "598:\tlearn: 0.0961941\ttotal: 657ms\tremaining: 440ms\n",
      "599:\tlearn: 0.0959933\ttotal: 658ms\tremaining: 438ms\n",
      "600:\tlearn: 0.0959316\ttotal: 659ms\tremaining: 437ms\n",
      "601:\tlearn: 0.0957186\ttotal: 660ms\tremaining: 436ms\n",
      "602:\tlearn: 0.0955530\ttotal: 661ms\tremaining: 435ms\n",
      "603:\tlearn: 0.0952703\ttotal: 661ms\tremaining: 434ms\n",
      "604:\tlearn: 0.0951002\ttotal: 662ms\tremaining: 432ms\n",
      "605:\tlearn: 0.0949731\ttotal: 663ms\tremaining: 431ms\n",
      "606:\tlearn: 0.0948066\ttotal: 664ms\tremaining: 430ms\n",
      "607:\tlearn: 0.0947984\ttotal: 665ms\tremaining: 429ms\n",
      "608:\tlearn: 0.0946480\ttotal: 666ms\tremaining: 428ms\n",
      "609:\tlearn: 0.0944698\ttotal: 667ms\tremaining: 427ms\n",
      "610:\tlearn: 0.0943804\ttotal: 668ms\tremaining: 426ms\n",
      "611:\tlearn: 0.0942352\ttotal: 669ms\tremaining: 424ms\n",
      "612:\tlearn: 0.0940276\ttotal: 670ms\tremaining: 423ms\n",
      "613:\tlearn: 0.0938927\ttotal: 671ms\tremaining: 422ms\n"
     ]
    },
    {
     "name": "stdout",
     "output_type": "stream",
     "text": [
      "614:\tlearn: 0.0938441\ttotal: 672ms\tremaining: 421ms\n",
      "615:\tlearn: 0.0936905\ttotal: 674ms\tremaining: 420ms\n",
      "616:\tlearn: 0.0935246\ttotal: 675ms\tremaining: 419ms\n",
      "617:\tlearn: 0.0933293\ttotal: 676ms\tremaining: 418ms\n",
      "618:\tlearn: 0.0931766\ttotal: 677ms\tremaining: 417ms\n",
      "619:\tlearn: 0.0930408\ttotal: 679ms\tremaining: 416ms\n",
      "620:\tlearn: 0.0928077\ttotal: 680ms\tremaining: 415ms\n",
      "621:\tlearn: 0.0926171\ttotal: 681ms\tremaining: 414ms\n",
      "622:\tlearn: 0.0924227\ttotal: 682ms\tremaining: 413ms\n",
      "623:\tlearn: 0.0922045\ttotal: 683ms\tremaining: 412ms\n",
      "624:\tlearn: 0.0920365\ttotal: 684ms\tremaining: 410ms\n",
      "625:\tlearn: 0.0918359\ttotal: 685ms\tremaining: 409ms\n",
      "626:\tlearn: 0.0917271\ttotal: 686ms\tremaining: 408ms\n",
      "627:\tlearn: 0.0915221\ttotal: 687ms\tremaining: 407ms\n",
      "628:\tlearn: 0.0913792\ttotal: 688ms\tremaining: 406ms\n",
      "629:\tlearn: 0.0912103\ttotal: 689ms\tremaining: 405ms\n",
      "630:\tlearn: 0.0910079\ttotal: 690ms\tremaining: 404ms\n",
      "631:\tlearn: 0.0908834\ttotal: 691ms\tremaining: 403ms\n",
      "632:\tlearn: 0.0907082\ttotal: 693ms\tremaining: 402ms\n",
      "633:\tlearn: 0.0905362\ttotal: 694ms\tremaining: 400ms\n",
      "634:\tlearn: 0.0905031\ttotal: 695ms\tremaining: 399ms\n",
      "635:\tlearn: 0.0902878\ttotal: 696ms\tremaining: 398ms\n",
      "636:\tlearn: 0.0901717\ttotal: 697ms\tremaining: 397ms\n",
      "637:\tlearn: 0.0900248\ttotal: 698ms\tremaining: 396ms\n",
      "638:\tlearn: 0.0899036\ttotal: 699ms\tremaining: 395ms\n",
      "639:\tlearn: 0.0896955\ttotal: 700ms\tremaining: 394ms\n",
      "640:\tlearn: 0.0896872\ttotal: 701ms\tremaining: 393ms\n",
      "641:\tlearn: 0.0895614\ttotal: 702ms\tremaining: 391ms\n",
      "642:\tlearn: 0.0893608\ttotal: 703ms\tremaining: 390ms\n",
      "643:\tlearn: 0.0892482\ttotal: 704ms\tremaining: 389ms\n",
      "644:\tlearn: 0.0890975\ttotal: 705ms\tremaining: 388ms\n",
      "645:\tlearn: 0.0889503\ttotal: 706ms\tremaining: 387ms\n",
      "646:\tlearn: 0.0888016\ttotal: 707ms\tremaining: 386ms\n",
      "647:\tlearn: 0.0885559\ttotal: 709ms\tremaining: 385ms\n",
      "648:\tlearn: 0.0884075\ttotal: 710ms\tremaining: 384ms\n",
      "649:\tlearn: 0.0882586\ttotal: 711ms\tremaining: 383ms\n",
      "650:\tlearn: 0.0880746\ttotal: 712ms\tremaining: 382ms\n",
      "651:\tlearn: 0.0879486\ttotal: 713ms\tremaining: 380ms\n",
      "652:\tlearn: 0.0878283\ttotal: 714ms\tremaining: 379ms\n",
      "653:\tlearn: 0.0877116\ttotal: 715ms\tremaining: 378ms\n",
      "654:\tlearn: 0.0875340\ttotal: 716ms\tremaining: 377ms\n",
      "655:\tlearn: 0.0874003\ttotal: 717ms\tremaining: 376ms\n",
      "656:\tlearn: 0.0872999\ttotal: 718ms\tremaining: 375ms\n",
      "657:\tlearn: 0.0870528\ttotal: 719ms\tremaining: 374ms\n",
      "658:\tlearn: 0.0869263\ttotal: 720ms\tremaining: 373ms\n",
      "659:\tlearn: 0.0867966\ttotal: 721ms\tremaining: 372ms\n",
      "660:\tlearn: 0.0867288\ttotal: 722ms\tremaining: 370ms\n",
      "661:\tlearn: 0.0866873\ttotal: 723ms\tremaining: 369ms\n",
      "662:\tlearn: 0.0864178\ttotal: 724ms\tremaining: 368ms\n",
      "663:\tlearn: 0.0863044\ttotal: 725ms\tremaining: 367ms\n",
      "664:\tlearn: 0.0861337\ttotal: 727ms\tremaining: 366ms\n",
      "665:\tlearn: 0.0860215\ttotal: 728ms\tremaining: 365ms\n",
      "666:\tlearn: 0.0859405\ttotal: 729ms\tremaining: 364ms\n",
      "667:\tlearn: 0.0858352\ttotal: 730ms\tremaining: 363ms\n",
      "668:\tlearn: 0.0856187\ttotal: 731ms\tremaining: 362ms\n",
      "669:\tlearn: 0.0854516\ttotal: 732ms\tremaining: 360ms\n",
      "670:\tlearn: 0.0853378\ttotal: 733ms\tremaining: 359ms\n",
      "671:\tlearn: 0.0852841\ttotal: 734ms\tremaining: 358ms\n",
      "672:\tlearn: 0.0852101\ttotal: 735ms\tremaining: 357ms\n",
      "673:\tlearn: 0.0850671\ttotal: 736ms\tremaining: 356ms\n",
      "674:\tlearn: 0.0848593\ttotal: 737ms\tremaining: 355ms\n",
      "675:\tlearn: 0.0846577\ttotal: 738ms\tremaining: 354ms\n",
      "676:\tlearn: 0.0845371\ttotal: 739ms\tremaining: 353ms\n",
      "677:\tlearn: 0.0844337\ttotal: 740ms\tremaining: 352ms\n",
      "678:\tlearn: 0.0843128\ttotal: 741ms\tremaining: 351ms\n",
      "679:\tlearn: 0.0842064\ttotal: 743ms\tremaining: 349ms\n",
      "680:\tlearn: 0.0840883\ttotal: 744ms\tremaining: 348ms\n",
      "681:\tlearn: 0.0839879\ttotal: 745ms\tremaining: 347ms\n",
      "682:\tlearn: 0.0837981\ttotal: 746ms\tremaining: 346ms\n",
      "683:\tlearn: 0.0836740\ttotal: 747ms\tremaining: 345ms\n",
      "684:\tlearn: 0.0835823\ttotal: 748ms\tremaining: 344ms\n",
      "685:\tlearn: 0.0833677\ttotal: 749ms\tremaining: 343ms\n",
      "686:\tlearn: 0.0832623\ttotal: 750ms\tremaining: 342ms\n",
      "687:\tlearn: 0.0831532\ttotal: 751ms\tremaining: 341ms\n",
      "688:\tlearn: 0.0830046\ttotal: 752ms\tremaining: 340ms\n",
      "689:\tlearn: 0.0829440\ttotal: 753ms\tremaining: 339ms\n",
      "690:\tlearn: 0.0827462\ttotal: 755ms\tremaining: 337ms\n",
      "691:\tlearn: 0.0825956\ttotal: 756ms\tremaining: 336ms\n",
      "692:\tlearn: 0.0824532\ttotal: 757ms\tremaining: 335ms\n",
      "693:\tlearn: 0.0822913\ttotal: 758ms\tremaining: 334ms\n",
      "694:\tlearn: 0.0820848\ttotal: 759ms\tremaining: 333ms\n",
      "695:\tlearn: 0.0818792\ttotal: 760ms\tremaining: 332ms\n",
      "696:\tlearn: 0.0817437\ttotal: 761ms\tremaining: 331ms\n",
      "697:\tlearn: 0.0816031\ttotal: 762ms\tremaining: 330ms\n",
      "698:\tlearn: 0.0815181\ttotal: 763ms\tremaining: 329ms\n",
      "699:\tlearn: 0.0813936\ttotal: 764ms\tremaining: 327ms\n",
      "700:\tlearn: 0.0812092\ttotal: 765ms\tremaining: 326ms\n",
      "701:\tlearn: 0.0810526\ttotal: 766ms\tremaining: 325ms\n",
      "702:\tlearn: 0.0809725\ttotal: 767ms\tremaining: 324ms\n",
      "703:\tlearn: 0.0808183\ttotal: 768ms\tremaining: 323ms\n",
      "704:\tlearn: 0.0807678\ttotal: 769ms\tremaining: 322ms\n",
      "705:\tlearn: 0.0806667\ttotal: 770ms\tremaining: 321ms\n",
      "706:\tlearn: 0.0805592\ttotal: 772ms\tremaining: 320ms\n",
      "707:\tlearn: 0.0803868\ttotal: 773ms\tremaining: 319ms\n",
      "708:\tlearn: 0.0803220\ttotal: 774ms\tremaining: 317ms\n",
      "709:\tlearn: 0.0801933\ttotal: 775ms\tremaining: 316ms\n",
      "710:\tlearn: 0.0800852\ttotal: 776ms\tremaining: 315ms\n",
      "711:\tlearn: 0.0799522\ttotal: 777ms\tremaining: 314ms\n",
      "712:\tlearn: 0.0798589\ttotal: 778ms\tremaining: 313ms\n",
      "713:\tlearn: 0.0797820\ttotal: 779ms\tremaining: 312ms\n",
      "714:\tlearn: 0.0795925\ttotal: 780ms\tremaining: 311ms\n",
      "715:\tlearn: 0.0794813\ttotal: 781ms\tremaining: 310ms\n",
      "716:\tlearn: 0.0793292\ttotal: 782ms\tremaining: 309ms\n",
      "717:\tlearn: 0.0791102\ttotal: 783ms\tremaining: 308ms\n",
      "718:\tlearn: 0.0789731\ttotal: 784ms\tremaining: 306ms\n",
      "719:\tlearn: 0.0789433\ttotal: 785ms\tremaining: 305ms\n",
      "720:\tlearn: 0.0787332\ttotal: 786ms\tremaining: 304ms\n",
      "721:\tlearn: 0.0785931\ttotal: 787ms\tremaining: 303ms\n",
      "722:\tlearn: 0.0783927\ttotal: 788ms\tremaining: 302ms\n",
      "723:\tlearn: 0.0782149\ttotal: 790ms\tremaining: 301ms\n",
      "724:\tlearn: 0.0781243\ttotal: 791ms\tremaining: 300ms\n",
      "725:\tlearn: 0.0780672\ttotal: 792ms\tremaining: 299ms\n",
      "726:\tlearn: 0.0779678\ttotal: 793ms\tremaining: 298ms\n",
      "727:\tlearn: 0.0778733\ttotal: 794ms\tremaining: 297ms\n",
      "728:\tlearn: 0.0777497\ttotal: 795ms\tremaining: 295ms\n",
      "729:\tlearn: 0.0776588\ttotal: 796ms\tremaining: 294ms\n",
      "730:\tlearn: 0.0775221\ttotal: 797ms\tremaining: 293ms\n",
      "731:\tlearn: 0.0774005\ttotal: 798ms\tremaining: 292ms\n",
      "732:\tlearn: 0.0773228\ttotal: 799ms\tremaining: 291ms\n",
      "733:\tlearn: 0.0772364\ttotal: 800ms\tremaining: 290ms\n",
      "734:\tlearn: 0.0771456\ttotal: 801ms\tremaining: 289ms\n",
      "735:\tlearn: 0.0769927\ttotal: 802ms\tremaining: 288ms\n",
      "736:\tlearn: 0.0768736\ttotal: 803ms\tremaining: 287ms\n",
      "737:\tlearn: 0.0767644\ttotal: 804ms\tremaining: 285ms\n",
      "738:\tlearn: 0.0766795\ttotal: 805ms\tremaining: 284ms\n",
      "739:\tlearn: 0.0765709\ttotal: 806ms\tremaining: 283ms\n",
      "740:\tlearn: 0.0764277\ttotal: 807ms\tremaining: 282ms\n",
      "741:\tlearn: 0.0762578\ttotal: 808ms\tremaining: 281ms\n"
     ]
    },
    {
     "name": "stdout",
     "output_type": "stream",
     "text": [
      "742:\tlearn: 0.0760717\ttotal: 811ms\tremaining: 281ms\n",
      "743:\tlearn: 0.0759653\ttotal: 812ms\tremaining: 280ms\n",
      "744:\tlearn: 0.0757393\ttotal: 814ms\tremaining: 278ms\n",
      "745:\tlearn: 0.0756077\ttotal: 815ms\tremaining: 277ms\n",
      "746:\tlearn: 0.0755062\ttotal: 816ms\tremaining: 276ms\n",
      "747:\tlearn: 0.0753286\ttotal: 817ms\tremaining: 275ms\n",
      "748:\tlearn: 0.0751899\ttotal: 818ms\tremaining: 274ms\n",
      "749:\tlearn: 0.0750907\ttotal: 819ms\tremaining: 273ms\n",
      "750:\tlearn: 0.0750113\ttotal: 820ms\tremaining: 272ms\n",
      "751:\tlearn: 0.0748683\ttotal: 821ms\tremaining: 271ms\n",
      "752:\tlearn: 0.0747507\ttotal: 822ms\tremaining: 270ms\n",
      "753:\tlearn: 0.0746346\ttotal: 823ms\tremaining: 269ms\n",
      "754:\tlearn: 0.0744844\ttotal: 824ms\tremaining: 268ms\n",
      "755:\tlearn: 0.0743843\ttotal: 826ms\tremaining: 266ms\n",
      "756:\tlearn: 0.0742301\ttotal: 827ms\tremaining: 265ms\n",
      "757:\tlearn: 0.0741636\ttotal: 828ms\tremaining: 264ms\n",
      "758:\tlearn: 0.0740225\ttotal: 829ms\tremaining: 263ms\n",
      "759:\tlearn: 0.0738773\ttotal: 830ms\tremaining: 262ms\n",
      "760:\tlearn: 0.0737833\ttotal: 831ms\tremaining: 261ms\n",
      "761:\tlearn: 0.0737059\ttotal: 832ms\tremaining: 260ms\n",
      "762:\tlearn: 0.0734867\ttotal: 833ms\tremaining: 259ms\n",
      "763:\tlearn: 0.0734272\ttotal: 834ms\tremaining: 258ms\n",
      "764:\tlearn: 0.0733059\ttotal: 835ms\tremaining: 256ms\n",
      "765:\tlearn: 0.0732084\ttotal: 836ms\tremaining: 255ms\n",
      "766:\tlearn: 0.0731385\ttotal: 837ms\tremaining: 254ms\n",
      "767:\tlearn: 0.0729868\ttotal: 838ms\tremaining: 253ms\n",
      "768:\tlearn: 0.0727891\ttotal: 839ms\tremaining: 252ms\n",
      "769:\tlearn: 0.0726072\ttotal: 840ms\tremaining: 251ms\n",
      "770:\tlearn: 0.0724889\ttotal: 842ms\tremaining: 250ms\n",
      "771:\tlearn: 0.0723490\ttotal: 843ms\tremaining: 249ms\n",
      "772:\tlearn: 0.0721850\ttotal: 844ms\tremaining: 248ms\n",
      "773:\tlearn: 0.0721110\ttotal: 845ms\tremaining: 247ms\n",
      "774:\tlearn: 0.0719441\ttotal: 846ms\tremaining: 246ms\n",
      "775:\tlearn: 0.0718258\ttotal: 847ms\tremaining: 244ms\n",
      "776:\tlearn: 0.0716822\ttotal: 848ms\tremaining: 243ms\n",
      "777:\tlearn: 0.0715260\ttotal: 849ms\tremaining: 242ms\n",
      "778:\tlearn: 0.0714378\ttotal: 850ms\tremaining: 241ms\n",
      "779:\tlearn: 0.0713633\ttotal: 851ms\tremaining: 240ms\n",
      "780:\tlearn: 0.0712516\ttotal: 852ms\tremaining: 239ms\n",
      "781:\tlearn: 0.0711196\ttotal: 853ms\tremaining: 238ms\n",
      "782:\tlearn: 0.0710845\ttotal: 854ms\tremaining: 237ms\n",
      "783:\tlearn: 0.0708967\ttotal: 855ms\tremaining: 236ms\n",
      "784:\tlearn: 0.0707732\ttotal: 856ms\tremaining: 234ms\n",
      "785:\tlearn: 0.0705393\ttotal: 857ms\tremaining: 233ms\n",
      "786:\tlearn: 0.0704860\ttotal: 858ms\tremaining: 232ms\n",
      "787:\tlearn: 0.0703764\ttotal: 859ms\tremaining: 231ms\n",
      "788:\tlearn: 0.0702822\ttotal: 860ms\tremaining: 230ms\n",
      "789:\tlearn: 0.0701733\ttotal: 862ms\tremaining: 229ms\n",
      "790:\tlearn: 0.0700581\ttotal: 863ms\tremaining: 228ms\n",
      "791:\tlearn: 0.0699467\ttotal: 864ms\tremaining: 227ms\n",
      "792:\tlearn: 0.0698943\ttotal: 865ms\tremaining: 226ms\n",
      "793:\tlearn: 0.0697962\ttotal: 866ms\tremaining: 225ms\n",
      "794:\tlearn: 0.0696919\ttotal: 867ms\tremaining: 224ms\n",
      "795:\tlearn: 0.0695771\ttotal: 868ms\tremaining: 222ms\n",
      "796:\tlearn: 0.0694409\ttotal: 869ms\tremaining: 221ms\n",
      "797:\tlearn: 0.0693477\ttotal: 870ms\tremaining: 220ms\n",
      "798:\tlearn: 0.0692219\ttotal: 871ms\tremaining: 219ms\n",
      "799:\tlearn: 0.0690627\ttotal: 872ms\tremaining: 218ms\n",
      "800:\tlearn: 0.0689314\ttotal: 873ms\tremaining: 217ms\n",
      "801:\tlearn: 0.0687907\ttotal: 874ms\tremaining: 216ms\n",
      "802:\tlearn: 0.0686953\ttotal: 875ms\tremaining: 215ms\n",
      "803:\tlearn: 0.0685658\ttotal: 876ms\tremaining: 214ms\n",
      "804:\tlearn: 0.0684580\ttotal: 878ms\tremaining: 213ms\n",
      "805:\tlearn: 0.0683459\ttotal: 879ms\tremaining: 211ms\n",
      "806:\tlearn: 0.0682296\ttotal: 880ms\tremaining: 210ms\n",
      "807:\tlearn: 0.0681548\ttotal: 881ms\tremaining: 209ms\n",
      "808:\tlearn: 0.0680880\ttotal: 882ms\tremaining: 208ms\n",
      "809:\tlearn: 0.0679694\ttotal: 883ms\tremaining: 207ms\n",
      "810:\tlearn: 0.0678657\ttotal: 884ms\tremaining: 206ms\n",
      "811:\tlearn: 0.0677437\ttotal: 885ms\tremaining: 205ms\n",
      "812:\tlearn: 0.0676719\ttotal: 886ms\tremaining: 204ms\n",
      "813:\tlearn: 0.0675761\ttotal: 887ms\tremaining: 203ms\n",
      "814:\tlearn: 0.0674185\ttotal: 888ms\tremaining: 202ms\n",
      "815:\tlearn: 0.0673436\ttotal: 889ms\tremaining: 200ms\n",
      "816:\tlearn: 0.0673090\ttotal: 890ms\tremaining: 199ms\n",
      "817:\tlearn: 0.0672679\ttotal: 891ms\tremaining: 198ms\n",
      "818:\tlearn: 0.0671694\ttotal: 892ms\tremaining: 197ms\n",
      "819:\tlearn: 0.0670633\ttotal: 893ms\tremaining: 196ms\n",
      "820:\tlearn: 0.0670320\ttotal: 894ms\tremaining: 195ms\n",
      "821:\tlearn: 0.0669117\ttotal: 895ms\tremaining: 194ms\n",
      "822:\tlearn: 0.0668273\ttotal: 896ms\tremaining: 193ms\n",
      "823:\tlearn: 0.0667227\ttotal: 897ms\tremaining: 192ms\n",
      "824:\tlearn: 0.0666093\ttotal: 898ms\tremaining: 191ms\n",
      "825:\tlearn: 0.0665492\ttotal: 899ms\tremaining: 189ms\n",
      "826:\tlearn: 0.0664605\ttotal: 901ms\tremaining: 188ms\n",
      "827:\tlearn: 0.0663787\ttotal: 902ms\tremaining: 187ms\n",
      "828:\tlearn: 0.0662598\ttotal: 903ms\tremaining: 186ms\n",
      "829:\tlearn: 0.0661398\ttotal: 904ms\tremaining: 185ms\n",
      "830:\tlearn: 0.0660968\ttotal: 905ms\tremaining: 184ms\n",
      "831:\tlearn: 0.0660470\ttotal: 906ms\tremaining: 183ms\n",
      "832:\tlearn: 0.0658983\ttotal: 907ms\tremaining: 182ms\n",
      "833:\tlearn: 0.0658707\ttotal: 908ms\tremaining: 181ms\n",
      "834:\tlearn: 0.0658108\ttotal: 909ms\tremaining: 180ms\n",
      "835:\tlearn: 0.0656714\ttotal: 910ms\tremaining: 179ms\n",
      "836:\tlearn: 0.0654940\ttotal: 911ms\tremaining: 177ms\n",
      "837:\tlearn: 0.0653508\ttotal: 912ms\tremaining: 176ms\n",
      "838:\tlearn: 0.0652891\ttotal: 913ms\tremaining: 175ms\n",
      "839:\tlearn: 0.0651461\ttotal: 914ms\tremaining: 174ms\n",
      "840:\tlearn: 0.0650590\ttotal: 915ms\tremaining: 173ms\n",
      "841:\tlearn: 0.0649481\ttotal: 916ms\tremaining: 172ms\n",
      "842:\tlearn: 0.0648506\ttotal: 917ms\tremaining: 171ms\n",
      "843:\tlearn: 0.0647775\ttotal: 918ms\tremaining: 170ms\n",
      "844:\tlearn: 0.0646232\ttotal: 919ms\tremaining: 169ms\n",
      "845:\tlearn: 0.0645587\ttotal: 920ms\tremaining: 168ms\n",
      "846:\tlearn: 0.0644929\ttotal: 921ms\tremaining: 166ms\n",
      "847:\tlearn: 0.0643977\ttotal: 922ms\tremaining: 165ms\n",
      "848:\tlearn: 0.0643458\ttotal: 923ms\tremaining: 164ms\n",
      "849:\tlearn: 0.0642762\ttotal: 924ms\tremaining: 163ms\n",
      "850:\tlearn: 0.0642019\ttotal: 925ms\tremaining: 162ms\n",
      "851:\tlearn: 0.0640315\ttotal: 927ms\tremaining: 161ms\n",
      "852:\tlearn: 0.0638502\ttotal: 928ms\tremaining: 160ms\n",
      "853:\tlearn: 0.0638193\ttotal: 929ms\tremaining: 159ms\n",
      "854:\tlearn: 0.0637834\ttotal: 930ms\tremaining: 158ms\n",
      "855:\tlearn: 0.0636829\ttotal: 931ms\tremaining: 157ms\n",
      "856:\tlearn: 0.0636011\ttotal: 932ms\tremaining: 155ms\n",
      "857:\tlearn: 0.0635362\ttotal: 933ms\tremaining: 154ms\n",
      "858:\tlearn: 0.0635085\ttotal: 934ms\tremaining: 153ms\n",
      "859:\tlearn: 0.0633955\ttotal: 935ms\tremaining: 152ms\n",
      "860:\tlearn: 0.0633602\ttotal: 936ms\tremaining: 151ms\n",
      "861:\tlearn: 0.0632408\ttotal: 937ms\tremaining: 150ms\n",
      "862:\tlearn: 0.0631057\ttotal: 939ms\tremaining: 149ms\n",
      "863:\tlearn: 0.0630183\ttotal: 940ms\tremaining: 148ms\n",
      "864:\tlearn: 0.0629207\ttotal: 941ms\tremaining: 147ms\n",
      "865:\tlearn: 0.0628034\ttotal: 942ms\tremaining: 146ms\n",
      "866:\tlearn: 0.0626263\ttotal: 943ms\tremaining: 145ms\n",
      "867:\tlearn: 0.0625600\ttotal: 944ms\tremaining: 144ms\n",
      "868:\tlearn: 0.0624173\ttotal: 945ms\tremaining: 142ms\n",
      "869:\tlearn: 0.0623667\ttotal: 946ms\tremaining: 141ms\n"
     ]
    },
    {
     "name": "stdout",
     "output_type": "stream",
     "text": [
      "870:\tlearn: 0.0622734\ttotal: 948ms\tremaining: 140ms\n",
      "871:\tlearn: 0.0621972\ttotal: 949ms\tremaining: 139ms\n",
      "872:\tlearn: 0.0621113\ttotal: 950ms\tremaining: 138ms\n",
      "873:\tlearn: 0.0620458\ttotal: 951ms\tremaining: 137ms\n",
      "874:\tlearn: 0.0619605\ttotal: 952ms\tremaining: 136ms\n",
      "875:\tlearn: 0.0619386\ttotal: 953ms\tremaining: 135ms\n",
      "876:\tlearn: 0.0618331\ttotal: 954ms\tremaining: 134ms\n",
      "877:\tlearn: 0.0616909\ttotal: 955ms\tremaining: 133ms\n",
      "878:\tlearn: 0.0615945\ttotal: 956ms\tremaining: 132ms\n",
      "879:\tlearn: 0.0615633\ttotal: 957ms\tremaining: 130ms\n",
      "880:\tlearn: 0.0614742\ttotal: 958ms\tremaining: 129ms\n",
      "881:\tlearn: 0.0614680\ttotal: 959ms\tremaining: 128ms\n",
      "882:\tlearn: 0.0614177\ttotal: 960ms\tremaining: 127ms\n",
      "883:\tlearn: 0.0613890\ttotal: 961ms\tremaining: 126ms\n",
      "884:\tlearn: 0.0612847\ttotal: 962ms\tremaining: 125ms\n",
      "885:\tlearn: 0.0611611\ttotal: 963ms\tremaining: 124ms\n",
      "886:\tlearn: 0.0610428\ttotal: 965ms\tremaining: 123ms\n",
      "887:\tlearn: 0.0608919\ttotal: 966ms\tremaining: 122ms\n",
      "888:\tlearn: 0.0608052\ttotal: 967ms\tremaining: 121ms\n",
      "889:\tlearn: 0.0606704\ttotal: 968ms\tremaining: 120ms\n",
      "890:\tlearn: 0.0606278\ttotal: 969ms\tremaining: 119ms\n",
      "891:\tlearn: 0.0605289\ttotal: 970ms\tremaining: 117ms\n",
      "892:\tlearn: 0.0604801\ttotal: 971ms\tremaining: 116ms\n",
      "893:\tlearn: 0.0603646\ttotal: 972ms\tremaining: 115ms\n",
      "894:\tlearn: 0.0603214\ttotal: 973ms\tremaining: 114ms\n",
      "895:\tlearn: 0.0602139\ttotal: 974ms\tremaining: 113ms\n",
      "896:\tlearn: 0.0601500\ttotal: 975ms\tremaining: 112ms\n",
      "897:\tlearn: 0.0600544\ttotal: 977ms\tremaining: 111ms\n",
      "898:\tlearn: 0.0599639\ttotal: 978ms\tremaining: 110ms\n",
      "899:\tlearn: 0.0598334\ttotal: 979ms\tremaining: 109ms\n",
      "900:\tlearn: 0.0597499\ttotal: 980ms\tremaining: 108ms\n",
      "901:\tlearn: 0.0596590\ttotal: 981ms\tremaining: 107ms\n",
      "902:\tlearn: 0.0595807\ttotal: 982ms\tremaining: 105ms\n",
      "903:\tlearn: 0.0595684\ttotal: 983ms\tremaining: 104ms\n",
      "904:\tlearn: 0.0595066\ttotal: 984ms\tremaining: 103ms\n",
      "905:\tlearn: 0.0593854\ttotal: 985ms\tremaining: 102ms\n",
      "906:\tlearn: 0.0592295\ttotal: 986ms\tremaining: 101ms\n",
      "907:\tlearn: 0.0591078\ttotal: 987ms\tremaining: 100ms\n",
      "908:\tlearn: 0.0589864\ttotal: 988ms\tremaining: 98.9ms\n",
      "909:\tlearn: 0.0588979\ttotal: 989ms\tremaining: 97.8ms\n",
      "910:\tlearn: 0.0587554\ttotal: 990ms\tremaining: 96.7ms\n",
      "911:\tlearn: 0.0586792\ttotal: 991ms\tremaining: 95.6ms\n",
      "912:\tlearn: 0.0586019\ttotal: 992ms\tremaining: 94.5ms\n",
      "913:\tlearn: 0.0585200\ttotal: 993ms\tremaining: 93.4ms\n",
      "914:\tlearn: 0.0584289\ttotal: 994ms\tremaining: 92.3ms\n",
      "915:\tlearn: 0.0583391\ttotal: 995ms\tremaining: 91.2ms\n",
      "916:\tlearn: 0.0582769\ttotal: 996ms\tremaining: 90.1ms\n",
      "917:\tlearn: 0.0581566\ttotal: 997ms\tremaining: 89ms\n",
      "918:\tlearn: 0.0580448\ttotal: 998ms\tremaining: 87.9ms\n",
      "919:\tlearn: 0.0580117\ttotal: 999ms\tremaining: 86.8ms\n",
      "920:\tlearn: 0.0579525\ttotal: 1000ms\tremaining: 85.8ms\n",
      "921:\tlearn: 0.0578455\ttotal: 1s\tremaining: 84.7ms\n",
      "922:\tlearn: 0.0577674\ttotal: 1s\tremaining: 83.6ms\n",
      "923:\tlearn: 0.0576236\ttotal: 1s\tremaining: 82.5ms\n",
      "924:\tlearn: 0.0575915\ttotal: 1s\tremaining: 81.4ms\n",
      "925:\tlearn: 0.0575479\ttotal: 1s\tremaining: 80.3ms\n",
      "926:\tlearn: 0.0574447\ttotal: 1s\tremaining: 79.2ms\n",
      "927:\tlearn: 0.0573151\ttotal: 1.01s\tremaining: 78.1ms\n",
      "928:\tlearn: 0.0572449\ttotal: 1.01s\tremaining: 77ms\n",
      "929:\tlearn: 0.0571560\ttotal: 1.01s\tremaining: 75.9ms\n",
      "930:\tlearn: 0.0570254\ttotal: 1.01s\tremaining: 74.8ms\n",
      "931:\tlearn: 0.0569139\ttotal: 1.01s\tremaining: 73.7ms\n",
      "932:\tlearn: 0.0567801\ttotal: 1.01s\tremaining: 72.7ms\n",
      "933:\tlearn: 0.0567464\ttotal: 1.01s\tremaining: 71.6ms\n",
      "934:\tlearn: 0.0566768\ttotal: 1.01s\tremaining: 70.5ms\n",
      "935:\tlearn: 0.0565660\ttotal: 1.01s\tremaining: 69.4ms\n",
      "936:\tlearn: 0.0564460\ttotal: 1.01s\tremaining: 68.3ms\n",
      "937:\tlearn: 0.0564006\ttotal: 1.02s\tremaining: 67.2ms\n",
      "938:\tlearn: 0.0563630\ttotal: 1.02s\tremaining: 66.1ms\n",
      "939:\tlearn: 0.0562366\ttotal: 1.02s\tremaining: 65ms\n",
      "940:\tlearn: 0.0561086\ttotal: 1.02s\tremaining: 63.9ms\n",
      "941:\tlearn: 0.0560718\ttotal: 1.02s\tremaining: 62.8ms\n",
      "942:\tlearn: 0.0560158\ttotal: 1.02s\tremaining: 61.7ms\n",
      "943:\tlearn: 0.0559739\ttotal: 1.02s\tremaining: 60.7ms\n",
      "944:\tlearn: 0.0558072\ttotal: 1.02s\tremaining: 59.6ms\n",
      "945:\tlearn: 0.0557549\ttotal: 1.02s\tremaining: 58.5ms\n",
      "946:\tlearn: 0.0556751\ttotal: 1.02s\tremaining: 57.4ms\n",
      "947:\tlearn: 0.0555915\ttotal: 1.03s\tremaining: 56.3ms\n",
      "948:\tlearn: 0.0555061\ttotal: 1.03s\tremaining: 55.2ms\n",
      "949:\tlearn: 0.0554713\ttotal: 1.03s\tremaining: 54.1ms\n",
      "950:\tlearn: 0.0554513\ttotal: 1.03s\tremaining: 53ms\n",
      "951:\tlearn: 0.0553410\ttotal: 1.03s\tremaining: 51.9ms\n",
      "952:\tlearn: 0.0553381\ttotal: 1.03s\tremaining: 50.8ms\n",
      "953:\tlearn: 0.0553185\ttotal: 1.03s\tremaining: 49.8ms\n",
      "954:\tlearn: 0.0552408\ttotal: 1.03s\tremaining: 48.7ms\n",
      "955:\tlearn: 0.0551584\ttotal: 1.03s\tremaining: 47.6ms\n",
      "956:\tlearn: 0.0551512\ttotal: 1.03s\tremaining: 46.5ms\n",
      "957:\tlearn: 0.0550503\ttotal: 1.04s\tremaining: 45.4ms\n",
      "958:\tlearn: 0.0550025\ttotal: 1.04s\tremaining: 44.3ms\n",
      "959:\tlearn: 0.0549057\ttotal: 1.04s\tremaining: 43.3ms\n",
      "960:\tlearn: 0.0548222\ttotal: 1.04s\tremaining: 42.2ms\n",
      "961:\tlearn: 0.0547558\ttotal: 1.04s\tremaining: 41.1ms\n",
      "962:\tlearn: 0.0546560\ttotal: 1.04s\tremaining: 40ms\n",
      "963:\tlearn: 0.0545683\ttotal: 1.04s\tremaining: 38.9ms\n",
      "964:\tlearn: 0.0544843\ttotal: 1.04s\tremaining: 37.8ms\n",
      "965:\tlearn: 0.0543990\ttotal: 1.04s\tremaining: 36.7ms\n",
      "966:\tlearn: 0.0543435\ttotal: 1.04s\tremaining: 35.7ms\n",
      "967:\tlearn: 0.0542384\ttotal: 1.05s\tremaining: 34.6ms\n",
      "968:\tlearn: 0.0541624\ttotal: 1.05s\tremaining: 33.5ms\n",
      "969:\tlearn: 0.0540893\ttotal: 1.05s\tremaining: 32.4ms\n",
      "970:\tlearn: 0.0540598\ttotal: 1.05s\tremaining: 31.3ms\n",
      "971:\tlearn: 0.0540024\ttotal: 1.05s\tremaining: 30.3ms\n",
      "972:\tlearn: 0.0539236\ttotal: 1.05s\tremaining: 29.2ms\n",
      "973:\tlearn: 0.0538266\ttotal: 1.05s\tremaining: 28.1ms\n",
      "974:\tlearn: 0.0537133\ttotal: 1.05s\tremaining: 27ms\n",
      "975:\tlearn: 0.0536354\ttotal: 1.05s\tremaining: 25.9ms\n",
      "976:\tlearn: 0.0535468\ttotal: 1.05s\tremaining: 24.8ms\n",
      "977:\tlearn: 0.0534626\ttotal: 1.06s\tremaining: 23.8ms\n",
      "978:\tlearn: 0.0534417\ttotal: 1.06s\tremaining: 22.7ms\n",
      "979:\tlearn: 0.0533743\ttotal: 1.06s\tremaining: 21.6ms\n",
      "980:\tlearn: 0.0533317\ttotal: 1.06s\tremaining: 20.5ms\n",
      "981:\tlearn: 0.0533124\ttotal: 1.06s\tremaining: 19.4ms\n",
      "982:\tlearn: 0.0532936\ttotal: 1.06s\tremaining: 18.3ms\n",
      "983:\tlearn: 0.0531914\ttotal: 1.06s\tremaining: 17.3ms\n",
      "984:\tlearn: 0.0530937\ttotal: 1.06s\tremaining: 16.2ms\n",
      "985:\tlearn: 0.0530460\ttotal: 1.06s\tremaining: 15.1ms\n",
      "986:\tlearn: 0.0529784\ttotal: 1.06s\tremaining: 14ms\n",
      "987:\tlearn: 0.0528754\ttotal: 1.06s\tremaining: 12.9ms\n",
      "988:\tlearn: 0.0528263\ttotal: 1.07s\tremaining: 11.9ms\n",
      "989:\tlearn: 0.0526952\ttotal: 1.07s\tremaining: 10.8ms\n",
      "990:\tlearn: 0.0526387\ttotal: 1.07s\tremaining: 9.71ms\n",
      "991:\tlearn: 0.0525415\ttotal: 1.07s\tremaining: 8.63ms\n",
      "992:\tlearn: 0.0525242\ttotal: 1.07s\tremaining: 7.55ms\n",
      "993:\tlearn: 0.0524879\ttotal: 1.07s\tremaining: 6.47ms\n",
      "994:\tlearn: 0.0523301\ttotal: 1.07s\tremaining: 5.39ms\n",
      "995:\tlearn: 0.0522931\ttotal: 1.07s\tremaining: 4.31ms\n",
      "996:\tlearn: 0.0522576\ttotal: 1.07s\tremaining: 3.23ms\n",
      "997:\tlearn: 0.0521715\ttotal: 1.07s\tremaining: 2.16ms\n",
      "998:\tlearn: 0.0521185\ttotal: 1.08s\tremaining: 1.08ms\n",
      "999:\tlearn: 0.0520214\ttotal: 1.08s\tremaining: 0us\n"
     ]
    },
    {
     "data": {
      "text/plain": [
       "<catboost.core.CatBoostRegressor at 0x7f58d5027550>"
      ]
     },
     "execution_count": 9,
     "metadata": {},
     "output_type": "execute_result"
    }
   ],
   "source": [
    "#Train the Model \n",
    "prior_model = ctb.CatBoostRegressor()\n",
    "prior_model.fit(X_train,Y_train)"
   ]
  },
  {
   "cell_type": "code",
   "execution_count": 10,
   "id": "c775fd81",
   "metadata": {
    "execution": {
     "iopub.execute_input": "2022-01-14T06:49:24.246986Z",
     "iopub.status.busy": "2022-01-14T06:49:24.245756Z",
     "iopub.status.idle": "2022-01-14T06:49:24.259420Z",
     "shell.execute_reply": "2022-01-14T06:49:24.258984Z"
    },
    "papermill": {
     "duration": 0.046541,
     "end_time": "2022-01-14T06:49:24.259531",
     "exception": false,
     "start_time": "2022-01-14T06:49:24.212990",
     "status": "completed"
    },
    "tags": []
   },
   "outputs": [
    {
     "data": {
      "application/scrapbook.scrap.json+json": {
       "data": 0.1296185375928256,
       "encoder": "json",
       "name": "Prior Model MSE",
       "version": 1
      }
     },
     "metadata": {
      "scrapbook": {
       "data": true,
       "display": false,
       "name": "Prior Model MSE"
      }
     },
     "output_type": "display_data"
    },
    {
     "data": {
      "application/scrapbook.scrap.json+json": {
       "data": 0.12612346910466551,
       "encoder": "json",
       "name": "ABC Pre-generator MSE",
       "version": 1
      }
     },
     "metadata": {
      "scrapbook": {
       "data": true,
       "display": false,
       "name": "ABC Pre-generator MSE"
      }
     },
     "output_type": "display_data"
    }
   ],
   "source": [
    "y_pred = prior_model.predict(X_test)\n",
    "y_abc = y_pred + np.random.normal(0,variance, y_pred.shape)\n",
    "mse = mean_squared_error(y_pred,Y_test)\n",
    "sb.glue(\"Prior Model MSE\",mse)\n",
    "mse = mean_squared_error(y_abc,Y_test)\n",
    "sb.glue(\"ABC Pre-generator MSE\",mse)"
   ]
  },
  {
   "cell_type": "markdown",
   "id": "0cd0def6",
   "metadata": {
    "papermill": {
     "duration": 0.029743,
     "end_time": "2022-01-14T06:49:24.318468",
     "exception": false,
     "start_time": "2022-01-14T06:49:24.288725",
     "status": "completed"
    },
    "tags": []
   },
   "source": [
    "# ABC GAN Model"
   ]
  },
  {
   "cell_type": "markdown",
   "id": "70beaf4c",
   "metadata": {
    "papermill": {
     "duration": 0.03056,
     "end_time": "2022-01-14T06:49:24.379298",
     "exception": false,
     "start_time": "2022-01-14T06:49:24.348738",
     "status": "completed"
    },
    "tags": []
   },
   "source": [
    "### Training the network\n",
    "**Training ABC-GAN for n_epochs number of epochs** "
   ]
  },
  {
   "cell_type": "code",
   "execution_count": 11,
   "id": "dbaaafa1",
   "metadata": {
    "execution": {
     "iopub.execute_input": "2022-01-14T06:49:24.449560Z",
     "iopub.status.busy": "2022-01-14T06:49:24.448980Z",
     "iopub.status.idle": "2022-01-14T06:49:27.435747Z",
     "shell.execute_reply": "2022-01-14T06:49:27.436292Z"
    },
    "papermill": {
     "duration": 3.021511,
     "end_time": "2022-01-14T06:49:27.436500",
     "exception": false,
     "start_time": "2022-01-14T06:49:24.414989",
     "status": "completed"
    },
    "tags": []
   },
   "outputs": [],
   "source": [
    "gen = network.Generator(n_features+1).to(device)\n",
    "disc = network.Discriminator(n_features+1).to(device)\n",
    "\n",
    "criterion = torch.nn.BCELoss()\n",
    "gen_opt = torch.optim.Adam(gen.parameters(), lr=0.001, betas=(0.5, 0.999))\n",
    "disc_opt = torch.optim.Adam(disc.parameters(), lr=0.01, betas=(0.5, 0.999))"
   ]
  },
  {
   "cell_type": "code",
   "execution_count": 12,
   "id": "6e9eeab8",
   "metadata": {
    "execution": {
     "iopub.execute_input": "2022-01-14T06:49:27.502889Z",
     "iopub.status.busy": "2022-01-14T06:49:27.502106Z",
     "iopub.status.idle": "2022-01-14T06:55:11.288935Z",
     "shell.execute_reply": "2022-01-14T06:55:11.288458Z"
    },
    "papermill": {
     "duration": 343.821451,
     "end_time": "2022-01-14T06:55:11.289066",
     "exception": false,
     "start_time": "2022-01-14T06:49:27.467615",
     "status": "completed"
    },
    "tags": []
   },
   "outputs": [
    {
     "data": {
      "image/png": "[encoded data removed]",
      "text/plain": [
       "<Figure size 432x288 with 1 Axes>"
      ]
     },
     "metadata": {
      "needs_background": "light"
     },
     "output_type": "display_data"
    },
    {
     "data": {
      "image/png": "[encoded data removed]",
      "text/plain": [
       "<Figure size 432x288 with 1 Axes>"
      ]
     },
     "metadata": {
      "needs_background": "light"
     },
     "output_type": "display_data"
    }
   ],
   "source": [
    "#Training the ABC_GAN \n",
    "ABC_train_test2.training_GAN(disc,gen,disc_opt,gen_opt,train_data,batch_size,n_epochs,criterion,prior_model,variance,device)"
   ]
  },
  {
   "cell_type": "code",
   "execution_count": 13,
   "id": "11c3082e",
   "metadata": {
    "execution": {
     "iopub.execute_input": "2022-01-14T06:55:11.359296Z",
     "iopub.status.busy": "2022-01-14T06:55:11.358705Z",
     "iopub.status.idle": "2022-01-14T06:55:11.755454Z",
     "shell.execute_reply": "2022-01-14T06:55:11.754950Z"
    },
    "papermill": {
     "duration": 0.433915,
     "end_time": "2022-01-14T06:55:11.755586",
     "exception": false,
     "start_time": "2022-01-14T06:55:11.321671",
     "status": "completed"
    },
    "tags": []
   },
   "outputs": [
    {
     "data": {
      "application/scrapbook.scrap.json+json": {
       "data": 0.5159922269594598,
       "encoder": "json",
       "name": "ABC-GAN Model 1 MSE",
       "version": 1
      }
     },
     "metadata": {
      "scrapbook": {
       "data": true,
       "display": false,
       "name": "ABC-GAN Model 1 MSE"
      }
     },
     "output_type": "display_data"
    },
    {
     "data": {
      "application/scrapbook.scrap.json+json": {
       "data": 0.5309466777701735,
       "encoder": "json",
       "name": "ABC-GAN Model 1 MAE",
       "version": 1
      }
     },
     "metadata": {
      "scrapbook": {
       "data": true,
       "display": false,
       "name": "ABC-GAN Model 1 MAE"
      }
     },
     "output_type": "display_data"
    },
    {
     "data": {
      "application/scrapbook.scrap.json+json": {
       "data": 54.15656113255769,
       "encoder": "json",
       "name": "ABC-GAN Model 1 Manhattan Distance",
       "version": 1
      }
     },
     "metadata": {
      "scrapbook": {
       "data": true,
       "display": false,
       "name": "ABC-GAN Model 1 Manhattan Distance"
      }
     },
     "output_type": "display_data"
    },
    {
     "data": {
      "application/scrapbook.scrap.json+json": {
       "data": 7.254616365455613,
       "encoder": "json",
       "name": "ABC-GAN Model 1 Euclidean distance",
       "version": 1
      }
     },
     "metadata": {
      "scrapbook": {
       "data": true,
       "display": false,
       "name": "ABC-GAN Model 1 Euclidean distance"
      }
     },
     "output_type": "display_data"
    },
    {
     "data": {
      "application/scrapbook.scrap.json+json": {
       "data": [
        [
         0.5247858513041586,
         0.519343694864259,
         0.5137785632167363,
         0.5158453827043717,
         0.5125662993009399,
         0.5171760662835266,
         0.5250452168866971,
         0.5166633225928136,
         0.52432883690471,
         0.525200970010418,
         0.5123085869088065,
         0.5165752423996164,
         0.5070691754165827,
         0.511154993710239,
         0.5147529259840935,
         0.5104092483552697,
         0.5291267539317538,
         0.5204090414795314,
         0.5156380534924507,
         0.5014237899811489,
         0.5150447771262723,
         0.5118509915519904,
         0.5209626189099605,
         0.5166837660211173,
         0.5254997450973995,
         0.5159029182213479,
         0.5204406715958735,
         0.5118923642739808,
         0.5138241626961002,
         0.5154102420078083,
         0.5121216967895958,
         0.5099802590724424,
         0.5153317551228815,
         0.5144225928342575,
         0.5102688444968636,
         0.5189345430425936,
         0.5082321051756612,
         0.5152440012789503,
         0.5153267763733629,
         0.5225118246953531,
         0.5106675193387011,
         0.5190944173458248,
         0.5274913270330783,
         0.5187636097951537,
         0.5202257750189659,
         0.5245562351111914,
         0.5166347090867068,
         0.5088213405609956,
         0.5243420320255876,
         0.5257032214770301,
         0.5138913881644251,
         0.5095133463717192,
         0.5238107161927642,
         0.5198850775202484,
         0.5149401272939537,
         0.5147935501613596,
         0.5196745965830741,
         0.5152582612105137,
         0.5056773945755059,
         0.5149061960042388,
         0.5104447241761049,
         0.5106090223455688,
         0.514313502007264,
         0.5150507647262,
         0.5206878782221785,
         0.5103946088178187,
         0.5141469264210697,
         0.5114918548449043,
         0.501136503068815,
         0.5172049648371503,
         0.5171598621601143,
         0.5215334851996056,
         0.5273272569236582,
         0.5140422576782583,
         0.5168292558019093,
         0.5115652688718756,
         0.5179057929927934,
         0.5137010356281602,
         0.5229976104205304,
         0.5183830326609572,
         0.5158310298341097,
         0.504615455074215,
         0.5108650088053843,
         0.5088426370173403,
         0.5252722216362018,
         0.5230535648636108,
         0.5225005427929017,
         0.509465068683522,
         0.5119885240377225,
         0.5094085916652183,
         0.5177449019641873,
         0.5084980019947246,
         0.5253531571629652,
         0.5150526316366568,
         0.5254548125432253,
         0.5042643533512323,
         0.5150035732748046,
         0.5202532450353675,
         0.5095992485578102,
         0.5170910052268682
        ],
        [
         0.5385850909823442,
         0.5331810287053824,
         0.5317656876354971,
         0.5296335338030522,
         0.5307887057116365,
         0.5327261489925578,
         0.5326464172617039,
         0.5294373251004693,
         0.5362708584003735,
         0.5324403140419984,
         0.5258537845813906,
         0.5332796124504039,
         0.5273165370556799,
         0.52684741891811,
         0.5288477838861153,
         0.528862002223511,
         0.5325813538248778,
         0.5316341848879614,
         0.5304570473529691,
         0.5236214990362379,
         0.5286250573984694,
         0.5270188422417086,
         0.5308706176868987,
         0.5334539282793069,
         0.537516078975636,
         0.5352651108074568,
         0.5341216833513304,
         0.5313459870807242,
         0.5323111642170332,
         0.5278901164967786,
         0.5334777968716534,
         0.5304645176556911,
         0.5298573805804492,
         0.5325839425364107,
         0.5279813494405472,
         0.530765179407728,
         0.5302697128762364,
         0.529486025893586,
         0.5312501647253978,
         0.5363075061262969,
         0.5270267540278534,
         0.5268112863048765,
         0.5382088330099541,
         0.5337005426431549,
         0.5327477939518205,
         0.5321537356403675,
         0.535936368967169,
         0.5288991892399887,
         0.5335899481239418,
         0.5339767156515782,
         0.5321790050879559,
         0.5306098343640128,
         0.5359646241984093,
         0.5359485167736078,
         0.5310632473350886,
         0.5325344325518053,
         0.5350227470728842,
         0.5321812881795945,
         0.5281933825189138,
         0.533348683569142,
         0.5275210465815868,
         0.5271393723292824,
         0.5301698444173762,
         0.5279331685810843,
         0.5255312225050932,
         0.5289853863217229,
         0.532554100623683,
         0.5321267218803805,
         0.5234344672576031,
         0.5290074154972008,
         0.5357867180661974,
         0.5328463646948484,
         0.5320281000059172,
         0.5262994614393249,
         0.5317552617897152,
         0.5303972503079065,
         0.5277265701169038,
         0.5304762933713695,
         0.5297828029713356,
         0.5302845170337926,
         0.5298717325169813,
         0.5245382430159724,
         0.5313216422355789,
         0.5206073311559272,
         0.5372070079285871,
         0.5346995554955712,
         0.5333897501467636,
         0.5286594292642001,
         0.5289046069808012,
         0.5294910261097053,
         0.5319560100872289,
         0.5216253247276387,
         0.537062110644126,
         0.5319657804280081,
         0.5337625033514318,
         0.5259823756128111,
         0.5313102771783722,
         0.5316954030947504,
         0.5293487081139842,
         0.5317474464228487
        ],
        [
         54.93567928019911,
         54.38446492794901,
         54.24010013882071,
         54.02262044791132,
         54.14044798258692,
         54.33806719724089,
         54.3299345606938,
         54.00260716024786,
         54.699627556838095,
         54.30891203228384,
         53.63708602730185,
         54.3945204699412,
         53.78628677967936,
         53.73843672964722,
         53.942473956383765,
         53.94392422679812,
         54.32329809013754,
         54.226686858572066,
         54.106618830002844,
         53.409392901696265,
         53.91975585464388,
         53.75592190865427,
         54.148803004063666,
         54.41230068448931,
         54.82664005551487,
         54.597041302360594,
         54.48041170183569,
         54.19729068223387,
         54.29573875013739,
         53.844791882671416,
         54.414735280908644,
         54.10738080088049,
         54.04545281920582,
         54.323562138713896,
         53.85409764293581,
         54.13804829958826,
         54.087510713376105,
         54.007574641145766,
         54.18751680199057,
         54.70336562488228,
         53.75672891084105,
         53.7347512030974,
         54.897300967015326,
         54.437455349601805,
         54.34027498308569,
         54.27968103531748,
         54.665509634651244,
         53.94771730247885,
         54.426174708642066,
         54.465624996460974,
         54.2822585189715,
         54.1222031051293,
         54.668391668237746,
         54.666748710907996,
         54.16845122817904,
         54.31851212028414,
         54.572320201434195,
         54.28249139431864,
         53.87572501692921,
         54.40156572405249,
         53.80714675132185,
         53.768215977586806,
         54.07732413057238,
         53.8491831952706,
         53.60418469551951,
         53.95650940481573,
         54.32051826361567,
         54.276925631798804,
         53.39031566027552,
         53.958756380714476,
         54.650245242752135,
         54.35032919887453,
         54.266866200603545,
         53.682545066811144,
         54.23903670255095,
         54.10051953140646,
         53.82811015192419,
         54.10858192387968,
         54.03784590307623,
         54.089020737446845,
         54.046916716732085,
         53.50290078762919,
         54.194807508029044,
         53.10194777790457,
         54.79511480871588,
         54.53935466054827,
         54.405754514969885,
         53.92326178494841,
         53.948269912041724,
         54.00808466318995,
         54.259513028897345,
         53.205783122219145,
         54.78033528570086,
         54.26050960365683,
         54.44377534184605,
         53.650202312506735,
         54.19364827219397,
         54.23293111566454,
         53.99356822762638,
         54.23823953513056
        ],
        [
         7.316293927462466,
         7.278259192702223,
         7.239158338377957,
         7.253704504309913,
         7.230612873657106,
         7.263054368577981,
         7.318101674781725,
         7.259453071992888,
         7.313107503946626,
         7.319187040994556,
         7.2287949109584115,
         7.258834253842751,
         7.191735249054393,
         7.220651588218641,
         7.246019490063321,
         7.215382410672182,
         7.346490924314742,
         7.285720433211267,
         7.252246648882673,
         7.15158909460528,
         7.248073348613392,
         7.225565800565588,
         7.2895944419985375,
         7.259596692251847,
         7.32126860591351,
         7.254109018933853,
         7.2859418404746465,
         7.22585781453981,
         7.2394795803981795,
         7.250644432379541,
         7.227476258870643,
         7.212349577314531,
         7.2500923457935285,
         7.243694117582152,
         7.214389935308464,
         7.275391631406831,
         7.1999774116254995,
         7.249475024472664,
         7.250057323227383,
         7.30042506426345,
         7.21720769914151,
         7.276512253083487,
         7.335128857584849,
         7.274193302291718,
         7.284437456106993,
         7.3146931570190645,
         7.259252050097453,
         7.2041499663195205,
         7.313199523232627,
         7.322685886384657,
         7.239953148520461,
         7.209047185995897,
         7.309493351229068,
         7.282051764926237,
         7.247336958082138,
         7.246305411480989,
         7.280577508101509,
         7.249575342285394,
         7.181858690248756,
         7.247098177369502,
         7.215633157662791,
         7.2167943215286385,
         7.242926011270648,
         7.24811547935547,
         7.287672027380362,
         7.215278934276729,
         7.24175299875307,
         7.223030471635866,
         7.149540077027272,
         7.263257286740526,
         7.262940584937459,
         7.293587285441902,
         7.333988015139725,
         7.241015832269832,
         7.260618712740309,
         7.223548811002201,
         7.268176585999058,
         7.238612134523599,
         7.303817923722777,
         7.271524553449408,
         7.253603590152909,
         7.174313654808376,
         7.218603112663087,
         7.204300727743721,
         7.319683504557597,
         7.304208623532621,
         7.300346249656655,
         7.208705640107609,
         7.226536476891796,
         7.208306066604849,
         7.2670475435590145,
         7.201860607055785,
         7.320247402282415,
         7.248128615507522,
         7.32095559878688,
         7.171817345821469,
         7.24778341798581,
         7.28462977738797,
         7.209654870581298,
         7.262457058953297
        ]
       ],
       "encoder": "json",
       "name": "ABC_GAN_1 Metrics",
       "version": 1
      }
     },
     "metadata": {
      "scrapbook": {
       "data": true,
       "display": false,
       "name": "ABC_GAN_1 Metrics"
      }
     },
     "output_type": "display_data"
    }
   ],
   "source": [
    "ABC_GAN1_metrics=ABC_train_test2.test_generator(gen,test_data,prior_model,variance,\"1\",device)\n",
    "sb.glue(\"ABC_GAN_1 Metrics\",ABC_GAN1_metrics)"
   ]
  },
  {
   "cell_type": "markdown",
   "id": "394a2b9d",
   "metadata": {
    "papermill": {
     "duration": 0.035509,
     "end_time": "2022-01-14T06:55:11.825604",
     "exception": false,
     "start_time": "2022-01-14T06:55:11.790095",
     "status": "completed"
    },
    "tags": []
   },
   "source": [
    "#### Sanity Checks "
   ]
  },
  {
   "cell_type": "code",
   "execution_count": 14,
   "id": "a36b3b22",
   "metadata": {
    "execution": {
     "iopub.execute_input": "2022-01-14T06:55:11.896617Z",
     "iopub.status.busy": "2022-01-14T06:55:11.896012Z",
     "iopub.status.idle": "2022-01-14T06:55:12.629437Z",
     "shell.execute_reply": "2022-01-14T06:55:12.628638Z"
    },
    "papermill": {
     "duration": 0.771366,
     "end_time": "2022-01-14T06:55:12.629623",
     "exception": false,
     "start_time": "2022-01-14T06:55:11.858257",
     "status": "completed"
    },
    "tags": []
   },
   "outputs": [
    {
     "data": {
      "image/png": "[encoded data removed]",
      "text/plain": [
       "<Figure size 432x288 with 1 Axes>"
      ]
     },
     "metadata": {
      "needs_background": "light"
     },
     "output_type": "display_data"
    },
    {
     "data": {
      "image/png": "[encoded data removed]",
      "text/plain": [
       "<Figure size 432x288 with 1 Axes>"
      ]
     },
     "metadata": {
      "needs_background": "light"
     },
     "output_type": "display_data"
    },
    {
     "data": {
      "image/png": "[encoded data removed]",
      "text/plain": [
       "<Figure size 432x288 with 1 Axes>"
      ]
     },
     "metadata": {
      "needs_background": "light"
     },
     "output_type": "display_data"
    },
    {
     "data": {
      "image/png": "[encoded data removed]",
      "text/plain": [
       "<Figure size 432x288 with 1 Axes>"
      ]
     },
     "metadata": {
      "needs_background": "light"
     },
     "output_type": "display_data"
    }
   ],
   "source": [
    "sanityChecks.discProbVsError(train_data,disc,device)\n",
    "sanityChecks.discProbVsError(test_data,disc,device)"
   ]
  },
  {
   "cell_type": "markdown",
   "id": "130f3a4d",
   "metadata": {
    "papermill": {
     "duration": 0.039029,
     "end_time": "2022-01-14T06:55:12.709235",
     "exception": false,
     "start_time": "2022-01-14T06:55:12.670206",
     "status": "completed"
    },
    "tags": []
   },
   "source": [
    "# ABC - GAN Model with skip connection"
   ]
  },
  {
   "cell_type": "code",
   "execution_count": 15,
   "id": "4e43dad1",
   "metadata": {
    "execution": {
     "iopub.execute_input": "2022-01-14T06:55:12.791220Z",
     "iopub.status.busy": "2022-01-14T06:55:12.790612Z",
     "iopub.status.idle": "2022-01-14T06:55:12.796339Z",
     "shell.execute_reply": "2022-01-14T06:55:12.795796Z"
    },
    "papermill": {
     "duration": 0.048522,
     "end_time": "2022-01-14T06:55:12.796531",
     "exception": false,
     "start_time": "2022-01-14T06:55:12.748009",
     "status": "completed"
    },
    "tags": []
   },
   "outputs": [],
   "source": [
    "#Generator\n",
    "gen3 = network.GeneratorWithSkipConnection(n_features+1).to(device)\n",
    "constraints=network.weightConstraint()\n",
    "#Discriminator \n",
    "disc3 = network.Discriminator(n_features+1).to(device)\n",
    "\n",
    "criterion = torch.nn.BCELoss()\n",
    "gen_opt = torch.optim.Adam(gen3.parameters(), lr=0.01, betas=(0.5, 0.999))\n",
    "disc_opt = torch.optim.Adam(disc3.parameters(), lr=0.01, betas=(0.5, 0.999))\n"
   ]
  },
  {
   "cell_type": "code",
   "execution_count": 16,
   "id": "26acbc37",
   "metadata": {
    "execution": {
     "iopub.execute_input": "2022-01-14T06:55:12.886177Z",
     "iopub.status.busy": "2022-01-14T06:55:12.885550Z",
     "iopub.status.idle": "2022-01-14T07:33:28.240542Z",
     "shell.execute_reply": "2022-01-14T07:33:28.240065Z"
    },
    "papermill": {
     "duration": 2295.405065,
     "end_time": "2022-01-14T07:33:28.240684",
     "exception": false,
     "start_time": "2022-01-14T06:55:12.835619",
     "status": "completed"
    },
    "tags": []
   },
   "outputs": [
    {
     "data": {
      "image/png": "[encoded data removed]",
      "text/plain": [
       "<Figure size 432x288 with 1 Axes>"
      ]
     },
     "metadata": {
      "needs_background": "light"
     },
     "output_type": "display_data"
    },
    {
     "data": {
      "image/png": "[encoded data removed]",
      "text/plain": [
       "<Figure size 432x288 with 1 Axes>"
      ]
     },
     "metadata": {
      "needs_background": "light"
     },
     "output_type": "display_data"
    }
   ],
   "source": [
    "ABC_train_test2.training_GAN_skip_connection(disc3,gen3,disc_opt,gen_opt,train_data,batch_size,n_epochs,criterion,prior_model,variance,device)\n"
   ]
  },
  {
   "cell_type": "code",
   "execution_count": 17,
   "id": "c5e0717b",
   "metadata": {
    "execution": {
     "iopub.execute_input": "2022-01-14T07:33:28.329704Z",
     "iopub.status.busy": "2022-01-14T07:33:28.329028Z",
     "iopub.status.idle": "2022-01-14T07:33:30.301000Z",
     "shell.execute_reply": "2022-01-14T07:33:30.301530Z"
    },
    "papermill": {
     "duration": 2.018823,
     "end_time": "2022-01-14T07:33:30.301712",
     "exception": false,
     "start_time": "2022-01-14T07:33:28.282889",
     "status": "completed"
    },
    "tags": []
   },
   "outputs": [
    {
     "data": {
      "application/scrapbook.scrap.json+json": {
       "data": 0.13948061045946664,
       "encoder": "json",
       "name": "ABC-GAN Model 3 MSE",
       "version": 1
      }
     },
     "metadata": {
      "scrapbook": {
       "data": true,
       "display": false,
       "name": "ABC-GAN Model 3 MSE"
      }
     },
     "output_type": "display_data"
    },
    {
     "data": {
      "application/scrapbook.scrap.json+json": {
       "data": 0.26291294187990905,
       "encoder": "json",
       "name": "ABC-GAN Model 3 MAE",
       "version": 1
      }
     },
     "metadata": {
      "scrapbook": {
       "data": true,
       "display": false,
       "name": "ABC-GAN Model 3 MAE"
      }
     },
     "output_type": "display_data"
    },
    {
     "data": {
      "application/scrapbook.scrap.json+json": {
       "data": 26.817120071750722,
       "encoder": "json",
       "name": "ABC-GAN Model 3 Manhattan Distance",
       "version": 1
      }
     },
     "metadata": {
      "scrapbook": {
       "data": true,
       "display": false,
       "name": "ABC-GAN Model 3 Manhattan Distance"
      }
     },
     "output_type": "display_data"
    },
    {
     "data": {
      "application/scrapbook.scrap.json+json": {
       "data": 3.770542402212666,
       "encoder": "json",
       "name": "ABC-GAN Model 3 Euclidean distance",
       "version": 1
      }
     },
     "metadata": {
      "scrapbook": {
       "data": true,
       "display": false,
       "name": "ABC-GAN Model 3 Euclidean distance"
      }
     },
     "output_type": "display_data"
    },
    {
     "data": {
      "application/scrapbook.scrap.json+json": {
       "data": [
        [
         0.15451317454100985,
         0.13535544122806795,
         0.14157488240895266,
         0.14862456755595352,
         0.1334457818421865,
         0.13090664431663657,
         0.1441649656288607,
         0.13502114973792984,
         0.13417758330924237,
         0.13732855335443453,
         0.1456767481004877,
         0.1406990011611938,
         0.13117465089246302,
         0.13529481998713966,
         0.14523037603722158,
         0.13291328219374834,
         0.15165656639387606,
         0.15600540355849435,
         0.1314525562168495,
         0.12840699037107223,
         0.1466720603718734,
         0.14681935252969325,
         0.14187697658534593,
         0.13812956429524229,
         0.14424075826245653,
         0.14413186549499282,
         0.12991591530856966,
         0.14200373396652607,
         0.14703981851851883,
         0.13871856616867959,
         0.13829692448233857,
         0.1346428593004655,
         0.14827858590132817,
         0.1454367019330461,
         0.12715304465748278,
         0.145857754802889,
         0.12457190016617248,
         0.13311245839488983,
         0.1479363971585305,
         0.14470165696925233,
         0.14098191317773198,
         0.13514780034751217,
         0.13099739750263553,
         0.1410977765746888,
         0.14025964801926583,
         0.1441974173476361,
         0.1420659981269299,
         0.12532616215018708,
         0.1433656465938944,
         0.13547824493331276,
         0.14425582183240962,
         0.14400933201505348,
         0.13382382375161636,
         0.1467828656566878,
         0.1285016341109921,
         0.12782263043054617,
         0.13593213746339203,
         0.1277496127422977,
         0.1372121955934466,
         0.1487384301213582,
         0.1400679283173864,
         0.12855624353183212,
         0.1497860658083496,
         0.1337714006828116,
         0.14610117824388927,
         0.11949559579066772,
         0.1447464606066799,
         0.13996534985940465,
         0.14677486488024014,
         0.1417698766180483,
         0.13649098280851188,
         0.14884063356845068,
         0.13416239991220782,
         0.13193933959848608,
         0.15233009897486424,
         0.13632190632146887,
         0.12863997509550607,
         0.14105157327484566,
         0.15011794280044727,
         0.13152433580368317,
         0.14233808939865805,
         0.14955795679541178,
         0.14048902471096944,
         0.14619876568210038,
         0.12888201820037523,
         0.1447129471890406,
         0.14120977678799682,
         0.13713584040724663,
         0.1344395499802485,
         0.1319682648829185,
         0.14069790951164046,
         0.14823998495824933,
         0.13790410842763137,
         0.14222031678372016,
         0.14704406484916893,
         0.1479217320423642,
         0.14036009986203457,
         0.13265247186905438,
         0.14151450907707194,
         0.13321293943727058
        ],
        [
         0.28106349858217966,
         0.261131008431845,
         0.2593744024406096,
         0.26960884188941003,
         0.2578030594775234,
         0.2481838193854463,
         0.2629082133541541,
         0.2509164454189458,
         0.26074165135322996,
         0.257729042015568,
         0.2609511999979469,
         0.2686982112662757,
         0.26513772392554175,
         0.26039524296042965,
         0.2642820683380991,
         0.2588833651286276,
         0.2753886525597944,
         0.2782265922538571,
         0.26216283914639943,
         0.252420920093416,
         0.27490692967366354,
         0.2714655851105265,
         0.26465931477244287,
         0.2558314558757725,
         0.26562508958044884,
         0.27418134930114463,
         0.2611472513526678,
         0.26657786695332286,
         0.2658167195360304,
         0.2556600322394504,
         0.2570281852785425,
         0.2640568531054419,
         0.2800902034859082,
         0.26840942990327,
         0.256144927727862,
         0.26440379312079326,
         0.24660108761642785,
         0.2544454071926428,
         0.27368718233215167,
         0.26914654259270915,
         0.2568366252885693,
         0.2578803878779724,
         0.2510305735209555,
         0.2622920608047542,
         0.26077765934899744,
         0.2755247351859568,
         0.26393643447983206,
         0.25606719689847735,
         0.26047492297663005,
         0.25127569565722974,
         0.2702288249069277,
         0.2784619905584145,
         0.26372877344507356,
         0.27274202833901723,
         0.2507856950328192,
         0.25203023267471614,
         0.26093240121525585,
         0.2637763264698579,
         0.25998556812056434,
         0.2791307291356098,
         0.26099491202473346,
         0.25260610983469617,
         0.27166142277236954,
         0.2527430082108385,
         0.2697049914174439,
         0.24093150415950837,
         0.2646462336620864,
         0.2571452292008782,
         0.27739643996270996,
         0.2548220116489877,
         0.26454030230239617,
         0.2687406218838969,
         0.25831732568194105,
         0.25039105299933284,
         0.2691259354526433,
         0.26167491299851214,
         0.25708200042055407,
         0.272055356016733,
         0.27727156574381334,
         0.25870799045215415,
         0.2587521151347342,
         0.2667837025159422,
         0.25404181824220967,
         0.2662111135592282,
         0.2521349912927048,
         0.27224665417737676,
         0.27255247980264913,
         0.26950779507637446,
         0.2527043511999734,
         0.2616711267836959,
         0.2584182477108769,
         0.27175514912689286,
         0.26123228165156703,
         0.2625401873830889,
         0.2762042049332248,
         0.27009257112227963,
         0.25969213583534034,
         0.2577872037614796,
         0.2635979150677575,
         0.24901835005913003
        ],
        [
         28.668476855382323,
         26.63536286004819,
         26.45618904894218,
         27.500101872719824,
         26.295912066707388,
         25.314749577315524,
         26.81663776212372,
         25.59347743273247,
         26.595648438029457,
         26.288362285587937,
         26.617022399790585,
         27.407217549160123,
         27.044047840405256,
         26.560314781963825,
         26.956770970486104,
         26.406103243120015,
         28.089642561099026,
         28.379112409893423,
         26.740609592932742,
         25.746933849528432,
         28.04050682671368,
         27.6894896812737,
         26.99525010678917,
         26.094808499328792,
         27.09375913720578,
         27.966497628716752,
         26.637019637972116,
         27.19094242923893,
         27.1133053926751,
         26.07732328842394,
         26.216874898411334,
         26.933799016755074,
         28.569200755562633,
         27.37776185013354,
         26.126782628241926,
         26.969186898320913,
         25.15331093687564,
         25.953431533649564,
         27.91609259787947,
         27.452947344456334,
         26.19733577943407,
         26.303799563553184,
         25.60511849913746,
         26.75379020208493,
         26.599321253597736,
         28.103522988967597,
         26.92151631694287,
         26.118854083644692,
         26.568442143616267,
         25.630120957037434,
         27.563340140506625,
         28.403123036958277,
         26.900334891397506,
         27.81968689057976,
         25.58014089334756,
         25.707083732821047,
         26.615104923956096,
         26.905185299925506,
         26.51852794829756,
         28.4713343718322,
         26.621481026522815,
         25.765823203139007,
         27.709465122781694,
         25.779786837505526,
         27.50990912457928,
         24.575013424269855,
         26.99391583353281,
         26.228813378489576,
         28.294436876196414,
         25.99184518819675,
         26.98311083484441,
         27.411543432157487,
         26.348367219557986,
         25.53988740593195,
         27.450845416169614,
         26.690841125848237,
         26.222364042896515,
         27.749646313706762,
         28.28169970586896,
         26.388215026119724,
         26.392715743742883,
         27.211937656626105,
         25.912265460705385,
         27.15353358304128,
         25.717769111855887,
         27.769158726092428,
         27.80035293987021,
         27.489795097790193,
         25.77584382239729,
         26.690454931936983,
         26.358661266509444,
         27.719025210943073,
         26.645692728459835,
         26.779099113075063,
         28.17282890318893,
         27.549442254472524,
         26.488597855204716,
         26.29429478367092,
         26.88698733691126,
         25.399871706031263
        ],
        [
         3.969929949405027,
         3.7156769242310252,
         3.8000839471928995,
         3.893546698154172,
         3.6893725412193086,
         3.6541042295338166,
         3.834687274621464,
         3.711085727016939,
         3.699474759684504,
         3.7426611444468647,
         3.8547410167545295,
         3.7883107209469715,
         3.6578428603524276,
         3.714844766432138,
         3.8488307777553166,
         3.6820041803021257,
         3.9330611198118133,
         3.9890539182826816,
         3.6617155452217545,
         3.619048634358119,
         3.8678870404823202,
         3.869828672955524,
         3.804136118976986,
         3.753560384237172,
         3.835695157695742,
         3.834247029142654,
         3.640250453124634,
         3.8058351073825647,
         3.87273307741302,
         3.7615546984199657,
         3.7558336354527917,
         3.7058833830339935,
         3.8890121833102387,
         3.8515637859408094,
         3.6013345519492135,
         3.8571350754017777,
         3.564594481417149,
         3.6847619673838854,
         3.8845221726964185,
         3.841818451054622,
         3.792117501361035,
         3.712825828859501,
         3.6553706440344493,
         3.79367542241271,
         3.782391320046765,
         3.835118846849323,
         3.8066693852956086,
         3.5753697066623866,
         3.8240418345746723,
         3.7173621000916635,
         3.8358954400381897,
         3.8326168430375938,
         3.6945947034370183,
         3.8693477870284743,
         3.6203821178601014,
         3.610804384609572,
         3.7235840290325113,
         3.6097729152558014,
         3.7410752398918086,
         3.895037852496242,
         3.7798053770496454,
         3.621151314188193,
         3.9087310872521863,
         3.693870987141644,
         3.860352338955177,
         3.4912105021966386,
         3.842413171677578,
         3.778421057222087,
         3.869242331230301,
         3.8027000164410714,
         3.7312303931100548,
         3.89637583197283,
         3.699265439387284,
         3.6684891493700214,
         3.94178514069909,
         3.7289186696400107,
         3.622330390748698,
         3.7930542408505388,
         3.9130589269324347,
         3.662715147534091,
         3.810312994842172,
         3.9057536523866943,
         3.7854828649088987,
         3.8616413737650785,
         3.625736595016008,
         3.8419683253876706,
         3.795180790473054,
         3.7400341872152927,
         3.7030844033029204,
         3.668891251871291,
         3.788296024624703,
         3.8885059426136186,
         3.7504958418345695,
         3.8087363143094395,
         3.872788996913623,
         3.8843296292051663,
         3.783745523410305,
         3.6783898829030544,
         3.7992736050278535,
         3.6861524415848024
        ]
       ],
       "encoder": "json",
       "name": "ABC_GAN_3 Metrics",
       "version": 1
      }
     },
     "metadata": {
      "scrapbook": {
       "data": true,
       "display": false,
       "name": "ABC_GAN_3 Metrics"
      }
     },
     "output_type": "display_data"
    }
   ],
   "source": [
    "ABC_GAN3_metrics=ABC_train_test2.test_generator(gen3,test_data,prior_model,variance,\"3\",device)\n",
    "sb.glue(\"ABC_GAN_3 Metrics\",ABC_GAN3_metrics)"
   ]
  },
  {
   "cell_type": "code",
   "execution_count": 18,
   "id": "c8e46b48",
   "metadata": {
    "execution": {
     "iopub.execute_input": "2022-01-14T07:33:30.407264Z",
     "iopub.status.busy": "2022-01-14T07:33:30.406582Z",
     "iopub.status.idle": "2022-01-14T07:33:31.190721Z",
     "shell.execute_reply": "2022-01-14T07:33:31.191212Z"
    },
    "papermill": {
     "duration": 0.844137,
     "end_time": "2022-01-14T07:33:31.191374",
     "exception": false,
     "start_time": "2022-01-14T07:33:30.347237",
     "status": "completed"
    },
    "tags": []
   },
   "outputs": [
    {
     "data": {
      "image/png": "[encoded data removed]",
      "text/plain": [
       "<Figure size 432x288 with 1 Axes>"
      ]
     },
     "metadata": {
      "needs_background": "light"
     },
     "output_type": "display_data"
    },
    {
     "data": {
      "image/png": "[encoded data removed]",
      "text/plain": [
       "<Figure size 432x288 with 1 Axes>"
      ]
     },
     "metadata": {
      "needs_background": "light"
     },
     "output_type": "display_data"
    },
    {
     "data": {
      "image/png": "[encoded data removed]",
      "text/plain": [
       "<Figure size 432x288 with 1 Axes>"
      ]
     },
     "metadata": {
      "needs_background": "light"
     },
     "output_type": "display_data"
    },
    {
     "data": {
      "image/png": "[encoded data removed]",
      "text/plain": [
       "<Figure size 432x288 with 1 Axes>"
      ]
     },
     "metadata": {
      "needs_background": "light"
     },
     "output_type": "display_data"
    }
   ],
   "source": [
    "sanityChecks.discProbVsError(train_data,disc,device)\n",
    "sanityChecks.discProbVsError(test_data,disc3,device)"
   ]
  },
  {
   "cell_type": "markdown",
   "id": "a5bd74c3",
   "metadata": {
    "papermill": {
     "duration": 0.050838,
     "end_time": "2022-01-14T07:33:31.294314",
     "exception": false,
     "start_time": "2022-01-14T07:33:31.243476",
     "status": "completed"
    },
    "tags": []
   },
   "source": [
    "## Skip Connection Model Analysis - ABC-GAN "
   ]
  },
  {
   "cell_type": "markdown",
   "id": "5744a8bf",
   "metadata": {
    "papermill": {
     "duration": 0.050122,
     "end_time": "2022-01-14T07:33:31.393148",
     "exception": false,
     "start_time": "2022-01-14T07:33:31.343026",
     "status": "completed"
    },
    "tags": []
   },
   "source": [
    "### Weight Analysis \n",
    "\n",
    "Study the weights of the skip connection layer\n",
    "\n",
    "Equation of the skip connection is \n",
    "\n",
    "$output = y_{gan} * w + y_{abc} * (1-w)$"
   ]
  },
  {
   "cell_type": "code",
   "execution_count": 19,
   "id": "52c31dea",
   "metadata": {
    "execution": {
     "iopub.execute_input": "2022-01-14T07:33:31.497090Z",
     "iopub.status.busy": "2022-01-14T07:33:31.496514Z",
     "iopub.status.idle": "2022-01-14T07:33:31.505055Z",
     "shell.execute_reply": "2022-01-14T07:33:31.504476Z"
    },
    "papermill": {
     "duration": 0.062488,
     "end_time": "2022-01-14T07:33:31.505187",
     "exception": false,
     "start_time": "2022-01-14T07:33:31.442699",
     "status": "completed"
    },
    "tags": []
   },
   "outputs": [
    {
     "name": "stdout",
     "output_type": "stream",
     "text": [
      "Weight of the node at skip connection\n",
      "Parameter containing:\n",
      "tensor([[2.1281e-05]], device='cuda:0', requires_grad=True)\n"
     ]
    },
    {
     "data": {
      "application/scrapbook.scrap.json+json": {
       "data": 2.1280528017086908e-05,
       "encoder": "json",
       "name": "Skip Connection Weight",
       "version": 1
      }
     },
     "metadata": {
      "scrapbook": {
       "data": true,
       "display": false,
       "name": "Skip Connection Weight"
      }
     },
     "output_type": "display_data"
    }
   ],
   "source": [
    "print(\"Weight of the node at skip connection\")\n",
    "for name,param in gen3.named_parameters():\n",
    "    if(name == \"skipNode.weight\"):\n",
    "        print(param)\n",
    "        sb.glue(\"Skip Connection Weight\",param.item())"
   ]
  }
 ],
 "metadata": {
  "interpreter": {
   "hash": "10498c76ddd8160350534c6544a2b2fb65f2138dbc70420f7c81a3268f830f23"
  },
  "kernelspec": {
   "display_name": "papermill-tutorial",
   "language": "python",
   "name": "python3"
  },
  "language_info": {
   "codemirror_mode": {
    "name": "ipython",
    "version": 3
   },
   "file_extension": ".py",
   "mimetype": "text/x-python",
   "name": "python",
   "nbconvert_exporter": "python",
   "pygments_lexer": "ipython3",
   "version": "3.7.12"
  },
  "papermill": {
   "default_parameters": {},
   "duration": 2654.100647,
   "end_time": "2022-01-14T07:33:32.268130",
   "environment_variables": {},
   "exception": null,
   "input_path": "ABC_GAN_Model-Catboost_Pre-gen.ipynb",
   "output_path": "./ABC_GAN_Output/ABC-GAN_output_1_1.ipynb",
   "parameters": {
    "variance": 0.1
   },
   "start_time": "2022-01-14T06:49:18.167483",
   "version": "2.3.3"
  }
 },
 "nbformat": 4,
 "nbformat_minor": 5
}