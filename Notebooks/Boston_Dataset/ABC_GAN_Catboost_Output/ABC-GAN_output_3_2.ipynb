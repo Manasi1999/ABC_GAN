{
 "cells": [
  {
   "cell_type": "markdown",
   "id": "622780e6",
   "metadata": {
    "papermill": {
     "duration": 0.027769,
     "end_time": "2022-01-14T11:50:09.464772",
     "exception": false,
     "start_time": "2022-01-14T11:50:09.437003",
     "status": "completed"
    },
    "tags": []
   },
   "source": [
    "## Import Libraries "
   ]
  },
  {
   "cell_type": "code",
   "execution_count": 1,
   "id": "a62397e3",
   "metadata": {
    "execution": {
     "iopub.execute_input": "2022-01-14T11:50:09.520499Z",
     "iopub.status.busy": "2022-01-14T11:50:09.519525Z",
     "iopub.status.idle": "2022-01-14T11:50:09.522671Z",
     "shell.execute_reply": "2022-01-14T11:50:09.521980Z"
    },
    "papermill": {
     "duration": 0.034082,
     "end_time": "2022-01-14T11:50:09.522829",
     "exception": false,
     "start_time": "2022-01-14T11:50:09.488747",
     "status": "completed"
    },
    "tags": []
   },
   "outputs": [],
   "source": [
    "import warnings\n",
    "import sys\n",
    "sys.path.insert(0, '../../src')\n",
    "warnings.filterwarnings('ignore')"
   ]
  },
  {
   "cell_type": "code",
   "execution_count": 2,
   "id": "d6a4e155",
   "metadata": {
    "execution": {
     "iopub.execute_input": "2022-01-14T11:50:09.577867Z",
     "iopub.status.busy": "2022-01-14T11:50:09.577023Z",
     "iopub.status.idle": "2022-01-14T11:50:11.236808Z",
     "shell.execute_reply": "2022-01-14T11:50:11.237375Z"
    },
    "papermill": {
     "duration": 1.690967,
     "end_time": "2022-01-14T11:50:11.237578",
     "exception": false,
     "start_time": "2022-01-14T11:50:09.546611",
     "status": "completed"
    },
    "tags": []
   },
   "outputs": [],
   "source": [
    "import ABC_train_test2\n",
    "import bostonDataset\n",
    "import network\n",
    "import dataset\n",
    "import sanityChecks\n",
    "import performanceMetrics\n",
    "import torch \n",
    "from torch.utils.data import random_split \n",
    "import scrapbook as sb\n",
    "from statistics import mean \n",
    "import catboost as ctb \n",
    "from sklearn.model_selection import train_test_split\n",
    "from sklearn.metrics import mean_squared_error\n",
    "import numpy as np"
   ]
  },
  {
   "cell_type": "markdown",
   "id": "2fa5b0f7",
   "metadata": {
    "papermill": {
     "duration": 0.025939,
     "end_time": "2022-01-14T11:50:11.288715",
     "exception": false,
     "start_time": "2022-01-14T11:50:11.262776",
     "status": "completed"
    },
    "tags": []
   },
   "source": [
    "## Parameters "
   ]
  },
  {
   "cell_type": "code",
   "execution_count": 3,
   "id": "783186fb",
   "metadata": {
    "execution": {
     "iopub.execute_input": "2022-01-14T11:50:11.341082Z",
     "iopub.status.busy": "2022-01-14T11:50:11.340344Z",
     "iopub.status.idle": "2022-01-14T11:50:11.342619Z",
     "shell.execute_reply": "2022-01-14T11:50:11.343141Z"
    },
    "papermill": {
     "duration": 0.030748,
     "end_time": "2022-01-14T11:50:11.343331",
     "exception": false,
     "start_time": "2022-01-14T11:50:11.312583",
     "status": "completed"
    },
    "tags": [
     "parameters"
    ]
   },
   "outputs": [],
   "source": [
    "variance = 1"
   ]
  },
  {
   "cell_type": "code",
   "execution_count": 4,
   "id": "a6c32977",
   "metadata": {
    "execution": {
     "iopub.execute_input": "2022-01-14T11:50:11.420746Z",
     "iopub.status.busy": "2022-01-14T11:50:11.420046Z",
     "iopub.status.idle": "2022-01-14T11:50:11.422822Z",
     "shell.execute_reply": "2022-01-14T11:50:11.422141Z"
    },
    "papermill": {
     "duration": 0.053976,
     "end_time": "2022-01-14T11:50:11.422958",
     "exception": false,
     "start_time": "2022-01-14T11:50:11.368982",
     "status": "completed"
    },
    "tags": [
     "injected-parameters"
    ]
   },
   "outputs": [],
   "source": [
    "# Parameters\n",
    "variance = 0.01\n"
   ]
  },
  {
   "cell_type": "markdown",
   "id": "391cdbfd",
   "metadata": {
    "papermill": {
     "duration": 0.0248,
     "end_time": "2022-01-14T11:50:11.474099",
     "exception": false,
     "start_time": "2022-01-14T11:50:11.449299",
     "status": "completed"
    },
    "tags": []
   },
   "source": [
    "## Dataset - Boston Housing "
   ]
  },
  {
   "cell_type": "code",
   "execution_count": 5,
   "id": "5b51f161",
   "metadata": {
    "execution": {
     "iopub.execute_input": "2022-01-14T11:50:11.527874Z",
     "iopub.status.busy": "2022-01-14T11:50:11.527189Z",
     "iopub.status.idle": "2022-01-14T11:50:11.530181Z",
     "shell.execute_reply": "2022-01-14T11:50:11.529608Z"
    },
    "papermill": {
     "duration": 0.031159,
     "end_time": "2022-01-14T11:50:11.530316",
     "exception": false,
     "start_time": "2022-01-14T11:50:11.499157",
     "status": "completed"
    },
    "tags": []
   },
   "outputs": [],
   "source": [
    "#Parameters \n",
    "n_features = 13\n",
    "n_samples= 506\n",
    "n_target = 1 "
   ]
  },
  {
   "cell_type": "code",
   "execution_count": 6,
   "id": "5d6eced4",
   "metadata": {
    "execution": {
     "iopub.execute_input": "2022-01-14T11:50:11.583755Z",
     "iopub.status.busy": "2022-01-14T11:50:11.582992Z",
     "iopub.status.idle": "2022-01-14T11:50:11.615957Z",
     "shell.execute_reply": "2022-01-14T11:50:11.615270Z"
    },
    "papermill": {
     "duration": 0.061396,
     "end_time": "2022-01-14T11:50:11.616117",
     "exception": false,
     "start_time": "2022-01-14T11:50:11.554721",
     "status": "completed"
    },
    "tags": []
   },
   "outputs": [
    {
     "name": "stdout",
     "output_type": "stream",
     "text": [
      "         X1        X2        X3        X4        X5        X6        X7        X8        X9       X10       X11       X12       X13         Y\n",
      "0 -0.419782  0.284830 -1.287909 -0.272599 -0.144217  0.413672 -0.120013  0.140214 -0.982843 -0.666608 -1.459000  0.441052 -1.075562  0.159686\n",
      "1 -0.417339 -0.487722 -0.593381 -0.272599 -0.740262  0.194274  0.367166  0.557160 -0.867883 -0.987329 -0.303094  0.441052 -0.492439 -0.101524\n",
      "2 -0.417342 -0.487722 -0.593381 -0.272599 -0.740262  1.282714 -0.265812  0.557160 -0.867883 -0.987329 -0.303094  0.396427 -1.208727  1.324247\n",
      "3 -0.416750 -0.487722 -1.306878 -0.272599 -0.835284  1.016303 -0.809889  1.077737 -0.752922 -1.106115  0.113032  0.416163 -1.361517  1.182758\n",
      "4 -0.412482 -0.487722 -1.306878 -0.272599 -0.835284  1.228577 -0.511180  1.077737 -0.752922 -1.106115  0.113032  0.441052 -1.026501  1.487503\n"
     ]
    }
   ],
   "source": [
    "X,Y = bostonDataset.boston_data()"
   ]
  },
  {
   "cell_type": "code",
   "execution_count": 7,
   "id": "fe007438",
   "metadata": {
    "execution": {
     "iopub.execute_input": "2022-01-14T11:50:11.672005Z",
     "iopub.status.busy": "2022-01-14T11:50:11.671363Z",
     "iopub.status.idle": "2022-01-14T11:50:11.674029Z",
     "shell.execute_reply": "2022-01-14T11:50:11.673276Z"
    },
    "papermill": {
     "duration": 0.032457,
     "end_time": "2022-01-14T11:50:11.674187",
     "exception": false,
     "start_time": "2022-01-14T11:50:11.641730",
     "status": "completed"
    },
    "tags": []
   },
   "outputs": [],
   "source": [
    "#Train test split for dataset \n",
    "X_train,X_test,Y_train,Y_test = train_test_split(X,Y,test_size = 0.2)\n",
    "train_data = dataset.CustomDataset(X_train,Y_train)\n",
    "test_data = dataset.CustomDataset(X_test,Y_test)\n"
   ]
  },
  {
   "cell_type": "markdown",
   "id": "a9a1af34",
   "metadata": {
    "papermill": {
     "duration": 0.025405,
     "end_time": "2022-01-14T11:50:11.723726",
     "exception": false,
     "start_time": "2022-01-14T11:50:11.698321",
     "status": "completed"
    },
    "tags": []
   },
   "source": [
    "## Training Parameters \n",
    "\n"
   ]
  },
  {
   "cell_type": "code",
   "execution_count": 8,
   "id": "952b7fc8",
   "metadata": {
    "execution": {
     "iopub.execute_input": "2022-01-14T11:50:11.797933Z",
     "iopub.status.busy": "2022-01-14T11:50:11.797280Z",
     "iopub.status.idle": "2022-01-14T11:50:11.799775Z",
     "shell.execute_reply": "2022-01-14T11:50:11.799140Z"
    },
    "papermill": {
     "duration": 0.050426,
     "end_time": "2022-01-14T11:50:11.799915",
     "exception": false,
     "start_time": "2022-01-14T11:50:11.749489",
     "status": "completed"
    },
    "tags": []
   },
   "outputs": [],
   "source": [
    "batch_size = 64\n",
    "n_epochs = 5000\n",
    "#Select the device \n",
    "device = torch.device('cuda' if torch.cuda.is_available() else 'cpu')"
   ]
  },
  {
   "cell_type": "markdown",
   "id": "a95e1600",
   "metadata": {
    "papermill": {
     "duration": 0.024979,
     "end_time": "2022-01-14T11:50:11.851074",
     "exception": false,
     "start_time": "2022-01-14T11:50:11.826095",
     "status": "completed"
    },
    "tags": []
   },
   "source": [
    "# ABC Pre-generator Model \n",
    "\n",
    "1. The catboost model is used as a pre-generator model for the ABC-GAN. \n",
    "2. The model is first trained on the train dataset \n",
    "3. It generats X,Y pairs and we add some Gaussian noise with mean 0 and variance V (1,0.01,0.1) to it which is then feed as input to the generator.\n"
   ]
  },
  {
   "cell_type": "code",
   "execution_count": 9,
   "id": "ff8ce7bd",
   "metadata": {
    "execution": {
     "iopub.execute_input": "2022-01-14T11:50:11.938136Z",
     "iopub.status.busy": "2022-01-14T11:50:11.932956Z",
     "iopub.status.idle": "2022-01-14T11:50:13.664323Z",
     "shell.execute_reply": "2022-01-14T11:50:13.664944Z"
    },
    "papermill": {
     "duration": 1.788279,
     "end_time": "2022-01-14T11:50:13.665118",
     "exception": false,
     "start_time": "2022-01-14T11:50:11.876839",
     "status": "completed"
    },
    "tags": []
   },
   "outputs": [
    {
     "name": "stdout",
     "output_type": "stream",
     "text": [
      "Learning rate set to 0.03548\n",
      "0:\tlearn: 0.9542160\ttotal: 48.2ms\tremaining: 48.1s\n",
      "1:\tlearn: 0.9354707\ttotal: 49.3ms\tremaining: 24.6s\n",
      "2:\tlearn: 0.9146525\ttotal: 50.4ms\tremaining: 16.7s\n",
      "3:\tlearn: 0.8986425\ttotal: 51.5ms\tremaining: 12.8s\n",
      "4:\tlearn: 0.8799233\ttotal: 52.5ms\tremaining: 10.5s\n",
      "5:\tlearn: 0.8625395\ttotal: 53.6ms\tremaining: 8.87s\n",
      "6:\tlearn: 0.8455789\ttotal: 54.8ms\tremaining: 7.77s\n",
      "7:\tlearn: 0.8284241\ttotal: 55.8ms\tremaining: 6.92s\n",
      "8:\tlearn: 0.8133431\ttotal: 56.8ms\tremaining: 6.25s\n",
      "9:\tlearn: 0.7955879\ttotal: 57.8ms\tremaining: 5.72s\n",
      "10:\tlearn: 0.7810745\ttotal: 58.9ms\tremaining: 5.29s\n",
      "11:\tlearn: 0.7655702\ttotal: 60.3ms\tremaining: 4.97s\n",
      "12:\tlearn: 0.7510094\ttotal: 61.3ms\tremaining: 4.66s\n",
      "13:\tlearn: 0.7363846\ttotal: 62.3ms\tremaining: 4.38s\n",
      "14:\tlearn: 0.7229229\ttotal: 63.3ms\tremaining: 4.15s\n",
      "15:\tlearn: 0.7092460\ttotal: 64.3ms\tremaining: 3.95s\n",
      "16:\tlearn: 0.6966061\ttotal: 65.4ms\tremaining: 3.78s\n",
      "17:\tlearn: 0.6845109\ttotal: 66.4ms\tremaining: 3.62s\n",
      "18:\tlearn: 0.6716000\ttotal: 67.4ms\tremaining: 3.48s\n",
      "19:\tlearn: 0.6588057\ttotal: 68.4ms\tremaining: 3.35s\n",
      "20:\tlearn: 0.6476817\ttotal: 69.3ms\tremaining: 3.23s\n",
      "21:\tlearn: 0.6359748\ttotal: 70.2ms\tremaining: 3.12s\n",
      "22:\tlearn: 0.6249879\ttotal: 71.1ms\tremaining: 3.02s\n",
      "23:\tlearn: 0.6142786\ttotal: 72.1ms\tremaining: 2.93s\n",
      "24:\tlearn: 0.6036398\ttotal: 73.3ms\tremaining: 2.86s\n",
      "25:\tlearn: 0.5941280\ttotal: 74.3ms\tremaining: 2.78s\n",
      "26:\tlearn: 0.5844246\ttotal: 75.3ms\tremaining: 2.71s\n",
      "27:\tlearn: 0.5754859\ttotal: 76.3ms\tremaining: 2.65s\n",
      "28:\tlearn: 0.5659412\ttotal: 77.3ms\tremaining: 2.59s\n",
      "29:\tlearn: 0.5558085\ttotal: 78.3ms\tremaining: 2.53s\n",
      "30:\tlearn: 0.5463783\ttotal: 79.3ms\tremaining: 2.48s\n",
      "31:\tlearn: 0.5374063\ttotal: 80.4ms\tremaining: 2.43s\n",
      "32:\tlearn: 0.5297270\ttotal: 81.4ms\tremaining: 2.38s\n",
      "33:\tlearn: 0.5221706\ttotal: 82.4ms\tremaining: 2.34s\n",
      "34:\tlearn: 0.5144996\ttotal: 83.4ms\tremaining: 2.3s\n",
      "35:\tlearn: 0.5068795\ttotal: 84.4ms\tremaining: 2.26s\n",
      "36:\tlearn: 0.5003309\ttotal: 85.3ms\tremaining: 2.22s\n",
      "37:\tlearn: 0.4927534\ttotal: 86.3ms\tremaining: 2.19s\n",
      "38:\tlearn: 0.4854009\ttotal: 88.5ms\tremaining: 2.18s\n",
      "39:\tlearn: 0.4776024\ttotal: 89.5ms\tremaining: 2.15s\n",
      "40:\tlearn: 0.4715451\ttotal: 91.3ms\tremaining: 2.13s\n",
      "41:\tlearn: 0.4651821\ttotal: 92.5ms\tremaining: 2.11s\n",
      "42:\tlearn: 0.4588294\ttotal: 93.6ms\tremaining: 2.08s\n",
      "43:\tlearn: 0.4527069\ttotal: 94.6ms\tremaining: 2.06s\n",
      "44:\tlearn: 0.4470663\ttotal: 95.6ms\tremaining: 2.03s\n",
      "45:\tlearn: 0.4412566\ttotal: 96.6ms\tremaining: 2s\n",
      "46:\tlearn: 0.4363274\ttotal: 97.6ms\tremaining: 1.98s\n",
      "47:\tlearn: 0.4304836\ttotal: 98.5ms\tremaining: 1.95s\n",
      "48:\tlearn: 0.4256633\ttotal: 99.6ms\tremaining: 1.93s\n",
      "49:\tlearn: 0.4208233\ttotal: 101ms\tremaining: 1.91s\n",
      "50:\tlearn: 0.4158878\ttotal: 102ms\tremaining: 1.89s\n",
      "51:\tlearn: 0.4116484\ttotal: 103ms\tremaining: 1.87s\n",
      "52:\tlearn: 0.4075105\ttotal: 104ms\tremaining: 1.85s\n",
      "53:\tlearn: 0.4039763\ttotal: 105ms\tremaining: 1.83s\n",
      "54:\tlearn: 0.3997909\ttotal: 106ms\tremaining: 1.81s\n",
      "55:\tlearn: 0.3961811\ttotal: 107ms\tremaining: 1.8s\n",
      "56:\tlearn: 0.3926486\ttotal: 108ms\tremaining: 1.78s\n",
      "57:\tlearn: 0.3886335\ttotal: 109ms\tremaining: 1.76s\n",
      "58:\tlearn: 0.3851354\ttotal: 110ms\tremaining: 1.75s\n",
      "59:\tlearn: 0.3816564\ttotal: 111ms\tremaining: 1.74s\n",
      "60:\tlearn: 0.3776282\ttotal: 112ms\tremaining: 1.72s\n",
      "61:\tlearn: 0.3736708\ttotal: 113ms\tremaining: 1.71s\n",
      "62:\tlearn: 0.3708560\ttotal: 114ms\tremaining: 1.7s\n",
      "63:\tlearn: 0.3669812\ttotal: 115ms\tremaining: 1.68s\n",
      "64:\tlearn: 0.3638474\ttotal: 116ms\tremaining: 1.67s\n",
      "65:\tlearn: 0.3611875\ttotal: 117ms\tremaining: 1.66s\n",
      "66:\tlearn: 0.3577760\ttotal: 118ms\tremaining: 1.64s\n",
      "67:\tlearn: 0.3549506\ttotal: 119ms\tremaining: 1.63s\n",
      "68:\tlearn: 0.3521178\ttotal: 120ms\tremaining: 1.62s\n",
      "69:\tlearn: 0.3489785\ttotal: 121ms\tremaining: 1.61s\n",
      "70:\tlearn: 0.3459054\ttotal: 122ms\tremaining: 1.59s\n",
      "71:\tlearn: 0.3428204\ttotal: 123ms\tremaining: 1.58s\n",
      "72:\tlearn: 0.3402293\ttotal: 124ms\tremaining: 1.58s\n",
      "73:\tlearn: 0.3366581\ttotal: 125ms\tremaining: 1.56s\n",
      "74:\tlearn: 0.3344603\ttotal: 126ms\tremaining: 1.55s\n",
      "75:\tlearn: 0.3319788\ttotal: 127ms\tremaining: 1.55s\n",
      "76:\tlearn: 0.3297828\ttotal: 128ms\tremaining: 1.54s\n",
      "77:\tlearn: 0.3274858\ttotal: 130ms\tremaining: 1.53s\n",
      "78:\tlearn: 0.3254735\ttotal: 131ms\tremaining: 1.52s\n",
      "79:\tlearn: 0.3227856\ttotal: 132ms\tremaining: 1.51s\n",
      "80:\tlearn: 0.3206969\ttotal: 133ms\tremaining: 1.51s\n",
      "81:\tlearn: 0.3187817\ttotal: 134ms\tremaining: 1.5s\n",
      "82:\tlearn: 0.3173164\ttotal: 135ms\tremaining: 1.49s\n",
      "83:\tlearn: 0.3155532\ttotal: 136ms\tremaining: 1.48s\n",
      "84:\tlearn: 0.3136585\ttotal: 137ms\tremaining: 1.47s\n",
      "85:\tlearn: 0.3114181\ttotal: 138ms\tremaining: 1.47s\n",
      "86:\tlearn: 0.3094058\ttotal: 139ms\tremaining: 1.46s\n",
      "87:\tlearn: 0.3074706\ttotal: 140ms\tremaining: 1.45s\n"
     ]
    },
    {
     "name": "stdout",
     "output_type": "stream",
     "text": [
      "88:\tlearn: 0.3055243\ttotal: 141ms\tremaining: 1.45s\n",
      "89:\tlearn: 0.3033305\ttotal: 143ms\tremaining: 1.44s\n",
      "90:\tlearn: 0.3014132\ttotal: 144ms\tremaining: 1.43s\n",
      "91:\tlearn: 0.2996514\ttotal: 145ms\tremaining: 1.43s\n",
      "92:\tlearn: 0.2984864\ttotal: 146ms\tremaining: 1.42s\n",
      "93:\tlearn: 0.2969069\ttotal: 147ms\tremaining: 1.41s\n",
      "94:\tlearn: 0.2952040\ttotal: 148ms\tremaining: 1.41s\n",
      "95:\tlearn: 0.2941749\ttotal: 149ms\tremaining: 1.4s\n",
      "96:\tlearn: 0.2927744\ttotal: 150ms\tremaining: 1.39s\n",
      "97:\tlearn: 0.2911786\ttotal: 151ms\tremaining: 1.39s\n",
      "98:\tlearn: 0.2899566\ttotal: 152ms\tremaining: 1.38s\n",
      "99:\tlearn: 0.2886493\ttotal: 153ms\tremaining: 1.37s\n",
      "100:\tlearn: 0.2866158\ttotal: 154ms\tremaining: 1.37s\n",
      "101:\tlearn: 0.2847684\ttotal: 155ms\tremaining: 1.36s\n",
      "102:\tlearn: 0.2834952\ttotal: 156ms\tremaining: 1.36s\n",
      "103:\tlearn: 0.2816879\ttotal: 157ms\tremaining: 1.35s\n",
      "104:\tlearn: 0.2806120\ttotal: 158ms\tremaining: 1.35s\n",
      "105:\tlearn: 0.2792832\ttotal: 159ms\tremaining: 1.34s\n",
      "106:\tlearn: 0.2774456\ttotal: 160ms\tremaining: 1.34s\n",
      "107:\tlearn: 0.2760989\ttotal: 161ms\tremaining: 1.33s\n",
      "108:\tlearn: 0.2749487\ttotal: 162ms\tremaining: 1.33s\n",
      "109:\tlearn: 0.2739158\ttotal: 163ms\tremaining: 1.32s\n",
      "110:\tlearn: 0.2726439\ttotal: 165ms\tremaining: 1.32s\n",
      "111:\tlearn: 0.2711950\ttotal: 166ms\tremaining: 1.31s\n",
      "112:\tlearn: 0.2698147\ttotal: 167ms\tremaining: 1.31s\n",
      "113:\tlearn: 0.2686675\ttotal: 168ms\tremaining: 1.3s\n",
      "114:\tlearn: 0.2673670\ttotal: 169ms\tremaining: 1.3s\n",
      "115:\tlearn: 0.2663657\ttotal: 170ms\tremaining: 1.29s\n",
      "116:\tlearn: 0.2652536\ttotal: 171ms\tremaining: 1.29s\n",
      "117:\tlearn: 0.2639704\ttotal: 172ms\tremaining: 1.28s\n",
      "118:\tlearn: 0.2627792\ttotal: 173ms\tremaining: 1.28s\n",
      "119:\tlearn: 0.2620229\ttotal: 174ms\tremaining: 1.27s\n",
      "120:\tlearn: 0.2609316\ttotal: 175ms\tremaining: 1.27s\n",
      "121:\tlearn: 0.2600493\ttotal: 176ms\tremaining: 1.27s\n",
      "122:\tlearn: 0.2589895\ttotal: 177ms\tremaining: 1.26s\n",
      "123:\tlearn: 0.2578649\ttotal: 178ms\tremaining: 1.26s\n",
      "124:\tlearn: 0.2565458\ttotal: 179ms\tremaining: 1.25s\n",
      "125:\tlearn: 0.2556340\ttotal: 180ms\tremaining: 1.25s\n",
      "126:\tlearn: 0.2545649\ttotal: 181ms\tremaining: 1.25s\n",
      "127:\tlearn: 0.2535334\ttotal: 182ms\tremaining: 1.24s\n",
      "128:\tlearn: 0.2524992\ttotal: 183ms\tremaining: 1.24s\n",
      "129:\tlearn: 0.2516103\ttotal: 184ms\tremaining: 1.23s\n",
      "130:\tlearn: 0.2506240\ttotal: 185ms\tremaining: 1.23s\n",
      "131:\tlearn: 0.2493022\ttotal: 186ms\tremaining: 1.22s\n",
      "132:\tlearn: 0.2487236\ttotal: 187ms\tremaining: 1.22s\n",
      "133:\tlearn: 0.2478094\ttotal: 188ms\tremaining: 1.22s\n",
      "134:\tlearn: 0.2470744\ttotal: 189ms\tremaining: 1.21s\n",
      "135:\tlearn: 0.2462379\ttotal: 191ms\tremaining: 1.21s\n",
      "136:\tlearn: 0.2453102\ttotal: 192ms\tremaining: 1.21s\n",
      "137:\tlearn: 0.2443743\ttotal: 193ms\tremaining: 1.2s\n",
      "138:\tlearn: 0.2433249\ttotal: 194ms\tremaining: 1.2s\n",
      "139:\tlearn: 0.2422469\ttotal: 195ms\tremaining: 1.2s\n",
      "140:\tlearn: 0.2415140\ttotal: 196ms\tremaining: 1.19s\n",
      "141:\tlearn: 0.2407335\ttotal: 197ms\tremaining: 1.19s\n",
      "142:\tlearn: 0.2398108\ttotal: 198ms\tremaining: 1.19s\n",
      "143:\tlearn: 0.2390995\ttotal: 199ms\tremaining: 1.18s\n",
      "144:\tlearn: 0.2379502\ttotal: 200ms\tremaining: 1.18s\n",
      "145:\tlearn: 0.2371445\ttotal: 201ms\tremaining: 1.18s\n",
      "146:\tlearn: 0.2364198\ttotal: 203ms\tremaining: 1.18s\n",
      "147:\tlearn: 0.2358272\ttotal: 204ms\tremaining: 1.17s\n",
      "148:\tlearn: 0.2349327\ttotal: 205ms\tremaining: 1.17s\n",
      "149:\tlearn: 0.2343365\ttotal: 206ms\tremaining: 1.17s\n",
      "150:\tlearn: 0.2334180\ttotal: 207ms\tremaining: 1.16s\n",
      "151:\tlearn: 0.2328178\ttotal: 208ms\tremaining: 1.16s\n",
      "152:\tlearn: 0.2317600\ttotal: 209ms\tremaining: 1.16s\n",
      "153:\tlearn: 0.2310999\ttotal: 210ms\tremaining: 1.15s\n",
      "154:\tlearn: 0.2304201\ttotal: 211ms\tremaining: 1.15s\n",
      "155:\tlearn: 0.2294945\ttotal: 212ms\tremaining: 1.15s\n",
      "156:\tlearn: 0.2285850\ttotal: 213ms\tremaining: 1.14s\n",
      "157:\tlearn: 0.2280342\ttotal: 214ms\tremaining: 1.14s\n",
      "158:\tlearn: 0.2275411\ttotal: 215ms\tremaining: 1.14s\n",
      "159:\tlearn: 0.2268614\ttotal: 216ms\tremaining: 1.14s\n",
      "160:\tlearn: 0.2261349\ttotal: 217ms\tremaining: 1.13s\n",
      "161:\tlearn: 0.2253682\ttotal: 218ms\tremaining: 1.13s\n",
      "162:\tlearn: 0.2247923\ttotal: 219ms\tremaining: 1.13s\n",
      "163:\tlearn: 0.2241815\ttotal: 220ms\tremaining: 1.12s\n",
      "164:\tlearn: 0.2235146\ttotal: 222ms\tremaining: 1.12s\n",
      "165:\tlearn: 0.2228168\ttotal: 223ms\tremaining: 1.12s\n",
      "166:\tlearn: 0.2220558\ttotal: 224ms\tremaining: 1.12s\n",
      "167:\tlearn: 0.2213799\ttotal: 225ms\tremaining: 1.11s\n",
      "168:\tlearn: 0.2207449\ttotal: 226ms\tremaining: 1.11s\n",
      "169:\tlearn: 0.2199791\ttotal: 227ms\tremaining: 1.11s\n",
      "170:\tlearn: 0.2192812\ttotal: 228ms\tremaining: 1.1s\n",
      "171:\tlearn: 0.2184672\ttotal: 229ms\tremaining: 1.1s\n",
      "172:\tlearn: 0.2179444\ttotal: 230ms\tremaining: 1.1s\n",
      "173:\tlearn: 0.2171754\ttotal: 231ms\tremaining: 1.1s\n",
      "174:\tlearn: 0.2164687\ttotal: 232ms\tremaining: 1.09s\n",
      "175:\tlearn: 0.2159272\ttotal: 233ms\tremaining: 1.09s\n",
      "176:\tlearn: 0.2150592\ttotal: 234ms\tremaining: 1.09s\n",
      "177:\tlearn: 0.2143648\ttotal: 235ms\tremaining: 1.09s\n",
      "178:\tlearn: 0.2136745\ttotal: 236ms\tremaining: 1.08s\n",
      "179:\tlearn: 0.2128950\ttotal: 238ms\tremaining: 1.08s\n",
      "180:\tlearn: 0.2119422\ttotal: 238ms\tremaining: 1.08s\n",
      "181:\tlearn: 0.2113760\ttotal: 240ms\tremaining: 1.08s\n",
      "182:\tlearn: 0.2108119\ttotal: 241ms\tremaining: 1.07s\n",
      "183:\tlearn: 0.2102605\ttotal: 242ms\tremaining: 1.07s\n",
      "184:\tlearn: 0.2095161\ttotal: 243ms\tremaining: 1.07s\n",
      "185:\tlearn: 0.2087103\ttotal: 244ms\tremaining: 1.07s\n",
      "186:\tlearn: 0.2082096\ttotal: 246ms\tremaining: 1.07s\n",
      "187:\tlearn: 0.2078052\ttotal: 247ms\tremaining: 1.07s\n",
      "188:\tlearn: 0.2071709\ttotal: 248ms\tremaining: 1.06s\n",
      "189:\tlearn: 0.2065972\ttotal: 249ms\tremaining: 1.06s\n",
      "190:\tlearn: 0.2061325\ttotal: 250ms\tremaining: 1.06s\n",
      "191:\tlearn: 0.2054781\ttotal: 252ms\tremaining: 1.06s\n",
      "192:\tlearn: 0.2047300\ttotal: 253ms\tremaining: 1.06s\n",
      "193:\tlearn: 0.2039578\ttotal: 254ms\tremaining: 1.05s\n",
      "194:\tlearn: 0.2033646\ttotal: 255ms\tremaining: 1.05s\n",
      "195:\tlearn: 0.2025800\ttotal: 256ms\tremaining: 1.05s\n",
      "196:\tlearn: 0.2016606\ttotal: 257ms\tremaining: 1.05s\n",
      "197:\tlearn: 0.2009606\ttotal: 259ms\tremaining: 1.05s\n",
      "198:\tlearn: 0.2004874\ttotal: 260ms\tremaining: 1.04s\n",
      "199:\tlearn: 0.1999100\ttotal: 261ms\tremaining: 1.04s\n",
      "200:\tlearn: 0.1992981\ttotal: 262ms\tremaining: 1.04s\n",
      "201:\tlearn: 0.1988311\ttotal: 263ms\tremaining: 1.04s\n",
      "202:\tlearn: 0.1981841\ttotal: 264ms\tremaining: 1.04s\n",
      "203:\tlearn: 0.1975543\ttotal: 265ms\tremaining: 1.03s\n",
      "204:\tlearn: 0.1968139\ttotal: 267ms\tremaining: 1.03s\n",
      "205:\tlearn: 0.1961884\ttotal: 268ms\tremaining: 1.03s\n",
      "206:\tlearn: 0.1956585\ttotal: 269ms\tremaining: 1.03s\n"
     ]
    },
    {
     "name": "stdout",
     "output_type": "stream",
     "text": [
      "207:\tlearn: 0.1951047\ttotal: 270ms\tremaining: 1.03s\n",
      "208:\tlearn: 0.1945823\ttotal: 271ms\tremaining: 1.02s\n",
      "209:\tlearn: 0.1940888\ttotal: 272ms\tremaining: 1.02s\n",
      "210:\tlearn: 0.1935482\ttotal: 273ms\tremaining: 1.02s\n",
      "211:\tlearn: 0.1928945\ttotal: 274ms\tremaining: 1.02s\n",
      "212:\tlearn: 0.1923818\ttotal: 275ms\tremaining: 1.02s\n",
      "213:\tlearn: 0.1918722\ttotal: 276ms\tremaining: 1.01s\n",
      "214:\tlearn: 0.1912523\ttotal: 278ms\tremaining: 1.01s\n",
      "215:\tlearn: 0.1907854\ttotal: 279ms\tremaining: 1.01s\n",
      "216:\tlearn: 0.1901590\ttotal: 280ms\tremaining: 1.01s\n",
      "217:\tlearn: 0.1894606\ttotal: 281ms\tremaining: 1.01s\n",
      "218:\tlearn: 0.1889462\ttotal: 282ms\tremaining: 1s\n",
      "219:\tlearn: 0.1885080\ttotal: 283ms\tremaining: 1s\n",
      "220:\tlearn: 0.1880181\ttotal: 284ms\tremaining: 1s\n",
      "221:\tlearn: 0.1874509\ttotal: 285ms\tremaining: 1000ms\n",
      "222:\tlearn: 0.1869555\ttotal: 286ms\tremaining: 998ms\n",
      "223:\tlearn: 0.1864396\ttotal: 287ms\tremaining: 996ms\n",
      "224:\tlearn: 0.1860652\ttotal: 289ms\tremaining: 994ms\n",
      "225:\tlearn: 0.1855738\ttotal: 290ms\tremaining: 992ms\n",
      "226:\tlearn: 0.1848900\ttotal: 291ms\tremaining: 990ms\n",
      "227:\tlearn: 0.1844596\ttotal: 292ms\tremaining: 988ms\n",
      "228:\tlearn: 0.1839723\ttotal: 293ms\tremaining: 986ms\n",
      "229:\tlearn: 0.1834351\ttotal: 294ms\tremaining: 984ms\n",
      "230:\tlearn: 0.1829279\ttotal: 295ms\tremaining: 982ms\n",
      "231:\tlearn: 0.1824228\ttotal: 296ms\tremaining: 980ms\n",
      "232:\tlearn: 0.1819681\ttotal: 297ms\tremaining: 978ms\n",
      "233:\tlearn: 0.1813606\ttotal: 298ms\tremaining: 976ms\n",
      "234:\tlearn: 0.1809870\ttotal: 299ms\tremaining: 974ms\n",
      "235:\tlearn: 0.1805602\ttotal: 300ms\tremaining: 972ms\n",
      "236:\tlearn: 0.1799492\ttotal: 301ms\tremaining: 970ms\n",
      "237:\tlearn: 0.1797509\ttotal: 302ms\tremaining: 968ms\n",
      "238:\tlearn: 0.1793468\ttotal: 304ms\tremaining: 967ms\n",
      "239:\tlearn: 0.1788503\ttotal: 305ms\tremaining: 965ms\n",
      "240:\tlearn: 0.1783884\ttotal: 306ms\tremaining: 963ms\n",
      "241:\tlearn: 0.1779257\ttotal: 307ms\tremaining: 962ms\n",
      "242:\tlearn: 0.1775430\ttotal: 308ms\tremaining: 960ms\n",
      "243:\tlearn: 0.1772256\ttotal: 309ms\tremaining: 958ms\n",
      "244:\tlearn: 0.1767083\ttotal: 310ms\tremaining: 957ms\n",
      "245:\tlearn: 0.1761621\ttotal: 311ms\tremaining: 955ms\n",
      "246:\tlearn: 0.1758017\ttotal: 312ms\tremaining: 952ms\n",
      "247:\tlearn: 0.1753560\ttotal: 313ms\tremaining: 950ms\n",
      "248:\tlearn: 0.1749029\ttotal: 314ms\tremaining: 949ms\n",
      "249:\tlearn: 0.1744961\ttotal: 315ms\tremaining: 946ms\n",
      "250:\tlearn: 0.1741165\ttotal: 316ms\tremaining: 944ms\n",
      "251:\tlearn: 0.1737993\ttotal: 318ms\tremaining: 943ms\n",
      "252:\tlearn: 0.1733120\ttotal: 319ms\tremaining: 941ms\n",
      "253:\tlearn: 0.1729465\ttotal: 320ms\tremaining: 939ms\n",
      "254:\tlearn: 0.1724357\ttotal: 321ms\tremaining: 937ms\n",
      "255:\tlearn: 0.1720473\ttotal: 322ms\tremaining: 935ms\n",
      "256:\tlearn: 0.1717216\ttotal: 323ms\tremaining: 934ms\n",
      "257:\tlearn: 0.1713963\ttotal: 324ms\tremaining: 932ms\n",
      "258:\tlearn: 0.1709441\ttotal: 325ms\tremaining: 930ms\n",
      "259:\tlearn: 0.1705716\ttotal: 326ms\tremaining: 928ms\n",
      "260:\tlearn: 0.1701224\ttotal: 327ms\tremaining: 927ms\n",
      "261:\tlearn: 0.1697319\ttotal: 328ms\tremaining: 925ms\n",
      "262:\tlearn: 0.1693529\ttotal: 329ms\tremaining: 923ms\n",
      "263:\tlearn: 0.1689587\ttotal: 330ms\tremaining: 921ms\n",
      "264:\tlearn: 0.1685120\ttotal: 331ms\tremaining: 919ms\n",
      "265:\tlearn: 0.1682670\ttotal: 332ms\tremaining: 917ms\n",
      "266:\tlearn: 0.1678644\ttotal: 333ms\tremaining: 915ms\n",
      "267:\tlearn: 0.1674374\ttotal: 334ms\tremaining: 913ms\n",
      "268:\tlearn: 0.1669267\ttotal: 335ms\tremaining: 912ms\n",
      "269:\tlearn: 0.1665496\ttotal: 337ms\tremaining: 910ms\n",
      "270:\tlearn: 0.1662063\ttotal: 338ms\tremaining: 909ms\n",
      "271:\tlearn: 0.1659570\ttotal: 339ms\tremaining: 907ms\n",
      "272:\tlearn: 0.1654575\ttotal: 340ms\tremaining: 905ms\n",
      "273:\tlearn: 0.1650190\ttotal: 341ms\tremaining: 903ms\n",
      "274:\tlearn: 0.1644974\ttotal: 342ms\tremaining: 902ms\n",
      "275:\tlearn: 0.1641126\ttotal: 343ms\tremaining: 900ms\n",
      "276:\tlearn: 0.1638291\ttotal: 344ms\tremaining: 898ms\n",
      "277:\tlearn: 0.1634029\ttotal: 345ms\tremaining: 897ms\n",
      "278:\tlearn: 0.1630781\ttotal: 346ms\tremaining: 895ms\n",
      "279:\tlearn: 0.1627089\ttotal: 347ms\tremaining: 893ms\n",
      "280:\tlearn: 0.1622963\ttotal: 349ms\tremaining: 892ms\n",
      "281:\tlearn: 0.1619541\ttotal: 350ms\tremaining: 890ms\n",
      "282:\tlearn: 0.1615591\ttotal: 351ms\tremaining: 889ms\n",
      "283:\tlearn: 0.1612103\ttotal: 352ms\tremaining: 887ms\n",
      "284:\tlearn: 0.1609137\ttotal: 353ms\tremaining: 886ms\n",
      "285:\tlearn: 0.1604295\ttotal: 354ms\tremaining: 885ms\n",
      "286:\tlearn: 0.1602078\ttotal: 355ms\tremaining: 883ms\n",
      "287:\tlearn: 0.1598713\ttotal: 357ms\tremaining: 882ms\n",
      "288:\tlearn: 0.1594637\ttotal: 358ms\tremaining: 880ms\n",
      "289:\tlearn: 0.1592732\ttotal: 359ms\tremaining: 879ms\n",
      "290:\tlearn: 0.1589229\ttotal: 360ms\tremaining: 878ms\n",
      "291:\tlearn: 0.1586252\ttotal: 361ms\tremaining: 876ms\n",
      "292:\tlearn: 0.1581847\ttotal: 362ms\tremaining: 874ms\n",
      "293:\tlearn: 0.1578233\ttotal: 363ms\tremaining: 873ms\n",
      "294:\tlearn: 0.1574936\ttotal: 364ms\tremaining: 871ms\n",
      "295:\tlearn: 0.1570669\ttotal: 366ms\tremaining: 870ms\n",
      "296:\tlearn: 0.1567637\ttotal: 367ms\tremaining: 868ms\n",
      "297:\tlearn: 0.1565693\ttotal: 368ms\tremaining: 867ms\n",
      "298:\tlearn: 0.1562592\ttotal: 369ms\tremaining: 865ms\n",
      "299:\tlearn: 0.1560364\ttotal: 370ms\tremaining: 863ms\n",
      "300:\tlearn: 0.1557112\ttotal: 371ms\tremaining: 861ms\n",
      "301:\tlearn: 0.1552489\ttotal: 372ms\tremaining: 860ms\n",
      "302:\tlearn: 0.1548705\ttotal: 373ms\tremaining: 858ms\n",
      "303:\tlearn: 0.1544692\ttotal: 374ms\tremaining: 856ms\n",
      "304:\tlearn: 0.1542911\ttotal: 375ms\tremaining: 854ms\n",
      "305:\tlearn: 0.1539389\ttotal: 376ms\tremaining: 853ms\n",
      "306:\tlearn: 0.1536919\ttotal: 377ms\tremaining: 852ms\n",
      "307:\tlearn: 0.1534692\ttotal: 378ms\tremaining: 850ms\n",
      "308:\tlearn: 0.1532609\ttotal: 379ms\tremaining: 848ms\n",
      "309:\tlearn: 0.1530027\ttotal: 381ms\tremaining: 847ms\n",
      "310:\tlearn: 0.1526710\ttotal: 382ms\tremaining: 846ms\n",
      "311:\tlearn: 0.1524816\ttotal: 383ms\tremaining: 844ms\n",
      "312:\tlearn: 0.1521786\ttotal: 384ms\tremaining: 843ms\n",
      "313:\tlearn: 0.1519063\ttotal: 385ms\tremaining: 841ms\n",
      "314:\tlearn: 0.1516499\ttotal: 386ms\tremaining: 839ms\n",
      "315:\tlearn: 0.1514371\ttotal: 387ms\tremaining: 837ms\n",
      "316:\tlearn: 0.1513556\ttotal: 388ms\tremaining: 836ms\n",
      "317:\tlearn: 0.1509928\ttotal: 389ms\tremaining: 834ms\n",
      "318:\tlearn: 0.1506073\ttotal: 390ms\tremaining: 833ms\n",
      "319:\tlearn: 0.1503437\ttotal: 391ms\tremaining: 831ms\n",
      "320:\tlearn: 0.1499598\ttotal: 392ms\tremaining: 829ms\n",
      "321:\tlearn: 0.1496784\ttotal: 393ms\tremaining: 828ms\n",
      "322:\tlearn: 0.1495464\ttotal: 394ms\tremaining: 826ms\n",
      "323:\tlearn: 0.1492292\ttotal: 395ms\tremaining: 825ms\n",
      "324:\tlearn: 0.1488559\ttotal: 396ms\tremaining: 823ms\n",
      "325:\tlearn: 0.1485715\ttotal: 397ms\tremaining: 821ms\n",
      "326:\tlearn: 0.1480733\ttotal: 398ms\tremaining: 820ms\n",
      "327:\tlearn: 0.1476170\ttotal: 399ms\tremaining: 818ms\n",
      "328:\tlearn: 0.1473207\ttotal: 400ms\tremaining: 816ms\n",
      "329:\tlearn: 0.1470554\ttotal: 401ms\tremaining: 815ms\n",
      "330:\tlearn: 0.1466158\ttotal: 402ms\tremaining: 813ms\n",
      "331:\tlearn: 0.1463257\ttotal: 403ms\tremaining: 811ms\n"
     ]
    },
    {
     "name": "stdout",
     "output_type": "stream",
     "text": [
      "332:\tlearn: 0.1459173\ttotal: 404ms\tremaining: 810ms\n",
      "333:\tlearn: 0.1456364\ttotal: 406ms\tremaining: 809ms\n",
      "334:\tlearn: 0.1454977\ttotal: 407ms\tremaining: 808ms\n",
      "335:\tlearn: 0.1451332\ttotal: 408ms\tremaining: 806ms\n",
      "336:\tlearn: 0.1450603\ttotal: 409ms\tremaining: 804ms\n",
      "337:\tlearn: 0.1448709\ttotal: 410ms\tremaining: 803ms\n",
      "338:\tlearn: 0.1446775\ttotal: 411ms\tremaining: 801ms\n",
      "339:\tlearn: 0.1441571\ttotal: 412ms\tremaining: 800ms\n",
      "340:\tlearn: 0.1439754\ttotal: 413ms\tremaining: 799ms\n",
      "341:\tlearn: 0.1439082\ttotal: 414ms\tremaining: 797ms\n",
      "342:\tlearn: 0.1436146\ttotal: 415ms\tremaining: 796ms\n",
      "343:\tlearn: 0.1434323\ttotal: 416ms\tremaining: 794ms\n",
      "344:\tlearn: 0.1430701\ttotal: 417ms\tremaining: 793ms\n",
      "345:\tlearn: 0.1427138\ttotal: 419ms\tremaining: 791ms\n",
      "346:\tlearn: 0.1422798\ttotal: 420ms\tremaining: 790ms\n",
      "347:\tlearn: 0.1419346\ttotal: 421ms\tremaining: 788ms\n",
      "348:\tlearn: 0.1416760\ttotal: 422ms\tremaining: 787ms\n",
      "349:\tlearn: 0.1412310\ttotal: 423ms\tremaining: 786ms\n",
      "350:\tlearn: 0.1408484\ttotal: 424ms\tremaining: 784ms\n",
      "351:\tlearn: 0.1404759\ttotal: 425ms\tremaining: 783ms\n",
      "352:\tlearn: 0.1401862\ttotal: 426ms\tremaining: 781ms\n",
      "353:\tlearn: 0.1398678\ttotal: 427ms\tremaining: 780ms\n",
      "354:\tlearn: 0.1395173\ttotal: 428ms\tremaining: 778ms\n",
      "355:\tlearn: 0.1391584\ttotal: 429ms\tremaining: 777ms\n",
      "356:\tlearn: 0.1387326\ttotal: 430ms\tremaining: 775ms\n",
      "357:\tlearn: 0.1385201\ttotal: 431ms\tremaining: 774ms\n",
      "358:\tlearn: 0.1381939\ttotal: 433ms\tremaining: 772ms\n",
      "359:\tlearn: 0.1380435\ttotal: 434ms\tremaining: 771ms\n",
      "360:\tlearn: 0.1377018\ttotal: 435ms\tremaining: 770ms\n",
      "361:\tlearn: 0.1373947\ttotal: 436ms\tremaining: 768ms\n",
      "362:\tlearn: 0.1371315\ttotal: 437ms\tremaining: 767ms\n",
      "363:\tlearn: 0.1369819\ttotal: 438ms\tremaining: 765ms\n",
      "364:\tlearn: 0.1366944\ttotal: 439ms\tremaining: 764ms\n",
      "365:\tlearn: 0.1365370\ttotal: 440ms\tremaining: 762ms\n",
      "366:\tlearn: 0.1363964\ttotal: 441ms\tremaining: 761ms\n",
      "367:\tlearn: 0.1360047\ttotal: 442ms\tremaining: 760ms\n",
      "368:\tlearn: 0.1355519\ttotal: 444ms\tremaining: 759ms\n",
      "369:\tlearn: 0.1353234\ttotal: 445ms\tremaining: 757ms\n",
      "370:\tlearn: 0.1350748\ttotal: 446ms\tremaining: 756ms\n",
      "371:\tlearn: 0.1347581\ttotal: 447ms\tremaining: 754ms\n",
      "372:\tlearn: 0.1346430\ttotal: 448ms\tremaining: 753ms\n",
      "373:\tlearn: 0.1344431\ttotal: 449ms\tremaining: 752ms\n",
      "374:\tlearn: 0.1342358\ttotal: 450ms\tremaining: 750ms\n",
      "375:\tlearn: 0.1340453\ttotal: 451ms\tremaining: 749ms\n",
      "376:\tlearn: 0.1338879\ttotal: 452ms\tremaining: 747ms\n",
      "377:\tlearn: 0.1338213\ttotal: 453ms\tremaining: 746ms\n",
      "378:\tlearn: 0.1336912\ttotal: 454ms\tremaining: 744ms\n",
      "379:\tlearn: 0.1334212\ttotal: 455ms\tremaining: 743ms\n",
      "380:\tlearn: 0.1331531\ttotal: 456ms\tremaining: 742ms\n",
      "381:\tlearn: 0.1329262\ttotal: 458ms\tremaining: 740ms\n",
      "382:\tlearn: 0.1325970\ttotal: 458ms\tremaining: 739ms\n",
      "383:\tlearn: 0.1323008\ttotal: 459ms\tremaining: 737ms\n",
      "384:\tlearn: 0.1320870\ttotal: 461ms\tremaining: 736ms\n",
      "385:\tlearn: 0.1318262\ttotal: 462ms\tremaining: 734ms\n",
      "386:\tlearn: 0.1315543\ttotal: 463ms\tremaining: 733ms\n",
      "387:\tlearn: 0.1312990\ttotal: 464ms\tremaining: 731ms\n",
      "388:\tlearn: 0.1309067\ttotal: 465ms\tremaining: 730ms\n",
      "389:\tlearn: 0.1306932\ttotal: 466ms\tremaining: 729ms\n",
      "390:\tlearn: 0.1304420\ttotal: 467ms\tremaining: 727ms\n",
      "391:\tlearn: 0.1301162\ttotal: 468ms\tremaining: 726ms\n",
      "392:\tlearn: 0.1297709\ttotal: 469ms\tremaining: 725ms\n",
      "393:\tlearn: 0.1296253\ttotal: 470ms\tremaining: 723ms\n",
      "394:\tlearn: 0.1293289\ttotal: 471ms\tremaining: 722ms\n",
      "395:\tlearn: 0.1289619\ttotal: 472ms\tremaining: 721ms\n",
      "396:\tlearn: 0.1286651\ttotal: 473ms\tremaining: 719ms\n",
      "397:\tlearn: 0.1285523\ttotal: 474ms\tremaining: 718ms\n",
      "398:\tlearn: 0.1282961\ttotal: 475ms\tremaining: 716ms\n",
      "399:\tlearn: 0.1280576\ttotal: 476ms\tremaining: 715ms\n",
      "400:\tlearn: 0.1278957\ttotal: 477ms\tremaining: 713ms\n",
      "401:\tlearn: 0.1276942\ttotal: 479ms\tremaining: 712ms\n",
      "402:\tlearn: 0.1275174\ttotal: 480ms\tremaining: 710ms\n",
      "403:\tlearn: 0.1273217\ttotal: 481ms\tremaining: 709ms\n",
      "404:\tlearn: 0.1271355\ttotal: 482ms\tremaining: 708ms\n",
      "405:\tlearn: 0.1271129\ttotal: 483ms\tremaining: 706ms\n",
      "406:\tlearn: 0.1266074\ttotal: 484ms\tremaining: 705ms\n",
      "407:\tlearn: 0.1264369\ttotal: 485ms\tremaining: 703ms\n",
      "408:\tlearn: 0.1261807\ttotal: 486ms\tremaining: 702ms\n",
      "409:\tlearn: 0.1259278\ttotal: 487ms\tremaining: 700ms\n",
      "410:\tlearn: 0.1258138\ttotal: 488ms\tremaining: 699ms\n",
      "411:\tlearn: 0.1256332\ttotal: 489ms\tremaining: 697ms\n",
      "412:\tlearn: 0.1254710\ttotal: 490ms\tremaining: 696ms\n",
      "413:\tlearn: 0.1252385\ttotal: 491ms\tremaining: 695ms\n",
      "414:\tlearn: 0.1250840\ttotal: 492ms\tremaining: 693ms\n",
      "415:\tlearn: 0.1249174\ttotal: 493ms\tremaining: 692ms\n",
      "416:\tlearn: 0.1247481\ttotal: 494ms\tremaining: 690ms\n",
      "417:\tlearn: 0.1246438\ttotal: 495ms\tremaining: 689ms\n",
      "418:\tlearn: 0.1242836\ttotal: 496ms\tremaining: 687ms\n",
      "419:\tlearn: 0.1240372\ttotal: 497ms\tremaining: 686ms\n",
      "420:\tlearn: 0.1237864\ttotal: 498ms\tremaining: 684ms\n",
      "421:\tlearn: 0.1235388\ttotal: 499ms\tremaining: 683ms\n",
      "422:\tlearn: 0.1233272\ttotal: 500ms\tremaining: 682ms\n",
      "423:\tlearn: 0.1232040\ttotal: 501ms\tremaining: 680ms\n",
      "424:\tlearn: 0.1228452\ttotal: 502ms\tremaining: 679ms\n",
      "425:\tlearn: 0.1226218\ttotal: 503ms\tremaining: 678ms\n",
      "426:\tlearn: 0.1224636\ttotal: 504ms\tremaining: 676ms\n",
      "427:\tlearn: 0.1221278\ttotal: 505ms\tremaining: 675ms\n",
      "428:\tlearn: 0.1219988\ttotal: 506ms\tremaining: 674ms\n",
      "429:\tlearn: 0.1219651\ttotal: 507ms\tremaining: 672ms\n",
      "430:\tlearn: 0.1216125\ttotal: 508ms\tremaining: 671ms\n",
      "431:\tlearn: 0.1212263\ttotal: 509ms\tremaining: 669ms\n",
      "432:\tlearn: 0.1209199\ttotal: 510ms\tremaining: 668ms\n",
      "433:\tlearn: 0.1206588\ttotal: 511ms\tremaining: 667ms\n",
      "434:\tlearn: 0.1204555\ttotal: 513ms\tremaining: 666ms\n",
      "435:\tlearn: 0.1199896\ttotal: 514ms\tremaining: 665ms\n",
      "436:\tlearn: 0.1198988\ttotal: 515ms\tremaining: 663ms\n",
      "437:\tlearn: 0.1195828\ttotal: 516ms\tremaining: 662ms\n",
      "438:\tlearn: 0.1193573\ttotal: 517ms\tremaining: 661ms\n",
      "439:\tlearn: 0.1191257\ttotal: 518ms\tremaining: 659ms\n",
      "440:\tlearn: 0.1188510\ttotal: 519ms\tremaining: 658ms\n",
      "441:\tlearn: 0.1187084\ttotal: 520ms\tremaining: 657ms\n",
      "442:\tlearn: 0.1184962\ttotal: 521ms\tremaining: 655ms\n",
      "443:\tlearn: 0.1183411\ttotal: 523ms\tremaining: 654ms\n",
      "444:\tlearn: 0.1180413\ttotal: 524ms\tremaining: 653ms\n",
      "445:\tlearn: 0.1179890\ttotal: 525ms\tremaining: 652ms\n",
      "446:\tlearn: 0.1177258\ttotal: 526ms\tremaining: 650ms\n",
      "447:\tlearn: 0.1174373\ttotal: 527ms\tremaining: 649ms\n",
      "448:\tlearn: 0.1171666\ttotal: 528ms\tremaining: 648ms\n",
      "449:\tlearn: 0.1168899\ttotal: 529ms\tremaining: 646ms\n",
      "450:\tlearn: 0.1166992\ttotal: 530ms\tremaining: 645ms\n",
      "451:\tlearn: 0.1166155\ttotal: 531ms\tremaining: 643ms\n",
      "452:\tlearn: 0.1162730\ttotal: 532ms\tremaining: 642ms\n",
      "453:\tlearn: 0.1160557\ttotal: 533ms\tremaining: 641ms\n",
      "454:\tlearn: 0.1160190\ttotal: 534ms\tremaining: 640ms\n",
      "455:\tlearn: 0.1158075\ttotal: 535ms\tremaining: 638ms\n",
      "456:\tlearn: 0.1155517\ttotal: 536ms\tremaining: 637ms\n",
      "457:\tlearn: 0.1153416\ttotal: 537ms\tremaining: 636ms\n",
      "458:\tlearn: 0.1151376\ttotal: 538ms\tremaining: 634ms\n"
     ]
    },
    {
     "name": "stdout",
     "output_type": "stream",
     "text": [
      "459:\tlearn: 0.1150008\ttotal: 540ms\tremaining: 634ms\n",
      "460:\tlearn: 0.1147181\ttotal: 541ms\tremaining: 632ms\n",
      "461:\tlearn: 0.1145906\ttotal: 542ms\tremaining: 631ms\n",
      "462:\tlearn: 0.1142249\ttotal: 543ms\tremaining: 630ms\n",
      "463:\tlearn: 0.1138621\ttotal: 544ms\tremaining: 628ms\n",
      "464:\tlearn: 0.1135918\ttotal: 545ms\tremaining: 627ms\n",
      "465:\tlearn: 0.1133485\ttotal: 546ms\tremaining: 626ms\n",
      "466:\tlearn: 0.1131290\ttotal: 547ms\tremaining: 625ms\n",
      "467:\tlearn: 0.1129397\ttotal: 548ms\tremaining: 623ms\n",
      "468:\tlearn: 0.1127626\ttotal: 549ms\tremaining: 622ms\n",
      "469:\tlearn: 0.1124648\ttotal: 550ms\tremaining: 621ms\n",
      "470:\tlearn: 0.1122808\ttotal: 551ms\tremaining: 619ms\n",
      "471:\tlearn: 0.1120352\ttotal: 552ms\tremaining: 618ms\n",
      "472:\tlearn: 0.1117121\ttotal: 554ms\tremaining: 617ms\n",
      "473:\tlearn: 0.1114588\ttotal: 555ms\tremaining: 615ms\n",
      "474:\tlearn: 0.1112843\ttotal: 556ms\tremaining: 614ms\n",
      "475:\tlearn: 0.1111335\ttotal: 557ms\tremaining: 613ms\n",
      "476:\tlearn: 0.1109079\ttotal: 558ms\tremaining: 612ms\n",
      "477:\tlearn: 0.1106832\ttotal: 559ms\tremaining: 610ms\n",
      "478:\tlearn: 0.1104539\ttotal: 560ms\tremaining: 609ms\n",
      "479:\tlearn: 0.1103480\ttotal: 561ms\tremaining: 608ms\n",
      "480:\tlearn: 0.1101751\ttotal: 562ms\tremaining: 606ms\n",
      "481:\tlearn: 0.1099914\ttotal: 563ms\tremaining: 605ms\n",
      "482:\tlearn: 0.1098185\ttotal: 564ms\tremaining: 604ms\n",
      "483:\tlearn: 0.1096516\ttotal: 565ms\tremaining: 602ms\n",
      "484:\tlearn: 0.1093956\ttotal: 566ms\tremaining: 601ms\n",
      "485:\tlearn: 0.1091205\ttotal: 567ms\tremaining: 600ms\n",
      "486:\tlearn: 0.1089314\ttotal: 568ms\tremaining: 599ms\n",
      "487:\tlearn: 0.1087200\ttotal: 569ms\tremaining: 597ms\n",
      "488:\tlearn: 0.1086169\ttotal: 570ms\tremaining: 596ms\n",
      "489:\tlearn: 0.1083568\ttotal: 571ms\tremaining: 595ms\n",
      "490:\tlearn: 0.1080706\ttotal: 573ms\tremaining: 593ms\n",
      "491:\tlearn: 0.1078698\ttotal: 574ms\tremaining: 592ms\n",
      "492:\tlearn: 0.1076791\ttotal: 575ms\tremaining: 591ms\n",
      "493:\tlearn: 0.1073682\ttotal: 576ms\tremaining: 590ms\n",
      "494:\tlearn: 0.1071188\ttotal: 577ms\tremaining: 589ms\n",
      "495:\tlearn: 0.1070502\ttotal: 578ms\tremaining: 587ms\n",
      "496:\tlearn: 0.1067095\ttotal: 579ms\tremaining: 586ms\n",
      "497:\tlearn: 0.1065743\ttotal: 580ms\tremaining: 585ms\n",
      "498:\tlearn: 0.1064563\ttotal: 581ms\tremaining: 584ms\n",
      "499:\tlearn: 0.1063585\ttotal: 582ms\tremaining: 582ms\n",
      "500:\tlearn: 0.1061099\ttotal: 583ms\tremaining: 581ms\n",
      "501:\tlearn: 0.1058308\ttotal: 584ms\tremaining: 580ms\n",
      "502:\tlearn: 0.1056468\ttotal: 585ms\tremaining: 578ms\n",
      "503:\tlearn: 0.1054866\ttotal: 586ms\tremaining: 577ms\n",
      "504:\tlearn: 0.1052709\ttotal: 587ms\tremaining: 576ms\n",
      "505:\tlearn: 0.1050637\ttotal: 588ms\tremaining: 574ms\n",
      "506:\tlearn: 0.1048005\ttotal: 590ms\tremaining: 573ms\n",
      "507:\tlearn: 0.1045449\ttotal: 591ms\tremaining: 572ms\n",
      "508:\tlearn: 0.1042972\ttotal: 592ms\tremaining: 571ms\n",
      "509:\tlearn: 0.1041053\ttotal: 593ms\tremaining: 569ms\n",
      "510:\tlearn: 0.1038500\ttotal: 594ms\tremaining: 568ms\n",
      "511:\tlearn: 0.1035536\ttotal: 595ms\tremaining: 567ms\n",
      "512:\tlearn: 0.1033645\ttotal: 596ms\tremaining: 566ms\n",
      "513:\tlearn: 0.1031891\ttotal: 597ms\tremaining: 564ms\n",
      "514:\tlearn: 0.1030259\ttotal: 598ms\tremaining: 563ms\n",
      "515:\tlearn: 0.1029298\ttotal: 599ms\tremaining: 562ms\n",
      "516:\tlearn: 0.1027150\ttotal: 600ms\tremaining: 561ms\n",
      "517:\tlearn: 0.1025271\ttotal: 601ms\tremaining: 560ms\n",
      "518:\tlearn: 0.1023464\ttotal: 602ms\tremaining: 558ms\n",
      "519:\tlearn: 0.1021230\ttotal: 603ms\tremaining: 557ms\n",
      "520:\tlearn: 0.1019489\ttotal: 604ms\tremaining: 556ms\n",
      "521:\tlearn: 0.1017547\ttotal: 606ms\tremaining: 554ms\n",
      "522:\tlearn: 0.1015912\ttotal: 607ms\tremaining: 553ms\n",
      "523:\tlearn: 0.1014510\ttotal: 608ms\tremaining: 552ms\n",
      "524:\tlearn: 0.1013081\ttotal: 609ms\tremaining: 551ms\n",
      "525:\tlearn: 0.1011071\ttotal: 610ms\tremaining: 549ms\n",
      "526:\tlearn: 0.1008988\ttotal: 611ms\tremaining: 548ms\n",
      "527:\tlearn: 0.1007809\ttotal: 612ms\tremaining: 547ms\n",
      "528:\tlearn: 0.1006266\ttotal: 613ms\tremaining: 545ms\n",
      "529:\tlearn: 0.1004793\ttotal: 614ms\tremaining: 544ms\n",
      "530:\tlearn: 0.1002719\ttotal: 615ms\tremaining: 543ms\n",
      "531:\tlearn: 0.1001089\ttotal: 616ms\tremaining: 542ms\n",
      "532:\tlearn: 0.1000187\ttotal: 617ms\tremaining: 540ms\n",
      "533:\tlearn: 0.0998120\ttotal: 618ms\tremaining: 539ms\n",
      "534:\tlearn: 0.0996140\ttotal: 619ms\tremaining: 538ms\n",
      "535:\tlearn: 0.0994836\ttotal: 620ms\tremaining: 536ms\n",
      "536:\tlearn: 0.0992808\ttotal: 621ms\tremaining: 535ms\n",
      "537:\tlearn: 0.0990367\ttotal: 622ms\tremaining: 534ms\n",
      "538:\tlearn: 0.0989423\ttotal: 623ms\tremaining: 533ms\n",
      "539:\tlearn: 0.0988052\ttotal: 624ms\tremaining: 531ms\n",
      "540:\tlearn: 0.0986651\ttotal: 625ms\tremaining: 530ms\n",
      "541:\tlearn: 0.0986300\ttotal: 626ms\tremaining: 529ms\n",
      "542:\tlearn: 0.0985119\ttotal: 627ms\tremaining: 527ms\n",
      "543:\tlearn: 0.0983848\ttotal: 628ms\tremaining: 526ms\n",
      "544:\tlearn: 0.0981486\ttotal: 629ms\tremaining: 525ms\n",
      "545:\tlearn: 0.0979577\ttotal: 630ms\tremaining: 524ms\n",
      "546:\tlearn: 0.0978470\ttotal: 631ms\tremaining: 522ms\n",
      "547:\tlearn: 0.0977289\ttotal: 632ms\tremaining: 521ms\n",
      "548:\tlearn: 0.0976776\ttotal: 633ms\tremaining: 520ms\n",
      "549:\tlearn: 0.0976256\ttotal: 634ms\tremaining: 519ms\n",
      "550:\tlearn: 0.0973736\ttotal: 635ms\tremaining: 517ms\n",
      "551:\tlearn: 0.0971267\ttotal: 636ms\tremaining: 516ms\n",
      "552:\tlearn: 0.0969126\ttotal: 637ms\tremaining: 515ms\n",
      "553:\tlearn: 0.0967757\ttotal: 638ms\tremaining: 514ms\n",
      "554:\tlearn: 0.0965992\ttotal: 639ms\tremaining: 512ms\n",
      "555:\tlearn: 0.0964754\ttotal: 640ms\tremaining: 511ms\n",
      "556:\tlearn: 0.0963010\ttotal: 641ms\tremaining: 510ms\n",
      "557:\tlearn: 0.0961559\ttotal: 642ms\tremaining: 509ms\n",
      "558:\tlearn: 0.0960135\ttotal: 643ms\tremaining: 507ms\n",
      "559:\tlearn: 0.0959579\ttotal: 644ms\tremaining: 506ms\n",
      "560:\tlearn: 0.0958980\ttotal: 645ms\tremaining: 505ms\n",
      "561:\tlearn: 0.0958477\ttotal: 646ms\tremaining: 504ms\n",
      "562:\tlearn: 0.0956200\ttotal: 647ms\tremaining: 502ms\n",
      "563:\tlearn: 0.0955490\ttotal: 648ms\tremaining: 501ms\n",
      "564:\tlearn: 0.0953306\ttotal: 649ms\tremaining: 500ms\n",
      "565:\tlearn: 0.0951274\ttotal: 650ms\tremaining: 499ms\n",
      "566:\tlearn: 0.0949562\ttotal: 651ms\tremaining: 497ms\n",
      "567:\tlearn: 0.0947631\ttotal: 652ms\tremaining: 496ms\n",
      "568:\tlearn: 0.0946882\ttotal: 653ms\tremaining: 495ms\n",
      "569:\tlearn: 0.0945530\ttotal: 655ms\tremaining: 494ms\n",
      "570:\tlearn: 0.0944289\ttotal: 656ms\tremaining: 493ms\n",
      "571:\tlearn: 0.0942710\ttotal: 657ms\tremaining: 491ms\n",
      "572:\tlearn: 0.0940470\ttotal: 658ms\tremaining: 490ms\n",
      "573:\tlearn: 0.0938730\ttotal: 659ms\tremaining: 489ms\n",
      "574:\tlearn: 0.0936265\ttotal: 660ms\tremaining: 488ms\n",
      "575:\tlearn: 0.0934747\ttotal: 661ms\tremaining: 487ms\n",
      "576:\tlearn: 0.0933189\ttotal: 662ms\tremaining: 485ms\n",
      "577:\tlearn: 0.0931640\ttotal: 663ms\tremaining: 484ms\n",
      "578:\tlearn: 0.0930766\ttotal: 664ms\tremaining: 483ms\n",
      "579:\tlearn: 0.0929287\ttotal: 665ms\tremaining: 482ms\n",
      "580:\tlearn: 0.0927697\ttotal: 666ms\tremaining: 480ms\n",
      "581:\tlearn: 0.0927183\ttotal: 668ms\tremaining: 479ms\n",
      "582:\tlearn: 0.0926335\ttotal: 669ms\tremaining: 478ms\n",
      "583:\tlearn: 0.0924626\ttotal: 670ms\tremaining: 477ms\n",
      "584:\tlearn: 0.0922620\ttotal: 671ms\tremaining: 476ms\n",
      "585:\tlearn: 0.0921821\ttotal: 672ms\tremaining: 475ms\n",
      "586:\tlearn: 0.0920165\ttotal: 673ms\tremaining: 473ms\n"
     ]
    },
    {
     "name": "stdout",
     "output_type": "stream",
     "text": [
      "587:\tlearn: 0.0918753\ttotal: 674ms\tremaining: 472ms\n",
      "588:\tlearn: 0.0917731\ttotal: 675ms\tremaining: 471ms\n",
      "589:\tlearn: 0.0916335\ttotal: 676ms\tremaining: 470ms\n",
      "590:\tlearn: 0.0914508\ttotal: 677ms\tremaining: 469ms\n",
      "591:\tlearn: 0.0912981\ttotal: 679ms\tremaining: 468ms\n",
      "592:\tlearn: 0.0912703\ttotal: 679ms\tremaining: 466ms\n",
      "593:\tlearn: 0.0911588\ttotal: 681ms\tremaining: 465ms\n",
      "594:\tlearn: 0.0909481\ttotal: 682ms\tremaining: 464ms\n",
      "595:\tlearn: 0.0907875\ttotal: 683ms\tremaining: 463ms\n",
      "596:\tlearn: 0.0905623\ttotal: 684ms\tremaining: 461ms\n",
      "597:\tlearn: 0.0904229\ttotal: 685ms\tremaining: 460ms\n",
      "598:\tlearn: 0.0902720\ttotal: 686ms\tremaining: 459ms\n",
      "599:\tlearn: 0.0901725\ttotal: 687ms\tremaining: 458ms\n",
      "600:\tlearn: 0.0899974\ttotal: 688ms\tremaining: 457ms\n",
      "601:\tlearn: 0.0897423\ttotal: 689ms\tremaining: 455ms\n",
      "602:\tlearn: 0.0896872\ttotal: 690ms\tremaining: 454ms\n",
      "603:\tlearn: 0.0895709\ttotal: 691ms\tremaining: 453ms\n",
      "604:\tlearn: 0.0894323\ttotal: 692ms\tremaining: 452ms\n",
      "605:\tlearn: 0.0893056\ttotal: 693ms\tremaining: 451ms\n",
      "606:\tlearn: 0.0891761\ttotal: 694ms\tremaining: 449ms\n",
      "607:\tlearn: 0.0891312\ttotal: 695ms\tremaining: 448ms\n",
      "608:\tlearn: 0.0890139\ttotal: 696ms\tremaining: 447ms\n",
      "609:\tlearn: 0.0888082\ttotal: 697ms\tremaining: 446ms\n",
      "610:\tlearn: 0.0887333\ttotal: 698ms\tremaining: 444ms\n",
      "611:\tlearn: 0.0885276\ttotal: 699ms\tremaining: 443ms\n",
      "612:\tlearn: 0.0884349\ttotal: 700ms\tremaining: 442ms\n",
      "613:\tlearn: 0.0883244\ttotal: 701ms\tremaining: 441ms\n",
      "614:\tlearn: 0.0882206\ttotal: 702ms\tremaining: 440ms\n",
      "615:\tlearn: 0.0880615\ttotal: 703ms\tremaining: 438ms\n",
      "616:\tlearn: 0.0878927\ttotal: 704ms\tremaining: 437ms\n",
      "617:\tlearn: 0.0877860\ttotal: 705ms\tremaining: 436ms\n",
      "618:\tlearn: 0.0876831\ttotal: 706ms\tremaining: 435ms\n",
      "619:\tlearn: 0.0875321\ttotal: 707ms\tremaining: 434ms\n",
      "620:\tlearn: 0.0874777\ttotal: 708ms\tremaining: 432ms\n",
      "621:\tlearn: 0.0874482\ttotal: 710ms\tremaining: 431ms\n",
      "622:\tlearn: 0.0874061\ttotal: 712ms\tremaining: 431ms\n",
      "623:\tlearn: 0.0873621\ttotal: 713ms\tremaining: 430ms\n",
      "624:\tlearn: 0.0870726\ttotal: 714ms\tremaining: 429ms\n",
      "625:\tlearn: 0.0868202\ttotal: 715ms\tremaining: 427ms\n",
      "626:\tlearn: 0.0867390\ttotal: 716ms\tremaining: 426ms\n",
      "627:\tlearn: 0.0867084\ttotal: 717ms\tremaining: 425ms\n",
      "628:\tlearn: 0.0866277\ttotal: 719ms\tremaining: 424ms\n",
      "629:\tlearn: 0.0864507\ttotal: 720ms\tremaining: 423ms\n",
      "630:\tlearn: 0.0862573\ttotal: 721ms\tremaining: 421ms\n",
      "631:\tlearn: 0.0861369\ttotal: 722ms\tremaining: 420ms\n",
      "632:\tlearn: 0.0860733\ttotal: 723ms\tremaining: 419ms\n",
      "633:\tlearn: 0.0858389\ttotal: 724ms\tremaining: 418ms\n",
      "634:\tlearn: 0.0857323\ttotal: 725ms\tremaining: 417ms\n",
      "635:\tlearn: 0.0855531\ttotal: 726ms\tremaining: 416ms\n",
      "636:\tlearn: 0.0855180\ttotal: 727ms\tremaining: 414ms\n",
      "637:\tlearn: 0.0854166\ttotal: 728ms\tremaining: 413ms\n",
      "638:\tlearn: 0.0852638\ttotal: 730ms\tremaining: 412ms\n",
      "639:\tlearn: 0.0851216\ttotal: 731ms\tremaining: 411ms\n",
      "640:\tlearn: 0.0849629\ttotal: 732ms\tremaining: 410ms\n",
      "641:\tlearn: 0.0847850\ttotal: 733ms\tremaining: 409ms\n",
      "642:\tlearn: 0.0847231\ttotal: 734ms\tremaining: 407ms\n",
      "643:\tlearn: 0.0846599\ttotal: 735ms\tremaining: 406ms\n",
      "644:\tlearn: 0.0845061\ttotal: 736ms\tremaining: 405ms\n",
      "645:\tlearn: 0.0844083\ttotal: 737ms\tremaining: 404ms\n",
      "646:\tlearn: 0.0842108\ttotal: 738ms\tremaining: 403ms\n",
      "647:\tlearn: 0.0840778\ttotal: 739ms\tremaining: 402ms\n",
      "648:\tlearn: 0.0839556\ttotal: 741ms\tremaining: 401ms\n",
      "649:\tlearn: 0.0838344\ttotal: 742ms\tremaining: 399ms\n",
      "650:\tlearn: 0.0837800\ttotal: 743ms\tremaining: 398ms\n",
      "651:\tlearn: 0.0836417\ttotal: 744ms\tremaining: 397ms\n",
      "652:\tlearn: 0.0835456\ttotal: 745ms\tremaining: 396ms\n",
      "653:\tlearn: 0.0833768\ttotal: 746ms\tremaining: 395ms\n",
      "654:\tlearn: 0.0832295\ttotal: 747ms\tremaining: 394ms\n",
      "655:\tlearn: 0.0830554\ttotal: 748ms\tremaining: 392ms\n",
      "656:\tlearn: 0.0828617\ttotal: 749ms\tremaining: 391ms\n",
      "657:\tlearn: 0.0827722\ttotal: 751ms\tremaining: 390ms\n",
      "658:\tlearn: 0.0826925\ttotal: 752ms\tremaining: 389ms\n",
      "659:\tlearn: 0.0825771\ttotal: 753ms\tremaining: 388ms\n",
      "660:\tlearn: 0.0824258\ttotal: 755ms\tremaining: 387ms\n",
      "661:\tlearn: 0.0822617\ttotal: 756ms\tremaining: 386ms\n",
      "662:\tlearn: 0.0820820\ttotal: 757ms\tremaining: 385ms\n",
      "663:\tlearn: 0.0819393\ttotal: 758ms\tremaining: 384ms\n",
      "664:\tlearn: 0.0817288\ttotal: 759ms\tremaining: 382ms\n",
      "665:\tlearn: 0.0815657\ttotal: 760ms\tremaining: 381ms\n",
      "666:\tlearn: 0.0814471\ttotal: 761ms\tremaining: 380ms\n",
      "667:\tlearn: 0.0813259\ttotal: 762ms\tremaining: 379ms\n",
      "668:\tlearn: 0.0811746\ttotal: 763ms\tremaining: 378ms\n",
      "669:\tlearn: 0.0811089\ttotal: 765ms\tremaining: 377ms\n",
      "670:\tlearn: 0.0809992\ttotal: 766ms\tremaining: 375ms\n",
      "671:\tlearn: 0.0809000\ttotal: 767ms\tremaining: 374ms\n",
      "672:\tlearn: 0.0807917\ttotal: 768ms\tremaining: 373ms\n",
      "673:\tlearn: 0.0807437\ttotal: 769ms\tremaining: 372ms\n",
      "674:\tlearn: 0.0805907\ttotal: 770ms\tremaining: 371ms\n",
      "675:\tlearn: 0.0803775\ttotal: 771ms\tremaining: 370ms\n",
      "676:\tlearn: 0.0802100\ttotal: 772ms\tremaining: 368ms\n",
      "677:\tlearn: 0.0800428\ttotal: 773ms\tremaining: 367ms\n",
      "678:\tlearn: 0.0799043\ttotal: 774ms\tremaining: 366ms\n",
      "679:\tlearn: 0.0798332\ttotal: 775ms\tremaining: 365ms\n",
      "680:\tlearn: 0.0797704\ttotal: 776ms\tremaining: 364ms\n",
      "681:\tlearn: 0.0796856\ttotal: 777ms\tremaining: 362ms\n",
      "682:\tlearn: 0.0795790\ttotal: 778ms\tremaining: 361ms\n",
      "683:\tlearn: 0.0794107\ttotal: 779ms\tremaining: 360ms\n",
      "684:\tlearn: 0.0793596\ttotal: 781ms\tremaining: 359ms\n",
      "685:\tlearn: 0.0792563\ttotal: 782ms\tremaining: 358ms\n",
      "686:\tlearn: 0.0791207\ttotal: 783ms\tremaining: 357ms\n",
      "687:\tlearn: 0.0790711\ttotal: 784ms\tremaining: 355ms\n",
      "688:\tlearn: 0.0789837\ttotal: 785ms\tremaining: 354ms\n",
      "689:\tlearn: 0.0788318\ttotal: 786ms\tremaining: 353ms\n",
      "690:\tlearn: 0.0786933\ttotal: 787ms\tremaining: 352ms\n",
      "691:\tlearn: 0.0786730\ttotal: 788ms\tremaining: 351ms\n",
      "692:\tlearn: 0.0785111\ttotal: 789ms\tremaining: 350ms\n",
      "693:\tlearn: 0.0782724\ttotal: 790ms\tremaining: 348ms\n",
      "694:\tlearn: 0.0780514\ttotal: 791ms\tremaining: 347ms\n",
      "695:\tlearn: 0.0779749\ttotal: 793ms\tremaining: 346ms\n",
      "696:\tlearn: 0.0778414\ttotal: 794ms\tremaining: 345ms\n",
      "697:\tlearn: 0.0777046\ttotal: 795ms\tremaining: 344ms\n",
      "698:\tlearn: 0.0776944\ttotal: 796ms\tremaining: 343ms\n",
      "699:\tlearn: 0.0776196\ttotal: 797ms\tremaining: 342ms\n",
      "700:\tlearn: 0.0774998\ttotal: 798ms\tremaining: 340ms\n",
      "701:\tlearn: 0.0774126\ttotal: 799ms\tremaining: 339ms\n",
      "702:\tlearn: 0.0772638\ttotal: 800ms\tremaining: 338ms\n",
      "703:\tlearn: 0.0771118\ttotal: 801ms\tremaining: 337ms\n",
      "704:\tlearn: 0.0769906\ttotal: 802ms\tremaining: 336ms\n"
     ]
    },
    {
     "name": "stdout",
     "output_type": "stream",
     "text": [
      "705:\tlearn: 0.0768645\ttotal: 803ms\tremaining: 335ms\n",
      "706:\tlearn: 0.0767860\ttotal: 804ms\tremaining: 333ms\n",
      "707:\tlearn: 0.0766854\ttotal: 806ms\tremaining: 332ms\n",
      "708:\tlearn: 0.0764778\ttotal: 807ms\tremaining: 331ms\n",
      "709:\tlearn: 0.0764192\ttotal: 808ms\tremaining: 330ms\n",
      "710:\tlearn: 0.0761678\ttotal: 809ms\tremaining: 329ms\n",
      "711:\tlearn: 0.0760444\ttotal: 810ms\tremaining: 328ms\n",
      "712:\tlearn: 0.0759169\ttotal: 811ms\tremaining: 326ms\n",
      "713:\tlearn: 0.0757827\ttotal: 812ms\tremaining: 325ms\n",
      "714:\tlearn: 0.0757170\ttotal: 813ms\tremaining: 324ms\n",
      "715:\tlearn: 0.0756811\ttotal: 814ms\tremaining: 323ms\n",
      "716:\tlearn: 0.0755783\ttotal: 815ms\tremaining: 322ms\n",
      "717:\tlearn: 0.0754861\ttotal: 816ms\tremaining: 321ms\n",
      "718:\tlearn: 0.0754343\ttotal: 817ms\tremaining: 319ms\n",
      "719:\tlearn: 0.0752912\ttotal: 818ms\tremaining: 318ms\n",
      "720:\tlearn: 0.0751644\ttotal: 819ms\tremaining: 317ms\n",
      "721:\tlearn: 0.0750029\ttotal: 820ms\tremaining: 316ms\n",
      "722:\tlearn: 0.0748671\ttotal: 821ms\tremaining: 315ms\n",
      "723:\tlearn: 0.0747815\ttotal: 822ms\tremaining: 314ms\n",
      "724:\tlearn: 0.0746412\ttotal: 824ms\tremaining: 312ms\n",
      "725:\tlearn: 0.0745700\ttotal: 825ms\tremaining: 311ms\n",
      "726:\tlearn: 0.0744016\ttotal: 826ms\tremaining: 310ms\n",
      "727:\tlearn: 0.0742479\ttotal: 827ms\tremaining: 309ms\n",
      "728:\tlearn: 0.0741135\ttotal: 828ms\tremaining: 308ms\n",
      "729:\tlearn: 0.0740123\ttotal: 829ms\tremaining: 307ms\n",
      "730:\tlearn: 0.0739499\ttotal: 830ms\tremaining: 305ms\n",
      "731:\tlearn: 0.0739008\ttotal: 831ms\tremaining: 304ms\n",
      "732:\tlearn: 0.0737668\ttotal: 832ms\tremaining: 303ms\n",
      "733:\tlearn: 0.0736199\ttotal: 833ms\tremaining: 302ms\n",
      "734:\tlearn: 0.0734999\ttotal: 834ms\tremaining: 301ms\n",
      "735:\tlearn: 0.0734646\ttotal: 835ms\tremaining: 300ms\n",
      "736:\tlearn: 0.0733993\ttotal: 836ms\tremaining: 298ms\n",
      "737:\tlearn: 0.0732879\ttotal: 837ms\tremaining: 297ms\n",
      "738:\tlearn: 0.0732050\ttotal: 839ms\tremaining: 296ms\n",
      "739:\tlearn: 0.0730985\ttotal: 840ms\tremaining: 295ms\n",
      "740:\tlearn: 0.0729876\ttotal: 841ms\tremaining: 294ms\n",
      "741:\tlearn: 0.0728682\ttotal: 842ms\tremaining: 293ms\n",
      "742:\tlearn: 0.0727716\ttotal: 843ms\tremaining: 292ms\n",
      "743:\tlearn: 0.0727182\ttotal: 844ms\tremaining: 290ms\n",
      "744:\tlearn: 0.0726232\ttotal: 845ms\tremaining: 289ms\n",
      "745:\tlearn: 0.0725609\ttotal: 846ms\tremaining: 288ms\n",
      "746:\tlearn: 0.0723997\ttotal: 847ms\tremaining: 287ms\n",
      "747:\tlearn: 0.0723259\ttotal: 848ms\tremaining: 286ms\n",
      "748:\tlearn: 0.0722612\ttotal: 849ms\tremaining: 285ms\n",
      "749:\tlearn: 0.0721244\ttotal: 850ms\tremaining: 283ms\n",
      "750:\tlearn: 0.0719652\ttotal: 851ms\tremaining: 282ms\n",
      "751:\tlearn: 0.0717604\ttotal: 852ms\tremaining: 281ms\n",
      "752:\tlearn: 0.0716487\ttotal: 853ms\tremaining: 280ms\n",
      "753:\tlearn: 0.0714858\ttotal: 854ms\tremaining: 279ms\n",
      "754:\tlearn: 0.0714263\ttotal: 855ms\tremaining: 278ms\n",
      "755:\tlearn: 0.0713376\ttotal: 856ms\tremaining: 276ms\n",
      "756:\tlearn: 0.0712755\ttotal: 857ms\tremaining: 275ms\n",
      "757:\tlearn: 0.0711259\ttotal: 858ms\tremaining: 274ms\n",
      "758:\tlearn: 0.0710628\ttotal: 859ms\tremaining: 273ms\n",
      "759:\tlearn: 0.0709658\ttotal: 861ms\tremaining: 272ms\n",
      "760:\tlearn: 0.0708984\ttotal: 862ms\tremaining: 271ms\n",
      "761:\tlearn: 0.0707570\ttotal: 862ms\tremaining: 269ms\n",
      "762:\tlearn: 0.0706718\ttotal: 864ms\tremaining: 268ms\n",
      "763:\tlearn: 0.0706317\ttotal: 864ms\tremaining: 267ms\n",
      "764:\tlearn: 0.0705301\ttotal: 866ms\tremaining: 266ms\n",
      "765:\tlearn: 0.0704943\ttotal: 867ms\tremaining: 265ms\n",
      "766:\tlearn: 0.0703567\ttotal: 868ms\tremaining: 264ms\n",
      "767:\tlearn: 0.0702496\ttotal: 869ms\tremaining: 263ms\n",
      "768:\tlearn: 0.0701657\ttotal: 870ms\tremaining: 261ms\n",
      "769:\tlearn: 0.0701110\ttotal: 871ms\tremaining: 260ms\n",
      "770:\tlearn: 0.0699956\ttotal: 872ms\tremaining: 259ms\n",
      "771:\tlearn: 0.0699013\ttotal: 873ms\tremaining: 258ms\n",
      "772:\tlearn: 0.0697370\ttotal: 874ms\tremaining: 257ms\n",
      "773:\tlearn: 0.0696313\ttotal: 875ms\tremaining: 256ms\n",
      "774:\tlearn: 0.0695173\ttotal: 876ms\tremaining: 254ms\n",
      "775:\tlearn: 0.0694541\ttotal: 877ms\tremaining: 253ms\n",
      "776:\tlearn: 0.0693640\ttotal: 878ms\tremaining: 252ms\n",
      "777:\tlearn: 0.0693176\ttotal: 879ms\tremaining: 251ms\n",
      "778:\tlearn: 0.0691863\ttotal: 880ms\tremaining: 250ms\n",
      "779:\tlearn: 0.0691123\ttotal: 881ms\tremaining: 249ms\n",
      "780:\tlearn: 0.0689371\ttotal: 882ms\tremaining: 247ms\n",
      "781:\tlearn: 0.0689058\ttotal: 883ms\tremaining: 246ms\n",
      "782:\tlearn: 0.0687518\ttotal: 885ms\tremaining: 245ms\n",
      "783:\tlearn: 0.0686402\ttotal: 886ms\tremaining: 244ms\n",
      "784:\tlearn: 0.0685312\ttotal: 886ms\tremaining: 243ms\n",
      "785:\tlearn: 0.0684714\ttotal: 887ms\tremaining: 242ms\n",
      "786:\tlearn: 0.0682659\ttotal: 889ms\tremaining: 240ms\n",
      "787:\tlearn: 0.0681538\ttotal: 890ms\tremaining: 239ms\n",
      "788:\tlearn: 0.0680086\ttotal: 891ms\tremaining: 238ms\n",
      "789:\tlearn: 0.0678926\ttotal: 892ms\tremaining: 237ms\n",
      "790:\tlearn: 0.0678095\ttotal: 893ms\tremaining: 236ms\n",
      "791:\tlearn: 0.0677452\ttotal: 894ms\tremaining: 235ms\n",
      "792:\tlearn: 0.0676686\ttotal: 895ms\tremaining: 234ms\n",
      "793:\tlearn: 0.0676119\ttotal: 896ms\tremaining: 232ms\n",
      "794:\tlearn: 0.0675719\ttotal: 897ms\tremaining: 231ms\n",
      "795:\tlearn: 0.0674368\ttotal: 898ms\tremaining: 230ms\n",
      "796:\tlearn: 0.0673132\ttotal: 899ms\tremaining: 229ms\n",
      "797:\tlearn: 0.0672203\ttotal: 900ms\tremaining: 228ms\n",
      "798:\tlearn: 0.0670768\ttotal: 901ms\tremaining: 227ms\n",
      "799:\tlearn: 0.0669445\ttotal: 902ms\tremaining: 226ms\n",
      "800:\tlearn: 0.0668411\ttotal: 903ms\tremaining: 224ms\n",
      "801:\tlearn: 0.0667790\ttotal: 904ms\tremaining: 223ms\n",
      "802:\tlearn: 0.0665020\ttotal: 905ms\tremaining: 222ms\n",
      "803:\tlearn: 0.0664211\ttotal: 907ms\tremaining: 221ms\n",
      "804:\tlearn: 0.0663195\ttotal: 907ms\tremaining: 220ms\n",
      "805:\tlearn: 0.0663003\ttotal: 909ms\tremaining: 219ms\n",
      "806:\tlearn: 0.0662260\ttotal: 910ms\tremaining: 218ms\n",
      "807:\tlearn: 0.0661226\ttotal: 911ms\tremaining: 216ms\n",
      "808:\tlearn: 0.0660427\ttotal: 912ms\tremaining: 215ms\n",
      "809:\tlearn: 0.0659872\ttotal: 913ms\tremaining: 214ms\n",
      "810:\tlearn: 0.0659068\ttotal: 914ms\tremaining: 213ms\n",
      "811:\tlearn: 0.0658642\ttotal: 915ms\tremaining: 212ms\n",
      "812:\tlearn: 0.0657598\ttotal: 916ms\tremaining: 211ms\n",
      "813:\tlearn: 0.0657242\ttotal: 917ms\tremaining: 210ms\n",
      "814:\tlearn: 0.0655891\ttotal: 918ms\tremaining: 208ms\n",
      "815:\tlearn: 0.0655242\ttotal: 919ms\tremaining: 207ms\n",
      "816:\tlearn: 0.0654835\ttotal: 920ms\tremaining: 206ms\n",
      "817:\tlearn: 0.0653233\ttotal: 921ms\tremaining: 205ms\n",
      "818:\tlearn: 0.0651465\ttotal: 922ms\tremaining: 204ms\n",
      "819:\tlearn: 0.0650440\ttotal: 924ms\tremaining: 203ms\n",
      "820:\tlearn: 0.0649514\ttotal: 925ms\tremaining: 202ms\n",
      "821:\tlearn: 0.0648551\ttotal: 926ms\tremaining: 200ms\n",
      "822:\tlearn: 0.0648096\ttotal: 927ms\tremaining: 199ms\n",
      "823:\tlearn: 0.0647005\ttotal: 928ms\tremaining: 198ms\n",
      "824:\tlearn: 0.0646025\ttotal: 929ms\tremaining: 197ms\n",
      "825:\tlearn: 0.0645172\ttotal: 930ms\tremaining: 196ms\n",
      "826:\tlearn: 0.0644112\ttotal: 931ms\tremaining: 195ms\n",
      "827:\tlearn: 0.0643863\ttotal: 932ms\tremaining: 194ms\n",
      "828:\tlearn: 0.0643146\ttotal: 933ms\tremaining: 192ms\n",
      "829:\tlearn: 0.0642104\ttotal: 934ms\tremaining: 191ms\n"
     ]
    },
    {
     "name": "stdout",
     "output_type": "stream",
     "text": [
      "830:\tlearn: 0.0641253\ttotal: 935ms\tremaining: 190ms\n",
      "831:\tlearn: 0.0640040\ttotal: 936ms\tremaining: 189ms\n",
      "832:\tlearn: 0.0639814\ttotal: 937ms\tremaining: 188ms\n",
      "833:\tlearn: 0.0639288\ttotal: 938ms\tremaining: 187ms\n",
      "834:\tlearn: 0.0638747\ttotal: 939ms\tremaining: 186ms\n",
      "835:\tlearn: 0.0637808\ttotal: 940ms\tremaining: 184ms\n",
      "836:\tlearn: 0.0636686\ttotal: 941ms\tremaining: 183ms\n",
      "837:\tlearn: 0.0636514\ttotal: 942ms\tremaining: 182ms\n",
      "838:\tlearn: 0.0635559\ttotal: 943ms\tremaining: 181ms\n",
      "839:\tlearn: 0.0634761\ttotal: 944ms\tremaining: 180ms\n",
      "840:\tlearn: 0.0634089\ttotal: 945ms\tremaining: 179ms\n",
      "841:\tlearn: 0.0633181\ttotal: 947ms\tremaining: 178ms\n",
      "842:\tlearn: 0.0631688\ttotal: 948ms\tremaining: 177ms\n",
      "843:\tlearn: 0.0631077\ttotal: 949ms\tremaining: 175ms\n",
      "844:\tlearn: 0.0629972\ttotal: 950ms\tremaining: 174ms\n",
      "845:\tlearn: 0.0628336\ttotal: 951ms\tremaining: 173ms\n",
      "846:\tlearn: 0.0627315\ttotal: 952ms\tremaining: 172ms\n",
      "847:\tlearn: 0.0627031\ttotal: 953ms\tremaining: 171ms\n",
      "848:\tlearn: 0.0626080\ttotal: 954ms\tremaining: 170ms\n",
      "849:\tlearn: 0.0625023\ttotal: 955ms\tremaining: 169ms\n",
      "850:\tlearn: 0.0624513\ttotal: 956ms\tremaining: 167ms\n",
      "851:\tlearn: 0.0623788\ttotal: 957ms\tremaining: 166ms\n",
      "852:\tlearn: 0.0622731\ttotal: 958ms\tremaining: 165ms\n",
      "853:\tlearn: 0.0621255\ttotal: 959ms\tremaining: 164ms\n",
      "854:\tlearn: 0.0620836\ttotal: 960ms\tremaining: 163ms\n",
      "855:\tlearn: 0.0620257\ttotal: 961ms\tremaining: 162ms\n",
      "856:\tlearn: 0.0619817\ttotal: 962ms\tremaining: 161ms\n",
      "857:\tlearn: 0.0618675\ttotal: 963ms\tremaining: 159ms\n",
      "858:\tlearn: 0.0617728\ttotal: 964ms\tremaining: 158ms\n",
      "859:\tlearn: 0.0616751\ttotal: 965ms\tremaining: 157ms\n",
      "860:\tlearn: 0.0616039\ttotal: 966ms\tremaining: 156ms\n",
      "861:\tlearn: 0.0615400\ttotal: 967ms\tremaining: 155ms\n",
      "862:\tlearn: 0.0614813\ttotal: 968ms\tremaining: 154ms\n",
      "863:\tlearn: 0.0614559\ttotal: 970ms\tremaining: 153ms\n",
      "864:\tlearn: 0.0614354\ttotal: 971ms\tremaining: 151ms\n",
      "865:\tlearn: 0.0613271\ttotal: 972ms\tremaining: 150ms\n",
      "866:\tlearn: 0.0612470\ttotal: 973ms\tremaining: 149ms\n",
      "867:\tlearn: 0.0611409\ttotal: 974ms\tremaining: 148ms\n",
      "868:\tlearn: 0.0610602\ttotal: 975ms\tremaining: 147ms\n",
      "869:\tlearn: 0.0609820\ttotal: 976ms\tremaining: 146ms\n",
      "870:\tlearn: 0.0608948\ttotal: 977ms\tremaining: 145ms\n",
      "871:\tlearn: 0.0608512\ttotal: 978ms\tremaining: 144ms\n",
      "872:\tlearn: 0.0607393\ttotal: 979ms\tremaining: 142ms\n",
      "873:\tlearn: 0.0606650\ttotal: 981ms\tremaining: 141ms\n",
      "874:\tlearn: 0.0605888\ttotal: 982ms\tremaining: 140ms\n",
      "875:\tlearn: 0.0604679\ttotal: 983ms\tremaining: 139ms\n",
      "876:\tlearn: 0.0603282\ttotal: 984ms\tremaining: 138ms\n",
      "877:\tlearn: 0.0602402\ttotal: 985ms\tremaining: 137ms\n",
      "878:\tlearn: 0.0601662\ttotal: 986ms\tremaining: 136ms\n",
      "879:\tlearn: 0.0601522\ttotal: 987ms\tremaining: 135ms\n",
      "880:\tlearn: 0.0600156\ttotal: 988ms\tremaining: 133ms\n",
      "881:\tlearn: 0.0599319\ttotal: 989ms\tremaining: 132ms\n",
      "882:\tlearn: 0.0598765\ttotal: 990ms\tremaining: 131ms\n",
      "883:\tlearn: 0.0597736\ttotal: 991ms\tremaining: 130ms\n",
      "884:\tlearn: 0.0596561\ttotal: 992ms\tremaining: 129ms\n",
      "885:\tlearn: 0.0595587\ttotal: 993ms\tremaining: 128ms\n",
      "886:\tlearn: 0.0595475\ttotal: 994ms\tremaining: 127ms\n",
      "887:\tlearn: 0.0594188\ttotal: 995ms\tremaining: 126ms\n",
      "888:\tlearn: 0.0593417\ttotal: 996ms\tremaining: 124ms\n",
      "889:\tlearn: 0.0592793\ttotal: 998ms\tremaining: 123ms\n",
      "890:\tlearn: 0.0591531\ttotal: 999ms\tremaining: 122ms\n",
      "891:\tlearn: 0.0590467\ttotal: 1000ms\tremaining: 121ms\n",
      "892:\tlearn: 0.0589931\ttotal: 1s\tremaining: 120ms\n",
      "893:\tlearn: 0.0589144\ttotal: 1s\tremaining: 119ms\n",
      "894:\tlearn: 0.0588412\ttotal: 1s\tremaining: 118ms\n",
      "895:\tlearn: 0.0587132\ttotal: 1s\tremaining: 117ms\n",
      "896:\tlearn: 0.0586063\ttotal: 1s\tremaining: 115ms\n",
      "897:\tlearn: 0.0585512\ttotal: 1.01s\tremaining: 114ms\n",
      "898:\tlearn: 0.0585009\ttotal: 1.01s\tremaining: 113ms\n",
      "899:\tlearn: 0.0584828\ttotal: 1.01s\tremaining: 112ms\n",
      "900:\tlearn: 0.0584213\ttotal: 1.01s\tremaining: 111ms\n",
      "901:\tlearn: 0.0583376\ttotal: 1.01s\tremaining: 110ms\n",
      "902:\tlearn: 0.0582837\ttotal: 1.01s\tremaining: 109ms\n",
      "903:\tlearn: 0.0581644\ttotal: 1.01s\tremaining: 108ms\n",
      "904:\tlearn: 0.0580756\ttotal: 1.01s\tremaining: 106ms\n",
      "905:\tlearn: 0.0580643\ttotal: 1.01s\tremaining: 105ms\n",
      "906:\tlearn: 0.0579609\ttotal: 1.02s\tremaining: 104ms\n",
      "907:\tlearn: 0.0579228\ttotal: 1.02s\tremaining: 103ms\n",
      "908:\tlearn: 0.0578169\ttotal: 1.02s\tremaining: 102ms\n",
      "909:\tlearn: 0.0578029\ttotal: 1.02s\tremaining: 101ms\n",
      "910:\tlearn: 0.0576478\ttotal: 1.02s\tremaining: 99.8ms\n",
      "911:\tlearn: 0.0575861\ttotal: 1.02s\tremaining: 98.6ms\n",
      "912:\tlearn: 0.0575720\ttotal: 1.02s\tremaining: 97.5ms\n",
      "913:\tlearn: 0.0574817\ttotal: 1.02s\tremaining: 96.4ms\n",
      "914:\tlearn: 0.0574326\ttotal: 1.02s\tremaining: 95.3ms\n",
      "915:\tlearn: 0.0573358\ttotal: 1.03s\tremaining: 94.1ms\n",
      "916:\tlearn: 0.0572448\ttotal: 1.03s\tremaining: 93ms\n",
      "917:\tlearn: 0.0571428\ttotal: 1.03s\tremaining: 91.9ms\n",
      "918:\tlearn: 0.0570635\ttotal: 1.03s\tremaining: 90.8ms\n",
      "919:\tlearn: 0.0569607\ttotal: 1.03s\tremaining: 89.7ms\n",
      "920:\tlearn: 0.0568812\ttotal: 1.03s\tremaining: 88.5ms\n",
      "921:\tlearn: 0.0568173\ttotal: 1.03s\tremaining: 87.4ms\n",
      "922:\tlearn: 0.0567827\ttotal: 1.03s\tremaining: 86.3ms\n",
      "923:\tlearn: 0.0567078\ttotal: 1.03s\tremaining: 85.2ms\n",
      "924:\tlearn: 0.0566100\ttotal: 1.04s\tremaining: 84ms\n",
      "925:\tlearn: 0.0565125\ttotal: 1.04s\tremaining: 82.9ms\n",
      "926:\tlearn: 0.0564359\ttotal: 1.04s\tremaining: 81.8ms\n",
      "927:\tlearn: 0.0563073\ttotal: 1.04s\tremaining: 80.7ms\n",
      "928:\tlearn: 0.0562159\ttotal: 1.04s\tremaining: 79.5ms\n",
      "929:\tlearn: 0.0561624\ttotal: 1.04s\tremaining: 78.4ms\n",
      "930:\tlearn: 0.0560772\ttotal: 1.04s\tremaining: 77.3ms\n",
      "931:\tlearn: 0.0559990\ttotal: 1.04s\tremaining: 76.2ms\n",
      "932:\tlearn: 0.0559220\ttotal: 1.04s\tremaining: 75.1ms\n",
      "933:\tlearn: 0.0558360\ttotal: 1.05s\tremaining: 73.9ms\n",
      "934:\tlearn: 0.0557239\ttotal: 1.05s\tremaining: 72.8ms\n",
      "935:\tlearn: 0.0556251\ttotal: 1.05s\tremaining: 71.7ms\n",
      "936:\tlearn: 0.0556165\ttotal: 1.05s\tremaining: 70.6ms\n",
      "937:\tlearn: 0.0555244\ttotal: 1.05s\tremaining: 69.4ms\n",
      "938:\tlearn: 0.0553799\ttotal: 1.05s\tremaining: 68.3ms\n",
      "939:\tlearn: 0.0553076\ttotal: 1.05s\tremaining: 67.2ms\n",
      "940:\tlearn: 0.0551773\ttotal: 1.05s\tremaining: 66.1ms\n",
      "941:\tlearn: 0.0550937\ttotal: 1.05s\tremaining: 64.9ms\n",
      "942:\tlearn: 0.0550206\ttotal: 1.05s\tremaining: 63.8ms\n",
      "943:\tlearn: 0.0550058\ttotal: 1.06s\tremaining: 62.7ms\n",
      "944:\tlearn: 0.0549555\ttotal: 1.06s\tremaining: 61.6ms\n",
      "945:\tlearn: 0.0548534\ttotal: 1.06s\tremaining: 60.5ms\n",
      "946:\tlearn: 0.0547331\ttotal: 1.06s\tremaining: 59.3ms\n",
      "947:\tlearn: 0.0546155\ttotal: 1.06s\tremaining: 58.2ms\n",
      "948:\tlearn: 0.0545648\ttotal: 1.06s\tremaining: 57.1ms\n",
      "949:\tlearn: 0.0545037\ttotal: 1.06s\tremaining: 56ms\n",
      "950:\tlearn: 0.0544587\ttotal: 1.06s\tremaining: 54.9ms\n",
      "951:\tlearn: 0.0543408\ttotal: 1.06s\tremaining: 53.7ms\n",
      "952:\tlearn: 0.0542804\ttotal: 1.07s\tremaining: 52.6ms\n"
     ]
    },
    {
     "name": "stdout",
     "output_type": "stream",
     "text": [
      "953:\tlearn: 0.0541819\ttotal: 1.07s\tremaining: 51.5ms\n",
      "954:\tlearn: 0.0541199\ttotal: 1.07s\tremaining: 50.4ms\n",
      "955:\tlearn: 0.0540201\ttotal: 1.07s\tremaining: 49.3ms\n",
      "956:\tlearn: 0.0539756\ttotal: 1.07s\tremaining: 48.2ms\n",
      "957:\tlearn: 0.0539153\ttotal: 1.07s\tremaining: 47ms\n",
      "958:\tlearn: 0.0538533\ttotal: 1.07s\tremaining: 45.9ms\n",
      "959:\tlearn: 0.0538182\ttotal: 1.07s\tremaining: 44.8ms\n",
      "960:\tlearn: 0.0537690\ttotal: 1.08s\tremaining: 43.7ms\n",
      "961:\tlearn: 0.0536892\ttotal: 1.08s\tremaining: 42.5ms\n",
      "962:\tlearn: 0.0536348\ttotal: 1.08s\tremaining: 41.4ms\n",
      "963:\tlearn: 0.0536209\ttotal: 1.08s\tremaining: 40.3ms\n",
      "964:\tlearn: 0.0536086\ttotal: 1.08s\tremaining: 39.2ms\n",
      "965:\tlearn: 0.0535769\ttotal: 1.08s\tremaining: 38.1ms\n",
      "966:\tlearn: 0.0535236\ttotal: 1.08s\tremaining: 36.9ms\n",
      "967:\tlearn: 0.0534803\ttotal: 1.08s\tremaining: 35.8ms\n",
      "968:\tlearn: 0.0534195\ttotal: 1.08s\tremaining: 34.7ms\n",
      "969:\tlearn: 0.0533831\ttotal: 1.08s\tremaining: 33.6ms\n",
      "970:\tlearn: 0.0533777\ttotal: 1.09s\tremaining: 32.5ms\n",
      "971:\tlearn: 0.0532973\ttotal: 1.09s\tremaining: 31.3ms\n",
      "972:\tlearn: 0.0532023\ttotal: 1.09s\tremaining: 30.2ms\n",
      "973:\tlearn: 0.0530272\ttotal: 1.09s\tremaining: 29.1ms\n",
      "974:\tlearn: 0.0529835\ttotal: 1.09s\tremaining: 28ms\n",
      "975:\tlearn: 0.0529079\ttotal: 1.09s\tremaining: 26.9ms\n",
      "976:\tlearn: 0.0528563\ttotal: 1.09s\tremaining: 25.7ms\n",
      "977:\tlearn: 0.0527969\ttotal: 1.09s\tremaining: 24.6ms\n",
      "978:\tlearn: 0.0526648\ttotal: 1.09s\tremaining: 23.5ms\n",
      "979:\tlearn: 0.0526087\ttotal: 1.1s\tremaining: 22.4ms\n",
      "980:\tlearn: 0.0525866\ttotal: 1.1s\tremaining: 21.3ms\n",
      "981:\tlearn: 0.0524931\ttotal: 1.1s\tremaining: 20.1ms\n",
      "982:\tlearn: 0.0524205\ttotal: 1.1s\tremaining: 19ms\n",
      "983:\tlearn: 0.0524003\ttotal: 1.1s\tremaining: 17.9ms\n",
      "984:\tlearn: 0.0523101\ttotal: 1.1s\tremaining: 16.8ms\n",
      "985:\tlearn: 0.0522621\ttotal: 1.1s\tremaining: 15.7ms\n",
      "986:\tlearn: 0.0522414\ttotal: 1.1s\tremaining: 14.5ms\n",
      "987:\tlearn: 0.0521620\ttotal: 1.1s\tremaining: 13.4ms\n",
      "988:\tlearn: 0.0520543\ttotal: 1.1s\tremaining: 12.3ms\n",
      "989:\tlearn: 0.0519516\ttotal: 1.11s\tremaining: 11.2ms\n",
      "990:\tlearn: 0.0519079\ttotal: 1.11s\tremaining: 10.1ms\n",
      "991:\tlearn: 0.0518957\ttotal: 1.11s\tremaining: 8.94ms\n",
      "992:\tlearn: 0.0518317\ttotal: 1.11s\tremaining: 7.82ms\n",
      "993:\tlearn: 0.0517371\ttotal: 1.11s\tremaining: 6.7ms\n",
      "994:\tlearn: 0.0517251\ttotal: 1.11s\tremaining: 5.59ms\n",
      "995:\tlearn: 0.0516334\ttotal: 1.11s\tremaining: 4.47ms\n",
      "996:\tlearn: 0.0515730\ttotal: 1.11s\tremaining: 3.35ms\n",
      "997:\tlearn: 0.0514804\ttotal: 1.11s\tremaining: 2.23ms\n",
      "998:\tlearn: 0.0514308\ttotal: 1.11s\tremaining: 1.12ms\n",
      "999:\tlearn: 0.0513774\ttotal: 1.12s\tremaining: 0us\n"
     ]
    },
    {
     "data": {
      "text/plain": [
       "<catboost.core.CatBoostRegressor at 0x7f9250355210>"
      ]
     },
     "execution_count": 9,
     "metadata": {},
     "output_type": "execute_result"
    }
   ],
   "source": [
    "#Train the Model \n",
    "prior_model = ctb.CatBoostRegressor()\n",
    "prior_model.fit(X_train,Y_train)"
   ]
  },
  {
   "cell_type": "code",
   "execution_count": 10,
   "id": "c775fd81",
   "metadata": {
    "execution": {
     "iopub.execute_input": "2022-01-14T11:50:13.730190Z",
     "iopub.status.busy": "2022-01-14T11:50:13.729209Z",
     "iopub.status.idle": "2022-01-14T11:50:13.742551Z",
     "shell.execute_reply": "2022-01-14T11:50:13.742030Z"
    },
    "papermill": {
     "duration": 0.048461,
     "end_time": "2022-01-14T11:50:13.742675",
     "exception": false,
     "start_time": "2022-01-14T11:50:13.694214",
     "status": "completed"
    },
    "tags": []
   },
   "outputs": [
    {
     "data": {
      "application/scrapbook.scrap.json+json": {
       "data": 0.2255853446692021,
       "encoder": "json",
       "name": "Prior Model MSE",
       "version": 1
      }
     },
     "metadata": {
      "scrapbook": {
       "data": true,
       "display": false,
       "name": "Prior Model MSE"
      }
     },
     "output_type": "display_data"
    },
    {
     "data": {
      "application/scrapbook.scrap.json+json": {
       "data": 0.22544687118645393,
       "encoder": "json",
       "name": "ABC Pre-generator MSE",
       "version": 1
      }
     },
     "metadata": {
      "scrapbook": {
       "data": true,
       "display": false,
       "name": "ABC Pre-generator MSE"
      }
     },
     "output_type": "display_data"
    }
   ],
   "source": [
    "y_pred = prior_model.predict(X_test)\n",
    "y_abc = y_pred + np.random.normal(0,variance, y_pred.shape)\n",
    "mse = mean_squared_error(y_pred,Y_test)\n",
    "sb.glue(\"Prior Model MSE\",mse)\n",
    "mse = mean_squared_error(y_abc,Y_test)\n",
    "sb.glue(\"ABC Pre-generator MSE\",mse)"
   ]
  },
  {
   "cell_type": "markdown",
   "id": "0cd0def6",
   "metadata": {
    "papermill": {
     "duration": 0.03003,
     "end_time": "2022-01-14T11:50:13.804013",
     "exception": false,
     "start_time": "2022-01-14T11:50:13.773983",
     "status": "completed"
    },
    "tags": []
   },
   "source": [
    "# ABC GAN Model"
   ]
  },
  {
   "cell_type": "markdown",
   "id": "70beaf4c",
   "metadata": {
    "papermill": {
     "duration": 0.030567,
     "end_time": "2022-01-14T11:50:13.863966",
     "exception": false,
     "start_time": "2022-01-14T11:50:13.833399",
     "status": "completed"
    },
    "tags": []
   },
   "source": [
    "### Training the network\n",
    "**Training ABC-GAN for n_epochs number of epochs** "
   ]
  },
  {
   "cell_type": "code",
   "execution_count": 11,
   "id": "dbaaafa1",
   "metadata": {
    "execution": {
     "iopub.execute_input": "2022-01-14T11:50:13.931916Z",
     "iopub.status.busy": "2022-01-14T11:50:13.931257Z",
     "iopub.status.idle": "2022-01-14T11:50:16.983577Z",
     "shell.execute_reply": "2022-01-14T11:50:16.982965Z"
    },
    "papermill": {
     "duration": 3.089159,
     "end_time": "2022-01-14T11:50:16.983719",
     "exception": false,
     "start_time": "2022-01-14T11:50:13.894560",
     "status": "completed"
    },
    "tags": []
   },
   "outputs": [],
   "source": [
    "gen = network.Generator(n_features+1).to(device)\n",
    "disc = network.Discriminator(n_features+1).to(device)\n",
    "\n",
    "criterion = torch.nn.BCELoss()\n",
    "gen_opt = torch.optim.Adam(gen.parameters(), lr=0.001, betas=(0.5, 0.999))\n",
    "disc_opt = torch.optim.Adam(disc.parameters(), lr=0.01, betas=(0.5, 0.999))"
   ]
  },
  {
   "cell_type": "code",
   "execution_count": 12,
   "id": "6e9eeab8",
   "metadata": {
    "execution": {
     "iopub.execute_input": "2022-01-14T11:50:17.077803Z",
     "iopub.status.busy": "2022-01-14T11:50:17.077144Z",
     "iopub.status.idle": "2022-01-14T11:56:04.482828Z",
     "shell.execute_reply": "2022-01-14T11:56:04.482293Z"
    },
    "papermill": {
     "duration": 347.468262,
     "end_time": "2022-01-14T11:56:04.482969",
     "exception": false,
     "start_time": "2022-01-14T11:50:17.014707",
     "status": "completed"
    },
    "tags": []
   },
   "outputs": [
    {
     "data": {
      "image/png": "[encoded data removed]",
      "text/plain": [
       "<Figure size 432x288 with 1 Axes>"
      ]
     },
     "metadata": {
      "needs_background": "light"
     },
     "output_type": "display_data"
    },
    {
     "data": {
      "image/png": "[encoded data removed]",
      "text/plain": [
       "<Figure size 432x288 with 1 Axes>"
      ]
     },
     "metadata": {
      "needs_background": "light"
     },
     "output_type": "display_data"
    }
   ],
   "source": [
    "#Training the ABC_GAN \n",
    "ABC_train_test2.training_GAN(disc,gen,disc_opt,gen_opt,train_data,batch_size,n_epochs,criterion,prior_model,variance,device)"
   ]
  },
  {
   "cell_type": "code",
   "execution_count": 13,
   "id": "11c3082e",
   "metadata": {
    "execution": {
     "iopub.execute_input": "2022-01-14T11:56:04.550507Z",
     "iopub.status.busy": "2022-01-14T11:56:04.549858Z",
     "iopub.status.idle": "2022-01-14T11:56:04.936981Z",
     "shell.execute_reply": "2022-01-14T11:56:04.937501Z"
    },
    "papermill": {
     "duration": 0.423504,
     "end_time": "2022-01-14T11:56:04.937684",
     "exception": false,
     "start_time": "2022-01-14T11:56:04.514180",
     "status": "completed"
    },
    "tags": []
   },
   "outputs": [
    {
     "data": {
      "application/scrapbook.scrap.json+json": {
       "data": 0.43171107477299453,
       "encoder": "json",
       "name": "ABC-GAN Model 1 MSE",
       "version": 1
      }
     },
     "metadata": {
      "scrapbook": {
       "data": true,
       "display": false,
       "name": "ABC-GAN Model 1 MSE"
      }
     },
     "output_type": "display_data"
    },
    {
     "data": {
      "application/scrapbook.scrap.json+json": {
       "data": 0.4151864194026326,
       "encoder": "json",
       "name": "ABC-GAN Model 1 MAE",
       "version": 1
      }
     },
     "metadata": {
      "scrapbook": {
       "data": true,
       "display": false,
       "name": "ABC-GAN Model 1 MAE"
      }
     },
     "output_type": "display_data"
    },
    {
     "data": {
      "application/scrapbook.scrap.json+json": {
       "data": 42.34901477906853,
       "encoder": "json",
       "name": "ABC-GAN Model 1 Manhattan Distance",
       "version": 1
      }
     },
     "metadata": {
      "scrapbook": {
       "data": true,
       "display": false,
       "name": "ABC-GAN Model 1 Manhattan Distance"
      }
     },
     "output_type": "display_data"
    },
    {
     "data": {
      "application/scrapbook.scrap.json+json": {
       "data": 6.635850560091523,
       "encoder": "json",
       "name": "ABC-GAN Model 1 Euclidean distance",
       "version": 1
      }
     },
     "metadata": {
      "scrapbook": {
       "data": true,
       "display": false,
       "name": "ABC-GAN Model 1 Euclidean distance"
      }
     },
     "output_type": "display_data"
    },
    {
     "data": {
      "application/scrapbook.scrap.json+json": {
       "data": [
        [
         0.4315113014861436,
         0.4316544133259211,
         0.43256181149626527,
         0.4317942749522947,
         0.4312716668943045,
         0.43196300107304597,
         0.4309963824472255,
         0.43143543929067807,
         0.4319312813797896,
         0.4317368449226599,
         0.4320676239389532,
         0.4318910299277576,
         0.43156313431955606,
         0.43193716083747064,
         0.4315542790038221,
         0.4319207206922303,
         0.432081871740257,
         0.4312002420359917,
         0.43067859598255503,
         0.4313005273561432,
         0.4318315348705882,
         0.4324862239495585,
         0.43056024509990465,
         0.43154160470532765,
         0.4329979638384395,
         0.4314230251447306,
         0.432040276523056,
         0.43263591841710697,
         0.43157127066592754,
         0.4309864670284832,
         0.4310774849805483,
         0.43222259028111903,
         0.4304835301241612,
         0.43277132626099346,
         0.4313401106978949,
         0.43263135091226174,
         0.4323408910673377,
         0.43119846475809426,
         0.4310593132095011,
         0.4308936222780395,
         0.4312168058594786,
         0.4325088360329768,
         0.4315633247010641,
         0.43154078532359047,
         0.43122003238825,
         0.43124634592164385,
         0.43245964701214357,
         0.4313236383688566,
         0.43219930999936,
         0.43153924099065305,
         0.4313380170797773,
         0.4319695999813099,
         0.43156383708921,
         0.4320998913186255,
         0.4328698238108001,
         0.43138730338273207,
         0.43225452954854204,
         0.43203624259482204,
         0.4310823501008522,
         0.4312938393178937,
         0.4314334157944616,
         0.4313240815455033,
         0.43193685848133684,
         0.43161633989688397,
         0.431590732422678,
         0.43182509935658875,
         0.4317822417553478,
         0.43098696307351914,
         0.4321828267922179,
         0.4310732502123975,
         0.4317896673345615,
         0.4318544678690061,
         0.4308647709919321,
         0.4324410165021071,
         0.43207309902538915,
         0.4319225837649466,
         0.4308732699960579,
         0.43147691695784535,
         0.4322149913589401,
         0.43184010637425085,
         0.4320901273039506,
         0.4316637239299458,
         0.4316926836182188,
         0.43187405429788095,
         0.4317368934355153,
         0.43140938892050545,
         0.43283568704728576,
         0.4317881937382071,
         0.43175163035967556,
         0.43199254491958783,
         0.4316972642266602,
         0.4310961016046959,
         0.4319240204804308,
         0.43175429056839976,
         0.4328383602154052,
         0.431393566628929,
         0.4308175476665308,
         0.43169488729749295,
         0.431639655743422,
         0.43245593705202223
        ],
        [
         0.41504248812356415,
         0.4151800040922621,
         0.4154003886871186,
         0.4151948949906464,
         0.4153969106538331,
         0.415676270757674,
         0.41508889043995856,
         0.4150353205006789,
         0.41489186203655076,
         0.41515044626944203,
         0.4150976516105527,
         0.4148071944238801,
         0.4149905381285969,
         0.4157145800269848,
         0.41550994735649405,
         0.4150329820775226,
         0.41506546147752044,
         0.4150085007388364,
         0.4149018321916753,
         0.4150525865820693,
         0.41517723921467276,
         0.4154251798001282,
         0.4146493093348017,
         0.41498111853120373,
         0.4154435413268705,
         0.41505104254967734,
         0.41556783363807437,
         0.41533277013028663,
         0.4155598253322144,
         0.4146205846622002,
         0.4148755180558153,
         0.415287195430959,
         0.4148033095030662,
         0.4156686170757109,
         0.41542832545169134,
         0.41516637708991766,
         0.41551228750533625,
         0.4149157852664882,
         0.4149582803468494,
         0.41498508303444465,
         0.4149488849090595,
         0.415783948739808,
         0.41524176076785024,
         0.41531349585263755,
         0.4146831708722839,
         0.4147838504583228,
         0.41553391329944134,
         0.4147550118174039,
         0.41593389396610503,
         0.4149376346693173,
         0.4146082378083877,
         0.415579666063993,
         0.4152453217984122,
         0.415803919856747,
         0.4154667472740745,
         0.41499910543800567,
         0.41514326441193034,
         0.41515857881555956,
         0.4151449688144174,
         0.41510628441385194,
         0.41550034591380286,
         0.41528863317387943,
         0.41522431168157387,
         0.4149454004478221,
         0.4149074220262906,
         0.4151476464033419,
         0.4152874759964499,
         0.41487894254718344,
         0.4152582992854364,
         0.4149367365547839,
         0.41530868191929426,
         0.4154098668665278,
         0.4149140967603992,
         0.4159130867314981,
         0.4153949615874273,
         0.41499087366038095,
         0.41487463717988016,
         0.41519240559279624,
         0.4154461700944047,
         0.4151888801077125,
         0.41502073789745864,
         0.4151602911342885,
         0.41494784017513486,
         0.41600764913520977,
         0.4152325525076366,
         0.4144179753630477,
         0.4153531226877342,
         0.41514490838801743,
         0.4151812621264481,
         0.4152156332252072,
         0.41500247921794653,
         0.41474159912881897,
         0.4155105688773534,
         0.41545450380619836,
         0.41547428834818156,
         0.4156681460091004,
         0.41450421923004527,
         0.4153768971982394,
         0.4149080859588496,
         0.41549067082358343
        ],
        [
         42.334333788603544,
         42.34836041741073,
         42.3708396460861,
         42.34987928904593,
         42.370484886690974,
         42.39897961728275,
         42.33906682487577,
         42.333602691069245,
         42.318969927728176,
         42.34534551948309,
         42.33996046427637,
         42.310333831235766,
         42.32903488911688,
         42.40288716275245,
         42.38201463036239,
         42.333364171907306,
         42.33667707070708,
         42.33086707536131,
         42.31998688355088,
         42.33536383137107,
         42.34807839989662,
         42.37336833961308,
         42.29422955214977,
         42.32807409018278,
         42.37524121534079,
         42.33520634006709,
         42.387919031083584,
         42.363942553289235,
         42.38710218388587,
         42.29129963554442,
         42.31730284169316,
         42.359293933957815,
         42.30993756931275,
         42.39819894172251,
         42.37368919607252,
         42.3469704631716,
         42.3822533255443,
         42.3214100971818,
         42.32574459537864,
         42.32847846951336,
         42.32478626072407,
         42.409962771460414,
         42.35465959832072,
         42.36197657696903,
         42.29768342897296,
         42.307952746748924,
         42.384459156543016,
         42.305011205375195,
         42.425257184542716,
         42.32363873627037,
         42.29004025645554,
         42.389125938527286,
         42.35502282343805,
         42.41199982538819,
         42.3776082219556,
         42.32990875467658,
         42.3446129700169,
         42.346175039187074,
         42.34478681907058,
         42.3408410102129,
         42.38103528320789,
         42.359440583735704,
         42.352879791520536,
         42.32443084567785,
         42.32055704668164,
         42.345059933140874,
         42.35932255163789,
         42.31765213981271,
         42.35634652711451,
         42.32354712858796,
         42.36148555576801,
         42.37180642038584,
         42.32123786956072,
         42.42313484661281,
         42.370286081917584,
         42.329069113358855,
         42.31721299234778,
         42.34962537046522,
         42.37550934962928,
         42.349265770986676,
         42.33211526554078,
         42.34634969569743,
         42.32467969786376,
         42.432780211791396,
         42.35372035577893,
         42.270633487030864,
         42.36601851414889,
         42.34478065557778,
         42.34848873689771,
         42.35199458897114,
         42.330252880230546,
         42.303643111139536,
         42.382078025490046,
         42.37635938823223,
         42.37837741151452,
         42.39815089292824,
         42.27943036146462,
         42.36844351422042,
         42.320624767802656,
         42.38004842400551
        ],
        [
         6.634316298729405,
         6.635416351612305,
         6.642386978535582,
         6.63649124501299,
         6.6324738991736005,
         6.637787742120915,
         6.630356778455968,
         6.6337330974082125,
         6.63754402627497,
         6.636049892979355,
         6.638591540513185,
         6.637234744427174,
         6.634714741463624,
         6.63758920131564,
         6.634646671706781,
         6.637462882051205,
         6.638700996242126,
         6.631924659378387,
         6.627911947983363,
         6.632695816206755,
         6.6367775732504395,
         6.6418065948095,
         6.627001207196983,
         6.634549244669407,
         6.645734896271505,
         6.633637657029701,
         6.638381444701088,
         6.642955944347735,
         6.634777283973036,
         6.630280509669654,
         6.6309805811822375,
         6.639781939843669,
         6.626410798665024,
         6.643995430358252,
         6.6330001727110846,
         6.642920878126631,
         6.640690543073698,
         6.631910991963449,
         6.630840817526018,
         6.629566311031215,
         6.632052035205002,
         6.641980222445986,
         6.634716204895921,
         6.63454294605184,
         6.632076846931246,
         6.632279192254175,
         6.641602517106744,
         6.632873518590821,
         6.639603122170383,
         6.634531074691459,
         6.632984075221144,
         6.637838443205258,
         6.634720143540299,
         6.638839425268531,
         6.644751464780425,
         6.633363019241346,
         6.640027260030736,
         6.638350453589495,
         6.631017999544786,
         6.632644390469397,
         6.633717540793781,
         6.632876926164192,
         6.637586878158082,
         6.635123711693863,
         6.6349268803139925,
         6.636728119666501,
         6.636398771852508,
         6.6302843252381685,
         6.639476510449166,
         6.630948010779797,
         6.6364558363727,
         6.636953798440864,
         6.629344359827529,
         6.641459454307834,
         6.638633601923643,
         6.637477197250816,
         6.629409742925679,
         6.6340519691739095,
         6.6397235724547965,
         6.636843440233736,
         6.638764417043503,
         6.635487912795445,
         6.635710491654854,
         6.6371043037143735,
         6.636050265814942,
         6.633532819689035,
         6.644489452081562,
         6.636444512033316,
         6.6361635224493165,
         6.638014731966024,
         6.6357456966884545,
         6.631123763260567,
         6.637488236449383,
         6.636183966556139,
         6.6445099700407795,
         6.633411173457497,
         6.628981057597474,
         6.6357274284244285,
         6.635302923441329,
         6.641574028745465
        ]
       ],
       "encoder": "json",
       "name": "ABC_GAN_1 Metrics",
       "version": 1
      }
     },
     "metadata": {
      "scrapbook": {
       "data": true,
       "display": false,
       "name": "ABC_GAN_1 Metrics"
      }
     },
     "output_type": "display_data"
    }
   ],
   "source": [
    "ABC_GAN1_metrics=ABC_train_test2.test_generator(gen,test_data,prior_model,variance,\"1\",device)\n",
    "sb.glue(\"ABC_GAN_1 Metrics\",ABC_GAN1_metrics)"
   ]
  },
  {
   "cell_type": "markdown",
   "id": "394a2b9d",
   "metadata": {
    "papermill": {
     "duration": 0.035169,
     "end_time": "2022-01-14T11:56:05.009423",
     "exception": false,
     "start_time": "2022-01-14T11:56:04.974254",
     "status": "completed"
    },
    "tags": []
   },
   "source": [
    "#### Sanity Checks "
   ]
  },
  {
   "cell_type": "code",
   "execution_count": 14,
   "id": "a36b3b22",
   "metadata": {
    "execution": {
     "iopub.execute_input": "2022-01-14T11:56:05.083079Z",
     "iopub.status.busy": "2022-01-14T11:56:05.082507Z",
     "iopub.status.idle": "2022-01-14T11:56:05.840804Z",
     "shell.execute_reply": "2022-01-14T11:56:05.840270Z"
    },
    "papermill": {
     "duration": 0.796655,
     "end_time": "2022-01-14T11:56:05.840942",
     "exception": false,
     "start_time": "2022-01-14T11:56:05.044287",
     "status": "completed"
    },
    "tags": []
   },
   "outputs": [
    {
     "data": {
      "image/png": "[encoded data removed]",
      "text/plain": [
       "<Figure size 432x288 with 1 Axes>"
      ]
     },
     "metadata": {
      "needs_background": "light"
     },
     "output_type": "display_data"
    },
    {
     "data": {
      "image/png": "[encoded data removed]",
      "text/plain": [
       "<Figure size 432x288 with 1 Axes>"
      ]
     },
     "metadata": {
      "needs_background": "light"
     },
     "output_type": "display_data"
    },
    {
     "data": {
      "image/png": "[encoded data removed]",
      "text/plain": [
       "<Figure size 432x288 with 1 Axes>"
      ]
     },
     "metadata": {
      "needs_background": "light"
     },
     "output_type": "display_data"
    },
    {
     "data": {
      "image/png": "[encoded data removed]",
      "text/plain": [
       "<Figure size 432x288 with 1 Axes>"
      ]
     },
     "metadata": {
      "needs_background": "light"
     },
     "output_type": "display_data"
    }
   ],
   "source": [
    "sanityChecks.discProbVsError(train_data,disc,device)\n",
    "sanityChecks.discProbVsError(test_data,disc,device)"
   ]
  },
  {
   "cell_type": "markdown",
   "id": "130f3a4d",
   "metadata": {
    "papermill": {
     "duration": 0.042591,
     "end_time": "2022-01-14T11:56:05.925538",
     "exception": false,
     "start_time": "2022-01-14T11:56:05.882947",
     "status": "completed"
    },
    "tags": []
   },
   "source": [
    "# ABC - GAN Model with skip connection"
   ]
  },
  {
   "cell_type": "code",
   "execution_count": 15,
   "id": "4e43dad1",
   "metadata": {
    "execution": {
     "iopub.execute_input": "2022-01-14T11:56:06.012529Z",
     "iopub.status.busy": "2022-01-14T11:56:06.011892Z",
     "iopub.status.idle": "2022-01-14T11:56:06.017688Z",
     "shell.execute_reply": "2022-01-14T11:56:06.017173Z"
    },
    "papermill": {
     "duration": 0.051424,
     "end_time": "2022-01-14T11:56:06.017809",
     "exception": false,
     "start_time": "2022-01-14T11:56:05.966385",
     "status": "completed"
    },
    "tags": []
   },
   "outputs": [],
   "source": [
    "#Generator\n",
    "gen3 = network.GeneratorWithSkipConnection(n_features+1).to(device)\n",
    "constraints=network.weightConstraint()\n",
    "#Discriminator \n",
    "disc3 = network.Discriminator(n_features+1).to(device)\n",
    "\n",
    "criterion = torch.nn.BCELoss()\n",
    "gen_opt = torch.optim.Adam(gen3.parameters(), lr=0.01, betas=(0.5, 0.999))\n",
    "disc_opt = torch.optim.Adam(disc3.parameters(), lr=0.01, betas=(0.5, 0.999))\n"
   ]
  },
  {
   "cell_type": "code",
   "execution_count": 16,
   "id": "26acbc37",
   "metadata": {
    "execution": {
     "iopub.execute_input": "2022-01-14T11:56:06.102071Z",
     "iopub.status.busy": "2022-01-14T11:56:06.101453Z",
     "iopub.status.idle": "2022-01-14T12:33:33.879838Z",
     "shell.execute_reply": "2022-01-14T12:33:33.879369Z"
    },
    "papermill": {
     "duration": 2247.822433,
     "end_time": "2022-01-14T12:33:33.879971",
     "exception": false,
     "start_time": "2022-01-14T11:56:06.057538",
     "status": "completed"
    },
    "tags": []
   },
   "outputs": [
    {
     "data": {
      "image/png": "[encoded data removed]",
      "text/plain": [
       "<Figure size 432x288 with 1 Axes>"
      ]
     },
     "metadata": {
      "needs_background": "light"
     },
     "output_type": "display_data"
    },
    {
     "data": {
      "image/png": "[encoded data removed]",
      "text/plain": [
       "<Figure size 432x288 with 1 Axes>"
      ]
     },
     "metadata": {
      "needs_background": "light"
     },
     "output_type": "display_data"
    }
   ],
   "source": [
    "ABC_train_test2.training_GAN_skip_connection(disc3,gen3,disc_opt,gen_opt,train_data,batch_size,n_epochs,criterion,prior_model,variance,device)\n"
   ]
  },
  {
   "cell_type": "code",
   "execution_count": 17,
   "id": "c5e0717b",
   "metadata": {
    "execution": {
     "iopub.execute_input": "2022-01-14T12:33:33.970673Z",
     "iopub.status.busy": "2022-01-14T12:33:33.969973Z",
     "iopub.status.idle": "2022-01-14T12:33:36.389803Z",
     "shell.execute_reply": "2022-01-14T12:33:36.389215Z"
    },
    "papermill": {
     "duration": 2.468318,
     "end_time": "2022-01-14T12:33:36.389936",
     "exception": false,
     "start_time": "2022-01-14T12:33:33.921618",
     "status": "completed"
    },
    "tags": []
   },
   "outputs": [
    {
     "data": {
      "application/scrapbook.scrap.json+json": {
       "data": 0.5927888361941139,
       "encoder": "json",
       "name": "ABC-GAN Model 3 MSE",
       "version": 1
      }
     },
     "metadata": {
      "scrapbook": {
       "data": true,
       "display": false,
       "name": "ABC-GAN Model 3 MSE"
      }
     },
     "output_type": "display_data"
    },
    {
     "data": {
      "application/scrapbook.scrap.json+json": {
       "data": 0.5982329334362465,
       "encoder": "json",
       "name": "ABC-GAN Model 3 MAE",
       "version": 1
      }
     },
     "metadata": {
      "scrapbook": {
       "data": true,
       "display": false,
       "name": "ABC-GAN Model 3 MAE"
      }
     },
     "output_type": "display_data"
    },
    {
     "data": {
      "application/scrapbook.scrap.json+json": {
       "data": 61.01975921049714,
       "encoder": "json",
       "name": "ABC-GAN Model 3 Manhattan Distance",
       "version": 1
      }
     },
     "metadata": {
      "scrapbook": {
       "data": true,
       "display": false,
       "name": "ABC-GAN Model 3 Manhattan Distance"
      }
     },
     "output_type": "display_data"
    },
    {
     "data": {
      "application/scrapbook.scrap.json+json": {
       "data": 7.775885465637593,
       "encoder": "json",
       "name": "ABC-GAN Model 3 Euclidean distance",
       "version": 1
      }
     },
     "metadata": {
      "scrapbook": {
       "data": true,
       "display": false,
       "name": "ABC-GAN Model 3 Euclidean distance"
      }
     },
     "output_type": "display_data"
    },
    {
     "data": {
      "application/scrapbook.scrap.json+json": {
       "data": [
        [
         0.5934474549491401,
         0.5930698397004062,
         0.5937731987139929,
         0.5938978372684338,
         0.593015651199894,
         0.5939058817111702,
         0.5917073900910367,
         0.5929690154526203,
         0.59275106488912,
         0.5942642604685392,
         0.5927126560477579,
         0.5939778546776279,
         0.5927067759035838,
         0.5931419178879147,
         0.5911203379849109,
         0.5923326254270244,
         0.5897351787417251,
         0.5929175838891292,
         0.5928606686394583,
         0.5944592199320595,
         0.5934824596295274,
         0.5929142698382052,
         0.5908033505001845,
         0.5907332402689394,
         0.593286062798245,
         0.5925882118114895,
         0.5944778435905458,
         0.5923871549845666,
         0.5918613431155986,
         0.5936817721506905,
         0.5943082822815952,
         0.5905462828672307,
         0.5932332161624774,
         0.5950115697516017,
         0.5920249891808609,
         0.5952977453680057,
         0.5920229247449746,
         0.5928162410366091,
         0.5939720138286535,
         0.5921189726623385,
         0.5936692790639604,
         0.5942717020206327,
         0.5924213071029509,
         0.5940047090794388,
         0.5904413067113234,
         0.5921945764614118,
         0.5933223348133685,
         0.5946666773721875,
         0.5914301817835907,
         0.5928725509373942,
         0.5939418660954673,
         0.5925864794698836,
         0.5923381918600577,
         0.5937139122447191,
         0.5940098207450194,
         0.5915051180032679,
         0.5927565301469012,
         0.5929223684183534,
         0.5931298458706479,
         0.5928337432119244,
         0.5931338901067154,
         0.5917989903163676,
         0.5941006186095763,
         0.5938540719604499,
         0.5930665647491054,
         0.5920409946830014,
         0.5931759883644695,
         0.5907972012835477,
         0.5934834677771442,
         0.5903168264910551,
         0.5925025929226065,
         0.5897016076306889,
         0.5931519687253984,
         0.5912558554218159,
         0.5948510980582967,
         0.5920349050104045,
         0.5910562689250418,
         0.5923662218671507,
         0.5933597825700844,
         0.5914222682518544,
         0.5908354924476243,
         0.5946613842004516,
         0.5920552169205601,
         0.5919263642041348,
         0.592806541693594,
         0.5930831393406836,
         0.592611663665092,
         0.5926519891770804,
         0.5936185542778385,
         0.5927654326714403,
         0.5925541122865378,
         0.5967058415304971,
         0.5909475602581827,
         0.5919067941745249,
         0.5938696268629416,
         0.592717127437217,
         0.5941685127942895,
         0.592160994898316,
         0.5930011509438063,
         0.5909980743414203
        ],
        [
         0.5984291896662292,
         0.5986941591197369,
         0.5984437123087107,
         0.5980014863478786,
         0.5976628909508387,
         0.5981601415311589,
         0.5979548905994377,
         0.5977278862002433,
         0.5985732179354218,
         0.5986541045793131,
         0.5972625322859076,
         0.5988685542754099,
         0.5978336730862365,
         0.5979157454681163,
         0.5966596354675644,
         0.5983540105688221,
         0.5970934372322232,
         0.5985669449483063,
         0.5986757962873169,
         0.5993905616011105,
         0.5978090224020621,
         0.5981810042159814,
         0.5983206012523642,
         0.598628526663079,
         0.5988600564499696,
         0.5982820919039202,
         0.6001363286346781,
         0.5985984557545653,
         0.5978412241035816,
         0.5980923508896547,
         0.5995612549139004,
         0.5981834068090892,
         0.5990356030855694,
         0.5982000283239519,
         0.5981614022862678,
         0.5993982749972858,
         0.5977617327269971,
         0.599380609232421,
         0.5986286127465028,
         0.5976480477142567,
         0.5984652613600095,
         0.5985605320071473,
         0.5979401947309574,
         0.5987642998350602,
         0.5972151200414872,
         0.5985677969075885,
         0.598322724558267,
         0.5995107475741237,
         0.596551639301812,
         0.598858226601984,
         0.5988041887826779,
         0.5984726800930267,
         0.5985864392463484,
         0.5987846039819951,
         0.5978940375441429,
         0.5966678504265991,
         0.5987383461392978,
         0.5979136398390812,
         0.5980558422777582,
         0.5984982179076064,
         0.5977992034864192,
         0.597764135977509,
         0.5993767605692732,
         0.5992386750876904,
         0.597661945457552,
         0.598252027788583,
         0.5984440880517164,
         0.5971347780934736,
         0.5982104604150734,
         0.5975339619771523,
         0.5986714539501596,
         0.596958936246879,
         0.5986535592990763,
         0.5971847260553463,
         0.5994749327792841,
         0.5974440622855636,
         0.5976655707493717,
         0.5982389373376089,
         0.5985584180144703,
         0.5966967961878753,
         0.5973659968186243,
         0.5982975498864463,
         0.5980047427263915,
         0.5974131561815739,
         0.5978263364556957,
         0.59776014367155,
         0.5984532662174281,
         0.5977522475900603,
         0.5989509840660235,
         0.5986273558992966,
         0.5971531185741518,
         0.600176867243706,
         0.5980408099644324,
         0.5978585097427461,
         0.5993399858913001,
         0.5980073724161176,
         0.5995949341312927,
         0.5974951356503309,
         0.5981816354335523,
         0.5972261705307984
        ],
        [
         61.03977734595537,
         61.066804230213165,
         61.04125865548849,
         60.996151607483625,
         60.96161487698555,
         61.01233443617821,
         60.991398841142654,
         60.96824439242482,
         61.05446822941303,
         61.06271866708994,
         60.920778293162584,
         61.084592536091805,
         60.97903465479612,
         60.98740603774786,
         60.859282817691565,
         61.03210907801986,
         60.90353059768677,
         61.05382838472724,
         61.064931221306324,
         61.137837283313274,
         60.97652028501034,
         61.01446243003011,
         61.028701327741146,
         61.060109719634056,
         61.0837257578969,
         61.02477337419987,
         61.21390552073717,
         61.057042486965656,
         60.97980485856533,
         61.00541979074478,
         61.15524800121784,
         61.0147074945271,
         61.10163151472807,
         61.01640288904309,
         61.01246303319931,
         61.13862404972315,
         60.971696738153696,
         61.13682214170694,
         61.06011850014329,
         60.96010086685419,
         61.04345665872097,
         61.05317426472902,
         60.98989986255765,
         61.073958583176136,
         60.9159422442317,
         61.05391528457403,
         61.02891790494323,
         61.150096252560616,
         60.84826720878482,
         61.08353911340237,
         61.07802725583315,
         61.044213369488716,
         61.05581680312753,
         61.0760296061635,
         60.98519182950258,
         60.86012074351311,
         61.07131130620837,
         60.98719126358628,
         61.00169591233134,
         61.04681822657585,
         60.97551875561476,
         60.971941869705915,
         61.13642957806587,
         61.122344858944416,
         60.9615184366703,
         61.02170683443546,
         61.04129698127508,
         60.907747365534306,
         61.017466962337494,
         60.94846412166953,
         61.06448830291629,
         60.889811497181654,
         61.06266304850578,
         60.91284205764532,
         61.14644314348698,
         60.93929435312748,
         60.96188821643591,
         61.02037160843611,
         61.05295863747597,
         60.86307321116328,
         60.93133167549968,
         61.02635008841753,
         60.99648375809193,
         60.936141930520535,
         60.97828631848097,
         60.9715346544981,
         61.042233154177666,
         60.97072925418615,
         61.0930003747344,
         61.05999030172825,
         60.909618094563484,
         61.21804045885801,
         61.00016261637211,
         60.98156799376011,
         61.13267856091261,
         60.996751986443996,
         61.15868328139186,
         60.94450383633375,
         61.014526814222336,
         60.917069394141436
        ],
        [
         7.780208249450156,
         7.777732551935776,
         7.782343237664813,
         7.78315998816549,
         7.777377220013773,
         7.78321270007054,
         7.768793586476973,
         7.777071400994544,
         7.775642006849996,
         7.785560645694758,
         7.775390081331693,
         7.783684293258432,
         7.7753515124504515,
         7.778205167297099,
         7.764938793993221,
         7.77289700134747,
         7.755835753267081,
         7.7767341189403645,
         7.776360858475173,
         7.786837640086638,
         7.780437705053088,
         7.776712385288329,
         7.762856545822472,
         7.762395925706945,
         7.77915023671744,
         7.77457378926793,
         7.786959615038185,
         7.773254775731065,
         7.769804180144507,
         7.781744069254039,
         7.78584900911408,
         7.761167492874865,
         7.778803767197927,
         7.790454422860284,
         7.77087825772916,
         7.7923276386158555,
         7.770864708897421,
         7.776069481796965,
         7.783646022945971,
         7.771495043526599,
         7.781662191622297,
         7.785609392083866,
         7.77347884312429,
         7.783860245797245,
         7.760477645387232,
         7.7719911733779,
         7.779388031906082,
         7.788196266913355,
         7.766973576749583,
         7.77643878620633,
         7.783448486483201,
         7.774562425366982,
         7.772933524077372,
         7.781954706175137,
         7.78389373745505,
         7.767465612175783,
         7.775677853086758,
         7.7767654959290144,
         7.778126013302051,
         7.776184270425713,
         7.778152530703223,
         7.769394893572438,
         7.7844886214944635,
         7.7828732059545915,
         7.777711077457732,
         7.770983300565389,
         7.778428556795766,
         7.762816146922575,
         7.780444313358246,
         7.759659548078613,
         7.774012122328203,
         7.755614996783315,
         7.778271068173866,
         7.765828819451612,
         7.789403828403445,
         7.770943334696324,
         7.764517977978686,
         7.773117433208465,
         7.779633527496562,
         7.766921614236179,
         7.763067707398774,
         7.78816160518296,
         7.771076638786747,
         7.7702309585250875,
         7.776005867586943,
         7.777819759595211,
         7.774727628273505,
         7.774992147652767,
         7.781329740882308,
         7.775736243757687,
         7.774350098447255,
         7.801538042982978,
         7.763803909575166,
         7.770102509349635,
         7.782975134228558,
         7.775419409819392,
         7.784933416864754,
         7.7717708071988465,
         7.777282134284974,
         7.764135726713234
        ]
       ],
       "encoder": "json",
       "name": "ABC_GAN_3 Metrics",
       "version": 1
      }
     },
     "metadata": {
      "scrapbook": {
       "data": true,
       "display": false,
       "name": "ABC_GAN_3 Metrics"
      }
     },
     "output_type": "display_data"
    }
   ],
   "source": [
    "ABC_GAN3_metrics=ABC_train_test2.test_generator(gen3,test_data,prior_model,variance,\"3\",device)\n",
    "sb.glue(\"ABC_GAN_3 Metrics\",ABC_GAN3_metrics)"
   ]
  },
  {
   "cell_type": "code",
   "execution_count": 18,
   "id": "c8e46b48",
   "metadata": {
    "execution": {
     "iopub.execute_input": "2022-01-14T12:33:36.491105Z",
     "iopub.status.busy": "2022-01-14T12:33:36.490411Z",
     "iopub.status.idle": "2022-01-14T12:33:37.359187Z",
     "shell.execute_reply": "2022-01-14T12:33:37.358689Z"
    },
    "papermill": {
     "duration": 0.918735,
     "end_time": "2022-01-14T12:33:37.359314",
     "exception": false,
     "start_time": "2022-01-14T12:33:36.440579",
     "status": "completed"
    },
    "tags": []
   },
   "outputs": [
    {
     "data": {
      "image/png": "[encoded data removed]",
      "text/plain": [
       "<Figure size 432x288 with 1 Axes>"
      ]
     },
     "metadata": {
      "needs_background": "light"
     },
     "output_type": "display_data"
    },
    {
     "data": {
      "image/png": "[encoded data removed]",
      "text/plain": [
       "<Figure size 432x288 with 1 Axes>"
      ]
     },
     "metadata": {
      "needs_background": "light"
     },
     "output_type": "display_data"
    },
    {
     "data": {
      "image/png": "[encoded data removed]",
      "text/plain": [
       "<Figure size 432x288 with 1 Axes>"
      ]
     },
     "metadata": {
      "needs_background": "light"
     },
     "output_type": "display_data"
    },
    {
     "data": {
      "image/png": "[encoded data removed]",
      "text/plain": [
       "<Figure size 432x288 with 1 Axes>"
      ]
     },
     "metadata": {
      "needs_background": "light"
     },
     "output_type": "display_data"
    }
   ],
   "source": [
    "sanityChecks.discProbVsError(train_data,disc,device)\n",
    "sanityChecks.discProbVsError(test_data,disc3,device)"
   ]
  },
  {
   "cell_type": "markdown",
   "id": "a5bd74c3",
   "metadata": {
    "papermill": {
     "duration": 0.049633,
     "end_time": "2022-01-14T12:33:37.460636",
     "exception": false,
     "start_time": "2022-01-14T12:33:37.411003",
     "status": "completed"
    },
    "tags": []
   },
   "source": [
    "## Skip Connection Model Analysis - ABC-GAN "
   ]
  },
  {
   "cell_type": "markdown",
   "id": "5744a8bf",
   "metadata": {
    "papermill": {
     "duration": 0.048819,
     "end_time": "2022-01-14T12:33:37.558097",
     "exception": false,
     "start_time": "2022-01-14T12:33:37.509278",
     "status": "completed"
    },
    "tags": []
   },
   "source": [
    "### Weight Analysis \n",
    "\n",
    "Study the weights of the skip connection layer\n",
    "\n",
    "Equation of the skip connection is \n",
    "\n",
    "$output = y_{gan} * w + y_{abc} * (1-w)$"
   ]
  },
  {
   "cell_type": "code",
   "execution_count": 19,
   "id": "52c31dea",
   "metadata": {
    "execution": {
     "iopub.execute_input": "2022-01-14T12:33:37.662721Z",
     "iopub.status.busy": "2022-01-14T12:33:37.661928Z",
     "iopub.status.idle": "2022-01-14T12:33:37.671690Z",
     "shell.execute_reply": "2022-01-14T12:33:37.672148Z"
    },
    "papermill": {
     "duration": 0.065226,
     "end_time": "2022-01-14T12:33:37.672330",
     "exception": false,
     "start_time": "2022-01-14T12:33:37.607104",
     "status": "completed"
    },
    "tags": []
   },
   "outputs": [
    {
     "name": "stdout",
     "output_type": "stream",
     "text": [
      "Weight of the node at skip connection\n",
      "Parameter containing:\n",
      "tensor([[0.0253]], device='cuda:0', requires_grad=True)\n"
     ]
    },
    {
     "data": {
      "application/scrapbook.scrap.json+json": {
       "data": 0.025253761559724808,
       "encoder": "json",
       "name": "Skip Connection Weight",
       "version": 1
      }
     },
     "metadata": {
      "scrapbook": {
       "data": true,
       "display": false,
       "name": "Skip Connection Weight"
      }
     },
     "output_type": "display_data"
    }
   ],
   "source": [
    "print(\"Weight of the node at skip connection\")\n",
    "for name,param in gen3.named_parameters():\n",
    "    if(name == \"skipNode.weight\"):\n",
    "        print(param)\n",
    "        sb.glue(\"Skip Connection Weight\",param.item())"
   ]
  }
 ],
 "metadata": {
  "interpreter": {
   "hash": "10498c76ddd8160350534c6544a2b2fb65f2138dbc70420f7c81a3268f830f23"
  },
  "kernelspec": {
   "display_name": "papermill-tutorial",
   "language": "python",
   "name": "python3"
  },
  "language_info": {
   "codemirror_mode": {
    "name": "ipython",
    "version": 3
   },
   "file_extension": ".py",
   "mimetype": "text/x-python",
   "name": "python",
   "nbconvert_exporter": "python",
   "pygments_lexer": "ipython3",
   "version": "3.7.12"
  },
  "papermill": {
   "default_parameters": {},
   "duration": 2610.993649,
   "end_time": "2022-01-14T12:33:38.436906",
   "environment_variables": {},
   "exception": null,
   "input_path": "ABC_GAN_Model-Catboost_Pre-gen.ipynb",
   "output_path": "./ABC_GAN_Output/ABC-GAN_output_3_2.ipynb",
   "parameters": {
    "variance": 0.01
   },
   "start_time": "2022-01-14T11:50:07.443257",
   "version": "2.3.3"
  }
 },
 "nbformat": 4,
 "nbformat_minor": 5
}