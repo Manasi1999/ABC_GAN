{
 "cells": [
  {
   "cell_type": "markdown",
   "id": "622780e6",
   "metadata": {
    "papermill": {
     "duration": 0.02624,
     "end_time": "2022-01-14T16:08:53.841958",
     "exception": false,
     "start_time": "2022-01-14T16:08:53.815718",
     "status": "completed"
    },
    "tags": []
   },
   "source": [
    "## Import Libraries "
   ]
  },
  {
   "cell_type": "code",
   "execution_count": 1,
   "id": "a62397e3",
   "metadata": {
    "execution": {
     "iopub.execute_input": "2022-01-14T16:08:53.897460Z",
     "iopub.status.busy": "2022-01-14T16:08:53.896750Z",
     "iopub.status.idle": "2022-01-14T16:08:53.899408Z",
     "shell.execute_reply": "2022-01-14T16:08:53.898812Z"
    },
    "papermill": {
     "duration": 0.033482,
     "end_time": "2022-01-14T16:08:53.899560",
     "exception": false,
     "start_time": "2022-01-14T16:08:53.866078",
     "status": "completed"
    },
    "tags": []
   },
   "outputs": [],
   "source": [
    "import warnings\n",
    "import sys\n",
    "sys.path.insert(0, '../../src')\n",
    "warnings.filterwarnings('ignore')"
   ]
  },
  {
   "cell_type": "code",
   "execution_count": 2,
   "id": "d6a4e155",
   "metadata": {
    "execution": {
     "iopub.execute_input": "2022-01-14T16:08:53.976346Z",
     "iopub.status.busy": "2022-01-14T16:08:53.975246Z",
     "iopub.status.idle": "2022-01-14T16:08:55.620463Z",
     "shell.execute_reply": "2022-01-14T16:08:55.620950Z"
    },
    "papermill": {
     "duration": 1.679396,
     "end_time": "2022-01-14T16:08:55.621171",
     "exception": false,
     "start_time": "2022-01-14T16:08:53.941775",
     "status": "completed"
    },
    "tags": []
   },
   "outputs": [],
   "source": [
    "import ABC_train_test2\n",
    "import bostonDataset\n",
    "import network\n",
    "import dataset\n",
    "import sanityChecks\n",
    "import performanceMetrics\n",
    "import torch \n",
    "from torch.utils.data import random_split \n",
    "import scrapbook as sb\n",
    "from statistics import mean \n",
    "import catboost as ctb \n",
    "from sklearn.model_selection import train_test_split\n",
    "from sklearn.metrics import mean_squared_error\n",
    "import numpy as np"
   ]
  },
  {
   "cell_type": "markdown",
   "id": "2fa5b0f7",
   "metadata": {
    "papermill": {
     "duration": 0.024137,
     "end_time": "2022-01-14T16:08:55.669936",
     "exception": false,
     "start_time": "2022-01-14T16:08:55.645799",
     "status": "completed"
    },
    "tags": []
   },
   "source": [
    "## Parameters "
   ]
  },
  {
   "cell_type": "code",
   "execution_count": 3,
   "id": "783186fb",
   "metadata": {
    "execution": {
     "iopub.execute_input": "2022-01-14T16:08:55.722680Z",
     "iopub.status.busy": "2022-01-14T16:08:55.721669Z",
     "iopub.status.idle": "2022-01-14T16:08:55.724758Z",
     "shell.execute_reply": "2022-01-14T16:08:55.724019Z"
    },
    "papermill": {
     "duration": 0.030634,
     "end_time": "2022-01-14T16:08:55.724879",
     "exception": false,
     "start_time": "2022-01-14T16:08:55.694245",
     "status": "completed"
    },
    "tags": [
     "parameters"
    ]
   },
   "outputs": [],
   "source": [
    "variance = 1"
   ]
  },
  {
   "cell_type": "code",
   "execution_count": 4,
   "id": "4fa9fac4",
   "metadata": {
    "execution": {
     "iopub.execute_input": "2022-01-14T16:08:55.777347Z",
     "iopub.status.busy": "2022-01-14T16:08:55.776360Z",
     "iopub.status.idle": "2022-01-14T16:08:55.779154Z",
     "shell.execute_reply": "2022-01-14T16:08:55.778481Z"
    },
    "papermill": {
     "duration": 0.029715,
     "end_time": "2022-01-14T16:08:55.779268",
     "exception": false,
     "start_time": "2022-01-14T16:08:55.749553",
     "status": "completed"
    },
    "tags": [
     "injected-parameters"
    ]
   },
   "outputs": [],
   "source": [
    "# Parameters\n",
    "variance = 0.01\n"
   ]
  },
  {
   "cell_type": "markdown",
   "id": "391cdbfd",
   "metadata": {
    "papermill": {
     "duration": 0.023676,
     "end_time": "2022-01-14T16:08:55.826085",
     "exception": false,
     "start_time": "2022-01-14T16:08:55.802409",
     "status": "completed"
    },
    "tags": []
   },
   "source": [
    "## Dataset - Boston Housing "
   ]
  },
  {
   "cell_type": "code",
   "execution_count": 5,
   "id": "5b51f161",
   "metadata": {
    "execution": {
     "iopub.execute_input": "2022-01-14T16:08:55.878382Z",
     "iopub.status.busy": "2022-01-14T16:08:55.877341Z",
     "iopub.status.idle": "2022-01-14T16:08:55.880397Z",
     "shell.execute_reply": "2022-01-14T16:08:55.879828Z"
    },
    "papermill": {
     "duration": 0.030074,
     "end_time": "2022-01-14T16:08:55.880537",
     "exception": false,
     "start_time": "2022-01-14T16:08:55.850463",
     "status": "completed"
    },
    "tags": []
   },
   "outputs": [],
   "source": [
    "#Parameters \n",
    "n_features = 13\n",
    "n_samples= 506\n",
    "n_target = 1 "
   ]
  },
  {
   "cell_type": "code",
   "execution_count": 6,
   "id": "5d6eced4",
   "metadata": {
    "execution": {
     "iopub.execute_input": "2022-01-14T16:08:55.931909Z",
     "iopub.status.busy": "2022-01-14T16:08:55.930796Z",
     "iopub.status.idle": "2022-01-14T16:08:55.964689Z",
     "shell.execute_reply": "2022-01-14T16:08:55.964169Z"
    },
    "papermill": {
     "duration": 0.061141,
     "end_time": "2022-01-14T16:08:55.964802",
     "exception": false,
     "start_time": "2022-01-14T16:08:55.903661",
     "status": "completed"
    },
    "tags": []
   },
   "outputs": [
    {
     "name": "stdout",
     "output_type": "stream",
     "text": [
      "         X1        X2        X3        X4        X5        X6        X7        X8        X9       X10       X11       X12       X13         Y\n",
      "0 -0.419782  0.284830 -1.287909 -0.272599 -0.144217  0.413672 -0.120013  0.140214 -0.982843 -0.666608 -1.459000  0.441052 -1.075562  0.159686\n",
      "1 -0.417339 -0.487722 -0.593381 -0.272599 -0.740262  0.194274  0.367166  0.557160 -0.867883 -0.987329 -0.303094  0.441052 -0.492439 -0.101524\n",
      "2 -0.417342 -0.487722 -0.593381 -0.272599 -0.740262  1.282714 -0.265812  0.557160 -0.867883 -0.987329 -0.303094  0.396427 -1.208727  1.324247\n",
      "3 -0.416750 -0.487722 -1.306878 -0.272599 -0.835284  1.016303 -0.809889  1.077737 -0.752922 -1.106115  0.113032  0.416163 -1.361517  1.182758\n",
      "4 -0.412482 -0.487722 -1.306878 -0.272599 -0.835284  1.228577 -0.511180  1.077737 -0.752922 -1.106115  0.113032  0.441052 -1.026501  1.487503\n"
     ]
    }
   ],
   "source": [
    "X,Y = bostonDataset.boston_data()"
   ]
  },
  {
   "cell_type": "code",
   "execution_count": 7,
   "id": "fe007438",
   "metadata": {
    "execution": {
     "iopub.execute_input": "2022-01-14T16:08:56.019632Z",
     "iopub.status.busy": "2022-01-14T16:08:56.018677Z",
     "iopub.status.idle": "2022-01-14T16:08:56.021561Z",
     "shell.execute_reply": "2022-01-14T16:08:56.020979Z"
    },
    "papermill": {
     "duration": 0.031817,
     "end_time": "2022-01-14T16:08:56.021683",
     "exception": false,
     "start_time": "2022-01-14T16:08:55.989866",
     "status": "completed"
    },
    "tags": []
   },
   "outputs": [],
   "source": [
    "#Train test split for dataset \n",
    "X_train,X_test,Y_train,Y_test = train_test_split(X,Y,test_size = 0.2)\n",
    "train_data = dataset.CustomDataset(X_train,Y_train)\n",
    "test_data = dataset.CustomDataset(X_test,Y_test)\n"
   ]
  },
  {
   "cell_type": "markdown",
   "id": "a9a1af34",
   "metadata": {
    "papermill": {
     "duration": 0.025939,
     "end_time": "2022-01-14T16:08:56.092672",
     "exception": false,
     "start_time": "2022-01-14T16:08:56.066733",
     "status": "completed"
    },
    "tags": []
   },
   "source": [
    "## Training Parameters \n",
    "\n"
   ]
  },
  {
   "cell_type": "code",
   "execution_count": 8,
   "id": "952b7fc8",
   "metadata": {
    "execution": {
     "iopub.execute_input": "2022-01-14T16:08:56.167643Z",
     "iopub.status.busy": "2022-01-14T16:08:56.166544Z",
     "iopub.status.idle": "2022-01-14T16:08:56.169707Z",
     "shell.execute_reply": "2022-01-14T16:08:56.168979Z"
    },
    "papermill": {
     "duration": 0.052195,
     "end_time": "2022-01-14T16:08:56.169849",
     "exception": false,
     "start_time": "2022-01-14T16:08:56.117654",
     "status": "completed"
    },
    "tags": []
   },
   "outputs": [],
   "source": [
    "batch_size = 64\n",
    "n_epochs = 5000\n",
    "#Select the device \n",
    "device = torch.device('cuda' if torch.cuda.is_available() else 'cpu')"
   ]
  },
  {
   "cell_type": "markdown",
   "id": "a95e1600",
   "metadata": {
    "papermill": {
     "duration": 0.025169,
     "end_time": "2022-01-14T16:08:56.221169",
     "exception": false,
     "start_time": "2022-01-14T16:08:56.196000",
     "status": "completed"
    },
    "tags": []
   },
   "source": [
    "# ABC Pre-generator Model \n",
    "\n",
    "1. The catboost model is used as a pre-generator model for the ABC-GAN. \n",
    "2. The model is first trained on the train dataset \n",
    "3. It generats X,Y pairs and we add some Gaussian noise with mean 0 and variance V (1,0.01,0.1) to it which is then feed as input to the generator.\n"
   ]
  },
  {
   "cell_type": "code",
   "execution_count": 9,
   "id": "ff8ce7bd",
   "metadata": {
    "execution": {
     "iopub.execute_input": "2022-01-14T16:08:56.289209Z",
     "iopub.status.busy": "2022-01-14T16:08:56.288105Z",
     "iopub.status.idle": "2022-01-14T16:08:57.970746Z",
     "shell.execute_reply": "2022-01-14T16:08:57.971195Z"
    },
    "papermill": {
     "duration": 1.725095,
     "end_time": "2022-01-14T16:08:57.971364",
     "exception": false,
     "start_time": "2022-01-14T16:08:56.246269",
     "status": "completed"
    },
    "tags": []
   },
   "outputs": [
    {
     "name": "stdout",
     "output_type": "stream",
     "text": [
      "Learning rate set to 0.03548\n",
      "0:\tlearn: 0.9527262\ttotal: 48ms\tremaining: 48s\n",
      "1:\tlearn: 0.9321088\ttotal: 49.1ms\tremaining: 24.5s\n",
      "2:\tlearn: 0.9121148\ttotal: 50.4ms\tremaining: 16.8s\n",
      "3:\tlearn: 0.8954764\ttotal: 51.5ms\tremaining: 12.8s\n",
      "4:\tlearn: 0.8787232\ttotal: 52.6ms\tremaining: 10.5s\n",
      "5:\tlearn: 0.8618406\ttotal: 53.6ms\tremaining: 8.87s\n",
      "6:\tlearn: 0.8446903\ttotal: 54.6ms\tremaining: 7.75s\n",
      "7:\tlearn: 0.8279969\ttotal: 55.5ms\tremaining: 6.88s\n",
      "8:\tlearn: 0.8121864\ttotal: 56.4ms\tremaining: 6.21s\n",
      "9:\tlearn: 0.7949349\ttotal: 57.4ms\tremaining: 5.68s\n",
      "10:\tlearn: 0.7800460\ttotal: 58.6ms\tremaining: 5.27s\n",
      "11:\tlearn: 0.7645048\ttotal: 59.6ms\tremaining: 4.91s\n",
      "12:\tlearn: 0.7495937\ttotal: 60.6ms\tremaining: 4.6s\n",
      "13:\tlearn: 0.7351107\ttotal: 61.6ms\tremaining: 4.34s\n",
      "14:\tlearn: 0.7225791\ttotal: 62.6ms\tremaining: 4.11s\n",
      "15:\tlearn: 0.7079371\ttotal: 63.5ms\tremaining: 3.91s\n",
      "16:\tlearn: 0.6958579\ttotal: 64.6ms\tremaining: 3.74s\n",
      "17:\tlearn: 0.6828814\ttotal: 65.6ms\tremaining: 3.58s\n",
      "18:\tlearn: 0.6705847\ttotal: 66.6ms\tremaining: 3.44s\n",
      "19:\tlearn: 0.6579648\ttotal: 67.5ms\tremaining: 3.31s\n",
      "20:\tlearn: 0.6451064\ttotal: 68.6ms\tremaining: 3.2s\n",
      "21:\tlearn: 0.6334323\ttotal: 69.6ms\tremaining: 3.09s\n",
      "22:\tlearn: 0.6244457\ttotal: 70.6ms\tremaining: 3s\n",
      "23:\tlearn: 0.6153544\ttotal: 71.6ms\tremaining: 2.91s\n",
      "24:\tlearn: 0.6052524\ttotal: 72.6ms\tremaining: 2.83s\n",
      "25:\tlearn: 0.5972237\ttotal: 73.6ms\tremaining: 2.76s\n",
      "26:\tlearn: 0.5889068\ttotal: 74.6ms\tremaining: 2.69s\n",
      "27:\tlearn: 0.5807903\ttotal: 75.9ms\tremaining: 2.63s\n",
      "28:\tlearn: 0.5714117\ttotal: 76.8ms\tremaining: 2.57s\n",
      "29:\tlearn: 0.5621123\ttotal: 77.9ms\tremaining: 2.52s\n",
      "30:\tlearn: 0.5523492\ttotal: 78.8ms\tremaining: 2.46s\n",
      "31:\tlearn: 0.5445395\ttotal: 79.8ms\tremaining: 2.41s\n",
      "32:\tlearn: 0.5381507\ttotal: 80.7ms\tremaining: 2.37s\n",
      "33:\tlearn: 0.5310325\ttotal: 81.8ms\tremaining: 2.32s\n",
      "34:\tlearn: 0.5240037\ttotal: 82.8ms\tremaining: 2.28s\n",
      "35:\tlearn: 0.5168223\ttotal: 83.7ms\tremaining: 2.24s\n",
      "36:\tlearn: 0.5105244\ttotal: 84.6ms\tremaining: 2.2s\n",
      "37:\tlearn: 0.5040286\ttotal: 85.7ms\tremaining: 2.17s\n",
      "38:\tlearn: 0.4975575\ttotal: 86.6ms\tremaining: 2.13s\n",
      "39:\tlearn: 0.4914370\ttotal: 87.6ms\tremaining: 2.1s\n",
      "40:\tlearn: 0.4865268\ttotal: 88.6ms\tremaining: 2.07s\n",
      "41:\tlearn: 0.4794829\ttotal: 89.5ms\tremaining: 2.04s\n",
      "42:\tlearn: 0.4747366\ttotal: 90.6ms\tremaining: 2.02s\n",
      "43:\tlearn: 0.4703206\ttotal: 91.6ms\tremaining: 1.99s\n",
      "44:\tlearn: 0.4651825\ttotal: 92.6ms\tremaining: 1.97s\n",
      "45:\tlearn: 0.4594053\ttotal: 93.6ms\tremaining: 1.94s\n",
      "46:\tlearn: 0.4550480\ttotal: 94.6ms\tremaining: 1.92s\n",
      "47:\tlearn: 0.4497799\ttotal: 95.5ms\tremaining: 1.89s\n",
      "48:\tlearn: 0.4445713\ttotal: 96.6ms\tremaining: 1.88s\n",
      "49:\tlearn: 0.4400818\ttotal: 97.6ms\tremaining: 1.85s\n",
      "50:\tlearn: 0.4351940\ttotal: 98.6ms\tremaining: 1.83s\n",
      "51:\tlearn: 0.4310032\ttotal: 99.7ms\tremaining: 1.82s\n",
      "52:\tlearn: 0.4266537\ttotal: 101ms\tremaining: 1.8s\n",
      "53:\tlearn: 0.4234941\ttotal: 101ms\tremaining: 1.78s\n",
      "54:\tlearn: 0.4190276\ttotal: 102ms\tremaining: 1.76s\n",
      "55:\tlearn: 0.4158349\ttotal: 103ms\tremaining: 1.74s\n",
      "56:\tlearn: 0.4121265\ttotal: 105ms\tremaining: 1.73s\n",
      "57:\tlearn: 0.4082325\ttotal: 106ms\tremaining: 1.72s\n",
      "58:\tlearn: 0.4049839\ttotal: 107ms\tremaining: 1.7s\n",
      "59:\tlearn: 0.4022025\ttotal: 108ms\tremaining: 1.69s\n",
      "60:\tlearn: 0.3975762\ttotal: 109ms\tremaining: 1.67s\n",
      "61:\tlearn: 0.3941440\ttotal: 110ms\tremaining: 1.66s\n",
      "62:\tlearn: 0.3912958\ttotal: 111ms\tremaining: 1.65s\n",
      "63:\tlearn: 0.3881381\ttotal: 112ms\tremaining: 1.64s\n",
      "64:\tlearn: 0.3853210\ttotal: 113ms\tremaining: 1.63s\n",
      "65:\tlearn: 0.3820980\ttotal: 114ms\tremaining: 1.61s\n",
      "66:\tlearn: 0.3791012\ttotal: 115ms\tremaining: 1.6s\n",
      "67:\tlearn: 0.3759812\ttotal: 117ms\tremaining: 1.6s\n",
      "68:\tlearn: 0.3732541\ttotal: 119ms\tremaining: 1.6s\n",
      "69:\tlearn: 0.3709775\ttotal: 120ms\tremaining: 1.59s\n",
      "70:\tlearn: 0.3675540\ttotal: 121ms\tremaining: 1.59s\n",
      "71:\tlearn: 0.3638145\ttotal: 124ms\tremaining: 1.59s\n",
      "72:\tlearn: 0.3611173\ttotal: 125ms\tremaining: 1.59s\n",
      "73:\tlearn: 0.3581077\ttotal: 126ms\tremaining: 1.58s\n",
      "74:\tlearn: 0.3554820\ttotal: 127ms\tremaining: 1.57s\n",
      "75:\tlearn: 0.3531107\ttotal: 129ms\tremaining: 1.56s\n",
      "76:\tlearn: 0.3499770\ttotal: 130ms\tremaining: 1.55s\n",
      "77:\tlearn: 0.3475514\ttotal: 131ms\tremaining: 1.54s\n",
      "78:\tlearn: 0.3456708\ttotal: 132ms\tremaining: 1.53s\n",
      "79:\tlearn: 0.3436424\ttotal: 133ms\tremaining: 1.52s\n",
      "80:\tlearn: 0.3416131\ttotal: 134ms\tremaining: 1.52s\n",
      "81:\tlearn: 0.3395268\ttotal: 135ms\tremaining: 1.51s\n",
      "82:\tlearn: 0.3380677\ttotal: 136ms\tremaining: 1.5s\n",
      "83:\tlearn: 0.3361170\ttotal: 137ms\tremaining: 1.49s\n"
     ]
    },
    {
     "name": "stdout",
     "output_type": "stream",
     "text": [
      "84:\tlearn: 0.3341122\ttotal: 139ms\tremaining: 1.49s\n",
      "85:\tlearn: 0.3336501\ttotal: 140ms\tremaining: 1.49s\n",
      "86:\tlearn: 0.3323652\ttotal: 141ms\tremaining: 1.48s\n",
      "87:\tlearn: 0.3303009\ttotal: 142ms\tremaining: 1.47s\n",
      "88:\tlearn: 0.3285877\ttotal: 143ms\tremaining: 1.46s\n",
      "89:\tlearn: 0.3263923\ttotal: 144ms\tremaining: 1.46s\n",
      "90:\tlearn: 0.3243860\ttotal: 145ms\tremaining: 1.45s\n",
      "91:\tlearn: 0.3229759\ttotal: 146ms\tremaining: 1.44s\n",
      "92:\tlearn: 0.3213409\ttotal: 147ms\tremaining: 1.43s\n",
      "93:\tlearn: 0.3196442\ttotal: 148ms\tremaining: 1.43s\n",
      "94:\tlearn: 0.3175407\ttotal: 149ms\tremaining: 1.42s\n",
      "95:\tlearn: 0.3171298\ttotal: 151ms\tremaining: 1.42s\n",
      "96:\tlearn: 0.3159075\ttotal: 152ms\tremaining: 1.41s\n",
      "97:\tlearn: 0.3146869\ttotal: 153ms\tremaining: 1.41s\n",
      "98:\tlearn: 0.3131594\ttotal: 154ms\tremaining: 1.4s\n",
      "99:\tlearn: 0.3119302\ttotal: 155ms\tremaining: 1.39s\n",
      "100:\tlearn: 0.3102694\ttotal: 156ms\tremaining: 1.39s\n",
      "101:\tlearn: 0.3085758\ttotal: 157ms\tremaining: 1.38s\n",
      "102:\tlearn: 0.3073106\ttotal: 158ms\tremaining: 1.37s\n",
      "103:\tlearn: 0.3059266\ttotal: 159ms\tremaining: 1.37s\n",
      "104:\tlearn: 0.3045098\ttotal: 160ms\tremaining: 1.36s\n",
      "105:\tlearn: 0.3028436\ttotal: 161ms\tremaining: 1.36s\n",
      "106:\tlearn: 0.3012895\ttotal: 162ms\tremaining: 1.35s\n",
      "107:\tlearn: 0.2997968\ttotal: 163ms\tremaining: 1.34s\n",
      "108:\tlearn: 0.2981357\ttotal: 164ms\tremaining: 1.34s\n",
      "109:\tlearn: 0.2971896\ttotal: 165ms\tremaining: 1.33s\n",
      "110:\tlearn: 0.2958608\ttotal: 166ms\tremaining: 1.33s\n",
      "111:\tlearn: 0.2952075\ttotal: 167ms\tremaining: 1.32s\n",
      "112:\tlearn: 0.2940778\ttotal: 168ms\tremaining: 1.31s\n",
      "113:\tlearn: 0.2928284\ttotal: 169ms\tremaining: 1.31s\n",
      "114:\tlearn: 0.2918194\ttotal: 169ms\tremaining: 1.3s\n",
      "115:\tlearn: 0.2905685\ttotal: 170ms\tremaining: 1.3s\n",
      "116:\tlearn: 0.2893123\ttotal: 171ms\tremaining: 1.29s\n",
      "117:\tlearn: 0.2880643\ttotal: 172ms\tremaining: 1.29s\n",
      "118:\tlearn: 0.2873752\ttotal: 173ms\tremaining: 1.28s\n",
      "119:\tlearn: 0.2864579\ttotal: 174ms\tremaining: 1.28s\n",
      "120:\tlearn: 0.2850549\ttotal: 175ms\tremaining: 1.27s\n",
      "121:\tlearn: 0.2838076\ttotal: 176ms\tremaining: 1.27s\n",
      "122:\tlearn: 0.2825101\ttotal: 177ms\tremaining: 1.26s\n",
      "123:\tlearn: 0.2811518\ttotal: 178ms\tremaining: 1.26s\n",
      "124:\tlearn: 0.2805961\ttotal: 180ms\tremaining: 1.26s\n",
      "125:\tlearn: 0.2793892\ttotal: 181ms\tremaining: 1.25s\n",
      "126:\tlearn: 0.2781330\ttotal: 182ms\tremaining: 1.25s\n",
      "127:\tlearn: 0.2775515\ttotal: 183ms\tremaining: 1.24s\n",
      "128:\tlearn: 0.2763630\ttotal: 184ms\tremaining: 1.24s\n",
      "129:\tlearn: 0.2756111\ttotal: 185ms\tremaining: 1.24s\n",
      "130:\tlearn: 0.2747795\ttotal: 186ms\tremaining: 1.23s\n",
      "131:\tlearn: 0.2739201\ttotal: 187ms\tremaining: 1.23s\n",
      "132:\tlearn: 0.2728783\ttotal: 187ms\tremaining: 1.22s\n",
      "133:\tlearn: 0.2719224\ttotal: 188ms\tremaining: 1.22s\n",
      "134:\tlearn: 0.2708105\ttotal: 189ms\tremaining: 1.21s\n",
      "135:\tlearn: 0.2701818\ttotal: 190ms\tremaining: 1.21s\n",
      "136:\tlearn: 0.2696037\ttotal: 191ms\tremaining: 1.21s\n",
      "137:\tlearn: 0.2684393\ttotal: 193ms\tremaining: 1.2s\n",
      "138:\tlearn: 0.2671561\ttotal: 193ms\tremaining: 1.2s\n",
      "139:\tlearn: 0.2663646\ttotal: 195ms\tremaining: 1.19s\n",
      "140:\tlearn: 0.2654163\ttotal: 196ms\tremaining: 1.19s\n",
      "141:\tlearn: 0.2649264\ttotal: 197ms\tremaining: 1.19s\n",
      "142:\tlearn: 0.2637085\ttotal: 198ms\tremaining: 1.18s\n",
      "143:\tlearn: 0.2630874\ttotal: 199ms\tremaining: 1.18s\n",
      "144:\tlearn: 0.2625449\ttotal: 200ms\tremaining: 1.18s\n",
      "145:\tlearn: 0.2617106\ttotal: 201ms\tremaining: 1.17s\n",
      "146:\tlearn: 0.2605769\ttotal: 202ms\tremaining: 1.17s\n",
      "147:\tlearn: 0.2596898\ttotal: 203ms\tremaining: 1.17s\n",
      "148:\tlearn: 0.2589176\ttotal: 204ms\tremaining: 1.16s\n",
      "149:\tlearn: 0.2582730\ttotal: 205ms\tremaining: 1.16s\n",
      "150:\tlearn: 0.2575841\ttotal: 206ms\tremaining: 1.16s\n",
      "151:\tlearn: 0.2566760\ttotal: 207ms\tremaining: 1.15s\n",
      "152:\tlearn: 0.2561597\ttotal: 208ms\tremaining: 1.15s\n",
      "153:\tlearn: 0.2557905\ttotal: 209ms\tremaining: 1.15s\n",
      "154:\tlearn: 0.2552910\ttotal: 210ms\tremaining: 1.14s\n",
      "155:\tlearn: 0.2542840\ttotal: 211ms\tremaining: 1.14s\n",
      "156:\tlearn: 0.2534909\ttotal: 212ms\tremaining: 1.14s\n",
      "157:\tlearn: 0.2526981\ttotal: 213ms\tremaining: 1.13s\n",
      "158:\tlearn: 0.2521150\ttotal: 214ms\tremaining: 1.13s\n",
      "159:\tlearn: 0.2515582\ttotal: 215ms\tremaining: 1.13s\n",
      "160:\tlearn: 0.2510788\ttotal: 216ms\tremaining: 1.13s\n",
      "161:\tlearn: 0.2507999\ttotal: 217ms\tremaining: 1.12s\n",
      "162:\tlearn: 0.2502971\ttotal: 218ms\tremaining: 1.12s\n",
      "163:\tlearn: 0.2499873\ttotal: 219ms\tremaining: 1.11s\n",
      "164:\tlearn: 0.2492530\ttotal: 220ms\tremaining: 1.11s\n",
      "165:\tlearn: 0.2485996\ttotal: 221ms\tremaining: 1.11s\n",
      "166:\tlearn: 0.2480196\ttotal: 222ms\tremaining: 1.11s\n",
      "167:\tlearn: 0.2473750\ttotal: 224ms\tremaining: 1.11s\n",
      "168:\tlearn: 0.2469693\ttotal: 225ms\tremaining: 1.11s\n",
      "169:\tlearn: 0.2463149\ttotal: 226ms\tremaining: 1.1s\n",
      "170:\tlearn: 0.2457984\ttotal: 227ms\tremaining: 1.1s\n",
      "171:\tlearn: 0.2450932\ttotal: 228ms\tremaining: 1.1s\n",
      "172:\tlearn: 0.2443382\ttotal: 229ms\tremaining: 1.09s\n",
      "173:\tlearn: 0.2436101\ttotal: 230ms\tremaining: 1.09s\n",
      "174:\tlearn: 0.2426778\ttotal: 231ms\tremaining: 1.09s\n",
      "175:\tlearn: 0.2423497\ttotal: 232ms\tremaining: 1.09s\n",
      "176:\tlearn: 0.2418227\ttotal: 233ms\tremaining: 1.08s\n",
      "177:\tlearn: 0.2412189\ttotal: 234ms\tremaining: 1.08s\n",
      "178:\tlearn: 0.2410584\ttotal: 235ms\tremaining: 1.08s\n",
      "179:\tlearn: 0.2406346\ttotal: 236ms\tremaining: 1.08s\n",
      "180:\tlearn: 0.2398405\ttotal: 237ms\tremaining: 1.07s\n",
      "181:\tlearn: 0.2395295\ttotal: 238ms\tremaining: 1.07s\n",
      "182:\tlearn: 0.2389853\ttotal: 239ms\tremaining: 1.07s\n",
      "183:\tlearn: 0.2382282\ttotal: 240ms\tremaining: 1.07s\n",
      "184:\tlearn: 0.2372595\ttotal: 241ms\tremaining: 1.06s\n",
      "185:\tlearn: 0.2369562\ttotal: 242ms\tremaining: 1.06s\n",
      "186:\tlearn: 0.2361378\ttotal: 243ms\tremaining: 1.06s\n",
      "187:\tlearn: 0.2359913\ttotal: 244ms\tremaining: 1.05s\n",
      "188:\tlearn: 0.2355566\ttotal: 245ms\tremaining: 1.05s\n",
      "189:\tlearn: 0.2348279\ttotal: 246ms\tremaining: 1.05s\n",
      "190:\tlearn: 0.2340805\ttotal: 247ms\tremaining: 1.05s\n",
      "191:\tlearn: 0.2335737\ttotal: 248ms\tremaining: 1.04s\n",
      "192:\tlearn: 0.2330727\ttotal: 249ms\tremaining: 1.04s\n",
      "193:\tlearn: 0.2323759\ttotal: 251ms\tremaining: 1.04s\n",
      "194:\tlearn: 0.2317251\ttotal: 252ms\tremaining: 1.04s\n",
      "195:\tlearn: 0.2315439\ttotal: 253ms\tremaining: 1.04s\n",
      "196:\tlearn: 0.2310707\ttotal: 254ms\tremaining: 1.03s\n",
      "197:\tlearn: 0.2304009\ttotal: 255ms\tremaining: 1.03s\n",
      "198:\tlearn: 0.2298097\ttotal: 256ms\tremaining: 1.03s\n",
      "199:\tlearn: 0.2294337\ttotal: 257ms\tremaining: 1.03s\n",
      "200:\tlearn: 0.2292012\ttotal: 258ms\tremaining: 1.02s\n",
      "201:\tlearn: 0.2285111\ttotal: 259ms\tremaining: 1.02s\n",
      "202:\tlearn: 0.2277485\ttotal: 260ms\tremaining: 1.02s\n",
      "203:\tlearn: 0.2269695\ttotal: 261ms\tremaining: 1.02s\n",
      "204:\tlearn: 0.2265536\ttotal: 262ms\tremaining: 1.02s\n",
      "205:\tlearn: 0.2259484\ttotal: 263ms\tremaining: 1.01s\n",
      "206:\tlearn: 0.2251746\ttotal: 264ms\tremaining: 1.01s\n",
      "207:\tlearn: 0.2245088\ttotal: 265ms\tremaining: 1.01s\n",
      "208:\tlearn: 0.2241893\ttotal: 266ms\tremaining: 1.01s\n",
      "209:\tlearn: 0.2235653\ttotal: 268ms\tremaining: 1.01s\n",
      "210:\tlearn: 0.2230227\ttotal: 268ms\tremaining: 1s\n",
      "211:\tlearn: 0.2224398\ttotal: 269ms\tremaining: 1s\n",
      "212:\tlearn: 0.2218418\ttotal: 271ms\tremaining: 1000ms\n",
      "213:\tlearn: 0.2211335\ttotal: 272ms\tremaining: 998ms\n",
      "214:\tlearn: 0.2210114\ttotal: 273ms\tremaining: 996ms\n"
     ]
    },
    {
     "name": "stdout",
     "output_type": "stream",
     "text": [
      "215:\tlearn: 0.2206393\ttotal: 274ms\tremaining: 994ms\n",
      "216:\tlearn: 0.2199469\ttotal: 275ms\tremaining: 992ms\n",
      "217:\tlearn: 0.2196213\ttotal: 276ms\tremaining: 990ms\n",
      "218:\tlearn: 0.2191385\ttotal: 277ms\tremaining: 988ms\n",
      "219:\tlearn: 0.2183776\ttotal: 278ms\tremaining: 986ms\n",
      "220:\tlearn: 0.2177989\ttotal: 279ms\tremaining: 984ms\n",
      "221:\tlearn: 0.2173475\ttotal: 280ms\tremaining: 982ms\n",
      "222:\tlearn: 0.2171868\ttotal: 281ms\tremaining: 980ms\n",
      "223:\tlearn: 0.2163980\ttotal: 282ms\tremaining: 977ms\n",
      "224:\tlearn: 0.2158951\ttotal: 283ms\tremaining: 976ms\n",
      "225:\tlearn: 0.2151356\ttotal: 284ms\tremaining: 974ms\n",
      "226:\tlearn: 0.2148640\ttotal: 285ms\tremaining: 972ms\n",
      "227:\tlearn: 0.2144032\ttotal: 286ms\tremaining: 969ms\n",
      "228:\tlearn: 0.2140009\ttotal: 287ms\tremaining: 967ms\n",
      "229:\tlearn: 0.2139137\ttotal: 288ms\tremaining: 965ms\n",
      "230:\tlearn: 0.2134411\ttotal: 289ms\tremaining: 963ms\n",
      "231:\tlearn: 0.2127620\ttotal: 290ms\tremaining: 962ms\n",
      "232:\tlearn: 0.2121291\ttotal: 291ms\tremaining: 960ms\n",
      "233:\tlearn: 0.2118392\ttotal: 292ms\tremaining: 957ms\n",
      "234:\tlearn: 0.2116694\ttotal: 294ms\tremaining: 956ms\n",
      "235:\tlearn: 0.2114374\ttotal: 295ms\tremaining: 954ms\n",
      "236:\tlearn: 0.2107247\ttotal: 296ms\tremaining: 952ms\n",
      "237:\tlearn: 0.2101434\ttotal: 297ms\tremaining: 950ms\n",
      "238:\tlearn: 0.2096158\ttotal: 298ms\tremaining: 948ms\n",
      "239:\tlearn: 0.2091977\ttotal: 299ms\tremaining: 947ms\n",
      "240:\tlearn: 0.2085213\ttotal: 300ms\tremaining: 945ms\n",
      "241:\tlearn: 0.2083183\ttotal: 301ms\tremaining: 943ms\n",
      "242:\tlearn: 0.2077454\ttotal: 302ms\tremaining: 941ms\n",
      "243:\tlearn: 0.2073965\ttotal: 303ms\tremaining: 940ms\n",
      "244:\tlearn: 0.2068288\ttotal: 304ms\tremaining: 938ms\n",
      "245:\tlearn: 0.2065064\ttotal: 305ms\tremaining: 936ms\n",
      "246:\tlearn: 0.2059267\ttotal: 306ms\tremaining: 934ms\n",
      "247:\tlearn: 0.2054321\ttotal: 307ms\tremaining: 931ms\n",
      "248:\tlearn: 0.2049061\ttotal: 308ms\tremaining: 930ms\n",
      "249:\tlearn: 0.2042475\ttotal: 309ms\tremaining: 928ms\n",
      "250:\tlearn: 0.2036831\ttotal: 311ms\tremaining: 927ms\n",
      "251:\tlearn: 0.2032573\ttotal: 312ms\tremaining: 925ms\n",
      "252:\tlearn: 0.2028561\ttotal: 313ms\tremaining: 923ms\n",
      "253:\tlearn: 0.2026004\ttotal: 314ms\tremaining: 922ms\n",
      "254:\tlearn: 0.2019743\ttotal: 315ms\tremaining: 921ms\n",
      "255:\tlearn: 0.2014243\ttotal: 316ms\tremaining: 919ms\n",
      "256:\tlearn: 0.2010351\ttotal: 317ms\tremaining: 917ms\n",
      "257:\tlearn: 0.2007811\ttotal: 318ms\tremaining: 916ms\n",
      "258:\tlearn: 0.2000270\ttotal: 320ms\tremaining: 914ms\n",
      "259:\tlearn: 0.1995743\ttotal: 321ms\tremaining: 913ms\n",
      "260:\tlearn: 0.1992293\ttotal: 322ms\tremaining: 911ms\n",
      "261:\tlearn: 0.1989120\ttotal: 323ms\tremaining: 910ms\n",
      "262:\tlearn: 0.1984360\ttotal: 324ms\tremaining: 909ms\n",
      "263:\tlearn: 0.1978979\ttotal: 325ms\tremaining: 907ms\n",
      "264:\tlearn: 0.1975285\ttotal: 326ms\tremaining: 906ms\n",
      "265:\tlearn: 0.1970200\ttotal: 328ms\tremaining: 904ms\n",
      "266:\tlearn: 0.1966928\ttotal: 329ms\tremaining: 902ms\n",
      "267:\tlearn: 0.1963759\ttotal: 330ms\tremaining: 900ms\n",
      "268:\tlearn: 0.1961989\ttotal: 331ms\tremaining: 899ms\n",
      "269:\tlearn: 0.1956337\ttotal: 332ms\tremaining: 897ms\n",
      "270:\tlearn: 0.1951464\ttotal: 333ms\tremaining: 895ms\n",
      "271:\tlearn: 0.1944150\ttotal: 334ms\tremaining: 894ms\n",
      "272:\tlearn: 0.1941447\ttotal: 335ms\tremaining: 892ms\n",
      "273:\tlearn: 0.1935842\ttotal: 336ms\tremaining: 891ms\n",
      "274:\tlearn: 0.1932720\ttotal: 337ms\tremaining: 889ms\n",
      "275:\tlearn: 0.1927167\ttotal: 338ms\tremaining: 888ms\n",
      "276:\tlearn: 0.1923749\ttotal: 339ms\tremaining: 886ms\n",
      "277:\tlearn: 0.1916587\ttotal: 340ms\tremaining: 884ms\n",
      "278:\tlearn: 0.1911953\ttotal: 341ms\tremaining: 882ms\n",
      "279:\tlearn: 0.1906379\ttotal: 343ms\tremaining: 881ms\n",
      "280:\tlearn: 0.1902114\ttotal: 344ms\tremaining: 879ms\n",
      "281:\tlearn: 0.1898613\ttotal: 345ms\tremaining: 878ms\n",
      "282:\tlearn: 0.1893359\ttotal: 346ms\tremaining: 876ms\n",
      "283:\tlearn: 0.1888744\ttotal: 347ms\tremaining: 875ms\n",
      "284:\tlearn: 0.1882390\ttotal: 348ms\tremaining: 873ms\n",
      "285:\tlearn: 0.1875936\ttotal: 349ms\tremaining: 872ms\n",
      "286:\tlearn: 0.1873704\ttotal: 350ms\tremaining: 870ms\n",
      "287:\tlearn: 0.1869011\ttotal: 351ms\tremaining: 868ms\n",
      "288:\tlearn: 0.1862634\ttotal: 352ms\tremaining: 867ms\n",
      "289:\tlearn: 0.1858834\ttotal: 353ms\tremaining: 865ms\n",
      "290:\tlearn: 0.1857515\ttotal: 354ms\tremaining: 864ms\n",
      "291:\tlearn: 0.1852153\ttotal: 355ms\tremaining: 862ms\n",
      "292:\tlearn: 0.1846283\ttotal: 356ms\tremaining: 860ms\n",
      "293:\tlearn: 0.1842357\ttotal: 357ms\tremaining: 858ms\n",
      "294:\tlearn: 0.1834083\ttotal: 358ms\tremaining: 857ms\n",
      "295:\tlearn: 0.1831413\ttotal: 360ms\tremaining: 855ms\n",
      "296:\tlearn: 0.1827281\ttotal: 361ms\tremaining: 854ms\n",
      "297:\tlearn: 0.1824696\ttotal: 362ms\tremaining: 852ms\n",
      "298:\tlearn: 0.1819267\ttotal: 363ms\tremaining: 850ms\n",
      "299:\tlearn: 0.1814330\ttotal: 363ms\tremaining: 848ms\n",
      "300:\tlearn: 0.1809309\ttotal: 365ms\tremaining: 847ms\n",
      "301:\tlearn: 0.1806654\ttotal: 366ms\tremaining: 845ms\n",
      "302:\tlearn: 0.1800026\ttotal: 367ms\tremaining: 844ms\n",
      "303:\tlearn: 0.1794852\ttotal: 368ms\tremaining: 842ms\n",
      "304:\tlearn: 0.1789383\ttotal: 369ms\tremaining: 840ms\n",
      "305:\tlearn: 0.1785339\ttotal: 370ms\tremaining: 839ms\n",
      "306:\tlearn: 0.1784466\ttotal: 371ms\tremaining: 837ms\n",
      "307:\tlearn: 0.1779913\ttotal: 372ms\tremaining: 836ms\n",
      "308:\tlearn: 0.1775226\ttotal: 373ms\tremaining: 834ms\n",
      "309:\tlearn: 0.1772338\ttotal: 374ms\tremaining: 832ms\n",
      "310:\tlearn: 0.1770925\ttotal: 375ms\tremaining: 831ms\n",
      "311:\tlearn: 0.1766343\ttotal: 376ms\tremaining: 829ms\n",
      "312:\tlearn: 0.1762105\ttotal: 377ms\tremaining: 828ms\n",
      "313:\tlearn: 0.1760299\ttotal: 378ms\tremaining: 826ms\n",
      "314:\tlearn: 0.1756115\ttotal: 379ms\tremaining: 825ms\n",
      "315:\tlearn: 0.1752391\ttotal: 380ms\tremaining: 823ms\n",
      "316:\tlearn: 0.1749246\ttotal: 381ms\tremaining: 822ms\n",
      "317:\tlearn: 0.1747323\ttotal: 382ms\tremaining: 820ms\n",
      "318:\tlearn: 0.1745066\ttotal: 383ms\tremaining: 818ms\n",
      "319:\tlearn: 0.1741300\ttotal: 384ms\tremaining: 817ms\n",
      "320:\tlearn: 0.1735149\ttotal: 385ms\tremaining: 815ms\n",
      "321:\tlearn: 0.1732166\ttotal: 386ms\tremaining: 814ms\n",
      "322:\tlearn: 0.1728845\ttotal: 388ms\tremaining: 812ms\n",
      "323:\tlearn: 0.1727610\ttotal: 389ms\tremaining: 811ms\n",
      "324:\tlearn: 0.1724479\ttotal: 390ms\tremaining: 809ms\n",
      "325:\tlearn: 0.1720945\ttotal: 391ms\tremaining: 808ms\n",
      "326:\tlearn: 0.1715817\ttotal: 392ms\tremaining: 806ms\n",
      "327:\tlearn: 0.1710878\ttotal: 393ms\tremaining: 804ms\n",
      "328:\tlearn: 0.1704636\ttotal: 394ms\tremaining: 803ms\n",
      "329:\tlearn: 0.1697887\ttotal: 395ms\tremaining: 801ms\n",
      "330:\tlearn: 0.1694599\ttotal: 396ms\tremaining: 800ms\n",
      "331:\tlearn: 0.1690148\ttotal: 397ms\tremaining: 798ms\n",
      "332:\tlearn: 0.1685159\ttotal: 398ms\tremaining: 796ms\n",
      "333:\tlearn: 0.1680756\ttotal: 399ms\tremaining: 795ms\n",
      "334:\tlearn: 0.1677309\ttotal: 400ms\tremaining: 793ms\n",
      "335:\tlearn: 0.1671493\ttotal: 401ms\tremaining: 792ms\n",
      "336:\tlearn: 0.1668234\ttotal: 402ms\tremaining: 790ms\n",
      "337:\tlearn: 0.1666059\ttotal: 403ms\tremaining: 789ms\n",
      "338:\tlearn: 0.1664925\ttotal: 404ms\tremaining: 788ms\n",
      "339:\tlearn: 0.1663625\ttotal: 405ms\tremaining: 786ms\n",
      "340:\tlearn: 0.1659253\ttotal: 406ms\tremaining: 785ms\n",
      "341:\tlearn: 0.1653735\ttotal: 407ms\tremaining: 783ms\n",
      "342:\tlearn: 0.1648725\ttotal: 408ms\tremaining: 782ms\n",
      "343:\tlearn: 0.1643442\ttotal: 409ms\tremaining: 780ms\n"
     ]
    },
    {
     "name": "stdout",
     "output_type": "stream",
     "text": [
      "344:\tlearn: 0.1637418\ttotal: 410ms\tremaining: 778ms\n",
      "345:\tlearn: 0.1632480\ttotal: 411ms\tremaining: 777ms\n",
      "346:\tlearn: 0.1628516\ttotal: 412ms\tremaining: 776ms\n",
      "347:\tlearn: 0.1626640\ttotal: 413ms\tremaining: 774ms\n",
      "348:\tlearn: 0.1622937\ttotal: 414ms\tremaining: 773ms\n",
      "349:\tlearn: 0.1620255\ttotal: 415ms\tremaining: 771ms\n",
      "350:\tlearn: 0.1619553\ttotal: 416ms\tremaining: 769ms\n",
      "351:\tlearn: 0.1615597\ttotal: 417ms\tremaining: 768ms\n",
      "352:\tlearn: 0.1611388\ttotal: 418ms\tremaining: 766ms\n",
      "353:\tlearn: 0.1607334\ttotal: 419ms\tremaining: 764ms\n",
      "354:\tlearn: 0.1601496\ttotal: 420ms\tremaining: 763ms\n",
      "355:\tlearn: 0.1595825\ttotal: 421ms\tremaining: 762ms\n",
      "356:\tlearn: 0.1595151\ttotal: 422ms\tremaining: 760ms\n",
      "357:\tlearn: 0.1591504\ttotal: 423ms\tremaining: 758ms\n",
      "358:\tlearn: 0.1590381\ttotal: 424ms\tremaining: 757ms\n",
      "359:\tlearn: 0.1586760\ttotal: 425ms\tremaining: 755ms\n",
      "360:\tlearn: 0.1582586\ttotal: 426ms\tremaining: 754ms\n",
      "361:\tlearn: 0.1577818\ttotal: 427ms\tremaining: 752ms\n",
      "362:\tlearn: 0.1573106\ttotal: 428ms\tremaining: 751ms\n",
      "363:\tlearn: 0.1569829\ttotal: 429ms\tremaining: 749ms\n",
      "364:\tlearn: 0.1569026\ttotal: 430ms\tremaining: 748ms\n",
      "365:\tlearn: 0.1567107\ttotal: 431ms\tremaining: 746ms\n",
      "366:\tlearn: 0.1564108\ttotal: 432ms\tremaining: 745ms\n",
      "367:\tlearn: 0.1562028\ttotal: 433ms\tremaining: 743ms\n",
      "368:\tlearn: 0.1559356\ttotal: 434ms\tremaining: 742ms\n",
      "369:\tlearn: 0.1557391\ttotal: 435ms\tremaining: 740ms\n",
      "370:\tlearn: 0.1553768\ttotal: 436ms\tremaining: 739ms\n",
      "371:\tlearn: 0.1553166\ttotal: 437ms\tremaining: 737ms\n",
      "372:\tlearn: 0.1548845\ttotal: 438ms\tremaining: 736ms\n",
      "373:\tlearn: 0.1544489\ttotal: 439ms\tremaining: 734ms\n",
      "374:\tlearn: 0.1540313\ttotal: 440ms\tremaining: 733ms\n",
      "375:\tlearn: 0.1539653\ttotal: 441ms\tremaining: 731ms\n",
      "376:\tlearn: 0.1536249\ttotal: 442ms\tremaining: 730ms\n",
      "377:\tlearn: 0.1532476\ttotal: 443ms\tremaining: 728ms\n",
      "378:\tlearn: 0.1529937\ttotal: 443ms\tremaining: 727ms\n",
      "379:\tlearn: 0.1527441\ttotal: 445ms\tremaining: 725ms\n",
      "380:\tlearn: 0.1525575\ttotal: 446ms\tremaining: 724ms\n",
      "381:\tlearn: 0.1522332\ttotal: 447ms\tremaining: 723ms\n",
      "382:\tlearn: 0.1517970\ttotal: 448ms\tremaining: 721ms\n",
      "383:\tlearn: 0.1516772\ttotal: 449ms\tremaining: 720ms\n",
      "384:\tlearn: 0.1512486\ttotal: 450ms\tremaining: 719ms\n",
      "385:\tlearn: 0.1508446\ttotal: 451ms\tremaining: 717ms\n",
      "386:\tlearn: 0.1503326\ttotal: 452ms\tremaining: 716ms\n",
      "387:\tlearn: 0.1499896\ttotal: 453ms\tremaining: 715ms\n",
      "388:\tlearn: 0.1496949\ttotal: 454ms\tremaining: 713ms\n",
      "389:\tlearn: 0.1494479\ttotal: 455ms\tremaining: 712ms\n",
      "390:\tlearn: 0.1493347\ttotal: 456ms\tremaining: 710ms\n",
      "391:\tlearn: 0.1489382\ttotal: 457ms\tremaining: 709ms\n",
      "392:\tlearn: 0.1484202\ttotal: 458ms\tremaining: 707ms\n",
      "393:\tlearn: 0.1479749\ttotal: 459ms\tremaining: 706ms\n",
      "394:\tlearn: 0.1476527\ttotal: 460ms\tremaining: 705ms\n",
      "395:\tlearn: 0.1471543\ttotal: 461ms\tremaining: 703ms\n",
      "396:\tlearn: 0.1469573\ttotal: 462ms\tremaining: 702ms\n",
      "397:\tlearn: 0.1467617\ttotal: 463ms\tremaining: 701ms\n",
      "398:\tlearn: 0.1462626\ttotal: 464ms\tremaining: 700ms\n",
      "399:\tlearn: 0.1457880\ttotal: 466ms\tremaining: 698ms\n",
      "400:\tlearn: 0.1455670\ttotal: 467ms\tremaining: 697ms\n",
      "401:\tlearn: 0.1453507\ttotal: 468ms\tremaining: 696ms\n",
      "402:\tlearn: 0.1450314\ttotal: 469ms\tremaining: 695ms\n",
      "403:\tlearn: 0.1447112\ttotal: 470ms\tremaining: 693ms\n",
      "404:\tlearn: 0.1442106\ttotal: 471ms\tremaining: 692ms\n",
      "405:\tlearn: 0.1441240\ttotal: 472ms\tremaining: 691ms\n",
      "406:\tlearn: 0.1437074\ttotal: 473ms\tremaining: 690ms\n",
      "407:\tlearn: 0.1433898\ttotal: 474ms\tremaining: 688ms\n",
      "408:\tlearn: 0.1432589\ttotal: 475ms\tremaining: 687ms\n",
      "409:\tlearn: 0.1428823\ttotal: 476ms\tremaining: 685ms\n",
      "410:\tlearn: 0.1425253\ttotal: 477ms\tremaining: 684ms\n",
      "411:\tlearn: 0.1423141\ttotal: 478ms\tremaining: 683ms\n",
      "412:\tlearn: 0.1420269\ttotal: 479ms\tremaining: 681ms\n",
      "413:\tlearn: 0.1416601\ttotal: 481ms\tremaining: 680ms\n",
      "414:\tlearn: 0.1412932\ttotal: 482ms\tremaining: 679ms\n",
      "415:\tlearn: 0.1409844\ttotal: 483ms\tremaining: 678ms\n",
      "416:\tlearn: 0.1409347\ttotal: 484ms\tremaining: 676ms\n",
      "417:\tlearn: 0.1407825\ttotal: 485ms\tremaining: 675ms\n",
      "418:\tlearn: 0.1405513\ttotal: 486ms\tremaining: 674ms\n",
      "419:\tlearn: 0.1402937\ttotal: 487ms\tremaining: 672ms\n",
      "420:\tlearn: 0.1399955\ttotal: 488ms\tremaining: 671ms\n",
      "421:\tlearn: 0.1396383\ttotal: 489ms\tremaining: 670ms\n",
      "422:\tlearn: 0.1393134\ttotal: 490ms\tremaining: 668ms\n",
      "423:\tlearn: 0.1390630\ttotal: 491ms\tremaining: 667ms\n",
      "424:\tlearn: 0.1386995\ttotal: 492ms\tremaining: 666ms\n",
      "425:\tlearn: 0.1385650\ttotal: 493ms\tremaining: 664ms\n",
      "426:\tlearn: 0.1381742\ttotal: 494ms\tremaining: 663ms\n",
      "427:\tlearn: 0.1377838\ttotal: 495ms\tremaining: 662ms\n",
      "428:\tlearn: 0.1373733\ttotal: 496ms\tremaining: 660ms\n",
      "429:\tlearn: 0.1370987\ttotal: 497ms\tremaining: 659ms\n",
      "430:\tlearn: 0.1368005\ttotal: 498ms\tremaining: 657ms\n",
      "431:\tlearn: 0.1365691\ttotal: 499ms\tremaining: 656ms\n",
      "432:\tlearn: 0.1364038\ttotal: 500ms\tremaining: 655ms\n",
      "433:\tlearn: 0.1360392\ttotal: 501ms\tremaining: 653ms\n",
      "434:\tlearn: 0.1358092\ttotal: 502ms\tremaining: 652ms\n",
      "435:\tlearn: 0.1357337\ttotal: 503ms\tremaining: 651ms\n",
      "436:\tlearn: 0.1354785\ttotal: 504ms\tremaining: 650ms\n",
      "437:\tlearn: 0.1353385\ttotal: 505ms\tremaining: 648ms\n",
      "438:\tlearn: 0.1351916\ttotal: 506ms\tremaining: 647ms\n",
      "439:\tlearn: 0.1351201\ttotal: 507ms\tremaining: 646ms\n",
      "440:\tlearn: 0.1348736\ttotal: 508ms\tremaining: 644ms\n",
      "441:\tlearn: 0.1347317\ttotal: 509ms\tremaining: 643ms\n",
      "442:\tlearn: 0.1344583\ttotal: 510ms\tremaining: 642ms\n",
      "443:\tlearn: 0.1342912\ttotal: 511ms\tremaining: 640ms\n",
      "444:\tlearn: 0.1340694\ttotal: 512ms\tremaining: 639ms\n",
      "445:\tlearn: 0.1337229\ttotal: 513ms\tremaining: 638ms\n",
      "446:\tlearn: 0.1335068\ttotal: 514ms\tremaining: 636ms\n",
      "447:\tlearn: 0.1334571\ttotal: 516ms\tremaining: 635ms\n",
      "448:\tlearn: 0.1332072\ttotal: 517ms\tremaining: 634ms\n",
      "449:\tlearn: 0.1330690\ttotal: 518ms\tremaining: 633ms\n",
      "450:\tlearn: 0.1327582\ttotal: 519ms\tremaining: 631ms\n",
      "451:\tlearn: 0.1325046\ttotal: 520ms\tremaining: 630ms\n",
      "452:\tlearn: 0.1322133\ttotal: 521ms\tremaining: 629ms\n",
      "453:\tlearn: 0.1319562\ttotal: 522ms\tremaining: 627ms\n",
      "454:\tlearn: 0.1317034\ttotal: 523ms\tremaining: 626ms\n",
      "455:\tlearn: 0.1313225\ttotal: 524ms\tremaining: 625ms\n",
      "456:\tlearn: 0.1309840\ttotal: 524ms\tremaining: 623ms\n",
      "457:\tlearn: 0.1305707\ttotal: 525ms\tremaining: 622ms\n",
      "458:\tlearn: 0.1302792\ttotal: 526ms\tremaining: 620ms\n",
      "459:\tlearn: 0.1299987\ttotal: 528ms\tremaining: 619ms\n",
      "460:\tlearn: 0.1296474\ttotal: 529ms\tremaining: 618ms\n",
      "461:\tlearn: 0.1294432\ttotal: 530ms\tremaining: 617ms\n",
      "462:\tlearn: 0.1293579\ttotal: 531ms\tremaining: 616ms\n",
      "463:\tlearn: 0.1291865\ttotal: 532ms\tremaining: 614ms\n",
      "464:\tlearn: 0.1289872\ttotal: 533ms\tremaining: 613ms\n",
      "465:\tlearn: 0.1286431\ttotal: 534ms\tremaining: 612ms\n",
      "466:\tlearn: 0.1283326\ttotal: 535ms\tremaining: 610ms\n",
      "467:\tlearn: 0.1279862\ttotal: 536ms\tremaining: 609ms\n",
      "468:\tlearn: 0.1276862\ttotal: 537ms\tremaining: 608ms\n",
      "469:\tlearn: 0.1274955\ttotal: 538ms\tremaining: 606ms\n",
      "470:\tlearn: 0.1271758\ttotal: 539ms\tremaining: 605ms\n",
      "471:\tlearn: 0.1271548\ttotal: 540ms\tremaining: 604ms\n",
      "472:\tlearn: 0.1268871\ttotal: 541ms\tremaining: 603ms\n",
      "473:\tlearn: 0.1267970\ttotal: 542ms\tremaining: 602ms\n"
     ]
    },
    {
     "name": "stdout",
     "output_type": "stream",
     "text": [
      "474:\tlearn: 0.1264588\ttotal: 544ms\tremaining: 601ms\n",
      "475:\tlearn: 0.1261577\ttotal: 545ms\tremaining: 600ms\n",
      "476:\tlearn: 0.1258884\ttotal: 546ms\tremaining: 599ms\n",
      "477:\tlearn: 0.1255592\ttotal: 547ms\tremaining: 597ms\n",
      "478:\tlearn: 0.1252937\ttotal: 548ms\tremaining: 596ms\n",
      "479:\tlearn: 0.1249744\ttotal: 549ms\tremaining: 595ms\n",
      "480:\tlearn: 0.1248671\ttotal: 550ms\tremaining: 593ms\n",
      "481:\tlearn: 0.1245235\ttotal: 551ms\tremaining: 592ms\n",
      "482:\tlearn: 0.1245002\ttotal: 552ms\tremaining: 591ms\n",
      "483:\tlearn: 0.1242281\ttotal: 553ms\tremaining: 589ms\n",
      "484:\tlearn: 0.1239886\ttotal: 554ms\tremaining: 588ms\n",
      "485:\tlearn: 0.1236190\ttotal: 555ms\tremaining: 587ms\n",
      "486:\tlearn: 0.1233770\ttotal: 556ms\tremaining: 586ms\n",
      "487:\tlearn: 0.1229718\ttotal: 557ms\tremaining: 585ms\n",
      "488:\tlearn: 0.1227943\ttotal: 559ms\tremaining: 584ms\n",
      "489:\tlearn: 0.1226463\ttotal: 560ms\tremaining: 582ms\n",
      "490:\tlearn: 0.1226165\ttotal: 561ms\tremaining: 581ms\n",
      "491:\tlearn: 0.1223531\ttotal: 562ms\tremaining: 580ms\n",
      "492:\tlearn: 0.1220927\ttotal: 563ms\tremaining: 579ms\n",
      "493:\tlearn: 0.1218037\ttotal: 564ms\tremaining: 577ms\n",
      "494:\tlearn: 0.1216024\ttotal: 565ms\tremaining: 576ms\n",
      "495:\tlearn: 0.1212711\ttotal: 566ms\tremaining: 575ms\n",
      "496:\tlearn: 0.1209211\ttotal: 567ms\tremaining: 574ms\n",
      "497:\tlearn: 0.1207743\ttotal: 568ms\tremaining: 572ms\n",
      "498:\tlearn: 0.1204791\ttotal: 569ms\tremaining: 571ms\n",
      "499:\tlearn: 0.1202694\ttotal: 570ms\tremaining: 570ms\n",
      "500:\tlearn: 0.1202472\ttotal: 571ms\tremaining: 569ms\n",
      "501:\tlearn: 0.1202068\ttotal: 572ms\tremaining: 567ms\n",
      "502:\tlearn: 0.1200870\ttotal: 573ms\tremaining: 566ms\n",
      "503:\tlearn: 0.1198802\ttotal: 574ms\tremaining: 565ms\n",
      "504:\tlearn: 0.1198445\ttotal: 575ms\tremaining: 564ms\n",
      "505:\tlearn: 0.1197174\ttotal: 576ms\tremaining: 562ms\n",
      "506:\tlearn: 0.1196957\ttotal: 577ms\tremaining: 561ms\n",
      "507:\tlearn: 0.1194281\ttotal: 578ms\tremaining: 560ms\n",
      "508:\tlearn: 0.1191607\ttotal: 579ms\tremaining: 558ms\n",
      "509:\tlearn: 0.1187419\ttotal: 580ms\tremaining: 557ms\n",
      "510:\tlearn: 0.1184414\ttotal: 581ms\tremaining: 556ms\n",
      "511:\tlearn: 0.1181701\ttotal: 582ms\tremaining: 555ms\n",
      "512:\tlearn: 0.1177745\ttotal: 583ms\tremaining: 553ms\n",
      "513:\tlearn: 0.1174889\ttotal: 584ms\tremaining: 552ms\n",
      "514:\tlearn: 0.1171816\ttotal: 585ms\tremaining: 551ms\n",
      "515:\tlearn: 0.1169192\ttotal: 586ms\tremaining: 550ms\n",
      "516:\tlearn: 0.1167195\ttotal: 587ms\tremaining: 548ms\n",
      "517:\tlearn: 0.1165456\ttotal: 588ms\tremaining: 547ms\n",
      "518:\tlearn: 0.1165250\ttotal: 589ms\tremaining: 546ms\n",
      "519:\tlearn: 0.1161979\ttotal: 590ms\tremaining: 545ms\n",
      "520:\tlearn: 0.1158337\ttotal: 591ms\tremaining: 544ms\n",
      "521:\tlearn: 0.1156044\ttotal: 592ms\tremaining: 542ms\n",
      "522:\tlearn: 0.1153636\ttotal: 593ms\tremaining: 541ms\n",
      "523:\tlearn: 0.1150087\ttotal: 594ms\tremaining: 540ms\n",
      "524:\tlearn: 0.1148068\ttotal: 596ms\tremaining: 539ms\n",
      "525:\tlearn: 0.1147594\ttotal: 597ms\tremaining: 538ms\n",
      "526:\tlearn: 0.1145419\ttotal: 598ms\tremaining: 536ms\n",
      "527:\tlearn: 0.1142835\ttotal: 599ms\tremaining: 535ms\n",
      "528:\tlearn: 0.1140486\ttotal: 599ms\tremaining: 534ms\n",
      "529:\tlearn: 0.1139657\ttotal: 601ms\tremaining: 533ms\n",
      "530:\tlearn: 0.1136712\ttotal: 602ms\tremaining: 531ms\n",
      "531:\tlearn: 0.1135084\ttotal: 603ms\tremaining: 530ms\n",
      "532:\tlearn: 0.1134637\ttotal: 604ms\tremaining: 529ms\n",
      "533:\tlearn: 0.1131023\ttotal: 605ms\tremaining: 528ms\n",
      "534:\tlearn: 0.1128560\ttotal: 606ms\tremaining: 526ms\n",
      "535:\tlearn: 0.1126575\ttotal: 607ms\tremaining: 525ms\n",
      "536:\tlearn: 0.1123807\ttotal: 608ms\tremaining: 524ms\n",
      "537:\tlearn: 0.1120975\ttotal: 609ms\tremaining: 523ms\n",
      "538:\tlearn: 0.1120044\ttotal: 610ms\tremaining: 522ms\n",
      "539:\tlearn: 0.1118494\ttotal: 611ms\tremaining: 520ms\n",
      "540:\tlearn: 0.1115513\ttotal: 612ms\tremaining: 519ms\n",
      "541:\tlearn: 0.1112928\ttotal: 613ms\tremaining: 518ms\n",
      "542:\tlearn: 0.1110587\ttotal: 614ms\tremaining: 517ms\n",
      "543:\tlearn: 0.1108219\ttotal: 615ms\tremaining: 516ms\n",
      "544:\tlearn: 0.1106159\ttotal: 616ms\tremaining: 514ms\n",
      "545:\tlearn: 0.1103054\ttotal: 617ms\tremaining: 513ms\n",
      "546:\tlearn: 0.1100483\ttotal: 618ms\tremaining: 512ms\n",
      "547:\tlearn: 0.1099721\ttotal: 619ms\tremaining: 511ms\n",
      "548:\tlearn: 0.1098575\ttotal: 620ms\tremaining: 509ms\n",
      "549:\tlearn: 0.1096574\ttotal: 621ms\tremaining: 508ms\n",
      "550:\tlearn: 0.1094732\ttotal: 622ms\tremaining: 507ms\n",
      "551:\tlearn: 0.1093365\ttotal: 623ms\tremaining: 506ms\n",
      "552:\tlearn: 0.1092656\ttotal: 624ms\tremaining: 504ms\n",
      "553:\tlearn: 0.1091728\ttotal: 625ms\tremaining: 503ms\n",
      "554:\tlearn: 0.1089494\ttotal: 626ms\tremaining: 502ms\n",
      "555:\tlearn: 0.1087753\ttotal: 627ms\tremaining: 501ms\n",
      "556:\tlearn: 0.1086365\ttotal: 628ms\tremaining: 500ms\n",
      "557:\tlearn: 0.1083668\ttotal: 629ms\tremaining: 498ms\n",
      "558:\tlearn: 0.1081349\ttotal: 630ms\tremaining: 497ms\n",
      "559:\tlearn: 0.1078824\ttotal: 631ms\tremaining: 496ms\n",
      "560:\tlearn: 0.1076199\ttotal: 632ms\tremaining: 495ms\n",
      "561:\tlearn: 0.1075331\ttotal: 633ms\tremaining: 493ms\n",
      "562:\tlearn: 0.1075165\ttotal: 634ms\tremaining: 492ms\n",
      "563:\tlearn: 0.1072827\ttotal: 635ms\tremaining: 491ms\n",
      "564:\tlearn: 0.1070714\ttotal: 636ms\tremaining: 490ms\n",
      "565:\tlearn: 0.1069907\ttotal: 637ms\tremaining: 489ms\n",
      "566:\tlearn: 0.1067302\ttotal: 638ms\tremaining: 487ms\n",
      "567:\tlearn: 0.1066485\ttotal: 639ms\tremaining: 486ms\n",
      "568:\tlearn: 0.1065145\ttotal: 640ms\tremaining: 485ms\n",
      "569:\tlearn: 0.1062063\ttotal: 641ms\tremaining: 484ms\n",
      "570:\tlearn: 0.1060695\ttotal: 642ms\tremaining: 483ms\n",
      "571:\tlearn: 0.1059046\ttotal: 643ms\tremaining: 481ms\n",
      "572:\tlearn: 0.1057963\ttotal: 644ms\tremaining: 480ms\n",
      "573:\tlearn: 0.1055451\ttotal: 645ms\tremaining: 479ms\n",
      "574:\tlearn: 0.1053672\ttotal: 646ms\tremaining: 478ms\n",
      "575:\tlearn: 0.1051759\ttotal: 648ms\tremaining: 477ms\n",
      "576:\tlearn: 0.1049625\ttotal: 649ms\tremaining: 475ms\n",
      "577:\tlearn: 0.1047993\ttotal: 650ms\tremaining: 474ms\n",
      "578:\tlearn: 0.1047822\ttotal: 651ms\tremaining: 473ms\n",
      "579:\tlearn: 0.1046979\ttotal: 652ms\tremaining: 472ms\n",
      "580:\tlearn: 0.1046222\ttotal: 653ms\tremaining: 471ms\n",
      "581:\tlearn: 0.1045623\ttotal: 654ms\tremaining: 469ms\n",
      "582:\tlearn: 0.1043763\ttotal: 655ms\tremaining: 468ms\n",
      "583:\tlearn: 0.1041303\ttotal: 656ms\tremaining: 467ms\n",
      "584:\tlearn: 0.1039191\ttotal: 657ms\tremaining: 466ms\n",
      "585:\tlearn: 0.1037669\ttotal: 658ms\tremaining: 465ms\n",
      "586:\tlearn: 0.1037515\ttotal: 659ms\tremaining: 464ms\n",
      "587:\tlearn: 0.1036069\ttotal: 660ms\tremaining: 463ms\n",
      "588:\tlearn: 0.1033917\ttotal: 661ms\tremaining: 461ms\n",
      "589:\tlearn: 0.1031986\ttotal: 662ms\tremaining: 460ms\n",
      "590:\tlearn: 0.1031190\ttotal: 663ms\tremaining: 459ms\n",
      "591:\tlearn: 0.1028810\ttotal: 664ms\tremaining: 458ms\n",
      "592:\tlearn: 0.1028512\ttotal: 665ms\tremaining: 457ms\n",
      "593:\tlearn: 0.1027430\ttotal: 666ms\tremaining: 455ms\n",
      "594:\tlearn: 0.1025399\ttotal: 667ms\tremaining: 454ms\n",
      "595:\tlearn: 0.1025070\ttotal: 668ms\tremaining: 453ms\n",
      "596:\tlearn: 0.1024338\ttotal: 669ms\tremaining: 452ms\n",
      "597:\tlearn: 0.1022128\ttotal: 670ms\tremaining: 451ms\n"
     ]
    },
    {
     "name": "stdout",
     "output_type": "stream",
     "text": [
      "598:\tlearn: 0.1020835\ttotal: 672ms\tremaining: 450ms\n",
      "599:\tlearn: 0.1019685\ttotal: 673ms\tremaining: 449ms\n",
      "600:\tlearn: 0.1019363\ttotal: 674ms\tremaining: 448ms\n",
      "601:\tlearn: 0.1017660\ttotal: 675ms\tremaining: 446ms\n",
      "602:\tlearn: 0.1017100\ttotal: 676ms\tremaining: 445ms\n",
      "603:\tlearn: 0.1014929\ttotal: 677ms\tremaining: 444ms\n",
      "604:\tlearn: 0.1014617\ttotal: 678ms\tremaining: 443ms\n",
      "605:\tlearn: 0.1012952\ttotal: 679ms\tremaining: 442ms\n",
      "606:\tlearn: 0.1009857\ttotal: 680ms\tremaining: 440ms\n",
      "607:\tlearn: 0.1008483\ttotal: 681ms\tremaining: 439ms\n",
      "608:\tlearn: 0.1007918\ttotal: 682ms\tremaining: 438ms\n",
      "609:\tlearn: 0.1005936\ttotal: 683ms\tremaining: 437ms\n",
      "610:\tlearn: 0.1003189\ttotal: 684ms\tremaining: 436ms\n",
      "611:\tlearn: 0.1000952\ttotal: 685ms\tremaining: 434ms\n",
      "612:\tlearn: 0.0999615\ttotal: 686ms\tremaining: 433ms\n",
      "613:\tlearn: 0.0999073\ttotal: 687ms\tremaining: 432ms\n",
      "614:\tlearn: 0.0998814\ttotal: 688ms\tremaining: 431ms\n",
      "615:\tlearn: 0.0996845\ttotal: 689ms\tremaining: 430ms\n",
      "616:\tlearn: 0.0995382\ttotal: 690ms\tremaining: 429ms\n",
      "617:\tlearn: 0.0995246\ttotal: 691ms\tremaining: 427ms\n",
      "618:\tlearn: 0.0993414\ttotal: 692ms\tremaining: 426ms\n",
      "619:\tlearn: 0.0992526\ttotal: 693ms\tremaining: 425ms\n",
      "620:\tlearn: 0.0991986\ttotal: 694ms\tremaining: 424ms\n",
      "621:\tlearn: 0.0990557\ttotal: 695ms\tremaining: 423ms\n",
      "622:\tlearn: 0.0989119\ttotal: 696ms\tremaining: 421ms\n",
      "623:\tlearn: 0.0987992\ttotal: 697ms\tremaining: 420ms\n",
      "624:\tlearn: 0.0986957\ttotal: 698ms\tremaining: 419ms\n",
      "625:\tlearn: 0.0984748\ttotal: 699ms\tremaining: 418ms\n",
      "626:\tlearn: 0.0982972\ttotal: 700ms\tremaining: 417ms\n",
      "627:\tlearn: 0.0981757\ttotal: 701ms\tremaining: 415ms\n",
      "628:\tlearn: 0.0980604\ttotal: 702ms\tremaining: 414ms\n",
      "629:\tlearn: 0.0979276\ttotal: 703ms\tremaining: 413ms\n",
      "630:\tlearn: 0.0977900\ttotal: 704ms\tremaining: 412ms\n",
      "631:\tlearn: 0.0977622\ttotal: 705ms\tremaining: 411ms\n",
      "632:\tlearn: 0.0976486\ttotal: 706ms\tremaining: 409ms\n",
      "633:\tlearn: 0.0974822\ttotal: 707ms\tremaining: 408ms\n",
      "634:\tlearn: 0.0972481\ttotal: 708ms\tremaining: 407ms\n",
      "635:\tlearn: 0.0970292\ttotal: 709ms\tremaining: 406ms\n",
      "636:\tlearn: 0.0969948\ttotal: 710ms\tremaining: 405ms\n",
      "637:\tlearn: 0.0968478\ttotal: 711ms\tremaining: 403ms\n",
      "638:\tlearn: 0.0966689\ttotal: 712ms\tremaining: 402ms\n",
      "639:\tlearn: 0.0964505\ttotal: 713ms\tremaining: 401ms\n",
      "640:\tlearn: 0.0962569\ttotal: 714ms\tremaining: 400ms\n",
      "641:\tlearn: 0.0960367\ttotal: 715ms\tremaining: 399ms\n",
      "642:\tlearn: 0.0958871\ttotal: 716ms\tremaining: 398ms\n",
      "643:\tlearn: 0.0957063\ttotal: 717ms\tremaining: 396ms\n",
      "644:\tlearn: 0.0954354\ttotal: 718ms\tremaining: 395ms\n",
      "645:\tlearn: 0.0952271\ttotal: 719ms\tremaining: 394ms\n",
      "646:\tlearn: 0.0950566\ttotal: 720ms\tremaining: 393ms\n",
      "647:\tlearn: 0.0948406\ttotal: 721ms\tremaining: 392ms\n",
      "648:\tlearn: 0.0948318\ttotal: 722ms\tremaining: 390ms\n",
      "649:\tlearn: 0.0947126\ttotal: 723ms\tremaining: 389ms\n",
      "650:\tlearn: 0.0945272\ttotal: 724ms\tremaining: 388ms\n",
      "651:\tlearn: 0.0943469\ttotal: 725ms\tremaining: 387ms\n",
      "652:\tlearn: 0.0942280\ttotal: 726ms\tremaining: 386ms\n",
      "653:\tlearn: 0.0941321\ttotal: 727ms\tremaining: 385ms\n",
      "654:\tlearn: 0.0939205\ttotal: 728ms\tremaining: 383ms\n",
      "655:\tlearn: 0.0936534\ttotal: 729ms\tremaining: 382ms\n",
      "656:\tlearn: 0.0934462\ttotal: 730ms\tremaining: 381ms\n",
      "657:\tlearn: 0.0933153\ttotal: 731ms\tremaining: 380ms\n",
      "658:\tlearn: 0.0932101\ttotal: 732ms\tremaining: 379ms\n",
      "659:\tlearn: 0.0931638\ttotal: 733ms\tremaining: 378ms\n",
      "660:\tlearn: 0.0930074\ttotal: 734ms\tremaining: 376ms\n",
      "661:\tlearn: 0.0928592\ttotal: 735ms\tremaining: 375ms\n",
      "662:\tlearn: 0.0926766\ttotal: 736ms\tremaining: 374ms\n",
      "663:\tlearn: 0.0923974\ttotal: 737ms\tremaining: 373ms\n",
      "664:\tlearn: 0.0922510\ttotal: 738ms\tremaining: 372ms\n",
      "665:\tlearn: 0.0921027\ttotal: 740ms\tremaining: 371ms\n",
      "666:\tlearn: 0.0920642\ttotal: 740ms\tremaining: 370ms\n",
      "667:\tlearn: 0.0919200\ttotal: 741ms\tremaining: 368ms\n",
      "668:\tlearn: 0.0917649\ttotal: 742ms\tremaining: 367ms\n",
      "669:\tlearn: 0.0915730\ttotal: 743ms\tremaining: 366ms\n",
      "670:\tlearn: 0.0914222\ttotal: 744ms\tremaining: 365ms\n",
      "671:\tlearn: 0.0911435\ttotal: 745ms\tremaining: 364ms\n",
      "672:\tlearn: 0.0910897\ttotal: 746ms\tremaining: 363ms\n",
      "673:\tlearn: 0.0910687\ttotal: 747ms\tremaining: 362ms\n",
      "674:\tlearn: 0.0910061\ttotal: 748ms\tremaining: 360ms\n",
      "675:\tlearn: 0.0907924\ttotal: 749ms\tremaining: 359ms\n",
      "676:\tlearn: 0.0906063\ttotal: 751ms\tremaining: 358ms\n",
      "677:\tlearn: 0.0904517\ttotal: 751ms\tremaining: 357ms\n",
      "678:\tlearn: 0.0902567\ttotal: 752ms\tremaining: 356ms\n",
      "679:\tlearn: 0.0900712\ttotal: 754ms\tremaining: 355ms\n",
      "680:\tlearn: 0.0898416\ttotal: 755ms\tremaining: 353ms\n",
      "681:\tlearn: 0.0897611\ttotal: 756ms\tremaining: 352ms\n",
      "682:\tlearn: 0.0896726\ttotal: 757ms\tremaining: 351ms\n",
      "683:\tlearn: 0.0894862\ttotal: 758ms\tremaining: 350ms\n",
      "684:\tlearn: 0.0894667\ttotal: 759ms\tremaining: 349ms\n",
      "685:\tlearn: 0.0892646\ttotal: 759ms\tremaining: 348ms\n",
      "686:\tlearn: 0.0890984\ttotal: 761ms\tremaining: 346ms\n",
      "687:\tlearn: 0.0889406\ttotal: 761ms\tremaining: 345ms\n",
      "688:\tlearn: 0.0887412\ttotal: 762ms\tremaining: 344ms\n",
      "689:\tlearn: 0.0887018\ttotal: 763ms\tremaining: 343ms\n",
      "690:\tlearn: 0.0885893\ttotal: 764ms\tremaining: 342ms\n",
      "691:\tlearn: 0.0884684\ttotal: 766ms\tremaining: 341ms\n",
      "692:\tlearn: 0.0883080\ttotal: 767ms\tremaining: 340ms\n",
      "693:\tlearn: 0.0882378\ttotal: 768ms\tremaining: 339ms\n",
      "694:\tlearn: 0.0880934\ttotal: 769ms\tremaining: 337ms\n",
      "695:\tlearn: 0.0879150\ttotal: 770ms\tremaining: 336ms\n",
      "696:\tlearn: 0.0878558\ttotal: 771ms\tremaining: 335ms\n",
      "697:\tlearn: 0.0877621\ttotal: 772ms\tremaining: 334ms\n",
      "698:\tlearn: 0.0876460\ttotal: 774ms\tremaining: 333ms\n",
      "699:\tlearn: 0.0875681\ttotal: 775ms\tremaining: 332ms\n",
      "700:\tlearn: 0.0874070\ttotal: 776ms\tremaining: 331ms\n",
      "701:\tlearn: 0.0873249\ttotal: 777ms\tremaining: 330ms\n",
      "702:\tlearn: 0.0871651\ttotal: 778ms\tremaining: 329ms\n",
      "703:\tlearn: 0.0871085\ttotal: 779ms\tremaining: 327ms\n",
      "704:\tlearn: 0.0870705\ttotal: 780ms\tremaining: 326ms\n",
      "705:\tlearn: 0.0869907\ttotal: 781ms\tremaining: 325ms\n",
      "706:\tlearn: 0.0869143\ttotal: 782ms\tremaining: 324ms\n",
      "707:\tlearn: 0.0867038\ttotal: 783ms\tremaining: 323ms\n",
      "708:\tlearn: 0.0865667\ttotal: 784ms\tremaining: 322ms\n",
      "709:\tlearn: 0.0864322\ttotal: 785ms\tremaining: 321ms\n",
      "710:\tlearn: 0.0863622\ttotal: 786ms\tremaining: 319ms\n",
      "711:\tlearn: 0.0861423\ttotal: 787ms\tremaining: 318ms\n",
      "712:\tlearn: 0.0860208\ttotal: 788ms\tremaining: 317ms\n",
      "713:\tlearn: 0.0858703\ttotal: 789ms\tremaining: 316ms\n",
      "714:\tlearn: 0.0856128\ttotal: 790ms\tremaining: 315ms\n",
      "715:\tlearn: 0.0855628\ttotal: 791ms\tremaining: 314ms\n",
      "716:\tlearn: 0.0854632\ttotal: 792ms\tremaining: 313ms\n",
      "717:\tlearn: 0.0853063\ttotal: 793ms\tremaining: 311ms\n",
      "718:\tlearn: 0.0851279\ttotal: 794ms\tremaining: 310ms\n",
      "719:\tlearn: 0.0848650\ttotal: 795ms\tremaining: 309ms\n",
      "720:\tlearn: 0.0846358\ttotal: 796ms\tremaining: 308ms\n",
      "721:\tlearn: 0.0846040\ttotal: 797ms\tremaining: 307ms\n",
      "722:\tlearn: 0.0844673\ttotal: 798ms\tremaining: 306ms\n",
      "723:\tlearn: 0.0843798\ttotal: 799ms\tremaining: 305ms\n",
      "724:\tlearn: 0.0842465\ttotal: 800ms\tremaining: 303ms\n",
      "725:\tlearn: 0.0840188\ttotal: 801ms\tremaining: 302ms\n",
      "726:\tlearn: 0.0838036\ttotal: 802ms\tremaining: 301ms\n"
     ]
    },
    {
     "name": "stdout",
     "output_type": "stream",
     "text": [
      "727:\tlearn: 0.0836206\ttotal: 803ms\tremaining: 300ms\n",
      "728:\tlearn: 0.0834760\ttotal: 805ms\tremaining: 299ms\n",
      "729:\tlearn: 0.0834419\ttotal: 806ms\tremaining: 298ms\n",
      "730:\tlearn: 0.0834116\ttotal: 807ms\tremaining: 297ms\n",
      "731:\tlearn: 0.0832909\ttotal: 808ms\tremaining: 296ms\n",
      "732:\tlearn: 0.0832040\ttotal: 809ms\tremaining: 295ms\n",
      "733:\tlearn: 0.0830829\ttotal: 810ms\tremaining: 293ms\n",
      "734:\tlearn: 0.0829653\ttotal: 811ms\tremaining: 292ms\n",
      "735:\tlearn: 0.0827212\ttotal: 812ms\tremaining: 291ms\n",
      "736:\tlearn: 0.0826820\ttotal: 813ms\tremaining: 290ms\n",
      "737:\tlearn: 0.0826139\ttotal: 814ms\tremaining: 289ms\n",
      "738:\tlearn: 0.0824646\ttotal: 815ms\tremaining: 288ms\n",
      "739:\tlearn: 0.0823067\ttotal: 816ms\tremaining: 287ms\n",
      "740:\tlearn: 0.0821561\ttotal: 817ms\tremaining: 286ms\n",
      "741:\tlearn: 0.0820039\ttotal: 818ms\tremaining: 285ms\n",
      "742:\tlearn: 0.0817697\ttotal: 819ms\tremaining: 283ms\n",
      "743:\tlearn: 0.0816497\ttotal: 821ms\tremaining: 282ms\n",
      "744:\tlearn: 0.0815484\ttotal: 822ms\tremaining: 281ms\n",
      "745:\tlearn: 0.0813762\ttotal: 823ms\tremaining: 280ms\n",
      "746:\tlearn: 0.0811669\ttotal: 824ms\tremaining: 279ms\n",
      "747:\tlearn: 0.0811066\ttotal: 825ms\tremaining: 278ms\n",
      "748:\tlearn: 0.0810365\ttotal: 826ms\tremaining: 277ms\n",
      "749:\tlearn: 0.0809007\ttotal: 827ms\tremaining: 276ms\n",
      "750:\tlearn: 0.0807508\ttotal: 828ms\tremaining: 275ms\n",
      "751:\tlearn: 0.0807306\ttotal: 829ms\tremaining: 273ms\n",
      "752:\tlearn: 0.0806214\ttotal: 830ms\tremaining: 272ms\n",
      "753:\tlearn: 0.0804059\ttotal: 831ms\tremaining: 271ms\n",
      "754:\tlearn: 0.0803291\ttotal: 832ms\tremaining: 270ms\n",
      "755:\tlearn: 0.0802638\ttotal: 833ms\tremaining: 269ms\n",
      "756:\tlearn: 0.0801291\ttotal: 834ms\tremaining: 268ms\n",
      "757:\tlearn: 0.0799671\ttotal: 835ms\tremaining: 267ms\n",
      "758:\tlearn: 0.0798683\ttotal: 836ms\tremaining: 266ms\n",
      "759:\tlearn: 0.0797117\ttotal: 837ms\tremaining: 264ms\n",
      "760:\tlearn: 0.0795594\ttotal: 838ms\tremaining: 263ms\n",
      "761:\tlearn: 0.0795343\ttotal: 839ms\tremaining: 262ms\n",
      "762:\tlearn: 0.0794002\ttotal: 840ms\tremaining: 261ms\n",
      "763:\tlearn: 0.0792962\ttotal: 841ms\tremaining: 260ms\n",
      "764:\tlearn: 0.0791126\ttotal: 842ms\tremaining: 259ms\n",
      "765:\tlearn: 0.0789906\ttotal: 843ms\tremaining: 258ms\n",
      "766:\tlearn: 0.0788464\ttotal: 844ms\tremaining: 256ms\n",
      "767:\tlearn: 0.0786770\ttotal: 845ms\tremaining: 255ms\n",
      "768:\tlearn: 0.0784831\ttotal: 846ms\tremaining: 254ms\n",
      "769:\tlearn: 0.0784158\ttotal: 848ms\tremaining: 253ms\n",
      "770:\tlearn: 0.0782548\ttotal: 849ms\tremaining: 252ms\n",
      "771:\tlearn: 0.0782240\ttotal: 850ms\tremaining: 251ms\n",
      "772:\tlearn: 0.0780489\ttotal: 851ms\tremaining: 250ms\n",
      "773:\tlearn: 0.0779274\ttotal: 852ms\tremaining: 249ms\n",
      "774:\tlearn: 0.0778896\ttotal: 853ms\tremaining: 248ms\n",
      "775:\tlearn: 0.0777012\ttotal: 854ms\tremaining: 246ms\n",
      "776:\tlearn: 0.0776772\ttotal: 855ms\tremaining: 245ms\n",
      "777:\tlearn: 0.0774916\ttotal: 856ms\tremaining: 244ms\n",
      "778:\tlearn: 0.0774283\ttotal: 857ms\tremaining: 243ms\n",
      "779:\tlearn: 0.0772148\ttotal: 858ms\tremaining: 242ms\n",
      "780:\tlearn: 0.0771101\ttotal: 859ms\tremaining: 241ms\n",
      "781:\tlearn: 0.0770033\ttotal: 860ms\tremaining: 240ms\n",
      "782:\tlearn: 0.0768160\ttotal: 861ms\tremaining: 239ms\n",
      "783:\tlearn: 0.0766696\ttotal: 862ms\tremaining: 238ms\n",
      "784:\tlearn: 0.0765328\ttotal: 863ms\tremaining: 236ms\n",
      "785:\tlearn: 0.0763969\ttotal: 864ms\tremaining: 235ms\n",
      "786:\tlearn: 0.0763085\ttotal: 866ms\tremaining: 234ms\n",
      "787:\tlearn: 0.0761614\ttotal: 867ms\tremaining: 233ms\n",
      "788:\tlearn: 0.0759900\ttotal: 868ms\tremaining: 232ms\n",
      "789:\tlearn: 0.0758028\ttotal: 869ms\tremaining: 231ms\n",
      "790:\tlearn: 0.0756589\ttotal: 870ms\tremaining: 230ms\n",
      "791:\tlearn: 0.0755361\ttotal: 871ms\tremaining: 229ms\n",
      "792:\tlearn: 0.0753947\ttotal: 872ms\tremaining: 228ms\n",
      "793:\tlearn: 0.0752985\ttotal: 873ms\tremaining: 226ms\n",
      "794:\tlearn: 0.0752377\ttotal: 874ms\tremaining: 225ms\n",
      "795:\tlearn: 0.0751328\ttotal: 875ms\tremaining: 224ms\n",
      "796:\tlearn: 0.0749398\ttotal: 876ms\tremaining: 223ms\n",
      "797:\tlearn: 0.0748642\ttotal: 877ms\tremaining: 222ms\n",
      "798:\tlearn: 0.0747407\ttotal: 878ms\tremaining: 221ms\n",
      "799:\tlearn: 0.0746086\ttotal: 879ms\tremaining: 220ms\n",
      "800:\tlearn: 0.0745401\ttotal: 880ms\tremaining: 219ms\n",
      "801:\tlearn: 0.0744978\ttotal: 882ms\tremaining: 218ms\n",
      "802:\tlearn: 0.0743481\ttotal: 883ms\tremaining: 217ms\n",
      "803:\tlearn: 0.0742056\ttotal: 884ms\tremaining: 215ms\n",
      "804:\tlearn: 0.0740692\ttotal: 885ms\tremaining: 214ms\n",
      "805:\tlearn: 0.0739566\ttotal: 886ms\tremaining: 213ms\n",
      "806:\tlearn: 0.0738081\ttotal: 887ms\tremaining: 212ms\n",
      "807:\tlearn: 0.0737069\ttotal: 888ms\tremaining: 211ms\n",
      "808:\tlearn: 0.0734936\ttotal: 889ms\tremaining: 210ms\n",
      "809:\tlearn: 0.0733927\ttotal: 890ms\tremaining: 209ms\n",
      "810:\tlearn: 0.0732872\ttotal: 891ms\tremaining: 208ms\n",
      "811:\tlearn: 0.0731804\ttotal: 892ms\tremaining: 206ms\n",
      "812:\tlearn: 0.0730619\ttotal: 893ms\tremaining: 205ms\n",
      "813:\tlearn: 0.0728981\ttotal: 895ms\tremaining: 204ms\n",
      "814:\tlearn: 0.0727141\ttotal: 896ms\tremaining: 203ms\n",
      "815:\tlearn: 0.0726833\ttotal: 897ms\tremaining: 202ms\n",
      "816:\tlearn: 0.0725278\ttotal: 898ms\tremaining: 201ms\n",
      "817:\tlearn: 0.0724196\ttotal: 899ms\tremaining: 200ms\n",
      "818:\tlearn: 0.0722771\ttotal: 900ms\tremaining: 199ms\n",
      "819:\tlearn: 0.0721613\ttotal: 901ms\tremaining: 198ms\n",
      "820:\tlearn: 0.0720574\ttotal: 902ms\tremaining: 197ms\n",
      "821:\tlearn: 0.0719401\ttotal: 903ms\tremaining: 196ms\n",
      "822:\tlearn: 0.0717801\ttotal: 904ms\tremaining: 194ms\n",
      "823:\tlearn: 0.0716345\ttotal: 905ms\tremaining: 193ms\n",
      "824:\tlearn: 0.0714690\ttotal: 906ms\tremaining: 192ms\n",
      "825:\tlearn: 0.0713899\ttotal: 907ms\tremaining: 191ms\n",
      "826:\tlearn: 0.0712692\ttotal: 908ms\tremaining: 190ms\n",
      "827:\tlearn: 0.0711912\ttotal: 909ms\tremaining: 189ms\n",
      "828:\tlearn: 0.0711099\ttotal: 910ms\tremaining: 188ms\n",
      "829:\tlearn: 0.0710219\ttotal: 911ms\tremaining: 187ms\n",
      "830:\tlearn: 0.0708335\ttotal: 912ms\tremaining: 185ms\n",
      "831:\tlearn: 0.0707103\ttotal: 913ms\tremaining: 184ms\n",
      "832:\tlearn: 0.0706266\ttotal: 914ms\tremaining: 183ms\n",
      "833:\tlearn: 0.0704246\ttotal: 915ms\tremaining: 182ms\n",
      "834:\tlearn: 0.0703076\ttotal: 916ms\tremaining: 181ms\n",
      "835:\tlearn: 0.0702144\ttotal: 917ms\tremaining: 180ms\n",
      "836:\tlearn: 0.0701053\ttotal: 918ms\tremaining: 179ms\n",
      "837:\tlearn: 0.0700709\ttotal: 919ms\tremaining: 178ms\n",
      "838:\tlearn: 0.0699685\ttotal: 920ms\tremaining: 177ms\n",
      "839:\tlearn: 0.0699427\ttotal: 921ms\tremaining: 175ms\n",
      "840:\tlearn: 0.0698495\ttotal: 922ms\tremaining: 174ms\n",
      "841:\tlearn: 0.0697785\ttotal: 923ms\tremaining: 173ms\n",
      "842:\tlearn: 0.0696925\ttotal: 924ms\tremaining: 172ms\n",
      "843:\tlearn: 0.0695474\ttotal: 926ms\tremaining: 171ms\n",
      "844:\tlearn: 0.0694115\ttotal: 927ms\tremaining: 170ms\n",
      "845:\tlearn: 0.0693257\ttotal: 928ms\tremaining: 169ms\n",
      "846:\tlearn: 0.0692516\ttotal: 929ms\tremaining: 168ms\n",
      "847:\tlearn: 0.0691718\ttotal: 930ms\tremaining: 167ms\n",
      "848:\tlearn: 0.0690352\ttotal: 931ms\tremaining: 166ms\n",
      "849:\tlearn: 0.0689402\ttotal: 932ms\tremaining: 164ms\n",
      "850:\tlearn: 0.0687835\ttotal: 933ms\tremaining: 163ms\n",
      "851:\tlearn: 0.0686758\ttotal: 934ms\tremaining: 162ms\n",
      "852:\tlearn: 0.0685021\ttotal: 935ms\tremaining: 161ms\n"
     ]
    },
    {
     "name": "stdout",
     "output_type": "stream",
     "text": [
      "853:\tlearn: 0.0684131\ttotal: 936ms\tremaining: 160ms\n",
      "854:\tlearn: 0.0683386\ttotal: 937ms\tremaining: 159ms\n",
      "855:\tlearn: 0.0681960\ttotal: 938ms\tremaining: 158ms\n",
      "856:\tlearn: 0.0681120\ttotal: 940ms\tremaining: 157ms\n",
      "857:\tlearn: 0.0680464\ttotal: 941ms\tremaining: 156ms\n",
      "858:\tlearn: 0.0679422\ttotal: 942ms\tremaining: 155ms\n",
      "859:\tlearn: 0.0678483\ttotal: 943ms\tremaining: 153ms\n",
      "860:\tlearn: 0.0677668\ttotal: 944ms\tremaining: 152ms\n",
      "861:\tlearn: 0.0677588\ttotal: 945ms\tremaining: 151ms\n",
      "862:\tlearn: 0.0676612\ttotal: 946ms\tremaining: 150ms\n",
      "863:\tlearn: 0.0675545\ttotal: 947ms\tremaining: 149ms\n",
      "864:\tlearn: 0.0675228\ttotal: 948ms\tremaining: 148ms\n",
      "865:\tlearn: 0.0674116\ttotal: 949ms\tremaining: 147ms\n",
      "866:\tlearn: 0.0673118\ttotal: 950ms\tremaining: 146ms\n",
      "867:\tlearn: 0.0671280\ttotal: 951ms\tremaining: 145ms\n",
      "868:\tlearn: 0.0670581\ttotal: 952ms\tremaining: 143ms\n",
      "869:\tlearn: 0.0668969\ttotal: 953ms\tremaining: 142ms\n",
      "870:\tlearn: 0.0668001\ttotal: 954ms\tremaining: 141ms\n",
      "871:\tlearn: 0.0667401\ttotal: 955ms\tremaining: 140ms\n",
      "872:\tlearn: 0.0666139\ttotal: 956ms\tremaining: 139ms\n",
      "873:\tlearn: 0.0665763\ttotal: 957ms\tremaining: 138ms\n",
      "874:\tlearn: 0.0664109\ttotal: 958ms\tremaining: 137ms\n",
      "875:\tlearn: 0.0663201\ttotal: 959ms\tremaining: 136ms\n",
      "876:\tlearn: 0.0662551\ttotal: 960ms\tremaining: 135ms\n",
      "877:\tlearn: 0.0661738\ttotal: 961ms\tremaining: 134ms\n",
      "878:\tlearn: 0.0661019\ttotal: 962ms\tremaining: 132ms\n",
      "879:\tlearn: 0.0660468\ttotal: 963ms\tremaining: 131ms\n",
      "880:\tlearn: 0.0659039\ttotal: 964ms\tremaining: 130ms\n",
      "881:\tlearn: 0.0658058\ttotal: 965ms\tremaining: 129ms\n",
      "882:\tlearn: 0.0656519\ttotal: 966ms\tremaining: 128ms\n",
      "883:\tlearn: 0.0655462\ttotal: 967ms\tremaining: 127ms\n",
      "884:\tlearn: 0.0655216\ttotal: 968ms\tremaining: 126ms\n",
      "885:\tlearn: 0.0654649\ttotal: 969ms\tremaining: 125ms\n",
      "886:\tlearn: 0.0653755\ttotal: 970ms\tremaining: 124ms\n",
      "887:\tlearn: 0.0652386\ttotal: 971ms\tremaining: 122ms\n",
      "888:\tlearn: 0.0651684\ttotal: 972ms\tremaining: 121ms\n",
      "889:\tlearn: 0.0650168\ttotal: 973ms\tremaining: 120ms\n",
      "890:\tlearn: 0.0649901\ttotal: 974ms\tremaining: 119ms\n",
      "891:\tlearn: 0.0649070\ttotal: 975ms\tremaining: 118ms\n",
      "892:\tlearn: 0.0647459\ttotal: 976ms\tremaining: 117ms\n",
      "893:\tlearn: 0.0646154\ttotal: 977ms\tremaining: 116ms\n",
      "894:\tlearn: 0.0645735\ttotal: 978ms\tremaining: 115ms\n",
      "895:\tlearn: 0.0644584\ttotal: 980ms\tremaining: 114ms\n",
      "896:\tlearn: 0.0643521\ttotal: 981ms\tremaining: 113ms\n",
      "897:\tlearn: 0.0642986\ttotal: 982ms\tremaining: 112ms\n",
      "898:\tlearn: 0.0642323\ttotal: 983ms\tremaining: 110ms\n",
      "899:\tlearn: 0.0641121\ttotal: 984ms\tremaining: 109ms\n",
      "900:\tlearn: 0.0640952\ttotal: 985ms\tremaining: 108ms\n",
      "901:\tlearn: 0.0639650\ttotal: 987ms\tremaining: 107ms\n",
      "902:\tlearn: 0.0638229\ttotal: 988ms\tremaining: 106ms\n",
      "903:\tlearn: 0.0637303\ttotal: 989ms\tremaining: 105ms\n",
      "904:\tlearn: 0.0636151\ttotal: 990ms\tremaining: 104ms\n",
      "905:\tlearn: 0.0635452\ttotal: 991ms\tremaining: 103ms\n",
      "906:\tlearn: 0.0634034\ttotal: 992ms\tremaining: 102ms\n",
      "907:\tlearn: 0.0633114\ttotal: 993ms\tremaining: 101ms\n",
      "908:\tlearn: 0.0631972\ttotal: 994ms\tremaining: 99.5ms\n",
      "909:\tlearn: 0.0630997\ttotal: 995ms\tremaining: 98.4ms\n",
      "910:\tlearn: 0.0629568\ttotal: 996ms\tremaining: 97.3ms\n",
      "911:\tlearn: 0.0629458\ttotal: 997ms\tremaining: 96.2ms\n",
      "912:\tlearn: 0.0628012\ttotal: 998ms\tremaining: 95.1ms\n",
      "913:\tlearn: 0.0626875\ttotal: 999ms\tremaining: 94ms\n",
      "914:\tlearn: 0.0625573\ttotal: 1s\tremaining: 92.9ms\n",
      "915:\tlearn: 0.0624507\ttotal: 1s\tremaining: 91.8ms\n",
      "916:\tlearn: 0.0624317\ttotal: 1s\tremaining: 90.7ms\n",
      "917:\tlearn: 0.0622733\ttotal: 1s\tremaining: 89.6ms\n",
      "918:\tlearn: 0.0622661\ttotal: 1s\tremaining: 88.5ms\n",
      "919:\tlearn: 0.0622177\ttotal: 1s\tremaining: 87.4ms\n",
      "920:\tlearn: 0.0621628\ttotal: 1.01s\tremaining: 86.3ms\n",
      "921:\tlearn: 0.0621474\ttotal: 1.01s\tremaining: 85.2ms\n",
      "922:\tlearn: 0.0620653\ttotal: 1.01s\tremaining: 84.1ms\n",
      "923:\tlearn: 0.0620217\ttotal: 1.01s\tremaining: 83ms\n",
      "924:\tlearn: 0.0619129\ttotal: 1.01s\tremaining: 82ms\n",
      "925:\tlearn: 0.0618315\ttotal: 1.01s\tremaining: 80.9ms\n",
      "926:\tlearn: 0.0617698\ttotal: 1.01s\tremaining: 79.8ms\n",
      "927:\tlearn: 0.0617132\ttotal: 1.01s\tremaining: 78.7ms\n",
      "928:\tlearn: 0.0616504\ttotal: 1.01s\tremaining: 77.6ms\n",
      "929:\tlearn: 0.0615761\ttotal: 1.02s\tremaining: 76.5ms\n",
      "930:\tlearn: 0.0614831\ttotal: 1.02s\tremaining: 75.4ms\n",
      "931:\tlearn: 0.0614587\ttotal: 1.02s\tremaining: 74.3ms\n",
      "932:\tlearn: 0.0613652\ttotal: 1.02s\tremaining: 73.2ms\n",
      "933:\tlearn: 0.0612551\ttotal: 1.02s\tremaining: 72.1ms\n",
      "934:\tlearn: 0.0612006\ttotal: 1.02s\tremaining: 71ms\n",
      "935:\tlearn: 0.0611240\ttotal: 1.02s\tremaining: 69.9ms\n",
      "936:\tlearn: 0.0610483\ttotal: 1.02s\tremaining: 68.8ms\n",
      "937:\tlearn: 0.0610358\ttotal: 1.02s\tremaining: 67.7ms\n",
      "938:\tlearn: 0.0609303\ttotal: 1.02s\tremaining: 66.6ms\n",
      "939:\tlearn: 0.0608590\ttotal: 1.03s\tremaining: 65.5ms\n",
      "940:\tlearn: 0.0608414\ttotal: 1.03s\tremaining: 64.4ms\n",
      "941:\tlearn: 0.0607606\ttotal: 1.03s\tremaining: 63.3ms\n",
      "942:\tlearn: 0.0606705\ttotal: 1.03s\tremaining: 62.2ms\n",
      "943:\tlearn: 0.0605249\ttotal: 1.03s\tremaining: 61.2ms\n",
      "944:\tlearn: 0.0604733\ttotal: 1.03s\tremaining: 60.1ms\n",
      "945:\tlearn: 0.0604512\ttotal: 1.03s\tremaining: 59ms\n",
      "946:\tlearn: 0.0603372\ttotal: 1.03s\tremaining: 57.9ms\n",
      "947:\tlearn: 0.0602559\ttotal: 1.03s\tremaining: 56.8ms\n",
      "948:\tlearn: 0.0601468\ttotal: 1.04s\tremaining: 55.7ms\n",
      "949:\tlearn: 0.0600426\ttotal: 1.04s\tremaining: 54.6ms\n",
      "950:\tlearn: 0.0599806\ttotal: 1.04s\tremaining: 53.5ms\n",
      "951:\tlearn: 0.0598293\ttotal: 1.04s\tremaining: 52.4ms\n",
      "952:\tlearn: 0.0597216\ttotal: 1.04s\tremaining: 51.3ms\n",
      "953:\tlearn: 0.0596809\ttotal: 1.04s\tremaining: 50.2ms\n",
      "954:\tlearn: 0.0595748\ttotal: 1.04s\tremaining: 49.1ms\n",
      "955:\tlearn: 0.0594396\ttotal: 1.04s\tremaining: 48ms\n",
      "956:\tlearn: 0.0594192\ttotal: 1.04s\tremaining: 46.9ms\n",
      "957:\tlearn: 0.0592768\ttotal: 1.04s\tremaining: 45.8ms\n",
      "958:\tlearn: 0.0592425\ttotal: 1.05s\tremaining: 44.7ms\n",
      "959:\tlearn: 0.0591216\ttotal: 1.05s\tremaining: 43.7ms\n",
      "960:\tlearn: 0.0590014\ttotal: 1.05s\tremaining: 42.6ms\n",
      "961:\tlearn: 0.0589203\ttotal: 1.05s\tremaining: 41.5ms\n",
      "962:\tlearn: 0.0589120\ttotal: 1.05s\tremaining: 40.4ms\n",
      "963:\tlearn: 0.0588965\ttotal: 1.05s\tremaining: 39.3ms\n",
      "964:\tlearn: 0.0587902\ttotal: 1.05s\tremaining: 38.2ms\n",
      "965:\tlearn: 0.0587777\ttotal: 1.05s\tremaining: 37.1ms\n",
      "966:\tlearn: 0.0587359\ttotal: 1.05s\tremaining: 36ms\n",
      "967:\tlearn: 0.0586697\ttotal: 1.06s\tremaining: 34.9ms\n",
      "968:\tlearn: 0.0586065\ttotal: 1.06s\tremaining: 33.8ms\n",
      "969:\tlearn: 0.0585504\ttotal: 1.06s\tremaining: 32.7ms\n",
      "970:\tlearn: 0.0584482\ttotal: 1.06s\tremaining: 31.7ms\n",
      "971:\tlearn: 0.0583779\ttotal: 1.06s\tremaining: 30.6ms\n",
      "972:\tlearn: 0.0582756\ttotal: 1.06s\tremaining: 29.5ms\n",
      "973:\tlearn: 0.0582583\ttotal: 1.06s\tremaining: 28.4ms\n",
      "974:\tlearn: 0.0582147\ttotal: 1.06s\tremaining: 27.3ms\n",
      "975:\tlearn: 0.0581596\ttotal: 1.06s\tremaining: 26.2ms\n",
      "976:\tlearn: 0.0580889\ttotal: 1.07s\tremaining: 25.1ms\n",
      "977:\tlearn: 0.0580314\ttotal: 1.07s\tremaining: 24ms\n",
      "978:\tlearn: 0.0579076\ttotal: 1.07s\tremaining: 22.9ms\n",
      "979:\tlearn: 0.0577697\ttotal: 1.07s\tremaining: 21.8ms\n"
     ]
    },
    {
     "name": "stdout",
     "output_type": "stream",
     "text": [
      "980:\tlearn: 0.0576561\ttotal: 1.07s\tremaining: 20.8ms\n",
      "981:\tlearn: 0.0576149\ttotal: 1.07s\tremaining: 19.7ms\n",
      "982:\tlearn: 0.0575897\ttotal: 1.07s\tremaining: 18.6ms\n",
      "983:\tlearn: 0.0574814\ttotal: 1.07s\tremaining: 17.5ms\n",
      "984:\tlearn: 0.0574134\ttotal: 1.07s\tremaining: 16.4ms\n",
      "985:\tlearn: 0.0573635\ttotal: 1.08s\tremaining: 15.3ms\n",
      "986:\tlearn: 0.0572915\ttotal: 1.08s\tremaining: 14.2ms\n",
      "987:\tlearn: 0.0572080\ttotal: 1.08s\tremaining: 13.1ms\n",
      "988:\tlearn: 0.0572000\ttotal: 1.08s\tremaining: 12ms\n",
      "989:\tlearn: 0.0571550\ttotal: 1.08s\tremaining: 10.9ms\n",
      "990:\tlearn: 0.0570537\ttotal: 1.08s\tremaining: 9.83ms\n",
      "991:\tlearn: 0.0570128\ttotal: 1.08s\tremaining: 8.74ms\n",
      "992:\tlearn: 0.0569451\ttotal: 1.08s\tremaining: 7.65ms\n",
      "993:\tlearn: 0.0568560\ttotal: 1.08s\tremaining: 6.55ms\n",
      "994:\tlearn: 0.0567580\ttotal: 1.09s\tremaining: 5.46ms\n",
      "995:\tlearn: 0.0566573\ttotal: 1.09s\tremaining: 4.37ms\n",
      "996:\tlearn: 0.0565830\ttotal: 1.09s\tremaining: 3.28ms\n",
      "997:\tlearn: 0.0565166\ttotal: 1.09s\tremaining: 2.19ms\n",
      "998:\tlearn: 0.0564461\ttotal: 1.09s\tremaining: 1.09ms\n",
      "999:\tlearn: 0.0563890\ttotal: 1.09s\tremaining: 0us\n"
     ]
    },
    {
     "data": {
      "text/plain": [
       "<catboost.core.CatBoostRegressor at 0x7f6157ac8a50>"
      ]
     },
     "execution_count": 9,
     "metadata": {},
     "output_type": "execute_result"
    }
   ],
   "source": [
    "#Train the Model \n",
    "prior_model = ctb.CatBoostRegressor()\n",
    "prior_model.fit(X_train,Y_train)"
   ]
  },
  {
   "cell_type": "code",
   "execution_count": 10,
   "id": "c775fd81",
   "metadata": {
    "execution": {
     "iopub.execute_input": "2022-01-14T16:08:58.036521Z",
     "iopub.status.busy": "2022-01-14T16:08:58.035900Z",
     "iopub.status.idle": "2022-01-14T16:08:58.049275Z",
     "shell.execute_reply": "2022-01-14T16:08:58.048558Z"
    },
    "papermill": {
     "duration": 0.048524,
     "end_time": "2022-01-14T16:08:58.049399",
     "exception": false,
     "start_time": "2022-01-14T16:08:58.000875",
     "status": "completed"
    },
    "tags": []
   },
   "outputs": [
    {
     "data": {
      "application/scrapbook.scrap.json+json": {
       "data": 0.0972614349573337,
       "encoder": "json",
       "name": "Prior Model MSE",
       "version": 1
      }
     },
     "metadata": {
      "scrapbook": {
       "data": true,
       "display": false,
       "name": "Prior Model MSE"
      }
     },
     "output_type": "display_data"
    },
    {
     "data": {
      "application/scrapbook.scrap.json+json": {
       "data": 0.09883641261831583,
       "encoder": "json",
       "name": "ABC Pre-generator MSE",
       "version": 1
      }
     },
     "metadata": {
      "scrapbook": {
       "data": true,
       "display": false,
       "name": "ABC Pre-generator MSE"
      }
     },
     "output_type": "display_data"
    }
   ],
   "source": [
    "y_pred = prior_model.predict(X_test)\n",
    "y_abc = y_pred + np.random.normal(0,variance, y_pred.shape)\n",
    "mse = mean_squared_error(y_pred,Y_test)\n",
    "sb.glue(\"Prior Model MSE\",mse)\n",
    "mse = mean_squared_error(y_abc,Y_test)\n",
    "sb.glue(\"ABC Pre-generator MSE\",mse)"
   ]
  },
  {
   "cell_type": "markdown",
   "id": "0cd0def6",
   "metadata": {
    "papermill": {
     "duration": 0.031208,
     "end_time": "2022-01-14T16:08:58.131721",
     "exception": false,
     "start_time": "2022-01-14T16:08:58.100513",
     "status": "completed"
    },
    "tags": []
   },
   "source": [
    "# ABC GAN Model"
   ]
  },
  {
   "cell_type": "markdown",
   "id": "70beaf4c",
   "metadata": {
    "papermill": {
     "duration": 0.030024,
     "end_time": "2022-01-14T16:08:58.192249",
     "exception": false,
     "start_time": "2022-01-14T16:08:58.162225",
     "status": "completed"
    },
    "tags": []
   },
   "source": [
    "### Training the network\n",
    "**Training ABC-GAN for n_epochs number of epochs** "
   ]
  },
  {
   "cell_type": "code",
   "execution_count": 11,
   "id": "dbaaafa1",
   "metadata": {
    "execution": {
     "iopub.execute_input": "2022-01-14T16:08:58.259027Z",
     "iopub.status.busy": "2022-01-14T16:08:58.258357Z",
     "iopub.status.idle": "2022-01-14T16:09:01.228093Z",
     "shell.execute_reply": "2022-01-14T16:09:01.227536Z"
    },
    "papermill": {
     "duration": 3.004884,
     "end_time": "2022-01-14T16:09:01.228243",
     "exception": false,
     "start_time": "2022-01-14T16:08:58.223359",
     "status": "completed"
    },
    "tags": []
   },
   "outputs": [],
   "source": [
    "gen = network.Generator(n_features+1).to(device)\n",
    "disc = network.Discriminator(n_features+1).to(device)\n",
    "\n",
    "criterion = torch.nn.BCELoss()\n",
    "gen_opt = torch.optim.Adam(gen.parameters(), lr=0.001, betas=(0.5, 0.999))\n",
    "disc_opt = torch.optim.Adam(disc.parameters(), lr=0.01, betas=(0.5, 0.999))"
   ]
  },
  {
   "cell_type": "code",
   "execution_count": 12,
   "id": "6e9eeab8",
   "metadata": {
    "execution": {
     "iopub.execute_input": "2022-01-14T16:09:01.293879Z",
     "iopub.status.busy": "2022-01-14T16:09:01.293135Z",
     "iopub.status.idle": "2022-01-14T16:14:39.945998Z",
     "shell.execute_reply": "2022-01-14T16:14:39.945471Z"
    },
    "papermill": {
     "duration": 338.686317,
     "end_time": "2022-01-14T16:14:39.946139",
     "exception": false,
     "start_time": "2022-01-14T16:09:01.259822",
     "status": "completed"
    },
    "tags": []
   },
   "outputs": [
    {
     "data": {
      "image/png": "[encoded data removed]",
      "text/plain": [
       "<Figure size 432x288 with 1 Axes>"
      ]
     },
     "metadata": {
      "needs_background": "light"
     },
     "output_type": "display_data"
    },
    {
     "data": {
      "image/png": "[encoded data removed]",
      "text/plain": [
       "<Figure size 432x288 with 1 Axes>"
      ]
     },
     "metadata": {
      "needs_background": "light"
     },
     "output_type": "display_data"
    }
   ],
   "source": [
    "#Training the ABC_GAN \n",
    "ABC_train_test2.training_GAN(disc,gen,disc_opt,gen_opt,train_data,batch_size,n_epochs,criterion,prior_model,variance,device)"
   ]
  },
  {
   "cell_type": "code",
   "execution_count": 13,
   "id": "11c3082e",
   "metadata": {
    "execution": {
     "iopub.execute_input": "2022-01-14T16:14:40.016369Z",
     "iopub.status.busy": "2022-01-14T16:14:40.015708Z",
     "iopub.status.idle": "2022-01-14T16:14:40.455216Z",
     "shell.execute_reply": "2022-01-14T16:14:40.454677Z"
    },
    "papermill": {
     "duration": 0.47888,
     "end_time": "2022-01-14T16:14:40.455350",
     "exception": false,
     "start_time": "2022-01-14T16:14:39.976470",
     "status": "completed"
    },
    "tags": []
   },
   "outputs": [
    {
     "data": {
      "application/scrapbook.scrap.json+json": {
       "data": 0.12616544254818085,
       "encoder": "json",
       "name": "ABC-GAN Model 1 MSE",
       "version": 1
      }
     },
     "metadata": {
      "scrapbook": {
       "data": true,
       "display": false,
       "name": "ABC-GAN Model 1 MSE"
      }
     },
     "output_type": "display_data"
    },
    {
     "data": {
      "application/scrapbook.scrap.json+json": {
       "data": 0.2443716725289785,
       "encoder": "json",
       "name": "ABC-GAN Model 1 MAE",
       "version": 1
      }
     },
     "metadata": {
      "scrapbook": {
       "data": true,
       "display": false,
       "name": "ABC-GAN Model 1 MAE"
      }
     },
     "output_type": "display_data"
    },
    {
     "data": {
      "application/scrapbook.scrap.json+json": {
       "data": 24.92591059795581,
       "encoder": "json",
       "name": "ABC-GAN Model 1 Manhattan Distance",
       "version": 1
      }
     },
     "metadata": {
      "scrapbook": {
       "data": true,
       "display": false,
       "name": "ABC-GAN Model 1 Manhattan Distance"
      }
     },
     "output_type": "display_data"
    },
    {
     "data": {
      "application/scrapbook.scrap.json+json": {
       "data": 3.587311422380451,
       "encoder": "json",
       "name": "ABC-GAN Model 1 Euclidean distance",
       "version": 1
      }
     },
     "metadata": {
      "scrapbook": {
       "data": true,
       "display": false,
       "name": "ABC-GAN Model 1 Euclidean distance"
      }
     },
     "output_type": "display_data"
    },
    {
     "data": {
      "application/scrapbook.scrap.json+json": {
       "data": [
        [
         0.12509834938503606,
         0.1261469978544426,
         0.1257595235137333,
         0.12585359734417942,
         0.12559126915306443,
         0.12602855045222527,
         0.12691663566684855,
         0.12585076500319398,
         0.1265171815029903,
         0.12612629689988425,
         0.12627179911331082,
         0.12657842030600502,
         0.12759075480039564,
         0.12697222279958495,
         0.12689521495049366,
         0.12598002204476835,
         0.12444376070328324,
         0.12647318089052256,
         0.12580592002862984,
         0.12546559126069584,
         0.12581587558116297,
         0.12610512231334373,
         0.12722121114788348,
         0.12631507439608114,
         0.12696220030951108,
         0.12600003240433982,
         0.12602749533566346,
         0.12712891294368645,
         0.12658274371473804,
         0.1255147656711807,
         0.1263078766040939,
         0.12650955719715856,
         0.12648853177472622,
         0.12559411889401206,
         0.12617941841244248,
         0.12561202204650707,
         0.12644613251270126,
         0.12551637358984377,
         0.1255764900159839,
         0.12679122023387548,
         0.12616268508250394,
         0.12629224549300697,
         0.12535421005957267,
         0.12692744027186267,
         0.12630372920561583,
         0.12552794179298013,
         0.12563757317005717,
         0.12647732817549076,
         0.12732618746704777,
         0.12666802203428976,
         0.1261361349749616,
         0.12676212286965755,
         0.12646891672207483,
         0.12520441636019214,
         0.12625531435541837,
         0.12611156687408623,
         0.12630900341368076,
         0.12699402397664994,
         0.12544585278338188,
         0.12736045295741166,
         0.12635093722657542,
         0.12597395402422945,
         0.12551389174835412,
         0.12491902053720609,
         0.12582990847701678,
         0.1265474590247396,
         0.12573247795825915,
         0.1266160092976673,
         0.12566073641299538,
         0.12610261142131962,
         0.12658051424779806,
         0.12579012841480255,
         0.12521499136995223,
         0.12495963411042307,
         0.12643165741579468,
         0.12659996860836048,
         0.12736443836464073,
         0.12706481791488478,
         0.12500364748874024,
         0.12651217567888573,
         0.12559571717282755,
         0.12642071819701575,
         0.1257989194067632,
         0.12731564019544112,
         0.12643552261974272,
         0.12624669041242087,
         0.12576081459301183,
         0.12556835420651286,
         0.12599261931198605,
         0.12615672994007762,
         0.12624256573389805,
         0.1260548848528631,
         0.12670014677609914,
         0.1261760182074091,
         0.12597625235371424,
         0.12621139658825645,
         0.1259811750395164,
         0.12594609974393187,
         0.12594295899937172,
         0.1264656539124124
        ],
        [
         0.24304349101422465,
         0.24445302895836385,
         0.2437846480010479,
         0.24362826180260846,
         0.24438697908658022,
         0.24464531298544184,
         0.2453997174241379,
         0.2436284084402609,
         0.2448219071671951,
         0.2449649835516717,
         0.24389887762749018,
         0.24496315716418857,
         0.2456119919889698,
         0.2444917323688666,
         0.24547405625857852,
         0.24394870840706953,
         0.2426058741596838,
         0.24472402953816688,
         0.24410509763687266,
         0.24417316180416473,
         0.24510030859314344,
         0.24373624211761588,
         0.24572542713334164,
         0.24422967718804584,
         0.2449718886602889,
         0.24558130600580982,
         0.24441960159068307,
         0.24560376348923527,
         0.2447115393063309,
         0.2440631329447177,
         0.24460002721524707,
         0.2447503065672137,
         0.24452848188286902,
         0.2441043239452091,
         0.24344819999646908,
         0.243408192423921,
         0.24486383392165104,
         0.24325455527971773,
         0.2445773063775371,
         0.24491760191306763,
         0.24411309759735184,
         0.2443652593567237,
         0.24405638704660768,
         0.24458597988511124,
         0.24526292559526422,
         0.24425864504540667,
         0.2435726904054629,
         0.24465422166109668,
         0.24536029155384384,
         0.24526727354774872,
         0.24457714039211473,
         0.2447840282419587,
         0.2448672050628446,
         0.2427236256737481,
         0.24462144866622254,
         0.24392627393279007,
         0.24450347902180225,
         0.2454536559388918,
         0.24355293865151265,
         0.24539420984721944,
         0.2442881340325317,
         0.24409539100951425,
         0.24389256275825055,
         0.24329718861582816,
         0.24361473471656733,
         0.24492558664368355,
         0.24436002687605865,
         0.24522839799779012,
         0.2438128562552818,
         0.24419243719574868,
         0.24509299424129957,
         0.24421861629896596,
         0.24404894703013055,
         0.24338286832048028,
         0.24417135785972954,
         0.2448749098305901,
         0.24534317599061659,
         0.24446691678581284,
         0.24332239310823234,
         0.24453531118913316,
         0.24431756913077599,
         0.24447983789129876,
         0.244261015617453,
         0.2450254623979038,
         0.24416846838578873,
         0.24460992881772564,
         0.24394533658107997,
         0.24369231907322125,
         0.2436790154041613,
         0.24472601898927607,
         0.2448088599040228,
         0.24419069814258346,
         0.24534618022723817,
         0.24373149928435975,
         0.24367455483469017,
         0.24406841383589542,
         0.2440827963234601,
         0.2434275024022688,
         0.24377161109199127,
         0.2447454387449897
        ],
        [
         24.790436083450913,
         24.934208953753114,
         24.866034096106887,
         24.850082703866065,
         24.927471866831183,
         24.95382192451507,
         25.030771177262068,
         24.850097660906613,
         24.9718345310539,
         24.986428322270513,
         24.877685518004,
         24.986242030747235,
         25.052423182874918,
         24.938156701624393,
         25.038353738375008,
         24.882768257521093,
         24.745799164287746,
         24.96185101289302,
         24.89871995896101,
         24.905662504024804,
         25.00023147650063,
         24.86109669599682,
         25.063993567600846,
         24.911427073180676,
         24.98713264334947,
         25.0492932125926,
         24.930799362249672,
         25.051583875901997,
         24.960577009245753,
         24.894439560361207,
         24.9492027759552,
         24.964531269855797,
         24.94190515205264,
         24.898641042411327,
         24.831716399639845,
         24.827635627239943,
         24.976111060008407,
         24.811964638531208,
         24.946885250508785,
         24.9815953951329,
         24.89953595492989,
         24.925256454385817,
         24.893751478753984,
         24.947769948281348,
         25.01681841071695,
         24.91438179463148,
         24.844414421357214,
         24.954730609431863,
         25.02674973849207,
         25.01726190187037,
         24.9468683199957,
         24.967970880679786,
         24.976454916410148,
         24.757809818722308,
         24.9513877639547,
         24.880479941144586,
         24.93935486022383,
         25.036272905766964,
         24.84239974245429,
         25.030209404416382,
         24.917389671318233,
         24.897729882970452,
         24.877041401341558,
         24.816313238814473,
         24.84870294108987,
         24.982409837655723,
         24.924722741357982,
         25.01329659577459,
         24.868911338038743,
         24.907628593966365,
         24.999485412612557,
         24.91029886249453,
         24.892992597073317,
         24.82505256868899,
         24.905478501692414,
         24.97724080272019,
         25.02500395104289,
         24.93562551215291,
         24.8188840970397,
         24.942601741291583,
         24.92039205133915,
         24.936943464912474,
         24.914623592980206,
         24.992597164586186,
         24.90518377535045,
         24.950212739408016,
         24.88242433127016,
         24.85661654546857,
         24.85525957122445,
         24.96205393690616,
         24.970503710210323,
         24.907451210543513,
         25.025310383178294,
         24.860612927004695,
         24.854804593138397,
         24.894978211261332,
         24.89644522499293,
         24.829605245031416,
         24.86470433138311,
         24.964034751988947
        ],
        [
         3.572118648263755,
         3.587059210711909,
         3.5815459508989678,
         3.5828852799254256,
         3.57914926394703,
         3.585374756720276,
         3.5979851080873786,
         3.582844963199745,
         3.5923185428501476,
         3.586764877126488,
         3.5888331682536743,
         3.5931878424614143,
         3.6075278224346863,
         3.5987729472082095,
         3.5976814651870375,
         3.5846844001343228,
         3.5627606700050585,
         3.5916938136251675,
         3.5822065606159903,
         3.5773580067685398,
         3.5823482953613848,
         3.5864637842812606,
         3.602299756694897,
         3.5894480896650776,
         3.5986309107173144,
         3.584969080095762,
         3.585359748231364,
         3.6009927964737742,
         3.5932492063455985,
         3.5780589847654034,
         3.5893458197306054,
         3.592210299260076,
         3.5919117807961363,
         3.5791898702344964,
         3.587520129291142,
         3.5794449637819157,
         3.5913097215772862,
         3.578081903221901,
         3.578938666927719,
         3.5962069550924483,
         3.587282241253871,
         3.5891237148204715,
         3.5757697669280133,
         3.59813825578312,
         3.5892868900343995,
         3.578246786190686,
         3.5798089981653805,
         3.591752702219358,
         3.6037856653301215,
         3.594459381812174,
         3.5869047614128364,
         3.5957942839802546,
         3.5916332643592153,
         3.573632671210011,
         3.58859889988456,
         3.5865554256356886,
         3.589361830213755,
         3.5990818892626346,
         3.577076597433293,
         3.604270550563038,
         3.589957603804075,
         3.584598068189989,
         3.578046528251431,
         3.569557408810653,
         3.582548068715297,
         3.5927483658786112,
         3.581160810650987,
         3.593721323135959,
         3.580138979722089,
         3.5864280788794027,
         3.5932175627528316,
         3.581981727802343,
         3.573783586024079,
         3.5701376274960537,
         3.5911041556060517,
         3.5934936758053104,
         3.604326943160589,
         3.6000849194592965,
         3.570766310450952,
         3.5922474746662907,
         3.579212644092051,
         3.5909487960837887,
         3.58210689113123,
         3.6036363995185465,
         3.591159047886038,
         3.588476337119548,
         3.581564335382963,
         3.578822729483023,
         3.5848636194174217,
         3.5871975766450217,
         3.588417716049457,
         3.5857493296369767,
         3.594915154932326,
         3.587471791827182,
         3.5846307676075715,
         3.5879747005800016,
         3.584700803976626,
         3.584201748490318,
         3.584157058212699,
         3.5915869332463704
        ]
       ],
       "encoder": "json",
       "name": "ABC_GAN_1 Metrics",
       "version": 1
      }
     },
     "metadata": {
      "scrapbook": {
       "data": true,
       "display": false,
       "name": "ABC_GAN_1 Metrics"
      }
     },
     "output_type": "display_data"
    }
   ],
   "source": [
    "ABC_GAN1_metrics=ABC_train_test2.test_generator(gen,test_data,prior_model,variance,\"1\",device)\n",
    "sb.glue(\"ABC_GAN_1 Metrics\",ABC_GAN1_metrics)"
   ]
  },
  {
   "cell_type": "markdown",
   "id": "394a2b9d",
   "metadata": {
    "papermill": {
     "duration": 0.035177,
     "end_time": "2022-01-14T16:14:40.527575",
     "exception": false,
     "start_time": "2022-01-14T16:14:40.492398",
     "status": "completed"
    },
    "tags": []
   },
   "source": [
    "#### Sanity Checks "
   ]
  },
  {
   "cell_type": "code",
   "execution_count": 14,
   "id": "a36b3b22",
   "metadata": {
    "execution": {
     "iopub.execute_input": "2022-01-14T16:14:40.605778Z",
     "iopub.status.busy": "2022-01-14T16:14:40.605073Z",
     "iopub.status.idle": "2022-01-14T16:14:41.349676Z",
     "shell.execute_reply": "2022-01-14T16:14:41.348994Z"
    },
    "papermill": {
     "duration": 0.785032,
     "end_time": "2022-01-14T16:14:41.349811",
     "exception": false,
     "start_time": "2022-01-14T16:14:40.564779",
     "status": "completed"
    },
    "tags": []
   },
   "outputs": [
    {
     "data": {
      "image/png": "[encoded data removed]",
      "text/plain": [
       "<Figure size 432x288 with 1 Axes>"
      ]
     },
     "metadata": {
      "needs_background": "light"
     },
     "output_type": "display_data"
    },
    {
     "data": {
      "image/png": "[encoded data removed]",
      "text/plain": [
       "<Figure size 432x288 with 1 Axes>"
      ]
     },
     "metadata": {
      "needs_background": "light"
     },
     "output_type": "display_data"
    },
    {
     "data": {
      "image/png": "[encoded data removed]",
      "text/plain": [
       "<Figure size 432x288 with 1 Axes>"
      ]
     },
     "metadata": {
      "needs_background": "light"
     },
     "output_type": "display_data"
    },
    {
     "data": {
      "image/png": "[encoded data removed]",
      "text/plain": [
       "<Figure size 432x288 with 1 Axes>"
      ]
     },
     "metadata": {
      "needs_background": "light"
     },
     "output_type": "display_data"
    }
   ],
   "source": [
    "sanityChecks.discProbVsError(train_data,disc,device)\n",
    "sanityChecks.discProbVsError(test_data,disc,device)"
   ]
  },
  {
   "cell_type": "markdown",
   "id": "130f3a4d",
   "metadata": {
    "papermill": {
     "duration": 0.045171,
     "end_time": "2022-01-14T16:14:41.435422",
     "exception": false,
     "start_time": "2022-01-14T16:14:41.390251",
     "status": "completed"
    },
    "tags": []
   },
   "source": [
    "# ABC - GAN Model with skip connection"
   ]
  },
  {
   "cell_type": "code",
   "execution_count": 15,
   "id": "4e43dad1",
   "metadata": {
    "execution": {
     "iopub.execute_input": "2022-01-14T16:14:41.521616Z",
     "iopub.status.busy": "2022-01-14T16:14:41.520985Z",
     "iopub.status.idle": "2022-01-14T16:14:41.526373Z",
     "shell.execute_reply": "2022-01-14T16:14:41.525837Z"
    },
    "papermill": {
     "duration": 0.052106,
     "end_time": "2022-01-14T16:14:41.526550",
     "exception": false,
     "start_time": "2022-01-14T16:14:41.474444",
     "status": "completed"
    },
    "tags": []
   },
   "outputs": [],
   "source": [
    "#Generator\n",
    "gen3 = network.GeneratorWithSkipConnection(n_features+1).to(device)\n",
    "constraints=network.weightConstraint()\n",
    "#Discriminator \n",
    "disc3 = network.Discriminator(n_features+1).to(device)\n",
    "\n",
    "criterion = torch.nn.BCELoss()\n",
    "gen_opt = torch.optim.Adam(gen3.parameters(), lr=0.01, betas=(0.5, 0.999))\n",
    "disc_opt = torch.optim.Adam(disc3.parameters(), lr=0.01, betas=(0.5, 0.999))\n"
   ]
  },
  {
   "cell_type": "code",
   "execution_count": 16,
   "id": "26acbc37",
   "metadata": {
    "execution": {
     "iopub.execute_input": "2022-01-14T16:14:41.608176Z",
     "iopub.status.busy": "2022-01-14T16:14:41.607618Z",
     "iopub.status.idle": "2022-01-14T16:52:08.446038Z",
     "shell.execute_reply": "2022-01-14T16:52:08.445481Z"
    },
    "papermill": {
     "duration": 2246.87923,
     "end_time": "2022-01-14T16:52:08.446169",
     "exception": false,
     "start_time": "2022-01-14T16:14:41.566939",
     "status": "completed"
    },
    "tags": []
   },
   "outputs": [
    {
     "data": {
      "image/png": "[encoded data removed]",
      "text/plain": [
       "<Figure size 432x288 with 1 Axes>"
      ]
     },
     "metadata": {
      "needs_background": "light"
     },
     "output_type": "display_data"
    },
    {
     "data": {
      "image/png": "[encoded data removed]",
      "text/plain": [
       "<Figure size 432x288 with 1 Axes>"
      ]
     },
     "metadata": {
      "needs_background": "light"
     },
     "output_type": "display_data"
    }
   ],
   "source": [
    "ABC_train_test2.training_GAN_skip_connection(disc3,gen3,disc_opt,gen_opt,train_data,batch_size,n_epochs,criterion,prior_model,variance,device)\n"
   ]
  },
  {
   "cell_type": "code",
   "execution_count": 17,
   "id": "c5e0717b",
   "metadata": {
    "execution": {
     "iopub.execute_input": "2022-01-14T16:52:08.534026Z",
     "iopub.status.busy": "2022-01-14T16:52:08.533358Z",
     "iopub.status.idle": "2022-01-14T16:52:10.743151Z",
     "shell.execute_reply": "2022-01-14T16:52:10.742608Z"
    },
    "papermill": {
     "duration": 2.255125,
     "end_time": "2022-01-14T16:52:10.743333",
     "exception": false,
     "start_time": "2022-01-14T16:52:08.488208",
     "status": "completed"
    },
    "tags": []
   },
   "outputs": [
    {
     "data": {
      "application/scrapbook.scrap.json+json": {
       "data": 7319189.82301379,
       "encoder": "json",
       "name": "ABC-GAN Model 3 MSE",
       "version": 1
      }
     },
     "metadata": {
      "scrapbook": {
       "data": true,
       "display": false,
       "name": "ABC-GAN Model 3 MSE"
      }
     },
     "output_type": "display_data"
    },
    {
     "data": {
      "application/scrapbook.scrap.json+json": {
       "data": 2644.90439990021,
       "encoder": "json",
       "name": "ABC-GAN Model 3 MAE",
       "version": 1
      }
     },
     "metadata": {
      "scrapbook": {
       "data": true,
       "display": false,
       "name": "ABC-GAN Model 3 MAE"
      }
     },
     "output_type": "display_data"
    },
    {
     "data": {
      "application/scrapbook.scrap.json+json": {
       "data": 269780.2487898214,
       "encoder": "json",
       "name": "ABC-GAN Model 3 Manhattan Distance",
       "version": 1
      }
     },
     "metadata": {
      "scrapbook": {
       "data": true,
       "display": false,
       "name": "ABC-GAN Model 3 Manhattan Distance"
      }
     },
     "output_type": "display_data"
    },
    {
     "data": {
      "application/scrapbook.scrap.json+json": {
       "data": 27323.20171859201,
       "encoder": "json",
       "name": "ABC-GAN Model 3 Euclidean distance",
       "version": 1
      }
     },
     "metadata": {
      "scrapbook": {
       "data": true,
       "display": false,
       "name": "ABC-GAN Model 3 Euclidean distance"
      }
     },
     "output_type": "display_data"
    },
    {
     "data": {
      "application/scrapbook.scrap.json+json": {
       "data": [
        [
         7321213.176097063,
         7320305.791680574,
         7318604.903257269,
         7318066.406952625,
         7320919.696003066,
         7321978.733749939,
         7316819.3356688935,
         7318760.73111452,
         7318129.267666559,
         7317110.366091555,
         7318157.152139426,
         7321373.377795572,
         7319623.633440321,
         7321730.517128853,
         7318266.67581791,
         7317789.206044,
         7320266.682230312,
         7318227.788727647,
         7319226.247208183,
         7320457.537659944,
         7319545.076158824,
         7319916.185719774,
         7320185.640590806,
         7319868.740990099,
         7318420.636431945,
         7318607.050640877,
         7318330.116221975,
         7319504.101779778,
         7319305.897950668,
         7317027.929004536,
         7318462.803662402,
         7320716.659590028,
         7321035.191919326,
         7314687.07098997,
         7321260.751073508,
         7320096.759542324,
         7318327.989658068,
         7316546.654813048,
         7316532.191870303,
         7317989.731034058,
         7315071.555075599,
         7321977.162697465,
         7317016.848721581,
         7318422.360694295,
         7315540.581783006,
         7319299.161834883,
         7319018.310754589,
         7318981.964047684,
         7320828.92626241,
         7320691.053925913,
         7318706.916640918,
         7318336.122067274,
         7321463.252777296,
         7319254.234646687,
         7319627.698048233,
         7320591.112840813,
         7320250.094059448,
         7318818.921822664,
         7318639.026837531,
         7319003.896616784,
         7321102.061270098,
         7321153.402094905,
         7319049.632400636,
         7318738.2984054955,
         7321623.961377029,
         7319958.660627621,
         7316182.995425029,
         7321522.65636262,
         7319627.333196785,
         7319594.302306941,
         7319457.657556268,
         7319670.480443818,
         7317220.08251426,
         7319418.486327042,
         7315917.081598155,
         7320007.760728581,
         7319521.085602411,
         7316712.562409077,
         7319145.500018277,
         7317686.989179543,
         7320194.995935643,
         7316918.385739545,
         7321356.066923081,
         7318587.423201447,
         7317245.23764049,
         7317419.752255849,
         7320762.455234483,
         7320084.209780761,
         7319845.114487529,
         7317423.094428144,
         7316995.391379859,
         7320925.619275332,
         7322834.836376291,
         7321421.546057367,
         7321905.87643636,
         7318408.547808949,
         7320483.592797132,
         7319743.345285705,
         7317653.352407514,
         7320528.859811299
        ],
        [
         2645.320897080625,
         2645.086756647108,
         2644.7071155816975,
         2644.579053052975,
         2645.2250204242987,
         2645.3611886611243,
         2644.5738279648926,
         2644.9000477106038,
         2644.7475376098837,
         2644.53453089841,
         2644.7173539299665,
         2645.3479667708057,
         2645.012911288652,
         2645.363186066532,
         2644.5743341976595,
         2644.6627717455303,
         2645.1716014981344,
         2644.688546532984,
         2644.9070571794305,
         2645.263149445438,
         2644.990522157218,
         2645.0355457574788,
         2645.1201069745434,
         2644.98925478015,
         2644.84285657243,
         2644.773721691915,
         2644.844157458995,
         2644.941035809945,
         2645.0706565303035,
         2644.4538962763972,
         2644.7546655587194,
         2645.1857460964034,
         2645.1596948555944,
         2644.287595820668,
         2645.3056430786337,
         2645.0197328649388,
         2644.6532131613544,
         2644.4106343182934,
         2644.4794532521173,
         2644.647460298686,
         2644.1839006805026,
         2645.418710107203,
         2644.5693580372736,
         2644.729526254951,
         2644.3089317964645,
         2644.842496345331,
         2644.8451687277607,
         2644.887791611875,
         2645.2486553909803,
         2645.2361994320345,
         2644.6801667650616,
         2644.630026982586,
         2645.322049567987,
         2644.941264392589,
         2645.0497837036337,
         2645.089172921235,
         2645.079244535818,
         2644.755618185864,
         2644.844179000815,
         2644.855533933413,
         2645.144591646342,
         2645.2021693405054,
         2644.8698460791697,
         2644.7659103886826,
         2645.336652528312,
         2645.0280061205303,
         2644.40676756163,
         2645.393454716961,
         2644.9416294067587,
         2645.005202907448,
         2644.9491271568354,
         2644.9572711615074,
         2644.57522459288,
         2645.0177187047825,
         2644.308545240475,
         2645.0586888526072,
         2644.9787076657967,
         2644.473657305809,
         2644.857041860803,
         2644.6647440188144,
         2645.167666525708,
         2644.531997341042,
         2645.2620041386826,
         2644.791358458536,
         2644.516252664265,
         2644.6156298663177,
         2645.164108535129,
         2645.1385467723376,
         2644.991137295852,
         2644.6067426688605,
         2644.601491251887,
         2645.190572660818,
         2645.510864815766,
         2645.257944702408,
         2645.33090684625,
         2644.8237262396324,
         2645.140356285205,
         2644.918716091042,
         2644.632284086599,
         2645.0844995430944
        ],
        [
         269822.73150222376,
         269798.849178005,
         269760.12578933313,
         269747.06341140345,
         269812.95208327845,
         269826.8412434347,
         269746.5304524191,
         269779.8048664816,
         269764.24883620813,
         269742.5221516378,
         269761.1701008566,
         269825.4926106222,
         269791.3169514425,
         269827.04497878626,
         269746.58208816126,
         269755.6027180441,
         269807.5033528097,
         269758.2317463644,
         269780.5198323019,
         269816.8412434347,
         269789.03326003626,
         269793.6256672628,
         269802.25091140345,
         269788.9039875753,
         269773.9713703878,
         269766.9196125753,
         269774.1040608175,
         269783.9856526144,
         269797.20696609095,
         269734.2974201925,
         269764.9758869894,
         269808.94610183313,
         269806.28887527063,
         269717.33477370813,
         269821.17559402063,
         269792.01275222376,
         269754.62774245813,
         269729.88470046595,
         269736.90423171595,
         269754.04095046595,
         269706.75786941126,
         269832.7084309347,
         269746.0745198019,
         269762.411678005,
         269719.5110432394,
         269773.93462722376,
         269774.2072102316,
         269778.55474441126,
         269815.36284988,
         269814.0923420675,
         269757.37701003626,
         269752.26275222376,
         269822.8490559347,
         269784.0089680441,
         269795.07793777063,
         269799.09563796595,
         269798.08294265345,
         269765.07305495813,
         269774.10625808313,
         269775.26446120813,
         269804.7483479269,
         269810.6212727316,
         269776.7243000753,
         269766.12285964563,
         269824.3385578878,
         269792.8566242941,
         269729.49029128626,
         269830.13238113,
         269784.0461994894,
         269790.5306965597,
         269784.8109699972,
         269785.64165847376,
         269746.67290847376,
         269791.8073078878,
         269719.47161452845,
         269795.98626296595,
         269787.82818191126,
         269736.3130451925,
         269775.4182698019,
         269755.8038899191,
         269807.1019856222,
         269742.26372878626,
         269816.72442214563,
         269768.71856277063,
         269740.657771755,
         269750.7942463644,
         269806.73907058313,
         269804.13177077845,
         269789.0960041769,
         269749.88775222376,
         269749.3521076925,
         269809.43841140345,
         269842.10821120813,
         269816.31035964563,
         269823.7524983175,
         269772.0200764425,
         269804.31634109095,
         269781.70904128626,
         269752.49297683313,
         269798.61895339563
        ],
        [
         27326.978317441186,
         27325.284824708022,
         27322.110096627624,
         27321.104910108737,
         27326.430593700174,
         27328.407030825892,
         27318.77691695269,
         27322.4009664905,
         27321.22225124617,
         27319.32022106953,
         27321.274302605674,
         27327.27729824448,
         27324.011612699054,
         27327.943807523156,
         27321.47874719497,
         27320.587457382546,
         27325.211830606037,
         27321.406157996702,
         27323.269885122365,
         27325.56804242712,
         27323.8649859093,
         27324.557653206703,
         27325.060573405182,
         27324.46909970969,
         27321.766138301864,
         27322.114104976754,
         27321.597168808446,
         27323.78850711477,
         27323.41855608423,
         27319.166326197857,
         27321.844849379504,
         27326.051659143573,
         27326.646145763498,
         27314.796013167972,
         27327.067105884194,
         27324.894683663777,
         27321.59319924669,
         27318.267858539846,
         27318.240857909776,
         27320.96177965692,
         27315.51388163348,
         27328.404098943312,
         27319.14564128244,
         27321.769356884954,
         27316.389573694883,
         27323.405982914323,
         27322.881760476288,
         27322.813916814343,
         27326.261187340755,
         27326.003869948545,
         27322.300516196898,
         27321.608379648176,
         27327.44502845599,
         27323.322124770293,
         27324.01919924885,
         27325.817343855662,
         27325.180870290023,
         27322.509585063963,
         27322.17379231433,
         27322.85485550352,
         27326.770944433774,
         27326.86676173616,
         27322.940224376747,
         27322.359093558527,
         27327.74495015015,
         27324.63693050682,
         27317.588940705453,
         27327.55589051072,
         27324.018518257384,
         27323.956866371096,
         27323.70181858123,
         27324.09905203224,
         27319.525040096407,
         27323.62870493885,
         27317.09249394986,
         27324.728573113316,
         27323.820207493787,
         27318.577586794774,
         27323.119166776407,
         27320.396646028286,
         27325.07803438877,
         27318.961827738498,
         27327.244991512667,
         27322.07746798452,
         27319.571999563428,
         27319.897780374224,
         27326.13712975029,
         27324.871260403725,
         27324.42500177685,
         27319.904019444704,
         27319.105584201425,
         27326.441648448927,
         27330.00463429126,
         27327.36719294142,
         27328.271064897406,
         27321.743573141754,
         27325.616671272164,
         27324.235052772154,
         27320.3338549434,
         27325.70115661724
        ]
       ],
       "encoder": "json",
       "name": "ABC_GAN_3 Metrics",
       "version": 1
      }
     },
     "metadata": {
      "scrapbook": {
       "data": true,
       "display": false,
       "name": "ABC_GAN_3 Metrics"
      }
     },
     "output_type": "display_data"
    }
   ],
   "source": [
    "ABC_GAN3_metrics=ABC_train_test2.test_generator(gen3,test_data,prior_model,variance,\"3\",device)\n",
    "sb.glue(\"ABC_GAN_3 Metrics\",ABC_GAN3_metrics)"
   ]
  },
  {
   "cell_type": "code",
   "execution_count": 18,
   "id": "c8e46b48",
   "metadata": {
    "execution": {
     "iopub.execute_input": "2022-01-14T16:52:10.841548Z",
     "iopub.status.busy": "2022-01-14T16:52:10.840872Z",
     "iopub.status.idle": "2022-01-14T16:52:11.700369Z",
     "shell.execute_reply": "2022-01-14T16:52:11.699875Z"
    },
    "papermill": {
     "duration": 0.910314,
     "end_time": "2022-01-14T16:52:11.700524",
     "exception": false,
     "start_time": "2022-01-14T16:52:10.790210",
     "status": "completed"
    },
    "tags": []
   },
   "outputs": [
    {
     "data": {
      "image/png": "[encoded data removed]",
      "text/plain": [
       "<Figure size 432x288 with 1 Axes>"
      ]
     },
     "metadata": {
      "needs_background": "light"
     },
     "output_type": "display_data"
    },
    {
     "data": {
      "image/png": "[encoded data removed]",
      "text/plain": [
       "<Figure size 432x288 with 1 Axes>"
      ]
     },
     "metadata": {
      "needs_background": "light"
     },
     "output_type": "display_data"
    },
    {
     "data": {
      "image/png": "[encoded data removed]",
      "text/plain": [
       "<Figure size 432x288 with 1 Axes>"
      ]
     },
     "metadata": {
      "needs_background": "light"
     },
     "output_type": "display_data"
    },
    {
     "data": {
      "image/png": "[encoded data removed]",
      "text/plain": [
       "<Figure size 432x288 with 1 Axes>"
      ]
     },
     "metadata": {
      "needs_background": "light"
     },
     "output_type": "display_data"
    }
   ],
   "source": [
    "sanityChecks.discProbVsError(train_data,disc,device)\n",
    "sanityChecks.discProbVsError(test_data,disc3,device)"
   ]
  },
  {
   "cell_type": "markdown",
   "id": "a5bd74c3",
   "metadata": {
    "papermill": {
     "duration": 0.049931,
     "end_time": "2022-01-14T16:52:11.801115",
     "exception": false,
     "start_time": "2022-01-14T16:52:11.751184",
     "status": "completed"
    },
    "tags": []
   },
   "source": [
    "## Skip Connection Model Analysis - ABC-GAN "
   ]
  },
  {
   "cell_type": "markdown",
   "id": "5744a8bf",
   "metadata": {
    "papermill": {
     "duration": 0.048941,
     "end_time": "2022-01-14T16:52:11.898975",
     "exception": false,
     "start_time": "2022-01-14T16:52:11.850034",
     "status": "completed"
    },
    "tags": []
   },
   "source": [
    "### Weight Analysis \n",
    "\n",
    "Study the weights of the skip connection layer\n",
    "\n",
    "Equation of the skip connection is \n",
    "\n",
    "$output = y_{gan} * w + y_{abc} * (1-w)$"
   ]
  },
  {
   "cell_type": "code",
   "execution_count": 19,
   "id": "52c31dea",
   "metadata": {
    "execution": {
     "iopub.execute_input": "2022-01-14T16:52:12.004948Z",
     "iopub.status.busy": "2022-01-14T16:52:12.004348Z",
     "iopub.status.idle": "2022-01-14T16:52:12.013992Z",
     "shell.execute_reply": "2022-01-14T16:52:12.013400Z"
    },
    "papermill": {
     "duration": 0.064396,
     "end_time": "2022-01-14T16:52:12.014120",
     "exception": false,
     "start_time": "2022-01-14T16:52:11.949724",
     "status": "completed"
    },
    "tags": []
   },
   "outputs": [
    {
     "name": "stdout",
     "output_type": "stream",
     "text": [
      "Weight of the node at skip connection\n",
      "Parameter containing:\n",
      "tensor([[0.1422]], device='cuda:0', requires_grad=True)\n"
     ]
    },
    {
     "data": {
      "application/scrapbook.scrap.json+json": {
       "data": 0.14222486317157745,
       "encoder": "json",
       "name": "Skip Connection Weight",
       "version": 1
      }
     },
     "metadata": {
      "scrapbook": {
       "data": true,
       "display": false,
       "name": "Skip Connection Weight"
      }
     },
     "output_type": "display_data"
    }
   ],
   "source": [
    "print(\"Weight of the node at skip connection\")\n",
    "for name,param in gen3.named_parameters():\n",
    "    if(name == \"skipNode.weight\"):\n",
    "        print(param)\n",
    "        sb.glue(\"Skip Connection Weight\",param.item())"
   ]
  }
 ],
 "metadata": {
  "interpreter": {
   "hash": "10498c76ddd8160350534c6544a2b2fb65f2138dbc70420f7c81a3268f830f23"
  },
  "kernelspec": {
   "display_name": "papermill-tutorial",
   "language": "python",
   "name": "python3"
  },
  "language_info": {
   "codemirror_mode": {
    "name": "ipython",
    "version": 3
   },
   "file_extension": ".py",
   "mimetype": "text/x-python",
   "name": "python",
   "nbconvert_exporter": "python",
   "pygments_lexer": "ipython3",
   "version": "3.7.12"
  },
  "papermill": {
   "default_parameters": {},
   "duration": 2600.914478,
   "end_time": "2022-01-14T16:52:12.777225",
   "environment_variables": {},
   "exception": null,
   "input_path": "ABC_GAN_Model-Catboost_Pre-gen.ipynb",
   "output_path": "./ABC_GAN_Output/ABC-GAN_output_5_2.ipynb",
   "parameters": {
    "variance": 0.01
   },
   "start_time": "2022-01-14T16:08:51.862747",
   "version": "2.3.3"
  }
 },
 "nbformat": 4,
 "nbformat_minor": 5
}