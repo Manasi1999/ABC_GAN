{
 "cells": [
  {
   "cell_type": "markdown",
   "id": "622780e6",
   "metadata": {
    "papermill": {
     "duration": 0.024603,
     "end_time": "2022-01-14T17:34:16.844476",
     "exception": false,
     "start_time": "2022-01-14T17:34:16.819873",
     "status": "completed"
    },
    "tags": []
   },
   "source": [
    "## Import Libraries "
   ]
  },
  {
   "cell_type": "code",
   "execution_count": 1,
   "id": "a62397e3",
   "metadata": {
    "execution": {
     "iopub.execute_input": "2022-01-14T17:34:16.898936Z",
     "iopub.status.busy": "2022-01-14T17:34:16.898285Z",
     "iopub.status.idle": "2022-01-14T17:34:16.901372Z",
     "shell.execute_reply": "2022-01-14T17:34:16.900778Z"
    },
    "papermill": {
     "duration": 0.0328,
     "end_time": "2022-01-14T17:34:16.901547",
     "exception": false,
     "start_time": "2022-01-14T17:34:16.868747",
     "status": "completed"
    },
    "tags": []
   },
   "outputs": [],
   "source": [
    "import warnings\n",
    "import sys\n",
    "sys.path.insert(0, '../../src')\n",
    "warnings.filterwarnings('ignore')"
   ]
  },
  {
   "cell_type": "code",
   "execution_count": 2,
   "id": "d6a4e155",
   "metadata": {
    "execution": {
     "iopub.execute_input": "2022-01-14T17:34:16.956520Z",
     "iopub.status.busy": "2022-01-14T17:34:16.955917Z",
     "iopub.status.idle": "2022-01-14T17:34:18.602194Z",
     "shell.execute_reply": "2022-01-14T17:34:18.601675Z"
    },
    "papermill": {
     "duration": 1.676449,
     "end_time": "2022-01-14T17:34:18.602356",
     "exception": false,
     "start_time": "2022-01-14T17:34:16.925907",
     "status": "completed"
    },
    "tags": []
   },
   "outputs": [],
   "source": [
    "import ABC_train_test2\n",
    "import bostonDataset\n",
    "import network\n",
    "import dataset\n",
    "import sanityChecks\n",
    "import performanceMetrics\n",
    "import torch \n",
    "from torch.utils.data import random_split \n",
    "import scrapbook as sb\n",
    "from statistics import mean \n",
    "import catboost as ctb \n",
    "from sklearn.model_selection import train_test_split\n",
    "from sklearn.metrics import mean_squared_error\n",
    "import numpy as np"
   ]
  },
  {
   "cell_type": "markdown",
   "id": "2fa5b0f7",
   "metadata": {
    "papermill": {
     "duration": 0.023223,
     "end_time": "2022-01-14T17:34:18.649205",
     "exception": false,
     "start_time": "2022-01-14T17:34:18.625982",
     "status": "completed"
    },
    "tags": []
   },
   "source": [
    "## Parameters "
   ]
  },
  {
   "cell_type": "code",
   "execution_count": 3,
   "id": "783186fb",
   "metadata": {
    "execution": {
     "iopub.execute_input": "2022-01-14T17:34:18.700403Z",
     "iopub.status.busy": "2022-01-14T17:34:18.699769Z",
     "iopub.status.idle": "2022-01-14T17:34:18.702800Z",
     "shell.execute_reply": "2022-01-14T17:34:18.702126Z"
    },
    "papermill": {
     "duration": 0.030535,
     "end_time": "2022-01-14T17:34:18.702926",
     "exception": false,
     "start_time": "2022-01-14T17:34:18.672391",
     "status": "completed"
    },
    "tags": [
     "parameters"
    ]
   },
   "outputs": [],
   "source": [
    "variance = 1"
   ]
  },
  {
   "cell_type": "code",
   "execution_count": 4,
   "id": "236a67fd",
   "metadata": {
    "execution": {
     "iopub.execute_input": "2022-01-14T17:34:18.754288Z",
     "iopub.status.busy": "2022-01-14T17:34:18.753642Z",
     "iopub.status.idle": "2022-01-14T17:34:18.757424Z",
     "shell.execute_reply": "2022-01-14T17:34:18.756805Z"
    },
    "papermill": {
     "duration": 0.030153,
     "end_time": "2022-01-14T17:34:18.757563",
     "exception": false,
     "start_time": "2022-01-14T17:34:18.727410",
     "status": "completed"
    },
    "tags": [
     "injected-parameters"
    ]
   },
   "outputs": [],
   "source": [
    "# Parameters\n",
    "variance = 0.1\n"
   ]
  },
  {
   "cell_type": "markdown",
   "id": "391cdbfd",
   "metadata": {
    "papermill": {
     "duration": 0.048096,
     "end_time": "2022-01-14T17:34:18.829528",
     "exception": false,
     "start_time": "2022-01-14T17:34:18.781432",
     "status": "completed"
    },
    "tags": []
   },
   "source": [
    "## Dataset - Boston Housing "
   ]
  },
  {
   "cell_type": "code",
   "execution_count": 5,
   "id": "5b51f161",
   "metadata": {
    "execution": {
     "iopub.execute_input": "2022-01-14T17:34:18.883722Z",
     "iopub.status.busy": "2022-01-14T17:34:18.882948Z",
     "iopub.status.idle": "2022-01-14T17:34:18.886610Z",
     "shell.execute_reply": "2022-01-14T17:34:18.885968Z"
    },
    "papermill": {
     "duration": 0.032076,
     "end_time": "2022-01-14T17:34:18.886759",
     "exception": false,
     "start_time": "2022-01-14T17:34:18.854683",
     "status": "completed"
    },
    "tags": []
   },
   "outputs": [],
   "source": [
    "#Parameters \n",
    "n_features = 13\n",
    "n_samples= 506\n",
    "n_target = 1 "
   ]
  },
  {
   "cell_type": "code",
   "execution_count": 6,
   "id": "5d6eced4",
   "metadata": {
    "execution": {
     "iopub.execute_input": "2022-01-14T17:34:18.938127Z",
     "iopub.status.busy": "2022-01-14T17:34:18.937507Z",
     "iopub.status.idle": "2022-01-14T17:34:18.972819Z",
     "shell.execute_reply": "2022-01-14T17:34:18.973259Z"
    },
    "papermill": {
     "duration": 0.063372,
     "end_time": "2022-01-14T17:34:18.973413",
     "exception": false,
     "start_time": "2022-01-14T17:34:18.910041",
     "status": "completed"
    },
    "tags": []
   },
   "outputs": [
    {
     "name": "stdout",
     "output_type": "stream",
     "text": [
      "         X1        X2        X3        X4        X5        X6        X7        X8        X9       X10       X11       X12       X13         Y\n",
      "0 -0.419782  0.284830 -1.287909 -0.272599 -0.144217  0.413672 -0.120013  0.140214 -0.982843 -0.666608 -1.459000  0.441052 -1.075562  0.159686\n",
      "1 -0.417339 -0.487722 -0.593381 -0.272599 -0.740262  0.194274  0.367166  0.557160 -0.867883 -0.987329 -0.303094  0.441052 -0.492439 -0.101524\n",
      "2 -0.417342 -0.487722 -0.593381 -0.272599 -0.740262  1.282714 -0.265812  0.557160 -0.867883 -0.987329 -0.303094  0.396427 -1.208727  1.324247\n",
      "3 -0.416750 -0.487722 -1.306878 -0.272599 -0.835284  1.016303 -0.809889  1.077737 -0.752922 -1.106115  0.113032  0.416163 -1.361517  1.182758\n",
      "4 -0.412482 -0.487722 -1.306878 -0.272599 -0.835284  1.228577 -0.511180  1.077737 -0.752922 -1.106115  0.113032  0.441052 -1.026501  1.487503\n"
     ]
    }
   ],
   "source": [
    "X,Y = bostonDataset.boston_data()"
   ]
  },
  {
   "cell_type": "code",
   "execution_count": 7,
   "id": "fe007438",
   "metadata": {
    "execution": {
     "iopub.execute_input": "2022-01-14T17:34:19.028427Z",
     "iopub.status.busy": "2022-01-14T17:34:19.027765Z",
     "iopub.status.idle": "2022-01-14T17:34:19.030576Z",
     "shell.execute_reply": "2022-01-14T17:34:19.029887Z"
    },
    "papermill": {
     "duration": 0.033275,
     "end_time": "2022-01-14T17:34:19.030733",
     "exception": false,
     "start_time": "2022-01-14T17:34:18.997458",
     "status": "completed"
    },
    "tags": []
   },
   "outputs": [],
   "source": [
    "#Train test split for dataset \n",
    "X_train,X_test,Y_train,Y_test = train_test_split(X,Y,test_size = 0.2)\n",
    "train_data = dataset.CustomDataset(X_train,Y_train)\n",
    "test_data = dataset.CustomDataset(X_test,Y_test)\n"
   ]
  },
  {
   "cell_type": "markdown",
   "id": "a9a1af34",
   "metadata": {
    "papermill": {
     "duration": 0.024563,
     "end_time": "2022-01-14T17:34:19.078759",
     "exception": false,
     "start_time": "2022-01-14T17:34:19.054196",
     "status": "completed"
    },
    "tags": []
   },
   "source": [
    "## Training Parameters \n",
    "\n"
   ]
  },
  {
   "cell_type": "code",
   "execution_count": 8,
   "id": "952b7fc8",
   "metadata": {
    "execution": {
     "iopub.execute_input": "2022-01-14T17:34:19.152885Z",
     "iopub.status.busy": "2022-01-14T17:34:19.152080Z",
     "iopub.status.idle": "2022-01-14T17:34:19.155262Z",
     "shell.execute_reply": "2022-01-14T17:34:19.154809Z"
    },
    "papermill": {
     "duration": 0.049952,
     "end_time": "2022-01-14T17:34:19.155402",
     "exception": false,
     "start_time": "2022-01-14T17:34:19.105450",
     "status": "completed"
    },
    "tags": []
   },
   "outputs": [],
   "source": [
    "batch_size = 64\n",
    "n_epochs = 5000\n",
    "#Select the device \n",
    "device = torch.device('cuda' if torch.cuda.is_available() else 'cpu')"
   ]
  },
  {
   "cell_type": "markdown",
   "id": "a95e1600",
   "metadata": {
    "papermill": {
     "duration": 0.02372,
     "end_time": "2022-01-14T17:34:19.204712",
     "exception": false,
     "start_time": "2022-01-14T17:34:19.180992",
     "status": "completed"
    },
    "tags": []
   },
   "source": [
    "# ABC Pre-generator Model \n",
    "\n",
    "1. The catboost model is used as a pre-generator model for the ABC-GAN. \n",
    "2. The model is first trained on the train dataset \n",
    "3. It generats X,Y pairs and we add some Gaussian noise with mean 0 and variance V (1,0.01,0.1) to it which is then feed as input to the generator.\n"
   ]
  },
  {
   "cell_type": "code",
   "execution_count": 9,
   "id": "ff8ce7bd",
   "metadata": {
    "execution": {
     "iopub.execute_input": "2022-01-14T17:34:19.272485Z",
     "iopub.status.busy": "2022-01-14T17:34:19.271666Z",
     "iopub.status.idle": "2022-01-14T17:34:20.953151Z",
     "shell.execute_reply": "2022-01-14T17:34:20.952594Z"
    },
    "papermill": {
     "duration": 1.724206,
     "end_time": "2022-01-14T17:34:20.953332",
     "exception": false,
     "start_time": "2022-01-14T17:34:19.229126",
     "status": "completed"
    },
    "tags": []
   },
   "outputs": [
    {
     "name": "stdout",
     "output_type": "stream",
     "text": [
      "Learning rate set to 0.03548\n",
      "0:\tlearn: 0.9335985\ttotal: 48.3ms\tremaining: 48.2s\n",
      "1:\tlearn: 0.9129654\ttotal: 49.3ms\tremaining: 24.6s\n",
      "2:\tlearn: 0.8932376\ttotal: 50.3ms\tremaining: 16.7s\n",
      "3:\tlearn: 0.8772117\ttotal: 51.3ms\tremaining: 12.8s\n",
      "4:\tlearn: 0.8606597\ttotal: 52.4ms\tremaining: 10.4s\n",
      "5:\tlearn: 0.8460283\ttotal: 53.5ms\tremaining: 8.87s\n",
      "6:\tlearn: 0.8303982\ttotal: 54.5ms\tremaining: 7.73s\n",
      "7:\tlearn: 0.8138781\ttotal: 55.4ms\tremaining: 6.87s\n",
      "8:\tlearn: 0.7995613\ttotal: 56.4ms\tremaining: 6.21s\n",
      "9:\tlearn: 0.7835930\ttotal: 57.4ms\tremaining: 5.68s\n",
      "10:\tlearn: 0.7709540\ttotal: 58.4ms\tremaining: 5.25s\n",
      "11:\tlearn: 0.7578136\ttotal: 59.3ms\tremaining: 4.88s\n",
      "12:\tlearn: 0.7450810\ttotal: 60.3ms\tremaining: 4.58s\n",
      "13:\tlearn: 0.7313767\ttotal: 61.4ms\tremaining: 4.32s\n",
      "14:\tlearn: 0.7196948\ttotal: 62.4ms\tremaining: 4.1s\n",
      "15:\tlearn: 0.7061409\ttotal: 63.4ms\tremaining: 3.9s\n",
      "16:\tlearn: 0.6939318\ttotal: 64.4ms\tremaining: 3.72s\n",
      "17:\tlearn: 0.6830859\ttotal: 65.4ms\tremaining: 3.56s\n",
      "18:\tlearn: 0.6720328\ttotal: 66.4ms\tremaining: 3.43s\n",
      "19:\tlearn: 0.6586445\ttotal: 67.4ms\tremaining: 3.3s\n",
      "20:\tlearn: 0.6455446\ttotal: 68.5ms\tremaining: 3.19s\n",
      "21:\tlearn: 0.6343310\ttotal: 69.5ms\tremaining: 3.09s\n",
      "22:\tlearn: 0.6250007\ttotal: 70.4ms\tremaining: 2.99s\n",
      "23:\tlearn: 0.6164284\ttotal: 71.3ms\tremaining: 2.9s\n",
      "24:\tlearn: 0.6064985\ttotal: 72.5ms\tremaining: 2.83s\n",
      "25:\tlearn: 0.5989409\ttotal: 73.5ms\tremaining: 2.75s\n",
      "26:\tlearn: 0.5914704\ttotal: 74.6ms\tremaining: 2.69s\n",
      "27:\tlearn: 0.5837992\ttotal: 75.7ms\tremaining: 2.63s\n",
      "28:\tlearn: 0.5758990\ttotal: 76.7ms\tremaining: 2.57s\n",
      "29:\tlearn: 0.5661216\ttotal: 77.7ms\tremaining: 2.51s\n",
      "30:\tlearn: 0.5577332\ttotal: 78.8ms\tremaining: 2.46s\n",
      "31:\tlearn: 0.5493363\ttotal: 79.7ms\tremaining: 2.41s\n",
      "32:\tlearn: 0.5429039\ttotal: 80.6ms\tremaining: 2.36s\n",
      "33:\tlearn: 0.5358278\ttotal: 81.6ms\tremaining: 2.32s\n",
      "34:\tlearn: 0.5292483\ttotal: 82.6ms\tremaining: 2.28s\n",
      "35:\tlearn: 0.5228378\ttotal: 83.5ms\tremaining: 2.23s\n",
      "36:\tlearn: 0.5168365\ttotal: 84.6ms\tremaining: 2.2s\n",
      "37:\tlearn: 0.5103743\ttotal: 85.6ms\tremaining: 2.17s\n",
      "38:\tlearn: 0.5037202\ttotal: 86.6ms\tremaining: 2.13s\n",
      "39:\tlearn: 0.4976283\ttotal: 87.7ms\tremaining: 2.1s\n",
      "40:\tlearn: 0.4915843\ttotal: 88.9ms\tremaining: 2.08s\n",
      "41:\tlearn: 0.4849452\ttotal: 89.9ms\tremaining: 2.05s\n",
      "42:\tlearn: 0.4805549\ttotal: 90.8ms\tremaining: 2.02s\n",
      "43:\tlearn: 0.4756618\ttotal: 91.9ms\tremaining: 2s\n",
      "44:\tlearn: 0.4713267\ttotal: 92.9ms\tremaining: 1.97s\n",
      "45:\tlearn: 0.4646380\ttotal: 93.8ms\tremaining: 1.95s\n",
      "46:\tlearn: 0.4605244\ttotal: 94.8ms\tremaining: 1.92s\n",
      "47:\tlearn: 0.4549848\ttotal: 95.9ms\tremaining: 1.9s\n",
      "48:\tlearn: 0.4513988\ttotal: 96.9ms\tremaining: 1.88s\n",
      "49:\tlearn: 0.4473278\ttotal: 97.8ms\tremaining: 1.86s\n",
      "50:\tlearn: 0.4423309\ttotal: 98.8ms\tremaining: 1.84s\n",
      "51:\tlearn: 0.4374887\ttotal: 99.8ms\tremaining: 1.82s\n",
      "52:\tlearn: 0.4327933\ttotal: 101ms\tremaining: 1.8s\n",
      "53:\tlearn: 0.4292974\ttotal: 102ms\tremaining: 1.78s\n",
      "54:\tlearn: 0.4255002\ttotal: 103ms\tremaining: 1.77s\n",
      "55:\tlearn: 0.4226482\ttotal: 104ms\tremaining: 1.75s\n",
      "56:\tlearn: 0.4186951\ttotal: 105ms\tremaining: 1.73s\n",
      "57:\tlearn: 0.4150499\ttotal: 106ms\tremaining: 1.72s\n",
      "58:\tlearn: 0.4118170\ttotal: 107ms\tremaining: 1.7s\n",
      "59:\tlearn: 0.4087709\ttotal: 108ms\tremaining: 1.69s\n",
      "60:\tlearn: 0.4049620\ttotal: 109ms\tremaining: 1.67s\n",
      "61:\tlearn: 0.4010630\ttotal: 110ms\tremaining: 1.66s\n",
      "62:\tlearn: 0.3966448\ttotal: 111ms\tremaining: 1.65s\n",
      "63:\tlearn: 0.3932550\ttotal: 112ms\tremaining: 1.64s\n",
      "64:\tlearn: 0.3891115\ttotal: 113ms\tremaining: 1.62s\n",
      "65:\tlearn: 0.3860577\ttotal: 114ms\tremaining: 1.61s\n",
      "66:\tlearn: 0.3835581\ttotal: 115ms\tremaining: 1.6s\n",
      "67:\tlearn: 0.3811522\ttotal: 116ms\tremaining: 1.59s\n",
      "68:\tlearn: 0.3783186\ttotal: 117ms\tremaining: 1.58s\n",
      "69:\tlearn: 0.3747392\ttotal: 118ms\tremaining: 1.56s\n",
      "70:\tlearn: 0.3715368\ttotal: 119ms\tremaining: 1.55s\n",
      "71:\tlearn: 0.3694548\ttotal: 120ms\tremaining: 1.54s\n",
      "72:\tlearn: 0.3668582\ttotal: 121ms\tremaining: 1.53s\n",
      "73:\tlearn: 0.3632397\ttotal: 122ms\tremaining: 1.52s\n",
      "74:\tlearn: 0.3605353\ttotal: 123ms\tremaining: 1.51s\n",
      "75:\tlearn: 0.3580460\ttotal: 124ms\tremaining: 1.5s\n",
      "76:\tlearn: 0.3556132\ttotal: 125ms\tremaining: 1.49s\n",
      "77:\tlearn: 0.3523941\ttotal: 126ms\tremaining: 1.49s\n",
      "78:\tlearn: 0.3494600\ttotal: 127ms\tremaining: 1.48s\n",
      "79:\tlearn: 0.3474067\ttotal: 128ms\tremaining: 1.47s\n"
     ]
    },
    {
     "name": "stdout",
     "output_type": "stream",
     "text": [
      "80:\tlearn: 0.3452570\ttotal: 129ms\tremaining: 1.46s\n",
      "81:\tlearn: 0.3430256\ttotal: 130ms\tremaining: 1.46s\n",
      "82:\tlearn: 0.3406541\ttotal: 131ms\tremaining: 1.45s\n",
      "83:\tlearn: 0.3389758\ttotal: 133ms\tremaining: 1.44s\n",
      "84:\tlearn: 0.3363556\ttotal: 134ms\tremaining: 1.44s\n",
      "85:\tlearn: 0.3336602\ttotal: 135ms\tremaining: 1.43s\n",
      "86:\tlearn: 0.3312622\ttotal: 136ms\tremaining: 1.42s\n",
      "87:\tlearn: 0.3289461\ttotal: 137ms\tremaining: 1.42s\n",
      "88:\tlearn: 0.3271967\ttotal: 138ms\tremaining: 1.41s\n",
      "89:\tlearn: 0.3249499\ttotal: 139ms\tremaining: 1.4s\n",
      "90:\tlearn: 0.3228758\ttotal: 140ms\tremaining: 1.4s\n",
      "91:\tlearn: 0.3208260\ttotal: 141ms\tremaining: 1.39s\n",
      "92:\tlearn: 0.3195415\ttotal: 142ms\tremaining: 1.38s\n",
      "93:\tlearn: 0.3170890\ttotal: 143ms\tremaining: 1.38s\n",
      "94:\tlearn: 0.3153209\ttotal: 144ms\tremaining: 1.37s\n",
      "95:\tlearn: 0.3133987\ttotal: 145ms\tremaining: 1.36s\n",
      "96:\tlearn: 0.3123176\ttotal: 146ms\tremaining: 1.36s\n",
      "97:\tlearn: 0.3104852\ttotal: 147ms\tremaining: 1.35s\n",
      "98:\tlearn: 0.3086449\ttotal: 148ms\tremaining: 1.34s\n",
      "99:\tlearn: 0.3071695\ttotal: 149ms\tremaining: 1.34s\n",
      "100:\tlearn: 0.3054382\ttotal: 150ms\tremaining: 1.33s\n",
      "101:\tlearn: 0.3034597\ttotal: 151ms\tremaining: 1.33s\n",
      "102:\tlearn: 0.3020387\ttotal: 152ms\tremaining: 1.32s\n",
      "103:\tlearn: 0.3003165\ttotal: 153ms\tremaining: 1.32s\n",
      "104:\tlearn: 0.2984953\ttotal: 154ms\tremaining: 1.31s\n",
      "105:\tlearn: 0.2970387\ttotal: 155ms\tremaining: 1.31s\n",
      "106:\tlearn: 0.2956352\ttotal: 156ms\tremaining: 1.3s\n",
      "107:\tlearn: 0.2945934\ttotal: 157ms\tremaining: 1.3s\n",
      "108:\tlearn: 0.2936561\ttotal: 158ms\tremaining: 1.29s\n",
      "109:\tlearn: 0.2924506\ttotal: 159ms\tremaining: 1.29s\n",
      "110:\tlearn: 0.2911205\ttotal: 160ms\tremaining: 1.28s\n",
      "111:\tlearn: 0.2901022\ttotal: 161ms\tremaining: 1.28s\n",
      "112:\tlearn: 0.2889228\ttotal: 162ms\tremaining: 1.27s\n",
      "113:\tlearn: 0.2876517\ttotal: 164ms\tremaining: 1.27s\n",
      "114:\tlearn: 0.2861614\ttotal: 164ms\tremaining: 1.26s\n",
      "115:\tlearn: 0.2849004\ttotal: 165ms\tremaining: 1.26s\n",
      "116:\tlearn: 0.2831304\ttotal: 167ms\tremaining: 1.26s\n",
      "117:\tlearn: 0.2820053\ttotal: 167ms\tremaining: 1.25s\n",
      "118:\tlearn: 0.2806568\ttotal: 168ms\tremaining: 1.25s\n",
      "119:\tlearn: 0.2798960\ttotal: 169ms\tremaining: 1.24s\n",
      "120:\tlearn: 0.2787636\ttotal: 170ms\tremaining: 1.24s\n",
      "121:\tlearn: 0.2777523\ttotal: 171ms\tremaining: 1.23s\n",
      "122:\tlearn: 0.2766719\ttotal: 172ms\tremaining: 1.23s\n",
      "123:\tlearn: 0.2756128\ttotal: 173ms\tremaining: 1.22s\n",
      "124:\tlearn: 0.2745806\ttotal: 174ms\tremaining: 1.22s\n",
      "125:\tlearn: 0.2733442\ttotal: 175ms\tremaining: 1.22s\n",
      "126:\tlearn: 0.2723130\ttotal: 176ms\tremaining: 1.21s\n",
      "127:\tlearn: 0.2711864\ttotal: 177ms\tremaining: 1.21s\n",
      "128:\tlearn: 0.2701094\ttotal: 178ms\tremaining: 1.2s\n",
      "129:\tlearn: 0.2693023\ttotal: 179ms\tremaining: 1.2s\n",
      "130:\tlearn: 0.2681563\ttotal: 180ms\tremaining: 1.2s\n",
      "131:\tlearn: 0.2673410\ttotal: 181ms\tremaining: 1.19s\n",
      "132:\tlearn: 0.2664321\ttotal: 182ms\tremaining: 1.19s\n",
      "133:\tlearn: 0.2654513\ttotal: 183ms\tremaining: 1.18s\n",
      "134:\tlearn: 0.2645775\ttotal: 184ms\tremaining: 1.18s\n",
      "135:\tlearn: 0.2635859\ttotal: 185ms\tremaining: 1.18s\n",
      "136:\tlearn: 0.2628292\ttotal: 186ms\tremaining: 1.17s\n",
      "137:\tlearn: 0.2617941\ttotal: 187ms\tremaining: 1.17s\n",
      "138:\tlearn: 0.2608764\ttotal: 188ms\tremaining: 1.16s\n",
      "139:\tlearn: 0.2599638\ttotal: 189ms\tremaining: 1.16s\n",
      "140:\tlearn: 0.2592912\ttotal: 190ms\tremaining: 1.16s\n",
      "141:\tlearn: 0.2586924\ttotal: 191ms\tremaining: 1.15s\n",
      "142:\tlearn: 0.2577206\ttotal: 192ms\tremaining: 1.15s\n",
      "143:\tlearn: 0.2571938\ttotal: 193ms\tremaining: 1.15s\n",
      "144:\tlearn: 0.2565343\ttotal: 194ms\tremaining: 1.14s\n",
      "145:\tlearn: 0.2558896\ttotal: 195ms\tremaining: 1.14s\n",
      "146:\tlearn: 0.2551906\ttotal: 196ms\tremaining: 1.14s\n",
      "147:\tlearn: 0.2543697\ttotal: 197ms\tremaining: 1.13s\n",
      "148:\tlearn: 0.2536141\ttotal: 198ms\tremaining: 1.13s\n",
      "149:\tlearn: 0.2530736\ttotal: 199ms\tremaining: 1.13s\n",
      "150:\tlearn: 0.2525879\ttotal: 200ms\tremaining: 1.13s\n",
      "151:\tlearn: 0.2518129\ttotal: 201ms\tremaining: 1.12s\n",
      "152:\tlearn: 0.2508632\ttotal: 202ms\tremaining: 1.12s\n",
      "153:\tlearn: 0.2501155\ttotal: 203ms\tremaining: 1.12s\n",
      "154:\tlearn: 0.2493301\ttotal: 204ms\tremaining: 1.11s\n",
      "155:\tlearn: 0.2484468\ttotal: 205ms\tremaining: 1.11s\n",
      "156:\tlearn: 0.2476809\ttotal: 206ms\tremaining: 1.11s\n",
      "157:\tlearn: 0.2470317\ttotal: 207ms\tremaining: 1.1s\n",
      "158:\tlearn: 0.2461294\ttotal: 208ms\tremaining: 1.1s\n",
      "159:\tlearn: 0.2453029\ttotal: 209ms\tremaining: 1.1s\n",
      "160:\tlearn: 0.2447838\ttotal: 210ms\tremaining: 1.09s\n",
      "161:\tlearn: 0.2441451\ttotal: 211ms\tremaining: 1.09s\n",
      "162:\tlearn: 0.2435052\ttotal: 212ms\tremaining: 1.09s\n",
      "163:\tlearn: 0.2430494\ttotal: 213ms\tremaining: 1.09s\n",
      "164:\tlearn: 0.2423512\ttotal: 214ms\tremaining: 1.08s\n",
      "165:\tlearn: 0.2414696\ttotal: 215ms\tremaining: 1.08s\n",
      "166:\tlearn: 0.2408570\ttotal: 216ms\tremaining: 1.08s\n",
      "167:\tlearn: 0.2402212\ttotal: 217ms\tremaining: 1.07s\n",
      "168:\tlearn: 0.2397185\ttotal: 218ms\tremaining: 1.07s\n",
      "169:\tlearn: 0.2391345\ttotal: 219ms\tremaining: 1.07s\n",
      "170:\tlearn: 0.2384892\ttotal: 220ms\tremaining: 1.07s\n",
      "171:\tlearn: 0.2377874\ttotal: 221ms\tremaining: 1.06s\n",
      "172:\tlearn: 0.2371302\ttotal: 222ms\tremaining: 1.06s\n",
      "173:\tlearn: 0.2364609\ttotal: 223ms\tremaining: 1.06s\n",
      "174:\tlearn: 0.2356945\ttotal: 224ms\tremaining: 1.06s\n",
      "175:\tlearn: 0.2349368\ttotal: 225ms\tremaining: 1.05s\n",
      "176:\tlearn: 0.2340418\ttotal: 226ms\tremaining: 1.05s\n",
      "177:\tlearn: 0.2333811\ttotal: 227ms\tremaining: 1.05s\n",
      "178:\tlearn: 0.2327914\ttotal: 228ms\tremaining: 1.05s\n",
      "179:\tlearn: 0.2320153\ttotal: 229ms\tremaining: 1.04s\n",
      "180:\tlearn: 0.2312324\ttotal: 231ms\tremaining: 1.04s\n",
      "181:\tlearn: 0.2305969\ttotal: 232ms\tremaining: 1.04s\n",
      "182:\tlearn: 0.2300957\ttotal: 233ms\tremaining: 1.04s\n",
      "183:\tlearn: 0.2296393\ttotal: 234ms\tremaining: 1.04s\n",
      "184:\tlearn: 0.2289572\ttotal: 235ms\tremaining: 1.03s\n",
      "185:\tlearn: 0.2284320\ttotal: 236ms\tremaining: 1.03s\n",
      "186:\tlearn: 0.2276712\ttotal: 237ms\tremaining: 1.03s\n",
      "187:\tlearn: 0.2267922\ttotal: 238ms\tremaining: 1.03s\n",
      "188:\tlearn: 0.2261194\ttotal: 239ms\tremaining: 1.02s\n",
      "189:\tlearn: 0.2252195\ttotal: 240ms\tremaining: 1.02s\n",
      "190:\tlearn: 0.2247677\ttotal: 241ms\tremaining: 1.02s\n",
      "191:\tlearn: 0.2241444\ttotal: 242ms\tremaining: 1.02s\n",
      "192:\tlearn: 0.2234684\ttotal: 243ms\tremaining: 1.01s\n",
      "193:\tlearn: 0.2230957\ttotal: 244ms\tremaining: 1.01s\n",
      "194:\tlearn: 0.2223624\ttotal: 245ms\tremaining: 1.01s\n",
      "195:\tlearn: 0.2217231\ttotal: 246ms\tremaining: 1.01s\n",
      "196:\tlearn: 0.2213206\ttotal: 247ms\tremaining: 1.01s\n",
      "197:\tlearn: 0.2208700\ttotal: 248ms\tremaining: 1s\n",
      "198:\tlearn: 0.2202475\ttotal: 249ms\tremaining: 1s\n",
      "199:\tlearn: 0.2197727\ttotal: 250ms\tremaining: 1s\n",
      "200:\tlearn: 0.2190090\ttotal: 251ms\tremaining: 998ms\n",
      "201:\tlearn: 0.2183922\ttotal: 252ms\tremaining: 997ms\n",
      "202:\tlearn: 0.2178004\ttotal: 253ms\tremaining: 995ms\n",
      "203:\tlearn: 0.2173410\ttotal: 255ms\tremaining: 993ms\n",
      "204:\tlearn: 0.2167607\ttotal: 255ms\tremaining: 991ms\n",
      "205:\tlearn: 0.2163741\ttotal: 256ms\tremaining: 988ms\n",
      "206:\tlearn: 0.2156293\ttotal: 257ms\tremaining: 986ms\n",
      "207:\tlearn: 0.2151076\ttotal: 258ms\tremaining: 984ms\n",
      "208:\tlearn: 0.2146248\ttotal: 259ms\tremaining: 982ms\n",
      "209:\tlearn: 0.2139444\ttotal: 260ms\tremaining: 979ms\n",
      "210:\tlearn: 0.2134789\ttotal: 261ms\tremaining: 977ms\n",
      "211:\tlearn: 0.2130301\ttotal: 262ms\tremaining: 975ms\n",
      "212:\tlearn: 0.2124740\ttotal: 263ms\tremaining: 973ms\n",
      "213:\tlearn: 0.2121848\ttotal: 264ms\tremaining: 971ms\n"
     ]
    },
    {
     "name": "stdout",
     "output_type": "stream",
     "text": [
      "214:\tlearn: 0.2117228\ttotal: 265ms\tremaining: 969ms\n",
      "215:\tlearn: 0.2113976\ttotal: 267ms\tremaining: 969ms\n",
      "216:\tlearn: 0.2109489\ttotal: 268ms\tremaining: 967ms\n",
      "217:\tlearn: 0.2105828\ttotal: 269ms\tremaining: 965ms\n",
      "218:\tlearn: 0.2100391\ttotal: 270ms\tremaining: 963ms\n",
      "219:\tlearn: 0.2095400\ttotal: 271ms\tremaining: 961ms\n",
      "220:\tlearn: 0.2089916\ttotal: 272ms\tremaining: 959ms\n",
      "221:\tlearn: 0.2087636\ttotal: 273ms\tremaining: 957ms\n",
      "222:\tlearn: 0.2080706\ttotal: 274ms\tremaining: 955ms\n",
      "223:\tlearn: 0.2077229\ttotal: 275ms\tremaining: 954ms\n",
      "224:\tlearn: 0.2071473\ttotal: 276ms\tremaining: 952ms\n",
      "225:\tlearn: 0.2067068\ttotal: 277ms\tremaining: 950ms\n",
      "226:\tlearn: 0.2065078\ttotal: 278ms\tremaining: 948ms\n",
      "227:\tlearn: 0.2060258\ttotal: 280ms\tremaining: 947ms\n",
      "228:\tlearn: 0.2056380\ttotal: 281ms\tremaining: 945ms\n",
      "229:\tlearn: 0.2050871\ttotal: 282ms\tremaining: 943ms\n",
      "230:\tlearn: 0.2045504\ttotal: 283ms\tremaining: 941ms\n",
      "231:\tlearn: 0.2042464\ttotal: 284ms\tremaining: 939ms\n",
      "232:\tlearn: 0.2038686\ttotal: 285ms\tremaining: 937ms\n",
      "233:\tlearn: 0.2033343\ttotal: 286ms\tremaining: 935ms\n",
      "234:\tlearn: 0.2030247\ttotal: 287ms\tremaining: 933ms\n",
      "235:\tlearn: 0.2026281\ttotal: 288ms\tremaining: 931ms\n",
      "236:\tlearn: 0.2023172\ttotal: 289ms\tremaining: 929ms\n",
      "237:\tlearn: 0.2020504\ttotal: 290ms\tremaining: 927ms\n",
      "238:\tlearn: 0.2014176\ttotal: 290ms\tremaining: 925ms\n",
      "239:\tlearn: 0.2009354\ttotal: 292ms\tremaining: 923ms\n",
      "240:\tlearn: 0.2007206\ttotal: 293ms\tremaining: 922ms\n",
      "241:\tlearn: 0.1998537\ttotal: 294ms\tremaining: 920ms\n",
      "242:\tlearn: 0.1994246\ttotal: 295ms\tremaining: 918ms\n",
      "243:\tlearn: 0.1991155\ttotal: 296ms\tremaining: 917ms\n",
      "244:\tlearn: 0.1989237\ttotal: 297ms\tremaining: 915ms\n",
      "245:\tlearn: 0.1986118\ttotal: 298ms\tremaining: 913ms\n",
      "246:\tlearn: 0.1980725\ttotal: 299ms\tremaining: 912ms\n",
      "247:\tlearn: 0.1974310\ttotal: 300ms\tremaining: 910ms\n",
      "248:\tlearn: 0.1970446\ttotal: 301ms\tremaining: 909ms\n",
      "249:\tlearn: 0.1965859\ttotal: 302ms\tremaining: 907ms\n",
      "250:\tlearn: 0.1963555\ttotal: 303ms\tremaining: 905ms\n",
      "251:\tlearn: 0.1957503\ttotal: 304ms\tremaining: 904ms\n",
      "252:\tlearn: 0.1952309\ttotal: 305ms\tremaining: 902ms\n",
      "253:\tlearn: 0.1946373\ttotal: 306ms\tremaining: 900ms\n",
      "254:\tlearn: 0.1940827\ttotal: 307ms\tremaining: 898ms\n",
      "255:\tlearn: 0.1936383\ttotal: 309ms\tremaining: 897ms\n",
      "256:\tlearn: 0.1933843\ttotal: 310ms\tremaining: 895ms\n",
      "257:\tlearn: 0.1926017\ttotal: 311ms\tremaining: 893ms\n",
      "258:\tlearn: 0.1921481\ttotal: 312ms\tremaining: 891ms\n",
      "259:\tlearn: 0.1914572\ttotal: 313ms\tremaining: 890ms\n",
      "260:\tlearn: 0.1913014\ttotal: 314ms\tremaining: 888ms\n",
      "261:\tlearn: 0.1908647\ttotal: 315ms\tremaining: 887ms\n",
      "262:\tlearn: 0.1905020\ttotal: 316ms\tremaining: 885ms\n",
      "263:\tlearn: 0.1900310\ttotal: 317ms\tremaining: 883ms\n",
      "264:\tlearn: 0.1895031\ttotal: 318ms\tremaining: 882ms\n",
      "265:\tlearn: 0.1890850\ttotal: 319ms\tremaining: 880ms\n",
      "266:\tlearn: 0.1886830\ttotal: 320ms\tremaining: 879ms\n",
      "267:\tlearn: 0.1884884\ttotal: 321ms\tremaining: 877ms\n",
      "268:\tlearn: 0.1880157\ttotal: 322ms\tremaining: 875ms\n",
      "269:\tlearn: 0.1878606\ttotal: 323ms\tremaining: 873ms\n",
      "270:\tlearn: 0.1875617\ttotal: 324ms\tremaining: 872ms\n",
      "271:\tlearn: 0.1873127\ttotal: 325ms\tremaining: 870ms\n",
      "272:\tlearn: 0.1869711\ttotal: 326ms\tremaining: 868ms\n",
      "273:\tlearn: 0.1863586\ttotal: 327ms\tremaining: 867ms\n",
      "274:\tlearn: 0.1858808\ttotal: 328ms\tremaining: 865ms\n",
      "275:\tlearn: 0.1854223\ttotal: 329ms\tremaining: 863ms\n",
      "276:\tlearn: 0.1848559\ttotal: 330ms\tremaining: 862ms\n",
      "277:\tlearn: 0.1844165\ttotal: 331ms\tremaining: 860ms\n",
      "278:\tlearn: 0.1840879\ttotal: 332ms\tremaining: 859ms\n",
      "279:\tlearn: 0.1836682\ttotal: 333ms\tremaining: 857ms\n",
      "280:\tlearn: 0.1831767\ttotal: 334ms\tremaining: 855ms\n",
      "281:\tlearn: 0.1829583\ttotal: 335ms\tremaining: 854ms\n",
      "282:\tlearn: 0.1825230\ttotal: 336ms\tremaining: 852ms\n",
      "283:\tlearn: 0.1821800\ttotal: 337ms\tremaining: 850ms\n",
      "284:\tlearn: 0.1819232\ttotal: 338ms\tremaining: 849ms\n",
      "285:\tlearn: 0.1814401\ttotal: 339ms\tremaining: 847ms\n",
      "286:\tlearn: 0.1809487\ttotal: 340ms\tremaining: 846ms\n",
      "287:\tlearn: 0.1804247\ttotal: 341ms\tremaining: 844ms\n",
      "288:\tlearn: 0.1799796\ttotal: 343ms\tremaining: 843ms\n",
      "289:\tlearn: 0.1796374\ttotal: 344ms\tremaining: 841ms\n",
      "290:\tlearn: 0.1791928\ttotal: 345ms\tremaining: 840ms\n",
      "291:\tlearn: 0.1787692\ttotal: 346ms\tremaining: 838ms\n",
      "292:\tlearn: 0.1783376\ttotal: 347ms\tremaining: 837ms\n",
      "293:\tlearn: 0.1780844\ttotal: 348ms\tremaining: 835ms\n",
      "294:\tlearn: 0.1776762\ttotal: 349ms\tremaining: 834ms\n",
      "295:\tlearn: 0.1772336\ttotal: 350ms\tremaining: 832ms\n",
      "296:\tlearn: 0.1768186\ttotal: 351ms\tremaining: 830ms\n",
      "297:\tlearn: 0.1764859\ttotal: 352ms\tremaining: 829ms\n",
      "298:\tlearn: 0.1761681\ttotal: 353ms\tremaining: 828ms\n",
      "299:\tlearn: 0.1758182\ttotal: 354ms\tremaining: 826ms\n",
      "300:\tlearn: 0.1754567\ttotal: 355ms\tremaining: 824ms\n",
      "301:\tlearn: 0.1750830\ttotal: 356ms\tremaining: 823ms\n",
      "302:\tlearn: 0.1746755\ttotal: 357ms\tremaining: 821ms\n",
      "303:\tlearn: 0.1741296\ttotal: 358ms\tremaining: 820ms\n",
      "304:\tlearn: 0.1737420\ttotal: 359ms\tremaining: 818ms\n",
      "305:\tlearn: 0.1733330\ttotal: 360ms\tremaining: 817ms\n",
      "306:\tlearn: 0.1728513\ttotal: 361ms\tremaining: 815ms\n",
      "307:\tlearn: 0.1726006\ttotal: 362ms\tremaining: 813ms\n",
      "308:\tlearn: 0.1724396\ttotal: 363ms\tremaining: 813ms\n",
      "309:\tlearn: 0.1720142\ttotal: 365ms\tremaining: 811ms\n",
      "310:\tlearn: 0.1716252\ttotal: 366ms\tremaining: 810ms\n",
      "311:\tlearn: 0.1713875\ttotal: 367ms\tremaining: 809ms\n",
      "312:\tlearn: 0.1709861\ttotal: 368ms\tremaining: 807ms\n",
      "313:\tlearn: 0.1707738\ttotal: 369ms\tremaining: 806ms\n",
      "314:\tlearn: 0.1703647\ttotal: 370ms\tremaining: 805ms\n",
      "315:\tlearn: 0.1700096\ttotal: 371ms\tremaining: 803ms\n",
      "316:\tlearn: 0.1695782\ttotal: 372ms\tremaining: 802ms\n",
      "317:\tlearn: 0.1693582\ttotal: 373ms\tremaining: 800ms\n",
      "318:\tlearn: 0.1689977\ttotal: 374ms\tremaining: 799ms\n",
      "319:\tlearn: 0.1686169\ttotal: 375ms\tremaining: 797ms\n",
      "320:\tlearn: 0.1682603\ttotal: 377ms\tremaining: 796ms\n",
      "321:\tlearn: 0.1678986\ttotal: 378ms\tremaining: 795ms\n",
      "322:\tlearn: 0.1676104\ttotal: 379ms\tremaining: 794ms\n",
      "323:\tlearn: 0.1672386\ttotal: 380ms\tremaining: 793ms\n",
      "324:\tlearn: 0.1669717\ttotal: 381ms\tremaining: 792ms\n",
      "325:\tlearn: 0.1667819\ttotal: 382ms\tremaining: 790ms\n",
      "326:\tlearn: 0.1663953\ttotal: 383ms\tremaining: 789ms\n",
      "327:\tlearn: 0.1658125\ttotal: 384ms\tremaining: 787ms\n",
      "328:\tlearn: 0.1655930\ttotal: 385ms\tremaining: 785ms\n",
      "329:\tlearn: 0.1651612\ttotal: 386ms\tremaining: 784ms\n",
      "330:\tlearn: 0.1650874\ttotal: 387ms\tremaining: 782ms\n",
      "331:\tlearn: 0.1647559\ttotal: 388ms\tremaining: 781ms\n",
      "332:\tlearn: 0.1644019\ttotal: 389ms\tremaining: 780ms\n",
      "333:\tlearn: 0.1639614\ttotal: 390ms\tremaining: 778ms\n",
      "334:\tlearn: 0.1636032\ttotal: 391ms\tremaining: 777ms\n",
      "335:\tlearn: 0.1631904\ttotal: 392ms\tremaining: 775ms\n",
      "336:\tlearn: 0.1628447\ttotal: 393ms\tremaining: 774ms\n",
      "337:\tlearn: 0.1625873\ttotal: 394ms\tremaining: 773ms\n",
      "338:\tlearn: 0.1622740\ttotal: 395ms\tremaining: 771ms\n",
      "339:\tlearn: 0.1619168\ttotal: 396ms\tremaining: 770ms\n",
      "340:\tlearn: 0.1616781\ttotal: 398ms\tremaining: 768ms\n",
      "341:\tlearn: 0.1613909\ttotal: 399ms\tremaining: 767ms\n",
      "342:\tlearn: 0.1611436\ttotal: 400ms\tremaining: 765ms\n"
     ]
    },
    {
     "name": "stdout",
     "output_type": "stream",
     "text": [
      "343:\tlearn: 0.1608443\ttotal: 401ms\tremaining: 765ms\n",
      "344:\tlearn: 0.1603818\ttotal: 402ms\tremaining: 764ms\n",
      "345:\tlearn: 0.1597990\ttotal: 403ms\tremaining: 763ms\n",
      "346:\tlearn: 0.1596294\ttotal: 404ms\tremaining: 761ms\n",
      "347:\tlearn: 0.1592144\ttotal: 405ms\tremaining: 760ms\n",
      "348:\tlearn: 0.1588747\ttotal: 406ms\tremaining: 758ms\n",
      "349:\tlearn: 0.1587596\ttotal: 407ms\tremaining: 757ms\n",
      "350:\tlearn: 0.1584815\ttotal: 408ms\tremaining: 755ms\n",
      "351:\tlearn: 0.1581558\ttotal: 409ms\tremaining: 754ms\n",
      "352:\tlearn: 0.1576875\ttotal: 411ms\tremaining: 752ms\n",
      "353:\tlearn: 0.1573803\ttotal: 412ms\tremaining: 751ms\n",
      "354:\tlearn: 0.1571633\ttotal: 413ms\tremaining: 750ms\n",
      "355:\tlearn: 0.1569267\ttotal: 414ms\tremaining: 748ms\n",
      "356:\tlearn: 0.1566785\ttotal: 415ms\tremaining: 747ms\n",
      "357:\tlearn: 0.1563360\ttotal: 416ms\tremaining: 745ms\n",
      "358:\tlearn: 0.1558679\ttotal: 417ms\tremaining: 744ms\n",
      "359:\tlearn: 0.1557659\ttotal: 418ms\tremaining: 742ms\n",
      "360:\tlearn: 0.1555419\ttotal: 419ms\tremaining: 741ms\n",
      "361:\tlearn: 0.1552287\ttotal: 420ms\tremaining: 740ms\n",
      "362:\tlearn: 0.1548294\ttotal: 421ms\tremaining: 738ms\n",
      "363:\tlearn: 0.1545038\ttotal: 422ms\tremaining: 737ms\n",
      "364:\tlearn: 0.1542758\ttotal: 423ms\tremaining: 735ms\n",
      "365:\tlearn: 0.1539680\ttotal: 424ms\tremaining: 734ms\n",
      "366:\tlearn: 0.1536461\ttotal: 425ms\tremaining: 733ms\n",
      "367:\tlearn: 0.1533222\ttotal: 426ms\tremaining: 732ms\n",
      "368:\tlearn: 0.1530814\ttotal: 430ms\tremaining: 735ms\n",
      "369:\tlearn: 0.1527241\ttotal: 431ms\tremaining: 734ms\n",
      "370:\tlearn: 0.1522701\ttotal: 432ms\tremaining: 733ms\n",
      "371:\tlearn: 0.1521357\ttotal: 433ms\tremaining: 732ms\n",
      "372:\tlearn: 0.1519795\ttotal: 434ms\tremaining: 730ms\n",
      "373:\tlearn: 0.1515285\ttotal: 436ms\tremaining: 729ms\n",
      "374:\tlearn: 0.1510374\ttotal: 437ms\tremaining: 728ms\n",
      "375:\tlearn: 0.1507554\ttotal: 438ms\tremaining: 727ms\n",
      "376:\tlearn: 0.1504208\ttotal: 439ms\tremaining: 726ms\n",
      "377:\tlearn: 0.1499663\ttotal: 440ms\tremaining: 724ms\n",
      "378:\tlearn: 0.1496642\ttotal: 441ms\tremaining: 723ms\n",
      "379:\tlearn: 0.1494307\ttotal: 442ms\tremaining: 721ms\n",
      "380:\tlearn: 0.1491230\ttotal: 443ms\tremaining: 720ms\n",
      "381:\tlearn: 0.1487611\ttotal: 444ms\tremaining: 719ms\n",
      "382:\tlearn: 0.1485297\ttotal: 445ms\tremaining: 717ms\n",
      "383:\tlearn: 0.1480918\ttotal: 446ms\tremaining: 715ms\n",
      "384:\tlearn: 0.1477823\ttotal: 447ms\tremaining: 714ms\n",
      "385:\tlearn: 0.1474684\ttotal: 448ms\tremaining: 713ms\n",
      "386:\tlearn: 0.1469965\ttotal: 449ms\tremaining: 711ms\n",
      "387:\tlearn: 0.1465606\ttotal: 450ms\tremaining: 710ms\n",
      "388:\tlearn: 0.1461731\ttotal: 451ms\tremaining: 709ms\n",
      "389:\tlearn: 0.1458865\ttotal: 452ms\tremaining: 707ms\n",
      "390:\tlearn: 0.1455820\ttotal: 453ms\tremaining: 706ms\n",
      "391:\tlearn: 0.1453340\ttotal: 454ms\tremaining: 704ms\n",
      "392:\tlearn: 0.1450159\ttotal: 455ms\tremaining: 703ms\n",
      "393:\tlearn: 0.1448843\ttotal: 456ms\tremaining: 701ms\n",
      "394:\tlearn: 0.1445672\ttotal: 457ms\tremaining: 700ms\n",
      "395:\tlearn: 0.1443166\ttotal: 458ms\tremaining: 698ms\n",
      "396:\tlearn: 0.1440741\ttotal: 459ms\tremaining: 697ms\n",
      "397:\tlearn: 0.1438911\ttotal: 460ms\tremaining: 696ms\n",
      "398:\tlearn: 0.1435116\ttotal: 461ms\tremaining: 694ms\n",
      "399:\tlearn: 0.1431667\ttotal: 462ms\tremaining: 693ms\n",
      "400:\tlearn: 0.1429917\ttotal: 463ms\tremaining: 691ms\n",
      "401:\tlearn: 0.1428048\ttotal: 464ms\tremaining: 690ms\n",
      "402:\tlearn: 0.1426543\ttotal: 465ms\tremaining: 689ms\n",
      "403:\tlearn: 0.1424007\ttotal: 466ms\tremaining: 687ms\n",
      "404:\tlearn: 0.1420883\ttotal: 467ms\tremaining: 686ms\n",
      "405:\tlearn: 0.1418972\ttotal: 468ms\tremaining: 684ms\n",
      "406:\tlearn: 0.1416881\ttotal: 469ms\tremaining: 683ms\n",
      "407:\tlearn: 0.1412300\ttotal: 470ms\tremaining: 682ms\n",
      "408:\tlearn: 0.1410739\ttotal: 471ms\tremaining: 680ms\n",
      "409:\tlearn: 0.1406852\ttotal: 472ms\tremaining: 679ms\n",
      "410:\tlearn: 0.1405001\ttotal: 473ms\tremaining: 678ms\n",
      "411:\tlearn: 0.1402430\ttotal: 474ms\tremaining: 677ms\n",
      "412:\tlearn: 0.1399237\ttotal: 475ms\tremaining: 675ms\n",
      "413:\tlearn: 0.1395161\ttotal: 476ms\tremaining: 674ms\n",
      "414:\tlearn: 0.1391976\ttotal: 477ms\tremaining: 672ms\n",
      "415:\tlearn: 0.1389869\ttotal: 478ms\tremaining: 671ms\n",
      "416:\tlearn: 0.1387190\ttotal: 479ms\tremaining: 670ms\n",
      "417:\tlearn: 0.1382934\ttotal: 480ms\tremaining: 668ms\n",
      "418:\tlearn: 0.1381814\ttotal: 481ms\tremaining: 667ms\n",
      "419:\tlearn: 0.1380419\ttotal: 482ms\tremaining: 666ms\n",
      "420:\tlearn: 0.1377627\ttotal: 483ms\tremaining: 664ms\n",
      "421:\tlearn: 0.1374734\ttotal: 484ms\tremaining: 663ms\n",
      "422:\tlearn: 0.1373535\ttotal: 485ms\tremaining: 662ms\n",
      "423:\tlearn: 0.1369582\ttotal: 486ms\tremaining: 660ms\n",
      "424:\tlearn: 0.1366732\ttotal: 487ms\tremaining: 659ms\n",
      "425:\tlearn: 0.1363593\ttotal: 488ms\tremaining: 658ms\n",
      "426:\tlearn: 0.1362295\ttotal: 489ms\tremaining: 656ms\n",
      "427:\tlearn: 0.1360726\ttotal: 490ms\tremaining: 655ms\n",
      "428:\tlearn: 0.1360194\ttotal: 491ms\tremaining: 654ms\n",
      "429:\tlearn: 0.1356037\ttotal: 492ms\tremaining: 652ms\n",
      "430:\tlearn: 0.1354868\ttotal: 493ms\tremaining: 651ms\n",
      "431:\tlearn: 0.1350980\ttotal: 494ms\tremaining: 650ms\n",
      "432:\tlearn: 0.1347702\ttotal: 495ms\tremaining: 648ms\n",
      "433:\tlearn: 0.1345864\ttotal: 496ms\tremaining: 647ms\n",
      "434:\tlearn: 0.1343278\ttotal: 497ms\tremaining: 645ms\n",
      "435:\tlearn: 0.1339987\ttotal: 498ms\tremaining: 644ms\n",
      "436:\tlearn: 0.1336750\ttotal: 499ms\tremaining: 643ms\n",
      "437:\tlearn: 0.1333687\ttotal: 500ms\tremaining: 642ms\n",
      "438:\tlearn: 0.1333008\ttotal: 501ms\tremaining: 640ms\n",
      "439:\tlearn: 0.1331388\ttotal: 502ms\tremaining: 639ms\n",
      "440:\tlearn: 0.1330267\ttotal: 503ms\tremaining: 638ms\n",
      "441:\tlearn: 0.1328199\ttotal: 504ms\tremaining: 636ms\n",
      "442:\tlearn: 0.1326611\ttotal: 505ms\tremaining: 635ms\n",
      "443:\tlearn: 0.1323000\ttotal: 506ms\tremaining: 634ms\n",
      "444:\tlearn: 0.1320567\ttotal: 507ms\tremaining: 633ms\n",
      "445:\tlearn: 0.1316398\ttotal: 508ms\tremaining: 631ms\n",
      "446:\tlearn: 0.1315006\ttotal: 509ms\tremaining: 630ms\n",
      "447:\tlearn: 0.1312927\ttotal: 511ms\tremaining: 629ms\n",
      "448:\tlearn: 0.1309453\ttotal: 512ms\tremaining: 628ms\n",
      "449:\tlearn: 0.1306425\ttotal: 513ms\tremaining: 627ms\n",
      "450:\tlearn: 0.1303830\ttotal: 514ms\tremaining: 625ms\n",
      "451:\tlearn: 0.1300936\ttotal: 515ms\tremaining: 624ms\n",
      "452:\tlearn: 0.1298140\ttotal: 516ms\tremaining: 623ms\n",
      "453:\tlearn: 0.1296108\ttotal: 517ms\tremaining: 622ms\n",
      "454:\tlearn: 0.1293933\ttotal: 518ms\tremaining: 621ms\n",
      "455:\tlearn: 0.1291111\ttotal: 519ms\tremaining: 619ms\n",
      "456:\tlearn: 0.1289688\ttotal: 520ms\tremaining: 618ms\n",
      "457:\tlearn: 0.1287407\ttotal: 521ms\tremaining: 617ms\n",
      "458:\tlearn: 0.1286032\ttotal: 522ms\tremaining: 616ms\n",
      "459:\tlearn: 0.1283598\ttotal: 523ms\tremaining: 615ms\n",
      "460:\tlearn: 0.1281797\ttotal: 525ms\tremaining: 613ms\n",
      "461:\tlearn: 0.1278758\ttotal: 526ms\tremaining: 612ms\n",
      "462:\tlearn: 0.1275819\ttotal: 527ms\tremaining: 611ms\n",
      "463:\tlearn: 0.1273429\ttotal: 528ms\tremaining: 610ms\n",
      "464:\tlearn: 0.1271114\ttotal: 529ms\tremaining: 609ms\n",
      "465:\tlearn: 0.1267727\ttotal: 530ms\tremaining: 607ms\n",
      "466:\tlearn: 0.1265967\ttotal: 531ms\tremaining: 606ms\n",
      "467:\tlearn: 0.1264130\ttotal: 532ms\tremaining: 605ms\n",
      "468:\tlearn: 0.1263612\ttotal: 533ms\tremaining: 604ms\n"
     ]
    },
    {
     "name": "stdout",
     "output_type": "stream",
     "text": [
      "469:\tlearn: 0.1262433\ttotal: 535ms\tremaining: 603ms\n",
      "470:\tlearn: 0.1260737\ttotal: 536ms\tremaining: 602ms\n",
      "471:\tlearn: 0.1259007\ttotal: 537ms\tremaining: 601ms\n",
      "472:\tlearn: 0.1258698\ttotal: 538ms\tremaining: 600ms\n",
      "473:\tlearn: 0.1258399\ttotal: 539ms\tremaining: 598ms\n",
      "474:\tlearn: 0.1254463\ttotal: 540ms\tremaining: 597ms\n",
      "475:\tlearn: 0.1251961\ttotal: 541ms\tremaining: 596ms\n",
      "476:\tlearn: 0.1249983\ttotal: 542ms\tremaining: 595ms\n",
      "477:\tlearn: 0.1247809\ttotal: 543ms\tremaining: 594ms\n",
      "478:\tlearn: 0.1245201\ttotal: 545ms\tremaining: 592ms\n",
      "479:\tlearn: 0.1242524\ttotal: 546ms\tremaining: 591ms\n",
      "480:\tlearn: 0.1240755\ttotal: 547ms\tremaining: 590ms\n",
      "481:\tlearn: 0.1237667\ttotal: 548ms\tremaining: 589ms\n",
      "482:\tlearn: 0.1235531\ttotal: 549ms\tremaining: 587ms\n",
      "483:\tlearn: 0.1233758\ttotal: 550ms\tremaining: 586ms\n",
      "484:\tlearn: 0.1231443\ttotal: 551ms\tremaining: 585ms\n",
      "485:\tlearn: 0.1229565\ttotal: 552ms\tremaining: 583ms\n",
      "486:\tlearn: 0.1228840\ttotal: 553ms\tremaining: 582ms\n",
      "487:\tlearn: 0.1227199\ttotal: 554ms\tremaining: 581ms\n",
      "488:\tlearn: 0.1224905\ttotal: 555ms\tremaining: 580ms\n",
      "489:\tlearn: 0.1223993\ttotal: 556ms\tremaining: 578ms\n",
      "490:\tlearn: 0.1221783\ttotal: 557ms\tremaining: 577ms\n",
      "491:\tlearn: 0.1219751\ttotal: 558ms\tremaining: 576ms\n",
      "492:\tlearn: 0.1216917\ttotal: 559ms\tremaining: 575ms\n",
      "493:\tlearn: 0.1213925\ttotal: 560ms\tremaining: 574ms\n",
      "494:\tlearn: 0.1211920\ttotal: 561ms\tremaining: 572ms\n",
      "495:\tlearn: 0.1208918\ttotal: 562ms\tremaining: 571ms\n",
      "496:\tlearn: 0.1206116\ttotal: 563ms\tremaining: 570ms\n",
      "497:\tlearn: 0.1203315\ttotal: 564ms\tremaining: 569ms\n",
      "498:\tlearn: 0.1201493\ttotal: 565ms\tremaining: 568ms\n",
      "499:\tlearn: 0.1199132\ttotal: 567ms\tremaining: 567ms\n",
      "500:\tlearn: 0.1197577\ttotal: 568ms\tremaining: 565ms\n",
      "501:\tlearn: 0.1196454\ttotal: 568ms\tremaining: 564ms\n",
      "502:\tlearn: 0.1193318\ttotal: 570ms\tremaining: 563ms\n",
      "503:\tlearn: 0.1191480\ttotal: 571ms\tremaining: 561ms\n",
      "504:\tlearn: 0.1188342\ttotal: 572ms\tremaining: 560ms\n",
      "505:\tlearn: 0.1185591\ttotal: 573ms\tremaining: 559ms\n",
      "506:\tlearn: 0.1183410\ttotal: 574ms\tremaining: 558ms\n",
      "507:\tlearn: 0.1181996\ttotal: 575ms\tremaining: 557ms\n",
      "508:\tlearn: 0.1181073\ttotal: 576ms\tremaining: 555ms\n",
      "509:\tlearn: 0.1180820\ttotal: 577ms\tremaining: 554ms\n",
      "510:\tlearn: 0.1177760\ttotal: 578ms\tremaining: 553ms\n",
      "511:\tlearn: 0.1174852\ttotal: 579ms\tremaining: 552ms\n",
      "512:\tlearn: 0.1174008\ttotal: 580ms\tremaining: 551ms\n",
      "513:\tlearn: 0.1172360\ttotal: 581ms\tremaining: 549ms\n",
      "514:\tlearn: 0.1170641\ttotal: 582ms\tremaining: 548ms\n",
      "515:\tlearn: 0.1168762\ttotal: 583ms\tremaining: 547ms\n",
      "516:\tlearn: 0.1166692\ttotal: 584ms\tremaining: 545ms\n",
      "517:\tlearn: 0.1164973\ttotal: 585ms\tremaining: 544ms\n",
      "518:\tlearn: 0.1164538\ttotal: 586ms\tremaining: 543ms\n",
      "519:\tlearn: 0.1162001\ttotal: 587ms\tremaining: 542ms\n",
      "520:\tlearn: 0.1161422\ttotal: 588ms\tremaining: 541ms\n",
      "521:\tlearn: 0.1158913\ttotal: 589ms\tremaining: 539ms\n",
      "522:\tlearn: 0.1155824\ttotal: 590ms\tremaining: 538ms\n",
      "523:\tlearn: 0.1154883\ttotal: 591ms\tremaining: 537ms\n",
      "524:\tlearn: 0.1153424\ttotal: 592ms\tremaining: 536ms\n",
      "525:\tlearn: 0.1150854\ttotal: 593ms\tremaining: 535ms\n",
      "526:\tlearn: 0.1150051\ttotal: 594ms\tremaining: 533ms\n",
      "527:\tlearn: 0.1148157\ttotal: 595ms\tremaining: 532ms\n",
      "528:\tlearn: 0.1146077\ttotal: 596ms\tremaining: 531ms\n",
      "529:\tlearn: 0.1141821\ttotal: 597ms\tremaining: 530ms\n",
      "530:\tlearn: 0.1140228\ttotal: 598ms\tremaining: 528ms\n",
      "531:\tlearn: 0.1138774\ttotal: 599ms\tremaining: 527ms\n",
      "532:\tlearn: 0.1136975\ttotal: 600ms\tremaining: 526ms\n",
      "533:\tlearn: 0.1136751\ttotal: 601ms\tremaining: 525ms\n",
      "534:\tlearn: 0.1134747\ttotal: 602ms\tremaining: 524ms\n",
      "535:\tlearn: 0.1132237\ttotal: 604ms\tremaining: 523ms\n",
      "536:\tlearn: 0.1129844\ttotal: 605ms\tremaining: 521ms\n",
      "537:\tlearn: 0.1127788\ttotal: 606ms\tremaining: 520ms\n",
      "538:\tlearn: 0.1125892\ttotal: 607ms\tremaining: 519ms\n",
      "539:\tlearn: 0.1124347\ttotal: 608ms\tremaining: 518ms\n",
      "540:\tlearn: 0.1121661\ttotal: 609ms\tremaining: 516ms\n",
      "541:\tlearn: 0.1120071\ttotal: 610ms\tremaining: 515ms\n",
      "542:\tlearn: 0.1117119\ttotal: 611ms\tremaining: 514ms\n",
      "543:\tlearn: 0.1116696\ttotal: 612ms\tremaining: 513ms\n",
      "544:\tlearn: 0.1115489\ttotal: 613ms\tremaining: 511ms\n",
      "545:\tlearn: 0.1113395\ttotal: 614ms\tremaining: 510ms\n",
      "546:\tlearn: 0.1110656\ttotal: 615ms\tremaining: 509ms\n",
      "547:\tlearn: 0.1108309\ttotal: 616ms\tremaining: 508ms\n",
      "548:\tlearn: 0.1106248\ttotal: 617ms\tremaining: 507ms\n",
      "549:\tlearn: 0.1104176\ttotal: 618ms\tremaining: 505ms\n",
      "550:\tlearn: 0.1101864\ttotal: 619ms\tremaining: 504ms\n",
      "551:\tlearn: 0.1099745\ttotal: 620ms\tremaining: 503ms\n",
      "552:\tlearn: 0.1096694\ttotal: 621ms\tremaining: 502ms\n",
      "553:\tlearn: 0.1094803\ttotal: 622ms\tremaining: 500ms\n",
      "554:\tlearn: 0.1092733\ttotal: 622ms\tremaining: 499ms\n",
      "555:\tlearn: 0.1089807\ttotal: 624ms\tremaining: 498ms\n",
      "556:\tlearn: 0.1087396\ttotal: 625ms\tremaining: 497ms\n",
      "557:\tlearn: 0.1085409\ttotal: 626ms\tremaining: 496ms\n",
      "558:\tlearn: 0.1084249\ttotal: 627ms\tremaining: 494ms\n",
      "559:\tlearn: 0.1082282\ttotal: 628ms\tremaining: 493ms\n",
      "560:\tlearn: 0.1081251\ttotal: 629ms\tremaining: 492ms\n",
      "561:\tlearn: 0.1079584\ttotal: 630ms\tremaining: 491ms\n",
      "562:\tlearn: 0.1077464\ttotal: 631ms\tremaining: 490ms\n",
      "563:\tlearn: 0.1075150\ttotal: 632ms\tremaining: 489ms\n",
      "564:\tlearn: 0.1073407\ttotal: 633ms\tremaining: 487ms\n",
      "565:\tlearn: 0.1072042\ttotal: 634ms\tremaining: 486ms\n",
      "566:\tlearn: 0.1071157\ttotal: 635ms\tremaining: 485ms\n",
      "567:\tlearn: 0.1069068\ttotal: 636ms\tremaining: 484ms\n",
      "568:\tlearn: 0.1066685\ttotal: 637ms\tremaining: 483ms\n",
      "569:\tlearn: 0.1065197\ttotal: 638ms\tremaining: 481ms\n",
      "570:\tlearn: 0.1062356\ttotal: 639ms\tremaining: 480ms\n",
      "571:\tlearn: 0.1060468\ttotal: 640ms\tremaining: 479ms\n",
      "572:\tlearn: 0.1057312\ttotal: 641ms\tremaining: 478ms\n",
      "573:\tlearn: 0.1055213\ttotal: 642ms\tremaining: 476ms\n",
      "574:\tlearn: 0.1053705\ttotal: 643ms\tremaining: 475ms\n",
      "575:\tlearn: 0.1051525\ttotal: 644ms\tremaining: 474ms\n",
      "576:\tlearn: 0.1051197\ttotal: 645ms\tremaining: 473ms\n",
      "577:\tlearn: 0.1049963\ttotal: 646ms\tremaining: 472ms\n",
      "578:\tlearn: 0.1046859\ttotal: 647ms\tremaining: 470ms\n",
      "579:\tlearn: 0.1044841\ttotal: 648ms\tremaining: 469ms\n",
      "580:\tlearn: 0.1042718\ttotal: 649ms\tremaining: 468ms\n",
      "581:\tlearn: 0.1041105\ttotal: 650ms\tremaining: 467ms\n",
      "582:\tlearn: 0.1038885\ttotal: 651ms\tremaining: 466ms\n",
      "583:\tlearn: 0.1038052\ttotal: 652ms\tremaining: 464ms\n",
      "584:\tlearn: 0.1036197\ttotal: 653ms\tremaining: 463ms\n",
      "585:\tlearn: 0.1035170\ttotal: 654ms\tremaining: 462ms\n",
      "586:\tlearn: 0.1032758\ttotal: 655ms\tremaining: 461ms\n",
      "587:\tlearn: 0.1031219\ttotal: 656ms\tremaining: 459ms\n",
      "588:\tlearn: 0.1030112\ttotal: 657ms\tremaining: 458ms\n",
      "589:\tlearn: 0.1028342\ttotal: 658ms\tremaining: 457ms\n",
      "590:\tlearn: 0.1026388\ttotal: 659ms\tremaining: 456ms\n",
      "591:\tlearn: 0.1024475\ttotal: 661ms\tremaining: 455ms\n",
      "592:\tlearn: 0.1023054\ttotal: 662ms\tremaining: 454ms\n",
      "593:\tlearn: 0.1022013\ttotal: 663ms\tremaining: 453ms\n",
      "594:\tlearn: 0.1018786\ttotal: 664ms\tremaining: 452ms\n",
      "595:\tlearn: 0.1016579\ttotal: 665ms\tremaining: 451ms\n",
      "596:\tlearn: 0.1015800\ttotal: 666ms\tremaining: 450ms\n",
      "597:\tlearn: 0.1014996\ttotal: 667ms\tremaining: 448ms\n",
      "598:\tlearn: 0.1013369\ttotal: 668ms\tremaining: 447ms\n"
     ]
    },
    {
     "name": "stdout",
     "output_type": "stream",
     "text": [
      "599:\tlearn: 0.1012608\ttotal: 670ms\tremaining: 447ms\n",
      "600:\tlearn: 0.1011663\ttotal: 671ms\tremaining: 446ms\n",
      "601:\tlearn: 0.1009299\ttotal: 672ms\tremaining: 445ms\n",
      "602:\tlearn: 0.1007800\ttotal: 673ms\tremaining: 443ms\n",
      "603:\tlearn: 0.1006746\ttotal: 674ms\tremaining: 442ms\n",
      "604:\tlearn: 0.1004514\ttotal: 676ms\tremaining: 441ms\n",
      "605:\tlearn: 0.1002326\ttotal: 677ms\tremaining: 440ms\n",
      "606:\tlearn: 0.1000161\ttotal: 678ms\tremaining: 439ms\n",
      "607:\tlearn: 0.0999926\ttotal: 679ms\tremaining: 438ms\n",
      "608:\tlearn: 0.0998523\ttotal: 680ms\tremaining: 437ms\n",
      "609:\tlearn: 0.0996704\ttotal: 681ms\tremaining: 435ms\n",
      "610:\tlearn: 0.0995483\ttotal: 682ms\tremaining: 434ms\n",
      "611:\tlearn: 0.0992965\ttotal: 683ms\tremaining: 433ms\n",
      "612:\tlearn: 0.0991686\ttotal: 684ms\tremaining: 432ms\n",
      "613:\tlearn: 0.0990457\ttotal: 685ms\tremaining: 431ms\n",
      "614:\tlearn: 0.0988447\ttotal: 686ms\tremaining: 429ms\n",
      "615:\tlearn: 0.0987158\ttotal: 687ms\tremaining: 428ms\n",
      "616:\tlearn: 0.0986594\ttotal: 688ms\tremaining: 427ms\n",
      "617:\tlearn: 0.0985744\ttotal: 689ms\tremaining: 426ms\n",
      "618:\tlearn: 0.0984925\ttotal: 690ms\tremaining: 425ms\n",
      "619:\tlearn: 0.0984691\ttotal: 691ms\tremaining: 423ms\n",
      "620:\tlearn: 0.0983800\ttotal: 692ms\tremaining: 422ms\n",
      "621:\tlearn: 0.0981747\ttotal: 693ms\tremaining: 421ms\n",
      "622:\tlearn: 0.0980153\ttotal: 694ms\tremaining: 420ms\n",
      "623:\tlearn: 0.0979103\ttotal: 695ms\tremaining: 419ms\n",
      "624:\tlearn: 0.0977901\ttotal: 696ms\tremaining: 417ms\n",
      "625:\tlearn: 0.0977508\ttotal: 697ms\tremaining: 416ms\n",
      "626:\tlearn: 0.0977007\ttotal: 698ms\tremaining: 415ms\n",
      "627:\tlearn: 0.0974947\ttotal: 699ms\tremaining: 414ms\n",
      "628:\tlearn: 0.0972109\ttotal: 700ms\tremaining: 413ms\n",
      "629:\tlearn: 0.0971275\ttotal: 701ms\tremaining: 412ms\n",
      "630:\tlearn: 0.0969776\ttotal: 702ms\tremaining: 411ms\n",
      "631:\tlearn: 0.0968687\ttotal: 703ms\tremaining: 409ms\n",
      "632:\tlearn: 0.0967423\ttotal: 704ms\tremaining: 408ms\n",
      "633:\tlearn: 0.0966256\ttotal: 705ms\tremaining: 407ms\n",
      "634:\tlearn: 0.0965371\ttotal: 706ms\tremaining: 406ms\n",
      "635:\tlearn: 0.0963612\ttotal: 707ms\tremaining: 405ms\n",
      "636:\tlearn: 0.0963390\ttotal: 708ms\tremaining: 404ms\n",
      "637:\tlearn: 0.0963045\ttotal: 709ms\tremaining: 402ms\n",
      "638:\tlearn: 0.0962440\ttotal: 710ms\tremaining: 401ms\n",
      "639:\tlearn: 0.0962018\ttotal: 711ms\tremaining: 400ms\n",
      "640:\tlearn: 0.0959876\ttotal: 712ms\tremaining: 399ms\n",
      "641:\tlearn: 0.0958364\ttotal: 713ms\tremaining: 398ms\n",
      "642:\tlearn: 0.0956202\ttotal: 714ms\tremaining: 397ms\n",
      "643:\tlearn: 0.0955660\ttotal: 715ms\tremaining: 395ms\n",
      "644:\tlearn: 0.0953876\ttotal: 716ms\tremaining: 394ms\n",
      "645:\tlearn: 0.0952149\ttotal: 717ms\tremaining: 393ms\n",
      "646:\tlearn: 0.0950299\ttotal: 718ms\tremaining: 392ms\n",
      "647:\tlearn: 0.0947766\ttotal: 719ms\tremaining: 391ms\n",
      "648:\tlearn: 0.0946487\ttotal: 720ms\tremaining: 390ms\n",
      "649:\tlearn: 0.0944153\ttotal: 721ms\tremaining: 388ms\n",
      "650:\tlearn: 0.0943656\ttotal: 723ms\tremaining: 387ms\n",
      "651:\tlearn: 0.0942741\ttotal: 724ms\tremaining: 386ms\n",
      "652:\tlearn: 0.0940789\ttotal: 725ms\tremaining: 385ms\n",
      "653:\tlearn: 0.0939295\ttotal: 726ms\tremaining: 384ms\n",
      "654:\tlearn: 0.0937551\ttotal: 727ms\tremaining: 383ms\n",
      "655:\tlearn: 0.0936235\ttotal: 728ms\tremaining: 382ms\n",
      "656:\tlearn: 0.0935970\ttotal: 729ms\tremaining: 381ms\n",
      "657:\tlearn: 0.0934630\ttotal: 730ms\tremaining: 379ms\n",
      "658:\tlearn: 0.0932810\ttotal: 731ms\tremaining: 378ms\n",
      "659:\tlearn: 0.0932185\ttotal: 732ms\tremaining: 377ms\n",
      "660:\tlearn: 0.0931166\ttotal: 733ms\tremaining: 376ms\n",
      "661:\tlearn: 0.0930018\ttotal: 734ms\tremaining: 375ms\n",
      "662:\tlearn: 0.0929479\ttotal: 735ms\tremaining: 374ms\n",
      "663:\tlearn: 0.0927939\ttotal: 736ms\tremaining: 372ms\n",
      "664:\tlearn: 0.0925367\ttotal: 737ms\tremaining: 371ms\n",
      "665:\tlearn: 0.0922144\ttotal: 738ms\tremaining: 370ms\n",
      "666:\tlearn: 0.0921382\ttotal: 739ms\tremaining: 369ms\n",
      "667:\tlearn: 0.0918836\ttotal: 740ms\tremaining: 368ms\n",
      "668:\tlearn: 0.0916176\ttotal: 741ms\tremaining: 367ms\n",
      "669:\tlearn: 0.0914708\ttotal: 742ms\tremaining: 365ms\n",
      "670:\tlearn: 0.0912737\ttotal: 743ms\tremaining: 364ms\n",
      "671:\tlearn: 0.0911600\ttotal: 744ms\tremaining: 363ms\n",
      "672:\tlearn: 0.0910390\ttotal: 745ms\tremaining: 362ms\n",
      "673:\tlearn: 0.0908757\ttotal: 746ms\tremaining: 361ms\n",
      "674:\tlearn: 0.0907785\ttotal: 747ms\tremaining: 360ms\n",
      "675:\tlearn: 0.0906832\ttotal: 748ms\tremaining: 358ms\n",
      "676:\tlearn: 0.0904991\ttotal: 749ms\tremaining: 357ms\n",
      "677:\tlearn: 0.0903956\ttotal: 750ms\tremaining: 356ms\n",
      "678:\tlearn: 0.0903409\ttotal: 751ms\tremaining: 355ms\n",
      "679:\tlearn: 0.0901471\ttotal: 752ms\tremaining: 354ms\n",
      "680:\tlearn: 0.0900136\ttotal: 753ms\tremaining: 353ms\n",
      "681:\tlearn: 0.0898545\ttotal: 754ms\tremaining: 351ms\n",
      "682:\tlearn: 0.0896964\ttotal: 755ms\tremaining: 350ms\n",
      "683:\tlearn: 0.0895843\ttotal: 756ms\tremaining: 349ms\n",
      "684:\tlearn: 0.0894077\ttotal: 757ms\tremaining: 348ms\n",
      "685:\tlearn: 0.0892182\ttotal: 758ms\tremaining: 347ms\n",
      "686:\tlearn: 0.0890205\ttotal: 759ms\tremaining: 346ms\n",
      "687:\tlearn: 0.0887652\ttotal: 760ms\tremaining: 345ms\n",
      "688:\tlearn: 0.0886919\ttotal: 761ms\tremaining: 344ms\n",
      "689:\tlearn: 0.0884222\ttotal: 762ms\tremaining: 342ms\n",
      "690:\tlearn: 0.0881880\ttotal: 763ms\tremaining: 341ms\n",
      "691:\tlearn: 0.0881671\ttotal: 764ms\tremaining: 340ms\n",
      "692:\tlearn: 0.0880762\ttotal: 765ms\tremaining: 339ms\n",
      "693:\tlearn: 0.0879171\ttotal: 766ms\tremaining: 338ms\n",
      "694:\tlearn: 0.0877494\ttotal: 767ms\tremaining: 337ms\n",
      "695:\tlearn: 0.0876183\ttotal: 769ms\tremaining: 336ms\n",
      "696:\tlearn: 0.0874195\ttotal: 770ms\tremaining: 335ms\n",
      "697:\tlearn: 0.0873197\ttotal: 771ms\tremaining: 333ms\n",
      "698:\tlearn: 0.0872669\ttotal: 772ms\tremaining: 332ms\n",
      "699:\tlearn: 0.0871181\ttotal: 773ms\tremaining: 331ms\n",
      "700:\tlearn: 0.0869046\ttotal: 774ms\tremaining: 330ms\n",
      "701:\tlearn: 0.0867392\ttotal: 775ms\tremaining: 329ms\n",
      "702:\tlearn: 0.0866119\ttotal: 776ms\tremaining: 328ms\n",
      "703:\tlearn: 0.0865239\ttotal: 777ms\tremaining: 327ms\n",
      "704:\tlearn: 0.0862883\ttotal: 778ms\tremaining: 325ms\n",
      "705:\tlearn: 0.0862489\ttotal: 779ms\tremaining: 324ms\n",
      "706:\tlearn: 0.0861966\ttotal: 780ms\tremaining: 323ms\n",
      "707:\tlearn: 0.0860179\ttotal: 781ms\tremaining: 322ms\n",
      "708:\tlearn: 0.0859096\ttotal: 782ms\tremaining: 321ms\n",
      "709:\tlearn: 0.0856940\ttotal: 783ms\tremaining: 320ms\n",
      "710:\tlearn: 0.0856060\ttotal: 784ms\tremaining: 319ms\n",
      "711:\tlearn: 0.0854711\ttotal: 785ms\tremaining: 317ms\n",
      "712:\tlearn: 0.0854257\ttotal: 786ms\tremaining: 316ms\n",
      "713:\tlearn: 0.0852741\ttotal: 787ms\tremaining: 315ms\n",
      "714:\tlearn: 0.0851691\ttotal: 788ms\tremaining: 314ms\n",
      "715:\tlearn: 0.0850895\ttotal: 789ms\tremaining: 313ms\n",
      "716:\tlearn: 0.0849203\ttotal: 790ms\tremaining: 312ms\n",
      "717:\tlearn: 0.0848296\ttotal: 791ms\tremaining: 311ms\n",
      "718:\tlearn: 0.0848018\ttotal: 792ms\tremaining: 309ms\n",
      "719:\tlearn: 0.0846032\ttotal: 793ms\tremaining: 308ms\n",
      "720:\tlearn: 0.0845845\ttotal: 794ms\tremaining: 307ms\n",
      "721:\tlearn: 0.0845419\ttotal: 795ms\tremaining: 306ms\n",
      "722:\tlearn: 0.0843898\ttotal: 796ms\tremaining: 305ms\n",
      "723:\tlearn: 0.0842632\ttotal: 797ms\tremaining: 304ms\n",
      "724:\tlearn: 0.0841423\ttotal: 798ms\tremaining: 303ms\n",
      "725:\tlearn: 0.0840124\ttotal: 799ms\tremaining: 301ms\n",
      "726:\tlearn: 0.0838590\ttotal: 800ms\tremaining: 300ms\n"
     ]
    },
    {
     "name": "stdout",
     "output_type": "stream",
     "text": [
      "727:\tlearn: 0.0836304\ttotal: 801ms\tremaining: 299ms\n",
      "728:\tlearn: 0.0836003\ttotal: 802ms\tremaining: 298ms\n",
      "729:\tlearn: 0.0835612\ttotal: 803ms\tremaining: 297ms\n",
      "730:\tlearn: 0.0833569\ttotal: 804ms\tremaining: 296ms\n",
      "731:\tlearn: 0.0832472\ttotal: 805ms\tremaining: 295ms\n",
      "732:\tlearn: 0.0831659\ttotal: 806ms\tremaining: 294ms\n",
      "733:\tlearn: 0.0830246\ttotal: 807ms\tremaining: 293ms\n",
      "734:\tlearn: 0.0829424\ttotal: 808ms\tremaining: 291ms\n",
      "735:\tlearn: 0.0828876\ttotal: 809ms\tremaining: 290ms\n",
      "736:\tlearn: 0.0827470\ttotal: 810ms\tremaining: 289ms\n",
      "737:\tlearn: 0.0827114\ttotal: 811ms\tremaining: 288ms\n",
      "738:\tlearn: 0.0826052\ttotal: 812ms\tremaining: 287ms\n",
      "739:\tlearn: 0.0825093\ttotal: 813ms\tremaining: 286ms\n",
      "740:\tlearn: 0.0824554\ttotal: 814ms\tremaining: 285ms\n",
      "741:\tlearn: 0.0822665\ttotal: 815ms\tremaining: 283ms\n",
      "742:\tlearn: 0.0821662\ttotal: 816ms\tremaining: 282ms\n",
      "743:\tlearn: 0.0821283\ttotal: 817ms\tremaining: 281ms\n",
      "744:\tlearn: 0.0819545\ttotal: 818ms\tremaining: 280ms\n",
      "745:\tlearn: 0.0818125\ttotal: 819ms\tremaining: 279ms\n",
      "746:\tlearn: 0.0816383\ttotal: 820ms\tremaining: 278ms\n",
      "747:\tlearn: 0.0815203\ttotal: 821ms\tremaining: 277ms\n",
      "748:\tlearn: 0.0813190\ttotal: 822ms\tremaining: 276ms\n",
      "749:\tlearn: 0.0812120\ttotal: 823ms\tremaining: 274ms\n",
      "750:\tlearn: 0.0811093\ttotal: 824ms\tremaining: 273ms\n",
      "751:\tlearn: 0.0808966\ttotal: 825ms\tremaining: 272ms\n",
      "752:\tlearn: 0.0807789\ttotal: 826ms\tremaining: 271ms\n",
      "753:\tlearn: 0.0805620\ttotal: 827ms\tremaining: 270ms\n",
      "754:\tlearn: 0.0803768\ttotal: 828ms\tremaining: 269ms\n",
      "755:\tlearn: 0.0802921\ttotal: 829ms\tremaining: 268ms\n",
      "756:\tlearn: 0.0802083\ttotal: 830ms\tremaining: 266ms\n",
      "757:\tlearn: 0.0800661\ttotal: 831ms\tremaining: 265ms\n",
      "758:\tlearn: 0.0799149\ttotal: 832ms\tremaining: 264ms\n",
      "759:\tlearn: 0.0797869\ttotal: 833ms\tremaining: 263ms\n",
      "760:\tlearn: 0.0796776\ttotal: 834ms\tremaining: 262ms\n",
      "761:\tlearn: 0.0795827\ttotal: 835ms\tremaining: 261ms\n",
      "762:\tlearn: 0.0795081\ttotal: 836ms\tremaining: 260ms\n",
      "763:\tlearn: 0.0793724\ttotal: 837ms\tremaining: 259ms\n",
      "764:\tlearn: 0.0792712\ttotal: 838ms\tremaining: 257ms\n",
      "765:\tlearn: 0.0791742\ttotal: 839ms\tremaining: 256ms\n",
      "766:\tlearn: 0.0790860\ttotal: 840ms\tremaining: 255ms\n",
      "767:\tlearn: 0.0788759\ttotal: 841ms\tremaining: 254ms\n",
      "768:\tlearn: 0.0786909\ttotal: 842ms\tremaining: 253ms\n",
      "769:\tlearn: 0.0786343\ttotal: 843ms\tremaining: 252ms\n",
      "770:\tlearn: 0.0785818\ttotal: 844ms\tremaining: 251ms\n",
      "771:\tlearn: 0.0784661\ttotal: 845ms\tremaining: 249ms\n",
      "772:\tlearn: 0.0783567\ttotal: 846ms\tremaining: 248ms\n",
      "773:\tlearn: 0.0782742\ttotal: 847ms\tremaining: 247ms\n",
      "774:\tlearn: 0.0781873\ttotal: 848ms\tremaining: 246ms\n",
      "775:\tlearn: 0.0781357\ttotal: 849ms\tremaining: 245ms\n",
      "776:\tlearn: 0.0780428\ttotal: 850ms\tremaining: 244ms\n",
      "777:\tlearn: 0.0780005\ttotal: 851ms\tremaining: 243ms\n",
      "778:\tlearn: 0.0779812\ttotal: 852ms\tremaining: 242ms\n",
      "779:\tlearn: 0.0778644\ttotal: 853ms\tremaining: 240ms\n",
      "780:\tlearn: 0.0776980\ttotal: 854ms\tremaining: 239ms\n",
      "781:\tlearn: 0.0775656\ttotal: 855ms\tremaining: 238ms\n",
      "782:\tlearn: 0.0774144\ttotal: 856ms\tremaining: 237ms\n",
      "783:\tlearn: 0.0772225\ttotal: 857ms\tremaining: 236ms\n",
      "784:\tlearn: 0.0770685\ttotal: 858ms\tremaining: 235ms\n",
      "785:\tlearn: 0.0769360\ttotal: 859ms\tremaining: 234ms\n",
      "786:\tlearn: 0.0768381\ttotal: 859ms\tremaining: 233ms\n",
      "787:\tlearn: 0.0766597\ttotal: 860ms\tremaining: 231ms\n",
      "788:\tlearn: 0.0764310\ttotal: 861ms\tremaining: 230ms\n",
      "789:\tlearn: 0.0762627\ttotal: 862ms\tremaining: 229ms\n",
      "790:\tlearn: 0.0762352\ttotal: 863ms\tremaining: 228ms\n",
      "791:\tlearn: 0.0762175\ttotal: 864ms\tremaining: 227ms\n",
      "792:\tlearn: 0.0761963\ttotal: 865ms\tremaining: 226ms\n",
      "793:\tlearn: 0.0761365\ttotal: 866ms\tremaining: 225ms\n",
      "794:\tlearn: 0.0760900\ttotal: 867ms\tremaining: 224ms\n",
      "795:\tlearn: 0.0760173\ttotal: 868ms\tremaining: 223ms\n",
      "796:\tlearn: 0.0758697\ttotal: 869ms\tremaining: 221ms\n",
      "797:\tlearn: 0.0758399\ttotal: 870ms\tremaining: 220ms\n",
      "798:\tlearn: 0.0757718\ttotal: 871ms\tremaining: 219ms\n",
      "799:\tlearn: 0.0755631\ttotal: 872ms\tremaining: 218ms\n",
      "800:\tlearn: 0.0753584\ttotal: 873ms\tremaining: 217ms\n",
      "801:\tlearn: 0.0752021\ttotal: 874ms\tremaining: 216ms\n",
      "802:\tlearn: 0.0751385\ttotal: 875ms\tremaining: 215ms\n",
      "803:\tlearn: 0.0749908\ttotal: 877ms\tremaining: 214ms\n",
      "804:\tlearn: 0.0749014\ttotal: 878ms\tremaining: 213ms\n",
      "805:\tlearn: 0.0748117\ttotal: 879ms\tremaining: 211ms\n",
      "806:\tlearn: 0.0747415\ttotal: 880ms\tremaining: 210ms\n",
      "807:\tlearn: 0.0746726\ttotal: 880ms\tremaining: 209ms\n",
      "808:\tlearn: 0.0745715\ttotal: 881ms\tremaining: 208ms\n",
      "809:\tlearn: 0.0744556\ttotal: 882ms\tremaining: 207ms\n",
      "810:\tlearn: 0.0741911\ttotal: 883ms\tremaining: 206ms\n",
      "811:\tlearn: 0.0740246\ttotal: 884ms\tremaining: 205ms\n",
      "812:\tlearn: 0.0739180\ttotal: 885ms\tremaining: 204ms\n",
      "813:\tlearn: 0.0737643\ttotal: 886ms\tremaining: 203ms\n",
      "814:\tlearn: 0.0735579\ttotal: 887ms\tremaining: 201ms\n",
      "815:\tlearn: 0.0733646\ttotal: 888ms\tremaining: 200ms\n",
      "816:\tlearn: 0.0731446\ttotal: 889ms\tremaining: 199ms\n",
      "817:\tlearn: 0.0730213\ttotal: 890ms\tremaining: 198ms\n",
      "818:\tlearn: 0.0729137\ttotal: 891ms\tremaining: 197ms\n",
      "819:\tlearn: 0.0727390\ttotal: 892ms\tremaining: 196ms\n",
      "820:\tlearn: 0.0726749\ttotal: 893ms\tremaining: 195ms\n",
      "821:\tlearn: 0.0724749\ttotal: 894ms\tremaining: 194ms\n",
      "822:\tlearn: 0.0724019\ttotal: 895ms\tremaining: 193ms\n",
      "823:\tlearn: 0.0723853\ttotal: 896ms\tremaining: 191ms\n",
      "824:\tlearn: 0.0721965\ttotal: 897ms\tremaining: 190ms\n",
      "825:\tlearn: 0.0720951\ttotal: 898ms\tremaining: 189ms\n",
      "826:\tlearn: 0.0720694\ttotal: 899ms\tremaining: 188ms\n",
      "827:\tlearn: 0.0720011\ttotal: 900ms\tremaining: 187ms\n",
      "828:\tlearn: 0.0718826\ttotal: 901ms\tremaining: 186ms\n",
      "829:\tlearn: 0.0717563\ttotal: 902ms\tremaining: 185ms\n",
      "830:\tlearn: 0.0716569\ttotal: 903ms\tremaining: 184ms\n",
      "831:\tlearn: 0.0716389\ttotal: 904ms\tremaining: 183ms\n",
      "832:\tlearn: 0.0715577\ttotal: 905ms\tremaining: 181ms\n",
      "833:\tlearn: 0.0713980\ttotal: 906ms\tremaining: 180ms\n",
      "834:\tlearn: 0.0712893\ttotal: 907ms\tremaining: 179ms\n",
      "835:\tlearn: 0.0711763\ttotal: 908ms\tremaining: 178ms\n",
      "836:\tlearn: 0.0710541\ttotal: 909ms\tremaining: 177ms\n",
      "837:\tlearn: 0.0709240\ttotal: 910ms\tremaining: 176ms\n",
      "838:\tlearn: 0.0707673\ttotal: 911ms\tremaining: 175ms\n",
      "839:\tlearn: 0.0706277\ttotal: 912ms\tremaining: 174ms\n",
      "840:\tlearn: 0.0705333\ttotal: 913ms\tremaining: 173ms\n",
      "841:\tlearn: 0.0704331\ttotal: 914ms\tremaining: 172ms\n",
      "842:\tlearn: 0.0702793\ttotal: 915ms\tremaining: 170ms\n",
      "843:\tlearn: 0.0701602\ttotal: 917ms\tremaining: 169ms\n",
      "844:\tlearn: 0.0701187\ttotal: 918ms\tremaining: 168ms\n",
      "845:\tlearn: 0.0700209\ttotal: 919ms\tremaining: 167ms\n",
      "846:\tlearn: 0.0699580\ttotal: 920ms\tremaining: 166ms\n",
      "847:\tlearn: 0.0698328\ttotal: 921ms\tremaining: 165ms\n",
      "848:\tlearn: 0.0697378\ttotal: 922ms\tremaining: 164ms\n",
      "849:\tlearn: 0.0695883\ttotal: 923ms\tremaining: 163ms\n",
      "850:\tlearn: 0.0695700\ttotal: 924ms\tremaining: 162ms\n",
      "851:\tlearn: 0.0693585\ttotal: 925ms\tremaining: 161ms\n",
      "852:\tlearn: 0.0692640\ttotal: 926ms\tremaining: 160ms\n",
      "853:\tlearn: 0.0691506\ttotal: 927ms\tremaining: 159ms\n",
      "854:\tlearn: 0.0691131\ttotal: 928ms\tremaining: 157ms\n",
      "855:\tlearn: 0.0690343\ttotal: 930ms\tremaining: 156ms\n",
      "856:\tlearn: 0.0689807\ttotal: 931ms\tremaining: 155ms\n",
      "857:\tlearn: 0.0688346\ttotal: 932ms\tremaining: 154ms\n",
      "858:\tlearn: 0.0687637\ttotal: 933ms\tremaining: 153ms\n",
      "859:\tlearn: 0.0686792\ttotal: 934ms\tremaining: 152ms\n",
      "860:\tlearn: 0.0686399\ttotal: 935ms\tremaining: 151ms\n"
     ]
    },
    {
     "name": "stdout",
     "output_type": "stream",
     "text": [
      "861:\tlearn: 0.0685415\ttotal: 936ms\tremaining: 150ms\n",
      "862:\tlearn: 0.0684389\ttotal: 937ms\tremaining: 149ms\n",
      "863:\tlearn: 0.0683876\ttotal: 938ms\tremaining: 148ms\n",
      "864:\tlearn: 0.0683644\ttotal: 939ms\tremaining: 147ms\n",
      "865:\tlearn: 0.0682730\ttotal: 941ms\tremaining: 146ms\n",
      "866:\tlearn: 0.0682219\ttotal: 942ms\tremaining: 144ms\n",
      "867:\tlearn: 0.0681576\ttotal: 943ms\tremaining: 143ms\n",
      "868:\tlearn: 0.0681423\ttotal: 944ms\tremaining: 142ms\n",
      "869:\tlearn: 0.0680191\ttotal: 945ms\tremaining: 141ms\n",
      "870:\tlearn: 0.0678740\ttotal: 947ms\tremaining: 140ms\n",
      "871:\tlearn: 0.0677984\ttotal: 948ms\tremaining: 139ms\n",
      "872:\tlearn: 0.0676533\ttotal: 949ms\tremaining: 138ms\n",
      "873:\tlearn: 0.0675992\ttotal: 950ms\tremaining: 137ms\n",
      "874:\tlearn: 0.0675854\ttotal: 951ms\tremaining: 136ms\n",
      "875:\tlearn: 0.0674062\ttotal: 952ms\tremaining: 135ms\n",
      "876:\tlearn: 0.0673605\ttotal: 953ms\tremaining: 134ms\n",
      "877:\tlearn: 0.0672457\ttotal: 954ms\tremaining: 133ms\n",
      "878:\tlearn: 0.0670954\ttotal: 955ms\tremaining: 132ms\n",
      "879:\tlearn: 0.0669578\ttotal: 956ms\tremaining: 130ms\n",
      "880:\tlearn: 0.0668028\ttotal: 957ms\tremaining: 129ms\n",
      "881:\tlearn: 0.0666802\ttotal: 958ms\tremaining: 128ms\n",
      "882:\tlearn: 0.0666196\ttotal: 959ms\tremaining: 127ms\n",
      "883:\tlearn: 0.0666059\ttotal: 960ms\tremaining: 126ms\n",
      "884:\tlearn: 0.0664779\ttotal: 961ms\tremaining: 125ms\n",
      "885:\tlearn: 0.0664649\ttotal: 962ms\tremaining: 124ms\n",
      "886:\tlearn: 0.0664096\ttotal: 963ms\tremaining: 123ms\n",
      "887:\tlearn: 0.0662993\ttotal: 964ms\tremaining: 122ms\n",
      "888:\tlearn: 0.0662471\ttotal: 965ms\tremaining: 121ms\n",
      "889:\tlearn: 0.0661266\ttotal: 966ms\tremaining: 119ms\n",
      "890:\tlearn: 0.0661110\ttotal: 967ms\tremaining: 118ms\n",
      "891:\tlearn: 0.0660060\ttotal: 968ms\tremaining: 117ms\n",
      "892:\tlearn: 0.0658308\ttotal: 969ms\tremaining: 116ms\n",
      "893:\tlearn: 0.0658178\ttotal: 970ms\tremaining: 115ms\n",
      "894:\tlearn: 0.0658064\ttotal: 971ms\tremaining: 114ms\n",
      "895:\tlearn: 0.0657938\ttotal: 972ms\tremaining: 113ms\n",
      "896:\tlearn: 0.0657329\ttotal: 973ms\tremaining: 112ms\n",
      "897:\tlearn: 0.0654952\ttotal: 974ms\tremaining: 111ms\n",
      "898:\tlearn: 0.0654563\ttotal: 976ms\tremaining: 110ms\n",
      "899:\tlearn: 0.0653406\ttotal: 976ms\tremaining: 108ms\n",
      "900:\tlearn: 0.0652844\ttotal: 977ms\tremaining: 107ms\n",
      "901:\tlearn: 0.0652143\ttotal: 978ms\tremaining: 106ms\n",
      "902:\tlearn: 0.0650862\ttotal: 979ms\tremaining: 105ms\n",
      "903:\tlearn: 0.0650002\ttotal: 980ms\tremaining: 104ms\n",
      "904:\tlearn: 0.0648987\ttotal: 981ms\tremaining: 103ms\n",
      "905:\tlearn: 0.0648524\ttotal: 983ms\tremaining: 102ms\n",
      "906:\tlearn: 0.0647862\ttotal: 983ms\tremaining: 101ms\n",
      "907:\tlearn: 0.0646638\ttotal: 984ms\tremaining: 99.7ms\n",
      "908:\tlearn: 0.0646208\ttotal: 985ms\tremaining: 98.6ms\n",
      "909:\tlearn: 0.0646085\ttotal: 986ms\tremaining: 97.6ms\n",
      "910:\tlearn: 0.0644810\ttotal: 987ms\tremaining: 96.5ms\n",
      "911:\tlearn: 0.0644289\ttotal: 988ms\tremaining: 95.4ms\n",
      "912:\tlearn: 0.0642575\ttotal: 989ms\tremaining: 94.3ms\n",
      "913:\tlearn: 0.0642051\ttotal: 991ms\tremaining: 93.2ms\n",
      "914:\tlearn: 0.0641083\ttotal: 992ms\tremaining: 92.1ms\n",
      "915:\tlearn: 0.0639453\ttotal: 993ms\tremaining: 91ms\n",
      "916:\tlearn: 0.0639306\ttotal: 994ms\tremaining: 90ms\n",
      "917:\tlearn: 0.0638615\ttotal: 995ms\tremaining: 88.9ms\n",
      "918:\tlearn: 0.0637791\ttotal: 996ms\tremaining: 87.8ms\n",
      "919:\tlearn: 0.0637317\ttotal: 997ms\tremaining: 86.7ms\n",
      "920:\tlearn: 0.0636693\ttotal: 998ms\tremaining: 85.6ms\n",
      "921:\tlearn: 0.0635429\ttotal: 999ms\tremaining: 84.5ms\n",
      "922:\tlearn: 0.0633846\ttotal: 1s\tremaining: 83.5ms\n",
      "923:\tlearn: 0.0632941\ttotal: 1s\tremaining: 82.4ms\n",
      "924:\tlearn: 0.0632215\ttotal: 1s\tremaining: 81.3ms\n",
      "925:\tlearn: 0.0632101\ttotal: 1s\tremaining: 80.2ms\n",
      "926:\tlearn: 0.0630636\ttotal: 1s\tremaining: 79.1ms\n",
      "927:\tlearn: 0.0630070\ttotal: 1s\tremaining: 78ms\n",
      "928:\tlearn: 0.0628710\ttotal: 1.01s\tremaining: 76.9ms\n",
      "929:\tlearn: 0.0627363\ttotal: 1.01s\tremaining: 75.8ms\n",
      "930:\tlearn: 0.0626663\ttotal: 1.01s\tremaining: 74.8ms\n",
      "931:\tlearn: 0.0626178\ttotal: 1.01s\tremaining: 73.7ms\n",
      "932:\tlearn: 0.0626061\ttotal: 1.01s\tremaining: 72.6ms\n",
      "933:\tlearn: 0.0625147\ttotal: 1.01s\tremaining: 71.5ms\n",
      "934:\tlearn: 0.0623843\ttotal: 1.01s\tremaining: 70.4ms\n",
      "935:\tlearn: 0.0622823\ttotal: 1.01s\tremaining: 69.3ms\n",
      "936:\tlearn: 0.0622099\ttotal: 1.01s\tremaining: 68.2ms\n",
      "937:\tlearn: 0.0622013\ttotal: 1.01s\tremaining: 67.1ms\n",
      "938:\tlearn: 0.0621552\ttotal: 1.02s\tremaining: 66ms\n",
      "939:\tlearn: 0.0620940\ttotal: 1.02s\tremaining: 65ms\n",
      "940:\tlearn: 0.0620458\ttotal: 1.02s\tremaining: 63.9ms\n",
      "941:\tlearn: 0.0619672\ttotal: 1.02s\tremaining: 62.8ms\n",
      "942:\tlearn: 0.0618846\ttotal: 1.02s\tremaining: 61.7ms\n",
      "943:\tlearn: 0.0618711\ttotal: 1.02s\tremaining: 60.6ms\n",
      "944:\tlearn: 0.0618201\ttotal: 1.02s\tremaining: 59.5ms\n",
      "945:\tlearn: 0.0617743\ttotal: 1.02s\tremaining: 58.4ms\n",
      "946:\tlearn: 0.0616790\ttotal: 1.02s\tremaining: 57.4ms\n",
      "947:\tlearn: 0.0615363\ttotal: 1.02s\tremaining: 56.3ms\n",
      "948:\tlearn: 0.0614424\ttotal: 1.03s\tremaining: 55.2ms\n",
      "949:\tlearn: 0.0613224\ttotal: 1.03s\tremaining: 54.1ms\n",
      "950:\tlearn: 0.0612146\ttotal: 1.03s\tremaining: 53ms\n",
      "951:\tlearn: 0.0611923\ttotal: 1.03s\tremaining: 51.9ms\n",
      "952:\tlearn: 0.0611811\ttotal: 1.03s\tremaining: 50.8ms\n",
      "953:\tlearn: 0.0611701\ttotal: 1.03s\tremaining: 49.8ms\n",
      "954:\tlearn: 0.0610721\ttotal: 1.03s\tremaining: 48.7ms\n",
      "955:\tlearn: 0.0610425\ttotal: 1.03s\tremaining: 47.6ms\n",
      "956:\tlearn: 0.0608959\ttotal: 1.03s\tremaining: 46.5ms\n",
      "957:\tlearn: 0.0608128\ttotal: 1.04s\tremaining: 45.4ms\n",
      "958:\tlearn: 0.0606639\ttotal: 1.04s\tremaining: 44.4ms\n",
      "959:\tlearn: 0.0606515\ttotal: 1.04s\tremaining: 43.3ms\n",
      "960:\tlearn: 0.0605426\ttotal: 1.04s\tremaining: 42.2ms\n",
      "961:\tlearn: 0.0604731\ttotal: 1.04s\tremaining: 41.1ms\n",
      "962:\tlearn: 0.0604594\ttotal: 1.04s\tremaining: 40ms\n",
      "963:\tlearn: 0.0603545\ttotal: 1.04s\tremaining: 38.9ms\n",
      "964:\tlearn: 0.0602130\ttotal: 1.04s\tremaining: 37.9ms\n",
      "965:\tlearn: 0.0601216\ttotal: 1.04s\tremaining: 36.8ms\n",
      "966:\tlearn: 0.0600600\ttotal: 1.04s\tremaining: 35.7ms\n",
      "967:\tlearn: 0.0600059\ttotal: 1.05s\tremaining: 34.6ms\n",
      "968:\tlearn: 0.0598760\ttotal: 1.05s\tremaining: 33.5ms\n",
      "969:\tlearn: 0.0598554\ttotal: 1.05s\tremaining: 32.5ms\n",
      "970:\tlearn: 0.0598357\ttotal: 1.05s\tremaining: 31.4ms\n",
      "971:\tlearn: 0.0597379\ttotal: 1.05s\tremaining: 30.3ms\n",
      "972:\tlearn: 0.0596346\ttotal: 1.05s\tremaining: 29.2ms\n",
      "973:\tlearn: 0.0596253\ttotal: 1.05s\tremaining: 28.1ms\n",
      "974:\tlearn: 0.0596135\ttotal: 1.05s\tremaining: 27ms\n",
      "975:\tlearn: 0.0596006\ttotal: 1.05s\tremaining: 26ms\n",
      "976:\tlearn: 0.0595128\ttotal: 1.06s\tremaining: 24.9ms\n",
      "977:\tlearn: 0.0594424\ttotal: 1.06s\tremaining: 23.8ms\n",
      "978:\tlearn: 0.0593323\ttotal: 1.06s\tremaining: 22.7ms\n",
      "979:\tlearn: 0.0593268\ttotal: 1.06s\tremaining: 21.6ms\n",
      "980:\tlearn: 0.0592707\ttotal: 1.06s\tremaining: 20.5ms\n",
      "981:\tlearn: 0.0592473\ttotal: 1.06s\tremaining: 19.5ms\n"
     ]
    },
    {
     "name": "stdout",
     "output_type": "stream",
     "text": [
      "982:\tlearn: 0.0591893\ttotal: 1.06s\tremaining: 18.4ms\n",
      "983:\tlearn: 0.0590360\ttotal: 1.06s\tremaining: 17.3ms\n",
      "984:\tlearn: 0.0589787\ttotal: 1.07s\tremaining: 16.2ms\n",
      "985:\tlearn: 0.0588714\ttotal: 1.07s\tremaining: 15.2ms\n",
      "986:\tlearn: 0.0587916\ttotal: 1.07s\tremaining: 14.1ms\n",
      "987:\tlearn: 0.0587841\ttotal: 1.07s\tremaining: 13ms\n",
      "988:\tlearn: 0.0587029\ttotal: 1.07s\tremaining: 11.9ms\n",
      "989:\tlearn: 0.0586796\ttotal: 1.07s\tremaining: 10.8ms\n",
      "990:\tlearn: 0.0585703\ttotal: 1.07s\tremaining: 9.74ms\n",
      "991:\tlearn: 0.0585495\ttotal: 1.07s\tremaining: 8.66ms\n",
      "992:\tlearn: 0.0584397\ttotal: 1.07s\tremaining: 7.58ms\n",
      "993:\tlearn: 0.0583558\ttotal: 1.08s\tremaining: 6.5ms\n",
      "994:\tlearn: 0.0582487\ttotal: 1.08s\tremaining: 5.41ms\n",
      "995:\tlearn: 0.0582089\ttotal: 1.08s\tremaining: 4.33ms\n",
      "996:\tlearn: 0.0580893\ttotal: 1.08s\tremaining: 3.25ms\n",
      "997:\tlearn: 0.0580475\ttotal: 1.08s\tremaining: 2.17ms\n",
      "998:\tlearn: 0.0579395\ttotal: 1.08s\tremaining: 1.08ms\n",
      "999:\tlearn: 0.0578593\ttotal: 1.08s\tremaining: 0us\n"
     ]
    },
    {
     "data": {
      "text/plain": [
       "<catboost.core.CatBoostRegressor at 0x7f399165c750>"
      ]
     },
     "execution_count": 9,
     "metadata": {},
     "output_type": "execute_result"
    }
   ],
   "source": [
    "#Train the Model \n",
    "prior_model = ctb.CatBoostRegressor()\n",
    "prior_model.fit(X_train,Y_train)"
   ]
  },
  {
   "cell_type": "code",
   "execution_count": 10,
   "id": "c775fd81",
   "metadata": {
    "execution": {
     "iopub.execute_input": "2022-01-14T17:34:21.020064Z",
     "iopub.status.busy": "2022-01-14T17:34:21.019419Z",
     "iopub.status.idle": "2022-01-14T17:34:21.032710Z",
     "shell.execute_reply": "2022-01-14T17:34:21.032136Z"
    },
    "papermill": {
     "duration": 0.049783,
     "end_time": "2022-01-14T17:34:21.032825",
     "exception": false,
     "start_time": "2022-01-14T17:34:20.983042",
     "status": "completed"
    },
    "tags": []
   },
   "outputs": [
    {
     "data": {
      "application/scrapbook.scrap.json+json": {
       "data": 0.07169437976265852,
       "encoder": "json",
       "name": "Prior Model MSE",
       "version": 1
      }
     },
     "metadata": {
      "scrapbook": {
       "data": true,
       "display": false,
       "name": "Prior Model MSE"
      }
     },
     "output_type": "display_data"
    },
    {
     "data": {
      "application/scrapbook.scrap.json+json": {
       "data": 0.08536253573537451,
       "encoder": "json",
       "name": "ABC Pre-generator MSE",
       "version": 1
      }
     },
     "metadata": {
      "scrapbook": {
       "data": true,
       "display": false,
       "name": "ABC Pre-generator MSE"
      }
     },
     "output_type": "display_data"
    }
   ],
   "source": [
    "y_pred = prior_model.predict(X_test)\n",
    "y_abc = y_pred + np.random.normal(0,variance, y_pred.shape)\n",
    "mse = mean_squared_error(y_pred,Y_test)\n",
    "sb.glue(\"Prior Model MSE\",mse)\n",
    "mse = mean_squared_error(y_abc,Y_test)\n",
    "sb.glue(\"ABC Pre-generator MSE\",mse)"
   ]
  },
  {
   "cell_type": "markdown",
   "id": "0cd0def6",
   "metadata": {
    "papermill": {
     "duration": 0.030034,
     "end_time": "2022-01-14T17:34:21.092899",
     "exception": false,
     "start_time": "2022-01-14T17:34:21.062865",
     "status": "completed"
    },
    "tags": []
   },
   "source": [
    "# ABC GAN Model"
   ]
  },
  {
   "cell_type": "markdown",
   "id": "70beaf4c",
   "metadata": {
    "papermill": {
     "duration": 0.029259,
     "end_time": "2022-01-14T17:34:21.152072",
     "exception": false,
     "start_time": "2022-01-14T17:34:21.122813",
     "status": "completed"
    },
    "tags": []
   },
   "source": [
    "### Training the network\n",
    "**Training ABC-GAN for n_epochs number of epochs** "
   ]
  },
  {
   "cell_type": "code",
   "execution_count": 11,
   "id": "dbaaafa1",
   "metadata": {
    "execution": {
     "iopub.execute_input": "2022-01-14T17:34:21.220572Z",
     "iopub.status.busy": "2022-01-14T17:34:21.219977Z",
     "iopub.status.idle": "2022-01-14T17:34:24.163509Z",
     "shell.execute_reply": "2022-01-14T17:34:24.163007Z"
    },
    "papermill": {
     "duration": 2.97996,
     "end_time": "2022-01-14T17:34:24.163652",
     "exception": false,
     "start_time": "2022-01-14T17:34:21.183692",
     "status": "completed"
    },
    "tags": []
   },
   "outputs": [],
   "source": [
    "gen = network.Generator(n_features+1).to(device)\n",
    "disc = network.Discriminator(n_features+1).to(device)\n",
    "\n",
    "criterion = torch.nn.BCELoss()\n",
    "gen_opt = torch.optim.Adam(gen.parameters(), lr=0.001, betas=(0.5, 0.999))\n",
    "disc_opt = torch.optim.Adam(disc.parameters(), lr=0.01, betas=(0.5, 0.999))"
   ]
  },
  {
   "cell_type": "code",
   "execution_count": 12,
   "id": "6e9eeab8",
   "metadata": {
    "execution": {
     "iopub.execute_input": "2022-01-14T17:34:24.229873Z",
     "iopub.status.busy": "2022-01-14T17:34:24.229164Z",
     "iopub.status.idle": "2022-01-14T17:39:52.896027Z",
     "shell.execute_reply": "2022-01-14T17:39:52.895561Z"
    },
    "papermill": {
     "duration": 328.700486,
     "end_time": "2022-01-14T17:39:52.896169",
     "exception": false,
     "start_time": "2022-01-14T17:34:24.195683",
     "status": "completed"
    },
    "tags": []
   },
   "outputs": [
    {
     "data": {
      "image/png": "[encoded data removed]",
      "text/plain": [
       "<Figure size 432x288 with 1 Axes>"
      ]
     },
     "metadata": {
      "needs_background": "light"
     },
     "output_type": "display_data"
    },
    {
     "data": {
      "image/png": "[encoded data removed]",
      "text/plain": [
       "<Figure size 432x288 with 1 Axes>"
      ]
     },
     "metadata": {
      "needs_background": "light"
     },
     "output_type": "display_data"
    }
   ],
   "source": [
    "#Training the ABC_GAN \n",
    "ABC_train_test2.training_GAN(disc,gen,disc_opt,gen_opt,train_data,batch_size,n_epochs,criterion,prior_model,variance,device)"
   ]
  },
  {
   "cell_type": "code",
   "execution_count": 13,
   "id": "11c3082e",
   "metadata": {
    "execution": {
     "iopub.execute_input": "2022-01-14T17:39:52.963180Z",
     "iopub.status.busy": "2022-01-14T17:39:52.962504Z",
     "iopub.status.idle": "2022-01-14T17:39:53.382261Z",
     "shell.execute_reply": "2022-01-14T17:39:53.381750Z"
    },
    "papermill": {
     "duration": 0.454705,
     "end_time": "2022-01-14T17:39:53.382399",
     "exception": false,
     "start_time": "2022-01-14T17:39:52.927694",
     "status": "completed"
    },
    "tags": []
   },
   "outputs": [
    {
     "data": {
      "application/scrapbook.scrap.json+json": {
       "data": 1.0352181820360922,
       "encoder": "json",
       "name": "ABC-GAN Model 1 MSE",
       "version": 1
      }
     },
     "metadata": {
      "scrapbook": {
       "data": true,
       "display": false,
       "name": "ABC-GAN Model 1 MSE"
      }
     },
     "output_type": "display_data"
    },
    {
     "data": {
      "application/scrapbook.scrap.json+json": {
       "data": 0.8074640109561676,
       "encoder": "json",
       "name": "ABC-GAN Model 1 MAE",
       "version": 1
      }
     },
     "metadata": {
      "scrapbook": {
       "data": true,
       "display": false,
       "name": "ABC-GAN Model 1 MAE"
      }
     },
     "output_type": "display_data"
    },
    {
     "data": {
      "application/scrapbook.scrap.json+json": {
       "data": 82.3613291175291,
       "encoder": "json",
       "name": "ABC-GAN Model 1 Manhattan Distance",
       "version": 1
      }
     },
     "metadata": {
      "scrapbook": {
       "data": true,
       "display": false,
       "name": "ABC-GAN Model 1 Manhattan Distance"
      }
     },
     "output_type": "display_data"
    },
    {
     "data": {
      "application/scrapbook.scrap.json+json": {
       "data": 10.275749326449727,
       "encoder": "json",
       "name": "ABC-GAN Model 1 Euclidean distance",
       "version": 1
      }
     },
     "metadata": {
      "scrapbook": {
       "data": true,
       "display": false,
       "name": "ABC-GAN Model 1 Euclidean distance"
      }
     },
     "output_type": "display_data"
    },
    {
     "data": {
      "application/scrapbook.scrap.json+json": {
       "data": [
        [
         1.0345908961559647,
         1.0290000822006662,
         1.03041682038818,
         1.030171339943074,
         1.0327130193222722,
         1.0423402544323606,
         1.0358756335468975,
         1.0307884702815022,
         1.0564097003279607,
         1.0291576204952402,
         1.0444850894649906,
         1.0427425354650461,
         1.0185649489525985,
         1.0297080322389103,
         1.0350581630838636,
         1.0469193616595471,
         1.038195259213846,
         1.0448334127597783,
         1.0445605441759018,
         1.0281825175892763,
         1.0435616116110618,
         1.0283153505549592,
         1.0351147427021339,
         1.0315846309788264,
         1.0399089134138482,
         1.0327724584181495,
         1.0289188588396536,
         1.0349491756216451,
         1.036763595039219,
         1.039041577554813,
         1.033852576665114,
         1.0352906919637999,
         1.0348149957297053,
         1.0421431303223923,
         1.030132806166014,
         1.043618405248119,
         1.0285726157400523,
         1.0340480737869064,
         1.0368632796815243,
         1.033673795917028,
         1.0391680173402276,
         1.0308807455885316,
         1.030113332931044,
         1.0286102607969574,
         1.0250572555532416,
         1.0273617947732536,
         1.0338266805301601,
         1.0346974023741595,
         1.0395123963979782,
         1.04350103516093,
         1.0384753479894488,
         1.0360588290678412,
         1.0272499195484077,
         1.032882910911842,
         1.0344845389028858,
         1.0295515047392476,
         1.0398563711280564,
         1.0355404690650793,
         1.0314307146301607,
         1.0352357326707569,
         1.0323477945980504,
         1.0430339314264654,
         1.0196131011323768,
         1.03687511474452,
         1.0405948078465426,
         1.0241176212713692,
         1.0315042715586804,
         1.0402275435943373,
         1.0365115623580121,
         1.0305151117515858,
         1.035161499164729,
         1.0323582199116195,
         1.0338561669913104,
         1.041236431561422,
         1.034897917011854,
         1.040371189451033,
         1.055175504022844,
         1.0393186670986576,
         1.0315431547550602,
         1.0363944966491676,
         1.0448271167640566,
         1.0422756651009677,
         1.0345559452449988,
         1.048462968562394,
         1.0333225972387696,
         1.0209580578952966,
         1.0328948647966738,
         1.0495379224189925,
         1.0337376562791716,
         1.0316178567789538,
         1.0406834779500207,
         1.0429460854325554,
         1.045406208977788,
         1.02406841855459,
         1.0393623801673102,
         1.0274655095837721,
         1.0283590104768285,
         1.0160331444700927,
         1.0352415446680316,
         1.0322574175952666
        ],
        [
         0.8057389356488106,
         0.8042135560958117,
         0.8068432867271351,
         0.8077841174660945,
         0.8091845118860695,
         0.8112452392119403,
         0.8097671899469752,
         0.8063724497881006,
         0.8147330774797821,
         0.8066074064037964,
         0.807912817608346,
         0.8090832969539014,
         0.7991652321435657,
         0.8075202091542237,
         0.8071763310581446,
         0.8120737463491512,
         0.808800947395902,
         0.8115126623352077,
         0.8116463559369246,
         0.8029071102466654,
         0.8087230150533073,
         0.804090476485298,
         0.8073530236405193,
         0.8070217640157423,
         0.8102685910485247,
         0.8051753582834613,
         0.805881213908102,
         0.8081513499548915,
         0.8074460347712624,
         0.8082374381631905,
         0.803163669747757,
         0.8055742743662467,
         0.8069701736391175,
         0.8114992847812235,
         0.8072803810092748,
         0.8093483491307673,
         0.8074068966157296,
         0.8060812483742541,
         0.808644417965529,
         0.8079431558246998,
         0.8094031566060057,
         0.8025514713908527,
         0.8045798538654458,
         0.8036756384752545,
         0.8039162833170563,
         0.8043360181298911,
         0.8075913603180179,
         0.8030601287552831,
         0.813586294048411,
         0.8128697428231438,
         0.8086801898282241,
         0.8078586464090383,
         0.8057759827112451,
         0.8051924218113223,
         0.8072487509389427,
         0.8058866726271078,
         0.8097271442632464,
         0.8071523039218258,
         0.8060054090421866,
         0.8108850953296995,
         0.8054956837246815,
         0.8086436289344349,
         0.8013511935760286,
         0.8059870583352213,
         0.8102211192177207,
         0.8052443509702297,
         0.8049990976886714,
         0.8106967379686003,
         0.8081961037664145,
         0.8043298862472761,
         0.8080100460233641,
         0.8083481379035934,
         0.8027164649729636,
         0.8080818471955318,
         0.808520101704726,
         0.8092198422470805,
         0.8161407467890897,
         0.8063397235328368,
         0.8059907814341725,
         0.8060080661602756,
         0.8142949343823335,
         0.812744596279135,
         0.8068559268379912,
         0.8117242418594804,
         0.8059819338514524,
         0.803909310157977,
         0.8085733165270558,
         0.8134716636336902,
         0.8083119400247347,
         0.8066319659279257,
         0.8101738901151454,
         0.813048067867902,
         0.8078997562292451,
         0.7998896537932987,
         0.8095808640195459,
         0.8046517907002685,
         0.8052733546378565,
         0.7984291766678878,
         0.8073605427737621,
         0.8065223897095112
        ],
        [
         82.18537143617868,
         82.02978272177279,
         82.29801524616778,
         82.39397998154163,
         82.5368202123791,
         82.74701439961791,
         82.59625337459147,
         82.24998987838626,
         83.10277390293777,
         82.27395545318723,
         82.40710739605129,
         82.52649628929794,
         81.5148536786437,
         82.36706133373082,
         82.33198576793075,
         82.83152212761343,
         82.49769663438201,
         82.77429155819118,
         82.78792830556631,
         81.89652524515986,
         82.48974753543735,
         82.01722860150039,
         82.35000841133296,
         82.31621992960572,
         82.64739628694952,
         82.12788654491305,
         82.1998838186264,
         82.43143769539893,
         82.35949554666877,
         82.44021869264543,
         81.92269431427121,
         82.16857598535717,
         82.31095771118999,
         82.77292704768479,
         82.34259886294603,
         82.55353161133826,
         82.35550345480442,
         82.22028733417392,
         82.48173063248396,
         82.41020189411938,
         82.55912197381258,
         81.86025008186698,
         82.06714509427547,
         81.97491512447596,
         81.99946089833975,
         82.04227384924889,
         82.37431875243783,
         81.91213313303888,
         82.98580199293792,
         82.91271376796067,
         82.48537936247885,
         82.4015819337219,
         82.189150236547,
         82.12962702475488,
         82.33937259577215,
         82.20044060796499,
         82.59216871485114,
         82.32953500002623,
         82.21255172230303,
         82.71027972362936,
         82.16055973991752,
         82.48165015131235,
         81.73782174475491,
         82.21067995019257,
         82.64255416020751,
         82.13492379896343,
         82.10990796424448,
         82.69106727279723,
         82.43600258417428,
         82.04164839722216,
         82.41702469438314,
         82.45151006616652,
         81.87707942724228,
         82.42434841394424,
         82.46905037388206,
         82.54042390920222,
         83.24635617248714,
         82.24665180034935,
         82.2110597062856,
         82.21282274834812,
         83.05808330699801,
         82.89994882047176,
         82.29930453747511,
         82.795872669667,
         82.21015725284815,
         81.99874963611364,
         82.47447828575969,
         82.9741096906364,
         82.44781788252294,
         82.27646052464843,
         82.63773679174483,
         82.930902922526,
         82.40577513538301,
         81.58874468691647,
         82.57724812999368,
         82.07448265142739,
         82.13788217306137,
         81.43977602012455,
         82.35077536292374,
         82.26528375037014
        ],
        [
         10.272695430504518,
         10.244901580028378,
         10.251951798540333,
         10.250730543439015,
         10.263368256613992,
         10.311096253653186,
         10.279071680934203,
         10.25380046464301,
         10.38045227499515,
         10.245685789175583,
         10.32169943010496,
         10.313085795116548,
         10.192822219246496,
         10.248425210166138,
         10.275014970040388,
         10.3337202830962,
         10.290574155012552,
         10.32342036834195,
         10.322072248630214,
         10.240830864441918,
         10.317135473779937,
         10.2414923598373,
         10.27529579893531,
         10.257759616984611,
         10.299063509281442,
         10.263663612894337,
         10.244497235181662,
         10.274473996921099,
         10.283476391473867,
         10.294767647236673,
         10.269029302706349,
         10.27616906148919,
         10.273807938852562,
         10.310121206507906,
         10.250538826273157,
         10.317416214116212,
         10.24277339422704,
         10.27000017167792,
         10.283970756838793,
         10.26814136947563,
         10.295394007453199,
         10.25425941011979,
         10.250441939690525,
         10.24296083177563,
         10.225255012293367,
         10.236742795776003,
         10.268900691606495,
         10.273224179495173,
         10.29709980686765,
         10.316836025953636,
         10.29196217904651,
         10.27998057220537,
         10.236185412248922,
         10.264212435107131,
         10.272167393889877,
         10.247646241132804,
         10.29880332150594,
         10.277408615241397,
         10.25699434007236,
         10.275896298251418,
         10.261553247389068,
         10.314526698084578,
         10.19806532218256,
         10.28402944880756,
         10.302459434540246,
         10.220567370243181,
         10.257360074550634,
         10.30064121531385,
         10.282226381504993,
         10.252440753238313,
         10.275527865506588,
         10.26160506114834,
         10.269047133649437,
         10.305635158458943,
         10.274219558448666,
         10.301352402670505,
         10.37438679683431,
         10.29614024982484,
         10.257553401519104,
         10.28164571740415,
         10.323389264671446,
         10.310776781615376,
         10.27252191114674,
         10.341335638754028,
         10.266396881007209,
         10.204789165157713,
         10.264271830444708,
         10.346635592632865,
         10.268458547439119,
         10.257924809212303,
         10.302898366522992,
         10.314092335931488,
         10.32624972173995,
         10.220321848776008,
         10.296356772036681,
         10.237259495467761,
         10.241709772720398,
         10.180146400516522,
         10.275925143564413,
         10.261104063146284
        ]
       ],
       "encoder": "json",
       "name": "ABC_GAN_1 Metrics",
       "version": 1
      }
     },
     "metadata": {
      "scrapbook": {
       "data": true,
       "display": false,
       "name": "ABC_GAN_1 Metrics"
      }
     },
     "output_type": "display_data"
    }
   ],
   "source": [
    "ABC_GAN1_metrics=ABC_train_test2.test_generator(gen,test_data,prior_model,variance,\"1\",device)\n",
    "sb.glue(\"ABC_GAN_1 Metrics\",ABC_GAN1_metrics)"
   ]
  },
  {
   "cell_type": "markdown",
   "id": "394a2b9d",
   "metadata": {
    "papermill": {
     "duration": 0.035686,
     "end_time": "2022-01-14T17:39:53.452713",
     "exception": false,
     "start_time": "2022-01-14T17:39:53.417027",
     "status": "completed"
    },
    "tags": []
   },
   "source": [
    "#### Sanity Checks "
   ]
  },
  {
   "cell_type": "code",
   "execution_count": 14,
   "id": "a36b3b22",
   "metadata": {
    "execution": {
     "iopub.execute_input": "2022-01-14T17:39:53.528437Z",
     "iopub.status.busy": "2022-01-14T17:39:53.527804Z",
     "iopub.status.idle": "2022-01-14T17:39:54.342001Z",
     "shell.execute_reply": "2022-01-14T17:39:54.341408Z"
    },
    "papermill": {
     "duration": 0.853687,
     "end_time": "2022-01-14T17:39:54.342141",
     "exception": false,
     "start_time": "2022-01-14T17:39:53.488454",
     "status": "completed"
    },
    "tags": []
   },
   "outputs": [
    {
     "data": {
      "image/png": "[encoded data removed]",
      "text/plain": [
       "<Figure size 432x288 with 1 Axes>"
      ]
     },
     "metadata": {
      "needs_background": "light"
     },
     "output_type": "display_data"
    },
    {
     "data": {
      "image/png": "[encoded data removed]",
      "text/plain": [
       "<Figure size 432x288 with 1 Axes>"
      ]
     },
     "metadata": {
      "needs_background": "light"
     },
     "output_type": "display_data"
    },
    {
     "data": {
      "image/png": "[encoded data removed]",
      "text/plain": [
       "<Figure size 432x288 with 1 Axes>"
      ]
     },
     "metadata": {
      "needs_background": "light"
     },
     "output_type": "display_data"
    },
    {
     "data": {
      "image/png": "[encoded data removed]",
      "text/plain": [
       "<Figure size 432x288 with 1 Axes>"
      ]
     },
     "metadata": {
      "needs_background": "light"
     },
     "output_type": "display_data"
    }
   ],
   "source": [
    "sanityChecks.discProbVsError(train_data,disc,device)\n",
    "sanityChecks.discProbVsError(test_data,disc,device)"
   ]
  },
  {
   "cell_type": "markdown",
   "id": "130f3a4d",
   "metadata": {
    "papermill": {
     "duration": 0.038477,
     "end_time": "2022-01-14T17:39:54.422376",
     "exception": false,
     "start_time": "2022-01-14T17:39:54.383899",
     "status": "completed"
    },
    "tags": []
   },
   "source": [
    "# ABC - GAN Model with skip connection"
   ]
  },
  {
   "cell_type": "code",
   "execution_count": 15,
   "id": "4e43dad1",
   "metadata": {
    "execution": {
     "iopub.execute_input": "2022-01-14T17:39:54.509364Z",
     "iopub.status.busy": "2022-01-14T17:39:54.508754Z",
     "iopub.status.idle": "2022-01-14T17:39:54.514419Z",
     "shell.execute_reply": "2022-01-14T17:39:54.513781Z"
    },
    "papermill": {
     "duration": 0.052028,
     "end_time": "2022-01-14T17:39:54.514561",
     "exception": false,
     "start_time": "2022-01-14T17:39:54.462533",
     "status": "completed"
    },
    "tags": []
   },
   "outputs": [],
   "source": [
    "#Generator\n",
    "gen3 = network.GeneratorWithSkipConnection(n_features+1).to(device)\n",
    "constraints=network.weightConstraint()\n",
    "#Discriminator \n",
    "disc3 = network.Discriminator(n_features+1).to(device)\n",
    "\n",
    "criterion = torch.nn.BCELoss()\n",
    "gen_opt = torch.optim.Adam(gen3.parameters(), lr=0.01, betas=(0.5, 0.999))\n",
    "disc_opt = torch.optim.Adam(disc3.parameters(), lr=0.01, betas=(0.5, 0.999))\n"
   ]
  },
  {
   "cell_type": "code",
   "execution_count": 16,
   "id": "26acbc37",
   "metadata": {
    "execution": {
     "iopub.execute_input": "2022-01-14T17:39:54.600520Z",
     "iopub.status.busy": "2022-01-14T17:39:54.599910Z",
     "iopub.status.idle": "2022-01-14T18:16:02.867922Z",
     "shell.execute_reply": "2022-01-14T18:16:02.867242Z"
    },
    "papermill": {
     "duration": 2168.312381,
     "end_time": "2022-01-14T18:16:02.868060",
     "exception": false,
     "start_time": "2022-01-14T17:39:54.555679",
     "status": "completed"
    },
    "tags": []
   },
   "outputs": [
    {
     "data": {
      "image/png": "[encoded data removed]",
      "text/plain": [
       "<Figure size 432x288 with 1 Axes>"
      ]
     },
     "metadata": {
      "needs_background": "light"
     },
     "output_type": "display_data"
    },
    {
     "data": {
      "image/png": "[encoded data removed]",
      "text/plain": [
       "<Figure size 432x288 with 1 Axes>"
      ]
     },
     "metadata": {
      "needs_background": "light"
     },
     "output_type": "display_data"
    }
   ],
   "source": [
    "ABC_train_test2.training_GAN_skip_connection(disc3,gen3,disc_opt,gen_opt,train_data,batch_size,n_epochs,criterion,prior_model,variance,device)\n"
   ]
  },
  {
   "cell_type": "code",
   "execution_count": 17,
   "id": "c5e0717b",
   "metadata": {
    "execution": {
     "iopub.execute_input": "2022-01-14T18:16:02.958078Z",
     "iopub.status.busy": "2022-01-14T18:16:02.957428Z",
     "iopub.status.idle": "2022-01-14T18:16:05.202830Z",
     "shell.execute_reply": "2022-01-14T18:16:05.201948Z"
    },
    "papermill": {
     "duration": 2.291792,
     "end_time": "2022-01-14T18:16:05.203064",
     "exception": false,
     "start_time": "2022-01-14T18:16:02.911272",
     "status": "completed"
    },
    "tags": []
   },
   "outputs": [
    {
     "data": {
      "application/scrapbook.scrap.json+json": {
       "data": 0.08437693402286817,
       "encoder": "json",
       "name": "ABC-GAN Model 3 MSE",
       "version": 1
      }
     },
     "metadata": {
      "scrapbook": {
       "data": true,
       "display": false,
       "name": "ABC-GAN Model 3 MSE"
      }
     },
     "output_type": "display_data"
    },
    {
     "data": {
      "application/scrapbook.scrap.json+json": {
       "data": 0.21577797751995853,
       "encoder": "json",
       "name": "ABC-GAN Model 3 MAE",
       "version": 1
      }
     },
     "metadata": {
      "scrapbook": {
       "data": true,
       "display": false,
       "name": "ABC-GAN Model 3 MAE"
      }
     },
     "output_type": "display_data"
    },
    {
     "data": {
      "application/scrapbook.scrap.json+json": {
       "data": 22.00935370703577,
       "encoder": "json",
       "name": "ABC-GAN Model 3 Manhattan Distance",
       "version": 1
      }
     },
     "metadata": {
      "scrapbook": {
       "data": true,
       "display": false,
       "name": "ABC-GAN Model 3 Manhattan Distance"
      }
     },
     "output_type": "display_data"
    },
    {
     "data": {
      "application/scrapbook.scrap.json+json": {
       "data": 2.9323818654650697,
       "encoder": "json",
       "name": "ABC-GAN Model 3 Euclidean distance",
       "version": 1
      }
     },
     "metadata": {
      "scrapbook": {
       "data": true,
       "display": false,
       "name": "ABC-GAN Model 3 Euclidean distance"
      }
     },
     "output_type": "display_data"
    },
    {
     "data": {
      "application/scrapbook.scrap.json+json": {
       "data": [
        [
         0.08930466220446444,
         0.07852045990085262,
         0.08179307998765037,
         0.0787797845716523,
         0.08764177968615398,
         0.08211468191602986,
         0.08719105056210641,
         0.08747392194217996,
         0.08421659797155481,
         0.0956677152350126,
         0.08164140744039179,
         0.08568832001657037,
         0.08518301709840881,
         0.08205399928954077,
         0.08249191069146367,
         0.0934509947642213,
         0.08185564032145067,
         0.07366968303605906,
         0.08378025610028124,
         0.08697688904634622,
         0.07028706088713847,
         0.07933188221066018,
         0.08419812856884465,
         0.07641021016989383,
         0.08360526306464947,
         0.07889475892510979,
         0.0820913259835261,
         0.08625535011652197,
         0.0836088674879246,
         0.08686302362492854,
         0.09339471478927631,
         0.0805575764061771,
         0.07491907429326909,
         0.08507193413463056,
         0.08567835469815761,
         0.0916225869658624,
         0.08019090251519843,
         0.08341857966378569,
         0.08780841233232398,
         0.08121517512812722,
         0.08475531411945642,
         0.08151618043839602,
         0.08812907872212006,
         0.08067442541816319,
         0.0788958683773201,
         0.0834295557210783,
         0.08748029693991098,
         0.08551731819771775,
         0.08670749329057895,
         0.08370307704125186,
         0.0873489793701071,
         0.08144389022163945,
         0.08273763622294532,
         0.09374134027873005,
         0.09517779173286987,
         0.0912191720103722,
         0.08663884957494239,
         0.08440686972886556,
         0.08455557724220263,
         0.07943281869131431,
         0.0910039060294632,
         0.08189561223616433,
         0.07452636568267819,
         0.08558263013194028,
         0.07983895910007999,
         0.08236589363427405,
         0.08172733280813341,
         0.08300997093456836,
         0.09981509538066746,
         0.08995140619074374,
         0.08854547149201974,
         0.07912782524106503,
         0.08286063415172652,
         0.08789984420477652,
         0.07786550938116035,
         0.08842854373342045,
         0.08098182365654408,
         0.08007318336053747,
         0.08275524312626445,
         0.08425413530907656,
         0.0773243041488245,
         0.08750657259824657,
         0.08039954796578397,
         0.08792836015896269,
         0.08860253396640953,
         0.0789121751878856,
         0.0871784127577051,
         0.08327587303262607,
         0.08921454681333858,
         0.08319156860628674,
         0.08255080923094803,
         0.09093240475502941,
         0.0843927631197674,
         0.0792578302730204,
         0.08215090145037277,
         0.08319872608592813,
         0.09410724715041147,
         0.08345590825505855,
         0.09383440919320596,
         0.0853385546633213
        ],
        [
         0.21962913487325697,
         0.2155270280987572,
         0.2073094423896834,
         0.20567260473491808,
         0.22974741488110786,
         0.21908355265052296,
         0.21983629304404353,
         0.2082807715690019,
         0.21456229214684344,
         0.22399105149887355,
         0.2127998820460383,
         0.22382598628710007,
         0.21833173107520185,
         0.2055798639342481,
         0.20532961514796697,
         0.2220775755852753,
         0.2207615015042179,
         0.204656324881202,
         0.22816656823909165,
         0.21655559322258056,
         0.20654345454429002,
         0.20778660733234502,
         0.21207329245539858,
         0.2103334768291782,
         0.21812789164501808,
         0.21057138049646335,
         0.21791207165840795,
         0.21574880847337602,
         0.21832695508184022,
         0.2225526334927874,
         0.2242369341901412,
         0.20486245327172617,
         0.20130444109193324,
         0.21438527308112265,
         0.21723333910545883,
         0.2299558382444814,
         0.22054699652682186,
         0.21922508873931115,
         0.21491248682871752,
         0.216852524429651,
         0.2155932739454632,
         0.2023982846739647,
         0.21769683724086658,
         0.21012610211676241,
         0.21532086531321207,
         0.2193744369581634,
         0.22227900889793448,
         0.22479200169133642,
         0.22375691037478984,
         0.210434320131682,
         0.21856204701551035,
         0.20388854570759862,
         0.22904799076016336,
         0.2194928675342132,
         0.2266121233639983,
         0.21835111588349237,
         0.21436361563118064,
         0.21921497718522362,
         0.21951453011556,
         0.20840501940270484,
         0.22596725062741077,
         0.21245641480245644,
         0.20089403247830512,
         0.21662691600766837,
         0.20921197350995213,
         0.2231238099595751,
         0.21816767003916787,
         0.21816135693213665,
         0.23770028170125157,
         0.2209094392487268,
         0.2271796949299089,
         0.20353208571745485,
         0.20611019943859063,
         0.20958343817505473,
         0.2028943992986837,
         0.22049179122390627,
         0.22028384646218196,
         0.2072137598183426,
         0.2123577016058798,
         0.2065551260066237,
         0.20933480457147108,
         0.21634013428553647,
         0.20892997086048126,
         0.218822659011565,
         0.2276297143875055,
         0.20636999049205698,
         0.22192714569688426,
         0.2057231093081189,
         0.22497129734998167,
         0.20744495415220074,
         0.2140142679575137,
         0.22358437962647454,
         0.21521293967231817,
         0.2048160655825746,
         0.21003152377099968,
         0.20886388584496637,
         0.22412881541166307,
         0.21773466414899803,
         0.22977724007568232,
         0.21827795253336138
        ],
        [
         22.40217175707221,
         21.983756866073236,
         21.145563123747706,
         20.978605682961643,
         23.434236317873,
         22.34652237035334,
         22.42330189049244,
         21.244638700038195,
         21.88535379897803,
         22.847087252885103,
         21.70558796869591,
         22.830250601284206,
         22.269836569670588,
         20.969146121293306,
         20.94362074509263,
         22.65191270969808,
         22.517673153430223,
         20.874945137882605,
         23.27298996038735,
         22.088670508703217,
         21.067432363517582,
         21.194233947899193,
         21.631475830450654,
         21.454014636576176,
         22.249044947791845,
         21.478280810639262,
         22.22703130915761,
         22.006378464284353,
         22.2693494183477,
         22.700368616264313,
         22.872167287394404,
         20.89597023371607,
         20.53305299137719,
         21.86729785427451,
         22.1578005887568,
         23.455495500937104,
         22.49579364573583,
         22.360959051409736,
         21.921073656529188,
         22.118957491824403,
         21.990513942437246,
         20.6446250367444,
         22.205077398568392,
         21.432862415909767,
         21.962728261947632,
         22.376192569732666,
         22.672458907589316,
         22.928784172516316,
         22.823204858228564,
         21.464300653431565,
         22.293328795582056,
         20.79663166217506,
         23.36289505753666,
         22.388272488489747,
         23.114436583127826,
         22.271813820116222,
         21.865088794380426,
         22.35992767289281,
         22.39048207178712,
         21.257311979075894,
         23.048659563995898,
         21.67055430985056,
         20.491191312787123,
         22.095945432782173,
         21.339621298015118,
         22.75862861587666,
         22.253102343995124,
         22.25245840707794,
         24.24542873352766,
         22.532762803370133,
         23.172328882850707,
         20.760272743180394,
         21.023240342736244,
         21.377510693855584,
         20.695228728465736,
         22.49016270483844,
         22.46895233914256,
         21.135803501470946,
         21.66048556379974,
         21.068622852675617,
         21.35215006629005,
         22.06669369712472,
         21.31085702776909,
         22.31991121917963,
         23.218230867525563,
         21.049739030189812,
         22.636568861082196,
         20.98375714942813,
         22.94707232969813,
         21.159385323524475,
         21.829455331666395,
         22.805606721900403,
         21.951719846576452,
         20.891238689422607,
         21.423215424641967,
         21.30411635618657,
         22.861139171989635,
         22.2089357431978,
         23.437278487719595,
         22.26435115840286
        ],
        [
         3.018124507845124,
         2.830033022755559,
         2.888406854780042,
         2.834702458161797,
         2.9898932301986476,
         2.8940797424112295,
         2.982195023356932,
         2.987028630278316,
         2.9308860423255267,
         3.1237968810361667,
         2.8857275614513513,
         2.9563843866605333,
         2.947654617494678,
         2.893010184484866,
         2.900719719402289,
         3.0873939602763,
         2.8895112584636125,
         2.741223754033593,
         2.923283448834321,
         2.9785302890397665,
         2.6775511592662657,
         2.8446180737468674,
         2.9305646408196075,
         2.791745231450959,
         2.9202289007189566,
         2.8367702427868915,
         2.8936681306465775,
         2.9661499813538157,
         2.920291849074046,
         2.9765799854434807,
         3.0864641434019906,
         2.866508816213559,
         2.764370738145202,
         2.9457320451345055,
         2.956212471932976,
         3.0570416860942475,
         2.8599776321765598,
         2.916966768015388,
         2.992734211034626,
         2.8781848208669603,
         2.940245234701445,
         2.883513552025791,
         2.998193794546351,
         2.8685870028034093,
         2.8367901886615883,
         2.9171586661595885,
         2.9871374738821315,
         2.953432995035982,
         2.9739139724677734,
         2.921936662251201,
         2.9848946205437343,
         2.88223468902295,
         2.90503681469623,
         3.0921863961330764,
         3.115787983280108,
         3.0503041725470528,
         2.972736560249516,
         2.934195070601866,
         2.936778656743587,
         2.84642714758591,
         3.046702876062129,
         2.890216678397791,
         2.75711612008511,
         2.954560588896073,
         2.8536947678769287,
         2.8985032604252754,
         2.8872457371047595,
         2.9098139176459332,
         3.190789828369785,
         3.029033415374591,
         3.0052683893765653,
         2.8409572637737144,
         2.9071953294328376,
         2.994291921120451,
         2.8182054497283118,
         3.0032834466311837,
         2.874046974732232,
         2.857877657069109,
         2.905345900039954,
         2.931539152309894,
         2.8083943852635977,
         2.9875860498103055,
         2.863695844972012,
         2.9947775770855163,
         3.0062365949096175,
         2.837083338424222,
         2.981978890147602,
         2.9144706293472677,
         3.016601361625453,
         2.9129950219389746,
         2.901755079526302,
         3.0455057519257784,
         2.933949869751743,
         2.8432901167218376,
         2.8947179392711164,
         2.913120330635978,
         3.0982154878803976,
         2.9176193449482013,
         3.0937210180795245,
         2.950344484235489
        ]
       ],
       "encoder": "json",
       "name": "ABC_GAN_3 Metrics",
       "version": 1
      }
     },
     "metadata": {
      "scrapbook": {
       "data": true,
       "display": false,
       "name": "ABC_GAN_3 Metrics"
      }
     },
     "output_type": "display_data"
    }
   ],
   "source": [
    "ABC_GAN3_metrics=ABC_train_test2.test_generator(gen3,test_data,prior_model,variance,\"3\",device)\n",
    "sb.glue(\"ABC_GAN_3 Metrics\",ABC_GAN3_metrics)"
   ]
  },
  {
   "cell_type": "code",
   "execution_count": 18,
   "id": "c8e46b48",
   "metadata": {
    "execution": {
     "iopub.execute_input": "2022-01-14T18:16:05.318030Z",
     "iopub.status.busy": "2022-01-14T18:16:05.317460Z",
     "iopub.status.idle": "2022-01-14T18:16:06.187635Z",
     "shell.execute_reply": "2022-01-14T18:16:06.188173Z"
    },
    "papermill": {
     "duration": 0.934623,
     "end_time": "2022-01-14T18:16:06.188373",
     "exception": false,
     "start_time": "2022-01-14T18:16:05.253750",
     "status": "completed"
    },
    "tags": []
   },
   "outputs": [
    {
     "data": {
      "image/png": "[encoded data removed]",
      "text/plain": [
       "<Figure size 432x288 with 1 Axes>"
      ]
     },
     "metadata": {
      "needs_background": "light"
     },
     "output_type": "display_data"
    },
    {
     "data": {
      "image/png": "[encoded data removed]",
      "text/plain": [
       "<Figure size 432x288 with 1 Axes>"
      ]
     },
     "metadata": {
      "needs_background": "light"
     },
     "output_type": "display_data"
    },
    {
     "data": {
      "image/png": "[encoded data removed]",
      "text/plain": [
       "<Figure size 432x288 with 1 Axes>"
      ]
     },
     "metadata": {
      "needs_background": "light"
     },
     "output_type": "display_data"
    },
    {
     "data": {
      "image/png": "[encoded data removed]",
      "text/plain": [
       "<Figure size 432x288 with 1 Axes>"
      ]
     },
     "metadata": {
      "needs_background": "light"
     },
     "output_type": "display_data"
    }
   ],
   "source": [
    "sanityChecks.discProbVsError(train_data,disc,device)\n",
    "sanityChecks.discProbVsError(test_data,disc3,device)"
   ]
  },
  {
   "cell_type": "markdown",
   "id": "a5bd74c3",
   "metadata": {
    "papermill": {
     "duration": 0.053105,
     "end_time": "2022-01-14T18:16:06.299240",
     "exception": false,
     "start_time": "2022-01-14T18:16:06.246135",
     "status": "completed"
    },
    "tags": []
   },
   "source": [
    "## Skip Connection Model Analysis - ABC-GAN "
   ]
  },
  {
   "cell_type": "markdown",
   "id": "5744a8bf",
   "metadata": {
    "papermill": {
     "duration": 0.050052,
     "end_time": "2022-01-14T18:16:06.400963",
     "exception": false,
     "start_time": "2022-01-14T18:16:06.350911",
     "status": "completed"
    },
    "tags": []
   },
   "source": [
    "### Weight Analysis \n",
    "\n",
    "Study the weights of the skip connection layer\n",
    "\n",
    "Equation of the skip connection is \n",
    "\n",
    "$output = y_{gan} * w + y_{abc} * (1-w)$"
   ]
  },
  {
   "cell_type": "code",
   "execution_count": 19,
   "id": "52c31dea",
   "metadata": {
    "execution": {
     "iopub.execute_input": "2022-01-14T18:16:06.506501Z",
     "iopub.status.busy": "2022-01-14T18:16:06.505715Z",
     "iopub.status.idle": "2022-01-14T18:16:06.515091Z",
     "shell.execute_reply": "2022-01-14T18:16:06.515615Z"
    },
    "papermill": {
     "duration": 0.065665,
     "end_time": "2022-01-14T18:16:06.515783",
     "exception": false,
     "start_time": "2022-01-14T18:16:06.450118",
     "status": "completed"
    },
    "tags": []
   },
   "outputs": [
    {
     "name": "stdout",
     "output_type": "stream",
     "text": [
      "Weight of the node at skip connection\n",
      "Parameter containing:\n",
      "tensor([[0.0071]], device='cuda:0', requires_grad=True)\n"
     ]
    },
    {
     "data": {
      "application/scrapbook.scrap.json+json": {
       "data": 0.007117506116628647,
       "encoder": "json",
       "name": "Skip Connection Weight",
       "version": 1
      }
     },
     "metadata": {
      "scrapbook": {
       "data": true,
       "display": false,
       "name": "Skip Connection Weight"
      }
     },
     "output_type": "display_data"
    }
   ],
   "source": [
    "print(\"Weight of the node at skip connection\")\n",
    "for name,param in gen3.named_parameters():\n",
    "    if(name == \"skipNode.weight\"):\n",
    "        print(param)\n",
    "        sb.glue(\"Skip Connection Weight\",param.item())"
   ]
  }
 ],
 "metadata": {
  "interpreter": {
   "hash": "10498c76ddd8160350534c6544a2b2fb65f2138dbc70420f7c81a3268f830f23"
  },
  "kernelspec": {
   "display_name": "papermill-tutorial",
   "language": "python",
   "name": "python3"
  },
  "language_info": {
   "codemirror_mode": {
    "name": "ipython",
    "version": 3
   },
   "file_extension": ".py",
   "mimetype": "text/x-python",
   "name": "python",
   "nbconvert_exporter": "python",
   "pygments_lexer": "ipython3",
   "version": "3.7.12"
  },
  "papermill": {
   "default_parameters": {},
   "duration": 2512.413048,
   "end_time": "2022-01-14T18:16:07.279413",
   "environment_variables": {},
   "exception": null,
   "input_path": "ABC_GAN_Model-Catboost_Pre-gen.ipynb",
   "output_path": "./ABC_GAN_Output/ABC-GAN_output_6_1.ipynb",
   "parameters": {
    "variance": 0.1
   },
   "start_time": "2022-01-14T17:34:14.866365",
   "version": "2.3.3"
  }
 },
 "nbformat": 4,
 "nbformat_minor": 5
}