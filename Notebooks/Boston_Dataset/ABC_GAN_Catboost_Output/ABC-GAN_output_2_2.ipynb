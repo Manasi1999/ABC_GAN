{
 "cells": [
  {
   "cell_type": "markdown",
   "id": "622780e6",
   "metadata": {
    "papermill": {
     "duration": 0.0266,
     "end_time": "2022-01-14T09:40:40.380195",
     "exception": false,
     "start_time": "2022-01-14T09:40:40.353595",
     "status": "completed"
    },
    "tags": []
   },
   "source": [
    "## Import Libraries "
   ]
  },
  {
   "cell_type": "code",
   "execution_count": 1,
   "id": "a62397e3",
   "metadata": {
    "execution": {
     "iopub.execute_input": "2022-01-14T09:40:40.436611Z",
     "iopub.status.busy": "2022-01-14T09:40:40.435945Z",
     "iopub.status.idle": "2022-01-14T09:40:40.439072Z",
     "shell.execute_reply": "2022-01-14T09:40:40.438530Z"
    },
    "papermill": {
     "duration": 0.033797,
     "end_time": "2022-01-14T09:40:40.439216",
     "exception": false,
     "start_time": "2022-01-14T09:40:40.405419",
     "status": "completed"
    },
    "tags": []
   },
   "outputs": [],
   "source": [
    "import warnings\n",
    "import sys\n",
    "sys.path.insert(0, '../../src')\n",
    "warnings.filterwarnings('ignore')"
   ]
  },
  {
   "cell_type": "code",
   "execution_count": 2,
   "id": "d6a4e155",
   "metadata": {
    "execution": {
     "iopub.execute_input": "2022-01-14T09:40:40.492349Z",
     "iopub.status.busy": "2022-01-14T09:40:40.491682Z",
     "iopub.status.idle": "2022-01-14T09:40:42.131621Z",
     "shell.execute_reply": "2022-01-14T09:40:42.130906Z"
    },
    "papermill": {
     "duration": 1.669373,
     "end_time": "2022-01-14T09:40:42.131806",
     "exception": false,
     "start_time": "2022-01-14T09:40:40.462433",
     "status": "completed"
    },
    "tags": []
   },
   "outputs": [],
   "source": [
    "import ABC_train_test2\n",
    "import bostonDataset\n",
    "import network\n",
    "import dataset\n",
    "import sanityChecks\n",
    "import performanceMetrics\n",
    "import torch \n",
    "from torch.utils.data import random_split \n",
    "import scrapbook as sb\n",
    "from statistics import mean \n",
    "import catboost as ctb \n",
    "from sklearn.model_selection import train_test_split\n",
    "from sklearn.metrics import mean_squared_error\n",
    "import numpy as np"
   ]
  },
  {
   "cell_type": "markdown",
   "id": "2fa5b0f7",
   "metadata": {
    "papermill": {
     "duration": 0.024395,
     "end_time": "2022-01-14T09:40:42.180416",
     "exception": false,
     "start_time": "2022-01-14T09:40:42.156021",
     "status": "completed"
    },
    "tags": []
   },
   "source": [
    "## Parameters "
   ]
  },
  {
   "cell_type": "code",
   "execution_count": 3,
   "id": "783186fb",
   "metadata": {
    "execution": {
     "iopub.execute_input": "2022-01-14T09:40:42.233699Z",
     "iopub.status.busy": "2022-01-14T09:40:42.233039Z",
     "iopub.status.idle": "2022-01-14T09:40:42.235666Z",
     "shell.execute_reply": "2022-01-14T09:40:42.235094Z"
    },
    "papermill": {
     "duration": 0.030434,
     "end_time": "2022-01-14T09:40:42.235794",
     "exception": false,
     "start_time": "2022-01-14T09:40:42.205360",
     "status": "completed"
    },
    "tags": [
     "parameters"
    ]
   },
   "outputs": [],
   "source": [
    "variance = 1"
   ]
  },
  {
   "cell_type": "code",
   "execution_count": 4,
   "id": "09907460",
   "metadata": {
    "execution": {
     "iopub.execute_input": "2022-01-14T09:40:42.307918Z",
     "iopub.status.busy": "2022-01-14T09:40:42.307321Z",
     "iopub.status.idle": "2022-01-14T09:40:42.309890Z",
     "shell.execute_reply": "2022-01-14T09:40:42.309292Z"
    },
    "papermill": {
     "duration": 0.050534,
     "end_time": "2022-01-14T09:40:42.310037",
     "exception": false,
     "start_time": "2022-01-14T09:40:42.259503",
     "status": "completed"
    },
    "tags": [
     "injected-parameters"
    ]
   },
   "outputs": [],
   "source": [
    "# Parameters\n",
    "variance = 0.01\n"
   ]
  },
  {
   "cell_type": "markdown",
   "id": "391cdbfd",
   "metadata": {
    "papermill": {
     "duration": 0.023562,
     "end_time": "2022-01-14T09:40:42.357908",
     "exception": false,
     "start_time": "2022-01-14T09:40:42.334346",
     "status": "completed"
    },
    "tags": []
   },
   "source": [
    "## Dataset - Boston Housing "
   ]
  },
  {
   "cell_type": "code",
   "execution_count": 5,
   "id": "5b51f161",
   "metadata": {
    "execution": {
     "iopub.execute_input": "2022-01-14T09:40:42.409809Z",
     "iopub.status.busy": "2022-01-14T09:40:42.409062Z",
     "iopub.status.idle": "2022-01-14T09:40:42.412008Z",
     "shell.execute_reply": "2022-01-14T09:40:42.411457Z"
    },
    "papermill": {
     "duration": 0.03063,
     "end_time": "2022-01-14T09:40:42.412135",
     "exception": false,
     "start_time": "2022-01-14T09:40:42.381505",
     "status": "completed"
    },
    "tags": []
   },
   "outputs": [],
   "source": [
    "#Parameters \n",
    "n_features = 13\n",
    "n_samples= 506\n",
    "n_target = 1 "
   ]
  },
  {
   "cell_type": "code",
   "execution_count": 6,
   "id": "5d6eced4",
   "metadata": {
    "execution": {
     "iopub.execute_input": "2022-01-14T09:40:42.463785Z",
     "iopub.status.busy": "2022-01-14T09:40:42.463130Z",
     "iopub.status.idle": "2022-01-14T09:40:42.496630Z",
     "shell.execute_reply": "2022-01-14T09:40:42.496050Z"
    },
    "papermill": {
     "duration": 0.060611,
     "end_time": "2022-01-14T09:40:42.496753",
     "exception": false,
     "start_time": "2022-01-14T09:40:42.436142",
     "status": "completed"
    },
    "tags": []
   },
   "outputs": [
    {
     "name": "stdout",
     "output_type": "stream",
     "text": [
      "         X1        X2        X3        X4        X5        X6        X7        X8        X9       X10       X11       X12       X13         Y\n",
      "0 -0.419782  0.284830 -1.287909 -0.272599 -0.144217  0.413672 -0.120013  0.140214 -0.982843 -0.666608 -1.459000  0.441052 -1.075562  0.159686\n",
      "1 -0.417339 -0.487722 -0.593381 -0.272599 -0.740262  0.194274  0.367166  0.557160 -0.867883 -0.987329 -0.303094  0.441052 -0.492439 -0.101524\n",
      "2 -0.417342 -0.487722 -0.593381 -0.272599 -0.740262  1.282714 -0.265812  0.557160 -0.867883 -0.987329 -0.303094  0.396427 -1.208727  1.324247\n",
      "3 -0.416750 -0.487722 -1.306878 -0.272599 -0.835284  1.016303 -0.809889  1.077737 -0.752922 -1.106115  0.113032  0.416163 -1.361517  1.182758\n",
      "4 -0.412482 -0.487722 -1.306878 -0.272599 -0.835284  1.228577 -0.511180  1.077737 -0.752922 -1.106115  0.113032  0.441052 -1.026501  1.487503\n"
     ]
    }
   ],
   "source": [
    "X,Y = bostonDataset.boston_data()"
   ]
  },
  {
   "cell_type": "code",
   "execution_count": 7,
   "id": "fe007438",
   "metadata": {
    "execution": {
     "iopub.execute_input": "2022-01-14T09:40:42.549586Z",
     "iopub.status.busy": "2022-01-14T09:40:42.548905Z",
     "iopub.status.idle": "2022-01-14T09:40:42.551727Z",
     "shell.execute_reply": "2022-01-14T09:40:42.551227Z"
    },
    "papermill": {
     "duration": 0.031242,
     "end_time": "2022-01-14T09:40:42.551853",
     "exception": false,
     "start_time": "2022-01-14T09:40:42.520611",
     "status": "completed"
    },
    "tags": []
   },
   "outputs": [],
   "source": [
    "#Train test split for dataset \n",
    "X_train,X_test,Y_train,Y_test = train_test_split(X,Y,test_size = 0.2)\n",
    "train_data = dataset.CustomDataset(X_train,Y_train)\n",
    "test_data = dataset.CustomDataset(X_test,Y_test)\n"
   ]
  },
  {
   "cell_type": "markdown",
   "id": "a9a1af34",
   "metadata": {
    "papermill": {
     "duration": 0.024586,
     "end_time": "2022-01-14T09:40:42.600991",
     "exception": false,
     "start_time": "2022-01-14T09:40:42.576405",
     "status": "completed"
    },
    "tags": []
   },
   "source": [
    "## Training Parameters \n",
    "\n"
   ]
  },
  {
   "cell_type": "code",
   "execution_count": 8,
   "id": "952b7fc8",
   "metadata": {
    "execution": {
     "iopub.execute_input": "2022-01-14T09:40:42.674832Z",
     "iopub.status.busy": "2022-01-14T09:40:42.674190Z",
     "iopub.status.idle": "2022-01-14T09:40:42.676804Z",
     "shell.execute_reply": "2022-01-14T09:40:42.676295Z"
    },
    "papermill": {
     "duration": 0.050653,
     "end_time": "2022-01-14T09:40:42.676934",
     "exception": false,
     "start_time": "2022-01-14T09:40:42.626281",
     "status": "completed"
    },
    "tags": []
   },
   "outputs": [],
   "source": [
    "batch_size = 64\n",
    "n_epochs = 5000\n",
    "#Select the device \n",
    "device = torch.device('cuda' if torch.cuda.is_available() else 'cpu')"
   ]
  },
  {
   "cell_type": "markdown",
   "id": "a95e1600",
   "metadata": {
    "papermill": {
     "duration": 0.023434,
     "end_time": "2022-01-14T09:40:42.725062",
     "exception": false,
     "start_time": "2022-01-14T09:40:42.701628",
     "status": "completed"
    },
    "tags": []
   },
   "source": [
    "# ABC Pre-generator Model \n",
    "\n",
    "1. The catboost model is used as a pre-generator model for the ABC-GAN. \n",
    "2. The model is first trained on the train dataset \n",
    "3. It generats X,Y pairs and we add some Gaussian noise with mean 0 and variance V (1,0.01,0.1) to it which is then feed as input to the generator.\n"
   ]
  },
  {
   "cell_type": "code",
   "execution_count": 9,
   "id": "ff8ce7bd",
   "metadata": {
    "execution": {
     "iopub.execute_input": "2022-01-14T09:40:42.810921Z",
     "iopub.status.busy": "2022-01-14T09:40:42.810109Z",
     "iopub.status.idle": "2022-01-14T09:40:44.515445Z",
     "shell.execute_reply": "2022-01-14T09:40:44.514878Z"
    },
    "papermill": {
     "duration": 1.765964,
     "end_time": "2022-01-14T09:40:44.515588",
     "exception": false,
     "start_time": "2022-01-14T09:40:42.749624",
     "status": "completed"
    },
    "tags": []
   },
   "outputs": [
    {
     "name": "stdout",
     "output_type": "stream",
     "text": [
      "Learning rate set to 0.03548\n",
      "0:\tlearn: 0.9474618\ttotal: 48.5ms\tremaining: 48.4s\n",
      "1:\tlearn: 0.9274963\ttotal: 49.4ms\tremaining: 24.7s\n",
      "2:\tlearn: 0.9058989\ttotal: 50.6ms\tremaining: 16.8s\n",
      "3:\tlearn: 0.8890994\ttotal: 51.8ms\tremaining: 12.9s\n",
      "4:\tlearn: 0.8726805\ttotal: 53ms\tremaining: 10.5s\n",
      "5:\tlearn: 0.8555222\ttotal: 54ms\tremaining: 8.95s\n",
      "6:\tlearn: 0.8395868\ttotal: 55ms\tremaining: 7.8s\n",
      "7:\tlearn: 0.8232329\ttotal: 56.1ms\tremaining: 6.96s\n",
      "8:\tlearn: 0.8078526\ttotal: 57.1ms\tremaining: 6.29s\n",
      "9:\tlearn: 0.7918951\ttotal: 58.2ms\tremaining: 5.76s\n",
      "10:\tlearn: 0.7780302\ttotal: 59.2ms\tremaining: 5.33s\n",
      "11:\tlearn: 0.7629104\ttotal: 60.4ms\tremaining: 4.97s\n",
      "12:\tlearn: 0.7481694\ttotal: 61.4ms\tremaining: 4.66s\n",
      "13:\tlearn: 0.7329390\ttotal: 62.4ms\tremaining: 4.39s\n",
      "14:\tlearn: 0.7214805\ttotal: 63.4ms\tremaining: 4.16s\n",
      "15:\tlearn: 0.7075545\ttotal: 64.5ms\tremaining: 3.97s\n",
      "16:\tlearn: 0.6956949\ttotal: 65.7ms\tremaining: 3.8s\n",
      "17:\tlearn: 0.6838089\ttotal: 66.7ms\tremaining: 3.64s\n",
      "18:\tlearn: 0.6722074\ttotal: 67.7ms\tremaining: 3.5s\n",
      "19:\tlearn: 0.6607347\ttotal: 68.9ms\tremaining: 3.38s\n",
      "20:\tlearn: 0.6480201\ttotal: 70ms\tremaining: 3.26s\n",
      "21:\tlearn: 0.6373149\ttotal: 70.9ms\tremaining: 3.15s\n",
      "22:\tlearn: 0.6276665\ttotal: 72ms\tremaining: 3.06s\n",
      "23:\tlearn: 0.6184886\ttotal: 73ms\tremaining: 2.97s\n",
      "24:\tlearn: 0.6077575\ttotal: 74.3ms\tremaining: 2.9s\n",
      "25:\tlearn: 0.5990488\ttotal: 75.4ms\tremaining: 2.82s\n",
      "26:\tlearn: 0.5902760\ttotal: 76.5ms\tremaining: 2.76s\n",
      "27:\tlearn: 0.5816720\ttotal: 77.8ms\tremaining: 2.7s\n",
      "28:\tlearn: 0.5720304\ttotal: 78.9ms\tremaining: 2.64s\n",
      "29:\tlearn: 0.5623268\ttotal: 80.1ms\tremaining: 2.59s\n",
      "30:\tlearn: 0.5536233\ttotal: 81.3ms\tremaining: 2.54s\n",
      "31:\tlearn: 0.5454760\ttotal: 82.5ms\tremaining: 2.5s\n",
      "32:\tlearn: 0.5374664\ttotal: 83.6ms\tremaining: 2.45s\n",
      "33:\tlearn: 0.5299420\ttotal: 84.9ms\tremaining: 2.41s\n",
      "34:\tlearn: 0.5225705\ttotal: 86ms\tremaining: 2.37s\n",
      "35:\tlearn: 0.5155027\ttotal: 87ms\tremaining: 2.33s\n",
      "36:\tlearn: 0.5083670\ttotal: 88.2ms\tremaining: 2.3s\n",
      "37:\tlearn: 0.5022311\ttotal: 89.4ms\tremaining: 2.26s\n",
      "38:\tlearn: 0.4960597\ttotal: 90.4ms\tremaining: 2.23s\n",
      "39:\tlearn: 0.4891010\ttotal: 91.6ms\tremaining: 2.2s\n",
      "40:\tlearn: 0.4835347\ttotal: 92.7ms\tremaining: 2.17s\n",
      "41:\tlearn: 0.4774963\ttotal: 93.9ms\tremaining: 2.14s\n",
      "42:\tlearn: 0.4725410\ttotal: 95ms\tremaining: 2.11s\n",
      "43:\tlearn: 0.4677712\ttotal: 96ms\tremaining: 2.08s\n",
      "44:\tlearn: 0.4623660\ttotal: 97ms\tremaining: 2.06s\n",
      "45:\tlearn: 0.4577447\ttotal: 98.1ms\tremaining: 2.04s\n",
      "46:\tlearn: 0.4527740\ttotal: 99.3ms\tremaining: 2.01s\n",
      "47:\tlearn: 0.4472290\ttotal: 100ms\tremaining: 1.99s\n",
      "48:\tlearn: 0.4419232\ttotal: 102ms\tremaining: 1.97s\n",
      "49:\tlearn: 0.4374226\ttotal: 103ms\tremaining: 1.95s\n",
      "50:\tlearn: 0.4316912\ttotal: 104ms\tremaining: 1.93s\n",
      "51:\tlearn: 0.4263169\ttotal: 105ms\tremaining: 1.91s\n",
      "52:\tlearn: 0.4221979\ttotal: 106ms\tremaining: 1.9s\n",
      "53:\tlearn: 0.4192605\ttotal: 107ms\tremaining: 1.87s\n",
      "54:\tlearn: 0.4151689\ttotal: 108ms\tremaining: 1.86s\n",
      "55:\tlearn: 0.4122120\ttotal: 109ms\tremaining: 1.84s\n",
      "56:\tlearn: 0.4084987\ttotal: 110ms\tremaining: 1.82s\n",
      "57:\tlearn: 0.4035573\ttotal: 111ms\tremaining: 1.81s\n",
      "58:\tlearn: 0.4003884\ttotal: 112ms\tremaining: 1.79s\n",
      "59:\tlearn: 0.3966664\ttotal: 114ms\tremaining: 1.78s\n",
      "60:\tlearn: 0.3935233\ttotal: 115ms\tremaining: 1.77s\n",
      "61:\tlearn: 0.3900117\ttotal: 116ms\tremaining: 1.75s\n",
      "62:\tlearn: 0.3873908\ttotal: 117ms\tremaining: 1.74s\n",
      "63:\tlearn: 0.3840482\ttotal: 118ms\tremaining: 1.73s\n",
      "64:\tlearn: 0.3806677\ttotal: 119ms\tremaining: 1.72s\n",
      "65:\tlearn: 0.3781778\ttotal: 120ms\tremaining: 1.7s\n",
      "66:\tlearn: 0.3742182\ttotal: 121ms\tremaining: 1.69s\n",
      "67:\tlearn: 0.3708475\ttotal: 122ms\tremaining: 1.68s\n",
      "68:\tlearn: 0.3683413\ttotal: 124ms\tremaining: 1.67s\n",
      "69:\tlearn: 0.3660492\ttotal: 125ms\tremaining: 1.65s\n",
      "70:\tlearn: 0.3635289\ttotal: 126ms\tremaining: 1.65s\n",
      "71:\tlearn: 0.3612455\ttotal: 127ms\tremaining: 1.63s\n",
      "72:\tlearn: 0.3586379\ttotal: 128ms\tremaining: 1.62s\n",
      "73:\tlearn: 0.3550217\ttotal: 129ms\tremaining: 1.61s\n",
      "74:\tlearn: 0.3531771\ttotal: 130ms\tremaining: 1.6s\n",
      "75:\tlearn: 0.3511240\ttotal: 131ms\tremaining: 1.59s\n",
      "76:\tlearn: 0.3490663\ttotal: 132ms\tremaining: 1.58s\n",
      "77:\tlearn: 0.3468191\ttotal: 133ms\tremaining: 1.57s\n",
      "78:\tlearn: 0.3436090\ttotal: 134ms\tremaining: 1.56s\n",
      "79:\tlearn: 0.3416999\ttotal: 135ms\tremaining: 1.55s\n",
      "80:\tlearn: 0.3395079\ttotal: 136ms\tremaining: 1.54s\n",
      "81:\tlearn: 0.3367363\ttotal: 137ms\tremaining: 1.53s\n",
      "82:\tlearn: 0.3343961\ttotal: 138ms\tremaining: 1.53s\n",
      "83:\tlearn: 0.3320434\ttotal: 139ms\tremaining: 1.52s\n",
      "84:\tlearn: 0.3304589\ttotal: 140ms\tremaining: 1.51s\n"
     ]
    },
    {
     "name": "stdout",
     "output_type": "stream",
     "text": [
      "85:\tlearn: 0.3281549\ttotal: 141ms\tremaining: 1.5s\n",
      "86:\tlearn: 0.3263936\ttotal: 143ms\tremaining: 1.5s\n",
      "87:\tlearn: 0.3241987\ttotal: 144ms\tremaining: 1.49s\n",
      "88:\tlearn: 0.3223181\ttotal: 145ms\tremaining: 1.48s\n",
      "89:\tlearn: 0.3198564\ttotal: 146ms\tremaining: 1.47s\n",
      "90:\tlearn: 0.3178820\ttotal: 147ms\tremaining: 1.46s\n",
      "91:\tlearn: 0.3164431\ttotal: 148ms\tremaining: 1.46s\n",
      "92:\tlearn: 0.3154332\ttotal: 149ms\tremaining: 1.45s\n",
      "93:\tlearn: 0.3140260\ttotal: 150ms\tremaining: 1.44s\n",
      "94:\tlearn: 0.3124253\ttotal: 151ms\tremaining: 1.44s\n",
      "95:\tlearn: 0.3111633\ttotal: 152ms\tremaining: 1.43s\n",
      "96:\tlearn: 0.3098502\ttotal: 153ms\tremaining: 1.42s\n",
      "97:\tlearn: 0.3086888\ttotal: 154ms\tremaining: 1.42s\n",
      "98:\tlearn: 0.3071858\ttotal: 155ms\tremaining: 1.41s\n",
      "99:\tlearn: 0.3055780\ttotal: 156ms\tremaining: 1.4s\n",
      "100:\tlearn: 0.3048155\ttotal: 157ms\tremaining: 1.4s\n",
      "101:\tlearn: 0.3034149\ttotal: 158ms\tremaining: 1.39s\n",
      "102:\tlearn: 0.3018797\ttotal: 159ms\tremaining: 1.39s\n",
      "103:\tlearn: 0.3005914\ttotal: 160ms\tremaining: 1.38s\n",
      "104:\tlearn: 0.2994383\ttotal: 161ms\tremaining: 1.37s\n",
      "105:\tlearn: 0.2979139\ttotal: 162ms\tremaining: 1.37s\n",
      "106:\tlearn: 0.2961569\ttotal: 163ms\tremaining: 1.36s\n",
      "107:\tlearn: 0.2941417\ttotal: 164ms\tremaining: 1.36s\n",
      "108:\tlearn: 0.2930469\ttotal: 165ms\tremaining: 1.35s\n",
      "109:\tlearn: 0.2920171\ttotal: 166ms\tremaining: 1.35s\n",
      "110:\tlearn: 0.2913731\ttotal: 167ms\tremaining: 1.34s\n",
      "111:\tlearn: 0.2904711\ttotal: 168ms\tremaining: 1.33s\n",
      "112:\tlearn: 0.2886014\ttotal: 170ms\tremaining: 1.33s\n",
      "113:\tlearn: 0.2872164\ttotal: 170ms\tremaining: 1.32s\n",
      "114:\tlearn: 0.2853788\ttotal: 171ms\tremaining: 1.32s\n",
      "115:\tlearn: 0.2842513\ttotal: 172ms\tremaining: 1.31s\n",
      "116:\tlearn: 0.2826821\ttotal: 173ms\tremaining: 1.31s\n",
      "117:\tlearn: 0.2812990\ttotal: 174ms\tremaining: 1.3s\n",
      "118:\tlearn: 0.2804665\ttotal: 175ms\tremaining: 1.3s\n",
      "119:\tlearn: 0.2795527\ttotal: 176ms\tremaining: 1.29s\n",
      "120:\tlearn: 0.2786056\ttotal: 177ms\tremaining: 1.29s\n",
      "121:\tlearn: 0.2777777\ttotal: 178ms\tremaining: 1.28s\n",
      "122:\tlearn: 0.2771227\ttotal: 179ms\tremaining: 1.28s\n",
      "123:\tlearn: 0.2761388\ttotal: 180ms\tremaining: 1.27s\n",
      "124:\tlearn: 0.2756153\ttotal: 181ms\tremaining: 1.27s\n",
      "125:\tlearn: 0.2744981\ttotal: 183ms\tremaining: 1.27s\n",
      "126:\tlearn: 0.2733809\ttotal: 184ms\tremaining: 1.26s\n",
      "127:\tlearn: 0.2724610\ttotal: 184ms\tremaining: 1.26s\n",
      "128:\tlearn: 0.2714687\ttotal: 185ms\tremaining: 1.25s\n",
      "129:\tlearn: 0.2706160\ttotal: 187ms\tremaining: 1.25s\n",
      "130:\tlearn: 0.2695081\ttotal: 188ms\tremaining: 1.24s\n",
      "131:\tlearn: 0.2686215\ttotal: 189ms\tremaining: 1.24s\n",
      "132:\tlearn: 0.2673380\ttotal: 190ms\tremaining: 1.24s\n",
      "133:\tlearn: 0.2670538\ttotal: 191ms\tremaining: 1.23s\n",
      "134:\tlearn: 0.2660502\ttotal: 192ms\tremaining: 1.23s\n",
      "135:\tlearn: 0.2648553\ttotal: 193ms\tremaining: 1.23s\n",
      "136:\tlearn: 0.2639979\ttotal: 194ms\tremaining: 1.22s\n",
      "137:\tlearn: 0.2629890\ttotal: 195ms\tremaining: 1.22s\n",
      "138:\tlearn: 0.2619461\ttotal: 196ms\tremaining: 1.21s\n",
      "139:\tlearn: 0.2611064\ttotal: 197ms\tremaining: 1.21s\n",
      "140:\tlearn: 0.2604021\ttotal: 198ms\tremaining: 1.21s\n",
      "141:\tlearn: 0.2594958\ttotal: 199ms\tremaining: 1.21s\n",
      "142:\tlearn: 0.2583046\ttotal: 201ms\tremaining: 1.2s\n",
      "143:\tlearn: 0.2570740\ttotal: 202ms\tremaining: 1.2s\n",
      "144:\tlearn: 0.2562122\ttotal: 203ms\tremaining: 1.2s\n",
      "145:\tlearn: 0.2558708\ttotal: 204ms\tremaining: 1.2s\n",
      "146:\tlearn: 0.2551765\ttotal: 205ms\tremaining: 1.19s\n",
      "147:\tlearn: 0.2539004\ttotal: 207ms\tremaining: 1.19s\n",
      "148:\tlearn: 0.2529787\ttotal: 208ms\tremaining: 1.19s\n",
      "149:\tlearn: 0.2524092\ttotal: 209ms\tremaining: 1.18s\n",
      "150:\tlearn: 0.2513267\ttotal: 210ms\tremaining: 1.18s\n",
      "151:\tlearn: 0.2507329\ttotal: 211ms\tremaining: 1.18s\n",
      "152:\tlearn: 0.2501294\ttotal: 212ms\tremaining: 1.18s\n",
      "153:\tlearn: 0.2493168\ttotal: 213ms\tremaining: 1.17s\n",
      "154:\tlearn: 0.2480915\ttotal: 215ms\tremaining: 1.17s\n",
      "155:\tlearn: 0.2473503\ttotal: 216ms\tremaining: 1.17s\n",
      "156:\tlearn: 0.2460087\ttotal: 217ms\tremaining: 1.16s\n",
      "157:\tlearn: 0.2451151\ttotal: 218ms\tremaining: 1.16s\n",
      "158:\tlearn: 0.2440397\ttotal: 219ms\tremaining: 1.16s\n",
      "159:\tlearn: 0.2428766\ttotal: 220ms\tremaining: 1.15s\n",
      "160:\tlearn: 0.2421862\ttotal: 221ms\tremaining: 1.15s\n",
      "161:\tlearn: 0.2414298\ttotal: 222ms\tremaining: 1.15s\n",
      "162:\tlearn: 0.2407011\ttotal: 223ms\tremaining: 1.14s\n",
      "163:\tlearn: 0.2403205\ttotal: 224ms\tremaining: 1.14s\n",
      "164:\tlearn: 0.2395522\ttotal: 225ms\tremaining: 1.14s\n",
      "165:\tlearn: 0.2387944\ttotal: 226ms\tremaining: 1.14s\n",
      "166:\tlearn: 0.2383316\ttotal: 227ms\tremaining: 1.13s\n",
      "167:\tlearn: 0.2377332\ttotal: 228ms\tremaining: 1.13s\n",
      "168:\tlearn: 0.2370767\ttotal: 229ms\tremaining: 1.13s\n",
      "169:\tlearn: 0.2364610\ttotal: 230ms\tremaining: 1.12s\n",
      "170:\tlearn: 0.2361546\ttotal: 231ms\tremaining: 1.12s\n",
      "171:\tlearn: 0.2357393\ttotal: 232ms\tremaining: 1.12s\n",
      "172:\tlearn: 0.2350211\ttotal: 233ms\tremaining: 1.11s\n",
      "173:\tlearn: 0.2342120\ttotal: 234ms\tremaining: 1.11s\n",
      "174:\tlearn: 0.2334871\ttotal: 236ms\tremaining: 1.11s\n",
      "175:\tlearn: 0.2331878\ttotal: 237ms\tremaining: 1.11s\n",
      "176:\tlearn: 0.2322991\ttotal: 238ms\tremaining: 1.11s\n",
      "177:\tlearn: 0.2320051\ttotal: 239ms\tremaining: 1.1s\n",
      "178:\tlearn: 0.2316459\ttotal: 240ms\tremaining: 1.1s\n",
      "179:\tlearn: 0.2310605\ttotal: 241ms\tremaining: 1.1s\n",
      "180:\tlearn: 0.2302050\ttotal: 242ms\tremaining: 1.09s\n",
      "181:\tlearn: 0.2299781\ttotal: 243ms\tremaining: 1.09s\n",
      "182:\tlearn: 0.2291822\ttotal: 244ms\tremaining: 1.09s\n",
      "183:\tlearn: 0.2284934\ttotal: 245ms\tremaining: 1.08s\n",
      "184:\tlearn: 0.2278183\ttotal: 246ms\tremaining: 1.08s\n",
      "185:\tlearn: 0.2273851\ttotal: 247ms\tremaining: 1.08s\n",
      "186:\tlearn: 0.2268737\ttotal: 248ms\tremaining: 1.08s\n",
      "187:\tlearn: 0.2265430\ttotal: 249ms\tremaining: 1.07s\n",
      "188:\tlearn: 0.2261842\ttotal: 250ms\tremaining: 1.07s\n",
      "189:\tlearn: 0.2253147\ttotal: 251ms\tremaining: 1.07s\n",
      "190:\tlearn: 0.2245714\ttotal: 252ms\tremaining: 1.07s\n",
      "191:\tlearn: 0.2243152\ttotal: 253ms\tremaining: 1.06s\n",
      "192:\tlearn: 0.2237006\ttotal: 254ms\tremaining: 1.06s\n",
      "193:\tlearn: 0.2231486\ttotal: 255ms\tremaining: 1.06s\n",
      "194:\tlearn: 0.2224645\ttotal: 256ms\tremaining: 1.06s\n",
      "195:\tlearn: 0.2222083\ttotal: 257ms\tremaining: 1.05s\n",
      "196:\tlearn: 0.2217144\ttotal: 258ms\tremaining: 1.05s\n",
      "197:\tlearn: 0.2212203\ttotal: 259ms\tremaining: 1.05s\n",
      "198:\tlearn: 0.2206224\ttotal: 260ms\tremaining: 1.05s\n",
      "199:\tlearn: 0.2200406\ttotal: 262ms\tremaining: 1.05s\n",
      "200:\tlearn: 0.2194570\ttotal: 263ms\tremaining: 1.04s\n",
      "201:\tlearn: 0.2190477\ttotal: 264ms\tremaining: 1.04s\n",
      "202:\tlearn: 0.2184796\ttotal: 265ms\tremaining: 1.04s\n",
      "203:\tlearn: 0.2177476\ttotal: 266ms\tremaining: 1.04s\n",
      "204:\tlearn: 0.2175269\ttotal: 267ms\tremaining: 1.03s\n",
      "205:\tlearn: 0.2170250\ttotal: 268ms\tremaining: 1.03s\n",
      "206:\tlearn: 0.2165816\ttotal: 269ms\tremaining: 1.03s\n",
      "207:\tlearn: 0.2162159\ttotal: 270ms\tremaining: 1.03s\n",
      "208:\tlearn: 0.2155079\ttotal: 271ms\tremaining: 1.02s\n",
      "209:\tlearn: 0.2151615\ttotal: 272ms\tremaining: 1.02s\n",
      "210:\tlearn: 0.2144975\ttotal: 273ms\tremaining: 1.02s\n",
      "211:\tlearn: 0.2138261\ttotal: 274ms\tremaining: 1.02s\n"
     ]
    },
    {
     "name": "stdout",
     "output_type": "stream",
     "text": [
      "212:\tlearn: 0.2130329\ttotal: 275ms\tremaining: 1.02s\n",
      "213:\tlearn: 0.2125137\ttotal: 276ms\tremaining: 1.01s\n",
      "214:\tlearn: 0.2121185\ttotal: 277ms\tremaining: 1.01s\n",
      "215:\tlearn: 0.2114855\ttotal: 279ms\tremaining: 1.01s\n",
      "216:\tlearn: 0.2110527\ttotal: 280ms\tremaining: 1.01s\n",
      "217:\tlearn: 0.2108072\ttotal: 281ms\tremaining: 1.01s\n",
      "218:\tlearn: 0.2105942\ttotal: 282ms\tremaining: 1s\n",
      "219:\tlearn: 0.2098891\ttotal: 283ms\tremaining: 1s\n",
      "220:\tlearn: 0.2093013\ttotal: 284ms\tremaining: 1s\n",
      "221:\tlearn: 0.2088400\ttotal: 285ms\tremaining: 999ms\n",
      "222:\tlearn: 0.2086713\ttotal: 286ms\tremaining: 997ms\n",
      "223:\tlearn: 0.2081317\ttotal: 287ms\tremaining: 995ms\n",
      "224:\tlearn: 0.2077415\ttotal: 288ms\tremaining: 993ms\n",
      "225:\tlearn: 0.2072743\ttotal: 289ms\tremaining: 991ms\n",
      "226:\tlearn: 0.2065347\ttotal: 290ms\tremaining: 989ms\n",
      "227:\tlearn: 0.2060415\ttotal: 292ms\tremaining: 987ms\n",
      "228:\tlearn: 0.2052588\ttotal: 293ms\tremaining: 986ms\n",
      "229:\tlearn: 0.2050604\ttotal: 294ms\tremaining: 984ms\n",
      "230:\tlearn: 0.2044311\ttotal: 295ms\tremaining: 982ms\n",
      "231:\tlearn: 0.2039014\ttotal: 296ms\tremaining: 980ms\n",
      "232:\tlearn: 0.2037121\ttotal: 297ms\tremaining: 978ms\n",
      "233:\tlearn: 0.2034060\ttotal: 298ms\tremaining: 976ms\n",
      "234:\tlearn: 0.2032798\ttotal: 299ms\tremaining: 974ms\n",
      "235:\tlearn: 0.2029845\ttotal: 300ms\tremaining: 973ms\n",
      "236:\tlearn: 0.2024060\ttotal: 301ms\tremaining: 970ms\n",
      "237:\tlearn: 0.2017773\ttotal: 302ms\tremaining: 968ms\n",
      "238:\tlearn: 0.2012782\ttotal: 303ms\tremaining: 966ms\n",
      "239:\tlearn: 0.2010844\ttotal: 304ms\tremaining: 964ms\n",
      "240:\tlearn: 0.2005465\ttotal: 306ms\tremaining: 962ms\n",
      "241:\tlearn: 0.2003707\ttotal: 306ms\tremaining: 960ms\n",
      "242:\tlearn: 0.1999460\ttotal: 308ms\tremaining: 958ms\n",
      "243:\tlearn: 0.1997454\ttotal: 309ms\tremaining: 956ms\n",
      "244:\tlearn: 0.1995861\ttotal: 310ms\tremaining: 954ms\n",
      "245:\tlearn: 0.1988723\ttotal: 311ms\tremaining: 952ms\n",
      "246:\tlearn: 0.1983913\ttotal: 312ms\tremaining: 950ms\n",
      "247:\tlearn: 0.1982260\ttotal: 313ms\tremaining: 948ms\n",
      "248:\tlearn: 0.1978817\ttotal: 314ms\tremaining: 946ms\n",
      "249:\tlearn: 0.1974085\ttotal: 315ms\tremaining: 944ms\n",
      "250:\tlearn: 0.1967164\ttotal: 316ms\tremaining: 943ms\n",
      "251:\tlearn: 0.1961716\ttotal: 317ms\tremaining: 941ms\n",
      "252:\tlearn: 0.1959940\ttotal: 318ms\tremaining: 940ms\n",
      "253:\tlearn: 0.1952995\ttotal: 319ms\tremaining: 938ms\n",
      "254:\tlearn: 0.1951408\ttotal: 320ms\tremaining: 936ms\n",
      "255:\tlearn: 0.1946774\ttotal: 322ms\tremaining: 935ms\n",
      "256:\tlearn: 0.1938808\ttotal: 323ms\tremaining: 933ms\n",
      "257:\tlearn: 0.1931906\ttotal: 324ms\tremaining: 931ms\n",
      "258:\tlearn: 0.1926343\ttotal: 325ms\tremaining: 929ms\n",
      "259:\tlearn: 0.1922326\ttotal: 326ms\tremaining: 927ms\n",
      "260:\tlearn: 0.1920251\ttotal: 327ms\tremaining: 926ms\n",
      "261:\tlearn: 0.1915354\ttotal: 328ms\tremaining: 924ms\n",
      "262:\tlearn: 0.1910958\ttotal: 329ms\tremaining: 922ms\n",
      "263:\tlearn: 0.1909155\ttotal: 330ms\tremaining: 920ms\n",
      "264:\tlearn: 0.1906483\ttotal: 331ms\tremaining: 918ms\n",
      "265:\tlearn: 0.1903099\ttotal: 332ms\tremaining: 916ms\n",
      "266:\tlearn: 0.1900122\ttotal: 333ms\tremaining: 914ms\n",
      "267:\tlearn: 0.1894022\ttotal: 334ms\tremaining: 913ms\n",
      "268:\tlearn: 0.1892444\ttotal: 335ms\tremaining: 911ms\n",
      "269:\tlearn: 0.1887303\ttotal: 336ms\tremaining: 909ms\n",
      "270:\tlearn: 0.1881014\ttotal: 337ms\tremaining: 907ms\n",
      "271:\tlearn: 0.1880211\ttotal: 339ms\tremaining: 908ms\n",
      "272:\tlearn: 0.1875334\ttotal: 340ms\tremaining: 906ms\n",
      "273:\tlearn: 0.1874719\ttotal: 341ms\tremaining: 904ms\n",
      "274:\tlearn: 0.1870293\ttotal: 342ms\tremaining: 902ms\n",
      "275:\tlearn: 0.1867688\ttotal: 343ms\tremaining: 901ms\n",
      "276:\tlearn: 0.1861989\ttotal: 344ms\tremaining: 899ms\n",
      "277:\tlearn: 0.1861413\ttotal: 345ms\tremaining: 897ms\n",
      "278:\tlearn: 0.1856662\ttotal: 346ms\tremaining: 895ms\n",
      "279:\tlearn: 0.1850918\ttotal: 348ms\tremaining: 894ms\n",
      "280:\tlearn: 0.1850348\ttotal: 349ms\tremaining: 892ms\n",
      "281:\tlearn: 0.1845477\ttotal: 349ms\tremaining: 890ms\n",
      "282:\tlearn: 0.1841013\ttotal: 350ms\tremaining: 888ms\n",
      "283:\tlearn: 0.1836825\ttotal: 352ms\tremaining: 887ms\n",
      "284:\tlearn: 0.1830861\ttotal: 353ms\tremaining: 885ms\n",
      "285:\tlearn: 0.1827415\ttotal: 354ms\tremaining: 883ms\n",
      "286:\tlearn: 0.1822769\ttotal: 355ms\tremaining: 881ms\n",
      "287:\tlearn: 0.1819895\ttotal: 356ms\tremaining: 879ms\n",
      "288:\tlearn: 0.1814632\ttotal: 357ms\tremaining: 878ms\n",
      "289:\tlearn: 0.1809571\ttotal: 358ms\tremaining: 876ms\n",
      "290:\tlearn: 0.1805232\ttotal: 359ms\tremaining: 874ms\n",
      "291:\tlearn: 0.1800274\ttotal: 360ms\tremaining: 873ms\n",
      "292:\tlearn: 0.1798292\ttotal: 361ms\tremaining: 871ms\n",
      "293:\tlearn: 0.1795032\ttotal: 362ms\tremaining: 869ms\n",
      "294:\tlearn: 0.1791852\ttotal: 363ms\tremaining: 867ms\n",
      "295:\tlearn: 0.1788026\ttotal: 364ms\tremaining: 866ms\n",
      "296:\tlearn: 0.1783708\ttotal: 365ms\tremaining: 864ms\n",
      "297:\tlearn: 0.1780985\ttotal: 366ms\tremaining: 862ms\n",
      "298:\tlearn: 0.1779889\ttotal: 367ms\tremaining: 860ms\n",
      "299:\tlearn: 0.1774512\ttotal: 368ms\tremaining: 859ms\n",
      "300:\tlearn: 0.1773617\ttotal: 369ms\tremaining: 857ms\n",
      "301:\tlearn: 0.1773068\ttotal: 370ms\tremaining: 855ms\n",
      "302:\tlearn: 0.1767451\ttotal: 371ms\tremaining: 854ms\n",
      "303:\tlearn: 0.1764095\ttotal: 373ms\tremaining: 853ms\n",
      "304:\tlearn: 0.1759931\ttotal: 374ms\tremaining: 851ms\n",
      "305:\tlearn: 0.1755943\ttotal: 375ms\tremaining: 850ms\n",
      "306:\tlearn: 0.1750781\ttotal: 376ms\tremaining: 848ms\n",
      "307:\tlearn: 0.1747307\ttotal: 377ms\tremaining: 847ms\n",
      "308:\tlearn: 0.1743213\ttotal: 378ms\tremaining: 845ms\n",
      "309:\tlearn: 0.1742637\ttotal: 379ms\tremaining: 843ms\n",
      "310:\tlearn: 0.1742093\ttotal: 380ms\tremaining: 842ms\n",
      "311:\tlearn: 0.1735836\ttotal: 381ms\tremaining: 840ms\n",
      "312:\tlearn: 0.1733109\ttotal: 382ms\tremaining: 838ms\n",
      "313:\tlearn: 0.1731047\ttotal: 383ms\tremaining: 837ms\n",
      "314:\tlearn: 0.1729213\ttotal: 384ms\tremaining: 835ms\n",
      "315:\tlearn: 0.1725650\ttotal: 385ms\tremaining: 834ms\n",
      "316:\tlearn: 0.1721305\ttotal: 386ms\tremaining: 832ms\n",
      "317:\tlearn: 0.1717500\ttotal: 387ms\tremaining: 831ms\n",
      "318:\tlearn: 0.1713480\ttotal: 389ms\tremaining: 830ms\n",
      "319:\tlearn: 0.1709273\ttotal: 390ms\tremaining: 828ms\n",
      "320:\tlearn: 0.1704124\ttotal: 391ms\tremaining: 827ms\n",
      "321:\tlearn: 0.1700534\ttotal: 392ms\tremaining: 825ms\n",
      "322:\tlearn: 0.1694594\ttotal: 393ms\tremaining: 824ms\n",
      "323:\tlearn: 0.1692732\ttotal: 394ms\tremaining: 822ms\n",
      "324:\tlearn: 0.1689268\ttotal: 395ms\tremaining: 820ms\n",
      "325:\tlearn: 0.1688711\ttotal: 396ms\tremaining: 819ms\n",
      "326:\tlearn: 0.1684251\ttotal: 397ms\tremaining: 818ms\n",
      "327:\tlearn: 0.1679288\ttotal: 398ms\tremaining: 816ms\n",
      "328:\tlearn: 0.1674213\ttotal: 399ms\tremaining: 815ms\n",
      "329:\tlearn: 0.1670475\ttotal: 401ms\tremaining: 813ms\n",
      "330:\tlearn: 0.1668252\ttotal: 402ms\tremaining: 812ms\n"
     ]
    },
    {
     "name": "stdout",
     "output_type": "stream",
     "text": [
      "331:\tlearn: 0.1667362\ttotal: 403ms\tremaining: 811ms\n",
      "332:\tlearn: 0.1666562\ttotal: 404ms\tremaining: 810ms\n",
      "333:\tlearn: 0.1663504\ttotal: 406ms\tremaining: 809ms\n",
      "334:\tlearn: 0.1659918\ttotal: 407ms\tremaining: 807ms\n",
      "335:\tlearn: 0.1658111\ttotal: 408ms\tremaining: 806ms\n",
      "336:\tlearn: 0.1657514\ttotal: 409ms\tremaining: 804ms\n",
      "337:\tlearn: 0.1653854\ttotal: 410ms\tremaining: 803ms\n",
      "338:\tlearn: 0.1650763\ttotal: 411ms\tremaining: 801ms\n",
      "339:\tlearn: 0.1646804\ttotal: 412ms\tremaining: 800ms\n",
      "340:\tlearn: 0.1641215\ttotal: 413ms\tremaining: 798ms\n",
      "341:\tlearn: 0.1636551\ttotal: 414ms\tremaining: 797ms\n",
      "342:\tlearn: 0.1632462\ttotal: 415ms\tremaining: 795ms\n",
      "343:\tlearn: 0.1627497\ttotal: 416ms\tremaining: 794ms\n",
      "344:\tlearn: 0.1623330\ttotal: 417ms\tremaining: 792ms\n",
      "345:\tlearn: 0.1619286\ttotal: 418ms\tremaining: 790ms\n",
      "346:\tlearn: 0.1618824\ttotal: 419ms\tremaining: 789ms\n",
      "347:\tlearn: 0.1618377\ttotal: 420ms\tremaining: 787ms\n",
      "348:\tlearn: 0.1617548\ttotal: 421ms\tremaining: 786ms\n",
      "349:\tlearn: 0.1616612\ttotal: 422ms\tremaining: 784ms\n",
      "350:\tlearn: 0.1613336\ttotal: 423ms\tremaining: 783ms\n",
      "351:\tlearn: 0.1609837\ttotal: 424ms\tremaining: 781ms\n",
      "352:\tlearn: 0.1606409\ttotal: 425ms\tremaining: 780ms\n",
      "353:\tlearn: 0.1602499\ttotal: 426ms\tremaining: 778ms\n",
      "354:\tlearn: 0.1598263\ttotal: 428ms\tremaining: 777ms\n",
      "355:\tlearn: 0.1595035\ttotal: 429ms\tremaining: 775ms\n",
      "356:\tlearn: 0.1592129\ttotal: 430ms\tremaining: 774ms\n",
      "357:\tlearn: 0.1588531\ttotal: 431ms\tremaining: 772ms\n",
      "358:\tlearn: 0.1585555\ttotal: 432ms\tremaining: 771ms\n",
      "359:\tlearn: 0.1582805\ttotal: 433ms\tremaining: 769ms\n",
      "360:\tlearn: 0.1579580\ttotal: 434ms\tremaining: 767ms\n",
      "361:\tlearn: 0.1576480\ttotal: 434ms\tremaining: 766ms\n",
      "362:\tlearn: 0.1571801\ttotal: 436ms\tremaining: 764ms\n",
      "363:\tlearn: 0.1568803\ttotal: 437ms\tremaining: 763ms\n",
      "364:\tlearn: 0.1568210\ttotal: 438ms\tremaining: 761ms\n",
      "365:\tlearn: 0.1567747\ttotal: 439ms\tremaining: 760ms\n",
      "366:\tlearn: 0.1564465\ttotal: 440ms\tremaining: 758ms\n",
      "367:\tlearn: 0.1564028\ttotal: 441ms\tremaining: 757ms\n",
      "368:\tlearn: 0.1563531\ttotal: 442ms\tremaining: 755ms\n",
      "369:\tlearn: 0.1562625\ttotal: 443ms\tremaining: 754ms\n",
      "370:\tlearn: 0.1559302\ttotal: 444ms\tremaining: 752ms\n",
      "371:\tlearn: 0.1554674\ttotal: 445ms\tremaining: 751ms\n",
      "372:\tlearn: 0.1551277\ttotal: 446ms\tremaining: 749ms\n",
      "373:\tlearn: 0.1550854\ttotal: 447ms\tremaining: 748ms\n",
      "374:\tlearn: 0.1547769\ttotal: 448ms\tremaining: 746ms\n",
      "375:\tlearn: 0.1542686\ttotal: 449ms\tremaining: 745ms\n",
      "376:\tlearn: 0.1538590\ttotal: 450ms\tremaining: 743ms\n",
      "377:\tlearn: 0.1534428\ttotal: 451ms\tremaining: 742ms\n",
      "378:\tlearn: 0.1532948\ttotal: 452ms\tremaining: 740ms\n",
      "379:\tlearn: 0.1528508\ttotal: 453ms\tremaining: 739ms\n",
      "380:\tlearn: 0.1524925\ttotal: 454ms\tremaining: 738ms\n",
      "381:\tlearn: 0.1524390\ttotal: 455ms\tremaining: 736ms\n",
      "382:\tlearn: 0.1520986\ttotal: 456ms\tremaining: 735ms\n",
      "383:\tlearn: 0.1519441\ttotal: 457ms\tremaining: 733ms\n",
      "384:\tlearn: 0.1515497\ttotal: 458ms\tremaining: 732ms\n",
      "385:\tlearn: 0.1512508\ttotal: 459ms\tremaining: 730ms\n",
      "386:\tlearn: 0.1509951\ttotal: 460ms\tremaining: 729ms\n",
      "387:\tlearn: 0.1505693\ttotal: 461ms\tremaining: 727ms\n",
      "388:\tlearn: 0.1502229\ttotal: 462ms\tremaining: 726ms\n",
      "389:\tlearn: 0.1497902\ttotal: 463ms\tremaining: 725ms\n",
      "390:\tlearn: 0.1495097\ttotal: 464ms\tremaining: 723ms\n",
      "391:\tlearn: 0.1492727\ttotal: 465ms\tremaining: 721ms\n",
      "392:\tlearn: 0.1489791\ttotal: 466ms\tremaining: 720ms\n",
      "393:\tlearn: 0.1486714\ttotal: 467ms\tremaining: 718ms\n",
      "394:\tlearn: 0.1483999\ttotal: 468ms\tremaining: 717ms\n",
      "395:\tlearn: 0.1483452\ttotal: 469ms\tremaining: 716ms\n",
      "396:\tlearn: 0.1480923\ttotal: 470ms\tremaining: 714ms\n",
      "397:\tlearn: 0.1477429\ttotal: 471ms\tremaining: 713ms\n",
      "398:\tlearn: 0.1473634\ttotal: 472ms\tremaining: 711ms\n",
      "399:\tlearn: 0.1472576\ttotal: 473ms\tremaining: 710ms\n",
      "400:\tlearn: 0.1468776\ttotal: 474ms\tremaining: 709ms\n",
      "401:\tlearn: 0.1468307\ttotal: 475ms\tremaining: 707ms\n",
      "402:\tlearn: 0.1464370\ttotal: 476ms\tremaining: 706ms\n",
      "403:\tlearn: 0.1464069\ttotal: 478ms\tremaining: 704ms\n",
      "404:\tlearn: 0.1459432\ttotal: 479ms\tremaining: 703ms\n",
      "405:\tlearn: 0.1456067\ttotal: 480ms\tremaining: 702ms\n",
      "406:\tlearn: 0.1452651\ttotal: 481ms\tremaining: 700ms\n",
      "407:\tlearn: 0.1448363\ttotal: 482ms\tremaining: 699ms\n",
      "408:\tlearn: 0.1447155\ttotal: 483ms\tremaining: 697ms\n",
      "409:\tlearn: 0.1446029\ttotal: 484ms\tremaining: 696ms\n",
      "410:\tlearn: 0.1442552\ttotal: 485ms\tremaining: 694ms\n",
      "411:\tlearn: 0.1440515\ttotal: 486ms\tremaining: 693ms\n",
      "412:\tlearn: 0.1440216\ttotal: 487ms\tremaining: 692ms\n",
      "413:\tlearn: 0.1436563\ttotal: 487ms\tremaining: 690ms\n",
      "414:\tlearn: 0.1433538\ttotal: 488ms\tremaining: 688ms\n",
      "415:\tlearn: 0.1430656\ttotal: 489ms\tremaining: 687ms\n",
      "416:\tlearn: 0.1430381\ttotal: 490ms\tremaining: 686ms\n",
      "417:\tlearn: 0.1426390\ttotal: 491ms\tremaining: 684ms\n",
      "418:\tlearn: 0.1422673\ttotal: 492ms\tremaining: 683ms\n",
      "419:\tlearn: 0.1421409\ttotal: 493ms\tremaining: 681ms\n",
      "420:\tlearn: 0.1417737\ttotal: 494ms\tremaining: 680ms\n",
      "421:\tlearn: 0.1417275\ttotal: 495ms\tremaining: 679ms\n",
      "422:\tlearn: 0.1414185\ttotal: 497ms\tremaining: 677ms\n",
      "423:\tlearn: 0.1411652\ttotal: 498ms\tremaining: 676ms\n",
      "424:\tlearn: 0.1408315\ttotal: 499ms\tremaining: 674ms\n",
      "425:\tlearn: 0.1405406\ttotal: 500ms\tremaining: 673ms\n",
      "426:\tlearn: 0.1402266\ttotal: 501ms\tremaining: 672ms\n",
      "427:\tlearn: 0.1401771\ttotal: 502ms\tremaining: 670ms\n",
      "428:\tlearn: 0.1399294\ttotal: 503ms\tremaining: 669ms\n",
      "429:\tlearn: 0.1397651\ttotal: 504ms\tremaining: 668ms\n",
      "430:\tlearn: 0.1394476\ttotal: 505ms\tremaining: 666ms\n",
      "431:\tlearn: 0.1391086\ttotal: 506ms\tremaining: 665ms\n",
      "432:\tlearn: 0.1390793\ttotal: 507ms\tremaining: 664ms\n",
      "433:\tlearn: 0.1388337\ttotal: 508ms\tremaining: 662ms\n",
      "434:\tlearn: 0.1386652\ttotal: 509ms\tremaining: 661ms\n",
      "435:\tlearn: 0.1382548\ttotal: 510ms\tremaining: 659ms\n",
      "436:\tlearn: 0.1381886\ttotal: 511ms\tremaining: 658ms\n",
      "437:\tlearn: 0.1379611\ttotal: 512ms\tremaining: 657ms\n",
      "438:\tlearn: 0.1377992\ttotal: 513ms\tremaining: 655ms\n",
      "439:\tlearn: 0.1373318\ttotal: 514ms\tremaining: 654ms\n",
      "440:\tlearn: 0.1373013\ttotal: 515ms\tremaining: 653ms\n",
      "441:\tlearn: 0.1370903\ttotal: 516ms\tremaining: 651ms\n",
      "442:\tlearn: 0.1367567\ttotal: 517ms\tremaining: 650ms\n",
      "443:\tlearn: 0.1362640\ttotal: 518ms\tremaining: 649ms\n",
      "444:\tlearn: 0.1362124\ttotal: 519ms\tremaining: 647ms\n",
      "445:\tlearn: 0.1360516\ttotal: 520ms\tremaining: 646ms\n",
      "446:\tlearn: 0.1356896\ttotal: 521ms\tremaining: 645ms\n",
      "447:\tlearn: 0.1354821\ttotal: 522ms\tremaining: 643ms\n",
      "448:\tlearn: 0.1354059\ttotal: 523ms\tremaining: 642ms\n",
      "449:\tlearn: 0.1350331\ttotal: 524ms\tremaining: 641ms\n",
      "450:\tlearn: 0.1347303\ttotal: 525ms\tremaining: 640ms\n",
      "451:\tlearn: 0.1345808\ttotal: 527ms\tremaining: 639ms\n",
      "452:\tlearn: 0.1341412\ttotal: 528ms\tremaining: 637ms\n",
      "453:\tlearn: 0.1337122\ttotal: 529ms\tremaining: 636ms\n",
      "454:\tlearn: 0.1335514\ttotal: 530ms\tremaining: 635ms\n",
      "455:\tlearn: 0.1332138\ttotal: 531ms\tremaining: 633ms\n"
     ]
    },
    {
     "name": "stdout",
     "output_type": "stream",
     "text": [
      "456:\tlearn: 0.1329288\ttotal: 532ms\tremaining: 632ms\n",
      "457:\tlearn: 0.1326086\ttotal: 533ms\tremaining: 631ms\n",
      "458:\tlearn: 0.1323681\ttotal: 534ms\tremaining: 630ms\n",
      "459:\tlearn: 0.1321209\ttotal: 535ms\tremaining: 629ms\n",
      "460:\tlearn: 0.1320722\ttotal: 536ms\tremaining: 627ms\n",
      "461:\tlearn: 0.1318809\ttotal: 537ms\tremaining: 626ms\n",
      "462:\tlearn: 0.1316011\ttotal: 538ms\tremaining: 624ms\n",
      "463:\tlearn: 0.1313341\ttotal: 539ms\tremaining: 623ms\n",
      "464:\tlearn: 0.1309406\ttotal: 540ms\tremaining: 621ms\n",
      "465:\tlearn: 0.1306747\ttotal: 541ms\tremaining: 620ms\n",
      "466:\tlearn: 0.1306437\ttotal: 542ms\tremaining: 619ms\n",
      "467:\tlearn: 0.1305328\ttotal: 543ms\tremaining: 618ms\n",
      "468:\tlearn: 0.1302037\ttotal: 544ms\tremaining: 616ms\n",
      "469:\tlearn: 0.1299433\ttotal: 545ms\tremaining: 615ms\n",
      "470:\tlearn: 0.1296993\ttotal: 546ms\tremaining: 614ms\n",
      "471:\tlearn: 0.1293585\ttotal: 547ms\tremaining: 612ms\n",
      "472:\tlearn: 0.1292028\ttotal: 548ms\tremaining: 611ms\n",
      "473:\tlearn: 0.1288807\ttotal: 549ms\tremaining: 610ms\n",
      "474:\tlearn: 0.1286170\ttotal: 550ms\tremaining: 608ms\n",
      "475:\tlearn: 0.1283798\ttotal: 551ms\tremaining: 607ms\n",
      "476:\tlearn: 0.1281727\ttotal: 552ms\tremaining: 606ms\n",
      "477:\tlearn: 0.1280083\ttotal: 553ms\tremaining: 604ms\n",
      "478:\tlearn: 0.1277948\ttotal: 554ms\tremaining: 603ms\n",
      "479:\tlearn: 0.1275144\ttotal: 555ms\tremaining: 602ms\n",
      "480:\tlearn: 0.1274030\ttotal: 558ms\tremaining: 602ms\n",
      "481:\tlearn: 0.1271095\ttotal: 559ms\tremaining: 601ms\n",
      "482:\tlearn: 0.1268406\ttotal: 560ms\tremaining: 599ms\n",
      "483:\tlearn: 0.1264910\ttotal: 561ms\tremaining: 598ms\n",
      "484:\tlearn: 0.1263361\ttotal: 562ms\tremaining: 597ms\n",
      "485:\tlearn: 0.1259765\ttotal: 563ms\tremaining: 596ms\n",
      "486:\tlearn: 0.1257749\ttotal: 565ms\tremaining: 595ms\n",
      "487:\tlearn: 0.1255678\ttotal: 566ms\tremaining: 594ms\n",
      "488:\tlearn: 0.1254293\ttotal: 567ms\tremaining: 593ms\n",
      "489:\tlearn: 0.1252074\ttotal: 568ms\tremaining: 592ms\n",
      "490:\tlearn: 0.1248724\ttotal: 570ms\tremaining: 590ms\n",
      "491:\tlearn: 0.1245598\ttotal: 571ms\tremaining: 589ms\n",
      "492:\tlearn: 0.1243586\ttotal: 572ms\tremaining: 588ms\n",
      "493:\tlearn: 0.1240790\ttotal: 573ms\tremaining: 587ms\n",
      "494:\tlearn: 0.1237561\ttotal: 574ms\tremaining: 585ms\n",
      "495:\tlearn: 0.1234477\ttotal: 575ms\tremaining: 584ms\n",
      "496:\tlearn: 0.1233034\ttotal: 576ms\tremaining: 583ms\n",
      "497:\tlearn: 0.1231938\ttotal: 577ms\tremaining: 582ms\n",
      "498:\tlearn: 0.1229652\ttotal: 578ms\tremaining: 580ms\n",
      "499:\tlearn: 0.1227409\ttotal: 579ms\tremaining: 579ms\n",
      "500:\tlearn: 0.1224560\ttotal: 580ms\tremaining: 578ms\n",
      "501:\tlearn: 0.1221957\ttotal: 581ms\tremaining: 577ms\n",
      "502:\tlearn: 0.1220060\ttotal: 582ms\tremaining: 575ms\n",
      "503:\tlearn: 0.1216771\ttotal: 583ms\tremaining: 574ms\n",
      "504:\tlearn: 0.1214353\ttotal: 585ms\tremaining: 573ms\n",
      "505:\tlearn: 0.1212536\ttotal: 586ms\tremaining: 572ms\n",
      "506:\tlearn: 0.1209270\ttotal: 587ms\tremaining: 570ms\n",
      "507:\tlearn: 0.1207154\ttotal: 588ms\tremaining: 569ms\n",
      "508:\tlearn: 0.1205201\ttotal: 589ms\tremaining: 568ms\n",
      "509:\tlearn: 0.1203836\ttotal: 590ms\tremaining: 567ms\n",
      "510:\tlearn: 0.1200473\ttotal: 591ms\tremaining: 565ms\n",
      "511:\tlearn: 0.1197464\ttotal: 592ms\tremaining: 564ms\n",
      "512:\tlearn: 0.1196074\ttotal: 593ms\tremaining: 563ms\n",
      "513:\tlearn: 0.1194420\ttotal: 594ms\tremaining: 562ms\n",
      "514:\tlearn: 0.1192363\ttotal: 595ms\tremaining: 560ms\n",
      "515:\tlearn: 0.1191214\ttotal: 596ms\tremaining: 559ms\n",
      "516:\tlearn: 0.1189179\ttotal: 597ms\tremaining: 558ms\n",
      "517:\tlearn: 0.1186895\ttotal: 598ms\tremaining: 557ms\n",
      "518:\tlearn: 0.1184680\ttotal: 599ms\tremaining: 555ms\n",
      "519:\tlearn: 0.1183305\ttotal: 600ms\tremaining: 554ms\n",
      "520:\tlearn: 0.1180643\ttotal: 601ms\tremaining: 553ms\n",
      "521:\tlearn: 0.1179683\ttotal: 602ms\tremaining: 551ms\n",
      "522:\tlearn: 0.1179144\ttotal: 603ms\tremaining: 550ms\n",
      "523:\tlearn: 0.1177998\ttotal: 604ms\tremaining: 549ms\n",
      "524:\tlearn: 0.1174796\ttotal: 605ms\tremaining: 548ms\n",
      "525:\tlearn: 0.1173800\ttotal: 607ms\tremaining: 547ms\n",
      "526:\tlearn: 0.1172142\ttotal: 608ms\tremaining: 545ms\n",
      "527:\tlearn: 0.1171247\ttotal: 609ms\tremaining: 544ms\n",
      "528:\tlearn: 0.1169330\ttotal: 610ms\tremaining: 543ms\n",
      "529:\tlearn: 0.1167219\ttotal: 611ms\tremaining: 542ms\n",
      "530:\tlearn: 0.1165634\ttotal: 612ms\tremaining: 541ms\n",
      "531:\tlearn: 0.1163123\ttotal: 613ms\tremaining: 540ms\n",
      "532:\tlearn: 0.1161394\ttotal: 614ms\tremaining: 538ms\n",
      "533:\tlearn: 0.1158056\ttotal: 615ms\tremaining: 537ms\n",
      "534:\tlearn: 0.1155886\ttotal: 616ms\tremaining: 536ms\n",
      "535:\tlearn: 0.1154520\ttotal: 617ms\tremaining: 534ms\n",
      "536:\tlearn: 0.1152402\ttotal: 618ms\tremaining: 533ms\n",
      "537:\tlearn: 0.1151217\ttotal: 619ms\tremaining: 532ms\n",
      "538:\tlearn: 0.1149709\ttotal: 620ms\tremaining: 531ms\n",
      "539:\tlearn: 0.1147685\ttotal: 621ms\tremaining: 529ms\n",
      "540:\tlearn: 0.1144752\ttotal: 622ms\tremaining: 528ms\n",
      "541:\tlearn: 0.1143591\ttotal: 624ms\tremaining: 527ms\n",
      "542:\tlearn: 0.1142962\ttotal: 625ms\tremaining: 526ms\n",
      "543:\tlearn: 0.1140887\ttotal: 626ms\tremaining: 525ms\n",
      "544:\tlearn: 0.1138670\ttotal: 627ms\tremaining: 523ms\n",
      "545:\tlearn: 0.1136045\ttotal: 628ms\tremaining: 522ms\n",
      "546:\tlearn: 0.1134870\ttotal: 629ms\tremaining: 521ms\n",
      "547:\tlearn: 0.1132041\ttotal: 630ms\tremaining: 520ms\n",
      "548:\tlearn: 0.1129067\ttotal: 631ms\tremaining: 518ms\n",
      "549:\tlearn: 0.1128477\ttotal: 632ms\tremaining: 517ms\n",
      "550:\tlearn: 0.1125971\ttotal: 633ms\tremaining: 516ms\n",
      "551:\tlearn: 0.1124391\ttotal: 634ms\tremaining: 515ms\n",
      "552:\tlearn: 0.1121635\ttotal: 635ms\tremaining: 513ms\n",
      "553:\tlearn: 0.1119908\ttotal: 636ms\tremaining: 512ms\n",
      "554:\tlearn: 0.1117058\ttotal: 637ms\tremaining: 511ms\n",
      "555:\tlearn: 0.1114803\ttotal: 638ms\tremaining: 510ms\n",
      "556:\tlearn: 0.1112627\ttotal: 640ms\tremaining: 509ms\n",
      "557:\tlearn: 0.1109924\ttotal: 641ms\tremaining: 507ms\n",
      "558:\tlearn: 0.1106999\ttotal: 642ms\tremaining: 506ms\n",
      "559:\tlearn: 0.1106071\ttotal: 643ms\tremaining: 505ms\n",
      "560:\tlearn: 0.1103045\ttotal: 644ms\tremaining: 504ms\n",
      "561:\tlearn: 0.1101154\ttotal: 645ms\tremaining: 502ms\n",
      "562:\tlearn: 0.1099136\ttotal: 646ms\tremaining: 501ms\n",
      "563:\tlearn: 0.1096477\ttotal: 647ms\tremaining: 500ms\n",
      "564:\tlearn: 0.1094987\ttotal: 648ms\tremaining: 499ms\n",
      "565:\tlearn: 0.1093957\ttotal: 649ms\tremaining: 498ms\n",
      "566:\tlearn: 0.1091210\ttotal: 650ms\tremaining: 496ms\n",
      "567:\tlearn: 0.1090951\ttotal: 651ms\tremaining: 495ms\n",
      "568:\tlearn: 0.1089494\ttotal: 652ms\tremaining: 494ms\n",
      "569:\tlearn: 0.1087488\ttotal: 653ms\tremaining: 493ms\n",
      "570:\tlearn: 0.1085718\ttotal: 654ms\tremaining: 492ms\n",
      "571:\tlearn: 0.1084471\ttotal: 655ms\tremaining: 490ms\n",
      "572:\tlearn: 0.1082932\ttotal: 656ms\tremaining: 489ms\n",
      "573:\tlearn: 0.1082225\ttotal: 658ms\tremaining: 488ms\n",
      "574:\tlearn: 0.1081612\ttotal: 659ms\tremaining: 487ms\n",
      "575:\tlearn: 0.1080351\ttotal: 660ms\tremaining: 486ms\n",
      "576:\tlearn: 0.1078220\ttotal: 661ms\tremaining: 484ms\n",
      "577:\tlearn: 0.1076343\ttotal: 662ms\tremaining: 483ms\n",
      "578:\tlearn: 0.1074986\ttotal: 663ms\tremaining: 482ms\n",
      "579:\tlearn: 0.1073589\ttotal: 664ms\tremaining: 481ms\n",
      "580:\tlearn: 0.1072274\ttotal: 665ms\tremaining: 479ms\n",
      "581:\tlearn: 0.1071218\ttotal: 666ms\tremaining: 478ms\n",
      "582:\tlearn: 0.1070029\ttotal: 667ms\tremaining: 477ms\n"
     ]
    },
    {
     "name": "stdout",
     "output_type": "stream",
     "text": [
      "583:\tlearn: 0.1068999\ttotal: 669ms\tremaining: 476ms\n",
      "584:\tlearn: 0.1066393\ttotal: 670ms\tremaining: 476ms\n",
      "585:\tlearn: 0.1065356\ttotal: 671ms\tremaining: 474ms\n",
      "586:\tlearn: 0.1064975\ttotal: 673ms\tremaining: 473ms\n",
      "587:\tlearn: 0.1063061\ttotal: 674ms\tremaining: 472ms\n",
      "588:\tlearn: 0.1060822\ttotal: 675ms\tremaining: 471ms\n",
      "589:\tlearn: 0.1059671\ttotal: 676ms\tremaining: 470ms\n",
      "590:\tlearn: 0.1056427\ttotal: 677ms\tremaining: 468ms\n",
      "591:\tlearn: 0.1053571\ttotal: 678ms\tremaining: 467ms\n",
      "592:\tlearn: 0.1053423\ttotal: 679ms\tremaining: 466ms\n",
      "593:\tlearn: 0.1050864\ttotal: 680ms\tremaining: 465ms\n",
      "594:\tlearn: 0.1049988\ttotal: 681ms\tremaining: 464ms\n",
      "595:\tlearn: 0.1047545\ttotal: 683ms\tremaining: 463ms\n",
      "596:\tlearn: 0.1045474\ttotal: 684ms\tremaining: 461ms\n",
      "597:\tlearn: 0.1045229\ttotal: 685ms\tremaining: 460ms\n",
      "598:\tlearn: 0.1043167\ttotal: 686ms\tremaining: 459ms\n",
      "599:\tlearn: 0.1042082\ttotal: 687ms\tremaining: 458ms\n",
      "600:\tlearn: 0.1040283\ttotal: 688ms\tremaining: 457ms\n",
      "601:\tlearn: 0.1038841\ttotal: 689ms\tremaining: 456ms\n",
      "602:\tlearn: 0.1036228\ttotal: 690ms\tremaining: 454ms\n",
      "603:\tlearn: 0.1034440\ttotal: 691ms\tremaining: 453ms\n",
      "604:\tlearn: 0.1032794\ttotal: 692ms\tremaining: 452ms\n",
      "605:\tlearn: 0.1031393\ttotal: 693ms\tremaining: 451ms\n",
      "606:\tlearn: 0.1028418\ttotal: 694ms\tremaining: 450ms\n",
      "607:\tlearn: 0.1026622\ttotal: 695ms\tremaining: 448ms\n",
      "608:\tlearn: 0.1025498\ttotal: 696ms\tremaining: 447ms\n",
      "609:\tlearn: 0.1023218\ttotal: 698ms\tremaining: 446ms\n",
      "610:\tlearn: 0.1020765\ttotal: 699ms\tremaining: 445ms\n",
      "611:\tlearn: 0.1017574\ttotal: 700ms\tremaining: 444ms\n",
      "612:\tlearn: 0.1015782\ttotal: 701ms\tremaining: 442ms\n",
      "613:\tlearn: 0.1013189\ttotal: 702ms\tremaining: 441ms\n",
      "614:\tlearn: 0.1010463\ttotal: 703ms\tremaining: 440ms\n",
      "615:\tlearn: 0.1008941\ttotal: 704ms\tremaining: 439ms\n",
      "616:\tlearn: 0.1007716\ttotal: 705ms\tremaining: 438ms\n",
      "617:\tlearn: 0.1007200\ttotal: 706ms\tremaining: 436ms\n",
      "618:\tlearn: 0.1004704\ttotal: 707ms\tremaining: 435ms\n",
      "619:\tlearn: 0.1003080\ttotal: 708ms\tremaining: 434ms\n",
      "620:\tlearn: 0.1001119\ttotal: 709ms\tremaining: 433ms\n",
      "621:\tlearn: 0.0998605\ttotal: 710ms\tremaining: 432ms\n",
      "622:\tlearn: 0.0996041\ttotal: 711ms\tremaining: 430ms\n",
      "623:\tlearn: 0.0993932\ttotal: 712ms\tremaining: 429ms\n",
      "624:\tlearn: 0.0992994\ttotal: 713ms\tremaining: 428ms\n",
      "625:\tlearn: 0.0991116\ttotal: 714ms\tremaining: 427ms\n",
      "626:\tlearn: 0.0989855\ttotal: 715ms\tremaining: 425ms\n",
      "627:\tlearn: 0.0988188\ttotal: 716ms\tremaining: 424ms\n",
      "628:\tlearn: 0.0986115\ttotal: 717ms\tremaining: 423ms\n",
      "629:\tlearn: 0.0985203\ttotal: 719ms\tremaining: 422ms\n",
      "630:\tlearn: 0.0983376\ttotal: 720ms\tremaining: 421ms\n",
      "631:\tlearn: 0.0981375\ttotal: 721ms\tremaining: 420ms\n",
      "632:\tlearn: 0.0980231\ttotal: 722ms\tremaining: 418ms\n",
      "633:\tlearn: 0.0978003\ttotal: 723ms\tremaining: 417ms\n",
      "634:\tlearn: 0.0976222\ttotal: 724ms\tremaining: 416ms\n",
      "635:\tlearn: 0.0972915\ttotal: 725ms\tremaining: 415ms\n",
      "636:\tlearn: 0.0971689\ttotal: 726ms\tremaining: 414ms\n",
      "637:\tlearn: 0.0970624\ttotal: 727ms\tremaining: 412ms\n",
      "638:\tlearn: 0.0968918\ttotal: 728ms\tremaining: 411ms\n",
      "639:\tlearn: 0.0967425\ttotal: 729ms\tremaining: 410ms\n",
      "640:\tlearn: 0.0965798\ttotal: 730ms\tremaining: 409ms\n",
      "641:\tlearn: 0.0964114\ttotal: 731ms\tremaining: 408ms\n",
      "642:\tlearn: 0.0961246\ttotal: 733ms\tremaining: 407ms\n",
      "643:\tlearn: 0.0958936\ttotal: 734ms\tremaining: 406ms\n",
      "644:\tlearn: 0.0957676\ttotal: 735ms\tremaining: 404ms\n",
      "645:\tlearn: 0.0956075\ttotal: 736ms\tremaining: 403ms\n",
      "646:\tlearn: 0.0955278\ttotal: 737ms\tremaining: 402ms\n",
      "647:\tlearn: 0.0953009\ttotal: 738ms\tremaining: 401ms\n",
      "648:\tlearn: 0.0952160\ttotal: 739ms\tremaining: 400ms\n",
      "649:\tlearn: 0.0950821\ttotal: 740ms\tremaining: 399ms\n",
      "650:\tlearn: 0.0949238\ttotal: 741ms\tremaining: 397ms\n",
      "651:\tlearn: 0.0948316\ttotal: 743ms\tremaining: 396ms\n",
      "652:\tlearn: 0.0946293\ttotal: 744ms\tremaining: 395ms\n",
      "653:\tlearn: 0.0945303\ttotal: 745ms\tremaining: 394ms\n",
      "654:\tlearn: 0.0944724\ttotal: 746ms\tremaining: 393ms\n",
      "655:\tlearn: 0.0942780\ttotal: 747ms\tremaining: 392ms\n",
      "656:\tlearn: 0.0942390\ttotal: 748ms\tremaining: 391ms\n",
      "657:\tlearn: 0.0941170\ttotal: 749ms\tremaining: 390ms\n",
      "658:\tlearn: 0.0939959\ttotal: 751ms\tremaining: 388ms\n",
      "659:\tlearn: 0.0938871\ttotal: 752ms\tremaining: 387ms\n",
      "660:\tlearn: 0.0936905\ttotal: 753ms\tremaining: 386ms\n",
      "661:\tlearn: 0.0935171\ttotal: 754ms\tremaining: 385ms\n",
      "662:\tlearn: 0.0933970\ttotal: 755ms\tremaining: 384ms\n",
      "663:\tlearn: 0.0932606\ttotal: 756ms\tremaining: 383ms\n",
      "664:\tlearn: 0.0931464\ttotal: 757ms\tremaining: 381ms\n",
      "665:\tlearn: 0.0929410\ttotal: 758ms\tremaining: 380ms\n",
      "666:\tlearn: 0.0927940\ttotal: 759ms\tremaining: 379ms\n",
      "667:\tlearn: 0.0926149\ttotal: 760ms\tremaining: 378ms\n",
      "668:\tlearn: 0.0924985\ttotal: 761ms\tremaining: 377ms\n",
      "669:\tlearn: 0.0923455\ttotal: 762ms\tremaining: 375ms\n",
      "670:\tlearn: 0.0921993\ttotal: 763ms\tremaining: 374ms\n",
      "671:\tlearn: 0.0919889\ttotal: 764ms\tremaining: 373ms\n",
      "672:\tlearn: 0.0918714\ttotal: 765ms\tremaining: 372ms\n",
      "673:\tlearn: 0.0917389\ttotal: 766ms\tremaining: 371ms\n",
      "674:\tlearn: 0.0916214\ttotal: 767ms\tremaining: 370ms\n",
      "675:\tlearn: 0.0913338\ttotal: 769ms\tremaining: 368ms\n",
      "676:\tlearn: 0.0910866\ttotal: 769ms\tremaining: 367ms\n",
      "677:\tlearn: 0.0908992\ttotal: 770ms\tremaining: 366ms\n",
      "678:\tlearn: 0.0906937\ttotal: 771ms\tremaining: 365ms\n",
      "679:\tlearn: 0.0905237\ttotal: 772ms\tremaining: 363ms\n",
      "680:\tlearn: 0.0903699\ttotal: 773ms\tremaining: 362ms\n",
      "681:\tlearn: 0.0901841\ttotal: 774ms\tremaining: 361ms\n",
      "682:\tlearn: 0.0900584\ttotal: 776ms\tremaining: 360ms\n",
      "683:\tlearn: 0.0898750\ttotal: 777ms\tremaining: 359ms\n",
      "684:\tlearn: 0.0897160\ttotal: 778ms\tremaining: 358ms\n",
      "685:\tlearn: 0.0894982\ttotal: 779ms\tremaining: 356ms\n",
      "686:\tlearn: 0.0893881\ttotal: 780ms\tremaining: 355ms\n",
      "687:\tlearn: 0.0892471\ttotal: 781ms\tremaining: 354ms\n",
      "688:\tlearn: 0.0890629\ttotal: 782ms\tremaining: 353ms\n",
      "689:\tlearn: 0.0889966\ttotal: 783ms\tremaining: 352ms\n",
      "690:\tlearn: 0.0888707\ttotal: 784ms\tremaining: 351ms\n",
      "691:\tlearn: 0.0886654\ttotal: 785ms\tremaining: 349ms\n",
      "692:\tlearn: 0.0884731\ttotal: 786ms\tremaining: 348ms\n",
      "693:\tlearn: 0.0882855\ttotal: 787ms\tremaining: 347ms\n",
      "694:\tlearn: 0.0881296\ttotal: 788ms\tremaining: 346ms\n",
      "695:\tlearn: 0.0880814\ttotal: 789ms\tremaining: 345ms\n",
      "696:\tlearn: 0.0879068\ttotal: 790ms\tremaining: 344ms\n",
      "697:\tlearn: 0.0878252\ttotal: 791ms\tremaining: 342ms\n",
      "698:\tlearn: 0.0876751\ttotal: 792ms\tremaining: 341ms\n",
      "699:\tlearn: 0.0876047\ttotal: 793ms\tremaining: 340ms\n",
      "700:\tlearn: 0.0874231\ttotal: 794ms\tremaining: 339ms\n",
      "701:\tlearn: 0.0873200\ttotal: 795ms\tremaining: 338ms\n",
      "702:\tlearn: 0.0872298\ttotal: 797ms\tremaining: 337ms\n",
      "703:\tlearn: 0.0871059\ttotal: 798ms\tremaining: 335ms\n",
      "704:\tlearn: 0.0868571\ttotal: 799ms\tremaining: 334ms\n",
      "705:\tlearn: 0.0867221\ttotal: 800ms\tremaining: 333ms\n",
      "706:\tlearn: 0.0865404\ttotal: 801ms\tremaining: 332ms\n",
      "707:\tlearn: 0.0863399\ttotal: 802ms\tremaining: 331ms\n",
      "708:\tlearn: 0.0861886\ttotal: 803ms\tremaining: 330ms\n",
      "709:\tlearn: 0.0861497\ttotal: 804ms\tremaining: 328ms\n",
      "710:\tlearn: 0.0860326\ttotal: 805ms\tremaining: 327ms\n"
     ]
    },
    {
     "name": "stdout",
     "output_type": "stream",
     "text": [
      "711:\tlearn: 0.0858475\ttotal: 806ms\tremaining: 326ms\n",
      "712:\tlearn: 0.0856876\ttotal: 808ms\tremaining: 325ms\n",
      "713:\tlearn: 0.0855444\ttotal: 809ms\tremaining: 324ms\n",
      "714:\tlearn: 0.0853698\ttotal: 810ms\tremaining: 323ms\n",
      "715:\tlearn: 0.0852197\ttotal: 811ms\tremaining: 322ms\n",
      "716:\tlearn: 0.0850449\ttotal: 812ms\tremaining: 321ms\n",
      "717:\tlearn: 0.0849481\ttotal: 813ms\tremaining: 319ms\n",
      "718:\tlearn: 0.0848502\ttotal: 815ms\tremaining: 318ms\n",
      "719:\tlearn: 0.0847816\ttotal: 816ms\tremaining: 317ms\n",
      "720:\tlearn: 0.0847429\ttotal: 817ms\tremaining: 316ms\n",
      "721:\tlearn: 0.0846165\ttotal: 818ms\tremaining: 315ms\n",
      "722:\tlearn: 0.0844817\ttotal: 819ms\tremaining: 314ms\n",
      "723:\tlearn: 0.0843644\ttotal: 819ms\tremaining: 312ms\n",
      "724:\tlearn: 0.0841735\ttotal: 820ms\tremaining: 311ms\n",
      "725:\tlearn: 0.0841119\ttotal: 821ms\tremaining: 310ms\n",
      "726:\tlearn: 0.0840136\ttotal: 822ms\tremaining: 309ms\n",
      "727:\tlearn: 0.0838874\ttotal: 823ms\tremaining: 308ms\n",
      "728:\tlearn: 0.0837754\ttotal: 824ms\tremaining: 306ms\n",
      "729:\tlearn: 0.0836678\ttotal: 826ms\tremaining: 305ms\n",
      "730:\tlearn: 0.0836188\ttotal: 827ms\tremaining: 304ms\n",
      "731:\tlearn: 0.0834515\ttotal: 828ms\tremaining: 303ms\n",
      "732:\tlearn: 0.0833710\ttotal: 829ms\tremaining: 302ms\n",
      "733:\tlearn: 0.0832518\ttotal: 830ms\tremaining: 301ms\n",
      "734:\tlearn: 0.0831826\ttotal: 831ms\tremaining: 300ms\n",
      "735:\tlearn: 0.0831590\ttotal: 832ms\tremaining: 298ms\n",
      "736:\tlearn: 0.0830521\ttotal: 833ms\tremaining: 297ms\n",
      "737:\tlearn: 0.0828726\ttotal: 834ms\tremaining: 296ms\n",
      "738:\tlearn: 0.0827096\ttotal: 835ms\tremaining: 295ms\n",
      "739:\tlearn: 0.0825767\ttotal: 837ms\tremaining: 294ms\n",
      "740:\tlearn: 0.0824638\ttotal: 838ms\tremaining: 293ms\n",
      "741:\tlearn: 0.0823436\ttotal: 839ms\tremaining: 292ms\n",
      "742:\tlearn: 0.0822190\ttotal: 840ms\tremaining: 290ms\n",
      "743:\tlearn: 0.0820442\ttotal: 841ms\tremaining: 289ms\n",
      "744:\tlearn: 0.0820240\ttotal: 842ms\tremaining: 288ms\n",
      "745:\tlearn: 0.0819718\ttotal: 843ms\tremaining: 287ms\n",
      "746:\tlearn: 0.0817368\ttotal: 844ms\tremaining: 286ms\n",
      "747:\tlearn: 0.0816823\ttotal: 845ms\tremaining: 285ms\n",
      "748:\tlearn: 0.0814884\ttotal: 846ms\tremaining: 283ms\n",
      "749:\tlearn: 0.0813468\ttotal: 847ms\tremaining: 282ms\n",
      "750:\tlearn: 0.0811854\ttotal: 848ms\tremaining: 281ms\n",
      "751:\tlearn: 0.0810119\ttotal: 849ms\tremaining: 280ms\n",
      "752:\tlearn: 0.0809325\ttotal: 850ms\tremaining: 279ms\n",
      "753:\tlearn: 0.0808860\ttotal: 851ms\tremaining: 278ms\n",
      "754:\tlearn: 0.0808207\ttotal: 852ms\tremaining: 276ms\n",
      "755:\tlearn: 0.0806439\ttotal: 853ms\tremaining: 275ms\n",
      "756:\tlearn: 0.0805122\ttotal: 854ms\tremaining: 274ms\n",
      "757:\tlearn: 0.0804369\ttotal: 855ms\tremaining: 273ms\n",
      "758:\tlearn: 0.0802904\ttotal: 856ms\tremaining: 272ms\n",
      "759:\tlearn: 0.0802265\ttotal: 857ms\tremaining: 271ms\n",
      "760:\tlearn: 0.0800223\ttotal: 858ms\tremaining: 269ms\n",
      "761:\tlearn: 0.0799262\ttotal: 859ms\tremaining: 268ms\n",
      "762:\tlearn: 0.0797349\ttotal: 860ms\tremaining: 267ms\n",
      "763:\tlearn: 0.0796255\ttotal: 861ms\tremaining: 266ms\n",
      "764:\tlearn: 0.0794821\ttotal: 862ms\tremaining: 265ms\n",
      "765:\tlearn: 0.0792999\ttotal: 863ms\tremaining: 264ms\n",
      "766:\tlearn: 0.0791239\ttotal: 864ms\tremaining: 262ms\n",
      "767:\tlearn: 0.0789743\ttotal: 865ms\tremaining: 261ms\n",
      "768:\tlearn: 0.0787829\ttotal: 866ms\tremaining: 260ms\n",
      "769:\tlearn: 0.0787305\ttotal: 867ms\tremaining: 259ms\n",
      "770:\tlearn: 0.0786259\ttotal: 868ms\tremaining: 258ms\n",
      "771:\tlearn: 0.0784508\ttotal: 869ms\tremaining: 257ms\n",
      "772:\tlearn: 0.0783843\ttotal: 870ms\tremaining: 255ms\n",
      "773:\tlearn: 0.0782419\ttotal: 871ms\tremaining: 254ms\n",
      "774:\tlearn: 0.0781605\ttotal: 872ms\tremaining: 253ms\n",
      "775:\tlearn: 0.0781012\ttotal: 873ms\tremaining: 252ms\n",
      "776:\tlearn: 0.0780710\ttotal: 874ms\tremaining: 251ms\n",
      "777:\tlearn: 0.0779565\ttotal: 875ms\tremaining: 250ms\n",
      "778:\tlearn: 0.0779238\ttotal: 876ms\tremaining: 248ms\n",
      "779:\tlearn: 0.0779090\ttotal: 877ms\tremaining: 247ms\n",
      "780:\tlearn: 0.0777636\ttotal: 878ms\tremaining: 246ms\n",
      "781:\tlearn: 0.0775784\ttotal: 879ms\tremaining: 245ms\n",
      "782:\tlearn: 0.0774605\ttotal: 880ms\tremaining: 244ms\n",
      "783:\tlearn: 0.0774035\ttotal: 881ms\tremaining: 243ms\n",
      "784:\tlearn: 0.0772892\ttotal: 882ms\tremaining: 241ms\n",
      "785:\tlearn: 0.0770765\ttotal: 883ms\tremaining: 240ms\n",
      "786:\tlearn: 0.0769379\ttotal: 883ms\tremaining: 239ms\n",
      "787:\tlearn: 0.0767874\ttotal: 884ms\tremaining: 238ms\n",
      "788:\tlearn: 0.0766488\ttotal: 885ms\tremaining: 237ms\n",
      "789:\tlearn: 0.0765604\ttotal: 886ms\tremaining: 236ms\n",
      "790:\tlearn: 0.0764146\ttotal: 888ms\tremaining: 235ms\n",
      "791:\tlearn: 0.0763388\ttotal: 889ms\tremaining: 233ms\n",
      "792:\tlearn: 0.0761940\ttotal: 890ms\tremaining: 232ms\n",
      "793:\tlearn: 0.0760134\ttotal: 891ms\tremaining: 231ms\n",
      "794:\tlearn: 0.0758411\ttotal: 891ms\tremaining: 230ms\n",
      "795:\tlearn: 0.0757132\ttotal: 892ms\tremaining: 229ms\n",
      "796:\tlearn: 0.0755717\ttotal: 893ms\tremaining: 228ms\n",
      "797:\tlearn: 0.0753787\ttotal: 894ms\tremaining: 226ms\n",
      "798:\tlearn: 0.0752586\ttotal: 895ms\tremaining: 225ms\n",
      "799:\tlearn: 0.0751094\ttotal: 896ms\tremaining: 224ms\n",
      "800:\tlearn: 0.0750607\ttotal: 897ms\tremaining: 223ms\n",
      "801:\tlearn: 0.0749548\ttotal: 898ms\tremaining: 222ms\n",
      "802:\tlearn: 0.0748262\ttotal: 899ms\tremaining: 221ms\n",
      "803:\tlearn: 0.0747941\ttotal: 900ms\tremaining: 219ms\n",
      "804:\tlearn: 0.0746659\ttotal: 901ms\tremaining: 218ms\n",
      "805:\tlearn: 0.0745451\ttotal: 902ms\tremaining: 217ms\n",
      "806:\tlearn: 0.0743581\ttotal: 903ms\tremaining: 216ms\n",
      "807:\tlearn: 0.0742121\ttotal: 904ms\tremaining: 215ms\n",
      "808:\tlearn: 0.0740124\ttotal: 905ms\tremaining: 214ms\n",
      "809:\tlearn: 0.0739384\ttotal: 906ms\tremaining: 213ms\n",
      "810:\tlearn: 0.0738266\ttotal: 907ms\tremaining: 211ms\n",
      "811:\tlearn: 0.0737249\ttotal: 908ms\tremaining: 210ms\n",
      "812:\tlearn: 0.0736058\ttotal: 910ms\tremaining: 209ms\n",
      "813:\tlearn: 0.0734535\ttotal: 911ms\tremaining: 208ms\n",
      "814:\tlearn: 0.0733416\ttotal: 912ms\tremaining: 207ms\n",
      "815:\tlearn: 0.0732215\ttotal: 913ms\tremaining: 206ms\n",
      "816:\tlearn: 0.0730840\ttotal: 914ms\tremaining: 205ms\n",
      "817:\tlearn: 0.0730307\ttotal: 915ms\tremaining: 204ms\n",
      "818:\tlearn: 0.0729490\ttotal: 916ms\tremaining: 202ms\n",
      "819:\tlearn: 0.0729230\ttotal: 917ms\tremaining: 201ms\n",
      "820:\tlearn: 0.0727473\ttotal: 918ms\tremaining: 200ms\n",
      "821:\tlearn: 0.0726350\ttotal: 919ms\tremaining: 199ms\n",
      "822:\tlearn: 0.0725628\ttotal: 920ms\tremaining: 198ms\n",
      "823:\tlearn: 0.0724579\ttotal: 921ms\tremaining: 197ms\n",
      "824:\tlearn: 0.0724218\ttotal: 922ms\tremaining: 196ms\n",
      "825:\tlearn: 0.0723499\ttotal: 923ms\tremaining: 194ms\n",
      "826:\tlearn: 0.0721705\ttotal: 924ms\tremaining: 193ms\n",
      "827:\tlearn: 0.0721622\ttotal: 925ms\tremaining: 192ms\n",
      "828:\tlearn: 0.0720808\ttotal: 926ms\tremaining: 191ms\n",
      "829:\tlearn: 0.0719317\ttotal: 928ms\tremaining: 190ms\n",
      "830:\tlearn: 0.0718957\ttotal: 929ms\tremaining: 189ms\n",
      "831:\tlearn: 0.0717076\ttotal: 930ms\tremaining: 188ms\n",
      "832:\tlearn: 0.0716958\ttotal: 931ms\tremaining: 187ms\n",
      "833:\tlearn: 0.0715636\ttotal: 932ms\tremaining: 185ms\n",
      "834:\tlearn: 0.0714478\ttotal: 933ms\tremaining: 184ms\n",
      "835:\tlearn: 0.0713318\ttotal: 934ms\tremaining: 183ms\n",
      "836:\tlearn: 0.0712305\ttotal: 935ms\tremaining: 182ms\n",
      "837:\tlearn: 0.0710804\ttotal: 936ms\tremaining: 181ms\n",
      "838:\tlearn: 0.0710555\ttotal: 937ms\tremaining: 180ms\n"
     ]
    },
    {
     "name": "stdout",
     "output_type": "stream",
     "text": [
      "839:\tlearn: 0.0710424\ttotal: 938ms\tremaining: 179ms\n",
      "840:\tlearn: 0.0709504\ttotal: 940ms\tremaining: 178ms\n",
      "841:\tlearn: 0.0709400\ttotal: 941ms\tremaining: 177ms\n",
      "842:\tlearn: 0.0708079\ttotal: 942ms\tremaining: 175ms\n",
      "843:\tlearn: 0.0706866\ttotal: 943ms\tremaining: 174ms\n",
      "844:\tlearn: 0.0705431\ttotal: 944ms\tremaining: 173ms\n",
      "845:\tlearn: 0.0704817\ttotal: 945ms\tremaining: 172ms\n",
      "846:\tlearn: 0.0704089\ttotal: 946ms\tremaining: 171ms\n",
      "847:\tlearn: 0.0702371\ttotal: 947ms\tremaining: 170ms\n",
      "848:\tlearn: 0.0700856\ttotal: 948ms\tremaining: 169ms\n",
      "849:\tlearn: 0.0700382\ttotal: 949ms\tremaining: 167ms\n",
      "850:\tlearn: 0.0699003\ttotal: 950ms\tremaining: 166ms\n",
      "851:\tlearn: 0.0697697\ttotal: 951ms\tremaining: 165ms\n",
      "852:\tlearn: 0.0696291\ttotal: 952ms\tremaining: 164ms\n",
      "853:\tlearn: 0.0694963\ttotal: 953ms\tremaining: 163ms\n",
      "854:\tlearn: 0.0694337\ttotal: 954ms\tremaining: 162ms\n",
      "855:\tlearn: 0.0693526\ttotal: 955ms\tremaining: 161ms\n",
      "856:\tlearn: 0.0691950\ttotal: 956ms\tremaining: 160ms\n",
      "857:\tlearn: 0.0691826\ttotal: 957ms\tremaining: 158ms\n",
      "858:\tlearn: 0.0691655\ttotal: 958ms\tremaining: 157ms\n",
      "859:\tlearn: 0.0691441\ttotal: 960ms\tremaining: 156ms\n",
      "860:\tlearn: 0.0690556\ttotal: 961ms\tremaining: 155ms\n",
      "861:\tlearn: 0.0688914\ttotal: 962ms\tremaining: 154ms\n",
      "862:\tlearn: 0.0688064\ttotal: 963ms\tremaining: 153ms\n",
      "863:\tlearn: 0.0687135\ttotal: 964ms\tremaining: 152ms\n",
      "864:\tlearn: 0.0685828\ttotal: 965ms\tremaining: 151ms\n",
      "865:\tlearn: 0.0684995\ttotal: 966ms\tremaining: 150ms\n",
      "866:\tlearn: 0.0683760\ttotal: 967ms\tremaining: 148ms\n",
      "867:\tlearn: 0.0683536\ttotal: 969ms\tremaining: 147ms\n",
      "868:\tlearn: 0.0682603\ttotal: 970ms\tremaining: 146ms\n",
      "869:\tlearn: 0.0681855\ttotal: 971ms\tremaining: 145ms\n",
      "870:\tlearn: 0.0680852\ttotal: 972ms\tremaining: 144ms\n",
      "871:\tlearn: 0.0679118\ttotal: 973ms\tremaining: 143ms\n",
      "872:\tlearn: 0.0678951\ttotal: 974ms\tremaining: 142ms\n",
      "873:\tlearn: 0.0678311\ttotal: 975ms\tremaining: 141ms\n",
      "874:\tlearn: 0.0676921\ttotal: 976ms\tremaining: 139ms\n",
      "875:\tlearn: 0.0675425\ttotal: 977ms\tremaining: 138ms\n",
      "876:\tlearn: 0.0674386\ttotal: 978ms\tremaining: 137ms\n",
      "877:\tlearn: 0.0673353\ttotal: 979ms\tremaining: 136ms\n",
      "878:\tlearn: 0.0672239\ttotal: 980ms\tremaining: 135ms\n",
      "879:\tlearn: 0.0670958\ttotal: 981ms\tremaining: 134ms\n",
      "880:\tlearn: 0.0669233\ttotal: 982ms\tremaining: 133ms\n",
      "881:\tlearn: 0.0668405\ttotal: 983ms\tremaining: 132ms\n",
      "882:\tlearn: 0.0666932\ttotal: 985ms\tremaining: 130ms\n",
      "883:\tlearn: 0.0665582\ttotal: 986ms\tremaining: 129ms\n",
      "884:\tlearn: 0.0665437\ttotal: 987ms\tremaining: 128ms\n",
      "885:\tlearn: 0.0664958\ttotal: 988ms\tremaining: 127ms\n",
      "886:\tlearn: 0.0664032\ttotal: 989ms\tremaining: 126ms\n",
      "887:\tlearn: 0.0663555\ttotal: 990ms\tremaining: 125ms\n",
      "888:\tlearn: 0.0662658\ttotal: 991ms\tremaining: 124ms\n",
      "889:\tlearn: 0.0662231\ttotal: 992ms\tremaining: 123ms\n",
      "890:\tlearn: 0.0661683\ttotal: 993ms\tremaining: 121ms\n",
      "891:\tlearn: 0.0661139\ttotal: 994ms\tremaining: 120ms\n",
      "892:\tlearn: 0.0660485\ttotal: 995ms\tremaining: 119ms\n",
      "893:\tlearn: 0.0659759\ttotal: 996ms\tremaining: 118ms\n",
      "894:\tlearn: 0.0658173\ttotal: 997ms\tremaining: 117ms\n",
      "895:\tlearn: 0.0657492\ttotal: 998ms\tremaining: 116ms\n",
      "896:\tlearn: 0.0657356\ttotal: 999ms\tremaining: 115ms\n",
      "897:\tlearn: 0.0657087\ttotal: 1000ms\tremaining: 114ms\n",
      "898:\tlearn: 0.0657012\ttotal: 1s\tremaining: 112ms\n",
      "899:\tlearn: 0.0656130\ttotal: 1s\tremaining: 111ms\n",
      "900:\tlearn: 0.0655585\ttotal: 1s\tremaining: 110ms\n",
      "901:\tlearn: 0.0655025\ttotal: 1s\tremaining: 109ms\n",
      "902:\tlearn: 0.0654664\ttotal: 1s\tremaining: 108ms\n",
      "903:\tlearn: 0.0653894\ttotal: 1s\tremaining: 107ms\n",
      "904:\tlearn: 0.0653150\ttotal: 1.01s\tremaining: 106ms\n",
      "905:\tlearn: 0.0652530\ttotal: 1.01s\tremaining: 105ms\n",
      "906:\tlearn: 0.0651892\ttotal: 1.01s\tremaining: 103ms\n",
      "907:\tlearn: 0.0650299\ttotal: 1.01s\tremaining: 102ms\n",
      "908:\tlearn: 0.0650209\ttotal: 1.01s\tremaining: 101ms\n",
      "909:\tlearn: 0.0649450\ttotal: 1.01s\tremaining: 100ms\n",
      "910:\tlearn: 0.0648576\ttotal: 1.01s\tremaining: 98.9ms\n",
      "911:\tlearn: 0.0647931\ttotal: 1.01s\tremaining: 97.8ms\n",
      "912:\tlearn: 0.0647831\ttotal: 1.01s\tremaining: 96.7ms\n",
      "913:\tlearn: 0.0646693\ttotal: 1.01s\tremaining: 95.5ms\n",
      "914:\tlearn: 0.0646554\ttotal: 1.02s\tremaining: 94.4ms\n",
      "915:\tlearn: 0.0645590\ttotal: 1.02s\tremaining: 93.3ms\n",
      "916:\tlearn: 0.0644481\ttotal: 1.02s\tremaining: 92.2ms\n",
      "917:\tlearn: 0.0643825\ttotal: 1.02s\tremaining: 91.1ms\n",
      "918:\tlearn: 0.0642749\ttotal: 1.02s\tremaining: 89.9ms\n",
      "919:\tlearn: 0.0642596\ttotal: 1.02s\tremaining: 88.8ms\n",
      "920:\tlearn: 0.0641750\ttotal: 1.02s\tremaining: 87.7ms\n",
      "921:\tlearn: 0.0640798\ttotal: 1.02s\tremaining: 86.6ms\n",
      "922:\tlearn: 0.0640142\ttotal: 1.02s\tremaining: 85.5ms\n",
      "923:\tlearn: 0.0639692\ttotal: 1.02s\tremaining: 84.4ms\n",
      "924:\tlearn: 0.0638890\ttotal: 1.03s\tremaining: 83.2ms\n",
      "925:\tlearn: 0.0638825\ttotal: 1.03s\tremaining: 82.1ms\n",
      "926:\tlearn: 0.0638012\ttotal: 1.03s\tremaining: 81ms\n",
      "927:\tlearn: 0.0637485\ttotal: 1.03s\tremaining: 79.9ms\n",
      "928:\tlearn: 0.0636490\ttotal: 1.03s\tremaining: 78.8ms\n",
      "929:\tlearn: 0.0636117\ttotal: 1.03s\tremaining: 77.7ms\n",
      "930:\tlearn: 0.0635948\ttotal: 1.03s\tremaining: 76.6ms\n",
      "931:\tlearn: 0.0635213\ttotal: 1.03s\tremaining: 75.5ms\n",
      "932:\tlearn: 0.0634712\ttotal: 1.03s\tremaining: 74.3ms\n",
      "933:\tlearn: 0.0634052\ttotal: 1.04s\tremaining: 73.2ms\n",
      "934:\tlearn: 0.0632428\ttotal: 1.04s\tremaining: 72.1ms\n",
      "935:\tlearn: 0.0631697\ttotal: 1.04s\tremaining: 71ms\n",
      "936:\tlearn: 0.0630228\ttotal: 1.04s\tremaining: 69.9ms\n",
      "937:\tlearn: 0.0629147\ttotal: 1.04s\tremaining: 68.8ms\n",
      "938:\tlearn: 0.0628611\ttotal: 1.04s\tremaining: 67.7ms\n",
      "939:\tlearn: 0.0627353\ttotal: 1.04s\tremaining: 66.5ms\n",
      "940:\tlearn: 0.0626372\ttotal: 1.04s\tremaining: 65.4ms\n",
      "941:\tlearn: 0.0625799\ttotal: 1.04s\tremaining: 64.3ms\n",
      "942:\tlearn: 0.0624838\ttotal: 1.04s\tremaining: 63.2ms\n",
      "943:\tlearn: 0.0623093\ttotal: 1.05s\tremaining: 62.1ms\n",
      "944:\tlearn: 0.0622682\ttotal: 1.05s\tremaining: 61ms\n",
      "945:\tlearn: 0.0621588\ttotal: 1.05s\tremaining: 59.9ms\n",
      "946:\tlearn: 0.0621129\ttotal: 1.05s\tremaining: 58.8ms\n",
      "947:\tlearn: 0.0620338\ttotal: 1.05s\tremaining: 57.7ms\n",
      "948:\tlearn: 0.0618683\ttotal: 1.05s\tremaining: 56.5ms\n",
      "949:\tlearn: 0.0617990\ttotal: 1.05s\tremaining: 55.4ms\n",
      "950:\tlearn: 0.0617458\ttotal: 1.05s\tremaining: 54.3ms\n",
      "951:\tlearn: 0.0617207\ttotal: 1.05s\tremaining: 53.2ms\n",
      "952:\tlearn: 0.0617135\ttotal: 1.06s\tremaining: 52.1ms\n",
      "953:\tlearn: 0.0615873\ttotal: 1.06s\tremaining: 51ms\n",
      "954:\tlearn: 0.0614950\ttotal: 1.06s\tremaining: 49.9ms\n",
      "955:\tlearn: 0.0614326\ttotal: 1.06s\tremaining: 48.8ms\n",
      "956:\tlearn: 0.0613364\ttotal: 1.06s\tremaining: 47.6ms\n",
      "957:\tlearn: 0.0613306\ttotal: 1.06s\tremaining: 46.5ms\n",
      "958:\tlearn: 0.0612101\ttotal: 1.06s\tremaining: 45.4ms\n",
      "959:\tlearn: 0.0611057\ttotal: 1.06s\tremaining: 44.3ms\n",
      "960:\tlearn: 0.0609505\ttotal: 1.06s\tremaining: 43.2ms\n",
      "961:\tlearn: 0.0609135\ttotal: 1.06s\tremaining: 42.1ms\n",
      "962:\tlearn: 0.0607695\ttotal: 1.07s\tremaining: 41ms\n",
      "963:\tlearn: 0.0606934\ttotal: 1.07s\tremaining: 39.9ms\n",
      "964:\tlearn: 0.0605743\ttotal: 1.07s\tremaining: 38.8ms\n",
      "965:\tlearn: 0.0605013\ttotal: 1.07s\tremaining: 37.7ms\n"
     ]
    },
    {
     "name": "stdout",
     "output_type": "stream",
     "text": [
      "966:\tlearn: 0.0604659\ttotal: 1.07s\tremaining: 36.5ms\n",
      "967:\tlearn: 0.0603982\ttotal: 1.07s\tremaining: 35.5ms\n",
      "968:\tlearn: 0.0603291\ttotal: 1.07s\tremaining: 34.3ms\n",
      "969:\tlearn: 0.0602680\ttotal: 1.07s\tremaining: 33.2ms\n",
      "970:\tlearn: 0.0601973\ttotal: 1.07s\tremaining: 32.1ms\n",
      "971:\tlearn: 0.0601736\ttotal: 1.08s\tremaining: 31ms\n",
      "972:\tlearn: 0.0600680\ttotal: 1.08s\tremaining: 29.9ms\n",
      "973:\tlearn: 0.0599970\ttotal: 1.08s\tremaining: 28.8ms\n",
      "974:\tlearn: 0.0598908\ttotal: 1.08s\tremaining: 27.7ms\n",
      "975:\tlearn: 0.0598225\ttotal: 1.08s\tremaining: 26.6ms\n",
      "976:\tlearn: 0.0597562\ttotal: 1.08s\tremaining: 25.5ms\n",
      "977:\tlearn: 0.0597477\ttotal: 1.08s\tremaining: 24.4ms\n",
      "978:\tlearn: 0.0596185\ttotal: 1.08s\tremaining: 23.2ms\n",
      "979:\tlearn: 0.0594760\ttotal: 1.08s\tremaining: 22.1ms\n",
      "980:\tlearn: 0.0593968\ttotal: 1.08s\tremaining: 21ms\n",
      "981:\tlearn: 0.0592488\ttotal: 1.09s\tremaining: 19.9ms\n",
      "982:\tlearn: 0.0591792\ttotal: 1.09s\tremaining: 18.8ms\n",
      "983:\tlearn: 0.0591144\ttotal: 1.09s\tremaining: 17.7ms\n",
      "984:\tlearn: 0.0591068\ttotal: 1.09s\tremaining: 16.6ms\n",
      "985:\tlearn: 0.0590324\ttotal: 1.09s\tremaining: 15.5ms\n",
      "986:\tlearn: 0.0589188\ttotal: 1.09s\tremaining: 14.4ms\n",
      "987:\tlearn: 0.0587892\ttotal: 1.09s\tremaining: 13.3ms\n",
      "988:\tlearn: 0.0586539\ttotal: 1.09s\tremaining: 12.2ms\n",
      "989:\tlearn: 0.0585820\ttotal: 1.09s\tremaining: 11.1ms\n",
      "990:\tlearn: 0.0584317\ttotal: 1.09s\tremaining: 9.95ms\n",
      "991:\tlearn: 0.0583574\ttotal: 1.1s\tremaining: 8.85ms\n",
      "992:\tlearn: 0.0582461\ttotal: 1.1s\tremaining: 7.74ms\n",
      "993:\tlearn: 0.0581407\ttotal: 1.1s\tremaining: 6.63ms\n",
      "994:\tlearn: 0.0579942\ttotal: 1.1s\tremaining: 5.53ms\n",
      "995:\tlearn: 0.0579554\ttotal: 1.1s\tremaining: 4.42ms\n",
      "996:\tlearn: 0.0578273\ttotal: 1.1s\tremaining: 3.32ms\n",
      "997:\tlearn: 0.0577706\ttotal: 1.1s\tremaining: 2.21ms\n",
      "998:\tlearn: 0.0577360\ttotal: 1.1s\tremaining: 1.1ms\n",
      "999:\tlearn: 0.0576445\ttotal: 1.1s\tremaining: 0us\n"
     ]
    },
    {
     "data": {
      "text/plain": [
       "<catboost.core.CatBoostRegressor at 0x7f05af8a7c10>"
      ]
     },
     "execution_count": 9,
     "metadata": {},
     "output_type": "execute_result"
    }
   ],
   "source": [
    "#Train the Model \n",
    "prior_model = ctb.CatBoostRegressor()\n",
    "prior_model.fit(X_train,Y_train)"
   ]
  },
  {
   "cell_type": "code",
   "execution_count": 10,
   "id": "c775fd81",
   "metadata": {
    "execution": {
     "iopub.execute_input": "2022-01-14T09:40:44.582365Z",
     "iopub.status.busy": "2022-01-14T09:40:44.581356Z",
     "iopub.status.idle": "2022-01-14T09:40:44.595086Z",
     "shell.execute_reply": "2022-01-14T09:40:44.595609Z"
    },
    "papermill": {
     "duration": 0.050478,
     "end_time": "2022-01-14T09:40:44.595804",
     "exception": false,
     "start_time": "2022-01-14T09:40:44.545326",
     "status": "completed"
    },
    "tags": []
   },
   "outputs": [
    {
     "data": {
      "application/scrapbook.scrap.json+json": {
       "data": 0.12687192330953637,
       "encoder": "json",
       "name": "Prior Model MSE",
       "version": 1
      }
     },
     "metadata": {
      "scrapbook": {
       "data": true,
       "display": false,
       "name": "Prior Model MSE"
      }
     },
     "output_type": "display_data"
    },
    {
     "data": {
      "application/scrapbook.scrap.json+json": {
       "data": 0.127364824263031,
       "encoder": "json",
       "name": "ABC Pre-generator MSE",
       "version": 1
      }
     },
     "metadata": {
      "scrapbook": {
       "data": true,
       "display": false,
       "name": "ABC Pre-generator MSE"
      }
     },
     "output_type": "display_data"
    }
   ],
   "source": [
    "y_pred = prior_model.predict(X_test)\n",
    "y_abc = y_pred + np.random.normal(0,variance, y_pred.shape)\n",
    "mse = mean_squared_error(y_pred,Y_test)\n",
    "sb.glue(\"Prior Model MSE\",mse)\n",
    "mse = mean_squared_error(y_abc,Y_test)\n",
    "sb.glue(\"ABC Pre-generator MSE\",mse)"
   ]
  },
  {
   "cell_type": "markdown",
   "id": "0cd0def6",
   "metadata": {
    "papermill": {
     "duration": 0.03369,
     "end_time": "2022-01-14T09:40:44.661733",
     "exception": false,
     "start_time": "2022-01-14T09:40:44.628043",
     "status": "completed"
    },
    "tags": []
   },
   "source": [
    "# ABC GAN Model"
   ]
  },
  {
   "cell_type": "markdown",
   "id": "70beaf4c",
   "metadata": {
    "papermill": {
     "duration": 0.033591,
     "end_time": "2022-01-14T09:40:44.726308",
     "exception": false,
     "start_time": "2022-01-14T09:40:44.692717",
     "status": "completed"
    },
    "tags": []
   },
   "source": [
    "### Training the network\n",
    "**Training ABC-GAN for n_epochs number of epochs** "
   ]
  },
  {
   "cell_type": "code",
   "execution_count": 11,
   "id": "dbaaafa1",
   "metadata": {
    "execution": {
     "iopub.execute_input": "2022-01-14T09:40:44.795223Z",
     "iopub.status.busy": "2022-01-14T09:40:44.794235Z",
     "iopub.status.idle": "2022-01-14T09:40:47.846936Z",
     "shell.execute_reply": "2022-01-14T09:40:47.846224Z"
    },
    "papermill": {
     "duration": 3.08991,
     "end_time": "2022-01-14T09:40:47.847106",
     "exception": false,
     "start_time": "2022-01-14T09:40:44.757196",
     "status": "completed"
    },
    "tags": []
   },
   "outputs": [],
   "source": [
    "gen = network.Generator(n_features+1).to(device)\n",
    "disc = network.Discriminator(n_features+1).to(device)\n",
    "\n",
    "criterion = torch.nn.BCELoss()\n",
    "gen_opt = torch.optim.Adam(gen.parameters(), lr=0.001, betas=(0.5, 0.999))\n",
    "disc_opt = torch.optim.Adam(disc.parameters(), lr=0.01, betas=(0.5, 0.999))"
   ]
  },
  {
   "cell_type": "code",
   "execution_count": 12,
   "id": "6e9eeab8",
   "metadata": {
    "execution": {
     "iopub.execute_input": "2022-01-14T09:40:47.948893Z",
     "iopub.status.busy": "2022-01-14T09:40:47.947720Z",
     "iopub.status.idle": "2022-01-14T09:46:27.709031Z",
     "shell.execute_reply": "2022-01-14T09:46:27.709513Z"
    },
    "papermill": {
     "duration": 339.831532,
     "end_time": "2022-01-14T09:46:27.709745",
     "exception": false,
     "start_time": "2022-01-14T09:40:47.878213",
     "status": "completed"
    },
    "tags": []
   },
   "outputs": [
    {
     "data": {
      "image/png": "[encoded data removed]",
      "text/plain": [
       "<Figure size 432x288 with 1 Axes>"
      ]
     },
     "metadata": {
      "needs_background": "light"
     },
     "output_type": "display_data"
    },
    {
     "data": {
      "image/png": "[encoded data removed]",
      "text/plain": [
       "<Figure size 432x288 with 1 Axes>"
      ]
     },
     "metadata": {
      "needs_background": "light"
     },
     "output_type": "display_data"
    }
   ],
   "source": [
    "#Training the ABC_GAN \n",
    "ABC_train_test2.training_GAN(disc,gen,disc_opt,gen_opt,train_data,batch_size,n_epochs,criterion,prior_model,variance,device)"
   ]
  },
  {
   "cell_type": "code",
   "execution_count": 13,
   "id": "11c3082e",
   "metadata": {
    "execution": {
     "iopub.execute_input": "2022-01-14T09:46:27.776975Z",
     "iopub.status.busy": "2022-01-14T09:46:27.776418Z",
     "iopub.status.idle": "2022-01-14T09:46:28.176101Z",
     "shell.execute_reply": "2022-01-14T09:46:28.175620Z"
    },
    "papermill": {
     "duration": 0.434172,
     "end_time": "2022-01-14T09:46:28.176254",
     "exception": false,
     "start_time": "2022-01-14T09:46:27.742082",
     "status": "completed"
    },
    "tags": []
   },
   "outputs": [
    {
     "data": {
      "application/scrapbook.scrap.json+json": {
       "data": 0.16124619049330666,
       "encoder": "json",
       "name": "ABC-GAN Model 1 MSE",
       "version": 1
      }
     },
     "metadata": {
      "scrapbook": {
       "data": true,
       "display": false,
       "name": "ABC-GAN Model 1 MSE"
      }
     },
     "output_type": "display_data"
    },
    {
     "data": {
      "application/scrapbook.scrap.json+json": {
       "data": 0.2817535184192307,
       "encoder": "json",
       "name": "ABC-GAN Model 1 MAE",
       "version": 1
      }
     },
     "metadata": {
      "scrapbook": {
       "data": true,
       "display": false,
       "name": "ABC-GAN Model 1 MAE"
      }
     },
     "output_type": "display_data"
    },
    {
     "data": {
      "application/scrapbook.scrap.json+json": {
       "data": 28.73885887876153,
       "encoder": "json",
       "name": "ABC-GAN Model 1 Manhattan Distance",
       "version": 1
      }
     },
     "metadata": {
      "scrapbook": {
       "data": true,
       "display": false,
       "name": "ABC-GAN Model 1 Manhattan Distance"
      }
     },
     "output_type": "display_data"
    },
    {
     "data": {
      "application/scrapbook.scrap.json+json": {
       "data": 4.05549792050386,
       "encoder": "json",
       "name": "ABC-GAN Model 1 Euclidean distance",
       "version": 1
      }
     },
     "metadata": {
      "scrapbook": {
       "data": true,
       "display": false,
       "name": "ABC-GAN Model 1 Euclidean distance"
      }
     },
     "output_type": "display_data"
    },
    {
     "data": {
      "application/scrapbook.scrap.json+json": {
       "data": [
        [
         0.16105055340085692,
         0.1610346308600788,
         0.16093549199779253,
         0.16183566845135455,
         0.16071916051495447,
         0.1612197875152051,
         0.16062777925371413,
         0.16125801278336424,
         0.16033160901313412,
         0.16125358733292453,
         0.16104422316996897,
         0.16076612685466202,
         0.16101739480451552,
         0.16066673244959687,
         0.16201224382497353,
         0.16133566839326297,
         0.16110900926930027,
         0.16260136794278768,
         0.1603381406335559,
         0.16157584414244056,
         0.16148180519194136,
         0.1618751345913714,
         0.16057792164092996,
         0.1602857398057329,
         0.1614266280522474,
         0.16187524111173046,
         0.16114972260132446,
         0.1615106910141398,
         0.16039988472451916,
         0.16141832276734994,
         0.1609186444694076,
         0.16112244701625425,
         0.16204644664391227,
         0.16163432692209667,
         0.16116011878287778,
         0.1616191792677425,
         0.16074761218303568,
         0.16022926181194658,
         0.16235684718605248,
         0.16067941255970666,
         0.16161067545323715,
         0.16082069228995202,
         0.16195077941088354,
         0.16140750638304285,
         0.16051944987916364,
         0.16164482307582767,
         0.16141478156087255,
         0.16222838183005828,
         0.16069701282715043,
         0.16112538732498502,
         0.16172809533253357,
         0.16069338958378696,
         0.16222564404629944,
         0.16167385801093803,
         0.16082156649848992,
         0.16172356188781487,
         0.16187538515403163,
         0.1613182556099514,
         0.16134939463168232,
         0.16072332318584656,
         0.16164887449067825,
         0.16100334160699858,
         0.16170811431037382,
         0.16245940219466085,
         0.16054174156817833,
         0.16080632380492793,
         0.16193861684078323,
         0.1612757599481512,
         0.16138028702857576,
         0.16235552418089297,
         0.16041794729022274,
         0.16109054197258713,
         0.16123756890664553,
         0.16106138213881557,
         0.16186823325890956,
         0.16106852604812477,
         0.16120339023721553,
         0.16017980236974888,
         0.16089802104359152,
         0.16168172370554268,
         0.16166681070376873,
         0.16090002086203983,
         0.16091147766020178,
         0.16137306237846,
         0.16071738599659532,
         0.16114615652599373,
         0.16043833935289056,
         0.16064180866151417,
         0.16161765019925453,
         0.16049286404893293,
         0.1611802649564293,
         0.1619573628391183,
         0.16124675981438422,
         0.16081928853068966,
         0.16159348469700405,
         0.16219493591557765,
         0.16152830542264607,
         0.16115769442035674,
         0.16067166458201754,
         0.1617382038878547
        ],
        [
         0.281793938694047,
         0.2813751839977853,
         0.2815920661988796,
         0.2820732641746016,
         0.28071608841784446,
         0.28110360536797374,
         0.2815472576767206,
         0.282639637534671,
         0.28049665472159785,
         0.2817108553706431,
         0.2814249438507592,
         0.28081280469675274,
         0.2807891260942115,
         0.28177844581431616,
         0.28157386676791835,
         0.28222974963194014,
         0.28127738261851026,
         0.2821789159092541,
         0.2808491818460764,
         0.2825864424162051,
         0.28288988688705013,
         0.28229086086446165,
         0.2801287035804753,
         0.280627566590613,
         0.2820910513035807,
         0.2820425123049348,
         0.28182909254203825,
         0.28221399143484294,
         0.2816864688351166,
         0.28110073623703974,
         0.28225102812490044,
         0.28198228111746265,
         0.28175644939947947,
         0.281931166774502,
         0.2819825333050069,
         0.28232563780072856,
         0.2815632656143576,
         0.28099074324264245,
         0.2829934884154913,
         0.280968335767587,
         0.2825716216409323,
         0.2820738075191484,
         0.282069915357758,
         0.2810788869346474,
         0.2804361555506201,
         0.28138882630303796,
         0.2813951499833196,
         0.28156454490461186,
         0.28131525428490894,
         0.28178107402488295,
         0.28201095513342056,
         0.28134982379189893,
         0.28253130950764116,
         0.2825594331850024,
         0.2809576726719445,
         0.2822791926708876,
         0.2815659486268665,
         0.28221611926953,
         0.28213966825940445,
         0.281735547453019,
         0.28128834799224256,
         0.2818442362671097,
         0.28250651627632917,
         0.2827873492942137,
         0.28119084341268913,
         0.28170313660566715,
         0.28236509782864766,
         0.2819232173337072,
         0.2820045426122698,
         0.2819549907364097,
         0.2797349590223794,
         0.2813953821200366,
         0.28226073374789135,
         0.28160740679823887,
         0.28241665137237776,
         0.28213684105624753,
         0.28155233053600087,
         0.28085382054468583,
         0.28178579488075245,
         0.2820115176887781,
         0.2826245418366264,
         0.2820141601978856,
         0.2811839442663625,
         0.2819400267018115,
         0.2821005156592411,
         0.2816043551646027,
         0.2806060589192545,
         0.28190886797200815,
         0.282485732717403,
         0.28173418198803474,
         0.28229885679834027,
         0.28264932495121864,
         0.28186381423809365,
         0.28139949120654195,
         0.28246992943333643,
         0.28240537186901943,
         0.2826236521131268,
         0.28230705375180526,
         0.2811799595753352,
         0.2814121674198438
        ],
        [
         28.742981746792793,
         28.700268767774105,
         28.72239075228572,
         28.771472945809364,
         28.633041018620133,
         28.67256774753332,
         28.717820283025503,
         28.82924302853644,
         28.61065878160298,
         28.734507247805595,
         28.705344272777438,
         28.64290607906878,
         28.640490861609578,
         28.74140147306025,
         28.720534410327673,
         28.787434462457895,
         28.690293027088046,
         28.782249422743917,
         28.64661654829979,
         28.823817126452923,
         28.854768462479115,
         28.793667808175087,
         28.573127765208483,
         28.624011792242527,
         28.77328723296523,
         28.76833625510335,
         28.7465674392879,
         28.78582712635398,
         28.732019821181893,
         28.672275096178055,
         28.789604868739843,
         28.76219267398119,
         28.739157838746905,
         28.756979010999203,
         28.7622183971107,
         28.797215055674314,
         28.71945309266448,
         28.66105581074953,
         28.865335818380117,
         28.658770248293877,
         28.822305407375097,
         28.771528366953135,
         28.771131366491318,
         28.670046467334032,
         28.604487866163254,
         28.70166028290987,
         28.702305298298597,
         28.71958358027041,
         28.694155937060714,
         28.741669550538063,
         28.7651174236089,
         28.69768202677369,
         28.818193569779396,
         28.821062184870243,
         28.657682612538338,
         28.792477652430534,
         28.719726759940386,
         28.786044165492058,
         28.778246162459254,
         28.737025840207934,
         28.69141149520874,
         28.74811209924519,
         28.815664660185575,
         28.844309628009796,
         28.68146602809429,
         28.733719933778048,
         28.801239978522062,
         28.75616816803813,
         28.76446334645152,
         28.759409055113792,
         28.532965820282698,
         28.702328976243734,
         28.790594842284918,
         28.723955493420362,
         28.806498439982533,
         28.77795778773725,
         28.71833771467209,
         28.647089695557952,
         28.742151077836752,
         28.765174804255366,
         28.82770326733589,
         28.76544434018433,
         28.680762315168977,
         28.75788272358477,
         28.774252597242594,
         28.723644226789474,
         28.621818009763956,
         28.75470453314483,
         28.813544737175107,
         28.736886562779546,
         28.79448339343071,
         28.8302311450243,
         28.750109052285552,
         28.70274810306728,
         28.811932802200317,
         28.805347930639982,
         28.82761251553893,
         28.795319482684135,
         28.68035587668419,
         28.70404107682407
        ],
        [
         4.053042862700493,
         4.052842502211015,
         4.05159477042989,
         4.062910063247544,
         4.048870752756298,
         4.0551717998811005,
         4.047719541158805,
         4.055652512716437,
         4.043986167055926,
         4.0555968621102245,
         4.052963207745271,
         4.04946230247616,
         4.052625602009218,
         4.048210309489724,
         4.065125935336727,
         4.056628917723781,
         4.053778354260212,
         4.0725102246850575,
         4.044068538566415,
         4.0596472879462,
         4.058465735912775,
         4.063405434893235,
         4.047091302080403,
         4.043407654464827,
         4.057772302794876,
         4.0634067718352425,
         4.054290530454754,
         4.05882870831503,
         4.044847122191512,
         4.057667916706552,
         4.051382694325429,
         4.053947409088817,
         4.065555012255897,
         4.060381921205671,
         4.054421304681289,
         4.060191656228771,
         4.0492291170875525,
         4.042695227792784,
         4.06944694190468,
         4.048370052390231,
         4.060084838550814,
         4.050149455708407,
         4.06435474582499,
         4.057531965501981,
         4.0463543947205975,
         4.060513754900286,
         4.057623407760877,
         4.06783664208212,
         4.048591768549818,
         4.0539843989769455,
         4.061559518697026,
         4.0485461263947915,
         4.06780231731122,
         4.06087841693342,
         4.050160463839176,
         4.061502592952159,
         4.063408579716199,
         4.0564099980419925,
         4.056801480530147,
         4.048923185855265,
         4.060564640299323,
         4.052448746611591,
         4.061308614185596,
         4.070732000986482,
         4.046635348033497,
         4.049968521865651,
         4.064202125603486,
         4.055875677916104,
         4.057189825102435,
         4.069430361420512,
         4.045074860074003,
         4.053546013209161,
         4.055395421962924,
         4.053179119920459,
         4.063318815009323,
         4.053269008702571,
         4.05496557373746,
         4.042071231647753,
         4.051123072241366,
         4.060977199882481,
         4.060789909830895,
         4.051148248080791,
         4.051292475413319,
         4.057099008232719,
         4.04884840067552,
         4.054245671595562,
         4.045331953498358,
         4.047896303448798,
         4.060172449579446,
         4.046019294688442,
         4.054674712668795,
         4.064437354615035,
         4.055511003692036,
         4.050131779353648,
         4.059868894323364,
         4.067417296441184,
         4.059050030870511,
         4.054390808848646,
         4.048272444804794,
         4.061686447346863
        ]
       ],
       "encoder": "json",
       "name": "ABC_GAN_1 Metrics",
       "version": 1
      }
     },
     "metadata": {
      "scrapbook": {
       "data": true,
       "display": false,
       "name": "ABC_GAN_1 Metrics"
      }
     },
     "output_type": "display_data"
    }
   ],
   "source": [
    "ABC_GAN1_metrics=ABC_train_test2.test_generator(gen,test_data,prior_model,variance,\"1\",device)\n",
    "sb.glue(\"ABC_GAN_1 Metrics\",ABC_GAN1_metrics)"
   ]
  },
  {
   "cell_type": "markdown",
   "id": "394a2b9d",
   "metadata": {
    "papermill": {
     "duration": 0.035269,
     "end_time": "2022-01-14T09:46:28.247427",
     "exception": false,
     "start_time": "2022-01-14T09:46:28.212158",
     "status": "completed"
    },
    "tags": []
   },
   "source": [
    "#### Sanity Checks "
   ]
  },
  {
   "cell_type": "code",
   "execution_count": 14,
   "id": "a36b3b22",
   "metadata": {
    "execution": {
     "iopub.execute_input": "2022-01-14T09:46:28.323924Z",
     "iopub.status.busy": "2022-01-14T09:46:28.323296Z",
     "iopub.status.idle": "2022-01-14T09:46:29.072096Z",
     "shell.execute_reply": "2022-01-14T09:46:29.071502Z"
    },
    "papermill": {
     "duration": 0.78956,
     "end_time": "2022-01-14T09:46:29.072245",
     "exception": false,
     "start_time": "2022-01-14T09:46:28.282685",
     "status": "completed"
    },
    "tags": []
   },
   "outputs": [
    {
     "data": {
      "image/png": "[encoded data removed]",
      "text/plain": [
       "<Figure size 432x288 with 1 Axes>"
      ]
     },
     "metadata": {
      "needs_background": "light"
     },
     "output_type": "display_data"
    },
    {
     "data": {
      "image/png": "[encoded data removed]",
      "text/plain": [
       "<Figure size 432x288 with 1 Axes>"
      ]
     },
     "metadata": {
      "needs_background": "light"
     },
     "output_type": "display_data"
    },
    {
     "data": {
      "image/png": "[encoded data removed]",
      "text/plain": [
       "<Figure size 432x288 with 1 Axes>"
      ]
     },
     "metadata": {
      "needs_background": "light"
     },
     "output_type": "display_data"
    },
    {
     "data": {
      "image/png": "[encoded data removed]",
      "text/plain": [
       "<Figure size 432x288 with 1 Axes>"
      ]
     },
     "metadata": {
      "needs_background": "light"
     },
     "output_type": "display_data"
    }
   ],
   "source": [
    "sanityChecks.discProbVsError(train_data,disc,device)\n",
    "sanityChecks.discProbVsError(test_data,disc,device)"
   ]
  },
  {
   "cell_type": "markdown",
   "id": "130f3a4d",
   "metadata": {
    "papermill": {
     "duration": 0.039268,
     "end_time": "2022-01-14T09:46:29.151861",
     "exception": false,
     "start_time": "2022-01-14T09:46:29.112593",
     "status": "completed"
    },
    "tags": []
   },
   "source": [
    "# ABC - GAN Model with skip connection"
   ]
  },
  {
   "cell_type": "code",
   "execution_count": 15,
   "id": "4e43dad1",
   "metadata": {
    "execution": {
     "iopub.execute_input": "2022-01-14T09:46:29.240056Z",
     "iopub.status.busy": "2022-01-14T09:46:29.239166Z",
     "iopub.status.idle": "2022-01-14T09:46:29.244297Z",
     "shell.execute_reply": "2022-01-14T09:46:29.244884Z"
    },
    "papermill": {
     "duration": 0.053907,
     "end_time": "2022-01-14T09:46:29.245115",
     "exception": false,
     "start_time": "2022-01-14T09:46:29.191208",
     "status": "completed"
    },
    "tags": []
   },
   "outputs": [],
   "source": [
    "#Generator\n",
    "gen3 = network.GeneratorWithSkipConnection(n_features+1).to(device)\n",
    "constraints=network.weightConstraint()\n",
    "#Discriminator \n",
    "disc3 = network.Discriminator(n_features+1).to(device)\n",
    "\n",
    "criterion = torch.nn.BCELoss()\n",
    "gen_opt = torch.optim.Adam(gen3.parameters(), lr=0.01, betas=(0.5, 0.999))\n",
    "disc_opt = torch.optim.Adam(disc3.parameters(), lr=0.01, betas=(0.5, 0.999))\n"
   ]
  },
  {
   "cell_type": "code",
   "execution_count": 16,
   "id": "26acbc37",
   "metadata": {
    "execution": {
     "iopub.execute_input": "2022-01-14T09:46:29.330616Z",
     "iopub.status.busy": "2022-01-14T09:46:29.329976Z",
     "iopub.status.idle": "2022-01-14T10:24:52.375401Z",
     "shell.execute_reply": "2022-01-14T10:24:52.374736Z"
    },
    "papermill": {
     "duration": 2303.088988,
     "end_time": "2022-01-14T10:24:52.375590",
     "exception": false,
     "start_time": "2022-01-14T09:46:29.286602",
     "status": "completed"
    },
    "tags": []
   },
   "outputs": [
    {
     "data": {
      "image/png": "[encoded data removed]",
      "text/plain": [
       "<Figure size 432x288 with 1 Axes>"
      ]
     },
     "metadata": {
      "needs_background": "light"
     },
     "output_type": "display_data"
    },
    {
     "data": {
      "image/png": "[encoded data removed]",
      "text/plain": [
       "<Figure size 432x288 with 1 Axes>"
      ]
     },
     "metadata": {
      "needs_background": "light"
     },
     "output_type": "display_data"
    }
   ],
   "source": [
    "ABC_train_test2.training_GAN_skip_connection(disc3,gen3,disc_opt,gen_opt,train_data,batch_size,n_epochs,criterion,prior_model,variance,device)\n"
   ]
  },
  {
   "cell_type": "code",
   "execution_count": 17,
   "id": "c5e0717b",
   "metadata": {
    "execution": {
     "iopub.execute_input": "2022-01-14T10:24:52.468797Z",
     "iopub.status.busy": "2022-01-14T10:24:52.467653Z",
     "iopub.status.idle": "2022-01-14T10:24:54.459981Z",
     "shell.execute_reply": "2022-01-14T10:24:54.459404Z"
    },
    "papermill": {
     "duration": 2.040266,
     "end_time": "2022-01-14T10:24:54.460124",
     "exception": false,
     "start_time": "2022-01-14T10:24:52.419858",
     "status": "completed"
    },
    "tags": []
   },
   "outputs": [
    {
     "data": {
      "application/scrapbook.scrap.json+json": {
       "data": 0.12612659237351434,
       "encoder": "json",
       "name": "ABC-GAN Model 3 MSE",
       "version": 1
      }
     },
     "metadata": {
      "scrapbook": {
       "data": true,
       "display": false,
       "name": "ABC-GAN Model 3 MSE"
      }
     },
     "output_type": "display_data"
    },
    {
     "data": {
      "application/scrapbook.scrap.json+json": {
       "data": 0.23565308009146477,
       "encoder": "json",
       "name": "ABC-GAN Model 3 MAE",
       "version": 1
      }
     },
     "metadata": {
      "scrapbook": {
       "data": true,
       "display": false,
       "name": "ABC-GAN Model 3 MAE"
      }
     },
     "output_type": "display_data"
    },
    {
     "data": {
      "application/scrapbook.scrap.json+json": {
       "data": 24.036614169329404,
       "encoder": "json",
       "name": "ABC-GAN Model 3 Manhattan Distance",
       "version": 1
      }
     },
     "metadata": {
      "scrapbook": {
       "data": true,
       "display": false,
       "name": "ABC-GAN Model 3 Manhattan Distance"
      }
     },
     "output_type": "display_data"
    },
    {
     "data": {
      "application/scrapbook.scrap.json+json": {
       "data": 3.5867555492216083,
       "encoder": "json",
       "name": "ABC-GAN Model 3 Euclidean distance",
       "version": 1
      }
     },
     "metadata": {
      "scrapbook": {
       "data": true,
       "display": false,
       "name": "ABC-GAN Model 3 Euclidean distance"
      }
     },
     "output_type": "display_data"
    },
    {
     "data": {
      "application/scrapbook.scrap.json+json": {
       "data": [
        [
         0.125341891435425,
         0.12534293328806445,
         0.1258240938365803,
         0.12571777474668613,
         0.12524949500594967,
         0.12629921699205235,
         0.12535012427065037,
         0.12643515402959374,
         0.12627579721262402,
         0.12572522674179776,
         0.12701990670890967,
         0.12568238291348918,
         0.1258650661970412,
         0.12595403484793763,
         0.1270416314236148,
         0.12690320947614317,
         0.1263656059622375,
         0.1263116176584469,
         0.12621801701757734,
         0.12667423661682528,
         0.1257399885282366,
         0.12528790214025656,
         0.1257774373795383,
         0.1267799247216389,
         0.1257477891278348,
         0.12717152625508155,
         0.12615952746929895,
         0.12691351201804196,
         0.12581756129330238,
         0.12607301186627043,
         0.12485727781885457,
         0.12673950975075784,
         0.12608265156569295,
         0.12581995666516663,
         0.12470800460559822,
         0.12580733550507647,
         0.12612543498960768,
         0.12485647728514779,
         0.12654497985852572,
         0.12523069280996552,
         0.1261692398271375,
         0.1262299769427927,
         0.126078644515096,
         0.1261841435092607,
         0.1256753354319089,
         0.12612293473318098,
         0.12544685607635217,
         0.12664034784515563,
         0.1254255460852874,
         0.127262862987658,
         0.125564927122043,
         0.12689645113168457,
         0.12685506481417824,
         0.1266155098793327,
         0.1261615943861741,
         0.12594349090810456,
         0.12744808382591388,
         0.12583197754246,
         0.12424069514555022,
         0.12633263451035814,
         0.12696004548964482,
         0.1263161931878223,
         0.12592359730174477,
         0.12565629403908662,
         0.12560549048826247,
         0.12502771067145416,
         0.12598936188157964,
         0.12742954050398025,
         0.12616967677597887,
         0.12660918042953617,
         0.12544448492036286,
         0.12599229594686226,
         0.12728408548267225,
         0.1265693916529917,
         0.1272879405646747,
         0.12764316150312963,
         0.1259608578704673,
         0.12747960659965332,
         0.12501204652541587,
         0.12611067412342714,
         0.12494140154992209,
         0.12610395127262664,
         0.12584191386181753,
         0.12628377715912661,
         0.12622645281846517,
         0.12590452392400758,
         0.1263448167278457,
         0.12769909956496112,
         0.12532346348773996,
         0.12665614963456273,
         0.1259993197345525,
         0.12571411643111413,
         0.1260489582511486,
         0.12655895897274402,
         0.12594820397452045,
         0.12761425691037903,
         0.12660353630374363,
         0.1262135316197839,
         0.12596698100620352,
         0.12522995293225356
        ],
        [
         0.23432873456063225,
         0.23521264775783993,
         0.23629397077157216,
         0.2350930427109786,
         0.23469060575406925,
         0.23536507484010039,
         0.23506604105818504,
         0.23559139024320186,
         0.23574285788059818,
         0.2347912111995267,
         0.2361931980167534,
         0.2346996550137798,
         0.23618459511621326,
         0.23437119227852307,
         0.23687856622478543,
         0.23503451690296917,
         0.2361015268765828,
         0.23590243737414188,
         0.23674303963415178,
         0.23691653520526254,
         0.23474565418619736,
         0.2352088588089043,
         0.2356774439560432,
         0.2359578044464191,
         0.23483451864883012,
         0.23549976269258002,
         0.23554321849609122,
         0.2343460195606538,
         0.2363464416132546,
         0.23632344033788233,
         0.23557409306294194,
         0.2358868716138543,
         0.2346271878911876,
         0.2345772248638027,
         0.23560869666364262,
         0.2356441008000105,
         0.2352767579951415,
         0.23452787411709627,
         0.2366635426696317,
         0.23353696141538083,
         0.23586003502429115,
         0.23338542067829302,
         0.23574093254465683,
         0.23479036753084145,
         0.2363366861371141,
         0.2363494784370357,
         0.2356247004377199,
         0.2369742102592307,
         0.23639772255338876,
         0.23687230487007135,
         0.23544155424643382,
         0.23449843864449682,
         0.23600307596372624,
         0.23582907165309377,
         0.23689498714006998,
         0.23538843783385613,
         0.23663794105032496,
         0.23545060708534485,
         0.23369944782233706,
         0.2349118035761457,
         0.23626552578792268,
         0.23546108895657109,
         0.23490337465031474,
         0.23418968152620045,
         0.23520884892958052,
         0.23595362565681047,
         0.2360166091033641,
         0.23643661604500285,
         0.2356243215537831,
         0.23713749623400907,
         0.23476856243887953,
         0.23544521476416028,
         0.23610242704550424,
         0.23654216489590266,
         0.235962963133466,
         0.23725640421331512,
         0.23581028536108195,
         0.2367309062358211,
         0.2341646563407837,
         0.23701876312421233,
         0.23651813233599944,
         0.23574341890201264,
         0.23566675427205422,
         0.23532164889369525,
         0.23542679689240223,
         0.23534853082588492,
         0.23526629396513396,
         0.23694378121153398,
         0.23494569440463595,
         0.23592947142235204,
         0.2358599916356159,
         0.23572886443021251,
         0.23543705150265903,
         0.23751352082791866,
         0.23642784426463584,
         0.23762618518416204,
         0.23662159951659395,
         0.23614167440317424,
         0.23520038801007995,
         0.23394629350114687
        ],
        [
         23.90153092518449,
         23.991690071299672,
         24.10198501870036,
         23.97949035651982,
         23.938441786915064,
         24.007237633690238,
         23.976736187934875,
         24.03032180480659,
         24.045771503821015,
         23.948703542351723,
         24.091706197708845,
         23.93936481140554,
         24.090828701853752,
         23.905861612409353,
         24.161613754928112,
         23.973520724102855,
         24.082355741411448,
         24.06204861216247,
         24.147790042683482,
         24.16548659093678,
         23.94405672699213,
         23.99130359850824,
         24.039099283516407,
         24.067696053534746,
         23.95312090218067,
         24.020975794643164,
         24.025408286601305,
         23.903293995186687,
         24.10733704455197,
         24.104990914463997,
         24.028557492420077,
         24.060460904613137,
         23.931973164901137,
         23.926876936107874,
         24.03208705969155,
         24.03569828160107,
         23.99822931550443,
         23.92184315994382,
         24.139681352302432,
         23.820770064368844,
         24.0577235724777,
         23.805312909185886,
         24.045575119554996,
         23.94861748814583,
         24.106341985985637,
         24.10764680057764,
         24.03371944464743,
         24.17136944644153,
         24.112567700445652,
         24.16097509674728,
         24.01503853313625,
         23.918840741738677,
         24.072313748300076,
         24.054565308615565,
         24.16328868828714,
         24.009620659053326,
         24.137069987133145,
         24.015961922705173,
         23.83734367787838,
         23.96100396476686,
         24.099083630368114,
         24.01703107357025,
         23.960144214332104,
         23.887347515672445,
         23.991302590817213,
         24.067269816994667,
         24.07369412854314,
         24.11653483659029,
         24.033680798485875,
         24.188024615868926,
         23.946393368765712,
         24.015411905944347,
         24.082447558641434,
         24.12730081938207,
         24.068222239613533,
         24.200153229758143,
         24.05264910683036,
         24.146552436053753,
         23.88479494675994,
         24.175913838669658,
         24.124849498271942,
         24.04582872800529,
         24.03800893574953,
         24.002808187156916,
         24.013533283025026,
         24.00555014424026,
         23.997161984443665,
         24.168265683576465,
         23.964460829272866,
         24.06480608507991,
         24.057719146832824,
         24.044344171881676,
         24.014579253271222,
         24.226379124447703,
         24.115640114992857,
         24.237870888784528,
         24.135403150692582,
         24.086450789123774,
         23.990439577028155,
         23.86252193711698
        ],
        [
         3.57559406622359,
         3.5756089265162334,
         3.582465292411245,
         3.5809514132646347,
         3.5742759393486767,
         3.5892227756422885,
         3.5757114922216995,
         3.5911538133333356,
         3.588889983781565,
         3.581057543193542,
         3.599448636153707,
         3.5804473264071204,
         3.583048527734197,
         3.5843146561776122,
         3.5997564369285735,
         3.5977947921701428,
         3.590165986155545,
         3.5893989749206723,
         3.5880688031018693,
         3.5945475563575697,
         3.581267768525571,
         3.5748239143076916,
         3.5818010291908875,
         3.596046762989487,
         3.5813788533243933,
         3.6015962680481435,
         3.5872373495307626,
         3.5979408313423216,
         3.582372293874108,
         3.5860071403107354,
         3.56867515158261,
         3.5954735424665962,
         3.5861442329751143,
         3.5824063951270233,
         3.5665412474512355,
         3.582226712746947,
         3.5867526216537406,
         3.568663711122844,
         3.5927131732953046,
         3.574007647811695,
         3.5873754281323866,
         3.588238794752218,
         3.586087246643588,
         3.5875873003934817,
         3.5803469404590813,
         3.5867170703561855,
         3.5770909018066512,
         3.5940667050300927,
         3.576787063930325,
         3.602889399459982,
         3.578773891495296,
         3.597698988997249,
         3.597112260000538,
         3.5937142356748306,
         3.5872667349097083,
         3.584164626886809,
         3.605510303721681,
         3.582577523143207,
         3.5598526521256635,
         3.589697580584823,
         3.5986003723591993,
         3.5894639857725092,
         3.583881544467948,
         3.580075696404594,
         3.5793519008058943,
         3.571109979892572,
         3.584817277340801,
         3.6052479985995394,
         3.5873816400196183,
         3.593624410509908,
         3.5770570951379868,
         3.5848590190661533,
         3.603189797836435,
         3.5930596917676096,
         3.6032443627371173,
         3.608268625437859,
         3.5844117373409627,
         3.6059561662844213,
         3.5708862689243426,
         3.5865427309025,
         3.569877162885587,
         3.586447131885247,
         3.5827189694288584,
         3.589003381195247,
         3.588188705668007,
         3.5836101127562374,
         3.589870653135048,
         3.6090591787370325,
         3.5753312120346936,
         3.5942909262781435,
         3.5849589415953362,
         3.5808993110633036,
         3.5856650347762757,
         3.592911606931053,
         3.584231689693215,
         3.607860058935027,
         3.593544309311052,
         3.588005048103745,
         3.5844988579483124,
         3.573997089966619
        ]
       ],
       "encoder": "json",
       "name": "ABC_GAN_3 Metrics",
       "version": 1
      }
     },
     "metadata": {
      "scrapbook": {
       "data": true,
       "display": false,
       "name": "ABC_GAN_3 Metrics"
      }
     },
     "output_type": "display_data"
    }
   ],
   "source": [
    "ABC_GAN3_metrics=ABC_train_test2.test_generator(gen3,test_data,prior_model,variance,\"3\",device)\n",
    "sb.glue(\"ABC_GAN_3 Metrics\",ABC_GAN3_metrics)"
   ]
  },
  {
   "cell_type": "code",
   "execution_count": 18,
   "id": "c8e46b48",
   "metadata": {
    "execution": {
     "iopub.execute_input": "2022-01-14T10:24:54.557358Z",
     "iopub.status.busy": "2022-01-14T10:24:54.556766Z",
     "iopub.status.idle": "2022-01-14T10:24:55.450921Z",
     "shell.execute_reply": "2022-01-14T10:24:55.450115Z"
    },
    "papermill": {
     "duration": 0.943605,
     "end_time": "2022-01-14T10:24:55.451071",
     "exception": false,
     "start_time": "2022-01-14T10:24:54.507466",
     "status": "completed"
    },
    "tags": []
   },
   "outputs": [
    {
     "data": {
      "image/png": "[encoded data removed]",
      "text/plain": [
       "<Figure size 432x288 with 1 Axes>"
      ]
     },
     "metadata": {
      "needs_background": "light"
     },
     "output_type": "display_data"
    },
    {
     "data": {
      "image/png": "[encoded data removed]",
      "text/plain": [
       "<Figure size 432x288 with 1 Axes>"
      ]
     },
     "metadata": {
      "needs_background": "light"
     },
     "output_type": "display_data"
    },
    {
     "data": {
      "image/png": "[encoded data removed]",
      "text/plain": [
       "<Figure size 432x288 with 1 Axes>"
      ]
     },
     "metadata": {
      "needs_background": "light"
     },
     "output_type": "display_data"
    },
    {
     "data": {
      "image/png": "[encoded data removed]",
      "text/plain": [
       "<Figure size 432x288 with 1 Axes>"
      ]
     },
     "metadata": {
      "needs_background": "light"
     },
     "output_type": "display_data"
    }
   ],
   "source": [
    "sanityChecks.discProbVsError(train_data,disc,device)\n",
    "sanityChecks.discProbVsError(test_data,disc3,device)"
   ]
  },
  {
   "cell_type": "markdown",
   "id": "a5bd74c3",
   "metadata": {
    "papermill": {
     "duration": 0.051301,
     "end_time": "2022-01-14T10:24:55.553263",
     "exception": false,
     "start_time": "2022-01-14T10:24:55.501962",
     "status": "completed"
    },
    "tags": []
   },
   "source": [
    "## Skip Connection Model Analysis - ABC-GAN "
   ]
  },
  {
   "cell_type": "markdown",
   "id": "5744a8bf",
   "metadata": {
    "papermill": {
     "duration": 0.050827,
     "end_time": "2022-01-14T10:24:55.653760",
     "exception": false,
     "start_time": "2022-01-14T10:24:55.602933",
     "status": "completed"
    },
    "tags": []
   },
   "source": [
    "### Weight Analysis \n",
    "\n",
    "Study the weights of the skip connection layer\n",
    "\n",
    "Equation of the skip connection is \n",
    "\n",
    "$output = y_{gan} * w + y_{abc} * (1-w)$"
   ]
  },
  {
   "cell_type": "code",
   "execution_count": 19,
   "id": "52c31dea",
   "metadata": {
    "execution": {
     "iopub.execute_input": "2022-01-14T10:24:55.759577Z",
     "iopub.status.busy": "2022-01-14T10:24:55.758859Z",
     "iopub.status.idle": "2022-01-14T10:24:55.770506Z",
     "shell.execute_reply": "2022-01-14T10:24:55.770019Z"
    },
    "papermill": {
     "duration": 0.066541,
     "end_time": "2022-01-14T10:24:55.770638",
     "exception": false,
     "start_time": "2022-01-14T10:24:55.704097",
     "status": "completed"
    },
    "tags": []
   },
   "outputs": [
    {
     "name": "stdout",
     "output_type": "stream",
     "text": [
      "Weight of the node at skip connection\n",
      "Parameter containing:\n",
      "tensor([[0.0036]], device='cuda:0', requires_grad=True)\n"
     ]
    },
    {
     "data": {
      "application/scrapbook.scrap.json+json": {
       "data": 0.0036201959010213614,
       "encoder": "json",
       "name": "Skip Connection Weight",
       "version": 1
      }
     },
     "metadata": {
      "scrapbook": {
       "data": true,
       "display": false,
       "name": "Skip Connection Weight"
      }
     },
     "output_type": "display_data"
    }
   ],
   "source": [
    "print(\"Weight of the node at skip connection\")\n",
    "for name,param in gen3.named_parameters():\n",
    "    if(name == \"skipNode.weight\"):\n",
    "        print(param)\n",
    "        sb.glue(\"Skip Connection Weight\",param.item())"
   ]
  }
 ],
 "metadata": {
  "interpreter": {
   "hash": "10498c76ddd8160350534c6544a2b2fb65f2138dbc70420f7c81a3268f830f23"
  },
  "kernelspec": {
   "display_name": "papermill-tutorial",
   "language": "python",
   "name": "python3"
  },
  "language_info": {
   "codemirror_mode": {
    "name": "ipython",
    "version": 3
   },
   "file_extension": ".py",
   "mimetype": "text/x-python",
   "name": "python",
   "nbconvert_exporter": "python",
   "pygments_lexer": "ipython3",
   "version": "3.7.12"
  },
  "papermill": {
   "default_parameters": {},
   "duration": 2658.190949,
   "end_time": "2022-01-14T10:24:56.535433",
   "environment_variables": {},
   "exception": null,
   "input_path": "ABC_GAN_Model-Catboost_Pre-gen.ipynb",
   "output_path": "./ABC_GAN_Output/ABC-GAN_output_2_2.ipynb",
   "parameters": {
    "variance": 0.01
   },
   "start_time": "2022-01-14T09:40:38.344484",
   "version": "2.3.3"
  }
 },
 "nbformat": 4,
 "nbformat_minor": 5
}