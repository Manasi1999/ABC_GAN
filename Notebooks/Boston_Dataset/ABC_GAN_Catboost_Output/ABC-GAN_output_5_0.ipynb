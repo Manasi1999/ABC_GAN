{
 "cells": [
  {
   "cell_type": "markdown",
   "id": "622780e6",
   "metadata": {
    "papermill": {
     "duration": 0.026837,
     "end_time": "2022-01-14T14:41:25.728751",
     "exception": false,
     "start_time": "2022-01-14T14:41:25.701914",
     "status": "completed"
    },
    "tags": []
   },
   "source": [
    "## Import Libraries "
   ]
  },
  {
   "cell_type": "code",
   "execution_count": 1,
   "id": "a62397e3",
   "metadata": {
    "execution": {
     "iopub.execute_input": "2022-01-14T14:41:25.781650Z",
     "iopub.status.busy": "2022-01-14T14:41:25.781061Z",
     "iopub.status.idle": "2022-01-14T14:41:25.784150Z",
     "shell.execute_reply": "2022-01-14T14:41:25.783618Z"
    },
    "papermill": {
     "duration": 0.032217,
     "end_time": "2022-01-14T14:41:25.784282",
     "exception": false,
     "start_time": "2022-01-14T14:41:25.752065",
     "status": "completed"
    },
    "tags": []
   },
   "outputs": [],
   "source": [
    "import warnings\n",
    "import sys\n",
    "sys.path.insert(0, '../../src')\n",
    "warnings.filterwarnings('ignore')"
   ]
  },
  {
   "cell_type": "code",
   "execution_count": 2,
   "id": "d6a4e155",
   "metadata": {
    "execution": {
     "iopub.execute_input": "2022-01-14T14:41:25.837923Z",
     "iopub.status.busy": "2022-01-14T14:41:25.836998Z",
     "iopub.status.idle": "2022-01-14T14:41:27.442619Z",
     "shell.execute_reply": "2022-01-14T14:41:27.442056Z"
    },
    "papermill": {
     "duration": 1.635137,
     "end_time": "2022-01-14T14:41:27.442774",
     "exception": false,
     "start_time": "2022-01-14T14:41:25.807637",
     "status": "completed"
    },
    "tags": []
   },
   "outputs": [],
   "source": [
    "import ABC_train_test2\n",
    "import bostonDataset\n",
    "import network\n",
    "import dataset\n",
    "import sanityChecks\n",
    "import performanceMetrics\n",
    "import torch \n",
    "from torch.utils.data import random_split \n",
    "import scrapbook as sb\n",
    "from statistics import mean \n",
    "import catboost as ctb \n",
    "from sklearn.model_selection import train_test_split\n",
    "from sklearn.metrics import mean_squared_error\n",
    "import numpy as np"
   ]
  },
  {
   "cell_type": "markdown",
   "id": "2fa5b0f7",
   "metadata": {
    "papermill": {
     "duration": 0.023402,
     "end_time": "2022-01-14T14:41:27.490427",
     "exception": false,
     "start_time": "2022-01-14T14:41:27.467025",
     "status": "completed"
    },
    "tags": []
   },
   "source": [
    "## Parameters "
   ]
  },
  {
   "cell_type": "code",
   "execution_count": 3,
   "id": "783186fb",
   "metadata": {
    "execution": {
     "iopub.execute_input": "2022-01-14T14:41:27.540372Z",
     "iopub.status.busy": "2022-01-14T14:41:27.539807Z",
     "iopub.status.idle": "2022-01-14T14:41:27.542608Z",
     "shell.execute_reply": "2022-01-14T14:41:27.542020Z"
    },
    "papermill": {
     "duration": 0.029216,
     "end_time": "2022-01-14T14:41:27.542728",
     "exception": false,
     "start_time": "2022-01-14T14:41:27.513512",
     "status": "completed"
    },
    "tags": [
     "parameters"
    ]
   },
   "outputs": [],
   "source": [
    "variance = 1"
   ]
  },
  {
   "cell_type": "code",
   "execution_count": 4,
   "id": "d8af0d1d",
   "metadata": {
    "execution": {
     "iopub.execute_input": "2022-01-14T14:41:27.592017Z",
     "iopub.status.busy": "2022-01-14T14:41:27.591434Z",
     "iopub.status.idle": "2022-01-14T14:41:27.594378Z",
     "shell.execute_reply": "2022-01-14T14:41:27.593797Z"
    },
    "papermill": {
     "duration": 0.029159,
     "end_time": "2022-01-14T14:41:27.594523",
     "exception": false,
     "start_time": "2022-01-14T14:41:27.565364",
     "status": "completed"
    },
    "tags": [
     "injected-parameters"
    ]
   },
   "outputs": [],
   "source": [
    "# Parameters\n",
    "variance = 1\n"
   ]
  },
  {
   "cell_type": "markdown",
   "id": "391cdbfd",
   "metadata": {
    "papermill": {
     "duration": 0.023559,
     "end_time": "2022-01-14T14:41:27.661260",
     "exception": false,
     "start_time": "2022-01-14T14:41:27.637701",
     "status": "completed"
    },
    "tags": []
   },
   "source": [
    "## Dataset - Boston Housing "
   ]
  },
  {
   "cell_type": "code",
   "execution_count": 5,
   "id": "5b51f161",
   "metadata": {
    "execution": {
     "iopub.execute_input": "2022-01-14T14:41:27.712408Z",
     "iopub.status.busy": "2022-01-14T14:41:27.711716Z",
     "iopub.status.idle": "2022-01-14T14:41:27.714725Z",
     "shell.execute_reply": "2022-01-14T14:41:27.714183Z"
    },
    "papermill": {
     "duration": 0.030508,
     "end_time": "2022-01-14T14:41:27.714851",
     "exception": false,
     "start_time": "2022-01-14T14:41:27.684343",
     "status": "completed"
    },
    "tags": []
   },
   "outputs": [],
   "source": [
    "#Parameters \n",
    "n_features = 13\n",
    "n_samples= 506\n",
    "n_target = 1 "
   ]
  },
  {
   "cell_type": "code",
   "execution_count": 6,
   "id": "5d6eced4",
   "metadata": {
    "execution": {
     "iopub.execute_input": "2022-01-14T14:41:27.765576Z",
     "iopub.status.busy": "2022-01-14T14:41:27.764942Z",
     "iopub.status.idle": "2022-01-14T14:41:27.799230Z",
     "shell.execute_reply": "2022-01-14T14:41:27.798668Z"
    },
    "papermill": {
     "duration": 0.060752,
     "end_time": "2022-01-14T14:41:27.799379",
     "exception": false,
     "start_time": "2022-01-14T14:41:27.738627",
     "status": "completed"
    },
    "tags": []
   },
   "outputs": [
    {
     "name": "stdout",
     "output_type": "stream",
     "text": [
      "         X1        X2        X3        X4        X5        X6        X7        X8        X9       X10       X11       X12       X13         Y\n",
      "0 -0.419782  0.284830 -1.287909 -0.272599 -0.144217  0.413672 -0.120013  0.140214 -0.982843 -0.666608 -1.459000  0.441052 -1.075562  0.159686\n",
      "1 -0.417339 -0.487722 -0.593381 -0.272599 -0.740262  0.194274  0.367166  0.557160 -0.867883 -0.987329 -0.303094  0.441052 -0.492439 -0.101524\n",
      "2 -0.417342 -0.487722 -0.593381 -0.272599 -0.740262  1.282714 -0.265812  0.557160 -0.867883 -0.987329 -0.303094  0.396427 -1.208727  1.324247\n",
      "3 -0.416750 -0.487722 -1.306878 -0.272599 -0.835284  1.016303 -0.809889  1.077737 -0.752922 -1.106115  0.113032  0.416163 -1.361517  1.182758\n",
      "4 -0.412482 -0.487722 -1.306878 -0.272599 -0.835284  1.228577 -0.511180  1.077737 -0.752922 -1.106115  0.113032  0.441052 -1.026501  1.487503\n"
     ]
    }
   ],
   "source": [
    "X,Y = bostonDataset.boston_data()"
   ]
  },
  {
   "cell_type": "code",
   "execution_count": 7,
   "id": "fe007438",
   "metadata": {
    "execution": {
     "iopub.execute_input": "2022-01-14T14:41:27.851902Z",
     "iopub.status.busy": "2022-01-14T14:41:27.851191Z",
     "iopub.status.idle": "2022-01-14T14:41:27.854701Z",
     "shell.execute_reply": "2022-01-14T14:41:27.854130Z"
    },
    "papermill": {
     "duration": 0.030914,
     "end_time": "2022-01-14T14:41:27.854812",
     "exception": false,
     "start_time": "2022-01-14T14:41:27.823898",
     "status": "completed"
    },
    "tags": []
   },
   "outputs": [],
   "source": [
    "#Train test split for dataset \n",
    "X_train,X_test,Y_train,Y_test = train_test_split(X,Y,test_size = 0.2)\n",
    "train_data = dataset.CustomDataset(X_train,Y_train)\n",
    "test_data = dataset.CustomDataset(X_test,Y_test)\n"
   ]
  },
  {
   "cell_type": "markdown",
   "id": "a9a1af34",
   "metadata": {
    "papermill": {
     "duration": 0.023473,
     "end_time": "2022-01-14T14:41:27.904605",
     "exception": false,
     "start_time": "2022-01-14T14:41:27.881132",
     "status": "completed"
    },
    "tags": []
   },
   "source": [
    "## Training Parameters \n",
    "\n"
   ]
  },
  {
   "cell_type": "code",
   "execution_count": 8,
   "id": "952b7fc8",
   "metadata": {
    "execution": {
     "iopub.execute_input": "2022-01-14T14:41:27.974942Z",
     "iopub.status.busy": "2022-01-14T14:41:27.974255Z",
     "iopub.status.idle": "2022-01-14T14:41:27.976771Z",
     "shell.execute_reply": "2022-01-14T14:41:27.977297Z"
    },
    "papermill": {
     "duration": 0.049877,
     "end_time": "2022-01-14T14:41:27.977531",
     "exception": false,
     "start_time": "2022-01-14T14:41:27.927654",
     "status": "completed"
    },
    "tags": []
   },
   "outputs": [],
   "source": [
    "batch_size = 64\n",
    "n_epochs = 5000\n",
    "#Select the device \n",
    "device = torch.device('cuda' if torch.cuda.is_available() else 'cpu')"
   ]
  },
  {
   "cell_type": "markdown",
   "id": "a95e1600",
   "metadata": {
    "papermill": {
     "duration": 0.024866,
     "end_time": "2022-01-14T14:41:28.027930",
     "exception": false,
     "start_time": "2022-01-14T14:41:28.003064",
     "status": "completed"
    },
    "tags": []
   },
   "source": [
    "# ABC Pre-generator Model \n",
    "\n",
    "1. The catboost model is used as a pre-generator model for the ABC-GAN. \n",
    "2. The model is first trained on the train dataset \n",
    "3. It generats X,Y pairs and we add some Gaussian noise with mean 0 and variance V (1,0.01,0.1) to it which is then feed as input to the generator.\n"
   ]
  },
  {
   "cell_type": "code",
   "execution_count": 9,
   "id": "ff8ce7bd",
   "metadata": {
    "execution": {
     "iopub.execute_input": "2022-01-14T14:41:28.100016Z",
     "iopub.status.busy": "2022-01-14T14:41:28.093816Z",
     "iopub.status.idle": "2022-01-14T14:41:29.833960Z",
     "shell.execute_reply": "2022-01-14T14:41:29.833439Z"
    },
    "papermill": {
     "duration": 1.781399,
     "end_time": "2022-01-14T14:41:29.834104",
     "exception": false,
     "start_time": "2022-01-14T14:41:28.052705",
     "status": "completed"
    },
    "tags": []
   },
   "outputs": [
    {
     "name": "stdout",
     "output_type": "stream",
     "text": [
      "Learning rate set to 0.03548\n",
      "0:\tlearn: 0.9476466\ttotal: 48.2ms\tremaining: 48.1s\n",
      "1:\tlearn: 0.9279209\ttotal: 49.3ms\tremaining: 24.6s\n",
      "2:\tlearn: 0.9075104\ttotal: 50.3ms\tremaining: 16.7s\n",
      "3:\tlearn: 0.8909497\ttotal: 51.4ms\tremaining: 12.8s\n",
      "4:\tlearn: 0.8742922\ttotal: 52.4ms\tremaining: 10.4s\n",
      "5:\tlearn: 0.8570174\ttotal: 53.4ms\tremaining: 8.84s\n",
      "6:\tlearn: 0.8408368\ttotal: 54.4ms\tremaining: 7.72s\n",
      "7:\tlearn: 0.8245963\ttotal: 55.3ms\tremaining: 6.86s\n",
      "8:\tlearn: 0.8094011\ttotal: 56.4ms\tremaining: 6.21s\n",
      "9:\tlearn: 0.7931708\ttotal: 57.5ms\tremaining: 5.69s\n",
      "10:\tlearn: 0.7781215\ttotal: 58.4ms\tremaining: 5.25s\n",
      "11:\tlearn: 0.7635619\ttotal: 59.3ms\tremaining: 4.88s\n",
      "12:\tlearn: 0.7489316\ttotal: 60.4ms\tremaining: 4.58s\n",
      "13:\tlearn: 0.7342226\ttotal: 61.4ms\tremaining: 4.33s\n",
      "14:\tlearn: 0.7219144\ttotal: 62.4ms\tremaining: 4.1s\n",
      "15:\tlearn: 0.7080754\ttotal: 63.4ms\tremaining: 3.9s\n",
      "16:\tlearn: 0.6955423\ttotal: 64.5ms\tremaining: 3.73s\n",
      "17:\tlearn: 0.6847886\ttotal: 65.5ms\tremaining: 3.58s\n",
      "18:\tlearn: 0.6733026\ttotal: 66.6ms\tremaining: 3.44s\n",
      "19:\tlearn: 0.6615185\ttotal: 67.7ms\tremaining: 3.31s\n",
      "20:\tlearn: 0.6485752\ttotal: 68.7ms\tremaining: 3.2s\n",
      "21:\tlearn: 0.6389169\ttotal: 69.6ms\tremaining: 3.09s\n",
      "22:\tlearn: 0.6287360\ttotal: 70.5ms\tremaining: 3s\n",
      "23:\tlearn: 0.6195876\ttotal: 71.6ms\tremaining: 2.91s\n",
      "24:\tlearn: 0.6102525\ttotal: 72.7ms\tremaining: 2.84s\n",
      "25:\tlearn: 0.6019775\ttotal: 73.8ms\tremaining: 2.77s\n",
      "26:\tlearn: 0.5936648\ttotal: 74.9ms\tremaining: 2.7s\n",
      "27:\tlearn: 0.5858491\ttotal: 76ms\tremaining: 2.64s\n",
      "28:\tlearn: 0.5776571\ttotal: 77.1ms\tremaining: 2.58s\n",
      "29:\tlearn: 0.5691485\ttotal: 78.1ms\tremaining: 2.52s\n",
      "30:\tlearn: 0.5612688\ttotal: 79.2ms\tremaining: 2.48s\n",
      "31:\tlearn: 0.5537946\ttotal: 80.2ms\tremaining: 2.42s\n",
      "32:\tlearn: 0.5470279\ttotal: 81.3ms\tremaining: 2.38s\n",
      "33:\tlearn: 0.5404635\ttotal: 82.5ms\tremaining: 2.34s\n",
      "34:\tlearn: 0.5337746\ttotal: 83.5ms\tremaining: 2.3s\n",
      "35:\tlearn: 0.5268459\ttotal: 84.5ms\tremaining: 2.26s\n",
      "36:\tlearn: 0.5212464\ttotal: 85.6ms\tremaining: 2.23s\n",
      "37:\tlearn: 0.5147984\ttotal: 86.5ms\tremaining: 2.19s\n",
      "38:\tlearn: 0.5080286\ttotal: 87.6ms\tremaining: 2.16s\n",
      "39:\tlearn: 0.5009729\ttotal: 88.6ms\tremaining: 2.13s\n",
      "40:\tlearn: 0.4945132\ttotal: 89.6ms\tremaining: 2.1s\n",
      "41:\tlearn: 0.4875622\ttotal: 90.6ms\tremaining: 2.07s\n",
      "42:\tlearn: 0.4825907\ttotal: 91.7ms\tremaining: 2.04s\n",
      "43:\tlearn: 0.4779263\ttotal: 92.8ms\tremaining: 2.02s\n",
      "44:\tlearn: 0.4724762\ttotal: 93.8ms\tremaining: 1.99s\n",
      "45:\tlearn: 0.4672079\ttotal: 94.8ms\tremaining: 1.97s\n",
      "46:\tlearn: 0.4627890\ttotal: 95.8ms\tremaining: 1.94s\n",
      "47:\tlearn: 0.4572734\ttotal: 96.8ms\tremaining: 1.92s\n",
      "48:\tlearn: 0.4523693\ttotal: 97.8ms\tremaining: 1.9s\n",
      "49:\tlearn: 0.4481611\ttotal: 98.9ms\tremaining: 1.88s\n",
      "50:\tlearn: 0.4433262\ttotal: 99.8ms\tremaining: 1.86s\n",
      "51:\tlearn: 0.4389690\ttotal: 101ms\tremaining: 1.84s\n",
      "52:\tlearn: 0.4344170\ttotal: 102ms\tremaining: 1.82s\n",
      "53:\tlearn: 0.4310792\ttotal: 102ms\tremaining: 1.79s\n",
      "54:\tlearn: 0.4272013\ttotal: 104ms\tremaining: 1.78s\n",
      "55:\tlearn: 0.4232374\ttotal: 105ms\tremaining: 1.76s\n",
      "56:\tlearn: 0.4198451\ttotal: 106ms\tremaining: 1.75s\n",
      "57:\tlearn: 0.4158344\ttotal: 107ms\tremaining: 1.74s\n",
      "58:\tlearn: 0.4127745\ttotal: 108ms\tremaining: 1.72s\n",
      "59:\tlearn: 0.4098684\ttotal: 109ms\tremaining: 1.71s\n",
      "60:\tlearn: 0.4068213\ttotal: 110ms\tremaining: 1.69s\n",
      "61:\tlearn: 0.4035493\ttotal: 111ms\tremaining: 1.68s\n",
      "62:\tlearn: 0.4007292\ttotal: 112ms\tremaining: 1.67s\n",
      "63:\tlearn: 0.3981030\ttotal: 113ms\tremaining: 1.66s\n",
      "64:\tlearn: 0.3943558\ttotal: 114ms\tremaining: 1.65s\n",
      "65:\tlearn: 0.3915783\ttotal: 116ms\tremaining: 1.64s\n",
      "66:\tlearn: 0.3878908\ttotal: 117ms\tremaining: 1.63s\n",
      "67:\tlearn: 0.3852709\ttotal: 119ms\tremaining: 1.63s\n",
      "68:\tlearn: 0.3827980\ttotal: 120ms\tremaining: 1.61s\n",
      "69:\tlearn: 0.3802870\ttotal: 121ms\tremaining: 1.6s\n",
      "70:\tlearn: 0.3772417\ttotal: 122ms\tremaining: 1.59s\n",
      "71:\tlearn: 0.3748342\ttotal: 123ms\tremaining: 1.58s\n",
      "72:\tlearn: 0.3726616\ttotal: 124ms\tremaining: 1.57s\n",
      "73:\tlearn: 0.3691777\ttotal: 125ms\tremaining: 1.56s\n",
      "74:\tlearn: 0.3666513\ttotal: 126ms\tremaining: 1.55s\n",
      "75:\tlearn: 0.3642309\ttotal: 127ms\tremaining: 1.54s\n",
      "76:\tlearn: 0.3616618\ttotal: 128ms\tremaining: 1.54s\n",
      "77:\tlearn: 0.3585796\ttotal: 129ms\tremaining: 1.53s\n",
      "78:\tlearn: 0.3561559\ttotal: 130ms\tremaining: 1.52s\n",
      "79:\tlearn: 0.3538889\ttotal: 131ms\tremaining: 1.51s\n",
      "80:\tlearn: 0.3515286\ttotal: 132ms\tremaining: 1.5s\n",
      "81:\tlearn: 0.3487573\ttotal: 133ms\tremaining: 1.49s\n",
      "82:\tlearn: 0.3466891\ttotal: 134ms\tremaining: 1.48s\n",
      "83:\tlearn: 0.3441789\ttotal: 135ms\tremaining: 1.47s\n",
      "84:\tlearn: 0.3418797\ttotal: 136ms\tremaining: 1.47s\n",
      "85:\tlearn: 0.3391307\ttotal: 137ms\tremaining: 1.46s\n",
      "86:\tlearn: 0.3372454\ttotal: 138ms\tremaining: 1.45s\n",
      "87:\tlearn: 0.3350294\ttotal: 139ms\tremaining: 1.44s\n"
     ]
    },
    {
     "name": "stdout",
     "output_type": "stream",
     "text": [
      "88:\tlearn: 0.3334586\ttotal: 141ms\tremaining: 1.44s\n",
      "89:\tlearn: 0.3308859\ttotal: 142ms\tremaining: 1.44s\n",
      "90:\tlearn: 0.3287789\ttotal: 143ms\tremaining: 1.43s\n",
      "91:\tlearn: 0.3269911\ttotal: 144ms\tremaining: 1.42s\n",
      "92:\tlearn: 0.3255522\ttotal: 145ms\tremaining: 1.41s\n",
      "93:\tlearn: 0.3239144\ttotal: 146ms\tremaining: 1.41s\n",
      "94:\tlearn: 0.3222690\ttotal: 147ms\tremaining: 1.4s\n",
      "95:\tlearn: 0.3216165\ttotal: 148ms\tremaining: 1.39s\n",
      "96:\tlearn: 0.3200741\ttotal: 149ms\tremaining: 1.39s\n",
      "97:\tlearn: 0.3189519\ttotal: 150ms\tremaining: 1.38s\n",
      "98:\tlearn: 0.3178926\ttotal: 151ms\tremaining: 1.37s\n",
      "99:\tlearn: 0.3153593\ttotal: 152ms\tremaining: 1.37s\n",
      "100:\tlearn: 0.3135303\ttotal: 153ms\tremaining: 1.36s\n",
      "101:\tlearn: 0.3114614\ttotal: 154ms\tremaining: 1.35s\n",
      "102:\tlearn: 0.3101857\ttotal: 155ms\tremaining: 1.35s\n",
      "103:\tlearn: 0.3093354\ttotal: 156ms\tremaining: 1.34s\n",
      "104:\tlearn: 0.3079291\ttotal: 157ms\tremaining: 1.34s\n",
      "105:\tlearn: 0.3061007\ttotal: 158ms\tremaining: 1.33s\n",
      "106:\tlearn: 0.3047189\ttotal: 159ms\tremaining: 1.33s\n",
      "107:\tlearn: 0.3024317\ttotal: 160ms\tremaining: 1.32s\n",
      "108:\tlearn: 0.3014035\ttotal: 161ms\tremaining: 1.31s\n",
      "109:\tlearn: 0.3000676\ttotal: 162ms\tremaining: 1.31s\n",
      "110:\tlearn: 0.2989770\ttotal: 163ms\tremaining: 1.3s\n",
      "111:\tlearn: 0.2975100\ttotal: 164ms\tremaining: 1.3s\n",
      "112:\tlearn: 0.2961798\ttotal: 165ms\tremaining: 1.29s\n",
      "113:\tlearn: 0.2946623\ttotal: 166ms\tremaining: 1.29s\n",
      "114:\tlearn: 0.2936875\ttotal: 167ms\tremaining: 1.29s\n",
      "115:\tlearn: 0.2921782\ttotal: 168ms\tremaining: 1.28s\n",
      "116:\tlearn: 0.2907281\ttotal: 169ms\tremaining: 1.28s\n",
      "117:\tlearn: 0.2898478\ttotal: 170ms\tremaining: 1.27s\n",
      "118:\tlearn: 0.2887615\ttotal: 171ms\tremaining: 1.27s\n",
      "119:\tlearn: 0.2880711\ttotal: 173ms\tremaining: 1.26s\n",
      "120:\tlearn: 0.2869614\ttotal: 174ms\tremaining: 1.26s\n",
      "121:\tlearn: 0.2863595\ttotal: 174ms\tremaining: 1.25s\n",
      "122:\tlearn: 0.2854722\ttotal: 175ms\tremaining: 1.25s\n",
      "123:\tlearn: 0.2846583\ttotal: 177ms\tremaining: 1.25s\n",
      "124:\tlearn: 0.2836742\ttotal: 178ms\tremaining: 1.24s\n",
      "125:\tlearn: 0.2824666\ttotal: 179ms\tremaining: 1.24s\n",
      "126:\tlearn: 0.2810481\ttotal: 180ms\tremaining: 1.24s\n",
      "127:\tlearn: 0.2800605\ttotal: 181ms\tremaining: 1.23s\n",
      "128:\tlearn: 0.2788703\ttotal: 182ms\tremaining: 1.23s\n",
      "129:\tlearn: 0.2778344\ttotal: 183ms\tremaining: 1.22s\n",
      "130:\tlearn: 0.2771495\ttotal: 184ms\tremaining: 1.22s\n",
      "131:\tlearn: 0.2758968\ttotal: 185ms\tremaining: 1.22s\n",
      "132:\tlearn: 0.2750841\ttotal: 186ms\tremaining: 1.21s\n",
      "133:\tlearn: 0.2741942\ttotal: 187ms\tremaining: 1.21s\n",
      "134:\tlearn: 0.2733064\ttotal: 188ms\tremaining: 1.21s\n",
      "135:\tlearn: 0.2725556\ttotal: 189ms\tremaining: 1.2s\n",
      "136:\tlearn: 0.2714490\ttotal: 190ms\tremaining: 1.2s\n",
      "137:\tlearn: 0.2707771\ttotal: 192ms\tremaining: 1.2s\n",
      "138:\tlearn: 0.2694699\ttotal: 193ms\tremaining: 1.19s\n",
      "139:\tlearn: 0.2688617\ttotal: 194ms\tremaining: 1.19s\n",
      "140:\tlearn: 0.2677994\ttotal: 195ms\tremaining: 1.19s\n",
      "141:\tlearn: 0.2672691\ttotal: 196ms\tremaining: 1.18s\n",
      "142:\tlearn: 0.2662416\ttotal: 197ms\tremaining: 1.18s\n",
      "143:\tlearn: 0.2656486\ttotal: 198ms\tremaining: 1.18s\n",
      "144:\tlearn: 0.2646435\ttotal: 199ms\tremaining: 1.17s\n",
      "145:\tlearn: 0.2636004\ttotal: 200ms\tremaining: 1.17s\n",
      "146:\tlearn: 0.2633518\ttotal: 201ms\tremaining: 1.17s\n",
      "147:\tlearn: 0.2623345\ttotal: 202ms\tremaining: 1.16s\n",
      "148:\tlearn: 0.2617709\ttotal: 203ms\tremaining: 1.16s\n",
      "149:\tlearn: 0.2612990\ttotal: 205ms\tremaining: 1.16s\n",
      "150:\tlearn: 0.2607277\ttotal: 206ms\tremaining: 1.16s\n",
      "151:\tlearn: 0.2601426\ttotal: 207ms\tremaining: 1.15s\n",
      "152:\tlearn: 0.2595287\ttotal: 208ms\tremaining: 1.15s\n",
      "153:\tlearn: 0.2584310\ttotal: 209ms\tremaining: 1.15s\n",
      "154:\tlearn: 0.2576542\ttotal: 210ms\tremaining: 1.14s\n",
      "155:\tlearn: 0.2566390\ttotal: 211ms\tremaining: 1.14s\n",
      "156:\tlearn: 0.2557478\ttotal: 212ms\tremaining: 1.14s\n",
      "157:\tlearn: 0.2551529\ttotal: 213ms\tremaining: 1.14s\n",
      "158:\tlearn: 0.2546630\ttotal: 214ms\tremaining: 1.13s\n",
      "159:\tlearn: 0.2542124\ttotal: 215ms\tremaining: 1.13s\n",
      "160:\tlearn: 0.2534253\ttotal: 216ms\tremaining: 1.13s\n",
      "161:\tlearn: 0.2528544\ttotal: 217ms\tremaining: 1.12s\n",
      "162:\tlearn: 0.2524919\ttotal: 218ms\tremaining: 1.12s\n",
      "163:\tlearn: 0.2521127\ttotal: 220ms\tremaining: 1.12s\n",
      "164:\tlearn: 0.2513247\ttotal: 221ms\tremaining: 1.11s\n",
      "165:\tlearn: 0.2505721\ttotal: 222ms\tremaining: 1.11s\n",
      "166:\tlearn: 0.2496840\ttotal: 223ms\tremaining: 1.11s\n",
      "167:\tlearn: 0.2488201\ttotal: 224ms\tremaining: 1.11s\n",
      "168:\tlearn: 0.2485096\ttotal: 225ms\tremaining: 1.1s\n",
      "169:\tlearn: 0.2479943\ttotal: 226ms\tremaining: 1.1s\n",
      "170:\tlearn: 0.2474240\ttotal: 227ms\tremaining: 1.1s\n",
      "171:\tlearn: 0.2470143\ttotal: 228ms\tremaining: 1.1s\n",
      "172:\tlearn: 0.2465017\ttotal: 229ms\tremaining: 1.09s\n",
      "173:\tlearn: 0.2463222\ttotal: 230ms\tremaining: 1.09s\n",
      "174:\tlearn: 0.2458365\ttotal: 231ms\tremaining: 1.09s\n",
      "175:\tlearn: 0.2455036\ttotal: 232ms\tremaining: 1.09s\n",
      "176:\tlearn: 0.2451339\ttotal: 233ms\tremaining: 1.08s\n",
      "177:\tlearn: 0.2443397\ttotal: 234ms\tremaining: 1.08s\n",
      "178:\tlearn: 0.2441275\ttotal: 235ms\tremaining: 1.08s\n",
      "179:\tlearn: 0.2432043\ttotal: 236ms\tremaining: 1.08s\n",
      "180:\tlearn: 0.2423780\ttotal: 237ms\tremaining: 1.07s\n",
      "181:\tlearn: 0.2415465\ttotal: 239ms\tremaining: 1.07s\n",
      "182:\tlearn: 0.2409633\ttotal: 240ms\tremaining: 1.07s\n",
      "183:\tlearn: 0.2405708\ttotal: 241ms\tremaining: 1.07s\n",
      "184:\tlearn: 0.2394709\ttotal: 242ms\tremaining: 1.06s\n",
      "185:\tlearn: 0.2389804\ttotal: 243ms\tremaining: 1.06s\n",
      "186:\tlearn: 0.2378506\ttotal: 244ms\tremaining: 1.06s\n",
      "187:\tlearn: 0.2373322\ttotal: 245ms\tremaining: 1.06s\n",
      "188:\tlearn: 0.2368379\ttotal: 246ms\tremaining: 1.05s\n",
      "189:\tlearn: 0.2362702\ttotal: 247ms\tremaining: 1.05s\n",
      "190:\tlearn: 0.2355735\ttotal: 248ms\tremaining: 1.05s\n",
      "191:\tlearn: 0.2349114\ttotal: 249ms\tremaining: 1.05s\n",
      "192:\tlearn: 0.2343203\ttotal: 250ms\tremaining: 1.04s\n",
      "193:\tlearn: 0.2341610\ttotal: 251ms\tremaining: 1.04s\n",
      "194:\tlearn: 0.2336131\ttotal: 252ms\tremaining: 1.04s\n",
      "195:\tlearn: 0.2331467\ttotal: 253ms\tremaining: 1.04s\n",
      "196:\tlearn: 0.2326888\ttotal: 254ms\tremaining: 1.04s\n",
      "197:\tlearn: 0.2324388\ttotal: 255ms\tremaining: 1.03s\n",
      "198:\tlearn: 0.2319852\ttotal: 256ms\tremaining: 1.03s\n",
      "199:\tlearn: 0.2312523\ttotal: 257ms\tremaining: 1.03s\n",
      "200:\tlearn: 0.2304008\ttotal: 258ms\tremaining: 1.03s\n",
      "201:\tlearn: 0.2295812\ttotal: 259ms\tremaining: 1.02s\n",
      "202:\tlearn: 0.2288667\ttotal: 260ms\tremaining: 1.02s\n",
      "203:\tlearn: 0.2281174\ttotal: 261ms\tremaining: 1.02s\n",
      "204:\tlearn: 0.2276055\ttotal: 262ms\tremaining: 1.02s\n",
      "205:\tlearn: 0.2270704\ttotal: 263ms\tremaining: 1.01s\n",
      "206:\tlearn: 0.2268187\ttotal: 264ms\tremaining: 1.01s\n",
      "207:\tlearn: 0.2263539\ttotal: 265ms\tremaining: 1.01s\n",
      "208:\tlearn: 0.2258080\ttotal: 266ms\tremaining: 1.01s\n",
      "209:\tlearn: 0.2251653\ttotal: 267ms\tremaining: 1s\n",
      "210:\tlearn: 0.2248375\ttotal: 268ms\tremaining: 1s\n",
      "211:\tlearn: 0.2243994\ttotal: 269ms\tremaining: 1s\n",
      "212:\tlearn: 0.2240496\ttotal: 270ms\tremaining: 999ms\n",
      "213:\tlearn: 0.2238561\ttotal: 271ms\tremaining: 997ms\n",
      "214:\tlearn: 0.2232802\ttotal: 272ms\tremaining: 995ms\n",
      "215:\tlearn: 0.2230755\ttotal: 273ms\tremaining: 993ms\n",
      "216:\tlearn: 0.2225276\ttotal: 274ms\tremaining: 990ms\n"
     ]
    },
    {
     "name": "stdout",
     "output_type": "stream",
     "text": [
      "217:\tlearn: 0.2220740\ttotal: 275ms\tremaining: 988ms\n",
      "218:\tlearn: 0.2215910\ttotal: 277ms\tremaining: 987ms\n",
      "219:\tlearn: 0.2212757\ttotal: 278ms\tremaining: 984ms\n",
      "220:\tlearn: 0.2209582\ttotal: 279ms\tremaining: 983ms\n",
      "221:\tlearn: 0.2203526\ttotal: 280ms\tremaining: 980ms\n",
      "222:\tlearn: 0.2197753\ttotal: 281ms\tremaining: 978ms\n",
      "223:\tlearn: 0.2193790\ttotal: 282ms\tremaining: 976ms\n",
      "224:\tlearn: 0.2190776\ttotal: 283ms\tremaining: 974ms\n",
      "225:\tlearn: 0.2186518\ttotal: 284ms\tremaining: 972ms\n",
      "226:\tlearn: 0.2180694\ttotal: 285ms\tremaining: 970ms\n",
      "227:\tlearn: 0.2178162\ttotal: 286ms\tremaining: 968ms\n",
      "228:\tlearn: 0.2173414\ttotal: 287ms\tremaining: 966ms\n",
      "229:\tlearn: 0.2168845\ttotal: 288ms\tremaining: 964ms\n",
      "230:\tlearn: 0.2166168\ttotal: 289ms\tremaining: 962ms\n",
      "231:\tlearn: 0.2158408\ttotal: 290ms\tremaining: 960ms\n",
      "232:\tlearn: 0.2154181\ttotal: 291ms\tremaining: 959ms\n",
      "233:\tlearn: 0.2149913\ttotal: 292ms\tremaining: 956ms\n",
      "234:\tlearn: 0.2141943\ttotal: 293ms\tremaining: 955ms\n",
      "235:\tlearn: 0.2138180\ttotal: 294ms\tremaining: 953ms\n",
      "236:\tlearn: 0.2134218\ttotal: 295ms\tremaining: 951ms\n",
      "237:\tlearn: 0.2129890\ttotal: 296ms\tremaining: 948ms\n",
      "238:\tlearn: 0.2127801\ttotal: 297ms\tremaining: 946ms\n",
      "239:\tlearn: 0.2121132\ttotal: 298ms\tremaining: 944ms\n",
      "240:\tlearn: 0.2117910\ttotal: 299ms\tremaining: 942ms\n",
      "241:\tlearn: 0.2115396\ttotal: 300ms\tremaining: 941ms\n",
      "242:\tlearn: 0.2110600\ttotal: 301ms\tremaining: 939ms\n",
      "243:\tlearn: 0.2106978\ttotal: 303ms\tremaining: 937ms\n",
      "244:\tlearn: 0.2102355\ttotal: 304ms\tremaining: 936ms\n",
      "245:\tlearn: 0.2096284\ttotal: 305ms\tremaining: 934ms\n",
      "246:\tlearn: 0.2091769\ttotal: 306ms\tremaining: 932ms\n",
      "247:\tlearn: 0.2088466\ttotal: 307ms\tremaining: 931ms\n",
      "248:\tlearn: 0.2084989\ttotal: 308ms\tremaining: 929ms\n",
      "249:\tlearn: 0.2077579\ttotal: 309ms\tremaining: 928ms\n",
      "250:\tlearn: 0.2073817\ttotal: 310ms\tremaining: 926ms\n",
      "251:\tlearn: 0.2068681\ttotal: 311ms\tremaining: 924ms\n",
      "252:\tlearn: 0.2066276\ttotal: 312ms\tremaining: 922ms\n",
      "253:\tlearn: 0.2059695\ttotal: 314ms\tremaining: 921ms\n",
      "254:\tlearn: 0.2057549\ttotal: 315ms\tremaining: 919ms\n",
      "255:\tlearn: 0.2051562\ttotal: 316ms\tremaining: 918ms\n",
      "256:\tlearn: 0.2047801\ttotal: 317ms\tremaining: 916ms\n",
      "257:\tlearn: 0.2043260\ttotal: 318ms\tremaining: 914ms\n",
      "258:\tlearn: 0.2039818\ttotal: 319ms\tremaining: 913ms\n",
      "259:\tlearn: 0.2037820\ttotal: 320ms\tremaining: 911ms\n",
      "260:\tlearn: 0.2030022\ttotal: 321ms\tremaining: 910ms\n",
      "261:\tlearn: 0.2023122\ttotal: 322ms\tremaining: 908ms\n",
      "262:\tlearn: 0.2018869\ttotal: 323ms\tremaining: 906ms\n",
      "263:\tlearn: 0.2015664\ttotal: 325ms\tremaining: 905ms\n",
      "264:\tlearn: 0.2010263\ttotal: 326ms\tremaining: 904ms\n",
      "265:\tlearn: 0.2007782\ttotal: 327ms\tremaining: 902ms\n",
      "266:\tlearn: 0.2001153\ttotal: 328ms\tremaining: 900ms\n",
      "267:\tlearn: 0.1993568\ttotal: 329ms\tremaining: 898ms\n",
      "268:\tlearn: 0.1991334\ttotal: 330ms\tremaining: 896ms\n",
      "269:\tlearn: 0.1989052\ttotal: 331ms\tremaining: 895ms\n",
      "270:\tlearn: 0.1984334\ttotal: 332ms\tremaining: 893ms\n",
      "271:\tlearn: 0.1979397\ttotal: 333ms\tremaining: 891ms\n",
      "272:\tlearn: 0.1975923\ttotal: 334ms\tremaining: 890ms\n",
      "273:\tlearn: 0.1972624\ttotal: 335ms\tremaining: 888ms\n",
      "274:\tlearn: 0.1969108\ttotal: 336ms\tremaining: 886ms\n",
      "275:\tlearn: 0.1965341\ttotal: 337ms\tremaining: 885ms\n",
      "276:\tlearn: 0.1960571\ttotal: 338ms\tremaining: 883ms\n",
      "277:\tlearn: 0.1953658\ttotal: 339ms\tremaining: 881ms\n",
      "278:\tlearn: 0.1946019\ttotal: 340ms\tremaining: 880ms\n",
      "279:\tlearn: 0.1943842\ttotal: 342ms\tremaining: 878ms\n",
      "280:\tlearn: 0.1940432\ttotal: 343ms\tremaining: 877ms\n",
      "281:\tlearn: 0.1936489\ttotal: 344ms\tremaining: 875ms\n",
      "282:\tlearn: 0.1933554\ttotal: 345ms\tremaining: 874ms\n",
      "283:\tlearn: 0.1928812\ttotal: 346ms\tremaining: 872ms\n",
      "284:\tlearn: 0.1921985\ttotal: 347ms\tremaining: 871ms\n",
      "285:\tlearn: 0.1917524\ttotal: 348ms\tremaining: 870ms\n",
      "286:\tlearn: 0.1913917\ttotal: 349ms\tremaining: 868ms\n",
      "287:\tlearn: 0.1909703\ttotal: 351ms\tremaining: 867ms\n",
      "288:\tlearn: 0.1904067\ttotal: 352ms\tremaining: 865ms\n",
      "289:\tlearn: 0.1897061\ttotal: 353ms\tremaining: 863ms\n",
      "290:\tlearn: 0.1892449\ttotal: 354ms\tremaining: 862ms\n",
      "291:\tlearn: 0.1887617\ttotal: 355ms\tremaining: 860ms\n",
      "292:\tlearn: 0.1883472\ttotal: 356ms\tremaining: 859ms\n",
      "293:\tlearn: 0.1882047\ttotal: 357ms\tremaining: 857ms\n",
      "294:\tlearn: 0.1879274\ttotal: 358ms\tremaining: 855ms\n",
      "295:\tlearn: 0.1876169\ttotal: 359ms\tremaining: 854ms\n",
      "296:\tlearn: 0.1872927\ttotal: 360ms\tremaining: 853ms\n",
      "297:\tlearn: 0.1867825\ttotal: 361ms\tremaining: 851ms\n",
      "298:\tlearn: 0.1863149\ttotal: 362ms\tremaining: 849ms\n",
      "299:\tlearn: 0.1856761\ttotal: 363ms\tremaining: 848ms\n",
      "300:\tlearn: 0.1851558\ttotal: 364ms\tremaining: 846ms\n",
      "301:\tlearn: 0.1844854\ttotal: 365ms\tremaining: 845ms\n",
      "302:\tlearn: 0.1841901\ttotal: 367ms\tremaining: 843ms\n",
      "303:\tlearn: 0.1836110\ttotal: 367ms\tremaining: 841ms\n",
      "304:\tlearn: 0.1832236\ttotal: 368ms\tremaining: 840ms\n",
      "305:\tlearn: 0.1825848\ttotal: 370ms\tremaining: 838ms\n",
      "306:\tlearn: 0.1822657\ttotal: 371ms\tremaining: 836ms\n",
      "307:\tlearn: 0.1818776\ttotal: 372ms\tremaining: 835ms\n",
      "308:\tlearn: 0.1815418\ttotal: 373ms\tremaining: 833ms\n",
      "309:\tlearn: 0.1811103\ttotal: 374ms\tremaining: 832ms\n",
      "310:\tlearn: 0.1806824\ttotal: 375ms\tremaining: 831ms\n",
      "311:\tlearn: 0.1801249\ttotal: 376ms\tremaining: 829ms\n",
      "312:\tlearn: 0.1796676\ttotal: 377ms\tremaining: 828ms\n",
      "313:\tlearn: 0.1789917\ttotal: 378ms\tremaining: 826ms\n",
      "314:\tlearn: 0.1786378\ttotal: 379ms\tremaining: 825ms\n",
      "315:\tlearn: 0.1781289\ttotal: 381ms\tremaining: 824ms\n",
      "316:\tlearn: 0.1778237\ttotal: 382ms\tremaining: 822ms\n",
      "317:\tlearn: 0.1772099\ttotal: 383ms\tremaining: 821ms\n",
      "318:\tlearn: 0.1769080\ttotal: 384ms\tremaining: 819ms\n",
      "319:\tlearn: 0.1764764\ttotal: 385ms\tremaining: 818ms\n",
      "320:\tlearn: 0.1759857\ttotal: 386ms\tremaining: 817ms\n",
      "321:\tlearn: 0.1757821\ttotal: 387ms\tremaining: 815ms\n",
      "322:\tlearn: 0.1752802\ttotal: 388ms\tremaining: 814ms\n",
      "323:\tlearn: 0.1750655\ttotal: 392ms\tremaining: 818ms\n",
      "324:\tlearn: 0.1746644\ttotal: 393ms\tremaining: 817ms\n",
      "325:\tlearn: 0.1739668\ttotal: 394ms\tremaining: 815ms\n",
      "326:\tlearn: 0.1738715\ttotal: 396ms\tremaining: 814ms\n",
      "327:\tlearn: 0.1734158\ttotal: 397ms\tremaining: 813ms\n",
      "328:\tlearn: 0.1730940\ttotal: 398ms\tremaining: 812ms\n",
      "329:\tlearn: 0.1729048\ttotal: 399ms\tremaining: 810ms\n",
      "330:\tlearn: 0.1725140\ttotal: 400ms\tremaining: 809ms\n",
      "331:\tlearn: 0.1719899\ttotal: 401ms\tremaining: 807ms\n",
      "332:\tlearn: 0.1718941\ttotal: 402ms\tremaining: 806ms\n",
      "333:\tlearn: 0.1712996\ttotal: 403ms\tremaining: 804ms\n",
      "334:\tlearn: 0.1707592\ttotal: 404ms\tremaining: 803ms\n",
      "335:\tlearn: 0.1705550\ttotal: 405ms\tremaining: 801ms\n",
      "336:\tlearn: 0.1700806\ttotal: 406ms\tremaining: 800ms\n",
      "337:\tlearn: 0.1696361\ttotal: 408ms\tremaining: 798ms\n"
     ]
    },
    {
     "name": "stdout",
     "output_type": "stream",
     "text": [
      "338:\tlearn: 0.1691730\ttotal: 409ms\tremaining: 797ms\n",
      "339:\tlearn: 0.1688610\ttotal: 410ms\tremaining: 796ms\n",
      "340:\tlearn: 0.1684578\ttotal: 411ms\tremaining: 795ms\n",
      "341:\tlearn: 0.1682272\ttotal: 412ms\tremaining: 793ms\n",
      "342:\tlearn: 0.1677802\ttotal: 414ms\tremaining: 792ms\n",
      "343:\tlearn: 0.1675298\ttotal: 415ms\tremaining: 792ms\n",
      "344:\tlearn: 0.1672572\ttotal: 417ms\tremaining: 792ms\n",
      "345:\tlearn: 0.1668801\ttotal: 418ms\tremaining: 791ms\n",
      "346:\tlearn: 0.1666936\ttotal: 419ms\tremaining: 789ms\n",
      "347:\tlearn: 0.1662227\ttotal: 421ms\tremaining: 788ms\n",
      "348:\tlearn: 0.1658718\ttotal: 422ms\tremaining: 787ms\n",
      "349:\tlearn: 0.1655850\ttotal: 423ms\tremaining: 786ms\n",
      "350:\tlearn: 0.1651844\ttotal: 424ms\tremaining: 785ms\n",
      "351:\tlearn: 0.1646341\ttotal: 426ms\tremaining: 783ms\n",
      "352:\tlearn: 0.1643557\ttotal: 427ms\tremaining: 782ms\n",
      "353:\tlearn: 0.1638763\ttotal: 428ms\tremaining: 780ms\n",
      "354:\tlearn: 0.1634380\ttotal: 429ms\tremaining: 779ms\n",
      "355:\tlearn: 0.1629505\ttotal: 430ms\tremaining: 778ms\n",
      "356:\tlearn: 0.1627946\ttotal: 431ms\tremaining: 776ms\n",
      "357:\tlearn: 0.1623055\ttotal: 432ms\tremaining: 775ms\n",
      "358:\tlearn: 0.1619199\ttotal: 433ms\tremaining: 773ms\n",
      "359:\tlearn: 0.1613567\ttotal: 434ms\tremaining: 772ms\n",
      "360:\tlearn: 0.1612574\ttotal: 435ms\tremaining: 770ms\n",
      "361:\tlearn: 0.1610440\ttotal: 436ms\tremaining: 769ms\n",
      "362:\tlearn: 0.1605243\ttotal: 437ms\tremaining: 768ms\n",
      "363:\tlearn: 0.1603878\ttotal: 439ms\tremaining: 766ms\n",
      "364:\tlearn: 0.1602535\ttotal: 440ms\tremaining: 765ms\n",
      "365:\tlearn: 0.1600917\ttotal: 441ms\tremaining: 763ms\n",
      "366:\tlearn: 0.1596278\ttotal: 442ms\tremaining: 762ms\n",
      "367:\tlearn: 0.1594910\ttotal: 443ms\tremaining: 760ms\n",
      "368:\tlearn: 0.1593612\ttotal: 444ms\tremaining: 759ms\n",
      "369:\tlearn: 0.1589676\ttotal: 445ms\tremaining: 757ms\n",
      "370:\tlearn: 0.1586316\ttotal: 446ms\tremaining: 756ms\n",
      "371:\tlearn: 0.1583073\ttotal: 447ms\tremaining: 754ms\n",
      "372:\tlearn: 0.1579985\ttotal: 448ms\tremaining: 753ms\n",
      "373:\tlearn: 0.1574752\ttotal: 449ms\tremaining: 751ms\n",
      "374:\tlearn: 0.1573565\ttotal: 450ms\tremaining: 749ms\n",
      "375:\tlearn: 0.1571062\ttotal: 451ms\tremaining: 748ms\n",
      "376:\tlearn: 0.1568618\ttotal: 452ms\tremaining: 747ms\n",
      "377:\tlearn: 0.1566298\ttotal: 453ms\tremaining: 745ms\n",
      "378:\tlearn: 0.1562544\ttotal: 454ms\tremaining: 744ms\n",
      "379:\tlearn: 0.1561551\ttotal: 455ms\tremaining: 742ms\n",
      "380:\tlearn: 0.1556734\ttotal: 456ms\tremaining: 741ms\n",
      "381:\tlearn: 0.1552606\ttotal: 457ms\tremaining: 739ms\n",
      "382:\tlearn: 0.1549822\ttotal: 458ms\tremaining: 738ms\n",
      "383:\tlearn: 0.1546298\ttotal: 459ms\tremaining: 736ms\n",
      "384:\tlearn: 0.1542188\ttotal: 460ms\tremaining: 735ms\n",
      "385:\tlearn: 0.1538566\ttotal: 461ms\tremaining: 734ms\n",
      "386:\tlearn: 0.1536402\ttotal: 462ms\tremaining: 732ms\n",
      "387:\tlearn: 0.1531857\ttotal: 463ms\tremaining: 731ms\n",
      "388:\tlearn: 0.1530428\ttotal: 464ms\tremaining: 729ms\n",
      "389:\tlearn: 0.1527915\ttotal: 465ms\tremaining: 728ms\n",
      "390:\tlearn: 0.1525138\ttotal: 466ms\tremaining: 726ms\n",
      "391:\tlearn: 0.1521234\ttotal: 467ms\tremaining: 724ms\n",
      "392:\tlearn: 0.1517720\ttotal: 468ms\tremaining: 723ms\n",
      "393:\tlearn: 0.1516469\ttotal: 469ms\tremaining: 722ms\n",
      "394:\tlearn: 0.1513654\ttotal: 470ms\tremaining: 720ms\n",
      "395:\tlearn: 0.1510162\ttotal: 471ms\tremaining: 719ms\n",
      "396:\tlearn: 0.1508213\ttotal: 472ms\tremaining: 718ms\n",
      "397:\tlearn: 0.1503411\ttotal: 474ms\tremaining: 716ms\n",
      "398:\tlearn: 0.1499311\ttotal: 474ms\tremaining: 715ms\n",
      "399:\tlearn: 0.1498142\ttotal: 475ms\tremaining: 713ms\n",
      "400:\tlearn: 0.1495329\ttotal: 476ms\tremaining: 712ms\n",
      "401:\tlearn: 0.1493448\ttotal: 477ms\tremaining: 710ms\n",
      "402:\tlearn: 0.1490867\ttotal: 478ms\tremaining: 709ms\n",
      "403:\tlearn: 0.1490320\ttotal: 479ms\tremaining: 707ms\n",
      "404:\tlearn: 0.1487518\ttotal: 480ms\tremaining: 706ms\n",
      "405:\tlearn: 0.1486023\ttotal: 481ms\tremaining: 704ms\n",
      "406:\tlearn: 0.1481962\ttotal: 482ms\tremaining: 703ms\n",
      "407:\tlearn: 0.1480155\ttotal: 483ms\tremaining: 701ms\n",
      "408:\tlearn: 0.1477373\ttotal: 484ms\tremaining: 700ms\n",
      "409:\tlearn: 0.1472987\ttotal: 485ms\tremaining: 698ms\n",
      "410:\tlearn: 0.1468098\ttotal: 486ms\tremaining: 697ms\n",
      "411:\tlearn: 0.1467204\ttotal: 487ms\tremaining: 696ms\n",
      "412:\tlearn: 0.1465137\ttotal: 488ms\tremaining: 694ms\n",
      "413:\tlearn: 0.1462346\ttotal: 489ms\tremaining: 693ms\n",
      "414:\tlearn: 0.1461015\ttotal: 491ms\tremaining: 692ms\n",
      "415:\tlearn: 0.1457245\ttotal: 492ms\tremaining: 690ms\n",
      "416:\tlearn: 0.1453387\ttotal: 493ms\tremaining: 689ms\n",
      "417:\tlearn: 0.1450481\ttotal: 494ms\tremaining: 687ms\n",
      "418:\tlearn: 0.1447535\ttotal: 495ms\tremaining: 686ms\n",
      "419:\tlearn: 0.1443663\ttotal: 496ms\tremaining: 684ms\n",
      "420:\tlearn: 0.1440527\ttotal: 497ms\tremaining: 683ms\n",
      "421:\tlearn: 0.1437811\ttotal: 498ms\tremaining: 682ms\n",
      "422:\tlearn: 0.1434781\ttotal: 499ms\tremaining: 680ms\n",
      "423:\tlearn: 0.1432134\ttotal: 500ms\tremaining: 679ms\n",
      "424:\tlearn: 0.1428016\ttotal: 501ms\tremaining: 678ms\n",
      "425:\tlearn: 0.1427426\ttotal: 502ms\tremaining: 676ms\n",
      "426:\tlearn: 0.1425159\ttotal: 503ms\tremaining: 675ms\n",
      "427:\tlearn: 0.1421506\ttotal: 504ms\tremaining: 673ms\n",
      "428:\tlearn: 0.1417088\ttotal: 505ms\tremaining: 672ms\n",
      "429:\tlearn: 0.1413684\ttotal: 506ms\tremaining: 671ms\n",
      "430:\tlearn: 0.1412916\ttotal: 507ms\tremaining: 669ms\n",
      "431:\tlearn: 0.1410546\ttotal: 508ms\tremaining: 668ms\n",
      "432:\tlearn: 0.1408304\ttotal: 509ms\tremaining: 666ms\n",
      "433:\tlearn: 0.1404902\ttotal: 510ms\tremaining: 665ms\n",
      "434:\tlearn: 0.1403044\ttotal: 511ms\tremaining: 664ms\n",
      "435:\tlearn: 0.1399867\ttotal: 512ms\tremaining: 662ms\n",
      "436:\tlearn: 0.1396447\ttotal: 513ms\tremaining: 661ms\n",
      "437:\tlearn: 0.1393193\ttotal: 514ms\tremaining: 660ms\n",
      "438:\tlearn: 0.1392912\ttotal: 515ms\tremaining: 658ms\n",
      "439:\tlearn: 0.1390750\ttotal: 516ms\tremaining: 657ms\n",
      "440:\tlearn: 0.1388189\ttotal: 517ms\tremaining: 655ms\n",
      "441:\tlearn: 0.1387180\ttotal: 518ms\tremaining: 654ms\n",
      "442:\tlearn: 0.1385411\ttotal: 519ms\tremaining: 653ms\n",
      "443:\tlearn: 0.1381638\ttotal: 520ms\tremaining: 651ms\n",
      "444:\tlearn: 0.1378809\ttotal: 521ms\tremaining: 650ms\n",
      "445:\tlearn: 0.1376288\ttotal: 522ms\tremaining: 648ms\n",
      "446:\tlearn: 0.1373811\ttotal: 523ms\tremaining: 647ms\n",
      "447:\tlearn: 0.1371396\ttotal: 524ms\tremaining: 646ms\n",
      "448:\tlearn: 0.1367694\ttotal: 525ms\tremaining: 644ms\n",
      "449:\tlearn: 0.1363997\ttotal: 526ms\tremaining: 643ms\n",
      "450:\tlearn: 0.1360592\ttotal: 527ms\tremaining: 642ms\n",
      "451:\tlearn: 0.1357712\ttotal: 528ms\tremaining: 640ms\n",
      "452:\tlearn: 0.1355022\ttotal: 529ms\tremaining: 639ms\n",
      "453:\tlearn: 0.1352157\ttotal: 530ms\tremaining: 637ms\n",
      "454:\tlearn: 0.1348536\ttotal: 531ms\tremaining: 636ms\n",
      "455:\tlearn: 0.1347391\ttotal: 532ms\tremaining: 635ms\n",
      "456:\tlearn: 0.1344549\ttotal: 533ms\tremaining: 634ms\n",
      "457:\tlearn: 0.1343436\ttotal: 534ms\tremaining: 632ms\n",
      "458:\tlearn: 0.1342475\ttotal: 535ms\tremaining: 631ms\n",
      "459:\tlearn: 0.1339996\ttotal: 536ms\tremaining: 629ms\n",
      "460:\tlearn: 0.1337947\ttotal: 537ms\tremaining: 628ms\n",
      "461:\tlearn: 0.1334545\ttotal: 538ms\tremaining: 627ms\n",
      "462:\tlearn: 0.1331431\ttotal: 539ms\tremaining: 625ms\n",
      "463:\tlearn: 0.1328472\ttotal: 540ms\tremaining: 624ms\n",
      "464:\tlearn: 0.1325413\ttotal: 541ms\tremaining: 623ms\n"
     ]
    },
    {
     "name": "stdout",
     "output_type": "stream",
     "text": [
      "465:\tlearn: 0.1321874\ttotal: 544ms\tremaining: 623ms\n",
      "466:\tlearn: 0.1321268\ttotal: 545ms\tremaining: 622ms\n",
      "467:\tlearn: 0.1318676\ttotal: 546ms\tremaining: 621ms\n",
      "468:\tlearn: 0.1315585\ttotal: 547ms\tremaining: 619ms\n",
      "469:\tlearn: 0.1312741\ttotal: 548ms\tremaining: 618ms\n",
      "470:\tlearn: 0.1311415\ttotal: 549ms\tremaining: 617ms\n",
      "471:\tlearn: 0.1308581\ttotal: 550ms\tremaining: 616ms\n",
      "472:\tlearn: 0.1306468\ttotal: 551ms\tremaining: 614ms\n",
      "473:\tlearn: 0.1303654\ttotal: 552ms\tremaining: 613ms\n",
      "474:\tlearn: 0.1300922\ttotal: 553ms\tremaining: 612ms\n",
      "475:\tlearn: 0.1299902\ttotal: 554ms\tremaining: 610ms\n",
      "476:\tlearn: 0.1298056\ttotal: 555ms\tremaining: 609ms\n",
      "477:\tlearn: 0.1295500\ttotal: 556ms\tremaining: 608ms\n",
      "478:\tlearn: 0.1292470\ttotal: 557ms\tremaining: 606ms\n",
      "479:\tlearn: 0.1290692\ttotal: 559ms\tremaining: 605ms\n",
      "480:\tlearn: 0.1287351\ttotal: 560ms\tremaining: 604ms\n",
      "481:\tlearn: 0.1285861\ttotal: 561ms\tremaining: 602ms\n",
      "482:\tlearn: 0.1284262\ttotal: 562ms\tremaining: 601ms\n",
      "483:\tlearn: 0.1281817\ttotal: 563ms\tremaining: 600ms\n",
      "484:\tlearn: 0.1279222\ttotal: 564ms\tremaining: 598ms\n",
      "485:\tlearn: 0.1276289\ttotal: 565ms\tremaining: 597ms\n",
      "486:\tlearn: 0.1273854\ttotal: 566ms\tremaining: 596ms\n",
      "487:\tlearn: 0.1271286\ttotal: 567ms\tremaining: 595ms\n",
      "488:\tlearn: 0.1268667\ttotal: 568ms\tremaining: 593ms\n",
      "489:\tlearn: 0.1265863\ttotal: 569ms\tremaining: 592ms\n",
      "490:\tlearn: 0.1264304\ttotal: 570ms\tremaining: 591ms\n",
      "491:\tlearn: 0.1262060\ttotal: 571ms\tremaining: 590ms\n",
      "492:\tlearn: 0.1261569\ttotal: 572ms\tremaining: 588ms\n",
      "493:\tlearn: 0.1258686\ttotal: 573ms\tremaining: 587ms\n",
      "494:\tlearn: 0.1256938\ttotal: 574ms\tremaining: 586ms\n",
      "495:\tlearn: 0.1254797\ttotal: 575ms\tremaining: 585ms\n",
      "496:\tlearn: 0.1253093\ttotal: 576ms\tremaining: 583ms\n",
      "497:\tlearn: 0.1250303\ttotal: 577ms\tremaining: 582ms\n",
      "498:\tlearn: 0.1248956\ttotal: 578ms\tremaining: 581ms\n",
      "499:\tlearn: 0.1246873\ttotal: 579ms\tremaining: 579ms\n",
      "500:\tlearn: 0.1245447\ttotal: 580ms\tremaining: 578ms\n",
      "501:\tlearn: 0.1242331\ttotal: 581ms\tremaining: 577ms\n",
      "502:\tlearn: 0.1239827\ttotal: 582ms\tremaining: 575ms\n",
      "503:\tlearn: 0.1237944\ttotal: 583ms\tremaining: 574ms\n",
      "504:\tlearn: 0.1233825\ttotal: 584ms\tremaining: 573ms\n",
      "505:\tlearn: 0.1230804\ttotal: 585ms\tremaining: 571ms\n",
      "506:\tlearn: 0.1227769\ttotal: 586ms\tremaining: 570ms\n",
      "507:\tlearn: 0.1224929\ttotal: 588ms\tremaining: 569ms\n",
      "508:\tlearn: 0.1222819\ttotal: 589ms\tremaining: 568ms\n",
      "509:\tlearn: 0.1220920\ttotal: 590ms\tremaining: 567ms\n",
      "510:\tlearn: 0.1218549\ttotal: 591ms\tremaining: 565ms\n",
      "511:\tlearn: 0.1217047\ttotal: 592ms\tremaining: 564ms\n",
      "512:\tlearn: 0.1215588\ttotal: 593ms\tremaining: 563ms\n",
      "513:\tlearn: 0.1214032\ttotal: 594ms\tremaining: 562ms\n",
      "514:\tlearn: 0.1211886\ttotal: 595ms\tremaining: 560ms\n",
      "515:\tlearn: 0.1209056\ttotal: 596ms\tremaining: 559ms\n",
      "516:\tlearn: 0.1208164\ttotal: 597ms\tremaining: 558ms\n",
      "517:\tlearn: 0.1206916\ttotal: 598ms\tremaining: 556ms\n",
      "518:\tlearn: 0.1204707\ttotal: 599ms\tremaining: 555ms\n",
      "519:\tlearn: 0.1203488\ttotal: 600ms\tremaining: 554ms\n",
      "520:\tlearn: 0.1201280\ttotal: 601ms\tremaining: 552ms\n",
      "521:\tlearn: 0.1200778\ttotal: 602ms\tremaining: 551ms\n",
      "522:\tlearn: 0.1198671\ttotal: 603ms\tremaining: 550ms\n",
      "523:\tlearn: 0.1196634\ttotal: 604ms\tremaining: 549ms\n",
      "524:\tlearn: 0.1194051\ttotal: 605ms\tremaining: 548ms\n",
      "525:\tlearn: 0.1191140\ttotal: 606ms\tremaining: 546ms\n",
      "526:\tlearn: 0.1189533\ttotal: 607ms\tremaining: 545ms\n",
      "527:\tlearn: 0.1187547\ttotal: 608ms\tremaining: 544ms\n",
      "528:\tlearn: 0.1184727\ttotal: 609ms\tremaining: 543ms\n",
      "529:\tlearn: 0.1183904\ttotal: 611ms\tremaining: 541ms\n",
      "530:\tlearn: 0.1182357\ttotal: 612ms\tremaining: 540ms\n",
      "531:\tlearn: 0.1179599\ttotal: 613ms\tremaining: 539ms\n",
      "532:\tlearn: 0.1177061\ttotal: 614ms\tremaining: 538ms\n",
      "533:\tlearn: 0.1174730\ttotal: 615ms\tremaining: 537ms\n",
      "534:\tlearn: 0.1172985\ttotal: 616ms\tremaining: 535ms\n",
      "535:\tlearn: 0.1170034\ttotal: 617ms\tremaining: 534ms\n",
      "536:\tlearn: 0.1169679\ttotal: 618ms\tremaining: 533ms\n",
      "537:\tlearn: 0.1167469\ttotal: 619ms\tremaining: 532ms\n",
      "538:\tlearn: 0.1165531\ttotal: 620ms\tremaining: 530ms\n",
      "539:\tlearn: 0.1162849\ttotal: 621ms\tremaining: 529ms\n",
      "540:\tlearn: 0.1161432\ttotal: 622ms\tremaining: 528ms\n",
      "541:\tlearn: 0.1159078\ttotal: 623ms\tremaining: 527ms\n",
      "542:\tlearn: 0.1158590\ttotal: 624ms\tremaining: 525ms\n",
      "543:\tlearn: 0.1157301\ttotal: 625ms\tremaining: 524ms\n",
      "544:\tlearn: 0.1156849\ttotal: 626ms\tremaining: 523ms\n",
      "545:\tlearn: 0.1154886\ttotal: 627ms\tremaining: 521ms\n",
      "546:\tlearn: 0.1152147\ttotal: 628ms\tremaining: 520ms\n",
      "547:\tlearn: 0.1150236\ttotal: 629ms\tremaining: 519ms\n",
      "548:\tlearn: 0.1149972\ttotal: 630ms\tremaining: 518ms\n",
      "549:\tlearn: 0.1147598\ttotal: 631ms\tremaining: 516ms\n",
      "550:\tlearn: 0.1146954\ttotal: 632ms\tremaining: 515ms\n",
      "551:\tlearn: 0.1144611\ttotal: 633ms\tremaining: 514ms\n",
      "552:\tlearn: 0.1142282\ttotal: 634ms\tremaining: 513ms\n",
      "553:\tlearn: 0.1139459\ttotal: 635ms\tremaining: 512ms\n",
      "554:\tlearn: 0.1137716\ttotal: 636ms\tremaining: 510ms\n",
      "555:\tlearn: 0.1134636\ttotal: 637ms\tremaining: 509ms\n",
      "556:\tlearn: 0.1133505\ttotal: 639ms\tremaining: 508ms\n",
      "557:\tlearn: 0.1131687\ttotal: 639ms\tremaining: 507ms\n",
      "558:\tlearn: 0.1130009\ttotal: 640ms\tremaining: 505ms\n",
      "559:\tlearn: 0.1128320\ttotal: 641ms\tremaining: 504ms\n",
      "560:\tlearn: 0.1125730\ttotal: 643ms\tremaining: 503ms\n",
      "561:\tlearn: 0.1125164\ttotal: 644ms\tremaining: 502ms\n",
      "562:\tlearn: 0.1123356\ttotal: 645ms\tremaining: 500ms\n",
      "563:\tlearn: 0.1120608\ttotal: 646ms\tremaining: 499ms\n",
      "564:\tlearn: 0.1120416\ttotal: 647ms\tremaining: 498ms\n",
      "565:\tlearn: 0.1119101\ttotal: 648ms\tremaining: 497ms\n",
      "566:\tlearn: 0.1117275\ttotal: 649ms\tremaining: 495ms\n",
      "567:\tlearn: 0.1115160\ttotal: 650ms\tremaining: 494ms\n",
      "568:\tlearn: 0.1113079\ttotal: 651ms\tremaining: 493ms\n",
      "569:\tlearn: 0.1111413\ttotal: 652ms\tremaining: 492ms\n",
      "570:\tlearn: 0.1110077\ttotal: 653ms\tremaining: 491ms\n",
      "571:\tlearn: 0.1108562\ttotal: 654ms\tremaining: 489ms\n",
      "572:\tlearn: 0.1105927\ttotal: 655ms\tremaining: 488ms\n",
      "573:\tlearn: 0.1105630\ttotal: 656ms\tremaining: 487ms\n",
      "574:\tlearn: 0.1103558\ttotal: 657ms\tremaining: 486ms\n",
      "575:\tlearn: 0.1101344\ttotal: 658ms\tremaining: 485ms\n",
      "576:\tlearn: 0.1099795\ttotal: 660ms\tremaining: 484ms\n",
      "577:\tlearn: 0.1098705\ttotal: 661ms\tremaining: 482ms\n",
      "578:\tlearn: 0.1098231\ttotal: 662ms\tremaining: 481ms\n",
      "579:\tlearn: 0.1097861\ttotal: 663ms\tremaining: 480ms\n",
      "580:\tlearn: 0.1095952\ttotal: 664ms\tremaining: 479ms\n",
      "581:\tlearn: 0.1094320\ttotal: 665ms\tremaining: 477ms\n",
      "582:\tlearn: 0.1093780\ttotal: 666ms\tremaining: 476ms\n",
      "583:\tlearn: 0.1091360\ttotal: 667ms\tremaining: 475ms\n",
      "584:\tlearn: 0.1089410\ttotal: 668ms\tremaining: 474ms\n",
      "585:\tlearn: 0.1086915\ttotal: 669ms\tremaining: 473ms\n",
      "586:\tlearn: 0.1085076\ttotal: 670ms\tremaining: 471ms\n",
      "587:\tlearn: 0.1084882\ttotal: 671ms\tremaining: 470ms\n",
      "588:\tlearn: 0.1083265\ttotal: 672ms\tremaining: 469ms\n",
      "589:\tlearn: 0.1082760\ttotal: 673ms\tremaining: 468ms\n",
      "590:\tlearn: 0.1081230\ttotal: 674ms\tremaining: 467ms\n",
      "591:\tlearn: 0.1080329\ttotal: 675ms\tremaining: 465ms\n"
     ]
    },
    {
     "name": "stdout",
     "output_type": "stream",
     "text": [
      "592:\tlearn: 0.1078814\ttotal: 677ms\tremaining: 465ms\n",
      "593:\tlearn: 0.1076893\ttotal: 678ms\tremaining: 464ms\n",
      "594:\tlearn: 0.1075716\ttotal: 679ms\tremaining: 463ms\n",
      "595:\tlearn: 0.1073320\ttotal: 680ms\tremaining: 461ms\n",
      "596:\tlearn: 0.1070789\ttotal: 681ms\tremaining: 460ms\n",
      "597:\tlearn: 0.1069116\ttotal: 683ms\tremaining: 459ms\n",
      "598:\tlearn: 0.1067687\ttotal: 684ms\tremaining: 458ms\n",
      "599:\tlearn: 0.1065037\ttotal: 685ms\tremaining: 456ms\n",
      "600:\tlearn: 0.1062799\ttotal: 686ms\tremaining: 455ms\n",
      "601:\tlearn: 0.1062176\ttotal: 687ms\tremaining: 454ms\n",
      "602:\tlearn: 0.1059787\ttotal: 688ms\tremaining: 453ms\n",
      "603:\tlearn: 0.1057464\ttotal: 689ms\tremaining: 452ms\n",
      "604:\tlearn: 0.1057063\ttotal: 690ms\tremaining: 450ms\n",
      "605:\tlearn: 0.1055943\ttotal: 691ms\tremaining: 449ms\n",
      "606:\tlearn: 0.1054050\ttotal: 692ms\tremaining: 448ms\n",
      "607:\tlearn: 0.1051261\ttotal: 693ms\tremaining: 447ms\n",
      "608:\tlearn: 0.1049631\ttotal: 694ms\tremaining: 445ms\n",
      "609:\tlearn: 0.1047479\ttotal: 695ms\tremaining: 444ms\n",
      "610:\tlearn: 0.1045955\ttotal: 696ms\tremaining: 443ms\n",
      "611:\tlearn: 0.1045685\ttotal: 697ms\tremaining: 442ms\n",
      "612:\tlearn: 0.1043440\ttotal: 698ms\tremaining: 441ms\n",
      "613:\tlearn: 0.1041764\ttotal: 699ms\tremaining: 439ms\n",
      "614:\tlearn: 0.1039624\ttotal: 700ms\tremaining: 438ms\n",
      "615:\tlearn: 0.1038362\ttotal: 701ms\tremaining: 437ms\n",
      "616:\tlearn: 0.1036542\ttotal: 702ms\tremaining: 436ms\n",
      "617:\tlearn: 0.1035319\ttotal: 703ms\tremaining: 434ms\n",
      "618:\tlearn: 0.1033818\ttotal: 704ms\tremaining: 433ms\n",
      "619:\tlearn: 0.1033069\ttotal: 705ms\tremaining: 432ms\n",
      "620:\tlearn: 0.1031077\ttotal: 706ms\tremaining: 431ms\n",
      "621:\tlearn: 0.1030802\ttotal: 707ms\tremaining: 430ms\n",
      "622:\tlearn: 0.1028390\ttotal: 708ms\tremaining: 429ms\n",
      "623:\tlearn: 0.1026127\ttotal: 709ms\tremaining: 427ms\n",
      "624:\tlearn: 0.1024877\ttotal: 710ms\tremaining: 426ms\n",
      "625:\tlearn: 0.1022566\ttotal: 711ms\tremaining: 425ms\n",
      "626:\tlearn: 0.1022051\ttotal: 712ms\tremaining: 424ms\n",
      "627:\tlearn: 0.1020573\ttotal: 713ms\tremaining: 422ms\n",
      "628:\tlearn: 0.1019014\ttotal: 714ms\tremaining: 421ms\n",
      "629:\tlearn: 0.1017354\ttotal: 715ms\tremaining: 420ms\n",
      "630:\tlearn: 0.1016319\ttotal: 716ms\tremaining: 419ms\n",
      "631:\tlearn: 0.1013454\ttotal: 717ms\tremaining: 418ms\n",
      "632:\tlearn: 0.1012352\ttotal: 718ms\tremaining: 416ms\n",
      "633:\tlearn: 0.1011079\ttotal: 719ms\tremaining: 415ms\n",
      "634:\tlearn: 0.1008943\ttotal: 720ms\tremaining: 414ms\n",
      "635:\tlearn: 0.1007064\ttotal: 721ms\tremaining: 413ms\n",
      "636:\tlearn: 0.1004881\ttotal: 722ms\tremaining: 412ms\n",
      "637:\tlearn: 0.1004388\ttotal: 723ms\tremaining: 410ms\n",
      "638:\tlearn: 0.1003018\ttotal: 724ms\tremaining: 409ms\n",
      "639:\tlearn: 0.1000772\ttotal: 725ms\tremaining: 408ms\n",
      "640:\tlearn: 0.0999679\ttotal: 726ms\tremaining: 407ms\n",
      "641:\tlearn: 0.0998308\ttotal: 727ms\tremaining: 406ms\n",
      "642:\tlearn: 0.0996826\ttotal: 729ms\tremaining: 404ms\n",
      "643:\tlearn: 0.0994489\ttotal: 730ms\tremaining: 403ms\n",
      "644:\tlearn: 0.0993034\ttotal: 731ms\tremaining: 402ms\n",
      "645:\tlearn: 0.0991550\ttotal: 732ms\tremaining: 401ms\n",
      "646:\tlearn: 0.0991038\ttotal: 733ms\tremaining: 400ms\n",
      "647:\tlearn: 0.0989049\ttotal: 734ms\tremaining: 399ms\n",
      "648:\tlearn: 0.0986766\ttotal: 735ms\tremaining: 397ms\n",
      "649:\tlearn: 0.0984300\ttotal: 736ms\tremaining: 396ms\n",
      "650:\tlearn: 0.0982774\ttotal: 737ms\tremaining: 395ms\n",
      "651:\tlearn: 0.0982322\ttotal: 738ms\tremaining: 394ms\n",
      "652:\tlearn: 0.0980387\ttotal: 739ms\tremaining: 393ms\n",
      "653:\tlearn: 0.0979217\ttotal: 740ms\tremaining: 392ms\n",
      "654:\tlearn: 0.0978949\ttotal: 741ms\tremaining: 390ms\n",
      "655:\tlearn: 0.0976698\ttotal: 742ms\tremaining: 389ms\n",
      "656:\tlearn: 0.0975026\ttotal: 743ms\tremaining: 388ms\n",
      "657:\tlearn: 0.0973449\ttotal: 744ms\tremaining: 387ms\n",
      "658:\tlearn: 0.0972469\ttotal: 745ms\tremaining: 386ms\n",
      "659:\tlearn: 0.0970936\ttotal: 747ms\tremaining: 385ms\n",
      "660:\tlearn: 0.0969865\ttotal: 748ms\tremaining: 383ms\n",
      "661:\tlearn: 0.0967200\ttotal: 748ms\tremaining: 382ms\n",
      "662:\tlearn: 0.0966792\ttotal: 750ms\tremaining: 381ms\n",
      "663:\tlearn: 0.0964796\ttotal: 751ms\tremaining: 380ms\n",
      "664:\tlearn: 0.0963496\ttotal: 752ms\tremaining: 379ms\n",
      "665:\tlearn: 0.0961858\ttotal: 753ms\tremaining: 378ms\n",
      "666:\tlearn: 0.0960005\ttotal: 754ms\tremaining: 376ms\n",
      "667:\tlearn: 0.0959744\ttotal: 755ms\tremaining: 375ms\n",
      "668:\tlearn: 0.0958286\ttotal: 756ms\tremaining: 374ms\n",
      "669:\tlearn: 0.0956243\ttotal: 757ms\tremaining: 373ms\n",
      "670:\tlearn: 0.0955933\ttotal: 758ms\tremaining: 372ms\n",
      "671:\tlearn: 0.0955112\ttotal: 759ms\tremaining: 370ms\n",
      "672:\tlearn: 0.0954256\ttotal: 760ms\tremaining: 369ms\n",
      "673:\tlearn: 0.0953044\ttotal: 761ms\tremaining: 368ms\n",
      "674:\tlearn: 0.0951191\ttotal: 762ms\tremaining: 367ms\n",
      "675:\tlearn: 0.0950895\ttotal: 763ms\tremaining: 366ms\n",
      "676:\tlearn: 0.0949349\ttotal: 764ms\tremaining: 365ms\n",
      "677:\tlearn: 0.0948343\ttotal: 765ms\tremaining: 363ms\n",
      "678:\tlearn: 0.0947126\ttotal: 766ms\tremaining: 362ms\n",
      "679:\tlearn: 0.0946020\ttotal: 767ms\tremaining: 361ms\n",
      "680:\tlearn: 0.0944412\ttotal: 768ms\tremaining: 360ms\n",
      "681:\tlearn: 0.0943970\ttotal: 769ms\tremaining: 359ms\n",
      "682:\tlearn: 0.0941709\ttotal: 770ms\tremaining: 357ms\n",
      "683:\tlearn: 0.0940359\ttotal: 771ms\tremaining: 356ms\n",
      "684:\tlearn: 0.0937712\ttotal: 772ms\tremaining: 355ms\n",
      "685:\tlearn: 0.0935591\ttotal: 773ms\tremaining: 354ms\n",
      "686:\tlearn: 0.0934448\ttotal: 774ms\tremaining: 353ms\n",
      "687:\tlearn: 0.0932372\ttotal: 776ms\tremaining: 352ms\n",
      "688:\tlearn: 0.0931170\ttotal: 777ms\tremaining: 351ms\n",
      "689:\tlearn: 0.0930726\ttotal: 778ms\tremaining: 349ms\n",
      "690:\tlearn: 0.0928768\ttotal: 779ms\tremaining: 348ms\n",
      "691:\tlearn: 0.0927978\ttotal: 780ms\tremaining: 347ms\n",
      "692:\tlearn: 0.0926580\ttotal: 781ms\tremaining: 346ms\n",
      "693:\tlearn: 0.0925702\ttotal: 782ms\tremaining: 345ms\n",
      "694:\tlearn: 0.0925252\ttotal: 783ms\tremaining: 344ms\n",
      "695:\tlearn: 0.0923552\ttotal: 784ms\tremaining: 342ms\n",
      "696:\tlearn: 0.0921711\ttotal: 785ms\tremaining: 341ms\n",
      "697:\tlearn: 0.0921298\ttotal: 786ms\tremaining: 340ms\n",
      "698:\tlearn: 0.0919614\ttotal: 787ms\tremaining: 339ms\n",
      "699:\tlearn: 0.0918300\ttotal: 788ms\tremaining: 338ms\n",
      "700:\tlearn: 0.0917085\ttotal: 789ms\tremaining: 337ms\n",
      "701:\tlearn: 0.0915290\ttotal: 790ms\tremaining: 336ms\n",
      "702:\tlearn: 0.0913750\ttotal: 791ms\tremaining: 334ms\n",
      "703:\tlearn: 0.0911829\ttotal: 793ms\tremaining: 333ms\n",
      "704:\tlearn: 0.0909838\ttotal: 794ms\tremaining: 332ms\n",
      "705:\tlearn: 0.0908588\ttotal: 795ms\tremaining: 331ms\n",
      "706:\tlearn: 0.0907138\ttotal: 796ms\tremaining: 330ms\n",
      "707:\tlearn: 0.0906624\ttotal: 797ms\tremaining: 329ms\n",
      "708:\tlearn: 0.0905193\ttotal: 798ms\tremaining: 327ms\n",
      "709:\tlearn: 0.0902392\ttotal: 799ms\tremaining: 326ms\n",
      "710:\tlearn: 0.0900608\ttotal: 800ms\tremaining: 325ms\n",
      "711:\tlearn: 0.0899223\ttotal: 801ms\tremaining: 324ms\n",
      "712:\tlearn: 0.0897781\ttotal: 802ms\tremaining: 323ms\n",
      "713:\tlearn: 0.0896806\ttotal: 803ms\tremaining: 322ms\n",
      "714:\tlearn: 0.0896455\ttotal: 804ms\tremaining: 320ms\n",
      "715:\tlearn: 0.0896164\ttotal: 805ms\tremaining: 319ms\n",
      "716:\tlearn: 0.0895128\ttotal: 806ms\tremaining: 318ms\n",
      "717:\tlearn: 0.0893413\ttotal: 807ms\tremaining: 317ms\n",
      "718:\tlearn: 0.0892389\ttotal: 808ms\tremaining: 316ms\n",
      "719:\tlearn: 0.0891101\ttotal: 810ms\tremaining: 315ms\n",
      "720:\tlearn: 0.0889171\ttotal: 811ms\tremaining: 314ms\n"
     ]
    },
    {
     "name": "stdout",
     "output_type": "stream",
     "text": [
      "721:\tlearn: 0.0887839\ttotal: 814ms\tremaining: 313ms\n",
      "722:\tlearn: 0.0886638\ttotal: 815ms\tremaining: 312ms\n",
      "723:\tlearn: 0.0885312\ttotal: 816ms\tremaining: 311ms\n",
      "724:\tlearn: 0.0884300\ttotal: 818ms\tremaining: 310ms\n",
      "725:\tlearn: 0.0882224\ttotal: 819ms\tremaining: 309ms\n",
      "726:\tlearn: 0.0880627\ttotal: 821ms\tremaining: 308ms\n",
      "727:\tlearn: 0.0879553\ttotal: 822ms\tremaining: 307ms\n",
      "728:\tlearn: 0.0877824\ttotal: 823ms\tremaining: 306ms\n",
      "729:\tlearn: 0.0877055\ttotal: 824ms\tremaining: 305ms\n",
      "730:\tlearn: 0.0875185\ttotal: 825ms\tremaining: 304ms\n",
      "731:\tlearn: 0.0874808\ttotal: 826ms\tremaining: 303ms\n",
      "732:\tlearn: 0.0873430\ttotal: 827ms\tremaining: 301ms\n",
      "733:\tlearn: 0.0871748\ttotal: 829ms\tremaining: 300ms\n",
      "734:\tlearn: 0.0869930\ttotal: 830ms\tremaining: 299ms\n",
      "735:\tlearn: 0.0869624\ttotal: 831ms\tremaining: 298ms\n",
      "736:\tlearn: 0.0868958\ttotal: 832ms\tremaining: 297ms\n",
      "737:\tlearn: 0.0867940\ttotal: 833ms\tremaining: 296ms\n",
      "738:\tlearn: 0.0866926\ttotal: 834ms\tremaining: 294ms\n",
      "739:\tlearn: 0.0865063\ttotal: 835ms\tremaining: 293ms\n",
      "740:\tlearn: 0.0864766\ttotal: 836ms\tremaining: 292ms\n",
      "741:\tlearn: 0.0864520\ttotal: 837ms\tremaining: 291ms\n",
      "742:\tlearn: 0.0863089\ttotal: 838ms\tremaining: 290ms\n",
      "743:\tlearn: 0.0861970\ttotal: 839ms\tremaining: 289ms\n",
      "744:\tlearn: 0.0860247\ttotal: 840ms\tremaining: 288ms\n",
      "745:\tlearn: 0.0859997\ttotal: 841ms\tremaining: 286ms\n",
      "746:\tlearn: 0.0859587\ttotal: 842ms\tremaining: 285ms\n",
      "747:\tlearn: 0.0858617\ttotal: 843ms\tremaining: 284ms\n",
      "748:\tlearn: 0.0858038\ttotal: 844ms\tremaining: 283ms\n",
      "749:\tlearn: 0.0856554\ttotal: 846ms\tremaining: 282ms\n",
      "750:\tlearn: 0.0854554\ttotal: 847ms\tremaining: 281ms\n",
      "751:\tlearn: 0.0852803\ttotal: 849ms\tremaining: 280ms\n",
      "752:\tlearn: 0.0852431\ttotal: 850ms\tremaining: 279ms\n",
      "753:\tlearn: 0.0850451\ttotal: 851ms\tremaining: 278ms\n",
      "754:\tlearn: 0.0848760\ttotal: 852ms\tremaining: 277ms\n",
      "755:\tlearn: 0.0846761\ttotal: 853ms\tremaining: 275ms\n",
      "756:\tlearn: 0.0846605\ttotal: 854ms\tremaining: 274ms\n",
      "757:\tlearn: 0.0845223\ttotal: 856ms\tremaining: 273ms\n",
      "758:\tlearn: 0.0843584\ttotal: 857ms\tremaining: 272ms\n",
      "759:\tlearn: 0.0843370\ttotal: 858ms\tremaining: 271ms\n",
      "760:\tlearn: 0.0842359\ttotal: 859ms\tremaining: 270ms\n",
      "761:\tlearn: 0.0841243\ttotal: 860ms\tremaining: 269ms\n",
      "762:\tlearn: 0.0840208\ttotal: 861ms\tremaining: 268ms\n",
      "763:\tlearn: 0.0839442\ttotal: 862ms\tremaining: 266ms\n",
      "764:\tlearn: 0.0837602\ttotal: 863ms\tremaining: 265ms\n",
      "765:\tlearn: 0.0836504\ttotal: 864ms\tremaining: 264ms\n",
      "766:\tlearn: 0.0834674\ttotal: 866ms\tremaining: 263ms\n",
      "767:\tlearn: 0.0834040\ttotal: 867ms\tremaining: 262ms\n",
      "768:\tlearn: 0.0832365\ttotal: 868ms\tremaining: 261ms\n",
      "769:\tlearn: 0.0832134\ttotal: 869ms\tremaining: 260ms\n",
      "770:\tlearn: 0.0830748\ttotal: 870ms\tremaining: 259ms\n",
      "771:\tlearn: 0.0829216\ttotal: 872ms\tremaining: 257ms\n",
      "772:\tlearn: 0.0828146\ttotal: 873ms\tremaining: 256ms\n",
      "773:\tlearn: 0.0826582\ttotal: 874ms\tremaining: 255ms\n",
      "774:\tlearn: 0.0825647\ttotal: 875ms\tremaining: 254ms\n",
      "775:\tlearn: 0.0824297\ttotal: 876ms\tremaining: 253ms\n",
      "776:\tlearn: 0.0822277\ttotal: 877ms\tremaining: 252ms\n",
      "777:\tlearn: 0.0821158\ttotal: 878ms\tremaining: 251ms\n",
      "778:\tlearn: 0.0820085\ttotal: 880ms\tremaining: 250ms\n",
      "779:\tlearn: 0.0819638\ttotal: 881ms\tremaining: 248ms\n",
      "780:\tlearn: 0.0817380\ttotal: 882ms\tremaining: 247ms\n",
      "781:\tlearn: 0.0816097\ttotal: 883ms\tremaining: 246ms\n",
      "782:\tlearn: 0.0814557\ttotal: 884ms\tremaining: 245ms\n",
      "783:\tlearn: 0.0813359\ttotal: 885ms\tremaining: 244ms\n",
      "784:\tlearn: 0.0813084\ttotal: 886ms\tremaining: 243ms\n",
      "785:\tlearn: 0.0811920\ttotal: 888ms\tremaining: 242ms\n",
      "786:\tlearn: 0.0810989\ttotal: 889ms\tremaining: 241ms\n",
      "787:\tlearn: 0.0809495\ttotal: 890ms\tremaining: 239ms\n",
      "788:\tlearn: 0.0808064\ttotal: 891ms\tremaining: 238ms\n",
      "789:\tlearn: 0.0806294\ttotal: 892ms\tremaining: 237ms\n",
      "790:\tlearn: 0.0804956\ttotal: 893ms\tremaining: 236ms\n",
      "791:\tlearn: 0.0803545\ttotal: 895ms\tremaining: 235ms\n",
      "792:\tlearn: 0.0802097\ttotal: 896ms\tremaining: 234ms\n",
      "793:\tlearn: 0.0800944\ttotal: 897ms\tremaining: 233ms\n",
      "794:\tlearn: 0.0799135\ttotal: 898ms\tremaining: 232ms\n",
      "795:\tlearn: 0.0798514\ttotal: 899ms\tremaining: 230ms\n",
      "796:\tlearn: 0.0797415\ttotal: 900ms\tremaining: 229ms\n",
      "797:\tlearn: 0.0796037\ttotal: 901ms\tremaining: 228ms\n",
      "798:\tlearn: 0.0793720\ttotal: 902ms\tremaining: 227ms\n",
      "799:\tlearn: 0.0791954\ttotal: 903ms\tremaining: 226ms\n",
      "800:\tlearn: 0.0791740\ttotal: 904ms\tremaining: 225ms\n",
      "801:\tlearn: 0.0791093\ttotal: 905ms\tremaining: 224ms\n",
      "802:\tlearn: 0.0789557\ttotal: 907ms\tremaining: 222ms\n",
      "803:\tlearn: 0.0788410\ttotal: 908ms\tremaining: 221ms\n",
      "804:\tlearn: 0.0786577\ttotal: 909ms\tremaining: 220ms\n",
      "805:\tlearn: 0.0785633\ttotal: 910ms\tremaining: 219ms\n",
      "806:\tlearn: 0.0784024\ttotal: 911ms\tremaining: 218ms\n",
      "807:\tlearn: 0.0783378\ttotal: 913ms\tremaining: 217ms\n",
      "808:\tlearn: 0.0783217\ttotal: 914ms\tremaining: 216ms\n",
      "809:\tlearn: 0.0782013\ttotal: 915ms\tremaining: 215ms\n",
      "810:\tlearn: 0.0781446\ttotal: 916ms\tremaining: 213ms\n",
      "811:\tlearn: 0.0780420\ttotal: 917ms\tremaining: 212ms\n",
      "812:\tlearn: 0.0780293\ttotal: 918ms\tremaining: 211ms\n",
      "813:\tlearn: 0.0778727\ttotal: 919ms\tremaining: 210ms\n",
      "814:\tlearn: 0.0777545\ttotal: 920ms\tremaining: 209ms\n",
      "815:\tlearn: 0.0776236\ttotal: 921ms\tremaining: 208ms\n",
      "816:\tlearn: 0.0774934\ttotal: 922ms\tremaining: 207ms\n",
      "817:\tlearn: 0.0773271\ttotal: 923ms\tremaining: 205ms\n",
      "818:\tlearn: 0.0771418\ttotal: 924ms\tremaining: 204ms\n",
      "819:\tlearn: 0.0770022\ttotal: 925ms\tremaining: 203ms\n",
      "820:\tlearn: 0.0768353\ttotal: 926ms\tremaining: 202ms\n",
      "821:\tlearn: 0.0767414\ttotal: 927ms\tremaining: 201ms\n",
      "822:\tlearn: 0.0765920\ttotal: 928ms\tremaining: 200ms\n",
      "823:\tlearn: 0.0765664\ttotal: 929ms\tremaining: 199ms\n",
      "824:\tlearn: 0.0764330\ttotal: 930ms\tremaining: 197ms\n",
      "825:\tlearn: 0.0763435\ttotal: 931ms\tremaining: 196ms\n",
      "826:\tlearn: 0.0761885\ttotal: 932ms\tremaining: 195ms\n",
      "827:\tlearn: 0.0761178\ttotal: 934ms\tremaining: 194ms\n",
      "828:\tlearn: 0.0760982\ttotal: 935ms\tremaining: 193ms\n",
      "829:\tlearn: 0.0759535\ttotal: 936ms\tremaining: 192ms\n",
      "830:\tlearn: 0.0759320\ttotal: 937ms\tremaining: 191ms\n",
      "831:\tlearn: 0.0758406\ttotal: 938ms\tremaining: 189ms\n",
      "832:\tlearn: 0.0757853\ttotal: 939ms\tremaining: 188ms\n",
      "833:\tlearn: 0.0757445\ttotal: 940ms\tremaining: 187ms\n",
      "834:\tlearn: 0.0756377\ttotal: 941ms\tremaining: 186ms\n",
      "835:\tlearn: 0.0755874\ttotal: 942ms\tremaining: 185ms\n",
      "836:\tlearn: 0.0755605\ttotal: 943ms\tremaining: 184ms\n",
      "837:\tlearn: 0.0754848\ttotal: 944ms\tremaining: 183ms\n",
      "838:\tlearn: 0.0753893\ttotal: 945ms\tremaining: 181ms\n",
      "839:\tlearn: 0.0752295\ttotal: 946ms\tremaining: 180ms\n"
     ]
    },
    {
     "name": "stdout",
     "output_type": "stream",
     "text": [
      "840:\tlearn: 0.0751055\ttotal: 947ms\tremaining: 179ms\n",
      "841:\tlearn: 0.0750802\ttotal: 949ms\tremaining: 178ms\n",
      "842:\tlearn: 0.0749588\ttotal: 950ms\tremaining: 177ms\n",
      "843:\tlearn: 0.0749364\ttotal: 951ms\tremaining: 176ms\n",
      "844:\tlearn: 0.0748929\ttotal: 952ms\tremaining: 175ms\n",
      "845:\tlearn: 0.0747206\ttotal: 953ms\tremaining: 173ms\n",
      "846:\tlearn: 0.0746146\ttotal: 954ms\tremaining: 172ms\n",
      "847:\tlearn: 0.0744636\ttotal: 955ms\tremaining: 171ms\n",
      "848:\tlearn: 0.0744340\ttotal: 956ms\tremaining: 170ms\n",
      "849:\tlearn: 0.0743271\ttotal: 957ms\tremaining: 169ms\n",
      "850:\tlearn: 0.0742609\ttotal: 958ms\tremaining: 168ms\n",
      "851:\tlearn: 0.0742083\ttotal: 959ms\tremaining: 167ms\n",
      "852:\tlearn: 0.0741488\ttotal: 960ms\tremaining: 165ms\n",
      "853:\tlearn: 0.0741149\ttotal: 961ms\tremaining: 164ms\n",
      "854:\tlearn: 0.0740287\ttotal: 962ms\tremaining: 163ms\n",
      "855:\tlearn: 0.0740113\ttotal: 963ms\tremaining: 162ms\n",
      "856:\tlearn: 0.0738334\ttotal: 964ms\tremaining: 161ms\n",
      "857:\tlearn: 0.0737628\ttotal: 965ms\tremaining: 160ms\n",
      "858:\tlearn: 0.0737160\ttotal: 966ms\tremaining: 159ms\n",
      "859:\tlearn: 0.0736045\ttotal: 967ms\tremaining: 157ms\n",
      "860:\tlearn: 0.0734775\ttotal: 968ms\tremaining: 156ms\n",
      "861:\tlearn: 0.0734358\ttotal: 969ms\tremaining: 155ms\n",
      "862:\tlearn: 0.0733065\ttotal: 970ms\tremaining: 154ms\n",
      "863:\tlearn: 0.0731544\ttotal: 971ms\tremaining: 153ms\n",
      "864:\tlearn: 0.0729916\ttotal: 972ms\tremaining: 152ms\n",
      "865:\tlearn: 0.0728776\ttotal: 973ms\tremaining: 151ms\n",
      "866:\tlearn: 0.0727547\ttotal: 974ms\tremaining: 149ms\n",
      "867:\tlearn: 0.0727334\ttotal: 975ms\tremaining: 148ms\n",
      "868:\tlearn: 0.0725938\ttotal: 976ms\tremaining: 147ms\n",
      "869:\tlearn: 0.0725133\ttotal: 977ms\tremaining: 146ms\n",
      "870:\tlearn: 0.0725044\ttotal: 978ms\tremaining: 145ms\n",
      "871:\tlearn: 0.0723864\ttotal: 979ms\tremaining: 144ms\n",
      "872:\tlearn: 0.0722482\ttotal: 980ms\tremaining: 143ms\n",
      "873:\tlearn: 0.0721423\ttotal: 981ms\tremaining: 141ms\n",
      "874:\tlearn: 0.0720360\ttotal: 983ms\tremaining: 140ms\n",
      "875:\tlearn: 0.0719798\ttotal: 984ms\tremaining: 139ms\n",
      "876:\tlearn: 0.0719019\ttotal: 985ms\tremaining: 138ms\n",
      "877:\tlearn: 0.0718565\ttotal: 986ms\tremaining: 137ms\n",
      "878:\tlearn: 0.0718148\ttotal: 987ms\tremaining: 136ms\n",
      "879:\tlearn: 0.0717071\ttotal: 988ms\tremaining: 135ms\n",
      "880:\tlearn: 0.0716703\ttotal: 989ms\tremaining: 134ms\n",
      "881:\tlearn: 0.0715273\ttotal: 990ms\tremaining: 132ms\n",
      "882:\tlearn: 0.0714180\ttotal: 991ms\tremaining: 131ms\n",
      "883:\tlearn: 0.0713101\ttotal: 992ms\tremaining: 130ms\n",
      "884:\tlearn: 0.0711683\ttotal: 993ms\tremaining: 129ms\n",
      "885:\tlearn: 0.0711388\ttotal: 994ms\tremaining: 128ms\n",
      "886:\tlearn: 0.0710761\ttotal: 995ms\tremaining: 127ms\n",
      "887:\tlearn: 0.0709624\ttotal: 996ms\tremaining: 126ms\n",
      "888:\tlearn: 0.0708684\ttotal: 997ms\tremaining: 125ms\n",
      "889:\tlearn: 0.0708473\ttotal: 998ms\tremaining: 123ms\n",
      "890:\tlearn: 0.0707320\ttotal: 999ms\tremaining: 122ms\n",
      "891:\tlearn: 0.0706165\ttotal: 1s\tremaining: 121ms\n",
      "892:\tlearn: 0.0704506\ttotal: 1s\tremaining: 120ms\n",
      "893:\tlearn: 0.0704140\ttotal: 1s\tremaining: 119ms\n",
      "894:\tlearn: 0.0703921\ttotal: 1s\tremaining: 118ms\n",
      "895:\tlearn: 0.0702819\ttotal: 1s\tremaining: 117ms\n",
      "896:\tlearn: 0.0701788\ttotal: 1s\tremaining: 115ms\n",
      "897:\tlearn: 0.0700535\ttotal: 1.01s\tremaining: 114ms\n",
      "898:\tlearn: 0.0699647\ttotal: 1.01s\tremaining: 113ms\n",
      "899:\tlearn: 0.0698302\ttotal: 1.01s\tremaining: 112ms\n",
      "900:\tlearn: 0.0698213\ttotal: 1.01s\tremaining: 111ms\n",
      "901:\tlearn: 0.0697297\ttotal: 1.01s\tremaining: 110ms\n",
      "902:\tlearn: 0.0697208\ttotal: 1.01s\tremaining: 109ms\n",
      "903:\tlearn: 0.0696417\ttotal: 1.01s\tremaining: 108ms\n",
      "904:\tlearn: 0.0696146\ttotal: 1.01s\tremaining: 106ms\n",
      "905:\tlearn: 0.0696077\ttotal: 1.01s\tremaining: 105ms\n",
      "906:\tlearn: 0.0694882\ttotal: 1.01s\tremaining: 104ms\n",
      "907:\tlearn: 0.0694563\ttotal: 1.02s\tremaining: 103ms\n",
      "908:\tlearn: 0.0693334\ttotal: 1.02s\tremaining: 102ms\n",
      "909:\tlearn: 0.0691971\ttotal: 1.02s\tremaining: 101ms\n",
      "910:\tlearn: 0.0691715\ttotal: 1.02s\tremaining: 99.6ms\n",
      "911:\tlearn: 0.0690961\ttotal: 1.02s\tremaining: 98.5ms\n",
      "912:\tlearn: 0.0689980\ttotal: 1.02s\tremaining: 97.4ms\n",
      "913:\tlearn: 0.0689003\ttotal: 1.02s\tremaining: 96.3ms\n",
      "914:\tlearn: 0.0688039\ttotal: 1.02s\tremaining: 95.1ms\n",
      "915:\tlearn: 0.0687034\ttotal: 1.02s\tremaining: 94ms\n",
      "916:\tlearn: 0.0685464\ttotal: 1.03s\tremaining: 92.9ms\n",
      "917:\tlearn: 0.0684327\ttotal: 1.03s\tremaining: 91.7ms\n",
      "918:\tlearn: 0.0684225\ttotal: 1.03s\tremaining: 90.6ms\n",
      "919:\tlearn: 0.0683198\ttotal: 1.03s\tremaining: 89.5ms\n",
      "920:\tlearn: 0.0682572\ttotal: 1.03s\tremaining: 88.4ms\n",
      "921:\tlearn: 0.0681836\ttotal: 1.03s\tremaining: 87.2ms\n",
      "922:\tlearn: 0.0681623\ttotal: 1.03s\tremaining: 86.1ms\n",
      "923:\tlearn: 0.0681222\ttotal: 1.03s\tremaining: 85ms\n",
      "924:\tlearn: 0.0680234\ttotal: 1.03s\tremaining: 83.8ms\n",
      "925:\tlearn: 0.0678775\ttotal: 1.03s\tremaining: 82.7ms\n",
      "926:\tlearn: 0.0677650\ttotal: 1.03s\tremaining: 81.6ms\n",
      "927:\tlearn: 0.0677001\ttotal: 1.04s\tremaining: 80.5ms\n",
      "928:\tlearn: 0.0675538\ttotal: 1.04s\tremaining: 79.3ms\n",
      "929:\tlearn: 0.0674453\ttotal: 1.04s\tremaining: 78.2ms\n",
      "930:\tlearn: 0.0673832\ttotal: 1.04s\tremaining: 77.1ms\n",
      "931:\tlearn: 0.0672656\ttotal: 1.04s\tremaining: 76ms\n",
      "932:\tlearn: 0.0671878\ttotal: 1.04s\tremaining: 74.8ms\n",
      "933:\tlearn: 0.0671062\ttotal: 1.04s\tremaining: 73.7ms\n",
      "934:\tlearn: 0.0670996\ttotal: 1.04s\tremaining: 72.6ms\n",
      "935:\tlearn: 0.0670349\ttotal: 1.04s\tremaining: 71.5ms\n",
      "936:\tlearn: 0.0670031\ttotal: 1.05s\tremaining: 70.3ms\n",
      "937:\tlearn: 0.0669286\ttotal: 1.05s\tremaining: 69.2ms\n",
      "938:\tlearn: 0.0667484\ttotal: 1.05s\tremaining: 68.1ms\n",
      "939:\tlearn: 0.0667000\ttotal: 1.05s\tremaining: 67ms\n",
      "940:\tlearn: 0.0665958\ttotal: 1.05s\tremaining: 65.8ms\n",
      "941:\tlearn: 0.0664886\ttotal: 1.05s\tremaining: 64.7ms\n",
      "942:\tlearn: 0.0663474\ttotal: 1.05s\tremaining: 63.6ms\n",
      "943:\tlearn: 0.0662972\ttotal: 1.05s\tremaining: 62.5ms\n",
      "944:\tlearn: 0.0661917\ttotal: 1.05s\tremaining: 61.3ms\n",
      "945:\tlearn: 0.0661838\ttotal: 1.05s\tremaining: 60.2ms\n",
      "946:\tlearn: 0.0661531\ttotal: 1.06s\tremaining: 59.1ms\n",
      "947:\tlearn: 0.0661108\ttotal: 1.06s\tremaining: 58ms\n",
      "948:\tlearn: 0.0660412\ttotal: 1.06s\tremaining: 56.9ms\n",
      "949:\tlearn: 0.0659783\ttotal: 1.06s\tremaining: 55.7ms\n",
      "950:\tlearn: 0.0658995\ttotal: 1.06s\tremaining: 54.6ms\n",
      "951:\tlearn: 0.0658624\ttotal: 1.06s\tremaining: 53.5ms\n",
      "952:\tlearn: 0.0658526\ttotal: 1.06s\tremaining: 52.4ms\n",
      "953:\tlearn: 0.0657290\ttotal: 1.06s\tremaining: 51.3ms\n",
      "954:\tlearn: 0.0655873\ttotal: 1.06s\tremaining: 50.2ms\n",
      "955:\tlearn: 0.0655186\ttotal: 1.06s\tremaining: 49.1ms\n",
      "956:\tlearn: 0.0654000\ttotal: 1.07s\tremaining: 47.9ms\n",
      "957:\tlearn: 0.0653304\ttotal: 1.07s\tremaining: 46.8ms\n",
      "958:\tlearn: 0.0652793\ttotal: 1.07s\tremaining: 45.7ms\n",
      "959:\tlearn: 0.0651808\ttotal: 1.07s\tremaining: 44.6ms\n",
      "960:\tlearn: 0.0651732\ttotal: 1.07s\tremaining: 43.5ms\n",
      "961:\tlearn: 0.0651336\ttotal: 1.07s\tremaining: 42.3ms\n",
      "962:\tlearn: 0.0651254\ttotal: 1.07s\tremaining: 41.2ms\n",
      "963:\tlearn: 0.0649849\ttotal: 1.07s\tremaining: 40.1ms\n",
      "964:\tlearn: 0.0649755\ttotal: 1.07s\tremaining: 39ms\n",
      "965:\tlearn: 0.0648891\ttotal: 1.07s\tremaining: 37.9ms\n"
     ]
    },
    {
     "name": "stdout",
     "output_type": "stream",
     "text": [
      "966:\tlearn: 0.0648829\ttotal: 1.08s\tremaining: 36.7ms\n",
      "967:\tlearn: 0.0647936\ttotal: 1.08s\tremaining: 35.6ms\n",
      "968:\tlearn: 0.0646963\ttotal: 1.08s\tremaining: 34.5ms\n",
      "969:\tlearn: 0.0646904\ttotal: 1.08s\tremaining: 33.4ms\n",
      "970:\tlearn: 0.0646833\ttotal: 1.08s\tremaining: 32.3ms\n",
      "971:\tlearn: 0.0646672\ttotal: 1.08s\tremaining: 31.2ms\n",
      "972:\tlearn: 0.0646494\ttotal: 1.08s\tremaining: 30.1ms\n",
      "973:\tlearn: 0.0645869\ttotal: 1.08s\tremaining: 28.9ms\n",
      "974:\tlearn: 0.0645708\ttotal: 1.08s\tremaining: 27.8ms\n",
      "975:\tlearn: 0.0644177\ttotal: 1.08s\tremaining: 26.7ms\n",
      "976:\tlearn: 0.0643729\ttotal: 1.09s\tremaining: 25.6ms\n",
      "977:\tlearn: 0.0643644\ttotal: 1.09s\tremaining: 24.5ms\n",
      "978:\tlearn: 0.0641762\ttotal: 1.09s\tremaining: 23.4ms\n",
      "979:\tlearn: 0.0640506\ttotal: 1.09s\tremaining: 22.2ms\n",
      "980:\tlearn: 0.0640390\ttotal: 1.09s\tremaining: 21.1ms\n",
      "981:\tlearn: 0.0639258\ttotal: 1.09s\tremaining: 20ms\n",
      "982:\tlearn: 0.0639150\ttotal: 1.09s\tremaining: 18.9ms\n",
      "983:\tlearn: 0.0637288\ttotal: 1.09s\tremaining: 17.8ms\n",
      "984:\tlearn: 0.0636582\ttotal: 1.09s\tremaining: 16.7ms\n",
      "985:\tlearn: 0.0636063\ttotal: 1.1s\tremaining: 15.6ms\n",
      "986:\tlearn: 0.0636004\ttotal: 1.1s\tremaining: 14.5ms\n",
      "987:\tlearn: 0.0635938\ttotal: 1.1s\tremaining: 13.3ms\n",
      "988:\tlearn: 0.0635521\ttotal: 1.1s\tremaining: 12.2ms\n",
      "989:\tlearn: 0.0634846\ttotal: 1.1s\tremaining: 11.1ms\n",
      "990:\tlearn: 0.0633727\ttotal: 1.1s\tremaining: 10ms\n",
      "991:\tlearn: 0.0632086\ttotal: 1.1s\tremaining: 8.9ms\n",
      "992:\tlearn: 0.0630956\ttotal: 1.1s\tremaining: 7.79ms\n",
      "993:\tlearn: 0.0629871\ttotal: 1.1s\tremaining: 6.67ms\n",
      "994:\tlearn: 0.0629521\ttotal: 1.11s\tremaining: 5.56ms\n",
      "995:\tlearn: 0.0628855\ttotal: 1.11s\tremaining: 4.45ms\n",
      "996:\tlearn: 0.0628794\ttotal: 1.11s\tremaining: 3.34ms\n",
      "997:\tlearn: 0.0628081\ttotal: 1.11s\tremaining: 2.23ms\n",
      "998:\tlearn: 0.0627248\ttotal: 1.11s\tremaining: 1.11ms\n",
      "999:\tlearn: 0.0626686\ttotal: 1.11s\tremaining: 0us\n"
     ]
    },
    {
     "data": {
      "text/plain": [
       "<catboost.core.CatBoostRegressor at 0x7fce9fbeeb50>"
      ]
     },
     "execution_count": 9,
     "metadata": {},
     "output_type": "execute_result"
    }
   ],
   "source": [
    "#Train the Model \n",
    "prior_model = ctb.CatBoostRegressor()\n",
    "prior_model.fit(X_train,Y_train)"
   ]
  },
  {
   "cell_type": "code",
   "execution_count": 10,
   "id": "c775fd81",
   "metadata": {
    "execution": {
     "iopub.execute_input": "2022-01-14T14:41:29.899613Z",
     "iopub.status.busy": "2022-01-14T14:41:29.898965Z",
     "iopub.status.idle": "2022-01-14T14:41:29.911458Z",
     "shell.execute_reply": "2022-01-14T14:41:29.911970Z"
    },
    "papermill": {
     "duration": 0.048411,
     "end_time": "2022-01-14T14:41:29.912115",
     "exception": false,
     "start_time": "2022-01-14T14:41:29.863704",
     "status": "completed"
    },
    "tags": []
   },
   "outputs": [
    {
     "data": {
      "application/scrapbook.scrap.json+json": {
       "data": 0.1083487972869168,
       "encoder": "json",
       "name": "Prior Model MSE",
       "version": 1
      }
     },
     "metadata": {
      "scrapbook": {
       "data": true,
       "display": false,
       "name": "Prior Model MSE"
      }
     },
     "output_type": "display_data"
    },
    {
     "data": {
      "application/scrapbook.scrap.json+json": {
       "data": 0.9867433023767227,
       "encoder": "json",
       "name": "ABC Pre-generator MSE",
       "version": 1
      }
     },
     "metadata": {
      "scrapbook": {
       "data": true,
       "display": false,
       "name": "ABC Pre-generator MSE"
      }
     },
     "output_type": "display_data"
    }
   ],
   "source": [
    "y_pred = prior_model.predict(X_test)\n",
    "y_abc = y_pred + np.random.normal(0,variance, y_pred.shape)\n",
    "mse = mean_squared_error(y_pred,Y_test)\n",
    "sb.glue(\"Prior Model MSE\",mse)\n",
    "mse = mean_squared_error(y_abc,Y_test)\n",
    "sb.glue(\"ABC Pre-generator MSE\",mse)"
   ]
  },
  {
   "cell_type": "markdown",
   "id": "0cd0def6",
   "metadata": {
    "papermill": {
     "duration": 0.030644,
     "end_time": "2022-01-14T14:41:29.974205",
     "exception": false,
     "start_time": "2022-01-14T14:41:29.943561",
     "status": "completed"
    },
    "tags": []
   },
   "source": [
    "# ABC GAN Model"
   ]
  },
  {
   "cell_type": "markdown",
   "id": "70beaf4c",
   "metadata": {
    "papermill": {
     "duration": 0.029409,
     "end_time": "2022-01-14T14:41:30.033102",
     "exception": false,
     "start_time": "2022-01-14T14:41:30.003693",
     "status": "completed"
    },
    "tags": []
   },
   "source": [
    "### Training the network\n",
    "**Training ABC-GAN for n_epochs number of epochs** "
   ]
  },
  {
   "cell_type": "code",
   "execution_count": 11,
   "id": "dbaaafa1",
   "metadata": {
    "execution": {
     "iopub.execute_input": "2022-01-14T14:41:30.105054Z",
     "iopub.status.busy": "2022-01-14T14:41:30.104321Z",
     "iopub.status.idle": "2022-01-14T14:41:33.100085Z",
     "shell.execute_reply": "2022-01-14T14:41:33.099471Z"
    },
    "papermill": {
     "duration": 3.03571,
     "end_time": "2022-01-14T14:41:33.100243",
     "exception": false,
     "start_time": "2022-01-14T14:41:30.064533",
     "status": "completed"
    },
    "tags": []
   },
   "outputs": [],
   "source": [
    "gen = network.Generator(n_features+1).to(device)\n",
    "disc = network.Discriminator(n_features+1).to(device)\n",
    "\n",
    "criterion = torch.nn.BCELoss()\n",
    "gen_opt = torch.optim.Adam(gen.parameters(), lr=0.001, betas=(0.5, 0.999))\n",
    "disc_opt = torch.optim.Adam(disc.parameters(), lr=0.01, betas=(0.5, 0.999))"
   ]
  },
  {
   "cell_type": "code",
   "execution_count": 12,
   "id": "6e9eeab8",
   "metadata": {
    "execution": {
     "iopub.execute_input": "2022-01-14T14:41:33.169012Z",
     "iopub.status.busy": "2022-01-14T14:41:33.168327Z",
     "iopub.status.idle": "2022-01-14T14:47:07.600353Z",
     "shell.execute_reply": "2022-01-14T14:47:07.599777Z"
    },
    "papermill": {
     "duration": 334.467643,
     "end_time": "2022-01-14T14:47:07.600519",
     "exception": false,
     "start_time": "2022-01-14T14:41:33.132876",
     "status": "completed"
    },
    "tags": []
   },
   "outputs": [
    {
     "data": {
      "image/png": "[encoded data removed]",
      "text/plain": [
       "<Figure size 432x288 with 1 Axes>"
      ]
     },
     "metadata": {
      "needs_background": "light"
     },
     "output_type": "display_data"
    },
    {
     "data": {
      "image/png": "[encoded data removed]",
      "text/plain": [
       "<Figure size 432x288 with 1 Axes>"
      ]
     },
     "metadata": {
      "needs_background": "light"
     },
     "output_type": "display_data"
    }
   ],
   "source": [
    "#Training the ABC_GAN \n",
    "ABC_train_test2.training_GAN(disc,gen,disc_opt,gen_opt,train_data,batch_size,n_epochs,criterion,prior_model,variance,device)"
   ]
  },
  {
   "cell_type": "code",
   "execution_count": 13,
   "id": "11c3082e",
   "metadata": {
    "execution": {
     "iopub.execute_input": "2022-01-14T14:47:07.670836Z",
     "iopub.status.busy": "2022-01-14T14:47:07.670122Z",
     "iopub.status.idle": "2022-01-14T14:47:08.057275Z",
     "shell.execute_reply": "2022-01-14T14:47:08.056716Z"
    },
    "papermill": {
     "duration": 0.42441,
     "end_time": "2022-01-14T14:47:08.057407",
     "exception": false,
     "start_time": "2022-01-14T14:47:07.632997",
     "status": "completed"
    },
    "tags": []
   },
   "outputs": [
    {
     "data": {
      "application/scrapbook.scrap.json+json": {
       "data": 0.1826194716330341,
       "encoder": "json",
       "name": "ABC-GAN Model 1 MSE",
       "version": 1
      }
     },
     "metadata": {
      "scrapbook": {
       "data": true,
       "display": false,
       "name": "ABC-GAN Model 1 MSE"
      }
     },
     "output_type": "display_data"
    },
    {
     "data": {
      "application/scrapbook.scrap.json+json": {
       "data": 0.2899978410697305,
       "encoder": "json",
       "name": "ABC-GAN Model 1 MAE",
       "version": 1
      }
     },
     "metadata": {
      "scrapbook": {
       "data": true,
       "display": false,
       "name": "ABC-GAN Model 1 MAE"
      }
     },
     "output_type": "display_data"
    },
    {
     "data": {
      "application/scrapbook.scrap.json+json": {
       "data": 29.579779789112507,
       "encoder": "json",
       "name": "ABC-GAN Model 1 Manhattan Distance",
       "version": 1
      }
     },
     "metadata": {
      "scrapbook": {
       "data": true,
       "display": false,
       "name": "ABC-GAN Model 1 Manhattan Distance"
      }
     },
     "output_type": "display_data"
    },
    {
     "data": {
      "application/scrapbook.scrap.json+json": {
       "data": 4.315890104471015,
       "encoder": "json",
       "name": "ABC-GAN Model 1 Euclidean distance",
       "version": 1
      }
     },
     "metadata": {
      "scrapbook": {
       "data": true,
       "display": false,
       "name": "ABC-GAN Model 1 Euclidean distance"
      }
     },
     "output_type": "display_data"
    },
    {
     "data": {
      "application/scrapbook.scrap.json+json": {
       "data": [
        [
         0.1820556370174839,
         0.18228902991381585,
         0.18200424802812606,
         0.18552746425600922,
         0.1832717592385518,
         0.18259543457143337,
         0.18181052277237866,
         0.18183096483585418,
         0.1811681730704783,
         0.18377620343135118,
         0.1857994716337982,
         0.1817382358846893,
         0.1822616692811371,
         0.18066823552813735,
         0.18161388219685923,
         0.18424203777766604,
         0.1838301231840441,
         0.18252525045289633,
         0.18123229997612192,
         0.1834392684898869,
         0.18539409308407684,
         0.1817885123656947,
         0.18306192989211292,
         0.18271900371308641,
         0.1818734034705139,
         0.182039667148701,
         0.1828442797836166,
         0.18205577866432088,
         0.18282196920257454,
         0.1834855978741181,
         0.182034960041021,
         0.18297684005648882,
         0.18212489258598766,
         0.18273996020842564,
         0.18262852920261297,
         0.18200417385188244,
         0.18143811939819376,
         0.1835575005012485,
         0.17899904266290853,
         0.18279494264811183,
         0.18042654063311225,
         0.18297888469126233,
         0.18266770270451446,
         0.18427000875606897,
         0.18252434754253283,
         0.18198397508440492,
         0.18415646068827862,
         0.18449571764524836,
         0.18174774988044962,
         0.18091425164847438,
         0.18285001230493753,
         0.18424597726305175,
         0.18101188477803154,
         0.18141100799811288,
         0.1852060088762001,
         0.18313475800828805,
         0.18493945519916774,
         0.1828628631689945,
         0.18400373879031537,
         0.18270184904680586,
         0.18181792994709162,
         0.18315322844011203,
         0.18374374072794739,
         0.18277514808490167,
         0.18202178125044896,
         0.18412516228904757,
         0.18243148745391116,
         0.18201099520367028,
         0.18063168995118176,
         0.18610659261202742,
         0.18449193226140959,
         0.18431606643351942,
         0.1809967768169653,
         0.1824970815107744,
         0.18132778601683278,
         0.17944482167902595,
         0.18545276007236078,
         0.1805462658908775,
         0.1818487413989095,
         0.18165225726580714,
         0.1841325490948244,
         0.18308519199543444,
         0.18316552504769765,
         0.1834684047428779,
         0.18334506008188756,
         0.1806356706668522,
         0.1808747755649841,
         0.1827807548727623,
         0.18558932888494784,
         0.18210612783281158,
         0.1819413291185652,
         0.18053855144186123,
         0.18234308037015062,
         0.18071104030299495,
         0.18394258742490385,
         0.18291422446982755,
         0.17963555635897735,
         0.18359359408988768,
         0.182015210289768,
         0.18214005273990252
        ],
        [
         0.2893291349778427,
         0.2907244731562541,
         0.28995452813037176,
         0.2914553953097293,
         0.29066505446555274,
         0.2912044911097516,
         0.28856303804901007,
         0.28928676757998034,
         0.28854499701593145,
         0.29103832552209496,
         0.29127106549875703,
         0.29037287578388465,
         0.29069596155564864,
         0.2881587016871016,
         0.28922054057429525,
         0.2907897871736364,
         0.2915144178413731,
         0.28962848975560535,
         0.2886510589160025,
         0.29026110275812883,
         0.2901899171719218,
         0.28774370003820343,
         0.2895063485347611,
         0.2921343442399566,
         0.2901980135425487,
         0.2906646601143567,
         0.2897081885979894,
         0.2900812776266214,
         0.28992668496371776,
         0.29224161895941575,
         0.2900914330601546,
         0.2899940043012155,
         0.2899768816617628,
         0.2898650270083225,
         0.2882984878184895,
         0.2881934560524921,
         0.28787102262653846,
         0.29020250359477073,
         0.2885573074568574,
         0.2907583562967678,
         0.2903236772627661,
         0.29007216721006174,
         0.29007345013430014,
         0.28990460938646223,
         0.2895582444217129,
         0.28843802092231663,
         0.28863188554076297,
         0.29144465117076157,
         0.2894797264050473,
         0.28790987008159946,
         0.28945217404843254,
         0.29046012778017744,
         0.28995111370093973,
         0.28907039450189354,
         0.29184710963939625,
         0.2908156671123031,
         0.2933888385784538,
         0.29096583571905893,
         0.2911138970167467,
         0.28973502905893267,
         0.2896148705142824,
         0.2919910114678536,
         0.29091593384852305,
         0.291359935932811,
         0.2888972179178952,
         0.291353870265405,
         0.2899531672306943,
         0.28979319165113804,
         0.2878911491647801,
         0.29170221929420154,
         0.289858983510046,
         0.29081656755514296,
         0.2900839224183822,
         0.29036912764879125,
         0.2904319131253835,
         0.2875095606489363,
         0.2915507843809239,
         0.28920810329088686,
         0.28887220876583575,
         0.29012780690419615,
         0.28956811414008926,
         0.2903811024666271,
         0.28941974444680063,
         0.2907543556271669,
         0.2887232057366739,
         0.28814689931003196,
         0.2899071550197607,
         0.29025364574958007,
         0.292519154437982,
         0.2918283384859416,
         0.2887645838143048,
         0.28905962161975457,
         0.29083897294841854,
         0.2898296895619555,
         0.2903572776647029,
         0.2901381700774472,
         0.28614591413597557,
         0.29010749452144785,
         0.2912888223323606,
         0.28928036911997435
        ],
        [
         29.51157176773995,
         29.653896261937916,
         29.57536186929792,
         29.72845032159239,
         29.64783555548638,
         29.702858093194664,
         29.43342988099903,
         29.507250293157995,
         29.431589695625007,
         29.685909203253686,
         29.709648680873215,
         29.618033329956234,
         29.650988078676164,
         29.392187572084367,
         29.500495138578117,
         29.660558291710913,
         29.73447061982006,
         29.542105955071747,
         29.442408009432256,
         29.606632481329143,
         29.599371551536024,
         29.34985740389675,
         29.529647550545633,
         29.797703112475574,
         29.600197381339967,
         29.647795331664383,
         29.550235236994922,
         29.58829031791538,
         29.572521866299212,
         29.80864513386041,
         29.58932617213577,
         29.57938843872398,
         29.577641929499805,
         29.566232754848897,
         29.406445757485926,
         29.39573251735419,
         29.362844307906926,
         29.600655366666615,
         29.432845360599458,
         29.657352342270315,
         29.613015080802143,
         29.5873610554263,
         29.587491913698614,
         29.570270157419145,
         29.534940931014717,
         29.420678134076297,
         29.44045232515782,
         29.72735441941768,
         29.526932093314826,
         29.366806748323143,
         29.52412175294012,
         29.626933033578098,
         29.575013597495854,
         29.48518023919314,
         29.76840518321842,
         29.66319804545492,
         29.92566153500229,
         29.67851524334401,
         29.693617495708168,
         29.552972964011133,
         29.540716792456806,
         29.783083169721067,
         29.67342525254935,
         29.71871346514672,
         29.46751622762531,
         29.718094767071307,
         29.57522305753082,
         29.558905548416078,
         29.36489721480757,
         29.753626368008554,
         29.565616318024695,
         29.663289890624583,
         29.58856008667499,
         29.61765102017671,
         29.624055138789117,
         29.3259751861915,
         29.738180006854236,
         29.49922653567046,
         29.464965294115245,
         29.593036304228008,
         29.535947642289102,
         29.618872451595962,
         29.520813933573663,
         29.65694427397102,
         29.44976698514074,
         29.390983729623258,
         29.570529812015593,
         29.605871866457164,
         29.836953752674162,
         29.76649052556604,
         29.453987549059093,
         29.484081405214965,
         29.66557524073869,
         29.56262833531946,
         29.616442321799695,
         29.594093347899616,
         29.18688324186951,
         29.59096444118768,
         29.71145987790078,
         29.50659765023738
        ],
        [
         4.30925457310001,
         4.312015891808518,
         4.3086463418188385,
         4.350149578360833,
         4.323623415878431,
         4.315638345168209,
         4.306352670506984,
         4.306594758420755,
         4.298738611870788,
         4.329569580223629,
         4.353337352726918,
         4.305496494045525,
         4.311692274116508,
         4.292803282689531,
         4.304023232288558,
         4.335053385290881,
         4.3302046793162665,
         4.314808865546123,
         4.299499342663566,
         4.325598847092556,
         4.348585689000026,
         4.306091994059213,
         4.321147631011408,
         4.317098374919758,
         4.307097300269917,
         4.30906556566125,
         4.318578068986237,
         4.309256249489084,
         4.31831458542133,
         4.326145048788822,
         4.309009854268627,
         4.320143248291873,
         4.3100741343706295,
         4.317345937177077,
         4.316029422822152,
         4.30864546381946,
         4.301940048235885,
         4.326992610477552,
         4.272926672857454,
         4.317995385605155,
         4.289930902074933,
         4.320167385473479,
         4.316492288405074,
         4.3353824390841265,
         4.314798193350222,
         4.308406371108615,
         4.3340464914678085,
         4.338036790970696,
         4.30560918893086,
         4.2957250456872105,
         4.318645766337363,
         4.335099731359278,
         4.296884016046884,
         4.30161862742474,
         4.3463792868745825,
         4.322007093567222,
         4.343250445267359,
         4.318797522834039,
         4.3322489952231695,
         4.3168957136783135,
         4.30644039255199,
         4.322225040519227,
         4.329187170156845,
         4.317761584972006,
         4.308853871686274,
         4.333678178347217,
         4.313700467151021,
         4.308726205130045,
         4.292369086532581,
         4.356933835442857,
         4.337992287990352,
         4.335924212462549,
         4.296704694918008,
         4.3144759025980175,
         4.30063183424447,
         4.278244010252413,
         4.349273678142225,
         4.2913539962195495,
         4.306805268721673,
         4.304477928984226,
         4.333765107579331,
         4.321422171407731,
         4.322370131636711,
         4.325942357888457,
         4.324487961406821,
         4.292416383346207,
         4.295256349466046,
         4.317827810024591,
         4.350874802412118,
         4.3098520901472686,
         4.307901527436955,
         4.291262313943281,
         4.3126551215875555,
         4.293311788224271,
         4.331529050732568,
         4.319403997766637,
         4.280517112290954,
         4.32741800582848,
         4.308776096475231,
         4.310253516844463
        ]
       ],
       "encoder": "json",
       "name": "ABC_GAN_1 Metrics",
       "version": 1
      }
     },
     "metadata": {
      "scrapbook": {
       "data": true,
       "display": false,
       "name": "ABC_GAN_1 Metrics"
      }
     },
     "output_type": "display_data"
    }
   ],
   "source": [
    "ABC_GAN1_metrics=ABC_train_test2.test_generator(gen,test_data,prior_model,variance,\"1\",device)\n",
    "sb.glue(\"ABC_GAN_1 Metrics\",ABC_GAN1_metrics)"
   ]
  },
  {
   "cell_type": "markdown",
   "id": "394a2b9d",
   "metadata": {
    "papermill": {
     "duration": 0.03615,
     "end_time": "2022-01-14T14:47:08.129852",
     "exception": false,
     "start_time": "2022-01-14T14:47:08.093702",
     "status": "completed"
    },
    "tags": []
   },
   "source": [
    "#### Sanity Checks "
   ]
  },
  {
   "cell_type": "code",
   "execution_count": 14,
   "id": "a36b3b22",
   "metadata": {
    "execution": {
     "iopub.execute_input": "2022-01-14T14:47:08.203978Z",
     "iopub.status.busy": "2022-01-14T14:47:08.203311Z",
     "iopub.status.idle": "2022-01-14T14:47:08.978697Z",
     "shell.execute_reply": "2022-01-14T14:47:08.978162Z"
    },
    "papermill": {
     "duration": 0.814377,
     "end_time": "2022-01-14T14:47:08.978843",
     "exception": false,
     "start_time": "2022-01-14T14:47:08.164466",
     "status": "completed"
    },
    "tags": []
   },
   "outputs": [
    {
     "data": {
      "image/png": "[encoded data removed]",
      "text/plain": [
       "<Figure size 432x288 with 1 Axes>"
      ]
     },
     "metadata": {
      "needs_background": "light"
     },
     "output_type": "display_data"
    },
    {
     "data": {
      "image/png": "[encoded data removed]",
      "text/plain": [
       "<Figure size 432x288 with 1 Axes>"
      ]
     },
     "metadata": {
      "needs_background": "light"
     },
     "output_type": "display_data"
    },
    {
     "data": {
      "image/png": "[encoded data removed]",
      "text/plain": [
       "<Figure size 432x288 with 1 Axes>"
      ]
     },
     "metadata": {
      "needs_background": "light"
     },
     "output_type": "display_data"
    },
    {
     "data": {
      "image/png": "[encoded data removed]",
      "text/plain": [
       "<Figure size 432x288 with 1 Axes>"
      ]
     },
     "metadata": {
      "needs_background": "light"
     },
     "output_type": "display_data"
    }
   ],
   "source": [
    "sanityChecks.discProbVsError(train_data,disc,device)\n",
    "sanityChecks.discProbVsError(test_data,disc,device)"
   ]
  },
  {
   "cell_type": "markdown",
   "id": "130f3a4d",
   "metadata": {
    "papermill": {
     "duration": 0.04015,
     "end_time": "2022-01-14T14:47:09.059075",
     "exception": false,
     "start_time": "2022-01-14T14:47:09.018925",
     "status": "completed"
    },
    "tags": []
   },
   "source": [
    "# ABC - GAN Model with skip connection"
   ]
  },
  {
   "cell_type": "code",
   "execution_count": 15,
   "id": "4e43dad1",
   "metadata": {
    "execution": {
     "iopub.execute_input": "2022-01-14T14:47:09.144727Z",
     "iopub.status.busy": "2022-01-14T14:47:09.144055Z",
     "iopub.status.idle": "2022-01-14T14:47:09.149162Z",
     "shell.execute_reply": "2022-01-14T14:47:09.148664Z"
    },
    "papermill": {
     "duration": 0.051677,
     "end_time": "2022-01-14T14:47:09.149299",
     "exception": false,
     "start_time": "2022-01-14T14:47:09.097622",
     "status": "completed"
    },
    "tags": []
   },
   "outputs": [],
   "source": [
    "#Generator\n",
    "gen3 = network.GeneratorWithSkipConnection(n_features+1).to(device)\n",
    "constraints=network.weightConstraint()\n",
    "#Discriminator \n",
    "disc3 = network.Discriminator(n_features+1).to(device)\n",
    "\n",
    "criterion = torch.nn.BCELoss()\n",
    "gen_opt = torch.optim.Adam(gen3.parameters(), lr=0.01, betas=(0.5, 0.999))\n",
    "disc_opt = torch.optim.Adam(disc3.parameters(), lr=0.01, betas=(0.5, 0.999))\n"
   ]
  },
  {
   "cell_type": "code",
   "execution_count": 16,
   "id": "26acbc37",
   "metadata": {
    "execution": {
     "iopub.execute_input": "2022-01-14T14:47:09.234086Z",
     "iopub.status.busy": "2022-01-14T14:47:09.233476Z",
     "iopub.status.idle": "2022-01-14T15:23:46.202779Z",
     "shell.execute_reply": "2022-01-14T15:23:46.202122Z"
    },
    "papermill": {
     "duration": 2197.013307,
     "end_time": "2022-01-14T15:23:46.202931",
     "exception": false,
     "start_time": "2022-01-14T14:47:09.189624",
     "status": "completed"
    },
    "tags": []
   },
   "outputs": [
    {
     "data": {
      "image/png": "[encoded data removed]",
      "text/plain": [
       "<Figure size 432x288 with 1 Axes>"
      ]
     },
     "metadata": {
      "needs_background": "light"
     },
     "output_type": "display_data"
    },
    {
     "data": {
      "image/png": "[encoded data removed]",
      "text/plain": [
       "<Figure size 432x288 with 1 Axes>"
      ]
     },
     "metadata": {
      "needs_background": "light"
     },
     "output_type": "display_data"
    }
   ],
   "source": [
    "ABC_train_test2.training_GAN_skip_connection(disc3,gen3,disc_opt,gen_opt,train_data,batch_size,n_epochs,criterion,prior_model,variance,device)\n"
   ]
  },
  {
   "cell_type": "code",
   "execution_count": 17,
   "id": "c5e0717b",
   "metadata": {
    "execution": {
     "iopub.execute_input": "2022-01-14T15:23:46.300108Z",
     "iopub.status.busy": "2022-01-14T15:23:46.299395Z",
     "iopub.status.idle": "2022-01-14T15:23:48.435267Z",
     "shell.execute_reply": "2022-01-14T15:23:48.435748Z"
    },
    "papermill": {
     "duration": 2.187412,
     "end_time": "2022-01-14T15:23:48.436001",
     "exception": false,
     "start_time": "2022-01-14T15:23:46.248589",
     "status": "completed"
    },
    "tags": []
   },
   "outputs": [
    {
     "data": {
      "application/scrapbook.scrap.json+json": {
       "data": 0.19807771272295704,
       "encoder": "json",
       "name": "ABC-GAN Model 3 MSE",
       "version": 1
      }
     },
     "metadata": {
      "scrapbook": {
       "data": true,
       "display": false,
       "name": "ABC-GAN Model 3 MSE"
      }
     },
     "output_type": "display_data"
    },
    {
     "data": {
      "application/scrapbook.scrap.json+json": {
       "data": 0.3066454751334266,
       "encoder": "json",
       "name": "ABC-GAN Model 3 MAE",
       "version": 1
      }
     },
     "metadata": {
      "scrapbook": {
       "data": true,
       "display": false,
       "name": "ABC-GAN Model 3 MAE"
      }
     },
     "output_type": "display_data"
    },
    {
     "data": {
      "application/scrapbook.scrap.json+json": {
       "data": 31.277838463609513,
       "encoder": "json",
       "name": "ABC-GAN Model 3 Manhattan Distance",
       "version": 1
      }
     },
     "metadata": {
      "scrapbook": {
       "data": true,
       "display": false,
       "name": "ABC-GAN Model 3 Manhattan Distance"
      }
     },
     "output_type": "display_data"
    },
    {
     "data": {
      "application/scrapbook.scrap.json+json": {
       "data": 4.49481171795975,
       "encoder": "json",
       "name": "ABC-GAN Model 3 Euclidean distance",
       "version": 1
      }
     },
     "metadata": {
      "scrapbook": {
       "data": true,
       "display": false,
       "name": "ABC-GAN Model 3 Euclidean distance"
      }
     },
     "output_type": "display_data"
    },
    {
     "data": {
      "application/scrapbook.scrap.json+json": {
       "data": [
        [
         0.20019112621760646,
         0.1982799595856896,
         0.1977291137250958,
         0.19746757714116042,
         0.19492304224540064,
         0.19620996825943804,
         0.1998704882300107,
         0.1952025145785572,
         0.19864648305045904,
         0.1958710940581837,
         0.19732068980715334,
         0.2023408323015669,
         0.19625045553478992,
         0.19688338511816986,
         0.20177533109306528,
         0.20056688259723435,
         0.19562496151233472,
         0.2019246907175458,
         0.2020414175039979,
         0.19657847498698736,
         0.19857301294675825,
         0.1968073119005621,
         0.19624643564895364,
         0.1978402456998231,
         0.19712992975413565,
         0.19785488629090053,
         0.1968155297623716,
         0.19801228716519875,
         0.19696754094904853,
         0.19734866399908055,
         0.19462997289440517,
         0.19909506218755135,
         0.19540113625183578,
         0.19796468867900283,
         0.19543828542953956,
         0.1953855103138492,
         0.19749487763340612,
         0.1977428585436513,
         0.19535177070994833,
         0.20129478302098638,
         0.20078125312569742,
         0.194398502042592,
         0.20079123768944862,
         0.19813206735708674,
         0.20153344660198294,
         0.2005919334380335,
         0.19680046094078896,
         0.19698880935075927,
         0.19847815337034683,
         0.20129094415162627,
         0.19386311617422133,
         0.1948439995825876,
         0.1991150315381262,
         0.19845835481865443,
         0.19735595745904347,
         0.20044547985670164,
         0.19550769272712756,
         0.20026016619430023,
         0.19515569608965555,
         0.19829090468334618,
         0.19872469224078687,
         0.20026075807916865,
         0.19839928518514297,
         0.2004987470117361,
         0.19665736182954377,
         0.19742105955535216,
         0.19586633569972153,
         0.1972139821595417,
         0.196987155014347,
         0.1983327508043427,
         0.19863250870477425,
         0.19805560971538422,
         0.19917490544284838,
         0.19831772369834696,
         0.20108772826973623,
         0.19809911107580985,
         0.2001757700098602,
         0.19690670710576716,
         0.19469896772963483,
         0.19942961436212878,
         0.2034114454776021,
         0.20107248227280677,
         0.19890115764112629,
         0.19661216629563938,
         0.19821854745579817,
         0.19927366909049932,
         0.19781467123134303,
         0.2012063352124985,
         0.20077284457084268,
         0.19288129183459146,
         0.20045527883162062,
         0.19643704722004549,
         0.19608702874266332,
         0.19886647364547672,
         0.1985702965397423,
         0.2000931873106542,
         0.194920737602519,
         0.199950585983357,
         0.1975883317151171,
         0.19752043469020392
        ],
        [
         0.30796271650230184,
         0.305587450891514,
         0.3091914514559047,
         0.3080484895092691,
         0.3048116885440643,
         0.3062589998430043,
         0.3069857951206858,
         0.302017511197311,
         0.3051497404116626,
         0.3031510604618519,
         0.3063499813616349,
         0.31011490736330183,
         0.3039754980675164,
         0.30641054872231666,
         0.310516302665586,
         0.30815743581921445,
         0.3076778286154948,
         0.31017529509970737,
         0.3105115204565592,
         0.3046762043754022,
         0.30646792732809175,
         0.30566620819188434,
         0.30511653604537736,
         0.30799038962954106,
         0.3039943021128648,
         0.306025148637013,
         0.3045716048880279,
         0.3065710293994212,
         0.30749407505351756,
         0.30882731940900887,
         0.3027644569086203,
         0.3058260020311447,
         0.30220791975985845,
         0.30636656132079293,
         0.3047535728295699,
         0.3019301905433702,
         0.3070834520953141,
         0.30627512560664294,
         0.30548204715117155,
         0.308059728117751,
         0.30977067926612695,
         0.30426094980052143,
         0.3083663449860087,
         0.3071591662946066,
         0.3097810135063186,
         0.31076008108371467,
         0.3064118866333921,
         0.3070223573663765,
         0.3074696231816037,
         0.3091940030069821,
         0.30304235953143704,
         0.30423589761131536,
         0.30693666473848236,
         0.30697822359598276,
         0.3072280389663088,
         0.3091721968484504,
         0.3061039628017027,
         0.3103603203843722,
         0.30612150698160645,
         0.3092205473849568,
         0.3069223707162903,
         0.30937681398719696,
         0.3056296161033542,
         0.30727140542933506,
         0.3021791101268986,
         0.3065616874875702,
         0.3033904987889543,
         0.30585937652344286,
         0.3057176706788596,
         0.3075022675677924,
         0.3073752970108306,
         0.30500695356806995,
         0.30521328268371817,
         0.30776403416130765,
         0.3074195766456279,
         0.3058347033009198,
         0.30370932323721184,
         0.30170738540461983,
         0.3007725202615428,
         0.30962296584666726,
         0.3133525359193228,
         0.30947059877536387,
         0.3069122391410501,
         0.3077706436594656,
         0.3065974616249293,
         0.30913796720514986,
         0.30863963500322666,
         0.30911771366235746,
         0.3084941186026816,
         0.3024453447844066,
         0.3096794327595454,
         0.30340244891504325,
         0.30494198438656683,
         0.3095340068205534,
         0.30464711260933924,
         0.3071374586285731,
         0.30585107400867284,
         0.3071752619123835,
         0.3062348113287989,
         0.30836895655146707
        ],
        [
         31.412197083234787,
         31.16991999093443,
         31.53752804850228,
         31.420945929945447,
         31.09079223149456,
         31.238417983986437,
         31.312551102309953,
         30.805786142125726,
         31.125273521989584,
         30.921408167108893,
         31.247698098886758,
         31.631720551056787,
         31.005500802886672,
         31.2538759696763,
         31.67266287188977,
         31.432058453559875,
         31.38313851878047,
         31.63788010017015,
         31.67217508656904,
         31.076972846291028,
         31.25972858746536,
         31.177953235572204,
         31.121886676628492,
         31.41501974221319,
         31.00741881551221,
         31.214565160975326,
         31.06630369857885,
         31.270244998740964,
         31.364395655458793,
         31.500386579718906,
         30.88197460467927,
         31.19425220717676,
         30.825207815505564,
         31.24938925472088,
         31.08486442861613,
         30.79687943542376,
         31.32251211372204,
         31.24006281187758,
         31.159168809419498,
         31.4220922680106,
         31.59660928514495,
         31.034616879653186,
         31.453367188572884,
         31.33023496204987,
         31.597663377644494,
         31.697528270538896,
         31.25401243660599,
         31.316280451370403,
         31.361901564523578,
         31.537788306712173,
         30.91032067220658,
         31.032061556354165,
         31.3075398033252,
         31.311778806790244,
         31.337259974563494,
         31.535564078541938,
         31.222604205773678,
         31.656752679205965,
         31.224393712123856,
         31.540495833265595,
         31.30608181306161,
         31.55643502669409,
         31.174220842542127,
         31.341683353792178,
         30.822269232943654,
         31.269292123732157,
         30.945830876473337,
         31.19765640539117,
         31.183202409243677,
         31.365231291914824,
         31.35228029510472,
         31.110709263943136,
         31.13175483373925,
         31.39193148445338,
         31.356796817854047,
         31.195139736693818,
         30.978350970195606,
         30.77415331127122,
         30.67879706667736,
         31.58154251636006,
         31.96195866377093,
         31.566001075087115,
         31.305048392387107,
         31.39260565326549,
         31.272941085742787,
         31.532072654925287,
         31.481242770329118,
         31.53000679356046,
         31.466400097473525,
         30.849425168009475,
         31.58730214147363,
         30.947049789334415,
         31.104082407429814,
         31.572468695696443,
         31.0740054861526,
         31.328020780114457,
         31.19680954888463,
         31.331876715063117,
         31.235950755537488,
         31.453633568249643
        ],
        [
         4.518793519756779,
         4.4971719866756645,
         4.490920796446957,
         4.487949739959033,
         4.458940491757079,
         4.473635743158206,
         4.515173285651513,
         4.462135866041377,
         4.501326612360717,
         4.469770865932027,
         4.4862802364909875,
         4.542990743415599,
         4.47409727928982,
         4.481306202666062,
         4.536637937007168,
         4.523032392645215,
         4.466961615489677,
         4.538316698203163,
         4.539628243084205,
         4.477834794705216,
         4.500494119601684,
         4.48044035936841,
         4.47405145658756,
         4.492182661177299,
         4.484111153274618,
         4.492348873548431,
         4.480533900749095,
         4.494135433078344,
         4.482263845067908,
         4.486598235624203,
         4.4555871930901905,
         4.506406144937475,
         4.464405436078498,
         4.493595247155476,
         4.464829796735036,
         4.4642269265811985,
         4.488259965577687,
         4.49107688327114,
         4.463841463629138,
         4.531232488864438,
         4.5254489079892535,
         4.452936919421202,
         4.525561428632226,
         4.495494507884848,
         4.533917903249049,
         4.523314847617775,
         4.480362375518354,
         4.482505834215662,
         4.499419034028213,
         4.531189281354937,
         4.446800855645614,
         4.458036334242233,
         4.506632136849964,
         4.499194615873239,
         4.486681140979648,
         4.521663294119052,
         4.465622538702416,
         4.519572651459274,
         4.4616007218424265,
         4.49729610740735,
         4.50221263475641,
         4.519579330432778,
         4.498524990359016,
         4.522264056332523,
         4.478733181002577,
         4.487421093974347,
         4.469716572823337,
         4.485067020711424,
         4.482487011856632,
         4.497770623547066,
         4.501168280334226,
         4.494627035802769,
         4.507309658229677,
         4.4976002287032335,
         4.528901443342866,
         4.495120613479976,
         4.518620203226393,
         4.481571613261162,
         4.456376858886909,
         4.51019075704533,
         4.554993681523104,
         4.528729754779621,
         4.504211149512739,
         4.478218503172351,
         4.496475490925243,
         4.508427025829621,
         4.491892303428143,
         4.530236880304918,
         4.525354145945481,
         4.435526098122783,
         4.5217738157525424,
         4.4762237227873936,
         4.472233997875296,
         4.503818414616494,
         4.500463336930288,
         4.51768802660019,
         4.458914131877506,
         4.5160779189804074,
         4.489321756673489,
         4.488550360461693
        ]
       ],
       "encoder": "json",
       "name": "ABC_GAN_3 Metrics",
       "version": 1
      }
     },
     "metadata": {
      "scrapbook": {
       "data": true,
       "display": false,
       "name": "ABC_GAN_3 Metrics"
      }
     },
     "output_type": "display_data"
    }
   ],
   "source": [
    "ABC_GAN3_metrics=ABC_train_test2.test_generator(gen3,test_data,prior_model,variance,\"3\",device)\n",
    "sb.glue(\"ABC_GAN_3 Metrics\",ABC_GAN3_metrics)"
   ]
  },
  {
   "cell_type": "code",
   "execution_count": 18,
   "id": "c8e46b48",
   "metadata": {
    "execution": {
     "iopub.execute_input": "2022-01-14T15:23:48.545736Z",
     "iopub.status.busy": "2022-01-14T15:23:48.545062Z",
     "iopub.status.idle": "2022-01-14T15:23:49.349245Z",
     "shell.execute_reply": "2022-01-14T15:23:49.348709Z"
    },
    "papermill": {
     "duration": 0.867214,
     "end_time": "2022-01-14T15:23:49.349391",
     "exception": false,
     "start_time": "2022-01-14T15:23:48.482177",
     "status": "completed"
    },
    "tags": []
   },
   "outputs": [
    {
     "data": {
      "image/png": "[encoded data removed]",
      "text/plain": [
       "<Figure size 432x288 with 1 Axes>"
      ]
     },
     "metadata": {
      "needs_background": "light"
     },
     "output_type": "display_data"
    },
    {
     "data": {
      "image/png": "[encoded data removed]",
      "text/plain": [
       "<Figure size 432x288 with 1 Axes>"
      ]
     },
     "metadata": {
      "needs_background": "light"
     },
     "output_type": "display_data"
    },
    {
     "data": {
      "image/png": "[encoded data removed]",
      "text/plain": [
       "<Figure size 432x288 with 1 Axes>"
      ]
     },
     "metadata": {
      "needs_background": "light"
     },
     "output_type": "display_data"
    },
    {
     "data": {
      "image/png": "[encoded data removed]",
      "text/plain": [
       "<Figure size 432x288 with 1 Axes>"
      ]
     },
     "metadata": {
      "needs_background": "light"
     },
     "output_type": "display_data"
    }
   ],
   "source": [
    "sanityChecks.discProbVsError(train_data,disc,device)\n",
    "sanityChecks.discProbVsError(test_data,disc3,device)"
   ]
  },
  {
   "cell_type": "markdown",
   "id": "a5bd74c3",
   "metadata": {
    "papermill": {
     "duration": 0.049548,
     "end_time": "2022-01-14T15:23:49.451268",
     "exception": false,
     "start_time": "2022-01-14T15:23:49.401720",
     "status": "completed"
    },
    "tags": []
   },
   "source": [
    "## Skip Connection Model Analysis - ABC-GAN "
   ]
  },
  {
   "cell_type": "markdown",
   "id": "5744a8bf",
   "metadata": {
    "papermill": {
     "duration": 0.048914,
     "end_time": "2022-01-14T15:23:49.549054",
     "exception": false,
     "start_time": "2022-01-14T15:23:49.500140",
     "status": "completed"
    },
    "tags": []
   },
   "source": [
    "### Weight Analysis \n",
    "\n",
    "Study the weights of the skip connection layer\n",
    "\n",
    "Equation of the skip connection is \n",
    "\n",
    "$output = y_{gan} * w + y_{abc} * (1-w)$"
   ]
  },
  {
   "cell_type": "code",
   "execution_count": 19,
   "id": "52c31dea",
   "metadata": {
    "execution": {
     "iopub.execute_input": "2022-01-14T15:23:49.652325Z",
     "iopub.status.busy": "2022-01-14T15:23:49.651742Z",
     "iopub.status.idle": "2022-01-14T15:23:49.659941Z",
     "shell.execute_reply": "2022-01-14T15:23:49.660475Z"
    },
    "papermill": {
     "duration": 0.063042,
     "end_time": "2022-01-14T15:23:49.660655",
     "exception": false,
     "start_time": "2022-01-14T15:23:49.597613",
     "status": "completed"
    },
    "tags": []
   },
   "outputs": [
    {
     "name": "stdout",
     "output_type": "stream",
     "text": [
      "Weight of the node at skip connection\n",
      "Parameter containing:\n",
      "tensor([[0.9985]], device='cuda:0', requires_grad=True)\n"
     ]
    },
    {
     "data": {
      "application/scrapbook.scrap.json+json": {
       "data": 0.9984621405601501,
       "encoder": "json",
       "name": "Skip Connection Weight",
       "version": 1
      }
     },
     "metadata": {
      "scrapbook": {
       "data": true,
       "display": false,
       "name": "Skip Connection Weight"
      }
     },
     "output_type": "display_data"
    }
   ],
   "source": [
    "print(\"Weight of the node at skip connection\")\n",
    "for name,param in gen3.named_parameters():\n",
    "    if(name == \"skipNode.weight\"):\n",
    "        print(param)\n",
    "        sb.glue(\"Skip Connection Weight\",param.item())"
   ]
  }
 ],
 "metadata": {
  "interpreter": {
   "hash": "10498c76ddd8160350534c6544a2b2fb65f2138dbc70420f7c81a3268f830f23"
  },
  "kernelspec": {
   "display_name": "papermill-tutorial",
   "language": "python",
   "name": "python3"
  },
  "language_info": {
   "codemirror_mode": {
    "name": "ipython",
    "version": 3
   },
   "file_extension": ".py",
   "mimetype": "text/x-python",
   "name": "python",
   "nbconvert_exporter": "python",
   "pygments_lexer": "ipython3",
   "version": "3.7.12"
  },
  "papermill": {
   "default_parameters": {},
   "duration": 2546.702665,
   "end_time": "2022-01-14T15:23:50.422257",
   "environment_variables": {},
   "exception": null,
   "input_path": "ABC_GAN_Model-Catboost_Pre-gen.ipynb",
   "output_path": "./ABC_GAN_Output/ABC-GAN_output_5_0.ipynb",
   "parameters": {
    "variance": 1
   },
   "start_time": "2022-01-14T14:41:23.719592",
   "version": "2.3.3"
  }
 },
 "nbformat": 4,
 "nbformat_minor": 5
}