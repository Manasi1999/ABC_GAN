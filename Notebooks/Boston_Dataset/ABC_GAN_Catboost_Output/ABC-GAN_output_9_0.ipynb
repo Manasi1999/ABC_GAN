{
 "cells": [
  {
   "cell_type": "markdown",
   "id": "622780e6",
   "metadata": {
    "papermill": {
     "duration": 0.027186,
     "end_time": "2022-01-15T09:49:32.696872",
     "exception": false,
     "start_time": "2022-01-15T09:49:32.669686",
     "status": "completed"
    },
    "tags": []
   },
   "source": [
    "## Import Libraries "
   ]
  },
  {
   "cell_type": "code",
   "execution_count": 1,
   "id": "a62397e3",
   "metadata": {
    "execution": {
     "iopub.execute_input": "2022-01-15T09:49:32.753498Z",
     "iopub.status.busy": "2022-01-15T09:49:32.752849Z",
     "iopub.status.idle": "2022-01-15T09:49:32.755821Z",
     "shell.execute_reply": "2022-01-15T09:49:32.755259Z"
    },
    "papermill": {
     "duration": 0.034377,
     "end_time": "2022-01-15T09:49:32.755995",
     "exception": false,
     "start_time": "2022-01-15T09:49:32.721618",
     "status": "completed"
    },
    "tags": []
   },
   "outputs": [],
   "source": [
    "import warnings\n",
    "import sys\n",
    "sys.path.insert(0, '../../src')\n",
    "warnings.filterwarnings('ignore')"
   ]
  },
  {
   "cell_type": "code",
   "execution_count": 2,
   "id": "d6a4e155",
   "metadata": {
    "execution": {
     "iopub.execute_input": "2022-01-15T09:49:32.813801Z",
     "iopub.status.busy": "2022-01-15T09:49:32.812722Z",
     "iopub.status.idle": "2022-01-15T09:49:34.547392Z",
     "shell.execute_reply": "2022-01-15T09:49:34.546747Z"
    },
    "papermill": {
     "duration": 1.766113,
     "end_time": "2022-01-15T09:49:34.547564",
     "exception": false,
     "start_time": "2022-01-15T09:49:32.781451",
     "status": "completed"
    },
    "tags": []
   },
   "outputs": [],
   "source": [
    "import ABC_train_test2\n",
    "import bostonDataset\n",
    "import network\n",
    "import dataset\n",
    "import sanityChecks\n",
    "import performanceMetrics\n",
    "import torch \n",
    "from torch.utils.data import random_split \n",
    "import scrapbook as sb\n",
    "from statistics import mean \n",
    "import catboost as ctb \n",
    "from sklearn.model_selection import train_test_split\n",
    "from sklearn.metrics import mean_squared_error\n",
    "import numpy as np"
   ]
  },
  {
   "cell_type": "markdown",
   "id": "2fa5b0f7",
   "metadata": {
    "papermill": {
     "duration": 0.025735,
     "end_time": "2022-01-15T09:49:34.599164",
     "exception": false,
     "start_time": "2022-01-15T09:49:34.573429",
     "status": "completed"
    },
    "tags": []
   },
   "source": [
    "## Parameters "
   ]
  },
  {
   "cell_type": "code",
   "execution_count": 3,
   "id": "783186fb",
   "metadata": {
    "execution": {
     "iopub.execute_input": "2022-01-15T09:49:34.653781Z",
     "iopub.status.busy": "2022-01-15T09:49:34.653054Z",
     "iopub.status.idle": "2022-01-15T09:49:34.655617Z",
     "shell.execute_reply": "2022-01-15T09:49:34.655057Z"
    },
    "papermill": {
     "duration": 0.03195,
     "end_time": "2022-01-15T09:49:34.655744",
     "exception": false,
     "start_time": "2022-01-15T09:49:34.623794",
     "status": "completed"
    },
    "tags": [
     "parameters"
    ]
   },
   "outputs": [],
   "source": [
    "variance = 1"
   ]
  },
  {
   "cell_type": "code",
   "execution_count": 4,
   "id": "437d9535",
   "metadata": {
    "execution": {
     "iopub.execute_input": "2022-01-15T09:49:34.725063Z",
     "iopub.status.busy": "2022-01-15T09:49:34.724474Z",
     "iopub.status.idle": "2022-01-15T09:49:34.727016Z",
     "shell.execute_reply": "2022-01-15T09:49:34.726520Z"
    },
    "papermill": {
     "duration": 0.030942,
     "end_time": "2022-01-15T09:49:34.727158",
     "exception": false,
     "start_time": "2022-01-15T09:49:34.696216",
     "status": "completed"
    },
    "tags": [
     "injected-parameters"
    ]
   },
   "outputs": [],
   "source": [
    "# Parameters\n",
    "variance = 1\n"
   ]
  },
  {
   "cell_type": "markdown",
   "id": "391cdbfd",
   "metadata": {
    "papermill": {
     "duration": 0.02418,
     "end_time": "2022-01-15T09:49:34.775154",
     "exception": false,
     "start_time": "2022-01-15T09:49:34.750974",
     "status": "completed"
    },
    "tags": []
   },
   "source": [
    "## Dataset - Boston Housing "
   ]
  },
  {
   "cell_type": "code",
   "execution_count": 5,
   "id": "5b51f161",
   "metadata": {
    "execution": {
     "iopub.execute_input": "2022-01-15T09:49:34.829681Z",
     "iopub.status.busy": "2022-01-15T09:49:34.829017Z",
     "iopub.status.idle": "2022-01-15T09:49:34.831604Z",
     "shell.execute_reply": "2022-01-15T09:49:34.831093Z"
    },
    "papermill": {
     "duration": 0.031349,
     "end_time": "2022-01-15T09:49:34.831746",
     "exception": false,
     "start_time": "2022-01-15T09:49:34.800397",
     "status": "completed"
    },
    "tags": []
   },
   "outputs": [],
   "source": [
    "#Parameters \n",
    "n_features = 13\n",
    "n_samples= 506\n",
    "n_target = 1 "
   ]
  },
  {
   "cell_type": "code",
   "execution_count": 6,
   "id": "5d6eced4",
   "metadata": {
    "execution": {
     "iopub.execute_input": "2022-01-15T09:49:34.885349Z",
     "iopub.status.busy": "2022-01-15T09:49:34.884647Z",
     "iopub.status.idle": "2022-01-15T09:49:34.919153Z",
     "shell.execute_reply": "2022-01-15T09:49:34.918677Z"
    },
    "papermill": {
     "duration": 0.06292,
     "end_time": "2022-01-15T09:49:34.919299",
     "exception": false,
     "start_time": "2022-01-15T09:49:34.856379",
     "status": "completed"
    },
    "tags": []
   },
   "outputs": [
    {
     "name": "stdout",
     "output_type": "stream",
     "text": [
      "         X1        X2        X3        X4        X5        X6        X7        X8        X9       X10       X11       X12       X13         Y\n",
      "0 -0.419782  0.284830 -1.287909 -0.272599 -0.144217  0.413672 -0.120013  0.140214 -0.982843 -0.666608 -1.459000  0.441052 -1.075562  0.159686\n",
      "1 -0.417339 -0.487722 -0.593381 -0.272599 -0.740262  0.194274  0.367166  0.557160 -0.867883 -0.987329 -0.303094  0.441052 -0.492439 -0.101524\n",
      "2 -0.417342 -0.487722 -0.593381 -0.272599 -0.740262  1.282714 -0.265812  0.557160 -0.867883 -0.987329 -0.303094  0.396427 -1.208727  1.324247\n",
      "3 -0.416750 -0.487722 -1.306878 -0.272599 -0.835284  1.016303 -0.809889  1.077737 -0.752922 -1.106115  0.113032  0.416163 -1.361517  1.182758\n",
      "4 -0.412482 -0.487722 -1.306878 -0.272599 -0.835284  1.228577 -0.511180  1.077737 -0.752922 -1.106115  0.113032  0.441052 -1.026501  1.487503\n"
     ]
    }
   ],
   "source": [
    "X,Y = bostonDataset.boston_data()"
   ]
  },
  {
   "cell_type": "code",
   "execution_count": 7,
   "id": "fe007438",
   "metadata": {
    "execution": {
     "iopub.execute_input": "2022-01-15T09:49:34.976651Z",
     "iopub.status.busy": "2022-01-15T09:49:34.976014Z",
     "iopub.status.idle": "2022-01-15T09:49:34.978641Z",
     "shell.execute_reply": "2022-01-15T09:49:34.978121Z"
    },
    "papermill": {
     "duration": 0.033943,
     "end_time": "2022-01-15T09:49:34.978767",
     "exception": false,
     "start_time": "2022-01-15T09:49:34.944824",
     "status": "completed"
    },
    "tags": []
   },
   "outputs": [],
   "source": [
    "#Train test split for dataset \n",
    "X_train,X_test,Y_train,Y_test = train_test_split(X,Y,test_size = 0.2)\n",
    "train_data = dataset.CustomDataset(X_train,Y_train)\n",
    "test_data = dataset.CustomDataset(X_test,Y_test)\n"
   ]
  },
  {
   "cell_type": "markdown",
   "id": "a9a1af34",
   "metadata": {
    "papermill": {
     "duration": 0.025104,
     "end_time": "2022-01-15T09:49:35.029429",
     "exception": false,
     "start_time": "2022-01-15T09:49:35.004325",
     "status": "completed"
    },
    "tags": []
   },
   "source": [
    "## Training Parameters \n",
    "\n"
   ]
  },
  {
   "cell_type": "code",
   "execution_count": 8,
   "id": "952b7fc8",
   "metadata": {
    "execution": {
     "iopub.execute_input": "2022-01-15T09:49:35.107473Z",
     "iopub.status.busy": "2022-01-15T09:49:35.106446Z",
     "iopub.status.idle": "2022-01-15T09:49:35.109586Z",
     "shell.execute_reply": "2022-01-15T09:49:35.108991Z"
    },
    "papermill": {
     "duration": 0.05434,
     "end_time": "2022-01-15T09:49:35.109727",
     "exception": false,
     "start_time": "2022-01-15T09:49:35.055387",
     "status": "completed"
    },
    "tags": []
   },
   "outputs": [],
   "source": [
    "batch_size = 64\n",
    "n_epochs = 5000\n",
    "#Select the device \n",
    "device = torch.device('cuda' if torch.cuda.is_available() else 'cpu')"
   ]
  },
  {
   "cell_type": "markdown",
   "id": "a95e1600",
   "metadata": {
    "papermill": {
     "duration": 0.026119,
     "end_time": "2022-01-15T09:49:35.161689",
     "exception": false,
     "start_time": "2022-01-15T09:49:35.135570",
     "status": "completed"
    },
    "tags": []
   },
   "source": [
    "# ABC Pre-generator Model \n",
    "\n",
    "1. The catboost model is used as a pre-generator model for the ABC-GAN. \n",
    "2. The model is first trained on the train dataset \n",
    "3. It generats X,Y pairs and we add some Gaussian noise with mean 0 and variance V (1,0.01,0.1) to it which is then feed as input to the generator.\n"
   ]
  },
  {
   "cell_type": "code",
   "execution_count": 9,
   "id": "ff8ce7bd",
   "metadata": {
    "execution": {
     "iopub.execute_input": "2022-01-15T09:49:35.237343Z",
     "iopub.status.busy": "2022-01-15T09:49:35.236244Z",
     "iopub.status.idle": "2022-01-15T09:49:36.899936Z",
     "shell.execute_reply": "2022-01-15T09:49:36.900485Z"
    },
    "papermill": {
     "duration": 1.712131,
     "end_time": "2022-01-15T09:49:36.900672",
     "exception": false,
     "start_time": "2022-01-15T09:49:35.188541",
     "status": "completed"
    },
    "tags": []
   },
   "outputs": [
    {
     "name": "stdout",
     "output_type": "stream",
     "text": [
      "Learning rate set to 0.03548\n",
      "0:\tlearn: 0.9903259\ttotal: 48.4ms\tremaining: 48.3s\n",
      "1:\tlearn: 0.9700838\ttotal: 49.5ms\tremaining: 24.7s\n",
      "2:\tlearn: 0.9488079\ttotal: 50.4ms\tremaining: 16.8s\n",
      "3:\tlearn: 0.9293710\ttotal: 51.6ms\tremaining: 12.8s\n",
      "4:\tlearn: 0.9136152\ttotal: 52.7ms\tremaining: 10.5s\n",
      "5:\tlearn: 0.8952516\ttotal: 53.8ms\tremaining: 8.91s\n",
      "6:\tlearn: 0.8774957\ttotal: 54.8ms\tremaining: 7.78s\n",
      "7:\tlearn: 0.8584811\ttotal: 55.9ms\tremaining: 6.93s\n",
      "8:\tlearn: 0.8425147\ttotal: 56.9ms\tremaining: 6.27s\n",
      "9:\tlearn: 0.8246825\ttotal: 58ms\tremaining: 5.74s\n",
      "10:\tlearn: 0.8098762\ttotal: 59ms\tremaining: 5.3s\n",
      "11:\tlearn: 0.7944858\ttotal: 60ms\tremaining: 4.94s\n",
      "12:\tlearn: 0.7801829\ttotal: 61ms\tremaining: 4.63s\n",
      "13:\tlearn: 0.7641472\ttotal: 62.1ms\tremaining: 4.37s\n",
      "14:\tlearn: 0.7509162\ttotal: 63.2ms\tremaining: 4.15s\n",
      "15:\tlearn: 0.7361537\ttotal: 64.2ms\tremaining: 3.94s\n",
      "16:\tlearn: 0.7233746\ttotal: 65.2ms\tremaining: 3.77s\n",
      "17:\tlearn: 0.7104606\ttotal: 66.2ms\tremaining: 3.61s\n",
      "18:\tlearn: 0.6970540\ttotal: 67.2ms\tremaining: 3.47s\n",
      "19:\tlearn: 0.6833492\ttotal: 68.2ms\tremaining: 3.34s\n",
      "20:\tlearn: 0.6687161\ttotal: 69.2ms\tremaining: 3.23s\n",
      "21:\tlearn: 0.6560328\ttotal: 70.4ms\tremaining: 3.13s\n",
      "22:\tlearn: 0.6448724\ttotal: 71.5ms\tremaining: 3.04s\n",
      "23:\tlearn: 0.6348839\ttotal: 72.5ms\tremaining: 2.95s\n",
      "24:\tlearn: 0.6248056\ttotal: 73.5ms\tremaining: 2.87s\n",
      "25:\tlearn: 0.6158717\ttotal: 74.5ms\tremaining: 2.79s\n",
      "26:\tlearn: 0.6067934\ttotal: 75.6ms\tremaining: 2.72s\n",
      "27:\tlearn: 0.5977434\ttotal: 76.6ms\tremaining: 2.66s\n",
      "28:\tlearn: 0.5892345\ttotal: 77.6ms\tremaining: 2.6s\n",
      "29:\tlearn: 0.5782065\ttotal: 78.6ms\tremaining: 2.54s\n",
      "30:\tlearn: 0.5666047\ttotal: 79.6ms\tremaining: 2.49s\n",
      "31:\tlearn: 0.5582813\ttotal: 80.6ms\tremaining: 2.44s\n",
      "32:\tlearn: 0.5512331\ttotal: 81.7ms\tremaining: 2.39s\n",
      "33:\tlearn: 0.5436632\ttotal: 82.7ms\tremaining: 2.35s\n",
      "34:\tlearn: 0.5362970\ttotal: 83.7ms\tremaining: 2.31s\n",
      "35:\tlearn: 0.5284294\ttotal: 84.7ms\tremaining: 2.27s\n",
      "36:\tlearn: 0.5214410\ttotal: 85.6ms\tremaining: 2.23s\n",
      "37:\tlearn: 0.5139868\ttotal: 86.6ms\tremaining: 2.19s\n",
      "38:\tlearn: 0.5059811\ttotal: 87.6ms\tremaining: 2.16s\n",
      "39:\tlearn: 0.4982475\ttotal: 88.5ms\tremaining: 2.13s\n",
      "40:\tlearn: 0.4921531\ttotal: 89.5ms\tremaining: 2.09s\n",
      "41:\tlearn: 0.4843861\ttotal: 90.5ms\tremaining: 2.06s\n",
      "42:\tlearn: 0.4790220\ttotal: 91.5ms\tremaining: 2.04s\n",
      "43:\tlearn: 0.4732642\ttotal: 93.1ms\tremaining: 2.02s\n",
      "44:\tlearn: 0.4675185\ttotal: 94.1ms\tremaining: 2s\n",
      "45:\tlearn: 0.4601523\ttotal: 95.1ms\tremaining: 1.97s\n",
      "46:\tlearn: 0.4560770\ttotal: 96.1ms\tremaining: 1.95s\n",
      "47:\tlearn: 0.4502729\ttotal: 97.2ms\tremaining: 1.93s\n",
      "48:\tlearn: 0.4455019\ttotal: 98.4ms\tremaining: 1.91s\n",
      "49:\tlearn: 0.4398997\ttotal: 99.4ms\tremaining: 1.89s\n",
      "50:\tlearn: 0.4348148\ttotal: 100ms\tremaining: 1.87s\n",
      "51:\tlearn: 0.4293532\ttotal: 101ms\tremaining: 1.85s\n",
      "52:\tlearn: 0.4243368\ttotal: 102ms\tremaining: 1.83s\n",
      "53:\tlearn: 0.4208485\ttotal: 103ms\tremaining: 1.81s\n",
      "54:\tlearn: 0.4165723\ttotal: 104ms\tremaining: 1.79s\n",
      "55:\tlearn: 0.4122943\ttotal: 105ms\tremaining: 1.77s\n",
      "56:\tlearn: 0.4081076\ttotal: 106ms\tremaining: 1.75s\n",
      "57:\tlearn: 0.4040981\ttotal: 107ms\tremaining: 1.74s\n",
      "58:\tlearn: 0.3999279\ttotal: 108ms\tremaining: 1.72s\n",
      "59:\tlearn: 0.3957717\ttotal: 109ms\tremaining: 1.71s\n",
      "60:\tlearn: 0.3921139\ttotal: 110ms\tremaining: 1.7s\n",
      "61:\tlearn: 0.3874787\ttotal: 111ms\tremaining: 1.68s\n",
      "62:\tlearn: 0.3848137\ttotal: 112ms\tremaining: 1.67s\n",
      "63:\tlearn: 0.3808590\ttotal: 113ms\tremaining: 1.66s\n",
      "64:\tlearn: 0.3780588\ttotal: 114ms\tremaining: 1.64s\n",
      "65:\tlearn: 0.3751660\ttotal: 115ms\tremaining: 1.63s\n",
      "66:\tlearn: 0.3714137\ttotal: 116ms\tremaining: 1.62s\n",
      "67:\tlearn: 0.3681768\ttotal: 118ms\tremaining: 1.61s\n",
      "68:\tlearn: 0.3645075\ttotal: 119ms\tremaining: 1.6s\n",
      "69:\tlearn: 0.3625336\ttotal: 120ms\tremaining: 1.59s\n",
      "70:\tlearn: 0.3597595\ttotal: 121ms\tremaining: 1.58s\n",
      "71:\tlearn: 0.3573310\ttotal: 122ms\tremaining: 1.57s\n",
      "72:\tlearn: 0.3538808\ttotal: 123ms\tremaining: 1.56s\n",
      "73:\tlearn: 0.3509711\ttotal: 124ms\tremaining: 1.55s\n",
      "74:\tlearn: 0.3487507\ttotal: 125ms\tremaining: 1.54s\n",
      "75:\tlearn: 0.3464260\ttotal: 126ms\tremaining: 1.53s\n",
      "76:\tlearn: 0.3431341\ttotal: 127ms\tremaining: 1.52s\n",
      "77:\tlearn: 0.3410075\ttotal: 128ms\tremaining: 1.51s\n",
      "78:\tlearn: 0.3385576\ttotal: 129ms\tremaining: 1.5s\n",
      "79:\tlearn: 0.3361684\ttotal: 130ms\tremaining: 1.49s\n",
      "80:\tlearn: 0.3339430\ttotal: 131ms\tremaining: 1.49s\n",
      "81:\tlearn: 0.3320448\ttotal: 132ms\tremaining: 1.48s\n",
      "82:\tlearn: 0.3302735\ttotal: 133ms\tremaining: 1.47s\n",
      "83:\tlearn: 0.3280750\ttotal: 134ms\tremaining: 1.46s\n",
      "84:\tlearn: 0.3260395\ttotal: 135ms\tremaining: 1.45s\n",
      "85:\tlearn: 0.3238766\ttotal: 136ms\tremaining: 1.45s\n",
      "86:\tlearn: 0.3217999\ttotal: 137ms\tremaining: 1.44s\n",
      "87:\tlearn: 0.3194570\ttotal: 138ms\tremaining: 1.43s\n",
      "88:\tlearn: 0.3170814\ttotal: 139ms\tremaining: 1.42s\n",
      "89:\tlearn: 0.3149625\ttotal: 140ms\tremaining: 1.42s\n",
      "90:\tlearn: 0.3131083\ttotal: 141ms\tremaining: 1.41s\n"
     ]
    },
    {
     "name": "stdout",
     "output_type": "stream",
     "text": [
      "91:\tlearn: 0.3111547\ttotal: 144ms\tremaining: 1.42s\n",
      "92:\tlearn: 0.3097868\ttotal: 145ms\tremaining: 1.41s\n",
      "93:\tlearn: 0.3081463\ttotal: 146ms\tremaining: 1.41s\n",
      "94:\tlearn: 0.3057540\ttotal: 147ms\tremaining: 1.4s\n",
      "95:\tlearn: 0.3037822\ttotal: 148ms\tremaining: 1.4s\n",
      "96:\tlearn: 0.3025032\ttotal: 149ms\tremaining: 1.39s\n",
      "97:\tlearn: 0.3005014\ttotal: 150ms\tremaining: 1.38s\n",
      "98:\tlearn: 0.2989057\ttotal: 151ms\tremaining: 1.38s\n",
      "99:\tlearn: 0.2968705\ttotal: 152ms\tremaining: 1.37s\n",
      "100:\tlearn: 0.2948236\ttotal: 153ms\tremaining: 1.36s\n",
      "101:\tlearn: 0.2932025\ttotal: 154ms\tremaining: 1.36s\n",
      "102:\tlearn: 0.2920301\ttotal: 155ms\tremaining: 1.35s\n",
      "103:\tlearn: 0.2908594\ttotal: 156ms\tremaining: 1.35s\n",
      "104:\tlearn: 0.2892794\ttotal: 157ms\tremaining: 1.34s\n",
      "105:\tlearn: 0.2879880\ttotal: 158ms\tremaining: 1.33s\n",
      "106:\tlearn: 0.2861532\ttotal: 159ms\tremaining: 1.33s\n",
      "107:\tlearn: 0.2841665\ttotal: 160ms\tremaining: 1.32s\n",
      "108:\tlearn: 0.2825576\ttotal: 161ms\tremaining: 1.32s\n",
      "109:\tlearn: 0.2814497\ttotal: 162ms\tremaining: 1.31s\n",
      "110:\tlearn: 0.2800042\ttotal: 164ms\tremaining: 1.31s\n",
      "111:\tlearn: 0.2787919\ttotal: 165ms\tremaining: 1.3s\n",
      "112:\tlearn: 0.2774315\ttotal: 166ms\tremaining: 1.3s\n",
      "113:\tlearn: 0.2757822\ttotal: 167ms\tremaining: 1.29s\n",
      "114:\tlearn: 0.2747675\ttotal: 168ms\tremaining: 1.29s\n",
      "115:\tlearn: 0.2735180\ttotal: 169ms\tremaining: 1.28s\n",
      "116:\tlearn: 0.2716942\ttotal: 170ms\tremaining: 1.28s\n",
      "117:\tlearn: 0.2704684\ttotal: 171ms\tremaining: 1.27s\n",
      "118:\tlearn: 0.2691672\ttotal: 172ms\tremaining: 1.27s\n",
      "119:\tlearn: 0.2683799\ttotal: 173ms\tremaining: 1.27s\n",
      "120:\tlearn: 0.2670257\ttotal: 174ms\tremaining: 1.26s\n",
      "121:\tlearn: 0.2659640\ttotal: 175ms\tremaining: 1.26s\n",
      "122:\tlearn: 0.2644161\ttotal: 176ms\tremaining: 1.25s\n",
      "123:\tlearn: 0.2626549\ttotal: 177ms\tremaining: 1.25s\n",
      "124:\tlearn: 0.2617189\ttotal: 178ms\tremaining: 1.24s\n",
      "125:\tlearn: 0.2608820\ttotal: 179ms\tremaining: 1.24s\n",
      "126:\tlearn: 0.2599218\ttotal: 180ms\tremaining: 1.23s\n",
      "127:\tlearn: 0.2589531\ttotal: 181ms\tremaining: 1.23s\n",
      "128:\tlearn: 0.2577665\ttotal: 182ms\tremaining: 1.23s\n",
      "129:\tlearn: 0.2567071\ttotal: 183ms\tremaining: 1.22s\n",
      "130:\tlearn: 0.2555363\ttotal: 184ms\tremaining: 1.22s\n",
      "131:\tlearn: 0.2545657\ttotal: 185ms\tremaining: 1.21s\n",
      "132:\tlearn: 0.2536323\ttotal: 186ms\tremaining: 1.21s\n",
      "133:\tlearn: 0.2526464\ttotal: 187ms\tremaining: 1.21s\n",
      "134:\tlearn: 0.2519246\ttotal: 188ms\tremaining: 1.2s\n",
      "135:\tlearn: 0.2510537\ttotal: 189ms\tremaining: 1.2s\n",
      "136:\tlearn: 0.2498389\ttotal: 190ms\tremaining: 1.2s\n",
      "137:\tlearn: 0.2487612\ttotal: 191ms\tremaining: 1.19s\n",
      "138:\tlearn: 0.2476861\ttotal: 192ms\tremaining: 1.19s\n",
      "139:\tlearn: 0.2468326\ttotal: 193ms\tremaining: 1.19s\n",
      "140:\tlearn: 0.2459819\ttotal: 194ms\tremaining: 1.18s\n",
      "141:\tlearn: 0.2446739\ttotal: 195ms\tremaining: 1.18s\n",
      "142:\tlearn: 0.2436544\ttotal: 196ms\tremaining: 1.17s\n",
      "143:\tlearn: 0.2426404\ttotal: 197ms\tremaining: 1.17s\n",
      "144:\tlearn: 0.2418543\ttotal: 198ms\tremaining: 1.17s\n",
      "145:\tlearn: 0.2409481\ttotal: 199ms\tremaining: 1.16s\n",
      "146:\tlearn: 0.2401814\ttotal: 200ms\tremaining: 1.16s\n",
      "147:\tlearn: 0.2391746\ttotal: 201ms\tremaining: 1.16s\n",
      "148:\tlearn: 0.2381679\ttotal: 202ms\tremaining: 1.16s\n",
      "149:\tlearn: 0.2374671\ttotal: 203ms\tremaining: 1.15s\n",
      "150:\tlearn: 0.2362624\ttotal: 204ms\tremaining: 1.15s\n",
      "151:\tlearn: 0.2355908\ttotal: 205ms\tremaining: 1.15s\n",
      "152:\tlearn: 0.2348989\ttotal: 206ms\tremaining: 1.14s\n",
      "153:\tlearn: 0.2341023\ttotal: 207ms\tremaining: 1.14s\n",
      "154:\tlearn: 0.2333683\ttotal: 208ms\tremaining: 1.14s\n",
      "155:\tlearn: 0.2325042\ttotal: 209ms\tremaining: 1.13s\n",
      "156:\tlearn: 0.2319364\ttotal: 210ms\tremaining: 1.13s\n",
      "157:\tlearn: 0.2311782\ttotal: 211ms\tremaining: 1.13s\n",
      "158:\tlearn: 0.2304111\ttotal: 212ms\tremaining: 1.12s\n",
      "159:\tlearn: 0.2298346\ttotal: 213ms\tremaining: 1.12s\n",
      "160:\tlearn: 0.2288480\ttotal: 214ms\tremaining: 1.12s\n",
      "161:\tlearn: 0.2282970\ttotal: 215ms\tremaining: 1.11s\n",
      "162:\tlearn: 0.2279001\ttotal: 216ms\tremaining: 1.11s\n",
      "163:\tlearn: 0.2270717\ttotal: 217ms\tremaining: 1.11s\n",
      "164:\tlearn: 0.2262316\ttotal: 218ms\tremaining: 1.1s\n",
      "165:\tlearn: 0.2255947\ttotal: 219ms\tremaining: 1.1s\n",
      "166:\tlearn: 0.2251388\ttotal: 220ms\tremaining: 1.1s\n",
      "167:\tlearn: 0.2239798\ttotal: 221ms\tremaining: 1.09s\n",
      "168:\tlearn: 0.2234791\ttotal: 222ms\tremaining: 1.09s\n",
      "169:\tlearn: 0.2228710\ttotal: 223ms\tremaining: 1.09s\n",
      "170:\tlearn: 0.2221306\ttotal: 225ms\tremaining: 1.09s\n",
      "171:\tlearn: 0.2215840\ttotal: 226ms\tremaining: 1.09s\n",
      "172:\tlearn: 0.2210499\ttotal: 227ms\tremaining: 1.08s\n",
      "173:\tlearn: 0.2203977\ttotal: 228ms\tremaining: 1.08s\n",
      "174:\tlearn: 0.2198150\ttotal: 229ms\tremaining: 1.08s\n",
      "175:\tlearn: 0.2191400\ttotal: 230ms\tremaining: 1.08s\n",
      "176:\tlearn: 0.2186032\ttotal: 231ms\tremaining: 1.07s\n",
      "177:\tlearn: 0.2177699\ttotal: 232ms\tremaining: 1.07s\n",
      "178:\tlearn: 0.2172166\ttotal: 233ms\tremaining: 1.07s\n",
      "179:\tlearn: 0.2166174\ttotal: 234ms\tremaining: 1.07s\n",
      "180:\tlearn: 0.2159022\ttotal: 235ms\tremaining: 1.06s\n",
      "181:\tlearn: 0.2150353\ttotal: 236ms\tremaining: 1.06s\n",
      "182:\tlearn: 0.2144429\ttotal: 237ms\tremaining: 1.06s\n",
      "183:\tlearn: 0.2137214\ttotal: 238ms\tremaining: 1.06s\n",
      "184:\tlearn: 0.2129420\ttotal: 239ms\tremaining: 1.05s\n",
      "185:\tlearn: 0.2125263\ttotal: 240ms\tremaining: 1.05s\n",
      "186:\tlearn: 0.2121137\ttotal: 241ms\tremaining: 1.05s\n",
      "187:\tlearn: 0.2117798\ttotal: 242ms\tremaining: 1.05s\n",
      "188:\tlearn: 0.2110558\ttotal: 243ms\tremaining: 1.04s\n",
      "189:\tlearn: 0.2104149\ttotal: 245ms\tremaining: 1.04s\n",
      "190:\tlearn: 0.2098562\ttotal: 245ms\tremaining: 1.04s\n",
      "191:\tlearn: 0.2091726\ttotal: 246ms\tremaining: 1.04s\n",
      "192:\tlearn: 0.2085616\ttotal: 248ms\tremaining: 1.03s\n",
      "193:\tlearn: 0.2077268\ttotal: 249ms\tremaining: 1.03s\n",
      "194:\tlearn: 0.2071935\ttotal: 250ms\tremaining: 1.03s\n",
      "195:\tlearn: 0.2065775\ttotal: 251ms\tremaining: 1.03s\n",
      "196:\tlearn: 0.2060977\ttotal: 252ms\tremaining: 1.02s\n",
      "197:\tlearn: 0.2058335\ttotal: 253ms\tremaining: 1.02s\n",
      "198:\tlearn: 0.2054720\ttotal: 254ms\tremaining: 1.02s\n",
      "199:\tlearn: 0.2046984\ttotal: 255ms\tremaining: 1.02s\n",
      "200:\tlearn: 0.2041210\ttotal: 256ms\tremaining: 1.02s\n",
      "201:\tlearn: 0.2038463\ttotal: 257ms\tremaining: 1.01s\n",
      "202:\tlearn: 0.2034587\ttotal: 258ms\tremaining: 1.01s\n",
      "203:\tlearn: 0.2029409\ttotal: 259ms\tremaining: 1.01s\n",
      "204:\tlearn: 0.2025636\ttotal: 260ms\tremaining: 1.01s\n",
      "205:\tlearn: 0.2020512\ttotal: 261ms\tremaining: 1s\n",
      "206:\tlearn: 0.2015724\ttotal: 262ms\tremaining: 1s\n",
      "207:\tlearn: 0.2011375\ttotal: 263ms\tremaining: 1s\n",
      "208:\tlearn: 0.2008595\ttotal: 264ms\tremaining: 998ms\n",
      "209:\tlearn: 0.2005265\ttotal: 265ms\tremaining: 996ms\n",
      "210:\tlearn: 0.1998901\ttotal: 266ms\tremaining: 994ms\n",
      "211:\tlearn: 0.1992567\ttotal: 267ms\tremaining: 992ms\n",
      "212:\tlearn: 0.1986765\ttotal: 268ms\tremaining: 990ms\n",
      "213:\tlearn: 0.1981200\ttotal: 269ms\tremaining: 988ms\n",
      "214:\tlearn: 0.1977851\ttotal: 270ms\tremaining: 986ms\n",
      "215:\tlearn: 0.1972403\ttotal: 271ms\tremaining: 984ms\n",
      "216:\tlearn: 0.1969117\ttotal: 272ms\tremaining: 982ms\n",
      "217:\tlearn: 0.1964338\ttotal: 273ms\tremaining: 981ms\n",
      "218:\tlearn: 0.1956868\ttotal: 274ms\tremaining: 979ms\n",
      "219:\tlearn: 0.1953399\ttotal: 276ms\tremaining: 977ms\n",
      "220:\tlearn: 0.1946504\ttotal: 277ms\tremaining: 975ms\n",
      "221:\tlearn: 0.1943827\ttotal: 278ms\tremaining: 973ms\n",
      "222:\tlearn: 0.1940671\ttotal: 279ms\tremaining: 971ms\n"
     ]
    },
    {
     "name": "stdout",
     "output_type": "stream",
     "text": [
      "223:\tlearn: 0.1935146\ttotal: 280ms\tremaining: 970ms\n",
      "224:\tlearn: 0.1931948\ttotal: 281ms\tremaining: 969ms\n",
      "225:\tlearn: 0.1928622\ttotal: 282ms\tremaining: 967ms\n",
      "226:\tlearn: 0.1924420\ttotal: 284ms\tremaining: 966ms\n",
      "227:\tlearn: 0.1919404\ttotal: 285ms\tremaining: 964ms\n",
      "228:\tlearn: 0.1915329\ttotal: 286ms\tremaining: 962ms\n",
      "229:\tlearn: 0.1909940\ttotal: 287ms\tremaining: 961ms\n",
      "230:\tlearn: 0.1903314\ttotal: 288ms\tremaining: 960ms\n",
      "231:\tlearn: 0.1895275\ttotal: 289ms\tremaining: 958ms\n",
      "232:\tlearn: 0.1891872\ttotal: 291ms\tremaining: 956ms\n",
      "233:\tlearn: 0.1888354\ttotal: 292ms\tremaining: 954ms\n",
      "234:\tlearn: 0.1885165\ttotal: 293ms\tremaining: 953ms\n",
      "235:\tlearn: 0.1881034\ttotal: 294ms\tremaining: 951ms\n",
      "236:\tlearn: 0.1878655\ttotal: 295ms\tremaining: 949ms\n",
      "237:\tlearn: 0.1876251\ttotal: 296ms\tremaining: 946ms\n",
      "238:\tlearn: 0.1873099\ttotal: 297ms\tremaining: 945ms\n",
      "239:\tlearn: 0.1867914\ttotal: 298ms\tremaining: 943ms\n",
      "240:\tlearn: 0.1862215\ttotal: 299ms\tremaining: 941ms\n",
      "241:\tlearn: 0.1856092\ttotal: 300ms\tremaining: 940ms\n",
      "242:\tlearn: 0.1855164\ttotal: 301ms\tremaining: 937ms\n",
      "243:\tlearn: 0.1852842\ttotal: 302ms\tremaining: 936ms\n",
      "244:\tlearn: 0.1846261\ttotal: 303ms\tremaining: 934ms\n",
      "245:\tlearn: 0.1843596\ttotal: 304ms\tremaining: 932ms\n",
      "246:\tlearn: 0.1837692\ttotal: 305ms\tremaining: 931ms\n",
      "247:\tlearn: 0.1834854\ttotal: 307ms\tremaining: 929ms\n",
      "248:\tlearn: 0.1832638\ttotal: 308ms\tremaining: 929ms\n",
      "249:\tlearn: 0.1827378\ttotal: 309ms\tremaining: 927ms\n",
      "250:\tlearn: 0.1824574\ttotal: 310ms\tremaining: 926ms\n",
      "251:\tlearn: 0.1820110\ttotal: 311ms\tremaining: 924ms\n",
      "252:\tlearn: 0.1817871\ttotal: 312ms\tremaining: 922ms\n",
      "253:\tlearn: 0.1812761\ttotal: 313ms\tremaining: 921ms\n",
      "254:\tlearn: 0.1808286\ttotal: 314ms\tremaining: 919ms\n",
      "255:\tlearn: 0.1804992\ttotal: 316ms\tremaining: 918ms\n",
      "256:\tlearn: 0.1799277\ttotal: 317ms\tremaining: 916ms\n",
      "257:\tlearn: 0.1795500\ttotal: 318ms\tremaining: 914ms\n",
      "258:\tlearn: 0.1792785\ttotal: 319ms\tremaining: 913ms\n",
      "259:\tlearn: 0.1790029\ttotal: 320ms\tremaining: 910ms\n",
      "260:\tlearn: 0.1786184\ttotal: 321ms\tremaining: 909ms\n",
      "261:\tlearn: 0.1779665\ttotal: 322ms\tremaining: 907ms\n",
      "262:\tlearn: 0.1775169\ttotal: 323ms\tremaining: 905ms\n",
      "263:\tlearn: 0.1772010\ttotal: 324ms\tremaining: 903ms\n",
      "264:\tlearn: 0.1767201\ttotal: 325ms\tremaining: 901ms\n",
      "265:\tlearn: 0.1764752\ttotal: 326ms\tremaining: 899ms\n",
      "266:\tlearn: 0.1759810\ttotal: 327ms\tremaining: 897ms\n",
      "267:\tlearn: 0.1755780\ttotal: 328ms\tremaining: 895ms\n",
      "268:\tlearn: 0.1749086\ttotal: 329ms\tremaining: 894ms\n",
      "269:\tlearn: 0.1744251\ttotal: 330ms\tremaining: 892ms\n",
      "270:\tlearn: 0.1738989\ttotal: 331ms\tremaining: 890ms\n",
      "271:\tlearn: 0.1735603\ttotal: 332ms\tremaining: 889ms\n",
      "272:\tlearn: 0.1731469\ttotal: 333ms\tremaining: 887ms\n",
      "273:\tlearn: 0.1726359\ttotal: 334ms\tremaining: 885ms\n",
      "274:\tlearn: 0.1723093\ttotal: 335ms\tremaining: 883ms\n",
      "275:\tlearn: 0.1717310\ttotal: 336ms\tremaining: 881ms\n",
      "276:\tlearn: 0.1712676\ttotal: 337ms\tremaining: 880ms\n",
      "277:\tlearn: 0.1707796\ttotal: 338ms\tremaining: 878ms\n",
      "278:\tlearn: 0.1705832\ttotal: 339ms\tremaining: 876ms\n",
      "279:\tlearn: 0.1701312\ttotal: 340ms\tremaining: 874ms\n",
      "280:\tlearn: 0.1697993\ttotal: 341ms\tremaining: 873ms\n",
      "281:\tlearn: 0.1695163\ttotal: 342ms\tremaining: 871ms\n",
      "282:\tlearn: 0.1688838\ttotal: 343ms\tremaining: 869ms\n",
      "283:\tlearn: 0.1683276\ttotal: 344ms\tremaining: 868ms\n",
      "284:\tlearn: 0.1677333\ttotal: 345ms\tremaining: 866ms\n",
      "285:\tlearn: 0.1676339\ttotal: 346ms\tremaining: 864ms\n",
      "286:\tlearn: 0.1673429\ttotal: 347ms\tremaining: 863ms\n",
      "287:\tlearn: 0.1671353\ttotal: 348ms\tremaining: 861ms\n",
      "288:\tlearn: 0.1666252\ttotal: 349ms\tremaining: 859ms\n",
      "289:\tlearn: 0.1663608\ttotal: 350ms\tremaining: 857ms\n",
      "290:\tlearn: 0.1657913\ttotal: 351ms\tremaining: 856ms\n",
      "291:\tlearn: 0.1655045\ttotal: 352ms\tremaining: 854ms\n",
      "292:\tlearn: 0.1650948\ttotal: 353ms\tremaining: 852ms\n",
      "293:\tlearn: 0.1648842\ttotal: 354ms\tremaining: 850ms\n",
      "294:\tlearn: 0.1644073\ttotal: 355ms\tremaining: 849ms\n",
      "295:\tlearn: 0.1638244\ttotal: 356ms\tremaining: 847ms\n",
      "296:\tlearn: 0.1634187\ttotal: 357ms\tremaining: 845ms\n",
      "297:\tlearn: 0.1630828\ttotal: 358ms\tremaining: 844ms\n",
      "298:\tlearn: 0.1625243\ttotal: 359ms\tremaining: 842ms\n",
      "299:\tlearn: 0.1621003\ttotal: 360ms\tremaining: 841ms\n",
      "300:\tlearn: 0.1616360\ttotal: 361ms\tremaining: 839ms\n",
      "301:\tlearn: 0.1614498\ttotal: 362ms\tremaining: 837ms\n",
      "302:\tlearn: 0.1608686\ttotal: 363ms\tremaining: 835ms\n",
      "303:\tlearn: 0.1603035\ttotal: 364ms\tremaining: 833ms\n",
      "304:\tlearn: 0.1599976\ttotal: 365ms\tremaining: 832ms\n",
      "305:\tlearn: 0.1596581\ttotal: 366ms\tremaining: 830ms\n",
      "306:\tlearn: 0.1593094\ttotal: 367ms\tremaining: 829ms\n",
      "307:\tlearn: 0.1590650\ttotal: 368ms\tremaining: 828ms\n",
      "308:\tlearn: 0.1587094\ttotal: 370ms\tremaining: 826ms\n",
      "309:\tlearn: 0.1581953\ttotal: 371ms\tremaining: 825ms\n",
      "310:\tlearn: 0.1579016\ttotal: 372ms\tremaining: 823ms\n",
      "311:\tlearn: 0.1574719\ttotal: 373ms\tremaining: 822ms\n",
      "312:\tlearn: 0.1572202\ttotal: 374ms\tremaining: 820ms\n",
      "313:\tlearn: 0.1570815\ttotal: 375ms\tremaining: 819ms\n",
      "314:\tlearn: 0.1565682\ttotal: 376ms\tremaining: 817ms\n",
      "315:\tlearn: 0.1561041\ttotal: 377ms\tremaining: 816ms\n",
      "316:\tlearn: 0.1555816\ttotal: 378ms\tremaining: 814ms\n",
      "317:\tlearn: 0.1552334\ttotal: 379ms\tremaining: 813ms\n",
      "318:\tlearn: 0.1547882\ttotal: 380ms\tremaining: 811ms\n",
      "319:\tlearn: 0.1544299\ttotal: 381ms\tremaining: 810ms\n",
      "320:\tlearn: 0.1538261\ttotal: 382ms\tremaining: 808ms\n",
      "321:\tlearn: 0.1536866\ttotal: 383ms\tremaining: 807ms\n",
      "322:\tlearn: 0.1532304\ttotal: 384ms\tremaining: 805ms\n",
      "323:\tlearn: 0.1526900\ttotal: 385ms\tremaining: 804ms\n",
      "324:\tlearn: 0.1521660\ttotal: 386ms\tremaining: 802ms\n",
      "325:\tlearn: 0.1518679\ttotal: 387ms\tremaining: 801ms\n",
      "326:\tlearn: 0.1516514\ttotal: 389ms\tremaining: 800ms\n",
      "327:\tlearn: 0.1514848\ttotal: 390ms\tremaining: 798ms\n",
      "328:\tlearn: 0.1512979\ttotal: 391ms\tremaining: 796ms\n",
      "329:\tlearn: 0.1511418\ttotal: 392ms\tremaining: 795ms\n",
      "330:\tlearn: 0.1507855\ttotal: 393ms\tremaining: 793ms\n",
      "331:\tlearn: 0.1503992\ttotal: 394ms\tremaining: 792ms\n",
      "332:\tlearn: 0.1503326\ttotal: 395ms\tremaining: 790ms\n",
      "333:\tlearn: 0.1500160\ttotal: 396ms\tremaining: 789ms\n",
      "334:\tlearn: 0.1495382\ttotal: 397ms\tremaining: 788ms\n",
      "335:\tlearn: 0.1491292\ttotal: 398ms\tremaining: 786ms\n",
      "336:\tlearn: 0.1485457\ttotal: 399ms\tremaining: 784ms\n",
      "337:\tlearn: 0.1483846\ttotal: 400ms\tremaining: 783ms\n",
      "338:\tlearn: 0.1479940\ttotal: 401ms\tremaining: 782ms\n",
      "339:\tlearn: 0.1478147\ttotal: 402ms\tremaining: 780ms\n",
      "340:\tlearn: 0.1476041\ttotal: 403ms\tremaining: 779ms\n",
      "341:\tlearn: 0.1472779\ttotal: 404ms\tremaining: 777ms\n",
      "342:\tlearn: 0.1470757\ttotal: 405ms\tremaining: 775ms\n",
      "343:\tlearn: 0.1467496\ttotal: 406ms\tremaining: 774ms\n",
      "344:\tlearn: 0.1462984\ttotal: 407ms\tremaining: 772ms\n",
      "345:\tlearn: 0.1462327\ttotal: 408ms\tremaining: 771ms\n",
      "346:\tlearn: 0.1459125\ttotal: 409ms\tremaining: 770ms\n",
      "347:\tlearn: 0.1454613\ttotal: 410ms\tremaining: 768ms\n",
      "348:\tlearn: 0.1450646\ttotal: 411ms\tremaining: 767ms\n",
      "349:\tlearn: 0.1444550\ttotal: 412ms\tremaining: 765ms\n",
      "350:\tlearn: 0.1440282\ttotal: 413ms\tremaining: 764ms\n"
     ]
    },
    {
     "name": "stdout",
     "output_type": "stream",
     "text": [
      "351:\tlearn: 0.1436460\ttotal: 414ms\tremaining: 762ms\n",
      "352:\tlearn: 0.1431952\ttotal: 417ms\tremaining: 764ms\n",
      "353:\tlearn: 0.1428347\ttotal: 418ms\tremaining: 762ms\n",
      "354:\tlearn: 0.1424566\ttotal: 419ms\tremaining: 761ms\n",
      "355:\tlearn: 0.1420784\ttotal: 420ms\tremaining: 759ms\n",
      "356:\tlearn: 0.1418627\ttotal: 421ms\tremaining: 758ms\n",
      "357:\tlearn: 0.1414678\ttotal: 422ms\tremaining: 756ms\n",
      "358:\tlearn: 0.1413505\ttotal: 423ms\tremaining: 755ms\n",
      "359:\tlearn: 0.1410096\ttotal: 424ms\tremaining: 753ms\n",
      "360:\tlearn: 0.1407164\ttotal: 425ms\tremaining: 752ms\n",
      "361:\tlearn: 0.1403453\ttotal: 426ms\tremaining: 750ms\n",
      "362:\tlearn: 0.1402267\ttotal: 427ms\tremaining: 749ms\n",
      "363:\tlearn: 0.1400421\ttotal: 428ms\tremaining: 747ms\n",
      "364:\tlearn: 0.1398631\ttotal: 429ms\tremaining: 746ms\n",
      "365:\tlearn: 0.1397260\ttotal: 430ms\tremaining: 744ms\n",
      "366:\tlearn: 0.1393216\ttotal: 431ms\tremaining: 743ms\n",
      "367:\tlearn: 0.1389523\ttotal: 432ms\tremaining: 741ms\n",
      "368:\tlearn: 0.1385396\ttotal: 433ms\tremaining: 740ms\n",
      "369:\tlearn: 0.1382342\ttotal: 434ms\tremaining: 738ms\n",
      "370:\tlearn: 0.1380640\ttotal: 435ms\tremaining: 737ms\n",
      "371:\tlearn: 0.1380019\ttotal: 436ms\tremaining: 735ms\n",
      "372:\tlearn: 0.1378186\ttotal: 437ms\tremaining: 734ms\n",
      "373:\tlearn: 0.1375341\ttotal: 438ms\tremaining: 733ms\n",
      "374:\tlearn: 0.1372002\ttotal: 439ms\tremaining: 731ms\n",
      "375:\tlearn: 0.1368820\ttotal: 440ms\tremaining: 730ms\n",
      "376:\tlearn: 0.1364858\ttotal: 441ms\tremaining: 728ms\n",
      "377:\tlearn: 0.1361868\ttotal: 442ms\tremaining: 727ms\n",
      "378:\tlearn: 0.1357319\ttotal: 443ms\tremaining: 725ms\n",
      "379:\tlearn: 0.1356240\ttotal: 444ms\tremaining: 724ms\n",
      "380:\tlearn: 0.1353874\ttotal: 445ms\tremaining: 723ms\n",
      "381:\tlearn: 0.1349560\ttotal: 446ms\tremaining: 721ms\n",
      "382:\tlearn: 0.1348871\ttotal: 447ms\tremaining: 719ms\n",
      "383:\tlearn: 0.1347681\ttotal: 448ms\tremaining: 718ms\n",
      "384:\tlearn: 0.1344765\ttotal: 449ms\tremaining: 717ms\n",
      "385:\tlearn: 0.1340665\ttotal: 450ms\tremaining: 715ms\n",
      "386:\tlearn: 0.1339580\ttotal: 451ms\tremaining: 714ms\n",
      "387:\tlearn: 0.1336651\ttotal: 452ms\tremaining: 712ms\n",
      "388:\tlearn: 0.1333173\ttotal: 453ms\tremaining: 711ms\n",
      "389:\tlearn: 0.1329260\ttotal: 454ms\tremaining: 710ms\n",
      "390:\tlearn: 0.1326935\ttotal: 455ms\tremaining: 708ms\n",
      "391:\tlearn: 0.1322458\ttotal: 456ms\tremaining: 707ms\n",
      "392:\tlearn: 0.1319651\ttotal: 457ms\tremaining: 705ms\n",
      "393:\tlearn: 0.1316398\ttotal: 458ms\tremaining: 704ms\n",
      "394:\tlearn: 0.1312888\ttotal: 459ms\tremaining: 703ms\n",
      "395:\tlearn: 0.1310805\ttotal: 460ms\tremaining: 701ms\n",
      "396:\tlearn: 0.1306600\ttotal: 461ms\tremaining: 700ms\n",
      "397:\tlearn: 0.1305402\ttotal: 462ms\tremaining: 698ms\n",
      "398:\tlearn: 0.1302812\ttotal: 463ms\tremaining: 697ms\n",
      "399:\tlearn: 0.1299271\ttotal: 464ms\tremaining: 695ms\n",
      "400:\tlearn: 0.1295911\ttotal: 465ms\tremaining: 694ms\n",
      "401:\tlearn: 0.1294233\ttotal: 466ms\tremaining: 693ms\n",
      "402:\tlearn: 0.1291860\ttotal: 467ms\tremaining: 691ms\n",
      "403:\tlearn: 0.1287830\ttotal: 468ms\tremaining: 690ms\n",
      "404:\tlearn: 0.1285304\ttotal: 469ms\tremaining: 688ms\n",
      "405:\tlearn: 0.1281626\ttotal: 470ms\tremaining: 687ms\n",
      "406:\tlearn: 0.1281224\ttotal: 471ms\tremaining: 686ms\n",
      "407:\tlearn: 0.1276922\ttotal: 472ms\tremaining: 685ms\n",
      "408:\tlearn: 0.1274716\ttotal: 473ms\tremaining: 683ms\n",
      "409:\tlearn: 0.1269380\ttotal: 474ms\tremaining: 682ms\n",
      "410:\tlearn: 0.1266793\ttotal: 475ms\tremaining: 681ms\n",
      "411:\tlearn: 0.1263869\ttotal: 476ms\tremaining: 679ms\n",
      "412:\tlearn: 0.1261549\ttotal: 477ms\tremaining: 678ms\n",
      "413:\tlearn: 0.1261193\ttotal: 478ms\tremaining: 677ms\n",
      "414:\tlearn: 0.1257737\ttotal: 479ms\tremaining: 675ms\n",
      "415:\tlearn: 0.1254419\ttotal: 480ms\tremaining: 674ms\n",
      "416:\tlearn: 0.1250318\ttotal: 481ms\tremaining: 673ms\n",
      "417:\tlearn: 0.1250049\ttotal: 482ms\tremaining: 671ms\n",
      "418:\tlearn: 0.1247144\ttotal: 483ms\tremaining: 670ms\n",
      "419:\tlearn: 0.1244062\ttotal: 484ms\tremaining: 668ms\n",
      "420:\tlearn: 0.1241876\ttotal: 485ms\tremaining: 667ms\n",
      "421:\tlearn: 0.1238579\ttotal: 486ms\tremaining: 666ms\n",
      "422:\tlearn: 0.1235784\ttotal: 487ms\tremaining: 665ms\n",
      "423:\tlearn: 0.1233454\ttotal: 488ms\tremaining: 663ms\n",
      "424:\tlearn: 0.1232137\ttotal: 489ms\tremaining: 662ms\n",
      "425:\tlearn: 0.1228482\ttotal: 490ms\tremaining: 661ms\n",
      "426:\tlearn: 0.1227262\ttotal: 491ms\tremaining: 659ms\n",
      "427:\tlearn: 0.1226751\ttotal: 492ms\tremaining: 658ms\n",
      "428:\tlearn: 0.1224071\ttotal: 493ms\tremaining: 656ms\n",
      "429:\tlearn: 0.1220793\ttotal: 494ms\tremaining: 655ms\n",
      "430:\tlearn: 0.1217458\ttotal: 495ms\tremaining: 654ms\n",
      "431:\tlearn: 0.1215764\ttotal: 496ms\tremaining: 653ms\n",
      "432:\tlearn: 0.1213209\ttotal: 498ms\tremaining: 651ms\n",
      "433:\tlearn: 0.1211786\ttotal: 499ms\tremaining: 650ms\n",
      "434:\tlearn: 0.1208886\ttotal: 499ms\tremaining: 649ms\n",
      "435:\tlearn: 0.1207388\ttotal: 501ms\tremaining: 647ms\n",
      "436:\tlearn: 0.1204470\ttotal: 502ms\tremaining: 646ms\n",
      "437:\tlearn: 0.1202789\ttotal: 503ms\tremaining: 645ms\n",
      "438:\tlearn: 0.1200521\ttotal: 504ms\tremaining: 644ms\n",
      "439:\tlearn: 0.1199287\ttotal: 505ms\tremaining: 642ms\n",
      "440:\tlearn: 0.1197547\ttotal: 506ms\tremaining: 641ms\n",
      "441:\tlearn: 0.1194532\ttotal: 507ms\tremaining: 640ms\n",
      "442:\tlearn: 0.1193518\ttotal: 508ms\tremaining: 639ms\n",
      "443:\tlearn: 0.1190203\ttotal: 509ms\tremaining: 637ms\n",
      "444:\tlearn: 0.1188975\ttotal: 510ms\tremaining: 636ms\n",
      "445:\tlearn: 0.1186970\ttotal: 511ms\tremaining: 635ms\n",
      "446:\tlearn: 0.1186647\ttotal: 512ms\tremaining: 634ms\n",
      "447:\tlearn: 0.1183133\ttotal: 513ms\tremaining: 632ms\n",
      "448:\tlearn: 0.1180559\ttotal: 514ms\tremaining: 631ms\n",
      "449:\tlearn: 0.1177974\ttotal: 515ms\tremaining: 630ms\n",
      "450:\tlearn: 0.1174275\ttotal: 516ms\tremaining: 628ms\n",
      "451:\tlearn: 0.1171155\ttotal: 517ms\tremaining: 627ms\n",
      "452:\tlearn: 0.1169493\ttotal: 518ms\tremaining: 626ms\n",
      "453:\tlearn: 0.1168062\ttotal: 519ms\tremaining: 624ms\n",
      "454:\tlearn: 0.1165099\ttotal: 520ms\tremaining: 623ms\n",
      "455:\tlearn: 0.1161325\ttotal: 521ms\tremaining: 622ms\n",
      "456:\tlearn: 0.1159418\ttotal: 522ms\tremaining: 621ms\n",
      "457:\tlearn: 0.1156149\ttotal: 523ms\tremaining: 619ms\n",
      "458:\tlearn: 0.1155161\ttotal: 524ms\tremaining: 618ms\n",
      "459:\tlearn: 0.1153026\ttotal: 525ms\tremaining: 617ms\n",
      "460:\tlearn: 0.1152383\ttotal: 526ms\tremaining: 615ms\n",
      "461:\tlearn: 0.1151691\ttotal: 527ms\tremaining: 614ms\n",
      "462:\tlearn: 0.1148566\ttotal: 528ms\tremaining: 613ms\n",
      "463:\tlearn: 0.1148041\ttotal: 529ms\tremaining: 611ms\n",
      "464:\tlearn: 0.1144576\ttotal: 530ms\tremaining: 610ms\n",
      "465:\tlearn: 0.1140965\ttotal: 531ms\tremaining: 609ms\n",
      "466:\tlearn: 0.1137661\ttotal: 532ms\tremaining: 607ms\n",
      "467:\tlearn: 0.1133481\ttotal: 533ms\tremaining: 606ms\n",
      "468:\tlearn: 0.1130953\ttotal: 534ms\tremaining: 605ms\n",
      "469:\tlearn: 0.1129082\ttotal: 535ms\tremaining: 604ms\n",
      "470:\tlearn: 0.1126196\ttotal: 536ms\tremaining: 602ms\n",
      "471:\tlearn: 0.1124498\ttotal: 537ms\tremaining: 601ms\n",
      "472:\tlearn: 0.1121862\ttotal: 538ms\tremaining: 600ms\n",
      "473:\tlearn: 0.1121446\ttotal: 539ms\tremaining: 598ms\n",
      "474:\tlearn: 0.1118438\ttotal: 540ms\tremaining: 597ms\n",
      "475:\tlearn: 0.1117996\ttotal: 541ms\tremaining: 596ms\n",
      "476:\tlearn: 0.1116625\ttotal: 543ms\tremaining: 595ms\n",
      "477:\tlearn: 0.1114182\ttotal: 544ms\tremaining: 594ms\n",
      "478:\tlearn: 0.1111881\ttotal: 545ms\tremaining: 592ms\n",
      "479:\tlearn: 0.1110965\ttotal: 546ms\tremaining: 591ms\n",
      "480:\tlearn: 0.1108624\ttotal: 547ms\tremaining: 590ms\n",
      "481:\tlearn: 0.1105915\ttotal: 548ms\tremaining: 589ms\n"
     ]
    },
    {
     "name": "stdout",
     "output_type": "stream",
     "text": [
      "482:\tlearn: 0.1104771\ttotal: 549ms\tremaining: 588ms\n",
      "483:\tlearn: 0.1102047\ttotal: 551ms\tremaining: 588ms\n",
      "484:\tlearn: 0.1100291\ttotal: 553ms\tremaining: 587ms\n",
      "485:\tlearn: 0.1099920\ttotal: 554ms\tremaining: 586ms\n",
      "486:\tlearn: 0.1099139\ttotal: 555ms\tremaining: 585ms\n",
      "487:\tlearn: 0.1095676\ttotal: 558ms\tremaining: 585ms\n",
      "488:\tlearn: 0.1093859\ttotal: 559ms\tremaining: 584ms\n",
      "489:\tlearn: 0.1091234\ttotal: 560ms\tremaining: 583ms\n",
      "490:\tlearn: 0.1088517\ttotal: 561ms\tremaining: 581ms\n",
      "491:\tlearn: 0.1087120\ttotal: 562ms\tremaining: 580ms\n",
      "492:\tlearn: 0.1084797\ttotal: 563ms\tremaining: 579ms\n",
      "493:\tlearn: 0.1082818\ttotal: 564ms\tremaining: 578ms\n",
      "494:\tlearn: 0.1081141\ttotal: 565ms\tremaining: 576ms\n",
      "495:\tlearn: 0.1078207\ttotal: 566ms\tremaining: 575ms\n",
      "496:\tlearn: 0.1076962\ttotal: 567ms\tremaining: 574ms\n",
      "497:\tlearn: 0.1074309\ttotal: 568ms\tremaining: 572ms\n",
      "498:\tlearn: 0.1073288\ttotal: 569ms\tremaining: 571ms\n",
      "499:\tlearn: 0.1072243\ttotal: 570ms\tremaining: 570ms\n",
      "500:\tlearn: 0.1070991\ttotal: 571ms\tremaining: 569ms\n",
      "501:\tlearn: 0.1070452\ttotal: 572ms\tremaining: 567ms\n",
      "502:\tlearn: 0.1069780\ttotal: 573ms\tremaining: 566ms\n",
      "503:\tlearn: 0.1067828\ttotal: 574ms\tremaining: 565ms\n",
      "504:\tlearn: 0.1064545\ttotal: 575ms\tremaining: 563ms\n",
      "505:\tlearn: 0.1062108\ttotal: 576ms\tremaining: 562ms\n",
      "506:\tlearn: 0.1061465\ttotal: 577ms\tremaining: 561ms\n",
      "507:\tlearn: 0.1059666\ttotal: 578ms\tremaining: 560ms\n",
      "508:\tlearn: 0.1056801\ttotal: 579ms\tremaining: 558ms\n",
      "509:\tlearn: 0.1056457\ttotal: 580ms\tremaining: 557ms\n",
      "510:\tlearn: 0.1056053\ttotal: 581ms\tremaining: 556ms\n",
      "511:\tlearn: 0.1053223\ttotal: 582ms\tremaining: 555ms\n",
      "512:\tlearn: 0.1052515\ttotal: 583ms\tremaining: 554ms\n",
      "513:\tlearn: 0.1050473\ttotal: 585ms\tremaining: 553ms\n",
      "514:\tlearn: 0.1048276\ttotal: 586ms\tremaining: 552ms\n",
      "515:\tlearn: 0.1046192\ttotal: 587ms\tremaining: 551ms\n",
      "516:\tlearn: 0.1045516\ttotal: 588ms\tremaining: 549ms\n",
      "517:\tlearn: 0.1043259\ttotal: 589ms\tremaining: 548ms\n",
      "518:\tlearn: 0.1040566\ttotal: 590ms\tremaining: 547ms\n",
      "519:\tlearn: 0.1039062\ttotal: 591ms\tremaining: 546ms\n",
      "520:\tlearn: 0.1038093\ttotal: 592ms\tremaining: 545ms\n",
      "521:\tlearn: 0.1037837\ttotal: 593ms\tremaining: 543ms\n",
      "522:\tlearn: 0.1036497\ttotal: 595ms\tremaining: 542ms\n",
      "523:\tlearn: 0.1033870\ttotal: 596ms\tremaining: 541ms\n",
      "524:\tlearn: 0.1031470\ttotal: 597ms\tremaining: 540ms\n",
      "525:\tlearn: 0.1030058\ttotal: 598ms\tremaining: 539ms\n",
      "526:\tlearn: 0.1028609\ttotal: 599ms\tremaining: 537ms\n",
      "527:\tlearn: 0.1027809\ttotal: 600ms\tremaining: 536ms\n",
      "528:\tlearn: 0.1026997\ttotal: 601ms\tremaining: 535ms\n",
      "529:\tlearn: 0.1024134\ttotal: 602ms\tremaining: 534ms\n",
      "530:\tlearn: 0.1022102\ttotal: 603ms\tremaining: 533ms\n",
      "531:\tlearn: 0.1019442\ttotal: 604ms\tremaining: 531ms\n",
      "532:\tlearn: 0.1017800\ttotal: 605ms\tremaining: 530ms\n",
      "533:\tlearn: 0.1015198\ttotal: 606ms\tremaining: 529ms\n",
      "534:\tlearn: 0.1013180\ttotal: 607ms\tremaining: 528ms\n",
      "535:\tlearn: 0.1011089\ttotal: 608ms\tremaining: 526ms\n",
      "536:\tlearn: 0.1008946\ttotal: 609ms\tremaining: 525ms\n",
      "537:\tlearn: 0.1006665\ttotal: 610ms\tremaining: 524ms\n",
      "538:\tlearn: 0.1006142\ttotal: 611ms\tremaining: 523ms\n",
      "539:\tlearn: 0.1003543\ttotal: 612ms\tremaining: 521ms\n",
      "540:\tlearn: 0.1002516\ttotal: 613ms\tremaining: 520ms\n",
      "541:\tlearn: 0.1000280\ttotal: 614ms\tremaining: 519ms\n",
      "542:\tlearn: 0.0998196\ttotal: 615ms\tremaining: 518ms\n",
      "543:\tlearn: 0.0997763\ttotal: 616ms\tremaining: 517ms\n",
      "544:\tlearn: 0.0995576\ttotal: 617ms\tremaining: 515ms\n",
      "545:\tlearn: 0.0993112\ttotal: 618ms\tremaining: 514ms\n",
      "546:\tlearn: 0.0991248\ttotal: 619ms\tremaining: 513ms\n",
      "547:\tlearn: 0.0988748\ttotal: 620ms\tremaining: 512ms\n",
      "548:\tlearn: 0.0986417\ttotal: 622ms\tremaining: 511ms\n",
      "549:\tlearn: 0.0984132\ttotal: 623ms\tremaining: 509ms\n",
      "550:\tlearn: 0.0983047\ttotal: 624ms\tremaining: 508ms\n",
      "551:\tlearn: 0.0982242\ttotal: 625ms\tremaining: 507ms\n",
      "552:\tlearn: 0.0980813\ttotal: 626ms\tremaining: 506ms\n",
      "553:\tlearn: 0.0979538\ttotal: 627ms\tremaining: 504ms\n",
      "554:\tlearn: 0.0978523\ttotal: 628ms\tremaining: 503ms\n",
      "555:\tlearn: 0.0977329\ttotal: 628ms\tremaining: 502ms\n",
      "556:\tlearn: 0.0973873\ttotal: 629ms\tremaining: 501ms\n",
      "557:\tlearn: 0.0972120\ttotal: 630ms\tremaining: 499ms\n",
      "558:\tlearn: 0.0970221\ttotal: 631ms\tremaining: 498ms\n",
      "559:\tlearn: 0.0968657\ttotal: 632ms\tremaining: 497ms\n",
      "560:\tlearn: 0.0966627\ttotal: 633ms\tremaining: 496ms\n",
      "561:\tlearn: 0.0966051\ttotal: 634ms\tremaining: 494ms\n",
      "562:\tlearn: 0.0964516\ttotal: 635ms\tremaining: 493ms\n",
      "563:\tlearn: 0.0962043\ttotal: 636ms\tremaining: 492ms\n",
      "564:\tlearn: 0.0959510\ttotal: 637ms\tremaining: 491ms\n",
      "565:\tlearn: 0.0957934\ttotal: 638ms\tremaining: 489ms\n",
      "566:\tlearn: 0.0955388\ttotal: 639ms\tremaining: 488ms\n",
      "567:\tlearn: 0.0954627\ttotal: 640ms\tremaining: 487ms\n",
      "568:\tlearn: 0.0952132\ttotal: 641ms\tremaining: 486ms\n",
      "569:\tlearn: 0.0949588\ttotal: 642ms\tremaining: 485ms\n",
      "570:\tlearn: 0.0948171\ttotal: 643ms\tremaining: 483ms\n",
      "571:\tlearn: 0.0947033\ttotal: 645ms\tremaining: 482ms\n",
      "572:\tlearn: 0.0945075\ttotal: 646ms\tremaining: 481ms\n",
      "573:\tlearn: 0.0942554\ttotal: 647ms\tremaining: 480ms\n",
      "574:\tlearn: 0.0940180\ttotal: 648ms\tremaining: 479ms\n",
      "575:\tlearn: 0.0937807\ttotal: 649ms\tremaining: 477ms\n",
      "576:\tlearn: 0.0936949\ttotal: 650ms\tremaining: 476ms\n",
      "577:\tlearn: 0.0935061\ttotal: 651ms\tremaining: 475ms\n",
      "578:\tlearn: 0.0933204\ttotal: 652ms\tremaining: 474ms\n",
      "579:\tlearn: 0.0932839\ttotal: 653ms\tremaining: 473ms\n",
      "580:\tlearn: 0.0930194\ttotal: 654ms\tremaining: 471ms\n",
      "581:\tlearn: 0.0927204\ttotal: 655ms\tremaining: 470ms\n",
      "582:\tlearn: 0.0926737\ttotal: 656ms\tremaining: 469ms\n",
      "583:\tlearn: 0.0924220\ttotal: 657ms\tremaining: 468ms\n",
      "584:\tlearn: 0.0922635\ttotal: 658ms\tremaining: 467ms\n",
      "585:\tlearn: 0.0920856\ttotal: 659ms\tremaining: 465ms\n",
      "586:\tlearn: 0.0920645\ttotal: 660ms\tremaining: 464ms\n",
      "587:\tlearn: 0.0919541\ttotal: 661ms\tremaining: 463ms\n",
      "588:\tlearn: 0.0918677\ttotal: 662ms\tremaining: 462ms\n",
      "589:\tlearn: 0.0917055\ttotal: 663ms\tremaining: 461ms\n",
      "590:\tlearn: 0.0916629\ttotal: 664ms\tremaining: 459ms\n",
      "591:\tlearn: 0.0915322\ttotal: 665ms\tremaining: 458ms\n",
      "592:\tlearn: 0.0913813\ttotal: 666ms\tremaining: 457ms\n",
      "593:\tlearn: 0.0913186\ttotal: 667ms\tremaining: 456ms\n",
      "594:\tlearn: 0.0911861\ttotal: 668ms\tremaining: 455ms\n",
      "595:\tlearn: 0.0909519\ttotal: 670ms\tremaining: 454ms\n",
      "596:\tlearn: 0.0907041\ttotal: 671ms\tremaining: 453ms\n",
      "597:\tlearn: 0.0905087\ttotal: 672ms\tremaining: 452ms\n",
      "598:\tlearn: 0.0902449\ttotal: 673ms\tremaining: 450ms\n",
      "599:\tlearn: 0.0900398\ttotal: 674ms\tremaining: 449ms\n",
      "600:\tlearn: 0.0898161\ttotal: 675ms\tremaining: 448ms\n",
      "601:\tlearn: 0.0897174\ttotal: 676ms\tremaining: 447ms\n",
      "602:\tlearn: 0.0895279\ttotal: 677ms\tremaining: 446ms\n",
      "603:\tlearn: 0.0893845\ttotal: 678ms\tremaining: 445ms\n",
      "604:\tlearn: 0.0891255\ttotal: 679ms\tremaining: 444ms\n",
      "605:\tlearn: 0.0888441\ttotal: 680ms\tremaining: 442ms\n",
      "606:\tlearn: 0.0886277\ttotal: 681ms\tremaining: 441ms\n",
      "607:\tlearn: 0.0885049\ttotal: 682ms\tremaining: 440ms\n",
      "608:\tlearn: 0.0884326\ttotal: 684ms\tremaining: 439ms\n",
      "609:\tlearn: 0.0882189\ttotal: 685ms\tremaining: 438ms\n"
     ]
    },
    {
     "name": "stdout",
     "output_type": "stream",
     "text": [
      "610:\tlearn: 0.0880742\ttotal: 686ms\tremaining: 437ms\n",
      "611:\tlearn: 0.0879349\ttotal: 687ms\tremaining: 436ms\n",
      "612:\tlearn: 0.0877946\ttotal: 688ms\tremaining: 435ms\n",
      "613:\tlearn: 0.0875480\ttotal: 689ms\tremaining: 433ms\n",
      "614:\tlearn: 0.0873272\ttotal: 690ms\tremaining: 432ms\n",
      "615:\tlearn: 0.0871247\ttotal: 692ms\tremaining: 431ms\n",
      "616:\tlearn: 0.0869275\ttotal: 693ms\tremaining: 430ms\n",
      "617:\tlearn: 0.0867229\ttotal: 694ms\tremaining: 429ms\n",
      "618:\tlearn: 0.0865321\ttotal: 695ms\tremaining: 428ms\n",
      "619:\tlearn: 0.0864428\ttotal: 696ms\tremaining: 426ms\n",
      "620:\tlearn: 0.0862944\ttotal: 697ms\tremaining: 425ms\n",
      "621:\tlearn: 0.0860396\ttotal: 698ms\tremaining: 424ms\n",
      "622:\tlearn: 0.0858654\ttotal: 699ms\tremaining: 423ms\n",
      "623:\tlearn: 0.0857170\ttotal: 700ms\tremaining: 422ms\n",
      "624:\tlearn: 0.0855619\ttotal: 701ms\tremaining: 421ms\n",
      "625:\tlearn: 0.0855271\ttotal: 702ms\tremaining: 420ms\n",
      "626:\tlearn: 0.0854634\ttotal: 704ms\tremaining: 419ms\n",
      "627:\tlearn: 0.0853423\ttotal: 705ms\tremaining: 418ms\n",
      "628:\tlearn: 0.0851374\ttotal: 706ms\tremaining: 416ms\n",
      "629:\tlearn: 0.0849672\ttotal: 707ms\tremaining: 415ms\n",
      "630:\tlearn: 0.0848719\ttotal: 708ms\tremaining: 414ms\n",
      "631:\tlearn: 0.0847701\ttotal: 709ms\tremaining: 413ms\n",
      "632:\tlearn: 0.0845244\ttotal: 710ms\tremaining: 412ms\n",
      "633:\tlearn: 0.0842719\ttotal: 711ms\tremaining: 411ms\n",
      "634:\tlearn: 0.0840162\ttotal: 713ms\tremaining: 410ms\n",
      "635:\tlearn: 0.0838110\ttotal: 714ms\tremaining: 408ms\n",
      "636:\tlearn: 0.0837362\ttotal: 715ms\tremaining: 407ms\n",
      "637:\tlearn: 0.0835088\ttotal: 716ms\tremaining: 406ms\n",
      "638:\tlearn: 0.0833712\ttotal: 717ms\tremaining: 405ms\n",
      "639:\tlearn: 0.0832280\ttotal: 718ms\tremaining: 404ms\n",
      "640:\tlearn: 0.0830345\ttotal: 719ms\tremaining: 403ms\n",
      "641:\tlearn: 0.0828495\ttotal: 720ms\tremaining: 402ms\n",
      "642:\tlearn: 0.0827278\ttotal: 721ms\tremaining: 400ms\n",
      "643:\tlearn: 0.0825707\ttotal: 722ms\tremaining: 399ms\n",
      "644:\tlearn: 0.0824523\ttotal: 723ms\tremaining: 398ms\n",
      "645:\tlearn: 0.0823268\ttotal: 724ms\tremaining: 397ms\n",
      "646:\tlearn: 0.0821620\ttotal: 726ms\tremaining: 396ms\n",
      "647:\tlearn: 0.0819848\ttotal: 727ms\tremaining: 395ms\n",
      "648:\tlearn: 0.0818114\ttotal: 728ms\tremaining: 394ms\n",
      "649:\tlearn: 0.0815958\ttotal: 729ms\tremaining: 393ms\n",
      "650:\tlearn: 0.0815690\ttotal: 730ms\tremaining: 391ms\n",
      "651:\tlearn: 0.0813742\ttotal: 731ms\tremaining: 390ms\n",
      "652:\tlearn: 0.0813487\ttotal: 732ms\tremaining: 389ms\n",
      "653:\tlearn: 0.0812808\ttotal: 733ms\tremaining: 388ms\n",
      "654:\tlearn: 0.0811520\ttotal: 734ms\tremaining: 387ms\n",
      "655:\tlearn: 0.0810870\ttotal: 735ms\tremaining: 386ms\n",
      "656:\tlearn: 0.0809067\ttotal: 736ms\tremaining: 384ms\n",
      "657:\tlearn: 0.0806602\ttotal: 738ms\tremaining: 383ms\n",
      "658:\tlearn: 0.0804645\ttotal: 739ms\tremaining: 382ms\n",
      "659:\tlearn: 0.0803210\ttotal: 740ms\tremaining: 381ms\n",
      "660:\tlearn: 0.0802116\ttotal: 741ms\tremaining: 380ms\n",
      "661:\tlearn: 0.0801156\ttotal: 742ms\tremaining: 379ms\n",
      "662:\tlearn: 0.0799916\ttotal: 743ms\tremaining: 378ms\n",
      "663:\tlearn: 0.0798846\ttotal: 744ms\tremaining: 376ms\n",
      "664:\tlearn: 0.0797498\ttotal: 745ms\tremaining: 375ms\n",
      "665:\tlearn: 0.0796647\ttotal: 746ms\tremaining: 374ms\n",
      "666:\tlearn: 0.0795481\ttotal: 747ms\tremaining: 373ms\n",
      "667:\tlearn: 0.0793940\ttotal: 748ms\tremaining: 372ms\n",
      "668:\tlearn: 0.0792199\ttotal: 749ms\tremaining: 371ms\n",
      "669:\tlearn: 0.0790660\ttotal: 751ms\tremaining: 370ms\n",
      "670:\tlearn: 0.0790256\ttotal: 752ms\tremaining: 369ms\n",
      "671:\tlearn: 0.0789659\ttotal: 753ms\tremaining: 367ms\n",
      "672:\tlearn: 0.0788162\ttotal: 754ms\tremaining: 366ms\n",
      "673:\tlearn: 0.0786916\ttotal: 755ms\tremaining: 365ms\n",
      "674:\tlearn: 0.0785031\ttotal: 756ms\tremaining: 364ms\n",
      "675:\tlearn: 0.0784384\ttotal: 757ms\tremaining: 363ms\n",
      "676:\tlearn: 0.0783213\ttotal: 758ms\tremaining: 362ms\n",
      "677:\tlearn: 0.0781799\ttotal: 759ms\tremaining: 361ms\n",
      "678:\tlearn: 0.0779576\ttotal: 760ms\tremaining: 359ms\n",
      "679:\tlearn: 0.0778240\ttotal: 762ms\tremaining: 358ms\n",
      "680:\tlearn: 0.0777299\ttotal: 763ms\tremaining: 357ms\n",
      "681:\tlearn: 0.0776623\ttotal: 764ms\tremaining: 356ms\n",
      "682:\tlearn: 0.0775095\ttotal: 765ms\tremaining: 355ms\n",
      "683:\tlearn: 0.0774024\ttotal: 766ms\tremaining: 354ms\n",
      "684:\tlearn: 0.0772044\ttotal: 767ms\tremaining: 353ms\n",
      "685:\tlearn: 0.0770754\ttotal: 768ms\tremaining: 351ms\n",
      "686:\tlearn: 0.0769394\ttotal: 769ms\tremaining: 350ms\n",
      "687:\tlearn: 0.0767854\ttotal: 770ms\tremaining: 349ms\n",
      "688:\tlearn: 0.0765547\ttotal: 771ms\tremaining: 348ms\n",
      "689:\tlearn: 0.0764057\ttotal: 772ms\tremaining: 347ms\n",
      "690:\tlearn: 0.0763030\ttotal: 773ms\tremaining: 346ms\n",
      "691:\tlearn: 0.0762597\ttotal: 774ms\tremaining: 345ms\n",
      "692:\tlearn: 0.0760624\ttotal: 775ms\tremaining: 343ms\n",
      "693:\tlearn: 0.0758825\ttotal: 776ms\tremaining: 342ms\n",
      "694:\tlearn: 0.0758104\ttotal: 777ms\tremaining: 341ms\n",
      "695:\tlearn: 0.0757580\ttotal: 778ms\tremaining: 340ms\n",
      "696:\tlearn: 0.0756297\ttotal: 780ms\tremaining: 339ms\n",
      "697:\tlearn: 0.0754701\ttotal: 781ms\tremaining: 338ms\n",
      "698:\tlearn: 0.0753390\ttotal: 782ms\tremaining: 337ms\n",
      "699:\tlearn: 0.0751687\ttotal: 783ms\tremaining: 335ms\n",
      "700:\tlearn: 0.0750349\ttotal: 784ms\tremaining: 334ms\n",
      "701:\tlearn: 0.0749660\ttotal: 785ms\tremaining: 333ms\n",
      "702:\tlearn: 0.0748481\ttotal: 786ms\tremaining: 332ms\n",
      "703:\tlearn: 0.0746759\ttotal: 787ms\tremaining: 331ms\n",
      "704:\tlearn: 0.0744797\ttotal: 788ms\tremaining: 330ms\n",
      "705:\tlearn: 0.0743515\ttotal: 789ms\tremaining: 328ms\n",
      "706:\tlearn: 0.0742590\ttotal: 790ms\tremaining: 327ms\n",
      "707:\tlearn: 0.0741038\ttotal: 791ms\tremaining: 326ms\n",
      "708:\tlearn: 0.0739384\ttotal: 792ms\tremaining: 325ms\n",
      "709:\tlearn: 0.0738644\ttotal: 793ms\tremaining: 324ms\n",
      "710:\tlearn: 0.0737817\ttotal: 794ms\tremaining: 323ms\n",
      "711:\tlearn: 0.0736232\ttotal: 795ms\tremaining: 321ms\n",
      "712:\tlearn: 0.0734875\ttotal: 796ms\tremaining: 320ms\n",
      "713:\tlearn: 0.0734385\ttotal: 797ms\tremaining: 319ms\n",
      "714:\tlearn: 0.0733128\ttotal: 798ms\tremaining: 318ms\n",
      "715:\tlearn: 0.0732012\ttotal: 799ms\tremaining: 317ms\n",
      "716:\tlearn: 0.0730800\ttotal: 800ms\tremaining: 316ms\n",
      "717:\tlearn: 0.0729720\ttotal: 801ms\tremaining: 315ms\n",
      "718:\tlearn: 0.0728032\ttotal: 802ms\tremaining: 313ms\n",
      "719:\tlearn: 0.0727297\ttotal: 803ms\tremaining: 312ms\n",
      "720:\tlearn: 0.0726877\ttotal: 804ms\tremaining: 311ms\n",
      "721:\tlearn: 0.0725356\ttotal: 805ms\tremaining: 310ms\n",
      "722:\tlearn: 0.0723961\ttotal: 806ms\tremaining: 309ms\n",
      "723:\tlearn: 0.0722804\ttotal: 807ms\tremaining: 308ms\n",
      "724:\tlearn: 0.0721549\ttotal: 808ms\tremaining: 306ms\n",
      "725:\tlearn: 0.0719264\ttotal: 809ms\tremaining: 305ms\n",
      "726:\tlearn: 0.0717904\ttotal: 810ms\tremaining: 304ms\n",
      "727:\tlearn: 0.0716284\ttotal: 811ms\tremaining: 303ms\n",
      "728:\tlearn: 0.0713956\ttotal: 812ms\tremaining: 302ms\n",
      "729:\tlearn: 0.0712793\ttotal: 813ms\tremaining: 301ms\n",
      "730:\tlearn: 0.0711542\ttotal: 814ms\tremaining: 300ms\n",
      "731:\tlearn: 0.0709704\ttotal: 815ms\tremaining: 298ms\n",
      "732:\tlearn: 0.0708728\ttotal: 816ms\tremaining: 297ms\n",
      "733:\tlearn: 0.0707528\ttotal: 817ms\tremaining: 296ms\n",
      "734:\tlearn: 0.0706912\ttotal: 818ms\tremaining: 295ms\n",
      "735:\tlearn: 0.0706494\ttotal: 819ms\tremaining: 294ms\n",
      "736:\tlearn: 0.0705247\ttotal: 820ms\tremaining: 293ms\n",
      "737:\tlearn: 0.0703934\ttotal: 821ms\tremaining: 292ms\n"
     ]
    },
    {
     "name": "stdout",
     "output_type": "stream",
     "text": [
      "738:\tlearn: 0.0702597\ttotal: 822ms\tremaining: 290ms\n",
      "739:\tlearn: 0.0701697\ttotal: 824ms\tremaining: 290ms\n",
      "740:\tlearn: 0.0699702\ttotal: 825ms\tremaining: 289ms\n",
      "741:\tlearn: 0.0697966\ttotal: 827ms\tremaining: 287ms\n",
      "742:\tlearn: 0.0697089\ttotal: 828ms\tremaining: 286ms\n",
      "743:\tlearn: 0.0695663\ttotal: 829ms\tremaining: 285ms\n",
      "744:\tlearn: 0.0695252\ttotal: 830ms\tremaining: 284ms\n",
      "745:\tlearn: 0.0694959\ttotal: 831ms\tremaining: 283ms\n",
      "746:\tlearn: 0.0694635\ttotal: 832ms\tremaining: 282ms\n",
      "747:\tlearn: 0.0693262\ttotal: 833ms\tremaining: 281ms\n",
      "748:\tlearn: 0.0691863\ttotal: 834ms\tremaining: 279ms\n",
      "749:\tlearn: 0.0690215\ttotal: 835ms\tremaining: 278ms\n",
      "750:\tlearn: 0.0689834\ttotal: 836ms\tremaining: 277ms\n",
      "751:\tlearn: 0.0689140\ttotal: 837ms\tremaining: 276ms\n",
      "752:\tlearn: 0.0688337\ttotal: 838ms\tremaining: 275ms\n",
      "753:\tlearn: 0.0687149\ttotal: 839ms\tremaining: 274ms\n",
      "754:\tlearn: 0.0686060\ttotal: 840ms\tremaining: 272ms\n",
      "755:\tlearn: 0.0684418\ttotal: 840ms\tremaining: 271ms\n",
      "756:\tlearn: 0.0683116\ttotal: 841ms\tremaining: 270ms\n",
      "757:\tlearn: 0.0681800\ttotal: 842ms\tremaining: 269ms\n",
      "758:\tlearn: 0.0681157\ttotal: 844ms\tremaining: 268ms\n",
      "759:\tlearn: 0.0680837\ttotal: 845ms\tremaining: 267ms\n",
      "760:\tlearn: 0.0679247\ttotal: 846ms\tremaining: 266ms\n",
      "761:\tlearn: 0.0678197\ttotal: 847ms\tremaining: 264ms\n",
      "762:\tlearn: 0.0676965\ttotal: 848ms\tremaining: 263ms\n",
      "763:\tlearn: 0.0676669\ttotal: 849ms\tremaining: 262ms\n",
      "764:\tlearn: 0.0675429\ttotal: 850ms\tremaining: 261ms\n",
      "765:\tlearn: 0.0673788\ttotal: 851ms\tremaining: 260ms\n",
      "766:\tlearn: 0.0673033\ttotal: 852ms\tremaining: 259ms\n",
      "767:\tlearn: 0.0671646\ttotal: 853ms\tremaining: 258ms\n",
      "768:\tlearn: 0.0669991\ttotal: 854ms\tremaining: 256ms\n",
      "769:\tlearn: 0.0668798\ttotal: 855ms\tremaining: 255ms\n",
      "770:\tlearn: 0.0667895\ttotal: 856ms\tremaining: 254ms\n",
      "771:\tlearn: 0.0666936\ttotal: 857ms\tremaining: 253ms\n",
      "772:\tlearn: 0.0666486\ttotal: 858ms\tremaining: 252ms\n",
      "773:\tlearn: 0.0665645\ttotal: 859ms\tremaining: 251ms\n",
      "774:\tlearn: 0.0664201\ttotal: 860ms\tremaining: 250ms\n",
      "775:\tlearn: 0.0662899\ttotal: 861ms\tremaining: 248ms\n",
      "776:\tlearn: 0.0662435\ttotal: 862ms\tremaining: 247ms\n",
      "777:\tlearn: 0.0660958\ttotal: 863ms\tremaining: 246ms\n",
      "778:\tlearn: 0.0660238\ttotal: 864ms\tremaining: 245ms\n",
      "779:\tlearn: 0.0658502\ttotal: 865ms\tremaining: 244ms\n",
      "780:\tlearn: 0.0657478\ttotal: 866ms\tremaining: 243ms\n",
      "781:\tlearn: 0.0656631\ttotal: 867ms\tremaining: 242ms\n",
      "782:\tlearn: 0.0655683\ttotal: 868ms\tremaining: 241ms\n",
      "783:\tlearn: 0.0654646\ttotal: 869ms\tremaining: 239ms\n",
      "784:\tlearn: 0.0653640\ttotal: 870ms\tremaining: 238ms\n",
      "785:\tlearn: 0.0652306\ttotal: 871ms\tremaining: 237ms\n",
      "786:\tlearn: 0.0651400\ttotal: 872ms\tremaining: 236ms\n",
      "787:\tlearn: 0.0650075\ttotal: 873ms\tremaining: 235ms\n",
      "788:\tlearn: 0.0649070\ttotal: 874ms\tremaining: 234ms\n",
      "789:\tlearn: 0.0648074\ttotal: 875ms\tremaining: 233ms\n",
      "790:\tlearn: 0.0647273\ttotal: 877ms\tremaining: 232ms\n",
      "791:\tlearn: 0.0646039\ttotal: 878ms\tremaining: 230ms\n",
      "792:\tlearn: 0.0644874\ttotal: 879ms\tremaining: 229ms\n",
      "793:\tlearn: 0.0644418\ttotal: 880ms\tremaining: 228ms\n",
      "794:\tlearn: 0.0643598\ttotal: 880ms\tremaining: 227ms\n",
      "795:\tlearn: 0.0642981\ttotal: 881ms\tremaining: 226ms\n",
      "796:\tlearn: 0.0641513\ttotal: 882ms\tremaining: 225ms\n",
      "797:\tlearn: 0.0639834\ttotal: 883ms\tremaining: 224ms\n",
      "798:\tlearn: 0.0638520\ttotal: 884ms\tremaining: 222ms\n",
      "799:\tlearn: 0.0637232\ttotal: 885ms\tremaining: 221ms\n",
      "800:\tlearn: 0.0636107\ttotal: 886ms\tremaining: 220ms\n",
      "801:\tlearn: 0.0635127\ttotal: 887ms\tremaining: 219ms\n",
      "802:\tlearn: 0.0633733\ttotal: 888ms\tremaining: 218ms\n",
      "803:\tlearn: 0.0633369\ttotal: 890ms\tremaining: 217ms\n",
      "804:\tlearn: 0.0631992\ttotal: 891ms\tremaining: 216ms\n",
      "805:\tlearn: 0.0630878\ttotal: 892ms\tremaining: 215ms\n",
      "806:\tlearn: 0.0629243\ttotal: 893ms\tremaining: 214ms\n",
      "807:\tlearn: 0.0628232\ttotal: 894ms\tremaining: 212ms\n",
      "808:\tlearn: 0.0626714\ttotal: 895ms\tremaining: 211ms\n",
      "809:\tlearn: 0.0624504\ttotal: 896ms\tremaining: 210ms\n",
      "810:\tlearn: 0.0623843\ttotal: 897ms\tremaining: 209ms\n",
      "811:\tlearn: 0.0622335\ttotal: 898ms\tremaining: 208ms\n",
      "812:\tlearn: 0.0621586\ttotal: 899ms\tremaining: 207ms\n",
      "813:\tlearn: 0.0621124\ttotal: 900ms\tremaining: 206ms\n",
      "814:\tlearn: 0.0620714\ttotal: 901ms\tremaining: 205ms\n",
      "815:\tlearn: 0.0619875\ttotal: 902ms\tremaining: 203ms\n",
      "816:\tlearn: 0.0618867\ttotal: 903ms\tremaining: 202ms\n",
      "817:\tlearn: 0.0618242\ttotal: 904ms\tremaining: 201ms\n",
      "818:\tlearn: 0.0616971\ttotal: 905ms\tremaining: 200ms\n",
      "819:\tlearn: 0.0616637\ttotal: 906ms\tremaining: 199ms\n",
      "820:\tlearn: 0.0615522\ttotal: 907ms\tremaining: 198ms\n",
      "821:\tlearn: 0.0614604\ttotal: 908ms\tremaining: 197ms\n",
      "822:\tlearn: 0.0613797\ttotal: 909ms\tremaining: 196ms\n",
      "823:\tlearn: 0.0613376\ttotal: 911ms\tremaining: 194ms\n",
      "824:\tlearn: 0.0612082\ttotal: 912ms\tremaining: 193ms\n",
      "825:\tlearn: 0.0611027\ttotal: 913ms\tremaining: 192ms\n",
      "826:\tlearn: 0.0609707\ttotal: 914ms\tremaining: 191ms\n",
      "827:\tlearn: 0.0608757\ttotal: 915ms\tremaining: 190ms\n",
      "828:\tlearn: 0.0607884\ttotal: 916ms\tremaining: 189ms\n",
      "829:\tlearn: 0.0606556\ttotal: 917ms\tremaining: 188ms\n",
      "830:\tlearn: 0.0606320\ttotal: 918ms\tremaining: 187ms\n",
      "831:\tlearn: 0.0604961\ttotal: 919ms\tremaining: 185ms\n",
      "832:\tlearn: 0.0603783\ttotal: 920ms\tremaining: 184ms\n",
      "833:\tlearn: 0.0603444\ttotal: 921ms\tremaining: 183ms\n",
      "834:\tlearn: 0.0602781\ttotal: 922ms\tremaining: 182ms\n",
      "835:\tlearn: 0.0601345\ttotal: 923ms\tremaining: 181ms\n",
      "836:\tlearn: 0.0599521\ttotal: 924ms\tremaining: 180ms\n",
      "837:\tlearn: 0.0598373\ttotal: 925ms\tremaining: 179ms\n",
      "838:\tlearn: 0.0596812\ttotal: 926ms\tremaining: 178ms\n",
      "839:\tlearn: 0.0595594\ttotal: 927ms\tremaining: 177ms\n",
      "840:\tlearn: 0.0594087\ttotal: 928ms\tremaining: 175ms\n",
      "841:\tlearn: 0.0593228\ttotal: 929ms\tremaining: 174ms\n",
      "842:\tlearn: 0.0592612\ttotal: 930ms\tremaining: 173ms\n",
      "843:\tlearn: 0.0591217\ttotal: 931ms\tremaining: 172ms\n",
      "844:\tlearn: 0.0590093\ttotal: 932ms\tremaining: 171ms\n",
      "845:\tlearn: 0.0589913\ttotal: 933ms\tremaining: 170ms\n",
      "846:\tlearn: 0.0589139\ttotal: 934ms\tremaining: 169ms\n",
      "847:\tlearn: 0.0587902\ttotal: 935ms\tremaining: 168ms\n",
      "848:\tlearn: 0.0587559\ttotal: 936ms\tremaining: 167ms\n",
      "849:\tlearn: 0.0586289\ttotal: 937ms\tremaining: 165ms\n",
      "850:\tlearn: 0.0584831\ttotal: 938ms\tremaining: 164ms\n",
      "851:\tlearn: 0.0584278\ttotal: 939ms\tremaining: 163ms\n",
      "852:\tlearn: 0.0583666\ttotal: 940ms\tremaining: 162ms\n",
      "853:\tlearn: 0.0582167\ttotal: 941ms\tremaining: 161ms\n",
      "854:\tlearn: 0.0581469\ttotal: 942ms\tremaining: 160ms\n",
      "855:\tlearn: 0.0581117\ttotal: 943ms\tremaining: 159ms\n",
      "856:\tlearn: 0.0580419\ttotal: 944ms\tremaining: 158ms\n",
      "857:\tlearn: 0.0579843\ttotal: 945ms\tremaining: 156ms\n",
      "858:\tlearn: 0.0578426\ttotal: 947ms\tremaining: 155ms\n",
      "859:\tlearn: 0.0577782\ttotal: 948ms\tremaining: 154ms\n",
      "860:\tlearn: 0.0576648\ttotal: 949ms\tremaining: 153ms\n",
      "861:\tlearn: 0.0575736\ttotal: 950ms\tremaining: 152ms\n",
      "862:\tlearn: 0.0575288\ttotal: 952ms\tremaining: 151ms\n",
      "863:\tlearn: 0.0574870\ttotal: 953ms\tremaining: 150ms\n",
      "864:\tlearn: 0.0574321\ttotal: 954ms\tremaining: 149ms\n",
      "865:\tlearn: 0.0573186\ttotal: 955ms\tremaining: 148ms\n",
      "866:\tlearn: 0.0572745\ttotal: 956ms\tremaining: 147ms\n",
      "867:\tlearn: 0.0571918\ttotal: 957ms\tremaining: 145ms\n",
      "868:\tlearn: 0.0571588\ttotal: 958ms\tremaining: 144ms\n",
      "869:\tlearn: 0.0570105\ttotal: 959ms\tremaining: 143ms\n"
     ]
    },
    {
     "name": "stdout",
     "output_type": "stream",
     "text": [
      "870:\tlearn: 0.0569517\ttotal: 960ms\tremaining: 142ms\n",
      "871:\tlearn: 0.0568375\ttotal: 961ms\tremaining: 141ms\n",
      "872:\tlearn: 0.0567290\ttotal: 962ms\tremaining: 140ms\n",
      "873:\tlearn: 0.0566565\ttotal: 963ms\tremaining: 139ms\n",
      "874:\tlearn: 0.0564592\ttotal: 965ms\tremaining: 138ms\n",
      "875:\tlearn: 0.0563670\ttotal: 965ms\tremaining: 137ms\n",
      "876:\tlearn: 0.0563077\ttotal: 967ms\tremaining: 136ms\n",
      "877:\tlearn: 0.0561855\ttotal: 968ms\tremaining: 134ms\n",
      "878:\tlearn: 0.0561215\ttotal: 969ms\tremaining: 133ms\n",
      "879:\tlearn: 0.0560228\ttotal: 970ms\tremaining: 132ms\n",
      "880:\tlearn: 0.0559933\ttotal: 971ms\tremaining: 131ms\n",
      "881:\tlearn: 0.0559074\ttotal: 972ms\tremaining: 130ms\n",
      "882:\tlearn: 0.0557769\ttotal: 973ms\tremaining: 129ms\n",
      "883:\tlearn: 0.0556951\ttotal: 974ms\tremaining: 128ms\n",
      "884:\tlearn: 0.0556245\ttotal: 975ms\tremaining: 127ms\n",
      "885:\tlearn: 0.0555656\ttotal: 976ms\tremaining: 126ms\n",
      "886:\tlearn: 0.0554698\ttotal: 977ms\tremaining: 124ms\n",
      "887:\tlearn: 0.0553820\ttotal: 978ms\tremaining: 123ms\n",
      "888:\tlearn: 0.0553179\ttotal: 979ms\tremaining: 122ms\n",
      "889:\tlearn: 0.0551809\ttotal: 980ms\tremaining: 121ms\n",
      "890:\tlearn: 0.0550512\ttotal: 981ms\tremaining: 120ms\n",
      "891:\tlearn: 0.0548796\ttotal: 982ms\tremaining: 119ms\n",
      "892:\tlearn: 0.0547453\ttotal: 983ms\tremaining: 118ms\n",
      "893:\tlearn: 0.0546364\ttotal: 984ms\tremaining: 117ms\n",
      "894:\tlearn: 0.0545276\ttotal: 985ms\tremaining: 116ms\n",
      "895:\tlearn: 0.0544499\ttotal: 987ms\tremaining: 115ms\n",
      "896:\tlearn: 0.0543805\ttotal: 988ms\tremaining: 113ms\n",
      "897:\tlearn: 0.0543021\ttotal: 989ms\tremaining: 112ms\n",
      "898:\tlearn: 0.0541763\ttotal: 990ms\tremaining: 111ms\n",
      "899:\tlearn: 0.0540901\ttotal: 991ms\tremaining: 110ms\n",
      "900:\tlearn: 0.0540321\ttotal: 992ms\tremaining: 109ms\n",
      "901:\tlearn: 0.0539420\ttotal: 993ms\tremaining: 108ms\n",
      "902:\tlearn: 0.0538656\ttotal: 994ms\tremaining: 107ms\n",
      "903:\tlearn: 0.0538124\ttotal: 995ms\tremaining: 106ms\n",
      "904:\tlearn: 0.0537151\ttotal: 996ms\tremaining: 105ms\n",
      "905:\tlearn: 0.0536477\ttotal: 997ms\tremaining: 103ms\n",
      "906:\tlearn: 0.0535374\ttotal: 998ms\tremaining: 102ms\n",
      "907:\tlearn: 0.0534941\ttotal: 999ms\tremaining: 101ms\n",
      "908:\tlearn: 0.0534118\ttotal: 1s\tremaining: 100ms\n",
      "909:\tlearn: 0.0533633\ttotal: 1s\tremaining: 99ms\n",
      "910:\tlearn: 0.0532283\ttotal: 1s\tremaining: 97.9ms\n",
      "911:\tlearn: 0.0531150\ttotal: 1s\tremaining: 96.8ms\n",
      "912:\tlearn: 0.0530369\ttotal: 1s\tremaining: 95.7ms\n",
      "913:\tlearn: 0.0529981\ttotal: 1s\tremaining: 94.6ms\n",
      "914:\tlearn: 0.0529309\ttotal: 1.01s\tremaining: 93.5ms\n",
      "915:\tlearn: 0.0528471\ttotal: 1.01s\tremaining: 92.4ms\n",
      "916:\tlearn: 0.0527140\ttotal: 1.01s\tremaining: 91.3ms\n",
      "917:\tlearn: 0.0526753\ttotal: 1.01s\tremaining: 90.2ms\n",
      "918:\tlearn: 0.0525535\ttotal: 1.01s\tremaining: 89ms\n",
      "919:\tlearn: 0.0525429\ttotal: 1.01s\tremaining: 87.9ms\n",
      "920:\tlearn: 0.0525150\ttotal: 1.01s\tremaining: 86.8ms\n",
      "921:\tlearn: 0.0523824\ttotal: 1.01s\tremaining: 85.7ms\n",
      "922:\tlearn: 0.0523173\ttotal: 1.01s\tremaining: 84.6ms\n",
      "923:\tlearn: 0.0522280\ttotal: 1.01s\tremaining: 83.5ms\n",
      "924:\tlearn: 0.0521267\ttotal: 1.02s\tremaining: 82.4ms\n",
      "925:\tlearn: 0.0520550\ttotal: 1.02s\tremaining: 81.3ms\n",
      "926:\tlearn: 0.0520119\ttotal: 1.02s\tremaining: 80.2ms\n",
      "927:\tlearn: 0.0519917\ttotal: 1.02s\tremaining: 79.1ms\n",
      "928:\tlearn: 0.0519075\ttotal: 1.02s\tremaining: 78ms\n",
      "929:\tlearn: 0.0517989\ttotal: 1.02s\tremaining: 76.9ms\n",
      "930:\tlearn: 0.0517164\ttotal: 1.02s\tremaining: 75.8ms\n",
      "931:\tlearn: 0.0516262\ttotal: 1.02s\tremaining: 74.6ms\n",
      "932:\tlearn: 0.0515915\ttotal: 1.02s\tremaining: 73.5ms\n",
      "933:\tlearn: 0.0515117\ttotal: 1.02s\tremaining: 72.4ms\n",
      "934:\tlearn: 0.0513599\ttotal: 1.03s\tremaining: 71.3ms\n",
      "935:\tlearn: 0.0512717\ttotal: 1.03s\tremaining: 70.2ms\n",
      "936:\tlearn: 0.0511762\ttotal: 1.03s\tremaining: 69.1ms\n",
      "937:\tlearn: 0.0510817\ttotal: 1.03s\tremaining: 68ms\n",
      "938:\tlearn: 0.0509496\ttotal: 1.03s\tremaining: 66.9ms\n",
      "939:\tlearn: 0.0509020\ttotal: 1.03s\tremaining: 65.8ms\n",
      "940:\tlearn: 0.0508124\ttotal: 1.03s\tremaining: 64.7ms\n",
      "941:\tlearn: 0.0507327\ttotal: 1.03s\tremaining: 63.6ms\n",
      "942:\tlearn: 0.0506169\ttotal: 1.03s\tremaining: 62.5ms\n",
      "943:\tlearn: 0.0505910\ttotal: 1.03s\tremaining: 61.4ms\n",
      "944:\tlearn: 0.0505494\ttotal: 1.04s\tremaining: 60.3ms\n",
      "945:\tlearn: 0.0505116\ttotal: 1.04s\tremaining: 59.2ms\n",
      "946:\tlearn: 0.0504010\ttotal: 1.04s\tremaining: 58.1ms\n",
      "947:\tlearn: 0.0503490\ttotal: 1.04s\tremaining: 57ms\n",
      "948:\tlearn: 0.0502432\ttotal: 1.04s\tremaining: 55.9ms\n",
      "949:\tlearn: 0.0501671\ttotal: 1.04s\tremaining: 54.8ms\n",
      "950:\tlearn: 0.0500717\ttotal: 1.04s\tremaining: 53.8ms\n",
      "951:\tlearn: 0.0499820\ttotal: 1.04s\tremaining: 52.7ms\n",
      "952:\tlearn: 0.0499499\ttotal: 1.04s\tremaining: 51.6ms\n",
      "953:\tlearn: 0.0499027\ttotal: 1.05s\tremaining: 50.5ms\n",
      "954:\tlearn: 0.0498698\ttotal: 1.05s\tremaining: 49.4ms\n",
      "955:\tlearn: 0.0498006\ttotal: 1.05s\tremaining: 48.3ms\n",
      "956:\tlearn: 0.0496860\ttotal: 1.05s\tremaining: 47.2ms\n",
      "957:\tlearn: 0.0496190\ttotal: 1.05s\tremaining: 46.1ms\n",
      "958:\tlearn: 0.0495875\ttotal: 1.05s\tremaining: 45ms\n",
      "959:\tlearn: 0.0495205\ttotal: 1.05s\tremaining: 43.9ms\n",
      "960:\tlearn: 0.0494182\ttotal: 1.05s\tremaining: 42.8ms\n",
      "961:\tlearn: 0.0493006\ttotal: 1.05s\tremaining: 41.7ms\n",
      "962:\tlearn: 0.0492357\ttotal: 1.06s\tremaining: 40.6ms\n",
      "963:\tlearn: 0.0491520\ttotal: 1.06s\tremaining: 39.5ms\n",
      "964:\tlearn: 0.0490382\ttotal: 1.06s\tremaining: 38.4ms\n",
      "965:\tlearn: 0.0489864\ttotal: 1.06s\tremaining: 37.3ms\n",
      "966:\tlearn: 0.0489478\ttotal: 1.06s\tremaining: 36.2ms\n",
      "967:\tlearn: 0.0489100\ttotal: 1.06s\tremaining: 35.1ms\n",
      "968:\tlearn: 0.0488331\ttotal: 1.06s\tremaining: 34ms\n",
      "969:\tlearn: 0.0486768\ttotal: 1.06s\tremaining: 32.9ms\n",
      "970:\tlearn: 0.0486093\ttotal: 1.06s\tremaining: 31.8ms\n",
      "971:\tlearn: 0.0485347\ttotal: 1.07s\tremaining: 30.7ms\n",
      "972:\tlearn: 0.0485105\ttotal: 1.07s\tremaining: 29.6ms\n",
      "973:\tlearn: 0.0484547\ttotal: 1.07s\tremaining: 28.5ms\n",
      "974:\tlearn: 0.0483484\ttotal: 1.07s\tremaining: 27.4ms\n",
      "975:\tlearn: 0.0482585\ttotal: 1.07s\tremaining: 26.3ms\n",
      "976:\tlearn: 0.0481638\ttotal: 1.07s\tremaining: 25.3ms\n",
      "977:\tlearn: 0.0480664\ttotal: 1.07s\tremaining: 24.2ms\n",
      "978:\tlearn: 0.0480356\ttotal: 1.07s\tremaining: 23.1ms\n",
      "979:\tlearn: 0.0479549\ttotal: 1.07s\tremaining: 22ms\n",
      "980:\tlearn: 0.0478706\ttotal: 1.08s\tremaining: 20.9ms\n",
      "981:\tlearn: 0.0477360\ttotal: 1.08s\tremaining: 19.8ms\n",
      "982:\tlearn: 0.0477329\ttotal: 1.08s\tremaining: 18.7ms\n",
      "983:\tlearn: 0.0476608\ttotal: 1.08s\tremaining: 17.6ms\n",
      "984:\tlearn: 0.0476233\ttotal: 1.08s\tremaining: 16.5ms\n",
      "985:\tlearn: 0.0476055\ttotal: 1.08s\tremaining: 15.4ms\n",
      "986:\tlearn: 0.0475342\ttotal: 1.08s\tremaining: 14.3ms\n",
      "987:\tlearn: 0.0474365\ttotal: 1.08s\tremaining: 13.2ms\n",
      "988:\tlearn: 0.0473590\ttotal: 1.08s\tremaining: 12.1ms\n",
      "989:\tlearn: 0.0473138\ttotal: 1.09s\tremaining: 11ms\n",
      "990:\tlearn: 0.0472567\ttotal: 1.09s\tremaining: 9.88ms\n",
      "991:\tlearn: 0.0472024\ttotal: 1.09s\tremaining: 8.78ms\n",
      "992:\tlearn: 0.0471178\ttotal: 1.09s\tremaining: 7.68ms\n",
      "993:\tlearn: 0.0470300\ttotal: 1.09s\tremaining: 6.59ms\n"
     ]
    },
    {
     "name": "stdout",
     "output_type": "stream",
     "text": [
      "994:\tlearn: 0.0469973\ttotal: 1.09s\tremaining: 5.49ms\n",
      "995:\tlearn: 0.0469020\ttotal: 1.09s\tremaining: 4.39ms\n",
      "996:\tlearn: 0.0468628\ttotal: 1.09s\tremaining: 3.29ms\n",
      "997:\tlearn: 0.0467631\ttotal: 1.09s\tremaining: 2.19ms\n",
      "998:\tlearn: 0.0466574\ttotal: 1.1s\tremaining: 1.1ms\n",
      "999:\tlearn: 0.0465515\ttotal: 1.1s\tremaining: 0us\n"
     ]
    },
    {
     "data": {
      "text/plain": [
       "<catboost.core.CatBoostRegressor at 0x7f8c2cf2b950>"
      ]
     },
     "execution_count": 9,
     "metadata": {},
     "output_type": "execute_result"
    }
   ],
   "source": [
    "#Train the Model \n",
    "prior_model = ctb.CatBoostRegressor()\n",
    "prior_model.fit(X_train,Y_train)"
   ]
  },
  {
   "cell_type": "code",
   "execution_count": 10,
   "id": "c775fd81",
   "metadata": {
    "execution": {
     "iopub.execute_input": "2022-01-15T09:49:36.968030Z",
     "iopub.status.busy": "2022-01-15T09:49:36.967414Z",
     "iopub.status.idle": "2022-01-15T09:49:36.980273Z",
     "shell.execute_reply": "2022-01-15T09:49:36.979717Z"
    },
    "papermill": {
     "duration": 0.04902,
     "end_time": "2022-01-15T09:49:36.980428",
     "exception": false,
     "start_time": "2022-01-15T09:49:36.931408",
     "status": "completed"
    },
    "tags": []
   },
   "outputs": [
    {
     "data": {
      "application/scrapbook.scrap.json+json": {
       "data": 0.10564611775817877,
       "encoder": "json",
       "name": "Prior Model MSE",
       "version": 1
      }
     },
     "metadata": {
      "scrapbook": {
       "data": true,
       "display": false,
       "name": "Prior Model MSE"
      }
     },
     "output_type": "display_data"
    },
    {
     "data": {
      "application/scrapbook.scrap.json+json": {
       "data": 0.870452925686962,
       "encoder": "json",
       "name": "ABC Pre-generator MSE",
       "version": 1
      }
     },
     "metadata": {
      "scrapbook": {
       "data": true,
       "display": false,
       "name": "ABC Pre-generator MSE"
      }
     },
     "output_type": "display_data"
    }
   ],
   "source": [
    "y_pred = prior_model.predict(X_test)\n",
    "y_abc = y_pred + np.random.normal(0,variance, y_pred.shape)\n",
    "mse = mean_squared_error(y_pred,Y_test)\n",
    "sb.glue(\"Prior Model MSE\",mse)\n",
    "mse = mean_squared_error(y_abc,Y_test)\n",
    "sb.glue(\"ABC Pre-generator MSE\",mse)"
   ]
  },
  {
   "cell_type": "markdown",
   "id": "0cd0def6",
   "metadata": {
    "papermill": {
     "duration": 0.031763,
     "end_time": "2022-01-15T09:49:37.044290",
     "exception": false,
     "start_time": "2022-01-15T09:49:37.012527",
     "status": "completed"
    },
    "tags": []
   },
   "source": [
    "# ABC GAN Model"
   ]
  },
  {
   "cell_type": "markdown",
   "id": "70beaf4c",
   "metadata": {
    "papermill": {
     "duration": 0.03044,
     "end_time": "2022-01-15T09:49:37.105886",
     "exception": false,
     "start_time": "2022-01-15T09:49:37.075446",
     "status": "completed"
    },
    "tags": []
   },
   "source": [
    "### Training the network\n",
    "**Training ABC-GAN for n_epochs number of epochs** "
   ]
  },
  {
   "cell_type": "code",
   "execution_count": 11,
   "id": "dbaaafa1",
   "metadata": {
    "execution": {
     "iopub.execute_input": "2022-01-15T09:49:37.178538Z",
     "iopub.status.busy": "2022-01-15T09:49:37.177859Z",
     "iopub.status.idle": "2022-01-15T09:49:40.318626Z",
     "shell.execute_reply": "2022-01-15T09:49:40.318047Z"
    },
    "papermill": {
     "duration": 3.179782,
     "end_time": "2022-01-15T09:49:40.318777",
     "exception": false,
     "start_time": "2022-01-15T09:49:37.138995",
     "status": "completed"
    },
    "tags": []
   },
   "outputs": [],
   "source": [
    "gen = network.Generator(n_features+1).to(device)\n",
    "disc = network.Discriminator(n_features+1).to(device)\n",
    "\n",
    "criterion = torch.nn.BCELoss()\n",
    "gen_opt = torch.optim.Adam(gen.parameters(), lr=0.001, betas=(0.5, 0.999))\n",
    "disc_opt = torch.optim.Adam(disc.parameters(), lr=0.01, betas=(0.5, 0.999))"
   ]
  },
  {
   "cell_type": "code",
   "execution_count": 12,
   "id": "6e9eeab8",
   "metadata": {
    "execution": {
     "iopub.execute_input": "2022-01-15T09:49:40.415640Z",
     "iopub.status.busy": "2022-01-15T09:49:40.415022Z",
     "iopub.status.idle": "2022-01-15T09:55:09.717138Z",
     "shell.execute_reply": "2022-01-15T09:55:09.716661Z"
    },
    "papermill": {
     "duration": 329.364487,
     "end_time": "2022-01-15T09:55:09.717301",
     "exception": false,
     "start_time": "2022-01-15T09:49:40.352814",
     "status": "completed"
    },
    "tags": []
   },
   "outputs": [
    {
     "data": {
      "image/png": "[encoded data removed]",
      "text/plain": [
       "<Figure size 432x288 with 1 Axes>"
      ]
     },
     "metadata": {
      "needs_background": "light"
     },
     "output_type": "display_data"
    },
    {
     "data": {
      "image/png": "[encoded data removed]",
      "text/plain": [
       "<Figure size 432x288 with 1 Axes>"
      ]
     },
     "metadata": {
      "needs_background": "light"
     },
     "output_type": "display_data"
    }
   ],
   "source": [
    "#Training the ABC_GAN \n",
    "ABC_train_test2.training_GAN(disc,gen,disc_opt,gen_opt,train_data,batch_size,n_epochs,criterion,prior_model,variance,device)"
   ]
  },
  {
   "cell_type": "code",
   "execution_count": 13,
   "id": "11c3082e",
   "metadata": {
    "execution": {
     "iopub.execute_input": "2022-01-15T09:55:09.791612Z",
     "iopub.status.busy": "2022-01-15T09:55:09.790475Z",
     "iopub.status.idle": "2022-01-15T09:55:10.207128Z",
     "shell.execute_reply": "2022-01-15T09:55:10.206629Z"
    },
    "papermill": {
     "duration": 0.455964,
     "end_time": "2022-01-15T09:55:10.207291",
     "exception": false,
     "start_time": "2022-01-15T09:55:09.751327",
     "status": "completed"
    },
    "tags": []
   },
   "outputs": [
    {
     "data": {
      "application/scrapbook.scrap.json+json": {
       "data": 0.2325272653698499,
       "encoder": "json",
       "name": "ABC-GAN Model 1 MSE",
       "version": 1
      }
     },
     "metadata": {
      "scrapbook": {
       "data": true,
       "display": false,
       "name": "ABC-GAN Model 1 MSE"
      }
     },
     "output_type": "display_data"
    },
    {
     "data": {
      "application/scrapbook.scrap.json+json": {
       "data": 0.3437441546298271,
       "encoder": "json",
       "name": "ABC-GAN Model 1 MAE",
       "version": 1
      }
     },
     "metadata": {
      "scrapbook": {
       "data": true,
       "display": false,
       "name": "ABC-GAN Model 1 MAE"
      }
     },
     "output_type": "display_data"
    },
    {
     "data": {
      "application/scrapbook.scrap.json+json": {
       "data": 35.06190377224237,
       "encoder": "json",
       "name": "ABC-GAN Model 1 Manhattan Distance",
       "version": 1
      }
     },
     "metadata": {
      "scrapbook": {
       "data": true,
       "display": false,
       "name": "ABC-GAN Model 1 Manhattan Distance"
      }
     },
     "output_type": "display_data"
    },
    {
     "data": {
      "application/scrapbook.scrap.json+json": {
       "data": 4.8699273430901755,
       "encoder": "json",
       "name": "ABC-GAN Model 1 Euclidean distance",
       "version": 1
      }
     },
     "metadata": {
      "scrapbook": {
       "data": true,
       "display": false,
       "name": "ABC-GAN Model 1 Euclidean distance"
      }
     },
     "output_type": "display_data"
    },
    {
     "data": {
      "application/scrapbook.scrap.json+json": {
       "data": [
        [
         0.2320463194982056,
         0.23185518233352048,
         0.2344339157089021,
         0.22886696011571325,
         0.23218426991076727,
         0.23717126872855743,
         0.23289327522522768,
         0.23166750038361353,
         0.22908386477842985,
         0.2341772289283248,
         0.2304776292818839,
         0.23444479282346287,
         0.24038766030498043,
         0.22960188859800193,
         0.22765390936485425,
         0.23557513693090412,
         0.2278843520554711,
         0.22572068342244564,
         0.23536161479861234,
         0.22744450976199318,
         0.23390098326520417,
         0.22575561218223902,
         0.23469210439810706,
         0.23559353532434718,
         0.2371457036994347,
         0.2353939015556227,
         0.2280401620560456,
         0.22503739327843675,
         0.23425300685055855,
         0.2358281896596112,
         0.2336182663683519,
         0.2278748002087044,
         0.23644285572812374,
         0.22978558703687887,
         0.22843359110143674,
         0.23664733022371337,
         0.23569735715439732,
         0.23040214025701913,
         0.2281954940336938,
         0.23165673117553523,
         0.23451298366121265,
         0.2327155953652604,
         0.22834046480239265,
         0.23832699151514122,
         0.23545467496936237,
         0.23400051722888998,
         0.23106437291307427,
         0.2269837641270064,
         0.2359590504530524,
         0.23151155073621726,
         0.23295089559654217,
         0.23512655424532322,
         0.23372197757955124,
         0.2360414352824025,
         0.23287915948912277,
         0.22840439278661734,
         0.22754113643213578,
         0.22623970897990933,
         0.2289439908808347,
         0.23511274255644227,
         0.23590574580741655,
         0.23466269962387937,
         0.23911139098286704,
         0.22606983134431957,
         0.2363626121389426,
         0.22946197759499468,
         0.22843412939055568,
         0.23710790018003203,
         0.2337058289898971,
         0.23365497978094932,
         0.23234576573781784,
         0.23520776429214996,
         0.23090858279796225,
         0.2332148581945152,
         0.2240491736405202,
         0.23328165299325,
         0.2351538586301529,
         0.23370653297983437,
         0.23547655093194636,
         0.24153706141889858,
         0.24332343294562953,
         0.22939573054647924,
         0.23247163530527884,
         0.23097907976804713,
         0.23390901559713598,
         0.23083074751303898,
         0.232404241028389,
         0.23252732605619092,
         0.23282798044488512,
         0.22704630845418067,
         0.22996400699389252,
         0.2336740210814693,
         0.23624044367014066,
         0.23261712377198035,
         0.22690644331720067,
         0.2344374145918625,
         0.22677639305495026,
         0.23264760815980987,
         0.23714555180327593,
         0.23808446731842864
        ],
        [
         0.3426576037708597,
         0.34611324871908505,
         0.346662704641109,
         0.3422064360541602,
         0.34440037945066304,
         0.34548856552653745,
         0.3433785751261109,
         0.3415301451002996,
         0.34114199928829775,
         0.3463061370923385,
         0.34352020313963294,
         0.34484820054186616,
         0.3489032250500339,
         0.3427767319075179,
         0.34000939233959016,
         0.3430109761162278,
         0.3410493302085966,
         0.33814079256947427,
         0.34615097860531774,
         0.33869717855408205,
         0.3420851857437953,
         0.3393178491707088,
         0.3471499331678976,
         0.34663273825985835,
         0.3490466826924068,
         0.345409223344177,
         0.34097438671753977,
         0.3385619345194131,
         0.3433337381894828,
         0.3466365237391609,
         0.34566390654072165,
         0.3374057477248796,
         0.34582642999970736,
         0.33938813590280276,
         0.3401933836969821,
         0.3537836056659181,
         0.3450943808728719,
         0.3407499837762147,
         0.341880491195137,
         0.34369845762301016,
         0.343190907199374,
         0.3448806985135318,
         0.34152443912428093,
         0.3438627522749205,
         0.3478458031518933,
         0.3433410599919073,
         0.34633756123081433,
         0.33872627701573804,
         0.345081049446747,
         0.34305809490273104,
         0.34482054544758856,
         0.3457072030332889,
         0.3465032873437831,
         0.3442156496092531,
         0.34138446345961854,
         0.3429983627215466,
         0.3426324132848166,
         0.3403969077740376,
         0.3425267691650957,
         0.34766664736739855,
         0.3440811675060175,
         0.3465172462987111,
         0.345330532941529,
         0.34037568698655446,
         0.3459822829977116,
         0.33837551032832147,
         0.3410424065739647,
         0.34463481810491753,
         0.34699873612536225,
         0.34194107617562014,
         0.3434134417250022,
         0.3471269118964818,
         0.3404947152708237,
         0.34687896176040467,
         0.33491957020562363,
         0.34181917152897107,
         0.34500024972629606,
         0.3484775029652405,
         0.34549243142828345,
         0.34867180570704387,
         0.3509658962287301,
         0.3412002842307237,
         0.3441442517180215,
         0.34266838950890244,
         0.3441499855241501,
         0.341482901407004,
         0.3436114143890639,
         0.3454690785329862,
         0.34078914731485294,
         0.3406422141227214,
         0.34507634623122274,
         0.347163649321552,
         0.3458695430034662,
         0.34150257276590257,
         0.3427918422693277,
         0.3431059029409845,
         0.3409110668626632,
         0.34328356904762924,
         0.3488640565443419,
         0.3466227103627342
        ],
        [
         34.95107558462769,
         35.30355136934668,
         35.35959587339312,
         34.90505647752434,
         35.12883870396763,
         35.23983368370682,
         35.024614662863314,
         34.83607480023056,
         34.79648392740637,
         35.323225983418524,
         35.03906072024256,
         35.17451645527035,
         35.58812895510346,
         34.963226654566824,
         34.680958018638194,
         34.98711956385523,
         34.78703168127686,
         34.490360842086375,
         35.30739981774241,
         34.54711221251637,
         34.89268894586712,
         34.610420615412295,
         35.409293183125556,
         35.35653930250555,
         35.602761634625494,
         35.231740781106055,
         34.77938744518906,
         34.53331732098013,
         35.020041295327246,
         35.35692542139441,
         35.25771846715361,
         34.41538626793772,
         35.27429585997015,
         34.61758986208588,
         34.69972513709217,
         36.085927777923644,
         35.19962684903294,
         34.756498345173895,
         34.871810101903975,
         35.05724267754704,
         35.00547253433615,
         35.177831248380244,
         34.83549279067665,
         35.074000732041895,
         35.48027192149311,
         35.02078811917454,
         35.32643124554306,
         34.55008025560528,
         35.198267043568194,
         34.991925680078566,
         35.17169563565403,
         35.26213470939547,
         35.34333530906588,
         35.10999626014382,
         34.82121527288109,
         34.985832997597754,
         34.94850615505129,
         34.720484592951834,
         34.937730454839766,
         35.46199803147465,
         35.09627908561379,
         35.34475912246853,
         35.223714360035956,
         34.71832007262856,
         35.290192865766585,
         34.51430205348879,
         34.7863254705444,
         35.152751446701586,
         35.39387108478695,
         34.877989769913256,
         35.028171055950224,
         35.406945013441145,
         34.73046095762402,
         35.381654099561274,
         34.16179616097361,
         34.86555549595505,
         35.1900254720822,
         35.54470530245453,
         35.24022800568491,
         35.564524182118475,
         35.79852141533047,
         34.802428991533816,
         35.10271367523819,
         34.95217572990805,
         35.10329852346331,
         34.83125594351441,
         35.04836426768452,
         35.23784601036459,
         34.760493026115,
         34.74550584051758,
         35.19778731558472,
         35.410692230798304,
         35.27869338635355,
         34.83326242212206,
         34.96476791147143,
         34.996802099980414,
         34.77292881999165,
         35.01492404285818,
         35.58413376752287,
         35.355516456998885
        ],
        [
         4.865051344931209,
         4.863047254347739,
         4.890016298777337,
         4.8316073859330455,
         4.866497254792019,
         4.918482429602941,
         4.873921836978227,
         4.86107858804284,
         4.833896379464484,
         4.887338473104674,
         4.848578986337354,
         4.890129739382505,
         4.951721049403733,
         4.8393587010053505,
         4.818786025049787,
         4.901904116458442,
         4.821224316463407,
         4.798281953896567,
         4.899682102897947,
         4.8165693180648095,
         4.884454963765233,
         4.798653190488804,
         4.892708314278189,
         4.902095531819368,
         4.918217337343108,
         4.90001815901467,
         4.82287222821802,
         4.791013892110995,
         4.888129161423311,
         4.904536200832892,
         4.88150214273966,
         4.8211232738115966,
         4.910923669155184,
         4.841294235817696,
         4.827030794634165,
         4.913046680301212,
         4.903175545475455,
         4.847784886545189,
         4.82451452391189,
         4.860965601596518,
         4.890840861594628,
         4.872062266356677,
         4.826046768302608,
         4.930451615678264,
         4.900650655461472,
         4.885494115987325,
         4.85474675314105,
         4.811688263068863,
         4.905896772885804,
         4.859442167069607,
         4.87452473076579,
         4.897234784347486,
         4.882585556148937,
         4.906753142232147,
         4.873774129757197,
         4.826722289943246,
         4.817592336019917,
         4.803795407378498,
         4.832420415262432,
         4.897090946751664,
         4.905342604992692,
         4.892401798875037,
         4.938558684500209,
         4.801991544882248,
         4.910090267823204,
         4.8378840121161915,
         4.827036481925186,
         4.917825313933311,
         4.882416876606247,
         4.881885694857759,
         4.868189407290704,
         4.898080436027903,
         4.853109873616313,
         4.877285672978419,
         4.780482790611536,
         4.877984071859142,
         4.897519125054601,
         4.882424230230624,
         4.900878308533944,
         4.963545130723368,
         4.9818661323297535,
         4.837185598645237,
         4.869507860260463,
         4.853850650395087,
         4.884538830934591,
         4.852291855023765,
         4.868801966079096,
         4.870091093370992,
         4.873238554121713,
         4.812351136640636,
         4.843173413514845,
         4.8820846111379375,
         4.908821167485565,
         4.87103137176738,
         4.810868655279882,
         4.890052789936933,
         4.809489795353029,
         4.871350534738863,
         4.9182157622387965,
         4.927942335953183
        ]
       ],
       "encoder": "json",
       "name": "ABC_GAN_1 Metrics",
       "version": 1
      }
     },
     "metadata": {
      "scrapbook": {
       "data": true,
       "display": false,
       "name": "ABC_GAN_1 Metrics"
      }
     },
     "output_type": "display_data"
    }
   ],
   "source": [
    "ABC_GAN1_metrics=ABC_train_test2.test_generator(gen,test_data,prior_model,variance,\"1\",device)\n",
    "sb.glue(\"ABC_GAN_1 Metrics\",ABC_GAN1_metrics)"
   ]
  },
  {
   "cell_type": "markdown",
   "id": "394a2b9d",
   "metadata": {
    "papermill": {
     "duration": 0.03714,
     "end_time": "2022-01-15T09:55:10.283377",
     "exception": false,
     "start_time": "2022-01-15T09:55:10.246237",
     "status": "completed"
    },
    "tags": []
   },
   "source": [
    "#### Sanity Checks "
   ]
  },
  {
   "cell_type": "code",
   "execution_count": 14,
   "id": "a36b3b22",
   "metadata": {
    "execution": {
     "iopub.execute_input": "2022-01-15T09:55:10.360007Z",
     "iopub.status.busy": "2022-01-15T09:55:10.358948Z",
     "iopub.status.idle": "2022-01-15T09:55:11.120645Z",
     "shell.execute_reply": "2022-01-15T09:55:11.120139Z"
    },
    "papermill": {
     "duration": 0.802358,
     "end_time": "2022-01-15T09:55:11.120823",
     "exception": false,
     "start_time": "2022-01-15T09:55:10.318465",
     "status": "completed"
    },
    "tags": []
   },
   "outputs": [
    {
     "data": {
      "image/png": "[encoded data removed]",
      "text/plain": [
       "<Figure size 432x288 with 1 Axes>"
      ]
     },
     "metadata": {
      "needs_background": "light"
     },
     "output_type": "display_data"
    },
    {
     "data": {
      "image/png": "[encoded data removed]",
      "text/plain": [
       "<Figure size 432x288 with 1 Axes>"
      ]
     },
     "metadata": {
      "needs_background": "light"
     },
     "output_type": "display_data"
    },
    {
     "data": {
      "image/png": "[encoded data removed]",
      "text/plain": [
       "<Figure size 432x288 with 1 Axes>"
      ]
     },
     "metadata": {
      "needs_background": "light"
     },
     "output_type": "display_data"
    },
    {
     "data": {
      "image/png": "[encoded data removed]",
      "text/plain": [
       "<Figure size 432x288 with 1 Axes>"
      ]
     },
     "metadata": {
      "needs_background": "light"
     },
     "output_type": "display_data"
    }
   ],
   "source": [
    "sanityChecks.discProbVsError(train_data,disc,device)\n",
    "sanityChecks.discProbVsError(test_data,disc,device)"
   ]
  },
  {
   "cell_type": "markdown",
   "id": "130f3a4d",
   "metadata": {
    "papermill": {
     "duration": 0.042604,
     "end_time": "2022-01-15T09:55:11.206400",
     "exception": false,
     "start_time": "2022-01-15T09:55:11.163796",
     "status": "completed"
    },
    "tags": []
   },
   "source": [
    "# ABC - GAN Model with skip connection"
   ]
  },
  {
   "cell_type": "code",
   "execution_count": 15,
   "id": "4e43dad1",
   "metadata": {
    "execution": {
     "iopub.execute_input": "2022-01-15T09:55:11.296239Z",
     "iopub.status.busy": "2022-01-15T09:55:11.295605Z",
     "iopub.status.idle": "2022-01-15T09:55:11.300719Z",
     "shell.execute_reply": "2022-01-15T09:55:11.300101Z"
    },
    "papermill": {
     "duration": 0.053888,
     "end_time": "2022-01-15T09:55:11.300847",
     "exception": false,
     "start_time": "2022-01-15T09:55:11.246959",
     "status": "completed"
    },
    "tags": []
   },
   "outputs": [],
   "source": [
    "#Generator\n",
    "gen3 = network.GeneratorWithSkipConnection(n_features+1).to(device)\n",
    "constraints=network.weightConstraint()\n",
    "#Discriminator \n",
    "disc3 = network.Discriminator(n_features+1).to(device)\n",
    "\n",
    "criterion = torch.nn.BCELoss()\n",
    "gen_opt = torch.optim.Adam(gen3.parameters(), lr=0.01, betas=(0.5, 0.999))\n",
    "disc_opt = torch.optim.Adam(disc3.parameters(), lr=0.01, betas=(0.5, 0.999))\n"
   ]
  },
  {
   "cell_type": "code",
   "execution_count": 16,
   "id": "26acbc37",
   "metadata": {
    "execution": {
     "iopub.execute_input": "2022-01-15T09:55:11.389950Z",
     "iopub.status.busy": "2022-01-15T09:55:11.389268Z",
     "iopub.status.idle": "2022-01-15T10:31:50.468356Z",
     "shell.execute_reply": "2022-01-15T10:31:50.467754Z"
    },
    "papermill": {
     "duration": 2199.126276,
     "end_time": "2022-01-15T10:31:50.468499",
     "exception": false,
     "start_time": "2022-01-15T09:55:11.342223",
     "status": "completed"
    },
    "tags": []
   },
   "outputs": [
    {
     "data": {
      "image/png": "[encoded data removed]",
      "text/plain": [
       "<Figure size 432x288 with 1 Axes>"
      ]
     },
     "metadata": {
      "needs_background": "light"
     },
     "output_type": "display_data"
    },
    {
     "data": {
      "image/png": "[encoded data removed]",
      "text/plain": [
       "<Figure size 432x288 with 1 Axes>"
      ]
     },
     "metadata": {
      "needs_background": "light"
     },
     "output_type": "display_data"
    }
   ],
   "source": [
    "ABC_train_test2.training_GAN_skip_connection(disc3,gen3,disc_opt,gen_opt,train_data,batch_size,n_epochs,criterion,prior_model,variance,device)\n"
   ]
  },
  {
   "cell_type": "code",
   "execution_count": 17,
   "id": "c5e0717b",
   "metadata": {
    "execution": {
     "iopub.execute_input": "2022-01-15T10:31:50.577123Z",
     "iopub.status.busy": "2022-01-15T10:31:50.576389Z",
     "iopub.status.idle": "2022-01-15T10:31:52.430821Z",
     "shell.execute_reply": "2022-01-15T10:31:52.430288Z"
    },
    "papermill": {
     "duration": 1.905406,
     "end_time": "2022-01-15T10:31:52.430965",
     "exception": false,
     "start_time": "2022-01-15T10:31:50.525559",
     "status": "completed"
    },
    "tags": []
   },
   "outputs": [
    {
     "data": {
      "application/scrapbook.scrap.json+json": {
       "data": 0.12706842453721792,
       "encoder": "json",
       "name": "ABC-GAN Model 3 MSE",
       "version": 1
      }
     },
     "metadata": {
      "scrapbook": {
       "data": true,
       "display": false,
       "name": "ABC-GAN Model 3 MSE"
      }
     },
     "output_type": "display_data"
    },
    {
     "data": {
      "application/scrapbook.scrap.json+json": {
       "data": 0.25715235315838497,
       "encoder": "json",
       "name": "ABC-GAN Model 3 MAE",
       "version": 1
      }
     },
     "metadata": {
      "scrapbook": {
       "data": true,
       "display": false,
       "name": "ABC-GAN Model 3 MAE"
      }
     },
     "output_type": "display_data"
    },
    {
     "data": {
      "application/scrapbook.scrap.json+json": {
       "data": 26.22954002215527,
       "encoder": "json",
       "name": "ABC-GAN Model 3 Manhattan Distance",
       "version": 1
      }
     },
     "metadata": {
      "scrapbook": {
       "data": true,
       "display": false,
       "name": "ABC-GAN Model 3 Manhattan Distance"
      }
     },
     "output_type": "display_data"
    },
    {
     "data": {
      "application/scrapbook.scrap.json+json": {
       "data": 3.6001209236818954,
       "encoder": "json",
       "name": "ABC-GAN Model 3 Euclidean distance",
       "version": 1
      }
     },
     "metadata": {
      "scrapbook": {
       "data": true,
       "display": false,
       "name": "ABC-GAN Model 3 Euclidean distance"
      }
     },
     "output_type": "display_data"
    },
    {
     "data": {
      "application/scrapbook.scrap.json+json": {
       "data": [
        [
         0.12582767264684672,
         0.12702846166725298,
         0.12755552096716408,
         0.12545546080868286,
         0.1277546001017881,
         0.12594248483011272,
         0.12682057630434954,
         0.12837053126728923,
         0.12701046212846717,
         0.12741526655515603,
         0.1264458053172393,
         0.12694120891083518,
         0.12763590541185763,
         0.12615170997930703,
         0.12640693147980644,
         0.1260925746984632,
         0.12659251454130982,
         0.12683391258256918,
         0.1269840312710274,
         0.1275799066972351,
         0.1279593691737905,
         0.1264379749645677,
         0.12780431489203986,
         0.12737752831561883,
         0.12885415629218017,
         0.12655157370056166,
         0.12807036191169174,
         0.1284715091035712,
         0.1274552524648647,
         0.1284921729817744,
         0.12704343210032618,
         0.12669288135979692,
         0.1271660714861769,
         0.12812061095131427,
         0.12681141126003354,
         0.12677006948899902,
         0.12669700757645697,
         0.1267085244133994,
         0.12606568652143452,
         0.1253322172933427,
         0.12776306736429763,
         0.12678236939667106,
         0.12660701342694455,
         0.12646756602917236,
         0.1290494958544683,
         0.12733540698270168,
         0.12652397347579164,
         0.12652056779528179,
         0.12711081636585894,
         0.12649367142421833,
         0.1267362203252244,
         0.12745893508158826,
         0.1266477113453981,
         0.12651031673239402,
         0.12761594650710492,
         0.1269017407055837,
         0.12846422545566732,
         0.12678929550025697,
         0.12629295455647188,
         0.1276380080823222,
         0.12733048098335703,
         0.12758210952605023,
         0.12831684505923835,
         0.12684041660696038,
         0.12645732871539214,
         0.12731994451298828,
         0.12636145390886697,
         0.12814693158683232,
         0.12674046652531706,
         0.12758615421636235,
         0.12632415113833304,
         0.1267167816293133,
         0.12737404461278626,
         0.12522466197625545,
         0.12682117271227641,
         0.1262219636457159,
         0.12697038501939065,
         0.1278552308174017,
         0.1271484759518161,
         0.12753342932552794,
         0.12679923248117742,
         0.12713065245491836,
         0.12627073176313183,
         0.127642200688117,
         0.12676608407676246,
         0.12797135247013483,
         0.12691013138944848,
         0.12736664530344108,
         0.12647081556774237,
         0.1271088162037955,
         0.1273787415632059,
         0.12611694400473097,
         0.1276688064015685,
         0.1269993180765823,
         0.12681236551316302,
         0.12663726809183506,
         0.1277335196870441,
         0.12679349997084893,
         0.12800548623160055,
         0.12795044648624376
        ],
        [
         0.25630751094214765,
         0.2572972948169884,
         0.2555187843447807,
         0.2556274959762745,
         0.2565175564959645,
         0.2553823144156851,
         0.25595382205210626,
         0.2592569878690091,
         0.2566915774151829,
         0.25791816176006604,
         0.25723518517014443,
         0.2570373413573001,
         0.2571384962922072,
         0.2562185485262935,
         0.25586665759100485,
         0.25589192652271364,
         0.25634434115707727,
         0.2568121013578539,
         0.25744478412739497,
         0.2590828611898948,
         0.25875322721606375,
         0.25592761634684663,
         0.2566453763283789,
         0.2579023596264568,
         0.2595856877993427,
         0.2570775742551275,
         0.25857450879708516,
         0.2580607845174039,
         0.2564978754312238,
         0.25907756053093894,
         0.2572246747566204,
         0.25728344384069535,
         0.25906697891689107,
         0.2561851758966405,
         0.25755487867247534,
         0.2551137882595261,
         0.2558951044646913,
         0.2563707877644429,
         0.25738771574790864,
         0.2559086765235692,
         0.25775317544592363,
         0.25707037230113555,
         0.2577594207581498,
         0.25637757237635406,
         0.2589606778404,
         0.2570795297494852,
         0.25601038126749737,
         0.25641411100057704,
         0.2586659265992542,
         0.2566464234180018,
         0.2542979396861412,
         0.25827202401763083,
         0.25650571146066864,
         0.2562052671541916,
         0.25719644428760396,
         0.25663883968566853,
         0.2581828117516695,
         0.2560558114018218,
         0.257346463677309,
         0.25876301274105323,
         0.2578358661346868,
         0.25785480712668274,
         0.25817979370042976,
         0.25660865736540917,
         0.25705999634502563,
         0.25798135735642386,
         0.2547863372784181,
         0.2589483967543963,
         0.2569448525706927,
         0.2571973414069005,
         0.2569098163067418,
         0.2566982104223879,
         0.25736700779959265,
         0.2547102959041356,
         0.25795873079229803,
         0.25539267818699135,
         0.25669963699856807,
         0.25744162011873345,
         0.25786370453516055,
         0.25770608418821994,
         0.25527197720172506,
         0.25709520518670187,
         0.25560650137234847,
         0.25860013665777504,
         0.2581717499495283,
         0.25838748753691715,
         0.2573377082544361,
         0.2575370909226145,
         0.25824681877651634,
         0.2575806501120621,
         0.2577213646031405,
         0.25703700535072416,
         0.2580663702158513,
         0.2567039941181885,
         0.25826633319386516,
         0.2569393446650721,
         0.2576474443297176,
         0.25674024347544594,
         0.2582167765655208,
         0.2580764603654982
        ],
        [
         26.14336611609906,
         26.244324071332812,
         26.06291600316763,
         26.07400458958,
         26.16479076258838,
         26.04899607039988,
         26.10728984931484,
         26.444212762638927,
         26.182540896348655,
         26.30765249952674,
         26.23798888735473,
         26.21780881844461,
         26.22812662180513,
         26.134291949681938,
         26.098399074282497,
         26.100976505316794,
         26.147122798021883,
         26.194834338501096,
         26.259367980994284,
         26.42645184136927,
         26.392829176038504,
         26.104616867378354,
         26.17782838549465,
         26.306040681898594,
         26.477740155532956,
         26.22191257402301,
         26.374599897302687,
         26.3222000207752,
         26.16278329398483,
         26.42591117415577,
         26.236916825175285,
         26.242911271750927,
         26.42483184952289,
         26.13088794145733,
         26.270597624592483,
         26.02160640247166,
         26.101300655398518,
         26.149820351973176,
         26.25354700628668,
         26.102685005404055,
         26.29082389548421,
         26.22117797471583,
         26.29146091733128,
         26.150512382388115,
         26.413989139720798,
         26.22211203444749,
         26.11305888928473,
         26.154239322058856,
         26.38392451312393,
         26.177935188636184,
         25.9383898479864,
         26.343746449798346,
         26.163582568988204,
         26.132937249727547,
         26.234037317335606,
         26.177161647938192,
         26.334646798670292,
         26.117692762985826,
         26.24933929508552,
         26.39382729958743,
         26.299258345738053,
         26.301190326921642,
         26.334338957443833,
         26.174083051271737,
         26.220119627192616,
         26.31409845035523,
         25.988206402398646,
         26.412736468948424,
         26.208374962210655,
         26.234128823503852,
         26.204801263287663,
         26.183217463083565,
         26.251434795558453,
         25.98045018222183,
         26.3117905408144,
         26.050053175073117,
         26.183362973853946,
         26.25904525211081,
         26.30209786258638,
         26.286020587198436,
         26.037741674575955,
         26.22371092904359,
         26.07186313997954,
         26.377213939093053,
         26.333518494851887,
         26.355523728765547,
         26.24844624195248,
         26.26878327410668,
         26.341175515204668,
         26.273226311430335,
         26.28757918952033,
         26.217774545773864,
         26.322769762016833,
         26.18380740005523,
         26.34316598577425,
         26.207813155837357,
         26.280039321631193,
         26.187504834495485,
         26.33811120968312,
         26.323798957280815
        ],
        [
         3.5825162400159978,
         3.5995698479206935,
         3.607029683638704,
         3.5772135807756373,
         3.6098433775417993,
         3.5841503111158017,
         3.5966232473034547,
         3.618534812498493,
         3.5993148149479297,
         3.6050460730240204,
         3.591305075088777,
         3.598333407135196,
         3.608166064915732,
         3.5871262060163582,
         3.590752986622758,
         3.586285351062189,
         3.5933878837684086,
         3.5968123503210525,
         3.59894028703517,
         3.6073744584001783,
         3.612735204208389,
         3.5911938747978938,
         3.6105456816093695,
         3.604512156754797,
         3.6253446652425163,
         3.5928067743001835,
         3.6143017188652853,
         3.619957724692964,
         3.6056117028066397,
         3.6202488373233397,
         3.599781948150925,
         3.5948120811384965,
         3.6015190255765743,
         3.6150106939031392,
         3.59649328492678,
         3.5959069909937744,
         3.594870619757909,
         3.5950340040348348,
         3.5859029581384827,
         3.575456077750216,
         3.60996300135588,
         3.5960814337915727,
         3.593593656710277,
         3.591614084917195,
         3.628091588859874,
         3.60391613557191,
         3.5924149669172056,
         3.5923666175821674,
         3.6007364898472667,
         3.5919847557124,
         3.5954268833023,
         3.6056637916369856,
         3.594171191976059,
         3.592221082659611,
         3.6078839426628875,
         3.5977739717733153,
         3.619855107111065,
         3.596179659169743,
         3.5891337903121046,
         3.6081957852085664,
         3.6038464257377028,
         3.607405601212196,
         3.617778074459835,
         3.5969045711430767,
         3.591468714741923,
         3.6036973153033824,
         3.5901070037959077,
         3.6153820022034875,
         3.5954871138111923,
         3.6074627829083643,
         3.5895770525383583,
         3.5951511409382997,
         3.6044628657407745,
         3.573921588616356,
         3.596631704338407,
         3.5881248991448196,
         3.598746903017472,
         3.611264812136459,
         3.601269852022373,
         3.606717315122416,
         3.5963205798538174,
         3.601017432671171,
         3.58881800037832,
         3.6082550450581974,
         3.59585046627773,
         3.6129043651823607,
         3.5978929113751765,
         3.6043581704585064,
         3.5916602272361065,
         3.600708159902318,
         3.6045293228724056,
         3.5866318863918214,
         3.6086310774253425,
         3.5991569073619725,
         3.5965068166684495,
         3.594023002899004,
         3.6095455403801875,
         3.59623928528492,
         3.613386167519776,
         3.6126092428599117
        ]
       ],
       "encoder": "json",
       "name": "ABC_GAN_3 Metrics",
       "version": 1
      }
     },
     "metadata": {
      "scrapbook": {
       "data": true,
       "display": false,
       "name": "ABC_GAN_3 Metrics"
      }
     },
     "output_type": "display_data"
    }
   ],
   "source": [
    "ABC_GAN3_metrics=ABC_train_test2.test_generator(gen3,test_data,prior_model,variance,\"3\",device)\n",
    "sb.glue(\"ABC_GAN_3 Metrics\",ABC_GAN3_metrics)"
   ]
  },
  {
   "cell_type": "code",
   "execution_count": 18,
   "id": "c8e46b48",
   "metadata": {
    "execution": {
     "iopub.execute_input": "2022-01-15T10:31:52.534107Z",
     "iopub.status.busy": "2022-01-15T10:31:52.533473Z",
     "iopub.status.idle": "2022-01-15T10:31:53.396708Z",
     "shell.execute_reply": "2022-01-15T10:31:53.397313Z"
    },
    "papermill": {
     "duration": 0.917656,
     "end_time": "2022-01-15T10:31:53.397491",
     "exception": false,
     "start_time": "2022-01-15T10:31:52.479835",
     "status": "completed"
    },
    "tags": []
   },
   "outputs": [
    {
     "data": {
      "image/png": "[encoded data removed]",
      "text/plain": [
       "<Figure size 432x288 with 1 Axes>"
      ]
     },
     "metadata": {
      "needs_background": "light"
     },
     "output_type": "display_data"
    },
    {
     "data": {
      "image/png": "[encoded data removed]",
      "text/plain": [
       "<Figure size 432x288 with 1 Axes>"
      ]
     },
     "metadata": {
      "needs_background": "light"
     },
     "output_type": "display_data"
    },
    {
     "data": {
      "image/png": "[encoded data removed]",
      "text/plain": [
       "<Figure size 432x288 with 1 Axes>"
      ]
     },
     "metadata": {
      "needs_background": "light"
     },
     "output_type": "display_data"
    },
    {
     "data": {
      "image/png": "[encoded data removed]",
      "text/plain": [
       "<Figure size 432x288 with 1 Axes>"
      ]
     },
     "metadata": {
      "needs_background": "light"
     },
     "output_type": "display_data"
    }
   ],
   "source": [
    "sanityChecks.discProbVsError(train_data,disc,device)\n",
    "sanityChecks.discProbVsError(test_data,disc3,device)"
   ]
  },
  {
   "cell_type": "markdown",
   "id": "a5bd74c3",
   "metadata": {
    "papermill": {
     "duration": 0.052253,
     "end_time": "2022-01-15T10:31:53.504270",
     "exception": false,
     "start_time": "2022-01-15T10:31:53.452017",
     "status": "completed"
    },
    "tags": []
   },
   "source": [
    "## Skip Connection Model Analysis - ABC-GAN "
   ]
  },
  {
   "cell_type": "markdown",
   "id": "5744a8bf",
   "metadata": {
    "papermill": {
     "duration": 0.051419,
     "end_time": "2022-01-15T10:31:53.609072",
     "exception": false,
     "start_time": "2022-01-15T10:31:53.557653",
     "status": "completed"
    },
    "tags": []
   },
   "source": [
    "### Weight Analysis \n",
    "\n",
    "Study the weights of the skip connection layer\n",
    "\n",
    "Equation of the skip connection is \n",
    "\n",
    "$output = y_{gan} * w + y_{abc} * (1-w)$"
   ]
  },
  {
   "cell_type": "code",
   "execution_count": 19,
   "id": "52c31dea",
   "metadata": {
    "execution": {
     "iopub.execute_input": "2022-01-15T10:31:53.720884Z",
     "iopub.status.busy": "2022-01-15T10:31:53.720059Z",
     "iopub.status.idle": "2022-01-15T10:31:53.729800Z",
     "shell.execute_reply": "2022-01-15T10:31:53.729148Z"
    },
    "papermill": {
     "duration": 0.068394,
     "end_time": "2022-01-15T10:31:53.729933",
     "exception": false,
     "start_time": "2022-01-15T10:31:53.661539",
     "status": "completed"
    },
    "tags": []
   },
   "outputs": [
    {
     "name": "stdout",
     "output_type": "stream",
     "text": [
      "Weight of the node at skip connection\n",
      "Parameter containing:\n",
      "tensor([[0.9915]], device='cuda:0', requires_grad=True)\n"
     ]
    },
    {
     "data": {
      "application/scrapbook.scrap.json+json": {
       "data": 0.9914811253547668,
       "encoder": "json",
       "name": "Skip Connection Weight",
       "version": 1
      }
     },
     "metadata": {
      "scrapbook": {
       "data": true,
       "display": false,
       "name": "Skip Connection Weight"
      }
     },
     "output_type": "display_data"
    }
   ],
   "source": [
    "print(\"Weight of the node at skip connection\")\n",
    "for name,param in gen3.named_parameters():\n",
    "    if(name == \"skipNode.weight\"):\n",
    "        print(param)\n",
    "        sb.glue(\"Skip Connection Weight\",param.item())"
   ]
  }
 ],
 "metadata": {
  "interpreter": {
   "hash": "10498c76ddd8160350534c6544a2b2fb65f2138dbc70420f7c81a3268f830f23"
  },
  "kernelspec": {
   "display_name": "papermill-tutorial",
   "language": "python",
   "name": "python3"
  },
  "language_info": {
   "codemirror_mode": {
    "name": "ipython",
    "version": 3
   },
   "file_extension": ".py",
   "mimetype": "text/x-python",
   "name": "python",
   "nbconvert_exporter": "python",
   "pygments_lexer": "ipython3",
   "version": "3.7.12"
  },
  "papermill": {
   "default_parameters": {},
   "duration": 2544.782598,
   "end_time": "2022-01-15T10:31:54.608146",
   "environment_variables": {},
   "exception": null,
   "input_path": "ABC_GAN_Model-Catboost_Pre-gen.ipynb",
   "output_path": "./ABC_GAN_Output/ABC-GAN_output_9_0.ipynb",
   "parameters": {
    "variance": 1
   },
   "start_time": "2022-01-15T09:49:29.825548",
   "version": "2.3.3"
  }
 },
 "nbformat": 4,
 "nbformat_minor": 5
}