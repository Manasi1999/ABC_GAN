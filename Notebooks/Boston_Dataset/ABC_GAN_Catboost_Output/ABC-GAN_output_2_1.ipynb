{
 "cells": [
  {
   "cell_type": "markdown",
   "id": "622780e6",
   "metadata": {
    "papermill": {
     "duration": 0.026453,
     "end_time": "2022-01-14T08:58:36.931445",
     "exception": false,
     "start_time": "2022-01-14T08:58:36.904992",
     "status": "completed"
    },
    "tags": []
   },
   "source": [
    "## Import Libraries "
   ]
  },
  {
   "cell_type": "code",
   "execution_count": 1,
   "id": "a62397e3",
   "metadata": {
    "execution": {
     "iopub.execute_input": "2022-01-14T08:58:37.003977Z",
     "iopub.status.busy": "2022-01-14T08:58:37.003182Z",
     "iopub.status.idle": "2022-01-14T08:58:37.005547Z",
     "shell.execute_reply": "2022-01-14T08:58:37.006075Z"
    },
    "papermill": {
     "duration": 0.051923,
     "end_time": "2022-01-14T08:58:37.006372",
     "exception": false,
     "start_time": "2022-01-14T08:58:36.954449",
     "status": "completed"
    },
    "tags": []
   },
   "outputs": [],
   "source": [
    "import warnings\n",
    "import sys\n",
    "sys.path.insert(0, '../../src')\n",
    "warnings.filterwarnings('ignore')"
   ]
  },
  {
   "cell_type": "code",
   "execution_count": 2,
   "id": "d6a4e155",
   "metadata": {
    "execution": {
     "iopub.execute_input": "2022-01-14T08:58:37.060790Z",
     "iopub.status.busy": "2022-01-14T08:58:37.060111Z",
     "iopub.status.idle": "2022-01-14T08:58:38.729868Z",
     "shell.execute_reply": "2022-01-14T08:58:38.730437Z"
    },
    "papermill": {
     "duration": 1.700566,
     "end_time": "2022-01-14T08:58:38.730672",
     "exception": false,
     "start_time": "2022-01-14T08:58:37.030106",
     "status": "completed"
    },
    "tags": []
   },
   "outputs": [],
   "source": [
    "import ABC_train_test2\n",
    "import bostonDataset\n",
    "import network\n",
    "import dataset\n",
    "import sanityChecks\n",
    "import performanceMetrics\n",
    "import torch \n",
    "from torch.utils.data import random_split \n",
    "import scrapbook as sb\n",
    "from statistics import mean \n",
    "import catboost as ctb \n",
    "from sklearn.model_selection import train_test_split\n",
    "from sklearn.metrics import mean_squared_error\n",
    "import numpy as np"
   ]
  },
  {
   "cell_type": "markdown",
   "id": "2fa5b0f7",
   "metadata": {
    "papermill": {
     "duration": 0.023172,
     "end_time": "2022-01-14T08:58:38.778632",
     "exception": false,
     "start_time": "2022-01-14T08:58:38.755460",
     "status": "completed"
    },
    "tags": []
   },
   "source": [
    "## Parameters "
   ]
  },
  {
   "cell_type": "code",
   "execution_count": 3,
   "id": "783186fb",
   "metadata": {
    "execution": {
     "iopub.execute_input": "2022-01-14T08:58:38.830306Z",
     "iopub.status.busy": "2022-01-14T08:58:38.829699Z",
     "iopub.status.idle": "2022-01-14T08:58:38.832186Z",
     "shell.execute_reply": "2022-01-14T08:58:38.831539Z"
    },
    "papermill": {
     "duration": 0.030011,
     "end_time": "2022-01-14T08:58:38.832316",
     "exception": false,
     "start_time": "2022-01-14T08:58:38.802305",
     "status": "completed"
    },
    "tags": [
     "parameters"
    ]
   },
   "outputs": [],
   "source": [
    "variance = 1"
   ]
  },
  {
   "cell_type": "code",
   "execution_count": 4,
   "id": "9d210478",
   "metadata": {
    "execution": {
     "iopub.execute_input": "2022-01-14T08:58:38.888341Z",
     "iopub.status.busy": "2022-01-14T08:58:38.887758Z",
     "iopub.status.idle": "2022-01-14T08:58:38.890575Z",
     "shell.execute_reply": "2022-01-14T08:58:38.889891Z"
    },
    "papermill": {
     "duration": 0.034739,
     "end_time": "2022-01-14T08:58:38.890698",
     "exception": false,
     "start_time": "2022-01-14T08:58:38.855959",
     "status": "completed"
    },
    "tags": [
     "injected-parameters"
    ]
   },
   "outputs": [],
   "source": [
    "# Parameters\n",
    "variance = 0.1\n"
   ]
  },
  {
   "cell_type": "markdown",
   "id": "391cdbfd",
   "metadata": {
    "papermill": {
     "duration": 0.024011,
     "end_time": "2022-01-14T08:58:38.938281",
     "exception": false,
     "start_time": "2022-01-14T08:58:38.914270",
     "status": "completed"
    },
    "tags": []
   },
   "source": [
    "## Dataset - Boston Housing "
   ]
  },
  {
   "cell_type": "code",
   "execution_count": 5,
   "id": "5b51f161",
   "metadata": {
    "execution": {
     "iopub.execute_input": "2022-01-14T08:58:38.991375Z",
     "iopub.status.busy": "2022-01-14T08:58:38.990762Z",
     "iopub.status.idle": "2022-01-14T08:58:38.993221Z",
     "shell.execute_reply": "2022-01-14T08:58:38.993817Z"
    },
    "papermill": {
     "duration": 0.031035,
     "end_time": "2022-01-14T08:58:38.994001",
     "exception": false,
     "start_time": "2022-01-14T08:58:38.962966",
     "status": "completed"
    },
    "tags": []
   },
   "outputs": [],
   "source": [
    "#Parameters \n",
    "n_features = 13\n",
    "n_samples= 506\n",
    "n_target = 1 "
   ]
  },
  {
   "cell_type": "code",
   "execution_count": 6,
   "id": "5d6eced4",
   "metadata": {
    "execution": {
     "iopub.execute_input": "2022-01-14T08:58:39.045894Z",
     "iopub.status.busy": "2022-01-14T08:58:39.045201Z",
     "iopub.status.idle": "2022-01-14T08:58:39.079331Z",
     "shell.execute_reply": "2022-01-14T08:58:39.079902Z"
    },
    "papermill": {
     "duration": 0.06224,
     "end_time": "2022-01-14T08:58:39.080056",
     "exception": false,
     "start_time": "2022-01-14T08:58:39.017816",
     "status": "completed"
    },
    "tags": []
   },
   "outputs": [
    {
     "name": "stdout",
     "output_type": "stream",
     "text": [
      "         X1        X2        X3        X4        X5        X6        X7        X8        X9       X10       X11       X12       X13         Y\n",
      "0 -0.419782  0.284830 -1.287909 -0.272599 -0.144217  0.413672 -0.120013  0.140214 -0.982843 -0.666608 -1.459000  0.441052 -1.075562  0.159686\n",
      "1 -0.417339 -0.487722 -0.593381 -0.272599 -0.740262  0.194274  0.367166  0.557160 -0.867883 -0.987329 -0.303094  0.441052 -0.492439 -0.101524\n",
      "2 -0.417342 -0.487722 -0.593381 -0.272599 -0.740262  1.282714 -0.265812  0.557160 -0.867883 -0.987329 -0.303094  0.396427 -1.208727  1.324247\n",
      "3 -0.416750 -0.487722 -1.306878 -0.272599 -0.835284  1.016303 -0.809889  1.077737 -0.752922 -1.106115  0.113032  0.416163 -1.361517  1.182758\n",
      "4 -0.412482 -0.487722 -1.306878 -0.272599 -0.835284  1.228577 -0.511180  1.077737 -0.752922 -1.106115  0.113032  0.441052 -1.026501  1.487503\n"
     ]
    }
   ],
   "source": [
    "X,Y = bostonDataset.boston_data()"
   ]
  },
  {
   "cell_type": "code",
   "execution_count": 7,
   "id": "fe007438",
   "metadata": {
    "execution": {
     "iopub.execute_input": "2022-01-14T08:58:39.135629Z",
     "iopub.status.busy": "2022-01-14T08:58:39.134740Z",
     "iopub.status.idle": "2022-01-14T08:58:39.137456Z",
     "shell.execute_reply": "2022-01-14T08:58:39.136790Z"
    },
    "papermill": {
     "duration": 0.033567,
     "end_time": "2022-01-14T08:58:39.137588",
     "exception": false,
     "start_time": "2022-01-14T08:58:39.104021",
     "status": "completed"
    },
    "tags": []
   },
   "outputs": [],
   "source": [
    "#Train test split for dataset \n",
    "X_train,X_test,Y_train,Y_test = train_test_split(X,Y,test_size = 0.2)\n",
    "train_data = dataset.CustomDataset(X_train,Y_train)\n",
    "test_data = dataset.CustomDataset(X_test,Y_test)\n"
   ]
  },
  {
   "cell_type": "markdown",
   "id": "a9a1af34",
   "metadata": {
    "papermill": {
     "duration": 0.026287,
     "end_time": "2022-01-14T08:58:39.191446",
     "exception": false,
     "start_time": "2022-01-14T08:58:39.165159",
     "status": "completed"
    },
    "tags": []
   },
   "source": [
    "## Training Parameters \n",
    "\n"
   ]
  },
  {
   "cell_type": "code",
   "execution_count": 8,
   "id": "952b7fc8",
   "metadata": {
    "execution": {
     "iopub.execute_input": "2022-01-14T08:58:39.263770Z",
     "iopub.status.busy": "2022-01-14T08:58:39.262625Z",
     "iopub.status.idle": "2022-01-14T08:58:39.265504Z",
     "shell.execute_reply": "2022-01-14T08:58:39.264782Z"
    },
    "papermill": {
     "duration": 0.049249,
     "end_time": "2022-01-14T08:58:39.265649",
     "exception": false,
     "start_time": "2022-01-14T08:58:39.216400",
     "status": "completed"
    },
    "tags": []
   },
   "outputs": [],
   "source": [
    "batch_size = 64\n",
    "n_epochs = 5000\n",
    "#Select the device \n",
    "device = torch.device('cuda' if torch.cuda.is_available() else 'cpu')"
   ]
  },
  {
   "cell_type": "markdown",
   "id": "a95e1600",
   "metadata": {
    "papermill": {
     "duration": 0.02449,
     "end_time": "2022-01-14T08:58:39.314956",
     "exception": false,
     "start_time": "2022-01-14T08:58:39.290466",
     "status": "completed"
    },
    "tags": []
   },
   "source": [
    "# ABC Pre-generator Model \n",
    "\n",
    "1. The catboost model is used as a pre-generator model for the ABC-GAN. \n",
    "2. The model is first trained on the train dataset \n",
    "3. It generats X,Y pairs and we add some Gaussian noise with mean 0 and variance V (1,0.01,0.1) to it which is then feed as input to the generator.\n"
   ]
  },
  {
   "cell_type": "code",
   "execution_count": 9,
   "id": "ff8ce7bd",
   "metadata": {
    "execution": {
     "iopub.execute_input": "2022-01-14T08:58:39.382647Z",
     "iopub.status.busy": "2022-01-14T08:58:39.381750Z",
     "iopub.status.idle": "2022-01-14T08:58:41.093952Z",
     "shell.execute_reply": "2022-01-14T08:58:41.094500Z"
    },
    "papermill": {
     "duration": 1.754039,
     "end_time": "2022-01-14T08:58:41.094693",
     "exception": false,
     "start_time": "2022-01-14T08:58:39.340654",
     "status": "completed"
    },
    "tags": []
   },
   "outputs": [
    {
     "name": "stdout",
     "output_type": "stream",
     "text": [
      "Learning rate set to 0.03548\n",
      "0:\tlearn: 0.9784208\ttotal: 48.2ms\tremaining: 48.2s\n",
      "1:\tlearn: 0.9585959\ttotal: 49.3ms\tremaining: 24.6s\n",
      "2:\tlearn: 0.9370855\ttotal: 50.5ms\tremaining: 16.8s\n",
      "3:\tlearn: 0.9220768\ttotal: 51.6ms\tremaining: 12.8s\n",
      "4:\tlearn: 0.9039826\ttotal: 52.7ms\tremaining: 10.5s\n",
      "5:\tlearn: 0.8877367\ttotal: 53.8ms\tremaining: 8.92s\n",
      "6:\tlearn: 0.8693661\ttotal: 54.8ms\tremaining: 7.78s\n",
      "7:\tlearn: 0.8510695\ttotal: 55.8ms\tremaining: 6.92s\n",
      "8:\tlearn: 0.8357151\ttotal: 56.8ms\tremaining: 6.25s\n",
      "9:\tlearn: 0.8177849\ttotal: 57.7ms\tremaining: 5.72s\n",
      "10:\tlearn: 0.8031220\ttotal: 58.8ms\tremaining: 5.28s\n",
      "11:\tlearn: 0.7876409\ttotal: 59.7ms\tremaining: 4.91s\n",
      "12:\tlearn: 0.7724271\ttotal: 60.6ms\tremaining: 4.6s\n",
      "13:\tlearn: 0.7580398\ttotal: 61.7ms\tremaining: 4.35s\n",
      "14:\tlearn: 0.7458377\ttotal: 62.7ms\tremaining: 4.12s\n",
      "15:\tlearn: 0.7317479\ttotal: 63.8ms\tremaining: 3.92s\n",
      "16:\tlearn: 0.7180901\ttotal: 64.8ms\tremaining: 3.75s\n",
      "17:\tlearn: 0.7054340\ttotal: 65.8ms\tremaining: 3.59s\n",
      "18:\tlearn: 0.6934667\ttotal: 66.8ms\tremaining: 3.45s\n",
      "19:\tlearn: 0.6806160\ttotal: 67.9ms\tremaining: 3.33s\n",
      "20:\tlearn: 0.6667962\ttotal: 69ms\tremaining: 3.22s\n",
      "21:\tlearn: 0.6549545\ttotal: 70.1ms\tremaining: 3.12s\n",
      "22:\tlearn: 0.6432057\ttotal: 71.2ms\tremaining: 3.02s\n",
      "23:\tlearn: 0.6341386\ttotal: 72.4ms\tremaining: 2.94s\n",
      "24:\tlearn: 0.6251032\ttotal: 73.5ms\tremaining: 2.87s\n",
      "25:\tlearn: 0.6160122\ttotal: 74.6ms\tremaining: 2.79s\n",
      "26:\tlearn: 0.6080602\ttotal: 75.6ms\tremaining: 2.73s\n",
      "27:\tlearn: 0.5997212\ttotal: 76.6ms\tremaining: 2.66s\n",
      "28:\tlearn: 0.5910629\ttotal: 77.7ms\tremaining: 2.6s\n",
      "29:\tlearn: 0.5804878\ttotal: 78.9ms\tremaining: 2.55s\n",
      "30:\tlearn: 0.5707839\ttotal: 80ms\tremaining: 2.5s\n",
      "31:\tlearn: 0.5625663\ttotal: 81ms\tremaining: 2.45s\n",
      "32:\tlearn: 0.5556582\ttotal: 82.1ms\tremaining: 2.4s\n",
      "33:\tlearn: 0.5481198\ttotal: 83.2ms\tremaining: 2.36s\n",
      "34:\tlearn: 0.5411735\ttotal: 84.2ms\tremaining: 2.32s\n",
      "35:\tlearn: 0.5348967\ttotal: 85.3ms\tremaining: 2.29s\n",
      "36:\tlearn: 0.5286775\ttotal: 86.3ms\tremaining: 2.25s\n",
      "37:\tlearn: 0.5215200\ttotal: 87.4ms\tremaining: 2.21s\n",
      "38:\tlearn: 0.5144952\ttotal: 88.5ms\tremaining: 2.18s\n",
      "39:\tlearn: 0.5073395\ttotal: 89.7ms\tremaining: 2.15s\n",
      "40:\tlearn: 0.5008434\ttotal: 90.7ms\tremaining: 2.12s\n",
      "41:\tlearn: 0.4952598\ttotal: 91.8ms\tremaining: 2.09s\n",
      "42:\tlearn: 0.4898807\ttotal: 92.9ms\tremaining: 2.07s\n",
      "43:\tlearn: 0.4835734\ttotal: 94ms\tremaining: 2.04s\n",
      "44:\tlearn: 0.4781157\ttotal: 95.1ms\tremaining: 2.02s\n",
      "45:\tlearn: 0.4724963\ttotal: 96.1ms\tremaining: 1.99s\n",
      "46:\tlearn: 0.4675641\ttotal: 97.2ms\tremaining: 1.97s\n",
      "47:\tlearn: 0.4623083\ttotal: 98.3ms\tremaining: 1.95s\n",
      "48:\tlearn: 0.4583020\ttotal: 99.3ms\tremaining: 1.93s\n",
      "49:\tlearn: 0.4538555\ttotal: 100ms\tremaining: 1.91s\n",
      "50:\tlearn: 0.4485719\ttotal: 101ms\tremaining: 1.89s\n",
      "51:\tlearn: 0.4426241\ttotal: 103ms\tremaining: 1.87s\n",
      "52:\tlearn: 0.4378863\ttotal: 104ms\tremaining: 1.85s\n",
      "53:\tlearn: 0.4345816\ttotal: 104ms\tremaining: 1.83s\n",
      "54:\tlearn: 0.4296341\ttotal: 106ms\tremaining: 1.81s\n",
      "55:\tlearn: 0.4256158\ttotal: 107ms\tremaining: 1.81s\n",
      "56:\tlearn: 0.4217804\ttotal: 108ms\tremaining: 1.79s\n",
      "57:\tlearn: 0.4179299\ttotal: 109ms\tremaining: 1.78s\n",
      "58:\tlearn: 0.4144502\ttotal: 111ms\tremaining: 1.76s\n",
      "59:\tlearn: 0.4111744\ttotal: 112ms\tremaining: 1.75s\n",
      "60:\tlearn: 0.4072952\ttotal: 113ms\tremaining: 1.74s\n",
      "61:\tlearn: 0.4033019\ttotal: 114ms\tremaining: 1.72s\n",
      "62:\tlearn: 0.3999397\ttotal: 115ms\tremaining: 1.71s\n",
      "63:\tlearn: 0.3963274\ttotal: 116ms\tremaining: 1.7s\n",
      "64:\tlearn: 0.3933326\ttotal: 117ms\tremaining: 1.69s\n",
      "65:\tlearn: 0.3890500\ttotal: 118ms\tremaining: 1.67s\n",
      "66:\tlearn: 0.3853405\ttotal: 119ms\tremaining: 1.66s\n",
      "67:\tlearn: 0.3828174\ttotal: 120ms\tremaining: 1.65s\n",
      "68:\tlearn: 0.3792366\ttotal: 121ms\tremaining: 1.64s\n",
      "69:\tlearn: 0.3757349\ttotal: 123ms\tremaining: 1.63s\n",
      "70:\tlearn: 0.3725894\ttotal: 124ms\tremaining: 1.62s\n",
      "71:\tlearn: 0.3696392\ttotal: 125ms\tremaining: 1.61s\n",
      "72:\tlearn: 0.3665798\ttotal: 126ms\tremaining: 1.6s\n",
      "73:\tlearn: 0.3635290\ttotal: 127ms\tremaining: 1.59s\n",
      "74:\tlearn: 0.3614557\ttotal: 128ms\tremaining: 1.58s\n",
      "75:\tlearn: 0.3593277\ttotal: 129ms\tremaining: 1.57s\n",
      "76:\tlearn: 0.3564495\ttotal: 130ms\tremaining: 1.56s\n",
      "77:\tlearn: 0.3542867\ttotal: 131ms\tremaining: 1.55s\n",
      "78:\tlearn: 0.3519741\ttotal: 132ms\tremaining: 1.54s\n",
      "79:\tlearn: 0.3495058\ttotal: 133ms\tremaining: 1.53s\n",
      "80:\tlearn: 0.3471971\ttotal: 134ms\tremaining: 1.52s\n",
      "81:\tlearn: 0.3445777\ttotal: 135ms\tremaining: 1.51s\n",
      "82:\tlearn: 0.3430954\ttotal: 136ms\tremaining: 1.51s\n",
      "83:\tlearn: 0.3409193\ttotal: 137ms\tremaining: 1.5s\n",
      "84:\tlearn: 0.3383705\ttotal: 139ms\tremaining: 1.49s\n",
      "85:\tlearn: 0.3357677\ttotal: 140ms\tremaining: 1.48s\n",
      "86:\tlearn: 0.3335858\ttotal: 141ms\tremaining: 1.48s\n"
     ]
    },
    {
     "name": "stdout",
     "output_type": "stream",
     "text": [
      "87:\tlearn: 0.3313728\ttotal: 144ms\tremaining: 1.49s\n",
      "88:\tlearn: 0.3288861\ttotal: 145ms\tremaining: 1.49s\n",
      "89:\tlearn: 0.3262247\ttotal: 146ms\tremaining: 1.48s\n",
      "90:\tlearn: 0.3245382\ttotal: 147ms\tremaining: 1.47s\n",
      "91:\tlearn: 0.3228055\ttotal: 148ms\tremaining: 1.46s\n",
      "92:\tlearn: 0.3215274\ttotal: 149ms\tremaining: 1.46s\n",
      "93:\tlearn: 0.3200547\ttotal: 151ms\tremaining: 1.45s\n",
      "94:\tlearn: 0.3178700\ttotal: 152ms\tremaining: 1.44s\n",
      "95:\tlearn: 0.3165428\ttotal: 152ms\tremaining: 1.44s\n",
      "96:\tlearn: 0.3151370\ttotal: 154ms\tremaining: 1.43s\n",
      "97:\tlearn: 0.3132711\ttotal: 155ms\tremaining: 1.42s\n",
      "98:\tlearn: 0.3118300\ttotal: 156ms\tremaining: 1.42s\n",
      "99:\tlearn: 0.3102598\ttotal: 157ms\tremaining: 1.41s\n",
      "100:\tlearn: 0.3089072\ttotal: 158ms\tremaining: 1.41s\n",
      "101:\tlearn: 0.3071267\ttotal: 159ms\tremaining: 1.4s\n",
      "102:\tlearn: 0.3058656\ttotal: 160ms\tremaining: 1.39s\n",
      "103:\tlearn: 0.3042791\ttotal: 161ms\tremaining: 1.39s\n",
      "104:\tlearn: 0.3027374\ttotal: 162ms\tremaining: 1.38s\n",
      "105:\tlearn: 0.3010681\ttotal: 163ms\tremaining: 1.38s\n",
      "106:\tlearn: 0.2996465\ttotal: 164ms\tremaining: 1.37s\n",
      "107:\tlearn: 0.2981077\ttotal: 165ms\tremaining: 1.36s\n",
      "108:\tlearn: 0.2968548\ttotal: 166ms\tremaining: 1.36s\n",
      "109:\tlearn: 0.2957781\ttotal: 167ms\tremaining: 1.35s\n",
      "110:\tlearn: 0.2943743\ttotal: 169ms\tremaining: 1.35s\n",
      "111:\tlearn: 0.2937467\ttotal: 170ms\tremaining: 1.34s\n",
      "112:\tlearn: 0.2924298\ttotal: 171ms\tremaining: 1.34s\n",
      "113:\tlearn: 0.2913017\ttotal: 172ms\tremaining: 1.33s\n",
      "114:\tlearn: 0.2901096\ttotal: 173ms\tremaining: 1.33s\n",
      "115:\tlearn: 0.2893147\ttotal: 174ms\tremaining: 1.32s\n",
      "116:\tlearn: 0.2880152\ttotal: 175ms\tremaining: 1.32s\n",
      "117:\tlearn: 0.2862116\ttotal: 176ms\tremaining: 1.31s\n",
      "118:\tlearn: 0.2851954\ttotal: 177ms\tremaining: 1.31s\n",
      "119:\tlearn: 0.2841286\ttotal: 178ms\tremaining: 1.3s\n",
      "120:\tlearn: 0.2828675\ttotal: 179ms\tremaining: 1.3s\n",
      "121:\tlearn: 0.2818859\ttotal: 180ms\tremaining: 1.3s\n",
      "122:\tlearn: 0.2802913\ttotal: 181ms\tremaining: 1.29s\n",
      "123:\tlearn: 0.2794559\ttotal: 182ms\tremaining: 1.29s\n",
      "124:\tlearn: 0.2782179\ttotal: 183ms\tremaining: 1.28s\n",
      "125:\tlearn: 0.2772148\ttotal: 184ms\tremaining: 1.28s\n",
      "126:\tlearn: 0.2755972\ttotal: 185ms\tremaining: 1.27s\n",
      "127:\tlearn: 0.2748956\ttotal: 187ms\tremaining: 1.27s\n",
      "128:\tlearn: 0.2738064\ttotal: 188ms\tremaining: 1.27s\n",
      "129:\tlearn: 0.2728995\ttotal: 189ms\tremaining: 1.26s\n",
      "130:\tlearn: 0.2715879\ttotal: 190ms\tremaining: 1.26s\n",
      "131:\tlearn: 0.2703343\ttotal: 191ms\tremaining: 1.25s\n",
      "132:\tlearn: 0.2693223\ttotal: 192ms\tremaining: 1.25s\n",
      "133:\tlearn: 0.2685323\ttotal: 193ms\tremaining: 1.25s\n",
      "134:\tlearn: 0.2675529\ttotal: 194ms\tremaining: 1.24s\n",
      "135:\tlearn: 0.2667604\ttotal: 195ms\tremaining: 1.24s\n",
      "136:\tlearn: 0.2658770\ttotal: 196ms\tremaining: 1.24s\n",
      "137:\tlearn: 0.2651125\ttotal: 197ms\tremaining: 1.23s\n",
      "138:\tlearn: 0.2644004\ttotal: 198ms\tremaining: 1.23s\n",
      "139:\tlearn: 0.2637581\ttotal: 200ms\tremaining: 1.23s\n",
      "140:\tlearn: 0.2629650\ttotal: 200ms\tremaining: 1.22s\n",
      "141:\tlearn: 0.2618798\ttotal: 202ms\tremaining: 1.22s\n",
      "142:\tlearn: 0.2604214\ttotal: 203ms\tremaining: 1.21s\n",
      "143:\tlearn: 0.2596375\ttotal: 204ms\tremaining: 1.21s\n",
      "144:\tlearn: 0.2587553\ttotal: 205ms\tremaining: 1.21s\n",
      "145:\tlearn: 0.2579570\ttotal: 206ms\tremaining: 1.2s\n",
      "146:\tlearn: 0.2573632\ttotal: 207ms\tremaining: 1.2s\n",
      "147:\tlearn: 0.2563899\ttotal: 208ms\tremaining: 1.2s\n",
      "148:\tlearn: 0.2555576\ttotal: 209ms\tremaining: 1.19s\n",
      "149:\tlearn: 0.2547616\ttotal: 210ms\tremaining: 1.19s\n",
      "150:\tlearn: 0.2535388\ttotal: 211ms\tremaining: 1.19s\n",
      "151:\tlearn: 0.2525533\ttotal: 212ms\tremaining: 1.18s\n",
      "152:\tlearn: 0.2519663\ttotal: 213ms\tremaining: 1.18s\n",
      "153:\tlearn: 0.2513222\ttotal: 214ms\tremaining: 1.18s\n",
      "154:\tlearn: 0.2507088\ttotal: 215ms\tremaining: 1.17s\n",
      "155:\tlearn: 0.2499294\ttotal: 217ms\tremaining: 1.17s\n",
      "156:\tlearn: 0.2492957\ttotal: 218ms\tremaining: 1.17s\n",
      "157:\tlearn: 0.2485929\ttotal: 219ms\tremaining: 1.17s\n",
      "158:\tlearn: 0.2478431\ttotal: 220ms\tremaining: 1.16s\n",
      "159:\tlearn: 0.2471885\ttotal: 221ms\tremaining: 1.16s\n",
      "160:\tlearn: 0.2464221\ttotal: 222ms\tremaining: 1.16s\n",
      "161:\tlearn: 0.2456042\ttotal: 223ms\tremaining: 1.15s\n",
      "162:\tlearn: 0.2451777\ttotal: 224ms\tremaining: 1.15s\n",
      "163:\tlearn: 0.2443929\ttotal: 225ms\tremaining: 1.15s\n",
      "164:\tlearn: 0.2437567\ttotal: 226ms\tremaining: 1.14s\n",
      "165:\tlearn: 0.2429348\ttotal: 227ms\tremaining: 1.14s\n",
      "166:\tlearn: 0.2423860\ttotal: 228ms\tremaining: 1.14s\n",
      "167:\tlearn: 0.2416375\ttotal: 230ms\tremaining: 1.14s\n",
      "168:\tlearn: 0.2410676\ttotal: 231ms\tremaining: 1.13s\n",
      "169:\tlearn: 0.2403990\ttotal: 232ms\tremaining: 1.13s\n",
      "170:\tlearn: 0.2397836\ttotal: 233ms\tremaining: 1.13s\n",
      "171:\tlearn: 0.2391321\ttotal: 234ms\tremaining: 1.13s\n",
      "172:\tlearn: 0.2383230\ttotal: 235ms\tremaining: 1.12s\n",
      "173:\tlearn: 0.2375417\ttotal: 236ms\tremaining: 1.12s\n",
      "174:\tlearn: 0.2369425\ttotal: 237ms\tremaining: 1.12s\n",
      "175:\tlearn: 0.2360394\ttotal: 238ms\tremaining: 1.12s\n",
      "176:\tlearn: 0.2351677\ttotal: 240ms\tremaining: 1.11s\n",
      "177:\tlearn: 0.2345469\ttotal: 241ms\tremaining: 1.11s\n",
      "178:\tlearn: 0.2341296\ttotal: 242ms\tremaining: 1.11s\n",
      "179:\tlearn: 0.2336218\ttotal: 243ms\tremaining: 1.11s\n",
      "180:\tlearn: 0.2328022\ttotal: 244ms\tremaining: 1.1s\n",
      "181:\tlearn: 0.2317934\ttotal: 245ms\tremaining: 1.1s\n",
      "182:\tlearn: 0.2311298\ttotal: 246ms\tremaining: 1.1s\n",
      "183:\tlearn: 0.2306257\ttotal: 247ms\tremaining: 1.09s\n",
      "184:\tlearn: 0.2296020\ttotal: 248ms\tremaining: 1.09s\n",
      "185:\tlearn: 0.2290594\ttotal: 249ms\tremaining: 1.09s\n",
      "186:\tlearn: 0.2281131\ttotal: 250ms\tremaining: 1.09s\n",
      "187:\tlearn: 0.2273983\ttotal: 251ms\tremaining: 1.08s\n",
      "188:\tlearn: 0.2265699\ttotal: 252ms\tremaining: 1.08s\n",
      "189:\tlearn: 0.2257505\ttotal: 253ms\tremaining: 1.08s\n",
      "190:\tlearn: 0.2251499\ttotal: 254ms\tremaining: 1.08s\n",
      "191:\tlearn: 0.2246910\ttotal: 255ms\tremaining: 1.07s\n",
      "192:\tlearn: 0.2242042\ttotal: 256ms\tremaining: 1.07s\n",
      "193:\tlearn: 0.2237594\ttotal: 257ms\tremaining: 1.07s\n",
      "194:\tlearn: 0.2231940\ttotal: 258ms\tremaining: 1.07s\n",
      "195:\tlearn: 0.2227470\ttotal: 260ms\tremaining: 1.06s\n",
      "196:\tlearn: 0.2222188\ttotal: 261ms\tremaining: 1.06s\n",
      "197:\tlearn: 0.2216557\ttotal: 262ms\tremaining: 1.06s\n",
      "198:\tlearn: 0.2211842\ttotal: 263ms\tremaining: 1.06s\n",
      "199:\tlearn: 0.2206315\ttotal: 264ms\tremaining: 1.05s\n",
      "200:\tlearn: 0.2198901\ttotal: 265ms\tremaining: 1.05s\n",
      "201:\tlearn: 0.2195446\ttotal: 266ms\tremaining: 1.05s\n",
      "202:\tlearn: 0.2186631\ttotal: 267ms\tremaining: 1.05s\n",
      "203:\tlearn: 0.2179022\ttotal: 268ms\tremaining: 1.04s\n",
      "204:\tlearn: 0.2172985\ttotal: 269ms\tremaining: 1.04s\n",
      "205:\tlearn: 0.2165158\ttotal: 270ms\tremaining: 1.04s\n",
      "206:\tlearn: 0.2161462\ttotal: 271ms\tremaining: 1.04s\n",
      "207:\tlearn: 0.2155780\ttotal: 272ms\tremaining: 1.03s\n",
      "208:\tlearn: 0.2152250\ttotal: 273ms\tremaining: 1.03s\n",
      "209:\tlearn: 0.2148458\ttotal: 274ms\tremaining: 1.03s\n",
      "210:\tlearn: 0.2142060\ttotal: 275ms\tremaining: 1.03s\n"
     ]
    },
    {
     "name": "stdout",
     "output_type": "stream",
     "text": [
      "211:\tlearn: 0.2135303\ttotal: 276ms\tremaining: 1.03s\n",
      "212:\tlearn: 0.2132512\ttotal: 278ms\tremaining: 1.02s\n",
      "213:\tlearn: 0.2129177\ttotal: 279ms\tremaining: 1.02s\n",
      "214:\tlearn: 0.2125063\ttotal: 280ms\tremaining: 1.02s\n",
      "215:\tlearn: 0.2114426\ttotal: 281ms\tremaining: 1.02s\n",
      "216:\tlearn: 0.2108867\ttotal: 282ms\tremaining: 1.02s\n",
      "217:\tlearn: 0.2103310\ttotal: 283ms\tremaining: 1.01s\n",
      "218:\tlearn: 0.2097518\ttotal: 284ms\tremaining: 1.01s\n",
      "219:\tlearn: 0.2094556\ttotal: 285ms\tremaining: 1.01s\n",
      "220:\tlearn: 0.2088427\ttotal: 286ms\tremaining: 1.01s\n",
      "221:\tlearn: 0.2083053\ttotal: 287ms\tremaining: 1.01s\n",
      "222:\tlearn: 0.2077557\ttotal: 288ms\tremaining: 1s\n",
      "223:\tlearn: 0.2068607\ttotal: 290ms\tremaining: 1s\n",
      "224:\tlearn: 0.2061223\ttotal: 291ms\tremaining: 1s\n",
      "225:\tlearn: 0.2057802\ttotal: 292ms\tremaining: 999ms\n",
      "226:\tlearn: 0.2050543\ttotal: 293ms\tremaining: 998ms\n",
      "227:\tlearn: 0.2043001\ttotal: 294ms\tremaining: 996ms\n",
      "228:\tlearn: 0.2038732\ttotal: 295ms\tremaining: 994ms\n",
      "229:\tlearn: 0.2034891\ttotal: 296ms\tremaining: 992ms\n",
      "230:\tlearn: 0.2031137\ttotal: 297ms\tremaining: 990ms\n",
      "231:\tlearn: 0.2025339\ttotal: 298ms\tremaining: 988ms\n",
      "232:\tlearn: 0.2021848\ttotal: 300ms\tremaining: 986ms\n",
      "233:\tlearn: 0.2014020\ttotal: 301ms\tremaining: 984ms\n",
      "234:\tlearn: 0.2004879\ttotal: 302ms\tremaining: 982ms\n",
      "235:\tlearn: 0.1998641\ttotal: 303ms\tremaining: 981ms\n",
      "236:\tlearn: 0.1994688\ttotal: 304ms\tremaining: 979ms\n",
      "237:\tlearn: 0.1988576\ttotal: 305ms\tremaining: 977ms\n",
      "238:\tlearn: 0.1985425\ttotal: 306ms\tremaining: 975ms\n",
      "239:\tlearn: 0.1980728\ttotal: 307ms\tremaining: 973ms\n",
      "240:\tlearn: 0.1976509\ttotal: 309ms\tremaining: 972ms\n",
      "241:\tlearn: 0.1972800\ttotal: 310ms\tremaining: 969ms\n",
      "242:\tlearn: 0.1968188\ttotal: 311ms\tremaining: 968ms\n",
      "243:\tlearn: 0.1961831\ttotal: 312ms\tremaining: 966ms\n",
      "244:\tlearn: 0.1954822\ttotal: 313ms\tremaining: 964ms\n",
      "245:\tlearn: 0.1950969\ttotal: 314ms\tremaining: 962ms\n",
      "246:\tlearn: 0.1944466\ttotal: 315ms\tremaining: 961ms\n",
      "247:\tlearn: 0.1940087\ttotal: 316ms\tremaining: 959ms\n",
      "248:\tlearn: 0.1936097\ttotal: 317ms\tremaining: 957ms\n",
      "249:\tlearn: 0.1932882\ttotal: 318ms\tremaining: 955ms\n",
      "250:\tlearn: 0.1928878\ttotal: 319ms\tremaining: 953ms\n",
      "251:\tlearn: 0.1921858\ttotal: 320ms\tremaining: 951ms\n",
      "252:\tlearn: 0.1914408\ttotal: 321ms\tremaining: 949ms\n",
      "253:\tlearn: 0.1910906\ttotal: 322ms\tremaining: 947ms\n",
      "254:\tlearn: 0.1907555\ttotal: 324ms\tremaining: 945ms\n",
      "255:\tlearn: 0.1903289\ttotal: 325ms\tremaining: 944ms\n",
      "256:\tlearn: 0.1898912\ttotal: 326ms\tremaining: 942ms\n",
      "257:\tlearn: 0.1895622\ttotal: 327ms\tremaining: 940ms\n",
      "258:\tlearn: 0.1892319\ttotal: 328ms\tremaining: 938ms\n",
      "259:\tlearn: 0.1887554\ttotal: 329ms\tremaining: 936ms\n",
      "260:\tlearn: 0.1883167\ttotal: 330ms\tremaining: 935ms\n",
      "261:\tlearn: 0.1877513\ttotal: 331ms\tremaining: 933ms\n",
      "262:\tlearn: 0.1873790\ttotal: 332ms\tremaining: 931ms\n",
      "263:\tlearn: 0.1869383\ttotal: 333ms\tremaining: 930ms\n",
      "264:\tlearn: 0.1864669\ttotal: 335ms\tremaining: 928ms\n",
      "265:\tlearn: 0.1860616\ttotal: 336ms\tremaining: 926ms\n",
      "266:\tlearn: 0.1856302\ttotal: 337ms\tremaining: 924ms\n",
      "267:\tlearn: 0.1849876\ttotal: 338ms\tremaining: 922ms\n",
      "268:\tlearn: 0.1843226\ttotal: 339ms\tremaining: 921ms\n",
      "269:\tlearn: 0.1838967\ttotal: 340ms\tremaining: 919ms\n",
      "270:\tlearn: 0.1833594\ttotal: 341ms\tremaining: 917ms\n",
      "271:\tlearn: 0.1829685\ttotal: 342ms\tremaining: 915ms\n",
      "272:\tlearn: 0.1822919\ttotal: 343ms\tremaining: 914ms\n",
      "273:\tlearn: 0.1818590\ttotal: 344ms\tremaining: 913ms\n",
      "274:\tlearn: 0.1814288\ttotal: 346ms\tremaining: 911ms\n",
      "275:\tlearn: 0.1808902\ttotal: 347ms\tremaining: 910ms\n",
      "276:\tlearn: 0.1802767\ttotal: 348ms\tremaining: 909ms\n",
      "277:\tlearn: 0.1797999\ttotal: 349ms\tremaining: 907ms\n",
      "278:\tlearn: 0.1793019\ttotal: 350ms\tremaining: 905ms\n",
      "279:\tlearn: 0.1785338\ttotal: 351ms\tremaining: 903ms\n",
      "280:\tlearn: 0.1780615\ttotal: 352ms\tremaining: 901ms\n",
      "281:\tlearn: 0.1775365\ttotal: 353ms\tremaining: 900ms\n",
      "282:\tlearn: 0.1772059\ttotal: 354ms\tremaining: 898ms\n",
      "283:\tlearn: 0.1768015\ttotal: 355ms\tremaining: 896ms\n",
      "284:\tlearn: 0.1762702\ttotal: 356ms\tremaining: 894ms\n",
      "285:\tlearn: 0.1757965\ttotal: 357ms\tremaining: 892ms\n",
      "286:\tlearn: 0.1754512\ttotal: 358ms\tremaining: 891ms\n",
      "287:\tlearn: 0.1750522\ttotal: 360ms\tremaining: 889ms\n",
      "288:\tlearn: 0.1746702\ttotal: 361ms\tremaining: 887ms\n",
      "289:\tlearn: 0.1743428\ttotal: 362ms\tremaining: 885ms\n",
      "290:\tlearn: 0.1739586\ttotal: 363ms\tremaining: 884ms\n",
      "291:\tlearn: 0.1735858\ttotal: 364ms\tremaining: 882ms\n",
      "292:\tlearn: 0.1732392\ttotal: 365ms\tremaining: 880ms\n",
      "293:\tlearn: 0.1729740\ttotal: 366ms\tremaining: 879ms\n",
      "294:\tlearn: 0.1724639\ttotal: 367ms\tremaining: 877ms\n",
      "295:\tlearn: 0.1719594\ttotal: 368ms\tremaining: 875ms\n",
      "296:\tlearn: 0.1716369\ttotal: 369ms\tremaining: 874ms\n",
      "297:\tlearn: 0.1712586\ttotal: 370ms\tremaining: 872ms\n",
      "298:\tlearn: 0.1708825\ttotal: 371ms\tremaining: 871ms\n",
      "299:\tlearn: 0.1703442\ttotal: 372ms\tremaining: 869ms\n",
      "300:\tlearn: 0.1698808\ttotal: 373ms\tremaining: 867ms\n",
      "301:\tlearn: 0.1694146\ttotal: 374ms\tremaining: 865ms\n",
      "302:\tlearn: 0.1689695\ttotal: 376ms\tremaining: 864ms\n",
      "303:\tlearn: 0.1684923\ttotal: 376ms\tremaining: 862ms\n",
      "304:\tlearn: 0.1679468\ttotal: 377ms\tremaining: 860ms\n",
      "305:\tlearn: 0.1676407\ttotal: 378ms\tremaining: 858ms\n",
      "306:\tlearn: 0.1672698\ttotal: 379ms\tremaining: 857ms\n",
      "307:\tlearn: 0.1670080\ttotal: 380ms\tremaining: 855ms\n",
      "308:\tlearn: 0.1667406\ttotal: 382ms\tremaining: 853ms\n",
      "309:\tlearn: 0.1665569\ttotal: 383ms\tremaining: 852ms\n",
      "310:\tlearn: 0.1660776\ttotal: 384ms\tremaining: 850ms\n",
      "311:\tlearn: 0.1656599\ttotal: 385ms\tremaining: 849ms\n",
      "312:\tlearn: 0.1651691\ttotal: 386ms\tremaining: 847ms\n",
      "313:\tlearn: 0.1648090\ttotal: 387ms\tremaining: 845ms\n",
      "314:\tlearn: 0.1644552\ttotal: 388ms\tremaining: 844ms\n",
      "315:\tlearn: 0.1641440\ttotal: 389ms\tremaining: 842ms\n",
      "316:\tlearn: 0.1635818\ttotal: 390ms\tremaining: 840ms\n",
      "317:\tlearn: 0.1631698\ttotal: 391ms\tremaining: 839ms\n",
      "318:\tlearn: 0.1627516\ttotal: 392ms\tremaining: 837ms\n",
      "319:\tlearn: 0.1624222\ttotal: 393ms\tremaining: 836ms\n",
      "320:\tlearn: 0.1622285\ttotal: 394ms\tremaining: 834ms\n",
      "321:\tlearn: 0.1620988\ttotal: 396ms\tremaining: 834ms\n",
      "322:\tlearn: 0.1616979\ttotal: 397ms\tremaining: 833ms\n",
      "323:\tlearn: 0.1611100\ttotal: 398ms\tremaining: 831ms\n",
      "324:\tlearn: 0.1609544\ttotal: 399ms\tremaining: 829ms\n",
      "325:\tlearn: 0.1604537\ttotal: 400ms\tremaining: 828ms\n",
      "326:\tlearn: 0.1602872\ttotal: 401ms\tremaining: 826ms\n",
      "327:\tlearn: 0.1602000\ttotal: 402ms\tremaining: 824ms\n",
      "328:\tlearn: 0.1598081\ttotal: 403ms\tremaining: 823ms\n",
      "329:\tlearn: 0.1594334\ttotal: 404ms\tremaining: 821ms\n",
      "330:\tlearn: 0.1589948\ttotal: 405ms\tremaining: 819ms\n"
     ]
    },
    {
     "name": "stdout",
     "output_type": "stream",
     "text": [
      "331:\tlearn: 0.1586695\ttotal: 406ms\tremaining: 818ms\n",
      "332:\tlearn: 0.1583406\ttotal: 408ms\tremaining: 817ms\n",
      "333:\tlearn: 0.1580059\ttotal: 409ms\tremaining: 815ms\n",
      "334:\tlearn: 0.1577662\ttotal: 410ms\tremaining: 813ms\n",
      "335:\tlearn: 0.1576733\ttotal: 411ms\tremaining: 812ms\n",
      "336:\tlearn: 0.1574806\ttotal: 412ms\tremaining: 810ms\n",
      "337:\tlearn: 0.1571398\ttotal: 413ms\tremaining: 808ms\n",
      "338:\tlearn: 0.1568821\ttotal: 414ms\tremaining: 807ms\n",
      "339:\tlearn: 0.1568136\ttotal: 415ms\tremaining: 805ms\n",
      "340:\tlearn: 0.1565914\ttotal: 416ms\tremaining: 804ms\n",
      "341:\tlearn: 0.1562716\ttotal: 417ms\tremaining: 802ms\n",
      "342:\tlearn: 0.1561634\ttotal: 418ms\tremaining: 800ms\n",
      "343:\tlearn: 0.1555952\ttotal: 419ms\tremaining: 799ms\n",
      "344:\tlearn: 0.1553998\ttotal: 420ms\tremaining: 797ms\n",
      "345:\tlearn: 0.1550866\ttotal: 421ms\tremaining: 795ms\n",
      "346:\tlearn: 0.1547964\ttotal: 422ms\tremaining: 794ms\n",
      "347:\tlearn: 0.1546690\ttotal: 423ms\tremaining: 792ms\n",
      "348:\tlearn: 0.1545691\ttotal: 424ms\tremaining: 790ms\n",
      "349:\tlearn: 0.1541865\ttotal: 425ms\tremaining: 789ms\n",
      "350:\tlearn: 0.1538138\ttotal: 426ms\tremaining: 787ms\n",
      "351:\tlearn: 0.1534832\ttotal: 427ms\tremaining: 785ms\n",
      "352:\tlearn: 0.1534334\ttotal: 428ms\tremaining: 784ms\n",
      "353:\tlearn: 0.1533092\ttotal: 429ms\tremaining: 782ms\n",
      "354:\tlearn: 0.1532389\ttotal: 430ms\tremaining: 780ms\n",
      "355:\tlearn: 0.1527914\ttotal: 430ms\tremaining: 779ms\n",
      "356:\tlearn: 0.1524347\ttotal: 432ms\tremaining: 777ms\n",
      "357:\tlearn: 0.1521436\ttotal: 432ms\tremaining: 776ms\n",
      "358:\tlearn: 0.1520847\ttotal: 433ms\tremaining: 774ms\n",
      "359:\tlearn: 0.1519743\ttotal: 434ms\tremaining: 772ms\n",
      "360:\tlearn: 0.1516072\ttotal: 435ms\tremaining: 771ms\n",
      "361:\tlearn: 0.1511745\ttotal: 437ms\tremaining: 769ms\n",
      "362:\tlearn: 0.1507862\ttotal: 438ms\tremaining: 768ms\n",
      "363:\tlearn: 0.1504433\ttotal: 439ms\tremaining: 766ms\n",
      "364:\tlearn: 0.1500923\ttotal: 440ms\tremaining: 765ms\n",
      "365:\tlearn: 0.1496486\ttotal: 441ms\tremaining: 763ms\n",
      "366:\tlearn: 0.1495353\ttotal: 442ms\tremaining: 762ms\n",
      "367:\tlearn: 0.1492350\ttotal: 443ms\tremaining: 760ms\n",
      "368:\tlearn: 0.1489061\ttotal: 444ms\tremaining: 759ms\n",
      "369:\tlearn: 0.1486899\ttotal: 445ms\tremaining: 757ms\n",
      "370:\tlearn: 0.1483289\ttotal: 446ms\tremaining: 756ms\n",
      "371:\tlearn: 0.1480322\ttotal: 447ms\tremaining: 754ms\n",
      "372:\tlearn: 0.1476100\ttotal: 448ms\tremaining: 753ms\n",
      "373:\tlearn: 0.1472271\ttotal: 449ms\tremaining: 752ms\n",
      "374:\tlearn: 0.1471107\ttotal: 450ms\tremaining: 750ms\n",
      "375:\tlearn: 0.1469587\ttotal: 451ms\tremaining: 749ms\n",
      "376:\tlearn: 0.1468130\ttotal: 452ms\tremaining: 747ms\n",
      "377:\tlearn: 0.1464480\ttotal: 453ms\tremaining: 746ms\n",
      "378:\tlearn: 0.1463005\ttotal: 454ms\tremaining: 744ms\n",
      "379:\tlearn: 0.1460183\ttotal: 455ms\tremaining: 743ms\n",
      "380:\tlearn: 0.1459782\ttotal: 456ms\tremaining: 742ms\n",
      "381:\tlearn: 0.1456554\ttotal: 458ms\tremaining: 740ms\n",
      "382:\tlearn: 0.1455078\ttotal: 459ms\tremaining: 739ms\n",
      "383:\tlearn: 0.1451477\ttotal: 460ms\tremaining: 737ms\n",
      "384:\tlearn: 0.1448562\ttotal: 461ms\tremaining: 736ms\n",
      "385:\tlearn: 0.1445441\ttotal: 462ms\tremaining: 735ms\n",
      "386:\tlearn: 0.1441272\ttotal: 463ms\tremaining: 733ms\n",
      "387:\tlearn: 0.1437190\ttotal: 464ms\tremaining: 732ms\n",
      "388:\tlearn: 0.1434853\ttotal: 465ms\tremaining: 731ms\n",
      "389:\tlearn: 0.1434056\ttotal: 466ms\tremaining: 729ms\n",
      "390:\tlearn: 0.1431352\ttotal: 467ms\tremaining: 728ms\n",
      "391:\tlearn: 0.1429485\ttotal: 468ms\tremaining: 726ms\n",
      "392:\tlearn: 0.1429277\ttotal: 469ms\tremaining: 725ms\n",
      "393:\tlearn: 0.1427200\ttotal: 470ms\tremaining: 723ms\n",
      "394:\tlearn: 0.1424618\ttotal: 471ms\tremaining: 722ms\n",
      "395:\tlearn: 0.1420682\ttotal: 472ms\tremaining: 720ms\n",
      "396:\tlearn: 0.1420361\ttotal: 473ms\tremaining: 719ms\n",
      "397:\tlearn: 0.1415062\ttotal: 474ms\tremaining: 718ms\n",
      "398:\tlearn: 0.1411454\ttotal: 476ms\tremaining: 716ms\n",
      "399:\tlearn: 0.1408941\ttotal: 477ms\tremaining: 715ms\n",
      "400:\tlearn: 0.1406822\ttotal: 478ms\tremaining: 714ms\n",
      "401:\tlearn: 0.1405031\ttotal: 479ms\tremaining: 712ms\n",
      "402:\tlearn: 0.1400971\ttotal: 480ms\tremaining: 711ms\n",
      "403:\tlearn: 0.1400786\ttotal: 481ms\tremaining: 709ms\n",
      "404:\tlearn: 0.1397790\ttotal: 482ms\tremaining: 708ms\n",
      "405:\tlearn: 0.1396448\ttotal: 483ms\tremaining: 707ms\n",
      "406:\tlearn: 0.1396147\ttotal: 484ms\tremaining: 705ms\n",
      "407:\tlearn: 0.1395473\ttotal: 485ms\tremaining: 704ms\n",
      "408:\tlearn: 0.1393193\ttotal: 486ms\tremaining: 703ms\n",
      "409:\tlearn: 0.1390185\ttotal: 487ms\tremaining: 701ms\n",
      "410:\tlearn: 0.1386973\ttotal: 488ms\tremaining: 700ms\n",
      "411:\tlearn: 0.1386332\ttotal: 489ms\tremaining: 699ms\n",
      "412:\tlearn: 0.1383563\ttotal: 491ms\tremaining: 697ms\n",
      "413:\tlearn: 0.1382018\ttotal: 492ms\tremaining: 696ms\n",
      "414:\tlearn: 0.1381352\ttotal: 493ms\tremaining: 695ms\n",
      "415:\tlearn: 0.1378730\ttotal: 494ms\tremaining: 693ms\n",
      "416:\tlearn: 0.1375379\ttotal: 495ms\tremaining: 692ms\n",
      "417:\tlearn: 0.1374660\ttotal: 496ms\tremaining: 690ms\n",
      "418:\tlearn: 0.1373684\ttotal: 497ms\tremaining: 689ms\n",
      "419:\tlearn: 0.1371420\ttotal: 498ms\tremaining: 688ms\n",
      "420:\tlearn: 0.1369385\ttotal: 499ms\tremaining: 686ms\n",
      "421:\tlearn: 0.1366933\ttotal: 500ms\tremaining: 685ms\n",
      "422:\tlearn: 0.1362824\ttotal: 501ms\tremaining: 684ms\n",
      "423:\tlearn: 0.1362221\ttotal: 502ms\tremaining: 682ms\n",
      "424:\tlearn: 0.1361006\ttotal: 503ms\tremaining: 681ms\n",
      "425:\tlearn: 0.1358436\ttotal: 504ms\tremaining: 680ms\n",
      "426:\tlearn: 0.1356574\ttotal: 505ms\tremaining: 678ms\n",
      "427:\tlearn: 0.1353591\ttotal: 507ms\tremaining: 677ms\n",
      "428:\tlearn: 0.1350135\ttotal: 508ms\tremaining: 676ms\n",
      "429:\tlearn: 0.1347180\ttotal: 509ms\tremaining: 674ms\n",
      "430:\tlearn: 0.1343814\ttotal: 510ms\tremaining: 673ms\n",
      "431:\tlearn: 0.1340771\ttotal: 511ms\tremaining: 672ms\n",
      "432:\tlearn: 0.1339806\ttotal: 512ms\tremaining: 671ms\n",
      "433:\tlearn: 0.1336341\ttotal: 513ms\tremaining: 670ms\n",
      "434:\tlearn: 0.1334425\ttotal: 514ms\tremaining: 668ms\n",
      "435:\tlearn: 0.1331662\ttotal: 516ms\tremaining: 667ms\n",
      "436:\tlearn: 0.1329035\ttotal: 517ms\tremaining: 666ms\n",
      "437:\tlearn: 0.1325460\ttotal: 518ms\tremaining: 664ms\n",
      "438:\tlearn: 0.1322187\ttotal: 519ms\tremaining: 663ms\n",
      "439:\tlearn: 0.1319638\ttotal: 520ms\tremaining: 662ms\n",
      "440:\tlearn: 0.1317402\ttotal: 521ms\tremaining: 660ms\n",
      "441:\tlearn: 0.1317212\ttotal: 522ms\tremaining: 659ms\n",
      "442:\tlearn: 0.1316932\ttotal: 523ms\tremaining: 658ms\n",
      "443:\tlearn: 0.1313896\ttotal: 525ms\tremaining: 657ms\n",
      "444:\tlearn: 0.1310766\ttotal: 526ms\tremaining: 656ms\n",
      "445:\tlearn: 0.1307315\ttotal: 527ms\tremaining: 654ms\n",
      "446:\tlearn: 0.1303907\ttotal: 528ms\tremaining: 653ms\n",
      "447:\tlearn: 0.1303140\ttotal: 529ms\tremaining: 652ms\n",
      "448:\tlearn: 0.1300275\ttotal: 530ms\tremaining: 650ms\n",
      "449:\tlearn: 0.1297279\ttotal: 531ms\tremaining: 649ms\n",
      "450:\tlearn: 0.1293724\ttotal: 532ms\tremaining: 647ms\n",
      "451:\tlearn: 0.1292462\ttotal: 533ms\tremaining: 646ms\n",
      "452:\tlearn: 0.1289523\ttotal: 534ms\tremaining: 645ms\n",
      "453:\tlearn: 0.1286918\ttotal: 535ms\tremaining: 643ms\n",
      "454:\tlearn: 0.1283780\ttotal: 536ms\tremaining: 642ms\n",
      "455:\tlearn: 0.1283527\ttotal: 537ms\tremaining: 641ms\n",
      "456:\tlearn: 0.1281456\ttotal: 538ms\tremaining: 640ms\n",
      "457:\tlearn: 0.1278461\ttotal: 539ms\tremaining: 638ms\n",
      "458:\tlearn: 0.1276021\ttotal: 541ms\tremaining: 637ms\n"
     ]
    },
    {
     "name": "stdout",
     "output_type": "stream",
     "text": [
      "459:\tlearn: 0.1274249\ttotal: 542ms\tremaining: 636ms\n",
      "460:\tlearn: 0.1271664\ttotal: 543ms\tremaining: 635ms\n",
      "461:\tlearn: 0.1268957\ttotal: 544ms\tremaining: 634ms\n",
      "462:\tlearn: 0.1266087\ttotal: 545ms\tremaining: 632ms\n",
      "463:\tlearn: 0.1263128\ttotal: 546ms\tremaining: 631ms\n",
      "464:\tlearn: 0.1261998\ttotal: 547ms\tremaining: 630ms\n",
      "465:\tlearn: 0.1258981\ttotal: 548ms\tremaining: 628ms\n",
      "466:\tlearn: 0.1258353\ttotal: 550ms\tremaining: 627ms\n",
      "467:\tlearn: 0.1256095\ttotal: 551ms\tremaining: 626ms\n",
      "468:\tlearn: 0.1253116\ttotal: 552ms\tremaining: 625ms\n",
      "469:\tlearn: 0.1250779\ttotal: 553ms\tremaining: 623ms\n",
      "470:\tlearn: 0.1248315\ttotal: 554ms\tremaining: 622ms\n",
      "471:\tlearn: 0.1245729\ttotal: 555ms\tremaining: 621ms\n",
      "472:\tlearn: 0.1243278\ttotal: 556ms\tremaining: 620ms\n",
      "473:\tlearn: 0.1239764\ttotal: 557ms\tremaining: 618ms\n",
      "474:\tlearn: 0.1238154\ttotal: 558ms\tremaining: 617ms\n",
      "475:\tlearn: 0.1234833\ttotal: 559ms\tremaining: 616ms\n",
      "476:\tlearn: 0.1231524\ttotal: 560ms\tremaining: 614ms\n",
      "477:\tlearn: 0.1229610\ttotal: 561ms\tremaining: 613ms\n",
      "478:\tlearn: 0.1226557\ttotal: 562ms\tremaining: 612ms\n",
      "479:\tlearn: 0.1224369\ttotal: 564ms\tremaining: 611ms\n",
      "480:\tlearn: 0.1220845\ttotal: 565ms\tremaining: 609ms\n",
      "481:\tlearn: 0.1217631\ttotal: 566ms\tremaining: 608ms\n",
      "482:\tlearn: 0.1214090\ttotal: 567ms\tremaining: 607ms\n",
      "483:\tlearn: 0.1211971\ttotal: 568ms\tremaining: 605ms\n",
      "484:\tlearn: 0.1209667\ttotal: 569ms\tremaining: 604ms\n",
      "485:\tlearn: 0.1206300\ttotal: 570ms\tremaining: 603ms\n",
      "486:\tlearn: 0.1203206\ttotal: 571ms\tremaining: 601ms\n",
      "487:\tlearn: 0.1199798\ttotal: 572ms\tremaining: 600ms\n",
      "488:\tlearn: 0.1197804\ttotal: 573ms\tremaining: 599ms\n",
      "489:\tlearn: 0.1195425\ttotal: 574ms\tremaining: 597ms\n",
      "490:\tlearn: 0.1192801\ttotal: 575ms\tremaining: 596ms\n",
      "491:\tlearn: 0.1189818\ttotal: 576ms\tremaining: 595ms\n",
      "492:\tlearn: 0.1189663\ttotal: 577ms\tremaining: 593ms\n",
      "493:\tlearn: 0.1186587\ttotal: 578ms\tremaining: 592ms\n",
      "494:\tlearn: 0.1185595\ttotal: 579ms\tremaining: 591ms\n",
      "495:\tlearn: 0.1182463\ttotal: 580ms\tremaining: 590ms\n",
      "496:\tlearn: 0.1179417\ttotal: 581ms\tremaining: 588ms\n",
      "497:\tlearn: 0.1176841\ttotal: 582ms\tremaining: 587ms\n",
      "498:\tlearn: 0.1175052\ttotal: 583ms\tremaining: 586ms\n",
      "499:\tlearn: 0.1173051\ttotal: 584ms\tremaining: 584ms\n",
      "500:\tlearn: 0.1170662\ttotal: 585ms\tremaining: 583ms\n",
      "501:\tlearn: 0.1167611\ttotal: 586ms\tremaining: 582ms\n",
      "502:\tlearn: 0.1165211\ttotal: 587ms\tremaining: 580ms\n",
      "503:\tlearn: 0.1162754\ttotal: 588ms\tremaining: 579ms\n",
      "504:\tlearn: 0.1160668\ttotal: 589ms\tremaining: 578ms\n",
      "505:\tlearn: 0.1158273\ttotal: 590ms\tremaining: 576ms\n",
      "506:\tlearn: 0.1155903\ttotal: 591ms\tremaining: 575ms\n",
      "507:\tlearn: 0.1153579\ttotal: 592ms\tremaining: 574ms\n",
      "508:\tlearn: 0.1150965\ttotal: 593ms\tremaining: 572ms\n",
      "509:\tlearn: 0.1149322\ttotal: 594ms\tremaining: 571ms\n",
      "510:\tlearn: 0.1146885\ttotal: 596ms\tremaining: 570ms\n",
      "511:\tlearn: 0.1144616\ttotal: 597ms\tremaining: 569ms\n",
      "512:\tlearn: 0.1142568\ttotal: 598ms\tremaining: 568ms\n",
      "513:\tlearn: 0.1141774\ttotal: 599ms\tremaining: 566ms\n",
      "514:\tlearn: 0.1139557\ttotal: 600ms\tremaining: 565ms\n",
      "515:\tlearn: 0.1137412\ttotal: 601ms\tremaining: 564ms\n",
      "516:\tlearn: 0.1135545\ttotal: 602ms\tremaining: 563ms\n",
      "517:\tlearn: 0.1132505\ttotal: 603ms\tremaining: 561ms\n",
      "518:\tlearn: 0.1129048\ttotal: 604ms\tremaining: 560ms\n",
      "519:\tlearn: 0.1128835\ttotal: 605ms\tremaining: 559ms\n",
      "520:\tlearn: 0.1126817\ttotal: 607ms\tremaining: 558ms\n",
      "521:\tlearn: 0.1124101\ttotal: 608ms\tremaining: 556ms\n",
      "522:\tlearn: 0.1121385\ttotal: 609ms\tremaining: 555ms\n",
      "523:\tlearn: 0.1121047\ttotal: 610ms\tremaining: 554ms\n",
      "524:\tlearn: 0.1118042\ttotal: 611ms\tremaining: 553ms\n",
      "525:\tlearn: 0.1116337\ttotal: 612ms\tremaining: 551ms\n",
      "526:\tlearn: 0.1115256\ttotal: 613ms\tremaining: 550ms\n",
      "527:\tlearn: 0.1113426\ttotal: 614ms\tremaining: 549ms\n",
      "528:\tlearn: 0.1110583\ttotal: 615ms\tremaining: 547ms\n",
      "529:\tlearn: 0.1107402\ttotal: 616ms\tremaining: 546ms\n",
      "530:\tlearn: 0.1107185\ttotal: 617ms\tremaining: 545ms\n",
      "531:\tlearn: 0.1105717\ttotal: 618ms\tremaining: 543ms\n",
      "532:\tlearn: 0.1104035\ttotal: 619ms\tremaining: 542ms\n",
      "533:\tlearn: 0.1103851\ttotal: 620ms\tremaining: 541ms\n",
      "534:\tlearn: 0.1101858\ttotal: 621ms\tremaining: 540ms\n",
      "535:\tlearn: 0.1099923\ttotal: 622ms\tremaining: 539ms\n",
      "536:\tlearn: 0.1099802\ttotal: 623ms\tremaining: 537ms\n",
      "537:\tlearn: 0.1098726\ttotal: 624ms\tremaining: 536ms\n",
      "538:\tlearn: 0.1096717\ttotal: 625ms\tremaining: 535ms\n",
      "539:\tlearn: 0.1094569\ttotal: 626ms\tremaining: 533ms\n",
      "540:\tlearn: 0.1092462\ttotal: 627ms\tremaining: 532ms\n",
      "541:\tlearn: 0.1089861\ttotal: 628ms\tremaining: 531ms\n",
      "542:\tlearn: 0.1086955\ttotal: 629ms\tremaining: 530ms\n",
      "543:\tlearn: 0.1084607\ttotal: 630ms\tremaining: 528ms\n",
      "544:\tlearn: 0.1082115\ttotal: 632ms\tremaining: 527ms\n",
      "545:\tlearn: 0.1080832\ttotal: 633ms\tremaining: 526ms\n",
      "546:\tlearn: 0.1078322\ttotal: 634ms\tremaining: 525ms\n",
      "547:\tlearn: 0.1076468\ttotal: 635ms\tremaining: 524ms\n",
      "548:\tlearn: 0.1075663\ttotal: 636ms\tremaining: 522ms\n",
      "549:\tlearn: 0.1073950\ttotal: 637ms\tremaining: 521ms\n",
      "550:\tlearn: 0.1073413\ttotal: 638ms\tremaining: 520ms\n",
      "551:\tlearn: 0.1071575\ttotal: 641ms\tremaining: 520ms\n",
      "552:\tlearn: 0.1069794\ttotal: 642ms\tremaining: 519ms\n",
      "553:\tlearn: 0.1067982\ttotal: 643ms\tremaining: 517ms\n",
      "554:\tlearn: 0.1065527\ttotal: 644ms\tremaining: 516ms\n",
      "555:\tlearn: 0.1063080\ttotal: 645ms\tremaining: 515ms\n",
      "556:\tlearn: 0.1060375\ttotal: 646ms\tremaining: 514ms\n",
      "557:\tlearn: 0.1059193\ttotal: 647ms\tremaining: 513ms\n",
      "558:\tlearn: 0.1056830\ttotal: 648ms\tremaining: 511ms\n",
      "559:\tlearn: 0.1055800\ttotal: 649ms\tremaining: 510ms\n",
      "560:\tlearn: 0.1053653\ttotal: 650ms\tremaining: 509ms\n",
      "561:\tlearn: 0.1052762\ttotal: 651ms\tremaining: 508ms\n",
      "562:\tlearn: 0.1049983\ttotal: 652ms\tremaining: 506ms\n",
      "563:\tlearn: 0.1047702\ttotal: 654ms\tremaining: 505ms\n",
      "564:\tlearn: 0.1045581\ttotal: 655ms\tremaining: 504ms\n",
      "565:\tlearn: 0.1044407\ttotal: 656ms\tremaining: 503ms\n",
      "566:\tlearn: 0.1042322\ttotal: 657ms\tremaining: 501ms\n",
      "567:\tlearn: 0.1040902\ttotal: 658ms\tremaining: 500ms\n",
      "568:\tlearn: 0.1039046\ttotal: 659ms\tremaining: 499ms\n",
      "569:\tlearn: 0.1036942\ttotal: 660ms\tremaining: 498ms\n",
      "570:\tlearn: 0.1034747\ttotal: 661ms\tremaining: 497ms\n",
      "571:\tlearn: 0.1034565\ttotal: 662ms\tremaining: 496ms\n",
      "572:\tlearn: 0.1033713\ttotal: 663ms\tremaining: 494ms\n",
      "573:\tlearn: 0.1032000\ttotal: 664ms\tremaining: 493ms\n",
      "574:\tlearn: 0.1030254\ttotal: 665ms\tremaining: 492ms\n",
      "575:\tlearn: 0.1028605\ttotal: 666ms\tremaining: 490ms\n",
      "576:\tlearn: 0.1026536\ttotal: 667ms\tremaining: 489ms\n",
      "577:\tlearn: 0.1025866\ttotal: 668ms\tremaining: 488ms\n",
      "578:\tlearn: 0.1023516\ttotal: 669ms\tremaining: 487ms\n",
      "579:\tlearn: 0.1021756\ttotal: 670ms\tremaining: 485ms\n",
      "580:\tlearn: 0.1020935\ttotal: 671ms\tremaining: 484ms\n",
      "581:\tlearn: 0.1018928\ttotal: 672ms\tremaining: 483ms\n",
      "582:\tlearn: 0.1016458\ttotal: 673ms\tremaining: 482ms\n",
      "583:\tlearn: 0.1013689\ttotal: 674ms\tremaining: 480ms\n"
     ]
    },
    {
     "name": "stdout",
     "output_type": "stream",
     "text": [
      "584:\tlearn: 0.1012488\ttotal: 675ms\tremaining: 479ms\n",
      "585:\tlearn: 0.1012001\ttotal: 677ms\tremaining: 478ms\n",
      "586:\tlearn: 0.1010348\ttotal: 678ms\tremaining: 477ms\n",
      "587:\tlearn: 0.1010190\ttotal: 679ms\tremaining: 475ms\n",
      "588:\tlearn: 0.1008142\ttotal: 680ms\tremaining: 474ms\n",
      "589:\tlearn: 0.1006167\ttotal: 681ms\tremaining: 473ms\n",
      "590:\tlearn: 0.1005636\ttotal: 682ms\tremaining: 472ms\n",
      "591:\tlearn: 0.1002956\ttotal: 683ms\tremaining: 470ms\n",
      "592:\tlearn: 0.0999562\ttotal: 684ms\tremaining: 469ms\n",
      "593:\tlearn: 0.0997149\ttotal: 685ms\tremaining: 468ms\n",
      "594:\tlearn: 0.0994622\ttotal: 686ms\tremaining: 467ms\n",
      "595:\tlearn: 0.0993195\ttotal: 687ms\tremaining: 465ms\n",
      "596:\tlearn: 0.0991111\ttotal: 688ms\tremaining: 464ms\n",
      "597:\tlearn: 0.0989197\ttotal: 689ms\tremaining: 463ms\n",
      "598:\tlearn: 0.0986823\ttotal: 690ms\tremaining: 462ms\n",
      "599:\tlearn: 0.0985004\ttotal: 691ms\tremaining: 461ms\n",
      "600:\tlearn: 0.0983643\ttotal: 692ms\tremaining: 459ms\n",
      "601:\tlearn: 0.0981859\ttotal: 693ms\tremaining: 458ms\n",
      "602:\tlearn: 0.0979622\ttotal: 694ms\tremaining: 457ms\n",
      "603:\tlearn: 0.0978581\ttotal: 696ms\tremaining: 456ms\n",
      "604:\tlearn: 0.0978473\ttotal: 697ms\tremaining: 455ms\n",
      "605:\tlearn: 0.0976231\ttotal: 698ms\tremaining: 454ms\n",
      "606:\tlearn: 0.0974284\ttotal: 699ms\tremaining: 453ms\n",
      "607:\tlearn: 0.0973264\ttotal: 700ms\tremaining: 452ms\n",
      "608:\tlearn: 0.0972806\ttotal: 701ms\tremaining: 450ms\n",
      "609:\tlearn: 0.0970731\ttotal: 703ms\tremaining: 449ms\n",
      "610:\tlearn: 0.0968825\ttotal: 704ms\tremaining: 448ms\n",
      "611:\tlearn: 0.0966600\ttotal: 705ms\tremaining: 447ms\n",
      "612:\tlearn: 0.0964673\ttotal: 706ms\tremaining: 445ms\n",
      "613:\tlearn: 0.0963736\ttotal: 707ms\tremaining: 444ms\n",
      "614:\tlearn: 0.0963207\ttotal: 708ms\tremaining: 443ms\n",
      "615:\tlearn: 0.0961521\ttotal: 709ms\tremaining: 442ms\n",
      "616:\tlearn: 0.0960013\ttotal: 710ms\tremaining: 441ms\n",
      "617:\tlearn: 0.0958269\ttotal: 711ms\tremaining: 439ms\n",
      "618:\tlearn: 0.0957104\ttotal: 712ms\tremaining: 438ms\n",
      "619:\tlearn: 0.0954550\ttotal: 713ms\tremaining: 437ms\n",
      "620:\tlearn: 0.0952434\ttotal: 714ms\tremaining: 436ms\n",
      "621:\tlearn: 0.0950387\ttotal: 715ms\tremaining: 435ms\n",
      "622:\tlearn: 0.0949768\ttotal: 716ms\tremaining: 433ms\n",
      "623:\tlearn: 0.0948138\ttotal: 717ms\tremaining: 432ms\n",
      "624:\tlearn: 0.0947198\ttotal: 718ms\tremaining: 431ms\n",
      "625:\tlearn: 0.0946056\ttotal: 719ms\tremaining: 430ms\n",
      "626:\tlearn: 0.0944282\ttotal: 720ms\tremaining: 429ms\n",
      "627:\tlearn: 0.0942554\ttotal: 721ms\tremaining: 427ms\n",
      "628:\tlearn: 0.0940791\ttotal: 722ms\tremaining: 426ms\n",
      "629:\tlearn: 0.0939487\ttotal: 724ms\tremaining: 425ms\n",
      "630:\tlearn: 0.0938358\ttotal: 725ms\tremaining: 424ms\n",
      "631:\tlearn: 0.0937272\ttotal: 726ms\tremaining: 423ms\n",
      "632:\tlearn: 0.0935544\ttotal: 727ms\tremaining: 421ms\n",
      "633:\tlearn: 0.0933308\ttotal: 728ms\tremaining: 420ms\n",
      "634:\tlearn: 0.0931441\ttotal: 729ms\tremaining: 419ms\n",
      "635:\tlearn: 0.0930185\ttotal: 730ms\tremaining: 418ms\n",
      "636:\tlearn: 0.0929996\ttotal: 731ms\tremaining: 417ms\n",
      "637:\tlearn: 0.0928973\ttotal: 732ms\tremaining: 415ms\n",
      "638:\tlearn: 0.0927272\ttotal: 733ms\tremaining: 414ms\n",
      "639:\tlearn: 0.0925876\ttotal: 734ms\tremaining: 413ms\n",
      "640:\tlearn: 0.0925386\ttotal: 735ms\tremaining: 412ms\n",
      "641:\tlearn: 0.0925237\ttotal: 736ms\tremaining: 410ms\n",
      "642:\tlearn: 0.0923764\ttotal: 737ms\tremaining: 409ms\n",
      "643:\tlearn: 0.0921872\ttotal: 738ms\tremaining: 408ms\n",
      "644:\tlearn: 0.0919791\ttotal: 739ms\tremaining: 407ms\n",
      "645:\tlearn: 0.0918395\ttotal: 740ms\tremaining: 406ms\n",
      "646:\tlearn: 0.0916234\ttotal: 741ms\tremaining: 405ms\n",
      "647:\tlearn: 0.0914990\ttotal: 743ms\tremaining: 403ms\n",
      "648:\tlearn: 0.0912339\ttotal: 744ms\tremaining: 402ms\n",
      "649:\tlearn: 0.0912182\ttotal: 744ms\tremaining: 401ms\n",
      "650:\tlearn: 0.0911173\ttotal: 746ms\tremaining: 400ms\n",
      "651:\tlearn: 0.0908983\ttotal: 747ms\tremaining: 399ms\n",
      "652:\tlearn: 0.0908647\ttotal: 748ms\tremaining: 397ms\n",
      "653:\tlearn: 0.0907899\ttotal: 749ms\tremaining: 396ms\n",
      "654:\tlearn: 0.0905682\ttotal: 750ms\tremaining: 395ms\n",
      "655:\tlearn: 0.0904118\ttotal: 751ms\tremaining: 394ms\n",
      "656:\tlearn: 0.0903022\ttotal: 752ms\tremaining: 392ms\n",
      "657:\tlearn: 0.0900783\ttotal: 753ms\tremaining: 391ms\n",
      "658:\tlearn: 0.0899696\ttotal: 754ms\tremaining: 390ms\n",
      "659:\tlearn: 0.0898013\ttotal: 755ms\tremaining: 389ms\n",
      "660:\tlearn: 0.0896390\ttotal: 756ms\tremaining: 388ms\n",
      "661:\tlearn: 0.0894109\ttotal: 757ms\tremaining: 386ms\n",
      "662:\tlearn: 0.0893513\ttotal: 758ms\tremaining: 385ms\n",
      "663:\tlearn: 0.0892972\ttotal: 759ms\tremaining: 384ms\n",
      "664:\tlearn: 0.0892525\ttotal: 760ms\tremaining: 383ms\n",
      "665:\tlearn: 0.0890606\ttotal: 761ms\tremaining: 382ms\n",
      "666:\tlearn: 0.0888271\ttotal: 762ms\tremaining: 380ms\n",
      "667:\tlearn: 0.0886890\ttotal: 763ms\tremaining: 379ms\n",
      "668:\tlearn: 0.0886456\ttotal: 764ms\tremaining: 378ms\n",
      "669:\tlearn: 0.0884363\ttotal: 765ms\tremaining: 377ms\n",
      "670:\tlearn: 0.0882542\ttotal: 766ms\tremaining: 376ms\n",
      "671:\tlearn: 0.0880732\ttotal: 768ms\tremaining: 375ms\n",
      "672:\tlearn: 0.0878809\ttotal: 769ms\tremaining: 374ms\n",
      "673:\tlearn: 0.0878721\ttotal: 770ms\tremaining: 373ms\n",
      "674:\tlearn: 0.0876678\ttotal: 771ms\tremaining: 371ms\n",
      "675:\tlearn: 0.0876083\ttotal: 772ms\tremaining: 370ms\n",
      "676:\tlearn: 0.0874618\ttotal: 773ms\tremaining: 369ms\n",
      "677:\tlearn: 0.0874095\ttotal: 775ms\tremaining: 368ms\n",
      "678:\tlearn: 0.0873243\ttotal: 776ms\tremaining: 367ms\n",
      "679:\tlearn: 0.0872184\ttotal: 777ms\tremaining: 366ms\n",
      "680:\tlearn: 0.0871650\ttotal: 778ms\tremaining: 364ms\n",
      "681:\tlearn: 0.0870542\ttotal: 779ms\tremaining: 363ms\n",
      "682:\tlearn: 0.0870133\ttotal: 780ms\tremaining: 362ms\n",
      "683:\tlearn: 0.0869473\ttotal: 781ms\tremaining: 361ms\n",
      "684:\tlearn: 0.0868149\ttotal: 782ms\tremaining: 360ms\n",
      "685:\tlearn: 0.0866139\ttotal: 783ms\tremaining: 358ms\n",
      "686:\tlearn: 0.0865342\ttotal: 784ms\tremaining: 357ms\n",
      "687:\tlearn: 0.0863223\ttotal: 785ms\tremaining: 356ms\n",
      "688:\tlearn: 0.0862032\ttotal: 786ms\tremaining: 355ms\n",
      "689:\tlearn: 0.0859410\ttotal: 787ms\tremaining: 354ms\n",
      "690:\tlearn: 0.0859295\ttotal: 788ms\tremaining: 352ms\n",
      "691:\tlearn: 0.0859175\ttotal: 789ms\tremaining: 351ms\n",
      "692:\tlearn: 0.0857999\ttotal: 790ms\tremaining: 350ms\n",
      "693:\tlearn: 0.0856685\ttotal: 791ms\tremaining: 349ms\n",
      "694:\tlearn: 0.0855081\ttotal: 792ms\tremaining: 348ms\n",
      "695:\tlearn: 0.0854261\ttotal: 794ms\tremaining: 347ms\n",
      "696:\tlearn: 0.0852974\ttotal: 795ms\tremaining: 346ms\n",
      "697:\tlearn: 0.0851970\ttotal: 796ms\tremaining: 344ms\n",
      "698:\tlearn: 0.0851540\ttotal: 797ms\tremaining: 343ms\n",
      "699:\tlearn: 0.0851465\ttotal: 798ms\tremaining: 342ms\n",
      "700:\tlearn: 0.0849829\ttotal: 799ms\tremaining: 341ms\n",
      "701:\tlearn: 0.0849404\ttotal: 800ms\tremaining: 340ms\n",
      "702:\tlearn: 0.0847854\ttotal: 801ms\tremaining: 338ms\n",
      "703:\tlearn: 0.0846403\ttotal: 802ms\tremaining: 337ms\n",
      "704:\tlearn: 0.0844628\ttotal: 803ms\tremaining: 336ms\n",
      "705:\tlearn: 0.0843714\ttotal: 804ms\tremaining: 335ms\n",
      "706:\tlearn: 0.0841676\ttotal: 805ms\tremaining: 334ms\n",
      "707:\tlearn: 0.0839825\ttotal: 806ms\tremaining: 332ms\n",
      "708:\tlearn: 0.0838220\ttotal: 807ms\tremaining: 331ms\n"
     ]
    },
    {
     "name": "stdout",
     "output_type": "stream",
     "text": [
      "709:\tlearn: 0.0836117\ttotal: 810ms\tremaining: 331ms\n",
      "710:\tlearn: 0.0834250\ttotal: 811ms\tremaining: 330ms\n",
      "711:\tlearn: 0.0832861\ttotal: 812ms\tremaining: 329ms\n",
      "712:\tlearn: 0.0831456\ttotal: 813ms\tremaining: 327ms\n",
      "713:\tlearn: 0.0830028\ttotal: 814ms\tremaining: 326ms\n",
      "714:\tlearn: 0.0828871\ttotal: 815ms\tremaining: 325ms\n",
      "715:\tlearn: 0.0828391\ttotal: 816ms\tremaining: 324ms\n",
      "716:\tlearn: 0.0827691\ttotal: 817ms\tremaining: 323ms\n",
      "717:\tlearn: 0.0826259\ttotal: 818ms\tremaining: 321ms\n",
      "718:\tlearn: 0.0825620\ttotal: 819ms\tremaining: 320ms\n",
      "719:\tlearn: 0.0824188\ttotal: 820ms\tremaining: 319ms\n",
      "720:\tlearn: 0.0823551\ttotal: 821ms\tremaining: 318ms\n",
      "721:\tlearn: 0.0822626\ttotal: 822ms\tremaining: 317ms\n",
      "722:\tlearn: 0.0822484\ttotal: 823ms\tremaining: 315ms\n",
      "723:\tlearn: 0.0821813\ttotal: 824ms\tremaining: 314ms\n",
      "724:\tlearn: 0.0820044\ttotal: 825ms\tremaining: 313ms\n",
      "725:\tlearn: 0.0818334\ttotal: 826ms\tremaining: 312ms\n",
      "726:\tlearn: 0.0816586\ttotal: 827ms\tremaining: 311ms\n",
      "727:\tlearn: 0.0815952\ttotal: 828ms\tremaining: 309ms\n",
      "728:\tlearn: 0.0814915\ttotal: 829ms\tremaining: 308ms\n",
      "729:\tlearn: 0.0814582\ttotal: 830ms\tremaining: 307ms\n",
      "730:\tlearn: 0.0813567\ttotal: 831ms\tremaining: 306ms\n",
      "731:\tlearn: 0.0812329\ttotal: 832ms\tremaining: 305ms\n",
      "732:\tlearn: 0.0811120\ttotal: 833ms\tremaining: 303ms\n",
      "733:\tlearn: 0.0810193\ttotal: 834ms\tremaining: 302ms\n",
      "734:\tlearn: 0.0809217\ttotal: 836ms\tremaining: 301ms\n",
      "735:\tlearn: 0.0808990\ttotal: 836ms\tremaining: 300ms\n",
      "736:\tlearn: 0.0807816\ttotal: 837ms\tremaining: 299ms\n",
      "737:\tlearn: 0.0805976\ttotal: 838ms\tremaining: 298ms\n",
      "738:\tlearn: 0.0804529\ttotal: 839ms\tremaining: 296ms\n",
      "739:\tlearn: 0.0802748\ttotal: 841ms\tremaining: 295ms\n",
      "740:\tlearn: 0.0802090\ttotal: 842ms\tremaining: 294ms\n",
      "741:\tlearn: 0.0799389\ttotal: 843ms\tremaining: 293ms\n",
      "742:\tlearn: 0.0797796\ttotal: 843ms\tremaining: 292ms\n",
      "743:\tlearn: 0.0797673\ttotal: 845ms\tremaining: 291ms\n",
      "744:\tlearn: 0.0797571\ttotal: 845ms\tremaining: 289ms\n",
      "745:\tlearn: 0.0796711\ttotal: 847ms\tremaining: 288ms\n",
      "746:\tlearn: 0.0794948\ttotal: 848ms\tremaining: 287ms\n",
      "747:\tlearn: 0.0793674\ttotal: 849ms\tremaining: 286ms\n",
      "748:\tlearn: 0.0792502\ttotal: 850ms\tremaining: 285ms\n",
      "749:\tlearn: 0.0791181\ttotal: 851ms\tremaining: 284ms\n",
      "750:\tlearn: 0.0790027\ttotal: 852ms\tremaining: 282ms\n",
      "751:\tlearn: 0.0788173\ttotal: 853ms\tremaining: 281ms\n",
      "752:\tlearn: 0.0786892\ttotal: 854ms\tremaining: 280ms\n",
      "753:\tlearn: 0.0785847\ttotal: 855ms\tremaining: 279ms\n",
      "754:\tlearn: 0.0785451\ttotal: 856ms\tremaining: 278ms\n",
      "755:\tlearn: 0.0784774\ttotal: 857ms\tremaining: 276ms\n",
      "756:\tlearn: 0.0784147\ttotal: 858ms\tremaining: 275ms\n",
      "757:\tlearn: 0.0783165\ttotal: 859ms\tremaining: 274ms\n",
      "758:\tlearn: 0.0781645\ttotal: 860ms\tremaining: 273ms\n",
      "759:\tlearn: 0.0780841\ttotal: 861ms\tremaining: 272ms\n",
      "760:\tlearn: 0.0779594\ttotal: 862ms\tremaining: 271ms\n",
      "761:\tlearn: 0.0779213\ttotal: 863ms\tremaining: 270ms\n",
      "762:\tlearn: 0.0777241\ttotal: 864ms\tremaining: 268ms\n",
      "763:\tlearn: 0.0775177\ttotal: 865ms\tremaining: 267ms\n",
      "764:\tlearn: 0.0774801\ttotal: 866ms\tremaining: 266ms\n",
      "765:\tlearn: 0.0773053\ttotal: 867ms\tremaining: 265ms\n",
      "766:\tlearn: 0.0771237\ttotal: 868ms\tremaining: 264ms\n",
      "767:\tlearn: 0.0769288\ttotal: 869ms\tremaining: 263ms\n",
      "768:\tlearn: 0.0769148\ttotal: 870ms\tremaining: 261ms\n",
      "769:\tlearn: 0.0767210\ttotal: 871ms\tremaining: 260ms\n",
      "770:\tlearn: 0.0765688\ttotal: 872ms\tremaining: 259ms\n",
      "771:\tlearn: 0.0764300\ttotal: 873ms\tremaining: 258ms\n",
      "772:\tlearn: 0.0762726\ttotal: 874ms\tremaining: 257ms\n",
      "773:\tlearn: 0.0760824\ttotal: 875ms\tremaining: 256ms\n",
      "774:\tlearn: 0.0759454\ttotal: 876ms\tremaining: 254ms\n",
      "775:\tlearn: 0.0758092\ttotal: 877ms\tremaining: 253ms\n",
      "776:\tlearn: 0.0756166\ttotal: 878ms\tremaining: 252ms\n",
      "777:\tlearn: 0.0754700\ttotal: 879ms\tremaining: 251ms\n",
      "778:\tlearn: 0.0754194\ttotal: 880ms\tremaining: 250ms\n",
      "779:\tlearn: 0.0753702\ttotal: 882ms\tremaining: 249ms\n",
      "780:\tlearn: 0.0752252\ttotal: 883ms\tremaining: 247ms\n",
      "781:\tlearn: 0.0751448\ttotal: 884ms\tremaining: 246ms\n",
      "782:\tlearn: 0.0750844\ttotal: 885ms\tremaining: 245ms\n",
      "783:\tlearn: 0.0749603\ttotal: 886ms\tremaining: 244ms\n",
      "784:\tlearn: 0.0748254\ttotal: 887ms\tremaining: 243ms\n",
      "785:\tlearn: 0.0747853\ttotal: 888ms\tremaining: 242ms\n",
      "786:\tlearn: 0.0746567\ttotal: 889ms\tremaining: 241ms\n",
      "787:\tlearn: 0.0744999\ttotal: 890ms\tremaining: 239ms\n",
      "788:\tlearn: 0.0743962\ttotal: 891ms\tremaining: 238ms\n",
      "789:\tlearn: 0.0742899\ttotal: 892ms\tremaining: 237ms\n",
      "790:\tlearn: 0.0742019\ttotal: 893ms\tremaining: 236ms\n",
      "791:\tlearn: 0.0741179\ttotal: 894ms\tremaining: 235ms\n",
      "792:\tlearn: 0.0740280\ttotal: 895ms\tremaining: 234ms\n",
      "793:\tlearn: 0.0739820\ttotal: 896ms\tremaining: 233ms\n",
      "794:\tlearn: 0.0737579\ttotal: 897ms\tremaining: 231ms\n",
      "795:\tlearn: 0.0736942\ttotal: 898ms\tremaining: 230ms\n",
      "796:\tlearn: 0.0736407\ttotal: 899ms\tremaining: 229ms\n",
      "797:\tlearn: 0.0735338\ttotal: 901ms\tremaining: 228ms\n",
      "798:\tlearn: 0.0733768\ttotal: 902ms\tremaining: 227ms\n",
      "799:\tlearn: 0.0733403\ttotal: 903ms\tremaining: 226ms\n",
      "800:\tlearn: 0.0733135\ttotal: 904ms\tremaining: 225ms\n",
      "801:\tlearn: 0.0731420\ttotal: 905ms\tremaining: 223ms\n",
      "802:\tlearn: 0.0730049\ttotal: 906ms\tremaining: 222ms\n",
      "803:\tlearn: 0.0728422\ttotal: 907ms\tremaining: 221ms\n",
      "804:\tlearn: 0.0727054\ttotal: 908ms\tremaining: 220ms\n",
      "805:\tlearn: 0.0726011\ttotal: 909ms\tremaining: 219ms\n",
      "806:\tlearn: 0.0724286\ttotal: 910ms\tremaining: 218ms\n",
      "807:\tlearn: 0.0723518\ttotal: 911ms\tremaining: 217ms\n",
      "808:\tlearn: 0.0722889\ttotal: 912ms\tremaining: 215ms\n",
      "809:\tlearn: 0.0721380\ttotal: 913ms\tremaining: 214ms\n",
      "810:\tlearn: 0.0719424\ttotal: 914ms\tremaining: 213ms\n",
      "811:\tlearn: 0.0718478\ttotal: 915ms\tremaining: 212ms\n",
      "812:\tlearn: 0.0716721\ttotal: 916ms\tremaining: 211ms\n",
      "813:\tlearn: 0.0715863\ttotal: 917ms\tremaining: 210ms\n",
      "814:\tlearn: 0.0715430\ttotal: 918ms\tremaining: 208ms\n",
      "815:\tlearn: 0.0714922\ttotal: 919ms\tremaining: 207ms\n",
      "816:\tlearn: 0.0714223\ttotal: 920ms\tremaining: 206ms\n",
      "817:\tlearn: 0.0713068\ttotal: 921ms\tremaining: 205ms\n",
      "818:\tlearn: 0.0712189\ttotal: 922ms\tremaining: 204ms\n",
      "819:\tlearn: 0.0710881\ttotal: 923ms\tremaining: 203ms\n",
      "820:\tlearn: 0.0710245\ttotal: 924ms\tremaining: 202ms\n",
      "821:\tlearn: 0.0709714\ttotal: 925ms\tremaining: 200ms\n",
      "822:\tlearn: 0.0709608\ttotal: 926ms\tremaining: 199ms\n",
      "823:\tlearn: 0.0708244\ttotal: 927ms\tremaining: 198ms\n",
      "824:\tlearn: 0.0707733\ttotal: 928ms\tremaining: 197ms\n",
      "825:\tlearn: 0.0706697\ttotal: 929ms\tremaining: 196ms\n",
      "826:\tlearn: 0.0705464\ttotal: 930ms\tremaining: 195ms\n",
      "827:\tlearn: 0.0703829\ttotal: 932ms\tremaining: 194ms\n",
      "828:\tlearn: 0.0702352\ttotal: 933ms\tremaining: 192ms\n",
      "829:\tlearn: 0.0700437\ttotal: 934ms\tremaining: 191ms\n",
      "830:\tlearn: 0.0699066\ttotal: 935ms\tremaining: 190ms\n",
      "831:\tlearn: 0.0697727\ttotal: 936ms\tremaining: 189ms\n",
      "832:\tlearn: 0.0696966\ttotal: 937ms\tremaining: 188ms\n",
      "833:\tlearn: 0.0696413\ttotal: 938ms\tremaining: 187ms\n",
      "834:\tlearn: 0.0695349\ttotal: 939ms\tremaining: 186ms\n"
     ]
    },
    {
     "name": "stdout",
     "output_type": "stream",
     "text": [
      "835:\tlearn: 0.0694087\ttotal: 940ms\tremaining: 184ms\n",
      "836:\tlearn: 0.0692869\ttotal: 941ms\tremaining: 183ms\n",
      "837:\tlearn: 0.0691922\ttotal: 942ms\tremaining: 182ms\n",
      "838:\tlearn: 0.0690176\ttotal: 943ms\tremaining: 181ms\n",
      "839:\tlearn: 0.0688621\ttotal: 944ms\tremaining: 180ms\n",
      "840:\tlearn: 0.0688312\ttotal: 945ms\tremaining: 179ms\n",
      "841:\tlearn: 0.0686887\ttotal: 946ms\tremaining: 178ms\n",
      "842:\tlearn: 0.0685235\ttotal: 947ms\tremaining: 176ms\n",
      "843:\tlearn: 0.0684362\ttotal: 949ms\tremaining: 175ms\n",
      "844:\tlearn: 0.0683159\ttotal: 950ms\tremaining: 174ms\n",
      "845:\tlearn: 0.0682060\ttotal: 951ms\tremaining: 173ms\n",
      "846:\tlearn: 0.0681519\ttotal: 952ms\tremaining: 172ms\n",
      "847:\tlearn: 0.0681147\ttotal: 953ms\tremaining: 171ms\n",
      "848:\tlearn: 0.0679654\ttotal: 954ms\tremaining: 170ms\n",
      "849:\tlearn: 0.0678298\ttotal: 955ms\tremaining: 168ms\n",
      "850:\tlearn: 0.0677078\ttotal: 956ms\tremaining: 167ms\n",
      "851:\tlearn: 0.0676207\ttotal: 956ms\tremaining: 166ms\n",
      "852:\tlearn: 0.0674765\ttotal: 957ms\tremaining: 165ms\n",
      "853:\tlearn: 0.0674160\ttotal: 958ms\tremaining: 164ms\n",
      "854:\tlearn: 0.0673352\ttotal: 959ms\tremaining: 163ms\n",
      "855:\tlearn: 0.0672638\ttotal: 960ms\tremaining: 162ms\n",
      "856:\tlearn: 0.0671801\ttotal: 961ms\tremaining: 160ms\n",
      "857:\tlearn: 0.0670094\ttotal: 962ms\tremaining: 159ms\n",
      "858:\tlearn: 0.0668660\ttotal: 964ms\tremaining: 158ms\n",
      "859:\tlearn: 0.0667940\ttotal: 965ms\tremaining: 157ms\n",
      "860:\tlearn: 0.0667523\ttotal: 966ms\tremaining: 156ms\n",
      "861:\tlearn: 0.0666406\ttotal: 967ms\tremaining: 155ms\n",
      "862:\tlearn: 0.0665032\ttotal: 968ms\tremaining: 154ms\n",
      "863:\tlearn: 0.0663696\ttotal: 969ms\tremaining: 152ms\n",
      "864:\tlearn: 0.0662605\ttotal: 970ms\tremaining: 151ms\n",
      "865:\tlearn: 0.0661314\ttotal: 971ms\tremaining: 150ms\n",
      "866:\tlearn: 0.0659916\ttotal: 972ms\tremaining: 149ms\n",
      "867:\tlearn: 0.0658892\ttotal: 973ms\tremaining: 148ms\n",
      "868:\tlearn: 0.0658806\ttotal: 974ms\tremaining: 147ms\n",
      "869:\tlearn: 0.0657991\ttotal: 975ms\tremaining: 146ms\n",
      "870:\tlearn: 0.0656242\ttotal: 976ms\tremaining: 145ms\n",
      "871:\tlearn: 0.0655338\ttotal: 977ms\tremaining: 143ms\n",
      "872:\tlearn: 0.0654280\ttotal: 978ms\tremaining: 142ms\n",
      "873:\tlearn: 0.0653902\ttotal: 979ms\tremaining: 141ms\n",
      "874:\tlearn: 0.0652599\ttotal: 980ms\tremaining: 140ms\n",
      "875:\tlearn: 0.0652500\ttotal: 981ms\tremaining: 139ms\n",
      "876:\tlearn: 0.0651529\ttotal: 982ms\tremaining: 138ms\n",
      "877:\tlearn: 0.0650607\ttotal: 983ms\tremaining: 137ms\n",
      "878:\tlearn: 0.0649634\ttotal: 984ms\tremaining: 135ms\n",
      "879:\tlearn: 0.0648690\ttotal: 985ms\tremaining: 134ms\n",
      "880:\tlearn: 0.0647540\ttotal: 986ms\tremaining: 133ms\n",
      "881:\tlearn: 0.0646877\ttotal: 987ms\tremaining: 132ms\n",
      "882:\tlearn: 0.0646267\ttotal: 988ms\tremaining: 131ms\n",
      "883:\tlearn: 0.0645594\ttotal: 990ms\tremaining: 130ms\n",
      "884:\tlearn: 0.0644593\ttotal: 991ms\tremaining: 129ms\n",
      "885:\tlearn: 0.0643828\ttotal: 992ms\tremaining: 128ms\n",
      "886:\tlearn: 0.0643039\ttotal: 993ms\tremaining: 127ms\n",
      "887:\tlearn: 0.0642138\ttotal: 994ms\tremaining: 125ms\n",
      "888:\tlearn: 0.0640491\ttotal: 995ms\tremaining: 124ms\n",
      "889:\tlearn: 0.0640033\ttotal: 996ms\tremaining: 123ms\n",
      "890:\tlearn: 0.0638501\ttotal: 997ms\tremaining: 122ms\n",
      "891:\tlearn: 0.0637511\ttotal: 998ms\tremaining: 121ms\n",
      "892:\tlearn: 0.0636036\ttotal: 1000ms\tremaining: 120ms\n",
      "893:\tlearn: 0.0634589\ttotal: 1s\tremaining: 119ms\n",
      "894:\tlearn: 0.0633939\ttotal: 1s\tremaining: 118ms\n",
      "895:\tlearn: 0.0632759\ttotal: 1s\tremaining: 116ms\n",
      "896:\tlearn: 0.0631663\ttotal: 1s\tremaining: 115ms\n",
      "897:\tlearn: 0.0630722\ttotal: 1s\tremaining: 114ms\n",
      "898:\tlearn: 0.0630151\ttotal: 1.01s\tremaining: 113ms\n",
      "899:\tlearn: 0.0629103\ttotal: 1.01s\tremaining: 112ms\n",
      "900:\tlearn: 0.0628142\ttotal: 1.01s\tremaining: 111ms\n",
      "901:\tlearn: 0.0627468\ttotal: 1.01s\tremaining: 110ms\n",
      "902:\tlearn: 0.0626034\ttotal: 1.01s\tremaining: 109ms\n",
      "903:\tlearn: 0.0624672\ttotal: 1.01s\tremaining: 107ms\n",
      "904:\tlearn: 0.0623868\ttotal: 1.01s\tremaining: 106ms\n",
      "905:\tlearn: 0.0623004\ttotal: 1.01s\tremaining: 105ms\n",
      "906:\tlearn: 0.0622715\ttotal: 1.01s\tremaining: 104ms\n",
      "907:\tlearn: 0.0621436\ttotal: 1.02s\tremaining: 103ms\n",
      "908:\tlearn: 0.0620973\ttotal: 1.02s\tremaining: 102ms\n",
      "909:\tlearn: 0.0620341\ttotal: 1.02s\tremaining: 101ms\n",
      "910:\tlearn: 0.0619879\ttotal: 1.02s\tremaining: 99.7ms\n",
      "911:\tlearn: 0.0618737\ttotal: 1.02s\tremaining: 98.5ms\n",
      "912:\tlearn: 0.0617739\ttotal: 1.02s\tremaining: 97.4ms\n",
      "913:\tlearn: 0.0616268\ttotal: 1.02s\tremaining: 96.3ms\n",
      "914:\tlearn: 0.0615334\ttotal: 1.02s\tremaining: 95.1ms\n",
      "915:\tlearn: 0.0614775\ttotal: 1.02s\tremaining: 94ms\n",
      "916:\tlearn: 0.0612863\ttotal: 1.02s\tremaining: 92.9ms\n",
      "917:\tlearn: 0.0612256\ttotal: 1.03s\tremaining: 91.7ms\n",
      "918:\tlearn: 0.0610832\ttotal: 1.03s\tremaining: 90.6ms\n",
      "919:\tlearn: 0.0610126\ttotal: 1.03s\tremaining: 89.5ms\n",
      "920:\tlearn: 0.0609528\ttotal: 1.03s\tremaining: 88.4ms\n",
      "921:\tlearn: 0.0609430\ttotal: 1.03s\tremaining: 87.3ms\n",
      "922:\tlearn: 0.0607591\ttotal: 1.03s\tremaining: 86.2ms\n",
      "923:\tlearn: 0.0606743\ttotal: 1.03s\tremaining: 85ms\n",
      "924:\tlearn: 0.0605357\ttotal: 1.03s\tremaining: 83.9ms\n",
      "925:\tlearn: 0.0604025\ttotal: 1.04s\tremaining: 82.8ms\n",
      "926:\tlearn: 0.0603239\ttotal: 1.04s\tremaining: 81.7ms\n",
      "927:\tlearn: 0.0602593\ttotal: 1.04s\tremaining: 80.5ms\n",
      "928:\tlearn: 0.0601664\ttotal: 1.04s\tremaining: 79.4ms\n",
      "929:\tlearn: 0.0600794\ttotal: 1.04s\tremaining: 78.3ms\n",
      "930:\tlearn: 0.0600530\ttotal: 1.04s\tremaining: 77.2ms\n",
      "931:\tlearn: 0.0599747\ttotal: 1.04s\tremaining: 76ms\n",
      "932:\tlearn: 0.0598898\ttotal: 1.04s\tremaining: 74.9ms\n",
      "933:\tlearn: 0.0597917\ttotal: 1.04s\tremaining: 73.8ms\n",
      "934:\tlearn: 0.0596724\ttotal: 1.04s\tremaining: 72.7ms\n",
      "935:\tlearn: 0.0595855\ttotal: 1.05s\tremaining: 71.5ms\n",
      "936:\tlearn: 0.0594823\ttotal: 1.05s\tremaining: 70.4ms\n",
      "937:\tlearn: 0.0594060\ttotal: 1.05s\tremaining: 69.3ms\n",
      "938:\tlearn: 0.0593256\ttotal: 1.05s\tremaining: 68.2ms\n",
      "939:\tlearn: 0.0592481\ttotal: 1.05s\tremaining: 67ms\n",
      "940:\tlearn: 0.0592059\ttotal: 1.05s\tremaining: 65.9ms\n",
      "941:\tlearn: 0.0591965\ttotal: 1.05s\tremaining: 64.8ms\n",
      "942:\tlearn: 0.0591002\ttotal: 1.05s\tremaining: 63.7ms\n",
      "943:\tlearn: 0.0589639\ttotal: 1.05s\tremaining: 62.5ms\n",
      "944:\tlearn: 0.0588971\ttotal: 1.05s\tremaining: 61.4ms\n",
      "945:\tlearn: 0.0588670\ttotal: 1.06s\tremaining: 60.3ms\n",
      "946:\tlearn: 0.0587971\ttotal: 1.06s\tremaining: 59.2ms\n",
      "947:\tlearn: 0.0587217\ttotal: 1.06s\tremaining: 58ms\n",
      "948:\tlearn: 0.0586679\ttotal: 1.06s\tremaining: 56.9ms\n",
      "949:\tlearn: 0.0586079\ttotal: 1.06s\tremaining: 55.8ms\n",
      "950:\tlearn: 0.0585281\ttotal: 1.06s\tremaining: 54.7ms\n",
      "951:\tlearn: 0.0584538\ttotal: 1.06s\tremaining: 53.5ms\n",
      "952:\tlearn: 0.0583704\ttotal: 1.06s\tremaining: 52.4ms\n",
      "953:\tlearn: 0.0582368\ttotal: 1.06s\tremaining: 51.3ms\n",
      "954:\tlearn: 0.0581528\ttotal: 1.06s\tremaining: 50.2ms\n",
      "955:\tlearn: 0.0581425\ttotal: 1.07s\tremaining: 49.1ms\n",
      "956:\tlearn: 0.0580602\ttotal: 1.07s\tremaining: 48ms\n",
      "957:\tlearn: 0.0580067\ttotal: 1.07s\tremaining: 46.8ms\n",
      "958:\tlearn: 0.0579337\ttotal: 1.07s\tremaining: 45.7ms\n",
      "959:\tlearn: 0.0579260\ttotal: 1.07s\tremaining: 44.6ms\n",
      "960:\tlearn: 0.0578421\ttotal: 1.07s\tremaining: 43.5ms\n",
      "961:\tlearn: 0.0578094\ttotal: 1.07s\tremaining: 42.4ms\n",
      "962:\tlearn: 0.0577743\ttotal: 1.07s\tremaining: 41.2ms\n"
     ]
    },
    {
     "name": "stdout",
     "output_type": "stream",
     "text": [
      "963:\tlearn: 0.0576957\ttotal: 1.07s\tremaining: 40.1ms\n",
      "964:\tlearn: 0.0576130\ttotal: 1.08s\tremaining: 39ms\n",
      "965:\tlearn: 0.0575324\ttotal: 1.08s\tremaining: 37.9ms\n",
      "966:\tlearn: 0.0574357\ttotal: 1.08s\tremaining: 36.8ms\n",
      "967:\tlearn: 0.0572999\ttotal: 1.08s\tremaining: 35.7ms\n",
      "968:\tlearn: 0.0572200\ttotal: 1.08s\tremaining: 34.6ms\n",
      "969:\tlearn: 0.0571891\ttotal: 1.08s\tremaining: 33.4ms\n",
      "970:\tlearn: 0.0571137\ttotal: 1.08s\tremaining: 32.3ms\n",
      "971:\tlearn: 0.0569449\ttotal: 1.08s\tremaining: 31.2ms\n",
      "972:\tlearn: 0.0568786\ttotal: 1.08s\tremaining: 30.1ms\n",
      "973:\tlearn: 0.0567953\ttotal: 1.08s\tremaining: 29ms\n",
      "974:\tlearn: 0.0566882\ttotal: 1.09s\tremaining: 27.9ms\n",
      "975:\tlearn: 0.0566170\ttotal: 1.09s\tremaining: 26.7ms\n",
      "976:\tlearn: 0.0565619\ttotal: 1.09s\tremaining: 25.6ms\n",
      "977:\tlearn: 0.0564497\ttotal: 1.09s\tremaining: 24.5ms\n",
      "978:\tlearn: 0.0563564\ttotal: 1.09s\tremaining: 23.4ms\n",
      "979:\tlearn: 0.0562693\ttotal: 1.09s\tremaining: 22.3ms\n",
      "980:\tlearn: 0.0562386\ttotal: 1.09s\tremaining: 21.2ms\n",
      "981:\tlearn: 0.0561758\ttotal: 1.09s\tremaining: 20ms\n",
      "982:\tlearn: 0.0560876\ttotal: 1.09s\tremaining: 18.9ms\n",
      "983:\tlearn: 0.0560311\ttotal: 1.09s\tremaining: 17.8ms\n",
      "984:\tlearn: 0.0559893\ttotal: 1.1s\tremaining: 16.7ms\n",
      "985:\tlearn: 0.0559536\ttotal: 1.1s\tremaining: 15.6ms\n",
      "986:\tlearn: 0.0559254\ttotal: 1.1s\tremaining: 14.5ms\n",
      "987:\tlearn: 0.0558137\ttotal: 1.1s\tremaining: 13.4ms\n",
      "988:\tlearn: 0.0557237\ttotal: 1.1s\tremaining: 12.2ms\n",
      "989:\tlearn: 0.0556423\ttotal: 1.1s\tremaining: 11.1ms\n",
      "990:\tlearn: 0.0556042\ttotal: 1.1s\tremaining: 10ms\n",
      "991:\tlearn: 0.0555139\ttotal: 1.1s\tremaining: 8.9ms\n",
      "992:\tlearn: 0.0554502\ttotal: 1.1s\tremaining: 7.79ms\n",
      "993:\tlearn: 0.0553978\ttotal: 1.11s\tremaining: 6.68ms\n",
      "994:\tlearn: 0.0553764\ttotal: 1.11s\tremaining: 5.56ms\n",
      "995:\tlearn: 0.0551918\ttotal: 1.11s\tremaining: 4.45ms\n",
      "996:\tlearn: 0.0550595\ttotal: 1.11s\tremaining: 3.34ms\n",
      "997:\tlearn: 0.0549583\ttotal: 1.11s\tremaining: 2.22ms\n",
      "998:\tlearn: 0.0549100\ttotal: 1.11s\tremaining: 1.11ms\n",
      "999:\tlearn: 0.0549042\ttotal: 1.11s\tremaining: 0us\n"
     ]
    },
    {
     "data": {
      "text/plain": [
       "<catboost.core.CatBoostRegressor at 0x7efaa169dc50>"
      ]
     },
     "execution_count": 9,
     "metadata": {},
     "output_type": "execute_result"
    }
   ],
   "source": [
    "#Train the Model \n",
    "prior_model = ctb.CatBoostRegressor()\n",
    "prior_model.fit(X_train,Y_train)"
   ]
  },
  {
   "cell_type": "code",
   "execution_count": 10,
   "id": "c775fd81",
   "metadata": {
    "execution": {
     "iopub.execute_input": "2022-01-14T08:58:41.166033Z",
     "iopub.status.busy": "2022-01-14T08:58:41.165332Z",
     "iopub.status.idle": "2022-01-14T08:58:41.178949Z",
     "shell.execute_reply": "2022-01-14T08:58:41.178414Z"
    },
    "papermill": {
     "duration": 0.051154,
     "end_time": "2022-01-14T08:58:41.179114",
     "exception": false,
     "start_time": "2022-01-14T08:58:41.127960",
     "status": "completed"
    },
    "tags": []
   },
   "outputs": [
    {
     "data": {
      "application/scrapbook.scrap.json+json": {
       "data": 0.07714771739910586,
       "encoder": "json",
       "name": "Prior Model MSE",
       "version": 1
      }
     },
     "metadata": {
      "scrapbook": {
       "data": true,
       "display": false,
       "name": "Prior Model MSE"
      }
     },
     "output_type": "display_data"
    },
    {
     "data": {
      "application/scrapbook.scrap.json+json": {
       "data": 0.09443844226256475,
       "encoder": "json",
       "name": "ABC Pre-generator MSE",
       "version": 1
      }
     },
     "metadata": {
      "scrapbook": {
       "data": true,
       "display": false,
       "name": "ABC Pre-generator MSE"
      }
     },
     "output_type": "display_data"
    }
   ],
   "source": [
    "y_pred = prior_model.predict(X_test)\n",
    "y_abc = y_pred + np.random.normal(0,variance, y_pred.shape)\n",
    "mse = mean_squared_error(y_pred,Y_test)\n",
    "sb.glue(\"Prior Model MSE\",mse)\n",
    "mse = mean_squared_error(y_abc,Y_test)\n",
    "sb.glue(\"ABC Pre-generator MSE\",mse)"
   ]
  },
  {
   "cell_type": "markdown",
   "id": "0cd0def6",
   "metadata": {
    "papermill": {
     "duration": 0.03246,
     "end_time": "2022-01-14T08:58:41.264725",
     "exception": false,
     "start_time": "2022-01-14T08:58:41.232265",
     "status": "completed"
    },
    "tags": []
   },
   "source": [
    "# ABC GAN Model"
   ]
  },
  {
   "cell_type": "markdown",
   "id": "70beaf4c",
   "metadata": {
    "papermill": {
     "duration": 0.029985,
     "end_time": "2022-01-14T08:58:41.325840",
     "exception": false,
     "start_time": "2022-01-14T08:58:41.295855",
     "status": "completed"
    },
    "tags": []
   },
   "source": [
    "### Training the network\n",
    "**Training ABC-GAN for n_epochs number of epochs** "
   ]
  },
  {
   "cell_type": "code",
   "execution_count": 11,
   "id": "dbaaafa1",
   "metadata": {
    "execution": {
     "iopub.execute_input": "2022-01-14T08:58:41.395193Z",
     "iopub.status.busy": "2022-01-14T08:58:41.394541Z",
     "iopub.status.idle": "2022-01-14T08:58:44.453778Z",
     "shell.execute_reply": "2022-01-14T08:58:44.453231Z"
    },
    "papermill": {
     "duration": 3.097437,
     "end_time": "2022-01-14T08:58:44.453973",
     "exception": false,
     "start_time": "2022-01-14T08:58:41.356536",
     "status": "completed"
    },
    "tags": []
   },
   "outputs": [],
   "source": [
    "gen = network.Generator(n_features+1).to(device)\n",
    "disc = network.Discriminator(n_features+1).to(device)\n",
    "\n",
    "criterion = torch.nn.BCELoss()\n",
    "gen_opt = torch.optim.Adam(gen.parameters(), lr=0.001, betas=(0.5, 0.999))\n",
    "disc_opt = torch.optim.Adam(disc.parameters(), lr=0.01, betas=(0.5, 0.999))"
   ]
  },
  {
   "cell_type": "code",
   "execution_count": 12,
   "id": "6e9eeab8",
   "metadata": {
    "execution": {
     "iopub.execute_input": "2022-01-14T08:58:44.520316Z",
     "iopub.status.busy": "2022-01-14T08:58:44.519687Z",
     "iopub.status.idle": "2022-01-14T09:04:19.299080Z",
     "shell.execute_reply": "2022-01-14T09:04:19.298519Z"
    },
    "papermill": {
     "duration": 334.813777,
     "end_time": "2022-01-14T09:04:19.299242",
     "exception": false,
     "start_time": "2022-01-14T08:58:44.485465",
     "status": "completed"
    },
    "tags": []
   },
   "outputs": [
    {
     "data": {
      "image/png": "[encoded data removed]",
      "text/plain": [
       "<Figure size 432x288 with 1 Axes>"
      ]
     },
     "metadata": {
      "needs_background": "light"
     },
     "output_type": "display_data"
    },
    {
     "data": {
      "image/png": "[encoded data removed]",
      "text/plain": [
       "<Figure size 432x288 with 1 Axes>"
      ]
     },
     "metadata": {
      "needs_background": "light"
     },
     "output_type": "display_data"
    }
   ],
   "source": [
    "#Training the ABC_GAN \n",
    "ABC_train_test2.training_GAN(disc,gen,disc_opt,gen_opt,train_data,batch_size,n_epochs,criterion,prior_model,variance,device)"
   ]
  },
  {
   "cell_type": "code",
   "execution_count": 13,
   "id": "11c3082e",
   "metadata": {
    "execution": {
     "iopub.execute_input": "2022-01-14T09:04:19.369374Z",
     "iopub.status.busy": "2022-01-14T09:04:19.368736Z",
     "iopub.status.idle": "2022-01-14T09:04:19.759989Z",
     "shell.execute_reply": "2022-01-14T09:04:19.759481Z"
    },
    "papermill": {
     "duration": 0.427814,
     "end_time": "2022-01-14T09:04:19.760134",
     "exception": false,
     "start_time": "2022-01-14T09:04:19.332320",
     "status": "completed"
    },
    "tags": []
   },
   "outputs": [
    {
     "data": {
      "application/scrapbook.scrap.json+json": {
       "data": 0.9320442129544365,
       "encoder": "json",
       "name": "ABC-GAN Model 1 MSE",
       "version": 1
      }
     },
     "metadata": {
      "scrapbook": {
       "data": true,
       "display": false,
       "name": "ABC-GAN Model 1 MSE"
      }
     },
     "output_type": "display_data"
    },
    {
     "data": {
      "application/scrapbook.scrap.json+json": {
       "data": 0.6018890291435973,
       "encoder": "json",
       "name": "ABC-GAN Model 1 MAE",
       "version": 1
      }
     },
     "metadata": {
      "scrapbook": {
       "data": true,
       "display": false,
       "name": "ABC-GAN Model 1 MAE"
      }
     },
     "output_type": "display_data"
    },
    {
     "data": {
      "application/scrapbook.scrap.json+json": {
       "data": 61.39268097264692,
       "encoder": "json",
       "name": "ABC-GAN Model 1 Manhattan Distance",
       "version": 1
      }
     },
     "metadata": {
      "scrapbook": {
       "data": true,
       "display": false,
       "name": "ABC-GAN Model 1 Manhattan Distance"
      }
     },
     "output_type": "display_data"
    },
    {
     "data": {
      "application/scrapbook.scrap.json+json": {
       "data": 9.749286144905614,
       "encoder": "json",
       "name": "ABC-GAN Model 1 Euclidean distance",
       "version": 1
      }
     },
     "metadata": {
      "scrapbook": {
       "data": true,
       "display": false,
       "name": "ABC-GAN Model 1 Euclidean distance"
      }
     },
     "output_type": "display_data"
    },
    {
     "data": {
      "application/scrapbook.scrap.json+json": {
       "data": [
        [
         0.9759795559613732,
         0.908318197100563,
         0.929718953655123,
         0.9374088963049422,
         0.9059572621648471,
         0.9216531059046728,
         0.922798241495033,
         0.9635473282256649,
         0.9330312470904761,
         0.9337228887276471,
         0.9408965650485214,
         0.9229434318538993,
         0.9338539033423088,
         0.9274664411756134,
         0.8502199656021009,
         0.9103530692927411,
         0.9575993274513026,
         0.9063497773718057,
         0.9448290226024875,
         0.9068477510082144,
         0.9272076922913979,
         0.9133024034060876,
         0.9523895313152331,
         0.887176479293995,
         0.8945257652943249,
         0.9549627630325863,
         0.9277259349469673,
         0.8718617780886714,
         0.9638802840995289,
         0.9379802748094204,
         0.917163612292936,
         0.9240122894938761,
         0.9545386950872672,
         0.9940597342056012,
         0.9285375364375519,
         0.9734857415126082,
         0.9525691370867483,
         0.9205078074343183,
         0.9557912719173198,
         0.8928660821282633,
         0.9463186457812502,
         0.9565441212166049,
         0.9302826102440667,
         0.9261467958067074,
         0.9205323065239503,
         0.9633219578265713,
         0.907723816647891,
         0.9179171757281873,
         0.9271880852464256,
         0.916975172822973,
         0.9723312042827159,
         0.8973041240866697,
         0.94066014598558,
         0.9410158995362669,
         0.9417248056222386,
         0.9658921489599187,
         0.94279233102277,
         0.8595357126496337,
         0.914925735162366,
         0.9529184422517978,
         0.896900563106144,
         0.8728549733020373,
         0.8808679271898672,
         0.953932340709022,
         0.9375687083230717,
         0.9617723919485789,
         0.9273201571627374,
         0.9754190480171898,
         0.912368159209802,
         0.9223776083884625,
         0.920115301657917,
         0.9196156172791226,
         0.9632868814779322,
         0.9566388541850067,
         0.9229330782764786,
         0.9473893984017568,
         0.9257135049172729,
         0.9472957622357162,
         0.9215622846013067,
         0.9161248885342296,
         0.9645062450146165,
         0.9150209681216119,
         0.954618422459454,
         0.9360663542373083,
         0.9658699924082276,
         0.949712648028783,
         0.9044208441802981,
         0.9752330000730154,
         0.9348411342605166,
         0.9109924608120287,
         0.9211792296277272,
         0.9120126972122925,
         0.9554264381955021,
         0.952826150743451,
         0.9472871642326565,
         0.9764596903992286,
         0.967426991461618,
         0.927609074165664,
         0.935642891982703,
         0.8951204659446705
        ],
        [
         0.6089876311666825,
         0.5978531025386616,
         0.5994469702389895,
         0.5990866479810839,
         0.6032862137345707,
         0.6054525229459008,
         0.6121696163443666,
         0.5985796185867751,
         0.6021337277146385,
         0.6173331264735145,
         0.5941965983194464,
         0.6012131434262675,
         0.5980168335760633,
         0.6098298172776898,
         0.5827686947898245,
         0.5900063961561696,
         0.6086151038716529,
         0.6032650742825925,
         0.6002194066805875,
         0.595328700053049,
         0.603446052373186,
         0.586330705705811,
         0.5987322316596321,
         0.5785494879545534,
         0.5828505603450478,
         0.6220020441813212,
         0.6053559619604665,
         0.5982811518342179,
         0.6127191465165392,
         0.5852886360759536,
         0.5940271459118116,
         0.5909077106956758,
         0.6094683524422055,
         0.6148949341629358,
         0.5937083642016731,
         0.6091693523613846,
         0.6147449294141695,
         0.605799763901707,
         0.611015876882947,
         0.5918924212273137,
         0.6043730865177863,
         0.6070019891850796,
         0.6021904909764143,
         0.6074966068799589,
         0.5992035166561311,
         0.6154546659147623,
         0.5930271994724285,
         0.6003968722972215,
         0.6019521707888035,
         0.6004416005247656,
         0.6014639335300993,
         0.5863879306570572,
         0.6045142870725078,
         0.6105297911620023,
         0.6140399237948597,
         0.6121891053101304,
         0.6083105915938231,
         0.5771008123114121,
         0.5981020937838099,
         0.6156995725891024,
         0.5928639063392492,
         0.5820185762884862,
         0.5932807642783896,
         0.612796261030085,
         0.5970497223201627,
         0.6068643334632119,
         0.5952414477828378,
         0.6183784203603864,
         0.6014673870750794,
         0.5946585297511489,
         0.5996343255517822,
         0.6013106100407302,
         0.6018757779589471,
         0.6158007808650533,
         0.5977254630084715,
         0.5953692239161361,
         0.6079998806885937,
         0.6029167674554914,
         0.6080976893358371,
         0.5834029504810186,
         0.6140550193285533,
         0.5880376199150786,
         0.6172221557730261,
         0.5925772717660841,
         0.6040003792766262,
         0.6084791870385993,
         0.5971184047852077,
         0.6035408809525418,
         0.6086818101249781,
         0.6070716206130444,
         0.6097648811216155,
         0.5909820660473961,
         0.606120224987321,
         0.6063012951327598,
         0.6215680028476259,
         0.6037888297190269,
         0.6162228759779942,
         0.5970941237630505,
         0.5867253204661549,
         0.6039481097467098
        ],
        [
         62.11673837900162,
         60.981016458943486,
         61.143590964376926,
         61.106838094070554,
         61.53519380092621,
         61.75615734048188,
         62.44130086712539,
         61.055121095851064,
         61.41764022689313,
         62.967978900298476,
         60.60805302858353,
         61.32374062947929,
         60.99771702475846,
         62.20264136232436,
         59.4424068685621,
         60.1806524079293,
         62.078740594908595,
         61.53303757682443,
         61.22237948141992,
         60.723527405411005,
         61.55149734206498,
         59.80573198199272,
         61.070687629282475,
         59.01204777136445,
         59.45075715519488,
         63.44420850649476,
         61.74630811996758,
         61.02467748709023,
         62.49735294468701,
         59.69944087974727,
         60.590768883004785,
         60.27258649095893,
         62.165771949104965,
         62.71928328461945,
         60.55825314857066,
         62.135273940861225,
         62.703982800245285,
         61.791575917974114,
         62.32361944206059,
         60.373026965186,
         61.6460548248142,
         61.91420289687812,
         61.423430079594254,
         61.96465390175581,
         61.118758698925376,
         62.77637592330575,
         60.48877434618771,
         61.2404809743166,
         61.39912142045796,
         61.24504325352609,
         61.349321220070124,
         59.811568927019835,
         61.66045728139579,
         62.27403869852424,
         62.632072227075696,
         62.443288741633296,
         62.04768034256995,
         58.86428285576403,
         61.006413565948606,
         62.80135640408844,
         60.47211844660342,
         59.365894781425595,
         60.514637956395745,
         62.505218625068665,
         60.899071676656604,
         61.90016201324761,
         60.71462767384946,
         63.07459887675941,
         61.3496734816581,
         60.655170034617186,
         61.16270120628178,
         61.33368222415447,
         61.3913293518126,
         62.81167964823544,
         60.9679972268641,
         60.72766083944589,
         62.015987830236554,
         61.49751028046012,
         62.02596431225538,
         59.5071009490639,
         62.63361197151244,
         59.979837231338024,
         62.95665988884866,
         60.442881720140576,
         61.60803868621588,
         62.064877077937126,
         60.90607728809118,
         61.56116985715926,
         62.08554463274777,
         61.92130530253053,
         62.19601787440479,
         60.28017073683441,
         61.824262948706746,
         61.84273210354149,
         63.399936290457845,
         61.58646063134074,
         62.854733349755406,
         60.90360062383115,
         59.8459826875478,
         61.602707194164395
        ],
        [
         9.977470356160426,
         9.625406802014002,
         9.738138080394144,
         9.778328457517883,
         9.612889302432146,
         9.695804082296455,
         9.701825633997622,
         9.913719154737935,
         9.755469604443887,
         9.759084724000505,
         9.796501908076637,
         9.702588832321904,
         9.759769369248204,
         9.726334201533103,
         9.312488200873826,
         9.636182494528608,
         9.883072973525637,
         9.614971517998594,
         9.81695269956282,
         9.61761252093459,
         9.724977358005653,
         9.651779377266191,
         9.856151997313848,
         9.512728361936313,
         9.552048369853514,
         9.869458031185088,
         9.727694761072158,
         9.430265179995974,
         9.91543186039579,
         9.781308094041455,
         9.672160485324852,
         9.708205474153054,
         9.867266434980928,
         10.069463386346431,
         9.731948865290564,
         9.96471503025982,
         9.85708131156725,
         9.689777931320224,
         9.873738387032876,
         9.543182926942293,
         9.824688385373223,
         9.877626251488447,
         9.741089582017754,
         9.719412182446227,
         9.689906875994367,
         9.912559694564782,
         9.622256975267543,
         9.676133108027974,
         9.724874533644915,
         9.67116681832876,
         9.958804287505455,
         9.566870996142903,
         9.795271047323252,
         9.79712313654877,
         9.800812730251932,
         9.925774488366724,
         9.80636618551044,
         9.363367059464379,
         9.660353253714968,
         9.858888431749463,
         9.564719412341729,
         9.435634969455304,
         9.478846373550233,
         9.864131931007423,
         9.779161940010672,
         9.904583988172092,
         9.725567131566116,
         9.974604899330767,
         9.646841568067748,
         9.699614221999921,
         9.687711843831211,
         9.685080947646773,
         9.91237922553153,
         9.878115363108021,
         9.702534410359018,
         9.830245095468333,
         9.717138339118254,
         9.829759292477261,
         9.695326349810681,
         9.666681883174363,
         9.91865096631043,
         9.660856004951345,
         9.867678505649863,
         9.771323765601334,
         9.925660644291606,
         9.842290896886551,
         9.604734567201241,
         9.973653593716175,
         9.764926814604024,
         9.639565913609747,
         9.693311169153096,
         9.644962162479118,
         9.871853761879843,
         9.858410996495936,
         9.829714683129463,
         9.979924269287885,
         9.9336575906906,
         9.727082068374754,
         9.769113316071,
         9.555223049534554
        ]
       ],
       "encoder": "json",
       "name": "ABC_GAN_1 Metrics",
       "version": 1
      }
     },
     "metadata": {
      "scrapbook": {
       "data": true,
       "display": false,
       "name": "ABC_GAN_1 Metrics"
      }
     },
     "output_type": "display_data"
    }
   ],
   "source": [
    "ABC_GAN1_metrics=ABC_train_test2.test_generator(gen,test_data,prior_model,variance,\"1\",device)\n",
    "sb.glue(\"ABC_GAN_1 Metrics\",ABC_GAN1_metrics)"
   ]
  },
  {
   "cell_type": "markdown",
   "id": "394a2b9d",
   "metadata": {
    "papermill": {
     "duration": 0.037095,
     "end_time": "2022-01-14T09:04:19.833063",
     "exception": false,
     "start_time": "2022-01-14T09:04:19.795968",
     "status": "completed"
    },
    "tags": []
   },
   "source": [
    "#### Sanity Checks "
   ]
  },
  {
   "cell_type": "code",
   "execution_count": 14,
   "id": "a36b3b22",
   "metadata": {
    "execution": {
     "iopub.execute_input": "2022-01-14T09:04:19.910181Z",
     "iopub.status.busy": "2022-01-14T09:04:19.909588Z",
     "iopub.status.idle": "2022-01-14T09:04:20.694769Z",
     "shell.execute_reply": "2022-01-14T09:04:20.695268Z"
    },
    "papermill": {
     "duration": 0.826767,
     "end_time": "2022-01-14T09:04:20.695463",
     "exception": false,
     "start_time": "2022-01-14T09:04:19.868696",
     "status": "completed"
    },
    "tags": []
   },
   "outputs": [
    {
     "data": {
      "image/png": "[encoded data removed]",
      "text/plain": [
       "<Figure size 432x288 with 1 Axes>"
      ]
     },
     "metadata": {
      "needs_background": "light"
     },
     "output_type": "display_data"
    },
    {
     "data": {
      "image/png": "[encoded data removed]",
      "text/plain": [
       "<Figure size 432x288 with 1 Axes>"
      ]
     },
     "metadata": {
      "needs_background": "light"
     },
     "output_type": "display_data"
    },
    {
     "data": {
      "image/png": "[encoded data removed]",
      "text/plain": [
       "<Figure size 432x288 with 1 Axes>"
      ]
     },
     "metadata": {
      "needs_background": "light"
     },
     "output_type": "display_data"
    },
    {
     "data": {
      "image/png": "[encoded data removed]",
      "text/plain": [
       "<Figure size 432x288 with 1 Axes>"
      ]
     },
     "metadata": {
      "needs_background": "light"
     },
     "output_type": "display_data"
    }
   ],
   "source": [
    "sanityChecks.discProbVsError(train_data,disc,device)\n",
    "sanityChecks.discProbVsError(test_data,disc,device)"
   ]
  },
  {
   "cell_type": "markdown",
   "id": "130f3a4d",
   "metadata": {
    "papermill": {
     "duration": 0.042416,
     "end_time": "2022-01-14T09:04:20.797930",
     "exception": false,
     "start_time": "2022-01-14T09:04:20.755514",
     "status": "completed"
    },
    "tags": []
   },
   "source": [
    "# ABC - GAN Model with skip connection"
   ]
  },
  {
   "cell_type": "code",
   "execution_count": 15,
   "id": "4e43dad1",
   "metadata": {
    "execution": {
     "iopub.execute_input": "2022-01-14T09:04:20.884144Z",
     "iopub.status.busy": "2022-01-14T09:04:20.883495Z",
     "iopub.status.idle": "2022-01-14T09:04:20.888341Z",
     "shell.execute_reply": "2022-01-14T09:04:20.887787Z"
    },
    "papermill": {
     "duration": 0.05192,
     "end_time": "2022-01-14T09:04:20.888498",
     "exception": false,
     "start_time": "2022-01-14T09:04:20.836578",
     "status": "completed"
    },
    "tags": []
   },
   "outputs": [],
   "source": [
    "#Generator\n",
    "gen3 = network.GeneratorWithSkipConnection(n_features+1).to(device)\n",
    "constraints=network.weightConstraint()\n",
    "#Discriminator \n",
    "disc3 = network.Discriminator(n_features+1).to(device)\n",
    "\n",
    "criterion = torch.nn.BCELoss()\n",
    "gen_opt = torch.optim.Adam(gen3.parameters(), lr=0.01, betas=(0.5, 0.999))\n",
    "disc_opt = torch.optim.Adam(disc3.parameters(), lr=0.01, betas=(0.5, 0.999))\n"
   ]
  },
  {
   "cell_type": "code",
   "execution_count": 16,
   "id": "26acbc37",
   "metadata": {
    "execution": {
     "iopub.execute_input": "2022-01-14T09:04:20.974444Z",
     "iopub.status.busy": "2022-01-14T09:04:20.973759Z",
     "iopub.status.idle": "2022-01-14T09:40:33.467699Z",
     "shell.execute_reply": "2022-01-14T09:40:33.467162Z"
    },
    "papermill": {
     "duration": 2172.538295,
     "end_time": "2022-01-14T09:40:33.467840",
     "exception": false,
     "start_time": "2022-01-14T09:04:20.929545",
     "status": "completed"
    },
    "tags": []
   },
   "outputs": [
    {
     "data": {
      "image/png": "[encoded data removed]",
      "text/plain": [
       "<Figure size 432x288 with 1 Axes>"
      ]
     },
     "metadata": {
      "needs_background": "light"
     },
     "output_type": "display_data"
    },
    {
     "data": {
      "image/png": "[encoded data removed]",
      "text/plain": [
       "<Figure size 432x288 with 1 Axes>"
      ]
     },
     "metadata": {
      "needs_background": "light"
     },
     "output_type": "display_data"
    }
   ],
   "source": [
    "ABC_train_test2.training_GAN_skip_connection(disc3,gen3,disc_opt,gen_opt,train_data,batch_size,n_epochs,criterion,prior_model,variance,device)\n"
   ]
  },
  {
   "cell_type": "code",
   "execution_count": 17,
   "id": "c5e0717b",
   "metadata": {
    "execution": {
     "iopub.execute_input": "2022-01-14T09:40:33.565205Z",
     "iopub.status.busy": "2022-01-14T09:40:33.564604Z",
     "iopub.status.idle": "2022-01-14T09:40:35.501544Z",
     "shell.execute_reply": "2022-01-14T09:40:35.500958Z"
    },
    "papermill": {
     "duration": 1.983254,
     "end_time": "2022-01-14T09:40:35.501677",
     "exception": false,
     "start_time": "2022-01-14T09:40:33.518423",
     "status": "completed"
    },
    "tags": []
   },
   "outputs": [
    {
     "data": {
      "application/scrapbook.scrap.json+json": {
       "data": 0.0894793644374941,
       "encoder": "json",
       "name": "ABC-GAN Model 3 MSE",
       "version": 1
      }
     },
     "metadata": {
      "scrapbook": {
       "data": true,
       "display": false,
       "name": "ABC-GAN Model 3 MSE"
      }
     },
     "output_type": "display_data"
    },
    {
     "data": {
      "application/scrapbook.scrap.json+json": {
       "data": 0.2173097347037087,
       "encoder": "json",
       "name": "ABC-GAN Model 3 MAE",
       "version": 1
      }
     },
     "metadata": {
      "scrapbook": {
       "data": true,
       "display": false,
       "name": "ABC-GAN Model 3 MAE"
      }
     },
     "output_type": "display_data"
    },
    {
     "data": {
      "application/scrapbook.scrap.json+json": {
       "data": 22.16559293977829,
       "encoder": "json",
       "name": "ABC-GAN Model 3 Manhattan Distance",
       "version": 1
      }
     },
     "metadata": {
      "scrapbook": {
       "data": true,
       "display": false,
       "name": "ABC-GAN Model 3 Manhattan Distance"
      }
     },
     "output_type": "display_data"
    },
    {
     "data": {
      "application/scrapbook.scrap.json+json": {
       "data": 3.019674581026945,
       "encoder": "json",
       "name": "ABC-GAN Model 3 Euclidean distance",
       "version": 1
      }
     },
     "metadata": {
      "scrapbook": {
       "data": true,
       "display": false,
       "name": "ABC-GAN Model 3 Euclidean distance"
      }
     },
     "output_type": "display_data"
    },
    {
     "data": {
      "application/scrapbook.scrap.json+json": {
       "data": [
        [
         0.08825823072550013,
         0.09122958136872089,
         0.08424840355259915,
         0.0870392075004331,
         0.08694651620898994,
         0.0832977027555268,
         0.08777449629917002,
         0.08776114431251951,
         0.09144743977413133,
         0.08459958922406537,
         0.09654347475504717,
         0.0806802796253132,
         0.09103152613566544,
         0.08615757973085483,
         0.07902261719874656,
         0.08661646207713258,
         0.09627909416378004,
         0.08130499926988217,
         0.09101775322817403,
         0.08893187009989531,
         0.09105920904822773,
         0.09076163616428568,
         0.0873942370967529,
         0.0873799410176608,
         0.08192637393987262,
         0.09514191631735847,
         0.08336979720321014,
         0.10423847364914825,
         0.09600808135513804,
         0.09039371599213027,
         0.09029031845819303,
         0.09644733652159841,
         0.08290860998658434,
         0.09158876930728763,
         0.10235536209656945,
         0.0961982969197975,
         0.09800729419060358,
         0.08216131425246537,
         0.09892885566099063,
         0.09306546129953897,
         0.08706453952912606,
         0.09699895212461213,
         0.07924590188480386,
         0.08704770251471323,
         0.09088823131979426,
         0.09058284539387362,
         0.08855148142463111,
         0.08636371850882371,
         0.08437964355542979,
         0.08485254615968167,
         0.08701108587750953,
         0.09600485412763497,
         0.09184882691435821,
         0.08710840647651959,
         0.07738987019670654,
         0.08496918554026904,
         0.08540079108724707,
         0.08768991394757568,
         0.09543406139420914,
         0.0813220346410819,
         0.08887707299035726,
         0.09164679909419685,
         0.08970549748051303,
         0.09522541133807046,
         0.0929941557683635,
         0.08767213342618933,
         0.08309707831229131,
         0.08573769197681044,
         0.08397450799585986,
         0.09117949334037369,
         0.0943407520798966,
         0.08049615807466359,
         0.09545266554341873,
         0.07735838700724122,
         0.08411111393025174,
         0.08615142502828521,
         0.09293318291910511,
         0.09492456296452256,
         0.09256906979229458,
         0.09745788151075309,
         0.08602932446710151,
         0.09455738451523722,
         0.09577563623132704,
         0.08925044756201565,
         0.09614067103233928,
         0.08737730264899533,
         0.08353017839015944,
         0.08771996332660881,
         0.09797022150570375,
         0.09711870843248994,
         0.08520333348892656,
         0.0927108857460811,
         0.09226458870483949,
         0.0904374638320701,
         0.08963208974689144,
         0.08957349782046957,
         0.09216411231051018,
         0.09428098304262215,
         0.09243700087361663,
         0.08789004839578492
        ],
        [
         0.21878527554309032,
         0.21476398035883904,
         0.21536231829383062,
         0.2161425069869295,
         0.22851716716974682,
         0.2152042295601146,
         0.21621984867013844,
         0.20670388137702556,
         0.22178434036836467,
         0.21037867300066293,
         0.2292264752802165,
         0.20074676728223032,
         0.2077685323562108,
         0.2149947918768899,
         0.20829976844948297,
         0.2106249107723581,
         0.21639758859322789,
         0.2065446149642287,
         0.2263642759244962,
         0.2280460550979364,
         0.22427352673063675,
         0.2194756766708166,
         0.21768250108203469,
         0.20871360277684003,
         0.20791473287139453,
         0.23002408973543959,
         0.21335113161773073,
         0.23826488176835517,
         0.2243928907429982,
         0.2164913063375827,
         0.22080826069634663,
         0.22170178050759667,
         0.2101845592306014,
         0.21827564288989879,
         0.22851284193422863,
         0.22034982935178513,
         0.2256933102811066,
         0.20363249540255934,
         0.23039298095539504,
         0.22448589641819983,
         0.21073954474801818,
         0.22822766729137478,
         0.20439980264442661,
         0.205711402985103,
         0.2178839792123101,
         0.21963810057415828,
         0.2040534654504382,
         0.21400876606554342,
         0.21209546384931194,
         0.21361425892431654,
         0.21474701817622224,
         0.22621066881544596,
         0.21809066535777175,
         0.22014480581799267,
         0.19801413773686863,
         0.208891665216024,
         0.2193235893204224,
         0.21636732307025322,
         0.23049772707928046,
         0.2076121846067847,
         0.2224013502846527,
         0.2212992922549008,
         0.21078198677380844,
         0.22122728487695842,
         0.21954853993420506,
         0.20693305016075278,
         0.20731813582025616,
         0.20714156765162067,
         0.2073542935335461,
         0.21586447329643896,
         0.22065890891769646,
         0.20256630561369307,
         0.220536246968835,
         0.2159785748523313,
         0.2078071211044695,
         0.21677070215581826,
         0.22304001362085818,
         0.2257250682154086,
         0.21432622421222428,
         0.22016753608334635,
         0.21450863134882905,
         0.2197047606037528,
         0.218952127248414,
         0.2258152659165253,
         0.21869613913654842,
         0.21666516980850228,
         0.2131346198912783,
         0.22149941787196725,
         0.21824200199369123,
         0.2339236321276985,
         0.2099344438197566,
         0.2203440592788598,
         0.22265016741356722,
         0.22751856553733496,
         0.2150194230580739,
         0.21670127523076885,
         0.22562988486378363,
         0.22994856487083085,
         0.23686481416499353,
         0.2100036529842399
        ],
        [
         22.316098105395213,
         21.90592599660158,
         21.966956465970725,
         22.04653571266681,
         23.308751051314175,
         21.950831415131688,
         22.05442456435412,
         21.083795900456607,
         22.622002717573196,
         21.45862464606762,
         23.381100478582084,
         20.47617026278749,
         21.1923903003335,
         21.92946877144277,
         21.246576381847262,
         21.483740898780525,
         22.072554036509246,
         21.067550726351328,
         23.089156144298613,
         23.260697619989514,
         22.87589972652495,
         22.386519020423293,
         22.203615110367537,
         21.288787483237684,
         21.207302752882242,
         23.46245715301484,
         21.761815425008535,
         24.30301794037223,
         22.888074855785817,
         22.082113246433437,
         22.522442591027357,
         22.613581611774862,
         21.43882504152134,
         22.264115574769676,
         23.30830987729132,
         22.475682593882084,
         23.02071764867287,
         20.770514531061053,
         23.500084057450294,
         22.89756143465638,
         21.495433564297855,
         23.279222063720226,
         20.848779869731516,
         20.982563104480505,
         22.22416587965563,
         22.403086258564144,
         20.813453475944698,
         21.828894138685428,
         21.63373731262982,
         21.788654410280287,
         21.90419585397467,
         23.073488219175488,
         22.24524786649272,
         22.45477019343525,
         20.1974420491606,
         21.30694985203445,
         22.371006110683084,
         22.06946695316583,
         23.510768162086606,
         21.17644282989204,
         22.684937729034573,
         22.572527809999883,
         21.49976265092846,
         22.565183057449758,
         22.393951073288918,
         21.107171116396785,
         21.146449853666127,
         21.12843990046531,
         21.1501379404217,
         22.018176276236773,
         22.507208709605038,
         20.661763172596693,
         22.49469719082117,
         22.029814634937793,
         21.196326352655888,
         22.11061161989346,
         22.750081389327534,
         23.023956957971677,
         21.861274869646877,
         22.45708868050133,
         21.879880397580564,
         22.409885581582785,
         22.33311697933823,
         23.03315712348558,
         22.30700619192794,
         22.099847320467234,
         21.739731228910387,
         22.59294062294066,
         22.260684203356504,
         23.860210477025248,
         21.413313269615173,
         22.4750940464437,
         22.710317076183856,
         23.206893684808165,
         21.931981151923537,
         22.103530073538423,
         23.01424825610593,
         23.454753616824746,
         24.16021104482934,
         21.42037260439247
        ],
        [
         3.0003898969968907,
         3.050478208348574,
         2.9314394352203688,
         2.979597148113176,
         2.978010183548231,
         2.914852600229337,
         2.9921561828412875,
         2.9919285953840857,
         3.054118343640501,
         2.9375428679177893,
         3.138062208595426,
         2.8686910816227567,
         3.047165185190634,
         2.96446844013344,
         2.839067972816457,
         2.972352457543944,
         3.1337625316391735,
         2.8797760200279434,
         3.0469346611428594,
         3.0118185121599406,
         3.0476284752113774,
         3.042644719443454,
         2.985667795296187,
         2.98542358532276,
         2.890759440331728,
         3.115200710126165,
         2.9161137348751387,
         3.260724507254963,
         3.129348861700158,
         3.036471477092661,
         3.0347343347870974,
         3.13649937433487,
         2.9080368324062884,
         3.056477460957849,
         3.2311370961087484,
         3.132447331691204,
         3.161762800629036,
         2.8949013892966136,
         3.176593029870374,
         3.0810188335277946,
         2.980030709903986,
         3.1454559473485615,
         2.843076149569334,
         2.979742548694559,
         3.0447659342910107,
         3.0396463988719327,
         3.0053703773931706,
         2.9680126832444667,
         2.933721807304475,
         2.941931288845395,
         2.9791157680603773,
         3.1292962660986197,
         3.060813673725426,
         2.980781350687264,
         2.8095848020773584,
         2.9439526023880616,
         2.951420114266893,
         2.9907141659899095,
         3.1199798496479643,
         2.8800776957211327,
         3.0108904737662647,
         3.0574455853879194,
         3.0248902034639746,
         3.116567335464322,
         3.079838289321872,
         2.9904109432436385,
         2.911340239108735,
         2.957235969893959,
         2.9266704316642325,
         3.049640687149573,
         3.1020568518564344,
         2.865415872716504,
         3.120283943077731,
         2.8090132564191648,
         2.9290499519273614,
         2.964362554223942,
         3.0788284553947993,
         3.1116403105727524,
         3.0727910958628546,
         3.1528881861075906,
         2.9622611457540926,
         3.105616399453447,
         3.1255583334174646,
         3.017208254550155,
         3.1315089725719463,
         2.9853785137227615,
         2.918917298553739,
         2.991226547641301,
         3.161164752679268,
         3.1473970610830104,
         2.9480061085198765,
         3.0751439553458755,
         3.067733373012332,
         3.0372061686476184,
         3.0236522872484723,
         3.0226638545640316,
         3.066062532903078,
         3.101074051090599,
         3.0705983275428417,
         2.9941250702617723
        ]
       ],
       "encoder": "json",
       "name": "ABC_GAN_3 Metrics",
       "version": 1
      }
     },
     "metadata": {
      "scrapbook": {
       "data": true,
       "display": false,
       "name": "ABC_GAN_3 Metrics"
      }
     },
     "output_type": "display_data"
    }
   ],
   "source": [
    "ABC_GAN3_metrics=ABC_train_test2.test_generator(gen3,test_data,prior_model,variance,\"3\",device)\n",
    "sb.glue(\"ABC_GAN_3 Metrics\",ABC_GAN3_metrics)"
   ]
  },
  {
   "cell_type": "code",
   "execution_count": 18,
   "id": "c8e46b48",
   "metadata": {
    "execution": {
     "iopub.execute_input": "2022-01-14T09:40:35.599138Z",
     "iopub.status.busy": "2022-01-14T09:40:35.598538Z",
     "iopub.status.idle": "2022-01-14T09:40:36.414287Z",
     "shell.execute_reply": "2022-01-14T09:40:36.414845Z"
    },
    "papermill": {
     "duration": 0.863926,
     "end_time": "2022-01-14T09:40:36.415069",
     "exception": false,
     "start_time": "2022-01-14T09:40:35.551143",
     "status": "completed"
    },
    "tags": []
   },
   "outputs": [
    {
     "data": {
      "image/png": "[encoded data removed]",
      "text/plain": [
       "<Figure size 432x288 with 1 Axes>"
      ]
     },
     "metadata": {
      "needs_background": "light"
     },
     "output_type": "display_data"
    },
    {
     "data": {
      "image/png": "[encoded data removed]",
      "text/plain": [
       "<Figure size 432x288 with 1 Axes>"
      ]
     },
     "metadata": {
      "needs_background": "light"
     },
     "output_type": "display_data"
    },
    {
     "data": {
      "image/png": "[encoded data removed]",
      "text/plain": [
       "<Figure size 432x288 with 1 Axes>"
      ]
     },
     "metadata": {
      "needs_background": "light"
     },
     "output_type": "display_data"
    },
    {
     "data": {
      "image/png": "[encoded data removed]",
      "text/plain": [
       "<Figure size 432x288 with 1 Axes>"
      ]
     },
     "metadata": {
      "needs_background": "light"
     },
     "output_type": "display_data"
    }
   ],
   "source": [
    "sanityChecks.discProbVsError(train_data,disc,device)\n",
    "sanityChecks.discProbVsError(test_data,disc3,device)"
   ]
  },
  {
   "cell_type": "markdown",
   "id": "a5bd74c3",
   "metadata": {
    "papermill": {
     "duration": 0.050071,
     "end_time": "2022-01-14T09:40:36.516778",
     "exception": false,
     "start_time": "2022-01-14T09:40:36.466707",
     "status": "completed"
    },
    "tags": []
   },
   "source": [
    "## Skip Connection Model Analysis - ABC-GAN "
   ]
  },
  {
   "cell_type": "markdown",
   "id": "5744a8bf",
   "metadata": {
    "papermill": {
     "duration": 0.051627,
     "end_time": "2022-01-14T09:40:36.636111",
     "exception": false,
     "start_time": "2022-01-14T09:40:36.584484",
     "status": "completed"
    },
    "tags": []
   },
   "source": [
    "### Weight Analysis \n",
    "\n",
    "Study the weights of the skip connection layer\n",
    "\n",
    "Equation of the skip connection is \n",
    "\n",
    "$output = y_{gan} * w + y_{abc} * (1-w)$"
   ]
  },
  {
   "cell_type": "code",
   "execution_count": 19,
   "id": "52c31dea",
   "metadata": {
    "execution": {
     "iopub.execute_input": "2022-01-14T09:40:36.740292Z",
     "iopub.status.busy": "2022-01-14T09:40:36.739672Z",
     "iopub.status.idle": "2022-01-14T09:40:36.748335Z",
     "shell.execute_reply": "2022-01-14T09:40:36.747819Z"
    },
    "papermill": {
     "duration": 0.062929,
     "end_time": "2022-01-14T09:40:36.748546",
     "exception": false,
     "start_time": "2022-01-14T09:40:36.685617",
     "status": "completed"
    },
    "tags": []
   },
   "outputs": [
    {
     "name": "stdout",
     "output_type": "stream",
     "text": [
      "Weight of the node at skip connection\n",
      "Parameter containing:\n",
      "tensor([[0.0294]], device='cuda:0', requires_grad=True)\n"
     ]
    },
    {
     "data": {
      "application/scrapbook.scrap.json+json": {
       "data": 0.02942541241645813,
       "encoder": "json",
       "name": "Skip Connection Weight",
       "version": 1
      }
     },
     "metadata": {
      "scrapbook": {
       "data": true,
       "display": false,
       "name": "Skip Connection Weight"
      }
     },
     "output_type": "display_data"
    }
   ],
   "source": [
    "print(\"Weight of the node at skip connection\")\n",
    "for name,param in gen3.named_parameters():\n",
    "    if(name == \"skipNode.weight\"):\n",
    "        print(param)\n",
    "        sb.glue(\"Skip Connection Weight\",param.item())"
   ]
  }
 ],
 "metadata": {
  "interpreter": {
   "hash": "10498c76ddd8160350534c6544a2b2fb65f2138dbc70420f7c81a3268f830f23"
  },
  "kernelspec": {
   "display_name": "papermill-tutorial",
   "language": "python",
   "name": "python3"
  },
  "language_info": {
   "codemirror_mode": {
    "name": "ipython",
    "version": 3
   },
   "file_extension": ".py",
   "mimetype": "text/x-python",
   "name": "python",
   "nbconvert_exporter": "python",
   "pygments_lexer": "ipython3",
   "version": "3.7.12"
  },
  "papermill": {
   "default_parameters": {},
   "duration": 2522.604335,
   "end_time": "2022-01-14T09:40:37.511489",
   "environment_variables": {},
   "exception": null,
   "input_path": "ABC_GAN_Model-Catboost_Pre-gen.ipynb",
   "output_path": "./ABC_GAN_Output/ABC-GAN_output_2_1.ipynb",
   "parameters": {
    "variance": 0.1
   },
   "start_time": "2022-01-14T08:58:34.907154",
   "version": "2.3.3"
  }
 },
 "nbformat": 4,
 "nbformat_minor": 5
}