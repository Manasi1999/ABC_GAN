{
 "cells": [
  {
   "cell_type": "markdown",
   "id": "622780e6",
   "metadata": {
    "papermill": {
     "duration": 0.026524,
     "end_time": "2022-01-14T07:33:35.086574",
     "exception": false,
     "start_time": "2022-01-14T07:33:35.060050",
     "status": "completed"
    },
    "tags": []
   },
   "source": [
    "## Import Libraries "
   ]
  },
  {
   "cell_type": "code",
   "execution_count": 1,
   "id": "a62397e3",
   "metadata": {
    "execution": {
     "iopub.execute_input": "2022-01-14T07:33:35.160797Z",
     "iopub.status.busy": "2022-01-14T07:33:35.159731Z",
     "iopub.status.idle": "2022-01-14T07:33:35.162650Z",
     "shell.execute_reply": "2022-01-14T07:33:35.161944Z"
    },
    "papermill": {
     "duration": 0.052399,
     "end_time": "2022-01-14T07:33:35.162830",
     "exception": false,
     "start_time": "2022-01-14T07:33:35.110431",
     "status": "completed"
    },
    "tags": []
   },
   "outputs": [],
   "source": [
    "import warnings\n",
    "import sys\n",
    "sys.path.insert(0, '../../src')\n",
    "warnings.filterwarnings('ignore')"
   ]
  },
  {
   "cell_type": "code",
   "execution_count": 2,
   "id": "d6a4e155",
   "metadata": {
    "execution": {
     "iopub.execute_input": "2022-01-14T07:33:35.217543Z",
     "iopub.status.busy": "2022-01-14T07:33:35.216873Z",
     "iopub.status.idle": "2022-01-14T07:33:36.826211Z",
     "shell.execute_reply": "2022-01-14T07:33:36.825700Z"
    },
    "papermill": {
     "duration": 1.639063,
     "end_time": "2022-01-14T07:33:36.826361",
     "exception": false,
     "start_time": "2022-01-14T07:33:35.187298",
     "status": "completed"
    },
    "tags": []
   },
   "outputs": [],
   "source": [
    "import ABC_train_test2\n",
    "import bostonDataset\n",
    "import network\n",
    "import dataset\n",
    "import sanityChecks\n",
    "import performanceMetrics\n",
    "import torch \n",
    "from torch.utils.data import random_split \n",
    "import scrapbook as sb\n",
    "from statistics import mean \n",
    "import catboost as ctb \n",
    "from sklearn.model_selection import train_test_split\n",
    "from sklearn.metrics import mean_squared_error\n",
    "import numpy as np"
   ]
  },
  {
   "cell_type": "markdown",
   "id": "2fa5b0f7",
   "metadata": {
    "papermill": {
     "duration": 0.022409,
     "end_time": "2022-01-14T07:33:36.873761",
     "exception": false,
     "start_time": "2022-01-14T07:33:36.851352",
     "status": "completed"
    },
    "tags": []
   },
   "source": [
    "## Parameters "
   ]
  },
  {
   "cell_type": "code",
   "execution_count": 3,
   "id": "783186fb",
   "metadata": {
    "execution": {
     "iopub.execute_input": "2022-01-14T07:33:36.923142Z",
     "iopub.status.busy": "2022-01-14T07:33:36.922588Z",
     "iopub.status.idle": "2022-01-14T07:33:36.924964Z",
     "shell.execute_reply": "2022-01-14T07:33:36.925453Z"
    },
    "papermill": {
     "duration": 0.029043,
     "end_time": "2022-01-14T07:33:36.925640",
     "exception": false,
     "start_time": "2022-01-14T07:33:36.896597",
     "status": "completed"
    },
    "tags": [
     "parameters"
    ]
   },
   "outputs": [],
   "source": [
    "variance = 1"
   ]
  },
  {
   "cell_type": "code",
   "execution_count": 4,
   "id": "fe79f7fe",
   "metadata": {
    "execution": {
     "iopub.execute_input": "2022-01-14T07:33:36.974390Z",
     "iopub.status.busy": "2022-01-14T07:33:36.973703Z",
     "iopub.status.idle": "2022-01-14T07:33:36.976349Z",
     "shell.execute_reply": "2022-01-14T07:33:36.976832Z"
    },
    "papermill": {
     "duration": 0.028482,
     "end_time": "2022-01-14T07:33:36.976955",
     "exception": false,
     "start_time": "2022-01-14T07:33:36.948473",
     "status": "completed"
    },
    "tags": [
     "injected-parameters"
    ]
   },
   "outputs": [],
   "source": [
    "# Parameters\n",
    "variance = 0.01\n"
   ]
  },
  {
   "cell_type": "markdown",
   "id": "391cdbfd",
   "metadata": {
    "papermill": {
     "duration": 0.024445,
     "end_time": "2022-01-14T07:33:37.023913",
     "exception": false,
     "start_time": "2022-01-14T07:33:36.999468",
     "status": "completed"
    },
    "tags": []
   },
   "source": [
    "## Dataset - Boston Housing "
   ]
  },
  {
   "cell_type": "code",
   "execution_count": 5,
   "id": "5b51f161",
   "metadata": {
    "execution": {
     "iopub.execute_input": "2022-01-14T07:33:37.075481Z",
     "iopub.status.busy": "2022-01-14T07:33:37.074712Z",
     "iopub.status.idle": "2022-01-14T07:33:37.077551Z",
     "shell.execute_reply": "2022-01-14T07:33:37.077023Z"
    },
    "papermill": {
     "duration": 0.02941,
     "end_time": "2022-01-14T07:33:37.077691",
     "exception": false,
     "start_time": "2022-01-14T07:33:37.048281",
     "status": "completed"
    },
    "tags": []
   },
   "outputs": [],
   "source": [
    "#Parameters \n",
    "n_features = 13\n",
    "n_samples= 506\n",
    "n_target = 1 "
   ]
  },
  {
   "cell_type": "code",
   "execution_count": 6,
   "id": "5d6eced4",
   "metadata": {
    "execution": {
     "iopub.execute_input": "2022-01-14T07:33:37.127120Z",
     "iopub.status.busy": "2022-01-14T07:33:37.126553Z",
     "iopub.status.idle": "2022-01-14T07:33:37.158506Z",
     "shell.execute_reply": "2022-01-14T07:33:37.158947Z"
    },
    "papermill": {
     "duration": 0.05836,
     "end_time": "2022-01-14T07:33:37.159077",
     "exception": false,
     "start_time": "2022-01-14T07:33:37.100717",
     "status": "completed"
    },
    "tags": []
   },
   "outputs": [
    {
     "name": "stdout",
     "output_type": "stream",
     "text": [
      "         X1        X2        X3        X4        X5        X6        X7        X8        X9       X10       X11       X12       X13         Y\n",
      "0 -0.419782  0.284830 -1.287909 -0.272599 -0.144217  0.413672 -0.120013  0.140214 -0.982843 -0.666608 -1.459000  0.441052 -1.075562  0.159686\n",
      "1 -0.417339 -0.487722 -0.593381 -0.272599 -0.740262  0.194274  0.367166  0.557160 -0.867883 -0.987329 -0.303094  0.441052 -0.492439 -0.101524\n",
      "2 -0.417342 -0.487722 -0.593381 -0.272599 -0.740262  1.282714 -0.265812  0.557160 -0.867883 -0.987329 -0.303094  0.396427 -1.208727  1.324247\n",
      "3 -0.416750 -0.487722 -1.306878 -0.272599 -0.835284  1.016303 -0.809889  1.077737 -0.752922 -1.106115  0.113032  0.416163 -1.361517  1.182758\n",
      "4 -0.412482 -0.487722 -1.306878 -0.272599 -0.835284  1.228577 -0.511180  1.077737 -0.752922 -1.106115  0.113032  0.441052 -1.026501  1.487503\n"
     ]
    }
   ],
   "source": [
    "X,Y = bostonDataset.boston_data()"
   ]
  },
  {
   "cell_type": "code",
   "execution_count": 7,
   "id": "fe007438",
   "metadata": {
    "execution": {
     "iopub.execute_input": "2022-01-14T07:33:37.231831Z",
     "iopub.status.busy": "2022-01-14T07:33:37.230992Z",
     "iopub.status.idle": "2022-01-14T07:33:37.234409Z",
     "shell.execute_reply": "2022-01-14T07:33:37.233782Z"
    },
    "papermill": {
     "duration": 0.05133,
     "end_time": "2022-01-14T07:33:37.234622",
     "exception": false,
     "start_time": "2022-01-14T07:33:37.183292",
     "status": "completed"
    },
    "tags": []
   },
   "outputs": [],
   "source": [
    "#Train test split for dataset \n",
    "X_train,X_test,Y_train,Y_test = train_test_split(X,Y,test_size = 0.2)\n",
    "train_data = dataset.CustomDataset(X_train,Y_train)\n",
    "test_data = dataset.CustomDataset(X_test,Y_test)\n"
   ]
  },
  {
   "cell_type": "markdown",
   "id": "a9a1af34",
   "metadata": {
    "papermill": {
     "duration": 0.025322,
     "end_time": "2022-01-14T07:33:37.286527",
     "exception": false,
     "start_time": "2022-01-14T07:33:37.261205",
     "status": "completed"
    },
    "tags": []
   },
   "source": [
    "## Training Parameters \n",
    "\n"
   ]
  },
  {
   "cell_type": "code",
   "execution_count": 8,
   "id": "952b7fc8",
   "metadata": {
    "execution": {
     "iopub.execute_input": "2022-01-14T07:33:37.358104Z",
     "iopub.status.busy": "2022-01-14T07:33:37.357111Z",
     "iopub.status.idle": "2022-01-14T07:33:37.359460Z",
     "shell.execute_reply": "2022-01-14T07:33:37.359896Z"
    },
    "papermill": {
     "duration": 0.04869,
     "end_time": "2022-01-14T07:33:37.360050",
     "exception": false,
     "start_time": "2022-01-14T07:33:37.311360",
     "status": "completed"
    },
    "tags": []
   },
   "outputs": [],
   "source": [
    "batch_size = 64\n",
    "n_epochs = 5000\n",
    "#Select the device \n",
    "device = torch.device('cuda' if torch.cuda.is_available() else 'cpu')"
   ]
  },
  {
   "cell_type": "markdown",
   "id": "a95e1600",
   "metadata": {
    "papermill": {
     "duration": 0.02453,
     "end_time": "2022-01-14T07:33:37.409760",
     "exception": false,
     "start_time": "2022-01-14T07:33:37.385230",
     "status": "completed"
    },
    "tags": []
   },
   "source": [
    "# ABC Pre-generator Model \n",
    "\n",
    "1. The catboost model is used as a pre-generator model for the ABC-GAN. \n",
    "2. The model is first trained on the train dataset \n",
    "3. It generats X,Y pairs and we add some Gaussian noise with mean 0 and variance V (1,0.01,0.1) to it which is then feed as input to the generator.\n"
   ]
  },
  {
   "cell_type": "code",
   "execution_count": 9,
   "id": "ff8ce7bd",
   "metadata": {
    "execution": {
     "iopub.execute_input": "2022-01-14T07:33:37.476940Z",
     "iopub.status.busy": "2022-01-14T07:33:37.475998Z",
     "iopub.status.idle": "2022-01-14T07:33:39.122360Z",
     "shell.execute_reply": "2022-01-14T07:33:39.122872Z"
    },
    "papermill": {
     "duration": 1.689591,
     "end_time": "2022-01-14T07:33:39.123049",
     "exception": false,
     "start_time": "2022-01-14T07:33:37.433458",
     "status": "completed"
    },
    "tags": []
   },
   "outputs": [
    {
     "name": "stdout",
     "output_type": "stream",
     "text": [
      "Learning rate set to 0.03548\n",
      "0:\tlearn: 0.9543058\ttotal: 48.2ms\tremaining: 48.2s\n",
      "1:\tlearn: 0.9346946\ttotal: 49.2ms\tremaining: 24.5s\n",
      "2:\tlearn: 0.9145029\ttotal: 50.2ms\tremaining: 16.7s\n",
      "3:\tlearn: 0.8979172\ttotal: 51.3ms\tremaining: 12.8s\n",
      "4:\tlearn: 0.8813671\ttotal: 52.4ms\tremaining: 10.4s\n",
      "5:\tlearn: 0.8662913\ttotal: 53.5ms\tremaining: 8.87s\n",
      "6:\tlearn: 0.8506072\ttotal: 54.6ms\tremaining: 7.74s\n",
      "7:\tlearn: 0.8341019\ttotal: 55.5ms\tremaining: 6.88s\n",
      "8:\tlearn: 0.8189041\ttotal: 56.4ms\tremaining: 6.21s\n",
      "9:\tlearn: 0.8010561\ttotal: 57.4ms\tremaining: 5.69s\n",
      "10:\tlearn: 0.7864334\ttotal: 58.4ms\tremaining: 5.25s\n",
      "11:\tlearn: 0.7705583\ttotal: 59.3ms\tremaining: 4.89s\n",
      "12:\tlearn: 0.7560385\ttotal: 60.3ms\tremaining: 4.58s\n",
      "13:\tlearn: 0.7401264\ttotal: 61.3ms\tremaining: 4.32s\n",
      "14:\tlearn: 0.7266012\ttotal: 62.4ms\tremaining: 4.1s\n",
      "15:\tlearn: 0.7112433\ttotal: 63.4ms\tremaining: 3.9s\n",
      "16:\tlearn: 0.6974995\ttotal: 64.6ms\tremaining: 3.73s\n",
      "17:\tlearn: 0.6844832\ttotal: 65.5ms\tremaining: 3.57s\n",
      "18:\tlearn: 0.6725661\ttotal: 66.5ms\tremaining: 3.43s\n",
      "19:\tlearn: 0.6601283\ttotal: 67.5ms\tremaining: 3.31s\n",
      "20:\tlearn: 0.6473814\ttotal: 68.4ms\tremaining: 3.19s\n",
      "21:\tlearn: 0.6364879\ttotal: 69.4ms\tremaining: 3.08s\n",
      "22:\tlearn: 0.6261021\ttotal: 70.4ms\tremaining: 2.99s\n",
      "23:\tlearn: 0.6164992\ttotal: 71.6ms\tremaining: 2.91s\n",
      "24:\tlearn: 0.6056956\ttotal: 72.6ms\tremaining: 2.83s\n",
      "25:\tlearn: 0.5971847\ttotal: 73.6ms\tremaining: 2.76s\n",
      "26:\tlearn: 0.5885916\ttotal: 74.6ms\tremaining: 2.69s\n",
      "27:\tlearn: 0.5799488\ttotal: 75.6ms\tremaining: 2.62s\n",
      "28:\tlearn: 0.5711619\ttotal: 76.6ms\tremaining: 2.56s\n",
      "29:\tlearn: 0.5615106\ttotal: 77.6ms\tremaining: 2.51s\n",
      "30:\tlearn: 0.5524542\ttotal: 78.6ms\tremaining: 2.46s\n",
      "31:\tlearn: 0.5443325\ttotal: 79.6ms\tremaining: 2.41s\n",
      "32:\tlearn: 0.5372615\ttotal: 80.6ms\tremaining: 2.36s\n",
      "33:\tlearn: 0.5300041\ttotal: 81.8ms\tremaining: 2.32s\n",
      "34:\tlearn: 0.5228044\ttotal: 82.8ms\tremaining: 2.28s\n",
      "35:\tlearn: 0.5153643\ttotal: 83.9ms\tremaining: 2.25s\n",
      "36:\tlearn: 0.5090370\ttotal: 85.1ms\tremaining: 2.21s\n",
      "37:\tlearn: 0.5029128\ttotal: 86.1ms\tremaining: 2.18s\n",
      "38:\tlearn: 0.4965476\ttotal: 87.1ms\tremaining: 2.15s\n",
      "39:\tlearn: 0.4898235\ttotal: 88ms\tremaining: 2.11s\n",
      "40:\tlearn: 0.4832215\ttotal: 89.1ms\tremaining: 2.08s\n",
      "41:\tlearn: 0.4769441\ttotal: 90.2ms\tremaining: 2.06s\n",
      "42:\tlearn: 0.4707541\ttotal: 91.1ms\tremaining: 2.03s\n",
      "43:\tlearn: 0.4656278\ttotal: 92ms\tremaining: 2s\n",
      "44:\tlearn: 0.4609206\ttotal: 93ms\tremaining: 1.97s\n",
      "45:\tlearn: 0.4557082\ttotal: 94ms\tremaining: 1.95s\n",
      "46:\tlearn: 0.4512724\ttotal: 95ms\tremaining: 1.93s\n",
      "47:\tlearn: 0.4456628\ttotal: 96ms\tremaining: 1.9s\n",
      "48:\tlearn: 0.4409022\ttotal: 97ms\tremaining: 1.88s\n",
      "49:\tlearn: 0.4360894\ttotal: 97.9ms\tremaining: 1.86s\n",
      "50:\tlearn: 0.4315321\ttotal: 98.9ms\tremaining: 1.84s\n",
      "51:\tlearn: 0.4265003\ttotal: 99.8ms\tremaining: 1.82s\n",
      "52:\tlearn: 0.4218133\ttotal: 101ms\tremaining: 1.8s\n",
      "53:\tlearn: 0.4181023\ttotal: 102ms\tremaining: 1.78s\n",
      "54:\tlearn: 0.4137463\ttotal: 103ms\tremaining: 1.77s\n",
      "55:\tlearn: 0.4094671\ttotal: 104ms\tremaining: 1.75s\n",
      "56:\tlearn: 0.4052633\ttotal: 105ms\tremaining: 1.74s\n",
      "57:\tlearn: 0.4010318\ttotal: 106ms\tremaining: 1.72s\n",
      "58:\tlearn: 0.3971979\ttotal: 107ms\tremaining: 1.71s\n",
      "59:\tlearn: 0.3937220\ttotal: 108ms\tremaining: 1.69s\n",
      "60:\tlearn: 0.3898489\ttotal: 109ms\tremaining: 1.68s\n",
      "61:\tlearn: 0.3855677\ttotal: 110ms\tremaining: 1.66s\n",
      "62:\tlearn: 0.3821055\ttotal: 111ms\tremaining: 1.65s\n",
      "63:\tlearn: 0.3783446\ttotal: 112ms\tremaining: 1.64s\n",
      "64:\tlearn: 0.3749970\ttotal: 113ms\tremaining: 1.62s\n",
      "65:\tlearn: 0.3726866\ttotal: 114ms\tremaining: 1.61s\n",
      "66:\tlearn: 0.3700851\ttotal: 115ms\tremaining: 1.6s\n",
      "67:\tlearn: 0.3679998\ttotal: 116ms\tremaining: 1.59s\n",
      "68:\tlearn: 0.3647623\ttotal: 117ms\tremaining: 1.58s\n",
      "69:\tlearn: 0.3619185\ttotal: 118ms\tremaining: 1.57s\n",
      "70:\tlearn: 0.3596981\ttotal: 119ms\tremaining: 1.55s\n",
      "71:\tlearn: 0.3569460\ttotal: 120ms\tremaining: 1.54s\n",
      "72:\tlearn: 0.3548280\ttotal: 121ms\tremaining: 1.54s\n",
      "73:\tlearn: 0.3517439\ttotal: 122ms\tremaining: 1.53s\n",
      "74:\tlearn: 0.3496231\ttotal: 123ms\tremaining: 1.52s\n",
      "75:\tlearn: 0.3479671\ttotal: 124ms\tremaining: 1.51s\n",
      "76:\tlearn: 0.3451512\ttotal: 125ms\tremaining: 1.5s\n",
      "77:\tlearn: 0.3423781\ttotal: 126ms\tremaining: 1.49s\n",
      "78:\tlearn: 0.3395781\ttotal: 128ms\tremaining: 1.49s\n",
      "79:\tlearn: 0.3376682\ttotal: 129ms\tremaining: 1.48s\n",
      "80:\tlearn: 0.3348029\ttotal: 130ms\tremaining: 1.47s\n",
      "81:\tlearn: 0.3324391\ttotal: 131ms\tremaining: 1.46s\n",
      "82:\tlearn: 0.3308961\ttotal: 132ms\tremaining: 1.45s\n",
      "83:\tlearn: 0.3294250\ttotal: 133ms\tremaining: 1.45s\n",
      "84:\tlearn: 0.3273832\ttotal: 134ms\tremaining: 1.44s\n",
      "85:\tlearn: 0.3256720\ttotal: 135ms\tremaining: 1.44s\n",
      "86:\tlearn: 0.3232826\ttotal: 136ms\tremaining: 1.43s\n",
      "87:\tlearn: 0.3207780\ttotal: 137ms\tremaining: 1.42s\n",
      "88:\tlearn: 0.3186882\ttotal: 138ms\tremaining: 1.42s\n",
      "89:\tlearn: 0.3171935\ttotal: 139ms\tremaining: 1.41s\n",
      "90:\tlearn: 0.3150771\ttotal: 140ms\tremaining: 1.4s\n",
      "91:\tlearn: 0.3134212\ttotal: 141ms\tremaining: 1.4s\n"
     ]
    },
    {
     "name": "stdout",
     "output_type": "stream",
     "text": [
      "92:\tlearn: 0.3120380\ttotal: 143ms\tremaining: 1.4s\n",
      "93:\tlearn: 0.3101086\ttotal: 145ms\tremaining: 1.39s\n",
      "94:\tlearn: 0.3087660\ttotal: 146ms\tremaining: 1.39s\n",
      "95:\tlearn: 0.3074064\ttotal: 147ms\tremaining: 1.38s\n",
      "96:\tlearn: 0.3062119\ttotal: 148ms\tremaining: 1.38s\n",
      "97:\tlearn: 0.3050963\ttotal: 149ms\tremaining: 1.37s\n",
      "98:\tlearn: 0.3036346\ttotal: 150ms\tremaining: 1.37s\n",
      "99:\tlearn: 0.3024660\ttotal: 151ms\tremaining: 1.36s\n",
      "100:\tlearn: 0.3012231\ttotal: 152ms\tremaining: 1.36s\n",
      "101:\tlearn: 0.2995866\ttotal: 153ms\tremaining: 1.35s\n",
      "102:\tlearn: 0.2983041\ttotal: 154ms\tremaining: 1.34s\n",
      "103:\tlearn: 0.2963513\ttotal: 155ms\tremaining: 1.34s\n",
      "104:\tlearn: 0.2953294\ttotal: 156ms\tremaining: 1.33s\n",
      "105:\tlearn: 0.2943338\ttotal: 157ms\tremaining: 1.33s\n",
      "106:\tlearn: 0.2929541\ttotal: 158ms\tremaining: 1.32s\n",
      "107:\tlearn: 0.2916084\ttotal: 160ms\tremaining: 1.32s\n",
      "108:\tlearn: 0.2903235\ttotal: 160ms\tremaining: 1.31s\n",
      "109:\tlearn: 0.2888446\ttotal: 161ms\tremaining: 1.31s\n",
      "110:\tlearn: 0.2879206\ttotal: 162ms\tremaining: 1.3s\n",
      "111:\tlearn: 0.2867093\ttotal: 163ms\tremaining: 1.29s\n",
      "112:\tlearn: 0.2859270\ttotal: 164ms\tremaining: 1.29s\n",
      "113:\tlearn: 0.2851477\ttotal: 165ms\tremaining: 1.28s\n",
      "114:\tlearn: 0.2838857\ttotal: 166ms\tremaining: 1.28s\n",
      "115:\tlearn: 0.2828864\ttotal: 167ms\tremaining: 1.27s\n",
      "116:\tlearn: 0.2814637\ttotal: 168ms\tremaining: 1.27s\n",
      "117:\tlearn: 0.2799033\ttotal: 169ms\tremaining: 1.26s\n",
      "118:\tlearn: 0.2787832\ttotal: 170ms\tremaining: 1.26s\n",
      "119:\tlearn: 0.2781262\ttotal: 171ms\tremaining: 1.25s\n",
      "120:\tlearn: 0.2774172\ttotal: 172ms\tremaining: 1.25s\n",
      "121:\tlearn: 0.2764679\ttotal: 173ms\tremaining: 1.25s\n",
      "122:\tlearn: 0.2761501\ttotal: 174ms\tremaining: 1.24s\n",
      "123:\tlearn: 0.2755110\ttotal: 175ms\tremaining: 1.24s\n",
      "124:\tlearn: 0.2742237\ttotal: 176ms\tremaining: 1.23s\n",
      "125:\tlearn: 0.2730891\ttotal: 177ms\tremaining: 1.23s\n",
      "126:\tlearn: 0.2724846\ttotal: 178ms\tremaining: 1.22s\n",
      "127:\tlearn: 0.2715304\ttotal: 179ms\tremaining: 1.22s\n",
      "128:\tlearn: 0.2701847\ttotal: 180ms\tremaining: 1.22s\n",
      "129:\tlearn: 0.2693749\ttotal: 181ms\tremaining: 1.21s\n",
      "130:\tlearn: 0.2679080\ttotal: 182ms\tremaining: 1.21s\n",
      "131:\tlearn: 0.2669076\ttotal: 183ms\tremaining: 1.2s\n",
      "132:\tlearn: 0.2660179\ttotal: 184ms\tremaining: 1.2s\n",
      "133:\tlearn: 0.2651559\ttotal: 185ms\tremaining: 1.2s\n",
      "134:\tlearn: 0.2640818\ttotal: 186ms\tremaining: 1.19s\n",
      "135:\tlearn: 0.2632012\ttotal: 187ms\tremaining: 1.19s\n",
      "136:\tlearn: 0.2621192\ttotal: 188ms\tremaining: 1.18s\n",
      "137:\tlearn: 0.2610749\ttotal: 189ms\tremaining: 1.18s\n",
      "138:\tlearn: 0.2603996\ttotal: 190ms\tremaining: 1.18s\n",
      "139:\tlearn: 0.2597027\ttotal: 191ms\tremaining: 1.17s\n",
      "140:\tlearn: 0.2590454\ttotal: 192ms\tremaining: 1.17s\n",
      "141:\tlearn: 0.2583888\ttotal: 194ms\tremaining: 1.17s\n",
      "142:\tlearn: 0.2581647\ttotal: 194ms\tremaining: 1.17s\n",
      "143:\tlearn: 0.2576446\ttotal: 196ms\tremaining: 1.16s\n",
      "144:\tlearn: 0.2573482\ttotal: 197ms\tremaining: 1.16s\n",
      "145:\tlearn: 0.2570532\ttotal: 198ms\tremaining: 1.16s\n",
      "146:\tlearn: 0.2563174\ttotal: 199ms\tremaining: 1.15s\n",
      "147:\tlearn: 0.2557637\ttotal: 200ms\tremaining: 1.15s\n",
      "148:\tlearn: 0.2546486\ttotal: 201ms\tremaining: 1.15s\n",
      "149:\tlearn: 0.2537941\ttotal: 202ms\tremaining: 1.14s\n",
      "150:\tlearn: 0.2524654\ttotal: 203ms\tremaining: 1.14s\n",
      "151:\tlearn: 0.2517248\ttotal: 204ms\tremaining: 1.14s\n",
      "152:\tlearn: 0.2507774\ttotal: 205ms\tremaining: 1.13s\n",
      "153:\tlearn: 0.2501120\ttotal: 206ms\tremaining: 1.13s\n",
      "154:\tlearn: 0.2493491\ttotal: 207ms\tremaining: 1.13s\n",
      "155:\tlearn: 0.2484359\ttotal: 208ms\tremaining: 1.13s\n",
      "156:\tlearn: 0.2479076\ttotal: 209ms\tremaining: 1.12s\n",
      "157:\tlearn: 0.2476804\ttotal: 210ms\tremaining: 1.12s\n",
      "158:\tlearn: 0.2463041\ttotal: 211ms\tremaining: 1.12s\n",
      "159:\tlearn: 0.2449931\ttotal: 212ms\tremaining: 1.11s\n",
      "160:\tlearn: 0.2441004\ttotal: 213ms\tremaining: 1.11s\n",
      "161:\tlearn: 0.2438117\ttotal: 214ms\tremaining: 1.11s\n",
      "162:\tlearn: 0.2432317\ttotal: 216ms\tremaining: 1.11s\n",
      "163:\tlearn: 0.2428272\ttotal: 217ms\tremaining: 1.1s\n",
      "164:\tlearn: 0.2425205\ttotal: 218ms\tremaining: 1.1s\n",
      "165:\tlearn: 0.2415970\ttotal: 219ms\tremaining: 1.1s\n",
      "166:\tlearn: 0.2411812\ttotal: 220ms\tremaining: 1.1s\n",
      "167:\tlearn: 0.2404689\ttotal: 221ms\tremaining: 1.09s\n",
      "168:\tlearn: 0.2396912\ttotal: 222ms\tremaining: 1.09s\n",
      "169:\tlearn: 0.2391058\ttotal: 223ms\tremaining: 1.09s\n",
      "170:\tlearn: 0.2387283\ttotal: 224ms\tremaining: 1.09s\n",
      "171:\tlearn: 0.2379121\ttotal: 225ms\tremaining: 1.08s\n",
      "172:\tlearn: 0.2373552\ttotal: 227ms\tremaining: 1.08s\n",
      "173:\tlearn: 0.2362411\ttotal: 227ms\tremaining: 1.08s\n",
      "174:\tlearn: 0.2351819\ttotal: 228ms\tremaining: 1.08s\n",
      "175:\tlearn: 0.2345162\ttotal: 229ms\tremaining: 1.07s\n",
      "176:\tlearn: 0.2337489\ttotal: 230ms\tremaining: 1.07s\n",
      "177:\tlearn: 0.2333837\ttotal: 231ms\tremaining: 1.07s\n",
      "178:\tlearn: 0.2331752\ttotal: 232ms\tremaining: 1.06s\n",
      "179:\tlearn: 0.2324723\ttotal: 233ms\tremaining: 1.06s\n",
      "180:\tlearn: 0.2313691\ttotal: 234ms\tremaining: 1.06s\n",
      "181:\tlearn: 0.2304501\ttotal: 235ms\tremaining: 1.06s\n",
      "182:\tlearn: 0.2298785\ttotal: 237ms\tremaining: 1.05s\n",
      "183:\tlearn: 0.2294148\ttotal: 238ms\tremaining: 1.05s\n",
      "184:\tlearn: 0.2282758\ttotal: 239ms\tremaining: 1.05s\n",
      "185:\tlearn: 0.2277014\ttotal: 240ms\tremaining: 1.05s\n",
      "186:\tlearn: 0.2267835\ttotal: 241ms\tremaining: 1.05s\n",
      "187:\tlearn: 0.2261895\ttotal: 242ms\tremaining: 1.04s\n",
      "188:\tlearn: 0.2255081\ttotal: 243ms\tremaining: 1.04s\n",
      "189:\tlearn: 0.2248404\ttotal: 244ms\tremaining: 1.04s\n",
      "190:\tlearn: 0.2242403\ttotal: 245ms\tremaining: 1.04s\n",
      "191:\tlearn: 0.2235647\ttotal: 246ms\tremaining: 1.03s\n",
      "192:\tlearn: 0.2231745\ttotal: 247ms\tremaining: 1.03s\n",
      "193:\tlearn: 0.2228341\ttotal: 248ms\tremaining: 1.03s\n",
      "194:\tlearn: 0.2219686\ttotal: 249ms\tremaining: 1.03s\n",
      "195:\tlearn: 0.2212141\ttotal: 250ms\tremaining: 1.02s\n",
      "196:\tlearn: 0.2208774\ttotal: 251ms\tremaining: 1.02s\n",
      "197:\tlearn: 0.2202463\ttotal: 252ms\tremaining: 1.02s\n",
      "198:\tlearn: 0.2195693\ttotal: 253ms\tremaining: 1.02s\n",
      "199:\tlearn: 0.2190567\ttotal: 254ms\tremaining: 1.02s\n",
      "200:\tlearn: 0.2184734\ttotal: 255ms\tremaining: 1.01s\n",
      "201:\tlearn: 0.2181512\ttotal: 256ms\tremaining: 1.01s\n",
      "202:\tlearn: 0.2173038\ttotal: 258ms\tremaining: 1.01s\n",
      "203:\tlearn: 0.2164427\ttotal: 258ms\tremaining: 1.01s\n",
      "204:\tlearn: 0.2159773\ttotal: 260ms\tremaining: 1.01s\n",
      "205:\tlearn: 0.2151023\ttotal: 261ms\tremaining: 1s\n",
      "206:\tlearn: 0.2144869\ttotal: 262ms\tremaining: 1s\n",
      "207:\tlearn: 0.2140097\ttotal: 263ms\tremaining: 1s\n",
      "208:\tlearn: 0.2137808\ttotal: 264ms\tremaining: 998ms\n",
      "209:\tlearn: 0.2133874\ttotal: 265ms\tremaining: 997ms\n",
      "210:\tlearn: 0.2130570\ttotal: 266ms\tremaining: 995ms\n",
      "211:\tlearn: 0.2125541\ttotal: 267ms\tremaining: 993ms\n",
      "212:\tlearn: 0.2119555\ttotal: 268ms\tremaining: 991ms\n",
      "213:\tlearn: 0.2113359\ttotal: 269ms\tremaining: 990ms\n",
      "214:\tlearn: 0.2108607\ttotal: 270ms\tremaining: 987ms\n",
      "215:\tlearn: 0.2101854\ttotal: 272ms\tremaining: 986ms\n",
      "216:\tlearn: 0.2100066\ttotal: 273ms\tremaining: 983ms\n",
      "217:\tlearn: 0.2097561\ttotal: 274ms\tremaining: 981ms\n",
      "218:\tlearn: 0.2092995\ttotal: 275ms\tremaining: 979ms\n",
      "219:\tlearn: 0.2087455\ttotal: 276ms\tremaining: 977ms\n",
      "220:\tlearn: 0.2084308\ttotal: 276ms\tremaining: 975ms\n",
      "221:\tlearn: 0.2082563\ttotal: 277ms\tremaining: 972ms\n",
      "222:\tlearn: 0.2081173\ttotal: 278ms\tremaining: 970ms\n"
     ]
    },
    {
     "name": "stdout",
     "output_type": "stream",
     "text": [
      "223:\tlearn: 0.2080150\ttotal: 279ms\tremaining: 968ms\n",
      "224:\tlearn: 0.2078350\ttotal: 281ms\tremaining: 967ms\n",
      "225:\tlearn: 0.2071489\ttotal: 282ms\tremaining: 965ms\n",
      "226:\tlearn: 0.2069612\ttotal: 283ms\tremaining: 963ms\n",
      "227:\tlearn: 0.2064632\ttotal: 284ms\tremaining: 961ms\n",
      "228:\tlearn: 0.2061950\ttotal: 285ms\tremaining: 961ms\n",
      "229:\tlearn: 0.2055482\ttotal: 287ms\tremaining: 959ms\n",
      "230:\tlearn: 0.2053763\ttotal: 287ms\tremaining: 957ms\n",
      "231:\tlearn: 0.2047452\ttotal: 288ms\tremaining: 955ms\n",
      "232:\tlearn: 0.2043103\ttotal: 290ms\tremaining: 953ms\n",
      "233:\tlearn: 0.2035069\ttotal: 290ms\tremaining: 951ms\n",
      "234:\tlearn: 0.2031463\ttotal: 291ms\tremaining: 948ms\n",
      "235:\tlearn: 0.2025025\ttotal: 292ms\tremaining: 947ms\n",
      "236:\tlearn: 0.2023414\ttotal: 293ms\tremaining: 945ms\n",
      "237:\tlearn: 0.2022035\ttotal: 294ms\tremaining: 942ms\n",
      "238:\tlearn: 0.2018931\ttotal: 295ms\tremaining: 940ms\n",
      "239:\tlearn: 0.2011334\ttotal: 296ms\tremaining: 938ms\n",
      "240:\tlearn: 0.2008959\ttotal: 297ms\tremaining: 936ms\n",
      "241:\tlearn: 0.2003079\ttotal: 298ms\tremaining: 934ms\n",
      "242:\tlearn: 0.1999158\ttotal: 299ms\tremaining: 932ms\n",
      "243:\tlearn: 0.1995200\ttotal: 300ms\tremaining: 930ms\n",
      "244:\tlearn: 0.1989167\ttotal: 301ms\tremaining: 928ms\n",
      "245:\tlearn: 0.1987728\ttotal: 302ms\tremaining: 926ms\n",
      "246:\tlearn: 0.1986558\ttotal: 303ms\tremaining: 924ms\n",
      "247:\tlearn: 0.1979688\ttotal: 304ms\tremaining: 922ms\n",
      "248:\tlearn: 0.1975234\ttotal: 305ms\tremaining: 921ms\n",
      "249:\tlearn: 0.1971724\ttotal: 306ms\tremaining: 919ms\n",
      "250:\tlearn: 0.1969022\ttotal: 307ms\tremaining: 917ms\n",
      "251:\tlearn: 0.1966055\ttotal: 308ms\tremaining: 915ms\n",
      "252:\tlearn: 0.1962784\ttotal: 309ms\tremaining: 913ms\n",
      "253:\tlearn: 0.1957618\ttotal: 310ms\tremaining: 911ms\n",
      "254:\tlearn: 0.1954174\ttotal: 311ms\tremaining: 909ms\n",
      "255:\tlearn: 0.1952510\ttotal: 312ms\tremaining: 907ms\n",
      "256:\tlearn: 0.1948050\ttotal: 313ms\tremaining: 905ms\n",
      "257:\tlearn: 0.1942311\ttotal: 314ms\tremaining: 903ms\n",
      "258:\tlearn: 0.1940713\ttotal: 315ms\tremaining: 901ms\n",
      "259:\tlearn: 0.1939850\ttotal: 316ms\tremaining: 899ms\n",
      "260:\tlearn: 0.1933829\ttotal: 317ms\tremaining: 897ms\n",
      "261:\tlearn: 0.1933056\ttotal: 318ms\tremaining: 896ms\n",
      "262:\tlearn: 0.1931317\ttotal: 319ms\tremaining: 894ms\n",
      "263:\tlearn: 0.1923999\ttotal: 320ms\tremaining: 892ms\n",
      "264:\tlearn: 0.1915960\ttotal: 321ms\tremaining: 890ms\n",
      "265:\tlearn: 0.1914095\ttotal: 322ms\tremaining: 889ms\n",
      "266:\tlearn: 0.1909857\ttotal: 323ms\tremaining: 887ms\n",
      "267:\tlearn: 0.1908845\ttotal: 324ms\tremaining: 885ms\n",
      "268:\tlearn: 0.1908023\ttotal: 325ms\tremaining: 883ms\n",
      "269:\tlearn: 0.1902688\ttotal: 326ms\tremaining: 881ms\n",
      "270:\tlearn: 0.1898900\ttotal: 327ms\tremaining: 880ms\n",
      "271:\tlearn: 0.1891485\ttotal: 328ms\tremaining: 878ms\n",
      "272:\tlearn: 0.1882996\ttotal: 329ms\tremaining: 877ms\n",
      "273:\tlearn: 0.1877448\ttotal: 330ms\tremaining: 875ms\n",
      "274:\tlearn: 0.1875704\ttotal: 331ms\tremaining: 874ms\n",
      "275:\tlearn: 0.1871666\ttotal: 332ms\tremaining: 872ms\n",
      "276:\tlearn: 0.1864912\ttotal: 333ms\tremaining: 870ms\n",
      "277:\tlearn: 0.1861780\ttotal: 334ms\tremaining: 868ms\n",
      "278:\tlearn: 0.1858686\ttotal: 335ms\tremaining: 867ms\n",
      "279:\tlearn: 0.1856477\ttotal: 336ms\tremaining: 865ms\n",
      "280:\tlearn: 0.1852510\ttotal: 337ms\tremaining: 863ms\n",
      "281:\tlearn: 0.1846518\ttotal: 338ms\tremaining: 861ms\n",
      "282:\tlearn: 0.1840451\ttotal: 339ms\tremaining: 859ms\n",
      "283:\tlearn: 0.1835297\ttotal: 340ms\tremaining: 858ms\n",
      "284:\tlearn: 0.1831953\ttotal: 341ms\tremaining: 857ms\n",
      "285:\tlearn: 0.1830858\ttotal: 342ms\tremaining: 855ms\n",
      "286:\tlearn: 0.1826339\ttotal: 343ms\tremaining: 853ms\n",
      "287:\tlearn: 0.1823515\ttotal: 344ms\tremaining: 851ms\n",
      "288:\tlearn: 0.1818290\ttotal: 345ms\tremaining: 850ms\n",
      "289:\tlearn: 0.1812358\ttotal: 346ms\tremaining: 848ms\n",
      "290:\tlearn: 0.1810732\ttotal: 347ms\tremaining: 846ms\n",
      "291:\tlearn: 0.1805332\ttotal: 348ms\tremaining: 845ms\n",
      "292:\tlearn: 0.1804552\ttotal: 349ms\tremaining: 843ms\n",
      "293:\tlearn: 0.1798463\ttotal: 350ms\tremaining: 841ms\n",
      "294:\tlearn: 0.1796575\ttotal: 351ms\tremaining: 840ms\n",
      "295:\tlearn: 0.1791869\ttotal: 353ms\tremaining: 839ms\n",
      "296:\tlearn: 0.1785847\ttotal: 354ms\tremaining: 837ms\n",
      "297:\tlearn: 0.1783188\ttotal: 355ms\tremaining: 835ms\n",
      "298:\tlearn: 0.1777364\ttotal: 356ms\tremaining: 834ms\n",
      "299:\tlearn: 0.1772341\ttotal: 357ms\tremaining: 832ms\n",
      "300:\tlearn: 0.1769724\ttotal: 358ms\tremaining: 831ms\n",
      "301:\tlearn: 0.1767808\ttotal: 359ms\tremaining: 829ms\n",
      "302:\tlearn: 0.1764875\ttotal: 360ms\tremaining: 827ms\n",
      "303:\tlearn: 0.1762202\ttotal: 361ms\tremaining: 826ms\n",
      "304:\tlearn: 0.1760135\ttotal: 362ms\tremaining: 824ms\n",
      "305:\tlearn: 0.1754943\ttotal: 363ms\tremaining: 823ms\n",
      "306:\tlearn: 0.1753775\ttotal: 364ms\tremaining: 821ms\n",
      "307:\tlearn: 0.1749566\ttotal: 365ms\tremaining: 820ms\n",
      "308:\tlearn: 0.1748609\ttotal: 366ms\tremaining: 818ms\n",
      "309:\tlearn: 0.1747996\ttotal: 367ms\tremaining: 817ms\n",
      "310:\tlearn: 0.1741655\ttotal: 368ms\tremaining: 815ms\n",
      "311:\tlearn: 0.1737349\ttotal: 369ms\tremaining: 813ms\n",
      "312:\tlearn: 0.1735934\ttotal: 370ms\tremaining: 812ms\n",
      "313:\tlearn: 0.1732158\ttotal: 371ms\tremaining: 810ms\n",
      "314:\tlearn: 0.1729491\ttotal: 372ms\tremaining: 808ms\n",
      "315:\tlearn: 0.1724130\ttotal: 373ms\tremaining: 807ms\n",
      "316:\tlearn: 0.1723284\ttotal: 374ms\tremaining: 805ms\n",
      "317:\tlearn: 0.1717959\ttotal: 375ms\tremaining: 804ms\n",
      "318:\tlearn: 0.1714005\ttotal: 376ms\tremaining: 802ms\n",
      "319:\tlearn: 0.1711626\ttotal: 377ms\tremaining: 801ms\n",
      "320:\tlearn: 0.1707611\ttotal: 378ms\tremaining: 799ms\n",
      "321:\tlearn: 0.1706692\ttotal: 379ms\tremaining: 797ms\n",
      "322:\tlearn: 0.1702604\ttotal: 380ms\tremaining: 796ms\n",
      "323:\tlearn: 0.1698106\ttotal: 381ms\tremaining: 794ms\n",
      "324:\tlearn: 0.1692017\ttotal: 382ms\tremaining: 793ms\n",
      "325:\tlearn: 0.1689615\ttotal: 383ms\tremaining: 791ms\n",
      "326:\tlearn: 0.1688573\ttotal: 384ms\tremaining: 789ms\n",
      "327:\tlearn: 0.1684729\ttotal: 384ms\tremaining: 788ms\n",
      "328:\tlearn: 0.1682902\ttotal: 386ms\tremaining: 786ms\n",
      "329:\tlearn: 0.1678661\ttotal: 387ms\tremaining: 785ms\n",
      "330:\tlearn: 0.1677172\ttotal: 388ms\tremaining: 783ms\n",
      "331:\tlearn: 0.1672394\ttotal: 388ms\tremaining: 782ms\n",
      "332:\tlearn: 0.1668059\ttotal: 389ms\tremaining: 780ms\n",
      "333:\tlearn: 0.1662460\ttotal: 391ms\tremaining: 779ms\n",
      "334:\tlearn: 0.1660054\ttotal: 391ms\tremaining: 777ms\n",
      "335:\tlearn: 0.1655257\ttotal: 392ms\tremaining: 775ms\n",
      "336:\tlearn: 0.1652173\ttotal: 393ms\tremaining: 774ms\n",
      "337:\tlearn: 0.1649887\ttotal: 394ms\tremaining: 772ms\n",
      "338:\tlearn: 0.1644553\ttotal: 395ms\tremaining: 771ms\n",
      "339:\tlearn: 0.1640499\ttotal: 396ms\tremaining: 769ms\n",
      "340:\tlearn: 0.1635926\ttotal: 397ms\tremaining: 768ms\n",
      "341:\tlearn: 0.1630993\ttotal: 398ms\tremaining: 766ms\n",
      "342:\tlearn: 0.1625694\ttotal: 399ms\tremaining: 764ms\n",
      "343:\tlearn: 0.1619230\ttotal: 400ms\tremaining: 763ms\n",
      "344:\tlearn: 0.1615817\ttotal: 401ms\tremaining: 761ms\n",
      "345:\tlearn: 0.1612703\ttotal: 402ms\tremaining: 760ms\n",
      "346:\tlearn: 0.1609959\ttotal: 403ms\tremaining: 758ms\n",
      "347:\tlearn: 0.1607312\ttotal: 404ms\tremaining: 757ms\n",
      "348:\tlearn: 0.1605103\ttotal: 405ms\tremaining: 755ms\n",
      "349:\tlearn: 0.1600773\ttotal: 406ms\tremaining: 754ms\n",
      "350:\tlearn: 0.1597684\ttotal: 407ms\tremaining: 752ms\n",
      "351:\tlearn: 0.1593413\ttotal: 408ms\tremaining: 751ms\n",
      "352:\tlearn: 0.1588521\ttotal: 409ms\tremaining: 749ms\n",
      "353:\tlearn: 0.1584286\ttotal: 410ms\tremaining: 748ms\n",
      "354:\tlearn: 0.1579999\ttotal: 411ms\tremaining: 746ms\n"
     ]
    },
    {
     "name": "stdout",
     "output_type": "stream",
     "text": [
      "355:\tlearn: 0.1579142\ttotal: 413ms\tremaining: 748ms\n",
      "356:\tlearn: 0.1575608\ttotal: 415ms\tremaining: 747ms\n",
      "357:\tlearn: 0.1573324\ttotal: 416ms\tremaining: 746ms\n",
      "358:\tlearn: 0.1568063\ttotal: 417ms\tremaining: 744ms\n",
      "359:\tlearn: 0.1565919\ttotal: 418ms\tremaining: 743ms\n",
      "360:\tlearn: 0.1562702\ttotal: 419ms\tremaining: 742ms\n",
      "361:\tlearn: 0.1559591\ttotal: 420ms\tremaining: 740ms\n",
      "362:\tlearn: 0.1558961\ttotal: 421ms\tremaining: 739ms\n",
      "363:\tlearn: 0.1557608\ttotal: 422ms\tremaining: 738ms\n",
      "364:\tlearn: 0.1557236\ttotal: 423ms\tremaining: 737ms\n",
      "365:\tlearn: 0.1552400\ttotal: 424ms\tremaining: 735ms\n",
      "366:\tlearn: 0.1551809\ttotal: 426ms\tremaining: 734ms\n",
      "367:\tlearn: 0.1548633\ttotal: 427ms\tremaining: 733ms\n",
      "368:\tlearn: 0.1547283\ttotal: 430ms\tremaining: 736ms\n",
      "369:\tlearn: 0.1543402\ttotal: 432ms\tremaining: 735ms\n",
      "370:\tlearn: 0.1539791\ttotal: 433ms\tremaining: 734ms\n",
      "371:\tlearn: 0.1537895\ttotal: 434ms\tremaining: 733ms\n",
      "372:\tlearn: 0.1535403\ttotal: 435ms\tremaining: 732ms\n",
      "373:\tlearn: 0.1530829\ttotal: 436ms\tremaining: 730ms\n",
      "374:\tlearn: 0.1530531\ttotal: 437ms\tremaining: 729ms\n",
      "375:\tlearn: 0.1530008\ttotal: 438ms\tremaining: 728ms\n",
      "376:\tlearn: 0.1526805\ttotal: 440ms\tremaining: 726ms\n",
      "377:\tlearn: 0.1523850\ttotal: 441ms\tremaining: 725ms\n",
      "378:\tlearn: 0.1520807\ttotal: 442ms\tremaining: 724ms\n",
      "379:\tlearn: 0.1518885\ttotal: 443ms\tremaining: 722ms\n",
      "380:\tlearn: 0.1514978\ttotal: 444ms\tremaining: 721ms\n",
      "381:\tlearn: 0.1512224\ttotal: 445ms\tremaining: 720ms\n",
      "382:\tlearn: 0.1507688\ttotal: 446ms\tremaining: 718ms\n",
      "383:\tlearn: 0.1505474\ttotal: 447ms\tremaining: 717ms\n",
      "384:\tlearn: 0.1500478\ttotal: 448ms\tremaining: 716ms\n",
      "385:\tlearn: 0.1497659\ttotal: 449ms\tremaining: 714ms\n",
      "386:\tlearn: 0.1493621\ttotal: 450ms\tremaining: 713ms\n",
      "387:\tlearn: 0.1490516\ttotal: 451ms\tremaining: 712ms\n",
      "388:\tlearn: 0.1487225\ttotal: 452ms\tremaining: 710ms\n",
      "389:\tlearn: 0.1482811\ttotal: 453ms\tremaining: 709ms\n",
      "390:\tlearn: 0.1482222\ttotal: 454ms\tremaining: 707ms\n",
      "391:\tlearn: 0.1481161\ttotal: 455ms\tremaining: 706ms\n",
      "392:\tlearn: 0.1479501\ttotal: 456ms\tremaining: 705ms\n",
      "393:\tlearn: 0.1474860\ttotal: 457ms\tremaining: 703ms\n",
      "394:\tlearn: 0.1473656\ttotal: 458ms\tremaining: 702ms\n",
      "395:\tlearn: 0.1471165\ttotal: 460ms\tremaining: 701ms\n",
      "396:\tlearn: 0.1466778\ttotal: 461ms\tremaining: 701ms\n",
      "397:\tlearn: 0.1462672\ttotal: 463ms\tremaining: 700ms\n",
      "398:\tlearn: 0.1459396\ttotal: 464ms\tremaining: 699ms\n",
      "399:\tlearn: 0.1457134\ttotal: 465ms\tremaining: 698ms\n",
      "400:\tlearn: 0.1453054\ttotal: 466ms\tremaining: 696ms\n",
      "401:\tlearn: 0.1449933\ttotal: 467ms\tremaining: 695ms\n",
      "402:\tlearn: 0.1448754\ttotal: 468ms\tremaining: 694ms\n",
      "403:\tlearn: 0.1445853\ttotal: 469ms\tremaining: 692ms\n",
      "404:\tlearn: 0.1443961\ttotal: 470ms\tremaining: 691ms\n",
      "405:\tlearn: 0.1443301\ttotal: 471ms\tremaining: 689ms\n",
      "406:\tlearn: 0.1441552\ttotal: 472ms\tremaining: 688ms\n",
      "407:\tlearn: 0.1436678\ttotal: 473ms\tremaining: 687ms\n",
      "408:\tlearn: 0.1432905\ttotal: 474ms\tremaining: 685ms\n",
      "409:\tlearn: 0.1429203\ttotal: 475ms\tremaining: 684ms\n",
      "410:\tlearn: 0.1425724\ttotal: 476ms\tremaining: 683ms\n",
      "411:\tlearn: 0.1425097\ttotal: 477ms\tremaining: 681ms\n",
      "412:\tlearn: 0.1421120\ttotal: 478ms\tremaining: 680ms\n",
      "413:\tlearn: 0.1417039\ttotal: 479ms\tremaining: 678ms\n",
      "414:\tlearn: 0.1413482\ttotal: 480ms\tremaining: 677ms\n",
      "415:\tlearn: 0.1409993\ttotal: 481ms\tremaining: 676ms\n",
      "416:\tlearn: 0.1407702\ttotal: 482ms\tremaining: 674ms\n",
      "417:\tlearn: 0.1404942\ttotal: 483ms\tremaining: 673ms\n",
      "418:\tlearn: 0.1401539\ttotal: 484ms\tremaining: 671ms\n",
      "419:\tlearn: 0.1399418\ttotal: 485ms\tremaining: 670ms\n",
      "420:\tlearn: 0.1397598\ttotal: 486ms\tremaining: 669ms\n",
      "421:\tlearn: 0.1394748\ttotal: 487ms\tremaining: 668ms\n",
      "422:\tlearn: 0.1392605\ttotal: 488ms\tremaining: 666ms\n",
      "423:\tlearn: 0.1387915\ttotal: 489ms\tremaining: 665ms\n",
      "424:\tlearn: 0.1385695\ttotal: 490ms\tremaining: 664ms\n",
      "425:\tlearn: 0.1381968\ttotal: 491ms\tremaining: 662ms\n",
      "426:\tlearn: 0.1378562\ttotal: 492ms\tremaining: 661ms\n",
      "427:\tlearn: 0.1374798\ttotal: 493ms\tremaining: 659ms\n",
      "428:\tlearn: 0.1370677\ttotal: 494ms\tremaining: 658ms\n",
      "429:\tlearn: 0.1368074\ttotal: 495ms\tremaining: 657ms\n",
      "430:\tlearn: 0.1365012\ttotal: 497ms\tremaining: 656ms\n",
      "431:\tlearn: 0.1363868\ttotal: 498ms\tremaining: 654ms\n",
      "432:\tlearn: 0.1359730\ttotal: 499ms\tremaining: 653ms\n",
      "433:\tlearn: 0.1355017\ttotal: 500ms\tremaining: 652ms\n",
      "434:\tlearn: 0.1354388\ttotal: 501ms\tremaining: 650ms\n",
      "435:\tlearn: 0.1350754\ttotal: 502ms\tremaining: 649ms\n",
      "436:\tlearn: 0.1346845\ttotal: 503ms\tremaining: 648ms\n",
      "437:\tlearn: 0.1344676\ttotal: 504ms\tremaining: 646ms\n",
      "438:\tlearn: 0.1341432\ttotal: 505ms\tremaining: 645ms\n",
      "439:\tlearn: 0.1339695\ttotal: 506ms\tremaining: 644ms\n",
      "440:\tlearn: 0.1336717\ttotal: 507ms\tremaining: 642ms\n",
      "441:\tlearn: 0.1332991\ttotal: 508ms\tremaining: 641ms\n",
      "442:\tlearn: 0.1331146\ttotal: 509ms\tremaining: 640ms\n",
      "443:\tlearn: 0.1328323\ttotal: 510ms\tremaining: 639ms\n",
      "444:\tlearn: 0.1324625\ttotal: 511ms\tremaining: 637ms\n",
      "445:\tlearn: 0.1322027\ttotal: 512ms\tremaining: 636ms\n",
      "446:\tlearn: 0.1319257\ttotal: 513ms\tremaining: 635ms\n",
      "447:\tlearn: 0.1315069\ttotal: 514ms\tremaining: 633ms\n",
      "448:\tlearn: 0.1312772\ttotal: 515ms\tremaining: 632ms\n",
      "449:\tlearn: 0.1308685\ttotal: 516ms\tremaining: 631ms\n",
      "450:\tlearn: 0.1306941\ttotal: 517ms\tremaining: 629ms\n",
      "451:\tlearn: 0.1304601\ttotal: 518ms\tremaining: 628ms\n",
      "452:\tlearn: 0.1302202\ttotal: 519ms\tremaining: 626ms\n",
      "453:\tlearn: 0.1298617\ttotal: 520ms\tremaining: 625ms\n",
      "454:\tlearn: 0.1295567\ttotal: 521ms\tremaining: 624ms\n",
      "455:\tlearn: 0.1292266\ttotal: 522ms\tremaining: 623ms\n",
      "456:\tlearn: 0.1289728\ttotal: 523ms\tremaining: 621ms\n",
      "457:\tlearn: 0.1286273\ttotal: 524ms\tremaining: 620ms\n",
      "458:\tlearn: 0.1283570\ttotal: 525ms\tremaining: 619ms\n",
      "459:\tlearn: 0.1279184\ttotal: 526ms\tremaining: 618ms\n",
      "460:\tlearn: 0.1277955\ttotal: 527ms\tremaining: 616ms\n",
      "461:\tlearn: 0.1273827\ttotal: 528ms\tremaining: 615ms\n",
      "462:\tlearn: 0.1272103\ttotal: 529ms\tremaining: 614ms\n",
      "463:\tlearn: 0.1269330\ttotal: 531ms\tremaining: 613ms\n",
      "464:\tlearn: 0.1266726\ttotal: 532ms\tremaining: 612ms\n",
      "465:\tlearn: 0.1262669\ttotal: 533ms\tremaining: 610ms\n",
      "466:\tlearn: 0.1261674\ttotal: 534ms\tremaining: 609ms\n",
      "467:\tlearn: 0.1260676\ttotal: 535ms\tremaining: 608ms\n",
      "468:\tlearn: 0.1258598\ttotal: 536ms\tremaining: 607ms\n",
      "469:\tlearn: 0.1257652\ttotal: 537ms\tremaining: 606ms\n",
      "470:\tlearn: 0.1255474\ttotal: 538ms\tremaining: 604ms\n",
      "471:\tlearn: 0.1252617\ttotal: 539ms\tremaining: 603ms\n",
      "472:\tlearn: 0.1250765\ttotal: 540ms\tremaining: 602ms\n",
      "473:\tlearn: 0.1248426\ttotal: 541ms\tremaining: 601ms\n",
      "474:\tlearn: 0.1246366\ttotal: 542ms\tremaining: 600ms\n"
     ]
    },
    {
     "name": "stdout",
     "output_type": "stream",
     "text": [
      "475:\tlearn: 0.1243212\ttotal: 543ms\tremaining: 598ms\n",
      "476:\tlearn: 0.1241007\ttotal: 545ms\tremaining: 597ms\n",
      "477:\tlearn: 0.1236898\ttotal: 546ms\tremaining: 596ms\n",
      "478:\tlearn: 0.1234518\ttotal: 547ms\tremaining: 595ms\n",
      "479:\tlearn: 0.1231576\ttotal: 548ms\tremaining: 593ms\n",
      "480:\tlearn: 0.1228662\ttotal: 549ms\tremaining: 592ms\n",
      "481:\tlearn: 0.1225617\ttotal: 550ms\tremaining: 591ms\n",
      "482:\tlearn: 0.1223071\ttotal: 551ms\tremaining: 590ms\n",
      "483:\tlearn: 0.1221232\ttotal: 552ms\tremaining: 589ms\n",
      "484:\tlearn: 0.1219458\ttotal: 553ms\tremaining: 587ms\n",
      "485:\tlearn: 0.1217484\ttotal: 554ms\tremaining: 586ms\n",
      "486:\tlearn: 0.1213098\ttotal: 555ms\tremaining: 585ms\n",
      "487:\tlearn: 0.1210349\ttotal: 557ms\tremaining: 584ms\n",
      "488:\tlearn: 0.1208126\ttotal: 558ms\tremaining: 583ms\n",
      "489:\tlearn: 0.1204788\ttotal: 559ms\tremaining: 581ms\n",
      "490:\tlearn: 0.1201006\ttotal: 560ms\tremaining: 580ms\n",
      "491:\tlearn: 0.1198501\ttotal: 561ms\tremaining: 579ms\n",
      "492:\tlearn: 0.1196047\ttotal: 562ms\tremaining: 578ms\n",
      "493:\tlearn: 0.1194214\ttotal: 563ms\tremaining: 577ms\n",
      "494:\tlearn: 0.1192459\ttotal: 564ms\tremaining: 575ms\n",
      "495:\tlearn: 0.1189006\ttotal: 565ms\tremaining: 574ms\n",
      "496:\tlearn: 0.1187305\ttotal: 566ms\tremaining: 573ms\n",
      "497:\tlearn: 0.1183192\ttotal: 567ms\tremaining: 572ms\n",
      "498:\tlearn: 0.1181486\ttotal: 568ms\tremaining: 570ms\n",
      "499:\tlearn: 0.1179927\ttotal: 569ms\tremaining: 569ms\n",
      "500:\tlearn: 0.1177850\ttotal: 570ms\tremaining: 568ms\n",
      "501:\tlearn: 0.1175793\ttotal: 571ms\tremaining: 567ms\n",
      "502:\tlearn: 0.1174090\ttotal: 572ms\tremaining: 566ms\n",
      "503:\tlearn: 0.1171001\ttotal: 574ms\tremaining: 564ms\n",
      "504:\tlearn: 0.1169871\ttotal: 575ms\tremaining: 563ms\n",
      "505:\tlearn: 0.1166861\ttotal: 576ms\tremaining: 562ms\n",
      "506:\tlearn: 0.1165110\ttotal: 577ms\tremaining: 561ms\n",
      "507:\tlearn: 0.1163089\ttotal: 578ms\tremaining: 559ms\n",
      "508:\tlearn: 0.1161123\ttotal: 579ms\tremaining: 558ms\n",
      "509:\tlearn: 0.1158421\ttotal: 580ms\tremaining: 557ms\n",
      "510:\tlearn: 0.1156830\ttotal: 581ms\tremaining: 556ms\n",
      "511:\tlearn: 0.1154144\ttotal: 582ms\tremaining: 555ms\n",
      "512:\tlearn: 0.1150865\ttotal: 583ms\tremaining: 553ms\n",
      "513:\tlearn: 0.1149754\ttotal: 584ms\tremaining: 552ms\n",
      "514:\tlearn: 0.1147502\ttotal: 585ms\tremaining: 551ms\n",
      "515:\tlearn: 0.1145091\ttotal: 586ms\tremaining: 550ms\n",
      "516:\tlearn: 0.1144187\ttotal: 587ms\tremaining: 549ms\n",
      "517:\tlearn: 0.1140917\ttotal: 588ms\tremaining: 547ms\n",
      "518:\tlearn: 0.1139994\ttotal: 590ms\tremaining: 547ms\n",
      "519:\tlearn: 0.1138192\ttotal: 591ms\tremaining: 546ms\n",
      "520:\tlearn: 0.1136579\ttotal: 592ms\tremaining: 544ms\n",
      "521:\tlearn: 0.1136227\ttotal: 593ms\tremaining: 543ms\n",
      "522:\tlearn: 0.1131903\ttotal: 594ms\tremaining: 542ms\n",
      "523:\tlearn: 0.1129762\ttotal: 595ms\tremaining: 540ms\n",
      "524:\tlearn: 0.1127680\ttotal: 596ms\tremaining: 539ms\n",
      "525:\tlearn: 0.1125735\ttotal: 597ms\tremaining: 538ms\n",
      "526:\tlearn: 0.1124278\ttotal: 598ms\tremaining: 537ms\n",
      "527:\tlearn: 0.1120211\ttotal: 599ms\tremaining: 535ms\n",
      "528:\tlearn: 0.1118408\ttotal: 600ms\tremaining: 534ms\n",
      "529:\tlearn: 0.1115855\ttotal: 601ms\tremaining: 533ms\n",
      "530:\tlearn: 0.1114428\ttotal: 602ms\tremaining: 532ms\n",
      "531:\tlearn: 0.1113415\ttotal: 603ms\tremaining: 531ms\n",
      "532:\tlearn: 0.1112304\ttotal: 604ms\tremaining: 529ms\n",
      "533:\tlearn: 0.1109868\ttotal: 605ms\tremaining: 528ms\n",
      "534:\tlearn: 0.1107580\ttotal: 606ms\tremaining: 527ms\n",
      "535:\tlearn: 0.1105230\ttotal: 607ms\tremaining: 525ms\n",
      "536:\tlearn: 0.1101081\ttotal: 608ms\tremaining: 524ms\n",
      "537:\tlearn: 0.1098249\ttotal: 609ms\tremaining: 523ms\n",
      "538:\tlearn: 0.1096797\ttotal: 610ms\tremaining: 522ms\n",
      "539:\tlearn: 0.1094082\ttotal: 611ms\tremaining: 520ms\n",
      "540:\tlearn: 0.1092694\ttotal: 612ms\tremaining: 519ms\n",
      "541:\tlearn: 0.1091138\ttotal: 613ms\tremaining: 518ms\n",
      "542:\tlearn: 0.1087968\ttotal: 614ms\tremaining: 517ms\n",
      "543:\tlearn: 0.1086943\ttotal: 615ms\tremaining: 516ms\n",
      "544:\tlearn: 0.1086574\ttotal: 616ms\tremaining: 514ms\n",
      "545:\tlearn: 0.1085687\ttotal: 617ms\tremaining: 513ms\n",
      "546:\tlearn: 0.1083433\ttotal: 618ms\tremaining: 512ms\n",
      "547:\tlearn: 0.1082046\ttotal: 619ms\tremaining: 511ms\n",
      "548:\tlearn: 0.1080000\ttotal: 620ms\tremaining: 510ms\n",
      "549:\tlearn: 0.1076313\ttotal: 622ms\tremaining: 509ms\n",
      "550:\tlearn: 0.1073040\ttotal: 623ms\tremaining: 507ms\n",
      "551:\tlearn: 0.1071833\ttotal: 624ms\tremaining: 506ms\n",
      "552:\tlearn: 0.1069664\ttotal: 625ms\tremaining: 505ms\n",
      "553:\tlearn: 0.1068288\ttotal: 626ms\tremaining: 504ms\n",
      "554:\tlearn: 0.1067509\ttotal: 627ms\tremaining: 502ms\n",
      "555:\tlearn: 0.1063626\ttotal: 628ms\tremaining: 501ms\n",
      "556:\tlearn: 0.1060531\ttotal: 629ms\tremaining: 500ms\n",
      "557:\tlearn: 0.1057885\ttotal: 630ms\tremaining: 499ms\n",
      "558:\tlearn: 0.1056630\ttotal: 631ms\tremaining: 498ms\n",
      "559:\tlearn: 0.1056054\ttotal: 632ms\tremaining: 496ms\n",
      "560:\tlearn: 0.1054361\ttotal: 633ms\tremaining: 495ms\n",
      "561:\tlearn: 0.1053334\ttotal: 634ms\tremaining: 494ms\n",
      "562:\tlearn: 0.1050467\ttotal: 635ms\tremaining: 493ms\n",
      "563:\tlearn: 0.1050141\ttotal: 636ms\tremaining: 491ms\n",
      "564:\tlearn: 0.1047737\ttotal: 637ms\tremaining: 490ms\n",
      "565:\tlearn: 0.1046128\ttotal: 638ms\tremaining: 489ms\n",
      "566:\tlearn: 0.1043621\ttotal: 639ms\tremaining: 488ms\n",
      "567:\tlearn: 0.1041841\ttotal: 640ms\tremaining: 487ms\n",
      "568:\tlearn: 0.1040094\ttotal: 641ms\tremaining: 485ms\n",
      "569:\tlearn: 0.1036837\ttotal: 642ms\tremaining: 484ms\n",
      "570:\tlearn: 0.1036589\ttotal: 643ms\tremaining: 483ms\n",
      "571:\tlearn: 0.1034266\ttotal: 644ms\tremaining: 482ms\n",
      "572:\tlearn: 0.1032508\ttotal: 645ms\tremaining: 480ms\n",
      "573:\tlearn: 0.1030714\ttotal: 646ms\tremaining: 479ms\n",
      "574:\tlearn: 0.1030433\ttotal: 646ms\tremaining: 478ms\n",
      "575:\tlearn: 0.1028248\ttotal: 647ms\tremaining: 477ms\n",
      "576:\tlearn: 0.1025699\ttotal: 648ms\tremaining: 475ms\n",
      "577:\tlearn: 0.1023269\ttotal: 650ms\tremaining: 474ms\n",
      "578:\tlearn: 0.1020969\ttotal: 651ms\tremaining: 473ms\n",
      "579:\tlearn: 0.1020442\ttotal: 652ms\tremaining: 472ms\n",
      "580:\tlearn: 0.1019095\ttotal: 653ms\tremaining: 471ms\n",
      "581:\tlearn: 0.1016939\ttotal: 653ms\tremaining: 469ms\n",
      "582:\tlearn: 0.1014230\ttotal: 655ms\tremaining: 468ms\n",
      "583:\tlearn: 0.1011927\ttotal: 655ms\tremaining: 467ms\n",
      "584:\tlearn: 0.1010687\ttotal: 656ms\tremaining: 466ms\n",
      "585:\tlearn: 0.1008746\ttotal: 657ms\tremaining: 464ms\n",
      "586:\tlearn: 0.1006793\ttotal: 658ms\tremaining: 463ms\n",
      "587:\tlearn: 0.1004988\ttotal: 659ms\tremaining: 462ms\n",
      "588:\tlearn: 0.1002548\ttotal: 661ms\tremaining: 461ms\n",
      "589:\tlearn: 0.1002138\ttotal: 661ms\tremaining: 460ms\n",
      "590:\tlearn: 0.1000033\ttotal: 662ms\tremaining: 458ms\n",
      "591:\tlearn: 0.0998098\ttotal: 663ms\tremaining: 457ms\n",
      "592:\tlearn: 0.0997776\ttotal: 664ms\tremaining: 456ms\n",
      "593:\tlearn: 0.0997464\ttotal: 665ms\tremaining: 455ms\n",
      "594:\tlearn: 0.0996002\ttotal: 666ms\tremaining: 453ms\n",
      "595:\tlearn: 0.0993260\ttotal: 667ms\tremaining: 452ms\n",
      "596:\tlearn: 0.0992874\ttotal: 668ms\tremaining: 451ms\n",
      "597:\tlearn: 0.0991734\ttotal: 669ms\tremaining: 450ms\n",
      "598:\tlearn: 0.0990302\ttotal: 670ms\tremaining: 449ms\n",
      "599:\tlearn: 0.0986949\ttotal: 671ms\tremaining: 448ms\n",
      "600:\tlearn: 0.0984619\ttotal: 672ms\tremaining: 446ms\n",
      "601:\tlearn: 0.0981734\ttotal: 673ms\tremaining: 445ms\n",
      "602:\tlearn: 0.0980530\ttotal: 674ms\tremaining: 444ms\n",
      "603:\tlearn: 0.0978778\ttotal: 675ms\tremaining: 443ms\n",
      "604:\tlearn: 0.0977711\ttotal: 676ms\tremaining: 442ms\n"
     ]
    },
    {
     "name": "stdout",
     "output_type": "stream",
     "text": [
      "605:\tlearn: 0.0975444\ttotal: 678ms\tremaining: 441ms\n",
      "606:\tlearn: 0.0973639\ttotal: 679ms\tremaining: 440ms\n",
      "607:\tlearn: 0.0972473\ttotal: 680ms\tremaining: 439ms\n",
      "608:\tlearn: 0.0970581\ttotal: 681ms\tremaining: 437ms\n",
      "609:\tlearn: 0.0969236\ttotal: 682ms\tremaining: 436ms\n",
      "610:\tlearn: 0.0968908\ttotal: 683ms\tremaining: 435ms\n",
      "611:\tlearn: 0.0968419\ttotal: 684ms\tremaining: 433ms\n",
      "612:\tlearn: 0.0967062\ttotal: 685ms\tremaining: 432ms\n",
      "613:\tlearn: 0.0965110\ttotal: 686ms\tremaining: 431ms\n",
      "614:\tlearn: 0.0963623\ttotal: 687ms\tremaining: 430ms\n",
      "615:\tlearn: 0.0961344\ttotal: 688ms\tremaining: 429ms\n",
      "616:\tlearn: 0.0959643\ttotal: 689ms\tremaining: 428ms\n",
      "617:\tlearn: 0.0958657\ttotal: 690ms\tremaining: 426ms\n",
      "618:\tlearn: 0.0956835\ttotal: 691ms\tremaining: 425ms\n",
      "619:\tlearn: 0.0956595\ttotal: 692ms\tremaining: 424ms\n",
      "620:\tlearn: 0.0956379\ttotal: 693ms\tremaining: 423ms\n",
      "621:\tlearn: 0.0956206\ttotal: 694ms\tremaining: 422ms\n",
      "622:\tlearn: 0.0955996\ttotal: 695ms\tremaining: 421ms\n",
      "623:\tlearn: 0.0954192\ttotal: 696ms\tremaining: 419ms\n",
      "624:\tlearn: 0.0952527\ttotal: 697ms\tremaining: 418ms\n",
      "625:\tlearn: 0.0952129\ttotal: 698ms\tremaining: 417ms\n",
      "626:\tlearn: 0.0951133\ttotal: 699ms\tremaining: 416ms\n",
      "627:\tlearn: 0.0950497\ttotal: 700ms\tremaining: 415ms\n",
      "628:\tlearn: 0.0949983\ttotal: 701ms\tremaining: 413ms\n",
      "629:\tlearn: 0.0947902\ttotal: 702ms\tremaining: 412ms\n",
      "630:\tlearn: 0.0946661\ttotal: 703ms\tremaining: 411ms\n",
      "631:\tlearn: 0.0945012\ttotal: 704ms\tremaining: 410ms\n",
      "632:\tlearn: 0.0942580\ttotal: 705ms\tremaining: 409ms\n",
      "633:\tlearn: 0.0941300\ttotal: 706ms\tremaining: 408ms\n",
      "634:\tlearn: 0.0940383\ttotal: 707ms\tremaining: 406ms\n",
      "635:\tlearn: 0.0939280\ttotal: 708ms\tremaining: 405ms\n",
      "636:\tlearn: 0.0938204\ttotal: 709ms\tremaining: 404ms\n",
      "637:\tlearn: 0.0936900\ttotal: 710ms\tremaining: 403ms\n",
      "638:\tlearn: 0.0936216\ttotal: 711ms\tremaining: 402ms\n",
      "639:\tlearn: 0.0935169\ttotal: 712ms\tremaining: 400ms\n",
      "640:\tlearn: 0.0933918\ttotal: 713ms\tremaining: 399ms\n",
      "641:\tlearn: 0.0933050\ttotal: 714ms\tremaining: 398ms\n",
      "642:\tlearn: 0.0930835\ttotal: 715ms\tremaining: 397ms\n",
      "643:\tlearn: 0.0930053\ttotal: 716ms\tremaining: 396ms\n",
      "644:\tlearn: 0.0928685\ttotal: 717ms\tremaining: 395ms\n",
      "645:\tlearn: 0.0927048\ttotal: 718ms\tremaining: 393ms\n",
      "646:\tlearn: 0.0925376\ttotal: 719ms\tremaining: 392ms\n",
      "647:\tlearn: 0.0922398\ttotal: 720ms\tremaining: 391ms\n",
      "648:\tlearn: 0.0918981\ttotal: 721ms\tremaining: 390ms\n",
      "649:\tlearn: 0.0918010\ttotal: 722ms\tremaining: 389ms\n",
      "650:\tlearn: 0.0917463\ttotal: 723ms\tremaining: 388ms\n",
      "651:\tlearn: 0.0916576\ttotal: 724ms\tremaining: 386ms\n",
      "652:\tlearn: 0.0916271\ttotal: 725ms\tremaining: 385ms\n",
      "653:\tlearn: 0.0915335\ttotal: 726ms\tremaining: 384ms\n",
      "654:\tlearn: 0.0914046\ttotal: 727ms\tremaining: 383ms\n",
      "655:\tlearn: 0.0911260\ttotal: 728ms\tremaining: 382ms\n",
      "656:\tlearn: 0.0909158\ttotal: 729ms\tremaining: 381ms\n",
      "657:\tlearn: 0.0907855\ttotal: 730ms\tremaining: 379ms\n",
      "658:\tlearn: 0.0905929\ttotal: 731ms\tremaining: 378ms\n",
      "659:\tlearn: 0.0905256\ttotal: 732ms\tremaining: 377ms\n",
      "660:\tlearn: 0.0903715\ttotal: 733ms\tremaining: 376ms\n",
      "661:\tlearn: 0.0902753\ttotal: 734ms\tremaining: 375ms\n",
      "662:\tlearn: 0.0900825\ttotal: 735ms\tremaining: 373ms\n",
      "663:\tlearn: 0.0898602\ttotal: 736ms\tremaining: 372ms\n",
      "664:\tlearn: 0.0898102\ttotal: 737ms\tremaining: 371ms\n",
      "665:\tlearn: 0.0897597\ttotal: 738ms\tremaining: 370ms\n",
      "666:\tlearn: 0.0895881\ttotal: 739ms\tremaining: 369ms\n",
      "667:\tlearn: 0.0895174\ttotal: 740ms\tremaining: 368ms\n",
      "668:\tlearn: 0.0893310\ttotal: 741ms\tremaining: 367ms\n",
      "669:\tlearn: 0.0892474\ttotal: 742ms\tremaining: 365ms\n",
      "670:\tlearn: 0.0892283\ttotal: 743ms\tremaining: 364ms\n",
      "671:\tlearn: 0.0891255\ttotal: 744ms\tremaining: 363ms\n",
      "672:\tlearn: 0.0889037\ttotal: 745ms\tremaining: 362ms\n",
      "673:\tlearn: 0.0888556\ttotal: 746ms\tremaining: 361ms\n",
      "674:\tlearn: 0.0888224\ttotal: 747ms\tremaining: 360ms\n",
      "675:\tlearn: 0.0887482\ttotal: 748ms\tremaining: 359ms\n",
      "676:\tlearn: 0.0887311\ttotal: 749ms\tremaining: 357ms\n",
      "677:\tlearn: 0.0885808\ttotal: 750ms\tremaining: 356ms\n",
      "678:\tlearn: 0.0885090\ttotal: 751ms\tremaining: 355ms\n",
      "679:\tlearn: 0.0884438\ttotal: 752ms\tremaining: 354ms\n",
      "680:\tlearn: 0.0883777\ttotal: 753ms\tremaining: 353ms\n",
      "681:\tlearn: 0.0882766\ttotal: 754ms\tremaining: 352ms\n",
      "682:\tlearn: 0.0882576\ttotal: 755ms\tremaining: 350ms\n",
      "683:\tlearn: 0.0881690\ttotal: 756ms\tremaining: 349ms\n",
      "684:\tlearn: 0.0879264\ttotal: 757ms\tremaining: 348ms\n",
      "685:\tlearn: 0.0878021\ttotal: 758ms\tremaining: 347ms\n",
      "686:\tlearn: 0.0877701\ttotal: 759ms\tremaining: 346ms\n",
      "687:\tlearn: 0.0875439\ttotal: 760ms\tremaining: 345ms\n",
      "688:\tlearn: 0.0874261\ttotal: 761ms\tremaining: 344ms\n",
      "689:\tlearn: 0.0873842\ttotal: 762ms\tremaining: 342ms\n",
      "690:\tlearn: 0.0872872\ttotal: 763ms\tremaining: 341ms\n",
      "691:\tlearn: 0.0870820\ttotal: 764ms\tremaining: 340ms\n",
      "692:\tlearn: 0.0869672\ttotal: 765ms\tremaining: 339ms\n",
      "693:\tlearn: 0.0867583\ttotal: 766ms\tremaining: 338ms\n",
      "694:\tlearn: 0.0866636\ttotal: 767ms\tremaining: 337ms\n",
      "695:\tlearn: 0.0864763\ttotal: 768ms\tremaining: 336ms\n",
      "696:\tlearn: 0.0863988\ttotal: 769ms\tremaining: 334ms\n",
      "697:\tlearn: 0.0862946\ttotal: 770ms\tremaining: 333ms\n",
      "698:\tlearn: 0.0861138\ttotal: 771ms\tremaining: 332ms\n",
      "699:\tlearn: 0.0859888\ttotal: 772ms\tremaining: 331ms\n",
      "700:\tlearn: 0.0859759\ttotal: 773ms\tremaining: 330ms\n",
      "701:\tlearn: 0.0859419\ttotal: 775ms\tremaining: 329ms\n",
      "702:\tlearn: 0.0857254\ttotal: 776ms\tremaining: 328ms\n",
      "703:\tlearn: 0.0856675\ttotal: 777ms\tremaining: 326ms\n",
      "704:\tlearn: 0.0854933\ttotal: 777ms\tremaining: 325ms\n",
      "705:\tlearn: 0.0853324\ttotal: 778ms\tremaining: 324ms\n",
      "706:\tlearn: 0.0852180\ttotal: 779ms\tremaining: 323ms\n",
      "707:\tlearn: 0.0849418\ttotal: 780ms\tremaining: 322ms\n",
      "708:\tlearn: 0.0848427\ttotal: 781ms\tremaining: 321ms\n",
      "709:\tlearn: 0.0847560\ttotal: 782ms\tremaining: 320ms\n",
      "710:\tlearn: 0.0846741\ttotal: 783ms\tremaining: 318ms\n",
      "711:\tlearn: 0.0844361\ttotal: 785ms\tremaining: 317ms\n",
      "712:\tlearn: 0.0843379\ttotal: 786ms\tremaining: 316ms\n",
      "713:\tlearn: 0.0840892\ttotal: 786ms\tremaining: 315ms\n",
      "714:\tlearn: 0.0840502\ttotal: 787ms\tremaining: 314ms\n",
      "715:\tlearn: 0.0840320\ttotal: 788ms\tremaining: 313ms\n",
      "716:\tlearn: 0.0838350\ttotal: 789ms\tremaining: 312ms\n",
      "717:\tlearn: 0.0837110\ttotal: 790ms\tremaining: 310ms\n",
      "718:\tlearn: 0.0834818\ttotal: 791ms\tremaining: 309ms\n",
      "719:\tlearn: 0.0834060\ttotal: 792ms\tremaining: 308ms\n",
      "720:\tlearn: 0.0833912\ttotal: 793ms\tremaining: 307ms\n",
      "721:\tlearn: 0.0833429\ttotal: 794ms\tremaining: 306ms\n",
      "722:\tlearn: 0.0831439\ttotal: 795ms\tremaining: 305ms\n",
      "723:\tlearn: 0.0829658\ttotal: 796ms\tremaining: 304ms\n",
      "724:\tlearn: 0.0828067\ttotal: 797ms\tremaining: 302ms\n",
      "725:\tlearn: 0.0827638\ttotal: 798ms\tremaining: 301ms\n",
      "726:\tlearn: 0.0827013\ttotal: 799ms\tremaining: 300ms\n",
      "727:\tlearn: 0.0825718\ttotal: 800ms\tremaining: 299ms\n",
      "728:\tlearn: 0.0823606\ttotal: 801ms\tremaining: 298ms\n",
      "729:\tlearn: 0.0822691\ttotal: 802ms\tremaining: 297ms\n",
      "730:\tlearn: 0.0822017\ttotal: 803ms\tremaining: 296ms\n",
      "731:\tlearn: 0.0820330\ttotal: 804ms\tremaining: 295ms\n",
      "732:\tlearn: 0.0819327\ttotal: 805ms\tremaining: 293ms\n",
      "733:\tlearn: 0.0818629\ttotal: 807ms\tremaining: 292ms\n",
      "734:\tlearn: 0.0818152\ttotal: 808ms\tremaining: 291ms\n",
      "735:\tlearn: 0.0816757\ttotal: 809ms\tremaining: 290ms\n",
      "736:\tlearn: 0.0814903\ttotal: 810ms\tremaining: 289ms\n",
      "737:\tlearn: 0.0814646\ttotal: 811ms\tremaining: 288ms\n",
      "738:\tlearn: 0.0814070\ttotal: 812ms\tremaining: 287ms\n",
      "739:\tlearn: 0.0811192\ttotal: 813ms\tremaining: 286ms\n"
     ]
    },
    {
     "name": "stdout",
     "output_type": "stream",
     "text": [
      "740:\tlearn: 0.0810151\ttotal: 814ms\tremaining: 285ms\n",
      "741:\tlearn: 0.0809706\ttotal: 816ms\tremaining: 284ms\n",
      "742:\tlearn: 0.0808979\ttotal: 817ms\tremaining: 283ms\n",
      "743:\tlearn: 0.0807806\ttotal: 818ms\tremaining: 281ms\n",
      "744:\tlearn: 0.0806766\ttotal: 819ms\tremaining: 280ms\n",
      "745:\tlearn: 0.0806522\ttotal: 820ms\tremaining: 279ms\n",
      "746:\tlearn: 0.0804284\ttotal: 821ms\tremaining: 278ms\n",
      "747:\tlearn: 0.0803195\ttotal: 822ms\tremaining: 277ms\n",
      "748:\tlearn: 0.0802395\ttotal: 823ms\tremaining: 276ms\n",
      "749:\tlearn: 0.0800682\ttotal: 824ms\tremaining: 275ms\n",
      "750:\tlearn: 0.0800361\ttotal: 825ms\tremaining: 274ms\n",
      "751:\tlearn: 0.0798639\ttotal: 826ms\tremaining: 273ms\n",
      "752:\tlearn: 0.0797343\ttotal: 827ms\tremaining: 271ms\n",
      "753:\tlearn: 0.0796703\ttotal: 828ms\tremaining: 270ms\n",
      "754:\tlearn: 0.0795653\ttotal: 830ms\tremaining: 269ms\n",
      "755:\tlearn: 0.0793917\ttotal: 831ms\tremaining: 268ms\n",
      "756:\tlearn: 0.0793827\ttotal: 831ms\tremaining: 267ms\n",
      "757:\tlearn: 0.0791508\ttotal: 833ms\tremaining: 266ms\n",
      "758:\tlearn: 0.0790117\ttotal: 834ms\tremaining: 265ms\n",
      "759:\tlearn: 0.0789287\ttotal: 835ms\tremaining: 264ms\n",
      "760:\tlearn: 0.0787990\ttotal: 836ms\tremaining: 262ms\n",
      "761:\tlearn: 0.0786314\ttotal: 836ms\tremaining: 261ms\n",
      "762:\tlearn: 0.0785394\ttotal: 837ms\tremaining: 260ms\n",
      "763:\tlearn: 0.0783666\ttotal: 838ms\tremaining: 259ms\n",
      "764:\tlearn: 0.0782135\ttotal: 840ms\tremaining: 258ms\n",
      "765:\tlearn: 0.0780505\ttotal: 840ms\tremaining: 257ms\n",
      "766:\tlearn: 0.0778382\ttotal: 841ms\tremaining: 256ms\n",
      "767:\tlearn: 0.0776181\ttotal: 842ms\tremaining: 254ms\n",
      "768:\tlearn: 0.0776027\ttotal: 843ms\tremaining: 253ms\n",
      "769:\tlearn: 0.0773528\ttotal: 844ms\tremaining: 252ms\n",
      "770:\tlearn: 0.0772897\ttotal: 845ms\tremaining: 251ms\n",
      "771:\tlearn: 0.0772705\ttotal: 846ms\tremaining: 250ms\n",
      "772:\tlearn: 0.0771757\ttotal: 848ms\tremaining: 249ms\n",
      "773:\tlearn: 0.0769749\ttotal: 849ms\tremaining: 248ms\n",
      "774:\tlearn: 0.0767487\ttotal: 850ms\tremaining: 247ms\n",
      "775:\tlearn: 0.0766562\ttotal: 851ms\tremaining: 246ms\n",
      "776:\tlearn: 0.0766274\ttotal: 852ms\tremaining: 244ms\n",
      "777:\tlearn: 0.0766132\ttotal: 852ms\tremaining: 243ms\n",
      "778:\tlearn: 0.0763749\ttotal: 853ms\tremaining: 242ms\n",
      "779:\tlearn: 0.0762794\ttotal: 854ms\tremaining: 241ms\n",
      "780:\tlearn: 0.0762139\ttotal: 856ms\tremaining: 240ms\n",
      "781:\tlearn: 0.0760787\ttotal: 856ms\tremaining: 239ms\n",
      "782:\tlearn: 0.0758911\ttotal: 857ms\tremaining: 238ms\n",
      "783:\tlearn: 0.0758796\ttotal: 858ms\tremaining: 236ms\n",
      "784:\tlearn: 0.0758189\ttotal: 859ms\tremaining: 235ms\n",
      "785:\tlearn: 0.0757018\ttotal: 860ms\tremaining: 234ms\n",
      "786:\tlearn: 0.0755989\ttotal: 861ms\tremaining: 233ms\n",
      "787:\tlearn: 0.0753746\ttotal: 862ms\tremaining: 232ms\n",
      "788:\tlearn: 0.0753591\ttotal: 863ms\tremaining: 231ms\n",
      "789:\tlearn: 0.0752464\ttotal: 864ms\tremaining: 230ms\n",
      "790:\tlearn: 0.0752239\ttotal: 865ms\tremaining: 229ms\n",
      "791:\tlearn: 0.0751452\ttotal: 866ms\tremaining: 227ms\n",
      "792:\tlearn: 0.0751030\ttotal: 867ms\tremaining: 226ms\n",
      "793:\tlearn: 0.0750445\ttotal: 868ms\tremaining: 225ms\n",
      "794:\tlearn: 0.0748808\ttotal: 869ms\tremaining: 224ms\n",
      "795:\tlearn: 0.0747892\ttotal: 870ms\tremaining: 223ms\n",
      "796:\tlearn: 0.0746007\ttotal: 871ms\tremaining: 222ms\n",
      "797:\tlearn: 0.0745431\ttotal: 872ms\tremaining: 221ms\n",
      "798:\tlearn: 0.0744043\ttotal: 873ms\tremaining: 220ms\n",
      "799:\tlearn: 0.0743579\ttotal: 874ms\tremaining: 219ms\n",
      "800:\tlearn: 0.0742871\ttotal: 875ms\tremaining: 217ms\n",
      "801:\tlearn: 0.0741512\ttotal: 876ms\tremaining: 216ms\n",
      "802:\tlearn: 0.0739621\ttotal: 877ms\tremaining: 215ms\n",
      "803:\tlearn: 0.0739486\ttotal: 878ms\tremaining: 214ms\n",
      "804:\tlearn: 0.0737985\ttotal: 879ms\tremaining: 213ms\n",
      "805:\tlearn: 0.0735599\ttotal: 880ms\tremaining: 212ms\n",
      "806:\tlearn: 0.0735471\ttotal: 881ms\tremaining: 211ms\n",
      "807:\tlearn: 0.0733809\ttotal: 882ms\tremaining: 210ms\n",
      "808:\tlearn: 0.0732132\ttotal: 883ms\tremaining: 208ms\n",
      "809:\tlearn: 0.0730616\ttotal: 884ms\tremaining: 207ms\n",
      "810:\tlearn: 0.0729997\ttotal: 885ms\tremaining: 206ms\n",
      "811:\tlearn: 0.0728288\ttotal: 886ms\tremaining: 205ms\n",
      "812:\tlearn: 0.0727039\ttotal: 887ms\tremaining: 204ms\n",
      "813:\tlearn: 0.0726766\ttotal: 888ms\tremaining: 203ms\n",
      "814:\tlearn: 0.0726361\ttotal: 889ms\tremaining: 202ms\n",
      "815:\tlearn: 0.0725877\ttotal: 890ms\tremaining: 201ms\n",
      "816:\tlearn: 0.0725178\ttotal: 891ms\tremaining: 200ms\n",
      "817:\tlearn: 0.0724325\ttotal: 892ms\tremaining: 198ms\n",
      "818:\tlearn: 0.0723256\ttotal: 893ms\tremaining: 197ms\n",
      "819:\tlearn: 0.0723115\ttotal: 894ms\tremaining: 196ms\n",
      "820:\tlearn: 0.0722210\ttotal: 895ms\tremaining: 195ms\n",
      "821:\tlearn: 0.0721322\ttotal: 896ms\tremaining: 194ms\n",
      "822:\tlearn: 0.0719707\ttotal: 897ms\tremaining: 193ms\n",
      "823:\tlearn: 0.0718017\ttotal: 898ms\tremaining: 192ms\n",
      "824:\tlearn: 0.0717329\ttotal: 899ms\tremaining: 191ms\n",
      "825:\tlearn: 0.0716378\ttotal: 900ms\tremaining: 190ms\n",
      "826:\tlearn: 0.0715726\ttotal: 901ms\tremaining: 188ms\n",
      "827:\tlearn: 0.0714549\ttotal: 902ms\tremaining: 187ms\n",
      "828:\tlearn: 0.0713488\ttotal: 903ms\tremaining: 186ms\n",
      "829:\tlearn: 0.0713080\ttotal: 904ms\tremaining: 185ms\n",
      "830:\tlearn: 0.0712355\ttotal: 905ms\tremaining: 184ms\n",
      "831:\tlearn: 0.0711267\ttotal: 906ms\tremaining: 183ms\n",
      "832:\tlearn: 0.0710813\ttotal: 907ms\tremaining: 182ms\n",
      "833:\tlearn: 0.0710094\ttotal: 908ms\tremaining: 181ms\n",
      "834:\tlearn: 0.0708378\ttotal: 909ms\tremaining: 180ms\n",
      "835:\tlearn: 0.0707801\ttotal: 910ms\tremaining: 178ms\n",
      "836:\tlearn: 0.0706401\ttotal: 911ms\tremaining: 177ms\n",
      "837:\tlearn: 0.0705675\ttotal: 912ms\tremaining: 176ms\n",
      "838:\tlearn: 0.0705159\ttotal: 913ms\tremaining: 175ms\n",
      "839:\tlearn: 0.0704963\ttotal: 914ms\tremaining: 174ms\n",
      "840:\tlearn: 0.0703772\ttotal: 915ms\tremaining: 173ms\n",
      "841:\tlearn: 0.0702605\ttotal: 916ms\tremaining: 172ms\n",
      "842:\tlearn: 0.0702101\ttotal: 917ms\tremaining: 171ms\n",
      "843:\tlearn: 0.0699826\ttotal: 918ms\tremaining: 170ms\n",
      "844:\tlearn: 0.0698969\ttotal: 919ms\tremaining: 169ms\n",
      "845:\tlearn: 0.0697411\ttotal: 920ms\tremaining: 167ms\n",
      "846:\tlearn: 0.0695943\ttotal: 921ms\tremaining: 166ms\n",
      "847:\tlearn: 0.0694347\ttotal: 922ms\tremaining: 165ms\n",
      "848:\tlearn: 0.0694167\ttotal: 923ms\tremaining: 164ms\n",
      "849:\tlearn: 0.0692728\ttotal: 924ms\tremaining: 163ms\n",
      "850:\tlearn: 0.0691122\ttotal: 925ms\tremaining: 162ms\n",
      "851:\tlearn: 0.0691051\ttotal: 926ms\tremaining: 161ms\n",
      "852:\tlearn: 0.0690022\ttotal: 926ms\tremaining: 160ms\n",
      "853:\tlearn: 0.0688705\ttotal: 927ms\tremaining: 159ms\n",
      "854:\tlearn: 0.0688200\ttotal: 928ms\tremaining: 157ms\n",
      "855:\tlearn: 0.0686840\ttotal: 929ms\tremaining: 156ms\n",
      "856:\tlearn: 0.0685202\ttotal: 930ms\tremaining: 155ms\n",
      "857:\tlearn: 0.0684823\ttotal: 931ms\tremaining: 154ms\n",
      "858:\tlearn: 0.0683800\ttotal: 932ms\tremaining: 153ms\n",
      "859:\tlearn: 0.0682510\ttotal: 933ms\tremaining: 152ms\n",
      "860:\tlearn: 0.0681192\ttotal: 934ms\tremaining: 151ms\n",
      "861:\tlearn: 0.0680574\ttotal: 936ms\tremaining: 150ms\n",
      "862:\tlearn: 0.0679483\ttotal: 937ms\tremaining: 149ms\n",
      "863:\tlearn: 0.0678763\ttotal: 938ms\tremaining: 148ms\n",
      "864:\tlearn: 0.0678172\ttotal: 939ms\tremaining: 147ms\n",
      "865:\tlearn: 0.0677671\ttotal: 940ms\tremaining: 145ms\n",
      "866:\tlearn: 0.0676192\ttotal: 941ms\tremaining: 144ms\n",
      "867:\tlearn: 0.0675841\ttotal: 942ms\tremaining: 143ms\n",
      "868:\tlearn: 0.0673982\ttotal: 943ms\tremaining: 142ms\n",
      "869:\tlearn: 0.0673415\ttotal: 945ms\tremaining: 141ms\n",
      "870:\tlearn: 0.0672863\ttotal: 946ms\tremaining: 140ms\n",
      "871:\tlearn: 0.0671525\ttotal: 947ms\tremaining: 139ms\n",
      "872:\tlearn: 0.0671436\ttotal: 948ms\tremaining: 138ms\n",
      "873:\tlearn: 0.0670497\ttotal: 949ms\tremaining: 137ms\n",
      "874:\tlearn: 0.0670173\ttotal: 950ms\tremaining: 136ms\n",
      "875:\tlearn: 0.0669304\ttotal: 951ms\tremaining: 135ms\n"
     ]
    },
    {
     "name": "stdout",
     "output_type": "stream",
     "text": [
      "876:\tlearn: 0.0667577\ttotal: 952ms\tremaining: 134ms\n",
      "877:\tlearn: 0.0666170\ttotal: 954ms\tremaining: 133ms\n",
      "878:\tlearn: 0.0664404\ttotal: 954ms\tremaining: 131ms\n",
      "879:\tlearn: 0.0662797\ttotal: 955ms\tremaining: 130ms\n",
      "880:\tlearn: 0.0662693\ttotal: 956ms\tremaining: 129ms\n",
      "881:\tlearn: 0.0661941\ttotal: 958ms\tremaining: 128ms\n",
      "882:\tlearn: 0.0659777\ttotal: 959ms\tremaining: 127ms\n",
      "883:\tlearn: 0.0658695\ttotal: 960ms\tremaining: 126ms\n",
      "884:\tlearn: 0.0657571\ttotal: 961ms\tremaining: 125ms\n",
      "885:\tlearn: 0.0656282\ttotal: 962ms\tremaining: 124ms\n",
      "886:\tlearn: 0.0655654\ttotal: 963ms\tremaining: 123ms\n",
      "887:\tlearn: 0.0653683\ttotal: 964ms\tremaining: 122ms\n",
      "888:\tlearn: 0.0652185\ttotal: 965ms\tremaining: 120ms\n",
      "889:\tlearn: 0.0651485\ttotal: 966ms\tremaining: 119ms\n",
      "890:\tlearn: 0.0650701\ttotal: 967ms\tremaining: 118ms\n",
      "891:\tlearn: 0.0649224\ttotal: 968ms\tremaining: 117ms\n",
      "892:\tlearn: 0.0648317\ttotal: 969ms\tremaining: 116ms\n",
      "893:\tlearn: 0.0647681\ttotal: 970ms\tremaining: 115ms\n",
      "894:\tlearn: 0.0647339\ttotal: 970ms\tremaining: 114ms\n",
      "895:\tlearn: 0.0646082\ttotal: 971ms\tremaining: 113ms\n",
      "896:\tlearn: 0.0645931\ttotal: 973ms\tremaining: 112ms\n",
      "897:\tlearn: 0.0644846\ttotal: 974ms\tremaining: 111ms\n",
      "898:\tlearn: 0.0643832\ttotal: 975ms\tremaining: 109ms\n",
      "899:\tlearn: 0.0643504\ttotal: 976ms\tremaining: 108ms\n",
      "900:\tlearn: 0.0642292\ttotal: 977ms\tremaining: 107ms\n",
      "901:\tlearn: 0.0641946\ttotal: 977ms\tremaining: 106ms\n",
      "902:\tlearn: 0.0641281\ttotal: 979ms\tremaining: 105ms\n",
      "903:\tlearn: 0.0640101\ttotal: 980ms\tremaining: 104ms\n",
      "904:\tlearn: 0.0639190\ttotal: 981ms\tremaining: 103ms\n",
      "905:\tlearn: 0.0637882\ttotal: 982ms\tremaining: 102ms\n",
      "906:\tlearn: 0.0636239\ttotal: 982ms\tremaining: 101ms\n",
      "907:\tlearn: 0.0634692\ttotal: 983ms\tremaining: 99.6ms\n",
      "908:\tlearn: 0.0634525\ttotal: 984ms\tremaining: 98.5ms\n",
      "909:\tlearn: 0.0633271\ttotal: 985ms\tremaining: 97.5ms\n",
      "910:\tlearn: 0.0632575\ttotal: 986ms\tremaining: 96.4ms\n",
      "911:\tlearn: 0.0631242\ttotal: 987ms\tremaining: 95.3ms\n",
      "912:\tlearn: 0.0630043\ttotal: 988ms\tremaining: 94.2ms\n",
      "913:\tlearn: 0.0628588\ttotal: 989ms\tremaining: 93.1ms\n",
      "914:\tlearn: 0.0626798\ttotal: 990ms\tremaining: 92ms\n",
      "915:\tlearn: 0.0626365\ttotal: 992ms\tremaining: 90.9ms\n",
      "916:\tlearn: 0.0625320\ttotal: 992ms\tremaining: 89.8ms\n",
      "917:\tlearn: 0.0624585\ttotal: 994ms\tremaining: 88.7ms\n",
      "918:\tlearn: 0.0623499\ttotal: 995ms\tremaining: 87.7ms\n",
      "919:\tlearn: 0.0623060\ttotal: 995ms\tremaining: 86.6ms\n",
      "920:\tlearn: 0.0622038\ttotal: 997ms\tremaining: 85.5ms\n",
      "921:\tlearn: 0.0621280\ttotal: 998ms\tremaining: 84.4ms\n",
      "922:\tlearn: 0.0620773\ttotal: 999ms\tremaining: 83.3ms\n",
      "923:\tlearn: 0.0619929\ttotal: 1000ms\tremaining: 82.2ms\n",
      "924:\tlearn: 0.0618977\ttotal: 1s\tremaining: 81.1ms\n",
      "925:\tlearn: 0.0618568\ttotal: 1s\tremaining: 80.1ms\n",
      "926:\tlearn: 0.0617647\ttotal: 1s\tremaining: 79ms\n",
      "927:\tlearn: 0.0616382\ttotal: 1s\tremaining: 77.9ms\n",
      "928:\tlearn: 0.0616279\ttotal: 1s\tremaining: 76.8ms\n",
      "929:\tlearn: 0.0615776\ttotal: 1s\tremaining: 75.7ms\n",
      "930:\tlearn: 0.0614414\ttotal: 1.01s\tremaining: 74.6ms\n",
      "931:\tlearn: 0.0614330\ttotal: 1.01s\tremaining: 73.5ms\n",
      "932:\tlearn: 0.0614018\ttotal: 1.01s\tremaining: 72.4ms\n",
      "933:\tlearn: 0.0613145\ttotal: 1.01s\tremaining: 71.3ms\n",
      "934:\tlearn: 0.0612733\ttotal: 1.01s\tremaining: 70.2ms\n",
      "935:\tlearn: 0.0612270\ttotal: 1.01s\tremaining: 69.2ms\n",
      "936:\tlearn: 0.0610641\ttotal: 1.01s\tremaining: 68.1ms\n",
      "937:\tlearn: 0.0609860\ttotal: 1.01s\tremaining: 67ms\n",
      "938:\tlearn: 0.0609206\ttotal: 1.01s\tremaining: 65.9ms\n",
      "939:\tlearn: 0.0608687\ttotal: 1.01s\tremaining: 64.8ms\n",
      "940:\tlearn: 0.0607985\ttotal: 1.02s\tremaining: 63.7ms\n",
      "941:\tlearn: 0.0606513\ttotal: 1.02s\tremaining: 62.6ms\n",
      "942:\tlearn: 0.0605888\ttotal: 1.02s\tremaining: 61.6ms\n",
      "943:\tlearn: 0.0604655\ttotal: 1.02s\tremaining: 60.5ms\n",
      "944:\tlearn: 0.0604396\ttotal: 1.02s\tremaining: 59.4ms\n",
      "945:\tlearn: 0.0602965\ttotal: 1.02s\tremaining: 58.3ms\n",
      "946:\tlearn: 0.0602275\ttotal: 1.02s\tremaining: 57.2ms\n",
      "947:\tlearn: 0.0601347\ttotal: 1.02s\tremaining: 56.1ms\n",
      "948:\tlearn: 0.0600547\ttotal: 1.02s\tremaining: 55.1ms\n",
      "949:\tlearn: 0.0600000\ttotal: 1.02s\tremaining: 54ms\n",
      "950:\tlearn: 0.0599758\ttotal: 1.03s\tremaining: 52.9ms\n",
      "951:\tlearn: 0.0598343\ttotal: 1.03s\tremaining: 51.8ms\n",
      "952:\tlearn: 0.0598143\ttotal: 1.03s\tremaining: 50.7ms\n",
      "953:\tlearn: 0.0596942\ttotal: 1.03s\tremaining: 49.6ms\n",
      "954:\tlearn: 0.0595851\ttotal: 1.03s\tremaining: 48.6ms\n",
      "955:\tlearn: 0.0595762\ttotal: 1.03s\tremaining: 47.5ms\n",
      "956:\tlearn: 0.0595342\ttotal: 1.03s\tremaining: 46.4ms\n",
      "957:\tlearn: 0.0594185\ttotal: 1.03s\tremaining: 45.3ms\n",
      "958:\tlearn: 0.0593073\ttotal: 1.03s\tremaining: 44.2ms\n",
      "959:\tlearn: 0.0592959\ttotal: 1.03s\tremaining: 43.2ms\n",
      "960:\tlearn: 0.0591911\ttotal: 1.04s\tremaining: 42.1ms\n",
      "961:\tlearn: 0.0591383\ttotal: 1.04s\tremaining: 41ms\n",
      "962:\tlearn: 0.0590878\ttotal: 1.04s\tremaining: 39.9ms\n",
      "963:\tlearn: 0.0589353\ttotal: 1.04s\tremaining: 38.8ms\n",
      "964:\tlearn: 0.0589007\ttotal: 1.04s\tremaining: 37.8ms\n",
      "965:\tlearn: 0.0587861\ttotal: 1.04s\tremaining: 36.7ms\n",
      "966:\tlearn: 0.0586952\ttotal: 1.04s\tremaining: 35.6ms\n",
      "967:\tlearn: 0.0586116\ttotal: 1.04s\tremaining: 34.5ms\n",
      "968:\tlearn: 0.0586015\ttotal: 1.04s\tremaining: 33.4ms\n",
      "969:\tlearn: 0.0584562\ttotal: 1.05s\tremaining: 32.4ms\n",
      "970:\tlearn: 0.0583287\ttotal: 1.05s\tremaining: 31.3ms\n",
      "971:\tlearn: 0.0582159\ttotal: 1.05s\tremaining: 30.2ms\n",
      "972:\tlearn: 0.0581169\ttotal: 1.05s\tremaining: 29.1ms\n",
      "973:\tlearn: 0.0580258\ttotal: 1.05s\tremaining: 28.1ms\n",
      "974:\tlearn: 0.0579336\ttotal: 1.05s\tremaining: 27ms\n",
      "975:\tlearn: 0.0579265\ttotal: 1.05s\tremaining: 25.9ms\n",
      "976:\tlearn: 0.0579036\ttotal: 1.05s\tremaining: 24.8ms\n",
      "977:\tlearn: 0.0577578\ttotal: 1.05s\tremaining: 23.7ms\n",
      "978:\tlearn: 0.0576526\ttotal: 1.06s\tremaining: 22.7ms\n",
      "979:\tlearn: 0.0575236\ttotal: 1.06s\tremaining: 21.6ms\n",
      "980:\tlearn: 0.0574208\ttotal: 1.06s\tremaining: 20.5ms\n",
      "981:\tlearn: 0.0573322\ttotal: 1.06s\tremaining: 19.4ms\n",
      "982:\tlearn: 0.0572358\ttotal: 1.06s\tremaining: 18.3ms\n",
      "983:\tlearn: 0.0571892\ttotal: 1.06s\tremaining: 17.2ms\n",
      "984:\tlearn: 0.0570126\ttotal: 1.06s\tremaining: 16.2ms\n",
      "985:\tlearn: 0.0569140\ttotal: 1.06s\tremaining: 15.1ms\n",
      "986:\tlearn: 0.0568306\ttotal: 1.06s\tremaining: 14ms\n",
      "987:\tlearn: 0.0566984\ttotal: 1.06s\tremaining: 12.9ms\n",
      "988:\tlearn: 0.0566395\ttotal: 1.06s\tremaining: 11.9ms\n",
      "989:\tlearn: 0.0565599\ttotal: 1.07s\tremaining: 10.8ms\n",
      "990:\tlearn: 0.0564937\ttotal: 1.07s\tremaining: 9.7ms\n",
      "991:\tlearn: 0.0564018\ttotal: 1.07s\tremaining: 8.62ms\n",
      "992:\tlearn: 0.0562608\ttotal: 1.07s\tremaining: 7.54ms\n",
      "993:\tlearn: 0.0561416\ttotal: 1.07s\tremaining: 6.46ms\n",
      "994:\tlearn: 0.0560599\ttotal: 1.07s\tremaining: 5.39ms\n",
      "995:\tlearn: 0.0559773\ttotal: 1.07s\tremaining: 4.31ms\n",
      "996:\tlearn: 0.0559057\ttotal: 1.07s\tremaining: 3.23ms\n",
      "997:\tlearn: 0.0558466\ttotal: 1.07s\tremaining: 2.15ms\n",
      "998:\tlearn: 0.0556961\ttotal: 1.08s\tremaining: 1.08ms\n",
      "999:\tlearn: 0.0556896\ttotal: 1.08s\tremaining: 0us\n"
     ]
    },
    {
     "data": {
      "text/plain": [
       "<catboost.core.CatBoostRegressor at 0x7fb061640f50>"
      ]
     },
     "execution_count": 9,
     "metadata": {},
     "output_type": "execute_result"
    }
   ],
   "source": [
    "#Train the Model \n",
    "prior_model = ctb.CatBoostRegressor()\n",
    "prior_model.fit(X_train,Y_train)"
   ]
  },
  {
   "cell_type": "code",
   "execution_count": 10,
   "id": "c775fd81",
   "metadata": {
    "execution": {
     "iopub.execute_input": "2022-01-14T07:33:39.188586Z",
     "iopub.status.busy": "2022-01-14T07:33:39.187925Z",
     "iopub.status.idle": "2022-01-14T07:33:39.201829Z",
     "shell.execute_reply": "2022-01-14T07:33:39.201139Z"
    },
    "papermill": {
     "duration": 0.049716,
     "end_time": "2022-01-14T07:33:39.201954",
     "exception": false,
     "start_time": "2022-01-14T07:33:39.152238",
     "status": "completed"
    },
    "tags": []
   },
   "outputs": [
    {
     "data": {
      "application/scrapbook.scrap.json+json": {
       "data": 0.11476449599404774,
       "encoder": "json",
       "name": "Prior Model MSE",
       "version": 1
      }
     },
     "metadata": {
      "scrapbook": {
       "data": true,
       "display": false,
       "name": "Prior Model MSE"
      }
     },
     "output_type": "display_data"
    },
    {
     "data": {
      "application/scrapbook.scrap.json+json": {
       "data": 0.11568737246357116,
       "encoder": "json",
       "name": "ABC Pre-generator MSE",
       "version": 1
      }
     },
     "metadata": {
      "scrapbook": {
       "data": true,
       "display": false,
       "name": "ABC Pre-generator MSE"
      }
     },
     "output_type": "display_data"
    }
   ],
   "source": [
    "y_pred = prior_model.predict(X_test)\n",
    "y_abc = y_pred + np.random.normal(0,variance, y_pred.shape)\n",
    "mse = mean_squared_error(y_pred,Y_test)\n",
    "sb.glue(\"Prior Model MSE\",mse)\n",
    "mse = mean_squared_error(y_abc,Y_test)\n",
    "sb.glue(\"ABC Pre-generator MSE\",mse)"
   ]
  },
  {
   "cell_type": "markdown",
   "id": "0cd0def6",
   "metadata": {
    "papermill": {
     "duration": 0.029036,
     "end_time": "2022-01-14T07:33:39.263414",
     "exception": false,
     "start_time": "2022-01-14T07:33:39.234378",
     "status": "completed"
    },
    "tags": []
   },
   "source": [
    "# ABC GAN Model"
   ]
  },
  {
   "cell_type": "markdown",
   "id": "70beaf4c",
   "metadata": {
    "papermill": {
     "duration": 0.031365,
     "end_time": "2022-01-14T07:33:39.325214",
     "exception": false,
     "start_time": "2022-01-14T07:33:39.293849",
     "status": "completed"
    },
    "tags": []
   },
   "source": [
    "### Training the network\n",
    "**Training ABC-GAN for n_epochs number of epochs** "
   ]
  },
  {
   "cell_type": "code",
   "execution_count": 11,
   "id": "dbaaafa1",
   "metadata": {
    "execution": {
     "iopub.execute_input": "2022-01-14T07:33:39.393588Z",
     "iopub.status.busy": "2022-01-14T07:33:39.393014Z",
     "iopub.status.idle": "2022-01-14T07:33:42.412158Z",
     "shell.execute_reply": "2022-01-14T07:33:42.411521Z"
    },
    "papermill": {
     "duration": 3.056415,
     "end_time": "2022-01-14T07:33:42.412362",
     "exception": false,
     "start_time": "2022-01-14T07:33:39.355947",
     "status": "completed"
    },
    "tags": []
   },
   "outputs": [],
   "source": [
    "gen = network.Generator(n_features+1).to(device)\n",
    "disc = network.Discriminator(n_features+1).to(device)\n",
    "\n",
    "criterion = torch.nn.BCELoss()\n",
    "gen_opt = torch.optim.Adam(gen.parameters(), lr=0.001, betas=(0.5, 0.999))\n",
    "disc_opt = torch.optim.Adam(disc.parameters(), lr=0.01, betas=(0.5, 0.999))"
   ]
  },
  {
   "cell_type": "code",
   "execution_count": 12,
   "id": "6e9eeab8",
   "metadata": {
    "execution": {
     "iopub.execute_input": "2022-01-14T07:33:42.478559Z",
     "iopub.status.busy": "2022-01-14T07:33:42.477854Z",
     "iopub.status.idle": "2022-01-14T07:39:17.602006Z",
     "shell.execute_reply": "2022-01-14T07:39:17.601521Z"
    },
    "papermill": {
     "duration": 335.158394,
     "end_time": "2022-01-14T07:39:17.602224",
     "exception": false,
     "start_time": "2022-01-14T07:33:42.443830",
     "status": "completed"
    },
    "tags": []
   },
   "outputs": [
    {
     "data": {
      "image/png": "[encoded data removed]",
      "text/plain": [
       "<Figure size 432x288 with 1 Axes>"
      ]
     },
     "metadata": {
      "needs_background": "light"
     },
     "output_type": "display_data"
    },
    {
     "data": {
      "image/png": "[encoded data removed]",
      "text/plain": [
       "<Figure size 432x288 with 1 Axes>"
      ]
     },
     "metadata": {
      "needs_background": "light"
     },
     "output_type": "display_data"
    }
   ],
   "source": [
    "#Training the ABC_GAN \n",
    "ABC_train_test2.training_GAN(disc,gen,disc_opt,gen_opt,train_data,batch_size,n_epochs,criterion,prior_model,variance,device)"
   ]
  },
  {
   "cell_type": "code",
   "execution_count": 13,
   "id": "11c3082e",
   "metadata": {
    "execution": {
     "iopub.execute_input": "2022-01-14T07:39:17.669277Z",
     "iopub.status.busy": "2022-01-14T07:39:17.668326Z",
     "iopub.status.idle": "2022-01-14T07:39:18.059548Z",
     "shell.execute_reply": "2022-01-14T07:39:18.059979Z"
    },
    "papermill": {
     "duration": 0.426772,
     "end_time": "2022-01-14T07:39:18.060146",
     "exception": false,
     "start_time": "2022-01-14T07:39:17.633374",
     "status": "completed"
    },
    "tags": []
   },
   "outputs": [
    {
     "data": {
      "application/scrapbook.scrap.json+json": {
       "data": 0.14162697390548765,
       "encoder": "json",
       "name": "ABC-GAN Model 1 MSE",
       "version": 1
      }
     },
     "metadata": {
      "scrapbook": {
       "data": true,
       "display": false,
       "name": "ABC-GAN Model 1 MSE"
      }
     },
     "output_type": "display_data"
    },
    {
     "data": {
      "application/scrapbook.scrap.json+json": {
       "data": 0.2737471682603891,
       "encoder": "json",
       "name": "ABC-GAN Model 1 MAE",
       "version": 1
      }
     },
     "metadata": {
      "scrapbook": {
       "data": true,
       "display": false,
       "name": "ABC-GAN Model 1 MAE"
      }
     },
     "output_type": "display_data"
    },
    {
     "data": {
      "application/scrapbook.scrap.json+json": {
       "data": 27.922211162559687,
       "encoder": "json",
       "name": "ABC-GAN Model 1 Manhattan Distance",
       "version": 1
      }
     },
     "metadata": {
      "scrapbook": {
       "data": true,
       "display": false,
       "name": "ABC-GAN Model 1 Manhattan Distance"
      }
     },
     "output_type": "display_data"
    },
    {
     "data": {
      "application/scrapbook.scrap.json+json": {
       "data": 3.8007761537307654,
       "encoder": "json",
       "name": "ABC-GAN Model 1 Euclidean distance",
       "version": 1
      }
     },
     "metadata": {
      "scrapbook": {
       "data": true,
       "display": false,
       "name": "ABC-GAN Model 1 Euclidean distance"
      }
     },
     "output_type": "display_data"
    },
    {
     "data": {
      "application/scrapbook.scrap.json+json": {
       "data": [
        [
         0.14218810300441043,
         0.14141449167879222,
         0.14108440502244335,
         0.14063546058978157,
         0.14143158530032646,
         0.14112385909299646,
         0.14139252185100135,
         0.14144500972517887,
         0.14241452582473682,
         0.14210306817615245,
         0.1417682277959802,
         0.1404900005047712,
         0.1410215288557459,
         0.14082340158958398,
         0.1429411735394472,
         0.14113406919667892,
         0.1416951736322003,
         0.14202394983400005,
         0.14161712278996683,
         0.14199165821538692,
         0.1418442249806528,
         0.1412970788462928,
         0.1409777776671227,
         0.1412197208597364,
         0.14215221830256528,
         0.14237191215505796,
         0.14250573707668146,
         0.14133883011319595,
         0.14138123477073677,
         0.1419985307622555,
         0.14150215196778945,
         0.14073187857291672,
         0.1408690724428312,
         0.1419848019077548,
         0.14123897528896176,
         0.14221379652119714,
         0.1408831661840873,
         0.14187651875334203,
         0.1416389420762709,
         0.14136998701812428,
         0.14137995176423604,
         0.14195993307197216,
         0.14287348504764358,
         0.140913128639006,
         0.14163756920168566,
         0.14169587181241297,
         0.14161755758018504,
         0.14195545887811956,
         0.1423334535465781,
         0.14157757750216807,
         0.14188059130619812,
         0.14231426000711164,
         0.14229339044253533,
         0.14112784667640235,
         0.141863534587697,
         0.14205244120410848,
         0.14115227537526773,
         0.1413226952338946,
         0.14167418644478666,
         0.14146231077672675,
         0.14153975308742792,
         0.1415548151863005,
         0.14176025274590248,
         0.14125462841188077,
         0.14043970715143544,
         0.1415250079931883,
         0.14049606999972467,
         0.14200826644356354,
         0.1421673090886703,
         0.1413556728711178,
         0.142964972819764,
         0.14177872061507493,
         0.1424646010676979,
         0.1419132272992063,
         0.14132245115282793,
         0.14181819383927718,
         0.14214951631777317,
         0.1415093853113137,
         0.14078697215182276,
         0.14151610581265806,
         0.14163869908239649,
         0.14157013455935136,
         0.14126058476228973,
         0.14265239169936658,
         0.14133151278238287,
         0.14131773055115765,
         0.14056185163220483,
         0.14178595335639058,
         0.14201473349630106,
         0.14157537634952996,
         0.142381895735878,
         0.1419719787906853,
         0.14176614070957608,
         0.14153358358567958,
         0.14204886543549683,
         0.14164169135763513,
         0.14134600295407362,
         0.14223978244865684,
         0.14130194698650925,
         0.14120749332068586
        ],
        [
         0.27415921783768665,
         0.27379002612011105,
         0.2733074466095251,
         0.27223952629548664,
         0.27226825759691353,
         0.2728859195303099,
         0.2727061590070234,
         0.27310524018956167,
         0.2753989426601751,
         0.27435662703332947,
         0.2732004043737463,
         0.27278375505086255,
         0.2731564661816639,
         0.2723923982212357,
         0.27510366804313424,
         0.2719410088497634,
         0.27328677753023073,
         0.2733172817411376,
         0.2745827159241718,
         0.274312537163496,
         0.2737629760933273,
         0.27243138181374355,
         0.2724261205351236,
         0.27158562718507123,
         0.273671856624823,
         0.27414062381813337,
         0.27427295463926654,
         0.27403372336252063,
         0.2737547636178194,
         0.27382608360665683,
         0.27370786685131343,
         0.27347539423727524,
         0.2729346100240946,
         0.27384405721928556,
         0.27373083582257524,
         0.2746312767997676,
         0.27373213211403175,
         0.27407397625639157,
         0.2723064142845425,
         0.2740770820528269,
         0.2737041329051934,
         0.27533677695136444,
         0.2750536490450887,
         0.27326083753038855,
         0.2740385080231171,
         0.275250109058677,
         0.27369197370374904,
         0.2737365167441906,
         0.2746693615381624,
         0.2738737867159002,
         0.2733546721146387,
         0.2742354118210428,
         0.274541470934363,
         0.27272973819544505,
         0.2741253304057846,
         0.27402491075005014,
         0.2733992006921885,
         0.2742142974234679,
         0.27443998332555386,
         0.27384758298741835,
         0.27411105786906736,
         0.2753304475005351,
         0.2734439808364008,
         0.2733120137423861,
         0.27272194287940565,
         0.27525692633992316,
         0.2734164414817796,
         0.27415246264461207,
         0.27454549585487326,
         0.2735173744606037,
         0.2740206420786825,
         0.2739561865215792,
         0.27432323557635147,
         0.27374278176941125,
         0.2734669799752095,
         0.27384456031608817,
         0.27475077406886744,
         0.2734614250195377,
         0.27355100546835687,
         0.27310855953278496,
         0.27380396407462804,
         0.2739320129667427,
         0.2728396493795456,
         0.27414655999517906,
         0.2726309384931536,
         0.27259014977836143,
         0.2730734676999204,
         0.2746749405256089,
         0.2735349526081015,
         0.27410495357916637,
         0.27423598496791196,
         0.27487550781784104,
         0.27406767744790106,
         0.2736245628227206,
         0.2741395839873482,
         0.2734557167426044,
         0.2741391001013564,
         0.27423798135828736,
         0.27452236045078904,
         0.27381008352134745
        ],
        [
         27.964240219444036,
         27.926582664251328,
         27.877359554171562,
         27.768431682139635,
         27.771362274885178,
         27.834363792091608,
         27.816028218716383,
         27.85673449933529,
         28.090692151337862,
         27.984375957399607,
         27.866441246122122,
         27.82394301518798,
         27.86195955052972,
         27.784024618566036,
         28.060574140399694,
         27.737982902675867,
         27.875251308083534,
         27.878362737596035,
         28.007437024265528,
         27.979878790676594,
         27.923823561519384,
         27.78800094500184,
         27.787464294582605,
         27.701733972877264,
         27.914529375731945,
         27.962343629449606,
         27.975841373205185,
         27.951439782977104,
         27.922985889017582,
         27.930260527879,
         27.91820241883397,
         27.894490212202072,
         27.839330222457647,
         27.93209383636713,
         27.920545253902674,
         28.012390233576298,
         27.920677475631237,
         27.95554557815194,
         27.775254257023335,
         27.955862369388342,
         27.917821556329727,
         28.084351249039173,
         28.05547220259905,
         27.872605428099632,
         27.951927818357944,
         28.075511123985052,
         27.916581317782402,
         27.92112470790744,
         28.016274876892567,
         27.93512624502182,
         27.88217655569315,
         27.972012005746365,
         28.003230035305023,
         27.818433295935392,
         27.960783701390028,
         27.950540896505117,
         27.886718470603228,
         27.969858337193727,
         27.992878299206495,
         27.932453464716673,
         27.959327902644873,
         28.08370564505458,
         27.89128604531288,
         27.877825401723385,
         27.81763817369938,
         28.076206486672163,
         27.88847703114152,
         27.963551189750433,
         28.003640577197075,
         27.898772194981575,
         27.950105492025614,
         27.943531025201082,
         27.98097002878785,
         27.921763740479946,
         27.89363195747137,
         27.93214515224099,
         28.02457895502448,
         27.893065351992846,
         27.902202557772398,
         27.857073072344065,
         27.92800433561206,
         27.941065322607756,
         27.829644236713648,
         27.962949119508266,
         27.80835572630167,
         27.804195277392864,
         27.853493705391884,
         28.01684393361211,
         27.900565166026354,
         27.95870526507497,
         27.97207046672702,
         28.037301797419786,
         27.954903099685907,
         27.9097054079175,
         27.96223756670952,
         27.892483107745647,
         27.962188210338354,
         27.972274098545313,
         28.001280765980482,
         27.928628519177437
        ],
        [
         3.8083049387424146,
         3.797930772307047,
         3.793495658662234,
         3.787455211637191,
         3.798160304757199,
         3.79402604465041,
         3.7976357419850224,
         3.798340557660443,
         3.811335938240442,
         3.807166000316711,
         3.802677903161136,
         3.7854960112892284,
         3.7926502532247923,
         3.789985087323902,
         3.818376579257685,
         3.794163288270716,
         3.8016980035879278,
         3.8061059999779308,
         3.800650802767417,
         3.805673283135254,
         3.803697010544686,
         3.7963537825552907,
         3.7920618826762986,
         3.795314417501284,
         3.80782434821535,
         3.810765676319644,
         3.812556252938638,
         3.7969146252643053,
         3.7974841601532914,
         3.8057653813326513,
         3.7991077242840223,
         3.788753306093906,
         3.790599608131777,
         3.8055814003370085,
         3.795573142421853,
         3.8086490052461004,
         3.7907892253166624,
         3.804129981065432,
         3.8009435791365846,
         3.797333100459937,
         3.7974669294086127,
         3.8052481093013055,
         3.8174723934639845,
         3.7911923086515418,
         3.8009251582439685,
         3.8017073697045807,
         3.800656637106129,
         3.8051881432549686,
         3.810250944721484,
         3.8001201172096044,
         3.8041845792800597,
         3.809994031586583,
         3.8097146645304814,
         3.7940796461056316,
         3.803955905099991,
         3.8064877515656175,
         3.7944080023473106,
         3.7966978960482556,
         3.801416448821181,
         3.7985728503249914,
         3.7996124558851587,
         3.7998146203469783,
         3.8025709434647044,
         3.795783463003631,
         3.784818374697313,
         3.7994145358601235,
         3.785577781524495,
         3.805895844245278,
         3.8080264609170418,
         3.797140849751825,
         3.8186944402002005,
         3.8028186260637833,
         3.8120059429262683,
         3.804622081694717,
         3.7966946173729124,
         3.803347968777807,
         3.8077881590777682,
         3.7992048249277106,
         3.7894948422561447,
         3.799295038936976,
         3.800940318711206,
         3.8000202269269363,
         3.7958634914540266,
         3.8145175256296033,
         3.7968163379077273,
         3.7966312062429863,
         3.786463900063605,
         3.802915623880162,
         3.8059825034572485,
         3.800090576243158,
         3.8108992856095734,
         3.8054095491352697,
         3.8026499118873356,
         3.7995296453297103,
         3.806439842480198,
         3.8009804680475248,
         3.7970109693435843,
         3.808996955861608,
         3.7964191803097744,
         3.79515010489835
        ]
       ],
       "encoder": "json",
       "name": "ABC_GAN_1 Metrics",
       "version": 1
      }
     },
     "metadata": {
      "scrapbook": {
       "data": true,
       "display": false,
       "name": "ABC_GAN_1 Metrics"
      }
     },
     "output_type": "display_data"
    }
   ],
   "source": [
    "ABC_GAN1_metrics=ABC_train_test2.test_generator(gen,test_data,prior_model,variance,\"1\",device)\n",
    "sb.glue(\"ABC_GAN_1 Metrics\",ABC_GAN1_metrics)"
   ]
  },
  {
   "cell_type": "markdown",
   "id": "394a2b9d",
   "metadata": {
    "papermill": {
     "duration": 0.03647,
     "end_time": "2022-01-14T07:39:18.132052",
     "exception": false,
     "start_time": "2022-01-14T07:39:18.095582",
     "status": "completed"
    },
    "tags": []
   },
   "source": [
    "#### Sanity Checks "
   ]
  },
  {
   "cell_type": "code",
   "execution_count": 14,
   "id": "a36b3b22",
   "metadata": {
    "execution": {
     "iopub.execute_input": "2022-01-14T07:39:18.208054Z",
     "iopub.status.busy": "2022-01-14T07:39:18.206958Z",
     "iopub.status.idle": "2022-01-14T07:39:19.008441Z",
     "shell.execute_reply": "2022-01-14T07:39:19.007717Z"
    },
    "papermill": {
     "duration": 0.841603,
     "end_time": "2022-01-14T07:39:19.008599",
     "exception": false,
     "start_time": "2022-01-14T07:39:18.166996",
     "status": "completed"
    },
    "tags": []
   },
   "outputs": [
    {
     "data": {
      "image/png": "[encoded data removed]",
      "text/plain": [
       "<Figure size 432x288 with 1 Axes>"
      ]
     },
     "metadata": {
      "needs_background": "light"
     },
     "output_type": "display_data"
    },
    {
     "data": {
      "image/png": "[encoded data removed]",
      "text/plain": [
       "<Figure size 432x288 with 1 Axes>"
      ]
     },
     "metadata": {
      "needs_background": "light"
     },
     "output_type": "display_data"
    },
    {
     "data": {
      "image/png": "[encoded data removed]",
      "text/plain": [
       "<Figure size 432x288 with 1 Axes>"
      ]
     },
     "metadata": {
      "needs_background": "light"
     },
     "output_type": "display_data"
    },
    {
     "data": {
      "image/png": "[encoded data removed]",
      "text/plain": [
       "<Figure size 432x288 with 1 Axes>"
      ]
     },
     "metadata": {
      "needs_background": "light"
     },
     "output_type": "display_data"
    }
   ],
   "source": [
    "sanityChecks.discProbVsError(train_data,disc,device)\n",
    "sanityChecks.discProbVsError(test_data,disc,device)"
   ]
  },
  {
   "cell_type": "markdown",
   "id": "130f3a4d",
   "metadata": {
    "papermill": {
     "duration": 0.040833,
     "end_time": "2022-01-14T07:39:19.108980",
     "exception": false,
     "start_time": "2022-01-14T07:39:19.068147",
     "status": "completed"
    },
    "tags": []
   },
   "source": [
    "# ABC - GAN Model with skip connection"
   ]
  },
  {
   "cell_type": "code",
   "execution_count": 15,
   "id": "4e43dad1",
   "metadata": {
    "execution": {
     "iopub.execute_input": "2022-01-14T07:39:19.195037Z",
     "iopub.status.busy": "2022-01-14T07:39:19.194372Z",
     "iopub.status.idle": "2022-01-14T07:39:19.200019Z",
     "shell.execute_reply": "2022-01-14T07:39:19.199538Z"
    },
    "papermill": {
     "duration": 0.052189,
     "end_time": "2022-01-14T07:39:19.200162",
     "exception": false,
     "start_time": "2022-01-14T07:39:19.147973",
     "status": "completed"
    },
    "tags": []
   },
   "outputs": [],
   "source": [
    "#Generator\n",
    "gen3 = network.GeneratorWithSkipConnection(n_features+1).to(device)\n",
    "constraints=network.weightConstraint()\n",
    "#Discriminator \n",
    "disc3 = network.Discriminator(n_features+1).to(device)\n",
    "\n",
    "criterion = torch.nn.BCELoss()\n",
    "gen_opt = torch.optim.Adam(gen3.parameters(), lr=0.01, betas=(0.5, 0.999))\n",
    "disc_opt = torch.optim.Adam(disc3.parameters(), lr=0.01, betas=(0.5, 0.999))\n"
   ]
  },
  {
   "cell_type": "code",
   "execution_count": 16,
   "id": "26acbc37",
   "metadata": {
    "execution": {
     "iopub.execute_input": "2022-01-14T07:39:19.282851Z",
     "iopub.status.busy": "2022-01-14T07:39:19.282272Z",
     "iopub.status.idle": "2022-01-14T08:16:39.838602Z",
     "shell.execute_reply": "2022-01-14T08:16:39.838010Z"
    },
    "papermill": {
     "duration": 2240.599063,
     "end_time": "2022-01-14T08:16:39.838760",
     "exception": false,
     "start_time": "2022-01-14T07:39:19.239697",
     "status": "completed"
    },
    "tags": []
   },
   "outputs": [
    {
     "data": {
      "image/png": "[encoded data removed]",
      "text/plain": [
       "<Figure size 432x288 with 1 Axes>"
      ]
     },
     "metadata": {
      "needs_background": "light"
     },
     "output_type": "display_data"
    },
    {
     "data": {
      "image/png": "[encoded data removed]",
      "text/plain": [
       "<Figure size 432x288 with 1 Axes>"
      ]
     },
     "metadata": {
      "needs_background": "light"
     },
     "output_type": "display_data"
    }
   ],
   "source": [
    "ABC_train_test2.training_GAN_skip_connection(disc3,gen3,disc_opt,gen_opt,train_data,batch_size,n_epochs,criterion,prior_model,variance,device)\n"
   ]
  },
  {
   "cell_type": "code",
   "execution_count": 17,
   "id": "c5e0717b",
   "metadata": {
    "execution": {
     "iopub.execute_input": "2022-01-14T08:16:39.931161Z",
     "iopub.status.busy": "2022-01-14T08:16:39.930587Z",
     "iopub.status.idle": "2022-01-14T08:16:41.886873Z",
     "shell.execute_reply": "2022-01-14T08:16:41.886280Z"
    },
    "papermill": {
     "duration": 2.004162,
     "end_time": "2022-01-14T08:16:41.887018",
     "exception": false,
     "start_time": "2022-01-14T08:16:39.882856",
     "status": "completed"
    },
    "tags": []
   },
   "outputs": [
    {
     "data": {
      "application/scrapbook.scrap.json+json": {
       "data": 0.11490873341271934,
       "encoder": "json",
       "name": "ABC-GAN Model 3 MSE",
       "version": 1
      }
     },
     "metadata": {
      "scrapbook": {
       "data": true,
       "display": false,
       "name": "ABC-GAN Model 3 MSE"
      }
     },
     "output_type": "display_data"
    },
    {
     "data": {
      "application/scrapbook.scrap.json+json": {
       "data": 0.2304183139868185,
       "encoder": "json",
       "name": "ABC-GAN Model 3 MAE",
       "version": 1
      }
     },
     "metadata": {
      "scrapbook": {
       "data": true,
       "display": false,
       "name": "ABC-GAN Model 3 MAE"
      }
     },
     "output_type": "display_data"
    },
    {
     "data": {
      "application/scrapbook.scrap.json+json": {
       "data": 23.502668026655485,
       "encoder": "json",
       "name": "ABC-GAN Model 3 Manhattan Distance",
       "version": 1
      }
     },
     "metadata": {
      "scrapbook": {
       "data": true,
       "display": false,
       "name": "ABC-GAN Model 3 Manhattan Distance"
      }
     },
     "output_type": "display_data"
    },
    {
     "data": {
      "application/scrapbook.scrap.json+json": {
       "data": 3.423537887105598,
       "encoder": "json",
       "name": "ABC-GAN Model 3 Euclidean distance",
       "version": 1
      }
     },
     "metadata": {
      "scrapbook": {
       "data": true,
       "display": false,
       "name": "ABC-GAN Model 3 Euclidean distance"
      }
     },
     "output_type": "display_data"
    },
    {
     "data": {
      "application/scrapbook.scrap.json+json": {
       "data": [
        [
         0.11517379313331685,
         0.11468186048035393,
         0.11428038071402921,
         0.1146076145879273,
         0.11503835513973432,
         0.11540903032195239,
         0.11429095545047262,
         0.11499581495383648,
         0.11596984478353586,
         0.11408916129852517,
         0.11354101420517101,
         0.11555529112711972,
         0.11501863500786104,
         0.11577620915118653,
         0.11536548744960944,
         0.11493387006683635,
         0.11451323240103023,
         0.11519077061513809,
         0.11502089852719793,
         0.11532484223843646,
         0.11481647887862992,
         0.11448340116824908,
         0.11501482200554551,
         0.11450132714243261,
         0.11354961618065186,
         0.11468748085285572,
         0.11515224004830277,
         0.11560677366281608,
         0.11574155784896445,
         0.11576594057661771,
         0.11423368452791585,
         0.1144662220174103,
         0.11490331063872372,
         0.11447779920781567,
         0.11545497288667694,
         0.11598419646798899,
         0.11542061719321357,
         0.11487567050563272,
         0.11544249991827085,
         0.11487427037805575,
         0.1144806284470428,
         0.11430259256955916,
         0.11558334195400666,
         0.11560534663102542,
         0.11510370573009066,
         0.11374970942939297,
         0.1140798581741103,
         0.11395568920764207,
         0.11505898445037753,
         0.11341845150360917,
         0.11511367559056165,
         0.11436871296734748,
         0.11384898428393384,
         0.11559137685436116,
         0.11499921998056951,
         0.11529432110407252,
         0.11507341253456335,
         0.11412707686437888,
         0.11517071839199051,
         0.1143238073164742,
         0.11440716627298551,
         0.11583959182067552,
         0.11566449956336806,
         0.11467800905843055,
         0.11519408762616395,
         0.1145325806797096,
         0.11469524322156467,
         0.11515350073122523,
         0.11483652123666391,
         0.11501527615324308,
         0.1144330981165499,
         0.11464123516409828,
         0.11497987246853351,
         0.11465030307664041,
         0.1147981094639389,
         0.11496868187890909,
         0.11376825448793285,
         0.11477068322659437,
         0.11572904019820604,
         0.11491888501860947,
         0.11561303284086462,
         0.11611723657406199,
         0.11496604599721429,
         0.11405765169199132,
         0.11528413682776348,
         0.11585479003443523,
         0.11440180979979082,
         0.11432570234599929,
         0.11474193616367002,
         0.11540342637317143,
         0.11457503635177702,
         0.11577813026423169,
         0.11421365754030642,
         0.11454974300096406,
         0.11527065846032329,
         0.11523297678768718,
         0.11540376387815972,
         0.11490312992115491,
         0.11585222288920487,
         0.11517405631996866
        ],
        [
         0.22996003530673026,
         0.23002329076567263,
         0.22978518838884637,
         0.23060230463606252,
         0.2303228838798389,
         0.23091714559061574,
         0.2291266104677882,
         0.23026327175252578,
         0.23202517255455912,
         0.22894773597934046,
         0.2274273454357742,
         0.23016715510611369,
         0.2301158189348986,
         0.2316853429325491,
         0.2321984003418965,
         0.2308741192123396,
         0.22969796449201657,
         0.2310106801919128,
         0.23018944759935359,
         0.2320648896948471,
         0.23070514786448648,
         0.22974870166930772,
         0.23129356621682426,
         0.22994030539606078,
         0.2292824036478266,
         0.23162397777880817,
         0.23045470485892877,
         0.2301237030073489,
         0.2315084547781404,
         0.23179418337303123,
         0.22927627070406315,
         0.23067098266819455,
         0.2308063995773338,
         0.23022005565615153,
         0.2308536193598354,
         0.2314600713731374,
         0.23038295742042145,
         0.23007568748960017,
         0.23103273480756245,
         0.22962807406963526,
         0.23032737689951033,
         0.23105773410084202,
         0.2314059685609833,
         0.23155340223856197,
         0.23078461687934274,
         0.2297266827161223,
         0.2299622804492566,
         0.22972363008268396,
         0.2303175224246932,
         0.22905319625530027,
         0.22991465673868672,
         0.2304309065449143,
         0.22890768350129398,
         0.23133419241354453,
         0.23149897693321456,
         0.23197754424558403,
         0.23249370546888232,
         0.23037618502641244,
         0.23003459056296074,
         0.22919307836940894,
         0.2288423256318578,
         0.2305042692254681,
         0.23088022225362925,
         0.22950074170697846,
         0.2300225930452785,
         0.23065746730814377,
         0.2299140794065726,
         0.2305109314991426,
         0.2307433817791296,
         0.23131456556638666,
         0.23039097782363088,
         0.23053592575175286,
         0.2308102655384288,
         0.23025687238858902,
         0.23063310845949067,
         0.22932210115629692,
         0.2285347612595811,
         0.23028614215653243,
         0.23013376708424368,
         0.2309724715762023,
         0.2301104002895847,
         0.23278951384532312,
         0.23108519336172179,
         0.23018542454491242,
         0.2301625577315195,
         0.23150393120401228,
         0.22987990298847139,
         0.2295786620519471,
         0.23041810068802898,
         0.23041055227718865,
         0.23039214535817212,
         0.2303330721767327,
         0.22857290239749,
         0.23008397179222026,
         0.23081771538458198,
         0.23138430997656256,
         0.23001719477093396,
         0.23011995361679616,
         0.23020671983934282,
         0.23065146837639167
        ],
        [
         23.455923601286486,
         23.46237565809861,
         23.43808921566233,
         23.521435072878376,
         23.49293415574357,
         23.553548850242805,
         23.370914267714397,
         23.48685371875763,
         23.66656760056503,
         23.352669069892727,
         23.19758923444897,
         23.477049820823595,
         23.471813531359658,
         23.63190497912001,
         23.684236834873445,
         23.54916015965864,
         23.42919237818569,
         23.563089379575104,
         23.479323655134067,
         23.670618748874404,
         23.531925082177622,
         23.434367570269387,
         23.591943754116073,
         23.4539111503982,
         23.38680517207831,
         23.625645733438432,
         23.506379895610735,
         23.47261770674959,
         23.613862387370318,
         23.643006704049185,
         23.38617961181444,
         23.528440232155845,
         23.542252756888047,
         23.482445676927455,
         23.54706917470321,
         23.608927280060016,
         23.499061656882986,
         23.467720123939216,
         23.56533895037137,
         23.422063555102795,
         23.493392443750054,
         23.567888878285885,
         23.603408793220297,
         23.61844702833332,
         23.54003092169296,
         23.432121637044474,
         23.456152605824172,
         23.431810268433765,
         23.492387287318707,
         23.363426018040627,
         23.451294987346046,
         23.503952467581257,
         23.348583717131987,
         23.596087626181543,
         23.612895647187884,
         23.661709513049573,
         23.714357957825996,
         23.498370872694068,
         23.463528237421997,
         23.377693993679713,
         23.341917214449495,
         23.511435460997745,
         23.549782669870183,
         23.409075654111803,
         23.462304490618408,
         23.527061665430665,
         23.451236099470407,
         23.512115012912545,
         23.53582494147122,
         23.59408568777144,
         23.49987973801035,
         23.51466442667879,
         23.542647084919736,
         23.48620098363608,
         23.524577062868048,
         23.390854317942285,
         23.310545648477273,
         23.48918649996631,
         23.473644242592854,
         23.559192100772634,
         23.47126082953764,
         23.744530412222957,
         23.570689722895622,
         23.478913303581066,
         23.47658088861499,
         23.613400982809253,
         23.44775010482408,
         23.417023529298604,
         23.502646270178957,
         23.50187633227324,
         23.499998826533556,
         23.493973362026736,
         23.31443604454398,
         23.468565122806467,
         23.543406969227362,
         23.60119961760938,
         23.461753866635263,
         23.47223526891321,
         23.481085423612967,
         23.52644977439195
        ],
        [
         3.4274957183924126,
         3.4201680907516954,
         3.4141761572641474,
         3.4190607903295,
         3.425479853137791,
         3.430994184320216,
         3.414334116039057,
         3.424846438205853,
         3.4393203060954725,
         3.4113185797356373,
         3.403113787243595,
         3.4331675891174047,
         3.4251862388491845,
         3.436447778363731,
         3.430346880398565,
         3.4239238815746638,
         3.4176526600731507,
         3.427748328384697,
         3.425219941810188,
         3.4297425425708727,
         3.4221748706955717,
         3.4172074738244103,
         3.4251294639130996,
         3.4174749989616786,
         3.4032426963745173,
         3.4202518981781562,
         3.427175000627613,
         3.4339322814533255,
         3.4359334831446273,
         3.436295380029925,
         3.4134785515434856,
         3.416951074536458,
         3.4234686627965236,
         3.4171238665282817,
         3.4316770294479997,
         3.439533113626743,
         3.4311664130012383,
         3.423056878226614,
         3.4314916569421565,
         3.4230360177131764,
         3.4171660921878484,
         3.4145079355735914,
         3.433584261279848,
         3.43391108742853,
         3.426452682362511,
         3.406239915478368,
         3.411179493043316,
         3.4093225572215204,
         3.4257869773146292,
         3.401276532916448,
         3.426601072526139,
         3.4154953846652236,
         3.4077259861909748,
         3.4337036038576243,
         3.424897142691747,
         3.4292886656878854,
         3.426001762773257,
         3.41188537910737,
         3.427449966955467,
         3.4148247899826965,
         3.416069519176172,
         3.4373883059248485,
         3.434789506718503,
         3.420110659607363,
         3.427797680416498,
         3.4179413730095454,
         3.420367642315603,
         3.427193760875648,
         3.4224735449875605,
         3.4251362261420772,
         3.4164566451058747,
         3.4195622507476053,
         3.4246090275811656,
         3.4196974886409643,
         3.4219011039657135,
         3.4244423709048935,
         3.406517570447736,
         3.421492319019966,
         3.4357476770299957,
         3.42370066914416,
         3.4340252401181024,
         3.4415052129198243,
         3.4244031146633214,
         3.410847471316053,
         3.429137202917357,
         3.4376137920820007,
         3.41598954910267,
         3.414853091904823,
         3.4210637948881257,
         3.430910883433652,
         3.4185748065357955,
         3.436476289304443,
         3.413179319800126,
         3.4181974469153094,
         3.4289367394212706,
         3.4283762384464302,
         3.4309159003934053,
         3.4234659706148385,
         3.4375757060316348,
         3.4274996345203017
        ]
       ],
       "encoder": "json",
       "name": "ABC_GAN_3 Metrics",
       "version": 1
      }
     },
     "metadata": {
      "scrapbook": {
       "data": true,
       "display": false,
       "name": "ABC_GAN_3 Metrics"
      }
     },
     "output_type": "display_data"
    }
   ],
   "source": [
    "ABC_GAN3_metrics=ABC_train_test2.test_generator(gen3,test_data,prior_model,variance,\"3\",device)\n",
    "sb.glue(\"ABC_GAN_3 Metrics\",ABC_GAN3_metrics)"
   ]
  },
  {
   "cell_type": "code",
   "execution_count": 18,
   "id": "c8e46b48",
   "metadata": {
    "execution": {
     "iopub.execute_input": "2022-01-14T08:16:41.984678Z",
     "iopub.status.busy": "2022-01-14T08:16:41.984070Z",
     "iopub.status.idle": "2022-01-14T08:16:42.822725Z",
     "shell.execute_reply": "2022-01-14T08:16:42.822120Z"
    },
    "papermill": {
     "duration": 0.888936,
     "end_time": "2022-01-14T08:16:42.822870",
     "exception": false,
     "start_time": "2022-01-14T08:16:41.933934",
     "status": "completed"
    },
    "tags": []
   },
   "outputs": [
    {
     "data": {
      "image/png": "[encoded data removed]",
      "text/plain": [
       "<Figure size 432x288 with 1 Axes>"
      ]
     },
     "metadata": {
      "needs_background": "light"
     },
     "output_type": "display_data"
    },
    {
     "data": {
      "image/png": "[encoded data removed]",
      "text/plain": [
       "<Figure size 432x288 with 1 Axes>"
      ]
     },
     "metadata": {
      "needs_background": "light"
     },
     "output_type": "display_data"
    },
    {
     "data": {
      "image/png": "[encoded data removed]",
      "text/plain": [
       "<Figure size 432x288 with 1 Axes>"
      ]
     },
     "metadata": {
      "needs_background": "light"
     },
     "output_type": "display_data"
    },
    {
     "data": {
      "image/png": "[encoded data removed]",
      "text/plain": [
       "<Figure size 432x288 with 1 Axes>"
      ]
     },
     "metadata": {
      "needs_background": "light"
     },
     "output_type": "display_data"
    }
   ],
   "source": [
    "sanityChecks.discProbVsError(train_data,disc,device)\n",
    "sanityChecks.discProbVsError(test_data,disc3,device)"
   ]
  },
  {
   "cell_type": "markdown",
   "id": "a5bd74c3",
   "metadata": {
    "papermill": {
     "duration": 0.051898,
     "end_time": "2022-01-14T08:16:42.927213",
     "exception": false,
     "start_time": "2022-01-14T08:16:42.875315",
     "status": "completed"
    },
    "tags": []
   },
   "source": [
    "## Skip Connection Model Analysis - ABC-GAN "
   ]
  },
  {
   "cell_type": "markdown",
   "id": "5744a8bf",
   "metadata": {
    "papermill": {
     "duration": 0.049013,
     "end_time": "2022-01-14T08:16:43.028200",
     "exception": false,
     "start_time": "2022-01-14T08:16:42.979187",
     "status": "completed"
    },
    "tags": []
   },
   "source": [
    "### Weight Analysis \n",
    "\n",
    "Study the weights of the skip connection layer\n",
    "\n",
    "Equation of the skip connection is \n",
    "\n",
    "$output = y_{gan} * w + y_{abc} * (1-w)$"
   ]
  },
  {
   "cell_type": "code",
   "execution_count": 19,
   "id": "52c31dea",
   "metadata": {
    "execution": {
     "iopub.execute_input": "2022-01-14T08:16:43.135117Z",
     "iopub.status.busy": "2022-01-14T08:16:43.134500Z",
     "iopub.status.idle": "2022-01-14T08:16:43.145102Z",
     "shell.execute_reply": "2022-01-14T08:16:43.145584Z"
    },
    "papermill": {
     "duration": 0.067073,
     "end_time": "2022-01-14T08:16:43.145779",
     "exception": false,
     "start_time": "2022-01-14T08:16:43.078706",
     "status": "completed"
    },
    "tags": []
   },
   "outputs": [
    {
     "name": "stdout",
     "output_type": "stream",
     "text": [
      "Weight of the node at skip connection\n",
      "Parameter containing:\n",
      "tensor([[0.]], device='cuda:0', requires_grad=True)\n"
     ]
    },
    {
     "data": {
      "application/scrapbook.scrap.json+json": {
       "data": 0.0,
       "encoder": "json",
       "name": "Skip Connection Weight",
       "version": 1
      }
     },
     "metadata": {
      "scrapbook": {
       "data": true,
       "display": false,
       "name": "Skip Connection Weight"
      }
     },
     "output_type": "display_data"
    }
   ],
   "source": [
    "print(\"Weight of the node at skip connection\")\n",
    "for name,param in gen3.named_parameters():\n",
    "    if(name == \"skipNode.weight\"):\n",
    "        print(param)\n",
    "        sb.glue(\"Skip Connection Weight\",param.item())"
   ]
  }
 ],
 "metadata": {
  "interpreter": {
   "hash": "10498c76ddd8160350534c6544a2b2fb65f2138dbc70420f7c81a3268f830f23"
  },
  "kernelspec": {
   "display_name": "papermill-tutorial",
   "language": "python",
   "name": "python3"
  },
  "language_info": {
   "codemirror_mode": {
    "name": "ipython",
    "version": 3
   },
   "file_extension": ".py",
   "mimetype": "text/x-python",
   "name": "python",
   "nbconvert_exporter": "python",
   "pygments_lexer": "ipython3",
   "version": "3.7.12"
  },
  "papermill": {
   "default_parameters": {},
   "duration": 2590.841189,
   "end_time": "2022-01-14T08:16:43.910063",
   "environment_variables": {},
   "exception": null,
   "input_path": "ABC_GAN_Model-Catboost_Pre-gen.ipynb",
   "output_path": "./ABC_GAN_Output/ABC-GAN_output_1_2.ipynb",
   "parameters": {
    "variance": 0.01
   },
   "start_time": "2022-01-14T07:33:33.068874",
   "version": "2.3.3"
  }
 },
 "nbformat": 4,
 "nbformat_minor": 5
}