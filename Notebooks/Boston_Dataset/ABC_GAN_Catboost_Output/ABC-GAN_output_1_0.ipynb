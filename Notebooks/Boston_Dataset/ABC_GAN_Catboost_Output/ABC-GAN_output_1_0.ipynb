{
 "cells": [
  {
   "cell_type": "markdown",
   "id": "622780e6",
   "metadata": {
    "papermill": {
     "duration": 0.027789,
     "end_time": "2022-01-14T06:05:26.245344",
     "exception": false,
     "start_time": "2022-01-14T06:05:26.217555",
     "status": "completed"
    },
    "tags": []
   },
   "source": [
    "## Import Libraries "
   ]
  },
  {
   "cell_type": "code",
   "execution_count": 1,
   "id": "a62397e3",
   "metadata": {
    "execution": {
     "iopub.execute_input": "2022-01-14T06:05:26.302777Z",
     "iopub.status.busy": "2022-01-14T06:05:26.302092Z",
     "iopub.status.idle": "2022-01-14T06:05:26.304987Z",
     "shell.execute_reply": "2022-01-14T06:05:26.304397Z"
    },
    "papermill": {
     "duration": 0.034623,
     "end_time": "2022-01-14T06:05:26.305125",
     "exception": false,
     "start_time": "2022-01-14T06:05:26.270502",
     "status": "completed"
    },
    "tags": []
   },
   "outputs": [],
   "source": [
    "import warnings\n",
    "import sys\n",
    "sys.path.insert(0, '../../src')\n",
    "warnings.filterwarnings('ignore')"
   ]
  },
  {
   "cell_type": "code",
   "execution_count": 2,
   "id": "d6a4e155",
   "metadata": {
    "execution": {
     "iopub.execute_input": "2022-01-14T06:05:26.360633Z",
     "iopub.status.busy": "2022-01-14T06:05:26.359724Z",
     "iopub.status.idle": "2022-01-14T06:05:35.310333Z",
     "shell.execute_reply": "2022-01-14T06:05:35.310862Z"
    },
    "papermill": {
     "duration": 8.981558,
     "end_time": "2022-01-14T06:05:35.311031",
     "exception": false,
     "start_time": "2022-01-14T06:05:26.329473",
     "status": "completed"
    },
    "tags": []
   },
   "outputs": [],
   "source": [
    "import ABC_train_test2\n",
    "import bostonDataset\n",
    "import network\n",
    "import dataset\n",
    "import sanityChecks\n",
    "import performanceMetrics\n",
    "import torch \n",
    "from torch.utils.data import random_split \n",
    "import scrapbook as sb\n",
    "from statistics import mean \n",
    "import catboost as ctb \n",
    "from sklearn.model_selection import train_test_split\n",
    "from sklearn.metrics import mean_squared_error\n",
    "import numpy as np"
   ]
  },
  {
   "cell_type": "markdown",
   "id": "2fa5b0f7",
   "metadata": {
    "papermill": {
     "duration": 0.024837,
     "end_time": "2022-01-14T06:05:35.362886",
     "exception": false,
     "start_time": "2022-01-14T06:05:35.338049",
     "status": "completed"
    },
    "tags": []
   },
   "source": [
    "## Parameters "
   ]
  },
  {
   "cell_type": "code",
   "execution_count": 3,
   "id": "783186fb",
   "metadata": {
    "execution": {
     "iopub.execute_input": "2022-01-14T06:05:35.443962Z",
     "iopub.status.busy": "2022-01-14T06:05:35.443296Z",
     "iopub.status.idle": "2022-01-14T06:05:35.445937Z",
     "shell.execute_reply": "2022-01-14T06:05:35.445342Z"
    },
    "papermill": {
     "duration": 0.058391,
     "end_time": "2022-01-14T06:05:35.446068",
     "exception": false,
     "start_time": "2022-01-14T06:05:35.387677",
     "status": "completed"
    },
    "tags": [
     "parameters"
    ]
   },
   "outputs": [],
   "source": [
    "variance = 1"
   ]
  },
  {
   "cell_type": "code",
   "execution_count": 4,
   "id": "cd85605f",
   "metadata": {
    "execution": {
     "iopub.execute_input": "2022-01-14T06:05:35.499672Z",
     "iopub.status.busy": "2022-01-14T06:05:35.499009Z",
     "iopub.status.idle": "2022-01-14T06:05:35.501075Z",
     "shell.execute_reply": "2022-01-14T06:05:35.501558Z"
    },
    "papermill": {
     "duration": 0.030562,
     "end_time": "2022-01-14T06:05:35.501709",
     "exception": false,
     "start_time": "2022-01-14T06:05:35.471147",
     "status": "completed"
    },
    "tags": [
     "injected-parameters"
    ]
   },
   "outputs": [],
   "source": [
    "# Parameters\n",
    "variance = 1\n"
   ]
  },
  {
   "cell_type": "markdown",
   "id": "391cdbfd",
   "metadata": {
    "papermill": {
     "duration": 0.023991,
     "end_time": "2022-01-14T06:05:35.549325",
     "exception": false,
     "start_time": "2022-01-14T06:05:35.525334",
     "status": "completed"
    },
    "tags": []
   },
   "source": [
    "## Dataset - Boston Housing "
   ]
  },
  {
   "cell_type": "code",
   "execution_count": 5,
   "id": "5b51f161",
   "metadata": {
    "execution": {
     "iopub.execute_input": "2022-01-14T06:05:35.602371Z",
     "iopub.status.busy": "2022-01-14T06:05:35.601790Z",
     "iopub.status.idle": "2022-01-14T06:05:35.604009Z",
     "shell.execute_reply": "2022-01-14T06:05:35.604487Z"
    },
    "papermill": {
     "duration": 0.030712,
     "end_time": "2022-01-14T06:05:35.604643",
     "exception": false,
     "start_time": "2022-01-14T06:05:35.573931",
     "status": "completed"
    },
    "tags": []
   },
   "outputs": [],
   "source": [
    "#Parameters \n",
    "n_features = 13\n",
    "n_samples= 506\n",
    "n_target = 1 "
   ]
  },
  {
   "cell_type": "code",
   "execution_count": 6,
   "id": "5d6eced4",
   "metadata": {
    "execution": {
     "iopub.execute_input": "2022-01-14T06:05:35.656519Z",
     "iopub.status.busy": "2022-01-14T06:05:35.655834Z",
     "iopub.status.idle": "2022-01-14T06:05:35.697199Z",
     "shell.execute_reply": "2022-01-14T06:05:35.696729Z"
    },
    "papermill": {
     "duration": 0.069198,
     "end_time": "2022-01-14T06:05:35.697338",
     "exception": false,
     "start_time": "2022-01-14T06:05:35.628140",
     "status": "completed"
    },
    "tags": []
   },
   "outputs": [
    {
     "name": "stdout",
     "output_type": "stream",
     "text": [
      "         X1        X2        X3        X4        X5        X6        X7        X8        X9       X10       X11       X12       X13         Y\n",
      "0 -0.419782  0.284830 -1.287909 -0.272599 -0.144217  0.413672 -0.120013  0.140214 -0.982843 -0.666608 -1.459000  0.441052 -1.075562  0.159686\n",
      "1 -0.417339 -0.487722 -0.593381 -0.272599 -0.740262  0.194274  0.367166  0.557160 -0.867883 -0.987329 -0.303094  0.441052 -0.492439 -0.101524\n",
      "2 -0.417342 -0.487722 -0.593381 -0.272599 -0.740262  1.282714 -0.265812  0.557160 -0.867883 -0.987329 -0.303094  0.396427 -1.208727  1.324247\n",
      "3 -0.416750 -0.487722 -1.306878 -0.272599 -0.835284  1.016303 -0.809889  1.077737 -0.752922 -1.106115  0.113032  0.416163 -1.361517  1.182758\n",
      "4 -0.412482 -0.487722 -1.306878 -0.272599 -0.835284  1.228577 -0.511180  1.077737 -0.752922 -1.106115  0.113032  0.441052 -1.026501  1.487503\n"
     ]
    }
   ],
   "source": [
    "X,Y = bostonDataset.boston_data()"
   ]
  },
  {
   "cell_type": "code",
   "execution_count": 7,
   "id": "fe007438",
   "metadata": {
    "execution": {
     "iopub.execute_input": "2022-01-14T06:05:35.751922Z",
     "iopub.status.busy": "2022-01-14T06:05:35.751349Z",
     "iopub.status.idle": "2022-01-14T06:05:35.753942Z",
     "shell.execute_reply": "2022-01-14T06:05:35.753487Z"
    },
    "papermill": {
     "duration": 0.03242,
     "end_time": "2022-01-14T06:05:35.754058",
     "exception": false,
     "start_time": "2022-01-14T06:05:35.721638",
     "status": "completed"
    },
    "tags": []
   },
   "outputs": [],
   "source": [
    "#Train test split for dataset \n",
    "X_train,X_test,Y_train,Y_test = train_test_split(X,Y,test_size = 0.2)\n",
    "train_data = dataset.CustomDataset(X_train,Y_train)\n",
    "test_data = dataset.CustomDataset(X_test,Y_test)\n"
   ]
  },
  {
   "cell_type": "markdown",
   "id": "a9a1af34",
   "metadata": {
    "papermill": {
     "duration": 0.025268,
     "end_time": "2022-01-14T06:05:35.802804",
     "exception": false,
     "start_time": "2022-01-14T06:05:35.777536",
     "status": "completed"
    },
    "tags": []
   },
   "source": [
    "## Training Parameters \n",
    "\n"
   ]
  },
  {
   "cell_type": "code",
   "execution_count": 8,
   "id": "952b7fc8",
   "metadata": {
    "execution": {
     "iopub.execute_input": "2022-01-14T06:05:35.911526Z",
     "iopub.status.busy": "2022-01-14T06:05:35.910934Z",
     "iopub.status.idle": "2022-01-14T06:05:35.913364Z",
     "shell.execute_reply": "2022-01-14T06:05:35.912680Z"
    },
    "papermill": {
     "duration": 0.086127,
     "end_time": "2022-01-14T06:05:35.913504",
     "exception": false,
     "start_time": "2022-01-14T06:05:35.827377",
     "status": "completed"
    },
    "tags": []
   },
   "outputs": [],
   "source": [
    "batch_size = 64\n",
    "n_epochs = 5000\n",
    "#Select the device \n",
    "device = torch.device('cuda' if torch.cuda.is_available() else 'cpu')"
   ]
  },
  {
   "cell_type": "markdown",
   "id": "a95e1600",
   "metadata": {
    "papermill": {
     "duration": 0.042175,
     "end_time": "2022-01-14T06:05:35.980798",
     "exception": false,
     "start_time": "2022-01-14T06:05:35.938623",
     "status": "completed"
    },
    "tags": []
   },
   "source": [
    "# ABC Pre-generator Model \n",
    "\n",
    "1. The catboost model is used as a pre-generator model for the ABC-GAN. \n",
    "2. The model is first trained on the train dataset \n",
    "3. It generats X,Y pairs and we add some Gaussian noise with mean 0 and variance V (1,0.01,0.1) to it which is then feed as input to the generator.\n"
   ]
  },
  {
   "cell_type": "code",
   "execution_count": 9,
   "id": "ff8ce7bd",
   "metadata": {
    "execution": {
     "iopub.execute_input": "2022-01-14T06:05:36.055032Z",
     "iopub.status.busy": "2022-01-14T06:05:36.054096Z",
     "iopub.status.idle": "2022-01-14T06:05:38.929177Z",
     "shell.execute_reply": "2022-01-14T06:05:38.929846Z"
    },
    "papermill": {
     "duration": 2.922966,
     "end_time": "2022-01-14T06:05:38.930010",
     "exception": false,
     "start_time": "2022-01-14T06:05:36.007044",
     "status": "completed"
    },
    "tags": []
   },
   "outputs": [
    {
     "name": "stdout",
     "output_type": "stream",
     "text": [
      "Learning rate set to 0.03548\n"
     ]
    },
    {
     "name": "stdout",
     "output_type": "stream",
     "text": [
      "0:\tlearn: 0.9834355\ttotal: 48.6ms\tremaining: 48.6s\n",
      "1:\tlearn: 0.9633279\ttotal: 50ms\tremaining: 25s\n",
      "2:\tlearn: 0.9426920\ttotal: 51.1ms\tremaining: 17s\n",
      "3:\tlearn: 0.9246247\ttotal: 52.3ms\tremaining: 13s\n",
      "4:\tlearn: 0.9088404\ttotal: 53.5ms\tremaining: 10.7s\n",
      "5:\tlearn: 0.8942141\ttotal: 54.8ms\tremaining: 9.07s\n",
      "6:\tlearn: 0.8781801\ttotal: 55.8ms\tremaining: 7.92s\n",
      "7:\tlearn: 0.8614402\ttotal: 56.8ms\tremaining: 7.04s\n",
      "8:\tlearn: 0.8449207\ttotal: 57.8ms\tremaining: 6.37s\n",
      "9:\tlearn: 0.8269588\ttotal: 59.2ms\tremaining: 5.86s\n",
      "10:\tlearn: 0.8113548\ttotal: 60.3ms\tremaining: 5.42s\n",
      "11:\tlearn: 0.7956717\ttotal: 61.2ms\tremaining: 5.03s\n",
      "12:\tlearn: 0.7811403\ttotal: 62.3ms\tremaining: 4.73s\n",
      "13:\tlearn: 0.7650582\ttotal: 63.4ms\tremaining: 4.47s\n",
      "14:\tlearn: 0.7510340\ttotal: 64.5ms\tremaining: 4.24s\n",
      "15:\tlearn: 0.7361775\ttotal: 65.5ms\tremaining: 4.03s\n",
      "16:\tlearn: 0.7229637\ttotal: 68.8ms\tremaining: 3.98s\n",
      "17:\tlearn: 0.7088580\ttotal: 70.2ms\tremaining: 3.83s\n",
      "18:\tlearn: 0.6960782\ttotal: 71.2ms\tremaining: 3.67s\n",
      "19:\tlearn: 0.6848251\ttotal: 72.1ms\tremaining: 3.54s\n",
      "20:\tlearn: 0.6729379\ttotal: 73.1ms\tremaining: 3.41s\n",
      "21:\tlearn: 0.6618065\ttotal: 74.1ms\tremaining: 3.29s\n",
      "22:\tlearn: 0.6493688\ttotal: 75.1ms\tremaining: 3.19s\n",
      "23:\tlearn: 0.6382793\ttotal: 76ms\tremaining: 3.09s\n",
      "24:\tlearn: 0.6286526\ttotal: 77ms\tremaining: 3s\n",
      "25:\tlearn: 0.6184236\ttotal: 77.9ms\tremaining: 2.92s\n",
      "26:\tlearn: 0.6093849\ttotal: 79ms\tremaining: 2.85s\n",
      "27:\tlearn: 0.6003278\ttotal: 80.1ms\tremaining: 2.78s\n",
      "28:\tlearn: 0.5908980\ttotal: 81.2ms\tremaining: 2.72s\n",
      "29:\tlearn: 0.5815099\ttotal: 82.2ms\tremaining: 2.66s\n",
      "30:\tlearn: 0.5725428\ttotal: 83.1ms\tremaining: 2.6s\n",
      "31:\tlearn: 0.5643345\ttotal: 84.1ms\tremaining: 2.54s\n",
      "32:\tlearn: 0.5571128\ttotal: 85.3ms\tremaining: 2.5s\n",
      "33:\tlearn: 0.5499574\ttotal: 86.2ms\tremaining: 2.45s\n",
      "34:\tlearn: 0.5422608\ttotal: 87.2ms\tremaining: 2.4s\n",
      "35:\tlearn: 0.5349294\ttotal: 88.3ms\tremaining: 2.36s\n",
      "36:\tlearn: 0.5281506\ttotal: 89.5ms\tremaining: 2.33s\n",
      "37:\tlearn: 0.5214768\ttotal: 90.5ms\tremaining: 2.29s\n",
      "38:\tlearn: 0.5140150\ttotal: 91.5ms\tremaining: 2.25s\n",
      "39:\tlearn: 0.5064111\ttotal: 92.5ms\tremaining: 2.22s\n",
      "40:\tlearn: 0.4999804\ttotal: 93.5ms\tremaining: 2.19s\n",
      "41:\tlearn: 0.4919358\ttotal: 94.5ms\tremaining: 2.15s\n",
      "42:\tlearn: 0.4868122\ttotal: 95.4ms\tremaining: 2.12s\n",
      "43:\tlearn: 0.4816819\ttotal: 96.4ms\tremaining: 2.09s\n",
      "44:\tlearn: 0.4758472\ttotal: 97.5ms\tremaining: 2.07s\n",
      "45:\tlearn: 0.4700036\ttotal: 98.5ms\tremaining: 2.04s\n",
      "46:\tlearn: 0.4645500\ttotal: 99.5ms\tremaining: 2.02s\n",
      "47:\tlearn: 0.4591008\ttotal: 101ms\tremaining: 1.99s\n",
      "48:\tlearn: 0.4527691\ttotal: 102ms\tremaining: 1.97s\n",
      "49:\tlearn: 0.4485024\ttotal: 103ms\tremaining: 1.95s\n",
      "50:\tlearn: 0.4432012\ttotal: 104ms\tremaining: 1.93s\n",
      "51:\tlearn: 0.4385455\ttotal: 104ms\tremaining: 1.9s\n",
      "52:\tlearn: 0.4332460\ttotal: 106ms\tremaining: 1.89s\n",
      "53:\tlearn: 0.4291248\ttotal: 106ms\tremaining: 1.86s\n",
      "54:\tlearn: 0.4236981\ttotal: 108ms\tremaining: 1.85s\n",
      "55:\tlearn: 0.4187865\ttotal: 109ms\tremaining: 1.83s\n",
      "56:\tlearn: 0.4147923\ttotal: 110ms\tremaining: 1.81s\n",
      "57:\tlearn: 0.4103112\ttotal: 111ms\tremaining: 1.8s\n",
      "58:\tlearn: 0.4064188\ttotal: 112ms\tremaining: 1.79s\n",
      "59:\tlearn: 0.4025985\ttotal: 113ms\tremaining: 1.77s\n",
      "60:\tlearn: 0.3994875\ttotal: 114ms\tremaining: 1.76s\n",
      "61:\tlearn: 0.3956471\ttotal: 115ms\tremaining: 1.74s\n",
      "62:\tlearn: 0.3912094\ttotal: 116ms\tremaining: 1.73s\n",
      "63:\tlearn: 0.3879144\ttotal: 117ms\tremaining: 1.71s\n",
      "64:\tlearn: 0.3844229\ttotal: 118ms\tremaining: 1.7s\n",
      "65:\tlearn: 0.3815699\ttotal: 119ms\tremaining: 1.69s\n",
      "66:\tlearn: 0.3776389\ttotal: 120ms\tremaining: 1.68s\n",
      "67:\tlearn: 0.3746165\ttotal: 122ms\tremaining: 1.67s\n",
      "68:\tlearn: 0.3717382\ttotal: 123ms\tremaining: 1.66s\n",
      "69:\tlearn: 0.3687967\ttotal: 124ms\tremaining: 1.65s\n",
      "70:\tlearn: 0.3656060\ttotal: 125ms\tremaining: 1.63s\n",
      "71:\tlearn: 0.3633208\ttotal: 126ms\tremaining: 1.62s\n",
      "72:\tlearn: 0.3611428\ttotal: 127ms\tremaining: 1.61s\n",
      "73:\tlearn: 0.3582889\ttotal: 128ms\tremaining: 1.6s\n",
      "74:\tlearn: 0.3552463\ttotal: 129ms\tremaining: 1.59s\n",
      "75:\tlearn: 0.3533551\ttotal: 130ms\tremaining: 1.58s\n",
      "76:\tlearn: 0.3497172\ttotal: 131ms\tremaining: 1.57s\n",
      "77:\tlearn: 0.3471101\ttotal: 132ms\tremaining: 1.56s\n",
      "78:\tlearn: 0.3444665\ttotal: 133ms\tremaining: 1.55s\n",
      "79:\tlearn: 0.3425354\ttotal: 134ms\tremaining: 1.54s\n",
      "80:\tlearn: 0.3397383\ttotal: 135ms\tremaining: 1.53s\n",
      "81:\tlearn: 0.3373380\ttotal: 136ms\tremaining: 1.52s\n",
      "82:\tlearn: 0.3358370\ttotal: 138ms\tremaining: 1.52s\n",
      "83:\tlearn: 0.3340204\ttotal: 139ms\tremaining: 1.51s\n",
      "84:\tlearn: 0.3311353\ttotal: 140ms\tremaining: 1.5s\n",
      "85:\tlearn: 0.3283119\ttotal: 141ms\tremaining: 1.5s\n",
      "86:\tlearn: 0.3257624\ttotal: 143ms\tremaining: 1.5s\n",
      "87:\tlearn: 0.3231315\ttotal: 144ms\tremaining: 1.49s\n",
      "88:\tlearn: 0.3214518\ttotal: 145ms\tremaining: 1.48s\n",
      "89:\tlearn: 0.3198266\ttotal: 146ms\tremaining: 1.48s\n",
      "90:\tlearn: 0.3179171\ttotal: 147ms\tremaining: 1.47s\n",
      "91:\tlearn: 0.3162202\ttotal: 148ms\tremaining: 1.47s\n",
      "92:\tlearn: 0.3146803\ttotal: 150ms\tremaining: 1.46s\n",
      "93:\tlearn: 0.3124760\ttotal: 151ms\tremaining: 1.45s\n",
      "94:\tlearn: 0.3106795\ttotal: 152ms\tremaining: 1.45s\n",
      "95:\tlearn: 0.3088349\ttotal: 153ms\tremaining: 1.44s\n",
      "96:\tlearn: 0.3071238\ttotal: 154ms\tremaining: 1.44s\n",
      "97:\tlearn: 0.3056399\ttotal: 156ms\tremaining: 1.44s\n",
      "98:\tlearn: 0.3037655\ttotal: 157ms\tremaining: 1.43s\n",
      "99:\tlearn: 0.3022229\ttotal: 159ms\tremaining: 1.43s\n",
      "100:\tlearn: 0.3008900\ttotal: 160ms\tremaining: 1.42s\n",
      "101:\tlearn: 0.2993870\ttotal: 161ms\tremaining: 1.41s\n",
      "102:\tlearn: 0.2974623\ttotal: 162ms\tremaining: 1.41s\n",
      "103:\tlearn: 0.2958798\ttotal: 163ms\tremaining: 1.4s\n",
      "104:\tlearn: 0.2944668\ttotal: 164ms\tremaining: 1.4s\n",
      "105:\tlearn: 0.2930212\ttotal: 165ms\tremaining: 1.39s\n",
      "106:\tlearn: 0.2916527\ttotal: 166ms\tremaining: 1.39s\n",
      "107:\tlearn: 0.2906434\ttotal: 167ms\tremaining: 1.38s\n",
      "108:\tlearn: 0.2894679\ttotal: 168ms\tremaining: 1.37s\n",
      "109:\tlearn: 0.2880970\ttotal: 169ms\tremaining: 1.37s\n",
      "110:\tlearn: 0.2865705\ttotal: 170ms\tremaining: 1.36s\n",
      "111:\tlearn: 0.2855107\ttotal: 171ms\tremaining: 1.36s\n",
      "112:\tlearn: 0.2839837\ttotal: 172ms\tremaining: 1.35s\n",
      "113:\tlearn: 0.2825773\ttotal: 173ms\tremaining: 1.35s\n",
      "114:\tlearn: 0.2811883\ttotal: 174ms\tremaining: 1.34s\n",
      "115:\tlearn: 0.2800665\ttotal: 175ms\tremaining: 1.34s\n",
      "116:\tlearn: 0.2787085\ttotal: 177ms\tremaining: 1.33s\n",
      "117:\tlearn: 0.2771769\ttotal: 178ms\tremaining: 1.33s\n",
      "118:\tlearn: 0.2757499\ttotal: 179ms\tremaining: 1.32s\n",
      "119:\tlearn: 0.2749549\ttotal: 180ms\tremaining: 1.32s\n"
     ]
    },
    {
     "name": "stdout",
     "output_type": "stream",
     "text": [
      "120:\tlearn: 0.2737550\ttotal: 181ms\tremaining: 1.31s\n",
      "121:\tlearn: 0.2721950\ttotal: 182ms\tremaining: 1.31s\n",
      "122:\tlearn: 0.2713477\ttotal: 183ms\tremaining: 1.31s\n",
      "123:\tlearn: 0.2702184\ttotal: 185ms\tremaining: 1.3s\n",
      "124:\tlearn: 0.2690585\ttotal: 186ms\tremaining: 1.3s\n",
      "125:\tlearn: 0.2679785\ttotal: 187ms\tremaining: 1.29s\n",
      "126:\tlearn: 0.2664092\ttotal: 188ms\tremaining: 1.29s\n",
      "127:\tlearn: 0.2653212\ttotal: 189ms\tremaining: 1.28s\n",
      "128:\tlearn: 0.2640836\ttotal: 190ms\tremaining: 1.28s\n",
      "129:\tlearn: 0.2631781\ttotal: 191ms\tremaining: 1.28s\n",
      "130:\tlearn: 0.2619457\ttotal: 192ms\tremaining: 1.27s\n",
      "131:\tlearn: 0.2607059\ttotal: 193ms\tremaining: 1.27s\n",
      "132:\tlearn: 0.2595745\ttotal: 194ms\tremaining: 1.26s\n",
      "133:\tlearn: 0.2586042\ttotal: 195ms\tremaining: 1.26s\n",
      "134:\tlearn: 0.2574278\ttotal: 196ms\tremaining: 1.25s\n",
      "135:\tlearn: 0.2560384\ttotal: 197ms\tremaining: 1.25s\n",
      "136:\tlearn: 0.2551636\ttotal: 198ms\tremaining: 1.25s\n",
      "137:\tlearn: 0.2539863\ttotal: 199ms\tremaining: 1.24s\n",
      "138:\tlearn: 0.2531093\ttotal: 200ms\tremaining: 1.24s\n",
      "139:\tlearn: 0.2522651\ttotal: 201ms\tremaining: 1.23s\n",
      "140:\tlearn: 0.2514530\ttotal: 202ms\tremaining: 1.23s\n",
      "141:\tlearn: 0.2508122\ttotal: 202ms\tremaining: 1.22s\n",
      "142:\tlearn: 0.2499452\ttotal: 203ms\tremaining: 1.22s\n",
      "143:\tlearn: 0.2492216\ttotal: 204ms\tremaining: 1.21s\n",
      "144:\tlearn: 0.2482917\ttotal: 205ms\tremaining: 1.21s\n",
      "145:\tlearn: 0.2474207\ttotal: 206ms\tremaining: 1.21s\n",
      "146:\tlearn: 0.2466456\ttotal: 207ms\tremaining: 1.2s\n",
      "147:\tlearn: 0.2457065\ttotal: 208ms\tremaining: 1.2s\n",
      "148:\tlearn: 0.2448535\ttotal: 210ms\tremaining: 1.2s\n",
      "149:\tlearn: 0.2440590\ttotal: 211ms\tremaining: 1.19s\n",
      "150:\tlearn: 0.2432362\ttotal: 212ms\tremaining: 1.19s\n",
      "151:\tlearn: 0.2425447\ttotal: 213ms\tremaining: 1.19s\n",
      "152:\tlearn: 0.2421246\ttotal: 214ms\tremaining: 1.18s\n",
      "153:\tlearn: 0.2412909\ttotal: 215ms\tremaining: 1.18s\n",
      "154:\tlearn: 0.2408033\ttotal: 216ms\tremaining: 1.18s\n",
      "155:\tlearn: 0.2399275\ttotal: 217ms\tremaining: 1.17s\n",
      "156:\tlearn: 0.2389794\ttotal: 218ms\tremaining: 1.17s\n",
      "157:\tlearn: 0.2382382\ttotal: 219ms\tremaining: 1.17s\n",
      "158:\tlearn: 0.2375964\ttotal: 220ms\tremaining: 1.16s\n",
      "159:\tlearn: 0.2369345\ttotal: 221ms\tremaining: 1.16s\n",
      "160:\tlearn: 0.2360779\ttotal: 222ms\tremaining: 1.16s\n",
      "161:\tlearn: 0.2355780\ttotal: 223ms\tremaining: 1.16s\n",
      "162:\tlearn: 0.2349761\ttotal: 224ms\tremaining: 1.15s\n",
      "163:\tlearn: 0.2343787\ttotal: 225ms\tremaining: 1.15s\n",
      "164:\tlearn: 0.2336406\ttotal: 226ms\tremaining: 1.14s\n",
      "165:\tlearn: 0.2330152\ttotal: 227ms\tremaining: 1.14s\n",
      "166:\tlearn: 0.2320851\ttotal: 228ms\tremaining: 1.14s\n",
      "167:\tlearn: 0.2311385\ttotal: 229ms\tremaining: 1.14s\n",
      "168:\tlearn: 0.2304481\ttotal: 230ms\tremaining: 1.13s\n",
      "169:\tlearn: 0.2298498\ttotal: 231ms\tremaining: 1.13s\n",
      "170:\tlearn: 0.2293553\ttotal: 232ms\tremaining: 1.13s\n",
      "171:\tlearn: 0.2286982\ttotal: 233ms\tremaining: 1.12s\n",
      "172:\tlearn: 0.2281731\ttotal: 234ms\tremaining: 1.12s\n",
      "173:\tlearn: 0.2274491\ttotal: 235ms\tremaining: 1.12s\n",
      "174:\tlearn: 0.2267913\ttotal: 236ms\tremaining: 1.11s\n",
      "175:\tlearn: 0.2262099\ttotal: 237ms\tremaining: 1.11s\n",
      "176:\tlearn: 0.2253520\ttotal: 238ms\tremaining: 1.11s\n",
      "177:\tlearn: 0.2244492\ttotal: 239ms\tremaining: 1.1s\n",
      "178:\tlearn: 0.2241100\ttotal: 240ms\tremaining: 1.1s\n",
      "179:\tlearn: 0.2235698\ttotal: 241ms\tremaining: 1.1s\n",
      "180:\tlearn: 0.2228646\ttotal: 242ms\tremaining: 1.1s\n",
      "181:\tlearn: 0.2223670\ttotal: 243ms\tremaining: 1.09s\n",
      "182:\tlearn: 0.2219463\ttotal: 244ms\tremaining: 1.09s\n",
      "183:\tlearn: 0.2214932\ttotal: 245ms\tremaining: 1.09s\n",
      "184:\tlearn: 0.2209169\ttotal: 246ms\tremaining: 1.08s\n",
      "185:\tlearn: 0.2204516\ttotal: 247ms\tremaining: 1.08s\n",
      "186:\tlearn: 0.2195910\ttotal: 248ms\tremaining: 1.08s\n",
      "187:\tlearn: 0.2190254\ttotal: 249ms\tremaining: 1.08s\n",
      "188:\tlearn: 0.2183403\ttotal: 250ms\tremaining: 1.07s\n",
      "189:\tlearn: 0.2177456\ttotal: 251ms\tremaining: 1.07s\n",
      "190:\tlearn: 0.2171306\ttotal: 252ms\tremaining: 1.07s\n",
      "191:\tlearn: 0.2166597\ttotal: 253ms\tremaining: 1.06s\n",
      "192:\tlearn: 0.2159024\ttotal: 254ms\tremaining: 1.06s\n",
      "193:\tlearn: 0.2152362\ttotal: 255ms\tremaining: 1.06s\n",
      "194:\tlearn: 0.2145858\ttotal: 256ms\tremaining: 1.06s\n",
      "195:\tlearn: 0.2139718\ttotal: 257ms\tremaining: 1.05s\n",
      "196:\tlearn: 0.2133211\ttotal: 258ms\tremaining: 1.05s\n",
      "197:\tlearn: 0.2129775\ttotal: 259ms\tremaining: 1.05s\n",
      "198:\tlearn: 0.2124576\ttotal: 261ms\tremaining: 1.05s\n",
      "199:\tlearn: 0.2118262\ttotal: 262ms\tremaining: 1.05s\n",
      "200:\tlearn: 0.2114913\ttotal: 263ms\tremaining: 1.04s\n",
      "201:\tlearn: 0.2111180\ttotal: 264ms\tremaining: 1.04s\n",
      "202:\tlearn: 0.2103861\ttotal: 265ms\tremaining: 1.04s\n",
      "203:\tlearn: 0.2098473\ttotal: 266ms\tremaining: 1.04s\n",
      "204:\tlearn: 0.2093105\ttotal: 267ms\tremaining: 1.03s\n",
      "205:\tlearn: 0.2087284\ttotal: 268ms\tremaining: 1.03s\n",
      "206:\tlearn: 0.2078753\ttotal: 269ms\tremaining: 1.03s\n",
      "207:\tlearn: 0.2072969\ttotal: 270ms\tremaining: 1.03s\n",
      "208:\tlearn: 0.2068259\ttotal: 271ms\tremaining: 1.03s\n",
      "209:\tlearn: 0.2062833\ttotal: 273ms\tremaining: 1.02s\n",
      "210:\tlearn: 0.2059370\ttotal: 274ms\tremaining: 1.02s\n",
      "211:\tlearn: 0.2055628\ttotal: 275ms\tremaining: 1.02s\n",
      "212:\tlearn: 0.2049931\ttotal: 276ms\tremaining: 1.02s\n",
      "213:\tlearn: 0.2047516\ttotal: 277ms\tremaining: 1.02s\n",
      "214:\tlearn: 0.2043478\ttotal: 278ms\tremaining: 1.01s\n",
      "215:\tlearn: 0.2039065\ttotal: 279ms\tremaining: 1.01s\n",
      "216:\tlearn: 0.2034519\ttotal: 280ms\tremaining: 1.01s\n",
      "217:\tlearn: 0.2028492\ttotal: 281ms\tremaining: 1.01s\n",
      "218:\tlearn: 0.2022367\ttotal: 282ms\tremaining: 1.01s\n",
      "219:\tlearn: 0.2017203\ttotal: 283ms\tremaining: 1s\n",
      "220:\tlearn: 0.2010434\ttotal: 284ms\tremaining: 1s\n",
      "221:\tlearn: 0.2003780\ttotal: 285ms\tremaining: 1000ms\n",
      "222:\tlearn: 0.2000643\ttotal: 286ms\tremaining: 998ms\n",
      "223:\tlearn: 0.1994717\ttotal: 287ms\tremaining: 996ms\n",
      "224:\tlearn: 0.1988537\ttotal: 289ms\tremaining: 994ms\n",
      "225:\tlearn: 0.1985851\ttotal: 290ms\tremaining: 992ms\n",
      "226:\tlearn: 0.1977798\ttotal: 291ms\tremaining: 991ms\n",
      "227:\tlearn: 0.1975436\ttotal: 292ms\tremaining: 988ms\n",
      "228:\tlearn: 0.1970657\ttotal: 293ms\tremaining: 987ms\n",
      "229:\tlearn: 0.1964555\ttotal: 294ms\tremaining: 985ms\n",
      "230:\tlearn: 0.1962551\ttotal: 295ms\tremaining: 983ms\n",
      "231:\tlearn: 0.1958888\ttotal: 296ms\tremaining: 981ms\n",
      "232:\tlearn: 0.1950473\ttotal: 298ms\tremaining: 980ms\n",
      "233:\tlearn: 0.1947411\ttotal: 299ms\tremaining: 978ms\n",
      "234:\tlearn: 0.1940523\ttotal: 300ms\tremaining: 976ms\n",
      "235:\tlearn: 0.1934275\ttotal: 301ms\tremaining: 974ms\n",
      "236:\tlearn: 0.1931722\ttotal: 302ms\tremaining: 972ms\n",
      "237:\tlearn: 0.1927139\ttotal: 303ms\tremaining: 970ms\n",
      "238:\tlearn: 0.1921622\ttotal: 304ms\tremaining: 968ms\n",
      "239:\tlearn: 0.1917236\ttotal: 305ms\tremaining: 966ms\n",
      "240:\tlearn: 0.1912223\ttotal: 306ms\tremaining: 964ms\n",
      "241:\tlearn: 0.1904970\ttotal: 307ms\tremaining: 962ms\n",
      "242:\tlearn: 0.1899366\ttotal: 308ms\tremaining: 960ms\n",
      "243:\tlearn: 0.1893629\ttotal: 309ms\tremaining: 958ms\n",
      "244:\tlearn: 0.1887760\ttotal: 310ms\tremaining: 957ms\n",
      "245:\tlearn: 0.1885578\ttotal: 312ms\tremaining: 955ms\n",
      "246:\tlearn: 0.1881274\ttotal: 313ms\tremaining: 953ms\n",
      "247:\tlearn: 0.1879589\ttotal: 314ms\tremaining: 951ms\n"
     ]
    },
    {
     "name": "stdout",
     "output_type": "stream",
     "text": [
      "248:\tlearn: 0.1874814\ttotal: 315ms\tremaining: 951ms\n",
      "249:\tlearn: 0.1869917\ttotal: 317ms\tremaining: 950ms\n",
      "250:\tlearn: 0.1862906\ttotal: 318ms\tremaining: 948ms\n",
      "251:\tlearn: 0.1859089\ttotal: 319ms\tremaining: 946ms\n",
      "252:\tlearn: 0.1856942\ttotal: 320ms\tremaining: 944ms\n",
      "253:\tlearn: 0.1852861\ttotal: 321ms\tremaining: 942ms\n",
      "254:\tlearn: 0.1849745\ttotal: 322ms\tremaining: 940ms\n",
      "255:\tlearn: 0.1846284\ttotal: 323ms\tremaining: 938ms\n",
      "256:\tlearn: 0.1841112\ttotal: 324ms\tremaining: 936ms\n",
      "257:\tlearn: 0.1838246\ttotal: 325ms\tremaining: 934ms\n",
      "258:\tlearn: 0.1836541\ttotal: 326ms\tremaining: 933ms\n",
      "259:\tlearn: 0.1832388\ttotal: 327ms\tremaining: 931ms\n",
      "260:\tlearn: 0.1828059\ttotal: 328ms\tremaining: 929ms\n",
      "261:\tlearn: 0.1821519\ttotal: 329ms\tremaining: 927ms\n",
      "262:\tlearn: 0.1819291\ttotal: 330ms\tremaining: 925ms\n",
      "263:\tlearn: 0.1814156\ttotal: 331ms\tremaining: 923ms\n",
      "264:\tlearn: 0.1812425\ttotal: 332ms\tremaining: 921ms\n",
      "265:\tlearn: 0.1809540\ttotal: 333ms\tremaining: 919ms\n",
      "266:\tlearn: 0.1803704\ttotal: 334ms\tremaining: 918ms\n",
      "267:\tlearn: 0.1801710\ttotal: 335ms\tremaining: 916ms\n",
      "268:\tlearn: 0.1796192\ttotal: 336ms\tremaining: 914ms\n",
      "269:\tlearn: 0.1790707\ttotal: 337ms\tremaining: 912ms\n",
      "270:\tlearn: 0.1785431\ttotal: 338ms\tremaining: 911ms\n",
      "271:\tlearn: 0.1783863\ttotal: 340ms\tremaining: 909ms\n",
      "272:\tlearn: 0.1782303\ttotal: 341ms\tremaining: 907ms\n",
      "273:\tlearn: 0.1778741\ttotal: 342ms\tremaining: 905ms\n",
      "274:\tlearn: 0.1777215\ttotal: 343ms\tremaining: 903ms\n",
      "275:\tlearn: 0.1773808\ttotal: 344ms\tremaining: 902ms\n",
      "276:\tlearn: 0.1770626\ttotal: 345ms\tremaining: 900ms\n",
      "277:\tlearn: 0.1763504\ttotal: 346ms\tremaining: 898ms\n",
      "278:\tlearn: 0.1759655\ttotal: 347ms\tremaining: 896ms\n",
      "279:\tlearn: 0.1756335\ttotal: 348ms\tremaining: 895ms\n",
      "280:\tlearn: 0.1755107\ttotal: 349ms\tremaining: 893ms\n",
      "281:\tlearn: 0.1754097\ttotal: 350ms\tremaining: 891ms\n",
      "282:\tlearn: 0.1751673\ttotal: 351ms\tremaining: 889ms\n",
      "283:\tlearn: 0.1747564\ttotal: 352ms\tremaining: 888ms\n",
      "284:\tlearn: 0.1743641\ttotal: 353ms\tremaining: 886ms\n",
      "285:\tlearn: 0.1741625\ttotal: 354ms\tremaining: 884ms\n",
      "286:\tlearn: 0.1736911\ttotal: 355ms\tremaining: 883ms\n",
      "287:\tlearn: 0.1735210\ttotal: 356ms\tremaining: 881ms\n",
      "288:\tlearn: 0.1733461\ttotal: 357ms\tremaining: 879ms\n",
      "289:\tlearn: 0.1728320\ttotal: 358ms\tremaining: 877ms\n",
      "290:\tlearn: 0.1724254\ttotal: 359ms\tremaining: 876ms\n",
      "291:\tlearn: 0.1722791\ttotal: 360ms\tremaining: 874ms\n",
      "292:\tlearn: 0.1719586\ttotal: 361ms\tremaining: 872ms\n",
      "293:\tlearn: 0.1717764\ttotal: 362ms\tremaining: 870ms\n",
      "294:\tlearn: 0.1716550\ttotal: 363ms\tremaining: 869ms\n",
      "295:\tlearn: 0.1715429\ttotal: 364ms\tremaining: 867ms\n",
      "296:\tlearn: 0.1709840\ttotal: 365ms\tremaining: 865ms\n",
      "297:\tlearn: 0.1701950\ttotal: 366ms\tremaining: 863ms\n",
      "298:\tlearn: 0.1696935\ttotal: 367ms\tremaining: 861ms\n",
      "299:\tlearn: 0.1691465\ttotal: 368ms\tremaining: 859ms\n",
      "300:\tlearn: 0.1686108\ttotal: 369ms\tremaining: 858ms\n",
      "301:\tlearn: 0.1683076\ttotal: 370ms\tremaining: 856ms\n",
      "302:\tlearn: 0.1680281\ttotal: 372ms\tremaining: 855ms\n",
      "303:\tlearn: 0.1678467\ttotal: 373ms\tremaining: 854ms\n",
      "304:\tlearn: 0.1676599\ttotal: 374ms\tremaining: 853ms\n",
      "305:\tlearn: 0.1674038\ttotal: 375ms\tremaining: 852ms\n",
      "306:\tlearn: 0.1670547\ttotal: 377ms\tremaining: 850ms\n",
      "307:\tlearn: 0.1668735\ttotal: 378ms\tremaining: 848ms\n",
      "308:\tlearn: 0.1667519\ttotal: 379ms\tremaining: 847ms\n",
      "309:\tlearn: 0.1663152\ttotal: 380ms\tremaining: 845ms\n",
      "310:\tlearn: 0.1659221\ttotal: 381ms\tremaining: 844ms\n",
      "311:\tlearn: 0.1658206\ttotal: 382ms\tremaining: 842ms\n",
      "312:\tlearn: 0.1653292\ttotal: 383ms\tremaining: 841ms\n",
      "313:\tlearn: 0.1649860\ttotal: 384ms\tremaining: 839ms\n",
      "314:\tlearn: 0.1645291\ttotal: 385ms\tremaining: 838ms\n",
      "315:\tlearn: 0.1644117\ttotal: 386ms\tremaining: 836ms\n",
      "316:\tlearn: 0.1643238\ttotal: 387ms\tremaining: 834ms\n",
      "317:\tlearn: 0.1641985\ttotal: 388ms\tremaining: 833ms\n",
      "318:\tlearn: 0.1637599\ttotal: 389ms\tremaining: 831ms\n",
      "319:\tlearn: 0.1634871\ttotal: 390ms\tremaining: 829ms\n",
      "320:\tlearn: 0.1628820\ttotal: 391ms\tremaining: 828ms\n",
      "321:\tlearn: 0.1626571\ttotal: 392ms\tremaining: 826ms\n",
      "322:\tlearn: 0.1624304\ttotal: 393ms\tremaining: 825ms\n",
      "323:\tlearn: 0.1620692\ttotal: 394ms\tremaining: 823ms\n",
      "324:\tlearn: 0.1617808\ttotal: 395ms\tremaining: 821ms\n",
      "325:\tlearn: 0.1614304\ttotal: 396ms\tremaining: 820ms\n",
      "326:\tlearn: 0.1612023\ttotal: 397ms\tremaining: 818ms\n",
      "327:\tlearn: 0.1609139\ttotal: 398ms\tremaining: 816ms\n",
      "328:\tlearn: 0.1606785\ttotal: 399ms\tremaining: 815ms\n",
      "329:\tlearn: 0.1605052\ttotal: 400ms\tremaining: 813ms\n",
      "330:\tlearn: 0.1599955\ttotal: 401ms\tremaining: 811ms\n",
      "331:\tlearn: 0.1594462\ttotal: 403ms\tremaining: 810ms\n",
      "332:\tlearn: 0.1591896\ttotal: 404ms\tremaining: 809ms\n",
      "333:\tlearn: 0.1589822\ttotal: 405ms\tremaining: 807ms\n",
      "334:\tlearn: 0.1587524\ttotal: 406ms\tremaining: 806ms\n",
      "335:\tlearn: 0.1583103\ttotal: 407ms\tremaining: 804ms\n",
      "336:\tlearn: 0.1581153\ttotal: 408ms\tremaining: 802ms\n",
      "337:\tlearn: 0.1578306\ttotal: 409ms\tremaining: 801ms\n",
      "338:\tlearn: 0.1574266\ttotal: 410ms\tremaining: 800ms\n",
      "339:\tlearn: 0.1569011\ttotal: 411ms\tremaining: 798ms\n",
      "340:\tlearn: 0.1566318\ttotal: 412ms\tremaining: 796ms\n",
      "341:\tlearn: 0.1565333\ttotal: 413ms\tremaining: 795ms\n",
      "342:\tlearn: 0.1564772\ttotal: 414ms\tremaining: 793ms\n",
      "343:\tlearn: 0.1562681\ttotal: 415ms\tremaining: 792ms\n",
      "344:\tlearn: 0.1556941\ttotal: 416ms\tremaining: 790ms\n",
      "345:\tlearn: 0.1552976\ttotal: 417ms\tremaining: 789ms\n",
      "346:\tlearn: 0.1548604\ttotal: 418ms\tremaining: 787ms\n",
      "347:\tlearn: 0.1547549\ttotal: 419ms\tremaining: 786ms\n",
      "348:\tlearn: 0.1544948\ttotal: 420ms\tremaining: 784ms\n",
      "349:\tlearn: 0.1542533\ttotal: 421ms\tremaining: 783ms\n",
      "350:\tlearn: 0.1539698\ttotal: 422ms\tremaining: 781ms\n",
      "351:\tlearn: 0.1538214\ttotal: 423ms\tremaining: 779ms\n",
      "352:\tlearn: 0.1535770\ttotal: 425ms\tremaining: 778ms\n",
      "353:\tlearn: 0.1532713\ttotal: 425ms\tremaining: 776ms\n",
      "354:\tlearn: 0.1528948\ttotal: 426ms\tremaining: 775ms\n",
      "355:\tlearn: 0.1524021\ttotal: 427ms\tremaining: 773ms\n",
      "356:\tlearn: 0.1523356\ttotal: 428ms\tremaining: 772ms\n",
      "357:\tlearn: 0.1520813\ttotal: 430ms\tremaining: 770ms\n",
      "358:\tlearn: 0.1518211\ttotal: 431ms\tremaining: 769ms\n",
      "359:\tlearn: 0.1513994\ttotal: 432ms\tremaining: 767ms\n",
      "360:\tlearn: 0.1511476\ttotal: 433ms\tremaining: 766ms\n",
      "361:\tlearn: 0.1507004\ttotal: 434ms\tremaining: 764ms\n",
      "362:\tlearn: 0.1502585\ttotal: 435ms\tremaining: 763ms\n",
      "363:\tlearn: 0.1498004\ttotal: 436ms\tremaining: 761ms\n",
      "364:\tlearn: 0.1494270\ttotal: 437ms\tremaining: 760ms\n",
      "365:\tlearn: 0.1490200\ttotal: 438ms\tremaining: 759ms\n",
      "366:\tlearn: 0.1484837\ttotal: 439ms\tremaining: 757ms\n",
      "367:\tlearn: 0.1482970\ttotal: 440ms\tremaining: 756ms\n",
      "368:\tlearn: 0.1482042\ttotal: 441ms\tremaining: 755ms\n",
      "369:\tlearn: 0.1480856\ttotal: 442ms\tremaining: 753ms\n",
      "370:\tlearn: 0.1478251\ttotal: 444ms\tremaining: 752ms\n",
      "371:\tlearn: 0.1474102\ttotal: 445ms\tremaining: 751ms\n",
      "372:\tlearn: 0.1473451\ttotal: 446ms\tremaining: 749ms\n",
      "373:\tlearn: 0.1468297\ttotal: 447ms\tremaining: 748ms\n",
      "374:\tlearn: 0.1466009\ttotal: 448ms\tremaining: 746ms\n"
     ]
    },
    {
     "name": "stdout",
     "output_type": "stream",
     "text": [
      "375:\tlearn: 0.1465054\ttotal: 449ms\tremaining: 745ms\n",
      "376:\tlearn: 0.1463273\ttotal: 450ms\tremaining: 744ms\n",
      "377:\tlearn: 0.1462466\ttotal: 451ms\tremaining: 743ms\n",
      "378:\tlearn: 0.1459054\ttotal: 452ms\tremaining: 741ms\n",
      "379:\tlearn: 0.1456517\ttotal: 453ms\tremaining: 740ms\n",
      "380:\tlearn: 0.1454419\ttotal: 454ms\tremaining: 738ms\n",
      "381:\tlearn: 0.1451583\ttotal: 455ms\tremaining: 736ms\n",
      "382:\tlearn: 0.1450727\ttotal: 456ms\tremaining: 735ms\n",
      "383:\tlearn: 0.1450322\ttotal: 457ms\tremaining: 733ms\n",
      "384:\tlearn: 0.1447255\ttotal: 458ms\tremaining: 732ms\n",
      "385:\tlearn: 0.1443908\ttotal: 459ms\tremaining: 730ms\n",
      "386:\tlearn: 0.1443049\ttotal: 460ms\tremaining: 729ms\n",
      "387:\tlearn: 0.1442436\ttotal: 461ms\tremaining: 727ms\n",
      "388:\tlearn: 0.1438653\ttotal: 462ms\tremaining: 726ms\n",
      "389:\tlearn: 0.1434423\ttotal: 463ms\tremaining: 724ms\n",
      "390:\tlearn: 0.1430916\ttotal: 464ms\tremaining: 723ms\n",
      "391:\tlearn: 0.1425957\ttotal: 465ms\tremaining: 721ms\n",
      "392:\tlearn: 0.1422726\ttotal: 466ms\tremaining: 720ms\n",
      "393:\tlearn: 0.1419327\ttotal: 467ms\tremaining: 719ms\n",
      "394:\tlearn: 0.1416525\ttotal: 469ms\tremaining: 718ms\n",
      "395:\tlearn: 0.1412311\ttotal: 470ms\tremaining: 716ms\n",
      "396:\tlearn: 0.1408718\ttotal: 471ms\tremaining: 715ms\n",
      "397:\tlearn: 0.1405365\ttotal: 472ms\tremaining: 713ms\n",
      "398:\tlearn: 0.1401866\ttotal: 473ms\tremaining: 712ms\n",
      "399:\tlearn: 0.1397909\ttotal: 474ms\tremaining: 710ms\n",
      "400:\tlearn: 0.1396821\ttotal: 475ms\tremaining: 709ms\n",
      "401:\tlearn: 0.1395314\ttotal: 476ms\tremaining: 708ms\n",
      "402:\tlearn: 0.1393091\ttotal: 477ms\tremaining: 706ms\n",
      "403:\tlearn: 0.1390745\ttotal: 478ms\tremaining: 705ms\n",
      "404:\tlearn: 0.1386532\ttotal: 479ms\tremaining: 704ms\n",
      "405:\tlearn: 0.1382590\ttotal: 480ms\tremaining: 703ms\n",
      "406:\tlearn: 0.1379451\ttotal: 481ms\tremaining: 701ms\n",
      "407:\tlearn: 0.1375813\ttotal: 482ms\tremaining: 700ms\n",
      "408:\tlearn: 0.1374417\ttotal: 483ms\tremaining: 698ms\n",
      "409:\tlearn: 0.1371867\ttotal: 484ms\tremaining: 697ms\n",
      "410:\tlearn: 0.1369996\ttotal: 485ms\tremaining: 695ms\n",
      "411:\tlearn: 0.1367748\ttotal: 486ms\tremaining: 694ms\n",
      "412:\tlearn: 0.1365584\ttotal: 487ms\tremaining: 693ms\n",
      "413:\tlearn: 0.1362819\ttotal: 488ms\tremaining: 691ms\n",
      "414:\tlearn: 0.1361981\ttotal: 489ms\tremaining: 690ms\n",
      "415:\tlearn: 0.1358479\ttotal: 490ms\tremaining: 688ms\n",
      "416:\tlearn: 0.1355360\ttotal: 491ms\tremaining: 687ms\n",
      "417:\tlearn: 0.1351161\ttotal: 493ms\tremaining: 686ms\n",
      "418:\tlearn: 0.1349219\ttotal: 494ms\tremaining: 684ms\n",
      "419:\tlearn: 0.1346066\ttotal: 495ms\tremaining: 683ms\n",
      "420:\tlearn: 0.1344686\ttotal: 496ms\tremaining: 682ms\n",
      "421:\tlearn: 0.1341052\ttotal: 497ms\tremaining: 680ms\n",
      "422:\tlearn: 0.1336794\ttotal: 497ms\tremaining: 679ms\n",
      "423:\tlearn: 0.1331831\ttotal: 498ms\tremaining: 677ms\n",
      "424:\tlearn: 0.1329892\ttotal: 500ms\tremaining: 676ms\n",
      "425:\tlearn: 0.1327737\ttotal: 500ms\tremaining: 674ms\n",
      "426:\tlearn: 0.1324412\ttotal: 502ms\tremaining: 673ms\n",
      "427:\tlearn: 0.1319900\ttotal: 503ms\tremaining: 672ms\n",
      "428:\tlearn: 0.1318052\ttotal: 504ms\tremaining: 670ms\n",
      "429:\tlearn: 0.1314226\ttotal: 505ms\tremaining: 669ms\n",
      "430:\tlearn: 0.1311095\ttotal: 506ms\tremaining: 667ms\n",
      "431:\tlearn: 0.1307773\ttotal: 507ms\tremaining: 666ms\n",
      "432:\tlearn: 0.1304791\ttotal: 508ms\tremaining: 665ms\n",
      "433:\tlearn: 0.1304157\ttotal: 509ms\tremaining: 663ms\n",
      "434:\tlearn: 0.1301025\ttotal: 510ms\tremaining: 662ms\n",
      "435:\tlearn: 0.1298032\ttotal: 511ms\tremaining: 661ms\n",
      "436:\tlearn: 0.1297055\ttotal: 512ms\tremaining: 659ms\n",
      "437:\tlearn: 0.1295487\ttotal: 513ms\tremaining: 658ms\n",
      "438:\tlearn: 0.1294428\ttotal: 514ms\tremaining: 656ms\n",
      "439:\tlearn: 0.1291558\ttotal: 515ms\tremaining: 655ms\n",
      "440:\tlearn: 0.1290432\ttotal: 516ms\tremaining: 654ms\n",
      "441:\tlearn: 0.1289500\ttotal: 517ms\tremaining: 652ms\n",
      "442:\tlearn: 0.1285634\ttotal: 518ms\tremaining: 651ms\n",
      "443:\tlearn: 0.1283344\ttotal: 519ms\tremaining: 649ms\n",
      "444:\tlearn: 0.1280258\ttotal: 520ms\tremaining: 648ms\n",
      "445:\tlearn: 0.1280036\ttotal: 521ms\tremaining: 647ms\n",
      "446:\tlearn: 0.1275579\ttotal: 522ms\tremaining: 645ms\n",
      "447:\tlearn: 0.1271588\ttotal: 523ms\tremaining: 644ms\n",
      "448:\tlearn: 0.1271216\ttotal: 524ms\tremaining: 643ms\n",
      "449:\tlearn: 0.1267880\ttotal: 525ms\tremaining: 641ms\n",
      "450:\tlearn: 0.1264550\ttotal: 526ms\tremaining: 640ms\n",
      "451:\tlearn: 0.1262698\ttotal: 527ms\tremaining: 638ms\n",
      "452:\tlearn: 0.1259523\ttotal: 528ms\tremaining: 637ms\n",
      "453:\tlearn: 0.1257106\ttotal: 529ms\tremaining: 636ms\n",
      "454:\tlearn: 0.1254161\ttotal: 530ms\tremaining: 634ms\n",
      "455:\tlearn: 0.1253167\ttotal: 531ms\tremaining: 633ms\n",
      "456:\tlearn: 0.1250779\ttotal: 532ms\tremaining: 632ms\n",
      "457:\tlearn: 0.1249447\ttotal: 533ms\tremaining: 631ms\n",
      "458:\tlearn: 0.1247111\ttotal: 534ms\tremaining: 629ms\n",
      "459:\tlearn: 0.1246569\ttotal: 535ms\tremaining: 628ms\n",
      "460:\tlearn: 0.1243355\ttotal: 536ms\tremaining: 626ms\n",
      "461:\tlearn: 0.1241411\ttotal: 537ms\tremaining: 625ms\n",
      "462:\tlearn: 0.1238648\ttotal: 538ms\tremaining: 624ms\n",
      "463:\tlearn: 0.1236052\ttotal: 539ms\tremaining: 623ms\n",
      "464:\tlearn: 0.1233327\ttotal: 540ms\tremaining: 621ms\n",
      "465:\tlearn: 0.1232862\ttotal: 541ms\tremaining: 620ms\n",
      "466:\tlearn: 0.1230575\ttotal: 542ms\tremaining: 619ms\n",
      "467:\tlearn: 0.1228128\ttotal: 543ms\tremaining: 617ms\n",
      "468:\tlearn: 0.1225687\ttotal: 544ms\tremaining: 616ms\n",
      "469:\tlearn: 0.1222392\ttotal: 545ms\tremaining: 614ms\n",
      "470:\tlearn: 0.1222181\ttotal: 546ms\tremaining: 613ms\n",
      "471:\tlearn: 0.1219941\ttotal: 547ms\tremaining: 612ms\n",
      "472:\tlearn: 0.1218653\ttotal: 548ms\tremaining: 611ms\n",
      "473:\tlearn: 0.1216239\ttotal: 549ms\tremaining: 609ms\n",
      "474:\tlearn: 0.1213890\ttotal: 550ms\tremaining: 608ms\n",
      "475:\tlearn: 0.1210425\ttotal: 551ms\tremaining: 606ms\n",
      "476:\tlearn: 0.1209186\ttotal: 552ms\tremaining: 605ms\n",
      "477:\tlearn: 0.1205860\ttotal: 553ms\tremaining: 604ms\n",
      "478:\tlearn: 0.1203252\ttotal: 554ms\tremaining: 602ms\n",
      "479:\tlearn: 0.1201829\ttotal: 555ms\tremaining: 601ms\n",
      "480:\tlearn: 0.1199231\ttotal: 556ms\tremaining: 600ms\n",
      "481:\tlearn: 0.1197984\ttotal: 557ms\tremaining: 599ms\n",
      "482:\tlearn: 0.1195699\ttotal: 558ms\tremaining: 597ms\n",
      "483:\tlearn: 0.1192987\ttotal: 560ms\tremaining: 596ms\n",
      "484:\tlearn: 0.1189806\ttotal: 561ms\tremaining: 595ms\n",
      "485:\tlearn: 0.1186101\ttotal: 562ms\tremaining: 594ms\n",
      "486:\tlearn: 0.1183064\ttotal: 563ms\tremaining: 593ms\n",
      "487:\tlearn: 0.1181736\ttotal: 564ms\tremaining: 591ms\n",
      "488:\tlearn: 0.1178816\ttotal: 565ms\tremaining: 590ms\n",
      "489:\tlearn: 0.1178315\ttotal: 566ms\tremaining: 589ms\n",
      "490:\tlearn: 0.1175514\ttotal: 567ms\tremaining: 588ms\n",
      "491:\tlearn: 0.1174395\ttotal: 568ms\tremaining: 586ms\n",
      "492:\tlearn: 0.1171867\ttotal: 569ms\tremaining: 585ms\n",
      "493:\tlearn: 0.1169167\ttotal: 570ms\tremaining: 584ms\n",
      "494:\tlearn: 0.1165063\ttotal: 571ms\tremaining: 582ms\n",
      "495:\tlearn: 0.1162901\ttotal: 572ms\tremaining: 581ms\n",
      "496:\tlearn: 0.1160354\ttotal: 573ms\tremaining: 580ms\n",
      "497:\tlearn: 0.1156864\ttotal: 574ms\tremaining: 578ms\n",
      "498:\tlearn: 0.1152283\ttotal: 575ms\tremaining: 577ms\n",
      "499:\tlearn: 0.1149485\ttotal: 576ms\tremaining: 576ms\n",
      "500:\tlearn: 0.1147980\ttotal: 577ms\tremaining: 575ms\n",
      "501:\tlearn: 0.1145831\ttotal: 578ms\tremaining: 573ms\n"
     ]
    },
    {
     "name": "stdout",
     "output_type": "stream",
     "text": [
      "502:\tlearn: 0.1143215\ttotal: 579ms\tremaining: 572ms\n",
      "503:\tlearn: 0.1141025\ttotal: 580ms\tremaining: 571ms\n",
      "504:\tlearn: 0.1139219\ttotal: 581ms\tremaining: 570ms\n",
      "505:\tlearn: 0.1136659\ttotal: 582ms\tremaining: 569ms\n",
      "506:\tlearn: 0.1135280\ttotal: 583ms\tremaining: 567ms\n",
      "507:\tlearn: 0.1133097\ttotal: 584ms\tremaining: 566ms\n",
      "508:\tlearn: 0.1130881\ttotal: 585ms\tremaining: 565ms\n",
      "509:\tlearn: 0.1129779\ttotal: 586ms\tremaining: 563ms\n",
      "510:\tlearn: 0.1128567\ttotal: 587ms\tremaining: 562ms\n",
      "511:\tlearn: 0.1125718\ttotal: 588ms\tremaining: 561ms\n",
      "512:\tlearn: 0.1122419\ttotal: 589ms\tremaining: 560ms\n",
      "513:\tlearn: 0.1121031\ttotal: 590ms\tremaining: 558ms\n",
      "514:\tlearn: 0.1119389\ttotal: 592ms\tremaining: 557ms\n",
      "515:\tlearn: 0.1117008\ttotal: 593ms\tremaining: 556ms\n",
      "516:\tlearn: 0.1113949\ttotal: 594ms\tremaining: 555ms\n",
      "517:\tlearn: 0.1112156\ttotal: 595ms\tremaining: 553ms\n",
      "518:\tlearn: 0.1109150\ttotal: 596ms\tremaining: 552ms\n",
      "519:\tlearn: 0.1106986\ttotal: 597ms\tremaining: 551ms\n",
      "520:\tlearn: 0.1104042\ttotal: 598ms\tremaining: 550ms\n",
      "521:\tlearn: 0.1101703\ttotal: 599ms\tremaining: 548ms\n",
      "522:\tlearn: 0.1100245\ttotal: 600ms\tremaining: 547ms\n",
      "523:\tlearn: 0.1099189\ttotal: 601ms\tremaining: 546ms\n",
      "524:\tlearn: 0.1096713\ttotal: 602ms\tremaining: 545ms\n",
      "525:\tlearn: 0.1095550\ttotal: 603ms\tremaining: 544ms\n",
      "526:\tlearn: 0.1094280\ttotal: 604ms\tremaining: 542ms\n",
      "527:\tlearn: 0.1092027\ttotal: 605ms\tremaining: 541ms\n",
      "528:\tlearn: 0.1090440\ttotal: 606ms\tremaining: 540ms\n",
      "529:\tlearn: 0.1088120\ttotal: 607ms\tremaining: 538ms\n",
      "530:\tlearn: 0.1087026\ttotal: 608ms\tremaining: 537ms\n",
      "531:\tlearn: 0.1084802\ttotal: 609ms\tremaining: 536ms\n",
      "532:\tlearn: 0.1082697\ttotal: 610ms\tremaining: 535ms\n",
      "533:\tlearn: 0.1080915\ttotal: 611ms\tremaining: 533ms\n",
      "534:\tlearn: 0.1079225\ttotal: 612ms\tremaining: 532ms\n",
      "535:\tlearn: 0.1077304\ttotal: 613ms\tremaining: 531ms\n",
      "536:\tlearn: 0.1076651\ttotal: 614ms\tremaining: 530ms\n",
      "537:\tlearn: 0.1074330\ttotal: 615ms\tremaining: 528ms\n",
      "538:\tlearn: 0.1073014\ttotal: 616ms\tremaining: 527ms\n",
      "539:\tlearn: 0.1070533\ttotal: 617ms\tremaining: 526ms\n",
      "540:\tlearn: 0.1069197\ttotal: 618ms\tremaining: 525ms\n",
      "541:\tlearn: 0.1066578\ttotal: 619ms\tremaining: 523ms\n",
      "542:\tlearn: 0.1065900\ttotal: 620ms\tremaining: 522ms\n",
      "543:\tlearn: 0.1065125\ttotal: 621ms\tremaining: 521ms\n",
      "544:\tlearn: 0.1063528\ttotal: 623ms\tremaining: 520ms\n",
      "545:\tlearn: 0.1062539\ttotal: 624ms\tremaining: 519ms\n",
      "546:\tlearn: 0.1060109\ttotal: 625ms\tremaining: 517ms\n",
      "547:\tlearn: 0.1057733\ttotal: 626ms\tremaining: 516ms\n",
      "548:\tlearn: 0.1055210\ttotal: 627ms\tremaining: 515ms\n",
      "549:\tlearn: 0.1052147\ttotal: 628ms\tremaining: 514ms\n",
      "550:\tlearn: 0.1051479\ttotal: 629ms\tremaining: 512ms\n",
      "551:\tlearn: 0.1050416\ttotal: 630ms\tremaining: 511ms\n",
      "552:\tlearn: 0.1047860\ttotal: 631ms\tremaining: 510ms\n",
      "553:\tlearn: 0.1046395\ttotal: 632ms\tremaining: 509ms\n",
      "554:\tlearn: 0.1044656\ttotal: 633ms\tremaining: 508ms\n",
      "555:\tlearn: 0.1041753\ttotal: 634ms\tremaining: 506ms\n",
      "556:\tlearn: 0.1039451\ttotal: 635ms\tremaining: 505ms\n",
      "557:\tlearn: 0.1037990\ttotal: 636ms\tremaining: 504ms\n",
      "558:\tlearn: 0.1034761\ttotal: 638ms\tremaining: 503ms\n",
      "559:\tlearn: 0.1032955\ttotal: 639ms\tremaining: 502ms\n",
      "560:\tlearn: 0.1031483\ttotal: 640ms\tremaining: 501ms\n",
      "561:\tlearn: 0.1029120\ttotal: 641ms\tremaining: 499ms\n",
      "562:\tlearn: 0.1027961\ttotal: 642ms\tremaining: 498ms\n",
      "563:\tlearn: 0.1026077\ttotal: 643ms\tremaining: 497ms\n",
      "564:\tlearn: 0.1024004\ttotal: 644ms\tremaining: 496ms\n",
      "565:\tlearn: 0.1022454\ttotal: 645ms\tremaining: 494ms\n",
      "566:\tlearn: 0.1020247\ttotal: 646ms\tremaining: 493ms\n",
      "567:\tlearn: 0.1017964\ttotal: 647ms\tremaining: 492ms\n",
      "568:\tlearn: 0.1017567\ttotal: 648ms\tremaining: 491ms\n",
      "569:\tlearn: 0.1015808\ttotal: 649ms\tremaining: 489ms\n",
      "570:\tlearn: 0.1014192\ttotal: 650ms\tremaining: 488ms\n",
      "571:\tlearn: 0.1012852\ttotal: 651ms\tremaining: 487ms\n",
      "572:\tlearn: 0.1011297\ttotal: 652ms\tremaining: 486ms\n",
      "573:\tlearn: 0.1008189\ttotal: 653ms\tremaining: 485ms\n",
      "574:\tlearn: 0.1006146\ttotal: 654ms\tremaining: 483ms\n",
      "575:\tlearn: 0.1005206\ttotal: 655ms\tremaining: 482ms\n",
      "576:\tlearn: 0.1003777\ttotal: 656ms\tremaining: 481ms\n",
      "577:\tlearn: 0.1001886\ttotal: 657ms\tremaining: 479ms\n",
      "578:\tlearn: 0.1001466\ttotal: 658ms\tremaining: 478ms\n",
      "579:\tlearn: 0.1000345\ttotal: 658ms\tremaining: 477ms\n",
      "580:\tlearn: 0.0998062\ttotal: 659ms\tremaining: 476ms\n",
      "581:\tlearn: 0.0997176\ttotal: 661ms\tremaining: 474ms\n",
      "582:\tlearn: 0.0994316\ttotal: 662ms\tremaining: 473ms\n",
      "583:\tlearn: 0.0993212\ttotal: 662ms\tremaining: 472ms\n",
      "584:\tlearn: 0.0991705\ttotal: 663ms\tremaining: 471ms\n",
      "585:\tlearn: 0.0990191\ttotal: 665ms\tremaining: 469ms\n",
      "586:\tlearn: 0.0988046\ttotal: 665ms\tremaining: 468ms\n",
      "587:\tlearn: 0.0985835\ttotal: 666ms\tremaining: 467ms\n",
      "588:\tlearn: 0.0983780\ttotal: 667ms\tremaining: 466ms\n",
      "589:\tlearn: 0.0981540\ttotal: 668ms\tremaining: 464ms\n",
      "590:\tlearn: 0.0981372\ttotal: 669ms\tremaining: 463ms\n",
      "591:\tlearn: 0.0979500\ttotal: 670ms\tremaining: 462ms\n",
      "592:\tlearn: 0.0976830\ttotal: 671ms\tremaining: 461ms\n",
      "593:\tlearn: 0.0974048\ttotal: 672ms\tremaining: 460ms\n",
      "594:\tlearn: 0.0972394\ttotal: 673ms\tremaining: 458ms\n",
      "595:\tlearn: 0.0970684\ttotal: 674ms\tremaining: 457ms\n",
      "596:\tlearn: 0.0970046\ttotal: 675ms\tremaining: 456ms\n",
      "597:\tlearn: 0.0968284\ttotal: 677ms\tremaining: 455ms\n",
      "598:\tlearn: 0.0966812\ttotal: 678ms\tremaining: 454ms\n",
      "599:\tlearn: 0.0965093\ttotal: 679ms\tremaining: 452ms\n",
      "600:\tlearn: 0.0962748\ttotal: 680ms\tremaining: 451ms\n",
      "601:\tlearn: 0.0962527\ttotal: 681ms\tremaining: 450ms\n",
      "602:\tlearn: 0.0959801\ttotal: 682ms\tremaining: 449ms\n",
      "603:\tlearn: 0.0958667\ttotal: 683ms\tremaining: 448ms\n",
      "604:\tlearn: 0.0956746\ttotal: 684ms\tremaining: 446ms\n",
      "605:\tlearn: 0.0955459\ttotal: 685ms\tremaining: 445ms\n",
      "606:\tlearn: 0.0952568\ttotal: 686ms\tremaining: 444ms\n",
      "607:\tlearn: 0.0950806\ttotal: 687ms\tremaining: 443ms\n",
      "608:\tlearn: 0.0949547\ttotal: 688ms\tremaining: 442ms\n",
      "609:\tlearn: 0.0947945\ttotal: 689ms\tremaining: 441ms\n",
      "610:\tlearn: 0.0946552\ttotal: 690ms\tremaining: 439ms\n",
      "611:\tlearn: 0.0946258\ttotal: 691ms\tremaining: 438ms\n",
      "612:\tlearn: 0.0944046\ttotal: 692ms\tremaining: 437ms\n",
      "613:\tlearn: 0.0943092\ttotal: 693ms\tremaining: 436ms\n",
      "614:\tlearn: 0.0941181\ttotal: 694ms\tremaining: 434ms\n",
      "615:\tlearn: 0.0939590\ttotal: 695ms\tremaining: 433ms\n",
      "616:\tlearn: 0.0938677\ttotal: 696ms\tremaining: 432ms\n",
      "617:\tlearn: 0.0937857\ttotal: 697ms\tremaining: 431ms\n",
      "618:\tlearn: 0.0935937\ttotal: 698ms\tremaining: 429ms\n",
      "619:\tlearn: 0.0935779\ttotal: 699ms\tremaining: 428ms\n",
      "620:\tlearn: 0.0933251\ttotal: 700ms\tremaining: 427ms\n",
      "621:\tlearn: 0.0931398\ttotal: 701ms\tremaining: 426ms\n",
      "622:\tlearn: 0.0930118\ttotal: 702ms\tremaining: 425ms\n",
      "623:\tlearn: 0.0928483\ttotal: 703ms\tremaining: 424ms\n",
      "624:\tlearn: 0.0926169\ttotal: 704ms\tremaining: 422ms\n",
      "625:\tlearn: 0.0924927\ttotal: 705ms\tremaining: 421ms\n",
      "626:\tlearn: 0.0924782\ttotal: 706ms\tremaining: 420ms\n",
      "627:\tlearn: 0.0924200\ttotal: 707ms\tremaining: 419ms\n",
      "628:\tlearn: 0.0923123\ttotal: 708ms\tremaining: 418ms\n"
     ]
    },
    {
     "name": "stdout",
     "output_type": "stream",
     "text": [
      "629:\tlearn: 0.0921766\ttotal: 709ms\tremaining: 416ms\n",
      "630:\tlearn: 0.0920265\ttotal: 710ms\tremaining: 415ms\n",
      "631:\tlearn: 0.0919377\ttotal: 712ms\tremaining: 414ms\n",
      "632:\tlearn: 0.0917927\ttotal: 713ms\tremaining: 413ms\n",
      "633:\tlearn: 0.0915661\ttotal: 714ms\tremaining: 412ms\n",
      "634:\tlearn: 0.0913324\ttotal: 715ms\tremaining: 411ms\n",
      "635:\tlearn: 0.0912201\ttotal: 716ms\tremaining: 410ms\n",
      "636:\tlearn: 0.0910538\ttotal: 717ms\tremaining: 408ms\n",
      "637:\tlearn: 0.0910106\ttotal: 718ms\tremaining: 407ms\n",
      "638:\tlearn: 0.0909262\ttotal: 719ms\tremaining: 406ms\n",
      "639:\tlearn: 0.0907315\ttotal: 720ms\tremaining: 405ms\n",
      "640:\tlearn: 0.0905675\ttotal: 721ms\tremaining: 404ms\n",
      "641:\tlearn: 0.0902885\ttotal: 722ms\tremaining: 403ms\n",
      "642:\tlearn: 0.0900321\ttotal: 723ms\tremaining: 401ms\n",
      "643:\tlearn: 0.0900072\ttotal: 724ms\tremaining: 400ms\n",
      "644:\tlearn: 0.0897723\ttotal: 725ms\tremaining: 399ms\n",
      "645:\tlearn: 0.0896852\ttotal: 726ms\tremaining: 398ms\n",
      "646:\tlearn: 0.0895911\ttotal: 727ms\tremaining: 397ms\n",
      "647:\tlearn: 0.0894638\ttotal: 728ms\tremaining: 396ms\n",
      "648:\tlearn: 0.0892974\ttotal: 730ms\tremaining: 395ms\n",
      "649:\tlearn: 0.0891073\ttotal: 731ms\tremaining: 393ms\n",
      "650:\tlearn: 0.0890342\ttotal: 732ms\tremaining: 392ms\n",
      "651:\tlearn: 0.0888722\ttotal: 733ms\tremaining: 391ms\n",
      "652:\tlearn: 0.0886689\ttotal: 734ms\tremaining: 390ms\n",
      "653:\tlearn: 0.0884661\ttotal: 735ms\tremaining: 389ms\n",
      "654:\tlearn: 0.0882453\ttotal: 736ms\tremaining: 388ms\n",
      "655:\tlearn: 0.0880527\ttotal: 737ms\tremaining: 387ms\n",
      "656:\tlearn: 0.0879018\ttotal: 738ms\tremaining: 385ms\n",
      "657:\tlearn: 0.0878473\ttotal: 739ms\tremaining: 384ms\n",
      "658:\tlearn: 0.0876290\ttotal: 740ms\tremaining: 383ms\n",
      "659:\tlearn: 0.0874630\ttotal: 741ms\tremaining: 382ms\n",
      "660:\tlearn: 0.0873449\ttotal: 742ms\tremaining: 381ms\n",
      "661:\tlearn: 0.0871178\ttotal: 743ms\tremaining: 379ms\n",
      "662:\tlearn: 0.0869433\ttotal: 744ms\tremaining: 378ms\n",
      "663:\tlearn: 0.0867191\ttotal: 745ms\tremaining: 377ms\n",
      "664:\tlearn: 0.0866473\ttotal: 746ms\tremaining: 376ms\n",
      "665:\tlearn: 0.0864331\ttotal: 747ms\tremaining: 375ms\n",
      "666:\tlearn: 0.0863452\ttotal: 748ms\tremaining: 373ms\n",
      "667:\tlearn: 0.0862205\ttotal: 749ms\tremaining: 372ms\n",
      "668:\tlearn: 0.0862049\ttotal: 750ms\tremaining: 371ms\n",
      "669:\tlearn: 0.0861470\ttotal: 751ms\tremaining: 370ms\n",
      "670:\tlearn: 0.0860196\ttotal: 752ms\tremaining: 369ms\n",
      "671:\tlearn: 0.0858542\ttotal: 753ms\tremaining: 368ms\n",
      "672:\tlearn: 0.0855792\ttotal: 754ms\tremaining: 366ms\n",
      "673:\tlearn: 0.0854863\ttotal: 755ms\tremaining: 365ms\n",
      "674:\tlearn: 0.0853798\ttotal: 756ms\tremaining: 364ms\n",
      "675:\tlearn: 0.0852081\ttotal: 757ms\tremaining: 363ms\n",
      "676:\tlearn: 0.0850839\ttotal: 758ms\tremaining: 362ms\n",
      "677:\tlearn: 0.0848871\ttotal: 759ms\tremaining: 361ms\n",
      "678:\tlearn: 0.0847960\ttotal: 760ms\tremaining: 360ms\n",
      "679:\tlearn: 0.0847819\ttotal: 761ms\tremaining: 358ms\n",
      "680:\tlearn: 0.0846531\ttotal: 763ms\tremaining: 357ms\n",
      "681:\tlearn: 0.0845504\ttotal: 764ms\tremaining: 356ms\n",
      "682:\tlearn: 0.0845367\ttotal: 765ms\tremaining: 355ms\n",
      "683:\tlearn: 0.0844536\ttotal: 766ms\tremaining: 354ms\n",
      "684:\tlearn: 0.0843737\ttotal: 767ms\tremaining: 353ms\n",
      "685:\tlearn: 0.0841630\ttotal: 768ms\tremaining: 351ms\n",
      "686:\tlearn: 0.0841011\ttotal: 769ms\tremaining: 350ms\n",
      "687:\tlearn: 0.0840742\ttotal: 770ms\tremaining: 349ms\n",
      "688:\tlearn: 0.0839436\ttotal: 771ms\tremaining: 348ms\n",
      "689:\tlearn: 0.0837377\ttotal: 772ms\tremaining: 347ms\n",
      "690:\tlearn: 0.0837121\ttotal: 773ms\tremaining: 346ms\n",
      "691:\tlearn: 0.0835431\ttotal: 774ms\tremaining: 345ms\n",
      "692:\tlearn: 0.0833413\ttotal: 775ms\tremaining: 343ms\n",
      "693:\tlearn: 0.0831534\ttotal: 776ms\tremaining: 342ms\n",
      "694:\tlearn: 0.0830145\ttotal: 777ms\tremaining: 341ms\n",
      "695:\tlearn: 0.0828911\ttotal: 778ms\tremaining: 340ms\n",
      "696:\tlearn: 0.0827978\ttotal: 779ms\tremaining: 339ms\n",
      "697:\tlearn: 0.0827375\ttotal: 780ms\tremaining: 338ms\n",
      "698:\tlearn: 0.0825248\ttotal: 781ms\tremaining: 336ms\n",
      "699:\tlearn: 0.0824095\ttotal: 782ms\tremaining: 335ms\n",
      "700:\tlearn: 0.0823112\ttotal: 783ms\tremaining: 334ms\n",
      "701:\tlearn: 0.0821355\ttotal: 784ms\tremaining: 333ms\n",
      "702:\tlearn: 0.0820184\ttotal: 785ms\tremaining: 332ms\n",
      "703:\tlearn: 0.0818414\ttotal: 786ms\tremaining: 331ms\n",
      "704:\tlearn: 0.0817012\ttotal: 787ms\tremaining: 329ms\n",
      "705:\tlearn: 0.0814215\ttotal: 788ms\tremaining: 328ms\n",
      "706:\tlearn: 0.0812979\ttotal: 789ms\tremaining: 327ms\n",
      "707:\tlearn: 0.0811492\ttotal: 790ms\tremaining: 326ms\n",
      "708:\tlearn: 0.0809497\ttotal: 791ms\tremaining: 325ms\n",
      "709:\tlearn: 0.0808101\ttotal: 792ms\tremaining: 324ms\n",
      "710:\tlearn: 0.0806404\ttotal: 793ms\tremaining: 323ms\n",
      "711:\tlearn: 0.0805305\ttotal: 794ms\tremaining: 321ms\n",
      "712:\tlearn: 0.0803681\ttotal: 795ms\tremaining: 320ms\n",
      "713:\tlearn: 0.0801403\ttotal: 796ms\tremaining: 319ms\n",
      "714:\tlearn: 0.0799826\ttotal: 797ms\tremaining: 318ms\n",
      "715:\tlearn: 0.0798063\ttotal: 798ms\tremaining: 317ms\n",
      "716:\tlearn: 0.0796107\ttotal: 799ms\tremaining: 315ms\n",
      "717:\tlearn: 0.0795216\ttotal: 800ms\tremaining: 314ms\n",
      "718:\tlearn: 0.0792708\ttotal: 801ms\tremaining: 313ms\n",
      "719:\tlearn: 0.0791580\ttotal: 802ms\tremaining: 312ms\n",
      "720:\tlearn: 0.0791046\ttotal: 804ms\tremaining: 311ms\n",
      "721:\tlearn: 0.0790177\ttotal: 805ms\tremaining: 310ms\n",
      "722:\tlearn: 0.0788343\ttotal: 806ms\tremaining: 309ms\n",
      "723:\tlearn: 0.0787514\ttotal: 807ms\tremaining: 308ms\n",
      "724:\tlearn: 0.0785216\ttotal: 808ms\tremaining: 306ms\n",
      "725:\tlearn: 0.0784519\ttotal: 809ms\tremaining: 305ms\n",
      "726:\tlearn: 0.0782984\ttotal: 810ms\tremaining: 304ms\n",
      "727:\tlearn: 0.0782134\ttotal: 811ms\tremaining: 303ms\n",
      "728:\tlearn: 0.0782061\ttotal: 812ms\tremaining: 302ms\n",
      "729:\tlearn: 0.0780540\ttotal: 813ms\tremaining: 301ms\n",
      "730:\tlearn: 0.0778653\ttotal: 814ms\tremaining: 300ms\n",
      "731:\tlearn: 0.0777719\ttotal: 815ms\tremaining: 299ms\n",
      "732:\tlearn: 0.0776416\ttotal: 816ms\tremaining: 297ms\n",
      "733:\tlearn: 0.0775685\ttotal: 817ms\tremaining: 296ms\n",
      "734:\tlearn: 0.0774840\ttotal: 818ms\tremaining: 295ms\n",
      "735:\tlearn: 0.0773381\ttotal: 820ms\tremaining: 294ms\n",
      "736:\tlearn: 0.0772643\ttotal: 821ms\tremaining: 293ms\n",
      "737:\tlearn: 0.0771618\ttotal: 822ms\tremaining: 292ms\n",
      "738:\tlearn: 0.0771312\ttotal: 823ms\tremaining: 291ms\n",
      "739:\tlearn: 0.0770076\ttotal: 824ms\tremaining: 289ms\n",
      "740:\tlearn: 0.0768446\ttotal: 825ms\tremaining: 288ms\n",
      "741:\tlearn: 0.0767081\ttotal: 826ms\tremaining: 287ms\n",
      "742:\tlearn: 0.0765355\ttotal: 827ms\tremaining: 286ms\n",
      "743:\tlearn: 0.0763337\ttotal: 828ms\tremaining: 285ms\n",
      "744:\tlearn: 0.0761854\ttotal: 829ms\tremaining: 284ms\n",
      "745:\tlearn: 0.0760598\ttotal: 830ms\tremaining: 283ms\n",
      "746:\tlearn: 0.0759658\ttotal: 831ms\tremaining: 281ms\n",
      "747:\tlearn: 0.0758778\ttotal: 832ms\tremaining: 280ms\n",
      "748:\tlearn: 0.0757680\ttotal: 833ms\tremaining: 279ms\n",
      "749:\tlearn: 0.0756062\ttotal: 834ms\tremaining: 278ms\n",
      "750:\tlearn: 0.0754197\ttotal: 835ms\tremaining: 277ms\n",
      "751:\tlearn: 0.0753079\ttotal: 836ms\tremaining: 276ms\n",
      "752:\tlearn: 0.0752325\ttotal: 837ms\tremaining: 275ms\n",
      "753:\tlearn: 0.0751477\ttotal: 838ms\tremaining: 273ms\n",
      "754:\tlearn: 0.0749928\ttotal: 839ms\tremaining: 272ms\n"
     ]
    },
    {
     "name": "stdout",
     "output_type": "stream",
     "text": [
      "755:\tlearn: 0.0748198\ttotal: 840ms\tremaining: 271ms\n",
      "756:\tlearn: 0.0747452\ttotal: 842ms\tremaining: 270ms\n",
      "757:\tlearn: 0.0745852\ttotal: 843ms\tremaining: 269ms\n",
      "758:\tlearn: 0.0743331\ttotal: 844ms\tremaining: 268ms\n",
      "759:\tlearn: 0.0742764\ttotal: 845ms\tremaining: 267ms\n",
      "760:\tlearn: 0.0741338\ttotal: 846ms\tremaining: 266ms\n",
      "761:\tlearn: 0.0739015\ttotal: 847ms\tremaining: 264ms\n",
      "762:\tlearn: 0.0737784\ttotal: 848ms\tremaining: 263ms\n",
      "763:\tlearn: 0.0737515\ttotal: 849ms\tremaining: 262ms\n",
      "764:\tlearn: 0.0736486\ttotal: 850ms\tremaining: 261ms\n",
      "765:\tlearn: 0.0735010\ttotal: 851ms\tremaining: 260ms\n",
      "766:\tlearn: 0.0733428\ttotal: 852ms\tremaining: 259ms\n",
      "767:\tlearn: 0.0732582\ttotal: 853ms\tremaining: 258ms\n",
      "768:\tlearn: 0.0731538\ttotal: 854ms\tremaining: 257ms\n",
      "769:\tlearn: 0.0731086\ttotal: 855ms\tremaining: 256ms\n",
      "770:\tlearn: 0.0729609\ttotal: 856ms\tremaining: 254ms\n",
      "771:\tlearn: 0.0728666\ttotal: 858ms\tremaining: 253ms\n",
      "772:\tlearn: 0.0727349\ttotal: 859ms\tremaining: 252ms\n",
      "773:\tlearn: 0.0726494\ttotal: 860ms\tremaining: 251ms\n",
      "774:\tlearn: 0.0725081\ttotal: 861ms\tremaining: 250ms\n",
      "775:\tlearn: 0.0723698\ttotal: 862ms\tremaining: 249ms\n",
      "776:\tlearn: 0.0723178\ttotal: 863ms\tremaining: 248ms\n",
      "777:\tlearn: 0.0721966\ttotal: 864ms\tremaining: 247ms\n",
      "778:\tlearn: 0.0720303\ttotal: 865ms\tremaining: 245ms\n",
      "779:\tlearn: 0.0719229\ttotal: 866ms\tremaining: 244ms\n",
      "780:\tlearn: 0.0718185\ttotal: 867ms\tremaining: 243ms\n",
      "781:\tlearn: 0.0716678\ttotal: 868ms\tremaining: 242ms\n",
      "782:\tlearn: 0.0716597\ttotal: 869ms\tremaining: 241ms\n",
      "783:\tlearn: 0.0715042\ttotal: 870ms\tremaining: 240ms\n",
      "784:\tlearn: 0.0713986\ttotal: 871ms\tremaining: 239ms\n",
      "785:\tlearn: 0.0712851\ttotal: 872ms\tremaining: 238ms\n",
      "786:\tlearn: 0.0712761\ttotal: 873ms\tremaining: 236ms\n",
      "787:\tlearn: 0.0711310\ttotal: 874ms\tremaining: 235ms\n",
      "788:\tlearn: 0.0710505\ttotal: 875ms\tremaining: 234ms\n",
      "789:\tlearn: 0.0709103\ttotal: 877ms\tremaining: 233ms\n",
      "790:\tlearn: 0.0708124\ttotal: 878ms\tremaining: 232ms\n",
      "791:\tlearn: 0.0706928\ttotal: 879ms\tremaining: 231ms\n",
      "792:\tlearn: 0.0706001\ttotal: 880ms\tremaining: 230ms\n",
      "793:\tlearn: 0.0704344\ttotal: 881ms\tremaining: 229ms\n",
      "794:\tlearn: 0.0702960\ttotal: 882ms\tremaining: 227ms\n",
      "795:\tlearn: 0.0701631\ttotal: 883ms\tremaining: 226ms\n",
      "796:\tlearn: 0.0701526\ttotal: 884ms\tremaining: 225ms\n",
      "797:\tlearn: 0.0700508\ttotal: 885ms\tremaining: 224ms\n",
      "798:\tlearn: 0.0699241\ttotal: 886ms\tremaining: 223ms\n",
      "799:\tlearn: 0.0698555\ttotal: 887ms\tremaining: 222ms\n",
      "800:\tlearn: 0.0697137\ttotal: 888ms\tremaining: 221ms\n",
      "801:\tlearn: 0.0697036\ttotal: 889ms\tremaining: 220ms\n",
      "802:\tlearn: 0.0695490\ttotal: 890ms\tremaining: 218ms\n",
      "803:\tlearn: 0.0694371\ttotal: 891ms\tremaining: 217ms\n",
      "804:\tlearn: 0.0693601\ttotal: 893ms\tremaining: 216ms\n",
      "805:\tlearn: 0.0692689\ttotal: 894ms\tremaining: 215ms\n",
      "806:\tlearn: 0.0691714\ttotal: 895ms\tremaining: 214ms\n",
      "807:\tlearn: 0.0691509\ttotal: 896ms\tremaining: 213ms\n",
      "808:\tlearn: 0.0691115\ttotal: 897ms\tremaining: 212ms\n",
      "809:\tlearn: 0.0690456\ttotal: 898ms\tremaining: 211ms\n",
      "810:\tlearn: 0.0689110\ttotal: 899ms\tremaining: 210ms\n",
      "811:\tlearn: 0.0688821\ttotal: 900ms\tremaining: 208ms\n",
      "812:\tlearn: 0.0687899\ttotal: 901ms\tremaining: 207ms\n",
      "813:\tlearn: 0.0687334\ttotal: 902ms\tremaining: 206ms\n",
      "814:\tlearn: 0.0686279\ttotal: 904ms\tremaining: 205ms\n",
      "815:\tlearn: 0.0685582\ttotal: 905ms\tremaining: 204ms\n",
      "816:\tlearn: 0.0684875\ttotal: 906ms\tremaining: 203ms\n",
      "817:\tlearn: 0.0683960\ttotal: 907ms\tremaining: 202ms\n",
      "818:\tlearn: 0.0683140\ttotal: 908ms\tremaining: 201ms\n",
      "819:\tlearn: 0.0682781\ttotal: 909ms\tremaining: 199ms\n",
      "820:\tlearn: 0.0680798\ttotal: 910ms\tremaining: 198ms\n",
      "821:\tlearn: 0.0679058\ttotal: 911ms\tremaining: 197ms\n",
      "822:\tlearn: 0.0678601\ttotal: 912ms\tremaining: 196ms\n",
      "823:\tlearn: 0.0677389\ttotal: 913ms\tremaining: 195ms\n",
      "824:\tlearn: 0.0676416\ttotal: 914ms\tremaining: 194ms\n",
      "825:\tlearn: 0.0675096\ttotal: 915ms\tremaining: 193ms\n",
      "826:\tlearn: 0.0673981\ttotal: 916ms\tremaining: 192ms\n",
      "827:\tlearn: 0.0672668\ttotal: 917ms\tremaining: 191ms\n",
      "828:\tlearn: 0.0671205\ttotal: 918ms\tremaining: 189ms\n",
      "829:\tlearn: 0.0669867\ttotal: 920ms\tremaining: 188ms\n",
      "830:\tlearn: 0.0668716\ttotal: 921ms\tremaining: 187ms\n",
      "831:\tlearn: 0.0668056\ttotal: 922ms\tremaining: 186ms\n",
      "832:\tlearn: 0.0666958\ttotal: 923ms\tremaining: 185ms\n",
      "833:\tlearn: 0.0666815\ttotal: 924ms\tremaining: 184ms\n",
      "834:\tlearn: 0.0665903\ttotal: 925ms\tremaining: 183ms\n",
      "835:\tlearn: 0.0664717\ttotal: 926ms\tremaining: 182ms\n",
      "836:\tlearn: 0.0663353\ttotal: 927ms\tremaining: 181ms\n",
      "837:\tlearn: 0.0662189\ttotal: 928ms\tremaining: 179ms\n",
      "838:\tlearn: 0.0660878\ttotal: 929ms\tremaining: 178ms\n",
      "839:\tlearn: 0.0659943\ttotal: 930ms\tremaining: 177ms\n",
      "840:\tlearn: 0.0658525\ttotal: 931ms\tremaining: 176ms\n",
      "841:\tlearn: 0.0657402\ttotal: 932ms\tremaining: 175ms\n",
      "842:\tlearn: 0.0656406\ttotal: 933ms\tremaining: 174ms\n",
      "843:\tlearn: 0.0656323\ttotal: 934ms\tremaining: 173ms\n",
      "844:\tlearn: 0.0655390\ttotal: 935ms\tremaining: 172ms\n",
      "845:\tlearn: 0.0654263\ttotal: 936ms\tremaining: 170ms\n",
      "846:\tlearn: 0.0653772\ttotal: 937ms\tremaining: 169ms\n",
      "847:\tlearn: 0.0653100\ttotal: 938ms\tremaining: 168ms\n",
      "848:\tlearn: 0.0651966\ttotal: 939ms\tremaining: 167ms\n",
      "849:\tlearn: 0.0651689\ttotal: 940ms\tremaining: 166ms\n",
      "850:\tlearn: 0.0650427\ttotal: 941ms\tremaining: 165ms\n",
      "851:\tlearn: 0.0648527\ttotal: 942ms\tremaining: 164ms\n",
      "852:\tlearn: 0.0647113\ttotal: 943ms\tremaining: 163ms\n",
      "853:\tlearn: 0.0645654\ttotal: 944ms\tremaining: 161ms\n",
      "854:\tlearn: 0.0644916\ttotal: 945ms\tremaining: 160ms\n",
      "855:\tlearn: 0.0643342\ttotal: 946ms\tremaining: 159ms\n",
      "856:\tlearn: 0.0642696\ttotal: 947ms\tremaining: 158ms\n",
      "857:\tlearn: 0.0641456\ttotal: 949ms\tremaining: 157ms\n",
      "858:\tlearn: 0.0640970\ttotal: 950ms\tremaining: 156ms\n",
      "859:\tlearn: 0.0640207\ttotal: 951ms\tremaining: 155ms\n",
      "860:\tlearn: 0.0638609\ttotal: 952ms\tremaining: 154ms\n",
      "861:\tlearn: 0.0637807\ttotal: 953ms\tremaining: 153ms\n",
      "862:\tlearn: 0.0636557\ttotal: 954ms\tremaining: 151ms\n",
      "863:\tlearn: 0.0635854\ttotal: 955ms\tremaining: 150ms\n",
      "864:\tlearn: 0.0634948\ttotal: 956ms\tremaining: 149ms\n",
      "865:\tlearn: 0.0633472\ttotal: 957ms\tremaining: 148ms\n",
      "866:\tlearn: 0.0632047\ttotal: 958ms\tremaining: 147ms\n",
      "867:\tlearn: 0.0630955\ttotal: 958ms\tremaining: 146ms\n",
      "868:\tlearn: 0.0630192\ttotal: 960ms\tremaining: 145ms\n",
      "869:\tlearn: 0.0628828\ttotal: 961ms\tremaining: 144ms\n",
      "870:\tlearn: 0.0627652\ttotal: 961ms\tremaining: 142ms\n",
      "871:\tlearn: 0.0627050\ttotal: 963ms\tremaining: 141ms\n",
      "872:\tlearn: 0.0626650\ttotal: 964ms\tremaining: 140ms\n",
      "873:\tlearn: 0.0625173\ttotal: 965ms\tremaining: 139ms\n",
      "874:\tlearn: 0.0624596\ttotal: 966ms\tremaining: 138ms\n",
      "875:\tlearn: 0.0624366\ttotal: 967ms\tremaining: 137ms\n",
      "876:\tlearn: 0.0622846\ttotal: 968ms\tremaining: 136ms\n",
      "877:\tlearn: 0.0621181\ttotal: 969ms\tremaining: 135ms\n",
      "878:\tlearn: 0.0620213\ttotal: 970ms\tremaining: 134ms\n",
      "879:\tlearn: 0.0618892\ttotal: 971ms\tremaining: 132ms\n",
      "880:\tlearn: 0.0617689\ttotal: 972ms\tremaining: 131ms\n",
      "881:\tlearn: 0.0616526\ttotal: 973ms\tremaining: 130ms\n"
     ]
    },
    {
     "name": "stdout",
     "output_type": "stream",
     "text": [
      "882:\tlearn: 0.0616207\ttotal: 974ms\tremaining: 129ms\n",
      "883:\tlearn: 0.0615637\ttotal: 975ms\tremaining: 128ms\n",
      "884:\tlearn: 0.0614756\ttotal: 976ms\tremaining: 127ms\n",
      "885:\tlearn: 0.0613956\ttotal: 977ms\tremaining: 126ms\n",
      "886:\tlearn: 0.0612792\ttotal: 978ms\tremaining: 125ms\n",
      "887:\tlearn: 0.0612253\ttotal: 980ms\tremaining: 124ms\n",
      "888:\tlearn: 0.0611529\ttotal: 981ms\tremaining: 122ms\n",
      "889:\tlearn: 0.0610082\ttotal: 982ms\tremaining: 121ms\n",
      "890:\tlearn: 0.0608837\ttotal: 983ms\tremaining: 120ms\n",
      "891:\tlearn: 0.0608379\ttotal: 984ms\tremaining: 119ms\n",
      "892:\tlearn: 0.0607765\ttotal: 985ms\tremaining: 118ms\n",
      "893:\tlearn: 0.0607103\ttotal: 986ms\tremaining: 117ms\n",
      "894:\tlearn: 0.0606898\ttotal: 987ms\tremaining: 116ms\n",
      "895:\tlearn: 0.0605375\ttotal: 988ms\tremaining: 115ms\n",
      "896:\tlearn: 0.0604626\ttotal: 989ms\tremaining: 114ms\n",
      "897:\tlearn: 0.0604155\ttotal: 990ms\tremaining: 112ms\n",
      "898:\tlearn: 0.0603546\ttotal: 991ms\tremaining: 111ms\n",
      "899:\tlearn: 0.0603364\ttotal: 992ms\tremaining: 110ms\n",
      "900:\tlearn: 0.0602596\ttotal: 993ms\tremaining: 109ms\n",
      "901:\tlearn: 0.0601747\ttotal: 994ms\tremaining: 108ms\n",
      "902:\tlearn: 0.0600385\ttotal: 995ms\tremaining: 107ms\n",
      "903:\tlearn: 0.0599969\ttotal: 996ms\tremaining: 106ms\n",
      "904:\tlearn: 0.0598654\ttotal: 997ms\tremaining: 105ms\n",
      "905:\tlearn: 0.0597653\ttotal: 998ms\tremaining: 104ms\n",
      "906:\tlearn: 0.0597147\ttotal: 999ms\tremaining: 102ms\n",
      "907:\tlearn: 0.0596903\ttotal: 1s\tremaining: 101ms\n",
      "908:\tlearn: 0.0596058\ttotal: 1s\tremaining: 100ms\n",
      "909:\tlearn: 0.0595311\ttotal: 1s\tremaining: 99.1ms\n",
      "910:\tlearn: 0.0594786\ttotal: 1s\tremaining: 98ms\n",
      "911:\tlearn: 0.0593941\ttotal: 1s\tremaining: 96.9ms\n",
      "912:\tlearn: 0.0592580\ttotal: 1s\tremaining: 95.8ms\n",
      "913:\tlearn: 0.0591696\ttotal: 1.01s\tremaining: 94.7ms\n",
      "914:\tlearn: 0.0591269\ttotal: 1.01s\tremaining: 93.6ms\n",
      "915:\tlearn: 0.0590196\ttotal: 1.01s\tremaining: 92.5ms\n",
      "916:\tlearn: 0.0590051\ttotal: 1.01s\tremaining: 91.4ms\n",
      "917:\tlearn: 0.0588684\ttotal: 1.01s\tremaining: 90.3ms\n",
      "918:\tlearn: 0.0587971\ttotal: 1.01s\tremaining: 89.2ms\n",
      "919:\tlearn: 0.0586832\ttotal: 1.01s\tremaining: 88.1ms\n",
      "920:\tlearn: 0.0586146\ttotal: 1.01s\tremaining: 87ms\n",
      "921:\tlearn: 0.0585366\ttotal: 1.01s\tremaining: 85.9ms\n",
      "922:\tlearn: 0.0585081\ttotal: 1.02s\tremaining: 84.8ms\n",
      "923:\tlearn: 0.0584422\ttotal: 1.02s\tremaining: 83.7ms\n",
      "924:\tlearn: 0.0584349\ttotal: 1.02s\tremaining: 82.6ms\n",
      "925:\tlearn: 0.0583290\ttotal: 1.02s\tremaining: 81.5ms\n",
      "926:\tlearn: 0.0582104\ttotal: 1.02s\tremaining: 80.4ms\n",
      "927:\tlearn: 0.0581095\ttotal: 1.02s\tremaining: 79.3ms\n",
      "928:\tlearn: 0.0579788\ttotal: 1.02s\tremaining: 78.2ms\n",
      "929:\tlearn: 0.0578292\ttotal: 1.02s\tremaining: 77.1ms\n",
      "930:\tlearn: 0.0577632\ttotal: 1.02s\tremaining: 76ms\n",
      "931:\tlearn: 0.0576451\ttotal: 1.03s\tremaining: 74.9ms\n",
      "932:\tlearn: 0.0575650\ttotal: 1.03s\tremaining: 73.7ms\n",
      "933:\tlearn: 0.0574503\ttotal: 1.03s\tremaining: 72.6ms\n",
      "934:\tlearn: 0.0573583\ttotal: 1.03s\tremaining: 71.5ms\n",
      "935:\tlearn: 0.0572837\ttotal: 1.03s\tremaining: 70.4ms\n",
      "936:\tlearn: 0.0571479\ttotal: 1.03s\tremaining: 69.3ms\n",
      "937:\tlearn: 0.0570781\ttotal: 1.03s\tremaining: 68.2ms\n",
      "938:\tlearn: 0.0570125\ttotal: 1.03s\tremaining: 67.1ms\n",
      "939:\tlearn: 0.0568561\ttotal: 1.03s\tremaining: 66ms\n",
      "940:\tlearn: 0.0567578\ttotal: 1.03s\tremaining: 64.9ms\n",
      "941:\tlearn: 0.0566699\ttotal: 1.04s\tremaining: 63.8ms\n",
      "942:\tlearn: 0.0565794\ttotal: 1.04s\tremaining: 62.7ms\n",
      "943:\tlearn: 0.0565116\ttotal: 1.04s\tremaining: 61.6ms\n",
      "944:\tlearn: 0.0564476\ttotal: 1.04s\tremaining: 60.5ms\n",
      "945:\tlearn: 0.0563620\ttotal: 1.04s\tremaining: 59.4ms\n",
      "946:\tlearn: 0.0562954\ttotal: 1.04s\tremaining: 58.3ms\n",
      "947:\tlearn: 0.0562298\ttotal: 1.04s\tremaining: 57.2ms\n",
      "948:\tlearn: 0.0561216\ttotal: 1.04s\tremaining: 56.1ms\n",
      "949:\tlearn: 0.0560592\ttotal: 1.04s\tremaining: 55ms\n",
      "950:\tlearn: 0.0559748\ttotal: 1.04s\tremaining: 53.9ms\n",
      "951:\tlearn: 0.0558966\ttotal: 1.05s\tremaining: 52.8ms\n",
      "952:\tlearn: 0.0558376\ttotal: 1.05s\tremaining: 51.7ms\n",
      "953:\tlearn: 0.0557740\ttotal: 1.05s\tremaining: 50.6ms\n",
      "954:\tlearn: 0.0557540\ttotal: 1.05s\tremaining: 49.5ms\n",
      "955:\tlearn: 0.0556655\ttotal: 1.05s\tremaining: 48.4ms\n",
      "956:\tlearn: 0.0555852\ttotal: 1.05s\tremaining: 47.3ms\n",
      "957:\tlearn: 0.0555089\ttotal: 1.05s\tremaining: 46.2ms\n",
      "958:\tlearn: 0.0554102\ttotal: 1.05s\tremaining: 45.1ms\n",
      "959:\tlearn: 0.0553783\ttotal: 1.05s\tremaining: 44ms\n",
      "960:\tlearn: 0.0552682\ttotal: 1.06s\tremaining: 42.9ms\n",
      "961:\tlearn: 0.0551707\ttotal: 1.06s\tremaining: 41.8ms\n",
      "962:\tlearn: 0.0551238\ttotal: 1.06s\tremaining: 40.7ms\n",
      "963:\tlearn: 0.0550488\ttotal: 1.06s\tremaining: 39.6ms\n",
      "964:\tlearn: 0.0549537\ttotal: 1.06s\tremaining: 38.5ms\n",
      "965:\tlearn: 0.0548839\ttotal: 1.06s\tremaining: 37.4ms\n",
      "966:\tlearn: 0.0547759\ttotal: 1.06s\tremaining: 36.3ms\n",
      "967:\tlearn: 0.0547095\ttotal: 1.06s\tremaining: 35.2ms\n",
      "968:\tlearn: 0.0546199\ttotal: 1.06s\tremaining: 34.1ms\n",
      "969:\tlearn: 0.0545183\ttotal: 1.07s\tremaining: 33ms\n",
      "970:\tlearn: 0.0544556\ttotal: 1.07s\tremaining: 31.9ms\n",
      "971:\tlearn: 0.0543729\ttotal: 1.07s\tremaining: 30.8ms\n",
      "972:\tlearn: 0.0542991\ttotal: 1.07s\tremaining: 29.7ms\n",
      "973:\tlearn: 0.0542816\ttotal: 1.07s\tremaining: 28.6ms\n",
      "974:\tlearn: 0.0541908\ttotal: 1.07s\tremaining: 27.5ms\n",
      "975:\tlearn: 0.0541363\ttotal: 1.07s\tremaining: 26.4ms\n",
      "976:\tlearn: 0.0540442\ttotal: 1.07s\tremaining: 25.3ms\n",
      "977:\tlearn: 0.0539401\ttotal: 1.07s\tremaining: 24.2ms\n",
      "978:\tlearn: 0.0537869\ttotal: 1.07s\tremaining: 23.1ms\n",
      "979:\tlearn: 0.0536768\ttotal: 1.08s\tremaining: 22ms\n",
      "980:\tlearn: 0.0535751\ttotal: 1.08s\tremaining: 20.9ms\n",
      "981:\tlearn: 0.0535078\ttotal: 1.08s\tremaining: 19.8ms\n",
      "982:\tlearn: 0.0534382\ttotal: 1.08s\tremaining: 18.7ms\n",
      "983:\tlearn: 0.0533660\ttotal: 1.08s\tremaining: 17.6ms\n",
      "984:\tlearn: 0.0532570\ttotal: 1.08s\tremaining: 16.5ms\n",
      "985:\tlearn: 0.0531777\ttotal: 1.08s\tremaining: 15.4ms\n",
      "986:\tlearn: 0.0531349\ttotal: 1.08s\tremaining: 14.3ms\n",
      "987:\tlearn: 0.0530363\ttotal: 1.08s\tremaining: 13.2ms\n",
      "988:\tlearn: 0.0528597\ttotal: 1.08s\tremaining: 12.1ms\n",
      "989:\tlearn: 0.0527609\ttotal: 1.09s\tremaining: 11ms\n",
      "990:\tlearn: 0.0527474\ttotal: 1.09s\tremaining: 9.87ms\n",
      "991:\tlearn: 0.0526151\ttotal: 1.09s\tremaining: 8.78ms\n",
      "992:\tlearn: 0.0525613\ttotal: 1.09s\tremaining: 7.68ms\n",
      "993:\tlearn: 0.0525246\ttotal: 1.09s\tremaining: 6.58ms\n",
      "994:\tlearn: 0.0524177\ttotal: 1.09s\tremaining: 5.48ms\n",
      "995:\tlearn: 0.0523360\ttotal: 1.09s\tremaining: 4.39ms\n",
      "996:\tlearn: 0.0522626\ttotal: 1.09s\tremaining: 3.29ms\n",
      "997:\tlearn: 0.0521900\ttotal: 1.09s\tremaining: 2.19ms\n",
      "998:\tlearn: 0.0521857\ttotal: 1.09s\tremaining: 1.1ms\n",
      "999:\tlearn: 0.0521203\ttotal: 1.1s\tremaining: 0us\n"
     ]
    },
    {
     "data": {
      "text/plain": [
       "<catboost.core.CatBoostRegressor at 0x7fd33f547a10>"
      ]
     },
     "execution_count": 9,
     "metadata": {},
     "output_type": "execute_result"
    }
   ],
   "source": [
    "#Train the Model \n",
    "prior_model = ctb.CatBoostRegressor()\n",
    "prior_model.fit(X_train,Y_train)"
   ]
  },
  {
   "cell_type": "code",
   "execution_count": 10,
   "id": "c775fd81",
   "metadata": {
    "execution": {
     "iopub.execute_input": "2022-01-14T06:05:38.994849Z",
     "iopub.status.busy": "2022-01-14T06:05:38.994213Z",
     "iopub.status.idle": "2022-01-14T06:05:39.007202Z",
     "shell.execute_reply": "2022-01-14T06:05:39.006748Z"
    },
    "papermill": {
     "duration": 0.047661,
     "end_time": "2022-01-14T06:05:39.007317",
     "exception": false,
     "start_time": "2022-01-14T06:05:38.959656",
     "status": "completed"
    },
    "tags": []
   },
   "outputs": [
    {
     "data": {
      "application/scrapbook.scrap.json+json": {
       "data": 0.09810107858508037,
       "encoder": "json",
       "name": "Prior Model MSE",
       "version": 1
      }
     },
     "metadata": {
      "scrapbook": {
       "data": true,
       "display": false,
       "name": "Prior Model MSE"
      }
     },
     "output_type": "display_data"
    },
    {
     "data": {
      "application/scrapbook.scrap.json+json": {
       "data": 1.0764857398472174,
       "encoder": "json",
       "name": "ABC Pre-generator MSE",
       "version": 1
      }
     },
     "metadata": {
      "scrapbook": {
       "data": true,
       "display": false,
       "name": "ABC Pre-generator MSE"
      }
     },
     "output_type": "display_data"
    }
   ],
   "source": [
    "y_pred = prior_model.predict(X_test)\n",
    "y_abc = y_pred + np.random.normal(0,variance, y_pred.shape)\n",
    "mse = mean_squared_error(y_pred,Y_test)\n",
    "sb.glue(\"Prior Model MSE\",mse)\n",
    "mse = mean_squared_error(y_abc,Y_test)\n",
    "sb.glue(\"ABC Pre-generator MSE\",mse)"
   ]
  },
  {
   "cell_type": "markdown",
   "id": "0cd0def6",
   "metadata": {
    "papermill": {
     "duration": 0.030289,
     "end_time": "2022-01-14T06:05:39.067948",
     "exception": false,
     "start_time": "2022-01-14T06:05:39.037659",
     "status": "completed"
    },
    "tags": []
   },
   "source": [
    "# ABC GAN Model"
   ]
  },
  {
   "cell_type": "markdown",
   "id": "70beaf4c",
   "metadata": {
    "papermill": {
     "duration": 0.029877,
     "end_time": "2022-01-14T06:05:39.128890",
     "exception": false,
     "start_time": "2022-01-14T06:05:39.099013",
     "status": "completed"
    },
    "tags": []
   },
   "source": [
    "### Training the network\n",
    "**Training ABC-GAN for n_epochs number of epochs** "
   ]
  },
  {
   "cell_type": "code",
   "execution_count": 11,
   "id": "dbaaafa1",
   "metadata": {
    "execution": {
     "iopub.execute_input": "2022-01-14T06:05:39.204131Z",
     "iopub.status.busy": "2022-01-14T06:05:39.203323Z",
     "iopub.status.idle": "2022-01-14T06:05:48.695475Z",
     "shell.execute_reply": "2022-01-14T06:05:48.694917Z"
    },
    "papermill": {
     "duration": 9.536204,
     "end_time": "2022-01-14T06:05:48.695609",
     "exception": false,
     "start_time": "2022-01-14T06:05:39.159405",
     "status": "completed"
    },
    "tags": []
   },
   "outputs": [],
   "source": [
    "gen = network.Generator(n_features+1).to(device)\n",
    "disc = network.Discriminator(n_features+1).to(device)\n",
    "\n",
    "criterion = torch.nn.BCELoss()\n",
    "gen_opt = torch.optim.Adam(gen.parameters(), lr=0.001, betas=(0.5, 0.999))\n",
    "disc_opt = torch.optim.Adam(disc.parameters(), lr=0.01, betas=(0.5, 0.999))"
   ]
  },
  {
   "cell_type": "code",
   "execution_count": 12,
   "id": "6e9eeab8",
   "metadata": {
    "execution": {
     "iopub.execute_input": "2022-01-14T06:05:48.762481Z",
     "iopub.status.busy": "2022-01-14T06:05:48.761716Z",
     "iopub.status.idle": "2022-01-14T06:11:26.849759Z",
     "shell.execute_reply": "2022-01-14T06:11:26.849176Z"
    },
    "papermill": {
     "duration": 338.122618,
     "end_time": "2022-01-14T06:11:26.849950",
     "exception": false,
     "start_time": "2022-01-14T06:05:48.727332",
     "status": "completed"
    },
    "tags": []
   },
   "outputs": [
    {
     "data": {
      "image/png": "[encoded data removed]",
      "text/plain": [
       "<Figure size 432x288 with 1 Axes>"
      ]
     },
     "metadata": {
      "needs_background": "light"
     },
     "output_type": "display_data"
    },
    {
     "data": {
      "image/png": "[encoded data removed]",
      "text/plain": [
       "<Figure size 432x288 with 1 Axes>"
      ]
     },
     "metadata": {
      "needs_background": "light"
     },
     "output_type": "display_data"
    }
   ],
   "source": [
    "#Training the ABC_GAN \n",
    "ABC_train_test2.training_GAN(disc,gen,disc_opt,gen_opt,train_data,batch_size,n_epochs,criterion,prior_model,variance,device)"
   ]
  },
  {
   "cell_type": "code",
   "execution_count": 13,
   "id": "11c3082e",
   "metadata": {
    "execution": {
     "iopub.execute_input": "2022-01-14T06:11:26.919805Z",
     "iopub.status.busy": "2022-01-14T06:11:26.919158Z",
     "iopub.status.idle": "2022-01-14T06:11:27.311271Z",
     "shell.execute_reply": "2022-01-14T06:11:27.311720Z"
    },
    "papermill": {
     "duration": 0.428932,
     "end_time": "2022-01-14T06:11:27.311891",
     "exception": false,
     "start_time": "2022-01-14T06:11:26.882959",
     "status": "completed"
    },
    "tags": []
   },
   "outputs": [
    {
     "data": {
      "application/scrapbook.scrap.json+json": {
       "data": 0.19310577266414736,
       "encoder": "json",
       "name": "ABC-GAN Model 1 MSE",
       "version": 1
      }
     },
     "metadata": {
      "scrapbook": {
       "data": true,
       "display": false,
       "name": "ABC-GAN Model 1 MSE"
      }
     },
     "output_type": "display_data"
    },
    {
     "data": {
      "application/scrapbook.scrap.json+json": {
       "data": 0.28291406489726084,
       "encoder": "json",
       "name": "ABC-GAN Model 1 MAE",
       "version": 1
      }
     },
     "metadata": {
      "scrapbook": {
       "data": true,
       "display": false,
       "name": "ABC-GAN Model 1 MAE"
      }
     },
     "output_type": "display_data"
    },
    {
     "data": {
      "application/scrapbook.scrap.json+json": {
       "data": 28.857234619520604,
       "encoder": "json",
       "name": "ABC-GAN Model 1 Manhattan Distance",
       "version": 1
      }
     },
     "metadata": {
      "scrapbook": {
       "data": true,
       "display": false,
       "name": "ABC-GAN Model 1 Manhattan Distance"
      }
     },
     "output_type": "display_data"
    },
    {
     "data": {
      "application/scrapbook.scrap.json+json": {
       "data": 4.438060891494195,
       "encoder": "json",
       "name": "ABC-GAN Model 1 Euclidean distance",
       "version": 1
      }
     },
     "metadata": {
      "scrapbook": {
       "data": true,
       "display": false,
       "name": "ABC-GAN Model 1 Euclidean distance"
      }
     },
     "output_type": "display_data"
    },
    {
     "data": {
      "application/scrapbook.scrap.json+json": {
       "data": [
        [
         0.1927611429213865,
         0.19419947072476684,
         0.19118462073094636,
         0.1968447769182139,
         0.19285020584421453,
         0.19031592112585582,
         0.19152610987208807,
         0.19280380386095416,
         0.19161841076740843,
         0.1907578290398863,
         0.19590359759479398,
         0.19239652334523794,
         0.1916478766086523,
         0.19316342748329918,
         0.1937436093248305,
         0.1944840048837757,
         0.19090138462896153,
         0.18909314968210014,
         0.19489590180443428,
         0.1937310550366358,
         0.19145634322322708,
         0.19058666944067215,
         0.1930338065253901,
         0.19072178940690274,
         0.1926969395689635,
         0.19413367932673736,
         0.19176303469941933,
         0.1938868834064121,
         0.19196864444066505,
         0.19432043306866081,
         0.19156967898954994,
         0.1962801848465053,
         0.1962280821081697,
         0.1908618949084755,
         0.18973970123617456,
         0.1901106688834282,
         0.1939589144169911,
         0.19485705813559215,
         0.19216368663060251,
         0.19184340371638883,
         0.1919688320046137,
         0.19538281122807064,
         0.19141412581389106,
         0.19389714476730405,
         0.1911122520758618,
         0.1956328353730061,
         0.19128746002354247,
         0.19447339166122699,
         0.1936617988048701,
         0.18945241483957487,
         0.19465930588964395,
         0.193673560643392,
         0.19305317163438052,
         0.19143800187623308,
         0.1938912867798536,
         0.19191450636658536,
         0.19352013431592383,
         0.19324238371067054,
         0.19203306905356268,
         0.19101474986845715,
         0.19453705179651212,
         0.19664191907191558,
         0.1944406411592489,
         0.19277113318228367,
         0.19406901034985546,
         0.1914454256550034,
         0.1932195981468574,
         0.1924485477558999,
         0.19363799356163483,
         0.19104392841958037,
         0.19476809323260555,
         0.19470147983237923,
         0.19434963907835023,
         0.19054683618326798,
         0.1942349438972788,
         0.1916964935804422,
         0.19370178163144045,
         0.19115425822160861,
         0.19379164540398722,
         0.19388465100293528,
         0.19553870795669367,
         0.19356212989917396,
         0.19382749910827454,
         0.1928211522537721,
         0.19551499210658704,
         0.19337775861780163,
         0.19459241088164653,
         0.19206955695544412,
         0.19255669179996784,
         0.19461365330246497,
         0.19456126460400403,
         0.19519520866714377,
         0.19199237759606191,
         0.1933661213401269,
         0.19574086912307145,
         0.1936631549530662,
         0.19218515466894892,
         0.19714410243235392,
         0.1954432907628076,
         0.19199854231420138
        ],
        [
         0.2837064768388575,
         0.2825179405364336,
         0.28140775735179585,
         0.2847925613396892,
         0.28138534746625843,
         0.28121813591204436,
         0.28030264465247884,
         0.2846199326655444,
         0.2819041060831617,
         0.28218561677517845,
         0.28490665043685953,
         0.2832407337047306,
         0.2814918199517563,
         0.2828194124295431,
         0.2821203342036289,
         0.28640301416025443,
         0.28115274968977066,
         0.2796947734028685,
         0.2835315927936166,
         0.28284401702238066,
         0.28311557770140616,
         0.27903436745206517,
         0.28248598795457214,
         0.28231485684712726,
         0.283173077246722,
         0.2815568188899288,
         0.28122453143199283,
         0.28397140122365716,
         0.2840201837540257,
         0.2839749678604159,
         0.2813746283086492,
         0.28376858086124357,
         0.2844208776950836,
         0.28022918327912394,
         0.2803793368751512,
         0.28189406405184786,
         0.28359537798107837,
         0.2830548893441172,
         0.2816499141136221,
         0.2822281368003756,
         0.2829678824682738,
         0.28456170849648177,
         0.2825220800278818,
         0.2830466758094582,
         0.2821477682640155,
         0.2835473669692874,
         0.2804195970369905,
         0.28329447127294305,
         0.2833915286167872,
         0.281072219139805,
         0.284337882902108,
         0.2826418634686692,
         0.28252260405205043,
         0.28134473004177507,
         0.2820452351269184,
         0.28225457262905207,
         0.2819710180309473,
         0.28263962517182034,
         0.28322179341579184,
         0.28316397745819655,
         0.28452898445082647,
         0.2848357798568174,
         0.2849469404010212,
         0.28444827819133506,
         0.281725725560796,
         0.28096263848391234,
         0.28296958907123876,
         0.28343509952081186,
         0.282727152985685,
         0.2827346707675971,
         0.2839807599563809,
         0.2818480549270616,
         0.28394617041682496,
         0.28238757641292084,
         0.2820116979818718,
         0.28287645107975196,
         0.28295706070083027,
         0.2819591077665488,
         0.2845218580435304,
         0.2827077911545833,
         0.2834452474307196,
         0.2843667589420197,
         0.2821936231910014,
         0.28118816018104553,
         0.2853656088312467,
         0.2831737367691947,
         0.2848301986415012,
         0.2813087995438015,
         0.2820566579443859,
         0.28408178961014047,
         0.284515296857731,
         0.2845451565934162,
         0.28265128788702626,
         0.28375112111954126,
         0.28493786026157586,
         0.28369060282905895,
         0.2842350681768913,
         0.2870206927844122,
         0.2851286394631161,
         0.2835818174496001
        ],
        [
         28.938060637563467,
         28.816829934716225,
         28.703591249883175,
         29.048841256648302,
         28.70130544155836,
         28.684249863028526,
         28.59086975455284,
         29.03123313188553,
         28.754218820482492,
         28.7829329110682,
         29.06047834455967,
         28.89055483788252,
         28.712165635079145,
         28.847580067813396,
         28.77627408877015,
         29.21310744434595,
         28.67758046835661,
         28.52886688709259,
         28.920222464948893,
         28.850089736282825,
         28.877788925543427,
         28.461505480110645,
         28.813570771366358,
         28.796115398406982,
         28.88365387916565,
         28.718795526772738,
         28.68490220606327,
         28.965082924813032,
         28.970058742910624,
         28.96544672176242,
         28.700212087482214,
         28.944395247846842,
         29.01092952489853,
         28.583376694470644,
         28.59869236126542,
         28.75319453328848,
         28.926728554069996,
         28.871598713099957,
         28.728291239589453,
         28.787269953638315,
         28.86272401176393,
         29.02529426664114,
         28.817252162843943,
         28.870760932564735,
         28.779072362929583,
         28.921831430867314,
         28.602798897773027,
         28.896036069840193,
         28.90593591891229,
         28.669366352260113,
         29.002464056015015,
         28.82947007380426,
         28.817305613309145,
         28.697162464261055,
         28.76861398294568,
         28.78996640816331,
         28.761043839156628,
         28.829241767525673,
         28.88862292841077,
         28.882725700736046,
         29.0219564139843,
         29.053249545395374,
         29.06458792090416,
         29.013724375516176,
         28.736024007201195,
         28.65818912535906,
         28.86289808526635,
         28.91038015112281,
         28.83816960453987,
         28.838936418294907,
         28.966037515550852,
         28.74850160256028,
         28.962509382516146,
         28.803532794117928,
         28.765193194150925,
         28.853398010134697,
         28.86162019148469,
         28.759828992187977,
         29.0212295204401,
         28.836194697767496,
         28.911415237933397,
         29.00540941208601,
         28.78374956548214,
         28.681192338466644,
         29.107292100787163,
         28.88372115045786,
         29.052680261433125,
         28.69349755346775,
         28.769779110327363,
         28.976342540234327,
         29.020560279488564,
         29.023605972528458,
         28.83043136447668,
         28.94261435419321,
         29.063661746680737,
         28.936441488564014,
         28.99197695404291,
         29.276110664010048,
         29.083121225237846,
         28.92534537985921
        ],
        [
         4.4341444020218175,
         4.4506568070259265,
         4.4159745599987925,
         4.480866796241305,
         4.435168654753715,
         4.405930543578426,
         4.4199166515843915,
         4.434635046293812,
         4.420981553713571,
         4.411042797578413,
         4.470141715278049,
         4.429948688327469,
         4.421321455637729,
         4.438768928801826,
         4.445430029944539,
         4.453916085664964,
         4.412702259631175,
         4.391753780390496,
         4.458630056873108,
         4.4452859990935165,
         4.419111563286127,
         4.409063424691071,
         4.437279376553811,
         4.410626091554812,
         4.433405895700762,
         4.449902840661491,
         4.42264960621354,
         4.447073431758692,
         4.4250199697795525,
         4.452042696673449,
         4.4204193530630205,
         4.474436149320218,
         4.47384223850521,
         4.412245831848504,
         4.399255564989354,
         4.403554044872127,
         4.447899422259129,
         4.458185721774093,
         4.427267332827491,
         4.423576288374787,
         4.425022131523253,
         4.464196091712729,
         4.418624314536922,
         4.447191109707902,
         4.415138696772493,
         4.4670515116849305,
         4.417162089215352,
         4.453794556268301,
         4.444491363260451,
         4.395923829371551,
         4.45592293478508,
         4.444626326883508,
         4.437501944417242,
         4.41889988474233,
         4.447123930311034,
         4.424395964353971,
         4.44286548302154,
         4.439676017288693,
         4.425762425104108,
         4.414012288902539,
         4.454523463092795,
         4.478557328575285,
         4.453419517431901,
         4.434259305069216,
         4.449161612673253,
         4.418985564222895,
         4.439414264402394,
         4.430547581405913,
         4.444218192583118,
         4.41434940832703,
         4.457167879912732,
         4.456405607987527,
         4.452377251086404,
         4.408602646042545,
         4.451063274940319,
         4.421882217473131,
         4.4449501376738665,
         4.41562389007534,
         4.445981087589858,
         4.447047829999065,
         4.465976736569812,
         4.443347527452218,
         4.4463923476279055,
         4.434834554961972,
         4.46570590107229,
         4.4412308405458685,
         4.455157226173723,
         4.42618287121706,
         4.431792251854402,
         4.455400390183964,
         4.454800667774981,
         4.462052362315873,
         4.425293494763745,
         4.441097204148197,
         4.468284754864364,
         4.444506924869479,
         4.427514627444248,
         4.484272343212452,
         4.464886970328182,
         4.42536454046992
        ]
       ],
       "encoder": "json",
       "name": "ABC_GAN_1 Metrics",
       "version": 1
      }
     },
     "metadata": {
      "scrapbook": {
       "data": true,
       "display": false,
       "name": "ABC_GAN_1 Metrics"
      }
     },
     "output_type": "display_data"
    }
   ],
   "source": [
    "ABC_GAN1_metrics=ABC_train_test2.test_generator(gen,test_data,prior_model,variance,\"1\",device)\n",
    "sb.glue(\"ABC_GAN_1 Metrics\",ABC_GAN1_metrics)"
   ]
  },
  {
   "cell_type": "markdown",
   "id": "394a2b9d",
   "metadata": {
    "papermill": {
     "duration": 0.036114,
     "end_time": "2022-01-14T06:11:27.384059",
     "exception": false,
     "start_time": "2022-01-14T06:11:27.347945",
     "status": "completed"
    },
    "tags": []
   },
   "source": [
    "#### Sanity Checks "
   ]
  },
  {
   "cell_type": "code",
   "execution_count": 14,
   "id": "a36b3b22",
   "metadata": {
    "execution": {
     "iopub.execute_input": "2022-01-14T06:11:27.461317Z",
     "iopub.status.busy": "2022-01-14T06:11:27.460752Z",
     "iopub.status.idle": "2022-01-14T06:11:28.204034Z",
     "shell.execute_reply": "2022-01-14T06:11:28.204560Z"
    },
    "papermill": {
     "duration": 0.78486,
     "end_time": "2022-01-14T06:11:28.204759",
     "exception": false,
     "start_time": "2022-01-14T06:11:27.419899",
     "status": "completed"
    },
    "tags": []
   },
   "outputs": [
    {
     "data": {
      "image/png": "[encoded data removed]",
      "text/plain": [
       "<Figure size 432x288 with 1 Axes>"
      ]
     },
     "metadata": {
      "needs_background": "light"
     },
     "output_type": "display_data"
    },
    {
     "data": {
      "image/png": "[encoded data removed]",
      "text/plain": [
       "<Figure size 432x288 with 1 Axes>"
      ]
     },
     "metadata": {
      "needs_background": "light"
     },
     "output_type": "display_data"
    },
    {
     "data": {
      "image/png": "[encoded data removed]",
      "text/plain": [
       "<Figure size 432x288 with 1 Axes>"
      ]
     },
     "metadata": {
      "needs_background": "light"
     },
     "output_type": "display_data"
    },
    {
     "data": {
      "image/png": "[encoded data removed]",
      "text/plain": [
       "<Figure size 432x288 with 1 Axes>"
      ]
     },
     "metadata": {
      "needs_background": "light"
     },
     "output_type": "display_data"
    }
   ],
   "source": [
    "sanityChecks.discProbVsError(train_data,disc,device)\n",
    "sanityChecks.discProbVsError(test_data,disc,device)"
   ]
  },
  {
   "cell_type": "markdown",
   "id": "130f3a4d",
   "metadata": {
    "papermill": {
     "duration": 0.041019,
     "end_time": "2022-01-14T06:11:28.305488",
     "exception": false,
     "start_time": "2022-01-14T06:11:28.264469",
     "status": "completed"
    },
    "tags": []
   },
   "source": [
    "# ABC - GAN Model with skip connection"
   ]
  },
  {
   "cell_type": "code",
   "execution_count": 15,
   "id": "4e43dad1",
   "metadata": {
    "execution": {
     "iopub.execute_input": "2022-01-14T06:11:28.395788Z",
     "iopub.status.busy": "2022-01-14T06:11:28.395170Z",
     "iopub.status.idle": "2022-01-14T06:11:28.400225Z",
     "shell.execute_reply": "2022-01-14T06:11:28.399765Z"
    },
    "papermill": {
     "duration": 0.052997,
     "end_time": "2022-01-14T06:11:28.400382",
     "exception": false,
     "start_time": "2022-01-14T06:11:28.347385",
     "status": "completed"
    },
    "tags": []
   },
   "outputs": [],
   "source": [
    "#Generator\n",
    "gen3 = network.GeneratorWithSkipConnection(n_features+1).to(device)\n",
    "constraints=network.weightConstraint()\n",
    "#Discriminator \n",
    "disc3 = network.Discriminator(n_features+1).to(device)\n",
    "\n",
    "criterion = torch.nn.BCELoss()\n",
    "gen_opt = torch.optim.Adam(gen3.parameters(), lr=0.01, betas=(0.5, 0.999))\n",
    "disc_opt = torch.optim.Adam(disc3.parameters(), lr=0.01, betas=(0.5, 0.999))\n"
   ]
  },
  {
   "cell_type": "code",
   "execution_count": 16,
   "id": "26acbc37",
   "metadata": {
    "execution": {
     "iopub.execute_input": "2022-01-14T06:11:28.486049Z",
     "iopub.status.busy": "2022-01-14T06:11:28.485496Z",
     "iopub.status.idle": "2022-01-14T06:49:12.486790Z",
     "shell.execute_reply": "2022-01-14T06:49:12.487272Z"
    },
    "papermill": {
     "duration": 2264.045483,
     "end_time": "2022-01-14T06:49:12.487464",
     "exception": false,
     "start_time": "2022-01-14T06:11:28.441981",
     "status": "completed"
    },
    "tags": []
   },
   "outputs": [
    {
     "data": {
      "image/png": "[encoded data removed]",
      "text/plain": [
       "<Figure size 432x288 with 1 Axes>"
      ]
     },
     "metadata": {
      "needs_background": "light"
     },
     "output_type": "display_data"
    },
    {
     "data": {
      "image/png": "[encoded data removed]",
      "text/plain": [
       "<Figure size 432x288 with 1 Axes>"
      ]
     },
     "metadata": {
      "needs_background": "light"
     },
     "output_type": "display_data"
    }
   ],
   "source": [
    "ABC_train_test2.training_GAN_skip_connection(disc3,gen3,disc_opt,gen_opt,train_data,batch_size,n_epochs,criterion,prior_model,variance,device)\n"
   ]
  },
  {
   "cell_type": "code",
   "execution_count": 17,
   "id": "c5e0717b",
   "metadata": {
    "execution": {
     "iopub.execute_input": "2022-01-14T06:49:12.601192Z",
     "iopub.status.busy": "2022-01-14T06:49:12.600601Z",
     "iopub.status.idle": "2022-01-14T06:49:14.629917Z",
     "shell.execute_reply": "2022-01-14T06:49:14.629272Z"
    },
    "papermill": {
     "duration": 2.098119,
     "end_time": "2022-01-14T06:49:14.630059",
     "exception": false,
     "start_time": "2022-01-14T06:49:12.531940",
     "status": "completed"
    },
    "tags": []
   },
   "outputs": [
    {
     "data": {
      "application/scrapbook.scrap.json+json": {
       "data": 0.1801775102329768,
       "encoder": "json",
       "name": "ABC-GAN Model 3 MSE",
       "version": 1
      }
     },
     "metadata": {
      "scrapbook": {
       "data": true,
       "display": false,
       "name": "ABC-GAN Model 3 MSE"
      }
     },
     "output_type": "display_data"
    },
    {
     "data": {
      "application/scrapbook.scrap.json+json": {
       "data": 0.2577968537302998,
       "encoder": "json",
       "name": "ABC-GAN Model 3 MAE",
       "version": 1
      }
     },
     "metadata": {
      "scrapbook": {
       "data": true,
       "display": false,
       "name": "ABC-GAN Model 3 MAE"
      }
     },
     "output_type": "display_data"
    },
    {
     "data": {
      "application/scrapbook.scrap.json+json": {
       "data": 26.29527908049058,
       "encoder": "json",
       "name": "ABC-GAN Model 3 Manhattan Distance",
       "version": 1
      }
     },
     "metadata": {
      "scrapbook": {
       "data": true,
       "display": false,
       "name": "ABC-GAN Model 3 Manhattan Distance"
      }
     },
     "output_type": "display_data"
    },
    {
     "data": {
      "application/scrapbook.scrap.json+json": {
       "data": 4.2869450314124,
       "encoder": "json",
       "name": "ABC-GAN Model 3 Euclidean distance",
       "version": 1
      }
     },
     "metadata": {
      "scrapbook": {
       "data": true,
       "display": false,
       "name": "ABC-GAN Model 3 Euclidean distance"
      }
     },
     "output_type": "display_data"
    },
    {
     "data": {
      "application/scrapbook.scrap.json+json": {
       "data": [
        [
         0.17965504170544586,
         0.17995358517771598,
         0.17840628319123394,
         0.1812993984618684,
         0.18332677245872842,
         0.1794219884649765,
         0.18028499270259685,
         0.17907858061190327,
         0.18156004537150341,
         0.178988605140566,
         0.17938120013872802,
         0.1790105007860901,
         0.18017333250038903,
         0.17933832619180165,
         0.17982057224700385,
         0.18035912481860175,
         0.18183005259585502,
         0.17907247386364572,
         0.18077493481971285,
         0.18111854901139984,
         0.1798844607819182,
         0.1801930618502183,
         0.18169846634930686,
         0.1820776498170437,
         0.18006457198969847,
         0.18056104608518536,
         0.18222818902145432,
         0.179755184393902,
         0.18085115104237254,
         0.17962631974521728,
         0.1794942878143808,
         0.18098697433852728,
         0.18050246888984164,
         0.181741233139092,
         0.17788222721063068,
         0.1808231422081019,
         0.17837989855518954,
         0.1811723670526217,
         0.1794925357359833,
         0.17994779040029782,
         0.1810281386105792,
         0.17974540250268822,
         0.17976594567560403,
         0.18131816861847852,
         0.18042284950095147,
         0.17840758224692235,
         0.18032898336732114,
         0.1781541730367018,
         0.17953283051982222,
         0.17771170524218943,
         0.17966241894568252,
         0.1813724455163694,
         0.17836948119165147,
         0.18046746570422847,
         0.18044134669853143,
         0.18169063343858807,
         0.17987110748894408,
         0.1796403149734945,
         0.1793044717092114,
         0.1819864504597772,
         0.18112492128876587,
         0.17974433821017718,
         0.1811090422919697,
         0.17887757381037953,
         0.18017229121293205,
         0.18198478138121862,
         0.1785955840212988,
         0.17679797352134574,
         0.1805363100078217,
         0.1805045957071941,
         0.17856075762934778,
         0.1829979776283537,
         0.18098336178134866,
         0.1791106322327569,
         0.18114238060773183,
         0.18049253581219973,
         0.1819700905673931,
         0.1808620504526349,
         0.17835646593003185,
         0.18092165275987773,
         0.18202708600265524,
         0.1803007289174105,
         0.18018458219218028,
         0.1809320408555466,
         0.18031744260368593,
         0.1830249240309244,
         0.18067406426802396,
         0.18025217614101213,
         0.18059349368996266,
         0.18026983611396075,
         0.180789896470498,
         0.17895262217353158,
         0.1794488183220907,
         0.1803029741124927,
         0.17863444576854848,
         0.17863236685537856,
         0.17894404408089762,
         0.18050311609127676,
         0.18011692659003742,
         0.17856481903429827
        ],
        [
         0.25621423552123207,
         0.25819741314112704,
         0.25620961032451733,
         0.2586540519716401,
         0.26068163533037636,
         0.2580161756224127,
         0.25779276913232807,
         0.2574544995840566,
         0.2601397648812089,
         0.25646842623987764,
         0.25749491783562023,
         0.2562837542888398,
         0.2572587381822386,
         0.2580917322090553,
         0.25882042802906796,
         0.2578773086219478,
         0.25950239205221626,
         0.2582478231736733,
         0.25667420500323324,
         0.25741189067461984,
         0.25701173221436785,
         0.2585451491953184,
         0.2584152994700251,
         0.2601486229447319,
         0.2572184834108852,
         0.25708265176645534,
         0.256937755340272,
         0.2566390026967936,
         0.25937317768750967,
         0.258029081727442,
         0.2580963134304529,
         0.2591644957474451,
         0.2578455211421219,
         0.2570203521161103,
         0.2548694038197544,
         0.2593435534759991,
         0.25738567634321313,
         0.2604156396758067,
         0.25852176945601757,
         0.2574659315823559,
         0.2581384331969471,
         0.257188857017158,
         0.2568400714343286,
         0.2590340536211015,
         0.25829727689886245,
         0.2559927234371357,
         0.2583043688049942,
         0.2566048101426157,
         0.25818658452115806,
         0.2563865336603211,
         0.25782925064912904,
         0.25810071333384543,
         0.2553006821293749,
         0.2566542019063205,
         0.25991987548859824,
         0.2589394056133232,
         0.2577016614560111,
         0.25695924125337866,
         0.2564416552857295,
         0.25916600977093457,
         0.25811730147859846,
         0.25800692608041287,
         0.2577893662439915,
         0.25518939252851497,
         0.2578264976595985,
         0.25966020622381975,
         0.25776525228010383,
         0.25409225231337856,
         0.25831881952106805,
         0.25765054225556405,
         0.25653024752825204,
         0.26149698678751054,
         0.25823653233694094,
         0.2576320255403498,
         0.25793275745658606,
         0.2599059727006391,
         0.2587023302227916,
         0.25766935033778493,
         0.2554577176719356,
         0.2594355721547104,
         0.257831366136944,
         0.25761117079459567,
         0.2585418063818532,
         0.2590012196086201,
         0.2583061720098497,
         0.26044533117309066,
         0.25860016282611326,
         0.2566147821352762,
         0.25781742223154974,
         0.2586366131184988,
         0.2580336371788244,
         0.2584010618761657,
         0.25599515549929847,
         0.25809873147940665,
         0.25548126722923387,
         0.2570394022874169,
         0.2559221862614447,
         0.2583305331211829,
         0.2556852008576742,
         0.25686830681675643
        ],
        [
         26.133852023165673,
         26.336136140394956,
         26.133380253100768,
         26.382713301107287,
         26.58952680369839,
         26.317649913486093,
         26.294862451497465,
         26.26035895757377,
         26.53425601788331,
         26.15977947646752,
         26.264481619233266,
         26.14094293746166,
         26.240391294588335,
         26.32535668532364,
         26.399683658964932,
         26.303485479438677,
         26.46924398932606,
         26.341277963714674,
         26.18076891032979,
         26.256012848811224,
         26.21519668586552,
         26.37160521792248,
         26.35836054594256,
         26.535159540362656,
         26.236285307910293,
         26.222430480178446,
         26.207651044707745,
         26.177178275072947,
         26.456064124125987,
         26.318966336199082,
         26.325823969906196,
         26.4347785662394,
         26.300243156496435,
         26.21607591584325,
         25.99667918961495,
         26.453042454551905,
         26.253338987007737,
         26.562395246932283,
         26.36922048451379,
         26.261525021400303,
         26.330120186088607,
         26.233263415750116,
         26.197687286301516,
         26.42147346935235,
         26.34632224368397,
         26.111257790587842,
         26.347045618109405,
         26.1736906345468,
         26.335031621158123,
         26.151426433352754,
         26.298583566211164,
         26.326272760052234,
         26.04066957719624,
         26.178728594444692,
         26.511827299837023,
         26.411819372558966,
         26.28556946851313,
         26.20984260784462,
         26.15704883914441,
         26.434932996635325,
         26.327964750817046,
         26.316706460202113,
         26.294515356887132,
         26.029318037908524,
         26.298302761279047,
         26.485341034829617,
         26.29205573257059,
         25.91740973596461,
         26.348519591148943,
         26.280355310067534,
         26.16608524788171,
         26.672692652326077,
         26.340126298367977,
         26.278466605115682,
         26.309141260571778,
         26.510409215465188,
         26.387637682724744,
         26.282273734454066,
         26.056687202537432,
         26.46242835978046,
         26.29879934596829,
         26.27633942104876,
         26.371264250949025,
         26.41812440007925,
         26.347229545004666,
         26.565423779655248,
         26.377216608263552,
         26.174707777798176,
         26.297377067618072,
         26.380934538086876,
         26.319430992240086,
         26.356908311368898,
         26.111505860928446,
         26.326070610899478,
         26.059089257381856,
         26.218019033316523,
         26.10406299866736,
         26.34971437836066,
         26.07989048748277,
         26.200567295309156
        ],
        [
         4.2807492631495565,
         4.284304574622004,
         4.265845858151214,
         4.300295180927767,
         4.324272284534162,
         4.277971811901944,
         4.288247807166101,
         4.273875901616018,
         4.303385252088563,
         4.272802092811897,
         4.2774855247154555,
         4.273063430395246,
         4.286919630112009,
         4.276974312707966,
         4.282720907226432,
         4.289129367540384,
         4.306583955384733,
         4.27380302939804,
         4.294070720378358,
         4.298149834424433,
         4.283481644615237,
         4.287154336937529,
         4.305025385247954,
         4.309515086565825,
         4.285625548615889,
         4.291529645789355,
         4.311296241293138,
         4.2819421771175294,
         4.294975833031193,
         4.280407061718798,
         4.278833644472153,
         4.296588342223371,
         4.290833465279659,
         4.305531997347991,
         4.259575938457293,
         4.294643233753694,
         4.265530406951676,
         4.2987883687578075,
         4.278812761160541,
         4.284235593525452,
         4.297076929527685,
         4.281825668482335,
         4.282070347263296,
         4.300517782672781,
         4.289887020551596,
         4.265861388885729,
         4.288770954885181,
         4.262830708548439,
         4.279293015560148,
         4.257533785503448,
         4.280837153228282,
         4.301161406256417,
         4.265405851914734,
         4.2904174041497765,
         4.290106917461406,
         4.304932590730775,
         4.283322654654012,
         4.280573808182314,
         4.276570602052486,
         4.308435672828049,
         4.2982254444659045,
         4.281812991880667,
         4.298037030294284,
         4.271476621574641,
         4.2869072422574135,
         4.308415915494267,
         4.2681084299924335,
         4.2465743016197495,
         4.291235675280235,
         4.290858744136632,
         4.267692266107466,
         4.320392773590392,
         4.296545461379125,
         4.2742583552870554,
         4.298432600610209,
         4.290715401054277,
         4.3082420124540475,
         4.29510525437605,
         4.2652502300408175,
         4.295812912768377,
         4.308916658775247,
         4.288434953403849,
         4.287053461714979,
         4.295936238733735,
         4.288633715482819,
         4.320710850213688,
         4.2928725295934935,
         4.287857503040794,
         4.291915231732355,
         4.2880675465323534,
         4.294248413866016,
         4.272372579925611,
         4.278291653084587,
         4.288461654191892,
         4.26857276714266,
         4.268547928657779,
         4.272270180624296,
         4.29084115778133,
         4.2862485359791975,
         4.267740800645983
        ]
       ],
       "encoder": "json",
       "name": "ABC_GAN_3 Metrics",
       "version": 1
      }
     },
     "metadata": {
      "scrapbook": {
       "data": true,
       "display": false,
       "name": "ABC_GAN_3 Metrics"
      }
     },
     "output_type": "display_data"
    }
   ],
   "source": [
    "ABC_GAN3_metrics=ABC_train_test2.test_generator(gen3,test_data,prior_model,variance,\"3\",device)\n",
    "sb.glue(\"ABC_GAN_3 Metrics\",ABC_GAN3_metrics)"
   ]
  },
  {
   "cell_type": "code",
   "execution_count": 18,
   "id": "c8e46b48",
   "metadata": {
    "execution": {
     "iopub.execute_input": "2022-01-14T06:49:14.729555Z",
     "iopub.status.busy": "2022-01-14T06:49:14.728896Z",
     "iopub.status.idle": "2022-01-14T06:49:15.569362Z",
     "shell.execute_reply": "2022-01-14T06:49:15.568740Z"
    },
    "papermill": {
     "duration": 0.891036,
     "end_time": "2022-01-14T06:49:15.569547",
     "exception": false,
     "start_time": "2022-01-14T06:49:14.678511",
     "status": "completed"
    },
    "tags": []
   },
   "outputs": [
    {
     "data": {
      "image/png": "[encoded data removed]",
      "text/plain": [
       "<Figure size 432x288 with 1 Axes>"
      ]
     },
     "metadata": {
      "needs_background": "light"
     },
     "output_type": "display_data"
    },
    {
     "data": {
      "image/png": "[encoded data removed]",
      "text/plain": [
       "<Figure size 432x288 with 1 Axes>"
      ]
     },
     "metadata": {
      "needs_background": "light"
     },
     "output_type": "display_data"
    },
    {
     "data": {
      "image/png": "[encoded data removed]",
      "text/plain": [
       "<Figure size 432x288 with 1 Axes>"
      ]
     },
     "metadata": {
      "needs_background": "light"
     },
     "output_type": "display_data"
    },
    {
     "data": {
      "image/png": "[encoded data removed]",
      "text/plain": [
       "<Figure size 432x288 with 1 Axes>"
      ]
     },
     "metadata": {
      "needs_background": "light"
     },
     "output_type": "display_data"
    }
   ],
   "source": [
    "sanityChecks.discProbVsError(train_data,disc,device)\n",
    "sanityChecks.discProbVsError(test_data,disc3,device)"
   ]
  },
  {
   "cell_type": "markdown",
   "id": "a5bd74c3",
   "metadata": {
    "papermill": {
     "duration": 0.050198,
     "end_time": "2022-01-14T06:49:15.671776",
     "exception": false,
     "start_time": "2022-01-14T06:49:15.621578",
     "status": "completed"
    },
    "tags": []
   },
   "source": [
    "## Skip Connection Model Analysis - ABC-GAN "
   ]
  },
  {
   "cell_type": "markdown",
   "id": "5744a8bf",
   "metadata": {
    "papermill": {
     "duration": 0.050281,
     "end_time": "2022-01-14T06:49:15.772514",
     "exception": false,
     "start_time": "2022-01-14T06:49:15.722233",
     "status": "completed"
    },
    "tags": []
   },
   "source": [
    "### Weight Analysis \n",
    "\n",
    "Study the weights of the skip connection layer\n",
    "\n",
    "Equation of the skip connection is \n",
    "\n",
    "$output = y_{gan} * w + y_{abc} * (1-w)$"
   ]
  },
  {
   "cell_type": "code",
   "execution_count": 19,
   "id": "52c31dea",
   "metadata": {
    "execution": {
     "iopub.execute_input": "2022-01-14T06:49:15.879692Z",
     "iopub.status.busy": "2022-01-14T06:49:15.879051Z",
     "iopub.status.idle": "2022-01-14T06:49:15.909939Z",
     "shell.execute_reply": "2022-01-14T06:49:15.909468Z"
    },
    "papermill": {
     "duration": 0.086187,
     "end_time": "2022-01-14T06:49:15.910067",
     "exception": false,
     "start_time": "2022-01-14T06:49:15.823880",
     "status": "completed"
    },
    "tags": []
   },
   "outputs": [
    {
     "name": "stdout",
     "output_type": "stream",
     "text": [
      "Weight of the node at skip connection\n",
      "Parameter containing:\n",
      "tensor([[0.9959]], device='cuda:0', requires_grad=True)\n"
     ]
    },
    {
     "data": {
      "application/scrapbook.scrap.json+json": {
       "data": 0.9958823323249817,
       "encoder": "json",
       "name": "Skip Connection Weight",
       "version": 1
      }
     },
     "metadata": {
      "scrapbook": {
       "data": true,
       "display": false,
       "name": "Skip Connection Weight"
      }
     },
     "output_type": "display_data"
    }
   ],
   "source": [
    "print(\"Weight of the node at skip connection\")\n",
    "for name,param in gen3.named_parameters():\n",
    "    if(name == \"skipNode.weight\"):\n",
    "        print(param)\n",
    "        sb.glue(\"Skip Connection Weight\",param.item())"
   ]
  }
 ],
 "metadata": {
  "interpreter": {
   "hash": "10498c76ddd8160350534c6544a2b2fb65f2138dbc70420f7c81a3268f830f23"
  },
  "kernelspec": {
   "display_name": "papermill-tutorial",
   "language": "python",
   "name": "python3"
  },
  "language_info": {
   "codemirror_mode": {
    "name": "ipython",
    "version": 3
   },
   "file_extension": ".py",
   "mimetype": "text/x-python",
   "name": "python",
   "nbconvert_exporter": "python",
   "pygments_lexer": "ipython3",
   "version": "3.7.12"
  },
  "papermill": {
   "default_parameters": {},
   "duration": 2633.168859,
   "end_time": "2022-01-14T06:49:17.376466",
   "environment_variables": {},
   "exception": null,
   "input_path": "ABC_GAN_Model-Catboost_Pre-gen.ipynb",
   "output_path": "./ABC_GAN_Output/ABC-GAN_output_1_0.ipynb",
   "parameters": {
    "variance": 1
   },
   "start_time": "2022-01-14T06:05:24.207607",
   "version": "2.3.3"
  }
 },
 "nbformat": 4,
 "nbformat_minor": 5
}