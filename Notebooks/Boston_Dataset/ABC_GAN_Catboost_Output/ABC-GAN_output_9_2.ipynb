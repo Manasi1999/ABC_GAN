{
 "cells": [
  {
   "cell_type": "markdown",
   "id": "622780e6",
   "metadata": {
    "papermill": {
     "duration": 0.026146,
     "end_time": "2022-01-15T11:11:59.242563",
     "exception": false,
     "start_time": "2022-01-15T11:11:59.216417",
     "status": "completed"
    },
    "tags": []
   },
   "source": [
    "## Import Libraries "
   ]
  },
  {
   "cell_type": "code",
   "execution_count": 1,
   "id": "a62397e3",
   "metadata": {
    "execution": {
     "iopub.execute_input": "2022-01-15T11:11:59.299385Z",
     "iopub.status.busy": "2022-01-15T11:11:59.298687Z",
     "iopub.status.idle": "2022-01-15T11:11:59.302016Z",
     "shell.execute_reply": "2022-01-15T11:11:59.301265Z"
    },
    "papermill": {
     "duration": 0.035307,
     "end_time": "2022-01-15T11:11:59.302219",
     "exception": false,
     "start_time": "2022-01-15T11:11:59.266912",
     "status": "completed"
    },
    "tags": []
   },
   "outputs": [],
   "source": [
    "import warnings\n",
    "import sys\n",
    "sys.path.insert(0, '../../src')\n",
    "warnings.filterwarnings('ignore')"
   ]
  },
  {
   "cell_type": "code",
   "execution_count": 2,
   "id": "d6a4e155",
   "metadata": {
    "execution": {
     "iopub.execute_input": "2022-01-15T11:11:59.359931Z",
     "iopub.status.busy": "2022-01-15T11:11:59.359214Z",
     "iopub.status.idle": "2022-01-15T11:12:01.062667Z",
     "shell.execute_reply": "2022-01-15T11:12:01.062092Z"
    },
    "papermill": {
     "duration": 1.736187,
     "end_time": "2022-01-15T11:12:01.062918",
     "exception": false,
     "start_time": "2022-01-15T11:11:59.326731",
     "status": "completed"
    },
    "tags": []
   },
   "outputs": [],
   "source": [
    "import ABC_train_test2\n",
    "import bostonDataset\n",
    "import network\n",
    "import dataset\n",
    "import sanityChecks\n",
    "import performanceMetrics\n",
    "import torch \n",
    "from torch.utils.data import random_split \n",
    "import scrapbook as sb\n",
    "from statistics import mean \n",
    "import catboost as ctb \n",
    "from sklearn.model_selection import train_test_split\n",
    "from sklearn.metrics import mean_squared_error\n",
    "import numpy as np"
   ]
  },
  {
   "cell_type": "markdown",
   "id": "2fa5b0f7",
   "metadata": {
    "papermill": {
     "duration": 0.02419,
     "end_time": "2022-01-15T11:12:01.111343",
     "exception": false,
     "start_time": "2022-01-15T11:12:01.087153",
     "status": "completed"
    },
    "tags": []
   },
   "source": [
    "## Parameters "
   ]
  },
  {
   "cell_type": "code",
   "execution_count": 3,
   "id": "783186fb",
   "metadata": {
    "execution": {
     "iopub.execute_input": "2022-01-15T11:12:01.183259Z",
     "iopub.status.busy": "2022-01-15T11:12:01.182282Z",
     "iopub.status.idle": "2022-01-15T11:12:01.184608Z",
     "shell.execute_reply": "2022-01-15T11:12:01.185105Z"
    },
    "papermill": {
     "duration": 0.049131,
     "end_time": "2022-01-15T11:12:01.185284",
     "exception": false,
     "start_time": "2022-01-15T11:12:01.136153",
     "status": "completed"
    },
    "tags": [
     "parameters"
    ]
   },
   "outputs": [],
   "source": [
    "variance = 1"
   ]
  },
  {
   "cell_type": "code",
   "execution_count": 4,
   "id": "46b254ea",
   "metadata": {
    "execution": {
     "iopub.execute_input": "2022-01-15T11:12:01.237433Z",
     "iopub.status.busy": "2022-01-15T11:12:01.236443Z",
     "iopub.status.idle": "2022-01-15T11:12:01.239311Z",
     "shell.execute_reply": "2022-01-15T11:12:01.238790Z"
    },
    "papermill": {
     "duration": 0.029836,
     "end_time": "2022-01-15T11:12:01.239445",
     "exception": false,
     "start_time": "2022-01-15T11:12:01.209609",
     "status": "completed"
    },
    "tags": [
     "injected-parameters"
    ]
   },
   "outputs": [],
   "source": [
    "# Parameters\n",
    "variance = 0.01\n"
   ]
  },
  {
   "cell_type": "markdown",
   "id": "391cdbfd",
   "metadata": {
    "papermill": {
     "duration": 0.023602,
     "end_time": "2022-01-15T11:12:01.285995",
     "exception": false,
     "start_time": "2022-01-15T11:12:01.262393",
     "status": "completed"
    },
    "tags": []
   },
   "source": [
    "## Dataset - Boston Housing "
   ]
  },
  {
   "cell_type": "code",
   "execution_count": 5,
   "id": "5b51f161",
   "metadata": {
    "execution": {
     "iopub.execute_input": "2022-01-15T11:12:01.339288Z",
     "iopub.status.busy": "2022-01-15T11:12:01.338661Z",
     "iopub.status.idle": "2022-01-15T11:12:01.341838Z",
     "shell.execute_reply": "2022-01-15T11:12:01.341219Z"
    },
    "papermill": {
     "duration": 0.031279,
     "end_time": "2022-01-15T11:12:01.341980",
     "exception": false,
     "start_time": "2022-01-15T11:12:01.310701",
     "status": "completed"
    },
    "tags": []
   },
   "outputs": [],
   "source": [
    "#Parameters \n",
    "n_features = 13\n",
    "n_samples= 506\n",
    "n_target = 1 "
   ]
  },
  {
   "cell_type": "code",
   "execution_count": 6,
   "id": "5d6eced4",
   "metadata": {
    "execution": {
     "iopub.execute_input": "2022-01-15T11:12:01.394449Z",
     "iopub.status.busy": "2022-01-15T11:12:01.393790Z",
     "iopub.status.idle": "2022-01-15T11:12:01.429206Z",
     "shell.execute_reply": "2022-01-15T11:12:01.428547Z"
    },
    "papermill": {
     "duration": 0.064243,
     "end_time": "2022-01-15T11:12:01.429366",
     "exception": false,
     "start_time": "2022-01-15T11:12:01.365123",
     "status": "completed"
    },
    "tags": []
   },
   "outputs": [
    {
     "name": "stdout",
     "output_type": "stream",
     "text": [
      "         X1        X2        X3        X4        X5        X6        X7        X8        X9       X10       X11       X12       X13         Y\n",
      "0 -0.419782  0.284830 -1.287909 -0.272599 -0.144217  0.413672 -0.120013  0.140214 -0.982843 -0.666608 -1.459000  0.441052 -1.075562  0.159686\n",
      "1 -0.417339 -0.487722 -0.593381 -0.272599 -0.740262  0.194274  0.367166  0.557160 -0.867883 -0.987329 -0.303094  0.441052 -0.492439 -0.101524\n",
      "2 -0.417342 -0.487722 -0.593381 -0.272599 -0.740262  1.282714 -0.265812  0.557160 -0.867883 -0.987329 -0.303094  0.396427 -1.208727  1.324247\n",
      "3 -0.416750 -0.487722 -1.306878 -0.272599 -0.835284  1.016303 -0.809889  1.077737 -0.752922 -1.106115  0.113032  0.416163 -1.361517  1.182758\n",
      "4 -0.412482 -0.487722 -1.306878 -0.272599 -0.835284  1.228577 -0.511180  1.077737 -0.752922 -1.106115  0.113032  0.441052 -1.026501  1.487503\n"
     ]
    }
   ],
   "source": [
    "X,Y = bostonDataset.boston_data()"
   ]
  },
  {
   "cell_type": "code",
   "execution_count": 7,
   "id": "fe007438",
   "metadata": {
    "execution": {
     "iopub.execute_input": "2022-01-15T11:12:01.485660Z",
     "iopub.status.busy": "2022-01-15T11:12:01.485046Z",
     "iopub.status.idle": "2022-01-15T11:12:01.488098Z",
     "shell.execute_reply": "2022-01-15T11:12:01.487597Z"
    },
    "papermill": {
     "duration": 0.032967,
     "end_time": "2022-01-15T11:12:01.488258",
     "exception": false,
     "start_time": "2022-01-15T11:12:01.455291",
     "status": "completed"
    },
    "tags": []
   },
   "outputs": [],
   "source": [
    "#Train test split for dataset \n",
    "X_train,X_test,Y_train,Y_test = train_test_split(X,Y,test_size = 0.2)\n",
    "train_data = dataset.CustomDataset(X_train,Y_train)\n",
    "test_data = dataset.CustomDataset(X_test,Y_test)\n"
   ]
  },
  {
   "cell_type": "markdown",
   "id": "a9a1af34",
   "metadata": {
    "papermill": {
     "duration": 0.025037,
     "end_time": "2022-01-15T11:12:01.537475",
     "exception": false,
     "start_time": "2022-01-15T11:12:01.512438",
     "status": "completed"
    },
    "tags": []
   },
   "source": [
    "## Training Parameters \n",
    "\n"
   ]
  },
  {
   "cell_type": "code",
   "execution_count": 8,
   "id": "952b7fc8",
   "metadata": {
    "execution": {
     "iopub.execute_input": "2022-01-15T11:12:01.611321Z",
     "iopub.status.busy": "2022-01-15T11:12:01.610647Z",
     "iopub.status.idle": "2022-01-15T11:12:01.613076Z",
     "shell.execute_reply": "2022-01-15T11:12:01.612558Z"
    },
    "papermill": {
     "duration": 0.050868,
     "end_time": "2022-01-15T11:12:01.613253",
     "exception": false,
     "start_time": "2022-01-15T11:12:01.562385",
     "status": "completed"
    },
    "tags": []
   },
   "outputs": [],
   "source": [
    "batch_size = 64\n",
    "n_epochs = 5000\n",
    "#Select the device \n",
    "device = torch.device('cuda' if torch.cuda.is_available() else 'cpu')"
   ]
  },
  {
   "cell_type": "markdown",
   "id": "a95e1600",
   "metadata": {
    "papermill": {
     "duration": 0.029377,
     "end_time": "2022-01-15T11:12:01.668758",
     "exception": false,
     "start_time": "2022-01-15T11:12:01.639381",
     "status": "completed"
    },
    "tags": []
   },
   "source": [
    "# ABC Pre-generator Model \n",
    "\n",
    "1. The catboost model is used as a pre-generator model for the ABC-GAN. \n",
    "2. The model is first trained on the train dataset \n",
    "3. It generats X,Y pairs and we add some Gaussian noise with mean 0 and variance V (1,0.01,0.1) to it which is then feed as input to the generator.\n"
   ]
  },
  {
   "cell_type": "code",
   "execution_count": 9,
   "id": "ff8ce7bd",
   "metadata": {
    "execution": {
     "iopub.execute_input": "2022-01-15T11:12:01.737837Z",
     "iopub.status.busy": "2022-01-15T11:12:01.737022Z",
     "iopub.status.idle": "2022-01-15T11:12:03.403820Z",
     "shell.execute_reply": "2022-01-15T11:12:03.404325Z"
    },
    "papermill": {
     "duration": 1.710719,
     "end_time": "2022-01-15T11:12:03.404553",
     "exception": false,
     "start_time": "2022-01-15T11:12:01.693834",
     "status": "completed"
    },
    "tags": []
   },
   "outputs": [
    {
     "name": "stdout",
     "output_type": "stream",
     "text": [
      "Learning rate set to 0.03548\n",
      "0:\tlearn: 0.9755614\ttotal: 47.5ms\tremaining: 47.4s\n",
      "1:\tlearn: 0.9557785\ttotal: 48.5ms\tremaining: 24.2s\n",
      "2:\tlearn: 0.9358659\ttotal: 49.5ms\tremaining: 16.5s\n",
      "3:\tlearn: 0.9189687\ttotal: 50.6ms\tremaining: 12.6s\n",
      "4:\tlearn: 0.8980944\ttotal: 51.6ms\tremaining: 10.3s\n",
      "5:\tlearn: 0.8836369\ttotal: 52.7ms\tremaining: 8.72s\n",
      "6:\tlearn: 0.8655406\ttotal: 53.7ms\tremaining: 7.61s\n",
      "7:\tlearn: 0.8489420\ttotal: 54.7ms\tremaining: 6.78s\n",
      "8:\tlearn: 0.8323514\ttotal: 55.7ms\tremaining: 6.13s\n",
      "9:\tlearn: 0.8161990\ttotal: 56.8ms\tremaining: 5.62s\n",
      "10:\tlearn: 0.8006319\ttotal: 57.8ms\tremaining: 5.19s\n",
      "11:\tlearn: 0.7844541\ttotal: 58.8ms\tremaining: 4.84s\n",
      "12:\tlearn: 0.7683061\ttotal: 59.9ms\tremaining: 4.54s\n",
      "13:\tlearn: 0.7525097\ttotal: 60.9ms\tremaining: 4.29s\n",
      "14:\tlearn: 0.7403869\ttotal: 62ms\tremaining: 4.07s\n",
      "15:\tlearn: 0.7259850\ttotal: 63ms\tremaining: 3.87s\n",
      "16:\tlearn: 0.7134992\ttotal: 64.1ms\tremaining: 3.7s\n",
      "17:\tlearn: 0.6999679\ttotal: 65.1ms\tremaining: 3.55s\n",
      "18:\tlearn: 0.6879390\ttotal: 66ms\tremaining: 3.41s\n",
      "19:\tlearn: 0.6748315\ttotal: 67ms\tremaining: 3.28s\n",
      "20:\tlearn: 0.6609559\ttotal: 68ms\tremaining: 3.17s\n",
      "21:\tlearn: 0.6505019\ttotal: 69.1ms\tremaining: 3.07s\n",
      "22:\tlearn: 0.6396265\ttotal: 70.2ms\tremaining: 2.98s\n",
      "23:\tlearn: 0.6296734\ttotal: 71.2ms\tremaining: 2.9s\n",
      "24:\tlearn: 0.6189740\ttotal: 72.2ms\tremaining: 2.82s\n",
      "25:\tlearn: 0.6102049\ttotal: 73.3ms\tremaining: 2.75s\n",
      "26:\tlearn: 0.6011038\ttotal: 74.3ms\tremaining: 2.68s\n",
      "27:\tlearn: 0.5926953\ttotal: 75.3ms\tremaining: 2.61s\n",
      "28:\tlearn: 0.5829640\ttotal: 76.2ms\tremaining: 2.55s\n",
      "29:\tlearn: 0.5736277\ttotal: 77.2ms\tremaining: 2.5s\n",
      "30:\tlearn: 0.5653071\ttotal: 78.3ms\tremaining: 2.44s\n",
      "31:\tlearn: 0.5568807\ttotal: 79.4ms\tremaining: 2.4s\n",
      "32:\tlearn: 0.5499944\ttotal: 80.3ms\tremaining: 2.35s\n",
      "33:\tlearn: 0.5424430\ttotal: 81.3ms\tremaining: 2.31s\n",
      "34:\tlearn: 0.5352301\ttotal: 82.3ms\tremaining: 2.27s\n",
      "35:\tlearn: 0.5281884\ttotal: 83.3ms\tremaining: 2.23s\n",
      "36:\tlearn: 0.5215959\ttotal: 84.3ms\tremaining: 2.19s\n",
      "37:\tlearn: 0.5137430\ttotal: 85.3ms\tremaining: 2.16s\n",
      "38:\tlearn: 0.5068381\ttotal: 86.3ms\tremaining: 2.13s\n",
      "39:\tlearn: 0.4991547\ttotal: 87.3ms\tremaining: 2.09s\n",
      "40:\tlearn: 0.4928368\ttotal: 88.2ms\tremaining: 2.06s\n",
      "41:\tlearn: 0.4859403\ttotal: 89.1ms\tremaining: 2.03s\n",
      "42:\tlearn: 0.4810035\ttotal: 90ms\tremaining: 2s\n",
      "43:\tlearn: 0.4759313\ttotal: 91ms\tremaining: 1.98s\n",
      "44:\tlearn: 0.4690829\ttotal: 92ms\tremaining: 1.95s\n",
      "45:\tlearn: 0.4638261\ttotal: 93ms\tremaining: 1.93s\n",
      "46:\tlearn: 0.4590598\ttotal: 94ms\tremaining: 1.91s\n",
      "47:\tlearn: 0.4534900\ttotal: 95ms\tremaining: 1.88s\n",
      "48:\tlearn: 0.4487939\ttotal: 95.9ms\tremaining: 1.86s\n",
      "49:\tlearn: 0.4435183\ttotal: 96.9ms\tremaining: 1.84s\n",
      "50:\tlearn: 0.4384140\ttotal: 97.8ms\tremaining: 1.82s\n",
      "51:\tlearn: 0.4340357\ttotal: 98.9ms\tremaining: 1.8s\n",
      "52:\tlearn: 0.4285826\ttotal: 99.9ms\tremaining: 1.78s\n",
      "53:\tlearn: 0.4254291\ttotal: 101ms\tremaining: 1.76s\n",
      "54:\tlearn: 0.4210577\ttotal: 102ms\tremaining: 1.74s\n",
      "55:\tlearn: 0.4168895\ttotal: 102ms\tremaining: 1.73s\n",
      "56:\tlearn: 0.4121956\ttotal: 103ms\tremaining: 1.71s\n",
      "57:\tlearn: 0.4079625\ttotal: 105ms\tremaining: 1.7s\n",
      "58:\tlearn: 0.4046000\ttotal: 105ms\tremaining: 1.68s\n",
      "59:\tlearn: 0.4010472\ttotal: 106ms\tremaining: 1.67s\n",
      "60:\tlearn: 0.3969921\ttotal: 107ms\tremaining: 1.65s\n",
      "61:\tlearn: 0.3933203\ttotal: 108ms\tremaining: 1.64s\n",
      "62:\tlearn: 0.3903542\ttotal: 109ms\tremaining: 1.63s\n",
      "63:\tlearn: 0.3867141\ttotal: 111ms\tremaining: 1.62s\n",
      "64:\tlearn: 0.3839526\ttotal: 111ms\tremaining: 1.6s\n",
      "65:\tlearn: 0.3811865\ttotal: 112ms\tremaining: 1.59s\n",
      "66:\tlearn: 0.3779933\ttotal: 113ms\tremaining: 1.58s\n",
      "67:\tlearn: 0.3748915\ttotal: 114ms\tremaining: 1.57s\n",
      "68:\tlearn: 0.3720077\ttotal: 115ms\tremaining: 1.56s\n",
      "69:\tlearn: 0.3694205\ttotal: 116ms\tremaining: 1.54s\n",
      "70:\tlearn: 0.3656013\ttotal: 117ms\tremaining: 1.53s\n",
      "71:\tlearn: 0.3627702\ttotal: 118ms\tremaining: 1.52s\n",
      "72:\tlearn: 0.3599430\ttotal: 119ms\tremaining: 1.51s\n",
      "73:\tlearn: 0.3569722\ttotal: 120ms\tremaining: 1.51s\n",
      "74:\tlearn: 0.3551806\ttotal: 121ms\tremaining: 1.5s\n",
      "75:\tlearn: 0.3527542\ttotal: 122ms\tremaining: 1.49s\n",
      "76:\tlearn: 0.3494312\ttotal: 123ms\tremaining: 1.48s\n",
      "77:\tlearn: 0.3471464\ttotal: 124ms\tremaining: 1.47s\n",
      "78:\tlearn: 0.3443173\ttotal: 126ms\tremaining: 1.46s\n",
      "79:\tlearn: 0.3424045\ttotal: 127ms\tremaining: 1.46s\n",
      "80:\tlearn: 0.3399724\ttotal: 128ms\tremaining: 1.45s\n",
      "81:\tlearn: 0.3374418\ttotal: 129ms\tremaining: 1.44s\n",
      "82:\tlearn: 0.3357814\ttotal: 130ms\tremaining: 1.43s\n",
      "83:\tlearn: 0.3334790\ttotal: 131ms\tremaining: 1.43s\n",
      "84:\tlearn: 0.3313348\ttotal: 132ms\tremaining: 1.42s\n",
      "85:\tlearn: 0.3294096\ttotal: 133ms\tremaining: 1.41s\n",
      "86:\tlearn: 0.3280102\ttotal: 134ms\tremaining: 1.41s\n",
      "87:\tlearn: 0.3258922\ttotal: 135ms\tremaining: 1.4s\n",
      "88:\tlearn: 0.3241594\ttotal: 136ms\tremaining: 1.39s\n",
      "89:\tlearn: 0.3223877\ttotal: 137ms\tremaining: 1.39s\n",
      "90:\tlearn: 0.3205222\ttotal: 138ms\tremaining: 1.38s\n",
      "91:\tlearn: 0.3188469\ttotal: 139ms\tremaining: 1.37s\n",
      "92:\tlearn: 0.3173912\ttotal: 140ms\tremaining: 1.37s\n",
      "93:\tlearn: 0.3153497\ttotal: 141ms\tremaining: 1.36s\n",
      "94:\tlearn: 0.3135369\ttotal: 142ms\tremaining: 1.35s\n"
     ]
    },
    {
     "name": "stdout",
     "output_type": "stream",
     "text": [
      "95:\tlearn: 0.3130133\ttotal: 144ms\tremaining: 1.35s\n",
      "96:\tlearn: 0.3117096\ttotal: 145ms\tremaining: 1.35s\n",
      "97:\tlearn: 0.3106511\ttotal: 146ms\tremaining: 1.34s\n",
      "98:\tlearn: 0.3093076\ttotal: 147ms\tremaining: 1.34s\n",
      "99:\tlearn: 0.3078453\ttotal: 148ms\tremaining: 1.33s\n",
      "100:\tlearn: 0.3070225\ttotal: 149ms\tremaining: 1.33s\n",
      "101:\tlearn: 0.3051694\ttotal: 150ms\tremaining: 1.32s\n",
      "102:\tlearn: 0.3037966\ttotal: 151ms\tremaining: 1.32s\n",
      "103:\tlearn: 0.3026450\ttotal: 153ms\tremaining: 1.31s\n",
      "104:\tlearn: 0.3008832\ttotal: 154ms\tremaining: 1.31s\n",
      "105:\tlearn: 0.2992000\ttotal: 155ms\tremaining: 1.3s\n",
      "106:\tlearn: 0.2975004\ttotal: 156ms\tremaining: 1.3s\n",
      "107:\tlearn: 0.2964009\ttotal: 157ms\tremaining: 1.29s\n",
      "108:\tlearn: 0.2952250\ttotal: 158ms\tremaining: 1.29s\n",
      "109:\tlearn: 0.2944371\ttotal: 159ms\tremaining: 1.28s\n",
      "110:\tlearn: 0.2936600\ttotal: 160ms\tremaining: 1.28s\n",
      "111:\tlearn: 0.2924746\ttotal: 161ms\tremaining: 1.27s\n",
      "112:\tlearn: 0.2914875\ttotal: 162ms\tremaining: 1.27s\n",
      "113:\tlearn: 0.2899339\ttotal: 163ms\tremaining: 1.26s\n",
      "114:\tlearn: 0.2887324\ttotal: 164ms\tremaining: 1.26s\n",
      "115:\tlearn: 0.2879046\ttotal: 165ms\tremaining: 1.26s\n",
      "116:\tlearn: 0.2863480\ttotal: 166ms\tremaining: 1.25s\n",
      "117:\tlearn: 0.2855205\ttotal: 167ms\tremaining: 1.25s\n",
      "118:\tlearn: 0.2839840\ttotal: 168ms\tremaining: 1.25s\n",
      "119:\tlearn: 0.2828394\ttotal: 169ms\tremaining: 1.24s\n",
      "120:\tlearn: 0.2819834\ttotal: 170ms\tremaining: 1.24s\n",
      "121:\tlearn: 0.2811218\ttotal: 171ms\tremaining: 1.23s\n",
      "122:\tlearn: 0.2798284\ttotal: 172ms\tremaining: 1.23s\n",
      "123:\tlearn: 0.2785060\ttotal: 173ms\tremaining: 1.23s\n",
      "124:\tlearn: 0.2776068\ttotal: 174ms\tremaining: 1.22s\n",
      "125:\tlearn: 0.2762354\ttotal: 175ms\tremaining: 1.22s\n",
      "126:\tlearn: 0.2742172\ttotal: 176ms\tremaining: 1.21s\n",
      "127:\tlearn: 0.2735382\ttotal: 177ms\tremaining: 1.21s\n",
      "128:\tlearn: 0.2719514\ttotal: 178ms\tremaining: 1.21s\n",
      "129:\tlearn: 0.2710107\ttotal: 179ms\tremaining: 1.2s\n",
      "130:\tlearn: 0.2701602\ttotal: 181ms\tremaining: 1.2s\n",
      "131:\tlearn: 0.2692664\ttotal: 181ms\tremaining: 1.19s\n",
      "132:\tlearn: 0.2683896\ttotal: 182ms\tremaining: 1.19s\n",
      "133:\tlearn: 0.2680905\ttotal: 183ms\tremaining: 1.19s\n",
      "134:\tlearn: 0.2672954\ttotal: 184ms\tremaining: 1.18s\n",
      "135:\tlearn: 0.2664143\ttotal: 185ms\tremaining: 1.18s\n",
      "136:\tlearn: 0.2658026\ttotal: 186ms\tremaining: 1.17s\n",
      "137:\tlearn: 0.2646795\ttotal: 187ms\tremaining: 1.17s\n",
      "138:\tlearn: 0.2635017\ttotal: 188ms\tremaining: 1.17s\n",
      "139:\tlearn: 0.2627308\ttotal: 189ms\tremaining: 1.16s\n",
      "140:\tlearn: 0.2619116\ttotal: 190ms\tremaining: 1.16s\n",
      "141:\tlearn: 0.2612044\ttotal: 191ms\tremaining: 1.16s\n",
      "142:\tlearn: 0.2603162\ttotal: 192ms\tremaining: 1.15s\n",
      "143:\tlearn: 0.2595677\ttotal: 193ms\tremaining: 1.15s\n",
      "144:\tlearn: 0.2587431\ttotal: 195ms\tremaining: 1.15s\n",
      "145:\tlearn: 0.2576858\ttotal: 196ms\tremaining: 1.14s\n",
      "146:\tlearn: 0.2573197\ttotal: 197ms\tremaining: 1.14s\n",
      "147:\tlearn: 0.2567907\ttotal: 198ms\tremaining: 1.14s\n",
      "148:\tlearn: 0.2557656\ttotal: 199ms\tremaining: 1.13s\n",
      "149:\tlearn: 0.2552141\ttotal: 200ms\tremaining: 1.13s\n",
      "150:\tlearn: 0.2545598\ttotal: 201ms\tremaining: 1.13s\n",
      "151:\tlearn: 0.2537829\ttotal: 202ms\tremaining: 1.13s\n",
      "152:\tlearn: 0.2532084\ttotal: 203ms\tremaining: 1.12s\n",
      "153:\tlearn: 0.2526368\ttotal: 204ms\tremaining: 1.12s\n",
      "154:\tlearn: 0.2521316\ttotal: 205ms\tremaining: 1.12s\n",
      "155:\tlearn: 0.2510711\ttotal: 206ms\tremaining: 1.11s\n",
      "156:\tlearn: 0.2502093\ttotal: 207ms\tremaining: 1.11s\n",
      "157:\tlearn: 0.2493909\ttotal: 208ms\tremaining: 1.11s\n",
      "158:\tlearn: 0.2488968\ttotal: 209ms\tremaining: 1.1s\n",
      "159:\tlearn: 0.2481265\ttotal: 210ms\tremaining: 1.1s\n",
      "160:\tlearn: 0.2473186\ttotal: 211ms\tremaining: 1.1s\n",
      "161:\tlearn: 0.2470698\ttotal: 212ms\tremaining: 1.1s\n",
      "162:\tlearn: 0.2464964\ttotal: 213ms\tremaining: 1.09s\n",
      "163:\tlearn: 0.2458166\ttotal: 214ms\tremaining: 1.09s\n",
      "164:\tlearn: 0.2449882\ttotal: 215ms\tremaining: 1.09s\n",
      "165:\tlearn: 0.2442373\ttotal: 216ms\tremaining: 1.08s\n",
      "166:\tlearn: 0.2436864\ttotal: 217ms\tremaining: 1.08s\n",
      "167:\tlearn: 0.2432200\ttotal: 218ms\tremaining: 1.08s\n",
      "168:\tlearn: 0.2427783\ttotal: 219ms\tremaining: 1.08s\n",
      "169:\tlearn: 0.2420315\ttotal: 220ms\tremaining: 1.07s\n",
      "170:\tlearn: 0.2414770\ttotal: 221ms\tremaining: 1.07s\n",
      "171:\tlearn: 0.2409527\ttotal: 222ms\tremaining: 1.07s\n",
      "172:\tlearn: 0.2404719\ttotal: 223ms\tremaining: 1.07s\n",
      "173:\tlearn: 0.2399598\ttotal: 224ms\tremaining: 1.06s\n",
      "174:\tlearn: 0.2388595\ttotal: 225ms\tremaining: 1.06s\n",
      "175:\tlearn: 0.2383021\ttotal: 226ms\tremaining: 1.06s\n",
      "176:\tlearn: 0.2378463\ttotal: 227ms\tremaining: 1.06s\n",
      "177:\tlearn: 0.2372277\ttotal: 228ms\tremaining: 1.05s\n",
      "178:\tlearn: 0.2365482\ttotal: 229ms\tremaining: 1.05s\n",
      "179:\tlearn: 0.2359461\ttotal: 230ms\tremaining: 1.05s\n",
      "180:\tlearn: 0.2355885\ttotal: 231ms\tremaining: 1.05s\n",
      "181:\tlearn: 0.2349513\ttotal: 232ms\tremaining: 1.04s\n",
      "182:\tlearn: 0.2344611\ttotal: 233ms\tremaining: 1.04s\n",
      "183:\tlearn: 0.2337848\ttotal: 234ms\tremaining: 1.04s\n",
      "184:\tlearn: 0.2328734\ttotal: 235ms\tremaining: 1.04s\n",
      "185:\tlearn: 0.2321987\ttotal: 236ms\tremaining: 1.03s\n",
      "186:\tlearn: 0.2315162\ttotal: 237ms\tremaining: 1.03s\n",
      "187:\tlearn: 0.2310552\ttotal: 238ms\tremaining: 1.03s\n",
      "188:\tlearn: 0.2305128\ttotal: 239ms\tremaining: 1.03s\n",
      "189:\tlearn: 0.2297330\ttotal: 240ms\tremaining: 1.02s\n",
      "190:\tlearn: 0.2288789\ttotal: 241ms\tremaining: 1.02s\n",
      "191:\tlearn: 0.2285942\ttotal: 242ms\tremaining: 1.02s\n",
      "192:\tlearn: 0.2280661\ttotal: 243ms\tremaining: 1.02s\n",
      "193:\tlearn: 0.2276893\ttotal: 244ms\tremaining: 1.01s\n",
      "194:\tlearn: 0.2272946\ttotal: 245ms\tremaining: 1.01s\n",
      "195:\tlearn: 0.2268703\ttotal: 246ms\tremaining: 1.01s\n",
      "196:\tlearn: 0.2264258\ttotal: 247ms\tremaining: 1.01s\n",
      "197:\tlearn: 0.2258200\ttotal: 248ms\tremaining: 1.01s\n",
      "198:\tlearn: 0.2253477\ttotal: 250ms\tremaining: 1s\n",
      "199:\tlearn: 0.2247070\ttotal: 251ms\tremaining: 1s\n",
      "200:\tlearn: 0.2241704\ttotal: 252ms\tremaining: 1000ms\n",
      "201:\tlearn: 0.2238431\ttotal: 253ms\tremaining: 998ms\n",
      "202:\tlearn: 0.2233383\ttotal: 254ms\tremaining: 996ms\n",
      "203:\tlearn: 0.2225172\ttotal: 255ms\tremaining: 994ms\n",
      "204:\tlearn: 0.2220453\ttotal: 256ms\tremaining: 991ms\n",
      "205:\tlearn: 0.2216368\ttotal: 257ms\tremaining: 989ms\n",
      "206:\tlearn: 0.2209951\ttotal: 258ms\tremaining: 987ms\n",
      "207:\tlearn: 0.2205839\ttotal: 259ms\tremaining: 984ms\n",
      "208:\tlearn: 0.2200049\ttotal: 260ms\tremaining: 982ms\n",
      "209:\tlearn: 0.2194469\ttotal: 261ms\tremaining: 980ms\n",
      "210:\tlearn: 0.2187132\ttotal: 262ms\tremaining: 978ms\n",
      "211:\tlearn: 0.2180786\ttotal: 263ms\tremaining: 976ms\n",
      "212:\tlearn: 0.2178720\ttotal: 263ms\tremaining: 974ms\n",
      "213:\tlearn: 0.2171859\ttotal: 265ms\tremaining: 972ms\n",
      "214:\tlearn: 0.2166163\ttotal: 266ms\tremaining: 969ms\n",
      "215:\tlearn: 0.2159305\ttotal: 267ms\tremaining: 968ms\n",
      "216:\tlearn: 0.2153363\ttotal: 268ms\tremaining: 966ms\n",
      "217:\tlearn: 0.2149102\ttotal: 269ms\tremaining: 964ms\n",
      "218:\tlearn: 0.2143039\ttotal: 270ms\tremaining: 962ms\n",
      "219:\tlearn: 0.2136527\ttotal: 271ms\tremaining: 960ms\n",
      "220:\tlearn: 0.2132019\ttotal: 272ms\tremaining: 958ms\n",
      "221:\tlearn: 0.2127843\ttotal: 273ms\tremaining: 956ms\n",
      "222:\tlearn: 0.2122156\ttotal: 274ms\tremaining: 954ms\n",
      "223:\tlearn: 0.2118728\ttotal: 275ms\tremaining: 952ms\n",
      "224:\tlearn: 0.2112102\ttotal: 276ms\tremaining: 949ms\n",
      "225:\tlearn: 0.2107388\ttotal: 277ms\tremaining: 947ms\n",
      "226:\tlearn: 0.2104673\ttotal: 278ms\tremaining: 946ms\n",
      "227:\tlearn: 0.2099605\ttotal: 279ms\tremaining: 944ms\n",
      "228:\tlearn: 0.2095004\ttotal: 280ms\tremaining: 942ms\n"
     ]
    },
    {
     "name": "stdout",
     "output_type": "stream",
     "text": [
      "229:\tlearn: 0.2092131\ttotal: 281ms\tremaining: 940ms\n",
      "230:\tlearn: 0.2086799\ttotal: 282ms\tremaining: 939ms\n",
      "231:\tlearn: 0.2082661\ttotal: 286ms\tremaining: 945ms\n",
      "232:\tlearn: 0.2079634\ttotal: 287ms\tremaining: 944ms\n",
      "233:\tlearn: 0.2073600\ttotal: 288ms\tremaining: 943ms\n",
      "234:\tlearn: 0.2070652\ttotal: 290ms\tremaining: 943ms\n",
      "235:\tlearn: 0.2063042\ttotal: 291ms\tremaining: 941ms\n",
      "236:\tlearn: 0.2057166\ttotal: 292ms\tremaining: 939ms\n",
      "237:\tlearn: 0.2052500\ttotal: 293ms\tremaining: 937ms\n",
      "238:\tlearn: 0.2046577\ttotal: 294ms\tremaining: 935ms\n",
      "239:\tlearn: 0.2041995\ttotal: 295ms\tremaining: 933ms\n",
      "240:\tlearn: 0.2035882\ttotal: 296ms\tremaining: 931ms\n",
      "241:\tlearn: 0.2031564\ttotal: 297ms\tremaining: 929ms\n",
      "242:\tlearn: 0.2025866\ttotal: 298ms\tremaining: 928ms\n",
      "243:\tlearn: 0.2019879\ttotal: 299ms\tremaining: 926ms\n",
      "244:\tlearn: 0.2017243\ttotal: 300ms\tremaining: 924ms\n",
      "245:\tlearn: 0.2014735\ttotal: 301ms\tremaining: 922ms\n",
      "246:\tlearn: 0.2008132\ttotal: 302ms\tremaining: 920ms\n",
      "247:\tlearn: 0.2004009\ttotal: 303ms\tremaining: 918ms\n",
      "248:\tlearn: 0.1998726\ttotal: 304ms\tremaining: 916ms\n",
      "249:\tlearn: 0.1995735\ttotal: 305ms\tremaining: 915ms\n",
      "250:\tlearn: 0.1993297\ttotal: 306ms\tremaining: 913ms\n",
      "251:\tlearn: 0.1987085\ttotal: 307ms\tremaining: 911ms\n",
      "252:\tlearn: 0.1982919\ttotal: 308ms\tremaining: 909ms\n",
      "253:\tlearn: 0.1976832\ttotal: 309ms\tremaining: 907ms\n",
      "254:\tlearn: 0.1971621\ttotal: 310ms\tremaining: 905ms\n",
      "255:\tlearn: 0.1966201\ttotal: 311ms\tremaining: 903ms\n",
      "256:\tlearn: 0.1961087\ttotal: 312ms\tremaining: 902ms\n",
      "257:\tlearn: 0.1958846\ttotal: 313ms\tremaining: 900ms\n",
      "258:\tlearn: 0.1956113\ttotal: 314ms\tremaining: 898ms\n",
      "259:\tlearn: 0.1951231\ttotal: 315ms\tremaining: 896ms\n",
      "260:\tlearn: 0.1947478\ttotal: 316ms\tremaining: 894ms\n",
      "261:\tlearn: 0.1943009\ttotal: 317ms\tremaining: 893ms\n",
      "262:\tlearn: 0.1941366\ttotal: 318ms\tremaining: 891ms\n",
      "263:\tlearn: 0.1934931\ttotal: 319ms\tremaining: 890ms\n",
      "264:\tlearn: 0.1930736\ttotal: 320ms\tremaining: 888ms\n",
      "265:\tlearn: 0.1928231\ttotal: 321ms\tremaining: 886ms\n",
      "266:\tlearn: 0.1924583\ttotal: 322ms\tremaining: 884ms\n",
      "267:\tlearn: 0.1922037\ttotal: 323ms\tremaining: 883ms\n",
      "268:\tlearn: 0.1917078\ttotal: 324ms\tremaining: 881ms\n",
      "269:\tlearn: 0.1911542\ttotal: 325ms\tremaining: 879ms\n",
      "270:\tlearn: 0.1906814\ttotal: 326ms\tremaining: 878ms\n",
      "271:\tlearn: 0.1904344\ttotal: 327ms\tremaining: 876ms\n",
      "272:\tlearn: 0.1898781\ttotal: 329ms\tremaining: 876ms\n",
      "273:\tlearn: 0.1894982\ttotal: 330ms\tremaining: 874ms\n",
      "274:\tlearn: 0.1889848\ttotal: 331ms\tremaining: 872ms\n",
      "275:\tlearn: 0.1886434\ttotal: 332ms\tremaining: 870ms\n",
      "276:\tlearn: 0.1881007\ttotal: 333ms\tremaining: 869ms\n",
      "277:\tlearn: 0.1876550\ttotal: 334ms\tremaining: 867ms\n",
      "278:\tlearn: 0.1874598\ttotal: 335ms\tremaining: 865ms\n",
      "279:\tlearn: 0.1869560\ttotal: 336ms\tremaining: 863ms\n",
      "280:\tlearn: 0.1862938\ttotal: 337ms\tremaining: 862ms\n",
      "281:\tlearn: 0.1855356\ttotal: 338ms\tremaining: 860ms\n",
      "282:\tlearn: 0.1851155\ttotal: 339ms\tremaining: 860ms\n",
      "283:\tlearn: 0.1845706\ttotal: 340ms\tremaining: 858ms\n",
      "284:\tlearn: 0.1842199\ttotal: 341ms\tremaining: 856ms\n",
      "285:\tlearn: 0.1838396\ttotal: 342ms\tremaining: 855ms\n",
      "286:\tlearn: 0.1836531\ttotal: 343ms\tremaining: 853ms\n",
      "287:\tlearn: 0.1834317\ttotal: 344ms\tremaining: 851ms\n",
      "288:\tlearn: 0.1828000\ttotal: 345ms\tremaining: 850ms\n",
      "289:\tlearn: 0.1822871\ttotal: 346ms\tremaining: 848ms\n",
      "290:\tlearn: 0.1819853\ttotal: 348ms\tremaining: 847ms\n",
      "291:\tlearn: 0.1817769\ttotal: 349ms\tremaining: 845ms\n",
      "292:\tlearn: 0.1815174\ttotal: 350ms\tremaining: 844ms\n",
      "293:\tlearn: 0.1808619\ttotal: 351ms\tremaining: 842ms\n",
      "294:\tlearn: 0.1803047\ttotal: 352ms\tremaining: 840ms\n",
      "295:\tlearn: 0.1799117\ttotal: 353ms\tremaining: 839ms\n",
      "296:\tlearn: 0.1794041\ttotal: 354ms\tremaining: 837ms\n",
      "297:\tlearn: 0.1790371\ttotal: 355ms\tremaining: 835ms\n",
      "298:\tlearn: 0.1786488\ttotal: 356ms\tremaining: 834ms\n",
      "299:\tlearn: 0.1781764\ttotal: 357ms\tremaining: 832ms\n",
      "300:\tlearn: 0.1777122\ttotal: 358ms\tremaining: 831ms\n",
      "301:\tlearn: 0.1772965\ttotal: 359ms\tremaining: 829ms\n",
      "302:\tlearn: 0.1771198\ttotal: 360ms\tremaining: 827ms\n",
      "303:\tlearn: 0.1764337\ttotal: 361ms\tremaining: 826ms\n",
      "304:\tlearn: 0.1761706\ttotal: 362ms\tremaining: 824ms\n",
      "305:\tlearn: 0.1756943\ttotal: 363ms\tremaining: 823ms\n",
      "306:\tlearn: 0.1755253\ttotal: 364ms\tremaining: 821ms\n",
      "307:\tlearn: 0.1748938\ttotal: 365ms\tremaining: 819ms\n",
      "308:\tlearn: 0.1746547\ttotal: 366ms\tremaining: 818ms\n",
      "309:\tlearn: 0.1743800\ttotal: 367ms\tremaining: 816ms\n",
      "310:\tlearn: 0.1741289\ttotal: 368ms\tremaining: 814ms\n",
      "311:\tlearn: 0.1735272\ttotal: 369ms\tremaining: 813ms\n",
      "312:\tlearn: 0.1730046\ttotal: 370ms\tremaining: 811ms\n",
      "313:\tlearn: 0.1725660\ttotal: 371ms\tremaining: 810ms\n",
      "314:\tlearn: 0.1719341\ttotal: 372ms\tremaining: 808ms\n",
      "315:\tlearn: 0.1715674\ttotal: 373ms\tremaining: 807ms\n",
      "316:\tlearn: 0.1713326\ttotal: 374ms\tremaining: 805ms\n",
      "317:\tlearn: 0.1708117\ttotal: 375ms\tremaining: 803ms\n",
      "318:\tlearn: 0.1703585\ttotal: 376ms\tremaining: 802ms\n",
      "319:\tlearn: 0.1699874\ttotal: 377ms\tremaining: 800ms\n",
      "320:\tlearn: 0.1695048\ttotal: 378ms\tremaining: 799ms\n",
      "321:\tlearn: 0.1691061\ttotal: 379ms\tremaining: 797ms\n",
      "322:\tlearn: 0.1685977\ttotal: 380ms\tremaining: 796ms\n",
      "323:\tlearn: 0.1683012\ttotal: 380ms\tremaining: 794ms\n",
      "324:\tlearn: 0.1681423\ttotal: 381ms\tremaining: 792ms\n",
      "325:\tlearn: 0.1678538\ttotal: 382ms\tremaining: 791ms\n",
      "326:\tlearn: 0.1673484\ttotal: 383ms\tremaining: 789ms\n",
      "327:\tlearn: 0.1667470\ttotal: 384ms\tremaining: 787ms\n",
      "328:\tlearn: 0.1662589\ttotal: 385ms\tremaining: 786ms\n",
      "329:\tlearn: 0.1659526\ttotal: 386ms\tremaining: 784ms\n",
      "330:\tlearn: 0.1655201\ttotal: 387ms\tremaining: 783ms\n",
      "331:\tlearn: 0.1653491\ttotal: 388ms\tremaining: 781ms\n",
      "332:\tlearn: 0.1650689\ttotal: 389ms\tremaining: 779ms\n",
      "333:\tlearn: 0.1646091\ttotal: 390ms\tremaining: 778ms\n",
      "334:\tlearn: 0.1643499\ttotal: 391ms\tremaining: 776ms\n",
      "335:\tlearn: 0.1637442\ttotal: 392ms\tremaining: 775ms\n",
      "336:\tlearn: 0.1633299\ttotal: 393ms\tremaining: 773ms\n",
      "337:\tlearn: 0.1630170\ttotal: 394ms\tremaining: 772ms\n",
      "338:\tlearn: 0.1626061\ttotal: 395ms\tremaining: 770ms\n",
      "339:\tlearn: 0.1623190\ttotal: 396ms\tremaining: 769ms\n",
      "340:\tlearn: 0.1618534\ttotal: 397ms\tremaining: 767ms\n",
      "341:\tlearn: 0.1616031\ttotal: 398ms\tremaining: 766ms\n",
      "342:\tlearn: 0.1612531\ttotal: 399ms\tremaining: 764ms\n",
      "343:\tlearn: 0.1607237\ttotal: 400ms\tremaining: 763ms\n",
      "344:\tlearn: 0.1604817\ttotal: 401ms\tremaining: 761ms\n",
      "345:\tlearn: 0.1599623\ttotal: 402ms\tremaining: 760ms\n",
      "346:\tlearn: 0.1597777\ttotal: 403ms\tremaining: 759ms\n",
      "347:\tlearn: 0.1593456\ttotal: 404ms\tremaining: 757ms\n",
      "348:\tlearn: 0.1589635\ttotal: 405ms\tremaining: 756ms\n",
      "349:\tlearn: 0.1586534\ttotal: 406ms\tremaining: 754ms\n",
      "350:\tlearn: 0.1583272\ttotal: 407ms\tremaining: 753ms\n",
      "351:\tlearn: 0.1578076\ttotal: 408ms\tremaining: 751ms\n",
      "352:\tlearn: 0.1574635\ttotal: 409ms\tremaining: 750ms\n",
      "353:\tlearn: 0.1570130\ttotal: 410ms\tremaining: 749ms\n",
      "354:\tlearn: 0.1566724\ttotal: 411ms\tremaining: 747ms\n",
      "355:\tlearn: 0.1564670\ttotal: 412ms\tremaining: 746ms\n"
     ]
    },
    {
     "name": "stdout",
     "output_type": "stream",
     "text": [
      "356:\tlearn: 0.1560670\ttotal: 413ms\tremaining: 745ms\n",
      "357:\tlearn: 0.1558975\ttotal: 415ms\tremaining: 744ms\n",
      "358:\tlearn: 0.1554619\ttotal: 416ms\tremaining: 742ms\n",
      "359:\tlearn: 0.1552333\ttotal: 417ms\tremaining: 741ms\n",
      "360:\tlearn: 0.1548505\ttotal: 418ms\tremaining: 739ms\n",
      "361:\tlearn: 0.1545244\ttotal: 419ms\tremaining: 738ms\n",
      "362:\tlearn: 0.1542115\ttotal: 420ms\tremaining: 736ms\n",
      "363:\tlearn: 0.1539741\ttotal: 421ms\tremaining: 735ms\n",
      "364:\tlearn: 0.1537810\ttotal: 422ms\tremaining: 734ms\n",
      "365:\tlearn: 0.1535995\ttotal: 423ms\tremaining: 732ms\n",
      "366:\tlearn: 0.1532515\ttotal: 424ms\tremaining: 731ms\n",
      "367:\tlearn: 0.1530495\ttotal: 425ms\tremaining: 730ms\n",
      "368:\tlearn: 0.1528428\ttotal: 426ms\tremaining: 728ms\n",
      "369:\tlearn: 0.1524930\ttotal: 427ms\tremaining: 727ms\n",
      "370:\tlearn: 0.1520821\ttotal: 428ms\tremaining: 725ms\n",
      "371:\tlearn: 0.1519607\ttotal: 429ms\tremaining: 724ms\n",
      "372:\tlearn: 0.1516332\ttotal: 430ms\tremaining: 723ms\n",
      "373:\tlearn: 0.1512930\ttotal: 431ms\tremaining: 721ms\n",
      "374:\tlearn: 0.1509849\ttotal: 432ms\tremaining: 720ms\n",
      "375:\tlearn: 0.1505108\ttotal: 433ms\tremaining: 719ms\n",
      "376:\tlearn: 0.1502087\ttotal: 434ms\tremaining: 717ms\n",
      "377:\tlearn: 0.1496959\ttotal: 435ms\tremaining: 716ms\n",
      "378:\tlearn: 0.1492624\ttotal: 436ms\tremaining: 715ms\n",
      "379:\tlearn: 0.1488867\ttotal: 437ms\tremaining: 713ms\n",
      "380:\tlearn: 0.1486474\ttotal: 438ms\tremaining: 712ms\n",
      "381:\tlearn: 0.1482099\ttotal: 440ms\tremaining: 711ms\n",
      "382:\tlearn: 0.1478063\ttotal: 441ms\tremaining: 710ms\n",
      "383:\tlearn: 0.1473801\ttotal: 442ms\tremaining: 709ms\n",
      "384:\tlearn: 0.1470393\ttotal: 443ms\tremaining: 707ms\n",
      "385:\tlearn: 0.1468412\ttotal: 444ms\tremaining: 706ms\n",
      "386:\tlearn: 0.1464308\ttotal: 445ms\tremaining: 705ms\n",
      "387:\tlearn: 0.1460716\ttotal: 446ms\tremaining: 704ms\n",
      "388:\tlearn: 0.1457453\ttotal: 447ms\tremaining: 702ms\n",
      "389:\tlearn: 0.1455040\ttotal: 448ms\tremaining: 701ms\n",
      "390:\tlearn: 0.1450356\ttotal: 449ms\tremaining: 700ms\n",
      "391:\tlearn: 0.1447833\ttotal: 450ms\tremaining: 698ms\n",
      "392:\tlearn: 0.1443849\ttotal: 451ms\tremaining: 697ms\n",
      "393:\tlearn: 0.1440646\ttotal: 452ms\tremaining: 696ms\n",
      "394:\tlearn: 0.1437364\ttotal: 453ms\tremaining: 694ms\n",
      "395:\tlearn: 0.1433637\ttotal: 454ms\tremaining: 693ms\n",
      "396:\tlearn: 0.1430388\ttotal: 456ms\tremaining: 692ms\n",
      "397:\tlearn: 0.1428682\ttotal: 457ms\tremaining: 691ms\n",
      "398:\tlearn: 0.1424704\ttotal: 458ms\tremaining: 689ms\n",
      "399:\tlearn: 0.1422924\ttotal: 459ms\tremaining: 688ms\n",
      "400:\tlearn: 0.1421202\ttotal: 460ms\tremaining: 687ms\n",
      "401:\tlearn: 0.1417849\ttotal: 461ms\tremaining: 685ms\n",
      "402:\tlearn: 0.1414115\ttotal: 462ms\tremaining: 684ms\n",
      "403:\tlearn: 0.1411310\ttotal: 463ms\tremaining: 683ms\n",
      "404:\tlearn: 0.1407562\ttotal: 464ms\tremaining: 681ms\n",
      "405:\tlearn: 0.1404486\ttotal: 465ms\tremaining: 680ms\n",
      "406:\tlearn: 0.1401508\ttotal: 466ms\tremaining: 678ms\n",
      "407:\tlearn: 0.1398821\ttotal: 467ms\tremaining: 677ms\n",
      "408:\tlearn: 0.1396204\ttotal: 468ms\tremaining: 676ms\n",
      "409:\tlearn: 0.1394668\ttotal: 469ms\tremaining: 674ms\n",
      "410:\tlearn: 0.1391565\ttotal: 470ms\tremaining: 673ms\n",
      "411:\tlearn: 0.1388393\ttotal: 471ms\tremaining: 672ms\n",
      "412:\tlearn: 0.1386166\ttotal: 472ms\tremaining: 671ms\n",
      "413:\tlearn: 0.1383012\ttotal: 473ms\tremaining: 669ms\n",
      "414:\tlearn: 0.1380236\ttotal: 474ms\tremaining: 668ms\n",
      "415:\tlearn: 0.1378183\ttotal: 475ms\tremaining: 667ms\n",
      "416:\tlearn: 0.1375208\ttotal: 476ms\tremaining: 665ms\n",
      "417:\tlearn: 0.1373224\ttotal: 477ms\tremaining: 664ms\n",
      "418:\tlearn: 0.1370340\ttotal: 478ms\tremaining: 663ms\n",
      "419:\tlearn: 0.1368032\ttotal: 479ms\tremaining: 661ms\n",
      "420:\tlearn: 0.1364431\ttotal: 480ms\tremaining: 660ms\n",
      "421:\tlearn: 0.1361975\ttotal: 481ms\tremaining: 659ms\n",
      "422:\tlearn: 0.1358566\ttotal: 482ms\tremaining: 657ms\n",
      "423:\tlearn: 0.1355172\ttotal: 483ms\tremaining: 656ms\n",
      "424:\tlearn: 0.1351168\ttotal: 484ms\tremaining: 655ms\n",
      "425:\tlearn: 0.1348329\ttotal: 485ms\tremaining: 654ms\n",
      "426:\tlearn: 0.1344765\ttotal: 486ms\tremaining: 652ms\n",
      "427:\tlearn: 0.1340891\ttotal: 487ms\tremaining: 651ms\n",
      "428:\tlearn: 0.1337501\ttotal: 488ms\tremaining: 650ms\n",
      "429:\tlearn: 0.1335240\ttotal: 489ms\tremaining: 648ms\n",
      "430:\tlearn: 0.1331782\ttotal: 490ms\tremaining: 647ms\n",
      "431:\tlearn: 0.1328444\ttotal: 491ms\tremaining: 646ms\n",
      "432:\tlearn: 0.1325241\ttotal: 492ms\tremaining: 645ms\n",
      "433:\tlearn: 0.1323192\ttotal: 493ms\tremaining: 643ms\n",
      "434:\tlearn: 0.1319523\ttotal: 494ms\tremaining: 642ms\n",
      "435:\tlearn: 0.1316673\ttotal: 495ms\tremaining: 641ms\n",
      "436:\tlearn: 0.1314560\ttotal: 496ms\tremaining: 640ms\n",
      "437:\tlearn: 0.1311140\ttotal: 497ms\tremaining: 638ms\n",
      "438:\tlearn: 0.1308439\ttotal: 498ms\tremaining: 637ms\n",
      "439:\tlearn: 0.1305452\ttotal: 500ms\tremaining: 636ms\n",
      "440:\tlearn: 0.1301145\ttotal: 501ms\tremaining: 634ms\n",
      "441:\tlearn: 0.1298122\ttotal: 502ms\tremaining: 633ms\n",
      "442:\tlearn: 0.1295564\ttotal: 503ms\tremaining: 632ms\n",
      "443:\tlearn: 0.1291385\ttotal: 504ms\tremaining: 631ms\n",
      "444:\tlearn: 0.1287804\ttotal: 505ms\tremaining: 629ms\n",
      "445:\tlearn: 0.1285680\ttotal: 506ms\tremaining: 628ms\n",
      "446:\tlearn: 0.1283808\ttotal: 507ms\tremaining: 627ms\n",
      "447:\tlearn: 0.1280972\ttotal: 508ms\tremaining: 625ms\n",
      "448:\tlearn: 0.1277444\ttotal: 509ms\tremaining: 624ms\n",
      "449:\tlearn: 0.1274336\ttotal: 510ms\tremaining: 623ms\n",
      "450:\tlearn: 0.1271616\ttotal: 511ms\tremaining: 622ms\n",
      "451:\tlearn: 0.1269818\ttotal: 512ms\tremaining: 620ms\n",
      "452:\tlearn: 0.1267496\ttotal: 513ms\tremaining: 619ms\n",
      "453:\tlearn: 0.1266325\ttotal: 514ms\tremaining: 618ms\n",
      "454:\tlearn: 0.1263910\ttotal: 515ms\tremaining: 616ms\n",
      "455:\tlearn: 0.1261448\ttotal: 516ms\tremaining: 615ms\n",
      "456:\tlearn: 0.1259304\ttotal: 517ms\tremaining: 614ms\n",
      "457:\tlearn: 0.1255801\ttotal: 518ms\tremaining: 613ms\n",
      "458:\tlearn: 0.1254109\ttotal: 519ms\tremaining: 611ms\n",
      "459:\tlearn: 0.1251128\ttotal: 520ms\tremaining: 610ms\n",
      "460:\tlearn: 0.1247979\ttotal: 521ms\tremaining: 609ms\n",
      "461:\tlearn: 0.1246224\ttotal: 522ms\tremaining: 608ms\n",
      "462:\tlearn: 0.1244564\ttotal: 523ms\tremaining: 606ms\n",
      "463:\tlearn: 0.1241030\ttotal: 524ms\tremaining: 605ms\n",
      "464:\tlearn: 0.1238232\ttotal: 525ms\tremaining: 604ms\n",
      "465:\tlearn: 0.1236267\ttotal: 526ms\tremaining: 603ms\n",
      "466:\tlearn: 0.1233278\ttotal: 527ms\tremaining: 601ms\n",
      "467:\tlearn: 0.1230784\ttotal: 528ms\tremaining: 600ms\n",
      "468:\tlearn: 0.1227375\ttotal: 529ms\tremaining: 599ms\n",
      "469:\tlearn: 0.1225227\ttotal: 530ms\tremaining: 598ms\n",
      "470:\tlearn: 0.1222602\ttotal: 531ms\tremaining: 597ms\n",
      "471:\tlearn: 0.1219842\ttotal: 532ms\tremaining: 595ms\n",
      "472:\tlearn: 0.1217885\ttotal: 533ms\tremaining: 594ms\n",
      "473:\tlearn: 0.1215440\ttotal: 534ms\tremaining: 593ms\n",
      "474:\tlearn: 0.1213812\ttotal: 535ms\tremaining: 592ms\n",
      "475:\tlearn: 0.1211259\ttotal: 536ms\tremaining: 591ms\n",
      "476:\tlearn: 0.1208200\ttotal: 537ms\tremaining: 589ms\n",
      "477:\tlearn: 0.1205506\ttotal: 538ms\tremaining: 588ms\n",
      "478:\tlearn: 0.1202602\ttotal: 539ms\tremaining: 587ms\n",
      "479:\tlearn: 0.1201156\ttotal: 540ms\tremaining: 586ms\n",
      "480:\tlearn: 0.1199520\ttotal: 541ms\tremaining: 584ms\n",
      "481:\tlearn: 0.1197231\ttotal: 543ms\tremaining: 583ms\n",
      "482:\tlearn: 0.1194886\ttotal: 544ms\tremaining: 582ms\n",
      "483:\tlearn: 0.1192914\ttotal: 545ms\tremaining: 581ms\n",
      "484:\tlearn: 0.1189661\ttotal: 546ms\tremaining: 579ms\n",
      "485:\tlearn: 0.1188075\ttotal: 546ms\tremaining: 578ms\n"
     ]
    },
    {
     "name": "stdout",
     "output_type": "stream",
     "text": [
      "486:\tlearn: 0.1186611\ttotal: 548ms\tremaining: 577ms\n",
      "487:\tlearn: 0.1183290\ttotal: 550ms\tremaining: 577ms\n",
      "488:\tlearn: 0.1180015\ttotal: 551ms\tremaining: 576ms\n",
      "489:\tlearn: 0.1177670\ttotal: 553ms\tremaining: 575ms\n",
      "490:\tlearn: 0.1175514\ttotal: 554ms\tremaining: 574ms\n",
      "491:\tlearn: 0.1173315\ttotal: 555ms\tremaining: 573ms\n",
      "492:\tlearn: 0.1169906\ttotal: 556ms\tremaining: 571ms\n",
      "493:\tlearn: 0.1167768\ttotal: 557ms\tremaining: 570ms\n",
      "494:\tlearn: 0.1165519\ttotal: 558ms\tremaining: 569ms\n",
      "495:\tlearn: 0.1162384\ttotal: 559ms\tremaining: 568ms\n",
      "496:\tlearn: 0.1160100\ttotal: 560ms\tremaining: 566ms\n",
      "497:\tlearn: 0.1158408\ttotal: 561ms\tremaining: 565ms\n",
      "498:\tlearn: 0.1156769\ttotal: 562ms\tremaining: 564ms\n",
      "499:\tlearn: 0.1153983\ttotal: 563ms\tremaining: 563ms\n",
      "500:\tlearn: 0.1151595\ttotal: 564ms\tremaining: 562ms\n",
      "501:\tlearn: 0.1149603\ttotal: 565ms\tremaining: 560ms\n",
      "502:\tlearn: 0.1147731\ttotal: 566ms\tremaining: 559ms\n",
      "503:\tlearn: 0.1145395\ttotal: 567ms\tremaining: 558ms\n",
      "504:\tlearn: 0.1142014\ttotal: 568ms\tremaining: 557ms\n",
      "505:\tlearn: 0.1140056\ttotal: 569ms\tremaining: 555ms\n",
      "506:\tlearn: 0.1138146\ttotal: 570ms\tremaining: 554ms\n",
      "507:\tlearn: 0.1136130\ttotal: 571ms\tremaining: 553ms\n",
      "508:\tlearn: 0.1134529\ttotal: 572ms\tremaining: 552ms\n",
      "509:\tlearn: 0.1132155\ttotal: 573ms\tremaining: 550ms\n",
      "510:\tlearn: 0.1129865\ttotal: 574ms\tremaining: 549ms\n",
      "511:\tlearn: 0.1128047\ttotal: 575ms\tremaining: 548ms\n",
      "512:\tlearn: 0.1125379\ttotal: 576ms\tremaining: 547ms\n",
      "513:\tlearn: 0.1122909\ttotal: 577ms\tremaining: 546ms\n",
      "514:\tlearn: 0.1119943\ttotal: 578ms\tremaining: 545ms\n",
      "515:\tlearn: 0.1117763\ttotal: 579ms\tremaining: 543ms\n",
      "516:\tlearn: 0.1114728\ttotal: 580ms\tremaining: 542ms\n",
      "517:\tlearn: 0.1113260\ttotal: 581ms\tremaining: 541ms\n",
      "518:\tlearn: 0.1111307\ttotal: 582ms\tremaining: 540ms\n",
      "519:\tlearn: 0.1110786\ttotal: 583ms\tremaining: 538ms\n",
      "520:\tlearn: 0.1109209\ttotal: 584ms\tremaining: 537ms\n",
      "521:\tlearn: 0.1106499\ttotal: 585ms\tremaining: 536ms\n",
      "522:\tlearn: 0.1104018\ttotal: 586ms\tremaining: 535ms\n",
      "523:\tlearn: 0.1101522\ttotal: 587ms\tremaining: 534ms\n",
      "524:\tlearn: 0.1098743\ttotal: 588ms\tremaining: 532ms\n",
      "525:\tlearn: 0.1097056\ttotal: 589ms\tremaining: 531ms\n",
      "526:\tlearn: 0.1095670\ttotal: 590ms\tremaining: 530ms\n",
      "527:\tlearn: 0.1094035\ttotal: 591ms\tremaining: 529ms\n",
      "528:\tlearn: 0.1092659\ttotal: 593ms\tremaining: 528ms\n",
      "529:\tlearn: 0.1089691\ttotal: 594ms\tremaining: 526ms\n",
      "530:\tlearn: 0.1088145\ttotal: 595ms\tremaining: 525ms\n",
      "531:\tlearn: 0.1086917\ttotal: 596ms\tremaining: 524ms\n",
      "532:\tlearn: 0.1085580\ttotal: 597ms\tremaining: 523ms\n",
      "533:\tlearn: 0.1083732\ttotal: 598ms\tremaining: 522ms\n",
      "534:\tlearn: 0.1080904\ttotal: 599ms\tremaining: 521ms\n",
      "535:\tlearn: 0.1078548\ttotal: 600ms\tremaining: 519ms\n",
      "536:\tlearn: 0.1075779\ttotal: 601ms\tremaining: 518ms\n",
      "537:\tlearn: 0.1073806\ttotal: 602ms\tremaining: 517ms\n",
      "538:\tlearn: 0.1072416\ttotal: 603ms\tremaining: 516ms\n",
      "539:\tlearn: 0.1069131\ttotal: 604ms\tremaining: 515ms\n",
      "540:\tlearn: 0.1067308\ttotal: 605ms\tremaining: 513ms\n",
      "541:\tlearn: 0.1065593\ttotal: 606ms\tremaining: 512ms\n",
      "542:\tlearn: 0.1063287\ttotal: 607ms\tremaining: 511ms\n",
      "543:\tlearn: 0.1060782\ttotal: 608ms\tremaining: 510ms\n",
      "544:\tlearn: 0.1058059\ttotal: 609ms\tremaining: 508ms\n",
      "545:\tlearn: 0.1055660\ttotal: 610ms\tremaining: 507ms\n",
      "546:\tlearn: 0.1054033\ttotal: 611ms\tremaining: 506ms\n",
      "547:\tlearn: 0.1052367\ttotal: 612ms\tremaining: 505ms\n",
      "548:\tlearn: 0.1049785\ttotal: 613ms\tremaining: 504ms\n",
      "549:\tlearn: 0.1047643\ttotal: 614ms\tremaining: 502ms\n",
      "550:\tlearn: 0.1045424\ttotal: 615ms\tremaining: 501ms\n",
      "551:\tlearn: 0.1044382\ttotal: 616ms\tremaining: 500ms\n",
      "552:\tlearn: 0.1041960\ttotal: 617ms\tremaining: 499ms\n",
      "553:\tlearn: 0.1039918\ttotal: 618ms\tremaining: 498ms\n",
      "554:\tlearn: 0.1039005\ttotal: 619ms\tremaining: 497ms\n",
      "555:\tlearn: 0.1037447\ttotal: 621ms\tremaining: 496ms\n",
      "556:\tlearn: 0.1036002\ttotal: 622ms\tremaining: 495ms\n",
      "557:\tlearn: 0.1034114\ttotal: 623ms\tremaining: 494ms\n",
      "558:\tlearn: 0.1033276\ttotal: 624ms\tremaining: 492ms\n",
      "559:\tlearn: 0.1030403\ttotal: 625ms\tremaining: 491ms\n",
      "560:\tlearn: 0.1028055\ttotal: 626ms\tremaining: 490ms\n",
      "561:\tlearn: 0.1025706\ttotal: 628ms\tremaining: 489ms\n",
      "562:\tlearn: 0.1024557\ttotal: 629ms\tremaining: 488ms\n",
      "563:\tlearn: 0.1022210\ttotal: 630ms\tremaining: 487ms\n",
      "564:\tlearn: 0.1019937\ttotal: 631ms\tremaining: 486ms\n",
      "565:\tlearn: 0.1018369\ttotal: 632ms\tremaining: 484ms\n",
      "566:\tlearn: 0.1017609\ttotal: 633ms\tremaining: 483ms\n",
      "567:\tlearn: 0.1015917\ttotal: 634ms\tremaining: 482ms\n",
      "568:\tlearn: 0.1013759\ttotal: 635ms\tremaining: 481ms\n",
      "569:\tlearn: 0.1011723\ttotal: 636ms\tremaining: 480ms\n",
      "570:\tlearn: 0.1011133\ttotal: 637ms\tremaining: 479ms\n",
      "571:\tlearn: 0.1009977\ttotal: 638ms\tremaining: 477ms\n",
      "572:\tlearn: 0.1007751\ttotal: 639ms\tremaining: 476ms\n",
      "573:\tlearn: 0.1005941\ttotal: 640ms\tremaining: 475ms\n",
      "574:\tlearn: 0.1003319\ttotal: 641ms\tremaining: 474ms\n",
      "575:\tlearn: 0.1001464\ttotal: 642ms\tremaining: 473ms\n",
      "576:\tlearn: 0.0999953\ttotal: 643ms\tremaining: 472ms\n",
      "577:\tlearn: 0.0997818\ttotal: 644ms\tremaining: 470ms\n",
      "578:\tlearn: 0.0995763\ttotal: 645ms\tremaining: 469ms\n",
      "579:\tlearn: 0.0993088\ttotal: 646ms\tremaining: 468ms\n",
      "580:\tlearn: 0.0991659\ttotal: 648ms\tremaining: 467ms\n",
      "581:\tlearn: 0.0990081\ttotal: 649ms\tremaining: 466ms\n",
      "582:\tlearn: 0.0989549\ttotal: 650ms\tremaining: 465ms\n",
      "583:\tlearn: 0.0987508\ttotal: 651ms\tremaining: 464ms\n",
      "584:\tlearn: 0.0986235\ttotal: 652ms\tremaining: 462ms\n",
      "585:\tlearn: 0.0984452\ttotal: 653ms\tremaining: 461ms\n",
      "586:\tlearn: 0.0982735\ttotal: 654ms\tremaining: 460ms\n",
      "587:\tlearn: 0.0982011\ttotal: 655ms\tremaining: 459ms\n",
      "588:\tlearn: 0.0980265\ttotal: 656ms\tremaining: 458ms\n",
      "589:\tlearn: 0.0978930\ttotal: 657ms\tremaining: 457ms\n",
      "590:\tlearn: 0.0976862\ttotal: 658ms\tremaining: 455ms\n",
      "591:\tlearn: 0.0974970\ttotal: 659ms\tremaining: 454ms\n",
      "592:\tlearn: 0.0972669\ttotal: 660ms\tremaining: 453ms\n",
      "593:\tlearn: 0.0970142\ttotal: 661ms\tremaining: 452ms\n",
      "594:\tlearn: 0.0968196\ttotal: 662ms\tremaining: 451ms\n",
      "595:\tlearn: 0.0966159\ttotal: 663ms\tremaining: 450ms\n",
      "596:\tlearn: 0.0964132\ttotal: 664ms\tremaining: 448ms\n",
      "597:\tlearn: 0.0961902\ttotal: 666ms\tremaining: 447ms\n",
      "598:\tlearn: 0.0959875\ttotal: 667ms\tremaining: 446ms\n",
      "599:\tlearn: 0.0959158\ttotal: 668ms\tremaining: 445ms\n",
      "600:\tlearn: 0.0957099\ttotal: 669ms\tremaining: 444ms\n",
      "601:\tlearn: 0.0956103\ttotal: 670ms\tremaining: 443ms\n",
      "602:\tlearn: 0.0954509\ttotal: 671ms\tremaining: 442ms\n",
      "603:\tlearn: 0.0952286\ttotal: 672ms\tremaining: 441ms\n",
      "604:\tlearn: 0.0950808\ttotal: 673ms\tremaining: 440ms\n",
      "605:\tlearn: 0.0948862\ttotal: 674ms\tremaining: 439ms\n",
      "606:\tlearn: 0.0947534\ttotal: 676ms\tremaining: 437ms\n",
      "607:\tlearn: 0.0946129\ttotal: 677ms\tremaining: 436ms\n",
      "608:\tlearn: 0.0945709\ttotal: 678ms\tremaining: 435ms\n",
      "609:\tlearn: 0.0944808\ttotal: 679ms\tremaining: 434ms\n",
      "610:\tlearn: 0.0943210\ttotal: 680ms\tremaining: 433ms\n",
      "611:\tlearn: 0.0941984\ttotal: 681ms\tremaining: 432ms\n",
      "612:\tlearn: 0.0939799\ttotal: 682ms\tremaining: 430ms\n"
     ]
    },
    {
     "name": "stdout",
     "output_type": "stream",
     "text": [
      "613:\tlearn: 0.0939121\ttotal: 685ms\tremaining: 431ms\n",
      "614:\tlearn: 0.0937454\ttotal: 686ms\tremaining: 430ms\n",
      "615:\tlearn: 0.0936541\ttotal: 687ms\tremaining: 429ms\n",
      "616:\tlearn: 0.0934674\ttotal: 688ms\tremaining: 427ms\n",
      "617:\tlearn: 0.0932588\ttotal: 689ms\tremaining: 426ms\n",
      "618:\tlearn: 0.0931356\ttotal: 690ms\tremaining: 425ms\n",
      "619:\tlearn: 0.0928994\ttotal: 692ms\tremaining: 424ms\n",
      "620:\tlearn: 0.0927161\ttotal: 693ms\tremaining: 423ms\n",
      "621:\tlearn: 0.0925605\ttotal: 694ms\tremaining: 422ms\n",
      "622:\tlearn: 0.0924813\ttotal: 695ms\tremaining: 420ms\n",
      "623:\tlearn: 0.0923685\ttotal: 696ms\tremaining: 419ms\n",
      "624:\tlearn: 0.0922441\ttotal: 697ms\tremaining: 418ms\n",
      "625:\tlearn: 0.0920642\ttotal: 698ms\tremaining: 417ms\n",
      "626:\tlearn: 0.0918188\ttotal: 699ms\tremaining: 416ms\n",
      "627:\tlearn: 0.0917263\ttotal: 700ms\tremaining: 415ms\n",
      "628:\tlearn: 0.0915831\ttotal: 701ms\tremaining: 413ms\n",
      "629:\tlearn: 0.0914791\ttotal: 702ms\tremaining: 412ms\n",
      "630:\tlearn: 0.0912860\ttotal: 703ms\tremaining: 411ms\n",
      "631:\tlearn: 0.0910549\ttotal: 704ms\tremaining: 410ms\n",
      "632:\tlearn: 0.0909277\ttotal: 705ms\tremaining: 409ms\n",
      "633:\tlearn: 0.0907782\ttotal: 706ms\tremaining: 408ms\n",
      "634:\tlearn: 0.0906483\ttotal: 707ms\tremaining: 406ms\n",
      "635:\tlearn: 0.0903874\ttotal: 708ms\tremaining: 405ms\n",
      "636:\tlearn: 0.0903162\ttotal: 709ms\tremaining: 404ms\n",
      "637:\tlearn: 0.0901936\ttotal: 710ms\tremaining: 403ms\n",
      "638:\tlearn: 0.0900048\ttotal: 711ms\tremaining: 402ms\n",
      "639:\tlearn: 0.0899708\ttotal: 712ms\tremaining: 401ms\n",
      "640:\tlearn: 0.0898153\ttotal: 713ms\tremaining: 400ms\n",
      "641:\tlearn: 0.0896122\ttotal: 714ms\tremaining: 398ms\n",
      "642:\tlearn: 0.0894230\ttotal: 715ms\tremaining: 397ms\n",
      "643:\tlearn: 0.0892547\ttotal: 716ms\tremaining: 396ms\n",
      "644:\tlearn: 0.0890687\ttotal: 717ms\tremaining: 395ms\n",
      "645:\tlearn: 0.0889706\ttotal: 719ms\tremaining: 394ms\n",
      "646:\tlearn: 0.0888638\ttotal: 720ms\tremaining: 393ms\n",
      "647:\tlearn: 0.0886456\ttotal: 721ms\tremaining: 391ms\n",
      "648:\tlearn: 0.0884783\ttotal: 722ms\tremaining: 390ms\n",
      "649:\tlearn: 0.0883260\ttotal: 723ms\tremaining: 389ms\n",
      "650:\tlearn: 0.0881118\ttotal: 724ms\tremaining: 388ms\n",
      "651:\tlearn: 0.0879595\ttotal: 725ms\tremaining: 387ms\n",
      "652:\tlearn: 0.0877735\ttotal: 726ms\tremaining: 386ms\n",
      "653:\tlearn: 0.0875978\ttotal: 727ms\tremaining: 385ms\n",
      "654:\tlearn: 0.0874163\ttotal: 728ms\tremaining: 384ms\n",
      "655:\tlearn: 0.0872855\ttotal: 729ms\tremaining: 382ms\n",
      "656:\tlearn: 0.0870691\ttotal: 731ms\tremaining: 381ms\n",
      "657:\tlearn: 0.0869486\ttotal: 732ms\tremaining: 380ms\n",
      "658:\tlearn: 0.0867168\ttotal: 733ms\tremaining: 379ms\n",
      "659:\tlearn: 0.0865829\ttotal: 734ms\tremaining: 378ms\n",
      "660:\tlearn: 0.0864583\ttotal: 735ms\tremaining: 377ms\n",
      "661:\tlearn: 0.0863852\ttotal: 736ms\tremaining: 376ms\n",
      "662:\tlearn: 0.0862020\ttotal: 737ms\tremaining: 375ms\n",
      "663:\tlearn: 0.0860552\ttotal: 738ms\tremaining: 374ms\n",
      "664:\tlearn: 0.0859756\ttotal: 739ms\tremaining: 372ms\n",
      "665:\tlearn: 0.0858633\ttotal: 741ms\tremaining: 371ms\n",
      "666:\tlearn: 0.0857227\ttotal: 742ms\tremaining: 370ms\n",
      "667:\tlearn: 0.0855004\ttotal: 743ms\tremaining: 369ms\n",
      "668:\tlearn: 0.0853410\ttotal: 744ms\tremaining: 368ms\n",
      "669:\tlearn: 0.0851919\ttotal: 745ms\tremaining: 367ms\n",
      "670:\tlearn: 0.0851018\ttotal: 746ms\tremaining: 366ms\n",
      "671:\tlearn: 0.0849919\ttotal: 747ms\tremaining: 365ms\n",
      "672:\tlearn: 0.0847886\ttotal: 748ms\tremaining: 364ms\n",
      "673:\tlearn: 0.0846299\ttotal: 749ms\tremaining: 362ms\n",
      "674:\tlearn: 0.0844259\ttotal: 751ms\tremaining: 361ms\n",
      "675:\tlearn: 0.0842756\ttotal: 752ms\tremaining: 360ms\n",
      "676:\tlearn: 0.0840665\ttotal: 753ms\tremaining: 359ms\n",
      "677:\tlearn: 0.0838657\ttotal: 754ms\tremaining: 358ms\n",
      "678:\tlearn: 0.0837227\ttotal: 755ms\tremaining: 357ms\n",
      "679:\tlearn: 0.0835841\ttotal: 756ms\tremaining: 356ms\n",
      "680:\tlearn: 0.0834431\ttotal: 757ms\tremaining: 355ms\n",
      "681:\tlearn: 0.0833912\ttotal: 758ms\tremaining: 354ms\n",
      "682:\tlearn: 0.0831414\ttotal: 759ms\tremaining: 352ms\n",
      "683:\tlearn: 0.0830319\ttotal: 761ms\tremaining: 351ms\n",
      "684:\tlearn: 0.0828975\ttotal: 762ms\tremaining: 350ms\n",
      "685:\tlearn: 0.0827768\ttotal: 763ms\tremaining: 349ms\n",
      "686:\tlearn: 0.0826516\ttotal: 764ms\tremaining: 348ms\n",
      "687:\tlearn: 0.0825808\ttotal: 765ms\tremaining: 347ms\n",
      "688:\tlearn: 0.0824991\ttotal: 766ms\tremaining: 346ms\n",
      "689:\tlearn: 0.0823270\ttotal: 767ms\tremaining: 345ms\n",
      "690:\tlearn: 0.0821892\ttotal: 769ms\tremaining: 344ms\n",
      "691:\tlearn: 0.0820708\ttotal: 770ms\tremaining: 343ms\n",
      "692:\tlearn: 0.0819652\ttotal: 771ms\tremaining: 341ms\n",
      "693:\tlearn: 0.0818024\ttotal: 772ms\tremaining: 340ms\n",
      "694:\tlearn: 0.0816705\ttotal: 773ms\tremaining: 339ms\n",
      "695:\tlearn: 0.0815197\ttotal: 774ms\tremaining: 338ms\n",
      "696:\tlearn: 0.0813989\ttotal: 775ms\tremaining: 337ms\n",
      "697:\tlearn: 0.0813236\ttotal: 776ms\tremaining: 336ms\n",
      "698:\tlearn: 0.0812586\ttotal: 778ms\tremaining: 335ms\n",
      "699:\tlearn: 0.0811341\ttotal: 779ms\tremaining: 334ms\n",
      "700:\tlearn: 0.0810235\ttotal: 780ms\tremaining: 333ms\n",
      "701:\tlearn: 0.0809222\ttotal: 781ms\tremaining: 332ms\n",
      "702:\tlearn: 0.0807460\ttotal: 782ms\tremaining: 330ms\n",
      "703:\tlearn: 0.0806234\ttotal: 783ms\tremaining: 329ms\n",
      "704:\tlearn: 0.0804568\ttotal: 784ms\tremaining: 328ms\n",
      "705:\tlearn: 0.0802897\ttotal: 786ms\tremaining: 327ms\n",
      "706:\tlearn: 0.0801754\ttotal: 787ms\tremaining: 326ms\n",
      "707:\tlearn: 0.0799945\ttotal: 788ms\tremaining: 325ms\n",
      "708:\tlearn: 0.0798878\ttotal: 789ms\tremaining: 324ms\n",
      "709:\tlearn: 0.0796606\ttotal: 790ms\tremaining: 323ms\n",
      "710:\tlearn: 0.0794614\ttotal: 791ms\tremaining: 321ms\n",
      "711:\tlearn: 0.0792649\ttotal: 792ms\tremaining: 320ms\n",
      "712:\tlearn: 0.0791194\ttotal: 793ms\tremaining: 319ms\n",
      "713:\tlearn: 0.0789745\ttotal: 794ms\tremaining: 318ms\n",
      "714:\tlearn: 0.0788114\ttotal: 795ms\tremaining: 317ms\n",
      "715:\tlearn: 0.0786827\ttotal: 797ms\tremaining: 316ms\n",
      "716:\tlearn: 0.0785858\ttotal: 798ms\tremaining: 315ms\n",
      "717:\tlearn: 0.0784185\ttotal: 799ms\tremaining: 314ms\n",
      "718:\tlearn: 0.0782144\ttotal: 800ms\tremaining: 313ms\n",
      "719:\tlearn: 0.0780648\ttotal: 801ms\tremaining: 311ms\n",
      "720:\tlearn: 0.0778857\ttotal: 802ms\tremaining: 310ms\n",
      "721:\tlearn: 0.0777102\ttotal: 803ms\tremaining: 309ms\n",
      "722:\tlearn: 0.0775588\ttotal: 804ms\tremaining: 308ms\n",
      "723:\tlearn: 0.0774192\ttotal: 805ms\tremaining: 307ms\n",
      "724:\tlearn: 0.0772694\ttotal: 806ms\tremaining: 306ms\n",
      "725:\tlearn: 0.0772066\ttotal: 807ms\tremaining: 305ms\n",
      "726:\tlearn: 0.0770930\ttotal: 808ms\tremaining: 304ms\n",
      "727:\tlearn: 0.0769442\ttotal: 809ms\tremaining: 302ms\n",
      "728:\tlearn: 0.0768507\ttotal: 811ms\tremaining: 301ms\n",
      "729:\tlearn: 0.0767061\ttotal: 812ms\tremaining: 300ms\n",
      "730:\tlearn: 0.0765359\ttotal: 813ms\tremaining: 299ms\n",
      "731:\tlearn: 0.0764443\ttotal: 814ms\tremaining: 298ms\n",
      "732:\tlearn: 0.0763579\ttotal: 815ms\tremaining: 297ms\n",
      "733:\tlearn: 0.0763126\ttotal: 816ms\tremaining: 296ms\n",
      "734:\tlearn: 0.0761782\ttotal: 817ms\tremaining: 295ms\n",
      "735:\tlearn: 0.0760214\ttotal: 818ms\tremaining: 293ms\n",
      "736:\tlearn: 0.0759230\ttotal: 819ms\tremaining: 292ms\n",
      "737:\tlearn: 0.0758226\ttotal: 820ms\tremaining: 291ms\n"
     ]
    },
    {
     "name": "stdout",
     "output_type": "stream",
     "text": [
      "738:\tlearn: 0.0756955\ttotal: 821ms\tremaining: 290ms\n",
      "739:\tlearn: 0.0755756\ttotal: 823ms\tremaining: 289ms\n",
      "740:\tlearn: 0.0754869\ttotal: 824ms\tremaining: 288ms\n",
      "741:\tlearn: 0.0753511\ttotal: 825ms\tremaining: 287ms\n",
      "742:\tlearn: 0.0752061\ttotal: 826ms\tremaining: 286ms\n",
      "743:\tlearn: 0.0750928\ttotal: 827ms\tremaining: 285ms\n",
      "744:\tlearn: 0.0749807\ttotal: 828ms\tremaining: 284ms\n",
      "745:\tlearn: 0.0748755\ttotal: 829ms\tremaining: 282ms\n",
      "746:\tlearn: 0.0747707\ttotal: 830ms\tremaining: 281ms\n",
      "747:\tlearn: 0.0746495\ttotal: 832ms\tremaining: 280ms\n",
      "748:\tlearn: 0.0745467\ttotal: 833ms\tremaining: 279ms\n",
      "749:\tlearn: 0.0743712\ttotal: 834ms\tremaining: 278ms\n",
      "750:\tlearn: 0.0742670\ttotal: 835ms\tremaining: 277ms\n",
      "751:\tlearn: 0.0741745\ttotal: 836ms\tremaining: 276ms\n",
      "752:\tlearn: 0.0741286\ttotal: 837ms\tremaining: 275ms\n",
      "753:\tlearn: 0.0740315\ttotal: 838ms\tremaining: 274ms\n",
      "754:\tlearn: 0.0739307\ttotal: 839ms\tremaining: 272ms\n",
      "755:\tlearn: 0.0738163\ttotal: 841ms\tremaining: 271ms\n",
      "756:\tlearn: 0.0736764\ttotal: 842ms\tremaining: 270ms\n",
      "757:\tlearn: 0.0734719\ttotal: 843ms\tremaining: 269ms\n",
      "758:\tlearn: 0.0733109\ttotal: 844ms\tremaining: 268ms\n",
      "759:\tlearn: 0.0732316\ttotal: 845ms\tremaining: 267ms\n",
      "760:\tlearn: 0.0730955\ttotal: 846ms\tremaining: 266ms\n",
      "761:\tlearn: 0.0729439\ttotal: 847ms\tremaining: 265ms\n",
      "762:\tlearn: 0.0728331\ttotal: 848ms\tremaining: 264ms\n",
      "763:\tlearn: 0.0727136\ttotal: 849ms\tremaining: 262ms\n",
      "764:\tlearn: 0.0726364\ttotal: 851ms\tremaining: 261ms\n",
      "765:\tlearn: 0.0725032\ttotal: 852ms\tremaining: 260ms\n",
      "766:\tlearn: 0.0723875\ttotal: 853ms\tremaining: 259ms\n",
      "767:\tlearn: 0.0722788\ttotal: 854ms\tremaining: 258ms\n",
      "768:\tlearn: 0.0721424\ttotal: 855ms\tremaining: 257ms\n",
      "769:\tlearn: 0.0720448\ttotal: 856ms\tremaining: 256ms\n",
      "770:\tlearn: 0.0719359\ttotal: 857ms\tremaining: 255ms\n",
      "771:\tlearn: 0.0718323\ttotal: 858ms\tremaining: 253ms\n",
      "772:\tlearn: 0.0717026\ttotal: 859ms\tremaining: 252ms\n",
      "773:\tlearn: 0.0716324\ttotal: 860ms\tremaining: 251ms\n",
      "774:\tlearn: 0.0715432\ttotal: 861ms\tremaining: 250ms\n",
      "775:\tlearn: 0.0714401\ttotal: 863ms\tremaining: 249ms\n",
      "776:\tlearn: 0.0713492\ttotal: 864ms\tremaining: 248ms\n",
      "777:\tlearn: 0.0712827\ttotal: 865ms\tremaining: 247ms\n",
      "778:\tlearn: 0.0711760\ttotal: 866ms\tremaining: 246ms\n",
      "779:\tlearn: 0.0710834\ttotal: 867ms\tremaining: 245ms\n",
      "780:\tlearn: 0.0709832\ttotal: 868ms\tremaining: 243ms\n",
      "781:\tlearn: 0.0708122\ttotal: 869ms\tremaining: 242ms\n",
      "782:\tlearn: 0.0706995\ttotal: 870ms\tremaining: 241ms\n",
      "783:\tlearn: 0.0705754\ttotal: 871ms\tremaining: 240ms\n",
      "784:\tlearn: 0.0704608\ttotal: 872ms\tremaining: 239ms\n",
      "785:\tlearn: 0.0703407\ttotal: 874ms\tremaining: 238ms\n",
      "786:\tlearn: 0.0702305\ttotal: 875ms\tremaining: 237ms\n",
      "787:\tlearn: 0.0701301\ttotal: 876ms\tremaining: 236ms\n",
      "788:\tlearn: 0.0700337\ttotal: 877ms\tremaining: 234ms\n",
      "789:\tlearn: 0.0699269\ttotal: 878ms\tremaining: 233ms\n",
      "790:\tlearn: 0.0697880\ttotal: 879ms\tremaining: 232ms\n",
      "791:\tlearn: 0.0696646\ttotal: 880ms\tremaining: 231ms\n",
      "792:\tlearn: 0.0695097\ttotal: 881ms\tremaining: 230ms\n",
      "793:\tlearn: 0.0693336\ttotal: 882ms\tremaining: 229ms\n",
      "794:\tlearn: 0.0692772\ttotal: 883ms\tremaining: 228ms\n",
      "795:\tlearn: 0.0692080\ttotal: 884ms\tremaining: 227ms\n",
      "796:\tlearn: 0.0690984\ttotal: 885ms\tremaining: 226ms\n",
      "797:\tlearn: 0.0689838\ttotal: 886ms\tremaining: 224ms\n",
      "798:\tlearn: 0.0688047\ttotal: 888ms\tremaining: 223ms\n",
      "799:\tlearn: 0.0686693\ttotal: 889ms\tremaining: 222ms\n",
      "800:\tlearn: 0.0685311\ttotal: 890ms\tremaining: 221ms\n",
      "801:\tlearn: 0.0684679\ttotal: 891ms\tremaining: 220ms\n",
      "802:\tlearn: 0.0683985\ttotal: 892ms\tremaining: 219ms\n",
      "803:\tlearn: 0.0682691\ttotal: 893ms\tremaining: 218ms\n",
      "804:\tlearn: 0.0681977\ttotal: 894ms\tremaining: 216ms\n",
      "805:\tlearn: 0.0680792\ttotal: 895ms\tremaining: 215ms\n",
      "806:\tlearn: 0.0679644\ttotal: 896ms\tremaining: 214ms\n",
      "807:\tlearn: 0.0678650\ttotal: 897ms\tremaining: 213ms\n",
      "808:\tlearn: 0.0677355\ttotal: 898ms\tremaining: 212ms\n",
      "809:\tlearn: 0.0676934\ttotal: 899ms\tremaining: 211ms\n",
      "810:\tlearn: 0.0675548\ttotal: 900ms\tremaining: 210ms\n",
      "811:\tlearn: 0.0674585\ttotal: 901ms\tremaining: 209ms\n",
      "812:\tlearn: 0.0673646\ttotal: 902ms\tremaining: 207ms\n",
      "813:\tlearn: 0.0672364\ttotal: 903ms\tremaining: 206ms\n",
      "814:\tlearn: 0.0671761\ttotal: 904ms\tremaining: 205ms\n",
      "815:\tlearn: 0.0670162\ttotal: 905ms\tremaining: 204ms\n",
      "816:\tlearn: 0.0669379\ttotal: 906ms\tremaining: 203ms\n",
      "817:\tlearn: 0.0668643\ttotal: 906ms\tremaining: 202ms\n",
      "818:\tlearn: 0.0667313\ttotal: 907ms\tremaining: 201ms\n",
      "819:\tlearn: 0.0665870\ttotal: 908ms\tremaining: 199ms\n",
      "820:\tlearn: 0.0664012\ttotal: 909ms\tremaining: 198ms\n",
      "821:\tlearn: 0.0662955\ttotal: 910ms\tremaining: 197ms\n",
      "822:\tlearn: 0.0661520\ttotal: 912ms\tremaining: 196ms\n",
      "823:\tlearn: 0.0659883\ttotal: 912ms\tremaining: 195ms\n",
      "824:\tlearn: 0.0659105\ttotal: 913ms\tremaining: 194ms\n",
      "825:\tlearn: 0.0658326\ttotal: 914ms\tremaining: 193ms\n",
      "826:\tlearn: 0.0656553\ttotal: 916ms\tremaining: 192ms\n",
      "827:\tlearn: 0.0655906\ttotal: 916ms\tremaining: 190ms\n",
      "828:\tlearn: 0.0655373\ttotal: 917ms\tremaining: 189ms\n",
      "829:\tlearn: 0.0654408\ttotal: 918ms\tremaining: 188ms\n",
      "830:\tlearn: 0.0653331\ttotal: 919ms\tremaining: 187ms\n",
      "831:\tlearn: 0.0652318\ttotal: 920ms\tremaining: 186ms\n",
      "832:\tlearn: 0.0651659\ttotal: 921ms\tremaining: 185ms\n",
      "833:\tlearn: 0.0649931\ttotal: 922ms\tremaining: 184ms\n",
      "834:\tlearn: 0.0649408\ttotal: 923ms\tremaining: 182ms\n",
      "835:\tlearn: 0.0648394\ttotal: 924ms\tremaining: 181ms\n",
      "836:\tlearn: 0.0647491\ttotal: 925ms\tremaining: 180ms\n",
      "837:\tlearn: 0.0646353\ttotal: 926ms\tremaining: 179ms\n",
      "838:\tlearn: 0.0645507\ttotal: 927ms\tremaining: 178ms\n",
      "839:\tlearn: 0.0644558\ttotal: 928ms\tremaining: 177ms\n",
      "840:\tlearn: 0.0644169\ttotal: 929ms\tremaining: 176ms\n",
      "841:\tlearn: 0.0643881\ttotal: 930ms\tremaining: 175ms\n",
      "842:\tlearn: 0.0643499\ttotal: 932ms\tremaining: 173ms\n",
      "843:\tlearn: 0.0643229\ttotal: 933ms\tremaining: 172ms\n",
      "844:\tlearn: 0.0642599\ttotal: 934ms\tremaining: 171ms\n",
      "845:\tlearn: 0.0641895\ttotal: 935ms\tremaining: 170ms\n",
      "846:\tlearn: 0.0640168\ttotal: 937ms\tremaining: 169ms\n",
      "847:\tlearn: 0.0639080\ttotal: 938ms\tremaining: 168ms\n",
      "848:\tlearn: 0.0638110\ttotal: 939ms\tremaining: 167ms\n",
      "849:\tlearn: 0.0636785\ttotal: 940ms\tremaining: 166ms\n",
      "850:\tlearn: 0.0635614\ttotal: 941ms\tremaining: 165ms\n",
      "851:\tlearn: 0.0634708\ttotal: 942ms\tremaining: 164ms\n",
      "852:\tlearn: 0.0633790\ttotal: 943ms\tremaining: 162ms\n",
      "853:\tlearn: 0.0632748\ttotal: 944ms\tremaining: 161ms\n",
      "854:\tlearn: 0.0631995\ttotal: 945ms\tremaining: 160ms\n",
      "855:\tlearn: 0.0631305\ttotal: 946ms\tremaining: 159ms\n",
      "856:\tlearn: 0.0630448\ttotal: 947ms\tremaining: 158ms\n",
      "857:\tlearn: 0.0629252\ttotal: 948ms\tremaining: 157ms\n",
      "858:\tlearn: 0.0627489\ttotal: 949ms\tremaining: 156ms\n",
      "859:\tlearn: 0.0625880\ttotal: 950ms\tremaining: 155ms\n",
      "860:\tlearn: 0.0625052\ttotal: 951ms\tremaining: 154ms\n",
      "861:\tlearn: 0.0624873\ttotal: 952ms\tremaining: 152ms\n",
      "862:\tlearn: 0.0624245\ttotal: 953ms\tremaining: 151ms\n",
      "863:\tlearn: 0.0622581\ttotal: 954ms\tremaining: 150ms\n",
      "864:\tlearn: 0.0621976\ttotal: 955ms\tremaining: 149ms\n",
      "865:\tlearn: 0.0621226\ttotal: 956ms\tremaining: 148ms\n",
      "866:\tlearn: 0.0620043\ttotal: 957ms\tremaining: 147ms\n",
      "867:\tlearn: 0.0619131\ttotal: 958ms\tremaining: 146ms\n"
     ]
    },
    {
     "name": "stdout",
     "output_type": "stream",
     "text": [
      "868:\tlearn: 0.0618096\ttotal: 959ms\tremaining: 145ms\n",
      "869:\tlearn: 0.0617547\ttotal: 960ms\tremaining: 144ms\n",
      "870:\tlearn: 0.0617223\ttotal: 961ms\tremaining: 142ms\n",
      "871:\tlearn: 0.0616894\ttotal: 963ms\tremaining: 141ms\n",
      "872:\tlearn: 0.0616115\ttotal: 963ms\tremaining: 140ms\n",
      "873:\tlearn: 0.0615105\ttotal: 964ms\tremaining: 139ms\n",
      "874:\tlearn: 0.0614019\ttotal: 965ms\tremaining: 138ms\n",
      "875:\tlearn: 0.0613164\ttotal: 966ms\tremaining: 137ms\n",
      "876:\tlearn: 0.0612059\ttotal: 967ms\tremaining: 136ms\n",
      "877:\tlearn: 0.0611220\ttotal: 968ms\tremaining: 135ms\n",
      "878:\tlearn: 0.0610792\ttotal: 969ms\tremaining: 133ms\n",
      "879:\tlearn: 0.0609264\ttotal: 970ms\tremaining: 132ms\n",
      "880:\tlearn: 0.0608804\ttotal: 971ms\tremaining: 131ms\n",
      "881:\tlearn: 0.0608482\ttotal: 972ms\tremaining: 130ms\n",
      "882:\tlearn: 0.0607222\ttotal: 974ms\tremaining: 129ms\n",
      "883:\tlearn: 0.0606405\ttotal: 975ms\tremaining: 128ms\n",
      "884:\tlearn: 0.0604999\ttotal: 976ms\tremaining: 127ms\n",
      "885:\tlearn: 0.0604908\ttotal: 977ms\tremaining: 126ms\n",
      "886:\tlearn: 0.0603634\ttotal: 978ms\tremaining: 125ms\n",
      "887:\tlearn: 0.0602505\ttotal: 979ms\tremaining: 123ms\n",
      "888:\tlearn: 0.0601880\ttotal: 981ms\tremaining: 122ms\n",
      "889:\tlearn: 0.0601604\ttotal: 982ms\tremaining: 121ms\n",
      "890:\tlearn: 0.0600843\ttotal: 983ms\tremaining: 120ms\n",
      "891:\tlearn: 0.0599800\ttotal: 984ms\tremaining: 119ms\n",
      "892:\tlearn: 0.0598823\ttotal: 985ms\tremaining: 118ms\n",
      "893:\tlearn: 0.0598359\ttotal: 986ms\tremaining: 117ms\n",
      "894:\tlearn: 0.0597690\ttotal: 987ms\tremaining: 116ms\n",
      "895:\tlearn: 0.0596354\ttotal: 988ms\tremaining: 115ms\n",
      "896:\tlearn: 0.0595623\ttotal: 989ms\tremaining: 114ms\n",
      "897:\tlearn: 0.0595160\ttotal: 990ms\tremaining: 112ms\n",
      "898:\tlearn: 0.0593860\ttotal: 991ms\tremaining: 111ms\n",
      "899:\tlearn: 0.0592992\ttotal: 992ms\tremaining: 110ms\n",
      "900:\tlearn: 0.0591797\ttotal: 994ms\tremaining: 109ms\n",
      "901:\tlearn: 0.0590417\ttotal: 996ms\tremaining: 108ms\n",
      "902:\tlearn: 0.0589202\ttotal: 997ms\tremaining: 107ms\n",
      "903:\tlearn: 0.0588838\ttotal: 998ms\tremaining: 106ms\n",
      "904:\tlearn: 0.0587855\ttotal: 999ms\tremaining: 105ms\n",
      "905:\tlearn: 0.0587749\ttotal: 1000ms\tremaining: 104ms\n",
      "906:\tlearn: 0.0587407\ttotal: 1s\tremaining: 103ms\n",
      "907:\tlearn: 0.0586413\ttotal: 1s\tremaining: 102ms\n",
      "908:\tlearn: 0.0585641\ttotal: 1s\tremaining: 100ms\n",
      "909:\tlearn: 0.0584752\ttotal: 1s\tremaining: 99.3ms\n",
      "910:\tlearn: 0.0584135\ttotal: 1s\tremaining: 98.2ms\n",
      "911:\tlearn: 0.0583079\ttotal: 1.01s\tremaining: 97.1ms\n",
      "912:\tlearn: 0.0582103\ttotal: 1.01s\tremaining: 96ms\n",
      "913:\tlearn: 0.0580684\ttotal: 1.01s\tremaining: 94.9ms\n",
      "914:\tlearn: 0.0580383\ttotal: 1.01s\tremaining: 93.8ms\n",
      "915:\tlearn: 0.0579771\ttotal: 1.01s\tremaining: 92.6ms\n",
      "916:\tlearn: 0.0579038\ttotal: 1.01s\tremaining: 91.5ms\n",
      "917:\tlearn: 0.0578319\ttotal: 1.01s\tremaining: 90.4ms\n",
      "918:\tlearn: 0.0577003\ttotal: 1.01s\tremaining: 89.3ms\n",
      "919:\tlearn: 0.0575930\ttotal: 1.01s\tremaining: 88.2ms\n",
      "920:\tlearn: 0.0574657\ttotal: 1.01s\tremaining: 87.1ms\n",
      "921:\tlearn: 0.0573942\ttotal: 1.02s\tremaining: 86ms\n",
      "922:\tlearn: 0.0573489\ttotal: 1.02s\tremaining: 84.9ms\n",
      "923:\tlearn: 0.0572693\ttotal: 1.02s\tremaining: 83.8ms\n",
      "924:\tlearn: 0.0571173\ttotal: 1.02s\tremaining: 82.7ms\n",
      "925:\tlearn: 0.0570414\ttotal: 1.02s\tremaining: 81.6ms\n",
      "926:\tlearn: 0.0569209\ttotal: 1.02s\tremaining: 80.5ms\n",
      "927:\tlearn: 0.0568563\ttotal: 1.02s\tremaining: 79.4ms\n",
      "928:\tlearn: 0.0568288\ttotal: 1.02s\tremaining: 78.2ms\n",
      "929:\tlearn: 0.0567953\ttotal: 1.02s\tremaining: 77.1ms\n",
      "930:\tlearn: 0.0567164\ttotal: 1.02s\tremaining: 76ms\n",
      "931:\tlearn: 0.0567043\ttotal: 1.03s\tremaining: 74.9ms\n",
      "932:\tlearn: 0.0566042\ttotal: 1.03s\tremaining: 73.8ms\n",
      "933:\tlearn: 0.0565575\ttotal: 1.03s\tremaining: 72.7ms\n",
      "934:\tlearn: 0.0564439\ttotal: 1.03s\tremaining: 71.6ms\n",
      "935:\tlearn: 0.0563741\ttotal: 1.03s\tremaining: 70.5ms\n",
      "936:\tlearn: 0.0562760\ttotal: 1.03s\tremaining: 69.4ms\n",
      "937:\tlearn: 0.0561975\ttotal: 1.03s\tremaining: 68.3ms\n",
      "938:\tlearn: 0.0561546\ttotal: 1.03s\tremaining: 67.2ms\n",
      "939:\tlearn: 0.0561287\ttotal: 1.03s\tremaining: 66.1ms\n",
      "940:\tlearn: 0.0560840\ttotal: 1.04s\tremaining: 65ms\n",
      "941:\tlearn: 0.0560362\ttotal: 1.04s\tremaining: 63.9ms\n",
      "942:\tlearn: 0.0559822\ttotal: 1.04s\tremaining: 62.8ms\n",
      "943:\tlearn: 0.0558811\ttotal: 1.04s\tremaining: 61.7ms\n",
      "944:\tlearn: 0.0557662\ttotal: 1.04s\tremaining: 60.6ms\n",
      "945:\tlearn: 0.0557575\ttotal: 1.04s\tremaining: 59.5ms\n",
      "946:\tlearn: 0.0556882\ttotal: 1.04s\tremaining: 58.4ms\n",
      "947:\tlearn: 0.0556591\ttotal: 1.04s\tremaining: 57.3ms\n",
      "948:\tlearn: 0.0555647\ttotal: 1.05s\tremaining: 56.2ms\n",
      "949:\tlearn: 0.0555444\ttotal: 1.05s\tremaining: 55.1ms\n",
      "950:\tlearn: 0.0554772\ttotal: 1.05s\tremaining: 54ms\n",
      "951:\tlearn: 0.0554490\ttotal: 1.05s\tremaining: 52.9ms\n",
      "952:\tlearn: 0.0553279\ttotal: 1.05s\tremaining: 51.8ms\n",
      "953:\tlearn: 0.0552445\ttotal: 1.05s\tremaining: 50.7ms\n",
      "954:\tlearn: 0.0551575\ttotal: 1.05s\tremaining: 49.6ms\n",
      "955:\tlearn: 0.0551472\ttotal: 1.05s\tremaining: 48.5ms\n",
      "956:\tlearn: 0.0550295\ttotal: 1.05s\tremaining: 47.4ms\n",
      "957:\tlearn: 0.0549872\ttotal: 1.06s\tremaining: 46.3ms\n",
      "958:\tlearn: 0.0549254\ttotal: 1.06s\tremaining: 45.2ms\n",
      "959:\tlearn: 0.0548705\ttotal: 1.06s\tremaining: 44.1ms\n",
      "960:\tlearn: 0.0548031\ttotal: 1.06s\tremaining: 43ms\n",
      "961:\tlearn: 0.0547375\ttotal: 1.06s\tremaining: 41.9ms\n",
      "962:\tlearn: 0.0547304\ttotal: 1.06s\tremaining: 40.8ms\n",
      "963:\tlearn: 0.0546060\ttotal: 1.06s\tremaining: 39.7ms\n",
      "964:\tlearn: 0.0545024\ttotal: 1.06s\tremaining: 38.6ms\n",
      "965:\tlearn: 0.0544178\ttotal: 1.06s\tremaining: 37.5ms\n",
      "966:\tlearn: 0.0542923\ttotal: 1.06s\tremaining: 36.4ms\n",
      "967:\tlearn: 0.0542126\ttotal: 1.07s\tremaining: 35.3ms\n",
      "968:\tlearn: 0.0541105\ttotal: 1.07s\tremaining: 34.2ms\n",
      "969:\tlearn: 0.0540901\ttotal: 1.07s\tremaining: 33.1ms\n",
      "970:\tlearn: 0.0540827\ttotal: 1.07s\tremaining: 32ms\n",
      "971:\tlearn: 0.0540605\ttotal: 1.07s\tremaining: 30.9ms\n",
      "972:\tlearn: 0.0539923\ttotal: 1.07s\tremaining: 29.8ms\n",
      "973:\tlearn: 0.0539388\ttotal: 1.07s\tremaining: 28.7ms\n",
      "974:\tlearn: 0.0539218\ttotal: 1.07s\tremaining: 27.6ms\n",
      "975:\tlearn: 0.0538553\ttotal: 1.07s\tremaining: 26.4ms\n",
      "976:\tlearn: 0.0537631\ttotal: 1.08s\tremaining: 25.3ms\n",
      "977:\tlearn: 0.0536878\ttotal: 1.08s\tremaining: 24.2ms\n",
      "978:\tlearn: 0.0535296\ttotal: 1.08s\tremaining: 23.1ms\n",
      "979:\tlearn: 0.0533730\ttotal: 1.08s\tremaining: 22ms\n",
      "980:\tlearn: 0.0533183\ttotal: 1.08s\tremaining: 20.9ms\n",
      "981:\tlearn: 0.0532115\ttotal: 1.08s\tremaining: 19.8ms\n",
      "982:\tlearn: 0.0530997\ttotal: 1.08s\tremaining: 18.7ms\n",
      "983:\tlearn: 0.0530952\ttotal: 1.08s\tremaining: 17.6ms\n",
      "984:\tlearn: 0.0530100\ttotal: 1.08s\tremaining: 16.5ms\n",
      "985:\tlearn: 0.0528926\ttotal: 1.08s\tremaining: 15.4ms\n",
      "986:\tlearn: 0.0527765\ttotal: 1.09s\tremaining: 14.3ms\n",
      "987:\tlearn: 0.0527381\ttotal: 1.09s\tremaining: 13.2ms\n",
      "988:\tlearn: 0.0526601\ttotal: 1.09s\tremaining: 12.1ms\n",
      "989:\tlearn: 0.0526364\ttotal: 1.09s\tremaining: 11ms\n",
      "990:\tlearn: 0.0525714\ttotal: 1.09s\tremaining: 9.91ms\n",
      "991:\tlearn: 0.0524886\ttotal: 1.09s\tremaining: 8.81ms\n",
      "992:\tlearn: 0.0523830\ttotal: 1.09s\tremaining: 7.71ms\n",
      "993:\tlearn: 0.0523634\ttotal: 1.09s\tremaining: 6.6ms\n"
     ]
    },
    {
     "name": "stdout",
     "output_type": "stream",
     "text": [
      "994:\tlearn: 0.0522526\ttotal: 1.09s\tremaining: 5.5ms\n",
      "995:\tlearn: 0.0522157\ttotal: 1.1s\tremaining: 4.41ms\n",
      "996:\tlearn: 0.0521944\ttotal: 1.1s\tremaining: 3.3ms\n",
      "997:\tlearn: 0.0521711\ttotal: 1.1s\tremaining: 2.2ms\n",
      "998:\tlearn: 0.0521394\ttotal: 1.1s\tremaining: 1.1ms\n",
      "999:\tlearn: 0.0520761\ttotal: 1.1s\tremaining: 0us\n"
     ]
    },
    {
     "data": {
      "text/plain": [
       "<catboost.core.CatBoostRegressor at 0x7f67befc3d50>"
      ]
     },
     "execution_count": 9,
     "metadata": {},
     "output_type": "execute_result"
    }
   ],
   "source": [
    "#Train the Model \n",
    "prior_model = ctb.CatBoostRegressor()\n",
    "prior_model.fit(X_train,Y_train)"
   ]
  },
  {
   "cell_type": "code",
   "execution_count": 10,
   "id": "c775fd81",
   "metadata": {
    "execution": {
     "iopub.execute_input": "2022-01-15T11:12:03.469830Z",
     "iopub.status.busy": "2022-01-15T11:12:03.469127Z",
     "iopub.status.idle": "2022-01-15T11:12:03.482530Z",
     "shell.execute_reply": "2022-01-15T11:12:03.481945Z"
    },
    "papermill": {
     "duration": 0.049225,
     "end_time": "2022-01-15T11:12:03.482668",
     "exception": false,
     "start_time": "2022-01-15T11:12:03.433443",
     "status": "completed"
    },
    "tags": []
   },
   "outputs": [
    {
     "data": {
      "application/scrapbook.scrap.json+json": {
       "data": 0.09971477146898917,
       "encoder": "json",
       "name": "Prior Model MSE",
       "version": 1
      }
     },
     "metadata": {
      "scrapbook": {
       "data": true,
       "display": false,
       "name": "Prior Model MSE"
      }
     },
     "output_type": "display_data"
    },
    {
     "data": {
      "application/scrapbook.scrap.json+json": {
       "data": 0.0987114992026523,
       "encoder": "json",
       "name": "ABC Pre-generator MSE",
       "version": 1
      }
     },
     "metadata": {
      "scrapbook": {
       "data": true,
       "display": false,
       "name": "ABC Pre-generator MSE"
      }
     },
     "output_type": "display_data"
    }
   ],
   "source": [
    "y_pred = prior_model.predict(X_test)\n",
    "y_abc = y_pred + np.random.normal(0,variance, y_pred.shape)\n",
    "mse = mean_squared_error(y_pred,Y_test)\n",
    "sb.glue(\"Prior Model MSE\",mse)\n",
    "mse = mean_squared_error(y_abc,Y_test)\n",
    "sb.glue(\"ABC Pre-generator MSE\",mse)"
   ]
  },
  {
   "cell_type": "markdown",
   "id": "0cd0def6",
   "metadata": {
    "papermill": {
     "duration": 0.030709,
     "end_time": "2022-01-15T11:12:03.544120",
     "exception": false,
     "start_time": "2022-01-15T11:12:03.513411",
     "status": "completed"
    },
    "tags": []
   },
   "source": [
    "# ABC GAN Model"
   ]
  },
  {
   "cell_type": "markdown",
   "id": "70beaf4c",
   "metadata": {
    "papermill": {
     "duration": 0.029333,
     "end_time": "2022-01-15T11:12:03.602901",
     "exception": false,
     "start_time": "2022-01-15T11:12:03.573568",
     "status": "completed"
    },
    "tags": []
   },
   "source": [
    "### Training the network\n",
    "**Training ABC-GAN for n_epochs number of epochs** "
   ]
  },
  {
   "cell_type": "code",
   "execution_count": 11,
   "id": "dbaaafa1",
   "metadata": {
    "execution": {
     "iopub.execute_input": "2022-01-15T11:12:03.670355Z",
     "iopub.status.busy": "2022-01-15T11:12:03.669532Z",
     "iopub.status.idle": "2022-01-15T11:12:06.762864Z",
     "shell.execute_reply": "2022-01-15T11:12:06.762292Z"
    },
    "papermill": {
     "duration": 3.129421,
     "end_time": "2022-01-15T11:12:06.763053",
     "exception": false,
     "start_time": "2022-01-15T11:12:03.633632",
     "status": "completed"
    },
    "tags": []
   },
   "outputs": [],
   "source": [
    "gen = network.Generator(n_features+1).to(device)\n",
    "disc = network.Discriminator(n_features+1).to(device)\n",
    "\n",
    "criterion = torch.nn.BCELoss()\n",
    "gen_opt = torch.optim.Adam(gen.parameters(), lr=0.001, betas=(0.5, 0.999))\n",
    "disc_opt = torch.optim.Adam(disc.parameters(), lr=0.01, betas=(0.5, 0.999))"
   ]
  },
  {
   "cell_type": "code",
   "execution_count": 12,
   "id": "6e9eeab8",
   "metadata": {
    "execution": {
     "iopub.execute_input": "2022-01-15T11:12:06.848675Z",
     "iopub.status.busy": "2022-01-15T11:12:06.848041Z",
     "iopub.status.idle": "2022-01-15T11:17:44.119314Z",
     "shell.execute_reply": "2022-01-15T11:17:44.118769Z"
    },
    "papermill": {
     "duration": 337.307027,
     "end_time": "2022-01-15T11:17:44.119508",
     "exception": false,
     "start_time": "2022-01-15T11:12:06.812481",
     "status": "completed"
    },
    "tags": []
   },
   "outputs": [
    {
     "data": {
      "image/png": "[encoded data removed]",
      "text/plain": [
       "<Figure size 432x288 with 1 Axes>"
      ]
     },
     "metadata": {
      "needs_background": "light"
     },
     "output_type": "display_data"
    },
    {
     "data": {
      "image/png": "[encoded data removed]",
      "text/plain": [
       "<Figure size 432x288 with 1 Axes>"
      ]
     },
     "metadata": {
      "needs_background": "light"
     },
     "output_type": "display_data"
    }
   ],
   "source": [
    "#Training the ABC_GAN \n",
    "ABC_train_test2.training_GAN(disc,gen,disc_opt,gen_opt,train_data,batch_size,n_epochs,criterion,prior_model,variance,device)"
   ]
  },
  {
   "cell_type": "code",
   "execution_count": 13,
   "id": "11c3082e",
   "metadata": {
    "execution": {
     "iopub.execute_input": "2022-01-15T11:17:44.193141Z",
     "iopub.status.busy": "2022-01-15T11:17:44.192429Z",
     "iopub.status.idle": "2022-01-15T11:17:44.614734Z",
     "shell.execute_reply": "2022-01-15T11:17:44.614136Z"
    },
    "papermill": {
     "duration": 0.461395,
     "end_time": "2022-01-15T11:17:44.614910",
     "exception": false,
     "start_time": "2022-01-15T11:17:44.153515",
     "status": "completed"
    },
    "tags": []
   },
   "outputs": [
    {
     "data": {
      "application/scrapbook.scrap.json+json": {
       "data": 0.11994989913296532,
       "encoder": "json",
       "name": "ABC-GAN Model 1 MSE",
       "version": 1
      }
     },
     "metadata": {
      "scrapbook": {
       "data": true,
       "display": false,
       "name": "ABC-GAN Model 1 MSE"
      }
     },
     "output_type": "display_data"
    },
    {
     "data": {
      "application/scrapbook.scrap.json+json": {
       "data": 0.2413638315967047,
       "encoder": "json",
       "name": "ABC-GAN Model 1 MAE",
       "version": 1
      }
     },
     "metadata": {
      "scrapbook": {
       "data": true,
       "display": false,
       "name": "ABC-GAN Model 1 MAE"
      }
     },
     "output_type": "display_data"
    },
    {
     "data": {
      "application/scrapbook.scrap.json+json": {
       "data": 24.619110822863878,
       "encoder": "json",
       "name": "ABC-GAN Model 1 Manhattan Distance",
       "version": 1
      }
     },
     "metadata": {
      "scrapbook": {
       "data": true,
       "display": false,
       "name": "ABC-GAN Model 1 Manhattan Distance"
      }
     },
     "output_type": "display_data"
    },
    {
     "data": {
      "application/scrapbook.scrap.json+json": {
       "data": 3.4978295785884366,
       "encoder": "json",
       "name": "ABC-GAN Model 1 Euclidean distance",
       "version": 1
      }
     },
     "metadata": {
      "scrapbook": {
       "data": true,
       "display": false,
       "name": "ABC-GAN Model 1 Euclidean distance"
      }
     },
     "output_type": "display_data"
    },
    {
     "data": {
      "application/scrapbook.scrap.json+json": {
       "data": [
        [
         0.12054549700546731,
         0.11956494155424605,
         0.12030345063075847,
         0.11906480775162284,
         0.11980008899497209,
         0.11872308046879942,
         0.11993761800434428,
         0.11871810371606945,
         0.11957083355044282,
         0.12092271720809815,
         0.12121370035502434,
         0.12050146471163299,
         0.11936335288511106,
         0.11997221557316828,
         0.12033869046256998,
         0.12051234469099335,
         0.120926415660107,
         0.1188272469686221,
         0.11961274771842931,
         0.12035145749697886,
         0.12077815847815022,
         0.11949708443825349,
         0.12015874649154927,
         0.12029786235858904,
         0.12022075408731327,
         0.12008362787241919,
         0.11993552062857664,
         0.11961660102717286,
         0.11867066385207742,
         0.1209749373873478,
         0.12018833301630939,
         0.1188212225909292,
         0.11956563632450948,
         0.12024696989688057,
         0.11904608402984651,
         0.12022148769653469,
         0.11964517487012455,
         0.12003684127783498,
         0.11936657719112098,
         0.11988123314968621,
         0.11968799042281265,
         0.12094429393579037,
         0.11956825472330632,
         0.12068258545544007,
         0.12032229038291387,
         0.120301532930661,
         0.11967946244456176,
         0.11972377304206384,
         0.12004919787657473,
         0.12086774842858472,
         0.11928796728811529,
         0.11977947206849128,
         0.12030471693356727,
         0.1197033794240927,
         0.11978395515923454,
         0.11918480676561095,
         0.11999782819476189,
         0.11887435988008659,
         0.11992001242130124,
         0.11965718595194919,
         0.12012701246809591,
         0.11886766970447106,
         0.1195268389804107,
         0.12050103530424248,
         0.11993199818073641,
         0.11963011139358938,
         0.12036753989417757,
         0.12016389591468103,
         0.11964018832746934,
         0.12024912931685458,
         0.12127636863479008,
         0.12086108557907113,
         0.1198707390051629,
         0.1201361486376493,
         0.11905078667023779,
         0.12085681704011486,
         0.12011550998748978,
         0.12018288056303579,
         0.12063663548252206,
         0.11947726647911751,
         0.1203766591465003,
         0.11972518803979786,
         0.11965500144126981,
         0.12063946371137112,
         0.12093781565207752,
         0.11988737558383672,
         0.1186103527861871,
         0.12035199482769302,
         0.12042778339752601,
         0.11987386006900301,
         0.12025548129770118,
         0.11912880283108587,
         0.12020856680108527,
         0.12016265848300023,
         0.1204754699806212,
         0.11888166573360297,
         0.11997320159786505,
         0.11991700517302395,
         0.1199864773886849,
         0.11970032598807531
        ],
        [
         0.24212017387845644,
         0.23988725145475245,
         0.24090041230231815,
         0.23982941701679544,
         0.2423874264601253,
         0.2404552438734647,
         0.24182788427809582,
         0.23960872727683655,
         0.24122587791370118,
         0.24234362858731082,
         0.24421825394143953,
         0.24167957382422744,
         0.24109543066508338,
         0.24208400846805936,
         0.24190472887244588,
         0.24246579451559513,
         0.242690925057247,
         0.23967490344326578,
         0.2420605210970868,
         0.24176681402376762,
         0.2415864593897234,
         0.24045110419940421,
         0.24145196629322918,
         0.24136646763038108,
         0.24124465359594016,
         0.2412517260595718,
         0.2417333041975165,
         0.24090474569147416,
         0.24069627983422548,
         0.24234976304475875,
         0.2414908444088902,
         0.2391711003329678,
         0.24153486758872283,
         0.24184850412512235,
         0.24113089309128768,
         0.2412113148043407,
         0.24050291772822247,
         0.2412655526571268,
         0.24062692380382442,
         0.24123858367366827,
         0.2406724949878659,
         0.24139746025606407,
         0.24152793237647296,
         0.24164907421514975,
         0.24261659978176742,
         0.2413234307394162,
         0.24054752895608544,
         0.2412591999414943,
         0.24081258562521315,
         0.24289661279751681,
         0.24055594267031433,
         0.24035635691903093,
         0.2414316851554402,
         0.241154600911792,
         0.24129498197569274,
         0.2409175898350191,
         0.24141846037488066,
         0.23994325045678838,
         0.24109309918119334,
         0.2414824007462491,
         0.2410454805483859,
         0.2410441545276519,
         0.24094057195436427,
         0.2427927307766296,
         0.24120149493911394,
         0.2415065955571538,
         0.2413690368389236,
         0.24169047289144466,
         0.24175009159736482,
         0.24204634687881552,
         0.24336177467678985,
         0.24205348873510957,
         0.24074803708194226,
         0.24208966305698543,
         0.24082429253258833,
         0.2434464665951536,
         0.240593857542776,
         0.24262871837024302,
         0.24170109307320387,
         0.24173849002074668,
         0.24257402606856296,
         0.24152103175098696,
         0.24069698942898243,
         0.24273751171159685,
         0.24181219602149784,
         0.2407617420232033,
         0.2397975054131273,
         0.24125889735296369,
         0.24160018445485654,
         0.24058737915337963,
         0.24130707163838486,
         0.2405753578607212,
         0.2416597119642093,
         0.2415462379051628,
         0.24166059865634523,
         0.2406363026238978,
         0.24077355407872328,
         0.24042682856430903,
         0.24139200690585902,
         0.240848910894391
        ],
        [
         24.696257735602558,
         24.46849964838475,
         24.571842054836452,
         24.462600535713136,
         24.72351749893278,
         24.5264348750934,
         24.666444196365774,
         24.440090182237327,
         24.60503954719752,
         24.719050115905702,
         24.910261902026832,
         24.6513165300712,
         24.591733927838504,
         24.692568863742054,
         24.67428234498948,
         24.731511040590703,
         24.754474355839193,
         24.44684015121311,
         24.690173151902854,
         24.660215030424297,
         24.641818857751787,
         24.52601262833923,
         24.628100561909378,
         24.61937969829887,
         24.606954666785896,
         24.607676058076322,
         24.656797028146684,
         24.572284060530365,
         24.551020543091,
         24.719675830565393,
         24.6320661297068,
         24.395452233962715,
         24.636556494049728,
         24.66854742076248,
         24.595351095311344,
         24.60355411004275,
         24.53129760827869,
         24.609086371026933,
         24.54394622799009,
         24.606335534714162,
         24.54859448876232,
         24.622540946118534,
         24.635849102400243,
         24.648205569945276,
         24.746893177740276,
         24.614989935420454,
         24.535847953520715,
         24.60843839403242,
         24.56288373377174,
         24.775454505346715,
         24.536706152372062,
         24.516348405741155,
         24.6260318858549,
         24.597769293002784,
         24.61208816152066,
         24.573594163171947,
         24.624682958237827,
         24.474211546592414,
         24.59149611648172,
         24.63120487611741,
         24.58663901593536,
         24.586503761820495,
         24.575938339345157,
         24.76485853921622,
         24.602552483789623,
         24.63367274682969,
         24.619641757570207,
         24.652428234927356,
         24.65850934293121,
         24.688727381639183,
         24.822901017032564,
         24.689455850981176,
         24.55629978235811,
         24.693145631812513,
         24.56407783832401,
         24.831539592705667,
         24.540573469363153,
         24.74812927376479,
         24.653511493466794,
         24.657325982116163,
         24.742550658993423,
         24.63514523860067,
         24.551092921756208,
         24.75922619458288,
         24.66484399419278,
         24.557697686366737,
         24.459345552138984,
         24.608407530002296,
         24.643218814395368,
         24.53991267364472,
         24.613321307115257,
         24.538686501793563,
         24.649290620349348,
         24.637716266326606,
         24.649381062947214,
         24.544902867637575,
         24.558902516029775,
         24.52353651355952,
         24.62198470439762,
         24.566588911227882
        ],
        [
         3.5065140374106116,
         3.4922233660711193,
         3.5029918590167126,
         3.48491181963985,
         3.495655743560449,
         3.479907212529888,
         3.497661652653544,
         3.479834274651465,
         3.4923094109979957,
         3.511996178133742,
         3.516219196269266,
         3.505873557415693,
         3.489278148024507,
         3.4981660893192545,
         3.5035048775736186,
         3.5060318250810734,
         3.5120498853704962,
         3.4814334965355083,
         3.4929214516332587,
         3.503690720467753,
         3.509896318236669,
         3.4912322484621185,
         3.500884479976172,
         3.5029104985106434,
         3.5017876744465752,
         3.499789999840956,
         3.497631070326717,
         3.492977713179921,
         3.479138932683186,
         3.5127544197551694,
         3.5013154624602967,
         3.481345243476261,
         3.4922335123957513,
         3.502169460417617,
         3.4846377962486064,
         3.5017983587074997,
         3.4933948870336295,
         3.4991081449905446,
         3.489325274819523,
         3.4968393988383273,
         3.4940198944950063,
         3.5123094939726793,
         3.492271750848901,
         3.508507334530582,
         3.503266135916199,
         3.5029639391417406,
         3.4938954147692085,
         3.4945421517404123,
         3.499288239543954,
         3.51119784969683,
         3.4881761227592505,
         3.495354939199467,
         3.5030102950496538,
         3.494244510800218,
         3.4954203504359698,
         3.4866675049525897,
         3.4985394775342633,
         3.4821235916849407,
         3.49740493322874,
         3.4935702321692084,
         3.5004221562185585,
         3.482025604422812,
         3.491666876436223,
         3.505867310813792,
         3.4975797080888835,
         3.493174968727751,
         3.503924809296871,
         3.500959494666778,
         3.4933220878415825,
         3.5022009066184605,
         3.5171280330332864,
         3.5111010707561885,
         3.496686342600179,
         3.500555264674481,
         3.484706621849859,
         3.5110390681522925,
         3.500254564845814,
         3.5012360413759094,
         3.5078393377144925,
         3.4909427352607763,
         3.5040575384749366,
         3.494562802420265,
         3.4935383419979122,
         3.507880456708845,
         3.5122154256981317,
         3.4969289826290932,
         3.478254732504663,
         3.503698541887513,
         3.5048015502375676,
         3.496731863760547,
         3.5022934046657945,
         3.4858482308859573,
         3.501610174435569,
         3.50094146841475,
         3.505495391242636,
         3.482230593287513,
         3.4981804646104577,
         3.497361080536072,
         3.498374007113285,
         3.4941999443053744
        ]
       ],
       "encoder": "json",
       "name": "ABC_GAN_1 Metrics",
       "version": 1
      }
     },
     "metadata": {
      "scrapbook": {
       "data": true,
       "display": false,
       "name": "ABC_GAN_1 Metrics"
      }
     },
     "output_type": "display_data"
    }
   ],
   "source": [
    "ABC_GAN1_metrics=ABC_train_test2.test_generator(gen,test_data,prior_model,variance,\"1\",device)\n",
    "sb.glue(\"ABC_GAN_1 Metrics\",ABC_GAN1_metrics)"
   ]
  },
  {
   "cell_type": "markdown",
   "id": "394a2b9d",
   "metadata": {
    "papermill": {
     "duration": 0.035549,
     "end_time": "2022-01-15T11:17:44.687777",
     "exception": false,
     "start_time": "2022-01-15T11:17:44.652228",
     "status": "completed"
    },
    "tags": []
   },
   "source": [
    "#### Sanity Checks "
   ]
  },
  {
   "cell_type": "code",
   "execution_count": 14,
   "id": "a36b3b22",
   "metadata": {
    "execution": {
     "iopub.execute_input": "2022-01-15T11:17:44.765334Z",
     "iopub.status.busy": "2022-01-15T11:17:44.764662Z",
     "iopub.status.idle": "2022-01-15T11:17:45.535876Z",
     "shell.execute_reply": "2022-01-15T11:17:45.535381Z"
    },
    "papermill": {
     "duration": 0.812437,
     "end_time": "2022-01-15T11:17:45.536021",
     "exception": false,
     "start_time": "2022-01-15T11:17:44.723584",
     "status": "completed"
    },
    "tags": []
   },
   "outputs": [
    {
     "data": {
      "image/png": "[encoded data removed]",
      "text/plain": [
       "<Figure size 432x288 with 1 Axes>"
      ]
     },
     "metadata": {
      "needs_background": "light"
     },
     "output_type": "display_data"
    },
    {
     "data": {
      "image/png": "[encoded data removed]",
      "text/plain": [
       "<Figure size 432x288 with 1 Axes>"
      ]
     },
     "metadata": {
      "needs_background": "light"
     },
     "output_type": "display_data"
    },
    {
     "data": {
      "image/png": "[encoded data removed]",
      "text/plain": [
       "<Figure size 432x288 with 1 Axes>"
      ]
     },
     "metadata": {
      "needs_background": "light"
     },
     "output_type": "display_data"
    },
    {
     "data": {
      "image/png": "[encoded data removed]",
      "text/plain": [
       "<Figure size 432x288 with 1 Axes>"
      ]
     },
     "metadata": {
      "needs_background": "light"
     },
     "output_type": "display_data"
    }
   ],
   "source": [
    "sanityChecks.discProbVsError(train_data,disc,device)\n",
    "sanityChecks.discProbVsError(test_data,disc,device)"
   ]
  },
  {
   "cell_type": "markdown",
   "id": "130f3a4d",
   "metadata": {
    "papermill": {
     "duration": 0.040024,
     "end_time": "2022-01-15T11:17:45.618011",
     "exception": false,
     "start_time": "2022-01-15T11:17:45.577987",
     "status": "completed"
    },
    "tags": []
   },
   "source": [
    "# ABC - GAN Model with skip connection"
   ]
  },
  {
   "cell_type": "code",
   "execution_count": 15,
   "id": "4e43dad1",
   "metadata": {
    "execution": {
     "iopub.execute_input": "2022-01-15T11:17:45.706722Z",
     "iopub.status.busy": "2022-01-15T11:17:45.706079Z",
     "iopub.status.idle": "2022-01-15T11:17:45.710856Z",
     "shell.execute_reply": "2022-01-15T11:17:45.710350Z"
    },
    "papermill": {
     "duration": 0.053031,
     "end_time": "2022-01-15T11:17:45.710990",
     "exception": false,
     "start_time": "2022-01-15T11:17:45.657959",
     "status": "completed"
    },
    "tags": []
   },
   "outputs": [],
   "source": [
    "#Generator\n",
    "gen3 = network.GeneratorWithSkipConnection(n_features+1).to(device)\n",
    "constraints=network.weightConstraint()\n",
    "#Discriminator \n",
    "disc3 = network.Discriminator(n_features+1).to(device)\n",
    "\n",
    "criterion = torch.nn.BCELoss()\n",
    "gen_opt = torch.optim.Adam(gen3.parameters(), lr=0.01, betas=(0.5, 0.999))\n",
    "disc_opt = torch.optim.Adam(disc3.parameters(), lr=0.01, betas=(0.5, 0.999))\n"
   ]
  },
  {
   "cell_type": "code",
   "execution_count": 16,
   "id": "26acbc37",
   "metadata": {
    "execution": {
     "iopub.execute_input": "2022-01-15T11:17:45.798466Z",
     "iopub.status.busy": "2022-01-15T11:17:45.797794Z",
     "iopub.status.idle": "2022-01-15T11:54:42.741879Z",
     "shell.execute_reply": "2022-01-15T11:54:42.741273Z"
    },
    "papermill": {
     "duration": 2216.989927,
     "end_time": "2022-01-15T11:54:42.742062",
     "exception": false,
     "start_time": "2022-01-15T11:17:45.752135",
     "status": "completed"
    },
    "tags": []
   },
   "outputs": [
    {
     "data": {
      "image/png": "[encoded data removed]",
      "text/plain": [
       "<Figure size 432x288 with 1 Axes>"
      ]
     },
     "metadata": {
      "needs_background": "light"
     },
     "output_type": "display_data"
    },
    {
     "data": {
      "image/png": "[encoded data removed]",
      "text/plain": [
       "<Figure size 432x288 with 1 Axes>"
      ]
     },
     "metadata": {
      "needs_background": "light"
     },
     "output_type": "display_data"
    }
   ],
   "source": [
    "ABC_train_test2.training_GAN_skip_connection(disc3,gen3,disc_opt,gen_opt,train_data,batch_size,n_epochs,criterion,prior_model,variance,device)\n"
   ]
  },
  {
   "cell_type": "code",
   "execution_count": 17,
   "id": "c5e0717b",
   "metadata": {
    "execution": {
     "iopub.execute_input": "2022-01-15T11:54:42.850789Z",
     "iopub.status.busy": "2022-01-15T11:54:42.850097Z",
     "iopub.status.idle": "2022-01-15T11:54:44.846661Z",
     "shell.execute_reply": "2022-01-15T11:54:44.845822Z"
    },
    "papermill": {
     "duration": 2.046922,
     "end_time": "2022-01-15T11:54:44.846824",
     "exception": false,
     "start_time": "2022-01-15T11:54:42.799902",
     "status": "completed"
    },
    "tags": []
   },
   "outputs": [
    {
     "data": {
      "application/scrapbook.scrap.json+json": {
       "data": 92401.1826276888,
       "encoder": "json",
       "name": "ABC-GAN Model 3 MSE",
       "version": 1
      }
     },
     "metadata": {
      "scrapbook": {
       "data": true,
       "display": false,
       "name": "ABC-GAN Model 3 MSE"
      }
     },
     "output_type": "display_data"
    },
    {
     "data": {
      "application/scrapbook.scrap.json+json": {
       "data": 282.90537650689885,
       "encoder": "json",
       "name": "ABC-GAN Model 3 MAE",
       "version": 1
      }
     },
     "metadata": {
      "scrapbook": {
       "data": true,
       "display": false,
       "name": "ABC-GAN Model 3 MAE"
      }
     },
     "output_type": "display_data"
    },
    {
     "data": {
      "application/scrapbook.scrap.json+json": {
       "data": 28856.348403703683,
       "encoder": "json",
       "name": "ABC-GAN Model 3 Manhattan Distance",
       "version": 1
      }
     },
     "metadata": {
      "scrapbook": {
       "data": true,
       "display": false,
       "name": "ABC-GAN Model 3 Manhattan Distance"
      }
     },
     "output_type": "display_data"
    },
    {
     "data": {
      "application/scrapbook.scrap.json+json": {
       "data": 3070.0033184324056,
       "encoder": "json",
       "name": "ABC-GAN Model 3 Euclidean distance",
       "version": 1
      }
     },
     "metadata": {
      "scrapbook": {
       "data": true,
       "display": false,
       "name": "ABC-GAN Model 3 Euclidean distance"
      }
     },
     "output_type": "display_data"
    },
    {
     "data": {
      "application/scrapbook.scrap.json+json": {
       "data": [
        [
         92394.51207034003,
         92402.43743345731,
         92405.53806699748,
         92387.8273651693,
         92406.30604196749,
         92383.12460336441,
         92356.28002076245,
         92430.90341477045,
         92432.44610101069,
         92415.39569253368,
         92403.7866868091,
         92377.15870414075,
         92437.68507052831,
         92381.30975535569,
         92430.21469823219,
         92358.54020467242,
         92408.14184381654,
         92417.76703601345,
         92380.3530557765,
         92446.74097870849,
         92390.43918514559,
         92410.01863515149,
         92393.75109698281,
         92366.9139570982,
         92414.54686047905,
         92379.47264222371,
         92371.84129821025,
         92386.92810590846,
         92343.75270112306,
         92423.86986052222,
         92471.3989535292,
         92410.72716157329,
         92426.87628963594,
         92350.69827886872,
         92419.3891954992,
         92400.34767366564,
         92440.31680460433,
         92426.59691902559,
         92403.61169857431,
         92390.20601659242,
         92345.44129433516,
         92402.46966072066,
         92447.336605404,
         92415.5066872937,
         92435.55693909226,
         92389.67805166313,
         92383.2909221597,
         92468.4124797539,
         92368.54908738249,
         92429.4119090096,
         92423.3855197767,
         92415.84713320748,
         92447.16568721837,
         92374.5507453986,
         92439.38459553769,
         92355.87168495797,
         92417.48326940865,
         92364.12713527522,
         92385.77729558185,
         92392.05170927416,
         92422.37989340194,
         92410.33368413069,
         92387.12588419352,
         92417.81430683928,
         92387.00350237859,
         92370.53839797952,
         92355.15000708672,
         92462.97243322637,
         92369.21308830102,
         92361.09320916652,
         92453.67364373215,
         92393.88352110152,
         92421.94067037065,
         92429.8878997806,
         92397.97809920028,
         92382.94535526002,
         92429.16211813933,
         92392.2190731268,
         92353.14650577257,
         92365.23069713372,
         92334.26055403061,
         92401.09667718942,
         92357.31222384472,
         92412.58297980334,
         92383.7619907068,
         92358.61990935465,
         92417.8468772297,
         92398.6229477863,
         92421.40694074162,
         92446.95383843005,
         92421.36031161383,
         92450.56499210645,
         92419.66797522212,
         92358.64890861478,
         92382.73013837077,
         92379.98657017256,
         92424.98993602018,
         92394.06611397045,
         92378.84256091327,
         92431.77774114555
        ],
        [
         282.913230924438,
         282.90040523904906,
         282.90804016863126,
         282.8781430397968,
         282.9200530243106,
         282.87291234186574,
         282.85292572172943,
         282.9514507503322,
         282.93820873935545,
         282.92151195901977,
         282.90202147392193,
         282.89274173663637,
         282.95066933577664,
         282.87879153833194,
         282.93724332175526,
         282.8599956273284,
         282.9079202674603,
         282.942641791568,
         282.8855347263298,
         282.970364542961,
         282.8849186901204,
         282.9028302645402,
         282.9000896663478,
         282.8698733745088,
         282.90842605143894,
         282.87435497061404,
         282.87601974937957,
         282.88239874598554,
         282.8514230301987,
         282.92735936634205,
         282.9852303434072,
         282.9170091950846,
         282.9496008465523,
         282.84036182929015,
         282.93004618478284,
         282.9131872424144,
         282.9395652756223,
         282.92840107788754,
         282.91070836237355,
         282.8962431051403,
         282.83391439252733,
         282.9090714084587,
         282.96083849590894,
         282.93565468733914,
         282.9512734043083,
         282.88594529247274,
         282.88148680894506,
         282.99068423852725,
         282.87812366711853,
         282.9338591616948,
         282.9066789200913,
         282.9211079750995,
         282.9468452139648,
         282.86404115117756,
         282.9715708100748,
         282.8494574887331,
         282.9163410994772,
         282.8679990117876,
         282.8706614460851,
         282.91540515228337,
         282.9304628843606,
         282.92002519946,
         282.90383936416396,
         282.9319242126053,
         282.8964384026807,
         282.8778799752814,
         282.85023374222766,
         282.97736466203946,
         282.8677909237917,
         282.86928815506946,
         282.95544346680356,
         282.8756524164723,
         282.9337820449716,
         282.9302576386881,
         282.8916386159447,
         282.88494015714224,
         282.91548556011793,
         282.88172429254934,
         282.8492354883118,
         282.8584791729683,
         282.82891317481614,
         282.89383640515564,
         282.8553838079302,
         282.9217748739391,
         282.881804102,
         282.85569115285307,
         282.92527235294784,
         282.90290693247545,
         282.93430278854737,
         282.95931852604355,
         282.9149530732584,
         282.96942216314045,
         282.942454871402,
         282.84696477106496,
         282.8700089832567,
         282.9014812828699,
         282.932611531295,
         282.89309829863373,
         282.88888186138746,
         282.952869892513
        ],
        [
         28857.14955429267,
         28855.841334383003,
         28856.620097200386,
         28853.570590059273,
         28857.845408479683,
         28853.037058870308,
         28850.998423616402,
         28861.047976533882,
         28859.697291414253,
         28857.994219820015,
         28856.006190340035,
         28855.05965713691,
         28860.968272249214,
         28853.63673690986,
         28859.59881881904,
         28851.719553987496,
         28856.607867280953,
         28860.149462739937,
         28854.32454208564,
         28862.977183382027,
         28854.26170639228,
         28856.0886869831,
         28855.809145967476,
         28852.727084199898,
         28856.659457246773,
         28853.184207002632,
         28853.354014436714,
         28854.004672090523,
         28850.84514908027,
         28858.59065536689,
         28864.493495027535,
         28857.53493789863,
         28860.859286348335,
         28849.716906587593,
         28858.864710847847,
         28857.145098726265,
         28859.835658113472,
         28858.696909944527,
         28856.892252962105,
         28855.416796724312,
         28849.05926803779,
         28856.72528366279,
         28862.00552658271,
         28859.43677810859,
         28861.02988723945,
         28854.366419832222,
         28853.911654512398,
         28865.04979232978,
         28853.56861404609,
         28859.253634492867,
         28856.481249849312,
         28857.953013460152,
         28860.57821182441,
         28852.132197420113,
         28863.100222627632,
         28850.644663850777,
         28857.466792146675,
         28852.53589920234,
         28852.80746750068,
         28857.371325532906,
         28858.90721420478,
         28857.842570344917,
         28856.191615144722,
         28859.056269685738,
         28855.436717073433,
         28853.543757478707,
         28850.723841707222,
         28863.691195528023,
         28852.514674226753,
         28852.667391817085,
         28861.45523361396,
         28853.31654648017,
         28859.245768587105,
         28858.886279146187,
         28854.947138826363,
         28854.26389602851,
         28857.379527132027,
         28853.935877840035,
         28850.622019807808,
         28851.56487564277,
         28848.549143831246,
         28855.171313325875,
         28851.249148408882,
         28858.021037141792,
         28853.944018404,
         28851.28049759101,
         28858.37778000068,
         28856.096507112496,
         28859.29888443183,
         28861.85048965644,
         28857.32521347236,
         28862.881060640328,
         28860.130396883003,
         28850.39040664863,
         28852.740916292183,
         28855.95109085273,
         28859.126376192085,
         28855.09602646064,
         28854.66594986152,
         28861.192729036324
        ],
        [
         3069.892543913335,
         3070.0242048252076,
         3070.075712882948,
         3069.7814891694275,
         3070.0884704321934,
         3069.7033585581466,
         3069.257330710114,
         3070.497052320127,
         3070.5226757513274,
         3070.239463077503,
         3070.0466188731616,
         3069.6042396084804,
         3070.6096914446625,
         3069.6732065557526,
         3070.4856129315576,
         3069.294886594734,
         3070.118966435875,
         3070.278853406214,
         3069.657311767749,
         3070.760098058503,
         3069.8248804915324,
         3070.1501430362414,
         3069.879901867864,
         3069.4340233378557,
         3070.2253630261184,
         3069.6426843375134,
         3069.5158921917055,
         3069.766549235083,
         3069.049164727498,
         3070.380224951507,
         3071.1695969548764,
         3070.1619127467,
         3070.4301622969483,
         3069.1645808663657,
         3070.3057987667803,
         3069.9894890233572,
         3070.653401813634,
         3070.425521933501,
         3070.0437119452517,
         3069.821006784016,
         3069.0772248384665,
         3070.0247401924157,
         3070.7699903690623,
         3070.241306820029,
         3070.5743449373454,
         3069.8122355071873,
         3069.7061217745727,
         3071.1200030176124,
         3069.4611916284293,
         3070.4722787738983,
         3070.372179885889,
         3070.2469619864723,
         3070.7671517222325,
         3069.560909320852,
         3070.637918860646,
         3069.250545632551,
         3070.27413979268,
         3069.387718714934,
         3069.747430025694,
         3069.851669762883,
         3070.3554760201628,
         3070.155376488514,
         3069.7698350507876,
         3070.279638615611,
         3069.767801844729,
         3069.4942444308167,
         3069.238553896201,
         3071.0296625381343,
         3069.4722241790532,
         3069.33730752014,
         3070.8752354435824,
         3069.882101832634,
         3070.348180317308,
         3070.4801848860097,
         3069.9501243698455,
         3069.7003805317095,
         3070.468129789041,
         3069.8544502075233,
         3069.2052625376496,
         3069.4060551037624,
         3068.8914246859767,
         3070.001931770292,
         3069.2744821589617,
         3070.192740519712,
         3069.713948082475,
         3069.2962109829314,
         3070.2801796379154,
         3069.96083699356,
         3070.339314791713,
         3070.763633287307,
         3070.3385402565323,
         3070.823607632789,
         3070.310429496121,
         3069.2966928400238,
         3069.696804916378,
         3069.6512228847105,
         3070.3988297082938,
         3069.8851352493607,
         3069.63221595245,
         3070.511574574642
        ]
       ],
       "encoder": "json",
       "name": "ABC_GAN_3 Metrics",
       "version": 1
      }
     },
     "metadata": {
      "scrapbook": {
       "data": true,
       "display": false,
       "name": "ABC_GAN_3 Metrics"
      }
     },
     "output_type": "display_data"
    }
   ],
   "source": [
    "ABC_GAN3_metrics=ABC_train_test2.test_generator(gen3,test_data,prior_model,variance,\"3\",device)\n",
    "sb.glue(\"ABC_GAN_3 Metrics\",ABC_GAN3_metrics)"
   ]
  },
  {
   "cell_type": "code",
   "execution_count": 18,
   "id": "c8e46b48",
   "metadata": {
    "execution": {
     "iopub.execute_input": "2022-01-15T11:54:44.946267Z",
     "iopub.status.busy": "2022-01-15T11:54:44.945633Z",
     "iopub.status.idle": "2022-01-15T11:54:45.837676Z",
     "shell.execute_reply": "2022-01-15T11:54:45.838191Z"
    },
    "papermill": {
     "duration": 0.94363,
     "end_time": "2022-01-15T11:54:45.838398",
     "exception": false,
     "start_time": "2022-01-15T11:54:44.894768",
     "status": "completed"
    },
    "tags": []
   },
   "outputs": [
    {
     "data": {
      "image/png": "[encoded data removed]",
      "text/plain": [
       "<Figure size 432x288 with 1 Axes>"
      ]
     },
     "metadata": {
      "needs_background": "light"
     },
     "output_type": "display_data"
    },
    {
     "data": {
      "image/png": "[encoded data removed]",
      "text/plain": [
       "<Figure size 432x288 with 1 Axes>"
      ]
     },
     "metadata": {
      "needs_background": "light"
     },
     "output_type": "display_data"
    },
    {
     "data": {
      "image/png": "[encoded data removed]",
      "text/plain": [
       "<Figure size 432x288 with 1 Axes>"
      ]
     },
     "metadata": {
      "needs_background": "light"
     },
     "output_type": "display_data"
    },
    {
     "data": {
      "image/png": "[encoded data removed]",
      "text/plain": [
       "<Figure size 432x288 with 1 Axes>"
      ]
     },
     "metadata": {
      "needs_background": "light"
     },
     "output_type": "display_data"
    }
   ],
   "source": [
    "sanityChecks.discProbVsError(train_data,disc,device)\n",
    "sanityChecks.discProbVsError(test_data,disc3,device)"
   ]
  },
  {
   "cell_type": "markdown",
   "id": "a5bd74c3",
   "metadata": {
    "papermill": {
     "duration": 0.05392,
     "end_time": "2022-01-15T11:54:45.944769",
     "exception": false,
     "start_time": "2022-01-15T11:54:45.890849",
     "status": "completed"
    },
    "tags": []
   },
   "source": [
    "## Skip Connection Model Analysis - ABC-GAN "
   ]
  },
  {
   "cell_type": "markdown",
   "id": "5744a8bf",
   "metadata": {
    "papermill": {
     "duration": 0.052092,
     "end_time": "2022-01-15T11:54:46.050296",
     "exception": false,
     "start_time": "2022-01-15T11:54:45.998204",
     "status": "completed"
    },
    "tags": []
   },
   "source": [
    "### Weight Analysis \n",
    "\n",
    "Study the weights of the skip connection layer\n",
    "\n",
    "Equation of the skip connection is \n",
    "\n",
    "$output = y_{gan} * w + y_{abc} * (1-w)$"
   ]
  },
  {
   "cell_type": "code",
   "execution_count": 19,
   "id": "52c31dea",
   "metadata": {
    "execution": {
     "iopub.execute_input": "2022-01-15T11:54:46.161651Z",
     "iopub.status.busy": "2022-01-15T11:54:46.160923Z",
     "iopub.status.idle": "2022-01-15T11:54:46.170431Z",
     "shell.execute_reply": "2022-01-15T11:54:46.169789Z"
    },
    "papermill": {
     "duration": 0.067955,
     "end_time": "2022-01-15T11:54:46.170575",
     "exception": false,
     "start_time": "2022-01-15T11:54:46.102620",
     "status": "completed"
    },
    "tags": []
   },
   "outputs": [
    {
     "name": "stdout",
     "output_type": "stream",
     "text": [
      "Weight of the node at skip connection\n",
      "Parameter containing:\n",
      "tensor([[0.1248]], device='cuda:0', requires_grad=True)\n"
     ]
    },
    {
     "data": {
      "application/scrapbook.scrap.json+json": {
       "data": 0.1248483657836914,
       "encoder": "json",
       "name": "Skip Connection Weight",
       "version": 1
      }
     },
     "metadata": {
      "scrapbook": {
       "data": true,
       "display": false,
       "name": "Skip Connection Weight"
      }
     },
     "output_type": "display_data"
    }
   ],
   "source": [
    "print(\"Weight of the node at skip connection\")\n",
    "for name,param in gen3.named_parameters():\n",
    "    if(name == \"skipNode.weight\"):\n",
    "        print(param)\n",
    "        sb.glue(\"Skip Connection Weight\",param.item())"
   ]
  }
 ],
 "metadata": {
  "interpreter": {
   "hash": "10498c76ddd8160350534c6544a2b2fb65f2138dbc70420f7c81a3268f830f23"
  },
  "kernelspec": {
   "display_name": "papermill-tutorial",
   "language": "python",
   "name": "python3"
  },
  "language_info": {
   "codemirror_mode": {
    "name": "ipython",
    "version": 3
   },
   "file_extension": ".py",
   "mimetype": "text/x-python",
   "name": "python",
   "nbconvert_exporter": "python",
   "pygments_lexer": "ipython3",
   "version": "3.7.12"
  },
  "papermill": {
   "default_parameters": {},
   "duration": 2569.902561,
   "end_time": "2022-01-15T11:54:47.047376",
   "environment_variables": {},
   "exception": null,
   "input_path": "ABC_GAN_Model-Catboost_Pre-gen.ipynb",
   "output_path": "./ABC_GAN_Output/ABC-GAN_output_9_2.ipynb",
   "parameters": {
    "variance": 0.01
   },
   "start_time": "2022-01-15T11:11:57.144815",
   "version": "2.3.3"
  }
 },
 "nbformat": 4,
 "nbformat_minor": 5
}