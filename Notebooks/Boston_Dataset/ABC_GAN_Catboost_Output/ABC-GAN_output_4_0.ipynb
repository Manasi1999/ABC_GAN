{
 "cells": [
  {
   "cell_type": "markdown",
   "id": "622780e6",
   "metadata": {
    "papermill": {
     "duration": 0.025933,
     "end_time": "2022-01-14T12:33:41.265597",
     "exception": false,
     "start_time": "2022-01-14T12:33:41.239664",
     "status": "completed"
    },
    "tags": []
   },
   "source": [
    "## Import Libraries "
   ]
  },
  {
   "cell_type": "code",
   "execution_count": 1,
   "id": "a62397e3",
   "metadata": {
    "execution": {
     "iopub.execute_input": "2022-01-14T12:33:41.320025Z",
     "iopub.status.busy": "2022-01-14T12:33:41.319309Z",
     "iopub.status.idle": "2022-01-14T12:33:41.322802Z",
     "shell.execute_reply": "2022-01-14T12:33:41.322179Z"
    },
    "papermill": {
     "duration": 0.033718,
     "end_time": "2022-01-14T12:33:41.323016",
     "exception": false,
     "start_time": "2022-01-14T12:33:41.289298",
     "status": "completed"
    },
    "tags": []
   },
   "outputs": [],
   "source": [
    "import warnings\n",
    "import sys\n",
    "sys.path.insert(0, '../../src')\n",
    "warnings.filterwarnings('ignore')"
   ]
  },
  {
   "cell_type": "code",
   "execution_count": 2,
   "id": "d6a4e155",
   "metadata": {
    "execution": {
     "iopub.execute_input": "2022-01-14T12:33:41.375030Z",
     "iopub.status.busy": "2022-01-14T12:33:41.374397Z",
     "iopub.status.idle": "2022-01-14T12:33:43.009720Z",
     "shell.execute_reply": "2022-01-14T12:33:43.009022Z"
    },
    "papermill": {
     "duration": 1.664015,
     "end_time": "2022-01-14T12:33:43.009905",
     "exception": false,
     "start_time": "2022-01-14T12:33:41.345890",
     "status": "completed"
    },
    "tags": []
   },
   "outputs": [],
   "source": [
    "import ABC_train_test2\n",
    "import bostonDataset\n",
    "import network\n",
    "import dataset\n",
    "import sanityChecks\n",
    "import performanceMetrics\n",
    "import torch \n",
    "from torch.utils.data import random_split \n",
    "import scrapbook as sb\n",
    "from statistics import mean \n",
    "import catboost as ctb \n",
    "from sklearn.model_selection import train_test_split\n",
    "from sklearn.metrics import mean_squared_error\n",
    "import numpy as np"
   ]
  },
  {
   "cell_type": "markdown",
   "id": "2fa5b0f7",
   "metadata": {
    "papermill": {
     "duration": 0.047225,
     "end_time": "2022-01-14T12:33:43.080762",
     "exception": false,
     "start_time": "2022-01-14T12:33:43.033537",
     "status": "completed"
    },
    "tags": []
   },
   "source": [
    "## Parameters "
   ]
  },
  {
   "cell_type": "code",
   "execution_count": 3,
   "id": "783186fb",
   "metadata": {
    "execution": {
     "iopub.execute_input": "2022-01-14T12:33:43.131198Z",
     "iopub.status.busy": "2022-01-14T12:33:43.130290Z",
     "iopub.status.idle": "2022-01-14T12:33:43.133458Z",
     "shell.execute_reply": "2022-01-14T12:33:43.132922Z"
    },
    "papermill": {
     "duration": 0.029599,
     "end_time": "2022-01-14T12:33:43.133584",
     "exception": false,
     "start_time": "2022-01-14T12:33:43.103985",
     "status": "completed"
    },
    "tags": [
     "parameters"
    ]
   },
   "outputs": [],
   "source": [
    "variance = 1"
   ]
  },
  {
   "cell_type": "code",
   "execution_count": 4,
   "id": "ac1be0cd",
   "metadata": {
    "execution": {
     "iopub.execute_input": "2022-01-14T12:33:43.183115Z",
     "iopub.status.busy": "2022-01-14T12:33:43.182216Z",
     "iopub.status.idle": "2022-01-14T12:33:43.184914Z",
     "shell.execute_reply": "2022-01-14T12:33:43.184335Z"
    },
    "papermill": {
     "duration": 0.028578,
     "end_time": "2022-01-14T12:33:43.185028",
     "exception": false,
     "start_time": "2022-01-14T12:33:43.156450",
     "status": "completed"
    },
    "tags": [
     "injected-parameters"
    ]
   },
   "outputs": [],
   "source": [
    "# Parameters\n",
    "variance = 1\n"
   ]
  },
  {
   "cell_type": "markdown",
   "id": "391cdbfd",
   "metadata": {
    "papermill": {
     "duration": 0.023336,
     "end_time": "2022-01-14T12:33:43.230997",
     "exception": false,
     "start_time": "2022-01-14T12:33:43.207661",
     "status": "completed"
    },
    "tags": []
   },
   "source": [
    "## Dataset - Boston Housing "
   ]
  },
  {
   "cell_type": "code",
   "execution_count": 5,
   "id": "5b51f161",
   "metadata": {
    "execution": {
     "iopub.execute_input": "2022-01-14T12:33:43.281096Z",
     "iopub.status.busy": "2022-01-14T12:33:43.280214Z",
     "iopub.status.idle": "2022-01-14T12:33:43.282876Z",
     "shell.execute_reply": "2022-01-14T12:33:43.282194Z"
    },
    "papermill": {
     "duration": 0.029645,
     "end_time": "2022-01-14T12:33:43.282992",
     "exception": false,
     "start_time": "2022-01-14T12:33:43.253347",
     "status": "completed"
    },
    "tags": []
   },
   "outputs": [],
   "source": [
    "#Parameters \n",
    "n_features = 13\n",
    "n_samples= 506\n",
    "n_target = 1 "
   ]
  },
  {
   "cell_type": "code",
   "execution_count": 6,
   "id": "5d6eced4",
   "metadata": {
    "execution": {
     "iopub.execute_input": "2022-01-14T12:33:43.334633Z",
     "iopub.status.busy": "2022-01-14T12:33:43.333861Z",
     "iopub.status.idle": "2022-01-14T12:33:43.369320Z",
     "shell.execute_reply": "2022-01-14T12:33:43.368824Z"
    },
    "papermill": {
     "duration": 0.063166,
     "end_time": "2022-01-14T12:33:43.369457",
     "exception": false,
     "start_time": "2022-01-14T12:33:43.306291",
     "status": "completed"
    },
    "tags": []
   },
   "outputs": [
    {
     "name": "stdout",
     "output_type": "stream",
     "text": [
      "         X1        X2        X3        X4        X5        X6        X7        X8        X9       X10       X11       X12       X13         Y\n",
      "0 -0.419782  0.284830 -1.287909 -0.272599 -0.144217  0.413672 -0.120013  0.140214 -0.982843 -0.666608 -1.459000  0.441052 -1.075562  0.159686\n",
      "1 -0.417339 -0.487722 -0.593381 -0.272599 -0.740262  0.194274  0.367166  0.557160 -0.867883 -0.987329 -0.303094  0.441052 -0.492439 -0.101524\n",
      "2 -0.417342 -0.487722 -0.593381 -0.272599 -0.740262  1.282714 -0.265812  0.557160 -0.867883 -0.987329 -0.303094  0.396427 -1.208727  1.324247\n",
      "3 -0.416750 -0.487722 -1.306878 -0.272599 -0.835284  1.016303 -0.809889  1.077737 -0.752922 -1.106115  0.113032  0.416163 -1.361517  1.182758\n",
      "4 -0.412482 -0.487722 -1.306878 -0.272599 -0.835284  1.228577 -0.511180  1.077737 -0.752922 -1.106115  0.113032  0.441052 -1.026501  1.487503\n"
     ]
    }
   ],
   "source": [
    "X,Y = bostonDataset.boston_data()"
   ]
  },
  {
   "cell_type": "code",
   "execution_count": 7,
   "id": "fe007438",
   "metadata": {
    "execution": {
     "iopub.execute_input": "2022-01-14T12:33:43.424331Z",
     "iopub.status.busy": "2022-01-14T12:33:43.423444Z",
     "iopub.status.idle": "2022-01-14T12:33:43.425971Z",
     "shell.execute_reply": "2022-01-14T12:33:43.425367Z"
    },
    "papermill": {
     "duration": 0.032488,
     "end_time": "2022-01-14T12:33:43.426091",
     "exception": false,
     "start_time": "2022-01-14T12:33:43.393603",
     "status": "completed"
    },
    "tags": []
   },
   "outputs": [],
   "source": [
    "#Train test split for dataset \n",
    "X_train,X_test,Y_train,Y_test = train_test_split(X,Y,test_size = 0.2)\n",
    "train_data = dataset.CustomDataset(X_train,Y_train)\n",
    "test_data = dataset.CustomDataset(X_test,Y_test)\n"
   ]
  },
  {
   "cell_type": "markdown",
   "id": "a9a1af34",
   "metadata": {
    "papermill": {
     "duration": 0.023873,
     "end_time": "2022-01-14T12:33:43.474593",
     "exception": false,
     "start_time": "2022-01-14T12:33:43.450720",
     "status": "completed"
    },
    "tags": []
   },
   "source": [
    "## Training Parameters \n",
    "\n"
   ]
  },
  {
   "cell_type": "code",
   "execution_count": 8,
   "id": "952b7fc8",
   "metadata": {
    "execution": {
     "iopub.execute_input": "2022-01-14T12:33:43.564492Z",
     "iopub.status.busy": "2022-01-14T12:33:43.563633Z",
     "iopub.status.idle": "2022-01-14T12:33:43.566356Z",
     "shell.execute_reply": "2022-01-14T12:33:43.565721Z"
    },
    "papermill": {
     "duration": 0.067809,
     "end_time": "2022-01-14T12:33:43.566543",
     "exception": false,
     "start_time": "2022-01-14T12:33:43.498734",
     "status": "completed"
    },
    "tags": []
   },
   "outputs": [],
   "source": [
    "batch_size = 64\n",
    "n_epochs = 5000\n",
    "#Select the device \n",
    "device = torch.device('cuda' if torch.cuda.is_available() else 'cpu')"
   ]
  },
  {
   "cell_type": "markdown",
   "id": "a95e1600",
   "metadata": {
    "papermill": {
     "duration": 0.025497,
     "end_time": "2022-01-14T12:33:43.616993",
     "exception": false,
     "start_time": "2022-01-14T12:33:43.591496",
     "status": "completed"
    },
    "tags": []
   },
   "source": [
    "# ABC Pre-generator Model \n",
    "\n",
    "1. The catboost model is used as a pre-generator model for the ABC-GAN. \n",
    "2. The model is first trained on the train dataset \n",
    "3. It generats X,Y pairs and we add some Gaussian noise with mean 0 and variance V (1,0.01,0.1) to it which is then feed as input to the generator.\n"
   ]
  },
  {
   "cell_type": "code",
   "execution_count": 9,
   "id": "ff8ce7bd",
   "metadata": {
    "execution": {
     "iopub.execute_input": "2022-01-14T12:33:43.684968Z",
     "iopub.status.busy": "2022-01-14T12:33:43.684062Z",
     "iopub.status.idle": "2022-01-14T12:33:45.343786Z",
     "shell.execute_reply": "2022-01-14T12:33:45.344288Z"
    },
    "papermill": {
     "duration": 1.703297,
     "end_time": "2022-01-14T12:33:45.344483",
     "exception": false,
     "start_time": "2022-01-14T12:33:43.641186",
     "status": "completed"
    },
    "tags": []
   },
   "outputs": [
    {
     "name": "stdout",
     "output_type": "stream",
     "text": [
      "Learning rate set to 0.03548\n",
      "0:\tlearn: 0.9983097\ttotal: 48.5ms\tremaining: 48.4s\n",
      "1:\tlearn: 0.9791173\ttotal: 49.6ms\tremaining: 24.8s\n",
      "2:\tlearn: 0.9575855\ttotal: 50.7ms\tremaining: 16.9s\n",
      "3:\tlearn: 0.9413206\ttotal: 51.9ms\tremaining: 12.9s\n",
      "4:\tlearn: 0.9229901\ttotal: 53.1ms\tremaining: 10.6s\n",
      "5:\tlearn: 0.9041520\ttotal: 54.1ms\tremaining: 8.97s\n",
      "6:\tlearn: 0.8856845\ttotal: 55.3ms\tremaining: 7.85s\n",
      "7:\tlearn: 0.8681748\ttotal: 56.4ms\tremaining: 7s\n",
      "8:\tlearn: 0.8513794\ttotal: 57.4ms\tremaining: 6.32s\n",
      "9:\tlearn: 0.8350238\ttotal: 58.5ms\tremaining: 5.79s\n",
      "10:\tlearn: 0.8202549\ttotal: 59.5ms\tremaining: 5.35s\n",
      "11:\tlearn: 0.8047595\ttotal: 60.5ms\tremaining: 4.98s\n",
      "12:\tlearn: 0.7883567\ttotal: 61.4ms\tremaining: 4.66s\n",
      "13:\tlearn: 0.7734234\ttotal: 62.4ms\tremaining: 4.39s\n",
      "14:\tlearn: 0.7592701\ttotal: 63.5ms\tremaining: 4.17s\n",
      "15:\tlearn: 0.7454811\ttotal: 64.4ms\tremaining: 3.96s\n",
      "16:\tlearn: 0.7310992\ttotal: 65.3ms\tremaining: 3.78s\n",
      "17:\tlearn: 0.7177031\ttotal: 66.4ms\tremaining: 3.62s\n",
      "18:\tlearn: 0.7040125\ttotal: 67.4ms\tremaining: 3.48s\n",
      "19:\tlearn: 0.6903906\ttotal: 68.4ms\tremaining: 3.35s\n",
      "20:\tlearn: 0.6770733\ttotal: 69.6ms\tremaining: 3.24s\n",
      "21:\tlearn: 0.6645446\ttotal: 70.7ms\tremaining: 3.14s\n",
      "22:\tlearn: 0.6521904\ttotal: 71.8ms\tremaining: 3.05s\n",
      "23:\tlearn: 0.6414481\ttotal: 72.8ms\tremaining: 2.96s\n",
      "24:\tlearn: 0.6318028\ttotal: 73.9ms\tremaining: 2.88s\n",
      "25:\tlearn: 0.6214917\ttotal: 76.6ms\tremaining: 2.87s\n",
      "26:\tlearn: 0.6117775\ttotal: 77.6ms\tremaining: 2.8s\n",
      "27:\tlearn: 0.6015867\ttotal: 79.3ms\tremaining: 2.75s\n",
      "28:\tlearn: 0.5915328\ttotal: 80.6ms\tremaining: 2.7s\n",
      "29:\tlearn: 0.5818378\ttotal: 81.9ms\tremaining: 2.65s\n",
      "30:\tlearn: 0.5724799\ttotal: 83ms\tremaining: 2.59s\n",
      "31:\tlearn: 0.5635218\ttotal: 84ms\tremaining: 2.54s\n",
      "32:\tlearn: 0.5563309\ttotal: 84.9ms\tremaining: 2.49s\n",
      "33:\tlearn: 0.5483408\ttotal: 86ms\tremaining: 2.44s\n",
      "34:\tlearn: 0.5418940\ttotal: 87ms\tremaining: 2.4s\n",
      "35:\tlearn: 0.5349136\ttotal: 88ms\tremaining: 2.35s\n",
      "36:\tlearn: 0.5277153\ttotal: 89.1ms\tremaining: 2.32s\n",
      "37:\tlearn: 0.5193614\ttotal: 90ms\tremaining: 2.28s\n",
      "38:\tlearn: 0.5122559\ttotal: 91.1ms\tremaining: 2.25s\n",
      "39:\tlearn: 0.5045571\ttotal: 92.3ms\tremaining: 2.21s\n",
      "40:\tlearn: 0.4986167\ttotal: 93.3ms\tremaining: 2.18s\n",
      "41:\tlearn: 0.4914673\ttotal: 94.3ms\tremaining: 2.15s\n",
      "42:\tlearn: 0.4849159\ttotal: 95.4ms\tremaining: 2.12s\n",
      "43:\tlearn: 0.4791355\ttotal: 96.4ms\tremaining: 2.09s\n",
      "44:\tlearn: 0.4730379\ttotal: 97.4ms\tremaining: 2.07s\n",
      "45:\tlearn: 0.4681845\ttotal: 98.5ms\tremaining: 2.04s\n",
      "46:\tlearn: 0.4628752\ttotal: 99.4ms\tremaining: 2.02s\n",
      "47:\tlearn: 0.4566574\ttotal: 100ms\tremaining: 1.99s\n",
      "48:\tlearn: 0.4509045\ttotal: 102ms\tremaining: 1.97s\n",
      "49:\tlearn: 0.4455533\ttotal: 103ms\tremaining: 1.95s\n",
      "50:\tlearn: 0.4406186\ttotal: 104ms\tremaining: 1.93s\n",
      "51:\tlearn: 0.4363249\ttotal: 104ms\tremaining: 1.9s\n",
      "52:\tlearn: 0.4315037\ttotal: 105ms\tremaining: 1.88s\n",
      "53:\tlearn: 0.4284790\ttotal: 106ms\tremaining: 1.86s\n",
      "54:\tlearn: 0.4240861\ttotal: 107ms\tremaining: 1.84s\n",
      "55:\tlearn: 0.4201081\ttotal: 108ms\tremaining: 1.82s\n",
      "56:\tlearn: 0.4151454\ttotal: 109ms\tremaining: 1.8s\n",
      "57:\tlearn: 0.4114691\ttotal: 110ms\tremaining: 1.79s\n",
      "58:\tlearn: 0.4079598\ttotal: 111ms\tremaining: 1.77s\n",
      "59:\tlearn: 0.4045283\ttotal: 112ms\tremaining: 1.76s\n",
      "60:\tlearn: 0.4002409\ttotal: 113ms\tremaining: 1.74s\n",
      "61:\tlearn: 0.3955933\ttotal: 114ms\tremaining: 1.73s\n",
      "62:\tlearn: 0.3926667\ttotal: 115ms\tremaining: 1.71s\n",
      "63:\tlearn: 0.3893675\ttotal: 116ms\tremaining: 1.7s\n",
      "64:\tlearn: 0.3862743\ttotal: 117ms\tremaining: 1.68s\n",
      "65:\tlearn: 0.3828833\ttotal: 118ms\tremaining: 1.67s\n",
      "66:\tlearn: 0.3795893\ttotal: 120ms\tremaining: 1.67s\n",
      "67:\tlearn: 0.3758658\ttotal: 121ms\tremaining: 1.66s\n",
      "68:\tlearn: 0.3735915\ttotal: 124ms\tremaining: 1.67s\n",
      "69:\tlearn: 0.3709249\ttotal: 125ms\tremaining: 1.66s\n",
      "70:\tlearn: 0.3672606\ttotal: 126ms\tremaining: 1.64s\n",
      "71:\tlearn: 0.3637949\ttotal: 127ms\tremaining: 1.63s\n",
      "72:\tlearn: 0.3611446\ttotal: 128ms\tremaining: 1.62s\n",
      "73:\tlearn: 0.3582980\ttotal: 129ms\tremaining: 1.61s\n",
      "74:\tlearn: 0.3558614\ttotal: 130ms\tremaining: 1.6s\n",
      "75:\tlearn: 0.3536216\ttotal: 131ms\tremaining: 1.59s\n",
      "76:\tlearn: 0.3515349\ttotal: 132ms\tremaining: 1.58s\n",
      "77:\tlearn: 0.3482453\ttotal: 133ms\tremaining: 1.57s\n",
      "78:\tlearn: 0.3458080\ttotal: 134ms\tremaining: 1.56s\n",
      "79:\tlearn: 0.3428521\ttotal: 135ms\tremaining: 1.55s\n",
      "80:\tlearn: 0.3404547\ttotal: 136ms\tremaining: 1.54s\n",
      "81:\tlearn: 0.3376264\ttotal: 137ms\tremaining: 1.53s\n"
     ]
    },
    {
     "name": "stdout",
     "output_type": "stream",
     "text": [
      "82:\tlearn: 0.3352328\ttotal: 138ms\tremaining: 1.53s\n",
      "83:\tlearn: 0.3329745\ttotal: 140ms\tremaining: 1.52s\n",
      "84:\tlearn: 0.3307387\ttotal: 141ms\tremaining: 1.51s\n",
      "85:\tlearn: 0.3277661\ttotal: 142ms\tremaining: 1.51s\n",
      "86:\tlearn: 0.3253639\ttotal: 143ms\tremaining: 1.5s\n",
      "87:\tlearn: 0.3233048\ttotal: 144ms\tremaining: 1.49s\n",
      "88:\tlearn: 0.3213477\ttotal: 145ms\tremaining: 1.48s\n",
      "89:\tlearn: 0.3190807\ttotal: 146ms\tremaining: 1.48s\n",
      "90:\tlearn: 0.3168980\ttotal: 147ms\tremaining: 1.47s\n",
      "91:\tlearn: 0.3151907\ttotal: 148ms\tremaining: 1.46s\n",
      "92:\tlearn: 0.3139392\ttotal: 149ms\tremaining: 1.46s\n",
      "93:\tlearn: 0.3125692\ttotal: 150ms\tremaining: 1.45s\n",
      "94:\tlearn: 0.3108665\ttotal: 151ms\tremaining: 1.44s\n",
      "95:\tlearn: 0.3102503\ttotal: 152ms\tremaining: 1.43s\n",
      "96:\tlearn: 0.3089144\ttotal: 153ms\tremaining: 1.43s\n",
      "97:\tlearn: 0.3070176\ttotal: 154ms\tremaining: 1.42s\n",
      "98:\tlearn: 0.3054549\ttotal: 155ms\tremaining: 1.41s\n",
      "99:\tlearn: 0.3044352\ttotal: 156ms\tremaining: 1.41s\n",
      "100:\tlearn: 0.3030048\ttotal: 157ms\tremaining: 1.4s\n",
      "101:\tlearn: 0.3012096\ttotal: 158ms\tremaining: 1.39s\n",
      "102:\tlearn: 0.2999792\ttotal: 159ms\tremaining: 1.39s\n",
      "103:\tlearn: 0.2987817\ttotal: 161ms\tremaining: 1.38s\n",
      "104:\tlearn: 0.2974690\ttotal: 162ms\tremaining: 1.38s\n",
      "105:\tlearn: 0.2956233\ttotal: 163ms\tremaining: 1.37s\n",
      "106:\tlearn: 0.2939782\ttotal: 164ms\tremaining: 1.36s\n",
      "107:\tlearn: 0.2921006\ttotal: 165ms\tremaining: 1.36s\n",
      "108:\tlearn: 0.2907062\ttotal: 166ms\tremaining: 1.35s\n",
      "109:\tlearn: 0.2894232\ttotal: 167ms\tremaining: 1.35s\n",
      "110:\tlearn: 0.2879627\ttotal: 168ms\tremaining: 1.34s\n",
      "111:\tlearn: 0.2865903\ttotal: 169ms\tremaining: 1.34s\n",
      "112:\tlearn: 0.2848106\ttotal: 170ms\tremaining: 1.33s\n",
      "113:\tlearn: 0.2836174\ttotal: 171ms\tremaining: 1.33s\n",
      "114:\tlearn: 0.2824077\ttotal: 172ms\tremaining: 1.32s\n",
      "115:\tlearn: 0.2813868\ttotal: 172ms\tremaining: 1.31s\n",
      "116:\tlearn: 0.2803265\ttotal: 174ms\tremaining: 1.31s\n",
      "117:\tlearn: 0.2787565\ttotal: 175ms\tremaining: 1.3s\n",
      "118:\tlearn: 0.2774607\ttotal: 176ms\tremaining: 1.3s\n",
      "119:\tlearn: 0.2761785\ttotal: 177ms\tremaining: 1.3s\n",
      "120:\tlearn: 0.2751063\ttotal: 178ms\tremaining: 1.29s\n",
      "121:\tlearn: 0.2742761\ttotal: 179ms\tremaining: 1.29s\n",
      "122:\tlearn: 0.2729922\ttotal: 180ms\tremaining: 1.28s\n",
      "123:\tlearn: 0.2720996\ttotal: 181ms\tremaining: 1.28s\n",
      "124:\tlearn: 0.2712607\ttotal: 182ms\tremaining: 1.27s\n",
      "125:\tlearn: 0.2703532\ttotal: 183ms\tremaining: 1.27s\n",
      "126:\tlearn: 0.2690071\ttotal: 184ms\tremaining: 1.26s\n",
      "127:\tlearn: 0.2683662\ttotal: 185ms\tremaining: 1.26s\n",
      "128:\tlearn: 0.2674054\ttotal: 186ms\tremaining: 1.25s\n",
      "129:\tlearn: 0.2662527\ttotal: 187ms\tremaining: 1.25s\n",
      "130:\tlearn: 0.2654311\ttotal: 188ms\tremaining: 1.25s\n",
      "131:\tlearn: 0.2645000\ttotal: 189ms\tremaining: 1.24s\n",
      "132:\tlearn: 0.2633085\ttotal: 190ms\tremaining: 1.24s\n",
      "133:\tlearn: 0.2618999\ttotal: 191ms\tremaining: 1.24s\n",
      "134:\tlearn: 0.2608342\ttotal: 192ms\tremaining: 1.23s\n",
      "135:\tlearn: 0.2600302\ttotal: 193ms\tremaining: 1.23s\n",
      "136:\tlearn: 0.2595727\ttotal: 194ms\tremaining: 1.22s\n",
      "137:\tlearn: 0.2588579\ttotal: 195ms\tremaining: 1.22s\n",
      "138:\tlearn: 0.2576796\ttotal: 196ms\tremaining: 1.22s\n",
      "139:\tlearn: 0.2568644\ttotal: 197ms\tremaining: 1.21s\n",
      "140:\tlearn: 0.2561555\ttotal: 199ms\tremaining: 1.21s\n",
      "141:\tlearn: 0.2554714\ttotal: 200ms\tremaining: 1.21s\n",
      "142:\tlearn: 0.2550041\ttotal: 201ms\tremaining: 1.2s\n",
      "143:\tlearn: 0.2541537\ttotal: 202ms\tremaining: 1.2s\n",
      "144:\tlearn: 0.2531310\ttotal: 203ms\tremaining: 1.2s\n",
      "145:\tlearn: 0.2524605\ttotal: 204ms\tremaining: 1.19s\n",
      "146:\tlearn: 0.2515657\ttotal: 205ms\tremaining: 1.19s\n",
      "147:\tlearn: 0.2504805\ttotal: 206ms\tremaining: 1.18s\n",
      "148:\tlearn: 0.2498237\ttotal: 207ms\tremaining: 1.18s\n",
      "149:\tlearn: 0.2494487\ttotal: 208ms\tremaining: 1.18s\n",
      "150:\tlearn: 0.2486296\ttotal: 209ms\tremaining: 1.17s\n",
      "151:\tlearn: 0.2475403\ttotal: 210ms\tremaining: 1.17s\n",
      "152:\tlearn: 0.2469501\ttotal: 211ms\tremaining: 1.17s\n",
      "153:\tlearn: 0.2464247\ttotal: 212ms\tremaining: 1.17s\n",
      "154:\tlearn: 0.2455403\ttotal: 213ms\tremaining: 1.16s\n",
      "155:\tlearn: 0.2445509\ttotal: 214ms\tremaining: 1.16s\n",
      "156:\tlearn: 0.2439505\ttotal: 215ms\tremaining: 1.16s\n",
      "157:\tlearn: 0.2432594\ttotal: 216ms\tremaining: 1.15s\n",
      "158:\tlearn: 0.2423343\ttotal: 217ms\tremaining: 1.15s\n",
      "159:\tlearn: 0.2418933\ttotal: 218ms\tremaining: 1.15s\n",
      "160:\tlearn: 0.2408327\ttotal: 219ms\tremaining: 1.14s\n",
      "161:\tlearn: 0.2400113\ttotal: 220ms\tremaining: 1.14s\n",
      "162:\tlearn: 0.2395849\ttotal: 221ms\tremaining: 1.14s\n",
      "163:\tlearn: 0.2393213\ttotal: 222ms\tremaining: 1.13s\n",
      "164:\tlearn: 0.2383338\ttotal: 223ms\tremaining: 1.13s\n",
      "165:\tlearn: 0.2376692\ttotal: 224ms\tremaining: 1.13s\n",
      "166:\tlearn: 0.2372093\ttotal: 225ms\tremaining: 1.12s\n",
      "167:\tlearn: 0.2362456\ttotal: 226ms\tremaining: 1.12s\n",
      "168:\tlearn: 0.2358786\ttotal: 228ms\tremaining: 1.12s\n",
      "169:\tlearn: 0.2354035\ttotal: 229ms\tremaining: 1.11s\n",
      "170:\tlearn: 0.2347676\ttotal: 230ms\tremaining: 1.11s\n",
      "171:\tlearn: 0.2341833\ttotal: 230ms\tremaining: 1.11s\n",
      "172:\tlearn: 0.2335430\ttotal: 231ms\tremaining: 1.1s\n",
      "173:\tlearn: 0.2332742\ttotal: 232ms\tremaining: 1.1s\n",
      "174:\tlearn: 0.2327191\ttotal: 233ms\tremaining: 1.1s\n",
      "175:\tlearn: 0.2319479\ttotal: 234ms\tremaining: 1.1s\n",
      "176:\tlearn: 0.2314375\ttotal: 235ms\tremaining: 1.09s\n",
      "177:\tlearn: 0.2305894\ttotal: 236ms\tremaining: 1.09s\n",
      "178:\tlearn: 0.2300522\ttotal: 237ms\tremaining: 1.09s\n",
      "179:\tlearn: 0.2298596\ttotal: 238ms\tremaining: 1.08s\n",
      "180:\tlearn: 0.2291669\ttotal: 239ms\tremaining: 1.08s\n",
      "181:\tlearn: 0.2284037\ttotal: 240ms\tremaining: 1.08s\n",
      "182:\tlearn: 0.2282466\ttotal: 241ms\tremaining: 1.08s\n",
      "183:\tlearn: 0.2272532\ttotal: 242ms\tremaining: 1.07s\n",
      "184:\tlearn: 0.2264533\ttotal: 243ms\tremaining: 1.07s\n",
      "185:\tlearn: 0.2254838\ttotal: 244ms\tremaining: 1.07s\n",
      "186:\tlearn: 0.2248756\ttotal: 245ms\tremaining: 1.07s\n",
      "187:\tlearn: 0.2241932\ttotal: 246ms\tremaining: 1.06s\n",
      "188:\tlearn: 0.2235350\ttotal: 247ms\tremaining: 1.06s\n",
      "189:\tlearn: 0.2228237\ttotal: 248ms\tremaining: 1.06s\n",
      "190:\tlearn: 0.2222941\ttotal: 249ms\tremaining: 1.05s\n",
      "191:\tlearn: 0.2219890\ttotal: 250ms\tremaining: 1.05s\n",
      "192:\tlearn: 0.2214398\ttotal: 251ms\tremaining: 1.05s\n",
      "193:\tlearn: 0.2207513\ttotal: 252ms\tremaining: 1.05s\n",
      "194:\tlearn: 0.2200673\ttotal: 253ms\tremaining: 1.04s\n",
      "195:\tlearn: 0.2196608\ttotal: 254ms\tremaining: 1.04s\n",
      "196:\tlearn: 0.2190294\ttotal: 255ms\tremaining: 1.04s\n",
      "197:\tlearn: 0.2183220\ttotal: 256ms\tremaining: 1.04s\n",
      "198:\tlearn: 0.2180387\ttotal: 258ms\tremaining: 1.04s\n",
      "199:\tlearn: 0.2171877\ttotal: 258ms\tremaining: 1.03s\n",
      "200:\tlearn: 0.2169269\ttotal: 259ms\tremaining: 1.03s\n",
      "201:\tlearn: 0.2162584\ttotal: 260ms\tremaining: 1.03s\n",
      "202:\tlearn: 0.2154315\ttotal: 261ms\tremaining: 1.03s\n",
      "203:\tlearn: 0.2150122\ttotal: 262ms\tremaining: 1.02s\n",
      "204:\tlearn: 0.2145790\ttotal: 263ms\tremaining: 1.02s\n",
      "205:\tlearn: 0.2137267\ttotal: 264ms\tremaining: 1.02s\n",
      "206:\tlearn: 0.2134662\ttotal: 265ms\tremaining: 1.02s\n",
      "207:\tlearn: 0.2131292\ttotal: 266ms\tremaining: 1.01s\n",
      "208:\tlearn: 0.2129035\ttotal: 267ms\tremaining: 1.01s\n",
      "209:\tlearn: 0.2123787\ttotal: 268ms\tremaining: 1.01s\n",
      "210:\tlearn: 0.2117152\ttotal: 270ms\tremaining: 1.01s\n"
     ]
    },
    {
     "name": "stdout",
     "output_type": "stream",
     "text": [
      "211:\tlearn: 0.2111145\ttotal: 270ms\tremaining: 1s\n",
      "212:\tlearn: 0.2108940\ttotal: 272ms\tremaining: 1s\n",
      "213:\tlearn: 0.2100861\ttotal: 273ms\tremaining: 1s\n",
      "214:\tlearn: 0.2095025\ttotal: 274ms\tremaining: 1000ms\n",
      "215:\tlearn: 0.2092705\ttotal: 275ms\tremaining: 997ms\n",
      "216:\tlearn: 0.2086198\ttotal: 276ms\tremaining: 995ms\n",
      "217:\tlearn: 0.2080383\ttotal: 277ms\tremaining: 993ms\n",
      "218:\tlearn: 0.2074883\ttotal: 278ms\tremaining: 991ms\n",
      "219:\tlearn: 0.2072665\ttotal: 279ms\tremaining: 988ms\n",
      "220:\tlearn: 0.2071082\ttotal: 280ms\tremaining: 986ms\n",
      "221:\tlearn: 0.2065220\ttotal: 281ms\tremaining: 984ms\n",
      "222:\tlearn: 0.2060138\ttotal: 282ms\tremaining: 982ms\n",
      "223:\tlearn: 0.2057067\ttotal: 283ms\tremaining: 980ms\n",
      "224:\tlearn: 0.2050792\ttotal: 284ms\tremaining: 977ms\n",
      "225:\tlearn: 0.2043900\ttotal: 285ms\tremaining: 975ms\n",
      "226:\tlearn: 0.2036167\ttotal: 286ms\tremaining: 973ms\n",
      "227:\tlearn: 0.2028733\ttotal: 287ms\tremaining: 971ms\n",
      "228:\tlearn: 0.2026075\ttotal: 288ms\tremaining: 968ms\n",
      "229:\tlearn: 0.2020918\ttotal: 289ms\tremaining: 966ms\n",
      "230:\tlearn: 0.2014382\ttotal: 290ms\tremaining: 965ms\n",
      "231:\tlearn: 0.2007573\ttotal: 291ms\tremaining: 962ms\n",
      "232:\tlearn: 0.2002472\ttotal: 292ms\tremaining: 960ms\n",
      "233:\tlearn: 0.1997046\ttotal: 293ms\tremaining: 958ms\n",
      "234:\tlearn: 0.1994693\ttotal: 294ms\tremaining: 956ms\n",
      "235:\tlearn: 0.1989460\ttotal: 295ms\tremaining: 954ms\n",
      "236:\tlearn: 0.1987336\ttotal: 296ms\tremaining: 952ms\n",
      "237:\tlearn: 0.1986252\ttotal: 297ms\tremaining: 949ms\n",
      "238:\tlearn: 0.1979717\ttotal: 297ms\tremaining: 947ms\n",
      "239:\tlearn: 0.1972938\ttotal: 298ms\tremaining: 945ms\n",
      "240:\tlearn: 0.1966088\ttotal: 299ms\tremaining: 943ms\n",
      "241:\tlearn: 0.1964141\ttotal: 300ms\tremaining: 941ms\n",
      "242:\tlearn: 0.1961650\ttotal: 301ms\tremaining: 938ms\n",
      "243:\tlearn: 0.1955105\ttotal: 302ms\tremaining: 936ms\n",
      "244:\tlearn: 0.1950320\ttotal: 303ms\tremaining: 934ms\n",
      "245:\tlearn: 0.1948818\ttotal: 304ms\tremaining: 932ms\n",
      "246:\tlearn: 0.1943590\ttotal: 305ms\tremaining: 930ms\n",
      "247:\tlearn: 0.1938286\ttotal: 306ms\tremaining: 928ms\n",
      "248:\tlearn: 0.1932775\ttotal: 307ms\tremaining: 926ms\n",
      "249:\tlearn: 0.1931536\ttotal: 308ms\tremaining: 924ms\n",
      "250:\tlearn: 0.1926977\ttotal: 309ms\tremaining: 922ms\n",
      "251:\tlearn: 0.1921596\ttotal: 310ms\tremaining: 921ms\n",
      "252:\tlearn: 0.1920253\ttotal: 311ms\tremaining: 919ms\n",
      "253:\tlearn: 0.1915980\ttotal: 312ms\tremaining: 918ms\n",
      "254:\tlearn: 0.1913540\ttotal: 313ms\tremaining: 916ms\n",
      "255:\tlearn: 0.1906386\ttotal: 314ms\tremaining: 914ms\n",
      "256:\tlearn: 0.1901367\ttotal: 315ms\tremaining: 912ms\n",
      "257:\tlearn: 0.1897931\ttotal: 316ms\tremaining: 910ms\n",
      "258:\tlearn: 0.1892341\ttotal: 317ms\tremaining: 908ms\n",
      "259:\tlearn: 0.1886100\ttotal: 318ms\tremaining: 906ms\n",
      "260:\tlearn: 0.1884662\ttotal: 319ms\tremaining: 904ms\n",
      "261:\tlearn: 0.1876351\ttotal: 320ms\tremaining: 902ms\n",
      "262:\tlearn: 0.1871537\ttotal: 321ms\tremaining: 900ms\n",
      "263:\tlearn: 0.1867307\ttotal: 322ms\tremaining: 898ms\n",
      "264:\tlearn: 0.1863367\ttotal: 323ms\tremaining: 896ms\n",
      "265:\tlearn: 0.1861999\ttotal: 324ms\tremaining: 895ms\n",
      "266:\tlearn: 0.1859093\ttotal: 325ms\tremaining: 893ms\n",
      "267:\tlearn: 0.1852548\ttotal: 326ms\tremaining: 891ms\n",
      "268:\tlearn: 0.1846918\ttotal: 327ms\tremaining: 889ms\n",
      "269:\tlearn: 0.1845030\ttotal: 328ms\tremaining: 888ms\n",
      "270:\tlearn: 0.1843858\ttotal: 329ms\tremaining: 886ms\n",
      "271:\tlearn: 0.1840134\ttotal: 330ms\tremaining: 884ms\n",
      "272:\tlearn: 0.1835809\ttotal: 331ms\tremaining: 882ms\n",
      "273:\tlearn: 0.1831876\ttotal: 332ms\tremaining: 881ms\n",
      "274:\tlearn: 0.1828357\ttotal: 334ms\tremaining: 879ms\n",
      "275:\tlearn: 0.1823527\ttotal: 335ms\tremaining: 878ms\n",
      "276:\tlearn: 0.1820298\ttotal: 335ms\tremaining: 876ms\n",
      "277:\tlearn: 0.1814651\ttotal: 336ms\tremaining: 874ms\n",
      "278:\tlearn: 0.1812518\ttotal: 338ms\tremaining: 872ms\n",
      "279:\tlearn: 0.1811119\ttotal: 339ms\tremaining: 871ms\n",
      "280:\tlearn: 0.1806505\ttotal: 340ms\tremaining: 869ms\n",
      "281:\tlearn: 0.1802841\ttotal: 341ms\tremaining: 867ms\n",
      "282:\tlearn: 0.1798870\ttotal: 342ms\tremaining: 866ms\n",
      "283:\tlearn: 0.1794707\ttotal: 343ms\tremaining: 864ms\n",
      "284:\tlearn: 0.1793663\ttotal: 344ms\tremaining: 862ms\n",
      "285:\tlearn: 0.1786732\ttotal: 345ms\tremaining: 860ms\n",
      "286:\tlearn: 0.1782439\ttotal: 346ms\tremaining: 859ms\n",
      "287:\tlearn: 0.1777826\ttotal: 347ms\tremaining: 857ms\n",
      "288:\tlearn: 0.1774630\ttotal: 348ms\tremaining: 855ms\n",
      "289:\tlearn: 0.1771017\ttotal: 349ms\tremaining: 854ms\n",
      "290:\tlearn: 0.1764681\ttotal: 350ms\tremaining: 852ms\n",
      "291:\tlearn: 0.1760936\ttotal: 351ms\tremaining: 850ms\n",
      "292:\tlearn: 0.1759957\ttotal: 352ms\tremaining: 848ms\n",
      "293:\tlearn: 0.1759041\ttotal: 352ms\tremaining: 846ms\n",
      "294:\tlearn: 0.1754610\ttotal: 354ms\tremaining: 845ms\n",
      "295:\tlearn: 0.1749654\ttotal: 355ms\tremaining: 844ms\n",
      "296:\tlearn: 0.1745925\ttotal: 356ms\tremaining: 843ms\n",
      "297:\tlearn: 0.1741503\ttotal: 357ms\tremaining: 841ms\n",
      "298:\tlearn: 0.1736040\ttotal: 358ms\tremaining: 839ms\n",
      "299:\tlearn: 0.1735130\ttotal: 359ms\tremaining: 838ms\n",
      "300:\tlearn: 0.1730973\ttotal: 360ms\tremaining: 836ms\n",
      "301:\tlearn: 0.1730032\ttotal: 361ms\tremaining: 834ms\n",
      "302:\tlearn: 0.1729238\ttotal: 362ms\tremaining: 832ms\n",
      "303:\tlearn: 0.1725803\ttotal: 363ms\tremaining: 831ms\n",
      "304:\tlearn: 0.1722328\ttotal: 364ms\tremaining: 829ms\n",
      "305:\tlearn: 0.1717773\ttotal: 365ms\tremaining: 827ms\n",
      "306:\tlearn: 0.1713912\ttotal: 366ms\tremaining: 826ms\n",
      "307:\tlearn: 0.1709975\ttotal: 367ms\tremaining: 824ms\n",
      "308:\tlearn: 0.1709084\ttotal: 368ms\tremaining: 823ms\n",
      "309:\tlearn: 0.1703404\ttotal: 369ms\tremaining: 821ms\n",
      "310:\tlearn: 0.1702601\ttotal: 370ms\tremaining: 819ms\n",
      "311:\tlearn: 0.1700979\ttotal: 371ms\tremaining: 818ms\n",
      "312:\tlearn: 0.1700273\ttotal: 372ms\tremaining: 816ms\n",
      "313:\tlearn: 0.1696738\ttotal: 373ms\tremaining: 815ms\n",
      "314:\tlearn: 0.1695324\ttotal: 374ms\tremaining: 814ms\n",
      "315:\tlearn: 0.1693883\ttotal: 375ms\tremaining: 813ms\n",
      "316:\tlearn: 0.1691332\ttotal: 376ms\tremaining: 811ms\n",
      "317:\tlearn: 0.1690672\ttotal: 377ms\tremaining: 809ms\n",
      "318:\tlearn: 0.1685687\ttotal: 378ms\tremaining: 808ms\n",
      "319:\tlearn: 0.1685040\ttotal: 379ms\tremaining: 806ms\n",
      "320:\tlearn: 0.1683749\ttotal: 380ms\tremaining: 805ms\n",
      "321:\tlearn: 0.1678376\ttotal: 381ms\tremaining: 803ms\n",
      "322:\tlearn: 0.1674145\ttotal: 382ms\tremaining: 801ms\n",
      "323:\tlearn: 0.1670205\ttotal: 383ms\tremaining: 800ms\n",
      "324:\tlearn: 0.1667836\ttotal: 385ms\tremaining: 799ms\n",
      "325:\tlearn: 0.1667149\ttotal: 386ms\tremaining: 797ms\n",
      "326:\tlearn: 0.1661316\ttotal: 387ms\tremaining: 796ms\n",
      "327:\tlearn: 0.1655931\ttotal: 388ms\tremaining: 794ms\n",
      "328:\tlearn: 0.1654713\ttotal: 389ms\tremaining: 793ms\n",
      "329:\tlearn: 0.1654112\ttotal: 390ms\tremaining: 791ms\n",
      "330:\tlearn: 0.1652945\ttotal: 391ms\tremaining: 790ms\n",
      "331:\tlearn: 0.1652365\ttotal: 392ms\tremaining: 788ms\n",
      "332:\tlearn: 0.1648325\ttotal: 393ms\tremaining: 787ms\n",
      "333:\tlearn: 0.1644117\ttotal: 394ms\tremaining: 785ms\n",
      "334:\tlearn: 0.1638480\ttotal: 395ms\tremaining: 784ms\n",
      "335:\tlearn: 0.1637909\ttotal: 396ms\tremaining: 782ms\n",
      "336:\tlearn: 0.1632302\ttotal: 397ms\tremaining: 781ms\n",
      "337:\tlearn: 0.1631596\ttotal: 398ms\tremaining: 780ms\n",
      "338:\tlearn: 0.1627763\ttotal: 399ms\tremaining: 778ms\n",
      "339:\tlearn: 0.1627211\ttotal: 400ms\tremaining: 776ms\n",
      "340:\tlearn: 0.1626670\ttotal: 402ms\tremaining: 776ms\n",
      "341:\tlearn: 0.1626140\ttotal: 403ms\tremaining: 775ms\n"
     ]
    },
    {
     "name": "stdout",
     "output_type": "stream",
     "text": [
      "342:\tlearn: 0.1625690\ttotal: 405ms\tremaining: 775ms\n",
      "343:\tlearn: 0.1620627\ttotal: 406ms\tremaining: 774ms\n",
      "344:\tlearn: 0.1618732\ttotal: 407ms\tremaining: 773ms\n",
      "345:\tlearn: 0.1617622\ttotal: 408ms\tremaining: 771ms\n",
      "346:\tlearn: 0.1617027\ttotal: 409ms\tremaining: 770ms\n",
      "347:\tlearn: 0.1612439\ttotal: 410ms\tremaining: 768ms\n",
      "348:\tlearn: 0.1609575\ttotal: 411ms\tremaining: 767ms\n",
      "349:\tlearn: 0.1606361\ttotal: 412ms\tremaining: 765ms\n",
      "350:\tlearn: 0.1600468\ttotal: 413ms\tremaining: 764ms\n",
      "351:\tlearn: 0.1596920\ttotal: 414ms\tremaining: 763ms\n",
      "352:\tlearn: 0.1591969\ttotal: 415ms\tremaining: 761ms\n",
      "353:\tlearn: 0.1587411\ttotal: 416ms\tremaining: 760ms\n",
      "354:\tlearn: 0.1584103\ttotal: 417ms\tremaining: 758ms\n",
      "355:\tlearn: 0.1578848\ttotal: 418ms\tremaining: 757ms\n",
      "356:\tlearn: 0.1574156\ttotal: 419ms\tremaining: 755ms\n",
      "357:\tlearn: 0.1573679\ttotal: 420ms\tremaining: 753ms\n",
      "358:\tlearn: 0.1569046\ttotal: 421ms\tremaining: 752ms\n",
      "359:\tlearn: 0.1565222\ttotal: 422ms\tremaining: 751ms\n",
      "360:\tlearn: 0.1564756\ttotal: 423ms\tremaining: 749ms\n",
      "361:\tlearn: 0.1561748\ttotal: 424ms\tremaining: 748ms\n",
      "362:\tlearn: 0.1557551\ttotal: 425ms\tremaining: 746ms\n",
      "363:\tlearn: 0.1553292\ttotal: 426ms\tremaining: 745ms\n",
      "364:\tlearn: 0.1548275\ttotal: 427ms\tremaining: 743ms\n",
      "365:\tlearn: 0.1545140\ttotal: 428ms\tremaining: 742ms\n",
      "366:\tlearn: 0.1541692\ttotal: 429ms\tremaining: 741ms\n",
      "367:\tlearn: 0.1541261\ttotal: 430ms\tremaining: 739ms\n",
      "368:\tlearn: 0.1537584\ttotal: 431ms\tremaining: 738ms\n",
      "369:\tlearn: 0.1536654\ttotal: 432ms\tremaining: 736ms\n",
      "370:\tlearn: 0.1536217\ttotal: 433ms\tremaining: 735ms\n",
      "371:\tlearn: 0.1535325\ttotal: 434ms\tremaining: 733ms\n",
      "372:\tlearn: 0.1533080\ttotal: 435ms\tremaining: 732ms\n",
      "373:\tlearn: 0.1528166\ttotal: 436ms\tremaining: 730ms\n",
      "374:\tlearn: 0.1523274\ttotal: 437ms\tremaining: 729ms\n",
      "375:\tlearn: 0.1522863\ttotal: 438ms\tremaining: 727ms\n",
      "376:\tlearn: 0.1520617\ttotal: 439ms\tremaining: 726ms\n",
      "377:\tlearn: 0.1515781\ttotal: 440ms\tremaining: 724ms\n",
      "378:\tlearn: 0.1512380\ttotal: 441ms\tremaining: 723ms\n",
      "379:\tlearn: 0.1509052\ttotal: 442ms\tremaining: 721ms\n",
      "380:\tlearn: 0.1505232\ttotal: 443ms\tremaining: 720ms\n",
      "381:\tlearn: 0.1501133\ttotal: 444ms\tremaining: 718ms\n",
      "382:\tlearn: 0.1500314\ttotal: 445ms\tremaining: 717ms\n",
      "383:\tlearn: 0.1499938\ttotal: 446ms\tremaining: 715ms\n",
      "384:\tlearn: 0.1496434\ttotal: 447ms\tremaining: 714ms\n",
      "385:\tlearn: 0.1495793\ttotal: 448ms\tremaining: 713ms\n",
      "386:\tlearn: 0.1491638\ttotal: 449ms\tremaining: 711ms\n",
      "387:\tlearn: 0.1487128\ttotal: 450ms\tremaining: 710ms\n",
      "388:\tlearn: 0.1482799\ttotal: 451ms\tremaining: 708ms\n",
      "389:\tlearn: 0.1482331\ttotal: 452ms\tremaining: 707ms\n",
      "390:\tlearn: 0.1476845\ttotal: 453ms\tremaining: 706ms\n",
      "391:\tlearn: 0.1473115\ttotal: 454ms\tremaining: 704ms\n",
      "392:\tlearn: 0.1472713\ttotal: 455ms\tremaining: 703ms\n",
      "393:\tlearn: 0.1470553\ttotal: 456ms\tremaining: 701ms\n",
      "394:\tlearn: 0.1466957\ttotal: 457ms\tremaining: 700ms\n",
      "395:\tlearn: 0.1461401\ttotal: 458ms\tremaining: 698ms\n",
      "396:\tlearn: 0.1461033\ttotal: 459ms\tremaining: 697ms\n",
      "397:\tlearn: 0.1457782\ttotal: 460ms\tremaining: 695ms\n",
      "398:\tlearn: 0.1457341\ttotal: 460ms\tremaining: 694ms\n",
      "399:\tlearn: 0.1453618\ttotal: 461ms\tremaining: 692ms\n",
      "400:\tlearn: 0.1450226\ttotal: 462ms\tremaining: 691ms\n",
      "401:\tlearn: 0.1446770\ttotal: 464ms\tremaining: 690ms\n",
      "402:\tlearn: 0.1446416\ttotal: 465ms\tremaining: 688ms\n",
      "403:\tlearn: 0.1442942\ttotal: 466ms\tremaining: 687ms\n",
      "404:\tlearn: 0.1440234\ttotal: 467ms\tremaining: 686ms\n",
      "405:\tlearn: 0.1439889\ttotal: 468ms\tremaining: 684ms\n",
      "406:\tlearn: 0.1438622\ttotal: 468ms\tremaining: 683ms\n",
      "407:\tlearn: 0.1438208\ttotal: 470ms\tremaining: 681ms\n",
      "408:\tlearn: 0.1434358\ttotal: 470ms\tremaining: 680ms\n",
      "409:\tlearn: 0.1432737\ttotal: 471ms\tremaining: 678ms\n",
      "410:\tlearn: 0.1432225\ttotal: 472ms\tremaining: 677ms\n",
      "411:\tlearn: 0.1428251\ttotal: 474ms\tremaining: 676ms\n",
      "412:\tlearn: 0.1425145\ttotal: 474ms\tremaining: 674ms\n",
      "413:\tlearn: 0.1424545\ttotal: 476ms\tremaining: 673ms\n",
      "414:\tlearn: 0.1421798\ttotal: 477ms\tremaining: 672ms\n",
      "415:\tlearn: 0.1417852\ttotal: 478ms\tremaining: 670ms\n",
      "416:\tlearn: 0.1414771\ttotal: 479ms\tremaining: 669ms\n",
      "417:\tlearn: 0.1411396\ttotal: 480ms\tremaining: 668ms\n",
      "418:\tlearn: 0.1407280\ttotal: 481ms\tremaining: 666ms\n",
      "419:\tlearn: 0.1405981\ttotal: 481ms\tremaining: 665ms\n",
      "420:\tlearn: 0.1403086\ttotal: 482ms\tremaining: 663ms\n",
      "421:\tlearn: 0.1399590\ttotal: 483ms\tremaining: 662ms\n",
      "422:\tlearn: 0.1396201\ttotal: 485ms\tremaining: 661ms\n",
      "423:\tlearn: 0.1392689\ttotal: 486ms\tremaining: 660ms\n",
      "424:\tlearn: 0.1389431\ttotal: 486ms\tremaining: 658ms\n",
      "425:\tlearn: 0.1389110\ttotal: 488ms\tremaining: 657ms\n",
      "426:\tlearn: 0.1385907\ttotal: 489ms\tremaining: 656ms\n",
      "427:\tlearn: 0.1385341\ttotal: 489ms\tremaining: 654ms\n",
      "428:\tlearn: 0.1381484\ttotal: 490ms\tremaining: 653ms\n",
      "429:\tlearn: 0.1378982\ttotal: 491ms\tremaining: 651ms\n",
      "430:\tlearn: 0.1376886\ttotal: 493ms\tremaining: 650ms\n",
      "431:\tlearn: 0.1374243\ttotal: 494ms\tremaining: 649ms\n",
      "432:\tlearn: 0.1370278\ttotal: 495ms\tremaining: 648ms\n",
      "433:\tlearn: 0.1369900\ttotal: 496ms\tremaining: 646ms\n",
      "434:\tlearn: 0.1366482\ttotal: 497ms\tremaining: 645ms\n",
      "435:\tlearn: 0.1364259\ttotal: 498ms\tremaining: 644ms\n",
      "436:\tlearn: 0.1361552\ttotal: 499ms\tremaining: 642ms\n",
      "437:\tlearn: 0.1359451\ttotal: 500ms\tremaining: 641ms\n",
      "438:\tlearn: 0.1355271\ttotal: 501ms\tremaining: 640ms\n",
      "439:\tlearn: 0.1351547\ttotal: 502ms\tremaining: 638ms\n",
      "440:\tlearn: 0.1351000\ttotal: 503ms\tremaining: 637ms\n",
      "441:\tlearn: 0.1349759\ttotal: 503ms\tremaining: 636ms\n",
      "442:\tlearn: 0.1349400\ttotal: 505ms\tremaining: 634ms\n",
      "443:\tlearn: 0.1348290\ttotal: 506ms\tremaining: 633ms\n",
      "444:\tlearn: 0.1345341\ttotal: 507ms\tremaining: 632ms\n",
      "445:\tlearn: 0.1341832\ttotal: 508ms\tremaining: 631ms\n",
      "446:\tlearn: 0.1341443\ttotal: 509ms\tremaining: 629ms\n",
      "447:\tlearn: 0.1337971\ttotal: 510ms\tremaining: 628ms\n",
      "448:\tlearn: 0.1335342\ttotal: 511ms\tremaining: 627ms\n",
      "449:\tlearn: 0.1332336\ttotal: 512ms\tremaining: 626ms\n",
      "450:\tlearn: 0.1329583\ttotal: 513ms\tremaining: 624ms\n",
      "451:\tlearn: 0.1326648\ttotal: 514ms\tremaining: 623ms\n",
      "452:\tlearn: 0.1322734\ttotal: 515ms\tremaining: 622ms\n",
      "453:\tlearn: 0.1321285\ttotal: 516ms\tremaining: 620ms\n",
      "454:\tlearn: 0.1318418\ttotal: 517ms\tremaining: 619ms\n",
      "455:\tlearn: 0.1316418\ttotal: 518ms\tremaining: 618ms\n",
      "456:\tlearn: 0.1312192\ttotal: 519ms\tremaining: 617ms\n",
      "457:\tlearn: 0.1309295\ttotal: 520ms\tremaining: 615ms\n",
      "458:\tlearn: 0.1306966\ttotal: 521ms\tremaining: 614ms\n",
      "459:\tlearn: 0.1306619\ttotal: 522ms\tremaining: 613ms\n",
      "460:\tlearn: 0.1303269\ttotal: 523ms\tremaining: 612ms\n",
      "461:\tlearn: 0.1302852\ttotal: 524ms\tremaining: 610ms\n",
      "462:\tlearn: 0.1299678\ttotal: 525ms\tremaining: 609ms\n",
      "463:\tlearn: 0.1297114\ttotal: 526ms\tremaining: 607ms\n",
      "464:\tlearn: 0.1292902\ttotal: 527ms\tremaining: 606ms\n",
      "465:\tlearn: 0.1289768\ttotal: 528ms\tremaining: 605ms\n",
      "466:\tlearn: 0.1287237\ttotal: 529ms\tremaining: 604ms\n",
      "467:\tlearn: 0.1285067\ttotal: 530ms\tremaining: 602ms\n",
      "468:\tlearn: 0.1282669\ttotal: 531ms\tremaining: 601ms\n",
      "469:\tlearn: 0.1282341\ttotal: 532ms\tremaining: 600ms\n",
      "470:\tlearn: 0.1280822\ttotal: 533ms\tremaining: 598ms\n",
      "471:\tlearn: 0.1279959\ttotal: 534ms\tremaining: 597ms\n",
      "472:\tlearn: 0.1277164\ttotal: 535ms\tremaining: 596ms\n",
      "473:\tlearn: 0.1276196\ttotal: 536ms\tremaining: 594ms\n",
      "474:\tlearn: 0.1273605\ttotal: 537ms\tremaining: 593ms\n",
      "475:\tlearn: 0.1269234\ttotal: 538ms\tremaining: 592ms\n",
      "476:\tlearn: 0.1266819\ttotal: 539ms\tremaining: 591ms\n"
     ]
    },
    {
     "name": "stdout",
     "output_type": "stream",
     "text": [
      "477:\tlearn: 0.1264727\ttotal: 540ms\tremaining: 589ms\n",
      "478:\tlearn: 0.1259474\ttotal: 541ms\tremaining: 588ms\n",
      "479:\tlearn: 0.1256014\ttotal: 542ms\tremaining: 587ms\n",
      "480:\tlearn: 0.1253362\ttotal: 542ms\tremaining: 585ms\n",
      "481:\tlearn: 0.1253076\ttotal: 543ms\tremaining: 584ms\n",
      "482:\tlearn: 0.1249146\ttotal: 545ms\tremaining: 583ms\n",
      "483:\tlearn: 0.1245209\ttotal: 546ms\tremaining: 582ms\n",
      "484:\tlearn: 0.1242724\ttotal: 547ms\tremaining: 580ms\n",
      "485:\tlearn: 0.1240936\ttotal: 548ms\tremaining: 579ms\n",
      "486:\tlearn: 0.1237520\ttotal: 549ms\tremaining: 578ms\n",
      "487:\tlearn: 0.1236690\ttotal: 550ms\tremaining: 577ms\n",
      "488:\tlearn: 0.1234382\ttotal: 551ms\tremaining: 575ms\n",
      "489:\tlearn: 0.1231415\ttotal: 552ms\tremaining: 574ms\n",
      "490:\tlearn: 0.1229684\ttotal: 553ms\tremaining: 573ms\n",
      "491:\tlearn: 0.1227415\ttotal: 554ms\tremaining: 572ms\n",
      "492:\tlearn: 0.1224962\ttotal: 555ms\tremaining: 571ms\n",
      "493:\tlearn: 0.1222627\ttotal: 556ms\tremaining: 569ms\n",
      "494:\tlearn: 0.1220719\ttotal: 557ms\tremaining: 568ms\n",
      "495:\tlearn: 0.1217733\ttotal: 558ms\tremaining: 567ms\n",
      "496:\tlearn: 0.1217486\ttotal: 559ms\tremaining: 566ms\n",
      "497:\tlearn: 0.1217242\ttotal: 560ms\tremaining: 564ms\n",
      "498:\tlearn: 0.1214042\ttotal: 561ms\tremaining: 563ms\n",
      "499:\tlearn: 0.1211337\ttotal: 562ms\tremaining: 562ms\n",
      "500:\tlearn: 0.1208453\ttotal: 563ms\tremaining: 561ms\n",
      "501:\tlearn: 0.1206982\ttotal: 564ms\tremaining: 559ms\n",
      "502:\tlearn: 0.1203474\ttotal: 565ms\tremaining: 558ms\n",
      "503:\tlearn: 0.1201564\ttotal: 566ms\tremaining: 557ms\n",
      "504:\tlearn: 0.1199474\ttotal: 567ms\tremaining: 556ms\n",
      "505:\tlearn: 0.1196816\ttotal: 568ms\tremaining: 554ms\n",
      "506:\tlearn: 0.1193082\ttotal: 569ms\tremaining: 553ms\n",
      "507:\tlearn: 0.1189045\ttotal: 570ms\tremaining: 552ms\n",
      "508:\tlearn: 0.1187965\ttotal: 571ms\tremaining: 551ms\n",
      "509:\tlearn: 0.1186443\ttotal: 573ms\tremaining: 550ms\n",
      "510:\tlearn: 0.1182906\ttotal: 573ms\tremaining: 549ms\n",
      "511:\tlearn: 0.1178996\ttotal: 574ms\tremaining: 548ms\n",
      "512:\tlearn: 0.1176124\ttotal: 576ms\tremaining: 546ms\n",
      "513:\tlearn: 0.1174809\ttotal: 577ms\tremaining: 545ms\n",
      "514:\tlearn: 0.1173208\ttotal: 578ms\tremaining: 544ms\n",
      "515:\tlearn: 0.1170487\ttotal: 578ms\tremaining: 543ms\n",
      "516:\tlearn: 0.1170265\ttotal: 579ms\tremaining: 541ms\n",
      "517:\tlearn: 0.1168199\ttotal: 581ms\tremaining: 540ms\n",
      "518:\tlearn: 0.1167709\ttotal: 581ms\tremaining: 539ms\n",
      "519:\tlearn: 0.1167431\ttotal: 582ms\tremaining: 538ms\n",
      "520:\tlearn: 0.1163874\ttotal: 584ms\tremaining: 536ms\n",
      "521:\tlearn: 0.1162585\ttotal: 585ms\tremaining: 535ms\n",
      "522:\tlearn: 0.1159170\ttotal: 586ms\tremaining: 534ms\n",
      "523:\tlearn: 0.1157696\ttotal: 587ms\tremaining: 533ms\n",
      "524:\tlearn: 0.1157470\ttotal: 588ms\tremaining: 532ms\n",
      "525:\tlearn: 0.1154960\ttotal: 589ms\tremaining: 531ms\n",
      "526:\tlearn: 0.1151943\ttotal: 590ms\tremaining: 530ms\n",
      "527:\tlearn: 0.1148788\ttotal: 591ms\tremaining: 528ms\n",
      "528:\tlearn: 0.1146592\ttotal: 592ms\tremaining: 527ms\n",
      "529:\tlearn: 0.1143088\ttotal: 593ms\tremaining: 526ms\n",
      "530:\tlearn: 0.1140712\ttotal: 594ms\tremaining: 525ms\n",
      "531:\tlearn: 0.1140488\ttotal: 595ms\tremaining: 524ms\n",
      "532:\tlearn: 0.1138610\ttotal: 596ms\tremaining: 523ms\n",
      "533:\tlearn: 0.1137299\ttotal: 597ms\tremaining: 521ms\n",
      "534:\tlearn: 0.1137113\ttotal: 598ms\tremaining: 520ms\n",
      "535:\tlearn: 0.1133110\ttotal: 599ms\tremaining: 519ms\n",
      "536:\tlearn: 0.1130543\ttotal: 600ms\tremaining: 518ms\n",
      "537:\tlearn: 0.1127227\ttotal: 601ms\tremaining: 516ms\n",
      "538:\tlearn: 0.1124229\ttotal: 603ms\tremaining: 515ms\n",
      "539:\tlearn: 0.1124077\ttotal: 604ms\tremaining: 514ms\n",
      "540:\tlearn: 0.1120802\ttotal: 605ms\tremaining: 513ms\n",
      "541:\tlearn: 0.1119247\ttotal: 606ms\tremaining: 512ms\n",
      "542:\tlearn: 0.1116975\ttotal: 607ms\tremaining: 510ms\n",
      "543:\tlearn: 0.1114696\ttotal: 608ms\tremaining: 509ms\n",
      "544:\tlearn: 0.1112926\ttotal: 609ms\tremaining: 508ms\n",
      "545:\tlearn: 0.1111877\ttotal: 610ms\tremaining: 507ms\n",
      "546:\tlearn: 0.1109628\ttotal: 611ms\tremaining: 506ms\n",
      "547:\tlearn: 0.1107676\ttotal: 612ms\tremaining: 505ms\n",
      "548:\tlearn: 0.1104786\ttotal: 613ms\tremaining: 503ms\n",
      "549:\tlearn: 0.1102636\ttotal: 614ms\tremaining: 502ms\n",
      "550:\tlearn: 0.1099760\ttotal: 615ms\tremaining: 501ms\n",
      "551:\tlearn: 0.1097865\ttotal: 616ms\tremaining: 500ms\n",
      "552:\tlearn: 0.1096296\ttotal: 617ms\tremaining: 498ms\n",
      "553:\tlearn: 0.1094575\ttotal: 618ms\tremaining: 497ms\n",
      "554:\tlearn: 0.1092898\ttotal: 619ms\tremaining: 496ms\n",
      "555:\tlearn: 0.1090996\ttotal: 620ms\tremaining: 495ms\n",
      "556:\tlearn: 0.1088598\ttotal: 621ms\tremaining: 494ms\n",
      "557:\tlearn: 0.1086904\ttotal: 622ms\tremaining: 493ms\n",
      "558:\tlearn: 0.1086691\ttotal: 623ms\tremaining: 492ms\n",
      "559:\tlearn: 0.1086425\ttotal: 624ms\tremaining: 490ms\n",
      "560:\tlearn: 0.1086082\ttotal: 625ms\tremaining: 489ms\n",
      "561:\tlearn: 0.1083922\ttotal: 627ms\tremaining: 488ms\n",
      "562:\tlearn: 0.1081599\ttotal: 628ms\tremaining: 487ms\n",
      "563:\tlearn: 0.1079512\ttotal: 629ms\tremaining: 486ms\n",
      "564:\tlearn: 0.1077821\ttotal: 630ms\tremaining: 485ms\n",
      "565:\tlearn: 0.1075706\ttotal: 631ms\tremaining: 484ms\n",
      "566:\tlearn: 0.1072859\ttotal: 632ms\tremaining: 483ms\n",
      "567:\tlearn: 0.1071190\ttotal: 634ms\tremaining: 482ms\n",
      "568:\tlearn: 0.1070002\ttotal: 635ms\tremaining: 481ms\n",
      "569:\tlearn: 0.1068099\ttotal: 636ms\tremaining: 480ms\n",
      "570:\tlearn: 0.1065452\ttotal: 637ms\tremaining: 479ms\n",
      "571:\tlearn: 0.1063405\ttotal: 638ms\tremaining: 477ms\n",
      "572:\tlearn: 0.1062861\ttotal: 639ms\tremaining: 476ms\n",
      "573:\tlearn: 0.1060585\ttotal: 640ms\tremaining: 475ms\n",
      "574:\tlearn: 0.1058105\ttotal: 641ms\tremaining: 474ms\n",
      "575:\tlearn: 0.1056137\ttotal: 643ms\tremaining: 473ms\n",
      "576:\tlearn: 0.1054078\ttotal: 644ms\tremaining: 472ms\n",
      "577:\tlearn: 0.1051965\ttotal: 645ms\tremaining: 471ms\n",
      "578:\tlearn: 0.1048886\ttotal: 646ms\tremaining: 470ms\n",
      "579:\tlearn: 0.1047374\ttotal: 647ms\tremaining: 468ms\n",
      "580:\tlearn: 0.1045491\ttotal: 648ms\tremaining: 467ms\n",
      "581:\tlearn: 0.1043053\ttotal: 649ms\tremaining: 466ms\n",
      "582:\tlearn: 0.1040557\ttotal: 650ms\tremaining: 465ms\n",
      "583:\tlearn: 0.1037747\ttotal: 651ms\tremaining: 464ms\n",
      "584:\tlearn: 0.1036119\ttotal: 652ms\tremaining: 463ms\n",
      "585:\tlearn: 0.1033411\ttotal: 653ms\tremaining: 462ms\n",
      "586:\tlearn: 0.1032008\ttotal: 654ms\tremaining: 460ms\n",
      "587:\tlearn: 0.1030020\ttotal: 655ms\tremaining: 459ms\n",
      "588:\tlearn: 0.1029769\ttotal: 656ms\tremaining: 458ms\n",
      "589:\tlearn: 0.1027638\ttotal: 657ms\tremaining: 457ms\n",
      "590:\tlearn: 0.1026702\ttotal: 658ms\tremaining: 456ms\n",
      "591:\tlearn: 0.1024599\ttotal: 659ms\tremaining: 454ms\n",
      "592:\tlearn: 0.1023542\ttotal: 661ms\tremaining: 453ms\n",
      "593:\tlearn: 0.1022045\ttotal: 662ms\tremaining: 452ms\n",
      "594:\tlearn: 0.1020613\ttotal: 663ms\tremaining: 451ms\n",
      "595:\tlearn: 0.1018439\ttotal: 664ms\tremaining: 450ms\n",
      "596:\tlearn: 0.1016394\ttotal: 665ms\tremaining: 449ms\n",
      "597:\tlearn: 0.1014116\ttotal: 666ms\tremaining: 448ms\n",
      "598:\tlearn: 0.1011524\ttotal: 667ms\tremaining: 446ms\n",
      "599:\tlearn: 0.1010157\ttotal: 668ms\tremaining: 445ms\n",
      "600:\tlearn: 0.1009971\ttotal: 669ms\tremaining: 444ms\n",
      "601:\tlearn: 0.1007755\ttotal: 670ms\tremaining: 443ms\n",
      "602:\tlearn: 0.1006066\ttotal: 671ms\tremaining: 442ms\n",
      "603:\tlearn: 0.1004690\ttotal: 672ms\tremaining: 440ms\n"
     ]
    },
    {
     "name": "stdout",
     "output_type": "stream",
     "text": [
      "604:\tlearn: 0.1002186\ttotal: 673ms\tremaining: 439ms\n",
      "605:\tlearn: 0.1000621\ttotal: 674ms\tremaining: 438ms\n",
      "606:\tlearn: 0.0999851\ttotal: 675ms\tremaining: 437ms\n",
      "607:\tlearn: 0.0998825\ttotal: 676ms\tremaining: 436ms\n",
      "608:\tlearn: 0.0996846\ttotal: 677ms\tremaining: 435ms\n",
      "609:\tlearn: 0.0994656\ttotal: 678ms\tremaining: 434ms\n",
      "610:\tlearn: 0.0992969\ttotal: 679ms\tremaining: 432ms\n",
      "611:\tlearn: 0.0990942\ttotal: 680ms\tremaining: 431ms\n",
      "612:\tlearn: 0.0988758\ttotal: 681ms\tremaining: 430ms\n",
      "613:\tlearn: 0.0987380\ttotal: 682ms\tremaining: 429ms\n",
      "614:\tlearn: 0.0985033\ttotal: 683ms\tremaining: 428ms\n",
      "615:\tlearn: 0.0983546\ttotal: 684ms\tremaining: 427ms\n",
      "616:\tlearn: 0.0983391\ttotal: 685ms\tremaining: 425ms\n",
      "617:\tlearn: 0.0981453\ttotal: 686ms\tremaining: 424ms\n",
      "618:\tlearn: 0.0980196\ttotal: 687ms\tremaining: 423ms\n",
      "619:\tlearn: 0.0978396\ttotal: 688ms\tremaining: 422ms\n",
      "620:\tlearn: 0.0976301\ttotal: 689ms\tremaining: 421ms\n",
      "621:\tlearn: 0.0975353\ttotal: 691ms\tremaining: 420ms\n",
      "622:\tlearn: 0.0973497\ttotal: 691ms\tremaining: 418ms\n",
      "623:\tlearn: 0.0971915\ttotal: 692ms\tremaining: 417ms\n",
      "624:\tlearn: 0.0969799\ttotal: 694ms\tremaining: 416ms\n",
      "625:\tlearn: 0.0968320\ttotal: 694ms\tremaining: 415ms\n",
      "626:\tlearn: 0.0966710\ttotal: 695ms\tremaining: 414ms\n",
      "627:\tlearn: 0.0964999\ttotal: 696ms\tremaining: 413ms\n",
      "628:\tlearn: 0.0964845\ttotal: 698ms\tremaining: 411ms\n",
      "629:\tlearn: 0.0963608\ttotal: 699ms\tremaining: 410ms\n",
      "630:\tlearn: 0.0963095\ttotal: 700ms\tremaining: 409ms\n",
      "631:\tlearn: 0.0961172\ttotal: 701ms\tremaining: 408ms\n",
      "632:\tlearn: 0.0961023\ttotal: 702ms\tremaining: 407ms\n",
      "633:\tlearn: 0.0959751\ttotal: 703ms\tremaining: 406ms\n",
      "634:\tlearn: 0.0957520\ttotal: 704ms\tremaining: 404ms\n",
      "635:\tlearn: 0.0954997\ttotal: 705ms\tremaining: 403ms\n",
      "636:\tlearn: 0.0954555\ttotal: 706ms\tremaining: 402ms\n",
      "637:\tlearn: 0.0952971\ttotal: 707ms\tremaining: 401ms\n",
      "638:\tlearn: 0.0950793\ttotal: 708ms\tremaining: 400ms\n",
      "639:\tlearn: 0.0949073\ttotal: 709ms\tremaining: 399ms\n",
      "640:\tlearn: 0.0946975\ttotal: 710ms\tremaining: 397ms\n",
      "641:\tlearn: 0.0945265\ttotal: 711ms\tremaining: 396ms\n",
      "642:\tlearn: 0.0944537\ttotal: 712ms\tremaining: 395ms\n",
      "643:\tlearn: 0.0943138\ttotal: 713ms\tremaining: 394ms\n",
      "644:\tlearn: 0.0941959\ttotal: 714ms\tremaining: 393ms\n",
      "645:\tlearn: 0.0940293\ttotal: 715ms\tremaining: 392ms\n",
      "646:\tlearn: 0.0938805\ttotal: 716ms\tremaining: 390ms\n",
      "647:\tlearn: 0.0938107\ttotal: 717ms\tremaining: 389ms\n",
      "648:\tlearn: 0.0935917\ttotal: 718ms\tremaining: 388ms\n",
      "649:\tlearn: 0.0933845\ttotal: 719ms\tremaining: 387ms\n",
      "650:\tlearn: 0.0932218\ttotal: 720ms\tremaining: 386ms\n",
      "651:\tlearn: 0.0930201\ttotal: 721ms\tremaining: 385ms\n",
      "652:\tlearn: 0.0927786\ttotal: 722ms\tremaining: 384ms\n",
      "653:\tlearn: 0.0925857\ttotal: 723ms\tremaining: 382ms\n",
      "654:\tlearn: 0.0924331\ttotal: 724ms\tremaining: 381ms\n",
      "655:\tlearn: 0.0922124\ttotal: 725ms\tremaining: 380ms\n",
      "656:\tlearn: 0.0919798\ttotal: 726ms\tremaining: 379ms\n",
      "657:\tlearn: 0.0918587\ttotal: 727ms\tremaining: 378ms\n",
      "658:\tlearn: 0.0917979\ttotal: 728ms\tremaining: 377ms\n",
      "659:\tlearn: 0.0915415\ttotal: 729ms\tremaining: 376ms\n",
      "660:\tlearn: 0.0915250\ttotal: 730ms\tremaining: 374ms\n",
      "661:\tlearn: 0.0913799\ttotal: 731ms\tremaining: 373ms\n",
      "662:\tlearn: 0.0912290\ttotal: 732ms\tremaining: 372ms\n",
      "663:\tlearn: 0.0910682\ttotal: 733ms\tremaining: 371ms\n",
      "664:\tlearn: 0.0908337\ttotal: 734ms\tremaining: 370ms\n",
      "665:\tlearn: 0.0906212\ttotal: 735ms\tremaining: 369ms\n",
      "666:\tlearn: 0.0905029\ttotal: 736ms\tremaining: 367ms\n",
      "667:\tlearn: 0.0903777\ttotal: 737ms\tremaining: 366ms\n",
      "668:\tlearn: 0.0902735\ttotal: 738ms\tremaining: 365ms\n",
      "669:\tlearn: 0.0901737\ttotal: 739ms\tremaining: 364ms\n",
      "670:\tlearn: 0.0899778\ttotal: 740ms\tremaining: 363ms\n",
      "671:\tlearn: 0.0898650\ttotal: 741ms\tremaining: 362ms\n",
      "672:\tlearn: 0.0897296\ttotal: 742ms\tremaining: 361ms\n",
      "673:\tlearn: 0.0895333\ttotal: 743ms\tremaining: 359ms\n",
      "674:\tlearn: 0.0895198\ttotal: 744ms\tremaining: 358ms\n",
      "675:\tlearn: 0.0893456\ttotal: 745ms\tremaining: 357ms\n",
      "676:\tlearn: 0.0893314\ttotal: 746ms\tremaining: 356ms\n",
      "677:\tlearn: 0.0891940\ttotal: 747ms\tremaining: 355ms\n",
      "678:\tlearn: 0.0890423\ttotal: 748ms\tremaining: 354ms\n",
      "679:\tlearn: 0.0888836\ttotal: 749ms\tremaining: 352ms\n",
      "680:\tlearn: 0.0887087\ttotal: 750ms\tremaining: 351ms\n",
      "681:\tlearn: 0.0885350\ttotal: 751ms\tremaining: 350ms\n",
      "682:\tlearn: 0.0883906\ttotal: 752ms\tremaining: 349ms\n",
      "683:\tlearn: 0.0882934\ttotal: 753ms\tremaining: 348ms\n",
      "684:\tlearn: 0.0881164\ttotal: 754ms\tremaining: 347ms\n",
      "685:\tlearn: 0.0880403\ttotal: 755ms\tremaining: 346ms\n",
      "686:\tlearn: 0.0879236\ttotal: 756ms\tremaining: 345ms\n",
      "687:\tlearn: 0.0879087\ttotal: 757ms\tremaining: 344ms\n",
      "688:\tlearn: 0.0878984\ttotal: 758ms\tremaining: 342ms\n",
      "689:\tlearn: 0.0876849\ttotal: 760ms\tremaining: 341ms\n",
      "690:\tlearn: 0.0875405\ttotal: 761ms\tremaining: 340ms\n",
      "691:\tlearn: 0.0874197\ttotal: 762ms\tremaining: 339ms\n",
      "692:\tlearn: 0.0872079\ttotal: 763ms\tremaining: 338ms\n",
      "693:\tlearn: 0.0871150\ttotal: 764ms\tremaining: 337ms\n",
      "694:\tlearn: 0.0869369\ttotal: 765ms\tremaining: 336ms\n",
      "695:\tlearn: 0.0868171\ttotal: 766ms\tremaining: 335ms\n",
      "696:\tlearn: 0.0867201\ttotal: 767ms\tremaining: 333ms\n",
      "697:\tlearn: 0.0866142\ttotal: 768ms\tremaining: 332ms\n",
      "698:\tlearn: 0.0865012\ttotal: 769ms\tremaining: 331ms\n",
      "699:\tlearn: 0.0864199\ttotal: 770ms\tremaining: 330ms\n",
      "700:\tlearn: 0.0863755\ttotal: 771ms\tremaining: 329ms\n",
      "701:\tlearn: 0.0862580\ttotal: 772ms\tremaining: 328ms\n",
      "702:\tlearn: 0.0861177\ttotal: 773ms\tremaining: 326ms\n",
      "703:\tlearn: 0.0859643\ttotal: 774ms\tremaining: 325ms\n",
      "704:\tlearn: 0.0858617\ttotal: 775ms\tremaining: 324ms\n",
      "705:\tlearn: 0.0857066\ttotal: 776ms\tremaining: 323ms\n",
      "706:\tlearn: 0.0855924\ttotal: 777ms\tremaining: 322ms\n",
      "707:\tlearn: 0.0854861\ttotal: 778ms\tremaining: 321ms\n",
      "708:\tlearn: 0.0853139\ttotal: 779ms\tremaining: 320ms\n",
      "709:\tlearn: 0.0853017\ttotal: 780ms\tremaining: 319ms\n",
      "710:\tlearn: 0.0851803\ttotal: 781ms\tremaining: 317ms\n",
      "711:\tlearn: 0.0850982\ttotal: 782ms\tremaining: 316ms\n",
      "712:\tlearn: 0.0849876\ttotal: 783ms\tremaining: 315ms\n",
      "713:\tlearn: 0.0849370\ttotal: 784ms\tremaining: 314ms\n",
      "714:\tlearn: 0.0847341\ttotal: 785ms\tremaining: 313ms\n",
      "715:\tlearn: 0.0846204\ttotal: 786ms\tremaining: 312ms\n",
      "716:\tlearn: 0.0844133\ttotal: 787ms\tremaining: 311ms\n",
      "717:\tlearn: 0.0842049\ttotal: 788ms\tremaining: 310ms\n",
      "718:\tlearn: 0.0840225\ttotal: 789ms\tremaining: 308ms\n",
      "719:\tlearn: 0.0838812\ttotal: 790ms\tremaining: 307ms\n",
      "720:\tlearn: 0.0837345\ttotal: 791ms\tremaining: 306ms\n",
      "721:\tlearn: 0.0836213\ttotal: 792ms\tremaining: 305ms\n",
      "722:\tlearn: 0.0834757\ttotal: 793ms\tremaining: 304ms\n",
      "723:\tlearn: 0.0832865\ttotal: 794ms\tremaining: 303ms\n",
      "724:\tlearn: 0.0831656\ttotal: 795ms\tremaining: 302ms\n",
      "725:\tlearn: 0.0830279\ttotal: 796ms\tremaining: 300ms\n",
      "726:\tlearn: 0.0828850\ttotal: 797ms\tremaining: 299ms\n",
      "727:\tlearn: 0.0826845\ttotal: 798ms\tremaining: 298ms\n",
      "728:\tlearn: 0.0825498\ttotal: 799ms\tremaining: 297ms\n",
      "729:\tlearn: 0.0824024\ttotal: 800ms\tremaining: 296ms\n",
      "730:\tlearn: 0.0822517\ttotal: 801ms\tremaining: 295ms\n"
     ]
    },
    {
     "name": "stdout",
     "output_type": "stream",
     "text": [
      "731:\tlearn: 0.0821297\ttotal: 802ms\tremaining: 294ms\n",
      "732:\tlearn: 0.0819758\ttotal: 803ms\tremaining: 293ms\n",
      "733:\tlearn: 0.0818348\ttotal: 804ms\tremaining: 292ms\n",
      "734:\tlearn: 0.0817576\ttotal: 805ms\tremaining: 290ms\n",
      "735:\tlearn: 0.0815770\ttotal: 807ms\tremaining: 289ms\n",
      "736:\tlearn: 0.0815031\ttotal: 808ms\tremaining: 288ms\n",
      "737:\tlearn: 0.0814472\ttotal: 809ms\tremaining: 287ms\n",
      "738:\tlearn: 0.0813407\ttotal: 810ms\tremaining: 286ms\n",
      "739:\tlearn: 0.0812175\ttotal: 811ms\tremaining: 285ms\n",
      "740:\tlearn: 0.0811713\ttotal: 812ms\tremaining: 284ms\n",
      "741:\tlearn: 0.0810818\ttotal: 813ms\tremaining: 283ms\n",
      "742:\tlearn: 0.0809731\ttotal: 814ms\tremaining: 281ms\n",
      "743:\tlearn: 0.0808081\ttotal: 815ms\tremaining: 280ms\n",
      "744:\tlearn: 0.0806236\ttotal: 816ms\tremaining: 279ms\n",
      "745:\tlearn: 0.0805178\ttotal: 816ms\tremaining: 278ms\n",
      "746:\tlearn: 0.0803992\ttotal: 818ms\tremaining: 277ms\n",
      "747:\tlearn: 0.0803440\ttotal: 819ms\tremaining: 276ms\n",
      "748:\tlearn: 0.0802057\ttotal: 820ms\tremaining: 275ms\n",
      "749:\tlearn: 0.0800412\ttotal: 821ms\tremaining: 274ms\n",
      "750:\tlearn: 0.0799288\ttotal: 822ms\tremaining: 272ms\n",
      "751:\tlearn: 0.0798107\ttotal: 823ms\tremaining: 271ms\n",
      "752:\tlearn: 0.0797571\ttotal: 824ms\tremaining: 270ms\n",
      "753:\tlearn: 0.0796827\ttotal: 825ms\tremaining: 269ms\n",
      "754:\tlearn: 0.0795314\ttotal: 826ms\tremaining: 268ms\n",
      "755:\tlearn: 0.0794745\ttotal: 827ms\tremaining: 267ms\n",
      "756:\tlearn: 0.0792775\ttotal: 828ms\tremaining: 266ms\n",
      "757:\tlearn: 0.0791633\ttotal: 829ms\tremaining: 265ms\n",
      "758:\tlearn: 0.0789428\ttotal: 830ms\tremaining: 263ms\n",
      "759:\tlearn: 0.0788716\ttotal: 831ms\tremaining: 262ms\n",
      "760:\tlearn: 0.0787620\ttotal: 832ms\tremaining: 261ms\n",
      "761:\tlearn: 0.0786309\ttotal: 833ms\tremaining: 260ms\n",
      "762:\tlearn: 0.0784918\ttotal: 834ms\tremaining: 259ms\n",
      "763:\tlearn: 0.0783529\ttotal: 835ms\tremaining: 258ms\n",
      "764:\tlearn: 0.0782631\ttotal: 836ms\tremaining: 257ms\n",
      "765:\tlearn: 0.0781379\ttotal: 837ms\tremaining: 256ms\n",
      "766:\tlearn: 0.0780385\ttotal: 838ms\tremaining: 254ms\n",
      "767:\tlearn: 0.0779054\ttotal: 838ms\tremaining: 253ms\n",
      "768:\tlearn: 0.0777741\ttotal: 839ms\tremaining: 252ms\n",
      "769:\tlearn: 0.0776329\ttotal: 841ms\tremaining: 251ms\n",
      "770:\tlearn: 0.0775034\ttotal: 842ms\tremaining: 250ms\n",
      "771:\tlearn: 0.0773896\ttotal: 843ms\tremaining: 249ms\n",
      "772:\tlearn: 0.0772676\ttotal: 844ms\tremaining: 248ms\n",
      "773:\tlearn: 0.0771345\ttotal: 845ms\tremaining: 247ms\n",
      "774:\tlearn: 0.0770069\ttotal: 846ms\tremaining: 246ms\n",
      "775:\tlearn: 0.0768661\ttotal: 847ms\tremaining: 244ms\n",
      "776:\tlearn: 0.0767732\ttotal: 848ms\tremaining: 243ms\n",
      "777:\tlearn: 0.0766629\ttotal: 849ms\tremaining: 242ms\n",
      "778:\tlearn: 0.0764432\ttotal: 850ms\tremaining: 241ms\n",
      "779:\tlearn: 0.0763205\ttotal: 851ms\tremaining: 240ms\n",
      "780:\tlearn: 0.0762572\ttotal: 852ms\tremaining: 239ms\n",
      "781:\tlearn: 0.0761229\ttotal: 853ms\tremaining: 238ms\n",
      "782:\tlearn: 0.0759495\ttotal: 854ms\tremaining: 237ms\n",
      "783:\tlearn: 0.0758624\ttotal: 855ms\tremaining: 236ms\n",
      "784:\tlearn: 0.0757985\ttotal: 856ms\tremaining: 234ms\n",
      "785:\tlearn: 0.0756542\ttotal: 857ms\tremaining: 233ms\n",
      "786:\tlearn: 0.0755379\ttotal: 858ms\tremaining: 232ms\n",
      "787:\tlearn: 0.0754134\ttotal: 859ms\tremaining: 231ms\n",
      "788:\tlearn: 0.0753020\ttotal: 860ms\tremaining: 230ms\n",
      "789:\tlearn: 0.0751093\ttotal: 861ms\tremaining: 229ms\n",
      "790:\tlearn: 0.0751019\ttotal: 862ms\tremaining: 228ms\n",
      "791:\tlearn: 0.0749937\ttotal: 863ms\tremaining: 227ms\n",
      "792:\tlearn: 0.0748753\ttotal: 864ms\tremaining: 225ms\n",
      "793:\tlearn: 0.0747908\ttotal: 865ms\tremaining: 224ms\n",
      "794:\tlearn: 0.0746626\ttotal: 866ms\tremaining: 223ms\n",
      "795:\tlearn: 0.0744993\ttotal: 867ms\tremaining: 222ms\n",
      "796:\tlearn: 0.0743663\ttotal: 868ms\tremaining: 221ms\n",
      "797:\tlearn: 0.0741974\ttotal: 869ms\tremaining: 220ms\n",
      "798:\tlearn: 0.0741044\ttotal: 870ms\tremaining: 219ms\n",
      "799:\tlearn: 0.0740318\ttotal: 871ms\tremaining: 218ms\n",
      "800:\tlearn: 0.0739213\ttotal: 872ms\tremaining: 217ms\n",
      "801:\tlearn: 0.0737662\ttotal: 873ms\tremaining: 216ms\n",
      "802:\tlearn: 0.0736414\ttotal: 874ms\tremaining: 214ms\n",
      "803:\tlearn: 0.0735802\ttotal: 875ms\tremaining: 213ms\n",
      "804:\tlearn: 0.0734804\ttotal: 876ms\tremaining: 212ms\n",
      "805:\tlearn: 0.0734614\ttotal: 877ms\tremaining: 211ms\n",
      "806:\tlearn: 0.0734136\ttotal: 878ms\tremaining: 210ms\n",
      "807:\tlearn: 0.0733573\ttotal: 879ms\tremaining: 209ms\n",
      "808:\tlearn: 0.0732356\ttotal: 880ms\tremaining: 208ms\n",
      "809:\tlearn: 0.0730643\ttotal: 881ms\tremaining: 207ms\n",
      "810:\tlearn: 0.0728770\ttotal: 882ms\tremaining: 206ms\n",
      "811:\tlearn: 0.0727813\ttotal: 883ms\tremaining: 204ms\n",
      "812:\tlearn: 0.0727300\ttotal: 884ms\tremaining: 203ms\n",
      "813:\tlearn: 0.0726967\ttotal: 885ms\tremaining: 202ms\n",
      "814:\tlearn: 0.0725835\ttotal: 886ms\tremaining: 201ms\n",
      "815:\tlearn: 0.0725027\ttotal: 887ms\tremaining: 200ms\n",
      "816:\tlearn: 0.0724072\ttotal: 888ms\tremaining: 199ms\n",
      "817:\tlearn: 0.0722116\ttotal: 889ms\tremaining: 198ms\n",
      "818:\tlearn: 0.0721064\ttotal: 890ms\tremaining: 197ms\n",
      "819:\tlearn: 0.0719840\ttotal: 891ms\tremaining: 196ms\n",
      "820:\tlearn: 0.0718896\ttotal: 892ms\tremaining: 194ms\n",
      "821:\tlearn: 0.0717669\ttotal: 893ms\tremaining: 193ms\n",
      "822:\tlearn: 0.0717058\ttotal: 894ms\tremaining: 192ms\n",
      "823:\tlearn: 0.0715957\ttotal: 895ms\tremaining: 191ms\n",
      "824:\tlearn: 0.0714935\ttotal: 896ms\tremaining: 190ms\n",
      "825:\tlearn: 0.0714478\ttotal: 897ms\tremaining: 189ms\n",
      "826:\tlearn: 0.0713838\ttotal: 898ms\tremaining: 188ms\n",
      "827:\tlearn: 0.0713612\ttotal: 899ms\tremaining: 187ms\n",
      "828:\tlearn: 0.0713449\ttotal: 900ms\tremaining: 186ms\n",
      "829:\tlearn: 0.0712347\ttotal: 901ms\tremaining: 184ms\n",
      "830:\tlearn: 0.0711950\ttotal: 902ms\tremaining: 183ms\n",
      "831:\tlearn: 0.0710438\ttotal: 903ms\tremaining: 182ms\n",
      "832:\tlearn: 0.0709557\ttotal: 904ms\tremaining: 181ms\n",
      "833:\tlearn: 0.0708387\ttotal: 905ms\tremaining: 180ms\n",
      "834:\tlearn: 0.0707412\ttotal: 906ms\tremaining: 179ms\n",
      "835:\tlearn: 0.0706707\ttotal: 907ms\tremaining: 178ms\n",
      "836:\tlearn: 0.0705756\ttotal: 908ms\tremaining: 177ms\n",
      "837:\tlearn: 0.0704811\ttotal: 909ms\tremaining: 176ms\n",
      "838:\tlearn: 0.0704393\ttotal: 910ms\tremaining: 175ms\n",
      "839:\tlearn: 0.0704285\ttotal: 911ms\tremaining: 174ms\n",
      "840:\tlearn: 0.0702709\ttotal: 912ms\tremaining: 172ms\n",
      "841:\tlearn: 0.0701385\ttotal: 913ms\tremaining: 171ms\n",
      "842:\tlearn: 0.0700348\ttotal: 914ms\tremaining: 170ms\n",
      "843:\tlearn: 0.0699507\ttotal: 915ms\tremaining: 169ms\n",
      "844:\tlearn: 0.0699204\ttotal: 916ms\tremaining: 168ms\n",
      "845:\tlearn: 0.0698417\ttotal: 917ms\tremaining: 167ms\n",
      "846:\tlearn: 0.0697262\ttotal: 918ms\tremaining: 166ms\n",
      "847:\tlearn: 0.0696073\ttotal: 919ms\tremaining: 165ms\n",
      "848:\tlearn: 0.0694917\ttotal: 920ms\tremaining: 164ms\n",
      "849:\tlearn: 0.0694152\ttotal: 922ms\tremaining: 163ms\n",
      "850:\tlearn: 0.0693591\ttotal: 923ms\tremaining: 162ms\n",
      "851:\tlearn: 0.0692624\ttotal: 924ms\tremaining: 160ms\n",
      "852:\tlearn: 0.0691717\ttotal: 925ms\tremaining: 159ms\n",
      "853:\tlearn: 0.0690536\ttotal: 926ms\tremaining: 158ms\n",
      "854:\tlearn: 0.0689533\ttotal: 927ms\tremaining: 157ms\n",
      "855:\tlearn: 0.0688500\ttotal: 928ms\tremaining: 156ms\n",
      "856:\tlearn: 0.0688043\ttotal: 929ms\tremaining: 155ms\n",
      "857:\tlearn: 0.0686570\ttotal: 930ms\tremaining: 154ms\n",
      "858:\tlearn: 0.0685910\ttotal: 931ms\tremaining: 153ms\n",
      "859:\tlearn: 0.0684937\ttotal: 932ms\tremaining: 152ms\n",
      "860:\tlearn: 0.0683455\ttotal: 933ms\tremaining: 151ms\n",
      "861:\tlearn: 0.0682729\ttotal: 934ms\tremaining: 150ms\n",
      "862:\tlearn: 0.0681990\ttotal: 935ms\tremaining: 148ms\n"
     ]
    },
    {
     "name": "stdout",
     "output_type": "stream",
     "text": [
      "863:\tlearn: 0.0680464\ttotal: 936ms\tremaining: 147ms\n",
      "864:\tlearn: 0.0679629\ttotal: 937ms\tremaining: 146ms\n",
      "865:\tlearn: 0.0678292\ttotal: 938ms\tremaining: 145ms\n",
      "866:\tlearn: 0.0677323\ttotal: 940ms\tremaining: 144ms\n",
      "867:\tlearn: 0.0676971\ttotal: 941ms\tremaining: 143ms\n",
      "868:\tlearn: 0.0676577\ttotal: 942ms\tremaining: 142ms\n",
      "869:\tlearn: 0.0675790\ttotal: 943ms\tremaining: 141ms\n",
      "870:\tlearn: 0.0675072\ttotal: 944ms\tremaining: 140ms\n",
      "871:\tlearn: 0.0674224\ttotal: 945ms\tremaining: 139ms\n",
      "872:\tlearn: 0.0673925\ttotal: 945ms\tremaining: 138ms\n",
      "873:\tlearn: 0.0673549\ttotal: 946ms\tremaining: 136ms\n",
      "874:\tlearn: 0.0672154\ttotal: 947ms\tremaining: 135ms\n",
      "875:\tlearn: 0.0670984\ttotal: 948ms\tremaining: 134ms\n",
      "876:\tlearn: 0.0669745\ttotal: 950ms\tremaining: 133ms\n",
      "877:\tlearn: 0.0669005\ttotal: 951ms\tremaining: 132ms\n",
      "878:\tlearn: 0.0667642\ttotal: 952ms\tremaining: 131ms\n",
      "879:\tlearn: 0.0667516\ttotal: 952ms\tremaining: 130ms\n",
      "880:\tlearn: 0.0666232\ttotal: 954ms\tremaining: 129ms\n",
      "881:\tlearn: 0.0665126\ttotal: 955ms\tremaining: 128ms\n",
      "882:\tlearn: 0.0664260\ttotal: 956ms\tremaining: 127ms\n",
      "883:\tlearn: 0.0663480\ttotal: 957ms\tremaining: 126ms\n",
      "884:\tlearn: 0.0662818\ttotal: 957ms\tremaining: 124ms\n",
      "885:\tlearn: 0.0662010\ttotal: 959ms\tremaining: 123ms\n",
      "886:\tlearn: 0.0660879\ttotal: 960ms\tremaining: 122ms\n",
      "887:\tlearn: 0.0659929\ttotal: 961ms\tremaining: 121ms\n",
      "888:\tlearn: 0.0659635\ttotal: 961ms\tremaining: 120ms\n",
      "889:\tlearn: 0.0658569\ttotal: 962ms\tremaining: 119ms\n",
      "890:\tlearn: 0.0658326\ttotal: 963ms\tremaining: 118ms\n",
      "891:\tlearn: 0.0657433\ttotal: 964ms\tremaining: 117ms\n",
      "892:\tlearn: 0.0656471\ttotal: 965ms\tremaining: 116ms\n",
      "893:\tlearn: 0.0655606\ttotal: 966ms\tremaining: 115ms\n",
      "894:\tlearn: 0.0654711\ttotal: 967ms\tremaining: 113ms\n",
      "895:\tlearn: 0.0653964\ttotal: 968ms\tremaining: 112ms\n",
      "896:\tlearn: 0.0652805\ttotal: 969ms\tremaining: 111ms\n",
      "897:\tlearn: 0.0651743\ttotal: 970ms\tremaining: 110ms\n",
      "898:\tlearn: 0.0650678\ttotal: 971ms\tremaining: 109ms\n",
      "899:\tlearn: 0.0649959\ttotal: 972ms\tremaining: 108ms\n",
      "900:\tlearn: 0.0649077\ttotal: 973ms\tremaining: 107ms\n",
      "901:\tlearn: 0.0648315\ttotal: 974ms\tremaining: 106ms\n",
      "902:\tlearn: 0.0648088\ttotal: 975ms\tremaining: 105ms\n",
      "903:\tlearn: 0.0646588\ttotal: 976ms\tremaining: 104ms\n",
      "904:\tlearn: 0.0646112\ttotal: 977ms\tremaining: 103ms\n",
      "905:\tlearn: 0.0644439\ttotal: 978ms\tremaining: 101ms\n",
      "906:\tlearn: 0.0643156\ttotal: 979ms\tremaining: 100ms\n",
      "907:\tlearn: 0.0642266\ttotal: 980ms\tremaining: 99.3ms\n",
      "908:\tlearn: 0.0641305\ttotal: 981ms\tremaining: 98.2ms\n",
      "909:\tlearn: 0.0640645\ttotal: 982ms\tremaining: 97.1ms\n",
      "910:\tlearn: 0.0640059\ttotal: 983ms\tremaining: 96.1ms\n",
      "911:\tlearn: 0.0639153\ttotal: 985ms\tremaining: 95ms\n",
      "912:\tlearn: 0.0637946\ttotal: 986ms\tremaining: 93.9ms\n",
      "913:\tlearn: 0.0637343\ttotal: 987ms\tremaining: 92.8ms\n",
      "914:\tlearn: 0.0636439\ttotal: 988ms\tremaining: 91.8ms\n",
      "915:\tlearn: 0.0634742\ttotal: 989ms\tremaining: 90.7ms\n",
      "916:\tlearn: 0.0633145\ttotal: 990ms\tremaining: 89.6ms\n",
      "917:\tlearn: 0.0632171\ttotal: 991ms\tremaining: 88.5ms\n",
      "918:\tlearn: 0.0632067\ttotal: 992ms\tremaining: 87.4ms\n",
      "919:\tlearn: 0.0630430\ttotal: 993ms\tremaining: 86.4ms\n",
      "920:\tlearn: 0.0630164\ttotal: 994ms\tremaining: 85.3ms\n",
      "921:\tlearn: 0.0629565\ttotal: 995ms\tremaining: 84.2ms\n",
      "922:\tlearn: 0.0629046\ttotal: 996ms\tremaining: 83.1ms\n",
      "923:\tlearn: 0.0628167\ttotal: 997ms\tremaining: 82ms\n",
      "924:\tlearn: 0.0627655\ttotal: 998ms\tremaining: 80.9ms\n",
      "925:\tlearn: 0.0626734\ttotal: 999ms\tremaining: 79.8ms\n",
      "926:\tlearn: 0.0626153\ttotal: 1s\tremaining: 78.8ms\n",
      "927:\tlearn: 0.0625842\ttotal: 1s\tremaining: 77.7ms\n",
      "928:\tlearn: 0.0624867\ttotal: 1s\tremaining: 76.6ms\n",
      "929:\tlearn: 0.0624434\ttotal: 1s\tremaining: 75.5ms\n",
      "930:\tlearn: 0.0623479\ttotal: 1s\tremaining: 74.4ms\n",
      "931:\tlearn: 0.0623160\ttotal: 1s\tremaining: 73.4ms\n",
      "932:\tlearn: 0.0622786\ttotal: 1.01s\tremaining: 72.3ms\n",
      "933:\tlearn: 0.0621837\ttotal: 1.01s\tremaining: 71.2ms\n",
      "934:\tlearn: 0.0621744\ttotal: 1.01s\tremaining: 70.1ms\n",
      "935:\tlearn: 0.0620315\ttotal: 1.01s\tremaining: 69ms\n",
      "936:\tlearn: 0.0619400\ttotal: 1.01s\tremaining: 67.9ms\n",
      "937:\tlearn: 0.0618929\ttotal: 1.01s\tremaining: 66.8ms\n",
      "938:\tlearn: 0.0618845\ttotal: 1.01s\tremaining: 65.8ms\n",
      "939:\tlearn: 0.0618259\ttotal: 1.01s\tremaining: 64.7ms\n",
      "940:\tlearn: 0.0616755\ttotal: 1.01s\tremaining: 63.6ms\n",
      "941:\tlearn: 0.0614826\ttotal: 1.01s\tremaining: 62.5ms\n",
      "942:\tlearn: 0.0614616\ttotal: 1.02s\tremaining: 61.4ms\n",
      "943:\tlearn: 0.0613538\ttotal: 1.02s\tremaining: 60.3ms\n",
      "944:\tlearn: 0.0613166\ttotal: 1.02s\tremaining: 59.3ms\n",
      "945:\tlearn: 0.0612267\ttotal: 1.02s\tremaining: 58.2ms\n",
      "946:\tlearn: 0.0611487\ttotal: 1.02s\tremaining: 57.1ms\n",
      "947:\tlearn: 0.0610542\ttotal: 1.02s\tremaining: 56ms\n",
      "948:\tlearn: 0.0609615\ttotal: 1.02s\tremaining: 54.9ms\n",
      "949:\tlearn: 0.0608277\ttotal: 1.02s\tremaining: 53.9ms\n",
      "950:\tlearn: 0.0606904\ttotal: 1.02s\tremaining: 52.8ms\n",
      "951:\tlearn: 0.0606408\ttotal: 1.02s\tremaining: 51.7ms\n",
      "952:\tlearn: 0.0605878\ttotal: 1.03s\tremaining: 50.6ms\n",
      "953:\tlearn: 0.0605023\ttotal: 1.03s\tremaining: 49.5ms\n",
      "954:\tlearn: 0.0603914\ttotal: 1.03s\tremaining: 48.5ms\n",
      "955:\tlearn: 0.0603154\ttotal: 1.03s\tremaining: 47.4ms\n",
      "956:\tlearn: 0.0602770\ttotal: 1.03s\tremaining: 46.3ms\n",
      "957:\tlearn: 0.0601287\ttotal: 1.03s\tremaining: 45.2ms\n",
      "958:\tlearn: 0.0600852\ttotal: 1.03s\tremaining: 44.1ms\n",
      "959:\tlearn: 0.0600806\ttotal: 1.03s\tremaining: 43ms\n",
      "960:\tlearn: 0.0599191\ttotal: 1.03s\tremaining: 42ms\n",
      "961:\tlearn: 0.0598895\ttotal: 1.03s\tremaining: 40.9ms\n",
      "962:\tlearn: 0.0598024\ttotal: 1.03s\tremaining: 39.8ms\n",
      "963:\tlearn: 0.0597514\ttotal: 1.04s\tremaining: 38.7ms\n",
      "964:\tlearn: 0.0596793\ttotal: 1.04s\tremaining: 37.6ms\n",
      "965:\tlearn: 0.0596150\ttotal: 1.04s\tremaining: 36.6ms\n",
      "966:\tlearn: 0.0595493\ttotal: 1.04s\tremaining: 35.5ms\n",
      "967:\tlearn: 0.0595121\ttotal: 1.04s\tremaining: 34.4ms\n",
      "968:\tlearn: 0.0594268\ttotal: 1.04s\tremaining: 33.3ms\n",
      "969:\tlearn: 0.0593462\ttotal: 1.04s\tremaining: 32.3ms\n",
      "970:\tlearn: 0.0592026\ttotal: 1.04s\tremaining: 31.2ms\n",
      "971:\tlearn: 0.0590912\ttotal: 1.04s\tremaining: 30.1ms\n",
      "972:\tlearn: 0.0589920\ttotal: 1.04s\tremaining: 29ms\n",
      "973:\tlearn: 0.0588692\ttotal: 1.05s\tremaining: 27.9ms\n",
      "974:\tlearn: 0.0587517\ttotal: 1.05s\tremaining: 26.9ms\n",
      "975:\tlearn: 0.0587213\ttotal: 1.05s\tremaining: 25.8ms\n",
      "976:\tlearn: 0.0586920\ttotal: 1.05s\tremaining: 24.7ms\n",
      "977:\tlearn: 0.0586798\ttotal: 1.05s\tremaining: 23.6ms\n",
      "978:\tlearn: 0.0586334\ttotal: 1.05s\tremaining: 22.6ms\n",
      "979:\tlearn: 0.0585767\ttotal: 1.05s\tremaining: 21.5ms\n",
      "980:\tlearn: 0.0585263\ttotal: 1.05s\tremaining: 20.4ms\n",
      "981:\tlearn: 0.0585126\ttotal: 1.05s\tremaining: 19.3ms\n",
      "982:\tlearn: 0.0584334\ttotal: 1.05s\tremaining: 18.3ms\n",
      "983:\tlearn: 0.0583275\ttotal: 1.06s\tremaining: 17.2ms\n",
      "984:\tlearn: 0.0582825\ttotal: 1.06s\tremaining: 16.1ms\n",
      "985:\tlearn: 0.0582232\ttotal: 1.06s\tremaining: 15ms\n",
      "986:\tlearn: 0.0581951\ttotal: 1.06s\tremaining: 14ms\n",
      "987:\tlearn: 0.0581520\ttotal: 1.06s\tremaining: 12.9ms\n",
      "988:\tlearn: 0.0580874\ttotal: 1.06s\tremaining: 11.8ms\n",
      "989:\tlearn: 0.0579989\ttotal: 1.06s\tremaining: 10.7ms\n",
      "990:\tlearn: 0.0579466\ttotal: 1.06s\tremaining: 9.67ms\n",
      "991:\tlearn: 0.0579396\ttotal: 1.06s\tremaining: 8.59ms\n",
      "992:\tlearn: 0.0578433\ttotal: 1.07s\tremaining: 7.52ms\n",
      "993:\tlearn: 0.0577646\ttotal: 1.07s\tremaining: 6.45ms\n",
      "994:\tlearn: 0.0577105\ttotal: 1.07s\tremaining: 5.37ms\n"
     ]
    },
    {
     "name": "stdout",
     "output_type": "stream",
     "text": [
      "995:\tlearn: 0.0576778\ttotal: 1.07s\tremaining: 4.3ms\n",
      "996:\tlearn: 0.0576415\ttotal: 1.07s\tremaining: 3.22ms\n",
      "997:\tlearn: 0.0575262\ttotal: 1.07s\tremaining: 2.15ms\n",
      "998:\tlearn: 0.0574460\ttotal: 1.07s\tremaining: 1.07ms\n",
      "999:\tlearn: 0.0574038\ttotal: 1.07s\tremaining: 0us\n"
     ]
    },
    {
     "data": {
      "text/plain": [
       "<catboost.core.CatBoostRegressor at 0x7f52e53a6fd0>"
      ]
     },
     "execution_count": 9,
     "metadata": {},
     "output_type": "execute_result"
    }
   ],
   "source": [
    "#Train the Model \n",
    "prior_model = ctb.CatBoostRegressor()\n",
    "prior_model.fit(X_train,Y_train)"
   ]
  },
  {
   "cell_type": "code",
   "execution_count": 10,
   "id": "c775fd81",
   "metadata": {
    "execution": {
     "iopub.execute_input": "2022-01-14T12:33:45.410955Z",
     "iopub.status.busy": "2022-01-14T12:33:45.409818Z",
     "iopub.status.idle": "2022-01-14T12:33:45.424701Z",
     "shell.execute_reply": "2022-01-14T12:33:45.425139Z"
    },
    "papermill": {
     "duration": 0.049431,
     "end_time": "2022-01-14T12:33:45.425295",
     "exception": false,
     "start_time": "2022-01-14T12:33:45.375864",
     "status": "completed"
    },
    "tags": []
   },
   "outputs": [
    {
     "data": {
      "application/scrapbook.scrap.json+json": {
       "data": 0.11223298536269673,
       "encoder": "json",
       "name": "Prior Model MSE",
       "version": 1
      }
     },
     "metadata": {
      "scrapbook": {
       "data": true,
       "display": false,
       "name": "Prior Model MSE"
      }
     },
     "output_type": "display_data"
    },
    {
     "data": {
      "application/scrapbook.scrap.json+json": {
       "data": 0.977618099777891,
       "encoder": "json",
       "name": "ABC Pre-generator MSE",
       "version": 1
      }
     },
     "metadata": {
      "scrapbook": {
       "data": true,
       "display": false,
       "name": "ABC Pre-generator MSE"
      }
     },
     "output_type": "display_data"
    }
   ],
   "source": [
    "y_pred = prior_model.predict(X_test)\n",
    "y_abc = y_pred + np.random.normal(0,variance, y_pred.shape)\n",
    "mse = mean_squared_error(y_pred,Y_test)\n",
    "sb.glue(\"Prior Model MSE\",mse)\n",
    "mse = mean_squared_error(y_abc,Y_test)\n",
    "sb.glue(\"ABC Pre-generator MSE\",mse)"
   ]
  },
  {
   "cell_type": "markdown",
   "id": "0cd0def6",
   "metadata": {
    "papermill": {
     "duration": 0.029062,
     "end_time": "2022-01-14T12:33:45.484429",
     "exception": false,
     "start_time": "2022-01-14T12:33:45.455367",
     "status": "completed"
    },
    "tags": []
   },
   "source": [
    "# ABC GAN Model"
   ]
  },
  {
   "cell_type": "markdown",
   "id": "70beaf4c",
   "metadata": {
    "papermill": {
     "duration": 0.049229,
     "end_time": "2022-01-14T12:33:45.562525",
     "exception": false,
     "start_time": "2022-01-14T12:33:45.513296",
     "status": "completed"
    },
    "tags": []
   },
   "source": [
    "### Training the network\n",
    "**Training ABC-GAN for n_epochs number of epochs** "
   ]
  },
  {
   "cell_type": "code",
   "execution_count": 11,
   "id": "dbaaafa1",
   "metadata": {
    "execution": {
     "iopub.execute_input": "2022-01-14T12:33:45.629543Z",
     "iopub.status.busy": "2022-01-14T12:33:45.628619Z",
     "iopub.status.idle": "2022-01-14T12:33:48.619874Z",
     "shell.execute_reply": "2022-01-14T12:33:48.620318Z"
    },
    "papermill": {
     "duration": 3.02773,
     "end_time": "2022-01-14T12:33:48.620524",
     "exception": false,
     "start_time": "2022-01-14T12:33:45.592794",
     "status": "completed"
    },
    "tags": []
   },
   "outputs": [],
   "source": [
    "gen = network.Generator(n_features+1).to(device)\n",
    "disc = network.Discriminator(n_features+1).to(device)\n",
    "\n",
    "criterion = torch.nn.BCELoss()\n",
    "gen_opt = torch.optim.Adam(gen.parameters(), lr=0.001, betas=(0.5, 0.999))\n",
    "disc_opt = torch.optim.Adam(disc.parameters(), lr=0.01, betas=(0.5, 0.999))"
   ]
  },
  {
   "cell_type": "code",
   "execution_count": 12,
   "id": "6e9eeab8",
   "metadata": {
    "execution": {
     "iopub.execute_input": "2022-01-14T12:33:48.688082Z",
     "iopub.status.busy": "2022-01-14T12:33:48.686995Z",
     "iopub.status.idle": "2022-01-14T12:39:27.615578Z",
     "shell.execute_reply": "2022-01-14T12:39:27.616060Z"
    },
    "papermill": {
     "duration": 338.963301,
     "end_time": "2022-01-14T12:39:27.616241",
     "exception": false,
     "start_time": "2022-01-14T12:33:48.652940",
     "status": "completed"
    },
    "tags": []
   },
   "outputs": [
    {
     "data": {
      "image/png": "[encoded data removed]",
      "text/plain": [
       "<Figure size 432x288 with 1 Axes>"
      ]
     },
     "metadata": {
      "needs_background": "light"
     },
     "output_type": "display_data"
    },
    {
     "data": {
      "image/png": "[encoded data removed]",
      "text/plain": [
       "<Figure size 432x288 with 1 Axes>"
      ]
     },
     "metadata": {
      "needs_background": "light"
     },
     "output_type": "display_data"
    }
   ],
   "source": [
    "#Training the ABC_GAN \n",
    "ABC_train_test2.training_GAN(disc,gen,disc_opt,gen_opt,train_data,batch_size,n_epochs,criterion,prior_model,variance,device)"
   ]
  },
  {
   "cell_type": "code",
   "execution_count": 13,
   "id": "11c3082e",
   "metadata": {
    "execution": {
     "iopub.execute_input": "2022-01-14T12:39:27.684955Z",
     "iopub.status.busy": "2022-01-14T12:39:27.684268Z",
     "iopub.status.idle": "2022-01-14T12:39:28.077065Z",
     "shell.execute_reply": "2022-01-14T12:39:28.076470Z"
    },
    "papermill": {
     "duration": 0.429298,
     "end_time": "2022-01-14T12:39:28.077199",
     "exception": false,
     "start_time": "2022-01-14T12:39:27.647901",
     "status": "completed"
    },
    "tags": []
   },
   "outputs": [
    {
     "data": {
      "application/scrapbook.scrap.json+json": {
       "data": 0.4689639242070021,
       "encoder": "json",
       "name": "ABC-GAN Model 1 MSE",
       "version": 1
      }
     },
     "metadata": {
      "scrapbook": {
       "data": true,
       "display": false,
       "name": "ABC-GAN Model 1 MSE"
      }
     },
     "output_type": "display_data"
    },
    {
     "data": {
      "application/scrapbook.scrap.json+json": {
       "data": 0.45771743596020137,
       "encoder": "json",
       "name": "ABC-GAN Model 1 MAE",
       "version": 1
      }
     },
     "metadata": {
      "scrapbook": {
       "data": true,
       "display": false,
       "name": "ABC-GAN Model 1 MAE"
      }
     },
     "output_type": "display_data"
    },
    {
     "data": {
      "application/scrapbook.scrap.json+json": {
       "data": 46.68717846794054,
       "encoder": "json",
       "name": "ABC-GAN Model 1 Manhattan Distance",
       "version": 1
      }
     },
     "metadata": {
      "scrapbook": {
       "data": true,
       "display": false,
       "name": "ABC-GAN Model 1 Manhattan Distance"
      }
     },
     "output_type": "display_data"
    },
    {
     "data": {
      "application/scrapbook.scrap.json+json": {
       "data": 6.916038814260396,
       "encoder": "json",
       "name": "ABC-GAN Model 1 Euclidean distance",
       "version": 1
      }
     },
     "metadata": {
      "scrapbook": {
       "data": true,
       "display": false,
       "name": "ABC-GAN Model 1 Euclidean distance"
      }
     },
     "output_type": "display_data"
    },
    {
     "data": {
      "application/scrapbook.scrap.json+json": {
       "data": [
        [
         0.4714871752428376,
         0.47101105090349765,
         0.47368249260217604,
         0.4635656223176542,
         0.47270218117126434,
         0.45939533280146266,
         0.4566297949742619,
         0.4728093397968699,
         0.4548360044218429,
         0.47648160335887824,
         0.46005219632585187,
         0.476400850445204,
         0.4725311452732363,
         0.4713772059297515,
         0.47245357387277986,
         0.46716762747412993,
         0.46344306572707833,
         0.479033000392195,
         0.4653004458979207,
         0.4783780026068541,
         0.4839820338125041,
         0.47756180423460826,
         0.46676861581853046,
         0.46202572867948866,
         0.4632481739668344,
         0.4698554347515011,
         0.4728425344433326,
         0.4758315223887674,
         0.46777617371735697,
         0.45862801145942944,
         0.46144201539838053,
         0.46610217550976074,
         0.47034039702758546,
         0.4623495102980475,
         0.46660769967563065,
         0.47086004685998567,
         0.4777390582538059,
         0.47594607582771514,
         0.4691102893715817,
         0.46814662982168453,
         0.4798770063845902,
         0.47611647281459396,
         0.47018049681192403,
         0.46449673744841674,
         0.47393623404486546,
         0.4536081143867881,
         0.4612471145309149,
         0.47939882064505257,
         0.4641579879708392,
         0.4709408461794183,
         0.46330745063140594,
         0.46551769180611163,
         0.46389828658830773,
         0.4655986378596219,
         0.47354707052487566,
         0.4743211136110331,
         0.4649054470001851,
         0.45418645818161635,
         0.47085535595247546,
         0.4525672960441492,
         0.47698954039338,
         0.46959851804635516,
         0.4691504044336707,
         0.4601895077213912,
         0.4781501469750806,
         0.47125205474605836,
         0.4707212169119792,
         0.4574699555708528,
         0.47247134863181567,
         0.4737422082172249,
         0.4737541482030831,
         0.4769387043842486,
         0.4771933353278052,
         0.4745170182351672,
         0.47145255271112274,
         0.47101409055378485,
         0.473065557349532,
         0.4519014115839599,
         0.47485134302036325,
         0.47645440388827287,
         0.44934197215400856,
         0.4624025224851776,
         0.4715110791615174,
         0.4659654679535884,
         0.46718643703797375,
         0.4706349545994214,
         0.47768599315242694,
         0.4657236370228221,
         0.4698861119708079,
         0.4743802823983679,
         0.4692379031610897,
         0.4792123536768632,
         0.4734531028739399,
         0.460264908890151,
         0.4707730723979116,
         0.4708476041354121,
         0.4702424078362345,
         0.45835238923164967,
         0.4663615156394652,
         0.47348495574677
        ],
        [
         0.46134218100604474,
         0.45660180987461524,
         0.4582483116719945,
         0.4556942158287354,
         0.45855661278919263,
         0.455049805817943,
         0.45761802195407014,
         0.45981310485113486,
         0.45461007479724347,
         0.45499860152017835,
         0.45421035659006415,
         0.46037845709817665,
         0.46120641590552586,
         0.4582512516930115,
         0.4563345379725683,
         0.4601403764613411,
         0.45507703376386094,
         0.45356388906856965,
         0.45526838140087383,
         0.4599248623000641,
         0.4621630340230231,
         0.45802021236615437,
         0.45580997265071843,
         0.4541460155673763,
         0.4560631745330551,
         0.45886578964179053,
         0.4577510491853543,
         0.45891394026066157,
         0.4576654434386714,
         0.45397353849793765,
         0.4569606212899089,
         0.4581558857953139,
         0.45622091928460434,
         0.4562525842156188,
         0.45925206145016,
         0.4587315196974897,
         0.4613679492590474,
         0.45910858211344946,
         0.4581014040090582,
         0.45756297618808117,
         0.4595472242902307,
         0.45484510847531695,
         0.45573934096404733,
         0.455332762926963,
         0.4615150421090862,
         0.4550328864442075,
         0.4552634351649413,
         0.4600572234165727,
         0.4579626643738034,
         0.4613574752218875,
         0.45759899810175686,
         0.45748780342731993,
         0.4587884734695156,
         0.45831646162140016,
         0.45936223767770856,
         0.4608162212203823,
         0.45563628035140974,
         0.45684031179795664,
         0.45663705217998984,
         0.4519828743684818,
         0.4583169864855853,
         0.4591741214743724,
         0.45960498073448736,
         0.4561546004797314,
         0.45951612353982296,
         0.4593295622434394,
         0.4589365747592905,
         0.45522318362240116,
         0.4567710743194409,
         0.4546825286621849,
         0.4605494199101539,
         0.45727306836302956,
         0.4597528553293908,
         0.462229315648038,
         0.45786395700027543,
         0.45763682170460623,
         0.46036477764958844,
         0.45366762534660454,
         0.45651694849206537,
         0.4586756018483463,
         0.4541167605156992,
         0.455227313106697,
         0.45824929649996404,
         0.4586394314343731,
         0.45991136497069224,
         0.4630117876016918,
         0.4672443236534794,
         0.456122407160115,
         0.45791840792505767,
         0.45706933786106463,
         0.45907590247909813,
         0.45459191948540656,
         0.4622758585484881,
         0.4512612859115881,
         0.4562766246826333,
         0.4584652093586092,
         0.45711592659719436,
         0.4553167834220564,
         0.45798464519355225,
         0.45753402856415976
        ],
        [
         47.05690246261656,
         46.573384607210755,
         46.74132779054344,
         46.480810014531016,
         46.77277450449765,
         46.415080193430185,
         46.67703823931515,
         46.900936694815755,
         46.37022762931883,
         46.40985735505819,
         46.32945637218654,
         46.95860262401402,
         47.04305442236364,
         46.74162767268717,
         46.546122873201966,
         46.93431839905679,
         46.41785744391382,
         46.2635166849941,
         46.43737490288913,
         46.91233595460653,
         47.14062947034836,
         46.71806166134775,
         46.49261721037328,
         46.322893587872386,
         46.51844380237162,
         46.804310543462634,
         46.69060701690614,
         46.80922190658748,
         46.68187523074448,
         46.30530092678964,
         46.609983371570706,
         46.73190035112202,
         46.53453376702964,
         46.53776358999312,
         46.84371026791632,
         46.79061500914395,
         47.059530824422836,
         46.82907537557185,
         46.726343208923936,
         46.67142357118428,
         46.87381687760353,
         46.39420106448233,
         46.48541277833283,
         46.44394181855023,
         47.074534295126796,
         46.413354417309165,
         46.43687038682401,
         46.925836788490415,
         46.712191766127944,
         47.05846247263253,
         46.6750978063792,
         46.66375594958663,
         46.796424293890595,
         46.74827908538282,
         46.85494824312627,
         47.00325456447899,
         46.47490059584379,
         46.597711803391576,
         46.576979322358966,
         46.10225318558514,
         46.7483326215297,
         46.835760390385985,
         46.87970803491771,
         46.5277692489326,
         46.87064460106194,
         46.85161534883082,
         46.81153062544763,
         46.432764729484916,
         46.590649580582976,
         46.37761792354286,
         46.9760408308357,
         46.64185297302902,
         46.894791243597865,
         47.14739019609988,
         46.702123614028096,
         46.678955813869834,
         46.95720732025802,
         46.27409778535366,
         46.56472874619067,
         46.78491138853133,
         46.31990957260132,
         46.43318593688309,
         46.741428242996335,
         46.78122200630605,
         46.91095922701061,
         47.22720233537257,
         47.6589210126549,
         46.52448553033173,
         46.70767760835588,
         46.62107246182859,
         46.82574205286801,
         46.36837578751147,
         47.15213757194579,
         46.02865116298199,
         46.5402157176286,
         46.76345135457814,
         46.62582451291382,
         46.44231190904975,
         46.71443380974233,
         46.6684709135443
        ],
        [
         6.934817364197087,
         6.931314968471477,
         6.9509434068637,
         6.876313945450769,
         6.943747005721691,
         6.845314013670167,
         6.824678680155916,
         6.944534013112812,
         6.8112607093715,
         6.971450605333554,
         6.850206130127537,
         6.970859828271603,
         6.942490678270308,
         6.934008581248991,
         6.941920810195369,
         6.902977473696494,
         6.8754049120151475,
         6.990090560214787,
         6.889168707586417,
         6.985310033627648,
         7.02610613703461,
         6.979348395941416,
         6.900028899467747,
         6.864883416730968,
         6.873959102629071,
         6.922806825605717,
         6.944777787173606,
         6.96669328187012,
         6.907472020874958,
         6.839594810283852,
         6.860545573832653,
         6.89510129744267,
         6.926378599009275,
         6.867288405943124,
         6.898839421737132,
         6.9302038050636385,
         6.9806435191813225,
         6.967531825146327,
         6.917315195645008,
         6.910206671425378,
         6.996245754061831,
         6.968778962421507,
         6.925201128834906,
         6.883216342651052,
         6.952804892457163,
         6.802060545706159,
         6.859096564574179,
         6.992759091073805,
         6.880705979260093,
         6.930798389096356,
         6.874398880222429,
         6.89077677509752,
         6.878780795461314,
         6.8913758467871595,
         6.949949725971932,
         6.955627476247229,
         6.886243939479553,
         6.806395428898094,
         6.930169284162725,
         6.794252291201971,
         6.975165454677383,
         6.920913873234388,
         6.917610949759634,
         6.851228341515256,
         6.983646253316261,
         6.933088026564927,
         6.929182067533069,
         6.830954213594684,
         6.942051394252654,
         6.951381534497794,
         6.951469133695013,
         6.974793749437566,
         6.976655373704232,
         6.957063738387556,
         6.9345627386688555,
         6.93133733391227,
         6.946415395702466,
         6.78925209294543,
         6.959514134483602,
         6.971251623389005,
         6.7699986085455635,
         6.867682090304422,
         6.934993156051041,
         6.894090058250328,
         6.903116439541877,
         6.928547132634731,
         6.980255819205163,
         6.892300847781374,
         6.9230328195829305,
         6.956061299660428,
         6.918256002955598,
         6.991399006997101,
         6.949260139981944,
         6.851789598841707,
         6.929563722528783,
         6.930112237317086,
         6.925657051810745,
         6.8375393016514545,
         6.897019254375431,
         6.949493901441351
        ]
       ],
       "encoder": "json",
       "name": "ABC_GAN_1 Metrics",
       "version": 1
      }
     },
     "metadata": {
      "scrapbook": {
       "data": true,
       "display": false,
       "name": "ABC_GAN_1 Metrics"
      }
     },
     "output_type": "display_data"
    }
   ],
   "source": [
    "ABC_GAN1_metrics=ABC_train_test2.test_generator(gen,test_data,prior_model,variance,\"1\",device)\n",
    "sb.glue(\"ABC_GAN_1 Metrics\",ABC_GAN1_metrics)"
   ]
  },
  {
   "cell_type": "markdown",
   "id": "394a2b9d",
   "metadata": {
    "papermill": {
     "duration": 0.039328,
     "end_time": "2022-01-14T12:39:28.154293",
     "exception": false,
     "start_time": "2022-01-14T12:39:28.114965",
     "status": "completed"
    },
    "tags": []
   },
   "source": [
    "#### Sanity Checks "
   ]
  },
  {
   "cell_type": "code",
   "execution_count": 14,
   "id": "a36b3b22",
   "metadata": {
    "execution": {
     "iopub.execute_input": "2022-01-14T12:39:28.228094Z",
     "iopub.status.busy": "2022-01-14T12:39:28.227460Z",
     "iopub.status.idle": "2022-01-14T12:39:28.975235Z",
     "shell.execute_reply": "2022-01-14T12:39:28.974720Z"
    },
    "papermill": {
     "duration": 0.787267,
     "end_time": "2022-01-14T12:39:28.975401",
     "exception": false,
     "start_time": "2022-01-14T12:39:28.188134",
     "status": "completed"
    },
    "tags": []
   },
   "outputs": [
    {
     "data": {
      "image/png": "[encoded data removed]",
      "text/plain": [
       "<Figure size 432x288 with 1 Axes>"
      ]
     },
     "metadata": {
      "needs_background": "light"
     },
     "output_type": "display_data"
    },
    {
     "data": {
      "image/png": "[encoded data removed]",
      "text/plain": [
       "<Figure size 432x288 with 1 Axes>"
      ]
     },
     "metadata": {
      "needs_background": "light"
     },
     "output_type": "display_data"
    },
    {
     "data": {
      "image/png": "[encoded data removed]",
      "text/plain": [
       "<Figure size 432x288 with 1 Axes>"
      ]
     },
     "metadata": {
      "needs_background": "light"
     },
     "output_type": "display_data"
    },
    {
     "data": {
      "image/png": "[encoded data removed]",
      "text/plain": [
       "<Figure size 432x288 with 1 Axes>"
      ]
     },
     "metadata": {
      "needs_background": "light"
     },
     "output_type": "display_data"
    }
   ],
   "source": [
    "sanityChecks.discProbVsError(train_data,disc,device)\n",
    "sanityChecks.discProbVsError(test_data,disc,device)"
   ]
  },
  {
   "cell_type": "markdown",
   "id": "130f3a4d",
   "metadata": {
    "papermill": {
     "duration": 0.039291,
     "end_time": "2022-01-14T12:39:29.059598",
     "exception": false,
     "start_time": "2022-01-14T12:39:29.020307",
     "status": "completed"
    },
    "tags": []
   },
   "source": [
    "# ABC - GAN Model with skip connection"
   ]
  },
  {
   "cell_type": "code",
   "execution_count": 15,
   "id": "4e43dad1",
   "metadata": {
    "execution": {
     "iopub.execute_input": "2022-01-14T12:39:29.149097Z",
     "iopub.status.busy": "2022-01-14T12:39:29.148357Z",
     "iopub.status.idle": "2022-01-14T12:39:29.154165Z",
     "shell.execute_reply": "2022-01-14T12:39:29.153451Z"
    },
    "papermill": {
     "duration": 0.054277,
     "end_time": "2022-01-14T12:39:29.154335",
     "exception": false,
     "start_time": "2022-01-14T12:39:29.100058",
     "status": "completed"
    },
    "tags": []
   },
   "outputs": [],
   "source": [
    "#Generator\n",
    "gen3 = network.GeneratorWithSkipConnection(n_features+1).to(device)\n",
    "constraints=network.weightConstraint()\n",
    "#Discriminator \n",
    "disc3 = network.Discriminator(n_features+1).to(device)\n",
    "\n",
    "criterion = torch.nn.BCELoss()\n",
    "gen_opt = torch.optim.Adam(gen3.parameters(), lr=0.01, betas=(0.5, 0.999))\n",
    "disc_opt = torch.optim.Adam(disc3.parameters(), lr=0.01, betas=(0.5, 0.999))\n"
   ]
  },
  {
   "cell_type": "code",
   "execution_count": 16,
   "id": "26acbc37",
   "metadata": {
    "execution": {
     "iopub.execute_input": "2022-01-14T12:39:29.265909Z",
     "iopub.status.busy": "2022-01-14T12:39:29.265159Z",
     "iopub.status.idle": "2022-01-14T13:16:52.479415Z",
     "shell.execute_reply": "2022-01-14T13:16:52.478902Z"
    },
    "papermill": {
     "duration": 2243.26197,
     "end_time": "2022-01-14T13:16:52.479564",
     "exception": false,
     "start_time": "2022-01-14T12:39:29.217594",
     "status": "completed"
    },
    "tags": []
   },
   "outputs": [
    {
     "data": {
      "image/png": "[encoded data removed]",
      "text/plain": [
       "<Figure size 432x288 with 1 Axes>"
      ]
     },
     "metadata": {
      "needs_background": "light"
     },
     "output_type": "display_data"
    },
    {
     "data": {
      "image/png": "[encoded data removed]",
      "text/plain": [
       "<Figure size 432x288 with 1 Axes>"
      ]
     },
     "metadata": {
      "needs_background": "light"
     },
     "output_type": "display_data"
    }
   ],
   "source": [
    "ABC_train_test2.training_GAN_skip_connection(disc3,gen3,disc_opt,gen_opt,train_data,batch_size,n_epochs,criterion,prior_model,variance,device)\n"
   ]
  },
  {
   "cell_type": "code",
   "execution_count": 17,
   "id": "c5e0717b",
   "metadata": {
    "execution": {
     "iopub.execute_input": "2022-01-14T13:16:52.570024Z",
     "iopub.status.busy": "2022-01-14T13:16:52.568907Z",
     "iopub.status.idle": "2022-01-14T13:16:54.510755Z",
     "shell.execute_reply": "2022-01-14T13:16:54.510136Z"
    },
    "papermill": {
     "duration": 1.988013,
     "end_time": "2022-01-14T13:16:54.510913",
     "exception": false,
     "start_time": "2022-01-14T13:16:52.522900",
     "status": "completed"
    },
    "tags": []
   },
   "outputs": [
    {
     "data": {
      "application/scrapbook.scrap.json+json": {
       "data": 0.15830220719099727,
       "encoder": "json",
       "name": "ABC-GAN Model 3 MSE",
       "version": 1
      }
     },
     "metadata": {
      "scrapbook": {
       "data": true,
       "display": false,
       "name": "ABC-GAN Model 3 MSE"
      }
     },
     "output_type": "display_data"
    },
    {
     "data": {
      "application/scrapbook.scrap.json+json": {
       "data": 0.2593019451020176,
       "encoder": "json",
       "name": "ABC-GAN Model 3 MAE",
       "version": 1
      }
     },
     "metadata": {
      "scrapbook": {
       "data": true,
       "display": false,
       "name": "ABC-GAN Model 3 MAE"
      }
     },
     "output_type": "display_data"
    },
    {
     "data": {
      "application/scrapbook.scrap.json+json": {
       "data": 26.448798400405796,
       "encoder": "json",
       "name": "ABC-GAN Model 3 Manhattan Distance",
       "version": 1
      }
     },
     "metadata": {
      "scrapbook": {
       "data": true,
       "display": false,
       "name": "ABC-GAN Model 3 Manhattan Distance"
      }
     },
     "output_type": "display_data"
    },
    {
     "data": {
      "application/scrapbook.scrap.json+json": {
       "data": 4.014770257775689,
       "encoder": "json",
       "name": "ABC-GAN Model 3 Euclidean distance",
       "version": 1
      }
     },
     "metadata": {
      "scrapbook": {
       "data": true,
       "display": false,
       "name": "ABC-GAN Model 3 Euclidean distance"
      }
     },
     "output_type": "display_data"
    },
    {
     "data": {
      "application/scrapbook.scrap.json+json": {
       "data": [
        [
         0.17211986384019476,
         0.16733335129536142,
         0.1514887702487685,
         0.17372478065660432,
         0.13741245573077246,
         0.13702768162823006,
         0.14865618468525504,
         0.1391852112510153,
         0.15656038529403699,
         0.14072712237958798,
         0.1594665725832526,
         0.16807209491065453,
         0.1388140432311274,
         0.1718427074234572,
         0.16305827344611648,
         0.17300376728362918,
         0.17302806246590352,
         0.13635852042315896,
         0.1721060948925656,
         0.17300034207536458,
         0.17441418545315848,
         0.1571835113097969,
         0.16074098331283396,
         0.17405990311749686,
         0.16320029799729113,
         0.158294801802027,
         0.14931596835606736,
         0.15127035239959863,
         0.16725786830247033,
         0.14621168584850902,
         0.1703255729755876,
         0.13809095899248333,
         0.14367791195034266,
         0.14185607651911222,
         0.13911524557078764,
         0.13699647413714713,
         0.13778837936634747,
         0.17007933684419435,
         0.1700166891286154,
         0.13507577300704637,
         0.17583457113529224,
         0.17227631196071375,
         0.16829099215022264,
         0.1507554986154347,
         0.1725456183960783,
         0.16218631285216467,
         0.1722247673265052,
         0.14448557921511643,
         0.15487001568738967,
         0.1725472529210767,
         0.15090910085933404,
         0.16971660608995645,
         0.14554499445141236,
         0.1503529033971749,
         0.17173165082200806,
         0.16501750597707862,
         0.17199776858035412,
         0.16145020950324526,
         0.1450092591640297,
         0.13701184088752988,
         0.14645383078685764,
         0.1739633066115342,
         0.1737775062009863,
         0.1681832043143133,
         0.13680822426953881,
         0.1587307557346661,
         0.16950505196344903,
         0.13925444128413958,
         0.15916927239909148,
         0.15450628039423317,
         0.16480078302465956,
         0.16409628608462248,
         0.15678779305726698,
         0.1719009901667861,
         0.15410570667014953,
         0.16444876764806998,
         0.13971894682542088,
         0.13998307805335883,
         0.15094598541381032,
         0.16744254853230794,
         0.17351393590058997,
         0.1744042507317426,
         0.1749573581176012,
         0.1701809887529624,
         0.14654785316703414,
         0.13695146749473142,
         0.17114409220713636,
         0.16946365094818328,
         0.17453101604186827,
         0.1492357607266583,
         0.15666743960372337,
         0.16689089016941822,
         0.13703958255280488,
         0.15610890338105296,
         0.15823578147926212,
         0.1505771575487854,
         0.1714347587917096,
         0.14604774376609522,
         0.16314975420196529,
         0.17583855195305176
        ],
        [
         0.26522657575597075,
         0.2632794852971154,
         0.2584944812252241,
         0.262451148299756,
         0.2549149764464328,
         0.2540319457595401,
         0.2581459105690466,
         0.2540093186384469,
         0.25978961609778745,
         0.2549962678047664,
         0.2630235648659222,
         0.2644282622701105,
         0.2553222082445727,
         0.26014309612048025,
         0.2590940417356643,
         0.25984870855166925,
         0.2643371529274565,
         0.2534120411648616,
         0.26101412501770493,
         0.2642716552934372,
         0.26542249724597616,
         0.25363517554440335,
         0.2599877150473641,
         0.2649396099241487,
         0.2586818846654804,
         0.26232035568568346,
         0.25962997716395003,
         0.2631354568087879,
         0.2637732476909079,
         0.25419277150877845,
         0.25756257693009343,
         0.2562738133265692,
         0.2573766369993488,
         0.25392152698637516,
         0.25086632496951256,
         0.25264865926046876,
         0.2545103900609355,
         0.2576541191551323,
         0.25802098472109614,
         0.2512501283256593,
         0.2661363178060627,
         0.26220010754232315,
         0.2625814943081316,
         0.2568651624115221,
         0.26282930908286395,
         0.2634869987765948,
         0.2623574906302726,
         0.25667893903001265,
         0.26039164684092003,
         0.26031267549842596,
         0.2602252104940514,
         0.2589782243503221,
         0.2535801638721251,
         0.25836789775091934,
         0.26083522824132266,
         0.2614187862103184,
         0.26141761921747936,
         0.25944988408545944,
         0.25340338236670573,
         0.25343411364683915,
         0.25528704208851444,
         0.2675960836201614,
         0.2646496892705852,
         0.2621649764660819,
         0.2537839374066714,
         0.2597571311281154,
         0.26387028711135774,
         0.25781225896093485,
         0.2592765859090814,
         0.25537446734732855,
         0.2600302393182966,
         0.2597488389240907,
         0.25545231319562184,
         0.26090973827476593,
         0.25828418026075645,
         0.2588157683117863,
         0.2567864820890713,
         0.25683104226767434,
         0.25844604319290204,
         0.2642473912268293,
         0.2632127797285862,
         0.2610183887950638,
         0.26408580246874513,
         0.25820360619428695,
         0.2597350874988764,
         0.25412078297642227,
         0.26133721430475515,
         0.25869210546507554,
         0.26244448632111445,
         0.2616330294084607,
         0.2625128205445613,
         0.2621282510842909,
         0.25282218825875546,
         0.25733943028813777,
         0.2615947841173586,
         0.25619887201772895,
         0.26006146396199864,
         0.25545606873564275,
         0.26238073735479633,
         0.2651030280371653
        ],
        [
         27.053110727109015,
         26.854507500305772,
         26.36643708497286,
         26.770017126575112,
         26.001327597536147,
         25.91125846747309,
         26.330882878042758,
         25.90895050112158,
         26.498540841974318,
         26.009619316086173,
         26.828403616324067,
         26.97168275155127,
         26.042865240946412,
         26.534595804288983,
         26.42759225703776,
         26.504568272270262,
         26.962389598600566,
         25.848028198815882,
         26.6234407518059,
         26.955708839930594,
         27.073094719089568,
         25.87078790552914,
         26.518746934831142,
         27.023840212263167,
         26.385552235879004,
         26.75667627993971,
         26.482257670722902,
         26.83981659449637,
         26.904871264472604,
         25.9276626938954,
         26.27138284686953,
         26.139928959310055,
         26.252416973933578,
         25.899995752610266,
         25.588365146890283,
         25.77016324456781,
         25.960059786215425,
         26.280720153823495,
         26.318140441551805,
         25.627513089217246,
         27.1459044162184,
         26.74441096931696,
         26.78331241942942,
         26.20024656597525,
         26.808589526452124,
         26.87567387521267,
         26.7604640442878,
         26.18125178106129,
         26.559947977773845,
         26.551892900839448,
         26.54297147039324,
         26.415778883732855,
         25.86517671495676,
         26.353525570593774,
         26.605193280614913,
         26.664716193452477,
         26.664597160182893,
         26.463888176716864,
         25.847145001403987,
         25.850279591977596,
         26.039278293028474,
         27.294800529256463,
         26.99426830559969,
         26.740827599540353,
         25.885961615480483,
         26.49522737506777,
         26.91476928535849,
         26.296850414015353,
         26.446211762726307,
         26.048195669427514,
         26.523084410466254,
         26.494381570257246,
         26.05613594595343,
         26.612793304026127,
         26.344986386597157,
         26.399208367802203,
         26.192221173085272,
         26.19676631130278,
         26.361496405676007,
         26.953233905136585,
         26.84770353231579,
         26.623875657096505,
         26.936751851812005,
         26.33676783181727,
         26.492978924885392,
         25.92031986359507,
         26.656395859085023,
         26.386594757437706,
         26.769337604753673,
         26.686568999662995,
         26.776307695545256,
         26.73708161059767,
         25.787863202393055,
         26.24862188939005,
         26.682667979970574,
         26.13228494580835,
         26.52626932412386,
         26.05651901103556,
         26.762835210189223,
         27.04050885979086
        ],
        [
         4.190015049101836,
         4.131343828843935,
         3.9308847051744453,
         4.209504439595431,
         3.743804279678465,
         3.738559017332676,
         3.893960816173683,
         3.7678762649009006,
         3.9961430529939457,
         3.788689282947069,
         4.033062162115998,
         4.140453318283732,
         3.762848975121775,
         4.186640199156434,
         4.078228033288952,
         4.200759962546083,
         4.201054911748019,
         3.7294194029583494,
         4.189847452955977,
         4.20071837805002,
         4.217848612293021,
         4.004087680558367,
         4.0491456256732805,
         4.213562639618009,
         4.080003724964439,
         4.018217239498973,
         3.9025925706277453,
         3.928049890818478,
         4.1304119124915335,
         3.861812004299007,
         4.168118093757654,
         3.7530358134759783,
         3.8282041506344657,
         3.8038559127481997,
         3.766929127050353,
         3.7381332723685774,
         3.7489218043815526,
         4.165104123321268,
         4.164336956961909,
         3.7118363173392663,
         4.234988341872952,
         4.191918870874388,
         4.143148705914705,
         3.9213595676467023,
         4.195194045142606,
         4.067309173264407,
         4.191291718230018,
         3.8389489551102227,
         3.9745114920092695,
         4.1952139156364625,
         3.9233567627290884,
         4.160660262647691,
         3.852997460944408,
         3.916120037296078,
         4.185287132783703,
         4.102655921432118,
         4.188528667109266,
         4.058068674792359,
         3.84589969119464,
         3.7383429177281267,
         3.8650085045520237,
         4.212393295310456,
         4.210143184322904,
         4.141821681345053,
         3.735564063898912,
         4.023746647707326,
         4.158066293395501,
         3.768813209882155,
         4.029300905207667,
         3.969841382248386,
         4.099960959389159,
         4.091188235785723,
         3.9990442472972503,
         4.18735011636383,
         3.9646919275468617,
         4.095579849069376,
         3.775093717537742,
         3.7786603395175122,
         3.923836198442623,
         4.132691610838559,
         4.206949186983388,
         4.217728485172764,
         4.22441126406927,
         4.166348623531421,
         3.8662489603021535,
         3.7375191885076124,
         4.1781212769769995,
         4.157558465820378,
         4.219261029643765,
         3.901544257613791,
         3.997509079361769,
         4.1258781849784,
         3.7387213616938735,
         3.990376942704461,
         4.0174680721674365,
         3.9190394320517,
         4.1816677769467026,
         3.8596463392572264,
         4.0793718791745945,
         4.23503628074321
        ]
       ],
       "encoder": "json",
       "name": "ABC_GAN_3 Metrics",
       "version": 1
      }
     },
     "metadata": {
      "scrapbook": {
       "data": true,
       "display": false,
       "name": "ABC_GAN_3 Metrics"
      }
     },
     "output_type": "display_data"
    }
   ],
   "source": [
    "ABC_GAN3_metrics=ABC_train_test2.test_generator(gen3,test_data,prior_model,variance,\"3\",device)\n",
    "sb.glue(\"ABC_GAN_3 Metrics\",ABC_GAN3_metrics)"
   ]
  },
  {
   "cell_type": "code",
   "execution_count": 18,
   "id": "c8e46b48",
   "metadata": {
    "execution": {
     "iopub.execute_input": "2022-01-14T13:16:54.607328Z",
     "iopub.status.busy": "2022-01-14T13:16:54.606264Z",
     "iopub.status.idle": "2022-01-14T13:16:55.439529Z",
     "shell.execute_reply": "2022-01-14T13:16:55.440012Z"
    },
    "papermill": {
     "duration": 0.882963,
     "end_time": "2022-01-14T13:16:55.440302",
     "exception": false,
     "start_time": "2022-01-14T13:16:54.557339",
     "status": "completed"
    },
    "tags": []
   },
   "outputs": [
    {
     "data": {
      "image/png": "[encoded data removed]",
      "text/plain": [
       "<Figure size 432x288 with 1 Axes>"
      ]
     },
     "metadata": {
      "needs_background": "light"
     },
     "output_type": "display_data"
    },
    {
     "data": {
      "image/png": "[encoded data removed]",
      "text/plain": [
       "<Figure size 432x288 with 1 Axes>"
      ]
     },
     "metadata": {
      "needs_background": "light"
     },
     "output_type": "display_data"
    },
    {
     "data": {
      "image/png": "[encoded data removed]",
      "text/plain": [
       "<Figure size 432x288 with 1 Axes>"
      ]
     },
     "metadata": {
      "needs_background": "light"
     },
     "output_type": "display_data"
    },
    {
     "data": {
      "image/png": "[encoded data removed]",
      "text/plain": [
       "<Figure size 432x288 with 1 Axes>"
      ]
     },
     "metadata": {
      "needs_background": "light"
     },
     "output_type": "display_data"
    }
   ],
   "source": [
    "sanityChecks.discProbVsError(train_data,disc,device)\n",
    "sanityChecks.discProbVsError(test_data,disc3,device)"
   ]
  },
  {
   "cell_type": "markdown",
   "id": "a5bd74c3",
   "metadata": {
    "papermill": {
     "duration": 0.053288,
     "end_time": "2022-01-14T13:16:55.546661",
     "exception": false,
     "start_time": "2022-01-14T13:16:55.493373",
     "status": "completed"
    },
    "tags": []
   },
   "source": [
    "## Skip Connection Model Analysis - ABC-GAN "
   ]
  },
  {
   "cell_type": "markdown",
   "id": "5744a8bf",
   "metadata": {
    "papermill": {
     "duration": 0.048173,
     "end_time": "2022-01-14T13:16:55.643479",
     "exception": false,
     "start_time": "2022-01-14T13:16:55.595306",
     "status": "completed"
    },
    "tags": []
   },
   "source": [
    "### Weight Analysis \n",
    "\n",
    "Study the weights of the skip connection layer\n",
    "\n",
    "Equation of the skip connection is \n",
    "\n",
    "$output = y_{gan} * w + y_{abc} * (1-w)$"
   ]
  },
  {
   "cell_type": "code",
   "execution_count": 19,
   "id": "52c31dea",
   "metadata": {
    "execution": {
     "iopub.execute_input": "2022-01-14T13:16:55.750058Z",
     "iopub.status.busy": "2022-01-14T13:16:55.748990Z",
     "iopub.status.idle": "2022-01-14T13:16:55.758752Z",
     "shell.execute_reply": "2022-01-14T13:16:55.759185Z"
    },
    "papermill": {
     "duration": 0.06447,
     "end_time": "2022-01-14T13:16:55.759346",
     "exception": false,
     "start_time": "2022-01-14T13:16:55.694876",
     "status": "completed"
    },
    "tags": []
   },
   "outputs": [
    {
     "name": "stdout",
     "output_type": "stream",
     "text": [
      "Weight of the node at skip connection\n",
      "Parameter containing:\n",
      "tensor([[1.]], device='cuda:0', requires_grad=True)\n"
     ]
    },
    {
     "data": {
      "application/scrapbook.scrap.json+json": {
       "data": 1.0,
       "encoder": "json",
       "name": "Skip Connection Weight",
       "version": 1
      }
     },
     "metadata": {
      "scrapbook": {
       "data": true,
       "display": false,
       "name": "Skip Connection Weight"
      }
     },
     "output_type": "display_data"
    }
   ],
   "source": [
    "print(\"Weight of the node at skip connection\")\n",
    "for name,param in gen3.named_parameters():\n",
    "    if(name == \"skipNode.weight\"):\n",
    "        print(param)\n",
    "        sb.glue(\"Skip Connection Weight\",param.item())"
   ]
  }
 ],
 "metadata": {
  "interpreter": {
   "hash": "10498c76ddd8160350534c6544a2b2fb65f2138dbc70420f7c81a3268f830f23"
  },
  "kernelspec": {
   "display_name": "papermill-tutorial",
   "language": "python",
   "name": "python3"
  },
  "language_info": {
   "codemirror_mode": {
    "name": "ipython",
    "version": 3
   },
   "file_extension": ".py",
   "mimetype": "text/x-python",
   "name": "python",
   "nbconvert_exporter": "python",
   "pygments_lexer": "ipython3",
   "version": "3.7.12"
  },
  "papermill": {
   "default_parameters": {},
   "duration": 2597.300593,
   "end_time": "2022-01-14T13:16:56.524511",
   "environment_variables": {},
   "exception": null,
   "input_path": "ABC_GAN_Model-Catboost_Pre-gen.ipynb",
   "output_path": "./ABC_GAN_Output/ABC-GAN_output_4_0.ipynb",
   "parameters": {
    "variance": 1
   },
   "start_time": "2022-01-14T12:33:39.223918",
   "version": "2.3.3"
  }
 },
 "nbformat": 4,
 "nbformat_minor": 5
}