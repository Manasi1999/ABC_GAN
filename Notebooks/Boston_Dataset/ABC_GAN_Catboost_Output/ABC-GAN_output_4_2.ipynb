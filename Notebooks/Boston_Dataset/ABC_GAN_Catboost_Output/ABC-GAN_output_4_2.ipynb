{
 "cells": [
  {
   "cell_type": "markdown",
   "id": "622780e6",
   "metadata": {
    "papermill": {
     "duration": 0.026534,
     "end_time": "2022-01-14T13:58:14.988449",
     "exception": false,
     "start_time": "2022-01-14T13:58:14.961915",
     "status": "completed"
    },
    "tags": []
   },
   "source": [
    "## Import Libraries "
   ]
  },
  {
   "cell_type": "code",
   "execution_count": 1,
   "id": "a62397e3",
   "metadata": {
    "execution": {
     "iopub.execute_input": "2022-01-14T13:58:15.044699Z",
     "iopub.status.busy": "2022-01-14T13:58:15.044099Z",
     "iopub.status.idle": "2022-01-14T13:58:15.047446Z",
     "shell.execute_reply": "2022-01-14T13:58:15.046828Z"
    },
    "papermill": {
     "duration": 0.034667,
     "end_time": "2022-01-14T13:58:15.047595",
     "exception": false,
     "start_time": "2022-01-14T13:58:15.012928",
     "status": "completed"
    },
    "tags": []
   },
   "outputs": [],
   "source": [
    "import warnings\n",
    "import sys\n",
    "sys.path.insert(0, '../../src')\n",
    "warnings.filterwarnings('ignore')"
   ]
  },
  {
   "cell_type": "code",
   "execution_count": 2,
   "id": "d6a4e155",
   "metadata": {
    "execution": {
     "iopub.execute_input": "2022-01-14T13:58:15.101138Z",
     "iopub.status.busy": "2022-01-14T13:58:15.100470Z",
     "iopub.status.idle": "2022-01-14T13:58:16.746311Z",
     "shell.execute_reply": "2022-01-14T13:58:16.745796Z"
    },
    "papermill": {
     "duration": 1.675357,
     "end_time": "2022-01-14T13:58:16.746511",
     "exception": false,
     "start_time": "2022-01-14T13:58:15.071154",
     "status": "completed"
    },
    "tags": []
   },
   "outputs": [],
   "source": [
    "import ABC_train_test2\n",
    "import bostonDataset\n",
    "import network\n",
    "import dataset\n",
    "import sanityChecks\n",
    "import performanceMetrics\n",
    "import torch \n",
    "from torch.utils.data import random_split \n",
    "import scrapbook as sb\n",
    "from statistics import mean \n",
    "import catboost as ctb \n",
    "from sklearn.model_selection import train_test_split\n",
    "from sklearn.metrics import mean_squared_error\n",
    "import numpy as np"
   ]
  },
  {
   "cell_type": "markdown",
   "id": "2fa5b0f7",
   "metadata": {
    "papermill": {
     "duration": 0.023834,
     "end_time": "2022-01-14T13:58:16.793746",
     "exception": false,
     "start_time": "2022-01-14T13:58:16.769912",
     "status": "completed"
    },
    "tags": []
   },
   "source": [
    "## Parameters "
   ]
  },
  {
   "cell_type": "code",
   "execution_count": 3,
   "id": "783186fb",
   "metadata": {
    "execution": {
     "iopub.execute_input": "2022-01-14T13:58:16.845228Z",
     "iopub.status.busy": "2022-01-14T13:58:16.844621Z",
     "iopub.status.idle": "2022-01-14T13:58:16.847534Z",
     "shell.execute_reply": "2022-01-14T13:58:16.846958Z"
    },
    "papermill": {
     "duration": 0.029878,
     "end_time": "2022-01-14T13:58:16.847706",
     "exception": false,
     "start_time": "2022-01-14T13:58:16.817828",
     "status": "completed"
    },
    "tags": [
     "parameters"
    ]
   },
   "outputs": [],
   "source": [
    "variance = 1"
   ]
  },
  {
   "cell_type": "code",
   "execution_count": 4,
   "id": "a80ef2fd",
   "metadata": {
    "execution": {
     "iopub.execute_input": "2022-01-14T13:58:16.900760Z",
     "iopub.status.busy": "2022-01-14T13:58:16.900188Z",
     "iopub.status.idle": "2022-01-14T13:58:16.902962Z",
     "shell.execute_reply": "2022-01-14T13:58:16.902344Z"
    },
    "papermill": {
     "duration": 0.031032,
     "end_time": "2022-01-14T13:58:16.903089",
     "exception": false,
     "start_time": "2022-01-14T13:58:16.872057",
     "status": "completed"
    },
    "tags": [
     "injected-parameters"
    ]
   },
   "outputs": [],
   "source": [
    "# Parameters\n",
    "variance = 0.01\n"
   ]
  },
  {
   "cell_type": "markdown",
   "id": "391cdbfd",
   "metadata": {
    "papermill": {
     "duration": 0.024001,
     "end_time": "2022-01-14T13:58:16.951084",
     "exception": false,
     "start_time": "2022-01-14T13:58:16.927083",
     "status": "completed"
    },
    "tags": []
   },
   "source": [
    "## Dataset - Boston Housing "
   ]
  },
  {
   "cell_type": "code",
   "execution_count": 5,
   "id": "5b51f161",
   "metadata": {
    "execution": {
     "iopub.execute_input": "2022-01-14T13:58:17.022165Z",
     "iopub.status.busy": "2022-01-14T13:58:17.021602Z",
     "iopub.status.idle": "2022-01-14T13:58:17.023835Z",
     "shell.execute_reply": "2022-01-14T13:58:17.024315Z"
    },
    "papermill": {
     "duration": 0.049171,
     "end_time": "2022-01-14T13:58:17.024505",
     "exception": false,
     "start_time": "2022-01-14T13:58:16.975334",
     "status": "completed"
    },
    "tags": []
   },
   "outputs": [],
   "source": [
    "#Parameters \n",
    "n_features = 13\n",
    "n_samples= 506\n",
    "n_target = 1 "
   ]
  },
  {
   "cell_type": "code",
   "execution_count": 6,
   "id": "5d6eced4",
   "metadata": {
    "execution": {
     "iopub.execute_input": "2022-01-14T13:58:17.076999Z",
     "iopub.status.busy": "2022-01-14T13:58:17.076363Z",
     "iopub.status.idle": "2022-01-14T13:58:17.110694Z",
     "shell.execute_reply": "2022-01-14T13:58:17.110183Z"
    },
    "papermill": {
     "duration": 0.062301,
     "end_time": "2022-01-14T13:58:17.110824",
     "exception": false,
     "start_time": "2022-01-14T13:58:17.048523",
     "status": "completed"
    },
    "tags": []
   },
   "outputs": [
    {
     "name": "stdout",
     "output_type": "stream",
     "text": [
      "         X1        X2        X3        X4        X5        X6        X7        X8        X9       X10       X11       X12       X13         Y\n",
      "0 -0.419782  0.284830 -1.287909 -0.272599 -0.144217  0.413672 -0.120013  0.140214 -0.982843 -0.666608 -1.459000  0.441052 -1.075562  0.159686\n",
      "1 -0.417339 -0.487722 -0.593381 -0.272599 -0.740262  0.194274  0.367166  0.557160 -0.867883 -0.987329 -0.303094  0.441052 -0.492439 -0.101524\n",
      "2 -0.417342 -0.487722 -0.593381 -0.272599 -0.740262  1.282714 -0.265812  0.557160 -0.867883 -0.987329 -0.303094  0.396427 -1.208727  1.324247\n",
      "3 -0.416750 -0.487722 -1.306878 -0.272599 -0.835284  1.016303 -0.809889  1.077737 -0.752922 -1.106115  0.113032  0.416163 -1.361517  1.182758\n",
      "4 -0.412482 -0.487722 -1.306878 -0.272599 -0.835284  1.228577 -0.511180  1.077737 -0.752922 -1.106115  0.113032  0.441052 -1.026501  1.487503\n"
     ]
    }
   ],
   "source": [
    "X,Y = bostonDataset.boston_data()"
   ]
  },
  {
   "cell_type": "code",
   "execution_count": 7,
   "id": "fe007438",
   "metadata": {
    "execution": {
     "iopub.execute_input": "2022-01-14T13:58:17.166365Z",
     "iopub.status.busy": "2022-01-14T13:58:17.165729Z",
     "iopub.status.idle": "2022-01-14T13:58:17.167848Z",
     "shell.execute_reply": "2022-01-14T13:58:17.168338Z"
    },
    "papermill": {
     "duration": 0.032655,
     "end_time": "2022-01-14T13:58:17.168518",
     "exception": false,
     "start_time": "2022-01-14T13:58:17.135863",
     "status": "completed"
    },
    "tags": []
   },
   "outputs": [],
   "source": [
    "#Train test split for dataset \n",
    "X_train,X_test,Y_train,Y_test = train_test_split(X,Y,test_size = 0.2)\n",
    "train_data = dataset.CustomDataset(X_train,Y_train)\n",
    "test_data = dataset.CustomDataset(X_test,Y_test)\n"
   ]
  },
  {
   "cell_type": "markdown",
   "id": "a9a1af34",
   "metadata": {
    "papermill": {
     "duration": 0.025422,
     "end_time": "2022-01-14T13:58:17.221147",
     "exception": false,
     "start_time": "2022-01-14T13:58:17.195725",
     "status": "completed"
    },
    "tags": []
   },
   "source": [
    "## Training Parameters \n",
    "\n"
   ]
  },
  {
   "cell_type": "code",
   "execution_count": 8,
   "id": "952b7fc8",
   "metadata": {
    "execution": {
     "iopub.execute_input": "2022-01-14T13:58:17.294947Z",
     "iopub.status.busy": "2022-01-14T13:58:17.294006Z",
     "iopub.status.idle": "2022-01-14T13:58:17.296657Z",
     "shell.execute_reply": "2022-01-14T13:58:17.297157Z"
    },
    "papermill": {
     "duration": 0.051425,
     "end_time": "2022-01-14T13:58:17.297472",
     "exception": false,
     "start_time": "2022-01-14T13:58:17.246047",
     "status": "completed"
    },
    "tags": []
   },
   "outputs": [],
   "source": [
    "batch_size = 64\n",
    "n_epochs = 5000\n",
    "#Select the device \n",
    "device = torch.device('cuda' if torch.cuda.is_available() else 'cpu')"
   ]
  },
  {
   "cell_type": "markdown",
   "id": "a95e1600",
   "metadata": {
    "papermill": {
     "duration": 0.025898,
     "end_time": "2022-01-14T13:58:17.350527",
     "exception": false,
     "start_time": "2022-01-14T13:58:17.324629",
     "status": "completed"
    },
    "tags": []
   },
   "source": [
    "# ABC Pre-generator Model \n",
    "\n",
    "1. The catboost model is used as a pre-generator model for the ABC-GAN. \n",
    "2. The model is first trained on the train dataset \n",
    "3. It generats X,Y pairs and we add some Gaussian noise with mean 0 and variance V (1,0.01,0.1) to it which is then feed as input to the generator.\n"
   ]
  },
  {
   "cell_type": "code",
   "execution_count": 9,
   "id": "ff8ce7bd",
   "metadata": {
    "execution": {
     "iopub.execute_input": "2022-01-14T13:58:17.421949Z",
     "iopub.status.busy": "2022-01-14T13:58:17.421112Z",
     "iopub.status.idle": "2022-01-14T13:58:19.141523Z",
     "shell.execute_reply": "2022-01-14T13:58:19.142018Z"
    },
    "papermill": {
     "duration": 1.764936,
     "end_time": "2022-01-14T13:58:19.142195",
     "exception": false,
     "start_time": "2022-01-14T13:58:17.377259",
     "status": "completed"
    },
    "tags": []
   },
   "outputs": [
    {
     "name": "stdout",
     "output_type": "stream",
     "text": [
      "Learning rate set to 0.03548\n",
      "0:\tlearn: 0.9907530\ttotal: 47.4ms\tremaining: 47.3s\n",
      "1:\tlearn: 0.9701703\ttotal: 48.4ms\tremaining: 24.1s\n",
      "2:\tlearn: 0.9495837\ttotal: 49.5ms\tremaining: 16.4s\n",
      "3:\tlearn: 0.9313425\ttotal: 50.5ms\tremaining: 12.6s\n",
      "4:\tlearn: 0.9141952\ttotal: 51.5ms\tremaining: 10.3s\n",
      "5:\tlearn: 0.8987960\ttotal: 52.6ms\tremaining: 8.71s\n",
      "6:\tlearn: 0.8808153\ttotal: 53.5ms\tremaining: 7.59s\n",
      "7:\tlearn: 0.8640389\ttotal: 54.6ms\tremaining: 6.77s\n",
      "8:\tlearn: 0.8468226\ttotal: 55.8ms\tremaining: 6.14s\n",
      "9:\tlearn: 0.8303062\ttotal: 56.8ms\tremaining: 5.63s\n",
      "10:\tlearn: 0.8146206\ttotal: 57.9ms\tremaining: 5.21s\n",
      "11:\tlearn: 0.7995150\ttotal: 58.9ms\tremaining: 4.85s\n",
      "12:\tlearn: 0.7832195\ttotal: 59.9ms\tremaining: 4.55s\n",
      "13:\tlearn: 0.7676118\ttotal: 61ms\tremaining: 4.29s\n",
      "14:\tlearn: 0.7531276\ttotal: 62.7ms\tremaining: 4.12s\n",
      "15:\tlearn: 0.7388956\ttotal: 63.8ms\tremaining: 3.92s\n",
      "16:\tlearn: 0.7262417\ttotal: 64.9ms\tremaining: 3.75s\n",
      "17:\tlearn: 0.7132025\ttotal: 65.9ms\tremaining: 3.6s\n",
      "18:\tlearn: 0.7004643\ttotal: 67ms\tremaining: 3.46s\n",
      "19:\tlearn: 0.6868953\ttotal: 68ms\tremaining: 3.33s\n",
      "20:\tlearn: 0.6728928\ttotal: 69ms\tremaining: 3.21s\n",
      "21:\tlearn: 0.6621133\ttotal: 70ms\tremaining: 3.11s\n",
      "22:\tlearn: 0.6514374\ttotal: 70.9ms\tremaining: 3.01s\n",
      "23:\tlearn: 0.6407819\ttotal: 72ms\tremaining: 2.93s\n",
      "24:\tlearn: 0.6314331\ttotal: 73ms\tremaining: 2.85s\n",
      "25:\tlearn: 0.6216209\ttotal: 73.8ms\tremaining: 2.77s\n",
      "26:\tlearn: 0.6127921\ttotal: 74.9ms\tremaining: 2.7s\n",
      "27:\tlearn: 0.6034691\ttotal: 76ms\tremaining: 2.64s\n",
      "28:\tlearn: 0.5940256\ttotal: 76.9ms\tremaining: 2.58s\n",
      "29:\tlearn: 0.5837321\ttotal: 78ms\tremaining: 2.52s\n",
      "30:\tlearn: 0.5736546\ttotal: 79.2ms\tremaining: 2.48s\n",
      "31:\tlearn: 0.5644689\ttotal: 80.2ms\tremaining: 2.43s\n",
      "32:\tlearn: 0.5572663\ttotal: 81.2ms\tremaining: 2.38s\n",
      "33:\tlearn: 0.5492257\ttotal: 82.3ms\tremaining: 2.34s\n",
      "34:\tlearn: 0.5413197\ttotal: 83.3ms\tremaining: 2.29s\n",
      "35:\tlearn: 0.5337099\ttotal: 84.2ms\tremaining: 2.25s\n",
      "36:\tlearn: 0.5272413\ttotal: 85.3ms\tremaining: 2.22s\n",
      "37:\tlearn: 0.5197474\ttotal: 86.3ms\tremaining: 2.18s\n",
      "38:\tlearn: 0.5122883\ttotal: 87.3ms\tremaining: 2.15s\n",
      "39:\tlearn: 0.5058313\ttotal: 88.4ms\tremaining: 2.12s\n",
      "40:\tlearn: 0.5005237\ttotal: 89.4ms\tremaining: 2.09s\n",
      "41:\tlearn: 0.4950065\ttotal: 90.4ms\tremaining: 2.06s\n",
      "42:\tlearn: 0.4898284\ttotal: 91.3ms\tremaining: 2.03s\n",
      "43:\tlearn: 0.4832462\ttotal: 92.5ms\tremaining: 2.01s\n",
      "44:\tlearn: 0.4780973\ttotal: 93.5ms\tremaining: 1.98s\n",
      "45:\tlearn: 0.4723771\ttotal: 94.7ms\tremaining: 1.96s\n",
      "46:\tlearn: 0.4671191\ttotal: 95.7ms\tremaining: 1.94s\n",
      "47:\tlearn: 0.4610622\ttotal: 96.7ms\tremaining: 1.92s\n",
      "48:\tlearn: 0.4558184\ttotal: 97.5ms\tremaining: 1.89s\n",
      "49:\tlearn: 0.4509183\ttotal: 98.5ms\tremaining: 1.87s\n",
      "50:\tlearn: 0.4458571\ttotal: 99.6ms\tremaining: 1.85s\n",
      "51:\tlearn: 0.4418532\ttotal: 101ms\tremaining: 1.84s\n",
      "52:\tlearn: 0.4366725\ttotal: 102ms\tremaining: 1.82s\n",
      "53:\tlearn: 0.4328807\ttotal: 102ms\tremaining: 1.79s\n",
      "54:\tlearn: 0.4287048\ttotal: 104ms\tremaining: 1.78s\n",
      "55:\tlearn: 0.4246544\ttotal: 105ms\tremaining: 1.76s\n",
      "56:\tlearn: 0.4214260\ttotal: 106ms\tremaining: 1.75s\n",
      "57:\tlearn: 0.4174184\ttotal: 107ms\tremaining: 1.73s\n",
      "58:\tlearn: 0.4135057\ttotal: 110ms\tremaining: 1.75s\n",
      "59:\tlearn: 0.4097275\ttotal: 111ms\tremaining: 1.74s\n",
      "60:\tlearn: 0.4056974\ttotal: 112ms\tremaining: 1.72s\n",
      "61:\tlearn: 0.4020371\ttotal: 113ms\tremaining: 1.71s\n",
      "62:\tlearn: 0.3987874\ttotal: 114ms\tremaining: 1.7s\n",
      "63:\tlearn: 0.3955859\ttotal: 115ms\tremaining: 1.68s\n",
      "64:\tlearn: 0.3917486\ttotal: 116ms\tremaining: 1.67s\n",
      "65:\tlearn: 0.3881007\ttotal: 117ms\tremaining: 1.66s\n",
      "66:\tlearn: 0.3849833\ttotal: 118ms\tremaining: 1.65s\n",
      "67:\tlearn: 0.3813144\ttotal: 119ms\tremaining: 1.64s\n",
      "68:\tlearn: 0.3784630\ttotal: 121ms\tremaining: 1.63s\n",
      "69:\tlearn: 0.3755055\ttotal: 122ms\tremaining: 1.62s\n",
      "70:\tlearn: 0.3726908\ttotal: 123ms\tremaining: 1.6s\n",
      "71:\tlearn: 0.3688510\ttotal: 124ms\tremaining: 1.6s\n",
      "72:\tlearn: 0.3662851\ttotal: 125ms\tremaining: 1.59s\n",
      "73:\tlearn: 0.3633057\ttotal: 126ms\tremaining: 1.58s\n",
      "74:\tlearn: 0.3610048\ttotal: 127ms\tremaining: 1.57s\n",
      "75:\tlearn: 0.3584888\ttotal: 128ms\tremaining: 1.56s\n",
      "76:\tlearn: 0.3551605\ttotal: 129ms\tremaining: 1.55s\n",
      "77:\tlearn: 0.3524401\ttotal: 130ms\tremaining: 1.54s\n",
      "78:\tlearn: 0.3500791\ttotal: 131ms\tremaining: 1.53s\n",
      "79:\tlearn: 0.3478148\ttotal: 132ms\tremaining: 1.52s\n",
      "80:\tlearn: 0.3455686\ttotal: 133ms\tremaining: 1.51s\n",
      "81:\tlearn: 0.3434038\ttotal: 134ms\tremaining: 1.5s\n",
      "82:\tlearn: 0.3410113\ttotal: 135ms\tremaining: 1.49s\n",
      "83:\tlearn: 0.3389747\ttotal: 136ms\tremaining: 1.49s\n",
      "84:\tlearn: 0.3369546\ttotal: 137ms\tremaining: 1.48s\n",
      "85:\tlearn: 0.3346851\ttotal: 138ms\tremaining: 1.47s\n",
      "86:\tlearn: 0.3329182\ttotal: 139ms\tremaining: 1.46s\n",
      "87:\tlearn: 0.3307940\ttotal: 140ms\tremaining: 1.45s\n",
      "88:\tlearn: 0.3284318\ttotal: 141ms\tremaining: 1.45s\n"
     ]
    },
    {
     "name": "stdout",
     "output_type": "stream",
     "text": [
      "89:\tlearn: 0.3260401\ttotal: 142ms\tremaining: 1.44s\n",
      "90:\tlearn: 0.3239784\ttotal: 144ms\tremaining: 1.44s\n",
      "91:\tlearn: 0.3220878\ttotal: 145ms\tremaining: 1.43s\n",
      "92:\tlearn: 0.3204140\ttotal: 146ms\tremaining: 1.43s\n",
      "93:\tlearn: 0.3186959\ttotal: 147ms\tremaining: 1.42s\n",
      "94:\tlearn: 0.3168241\ttotal: 148ms\tremaining: 1.41s\n",
      "95:\tlearn: 0.3163646\ttotal: 149ms\tremaining: 1.41s\n",
      "96:\tlearn: 0.3147141\ttotal: 151ms\tremaining: 1.4s\n",
      "97:\tlearn: 0.3134682\ttotal: 152ms\tremaining: 1.4s\n",
      "98:\tlearn: 0.3121789\ttotal: 153ms\tremaining: 1.39s\n",
      "99:\tlearn: 0.3101494\ttotal: 154ms\tremaining: 1.39s\n",
      "100:\tlearn: 0.3086020\ttotal: 155ms\tremaining: 1.38s\n",
      "101:\tlearn: 0.3066947\ttotal: 156ms\tremaining: 1.38s\n",
      "102:\tlearn: 0.3051753\ttotal: 157ms\tremaining: 1.37s\n",
      "103:\tlearn: 0.3037093\ttotal: 159ms\tremaining: 1.37s\n",
      "104:\tlearn: 0.3022204\ttotal: 160ms\tremaining: 1.36s\n",
      "105:\tlearn: 0.3008989\ttotal: 161ms\tremaining: 1.36s\n",
      "106:\tlearn: 0.2990413\ttotal: 162ms\tremaining: 1.35s\n",
      "107:\tlearn: 0.2969471\ttotal: 163ms\tremaining: 1.35s\n",
      "108:\tlearn: 0.2957039\ttotal: 164ms\tremaining: 1.34s\n",
      "109:\tlearn: 0.2941718\ttotal: 166ms\tremaining: 1.34s\n",
      "110:\tlearn: 0.2926342\ttotal: 167ms\tremaining: 1.33s\n",
      "111:\tlearn: 0.2918030\ttotal: 168ms\tremaining: 1.33s\n",
      "112:\tlearn: 0.2904563\ttotal: 169ms\tremaining: 1.32s\n",
      "113:\tlearn: 0.2892921\ttotal: 170ms\tremaining: 1.32s\n",
      "114:\tlearn: 0.2876488\ttotal: 171ms\tremaining: 1.31s\n",
      "115:\tlearn: 0.2866302\ttotal: 172ms\tremaining: 1.31s\n",
      "116:\tlearn: 0.2854567\ttotal: 173ms\tremaining: 1.3s\n",
      "117:\tlearn: 0.2842087\ttotal: 174ms\tremaining: 1.3s\n",
      "118:\tlearn: 0.2829555\ttotal: 175ms\tremaining: 1.29s\n",
      "119:\tlearn: 0.2820173\ttotal: 176ms\tremaining: 1.29s\n",
      "120:\tlearn: 0.2803236\ttotal: 177ms\tremaining: 1.28s\n",
      "121:\tlearn: 0.2794382\ttotal: 178ms\tremaining: 1.28s\n",
      "122:\tlearn: 0.2781499\ttotal: 179ms\tremaining: 1.27s\n",
      "123:\tlearn: 0.2772311\ttotal: 180ms\tremaining: 1.27s\n",
      "124:\tlearn: 0.2765565\ttotal: 181ms\tremaining: 1.26s\n",
      "125:\tlearn: 0.2754736\ttotal: 182ms\tremaining: 1.26s\n",
      "126:\tlearn: 0.2738090\ttotal: 183ms\tremaining: 1.25s\n",
      "127:\tlearn: 0.2727166\ttotal: 184ms\tremaining: 1.25s\n",
      "128:\tlearn: 0.2714822\ttotal: 185ms\tremaining: 1.25s\n",
      "129:\tlearn: 0.2703007\ttotal: 186ms\tremaining: 1.24s\n",
      "130:\tlearn: 0.2693103\ttotal: 187ms\tremaining: 1.24s\n",
      "131:\tlearn: 0.2680433\ttotal: 188ms\tremaining: 1.24s\n",
      "132:\tlearn: 0.2672354\ttotal: 189ms\tremaining: 1.23s\n",
      "133:\tlearn: 0.2661235\ttotal: 190ms\tremaining: 1.23s\n",
      "134:\tlearn: 0.2652960\ttotal: 191ms\tremaining: 1.23s\n",
      "135:\tlearn: 0.2645566\ttotal: 192ms\tremaining: 1.22s\n",
      "136:\tlearn: 0.2637131\ttotal: 193ms\tremaining: 1.22s\n",
      "137:\tlearn: 0.2630082\ttotal: 194ms\tremaining: 1.21s\n",
      "138:\tlearn: 0.2619401\ttotal: 195ms\tremaining: 1.21s\n",
      "139:\tlearn: 0.2607884\ttotal: 196ms\tremaining: 1.21s\n",
      "140:\tlearn: 0.2599915\ttotal: 197ms\tremaining: 1.2s\n",
      "141:\tlearn: 0.2593086\ttotal: 198ms\tremaining: 1.2s\n",
      "142:\tlearn: 0.2586505\ttotal: 199ms\tremaining: 1.19s\n",
      "143:\tlearn: 0.2579062\ttotal: 200ms\tremaining: 1.19s\n",
      "144:\tlearn: 0.2574730\ttotal: 202ms\tremaining: 1.19s\n",
      "145:\tlearn: 0.2569186\ttotal: 203ms\tremaining: 1.19s\n",
      "146:\tlearn: 0.2560576\ttotal: 204ms\tremaining: 1.18s\n",
      "147:\tlearn: 0.2552101\ttotal: 205ms\tremaining: 1.18s\n",
      "148:\tlearn: 0.2545125\ttotal: 206ms\tremaining: 1.17s\n",
      "149:\tlearn: 0.2540711\ttotal: 207ms\tremaining: 1.17s\n",
      "150:\tlearn: 0.2534438\ttotal: 208ms\tremaining: 1.17s\n",
      "151:\tlearn: 0.2526246\ttotal: 209ms\tremaining: 1.17s\n",
      "152:\tlearn: 0.2515459\ttotal: 210ms\tremaining: 1.16s\n",
      "153:\tlearn: 0.2511221\ttotal: 211ms\tremaining: 1.16s\n",
      "154:\tlearn: 0.2502533\ttotal: 212ms\tremaining: 1.16s\n",
      "155:\tlearn: 0.2493831\ttotal: 213ms\tremaining: 1.15s\n",
      "156:\tlearn: 0.2488320\ttotal: 214ms\tremaining: 1.15s\n",
      "157:\tlearn: 0.2483578\ttotal: 215ms\tremaining: 1.15s\n",
      "158:\tlearn: 0.2478683\ttotal: 216ms\tremaining: 1.14s\n",
      "159:\tlearn: 0.2473295\ttotal: 217ms\tremaining: 1.14s\n",
      "160:\tlearn: 0.2466693\ttotal: 218ms\tremaining: 1.14s\n",
      "161:\tlearn: 0.2464843\ttotal: 219ms\tremaining: 1.14s\n",
      "162:\tlearn: 0.2461576\ttotal: 220ms\tremaining: 1.13s\n",
      "163:\tlearn: 0.2453516\ttotal: 221ms\tremaining: 1.13s\n",
      "164:\tlearn: 0.2448101\ttotal: 222ms\tremaining: 1.13s\n",
      "165:\tlearn: 0.2439726\ttotal: 223ms\tremaining: 1.12s\n",
      "166:\tlearn: 0.2433742\ttotal: 225ms\tremaining: 1.12s\n",
      "167:\tlearn: 0.2430727\ttotal: 226ms\tremaining: 1.12s\n",
      "168:\tlearn: 0.2427335\ttotal: 226ms\tremaining: 1.11s\n",
      "169:\tlearn: 0.2418869\ttotal: 228ms\tremaining: 1.11s\n",
      "170:\tlearn: 0.2414965\ttotal: 229ms\tremaining: 1.11s\n",
      "171:\tlearn: 0.2410050\ttotal: 230ms\tremaining: 1.11s\n",
      "172:\tlearn: 0.2402754\ttotal: 231ms\tremaining: 1.1s\n",
      "173:\tlearn: 0.2399379\ttotal: 232ms\tremaining: 1.1s\n",
      "174:\tlearn: 0.2392986\ttotal: 233ms\tremaining: 1.1s\n",
      "175:\tlearn: 0.2384171\ttotal: 234ms\tremaining: 1.09s\n",
      "176:\tlearn: 0.2381324\ttotal: 235ms\tremaining: 1.09s\n",
      "177:\tlearn: 0.2371899\ttotal: 236ms\tremaining: 1.09s\n",
      "178:\tlearn: 0.2362371\ttotal: 237ms\tremaining: 1.09s\n",
      "179:\tlearn: 0.2358853\ttotal: 238ms\tremaining: 1.08s\n",
      "180:\tlearn: 0.2354911\ttotal: 239ms\tremaining: 1.08s\n",
      "181:\tlearn: 0.2347206\ttotal: 240ms\tremaining: 1.08s\n",
      "182:\tlearn: 0.2341799\ttotal: 241ms\tremaining: 1.08s\n",
      "183:\tlearn: 0.2332958\ttotal: 243ms\tremaining: 1.08s\n",
      "184:\tlearn: 0.2325630\ttotal: 244ms\tremaining: 1.07s\n",
      "185:\tlearn: 0.2316844\ttotal: 245ms\tremaining: 1.07s\n",
      "186:\tlearn: 0.2310944\ttotal: 246ms\tremaining: 1.07s\n",
      "187:\tlearn: 0.2307780\ttotal: 247ms\tremaining: 1.07s\n",
      "188:\tlearn: 0.2305125\ttotal: 248ms\tremaining: 1.06s\n",
      "189:\tlearn: 0.2298616\ttotal: 249ms\tremaining: 1.06s\n",
      "190:\tlearn: 0.2289018\ttotal: 250ms\tremaining: 1.06s\n",
      "191:\tlearn: 0.2283118\ttotal: 251ms\tremaining: 1.06s\n",
      "192:\tlearn: 0.2277388\ttotal: 252ms\tremaining: 1.05s\n",
      "193:\tlearn: 0.2269518\ttotal: 253ms\tremaining: 1.05s\n",
      "194:\tlearn: 0.2265095\ttotal: 254ms\tremaining: 1.05s\n",
      "195:\tlearn: 0.2259486\ttotal: 255ms\tremaining: 1.04s\n",
      "196:\tlearn: 0.2252886\ttotal: 256ms\tremaining: 1.04s\n",
      "197:\tlearn: 0.2249036\ttotal: 257ms\tremaining: 1.04s\n",
      "198:\tlearn: 0.2243291\ttotal: 258ms\tremaining: 1.04s\n",
      "199:\tlearn: 0.2240166\ttotal: 259ms\tremaining: 1.03s\n",
      "200:\tlearn: 0.2231865\ttotal: 260ms\tremaining: 1.03s\n",
      "201:\tlearn: 0.2226153\ttotal: 261ms\tremaining: 1.03s\n",
      "202:\tlearn: 0.2218386\ttotal: 262ms\tremaining: 1.03s\n",
      "203:\tlearn: 0.2212898\ttotal: 263ms\tremaining: 1.02s\n",
      "204:\tlearn: 0.2207885\ttotal: 264ms\tremaining: 1.02s\n",
      "205:\tlearn: 0.2204980\ttotal: 265ms\tremaining: 1.02s\n",
      "206:\tlearn: 0.2201423\ttotal: 266ms\tremaining: 1.02s\n",
      "207:\tlearn: 0.2195555\ttotal: 267ms\tremaining: 1.01s\n",
      "208:\tlearn: 0.2190282\ttotal: 268ms\tremaining: 1.01s\n",
      "209:\tlearn: 0.2183555\ttotal: 269ms\tremaining: 1.01s\n",
      "210:\tlearn: 0.2179370\ttotal: 270ms\tremaining: 1.01s\n",
      "211:\tlearn: 0.2171949\ttotal: 271ms\tremaining: 1.01s\n",
      "212:\tlearn: 0.2168025\ttotal: 272ms\tremaining: 1s\n",
      "213:\tlearn: 0.2165612\ttotal: 273ms\tremaining: 1s\n",
      "214:\tlearn: 0.2163703\ttotal: 274ms\tremaining: 1s\n",
      "215:\tlearn: 0.2156997\ttotal: 275ms\tremaining: 998ms\n",
      "216:\tlearn: 0.2154458\ttotal: 276ms\tremaining: 996ms\n",
      "217:\tlearn: 0.2149851\ttotal: 277ms\tremaining: 994ms\n"
     ]
    },
    {
     "name": "stdout",
     "output_type": "stream",
     "text": [
      "218:\tlearn: 0.2145543\ttotal: 279ms\tremaining: 994ms\n",
      "219:\tlearn: 0.2139439\ttotal: 280ms\tremaining: 992ms\n",
      "220:\tlearn: 0.2134119\ttotal: 281ms\tremaining: 990ms\n",
      "221:\tlearn: 0.2126717\ttotal: 282ms\tremaining: 988ms\n",
      "222:\tlearn: 0.2121619\ttotal: 283ms\tremaining: 986ms\n",
      "223:\tlearn: 0.2116602\ttotal: 284ms\tremaining: 984ms\n",
      "224:\tlearn: 0.2113098\ttotal: 285ms\tremaining: 982ms\n",
      "225:\tlearn: 0.2109686\ttotal: 287ms\tremaining: 985ms\n",
      "226:\tlearn: 0.2104037\ttotal: 289ms\tremaining: 983ms\n",
      "227:\tlearn: 0.2098081\ttotal: 290ms\tremaining: 981ms\n",
      "228:\tlearn: 0.2094220\ttotal: 291ms\tremaining: 979ms\n",
      "229:\tlearn: 0.2090637\ttotal: 292ms\tremaining: 977ms\n",
      "230:\tlearn: 0.2087137\ttotal: 293ms\tremaining: 975ms\n",
      "231:\tlearn: 0.2080651\ttotal: 294ms\tremaining: 973ms\n",
      "232:\tlearn: 0.2077810\ttotal: 295ms\tremaining: 971ms\n",
      "233:\tlearn: 0.2071449\ttotal: 296ms\tremaining: 970ms\n",
      "234:\tlearn: 0.2068309\ttotal: 297ms\tremaining: 968ms\n",
      "235:\tlearn: 0.2064328\ttotal: 298ms\tremaining: 966ms\n",
      "236:\tlearn: 0.2057762\ttotal: 299ms\tremaining: 964ms\n",
      "237:\tlearn: 0.2050457\ttotal: 301ms\tremaining: 962ms\n",
      "238:\tlearn: 0.2045146\ttotal: 302ms\tremaining: 960ms\n",
      "239:\tlearn: 0.2042501\ttotal: 303ms\tremaining: 959ms\n",
      "240:\tlearn: 0.2037382\ttotal: 304ms\tremaining: 957ms\n",
      "241:\tlearn: 0.2029889\ttotal: 305ms\tremaining: 955ms\n",
      "242:\tlearn: 0.2025771\ttotal: 306ms\tremaining: 953ms\n",
      "243:\tlearn: 0.2025068\ttotal: 307ms\tremaining: 951ms\n",
      "244:\tlearn: 0.2017125\ttotal: 308ms\tremaining: 949ms\n",
      "245:\tlearn: 0.2011899\ttotal: 309ms\tremaining: 948ms\n",
      "246:\tlearn: 0.2007367\ttotal: 311ms\tremaining: 947ms\n",
      "247:\tlearn: 0.2003522\ttotal: 312ms\tremaining: 945ms\n",
      "248:\tlearn: 0.1999173\ttotal: 313ms\tremaining: 944ms\n",
      "249:\tlearn: 0.1992608\ttotal: 314ms\tremaining: 942ms\n",
      "250:\tlearn: 0.1987722\ttotal: 315ms\tremaining: 940ms\n",
      "251:\tlearn: 0.1983826\ttotal: 316ms\tremaining: 938ms\n",
      "252:\tlearn: 0.1977536\ttotal: 317ms\tremaining: 937ms\n",
      "253:\tlearn: 0.1974326\ttotal: 318ms\tremaining: 935ms\n",
      "254:\tlearn: 0.1969121\ttotal: 319ms\tremaining: 933ms\n",
      "255:\tlearn: 0.1963988\ttotal: 320ms\tremaining: 931ms\n",
      "256:\tlearn: 0.1963478\ttotal: 322ms\tremaining: 930ms\n",
      "257:\tlearn: 0.1958656\ttotal: 323ms\tremaining: 928ms\n",
      "258:\tlearn: 0.1951945\ttotal: 324ms\tremaining: 926ms\n",
      "259:\tlearn: 0.1948967\ttotal: 325ms\tremaining: 924ms\n",
      "260:\tlearn: 0.1943318\ttotal: 326ms\tremaining: 923ms\n",
      "261:\tlearn: 0.1938969\ttotal: 327ms\tremaining: 921ms\n",
      "262:\tlearn: 0.1936156\ttotal: 328ms\tremaining: 919ms\n",
      "263:\tlearn: 0.1932580\ttotal: 329ms\tremaining: 918ms\n",
      "264:\tlearn: 0.1927948\ttotal: 330ms\tremaining: 916ms\n",
      "265:\tlearn: 0.1923986\ttotal: 332ms\tremaining: 915ms\n",
      "266:\tlearn: 0.1920861\ttotal: 333ms\tremaining: 913ms\n",
      "267:\tlearn: 0.1914922\ttotal: 334ms\tremaining: 911ms\n",
      "268:\tlearn: 0.1911651\ttotal: 335ms\tremaining: 909ms\n",
      "269:\tlearn: 0.1906760\ttotal: 336ms\tremaining: 908ms\n",
      "270:\tlearn: 0.1903534\ttotal: 337ms\tremaining: 906ms\n",
      "271:\tlearn: 0.1902062\ttotal: 338ms\tremaining: 904ms\n",
      "272:\tlearn: 0.1896091\ttotal: 339ms\tremaining: 903ms\n",
      "273:\tlearn: 0.1891164\ttotal: 340ms\tremaining: 901ms\n",
      "274:\tlearn: 0.1886967\ttotal: 341ms\tremaining: 899ms\n",
      "275:\tlearn: 0.1883635\ttotal: 342ms\tremaining: 898ms\n",
      "276:\tlearn: 0.1876772\ttotal: 343ms\tremaining: 896ms\n",
      "277:\tlearn: 0.1872246\ttotal: 344ms\tremaining: 894ms\n",
      "278:\tlearn: 0.1868798\ttotal: 346ms\tremaining: 893ms\n",
      "279:\tlearn: 0.1866573\ttotal: 347ms\tremaining: 891ms\n",
      "280:\tlearn: 0.1862456\ttotal: 348ms\tremaining: 890ms\n",
      "281:\tlearn: 0.1860675\ttotal: 349ms\tremaining: 888ms\n",
      "282:\tlearn: 0.1855200\ttotal: 350ms\tremaining: 886ms\n",
      "283:\tlearn: 0.1851565\ttotal: 351ms\tremaining: 885ms\n",
      "284:\tlearn: 0.1850352\ttotal: 352ms\tremaining: 884ms\n",
      "285:\tlearn: 0.1844849\ttotal: 353ms\tremaining: 882ms\n",
      "286:\tlearn: 0.1839320\ttotal: 354ms\tremaining: 880ms\n",
      "287:\tlearn: 0.1836566\ttotal: 355ms\tremaining: 879ms\n",
      "288:\tlearn: 0.1833287\ttotal: 356ms\tremaining: 877ms\n",
      "289:\tlearn: 0.1831232\ttotal: 358ms\tremaining: 876ms\n",
      "290:\tlearn: 0.1824726\ttotal: 359ms\tremaining: 874ms\n",
      "291:\tlearn: 0.1822606\ttotal: 360ms\tremaining: 872ms\n",
      "292:\tlearn: 0.1821395\ttotal: 361ms\tremaining: 871ms\n",
      "293:\tlearn: 0.1816478\ttotal: 362ms\tremaining: 869ms\n",
      "294:\tlearn: 0.1812354\ttotal: 363ms\tremaining: 867ms\n",
      "295:\tlearn: 0.1808519\ttotal: 364ms\tremaining: 866ms\n",
      "296:\tlearn: 0.1803535\ttotal: 365ms\tremaining: 864ms\n",
      "297:\tlearn: 0.1800466\ttotal: 366ms\tremaining: 862ms\n",
      "298:\tlearn: 0.1796170\ttotal: 367ms\tremaining: 861ms\n",
      "299:\tlearn: 0.1791459\ttotal: 368ms\tremaining: 859ms\n",
      "300:\tlearn: 0.1785533\ttotal: 369ms\tremaining: 858ms\n",
      "301:\tlearn: 0.1784113\ttotal: 371ms\tremaining: 856ms\n",
      "302:\tlearn: 0.1777147\ttotal: 372ms\tremaining: 855ms\n",
      "303:\tlearn: 0.1769874\ttotal: 373ms\tremaining: 853ms\n",
      "304:\tlearn: 0.1768747\ttotal: 374ms\tremaining: 852ms\n",
      "305:\tlearn: 0.1763265\ttotal: 375ms\tremaining: 850ms\n",
      "306:\tlearn: 0.1761444\ttotal: 376ms\tremaining: 848ms\n",
      "307:\tlearn: 0.1760302\ttotal: 377ms\tremaining: 847ms\n",
      "308:\tlearn: 0.1756284\ttotal: 378ms\tremaining: 845ms\n",
      "309:\tlearn: 0.1751323\ttotal: 379ms\tremaining: 844ms\n",
      "310:\tlearn: 0.1747612\ttotal: 380ms\tremaining: 842ms\n",
      "311:\tlearn: 0.1744304\ttotal: 381ms\tremaining: 841ms\n",
      "312:\tlearn: 0.1739630\ttotal: 382ms\tremaining: 839ms\n",
      "313:\tlearn: 0.1736406\ttotal: 383ms\tremaining: 838ms\n",
      "314:\tlearn: 0.1730123\ttotal: 385ms\tremaining: 836ms\n",
      "315:\tlearn: 0.1723476\ttotal: 386ms\tremaining: 835ms\n",
      "316:\tlearn: 0.1718006\ttotal: 387ms\tremaining: 834ms\n",
      "317:\tlearn: 0.1716770\ttotal: 388ms\tremaining: 832ms\n",
      "318:\tlearn: 0.1713479\ttotal: 389ms\tremaining: 831ms\n",
      "319:\tlearn: 0.1706549\ttotal: 390ms\tremaining: 829ms\n",
      "320:\tlearn: 0.1701148\ttotal: 391ms\tremaining: 828ms\n",
      "321:\tlearn: 0.1694717\ttotal: 392ms\tremaining: 826ms\n",
      "322:\tlearn: 0.1691067\ttotal: 393ms\tremaining: 824ms\n",
      "323:\tlearn: 0.1687598\ttotal: 395ms\tremaining: 823ms\n",
      "324:\tlearn: 0.1683410\ttotal: 396ms\tremaining: 821ms\n",
      "325:\tlearn: 0.1677811\ttotal: 397ms\tremaining: 820ms\n",
      "326:\tlearn: 0.1674742\ttotal: 398ms\tremaining: 818ms\n",
      "327:\tlearn: 0.1669363\ttotal: 399ms\tremaining: 817ms\n",
      "328:\tlearn: 0.1664403\ttotal: 400ms\tremaining: 815ms\n",
      "329:\tlearn: 0.1658323\ttotal: 401ms\tremaining: 813ms\n",
      "330:\tlearn: 0.1653323\ttotal: 402ms\tremaining: 812ms\n",
      "331:\tlearn: 0.1646951\ttotal: 403ms\tremaining: 810ms\n",
      "332:\tlearn: 0.1640859\ttotal: 404ms\tremaining: 808ms\n",
      "333:\tlearn: 0.1636456\ttotal: 405ms\tremaining: 807ms\n",
      "334:\tlearn: 0.1631406\ttotal: 406ms\tremaining: 805ms\n",
      "335:\tlearn: 0.1625353\ttotal: 407ms\tremaining: 803ms\n",
      "336:\tlearn: 0.1621948\ttotal: 408ms\tremaining: 802ms\n",
      "337:\tlearn: 0.1618613\ttotal: 409ms\tremaining: 800ms\n",
      "338:\tlearn: 0.1613682\ttotal: 410ms\tremaining: 799ms\n",
      "339:\tlearn: 0.1609930\ttotal: 411ms\tremaining: 797ms\n",
      "340:\tlearn: 0.1605306\ttotal: 412ms\tremaining: 796ms\n",
      "341:\tlearn: 0.1602414\ttotal: 413ms\tremaining: 794ms\n"
     ]
    },
    {
     "name": "stdout",
     "output_type": "stream",
     "text": [
      "342:\tlearn: 0.1599795\ttotal: 414ms\tremaining: 793ms\n",
      "343:\tlearn: 0.1597233\ttotal: 415ms\tremaining: 792ms\n",
      "344:\tlearn: 0.1591248\ttotal: 417ms\tremaining: 791ms\n",
      "345:\tlearn: 0.1587533\ttotal: 418ms\tremaining: 789ms\n",
      "346:\tlearn: 0.1583117\ttotal: 418ms\tremaining: 787ms\n",
      "347:\tlearn: 0.1577108\ttotal: 419ms\tremaining: 786ms\n",
      "348:\tlearn: 0.1571810\ttotal: 420ms\tremaining: 784ms\n",
      "349:\tlearn: 0.1566681\ttotal: 421ms\tremaining: 783ms\n",
      "350:\tlearn: 0.1565580\ttotal: 422ms\tremaining: 781ms\n",
      "351:\tlearn: 0.1562502\ttotal: 424ms\tremaining: 780ms\n",
      "352:\tlearn: 0.1557101\ttotal: 425ms\tremaining: 778ms\n",
      "353:\tlearn: 0.1554228\ttotal: 425ms\tremaining: 776ms\n",
      "354:\tlearn: 0.1550297\ttotal: 427ms\tremaining: 775ms\n",
      "355:\tlearn: 0.1545009\ttotal: 428ms\tremaining: 773ms\n",
      "356:\tlearn: 0.1538186\ttotal: 428ms\tremaining: 772ms\n",
      "357:\tlearn: 0.1535439\ttotal: 429ms\tremaining: 770ms\n",
      "358:\tlearn: 0.1530432\ttotal: 430ms\tremaining: 768ms\n",
      "359:\tlearn: 0.1527351\ttotal: 431ms\tremaining: 767ms\n",
      "360:\tlearn: 0.1522486\ttotal: 432ms\tremaining: 765ms\n",
      "361:\tlearn: 0.1516970\ttotal: 433ms\tremaining: 764ms\n",
      "362:\tlearn: 0.1511754\ttotal: 434ms\tremaining: 762ms\n",
      "363:\tlearn: 0.1507675\ttotal: 436ms\tremaining: 761ms\n",
      "364:\tlearn: 0.1502922\ttotal: 437ms\tremaining: 760ms\n",
      "365:\tlearn: 0.1496937\ttotal: 438ms\tremaining: 758ms\n",
      "366:\tlearn: 0.1494186\ttotal: 439ms\tremaining: 757ms\n",
      "367:\tlearn: 0.1491245\ttotal: 440ms\tremaining: 755ms\n",
      "368:\tlearn: 0.1487037\ttotal: 441ms\tremaining: 754ms\n",
      "369:\tlearn: 0.1485966\ttotal: 442ms\tremaining: 752ms\n",
      "370:\tlearn: 0.1481858\ttotal: 443ms\tremaining: 751ms\n",
      "371:\tlearn: 0.1478272\ttotal: 444ms\tremaining: 749ms\n",
      "372:\tlearn: 0.1474208\ttotal: 445ms\tremaining: 748ms\n",
      "373:\tlearn: 0.1471541\ttotal: 446ms\tremaining: 746ms\n",
      "374:\tlearn: 0.1468004\ttotal: 447ms\tremaining: 745ms\n",
      "375:\tlearn: 0.1463898\ttotal: 448ms\tremaining: 743ms\n",
      "376:\tlearn: 0.1460290\ttotal: 449ms\tremaining: 741ms\n",
      "377:\tlearn: 0.1457967\ttotal: 450ms\tremaining: 740ms\n",
      "378:\tlearn: 0.1455722\ttotal: 451ms\tremaining: 738ms\n",
      "379:\tlearn: 0.1453254\ttotal: 452ms\tremaining: 737ms\n",
      "380:\tlearn: 0.1450406\ttotal: 453ms\tremaining: 735ms\n",
      "381:\tlearn: 0.1448081\ttotal: 454ms\tremaining: 734ms\n",
      "382:\tlearn: 0.1445225\ttotal: 454ms\tremaining: 732ms\n",
      "383:\tlearn: 0.1442358\ttotal: 456ms\tremaining: 731ms\n",
      "384:\tlearn: 0.1438309\ttotal: 457ms\tremaining: 729ms\n",
      "385:\tlearn: 0.1435927\ttotal: 458ms\tremaining: 728ms\n",
      "386:\tlearn: 0.1432610\ttotal: 459ms\tremaining: 727ms\n",
      "387:\tlearn: 0.1429515\ttotal: 461ms\tremaining: 728ms\n",
      "388:\tlearn: 0.1426908\ttotal: 463ms\tremaining: 726ms\n",
      "389:\tlearn: 0.1423802\ttotal: 464ms\tremaining: 725ms\n",
      "390:\tlearn: 0.1420842\ttotal: 465ms\tremaining: 724ms\n",
      "391:\tlearn: 0.1416987\ttotal: 466ms\tremaining: 723ms\n",
      "392:\tlearn: 0.1414158\ttotal: 467ms\tremaining: 721ms\n",
      "393:\tlearn: 0.1410631\ttotal: 468ms\tremaining: 720ms\n",
      "394:\tlearn: 0.1408555\ttotal: 469ms\tremaining: 718ms\n",
      "395:\tlearn: 0.1405711\ttotal: 470ms\tremaining: 717ms\n",
      "396:\tlearn: 0.1402918\ttotal: 471ms\tremaining: 716ms\n",
      "397:\tlearn: 0.1399689\ttotal: 472ms\tremaining: 714ms\n",
      "398:\tlearn: 0.1397221\ttotal: 473ms\tremaining: 713ms\n",
      "399:\tlearn: 0.1393536\ttotal: 476ms\tremaining: 713ms\n",
      "400:\tlearn: 0.1391292\ttotal: 477ms\tremaining: 712ms\n",
      "401:\tlearn: 0.1389048\ttotal: 478ms\tremaining: 711ms\n",
      "402:\tlearn: 0.1385584\ttotal: 479ms\tremaining: 710ms\n",
      "403:\tlearn: 0.1381914\ttotal: 480ms\tremaining: 708ms\n",
      "404:\tlearn: 0.1380199\ttotal: 481ms\tremaining: 707ms\n",
      "405:\tlearn: 0.1379311\ttotal: 482ms\tremaining: 705ms\n",
      "406:\tlearn: 0.1376075\ttotal: 483ms\tremaining: 704ms\n",
      "407:\tlearn: 0.1373369\ttotal: 484ms\tremaining: 702ms\n",
      "408:\tlearn: 0.1370742\ttotal: 485ms\tremaining: 701ms\n",
      "409:\tlearn: 0.1368476\ttotal: 486ms\tremaining: 700ms\n",
      "410:\tlearn: 0.1365031\ttotal: 487ms\tremaining: 699ms\n",
      "411:\tlearn: 0.1363437\ttotal: 489ms\tremaining: 697ms\n",
      "412:\tlearn: 0.1360544\ttotal: 490ms\tremaining: 696ms\n",
      "413:\tlearn: 0.1358261\ttotal: 491ms\tremaining: 694ms\n",
      "414:\tlearn: 0.1356459\ttotal: 492ms\tremaining: 693ms\n",
      "415:\tlearn: 0.1354518\ttotal: 493ms\tremaining: 692ms\n",
      "416:\tlearn: 0.1350976\ttotal: 494ms\tremaining: 690ms\n",
      "417:\tlearn: 0.1347180\ttotal: 495ms\tremaining: 689ms\n",
      "418:\tlearn: 0.1344447\ttotal: 496ms\tremaining: 688ms\n",
      "419:\tlearn: 0.1342750\ttotal: 497ms\tremaining: 686ms\n",
      "420:\tlearn: 0.1338527\ttotal: 498ms\tremaining: 685ms\n",
      "421:\tlearn: 0.1336206\ttotal: 499ms\tremaining: 683ms\n",
      "422:\tlearn: 0.1333116\ttotal: 500ms\tremaining: 682ms\n",
      "423:\tlearn: 0.1331885\ttotal: 501ms\tremaining: 681ms\n",
      "424:\tlearn: 0.1329533\ttotal: 502ms\tremaining: 679ms\n",
      "425:\tlearn: 0.1325332\ttotal: 503ms\tremaining: 678ms\n",
      "426:\tlearn: 0.1324826\ttotal: 504ms\tremaining: 677ms\n",
      "427:\tlearn: 0.1321704\ttotal: 505ms\tremaining: 675ms\n",
      "428:\tlearn: 0.1318021\ttotal: 506ms\tremaining: 674ms\n",
      "429:\tlearn: 0.1317486\ttotal: 507ms\tremaining: 673ms\n",
      "430:\tlearn: 0.1315777\ttotal: 509ms\tremaining: 671ms\n",
      "431:\tlearn: 0.1313012\ttotal: 510ms\tremaining: 670ms\n",
      "432:\tlearn: 0.1309625\ttotal: 511ms\tremaining: 669ms\n",
      "433:\tlearn: 0.1309183\ttotal: 512ms\tremaining: 667ms\n",
      "434:\tlearn: 0.1306206\ttotal: 513ms\tremaining: 666ms\n",
      "435:\tlearn: 0.1302584\ttotal: 514ms\tremaining: 665ms\n",
      "436:\tlearn: 0.1300621\ttotal: 515ms\tremaining: 663ms\n",
      "437:\tlearn: 0.1298145\ttotal: 516ms\tremaining: 662ms\n",
      "438:\tlearn: 0.1297352\ttotal: 517ms\tremaining: 661ms\n",
      "439:\tlearn: 0.1293142\ttotal: 518ms\tremaining: 659ms\n",
      "440:\tlearn: 0.1289444\ttotal: 519ms\tremaining: 658ms\n",
      "441:\tlearn: 0.1285790\ttotal: 520ms\tremaining: 657ms\n",
      "442:\tlearn: 0.1282754\ttotal: 521ms\tremaining: 655ms\n",
      "443:\tlearn: 0.1281480\ttotal: 522ms\tremaining: 654ms\n",
      "444:\tlearn: 0.1277867\ttotal: 523ms\tremaining: 652ms\n",
      "445:\tlearn: 0.1274775\ttotal: 524ms\tremaining: 651ms\n",
      "446:\tlearn: 0.1271334\ttotal: 525ms\tremaining: 650ms\n",
      "447:\tlearn: 0.1267855\ttotal: 526ms\tremaining: 648ms\n",
      "448:\tlearn: 0.1264342\ttotal: 527ms\tremaining: 647ms\n",
      "449:\tlearn: 0.1261929\ttotal: 528ms\tremaining: 646ms\n",
      "450:\tlearn: 0.1259709\ttotal: 529ms\tremaining: 644ms\n",
      "451:\tlearn: 0.1257192\ttotal: 530ms\tremaining: 643ms\n",
      "452:\tlearn: 0.1256593\ttotal: 531ms\tremaining: 642ms\n",
      "453:\tlearn: 0.1254242\ttotal: 533ms\tremaining: 641ms\n",
      "454:\tlearn: 0.1251358\ttotal: 534ms\tremaining: 639ms\n",
      "455:\tlearn: 0.1248935\ttotal: 535ms\tremaining: 638ms\n",
      "456:\tlearn: 0.1246090\ttotal: 536ms\tremaining: 637ms\n",
      "457:\tlearn: 0.1245161\ttotal: 537ms\tremaining: 635ms\n",
      "458:\tlearn: 0.1243916\ttotal: 538ms\tremaining: 634ms\n",
      "459:\tlearn: 0.1242155\ttotal: 539ms\tremaining: 632ms\n",
      "460:\tlearn: 0.1238701\ttotal: 540ms\tremaining: 631ms\n",
      "461:\tlearn: 0.1235862\ttotal: 541ms\tremaining: 630ms\n",
      "462:\tlearn: 0.1233691\ttotal: 542ms\tremaining: 628ms\n",
      "463:\tlearn: 0.1229747\ttotal: 543ms\tremaining: 627ms\n"
     ]
    },
    {
     "name": "stdout",
     "output_type": "stream",
     "text": [
      "464:\tlearn: 0.1227094\ttotal: 544ms\tremaining: 626ms\n",
      "465:\tlearn: 0.1225289\ttotal: 545ms\tremaining: 625ms\n",
      "466:\tlearn: 0.1223062\ttotal: 546ms\tremaining: 624ms\n",
      "467:\tlearn: 0.1219791\ttotal: 547ms\tremaining: 622ms\n",
      "468:\tlearn: 0.1216064\ttotal: 549ms\tremaining: 621ms\n",
      "469:\tlearn: 0.1212460\ttotal: 550ms\tremaining: 620ms\n",
      "470:\tlearn: 0.1209602\ttotal: 551ms\tremaining: 618ms\n",
      "471:\tlearn: 0.1209161\ttotal: 552ms\tremaining: 617ms\n",
      "472:\tlearn: 0.1206479\ttotal: 553ms\tremaining: 616ms\n",
      "473:\tlearn: 0.1203743\ttotal: 554ms\tremaining: 615ms\n",
      "474:\tlearn: 0.1200538\ttotal: 555ms\tremaining: 613ms\n",
      "475:\tlearn: 0.1197859\ttotal: 556ms\tremaining: 612ms\n",
      "476:\tlearn: 0.1194394\ttotal: 557ms\tremaining: 611ms\n",
      "477:\tlearn: 0.1192280\ttotal: 558ms\tremaining: 609ms\n",
      "478:\tlearn: 0.1191834\ttotal: 559ms\tremaining: 608ms\n",
      "479:\tlearn: 0.1190113\ttotal: 560ms\tremaining: 607ms\n",
      "480:\tlearn: 0.1188798\ttotal: 561ms\tremaining: 605ms\n",
      "481:\tlearn: 0.1187054\ttotal: 562ms\tremaining: 604ms\n",
      "482:\tlearn: 0.1184139\ttotal: 563ms\tremaining: 603ms\n",
      "483:\tlearn: 0.1182264\ttotal: 564ms\tremaining: 601ms\n",
      "484:\tlearn: 0.1178831\ttotal: 565ms\tremaining: 600ms\n",
      "485:\tlearn: 0.1175335\ttotal: 566ms\tremaining: 599ms\n",
      "486:\tlearn: 0.1173352\ttotal: 567ms\tremaining: 597ms\n",
      "487:\tlearn: 0.1172898\ttotal: 568ms\tremaining: 596ms\n",
      "488:\tlearn: 0.1170195\ttotal: 569ms\tremaining: 595ms\n",
      "489:\tlearn: 0.1168460\ttotal: 570ms\tremaining: 594ms\n",
      "490:\tlearn: 0.1164803\ttotal: 571ms\tremaining: 592ms\n",
      "491:\tlearn: 0.1161642\ttotal: 573ms\tremaining: 591ms\n",
      "492:\tlearn: 0.1158450\ttotal: 574ms\tremaining: 590ms\n",
      "493:\tlearn: 0.1156550\ttotal: 575ms\tremaining: 589ms\n",
      "494:\tlearn: 0.1154494\ttotal: 576ms\tremaining: 587ms\n",
      "495:\tlearn: 0.1151755\ttotal: 577ms\tremaining: 586ms\n",
      "496:\tlearn: 0.1149742\ttotal: 578ms\tremaining: 585ms\n",
      "497:\tlearn: 0.1147001\ttotal: 579ms\tremaining: 583ms\n",
      "498:\tlearn: 0.1144087\ttotal: 580ms\tremaining: 582ms\n",
      "499:\tlearn: 0.1141081\ttotal: 581ms\tremaining: 581ms\n",
      "500:\tlearn: 0.1139740\ttotal: 582ms\tremaining: 580ms\n",
      "501:\tlearn: 0.1136388\ttotal: 583ms\tremaining: 579ms\n",
      "502:\tlearn: 0.1134882\ttotal: 584ms\tremaining: 577ms\n",
      "503:\tlearn: 0.1131501\ttotal: 585ms\tremaining: 576ms\n",
      "504:\tlearn: 0.1129554\ttotal: 586ms\tremaining: 575ms\n",
      "505:\tlearn: 0.1127470\ttotal: 587ms\tremaining: 574ms\n",
      "506:\tlearn: 0.1124995\ttotal: 589ms\tremaining: 572ms\n",
      "507:\tlearn: 0.1122194\ttotal: 590ms\tremaining: 571ms\n",
      "508:\tlearn: 0.1120182\ttotal: 591ms\tremaining: 570ms\n",
      "509:\tlearn: 0.1117680\ttotal: 592ms\tremaining: 568ms\n",
      "510:\tlearn: 0.1114676\ttotal: 593ms\tremaining: 567ms\n",
      "511:\tlearn: 0.1111269\ttotal: 594ms\tremaining: 566ms\n",
      "512:\tlearn: 0.1109017\ttotal: 595ms\tremaining: 565ms\n",
      "513:\tlearn: 0.1107979\ttotal: 596ms\tremaining: 563ms\n",
      "514:\tlearn: 0.1105970\ttotal: 597ms\tremaining: 562ms\n",
      "515:\tlearn: 0.1104477\ttotal: 598ms\tremaining: 561ms\n",
      "516:\tlearn: 0.1102143\ttotal: 599ms\tremaining: 560ms\n",
      "517:\tlearn: 0.1099881\ttotal: 600ms\tremaining: 558ms\n",
      "518:\tlearn: 0.1097761\ttotal: 601ms\tremaining: 557ms\n",
      "519:\tlearn: 0.1095608\ttotal: 602ms\tremaining: 556ms\n",
      "520:\tlearn: 0.1094432\ttotal: 603ms\tremaining: 554ms\n",
      "521:\tlearn: 0.1091924\ttotal: 604ms\tremaining: 553ms\n",
      "522:\tlearn: 0.1090199\ttotal: 605ms\tremaining: 552ms\n",
      "523:\tlearn: 0.1088501\ttotal: 606ms\tremaining: 551ms\n",
      "524:\tlearn: 0.1086367\ttotal: 607ms\tremaining: 549ms\n",
      "525:\tlearn: 0.1084656\ttotal: 608ms\tremaining: 548ms\n",
      "526:\tlearn: 0.1082275\ttotal: 609ms\tremaining: 547ms\n",
      "527:\tlearn: 0.1080250\ttotal: 610ms\tremaining: 546ms\n",
      "528:\tlearn: 0.1079232\ttotal: 611ms\tremaining: 544ms\n",
      "529:\tlearn: 0.1077581\ttotal: 612ms\tremaining: 543ms\n",
      "530:\tlearn: 0.1075812\ttotal: 613ms\tremaining: 542ms\n",
      "531:\tlearn: 0.1073139\ttotal: 614ms\tremaining: 540ms\n",
      "532:\tlearn: 0.1070897\ttotal: 615ms\tremaining: 539ms\n",
      "533:\tlearn: 0.1069118\ttotal: 616ms\tremaining: 538ms\n",
      "534:\tlearn: 0.1067204\ttotal: 618ms\tremaining: 537ms\n",
      "535:\tlearn: 0.1065529\ttotal: 619ms\tremaining: 536ms\n",
      "536:\tlearn: 0.1063914\ttotal: 620ms\tremaining: 534ms\n",
      "537:\tlearn: 0.1061372\ttotal: 621ms\tremaining: 533ms\n",
      "538:\tlearn: 0.1059495\ttotal: 622ms\tremaining: 532ms\n",
      "539:\tlearn: 0.1057297\ttotal: 623ms\tremaining: 530ms\n",
      "540:\tlearn: 0.1055001\ttotal: 624ms\tremaining: 529ms\n",
      "541:\tlearn: 0.1052648\ttotal: 625ms\tremaining: 528ms\n",
      "542:\tlearn: 0.1051142\ttotal: 626ms\tremaining: 526ms\n",
      "543:\tlearn: 0.1048688\ttotal: 627ms\tremaining: 525ms\n",
      "544:\tlearn: 0.1046073\ttotal: 628ms\tremaining: 524ms\n",
      "545:\tlearn: 0.1043353\ttotal: 629ms\tremaining: 523ms\n",
      "546:\tlearn: 0.1042360\ttotal: 630ms\tremaining: 521ms\n",
      "547:\tlearn: 0.1041521\ttotal: 631ms\tremaining: 520ms\n",
      "548:\tlearn: 0.1038115\ttotal: 632ms\tremaining: 519ms\n",
      "549:\tlearn: 0.1035714\ttotal: 633ms\tremaining: 518ms\n",
      "550:\tlearn: 0.1033649\ttotal: 634ms\tremaining: 516ms\n",
      "551:\tlearn: 0.1031613\ttotal: 635ms\tremaining: 515ms\n",
      "552:\tlearn: 0.1030785\ttotal: 636ms\tremaining: 514ms\n",
      "553:\tlearn: 0.1028259\ttotal: 637ms\tremaining: 513ms\n",
      "554:\tlearn: 0.1026629\ttotal: 638ms\tremaining: 511ms\n",
      "555:\tlearn: 0.1024229\ttotal: 639ms\tremaining: 510ms\n",
      "556:\tlearn: 0.1022091\ttotal: 640ms\tremaining: 509ms\n",
      "557:\tlearn: 0.1020330\ttotal: 641ms\tremaining: 508ms\n",
      "558:\tlearn: 0.1018346\ttotal: 642ms\tremaining: 506ms\n",
      "559:\tlearn: 0.1016635\ttotal: 643ms\tremaining: 505ms\n",
      "560:\tlearn: 0.1015737\ttotal: 644ms\tremaining: 504ms\n",
      "561:\tlearn: 0.1014866\ttotal: 645ms\tremaining: 502ms\n",
      "562:\tlearn: 0.1013758\ttotal: 646ms\tremaining: 501ms\n",
      "563:\tlearn: 0.1011314\ttotal: 647ms\tremaining: 500ms\n",
      "564:\tlearn: 0.1008279\ttotal: 648ms\tremaining: 499ms\n",
      "565:\tlearn: 0.1005732\ttotal: 649ms\tremaining: 497ms\n",
      "566:\tlearn: 0.1003103\ttotal: 650ms\tremaining: 496ms\n",
      "567:\tlearn: 0.1002145\ttotal: 651ms\tremaining: 495ms\n",
      "568:\tlearn: 0.1001339\ttotal: 652ms\tremaining: 493ms\n",
      "569:\tlearn: 0.1000186\ttotal: 653ms\tremaining: 492ms\n",
      "570:\tlearn: 0.0998222\ttotal: 654ms\tremaining: 491ms\n",
      "571:\tlearn: 0.0996223\ttotal: 654ms\tremaining: 490ms\n",
      "572:\tlearn: 0.0994157\ttotal: 655ms\tremaining: 488ms\n",
      "573:\tlearn: 0.0993398\ttotal: 656ms\tremaining: 487ms\n",
      "574:\tlearn: 0.0990605\ttotal: 657ms\tremaining: 486ms\n",
      "575:\tlearn: 0.0989435\ttotal: 659ms\tremaining: 485ms\n",
      "576:\tlearn: 0.0988221\ttotal: 660ms\tremaining: 484ms\n",
      "577:\tlearn: 0.0986079\ttotal: 661ms\tremaining: 482ms\n",
      "578:\tlearn: 0.0985087\ttotal: 662ms\tremaining: 481ms\n",
      "579:\tlearn: 0.0983535\ttotal: 663ms\tremaining: 480ms\n",
      "580:\tlearn: 0.0982834\ttotal: 664ms\tremaining: 479ms\n",
      "581:\tlearn: 0.0980486\ttotal: 665ms\tremaining: 478ms\n",
      "582:\tlearn: 0.0978448\ttotal: 666ms\tremaining: 476ms\n",
      "583:\tlearn: 0.0976465\ttotal: 667ms\tremaining: 475ms\n",
      "584:\tlearn: 0.0974610\ttotal: 668ms\tremaining: 474ms\n",
      "585:\tlearn: 0.0973936\ttotal: 669ms\tremaining: 473ms\n",
      "586:\tlearn: 0.0971782\ttotal: 670ms\tremaining: 471ms\n",
      "587:\tlearn: 0.0970025\ttotal: 671ms\tremaining: 470ms\n",
      "588:\tlearn: 0.0966899\ttotal: 672ms\tremaining: 469ms\n",
      "589:\tlearn: 0.0964980\ttotal: 673ms\tremaining: 468ms\n",
      "590:\tlearn: 0.0963224\ttotal: 674ms\tremaining: 467ms\n"
     ]
    },
    {
     "name": "stdout",
     "output_type": "stream",
     "text": [
      "591:\tlearn: 0.0961619\ttotal: 676ms\tremaining: 466ms\n",
      "592:\tlearn: 0.0959689\ttotal: 677ms\tremaining: 465ms\n",
      "593:\tlearn: 0.0958133\ttotal: 678ms\tremaining: 464ms\n",
      "594:\tlearn: 0.0956513\ttotal: 680ms\tremaining: 463ms\n",
      "595:\tlearn: 0.0954226\ttotal: 681ms\tremaining: 461ms\n",
      "596:\tlearn: 0.0953589\ttotal: 681ms\tremaining: 460ms\n",
      "597:\tlearn: 0.0952353\ttotal: 682ms\tremaining: 459ms\n",
      "598:\tlearn: 0.0950729\ttotal: 683ms\tremaining: 458ms\n",
      "599:\tlearn: 0.0950387\ttotal: 685ms\tremaining: 456ms\n",
      "600:\tlearn: 0.0947511\ttotal: 686ms\tremaining: 455ms\n",
      "601:\tlearn: 0.0946259\ttotal: 687ms\tremaining: 454ms\n",
      "602:\tlearn: 0.0945462\ttotal: 688ms\tremaining: 453ms\n",
      "603:\tlearn: 0.0943821\ttotal: 689ms\tremaining: 452ms\n",
      "604:\tlearn: 0.0941812\ttotal: 690ms\tremaining: 450ms\n",
      "605:\tlearn: 0.0940707\ttotal: 691ms\tremaining: 449ms\n",
      "606:\tlearn: 0.0937893\ttotal: 692ms\tremaining: 448ms\n",
      "607:\tlearn: 0.0936474\ttotal: 693ms\tremaining: 447ms\n",
      "608:\tlearn: 0.0933712\ttotal: 694ms\tremaining: 446ms\n",
      "609:\tlearn: 0.0932022\ttotal: 695ms\tremaining: 444ms\n",
      "610:\tlearn: 0.0929938\ttotal: 696ms\tremaining: 443ms\n",
      "611:\tlearn: 0.0928342\ttotal: 697ms\tremaining: 442ms\n",
      "612:\tlearn: 0.0927598\ttotal: 699ms\tremaining: 441ms\n",
      "613:\tlearn: 0.0926789\ttotal: 700ms\tremaining: 440ms\n",
      "614:\tlearn: 0.0925919\ttotal: 701ms\tremaining: 439ms\n",
      "615:\tlearn: 0.0924237\ttotal: 702ms\tremaining: 438ms\n",
      "616:\tlearn: 0.0922057\ttotal: 704ms\tremaining: 437ms\n",
      "617:\tlearn: 0.0920419\ttotal: 705ms\tremaining: 436ms\n",
      "618:\tlearn: 0.0917993\ttotal: 706ms\tremaining: 435ms\n",
      "619:\tlearn: 0.0916695\ttotal: 707ms\tremaining: 433ms\n",
      "620:\tlearn: 0.0915434\ttotal: 708ms\tremaining: 432ms\n",
      "621:\tlearn: 0.0913924\ttotal: 709ms\tremaining: 431ms\n",
      "622:\tlearn: 0.0912670\ttotal: 710ms\tremaining: 430ms\n",
      "623:\tlearn: 0.0910253\ttotal: 711ms\tremaining: 429ms\n",
      "624:\tlearn: 0.0907917\ttotal: 712ms\tremaining: 427ms\n",
      "625:\tlearn: 0.0905819\ttotal: 713ms\tremaining: 426ms\n",
      "626:\tlearn: 0.0904608\ttotal: 715ms\tremaining: 425ms\n",
      "627:\tlearn: 0.0904189\ttotal: 715ms\tremaining: 424ms\n",
      "628:\tlearn: 0.0903751\ttotal: 716ms\tremaining: 423ms\n",
      "629:\tlearn: 0.0902075\ttotal: 718ms\tremaining: 421ms\n",
      "630:\tlearn: 0.0900307\ttotal: 719ms\tremaining: 420ms\n",
      "631:\tlearn: 0.0898056\ttotal: 720ms\tremaining: 419ms\n",
      "632:\tlearn: 0.0896665\ttotal: 721ms\tremaining: 418ms\n",
      "633:\tlearn: 0.0894108\ttotal: 722ms\tremaining: 417ms\n",
      "634:\tlearn: 0.0893217\ttotal: 723ms\tremaining: 415ms\n",
      "635:\tlearn: 0.0891661\ttotal: 724ms\tremaining: 414ms\n",
      "636:\tlearn: 0.0890686\ttotal: 725ms\tremaining: 413ms\n",
      "637:\tlearn: 0.0889813\ttotal: 726ms\tremaining: 412ms\n",
      "638:\tlearn: 0.0888331\ttotal: 727ms\tremaining: 411ms\n",
      "639:\tlearn: 0.0887228\ttotal: 728ms\tremaining: 410ms\n",
      "640:\tlearn: 0.0885008\ttotal: 729ms\tremaining: 408ms\n",
      "641:\tlearn: 0.0883561\ttotal: 730ms\tremaining: 407ms\n",
      "642:\tlearn: 0.0881729\ttotal: 731ms\tremaining: 406ms\n",
      "643:\tlearn: 0.0880387\ttotal: 732ms\tremaining: 405ms\n",
      "644:\tlearn: 0.0879462\ttotal: 733ms\tremaining: 404ms\n",
      "645:\tlearn: 0.0877577\ttotal: 734ms\tremaining: 402ms\n",
      "646:\tlearn: 0.0875755\ttotal: 735ms\tremaining: 401ms\n",
      "647:\tlearn: 0.0874514\ttotal: 736ms\tremaining: 400ms\n",
      "648:\tlearn: 0.0872906\ttotal: 737ms\tremaining: 399ms\n",
      "649:\tlearn: 0.0871388\ttotal: 738ms\tremaining: 398ms\n",
      "650:\tlearn: 0.0869790\ttotal: 739ms\tremaining: 396ms\n",
      "651:\tlearn: 0.0868247\ttotal: 741ms\tremaining: 395ms\n",
      "652:\tlearn: 0.0866959\ttotal: 742ms\tremaining: 394ms\n",
      "653:\tlearn: 0.0864935\ttotal: 743ms\tremaining: 393ms\n",
      "654:\tlearn: 0.0864136\ttotal: 744ms\tremaining: 392ms\n",
      "655:\tlearn: 0.0862141\ttotal: 745ms\tremaining: 391ms\n",
      "656:\tlearn: 0.0860740\ttotal: 746ms\tremaining: 389ms\n",
      "657:\tlearn: 0.0860193\ttotal: 747ms\tremaining: 388ms\n",
      "658:\tlearn: 0.0858518\ttotal: 748ms\tremaining: 387ms\n",
      "659:\tlearn: 0.0856785\ttotal: 749ms\tremaining: 386ms\n",
      "660:\tlearn: 0.0855278\ttotal: 750ms\tremaining: 385ms\n",
      "661:\tlearn: 0.0853287\ttotal: 751ms\tremaining: 383ms\n",
      "662:\tlearn: 0.0851910\ttotal: 752ms\tremaining: 382ms\n",
      "663:\tlearn: 0.0850836\ttotal: 753ms\tremaining: 381ms\n",
      "664:\tlearn: 0.0848428\ttotal: 754ms\tremaining: 380ms\n",
      "665:\tlearn: 0.0846575\ttotal: 755ms\tremaining: 379ms\n",
      "666:\tlearn: 0.0845363\ttotal: 756ms\tremaining: 377ms\n",
      "667:\tlearn: 0.0844482\ttotal: 757ms\tremaining: 376ms\n",
      "668:\tlearn: 0.0843269\ttotal: 758ms\tremaining: 375ms\n",
      "669:\tlearn: 0.0841392\ttotal: 759ms\tremaining: 374ms\n",
      "670:\tlearn: 0.0839439\ttotal: 760ms\tremaining: 373ms\n",
      "671:\tlearn: 0.0838128\ttotal: 761ms\tremaining: 372ms\n",
      "672:\tlearn: 0.0836944\ttotal: 763ms\tremaining: 371ms\n",
      "673:\tlearn: 0.0835436\ttotal: 764ms\tremaining: 369ms\n",
      "674:\tlearn: 0.0834035\ttotal: 765ms\tremaining: 368ms\n",
      "675:\tlearn: 0.0832411\ttotal: 766ms\tremaining: 367ms\n",
      "676:\tlearn: 0.0831620\ttotal: 767ms\tremaining: 366ms\n",
      "677:\tlearn: 0.0830728\ttotal: 768ms\tremaining: 365ms\n",
      "678:\tlearn: 0.0830060\ttotal: 769ms\tremaining: 363ms\n",
      "679:\tlearn: 0.0827904\ttotal: 770ms\tremaining: 362ms\n",
      "680:\tlearn: 0.0826554\ttotal: 771ms\tremaining: 361ms\n",
      "681:\tlearn: 0.0825857\ttotal: 772ms\tremaining: 360ms\n",
      "682:\tlearn: 0.0825007\ttotal: 773ms\tremaining: 359ms\n",
      "683:\tlearn: 0.0824181\ttotal: 774ms\tremaining: 358ms\n",
      "684:\tlearn: 0.0822757\ttotal: 775ms\tremaining: 356ms\n",
      "685:\tlearn: 0.0822264\ttotal: 776ms\tremaining: 355ms\n",
      "686:\tlearn: 0.0820889\ttotal: 777ms\tremaining: 354ms\n",
      "687:\tlearn: 0.0819571\ttotal: 778ms\tremaining: 353ms\n",
      "688:\tlearn: 0.0818570\ttotal: 779ms\tremaining: 352ms\n",
      "689:\tlearn: 0.0817148\ttotal: 780ms\tremaining: 351ms\n",
      "690:\tlearn: 0.0816276\ttotal: 781ms\tremaining: 349ms\n",
      "691:\tlearn: 0.0815807\ttotal: 782ms\tremaining: 348ms\n",
      "692:\tlearn: 0.0814163\ttotal: 784ms\tremaining: 347ms\n",
      "693:\tlearn: 0.0813315\ttotal: 785ms\tremaining: 346ms\n",
      "694:\tlearn: 0.0810939\ttotal: 786ms\tremaining: 345ms\n",
      "695:\tlearn: 0.0809171\ttotal: 787ms\tremaining: 344ms\n",
      "696:\tlearn: 0.0807700\ttotal: 789ms\tremaining: 343ms\n",
      "697:\tlearn: 0.0806036\ttotal: 791ms\tremaining: 342ms\n",
      "698:\tlearn: 0.0804174\ttotal: 792ms\tremaining: 341ms\n",
      "699:\tlearn: 0.0803134\ttotal: 793ms\tremaining: 340ms\n",
      "700:\tlearn: 0.0801647\ttotal: 794ms\tremaining: 339ms\n",
      "701:\tlearn: 0.0800651\ttotal: 795ms\tremaining: 338ms\n",
      "702:\tlearn: 0.0798977\ttotal: 796ms\tremaining: 336ms\n",
      "703:\tlearn: 0.0797385\ttotal: 797ms\tremaining: 335ms\n",
      "704:\tlearn: 0.0796948\ttotal: 799ms\tremaining: 334ms\n",
      "705:\tlearn: 0.0796058\ttotal: 800ms\tremaining: 333ms\n",
      "706:\tlearn: 0.0795211\ttotal: 801ms\tremaining: 332ms\n",
      "707:\tlearn: 0.0793440\ttotal: 802ms\tremaining: 331ms\n",
      "708:\tlearn: 0.0792784\ttotal: 803ms\tremaining: 330ms\n",
      "709:\tlearn: 0.0792529\ttotal: 804ms\tremaining: 328ms\n",
      "710:\tlearn: 0.0791547\ttotal: 805ms\tremaining: 327ms\n",
      "711:\tlearn: 0.0790868\ttotal: 806ms\tremaining: 326ms\n",
      "712:\tlearn: 0.0788973\ttotal: 807ms\tremaining: 325ms\n",
      "713:\tlearn: 0.0787289\ttotal: 808ms\tremaining: 324ms\n",
      "714:\tlearn: 0.0785952\ttotal: 809ms\tremaining: 322ms\n",
      "715:\tlearn: 0.0784017\ttotal: 810ms\tremaining: 321ms\n",
      "716:\tlearn: 0.0783772\ttotal: 811ms\tremaining: 320ms\n"
     ]
    },
    {
     "name": "stdout",
     "output_type": "stream",
     "text": [
      "717:\tlearn: 0.0783052\ttotal: 813ms\tremaining: 319ms\n",
      "718:\tlearn: 0.0780969\ttotal: 814ms\tremaining: 318ms\n",
      "719:\tlearn: 0.0778804\ttotal: 815ms\tremaining: 317ms\n",
      "720:\tlearn: 0.0777532\ttotal: 816ms\tremaining: 316ms\n",
      "721:\tlearn: 0.0775742\ttotal: 817ms\tremaining: 315ms\n",
      "722:\tlearn: 0.0774511\ttotal: 818ms\tremaining: 313ms\n",
      "723:\tlearn: 0.0773549\ttotal: 819ms\tremaining: 312ms\n",
      "724:\tlearn: 0.0772561\ttotal: 820ms\tremaining: 311ms\n",
      "725:\tlearn: 0.0772322\ttotal: 821ms\tremaining: 310ms\n",
      "726:\tlearn: 0.0770568\ttotal: 822ms\tremaining: 309ms\n",
      "727:\tlearn: 0.0768425\ttotal: 823ms\tremaining: 307ms\n",
      "728:\tlearn: 0.0767659\ttotal: 824ms\tremaining: 306ms\n",
      "729:\tlearn: 0.0766806\ttotal: 825ms\tremaining: 305ms\n",
      "730:\tlearn: 0.0765727\ttotal: 826ms\tremaining: 304ms\n",
      "731:\tlearn: 0.0764648\ttotal: 827ms\tremaining: 303ms\n",
      "732:\tlearn: 0.0762972\ttotal: 828ms\tremaining: 301ms\n",
      "733:\tlearn: 0.0762740\ttotal: 828ms\tremaining: 300ms\n",
      "734:\tlearn: 0.0761623\ttotal: 829ms\tremaining: 299ms\n",
      "735:\tlearn: 0.0761001\ttotal: 830ms\tremaining: 298ms\n",
      "736:\tlearn: 0.0760215\ttotal: 831ms\tremaining: 297ms\n",
      "737:\tlearn: 0.0759703\ttotal: 832ms\tremaining: 295ms\n",
      "738:\tlearn: 0.0758597\ttotal: 833ms\tremaining: 294ms\n",
      "739:\tlearn: 0.0756890\ttotal: 834ms\tremaining: 293ms\n",
      "740:\tlearn: 0.0755686\ttotal: 835ms\tremaining: 292ms\n",
      "741:\tlearn: 0.0754800\ttotal: 836ms\tremaining: 291ms\n",
      "742:\tlearn: 0.0753226\ttotal: 837ms\tremaining: 290ms\n",
      "743:\tlearn: 0.0752131\ttotal: 838ms\tremaining: 288ms\n",
      "744:\tlearn: 0.0750814\ttotal: 839ms\tremaining: 287ms\n",
      "745:\tlearn: 0.0749929\ttotal: 840ms\tremaining: 286ms\n",
      "746:\tlearn: 0.0748755\ttotal: 841ms\tremaining: 285ms\n",
      "747:\tlearn: 0.0748235\ttotal: 842ms\tremaining: 284ms\n",
      "748:\tlearn: 0.0746560\ttotal: 843ms\tremaining: 283ms\n",
      "749:\tlearn: 0.0745650\ttotal: 844ms\tremaining: 281ms\n",
      "750:\tlearn: 0.0743958\ttotal: 845ms\tremaining: 280ms\n",
      "751:\tlearn: 0.0742592\ttotal: 846ms\tremaining: 279ms\n",
      "752:\tlearn: 0.0741333\ttotal: 847ms\tremaining: 278ms\n",
      "753:\tlearn: 0.0739821\ttotal: 848ms\tremaining: 277ms\n",
      "754:\tlearn: 0.0738331\ttotal: 849ms\tremaining: 276ms\n",
      "755:\tlearn: 0.0736715\ttotal: 850ms\tremaining: 274ms\n",
      "756:\tlearn: 0.0736502\ttotal: 852ms\tremaining: 273ms\n",
      "757:\tlearn: 0.0735370\ttotal: 853ms\tremaining: 272ms\n",
      "758:\tlearn: 0.0734193\ttotal: 854ms\tremaining: 271ms\n",
      "759:\tlearn: 0.0733754\ttotal: 855ms\tremaining: 270ms\n",
      "760:\tlearn: 0.0732478\ttotal: 856ms\tremaining: 269ms\n",
      "761:\tlearn: 0.0732265\ttotal: 857ms\tremaining: 268ms\n",
      "762:\tlearn: 0.0730790\ttotal: 858ms\tremaining: 266ms\n",
      "763:\tlearn: 0.0729793\ttotal: 859ms\tremaining: 265ms\n",
      "764:\tlearn: 0.0729182\ttotal: 860ms\tremaining: 264ms\n",
      "765:\tlearn: 0.0728590\ttotal: 861ms\tremaining: 263ms\n",
      "766:\tlearn: 0.0728107\ttotal: 861ms\tremaining: 262ms\n",
      "767:\tlearn: 0.0727062\ttotal: 862ms\tremaining: 261ms\n",
      "768:\tlearn: 0.0726005\ttotal: 864ms\tremaining: 259ms\n",
      "769:\tlearn: 0.0725272\ttotal: 865ms\tremaining: 258ms\n",
      "770:\tlearn: 0.0724347\ttotal: 866ms\tremaining: 257ms\n",
      "771:\tlearn: 0.0723191\ttotal: 867ms\tremaining: 256ms\n",
      "772:\tlearn: 0.0721844\ttotal: 868ms\tremaining: 255ms\n",
      "773:\tlearn: 0.0721216\ttotal: 869ms\tremaining: 254ms\n",
      "774:\tlearn: 0.0720615\ttotal: 870ms\tremaining: 253ms\n",
      "775:\tlearn: 0.0719663\ttotal: 871ms\tremaining: 251ms\n",
      "776:\tlearn: 0.0718522\ttotal: 872ms\tremaining: 250ms\n",
      "777:\tlearn: 0.0716323\ttotal: 873ms\tremaining: 249ms\n",
      "778:\tlearn: 0.0714824\ttotal: 874ms\tremaining: 248ms\n",
      "779:\tlearn: 0.0714316\ttotal: 875ms\tremaining: 247ms\n",
      "780:\tlearn: 0.0713208\ttotal: 876ms\tremaining: 246ms\n",
      "781:\tlearn: 0.0711773\ttotal: 877ms\tremaining: 245ms\n",
      "782:\tlearn: 0.0710375\ttotal: 878ms\tremaining: 243ms\n",
      "783:\tlearn: 0.0709172\ttotal: 879ms\tremaining: 242ms\n",
      "784:\tlearn: 0.0708800\ttotal: 880ms\tremaining: 241ms\n",
      "785:\tlearn: 0.0707231\ttotal: 881ms\tremaining: 240ms\n",
      "786:\tlearn: 0.0706406\ttotal: 882ms\tremaining: 239ms\n",
      "787:\tlearn: 0.0705904\ttotal: 883ms\tremaining: 238ms\n",
      "788:\tlearn: 0.0704285\ttotal: 884ms\tremaining: 236ms\n",
      "789:\tlearn: 0.0702825\ttotal: 885ms\tremaining: 235ms\n",
      "790:\tlearn: 0.0702159\ttotal: 886ms\tremaining: 234ms\n",
      "791:\tlearn: 0.0701185\ttotal: 887ms\tremaining: 233ms\n",
      "792:\tlearn: 0.0700107\ttotal: 888ms\tremaining: 232ms\n",
      "793:\tlearn: 0.0699076\ttotal: 889ms\tremaining: 231ms\n",
      "794:\tlearn: 0.0698238\ttotal: 890ms\tremaining: 230ms\n",
      "795:\tlearn: 0.0696006\ttotal: 892ms\tremaining: 228ms\n",
      "796:\tlearn: 0.0694591\ttotal: 893ms\tremaining: 227ms\n",
      "797:\tlearn: 0.0693581\ttotal: 894ms\tremaining: 226ms\n",
      "798:\tlearn: 0.0692109\ttotal: 895ms\tremaining: 225ms\n",
      "799:\tlearn: 0.0691548\ttotal: 896ms\tremaining: 224ms\n",
      "800:\tlearn: 0.0690217\ttotal: 897ms\tremaining: 223ms\n",
      "801:\tlearn: 0.0689439\ttotal: 898ms\tremaining: 222ms\n",
      "802:\tlearn: 0.0688560\ttotal: 899ms\tremaining: 220ms\n",
      "803:\tlearn: 0.0687967\ttotal: 900ms\tremaining: 219ms\n",
      "804:\tlearn: 0.0687349\ttotal: 901ms\tremaining: 218ms\n",
      "805:\tlearn: 0.0685607\ttotal: 902ms\tremaining: 217ms\n",
      "806:\tlearn: 0.0684932\ttotal: 903ms\tremaining: 216ms\n",
      "807:\tlearn: 0.0684373\ttotal: 904ms\tremaining: 215ms\n",
      "808:\tlearn: 0.0682485\ttotal: 905ms\tremaining: 214ms\n",
      "809:\tlearn: 0.0681282\ttotal: 906ms\tremaining: 213ms\n",
      "810:\tlearn: 0.0679840\ttotal: 907ms\tremaining: 211ms\n",
      "811:\tlearn: 0.0679235\ttotal: 908ms\tremaining: 210ms\n",
      "812:\tlearn: 0.0678054\ttotal: 909ms\tremaining: 209ms\n",
      "813:\tlearn: 0.0677434\ttotal: 910ms\tremaining: 208ms\n",
      "814:\tlearn: 0.0675828\ttotal: 911ms\tremaining: 207ms\n",
      "815:\tlearn: 0.0675002\ttotal: 912ms\tremaining: 206ms\n",
      "816:\tlearn: 0.0673984\ttotal: 913ms\tremaining: 205ms\n",
      "817:\tlearn: 0.0672891\ttotal: 914ms\tremaining: 203ms\n",
      "818:\tlearn: 0.0672010\ttotal: 915ms\tremaining: 202ms\n",
      "819:\tlearn: 0.0671064\ttotal: 916ms\tremaining: 201ms\n",
      "820:\tlearn: 0.0670307\ttotal: 917ms\tremaining: 200ms\n",
      "821:\tlearn: 0.0669372\ttotal: 919ms\tremaining: 199ms\n",
      "822:\tlearn: 0.0668216\ttotal: 920ms\tremaining: 198ms\n",
      "823:\tlearn: 0.0666831\ttotal: 921ms\tremaining: 197ms\n",
      "824:\tlearn: 0.0665282\ttotal: 922ms\tremaining: 196ms\n",
      "825:\tlearn: 0.0664134\ttotal: 923ms\tremaining: 194ms\n",
      "826:\tlearn: 0.0663050\ttotal: 924ms\tremaining: 193ms\n",
      "827:\tlearn: 0.0662032\ttotal: 925ms\tremaining: 192ms\n",
      "828:\tlearn: 0.0661647\ttotal: 926ms\tremaining: 191ms\n",
      "829:\tlearn: 0.0660215\ttotal: 927ms\tremaining: 190ms\n",
      "830:\tlearn: 0.0658686\ttotal: 928ms\tremaining: 189ms\n",
      "831:\tlearn: 0.0656949\ttotal: 929ms\tremaining: 188ms\n",
      "832:\tlearn: 0.0656139\ttotal: 930ms\tremaining: 186ms\n",
      "833:\tlearn: 0.0654728\ttotal: 931ms\tremaining: 185ms\n",
      "834:\tlearn: 0.0654033\ttotal: 932ms\tremaining: 184ms\n",
      "835:\tlearn: 0.0653470\ttotal: 933ms\tremaining: 183ms\n",
      "836:\tlearn: 0.0652591\ttotal: 934ms\tremaining: 182ms\n",
      "837:\tlearn: 0.0651550\ttotal: 935ms\tremaining: 181ms\n",
      "838:\tlearn: 0.0650790\ttotal: 936ms\tremaining: 180ms\n",
      "839:\tlearn: 0.0649914\ttotal: 937ms\tremaining: 179ms\n",
      "840:\tlearn: 0.0648861\ttotal: 938ms\tremaining: 177ms\n",
      "841:\tlearn: 0.0647368\ttotal: 939ms\tremaining: 176ms\n",
      "842:\tlearn: 0.0646356\ttotal: 940ms\tremaining: 175ms\n",
      "843:\tlearn: 0.0645502\ttotal: 941ms\tremaining: 174ms\n",
      "844:\tlearn: 0.0645222\ttotal: 942ms\tremaining: 173ms\n",
      "845:\tlearn: 0.0643880\ttotal: 943ms\tremaining: 172ms\n",
      "846:\tlearn: 0.0642858\ttotal: 944ms\tremaining: 171ms\n"
     ]
    },
    {
     "name": "stdout",
     "output_type": "stream",
     "text": [
      "847:\tlearn: 0.0641446\ttotal: 945ms\tremaining: 169ms\n",
      "848:\tlearn: 0.0640826\ttotal: 947ms\tremaining: 168ms\n",
      "849:\tlearn: 0.0639957\ttotal: 948ms\tremaining: 167ms\n",
      "850:\tlearn: 0.0638957\ttotal: 949ms\tremaining: 166ms\n",
      "851:\tlearn: 0.0637795\ttotal: 950ms\tremaining: 165ms\n",
      "852:\tlearn: 0.0637134\ttotal: 951ms\tremaining: 164ms\n",
      "853:\tlearn: 0.0636375\ttotal: 952ms\tremaining: 163ms\n",
      "854:\tlearn: 0.0634762\ttotal: 953ms\tremaining: 162ms\n",
      "855:\tlearn: 0.0634162\ttotal: 954ms\tremaining: 160ms\n",
      "856:\tlearn: 0.0633879\ttotal: 955ms\tremaining: 159ms\n",
      "857:\tlearn: 0.0632596\ttotal: 956ms\tremaining: 158ms\n",
      "858:\tlearn: 0.0631793\ttotal: 957ms\tremaining: 157ms\n",
      "859:\tlearn: 0.0631483\ttotal: 958ms\tremaining: 156ms\n",
      "860:\tlearn: 0.0630792\ttotal: 959ms\tremaining: 155ms\n",
      "861:\tlearn: 0.0629538\ttotal: 960ms\tremaining: 154ms\n",
      "862:\tlearn: 0.0627852\ttotal: 961ms\tremaining: 153ms\n",
      "863:\tlearn: 0.0626464\ttotal: 962ms\tremaining: 151ms\n",
      "864:\tlearn: 0.0626083\ttotal: 963ms\tremaining: 150ms\n",
      "865:\tlearn: 0.0625222\ttotal: 965ms\tremaining: 149ms\n",
      "866:\tlearn: 0.0624317\ttotal: 966ms\tremaining: 148ms\n",
      "867:\tlearn: 0.0623937\ttotal: 967ms\tremaining: 147ms\n",
      "868:\tlearn: 0.0622609\ttotal: 968ms\tremaining: 146ms\n",
      "869:\tlearn: 0.0621176\ttotal: 969ms\tremaining: 145ms\n",
      "870:\tlearn: 0.0619999\ttotal: 970ms\tremaining: 144ms\n",
      "871:\tlearn: 0.0618958\ttotal: 971ms\tremaining: 143ms\n",
      "872:\tlearn: 0.0618173\ttotal: 972ms\tremaining: 141ms\n",
      "873:\tlearn: 0.0616736\ttotal: 973ms\tremaining: 140ms\n",
      "874:\tlearn: 0.0616136\ttotal: 974ms\tremaining: 139ms\n",
      "875:\tlearn: 0.0615619\ttotal: 975ms\tremaining: 138ms\n",
      "876:\tlearn: 0.0614174\ttotal: 976ms\tremaining: 137ms\n",
      "877:\tlearn: 0.0612623\ttotal: 978ms\tremaining: 136ms\n",
      "878:\tlearn: 0.0611784\ttotal: 979ms\tremaining: 135ms\n",
      "879:\tlearn: 0.0610721\ttotal: 980ms\tremaining: 134ms\n",
      "880:\tlearn: 0.0610435\ttotal: 981ms\tremaining: 132ms\n",
      "881:\tlearn: 0.0609577\ttotal: 982ms\tremaining: 131ms\n",
      "882:\tlearn: 0.0608641\ttotal: 983ms\tremaining: 130ms\n",
      "883:\tlearn: 0.0607901\ttotal: 984ms\tremaining: 129ms\n",
      "884:\tlearn: 0.0606550\ttotal: 985ms\tremaining: 128ms\n",
      "885:\tlearn: 0.0605377\ttotal: 986ms\tremaining: 127ms\n",
      "886:\tlearn: 0.0604795\ttotal: 987ms\tremaining: 126ms\n",
      "887:\tlearn: 0.0604574\ttotal: 988ms\tremaining: 125ms\n",
      "888:\tlearn: 0.0603920\ttotal: 989ms\tremaining: 124ms\n",
      "889:\tlearn: 0.0601876\ttotal: 990ms\tremaining: 122ms\n",
      "890:\tlearn: 0.0600868\ttotal: 991ms\tremaining: 121ms\n",
      "891:\tlearn: 0.0600087\ttotal: 992ms\tremaining: 120ms\n",
      "892:\tlearn: 0.0599235\ttotal: 993ms\tremaining: 119ms\n",
      "893:\tlearn: 0.0598257\ttotal: 994ms\tremaining: 118ms\n",
      "894:\tlearn: 0.0597335\ttotal: 996ms\tremaining: 117ms\n",
      "895:\tlearn: 0.0595954\ttotal: 997ms\tremaining: 116ms\n",
      "896:\tlearn: 0.0595309\ttotal: 998ms\tremaining: 115ms\n",
      "897:\tlearn: 0.0593970\ttotal: 999ms\tremaining: 113ms\n",
      "898:\tlearn: 0.0593259\ttotal: 1000ms\tremaining: 112ms\n",
      "899:\tlearn: 0.0592629\ttotal: 1s\tremaining: 111ms\n",
      "900:\tlearn: 0.0591882\ttotal: 1s\tremaining: 110ms\n",
      "901:\tlearn: 0.0590484\ttotal: 1s\tremaining: 109ms\n",
      "902:\tlearn: 0.0589553\ttotal: 1s\tremaining: 108ms\n",
      "903:\tlearn: 0.0588383\ttotal: 1s\tremaining: 107ms\n",
      "904:\tlearn: 0.0587048\ttotal: 1.01s\tremaining: 106ms\n",
      "905:\tlearn: 0.0586300\ttotal: 1.01s\tremaining: 105ms\n",
      "906:\tlearn: 0.0585107\ttotal: 1.01s\tremaining: 103ms\n",
      "907:\tlearn: 0.0584540\ttotal: 1.01s\tremaining: 102ms\n",
      "908:\tlearn: 0.0583407\ttotal: 1.01s\tremaining: 101ms\n",
      "909:\tlearn: 0.0582548\ttotal: 1.01s\tremaining: 100ms\n",
      "910:\tlearn: 0.0581826\ttotal: 1.01s\tremaining: 98.9ms\n",
      "911:\tlearn: 0.0580953\ttotal: 1.01s\tremaining: 97.8ms\n",
      "912:\tlearn: 0.0579959\ttotal: 1.01s\tremaining: 96.7ms\n",
      "913:\tlearn: 0.0579026\ttotal: 1.02s\tremaining: 95.6ms\n",
      "914:\tlearn: 0.0577754\ttotal: 1.02s\tremaining: 94.5ms\n",
      "915:\tlearn: 0.0576982\ttotal: 1.02s\tremaining: 93.4ms\n",
      "916:\tlearn: 0.0575979\ttotal: 1.02s\tremaining: 92.3ms\n",
      "917:\tlearn: 0.0574916\ttotal: 1.02s\tremaining: 91.2ms\n",
      "918:\tlearn: 0.0574298\ttotal: 1.02s\tremaining: 90.1ms\n",
      "919:\tlearn: 0.0573560\ttotal: 1.02s\tremaining: 89ms\n",
      "920:\tlearn: 0.0572655\ttotal: 1.02s\tremaining: 87.9ms\n",
      "921:\tlearn: 0.0572064\ttotal: 1.02s\tremaining: 86.7ms\n",
      "922:\tlearn: 0.0571613\ttotal: 1.03s\tremaining: 85.7ms\n",
      "923:\tlearn: 0.0570679\ttotal: 1.03s\tremaining: 84.5ms\n",
      "924:\tlearn: 0.0570017\ttotal: 1.03s\tremaining: 83.4ms\n",
      "925:\tlearn: 0.0569520\ttotal: 1.03s\tremaining: 82.3ms\n",
      "926:\tlearn: 0.0568616\ttotal: 1.03s\tremaining: 81.2ms\n",
      "927:\tlearn: 0.0568022\ttotal: 1.03s\tremaining: 80.1ms\n",
      "928:\tlearn: 0.0567653\ttotal: 1.03s\tremaining: 79ms\n",
      "929:\tlearn: 0.0567101\ttotal: 1.03s\tremaining: 77.9ms\n",
      "930:\tlearn: 0.0565922\ttotal: 1.03s\tremaining: 76.8ms\n",
      "931:\tlearn: 0.0565575\ttotal: 1.04s\tremaining: 75.7ms\n",
      "932:\tlearn: 0.0564407\ttotal: 1.04s\tremaining: 74.6ms\n",
      "933:\tlearn: 0.0562904\ttotal: 1.04s\tremaining: 73.5ms\n",
      "934:\tlearn: 0.0561914\ttotal: 1.04s\tremaining: 72.3ms\n",
      "935:\tlearn: 0.0561221\ttotal: 1.04s\tremaining: 71.2ms\n",
      "936:\tlearn: 0.0560650\ttotal: 1.04s\tremaining: 70.1ms\n",
      "937:\tlearn: 0.0559860\ttotal: 1.04s\tremaining: 69ms\n",
      "938:\tlearn: 0.0558810\ttotal: 1.04s\tremaining: 67.9ms\n",
      "939:\tlearn: 0.0558500\ttotal: 1.05s\tremaining: 66.8ms\n",
      "940:\tlearn: 0.0558010\ttotal: 1.05s\tremaining: 65.7ms\n",
      "941:\tlearn: 0.0557252\ttotal: 1.05s\tremaining: 64.6ms\n",
      "942:\tlearn: 0.0556577\ttotal: 1.05s\tremaining: 63.4ms\n",
      "943:\tlearn: 0.0556216\ttotal: 1.05s\tremaining: 62.3ms\n",
      "944:\tlearn: 0.0555583\ttotal: 1.05s\tremaining: 61.2ms\n",
      "945:\tlearn: 0.0554721\ttotal: 1.05s\tremaining: 60.1ms\n",
      "946:\tlearn: 0.0553415\ttotal: 1.05s\tremaining: 59ms\n",
      "947:\tlearn: 0.0552297\ttotal: 1.05s\tremaining: 57.9ms\n",
      "948:\tlearn: 0.0551282\ttotal: 1.06s\tremaining: 56.8ms\n",
      "949:\tlearn: 0.0550819\ttotal: 1.06s\tremaining: 55.6ms\n",
      "950:\tlearn: 0.0549649\ttotal: 1.06s\tremaining: 54.5ms\n",
      "951:\tlearn: 0.0548517\ttotal: 1.06s\tremaining: 53.4ms\n",
      "952:\tlearn: 0.0547938\ttotal: 1.06s\tremaining: 52.3ms\n",
      "953:\tlearn: 0.0546774\ttotal: 1.06s\tremaining: 51.2ms\n",
      "954:\tlearn: 0.0545236\ttotal: 1.06s\tremaining: 50.1ms\n",
      "955:\tlearn: 0.0544143\ttotal: 1.06s\tremaining: 49ms\n",
      "956:\tlearn: 0.0543379\ttotal: 1.06s\tremaining: 47.8ms\n",
      "957:\tlearn: 0.0542639\ttotal: 1.06s\tremaining: 46.7ms\n",
      "958:\tlearn: 0.0542099\ttotal: 1.07s\tremaining: 45.6ms\n",
      "959:\tlearn: 0.0541236\ttotal: 1.07s\tremaining: 44.5ms\n",
      "960:\tlearn: 0.0540010\ttotal: 1.07s\tremaining: 43.4ms\n",
      "961:\tlearn: 0.0539633\ttotal: 1.07s\tremaining: 42.3ms\n",
      "962:\tlearn: 0.0539180\ttotal: 1.07s\tremaining: 41.1ms\n",
      "963:\tlearn: 0.0538862\ttotal: 1.07s\tremaining: 40ms\n",
      "964:\tlearn: 0.0538079\ttotal: 1.07s\tremaining: 38.9ms\n",
      "965:\tlearn: 0.0537546\ttotal: 1.07s\tremaining: 37.8ms\n",
      "966:\tlearn: 0.0537107\ttotal: 1.07s\tremaining: 36.7ms\n"
     ]
    },
    {
     "name": "stdout",
     "output_type": "stream",
     "text": [
      "967:\tlearn: 0.0536586\ttotal: 1.08s\tremaining: 35.6ms\n",
      "968:\tlearn: 0.0535718\ttotal: 1.08s\tremaining: 34.5ms\n",
      "969:\tlearn: 0.0535171\ttotal: 1.08s\tremaining: 33.4ms\n",
      "970:\tlearn: 0.0534472\ttotal: 1.08s\tremaining: 32.3ms\n",
      "971:\tlearn: 0.0533928\ttotal: 1.08s\tremaining: 31.2ms\n",
      "972:\tlearn: 0.0533187\ttotal: 1.08s\tremaining: 30ms\n",
      "973:\tlearn: 0.0532984\ttotal: 1.08s\tremaining: 28.9ms\n",
      "974:\tlearn: 0.0532390\ttotal: 1.08s\tremaining: 27.8ms\n",
      "975:\tlearn: 0.0531732\ttotal: 1.08s\tremaining: 26.7ms\n",
      "976:\tlearn: 0.0530881\ttotal: 1.09s\tremaining: 25.6ms\n",
      "977:\tlearn: 0.0530040\ttotal: 1.09s\tremaining: 24.5ms\n",
      "978:\tlearn: 0.0529401\ttotal: 1.09s\tremaining: 23.3ms\n",
      "979:\tlearn: 0.0528059\ttotal: 1.09s\tremaining: 22.2ms\n",
      "980:\tlearn: 0.0527372\ttotal: 1.09s\tremaining: 21.1ms\n",
      "981:\tlearn: 0.0526961\ttotal: 1.09s\tremaining: 20ms\n",
      "982:\tlearn: 0.0526514\ttotal: 1.09s\tremaining: 18.9ms\n",
      "983:\tlearn: 0.0525572\ttotal: 1.09s\tremaining: 17.8ms\n",
      "984:\tlearn: 0.0524703\ttotal: 1.09s\tremaining: 16.7ms\n",
      "985:\tlearn: 0.0524113\ttotal: 1.09s\tremaining: 15.6ms\n",
      "986:\tlearn: 0.0523157\ttotal: 1.1s\tremaining: 14.5ms\n",
      "987:\tlearn: 0.0522453\ttotal: 1.1s\tremaining: 13.3ms\n",
      "988:\tlearn: 0.0521831\ttotal: 1.1s\tremaining: 12.2ms\n",
      "989:\tlearn: 0.0521107\ttotal: 1.1s\tremaining: 11.1ms\n",
      "990:\tlearn: 0.0520193\ttotal: 1.1s\tremaining: 10ms\n",
      "991:\tlearn: 0.0519355\ttotal: 1.1s\tremaining: 8.89ms\n",
      "992:\tlearn: 0.0518919\ttotal: 1.1s\tremaining: 7.78ms\n",
      "993:\tlearn: 0.0518169\ttotal: 1.1s\tremaining: 6.67ms\n",
      "994:\tlearn: 0.0517512\ttotal: 1.1s\tremaining: 5.55ms\n",
      "995:\tlearn: 0.0516424\ttotal: 1.11s\tremaining: 4.44ms\n",
      "996:\tlearn: 0.0516028\ttotal: 1.11s\tremaining: 3.33ms\n",
      "997:\tlearn: 0.0515126\ttotal: 1.11s\tremaining: 2.22ms\n",
      "998:\tlearn: 0.0514608\ttotal: 1.11s\tremaining: 1.11ms\n",
      "999:\tlearn: 0.0513932\ttotal: 1.11s\tremaining: 0us\n"
     ]
    },
    {
     "data": {
      "text/plain": [
       "<catboost.core.CatBoostRegressor at 0x7f7ffa4c3890>"
      ]
     },
     "execution_count": 9,
     "metadata": {},
     "output_type": "execute_result"
    }
   ],
   "source": [
    "#Train the Model \n",
    "prior_model = ctb.CatBoostRegressor()\n",
    "prior_model.fit(X_train,Y_train)"
   ]
  },
  {
   "cell_type": "code",
   "execution_count": 10,
   "id": "c775fd81",
   "metadata": {
    "execution": {
     "iopub.execute_input": "2022-01-14T13:58:19.211455Z",
     "iopub.status.busy": "2022-01-14T13:58:19.210774Z",
     "iopub.status.idle": "2022-01-14T13:58:19.223815Z",
     "shell.execute_reply": "2022-01-14T13:58:19.223312Z"
    },
    "papermill": {
     "duration": 0.049766,
     "end_time": "2022-01-14T13:58:19.223942",
     "exception": false,
     "start_time": "2022-01-14T13:58:19.174176",
     "status": "completed"
    },
    "tags": []
   },
   "outputs": [
    {
     "data": {
      "application/scrapbook.scrap.json+json": {
       "data": 0.1222607271917864,
       "encoder": "json",
       "name": "Prior Model MSE",
       "version": 1
      }
     },
     "metadata": {
      "scrapbook": {
       "data": true,
       "display": false,
       "name": "Prior Model MSE"
      }
     },
     "output_type": "display_data"
    },
    {
     "data": {
      "application/scrapbook.scrap.json+json": {
       "data": 0.12263081006061732,
       "encoder": "json",
       "name": "ABC Pre-generator MSE",
       "version": 1
      }
     },
     "metadata": {
      "scrapbook": {
       "data": true,
       "display": false,
       "name": "ABC Pre-generator MSE"
      }
     },
     "output_type": "display_data"
    }
   ],
   "source": [
    "y_pred = prior_model.predict(X_test)\n",
    "y_abc = y_pred + np.random.normal(0,variance, y_pred.shape)\n",
    "mse = mean_squared_error(y_pred,Y_test)\n",
    "sb.glue(\"Prior Model MSE\",mse)\n",
    "mse = mean_squared_error(y_abc,Y_test)\n",
    "sb.glue(\"ABC Pre-generator MSE\",mse)"
   ]
  },
  {
   "cell_type": "markdown",
   "id": "0cd0def6",
   "metadata": {
    "papermill": {
     "duration": 0.033172,
     "end_time": "2022-01-14T13:58:19.288995",
     "exception": false,
     "start_time": "2022-01-14T13:58:19.255823",
     "status": "completed"
    },
    "tags": []
   },
   "source": [
    "# ABC GAN Model"
   ]
  },
  {
   "cell_type": "markdown",
   "id": "70beaf4c",
   "metadata": {
    "papermill": {
     "duration": 0.030494,
     "end_time": "2022-01-14T13:58:19.350723",
     "exception": false,
     "start_time": "2022-01-14T13:58:19.320229",
     "status": "completed"
    },
    "tags": []
   },
   "source": [
    "### Training the network\n",
    "**Training ABC-GAN for n_epochs number of epochs** "
   ]
  },
  {
   "cell_type": "code",
   "execution_count": 11,
   "id": "dbaaafa1",
   "metadata": {
    "execution": {
     "iopub.execute_input": "2022-01-14T13:58:19.421429Z",
     "iopub.status.busy": "2022-01-14T13:58:19.420746Z",
     "iopub.status.idle": "2022-01-14T13:58:22.426055Z",
     "shell.execute_reply": "2022-01-14T13:58:22.425563Z"
    },
    "papermill": {
     "duration": 3.044104,
     "end_time": "2022-01-14T13:58:22.426213",
     "exception": false,
     "start_time": "2022-01-14T13:58:19.382109",
     "status": "completed"
    },
    "tags": []
   },
   "outputs": [],
   "source": [
    "gen = network.Generator(n_features+1).to(device)\n",
    "disc = network.Discriminator(n_features+1).to(device)\n",
    "\n",
    "criterion = torch.nn.BCELoss()\n",
    "gen_opt = torch.optim.Adam(gen.parameters(), lr=0.001, betas=(0.5, 0.999))\n",
    "disc_opt = torch.optim.Adam(disc.parameters(), lr=0.01, betas=(0.5, 0.999))"
   ]
  },
  {
   "cell_type": "code",
   "execution_count": 12,
   "id": "6e9eeab8",
   "metadata": {
    "execution": {
     "iopub.execute_input": "2022-01-14T13:58:22.492646Z",
     "iopub.status.busy": "2022-01-14T13:58:22.492068Z",
     "iopub.status.idle": "2022-01-14T14:04:06.107319Z",
     "shell.execute_reply": "2022-01-14T14:04:06.106830Z"
    },
    "papermill": {
     "duration": 343.649799,
     "end_time": "2022-01-14T14:04:06.107503",
     "exception": false,
     "start_time": "2022-01-14T13:58:22.457704",
     "status": "completed"
    },
    "tags": []
   },
   "outputs": [
    {
     "data": {
      "image/png": "[encoded data removed]",
      "text/plain": [
       "<Figure size 432x288 with 1 Axes>"
      ]
     },
     "metadata": {
      "needs_background": "light"
     },
     "output_type": "display_data"
    },
    {
     "data": {
      "image/png": "[encoded data removed]",
      "text/plain": [
       "<Figure size 432x288 with 1 Axes>"
      ]
     },
     "metadata": {
      "needs_background": "light"
     },
     "output_type": "display_data"
    }
   ],
   "source": [
    "#Training the ABC_GAN \n",
    "ABC_train_test2.training_GAN(disc,gen,disc_opt,gen_opt,train_data,batch_size,n_epochs,criterion,prior_model,variance,device)"
   ]
  },
  {
   "cell_type": "code",
   "execution_count": 13,
   "id": "11c3082e",
   "metadata": {
    "execution": {
     "iopub.execute_input": "2022-01-14T14:04:06.177151Z",
     "iopub.status.busy": "2022-01-14T14:04:06.176451Z",
     "iopub.status.idle": "2022-01-14T14:04:06.593010Z",
     "shell.execute_reply": "2022-01-14T14:04:06.592517Z"
    },
    "papermill": {
     "duration": 0.454111,
     "end_time": "2022-01-14T14:04:06.593172",
     "exception": false,
     "start_time": "2022-01-14T14:04:06.139061",
     "status": "completed"
    },
    "tags": []
   },
   "outputs": [
    {
     "data": {
      "application/scrapbook.scrap.json+json": {
       "data": 0.13183559990972124,
       "encoder": "json",
       "name": "ABC-GAN Model 1 MSE",
       "version": 1
      }
     },
     "metadata": {
      "scrapbook": {
       "data": true,
       "display": false,
       "name": "ABC-GAN Model 1 MSE"
      }
     },
     "output_type": "display_data"
    },
    {
     "data": {
      "application/scrapbook.scrap.json+json": {
       "data": 0.2626395813832242,
       "encoder": "json",
       "name": "ABC-GAN Model 1 MAE",
       "version": 1
      }
     },
     "metadata": {
      "scrapbook": {
       "data": true,
       "display": false,
       "name": "ABC-GAN Model 1 MAE"
      }
     },
     "output_type": "display_data"
    },
    {
     "data": {
      "application/scrapbook.scrap.json+json": {
       "data": 26.78923730108887,
       "encoder": "json",
       "name": "ABC-GAN Model 1 Manhattan Distance",
       "version": 1
      }
     },
     "metadata": {
      "scrapbook": {
       "data": true,
       "display": false,
       "name": "ABC-GAN Model 1 Manhattan Distance"
      }
     },
     "output_type": "display_data"
    },
    {
     "data": {
      "application/scrapbook.scrap.json+json": {
       "data": 3.667033917798416,
       "encoder": "json",
       "name": "ABC-GAN Model 1 Euclidean distance",
       "version": 1
      }
     },
     "metadata": {
      "scrapbook": {
       "data": true,
       "display": false,
       "name": "ABC-GAN Model 1 Euclidean distance"
      }
     },
     "output_type": "display_data"
    },
    {
     "data": {
      "application/scrapbook.scrap.json+json": {
       "data": [
        [
         0.13226463415278705,
         0.13171681244723918,
         0.13238792223835583,
         0.13109152656000314,
         0.1314048450070784,
         0.1317365310010453,
         0.13291496346693588,
         0.1301570893643308,
         0.13311962670627506,
         0.13171070207656793,
         0.13181520461306828,
         0.13198671907581672,
         0.1320082374709763,
         0.13130945971581137,
         0.13132594278347975,
         0.1302223082827247,
         0.13144521960128144,
         0.13207137632379806,
         0.13185897584746786,
         0.1324262242234607,
         0.13125923569117978,
         0.1320386924437303,
         0.13094100287402313,
         0.1311332312932617,
         0.13188473234705458,
         0.1314348107808818,
         0.13133435994651704,
         0.13149120485550117,
         0.131583985600705,
         0.13220403183261437,
         0.13219902473721004,
         0.13147547375626442,
         0.13019137146026138,
         0.1327851112502962,
         0.13179638196624383,
         0.13034934196756054,
         0.13233346046752278,
         0.13120838732332404,
         0.13193259156049314,
         0.13158760730947022,
         0.13233066581025965,
         0.13196373970926736,
         0.1315281590592663,
         0.13292848332444257,
         0.13231593434015573,
         0.13092406917993352,
         0.13232539383399444,
         0.13156424162409414,
         0.1316521403993795,
         0.13251294865611066,
         0.13306135211110715,
         0.13195256926896268,
         0.13260238368073915,
         0.13207186056277614,
         0.13300221606697837,
         0.13137270527977266,
         0.13135437310947448,
         0.13286860814603735,
         0.1319395550088323,
         0.13293818281171665,
         0.13330788305703142,
         0.1312552726660614,
         0.13162025788494483,
         0.13111879249098465,
         0.13130195674715225,
         0.1314421077391229,
         0.13198424351715832,
         0.13125956014697546,
         0.13207640221972478,
         0.13106532259211173,
         0.13304234487422065,
         0.13208109016116376,
         0.13097028641088296,
         0.13140525893464816,
         0.1327834946182836,
         0.13149980267529413,
         0.13345511752452777,
         0.1312238369009171,
         0.13171722358206925,
         0.13140287265200565,
         0.13138605514099191,
         0.13236174402617304,
         0.13293254228440063,
         0.13320201084735106,
         0.13158086139764685,
         0.1312028157038413,
         0.13162619665319958,
         0.1313919290682817,
         0.13201436200915287,
         0.1330493004119101,
         0.13125639116213475,
         0.13104266825229624,
         0.1320668985006929,
         0.13173562792181645,
         0.13226137531731832,
         0.13169546521173436,
         0.13216023720430178,
         0.13115559349329364,
         0.13202314053758896,
         0.13205370602679614
        ],
        [
         0.26310954185421853,
         0.263016369933372,
         0.2620223770922452,
         0.2626633971436497,
         0.26215336742975254,
         0.26210391675761224,
         0.26377728472774226,
         0.2606210279935861,
         0.2639556805530161,
         0.26310996829039035,
         0.26199418730924234,
         0.2617695439040807,
         0.2634474804679699,
         0.2620419962240346,
         0.2623095624240152,
         0.2616879117638603,
         0.2631672938609971,
         0.2636841336977394,
         0.2626904228830016,
         0.2624630432155933,
         0.2623531606650966,
         0.26145772804853085,
         0.2609976536740421,
         0.26193957608741,
         0.2639103127990429,
         0.2608034021367191,
         0.26244483816017417,
         0.26286559896178396,
         0.26166908385451226,
         0.2628229096915354,
         0.2626768129366432,
         0.26113465969797733,
         0.2617860543906835,
         0.2638730253458169,
         0.2613291296395747,
         0.2622200964365666,
         0.2642174840941295,
         0.2624053693668661,
         0.26294167581763045,
         0.2625450708209446,
         0.2636450789960138,
         0.26335616688262303,
         0.26272924836980655,
         0.2630183897711629,
         0.26258230378266934,
         0.2620329223664514,
         0.2628156238272056,
         0.26209829317624955,
         0.2624950268050181,
         0.2631412418833112,
         0.2632103707075265,
         0.2630117345765671,
         0.2641644205478038,
         0.26271368206168216,
         0.2639886064217517,
         0.26280020302453755,
         0.26206177525112734,
         0.264430392031357,
         0.2637220632157051,
         0.26390370223488585,
         0.263585969084399,
         0.2624419132959755,
         0.2630593252331749,
         0.26140045105278786,
         0.2624370777961232,
         0.26266982421899837,
         0.26339987038141666,
         0.2620098130759217,
         0.2629611596702507,
         0.2618703113996661,
         0.26244828843639467,
         0.26321685775274445,
         0.2603479644338436,
         0.26166578375862215,
         0.263966806899464,
         0.2627376223110831,
         0.26471174786816914,
         0.2621121911386795,
         0.2624159326101197,
         0.2628417782138522,
         0.26210536333896656,
         0.2621999456108931,
         0.26274669499994785,
         0.2639050621119346,
         0.2624854433861579,
         0.2612136967717579,
         0.2623589168960119,
         0.26316492954342097,
         0.2636485426394525,
         0.26437701095881705,
         0.26204208986760646,
         0.2617750357124297,
         0.26175685037913565,
         0.2632038862188803,
         0.2630855676389354,
         0.2613131284951141,
         0.26247412814557847,
         0.2625395222567022,
         0.26249329001624505,
         0.2626649486174917
        ],
        [
         26.83717326913029,
         26.827669733203948,
         26.726282463409007,
         26.79166650865227,
         26.73964347783476,
         26.73459950927645,
         26.905283042229712,
         26.583344855345786,
         26.923479416407645,
         26.837216765619814,
         26.72340710554272,
         26.70049347821623,
         26.871643007732928,
         26.728283614851534,
         26.75557536724955,
         26.692166999913752,
         26.8430639738217,
         26.89578163716942,
         26.794423134066164,
         26.771230407990515,
         26.760022387839854,
         26.668688260950148,
         26.621760674752295,
         26.717836760915816,
         26.91885190550238,
         26.60194701794535,
         26.769373492337763,
         26.812291094101965,
         26.69024655316025,
         26.807936788536608,
         26.793034919537604,
         26.63573528919369,
         26.702177547849715,
         26.915048585273325,
         26.65557122323662,
         26.74644983652979,
         26.950183377601206,
         26.765347675420344,
         26.820050933398306,
         26.779597223736346,
         26.891798057593405,
         26.862329022027552,
         26.798383333720267,
         26.827875756658614,
         26.783394985832274,
         26.727358081378043,
         26.807193630374968,
         26.734025903977454,
         26.774492734111845,
         26.840406672097743,
         26.847457812167704,
         26.827196926809847,
         26.94477089587599,
         26.79679557029158,
         26.926837855018675,
         26.80562070850283,
         26.73030107561499,
         26.971899987198412,
         26.89965044800192,
         26.918177627958357,
         26.8857688466087,
         26.7690751561895,
         26.83205117378384,
         26.66284600738436,
         26.768581935204566,
         26.792322070337832,
         26.866786778904498,
         26.725000933744013,
         26.82203828636557,
         26.710771762765944,
         26.76972542051226,
         26.848119490779936,
         26.555492372252047,
         26.68990994337946,
         26.92461430374533,
         26.79923747573048,
         27.000598282553256,
         26.735443496145308,
         26.766425126232207,
         26.809861377812922,
         26.73474706057459,
         26.7443944523111,
         26.80016288999468,
         26.91831633541733,
         26.77351522538811,
         26.6437970707193,
         26.760609523393214,
         26.84282281342894,
         26.89215134922415,
         26.96645511779934,
         26.72829316649586,
         26.70105364266783,
         26.69919873867184,
         26.846796394325793,
         26.834727899171412,
         26.65393910650164,
         26.772361070849,
         26.779031270183623,
         26.774315581656992,
         26.79182475898415
        ],
        [
         3.6730086691409105,
         3.6653942311323613,
         3.6747201346922034,
         3.6566837037294215,
         3.661050968058489,
         3.6656685832337077,
         3.682027467799155,
         3.643627741024286,
         3.684861181108463,
         3.665309210941135,
         3.6667629962315487,
         3.6691477683153213,
         3.669446855050442,
         3.659721969086281,
         3.6599516614178027,
         3.6445404984494165,
         3.6616133601638916,
         3.670324288809833,
         3.6673717477836525,
         3.675251674483394,
         3.659022006014768,
         3.6698701106797347,
         3.6545837373291032,
         3.657265316040483,
         3.6677299109121395,
         3.6614683802608403,
         3.6600689494249603,
         3.6622537999517624,
         3.663545622927591,
         3.672167104984013,
         3.6720975644984466,
         3.66203472445838,
         3.6441075572692228,
         3.6802284368677736,
         3.6665011878570106,
         3.646317715269909,
         3.673964203375875,
         3.658313205150572,
         3.668395335725186,
         3.6635960401722736,
         3.6739254092382554,
         3.6688283484438555,
         3.6627683825277795,
         3.6822147274559014,
         3.673720907022727,
         3.654347418671796,
         3.6738522249904717,
         3.6632707578962274,
         3.6644942789881254,
         3.6764549178418187,
         3.684054548365555,
         3.6686730660327576,
         3.677695356529058,
         3.6703310174156183,
         3.683235810918409,
         3.660603220582206,
         3.6603478054914946,
         3.681385341267035,
         3.668492144042413,
         3.6823490663970335,
         3.6874658061895573,
         3.6589667683566436,
         3.6640505324387074,
         3.6570639636299,
         3.659617410086678,
         3.661570016999612,
         3.669113358667207,
         3.659026528325738,
         3.670394124125082,
         3.6563182170587116,
         3.68379141336348,
         3.670459262331991,
         3.6549923685159804,
         3.6610567342413733,
         3.6802060337792137,
         3.662373529950216,
         3.6895015906625974,
         3.658528579072952,
         3.6653999516247975,
         3.66102349220878,
         3.660789207859581,
         3.674356799586785,
         3.6822709450838707,
         3.6860012352724203,
         3.6635021308250906,
         3.6582355312078816,
         3.664133193352332,
         3.6608710391059582,
         3.669531976278936,
         3.6838877075740006,
         3.658982358325569,
         3.6560022103021512,
         3.6702620679006936,
         3.6656560187809872,
         3.6729634196880414,
         3.6650971953819877,
         3.6715588235569347,
         3.65757714017298,
         3.669653980259457,
         3.670078747756403
        ]
       ],
       "encoder": "json",
       "name": "ABC_GAN_1 Metrics",
       "version": 1
      }
     },
     "metadata": {
      "scrapbook": {
       "data": true,
       "display": false,
       "name": "ABC_GAN_1 Metrics"
      }
     },
     "output_type": "display_data"
    }
   ],
   "source": [
    "ABC_GAN1_metrics=ABC_train_test2.test_generator(gen,test_data,prior_model,variance,\"1\",device)\n",
    "sb.glue(\"ABC_GAN_1 Metrics\",ABC_GAN1_metrics)"
   ]
  },
  {
   "cell_type": "markdown",
   "id": "394a2b9d",
   "metadata": {
    "papermill": {
     "duration": 0.035985,
     "end_time": "2022-01-14T14:04:06.677662",
     "exception": false,
     "start_time": "2022-01-14T14:04:06.641677",
     "status": "completed"
    },
    "tags": []
   },
   "source": [
    "#### Sanity Checks "
   ]
  },
  {
   "cell_type": "code",
   "execution_count": 14,
   "id": "a36b3b22",
   "metadata": {
    "execution": {
     "iopub.execute_input": "2022-01-14T14:04:06.751733Z",
     "iopub.status.busy": "2022-01-14T14:04:06.751124Z",
     "iopub.status.idle": "2022-01-14T14:04:07.515685Z",
     "shell.execute_reply": "2022-01-14T14:04:07.515177Z"
    },
    "papermill": {
     "duration": 0.803404,
     "end_time": "2022-01-14T14:04:07.515846",
     "exception": false,
     "start_time": "2022-01-14T14:04:06.712442",
     "status": "completed"
    },
    "tags": []
   },
   "outputs": [
    {
     "data": {
      "image/png": "[encoded data removed]",
      "text/plain": [
       "<Figure size 432x288 with 1 Axes>"
      ]
     },
     "metadata": {
      "needs_background": "light"
     },
     "output_type": "display_data"
    },
    {
     "data": {
      "image/png": "[encoded data removed]",
      "text/plain": [
       "<Figure size 432x288 with 1 Axes>"
      ]
     },
     "metadata": {
      "needs_background": "light"
     },
     "output_type": "display_data"
    },
    {
     "data": {
      "image/png": "[encoded data removed]",
      "text/plain": [
       "<Figure size 432x288 with 1 Axes>"
      ]
     },
     "metadata": {
      "needs_background": "light"
     },
     "output_type": "display_data"
    },
    {
     "data": {
      "image/png": "[encoded data removed]",
      "text/plain": [
       "<Figure size 432x288 with 1 Axes>"
      ]
     },
     "metadata": {
      "needs_background": "light"
     },
     "output_type": "display_data"
    }
   ],
   "source": [
    "sanityChecks.discProbVsError(train_data,disc,device)\n",
    "sanityChecks.discProbVsError(test_data,disc,device)"
   ]
  },
  {
   "cell_type": "markdown",
   "id": "130f3a4d",
   "metadata": {
    "papermill": {
     "duration": 0.040266,
     "end_time": "2022-01-14T14:04:07.597059",
     "exception": false,
     "start_time": "2022-01-14T14:04:07.556793",
     "status": "completed"
    },
    "tags": []
   },
   "source": [
    "# ABC - GAN Model with skip connection"
   ]
  },
  {
   "cell_type": "code",
   "execution_count": 15,
   "id": "4e43dad1",
   "metadata": {
    "execution": {
     "iopub.execute_input": "2022-01-14T14:04:07.682977Z",
     "iopub.status.busy": "2022-01-14T14:04:07.682331Z",
     "iopub.status.idle": "2022-01-14T14:04:07.687425Z",
     "shell.execute_reply": "2022-01-14T14:04:07.686781Z"
    },
    "papermill": {
     "duration": 0.051552,
     "end_time": "2022-01-14T14:04:07.687590",
     "exception": false,
     "start_time": "2022-01-14T14:04:07.636038",
     "status": "completed"
    },
    "tags": []
   },
   "outputs": [],
   "source": [
    "#Generator\n",
    "gen3 = network.GeneratorWithSkipConnection(n_features+1).to(device)\n",
    "constraints=network.weightConstraint()\n",
    "#Discriminator \n",
    "disc3 = network.Discriminator(n_features+1).to(device)\n",
    "\n",
    "criterion = torch.nn.BCELoss()\n",
    "gen_opt = torch.optim.Adam(gen3.parameters(), lr=0.01, betas=(0.5, 0.999))\n",
    "disc_opt = torch.optim.Adam(disc3.parameters(), lr=0.01, betas=(0.5, 0.999))\n"
   ]
  },
  {
   "cell_type": "code",
   "execution_count": 16,
   "id": "26acbc37",
   "metadata": {
    "execution": {
     "iopub.execute_input": "2022-01-14T14:04:07.770639Z",
     "iopub.status.busy": "2022-01-14T14:04:07.770086Z",
     "iopub.status.idle": "2022-01-14T14:41:18.807902Z",
     "shell.execute_reply": "2022-01-14T14:41:18.807397Z"
    },
    "papermill": {
     "duration": 2231.080955,
     "end_time": "2022-01-14T14:41:18.808036",
     "exception": false,
     "start_time": "2022-01-14T14:04:07.727081",
     "status": "completed"
    },
    "tags": []
   },
   "outputs": [
    {
     "data": {
      "image/png": "[encoded data removed]",
      "text/plain": [
       "<Figure size 432x288 with 1 Axes>"
      ]
     },
     "metadata": {
      "needs_background": "light"
     },
     "output_type": "display_data"
    },
    {
     "data": {
      "image/png": "[encoded data removed]",
      "text/plain": [
       "<Figure size 432x288 with 1 Axes>"
      ]
     },
     "metadata": {
      "needs_background": "light"
     },
     "output_type": "display_data"
    }
   ],
   "source": [
    "ABC_train_test2.training_GAN_skip_connection(disc3,gen3,disc_opt,gen_opt,train_data,batch_size,n_epochs,criterion,prior_model,variance,device)\n"
   ]
  },
  {
   "cell_type": "code",
   "execution_count": 17,
   "id": "c5e0717b",
   "metadata": {
    "execution": {
     "iopub.execute_input": "2022-01-14T14:41:18.895019Z",
     "iopub.status.busy": "2022-01-14T14:41:18.894348Z",
     "iopub.status.idle": "2022-01-14T14:41:20.890612Z",
     "shell.execute_reply": "2022-01-14T14:41:20.891063Z"
    },
    "papermill": {
     "duration": 2.041778,
     "end_time": "2022-01-14T14:41:20.891239",
     "exception": false,
     "start_time": "2022-01-14T14:41:18.849461",
     "status": "completed"
    },
    "tags": []
   },
   "outputs": [
    {
     "data": {
      "application/scrapbook.scrap.json+json": {
       "data": 0.12973054948343143,
       "encoder": "json",
       "name": "ABC-GAN Model 3 MSE",
       "version": 1
      }
     },
     "metadata": {
      "scrapbook": {
       "data": true,
       "display": false,
       "name": "ABC-GAN Model 3 MSE"
      }
     },
     "output_type": "display_data"
    },
    {
     "data": {
      "application/scrapbook.scrap.json+json": {
       "data": 0.23348997648902678,
       "encoder": "json",
       "name": "ABC-GAN Model 3 MAE",
       "version": 1
      }
     },
     "metadata": {
      "scrapbook": {
       "data": true,
       "display": false,
       "name": "ABC-GAN Model 3 MAE"
      }
     },
     "output_type": "display_data"
    },
    {
     "data": {
      "application/scrapbook.scrap.json+json": {
       "data": 23.815977601880732,
       "encoder": "json",
       "name": "ABC-GAN Model 3 Manhattan Distance",
       "version": 1
      }
     },
     "metadata": {
      "scrapbook": {
       "data": true,
       "display": false,
       "name": "ABC-GAN Model 3 Manhattan Distance"
      }
     },
     "output_type": "display_data"
    },
    {
     "data": {
      "application/scrapbook.scrap.json+json": {
       "data": 3.6376382526566062,
       "encoder": "json",
       "name": "ABC-GAN Model 3 Euclidean distance",
       "version": 1
      }
     },
     "metadata": {
      "scrapbook": {
       "data": true,
       "display": false,
       "name": "ABC-GAN Model 3 Euclidean distance"
      }
     },
     "output_type": "display_data"
    },
    {
     "data": {
      "application/scrapbook.scrap.json+json": {
       "data": [
        [
         0.12929158556266532,
         0.12871718308780156,
         0.13027421976087103,
         0.1306032460759586,
         0.1297960706981439,
         0.1293477775345571,
         0.1306821408008519,
         0.13056054277704676,
         0.1285960758998013,
         0.1301931890309086,
         0.1300646958105157,
         0.12922211125822505,
         0.1306382674683088,
         0.12980190359968952,
         0.13015701200699753,
         0.1295754735707886,
         0.130487123480124,
         0.12986168592548863,
         0.1296798197467958,
         0.1297177454758987,
         0.12940468951780865,
         0.12959330164756444,
         0.1298722978025799,
         0.12865266428293398,
         0.12982002099095086,
         0.13038984611782486,
         0.12813972269558907,
         0.1295003911208941,
         0.12899906834601063,
         0.1300368416944986,
         0.13093282910303114,
         0.1303968764954114,
         0.1288965204130073,
         0.13092209980318498,
         0.12883593474676597,
         0.1301572408354535,
         0.1304397154415825,
         0.13002249904977242,
         0.1315944841910543,
         0.12920883074569453,
         0.12988241394822228,
         0.12980219261571216,
         0.12970860154910005,
         0.12917919933984098,
         0.1286115640692642,
         0.130368006920211,
         0.12979103914596024,
         0.12875580813039436,
         0.12928527789966568,
         0.13010004273766157,
         0.13011221273997395,
         0.12977748273319445,
         0.1297967750478405,
         0.1293451428528515,
         0.127963657115069,
         0.1298203742680913,
         0.13020942107395533,
         0.130311631004363,
         0.12996553354310192,
         0.1291977886507999,
         0.13064310234949122,
         0.1297585452561246,
         0.1292724895429718,
         0.12850479892455197,
         0.12930546607384907,
         0.13042281231439662,
         0.12987483693281834,
         0.12858160509841515,
         0.12853775962998096,
         0.12840885938195737,
         0.13079810871767253,
         0.1289889158547576,
         0.12932340824072064,
         0.12956597589511107,
         0.13028570961958377,
         0.13065472980878762,
         0.13133634783096118,
         0.13008028530431434,
         0.1289933443403414,
         0.12866795578250564,
         0.1293233423500035,
         0.13005649497738125,
         0.12911891028355038,
         0.13074204677207257,
         0.13049457286584876,
         0.13018470810127397,
         0.1307001748007991,
         0.1303288614817442,
         0.1299340070603437,
         0.13004243803385795,
         0.1288294519519423,
         0.1298811017738101,
         0.12895639599430506,
         0.13004595226360016,
         0.1285574619381383,
         0.1290773443850406,
         0.13044647512967855,
         0.130367139704789,
         0.12954193300617592,
         0.12935316857114906
        ],
        [
         0.2334428686721652,
         0.23171382626591652,
         0.2346527898118046,
         0.23445301784165934,
         0.23242440485559843,
         0.23260386335188707,
         0.23414819840086148,
         0.23515019370425566,
         0.23215231742235085,
         0.2337812709932526,
         0.23247820397327637,
         0.23275005582756564,
         0.23366740433608785,
         0.23297741557197535,
         0.23381870475542896,
         0.23396226435936257,
         0.23412883291751438,
         0.23386959169133037,
         0.23224914290339632,
         0.23426249679680183,
         0.2323736583622282,
         0.23419893503773445,
         0.23410063382128582,
         0.2329791477064182,
         0.23276316406497477,
         0.23607657328430637,
         0.230551536505421,
         0.23232010820442262,
         0.2317818515276646,
         0.23454216569570788,
         0.23484773741688067,
         0.2345824018303378,
         0.23337412722107462,
         0.23423738747506456,
         0.23240682519241876,
         0.23372762205818778,
         0.23433345275721057,
         0.23478791511654123,
         0.23505936835107266,
         0.23410656276232034,
         0.23371400065062678,
         0.23534126423998947,
         0.2335070266169222,
         0.2342488383782991,
         0.23218551294549422,
         0.23447613092139363,
         0.23364698993242985,
         0.23289954732628723,
         0.23347191896983513,
         0.23416136049747685,
         0.23409430623310162,
         0.23500670926581485,
         0.23408270572704792,
         0.2344396658899153,
         0.23150713428256886,
         0.23388499344753869,
         0.23393183072695656,
         0.23476298002288767,
         0.2340348424371697,
         0.23308655782146195,
         0.23550826910992756,
         0.23481500225470348,
         0.23257746053494366,
         0.2331073739401558,
         0.2335184426868663,
         0.23412375625989892,
         0.2330212591526409,
         0.23168668485995308,
         0.23215622812801717,
         0.23277365936276814,
         0.23411463062260665,
         0.2322993197058346,
         0.23216362326752907,
         0.23300977689259703,
         0.23436186117503574,
         0.2336899064042989,
         0.23377205376677654,
         0.23544793612524575,
         0.23173167454261406,
         0.23276494224738403,
         0.233505870003308,
         0.23415622282453685,
         0.23221195100204034,
         0.2349074991310344,
         0.23434139057701708,
         0.23292957021233937,
         0.23488613062848648,
         0.23436534911047155,
         0.23239671884506358,
         0.23269125823771544,
         0.23190419153109484,
         0.23330102647271225,
         0.23121601587855348,
         0.23315654183719672,
         0.23269510396993628,
         0.23094590635531964,
         0.23425570697359302,
         0.2332465315931568,
         0.23372895799248533,
         0.2331894895098373
        ],
        [
         23.811172604560852,
         23.634810279123485,
         23.93458456080407,
         23.914207819849253,
         23.70728929527104,
         23.72559406189248,
         23.883116236887872,
         23.985319757834077,
         23.679536377079785,
         23.845689641311765,
         23.71277680527419,
         23.740505694411695,
         23.83407524228096,
         23.763696388341486,
         23.849507885053754,
         23.864150964654982,
         23.881140957586467,
         23.854698352515697,
         23.689412576146424,
         23.894774673273787,
         23.702113152947277,
         23.888291373848915,
         23.878264649771154,
         23.763873066054657,
         23.741842734627426,
         24.07981047499925,
         23.516256723552942,
         23.696651036851108,
         23.64174885582179,
         23.923300900962204,
         23.95446921652183,
         23.927404986694455,
         23.80416097654961,
         23.892213522456586,
         23.705496169626713,
         23.840217449935153,
         23.902012181235477,
         23.948367341887206,
         23.97605557180941,
         23.878869401756674,
         23.83882806636393,
         24.004808952478925,
         23.817716714926064,
         23.89338151458651,
         23.68292232044041,
         23.91656535398215,
         23.831992973107845,
         23.755753827281296,
         23.814135734923184,
         23.88445877074264,
         23.877619235776365,
         23.970684345113114,
         23.87643598415889,
         23.91284592077136,
         23.613727696822025,
         23.856269331648946,
         23.861046734149568,
         23.945823962334543,
         23.87155392859131,
         23.77482889778912,
         24.02184344921261,
         23.951130229979753,
         23.722900974564254,
         23.77695214189589,
         23.818881154060364,
         23.88062313850969,
         23.76816843356937,
         23.632041855715215,
         23.67993526905775,
         23.74291325500235,
         23.87969232350588,
         23.694530609995127,
         23.680689573287964,
         23.766997243044898,
         23.904909839853644,
         23.836370453238487,
         23.844749484211206,
         24.015689484775066,
         23.636630803346634,
         23.74202410923317,
         23.817598740337417,
         23.88393472810276,
         23.685619002208114,
         23.96056491136551,
         23.902821838855743,
         23.758816161658615,
         23.95838532410562,
         23.9052656092681,
         23.704465322196484,
         23.734508340246975,
         23.654227536171675,
         23.79670470021665,
         23.584033619612455,
         23.781967267394066,
         23.7349006049335,
         23.556482448242605,
         23.89408211130649,
         23.791146222501993,
         23.840353715233505,
         23.785327930003405
        ],
        [
         3.6314930438308513,
         3.623417264814495,
         3.6452668510835853,
         3.6498672715247853,
         3.6385710397367093,
         3.6322821075082836,
         3.6509695098270663,
         3.649270524811605,
         3.621712266563942,
         3.644132994438139,
         3.6423342752516,
         3.6305172287621708,
         3.6503565965214277,
         3.6386527956330657,
         3.643626658250506,
         3.6354777270972845,
         3.6482443167875482,
         3.639490618809155,
         3.636941244256383,
         3.6374730292528175,
         3.6330811071068148,
         3.6357278182025086,
         3.6396393194742735,
         3.622509041653211,
         3.6389067233273487,
         3.6468841911991308,
         3.6152803093190546,
         3.63442428650415,
         3.627382661271497,
         3.641944240764657,
         3.6544696699396995,
         3.646982506474629,
         3.6259405789569614,
         3.654319933985647,
         3.625088322257835,
         3.6436298611708984,
         3.647581524111752,
         3.641743387867519,
         3.6636917702622767,
         3.6303306648376874,
         3.6397810679653078,
         3.6386568465304117,
         3.63734482253308,
         3.6299143698803387,
         3.621930360327894,
         3.646578767264122,
         3.638500514344878,
         3.623960875796015,
         3.6314044591267853,
         3.6428291696484307,
         3.642999547004823,
         3.638310492355736,
         3.638580912234843,
         3.6322451143873615,
         3.6127957354017455,
         3.638911674573225,
         3.6443601563983004,
         3.6457902246899825,
         3.64094553947136,
         3.630175538783434,
         3.6504241451710926,
         3.638045026676375,
         3.6312248530465756,
         3.6204267000319597,
         3.631687973867332,
         3.6473451791773766,
         3.6396748985517196,
         3.621508486810205,
         3.6208909790627573,
         3.6190749725530216,
         3.65258909394454,
         3.6272399172353182,
         3.63193992799351,
         3.6353444872943363,
         3.6454275992258505,
         3.650586588549343,
         3.660096648827465,
         3.6425525529551477,
         3.6273021824373584,
         3.622724318771106,
         3.6319390027505083,
         3.6422194452960808,
         3.6290672147153926,
         3.651806234009603,
         3.6483484526997376,
         3.6440143010600194,
         3.6512214161402903,
         3.646031249336448,
         3.6405039101963697,
         3.6420226083116933,
         3.6249971171158353,
         3.639762681951755,
         3.62678265014863,
         3.6420718184691547,
         3.6211684740826557,
         3.628483033896416,
         3.647676035947713,
         3.646566638618918,
         3.635007175595386,
         3.6323578009685664
        ]
       ],
       "encoder": "json",
       "name": "ABC_GAN_3 Metrics",
       "version": 1
      }
     },
     "metadata": {
      "scrapbook": {
       "data": true,
       "display": false,
       "name": "ABC_GAN_3 Metrics"
      }
     },
     "output_type": "display_data"
    }
   ],
   "source": [
    "ABC_GAN3_metrics=ABC_train_test2.test_generator(gen3,test_data,prior_model,variance,\"3\",device)\n",
    "sb.glue(\"ABC_GAN_3 Metrics\",ABC_GAN3_metrics)"
   ]
  },
  {
   "cell_type": "code",
   "execution_count": 18,
   "id": "c8e46b48",
   "metadata": {
    "execution": {
     "iopub.execute_input": "2022-01-14T14:41:20.987102Z",
     "iopub.status.busy": "2022-01-14T14:41:20.986012Z",
     "iopub.status.idle": "2022-01-14T14:41:21.823629Z",
     "shell.execute_reply": "2022-01-14T14:41:21.823081Z"
    },
    "papermill": {
     "duration": 0.886598,
     "end_time": "2022-01-14T14:41:21.823776",
     "exception": false,
     "start_time": "2022-01-14T14:41:20.937178",
     "status": "completed"
    },
    "tags": []
   },
   "outputs": [
    {
     "data": {
      "image/png": "[encoded data removed]",
      "text/plain": [
       "<Figure size 432x288 with 1 Axes>"
      ]
     },
     "metadata": {
      "needs_background": "light"
     },
     "output_type": "display_data"
    },
    {
     "data": {
      "image/png": "[encoded data removed]",
      "text/plain": [
       "<Figure size 432x288 with 1 Axes>"
      ]
     },
     "metadata": {
      "needs_background": "light"
     },
     "output_type": "display_data"
    },
    {
     "data": {
      "image/png": "[encoded data removed]",
      "text/plain": [
       "<Figure size 432x288 with 1 Axes>"
      ]
     },
     "metadata": {
      "needs_background": "light"
     },
     "output_type": "display_data"
    },
    {
     "data": {
      "image/png": "[encoded data removed]",
      "text/plain": [
       "<Figure size 432x288 with 1 Axes>"
      ]
     },
     "metadata": {
      "needs_background": "light"
     },
     "output_type": "display_data"
    }
   ],
   "source": [
    "sanityChecks.discProbVsError(train_data,disc,device)\n",
    "sanityChecks.discProbVsError(test_data,disc3,device)"
   ]
  },
  {
   "cell_type": "markdown",
   "id": "a5bd74c3",
   "metadata": {
    "papermill": {
     "duration": 0.053554,
     "end_time": "2022-01-14T14:41:21.927557",
     "exception": false,
     "start_time": "2022-01-14T14:41:21.874003",
     "status": "completed"
    },
    "tags": []
   },
   "source": [
    "## Skip Connection Model Analysis - ABC-GAN "
   ]
  },
  {
   "cell_type": "markdown",
   "id": "5744a8bf",
   "metadata": {
    "papermill": {
     "duration": 0.050709,
     "end_time": "2022-01-14T14:41:22.028270",
     "exception": false,
     "start_time": "2022-01-14T14:41:21.977561",
     "status": "completed"
    },
    "tags": []
   },
   "source": [
    "### Weight Analysis \n",
    "\n",
    "Study the weights of the skip connection layer\n",
    "\n",
    "Equation of the skip connection is \n",
    "\n",
    "$output = y_{gan} * w + y_{abc} * (1-w)$"
   ]
  },
  {
   "cell_type": "code",
   "execution_count": 19,
   "id": "52c31dea",
   "metadata": {
    "execution": {
     "iopub.execute_input": "2022-01-14T14:41:22.142230Z",
     "iopub.status.busy": "2022-01-14T14:41:22.141245Z",
     "iopub.status.idle": "2022-01-14T14:41:22.151379Z",
     "shell.execute_reply": "2022-01-14T14:41:22.150943Z"
    },
    "papermill": {
     "duration": 0.065632,
     "end_time": "2022-01-14T14:41:22.151540",
     "exception": false,
     "start_time": "2022-01-14T14:41:22.085908",
     "status": "completed"
    },
    "tags": []
   },
   "outputs": [
    {
     "name": "stdout",
     "output_type": "stream",
     "text": [
      "Weight of the node at skip connection\n",
      "Parameter containing:\n",
      "tensor([[0.0497]], device='cuda:0', requires_grad=True)\n"
     ]
    },
    {
     "data": {
      "application/scrapbook.scrap.json+json": {
       "data": 0.049658916890621185,
       "encoder": "json",
       "name": "Skip Connection Weight",
       "version": 1
      }
     },
     "metadata": {
      "scrapbook": {
       "data": true,
       "display": false,
       "name": "Skip Connection Weight"
      }
     },
     "output_type": "display_data"
    }
   ],
   "source": [
    "print(\"Weight of the node at skip connection\")\n",
    "for name,param in gen3.named_parameters():\n",
    "    if(name == \"skipNode.weight\"):\n",
    "        print(param)\n",
    "        sb.glue(\"Skip Connection Weight\",param.item())"
   ]
  }
 ],
 "metadata": {
  "interpreter": {
   "hash": "10498c76ddd8160350534c6544a2b2fb65f2138dbc70420f7c81a3268f830f23"
  },
  "kernelspec": {
   "display_name": "papermill-tutorial",
   "language": "python",
   "name": "python3"
  },
  "language_info": {
   "codemirror_mode": {
    "name": "ipython",
    "version": 3
   },
   "file_extension": ".py",
   "mimetype": "text/x-python",
   "name": "python",
   "nbconvert_exporter": "python",
   "pygments_lexer": "ipython3",
   "version": "3.7.12"
  },
  "papermill": {
   "default_parameters": {},
   "duration": 2589.94466,
   "end_time": "2022-01-14T14:41:22.915562",
   "environment_variables": {},
   "exception": null,
   "input_path": "ABC_GAN_Model-Catboost_Pre-gen.ipynb",
   "output_path": "./ABC_GAN_Output/ABC-GAN_output_4_2.ipynb",
   "parameters": {
    "variance": 0.01
   },
   "start_time": "2022-01-14T13:58:12.970902",
   "version": "2.3.3"
  }
 },
 "nbformat": 4,
 "nbformat_minor": 5
}