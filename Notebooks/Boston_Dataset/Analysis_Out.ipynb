{
 "cells": [
  {
   "cell_type": "code",
   "execution_count": 1,
   "id": "423b7ca4",
   "metadata": {
    "execution": {
     "iopub.execute_input": "2021-12-17T15:19:33.324900Z",
     "iopub.status.busy": "2021-12-17T15:19:33.323892Z",
     "iopub.status.idle": "2021-12-17T15:19:33.327741Z",
     "shell.execute_reply": "2021-12-17T15:19:33.328255Z"
    },
    "papermill": {
     "duration": 0.033277,
     "end_time": "2021-12-17T15:19:33.328567",
     "exception": false,
     "start_time": "2021-12-17T15:19:33.295290",
     "status": "completed"
    },
    "tags": []
   },
   "outputs": [],
   "source": [
    "import warnings\n",
    "warnings.filterwarnings('ignore')"
   ]
  },
  {
   "cell_type": "code",
   "execution_count": 2,
   "id": "618121c9",
   "metadata": {
    "execution": {
     "iopub.execute_input": "2021-12-17T15:19:33.347316Z",
     "iopub.status.busy": "2021-12-17T15:19:33.346670Z",
     "iopub.status.idle": "2021-12-17T15:19:34.984015Z",
     "shell.execute_reply": "2021-12-17T15:19:34.984279Z"
    },
    "papermill": {
     "duration": 1.647872,
     "end_time": "2021-12-17T15:19:34.984403",
     "exception": false,
     "start_time": "2021-12-17T15:19:33.336531",
     "status": "completed"
    },
    "tags": []
   },
   "outputs": [],
   "source": [
    "import scrapbook as sb \n",
    "import pandas as pd\n",
    "import numpy as np \n",
    "import seaborn as sns \n",
    "import numpy as np\n",
    "from statistics import mean\n",
    "import matplotlib.pyplot as plt"
   ]
  },
  {
   "cell_type": "markdown",
   "id": "8842137f",
   "metadata": {
    "papermill": {
     "duration": 0.003392,
     "end_time": "2021-12-17T15:19:34.991319",
     "exception": false,
     "start_time": "2021-12-17T15:19:34.987927",
     "status": "completed"
    },
    "tags": []
   },
   "source": [
    "## BaseLine Models \n",
    "\n",
    "We have used Random Forest, Catboost, Vanilla NN and Stats Model as the Baseline Model for the problem \n",
    "\n",
    "Importing data of baseline Models "
   ]
  },
  {
   "cell_type": "code",
   "execution_count": 3,
   "id": "a9dce367",
   "metadata": {
    "execution": {
     "iopub.execute_input": "2021-12-17T15:19:35.001999Z",
     "iopub.status.busy": "2021-12-17T15:19:35.001593Z",
     "iopub.status.idle": "2021-12-17T15:19:35.154697Z",
     "shell.execute_reply": "2021-12-17T15:19:35.154961Z"
    },
    "papermill": {
     "duration": 0.160347,
     "end_time": "2021-12-17T15:19:35.155086",
     "exception": false,
     "start_time": "2021-12-17T15:19:34.994739",
     "status": "completed"
    },
    "tags": []
   },
   "outputs": [
    {
     "name": "stdout",
     "output_type": "stream",
     "text": [
      "BASELINE MODEL MSE VALUES\n",
      "   Catboost  Stats Model  Random Forest  Vanilla Neural Network\n",
      "0  0.134360     0.308435       0.182300                0.911658\n",
      "1  0.088122     0.305280       0.123892                1.015526\n",
      "2  0.101181     0.309786       0.173017                1.117976\n",
      "3  0.093362     0.280718       0.178366                0.978198\n",
      "4  0.115354     0.237479       0.198445                0.972637\n",
      "5  0.088785     0.326439       0.119403                0.919878\n",
      "6  0.097160     0.336741       0.228378                0.805377\n",
      "7  0.078201     0.379283       0.121724                0.681750\n",
      "8  0.076088     0.348601       0.101290                0.861582\n",
      "9  0.136799     0.286368       0.207355                0.881409\n",
      "MEAN:\n",
      "Catboost                  0.100941\n",
      "Stats Model               0.311913\n",
      "Random Forest             0.163417\n",
      "Vanilla Neural Network    0.914599\n",
      "dtype: float64\n"
     ]
    }
   ],
   "source": [
    "books = sb.read_notebooks(\"./BaseLine_Model_Output\")\n",
    "baseLine_data = []\n",
    "for nb in books.notebooks: \n",
    "    nbList=[nb.scraps['Catboost MSE'].data,\n",
    "            nb.scraps['Stats Model MSE'].data,\n",
    "            nb.scraps['Random Forest MSE'].data,\n",
    "            nb.scraps['Vanilla NN MSE'].data]\n",
    "    baseLine_data.append(nbList)\n",
    "print(\"BASELINE MODEL MSE VALUES\")\n",
    "df = pd.DataFrame(baseLine_data, columns = [\"Catboost\",\"Stats Model\",\"Random Forest\",\"Vanilla Neural Network\"])\n",
    "print(df)\n",
    "print(\"MEAN:\")\n",
    "print(df.mean(axis = 0))\n",
    "baseLine_data = np.array(baseLine_data)"
   ]
  },
  {
   "cell_type": "markdown",
   "id": "5fcc83e7",
   "metadata": {
    "papermill": {
     "duration": 0.003718,
     "end_time": "2021-12-17T15:19:35.162442",
     "exception": false,
     "start_time": "2021-12-17T15:19:35.158724",
     "status": "completed"
    },
    "tags": []
   },
   "source": [
    "## GAN \n",
    "\n",
    "Simple C-GAN was used to train the dataset "
   ]
  },
  {
   "cell_type": "code",
   "execution_count": 4,
   "id": "4301cf4d",
   "metadata": {
    "execution": {
     "iopub.execute_input": "2021-12-17T15:19:35.173833Z",
     "iopub.status.busy": "2021-12-17T15:19:35.173309Z",
     "iopub.status.idle": "2021-12-17T15:19:35.788444Z",
     "shell.execute_reply": "2021-12-17T15:19:35.788764Z"
    },
    "papermill": {
     "duration": 0.622852,
     "end_time": "2021-12-17T15:19:35.788892",
     "exception": false,
     "start_time": "2021-12-17T15:19:35.166040",
     "status": "completed"
    },
    "tags": []
   },
   "outputs": [
    {
     "name": "stdout",
     "output_type": "stream",
     "text": [
      "GAN Performance Metrics\n",
      "        MSE       MAE  Euclidean Distance  Manhattan Distance  Epochs\n",
      "0  0.108423  0.251182            3.308940           25.369408     171\n",
      "1  0.310981  0.371125            5.600692           37.483586     142\n",
      "2  0.222287  0.312892            4.738119           31.602059    5000\n",
      "3  0.382009  0.469235            6.210758           47.392747    5000\n",
      "4  0.288838  0.324927            5.401011           32.817620    5000\n",
      "5  0.213533  0.313193            4.643706           31.632467    5000\n",
      "6  0.122288  0.262596            3.514324           26.522194    1983\n",
      "7  0.244608  0.315503            4.966387           31.865806    5000\n",
      "8  0.168282  0.312029            4.122393           31.514973     263\n",
      "9  0.763354  0.560267            8.779184           56.586946    5000\n",
      "MEAN:\n",
      "MSE                      0.282460\n",
      "MAE                      0.349295\n",
      "Euclidean Distance       5.128551\n",
      "Manhattan Distance      35.278780\n",
      "Epochs                3255.900000\n",
      "dtype: float64\n"
     ]
    }
   ],
   "source": [
    "book = sb.read_notebooks(\"./Main/GAN\")\n",
    "gan_data = []\n",
    "gan_mse = []\n",
    "for nb in book.notebooks:\n",
    "    metrics = nb.scraps['GAN_1 Metrics'].data\n",
    "    for i in range(1000):\n",
    "        gan_mse.append(metrics[0][i])\n",
    "    nbList = [nb.scraps['GAN Model MSE'].data,\n",
    "              nb.scraps['GAN Model MAE'].data,\n",
    "              nb.scraps['GAN Model Euclidean distance'].data,\n",
    "              nb.scraps['GAN Model Manhattan Distance'].data,\n",
    "              nb.scraps['GAN Model n_epochs'].data]        \n",
    "    gan_data.append(nbList)\n",
    "print(\"GAN Performance Metrics\")\n",
    "df = pd.DataFrame(gan_data, columns = ['MSE','MAE','Euclidean Distance','Manhattan Distance','Epochs'])\n",
    "print(df)\n",
    "print(\"MEAN:\")\n",
    "print(df.mean(axis = 0))\n",
    "gan_data = np.array(gan_data)"
   ]
  },
  {
   "cell_type": "markdown",
   "id": "db69b3bd",
   "metadata": {
    "papermill": {
     "duration": 0.003882,
     "end_time": "2021-12-17T15:19:35.796758",
     "exception": false,
     "start_time": "2021-12-17T15:19:35.792876",
     "status": "completed"
    },
    "tags": []
   },
   "source": [
    "## ABC_GAN Analysis"
   ]
  },
  {
   "cell_type": "code",
   "execution_count": 5,
   "id": "ea491444",
   "metadata": {
    "execution": {
     "iopub.execute_input": "2021-12-17T15:19:35.810377Z",
     "iopub.status.busy": "2021-12-17T15:19:35.809905Z",
     "iopub.status.idle": "2021-12-17T15:19:36.483838Z",
     "shell.execute_reply": "2021-12-17T15:19:36.484074Z"
    },
    "papermill": {
     "duration": 0.683703,
     "end_time": "2021-12-17T15:19:36.484205",
     "exception": false,
     "start_time": "2021-12-17T15:19:35.800502",
     "status": "completed"
    },
    "tags": []
   },
   "outputs": [],
   "source": [
    "book = sb.read_notebooks(\"./Main\")\n",
    "paramVal = [[0,1],[0,0.1],[0,0.01],[1,1],[1,0.1],[1,0.01]]\n",
    "abc_mse = [[] for i in range(6)]\n",
    "abc_mse_skip = [[] for i in range(6)]\n",
    "abc_mse_mean = [[] for i in range(6)]\n",
    "abc_mse_skip_mean = [[] for i in range(6)]\n",
    "abc_weights = [[] for i in range(6)]\n",
    "abc_epochs = [[] for i in range(6)]\n",
    "\n",
    "for nb in book.notebooks:\n",
    "    metrics1 = np.array(nb.scraps['ABC_GAN_1 Metrics'].data)\n",
    "    metrics2 = np.array(nb.scraps['ABC_GAN_2 Metrics'].data)\n",
    "    metrics3 = np.array(nb.scraps['ABC_GAN_3 Metrics'].data)\n",
    "    paramMean = float(nb.papermill_dataframe.iloc[0]['value'])\n",
    "    paramVar = float(nb.papermill_dataframe.iloc[2]['value'])\n",
    "    #Divide data according to parameters \n",
    "    for i in range(6):\n",
    "        if paramMean == paramVal[i][0] and paramVar == paramVal[i][1]:\n",
    "            for j in range(1000):\n",
    "                abc_mse[i].append(metrics1[0,j])\n",
    "                abc_mse_skip[i].append(metrics3[0,j])\n",
    "            abc_epochs[i].append(nb.scraps['ABC-GAN Model n_epochs'].data)\n",
    "            abc_weights[i].append(nb.scraps['Skip Connection Weight'].data)\n",
    "            abc_epochs[i].append(nb.scraps['ABC-GAN Model n_epochs'].data)\n",
    "            abc_mse_mean[i].append(mean(metrics1[0,:]))\n",
    "            abc_mse_skip_mean[i].append(mean(metrics3[0,:]))"
   ]
  },
  {
   "cell_type": "code",
   "execution_count": 6,
   "id": "d0d13f91",
   "metadata": {
    "execution": {
     "iopub.execute_input": "2021-12-17T15:19:36.497062Z",
     "iopub.status.busy": "2021-12-17T15:19:36.495959Z",
     "iopub.status.idle": "2021-12-17T15:19:36.508757Z",
     "shell.execute_reply": "2021-12-17T15:19:36.509123Z"
    },
    "papermill": {
     "duration": 0.021114,
     "end_time": "2021-12-17T15:19:36.509253",
     "exception": false,
     "start_time": "2021-12-17T15:19:36.488139",
     "status": "completed"
    },
    "tags": []
   },
   "outputs": [
    {
     "name": "stdout",
     "output_type": "stream",
     "text": [
      "   Mean  Variance    Weight  ABC_Mean  Skip Connection ABC Mean  Epochs\n",
      "0     0         1  0.994001  0.073875                  0.195135    5000\n",
      "Mean                           0.000000\n",
      "Variance                       1.000000\n",
      "Weight                         0.994001\n",
      "ABC_Mean                       0.073875\n",
      "Skip Connection ABC Mean       0.195135\n",
      "Epochs                      5000.000000\n",
      "dtype: float64\n",
      "   Mean  Variance    Weight  ABC_Mean  Skip Connection ABC Mean  Epochs\n",
      "0     0       0.1  0.778607  0.098884                  0.742976    1493\n",
      "Mean                           0.000000\n",
      "Variance                       0.100000\n",
      "Weight                         0.778607\n",
      "ABC_Mean                       0.098884\n",
      "Skip Connection ABC Mean       0.742976\n",
      "Epochs                      1493.000000\n",
      "dtype: float64\n",
      "   Mean  Variance    Weight  ABC_Mean  Skip Connection ABC Mean  Epochs\n",
      "0     0      0.01  0.095525  0.155054                  0.187417    5000\n",
      "Mean                           0.000000\n",
      "Variance                       0.010000\n",
      "Weight                         0.095525\n",
      "ABC_Mean                       0.155054\n",
      "Skip Connection ABC Mean       0.187417\n",
      "Epochs                      5000.000000\n",
      "dtype: float64\n",
      "   Mean  Variance   Weight  ABC_Mean  Skip Connection ABC Mean  Epochs\n",
      "0     1         1  0.99044  0.129727                  0.182543    5000\n",
      "Mean                           1.000000\n",
      "Variance                       1.000000\n",
      "Weight                         0.990440\n",
      "ABC_Mean                       0.129727\n",
      "Skip Connection ABC Mean       0.182543\n",
      "Epochs                      5000.000000\n",
      "dtype: float64\n",
      "   Mean  Variance    Weight  ABC_Mean  Skip Connection ABC Mean  Epochs\n",
      "0     1       0.1  0.788686  0.123737                  0.643832    1385\n",
      "Mean                           1.000000\n",
      "Variance                       0.100000\n",
      "Weight                         0.788686\n",
      "ABC_Mean                       0.123737\n",
      "Skip Connection ABC Mean       0.643832\n",
      "Epochs                      1385.000000\n",
      "dtype: float64\n",
      "   Mean  Variance    Weight  ABC_Mean  Skip Connection ABC Mean  Epochs\n",
      "0     1      0.01  0.385538  0.581758                  0.375937    5000\n",
      "Mean                           1.000000\n",
      "Variance                       0.010000\n",
      "Weight                         0.385538\n",
      "ABC_Mean                       0.581758\n",
      "Skip Connection ABC Mean       0.375937\n",
      "Epochs                      5000.000000\n",
      "dtype: float64\n"
     ]
    }
   ],
   "source": [
    "for i in range(6):\n",
    "    data = []\n",
    "    for j in range(len(abc_weights[i])):\n",
    "        data.append([paramVal[i][0],paramVal[i][1],abc_weights[i][j],abc_mse_mean[i][j],abc_mse_skip_mean[i][j],abc_epochs[i][j]])\n",
    "    df = pd.DataFrame(data, columns = ['Mean','Variance','Weight','ABC_Mean','Skip Connection ABC Mean','Epochs'])\n",
    "    print(df)\n",
    "    print(df.mean(axis=0))"
   ]
  },
  {
   "cell_type": "markdown",
   "id": "ffa7ca98",
   "metadata": {
    "papermill": {
     "duration": 0.003804,
     "end_time": "2021-12-17T15:19:36.517076",
     "exception": false,
     "start_time": "2021-12-17T15:19:36.513272",
     "status": "completed"
    },
    "tags": []
   },
   "source": [
    "## Graphical Analysis "
   ]
  },
  {
   "cell_type": "code",
   "execution_count": 7,
   "id": "43f12c4a",
   "metadata": {
    "execution": {
     "iopub.execute_input": "2021-12-17T15:19:36.537149Z",
     "iopub.status.busy": "2021-12-17T15:19:36.531875Z",
     "iopub.status.idle": "2021-12-17T15:19:36.898084Z",
     "shell.execute_reply": "2021-12-17T15:19:36.898408Z"
    },
    "papermill": {
     "duration": 0.377613,
     "end_time": "2021-12-17T15:19:36.898539",
     "exception": false,
     "start_time": "2021-12-17T15:19:36.520926",
     "status": "completed"
    },
    "tags": []
   },
   "outputs": [
    {
     "data": {
      "image/png": "[encoded data removed]",
      "text/plain": [
       "<Figure size 432x288 with 1 Axes>"
      ]
     },
     "metadata": {
      "needs_background": "light"
     },
     "output_type": "display_data"
    },
    {
     "name": "stderr",
     "output_type": "stream",
     "text": [
      "No handles with labels found to put in legend.\n"
     ]
    },
    {
     "data": {
      "image/png": "[encoded data removed]",
      "text/plain": [
       "<Figure size 432x288 with 1 Axes>"
      ]
     },
     "metadata": {
      "needs_background": "light"
     },
     "output_type": "display_data"
    },
    {
     "name": "stderr",
     "output_type": "stream",
     "text": [
      "No handles with labels found to put in legend.\n"
     ]
    },
    {
     "data": {
      "image/png": "[encoded data removed]",
      "text/plain": [
       "<Figure size 432x288 with 1 Axes>"
      ]
     },
     "metadata": {
      "needs_background": "light"
     },
     "output_type": "display_data"
    },
    {
     "name": "stdout",
     "output_type": "stream",
     "text": [
      "   Mean  Variance\n",
      "0     0      1.00\n",
      "1     0      0.10\n",
      "2     0      0.01\n",
      "3     1      1.00\n",
      "4     1      0.10\n",
      "5     1      0.01\n"
     ]
    }
   ],
   "source": [
    "#plt.hist(baseLine_data[:,0],bins=10,density=True,label = \"Catboost\")\n",
    "sns.distplot(baseLine_data[:,0],hist=False,label=\"Catboost\")\n",
    "sns.distplot(baseLine_data[:,1],hist=False,label=\"Stats Model\")\n",
    "sns.distplot(baseLine_data[:,2],hist=False,label=\"Random Forest\")\n",
    "sns.distplot(baseLine_data[:,3],hist=False,label=\"Vanilla NN\")\n",
    "sns.distplot(gan_mse,hist=False,label=\"C-GAN\")\n",
    "plt.title(\"Baseline Models and GAN\")\n",
    "plt.legend()\n",
    "plt.show()\n",
    "\n",
    "plt.title(\"ABC_GAN without skip connection\")\n",
    "sns.distplot(abc_mse_mean[0],hist=False,label=\"ABC_MSE_0\")\n",
    "sns.distplot(abc_mse_mean[1],hist=False,label=\"ABC_MSE_1\")\n",
    "sns.distplot(abc_mse_mean[2],hist=False,label=\"ABC_MSE_2\")\n",
    "sns.distplot(abc_mse_mean[3],hist=False,label=\"ABC_MSE_3\")\n",
    "sns.distplot(abc_mse_mean[4],hist=False,label=\"ABC_MSE_4\")\n",
    "sns.distplot(abc_mse_mean[5],hist=False,label=\"ABC_MSE_5\")\n",
    "plt.legend()\n",
    "plt.show()\n",
    "\n",
    "plt.title(\"ABC_GAN with skip connection\")\n",
    "sns.distplot(abc_mse_skip_mean[0],hist=False,label=\"ABC_MSE_0\")\n",
    "sns.distplot(abc_mse_skip_mean[1],hist=False,label=\"ABC_MSE_1\")\n",
    "sns.distplot(abc_mse_skip_mean[2],hist=False,label=\"ABC_MSE_2\")\n",
    "sns.distplot(abc_mse_skip_mean[3],hist=False,label=\"ABC_MSE_3\")\n",
    "sns.distplot(abc_mse_skip_mean[4],hist=False,label=\"ABC_MSE_4\")\n",
    "sns.distplot(abc_mse_skip_mean[5],hist=False,label=\"ABC_MSE_5\")\n",
    "plt.legend()\n",
    "plt.show()\n",
    "\n",
    "df = pd.DataFrame(paramVal, columns = ['Mean','Variance'])\n",
    "print(df)\n"
   ]
  }
 ],
 "metadata": {
  "interpreter": {
   "hash": "10498c76ddd8160350534c6544a2b2fb65f2138dbc70420f7c81a3268f830f23"
  },
  "kernelspec": {
   "display_name": "papermill-tutorial",
   "language": "python",
   "name": "python3"
  },
  "language_info": {
   "codemirror_mode": {
    "name": "ipython",
    "version": 3
   },
   "file_extension": ".py",
   "mimetype": "text/x-python",
   "name": "python",
   "nbconvert_exporter": "python",
   "pygments_lexer": "ipython3",
   "version": "3.8.11"
  },
  "papermill": {
   "default_parameters": {},
   "duration": 5.834787,
   "end_time": "2021-12-17T15:19:37.110186",
   "environment_variables": {},
   "exception": null,
   "input_path": "Analysis.ipynb",
   "output_path": "Analysis_Out.ipynb",
   "parameters": {},
   "start_time": "2021-12-17T15:19:31.275399",
   "version": "2.3.3"
  }
 },
 "nbformat": 4,
 "nbformat_minor": 5
}