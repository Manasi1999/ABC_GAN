{
 "cells": [
  {
   "cell_type": "code",
   "execution_count": null,
   "id": "423b7ca4",
   "metadata": {},
   "outputs": [],
   "source": [
    "import warnings\n",
    "warnings.filterwarnings('ignore')"
   ]
  },
  {
   "cell_type": "code",
   "execution_count": null,
   "id": "618121c9",
   "metadata": {},
   "outputs": [],
   "source": [
    "import scrapbook as sb \n",
    "import pandas as pd\n",
    "import numpy as np \n",
    "import seaborn as sns \n",
    "import numpy as np\n",
    "from statistics import mean\n",
    "import matplotlib.pyplot as plt"
   ]
  },
  {
   "cell_type": "markdown",
   "id": "8842137f",
   "metadata": {},
   "source": [
    "# Baseline "
   ]
  },
  {
   "cell_type": "code",
   "execution_count": null,
   "id": "a9dce367",
   "metadata": {},
   "outputs": [],
   "source": [
    "books = sb.read_notebooks(\"./BaseLine_Model_Output\")\n",
    "paramVal = [1,0.1,0.01]\n",
    "stats_mae = [[] for i in range(3)]\n",
    "cat_mae = [[] for i in range(3)]\n",
    "for nb in books.notebooks: \n",
    "    paramVar = float(nb.papermill_dataframe.iloc[0]['value'])\n",
    "    for i in range(3):\n",
    "        if paramVar == paramVal[i]:\n",
    "            stats_mae[i].append(nb.scraps['Stats Model MAE'].data)\n",
    "            cat_mae[i].append(nb.scraps['Catboost MAE'].data)"
   ]
  },
  {
   "cell_type": "code",
   "execution_count": null,
   "id": "d9fd5160",
   "metadata": {},
   "outputs": [],
   "source": [
    "for i in range(3):\n",
    "    data = []\n",
    "    for j in range(10):\n",
    "        data.append([paramVal[i],stats_mae[i][j],cat_mae[i][j]])\n",
    "    df = pd.DataFrame(data, columns = ['Variance','Stats MAE','CAT MAE'])\n",
    "    display(df)\n",
    "    print(df.mean(axis=0))\n",
    "    print(\"-------------------------------------------------------------\")"
   ]
  }
 ],
 "metadata": {
  "interpreter": {
   "hash": "10498c76ddd8160350534c6544a2b2fb65f2138dbc70420f7c81a3268f830f23"
  },
  "kernelspec": {
   "display_name": "papermill-tutorial",
   "language": "python",
   "name": "python3"
  },
  "language_info": {
   "codemirror_mode": {
    "name": "ipython",
    "version": 3
   },
   "file_extension": ".py",
   "mimetype": "text/x-python",
   "name": "python",
   "nbconvert_exporter": "python",
   "pygments_lexer": "ipython3",
   "version": "3.8.11"
  }
 },
 "nbformat": 4,
 "nbformat_minor": 5
}
