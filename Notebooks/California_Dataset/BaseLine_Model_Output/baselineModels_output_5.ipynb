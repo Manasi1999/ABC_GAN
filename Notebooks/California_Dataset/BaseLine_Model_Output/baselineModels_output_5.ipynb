{
 "cells": [
  {
   "cell_type": "markdown",
   "id": "24118d33",
   "metadata": {
    "papermill": {
     "duration": 0.022908,
     "end_time": "2021-12-24T13:09:27.176432",
     "exception": false,
     "start_time": "2021-12-24T13:09:27.153524",
     "status": "completed"
    },
    "tags": []
   },
   "source": [
    "## Import Libraries "
   ]
  },
  {
   "cell_type": "code",
   "execution_count": 1,
   "id": "6109d546",
   "metadata": {
    "execution": {
     "iopub.execute_input": "2021-12-24T13:09:27.206952Z",
     "iopub.status.busy": "2021-12-24T13:09:27.206248Z",
     "iopub.status.idle": "2021-12-24T13:09:27.209230Z",
     "shell.execute_reply": "2021-12-24T13:09:27.209638Z"
    },
    "papermill": {
     "duration": 0.022186,
     "end_time": "2021-12-24T13:09:27.209897",
     "exception": false,
     "start_time": "2021-12-24T13:09:27.187711",
     "status": "completed"
    },
    "tags": []
   },
   "outputs": [],
   "source": [
    "import warnings\n",
    "import sys\n",
    "sys.path.insert(0, '../../src')\n",
    "warnings.filterwarnings('ignore')"
   ]
  },
  {
   "cell_type": "code",
   "execution_count": 2,
   "id": "3d7e7c45",
   "metadata": {
    "execution": {
     "iopub.execute_input": "2021-12-24T13:09:27.225631Z",
     "iopub.status.busy": "2021-12-24T13:09:27.225130Z",
     "iopub.status.idle": "2021-12-24T13:09:29.183683Z",
     "shell.execute_reply": "2021-12-24T13:09:29.183966Z"
    },
    "papermill": {
     "duration": 1.967447,
     "end_time": "2021-12-24T13:09:29.184096",
     "exception": false,
     "start_time": "2021-12-24T13:09:27.216649",
     "status": "completed"
    },
    "tags": []
   },
   "outputs": [],
   "source": [
    "import baselineModels\n",
    "import scrapbook as sb \n",
    "import torch \n",
    "import statsModel\n",
    "import californiaDataset\n",
    "import dataset \n",
    "from torch.utils.data import random_split \n",
    "from sklearn.model_selection import train_test_split"
   ]
  },
  {
   "cell_type": "markdown",
   "id": "3edca613",
   "metadata": {
    "papermill": {
     "duration": 0.003803,
     "end_time": "2021-12-24T13:09:29.191999",
     "exception": false,
     "start_time": "2021-12-24T13:09:29.188196",
     "status": "completed"
    },
    "tags": []
   },
   "source": [
    "## Import Dataset \n"
   ]
  },
  {
   "cell_type": "code",
   "execution_count": 3,
   "id": "02fdffbc",
   "metadata": {
    "execution": {
     "iopub.execute_input": "2021-12-24T13:09:29.202527Z",
     "iopub.status.busy": "2021-12-24T13:09:29.202079Z",
     "iopub.status.idle": "2021-12-24T13:09:29.219167Z",
     "shell.execute_reply": "2021-12-24T13:09:29.219425Z"
    },
    "papermill": {
     "duration": 0.023697,
     "end_time": "2021-12-24T13:09:29.219553",
     "exception": false,
     "start_time": "2021-12-24T13:09:29.195856",
     "status": "completed"
    },
    "tags": []
   },
   "outputs": [
    {
     "name": "stdout",
     "output_type": "stream",
     "text": [
      "       X1    X2        X3        X4      X5        X6     X7      X8      Y\n",
      "0  8.3252  41.0  6.984127  1.023810   322.0  2.555556  37.88 -122.23  4.526\n",
      "1  8.3014  21.0  6.238137  0.971880  2401.0  2.109842  37.86 -122.22  3.585\n",
      "2  7.2574  52.0  8.288136  1.073446   496.0  2.802260  37.85 -122.24  3.521\n",
      "3  5.6431  52.0  5.817352  1.073059   558.0  2.547945  37.85 -122.25  3.413\n",
      "4  3.8462  52.0  6.281853  1.081081   565.0  2.181467  37.85 -122.25  3.422\n"
     ]
    }
   ],
   "source": [
    "X,Y = californiaDataset.california_data()\n",
    "n_features = 8 \n",
    "n_samples = 20640\n",
    "n_target = 1 "
   ]
  },
  {
   "cell_type": "code",
   "execution_count": 4,
   "id": "94684b81",
   "metadata": {
    "execution": {
     "iopub.execute_input": "2021-12-24T13:09:29.232722Z",
     "iopub.status.busy": "2021-12-24T13:09:29.232310Z",
     "iopub.status.idle": "2021-12-24T13:09:29.234868Z",
     "shell.execute_reply": "2021-12-24T13:09:29.235127Z"
    },
    "papermill": {
     "duration": 0.011664,
     "end_time": "2021-12-24T13:09:29.235253",
     "exception": false,
     "start_time": "2021-12-24T13:09:29.223589",
     "status": "completed"
    },
    "tags": []
   },
   "outputs": [],
   "source": [
    "# Train test split for dataset \n",
    "real_dataset = dataset.CustomDataset(X,Y)\n",
    "train_size = round(0.8 * n_samples)\n",
    "test_size = n_samples - train_size\n",
    "train_data, test_data = random_split(real_dataset,[train_size,test_size])\n",
    "X_train, X_test, y_train, y_test = train_test_split(X, Y, test_size=0.2)"
   ]
  },
  {
   "cell_type": "markdown",
   "id": "84ecc948",
   "metadata": {
    "papermill": {
     "duration": 0.004217,
     "end_time": "2021-12-24T13:09:29.260978",
     "exception": false,
     "start_time": "2021-12-24T13:09:29.256761",
     "status": "completed"
    },
    "tags": []
   },
   "source": [
    "## Stats Model "
   ]
  },
  {
   "cell_type": "code",
   "execution_count": 5,
   "id": "cfc4cd27",
   "metadata": {
    "execution": {
     "iopub.execute_input": "2021-12-24T13:09:29.272169Z",
     "iopub.status.busy": "2021-12-24T13:09:29.271763Z",
     "iopub.status.idle": "2021-12-24T13:09:29.386949Z",
     "shell.execute_reply": "2021-12-24T13:09:29.387232Z"
    },
    "papermill": {
     "duration": 0.122301,
     "end_time": "2021-12-24T13:09:29.387373",
     "exception": false,
     "start_time": "2021-12-24T13:09:29.265072",
     "status": "completed"
    },
    "tags": []
   },
   "outputs": [
    {
     "name": "stderr",
     "output_type": "stream",
     "text": [
      "No handles with labels found to put in legend.\n"
     ]
    },
    {
     "name": "stdout",
     "output_type": "stream",
     "text": [
      "                                 OLS Regression Results                                \n",
      "=======================================================================================\n",
      "Dep. Variable:                      Y   R-squared (uncentered):                   0.607\n",
      "Model:                            OLS   Adj. R-squared (uncentered):              0.606\n",
      "Method:                 Least Squares   F-statistic:                              3181.\n",
      "Date:                Fri, 24 Dec 2021   Prob (F-statistic):                        0.00\n",
      "Time:                        18:39:29   Log-Likelihood:                         -15801.\n",
      "No. Observations:               16512   AIC:                                  3.162e+04\n",
      "Df Residuals:                   16504   BIC:                                  3.168e+04\n",
      "Df Model:                           8                                                  \n",
      "Covariance Type:            nonrobust                                                  \n",
      "==============================================================================\n",
      "                 coef    std err          t      P>|t|      [0.025      0.975]\n",
      "------------------------------------------------------------------------------\n",
      "x1             0.7219      0.008     93.545      0.000       0.707       0.737\n",
      "x2             0.1061      0.005     19.444      0.000       0.095       0.117\n",
      "x3            -0.2384      0.014    -16.989      0.000      -0.266      -0.211\n",
      "x4             0.2751      0.013     21.293      0.000       0.250       0.300\n",
      "x5            -0.0020      0.005     -0.387      0.699      -0.012       0.008\n",
      "x6            -0.0314      0.004     -7.123      0.000      -0.040      -0.023\n",
      "x7            -0.7799      0.015    -52.303      0.000      -0.809      -0.751\n",
      "x8            -0.7549      0.015    -51.481      0.000      -0.784      -0.726\n",
      "==============================================================================\n",
      "Omnibus:                     3570.928   Durbin-Watson:                   1.989\n",
      "Prob(Omnibus):                  0.000   Jarque-Bera (JB):            12329.922\n",
      "Skew:                           1.074   Prob(JB):                         0.00\n",
      "Kurtosis:                       6.648   Cond. No.                         6.80\n",
      "==============================================================================\n",
      "\n",
      "Notes:\n",
      "[1] R² is computed without centering (uncentered) since the model does not contain a constant.\n",
      "[2] Standard Errors assume that the covariance matrix of the errors is correctly specified.\n",
      "Parameters:  x1    0.721896\n",
      "x2    0.106149\n",
      "x3   -0.238386\n",
      "x4    0.275058\n",
      "x5   -0.002022\n",
      "x6   -0.031423\n",
      "x7   -0.779927\n",
      "x8   -0.754913\n",
      "dtype: float64\n"
     ]
    },
    {
     "data": {
      "image/png": "[encoded data removed]",
      "text/plain": [
       "<Figure size 432x288 with 1 Axes>"
      ]
     },
     "metadata": {
      "needs_background": "light"
     },
     "output_type": "display_data"
    },
    {
     "name": "stdout",
     "output_type": "stream",
     "text": [
      "Performance Metrics\n",
      "Mean Squared Error: 0.38130925996766946\n",
      "Mean Absolute Error: 0.45439288561628977\n",
      "Manhattan distance: 1875.7338318240502\n",
      "Euclidean distance: 39.67423124833727\n"
     ]
    },
    {
     "data": {
      "application/scrapbook.scrap.json+json": {
       "data": 0.38130925996766946,
       "encoder": "json",
       "name": "Stats Model MSE",
       "version": 1
      }
     },
     "metadata": {
      "scrapbook": {
       "data": true,
       "display": false,
       "name": "Stats Model MSE"
      }
     },
     "output_type": "display_data"
    },
    {
     "data": {
      "application/scrapbook.scrap.json+json": {
       "data": 0.45439288561628977,
       "encoder": "json",
       "name": "Stats Model MAE",
       "version": 1
      }
     },
     "metadata": {
      "scrapbook": {
       "data": true,
       "display": false,
       "name": "Stats Model MAE"
      }
     },
     "output_type": "display_data"
    },
    {
     "data": {
      "application/scrapbook.scrap.json+json": {
       "data": 1875.7338318240502,
       "encoder": "json",
       "name": "Stats Model Manhattan Distance",
       "version": 1
      }
     },
     "metadata": {
      "scrapbook": {
       "data": true,
       "display": false,
       "name": "Stats Model Manhattan Distance"
      }
     },
     "output_type": "display_data"
    },
    {
     "data": {
      "application/scrapbook.scrap.json+json": {
       "data": 39.67423124833727,
       "encoder": "json",
       "name": "Stats Model Euclidean distance",
       "version": 1
      }
     },
     "metadata": {
      "scrapbook": {
       "data": true,
       "display": false,
       "name": "Stats Model Euclidean distance"
      }
     },
     "output_type": "display_data"
    },
    {
     "data": {
      "application/scrapbook.scrap.json+json": {
       "data": [
        0.7218961110084839,
        0.10614916622944556,
        -0.2383858438837091,
        0.27505820694373645,
        -0.0020217651660417073,
        -0.031423327230284834,
        -0.7799268232772059,
        -0.7549130448122947
       ],
       "encoder": "json",
       "name": "Coefficients",
       "version": 1
      }
     },
     "metadata": {
      "scrapbook": {
       "data": true,
       "display": false,
       "name": "Coefficients"
      }
     },
     "output_type": "display_data"
    }
   ],
   "source": [
    "[coeff,y_pred] = statsModel.statsModel(X,Y)\n",
    "\n",
    "#Store Coefficients \n",
    "sb.glue(\"Coefficients\",coeff)"
   ]
  },
  {
   "cell_type": "markdown",
   "id": "575a2924",
   "metadata": {
    "papermill": {
     "duration": 0.006178,
     "end_time": "2021-12-24T13:09:29.400129",
     "exception": false,
     "start_time": "2021-12-24T13:09:29.393951",
     "status": "completed"
    },
    "tags": []
   },
   "source": [
    "## Random Forest "
   ]
  },
  {
   "cell_type": "code",
   "execution_count": 6,
   "id": "7160362a",
   "metadata": {
    "execution": {
     "iopub.execute_input": "2021-12-24T13:09:29.427756Z",
     "iopub.status.busy": "2021-12-24T13:09:29.414923Z",
     "iopub.status.idle": "2021-12-24T13:09:31.610185Z",
     "shell.execute_reply": "2021-12-24T13:09:31.610584Z"
    },
    "papermill": {
     "duration": 2.204612,
     "end_time": "2021-12-24T13:09:31.610707",
     "exception": false,
     "start_time": "2021-12-24T13:09:29.406095",
     "status": "completed"
    },
    "tags": []
   },
   "outputs": [
    {
     "name": "stdout",
     "output_type": "stream",
     "text": [
      "Mean Squared error 0.35630963330799686\n"
     ]
    },
    {
     "data": {
      "application/scrapbook.scrap.json+json": {
       "data": 0.35630963330799686,
       "encoder": "json",
       "name": "Random Forest MSE",
       "version": 1
      }
     },
     "metadata": {
      "scrapbook": {
       "data": true,
       "display": false,
       "name": "Random Forest MSE"
      }
     },
     "output_type": "display_data"
    }
   ],
   "source": [
    "mse_rf = baselineModels.randomForest(X_train,y_train,X_test,y_test)\n",
    "#Store MSE Value\n",
    "sb.glue(\"Random Forest MSE\",mse_rf)"
   ]
  },
  {
   "cell_type": "markdown",
   "id": "d1fe1cff",
   "metadata": {
    "papermill": {
     "duration": 0.006107,
     "end_time": "2021-12-24T13:09:31.623251",
     "exception": false,
     "start_time": "2021-12-24T13:09:31.617144",
     "status": "completed"
    },
    "tags": []
   },
   "source": [
    "## Catboost \n",
    "\n"
   ]
  },
  {
   "cell_type": "code",
   "execution_count": 7,
   "id": "5c04a046",
   "metadata": {
    "execution": {
     "iopub.execute_input": "2021-12-24T13:09:31.673179Z",
     "iopub.status.busy": "2021-12-24T13:09:31.672787Z",
     "iopub.status.idle": "2021-12-24T13:09:34.342210Z",
     "shell.execute_reply": "2021-12-24T13:09:34.342493Z"
    },
    "papermill": {
     "duration": 2.713309,
     "end_time": "2021-12-24T13:09:34.342616",
     "exception": false,
     "start_time": "2021-12-24T13:09:31.629307",
     "status": "completed"
    },
    "tags": []
   },
   "outputs": [
    {
     "name": "stdout",
     "output_type": "stream",
     "text": [
      "Learning rate set to 0.064294\n",
      "0:\tlearn: 0.9683618\ttotal: 61ms\tremaining: 1m\n",
      "1:\tlearn: 0.9363984\ttotal: 63.7ms\tremaining: 31.8s\n",
      "2:\tlearn: 0.9062305\ttotal: 67.2ms\tremaining: 22.3s\n",
      "3:\tlearn: 0.8784800\ttotal: 70.3ms\tremaining: 17.5s\n",
      "4:\tlearn: 0.8528527\ttotal: 72.6ms\tremaining: 14.5s\n",
      "5:\tlearn: 0.8293073\ttotal: 75.2ms\tremaining: 12.5s\n",
      "6:\tlearn: 0.8066091\ttotal: 77.7ms\tremaining: 11s\n",
      "7:\tlearn: 0.7860238\ttotal: 80.1ms\tremaining: 9.94s\n",
      "8:\tlearn: 0.7686534\ttotal: 83ms\tremaining: 9.13s\n",
      "9:\tlearn: 0.7495971\ttotal: 85.2ms\tremaining: 8.44s\n",
      "10:\tlearn: 0.7332326\ttotal: 87.6ms\tremaining: 7.88s\n",
      "11:\tlearn: 0.7180012\ttotal: 90.3ms\tremaining: 7.43s\n",
      "12:\tlearn: 0.7040534\ttotal: 92.7ms\tremaining: 7.04s\n",
      "13:\tlearn: 0.6911152\ttotal: 95.3ms\tremaining: 6.71s\n",
      "14:\tlearn: 0.6799528\ttotal: 97.6ms\tremaining: 6.41s\n",
      "15:\tlearn: 0.6692564\ttotal: 99.9ms\tremaining: 6.14s\n",
      "16:\tlearn: 0.6595924\ttotal: 102ms\tremaining: 5.91s\n",
      "17:\tlearn: 0.6494853\ttotal: 105ms\tremaining: 5.71s\n",
      "18:\tlearn: 0.6397393\ttotal: 107ms\tremaining: 5.53s\n",
      "19:\tlearn: 0.6311570\ttotal: 110ms\tremaining: 5.37s\n",
      "20:\tlearn: 0.6240015\ttotal: 112ms\tremaining: 5.21s\n",
      "21:\tlearn: 0.6157443\ttotal: 114ms\tremaining: 5.07s\n",
      "22:\tlearn: 0.6097022\ttotal: 116ms\tremaining: 4.95s\n",
      "23:\tlearn: 0.6027156\ttotal: 119ms\tremaining: 4.83s\n",
      "24:\tlearn: 0.5971379\ttotal: 121ms\tremaining: 4.73s\n",
      "25:\tlearn: 0.5900660\ttotal: 124ms\tremaining: 4.63s\n",
      "26:\tlearn: 0.5834993\ttotal: 126ms\tremaining: 4.53s\n"
     ]
    },
    {
     "name": "stdout",
     "output_type": "stream",
     "text": [
      "27:\tlearn: 0.5788391\ttotal: 128ms\tremaining: 4.45s\n",
      "28:\tlearn: 0.5725647\ttotal: 131ms\tremaining: 4.37s\n",
      "29:\tlearn: 0.5665946\ttotal: 134ms\tremaining: 4.33s\n",
      "30:\tlearn: 0.5631108\ttotal: 136ms\tremaining: 4.26s\n",
      "31:\tlearn: 0.5585572\ttotal: 139ms\tremaining: 4.19s\n",
      "32:\tlearn: 0.5530049\ttotal: 141ms\tremaining: 4.14s\n",
      "33:\tlearn: 0.5499228\ttotal: 144ms\tremaining: 4.08s\n",
      "34:\tlearn: 0.5456686\ttotal: 146ms\tremaining: 4.03s\n",
      "35:\tlearn: 0.5423747\ttotal: 149ms\tremaining: 3.98s\n",
      "36:\tlearn: 0.5394209\ttotal: 151ms\tremaining: 3.93s\n",
      "37:\tlearn: 0.5358317\ttotal: 153ms\tremaining: 3.88s\n",
      "38:\tlearn: 0.5333268\ttotal: 156ms\tremaining: 3.83s\n",
      "39:\tlearn: 0.5309035\ttotal: 158ms\tremaining: 3.79s\n",
      "40:\tlearn: 0.5286899\ttotal: 161ms\tremaining: 3.75s\n",
      "41:\tlearn: 0.5267653\ttotal: 163ms\tremaining: 3.71s\n",
      "42:\tlearn: 0.5237323\ttotal: 165ms\tremaining: 3.68s\n",
      "43:\tlearn: 0.5212088\ttotal: 168ms\tremaining: 3.65s\n",
      "44:\tlearn: 0.5194470\ttotal: 170ms\tremaining: 3.61s\n",
      "45:\tlearn: 0.5178941\ttotal: 172ms\tremaining: 3.57s\n",
      "46:\tlearn: 0.5143711\ttotal: 175ms\tremaining: 3.54s\n",
      "47:\tlearn: 0.5120839\ttotal: 177ms\tremaining: 3.51s\n",
      "48:\tlearn: 0.5105761\ttotal: 179ms\tremaining: 3.48s\n",
      "49:\tlearn: 0.5085265\ttotal: 183ms\tremaining: 3.47s\n",
      "50:\tlearn: 0.5070490\ttotal: 185ms\tremaining: 3.44s\n",
      "51:\tlearn: 0.5047357\ttotal: 188ms\tremaining: 3.42s\n",
      "52:\tlearn: 0.5023491\ttotal: 190ms\tremaining: 3.4s\n",
      "53:\tlearn: 0.5002772\ttotal: 193ms\tremaining: 3.38s\n"
     ]
    },
    {
     "name": "stdout",
     "output_type": "stream",
     "text": [
      "54:\tlearn: 0.4985184\ttotal: 196ms\tremaining: 3.36s\n",
      "55:\tlearn: 0.4972672\ttotal: 198ms\tremaining: 3.34s\n",
      "56:\tlearn: 0.4952472\ttotal: 200ms\tremaining: 3.31s\n",
      "57:\tlearn: 0.4934017\ttotal: 203ms\tremaining: 3.29s\n",
      "58:\tlearn: 0.4915625\ttotal: 205ms\tremaining: 3.27s\n",
      "59:\tlearn: 0.4906272\ttotal: 208ms\tremaining: 3.26s\n",
      "60:\tlearn: 0.4892993\ttotal: 211ms\tremaining: 3.24s\n",
      "61:\tlearn: 0.4883405\ttotal: 214ms\tremaining: 3.24s\n",
      "62:\tlearn: 0.4872760\ttotal: 216ms\tremaining: 3.22s\n",
      "63:\tlearn: 0.4854235\ttotal: 219ms\tremaining: 3.2s\n",
      "64:\tlearn: 0.4842098\ttotal: 221ms\tremaining: 3.18s\n",
      "65:\tlearn: 0.4835098\ttotal: 224ms\tremaining: 3.17s\n",
      "66:\tlearn: 0.4822497\ttotal: 226ms\tremaining: 3.15s\n",
      "67:\tlearn: 0.4816022\ttotal: 228ms\tremaining: 3.13s\n",
      "68:\tlearn: 0.4797965\ttotal: 231ms\tremaining: 3.11s\n",
      "69:\tlearn: 0.4783924\ttotal: 233ms\tremaining: 3.1s\n",
      "70:\tlearn: 0.4772865\ttotal: 235ms\tremaining: 3.08s\n",
      "71:\tlearn: 0.4756318\ttotal: 238ms\tremaining: 3.07s\n",
      "72:\tlearn: 0.4749489\ttotal: 240ms\tremaining: 3.05s\n",
      "73:\tlearn: 0.4741456\ttotal: 243ms\tremaining: 3.04s\n",
      "74:\tlearn: 0.4734656\ttotal: 245ms\tremaining: 3.03s\n",
      "75:\tlearn: 0.4724864\ttotal: 248ms\tremaining: 3.01s\n",
      "76:\tlearn: 0.4719740\ttotal: 250ms\tremaining: 3s\n",
      "77:\tlearn: 0.4709935\ttotal: 252ms\tremaining: 2.98s\n",
      "78:\tlearn: 0.4695840\ttotal: 255ms\tremaining: 2.97s\n",
      "79:\tlearn: 0.4687064\ttotal: 258ms\tremaining: 2.97s\n",
      "80:\tlearn: 0.4672317\ttotal: 261ms\tremaining: 2.96s\n",
      "81:\tlearn: 0.4667821\ttotal: 263ms\tremaining: 2.94s\n",
      "82:\tlearn: 0.4655197\ttotal: 265ms\tremaining: 2.93s\n",
      "83:\tlearn: 0.4642470\ttotal: 268ms\tremaining: 2.92s\n",
      "84:\tlearn: 0.4635008\ttotal: 270ms\tremaining: 2.91s\n",
      "85:\tlearn: 0.4627828\ttotal: 273ms\tremaining: 2.9s\n",
      "86:\tlearn: 0.4621988\ttotal: 275ms\tremaining: 2.89s\n",
      "87:\tlearn: 0.4608438\ttotal: 278ms\tremaining: 2.88s\n",
      "88:\tlearn: 0.4604451\ttotal: 280ms\tremaining: 2.87s\n",
      "89:\tlearn: 0.4597763\ttotal: 283ms\tremaining: 2.86s\n",
      "90:\tlearn: 0.4591346\ttotal: 286ms\tremaining: 2.85s\n",
      "91:\tlearn: 0.4581778\ttotal: 288ms\tremaining: 2.84s\n",
      "92:\tlearn: 0.4574882\ttotal: 290ms\tremaining: 2.83s\n",
      "93:\tlearn: 0.4569836\ttotal: 293ms\tremaining: 2.82s\n",
      "94:\tlearn: 0.4565883\ttotal: 296ms\tremaining: 2.82s\n",
      "95:\tlearn: 0.4556975\ttotal: 299ms\tremaining: 2.81s\n",
      "96:\tlearn: 0.4550994\ttotal: 301ms\tremaining: 2.8s\n",
      "97:\tlearn: 0.4544985\ttotal: 303ms\tremaining: 2.79s\n",
      "98:\tlearn: 0.4539168\ttotal: 306ms\tremaining: 2.78s\n",
      "99:\tlearn: 0.4532360\ttotal: 308ms\tremaining: 2.77s\n",
      "100:\tlearn: 0.4523327\ttotal: 310ms\tremaining: 2.76s\n",
      "101:\tlearn: 0.4515620\ttotal: 313ms\tremaining: 2.75s\n",
      "102:\tlearn: 0.4512007\ttotal: 315ms\tremaining: 2.74s\n",
      "103:\tlearn: 0.4507263\ttotal: 317ms\tremaining: 2.73s\n",
      "104:\tlearn: 0.4501420\ttotal: 320ms\tremaining: 2.73s\n",
      "105:\tlearn: 0.4494157\ttotal: 322ms\tremaining: 2.72s\n"
     ]
    },
    {
     "name": "stdout",
     "output_type": "stream",
     "text": [
      "106:\tlearn: 0.4488949\ttotal: 325ms\tremaining: 2.71s\n",
      "107:\tlearn: 0.4481620\ttotal: 327ms\tremaining: 2.7s\n",
      "108:\tlearn: 0.4476202\ttotal: 329ms\tremaining: 2.69s\n",
      "109:\tlearn: 0.4470466\ttotal: 332ms\tremaining: 2.68s\n",
      "110:\tlearn: 0.4460356\ttotal: 334ms\tremaining: 2.67s\n",
      "111:\tlearn: 0.4454641\ttotal: 336ms\tremaining: 2.67s\n",
      "112:\tlearn: 0.4446091\ttotal: 339ms\tremaining: 2.66s\n",
      "113:\tlearn: 0.4440255\ttotal: 341ms\tremaining: 2.65s\n",
      "114:\tlearn: 0.4432482\ttotal: 343ms\tremaining: 2.64s\n",
      "115:\tlearn: 0.4426354\ttotal: 345ms\tremaining: 2.63s\n",
      "116:\tlearn: 0.4422903\ttotal: 348ms\tremaining: 2.62s\n",
      "117:\tlearn: 0.4418540\ttotal: 350ms\tremaining: 2.62s\n",
      "118:\tlearn: 0.4413608\ttotal: 353ms\tremaining: 2.61s\n",
      "119:\tlearn: 0.4410018\ttotal: 355ms\tremaining: 2.6s\n",
      "120:\tlearn: 0.4405135\ttotal: 358ms\tremaining: 2.6s\n",
      "121:\tlearn: 0.4402356\ttotal: 360ms\tremaining: 2.59s\n",
      "122:\tlearn: 0.4396777\ttotal: 363ms\tremaining: 2.58s\n",
      "123:\tlearn: 0.4390755\ttotal: 365ms\tremaining: 2.58s\n",
      "124:\tlearn: 0.4385703\ttotal: 368ms\tremaining: 2.58s\n",
      "125:\tlearn: 0.4381002\ttotal: 371ms\tremaining: 2.57s\n",
      "126:\tlearn: 0.4377657\ttotal: 373ms\tremaining: 2.57s\n",
      "127:\tlearn: 0.4373448\ttotal: 376ms\tremaining: 2.56s\n",
      "128:\tlearn: 0.4367458\ttotal: 378ms\tremaining: 2.55s\n",
      "129:\tlearn: 0.4363220\ttotal: 381ms\tremaining: 2.55s\n",
      "130:\tlearn: 0.4358316\ttotal: 383ms\tremaining: 2.54s\n",
      "131:\tlearn: 0.4354915\ttotal: 385ms\tremaining: 2.53s\n",
      "132:\tlearn: 0.4348509\ttotal: 388ms\tremaining: 2.53s\n",
      "133:\tlearn: 0.4343551\ttotal: 390ms\tremaining: 2.52s\n"
     ]
    },
    {
     "name": "stdout",
     "output_type": "stream",
     "text": [
      "134:\tlearn: 0.4333663\ttotal: 392ms\tremaining: 2.51s\n",
      "135:\tlearn: 0.4329180\ttotal: 395ms\tremaining: 2.51s\n",
      "136:\tlearn: 0.4326429\ttotal: 397ms\tremaining: 2.5s\n",
      "137:\tlearn: 0.4322838\ttotal: 399ms\tremaining: 2.49s\n",
      "138:\tlearn: 0.4316688\ttotal: 401ms\tremaining: 2.49s\n",
      "139:\tlearn: 0.4314110\ttotal: 404ms\tremaining: 2.48s\n",
      "140:\tlearn: 0.4307882\ttotal: 406ms\tremaining: 2.47s\n",
      "141:\tlearn: 0.4301708\ttotal: 408ms\tremaining: 2.46s\n",
      "142:\tlearn: 0.4296777\ttotal: 410ms\tremaining: 2.46s\n",
      "143:\tlearn: 0.4290388\ttotal: 413ms\tremaining: 2.45s\n",
      "144:\tlearn: 0.4286560\ttotal: 415ms\tremaining: 2.45s\n",
      "145:\tlearn: 0.4283201\ttotal: 418ms\tremaining: 2.44s\n",
      "146:\tlearn: 0.4277804\ttotal: 420ms\tremaining: 2.44s\n",
      "147:\tlearn: 0.4268024\ttotal: 422ms\tremaining: 2.43s\n",
      "148:\tlearn: 0.4262916\ttotal: 425ms\tremaining: 2.43s\n",
      "149:\tlearn: 0.4258770\ttotal: 428ms\tremaining: 2.42s\n",
      "150:\tlearn: 0.4254080\ttotal: 430ms\tremaining: 2.42s\n",
      "151:\tlearn: 0.4251639\ttotal: 433ms\tremaining: 2.41s\n",
      "152:\tlearn: 0.4248810\ttotal: 435ms\tremaining: 2.41s\n",
      "153:\tlearn: 0.4245880\ttotal: 437ms\tremaining: 2.4s\n",
      "154:\tlearn: 0.4240930\ttotal: 440ms\tremaining: 2.4s\n",
      "155:\tlearn: 0.4236817\ttotal: 442ms\tremaining: 2.39s\n",
      "156:\tlearn: 0.4233508\ttotal: 445ms\tremaining: 2.39s\n",
      "157:\tlearn: 0.4229506\ttotal: 447ms\tremaining: 2.38s\n",
      "158:\tlearn: 0.4224510\ttotal: 449ms\tremaining: 2.38s\n",
      "159:\tlearn: 0.4221144\ttotal: 451ms\tremaining: 2.37s\n",
      "160:\tlearn: 0.4216976\ttotal: 454ms\tremaining: 2.36s\n",
      "161:\tlearn: 0.4214891\ttotal: 456ms\tremaining: 2.36s\n",
      "162:\tlearn: 0.4211467\ttotal: 459ms\tremaining: 2.36s\n",
      "163:\tlearn: 0.4203185\ttotal: 461ms\tremaining: 2.35s\n",
      "164:\tlearn: 0.4197958\ttotal: 464ms\tremaining: 2.35s\n",
      "165:\tlearn: 0.4194647\ttotal: 466ms\tremaining: 2.34s\n",
      "166:\tlearn: 0.4191190\ttotal: 468ms\tremaining: 2.33s\n",
      "167:\tlearn: 0.4187983\ttotal: 470ms\tremaining: 2.33s\n",
      "168:\tlearn: 0.4185767\ttotal: 473ms\tremaining: 2.32s\n",
      "169:\tlearn: 0.4182323\ttotal: 475ms\tremaining: 2.32s\n",
      "170:\tlearn: 0.4178755\ttotal: 477ms\tremaining: 2.31s\n",
      "171:\tlearn: 0.4176419\ttotal: 480ms\tremaining: 2.31s\n",
      "172:\tlearn: 0.4172788\ttotal: 482ms\tremaining: 2.3s\n",
      "173:\tlearn: 0.4168291\ttotal: 484ms\tremaining: 2.3s\n",
      "174:\tlearn: 0.4162659\ttotal: 487ms\tremaining: 2.3s\n",
      "175:\tlearn: 0.4158566\ttotal: 490ms\tremaining: 2.29s\n",
      "176:\tlearn: 0.4151052\ttotal: 492ms\tremaining: 2.29s\n",
      "177:\tlearn: 0.4148212\ttotal: 494ms\tremaining: 2.28s\n",
      "178:\tlearn: 0.4146202\ttotal: 496ms\tremaining: 2.28s\n",
      "179:\tlearn: 0.4139849\ttotal: 499ms\tremaining: 2.27s\n",
      "180:\tlearn: 0.4136380\ttotal: 501ms\tremaining: 2.27s\n",
      "181:\tlearn: 0.4133236\ttotal: 505ms\tremaining: 2.27s\n",
      "182:\tlearn: 0.4129172\ttotal: 507ms\tremaining: 2.26s\n",
      "183:\tlearn: 0.4125208\ttotal: 509ms\tremaining: 2.26s\n",
      "184:\tlearn: 0.4120934\ttotal: 512ms\tremaining: 2.25s\n",
      "185:\tlearn: 0.4116928\ttotal: 514ms\tremaining: 2.25s\n",
      "186:\tlearn: 0.4113975\ttotal: 516ms\tremaining: 2.25s\n"
     ]
    },
    {
     "name": "stdout",
     "output_type": "stream",
     "text": [
      "187:\tlearn: 0.4110670\ttotal: 519ms\tremaining: 2.24s\n",
      "188:\tlearn: 0.4105921\ttotal: 521ms\tremaining: 2.24s\n",
      "189:\tlearn: 0.4100248\ttotal: 524ms\tremaining: 2.23s\n",
      "190:\tlearn: 0.4095974\ttotal: 526ms\tremaining: 2.23s\n",
      "191:\tlearn: 0.4091882\ttotal: 528ms\tremaining: 2.22s\n",
      "192:\tlearn: 0.4089164\ttotal: 530ms\tremaining: 2.22s\n",
      "193:\tlearn: 0.4084442\ttotal: 533ms\tremaining: 2.21s\n",
      "194:\tlearn: 0.4080704\ttotal: 535ms\tremaining: 2.21s\n",
      "195:\tlearn: 0.4078388\ttotal: 538ms\tremaining: 2.21s\n",
      "196:\tlearn: 0.4074553\ttotal: 541ms\tremaining: 2.2s\n",
      "197:\tlearn: 0.4072119\ttotal: 543ms\tremaining: 2.2s\n",
      "198:\tlearn: 0.4067517\ttotal: 546ms\tremaining: 2.2s\n",
      "199:\tlearn: 0.4063829\ttotal: 548ms\tremaining: 2.19s\n",
      "200:\tlearn: 0.4061121\ttotal: 551ms\tremaining: 2.19s\n",
      "201:\tlearn: 0.4057563\ttotal: 553ms\tremaining: 2.18s\n",
      "202:\tlearn: 0.4051086\ttotal: 556ms\tremaining: 2.18s\n",
      "203:\tlearn: 0.4048115\ttotal: 558ms\tremaining: 2.18s\n",
      "204:\tlearn: 0.4044637\ttotal: 560ms\tremaining: 2.17s\n",
      "205:\tlearn: 0.4041006\ttotal: 563ms\tremaining: 2.17s\n",
      "206:\tlearn: 0.4035681\ttotal: 566ms\tremaining: 2.17s\n",
      "207:\tlearn: 0.4032288\ttotal: 568ms\tremaining: 2.16s\n",
      "208:\tlearn: 0.4029700\ttotal: 570ms\tremaining: 2.16s\n",
      "209:\tlearn: 0.4025572\ttotal: 573ms\tremaining: 2.15s\n",
      "210:\tlearn: 0.4022989\ttotal: 575ms\tremaining: 2.15s\n",
      "211:\tlearn: 0.4017464\ttotal: 577ms\tremaining: 2.14s\n",
      "212:\tlearn: 0.4014427\ttotal: 579ms\tremaining: 2.14s\n",
      "213:\tlearn: 0.4011238\ttotal: 581ms\tremaining: 2.13s\n",
      "214:\tlearn: 0.4009204\ttotal: 584ms\tremaining: 2.13s\n",
      "215:\tlearn: 0.4004270\ttotal: 586ms\tremaining: 2.13s\n"
     ]
    },
    {
     "name": "stdout",
     "output_type": "stream",
     "text": [
      "216:\tlearn: 0.4001536\ttotal: 588ms\tremaining: 2.12s\n",
      "217:\tlearn: 0.3998625\ttotal: 591ms\tremaining: 2.12s\n",
      "218:\tlearn: 0.3995971\ttotal: 593ms\tremaining: 2.11s\n",
      "219:\tlearn: 0.3992289\ttotal: 595ms\tremaining: 2.11s\n",
      "220:\tlearn: 0.3989147\ttotal: 597ms\tremaining: 2.1s\n",
      "221:\tlearn: 0.3985211\ttotal: 599ms\tremaining: 2.1s\n",
      "222:\tlearn: 0.3981510\ttotal: 602ms\tremaining: 2.1s\n",
      "223:\tlearn: 0.3978301\ttotal: 604ms\tremaining: 2.09s\n",
      "224:\tlearn: 0.3975124\ttotal: 606ms\tremaining: 2.09s\n",
      "225:\tlearn: 0.3972827\ttotal: 608ms\tremaining: 2.08s\n",
      "226:\tlearn: 0.3970132\ttotal: 611ms\tremaining: 2.08s\n",
      "227:\tlearn: 0.3967284\ttotal: 613ms\tremaining: 2.07s\n",
      "228:\tlearn: 0.3964783\ttotal: 615ms\tremaining: 2.07s\n",
      "229:\tlearn: 0.3961428\ttotal: 618ms\tremaining: 2.07s\n",
      "230:\tlearn: 0.3958742\ttotal: 620ms\tremaining: 2.06s\n",
      "231:\tlearn: 0.3956376\ttotal: 623ms\tremaining: 2.06s\n",
      "232:\tlearn: 0.3954286\ttotal: 625ms\tremaining: 2.06s\n",
      "233:\tlearn: 0.3951926\ttotal: 628ms\tremaining: 2.06s\n",
      "234:\tlearn: 0.3948230\ttotal: 630ms\tremaining: 2.05s\n",
      "235:\tlearn: 0.3945836\ttotal: 633ms\tremaining: 2.05s\n",
      "236:\tlearn: 0.3944257\ttotal: 635ms\tremaining: 2.04s\n",
      "237:\tlearn: 0.3941618\ttotal: 638ms\tremaining: 2.04s\n",
      "238:\tlearn: 0.3939269\ttotal: 640ms\tremaining: 2.04s\n",
      "239:\tlearn: 0.3936738\ttotal: 643ms\tremaining: 2.04s\n",
      "240:\tlearn: 0.3932701\ttotal: 645ms\tremaining: 2.03s\n",
      "241:\tlearn: 0.3930332\ttotal: 648ms\tremaining: 2.03s\n",
      "242:\tlearn: 0.3928153\ttotal: 650ms\tremaining: 2.02s\n",
      "243:\tlearn: 0.3926111\ttotal: 653ms\tremaining: 2.02s\n",
      "244:\tlearn: 0.3924125\ttotal: 655ms\tremaining: 2.02s\n",
      "245:\tlearn: 0.3918123\ttotal: 657ms\tremaining: 2.01s\n",
      "246:\tlearn: 0.3914112\ttotal: 660ms\tremaining: 2.01s\n",
      "247:\tlearn: 0.3911403\ttotal: 662ms\tremaining: 2.01s\n",
      "248:\tlearn: 0.3908804\ttotal: 664ms\tremaining: 2s\n",
      "249:\tlearn: 0.3906787\ttotal: 667ms\tremaining: 2s\n",
      "250:\tlearn: 0.3904340\ttotal: 669ms\tremaining: 2s\n",
      "251:\tlearn: 0.3901277\ttotal: 671ms\tremaining: 1.99s\n",
      "252:\tlearn: 0.3899532\ttotal: 674ms\tremaining: 1.99s\n",
      "253:\tlearn: 0.3896776\ttotal: 676ms\tremaining: 1.99s\n",
      "254:\tlearn: 0.3895101\ttotal: 678ms\tremaining: 1.98s\n",
      "255:\tlearn: 0.3892471\ttotal: 681ms\tremaining: 1.98s\n",
      "256:\tlearn: 0.3889363\ttotal: 683ms\tremaining: 1.97s\n",
      "257:\tlearn: 0.3887090\ttotal: 685ms\tremaining: 1.97s\n",
      "258:\tlearn: 0.3885316\ttotal: 688ms\tremaining: 1.97s\n",
      "259:\tlearn: 0.3883757\ttotal: 690ms\tremaining: 1.96s\n",
      "260:\tlearn: 0.3881279\ttotal: 693ms\tremaining: 1.96s\n",
      "261:\tlearn: 0.3878587\ttotal: 695ms\tremaining: 1.96s\n",
      "262:\tlearn: 0.3875779\ttotal: 699ms\tremaining: 1.96s\n",
      "263:\tlearn: 0.3872684\ttotal: 702ms\tremaining: 1.96s\n",
      "264:\tlearn: 0.3870441\ttotal: 704ms\tremaining: 1.95s\n",
      "265:\tlearn: 0.3868570\ttotal: 706ms\tremaining: 1.95s\n",
      "266:\tlearn: 0.3866768\ttotal: 709ms\tremaining: 1.95s\n",
      "267:\tlearn: 0.3864334\ttotal: 711ms\tremaining: 1.94s\n"
     ]
    },
    {
     "name": "stdout",
     "output_type": "stream",
     "text": [
      "268:\tlearn: 0.3862338\ttotal: 714ms\tremaining: 1.94s\n",
      "269:\tlearn: 0.3859919\ttotal: 716ms\tremaining: 1.94s\n",
      "270:\tlearn: 0.3857675\ttotal: 719ms\tremaining: 1.93s\n",
      "271:\tlearn: 0.3855228\ttotal: 721ms\tremaining: 1.93s\n",
      "272:\tlearn: 0.3853826\ttotal: 723ms\tremaining: 1.93s\n",
      "273:\tlearn: 0.3851297\ttotal: 726ms\tremaining: 1.92s\n",
      "274:\tlearn: 0.3848291\ttotal: 728ms\tremaining: 1.92s\n",
      "275:\tlearn: 0.3846129\ttotal: 731ms\tremaining: 1.92s\n",
      "276:\tlearn: 0.3841540\ttotal: 733ms\tremaining: 1.91s\n",
      "277:\tlearn: 0.3840111\ttotal: 736ms\tremaining: 1.91s\n",
      "278:\tlearn: 0.3837591\ttotal: 738ms\tremaining: 1.91s\n",
      "279:\tlearn: 0.3835200\ttotal: 740ms\tremaining: 1.9s\n",
      "280:\tlearn: 0.3833745\ttotal: 743ms\tremaining: 1.9s\n",
      "281:\tlearn: 0.3832475\ttotal: 745ms\tremaining: 1.9s\n",
      "282:\tlearn: 0.3830852\ttotal: 748ms\tremaining: 1.9s\n",
      "283:\tlearn: 0.3825692\ttotal: 750ms\tremaining: 1.89s\n",
      "284:\tlearn: 0.3822636\ttotal: 753ms\tremaining: 1.89s\n",
      "285:\tlearn: 0.3817453\ttotal: 755ms\tremaining: 1.88s\n",
      "286:\tlearn: 0.3814695\ttotal: 757ms\tremaining: 1.88s\n",
      "287:\tlearn: 0.3812797\ttotal: 760ms\tremaining: 1.88s\n",
      "288:\tlearn: 0.3810439\ttotal: 763ms\tremaining: 1.88s\n",
      "289:\tlearn: 0.3808463\ttotal: 765ms\tremaining: 1.87s\n",
      "290:\tlearn: 0.3807003\ttotal: 768ms\tremaining: 1.87s\n",
      "291:\tlearn: 0.3804819\ttotal: 770ms\tremaining: 1.87s\n",
      "292:\tlearn: 0.3803166\ttotal: 773ms\tremaining: 1.86s\n",
      "293:\tlearn: 0.3800691\ttotal: 775ms\tremaining: 1.86s\n",
      "294:\tlearn: 0.3799461\ttotal: 779ms\tremaining: 1.86s\n",
      "295:\tlearn: 0.3797491\ttotal: 781ms\tremaining: 1.86s\n"
     ]
    },
    {
     "name": "stdout",
     "output_type": "stream",
     "text": [
      "296:\tlearn: 0.3795012\ttotal: 784ms\tremaining: 1.85s\n",
      "297:\tlearn: 0.3792357\ttotal: 786ms\tremaining: 1.85s\n",
      "298:\tlearn: 0.3789936\ttotal: 789ms\tremaining: 1.85s\n",
      "299:\tlearn: 0.3788156\ttotal: 791ms\tremaining: 1.84s\n",
      "300:\tlearn: 0.3784016\ttotal: 793ms\tremaining: 1.84s\n",
      "301:\tlearn: 0.3781785\ttotal: 796ms\tremaining: 1.84s\n",
      "302:\tlearn: 0.3779754\ttotal: 798ms\tremaining: 1.84s\n",
      "303:\tlearn: 0.3778182\ttotal: 801ms\tremaining: 1.83s\n",
      "304:\tlearn: 0.3775725\ttotal: 803ms\tremaining: 1.83s\n",
      "305:\tlearn: 0.3773701\ttotal: 805ms\tremaining: 1.83s\n",
      "306:\tlearn: 0.3771764\ttotal: 808ms\tremaining: 1.82s\n",
      "307:\tlearn: 0.3770174\ttotal: 810ms\tremaining: 1.82s\n",
      "308:\tlearn: 0.3769072\ttotal: 812ms\tremaining: 1.82s\n",
      "309:\tlearn: 0.3767448\ttotal: 815ms\tremaining: 1.81s\n",
      "310:\tlearn: 0.3765717\ttotal: 817ms\tremaining: 1.81s\n",
      "311:\tlearn: 0.3761695\ttotal: 819ms\tremaining: 1.81s\n",
      "312:\tlearn: 0.3759619\ttotal: 822ms\tremaining: 1.8s\n",
      "313:\tlearn: 0.3758065\ttotal: 824ms\tremaining: 1.8s\n",
      "314:\tlearn: 0.3755785\ttotal: 826ms\tremaining: 1.8s\n",
      "315:\tlearn: 0.3754008\ttotal: 829ms\tremaining: 1.79s\n",
      "316:\tlearn: 0.3751437\ttotal: 832ms\tremaining: 1.79s\n",
      "317:\tlearn: 0.3749700\ttotal: 835ms\tremaining: 1.79s\n",
      "318:\tlearn: 0.3748194\ttotal: 837ms\tremaining: 1.79s\n",
      "319:\tlearn: 0.3746049\ttotal: 839ms\tremaining: 1.78s\n",
      "320:\tlearn: 0.3743757\ttotal: 841ms\tremaining: 1.78s\n",
      "321:\tlearn: 0.3741358\ttotal: 844ms\tremaining: 1.78s\n",
      "322:\tlearn: 0.3737755\ttotal: 846ms\tremaining: 1.77s\n",
      "323:\tlearn: 0.3734558\ttotal: 849ms\tremaining: 1.77s\n",
      "324:\tlearn: 0.3732169\ttotal: 851ms\tremaining: 1.77s\n",
      "325:\tlearn: 0.3730383\ttotal: 853ms\tremaining: 1.76s\n",
      "326:\tlearn: 0.3728831\ttotal: 856ms\tremaining: 1.76s\n",
      "327:\tlearn: 0.3727290\ttotal: 858ms\tremaining: 1.76s\n",
      "328:\tlearn: 0.3724961\ttotal: 861ms\tremaining: 1.76s\n",
      "329:\tlearn: 0.3723324\ttotal: 863ms\tremaining: 1.75s\n",
      "330:\tlearn: 0.3722444\ttotal: 866ms\tremaining: 1.75s\n",
      "331:\tlearn: 0.3720499\ttotal: 868ms\tremaining: 1.75s\n",
      "332:\tlearn: 0.3718335\ttotal: 870ms\tremaining: 1.74s\n",
      "333:\tlearn: 0.3716264\ttotal: 873ms\tremaining: 1.74s\n",
      "334:\tlearn: 0.3713129\ttotal: 876ms\tremaining: 1.74s\n",
      "335:\tlearn: 0.3711507\ttotal: 879ms\tremaining: 1.74s\n",
      "336:\tlearn: 0.3709897\ttotal: 881ms\tremaining: 1.73s\n",
      "337:\tlearn: 0.3706909\ttotal: 883ms\tremaining: 1.73s\n",
      "338:\tlearn: 0.3705715\ttotal: 886ms\tremaining: 1.73s\n",
      "339:\tlearn: 0.3704152\ttotal: 888ms\tremaining: 1.72s\n",
      "340:\tlearn: 0.3702298\ttotal: 890ms\tremaining: 1.72s\n",
      "341:\tlearn: 0.3700486\ttotal: 893ms\tremaining: 1.72s\n",
      "342:\tlearn: 0.3696693\ttotal: 896ms\tremaining: 1.72s\n",
      "343:\tlearn: 0.3694989\ttotal: 898ms\tremaining: 1.71s\n",
      "344:\tlearn: 0.3691923\ttotal: 900ms\tremaining: 1.71s\n",
      "345:\tlearn: 0.3690361\ttotal: 903ms\tremaining: 1.71s\n",
      "346:\tlearn: 0.3688280\ttotal: 905ms\tremaining: 1.7s\n",
      "347:\tlearn: 0.3686605\ttotal: 908ms\tremaining: 1.7s\n"
     ]
    },
    {
     "name": "stdout",
     "output_type": "stream",
     "text": [
      "348:\tlearn: 0.3685047\ttotal: 911ms\tremaining: 1.7s\n",
      "349:\tlearn: 0.3683174\ttotal: 913ms\tremaining: 1.7s\n",
      "350:\tlearn: 0.3681130\ttotal: 915ms\tremaining: 1.69s\n",
      "351:\tlearn: 0.3678723\ttotal: 918ms\tremaining: 1.69s\n",
      "352:\tlearn: 0.3675268\ttotal: 920ms\tremaining: 1.69s\n",
      "353:\tlearn: 0.3673273\ttotal: 923ms\tremaining: 1.68s\n",
      "354:\tlearn: 0.3672317\ttotal: 926ms\tremaining: 1.68s\n",
      "355:\tlearn: 0.3670372\ttotal: 928ms\tremaining: 1.68s\n",
      "356:\tlearn: 0.3669044\ttotal: 931ms\tremaining: 1.68s\n",
      "357:\tlearn: 0.3666769\ttotal: 933ms\tremaining: 1.67s\n",
      "358:\tlearn: 0.3665750\ttotal: 936ms\tremaining: 1.67s\n",
      "359:\tlearn: 0.3664602\ttotal: 938ms\tremaining: 1.67s\n",
      "360:\tlearn: 0.3662396\ttotal: 943ms\tremaining: 1.67s\n",
      "361:\tlearn: 0.3660817\ttotal: 945ms\tremaining: 1.67s\n",
      "362:\tlearn: 0.3658628\ttotal: 948ms\tremaining: 1.66s\n",
      "363:\tlearn: 0.3655802\ttotal: 950ms\tremaining: 1.66s\n",
      "364:\tlearn: 0.3654594\ttotal: 953ms\tremaining: 1.66s\n",
      "365:\tlearn: 0.3650987\ttotal: 955ms\tremaining: 1.65s\n",
      "366:\tlearn: 0.3649320\ttotal: 958ms\tremaining: 1.65s\n",
      "367:\tlearn: 0.3646656\ttotal: 961ms\tremaining: 1.65s\n",
      "368:\tlearn: 0.3644820\ttotal: 963ms\tremaining: 1.65s\n",
      "369:\tlearn: 0.3642016\ttotal: 965ms\tremaining: 1.64s\n",
      "370:\tlearn: 0.3640101\ttotal: 968ms\tremaining: 1.64s\n",
      "371:\tlearn: 0.3637489\ttotal: 970ms\tremaining: 1.64s\n",
      "372:\tlearn: 0.3635683\ttotal: 972ms\tremaining: 1.63s\n",
      "373:\tlearn: 0.3633669\ttotal: 975ms\tremaining: 1.63s\n",
      "374:\tlearn: 0.3631632\ttotal: 977ms\tremaining: 1.63s\n"
     ]
    },
    {
     "name": "stdout",
     "output_type": "stream",
     "text": [
      "375:\tlearn: 0.3628664\ttotal: 980ms\tremaining: 1.63s\n",
      "376:\tlearn: 0.3627214\ttotal: 983ms\tremaining: 1.62s\n",
      "377:\tlearn: 0.3625413\ttotal: 985ms\tremaining: 1.62s\n",
      "378:\tlearn: 0.3623287\ttotal: 988ms\tremaining: 1.62s\n",
      "379:\tlearn: 0.3621861\ttotal: 991ms\tremaining: 1.62s\n",
      "380:\tlearn: 0.3620456\ttotal: 993ms\tremaining: 1.61s\n",
      "381:\tlearn: 0.3619091\ttotal: 996ms\tremaining: 1.61s\n",
      "382:\tlearn: 0.3617515\ttotal: 998ms\tremaining: 1.61s\n",
      "383:\tlearn: 0.3616125\ttotal: 1s\tremaining: 1.6s\n",
      "384:\tlearn: 0.3614363\ttotal: 1s\tremaining: 1.6s\n",
      "385:\tlearn: 0.3612237\ttotal: 1s\tremaining: 1.6s\n",
      "386:\tlearn: 0.3610785\ttotal: 1.01s\tremaining: 1.59s\n",
      "387:\tlearn: 0.3609402\ttotal: 1.01s\tremaining: 1.59s\n",
      "388:\tlearn: 0.3607504\ttotal: 1.01s\tremaining: 1.59s\n",
      "389:\tlearn: 0.3606190\ttotal: 1.01s\tremaining: 1.59s\n",
      "390:\tlearn: 0.3604700\ttotal: 1.02s\tremaining: 1.58s\n",
      "391:\tlearn: 0.3603514\ttotal: 1.02s\tremaining: 1.58s\n",
      "392:\tlearn: 0.3602448\ttotal: 1.02s\tremaining: 1.58s\n",
      "393:\tlearn: 0.3601037\ttotal: 1.02s\tremaining: 1.57s\n",
      "394:\tlearn: 0.3600054\ttotal: 1.03s\tremaining: 1.57s\n",
      "395:\tlearn: 0.3598154\ttotal: 1.03s\tremaining: 1.57s\n",
      "396:\tlearn: 0.3597584\ttotal: 1.03s\tremaining: 1.57s\n",
      "397:\tlearn: 0.3596405\ttotal: 1.03s\tremaining: 1.56s\n",
      "398:\tlearn: 0.3593960\ttotal: 1.04s\tremaining: 1.56s\n",
      "399:\tlearn: 0.3592322\ttotal: 1.04s\tremaining: 1.56s\n",
      "400:\tlearn: 0.3590344\ttotal: 1.04s\tremaining: 1.55s\n",
      "401:\tlearn: 0.3588267\ttotal: 1.04s\tremaining: 1.55s\n",
      "402:\tlearn: 0.3587119\ttotal: 1.05s\tremaining: 1.55s\n",
      "403:\tlearn: 0.3584569\ttotal: 1.05s\tremaining: 1.55s\n",
      "404:\tlearn: 0.3583504\ttotal: 1.05s\tremaining: 1.54s\n",
      "405:\tlearn: 0.3581657\ttotal: 1.05s\tremaining: 1.54s\n",
      "406:\tlearn: 0.3579970\ttotal: 1.06s\tremaining: 1.54s\n",
      "407:\tlearn: 0.3578666\ttotal: 1.06s\tremaining: 1.53s\n",
      "408:\tlearn: 0.3577113\ttotal: 1.06s\tremaining: 1.53s\n",
      "409:\tlearn: 0.3576060\ttotal: 1.06s\tremaining: 1.53s\n",
      "410:\tlearn: 0.3575012\ttotal: 1.07s\tremaining: 1.53s\n",
      "411:\tlearn: 0.3572702\ttotal: 1.07s\tremaining: 1.52s\n",
      "412:\tlearn: 0.3571346\ttotal: 1.07s\tremaining: 1.52s\n",
      "413:\tlearn: 0.3569707\ttotal: 1.07s\tremaining: 1.52s\n",
      "414:\tlearn: 0.3567566\ttotal: 1.08s\tremaining: 1.52s\n",
      "415:\tlearn: 0.3565587\ttotal: 1.08s\tremaining: 1.52s\n",
      "416:\tlearn: 0.3564272\ttotal: 1.08s\tremaining: 1.51s\n",
      "417:\tlearn: 0.3562368\ttotal: 1.08s\tremaining: 1.51s\n",
      "418:\tlearn: 0.3561030\ttotal: 1.09s\tremaining: 1.51s\n",
      "419:\tlearn: 0.3559131\ttotal: 1.09s\tremaining: 1.5s\n",
      "420:\tlearn: 0.3558139\ttotal: 1.09s\tremaining: 1.5s\n",
      "421:\tlearn: 0.3556573\ttotal: 1.09s\tremaining: 1.5s\n",
      "422:\tlearn: 0.3555553\ttotal: 1.09s\tremaining: 1.49s\n",
      "423:\tlearn: 0.3553212\ttotal: 1.1s\tremaining: 1.49s\n",
      "424:\tlearn: 0.3551631\ttotal: 1.1s\tremaining: 1.49s\n",
      "425:\tlearn: 0.3549076\ttotal: 1.1s\tremaining: 1.49s\n",
      "426:\tlearn: 0.3547413\ttotal: 1.1s\tremaining: 1.48s\n"
     ]
    },
    {
     "name": "stdout",
     "output_type": "stream",
     "text": [
      "427:\tlearn: 0.3546707\ttotal: 1.11s\tremaining: 1.48s\n",
      "428:\tlearn: 0.3545478\ttotal: 1.11s\tremaining: 1.48s\n",
      "429:\tlearn: 0.3542835\ttotal: 1.11s\tremaining: 1.47s\n",
      "430:\tlearn: 0.3540896\ttotal: 1.11s\tremaining: 1.47s\n",
      "431:\tlearn: 0.3539809\ttotal: 1.12s\tremaining: 1.47s\n",
      "432:\tlearn: 0.3538913\ttotal: 1.12s\tremaining: 1.47s\n",
      "433:\tlearn: 0.3537792\ttotal: 1.12s\tremaining: 1.46s\n",
      "434:\tlearn: 0.3536269\ttotal: 1.12s\tremaining: 1.46s\n",
      "435:\tlearn: 0.3534980\ttotal: 1.13s\tremaining: 1.46s\n",
      "436:\tlearn: 0.3533169\ttotal: 1.13s\tremaining: 1.46s\n",
      "437:\tlearn: 0.3532573\ttotal: 1.13s\tremaining: 1.45s\n",
      "438:\tlearn: 0.3530754\ttotal: 1.13s\tremaining: 1.45s\n",
      "439:\tlearn: 0.3529495\ttotal: 1.14s\tremaining: 1.45s\n",
      "440:\tlearn: 0.3526978\ttotal: 1.14s\tremaining: 1.44s\n",
      "441:\tlearn: 0.3525584\ttotal: 1.14s\tremaining: 1.44s\n",
      "442:\tlearn: 0.3523631\ttotal: 1.14s\tremaining: 1.44s\n",
      "443:\tlearn: 0.3522597\ttotal: 1.15s\tremaining: 1.44s\n",
      "444:\tlearn: 0.3521458\ttotal: 1.15s\tremaining: 1.43s\n",
      "445:\tlearn: 0.3520643\ttotal: 1.15s\tremaining: 1.43s\n",
      "446:\tlearn: 0.3519834\ttotal: 1.15s\tremaining: 1.43s\n",
      "447:\tlearn: 0.3518034\ttotal: 1.16s\tremaining: 1.42s\n",
      "448:\tlearn: 0.3515912\ttotal: 1.16s\tremaining: 1.42s\n",
      "449:\tlearn: 0.3514654\ttotal: 1.16s\tremaining: 1.42s\n",
      "450:\tlearn: 0.3513492\ttotal: 1.16s\tremaining: 1.42s\n",
      "451:\tlearn: 0.3511222\ttotal: 1.17s\tremaining: 1.41s\n",
      "452:\tlearn: 0.3509363\ttotal: 1.17s\tremaining: 1.41s\n",
      "453:\tlearn: 0.3507305\ttotal: 1.17s\tremaining: 1.41s\n",
      "454:\tlearn: 0.3506101\ttotal: 1.17s\tremaining: 1.4s\n"
     ]
    },
    {
     "name": "stdout",
     "output_type": "stream",
     "text": [
      "455:\tlearn: 0.3503140\ttotal: 1.17s\tremaining: 1.4s\n",
      "456:\tlearn: 0.3501594\ttotal: 1.18s\tremaining: 1.4s\n",
      "457:\tlearn: 0.3499480\ttotal: 1.18s\tremaining: 1.4s\n",
      "458:\tlearn: 0.3497391\ttotal: 1.18s\tremaining: 1.39s\n",
      "459:\tlearn: 0.3495381\ttotal: 1.18s\tremaining: 1.39s\n",
      "460:\tlearn: 0.3494281\ttotal: 1.19s\tremaining: 1.39s\n",
      "461:\tlearn: 0.3492208\ttotal: 1.19s\tremaining: 1.38s\n",
      "462:\tlearn: 0.3490700\ttotal: 1.19s\tremaining: 1.38s\n",
      "463:\tlearn: 0.3489549\ttotal: 1.19s\tremaining: 1.38s\n",
      "464:\tlearn: 0.3487971\ttotal: 1.2s\tremaining: 1.38s\n",
      "465:\tlearn: 0.3487003\ttotal: 1.2s\tremaining: 1.37s\n",
      "466:\tlearn: 0.3485601\ttotal: 1.2s\tremaining: 1.37s\n",
      "467:\tlearn: 0.3484283\ttotal: 1.2s\tremaining: 1.37s\n",
      "468:\tlearn: 0.3482621\ttotal: 1.21s\tremaining: 1.36s\n",
      "469:\tlearn: 0.3481447\ttotal: 1.21s\tremaining: 1.36s\n",
      "470:\tlearn: 0.3480413\ttotal: 1.21s\tremaining: 1.36s\n",
      "471:\tlearn: 0.3478580\ttotal: 1.21s\tremaining: 1.35s\n",
      "472:\tlearn: 0.3477389\ttotal: 1.21s\tremaining: 1.35s\n",
      "473:\tlearn: 0.3476205\ttotal: 1.22s\tremaining: 1.35s\n",
      "474:\tlearn: 0.3475766\ttotal: 1.22s\tremaining: 1.35s\n",
      "475:\tlearn: 0.3474537\ttotal: 1.22s\tremaining: 1.34s\n",
      "476:\tlearn: 0.3473713\ttotal: 1.22s\tremaining: 1.34s\n",
      "477:\tlearn: 0.3472270\ttotal: 1.23s\tremaining: 1.34s\n",
      "478:\tlearn: 0.3471131\ttotal: 1.23s\tremaining: 1.34s\n",
      "479:\tlearn: 0.3468969\ttotal: 1.23s\tremaining: 1.33s\n",
      "480:\tlearn: 0.3467747\ttotal: 1.23s\tremaining: 1.33s\n",
      "481:\tlearn: 0.3466522\ttotal: 1.24s\tremaining: 1.33s\n",
      "482:\tlearn: 0.3465308\ttotal: 1.24s\tremaining: 1.32s\n",
      "483:\tlearn: 0.3464703\ttotal: 1.24s\tremaining: 1.32s\n",
      "484:\tlearn: 0.3462380\ttotal: 1.24s\tremaining: 1.32s\n",
      "485:\tlearn: 0.3460422\ttotal: 1.24s\tremaining: 1.32s\n",
      "486:\tlearn: 0.3458571\ttotal: 1.25s\tremaining: 1.31s\n",
      "487:\tlearn: 0.3457717\ttotal: 1.25s\tremaining: 1.31s\n",
      "488:\tlearn: 0.3456648\ttotal: 1.25s\tremaining: 1.31s\n",
      "489:\tlearn: 0.3454872\ttotal: 1.25s\tremaining: 1.3s\n",
      "490:\tlearn: 0.3453400\ttotal: 1.26s\tremaining: 1.3s\n",
      "491:\tlearn: 0.3452757\ttotal: 1.26s\tremaining: 1.3s\n",
      "492:\tlearn: 0.3451897\ttotal: 1.26s\tremaining: 1.3s\n",
      "493:\tlearn: 0.3450713\ttotal: 1.26s\tremaining: 1.29s\n",
      "494:\tlearn: 0.3449744\ttotal: 1.27s\tremaining: 1.29s\n",
      "495:\tlearn: 0.3448626\ttotal: 1.27s\tremaining: 1.29s\n",
      "496:\tlearn: 0.3447483\ttotal: 1.27s\tremaining: 1.29s\n",
      "497:\tlearn: 0.3445469\ttotal: 1.27s\tremaining: 1.28s\n",
      "498:\tlearn: 0.3444015\ttotal: 1.28s\tremaining: 1.28s\n",
      "499:\tlearn: 0.3442526\ttotal: 1.28s\tremaining: 1.28s\n",
      "500:\tlearn: 0.3439452\ttotal: 1.28s\tremaining: 1.28s\n",
      "501:\tlearn: 0.3438109\ttotal: 1.28s\tremaining: 1.27s\n",
      "502:\tlearn: 0.3435815\ttotal: 1.29s\tremaining: 1.27s\n",
      "503:\tlearn: 0.3433644\ttotal: 1.29s\tremaining: 1.27s\n",
      "504:\tlearn: 0.3431878\ttotal: 1.29s\tremaining: 1.26s\n",
      "505:\tlearn: 0.3430796\ttotal: 1.29s\tremaining: 1.26s\n",
      "506:\tlearn: 0.3429979\ttotal: 1.29s\tremaining: 1.26s\n",
      "507:\tlearn: 0.3428596\ttotal: 1.3s\tremaining: 1.26s\n",
      "508:\tlearn: 0.3427735\ttotal: 1.3s\tremaining: 1.25s\n"
     ]
    },
    {
     "name": "stdout",
     "output_type": "stream",
     "text": [
      "509:\tlearn: 0.3427089\ttotal: 1.3s\tremaining: 1.25s\n",
      "510:\tlearn: 0.3426187\ttotal: 1.31s\tremaining: 1.25s\n",
      "511:\tlearn: 0.3424723\ttotal: 1.31s\tremaining: 1.25s\n",
      "512:\tlearn: 0.3422736\ttotal: 1.31s\tremaining: 1.24s\n",
      "513:\tlearn: 0.3421704\ttotal: 1.31s\tremaining: 1.24s\n",
      "514:\tlearn: 0.3420501\ttotal: 1.32s\tremaining: 1.24s\n",
      "515:\tlearn: 0.3418814\ttotal: 1.32s\tremaining: 1.24s\n",
      "516:\tlearn: 0.3417885\ttotal: 1.32s\tremaining: 1.24s\n",
      "517:\tlearn: 0.3416106\ttotal: 1.32s\tremaining: 1.23s\n",
      "518:\tlearn: 0.3415044\ttotal: 1.33s\tremaining: 1.23s\n",
      "519:\tlearn: 0.3412850\ttotal: 1.33s\tremaining: 1.23s\n",
      "520:\tlearn: 0.3411068\ttotal: 1.33s\tremaining: 1.22s\n",
      "521:\tlearn: 0.3409693\ttotal: 1.33s\tremaining: 1.22s\n",
      "522:\tlearn: 0.3408682\ttotal: 1.34s\tremaining: 1.22s\n",
      "523:\tlearn: 0.3407176\ttotal: 1.34s\tremaining: 1.22s\n",
      "524:\tlearn: 0.3406190\ttotal: 1.34s\tremaining: 1.21s\n",
      "525:\tlearn: 0.3403859\ttotal: 1.34s\tremaining: 1.21s\n",
      "526:\tlearn: 0.3402352\ttotal: 1.35s\tremaining: 1.21s\n",
      "527:\tlearn: 0.3401119\ttotal: 1.35s\tremaining: 1.21s\n",
      "528:\tlearn: 0.3399862\ttotal: 1.35s\tremaining: 1.2s\n",
      "529:\tlearn: 0.3398555\ttotal: 1.35s\tremaining: 1.2s\n",
      "530:\tlearn: 0.3397309\ttotal: 1.36s\tremaining: 1.2s\n",
      "531:\tlearn: 0.3396118\ttotal: 1.36s\tremaining: 1.2s\n",
      "532:\tlearn: 0.3395425\ttotal: 1.36s\tremaining: 1.19s\n",
      "533:\tlearn: 0.3394058\ttotal: 1.36s\tremaining: 1.19s\n",
      "534:\tlearn: 0.3393052\ttotal: 1.37s\tremaining: 1.19s\n"
     ]
    },
    {
     "name": "stdout",
     "output_type": "stream",
     "text": [
      "535:\tlearn: 0.3391862\ttotal: 1.37s\tremaining: 1.19s\n",
      "536:\tlearn: 0.3390581\ttotal: 1.37s\tremaining: 1.18s\n",
      "537:\tlearn: 0.3389882\ttotal: 1.37s\tremaining: 1.18s\n",
      "538:\tlearn: 0.3388600\ttotal: 1.38s\tremaining: 1.18s\n",
      "539:\tlearn: 0.3387501\ttotal: 1.38s\tremaining: 1.18s\n",
      "540:\tlearn: 0.3386614\ttotal: 1.38s\tremaining: 1.17s\n",
      "541:\tlearn: 0.3385306\ttotal: 1.38s\tremaining: 1.17s\n",
      "542:\tlearn: 0.3383802\ttotal: 1.39s\tremaining: 1.17s\n",
      "543:\tlearn: 0.3381703\ttotal: 1.39s\tremaining: 1.17s\n",
      "544:\tlearn: 0.3380661\ttotal: 1.39s\tremaining: 1.16s\n",
      "545:\tlearn: 0.3379923\ttotal: 1.4s\tremaining: 1.16s\n",
      "546:\tlearn: 0.3379609\ttotal: 1.4s\tremaining: 1.16s\n",
      "547:\tlearn: 0.3378500\ttotal: 1.4s\tremaining: 1.16s\n",
      "548:\tlearn: 0.3376931\ttotal: 1.4s\tremaining: 1.15s\n",
      "549:\tlearn: 0.3375809\ttotal: 1.41s\tremaining: 1.15s\n",
      "550:\tlearn: 0.3373649\ttotal: 1.41s\tremaining: 1.15s\n",
      "551:\tlearn: 0.3372566\ttotal: 1.41s\tremaining: 1.14s\n",
      "552:\tlearn: 0.3371688\ttotal: 1.41s\tremaining: 1.14s\n",
      "553:\tlearn: 0.3370564\ttotal: 1.42s\tremaining: 1.14s\n",
      "554:\tlearn: 0.3369566\ttotal: 1.42s\tremaining: 1.14s\n",
      "555:\tlearn: 0.3367979\ttotal: 1.42s\tremaining: 1.13s\n",
      "556:\tlearn: 0.3366780\ttotal: 1.42s\tremaining: 1.13s\n",
      "557:\tlearn: 0.3366009\ttotal: 1.42s\tremaining: 1.13s\n",
      "558:\tlearn: 0.3364746\ttotal: 1.43s\tremaining: 1.13s\n",
      "559:\tlearn: 0.3364358\ttotal: 1.43s\tremaining: 1.12s\n",
      "560:\tlearn: 0.3362662\ttotal: 1.43s\tremaining: 1.12s\n",
      "561:\tlearn: 0.3361692\ttotal: 1.43s\tremaining: 1.12s\n",
      "562:\tlearn: 0.3360833\ttotal: 1.44s\tremaining: 1.11s\n",
      "563:\tlearn: 0.3360463\ttotal: 1.44s\tremaining: 1.11s\n",
      "564:\tlearn: 0.3359475\ttotal: 1.44s\tremaining: 1.11s\n",
      "565:\tlearn: 0.3358879\ttotal: 1.44s\tremaining: 1.11s\n",
      "566:\tlearn: 0.3358243\ttotal: 1.45s\tremaining: 1.1s\n",
      "567:\tlearn: 0.3356109\ttotal: 1.45s\tremaining: 1.1s\n",
      "568:\tlearn: 0.3354616\ttotal: 1.45s\tremaining: 1.1s\n",
      "569:\tlearn: 0.3352846\ttotal: 1.45s\tremaining: 1.1s\n",
      "570:\tlearn: 0.3351308\ttotal: 1.46s\tremaining: 1.09s\n",
      "571:\tlearn: 0.3350121\ttotal: 1.46s\tremaining: 1.09s\n",
      "572:\tlearn: 0.3347965\ttotal: 1.46s\tremaining: 1.09s\n",
      "573:\tlearn: 0.3346979\ttotal: 1.46s\tremaining: 1.09s\n",
      "574:\tlearn: 0.3345808\ttotal: 1.47s\tremaining: 1.08s\n",
      "575:\tlearn: 0.3344636\ttotal: 1.47s\tremaining: 1.08s\n",
      "576:\tlearn: 0.3342911\ttotal: 1.47s\tremaining: 1.08s\n",
      "577:\tlearn: 0.3341374\ttotal: 1.47s\tremaining: 1.08s\n",
      "578:\tlearn: 0.3340195\ttotal: 1.48s\tremaining: 1.07s\n",
      "579:\tlearn: 0.3339081\ttotal: 1.48s\tremaining: 1.07s\n",
      "580:\tlearn: 0.3338117\ttotal: 1.48s\tremaining: 1.07s\n",
      "581:\tlearn: 0.3336972\ttotal: 1.48s\tremaining: 1.06s\n",
      "582:\tlearn: 0.3336169\ttotal: 1.49s\tremaining: 1.06s\n",
      "583:\tlearn: 0.3334709\ttotal: 1.49s\tremaining: 1.06s\n",
      "584:\tlearn: 0.3333643\ttotal: 1.49s\tremaining: 1.06s\n",
      "585:\tlearn: 0.3331337\ttotal: 1.49s\tremaining: 1.05s\n",
      "586:\tlearn: 0.3330283\ttotal: 1.5s\tremaining: 1.05s\n",
      "587:\tlearn: 0.3329496\ttotal: 1.5s\tremaining: 1.05s\n"
     ]
    },
    {
     "name": "stdout",
     "output_type": "stream",
     "text": [
      "588:\tlearn: 0.3328470\ttotal: 1.5s\tremaining: 1.05s\n",
      "589:\tlearn: 0.3327599\ttotal: 1.5s\tremaining: 1.04s\n",
      "590:\tlearn: 0.3326748\ttotal: 1.5s\tremaining: 1.04s\n",
      "591:\tlearn: 0.3325519\ttotal: 1.51s\tremaining: 1.04s\n",
      "592:\tlearn: 0.3324843\ttotal: 1.51s\tremaining: 1.04s\n",
      "593:\tlearn: 0.3323729\ttotal: 1.51s\tremaining: 1.03s\n",
      "594:\tlearn: 0.3322426\ttotal: 1.51s\tremaining: 1.03s\n",
      "595:\tlearn: 0.3321566\ttotal: 1.52s\tremaining: 1.03s\n",
      "596:\tlearn: 0.3320828\ttotal: 1.52s\tremaining: 1.02s\n",
      "597:\tlearn: 0.3319540\ttotal: 1.52s\tremaining: 1.02s\n",
      "598:\tlearn: 0.3318171\ttotal: 1.52s\tremaining: 1.02s\n",
      "599:\tlearn: 0.3317072\ttotal: 1.53s\tremaining: 1.02s\n",
      "600:\tlearn: 0.3316220\ttotal: 1.53s\tremaining: 1.01s\n",
      "601:\tlearn: 0.3314445\ttotal: 1.53s\tremaining: 1.01s\n",
      "602:\tlearn: 0.3313518\ttotal: 1.53s\tremaining: 1.01s\n",
      "603:\tlearn: 0.3312759\ttotal: 1.54s\tremaining: 1.01s\n",
      "604:\tlearn: 0.3311561\ttotal: 1.54s\tremaining: 1s\n",
      "605:\tlearn: 0.3310327\ttotal: 1.54s\tremaining: 1s\n",
      "606:\tlearn: 0.3309556\ttotal: 1.54s\tremaining: 1000ms\n",
      "607:\tlearn: 0.3308946\ttotal: 1.55s\tremaining: 997ms\n",
      "608:\tlearn: 0.3307950\ttotal: 1.55s\tremaining: 994ms\n",
      "609:\tlearn: 0.3306259\ttotal: 1.55s\tremaining: 992ms\n",
      "610:\tlearn: 0.3304850\ttotal: 1.55s\tremaining: 989ms\n",
      "611:\tlearn: 0.3303051\ttotal: 1.56s\tremaining: 987ms\n",
      "612:\tlearn: 0.3300922\ttotal: 1.56s\tremaining: 984ms\n",
      "613:\tlearn: 0.3299657\ttotal: 1.56s\tremaining: 981ms\n",
      "614:\tlearn: 0.3298472\ttotal: 1.56s\tremaining: 979ms\n"
     ]
    },
    {
     "name": "stdout",
     "output_type": "stream",
     "text": [
      "615:\tlearn: 0.3297264\ttotal: 1.57s\tremaining: 976ms\n",
      "616:\tlearn: 0.3296034\ttotal: 1.57s\tremaining: 974ms\n",
      "617:\tlearn: 0.3294960\ttotal: 1.57s\tremaining: 971ms\n",
      "618:\tlearn: 0.3293956\ttotal: 1.57s\tremaining: 969ms\n",
      "619:\tlearn: 0.3292748\ttotal: 1.58s\tremaining: 966ms\n",
      "620:\tlearn: 0.3291842\ttotal: 1.58s\tremaining: 964ms\n",
      "621:\tlearn: 0.3290413\ttotal: 1.58s\tremaining: 961ms\n",
      "622:\tlearn: 0.3289736\ttotal: 1.58s\tremaining: 959ms\n",
      "623:\tlearn: 0.3289032\ttotal: 1.59s\tremaining: 956ms\n",
      "624:\tlearn: 0.3287759\ttotal: 1.59s\tremaining: 953ms\n",
      "625:\tlearn: 0.3286851\ttotal: 1.59s\tremaining: 951ms\n",
      "626:\tlearn: 0.3286116\ttotal: 1.59s\tremaining: 948ms\n",
      "627:\tlearn: 0.3285114\ttotal: 1.6s\tremaining: 946ms\n",
      "628:\tlearn: 0.3283751\ttotal: 1.6s\tremaining: 943ms\n",
      "629:\tlearn: 0.3283068\ttotal: 1.6s\tremaining: 940ms\n",
      "630:\tlearn: 0.3282140\ttotal: 1.6s\tremaining: 938ms\n",
      "631:\tlearn: 0.3281286\ttotal: 1.61s\tremaining: 935ms\n",
      "632:\tlearn: 0.3279195\ttotal: 1.61s\tremaining: 933ms\n",
      "633:\tlearn: 0.3278329\ttotal: 1.61s\tremaining: 930ms\n",
      "634:\tlearn: 0.3277205\ttotal: 1.61s\tremaining: 927ms\n",
      "635:\tlearn: 0.3276008\ttotal: 1.61s\tremaining: 925ms\n",
      "636:\tlearn: 0.3274687\ttotal: 1.62s\tremaining: 922ms\n",
      "637:\tlearn: 0.3274126\ttotal: 1.62s\tremaining: 920ms\n",
      "638:\tlearn: 0.3272650\ttotal: 1.62s\tremaining: 917ms\n",
      "639:\tlearn: 0.3272072\ttotal: 1.63s\tremaining: 915ms\n",
      "640:\tlearn: 0.3270913\ttotal: 1.63s\tremaining: 912ms\n",
      "641:\tlearn: 0.3269640\ttotal: 1.63s\tremaining: 909ms\n",
      "642:\tlearn: 0.3268324\ttotal: 1.63s\tremaining: 907ms\n",
      "643:\tlearn: 0.3266308\ttotal: 1.63s\tremaining: 904ms\n",
      "644:\tlearn: 0.3265615\ttotal: 1.64s\tremaining: 901ms\n",
      "645:\tlearn: 0.3264669\ttotal: 1.64s\tremaining: 899ms\n",
      "646:\tlearn: 0.3264093\ttotal: 1.64s\tremaining: 896ms\n",
      "647:\tlearn: 0.3263280\ttotal: 1.64s\tremaining: 893ms\n",
      "648:\tlearn: 0.3262360\ttotal: 1.65s\tremaining: 891ms\n",
      "649:\tlearn: 0.3261241\ttotal: 1.65s\tremaining: 888ms\n",
      "650:\tlearn: 0.3260602\ttotal: 1.65s\tremaining: 886ms\n",
      "651:\tlearn: 0.3259535\ttotal: 1.65s\tremaining: 883ms\n",
      "652:\tlearn: 0.3258401\ttotal: 1.66s\tremaining: 881ms\n",
      "653:\tlearn: 0.3257033\ttotal: 1.66s\tremaining: 878ms\n",
      "654:\tlearn: 0.3255689\ttotal: 1.66s\tremaining: 876ms\n",
      "655:\tlearn: 0.3254492\ttotal: 1.66s\tremaining: 873ms\n",
      "656:\tlearn: 0.3253564\ttotal: 1.67s\tremaining: 870ms\n",
      "657:\tlearn: 0.3251922\ttotal: 1.67s\tremaining: 868ms\n",
      "658:\tlearn: 0.3250982\ttotal: 1.67s\tremaining: 865ms\n",
      "659:\tlearn: 0.3249916\ttotal: 1.67s\tremaining: 863ms\n",
      "660:\tlearn: 0.3248497\ttotal: 1.68s\tremaining: 860ms\n",
      "661:\tlearn: 0.3247688\ttotal: 1.68s\tremaining: 857ms\n",
      "662:\tlearn: 0.3246333\ttotal: 1.68s\tremaining: 855ms\n"
     ]
    },
    {
     "name": "stdout",
     "output_type": "stream",
     "text": [
      "663:\tlearn: 0.3245062\ttotal: 1.68s\tremaining: 853ms\n",
      "664:\tlearn: 0.3244312\ttotal: 1.69s\tremaining: 850ms\n",
      "665:\tlearn: 0.3242879\ttotal: 1.69s\tremaining: 848ms\n",
      "666:\tlearn: 0.3242222\ttotal: 1.69s\tremaining: 846ms\n",
      "667:\tlearn: 0.3241157\ttotal: 1.7s\tremaining: 843ms\n",
      "668:\tlearn: 0.3240018\ttotal: 1.7s\tremaining: 840ms\n",
      "669:\tlearn: 0.3238898\ttotal: 1.7s\tremaining: 838ms\n",
      "670:\tlearn: 0.3238370\ttotal: 1.7s\tremaining: 836ms\n",
      "671:\tlearn: 0.3238080\ttotal: 1.71s\tremaining: 833ms\n",
      "672:\tlearn: 0.3237346\ttotal: 1.71s\tremaining: 830ms\n",
      "673:\tlearn: 0.3236304\ttotal: 1.71s\tremaining: 827ms\n",
      "674:\tlearn: 0.3235321\ttotal: 1.71s\tremaining: 825ms\n",
      "675:\tlearn: 0.3234477\ttotal: 1.72s\tremaining: 823ms\n",
      "676:\tlearn: 0.3233488\ttotal: 1.72s\tremaining: 820ms\n",
      "677:\tlearn: 0.3232431\ttotal: 1.72s\tremaining: 817ms\n",
      "678:\tlearn: 0.3231388\ttotal: 1.72s\tremaining: 815ms\n",
      "679:\tlearn: 0.3230519\ttotal: 1.73s\tremaining: 812ms\n",
      "680:\tlearn: 0.3229277\ttotal: 1.73s\tremaining: 810ms\n",
      "681:\tlearn: 0.3228501\ttotal: 1.73s\tremaining: 807ms\n",
      "682:\tlearn: 0.3227585\ttotal: 1.73s\tremaining: 805ms\n",
      "683:\tlearn: 0.3227066\ttotal: 1.74s\tremaining: 802ms\n",
      "684:\tlearn: 0.3226189\ttotal: 1.74s\tremaining: 800ms\n",
      "685:\tlearn: 0.3224937\ttotal: 1.74s\tremaining: 798ms\n"
     ]
    },
    {
     "name": "stdout",
     "output_type": "stream",
     "text": [
      "686:\tlearn: 0.3223837\ttotal: 1.75s\tremaining: 795ms\n",
      "687:\tlearn: 0.3223174\ttotal: 1.75s\tremaining: 792ms\n",
      "688:\tlearn: 0.3222160\ttotal: 1.75s\tremaining: 790ms\n",
      "689:\tlearn: 0.3220979\ttotal: 1.75s\tremaining: 787ms\n",
      "690:\tlearn: 0.3218641\ttotal: 1.75s\tremaining: 785ms\n",
      "691:\tlearn: 0.3217883\ttotal: 1.76s\tremaining: 782ms\n",
      "692:\tlearn: 0.3217154\ttotal: 1.76s\tremaining: 780ms\n",
      "693:\tlearn: 0.3215144\ttotal: 1.76s\tremaining: 777ms\n",
      "694:\tlearn: 0.3214048\ttotal: 1.76s\tremaining: 774ms\n",
      "695:\tlearn: 0.3213033\ttotal: 1.77s\tremaining: 772ms\n",
      "696:\tlearn: 0.3212421\ttotal: 1.77s\tremaining: 769ms\n",
      "697:\tlearn: 0.3211401\ttotal: 1.77s\tremaining: 767ms\n",
      "698:\tlearn: 0.3210725\ttotal: 1.77s\tremaining: 764ms\n",
      "699:\tlearn: 0.3208670\ttotal: 1.78s\tremaining: 762ms\n",
      "700:\tlearn: 0.3207666\ttotal: 1.78s\tremaining: 759ms\n",
      "701:\tlearn: 0.3206470\ttotal: 1.78s\tremaining: 757ms\n",
      "702:\tlearn: 0.3205863\ttotal: 1.78s\tremaining: 754ms\n",
      "703:\tlearn: 0.3205093\ttotal: 1.79s\tremaining: 751ms\n",
      "704:\tlearn: 0.3204439\ttotal: 1.79s\tremaining: 749ms\n",
      "705:\tlearn: 0.3202998\ttotal: 1.79s\tremaining: 746ms\n",
      "706:\tlearn: 0.3201859\ttotal: 1.79s\tremaining: 744ms\n",
      "707:\tlearn: 0.3200147\ttotal: 1.8s\tremaining: 741ms\n",
      "708:\tlearn: 0.3199059\ttotal: 1.8s\tremaining: 739ms\n",
      "709:\tlearn: 0.3198014\ttotal: 1.8s\tremaining: 736ms\n",
      "710:\tlearn: 0.3196900\ttotal: 1.8s\tremaining: 734ms\n",
      "711:\tlearn: 0.3195691\ttotal: 1.81s\tremaining: 731ms\n",
      "712:\tlearn: 0.3194574\ttotal: 1.81s\tremaining: 728ms\n",
      "713:\tlearn: 0.3193656\ttotal: 1.81s\tremaining: 726ms\n",
      "714:\tlearn: 0.3193076\ttotal: 1.81s\tremaining: 723ms\n",
      "715:\tlearn: 0.3192124\ttotal: 1.82s\tremaining: 720ms\n",
      "716:\tlearn: 0.3190821\ttotal: 1.82s\tremaining: 718ms\n",
      "717:\tlearn: 0.3189790\ttotal: 1.82s\tremaining: 715ms\n",
      "718:\tlearn: 0.3188759\ttotal: 1.82s\tremaining: 712ms\n",
      "719:\tlearn: 0.3187496\ttotal: 1.82s\tremaining: 710ms\n",
      "720:\tlearn: 0.3186607\ttotal: 1.83s\tremaining: 707ms\n",
      "721:\tlearn: 0.3186204\ttotal: 1.83s\tremaining: 705ms\n",
      "722:\tlearn: 0.3184516\ttotal: 1.83s\tremaining: 702ms\n",
      "723:\tlearn: 0.3183512\ttotal: 1.83s\tremaining: 700ms\n",
      "724:\tlearn: 0.3182894\ttotal: 1.84s\tremaining: 697ms\n",
      "725:\tlearn: 0.3182385\ttotal: 1.84s\tremaining: 695ms\n",
      "726:\tlearn: 0.3181209\ttotal: 1.84s\tremaining: 692ms\n",
      "727:\tlearn: 0.3179973\ttotal: 1.85s\tremaining: 690ms\n",
      "728:\tlearn: 0.3179731\ttotal: 1.85s\tremaining: 687ms\n",
      "729:\tlearn: 0.3178572\ttotal: 1.85s\tremaining: 685ms\n",
      "730:\tlearn: 0.3178274\ttotal: 1.85s\tremaining: 682ms\n",
      "731:\tlearn: 0.3177727\ttotal: 1.85s\tremaining: 679ms\n",
      "732:\tlearn: 0.3176872\ttotal: 1.86s\tremaining: 677ms\n",
      "733:\tlearn: 0.3175733\ttotal: 1.86s\tremaining: 675ms\n",
      "734:\tlearn: 0.3174749\ttotal: 1.86s\tremaining: 672ms\n",
      "735:\tlearn: 0.3174262\ttotal: 1.87s\tremaining: 670ms\n",
      "736:\tlearn: 0.3173970\ttotal: 1.87s\tremaining: 667ms\n",
      "737:\tlearn: 0.3173283\ttotal: 1.87s\tremaining: 665ms\n",
      "738:\tlearn: 0.3172723\ttotal: 1.87s\tremaining: 662ms\n",
      "739:\tlearn: 0.3171750\ttotal: 1.88s\tremaining: 659ms\n"
     ]
    },
    {
     "name": "stdout",
     "output_type": "stream",
     "text": [
      "740:\tlearn: 0.3170852\ttotal: 1.88s\tremaining: 657ms\n",
      "741:\tlearn: 0.3169873\ttotal: 1.88s\tremaining: 654ms\n",
      "742:\tlearn: 0.3169234\ttotal: 1.88s\tremaining: 652ms\n",
      "743:\tlearn: 0.3168284\ttotal: 1.89s\tremaining: 649ms\n",
      "744:\tlearn: 0.3167107\ttotal: 1.89s\tremaining: 647ms\n",
      "745:\tlearn: 0.3166290\ttotal: 1.89s\tremaining: 644ms\n",
      "746:\tlearn: 0.3165425\ttotal: 1.9s\tremaining: 642ms\n",
      "747:\tlearn: 0.3164033\ttotal: 1.9s\tremaining: 640ms\n",
      "748:\tlearn: 0.3163362\ttotal: 1.9s\tremaining: 637ms\n",
      "749:\tlearn: 0.3162268\ttotal: 1.9s\tremaining: 634ms\n",
      "750:\tlearn: 0.3160835\ttotal: 1.91s\tremaining: 632ms\n",
      "751:\tlearn: 0.3159775\ttotal: 1.91s\tremaining: 629ms\n",
      "752:\tlearn: 0.3158548\ttotal: 1.91s\tremaining: 627ms\n",
      "753:\tlearn: 0.3157642\ttotal: 1.91s\tremaining: 624ms\n",
      "754:\tlearn: 0.3156000\ttotal: 1.92s\tremaining: 622ms\n",
      "755:\tlearn: 0.3154919\ttotal: 1.92s\tremaining: 619ms\n",
      "756:\tlearn: 0.3153756\ttotal: 1.92s\tremaining: 617ms\n",
      "757:\tlearn: 0.3153003\ttotal: 1.92s\tremaining: 614ms\n",
      "758:\tlearn: 0.3152497\ttotal: 1.93s\tremaining: 612ms\n",
      "759:\tlearn: 0.3151593\ttotal: 1.93s\tremaining: 609ms\n",
      "760:\tlearn: 0.3150699\ttotal: 1.93s\tremaining: 606ms\n",
      "761:\tlearn: 0.3148477\ttotal: 1.93s\tremaining: 604ms\n",
      "762:\tlearn: 0.3147650\ttotal: 1.94s\tremaining: 601ms\n",
      "763:\tlearn: 0.3146641\ttotal: 1.94s\tremaining: 599ms\n"
     ]
    },
    {
     "name": "stdout",
     "output_type": "stream",
     "text": [
      "764:\tlearn: 0.3145198\ttotal: 1.94s\tremaining: 596ms\n",
      "765:\tlearn: 0.3143973\ttotal: 1.94s\tremaining: 594ms\n",
      "766:\tlearn: 0.3142576\ttotal: 1.95s\tremaining: 591ms\n",
      "767:\tlearn: 0.3141367\ttotal: 1.95s\tremaining: 589ms\n",
      "768:\tlearn: 0.3139771\ttotal: 1.95s\tremaining: 586ms\n",
      "769:\tlearn: 0.3138953\ttotal: 1.95s\tremaining: 584ms\n",
      "770:\tlearn: 0.3137842\ttotal: 1.96s\tremaining: 581ms\n",
      "771:\tlearn: 0.3137088\ttotal: 1.96s\tremaining: 578ms\n",
      "772:\tlearn: 0.3136310\ttotal: 1.96s\tremaining: 576ms\n",
      "773:\tlearn: 0.3135779\ttotal: 1.96s\tremaining: 573ms\n",
      "774:\tlearn: 0.3135035\ttotal: 1.97s\tremaining: 571ms\n",
      "775:\tlearn: 0.3134248\ttotal: 1.97s\tremaining: 568ms\n",
      "776:\tlearn: 0.3133591\ttotal: 1.97s\tremaining: 566ms\n",
      "777:\tlearn: 0.3132406\ttotal: 1.97s\tremaining: 563ms\n",
      "778:\tlearn: 0.3131414\ttotal: 1.98s\tremaining: 561ms\n",
      "779:\tlearn: 0.3130515\ttotal: 1.98s\tremaining: 558ms\n",
      "780:\tlearn: 0.3129208\ttotal: 1.98s\tremaining: 556ms\n",
      "781:\tlearn: 0.3128135\ttotal: 1.98s\tremaining: 553ms\n",
      "782:\tlearn: 0.3127379\ttotal: 1.99s\tremaining: 550ms\n",
      "783:\tlearn: 0.3126584\ttotal: 1.99s\tremaining: 548ms\n",
      "784:\tlearn: 0.3125648\ttotal: 1.99s\tremaining: 545ms\n",
      "785:\tlearn: 0.3124596\ttotal: 1.99s\tremaining: 543ms\n",
      "786:\tlearn: 0.3123693\ttotal: 2s\tremaining: 540ms\n",
      "787:\tlearn: 0.3123211\ttotal: 2s\tremaining: 538ms\n",
      "788:\tlearn: 0.3122678\ttotal: 2s\tremaining: 535ms\n",
      "789:\tlearn: 0.3121339\ttotal: 2s\tremaining: 533ms\n",
      "790:\tlearn: 0.3120674\ttotal: 2s\tremaining: 530ms\n",
      "791:\tlearn: 0.3120183\ttotal: 2.01s\tremaining: 527ms\n",
      "792:\tlearn: 0.3119043\ttotal: 2.01s\tremaining: 525ms\n",
      "793:\tlearn: 0.3118240\ttotal: 2.01s\tremaining: 522ms\n",
      "794:\tlearn: 0.3117429\ttotal: 2.02s\tremaining: 520ms\n",
      "795:\tlearn: 0.3116224\ttotal: 2.02s\tremaining: 517ms\n",
      "796:\tlearn: 0.3115747\ttotal: 2.02s\tremaining: 515ms\n",
      "797:\tlearn: 0.3114114\ttotal: 2.02s\tremaining: 512ms\n",
      "798:\tlearn: 0.3112809\ttotal: 2.03s\tremaining: 510ms\n",
      "799:\tlearn: 0.3111882\ttotal: 2.03s\tremaining: 507ms\n",
      "800:\tlearn: 0.3111181\ttotal: 2.03s\tremaining: 505ms\n",
      "801:\tlearn: 0.3110500\ttotal: 2.03s\tremaining: 502ms\n",
      "802:\tlearn: 0.3109908\ttotal: 2.04s\tremaining: 499ms\n",
      "803:\tlearn: 0.3108275\ttotal: 2.04s\tremaining: 497ms\n",
      "804:\tlearn: 0.3106990\ttotal: 2.04s\tremaining: 494ms\n",
      "805:\tlearn: 0.3106462\ttotal: 2.04s\tremaining: 492ms\n",
      "806:\tlearn: 0.3105767\ttotal: 2.04s\tremaining: 489ms\n",
      "807:\tlearn: 0.3104128\ttotal: 2.05s\tremaining: 487ms\n",
      "808:\tlearn: 0.3103108\ttotal: 2.05s\tremaining: 484ms\n",
      "809:\tlearn: 0.3102075\ttotal: 2.05s\tremaining: 482ms\n",
      "810:\tlearn: 0.3101143\ttotal: 2.06s\tremaining: 479ms\n",
      "811:\tlearn: 0.3100470\ttotal: 2.06s\tremaining: 477ms\n",
      "812:\tlearn: 0.3100159\ttotal: 2.06s\tremaining: 474ms\n",
      "813:\tlearn: 0.3099313\ttotal: 2.06s\tremaining: 471ms\n",
      "814:\tlearn: 0.3098408\ttotal: 2.06s\tremaining: 469ms\n",
      "815:\tlearn: 0.3097346\ttotal: 2.07s\tremaining: 466ms\n",
      "816:\tlearn: 0.3096278\ttotal: 2.07s\tremaining: 464ms\n",
      "817:\tlearn: 0.3095942\ttotal: 2.07s\tremaining: 461ms\n"
     ]
    },
    {
     "name": "stdout",
     "output_type": "stream",
     "text": [
      "818:\tlearn: 0.3093979\ttotal: 2.08s\tremaining: 459ms\n",
      "819:\tlearn: 0.3093518\ttotal: 2.08s\tremaining: 456ms\n",
      "820:\tlearn: 0.3092600\ttotal: 2.08s\tremaining: 454ms\n",
      "821:\tlearn: 0.3091492\ttotal: 2.08s\tremaining: 451ms\n",
      "822:\tlearn: 0.3090883\ttotal: 2.08s\tremaining: 448ms\n",
      "823:\tlearn: 0.3089935\ttotal: 2.09s\tremaining: 446ms\n",
      "824:\tlearn: 0.3089032\ttotal: 2.09s\tremaining: 443ms\n",
      "825:\tlearn: 0.3088214\ttotal: 2.09s\tremaining: 441ms\n",
      "826:\tlearn: 0.3087599\ttotal: 2.1s\tremaining: 438ms\n",
      "827:\tlearn: 0.3087113\ttotal: 2.1s\tremaining: 436ms\n",
      "828:\tlearn: 0.3086375\ttotal: 2.1s\tremaining: 433ms\n",
      "829:\tlearn: 0.3085643\ttotal: 2.1s\tremaining: 431ms\n",
      "830:\tlearn: 0.3084635\ttotal: 2.1s\tremaining: 428ms\n",
      "831:\tlearn: 0.3083638\ttotal: 2.11s\tremaining: 425ms\n",
      "832:\tlearn: 0.3082656\ttotal: 2.11s\tremaining: 423ms\n",
      "833:\tlearn: 0.3081134\ttotal: 2.11s\tremaining: 420ms\n",
      "834:\tlearn: 0.3080496\ttotal: 2.11s\tremaining: 418ms\n",
      "835:\tlearn: 0.3079617\ttotal: 2.12s\tremaining: 415ms\n",
      "836:\tlearn: 0.3078483\ttotal: 2.12s\tremaining: 413ms\n",
      "837:\tlearn: 0.3077777\ttotal: 2.12s\tremaining: 410ms\n",
      "838:\tlearn: 0.3077241\ttotal: 2.12s\tremaining: 407ms\n",
      "839:\tlearn: 0.3076337\ttotal: 2.13s\tremaining: 405ms\n",
      "840:\tlearn: 0.3075684\ttotal: 2.13s\tremaining: 402ms\n",
      "841:\tlearn: 0.3075050\ttotal: 2.13s\tremaining: 400ms\n",
      "842:\tlearn: 0.3074040\ttotal: 2.13s\tremaining: 397ms\n",
      "843:\tlearn: 0.3073597\ttotal: 2.13s\tremaining: 395ms\n"
     ]
    },
    {
     "name": "stdout",
     "output_type": "stream",
     "text": [
      "844:\tlearn: 0.3072613\ttotal: 2.14s\tremaining: 392ms\n",
      "845:\tlearn: 0.3071300\ttotal: 2.14s\tremaining: 390ms\n",
      "846:\tlearn: 0.3070539\ttotal: 2.14s\tremaining: 387ms\n",
      "847:\tlearn: 0.3070163\ttotal: 2.15s\tremaining: 385ms\n",
      "848:\tlearn: 0.3069351\ttotal: 2.15s\tremaining: 382ms\n",
      "849:\tlearn: 0.3067378\ttotal: 2.15s\tremaining: 380ms\n",
      "850:\tlearn: 0.3066646\ttotal: 2.15s\tremaining: 377ms\n",
      "851:\tlearn: 0.3065461\ttotal: 2.16s\tremaining: 375ms\n",
      "852:\tlearn: 0.3064919\ttotal: 2.16s\tremaining: 372ms\n",
      "853:\tlearn: 0.3063846\ttotal: 2.16s\tremaining: 369ms\n",
      "854:\tlearn: 0.3063248\ttotal: 2.16s\tremaining: 367ms\n",
      "855:\tlearn: 0.3062529\ttotal: 2.17s\tremaining: 364ms\n",
      "856:\tlearn: 0.3061735\ttotal: 2.17s\tremaining: 362ms\n",
      "857:\tlearn: 0.3061181\ttotal: 2.17s\tremaining: 359ms\n",
      "858:\tlearn: 0.3060362\ttotal: 2.17s\tremaining: 357ms\n",
      "859:\tlearn: 0.3059803\ttotal: 2.17s\tremaining: 354ms\n",
      "860:\tlearn: 0.3058738\ttotal: 2.18s\tremaining: 351ms\n",
      "861:\tlearn: 0.3057797\ttotal: 2.18s\tremaining: 349ms\n",
      "862:\tlearn: 0.3056805\ttotal: 2.18s\tremaining: 346ms\n",
      "863:\tlearn: 0.3055944\ttotal: 2.18s\tremaining: 344ms\n",
      "864:\tlearn: 0.3055282\ttotal: 2.19s\tremaining: 342ms\n",
      "865:\tlearn: 0.3054332\ttotal: 2.19s\tremaining: 339ms\n",
      "866:\tlearn: 0.3053666\ttotal: 2.19s\tremaining: 336ms\n",
      "867:\tlearn: 0.3053078\ttotal: 2.2s\tremaining: 334ms\n",
      "868:\tlearn: 0.3052042\ttotal: 2.2s\tremaining: 331ms\n",
      "869:\tlearn: 0.3051246\ttotal: 2.2s\tremaining: 329ms\n",
      "870:\tlearn: 0.3050325\ttotal: 2.2s\tremaining: 326ms\n",
      "871:\tlearn: 0.3049058\ttotal: 2.21s\tremaining: 324ms\n",
      "872:\tlearn: 0.3048284\ttotal: 2.21s\tremaining: 321ms\n",
      "873:\tlearn: 0.3047356\ttotal: 2.21s\tremaining: 319ms\n",
      "874:\tlearn: 0.3046558\ttotal: 2.21s\tremaining: 316ms\n",
      "875:\tlearn: 0.3045472\ttotal: 2.21s\tremaining: 314ms\n",
      "876:\tlearn: 0.3044449\ttotal: 2.22s\tremaining: 311ms\n",
      "877:\tlearn: 0.3043429\ttotal: 2.22s\tremaining: 309ms\n",
      "878:\tlearn: 0.3042409\ttotal: 2.23s\tremaining: 306ms\n",
      "879:\tlearn: 0.3041973\ttotal: 2.23s\tremaining: 304ms\n",
      "880:\tlearn: 0.3041206\ttotal: 2.23s\tremaining: 301ms\n",
      "881:\tlearn: 0.3040016\ttotal: 2.23s\tremaining: 299ms\n",
      "882:\tlearn: 0.3039269\ttotal: 2.23s\tremaining: 296ms\n",
      "883:\tlearn: 0.3038210\ttotal: 2.24s\tremaining: 294ms\n",
      "884:\tlearn: 0.3037612\ttotal: 2.24s\tremaining: 291ms\n",
      "885:\tlearn: 0.3036603\ttotal: 2.24s\tremaining: 289ms\n",
      "886:\tlearn: 0.3035002\ttotal: 2.25s\tremaining: 286ms\n",
      "887:\tlearn: 0.3033568\ttotal: 2.25s\tremaining: 284ms\n",
      "888:\tlearn: 0.3032580\ttotal: 2.25s\tremaining: 281ms\n",
      "889:\tlearn: 0.3032200\ttotal: 2.25s\tremaining: 278ms\n",
      "890:\tlearn: 0.3031470\ttotal: 2.25s\tremaining: 276ms\n",
      "891:\tlearn: 0.3031038\ttotal: 2.26s\tremaining: 273ms\n",
      "892:\tlearn: 0.3029861\ttotal: 2.26s\tremaining: 271ms\n",
      "893:\tlearn: 0.3029015\ttotal: 2.26s\tremaining: 268ms\n",
      "894:\tlearn: 0.3028279\ttotal: 2.27s\tremaining: 266ms\n",
      "895:\tlearn: 0.3027272\ttotal: 2.27s\tremaining: 263ms\n"
     ]
    },
    {
     "name": "stdout",
     "output_type": "stream",
     "text": [
      "896:\tlearn: 0.3026627\ttotal: 2.27s\tremaining: 261ms\n",
      "897:\tlearn: 0.3025757\ttotal: 2.27s\tremaining: 258ms\n",
      "898:\tlearn: 0.3024429\ttotal: 2.28s\tremaining: 256ms\n",
      "899:\tlearn: 0.3023647\ttotal: 2.28s\tremaining: 253ms\n",
      "900:\tlearn: 0.3022631\ttotal: 2.28s\tremaining: 251ms\n",
      "901:\tlearn: 0.3021901\ttotal: 2.28s\tremaining: 248ms\n",
      "902:\tlearn: 0.3021210\ttotal: 2.29s\tremaining: 246ms\n",
      "903:\tlearn: 0.3020611\ttotal: 2.29s\tremaining: 243ms\n",
      "904:\tlearn: 0.3019967\ttotal: 2.29s\tremaining: 241ms\n",
      "905:\tlearn: 0.3019027\ttotal: 2.29s\tremaining: 238ms\n",
      "906:\tlearn: 0.3017829\ttotal: 2.3s\tremaining: 235ms\n",
      "907:\tlearn: 0.3016794\ttotal: 2.3s\tremaining: 233ms\n",
      "908:\tlearn: 0.3016343\ttotal: 2.3s\tremaining: 230ms\n",
      "909:\tlearn: 0.3015729\ttotal: 2.3s\tremaining: 228ms\n",
      "910:\tlearn: 0.3014768\ttotal: 2.31s\tremaining: 225ms\n",
      "911:\tlearn: 0.3014070\ttotal: 2.31s\tremaining: 223ms\n",
      "912:\tlearn: 0.3012640\ttotal: 2.31s\tremaining: 220ms\n",
      "913:\tlearn: 0.3011525\ttotal: 2.31s\tremaining: 218ms\n",
      "914:\tlearn: 0.3010711\ttotal: 2.32s\tremaining: 215ms\n",
      "915:\tlearn: 0.3010321\ttotal: 2.32s\tremaining: 213ms\n",
      "916:\tlearn: 0.3009679\ttotal: 2.32s\tremaining: 210ms\n",
      "917:\tlearn: 0.3008801\ttotal: 2.32s\tremaining: 208ms\n",
      "918:\tlearn: 0.3008065\ttotal: 2.33s\tremaining: 205ms\n",
      "919:\tlearn: 0.3007402\ttotal: 2.33s\tremaining: 203ms\n",
      "920:\tlearn: 0.3006433\ttotal: 2.33s\tremaining: 200ms\n"
     ]
    },
    {
     "name": "stdout",
     "output_type": "stream",
     "text": [
      "921:\tlearn: 0.3005704\ttotal: 2.33s\tremaining: 197ms\n",
      "922:\tlearn: 0.3004868\ttotal: 2.34s\tremaining: 195ms\n",
      "923:\tlearn: 0.3004442\ttotal: 2.34s\tremaining: 192ms\n",
      "924:\tlearn: 0.3003704\ttotal: 2.34s\tremaining: 190ms\n",
      "925:\tlearn: 0.3002515\ttotal: 2.34s\tremaining: 187ms\n",
      "926:\tlearn: 0.3001896\ttotal: 2.35s\tremaining: 185ms\n",
      "927:\tlearn: 0.3000838\ttotal: 2.35s\tremaining: 182ms\n",
      "928:\tlearn: 0.3000231\ttotal: 2.35s\tremaining: 180ms\n",
      "929:\tlearn: 0.2999977\ttotal: 2.35s\tremaining: 177ms\n",
      "930:\tlearn: 0.2999125\ttotal: 2.36s\tremaining: 175ms\n",
      "931:\tlearn: 0.2998492\ttotal: 2.36s\tremaining: 172ms\n",
      "932:\tlearn: 0.2998244\ttotal: 2.36s\tremaining: 170ms\n",
      "933:\tlearn: 0.2997572\ttotal: 2.36s\tremaining: 167ms\n",
      "934:\tlearn: 0.2996648\ttotal: 2.37s\tremaining: 164ms\n",
      "935:\tlearn: 0.2995749\ttotal: 2.37s\tremaining: 162ms\n",
      "936:\tlearn: 0.2995269\ttotal: 2.37s\tremaining: 159ms\n",
      "937:\tlearn: 0.2994345\ttotal: 2.37s\tremaining: 157ms\n",
      "938:\tlearn: 0.2993570\ttotal: 2.38s\tremaining: 154ms\n",
      "939:\tlearn: 0.2992849\ttotal: 2.38s\tremaining: 152ms\n",
      "940:\tlearn: 0.2992264\ttotal: 2.38s\tremaining: 149ms\n",
      "941:\tlearn: 0.2991575\ttotal: 2.38s\tremaining: 147ms\n",
      "942:\tlearn: 0.2991147\ttotal: 2.38s\tremaining: 144ms\n",
      "943:\tlearn: 0.2990291\ttotal: 2.39s\tremaining: 142ms\n",
      "944:\tlearn: 0.2989660\ttotal: 2.39s\tremaining: 139ms\n",
      "945:\tlearn: 0.2988563\ttotal: 2.39s\tremaining: 137ms\n",
      "946:\tlearn: 0.2987281\ttotal: 2.4s\tremaining: 134ms\n",
      "947:\tlearn: 0.2986106\ttotal: 2.4s\tremaining: 132ms\n",
      "948:\tlearn: 0.2985630\ttotal: 2.4s\tremaining: 129ms\n",
      "949:\tlearn: 0.2984806\ttotal: 2.4s\tremaining: 126ms\n",
      "950:\tlearn: 0.2984325\ttotal: 2.4s\tremaining: 124ms\n",
      "951:\tlearn: 0.2983756\ttotal: 2.41s\tremaining: 121ms\n",
      "952:\tlearn: 0.2983100\ttotal: 2.41s\tremaining: 119ms\n",
      "953:\tlearn: 0.2982396\ttotal: 2.41s\tremaining: 116ms\n",
      "954:\tlearn: 0.2980877\ttotal: 2.41s\tremaining: 114ms\n",
      "955:\tlearn: 0.2980128\ttotal: 2.42s\tremaining: 111ms\n",
      "956:\tlearn: 0.2979400\ttotal: 2.42s\tremaining: 109ms\n",
      "957:\tlearn: 0.2978748\ttotal: 2.42s\tremaining: 106ms\n",
      "958:\tlearn: 0.2978245\ttotal: 2.42s\tremaining: 104ms\n",
      "959:\tlearn: 0.2977590\ttotal: 2.42s\tremaining: 101ms\n",
      "960:\tlearn: 0.2976969\ttotal: 2.43s\tremaining: 98.6ms\n",
      "961:\tlearn: 0.2976093\ttotal: 2.43s\tremaining: 96.1ms\n",
      "962:\tlearn: 0.2975106\ttotal: 2.44s\tremaining: 93.6ms\n",
      "963:\tlearn: 0.2974244\ttotal: 2.44s\tremaining: 91ms\n",
      "964:\tlearn: 0.2973596\ttotal: 2.44s\tremaining: 88.5ms\n",
      "965:\tlearn: 0.2973036\ttotal: 2.44s\tremaining: 86ms\n",
      "966:\tlearn: 0.2972823\ttotal: 2.44s\tremaining: 83.4ms\n",
      "967:\tlearn: 0.2972206\ttotal: 2.45s\tremaining: 80.9ms\n",
      "968:\tlearn: 0.2971576\ttotal: 2.45s\tremaining: 78.4ms\n",
      "969:\tlearn: 0.2970502\ttotal: 2.45s\tremaining: 75.8ms\n",
      "970:\tlearn: 0.2969357\ttotal: 2.45s\tremaining: 73.3ms\n",
      "971:\tlearn: 0.2968659\ttotal: 2.46s\tremaining: 70.8ms\n",
      "972:\tlearn: 0.2968103\ttotal: 2.46s\tremaining: 68.3ms\n",
      "973:\tlearn: 0.2966884\ttotal: 2.46s\tremaining: 65.7ms\n",
      "974:\tlearn: 0.2966301\ttotal: 2.46s\tremaining: 63.2ms\n"
     ]
    },
    {
     "name": "stdout",
     "output_type": "stream",
     "text": [
      "975:\tlearn: 0.2965466\ttotal: 2.47s\tremaining: 60.7ms\n",
      "976:\tlearn: 0.2965010\ttotal: 2.47s\tremaining: 58.1ms\n",
      "977:\tlearn: 0.2964031\ttotal: 2.47s\tremaining: 55.6ms\n",
      "978:\tlearn: 0.2962967\ttotal: 2.48s\tremaining: 53.1ms\n",
      "979:\tlearn: 0.2962305\ttotal: 2.48s\tremaining: 50.6ms\n",
      "980:\tlearn: 0.2961866\ttotal: 2.48s\tremaining: 48ms\n",
      "981:\tlearn: 0.2961306\ttotal: 2.48s\tremaining: 45.5ms\n",
      "982:\tlearn: 0.2960726\ttotal: 2.48s\tremaining: 43ms\n",
      "983:\tlearn: 0.2960328\ttotal: 2.49s\tremaining: 40.5ms\n",
      "984:\tlearn: 0.2959874\ttotal: 2.49s\tremaining: 37.9ms\n",
      "985:\tlearn: 0.2959017\ttotal: 2.49s\tremaining: 35.4ms\n",
      "986:\tlearn: 0.2958128\ttotal: 2.5s\tremaining: 32.9ms\n",
      "987:\tlearn: 0.2957037\ttotal: 2.5s\tremaining: 30.3ms\n",
      "988:\tlearn: 0.2955997\ttotal: 2.5s\tremaining: 27.8ms\n",
      "989:\tlearn: 0.2955357\ttotal: 2.5s\tremaining: 25.3ms\n",
      "990:\tlearn: 0.2954521\ttotal: 2.51s\tremaining: 22.8ms\n",
      "991:\tlearn: 0.2953777\ttotal: 2.51s\tremaining: 20.2ms\n",
      "992:\tlearn: 0.2953355\ttotal: 2.51s\tremaining: 17.7ms\n",
      "993:\tlearn: 0.2952229\ttotal: 2.51s\tremaining: 15.2ms\n"
     ]
    },
    {
     "name": "stdout",
     "output_type": "stream",
     "text": [
      "994:\tlearn: 0.2951332\ttotal: 2.52s\tremaining: 12.6ms\n",
      "995:\tlearn: 0.2950495\ttotal: 2.52s\tremaining: 10.1ms\n",
      "996:\tlearn: 0.2949919\ttotal: 2.52s\tremaining: 7.58ms\n",
      "997:\tlearn: 0.2949038\ttotal: 2.52s\tremaining: 5.06ms\n",
      "998:\tlearn: 0.2948270\ttotal: 2.53s\tremaining: 2.53ms\n",
      "999:\tlearn: 0.2947536\ttotal: 2.53s\tremaining: 0us\n",
      "Mean Squared error 0.14151775400923733\n"
     ]
    },
    {
     "data": {
      "application/scrapbook.scrap.json+json": {
       "data": 0.14151775400923733,
       "encoder": "json",
       "name": "Catboost MSE",
       "version": 1
      }
     },
     "metadata": {
      "scrapbook": {
       "data": true,
       "display": false,
       "name": "Catboost MSE"
      }
     },
     "output_type": "display_data"
    }
   ],
   "source": [
    "mse_cb = baselineModels.catboost(X_train,y_train,X_test,y_test)\n",
    "#Store MSE Value \n",
    "sb.glue(\"Catboost MSE\",mse_cb)"
   ]
  },
  {
   "cell_type": "markdown",
   "id": "da378159",
   "metadata": {
    "papermill": {
     "duration": 0.010235,
     "end_time": "2021-12-24T13:09:34.363554",
     "exception": false,
     "start_time": "2021-12-24T13:09:34.353319",
     "status": "completed"
    },
    "tags": []
   },
   "source": [
    "## Vanilla Neural Network "
   ]
  },
  {
   "cell_type": "code",
   "execution_count": 8,
   "id": "b99cde0f",
   "metadata": {
    "execution": {
     "iopub.execute_input": "2021-12-24T13:09:34.387102Z",
     "iopub.status.busy": "2021-12-24T13:09:34.386708Z",
     "iopub.status.idle": "2021-12-24T13:14:19.235921Z",
     "shell.execute_reply": "2021-12-24T13:14:19.235641Z"
    },
    "papermill": {
     "duration": 284.862399,
     "end_time": "2021-12-24T13:14:19.236052",
     "exception": false,
     "start_time": "2021-12-24T13:09:34.373653",
     "status": "completed"
    },
    "tags": []
   },
   "outputs": [
    {
     "data": {
      "application/scrapbook.scrap.json+json": {
       "data": 0.9754151860595554,
       "encoder": "json",
       "name": "Vanilla NN MSE",
       "version": 1
      }
     },
     "metadata": {
      "scrapbook": {
       "data": true,
       "display": false,
       "name": "Vanilla NN MSE"
      }
     },
     "output_type": "display_data"
    },
    {
     "name": "stdout",
     "output_type": "stream",
     "text": [
      "Mean Squared error 0.9754151860595554\n"
     ]
    }
   ],
   "source": [
    "# Parameters \n",
    "n_epochs = 1000\n",
    "batch_size = 1000\n",
    "device = torch.device('cuda' if torch.cuda.is_available() else 'cpu')\n",
    "baselineModels.vanillaNeuralNetwork(train_data,test_data,batch_size,n_features,n_target,n_epochs)"
   ]
  }
 ],
 "metadata": {
  "interpreter": {
   "hash": "10498c76ddd8160350534c6544a2b2fb65f2138dbc70420f7c81a3268f830f23"
  },
  "kernelspec": {
   "display_name": "Python 3 (ipykernel)",
   "language": "python",
   "name": "python3"
  },
  "language_info": {
   "codemirror_mode": {
    "name": "ipython",
    "version": 3
   },
   "file_extension": ".py",
   "mimetype": "text/x-python",
   "name": "python",
   "nbconvert_exporter": "python",
   "pygments_lexer": "ipython3",
   "version": "3.8.11"
  },
  "papermill": {
   "default_parameters": {},
   "duration": 293.306104,
   "end_time": "2021-12-24T13:14:19.554993",
   "environment_variables": {},
   "exception": null,
   "input_path": "BaselineModels.ipynb",
   "output_path": "./BaseLine_Model_Output/baselineModels_output_5.ipynb",
   "parameters": {},
   "start_time": "2021-12-24T13:09:26.248889",
   "version": "2.3.3"
  }
 },
 "nbformat": 4,
 "nbformat_minor": 5
}