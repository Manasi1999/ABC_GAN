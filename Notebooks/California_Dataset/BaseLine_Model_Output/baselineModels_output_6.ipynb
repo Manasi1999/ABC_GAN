{
 "cells": [
  {
   "cell_type": "markdown",
   "id": "30bb1488",
   "metadata": {
    "papermill": {
     "duration": 0.025689,
     "end_time": "2021-12-24T13:14:22.563220",
     "exception": false,
     "start_time": "2021-12-24T13:14:22.537531",
     "status": "completed"
    },
    "tags": []
   },
   "source": [
    "## Import Libraries "
   ]
  },
  {
   "cell_type": "code",
   "execution_count": 1,
   "id": "ae6753e8",
   "metadata": {
    "execution": {
     "iopub.execute_input": "2021-12-24T13:14:22.596701Z",
     "iopub.status.busy": "2021-12-24T13:14:22.596019Z",
     "iopub.status.idle": "2021-12-24T13:14:22.599079Z",
     "shell.execute_reply": "2021-12-24T13:14:22.599492Z"
    },
    "papermill": {
     "duration": 0.023289,
     "end_time": "2021-12-24T13:14:22.599766",
     "exception": false,
     "start_time": "2021-12-24T13:14:22.576477",
     "status": "completed"
    },
    "tags": []
   },
   "outputs": [],
   "source": [
    "import warnings\n",
    "import sys\n",
    "sys.path.insert(0, '../../src')\n",
    "warnings.filterwarnings('ignore')"
   ]
  },
  {
   "cell_type": "code",
   "execution_count": 2,
   "id": "205026bc",
   "metadata": {
    "execution": {
     "iopub.execute_input": "2021-12-24T13:14:22.615327Z",
     "iopub.status.busy": "2021-12-24T13:14:22.614827Z",
     "iopub.status.idle": "2021-12-24T13:14:24.506404Z",
     "shell.execute_reply": "2021-12-24T13:14:24.506660Z"
    },
    "papermill": {
     "duration": 1.900238,
     "end_time": "2021-12-24T13:14:24.506788",
     "exception": false,
     "start_time": "2021-12-24T13:14:22.606550",
     "status": "completed"
    },
    "tags": []
   },
   "outputs": [],
   "source": [
    "import baselineModels\n",
    "import scrapbook as sb \n",
    "import torch \n",
    "import statsModel\n",
    "import californiaDataset\n",
    "import dataset \n",
    "from torch.utils.data import random_split \n",
    "from sklearn.model_selection import train_test_split"
   ]
  },
  {
   "cell_type": "markdown",
   "id": "2befdbf4",
   "metadata": {
    "papermill": {
     "duration": 0.003537,
     "end_time": "2021-12-24T13:14:24.514115",
     "exception": false,
     "start_time": "2021-12-24T13:14:24.510578",
     "status": "completed"
    },
    "tags": []
   },
   "source": [
    "## Import Dataset \n"
   ]
  },
  {
   "cell_type": "code",
   "execution_count": 3,
   "id": "6d59c019",
   "metadata": {
    "execution": {
     "iopub.execute_input": "2021-12-24T13:14:24.523463Z",
     "iopub.status.busy": "2021-12-24T13:14:24.523049Z",
     "iopub.status.idle": "2021-12-24T13:14:24.538433Z",
     "shell.execute_reply": "2021-12-24T13:14:24.538699Z"
    },
    "papermill": {
     "duration": 0.02126,
     "end_time": "2021-12-24T13:14:24.538826",
     "exception": false,
     "start_time": "2021-12-24T13:14:24.517566",
     "status": "completed"
    },
    "tags": []
   },
   "outputs": [
    {
     "name": "stdout",
     "output_type": "stream",
     "text": [
      "       X1    X2        X3        X4      X5        X6     X7      X8      Y\n",
      "0  8.3252  41.0  6.984127  1.023810   322.0  2.555556  37.88 -122.23  4.526\n",
      "1  8.3014  21.0  6.238137  0.971880  2401.0  2.109842  37.86 -122.22  3.585\n",
      "2  7.2574  52.0  8.288136  1.073446   496.0  2.802260  37.85 -122.24  3.521\n",
      "3  5.6431  52.0  5.817352  1.073059   558.0  2.547945  37.85 -122.25  3.413\n",
      "4  3.8462  52.0  6.281853  1.081081   565.0  2.181467  37.85 -122.25  3.422\n"
     ]
    }
   ],
   "source": [
    "X,Y = californiaDataset.california_data()\n",
    "n_features = 8 \n",
    "n_samples = 20640\n",
    "n_target = 1 "
   ]
  },
  {
   "cell_type": "code",
   "execution_count": 4,
   "id": "86afa776",
   "metadata": {
    "execution": {
     "iopub.execute_input": "2021-12-24T13:14:24.549445Z",
     "iopub.status.busy": "2021-12-24T13:14:24.549049Z",
     "iopub.status.idle": "2021-12-24T13:14:24.552926Z",
     "shell.execute_reply": "2021-12-24T13:14:24.553173Z"
    },
    "papermill": {
     "duration": 0.010449,
     "end_time": "2021-12-24T13:14:24.553293",
     "exception": false,
     "start_time": "2021-12-24T13:14:24.542844",
     "status": "completed"
    },
    "tags": []
   },
   "outputs": [],
   "source": [
    "# Train test split for dataset \n",
    "real_dataset = dataset.CustomDataset(X,Y)\n",
    "train_size = round(0.8 * n_samples)\n",
    "test_size = n_samples - train_size\n",
    "train_data, test_data = random_split(real_dataset,[train_size,test_size])\n",
    "X_train, X_test, y_train, y_test = train_test_split(X, Y, test_size=0.2)"
   ]
  },
  {
   "cell_type": "markdown",
   "id": "7de58c00",
   "metadata": {
    "papermill": {
     "duration": 0.0037,
     "end_time": "2021-12-24T13:14:24.560939",
     "exception": false,
     "start_time": "2021-12-24T13:14:24.557239",
     "status": "completed"
    },
    "tags": []
   },
   "source": [
    "## Stats Model "
   ]
  },
  {
   "cell_type": "code",
   "execution_count": 5,
   "id": "406da020",
   "metadata": {
    "execution": {
     "iopub.execute_input": "2021-12-24T13:14:24.570569Z",
     "iopub.status.busy": "2021-12-24T13:14:24.570183Z",
     "iopub.status.idle": "2021-12-24T13:14:24.679680Z",
     "shell.execute_reply": "2021-12-24T13:14:24.679971Z"
    },
    "papermill": {
     "duration": 0.1155,
     "end_time": "2021-12-24T13:14:24.680097",
     "exception": false,
     "start_time": "2021-12-24T13:14:24.564597",
     "status": "completed"
    },
    "tags": []
   },
   "outputs": [
    {
     "name": "stderr",
     "output_type": "stream",
     "text": [
      "No handles with labels found to put in legend.\n"
     ]
    },
    {
     "name": "stdout",
     "output_type": "stream",
     "text": [
      "                                 OLS Regression Results                                \n",
      "=======================================================================================\n",
      "Dep. Variable:                      Y   R-squared (uncentered):                   0.606\n",
      "Model:                            OLS   Adj. R-squared (uncentered):              0.606\n",
      "Method:                 Least Squares   F-statistic:                              3178.\n",
      "Date:                Fri, 24 Dec 2021   Prob (F-statistic):                        0.00\n",
      "Time:                        18:44:24   Log-Likelihood:                         -15693.\n",
      "No. Observations:               16512   AIC:                                  3.140e+04\n",
      "Df Residuals:                   16504   BIC:                                  3.146e+04\n",
      "Df Model:                           8                                                  \n",
      "Covariance Type:            nonrobust                                                  \n",
      "==============================================================================\n",
      "                 coef    std err          t      P>|t|      [0.025      0.975]\n",
      "------------------------------------------------------------------------------\n",
      "x1             0.7285      0.008     91.951      0.000       0.713       0.744\n",
      "x2             0.1032      0.005     18.903      0.000       0.093       0.114\n",
      "x3            -0.2511      0.015    -17.218      0.000      -0.280      -0.223\n",
      "x4             0.2680      0.013     20.703      0.000       0.243       0.293\n",
      "x5            -0.0042      0.005     -0.816      0.414      -0.014       0.006\n",
      "x6            -0.0316      0.004     -7.201      0.000      -0.040      -0.023\n",
      "x7            -0.7661      0.015    -50.886      0.000      -0.796      -0.737\n",
      "x8            -0.7440      0.015    -50.382      0.000      -0.773      -0.715\n",
      "==============================================================================\n",
      "Omnibus:                     3573.110   Durbin-Watson:                   1.977\n",
      "Prob(Omnibus):                  0.000   Jarque-Bera (JB):            11187.760\n",
      "Skew:                           1.107   Prob(JB):                         0.00\n",
      "Kurtosis:                       6.370   Cond. No.                         6.79\n",
      "==============================================================================\n",
      "\n",
      "Notes:\n",
      "[1] R² is computed without centering (uncentered) since the model does not contain a constant.\n",
      "[2] Standard Errors assume that the covariance matrix of the errors is correctly specified.\n",
      "Parameters:  x1    0.728525\n",
      "x2    0.103209\n",
      "x3   -0.251131\n",
      "x4    0.267965\n",
      "x5   -0.004201\n",
      "x6   -0.031648\n",
      "x7   -0.766132\n",
      "x8   -0.744033\n",
      "dtype: float64\n"
     ]
    },
    {
     "data": {
      "image/png": "[encoded data removed]",
      "text/plain": [
       "<Figure size 432x288 with 1 Axes>"
      ]
     },
     "metadata": {
      "needs_background": "light"
     },
     "output_type": "display_data"
    },
    {
     "name": "stdout",
     "output_type": "stream",
     "text": [
      "Performance Metrics\n",
      "Mean Squared Error: 0.4030770549782633\n",
      "Mean Absolute Error: 0.46536571946778416\n",
      "Manhattan distance: 1921.0296899630137\n",
      "Euclidean distance: 40.790955896500805\n"
     ]
    },
    {
     "data": {
      "application/scrapbook.scrap.json+json": {
       "data": 0.4030770549782633,
       "encoder": "json",
       "name": "Stats Model MSE",
       "version": 1
      }
     },
     "metadata": {
      "scrapbook": {
       "data": true,
       "display": false,
       "name": "Stats Model MSE"
      }
     },
     "output_type": "display_data"
    },
    {
     "data": {
      "application/scrapbook.scrap.json+json": {
       "data": 0.46536571946778416,
       "encoder": "json",
       "name": "Stats Model MAE",
       "version": 1
      }
     },
     "metadata": {
      "scrapbook": {
       "data": true,
       "display": false,
       "name": "Stats Model MAE"
      }
     },
     "output_type": "display_data"
    },
    {
     "data": {
      "application/scrapbook.scrap.json+json": {
       "data": 1921.0296899630137,
       "encoder": "json",
       "name": "Stats Model Manhattan Distance",
       "version": 1
      }
     },
     "metadata": {
      "scrapbook": {
       "data": true,
       "display": false,
       "name": "Stats Model Manhattan Distance"
      }
     },
     "output_type": "display_data"
    },
    {
     "data": {
      "application/scrapbook.scrap.json+json": {
       "data": 40.790955896500805,
       "encoder": "json",
       "name": "Stats Model Euclidean distance",
       "version": 1
      }
     },
     "metadata": {
      "scrapbook": {
       "data": true,
       "display": false,
       "name": "Stats Model Euclidean distance"
      }
     },
     "output_type": "display_data"
    },
    {
     "data": {
      "application/scrapbook.scrap.json+json": {
       "data": [
        0.72852462163069,
        0.10320869303150997,
        -0.2511307404137065,
        0.2679650942875972,
        -0.00420111781929816,
        -0.03164776148823106,
        -0.7661316833382215,
        -0.7440332235522735
       ],
       "encoder": "json",
       "name": "Coefficients",
       "version": 1
      }
     },
     "metadata": {
      "scrapbook": {
       "data": true,
       "display": false,
       "name": "Coefficients"
      }
     },
     "output_type": "display_data"
    }
   ],
   "source": [
    "[coeff,y_pred] = statsModel.statsModel(X,Y)\n",
    "\n",
    "#Store Coefficients \n",
    "sb.glue(\"Coefficients\",coeff)"
   ]
  },
  {
   "cell_type": "markdown",
   "id": "e025ae76",
   "metadata": {
    "papermill": {
     "duration": 0.005778,
     "end_time": "2021-12-24T13:14:24.692052",
     "exception": false,
     "start_time": "2021-12-24T13:14:24.686274",
     "status": "completed"
    },
    "tags": []
   },
   "source": [
    "## Random Forest "
   ]
  },
  {
   "cell_type": "code",
   "execution_count": 6,
   "id": "c24e2920",
   "metadata": {
    "execution": {
     "iopub.execute_input": "2021-12-24T13:14:24.706088Z",
     "iopub.status.busy": "2021-12-24T13:14:24.705674Z",
     "iopub.status.idle": "2021-12-24T13:14:26.858179Z",
     "shell.execute_reply": "2021-12-24T13:14:26.858487Z"
    },
    "papermill": {
     "duration": 2.160856,
     "end_time": "2021-12-24T13:14:26.858611",
     "exception": false,
     "start_time": "2021-12-24T13:14:24.697755",
     "status": "completed"
    },
    "tags": []
   },
   "outputs": [
    {
     "name": "stdout",
     "output_type": "stream",
     "text": [
      "Mean Squared error 0.3808290092951586\n"
     ]
    },
    {
     "data": {
      "application/scrapbook.scrap.json+json": {
       "data": 0.3808290092951586,
       "encoder": "json",
       "name": "Random Forest MSE",
       "version": 1
      }
     },
     "metadata": {
      "scrapbook": {
       "data": true,
       "display": false,
       "name": "Random Forest MSE"
      }
     },
     "output_type": "display_data"
    }
   ],
   "source": [
    "mse_rf = baselineModels.randomForest(X_train,y_train,X_test,y_test)\n",
    "#Store MSE Value\n",
    "sb.glue(\"Random Forest MSE\",mse_rf)"
   ]
  },
  {
   "cell_type": "markdown",
   "id": "6dd845f9",
   "metadata": {
    "papermill": {
     "duration": 0.00623,
     "end_time": "2021-12-24T13:14:26.871383",
     "exception": false,
     "start_time": "2021-12-24T13:14:26.865153",
     "status": "completed"
    },
    "tags": []
   },
   "source": [
    "## Catboost \n",
    "\n"
   ]
  },
  {
   "cell_type": "code",
   "execution_count": 7,
   "id": "99e9fbde",
   "metadata": {
    "execution": {
     "iopub.execute_input": "2021-12-24T13:14:26.920724Z",
     "iopub.status.busy": "2021-12-24T13:14:26.920323Z",
     "iopub.status.idle": "2021-12-24T13:14:29.530544Z",
     "shell.execute_reply": "2021-12-24T13:14:29.530843Z"
    },
    "papermill": {
     "duration": 2.65353,
     "end_time": "2021-12-24T13:14:29.530971",
     "exception": false,
     "start_time": "2021-12-24T13:14:26.877441",
     "status": "completed"
    },
    "tags": []
   },
   "outputs": [
    {
     "name": "stdout",
     "output_type": "stream",
     "text": [
      "Learning rate set to 0.064294\n",
      "0:\tlearn: 0.9641567\ttotal: 60.6ms\tremaining: 1m\n",
      "1:\tlearn: 0.9326599\ttotal: 63.2ms\tremaining: 31.5s\n",
      "2:\tlearn: 0.9025054\ttotal: 65.7ms\tremaining: 21.8s\n",
      "3:\tlearn: 0.8745927\ttotal: 68.8ms\tremaining: 17.1s\n",
      "4:\tlearn: 0.8485334\ttotal: 71ms\tremaining: 14.1s\n",
      "5:\tlearn: 0.8251301\ttotal: 73.6ms\tremaining: 12.2s\n",
      "6:\tlearn: 0.8041276\ttotal: 76.4ms\tremaining: 10.8s\n",
      "7:\tlearn: 0.7841897\ttotal: 79.3ms\tremaining: 9.84s\n",
      "8:\tlearn: 0.7658970\ttotal: 81.7ms\tremaining: 8.99s\n",
      "9:\tlearn: 0.7472011\ttotal: 84.4ms\tremaining: 8.36s\n",
      "10:\tlearn: 0.7309346\ttotal: 86.9ms\tremaining: 7.81s\n",
      "11:\tlearn: 0.7158002\ttotal: 89.4ms\tremaining: 7.36s\n",
      "12:\tlearn: 0.7016122\ttotal: 91.8ms\tremaining: 6.97s\n",
      "13:\tlearn: 0.6893183\ttotal: 94.3ms\tremaining: 6.64s\n",
      "14:\tlearn: 0.6777268\ttotal: 96.8ms\tremaining: 6.35s\n",
      "15:\tlearn: 0.6658879\ttotal: 99.1ms\tremaining: 6.1s\n",
      "16:\tlearn: 0.6560037\ttotal: 101ms\tremaining: 5.86s\n",
      "17:\tlearn: 0.6463878\ttotal: 104ms\tremaining: 5.66s\n",
      "18:\tlearn: 0.6379672\ttotal: 106ms\tremaining: 5.48s\n",
      "19:\tlearn: 0.6278175\ttotal: 109ms\tremaining: 5.32s\n",
      "20:\tlearn: 0.6183069\ttotal: 112ms\tremaining: 5.2s\n",
      "21:\tlearn: 0.6107978\ttotal: 114ms\tremaining: 5.07s\n",
      "22:\tlearn: 0.6032887\ttotal: 116ms\tremaining: 4.93s\n",
      "23:\tlearn: 0.5963628\ttotal: 118ms\tremaining: 4.82s\n",
      "24:\tlearn: 0.5893873\ttotal: 121ms\tremaining: 4.72s\n",
      "25:\tlearn: 0.5824486\ttotal: 123ms\tremaining: 4.62s\n",
      "26:\tlearn: 0.5764000\ttotal: 126ms\tremaining: 4.53s\n"
     ]
    },
    {
     "name": "stdout",
     "output_type": "stream",
     "text": [
      "27:\tlearn: 0.5717360\ttotal: 128ms\tremaining: 4.46s\n",
      "28:\tlearn: 0.5665771\ttotal: 131ms\tremaining: 4.38s\n",
      "29:\tlearn: 0.5623374\ttotal: 133ms\tremaining: 4.31s\n",
      "30:\tlearn: 0.5589081\ttotal: 136ms\tremaining: 4.24s\n",
      "31:\tlearn: 0.5554991\ttotal: 138ms\tremaining: 4.18s\n",
      "32:\tlearn: 0.5519721\ttotal: 141ms\tremaining: 4.12s\n",
      "33:\tlearn: 0.5473366\ttotal: 144ms\tremaining: 4.08s\n",
      "34:\tlearn: 0.5432249\ttotal: 146ms\tremaining: 4.02s\n",
      "35:\tlearn: 0.5400938\ttotal: 148ms\tremaining: 3.96s\n",
      "36:\tlearn: 0.5371725\ttotal: 150ms\tremaining: 3.91s\n",
      "37:\tlearn: 0.5343731\ttotal: 153ms\tremaining: 3.87s\n",
      "38:\tlearn: 0.5309193\ttotal: 155ms\tremaining: 3.83s\n",
      "39:\tlearn: 0.5277761\ttotal: 158ms\tremaining: 3.79s\n",
      "40:\tlearn: 0.5252912\ttotal: 161ms\tremaining: 3.76s\n",
      "41:\tlearn: 0.5233466\ttotal: 163ms\tremaining: 3.72s\n",
      "42:\tlearn: 0.5205829\ttotal: 166ms\tremaining: 3.69s\n",
      "43:\tlearn: 0.5184010\ttotal: 169ms\tremaining: 3.66s\n",
      "44:\tlearn: 0.5166201\ttotal: 171ms\tremaining: 3.62s\n",
      "45:\tlearn: 0.5145934\ttotal: 173ms\tremaining: 3.59s\n",
      "46:\tlearn: 0.5112749\ttotal: 175ms\tremaining: 3.56s\n",
      "47:\tlearn: 0.5090446\ttotal: 178ms\tremaining: 3.52s\n",
      "48:\tlearn: 0.5061543\ttotal: 180ms\tremaining: 3.49s\n",
      "49:\tlearn: 0.5049835\ttotal: 182ms\tremaining: 3.45s\n",
      "50:\tlearn: 0.5032670\ttotal: 184ms\tremaining: 3.43s\n",
      "51:\tlearn: 0.5003564\ttotal: 187ms\tremaining: 3.4s\n",
      "52:\tlearn: 0.4979240\ttotal: 189ms\tremaining: 3.38s\n",
      "53:\tlearn: 0.4966898\ttotal: 191ms\tremaining: 3.35s\n",
      "54:\tlearn: 0.4953878\ttotal: 194ms\tremaining: 3.33s\n"
     ]
    },
    {
     "name": "stdout",
     "output_type": "stream",
     "text": [
      "55:\tlearn: 0.4930076\ttotal: 196ms\tremaining: 3.31s\n",
      "56:\tlearn: 0.4917235\ttotal: 199ms\tremaining: 3.29s\n",
      "57:\tlearn: 0.4908449\ttotal: 201ms\tremaining: 3.27s\n",
      "58:\tlearn: 0.4897586\ttotal: 204ms\tremaining: 3.25s\n",
      "59:\tlearn: 0.4886228\ttotal: 206ms\tremaining: 3.23s\n",
      "60:\tlearn: 0.4874827\ttotal: 209ms\tremaining: 3.21s\n",
      "61:\tlearn: 0.4857389\ttotal: 211ms\tremaining: 3.19s\n",
      "62:\tlearn: 0.4845402\ttotal: 213ms\tremaining: 3.17s\n",
      "63:\tlearn: 0.4824836\ttotal: 215ms\tremaining: 3.15s\n",
      "64:\tlearn: 0.4815596\ttotal: 218ms\tremaining: 3.13s\n",
      "65:\tlearn: 0.4801990\ttotal: 220ms\tremaining: 3.12s\n",
      "66:\tlearn: 0.4789990\ttotal: 223ms\tremaining: 3.1s\n",
      "67:\tlearn: 0.4777836\ttotal: 225ms\tremaining: 3.08s\n",
      "68:\tlearn: 0.4770312\ttotal: 227ms\tremaining: 3.06s\n",
      "69:\tlearn: 0.4760704\ttotal: 229ms\tremaining: 3.05s\n",
      "70:\tlearn: 0.4754796\ttotal: 232ms\tremaining: 3.03s\n",
      "71:\tlearn: 0.4734399\ttotal: 234ms\tremaining: 3.02s\n",
      "72:\tlearn: 0.4720468\ttotal: 237ms\tremaining: 3s\n",
      "73:\tlearn: 0.4712293\ttotal: 239ms\tremaining: 2.99s\n",
      "74:\tlearn: 0.4704591\ttotal: 242ms\tremaining: 2.98s\n",
      "75:\tlearn: 0.4694449\ttotal: 244ms\tremaining: 2.97s\n",
      "76:\tlearn: 0.4689305\ttotal: 246ms\tremaining: 2.95s\n",
      "77:\tlearn: 0.4681080\ttotal: 249ms\tremaining: 2.94s\n",
      "78:\tlearn: 0.4667334\ttotal: 251ms\tremaining: 2.93s\n",
      "79:\tlearn: 0.4658859\ttotal: 254ms\tremaining: 2.92s\n",
      "80:\tlearn: 0.4650949\ttotal: 256ms\tremaining: 2.9s\n",
      "81:\tlearn: 0.4639994\ttotal: 258ms\tremaining: 2.89s\n",
      "82:\tlearn: 0.4635138\ttotal: 260ms\tremaining: 2.87s\n",
      "83:\tlearn: 0.4624458\ttotal: 262ms\tremaining: 2.86s\n",
      "84:\tlearn: 0.4616349\ttotal: 264ms\tremaining: 2.85s\n",
      "85:\tlearn: 0.4608973\ttotal: 267ms\tremaining: 2.83s\n",
      "86:\tlearn: 0.4603962\ttotal: 269ms\tremaining: 2.82s\n",
      "87:\tlearn: 0.4598135\ttotal: 271ms\tremaining: 2.81s\n",
      "88:\tlearn: 0.4590758\ttotal: 274ms\tremaining: 2.8s\n",
      "89:\tlearn: 0.4585530\ttotal: 276ms\tremaining: 2.79s\n",
      "90:\tlearn: 0.4576352\ttotal: 278ms\tremaining: 2.78s\n",
      "91:\tlearn: 0.4563891\ttotal: 281ms\tremaining: 2.77s\n",
      "92:\tlearn: 0.4556611\ttotal: 283ms\tremaining: 2.76s\n",
      "93:\tlearn: 0.4550177\ttotal: 285ms\tremaining: 2.75s\n",
      "94:\tlearn: 0.4543383\ttotal: 288ms\tremaining: 2.74s\n",
      "95:\tlearn: 0.4535257\ttotal: 290ms\tremaining: 2.73s\n",
      "96:\tlearn: 0.4531317\ttotal: 292ms\tremaining: 2.72s\n",
      "97:\tlearn: 0.4525190\ttotal: 295ms\tremaining: 2.71s\n",
      "98:\tlearn: 0.4516262\ttotal: 297ms\tremaining: 2.71s\n",
      "99:\tlearn: 0.4509596\ttotal: 300ms\tremaining: 2.7s\n",
      "100:\tlearn: 0.4498772\ttotal: 303ms\tremaining: 2.69s\n",
      "101:\tlearn: 0.4492070\ttotal: 305ms\tremaining: 2.68s\n",
      "102:\tlearn: 0.4488287\ttotal: 307ms\tremaining: 2.67s\n",
      "103:\tlearn: 0.4482584\ttotal: 310ms\tremaining: 2.67s\n",
      "104:\tlearn: 0.4477381\ttotal: 313ms\tremaining: 2.67s\n",
      "105:\tlearn: 0.4471844\ttotal: 315ms\tremaining: 2.66s\n",
      "106:\tlearn: 0.4466515\ttotal: 318ms\tremaining: 2.65s\n",
      "107:\tlearn: 0.4460665\ttotal: 321ms\tremaining: 2.65s\n"
     ]
    },
    {
     "name": "stdout",
     "output_type": "stream",
     "text": [
      "108:\tlearn: 0.4452352\ttotal: 324ms\tremaining: 2.64s\n",
      "109:\tlearn: 0.4446104\ttotal: 326ms\tremaining: 2.64s\n",
      "110:\tlearn: 0.4441953\ttotal: 328ms\tremaining: 2.63s\n",
      "111:\tlearn: 0.4437762\ttotal: 331ms\tremaining: 2.62s\n",
      "112:\tlearn: 0.4431986\ttotal: 333ms\tremaining: 2.62s\n",
      "113:\tlearn: 0.4425063\ttotal: 336ms\tremaining: 2.61s\n",
      "114:\tlearn: 0.4418806\ttotal: 338ms\tremaining: 2.6s\n",
      "115:\tlearn: 0.4416214\ttotal: 340ms\tremaining: 2.59s\n",
      "116:\tlearn: 0.4414027\ttotal: 343ms\tremaining: 2.59s\n",
      "117:\tlearn: 0.4409427\ttotal: 345ms\tremaining: 2.58s\n",
      "118:\tlearn: 0.4404127\ttotal: 349ms\tremaining: 2.58s\n",
      "119:\tlearn: 0.4397261\ttotal: 351ms\tremaining: 2.57s\n",
      "120:\tlearn: 0.4392243\ttotal: 353ms\tremaining: 2.56s\n",
      "121:\tlearn: 0.4389660\ttotal: 356ms\tremaining: 2.56s\n",
      "122:\tlearn: 0.4385349\ttotal: 358ms\tremaining: 2.55s\n",
      "123:\tlearn: 0.4379809\ttotal: 360ms\tremaining: 2.55s\n",
      "124:\tlearn: 0.4375527\ttotal: 363ms\tremaining: 2.54s\n",
      "125:\tlearn: 0.4370574\ttotal: 365ms\tremaining: 2.53s\n",
      "126:\tlearn: 0.4364352\ttotal: 368ms\tremaining: 2.53s\n",
      "127:\tlearn: 0.4360969\ttotal: 371ms\tremaining: 2.52s\n",
      "128:\tlearn: 0.4355698\ttotal: 373ms\tremaining: 2.52s\n",
      "129:\tlearn: 0.4352445\ttotal: 375ms\tremaining: 2.51s\n",
      "130:\tlearn: 0.4347376\ttotal: 378ms\tremaining: 2.51s\n",
      "131:\tlearn: 0.4343506\ttotal: 380ms\tremaining: 2.5s\n",
      "132:\tlearn: 0.4336435\ttotal: 382ms\tremaining: 2.49s\n",
      "133:\tlearn: 0.4329578\ttotal: 385ms\tremaining: 2.49s\n",
      "134:\tlearn: 0.4325958\ttotal: 387ms\tremaining: 2.48s\n",
      "135:\tlearn: 0.4317901\ttotal: 390ms\tremaining: 2.48s\n"
     ]
    },
    {
     "name": "stdout",
     "output_type": "stream",
     "text": [
      "136:\tlearn: 0.4315174\ttotal: 392ms\tremaining: 2.47s\n",
      "137:\tlearn: 0.4310999\ttotal: 395ms\tremaining: 2.46s\n",
      "138:\tlearn: 0.4304743\ttotal: 397ms\tremaining: 2.46s\n",
      "139:\tlearn: 0.4299181\ttotal: 399ms\tremaining: 2.45s\n",
      "140:\tlearn: 0.4293677\ttotal: 402ms\tremaining: 2.45s\n",
      "141:\tlearn: 0.4290264\ttotal: 404ms\tremaining: 2.44s\n",
      "142:\tlearn: 0.4286464\ttotal: 407ms\tremaining: 2.44s\n",
      "143:\tlearn: 0.4280664\ttotal: 410ms\tremaining: 2.43s\n",
      "144:\tlearn: 0.4276715\ttotal: 412ms\tremaining: 2.43s\n",
      "145:\tlearn: 0.4272189\ttotal: 414ms\tremaining: 2.42s\n",
      "146:\tlearn: 0.4268743\ttotal: 417ms\tremaining: 2.42s\n",
      "147:\tlearn: 0.4263152\ttotal: 420ms\tremaining: 2.42s\n",
      "148:\tlearn: 0.4256465\ttotal: 422ms\tremaining: 2.41s\n",
      "149:\tlearn: 0.4253234\ttotal: 425ms\tremaining: 2.41s\n",
      "150:\tlearn: 0.4248376\ttotal: 427ms\tremaining: 2.4s\n",
      "151:\tlearn: 0.4243077\ttotal: 430ms\tremaining: 2.4s\n",
      "152:\tlearn: 0.4237662\ttotal: 432ms\tremaining: 2.39s\n",
      "153:\tlearn: 0.4234533\ttotal: 435ms\tremaining: 2.39s\n",
      "154:\tlearn: 0.4230300\ttotal: 437ms\tremaining: 2.38s\n",
      "155:\tlearn: 0.4226614\ttotal: 440ms\tremaining: 2.38s\n",
      "156:\tlearn: 0.4222294\ttotal: 442ms\tremaining: 2.38s\n",
      "157:\tlearn: 0.4218001\ttotal: 445ms\tremaining: 2.37s\n",
      "158:\tlearn: 0.4213174\ttotal: 447ms\tremaining: 2.37s\n",
      "159:\tlearn: 0.4209255\ttotal: 450ms\tremaining: 2.36s\n",
      "160:\tlearn: 0.4205061\ttotal: 452ms\tremaining: 2.35s\n",
      "161:\tlearn: 0.4201305\ttotal: 454ms\tremaining: 2.35s\n",
      "162:\tlearn: 0.4196886\ttotal: 457ms\tremaining: 2.35s\n",
      "163:\tlearn: 0.4193411\ttotal: 459ms\tremaining: 2.34s\n",
      "164:\tlearn: 0.4189366\ttotal: 462ms\tremaining: 2.34s\n",
      "165:\tlearn: 0.4184868\ttotal: 464ms\tremaining: 2.33s\n",
      "166:\tlearn: 0.4180787\ttotal: 467ms\tremaining: 2.33s\n",
      "167:\tlearn: 0.4177573\ttotal: 469ms\tremaining: 2.32s\n",
      "168:\tlearn: 0.4173733\ttotal: 471ms\tremaining: 2.32s\n",
      "169:\tlearn: 0.4169598\ttotal: 474ms\tremaining: 2.31s\n",
      "170:\tlearn: 0.4166392\ttotal: 476ms\tremaining: 2.31s\n",
      "171:\tlearn: 0.4162579\ttotal: 479ms\tremaining: 2.31s\n",
      "172:\tlearn: 0.4158163\ttotal: 481ms\tremaining: 2.3s\n",
      "173:\tlearn: 0.4156093\ttotal: 484ms\tremaining: 2.3s\n",
      "174:\tlearn: 0.4151755\ttotal: 487ms\tremaining: 2.29s\n",
      "175:\tlearn: 0.4147067\ttotal: 489ms\tremaining: 2.29s\n",
      "176:\tlearn: 0.4140318\ttotal: 491ms\tremaining: 2.28s\n",
      "177:\tlearn: 0.4137815\ttotal: 494ms\tremaining: 2.28s\n",
      "178:\tlearn: 0.4133988\ttotal: 496ms\tremaining: 2.27s\n",
      "179:\tlearn: 0.4130636\ttotal: 498ms\tremaining: 2.27s\n",
      "180:\tlearn: 0.4124703\ttotal: 501ms\tremaining: 2.27s\n",
      "181:\tlearn: 0.4121252\ttotal: 504ms\tremaining: 2.26s\n",
      "182:\tlearn: 0.4117641\ttotal: 506ms\tremaining: 2.26s\n",
      "183:\tlearn: 0.4111862\ttotal: 509ms\tremaining: 2.26s\n",
      "184:\tlearn: 0.4107296\ttotal: 511ms\tremaining: 2.25s\n",
      "185:\tlearn: 0.4102988\ttotal: 514ms\tremaining: 2.25s\n",
      "186:\tlearn: 0.4098296\ttotal: 516ms\tremaining: 2.25s\n"
     ]
    },
    {
     "name": "stdout",
     "output_type": "stream",
     "text": [
      "187:\tlearn: 0.4094061\ttotal: 519ms\tremaining: 2.24s\n",
      "188:\tlearn: 0.4090272\ttotal: 522ms\tremaining: 2.24s\n",
      "189:\tlearn: 0.4085764\ttotal: 524ms\tremaining: 2.23s\n",
      "190:\tlearn: 0.4082650\ttotal: 526ms\tremaining: 2.23s\n",
      "191:\tlearn: 0.4080295\ttotal: 528ms\tremaining: 2.22s\n",
      "192:\tlearn: 0.4076249\ttotal: 530ms\tremaining: 2.22s\n",
      "193:\tlearn: 0.4073240\ttotal: 533ms\tremaining: 2.21s\n",
      "194:\tlearn: 0.4069948\ttotal: 535ms\tremaining: 2.21s\n",
      "195:\tlearn: 0.4066098\ttotal: 538ms\tremaining: 2.2s\n",
      "196:\tlearn: 0.4062335\ttotal: 540ms\tremaining: 2.2s\n",
      "197:\tlearn: 0.4058634\ttotal: 542ms\tremaining: 2.19s\n",
      "198:\tlearn: 0.4055764\ttotal: 544ms\tremaining: 2.19s\n",
      "199:\tlearn: 0.4051714\ttotal: 546ms\tremaining: 2.19s\n",
      "200:\tlearn: 0.4049497\ttotal: 549ms\tremaining: 2.18s\n",
      "201:\tlearn: 0.4046577\ttotal: 551ms\tremaining: 2.18s\n",
      "202:\tlearn: 0.4043784\ttotal: 553ms\tremaining: 2.17s\n",
      "203:\tlearn: 0.4041244\ttotal: 556ms\tremaining: 2.17s\n",
      "204:\tlearn: 0.4038556\ttotal: 558ms\tremaining: 2.16s\n",
      "205:\tlearn: 0.4034885\ttotal: 560ms\tremaining: 2.16s\n",
      "206:\tlearn: 0.4032578\ttotal: 563ms\tremaining: 2.15s\n",
      "207:\tlearn: 0.4029726\ttotal: 565ms\tremaining: 2.15s\n",
      "208:\tlearn: 0.4027402\ttotal: 567ms\tremaining: 2.15s\n",
      "209:\tlearn: 0.4024455\ttotal: 570ms\tremaining: 2.14s\n",
      "210:\tlearn: 0.4020735\ttotal: 572ms\tremaining: 2.14s\n",
      "211:\tlearn: 0.4017558\ttotal: 575ms\tremaining: 2.14s\n",
      "212:\tlearn: 0.4014059\ttotal: 577ms\tremaining: 2.13s\n",
      "213:\tlearn: 0.4011841\ttotal: 580ms\tremaining: 2.13s\n",
      "214:\tlearn: 0.4006032\ttotal: 582ms\tremaining: 2.12s\n",
      "215:\tlearn: 0.4002599\ttotal: 584ms\tremaining: 2.12s\n",
      "216:\tlearn: 0.3999036\ttotal: 587ms\tremaining: 2.12s\n"
     ]
    },
    {
     "name": "stdout",
     "output_type": "stream",
     "text": [
      "217:\tlearn: 0.3996774\ttotal: 589ms\tremaining: 2.11s\n",
      "218:\tlearn: 0.3994568\ttotal: 592ms\tremaining: 2.11s\n",
      "219:\tlearn: 0.3991234\ttotal: 594ms\tremaining: 2.11s\n",
      "220:\tlearn: 0.3986860\ttotal: 597ms\tremaining: 2.1s\n",
      "221:\tlearn: 0.3983369\ttotal: 599ms\tremaining: 2.1s\n",
      "222:\tlearn: 0.3980297\ttotal: 601ms\tremaining: 2.1s\n",
      "223:\tlearn: 0.3976498\ttotal: 604ms\tremaining: 2.09s\n",
      "224:\tlearn: 0.3973810\ttotal: 607ms\tremaining: 2.09s\n",
      "225:\tlearn: 0.3971047\ttotal: 609ms\tremaining: 2.08s\n",
      "226:\tlearn: 0.3967956\ttotal: 611ms\tremaining: 2.08s\n",
      "227:\tlearn: 0.3965843\ttotal: 614ms\tremaining: 2.08s\n",
      "228:\tlearn: 0.3962373\ttotal: 616ms\tremaining: 2.07s\n",
      "229:\tlearn: 0.3959779\ttotal: 618ms\tremaining: 2.07s\n",
      "230:\tlearn: 0.3955825\ttotal: 621ms\tremaining: 2.07s\n",
      "231:\tlearn: 0.3953720\ttotal: 623ms\tremaining: 2.06s\n",
      "232:\tlearn: 0.3951600\ttotal: 625ms\tremaining: 2.06s\n",
      "233:\tlearn: 0.3949000\ttotal: 628ms\tremaining: 2.05s\n",
      "234:\tlearn: 0.3945664\ttotal: 630ms\tremaining: 2.05s\n",
      "235:\tlearn: 0.3943852\ttotal: 633ms\tremaining: 2.05s\n",
      "236:\tlearn: 0.3937467\ttotal: 635ms\tremaining: 2.04s\n",
      "237:\tlearn: 0.3935085\ttotal: 637ms\tremaining: 2.04s\n",
      "238:\tlearn: 0.3932794\ttotal: 640ms\tremaining: 2.04s\n",
      "239:\tlearn: 0.3930144\ttotal: 642ms\tremaining: 2.03s\n",
      "240:\tlearn: 0.3928256\ttotal: 645ms\tremaining: 2.03s\n",
      "241:\tlearn: 0.3926801\ttotal: 647ms\tremaining: 2.03s\n",
      "242:\tlearn: 0.3924793\ttotal: 649ms\tremaining: 2.02s\n",
      "243:\tlearn: 0.3922503\ttotal: 652ms\tremaining: 2.02s\n",
      "244:\tlearn: 0.3919018\ttotal: 654ms\tremaining: 2.02s\n",
      "245:\tlearn: 0.3916529\ttotal: 656ms\tremaining: 2.01s\n",
      "246:\tlearn: 0.3914154\ttotal: 659ms\tremaining: 2.01s\n",
      "247:\tlearn: 0.3911872\ttotal: 661ms\tremaining: 2s\n",
      "248:\tlearn: 0.3908212\ttotal: 664ms\tremaining: 2s\n",
      "249:\tlearn: 0.3904626\ttotal: 666ms\tremaining: 2s\n",
      "250:\tlearn: 0.3902177\ttotal: 669ms\tremaining: 1.99s\n",
      "251:\tlearn: 0.3900317\ttotal: 671ms\tremaining: 1.99s\n",
      "252:\tlearn: 0.3898281\ttotal: 673ms\tremaining: 1.99s\n",
      "253:\tlearn: 0.3895822\ttotal: 675ms\tremaining: 1.98s\n",
      "254:\tlearn: 0.3889208\ttotal: 678ms\tremaining: 1.98s\n",
      "255:\tlearn: 0.3886635\ttotal: 680ms\tremaining: 1.98s\n",
      "256:\tlearn: 0.3884982\ttotal: 683ms\tremaining: 1.97s\n",
      "257:\tlearn: 0.3881890\ttotal: 685ms\tremaining: 1.97s\n",
      "258:\tlearn: 0.3879621\ttotal: 688ms\tremaining: 1.97s\n",
      "259:\tlearn: 0.3876634\ttotal: 690ms\tremaining: 1.96s\n",
      "260:\tlearn: 0.3874453\ttotal: 692ms\tremaining: 1.96s\n",
      "261:\tlearn: 0.3871263\ttotal: 694ms\tremaining: 1.96s\n",
      "262:\tlearn: 0.3869466\ttotal: 696ms\tremaining: 1.95s\n",
      "263:\tlearn: 0.3867138\ttotal: 698ms\tremaining: 1.95s\n",
      "264:\tlearn: 0.3864932\ttotal: 701ms\tremaining: 1.94s\n",
      "265:\tlearn: 0.3862808\ttotal: 703ms\tremaining: 1.94s\n",
      "266:\tlearn: 0.3860852\ttotal: 705ms\tremaining: 1.94s\n",
      "267:\tlearn: 0.3855854\ttotal: 708ms\tremaining: 1.93s\n",
      "268:\tlearn: 0.3853785\ttotal: 710ms\tremaining: 1.93s\n",
      "269:\tlearn: 0.3851326\ttotal: 712ms\tremaining: 1.93s\n"
     ]
    },
    {
     "name": "stdout",
     "output_type": "stream",
     "text": [
      "270:\tlearn: 0.3849282\ttotal: 715ms\tremaining: 1.92s\n",
      "271:\tlearn: 0.3847040\ttotal: 718ms\tremaining: 1.92s\n",
      "272:\tlearn: 0.3844607\ttotal: 720ms\tremaining: 1.92s\n",
      "273:\tlearn: 0.3843424\ttotal: 722ms\tremaining: 1.91s\n",
      "274:\tlearn: 0.3841273\ttotal: 725ms\tremaining: 1.91s\n",
      "275:\tlearn: 0.3838723\ttotal: 727ms\tremaining: 1.91s\n",
      "276:\tlearn: 0.3835944\ttotal: 730ms\tremaining: 1.9s\n",
      "277:\tlearn: 0.3833096\ttotal: 732ms\tremaining: 1.9s\n",
      "278:\tlearn: 0.3831712\ttotal: 734ms\tremaining: 1.9s\n",
      "279:\tlearn: 0.3829974\ttotal: 737ms\tremaining: 1.9s\n",
      "280:\tlearn: 0.3825654\ttotal: 739ms\tremaining: 1.89s\n",
      "281:\tlearn: 0.3824104\ttotal: 742ms\tremaining: 1.89s\n",
      "282:\tlearn: 0.3822119\ttotal: 744ms\tremaining: 1.88s\n",
      "283:\tlearn: 0.3820513\ttotal: 747ms\tremaining: 1.88s\n",
      "284:\tlearn: 0.3818735\ttotal: 749ms\tremaining: 1.88s\n",
      "285:\tlearn: 0.3816659\ttotal: 752ms\tremaining: 1.88s\n",
      "286:\tlearn: 0.3814501\ttotal: 754ms\tremaining: 1.87s\n",
      "287:\tlearn: 0.3813109\ttotal: 758ms\tremaining: 1.87s\n",
      "288:\tlearn: 0.3811266\ttotal: 761ms\tremaining: 1.87s\n",
      "289:\tlearn: 0.3808731\ttotal: 763ms\tremaining: 1.87s\n",
      "290:\tlearn: 0.3805017\ttotal: 766ms\tremaining: 1.86s\n",
      "291:\tlearn: 0.3801905\ttotal: 768ms\tremaining: 1.86s\n",
      "292:\tlearn: 0.3799364\ttotal: 770ms\tremaining: 1.86s\n",
      "293:\tlearn: 0.3797414\ttotal: 773ms\tremaining: 1.86s\n",
      "294:\tlearn: 0.3795849\ttotal: 776ms\tremaining: 1.85s\n",
      "295:\tlearn: 0.3793332\ttotal: 778ms\tremaining: 1.85s\n",
      "296:\tlearn: 0.3791206\ttotal: 780ms\tremaining: 1.85s\n",
      "297:\tlearn: 0.3789149\ttotal: 783ms\tremaining: 1.84s\n"
     ]
    },
    {
     "name": "stdout",
     "output_type": "stream",
     "text": [
      "298:\tlearn: 0.3786211\ttotal: 785ms\tremaining: 1.84s\n",
      "299:\tlearn: 0.3784547\ttotal: 787ms\tremaining: 1.84s\n",
      "300:\tlearn: 0.3782248\ttotal: 790ms\tremaining: 1.83s\n",
      "301:\tlearn: 0.3778641\ttotal: 792ms\tremaining: 1.83s\n",
      "302:\tlearn: 0.3777269\ttotal: 795ms\tremaining: 1.83s\n",
      "303:\tlearn: 0.3775540\ttotal: 797ms\tremaining: 1.82s\n",
      "304:\tlearn: 0.3773324\ttotal: 799ms\tremaining: 1.82s\n",
      "305:\tlearn: 0.3772138\ttotal: 802ms\tremaining: 1.82s\n",
      "306:\tlearn: 0.3770784\ttotal: 804ms\tremaining: 1.81s\n",
      "307:\tlearn: 0.3767767\ttotal: 806ms\tremaining: 1.81s\n",
      "308:\tlearn: 0.3764965\ttotal: 809ms\tremaining: 1.81s\n",
      "309:\tlearn: 0.3763378\ttotal: 811ms\tremaining: 1.8s\n",
      "310:\tlearn: 0.3762204\ttotal: 814ms\tremaining: 1.8s\n",
      "311:\tlearn: 0.3759501\ttotal: 816ms\tremaining: 1.8s\n",
      "312:\tlearn: 0.3757922\ttotal: 818ms\tremaining: 1.79s\n",
      "313:\tlearn: 0.3756546\ttotal: 821ms\tremaining: 1.79s\n",
      "314:\tlearn: 0.3753848\ttotal: 823ms\tremaining: 1.79s\n",
      "315:\tlearn: 0.3752310\ttotal: 826ms\tremaining: 1.79s\n",
      "316:\tlearn: 0.3750592\ttotal: 828ms\tremaining: 1.78s\n",
      "317:\tlearn: 0.3748487\ttotal: 830ms\tremaining: 1.78s\n",
      "318:\tlearn: 0.3745778\ttotal: 833ms\tremaining: 1.78s\n",
      "319:\tlearn: 0.3743772\ttotal: 836ms\tremaining: 1.77s\n",
      "320:\tlearn: 0.3741910\ttotal: 838ms\tremaining: 1.77s\n",
      "321:\tlearn: 0.3738880\ttotal: 840ms\tremaining: 1.77s\n",
      "322:\tlearn: 0.3736803\ttotal: 842ms\tremaining: 1.76s\n",
      "323:\tlearn: 0.3733464\ttotal: 845ms\tremaining: 1.76s\n",
      "324:\tlearn: 0.3731602\ttotal: 848ms\tremaining: 1.76s\n",
      "325:\tlearn: 0.3730006\ttotal: 850ms\tremaining: 1.76s\n",
      "326:\tlearn: 0.3728205\ttotal: 853ms\tremaining: 1.75s\n",
      "327:\tlearn: 0.3726161\ttotal: 855ms\tremaining: 1.75s\n",
      "328:\tlearn: 0.3724699\ttotal: 858ms\tremaining: 1.75s\n",
      "329:\tlearn: 0.3722600\ttotal: 860ms\tremaining: 1.75s\n",
      "330:\tlearn: 0.3719908\ttotal: 863ms\tremaining: 1.74s\n",
      "331:\tlearn: 0.3718006\ttotal: 865ms\tremaining: 1.74s\n",
      "332:\tlearn: 0.3714817\ttotal: 867ms\tremaining: 1.74s\n",
      "333:\tlearn: 0.3712597\ttotal: 870ms\tremaining: 1.73s\n",
      "334:\tlearn: 0.3711086\ttotal: 872ms\tremaining: 1.73s\n",
      "335:\tlearn: 0.3708803\ttotal: 875ms\tremaining: 1.73s\n",
      "336:\tlearn: 0.3706722\ttotal: 877ms\tremaining: 1.73s\n",
      "337:\tlearn: 0.3705361\ttotal: 879ms\tremaining: 1.72s\n",
      "338:\tlearn: 0.3704008\ttotal: 882ms\tremaining: 1.72s\n",
      "339:\tlearn: 0.3702065\ttotal: 885ms\tremaining: 1.72s\n",
      "340:\tlearn: 0.3699778\ttotal: 887ms\tremaining: 1.71s\n",
      "341:\tlearn: 0.3697523\ttotal: 890ms\tremaining: 1.71s\n",
      "342:\tlearn: 0.3695549\ttotal: 892ms\tremaining: 1.71s\n",
      "343:\tlearn: 0.3693939\ttotal: 894ms\tremaining: 1.71s\n",
      "344:\tlearn: 0.3692199\ttotal: 896ms\tremaining: 1.7s\n",
      "345:\tlearn: 0.3690037\ttotal: 898ms\tremaining: 1.7s\n",
      "346:\tlearn: 0.3688709\ttotal: 901ms\tremaining: 1.7s\n",
      "347:\tlearn: 0.3686915\ttotal: 904ms\tremaining: 1.69s\n",
      "348:\tlearn: 0.3685510\ttotal: 906ms\tremaining: 1.69s\n",
      "349:\tlearn: 0.3683631\ttotal: 909ms\tremaining: 1.69s\n"
     ]
    },
    {
     "name": "stdout",
     "output_type": "stream",
     "text": [
      "350:\tlearn: 0.3681550\ttotal: 911ms\tremaining: 1.69s\n",
      "351:\tlearn: 0.3680923\ttotal: 914ms\tremaining: 1.68s\n",
      "352:\tlearn: 0.3678691\ttotal: 917ms\tremaining: 1.68s\n",
      "353:\tlearn: 0.3676477\ttotal: 919ms\tremaining: 1.68s\n",
      "354:\tlearn: 0.3675267\ttotal: 922ms\tremaining: 1.67s\n",
      "355:\tlearn: 0.3673851\ttotal: 924ms\tremaining: 1.67s\n",
      "356:\tlearn: 0.3672070\ttotal: 926ms\tremaining: 1.67s\n",
      "357:\tlearn: 0.3670357\ttotal: 929ms\tremaining: 1.67s\n",
      "358:\tlearn: 0.3668360\ttotal: 931ms\tremaining: 1.66s\n",
      "359:\tlearn: 0.3665855\ttotal: 934ms\tremaining: 1.66s\n",
      "360:\tlearn: 0.3663930\ttotal: 937ms\tremaining: 1.66s\n",
      "361:\tlearn: 0.3662004\ttotal: 939ms\tremaining: 1.66s\n",
      "362:\tlearn: 0.3659874\ttotal: 942ms\tremaining: 1.65s\n",
      "363:\tlearn: 0.3658042\ttotal: 944ms\tremaining: 1.65s\n",
      "364:\tlearn: 0.3655895\ttotal: 946ms\tremaining: 1.65s\n",
      "365:\tlearn: 0.3653991\ttotal: 949ms\tremaining: 1.64s\n",
      "366:\tlearn: 0.3653284\ttotal: 951ms\tremaining: 1.64s\n",
      "367:\tlearn: 0.3651223\ttotal: 954ms\tremaining: 1.64s\n",
      "368:\tlearn: 0.3649100\ttotal: 956ms\tremaining: 1.64s\n",
      "369:\tlearn: 0.3647009\ttotal: 959ms\tremaining: 1.63s\n",
      "370:\tlearn: 0.3645157\ttotal: 961ms\tremaining: 1.63s\n",
      "371:\tlearn: 0.3643715\ttotal: 964ms\tremaining: 1.63s\n",
      "372:\tlearn: 0.3641924\ttotal: 966ms\tremaining: 1.62s\n",
      "373:\tlearn: 0.3640044\ttotal: 969ms\tremaining: 1.62s\n",
      "374:\tlearn: 0.3638756\ttotal: 971ms\tremaining: 1.62s\n",
      "375:\tlearn: 0.3636999\ttotal: 973ms\tremaining: 1.61s\n",
      "376:\tlearn: 0.3635323\ttotal: 976ms\tremaining: 1.61s\n",
      "377:\tlearn: 0.3632765\ttotal: 979ms\tremaining: 1.61s\n"
     ]
    },
    {
     "name": "stdout",
     "output_type": "stream",
     "text": [
      "378:\tlearn: 0.3631072\ttotal: 981ms\tremaining: 1.61s\n",
      "379:\tlearn: 0.3627499\ttotal: 983ms\tremaining: 1.6s\n",
      "380:\tlearn: 0.3625593\ttotal: 986ms\tremaining: 1.6s\n",
      "381:\tlearn: 0.3623361\ttotal: 988ms\tremaining: 1.6s\n",
      "382:\tlearn: 0.3620250\ttotal: 991ms\tremaining: 1.6s\n",
      "383:\tlearn: 0.3618429\ttotal: 993ms\tremaining: 1.59s\n",
      "384:\tlearn: 0.3617099\ttotal: 995ms\tremaining: 1.59s\n",
      "385:\tlearn: 0.3615503\ttotal: 998ms\tremaining: 1.59s\n",
      "386:\tlearn: 0.3613092\ttotal: 1s\tremaining: 1.58s\n",
      "387:\tlearn: 0.3611229\ttotal: 1s\tremaining: 1.58s\n",
      "388:\tlearn: 0.3609110\ttotal: 1s\tremaining: 1.58s\n",
      "389:\tlearn: 0.3607832\ttotal: 1.01s\tremaining: 1.57s\n",
      "390:\tlearn: 0.3606067\ttotal: 1.01s\tremaining: 1.57s\n",
      "391:\tlearn: 0.3603771\ttotal: 1.01s\tremaining: 1.57s\n",
      "392:\tlearn: 0.3602396\ttotal: 1.01s\tremaining: 1.57s\n",
      "393:\tlearn: 0.3600889\ttotal: 1.02s\tremaining: 1.56s\n",
      "394:\tlearn: 0.3599610\ttotal: 1.02s\tremaining: 1.56s\n",
      "395:\tlearn: 0.3598619\ttotal: 1.02s\tremaining: 1.56s\n",
      "396:\tlearn: 0.3597732\ttotal: 1.02s\tremaining: 1.56s\n",
      "397:\tlearn: 0.3595718\ttotal: 1.03s\tremaining: 1.55s\n",
      "398:\tlearn: 0.3594723\ttotal: 1.03s\tremaining: 1.55s\n",
      "399:\tlearn: 0.3593098\ttotal: 1.03s\tremaining: 1.55s\n",
      "400:\tlearn: 0.3591321\ttotal: 1.03s\tremaining: 1.54s\n",
      "401:\tlearn: 0.3589176\ttotal: 1.04s\tremaining: 1.54s\n",
      "402:\tlearn: 0.3587517\ttotal: 1.04s\tremaining: 1.54s\n",
      "403:\tlearn: 0.3586805\ttotal: 1.04s\tremaining: 1.54s\n",
      "404:\tlearn: 0.3585497\ttotal: 1.04s\tremaining: 1.53s\n",
      "405:\tlearn: 0.3583809\ttotal: 1.05s\tremaining: 1.53s\n",
      "406:\tlearn: 0.3581849\ttotal: 1.05s\tremaining: 1.53s\n",
      "407:\tlearn: 0.3579886\ttotal: 1.05s\tremaining: 1.52s\n",
      "408:\tlearn: 0.3578469\ttotal: 1.05s\tremaining: 1.52s\n",
      "409:\tlearn: 0.3577222\ttotal: 1.05s\tremaining: 1.52s\n",
      "410:\tlearn: 0.3575400\ttotal: 1.06s\tremaining: 1.51s\n",
      "411:\tlearn: 0.3573843\ttotal: 1.06s\tremaining: 1.51s\n",
      "412:\tlearn: 0.3572795\ttotal: 1.06s\tremaining: 1.51s\n",
      "413:\tlearn: 0.3570965\ttotal: 1.06s\tremaining: 1.51s\n",
      "414:\tlearn: 0.3570211\ttotal: 1.07s\tremaining: 1.5s\n",
      "415:\tlearn: 0.3568199\ttotal: 1.07s\tremaining: 1.5s\n",
      "416:\tlearn: 0.3565561\ttotal: 1.07s\tremaining: 1.5s\n",
      "417:\tlearn: 0.3564145\ttotal: 1.07s\tremaining: 1.5s\n",
      "418:\tlearn: 0.3562265\ttotal: 1.08s\tremaining: 1.49s\n",
      "419:\tlearn: 0.3561433\ttotal: 1.08s\tremaining: 1.49s\n",
      "420:\tlearn: 0.3559649\ttotal: 1.08s\tremaining: 1.49s\n",
      "421:\tlearn: 0.3557789\ttotal: 1.08s\tremaining: 1.48s\n",
      "422:\tlearn: 0.3556834\ttotal: 1.09s\tremaining: 1.48s\n",
      "423:\tlearn: 0.3555154\ttotal: 1.09s\tremaining: 1.48s\n",
      "424:\tlearn: 0.3553480\ttotal: 1.09s\tremaining: 1.48s\n",
      "425:\tlearn: 0.3551818\ttotal: 1.09s\tremaining: 1.47s\n",
      "426:\tlearn: 0.3550099\ttotal: 1.09s\tremaining: 1.47s\n",
      "427:\tlearn: 0.3548649\ttotal: 1.1s\tremaining: 1.47s\n",
      "428:\tlearn: 0.3546690\ttotal: 1.1s\tremaining: 1.46s\n",
      "429:\tlearn: 0.3545307\ttotal: 1.1s\tremaining: 1.46s\n",
      "430:\tlearn: 0.3543905\ttotal: 1.1s\tremaining: 1.46s\n"
     ]
    },
    {
     "name": "stdout",
     "output_type": "stream",
     "text": [
      "431:\tlearn: 0.3542246\ttotal: 1.11s\tremaining: 1.46s\n",
      "432:\tlearn: 0.3540858\ttotal: 1.11s\tremaining: 1.45s\n",
      "433:\tlearn: 0.3539551\ttotal: 1.11s\tremaining: 1.45s\n",
      "434:\tlearn: 0.3537970\ttotal: 1.11s\tremaining: 1.45s\n",
      "435:\tlearn: 0.3536091\ttotal: 1.12s\tremaining: 1.45s\n",
      "436:\tlearn: 0.3534818\ttotal: 1.12s\tremaining: 1.44s\n",
      "437:\tlearn: 0.3533010\ttotal: 1.12s\tremaining: 1.44s\n",
      "438:\tlearn: 0.3531684\ttotal: 1.13s\tremaining: 1.44s\n",
      "439:\tlearn: 0.3530089\ttotal: 1.13s\tremaining: 1.44s\n",
      "440:\tlearn: 0.3529158\ttotal: 1.13s\tremaining: 1.43s\n",
      "441:\tlearn: 0.3527364\ttotal: 1.13s\tremaining: 1.43s\n",
      "442:\tlearn: 0.3525920\ttotal: 1.14s\tremaining: 1.43s\n",
      "443:\tlearn: 0.3523818\ttotal: 1.14s\tremaining: 1.43s\n",
      "444:\tlearn: 0.3522449\ttotal: 1.14s\tremaining: 1.42s\n",
      "445:\tlearn: 0.3521108\ttotal: 1.14s\tremaining: 1.42s\n",
      "446:\tlearn: 0.3520045\ttotal: 1.15s\tremaining: 1.42s\n",
      "447:\tlearn: 0.3518517\ttotal: 1.15s\tremaining: 1.41s\n",
      "448:\tlearn: 0.3517514\ttotal: 1.15s\tremaining: 1.41s\n",
      "449:\tlearn: 0.3515654\ttotal: 1.15s\tremaining: 1.41s\n",
      "450:\tlearn: 0.3514048\ttotal: 1.16s\tremaining: 1.41s\n",
      "451:\tlearn: 0.3512843\ttotal: 1.16s\tremaining: 1.4s\n",
      "452:\tlearn: 0.3511307\ttotal: 1.16s\tremaining: 1.4s\n",
      "453:\tlearn: 0.3510293\ttotal: 1.16s\tremaining: 1.4s\n",
      "454:\tlearn: 0.3508962\ttotal: 1.16s\tremaining: 1.39s\n",
      "455:\tlearn: 0.3507584\ttotal: 1.17s\tremaining: 1.39s\n",
      "456:\tlearn: 0.3506071\ttotal: 1.17s\tremaining: 1.39s\n",
      "457:\tlearn: 0.3505232\ttotal: 1.17s\tremaining: 1.39s\n",
      "458:\tlearn: 0.3503896\ttotal: 1.17s\tremaining: 1.38s\n"
     ]
    },
    {
     "name": "stdout",
     "output_type": "stream",
     "text": [
      "459:\tlearn: 0.3502418\ttotal: 1.18s\tremaining: 1.38s\n",
      "460:\tlearn: 0.3500975\ttotal: 1.18s\tremaining: 1.38s\n",
      "461:\tlearn: 0.3499299\ttotal: 1.18s\tremaining: 1.38s\n",
      "462:\tlearn: 0.3496400\ttotal: 1.18s\tremaining: 1.37s\n",
      "463:\tlearn: 0.3495482\ttotal: 1.19s\tremaining: 1.37s\n",
      "464:\tlearn: 0.3493988\ttotal: 1.19s\tremaining: 1.37s\n",
      "465:\tlearn: 0.3492964\ttotal: 1.19s\tremaining: 1.36s\n",
      "466:\tlearn: 0.3490948\ttotal: 1.19s\tremaining: 1.36s\n",
      "467:\tlearn: 0.3490059\ttotal: 1.2s\tremaining: 1.36s\n",
      "468:\tlearn: 0.3488753\ttotal: 1.2s\tremaining: 1.36s\n",
      "469:\tlearn: 0.3487409\ttotal: 1.2s\tremaining: 1.35s\n",
      "470:\tlearn: 0.3485435\ttotal: 1.2s\tremaining: 1.35s\n",
      "471:\tlearn: 0.3483559\ttotal: 1.21s\tremaining: 1.35s\n",
      "472:\tlearn: 0.3482108\ttotal: 1.21s\tremaining: 1.35s\n",
      "473:\tlearn: 0.3480698\ttotal: 1.21s\tremaining: 1.34s\n",
      "474:\tlearn: 0.3479146\ttotal: 1.21s\tremaining: 1.34s\n",
      "475:\tlearn: 0.3477650\ttotal: 1.22s\tremaining: 1.34s\n",
      "476:\tlearn: 0.3476564\ttotal: 1.22s\tremaining: 1.34s\n",
      "477:\tlearn: 0.3474726\ttotal: 1.22s\tremaining: 1.33s\n",
      "478:\tlearn: 0.3472825\ttotal: 1.22s\tremaining: 1.33s\n",
      "479:\tlearn: 0.3471389\ttotal: 1.23s\tremaining: 1.33s\n",
      "480:\tlearn: 0.3469878\ttotal: 1.23s\tremaining: 1.32s\n",
      "481:\tlearn: 0.3468700\ttotal: 1.23s\tremaining: 1.32s\n",
      "482:\tlearn: 0.3467611\ttotal: 1.23s\tremaining: 1.32s\n",
      "483:\tlearn: 0.3466556\ttotal: 1.24s\tremaining: 1.32s\n",
      "484:\tlearn: 0.3464477\ttotal: 1.24s\tremaining: 1.31s\n",
      "485:\tlearn: 0.3462945\ttotal: 1.24s\tremaining: 1.31s\n",
      "486:\tlearn: 0.3460535\ttotal: 1.24s\tremaining: 1.31s\n",
      "487:\tlearn: 0.3459451\ttotal: 1.25s\tremaining: 1.31s\n",
      "488:\tlearn: 0.3457610\ttotal: 1.25s\tremaining: 1.31s\n",
      "489:\tlearn: 0.3456470\ttotal: 1.25s\tremaining: 1.31s\n",
      "490:\tlearn: 0.3455026\ttotal: 1.26s\tremaining: 1.3s\n",
      "491:\tlearn: 0.3453745\ttotal: 1.26s\tremaining: 1.3s\n",
      "492:\tlearn: 0.3451491\ttotal: 1.26s\tremaining: 1.3s\n",
      "493:\tlearn: 0.3449777\ttotal: 1.27s\tremaining: 1.3s\n",
      "494:\tlearn: 0.3445835\ttotal: 1.27s\tremaining: 1.3s\n",
      "495:\tlearn: 0.3444248\ttotal: 1.27s\tremaining: 1.29s\n",
      "496:\tlearn: 0.3442426\ttotal: 1.27s\tremaining: 1.29s\n",
      "497:\tlearn: 0.3439776\ttotal: 1.28s\tremaining: 1.29s\n",
      "498:\tlearn: 0.3438716\ttotal: 1.28s\tremaining: 1.28s\n",
      "499:\tlearn: 0.3436652\ttotal: 1.28s\tremaining: 1.28s\n",
      "500:\tlearn: 0.3434597\ttotal: 1.28s\tremaining: 1.28s\n",
      "501:\tlearn: 0.3433614\ttotal: 1.3s\tremaining: 1.29s\n",
      "502:\tlearn: 0.3432153\ttotal: 1.3s\tremaining: 1.28s\n",
      "503:\tlearn: 0.3430988\ttotal: 1.3s\tremaining: 1.28s\n"
     ]
    },
    {
     "name": "stdout",
     "output_type": "stream",
     "text": [
      "504:\tlearn: 0.3429685\ttotal: 1.3s\tremaining: 1.28s\n",
      "505:\tlearn: 0.3428433\ttotal: 1.31s\tremaining: 1.28s\n",
      "506:\tlearn: 0.3427140\ttotal: 1.31s\tremaining: 1.27s\n",
      "507:\tlearn: 0.3425952\ttotal: 1.31s\tremaining: 1.27s\n",
      "508:\tlearn: 0.3424241\ttotal: 1.31s\tremaining: 1.27s\n",
      "509:\tlearn: 0.3422966\ttotal: 1.32s\tremaining: 1.26s\n",
      "510:\tlearn: 0.3421880\ttotal: 1.32s\tremaining: 1.26s\n",
      "511:\tlearn: 0.3420770\ttotal: 1.32s\tremaining: 1.26s\n",
      "512:\tlearn: 0.3419968\ttotal: 1.32s\tremaining: 1.26s\n",
      "513:\tlearn: 0.3418684\ttotal: 1.33s\tremaining: 1.25s\n",
      "514:\tlearn: 0.3417646\ttotal: 1.33s\tremaining: 1.25s\n",
      "515:\tlearn: 0.3416572\ttotal: 1.33s\tremaining: 1.25s\n",
      "516:\tlearn: 0.3415642\ttotal: 1.33s\tremaining: 1.25s\n",
      "517:\tlearn: 0.3414652\ttotal: 1.34s\tremaining: 1.24s\n",
      "518:\tlearn: 0.3413087\ttotal: 1.34s\tremaining: 1.24s\n",
      "519:\tlearn: 0.3411695\ttotal: 1.34s\tremaining: 1.24s\n",
      "520:\tlearn: 0.3409758\ttotal: 1.34s\tremaining: 1.24s\n",
      "521:\tlearn: 0.3408589\ttotal: 1.35s\tremaining: 1.23s\n",
      "522:\tlearn: 0.3407198\ttotal: 1.35s\tremaining: 1.23s\n",
      "523:\tlearn: 0.3405980\ttotal: 1.35s\tremaining: 1.23s\n",
      "524:\tlearn: 0.3404580\ttotal: 1.35s\tremaining: 1.23s\n",
      "525:\tlearn: 0.3403403\ttotal: 1.36s\tremaining: 1.22s\n",
      "526:\tlearn: 0.3401368\ttotal: 1.36s\tremaining: 1.22s\n",
      "527:\tlearn: 0.3400754\ttotal: 1.36s\tremaining: 1.22s\n",
      "528:\tlearn: 0.3399920\ttotal: 1.36s\tremaining: 1.21s\n",
      "529:\tlearn: 0.3398311\ttotal: 1.37s\tremaining: 1.21s\n",
      "530:\tlearn: 0.3396826\ttotal: 1.37s\tremaining: 1.21s\n",
      "531:\tlearn: 0.3395394\ttotal: 1.37s\tremaining: 1.21s\n"
     ]
    },
    {
     "name": "stdout",
     "output_type": "stream",
     "text": [
      "532:\tlearn: 0.3394051\ttotal: 1.37s\tremaining: 1.2s\n",
      "533:\tlearn: 0.3392918\ttotal: 1.38s\tremaining: 1.2s\n",
      "534:\tlearn: 0.3391681\ttotal: 1.38s\tremaining: 1.2s\n",
      "535:\tlearn: 0.3389440\ttotal: 1.38s\tremaining: 1.2s\n",
      "536:\tlearn: 0.3386226\ttotal: 1.38s\tremaining: 1.19s\n",
      "537:\tlearn: 0.3385275\ttotal: 1.39s\tremaining: 1.19s\n",
      "538:\tlearn: 0.3383921\ttotal: 1.39s\tremaining: 1.19s\n",
      "539:\tlearn: 0.3382846\ttotal: 1.39s\tremaining: 1.19s\n",
      "540:\tlearn: 0.3379942\ttotal: 1.39s\tremaining: 1.18s\n",
      "541:\tlearn: 0.3379227\ttotal: 1.4s\tremaining: 1.18s\n",
      "542:\tlearn: 0.3377807\ttotal: 1.4s\tremaining: 1.18s\n",
      "543:\tlearn: 0.3376522\ttotal: 1.4s\tremaining: 1.17s\n",
      "544:\tlearn: 0.3375434\ttotal: 1.4s\tremaining: 1.17s\n",
      "545:\tlearn: 0.3374630\ttotal: 1.41s\tremaining: 1.17s\n",
      "546:\tlearn: 0.3373427\ttotal: 1.41s\tremaining: 1.17s\n",
      "547:\tlearn: 0.3371462\ttotal: 1.41s\tremaining: 1.17s\n",
      "548:\tlearn: 0.3370603\ttotal: 1.42s\tremaining: 1.16s\n",
      "549:\tlearn: 0.3369792\ttotal: 1.42s\tremaining: 1.16s\n",
      "550:\tlearn: 0.3368540\ttotal: 1.42s\tremaining: 1.16s\n",
      "551:\tlearn: 0.3367689\ttotal: 1.42s\tremaining: 1.15s\n",
      "552:\tlearn: 0.3365645\ttotal: 1.42s\tremaining: 1.15s\n",
      "553:\tlearn: 0.3364377\ttotal: 1.43s\tremaining: 1.15s\n",
      "554:\tlearn: 0.3363560\ttotal: 1.43s\tremaining: 1.15s\n",
      "555:\tlearn: 0.3362226\ttotal: 1.43s\tremaining: 1.14s\n",
      "556:\tlearn: 0.3360758\ttotal: 1.43s\tremaining: 1.14s\n",
      "557:\tlearn: 0.3359816\ttotal: 1.44s\tremaining: 1.14s\n",
      "558:\tlearn: 0.3357643\ttotal: 1.44s\tremaining: 1.13s\n",
      "559:\tlearn: 0.3356419\ttotal: 1.44s\tremaining: 1.13s\n",
      "560:\tlearn: 0.3355309\ttotal: 1.44s\tremaining: 1.13s\n",
      "561:\tlearn: 0.3354744\ttotal: 1.45s\tremaining: 1.13s\n",
      "562:\tlearn: 0.3353659\ttotal: 1.45s\tremaining: 1.12s\n",
      "563:\tlearn: 0.3352416\ttotal: 1.45s\tremaining: 1.12s\n",
      "564:\tlearn: 0.3351394\ttotal: 1.45s\tremaining: 1.12s\n",
      "565:\tlearn: 0.3350534\ttotal: 1.46s\tremaining: 1.11s\n",
      "566:\tlearn: 0.3349235\ttotal: 1.46s\tremaining: 1.11s\n",
      "567:\tlearn: 0.3347091\ttotal: 1.46s\tremaining: 1.11s\n",
      "568:\tlearn: 0.3345712\ttotal: 1.46s\tremaining: 1.11s\n",
      "569:\tlearn: 0.3344691\ttotal: 1.46s\tremaining: 1.1s\n",
      "570:\tlearn: 0.3343614\ttotal: 1.47s\tremaining: 1.1s\n",
      "571:\tlearn: 0.3342515\ttotal: 1.47s\tremaining: 1.1s\n",
      "572:\tlearn: 0.3341279\ttotal: 1.47s\tremaining: 1.1s\n",
      "573:\tlearn: 0.3340424\ttotal: 1.47s\tremaining: 1.09s\n",
      "574:\tlearn: 0.3339566\ttotal: 1.48s\tremaining: 1.09s\n",
      "575:\tlearn: 0.3338655\ttotal: 1.48s\tremaining: 1.09s\n",
      "576:\tlearn: 0.3337876\ttotal: 1.48s\tremaining: 1.09s\n",
      "577:\tlearn: 0.3336711\ttotal: 1.49s\tremaining: 1.08s\n",
      "578:\tlearn: 0.3335722\ttotal: 1.49s\tremaining: 1.08s\n",
      "579:\tlearn: 0.3333927\ttotal: 1.49s\tremaining: 1.08s\n",
      "580:\tlearn: 0.3332442\ttotal: 1.49s\tremaining: 1.08s\n",
      "581:\tlearn: 0.3330537\ttotal: 1.49s\tremaining: 1.07s\n",
      "582:\tlearn: 0.3329392\ttotal: 1.5s\tremaining: 1.07s\n",
      "583:\tlearn: 0.3327520\ttotal: 1.5s\tremaining: 1.07s\n"
     ]
    },
    {
     "name": "stdout",
     "output_type": "stream",
     "text": [
      "584:\tlearn: 0.3326102\ttotal: 1.5s\tremaining: 1.06s\n",
      "585:\tlearn: 0.3324998\ttotal: 1.5s\tremaining: 1.06s\n",
      "586:\tlearn: 0.3324252\ttotal: 1.51s\tremaining: 1.06s\n",
      "587:\tlearn: 0.3322917\ttotal: 1.51s\tremaining: 1.06s\n",
      "588:\tlearn: 0.3322097\ttotal: 1.51s\tremaining: 1.05s\n",
      "589:\tlearn: 0.3320486\ttotal: 1.51s\tremaining: 1.05s\n",
      "590:\tlearn: 0.3319485\ttotal: 1.51s\tremaining: 1.05s\n",
      "591:\tlearn: 0.3318622\ttotal: 1.52s\tremaining: 1.05s\n",
      "592:\tlearn: 0.3317518\ttotal: 1.52s\tremaining: 1.04s\n",
      "593:\tlearn: 0.3316453\ttotal: 1.52s\tremaining: 1.04s\n",
      "594:\tlearn: 0.3315682\ttotal: 1.53s\tremaining: 1.04s\n",
      "595:\tlearn: 0.3314580\ttotal: 1.53s\tremaining: 1.04s\n",
      "596:\tlearn: 0.3313304\ttotal: 1.53s\tremaining: 1.03s\n",
      "597:\tlearn: 0.3312017\ttotal: 1.53s\tremaining: 1.03s\n",
      "598:\tlearn: 0.3311193\ttotal: 1.53s\tremaining: 1.03s\n",
      "599:\tlearn: 0.3310200\ttotal: 1.54s\tremaining: 1.02s\n",
      "600:\tlearn: 0.3309180\ttotal: 1.54s\tremaining: 1.02s\n",
      "601:\tlearn: 0.3308429\ttotal: 1.54s\tremaining: 1.02s\n",
      "602:\tlearn: 0.3307391\ttotal: 1.55s\tremaining: 1.02s\n",
      "603:\tlearn: 0.3306732\ttotal: 1.55s\tremaining: 1.01s\n",
      "604:\tlearn: 0.3305345\ttotal: 1.55s\tremaining: 1.01s\n",
      "605:\tlearn: 0.3304107\ttotal: 1.55s\tremaining: 1.01s\n",
      "606:\tlearn: 0.3303132\ttotal: 1.55s\tremaining: 1.01s\n",
      "607:\tlearn: 0.3302444\ttotal: 1.56s\tremaining: 1s\n",
      "608:\tlearn: 0.3301490\ttotal: 1.56s\tremaining: 1s\n",
      "609:\tlearn: 0.3299722\ttotal: 1.56s\tremaining: 999ms\n",
      "610:\tlearn: 0.3297043\ttotal: 1.56s\tremaining: 996ms\n",
      "611:\tlearn: 0.3296232\ttotal: 1.57s\tremaining: 994ms\n"
     ]
    },
    {
     "name": "stdout",
     "output_type": "stream",
     "text": [
      "612:\tlearn: 0.3295040\ttotal: 1.57s\tremaining: 991ms\n",
      "613:\tlearn: 0.3293747\ttotal: 1.57s\tremaining: 988ms\n",
      "614:\tlearn: 0.3293178\ttotal: 1.57s\tremaining: 986ms\n",
      "615:\tlearn: 0.3291830\ttotal: 1.58s\tremaining: 983ms\n",
      "616:\tlearn: 0.3290485\ttotal: 1.58s\tremaining: 981ms\n",
      "617:\tlearn: 0.3289060\ttotal: 1.58s\tremaining: 978ms\n",
      "618:\tlearn: 0.3286470\ttotal: 1.58s\tremaining: 975ms\n",
      "619:\tlearn: 0.3285676\ttotal: 1.59s\tremaining: 973ms\n",
      "620:\tlearn: 0.3283661\ttotal: 1.59s\tremaining: 970ms\n",
      "621:\tlearn: 0.3282449\ttotal: 1.59s\tremaining: 968ms\n",
      "622:\tlearn: 0.3281334\ttotal: 1.59s\tremaining: 965ms\n",
      "623:\tlearn: 0.3280002\ttotal: 1.6s\tremaining: 962ms\n",
      "624:\tlearn: 0.3278504\ttotal: 1.6s\tremaining: 960ms\n",
      "625:\tlearn: 0.3276862\ttotal: 1.6s\tremaining: 957ms\n",
      "626:\tlearn: 0.3276207\ttotal: 1.6s\tremaining: 954ms\n",
      "627:\tlearn: 0.3274585\ttotal: 1.61s\tremaining: 952ms\n",
      "628:\tlearn: 0.3273244\ttotal: 1.61s\tremaining: 949ms\n",
      "629:\tlearn: 0.3272291\ttotal: 1.61s\tremaining: 946ms\n",
      "630:\tlearn: 0.3271140\ttotal: 1.61s\tremaining: 944ms\n",
      "631:\tlearn: 0.3270649\ttotal: 1.61s\tremaining: 941ms\n",
      "632:\tlearn: 0.3269028\ttotal: 1.62s\tremaining: 938ms\n",
      "633:\tlearn: 0.3267951\ttotal: 1.62s\tremaining: 935ms\n",
      "634:\tlearn: 0.3266841\ttotal: 1.62s\tremaining: 933ms\n",
      "635:\tlearn: 0.3265110\ttotal: 1.63s\tremaining: 930ms\n",
      "636:\tlearn: 0.3263843\ttotal: 1.63s\tremaining: 927ms\n",
      "637:\tlearn: 0.3262928\ttotal: 1.63s\tremaining: 925ms\n",
      "638:\tlearn: 0.3261669\ttotal: 1.63s\tremaining: 922ms\n",
      "639:\tlearn: 0.3260604\ttotal: 1.63s\tremaining: 920ms\n",
      "640:\tlearn: 0.3259232\ttotal: 1.64s\tremaining: 917ms\n",
      "641:\tlearn: 0.3258231\ttotal: 1.64s\tremaining: 914ms\n",
      "642:\tlearn: 0.3257045\ttotal: 1.64s\tremaining: 912ms\n",
      "643:\tlearn: 0.3256096\ttotal: 1.64s\tremaining: 909ms\n",
      "644:\tlearn: 0.3255238\ttotal: 1.65s\tremaining: 906ms\n",
      "645:\tlearn: 0.3254446\ttotal: 1.65s\tremaining: 904ms\n",
      "646:\tlearn: 0.3253395\ttotal: 1.65s\tremaining: 901ms\n",
      "647:\tlearn: 0.3253039\ttotal: 1.65s\tremaining: 898ms\n",
      "648:\tlearn: 0.3252025\ttotal: 1.66s\tremaining: 895ms\n",
      "649:\tlearn: 0.3251105\ttotal: 1.66s\tremaining: 893ms\n",
      "650:\tlearn: 0.3249895\ttotal: 1.66s\tremaining: 890ms\n",
      "651:\tlearn: 0.3247721\ttotal: 1.66s\tremaining: 887ms\n",
      "652:\tlearn: 0.3246988\ttotal: 1.66s\tremaining: 885ms\n",
      "653:\tlearn: 0.3245705\ttotal: 1.67s\tremaining: 882ms\n",
      "654:\tlearn: 0.3244874\ttotal: 1.67s\tremaining: 879ms\n",
      "655:\tlearn: 0.3243895\ttotal: 1.67s\tremaining: 877ms\n",
      "656:\tlearn: 0.3243204\ttotal: 1.67s\tremaining: 874ms\n",
      "657:\tlearn: 0.3242527\ttotal: 1.68s\tremaining: 871ms\n",
      "658:\tlearn: 0.3241289\ttotal: 1.68s\tremaining: 869ms\n",
      "659:\tlearn: 0.3239827\ttotal: 1.68s\tremaining: 866ms\n",
      "660:\tlearn: 0.3238660\ttotal: 1.68s\tremaining: 863ms\n",
      "661:\tlearn: 0.3236942\ttotal: 1.69s\tremaining: 861ms\n",
      "662:\tlearn: 0.3235704\ttotal: 1.69s\tremaining: 858ms\n",
      "663:\tlearn: 0.3234650\ttotal: 1.69s\tremaining: 856ms\n",
      "664:\tlearn: 0.3233471\ttotal: 1.69s\tremaining: 853ms\n",
      "665:\tlearn: 0.3232594\ttotal: 1.7s\tremaining: 851ms\n"
     ]
    },
    {
     "name": "stdout",
     "output_type": "stream",
     "text": [
      "666:\tlearn: 0.3231695\ttotal: 1.7s\tremaining: 848ms\n",
      "667:\tlearn: 0.3230865\ttotal: 1.7s\tremaining: 845ms\n",
      "668:\tlearn: 0.3230330\ttotal: 1.7s\tremaining: 843ms\n",
      "669:\tlearn: 0.3229183\ttotal: 1.71s\tremaining: 840ms\n",
      "670:\tlearn: 0.3227602\ttotal: 1.71s\tremaining: 837ms\n",
      "671:\tlearn: 0.3226629\ttotal: 1.71s\tremaining: 835ms\n",
      "672:\tlearn: 0.3225538\ttotal: 1.71s\tremaining: 832ms\n",
      "673:\tlearn: 0.3224964\ttotal: 1.71s\tremaining: 829ms\n",
      "674:\tlearn: 0.3224121\ttotal: 1.72s\tremaining: 827ms\n",
      "675:\tlearn: 0.3223265\ttotal: 1.72s\tremaining: 824ms\n",
      "676:\tlearn: 0.3222362\ttotal: 1.72s\tremaining: 821ms\n",
      "677:\tlearn: 0.3221996\ttotal: 1.72s\tremaining: 819ms\n",
      "678:\tlearn: 0.3220850\ttotal: 1.73s\tremaining: 816ms\n",
      "679:\tlearn: 0.3219951\ttotal: 1.73s\tremaining: 814ms\n",
      "680:\tlearn: 0.3218611\ttotal: 1.73s\tremaining: 811ms\n",
      "681:\tlearn: 0.3217786\ttotal: 1.73s\tremaining: 809ms\n",
      "682:\tlearn: 0.3216393\ttotal: 1.74s\tremaining: 806ms\n",
      "683:\tlearn: 0.3215152\ttotal: 1.74s\tremaining: 804ms\n",
      "684:\tlearn: 0.3214071\ttotal: 1.74s\tremaining: 801ms\n",
      "685:\tlearn: 0.3213289\ttotal: 1.74s\tremaining: 798ms\n",
      "686:\tlearn: 0.3212395\ttotal: 1.75s\tremaining: 796ms\n",
      "687:\tlearn: 0.3211714\ttotal: 1.75s\tremaining: 793ms\n",
      "688:\tlearn: 0.3210898\ttotal: 1.75s\tremaining: 791ms\n",
      "689:\tlearn: 0.3210128\ttotal: 1.75s\tremaining: 788ms\n",
      "690:\tlearn: 0.3208824\ttotal: 1.75s\tremaining: 785ms\n",
      "691:\tlearn: 0.3207918\ttotal: 1.76s\tremaining: 783ms\n",
      "692:\tlearn: 0.3206807\ttotal: 1.76s\tremaining: 780ms\n",
      "693:\tlearn: 0.3206363\ttotal: 1.76s\tremaining: 777ms\n"
     ]
    },
    {
     "name": "stdout",
     "output_type": "stream",
     "text": [
      "694:\tlearn: 0.3205140\ttotal: 1.76s\tremaining: 775ms\n",
      "695:\tlearn: 0.3204732\ttotal: 1.77s\tremaining: 772ms\n",
      "696:\tlearn: 0.3203515\ttotal: 1.77s\tremaining: 769ms\n",
      "697:\tlearn: 0.3202478\ttotal: 1.77s\tremaining: 767ms\n",
      "698:\tlearn: 0.3201830\ttotal: 1.77s\tremaining: 764ms\n",
      "699:\tlearn: 0.3200817\ttotal: 1.78s\tremaining: 762ms\n",
      "700:\tlearn: 0.3199815\ttotal: 1.78s\tremaining: 759ms\n",
      "701:\tlearn: 0.3198271\ttotal: 1.78s\tremaining: 756ms\n",
      "702:\tlearn: 0.3197068\ttotal: 1.78s\tremaining: 754ms\n",
      "703:\tlearn: 0.3196008\ttotal: 1.79s\tremaining: 751ms\n",
      "704:\tlearn: 0.3194881\ttotal: 1.79s\tremaining: 748ms\n",
      "705:\tlearn: 0.3194033\ttotal: 1.79s\tremaining: 746ms\n",
      "706:\tlearn: 0.3192977\ttotal: 1.79s\tremaining: 743ms\n",
      "707:\tlearn: 0.3192362\ttotal: 1.79s\tremaining: 741ms\n",
      "708:\tlearn: 0.3190938\ttotal: 1.8s\tremaining: 738ms\n",
      "709:\tlearn: 0.3190318\ttotal: 1.8s\tremaining: 735ms\n",
      "710:\tlearn: 0.3189367\ttotal: 1.8s\tremaining: 733ms\n",
      "711:\tlearn: 0.3188375\ttotal: 1.8s\tremaining: 730ms\n",
      "712:\tlearn: 0.3187813\ttotal: 1.81s\tremaining: 727ms\n",
      "713:\tlearn: 0.3187053\ttotal: 1.81s\tremaining: 725ms\n",
      "714:\tlearn: 0.3186539\ttotal: 1.81s\tremaining: 722ms\n",
      "715:\tlearn: 0.3185292\ttotal: 1.81s\tremaining: 720ms\n",
      "716:\tlearn: 0.3184544\ttotal: 1.82s\tremaining: 717ms\n",
      "717:\tlearn: 0.3183965\ttotal: 1.82s\tremaining: 715ms\n",
      "718:\tlearn: 0.3183479\ttotal: 1.82s\tremaining: 712ms\n",
      "719:\tlearn: 0.3182612\ttotal: 1.82s\tremaining: 710ms\n",
      "720:\tlearn: 0.3181858\ttotal: 1.83s\tremaining: 707ms\n",
      "721:\tlearn: 0.3181012\ttotal: 1.83s\tremaining: 704ms\n",
      "722:\tlearn: 0.3179904\ttotal: 1.83s\tremaining: 702ms\n",
      "723:\tlearn: 0.3179180\ttotal: 1.83s\tremaining: 700ms\n",
      "724:\tlearn: 0.3177335\ttotal: 1.84s\tremaining: 697ms\n",
      "725:\tlearn: 0.3175871\ttotal: 1.84s\tremaining: 694ms\n",
      "726:\tlearn: 0.3174560\ttotal: 1.84s\tremaining: 692ms\n",
      "727:\tlearn: 0.3172488\ttotal: 1.84s\tremaining: 690ms\n",
      "728:\tlearn: 0.3171994\ttotal: 1.85s\tremaining: 687ms\n",
      "729:\tlearn: 0.3170858\ttotal: 1.85s\tremaining: 684ms\n",
      "730:\tlearn: 0.3170367\ttotal: 1.85s\tremaining: 682ms\n",
      "731:\tlearn: 0.3169068\ttotal: 1.85s\tremaining: 679ms\n",
      "732:\tlearn: 0.3167992\ttotal: 1.86s\tremaining: 677ms\n",
      "733:\tlearn: 0.3167291\ttotal: 1.86s\tremaining: 674ms\n",
      "734:\tlearn: 0.3166318\ttotal: 1.86s\tremaining: 672ms\n",
      "735:\tlearn: 0.3165226\ttotal: 1.86s\tremaining: 669ms\n",
      "736:\tlearn: 0.3164247\ttotal: 1.87s\tremaining: 667ms\n",
      "737:\tlearn: 0.3163439\ttotal: 1.87s\tremaining: 664ms\n",
      "738:\tlearn: 0.3162632\ttotal: 1.87s\tremaining: 662ms\n",
      "739:\tlearn: 0.3161896\ttotal: 1.88s\tremaining: 659ms\n",
      "740:\tlearn: 0.3160878\ttotal: 1.88s\tremaining: 656ms\n",
      "741:\tlearn: 0.3159921\ttotal: 1.88s\tremaining: 654ms\n",
      "742:\tlearn: 0.3159330\ttotal: 1.88s\tremaining: 651ms\n",
      "743:\tlearn: 0.3158272\ttotal: 1.89s\tremaining: 649ms\n",
      "744:\tlearn: 0.3156971\ttotal: 1.89s\tremaining: 646ms\n",
      "745:\tlearn: 0.3155973\ttotal: 1.89s\tremaining: 643ms\n",
      "746:\tlearn: 0.3154799\ttotal: 1.89s\tremaining: 641ms\n"
     ]
    },
    {
     "name": "stdout",
     "output_type": "stream",
     "text": [
      "747:\tlearn: 0.3153612\ttotal: 1.89s\tremaining: 638ms\n",
      "748:\tlearn: 0.3152367\ttotal: 1.9s\tremaining: 636ms\n",
      "749:\tlearn: 0.3151485\ttotal: 1.9s\tremaining: 633ms\n",
      "750:\tlearn: 0.3150612\ttotal: 1.9s\tremaining: 631ms\n",
      "751:\tlearn: 0.3149738\ttotal: 1.9s\tremaining: 628ms\n",
      "752:\tlearn: 0.3149147\ttotal: 1.91s\tremaining: 625ms\n",
      "753:\tlearn: 0.3147920\ttotal: 1.91s\tremaining: 623ms\n",
      "754:\tlearn: 0.3146997\ttotal: 1.91s\tremaining: 620ms\n",
      "755:\tlearn: 0.3146431\ttotal: 1.91s\tremaining: 618ms\n",
      "756:\tlearn: 0.3145633\ttotal: 1.92s\tremaining: 615ms\n",
      "757:\tlearn: 0.3144763\ttotal: 1.92s\tremaining: 612ms\n",
      "758:\tlearn: 0.3144087\ttotal: 1.92s\tremaining: 610ms\n",
      "759:\tlearn: 0.3143540\ttotal: 1.92s\tremaining: 607ms\n",
      "760:\tlearn: 0.3142655\ttotal: 1.92s\tremaining: 604ms\n",
      "761:\tlearn: 0.3141936\ttotal: 1.93s\tremaining: 602ms\n",
      "762:\tlearn: 0.3141537\ttotal: 1.93s\tremaining: 599ms\n",
      "763:\tlearn: 0.3140889\ttotal: 1.93s\tremaining: 597ms\n",
      "764:\tlearn: 0.3140425\ttotal: 1.93s\tremaining: 594ms\n",
      "765:\tlearn: 0.3139138\ttotal: 1.94s\tremaining: 592ms\n",
      "766:\tlearn: 0.3138614\ttotal: 1.94s\tremaining: 589ms\n",
      "767:\tlearn: 0.3137974\ttotal: 1.94s\tremaining: 587ms\n",
      "768:\tlearn: 0.3137365\ttotal: 1.94s\tremaining: 584ms\n",
      "769:\tlearn: 0.3135611\ttotal: 1.95s\tremaining: 581ms\n",
      "770:\tlearn: 0.3134643\ttotal: 1.95s\tremaining: 579ms\n",
      "771:\tlearn: 0.3133560\ttotal: 1.95s\tremaining: 576ms\n",
      "772:\tlearn: 0.3132573\ttotal: 1.95s\tremaining: 574ms\n",
      "773:\tlearn: 0.3131706\ttotal: 1.96s\tremaining: 571ms\n",
      "774:\tlearn: 0.3130790\ttotal: 1.96s\tremaining: 568ms\n",
      "775:\tlearn: 0.3129986\ttotal: 1.96s\tremaining: 566ms\n"
     ]
    },
    {
     "name": "stdout",
     "output_type": "stream",
     "text": [
      "776:\tlearn: 0.3129382\ttotal: 1.96s\tremaining: 563ms\n",
      "777:\tlearn: 0.3128393\ttotal: 1.97s\tremaining: 561ms\n",
      "778:\tlearn: 0.3127198\ttotal: 1.97s\tremaining: 558ms\n",
      "779:\tlearn: 0.3126829\ttotal: 1.97s\tremaining: 556ms\n",
      "780:\tlearn: 0.3125757\ttotal: 1.97s\tremaining: 553ms\n",
      "781:\tlearn: 0.3124813\ttotal: 1.97s\tremaining: 551ms\n",
      "782:\tlearn: 0.3123238\ttotal: 1.98s\tremaining: 548ms\n",
      "783:\tlearn: 0.3121702\ttotal: 1.98s\tremaining: 545ms\n",
      "784:\tlearn: 0.3120637\ttotal: 1.98s\tremaining: 543ms\n",
      "785:\tlearn: 0.3120022\ttotal: 1.98s\tremaining: 540ms\n",
      "786:\tlearn: 0.3119091\ttotal: 1.99s\tremaining: 538ms\n",
      "787:\tlearn: 0.3118408\ttotal: 1.99s\tremaining: 535ms\n",
      "788:\tlearn: 0.3117775\ttotal: 1.99s\tremaining: 532ms\n",
      "789:\tlearn: 0.3117094\ttotal: 1.99s\tremaining: 530ms\n",
      "790:\tlearn: 0.3115968\ttotal: 2s\tremaining: 527ms\n",
      "791:\tlearn: 0.3114802\ttotal: 2s\tremaining: 525ms\n",
      "792:\tlearn: 0.3113948\ttotal: 2s\tremaining: 522ms\n",
      "793:\tlearn: 0.3113437\ttotal: 2s\tremaining: 520ms\n",
      "794:\tlearn: 0.3112438\ttotal: 2s\tremaining: 517ms\n",
      "795:\tlearn: 0.3111972\ttotal: 2.01s\tremaining: 515ms\n",
      "796:\tlearn: 0.3111127\ttotal: 2.01s\tremaining: 512ms\n",
      "797:\tlearn: 0.3110109\ttotal: 2.01s\tremaining: 509ms\n",
      "798:\tlearn: 0.3109004\ttotal: 2.02s\tremaining: 507ms\n",
      "799:\tlearn: 0.3107974\ttotal: 2.02s\tremaining: 504ms\n",
      "800:\tlearn: 0.3107620\ttotal: 2.02s\tremaining: 502ms\n",
      "801:\tlearn: 0.3106833\ttotal: 2.02s\tremaining: 499ms\n",
      "802:\tlearn: 0.3106034\ttotal: 2.02s\tremaining: 497ms\n",
      "803:\tlearn: 0.3105403\ttotal: 2.03s\tremaining: 494ms\n",
      "804:\tlearn: 0.3104604\ttotal: 2.03s\tremaining: 492ms\n",
      "805:\tlearn: 0.3104121\ttotal: 2.03s\tremaining: 489ms\n",
      "806:\tlearn: 0.3103368\ttotal: 2.04s\tremaining: 487ms\n",
      "807:\tlearn: 0.3102848\ttotal: 2.04s\tremaining: 484ms\n",
      "808:\tlearn: 0.3102017\ttotal: 2.04s\tremaining: 482ms\n",
      "809:\tlearn: 0.3101359\ttotal: 2.04s\tremaining: 479ms\n",
      "810:\tlearn: 0.3100075\ttotal: 2.04s\tremaining: 477ms\n",
      "811:\tlearn: 0.3098803\ttotal: 2.05s\tremaining: 474ms\n",
      "812:\tlearn: 0.3097561\ttotal: 2.05s\tremaining: 472ms\n",
      "813:\tlearn: 0.3097032\ttotal: 2.05s\tremaining: 469ms\n",
      "814:\tlearn: 0.3096453\ttotal: 2.06s\tremaining: 467ms\n",
      "815:\tlearn: 0.3095594\ttotal: 2.06s\tremaining: 464ms\n",
      "816:\tlearn: 0.3094621\ttotal: 2.06s\tremaining: 462ms\n",
      "817:\tlearn: 0.3093816\ttotal: 2.06s\tremaining: 459ms\n",
      "818:\tlearn: 0.3093121\ttotal: 2.07s\tremaining: 457ms\n",
      "819:\tlearn: 0.3092481\ttotal: 2.07s\tremaining: 454ms\n",
      "820:\tlearn: 0.3091982\ttotal: 2.07s\tremaining: 452ms\n",
      "821:\tlearn: 0.3091374\ttotal: 2.07s\tremaining: 449ms\n",
      "822:\tlearn: 0.3090619\ttotal: 2.08s\tremaining: 446ms\n",
      "823:\tlearn: 0.3089812\ttotal: 2.08s\tremaining: 444ms\n",
      "824:\tlearn: 0.3088937\ttotal: 2.08s\tremaining: 441ms\n",
      "825:\tlearn: 0.3087921\ttotal: 2.08s\tremaining: 439ms\n",
      "826:\tlearn: 0.3087280\ttotal: 2.08s\tremaining: 436ms\n",
      "827:\tlearn: 0.3086635\ttotal: 2.09s\tremaining: 434ms\n"
     ]
    },
    {
     "name": "stdout",
     "output_type": "stream",
     "text": [
      "828:\tlearn: 0.3086095\ttotal: 2.09s\tremaining: 431ms\n",
      "829:\tlearn: 0.3085029\ttotal: 2.09s\tremaining: 428ms\n",
      "830:\tlearn: 0.3083931\ttotal: 2.09s\tremaining: 426ms\n",
      "831:\tlearn: 0.3083172\ttotal: 2.1s\tremaining: 423ms\n",
      "832:\tlearn: 0.3082598\ttotal: 2.1s\tremaining: 421ms\n",
      "833:\tlearn: 0.3081353\ttotal: 2.1s\tremaining: 418ms\n",
      "834:\tlearn: 0.3080500\ttotal: 2.1s\tremaining: 416ms\n",
      "835:\tlearn: 0.3079799\ttotal: 2.11s\tremaining: 413ms\n",
      "836:\tlearn: 0.3078861\ttotal: 2.11s\tremaining: 411ms\n",
      "837:\tlearn: 0.3077691\ttotal: 2.11s\tremaining: 408ms\n",
      "838:\tlearn: 0.3076787\ttotal: 2.11s\tremaining: 406ms\n",
      "839:\tlearn: 0.3076011\ttotal: 2.12s\tremaining: 403ms\n",
      "840:\tlearn: 0.3075291\ttotal: 2.12s\tremaining: 401ms\n",
      "841:\tlearn: 0.3073417\ttotal: 2.12s\tremaining: 398ms\n",
      "842:\tlearn: 0.3072388\ttotal: 2.12s\tremaining: 396ms\n",
      "843:\tlearn: 0.3071802\ttotal: 2.13s\tremaining: 393ms\n",
      "844:\tlearn: 0.3071088\ttotal: 2.13s\tremaining: 390ms\n",
      "845:\tlearn: 0.3070232\ttotal: 2.13s\tremaining: 388ms\n",
      "846:\tlearn: 0.3069306\ttotal: 2.13s\tremaining: 385ms\n",
      "847:\tlearn: 0.3068207\ttotal: 2.13s\tremaining: 383ms\n",
      "848:\tlearn: 0.3067252\ttotal: 2.14s\tremaining: 380ms\n",
      "849:\tlearn: 0.3066605\ttotal: 2.14s\tremaining: 378ms\n",
      "850:\tlearn: 0.3065732\ttotal: 2.14s\tremaining: 375ms\n",
      "851:\tlearn: 0.3064942\ttotal: 2.15s\tremaining: 373ms\n",
      "852:\tlearn: 0.3063687\ttotal: 2.15s\tremaining: 370ms\n",
      "853:\tlearn: 0.3062924\ttotal: 2.15s\tremaining: 368ms\n",
      "854:\tlearn: 0.3062251\ttotal: 2.15s\tremaining: 365ms\n",
      "855:\tlearn: 0.3061795\ttotal: 2.15s\tremaining: 363ms\n"
     ]
    },
    {
     "name": "stdout",
     "output_type": "stream",
     "text": [
      "856:\tlearn: 0.3060861\ttotal: 2.16s\tremaining: 360ms\n",
      "857:\tlearn: 0.3060064\ttotal: 2.16s\tremaining: 357ms\n",
      "858:\tlearn: 0.3059447\ttotal: 2.16s\tremaining: 355ms\n",
      "859:\tlearn: 0.3058730\ttotal: 2.16s\tremaining: 352ms\n",
      "860:\tlearn: 0.3057691\ttotal: 2.17s\tremaining: 350ms\n",
      "861:\tlearn: 0.3056904\ttotal: 2.17s\tremaining: 347ms\n",
      "862:\tlearn: 0.3056110\ttotal: 2.17s\tremaining: 345ms\n",
      "863:\tlearn: 0.3055685\ttotal: 2.17s\tremaining: 342ms\n",
      "864:\tlearn: 0.3054847\ttotal: 2.18s\tremaining: 340ms\n",
      "865:\tlearn: 0.3054023\ttotal: 2.18s\tremaining: 337ms\n",
      "866:\tlearn: 0.3052794\ttotal: 2.18s\tremaining: 335ms\n",
      "867:\tlearn: 0.3051423\ttotal: 2.18s\tremaining: 332ms\n",
      "868:\tlearn: 0.3050855\ttotal: 2.19s\tremaining: 330ms\n",
      "869:\tlearn: 0.3049989\ttotal: 2.19s\tremaining: 327ms\n",
      "870:\tlearn: 0.3049201\ttotal: 2.19s\tremaining: 325ms\n",
      "871:\tlearn: 0.3048248\ttotal: 2.19s\tremaining: 322ms\n",
      "872:\tlearn: 0.3047332\ttotal: 2.2s\tremaining: 320ms\n",
      "873:\tlearn: 0.3046567\ttotal: 2.2s\tremaining: 317ms\n",
      "874:\tlearn: 0.3045883\ttotal: 2.2s\tremaining: 315ms\n",
      "875:\tlearn: 0.3044776\ttotal: 2.2s\tremaining: 312ms\n",
      "876:\tlearn: 0.3043928\ttotal: 2.21s\tremaining: 309ms\n",
      "877:\tlearn: 0.3042867\ttotal: 2.21s\tremaining: 307ms\n",
      "878:\tlearn: 0.3042010\ttotal: 2.21s\tremaining: 304ms\n",
      "879:\tlearn: 0.3041292\ttotal: 2.21s\tremaining: 302ms\n",
      "880:\tlearn: 0.3040746\ttotal: 2.22s\tremaining: 299ms\n",
      "881:\tlearn: 0.3039702\ttotal: 2.22s\tremaining: 297ms\n",
      "882:\tlearn: 0.3038948\ttotal: 2.22s\tremaining: 294ms\n",
      "883:\tlearn: 0.3038516\ttotal: 2.22s\tremaining: 292ms\n",
      "884:\tlearn: 0.3038105\ttotal: 2.23s\tremaining: 289ms\n",
      "885:\tlearn: 0.3037282\ttotal: 2.23s\tremaining: 287ms\n",
      "886:\tlearn: 0.3036781\ttotal: 2.23s\tremaining: 284ms\n",
      "887:\tlearn: 0.3035934\ttotal: 2.23s\tremaining: 282ms\n",
      "888:\tlearn: 0.3035223\ttotal: 2.24s\tremaining: 279ms\n",
      "889:\tlearn: 0.3034321\ttotal: 2.24s\tremaining: 277ms\n",
      "890:\tlearn: 0.3033623\ttotal: 2.24s\tremaining: 274ms\n",
      "891:\tlearn: 0.3032679\ttotal: 2.24s\tremaining: 272ms\n",
      "892:\tlearn: 0.3031749\ttotal: 2.25s\tremaining: 269ms\n",
      "893:\tlearn: 0.3031300\ttotal: 2.25s\tremaining: 267ms\n",
      "894:\tlearn: 0.3030741\ttotal: 2.25s\tremaining: 264ms\n",
      "895:\tlearn: 0.3029461\ttotal: 2.25s\tremaining: 262ms\n",
      "896:\tlearn: 0.3028941\ttotal: 2.25s\tremaining: 259ms\n",
      "897:\tlearn: 0.3027873\ttotal: 2.26s\tremaining: 257ms\n",
      "898:\tlearn: 0.3026786\ttotal: 2.26s\tremaining: 254ms\n",
      "899:\tlearn: 0.3026056\ttotal: 2.26s\tremaining: 251ms\n",
      "900:\tlearn: 0.3025128\ttotal: 2.27s\tremaining: 249ms\n",
      "901:\tlearn: 0.3024496\ttotal: 2.27s\tremaining: 246ms\n",
      "902:\tlearn: 0.3023737\ttotal: 2.27s\tremaining: 244ms\n",
      "903:\tlearn: 0.3023052\ttotal: 2.27s\tremaining: 241ms\n",
      "904:\tlearn: 0.3022147\ttotal: 2.27s\tremaining: 239ms\n",
      "905:\tlearn: 0.3020183\ttotal: 2.28s\tremaining: 236ms\n",
      "906:\tlearn: 0.3019119\ttotal: 2.28s\tremaining: 234ms\n",
      "907:\tlearn: 0.3018251\ttotal: 2.28s\tremaining: 231ms\n"
     ]
    },
    {
     "name": "stdout",
     "output_type": "stream",
     "text": [
      "908:\tlearn: 0.3017393\ttotal: 2.29s\tremaining: 229ms\n",
      "909:\tlearn: 0.3016612\ttotal: 2.29s\tremaining: 226ms\n",
      "910:\tlearn: 0.3015639\ttotal: 2.29s\tremaining: 224ms\n",
      "911:\tlearn: 0.3014586\ttotal: 2.29s\tremaining: 221ms\n",
      "912:\tlearn: 0.3013508\ttotal: 2.3s\tremaining: 219ms\n",
      "913:\tlearn: 0.3012709\ttotal: 2.3s\tremaining: 216ms\n",
      "914:\tlearn: 0.3012097\ttotal: 2.3s\tremaining: 214ms\n",
      "915:\tlearn: 0.3011424\ttotal: 2.3s\tremaining: 211ms\n",
      "916:\tlearn: 0.3010762\ttotal: 2.31s\tremaining: 209ms\n",
      "917:\tlearn: 0.3009968\ttotal: 2.31s\tremaining: 206ms\n",
      "918:\tlearn: 0.3009283\ttotal: 2.31s\tremaining: 204ms\n",
      "919:\tlearn: 0.3008338\ttotal: 2.31s\tremaining: 201ms\n",
      "920:\tlearn: 0.3007573\ttotal: 2.31s\tremaining: 199ms\n",
      "921:\tlearn: 0.3006686\ttotal: 2.32s\tremaining: 196ms\n",
      "922:\tlearn: 0.3006324\ttotal: 2.32s\tremaining: 194ms\n",
      "923:\tlearn: 0.3004907\ttotal: 2.32s\tremaining: 191ms\n",
      "924:\tlearn: 0.3004109\ttotal: 2.32s\tremaining: 188ms\n",
      "925:\tlearn: 0.3002669\ttotal: 2.33s\tremaining: 186ms\n",
      "926:\tlearn: 0.3001787\ttotal: 2.33s\tremaining: 183ms\n",
      "927:\tlearn: 0.3001110\ttotal: 2.33s\tremaining: 181ms\n",
      "928:\tlearn: 0.3000434\ttotal: 2.33s\tremaining: 178ms\n",
      "929:\tlearn: 0.2999980\ttotal: 2.33s\tremaining: 176ms\n",
      "930:\tlearn: 0.2999285\ttotal: 2.34s\tremaining: 173ms\n",
      "931:\tlearn: 0.2998364\ttotal: 2.34s\tremaining: 171ms\n",
      "932:\tlearn: 0.2997881\ttotal: 2.34s\tremaining: 168ms\n",
      "933:\tlearn: 0.2996997\ttotal: 2.34s\tremaining: 166ms\n",
      "934:\tlearn: 0.2996299\ttotal: 2.35s\tremaining: 163ms\n",
      "935:\tlearn: 0.2995431\ttotal: 2.35s\tremaining: 161ms\n"
     ]
    },
    {
     "name": "stdout",
     "output_type": "stream",
     "text": [
      "936:\tlearn: 0.2994856\ttotal: 2.35s\tremaining: 158ms\n",
      "937:\tlearn: 0.2994188\ttotal: 2.35s\tremaining: 156ms\n",
      "938:\tlearn: 0.2993684\ttotal: 2.36s\tremaining: 153ms\n",
      "939:\tlearn: 0.2993044\ttotal: 2.36s\tremaining: 151ms\n",
      "940:\tlearn: 0.2991901\ttotal: 2.36s\tremaining: 148ms\n",
      "941:\tlearn: 0.2991068\ttotal: 2.36s\tremaining: 146ms\n",
      "942:\tlearn: 0.2990627\ttotal: 2.37s\tremaining: 143ms\n",
      "943:\tlearn: 0.2989744\ttotal: 2.37s\tremaining: 141ms\n",
      "944:\tlearn: 0.2988893\ttotal: 2.37s\tremaining: 138ms\n",
      "945:\tlearn: 0.2987853\ttotal: 2.37s\tremaining: 136ms\n",
      "946:\tlearn: 0.2987357\ttotal: 2.38s\tremaining: 133ms\n",
      "947:\tlearn: 0.2986444\ttotal: 2.38s\tremaining: 131ms\n",
      "948:\tlearn: 0.2985693\ttotal: 2.38s\tremaining: 128ms\n",
      "949:\tlearn: 0.2984929\ttotal: 2.38s\tremaining: 125ms\n",
      "950:\tlearn: 0.2984109\ttotal: 2.39s\tremaining: 123ms\n",
      "951:\tlearn: 0.2983618\ttotal: 2.39s\tremaining: 120ms\n",
      "952:\tlearn: 0.2983183\ttotal: 2.39s\tremaining: 118ms\n",
      "953:\tlearn: 0.2982583\ttotal: 2.39s\tremaining: 115ms\n",
      "954:\tlearn: 0.2982022\ttotal: 2.4s\tremaining: 113ms\n",
      "955:\tlearn: 0.2980972\ttotal: 2.4s\tremaining: 110ms\n",
      "956:\tlearn: 0.2980460\ttotal: 2.4s\tremaining: 108ms\n",
      "957:\tlearn: 0.2980042\ttotal: 2.4s\tremaining: 105ms\n",
      "958:\tlearn: 0.2979290\ttotal: 2.4s\tremaining: 103ms\n",
      "959:\tlearn: 0.2978860\ttotal: 2.41s\tremaining: 100ms\n",
      "960:\tlearn: 0.2978117\ttotal: 2.41s\tremaining: 97.8ms\n",
      "961:\tlearn: 0.2977389\ttotal: 2.41s\tremaining: 95.3ms\n",
      "962:\tlearn: 0.2976603\ttotal: 2.41s\tremaining: 92.8ms\n",
      "963:\tlearn: 0.2975914\ttotal: 2.42s\tremaining: 90.3ms\n",
      "964:\tlearn: 0.2975201\ttotal: 2.42s\tremaining: 87.8ms\n",
      "965:\tlearn: 0.2974619\ttotal: 2.42s\tremaining: 85.3ms\n",
      "966:\tlearn: 0.2973230\ttotal: 2.42s\tremaining: 82.7ms\n",
      "967:\tlearn: 0.2972550\ttotal: 2.43s\tremaining: 80.2ms\n",
      "968:\tlearn: 0.2971954\ttotal: 2.43s\tremaining: 77.7ms\n",
      "969:\tlearn: 0.2971241\ttotal: 2.43s\tremaining: 75.2ms\n",
      "970:\tlearn: 0.2970652\ttotal: 2.43s\tremaining: 72.7ms\n",
      "971:\tlearn: 0.2969851\ttotal: 2.44s\tremaining: 70.2ms\n",
      "972:\tlearn: 0.2969039\ttotal: 2.44s\tremaining: 67.7ms\n",
      "973:\tlearn: 0.2968455\ttotal: 2.44s\tremaining: 65.2ms\n",
      "974:\tlearn: 0.2967585\ttotal: 2.44s\tremaining: 62.7ms\n",
      "975:\tlearn: 0.2967008\ttotal: 2.45s\tremaining: 60.1ms\n",
      "976:\tlearn: 0.2966401\ttotal: 2.45s\tremaining: 57.6ms\n",
      "977:\tlearn: 0.2965125\ttotal: 2.45s\tremaining: 55.1ms\n",
      "978:\tlearn: 0.2964679\ttotal: 2.45s\tremaining: 52.6ms\n",
      "979:\tlearn: 0.2963945\ttotal: 2.46s\tremaining: 50.1ms\n",
      "980:\tlearn: 0.2963205\ttotal: 2.46s\tremaining: 47.6ms\n",
      "981:\tlearn: 0.2962374\ttotal: 2.46s\tremaining: 45.1ms\n",
      "982:\tlearn: 0.2961379\ttotal: 2.46s\tremaining: 42.6ms\n",
      "983:\tlearn: 0.2960762\ttotal: 2.46s\tremaining: 40.1ms\n",
      "984:\tlearn: 0.2959962\ttotal: 2.47s\tremaining: 37.6ms\n",
      "985:\tlearn: 0.2959289\ttotal: 2.47s\tremaining: 35.1ms\n",
      "986:\tlearn: 0.2958597\ttotal: 2.47s\tremaining: 32.6ms\n",
      "987:\tlearn: 0.2957595\ttotal: 2.47s\tremaining: 30.1ms\n",
      "988:\tlearn: 0.2956464\ttotal: 2.48s\tremaining: 27.6ms\n",
      "989:\tlearn: 0.2955969\ttotal: 2.48s\tremaining: 25ms\n"
     ]
    },
    {
     "name": "stdout",
     "output_type": "stream",
     "text": [
      "990:\tlearn: 0.2954811\ttotal: 2.48s\tremaining: 22.5ms\n",
      "991:\tlearn: 0.2954209\ttotal: 2.48s\tremaining: 20ms\n",
      "992:\tlearn: 0.2953508\ttotal: 2.49s\tremaining: 17.5ms\n",
      "993:\tlearn: 0.2952776\ttotal: 2.49s\tremaining: 15ms\n",
      "994:\tlearn: 0.2951974\ttotal: 2.49s\tremaining: 12.5ms\n",
      "995:\tlearn: 0.2951593\ttotal: 2.49s\tremaining: 10ms\n",
      "996:\tlearn: 0.2950719\ttotal: 2.5s\tremaining: 7.51ms\n",
      "997:\tlearn: 0.2949889\ttotal: 2.5s\tremaining: 5.01ms\n",
      "998:\tlearn: 0.2949175\ttotal: 2.5s\tremaining: 2.5ms\n",
      "999:\tlearn: 0.2948721\ttotal: 2.5s\tremaining: 0us\n",
      "Mean Squared error 0.1456129148704217\n"
     ]
    },
    {
     "data": {
      "application/scrapbook.scrap.json+json": {
       "data": 0.1456129148704217,
       "encoder": "json",
       "name": "Catboost MSE",
       "version": 1
      }
     },
     "metadata": {
      "scrapbook": {
       "data": true,
       "display": false,
       "name": "Catboost MSE"
      }
     },
     "output_type": "display_data"
    }
   ],
   "source": [
    "mse_cb = baselineModels.catboost(X_train,y_train,X_test,y_test)\n",
    "#Store MSE Value \n",
    "sb.glue(\"Catboost MSE\",mse_cb)"
   ]
  },
  {
   "cell_type": "markdown",
   "id": "3d5fc3e7",
   "metadata": {
    "papermill": {
     "duration": 0.010249,
     "end_time": "2021-12-24T13:14:29.551826",
     "exception": false,
     "start_time": "2021-12-24T13:14:29.541577",
     "status": "completed"
    },
    "tags": []
   },
   "source": [
    "## Vanilla Neural Network "
   ]
  },
  {
   "cell_type": "code",
   "execution_count": 8,
   "id": "fe462a20",
   "metadata": {
    "execution": {
     "iopub.execute_input": "2021-12-24T13:14:29.575240Z",
     "iopub.status.busy": "2021-12-24T13:14:29.574834Z",
     "iopub.status.idle": "2021-12-24T13:33:10.088876Z",
     "shell.execute_reply": "2021-12-24T13:33:10.088507Z"
    },
    "papermill": {
     "duration": 1120.527136,
     "end_time": "2021-12-24T13:33:10.089029",
     "exception": false,
     "start_time": "2021-12-24T13:14:29.561893",
     "status": "completed"
    },
    "tags": []
   },
   "outputs": [
    {
     "data": {
      "application/scrapbook.scrap.json+json": {
       "data": 1.0465059823455212,
       "encoder": "json",
       "name": "Vanilla NN MSE",
       "version": 1
      }
     },
     "metadata": {
      "scrapbook": {
       "data": true,
       "display": false,
       "name": "Vanilla NN MSE"
      }
     },
     "output_type": "display_data"
    },
    {
     "name": "stdout",
     "output_type": "stream",
     "text": [
      "Mean Squared error 1.0465059823455212\n"
     ]
    }
   ],
   "source": [
    "# Parameters \n",
    "n_epochs = 1000\n",
    "batch_size = 1000\n",
    "device = torch.device('cuda' if torch.cuda.is_available() else 'cpu')\n",
    "baselineModels.vanillaNeuralNetwork(train_data,test_data,batch_size,n_features,n_target,n_epochs)"
   ]
  }
 ],
 "metadata": {
  "interpreter": {
   "hash": "10498c76ddd8160350534c6544a2b2fb65f2138dbc70420f7c81a3268f830f23"
  },
  "kernelspec": {
   "display_name": "Python 3 (ipykernel)",
   "language": "python",
   "name": "python3"
  },
  "language_info": {
   "codemirror_mode": {
    "name": "ipython",
    "version": 3
   },
   "file_extension": ".py",
   "mimetype": "text/x-python",
   "name": "python",
   "nbconvert_exporter": "python",
   "pygments_lexer": "ipython3",
   "version": "3.8.11"
  },
  "papermill": {
   "default_parameters": {},
   "duration": 1129.787915,
   "end_time": "2021-12-24T13:33:10.409863",
   "environment_variables": {},
   "exception": null,
   "input_path": "BaselineModels.ipynb",
   "output_path": "./BaseLine_Model_Output/baselineModels_output_6.ipynb",
   "parameters": {},
   "start_time": "2021-12-24T13:14:20.621948",
   "version": "2.3.3"
  }
 },
 "nbformat": 4,
 "nbformat_minor": 5
}