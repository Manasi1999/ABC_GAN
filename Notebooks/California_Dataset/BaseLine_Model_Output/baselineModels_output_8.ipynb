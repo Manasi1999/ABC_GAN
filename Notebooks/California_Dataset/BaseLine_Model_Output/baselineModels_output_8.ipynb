{
 "cells": [
  {
   "cell_type": "markdown",
   "id": "32990ad9",
   "metadata": {
    "papermill": {
     "duration": 0.021392,
     "end_time": "2021-12-24T13:38:20.504697",
     "exception": false,
     "start_time": "2021-12-24T13:38:20.483305",
     "status": "completed"
    },
    "tags": []
   },
   "source": [
    "## Import Libraries "
   ]
  },
  {
   "cell_type": "code",
   "execution_count": 1,
   "id": "a6c52afb",
   "metadata": {
    "execution": {
     "iopub.execute_input": "2021-12-24T13:38:20.538506Z",
     "iopub.status.busy": "2021-12-24T13:38:20.537740Z",
     "iopub.status.idle": "2021-12-24T13:38:20.540436Z",
     "shell.execute_reply": "2021-12-24T13:38:20.540901Z"
    },
    "papermill": {
     "duration": 0.023069,
     "end_time": "2021-12-24T13:38:20.541208",
     "exception": false,
     "start_time": "2021-12-24T13:38:20.518139",
     "status": "completed"
    },
    "tags": []
   },
   "outputs": [],
   "source": [
    "import warnings\n",
    "import sys\n",
    "sys.path.insert(0, '../../src')\n",
    "warnings.filterwarnings('ignore')"
   ]
  },
  {
   "cell_type": "code",
   "execution_count": 2,
   "id": "05b612b0",
   "metadata": {
    "execution": {
     "iopub.execute_input": "2021-12-24T13:38:20.557449Z",
     "iopub.status.busy": "2021-12-24T13:38:20.556908Z",
     "iopub.status.idle": "2021-12-24T13:38:22.453159Z",
     "shell.execute_reply": "2021-12-24T13:38:22.453417Z"
    },
    "papermill": {
     "duration": 1.905307,
     "end_time": "2021-12-24T13:38:22.453542",
     "exception": false,
     "start_time": "2021-12-24T13:38:20.548235",
     "status": "completed"
    },
    "tags": []
   },
   "outputs": [],
   "source": [
    "import baselineModels\n",
    "import scrapbook as sb \n",
    "import torch \n",
    "import statsModel\n",
    "import californiaDataset\n",
    "import dataset \n",
    "from torch.utils.data import random_split \n",
    "from sklearn.model_selection import train_test_split"
   ]
  },
  {
   "cell_type": "markdown",
   "id": "61d79245",
   "metadata": {
    "papermill": {
     "duration": 0.0037,
     "end_time": "2021-12-24T13:38:22.461028",
     "exception": false,
     "start_time": "2021-12-24T13:38:22.457328",
     "status": "completed"
    },
    "tags": []
   },
   "source": [
    "## Import Dataset \n"
   ]
  },
  {
   "cell_type": "code",
   "execution_count": 3,
   "id": "25385a3c",
   "metadata": {
    "execution": {
     "iopub.execute_input": "2021-12-24T13:38:22.470863Z",
     "iopub.status.busy": "2021-12-24T13:38:22.470433Z",
     "iopub.status.idle": "2021-12-24T13:38:22.485746Z",
     "shell.execute_reply": "2021-12-24T13:38:22.485987Z"
    },
    "papermill": {
     "duration": 0.021383,
     "end_time": "2021-12-24T13:38:22.486110",
     "exception": false,
     "start_time": "2021-12-24T13:38:22.464727",
     "status": "completed"
    },
    "tags": []
   },
   "outputs": [
    {
     "name": "stdout",
     "output_type": "stream",
     "text": [
      "       X1    X2        X3        X4      X5        X6     X7      X8      Y\n",
      "0  8.3252  41.0  6.984127  1.023810   322.0  2.555556  37.88 -122.23  4.526\n",
      "1  8.3014  21.0  6.238137  0.971880  2401.0  2.109842  37.86 -122.22  3.585\n",
      "2  7.2574  52.0  8.288136  1.073446   496.0  2.802260  37.85 -122.24  3.521\n",
      "3  5.6431  52.0  5.817352  1.073059   558.0  2.547945  37.85 -122.25  3.413\n",
      "4  3.8462  52.0  6.281853  1.081081   565.0  2.181467  37.85 -122.25  3.422\n"
     ]
    }
   ],
   "source": [
    "X,Y = californiaDataset.california_data()\n",
    "n_features = 8 \n",
    "n_samples = 20640\n",
    "n_target = 1 "
   ]
  },
  {
   "cell_type": "code",
   "execution_count": 4,
   "id": "38151369",
   "metadata": {
    "execution": {
     "iopub.execute_input": "2021-12-24T13:38:22.496610Z",
     "iopub.status.busy": "2021-12-24T13:38:22.496225Z",
     "iopub.status.idle": "2021-12-24T13:38:22.499811Z",
     "shell.execute_reply": "2021-12-24T13:38:22.500062Z"
    },
    "papermill": {
     "duration": 0.01011,
     "end_time": "2021-12-24T13:38:22.500182",
     "exception": false,
     "start_time": "2021-12-24T13:38:22.490072",
     "status": "completed"
    },
    "tags": []
   },
   "outputs": [],
   "source": [
    "# Train test split for dataset \n",
    "real_dataset = dataset.CustomDataset(X,Y)\n",
    "train_size = round(0.8 * n_samples)\n",
    "test_size = n_samples - train_size\n",
    "train_data, test_data = random_split(real_dataset,[train_size,test_size])\n",
    "X_train, X_test, y_train, y_test = train_test_split(X, Y, test_size=0.2)"
   ]
  },
  {
   "cell_type": "markdown",
   "id": "c6a5777c",
   "metadata": {
    "papermill": {
     "duration": 0.003696,
     "end_time": "2021-12-24T13:38:22.507767",
     "exception": false,
     "start_time": "2021-12-24T13:38:22.504071",
     "status": "completed"
    },
    "tags": []
   },
   "source": [
    "## Stats Model "
   ]
  },
  {
   "cell_type": "code",
   "execution_count": 5,
   "id": "ce09634c",
   "metadata": {
    "execution": {
     "iopub.execute_input": "2021-12-24T13:38:22.517546Z",
     "iopub.status.busy": "2021-12-24T13:38:22.517067Z",
     "iopub.status.idle": "2021-12-24T13:38:22.627073Z",
     "shell.execute_reply": "2021-12-24T13:38:22.627359Z"
    },
    "papermill": {
     "duration": 0.116072,
     "end_time": "2021-12-24T13:38:22.627500",
     "exception": false,
     "start_time": "2021-12-24T13:38:22.511428",
     "status": "completed"
    },
    "tags": []
   },
   "outputs": [
    {
     "name": "stderr",
     "output_type": "stream",
     "text": [
      "No handles with labels found to put in legend.\n"
     ]
    },
    {
     "name": "stdout",
     "output_type": "stream",
     "text": [
      "                                 OLS Regression Results                                \n",
      "=======================================================================================\n",
      "Dep. Variable:                      Y   R-squared (uncentered):                   0.611\n",
      "Model:                            OLS   Adj. R-squared (uncentered):              0.611\n",
      "Method:                 Least Squares   F-statistic:                              3241.\n",
      "Date:                Fri, 24 Dec 2021   Prob (F-statistic):                        0.00\n",
      "Time:                        19:08:22   Log-Likelihood:                         -15686.\n",
      "No. Observations:               16512   AIC:                                  3.139e+04\n",
      "Df Residuals:                   16504   BIC:                                  3.145e+04\n",
      "Df Model:                           8                                                  \n",
      "Covariance Type:            nonrobust                                                  \n",
      "==============================================================================\n",
      "                 coef    std err          t      P>|t|      [0.025      0.975]\n",
      "------------------------------------------------------------------------------\n",
      "x1             0.7261      0.008     93.031      0.000       0.711       0.741\n",
      "x2             0.0976      0.005     17.961      0.000       0.087       0.108\n",
      "x3            -0.2430      0.015    -16.632      0.000      -0.272      -0.214\n",
      "x4             0.2572      0.013     20.303      0.000       0.232       0.282\n",
      "x5            -0.0076      0.005     -1.487      0.137      -0.018       0.002\n",
      "x6            -0.0310      0.004     -7.062      0.000      -0.040      -0.022\n",
      "x7            -0.7736      0.015    -51.476      0.000      -0.803      -0.744\n",
      "x8            -0.7501      0.015    -50.933      0.000      -0.779      -0.721\n",
      "==============================================================================\n",
      "Omnibus:                     3504.916   Durbin-Watson:                   2.001\n",
      "Prob(Omnibus):                  0.000   Jarque-Bera (JB):             9791.348\n",
      "Skew:                           1.126   Prob(JB):                         0.00\n",
      "Kurtosis:                       6.027   Cond. No.                         6.72\n",
      "==============================================================================\n",
      "\n",
      "Notes:\n",
      "[1] R² is computed without centering (uncentered) since the model does not contain a constant.\n",
      "[2] Standard Errors assume that the covariance matrix of the errors is correctly specified.\n",
      "Parameters:  x1    0.726061\n",
      "x2    0.097596\n",
      "x3   -0.242960\n",
      "x4    0.257232\n",
      "x5   -0.007625\n",
      "x6   -0.030957\n",
      "x7   -0.773639\n",
      "x8   -0.750134\n",
      "dtype: float64\n"
     ]
    },
    {
     "data": {
      "image/png": "[encoded data removed]",
      "text/plain": [
       "<Figure size 432x288 with 1 Axes>"
      ]
     },
     "metadata": {
      "needs_background": "light"
     },
     "output_type": "display_data"
    },
    {
     "name": "stdout",
     "output_type": "stream",
     "text": [
      "Performance Metrics\n",
      "Mean Squared Error: 0.40502904972644366\n",
      "Mean Absolute Error: 0.4645950376979951\n",
      "Manhattan distance: 1917.8483156173256\n",
      "Euclidean distance: 40.889606469991406\n"
     ]
    },
    {
     "data": {
      "application/scrapbook.scrap.json+json": {
       "data": 0.40502904972644366,
       "encoder": "json",
       "name": "Stats Model MSE",
       "version": 1
      }
     },
     "metadata": {
      "scrapbook": {
       "data": true,
       "display": false,
       "name": "Stats Model MSE"
      }
     },
     "output_type": "display_data"
    },
    {
     "data": {
      "application/scrapbook.scrap.json+json": {
       "data": 0.4645950376979951,
       "encoder": "json",
       "name": "Stats Model MAE",
       "version": 1
      }
     },
     "metadata": {
      "scrapbook": {
       "data": true,
       "display": false,
       "name": "Stats Model MAE"
      }
     },
     "output_type": "display_data"
    },
    {
     "data": {
      "application/scrapbook.scrap.json+json": {
       "data": 1917.8483156173256,
       "encoder": "json",
       "name": "Stats Model Manhattan Distance",
       "version": 1
      }
     },
     "metadata": {
      "scrapbook": {
       "data": true,
       "display": false,
       "name": "Stats Model Manhattan Distance"
      }
     },
     "output_type": "display_data"
    },
    {
     "data": {
      "application/scrapbook.scrap.json+json": {
       "data": 40.889606469991406,
       "encoder": "json",
       "name": "Stats Model Euclidean distance",
       "version": 1
      }
     },
     "metadata": {
      "scrapbook": {
       "data": true,
       "display": false,
       "name": "Stats Model Euclidean distance"
      }
     },
     "output_type": "display_data"
    },
    {
     "data": {
      "application/scrapbook.scrap.json+json": {
       "data": [
        0.726060648631766,
        0.0975955765074594,
        -0.24296049200528405,
        0.2572321652778633,
        -0.0076253520114437845,
        -0.030957106789271452,
        -0.7736385047397087,
        -0.7501340040920879
       ],
       "encoder": "json",
       "name": "Coefficients",
       "version": 1
      }
     },
     "metadata": {
      "scrapbook": {
       "data": true,
       "display": false,
       "name": "Coefficients"
      }
     },
     "output_type": "display_data"
    }
   ],
   "source": [
    "[coeff,y_pred] = statsModel.statsModel(X,Y)\n",
    "\n",
    "#Store Coefficients \n",
    "sb.glue(\"Coefficients\",coeff)"
   ]
  },
  {
   "cell_type": "markdown",
   "id": "d4bd13cb",
   "metadata": {
    "papermill": {
     "duration": 0.005808,
     "end_time": "2021-12-24T13:38:22.639515",
     "exception": false,
     "start_time": "2021-12-24T13:38:22.633707",
     "status": "completed"
    },
    "tags": []
   },
   "source": [
    "## Random Forest "
   ]
  },
  {
   "cell_type": "code",
   "execution_count": 6,
   "id": "03542c57",
   "metadata": {
    "execution": {
     "iopub.execute_input": "2021-12-24T13:38:22.653636Z",
     "iopub.status.busy": "2021-12-24T13:38:22.653206Z",
     "iopub.status.idle": "2021-12-24T13:38:24.795564Z",
     "shell.execute_reply": "2021-12-24T13:38:24.795875Z"
    },
    "papermill": {
     "duration": 2.150719,
     "end_time": "2021-12-24T13:38:24.796005",
     "exception": false,
     "start_time": "2021-12-24T13:38:22.645286",
     "status": "completed"
    },
    "tags": []
   },
   "outputs": [
    {
     "name": "stdout",
     "output_type": "stream",
     "text": [
      "Mean Squared error 0.3888709380774414\n"
     ]
    },
    {
     "data": {
      "application/scrapbook.scrap.json+json": {
       "data": 0.3888709380774414,
       "encoder": "json",
       "name": "Random Forest MSE",
       "version": 1
      }
     },
     "metadata": {
      "scrapbook": {
       "data": true,
       "display": false,
       "name": "Random Forest MSE"
      }
     },
     "output_type": "display_data"
    }
   ],
   "source": [
    "mse_rf = baselineModels.randomForest(X_train,y_train,X_test,y_test)\n",
    "#Store MSE Value\n",
    "sb.glue(\"Random Forest MSE\",mse_rf)"
   ]
  },
  {
   "cell_type": "markdown",
   "id": "1e638036",
   "metadata": {
    "papermill": {
     "duration": 0.006149,
     "end_time": "2021-12-24T13:38:24.808764",
     "exception": false,
     "start_time": "2021-12-24T13:38:24.802615",
     "status": "completed"
    },
    "tags": []
   },
   "source": [
    "## Catboost \n",
    "\n"
   ]
  },
  {
   "cell_type": "code",
   "execution_count": 7,
   "id": "29eaaea0",
   "metadata": {
    "execution": {
     "iopub.execute_input": "2021-12-24T13:38:24.858656Z",
     "iopub.status.busy": "2021-12-24T13:38:24.858267Z",
     "iopub.status.idle": "2021-12-24T13:38:27.528909Z",
     "shell.execute_reply": "2021-12-24T13:38:27.529216Z"
    },
    "papermill": {
     "duration": 2.714478,
     "end_time": "2021-12-24T13:38:27.529358",
     "exception": false,
     "start_time": "2021-12-24T13:38:24.814880",
     "status": "completed"
    },
    "tags": []
   },
   "outputs": [
    {
     "name": "stdout",
     "output_type": "stream",
     "text": [
      "Learning rate set to 0.064294\n",
      "0:\tlearn: 0.9640396\ttotal: 59.2ms\tremaining: 59.1s\n",
      "1:\tlearn: 0.9322366\ttotal: 62ms\tremaining: 30.9s\n",
      "2:\tlearn: 0.9034960\ttotal: 64.9ms\tremaining: 21.6s\n",
      "3:\tlearn: 0.8755121\ttotal: 67.8ms\tremaining: 16.9s\n",
      "4:\tlearn: 0.8493400\ttotal: 70.8ms\tremaining: 14.1s\n",
      "5:\tlearn: 0.8255062\ttotal: 73.7ms\tremaining: 12.2s\n",
      "6:\tlearn: 0.8023064\ttotal: 77.3ms\tremaining: 11s\n",
      "7:\tlearn: 0.7814782\ttotal: 79.7ms\tremaining: 9.89s\n",
      "8:\tlearn: 0.7626513\ttotal: 82.6ms\tremaining: 9.09s\n",
      "9:\tlearn: 0.7435831\ttotal: 84.8ms\tremaining: 8.4s\n",
      "10:\tlearn: 0.7272846\ttotal: 87.3ms\tremaining: 7.85s\n",
      "11:\tlearn: 0.7123965\ttotal: 89.6ms\tremaining: 7.38s\n",
      "12:\tlearn: 0.6987721\ttotal: 91.9ms\tremaining: 6.97s\n",
      "13:\tlearn: 0.6849198\ttotal: 94ms\tremaining: 6.62s\n",
      "14:\tlearn: 0.6735229\ttotal: 96.5ms\tremaining: 6.34s\n",
      "15:\tlearn: 0.6615503\ttotal: 98.8ms\tremaining: 6.08s\n",
      "16:\tlearn: 0.6525005\ttotal: 102ms\tremaining: 5.9s\n",
      "17:\tlearn: 0.6425071\ttotal: 104ms\tremaining: 5.7s\n",
      "18:\tlearn: 0.6325052\ttotal: 107ms\tremaining: 5.53s\n",
      "19:\tlearn: 0.6231374\ttotal: 110ms\tremaining: 5.39s\n",
      "20:\tlearn: 0.6159176\ttotal: 113ms\tremaining: 5.27s\n",
      "21:\tlearn: 0.6083569\ttotal: 116ms\tremaining: 5.14s\n",
      "22:\tlearn: 0.6023000\ttotal: 118ms\tremaining: 5.02s\n",
      "23:\tlearn: 0.5957021\ttotal: 120ms\tremaining: 4.9s\n",
      "24:\tlearn: 0.5902755\ttotal: 123ms\tremaining: 4.79s\n",
      "25:\tlearn: 0.5845743\ttotal: 125ms\tremaining: 4.68s\n"
     ]
    },
    {
     "name": "stdout",
     "output_type": "stream",
     "text": [
      "26:\tlearn: 0.5794124\ttotal: 128ms\tremaining: 4.6s\n",
      "27:\tlearn: 0.5741317\ttotal: 131ms\tremaining: 4.53s\n",
      "28:\tlearn: 0.5678467\ttotal: 133ms\tremaining: 4.46s\n",
      "29:\tlearn: 0.5616982\ttotal: 136ms\tremaining: 4.39s\n",
      "30:\tlearn: 0.5574637\ttotal: 138ms\tremaining: 4.32s\n",
      "31:\tlearn: 0.5539988\ttotal: 141ms\tremaining: 4.26s\n",
      "32:\tlearn: 0.5498610\ttotal: 143ms\tremaining: 4.19s\n",
      "33:\tlearn: 0.5467505\ttotal: 145ms\tremaining: 4.13s\n",
      "34:\tlearn: 0.5414852\ttotal: 148ms\tremaining: 4.07s\n",
      "35:\tlearn: 0.5385497\ttotal: 150ms\tremaining: 4.02s\n",
      "36:\tlearn: 0.5353049\ttotal: 152ms\tremaining: 3.96s\n",
      "37:\tlearn: 0.5312599\ttotal: 154ms\tremaining: 3.91s\n",
      "38:\tlearn: 0.5280658\ttotal: 157ms\tremaining: 3.86s\n",
      "39:\tlearn: 0.5258806\ttotal: 160ms\tremaining: 3.83s\n",
      "40:\tlearn: 0.5227491\ttotal: 163ms\tremaining: 3.82s\n",
      "41:\tlearn: 0.5208685\ttotal: 166ms\tremaining: 3.78s\n",
      "42:\tlearn: 0.5178998\ttotal: 168ms\tremaining: 3.74s\n",
      "43:\tlearn: 0.5151082\ttotal: 170ms\tremaining: 3.7s\n",
      "44:\tlearn: 0.5120057\ttotal: 173ms\tremaining: 3.67s\n",
      "45:\tlearn: 0.5099092\ttotal: 175ms\tremaining: 3.64s\n",
      "46:\tlearn: 0.5068638\ttotal: 178ms\tremaining: 3.6s\n",
      "47:\tlearn: 0.5042552\ttotal: 180ms\tremaining: 3.57s\n",
      "48:\tlearn: 0.5031261\ttotal: 183ms\tremaining: 3.55s\n",
      "49:\tlearn: 0.5016203\ttotal: 185ms\tremaining: 3.52s\n",
      "50:\tlearn: 0.4998838\ttotal: 188ms\tremaining: 3.49s\n",
      "51:\tlearn: 0.4972598\ttotal: 190ms\tremaining: 3.47s\n",
      "52:\tlearn: 0.4958291\ttotal: 193ms\tremaining: 3.44s\n"
     ]
    },
    {
     "name": "stdout",
     "output_type": "stream",
     "text": [
      "53:\tlearn: 0.4941746\ttotal: 196ms\tremaining: 3.43s\n",
      "54:\tlearn: 0.4921899\ttotal: 198ms\tremaining: 3.41s\n",
      "55:\tlearn: 0.4900306\ttotal: 201ms\tremaining: 3.39s\n",
      "56:\tlearn: 0.4882262\ttotal: 204ms\tremaining: 3.37s\n",
      "57:\tlearn: 0.4873246\ttotal: 206ms\tremaining: 3.34s\n",
      "58:\tlearn: 0.4863983\ttotal: 208ms\tremaining: 3.32s\n",
      "59:\tlearn: 0.4849783\ttotal: 212ms\tremaining: 3.32s\n",
      "60:\tlearn: 0.4834781\ttotal: 214ms\tremaining: 3.3s\n",
      "61:\tlearn: 0.4822127\ttotal: 216ms\tremaining: 3.27s\n",
      "62:\tlearn: 0.4812824\ttotal: 219ms\tremaining: 3.25s\n",
      "63:\tlearn: 0.4801367\ttotal: 221ms\tremaining: 3.23s\n",
      "64:\tlearn: 0.4788848\ttotal: 224ms\tremaining: 3.22s\n",
      "65:\tlearn: 0.4781166\ttotal: 226ms\tremaining: 3.2s\n",
      "66:\tlearn: 0.4769536\ttotal: 229ms\tremaining: 3.19s\n",
      "67:\tlearn: 0.4754854\ttotal: 231ms\tremaining: 3.17s\n",
      "68:\tlearn: 0.4736565\ttotal: 234ms\tremaining: 3.16s\n",
      "69:\tlearn: 0.4728396\ttotal: 236ms\tremaining: 3.14s\n",
      "70:\tlearn: 0.4723272\ttotal: 239ms\tremaining: 3.12s\n",
      "71:\tlearn: 0.4706601\ttotal: 242ms\tremaining: 3.12s\n",
      "72:\tlearn: 0.4697823\ttotal: 245ms\tremaining: 3.12s\n",
      "73:\tlearn: 0.4691443\ttotal: 248ms\tremaining: 3.1s\n",
      "74:\tlearn: 0.4683745\ttotal: 250ms\tremaining: 3.09s\n",
      "75:\tlearn: 0.4677508\ttotal: 253ms\tremaining: 3.07s\n",
      "76:\tlearn: 0.4667740\ttotal: 255ms\tremaining: 3.05s\n",
      "77:\tlearn: 0.4658488\ttotal: 257ms\tremaining: 3.04s\n",
      "78:\tlearn: 0.4645720\ttotal: 260ms\tremaining: 3.03s\n",
      "79:\tlearn: 0.4638259\ttotal: 262ms\tremaining: 3.01s\n",
      "80:\tlearn: 0.4628615\ttotal: 264ms\tremaining: 3s\n",
      "81:\tlearn: 0.4620072\ttotal: 267ms\tremaining: 2.99s\n",
      "82:\tlearn: 0.4613973\ttotal: 270ms\tremaining: 2.98s\n",
      "83:\tlearn: 0.4603593\ttotal: 272ms\tremaining: 2.96s\n",
      "84:\tlearn: 0.4589976\ttotal: 275ms\tremaining: 2.96s\n",
      "85:\tlearn: 0.4582604\ttotal: 277ms\tremaining: 2.94s\n",
      "86:\tlearn: 0.4576088\ttotal: 279ms\tremaining: 2.93s\n",
      "87:\tlearn: 0.4572819\ttotal: 282ms\tremaining: 2.92s\n",
      "88:\tlearn: 0.4565085\ttotal: 284ms\tremaining: 2.91s\n",
      "89:\tlearn: 0.4561889\ttotal: 287ms\tremaining: 2.9s\n",
      "90:\tlearn: 0.4557751\ttotal: 290ms\tremaining: 2.9s\n",
      "91:\tlearn: 0.4552935\ttotal: 293ms\tremaining: 2.89s\n",
      "92:\tlearn: 0.4546850\ttotal: 295ms\tremaining: 2.88s\n",
      "93:\tlearn: 0.4538166\ttotal: 297ms\tremaining: 2.87s\n",
      "94:\tlearn: 0.4530807\ttotal: 300ms\tremaining: 2.86s\n",
      "95:\tlearn: 0.4520142\ttotal: 302ms\tremaining: 2.84s\n",
      "96:\tlearn: 0.4512658\ttotal: 304ms\tremaining: 2.83s\n",
      "97:\tlearn: 0.4505528\ttotal: 307ms\tremaining: 2.82s\n",
      "98:\tlearn: 0.4499906\ttotal: 309ms\tremaining: 2.81s\n",
      "99:\tlearn: 0.4493242\ttotal: 312ms\tremaining: 2.8s\n",
      "100:\tlearn: 0.4485009\ttotal: 314ms\tremaining: 2.8s\n",
      "101:\tlearn: 0.4478614\ttotal: 317ms\tremaining: 2.79s\n",
      "102:\tlearn: 0.4475922\ttotal: 319ms\tremaining: 2.78s\n"
     ]
    },
    {
     "name": "stdout",
     "output_type": "stream",
     "text": [
      "103:\tlearn: 0.4470343\ttotal: 323ms\tremaining: 2.78s\n",
      "104:\tlearn: 0.4465478\ttotal: 325ms\tremaining: 2.77s\n",
      "105:\tlearn: 0.4462409\ttotal: 328ms\tremaining: 2.77s\n",
      "106:\tlearn: 0.4459068\ttotal: 330ms\tremaining: 2.76s\n",
      "107:\tlearn: 0.4454609\ttotal: 333ms\tremaining: 2.75s\n",
      "108:\tlearn: 0.4449609\ttotal: 335ms\tremaining: 2.74s\n",
      "109:\tlearn: 0.4444305\ttotal: 338ms\tremaining: 2.73s\n",
      "110:\tlearn: 0.4439539\ttotal: 340ms\tremaining: 2.72s\n",
      "111:\tlearn: 0.4431269\ttotal: 342ms\tremaining: 2.71s\n",
      "112:\tlearn: 0.4424613\ttotal: 345ms\tremaining: 2.71s\n",
      "113:\tlearn: 0.4416862\ttotal: 347ms\tremaining: 2.7s\n",
      "114:\tlearn: 0.4413666\ttotal: 350ms\tremaining: 2.69s\n",
      "115:\tlearn: 0.4410821\ttotal: 352ms\tremaining: 2.68s\n",
      "116:\tlearn: 0.4406009\ttotal: 355ms\tremaining: 2.68s\n",
      "117:\tlearn: 0.4399448\ttotal: 358ms\tremaining: 2.67s\n",
      "118:\tlearn: 0.4393149\ttotal: 360ms\tremaining: 2.67s\n",
      "119:\tlearn: 0.4388196\ttotal: 363ms\tremaining: 2.66s\n",
      "120:\tlearn: 0.4383394\ttotal: 366ms\tremaining: 2.66s\n",
      "121:\tlearn: 0.4379903\ttotal: 368ms\tremaining: 2.65s\n",
      "122:\tlearn: 0.4374556\ttotal: 372ms\tremaining: 2.65s\n",
      "123:\tlearn: 0.4367514\ttotal: 374ms\tremaining: 2.64s\n",
      "124:\tlearn: 0.4361251\ttotal: 377ms\tremaining: 2.64s\n",
      "125:\tlearn: 0.4357921\ttotal: 379ms\tremaining: 2.63s\n",
      "126:\tlearn: 0.4350478\ttotal: 382ms\tremaining: 2.62s\n",
      "127:\tlearn: 0.4348124\ttotal: 384ms\tremaining: 2.62s\n",
      "128:\tlearn: 0.4344941\ttotal: 387ms\tremaining: 2.61s\n",
      "129:\tlearn: 0.4341343\ttotal: 389ms\tremaining: 2.6s\n"
     ]
    },
    {
     "name": "stdout",
     "output_type": "stream",
     "text": [
      "130:\tlearn: 0.4335918\ttotal: 392ms\tremaining: 2.6s\n",
      "131:\tlearn: 0.4331738\ttotal: 394ms\tremaining: 2.59s\n",
      "132:\tlearn: 0.4325206\ttotal: 397ms\tremaining: 2.58s\n",
      "133:\tlearn: 0.4320777\ttotal: 399ms\tremaining: 2.58s\n",
      "134:\tlearn: 0.4315616\ttotal: 401ms\tremaining: 2.57s\n",
      "135:\tlearn: 0.4311343\ttotal: 404ms\tremaining: 2.56s\n",
      "136:\tlearn: 0.4308656\ttotal: 406ms\tremaining: 2.56s\n",
      "137:\tlearn: 0.4302511\ttotal: 408ms\tremaining: 2.55s\n",
      "138:\tlearn: 0.4295245\ttotal: 411ms\tremaining: 2.55s\n",
      "139:\tlearn: 0.4292312\ttotal: 414ms\tremaining: 2.54s\n",
      "140:\tlearn: 0.4286657\ttotal: 416ms\tremaining: 2.54s\n",
      "141:\tlearn: 0.4282823\ttotal: 419ms\tremaining: 2.53s\n",
      "142:\tlearn: 0.4276930\ttotal: 421ms\tremaining: 2.52s\n",
      "143:\tlearn: 0.4272893\ttotal: 424ms\tremaining: 2.52s\n",
      "144:\tlearn: 0.4269818\ttotal: 426ms\tremaining: 2.51s\n",
      "145:\tlearn: 0.4267969\ttotal: 429ms\tremaining: 2.51s\n",
      "146:\tlearn: 0.4264666\ttotal: 431ms\tremaining: 2.5s\n",
      "147:\tlearn: 0.4261414\ttotal: 434ms\tremaining: 2.5s\n",
      "148:\tlearn: 0.4257237\ttotal: 436ms\tremaining: 2.49s\n",
      "149:\tlearn: 0.4251655\ttotal: 438ms\tremaining: 2.48s\n",
      "150:\tlearn: 0.4245680\ttotal: 441ms\tremaining: 2.48s\n",
      "151:\tlearn: 0.4242336\ttotal: 444ms\tremaining: 2.48s\n",
      "152:\tlearn: 0.4237767\ttotal: 446ms\tremaining: 2.47s\n",
      "153:\tlearn: 0.4235076\ttotal: 449ms\tremaining: 2.46s\n",
      "154:\tlearn: 0.4230365\ttotal: 451ms\tremaining: 2.46s\n",
      "155:\tlearn: 0.4223203\ttotal: 455ms\tremaining: 2.46s\n",
      "156:\tlearn: 0.4218653\ttotal: 457ms\tremaining: 2.45s\n",
      "157:\tlearn: 0.4214635\ttotal: 459ms\tremaining: 2.45s\n",
      "158:\tlearn: 0.4206069\ttotal: 462ms\tremaining: 2.44s\n",
      "159:\tlearn: 0.4202567\ttotal: 464ms\tremaining: 2.44s\n",
      "160:\tlearn: 0.4197425\ttotal: 467ms\tremaining: 2.43s\n",
      "161:\tlearn: 0.4193456\ttotal: 470ms\tremaining: 2.43s\n",
      "162:\tlearn: 0.4186965\ttotal: 472ms\tremaining: 2.42s\n",
      "163:\tlearn: 0.4184136\ttotal: 475ms\tremaining: 2.42s\n",
      "164:\tlearn: 0.4180393\ttotal: 477ms\tremaining: 2.42s\n",
      "165:\tlearn: 0.4176316\ttotal: 480ms\tremaining: 2.41s\n",
      "166:\tlearn: 0.4170315\ttotal: 482ms\tremaining: 2.4s\n",
      "167:\tlearn: 0.4166391\ttotal: 485ms\tremaining: 2.4s\n",
      "168:\tlearn: 0.4160669\ttotal: 487ms\tremaining: 2.4s\n",
      "169:\tlearn: 0.4156066\ttotal: 490ms\tremaining: 2.39s\n",
      "170:\tlearn: 0.4153130\ttotal: 492ms\tremaining: 2.39s\n",
      "171:\tlearn: 0.4149715\ttotal: 495ms\tremaining: 2.38s\n",
      "172:\tlearn: 0.4146865\ttotal: 497ms\tremaining: 2.38s\n",
      "173:\tlearn: 0.4143035\ttotal: 500ms\tremaining: 2.37s\n",
      "174:\tlearn: 0.4138783\ttotal: 502ms\tremaining: 2.37s\n",
      "175:\tlearn: 0.4135598\ttotal: 504ms\tremaining: 2.36s\n",
      "176:\tlearn: 0.4128851\ttotal: 507ms\tremaining: 2.35s\n",
      "177:\tlearn: 0.4122954\ttotal: 509ms\tremaining: 2.35s\n",
      "178:\tlearn: 0.4119369\ttotal: 512ms\tremaining: 2.35s\n",
      "179:\tlearn: 0.4113378\ttotal: 514ms\tremaining: 2.34s\n",
      "180:\tlearn: 0.4109950\ttotal: 517ms\tremaining: 2.34s\n"
     ]
    },
    {
     "name": "stdout",
     "output_type": "stream",
     "text": [
      "181:\tlearn: 0.4105676\ttotal: 520ms\tremaining: 2.33s\n",
      "182:\tlearn: 0.4099985\ttotal: 522ms\tremaining: 2.33s\n",
      "183:\tlearn: 0.4096426\ttotal: 524ms\tremaining: 2.32s\n",
      "184:\tlearn: 0.4092762\ttotal: 526ms\tremaining: 2.32s\n",
      "185:\tlearn: 0.4088689\ttotal: 529ms\tremaining: 2.31s\n",
      "186:\tlearn: 0.4085560\ttotal: 531ms\tremaining: 2.31s\n",
      "187:\tlearn: 0.4081054\ttotal: 533ms\tremaining: 2.3s\n",
      "188:\tlearn: 0.4076393\ttotal: 536ms\tremaining: 2.3s\n",
      "189:\tlearn: 0.4073419\ttotal: 538ms\tremaining: 2.29s\n",
      "190:\tlearn: 0.4070423\ttotal: 540ms\tremaining: 2.29s\n",
      "191:\tlearn: 0.4067461\ttotal: 543ms\tremaining: 2.28s\n",
      "192:\tlearn: 0.4064339\ttotal: 545ms\tremaining: 2.28s\n",
      "193:\tlearn: 0.4061361\ttotal: 547ms\tremaining: 2.27s\n",
      "194:\tlearn: 0.4057838\ttotal: 550ms\tremaining: 2.27s\n",
      "195:\tlearn: 0.4055720\ttotal: 552ms\tremaining: 2.27s\n",
      "196:\tlearn: 0.4052809\ttotal: 555ms\tremaining: 2.26s\n",
      "197:\tlearn: 0.4050079\ttotal: 557ms\tremaining: 2.26s\n",
      "198:\tlearn: 0.4047323\ttotal: 560ms\tremaining: 2.25s\n",
      "199:\tlearn: 0.4043621\ttotal: 562ms\tremaining: 2.25s\n",
      "200:\tlearn: 0.4040475\ttotal: 565ms\tremaining: 2.24s\n",
      "201:\tlearn: 0.4038753\ttotal: 567ms\tremaining: 2.24s\n",
      "202:\tlearn: 0.4035570\ttotal: 570ms\tremaining: 2.24s\n",
      "203:\tlearn: 0.4031120\ttotal: 572ms\tremaining: 2.23s\n",
      "204:\tlearn: 0.4028228\ttotal: 575ms\tremaining: 2.23s\n",
      "205:\tlearn: 0.4025399\ttotal: 577ms\tremaining: 2.22s\n",
      "206:\tlearn: 0.4023144\ttotal: 580ms\tremaining: 2.22s\n",
      "207:\tlearn: 0.4019410\ttotal: 582ms\tremaining: 2.22s\n",
      "208:\tlearn: 0.4016147\ttotal: 585ms\tremaining: 2.21s\n"
     ]
    },
    {
     "name": "stdout",
     "output_type": "stream",
     "text": [
      "209:\tlearn: 0.4013302\ttotal: 587ms\tremaining: 2.21s\n",
      "210:\tlearn: 0.4009545\ttotal: 590ms\tremaining: 2.21s\n",
      "211:\tlearn: 0.4007011\ttotal: 593ms\tremaining: 2.2s\n",
      "212:\tlearn: 0.4004099\ttotal: 595ms\tremaining: 2.2s\n",
      "213:\tlearn: 0.4001720\ttotal: 597ms\tremaining: 2.19s\n",
      "214:\tlearn: 0.3998759\ttotal: 600ms\tremaining: 2.19s\n",
      "215:\tlearn: 0.3996521\ttotal: 602ms\tremaining: 2.19s\n",
      "216:\tlearn: 0.3992350\ttotal: 605ms\tremaining: 2.18s\n",
      "217:\tlearn: 0.3989036\ttotal: 607ms\tremaining: 2.18s\n",
      "218:\tlearn: 0.3985119\ttotal: 610ms\tremaining: 2.17s\n",
      "219:\tlearn: 0.3982218\ttotal: 612ms\tremaining: 2.17s\n",
      "220:\tlearn: 0.3978584\ttotal: 615ms\tremaining: 2.17s\n",
      "221:\tlearn: 0.3976530\ttotal: 618ms\tremaining: 2.16s\n",
      "222:\tlearn: 0.3972669\ttotal: 620ms\tremaining: 2.16s\n",
      "223:\tlearn: 0.3969625\ttotal: 622ms\tremaining: 2.16s\n",
      "224:\tlearn: 0.3967444\ttotal: 625ms\tremaining: 2.15s\n",
      "225:\tlearn: 0.3964168\ttotal: 627ms\tremaining: 2.15s\n",
      "226:\tlearn: 0.3960920\ttotal: 630ms\tremaining: 2.15s\n",
      "227:\tlearn: 0.3957277\ttotal: 632ms\tremaining: 2.14s\n",
      "228:\tlearn: 0.3954907\ttotal: 635ms\tremaining: 2.14s\n",
      "229:\tlearn: 0.3949198\ttotal: 637ms\tremaining: 2.13s\n",
      "230:\tlearn: 0.3946405\ttotal: 639ms\tremaining: 2.13s\n",
      "231:\tlearn: 0.3944121\ttotal: 642ms\tremaining: 2.12s\n",
      "232:\tlearn: 0.3941612\ttotal: 645ms\tremaining: 2.12s\n",
      "233:\tlearn: 0.3939188\ttotal: 647ms\tremaining: 2.12s\n",
      "234:\tlearn: 0.3937044\ttotal: 650ms\tremaining: 2.12s\n",
      "235:\tlearn: 0.3935217\ttotal: 652ms\tremaining: 2.11s\n",
      "236:\tlearn: 0.3932810\ttotal: 655ms\tremaining: 2.11s\n",
      "237:\tlearn: 0.3930931\ttotal: 657ms\tremaining: 2.1s\n",
      "238:\tlearn: 0.3927796\ttotal: 660ms\tremaining: 2.1s\n",
      "239:\tlearn: 0.3925851\ttotal: 662ms\tremaining: 2.1s\n",
      "240:\tlearn: 0.3923199\ttotal: 664ms\tremaining: 2.09s\n",
      "241:\tlearn: 0.3920560\ttotal: 667ms\tremaining: 2.09s\n",
      "242:\tlearn: 0.3918068\ttotal: 669ms\tremaining: 2.08s\n",
      "243:\tlearn: 0.3915433\ttotal: 672ms\tremaining: 2.08s\n",
      "244:\tlearn: 0.3913081\ttotal: 674ms\tremaining: 2.08s\n",
      "245:\tlearn: 0.3908409\ttotal: 677ms\tremaining: 2.07s\n",
      "246:\tlearn: 0.3905783\ttotal: 679ms\tremaining: 2.07s\n",
      "247:\tlearn: 0.3903481\ttotal: 682ms\tremaining: 2.07s\n",
      "248:\tlearn: 0.3900296\ttotal: 685ms\tremaining: 2.06s\n",
      "249:\tlearn: 0.3897632\ttotal: 687ms\tremaining: 2.06s\n",
      "250:\tlearn: 0.3894265\ttotal: 690ms\tremaining: 2.06s\n",
      "251:\tlearn: 0.3891759\ttotal: 692ms\tremaining: 2.05s\n",
      "252:\tlearn: 0.3889387\ttotal: 695ms\tremaining: 2.05s\n",
      "253:\tlearn: 0.3887922\ttotal: 698ms\tremaining: 2.05s\n",
      "254:\tlearn: 0.3886260\ttotal: 700ms\tremaining: 2.04s\n",
      "255:\tlearn: 0.3884324\ttotal: 702ms\tremaining: 2.04s\n",
      "256:\tlearn: 0.3882606\ttotal: 705ms\tremaining: 2.04s\n",
      "257:\tlearn: 0.3880809\ttotal: 707ms\tremaining: 2.03s\n",
      "258:\tlearn: 0.3878605\ttotal: 709ms\tremaining: 2.03s\n",
      "259:\tlearn: 0.3875776\ttotal: 712ms\tremaining: 2.03s\n"
     ]
    },
    {
     "name": "stdout",
     "output_type": "stream",
     "text": [
      "260:\tlearn: 0.3869981\ttotal: 714ms\tremaining: 2.02s\n",
      "261:\tlearn: 0.3867143\ttotal: 717ms\tremaining: 2.02s\n",
      "262:\tlearn: 0.3863947\ttotal: 719ms\tremaining: 2.01s\n",
      "263:\tlearn: 0.3861736\ttotal: 722ms\tremaining: 2.01s\n",
      "264:\tlearn: 0.3859361\ttotal: 725ms\tremaining: 2.01s\n",
      "265:\tlearn: 0.3857403\ttotal: 727ms\tremaining: 2s\n",
      "266:\tlearn: 0.3855437\ttotal: 729ms\tremaining: 2s\n",
      "267:\tlearn: 0.3852941\ttotal: 732ms\tremaining: 2s\n",
      "268:\tlearn: 0.3850986\ttotal: 734ms\tremaining: 2s\n",
      "269:\tlearn: 0.3846774\ttotal: 737ms\tremaining: 1.99s\n",
      "270:\tlearn: 0.3843937\ttotal: 739ms\tremaining: 1.99s\n",
      "271:\tlearn: 0.3842334\ttotal: 742ms\tremaining: 1.99s\n",
      "272:\tlearn: 0.3839137\ttotal: 744ms\tremaining: 1.98s\n",
      "273:\tlearn: 0.3833762\ttotal: 747ms\tremaining: 1.98s\n",
      "274:\tlearn: 0.3831801\ttotal: 749ms\tremaining: 1.97s\n",
      "275:\tlearn: 0.3829039\ttotal: 751ms\tremaining: 1.97s\n",
      "276:\tlearn: 0.3827255\ttotal: 754ms\tremaining: 1.97s\n",
      "277:\tlearn: 0.3823328\ttotal: 756ms\tremaining: 1.96s\n",
      "278:\tlearn: 0.3819968\ttotal: 759ms\tremaining: 1.96s\n",
      "279:\tlearn: 0.3817557\ttotal: 762ms\tremaining: 1.96s\n",
      "280:\tlearn: 0.3815812\ttotal: 764ms\tremaining: 1.95s\n",
      "281:\tlearn: 0.3813739\ttotal: 766ms\tremaining: 1.95s\n",
      "282:\tlearn: 0.3809282\ttotal: 769ms\tremaining: 1.95s\n",
      "283:\tlearn: 0.3806825\ttotal: 771ms\tremaining: 1.94s\n",
      "284:\tlearn: 0.3805270\ttotal: 774ms\tremaining: 1.94s\n",
      "285:\tlearn: 0.3803219\ttotal: 776ms\tremaining: 1.94s\n",
      "286:\tlearn: 0.3801283\ttotal: 778ms\tremaining: 1.93s\n",
      "287:\tlearn: 0.3798894\ttotal: 781ms\tremaining: 1.93s\n"
     ]
    },
    {
     "name": "stdout",
     "output_type": "stream",
     "text": [
      "288:\tlearn: 0.3796458\ttotal: 784ms\tremaining: 1.93s\n",
      "289:\tlearn: 0.3794772\ttotal: 786ms\tremaining: 1.92s\n",
      "290:\tlearn: 0.3792615\ttotal: 789ms\tremaining: 1.92s\n",
      "291:\tlearn: 0.3790149\ttotal: 791ms\tremaining: 1.92s\n",
      "292:\tlearn: 0.3787480\ttotal: 794ms\tremaining: 1.92s\n",
      "293:\tlearn: 0.3785369\ttotal: 796ms\tremaining: 1.91s\n",
      "294:\tlearn: 0.3783859\ttotal: 798ms\tremaining: 1.91s\n",
      "295:\tlearn: 0.3780114\ttotal: 801ms\tremaining: 1.91s\n",
      "296:\tlearn: 0.3778132\ttotal: 803ms\tremaining: 1.9s\n",
      "297:\tlearn: 0.3775465\ttotal: 806ms\tremaining: 1.9s\n",
      "298:\tlearn: 0.3773845\ttotal: 808ms\tremaining: 1.89s\n",
      "299:\tlearn: 0.3771215\ttotal: 811ms\tremaining: 1.89s\n",
      "300:\tlearn: 0.3769557\ttotal: 813ms\tremaining: 1.89s\n",
      "301:\tlearn: 0.3766849\ttotal: 816ms\tremaining: 1.89s\n",
      "302:\tlearn: 0.3764737\ttotal: 819ms\tremaining: 1.88s\n",
      "303:\tlearn: 0.3762139\ttotal: 821ms\tremaining: 1.88s\n",
      "304:\tlearn: 0.3760602\ttotal: 823ms\tremaining: 1.88s\n",
      "305:\tlearn: 0.3757160\ttotal: 826ms\tremaining: 1.87s\n",
      "306:\tlearn: 0.3754584\ttotal: 828ms\tremaining: 1.87s\n",
      "307:\tlearn: 0.3752234\ttotal: 831ms\tremaining: 1.87s\n",
      "308:\tlearn: 0.3750026\ttotal: 833ms\tremaining: 1.86s\n",
      "309:\tlearn: 0.3747508\ttotal: 836ms\tremaining: 1.86s\n",
      "310:\tlearn: 0.3746094\ttotal: 838ms\tremaining: 1.86s\n",
      "311:\tlearn: 0.3744153\ttotal: 840ms\tremaining: 1.85s\n",
      "312:\tlearn: 0.3742189\ttotal: 842ms\tremaining: 1.85s\n",
      "313:\tlearn: 0.3740127\ttotal: 844ms\tremaining: 1.84s\n",
      "314:\tlearn: 0.3737395\ttotal: 847ms\tremaining: 1.84s\n",
      "315:\tlearn: 0.3735477\ttotal: 849ms\tremaining: 1.84s\n",
      "316:\tlearn: 0.3733970\ttotal: 852ms\tremaining: 1.83s\n",
      "317:\tlearn: 0.3732303\ttotal: 854ms\tremaining: 1.83s\n",
      "318:\tlearn: 0.3730928\ttotal: 856ms\tremaining: 1.83s\n",
      "319:\tlearn: 0.3727751\ttotal: 858ms\tremaining: 1.82s\n",
      "320:\tlearn: 0.3725493\ttotal: 861ms\tremaining: 1.82s\n",
      "321:\tlearn: 0.3723888\ttotal: 863ms\tremaining: 1.82s\n",
      "322:\tlearn: 0.3722134\ttotal: 866ms\tremaining: 1.81s\n",
      "323:\tlearn: 0.3720465\ttotal: 869ms\tremaining: 1.81s\n",
      "324:\tlearn: 0.3718853\ttotal: 871ms\tremaining: 1.81s\n",
      "325:\tlearn: 0.3717296\ttotal: 873ms\tremaining: 1.8s\n",
      "326:\tlearn: 0.3715920\ttotal: 876ms\tremaining: 1.8s\n",
      "327:\tlearn: 0.3713925\ttotal: 878ms\tremaining: 1.8s\n",
      "328:\tlearn: 0.3710944\ttotal: 880ms\tremaining: 1.79s\n",
      "329:\tlearn: 0.3708791\ttotal: 882ms\tremaining: 1.79s\n",
      "330:\tlearn: 0.3707514\ttotal: 885ms\tremaining: 1.79s\n",
      "331:\tlearn: 0.3705170\ttotal: 888ms\tremaining: 1.79s\n",
      "332:\tlearn: 0.3703674\ttotal: 892ms\tremaining: 1.79s\n",
      "333:\tlearn: 0.3700270\ttotal: 894ms\tremaining: 1.78s\n",
      "334:\tlearn: 0.3698976\ttotal: 897ms\tremaining: 1.78s\n",
      "335:\tlearn: 0.3697428\ttotal: 899ms\tremaining: 1.78s\n",
      "336:\tlearn: 0.3695078\ttotal: 901ms\tremaining: 1.77s\n",
      "337:\tlearn: 0.3693242\ttotal: 903ms\tremaining: 1.77s\n",
      "338:\tlearn: 0.3691815\ttotal: 906ms\tremaining: 1.77s\n",
      "339:\tlearn: 0.3690141\ttotal: 908ms\tremaining: 1.76s\n"
     ]
    },
    {
     "name": "stdout",
     "output_type": "stream",
     "text": [
      "340:\tlearn: 0.3688410\ttotal: 911ms\tremaining: 1.76s\n",
      "341:\tlearn: 0.3685821\ttotal: 913ms\tremaining: 1.76s\n",
      "342:\tlearn: 0.3684469\ttotal: 916ms\tremaining: 1.75s\n",
      "343:\tlearn: 0.3682455\ttotal: 918ms\tremaining: 1.75s\n",
      "344:\tlearn: 0.3680715\ttotal: 920ms\tremaining: 1.75s\n",
      "345:\tlearn: 0.3678728\ttotal: 923ms\tremaining: 1.74s\n",
      "346:\tlearn: 0.3676785\ttotal: 925ms\tremaining: 1.74s\n",
      "347:\tlearn: 0.3675634\ttotal: 928ms\tremaining: 1.74s\n",
      "348:\tlearn: 0.3674123\ttotal: 930ms\tremaining: 1.73s\n",
      "349:\tlearn: 0.3671827\ttotal: 932ms\tremaining: 1.73s\n",
      "350:\tlearn: 0.3670424\ttotal: 935ms\tremaining: 1.73s\n",
      "351:\tlearn: 0.3668313\ttotal: 939ms\tremaining: 1.73s\n",
      "352:\tlearn: 0.3665816\ttotal: 941ms\tremaining: 1.72s\n",
      "353:\tlearn: 0.3663551\ttotal: 944ms\tremaining: 1.72s\n",
      "354:\tlearn: 0.3661770\ttotal: 946ms\tremaining: 1.72s\n",
      "355:\tlearn: 0.3660457\ttotal: 949ms\tremaining: 1.72s\n",
      "356:\tlearn: 0.3658675\ttotal: 951ms\tremaining: 1.71s\n",
      "357:\tlearn: 0.3656833\ttotal: 954ms\tremaining: 1.71s\n",
      "358:\tlearn: 0.3654860\ttotal: 956ms\tremaining: 1.71s\n",
      "359:\tlearn: 0.3653913\ttotal: 959ms\tremaining: 1.7s\n",
      "360:\tlearn: 0.3652204\ttotal: 961ms\tremaining: 1.7s\n",
      "361:\tlearn: 0.3651244\ttotal: 963ms\tremaining: 1.7s\n",
      "362:\tlearn: 0.3650089\ttotal: 966ms\tremaining: 1.69s\n",
      "363:\tlearn: 0.3648502\ttotal: 968ms\tremaining: 1.69s\n",
      "364:\tlearn: 0.3646851\ttotal: 970ms\tremaining: 1.69s\n",
      "365:\tlearn: 0.3644780\ttotal: 973ms\tremaining: 1.69s\n",
      "366:\tlearn: 0.3643078\ttotal: 975ms\tremaining: 1.68s\n",
      "367:\tlearn: 0.3641503\ttotal: 978ms\tremaining: 1.68s\n"
     ]
    },
    {
     "name": "stdout",
     "output_type": "stream",
     "text": [
      "368:\tlearn: 0.3640646\ttotal: 980ms\tremaining: 1.68s\n",
      "369:\tlearn: 0.3639597\ttotal: 983ms\tremaining: 1.67s\n",
      "370:\tlearn: 0.3637848\ttotal: 985ms\tremaining: 1.67s\n",
      "371:\tlearn: 0.3635932\ttotal: 988ms\tremaining: 1.67s\n",
      "372:\tlearn: 0.3633934\ttotal: 990ms\tremaining: 1.66s\n",
      "373:\tlearn: 0.3631964\ttotal: 992ms\tremaining: 1.66s\n",
      "374:\tlearn: 0.3629901\ttotal: 995ms\tremaining: 1.66s\n",
      "375:\tlearn: 0.3627941\ttotal: 997ms\tremaining: 1.65s\n",
      "376:\tlearn: 0.3626531\ttotal: 1000ms\tremaining: 1.65s\n",
      "377:\tlearn: 0.3624263\ttotal: 1s\tremaining: 1.65s\n",
      "378:\tlearn: 0.3622571\ttotal: 1s\tremaining: 1.65s\n",
      "379:\tlearn: 0.3620547\ttotal: 1.01s\tremaining: 1.64s\n",
      "380:\tlearn: 0.3619007\ttotal: 1.01s\tremaining: 1.64s\n",
      "381:\tlearn: 0.3617572\ttotal: 1.01s\tremaining: 1.64s\n",
      "382:\tlearn: 0.3616150\ttotal: 1.01s\tremaining: 1.63s\n",
      "383:\tlearn: 0.3614081\ttotal: 1.01s\tremaining: 1.63s\n",
      "384:\tlearn: 0.3612733\ttotal: 1.02s\tremaining: 1.63s\n",
      "385:\tlearn: 0.3611172\ttotal: 1.02s\tremaining: 1.62s\n",
      "386:\tlearn: 0.3609205\ttotal: 1.02s\tremaining: 1.62s\n",
      "387:\tlearn: 0.3607607\ttotal: 1.02s\tremaining: 1.62s\n",
      "388:\tlearn: 0.3606421\ttotal: 1.03s\tremaining: 1.61s\n",
      "389:\tlearn: 0.3604410\ttotal: 1.03s\tremaining: 1.61s\n",
      "390:\tlearn: 0.3603638\ttotal: 1.03s\tremaining: 1.61s\n",
      "391:\tlearn: 0.3602356\ttotal: 1.03s\tremaining: 1.61s\n",
      "392:\tlearn: 0.3600770\ttotal: 1.04s\tremaining: 1.6s\n",
      "393:\tlearn: 0.3599286\ttotal: 1.04s\tremaining: 1.6s\n",
      "394:\tlearn: 0.3597428\ttotal: 1.04s\tremaining: 1.6s\n",
      "395:\tlearn: 0.3595668\ttotal: 1.04s\tremaining: 1.59s\n",
      "396:\tlearn: 0.3594785\ttotal: 1.05s\tremaining: 1.59s\n",
      "397:\tlearn: 0.3591619\ttotal: 1.05s\tremaining: 1.59s\n",
      "398:\tlearn: 0.3589850\ttotal: 1.05s\tremaining: 1.58s\n",
      "399:\tlearn: 0.3588795\ttotal: 1.05s\tremaining: 1.58s\n",
      "400:\tlearn: 0.3585826\ttotal: 1.06s\tremaining: 1.58s\n",
      "401:\tlearn: 0.3584770\ttotal: 1.06s\tremaining: 1.58s\n",
      "402:\tlearn: 0.3583136\ttotal: 1.06s\tremaining: 1.57s\n",
      "403:\tlearn: 0.3581659\ttotal: 1.06s\tremaining: 1.57s\n",
      "404:\tlearn: 0.3579706\ttotal: 1.07s\tremaining: 1.57s\n",
      "405:\tlearn: 0.3578589\ttotal: 1.07s\tremaining: 1.56s\n",
      "406:\tlearn: 0.3577018\ttotal: 1.07s\tremaining: 1.56s\n",
      "407:\tlearn: 0.3574127\ttotal: 1.07s\tremaining: 1.56s\n",
      "408:\tlearn: 0.3572102\ttotal: 1.08s\tremaining: 1.55s\n",
      "409:\tlearn: 0.3570251\ttotal: 1.08s\tremaining: 1.55s\n",
      "410:\tlearn: 0.3567953\ttotal: 1.08s\tremaining: 1.55s\n",
      "411:\tlearn: 0.3567006\ttotal: 1.08s\tremaining: 1.55s\n",
      "412:\tlearn: 0.3565677\ttotal: 1.09s\tremaining: 1.54s\n",
      "413:\tlearn: 0.3563469\ttotal: 1.09s\tremaining: 1.54s\n",
      "414:\tlearn: 0.3562025\ttotal: 1.09s\tremaining: 1.54s\n",
      "415:\tlearn: 0.3560469\ttotal: 1.09s\tremaining: 1.53s\n",
      "416:\tlearn: 0.3558622\ttotal: 1.1s\tremaining: 1.53s\n",
      "417:\tlearn: 0.3556784\ttotal: 1.1s\tremaining: 1.53s\n",
      "418:\tlearn: 0.3555663\ttotal: 1.1s\tremaining: 1.53s\n",
      "419:\tlearn: 0.3553342\ttotal: 1.1s\tremaining: 1.52s\n"
     ]
    },
    {
     "name": "stdout",
     "output_type": "stream",
     "text": [
      "420:\tlearn: 0.3551487\ttotal: 1.11s\tremaining: 1.52s\n",
      "421:\tlearn: 0.3550123\ttotal: 1.11s\tremaining: 1.52s\n",
      "422:\tlearn: 0.3547477\ttotal: 1.11s\tremaining: 1.52s\n",
      "423:\tlearn: 0.3545661\ttotal: 1.11s\tremaining: 1.51s\n",
      "424:\tlearn: 0.3544184\ttotal: 1.12s\tremaining: 1.51s\n",
      "425:\tlearn: 0.3542712\ttotal: 1.12s\tremaining: 1.51s\n",
      "426:\tlearn: 0.3540924\ttotal: 1.12s\tremaining: 1.5s\n",
      "427:\tlearn: 0.3538869\ttotal: 1.12s\tremaining: 1.5s\n",
      "428:\tlearn: 0.3537472\ttotal: 1.13s\tremaining: 1.5s\n",
      "429:\tlearn: 0.3536278\ttotal: 1.13s\tremaining: 1.5s\n",
      "430:\tlearn: 0.3534927\ttotal: 1.13s\tremaining: 1.5s\n",
      "431:\tlearn: 0.3533211\ttotal: 1.14s\tremaining: 1.49s\n",
      "432:\tlearn: 0.3531815\ttotal: 1.14s\tremaining: 1.49s\n",
      "433:\tlearn: 0.3529379\ttotal: 1.14s\tremaining: 1.49s\n",
      "434:\tlearn: 0.3527594\ttotal: 1.14s\tremaining: 1.48s\n",
      "435:\tlearn: 0.3525933\ttotal: 1.14s\tremaining: 1.48s\n",
      "436:\tlearn: 0.3524161\ttotal: 1.15s\tremaining: 1.48s\n",
      "437:\tlearn: 0.3522554\ttotal: 1.15s\tremaining: 1.48s\n",
      "438:\tlearn: 0.3519951\ttotal: 1.15s\tremaining: 1.47s\n",
      "439:\tlearn: 0.3518024\ttotal: 1.15s\tremaining: 1.47s\n",
      "440:\tlearn: 0.3516460\ttotal: 1.16s\tremaining: 1.47s\n",
      "441:\tlearn: 0.3515082\ttotal: 1.16s\tremaining: 1.46s\n",
      "442:\tlearn: 0.3513320\ttotal: 1.16s\tremaining: 1.46s\n",
      "443:\tlearn: 0.3511854\ttotal: 1.16s\tremaining: 1.46s\n",
      "444:\tlearn: 0.3510211\ttotal: 1.17s\tremaining: 1.45s\n",
      "445:\tlearn: 0.3508888\ttotal: 1.17s\tremaining: 1.45s\n",
      "446:\tlearn: 0.3507406\ttotal: 1.17s\tremaining: 1.45s\n",
      "447:\tlearn: 0.3506604\ttotal: 1.17s\tremaining: 1.45s\n"
     ]
    },
    {
     "name": "stdout",
     "output_type": "stream",
     "text": [
      "448:\tlearn: 0.3505301\ttotal: 1.18s\tremaining: 1.44s\n",
      "449:\tlearn: 0.3502583\ttotal: 1.18s\tremaining: 1.44s\n",
      "450:\tlearn: 0.3501197\ttotal: 1.18s\tremaining: 1.44s\n",
      "451:\tlearn: 0.3499843\ttotal: 1.19s\tremaining: 1.44s\n",
      "452:\tlearn: 0.3498849\ttotal: 1.19s\tremaining: 1.43s\n",
      "453:\tlearn: 0.3496438\ttotal: 1.19s\tremaining: 1.43s\n",
      "454:\tlearn: 0.3495394\ttotal: 1.19s\tremaining: 1.43s\n",
      "455:\tlearn: 0.3493708\ttotal: 1.2s\tremaining: 1.43s\n",
      "456:\tlearn: 0.3492385\ttotal: 1.2s\tremaining: 1.42s\n",
      "457:\tlearn: 0.3490535\ttotal: 1.2s\tremaining: 1.42s\n",
      "458:\tlearn: 0.3489103\ttotal: 1.2s\tremaining: 1.42s\n",
      "459:\tlearn: 0.3488011\ttotal: 1.21s\tremaining: 1.41s\n",
      "460:\tlearn: 0.3485649\ttotal: 1.21s\tremaining: 1.41s\n",
      "461:\tlearn: 0.3484154\ttotal: 1.21s\tremaining: 1.41s\n",
      "462:\tlearn: 0.3483108\ttotal: 1.21s\tremaining: 1.41s\n",
      "463:\tlearn: 0.3481543\ttotal: 1.22s\tremaining: 1.41s\n",
      "464:\tlearn: 0.3480084\ttotal: 1.22s\tremaining: 1.4s\n",
      "465:\tlearn: 0.3478223\ttotal: 1.22s\tremaining: 1.4s\n",
      "466:\tlearn: 0.3476103\ttotal: 1.22s\tremaining: 1.4s\n",
      "467:\tlearn: 0.3475095\ttotal: 1.23s\tremaining: 1.39s\n",
      "468:\tlearn: 0.3473159\ttotal: 1.23s\tremaining: 1.39s\n",
      "469:\tlearn: 0.3471786\ttotal: 1.23s\tremaining: 1.39s\n",
      "470:\tlearn: 0.3469787\ttotal: 1.23s\tremaining: 1.38s\n",
      "471:\tlearn: 0.3468596\ttotal: 1.24s\tremaining: 1.38s\n",
      "472:\tlearn: 0.3467196\ttotal: 1.24s\tremaining: 1.38s\n",
      "473:\tlearn: 0.3465506\ttotal: 1.24s\tremaining: 1.38s\n",
      "474:\tlearn: 0.3464452\ttotal: 1.24s\tremaining: 1.37s\n",
      "475:\tlearn: 0.3462665\ttotal: 1.25s\tremaining: 1.37s\n",
      "476:\tlearn: 0.3461326\ttotal: 1.25s\tremaining: 1.37s\n",
      "477:\tlearn: 0.3458692\ttotal: 1.25s\tremaining: 1.36s\n",
      "478:\tlearn: 0.3457621\ttotal: 1.25s\tremaining: 1.36s\n",
      "479:\tlearn: 0.3455664\ttotal: 1.25s\tremaining: 1.36s\n",
      "480:\tlearn: 0.3454486\ttotal: 1.26s\tremaining: 1.36s\n",
      "481:\tlearn: 0.3453542\ttotal: 1.26s\tremaining: 1.35s\n",
      "482:\tlearn: 0.3451844\ttotal: 1.26s\tremaining: 1.35s\n",
      "483:\tlearn: 0.3451021\ttotal: 1.27s\tremaining: 1.35s\n",
      "484:\tlearn: 0.3449658\ttotal: 1.27s\tremaining: 1.35s\n",
      "485:\tlearn: 0.3448568\ttotal: 1.27s\tremaining: 1.34s\n",
      "486:\tlearn: 0.3447173\ttotal: 1.27s\tremaining: 1.34s\n",
      "487:\tlearn: 0.3445300\ttotal: 1.27s\tremaining: 1.34s\n",
      "488:\tlearn: 0.3443946\ttotal: 1.28s\tremaining: 1.33s\n",
      "489:\tlearn: 0.3442671\ttotal: 1.28s\tremaining: 1.33s\n",
      "490:\tlearn: 0.3441356\ttotal: 1.28s\tremaining: 1.33s\n",
      "491:\tlearn: 0.3439134\ttotal: 1.28s\tremaining: 1.33s\n",
      "492:\tlearn: 0.3437931\ttotal: 1.29s\tremaining: 1.32s\n",
      "493:\tlearn: 0.3437242\ttotal: 1.29s\tremaining: 1.32s\n",
      "494:\tlearn: 0.3435950\ttotal: 1.29s\tremaining: 1.32s\n",
      "495:\tlearn: 0.3434355\ttotal: 1.29s\tremaining: 1.32s\n",
      "496:\tlearn: 0.3432712\ttotal: 1.3s\tremaining: 1.31s\n",
      "497:\tlearn: 0.3431466\ttotal: 1.3s\tremaining: 1.31s\n",
      "498:\tlearn: 0.3430399\ttotal: 1.3s\tremaining: 1.31s\n"
     ]
    },
    {
     "name": "stdout",
     "output_type": "stream",
     "text": [
      "499:\tlearn: 0.3428681\ttotal: 1.3s\tremaining: 1.3s\n",
      "500:\tlearn: 0.3426827\ttotal: 1.31s\tremaining: 1.3s\n",
      "501:\tlearn: 0.3425726\ttotal: 1.31s\tremaining: 1.3s\n",
      "502:\tlearn: 0.3424295\ttotal: 1.31s\tremaining: 1.3s\n",
      "503:\tlearn: 0.3422870\ttotal: 1.31s\tremaining: 1.29s\n",
      "504:\tlearn: 0.3420804\ttotal: 1.32s\tremaining: 1.29s\n",
      "505:\tlearn: 0.3419681\ttotal: 1.32s\tremaining: 1.29s\n",
      "506:\tlearn: 0.3418313\ttotal: 1.32s\tremaining: 1.28s\n",
      "507:\tlearn: 0.3417000\ttotal: 1.32s\tremaining: 1.28s\n",
      "508:\tlearn: 0.3416131\ttotal: 1.33s\tremaining: 1.28s\n",
      "509:\tlearn: 0.3415170\ttotal: 1.33s\tremaining: 1.28s\n",
      "510:\tlearn: 0.3413128\ttotal: 1.33s\tremaining: 1.28s\n",
      "511:\tlearn: 0.3411760\ttotal: 1.34s\tremaining: 1.27s\n",
      "512:\tlearn: 0.3410102\ttotal: 1.34s\tremaining: 1.27s\n",
      "513:\tlearn: 0.3409239\ttotal: 1.34s\tremaining: 1.27s\n",
      "514:\tlearn: 0.3407889\ttotal: 1.34s\tremaining: 1.27s\n",
      "515:\tlearn: 0.3406136\ttotal: 1.35s\tremaining: 1.26s\n",
      "516:\tlearn: 0.3404977\ttotal: 1.35s\tremaining: 1.26s\n",
      "517:\tlearn: 0.3403936\ttotal: 1.35s\tremaining: 1.26s\n",
      "518:\tlearn: 0.3402781\ttotal: 1.35s\tremaining: 1.25s\n",
      "519:\tlearn: 0.3401634\ttotal: 1.36s\tremaining: 1.25s\n",
      "520:\tlearn: 0.3400003\ttotal: 1.36s\tremaining: 1.25s\n",
      "521:\tlearn: 0.3399379\ttotal: 1.36s\tremaining: 1.25s\n",
      "522:\tlearn: 0.3397918\ttotal: 1.36s\tremaining: 1.25s\n",
      "523:\tlearn: 0.3396133\ttotal: 1.37s\tremaining: 1.24s\n",
      "524:\tlearn: 0.3394516\ttotal: 1.37s\tremaining: 1.24s\n"
     ]
    },
    {
     "name": "stdout",
     "output_type": "stream",
     "text": [
      "525:\tlearn: 0.3393935\ttotal: 1.37s\tremaining: 1.24s\n",
      "526:\tlearn: 0.3392788\ttotal: 1.37s\tremaining: 1.23s\n",
      "527:\tlearn: 0.3391190\ttotal: 1.38s\tremaining: 1.23s\n",
      "528:\tlearn: 0.3390108\ttotal: 1.38s\tremaining: 1.23s\n",
      "529:\tlearn: 0.3389330\ttotal: 1.38s\tremaining: 1.22s\n",
      "530:\tlearn: 0.3388171\ttotal: 1.38s\tremaining: 1.22s\n",
      "531:\tlearn: 0.3387469\ttotal: 1.39s\tremaining: 1.22s\n",
      "532:\tlearn: 0.3385459\ttotal: 1.39s\tremaining: 1.22s\n",
      "533:\tlearn: 0.3384534\ttotal: 1.39s\tremaining: 1.21s\n",
      "534:\tlearn: 0.3383402\ttotal: 1.39s\tremaining: 1.21s\n",
      "535:\tlearn: 0.3382083\ttotal: 1.4s\tremaining: 1.21s\n",
      "536:\tlearn: 0.3380721\ttotal: 1.4s\tremaining: 1.21s\n",
      "537:\tlearn: 0.3378925\ttotal: 1.4s\tremaining: 1.2s\n",
      "538:\tlearn: 0.3378015\ttotal: 1.4s\tremaining: 1.2s\n",
      "539:\tlearn: 0.3376969\ttotal: 1.41s\tremaining: 1.2s\n",
      "540:\tlearn: 0.3376367\ttotal: 1.41s\tremaining: 1.2s\n",
      "541:\tlearn: 0.3374403\ttotal: 1.41s\tremaining: 1.19s\n",
      "542:\tlearn: 0.3373427\ttotal: 1.41s\tremaining: 1.19s\n",
      "543:\tlearn: 0.3372214\ttotal: 1.42s\tremaining: 1.19s\n",
      "544:\tlearn: 0.3370545\ttotal: 1.42s\tremaining: 1.18s\n",
      "545:\tlearn: 0.3368567\ttotal: 1.42s\tremaining: 1.18s\n",
      "546:\tlearn: 0.3366668\ttotal: 1.42s\tremaining: 1.18s\n",
      "547:\tlearn: 0.3365038\ttotal: 1.43s\tremaining: 1.18s\n",
      "548:\tlearn: 0.3363980\ttotal: 1.43s\tremaining: 1.17s\n",
      "549:\tlearn: 0.3362953\ttotal: 1.43s\tremaining: 1.17s\n",
      "550:\tlearn: 0.3361850\ttotal: 1.43s\tremaining: 1.17s\n",
      "551:\tlearn: 0.3360817\ttotal: 1.44s\tremaining: 1.17s\n",
      "552:\tlearn: 0.3359601\ttotal: 1.44s\tremaining: 1.16s\n",
      "553:\tlearn: 0.3358710\ttotal: 1.44s\tremaining: 1.16s\n",
      "554:\tlearn: 0.3357519\ttotal: 1.44s\tremaining: 1.16s\n",
      "555:\tlearn: 0.3356457\ttotal: 1.45s\tremaining: 1.15s\n",
      "556:\tlearn: 0.3355073\ttotal: 1.45s\tremaining: 1.15s\n",
      "557:\tlearn: 0.3353728\ttotal: 1.45s\tremaining: 1.15s\n",
      "558:\tlearn: 0.3352337\ttotal: 1.45s\tremaining: 1.15s\n",
      "559:\tlearn: 0.3351761\ttotal: 1.46s\tremaining: 1.14s\n",
      "560:\tlearn: 0.3350436\ttotal: 1.46s\tremaining: 1.14s\n",
      "561:\tlearn: 0.3349042\ttotal: 1.46s\tremaining: 1.14s\n",
      "562:\tlearn: 0.3347887\ttotal: 1.46s\tremaining: 1.14s\n",
      "563:\tlearn: 0.3346739\ttotal: 1.46s\tremaining: 1.13s\n",
      "564:\tlearn: 0.3345553\ttotal: 1.47s\tremaining: 1.13s\n",
      "565:\tlearn: 0.3344312\ttotal: 1.47s\tremaining: 1.13s\n",
      "566:\tlearn: 0.3343246\ttotal: 1.47s\tremaining: 1.12s\n",
      "567:\tlearn: 0.3342392\ttotal: 1.48s\tremaining: 1.12s\n",
      "568:\tlearn: 0.3339719\ttotal: 1.48s\tremaining: 1.12s\n",
      "569:\tlearn: 0.3338453\ttotal: 1.48s\tremaining: 1.12s\n",
      "570:\tlearn: 0.3337051\ttotal: 1.48s\tremaining: 1.11s\n",
      "571:\tlearn: 0.3335726\ttotal: 1.49s\tremaining: 1.11s\n",
      "572:\tlearn: 0.3333693\ttotal: 1.49s\tremaining: 1.11s\n",
      "573:\tlearn: 0.3332902\ttotal: 1.49s\tremaining: 1.11s\n",
      "574:\tlearn: 0.3331567\ttotal: 1.49s\tremaining: 1.1s\n",
      "575:\tlearn: 0.3331133\ttotal: 1.5s\tremaining: 1.1s\n",
      "576:\tlearn: 0.3330264\ttotal: 1.5s\tremaining: 1.1s\n"
     ]
    },
    {
     "name": "stdout",
     "output_type": "stream",
     "text": [
      "577:\tlearn: 0.3328836\ttotal: 1.5s\tremaining: 1.1s\n",
      "578:\tlearn: 0.3328290\ttotal: 1.5s\tremaining: 1.09s\n",
      "579:\tlearn: 0.3327795\ttotal: 1.51s\tremaining: 1.09s\n",
      "580:\tlearn: 0.3326857\ttotal: 1.51s\tremaining: 1.09s\n",
      "581:\tlearn: 0.3325626\ttotal: 1.51s\tremaining: 1.09s\n",
      "582:\tlearn: 0.3324048\ttotal: 1.51s\tremaining: 1.08s\n",
      "583:\tlearn: 0.3323085\ttotal: 1.52s\tremaining: 1.08s\n",
      "584:\tlearn: 0.3321416\ttotal: 1.52s\tremaining: 1.08s\n",
      "585:\tlearn: 0.3320620\ttotal: 1.52s\tremaining: 1.07s\n",
      "586:\tlearn: 0.3319439\ttotal: 1.52s\tremaining: 1.07s\n",
      "587:\tlearn: 0.3318195\ttotal: 1.53s\tremaining: 1.07s\n",
      "588:\tlearn: 0.3317727\ttotal: 1.53s\tremaining: 1.07s\n",
      "589:\tlearn: 0.3316792\ttotal: 1.53s\tremaining: 1.06s\n",
      "590:\tlearn: 0.3315481\ttotal: 1.53s\tremaining: 1.06s\n",
      "591:\tlearn: 0.3313932\ttotal: 1.54s\tremaining: 1.06s\n",
      "592:\tlearn: 0.3312904\ttotal: 1.54s\tremaining: 1.06s\n",
      "593:\tlearn: 0.3312023\ttotal: 1.54s\tremaining: 1.05s\n",
      "594:\tlearn: 0.3311071\ttotal: 1.54s\tremaining: 1.05s\n",
      "595:\tlearn: 0.3309477\ttotal: 1.55s\tremaining: 1.05s\n",
      "596:\tlearn: 0.3308464\ttotal: 1.55s\tremaining: 1.05s\n",
      "597:\tlearn: 0.3307221\ttotal: 1.55s\tremaining: 1.04s\n",
      "598:\tlearn: 0.3306579\ttotal: 1.55s\tremaining: 1.04s\n",
      "599:\tlearn: 0.3305000\ttotal: 1.56s\tremaining: 1.04s\n",
      "600:\tlearn: 0.3303976\ttotal: 1.56s\tremaining: 1.03s\n",
      "601:\tlearn: 0.3302585\ttotal: 1.56s\tremaining: 1.03s\n",
      "602:\tlearn: 0.3301352\ttotal: 1.56s\tremaining: 1.03s\n"
     ]
    },
    {
     "name": "stdout",
     "output_type": "stream",
     "text": [
      "603:\tlearn: 0.3300257\ttotal: 1.57s\tremaining: 1.03s\n",
      "604:\tlearn: 0.3299217\ttotal: 1.57s\tremaining: 1.02s\n",
      "605:\tlearn: 0.3298009\ttotal: 1.57s\tremaining: 1.02s\n",
      "606:\tlearn: 0.3296967\ttotal: 1.57s\tremaining: 1.02s\n",
      "607:\tlearn: 0.3295501\ttotal: 1.58s\tremaining: 1.02s\n",
      "608:\tlearn: 0.3294332\ttotal: 1.58s\tremaining: 1.01s\n",
      "609:\tlearn: 0.3292747\ttotal: 1.58s\tremaining: 1.01s\n",
      "610:\tlearn: 0.3291869\ttotal: 1.59s\tremaining: 1.01s\n",
      "611:\tlearn: 0.3290918\ttotal: 1.59s\tremaining: 1.01s\n",
      "612:\tlearn: 0.3289951\ttotal: 1.59s\tremaining: 1s\n",
      "613:\tlearn: 0.3288302\ttotal: 1.59s\tremaining: 1s\n",
      "614:\tlearn: 0.3287271\ttotal: 1.6s\tremaining: 1s\n",
      "615:\tlearn: 0.3285732\ttotal: 1.6s\tremaining: 998ms\n",
      "616:\tlearn: 0.3284675\ttotal: 1.6s\tremaining: 995ms\n",
      "617:\tlearn: 0.3283625\ttotal: 1.61s\tremaining: 993ms\n",
      "618:\tlearn: 0.3282742\ttotal: 1.61s\tremaining: 990ms\n",
      "619:\tlearn: 0.3281492\ttotal: 1.61s\tremaining: 987ms\n",
      "620:\tlearn: 0.3280054\ttotal: 1.61s\tremaining: 985ms\n",
      "621:\tlearn: 0.3279293\ttotal: 1.62s\tremaining: 982ms\n",
      "622:\tlearn: 0.3278261\ttotal: 1.62s\tremaining: 981ms\n",
      "623:\tlearn: 0.3277334\ttotal: 1.62s\tremaining: 978ms\n",
      "624:\tlearn: 0.3276284\ttotal: 1.63s\tremaining: 975ms\n",
      "625:\tlearn: 0.3275467\ttotal: 1.63s\tremaining: 973ms\n",
      "626:\tlearn: 0.3273910\ttotal: 1.63s\tremaining: 970ms\n",
      "627:\tlearn: 0.3273415\ttotal: 1.63s\tremaining: 967ms\n",
      "628:\tlearn: 0.3272110\ttotal: 1.63s\tremaining: 964ms\n",
      "629:\tlearn: 0.3270334\ttotal: 1.64s\tremaining: 962ms\n",
      "630:\tlearn: 0.3269372\ttotal: 1.64s\tremaining: 959ms\n",
      "631:\tlearn: 0.3268204\ttotal: 1.64s\tremaining: 956ms\n",
      "632:\tlearn: 0.3266715\ttotal: 1.64s\tremaining: 954ms\n",
      "633:\tlearn: 0.3265657\ttotal: 1.65s\tremaining: 951ms\n",
      "634:\tlearn: 0.3264626\ttotal: 1.65s\tremaining: 948ms\n",
      "635:\tlearn: 0.3264103\ttotal: 1.65s\tremaining: 946ms\n",
      "636:\tlearn: 0.3262933\ttotal: 1.65s\tremaining: 943ms\n",
      "637:\tlearn: 0.3261776\ttotal: 1.66s\tremaining: 940ms\n",
      "638:\tlearn: 0.3260494\ttotal: 1.66s\tremaining: 938ms\n",
      "639:\tlearn: 0.3259073\ttotal: 1.66s\tremaining: 935ms\n",
      "640:\tlearn: 0.3258358\ttotal: 1.66s\tremaining: 932ms\n",
      "641:\tlearn: 0.3256687\ttotal: 1.67s\tremaining: 930ms\n",
      "642:\tlearn: 0.3255156\ttotal: 1.67s\tremaining: 927ms\n",
      "643:\tlearn: 0.3253735\ttotal: 1.67s\tremaining: 924ms\n",
      "644:\tlearn: 0.3253247\ttotal: 1.67s\tremaining: 922ms\n",
      "645:\tlearn: 0.3252305\ttotal: 1.68s\tremaining: 919ms\n",
      "646:\tlearn: 0.3251474\ttotal: 1.68s\tremaining: 916ms\n",
      "647:\tlearn: 0.3250782\ttotal: 1.68s\tremaining: 913ms\n",
      "648:\tlearn: 0.3250057\ttotal: 1.68s\tremaining: 911ms\n",
      "649:\tlearn: 0.3249274\ttotal: 1.69s\tremaining: 908ms\n",
      "650:\tlearn: 0.3247903\ttotal: 1.69s\tremaining: 906ms\n",
      "651:\tlearn: 0.3247561\ttotal: 1.69s\tremaining: 903ms\n",
      "652:\tlearn: 0.3246700\ttotal: 1.69s\tremaining: 900ms\n",
      "653:\tlearn: 0.3246089\ttotal: 1.7s\tremaining: 897ms\n"
     ]
    },
    {
     "name": "stdout",
     "output_type": "stream",
     "text": [
      "654:\tlearn: 0.3245009\ttotal: 1.7s\tremaining: 896ms\n",
      "655:\tlearn: 0.3243865\ttotal: 1.7s\tremaining: 893ms\n",
      "656:\tlearn: 0.3242692\ttotal: 1.71s\tremaining: 890ms\n",
      "657:\tlearn: 0.3241544\ttotal: 1.71s\tremaining: 888ms\n",
      "658:\tlearn: 0.3240357\ttotal: 1.71s\tremaining: 885ms\n",
      "659:\tlearn: 0.3239153\ttotal: 1.71s\tremaining: 883ms\n",
      "660:\tlearn: 0.3237716\ttotal: 1.72s\tremaining: 880ms\n",
      "661:\tlearn: 0.3236618\ttotal: 1.72s\tremaining: 877ms\n",
      "662:\tlearn: 0.3235881\ttotal: 1.72s\tremaining: 875ms\n",
      "663:\tlearn: 0.3234853\ttotal: 1.72s\tremaining: 872ms\n",
      "664:\tlearn: 0.3233624\ttotal: 1.73s\tremaining: 870ms\n",
      "665:\tlearn: 0.3232750\ttotal: 1.73s\tremaining: 867ms\n",
      "666:\tlearn: 0.3232417\ttotal: 1.73s\tremaining: 864ms\n",
      "667:\tlearn: 0.3231376\ttotal: 1.73s\tremaining: 862ms\n",
      "668:\tlearn: 0.3229999\ttotal: 1.74s\tremaining: 859ms\n",
      "669:\tlearn: 0.3229070\ttotal: 1.74s\tremaining: 856ms\n",
      "670:\tlearn: 0.3227115\ttotal: 1.74s\tremaining: 854ms\n",
      "671:\tlearn: 0.3225886\ttotal: 1.74s\tremaining: 851ms\n",
      "672:\tlearn: 0.3225046\ttotal: 1.75s\tremaining: 848ms\n",
      "673:\tlearn: 0.3224217\ttotal: 1.75s\tremaining: 846ms\n",
      "674:\tlearn: 0.3222764\ttotal: 1.75s\tremaining: 844ms\n",
      "675:\tlearn: 0.3221816\ttotal: 1.75s\tremaining: 841ms\n",
      "676:\tlearn: 0.3221005\ttotal: 1.76s\tremaining: 838ms\n",
      "677:\tlearn: 0.3219844\ttotal: 1.76s\tremaining: 836ms\n"
     ]
    },
    {
     "name": "stdout",
     "output_type": "stream",
     "text": [
      "678:\tlearn: 0.3218780\ttotal: 1.76s\tremaining: 833ms\n",
      "679:\tlearn: 0.3217456\ttotal: 1.76s\tremaining: 831ms\n",
      "680:\tlearn: 0.3216324\ttotal: 1.77s\tremaining: 828ms\n",
      "681:\tlearn: 0.3215519\ttotal: 1.77s\tremaining: 825ms\n",
      "682:\tlearn: 0.3214134\ttotal: 1.77s\tremaining: 823ms\n",
      "683:\tlearn: 0.3213238\ttotal: 1.77s\tremaining: 820ms\n",
      "684:\tlearn: 0.3212644\ttotal: 1.78s\tremaining: 817ms\n",
      "685:\tlearn: 0.3211815\ttotal: 1.78s\tremaining: 815ms\n",
      "686:\tlearn: 0.3210806\ttotal: 1.78s\tremaining: 813ms\n",
      "687:\tlearn: 0.3209577\ttotal: 1.78s\tremaining: 810ms\n",
      "688:\tlearn: 0.3208482\ttotal: 1.79s\tremaining: 807ms\n",
      "689:\tlearn: 0.3207788\ttotal: 1.79s\tremaining: 805ms\n",
      "690:\tlearn: 0.3206424\ttotal: 1.79s\tremaining: 802ms\n",
      "691:\tlearn: 0.3205071\ttotal: 1.79s\tremaining: 799ms\n",
      "692:\tlearn: 0.3204311\ttotal: 1.8s\tremaining: 797ms\n",
      "693:\tlearn: 0.3203690\ttotal: 1.8s\tremaining: 794ms\n",
      "694:\tlearn: 0.3202792\ttotal: 1.8s\tremaining: 791ms\n",
      "695:\tlearn: 0.3201475\ttotal: 1.8s\tremaining: 788ms\n",
      "696:\tlearn: 0.3199843\ttotal: 1.81s\tremaining: 786ms\n",
      "697:\tlearn: 0.3199039\ttotal: 1.81s\tremaining: 783ms\n",
      "698:\tlearn: 0.3198082\ttotal: 1.81s\tremaining: 780ms\n",
      "699:\tlearn: 0.3196817\ttotal: 1.81s\tremaining: 777ms\n",
      "700:\tlearn: 0.3195887\ttotal: 1.82s\tremaining: 775ms\n",
      "701:\tlearn: 0.3195075\ttotal: 1.82s\tremaining: 772ms\n",
      "702:\tlearn: 0.3193675\ttotal: 1.82s\tremaining: 769ms\n",
      "703:\tlearn: 0.3192745\ttotal: 1.82s\tremaining: 767ms\n",
      "704:\tlearn: 0.3191329\ttotal: 1.82s\tremaining: 764ms\n",
      "705:\tlearn: 0.3190532\ttotal: 1.83s\tremaining: 761ms\n",
      "706:\tlearn: 0.3189581\ttotal: 1.83s\tremaining: 759ms\n",
      "707:\tlearn: 0.3188589\ttotal: 1.83s\tremaining: 756ms\n",
      "708:\tlearn: 0.3187670\ttotal: 1.84s\tremaining: 754ms\n",
      "709:\tlearn: 0.3185942\ttotal: 1.84s\tremaining: 751ms\n",
      "710:\tlearn: 0.3184718\ttotal: 1.84s\tremaining: 749ms\n",
      "711:\tlearn: 0.3183752\ttotal: 1.84s\tremaining: 746ms\n",
      "712:\tlearn: 0.3182810\ttotal: 1.85s\tremaining: 743ms\n",
      "713:\tlearn: 0.3181867\ttotal: 1.85s\tremaining: 741ms\n",
      "714:\tlearn: 0.3180244\ttotal: 1.85s\tremaining: 738ms\n",
      "715:\tlearn: 0.3179479\ttotal: 1.85s\tremaining: 735ms\n",
      "716:\tlearn: 0.3178500\ttotal: 1.85s\tremaining: 732ms\n",
      "717:\tlearn: 0.3177897\ttotal: 1.86s\tremaining: 730ms\n",
      "718:\tlearn: 0.3177312\ttotal: 1.86s\tremaining: 727ms\n",
      "719:\tlearn: 0.3176235\ttotal: 1.86s\tremaining: 724ms\n",
      "720:\tlearn: 0.3175467\ttotal: 1.86s\tremaining: 722ms\n",
      "721:\tlearn: 0.3174601\ttotal: 1.87s\tremaining: 719ms\n",
      "722:\tlearn: 0.3173603\ttotal: 1.87s\tremaining: 716ms\n",
      "723:\tlearn: 0.3173038\ttotal: 1.87s\tremaining: 714ms\n",
      "724:\tlearn: 0.3172041\ttotal: 1.88s\tremaining: 711ms\n",
      "725:\tlearn: 0.3171288\ttotal: 1.88s\tremaining: 709ms\n",
      "726:\tlearn: 0.3170151\ttotal: 1.88s\tremaining: 706ms\n",
      "727:\tlearn: 0.3169834\ttotal: 1.88s\tremaining: 703ms\n",
      "728:\tlearn: 0.3168841\ttotal: 1.89s\tremaining: 701ms\n",
      "729:\tlearn: 0.3167981\ttotal: 1.89s\tremaining: 698ms\n",
      "730:\tlearn: 0.3167203\ttotal: 1.89s\tremaining: 696ms\n",
      "731:\tlearn: 0.3165529\ttotal: 1.89s\tremaining: 693ms\n"
     ]
    },
    {
     "name": "stdout",
     "output_type": "stream",
     "text": [
      "732:\tlearn: 0.3164633\ttotal: 1.9s\tremaining: 690ms\n",
      "733:\tlearn: 0.3163319\ttotal: 1.9s\tremaining: 688ms\n",
      "734:\tlearn: 0.3162830\ttotal: 1.9s\tremaining: 685ms\n",
      "735:\tlearn: 0.3161805\ttotal: 1.9s\tremaining: 683ms\n",
      "736:\tlearn: 0.3160751\ttotal: 1.91s\tremaining: 680ms\n",
      "737:\tlearn: 0.3159690\ttotal: 1.91s\tremaining: 678ms\n",
      "738:\tlearn: 0.3158666\ttotal: 1.91s\tremaining: 676ms\n",
      "739:\tlearn: 0.3157961\ttotal: 1.92s\tremaining: 673ms\n",
      "740:\tlearn: 0.3157224\ttotal: 1.92s\tremaining: 671ms\n",
      "741:\tlearn: 0.3156450\ttotal: 1.92s\tremaining: 668ms\n",
      "742:\tlearn: 0.3155764\ttotal: 1.92s\tremaining: 665ms\n",
      "743:\tlearn: 0.3154693\ttotal: 1.93s\tremaining: 663ms\n",
      "744:\tlearn: 0.3153597\ttotal: 1.93s\tremaining: 660ms\n",
      "745:\tlearn: 0.3152662\ttotal: 1.93s\tremaining: 657ms\n",
      "746:\tlearn: 0.3151505\ttotal: 1.93s\tremaining: 655ms\n",
      "747:\tlearn: 0.3150705\ttotal: 1.94s\tremaining: 652ms\n",
      "748:\tlearn: 0.3150288\ttotal: 1.94s\tremaining: 649ms\n",
      "749:\tlearn: 0.3148859\ttotal: 1.94s\tremaining: 647ms\n",
      "750:\tlearn: 0.3147871\ttotal: 1.94s\tremaining: 645ms\n",
      "751:\tlearn: 0.3146967\ttotal: 1.95s\tremaining: 642ms\n",
      "752:\tlearn: 0.3146174\ttotal: 1.95s\tremaining: 639ms\n",
      "753:\tlearn: 0.3145163\ttotal: 1.95s\tremaining: 637ms\n",
      "754:\tlearn: 0.3144575\ttotal: 1.95s\tremaining: 634ms\n"
     ]
    },
    {
     "name": "stdout",
     "output_type": "stream",
     "text": [
      "755:\tlearn: 0.3143677\ttotal: 1.96s\tremaining: 631ms\n",
      "756:\tlearn: 0.3142680\ttotal: 1.96s\tremaining: 629ms\n",
      "757:\tlearn: 0.3141493\ttotal: 1.96s\tremaining: 626ms\n",
      "758:\tlearn: 0.3140907\ttotal: 1.96s\tremaining: 624ms\n",
      "759:\tlearn: 0.3140204\ttotal: 1.97s\tremaining: 621ms\n",
      "760:\tlearn: 0.3139432\ttotal: 1.97s\tremaining: 618ms\n",
      "761:\tlearn: 0.3138548\ttotal: 1.97s\tremaining: 616ms\n",
      "762:\tlearn: 0.3137519\ttotal: 1.97s\tremaining: 613ms\n",
      "763:\tlearn: 0.3136477\ttotal: 1.98s\tremaining: 611ms\n",
      "764:\tlearn: 0.3135746\ttotal: 1.98s\tremaining: 608ms\n",
      "765:\tlearn: 0.3135102\ttotal: 1.98s\tremaining: 605ms\n",
      "766:\tlearn: 0.3134171\ttotal: 1.98s\tremaining: 603ms\n",
      "767:\tlearn: 0.3132770\ttotal: 1.99s\tremaining: 600ms\n",
      "768:\tlearn: 0.3131698\ttotal: 1.99s\tremaining: 598ms\n",
      "769:\tlearn: 0.3130810\ttotal: 1.99s\tremaining: 595ms\n",
      "770:\tlearn: 0.3129577\ttotal: 2s\tremaining: 593ms\n",
      "771:\tlearn: 0.3128336\ttotal: 2s\tremaining: 590ms\n",
      "772:\tlearn: 0.3127647\ttotal: 2s\tremaining: 587ms\n",
      "773:\tlearn: 0.3126992\ttotal: 2s\tremaining: 585ms\n",
      "774:\tlearn: 0.3126380\ttotal: 2s\tremaining: 582ms\n",
      "775:\tlearn: 0.3125539\ttotal: 2.01s\tremaining: 579ms\n",
      "776:\tlearn: 0.3124427\ttotal: 2.01s\tremaining: 577ms\n",
      "777:\tlearn: 0.3123495\ttotal: 2.01s\tremaining: 574ms\n",
      "778:\tlearn: 0.3122487\ttotal: 2.01s\tremaining: 571ms\n",
      "779:\tlearn: 0.3121947\ttotal: 2.02s\tremaining: 569ms\n",
      "780:\tlearn: 0.3121577\ttotal: 2.02s\tremaining: 566ms\n",
      "781:\tlearn: 0.3121035\ttotal: 2.02s\tremaining: 563ms\n",
      "782:\tlearn: 0.3120071\ttotal: 2.02s\tremaining: 561ms\n",
      "783:\tlearn: 0.3119011\ttotal: 2.03s\tremaining: 558ms\n",
      "784:\tlearn: 0.3118120\ttotal: 2.03s\tremaining: 556ms\n",
      "785:\tlearn: 0.3116692\ttotal: 2.03s\tremaining: 553ms\n",
      "786:\tlearn: 0.3115861\ttotal: 2.03s\tremaining: 550ms\n",
      "787:\tlearn: 0.3115287\ttotal: 2.04s\tremaining: 548ms\n",
      "788:\tlearn: 0.3114082\ttotal: 2.04s\tremaining: 545ms\n",
      "789:\tlearn: 0.3113086\ttotal: 2.04s\tremaining: 543ms\n",
      "790:\tlearn: 0.3112474\ttotal: 2.04s\tremaining: 540ms\n",
      "791:\tlearn: 0.3111214\ttotal: 2.04s\tremaining: 537ms\n",
      "792:\tlearn: 0.3110065\ttotal: 2.05s\tremaining: 535ms\n",
      "793:\tlearn: 0.3109094\ttotal: 2.05s\tremaining: 532ms\n",
      "794:\tlearn: 0.3108505\ttotal: 2.05s\tremaining: 530ms\n",
      "795:\tlearn: 0.3107934\ttotal: 2.06s\tremaining: 527ms\n",
      "796:\tlearn: 0.3107138\ttotal: 2.06s\tremaining: 524ms\n",
      "797:\tlearn: 0.3106432\ttotal: 2.06s\tremaining: 522ms\n",
      "798:\tlearn: 0.3105406\ttotal: 2.06s\tremaining: 519ms\n",
      "799:\tlearn: 0.3104625\ttotal: 2.06s\tremaining: 516ms\n",
      "800:\tlearn: 0.3103820\ttotal: 2.07s\tremaining: 514ms\n",
      "801:\tlearn: 0.3103330\ttotal: 2.07s\tremaining: 511ms\n",
      "802:\tlearn: 0.3102746\ttotal: 2.07s\tremaining: 508ms\n",
      "803:\tlearn: 0.3102128\ttotal: 2.08s\tremaining: 506ms\n",
      "804:\tlearn: 0.3101175\ttotal: 2.08s\tremaining: 503ms\n",
      "805:\tlearn: 0.3099780\ttotal: 2.08s\tremaining: 501ms\n",
      "806:\tlearn: 0.3099007\ttotal: 2.08s\tremaining: 498ms\n",
      "807:\tlearn: 0.3098119\ttotal: 2.08s\tremaining: 495ms\n",
      "808:\tlearn: 0.3097376\ttotal: 2.09s\tremaining: 493ms\n",
      "809:\tlearn: 0.3096492\ttotal: 2.09s\tremaining: 490ms\n"
     ]
    },
    {
     "name": "stdout",
     "output_type": "stream",
     "text": [
      "810:\tlearn: 0.3095652\ttotal: 2.09s\tremaining: 488ms\n",
      "811:\tlearn: 0.3094803\ttotal: 2.09s\tremaining: 485ms\n",
      "812:\tlearn: 0.3094117\ttotal: 2.1s\tremaining: 482ms\n",
      "813:\tlearn: 0.3093328\ttotal: 2.1s\tremaining: 480ms\n",
      "814:\tlearn: 0.3091861\ttotal: 2.1s\tremaining: 477ms\n",
      "815:\tlearn: 0.3091502\ttotal: 2.1s\tremaining: 475ms\n",
      "816:\tlearn: 0.3090691\ttotal: 2.11s\tremaining: 472ms\n",
      "817:\tlearn: 0.3090127\ttotal: 2.11s\tremaining: 470ms\n",
      "818:\tlearn: 0.3089589\ttotal: 2.11s\tremaining: 467ms\n",
      "819:\tlearn: 0.3088899\ttotal: 2.12s\tremaining: 464ms\n",
      "820:\tlearn: 0.3088159\ttotal: 2.12s\tremaining: 462ms\n",
      "821:\tlearn: 0.3087270\ttotal: 2.12s\tremaining: 459ms\n",
      "822:\tlearn: 0.3086652\ttotal: 2.12s\tremaining: 457ms\n",
      "823:\tlearn: 0.3085732\ttotal: 2.13s\tremaining: 454ms\n",
      "824:\tlearn: 0.3084492\ttotal: 2.13s\tremaining: 451ms\n",
      "825:\tlearn: 0.3083702\ttotal: 2.13s\tremaining: 449ms\n",
      "826:\tlearn: 0.3083227\ttotal: 2.13s\tremaining: 446ms\n",
      "827:\tlearn: 0.3082488\ttotal: 2.13s\tremaining: 444ms\n",
      "828:\tlearn: 0.3081185\ttotal: 2.14s\tremaining: 441ms\n",
      "829:\tlearn: 0.3080178\ttotal: 2.14s\tremaining: 438ms\n",
      "830:\tlearn: 0.3079336\ttotal: 2.14s\tremaining: 436ms\n",
      "831:\tlearn: 0.3078420\ttotal: 2.14s\tremaining: 433ms\n",
      "832:\tlearn: 0.3077648\ttotal: 2.15s\tremaining: 430ms\n",
      "833:\tlearn: 0.3076804\ttotal: 2.15s\tremaining: 428ms\n"
     ]
    },
    {
     "name": "stdout",
     "output_type": "stream",
     "text": [
      "834:\tlearn: 0.3075994\ttotal: 2.15s\tremaining: 425ms\n",
      "835:\tlearn: 0.3074782\ttotal: 2.15s\tremaining: 423ms\n",
      "836:\tlearn: 0.3074183\ttotal: 2.16s\tremaining: 420ms\n",
      "837:\tlearn: 0.3073545\ttotal: 2.16s\tremaining: 418ms\n",
      "838:\tlearn: 0.3072620\ttotal: 2.16s\tremaining: 415ms\n",
      "839:\tlearn: 0.3071713\ttotal: 2.16s\tremaining: 412ms\n",
      "840:\tlearn: 0.3071332\ttotal: 2.17s\tremaining: 410ms\n",
      "841:\tlearn: 0.3070291\ttotal: 2.17s\tremaining: 407ms\n",
      "842:\tlearn: 0.3068817\ttotal: 2.17s\tremaining: 404ms\n",
      "843:\tlearn: 0.3068505\ttotal: 2.17s\tremaining: 402ms\n",
      "844:\tlearn: 0.3067810\ttotal: 2.18s\tremaining: 399ms\n",
      "845:\tlearn: 0.3067461\ttotal: 2.18s\tremaining: 397ms\n",
      "846:\tlearn: 0.3067055\ttotal: 2.18s\tremaining: 394ms\n",
      "847:\tlearn: 0.3066638\ttotal: 2.18s\tremaining: 391ms\n",
      "848:\tlearn: 0.3065973\ttotal: 2.19s\tremaining: 389ms\n",
      "849:\tlearn: 0.3064905\ttotal: 2.19s\tremaining: 386ms\n",
      "850:\tlearn: 0.3063857\ttotal: 2.19s\tremaining: 384ms\n",
      "851:\tlearn: 0.3063115\ttotal: 2.19s\tremaining: 381ms\n",
      "852:\tlearn: 0.3062456\ttotal: 2.19s\tremaining: 378ms\n",
      "853:\tlearn: 0.3061884\ttotal: 2.2s\tremaining: 376ms\n",
      "854:\tlearn: 0.3061308\ttotal: 2.2s\tremaining: 373ms\n",
      "855:\tlearn: 0.3060042\ttotal: 2.2s\tremaining: 371ms\n",
      "856:\tlearn: 0.3059618\ttotal: 2.21s\tremaining: 368ms\n",
      "857:\tlearn: 0.3059300\ttotal: 2.21s\tremaining: 365ms\n",
      "858:\tlearn: 0.3058640\ttotal: 2.21s\tremaining: 363ms\n",
      "859:\tlearn: 0.3057818\ttotal: 2.21s\tremaining: 360ms\n",
      "860:\tlearn: 0.3057238\ttotal: 2.21s\tremaining: 358ms\n",
      "861:\tlearn: 0.3056175\ttotal: 2.22s\tremaining: 355ms\n",
      "862:\tlearn: 0.3055426\ttotal: 2.22s\tremaining: 352ms\n",
      "863:\tlearn: 0.3054769\ttotal: 2.22s\tremaining: 350ms\n",
      "864:\tlearn: 0.3053606\ttotal: 2.22s\tremaining: 347ms\n",
      "865:\tlearn: 0.3052871\ttotal: 2.23s\tremaining: 345ms\n",
      "866:\tlearn: 0.3052179\ttotal: 2.23s\tremaining: 342ms\n",
      "867:\tlearn: 0.3051640\ttotal: 2.23s\tremaining: 339ms\n",
      "868:\tlearn: 0.3050994\ttotal: 2.23s\tremaining: 337ms\n",
      "869:\tlearn: 0.3050355\ttotal: 2.24s\tremaining: 334ms\n",
      "870:\tlearn: 0.3049672\ttotal: 2.24s\tremaining: 331ms\n",
      "871:\tlearn: 0.3049003\ttotal: 2.24s\tremaining: 329ms\n",
      "872:\tlearn: 0.3047812\ttotal: 2.24s\tremaining: 326ms\n",
      "873:\tlearn: 0.3047529\ttotal: 2.24s\tremaining: 324ms\n",
      "874:\tlearn: 0.3046258\ttotal: 2.25s\tremaining: 321ms\n",
      "875:\tlearn: 0.3045481\ttotal: 2.25s\tremaining: 318ms\n",
      "876:\tlearn: 0.3044436\ttotal: 2.25s\tremaining: 316ms\n",
      "877:\tlearn: 0.3043613\ttotal: 2.25s\tremaining: 313ms\n",
      "878:\tlearn: 0.3042146\ttotal: 2.26s\tremaining: 311ms\n",
      "879:\tlearn: 0.3041299\ttotal: 2.26s\tremaining: 308ms\n",
      "880:\tlearn: 0.3040711\ttotal: 2.26s\tremaining: 306ms\n",
      "881:\tlearn: 0.3039991\ttotal: 2.27s\tremaining: 303ms\n",
      "882:\tlearn: 0.3039083\ttotal: 2.27s\tremaining: 301ms\n",
      "883:\tlearn: 0.3038550\ttotal: 2.27s\tremaining: 298ms\n",
      "884:\tlearn: 0.3037650\ttotal: 2.27s\tremaining: 295ms\n",
      "885:\tlearn: 0.3036558\ttotal: 2.27s\tremaining: 293ms\n",
      "886:\tlearn: 0.3035998\ttotal: 2.28s\tremaining: 290ms\n",
      "887:\tlearn: 0.3035577\ttotal: 2.28s\tremaining: 288ms\n",
      "888:\tlearn: 0.3034633\ttotal: 2.28s\tremaining: 285ms\n",
      "889:\tlearn: 0.3033499\ttotal: 2.28s\tremaining: 282ms\n"
     ]
    },
    {
     "name": "stdout",
     "output_type": "stream",
     "text": [
      "890:\tlearn: 0.3032766\ttotal: 2.29s\tremaining: 280ms\n",
      "891:\tlearn: 0.3032202\ttotal: 2.29s\tremaining: 277ms\n",
      "892:\tlearn: 0.3030987\ttotal: 2.29s\tremaining: 275ms\n",
      "893:\tlearn: 0.3030180\ttotal: 2.29s\tremaining: 272ms\n",
      "894:\tlearn: 0.3029541\ttotal: 2.3s\tremaining: 270ms\n",
      "895:\tlearn: 0.3028942\ttotal: 2.3s\tremaining: 267ms\n",
      "896:\tlearn: 0.3028053\ttotal: 2.3s\tremaining: 264ms\n",
      "897:\tlearn: 0.3027220\ttotal: 2.3s\tremaining: 262ms\n",
      "898:\tlearn: 0.3026051\ttotal: 2.31s\tremaining: 259ms\n",
      "899:\tlearn: 0.3025044\ttotal: 2.31s\tremaining: 257ms\n",
      "900:\tlearn: 0.3024429\ttotal: 2.31s\tremaining: 254ms\n",
      "901:\tlearn: 0.3024109\ttotal: 2.31s\tremaining: 252ms\n",
      "902:\tlearn: 0.3023108\ttotal: 2.32s\tremaining: 249ms\n",
      "903:\tlearn: 0.3022753\ttotal: 2.32s\tremaining: 246ms\n",
      "904:\tlearn: 0.3022063\ttotal: 2.32s\tremaining: 244ms\n",
      "905:\tlearn: 0.3021428\ttotal: 2.32s\tremaining: 241ms\n",
      "906:\tlearn: 0.3020633\ttotal: 2.33s\tremaining: 239ms\n",
      "907:\tlearn: 0.3020119\ttotal: 2.33s\tremaining: 236ms\n",
      "908:\tlearn: 0.3019250\ttotal: 2.33s\tremaining: 233ms\n",
      "909:\tlearn: 0.3018722\ttotal: 2.33s\tremaining: 231ms\n",
      "910:\tlearn: 0.3017650\ttotal: 2.34s\tremaining: 228ms\n",
      "911:\tlearn: 0.3016842\ttotal: 2.34s\tremaining: 226ms\n",
      "912:\tlearn: 0.3015857\ttotal: 2.34s\tremaining: 223ms\n",
      "913:\tlearn: 0.3014815\ttotal: 2.35s\tremaining: 221ms\n"
     ]
    },
    {
     "name": "stdout",
     "output_type": "stream",
     "text": [
      "914:\tlearn: 0.3014498\ttotal: 2.35s\tremaining: 218ms\n",
      "915:\tlearn: 0.3013827\ttotal: 2.35s\tremaining: 216ms\n",
      "916:\tlearn: 0.3012900\ttotal: 2.35s\tremaining: 213ms\n",
      "917:\tlearn: 0.3012360\ttotal: 2.35s\tremaining: 210ms\n",
      "918:\tlearn: 0.3011486\ttotal: 2.36s\tremaining: 208ms\n",
      "919:\tlearn: 0.3010426\ttotal: 2.36s\tremaining: 205ms\n",
      "920:\tlearn: 0.3009879\ttotal: 2.36s\tremaining: 203ms\n",
      "921:\tlearn: 0.3008898\ttotal: 2.37s\tremaining: 200ms\n",
      "922:\tlearn: 0.3008223\ttotal: 2.37s\tremaining: 198ms\n",
      "923:\tlearn: 0.3006419\ttotal: 2.37s\tremaining: 195ms\n",
      "924:\tlearn: 0.3005809\ttotal: 2.37s\tremaining: 192ms\n",
      "925:\tlearn: 0.3005146\ttotal: 2.38s\tremaining: 190ms\n",
      "926:\tlearn: 0.3004155\ttotal: 2.38s\tremaining: 187ms\n",
      "927:\tlearn: 0.3002834\ttotal: 2.38s\tremaining: 185ms\n",
      "928:\tlearn: 0.3002143\ttotal: 2.38s\tremaining: 182ms\n",
      "929:\tlearn: 0.3001733\ttotal: 2.38s\tremaining: 180ms\n",
      "930:\tlearn: 0.3000754\ttotal: 2.39s\tremaining: 177ms\n",
      "931:\tlearn: 0.3000251\ttotal: 2.39s\tremaining: 174ms\n",
      "932:\tlearn: 0.2999591\ttotal: 2.39s\tremaining: 172ms\n",
      "933:\tlearn: 0.2998738\ttotal: 2.4s\tremaining: 169ms\n",
      "934:\tlearn: 0.2997827\ttotal: 2.4s\tremaining: 167ms\n",
      "935:\tlearn: 0.2996847\ttotal: 2.4s\tremaining: 164ms\n",
      "936:\tlearn: 0.2995193\ttotal: 2.4s\tremaining: 162ms\n",
      "937:\tlearn: 0.2994591\ttotal: 2.4s\tremaining: 159ms\n",
      "938:\tlearn: 0.2993474\ttotal: 2.41s\tremaining: 156ms\n",
      "939:\tlearn: 0.2992747\ttotal: 2.41s\tremaining: 154ms\n",
      "940:\tlearn: 0.2992185\ttotal: 2.41s\tremaining: 151ms\n",
      "941:\tlearn: 0.2991963\ttotal: 2.41s\tremaining: 149ms\n",
      "942:\tlearn: 0.2991155\ttotal: 2.42s\tremaining: 146ms\n",
      "943:\tlearn: 0.2990893\ttotal: 2.42s\tremaining: 144ms\n",
      "944:\tlearn: 0.2989669\ttotal: 2.42s\tremaining: 141ms\n",
      "945:\tlearn: 0.2988693\ttotal: 2.42s\tremaining: 138ms\n",
      "946:\tlearn: 0.2988051\ttotal: 2.43s\tremaining: 136ms\n",
      "947:\tlearn: 0.2987172\ttotal: 2.43s\tremaining: 133ms\n",
      "948:\tlearn: 0.2986500\ttotal: 2.43s\tremaining: 131ms\n",
      "949:\tlearn: 0.2985873\ttotal: 2.44s\tremaining: 128ms\n",
      "950:\tlearn: 0.2984989\ttotal: 2.44s\tremaining: 126ms\n",
      "951:\tlearn: 0.2984354\ttotal: 2.44s\tremaining: 123ms\n",
      "952:\tlearn: 0.2983021\ttotal: 2.44s\tremaining: 120ms\n",
      "953:\tlearn: 0.2982540\ttotal: 2.44s\tremaining: 118ms\n",
      "954:\tlearn: 0.2981662\ttotal: 2.45s\tremaining: 115ms\n",
      "955:\tlearn: 0.2980740\ttotal: 2.45s\tremaining: 113ms\n",
      "956:\tlearn: 0.2980307\ttotal: 2.45s\tremaining: 110ms\n",
      "957:\tlearn: 0.2979812\ttotal: 2.46s\tremaining: 108ms\n",
      "958:\tlearn: 0.2979019\ttotal: 2.46s\tremaining: 105ms\n",
      "959:\tlearn: 0.2978524\ttotal: 2.46s\tremaining: 103ms\n",
      "960:\tlearn: 0.2978080\ttotal: 2.46s\tremaining: 99.9ms\n",
      "961:\tlearn: 0.2977047\ttotal: 2.46s\tremaining: 97.4ms\n",
      "962:\tlearn: 0.2976507\ttotal: 2.47s\tremaining: 94.8ms\n",
      "963:\tlearn: 0.2975826\ttotal: 2.47s\tremaining: 92.3ms\n",
      "964:\tlearn: 0.2975354\ttotal: 2.47s\tremaining: 89.7ms\n",
      "965:\tlearn: 0.2974302\ttotal: 2.48s\tremaining: 87.2ms\n",
      "966:\tlearn: 0.2973490\ttotal: 2.48s\tremaining: 84.6ms\n",
      "967:\tlearn: 0.2972563\ttotal: 2.48s\tremaining: 82ms\n"
     ]
    },
    {
     "name": "stdout",
     "output_type": "stream",
     "text": [
      "968:\tlearn: 0.2972045\ttotal: 2.48s\tremaining: 79.5ms\n",
      "969:\tlearn: 0.2971394\ttotal: 2.49s\tremaining: 76.9ms\n",
      "970:\tlearn: 0.2970725\ttotal: 2.49s\tremaining: 74.3ms\n",
      "971:\tlearn: 0.2970169\ttotal: 2.49s\tremaining: 71.8ms\n",
      "972:\tlearn: 0.2968454\ttotal: 2.49s\tremaining: 69.2ms\n",
      "973:\tlearn: 0.2967708\ttotal: 2.5s\tremaining: 66.6ms\n",
      "974:\tlearn: 0.2966643\ttotal: 2.5s\tremaining: 64.1ms\n",
      "975:\tlearn: 0.2965981\ttotal: 2.5s\tremaining: 61.5ms\n",
      "976:\tlearn: 0.2965388\ttotal: 2.5s\tremaining: 58.9ms\n",
      "977:\tlearn: 0.2964816\ttotal: 2.51s\tremaining: 56.4ms\n",
      "978:\tlearn: 0.2964205\ttotal: 2.51s\tremaining: 53.9ms\n",
      "979:\tlearn: 0.2963359\ttotal: 2.51s\tremaining: 51.3ms\n",
      "980:\tlearn: 0.2962036\ttotal: 2.52s\tremaining: 48.7ms\n",
      "981:\tlearn: 0.2961071\ttotal: 2.52s\tremaining: 46.2ms\n",
      "982:\tlearn: 0.2960449\ttotal: 2.52s\tremaining: 43.6ms\n",
      "983:\tlearn: 0.2959910\ttotal: 2.52s\tremaining: 41ms\n",
      "984:\tlearn: 0.2959440\ttotal: 2.52s\tremaining: 38.5ms\n",
      "985:\tlearn: 0.2958796\ttotal: 2.53s\tremaining: 35.9ms\n",
      "986:\tlearn: 0.2957819\ttotal: 2.53s\tremaining: 33.3ms\n",
      "987:\tlearn: 0.2957091\ttotal: 2.53s\tremaining: 30.8ms\n",
      "988:\tlearn: 0.2956556\ttotal: 2.54s\tremaining: 28.2ms\n",
      "989:\tlearn: 0.2955599\ttotal: 2.54s\tremaining: 25.6ms\n",
      "990:\tlearn: 0.2954303\ttotal: 2.54s\tremaining: 23.1ms\n"
     ]
    },
    {
     "name": "stdout",
     "output_type": "stream",
     "text": [
      "991:\tlearn: 0.2953736\ttotal: 2.54s\tremaining: 20.5ms\n",
      "992:\tlearn: 0.2953214\ttotal: 2.54s\tremaining: 17.9ms\n",
      "993:\tlearn: 0.2952309\ttotal: 2.55s\tremaining: 15.4ms\n",
      "994:\tlearn: 0.2951293\ttotal: 2.55s\tremaining: 12.8ms\n",
      "995:\tlearn: 0.2950479\ttotal: 2.55s\tremaining: 10.3ms\n",
      "996:\tlearn: 0.2950118\ttotal: 2.56s\tremaining: 7.69ms\n",
      "997:\tlearn: 0.2949730\ttotal: 2.56s\tremaining: 5.13ms\n",
      "998:\tlearn: 0.2949107\ttotal: 2.56s\tremaining: 2.56ms\n",
      "999:\tlearn: 0.2948592\ttotal: 2.56s\tremaining: 0us\n",
      "Mean Squared error 0.1500765238263208\n"
     ]
    },
    {
     "data": {
      "application/scrapbook.scrap.json+json": {
       "data": 0.1500765238263208,
       "encoder": "json",
       "name": "Catboost MSE",
       "version": 1
      }
     },
     "metadata": {
      "scrapbook": {
       "data": true,
       "display": false,
       "name": "Catboost MSE"
      }
     },
     "output_type": "display_data"
    }
   ],
   "source": [
    "mse_cb = baselineModels.catboost(X_train,y_train,X_test,y_test)\n",
    "#Store MSE Value \n",
    "sb.glue(\"Catboost MSE\",mse_cb)"
   ]
  },
  {
   "cell_type": "markdown",
   "id": "d142012e",
   "metadata": {
    "papermill": {
     "duration": 0.010453,
     "end_time": "2021-12-24T13:38:27.550562",
     "exception": false,
     "start_time": "2021-12-24T13:38:27.540109",
     "status": "completed"
    },
    "tags": []
   },
   "source": [
    "## Vanilla Neural Network "
   ]
  },
  {
   "cell_type": "code",
   "execution_count": 8,
   "id": "05112062",
   "metadata": {
    "execution": {
     "iopub.execute_input": "2021-12-24T13:38:27.574283Z",
     "iopub.status.busy": "2021-12-24T13:38:27.573901Z",
     "iopub.status.idle": "2021-12-24T13:43:13.878930Z",
     "shell.execute_reply": "2021-12-24T13:43:13.878655Z"
    },
    "papermill": {
     "duration": 286.318265,
     "end_time": "2021-12-24T13:43:13.879043",
     "exception": false,
     "start_time": "2021-12-24T13:38:27.560778",
     "status": "completed"
    },
    "tags": []
   },
   "outputs": [
    {
     "data": {
      "application/scrapbook.scrap.json+json": {
       "data": 1.0036873290305757,
       "encoder": "json",
       "name": "Vanilla NN MSE",
       "version": 1
      }
     },
     "metadata": {
      "scrapbook": {
       "data": true,
       "display": false,
       "name": "Vanilla NN MSE"
      }
     },
     "output_type": "display_data"
    },
    {
     "name": "stdout",
     "output_type": "stream",
     "text": [
      "Mean Squared error 1.0036873290305757\n"
     ]
    }
   ],
   "source": [
    "# Parameters \n",
    "n_epochs = 1000\n",
    "batch_size = 1000\n",
    "device = torch.device('cuda' if torch.cuda.is_available() else 'cpu')\n",
    "baselineModels.vanillaNeuralNetwork(train_data,test_data,batch_size,n_features,n_target,n_epochs)"
   ]
  }
 ],
 "metadata": {
  "interpreter": {
   "hash": "10498c76ddd8160350534c6544a2b2fb65f2138dbc70420f7c81a3268f830f23"
  },
  "kernelspec": {
   "display_name": "Python 3 (ipykernel)",
   "language": "python",
   "name": "python3"
  },
  "language_info": {
   "codemirror_mode": {
    "name": "ipython",
    "version": 3
   },
   "file_extension": ".py",
   "mimetype": "text/x-python",
   "name": "python",
   "nbconvert_exporter": "python",
   "pygments_lexer": "ipython3",
   "version": "3.8.11"
  },
  "papermill": {
   "default_parameters": {},
   "duration": 294.623346,
   "end_time": "2021-12-24T13:43:14.197403",
   "environment_variables": {},
   "exception": null,
   "input_path": "BaselineModels.ipynb",
   "output_path": "./BaseLine_Model_Output/baselineModels_output_8.ipynb",
   "parameters": {},
   "start_time": "2021-12-24T13:38:19.574057",
   "version": "2.3.3"
  }
 },
 "nbformat": 4,
 "nbformat_minor": 5
}