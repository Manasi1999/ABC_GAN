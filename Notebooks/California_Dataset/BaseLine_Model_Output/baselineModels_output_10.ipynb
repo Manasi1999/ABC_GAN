{
 "cells": [
  {
   "cell_type": "markdown",
   "id": "e5ef5c7e",
   "metadata": {
    "papermill": {
     "duration": 0.01922,
     "end_time": "2021-12-24T13:48:08.501278",
     "exception": false,
     "start_time": "2021-12-24T13:48:08.482058",
     "status": "completed"
    },
    "tags": []
   },
   "source": [
    "## Import Libraries "
   ]
  },
  {
   "cell_type": "code",
   "execution_count": 1,
   "id": "19de2af6",
   "metadata": {
    "execution": {
     "iopub.execute_input": "2021-12-24T13:48:08.536951Z",
     "iopub.status.busy": "2021-12-24T13:48:08.536220Z",
     "iopub.status.idle": "2021-12-24T13:48:08.539804Z",
     "shell.execute_reply": "2021-12-24T13:48:08.540280Z"
    },
    "papermill": {
     "duration": 0.025738,
     "end_time": "2021-12-24T13:48:08.540587",
     "exception": false,
     "start_time": "2021-12-24T13:48:08.514849",
     "status": "completed"
    },
    "tags": []
   },
   "outputs": [],
   "source": [
    "import warnings\n",
    "import sys\n",
    "sys.path.insert(0, '../../src')\n",
    "warnings.filterwarnings('ignore')"
   ]
  },
  {
   "cell_type": "code",
   "execution_count": 2,
   "id": "0192ff7b",
   "metadata": {
    "execution": {
     "iopub.execute_input": "2021-12-24T13:48:08.557903Z",
     "iopub.status.busy": "2021-12-24T13:48:08.557343Z",
     "iopub.status.idle": "2021-12-24T13:48:10.659482Z",
     "shell.execute_reply": "2021-12-24T13:48:10.659745Z"
    },
    "papermill": {
     "duration": 2.111889,
     "end_time": "2021-12-24T13:48:10.659874",
     "exception": false,
     "start_time": "2021-12-24T13:48:08.547985",
     "status": "completed"
    },
    "tags": []
   },
   "outputs": [],
   "source": [
    "import baselineModels\n",
    "import scrapbook as sb \n",
    "import torch \n",
    "import statsModel\n",
    "import californiaDataset\n",
    "import dataset \n",
    "from torch.utils.data import random_split \n",
    "from sklearn.model_selection import train_test_split"
   ]
  },
  {
   "cell_type": "markdown",
   "id": "0cd87bfc",
   "metadata": {
    "papermill": {
     "duration": 0.018803,
     "end_time": "2021-12-24T13:48:10.689601",
     "exception": false,
     "start_time": "2021-12-24T13:48:10.670798",
     "status": "completed"
    },
    "tags": []
   },
   "source": [
    "## Import Dataset \n"
   ]
  },
  {
   "cell_type": "code",
   "execution_count": 3,
   "id": "a2acf102",
   "metadata": {
    "execution": {
     "iopub.execute_input": "2021-12-24T13:48:10.748873Z",
     "iopub.status.busy": "2021-12-24T13:48:10.748390Z",
     "iopub.status.idle": "2021-12-24T13:48:10.767761Z",
     "shell.execute_reply": "2021-12-24T13:48:10.768011Z"
    },
    "papermill": {
     "duration": 0.059752,
     "end_time": "2021-12-24T13:48:10.768140",
     "exception": false,
     "start_time": "2021-12-24T13:48:10.708388",
     "status": "completed"
    },
    "tags": []
   },
   "outputs": [
    {
     "name": "stdout",
     "output_type": "stream",
     "text": [
      "       X1    X2        X3        X4      X5        X6     X7      X8      Y\n",
      "0  8.3252  41.0  6.984127  1.023810   322.0  2.555556  37.88 -122.23  4.526\n",
      "1  8.3014  21.0  6.238137  0.971880  2401.0  2.109842  37.86 -122.22  3.585\n",
      "2  7.2574  52.0  8.288136  1.073446   496.0  2.802260  37.85 -122.24  3.521\n",
      "3  5.6431  52.0  5.817352  1.073059   558.0  2.547945  37.85 -122.25  3.413\n",
      "4  3.8462  52.0  6.281853  1.081081   565.0  2.181467  37.85 -122.25  3.422\n"
     ]
    }
   ],
   "source": [
    "X,Y = californiaDataset.california_data()\n",
    "n_features = 8 \n",
    "n_samples = 20640\n",
    "n_target = 1 "
   ]
  },
  {
   "cell_type": "code",
   "execution_count": 4,
   "id": "518914d0",
   "metadata": {
    "execution": {
     "iopub.execute_input": "2021-12-24T13:48:10.779564Z",
     "iopub.status.busy": "2021-12-24T13:48:10.779089Z",
     "iopub.status.idle": "2021-12-24T13:48:10.782594Z",
     "shell.execute_reply": "2021-12-24T13:48:10.782836Z"
    },
    "papermill": {
     "duration": 0.010599,
     "end_time": "2021-12-24T13:48:10.782957",
     "exception": false,
     "start_time": "2021-12-24T13:48:10.772358",
     "status": "completed"
    },
    "tags": []
   },
   "outputs": [],
   "source": [
    "# Train test split for dataset \n",
    "real_dataset = dataset.CustomDataset(X,Y)\n",
    "train_size = round(0.8 * n_samples)\n",
    "test_size = n_samples - train_size\n",
    "train_data, test_data = random_split(real_dataset,[train_size,test_size])\n",
    "X_train, X_test, y_train, y_test = train_test_split(X, Y, test_size=0.2)"
   ]
  },
  {
   "cell_type": "markdown",
   "id": "f2cb29b5",
   "metadata": {
    "papermill": {
     "duration": 0.003725,
     "end_time": "2021-12-24T13:48:10.790606",
     "exception": false,
     "start_time": "2021-12-24T13:48:10.786881",
     "status": "completed"
    },
    "tags": []
   },
   "source": [
    "## Stats Model "
   ]
  },
  {
   "cell_type": "code",
   "execution_count": 5,
   "id": "303416c8",
   "metadata": {
    "execution": {
     "iopub.execute_input": "2021-12-24T13:48:10.800720Z",
     "iopub.status.busy": "2021-12-24T13:48:10.800252Z",
     "iopub.status.idle": "2021-12-24T13:48:10.916358Z",
     "shell.execute_reply": "2021-12-24T13:48:10.916676Z"
    },
    "papermill": {
     "duration": 0.122494,
     "end_time": "2021-12-24T13:48:10.916806",
     "exception": false,
     "start_time": "2021-12-24T13:48:10.794312",
     "status": "completed"
    },
    "tags": []
   },
   "outputs": [
    {
     "name": "stderr",
     "output_type": "stream",
     "text": [
      "No handles with labels found to put in legend.\n"
     ]
    },
    {
     "name": "stdout",
     "output_type": "stream",
     "text": [
      "                                 OLS Regression Results                                \n",
      "=======================================================================================\n",
      "Dep. Variable:                      Y   R-squared (uncentered):                   0.607\n",
      "Model:                            OLS   Adj. R-squared (uncentered):              0.607\n",
      "Method:                 Least Squares   F-statistic:                              3183.\n",
      "Date:                Fri, 24 Dec 2021   Prob (F-statistic):                        0.00\n",
      "Time:                        19:18:10   Log-Likelihood:                         -15783.\n",
      "No. Observations:               16512   AIC:                                  3.158e+04\n",
      "Df Residuals:                   16504   BIC:                                  3.164e+04\n",
      "Df Model:                           8                                                  \n",
      "Covariance Type:            nonrobust                                                  \n",
      "==============================================================================\n",
      "                 coef    std err          t      P>|t|      [0.025      0.975]\n",
      "------------------------------------------------------------------------------\n",
      "x1             0.7357      0.008     93.038      0.000       0.720       0.751\n",
      "x2             0.1013      0.005     18.590      0.000       0.091       0.112\n",
      "x3            -0.2770      0.015    -18.699      0.000      -0.306      -0.248\n",
      "x4             0.3191      0.014     23.199      0.000       0.292       0.346\n",
      "x5            -0.0056      0.005     -1.083      0.279      -0.016       0.005\n",
      "x6            -0.0311      0.004     -7.054      0.000      -0.040      -0.022\n",
      "x7            -0.7712      0.015    -51.365      0.000      -0.801      -0.742\n",
      "x8            -0.7442      0.015    -50.488      0.000      -0.773      -0.715\n",
      "==============================================================================\n",
      "Omnibus:                     3461.454   Durbin-Watson:                   2.000\n",
      "Prob(Omnibus):                  0.000   Jarque-Bera (JB):             9667.722\n",
      "Skew:                           1.112   Prob(JB):                         0.00\n",
      "Kurtosis:                       6.017   Cond. No.                         6.71\n",
      "==============================================================================\n",
      "\n",
      "Notes:\n",
      "[1] R² is computed without centering (uncentered) since the model does not contain a constant.\n",
      "[2] Standard Errors assume that the covariance matrix of the errors is correctly specified.\n",
      "Parameters:  x1    0.735693\n",
      "x2    0.101328\n",
      "x3   -0.276982\n",
      "x4    0.319081\n",
      "x5   -0.005624\n",
      "x6   -0.031092\n",
      "x7   -0.771249\n",
      "x8   -0.744238\n",
      "dtype: float64\n"
     ]
    },
    {
     "data": {
      "image/png": "[encoded data removed]",
      "text/plain": [
       "<Figure size 432x288 with 1 Axes>"
      ]
     },
     "metadata": {
      "needs_background": "light"
     },
     "output_type": "display_data"
    },
    {
     "name": "stdout",
     "output_type": "stream",
     "text": [
      "Performance Metrics\n",
      "Mean Squared Error: 0.3870953048464356\n",
      "Mean Absolute Error: 0.45146145531630194\n",
      "Manhattan distance: 1863.6328875456934\n",
      "Euclidean distance: 39.97410935100483\n"
     ]
    },
    {
     "data": {
      "application/scrapbook.scrap.json+json": {
       "data": 0.3870953048464356,
       "encoder": "json",
       "name": "Stats Model MSE",
       "version": 1
      }
     },
     "metadata": {
      "scrapbook": {
       "data": true,
       "display": false,
       "name": "Stats Model MSE"
      }
     },
     "output_type": "display_data"
    },
    {
     "data": {
      "application/scrapbook.scrap.json+json": {
       "data": 0.45146145531630194,
       "encoder": "json",
       "name": "Stats Model MAE",
       "version": 1
      }
     },
     "metadata": {
      "scrapbook": {
       "data": true,
       "display": false,
       "name": "Stats Model MAE"
      }
     },
     "output_type": "display_data"
    },
    {
     "data": {
      "application/scrapbook.scrap.json+json": {
       "data": 1863.6328875456934,
       "encoder": "json",
       "name": "Stats Model Manhattan Distance",
       "version": 1
      }
     },
     "metadata": {
      "scrapbook": {
       "data": true,
       "display": false,
       "name": "Stats Model Manhattan Distance"
      }
     },
     "output_type": "display_data"
    },
    {
     "data": {
      "application/scrapbook.scrap.json+json": {
       "data": 39.97410935100483,
       "encoder": "json",
       "name": "Stats Model Euclidean distance",
       "version": 1
      }
     },
     "metadata": {
      "scrapbook": {
       "data": true,
       "display": false,
       "name": "Stats Model Euclidean distance"
      }
     },
     "output_type": "display_data"
    },
    {
     "data": {
      "application/scrapbook.scrap.json+json": {
       "data": [
        0.7356934144019749,
        0.10132801492481282,
        -0.27698157040967186,
        0.3190805674816525,
        -0.005624465425312465,
        -0.031091510972056906,
        -0.7712493895330794,
        -0.7442378568208312
       ],
       "encoder": "json",
       "name": "Coefficients",
       "version": 1
      }
     },
     "metadata": {
      "scrapbook": {
       "data": true,
       "display": false,
       "name": "Coefficients"
      }
     },
     "output_type": "display_data"
    }
   ],
   "source": [
    "[coeff,y_pred] = statsModel.statsModel(X,Y)\n",
    "\n",
    "#Store Coefficients \n",
    "sb.glue(\"Coefficients\",coeff)"
   ]
  },
  {
   "cell_type": "markdown",
   "id": "7f3efcdc",
   "metadata": {
    "papermill": {
     "duration": 0.005789,
     "end_time": "2021-12-24T13:48:10.928784",
     "exception": false,
     "start_time": "2021-12-24T13:48:10.922995",
     "status": "completed"
    },
    "tags": []
   },
   "source": [
    "## Random Forest "
   ]
  },
  {
   "cell_type": "code",
   "execution_count": 6,
   "id": "23029530",
   "metadata": {
    "execution": {
     "iopub.execute_input": "2021-12-24T13:48:10.959452Z",
     "iopub.status.busy": "2021-12-24T13:48:10.959018Z",
     "iopub.status.idle": "2021-12-24T13:48:13.185224Z",
     "shell.execute_reply": "2021-12-24T13:48:13.185483Z"
    },
    "papermill": {
     "duration": 2.251108,
     "end_time": "2021-12-24T13:48:13.185623",
     "exception": false,
     "start_time": "2021-12-24T13:48:10.934515",
     "status": "completed"
    },
    "tags": []
   },
   "outputs": [
    {
     "name": "stdout",
     "output_type": "stream",
     "text": [
      "Mean Squared error 0.382015340864156\n"
     ]
    },
    {
     "data": {
      "application/scrapbook.scrap.json+json": {
       "data": 0.382015340864156,
       "encoder": "json",
       "name": "Random Forest MSE",
       "version": 1
      }
     },
     "metadata": {
      "scrapbook": {
       "data": true,
       "display": false,
       "name": "Random Forest MSE"
      }
     },
     "output_type": "display_data"
    }
   ],
   "source": [
    "mse_rf = baselineModels.randomForest(X_train,y_train,X_test,y_test)\n",
    "#Store MSE Value\n",
    "sb.glue(\"Random Forest MSE\",mse_rf)"
   ]
  },
  {
   "cell_type": "markdown",
   "id": "e39c85e1",
   "metadata": {
    "papermill": {
     "duration": 0.006134,
     "end_time": "2021-12-24T13:48:13.198299",
     "exception": false,
     "start_time": "2021-12-24T13:48:13.192165",
     "status": "completed"
    },
    "tags": []
   },
   "source": [
    "## Catboost \n",
    "\n"
   ]
  },
  {
   "cell_type": "code",
   "execution_count": 7,
   "id": "c61cbb7e",
   "metadata": {
    "execution": {
     "iopub.execute_input": "2021-12-24T13:48:13.249763Z",
     "iopub.status.busy": "2021-12-24T13:48:13.249185Z",
     "iopub.status.idle": "2021-12-24T13:48:16.267636Z",
     "shell.execute_reply": "2021-12-24T13:48:16.268098Z"
    },
    "papermill": {
     "duration": 3.063776,
     "end_time": "2021-12-24T13:48:16.268246",
     "exception": false,
     "start_time": "2021-12-24T13:48:13.204470",
     "status": "completed"
    },
    "tags": []
   },
   "outputs": [
    {
     "name": "stdout",
     "output_type": "stream",
     "text": [
      "Learning rate set to 0.064294\n",
      "0:\tlearn: 0.9622572\ttotal: 60.2ms\tremaining: 1m\n",
      "1:\tlearn: 0.9308284\ttotal: 63ms\tremaining: 31.4s\n",
      "2:\tlearn: 0.9013863\ttotal: 65.8ms\tremaining: 21.9s\n",
      "3:\tlearn: 0.8735819\ttotal: 68.3ms\tremaining: 17s\n",
      "4:\tlearn: 0.8473015\ttotal: 70.8ms\tremaining: 14.1s\n",
      "5:\tlearn: 0.8239271\ttotal: 73.8ms\tremaining: 12.2s\n",
      "6:\tlearn: 0.8021770\ttotal: 76.4ms\tremaining: 10.8s\n",
      "7:\tlearn: 0.7814854\ttotal: 79.1ms\tremaining: 9.8s\n",
      "8:\tlearn: 0.7620614\ttotal: 82.4ms\tremaining: 9.07s\n",
      "9:\tlearn: 0.7434409\ttotal: 85.2ms\tremaining: 8.44s\n",
      "10:\tlearn: 0.7272504\ttotal: 90.2ms\tremaining: 8.11s\n",
      "11:\tlearn: 0.7122205\ttotal: 92.9ms\tremaining: 7.65s\n",
      "12:\tlearn: 0.6977399\ttotal: 95.5ms\tremaining: 7.25s\n",
      "13:\tlearn: 0.6839809\ttotal: 98ms\tremaining: 6.9s\n",
      "14:\tlearn: 0.6727458\ttotal: 101ms\tremaining: 6.61s\n",
      "15:\tlearn: 0.6619837\ttotal: 103ms\tremaining: 6.33s\n",
      "16:\tlearn: 0.6526815\ttotal: 105ms\tremaining: 6.07s\n",
      "17:\tlearn: 0.6425549\ttotal: 108ms\tremaining: 5.87s\n",
      "18:\tlearn: 0.6339301\ttotal: 110ms\tremaining: 5.7s\n",
      "19:\tlearn: 0.6242778\ttotal: 113ms\tremaining: 5.54s\n",
      "20:\tlearn: 0.6170843\ttotal: 115ms\tremaining: 5.38s\n",
      "21:\tlearn: 0.6105929\ttotal: 118ms\tremaining: 5.25s\n",
      "22:\tlearn: 0.6044809\ttotal: 121ms\tremaining: 5.14s\n"
     ]
    },
    {
     "name": "stdout",
     "output_type": "stream",
     "text": [
      "23:\tlearn: 0.5977407\ttotal: 123ms\tremaining: 5.02s\n",
      "24:\tlearn: 0.5905962\ttotal: 126ms\tremaining: 4.91s\n",
      "25:\tlearn: 0.5834906\ttotal: 128ms\tremaining: 4.81s\n",
      "26:\tlearn: 0.5769621\ttotal: 131ms\tremaining: 4.72s\n",
      "27:\tlearn: 0.5723533\ttotal: 134ms\tremaining: 4.66s\n",
      "28:\tlearn: 0.5675585\ttotal: 137ms\tremaining: 4.6s\n",
      "29:\tlearn: 0.5634180\ttotal: 140ms\tremaining: 4.54s\n",
      "30:\tlearn: 0.5597424\ttotal: 143ms\tremaining: 4.47s\n",
      "31:\tlearn: 0.5565619\ttotal: 146ms\tremaining: 4.4s\n",
      "32:\tlearn: 0.5531242\ttotal: 148ms\tremaining: 4.34s\n",
      "33:\tlearn: 0.5502150\ttotal: 150ms\tremaining: 4.26s\n",
      "34:\tlearn: 0.5457322\ttotal: 153ms\tremaining: 4.21s\n",
      "35:\tlearn: 0.5417108\ttotal: 155ms\tremaining: 4.16s\n",
      "36:\tlearn: 0.5371746\ttotal: 159ms\tremaining: 4.14s\n",
      "37:\tlearn: 0.5330518\ttotal: 162ms\tremaining: 4.09s\n",
      "38:\tlearn: 0.5304554\ttotal: 164ms\tremaining: 4.04s\n",
      "39:\tlearn: 0.5276281\ttotal: 166ms\tremaining: 3.99s\n",
      "40:\tlearn: 0.5253843\ttotal: 169ms\tremaining: 3.94s\n",
      "41:\tlearn: 0.5233260\ttotal: 171ms\tremaining: 3.91s\n",
      "42:\tlearn: 0.5208519\ttotal: 174ms\tremaining: 3.86s\n",
      "43:\tlearn: 0.5174647\ttotal: 178ms\tremaining: 3.87s\n",
      "44:\tlearn: 0.5156581\ttotal: 181ms\tremaining: 3.84s\n",
      "45:\tlearn: 0.5128117\ttotal: 184ms\tremaining: 3.81s\n",
      "46:\tlearn: 0.5110014\ttotal: 186ms\tremaining: 3.77s\n",
      "47:\tlearn: 0.5083494\ttotal: 188ms\tremaining: 3.73s\n",
      "48:\tlearn: 0.5057764\ttotal: 191ms\tremaining: 3.7s\n"
     ]
    },
    {
     "name": "stdout",
     "output_type": "stream",
     "text": [
      "49:\tlearn: 0.5042626\ttotal: 193ms\tremaining: 3.67s\n",
      "50:\tlearn: 0.5017426\ttotal: 196ms\tremaining: 3.65s\n",
      "51:\tlearn: 0.5001539\ttotal: 199ms\tremaining: 3.62s\n",
      "52:\tlearn: 0.4979475\ttotal: 201ms\tremaining: 3.6s\n",
      "53:\tlearn: 0.4970349\ttotal: 204ms\tremaining: 3.58s\n",
      "54:\tlearn: 0.4943376\ttotal: 206ms\tremaining: 3.54s\n",
      "55:\tlearn: 0.4930772\ttotal: 209ms\tremaining: 3.52s\n",
      "56:\tlearn: 0.4918676\ttotal: 211ms\tremaining: 3.5s\n",
      "57:\tlearn: 0.4899398\ttotal: 214ms\tremaining: 3.48s\n",
      "58:\tlearn: 0.4883585\ttotal: 217ms\tremaining: 3.46s\n",
      "59:\tlearn: 0.4868605\ttotal: 220ms\tremaining: 3.45s\n",
      "60:\tlearn: 0.4849168\ttotal: 222ms\tremaining: 3.42s\n",
      "61:\tlearn: 0.4838135\ttotal: 225ms\tremaining: 3.4s\n",
      "62:\tlearn: 0.4828894\ttotal: 227ms\tremaining: 3.38s\n",
      "63:\tlearn: 0.4814094\ttotal: 230ms\tremaining: 3.36s\n",
      "64:\tlearn: 0.4802736\ttotal: 232ms\tremaining: 3.33s\n",
      "65:\tlearn: 0.4795860\ttotal: 234ms\tremaining: 3.32s\n",
      "66:\tlearn: 0.4784417\ttotal: 237ms\tremaining: 3.3s\n",
      "67:\tlearn: 0.4774334\ttotal: 239ms\tremaining: 3.28s\n",
      "68:\tlearn: 0.4764621\ttotal: 242ms\tremaining: 3.27s\n",
      "69:\tlearn: 0.4753978\ttotal: 245ms\tremaining: 3.25s\n",
      "70:\tlearn: 0.4748804\ttotal: 247ms\tremaining: 3.23s\n",
      "71:\tlearn: 0.4729884\ttotal: 250ms\tremaining: 3.22s\n",
      "72:\tlearn: 0.4722771\ttotal: 252ms\tremaining: 3.2s\n",
      "73:\tlearn: 0.4715949\ttotal: 255ms\tremaining: 3.19s\n",
      "74:\tlearn: 0.4708593\ttotal: 257ms\tremaining: 3.17s\n",
      "75:\tlearn: 0.4700244\ttotal: 260ms\tremaining: 3.16s\n",
      "76:\tlearn: 0.4690390\ttotal: 262ms\tremaining: 3.14s\n",
      "77:\tlearn: 0.4681559\ttotal: 265ms\tremaining: 3.13s\n",
      "78:\tlearn: 0.4669850\ttotal: 267ms\tremaining: 3.12s\n",
      "79:\tlearn: 0.4658094\ttotal: 270ms\tremaining: 3.1s\n",
      "80:\tlearn: 0.4652596\ttotal: 272ms\tremaining: 3.09s\n",
      "81:\tlearn: 0.4641460\ttotal: 275ms\tremaining: 3.08s\n",
      "82:\tlearn: 0.4627029\ttotal: 277ms\tremaining: 3.06s\n",
      "83:\tlearn: 0.4619814\ttotal: 280ms\tremaining: 3.05s\n",
      "84:\tlearn: 0.4613850\ttotal: 282ms\tremaining: 3.03s\n",
      "85:\tlearn: 0.4608903\ttotal: 285ms\tremaining: 3.02s\n",
      "86:\tlearn: 0.4603517\ttotal: 290ms\tremaining: 3.05s\n",
      "87:\tlearn: 0.4592838\ttotal: 298ms\tremaining: 3.08s\n",
      "88:\tlearn: 0.4587616\ttotal: 302ms\tremaining: 3.09s\n",
      "89:\tlearn: 0.4584521\ttotal: 306ms\tremaining: 3.09s\n",
      "90:\tlearn: 0.4579349\ttotal: 309ms\tremaining: 3.08s\n",
      "91:\tlearn: 0.4568716\ttotal: 311ms\tremaining: 3.07s\n",
      "92:\tlearn: 0.4563549\ttotal: 314ms\tremaining: 3.06s\n"
     ]
    },
    {
     "name": "stdout",
     "output_type": "stream",
     "text": [
      "93:\tlearn: 0.4550481\ttotal: 316ms\tremaining: 3.05s\n",
      "94:\tlearn: 0.4545470\ttotal: 319ms\tremaining: 3.04s\n",
      "95:\tlearn: 0.4537512\ttotal: 321ms\tremaining: 3.02s\n",
      "96:\tlearn: 0.4534087\ttotal: 324ms\tremaining: 3.01s\n",
      "97:\tlearn: 0.4527511\ttotal: 327ms\tremaining: 3s\n",
      "98:\tlearn: 0.4523769\ttotal: 330ms\tremaining: 3s\n",
      "99:\tlearn: 0.4515816\ttotal: 332ms\tremaining: 2.99s\n",
      "100:\tlearn: 0.4508231\ttotal: 335ms\tremaining: 2.98s\n",
      "101:\tlearn: 0.4501774\ttotal: 339ms\tremaining: 2.98s\n",
      "102:\tlearn: 0.4496309\ttotal: 342ms\tremaining: 2.98s\n",
      "103:\tlearn: 0.4488778\ttotal: 344ms\tremaining: 2.97s\n",
      "104:\tlearn: 0.4479720\ttotal: 348ms\tremaining: 2.96s\n",
      "105:\tlearn: 0.4476325\ttotal: 351ms\tremaining: 2.96s\n",
      "106:\tlearn: 0.4470584\ttotal: 354ms\tremaining: 2.95s\n",
      "107:\tlearn: 0.4465497\ttotal: 356ms\tremaining: 2.94s\n",
      "108:\tlearn: 0.4457201\ttotal: 359ms\tremaining: 2.94s\n",
      "109:\tlearn: 0.4453597\ttotal: 362ms\tremaining: 2.93s\n",
      "110:\tlearn: 0.4450189\ttotal: 365ms\tremaining: 2.92s\n",
      "111:\tlearn: 0.4445517\ttotal: 367ms\tremaining: 2.91s\n",
      "112:\tlearn: 0.4438864\ttotal: 370ms\tremaining: 2.9s\n",
      "113:\tlearn: 0.4431084\ttotal: 372ms\tremaining: 2.89s\n",
      "114:\tlearn: 0.4426527\ttotal: 375ms\tremaining: 2.88s\n",
      "115:\tlearn: 0.4421259\ttotal: 378ms\tremaining: 2.88s\n",
      "116:\tlearn: 0.4415534\ttotal: 380ms\tremaining: 2.87s\n",
      "117:\tlearn: 0.4410573\ttotal: 383ms\tremaining: 2.86s\n"
     ]
    },
    {
     "name": "stdout",
     "output_type": "stream",
     "text": [
      "118:\tlearn: 0.4407085\ttotal: 385ms\tremaining: 2.85s\n",
      "119:\tlearn: 0.4399428\ttotal: 388ms\tremaining: 2.85s\n",
      "120:\tlearn: 0.4394965\ttotal: 391ms\tremaining: 2.84s\n",
      "121:\tlearn: 0.4391622\ttotal: 394ms\tremaining: 2.83s\n",
      "122:\tlearn: 0.4387626\ttotal: 397ms\tremaining: 2.83s\n",
      "123:\tlearn: 0.4379125\ttotal: 399ms\tremaining: 2.82s\n",
      "124:\tlearn: 0.4375576\ttotal: 402ms\tremaining: 2.81s\n",
      "125:\tlearn: 0.4369614\ttotal: 404ms\tremaining: 2.8s\n",
      "126:\tlearn: 0.4362712\ttotal: 407ms\tremaining: 2.79s\n",
      "127:\tlearn: 0.4357862\ttotal: 409ms\tremaining: 2.79s\n",
      "128:\tlearn: 0.4352881\ttotal: 412ms\tremaining: 2.78s\n",
      "129:\tlearn: 0.4348717\ttotal: 414ms\tremaining: 2.77s\n",
      "130:\tlearn: 0.4343908\ttotal: 417ms\tremaining: 2.77s\n",
      "131:\tlearn: 0.4338986\ttotal: 420ms\tremaining: 2.76s\n",
      "132:\tlearn: 0.4336570\ttotal: 423ms\tremaining: 2.75s\n",
      "133:\tlearn: 0.4331401\ttotal: 425ms\tremaining: 2.75s\n",
      "134:\tlearn: 0.4323864\ttotal: 428ms\tremaining: 2.74s\n",
      "135:\tlearn: 0.4318636\ttotal: 430ms\tremaining: 2.73s\n",
      "136:\tlearn: 0.4313843\ttotal: 432ms\tremaining: 2.72s\n",
      "137:\tlearn: 0.4311025\ttotal: 434ms\tremaining: 2.71s\n",
      "138:\tlearn: 0.4304963\ttotal: 436ms\tremaining: 2.7s\n",
      "139:\tlearn: 0.4301543\ttotal: 441ms\tremaining: 2.71s\n",
      "140:\tlearn: 0.4295583\ttotal: 444ms\tremaining: 2.7s\n",
      "141:\tlearn: 0.4291862\ttotal: 447ms\tremaining: 2.7s\n",
      "142:\tlearn: 0.4287258\ttotal: 450ms\tremaining: 2.69s\n",
      "143:\tlearn: 0.4283752\ttotal: 453ms\tremaining: 2.69s\n",
      "144:\tlearn: 0.4280998\ttotal: 455ms\tremaining: 2.68s\n",
      "145:\tlearn: 0.4278703\ttotal: 460ms\tremaining: 2.69s\n",
      "146:\tlearn: 0.4275940\ttotal: 463ms\tremaining: 2.69s\n",
      "147:\tlearn: 0.4269103\ttotal: 465ms\tremaining: 2.68s\n",
      "148:\tlearn: 0.4266295\ttotal: 468ms\tremaining: 2.67s\n",
      "149:\tlearn: 0.4262358\ttotal: 471ms\tremaining: 2.67s\n",
      "150:\tlearn: 0.4257374\ttotal: 474ms\tremaining: 2.66s\n",
      "151:\tlearn: 0.4253489\ttotal: 477ms\tremaining: 2.66s\n",
      "152:\tlearn: 0.4244736\ttotal: 479ms\tremaining: 2.65s\n",
      "153:\tlearn: 0.4240459\ttotal: 482ms\tremaining: 2.65s\n",
      "154:\tlearn: 0.4236843\ttotal: 485ms\tremaining: 2.64s\n",
      "155:\tlearn: 0.4233033\ttotal: 488ms\tremaining: 2.64s\n",
      "156:\tlearn: 0.4227972\ttotal: 491ms\tremaining: 2.63s\n",
      "157:\tlearn: 0.4222696\ttotal: 493ms\tremaining: 2.63s\n",
      "158:\tlearn: 0.4219549\ttotal: 497ms\tremaining: 2.63s\n",
      "159:\tlearn: 0.4213819\ttotal: 499ms\tremaining: 2.62s\n",
      "160:\tlearn: 0.4209578\ttotal: 501ms\tremaining: 2.61s\n",
      "161:\tlearn: 0.4205604\ttotal: 504ms\tremaining: 2.61s\n",
      "162:\tlearn: 0.4200933\ttotal: 507ms\tremaining: 2.6s\n"
     ]
    },
    {
     "name": "stdout",
     "output_type": "stream",
     "text": [
      "163:\tlearn: 0.4196381\ttotal: 510ms\tremaining: 2.6s\n",
      "164:\tlearn: 0.4192741\ttotal: 513ms\tremaining: 2.59s\n",
      "165:\tlearn: 0.4188112\ttotal: 515ms\tremaining: 2.59s\n",
      "166:\tlearn: 0.4182940\ttotal: 519ms\tremaining: 2.59s\n",
      "167:\tlearn: 0.4178621\ttotal: 522ms\tremaining: 2.58s\n",
      "168:\tlearn: 0.4174009\ttotal: 524ms\tremaining: 2.58s\n",
      "169:\tlearn: 0.4170350\ttotal: 527ms\tremaining: 2.57s\n",
      "170:\tlearn: 0.4164386\ttotal: 530ms\tremaining: 2.57s\n",
      "171:\tlearn: 0.4159759\ttotal: 532ms\tremaining: 2.56s\n",
      "172:\tlearn: 0.4156828\ttotal: 535ms\tremaining: 2.56s\n",
      "173:\tlearn: 0.4151401\ttotal: 538ms\tremaining: 2.55s\n",
      "174:\tlearn: 0.4148529\ttotal: 541ms\tremaining: 2.55s\n",
      "175:\tlearn: 0.4145996\ttotal: 544ms\tremaining: 2.54s\n",
      "176:\tlearn: 0.4142370\ttotal: 546ms\tremaining: 2.54s\n",
      "177:\tlearn: 0.4137707\ttotal: 549ms\tremaining: 2.53s\n",
      "178:\tlearn: 0.4133198\ttotal: 552ms\tremaining: 2.53s\n",
      "179:\tlearn: 0.4128659\ttotal: 555ms\tremaining: 2.53s\n",
      "180:\tlearn: 0.4125360\ttotal: 557ms\tremaining: 2.52s\n",
      "181:\tlearn: 0.4120713\ttotal: 560ms\tremaining: 2.52s\n",
      "182:\tlearn: 0.4116939\ttotal: 562ms\tremaining: 2.51s\n",
      "183:\tlearn: 0.4113735\ttotal: 565ms\tremaining: 2.5s\n",
      "184:\tlearn: 0.4110957\ttotal: 568ms\tremaining: 2.5s\n",
      "185:\tlearn: 0.4105769\ttotal: 571ms\tremaining: 2.5s\n",
      "186:\tlearn: 0.4103775\ttotal: 574ms\tremaining: 2.5s\n",
      "187:\tlearn: 0.4099498\ttotal: 577ms\tremaining: 2.49s\n"
     ]
    },
    {
     "name": "stdout",
     "output_type": "stream",
     "text": [
      "188:\tlearn: 0.4095641\ttotal: 579ms\tremaining: 2.48s\n",
      "189:\tlearn: 0.4093461\ttotal: 582ms\tremaining: 2.48s\n",
      "190:\tlearn: 0.4088638\ttotal: 585ms\tremaining: 2.48s\n",
      "191:\tlearn: 0.4084250\ttotal: 588ms\tremaining: 2.48s\n",
      "192:\tlearn: 0.4080563\ttotal: 591ms\tremaining: 2.47s\n",
      "193:\tlearn: 0.4077051\ttotal: 593ms\tremaining: 2.46s\n",
      "194:\tlearn: 0.4074173\ttotal: 596ms\tremaining: 2.46s\n",
      "195:\tlearn: 0.4069650\ttotal: 598ms\tremaining: 2.45s\n",
      "196:\tlearn: 0.4066844\ttotal: 601ms\tremaining: 2.45s\n",
      "197:\tlearn: 0.4062111\ttotal: 604ms\tremaining: 2.44s\n",
      "198:\tlearn: 0.4057665\ttotal: 606ms\tremaining: 2.44s\n",
      "199:\tlearn: 0.4055147\ttotal: 609ms\tremaining: 2.44s\n",
      "200:\tlearn: 0.4050831\ttotal: 611ms\tremaining: 2.43s\n",
      "201:\tlearn: 0.4046612\ttotal: 614ms\tremaining: 2.42s\n",
      "202:\tlearn: 0.4041177\ttotal: 617ms\tremaining: 2.42s\n",
      "203:\tlearn: 0.4038691\ttotal: 620ms\tremaining: 2.42s\n",
      "204:\tlearn: 0.4035661\ttotal: 622ms\tremaining: 2.41s\n",
      "205:\tlearn: 0.4030834\ttotal: 625ms\tremaining: 2.41s\n",
      "206:\tlearn: 0.4027210\ttotal: 628ms\tremaining: 2.4s\n",
      "207:\tlearn: 0.4023823\ttotal: 631ms\tremaining: 2.4s\n",
      "208:\tlearn: 0.4020817\ttotal: 634ms\tremaining: 2.4s\n",
      "209:\tlearn: 0.4016948\ttotal: 636ms\tremaining: 2.39s\n",
      "210:\tlearn: 0.4013813\ttotal: 638ms\tremaining: 2.39s\n",
      "211:\tlearn: 0.4011040\ttotal: 641ms\tremaining: 2.38s\n",
      "212:\tlearn: 0.4008536\ttotal: 644ms\tremaining: 2.38s\n",
      "213:\tlearn: 0.4003351\ttotal: 647ms\tremaining: 2.38s\n",
      "214:\tlearn: 0.3999601\ttotal: 650ms\tremaining: 2.37s\n",
      "215:\tlearn: 0.3996561\ttotal: 653ms\tremaining: 2.37s\n",
      "216:\tlearn: 0.3994027\ttotal: 657ms\tremaining: 2.37s\n",
      "217:\tlearn: 0.3990845\ttotal: 659ms\tremaining: 2.36s\n",
      "218:\tlearn: 0.3988199\ttotal: 662ms\tremaining: 2.36s\n",
      "219:\tlearn: 0.3985135\ttotal: 667ms\tremaining: 2.37s\n",
      "220:\tlearn: 0.3983092\ttotal: 670ms\tremaining: 2.36s\n",
      "221:\tlearn: 0.3980362\ttotal: 673ms\tremaining: 2.36s\n",
      "222:\tlearn: 0.3978763\ttotal: 675ms\tremaining: 2.35s\n",
      "223:\tlearn: 0.3975691\ttotal: 678ms\tremaining: 2.35s\n",
      "224:\tlearn: 0.3972174\ttotal: 681ms\tremaining: 2.34s\n",
      "225:\tlearn: 0.3969204\ttotal: 683ms\tremaining: 2.34s\n",
      "226:\tlearn: 0.3966356\ttotal: 686ms\tremaining: 2.33s\n",
      "227:\tlearn: 0.3961925\ttotal: 689ms\tremaining: 2.33s\n",
      "228:\tlearn: 0.3958736\ttotal: 692ms\tremaining: 2.33s\n",
      "229:\tlearn: 0.3955853\ttotal: 694ms\tremaining: 2.32s\n",
      "230:\tlearn: 0.3954422\ttotal: 698ms\tremaining: 2.32s\n",
      "231:\tlearn: 0.3951431\ttotal: 700ms\tremaining: 2.32s\n"
     ]
    },
    {
     "name": "stdout",
     "output_type": "stream",
     "text": [
      "232:\tlearn: 0.3947491\ttotal: 703ms\tremaining: 2.31s\n",
      "233:\tlearn: 0.3944836\ttotal: 706ms\tremaining: 2.31s\n",
      "234:\tlearn: 0.3941672\ttotal: 709ms\tremaining: 2.31s\n",
      "235:\tlearn: 0.3938555\ttotal: 712ms\tremaining: 2.3s\n",
      "236:\tlearn: 0.3935603\ttotal: 714ms\tremaining: 2.3s\n",
      "237:\tlearn: 0.3933796\ttotal: 717ms\tremaining: 2.29s\n",
      "238:\tlearn: 0.3930850\ttotal: 720ms\tremaining: 2.29s\n",
      "239:\tlearn: 0.3927619\ttotal: 722ms\tremaining: 2.29s\n",
      "240:\tlearn: 0.3924397\ttotal: 725ms\tremaining: 2.28s\n",
      "241:\tlearn: 0.3921531\ttotal: 729ms\tremaining: 2.28s\n",
      "242:\tlearn: 0.3918614\ttotal: 732ms\tremaining: 2.28s\n",
      "243:\tlearn: 0.3915824\ttotal: 735ms\tremaining: 2.28s\n",
      "244:\tlearn: 0.3914099\ttotal: 737ms\tremaining: 2.27s\n",
      "245:\tlearn: 0.3912336\ttotal: 740ms\tremaining: 2.27s\n",
      "246:\tlearn: 0.3909752\ttotal: 743ms\tremaining: 2.26s\n",
      "247:\tlearn: 0.3908462\ttotal: 745ms\tremaining: 2.26s\n",
      "248:\tlearn: 0.3905711\ttotal: 748ms\tremaining: 2.25s\n",
      "249:\tlearn: 0.3903721\ttotal: 750ms\tremaining: 2.25s\n",
      "250:\tlearn: 0.3901722\ttotal: 753ms\tremaining: 2.25s\n",
      "251:\tlearn: 0.3897644\ttotal: 756ms\tremaining: 2.24s\n",
      "252:\tlearn: 0.3894972\ttotal: 760ms\tremaining: 2.24s\n",
      "253:\tlearn: 0.3892569\ttotal: 762ms\tremaining: 2.24s\n",
      "254:\tlearn: 0.3889538\ttotal: 765ms\tremaining: 2.24s\n",
      "255:\tlearn: 0.3887824\ttotal: 768ms\tremaining: 2.23s\n",
      "256:\tlearn: 0.3884951\ttotal: 771ms\tremaining: 2.23s\n"
     ]
    },
    {
     "name": "stdout",
     "output_type": "stream",
     "text": [
      "257:\tlearn: 0.3882263\ttotal: 776ms\tremaining: 2.23s\n",
      "258:\tlearn: 0.3879889\ttotal: 778ms\tremaining: 2.23s\n",
      "259:\tlearn: 0.3876783\ttotal: 781ms\tremaining: 2.22s\n",
      "260:\tlearn: 0.3873906\ttotal: 784ms\tremaining: 2.22s\n",
      "261:\tlearn: 0.3872224\ttotal: 786ms\tremaining: 2.21s\n",
      "262:\tlearn: 0.3869335\ttotal: 789ms\tremaining: 2.21s\n",
      "263:\tlearn: 0.3867306\ttotal: 792ms\tremaining: 2.21s\n",
      "264:\tlearn: 0.3865576\ttotal: 795ms\tremaining: 2.2s\n",
      "265:\tlearn: 0.3863644\ttotal: 797ms\tremaining: 2.2s\n",
      "266:\tlearn: 0.3861115\ttotal: 800ms\tremaining: 2.19s\n",
      "267:\tlearn: 0.3858629\ttotal: 802ms\tremaining: 2.19s\n",
      "268:\tlearn: 0.3856925\ttotal: 806ms\tremaining: 2.19s\n",
      "269:\tlearn: 0.3854855\ttotal: 810ms\tremaining: 2.19s\n",
      "270:\tlearn: 0.3853438\ttotal: 813ms\tremaining: 2.19s\n",
      "271:\tlearn: 0.3851761\ttotal: 816ms\tremaining: 2.18s\n",
      "272:\tlearn: 0.3848565\ttotal: 819ms\tremaining: 2.18s\n",
      "273:\tlearn: 0.3847116\ttotal: 821ms\tremaining: 2.18s\n",
      "274:\tlearn: 0.3844676\ttotal: 825ms\tremaining: 2.17s\n",
      "275:\tlearn: 0.3842614\ttotal: 828ms\tremaining: 2.17s\n",
      "276:\tlearn: 0.3841132\ttotal: 831ms\tremaining: 2.17s\n",
      "277:\tlearn: 0.3838440\ttotal: 835ms\tremaining: 2.17s\n",
      "278:\tlearn: 0.3836941\ttotal: 837ms\tremaining: 2.16s\n",
      "279:\tlearn: 0.3835385\ttotal: 840ms\tremaining: 2.16s\n",
      "280:\tlearn: 0.3833135\ttotal: 843ms\tremaining: 2.16s\n",
      "281:\tlearn: 0.3831234\ttotal: 846ms\tremaining: 2.15s\n",
      "282:\tlearn: 0.3828751\ttotal: 849ms\tremaining: 2.15s\n",
      "283:\tlearn: 0.3827299\ttotal: 851ms\tremaining: 2.15s\n",
      "284:\tlearn: 0.3826084\ttotal: 854ms\tremaining: 2.14s\n",
      "285:\tlearn: 0.3821938\ttotal: 857ms\tremaining: 2.14s\n",
      "286:\tlearn: 0.3817808\ttotal: 860ms\tremaining: 2.14s\n",
      "287:\tlearn: 0.3814894\ttotal: 863ms\tremaining: 2.13s\n",
      "288:\tlearn: 0.3812419\ttotal: 866ms\tremaining: 2.13s\n",
      "289:\tlearn: 0.3809965\ttotal: 868ms\tremaining: 2.13s\n",
      "290:\tlearn: 0.3807559\ttotal: 871ms\tremaining: 2.12s\n",
      "291:\tlearn: 0.3805922\ttotal: 874ms\tremaining: 2.12s\n",
      "292:\tlearn: 0.3803892\ttotal: 877ms\tremaining: 2.11s\n",
      "293:\tlearn: 0.3801792\ttotal: 879ms\tremaining: 2.11s\n",
      "294:\tlearn: 0.3799152\ttotal: 882ms\tremaining: 2.11s\n",
      "295:\tlearn: 0.3795687\ttotal: 885ms\tremaining: 2.1s\n",
      "296:\tlearn: 0.3793203\ttotal: 888ms\tremaining: 2.1s\n",
      "297:\tlearn: 0.3791014\ttotal: 890ms\tremaining: 2.1s\n",
      "298:\tlearn: 0.3788510\ttotal: 893ms\tremaining: 2.09s\n"
     ]
    },
    {
     "name": "stdout",
     "output_type": "stream",
     "text": [
      "299:\tlearn: 0.3786486\ttotal: 896ms\tremaining: 2.09s\n",
      "300:\tlearn: 0.3785244\ttotal: 900ms\tremaining: 2.09s\n",
      "301:\tlearn: 0.3782468\ttotal: 903ms\tremaining: 2.09s\n",
      "302:\tlearn: 0.3779847\ttotal: 906ms\tremaining: 2.08s\n",
      "303:\tlearn: 0.3778112\ttotal: 909ms\tremaining: 2.08s\n",
      "304:\tlearn: 0.3776512\ttotal: 912ms\tremaining: 2.08s\n",
      "305:\tlearn: 0.3773639\ttotal: 915ms\tremaining: 2.08s\n",
      "306:\tlearn: 0.3771523\ttotal: 917ms\tremaining: 2.07s\n",
      "307:\tlearn: 0.3768608\ttotal: 920ms\tremaining: 2.07s\n",
      "308:\tlearn: 0.3766985\ttotal: 923ms\tremaining: 2.06s\n",
      "309:\tlearn: 0.3765379\ttotal: 926ms\tremaining: 2.06s\n",
      "310:\tlearn: 0.3763301\ttotal: 928ms\tremaining: 2.06s\n",
      "311:\tlearn: 0.3761076\ttotal: 931ms\tremaining: 2.05s\n",
      "312:\tlearn: 0.3758804\ttotal: 933ms\tremaining: 2.05s\n",
      "313:\tlearn: 0.3757253\ttotal: 936ms\tremaining: 2.04s\n",
      "314:\tlearn: 0.3754298\ttotal: 943ms\tremaining: 2.05s\n",
      "315:\tlearn: 0.3751623\ttotal: 950ms\tremaining: 2.06s\n",
      "316:\tlearn: 0.3749843\ttotal: 953ms\tremaining: 2.05s\n",
      "317:\tlearn: 0.3748829\ttotal: 957ms\tremaining: 2.05s\n",
      "318:\tlearn: 0.3746298\ttotal: 963ms\tremaining: 2.06s\n"
     ]
    },
    {
     "name": "stdout",
     "output_type": "stream",
     "text": [
      "319:\tlearn: 0.3744399\ttotal: 968ms\tremaining: 2.06s\n",
      "320:\tlearn: 0.3743144\ttotal: 971ms\tremaining: 2.05s\n",
      "321:\tlearn: 0.3739985\ttotal: 974ms\tremaining: 2.05s\n",
      "322:\tlearn: 0.3738261\ttotal: 977ms\tremaining: 2.05s\n",
      "323:\tlearn: 0.3735972\ttotal: 980ms\tremaining: 2.04s\n",
      "324:\tlearn: 0.3733696\ttotal: 984ms\tremaining: 2.04s\n",
      "325:\tlearn: 0.3731429\ttotal: 987ms\tremaining: 2.04s\n",
      "326:\tlearn: 0.3730529\ttotal: 989ms\tremaining: 2.04s\n",
      "327:\tlearn: 0.3727999\ttotal: 992ms\tremaining: 2.03s\n",
      "328:\tlearn: 0.3724414\ttotal: 996ms\tremaining: 2.03s\n",
      "329:\tlearn: 0.3722361\ttotal: 999ms\tremaining: 2.03s\n",
      "330:\tlearn: 0.3720708\ttotal: 1s\tremaining: 2.02s\n",
      "331:\tlearn: 0.3717735\ttotal: 1s\tremaining: 2.02s\n",
      "332:\tlearn: 0.3715916\ttotal: 1.01s\tremaining: 2.02s\n",
      "333:\tlearn: 0.3714092\ttotal: 1.01s\tremaining: 2.01s\n",
      "334:\tlearn: 0.3711392\ttotal: 1.01s\tremaining: 2.01s\n",
      "335:\tlearn: 0.3709860\ttotal: 1.02s\tremaining: 2.01s\n",
      "336:\tlearn: 0.3708192\ttotal: 1.02s\tremaining: 2s\n",
      "337:\tlearn: 0.3705802\ttotal: 1.02s\tremaining: 2s\n",
      "338:\tlearn: 0.3704518\ttotal: 1.02s\tremaining: 2s\n",
      "339:\tlearn: 0.3702448\ttotal: 1.03s\tremaining: 1.99s\n",
      "340:\tlearn: 0.3700952\ttotal: 1.03s\tremaining: 1.99s\n",
      "341:\tlearn: 0.3699293\ttotal: 1.03s\tremaining: 1.99s\n",
      "342:\tlearn: 0.3697773\ttotal: 1.04s\tremaining: 1.98s\n",
      "343:\tlearn: 0.3696660\ttotal: 1.04s\tremaining: 1.98s\n",
      "344:\tlearn: 0.3694971\ttotal: 1.04s\tremaining: 1.98s\n",
      "345:\tlearn: 0.3693752\ttotal: 1.04s\tremaining: 1.98s\n",
      "346:\tlearn: 0.3692081\ttotal: 1.05s\tremaining: 1.97s\n",
      "347:\tlearn: 0.3690202\ttotal: 1.05s\tremaining: 1.97s\n",
      "348:\tlearn: 0.3688525\ttotal: 1.05s\tremaining: 1.96s\n",
      "349:\tlearn: 0.3686935\ttotal: 1.05s\tremaining: 1.96s\n",
      "350:\tlearn: 0.3684783\ttotal: 1.06s\tremaining: 1.96s\n",
      "351:\tlearn: 0.3683379\ttotal: 1.06s\tremaining: 1.95s\n",
      "352:\tlearn: 0.3680553\ttotal: 1.06s\tremaining: 1.95s\n",
      "353:\tlearn: 0.3679195\ttotal: 1.07s\tremaining: 1.95s\n",
      "354:\tlearn: 0.3677199\ttotal: 1.07s\tremaining: 1.94s\n",
      "355:\tlearn: 0.3675664\ttotal: 1.07s\tremaining: 1.94s\n",
      "356:\tlearn: 0.3674201\ttotal: 1.07s\tremaining: 1.94s\n",
      "357:\tlearn: 0.3672105\ttotal: 1.08s\tremaining: 1.93s\n",
      "358:\tlearn: 0.3670054\ttotal: 1.08s\tremaining: 1.93s\n",
      "359:\tlearn: 0.3668650\ttotal: 1.08s\tremaining: 1.92s\n"
     ]
    },
    {
     "name": "stdout",
     "output_type": "stream",
     "text": [
      "360:\tlearn: 0.3666646\ttotal: 1.08s\tremaining: 1.92s\n",
      "361:\tlearn: 0.3664085\ttotal: 1.09s\tremaining: 1.92s\n",
      "362:\tlearn: 0.3661056\ttotal: 1.09s\tremaining: 1.91s\n",
      "363:\tlearn: 0.3659003\ttotal: 1.09s\tremaining: 1.91s\n",
      "364:\tlearn: 0.3657676\ttotal: 1.1s\tremaining: 1.91s\n",
      "365:\tlearn: 0.3654177\ttotal: 1.1s\tremaining: 1.9s\n",
      "366:\tlearn: 0.3652152\ttotal: 1.1s\tremaining: 1.9s\n",
      "367:\tlearn: 0.3650657\ttotal: 1.1s\tremaining: 1.9s\n",
      "368:\tlearn: 0.3649402\ttotal: 1.11s\tremaining: 1.89s\n",
      "369:\tlearn: 0.3648163\ttotal: 1.11s\tremaining: 1.89s\n",
      "370:\tlearn: 0.3646721\ttotal: 1.11s\tremaining: 1.88s\n",
      "371:\tlearn: 0.3645020\ttotal: 1.11s\tremaining: 1.88s\n",
      "372:\tlearn: 0.3642650\ttotal: 1.12s\tremaining: 1.88s\n",
      "373:\tlearn: 0.3641171\ttotal: 1.12s\tremaining: 1.87s\n",
      "374:\tlearn: 0.3639801\ttotal: 1.12s\tremaining: 1.87s\n",
      "375:\tlearn: 0.3638449\ttotal: 1.13s\tremaining: 1.87s\n",
      "376:\tlearn: 0.3636465\ttotal: 1.13s\tremaining: 1.87s\n",
      "377:\tlearn: 0.3635544\ttotal: 1.13s\tremaining: 1.86s\n",
      "378:\tlearn: 0.3632874\ttotal: 1.13s\tremaining: 1.86s\n",
      "379:\tlearn: 0.3631322\ttotal: 1.14s\tremaining: 1.85s\n",
      "380:\tlearn: 0.3628046\ttotal: 1.14s\tremaining: 1.85s\n",
      "381:\tlearn: 0.3626560\ttotal: 1.14s\tremaining: 1.85s\n",
      "382:\tlearn: 0.3624573\ttotal: 1.14s\tremaining: 1.84s\n",
      "383:\tlearn: 0.3623413\ttotal: 1.15s\tremaining: 1.84s\n",
      "384:\tlearn: 0.3622255\ttotal: 1.15s\tremaining: 1.83s\n",
      "385:\tlearn: 0.3620975\ttotal: 1.15s\tremaining: 1.83s\n",
      "386:\tlearn: 0.3618616\ttotal: 1.15s\tremaining: 1.83s\n",
      "387:\tlearn: 0.3616654\ttotal: 1.16s\tremaining: 1.83s\n"
     ]
    },
    {
     "name": "stdout",
     "output_type": "stream",
     "text": [
      "388:\tlearn: 0.3615056\ttotal: 1.16s\tremaining: 1.82s\n",
      "389:\tlearn: 0.3612780\ttotal: 1.16s\tremaining: 1.82s\n",
      "390:\tlearn: 0.3611503\ttotal: 1.17s\tremaining: 1.81s\n",
      "391:\tlearn: 0.3610072\ttotal: 1.17s\tremaining: 1.81s\n",
      "392:\tlearn: 0.3608832\ttotal: 1.17s\tremaining: 1.81s\n",
      "393:\tlearn: 0.3607194\ttotal: 1.17s\tremaining: 1.8s\n",
      "394:\tlearn: 0.3606681\ttotal: 1.18s\tremaining: 1.8s\n",
      "395:\tlearn: 0.3604378\ttotal: 1.18s\tremaining: 1.8s\n",
      "396:\tlearn: 0.3602671\ttotal: 1.18s\tremaining: 1.79s\n",
      "397:\tlearn: 0.3600473\ttotal: 1.18s\tremaining: 1.79s\n",
      "398:\tlearn: 0.3598309\ttotal: 1.19s\tremaining: 1.78s\n",
      "399:\tlearn: 0.3596112\ttotal: 1.19s\tremaining: 1.78s\n",
      "400:\tlearn: 0.3594557\ttotal: 1.19s\tremaining: 1.78s\n",
      "401:\tlearn: 0.3593042\ttotal: 1.19s\tremaining: 1.77s\n",
      "402:\tlearn: 0.3591298\ttotal: 1.2s\tremaining: 1.77s\n",
      "403:\tlearn: 0.3589730\ttotal: 1.2s\tremaining: 1.77s\n",
      "404:\tlearn: 0.3588198\ttotal: 1.2s\tremaining: 1.76s\n",
      "405:\tlearn: 0.3586692\ttotal: 1.2s\tremaining: 1.76s\n",
      "406:\tlearn: 0.3585510\ttotal: 1.21s\tremaining: 1.76s\n",
      "407:\tlearn: 0.3583974\ttotal: 1.21s\tremaining: 1.75s\n",
      "408:\tlearn: 0.3582047\ttotal: 1.21s\tremaining: 1.75s\n",
      "409:\tlearn: 0.3580532\ttotal: 1.21s\tremaining: 1.75s\n",
      "410:\tlearn: 0.3579347\ttotal: 1.22s\tremaining: 1.74s\n",
      "411:\tlearn: 0.3577893\ttotal: 1.22s\tremaining: 1.74s\n",
      "412:\tlearn: 0.3575896\ttotal: 1.22s\tremaining: 1.74s\n",
      "413:\tlearn: 0.3572515\ttotal: 1.22s\tremaining: 1.73s\n",
      "414:\tlearn: 0.3571426\ttotal: 1.23s\tremaining: 1.73s\n",
      "415:\tlearn: 0.3570227\ttotal: 1.23s\tremaining: 1.72s\n",
      "416:\tlearn: 0.3568654\ttotal: 1.23s\tremaining: 1.72s\n",
      "417:\tlearn: 0.3567746\ttotal: 1.23s\tremaining: 1.72s\n",
      "418:\tlearn: 0.3565844\ttotal: 1.24s\tremaining: 1.71s\n",
      "419:\tlearn: 0.3564575\ttotal: 1.24s\tremaining: 1.71s\n",
      "420:\tlearn: 0.3563268\ttotal: 1.24s\tremaining: 1.71s\n",
      "421:\tlearn: 0.3561387\ttotal: 1.24s\tremaining: 1.7s\n",
      "422:\tlearn: 0.3560576\ttotal: 1.25s\tremaining: 1.7s\n",
      "423:\tlearn: 0.3559701\ttotal: 1.25s\tremaining: 1.7s\n",
      "424:\tlearn: 0.3558654\ttotal: 1.25s\tremaining: 1.69s\n",
      "425:\tlearn: 0.3556201\ttotal: 1.25s\tremaining: 1.69s\n",
      "426:\tlearn: 0.3554619\ttotal: 1.26s\tremaining: 1.69s\n",
      "427:\tlearn: 0.3553251\ttotal: 1.26s\tremaining: 1.68s\n",
      "428:\tlearn: 0.3552218\ttotal: 1.26s\tremaining: 1.68s\n",
      "429:\tlearn: 0.3550408\ttotal: 1.26s\tremaining: 1.68s\n",
      "430:\tlearn: 0.3549379\ttotal: 1.27s\tremaining: 1.67s\n",
      "431:\tlearn: 0.3548228\ttotal: 1.27s\tremaining: 1.67s\n",
      "432:\tlearn: 0.3546512\ttotal: 1.27s\tremaining: 1.67s\n",
      "433:\tlearn: 0.3544919\ttotal: 1.27s\tremaining: 1.66s\n",
      "434:\tlearn: 0.3542922\ttotal: 1.28s\tremaining: 1.66s\n"
     ]
    },
    {
     "name": "stdout",
     "output_type": "stream",
     "text": [
      "435:\tlearn: 0.3540902\ttotal: 1.28s\tremaining: 1.66s\n",
      "436:\tlearn: 0.3538113\ttotal: 1.28s\tremaining: 1.65s\n",
      "437:\tlearn: 0.3536286\ttotal: 1.28s\tremaining: 1.65s\n",
      "438:\tlearn: 0.3534176\ttotal: 1.29s\tremaining: 1.65s\n",
      "439:\tlearn: 0.3532944\ttotal: 1.29s\tremaining: 1.64s\n",
      "440:\tlearn: 0.3529671\ttotal: 1.29s\tremaining: 1.64s\n",
      "441:\tlearn: 0.3528754\ttotal: 1.3s\tremaining: 1.64s\n",
      "442:\tlearn: 0.3527294\ttotal: 1.3s\tremaining: 1.64s\n",
      "443:\tlearn: 0.3524950\ttotal: 1.3s\tremaining: 1.63s\n",
      "444:\tlearn: 0.3523421\ttotal: 1.31s\tremaining: 1.63s\n",
      "445:\tlearn: 0.3522219\ttotal: 1.31s\tremaining: 1.63s\n",
      "446:\tlearn: 0.3520047\ttotal: 1.32s\tremaining: 1.63s\n",
      "447:\tlearn: 0.3518473\ttotal: 1.32s\tremaining: 1.63s\n",
      "448:\tlearn: 0.3517466\ttotal: 1.32s\tremaining: 1.62s\n",
      "449:\tlearn: 0.3516533\ttotal: 1.33s\tremaining: 1.62s\n",
      "450:\tlearn: 0.3514529\ttotal: 1.33s\tremaining: 1.62s\n",
      "451:\tlearn: 0.3513562\ttotal: 1.33s\tremaining: 1.62s\n",
      "452:\tlearn: 0.3512263\ttotal: 1.34s\tremaining: 1.62s\n",
      "453:\tlearn: 0.3511031\ttotal: 1.34s\tremaining: 1.61s\n",
      "454:\tlearn: 0.3509057\ttotal: 1.35s\tremaining: 1.61s\n",
      "455:\tlearn: 0.3507293\ttotal: 1.35s\tremaining: 1.61s\n",
      "456:\tlearn: 0.3506485\ttotal: 1.35s\tremaining: 1.61s\n"
     ]
    },
    {
     "name": "stdout",
     "output_type": "stream",
     "text": [
      "457:\tlearn: 0.3504917\ttotal: 1.35s\tremaining: 1.6s\n",
      "458:\tlearn: 0.3503057\ttotal: 1.36s\tremaining: 1.6s\n",
      "459:\tlearn: 0.3501537\ttotal: 1.36s\tremaining: 1.6s\n",
      "460:\tlearn: 0.3500148\ttotal: 1.36s\tremaining: 1.59s\n",
      "461:\tlearn: 0.3498889\ttotal: 1.37s\tremaining: 1.59s\n",
      "462:\tlearn: 0.3496479\ttotal: 1.37s\tremaining: 1.59s\n",
      "463:\tlearn: 0.3494256\ttotal: 1.37s\tremaining: 1.58s\n",
      "464:\tlearn: 0.3492832\ttotal: 1.38s\tremaining: 1.58s\n",
      "465:\tlearn: 0.3490756\ttotal: 1.38s\tremaining: 1.58s\n",
      "466:\tlearn: 0.3489779\ttotal: 1.38s\tremaining: 1.58s\n",
      "467:\tlearn: 0.3488097\ttotal: 1.38s\tremaining: 1.57s\n",
      "468:\tlearn: 0.3486765\ttotal: 1.39s\tremaining: 1.57s\n",
      "469:\tlearn: 0.3485964\ttotal: 1.39s\tremaining: 1.57s\n",
      "470:\tlearn: 0.3484020\ttotal: 1.39s\tremaining: 1.56s\n",
      "471:\tlearn: 0.3482669\ttotal: 1.4s\tremaining: 1.56s\n",
      "472:\tlearn: 0.3481909\ttotal: 1.4s\tremaining: 1.56s\n",
      "473:\tlearn: 0.3480687\ttotal: 1.4s\tremaining: 1.55s\n",
      "474:\tlearn: 0.3478446\ttotal: 1.4s\tremaining: 1.55s\n",
      "475:\tlearn: 0.3477272\ttotal: 1.41s\tremaining: 1.55s\n",
      "476:\tlearn: 0.3476227\ttotal: 1.41s\tremaining: 1.54s\n",
      "477:\tlearn: 0.3474842\ttotal: 1.41s\tremaining: 1.54s\n",
      "478:\tlearn: 0.3473594\ttotal: 1.42s\tremaining: 1.54s\n",
      "479:\tlearn: 0.3472634\ttotal: 1.42s\tremaining: 1.53s\n",
      "480:\tlearn: 0.3471403\ttotal: 1.42s\tremaining: 1.53s\n",
      "481:\tlearn: 0.3469757\ttotal: 1.42s\tremaining: 1.53s\n",
      "482:\tlearn: 0.3468295\ttotal: 1.43s\tremaining: 1.53s\n",
      "483:\tlearn: 0.3466378\ttotal: 1.43s\tremaining: 1.52s\n",
      "484:\tlearn: 0.3465017\ttotal: 1.43s\tremaining: 1.52s\n",
      "485:\tlearn: 0.3463408\ttotal: 1.43s\tremaining: 1.52s\n",
      "486:\tlearn: 0.3462290\ttotal: 1.44s\tremaining: 1.51s\n",
      "487:\tlearn: 0.3461124\ttotal: 1.44s\tremaining: 1.51s\n",
      "488:\tlearn: 0.3460162\ttotal: 1.44s\tremaining: 1.51s\n",
      "489:\tlearn: 0.3459152\ttotal: 1.45s\tremaining: 1.51s\n",
      "490:\tlearn: 0.3457946\ttotal: 1.45s\tremaining: 1.5s\n",
      "491:\tlearn: 0.3456377\ttotal: 1.45s\tremaining: 1.5s\n",
      "492:\tlearn: 0.3455127\ttotal: 1.46s\tremaining: 1.5s\n",
      "493:\tlearn: 0.3452510\ttotal: 1.46s\tremaining: 1.49s\n",
      "494:\tlearn: 0.3451266\ttotal: 1.46s\tremaining: 1.49s\n",
      "495:\tlearn: 0.3449656\ttotal: 1.47s\tremaining: 1.49s\n",
      "496:\tlearn: 0.3448289\ttotal: 1.47s\tremaining: 1.49s\n"
     ]
    },
    {
     "name": "stdout",
     "output_type": "stream",
     "text": [
      "497:\tlearn: 0.3447208\ttotal: 1.47s\tremaining: 1.48s\n",
      "498:\tlearn: 0.3446294\ttotal: 1.47s\tremaining: 1.48s\n",
      "499:\tlearn: 0.3444855\ttotal: 1.48s\tremaining: 1.48s\n",
      "500:\tlearn: 0.3443486\ttotal: 1.48s\tremaining: 1.47s\n",
      "501:\tlearn: 0.3442074\ttotal: 1.48s\tremaining: 1.47s\n",
      "502:\tlearn: 0.3440543\ttotal: 1.49s\tremaining: 1.47s\n",
      "503:\tlearn: 0.3438262\ttotal: 1.49s\tremaining: 1.46s\n",
      "504:\tlearn: 0.3437114\ttotal: 1.49s\tremaining: 1.46s\n",
      "505:\tlearn: 0.3434894\ttotal: 1.49s\tremaining: 1.46s\n",
      "506:\tlearn: 0.3433488\ttotal: 1.5s\tremaining: 1.46s\n",
      "507:\tlearn: 0.3432039\ttotal: 1.5s\tremaining: 1.45s\n",
      "508:\tlearn: 0.3431284\ttotal: 1.5s\tremaining: 1.45s\n",
      "509:\tlearn: 0.3430058\ttotal: 1.5s\tremaining: 1.45s\n",
      "510:\tlearn: 0.3429420\ttotal: 1.51s\tremaining: 1.44s\n",
      "511:\tlearn: 0.3428268\ttotal: 1.51s\tremaining: 1.44s\n",
      "512:\tlearn: 0.3426629\ttotal: 1.51s\tremaining: 1.44s\n",
      "513:\tlearn: 0.3425491\ttotal: 1.51s\tremaining: 1.43s\n",
      "514:\tlearn: 0.3423910\ttotal: 1.52s\tremaining: 1.43s\n",
      "515:\tlearn: 0.3422635\ttotal: 1.52s\tremaining: 1.43s\n",
      "516:\tlearn: 0.3421425\ttotal: 1.52s\tremaining: 1.42s\n",
      "517:\tlearn: 0.3420094\ttotal: 1.53s\tremaining: 1.42s\n",
      "518:\tlearn: 0.3418697\ttotal: 1.53s\tremaining: 1.42s\n",
      "519:\tlearn: 0.3417597\ttotal: 1.53s\tremaining: 1.41s\n",
      "520:\tlearn: 0.3416197\ttotal: 1.53s\tremaining: 1.41s\n",
      "521:\tlearn: 0.3414908\ttotal: 1.54s\tremaining: 1.41s\n",
      "522:\tlearn: 0.3413669\ttotal: 1.54s\tremaining: 1.4s\n",
      "523:\tlearn: 0.3412111\ttotal: 1.54s\tremaining: 1.4s\n",
      "524:\tlearn: 0.3410332\ttotal: 1.54s\tremaining: 1.4s\n"
     ]
    },
    {
     "name": "stdout",
     "output_type": "stream",
     "text": [
      "525:\tlearn: 0.3409325\ttotal: 1.55s\tremaining: 1.4s\n",
      "526:\tlearn: 0.3407600\ttotal: 1.55s\tremaining: 1.39s\n",
      "527:\tlearn: 0.3406783\ttotal: 1.55s\tremaining: 1.39s\n",
      "528:\tlearn: 0.3405414\ttotal: 1.56s\tremaining: 1.39s\n",
      "529:\tlearn: 0.3404222\ttotal: 1.56s\tremaining: 1.38s\n",
      "530:\tlearn: 0.3403336\ttotal: 1.56s\tremaining: 1.38s\n",
      "531:\tlearn: 0.3402425\ttotal: 1.56s\tremaining: 1.38s\n",
      "532:\tlearn: 0.3400983\ttotal: 1.57s\tremaining: 1.37s\n",
      "533:\tlearn: 0.3399765\ttotal: 1.57s\tremaining: 1.37s\n",
      "534:\tlearn: 0.3398106\ttotal: 1.57s\tremaining: 1.37s\n",
      "535:\tlearn: 0.3396646\ttotal: 1.57s\tremaining: 1.36s\n",
      "536:\tlearn: 0.3395876\ttotal: 1.58s\tremaining: 1.36s\n",
      "537:\tlearn: 0.3394721\ttotal: 1.58s\tremaining: 1.36s\n",
      "538:\tlearn: 0.3392731\ttotal: 1.58s\tremaining: 1.35s\n",
      "539:\tlearn: 0.3391261\ttotal: 1.59s\tremaining: 1.35s\n",
      "540:\tlearn: 0.3390109\ttotal: 1.59s\tremaining: 1.35s\n",
      "541:\tlearn: 0.3388725\ttotal: 1.59s\tremaining: 1.35s\n",
      "542:\tlearn: 0.3388231\ttotal: 1.59s\tremaining: 1.34s\n",
      "543:\tlearn: 0.3386451\ttotal: 1.6s\tremaining: 1.34s\n",
      "544:\tlearn: 0.3384813\ttotal: 1.6s\tremaining: 1.34s\n",
      "545:\tlearn: 0.3383482\ttotal: 1.6s\tremaining: 1.33s\n",
      "546:\tlearn: 0.3382379\ttotal: 1.61s\tremaining: 1.33s\n",
      "547:\tlearn: 0.3381582\ttotal: 1.61s\tremaining: 1.33s\n",
      "548:\tlearn: 0.3380062\ttotal: 1.61s\tremaining: 1.32s\n",
      "549:\tlearn: 0.3378773\ttotal: 1.61s\tremaining: 1.32s\n",
      "550:\tlearn: 0.3377360\ttotal: 1.62s\tremaining: 1.32s\n",
      "551:\tlearn: 0.3376330\ttotal: 1.62s\tremaining: 1.31s\n",
      "552:\tlearn: 0.3375111\ttotal: 1.62s\tremaining: 1.31s\n",
      "553:\tlearn: 0.3373911\ttotal: 1.63s\tremaining: 1.31s\n",
      "554:\tlearn: 0.3372534\ttotal: 1.63s\tremaining: 1.3s\n",
      "555:\tlearn: 0.3371444\ttotal: 1.63s\tremaining: 1.3s\n",
      "556:\tlearn: 0.3370763\ttotal: 1.63s\tremaining: 1.3s\n",
      "557:\tlearn: 0.3370028\ttotal: 1.64s\tremaining: 1.3s\n",
      "558:\tlearn: 0.3369208\ttotal: 1.64s\tremaining: 1.29s\n",
      "559:\tlearn: 0.3367789\ttotal: 1.64s\tremaining: 1.29s\n",
      "560:\tlearn: 0.3366113\ttotal: 1.64s\tremaining: 1.29s\n",
      "561:\tlearn: 0.3364625\ttotal: 1.65s\tremaining: 1.28s\n",
      "562:\tlearn: 0.3363512\ttotal: 1.65s\tremaining: 1.28s\n",
      "563:\tlearn: 0.3362936\ttotal: 1.65s\tremaining: 1.28s\n",
      "564:\tlearn: 0.3362041\ttotal: 1.65s\tremaining: 1.27s\n",
      "565:\tlearn: 0.3360285\ttotal: 1.66s\tremaining: 1.27s\n",
      "566:\tlearn: 0.3359432\ttotal: 1.66s\tremaining: 1.27s\n",
      "567:\tlearn: 0.3358400\ttotal: 1.66s\tremaining: 1.26s\n"
     ]
    },
    {
     "name": "stdout",
     "output_type": "stream",
     "text": [
      "568:\tlearn: 0.3357388\ttotal: 1.67s\tremaining: 1.26s\n",
      "569:\tlearn: 0.3355785\ttotal: 1.67s\tremaining: 1.26s\n",
      "570:\tlearn: 0.3354219\ttotal: 1.67s\tremaining: 1.25s\n",
      "571:\tlearn: 0.3351987\ttotal: 1.67s\tremaining: 1.25s\n",
      "572:\tlearn: 0.3350921\ttotal: 1.68s\tremaining: 1.25s\n",
      "573:\tlearn: 0.3349651\ttotal: 1.68s\tremaining: 1.25s\n",
      "574:\tlearn: 0.3348602\ttotal: 1.68s\tremaining: 1.24s\n",
      "575:\tlearn: 0.3347545\ttotal: 1.69s\tremaining: 1.24s\n",
      "576:\tlearn: 0.3346164\ttotal: 1.69s\tremaining: 1.24s\n",
      "577:\tlearn: 0.3345155\ttotal: 1.69s\tremaining: 1.23s\n",
      "578:\tlearn: 0.3343868\ttotal: 1.69s\tremaining: 1.23s\n",
      "579:\tlearn: 0.3342312\ttotal: 1.7s\tremaining: 1.23s\n",
      "580:\tlearn: 0.3341180\ttotal: 1.7s\tremaining: 1.23s\n",
      "581:\tlearn: 0.3339951\ttotal: 1.7s\tremaining: 1.22s\n",
      "582:\tlearn: 0.3339018\ttotal: 1.7s\tremaining: 1.22s\n",
      "583:\tlearn: 0.3338334\ttotal: 1.71s\tremaining: 1.22s\n",
      "584:\tlearn: 0.3337214\ttotal: 1.71s\tremaining: 1.21s\n",
      "585:\tlearn: 0.3336294\ttotal: 1.71s\tremaining: 1.21s\n",
      "586:\tlearn: 0.3335168\ttotal: 1.71s\tremaining: 1.21s\n",
      "587:\tlearn: 0.3333801\ttotal: 1.72s\tremaining: 1.2s\n",
      "588:\tlearn: 0.3332864\ttotal: 1.72s\tremaining: 1.2s\n",
      "589:\tlearn: 0.3332254\ttotal: 1.72s\tremaining: 1.2s\n",
      "590:\tlearn: 0.3331478\ttotal: 1.72s\tremaining: 1.19s\n",
      "591:\tlearn: 0.3330765\ttotal: 1.73s\tremaining: 1.19s\n",
      "592:\tlearn: 0.3329499\ttotal: 1.73s\tremaining: 1.19s\n",
      "593:\tlearn: 0.3327282\ttotal: 1.73s\tremaining: 1.18s\n",
      "594:\tlearn: 0.3325696\ttotal: 1.74s\tremaining: 1.18s\n",
      "595:\tlearn: 0.3324703\ttotal: 1.74s\tremaining: 1.18s\n"
     ]
    },
    {
     "name": "stdout",
     "output_type": "stream",
     "text": [
      "596:\tlearn: 0.3323955\ttotal: 1.74s\tremaining: 1.18s\n",
      "597:\tlearn: 0.3323286\ttotal: 1.74s\tremaining: 1.17s\n",
      "598:\tlearn: 0.3322207\ttotal: 1.75s\tremaining: 1.17s\n",
      "599:\tlearn: 0.3320861\ttotal: 1.75s\tremaining: 1.17s\n",
      "600:\tlearn: 0.3319428\ttotal: 1.75s\tremaining: 1.16s\n",
      "601:\tlearn: 0.3318324\ttotal: 1.76s\tremaining: 1.16s\n",
      "602:\tlearn: 0.3317357\ttotal: 1.76s\tremaining: 1.16s\n",
      "603:\tlearn: 0.3316672\ttotal: 1.76s\tremaining: 1.16s\n",
      "604:\tlearn: 0.3315453\ttotal: 1.76s\tremaining: 1.15s\n",
      "605:\tlearn: 0.3314279\ttotal: 1.77s\tremaining: 1.15s\n",
      "606:\tlearn: 0.3313008\ttotal: 1.77s\tremaining: 1.15s\n",
      "607:\tlearn: 0.3311474\ttotal: 1.77s\tremaining: 1.14s\n",
      "608:\tlearn: 0.3310822\ttotal: 1.78s\tremaining: 1.14s\n",
      "609:\tlearn: 0.3309935\ttotal: 1.78s\tremaining: 1.14s\n",
      "610:\tlearn: 0.3309068\ttotal: 1.78s\tremaining: 1.13s\n",
      "611:\tlearn: 0.3308123\ttotal: 1.78s\tremaining: 1.13s\n",
      "612:\tlearn: 0.3306773\ttotal: 1.79s\tremaining: 1.13s\n",
      "613:\tlearn: 0.3306077\ttotal: 1.79s\tremaining: 1.13s\n",
      "614:\tlearn: 0.3304807\ttotal: 1.79s\tremaining: 1.12s\n",
      "615:\tlearn: 0.3304030\ttotal: 1.79s\tremaining: 1.12s\n",
      "616:\tlearn: 0.3302902\ttotal: 1.8s\tremaining: 1.11s\n",
      "617:\tlearn: 0.3300588\ttotal: 1.8s\tremaining: 1.11s\n",
      "618:\tlearn: 0.3299997\ttotal: 1.8s\tremaining: 1.11s\n",
      "619:\tlearn: 0.3298136\ttotal: 1.8s\tremaining: 1.11s\n",
      "620:\tlearn: 0.3297278\ttotal: 1.81s\tremaining: 1.1s\n",
      "621:\tlearn: 0.3296676\ttotal: 1.81s\tremaining: 1.1s\n",
      "622:\tlearn: 0.3295102\ttotal: 1.81s\tremaining: 1.1s\n",
      "623:\tlearn: 0.3294047\ttotal: 1.81s\tremaining: 1.09s\n",
      "624:\tlearn: 0.3293024\ttotal: 1.82s\tremaining: 1.09s\n",
      "625:\tlearn: 0.3292254\ttotal: 1.82s\tremaining: 1.09s\n",
      "626:\tlearn: 0.3291375\ttotal: 1.82s\tremaining: 1.08s\n",
      "627:\tlearn: 0.3290090\ttotal: 1.82s\tremaining: 1.08s\n",
      "628:\tlearn: 0.3288178\ttotal: 1.83s\tremaining: 1.08s\n",
      "629:\tlearn: 0.3286894\ttotal: 1.83s\tremaining: 1.07s\n",
      "630:\tlearn: 0.3285796\ttotal: 1.83s\tremaining: 1.07s\n",
      "631:\tlearn: 0.3284421\ttotal: 1.84s\tremaining: 1.07s\n",
      "632:\tlearn: 0.3283570\ttotal: 1.84s\tremaining: 1.07s\n",
      "633:\tlearn: 0.3282693\ttotal: 1.84s\tremaining: 1.06s\n",
      "634:\tlearn: 0.3281324\ttotal: 1.84s\tremaining: 1.06s\n",
      "635:\tlearn: 0.3280252\ttotal: 1.85s\tremaining: 1.06s\n",
      "636:\tlearn: 0.3279781\ttotal: 1.85s\tremaining: 1.05s\n",
      "637:\tlearn: 0.3278696\ttotal: 1.85s\tremaining: 1.05s\n",
      "638:\tlearn: 0.3277989\ttotal: 1.85s\tremaining: 1.05s\n"
     ]
    },
    {
     "name": "stdout",
     "output_type": "stream",
     "text": [
      "639:\tlearn: 0.3275908\ttotal: 1.86s\tremaining: 1.05s\n",
      "640:\tlearn: 0.3274976\ttotal: 1.86s\tremaining: 1.04s\n",
      "641:\tlearn: 0.3273783\ttotal: 1.86s\tremaining: 1.04s\n",
      "642:\tlearn: 0.3271984\ttotal: 1.87s\tremaining: 1.04s\n",
      "643:\tlearn: 0.3270876\ttotal: 1.87s\tremaining: 1.03s\n",
      "644:\tlearn: 0.3269060\ttotal: 1.87s\tremaining: 1.03s\n",
      "645:\tlearn: 0.3267916\ttotal: 1.88s\tremaining: 1.03s\n",
      "646:\tlearn: 0.3267023\ttotal: 1.88s\tremaining: 1.02s\n",
      "647:\tlearn: 0.3266025\ttotal: 1.88s\tremaining: 1.02s\n",
      "648:\tlearn: 0.3264965\ttotal: 1.88s\tremaining: 1.02s\n",
      "649:\tlearn: 0.3264032\ttotal: 1.88s\tremaining: 1.01s\n",
      "650:\tlearn: 0.3263060\ttotal: 1.89s\tremaining: 1.01s\n",
      "651:\tlearn: 0.3262129\ttotal: 1.89s\tremaining: 1.01s\n",
      "652:\tlearn: 0.3260704\ttotal: 1.89s\tremaining: 1.01s\n",
      "653:\tlearn: 0.3259618\ttotal: 1.9s\tremaining: 1s\n",
      "654:\tlearn: 0.3258833\ttotal: 1.9s\tremaining: 1s\n",
      "655:\tlearn: 0.3257596\ttotal: 1.9s\tremaining: 997ms\n",
      "656:\tlearn: 0.3256429\ttotal: 1.9s\tremaining: 994ms\n",
      "657:\tlearn: 0.3255402\ttotal: 1.91s\tremaining: 992ms\n",
      "658:\tlearn: 0.3254074\ttotal: 1.91s\tremaining: 989ms\n",
      "659:\tlearn: 0.3253231\ttotal: 1.91s\tremaining: 986ms\n",
      "660:\tlearn: 0.3251670\ttotal: 1.92s\tremaining: 983ms\n",
      "661:\tlearn: 0.3250437\ttotal: 1.92s\tremaining: 980ms\n",
      "662:\tlearn: 0.3249205\ttotal: 1.92s\tremaining: 977ms\n",
      "663:\tlearn: 0.3247594\ttotal: 1.93s\tremaining: 974ms\n",
      "664:\tlearn: 0.3246443\ttotal: 1.93s\tremaining: 971ms\n",
      "665:\tlearn: 0.3245236\ttotal: 1.93s\tremaining: 968ms\n",
      "666:\tlearn: 0.3244509\ttotal: 1.93s\tremaining: 965ms\n"
     ]
    },
    {
     "name": "stdout",
     "output_type": "stream",
     "text": [
      "667:\tlearn: 0.3242656\ttotal: 1.93s\tremaining: 962ms\n",
      "668:\tlearn: 0.3241154\ttotal: 1.94s\tremaining: 958ms\n",
      "669:\tlearn: 0.3240422\ttotal: 1.94s\tremaining: 958ms\n",
      "670:\tlearn: 0.3238954\ttotal: 1.95s\tremaining: 954ms\n",
      "671:\tlearn: 0.3237903\ttotal: 1.95s\tremaining: 951ms\n",
      "672:\tlearn: 0.3236019\ttotal: 1.95s\tremaining: 948ms\n",
      "673:\tlearn: 0.3234743\ttotal: 1.95s\tremaining: 945ms\n",
      "674:\tlearn: 0.3234151\ttotal: 1.96s\tremaining: 942ms\n",
      "675:\tlearn: 0.3233506\ttotal: 1.96s\tremaining: 939ms\n",
      "676:\tlearn: 0.3232500\ttotal: 1.96s\tremaining: 936ms\n",
      "677:\tlearn: 0.3231646\ttotal: 1.96s\tremaining: 933ms\n",
      "678:\tlearn: 0.3230666\ttotal: 1.97s\tremaining: 930ms\n",
      "679:\tlearn: 0.3229767\ttotal: 1.97s\tremaining: 927ms\n",
      "680:\tlearn: 0.3228399\ttotal: 1.97s\tremaining: 924ms\n",
      "681:\tlearn: 0.3226810\ttotal: 1.97s\tremaining: 921ms\n",
      "682:\tlearn: 0.3225947\ttotal: 1.98s\tremaining: 918ms\n",
      "683:\tlearn: 0.3225122\ttotal: 1.98s\tremaining: 914ms\n",
      "684:\tlearn: 0.3224649\ttotal: 1.98s\tremaining: 911ms\n",
      "685:\tlearn: 0.3223084\ttotal: 1.98s\tremaining: 908ms\n",
      "686:\tlearn: 0.3221637\ttotal: 1.99s\tremaining: 905ms\n",
      "687:\tlearn: 0.3220596\ttotal: 1.99s\tremaining: 902ms\n",
      "688:\tlearn: 0.3219697\ttotal: 1.99s\tremaining: 900ms\n",
      "689:\tlearn: 0.3218938\ttotal: 2s\tremaining: 897ms\n",
      "690:\tlearn: 0.3217741\ttotal: 2s\tremaining: 893ms\n",
      "691:\tlearn: 0.3216740\ttotal: 2s\tremaining: 890ms\n",
      "692:\tlearn: 0.3215672\ttotal: 2s\tremaining: 887ms\n",
      "693:\tlearn: 0.3214566\ttotal: 2s\tremaining: 884ms\n",
      "694:\tlearn: 0.3213569\ttotal: 2.01s\tremaining: 881ms\n",
      "695:\tlearn: 0.3212746\ttotal: 2.01s\tremaining: 878ms\n",
      "696:\tlearn: 0.3211631\ttotal: 2.01s\tremaining: 875ms\n",
      "697:\tlearn: 0.3210263\ttotal: 2.02s\tremaining: 872ms\n",
      "698:\tlearn: 0.3209322\ttotal: 2.02s\tremaining: 869ms\n",
      "699:\tlearn: 0.3208326\ttotal: 2.02s\tremaining: 868ms\n",
      "700:\tlearn: 0.3207398\ttotal: 2.03s\tremaining: 864ms\n",
      "701:\tlearn: 0.3206246\ttotal: 2.03s\tremaining: 862ms\n",
      "702:\tlearn: 0.3205675\ttotal: 2.03s\tremaining: 859ms\n",
      "703:\tlearn: 0.3204552\ttotal: 2.04s\tremaining: 856ms\n",
      "704:\tlearn: 0.3203321\ttotal: 2.04s\tremaining: 853ms\n",
      "705:\tlearn: 0.3202505\ttotal: 2.04s\tremaining: 850ms\n",
      "706:\tlearn: 0.3201463\ttotal: 2.04s\tremaining: 847ms\n",
      "707:\tlearn: 0.3200803\ttotal: 2.05s\tremaining: 844ms\n",
      "708:\tlearn: 0.3199846\ttotal: 2.05s\tremaining: 841ms\n",
      "709:\tlearn: 0.3198672\ttotal: 2.05s\tremaining: 838ms\n",
      "710:\tlearn: 0.3198215\ttotal: 2.05s\tremaining: 835ms\n"
     ]
    },
    {
     "name": "stdout",
     "output_type": "stream",
     "text": [
      "711:\tlearn: 0.3196881\ttotal: 2.06s\tremaining: 832ms\n",
      "712:\tlearn: 0.3195588\ttotal: 2.06s\tremaining: 829ms\n",
      "713:\tlearn: 0.3194748\ttotal: 2.06s\tremaining: 826ms\n",
      "714:\tlearn: 0.3194019\ttotal: 2.06s\tremaining: 823ms\n",
      "715:\tlearn: 0.3193028\ttotal: 2.07s\tremaining: 820ms\n",
      "716:\tlearn: 0.3191834\ttotal: 2.07s\tremaining: 817ms\n",
      "717:\tlearn: 0.3191290\ttotal: 2.07s\tremaining: 814ms\n",
      "718:\tlearn: 0.3190709\ttotal: 2.08s\tremaining: 811ms\n",
      "719:\tlearn: 0.3190245\ttotal: 2.08s\tremaining: 808ms\n",
      "720:\tlearn: 0.3189529\ttotal: 2.08s\tremaining: 805ms\n",
      "721:\tlearn: 0.3188524\ttotal: 2.08s\tremaining: 802ms\n",
      "722:\tlearn: 0.3187457\ttotal: 2.08s\tremaining: 799ms\n",
      "723:\tlearn: 0.3185968\ttotal: 2.09s\tremaining: 796ms\n",
      "724:\tlearn: 0.3185097\ttotal: 2.09s\tremaining: 793ms\n",
      "725:\tlearn: 0.3184418\ttotal: 2.09s\tremaining: 790ms\n",
      "726:\tlearn: 0.3183599\ttotal: 2.1s\tremaining: 787ms\n",
      "727:\tlearn: 0.3182311\ttotal: 2.1s\tremaining: 784ms\n",
      "728:\tlearn: 0.3180832\ttotal: 2.1s\tremaining: 781ms\n",
      "729:\tlearn: 0.3179745\ttotal: 2.1s\tremaining: 778ms\n",
      "730:\tlearn: 0.3178820\ttotal: 2.11s\tremaining: 775ms\n",
      "731:\tlearn: 0.3177997\ttotal: 2.11s\tremaining: 772ms\n",
      "732:\tlearn: 0.3176819\ttotal: 2.11s\tremaining: 769ms\n",
      "733:\tlearn: 0.3175857\ttotal: 2.11s\tremaining: 766ms\n",
      "734:\tlearn: 0.3174820\ttotal: 2.12s\tremaining: 764ms\n",
      "735:\tlearn: 0.3174030\ttotal: 2.12s\tremaining: 761ms\n",
      "736:\tlearn: 0.3173346\ttotal: 2.12s\tremaining: 758ms\n",
      "737:\tlearn: 0.3172790\ttotal: 2.13s\tremaining: 755ms\n",
      "738:\tlearn: 0.3171796\ttotal: 2.13s\tremaining: 752ms\n"
     ]
    },
    {
     "name": "stdout",
     "output_type": "stream",
     "text": [
      "739:\tlearn: 0.3170653\ttotal: 2.13s\tremaining: 749ms\n",
      "740:\tlearn: 0.3169995\ttotal: 2.13s\tremaining: 746ms\n",
      "741:\tlearn: 0.3168888\ttotal: 2.13s\tremaining: 743ms\n",
      "742:\tlearn: 0.3167660\ttotal: 2.14s\tremaining: 740ms\n",
      "743:\tlearn: 0.3166533\ttotal: 2.14s\tremaining: 737ms\n",
      "744:\tlearn: 0.3165470\ttotal: 2.14s\tremaining: 734ms\n",
      "745:\tlearn: 0.3164738\ttotal: 2.15s\tremaining: 731ms\n",
      "746:\tlearn: 0.3163305\ttotal: 2.15s\tremaining: 729ms\n",
      "747:\tlearn: 0.3162259\ttotal: 2.15s\tremaining: 725ms\n",
      "748:\tlearn: 0.3161469\ttotal: 2.16s\tremaining: 723ms\n",
      "749:\tlearn: 0.3160510\ttotal: 2.16s\tremaining: 720ms\n",
      "750:\tlearn: 0.3159567\ttotal: 2.16s\tremaining: 717ms\n",
      "751:\tlearn: 0.3158564\ttotal: 2.16s\tremaining: 714ms\n",
      "752:\tlearn: 0.3157698\ttotal: 2.17s\tremaining: 711ms\n",
      "753:\tlearn: 0.3156493\ttotal: 2.17s\tremaining: 708ms\n",
      "754:\tlearn: 0.3155235\ttotal: 2.17s\tremaining: 705ms\n",
      "755:\tlearn: 0.3154639\ttotal: 2.17s\tremaining: 702ms\n",
      "756:\tlearn: 0.3154062\ttotal: 2.18s\tremaining: 699ms\n",
      "757:\tlearn: 0.3153599\ttotal: 2.18s\tremaining: 696ms\n",
      "758:\tlearn: 0.3152884\ttotal: 2.2s\tremaining: 699ms\n",
      "759:\tlearn: 0.3152294\ttotal: 2.2s\tremaining: 696ms\n",
      "760:\tlearn: 0.3150988\ttotal: 2.21s\tremaining: 694ms\n",
      "761:\tlearn: 0.3150034\ttotal: 2.21s\tremaining: 691ms\n",
      "762:\tlearn: 0.3148636\ttotal: 2.21s\tremaining: 688ms\n",
      "763:\tlearn: 0.3147690\ttotal: 2.22s\tremaining: 685ms\n",
      "764:\tlearn: 0.3146793\ttotal: 2.22s\tremaining: 682ms\n",
      "765:\tlearn: 0.3145874\ttotal: 2.22s\tremaining: 679ms\n",
      "766:\tlearn: 0.3145092\ttotal: 2.23s\tremaining: 676ms\n",
      "767:\tlearn: 0.3144204\ttotal: 2.23s\tremaining: 674ms\n",
      "768:\tlearn: 0.3143589\ttotal: 2.23s\tremaining: 670ms\n",
      "769:\tlearn: 0.3142834\ttotal: 2.23s\tremaining: 667ms\n",
      "770:\tlearn: 0.3141721\ttotal: 2.24s\tremaining: 664ms\n",
      "771:\tlearn: 0.3140656\ttotal: 2.24s\tremaining: 662ms\n",
      "772:\tlearn: 0.3139644\ttotal: 2.24s\tremaining: 659ms\n",
      "773:\tlearn: 0.3138498\ttotal: 2.25s\tremaining: 656ms\n",
      "774:\tlearn: 0.3137725\ttotal: 2.25s\tremaining: 653ms\n"
     ]
    },
    {
     "name": "stdout",
     "output_type": "stream",
     "text": [
      "775:\tlearn: 0.3136968\ttotal: 2.25s\tremaining: 650ms\n",
      "776:\tlearn: 0.3135886\ttotal: 2.25s\tremaining: 647ms\n",
      "777:\tlearn: 0.3135141\ttotal: 2.26s\tremaining: 644ms\n",
      "778:\tlearn: 0.3134176\ttotal: 2.26s\tremaining: 641ms\n",
      "779:\tlearn: 0.3133404\ttotal: 2.26s\tremaining: 638ms\n",
      "780:\tlearn: 0.3132911\ttotal: 2.27s\tremaining: 635ms\n",
      "781:\tlearn: 0.3132063\ttotal: 2.27s\tremaining: 632ms\n",
      "782:\tlearn: 0.3131132\ttotal: 2.27s\tremaining: 629ms\n",
      "783:\tlearn: 0.3130075\ttotal: 2.27s\tremaining: 626ms\n",
      "784:\tlearn: 0.3129335\ttotal: 2.28s\tremaining: 623ms\n",
      "785:\tlearn: 0.3128737\ttotal: 2.28s\tremaining: 621ms\n",
      "786:\tlearn: 0.3127875\ttotal: 2.28s\tremaining: 618ms\n",
      "787:\tlearn: 0.3126803\ttotal: 2.29s\tremaining: 615ms\n",
      "788:\tlearn: 0.3125969\ttotal: 2.29s\tremaining: 612ms\n",
      "789:\tlearn: 0.3125111\ttotal: 2.29s\tremaining: 609ms\n",
      "790:\tlearn: 0.3124062\ttotal: 2.29s\tremaining: 606ms\n",
      "791:\tlearn: 0.3123132\ttotal: 2.3s\tremaining: 603ms\n",
      "792:\tlearn: 0.3121821\ttotal: 2.3s\tremaining: 600ms\n",
      "793:\tlearn: 0.3120962\ttotal: 2.3s\tremaining: 598ms\n",
      "794:\tlearn: 0.3120373\ttotal: 2.31s\tremaining: 595ms\n",
      "795:\tlearn: 0.3119538\ttotal: 2.31s\tremaining: 592ms\n",
      "796:\tlearn: 0.3119043\ttotal: 2.31s\tremaining: 589ms\n",
      "797:\tlearn: 0.3118423\ttotal: 2.31s\tremaining: 586ms\n",
      "798:\tlearn: 0.3117899\ttotal: 2.32s\tremaining: 583ms\n",
      "799:\tlearn: 0.3117180\ttotal: 2.32s\tremaining: 580ms\n",
      "800:\tlearn: 0.3116699\ttotal: 2.32s\tremaining: 577ms\n"
     ]
    },
    {
     "name": "stdout",
     "output_type": "stream",
     "text": [
      "801:\tlearn: 0.3115701\ttotal: 2.33s\tremaining: 574ms\n",
      "802:\tlearn: 0.3114838\ttotal: 2.33s\tremaining: 571ms\n",
      "803:\tlearn: 0.3114342\ttotal: 2.33s\tremaining: 568ms\n",
      "804:\tlearn: 0.3112940\ttotal: 2.33s\tremaining: 565ms\n",
      "805:\tlearn: 0.3112167\ttotal: 2.34s\tremaining: 562ms\n",
      "806:\tlearn: 0.3111027\ttotal: 2.34s\tremaining: 559ms\n",
      "807:\tlearn: 0.3110672\ttotal: 2.34s\tremaining: 556ms\n",
      "808:\tlearn: 0.3109894\ttotal: 2.34s\tremaining: 553ms\n",
      "809:\tlearn: 0.3108481\ttotal: 2.35s\tremaining: 550ms\n",
      "810:\tlearn: 0.3107354\ttotal: 2.35s\tremaining: 547ms\n",
      "811:\tlearn: 0.3107035\ttotal: 2.35s\tremaining: 544ms\n",
      "812:\tlearn: 0.3105588\ttotal: 2.35s\tremaining: 541ms\n",
      "813:\tlearn: 0.3105110\ttotal: 2.35s\tremaining: 538ms\n",
      "814:\tlearn: 0.3104209\ttotal: 2.36s\tremaining: 535ms\n",
      "815:\tlearn: 0.3103462\ttotal: 2.36s\tremaining: 532ms\n",
      "816:\tlearn: 0.3102986\ttotal: 2.36s\tremaining: 529ms\n",
      "817:\tlearn: 0.3101944\ttotal: 2.37s\tremaining: 526ms\n",
      "818:\tlearn: 0.3100369\ttotal: 2.37s\tremaining: 523ms\n",
      "819:\tlearn: 0.3099069\ttotal: 2.37s\tremaining: 520ms\n",
      "820:\tlearn: 0.3097919\ttotal: 2.37s\tremaining: 518ms\n",
      "821:\tlearn: 0.3097253\ttotal: 2.38s\tremaining: 515ms\n",
      "822:\tlearn: 0.3096397\ttotal: 2.38s\tremaining: 512ms\n",
      "823:\tlearn: 0.3095627\ttotal: 2.38s\tremaining: 509ms\n",
      "824:\tlearn: 0.3094765\ttotal: 2.38s\tremaining: 506ms\n",
      "825:\tlearn: 0.3094230\ttotal: 2.39s\tremaining: 503ms\n",
      "826:\tlearn: 0.3093434\ttotal: 2.39s\tremaining: 500ms\n",
      "827:\tlearn: 0.3092696\ttotal: 2.39s\tremaining: 497ms\n",
      "828:\tlearn: 0.3091312\ttotal: 2.4s\tremaining: 494ms\n",
      "829:\tlearn: 0.3090391\ttotal: 2.4s\tremaining: 491ms\n",
      "830:\tlearn: 0.3089162\ttotal: 2.4s\tremaining: 488ms\n",
      "831:\tlearn: 0.3088166\ttotal: 2.4s\tremaining: 485ms\n",
      "832:\tlearn: 0.3087618\ttotal: 2.4s\tremaining: 482ms\n",
      "833:\tlearn: 0.3086493\ttotal: 2.41s\tremaining: 479ms\n",
      "834:\tlearn: 0.3085998\ttotal: 2.41s\tremaining: 476ms\n",
      "835:\tlearn: 0.3085189\ttotal: 2.41s\tremaining: 474ms\n",
      "836:\tlearn: 0.3084144\ttotal: 2.42s\tremaining: 471ms\n",
      "837:\tlearn: 0.3083848\ttotal: 2.42s\tremaining: 468ms\n",
      "838:\tlearn: 0.3082983\ttotal: 2.42s\tremaining: 465ms\n",
      "839:\tlearn: 0.3082185\ttotal: 2.43s\tremaining: 462ms\n",
      "840:\tlearn: 0.3081136\ttotal: 2.43s\tremaining: 460ms\n",
      "841:\tlearn: 0.3080244\ttotal: 2.43s\tremaining: 457ms\n",
      "842:\tlearn: 0.3079575\ttotal: 2.44s\tremaining: 454ms\n",
      "843:\tlearn: 0.3078566\ttotal: 2.44s\tremaining: 451ms\n",
      "844:\tlearn: 0.3077675\ttotal: 2.44s\tremaining: 448ms\n"
     ]
    },
    {
     "name": "stdout",
     "output_type": "stream",
     "text": [
      "845:\tlearn: 0.3076807\ttotal: 2.44s\tremaining: 445ms\n",
      "846:\tlearn: 0.3075163\ttotal: 2.45s\tremaining: 442ms\n",
      "847:\tlearn: 0.3074562\ttotal: 2.45s\tremaining: 439ms\n",
      "848:\tlearn: 0.3073673\ttotal: 2.45s\tremaining: 436ms\n",
      "849:\tlearn: 0.3072883\ttotal: 2.46s\tremaining: 433ms\n",
      "850:\tlearn: 0.3071570\ttotal: 2.46s\tremaining: 430ms\n",
      "851:\tlearn: 0.3070664\ttotal: 2.46s\tremaining: 428ms\n",
      "852:\tlearn: 0.3069668\ttotal: 2.46s\tremaining: 425ms\n",
      "853:\tlearn: 0.3068902\ttotal: 2.47s\tremaining: 422ms\n",
      "854:\tlearn: 0.3068039\ttotal: 2.47s\tremaining: 419ms\n",
      "855:\tlearn: 0.3067048\ttotal: 2.47s\tremaining: 416ms\n",
      "856:\tlearn: 0.3066214\ttotal: 2.47s\tremaining: 413ms\n",
      "857:\tlearn: 0.3065624\ttotal: 2.48s\tremaining: 410ms\n",
      "858:\tlearn: 0.3064497\ttotal: 2.48s\tremaining: 407ms\n",
      "859:\tlearn: 0.3063715\ttotal: 2.48s\tremaining: 404ms\n",
      "860:\tlearn: 0.3062829\ttotal: 2.49s\tremaining: 401ms\n",
      "861:\tlearn: 0.3062041\ttotal: 2.49s\tremaining: 398ms\n",
      "862:\tlearn: 0.3061148\ttotal: 2.49s\tremaining: 395ms\n",
      "863:\tlearn: 0.3060553\ttotal: 2.49s\tremaining: 393ms\n",
      "864:\tlearn: 0.3059924\ttotal: 2.5s\tremaining: 390ms\n",
      "865:\tlearn: 0.3059400\ttotal: 2.5s\tremaining: 387ms\n"
     ]
    },
    {
     "name": "stdout",
     "output_type": "stream",
     "text": [
      "866:\tlearn: 0.3058097\ttotal: 2.5s\tremaining: 384ms\n",
      "867:\tlearn: 0.3057207\ttotal: 2.5s\tremaining: 381ms\n",
      "868:\tlearn: 0.3056294\ttotal: 2.51s\tremaining: 378ms\n",
      "869:\tlearn: 0.3054743\ttotal: 2.51s\tremaining: 375ms\n",
      "870:\tlearn: 0.3054061\ttotal: 2.51s\tremaining: 372ms\n",
      "871:\tlearn: 0.3053542\ttotal: 2.52s\tremaining: 369ms\n",
      "872:\tlearn: 0.3052952\ttotal: 2.52s\tremaining: 366ms\n",
      "873:\tlearn: 0.3052383\ttotal: 2.52s\tremaining: 363ms\n",
      "874:\tlearn: 0.3051760\ttotal: 2.52s\tremaining: 361ms\n",
      "875:\tlearn: 0.3050920\ttotal: 2.53s\tremaining: 358ms\n",
      "876:\tlearn: 0.3050145\ttotal: 2.53s\tremaining: 355ms\n",
      "877:\tlearn: 0.3049364\ttotal: 2.53s\tremaining: 352ms\n",
      "878:\tlearn: 0.3048298\ttotal: 2.53s\tremaining: 349ms\n",
      "879:\tlearn: 0.3047803\ttotal: 2.54s\tremaining: 346ms\n",
      "880:\tlearn: 0.3046736\ttotal: 2.54s\tremaining: 343ms\n",
      "881:\tlearn: 0.3045766\ttotal: 2.54s\tremaining: 340ms\n",
      "882:\tlearn: 0.3044636\ttotal: 2.54s\tremaining: 337ms\n",
      "883:\tlearn: 0.3044286\ttotal: 2.55s\tremaining: 334ms\n",
      "884:\tlearn: 0.3043414\ttotal: 2.55s\tremaining: 331ms\n",
      "885:\tlearn: 0.3042657\ttotal: 2.55s\tremaining: 329ms\n",
      "886:\tlearn: 0.3042079\ttotal: 2.56s\tremaining: 326ms\n",
      "887:\tlearn: 0.3041563\ttotal: 2.56s\tremaining: 323ms\n",
      "888:\tlearn: 0.3040738\ttotal: 2.56s\tremaining: 320ms\n",
      "889:\tlearn: 0.3039294\ttotal: 2.56s\tremaining: 317ms\n",
      "890:\tlearn: 0.3038524\ttotal: 2.57s\tremaining: 314ms\n",
      "891:\tlearn: 0.3037736\ttotal: 2.57s\tremaining: 311ms\n",
      "892:\tlearn: 0.3037081\ttotal: 2.57s\tremaining: 308ms\n",
      "893:\tlearn: 0.3036198\ttotal: 2.57s\tremaining: 305ms\n",
      "894:\tlearn: 0.3035487\ttotal: 2.58s\tremaining: 302ms\n",
      "895:\tlearn: 0.3034668\ttotal: 2.58s\tremaining: 299ms\n",
      "896:\tlearn: 0.3033755\ttotal: 2.58s\tremaining: 296ms\n",
      "897:\tlearn: 0.3032899\ttotal: 2.58s\tremaining: 293ms\n",
      "898:\tlearn: 0.3031947\ttotal: 2.59s\tremaining: 291ms\n",
      "899:\tlearn: 0.3031073\ttotal: 2.59s\tremaining: 288ms\n",
      "900:\tlearn: 0.3029972\ttotal: 2.59s\tremaining: 285ms\n",
      "901:\tlearn: 0.3028945\ttotal: 2.59s\tremaining: 282ms\n",
      "902:\tlearn: 0.3028043\ttotal: 2.6s\tremaining: 279ms\n",
      "903:\tlearn: 0.3026436\ttotal: 2.6s\tremaining: 276ms\n",
      "904:\tlearn: 0.3025804\ttotal: 2.6s\tremaining: 273ms\n",
      "905:\tlearn: 0.3024911\ttotal: 2.6s\tremaining: 270ms\n",
      "906:\tlearn: 0.3024119\ttotal: 2.61s\tremaining: 267ms\n",
      "907:\tlearn: 0.3023480\ttotal: 2.61s\tremaining: 264ms\n",
      "908:\tlearn: 0.3022580\ttotal: 2.61s\tremaining: 261ms\n",
      "909:\tlearn: 0.3021815\ttotal: 2.61s\tremaining: 259ms\n",
      "910:\tlearn: 0.3021390\ttotal: 2.62s\tremaining: 256ms\n",
      "911:\tlearn: 0.3020511\ttotal: 2.62s\tremaining: 253ms\n"
     ]
    },
    {
     "name": "stdout",
     "output_type": "stream",
     "text": [
      "912:\tlearn: 0.3019986\ttotal: 2.62s\tremaining: 250ms\n",
      "913:\tlearn: 0.3019404\ttotal: 2.62s\tremaining: 247ms\n",
      "914:\tlearn: 0.3018811\ttotal: 2.63s\tremaining: 244ms\n",
      "915:\tlearn: 0.3018061\ttotal: 2.63s\tremaining: 241ms\n",
      "916:\tlearn: 0.3017362\ttotal: 2.63s\tremaining: 238ms\n",
      "917:\tlearn: 0.3016700\ttotal: 2.63s\tremaining: 235ms\n",
      "918:\tlearn: 0.3016300\ttotal: 2.64s\tremaining: 232ms\n",
      "919:\tlearn: 0.3015397\ttotal: 2.64s\tremaining: 230ms\n",
      "920:\tlearn: 0.3014483\ttotal: 2.64s\tremaining: 227ms\n",
      "921:\tlearn: 0.3013524\ttotal: 2.65s\tremaining: 224ms\n",
      "922:\tlearn: 0.3013164\ttotal: 2.65s\tremaining: 221ms\n",
      "923:\tlearn: 0.3012093\ttotal: 2.65s\tremaining: 218ms\n",
      "924:\tlearn: 0.3010832\ttotal: 2.65s\tremaining: 215ms\n",
      "925:\tlearn: 0.3010111\ttotal: 2.65s\tremaining: 212ms\n",
      "926:\tlearn: 0.3009444\ttotal: 2.66s\tremaining: 209ms\n",
      "927:\tlearn: 0.3008930\ttotal: 2.66s\tremaining: 206ms\n",
      "928:\tlearn: 0.3007903\ttotal: 2.66s\tremaining: 204ms\n",
      "929:\tlearn: 0.3007520\ttotal: 2.67s\tremaining: 201ms\n",
      "930:\tlearn: 0.3006585\ttotal: 2.67s\tremaining: 198ms\n",
      "931:\tlearn: 0.3005945\ttotal: 2.67s\tremaining: 195ms\n",
      "932:\tlearn: 0.3005456\ttotal: 2.67s\tremaining: 192ms\n",
      "933:\tlearn: 0.3004555\ttotal: 2.67s\tremaining: 189ms\n",
      "934:\tlearn: 0.3003885\ttotal: 2.68s\tremaining: 186ms\n",
      "935:\tlearn: 0.3003165\ttotal: 2.68s\tremaining: 183ms\n",
      "936:\tlearn: 0.3002264\ttotal: 2.68s\tremaining: 180ms\n",
      "937:\tlearn: 0.3001830\ttotal: 2.68s\tremaining: 177ms\n",
      "938:\tlearn: 0.3000700\ttotal: 2.69s\tremaining: 175ms\n",
      "939:\tlearn: 0.2999806\ttotal: 2.69s\tremaining: 172ms\n",
      "940:\tlearn: 0.2999361\ttotal: 2.69s\tremaining: 169ms\n",
      "941:\tlearn: 0.2998691\ttotal: 2.69s\tremaining: 166ms\n"
     ]
    },
    {
     "name": "stdout",
     "output_type": "stream",
     "text": [
      "942:\tlearn: 0.2998195\ttotal: 2.7s\tremaining: 163ms\n",
      "943:\tlearn: 0.2997034\ttotal: 2.7s\tremaining: 160ms\n",
      "944:\tlearn: 0.2996594\ttotal: 2.7s\tremaining: 157ms\n",
      "945:\tlearn: 0.2995873\ttotal: 2.7s\tremaining: 154ms\n",
      "946:\tlearn: 0.2995142\ttotal: 2.71s\tremaining: 151ms\n",
      "947:\tlearn: 0.2994336\ttotal: 2.71s\tremaining: 149ms\n",
      "948:\tlearn: 0.2993734\ttotal: 2.71s\tremaining: 146ms\n",
      "949:\tlearn: 0.2993295\ttotal: 2.71s\tremaining: 143ms\n",
      "950:\tlearn: 0.2991578\ttotal: 2.72s\tremaining: 140ms\n",
      "951:\tlearn: 0.2991081\ttotal: 2.72s\tremaining: 137ms\n",
      "952:\tlearn: 0.2990168\ttotal: 2.72s\tremaining: 134ms\n",
      "953:\tlearn: 0.2989559\ttotal: 2.72s\tremaining: 131ms\n",
      "954:\tlearn: 0.2988843\ttotal: 2.73s\tremaining: 129ms\n",
      "955:\tlearn: 0.2988302\ttotal: 2.73s\tremaining: 126ms\n",
      "956:\tlearn: 0.2987820\ttotal: 2.73s\tremaining: 123ms\n",
      "957:\tlearn: 0.2987039\ttotal: 2.73s\tremaining: 120ms\n",
      "958:\tlearn: 0.2986255\ttotal: 2.74s\tremaining: 117ms\n",
      "959:\tlearn: 0.2985648\ttotal: 2.74s\tremaining: 114ms\n",
      "960:\tlearn: 0.2984405\ttotal: 2.74s\tremaining: 111ms\n",
      "961:\tlearn: 0.2983307\ttotal: 2.75s\tremaining: 108ms\n",
      "962:\tlearn: 0.2982547\ttotal: 2.75s\tremaining: 106ms\n",
      "963:\tlearn: 0.2981892\ttotal: 2.75s\tremaining: 103ms\n",
      "964:\tlearn: 0.2981209\ttotal: 2.75s\tremaining: 99.8ms\n",
      "965:\tlearn: 0.2980629\ttotal: 2.75s\tremaining: 97ms\n",
      "966:\tlearn: 0.2980152\ttotal: 2.76s\tremaining: 94.1ms\n",
      "967:\tlearn: 0.2979223\ttotal: 2.76s\tremaining: 91.2ms\n",
      "968:\tlearn: 0.2978490\ttotal: 2.76s\tremaining: 88.4ms\n",
      "969:\tlearn: 0.2978082\ttotal: 2.76s\tremaining: 85.5ms\n",
      "970:\tlearn: 0.2977510\ttotal: 2.77s\tremaining: 82.6ms\n",
      "971:\tlearn: 0.2976846\ttotal: 2.77s\tremaining: 79.8ms\n",
      "972:\tlearn: 0.2976340\ttotal: 2.77s\tremaining: 76.9ms\n",
      "973:\tlearn: 0.2974872\ttotal: 2.77s\tremaining: 74.1ms\n",
      "974:\tlearn: 0.2974078\ttotal: 2.78s\tremaining: 71.2ms\n",
      "975:\tlearn: 0.2973151\ttotal: 2.78s\tremaining: 68.3ms\n",
      "976:\tlearn: 0.2971661\ttotal: 2.78s\tremaining: 65.5ms\n",
      "977:\tlearn: 0.2971140\ttotal: 2.78s\tremaining: 62.6ms\n",
      "978:\tlearn: 0.2970195\ttotal: 2.79s\tremaining: 59.8ms\n",
      "979:\tlearn: 0.2969796\ttotal: 2.79s\tremaining: 56.9ms\n",
      "980:\tlearn: 0.2968991\ttotal: 2.79s\tremaining: 54.1ms\n",
      "981:\tlearn: 0.2968265\ttotal: 2.79s\tremaining: 51.2ms\n",
      "982:\tlearn: 0.2967765\ttotal: 2.8s\tremaining: 48.4ms\n",
      "983:\tlearn: 0.2967045\ttotal: 2.8s\tremaining: 45.5ms\n",
      "984:\tlearn: 0.2966146\ttotal: 2.8s\tremaining: 42.7ms\n",
      "985:\tlearn: 0.2965187\ttotal: 2.8s\tremaining: 39.8ms\n",
      "986:\tlearn: 0.2964494\ttotal: 2.81s\tremaining: 37ms\n",
      "987:\tlearn: 0.2963908\ttotal: 2.81s\tremaining: 34.1ms\n",
      "988:\tlearn: 0.2963278\ttotal: 2.81s\tremaining: 31.3ms\n",
      "989:\tlearn: 0.2962774\ttotal: 2.81s\tremaining: 28.4ms\n"
     ]
    },
    {
     "name": "stdout",
     "output_type": "stream",
     "text": [
      "990:\tlearn: 0.2961813\ttotal: 2.82s\tremaining: 25.6ms\n",
      "991:\tlearn: 0.2960588\ttotal: 2.82s\tremaining: 22.7ms\n",
      "992:\tlearn: 0.2959131\ttotal: 2.82s\tremaining: 19.9ms\n",
      "993:\tlearn: 0.2957751\ttotal: 2.83s\tremaining: 17.1ms\n",
      "994:\tlearn: 0.2957029\ttotal: 2.83s\tremaining: 14.2ms\n",
      "995:\tlearn: 0.2956524\ttotal: 2.83s\tremaining: 11.4ms\n",
      "996:\tlearn: 0.2956074\ttotal: 2.83s\tremaining: 8.53ms\n",
      "997:\tlearn: 0.2955298\ttotal: 2.83s\tremaining: 5.68ms\n",
      "998:\tlearn: 0.2954671\ttotal: 2.84s\tremaining: 2.84ms\n",
      "999:\tlearn: 0.2953988\ttotal: 2.84s\tremaining: 0us\n",
      "Mean Squared error 0.14653665467312896\n"
     ]
    },
    {
     "data": {
      "application/scrapbook.scrap.json+json": {
       "data": 0.14653665467312896,
       "encoder": "json",
       "name": "Catboost MSE",
       "version": 1
      }
     },
     "metadata": {
      "scrapbook": {
       "data": true,
       "display": false,
       "name": "Catboost MSE"
      }
     },
     "output_type": "display_data"
    }
   ],
   "source": [
    "mse_cb = baselineModels.catboost(X_train,y_train,X_test,y_test)\n",
    "#Store MSE Value \n",
    "sb.glue(\"Catboost MSE\",mse_cb)"
   ]
  },
  {
   "cell_type": "markdown",
   "id": "971025ac",
   "metadata": {
    "papermill": {
     "duration": 0.013235,
     "end_time": "2021-12-24T13:48:16.295980",
     "exception": false,
     "start_time": "2021-12-24T13:48:16.282745",
     "status": "completed"
    },
    "tags": []
   },
   "source": [
    "## Vanilla Neural Network "
   ]
  },
  {
   "cell_type": "code",
   "execution_count": 8,
   "id": "a16ca0f2",
   "metadata": {
    "execution": {
     "iopub.execute_input": "2021-12-24T13:48:16.325629Z",
     "iopub.status.busy": "2021-12-24T13:48:16.325208Z",
     "iopub.status.idle": "2021-12-24T13:58:14.544695Z",
     "shell.execute_reply": "2021-12-24T13:58:14.544422Z"
    },
    "papermill": {
     "duration": 598.236147,
     "end_time": "2021-12-24T13:58:14.544801",
     "exception": false,
     "start_time": "2021-12-24T13:48:16.308654",
     "status": "completed"
    },
    "tags": []
   },
   "outputs": [
    {
     "data": {
      "application/scrapbook.scrap.json+json": {
       "data": 1.0094129584388856,
       "encoder": "json",
       "name": "Vanilla NN MSE",
       "version": 1
      }
     },
     "metadata": {
      "scrapbook": {
       "data": true,
       "display": false,
       "name": "Vanilla NN MSE"
      }
     },
     "output_type": "display_data"
    },
    {
     "name": "stdout",
     "output_type": "stream",
     "text": [
      "Mean Squared error 1.0094129584388856\n"
     ]
    }
   ],
   "source": [
    "# Parameters \n",
    "n_epochs = 1000\n",
    "batch_size = 1000\n",
    "device = torch.device('cuda' if torch.cuda.is_available() else 'cpu')\n",
    "baselineModels.vanillaNeuralNetwork(train_data,test_data,batch_size,n_features,n_target,n_epochs)"
   ]
  }
 ],
 "metadata": {
  "interpreter": {
   "hash": "10498c76ddd8160350534c6544a2b2fb65f2138dbc70420f7c81a3268f830f23"
  },
  "kernelspec": {
   "display_name": "Python 3 (ipykernel)",
   "language": "python",
   "name": "python3"
  },
  "language_info": {
   "codemirror_mode": {
    "name": "ipython",
    "version": 3
   },
   "file_extension": ".py",
   "mimetype": "text/x-python",
   "name": "python",
   "nbconvert_exporter": "python",
   "pygments_lexer": "ipython3",
   "version": "3.8.11"
  },
  "papermill": {
   "default_parameters": {},
   "duration": 607.330414,
   "end_time": "2021-12-24T13:58:14.863754",
   "environment_variables": {},
   "exception": null,
   "input_path": "BaselineModels.ipynb",
   "output_path": "./BaseLine_Model_Output/baselineModels_output_10.ipynb",
   "parameters": {},
   "start_time": "2021-12-24T13:48:07.533340",
   "version": "2.3.3"
  }
 },
 "nbformat": 4,
 "nbformat_minor": 5
}