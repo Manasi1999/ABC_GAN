{
 "cells": [
  {
   "cell_type": "markdown",
   "id": "3d325262",
   "metadata": {
    "papermill": {
     "duration": 0.014947,
     "end_time": "2021-12-24T13:33:12.716156",
     "exception": false,
     "start_time": "2021-12-24T13:33:12.701209",
     "status": "completed"
    },
    "tags": []
   },
   "source": [
    "## Import Libraries "
   ]
  },
  {
   "cell_type": "code",
   "execution_count": 1,
   "id": "ed36e0ce",
   "metadata": {
    "execution": {
     "iopub.execute_input": "2021-12-24T13:33:12.745343Z",
     "iopub.status.busy": "2021-12-24T13:33:12.744622Z",
     "iopub.status.idle": "2021-12-24T13:33:12.747555Z",
     "shell.execute_reply": "2021-12-24T13:33:12.747955Z"
    },
    "papermill": {
     "duration": 0.021749,
     "end_time": "2021-12-24T13:33:12.748225",
     "exception": false,
     "start_time": "2021-12-24T13:33:12.726476",
     "status": "completed"
    },
    "tags": []
   },
   "outputs": [],
   "source": [
    "import warnings\n",
    "import sys\n",
    "sys.path.insert(0, '../../src')\n",
    "warnings.filterwarnings('ignore')"
   ]
  },
  {
   "cell_type": "code",
   "execution_count": 2,
   "id": "5a56c429",
   "metadata": {
    "execution": {
     "iopub.execute_input": "2021-12-24T13:33:12.763802Z",
     "iopub.status.busy": "2021-12-24T13:33:12.763292Z",
     "iopub.status.idle": "2021-12-24T13:33:14.771909Z",
     "shell.execute_reply": "2021-12-24T13:33:14.772160Z"
    },
    "papermill": {
     "duration": 2.017385,
     "end_time": "2021-12-24T13:33:14.772280",
     "exception": false,
     "start_time": "2021-12-24T13:33:12.754895",
     "status": "completed"
    },
    "tags": []
   },
   "outputs": [],
   "source": [
    "import baselineModels\n",
    "import scrapbook as sb \n",
    "import torch \n",
    "import statsModel\n",
    "import californiaDataset\n",
    "import dataset \n",
    "from torch.utils.data import random_split \n",
    "from sklearn.model_selection import train_test_split"
   ]
  },
  {
   "cell_type": "markdown",
   "id": "ffc6b111",
   "metadata": {
    "papermill": {
     "duration": 0.003637,
     "end_time": "2021-12-24T13:33:14.779617",
     "exception": false,
     "start_time": "2021-12-24T13:33:14.775980",
     "status": "completed"
    },
    "tags": []
   },
   "source": [
    "## Import Dataset \n"
   ]
  },
  {
   "cell_type": "code",
   "execution_count": 3,
   "id": "f353f601",
   "metadata": {
    "execution": {
     "iopub.execute_input": "2021-12-24T13:33:14.789417Z",
     "iopub.status.busy": "2021-12-24T13:33:14.789022Z",
     "iopub.status.idle": "2021-12-24T13:33:14.804396Z",
     "shell.execute_reply": "2021-12-24T13:33:14.804644Z"
    },
    "papermill": {
     "duration": 0.021448,
     "end_time": "2021-12-24T13:33:14.804770",
     "exception": false,
     "start_time": "2021-12-24T13:33:14.783322",
     "status": "completed"
    },
    "tags": []
   },
   "outputs": [
    {
     "name": "stdout",
     "output_type": "stream",
     "text": [
      "       X1    X2        X3        X4      X5        X6     X7      X8      Y\n",
      "0  8.3252  41.0  6.984127  1.023810   322.0  2.555556  37.88 -122.23  4.526\n",
      "1  8.3014  21.0  6.238137  0.971880  2401.0  2.109842  37.86 -122.22  3.585\n",
      "2  7.2574  52.0  8.288136  1.073446   496.0  2.802260  37.85 -122.24  3.521\n",
      "3  5.6431  52.0  5.817352  1.073059   558.0  2.547945  37.85 -122.25  3.413\n",
      "4  3.8462  52.0  6.281853  1.081081   565.0  2.181467  37.85 -122.25  3.422\n"
     ]
    }
   ],
   "source": [
    "X,Y = californiaDataset.california_data()\n",
    "n_features = 8 \n",
    "n_samples = 20640\n",
    "n_target = 1 "
   ]
  },
  {
   "cell_type": "code",
   "execution_count": 4,
   "id": "a230d107",
   "metadata": {
    "execution": {
     "iopub.execute_input": "2021-12-24T13:33:14.815252Z",
     "iopub.status.busy": "2021-12-24T13:33:14.814888Z",
     "iopub.status.idle": "2021-12-24T13:33:14.818916Z",
     "shell.execute_reply": "2021-12-24T13:33:14.819176Z"
    },
    "papermill": {
     "duration": 0.01056,
     "end_time": "2021-12-24T13:33:14.819296",
     "exception": false,
     "start_time": "2021-12-24T13:33:14.808736",
     "status": "completed"
    },
    "tags": []
   },
   "outputs": [],
   "source": [
    "# Train test split for dataset \n",
    "real_dataset = dataset.CustomDataset(X,Y)\n",
    "train_size = round(0.8 * n_samples)\n",
    "test_size = n_samples - train_size\n",
    "train_data, test_data = random_split(real_dataset,[train_size,test_size])\n",
    "X_train, X_test, y_train, y_test = train_test_split(X, Y, test_size=0.2)"
   ]
  },
  {
   "cell_type": "markdown",
   "id": "6dfe8287",
   "metadata": {
    "papermill": {
     "duration": 0.003631,
     "end_time": "2021-12-24T13:33:14.826710",
     "exception": false,
     "start_time": "2021-12-24T13:33:14.823079",
     "status": "completed"
    },
    "tags": []
   },
   "source": [
    "## Stats Model "
   ]
  },
  {
   "cell_type": "code",
   "execution_count": 5,
   "id": "ce27a288",
   "metadata": {
    "execution": {
     "iopub.execute_input": "2021-12-24T13:33:14.836535Z",
     "iopub.status.busy": "2021-12-24T13:33:14.836140Z",
     "iopub.status.idle": "2021-12-24T13:33:14.943698Z",
     "shell.execute_reply": "2021-12-24T13:33:14.943995Z"
    },
    "papermill": {
     "duration": 0.113842,
     "end_time": "2021-12-24T13:33:14.944133",
     "exception": false,
     "start_time": "2021-12-24T13:33:14.830291",
     "status": "completed"
    },
    "tags": []
   },
   "outputs": [
    {
     "name": "stderr",
     "output_type": "stream",
     "text": [
      "No handles with labels found to put in legend.\n"
     ]
    },
    {
     "name": "stdout",
     "output_type": "stream",
     "text": [
      "                                 OLS Regression Results                                \n",
      "=======================================================================================\n",
      "Dep. Variable:                      Y   R-squared (uncentered):                   0.601\n",
      "Model:                            OLS   Adj. R-squared (uncentered):              0.600\n",
      "Method:                 Least Squares   F-statistic:                              3102.\n",
      "Date:                Fri, 24 Dec 2021   Prob (F-statistic):                        0.00\n",
      "Time:                        19:03:14   Log-Likelihood:                         -15762.\n",
      "No. Observations:               16512   AIC:                                  3.154e+04\n",
      "Df Residuals:                   16504   BIC:                                  3.160e+04\n",
      "Df Model:                           8                                                  \n",
      "Covariance Type:            nonrobust                                                  \n",
      "==============================================================================\n",
      "                 coef    std err          t      P>|t|      [0.025      0.975]\n",
      "------------------------------------------------------------------------------\n",
      "x1             0.7087      0.008     92.269      0.000       0.694       0.724\n",
      "x2             0.0989      0.005     18.068      0.000       0.088       0.110\n",
      "x3            -0.2186      0.014    -15.684      0.000      -0.246      -0.191\n",
      "x4             0.2514      0.013     19.743      0.000       0.226       0.276\n",
      "x5            -0.0009      0.005     -0.170      0.865      -0.011       0.009\n",
      "x6            -0.0308      0.004     -6.986      0.000      -0.039      -0.022\n",
      "x7            -0.7796      0.015    -52.345      0.000      -0.809      -0.750\n",
      "x8            -0.7561      0.015    -51.650      0.000      -0.785      -0.727\n",
      "==============================================================================\n",
      "Omnibus:                     3636.565   Durbin-Watson:                   1.981\n",
      "Prob(Omnibus):                  0.000   Jarque-Bera (JB):            12126.712\n",
      "Skew:                           1.105   Prob(JB):                         0.00\n",
      "Kurtosis:                       6.570   Cond. No.                         6.84\n",
      "==============================================================================\n",
      "\n",
      "Notes:\n",
      "[1] R² is computed without centering (uncentered) since the model does not contain a constant.\n",
      "[2] Standard Errors assume that the covariance matrix of the errors is correctly specified.\n",
      "Parameters:  x1    0.708736\n",
      "x2    0.098859\n",
      "x3   -0.218573\n",
      "x4    0.251429\n",
      "x5   -0.000894\n",
      "x6   -0.030754\n",
      "x7   -0.779628\n",
      "x8   -0.756068\n",
      "dtype: float64\n"
     ]
    },
    {
     "data": {
      "image/png": "[encoded data removed]",
      "text/plain": [
       "<Figure size 432x288 with 1 Axes>"
      ]
     },
     "metadata": {
      "needs_background": "light"
     },
     "output_type": "display_data"
    },
    {
     "name": "stdout",
     "output_type": "stream",
     "text": [
      "Performance Metrics\n",
      "Mean Squared Error: 0.3890517594356572\n",
      "Mean Absolute Error: 0.46028619968259216\n",
      "Manhattan distance: 1900.0614322897388\n",
      "Euclidean distance: 40.07500047349218\n"
     ]
    },
    {
     "data": {
      "application/scrapbook.scrap.json+json": {
       "data": 0.3890517594356572,
       "encoder": "json",
       "name": "Stats Model MSE",
       "version": 1
      }
     },
     "metadata": {
      "scrapbook": {
       "data": true,
       "display": false,
       "name": "Stats Model MSE"
      }
     },
     "output_type": "display_data"
    },
    {
     "data": {
      "application/scrapbook.scrap.json+json": {
       "data": 0.46028619968259216,
       "encoder": "json",
       "name": "Stats Model MAE",
       "version": 1
      }
     },
     "metadata": {
      "scrapbook": {
       "data": true,
       "display": false,
       "name": "Stats Model MAE"
      }
     },
     "output_type": "display_data"
    },
    {
     "data": {
      "application/scrapbook.scrap.json+json": {
       "data": 1900.0614322897388,
       "encoder": "json",
       "name": "Stats Model Manhattan Distance",
       "version": 1
      }
     },
     "metadata": {
      "scrapbook": {
       "data": true,
       "display": false,
       "name": "Stats Model Manhattan Distance"
      }
     },
     "output_type": "display_data"
    },
    {
     "data": {
      "application/scrapbook.scrap.json+json": {
       "data": 40.07500047349218,
       "encoder": "json",
       "name": "Stats Model Euclidean distance",
       "version": 1
      }
     },
     "metadata": {
      "scrapbook": {
       "data": true,
       "display": false,
       "name": "Stats Model Euclidean distance"
      }
     },
     "output_type": "display_data"
    },
    {
     "data": {
      "application/scrapbook.scrap.json+json": {
       "data": [
        0.7087357005913818,
        0.09885876600227365,
        -0.21857259766858872,
        0.25142920449951406,
        -0.0008936635100528999,
        -0.030753808405983313,
        -0.779627756316613,
        -0.7560678682683417
       ],
       "encoder": "json",
       "name": "Coefficients",
       "version": 1
      }
     },
     "metadata": {
      "scrapbook": {
       "data": true,
       "display": false,
       "name": "Coefficients"
      }
     },
     "output_type": "display_data"
    }
   ],
   "source": [
    "[coeff,y_pred] = statsModel.statsModel(X,Y)\n",
    "\n",
    "#Store Coefficients \n",
    "sb.glue(\"Coefficients\",coeff)"
   ]
  },
  {
   "cell_type": "markdown",
   "id": "9bd09e11",
   "metadata": {
    "papermill": {
     "duration": 0.006077,
     "end_time": "2021-12-24T13:33:14.956315",
     "exception": false,
     "start_time": "2021-12-24T13:33:14.950238",
     "status": "completed"
    },
    "tags": []
   },
   "source": [
    "## Random Forest "
   ]
  },
  {
   "cell_type": "code",
   "execution_count": 6,
   "id": "f254c589",
   "metadata": {
    "execution": {
     "iopub.execute_input": "2021-12-24T13:33:14.970344Z",
     "iopub.status.busy": "2021-12-24T13:33:14.969949Z",
     "iopub.status.idle": "2021-12-24T13:33:35.603347Z",
     "shell.execute_reply": "2021-12-24T13:33:35.603716Z"
    },
    "papermill": {
     "duration": 20.641842,
     "end_time": "2021-12-24T13:33:35.603839",
     "exception": false,
     "start_time": "2021-12-24T13:33:14.961997",
     "status": "completed"
    },
    "tags": []
   },
   "outputs": [
    {
     "name": "stdout",
     "output_type": "stream",
     "text": [
      "Mean Squared error 0.3861611956279315\n"
     ]
    },
    {
     "data": {
      "application/scrapbook.scrap.json+json": {
       "data": 0.3861611956279315,
       "encoder": "json",
       "name": "Random Forest MSE",
       "version": 1
      }
     },
     "metadata": {
      "scrapbook": {
       "data": true,
       "display": false,
       "name": "Random Forest MSE"
      }
     },
     "output_type": "display_data"
    }
   ],
   "source": [
    "mse_rf = baselineModels.randomForest(X_train,y_train,X_test,y_test)\n",
    "#Store MSE Value\n",
    "sb.glue(\"Random Forest MSE\",mse_rf)"
   ]
  },
  {
   "cell_type": "markdown",
   "id": "fbe9d79f",
   "metadata": {
    "papermill": {
     "duration": 0.006273,
     "end_time": "2021-12-24T13:33:35.616467",
     "exception": false,
     "start_time": "2021-12-24T13:33:35.610194",
     "status": "completed"
    },
    "tags": []
   },
   "source": [
    "## Catboost \n",
    "\n"
   ]
  },
  {
   "cell_type": "code",
   "execution_count": 7,
   "id": "60789aa9",
   "metadata": {
    "execution": {
     "iopub.execute_input": "2021-12-24T13:33:35.665447Z",
     "iopub.status.busy": "2021-12-24T13:33:35.665045Z",
     "iopub.status.idle": "2021-12-24T13:33:38.533952Z",
     "shell.execute_reply": "2021-12-24T13:33:38.534188Z"
    },
    "papermill": {
     "duration": 2.91188,
     "end_time": "2021-12-24T13:33:38.534340",
     "exception": false,
     "start_time": "2021-12-24T13:33:35.622460",
     "status": "completed"
    },
    "tags": []
   },
   "outputs": [
    {
     "name": "stdout",
     "output_type": "stream",
     "text": [
      "Learning rate set to 0.064294\n",
      "0:\tlearn: 0.9642878\ttotal: 65.4ms\tremaining: 1m 5s\n",
      "1:\tlearn: 0.9325109\ttotal: 68.7ms\tremaining: 34.3s\n",
      "2:\tlearn: 0.9022554\ttotal: 71.3ms\tremaining: 23.7s\n",
      "3:\tlearn: 0.8744016\ttotal: 74.4ms\tremaining: 18.5s\n",
      "4:\tlearn: 0.8480693\ttotal: 77.5ms\tremaining: 15.4s\n",
      "5:\tlearn: 0.8248479\ttotal: 79.9ms\tremaining: 13.2s\n",
      "6:\tlearn: 0.8026364\ttotal: 83.2ms\tremaining: 11.8s\n",
      "7:\tlearn: 0.7824422\ttotal: 85.5ms\tremaining: 10.6s\n",
      "8:\tlearn: 0.7650525\ttotal: 88.2ms\tremaining: 9.71s\n",
      "9:\tlearn: 0.7465290\ttotal: 90.9ms\tremaining: 9s\n",
      "10:\tlearn: 0.7297984\ttotal: 93.3ms\tremaining: 8.39s\n",
      "11:\tlearn: 0.7143890\ttotal: 95.9ms\tremaining: 7.89s\n",
      "12:\tlearn: 0.7006504\ttotal: 98.2ms\tremaining: 7.46s\n",
      "13:\tlearn: 0.6862475\ttotal: 100ms\tremaining: 7.08s\n",
      "14:\tlearn: 0.6736092\ttotal: 103ms\tremaining: 6.74s\n",
      "15:\tlearn: 0.6629769\ttotal: 105ms\tremaining: 6.44s\n",
      "16:\tlearn: 0.6522857\ttotal: 107ms\tremaining: 6.18s\n",
      "17:\tlearn: 0.6427420\ttotal: 109ms\tremaining: 5.95s\n",
      "18:\tlearn: 0.6343996\ttotal: 112ms\tremaining: 5.76s\n",
      "19:\tlearn: 0.6258888\ttotal: 114ms\tremaining: 5.58s\n",
      "20:\tlearn: 0.6174656\ttotal: 117ms\tremaining: 5.45s\n",
      "21:\tlearn: 0.6092388\ttotal: 120ms\tremaining: 5.31s\n",
      "22:\tlearn: 0.6008467\ttotal: 122ms\tremaining: 5.2s\n",
      "23:\tlearn: 0.5938680\ttotal: 125ms\tremaining: 5.09s\n",
      "24:\tlearn: 0.5863001\ttotal: 128ms\tremaining: 4.99s\n"
     ]
    },
    {
     "name": "stdout",
     "output_type": "stream",
     "text": [
      "25:\tlearn: 0.5793742\ttotal: 131ms\tremaining: 4.9s\n",
      "26:\tlearn: 0.5740973\ttotal: 133ms\tremaining: 4.79s\n",
      "27:\tlearn: 0.5697809\ttotal: 136ms\tremaining: 4.71s\n",
      "28:\tlearn: 0.5640600\ttotal: 138ms\tremaining: 4.63s\n",
      "29:\tlearn: 0.5599218\ttotal: 141ms\tremaining: 4.54s\n",
      "30:\tlearn: 0.5566920\ttotal: 143ms\tremaining: 4.48s\n",
      "31:\tlearn: 0.5533043\ttotal: 146ms\tremaining: 4.41s\n",
      "32:\tlearn: 0.5500862\ttotal: 148ms\tremaining: 4.34s\n",
      "33:\tlearn: 0.5474620\ttotal: 150ms\tremaining: 4.27s\n",
      "34:\tlearn: 0.5422769\ttotal: 153ms\tremaining: 4.21s\n",
      "35:\tlearn: 0.5398364\ttotal: 155ms\tremaining: 4.15s\n",
      "36:\tlearn: 0.5350509\ttotal: 157ms\tremaining: 4.1s\n",
      "37:\tlearn: 0.5303990\ttotal: 160ms\tremaining: 4.05s\n",
      "38:\tlearn: 0.5268264\ttotal: 163ms\tremaining: 4.01s\n",
      "39:\tlearn: 0.5236991\ttotal: 166ms\tremaining: 3.97s\n",
      "40:\tlearn: 0.5211065\ttotal: 168ms\tremaining: 3.93s\n",
      "41:\tlearn: 0.5180136\ttotal: 171ms\tremaining: 3.89s\n",
      "42:\tlearn: 0.5156664\ttotal: 173ms\tremaining: 3.85s\n",
      "43:\tlearn: 0.5133488\ttotal: 175ms\tremaining: 3.81s\n",
      "44:\tlearn: 0.5100871\ttotal: 178ms\tremaining: 3.77s\n",
      "45:\tlearn: 0.5082173\ttotal: 180ms\tremaining: 3.73s\n",
      "46:\tlearn: 0.5054196\ttotal: 182ms\tremaining: 3.69s\n",
      "47:\tlearn: 0.5038835\ttotal: 184ms\tremaining: 3.65s\n",
      "48:\tlearn: 0.5027082\ttotal: 186ms\tremaining: 3.62s\n",
      "49:\tlearn: 0.5006647\ttotal: 189ms\tremaining: 3.59s\n",
      "50:\tlearn: 0.4990876\ttotal: 191ms\tremaining: 3.56s\n",
      "51:\tlearn: 0.4976399\ttotal: 193ms\tremaining: 3.53s\n"
     ]
    },
    {
     "name": "stdout",
     "output_type": "stream",
     "text": [
      "52:\tlearn: 0.4950591\ttotal: 196ms\tremaining: 3.5s\n",
      "53:\tlearn: 0.4931268\ttotal: 198ms\tremaining: 3.47s\n",
      "54:\tlearn: 0.4907311\ttotal: 201ms\tremaining: 3.45s\n",
      "55:\tlearn: 0.4895317\ttotal: 203ms\tremaining: 3.43s\n",
      "56:\tlearn: 0.4882426\ttotal: 206ms\tremaining: 3.4s\n",
      "57:\tlearn: 0.4874332\ttotal: 208ms\tremaining: 3.38s\n",
      "58:\tlearn: 0.4864390\ttotal: 211ms\tremaining: 3.37s\n",
      "59:\tlearn: 0.4855403\ttotal: 214ms\tremaining: 3.35s\n",
      "60:\tlearn: 0.4845507\ttotal: 216ms\tremaining: 3.33s\n",
      "61:\tlearn: 0.4836776\ttotal: 219ms\tremaining: 3.31s\n",
      "62:\tlearn: 0.4827896\ttotal: 221ms\tremaining: 3.28s\n",
      "63:\tlearn: 0.4805035\ttotal: 223ms\tremaining: 3.26s\n",
      "64:\tlearn: 0.4795983\ttotal: 226ms\tremaining: 3.24s\n",
      "65:\tlearn: 0.4788922\ttotal: 228ms\tremaining: 3.23s\n",
      "66:\tlearn: 0.4775912\ttotal: 230ms\tremaining: 3.21s\n",
      "67:\tlearn: 0.4765244\ttotal: 232ms\tremaining: 3.18s\n",
      "68:\tlearn: 0.4751230\ttotal: 235ms\tremaining: 3.17s\n",
      "69:\tlearn: 0.4737981\ttotal: 237ms\tremaining: 3.15s\n",
      "70:\tlearn: 0.4728392\ttotal: 239ms\tremaining: 3.13s\n",
      "71:\tlearn: 0.4719307\ttotal: 241ms\tremaining: 3.11s\n",
      "72:\tlearn: 0.4711658\ttotal: 244ms\tremaining: 3.1s\n",
      "73:\tlearn: 0.4705754\ttotal: 247ms\tremaining: 3.09s\n",
      "74:\tlearn: 0.4697351\ttotal: 249ms\tremaining: 3.07s\n",
      "75:\tlearn: 0.4690808\ttotal: 252ms\tremaining: 3.06s\n",
      "76:\tlearn: 0.4685948\ttotal: 254ms\tremaining: 3.04s\n",
      "77:\tlearn: 0.4676150\ttotal: 256ms\tremaining: 3.03s\n",
      "78:\tlearn: 0.4663154\ttotal: 259ms\tremaining: 3.02s\n",
      "79:\tlearn: 0.4655629\ttotal: 261ms\tremaining: 3s\n",
      "80:\tlearn: 0.4647606\ttotal: 263ms\tremaining: 2.99s\n",
      "81:\tlearn: 0.4635530\ttotal: 265ms\tremaining: 2.97s\n",
      "82:\tlearn: 0.4627657\ttotal: 267ms\tremaining: 2.95s\n",
      "83:\tlearn: 0.4624011\ttotal: 269ms\tremaining: 2.94s\n",
      "84:\tlearn: 0.4616465\ttotal: 271ms\tremaining: 2.92s\n",
      "85:\tlearn: 0.4610113\ttotal: 273ms\tremaining: 2.9s\n",
      "86:\tlearn: 0.4601784\ttotal: 276ms\tremaining: 2.9s\n",
      "87:\tlearn: 0.4595117\ttotal: 279ms\tremaining: 2.89s\n",
      "88:\tlearn: 0.4589298\ttotal: 282ms\tremaining: 2.89s\n",
      "89:\tlearn: 0.4585298\ttotal: 285ms\tremaining: 2.88s\n",
      "90:\tlearn: 0.4576770\ttotal: 287ms\tremaining: 2.87s\n",
      "91:\tlearn: 0.4566383\ttotal: 290ms\tremaining: 2.86s\n",
      "92:\tlearn: 0.4559666\ttotal: 292ms\tremaining: 2.85s\n",
      "93:\tlearn: 0.4550202\ttotal: 294ms\tremaining: 2.83s\n",
      "94:\tlearn: 0.4544107\ttotal: 297ms\tremaining: 2.83s\n",
      "95:\tlearn: 0.4538131\ttotal: 299ms\tremaining: 2.82s\n",
      "96:\tlearn: 0.4534424\ttotal: 302ms\tremaining: 2.81s\n",
      "97:\tlearn: 0.4527388\ttotal: 304ms\tremaining: 2.8s\n",
      "98:\tlearn: 0.4522805\ttotal: 307ms\tremaining: 2.79s\n",
      "99:\tlearn: 0.4516563\ttotal: 309ms\tremaining: 2.79s\n",
      "100:\tlearn: 0.4506221\ttotal: 312ms\tremaining: 2.77s\n",
      "101:\tlearn: 0.4500705\ttotal: 314ms\tremaining: 2.77s\n",
      "102:\tlearn: 0.4496808\ttotal: 316ms\tremaining: 2.75s\n",
      "103:\tlearn: 0.4490713\ttotal: 319ms\tremaining: 2.75s\n",
      "104:\tlearn: 0.4486003\ttotal: 322ms\tremaining: 2.74s\n",
      "105:\tlearn: 0.4482707\ttotal: 324ms\tremaining: 2.73s\n"
     ]
    },
    {
     "name": "stdout",
     "output_type": "stream",
     "text": [
      "106:\tlearn: 0.4476717\ttotal: 327ms\tremaining: 2.73s\n",
      "107:\tlearn: 0.4469925\ttotal: 329ms\tremaining: 2.72s\n",
      "108:\tlearn: 0.4463978\ttotal: 331ms\tremaining: 2.71s\n",
      "109:\tlearn: 0.4458785\ttotal: 336ms\tremaining: 2.72s\n",
      "110:\tlearn: 0.4454326\ttotal: 338ms\tremaining: 2.71s\n",
      "111:\tlearn: 0.4450308\ttotal: 341ms\tremaining: 2.7s\n",
      "112:\tlearn: 0.4442948\ttotal: 343ms\tremaining: 2.69s\n",
      "113:\tlearn: 0.4436776\ttotal: 345ms\tremaining: 2.68s\n",
      "114:\tlearn: 0.4432369\ttotal: 347ms\tremaining: 2.67s\n",
      "115:\tlearn: 0.4426806\ttotal: 350ms\tremaining: 2.66s\n",
      "116:\tlearn: 0.4424417\ttotal: 352ms\tremaining: 2.66s\n",
      "117:\tlearn: 0.4419384\ttotal: 354ms\tremaining: 2.65s\n",
      "118:\tlearn: 0.4410371\ttotal: 357ms\tremaining: 2.64s\n",
      "119:\tlearn: 0.4406003\ttotal: 360ms\tremaining: 2.64s\n",
      "120:\tlearn: 0.4400310\ttotal: 362ms\tremaining: 2.63s\n",
      "121:\tlearn: 0.4393747\ttotal: 365ms\tremaining: 2.63s\n",
      "122:\tlearn: 0.4390312\ttotal: 367ms\tremaining: 2.62s\n",
      "123:\tlearn: 0.4381309\ttotal: 370ms\tremaining: 2.61s\n",
      "124:\tlearn: 0.4377220\ttotal: 373ms\tremaining: 2.61s\n",
      "125:\tlearn: 0.4373208\ttotal: 375ms\tremaining: 2.6s\n",
      "126:\tlearn: 0.4368329\ttotal: 377ms\tremaining: 2.59s\n",
      "127:\tlearn: 0.4364434\ttotal: 386ms\tremaining: 2.63s\n",
      "128:\tlearn: 0.4360934\ttotal: 389ms\tremaining: 2.62s\n"
     ]
    },
    {
     "name": "stdout",
     "output_type": "stream",
     "text": [
      "129:\tlearn: 0.4357236\ttotal: 391ms\tremaining: 2.62s\n",
      "130:\tlearn: 0.4350990\ttotal: 394ms\tremaining: 2.61s\n",
      "131:\tlearn: 0.4347235\ttotal: 397ms\tremaining: 2.61s\n",
      "132:\tlearn: 0.4340331\ttotal: 399ms\tremaining: 2.6s\n",
      "133:\tlearn: 0.4332252\ttotal: 402ms\tremaining: 2.6s\n",
      "134:\tlearn: 0.4327899\ttotal: 409ms\tremaining: 2.62s\n",
      "135:\tlearn: 0.4323905\ttotal: 411ms\tremaining: 2.61s\n",
      "136:\tlearn: 0.4320615\ttotal: 413ms\tremaining: 2.6s\n",
      "137:\tlearn: 0.4316991\ttotal: 416ms\tremaining: 2.6s\n",
      "138:\tlearn: 0.4309723\ttotal: 419ms\tremaining: 2.59s\n",
      "139:\tlearn: 0.4305951\ttotal: 421ms\tremaining: 2.58s\n",
      "140:\tlearn: 0.4301727\ttotal: 424ms\tremaining: 2.58s\n",
      "141:\tlearn: 0.4296467\ttotal: 426ms\tremaining: 2.58s\n",
      "142:\tlearn: 0.4291568\ttotal: 429ms\tremaining: 2.57s\n",
      "143:\tlearn: 0.4286353\ttotal: 431ms\tremaining: 2.56s\n",
      "144:\tlearn: 0.4282763\ttotal: 434ms\tremaining: 2.56s\n",
      "145:\tlearn: 0.4278394\ttotal: 436ms\tremaining: 2.55s\n",
      "146:\tlearn: 0.4273853\ttotal: 439ms\tremaining: 2.54s\n",
      "147:\tlearn: 0.4270033\ttotal: 441ms\tremaining: 2.54s\n",
      "148:\tlearn: 0.4267404\ttotal: 443ms\tremaining: 2.53s\n",
      "149:\tlearn: 0.4264904\ttotal: 445ms\tremaining: 2.52s\n",
      "150:\tlearn: 0.4259998\ttotal: 448ms\tremaining: 2.52s\n",
      "151:\tlearn: 0.4255519\ttotal: 450ms\tremaining: 2.51s\n",
      "152:\tlearn: 0.4252181\ttotal: 452ms\tremaining: 2.5s\n",
      "153:\tlearn: 0.4249328\ttotal: 454ms\tremaining: 2.5s\n",
      "154:\tlearn: 0.4246935\ttotal: 457ms\tremaining: 2.49s\n",
      "155:\tlearn: 0.4240527\ttotal: 459ms\tremaining: 2.48s\n",
      "156:\tlearn: 0.4237406\ttotal: 461ms\tremaining: 2.48s\n",
      "157:\tlearn: 0.4232808\ttotal: 463ms\tremaining: 2.47s\n",
      "158:\tlearn: 0.4224939\ttotal: 466ms\tremaining: 2.46s\n",
      "159:\tlearn: 0.4218081\ttotal: 469ms\tremaining: 2.46s\n",
      "160:\tlearn: 0.4212850\ttotal: 471ms\tremaining: 2.46s\n",
      "161:\tlearn: 0.4209352\ttotal: 474ms\tremaining: 2.45s\n",
      "162:\tlearn: 0.4206053\ttotal: 476ms\tremaining: 2.44s\n",
      "163:\tlearn: 0.4202946\ttotal: 478ms\tremaining: 2.44s\n",
      "164:\tlearn: 0.4197520\ttotal: 480ms\tremaining: 2.43s\n",
      "165:\tlearn: 0.4193625\ttotal: 482ms\tremaining: 2.42s\n",
      "166:\tlearn: 0.4189296\ttotal: 485ms\tremaining: 2.42s\n",
      "167:\tlearn: 0.4185540\ttotal: 487ms\tremaining: 2.41s\n",
      "168:\tlearn: 0.4180139\ttotal: 490ms\tremaining: 2.41s\n",
      "169:\tlearn: 0.4175903\ttotal: 492ms\tremaining: 2.4s\n",
      "170:\tlearn: 0.4173544\ttotal: 495ms\tremaining: 2.4s\n",
      "171:\tlearn: 0.4170265\ttotal: 497ms\tremaining: 2.39s\n",
      "172:\tlearn: 0.4165929\ttotal: 500ms\tremaining: 2.39s\n",
      "173:\tlearn: 0.4161687\ttotal: 502ms\tremaining: 2.38s\n",
      "174:\tlearn: 0.4157383\ttotal: 505ms\tremaining: 2.38s\n",
      "175:\tlearn: 0.4154209\ttotal: 508ms\tremaining: 2.38s\n",
      "176:\tlearn: 0.4151344\ttotal: 515ms\tremaining: 2.4s\n",
      "177:\tlearn: 0.4145821\ttotal: 518ms\tremaining: 2.39s\n"
     ]
    },
    {
     "name": "stdout",
     "output_type": "stream",
     "text": [
      "178:\tlearn: 0.4141852\ttotal: 522ms\tremaining: 2.39s\n",
      "179:\tlearn: 0.4133890\ttotal: 525ms\tremaining: 2.39s\n",
      "180:\tlearn: 0.4131167\ttotal: 537ms\tremaining: 2.43s\n",
      "181:\tlearn: 0.4126108\ttotal: 540ms\tremaining: 2.43s\n",
      "182:\tlearn: 0.4120695\ttotal: 543ms\tremaining: 2.42s\n",
      "183:\tlearn: 0.4115611\ttotal: 576ms\tremaining: 2.55s\n",
      "184:\tlearn: 0.4111115\ttotal: 579ms\tremaining: 2.55s\n",
      "185:\tlearn: 0.4107888\ttotal: 583ms\tremaining: 2.55s\n"
     ]
    },
    {
     "name": "stdout",
     "output_type": "stream",
     "text": [
      "186:\tlearn: 0.4102657\ttotal: 606ms\tremaining: 2.63s\n",
      "187:\tlearn: 0.4098716\ttotal: 610ms\tremaining: 2.63s\n",
      "188:\tlearn: 0.4095050\ttotal: 613ms\tremaining: 2.63s\n",
      "189:\tlearn: 0.4091600\ttotal: 617ms\tremaining: 2.63s\n",
      "190:\tlearn: 0.4087856\ttotal: 620ms\tremaining: 2.62s\n",
      "191:\tlearn: 0.4084889\ttotal: 623ms\tremaining: 2.62s\n",
      "192:\tlearn: 0.4081808\ttotal: 626ms\tremaining: 2.62s\n",
      "193:\tlearn: 0.4078061\ttotal: 638ms\tremaining: 2.65s\n",
      "194:\tlearn: 0.4074815\ttotal: 641ms\tremaining: 2.65s\n",
      "195:\tlearn: 0.4071470\ttotal: 645ms\tremaining: 2.64s\n",
      "196:\tlearn: 0.4068993\ttotal: 658ms\tremaining: 2.68s\n",
      "197:\tlearn: 0.4066160\ttotal: 701ms\tremaining: 2.84s\n",
      "198:\tlearn: 0.4061889\ttotal: 706ms\tremaining: 2.84s\n"
     ]
    },
    {
     "name": "stdout",
     "output_type": "stream",
     "text": [
      "199:\tlearn: 0.4056821\ttotal: 729ms\tremaining: 2.91s\n",
      "200:\tlearn: 0.4054020\ttotal: 731ms\tremaining: 2.91s\n",
      "201:\tlearn: 0.4050275\ttotal: 734ms\tremaining: 2.9s\n",
      "202:\tlearn: 0.4046974\ttotal: 737ms\tremaining: 2.89s\n",
      "203:\tlearn: 0.4044329\ttotal: 739ms\tremaining: 2.88s\n",
      "204:\tlearn: 0.4041492\ttotal: 742ms\tremaining: 2.88s\n",
      "205:\tlearn: 0.4039133\ttotal: 745ms\tremaining: 2.87s\n",
      "206:\tlearn: 0.4036973\ttotal: 747ms\tremaining: 2.86s\n",
      "207:\tlearn: 0.4033223\ttotal: 749ms\tremaining: 2.85s\n",
      "208:\tlearn: 0.4029606\ttotal: 752ms\tremaining: 2.84s\n",
      "209:\tlearn: 0.4026705\ttotal: 754ms\tremaining: 2.84s\n",
      "210:\tlearn: 0.4020532\ttotal: 757ms\tremaining: 2.83s\n",
      "211:\tlearn: 0.4016929\ttotal: 759ms\tremaining: 2.82s\n",
      "212:\tlearn: 0.4014192\ttotal: 761ms\tremaining: 2.81s\n",
      "213:\tlearn: 0.4010937\ttotal: 764ms\tremaining: 2.81s\n",
      "214:\tlearn: 0.4004955\ttotal: 766ms\tremaining: 2.8s\n",
      "215:\tlearn: 0.4002408\ttotal: 769ms\tremaining: 2.79s\n",
      "216:\tlearn: 0.3999793\ttotal: 771ms\tremaining: 2.78s\n",
      "217:\tlearn: 0.3996382\ttotal: 773ms\tremaining: 2.77s\n",
      "218:\tlearn: 0.3990975\ttotal: 776ms\tremaining: 2.77s\n",
      "219:\tlearn: 0.3987996\ttotal: 779ms\tremaining: 2.76s\n",
      "220:\tlearn: 0.3985478\ttotal: 781ms\tremaining: 2.75s\n",
      "221:\tlearn: 0.3983144\ttotal: 783ms\tremaining: 2.75s\n",
      "222:\tlearn: 0.3980194\ttotal: 786ms\tremaining: 2.74s\n",
      "223:\tlearn: 0.3977855\ttotal: 789ms\tremaining: 2.73s\n",
      "224:\tlearn: 0.3975531\ttotal: 791ms\tremaining: 2.72s\n",
      "225:\tlearn: 0.3972871\ttotal: 794ms\tremaining: 2.72s\n",
      "226:\tlearn: 0.3969788\ttotal: 796ms\tremaining: 2.71s\n",
      "227:\tlearn: 0.3967399\ttotal: 798ms\tremaining: 2.7s\n",
      "228:\tlearn: 0.3964905\ttotal: 800ms\tremaining: 2.69s\n"
     ]
    },
    {
     "name": "stdout",
     "output_type": "stream",
     "text": [
      "229:\tlearn: 0.3961444\ttotal: 803ms\tremaining: 2.69s\n",
      "230:\tlearn: 0.3958774\ttotal: 805ms\tremaining: 2.68s\n",
      "231:\tlearn: 0.3955574\ttotal: 808ms\tremaining: 2.67s\n",
      "232:\tlearn: 0.3952917\ttotal: 810ms\tremaining: 2.67s\n",
      "233:\tlearn: 0.3950868\ttotal: 813ms\tremaining: 2.66s\n",
      "234:\tlearn: 0.3947990\ttotal: 816ms\tremaining: 2.65s\n",
      "235:\tlearn: 0.3945237\ttotal: 818ms\tremaining: 2.65s\n",
      "236:\tlearn: 0.3943303\ttotal: 820ms\tremaining: 2.64s\n",
      "237:\tlearn: 0.3940314\ttotal: 823ms\tremaining: 2.63s\n",
      "238:\tlearn: 0.3937997\ttotal: 825ms\tremaining: 2.63s\n",
      "239:\tlearn: 0.3935674\ttotal: 827ms\tremaining: 2.62s\n",
      "240:\tlearn: 0.3933405\ttotal: 830ms\tremaining: 2.61s\n",
      "241:\tlearn: 0.3930993\ttotal: 833ms\tremaining: 2.61s\n",
      "242:\tlearn: 0.3928738\ttotal: 835ms\tremaining: 2.6s\n",
      "243:\tlearn: 0.3926692\ttotal: 838ms\tremaining: 2.6s\n",
      "244:\tlearn: 0.3923689\ttotal: 842ms\tremaining: 2.59s\n",
      "245:\tlearn: 0.3921772\ttotal: 844ms\tremaining: 2.59s\n",
      "246:\tlearn: 0.3918960\ttotal: 847ms\tremaining: 2.58s\n",
      "247:\tlearn: 0.3916610\ttotal: 850ms\tremaining: 2.58s\n",
      "248:\tlearn: 0.3913791\ttotal: 852ms\tremaining: 2.57s\n",
      "249:\tlearn: 0.3911651\ttotal: 855ms\tremaining: 2.56s\n",
      "250:\tlearn: 0.3908979\ttotal: 858ms\tremaining: 2.56s\n",
      "251:\tlearn: 0.3907007\ttotal: 860ms\tremaining: 2.55s\n",
      "252:\tlearn: 0.3901021\ttotal: 869ms\tremaining: 2.57s\n",
      "253:\tlearn: 0.3899023\ttotal: 872ms\tremaining: 2.56s\n",
      "254:\tlearn: 0.3896285\ttotal: 874ms\tremaining: 2.55s\n",
      "255:\tlearn: 0.3894344\ttotal: 877ms\tremaining: 2.55s\n",
      "256:\tlearn: 0.3891483\ttotal: 880ms\tremaining: 2.54s\n",
      "257:\tlearn: 0.3889544\ttotal: 882ms\tremaining: 2.54s\n",
      "258:\tlearn: 0.3887757\ttotal: 884ms\tremaining: 2.53s\n",
      "259:\tlearn: 0.3885831\ttotal: 887ms\tremaining: 2.52s\n",
      "260:\tlearn: 0.3883879\ttotal: 889ms\tremaining: 2.52s\n",
      "261:\tlearn: 0.3881566\ttotal: 892ms\tremaining: 2.51s\n",
      "262:\tlearn: 0.3879362\ttotal: 894ms\tremaining: 2.5s\n",
      "263:\tlearn: 0.3878100\ttotal: 896ms\tremaining: 2.5s\n",
      "264:\tlearn: 0.3875880\ttotal: 899ms\tremaining: 2.49s\n",
      "265:\tlearn: 0.3873955\ttotal: 902ms\tremaining: 2.49s\n",
      "266:\tlearn: 0.3871370\ttotal: 904ms\tremaining: 2.48s\n",
      "267:\tlearn: 0.3868632\ttotal: 907ms\tremaining: 2.48s\n",
      "268:\tlearn: 0.3866555\ttotal: 909ms\tremaining: 2.47s\n",
      "269:\tlearn: 0.3864595\ttotal: 912ms\tremaining: 2.46s\n",
      "270:\tlearn: 0.3863027\ttotal: 914ms\tremaining: 2.46s\n",
      "271:\tlearn: 0.3860815\ttotal: 917ms\tremaining: 2.45s\n",
      "272:\tlearn: 0.3857381\ttotal: 919ms\tremaining: 2.45s\n",
      "273:\tlearn: 0.3855739\ttotal: 922ms\tremaining: 2.44s\n"
     ]
    },
    {
     "name": "stdout",
     "output_type": "stream",
     "text": [
      "274:\tlearn: 0.3853278\ttotal: 924ms\tremaining: 2.44s\n",
      "275:\tlearn: 0.3850999\ttotal: 927ms\tremaining: 2.43s\n",
      "276:\tlearn: 0.3849467\ttotal: 930ms\tremaining: 2.43s\n",
      "277:\tlearn: 0.3844364\ttotal: 932ms\tremaining: 2.42s\n",
      "278:\tlearn: 0.3841133\ttotal: 935ms\tremaining: 2.42s\n",
      "279:\tlearn: 0.3838936\ttotal: 938ms\tremaining: 2.41s\n",
      "280:\tlearn: 0.3836645\ttotal: 941ms\tremaining: 2.41s\n",
      "281:\tlearn: 0.3834785\ttotal: 944ms\tremaining: 2.4s\n",
      "282:\tlearn: 0.3832871\ttotal: 946ms\tremaining: 2.4s\n",
      "283:\tlearn: 0.3830427\ttotal: 949ms\tremaining: 2.39s\n",
      "284:\tlearn: 0.3829013\ttotal: 951ms\tremaining: 2.39s\n",
      "285:\tlearn: 0.3825832\ttotal: 954ms\tremaining: 2.38s\n",
      "286:\tlearn: 0.3823911\ttotal: 956ms\tremaining: 2.38s\n",
      "287:\tlearn: 0.3820485\ttotal: 959ms\tremaining: 2.37s\n",
      "288:\tlearn: 0.3818443\ttotal: 962ms\tremaining: 2.37s\n",
      "289:\tlearn: 0.3815458\ttotal: 964ms\tremaining: 2.36s\n",
      "290:\tlearn: 0.3811884\ttotal: 967ms\tremaining: 2.35s\n",
      "291:\tlearn: 0.3810688\ttotal: 969ms\tremaining: 2.35s\n",
      "292:\tlearn: 0.3809717\ttotal: 971ms\tremaining: 2.34s\n",
      "293:\tlearn: 0.3807487\ttotal: 974ms\tremaining: 2.34s\n",
      "294:\tlearn: 0.3805324\ttotal: 976ms\tremaining: 2.33s\n",
      "295:\tlearn: 0.3803092\ttotal: 979ms\tremaining: 2.33s\n",
      "296:\tlearn: 0.3801477\ttotal: 981ms\tremaining: 2.32s\n",
      "297:\tlearn: 0.3799320\ttotal: 983ms\tremaining: 2.32s\n",
      "298:\tlearn: 0.3796799\ttotal: 986ms\tremaining: 2.31s\n",
      "299:\tlearn: 0.3795119\ttotal: 989ms\tremaining: 2.31s\n",
      "300:\tlearn: 0.3793534\ttotal: 991ms\tremaining: 2.3s\n",
      "301:\tlearn: 0.3791372\ttotal: 993ms\tremaining: 2.29s\n",
      "302:\tlearn: 0.3789468\ttotal: 996ms\tremaining: 2.29s\n"
     ]
    },
    {
     "name": "stdout",
     "output_type": "stream",
     "text": [
      "303:\tlearn: 0.3787679\ttotal: 998ms\tremaining: 2.29s\n",
      "304:\tlearn: 0.3785015\ttotal: 1s\tremaining: 2.28s\n",
      "305:\tlearn: 0.3783758\ttotal: 1s\tremaining: 2.27s\n",
      "306:\tlearn: 0.3781088\ttotal: 1s\tremaining: 2.27s\n",
      "307:\tlearn: 0.3777997\ttotal: 1.01s\tremaining: 2.26s\n",
      "308:\tlearn: 0.3775633\ttotal: 1.01s\tremaining: 2.26s\n",
      "309:\tlearn: 0.3773423\ttotal: 1.01s\tremaining: 2.25s\n",
      "310:\tlearn: 0.3771588\ttotal: 1.01s\tremaining: 2.25s\n",
      "311:\tlearn: 0.3769865\ttotal: 1.02s\tremaining: 2.24s\n",
      "312:\tlearn: 0.3767521\ttotal: 1.02s\tremaining: 2.24s\n",
      "313:\tlearn: 0.3765451\ttotal: 1.02s\tremaining: 2.23s\n",
      "314:\tlearn: 0.3763842\ttotal: 1.02s\tremaining: 2.23s\n",
      "315:\tlearn: 0.3762315\ttotal: 1.03s\tremaining: 2.22s\n",
      "316:\tlearn: 0.3761244\ttotal: 1.03s\tremaining: 2.22s\n",
      "317:\tlearn: 0.3759470\ttotal: 1.03s\tremaining: 2.21s\n",
      "318:\tlearn: 0.3758208\ttotal: 1.03s\tremaining: 2.21s\n",
      "319:\tlearn: 0.3756141\ttotal: 1.04s\tremaining: 2.2s\n",
      "320:\tlearn: 0.3752280\ttotal: 1.04s\tremaining: 2.2s\n",
      "321:\tlearn: 0.3750008\ttotal: 1.04s\tremaining: 2.19s\n",
      "322:\tlearn: 0.3747004\ttotal: 1.04s\tremaining: 2.19s\n",
      "323:\tlearn: 0.3745130\ttotal: 1.05s\tremaining: 2.18s\n",
      "324:\tlearn: 0.3740881\ttotal: 1.05s\tremaining: 2.18s\n",
      "325:\tlearn: 0.3738400\ttotal: 1.05s\tremaining: 2.17s\n",
      "326:\tlearn: 0.3736485\ttotal: 1.05s\tremaining: 2.17s\n",
      "327:\tlearn: 0.3734206\ttotal: 1.06s\tremaining: 2.17s\n",
      "328:\tlearn: 0.3731766\ttotal: 1.06s\tremaining: 2.16s\n",
      "329:\tlearn: 0.3729920\ttotal: 1.06s\tremaining: 2.16s\n",
      "330:\tlearn: 0.3729187\ttotal: 1.06s\tremaining: 2.15s\n",
      "331:\tlearn: 0.3727281\ttotal: 1.07s\tremaining: 2.15s\n",
      "332:\tlearn: 0.3725395\ttotal: 1.07s\tremaining: 2.14s\n",
      "333:\tlearn: 0.3722198\ttotal: 1.07s\tremaining: 2.14s\n",
      "334:\tlearn: 0.3720408\ttotal: 1.07s\tremaining: 2.13s\n",
      "335:\tlearn: 0.3718727\ttotal: 1.08s\tremaining: 2.13s\n",
      "336:\tlearn: 0.3717379\ttotal: 1.08s\tremaining: 2.12s\n",
      "337:\tlearn: 0.3716110\ttotal: 1.08s\tremaining: 2.12s\n",
      "338:\tlearn: 0.3714308\ttotal: 1.08s\tremaining: 2.11s\n",
      "339:\tlearn: 0.3711909\ttotal: 1.09s\tremaining: 2.11s\n",
      "340:\tlearn: 0.3709368\ttotal: 1.09s\tremaining: 2.1s\n",
      "341:\tlearn: 0.3707017\ttotal: 1.09s\tremaining: 2.1s\n",
      "342:\tlearn: 0.3705282\ttotal: 1.09s\tremaining: 2.1s\n",
      "343:\tlearn: 0.3703510\ttotal: 1.1s\tremaining: 2.1s\n",
      "344:\tlearn: 0.3702052\ttotal: 1.1s\tremaining: 2.09s\n",
      "345:\tlearn: 0.3700317\ttotal: 1.1s\tremaining: 2.09s\n",
      "346:\tlearn: 0.3696595\ttotal: 1.11s\tremaining: 2.09s\n",
      "347:\tlearn: 0.3694475\ttotal: 1.11s\tremaining: 2.08s\n",
      "348:\tlearn: 0.3692714\ttotal: 1.11s\tremaining: 2.08s\n",
      "349:\tlearn: 0.3690723\ttotal: 1.12s\tremaining: 2.07s\n"
     ]
    },
    {
     "name": "stdout",
     "output_type": "stream",
     "text": [
      "350:\tlearn: 0.3689180\ttotal: 1.12s\tremaining: 2.07s\n",
      "351:\tlearn: 0.3687879\ttotal: 1.12s\tremaining: 2.06s\n",
      "352:\tlearn: 0.3686626\ttotal: 1.12s\tremaining: 2.06s\n",
      "353:\tlearn: 0.3685476\ttotal: 1.13s\tremaining: 2.06s\n",
      "354:\tlearn: 0.3683323\ttotal: 1.13s\tremaining: 2.05s\n",
      "355:\tlearn: 0.3681994\ttotal: 1.13s\tremaining: 2.05s\n",
      "356:\tlearn: 0.3680669\ttotal: 1.13s\tremaining: 2.04s\n",
      "357:\tlearn: 0.3679345\ttotal: 1.14s\tremaining: 2.04s\n",
      "358:\tlearn: 0.3677490\ttotal: 1.14s\tremaining: 2.03s\n",
      "359:\tlearn: 0.3675314\ttotal: 1.14s\tremaining: 2.03s\n",
      "360:\tlearn: 0.3673803\ttotal: 1.14s\tremaining: 2.02s\n",
      "361:\tlearn: 0.3671796\ttotal: 1.15s\tremaining: 2.02s\n",
      "362:\tlearn: 0.3669644\ttotal: 1.15s\tremaining: 2.01s\n",
      "363:\tlearn: 0.3668107\ttotal: 1.15s\tremaining: 2.01s\n",
      "364:\tlearn: 0.3666214\ttotal: 1.15s\tremaining: 2s\n",
      "365:\tlearn: 0.3664835\ttotal: 1.16s\tremaining: 2s\n",
      "366:\tlearn: 0.3663661\ttotal: 1.16s\tremaining: 2s\n",
      "367:\tlearn: 0.3661532\ttotal: 1.16s\tremaining: 1.99s\n",
      "368:\tlearn: 0.3659773\ttotal: 1.16s\tremaining: 1.99s\n",
      "369:\tlearn: 0.3658418\ttotal: 1.16s\tremaining: 1.98s\n",
      "370:\tlearn: 0.3657140\ttotal: 1.17s\tremaining: 1.98s\n",
      "371:\tlearn: 0.3656059\ttotal: 1.17s\tremaining: 1.97s\n",
      "372:\tlearn: 0.3654355\ttotal: 1.17s\tremaining: 1.97s\n",
      "373:\tlearn: 0.3651695\ttotal: 1.17s\tremaining: 1.97s\n",
      "374:\tlearn: 0.3649667\ttotal: 1.18s\tremaining: 1.96s\n",
      "375:\tlearn: 0.3646141\ttotal: 1.18s\tremaining: 1.96s\n",
      "376:\tlearn: 0.3644286\ttotal: 1.18s\tremaining: 1.95s\n",
      "377:\tlearn: 0.3642879\ttotal: 1.18s\tremaining: 1.95s\n",
      "378:\tlearn: 0.3641803\ttotal: 1.19s\tremaining: 1.94s\n",
      "379:\tlearn: 0.3640636\ttotal: 1.19s\tremaining: 1.94s\n",
      "380:\tlearn: 0.3639236\ttotal: 1.19s\tremaining: 1.93s\n",
      "381:\tlearn: 0.3637683\ttotal: 1.19s\tremaining: 1.93s\n"
     ]
    },
    {
     "name": "stdout",
     "output_type": "stream",
     "text": [
      "382:\tlearn: 0.3636298\ttotal: 1.2s\tremaining: 1.93s\n",
      "383:\tlearn: 0.3635054\ttotal: 1.2s\tremaining: 1.92s\n",
      "384:\tlearn: 0.3633771\ttotal: 1.2s\tremaining: 1.92s\n",
      "385:\tlearn: 0.3632574\ttotal: 1.2s\tremaining: 1.91s\n",
      "386:\tlearn: 0.3631627\ttotal: 1.2s\tremaining: 1.91s\n",
      "387:\tlearn: 0.3628433\ttotal: 1.21s\tremaining: 1.9s\n",
      "388:\tlearn: 0.3626267\ttotal: 1.21s\tremaining: 1.9s\n",
      "389:\tlearn: 0.3624548\ttotal: 1.21s\tremaining: 1.9s\n",
      "390:\tlearn: 0.3621686\ttotal: 1.21s\tremaining: 1.89s\n",
      "391:\tlearn: 0.3619678\ttotal: 1.22s\tremaining: 1.89s\n",
      "392:\tlearn: 0.3618185\ttotal: 1.22s\tremaining: 1.89s\n",
      "393:\tlearn: 0.3616038\ttotal: 1.22s\tremaining: 1.88s\n",
      "394:\tlearn: 0.3614739\ttotal: 1.23s\tremaining: 1.88s\n",
      "395:\tlearn: 0.3612987\ttotal: 1.23s\tremaining: 1.88s\n",
      "396:\tlearn: 0.3611371\ttotal: 1.23s\tremaining: 1.87s\n",
      "397:\tlearn: 0.3609853\ttotal: 1.23s\tremaining: 1.87s\n",
      "398:\tlearn: 0.3608367\ttotal: 1.24s\tremaining: 1.86s\n",
      "399:\tlearn: 0.3606691\ttotal: 1.24s\tremaining: 1.86s\n",
      "400:\tlearn: 0.3604276\ttotal: 1.24s\tremaining: 1.85s\n",
      "401:\tlearn: 0.3602601\ttotal: 1.24s\tremaining: 1.85s\n",
      "402:\tlearn: 0.3600912\ttotal: 1.25s\tremaining: 1.85s\n",
      "403:\tlearn: 0.3600243\ttotal: 1.25s\tremaining: 1.84s\n",
      "404:\tlearn: 0.3598808\ttotal: 1.25s\tremaining: 1.84s\n",
      "405:\tlearn: 0.3596869\ttotal: 1.25s\tremaining: 1.83s\n",
      "406:\tlearn: 0.3595642\ttotal: 1.26s\tremaining: 1.83s\n",
      "407:\tlearn: 0.3594246\ttotal: 1.26s\tremaining: 1.83s\n",
      "408:\tlearn: 0.3593066\ttotal: 1.26s\tremaining: 1.82s\n",
      "409:\tlearn: 0.3591375\ttotal: 1.26s\tremaining: 1.82s\n",
      "410:\tlearn: 0.3590256\ttotal: 1.27s\tremaining: 1.81s\n",
      "411:\tlearn: 0.3588509\ttotal: 1.27s\tremaining: 1.81s\n",
      "412:\tlearn: 0.3586873\ttotal: 1.27s\tremaining: 1.81s\n",
      "413:\tlearn: 0.3585845\ttotal: 1.27s\tremaining: 1.8s\n",
      "414:\tlearn: 0.3584443\ttotal: 1.27s\tremaining: 1.8s\n",
      "415:\tlearn: 0.3583368\ttotal: 1.28s\tremaining: 1.79s\n",
      "416:\tlearn: 0.3581267\ttotal: 1.28s\tremaining: 1.79s\n",
      "417:\tlearn: 0.3579327\ttotal: 1.28s\tremaining: 1.79s\n",
      "418:\tlearn: 0.3578703\ttotal: 1.28s\tremaining: 1.78s\n",
      "419:\tlearn: 0.3575655\ttotal: 1.29s\tremaining: 1.78s\n",
      "420:\tlearn: 0.3573754\ttotal: 1.29s\tremaining: 1.77s\n",
      "421:\tlearn: 0.3572135\ttotal: 1.29s\tremaining: 1.77s\n",
      "422:\tlearn: 0.3570800\ttotal: 1.29s\tremaining: 1.77s\n",
      "423:\tlearn: 0.3568762\ttotal: 1.3s\tremaining: 1.76s\n",
      "424:\tlearn: 0.3567719\ttotal: 1.3s\tremaining: 1.76s\n",
      "425:\tlearn: 0.3565715\ttotal: 1.3s\tremaining: 1.75s\n",
      "426:\tlearn: 0.3563623\ttotal: 1.3s\tremaining: 1.75s\n",
      "427:\tlearn: 0.3562768\ttotal: 1.31s\tremaining: 1.75s\n",
      "428:\tlearn: 0.3561384\ttotal: 1.31s\tremaining: 1.74s\n",
      "429:\tlearn: 0.3558561\ttotal: 1.31s\tremaining: 1.74s\n"
     ]
    },
    {
     "name": "stdout",
     "output_type": "stream",
     "text": [
      "430:\tlearn: 0.3556490\ttotal: 1.31s\tremaining: 1.74s\n",
      "431:\tlearn: 0.3555100\ttotal: 1.32s\tremaining: 1.73s\n",
      "432:\tlearn: 0.3552721\ttotal: 1.32s\tremaining: 1.73s\n",
      "433:\tlearn: 0.3551575\ttotal: 1.32s\tremaining: 1.72s\n",
      "434:\tlearn: 0.3550305\ttotal: 1.32s\tremaining: 1.72s\n",
      "435:\tlearn: 0.3548571\ttotal: 1.33s\tremaining: 1.72s\n",
      "436:\tlearn: 0.3546232\ttotal: 1.33s\tremaining: 1.71s\n",
      "437:\tlearn: 0.3545569\ttotal: 1.33s\tremaining: 1.71s\n",
      "438:\tlearn: 0.3544685\ttotal: 1.33s\tremaining: 1.71s\n",
      "439:\tlearn: 0.3543290\ttotal: 1.34s\tremaining: 1.7s\n",
      "440:\tlearn: 0.3542319\ttotal: 1.34s\tremaining: 1.7s\n",
      "441:\tlearn: 0.3540672\ttotal: 1.34s\tremaining: 1.69s\n",
      "442:\tlearn: 0.3538975\ttotal: 1.34s\tremaining: 1.69s\n",
      "443:\tlearn: 0.3537291\ttotal: 1.35s\tremaining: 1.69s\n",
      "444:\tlearn: 0.3536072\ttotal: 1.35s\tremaining: 1.68s\n",
      "445:\tlearn: 0.3534326\ttotal: 1.35s\tremaining: 1.68s\n",
      "446:\tlearn: 0.3533137\ttotal: 1.35s\tremaining: 1.67s\n",
      "447:\tlearn: 0.3531780\ttotal: 1.36s\tremaining: 1.67s\n",
      "448:\tlearn: 0.3530386\ttotal: 1.36s\tremaining: 1.67s\n",
      "449:\tlearn: 0.3529291\ttotal: 1.36s\tremaining: 1.66s\n",
      "450:\tlearn: 0.3527431\ttotal: 1.36s\tremaining: 1.66s\n",
      "451:\tlearn: 0.3526551\ttotal: 1.36s\tremaining: 1.66s\n",
      "452:\tlearn: 0.3525229\ttotal: 1.37s\tremaining: 1.65s\n",
      "453:\tlearn: 0.3523471\ttotal: 1.37s\tremaining: 1.65s\n",
      "454:\tlearn: 0.3522528\ttotal: 1.38s\tremaining: 1.65s\n",
      "455:\tlearn: 0.3521476\ttotal: 1.38s\tremaining: 1.64s\n",
      "456:\tlearn: 0.3520114\ttotal: 1.38s\tremaining: 1.64s\n",
      "457:\tlearn: 0.3518575\ttotal: 1.38s\tremaining: 1.64s\n",
      "458:\tlearn: 0.3517107\ttotal: 1.39s\tremaining: 1.63s\n",
      "459:\tlearn: 0.3515735\ttotal: 1.39s\tremaining: 1.63s\n"
     ]
    },
    {
     "name": "stdout",
     "output_type": "stream",
     "text": [
      "460:\tlearn: 0.3514316\ttotal: 1.39s\tremaining: 1.63s\n",
      "461:\tlearn: 0.3513098\ttotal: 1.4s\tremaining: 1.62s\n",
      "462:\tlearn: 0.3512030\ttotal: 1.4s\tremaining: 1.62s\n",
      "463:\tlearn: 0.3510939\ttotal: 1.4s\tremaining: 1.62s\n",
      "464:\tlearn: 0.3509685\ttotal: 1.4s\tremaining: 1.62s\n",
      "465:\tlearn: 0.3508678\ttotal: 1.41s\tremaining: 1.61s\n",
      "466:\tlearn: 0.3507152\ttotal: 1.41s\tremaining: 1.61s\n",
      "467:\tlearn: 0.3506122\ttotal: 1.41s\tremaining: 1.61s\n",
      "468:\tlearn: 0.3504551\ttotal: 1.42s\tremaining: 1.6s\n",
      "469:\tlearn: 0.3503424\ttotal: 1.42s\tremaining: 1.6s\n",
      "470:\tlearn: 0.3501937\ttotal: 1.42s\tremaining: 1.6s\n",
      "471:\tlearn: 0.3501374\ttotal: 1.42s\tremaining: 1.59s\n",
      "472:\tlearn: 0.3500201\ttotal: 1.43s\tremaining: 1.59s\n",
      "473:\tlearn: 0.3498042\ttotal: 1.43s\tremaining: 1.59s\n",
      "474:\tlearn: 0.3495936\ttotal: 1.43s\tremaining: 1.58s\n",
      "475:\tlearn: 0.3494066\ttotal: 1.43s\tremaining: 1.58s\n",
      "476:\tlearn: 0.3492796\ttotal: 1.44s\tremaining: 1.57s\n",
      "477:\tlearn: 0.3490418\ttotal: 1.44s\tremaining: 1.57s\n",
      "478:\tlearn: 0.3489734\ttotal: 1.44s\tremaining: 1.57s\n",
      "479:\tlearn: 0.3487966\ttotal: 1.45s\tremaining: 1.57s\n",
      "480:\tlearn: 0.3487261\ttotal: 1.45s\tremaining: 1.56s\n",
      "481:\tlearn: 0.3485956\ttotal: 1.45s\tremaining: 1.56s\n",
      "482:\tlearn: 0.3485384\ttotal: 1.46s\tremaining: 1.56s\n",
      "483:\tlearn: 0.3483809\ttotal: 1.46s\tremaining: 1.56s\n",
      "484:\tlearn: 0.3482705\ttotal: 1.46s\tremaining: 1.55s\n",
      "485:\tlearn: 0.3481752\ttotal: 1.47s\tremaining: 1.55s\n",
      "486:\tlearn: 0.3479367\ttotal: 1.47s\tremaining: 1.55s\n",
      "487:\tlearn: 0.3476518\ttotal: 1.47s\tremaining: 1.54s\n",
      "488:\tlearn: 0.3475001\ttotal: 1.48s\tremaining: 1.54s\n",
      "489:\tlearn: 0.3473561\ttotal: 1.48s\tremaining: 1.54s\n",
      "490:\tlearn: 0.3472075\ttotal: 1.48s\tremaining: 1.53s\n",
      "491:\tlearn: 0.3470559\ttotal: 1.48s\tremaining: 1.53s\n",
      "492:\tlearn: 0.3469458\ttotal: 1.49s\tremaining: 1.53s\n",
      "493:\tlearn: 0.3467784\ttotal: 1.49s\tremaining: 1.52s\n",
      "494:\tlearn: 0.3466330\ttotal: 1.49s\tremaining: 1.52s\n",
      "495:\tlearn: 0.3465454\ttotal: 1.49s\tremaining: 1.52s\n",
      "496:\tlearn: 0.3462090\ttotal: 1.49s\tremaining: 1.51s\n",
      "497:\tlearn: 0.3460538\ttotal: 1.5s\tremaining: 1.51s\n",
      "498:\tlearn: 0.3459031\ttotal: 1.5s\tremaining: 1.5s\n",
      "499:\tlearn: 0.3457980\ttotal: 1.5s\tremaining: 1.5s\n",
      "500:\tlearn: 0.3456859\ttotal: 1.5s\tremaining: 1.5s\n",
      "501:\tlearn: 0.3455480\ttotal: 1.51s\tremaining: 1.5s\n",
      "502:\tlearn: 0.3454094\ttotal: 1.51s\tremaining: 1.49s\n"
     ]
    },
    {
     "name": "stdout",
     "output_type": "stream",
     "text": [
      "503:\tlearn: 0.3452890\ttotal: 1.51s\tremaining: 1.49s\n",
      "504:\tlearn: 0.3451611\ttotal: 1.51s\tremaining: 1.48s\n",
      "505:\tlearn: 0.3450740\ttotal: 1.52s\tremaining: 1.48s\n",
      "506:\tlearn: 0.3449420\ttotal: 1.52s\tremaining: 1.48s\n",
      "507:\tlearn: 0.3448445\ttotal: 1.52s\tremaining: 1.47s\n",
      "508:\tlearn: 0.3446680\ttotal: 1.52s\tremaining: 1.47s\n",
      "509:\tlearn: 0.3445160\ttotal: 1.53s\tremaining: 1.47s\n",
      "510:\tlearn: 0.3444588\ttotal: 1.53s\tremaining: 1.46s\n",
      "511:\tlearn: 0.3442337\ttotal: 1.53s\tremaining: 1.46s\n",
      "512:\tlearn: 0.3441822\ttotal: 1.53s\tremaining: 1.46s\n",
      "513:\tlearn: 0.3439785\ttotal: 1.54s\tremaining: 1.45s\n",
      "514:\tlearn: 0.3438333\ttotal: 1.54s\tremaining: 1.45s\n",
      "515:\tlearn: 0.3436598\ttotal: 1.54s\tremaining: 1.45s\n",
      "516:\tlearn: 0.3435549\ttotal: 1.54s\tremaining: 1.44s\n",
      "517:\tlearn: 0.3434330\ttotal: 1.55s\tremaining: 1.44s\n",
      "518:\tlearn: 0.3433355\ttotal: 1.55s\tremaining: 1.44s\n",
      "519:\tlearn: 0.3432072\ttotal: 1.55s\tremaining: 1.43s\n",
      "520:\tlearn: 0.3430289\ttotal: 1.55s\tremaining: 1.43s\n",
      "521:\tlearn: 0.3429054\ttotal: 1.56s\tremaining: 1.43s\n",
      "522:\tlearn: 0.3427853\ttotal: 1.56s\tremaining: 1.42s\n",
      "523:\tlearn: 0.3426650\ttotal: 1.56s\tremaining: 1.42s\n",
      "524:\tlearn: 0.3423574\ttotal: 1.56s\tremaining: 1.42s\n",
      "525:\tlearn: 0.3422344\ttotal: 1.57s\tremaining: 1.41s\n",
      "526:\tlearn: 0.3420809\ttotal: 1.57s\tremaining: 1.41s\n",
      "527:\tlearn: 0.3419689\ttotal: 1.57s\tremaining: 1.41s\n",
      "528:\tlearn: 0.3418371\ttotal: 1.57s\tremaining: 1.4s\n",
      "529:\tlearn: 0.3417229\ttotal: 1.58s\tremaining: 1.4s\n",
      "530:\tlearn: 0.3416424\ttotal: 1.58s\tremaining: 1.4s\n",
      "531:\tlearn: 0.3415479\ttotal: 1.58s\tremaining: 1.39s\n",
      "532:\tlearn: 0.3414670\ttotal: 1.58s\tremaining: 1.39s\n",
      "533:\tlearn: 0.3412836\ttotal: 1.59s\tremaining: 1.39s\n"
     ]
    },
    {
     "name": "stdout",
     "output_type": "stream",
     "text": [
      "534:\tlearn: 0.3411744\ttotal: 1.59s\tremaining: 1.38s\n",
      "535:\tlearn: 0.3410846\ttotal: 1.59s\tremaining: 1.38s\n",
      "536:\tlearn: 0.3410041\ttotal: 1.59s\tremaining: 1.38s\n",
      "537:\tlearn: 0.3408849\ttotal: 1.6s\tremaining: 1.37s\n",
      "538:\tlearn: 0.3407877\ttotal: 1.6s\tremaining: 1.37s\n",
      "539:\tlearn: 0.3406652\ttotal: 1.6s\tremaining: 1.36s\n",
      "540:\tlearn: 0.3405388\ttotal: 1.6s\tremaining: 1.36s\n",
      "541:\tlearn: 0.3404246\ttotal: 1.61s\tremaining: 1.36s\n",
      "542:\tlearn: 0.3403320\ttotal: 1.61s\tremaining: 1.35s\n",
      "543:\tlearn: 0.3401948\ttotal: 1.61s\tremaining: 1.35s\n",
      "544:\tlearn: 0.3400631\ttotal: 1.61s\tremaining: 1.35s\n",
      "545:\tlearn: 0.3399852\ttotal: 1.62s\tremaining: 1.34s\n",
      "546:\tlearn: 0.3398735\ttotal: 1.62s\tremaining: 1.34s\n",
      "547:\tlearn: 0.3397456\ttotal: 1.62s\tremaining: 1.34s\n",
      "548:\tlearn: 0.3396452\ttotal: 1.62s\tremaining: 1.33s\n",
      "549:\tlearn: 0.3395079\ttotal: 1.63s\tremaining: 1.33s\n",
      "550:\tlearn: 0.3394002\ttotal: 1.63s\tremaining: 1.33s\n",
      "551:\tlearn: 0.3392912\ttotal: 1.63s\tremaining: 1.32s\n",
      "552:\tlearn: 0.3391650\ttotal: 1.63s\tremaining: 1.32s\n",
      "553:\tlearn: 0.3390235\ttotal: 1.64s\tremaining: 1.32s\n",
      "554:\tlearn: 0.3389473\ttotal: 1.64s\tremaining: 1.31s\n",
      "555:\tlearn: 0.3387938\ttotal: 1.64s\tremaining: 1.31s\n",
      "556:\tlearn: 0.3387046\ttotal: 1.64s\tremaining: 1.31s\n",
      "557:\tlearn: 0.3385598\ttotal: 1.65s\tremaining: 1.3s\n",
      "558:\tlearn: 0.3384466\ttotal: 1.65s\tremaining: 1.3s\n",
      "559:\tlearn: 0.3382858\ttotal: 1.65s\tremaining: 1.3s\n",
      "560:\tlearn: 0.3381775\ttotal: 1.65s\tremaining: 1.29s\n",
      "561:\tlearn: 0.3379673\ttotal: 1.66s\tremaining: 1.29s\n",
      "562:\tlearn: 0.3377791\ttotal: 1.66s\tremaining: 1.29s\n",
      "563:\tlearn: 0.3376568\ttotal: 1.66s\tremaining: 1.28s\n",
      "564:\tlearn: 0.3375271\ttotal: 1.66s\tremaining: 1.28s\n",
      "565:\tlearn: 0.3374520\ttotal: 1.67s\tremaining: 1.28s\n",
      "566:\tlearn: 0.3373292\ttotal: 1.67s\tremaining: 1.27s\n",
      "567:\tlearn: 0.3372416\ttotal: 1.67s\tremaining: 1.27s\n",
      "568:\tlearn: 0.3371385\ttotal: 1.67s\tremaining: 1.27s\n",
      "569:\tlearn: 0.3370108\ttotal: 1.67s\tremaining: 1.26s\n",
      "570:\tlearn: 0.3368884\ttotal: 1.68s\tremaining: 1.26s\n",
      "571:\tlearn: 0.3367730\ttotal: 1.68s\tremaining: 1.26s\n",
      "572:\tlearn: 0.3366250\ttotal: 1.68s\tremaining: 1.25s\n",
      "573:\tlearn: 0.3364901\ttotal: 1.68s\tremaining: 1.25s\n",
      "574:\tlearn: 0.3364131\ttotal: 1.69s\tremaining: 1.25s\n",
      "575:\tlearn: 0.3362716\ttotal: 1.69s\tremaining: 1.24s\n",
      "576:\tlearn: 0.3361304\ttotal: 1.69s\tremaining: 1.24s\n",
      "577:\tlearn: 0.3359840\ttotal: 1.69s\tremaining: 1.24s\n",
      "578:\tlearn: 0.3358997\ttotal: 1.7s\tremaining: 1.23s\n",
      "579:\tlearn: 0.3357902\ttotal: 1.7s\tremaining: 1.23s\n",
      "580:\tlearn: 0.3356523\ttotal: 1.7s\tremaining: 1.23s\n",
      "581:\tlearn: 0.3355237\ttotal: 1.7s\tremaining: 1.22s\n",
      "582:\tlearn: 0.3353790\ttotal: 1.71s\tremaining: 1.22s\n"
     ]
    },
    {
     "name": "stdout",
     "output_type": "stream",
     "text": [
      "583:\tlearn: 0.3352572\ttotal: 1.71s\tremaining: 1.22s\n",
      "584:\tlearn: 0.3351855\ttotal: 1.71s\tremaining: 1.22s\n",
      "585:\tlearn: 0.3350149\ttotal: 1.72s\tremaining: 1.21s\n",
      "586:\tlearn: 0.3349108\ttotal: 1.72s\tremaining: 1.21s\n",
      "587:\tlearn: 0.3348257\ttotal: 1.72s\tremaining: 1.21s\n",
      "588:\tlearn: 0.3346221\ttotal: 1.73s\tremaining: 1.2s\n",
      "589:\tlearn: 0.3345437\ttotal: 1.73s\tremaining: 1.2s\n",
      "590:\tlearn: 0.3343899\ttotal: 1.73s\tremaining: 1.2s\n",
      "591:\tlearn: 0.3342377\ttotal: 1.73s\tremaining: 1.19s\n",
      "592:\tlearn: 0.3341149\ttotal: 1.74s\tremaining: 1.19s\n",
      "593:\tlearn: 0.3340401\ttotal: 1.74s\tremaining: 1.19s\n",
      "594:\tlearn: 0.3339162\ttotal: 1.74s\tremaining: 1.18s\n",
      "595:\tlearn: 0.3337981\ttotal: 1.74s\tremaining: 1.18s\n",
      "596:\tlearn: 0.3336782\ttotal: 1.74s\tremaining: 1.18s\n",
      "597:\tlearn: 0.3335987\ttotal: 1.75s\tremaining: 1.17s\n",
      "598:\tlearn: 0.3335006\ttotal: 1.75s\tremaining: 1.17s\n",
      "599:\tlearn: 0.3333311\ttotal: 1.75s\tremaining: 1.17s\n",
      "600:\tlearn: 0.3332305\ttotal: 1.75s\tremaining: 1.16s\n",
      "601:\tlearn: 0.3331180\ttotal: 1.76s\tremaining: 1.16s\n",
      "602:\tlearn: 0.3330121\ttotal: 1.76s\tremaining: 1.16s\n",
      "603:\tlearn: 0.3329308\ttotal: 1.76s\tremaining: 1.16s\n",
      "604:\tlearn: 0.3327913\ttotal: 1.76s\tremaining: 1.15s\n",
      "605:\tlearn: 0.3326748\ttotal: 1.77s\tremaining: 1.15s\n",
      "606:\tlearn: 0.3325151\ttotal: 1.77s\tremaining: 1.15s\n",
      "607:\tlearn: 0.3324159\ttotal: 1.77s\tremaining: 1.14s\n",
      "608:\tlearn: 0.3323218\ttotal: 1.77s\tremaining: 1.14s\n",
      "609:\tlearn: 0.3322175\ttotal: 1.78s\tremaining: 1.14s\n",
      "610:\tlearn: 0.3321337\ttotal: 1.78s\tremaining: 1.13s\n",
      "611:\tlearn: 0.3320027\ttotal: 1.78s\tremaining: 1.13s\n",
      "612:\tlearn: 0.3318920\ttotal: 1.78s\tremaining: 1.13s\n"
     ]
    },
    {
     "name": "stdout",
     "output_type": "stream",
     "text": [
      "613:\tlearn: 0.3318057\ttotal: 1.79s\tremaining: 1.12s\n",
      "614:\tlearn: 0.3316970\ttotal: 1.79s\tremaining: 1.12s\n",
      "615:\tlearn: 0.3316262\ttotal: 1.79s\tremaining: 1.12s\n",
      "616:\tlearn: 0.3315007\ttotal: 1.79s\tremaining: 1.11s\n",
      "617:\tlearn: 0.3314134\ttotal: 1.79s\tremaining: 1.11s\n",
      "618:\tlearn: 0.3312796\ttotal: 1.8s\tremaining: 1.11s\n",
      "619:\tlearn: 0.3311743\ttotal: 1.8s\tremaining: 1.1s\n",
      "620:\tlearn: 0.3310450\ttotal: 1.8s\tremaining: 1.1s\n",
      "621:\tlearn: 0.3309395\ttotal: 1.81s\tremaining: 1.1s\n",
      "622:\tlearn: 0.3308624\ttotal: 1.81s\tremaining: 1.09s\n",
      "623:\tlearn: 0.3307571\ttotal: 1.81s\tremaining: 1.09s\n",
      "624:\tlearn: 0.3306844\ttotal: 1.81s\tremaining: 1.09s\n",
      "625:\tlearn: 0.3305973\ttotal: 1.82s\tremaining: 1.08s\n",
      "626:\tlearn: 0.3305039\ttotal: 1.82s\tremaining: 1.08s\n",
      "627:\tlearn: 0.3303569\ttotal: 1.82s\tremaining: 1.08s\n",
      "628:\tlearn: 0.3302772\ttotal: 1.82s\tremaining: 1.07s\n",
      "629:\tlearn: 0.3301528\ttotal: 1.83s\tremaining: 1.07s\n",
      "630:\tlearn: 0.3300722\ttotal: 1.83s\tremaining: 1.07s\n",
      "631:\tlearn: 0.3299667\ttotal: 1.83s\tremaining: 1.07s\n",
      "632:\tlearn: 0.3298809\ttotal: 1.83s\tremaining: 1.06s\n",
      "633:\tlearn: 0.3298327\ttotal: 1.84s\tremaining: 1.06s\n",
      "634:\tlearn: 0.3297540\ttotal: 1.84s\tremaining: 1.06s\n",
      "635:\tlearn: 0.3296078\ttotal: 1.84s\tremaining: 1.05s\n",
      "636:\tlearn: 0.3295073\ttotal: 1.84s\tremaining: 1.05s\n",
      "637:\tlearn: 0.3294043\ttotal: 1.85s\tremaining: 1.05s\n",
      "638:\tlearn: 0.3293306\ttotal: 1.85s\tremaining: 1.04s\n",
      "639:\tlearn: 0.3292390\ttotal: 1.85s\tremaining: 1.04s\n",
      "640:\tlearn: 0.3291631\ttotal: 1.85s\tremaining: 1.04s\n",
      "641:\tlearn: 0.3290370\ttotal: 1.86s\tremaining: 1.03s\n",
      "642:\tlearn: 0.3289552\ttotal: 1.86s\tremaining: 1.03s\n",
      "643:\tlearn: 0.3288548\ttotal: 1.86s\tremaining: 1.03s\n",
      "644:\tlearn: 0.3287449\ttotal: 1.86s\tremaining: 1.02s\n",
      "645:\tlearn: 0.3286417\ttotal: 1.87s\tremaining: 1.02s\n",
      "646:\tlearn: 0.3285398\ttotal: 1.87s\tremaining: 1.02s\n",
      "647:\tlearn: 0.3284468\ttotal: 1.87s\tremaining: 1.02s\n",
      "648:\tlearn: 0.3282654\ttotal: 1.87s\tremaining: 1.01s\n",
      "649:\tlearn: 0.3282091\ttotal: 1.88s\tremaining: 1.01s\n",
      "650:\tlearn: 0.3280291\ttotal: 1.88s\tremaining: 1.01s\n",
      "651:\tlearn: 0.3279345\ttotal: 1.88s\tremaining: 1s\n",
      "652:\tlearn: 0.3278662\ttotal: 1.88s\tremaining: 1s\n",
      "653:\tlearn: 0.3278010\ttotal: 1.89s\tremaining: 998ms\n",
      "654:\tlearn: 0.3276946\ttotal: 1.89s\tremaining: 995ms\n",
      "655:\tlearn: 0.3276159\ttotal: 1.89s\tremaining: 992ms\n",
      "656:\tlearn: 0.3275814\ttotal: 1.89s\tremaining: 989ms\n",
      "657:\tlearn: 0.3274375\ttotal: 1.9s\tremaining: 985ms\n",
      "658:\tlearn: 0.3273013\ttotal: 1.9s\tremaining: 982ms\n",
      "659:\tlearn: 0.3272027\ttotal: 1.9s\tremaining: 979ms\n",
      "660:\tlearn: 0.3271178\ttotal: 1.9s\tremaining: 976ms\n",
      "661:\tlearn: 0.3270210\ttotal: 1.91s\tremaining: 973ms\n"
     ]
    },
    {
     "name": "stdout",
     "output_type": "stream",
     "text": [
      "662:\tlearn: 0.3269463\ttotal: 1.91s\tremaining: 970ms\n",
      "663:\tlearn: 0.3268214\ttotal: 1.91s\tremaining: 967ms\n",
      "664:\tlearn: 0.3266985\ttotal: 1.91s\tremaining: 964ms\n",
      "665:\tlearn: 0.3266166\ttotal: 1.92s\tremaining: 961ms\n",
      "666:\tlearn: 0.3265172\ttotal: 1.92s\tremaining: 957ms\n",
      "667:\tlearn: 0.3264586\ttotal: 1.92s\tremaining: 954ms\n",
      "668:\tlearn: 0.3262569\ttotal: 1.92s\tremaining: 951ms\n",
      "669:\tlearn: 0.3261536\ttotal: 1.92s\tremaining: 948ms\n",
      "670:\tlearn: 0.3260708\ttotal: 1.93s\tremaining: 945ms\n",
      "671:\tlearn: 0.3259196\ttotal: 1.93s\tremaining: 942ms\n",
      "672:\tlearn: 0.3258391\ttotal: 1.93s\tremaining: 939ms\n",
      "673:\tlearn: 0.3257649\ttotal: 1.93s\tremaining: 936ms\n",
      "674:\tlearn: 0.3256302\ttotal: 1.94s\tremaining: 933ms\n",
      "675:\tlearn: 0.3254370\ttotal: 1.94s\tremaining: 929ms\n",
      "676:\tlearn: 0.3253243\ttotal: 1.94s\tremaining: 927ms\n",
      "677:\tlearn: 0.3252070\ttotal: 1.94s\tremaining: 923ms\n",
      "678:\tlearn: 0.3251358\ttotal: 1.95s\tremaining: 920ms\n",
      "679:\tlearn: 0.3250306\ttotal: 1.95s\tremaining: 917ms\n",
      "680:\tlearn: 0.3248934\ttotal: 1.95s\tremaining: 914ms\n",
      "681:\tlearn: 0.3247352\ttotal: 1.95s\tremaining: 911ms\n",
      "682:\tlearn: 0.3246795\ttotal: 1.96s\tremaining: 908ms\n",
      "683:\tlearn: 0.3245817\ttotal: 1.96s\tremaining: 905ms\n",
      "684:\tlearn: 0.3244880\ttotal: 1.96s\tremaining: 902ms\n",
      "685:\tlearn: 0.3243550\ttotal: 1.96s\tremaining: 899ms\n",
      "686:\tlearn: 0.3242472\ttotal: 1.97s\tremaining: 896ms\n",
      "687:\tlearn: 0.3241594\ttotal: 1.97s\tremaining: 892ms\n",
      "688:\tlearn: 0.3240200\ttotal: 1.97s\tremaining: 889ms\n",
      "689:\tlearn: 0.3239438\ttotal: 1.97s\tremaining: 886ms\n",
      "690:\tlearn: 0.3238289\ttotal: 1.97s\tremaining: 883ms\n",
      "691:\tlearn: 0.3237685\ttotal: 1.98s\tremaining: 880ms\n",
      "692:\tlearn: 0.3237337\ttotal: 1.98s\tremaining: 877ms\n"
     ]
    },
    {
     "name": "stdout",
     "output_type": "stream",
     "text": [
      "693:\tlearn: 0.3236317\ttotal: 1.98s\tremaining: 874ms\n",
      "694:\tlearn: 0.3235294\ttotal: 1.98s\tremaining: 871ms\n",
      "695:\tlearn: 0.3234607\ttotal: 1.99s\tremaining: 868ms\n",
      "696:\tlearn: 0.3233921\ttotal: 1.99s\tremaining: 865ms\n",
      "697:\tlearn: 0.3233075\ttotal: 1.99s\tremaining: 862ms\n",
      "698:\tlearn: 0.3231560\ttotal: 1.99s\tremaining: 859ms\n",
      "699:\tlearn: 0.3230393\ttotal: 2s\tremaining: 856ms\n",
      "700:\tlearn: 0.3229410\ttotal: 2s\tremaining: 853ms\n",
      "701:\tlearn: 0.3228547\ttotal: 2s\tremaining: 850ms\n",
      "702:\tlearn: 0.3227079\ttotal: 2s\tremaining: 847ms\n",
      "703:\tlearn: 0.3226651\ttotal: 2.01s\tremaining: 844ms\n",
      "704:\tlearn: 0.3226081\ttotal: 2.01s\tremaining: 841ms\n",
      "705:\tlearn: 0.3224932\ttotal: 2.01s\tremaining: 838ms\n",
      "706:\tlearn: 0.3224219\ttotal: 2.01s\tremaining: 835ms\n",
      "707:\tlearn: 0.3222962\ttotal: 2.02s\tremaining: 832ms\n",
      "708:\tlearn: 0.3222296\ttotal: 2.02s\tremaining: 829ms\n",
      "709:\tlearn: 0.3221582\ttotal: 2.02s\tremaining: 826ms\n",
      "710:\tlearn: 0.3220927\ttotal: 2.02s\tremaining: 823ms\n",
      "711:\tlearn: 0.3219324\ttotal: 2.03s\tremaining: 820ms\n",
      "712:\tlearn: 0.3217880\ttotal: 2.03s\tremaining: 817ms\n",
      "713:\tlearn: 0.3217058\ttotal: 2.03s\tremaining: 814ms\n",
      "714:\tlearn: 0.3215986\ttotal: 2.03s\tremaining: 811ms\n",
      "715:\tlearn: 0.3214946\ttotal: 2.04s\tremaining: 808ms\n",
      "716:\tlearn: 0.3214495\ttotal: 2.04s\tremaining: 805ms\n",
      "717:\tlearn: 0.3213610\ttotal: 2.04s\tremaining: 802ms\n",
      "718:\tlearn: 0.3212315\ttotal: 2.04s\tremaining: 799ms\n",
      "719:\tlearn: 0.3211521\ttotal: 2.04s\tremaining: 796ms\n",
      "720:\tlearn: 0.3210452\ttotal: 2.05s\tremaining: 793ms\n",
      "721:\tlearn: 0.3209294\ttotal: 2.05s\tremaining: 790ms\n",
      "722:\tlearn: 0.3208458\ttotal: 2.05s\tremaining: 787ms\n",
      "723:\tlearn: 0.3207627\ttotal: 2.06s\tremaining: 784ms\n",
      "724:\tlearn: 0.3207087\ttotal: 2.06s\tremaining: 781ms\n",
      "725:\tlearn: 0.3206283\ttotal: 2.06s\tremaining: 778ms\n",
      "726:\tlearn: 0.3205062\ttotal: 2.06s\tremaining: 775ms\n",
      "727:\tlearn: 0.3204102\ttotal: 2.06s\tremaining: 771ms\n",
      "728:\tlearn: 0.3203203\ttotal: 2.07s\tremaining: 768ms\n",
      "729:\tlearn: 0.3202328\ttotal: 2.07s\tremaining: 765ms\n",
      "730:\tlearn: 0.3201319\ttotal: 2.07s\tremaining: 762ms\n",
      "731:\tlearn: 0.3200137\ttotal: 2.07s\tremaining: 759ms\n",
      "732:\tlearn: 0.3199378\ttotal: 2.08s\tremaining: 756ms\n",
      "733:\tlearn: 0.3198330\ttotal: 2.09s\tremaining: 758ms\n",
      "734:\tlearn: 0.3197679\ttotal: 2.09s\tremaining: 755ms\n",
      "735:\tlearn: 0.3196120\ttotal: 2.1s\tremaining: 752ms\n",
      "736:\tlearn: 0.3195221\ttotal: 2.1s\tremaining: 749ms\n",
      "737:\tlearn: 0.3194273\ttotal: 2.1s\tremaining: 746ms\n"
     ]
    },
    {
     "name": "stdout",
     "output_type": "stream",
     "text": [
      "738:\tlearn: 0.3192821\ttotal: 2.1s\tremaining: 743ms\n",
      "739:\tlearn: 0.3191960\ttotal: 2.11s\tremaining: 740ms\n",
      "740:\tlearn: 0.3190988\ttotal: 2.11s\tremaining: 737ms\n",
      "741:\tlearn: 0.3189845\ttotal: 2.11s\tremaining: 734ms\n",
      "742:\tlearn: 0.3188492\ttotal: 2.11s\tremaining: 731ms\n",
      "743:\tlearn: 0.3187614\ttotal: 2.12s\tremaining: 728ms\n",
      "744:\tlearn: 0.3186637\ttotal: 2.12s\tremaining: 725ms\n",
      "745:\tlearn: 0.3185954\ttotal: 2.12s\tremaining: 722ms\n",
      "746:\tlearn: 0.3184912\ttotal: 2.12s\tremaining: 719ms\n",
      "747:\tlearn: 0.3183657\ttotal: 2.13s\tremaining: 716ms\n",
      "748:\tlearn: 0.3182900\ttotal: 2.13s\tremaining: 714ms\n",
      "749:\tlearn: 0.3181992\ttotal: 2.13s\tremaining: 711ms\n",
      "750:\tlearn: 0.3180161\ttotal: 2.13s\tremaining: 708ms\n",
      "751:\tlearn: 0.3179014\ttotal: 2.14s\tremaining: 705ms\n",
      "752:\tlearn: 0.3178635\ttotal: 2.14s\tremaining: 702ms\n",
      "753:\tlearn: 0.3176606\ttotal: 2.14s\tremaining: 699ms\n",
      "754:\tlearn: 0.3176019\ttotal: 2.14s\tremaining: 696ms\n",
      "755:\tlearn: 0.3175126\ttotal: 2.15s\tremaining: 693ms\n",
      "756:\tlearn: 0.3174237\ttotal: 2.15s\tremaining: 690ms\n",
      "757:\tlearn: 0.3173423\ttotal: 2.15s\tremaining: 687ms\n",
      "758:\tlearn: 0.3172419\ttotal: 2.15s\tremaining: 684ms\n",
      "759:\tlearn: 0.3171661\ttotal: 2.16s\tremaining: 681ms\n",
      "760:\tlearn: 0.3170807\ttotal: 2.16s\tremaining: 678ms\n",
      "761:\tlearn: 0.3170248\ttotal: 2.16s\tremaining: 675ms\n",
      "762:\tlearn: 0.3169790\ttotal: 2.16s\tremaining: 672ms\n",
      "763:\tlearn: 0.3168797\ttotal: 2.17s\tremaining: 669ms\n",
      "764:\tlearn: 0.3167907\ttotal: 2.17s\tremaining: 666ms\n",
      "765:\tlearn: 0.3167187\ttotal: 2.17s\tremaining: 663ms\n",
      "766:\tlearn: 0.3166512\ttotal: 2.17s\tremaining: 660ms\n",
      "767:\tlearn: 0.3165518\ttotal: 2.18s\tremaining: 657ms\n"
     ]
    },
    {
     "name": "stdout",
     "output_type": "stream",
     "text": [
      "768:\tlearn: 0.3164911\ttotal: 2.18s\tremaining: 655ms\n",
      "769:\tlearn: 0.3162824\ttotal: 2.18s\tremaining: 652ms\n",
      "770:\tlearn: 0.3161961\ttotal: 2.18s\tremaining: 649ms\n",
      "771:\tlearn: 0.3161314\ttotal: 2.19s\tremaining: 646ms\n",
      "772:\tlearn: 0.3160520\ttotal: 2.19s\tremaining: 643ms\n",
      "773:\tlearn: 0.3159193\ttotal: 2.19s\tremaining: 640ms\n",
      "774:\tlearn: 0.3158289\ttotal: 2.19s\tremaining: 637ms\n",
      "775:\tlearn: 0.3156702\ttotal: 2.2s\tremaining: 634ms\n",
      "776:\tlearn: 0.3154751\ttotal: 2.2s\tremaining: 631ms\n",
      "777:\tlearn: 0.3153994\ttotal: 2.2s\tremaining: 628ms\n",
      "778:\tlearn: 0.3153290\ttotal: 2.2s\tremaining: 625ms\n",
      "779:\tlearn: 0.3152333\ttotal: 2.21s\tremaining: 623ms\n",
      "780:\tlearn: 0.3151338\ttotal: 2.21s\tremaining: 620ms\n",
      "781:\tlearn: 0.3150474\ttotal: 2.21s\tremaining: 617ms\n",
      "782:\tlearn: 0.3149727\ttotal: 2.21s\tremaining: 614ms\n",
      "783:\tlearn: 0.3148935\ttotal: 2.22s\tremaining: 611ms\n",
      "784:\tlearn: 0.3147893\ttotal: 2.22s\tremaining: 608ms\n",
      "785:\tlearn: 0.3147298\ttotal: 2.22s\tremaining: 605ms\n",
      "786:\tlearn: 0.3146612\ttotal: 2.23s\tremaining: 602ms\n",
      "787:\tlearn: 0.3145732\ttotal: 2.23s\tremaining: 599ms\n",
      "788:\tlearn: 0.3144585\ttotal: 2.23s\tremaining: 596ms\n",
      "789:\tlearn: 0.3143319\ttotal: 2.23s\tremaining: 593ms\n",
      "790:\tlearn: 0.3141634\ttotal: 2.23s\tremaining: 591ms\n",
      "791:\tlearn: 0.3141090\ttotal: 2.24s\tremaining: 588ms\n",
      "792:\tlearn: 0.3140157\ttotal: 2.24s\tremaining: 585ms\n",
      "793:\tlearn: 0.3139309\ttotal: 2.24s\tremaining: 582ms\n",
      "794:\tlearn: 0.3137710\ttotal: 2.25s\tremaining: 579ms\n",
      "795:\tlearn: 0.3136966\ttotal: 2.25s\tremaining: 576ms\n",
      "796:\tlearn: 0.3136173\ttotal: 2.25s\tremaining: 573ms\n",
      "797:\tlearn: 0.3135676\ttotal: 2.25s\tremaining: 570ms\n",
      "798:\tlearn: 0.3135032\ttotal: 2.25s\tremaining: 567ms\n",
      "799:\tlearn: 0.3134131\ttotal: 2.26s\tremaining: 564ms\n",
      "800:\tlearn: 0.3133197\ttotal: 2.26s\tremaining: 562ms\n",
      "801:\tlearn: 0.3132102\ttotal: 2.26s\tremaining: 559ms\n",
      "802:\tlearn: 0.3131551\ttotal: 2.27s\tremaining: 556ms\n",
      "803:\tlearn: 0.3131172\ttotal: 2.27s\tremaining: 553ms\n",
      "804:\tlearn: 0.3130480\ttotal: 2.27s\tremaining: 550ms\n",
      "805:\tlearn: 0.3129521\ttotal: 2.27s\tremaining: 547ms\n",
      "806:\tlearn: 0.3128415\ttotal: 2.27s\tremaining: 544ms\n",
      "807:\tlearn: 0.3127646\ttotal: 2.28s\tremaining: 541ms\n",
      "808:\tlearn: 0.3126761\ttotal: 2.28s\tremaining: 538ms\n",
      "809:\tlearn: 0.3125476\ttotal: 2.28s\tremaining: 535ms\n",
      "810:\tlearn: 0.3124672\ttotal: 2.28s\tremaining: 533ms\n",
      "811:\tlearn: 0.3123804\ttotal: 2.29s\tremaining: 530ms\n",
      "812:\tlearn: 0.3122704\ttotal: 2.29s\tremaining: 527ms\n",
      "813:\tlearn: 0.3121418\ttotal: 2.29s\tremaining: 524ms\n",
      "814:\tlearn: 0.3120932\ttotal: 2.29s\tremaining: 521ms\n",
      "815:\tlearn: 0.3119985\ttotal: 2.3s\tremaining: 518ms\n"
     ]
    },
    {
     "name": "stdout",
     "output_type": "stream",
     "text": [
      "816:\tlearn: 0.3119244\ttotal: 2.3s\tremaining: 515ms\n",
      "817:\tlearn: 0.3117805\ttotal: 2.3s\tremaining: 512ms\n",
      "818:\tlearn: 0.3116201\ttotal: 2.3s\tremaining: 509ms\n",
      "819:\tlearn: 0.3114855\ttotal: 2.31s\tremaining: 506ms\n",
      "820:\tlearn: 0.3113774\ttotal: 2.31s\tremaining: 503ms\n",
      "821:\tlearn: 0.3113224\ttotal: 2.31s\tremaining: 501ms\n",
      "822:\tlearn: 0.3112534\ttotal: 2.31s\tremaining: 498ms\n",
      "823:\tlearn: 0.3111713\ttotal: 2.32s\tremaining: 495ms\n",
      "824:\tlearn: 0.3110913\ttotal: 2.32s\tremaining: 492ms\n",
      "825:\tlearn: 0.3109818\ttotal: 2.32s\tremaining: 489ms\n",
      "826:\tlearn: 0.3109228\ttotal: 2.32s\tremaining: 486ms\n",
      "827:\tlearn: 0.3108531\ttotal: 2.33s\tremaining: 483ms\n",
      "828:\tlearn: 0.3107856\ttotal: 2.33s\tremaining: 481ms\n",
      "829:\tlearn: 0.3107161\ttotal: 2.33s\tremaining: 478ms\n",
      "830:\tlearn: 0.3106707\ttotal: 2.33s\tremaining: 475ms\n",
      "831:\tlearn: 0.3106131\ttotal: 2.34s\tremaining: 472ms\n",
      "832:\tlearn: 0.3105270\ttotal: 2.34s\tremaining: 469ms\n",
      "833:\tlearn: 0.3104267\ttotal: 2.34s\tremaining: 466ms\n",
      "834:\tlearn: 0.3103222\ttotal: 2.35s\tremaining: 463ms\n",
      "835:\tlearn: 0.3102690\ttotal: 2.35s\tremaining: 461ms\n",
      "836:\tlearn: 0.3101387\ttotal: 2.35s\tremaining: 458ms\n",
      "837:\tlearn: 0.3100631\ttotal: 2.35s\tremaining: 455ms\n",
      "838:\tlearn: 0.3099880\ttotal: 2.35s\tremaining: 452ms\n",
      "839:\tlearn: 0.3098854\ttotal: 2.36s\tremaining: 449ms\n",
      "840:\tlearn: 0.3098386\ttotal: 2.36s\tremaining: 446ms\n",
      "841:\tlearn: 0.3097576\ttotal: 2.36s\tremaining: 443ms\n",
      "842:\tlearn: 0.3097045\ttotal: 2.36s\tremaining: 440ms\n",
      "843:\tlearn: 0.3096085\ttotal: 2.37s\tremaining: 438ms\n",
      "844:\tlearn: 0.3094789\ttotal: 2.37s\tremaining: 435ms\n",
      "845:\tlearn: 0.3093812\ttotal: 2.37s\tremaining: 432ms\n"
     ]
    },
    {
     "name": "stdout",
     "output_type": "stream",
     "text": [
      "846:\tlearn: 0.3092668\ttotal: 2.37s\tremaining: 429ms\n",
      "847:\tlearn: 0.3092150\ttotal: 2.38s\tremaining: 426ms\n",
      "848:\tlearn: 0.3091385\ttotal: 2.38s\tremaining: 423ms\n",
      "849:\tlearn: 0.3090600\ttotal: 2.38s\tremaining: 420ms\n",
      "850:\tlearn: 0.3089353\ttotal: 2.38s\tremaining: 417ms\n",
      "851:\tlearn: 0.3088680\ttotal: 2.39s\tremaining: 414ms\n",
      "852:\tlearn: 0.3087860\ttotal: 2.39s\tremaining: 412ms\n",
      "853:\tlearn: 0.3086976\ttotal: 2.39s\tremaining: 409ms\n",
      "854:\tlearn: 0.3086143\ttotal: 2.39s\tremaining: 406ms\n",
      "855:\tlearn: 0.3085420\ttotal: 2.4s\tremaining: 403ms\n",
      "856:\tlearn: 0.3084766\ttotal: 2.4s\tremaining: 400ms\n",
      "857:\tlearn: 0.3084216\ttotal: 2.4s\tremaining: 397ms\n",
      "858:\tlearn: 0.3083142\ttotal: 2.4s\tremaining: 395ms\n",
      "859:\tlearn: 0.3082559\ttotal: 2.41s\tremaining: 392ms\n",
      "860:\tlearn: 0.3082165\ttotal: 2.41s\tremaining: 389ms\n",
      "861:\tlearn: 0.3080853\ttotal: 2.41s\tremaining: 386ms\n",
      "862:\tlearn: 0.3080195\ttotal: 2.41s\tremaining: 383ms\n",
      "863:\tlearn: 0.3079074\ttotal: 2.42s\tremaining: 380ms\n",
      "864:\tlearn: 0.3078250\ttotal: 2.42s\tremaining: 377ms\n",
      "865:\tlearn: 0.3077445\ttotal: 2.42s\tremaining: 375ms\n",
      "866:\tlearn: 0.3076136\ttotal: 2.42s\tremaining: 372ms\n",
      "867:\tlearn: 0.3075131\ttotal: 2.43s\tremaining: 369ms\n",
      "868:\tlearn: 0.3074117\ttotal: 2.43s\tremaining: 366ms\n",
      "869:\tlearn: 0.3073020\ttotal: 2.43s\tremaining: 363ms\n",
      "870:\tlearn: 0.3071903\ttotal: 2.43s\tremaining: 360ms\n",
      "871:\tlearn: 0.3070976\ttotal: 2.44s\tremaining: 358ms\n",
      "872:\tlearn: 0.3070486\ttotal: 2.44s\tremaining: 355ms\n",
      "873:\tlearn: 0.3069063\ttotal: 2.44s\tremaining: 352ms\n",
      "874:\tlearn: 0.3068165\ttotal: 2.44s\tremaining: 349ms\n",
      "875:\tlearn: 0.3067464\ttotal: 2.44s\tremaining: 346ms\n",
      "876:\tlearn: 0.3066395\ttotal: 2.45s\tremaining: 343ms\n",
      "877:\tlearn: 0.3065805\ttotal: 2.45s\tremaining: 341ms\n",
      "878:\tlearn: 0.3064514\ttotal: 2.45s\tremaining: 338ms\n",
      "879:\tlearn: 0.3063834\ttotal: 2.46s\tremaining: 335ms\n",
      "880:\tlearn: 0.3063257\ttotal: 2.46s\tremaining: 332ms\n",
      "881:\tlearn: 0.3061945\ttotal: 2.46s\tremaining: 329ms\n",
      "882:\tlearn: 0.3060968\ttotal: 2.46s\tremaining: 326ms\n",
      "883:\tlearn: 0.3060252\ttotal: 2.47s\tremaining: 324ms\n",
      "884:\tlearn: 0.3059538\ttotal: 2.47s\tremaining: 321ms\n",
      "885:\tlearn: 0.3058768\ttotal: 2.47s\tremaining: 318ms\n",
      "886:\tlearn: 0.3058265\ttotal: 2.47s\tremaining: 315ms\n",
      "887:\tlearn: 0.3057618\ttotal: 2.48s\tremaining: 312ms\n",
      "888:\tlearn: 0.3056573\ttotal: 2.48s\tremaining: 310ms\n",
      "889:\tlearn: 0.3055955\ttotal: 2.48s\tremaining: 307ms\n",
      "890:\tlearn: 0.3055509\ttotal: 2.48s\tremaining: 304ms\n",
      "891:\tlearn: 0.3054766\ttotal: 2.49s\tremaining: 301ms\n",
      "892:\tlearn: 0.3054111\ttotal: 2.49s\tremaining: 298ms\n",
      "893:\tlearn: 0.3052970\ttotal: 2.49s\tremaining: 295ms\n",
      "894:\tlearn: 0.3052359\ttotal: 2.49s\tremaining: 293ms\n"
     ]
    },
    {
     "name": "stdout",
     "output_type": "stream",
     "text": [
      "895:\tlearn: 0.3051328\ttotal: 2.5s\tremaining: 290ms\n",
      "896:\tlearn: 0.3050605\ttotal: 2.5s\tremaining: 287ms\n",
      "897:\tlearn: 0.3049618\ttotal: 2.5s\tremaining: 284ms\n",
      "898:\tlearn: 0.3049068\ttotal: 2.5s\tremaining: 281ms\n",
      "899:\tlearn: 0.3048834\ttotal: 2.51s\tremaining: 279ms\n",
      "900:\tlearn: 0.3048168\ttotal: 2.51s\tremaining: 276ms\n",
      "901:\tlearn: 0.3047489\ttotal: 2.51s\tremaining: 273ms\n",
      "902:\tlearn: 0.3046688\ttotal: 2.52s\tremaining: 270ms\n",
      "903:\tlearn: 0.3045982\ttotal: 2.52s\tremaining: 268ms\n",
      "904:\tlearn: 0.3045442\ttotal: 2.52s\tremaining: 265ms\n",
      "905:\tlearn: 0.3044793\ttotal: 2.52s\tremaining: 262ms\n",
      "906:\tlearn: 0.3043631\ttotal: 2.53s\tremaining: 259ms\n",
      "907:\tlearn: 0.3042731\ttotal: 2.53s\tremaining: 256ms\n",
      "908:\tlearn: 0.3041711\ttotal: 2.53s\tremaining: 254ms\n",
      "909:\tlearn: 0.3040656\ttotal: 2.54s\tremaining: 251ms\n",
      "910:\tlearn: 0.3039777\ttotal: 2.54s\tremaining: 248ms\n",
      "911:\tlearn: 0.3038665\ttotal: 2.54s\tremaining: 245ms\n",
      "912:\tlearn: 0.3037969\ttotal: 2.54s\tremaining: 242ms\n",
      "913:\tlearn: 0.3037222\ttotal: 2.55s\tremaining: 240ms\n",
      "914:\tlearn: 0.3036462\ttotal: 2.55s\tremaining: 237ms\n",
      "915:\tlearn: 0.3035743\ttotal: 2.55s\tremaining: 234ms\n",
      "916:\tlearn: 0.3034906\ttotal: 2.56s\tremaining: 231ms\n",
      "917:\tlearn: 0.3034148\ttotal: 2.56s\tremaining: 229ms\n",
      "918:\tlearn: 0.3032986\ttotal: 2.56s\tremaining: 226ms\n",
      "919:\tlearn: 0.3032241\ttotal: 2.56s\tremaining: 223ms\n",
      "920:\tlearn: 0.3031379\ttotal: 2.57s\tremaining: 220ms\n"
     ]
    },
    {
     "name": "stdout",
     "output_type": "stream",
     "text": [
      "921:\tlearn: 0.3030673\ttotal: 2.57s\tremaining: 217ms\n",
      "922:\tlearn: 0.3029412\ttotal: 2.57s\tremaining: 215ms\n",
      "923:\tlearn: 0.3028345\ttotal: 2.57s\tremaining: 212ms\n",
      "924:\tlearn: 0.3027771\ttotal: 2.58s\tremaining: 209ms\n",
      "925:\tlearn: 0.3027122\ttotal: 2.58s\tremaining: 206ms\n",
      "926:\tlearn: 0.3026147\ttotal: 2.58s\tremaining: 203ms\n",
      "927:\tlearn: 0.3025197\ttotal: 2.58s\tremaining: 200ms\n",
      "928:\tlearn: 0.3024223\ttotal: 2.59s\tremaining: 198ms\n",
      "929:\tlearn: 0.3023233\ttotal: 2.59s\tremaining: 195ms\n",
      "930:\tlearn: 0.3022342\ttotal: 2.59s\tremaining: 192ms\n",
      "931:\tlearn: 0.3021588\ttotal: 2.59s\tremaining: 189ms\n",
      "932:\tlearn: 0.3020598\ttotal: 2.6s\tremaining: 186ms\n",
      "933:\tlearn: 0.3019817\ttotal: 2.6s\tremaining: 184ms\n",
      "934:\tlearn: 0.3018396\ttotal: 2.6s\tremaining: 181ms\n",
      "935:\tlearn: 0.3017615\ttotal: 2.6s\tremaining: 178ms\n",
      "936:\tlearn: 0.3017060\ttotal: 2.61s\tremaining: 175ms\n",
      "937:\tlearn: 0.3016595\ttotal: 2.61s\tremaining: 172ms\n",
      "938:\tlearn: 0.3015384\ttotal: 2.61s\tremaining: 170ms\n",
      "939:\tlearn: 0.3015062\ttotal: 2.61s\tremaining: 167ms\n",
      "940:\tlearn: 0.3014574\ttotal: 2.62s\tremaining: 164ms\n",
      "941:\tlearn: 0.3013832\ttotal: 2.62s\tremaining: 161ms\n",
      "942:\tlearn: 0.3013061\ttotal: 2.62s\tremaining: 158ms\n",
      "943:\tlearn: 0.3012583\ttotal: 2.62s\tremaining: 156ms\n",
      "944:\tlearn: 0.3011875\ttotal: 2.63s\tremaining: 153ms\n",
      "945:\tlearn: 0.3011439\ttotal: 2.63s\tremaining: 150ms\n",
      "946:\tlearn: 0.3011023\ttotal: 2.63s\tremaining: 147ms\n",
      "947:\tlearn: 0.3009989\ttotal: 2.63s\tremaining: 144ms\n",
      "948:\tlearn: 0.3008582\ttotal: 2.63s\tremaining: 142ms\n",
      "949:\tlearn: 0.3007513\ttotal: 2.64s\tremaining: 139ms\n",
      "950:\tlearn: 0.3007103\ttotal: 2.64s\tremaining: 136ms\n",
      "951:\tlearn: 0.3006345\ttotal: 2.64s\tremaining: 133ms\n",
      "952:\tlearn: 0.3005575\ttotal: 2.65s\tremaining: 130ms\n",
      "953:\tlearn: 0.3005043\ttotal: 2.65s\tremaining: 128ms\n",
      "954:\tlearn: 0.3004662\ttotal: 2.65s\tremaining: 125ms\n",
      "955:\tlearn: 0.3003971\ttotal: 2.65s\tremaining: 122ms\n",
      "956:\tlearn: 0.3002716\ttotal: 2.65s\tremaining: 119ms\n",
      "957:\tlearn: 0.3000878\ttotal: 2.66s\tremaining: 117ms\n",
      "958:\tlearn: 0.3000461\ttotal: 2.66s\tremaining: 114ms\n",
      "959:\tlearn: 0.2999095\ttotal: 2.66s\tremaining: 111ms\n",
      "960:\tlearn: 0.2997998\ttotal: 2.67s\tremaining: 108ms\n",
      "961:\tlearn: 0.2997169\ttotal: 2.67s\tremaining: 105ms\n",
      "962:\tlearn: 0.2996591\ttotal: 2.67s\tremaining: 103ms\n",
      "963:\tlearn: 0.2995865\ttotal: 2.67s\tremaining: 99.8ms\n",
      "964:\tlearn: 0.2994950\ttotal: 2.67s\tremaining: 97ms\n",
      "965:\tlearn: 0.2993734\ttotal: 2.68s\tremaining: 94.2ms\n",
      "966:\tlearn: 0.2992737\ttotal: 2.68s\tremaining: 91.4ms\n",
      "967:\tlearn: 0.2991864\ttotal: 2.68s\tremaining: 88.6ms\n",
      "968:\tlearn: 0.2991148\ttotal: 2.68s\tremaining: 85.9ms\n",
      "969:\tlearn: 0.2990319\ttotal: 2.69s\tremaining: 83.1ms\n",
      "970:\tlearn: 0.2989545\ttotal: 2.69s\tremaining: 80.3ms\n"
     ]
    },
    {
     "name": "stdout",
     "output_type": "stream",
     "text": [
      "971:\tlearn: 0.2988092\ttotal: 2.69s\tremaining: 77.5ms\n",
      "972:\tlearn: 0.2987446\ttotal: 2.69s\tremaining: 74.8ms\n",
      "973:\tlearn: 0.2987077\ttotal: 2.7s\tremaining: 72ms\n",
      "974:\tlearn: 0.2986480\ttotal: 2.7s\tremaining: 69.2ms\n",
      "975:\tlearn: 0.2985775\ttotal: 2.7s\tremaining: 66.4ms\n",
      "976:\tlearn: 0.2984653\ttotal: 2.7s\tremaining: 63.6ms\n",
      "977:\tlearn: 0.2983777\ttotal: 2.71s\tremaining: 60.9ms\n",
      "978:\tlearn: 0.2982865\ttotal: 2.71s\tremaining: 58.1ms\n",
      "979:\tlearn: 0.2982256\ttotal: 2.71s\tremaining: 55.3ms\n",
      "980:\tlearn: 0.2981757\ttotal: 2.71s\tremaining: 52.6ms\n",
      "981:\tlearn: 0.2981044\ttotal: 2.72s\tremaining: 49.8ms\n",
      "982:\tlearn: 0.2980565\ttotal: 2.72s\tremaining: 47ms\n",
      "983:\tlearn: 0.2980042\ttotal: 2.72s\tremaining: 44.2ms\n",
      "984:\tlearn: 0.2979399\ttotal: 2.72s\tremaining: 41.5ms\n",
      "985:\tlearn: 0.2978606\ttotal: 2.73s\tremaining: 38.7ms\n",
      "986:\tlearn: 0.2977875\ttotal: 2.73s\tremaining: 35.9ms\n",
      "987:\tlearn: 0.2977036\ttotal: 2.73s\tremaining: 33.2ms\n",
      "988:\tlearn: 0.2976712\ttotal: 2.73s\tremaining: 30.4ms\n",
      "989:\tlearn: 0.2975617\ttotal: 2.73s\tremaining: 27.6ms\n",
      "990:\tlearn: 0.2975001\ttotal: 2.74s\tremaining: 24.9ms\n",
      "991:\tlearn: 0.2974661\ttotal: 2.74s\tremaining: 22.1ms\n",
      "992:\tlearn: 0.2974000\ttotal: 2.74s\tremaining: 19.3ms\n",
      "993:\tlearn: 0.2973420\ttotal: 2.74s\tremaining: 16.6ms\n",
      "994:\tlearn: 0.2972539\ttotal: 2.75s\tremaining: 13.8ms\n",
      "995:\tlearn: 0.2971984\ttotal: 2.75s\tremaining: 11ms\n",
      "996:\tlearn: 0.2971209\ttotal: 2.75s\tremaining: 8.28ms\n",
      "997:\tlearn: 0.2970714\ttotal: 2.75s\tremaining: 5.52ms\n",
      "998:\tlearn: 0.2970221\ttotal: 2.76s\tremaining: 2.76ms\n",
      "999:\tlearn: 0.2969239\ttotal: 2.76s\tremaining: 0us\n"
     ]
    },
    {
     "name": "stdout",
     "output_type": "stream",
     "text": [
      "Mean Squared error 0.14450875213100312\n"
     ]
    },
    {
     "data": {
      "application/scrapbook.scrap.json+json": {
       "data": 0.14450875213100312,
       "encoder": "json",
       "name": "Catboost MSE",
       "version": 1
      }
     },
     "metadata": {
      "scrapbook": {
       "data": true,
       "display": false,
       "name": "Catboost MSE"
      }
     },
     "output_type": "display_data"
    }
   ],
   "source": [
    "mse_cb = baselineModels.catboost(X_train,y_train,X_test,y_test)\n",
    "#Store MSE Value \n",
    "sb.glue(\"Catboost MSE\",mse_cb)"
   ]
  },
  {
   "cell_type": "markdown",
   "id": "913a928a",
   "metadata": {
    "papermill": {
     "duration": 0.010861,
     "end_time": "2021-12-24T13:33:38.556055",
     "exception": false,
     "start_time": "2021-12-24T13:33:38.545194",
     "status": "completed"
    },
    "tags": []
   },
   "source": [
    "## Vanilla Neural Network "
   ]
  },
  {
   "cell_type": "code",
   "execution_count": 8,
   "id": "3b345de5",
   "metadata": {
    "execution": {
     "iopub.execute_input": "2021-12-24T13:33:38.581566Z",
     "iopub.status.busy": "2021-12-24T13:33:38.581071Z",
     "iopub.status.idle": "2021-12-24T13:38:18.150950Z",
     "shell.execute_reply": "2021-12-24T13:38:18.150667Z"
    },
    "papermill": {
     "duration": 279.584626,
     "end_time": "2021-12-24T13:38:18.151066",
     "exception": false,
     "start_time": "2021-12-24T13:33:38.566440",
     "status": "completed"
    },
    "tags": []
   },
   "outputs": [
    {
     "data": {
      "application/scrapbook.scrap.json+json": {
       "data": 0.9981543510351127,
       "encoder": "json",
       "name": "Vanilla NN MSE",
       "version": 1
      }
     },
     "metadata": {
      "scrapbook": {
       "data": true,
       "display": false,
       "name": "Vanilla NN MSE"
      }
     },
     "output_type": "display_data"
    },
    {
     "name": "stdout",
     "output_type": "stream",
     "text": [
      "Mean Squared error 0.9981543510351127\n"
     ]
    }
   ],
   "source": [
    "# Parameters \n",
    "n_epochs = 1000\n",
    "batch_size = 1000\n",
    "device = torch.device('cuda' if torch.cuda.is_available() else 'cpu')\n",
    "baselineModels.vanillaNeuralNetwork(train_data,test_data,batch_size,n_features,n_target,n_epochs)"
   ]
  }
 ],
 "metadata": {
  "interpreter": {
   "hash": "10498c76ddd8160350534c6544a2b2fb65f2138dbc70420f7c81a3268f830f23"
  },
  "kernelspec": {
   "display_name": "Python 3 (ipykernel)",
   "language": "python",
   "name": "python3"
  },
  "language_info": {
   "codemirror_mode": {
    "name": "ipython",
    "version": 3
   },
   "file_extension": ".py",
   "mimetype": "text/x-python",
   "name": "python",
   "nbconvert_exporter": "python",
   "pygments_lexer": "ipython3",
   "version": "3.8.11"
  },
  "papermill": {
   "default_parameters": {},
   "duration": 306.887624,
   "end_time": "2021-12-24T13:38:18.469774",
   "environment_variables": {},
   "exception": null,
   "input_path": "BaselineModels.ipynb",
   "output_path": "./BaseLine_Model_Output/baselineModels_output_7.ipynb",
   "parameters": {},
   "start_time": "2021-12-24T13:33:11.582150",
   "version": "2.3.3"
  }
 },
 "nbformat": 4,
 "nbformat_minor": 5
}