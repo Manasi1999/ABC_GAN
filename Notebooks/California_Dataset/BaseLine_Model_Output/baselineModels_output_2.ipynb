{
 "cells": [
  {
   "cell_type": "markdown",
   "id": "7cb85eb2",
   "metadata": {
    "papermill": {
     "duration": 0.01782,
     "end_time": "2021-12-24T12:54:39.309138",
     "exception": false,
     "start_time": "2021-12-24T12:54:39.291318",
     "status": "completed"
    },
    "tags": []
   },
   "source": [
    "## Import Libraries "
   ]
  },
  {
   "cell_type": "code",
   "execution_count": 1,
   "id": "9a430369",
   "metadata": {
    "execution": {
     "iopub.execute_input": "2021-12-24T12:54:39.343753Z",
     "iopub.status.busy": "2021-12-24T12:54:39.342874Z",
     "iopub.status.idle": "2021-12-24T12:54:39.345664Z",
     "shell.execute_reply": "2021-12-24T12:54:39.346070Z"
    },
    "papermill": {
     "duration": 0.023268,
     "end_time": "2021-12-24T12:54:39.346338",
     "exception": false,
     "start_time": "2021-12-24T12:54:39.323070",
     "status": "completed"
    },
    "tags": []
   },
   "outputs": [],
   "source": [
    "import warnings\n",
    "import sys\n",
    "sys.path.insert(0, '../../src')\n",
    "warnings.filterwarnings('ignore')"
   ]
  },
  {
   "cell_type": "code",
   "execution_count": 2,
   "id": "71112c6a",
   "metadata": {
    "execution": {
     "iopub.execute_input": "2021-12-24T12:54:39.361856Z",
     "iopub.status.busy": "2021-12-24T12:54:39.361365Z",
     "iopub.status.idle": "2021-12-24T12:54:41.341126Z",
     "shell.execute_reply": "2021-12-24T12:54:41.341384Z"
    },
    "papermill": {
     "duration": 1.988405,
     "end_time": "2021-12-24T12:54:41.341510",
     "exception": false,
     "start_time": "2021-12-24T12:54:39.353105",
     "status": "completed"
    },
    "tags": []
   },
   "outputs": [],
   "source": [
    "import baselineModels\n",
    "import scrapbook as sb \n",
    "import torch \n",
    "import statsModel\n",
    "import californiaDataset\n",
    "import dataset \n",
    "from torch.utils.data import random_split \n",
    "from sklearn.model_selection import train_test_split"
   ]
  },
  {
   "cell_type": "markdown",
   "id": "e81678f5",
   "metadata": {
    "papermill": {
     "duration": 0.00351,
     "end_time": "2021-12-24T12:54:41.348816",
     "exception": false,
     "start_time": "2021-12-24T12:54:41.345306",
     "status": "completed"
    },
    "tags": []
   },
   "source": [
    "## Import Dataset \n"
   ]
  },
  {
   "cell_type": "code",
   "execution_count": 3,
   "id": "022f37d5",
   "metadata": {
    "execution": {
     "iopub.execute_input": "2021-12-24T12:54:41.358128Z",
     "iopub.status.busy": "2021-12-24T12:54:41.357752Z",
     "iopub.status.idle": "2021-12-24T12:54:41.372750Z",
     "shell.execute_reply": "2021-12-24T12:54:41.373007Z"
    },
    "papermill": {
     "duration": 0.020911,
     "end_time": "2021-12-24T12:54:41.373132",
     "exception": false,
     "start_time": "2021-12-24T12:54:41.352221",
     "status": "completed"
    },
    "tags": []
   },
   "outputs": [
    {
     "name": "stdout",
     "output_type": "stream",
     "text": [
      "       X1    X2        X3        X4      X5        X6     X7      X8      Y\n",
      "0  8.3252  41.0  6.984127  1.023810   322.0  2.555556  37.88 -122.23  4.526\n",
      "1  8.3014  21.0  6.238137  0.971880  2401.0  2.109842  37.86 -122.22  3.585\n",
      "2  7.2574  52.0  8.288136  1.073446   496.0  2.802260  37.85 -122.24  3.521\n",
      "3  5.6431  52.0  5.817352  1.073059   558.0  2.547945  37.85 -122.25  3.413\n",
      "4  3.8462  52.0  6.281853  1.081081   565.0  2.181467  37.85 -122.25  3.422\n"
     ]
    }
   ],
   "source": [
    "X,Y = californiaDataset.california_data()\n",
    "n_features = 8 \n",
    "n_samples = 20640\n",
    "n_target = 1 "
   ]
  },
  {
   "cell_type": "code",
   "execution_count": 4,
   "id": "e4a653d1",
   "metadata": {
    "execution": {
     "iopub.execute_input": "2021-12-24T12:54:41.383649Z",
     "iopub.status.busy": "2021-12-24T12:54:41.383183Z",
     "iopub.status.idle": "2021-12-24T12:54:41.387085Z",
     "shell.execute_reply": "2021-12-24T12:54:41.387360Z"
    },
    "papermill": {
     "duration": 0.010417,
     "end_time": "2021-12-24T12:54:41.387499",
     "exception": false,
     "start_time": "2021-12-24T12:54:41.377082",
     "status": "completed"
    },
    "tags": []
   },
   "outputs": [],
   "source": [
    "# Train test split for dataset \n",
    "real_dataset = dataset.CustomDataset(X,Y)\n",
    "train_size = round(0.8 * n_samples)\n",
    "test_size = n_samples - train_size\n",
    "train_data, test_data = random_split(real_dataset,[train_size,test_size])\n",
    "X_train, X_test, y_train, y_test = train_test_split(X, Y, test_size=0.2)"
   ]
  },
  {
   "cell_type": "markdown",
   "id": "c8af92a6",
   "metadata": {
    "papermill": {
     "duration": 0.003634,
     "end_time": "2021-12-24T12:54:41.395036",
     "exception": false,
     "start_time": "2021-12-24T12:54:41.391402",
     "status": "completed"
    },
    "tags": []
   },
   "source": [
    "## Stats Model "
   ]
  },
  {
   "cell_type": "code",
   "execution_count": 5,
   "id": "a0791ab2",
   "metadata": {
    "execution": {
     "iopub.execute_input": "2021-12-24T12:54:41.405112Z",
     "iopub.status.busy": "2021-12-24T12:54:41.404711Z",
     "iopub.status.idle": "2021-12-24T12:54:41.515036Z",
     "shell.execute_reply": "2021-12-24T12:54:41.515414Z"
    },
    "papermill": {
     "duration": 0.116867,
     "end_time": "2021-12-24T12:54:41.515540",
     "exception": false,
     "start_time": "2021-12-24T12:54:41.398673",
     "status": "completed"
    },
    "tags": []
   },
   "outputs": [
    {
     "name": "stderr",
     "output_type": "stream",
     "text": [
      "No handles with labels found to put in legend.\n"
     ]
    },
    {
     "name": "stdout",
     "output_type": "stream",
     "text": [
      "                                 OLS Regression Results                                \n",
      "=======================================================================================\n",
      "Dep. Variable:                      Y   R-squared (uncentered):                   0.607\n",
      "Model:                            OLS   Adj. R-squared (uncentered):              0.607\n",
      "Method:                 Least Squares   F-statistic:                              3185.\n",
      "Date:                Fri, 24 Dec 2021   Prob (F-statistic):                        0.00\n",
      "Time:                        18:24:41   Log-Likelihood:                         -15748.\n",
      "No. Observations:               16512   AIC:                                  3.151e+04\n",
      "Df Residuals:                   16504   BIC:                                  3.157e+04\n",
      "Df Model:                           8                                                  \n",
      "Covariance Type:            nonrobust                                                  \n",
      "==============================================================================\n",
      "                 coef    std err          t      P>|t|      [0.025      0.975]\n",
      "------------------------------------------------------------------------------\n",
      "x1             0.7169      0.008     92.003      0.000       0.702       0.732\n",
      "x2             0.0999      0.005     18.346      0.000       0.089       0.111\n",
      "x3            -0.2323      0.015    -15.993      0.000      -0.261      -0.204\n",
      "x4             0.2521      0.013     19.712      0.000       0.227       0.277\n",
      "x5            -0.0033      0.005     -0.621      0.535      -0.014       0.007\n",
      "x6            -0.0312      0.004     -7.090      0.000      -0.040      -0.023\n",
      "x7            -0.7799      0.015    -52.001      0.000      -0.809      -0.750\n",
      "x8            -0.7542      0.015    -51.297      0.000      -0.783      -0.725\n",
      "==============================================================================\n",
      "Omnibus:                     3467.781   Durbin-Watson:                   2.024\n",
      "Prob(Omnibus):                  0.000   Jarque-Bera (JB):            10133.697\n",
      "Skew:                           1.099   Prob(JB):                         0.00\n",
      "Kurtosis:                       6.147   Cond. No.                         6.71\n",
      "==============================================================================\n",
      "\n",
      "Notes:\n",
      "[1] R² is computed without centering (uncentered) since the model does not contain a constant.\n",
      "[2] Standard Errors assume that the covariance matrix of the errors is correctly specified.\n",
      "Parameters:  x1    0.716911\n",
      "x2    0.099877\n",
      "x3   -0.232268\n",
      "x4    0.252055\n",
      "x5   -0.003289\n",
      "x6   -0.031228\n",
      "x7   -0.779862\n",
      "x8   -0.754206\n",
      "dtype: float64\n"
     ]
    },
    {
     "data": {
      "image/png": "[encoded data removed]",
      "text/plain": [
       "<Figure size 432x288 with 1 Axes>"
      ]
     },
     "metadata": {
      "needs_background": "light"
     },
     "output_type": "display_data"
    },
    {
     "name": "stdout",
     "output_type": "stream",
     "text": [
      "Performance Metrics\n",
      "Mean Squared Error: 0.3925213256037132\n",
      "Mean Absolute Error: 0.4607122343752407\n",
      "Manhattan distance: 1901.8201035009993\n",
      "Euclidean distance: 40.25329840015756\n"
     ]
    },
    {
     "data": {
      "application/scrapbook.scrap.json+json": {
       "data": 0.3925213256037132,
       "encoder": "json",
       "name": "Stats Model MSE",
       "version": 1
      }
     },
     "metadata": {
      "scrapbook": {
       "data": true,
       "display": false,
       "name": "Stats Model MSE"
      }
     },
     "output_type": "display_data"
    },
    {
     "data": {
      "application/scrapbook.scrap.json+json": {
       "data": 0.4607122343752407,
       "encoder": "json",
       "name": "Stats Model MAE",
       "version": 1
      }
     },
     "metadata": {
      "scrapbook": {
       "data": true,
       "display": false,
       "name": "Stats Model MAE"
      }
     },
     "output_type": "display_data"
    },
    {
     "data": {
      "application/scrapbook.scrap.json+json": {
       "data": 1901.8201035009993,
       "encoder": "json",
       "name": "Stats Model Manhattan Distance",
       "version": 1
      }
     },
     "metadata": {
      "scrapbook": {
       "data": true,
       "display": false,
       "name": "Stats Model Manhattan Distance"
      }
     },
     "output_type": "display_data"
    },
    {
     "data": {
      "application/scrapbook.scrap.json+json": {
       "data": 40.25329840015756,
       "encoder": "json",
       "name": "Stats Model Euclidean distance",
       "version": 1
      }
     },
     "metadata": {
      "scrapbook": {
       "data": true,
       "display": false,
       "name": "Stats Model Euclidean distance"
      }
     },
     "output_type": "display_data"
    },
    {
     "data": {
      "application/scrapbook.scrap.json+json": {
       "data": [
        0.7169110454438963,
        0.09987654158341834,
        -0.2322679138141328,
        0.25205530554507766,
        -0.003289356753441883,
        -0.031228021942450286,
        -0.779861907993858,
        -0.7542057349497585
       ],
       "encoder": "json",
       "name": "Coefficients",
       "version": 1
      }
     },
     "metadata": {
      "scrapbook": {
       "data": true,
       "display": false,
       "name": "Coefficients"
      }
     },
     "output_type": "display_data"
    }
   ],
   "source": [
    "[coeff,y_pred] = statsModel.statsModel(X,Y)\n",
    "\n",
    "#Store Coefficients \n",
    "sb.glue(\"Coefficients\",coeff)"
   ]
  },
  {
   "cell_type": "markdown",
   "id": "5fa92479",
   "metadata": {
    "papermill": {
     "duration": 0.005796,
     "end_time": "2021-12-24T12:54:41.527546",
     "exception": false,
     "start_time": "2021-12-24T12:54:41.521750",
     "status": "completed"
    },
    "tags": []
   },
   "source": [
    "## Random Forest "
   ]
  },
  {
   "cell_type": "code",
   "execution_count": 6,
   "id": "987ca3a4",
   "metadata": {
    "execution": {
     "iopub.execute_input": "2021-12-24T12:54:41.541457Z",
     "iopub.status.busy": "2021-12-24T12:54:41.541063Z",
     "iopub.status.idle": "2021-12-24T12:54:43.685683Z",
     "shell.execute_reply": "2021-12-24T12:54:43.685944Z"
    },
    "papermill": {
     "duration": 2.152824,
     "end_time": "2021-12-24T12:54:43.686077",
     "exception": false,
     "start_time": "2021-12-24T12:54:41.533253",
     "status": "completed"
    },
    "tags": []
   },
   "outputs": [
    {
     "name": "stdout",
     "output_type": "stream",
     "text": [
      "Mean Squared error 0.3826601588279655\n"
     ]
    },
    {
     "data": {
      "application/scrapbook.scrap.json+json": {
       "data": 0.3826601588279655,
       "encoder": "json",
       "name": "Random Forest MSE",
       "version": 1
      }
     },
     "metadata": {
      "scrapbook": {
       "data": true,
       "display": false,
       "name": "Random Forest MSE"
      }
     },
     "output_type": "display_data"
    }
   ],
   "source": [
    "mse_rf = baselineModels.randomForest(X_train,y_train,X_test,y_test)\n",
    "#Store MSE Value\n",
    "sb.glue(\"Random Forest MSE\",mse_rf)"
   ]
  },
  {
   "cell_type": "markdown",
   "id": "f806cbd9",
   "metadata": {
    "papermill": {
     "duration": 0.005991,
     "end_time": "2021-12-24T12:54:43.698504",
     "exception": false,
     "start_time": "2021-12-24T12:54:43.692513",
     "status": "completed"
    },
    "tags": []
   },
   "source": [
    "## Catboost \n",
    "\n"
   ]
  },
  {
   "cell_type": "code",
   "execution_count": 7,
   "id": "60eef0bc",
   "metadata": {
    "execution": {
     "iopub.execute_input": "2021-12-24T12:54:43.748583Z",
     "iopub.status.busy": "2021-12-24T12:54:43.748185Z",
     "iopub.status.idle": "2021-12-24T12:54:46.465285Z",
     "shell.execute_reply": "2021-12-24T12:54:46.465585Z"
    },
    "papermill": {
     "duration": 2.76125,
     "end_time": "2021-12-24T12:54:46.465711",
     "exception": false,
     "start_time": "2021-12-24T12:54:43.704461",
     "status": "completed"
    },
    "tags": []
   },
   "outputs": [
    {
     "name": "stdout",
     "output_type": "stream",
     "text": [
      "Learning rate set to 0.064294\n",
      "0:\tlearn: 0.9614490\ttotal: 61.2ms\tremaining: 1m 1s\n",
      "1:\tlearn: 0.9297362\ttotal: 64ms\tremaining: 32s\n",
      "2:\tlearn: 0.8997721\ttotal: 67.4ms\tremaining: 22.4s\n",
      "3:\tlearn: 0.8723303\ttotal: 70.1ms\tremaining: 17.4s\n",
      "4:\tlearn: 0.8477201\ttotal: 73.1ms\tremaining: 14.6s\n",
      "5:\tlearn: 0.8239043\ttotal: 75.7ms\tremaining: 12.5s\n",
      "6:\tlearn: 0.8017203\ttotal: 78.1ms\tremaining: 11.1s\n",
      "7:\tlearn: 0.7812133\ttotal: 80.4ms\tremaining: 9.97s\n",
      "8:\tlearn: 0.7625671\ttotal: 83.1ms\tremaining: 9.15s\n",
      "9:\tlearn: 0.7456676\ttotal: 85.6ms\tremaining: 8.47s\n",
      "10:\tlearn: 0.7296063\ttotal: 88.4ms\tremaining: 7.95s\n",
      "11:\tlearn: 0.7145642\ttotal: 90.8ms\tremaining: 7.47s\n",
      "12:\tlearn: 0.7010049\ttotal: 93.3ms\tremaining: 7.08s\n",
      "13:\tlearn: 0.6862400\ttotal: 96ms\tremaining: 6.76s\n",
      "14:\tlearn: 0.6751091\ttotal: 98.1ms\tremaining: 6.44s\n",
      "15:\tlearn: 0.6646666\ttotal: 101ms\tremaining: 6.2s\n",
      "16:\tlearn: 0.6532216\ttotal: 103ms\tremaining: 5.96s\n",
      "17:\tlearn: 0.6433342\ttotal: 106ms\tremaining: 5.75s\n",
      "18:\tlearn: 0.6348366\ttotal: 108ms\tremaining: 5.56s\n",
      "19:\tlearn: 0.6245154\ttotal: 110ms\tremaining: 5.39s\n",
      "20:\tlearn: 0.6152038\ttotal: 112ms\tremaining: 5.23s\n",
      "21:\tlearn: 0.6082670\ttotal: 115ms\tremaining: 5.12s\n",
      "22:\tlearn: 0.6005044\ttotal: 118ms\tremaining: 5s\n",
      "23:\tlearn: 0.5926460\ttotal: 120ms\tremaining: 4.88s\n",
      "24:\tlearn: 0.5872016\ttotal: 122ms\tremaining: 4.75s\n",
      "25:\tlearn: 0.5806179\ttotal: 124ms\tremaining: 4.66s\n"
     ]
    },
    {
     "name": "stdout",
     "output_type": "stream",
     "text": [
      "26:\tlearn: 0.5749347\ttotal: 127ms\tremaining: 4.58s\n",
      "27:\tlearn: 0.5707773\ttotal: 130ms\tremaining: 4.5s\n",
      "28:\tlearn: 0.5659568\ttotal: 132ms\tremaining: 4.42s\n",
      "29:\tlearn: 0.5618459\ttotal: 135ms\tremaining: 4.35s\n",
      "30:\tlearn: 0.5584066\ttotal: 137ms\tremaining: 4.29s\n",
      "31:\tlearn: 0.5541948\ttotal: 139ms\tremaining: 4.22s\n",
      "32:\tlearn: 0.5499826\ttotal: 142ms\tremaining: 4.16s\n",
      "33:\tlearn: 0.5472371\ttotal: 145ms\tremaining: 4.12s\n",
      "34:\tlearn: 0.5426693\ttotal: 148ms\tremaining: 4.07s\n",
      "35:\tlearn: 0.5395608\ttotal: 150ms\tremaining: 4.01s\n",
      "36:\tlearn: 0.5367267\ttotal: 152ms\tremaining: 3.96s\n",
      "37:\tlearn: 0.5331029\ttotal: 155ms\tremaining: 3.91s\n",
      "38:\tlearn: 0.5293659\ttotal: 157ms\tremaining: 3.88s\n",
      "39:\tlearn: 0.5263348\ttotal: 160ms\tremaining: 3.84s\n",
      "40:\tlearn: 0.5239965\ttotal: 162ms\tremaining: 3.79s\n",
      "41:\tlearn: 0.5220334\ttotal: 165ms\tremaining: 3.77s\n",
      "42:\tlearn: 0.5191094\ttotal: 168ms\tremaining: 3.73s\n",
      "43:\tlearn: 0.5156307\ttotal: 170ms\tremaining: 3.69s\n",
      "44:\tlearn: 0.5138433\ttotal: 173ms\tremaining: 3.67s\n",
      "45:\tlearn: 0.5117849\ttotal: 175ms\tremaining: 3.64s\n",
      "46:\tlearn: 0.5082000\ttotal: 178ms\tremaining: 3.6s\n",
      "47:\tlearn: 0.5067505\ttotal: 180ms\tremaining: 3.57s\n",
      "48:\tlearn: 0.5050544\ttotal: 183ms\tremaining: 3.55s\n",
      "49:\tlearn: 0.5026697\ttotal: 185ms\tremaining: 3.51s\n",
      "50:\tlearn: 0.5011692\ttotal: 187ms\tremaining: 3.48s\n",
      "51:\tlearn: 0.4994761\ttotal: 189ms\tremaining: 3.45s\n",
      "52:\tlearn: 0.4981593\ttotal: 192ms\tremaining: 3.43s\n"
     ]
    },
    {
     "name": "stdout",
     "output_type": "stream",
     "text": [
      "53:\tlearn: 0.4968731\ttotal: 195ms\tremaining: 3.41s\n",
      "54:\tlearn: 0.4943418\ttotal: 197ms\tremaining: 3.39s\n",
      "55:\tlearn: 0.4931313\ttotal: 200ms\tremaining: 3.37s\n",
      "56:\tlearn: 0.4913957\ttotal: 203ms\tremaining: 3.36s\n",
      "57:\tlearn: 0.4905393\ttotal: 206ms\tremaining: 3.34s\n",
      "58:\tlearn: 0.4895519\ttotal: 208ms\tremaining: 3.32s\n",
      "59:\tlearn: 0.4880627\ttotal: 210ms\tremaining: 3.29s\n",
      "60:\tlearn: 0.4868808\ttotal: 213ms\tremaining: 3.27s\n",
      "61:\tlearn: 0.4856112\ttotal: 215ms\tremaining: 3.26s\n",
      "62:\tlearn: 0.4847759\ttotal: 218ms\tremaining: 3.24s\n",
      "63:\tlearn: 0.4835661\ttotal: 220ms\tremaining: 3.22s\n",
      "64:\tlearn: 0.4828045\ttotal: 223ms\tremaining: 3.2s\n",
      "65:\tlearn: 0.4820081\ttotal: 225ms\tremaining: 3.18s\n",
      "66:\tlearn: 0.4805825\ttotal: 227ms\tremaining: 3.16s\n",
      "67:\tlearn: 0.4794315\ttotal: 230ms\tremaining: 3.15s\n",
      "68:\tlearn: 0.4786530\ttotal: 232ms\tremaining: 3.13s\n",
      "69:\tlearn: 0.4775129\ttotal: 234ms\tremaining: 3.11s\n",
      "70:\tlearn: 0.4763336\ttotal: 237ms\tremaining: 3.1s\n",
      "71:\tlearn: 0.4756847\ttotal: 239ms\tremaining: 3.08s\n",
      "72:\tlearn: 0.4750805\ttotal: 241ms\tremaining: 3.06s\n",
      "73:\tlearn: 0.4741568\ttotal: 244ms\tremaining: 3.05s\n",
      "74:\tlearn: 0.4734795\ttotal: 246ms\tremaining: 3.04s\n",
      "75:\tlearn: 0.4726041\ttotal: 248ms\tremaining: 3.02s\n",
      "76:\tlearn: 0.4721630\ttotal: 251ms\tremaining: 3.01s\n",
      "77:\tlearn: 0.4714574\ttotal: 254ms\tremaining: 3s\n",
      "78:\tlearn: 0.4700809\ttotal: 256ms\tremaining: 2.98s\n",
      "79:\tlearn: 0.4694198\ttotal: 259ms\tremaining: 2.97s\n",
      "80:\tlearn: 0.4677751\ttotal: 261ms\tremaining: 2.97s\n",
      "81:\tlearn: 0.4669314\ttotal: 264ms\tremaining: 2.95s\n",
      "82:\tlearn: 0.4659254\ttotal: 266ms\tremaining: 2.94s\n",
      "83:\tlearn: 0.4652148\ttotal: 269ms\tremaining: 2.93s\n",
      "84:\tlearn: 0.4642090\ttotal: 271ms\tremaining: 2.92s\n",
      "85:\tlearn: 0.4633325\ttotal: 273ms\tremaining: 2.91s\n",
      "86:\tlearn: 0.4627117\ttotal: 276ms\tremaining: 2.89s\n",
      "87:\tlearn: 0.4621312\ttotal: 278ms\tremaining: 2.88s\n",
      "88:\tlearn: 0.4615531\ttotal: 281ms\tremaining: 2.88s\n",
      "89:\tlearn: 0.4611819\ttotal: 284ms\tremaining: 2.87s\n",
      "90:\tlearn: 0.4606760\ttotal: 286ms\tremaining: 2.86s\n",
      "91:\tlearn: 0.4592149\ttotal: 289ms\tremaining: 2.85s\n",
      "92:\tlearn: 0.4586385\ttotal: 291ms\tremaining: 2.84s\n",
      "93:\tlearn: 0.4573278\ttotal: 295ms\tremaining: 2.84s\n",
      "94:\tlearn: 0.4568263\ttotal: 298ms\tremaining: 2.83s\n",
      "95:\tlearn: 0.4554290\ttotal: 300ms\tremaining: 2.83s\n",
      "96:\tlearn: 0.4546888\ttotal: 303ms\tremaining: 2.82s\n",
      "97:\tlearn: 0.4541509\ttotal: 305ms\tremaining: 2.81s\n",
      "98:\tlearn: 0.4534953\ttotal: 307ms\tremaining: 2.8s\n",
      "99:\tlearn: 0.4526432\ttotal: 310ms\tremaining: 2.79s\n",
      "100:\tlearn: 0.4515185\ttotal: 313ms\tremaining: 2.78s\n",
      "101:\tlearn: 0.4510602\ttotal: 315ms\tremaining: 2.77s\n",
      "102:\tlearn: 0.4503235\ttotal: 318ms\tremaining: 2.77s\n",
      "103:\tlearn: 0.4498055\ttotal: 320ms\tremaining: 2.76s\n"
     ]
    },
    {
     "name": "stdout",
     "output_type": "stream",
     "text": [
      "104:\tlearn: 0.4492118\ttotal: 323ms\tremaining: 2.75s\n",
      "105:\tlearn: 0.4488213\ttotal: 326ms\tremaining: 2.75s\n",
      "106:\tlearn: 0.4482765\ttotal: 329ms\tremaining: 2.74s\n",
      "107:\tlearn: 0.4476220\ttotal: 331ms\tremaining: 2.74s\n",
      "108:\tlearn: 0.4469106\ttotal: 334ms\tremaining: 2.73s\n",
      "109:\tlearn: 0.4462820\ttotal: 337ms\tremaining: 2.72s\n",
      "110:\tlearn: 0.4458875\ttotal: 339ms\tremaining: 2.72s\n",
      "111:\tlearn: 0.4455318\ttotal: 342ms\tremaining: 2.71s\n",
      "112:\tlearn: 0.4449785\ttotal: 344ms\tremaining: 2.7s\n",
      "113:\tlearn: 0.4445741\ttotal: 347ms\tremaining: 2.7s\n",
      "114:\tlearn: 0.4440286\ttotal: 349ms\tremaining: 2.69s\n",
      "115:\tlearn: 0.4435084\ttotal: 352ms\tremaining: 2.68s\n",
      "116:\tlearn: 0.4431707\ttotal: 354ms\tremaining: 2.67s\n",
      "117:\tlearn: 0.4426507\ttotal: 356ms\tremaining: 2.66s\n",
      "118:\tlearn: 0.4420784\ttotal: 359ms\tremaining: 2.66s\n",
      "119:\tlearn: 0.4414262\ttotal: 362ms\tremaining: 2.65s\n",
      "120:\tlearn: 0.4409147\ttotal: 364ms\tremaining: 2.64s\n",
      "121:\tlearn: 0.4403863\ttotal: 367ms\tremaining: 2.64s\n",
      "122:\tlearn: 0.4399684\ttotal: 369ms\tremaining: 2.63s\n",
      "123:\tlearn: 0.4395391\ttotal: 372ms\tremaining: 2.62s\n",
      "124:\tlearn: 0.4392108\ttotal: 374ms\tremaining: 2.62s\n",
      "125:\tlearn: 0.4385106\ttotal: 377ms\tremaining: 2.61s\n",
      "126:\tlearn: 0.4377861\ttotal: 379ms\tremaining: 2.6s\n",
      "127:\tlearn: 0.4371914\ttotal: 381ms\tremaining: 2.6s\n",
      "128:\tlearn: 0.4367574\ttotal: 384ms\tremaining: 2.59s\n",
      "129:\tlearn: 0.4363585\ttotal: 386ms\tremaining: 2.58s\n",
      "130:\tlearn: 0.4357295\ttotal: 388ms\tremaining: 2.58s\n"
     ]
    },
    {
     "name": "stdout",
     "output_type": "stream",
     "text": [
      "131:\tlearn: 0.4353615\ttotal: 391ms\tremaining: 2.57s\n",
      "132:\tlearn: 0.4346995\ttotal: 394ms\tremaining: 2.57s\n",
      "133:\tlearn: 0.4342125\ttotal: 396ms\tremaining: 2.56s\n",
      "134:\tlearn: 0.4339690\ttotal: 399ms\tremaining: 2.56s\n",
      "135:\tlearn: 0.4335559\ttotal: 401ms\tremaining: 2.55s\n",
      "136:\tlearn: 0.4332708\ttotal: 404ms\tremaining: 2.54s\n",
      "137:\tlearn: 0.4325192\ttotal: 406ms\tremaining: 2.54s\n",
      "138:\tlearn: 0.4318255\ttotal: 409ms\tremaining: 2.53s\n",
      "139:\tlearn: 0.4315867\ttotal: 411ms\tremaining: 2.52s\n",
      "140:\tlearn: 0.4311565\ttotal: 414ms\tremaining: 2.52s\n",
      "141:\tlearn: 0.4308848\ttotal: 416ms\tremaining: 2.51s\n",
      "142:\tlearn: 0.4303455\ttotal: 418ms\tremaining: 2.51s\n",
      "143:\tlearn: 0.4299257\ttotal: 421ms\tremaining: 2.5s\n",
      "144:\tlearn: 0.4296197\ttotal: 424ms\tremaining: 2.5s\n",
      "145:\tlearn: 0.4293963\ttotal: 426ms\tremaining: 2.49s\n",
      "146:\tlearn: 0.4287511\ttotal: 429ms\tremaining: 2.49s\n",
      "147:\tlearn: 0.4282840\ttotal: 432ms\tremaining: 2.48s\n",
      "148:\tlearn: 0.4280091\ttotal: 434ms\tremaining: 2.48s\n",
      "149:\tlearn: 0.4274555\ttotal: 437ms\tremaining: 2.47s\n",
      "150:\tlearn: 0.4267753\ttotal: 440ms\tremaining: 2.47s\n",
      "151:\tlearn: 0.4264165\ttotal: 443ms\tremaining: 2.47s\n",
      "152:\tlearn: 0.4258828\ttotal: 445ms\tremaining: 2.46s\n",
      "153:\tlearn: 0.4256396\ttotal: 447ms\tremaining: 2.46s\n",
      "154:\tlearn: 0.4252603\ttotal: 450ms\tremaining: 2.45s\n",
      "155:\tlearn: 0.4246899\ttotal: 452ms\tremaining: 2.45s\n",
      "156:\tlearn: 0.4239070\ttotal: 455ms\tremaining: 2.44s\n",
      "157:\tlearn: 0.4235075\ttotal: 458ms\tremaining: 2.44s\n",
      "158:\tlearn: 0.4230415\ttotal: 460ms\tremaining: 2.43s\n",
      "159:\tlearn: 0.4226477\ttotal: 463ms\tremaining: 2.43s\n",
      "160:\tlearn: 0.4222274\ttotal: 465ms\tremaining: 2.42s\n",
      "161:\tlearn: 0.4218559\ttotal: 467ms\tremaining: 2.42s\n",
      "162:\tlearn: 0.4214486\ttotal: 470ms\tremaining: 2.41s\n",
      "163:\tlearn: 0.4208928\ttotal: 473ms\tremaining: 2.41s\n",
      "164:\tlearn: 0.4204610\ttotal: 475ms\tremaining: 2.4s\n",
      "165:\tlearn: 0.4200446\ttotal: 477ms\tremaining: 2.4s\n",
      "166:\tlearn: 0.4196110\ttotal: 480ms\tremaining: 2.39s\n",
      "167:\tlearn: 0.4187330\ttotal: 482ms\tremaining: 2.39s\n",
      "168:\tlearn: 0.4183623\ttotal: 485ms\tremaining: 2.38s\n",
      "169:\tlearn: 0.4179560\ttotal: 487ms\tremaining: 2.38s\n",
      "170:\tlearn: 0.4176385\ttotal: 490ms\tremaining: 2.37s\n",
      "171:\tlearn: 0.4172049\ttotal: 493ms\tremaining: 2.37s\n",
      "172:\tlearn: 0.4169349\ttotal: 495ms\tremaining: 2.37s\n",
      "173:\tlearn: 0.4165355\ttotal: 497ms\tremaining: 2.36s\n",
      "174:\tlearn: 0.4161978\ttotal: 500ms\tremaining: 2.36s\n",
      "175:\tlearn: 0.4158016\ttotal: 502ms\tremaining: 2.35s\n",
      "176:\tlearn: 0.4154837\ttotal: 505ms\tremaining: 2.35s\n",
      "177:\tlearn: 0.4151081\ttotal: 507ms\tremaining: 2.34s\n",
      "178:\tlearn: 0.4146797\ttotal: 510ms\tremaining: 2.34s\n",
      "179:\tlearn: 0.4144654\ttotal: 512ms\tremaining: 2.33s\n",
      "180:\tlearn: 0.4140403\ttotal: 515ms\tremaining: 2.33s\n",
      "181:\tlearn: 0.4134854\ttotal: 517ms\tremaining: 2.32s\n"
     ]
    },
    {
     "name": "stdout",
     "output_type": "stream",
     "text": [
      "182:\tlearn: 0.4130080\ttotal: 520ms\tremaining: 2.32s\n",
      "183:\tlearn: 0.4122589\ttotal: 523ms\tremaining: 2.32s\n",
      "184:\tlearn: 0.4118422\ttotal: 525ms\tremaining: 2.31s\n",
      "185:\tlearn: 0.4114326\ttotal: 527ms\tremaining: 2.31s\n",
      "186:\tlearn: 0.4110958\ttotal: 529ms\tremaining: 2.3s\n",
      "187:\tlearn: 0.4107121\ttotal: 532ms\tremaining: 2.29s\n",
      "188:\tlearn: 0.4102895\ttotal: 534ms\tremaining: 2.29s\n",
      "189:\tlearn: 0.4099810\ttotal: 537ms\tremaining: 2.29s\n",
      "190:\tlearn: 0.4094548\ttotal: 539ms\tremaining: 2.28s\n",
      "191:\tlearn: 0.4091049\ttotal: 542ms\tremaining: 2.28s\n",
      "192:\tlearn: 0.4088203\ttotal: 544ms\tremaining: 2.27s\n",
      "193:\tlearn: 0.4085094\ttotal: 547ms\tremaining: 2.27s\n",
      "194:\tlearn: 0.4079757\ttotal: 549ms\tremaining: 2.27s\n",
      "195:\tlearn: 0.4077122\ttotal: 552ms\tremaining: 2.26s\n",
      "196:\tlearn: 0.4073505\ttotal: 554ms\tremaining: 2.26s\n",
      "197:\tlearn: 0.4070585\ttotal: 557ms\tremaining: 2.26s\n",
      "198:\tlearn: 0.4066999\ttotal: 559ms\tremaining: 2.25s\n",
      "199:\tlearn: 0.4062988\ttotal: 562ms\tremaining: 2.25s\n",
      "200:\tlearn: 0.4059371\ttotal: 565ms\tremaining: 2.24s\n",
      "201:\tlearn: 0.4051389\ttotal: 567ms\tremaining: 2.24s\n",
      "202:\tlearn: 0.4048785\ttotal: 570ms\tremaining: 2.24s\n",
      "203:\tlearn: 0.4046664\ttotal: 572ms\tremaining: 2.23s\n",
      "204:\tlearn: 0.4043632\ttotal: 574ms\tremaining: 2.23s\n",
      "205:\tlearn: 0.4040431\ttotal: 576ms\tremaining: 2.22s\n",
      "206:\tlearn: 0.4037030\ttotal: 579ms\tremaining: 2.22s\n",
      "207:\tlearn: 0.4033337\ttotal: 581ms\tremaining: 2.21s\n",
      "208:\tlearn: 0.4030904\ttotal: 584ms\tremaining: 2.21s\n",
      "209:\tlearn: 0.4028161\ttotal: 586ms\tremaining: 2.21s\n"
     ]
    },
    {
     "name": "stdout",
     "output_type": "stream",
     "text": [
      "210:\tlearn: 0.4025380\ttotal: 589ms\tremaining: 2.2s\n",
      "211:\tlearn: 0.4018881\ttotal: 592ms\tremaining: 2.2s\n",
      "212:\tlearn: 0.4016800\ttotal: 594ms\tremaining: 2.19s\n",
      "213:\tlearn: 0.4014334\ttotal: 596ms\tremaining: 2.19s\n",
      "214:\tlearn: 0.4011327\ttotal: 599ms\tremaining: 2.19s\n",
      "215:\tlearn: 0.4008752\ttotal: 601ms\tremaining: 2.18s\n",
      "216:\tlearn: 0.4005199\ttotal: 604ms\tremaining: 2.18s\n",
      "217:\tlearn: 0.4002428\ttotal: 607ms\tremaining: 2.18s\n",
      "218:\tlearn: 0.3998984\ttotal: 609ms\tremaining: 2.17s\n",
      "219:\tlearn: 0.3996255\ttotal: 612ms\tremaining: 2.17s\n",
      "220:\tlearn: 0.3992564\ttotal: 614ms\tremaining: 2.16s\n",
      "221:\tlearn: 0.3989589\ttotal: 616ms\tremaining: 2.16s\n",
      "222:\tlearn: 0.3985960\ttotal: 619ms\tremaining: 2.16s\n",
      "223:\tlearn: 0.3982828\ttotal: 622ms\tremaining: 2.15s\n",
      "224:\tlearn: 0.3980568\ttotal: 624ms\tremaining: 2.15s\n",
      "225:\tlearn: 0.3976360\ttotal: 627ms\tremaining: 2.15s\n",
      "226:\tlearn: 0.3974440\ttotal: 629ms\tremaining: 2.14s\n",
      "227:\tlearn: 0.3971566\ttotal: 632ms\tremaining: 2.14s\n",
      "228:\tlearn: 0.3968069\ttotal: 635ms\tremaining: 2.14s\n",
      "229:\tlearn: 0.3965116\ttotal: 638ms\tremaining: 2.14s\n",
      "230:\tlearn: 0.3962563\ttotal: 641ms\tremaining: 2.13s\n",
      "231:\tlearn: 0.3959201\ttotal: 643ms\tremaining: 2.13s\n",
      "232:\tlearn: 0.3957629\ttotal: 645ms\tremaining: 2.12s\n",
      "233:\tlearn: 0.3954922\ttotal: 647ms\tremaining: 2.12s\n",
      "234:\tlearn: 0.3952054\ttotal: 650ms\tremaining: 2.12s\n",
      "235:\tlearn: 0.3948263\ttotal: 653ms\tremaining: 2.11s\n",
      "236:\tlearn: 0.3946235\ttotal: 655ms\tremaining: 2.11s\n",
      "237:\tlearn: 0.3943384\ttotal: 658ms\tremaining: 2.11s\n",
      "238:\tlearn: 0.3940966\ttotal: 660ms\tremaining: 2.1s\n",
      "239:\tlearn: 0.3938683\ttotal: 662ms\tremaining: 2.1s\n",
      "240:\tlearn: 0.3936020\ttotal: 665ms\tremaining: 2.09s\n",
      "241:\tlearn: 0.3932775\ttotal: 667ms\tremaining: 2.09s\n",
      "242:\tlearn: 0.3929868\ttotal: 670ms\tremaining: 2.09s\n",
      "243:\tlearn: 0.3926981\ttotal: 672ms\tremaining: 2.08s\n",
      "244:\tlearn: 0.3924090\ttotal: 674ms\tremaining: 2.08s\n",
      "245:\tlearn: 0.3922530\ttotal: 677ms\tremaining: 2.07s\n",
      "246:\tlearn: 0.3920028\ttotal: 679ms\tremaining: 2.07s\n",
      "247:\tlearn: 0.3917974\ttotal: 683ms\tremaining: 2.07s\n",
      "248:\tlearn: 0.3914250\ttotal: 686ms\tremaining: 2.07s\n",
      "249:\tlearn: 0.3910611\ttotal: 688ms\tremaining: 2.06s\n",
      "250:\tlearn: 0.3908464\ttotal: 691ms\tremaining: 2.06s\n",
      "251:\tlearn: 0.3906726\ttotal: 693ms\tremaining: 2.06s\n",
      "252:\tlearn: 0.3904822\ttotal: 696ms\tremaining: 2.05s\n",
      "253:\tlearn: 0.3902590\ttotal: 698ms\tremaining: 2.05s\n",
      "254:\tlearn: 0.3899285\ttotal: 701ms\tremaining: 2.05s\n",
      "255:\tlearn: 0.3897095\ttotal: 703ms\tremaining: 2.04s\n",
      "256:\tlearn: 0.3895577\ttotal: 706ms\tremaining: 2.04s\n",
      "257:\tlearn: 0.3893204\ttotal: 708ms\tremaining: 2.04s\n",
      "258:\tlearn: 0.3891303\ttotal: 711ms\tremaining: 2.03s\n",
      "259:\tlearn: 0.3886851\ttotal: 713ms\tremaining: 2.03s\n"
     ]
    },
    {
     "name": "stdout",
     "output_type": "stream",
     "text": [
      "260:\tlearn: 0.3884478\ttotal: 716ms\tremaining: 2.03s\n",
      "261:\tlearn: 0.3882284\ttotal: 718ms\tremaining: 2.02s\n",
      "262:\tlearn: 0.3879739\ttotal: 721ms\tremaining: 2.02s\n",
      "263:\tlearn: 0.3877583\ttotal: 723ms\tremaining: 2.02s\n",
      "264:\tlearn: 0.3874730\ttotal: 725ms\tremaining: 2.01s\n",
      "265:\tlearn: 0.3873284\ttotal: 728ms\tremaining: 2.01s\n",
      "266:\tlearn: 0.3870049\ttotal: 730ms\tremaining: 2s\n",
      "267:\tlearn: 0.3866704\ttotal: 733ms\tremaining: 2s\n",
      "268:\tlearn: 0.3863618\ttotal: 735ms\tremaining: 2s\n",
      "269:\tlearn: 0.3861045\ttotal: 737ms\tremaining: 1.99s\n",
      "270:\tlearn: 0.3858141\ttotal: 740ms\tremaining: 1.99s\n",
      "271:\tlearn: 0.3855679\ttotal: 743ms\tremaining: 1.99s\n",
      "272:\tlearn: 0.3853443\ttotal: 745ms\tremaining: 1.98s\n",
      "273:\tlearn: 0.3850866\ttotal: 748ms\tremaining: 1.98s\n",
      "274:\tlearn: 0.3848719\ttotal: 750ms\tremaining: 1.98s\n",
      "275:\tlearn: 0.3845734\ttotal: 753ms\tremaining: 1.98s\n",
      "276:\tlearn: 0.3843910\ttotal: 755ms\tremaining: 1.97s\n",
      "277:\tlearn: 0.3842194\ttotal: 758ms\tremaining: 1.97s\n",
      "278:\tlearn: 0.3839982\ttotal: 760ms\tremaining: 1.96s\n",
      "279:\tlearn: 0.3837919\ttotal: 763ms\tremaining: 1.96s\n",
      "280:\tlearn: 0.3836049\ttotal: 766ms\tremaining: 1.96s\n",
      "281:\tlearn: 0.3834758\ttotal: 768ms\tremaining: 1.96s\n",
      "282:\tlearn: 0.3832742\ttotal: 771ms\tremaining: 1.95s\n",
      "283:\tlearn: 0.3830698\ttotal: 773ms\tremaining: 1.95s\n",
      "284:\tlearn: 0.3829397\ttotal: 775ms\tremaining: 1.94s\n",
      "285:\tlearn: 0.3827537\ttotal: 778ms\tremaining: 1.94s\n",
      "286:\tlearn: 0.3823376\ttotal: 781ms\tremaining: 1.94s\n",
      "287:\tlearn: 0.3822304\ttotal: 783ms\tremaining: 1.94s\n"
     ]
    },
    {
     "name": "stdout",
     "output_type": "stream",
     "text": [
      "288:\tlearn: 0.3820981\ttotal: 785ms\tremaining: 1.93s\n",
      "289:\tlearn: 0.3818745\ttotal: 788ms\tremaining: 1.93s\n",
      "290:\tlearn: 0.3815387\ttotal: 790ms\tremaining: 1.92s\n",
      "291:\tlearn: 0.3813858\ttotal: 792ms\tremaining: 1.92s\n",
      "292:\tlearn: 0.3811562\ttotal: 796ms\tremaining: 1.92s\n",
      "293:\tlearn: 0.3809646\ttotal: 798ms\tremaining: 1.92s\n",
      "294:\tlearn: 0.3807253\ttotal: 800ms\tremaining: 1.91s\n",
      "295:\tlearn: 0.3804216\ttotal: 803ms\tremaining: 1.91s\n",
      "296:\tlearn: 0.3802731\ttotal: 805ms\tremaining: 1.91s\n",
      "297:\tlearn: 0.3800766\ttotal: 808ms\tremaining: 1.9s\n",
      "298:\tlearn: 0.3798309\ttotal: 810ms\tremaining: 1.9s\n",
      "299:\tlearn: 0.3796832\ttotal: 813ms\tremaining: 1.9s\n",
      "300:\tlearn: 0.3792218\ttotal: 815ms\tremaining: 1.89s\n",
      "301:\tlearn: 0.3790455\ttotal: 818ms\tremaining: 1.89s\n",
      "302:\tlearn: 0.3788022\ttotal: 820ms\tremaining: 1.89s\n",
      "303:\tlearn: 0.3786392\ttotal: 822ms\tremaining: 1.88s\n",
      "304:\tlearn: 0.3784550\ttotal: 824ms\tremaining: 1.88s\n",
      "305:\tlearn: 0.3783315\ttotal: 827ms\tremaining: 1.88s\n",
      "306:\tlearn: 0.3781782\ttotal: 829ms\tremaining: 1.87s\n",
      "307:\tlearn: 0.3779828\ttotal: 832ms\tremaining: 1.87s\n",
      "308:\tlearn: 0.3777528\ttotal: 834ms\tremaining: 1.87s\n",
      "309:\tlearn: 0.3775533\ttotal: 837ms\tremaining: 1.86s\n",
      "310:\tlearn: 0.3771586\ttotal: 839ms\tremaining: 1.86s\n",
      "311:\tlearn: 0.3769043\ttotal: 842ms\tremaining: 1.85s\n",
      "312:\tlearn: 0.3766584\ttotal: 844ms\tremaining: 1.85s\n",
      "313:\tlearn: 0.3764524\ttotal: 847ms\tremaining: 1.85s\n",
      "314:\tlearn: 0.3762111\ttotal: 850ms\tremaining: 1.85s\n",
      "315:\tlearn: 0.3760301\ttotal: 852ms\tremaining: 1.84s\n",
      "316:\tlearn: 0.3758565\ttotal: 855ms\tremaining: 1.84s\n",
      "317:\tlearn: 0.3757168\ttotal: 857ms\tremaining: 1.84s\n",
      "318:\tlearn: 0.3754970\ttotal: 860ms\tremaining: 1.84s\n",
      "319:\tlearn: 0.3753531\ttotal: 863ms\tremaining: 1.83s\n",
      "320:\tlearn: 0.3751563\ttotal: 865ms\tremaining: 1.83s\n",
      "321:\tlearn: 0.3749670\ttotal: 868ms\tremaining: 1.83s\n",
      "322:\tlearn: 0.3747553\ttotal: 870ms\tremaining: 1.82s\n",
      "323:\tlearn: 0.3745961\ttotal: 873ms\tremaining: 1.82s\n",
      "324:\tlearn: 0.3744500\ttotal: 875ms\tremaining: 1.82s\n",
      "325:\tlearn: 0.3743381\ttotal: 878ms\tremaining: 1.81s\n",
      "326:\tlearn: 0.3741165\ttotal: 880ms\tremaining: 1.81s\n",
      "327:\tlearn: 0.3739404\ttotal: 882ms\tremaining: 1.81s\n",
      "328:\tlearn: 0.3736874\ttotal: 884ms\tremaining: 1.8s\n",
      "329:\tlearn: 0.3735323\ttotal: 887ms\tremaining: 1.8s\n",
      "330:\tlearn: 0.3733441\ttotal: 890ms\tremaining: 1.8s\n",
      "331:\tlearn: 0.3730809\ttotal: 892ms\tremaining: 1.79s\n",
      "332:\tlearn: 0.3729197\ttotal: 896ms\tremaining: 1.79s\n",
      "333:\tlearn: 0.3727302\ttotal: 898ms\tremaining: 1.79s\n",
      "334:\tlearn: 0.3725584\ttotal: 900ms\tremaining: 1.79s\n",
      "335:\tlearn: 0.3723679\ttotal: 903ms\tremaining: 1.78s\n",
      "336:\tlearn: 0.3721310\ttotal: 905ms\tremaining: 1.78s\n",
      "337:\tlearn: 0.3719578\ttotal: 907ms\tremaining: 1.78s\n",
      "338:\tlearn: 0.3717261\ttotal: 910ms\tremaining: 1.77s\n"
     ]
    },
    {
     "name": "stdout",
     "output_type": "stream",
     "text": [
      "339:\tlearn: 0.3716216\ttotal: 913ms\tremaining: 1.77s\n",
      "340:\tlearn: 0.3714235\ttotal: 915ms\tremaining: 1.77s\n",
      "341:\tlearn: 0.3712822\ttotal: 918ms\tremaining: 1.76s\n",
      "342:\tlearn: 0.3711270\ttotal: 920ms\tremaining: 1.76s\n",
      "343:\tlearn: 0.3708940\ttotal: 923ms\tremaining: 1.76s\n",
      "344:\tlearn: 0.3707232\ttotal: 925ms\tremaining: 1.76s\n",
      "345:\tlearn: 0.3705018\ttotal: 928ms\tremaining: 1.75s\n",
      "346:\tlearn: 0.3703513\ttotal: 930ms\tremaining: 1.75s\n",
      "347:\tlearn: 0.3702344\ttotal: 933ms\tremaining: 1.75s\n",
      "348:\tlearn: 0.3700719\ttotal: 935ms\tremaining: 1.74s\n",
      "349:\tlearn: 0.3699298\ttotal: 938ms\tremaining: 1.74s\n",
      "350:\tlearn: 0.3698110\ttotal: 940ms\tremaining: 1.74s\n",
      "351:\tlearn: 0.3697055\ttotal: 943ms\tremaining: 1.74s\n",
      "352:\tlearn: 0.3694226\ttotal: 945ms\tremaining: 1.73s\n",
      "353:\tlearn: 0.3692486\ttotal: 948ms\tremaining: 1.73s\n",
      "354:\tlearn: 0.3690842\ttotal: 950ms\tremaining: 1.73s\n",
      "355:\tlearn: 0.3686782\ttotal: 953ms\tremaining: 1.72s\n",
      "356:\tlearn: 0.3684893\ttotal: 955ms\tremaining: 1.72s\n",
      "357:\tlearn: 0.3682846\ttotal: 958ms\tremaining: 1.72s\n",
      "358:\tlearn: 0.3680967\ttotal: 961ms\tremaining: 1.72s\n",
      "359:\tlearn: 0.3679164\ttotal: 963ms\tremaining: 1.71s\n",
      "360:\tlearn: 0.3677217\ttotal: 966ms\tremaining: 1.71s\n",
      "361:\tlearn: 0.3675848\ttotal: 968ms\tremaining: 1.71s\n",
      "362:\tlearn: 0.3671269\ttotal: 971ms\tremaining: 1.7s\n",
      "363:\tlearn: 0.3669362\ttotal: 973ms\tremaining: 1.7s\n",
      "364:\tlearn: 0.3668081\ttotal: 975ms\tremaining: 1.7s\n",
      "365:\tlearn: 0.3666048\ttotal: 978ms\tremaining: 1.69s\n"
     ]
    },
    {
     "name": "stdout",
     "output_type": "stream",
     "text": [
      "366:\tlearn: 0.3663750\ttotal: 980ms\tremaining: 1.69s\n",
      "367:\tlearn: 0.3661816\ttotal: 983ms\tremaining: 1.69s\n",
      "368:\tlearn: 0.3659372\ttotal: 985ms\tremaining: 1.68s\n",
      "369:\tlearn: 0.3657657\ttotal: 988ms\tremaining: 1.68s\n",
      "370:\tlearn: 0.3654016\ttotal: 990ms\tremaining: 1.68s\n",
      "371:\tlearn: 0.3652112\ttotal: 993ms\tremaining: 1.68s\n",
      "372:\tlearn: 0.3650742\ttotal: 995ms\tremaining: 1.67s\n",
      "373:\tlearn: 0.3648159\ttotal: 997ms\tremaining: 1.67s\n",
      "374:\tlearn: 0.3646900\ttotal: 1000ms\tremaining: 1.67s\n",
      "375:\tlearn: 0.3645833\ttotal: 1s\tremaining: 1.66s\n",
      "376:\tlearn: 0.3644416\ttotal: 1s\tremaining: 1.66s\n",
      "377:\tlearn: 0.3642630\ttotal: 1.01s\tremaining: 1.66s\n",
      "378:\tlearn: 0.3640020\ttotal: 1.01s\tremaining: 1.65s\n",
      "379:\tlearn: 0.3638603\ttotal: 1.01s\tremaining: 1.65s\n",
      "380:\tlearn: 0.3636867\ttotal: 1.01s\tremaining: 1.65s\n",
      "381:\tlearn: 0.3635158\ttotal: 1.02s\tremaining: 1.64s\n",
      "382:\tlearn: 0.3632147\ttotal: 1.02s\tremaining: 1.64s\n",
      "383:\tlearn: 0.3631182\ttotal: 1.02s\tremaining: 1.64s\n",
      "384:\tlearn: 0.3629239\ttotal: 1.02s\tremaining: 1.64s\n",
      "385:\tlearn: 0.3627325\ttotal: 1.03s\tremaining: 1.63s\n",
      "386:\tlearn: 0.3625522\ttotal: 1.03s\tremaining: 1.63s\n",
      "387:\tlearn: 0.3623793\ttotal: 1.03s\tremaining: 1.63s\n",
      "388:\tlearn: 0.3622760\ttotal: 1.03s\tremaining: 1.62s\n",
      "389:\tlearn: 0.3620748\ttotal: 1.04s\tremaining: 1.62s\n",
      "390:\tlearn: 0.3619467\ttotal: 1.04s\tremaining: 1.62s\n",
      "391:\tlearn: 0.3617726\ttotal: 1.04s\tremaining: 1.61s\n",
      "392:\tlearn: 0.3616050\ttotal: 1.04s\tremaining: 1.61s\n",
      "393:\tlearn: 0.3614581\ttotal: 1.05s\tremaining: 1.61s\n",
      "394:\tlearn: 0.3612332\ttotal: 1.05s\tremaining: 1.61s\n",
      "395:\tlearn: 0.3610034\ttotal: 1.05s\tremaining: 1.6s\n",
      "396:\tlearn: 0.3608063\ttotal: 1.05s\tremaining: 1.6s\n",
      "397:\tlearn: 0.3606499\ttotal: 1.05s\tremaining: 1.6s\n",
      "398:\tlearn: 0.3604653\ttotal: 1.06s\tremaining: 1.59s\n",
      "399:\tlearn: 0.3601919\ttotal: 1.06s\tremaining: 1.59s\n",
      "400:\tlearn: 0.3600421\ttotal: 1.06s\tremaining: 1.59s\n",
      "401:\tlearn: 0.3598155\ttotal: 1.06s\tremaining: 1.58s\n",
      "402:\tlearn: 0.3596194\ttotal: 1.07s\tremaining: 1.58s\n",
      "403:\tlearn: 0.3594449\ttotal: 1.07s\tremaining: 1.58s\n",
      "404:\tlearn: 0.3592127\ttotal: 1.07s\tremaining: 1.57s\n",
      "405:\tlearn: 0.3590261\ttotal: 1.07s\tremaining: 1.57s\n",
      "406:\tlearn: 0.3588351\ttotal: 1.08s\tremaining: 1.57s\n",
      "407:\tlearn: 0.3586791\ttotal: 1.08s\tremaining: 1.57s\n",
      "408:\tlearn: 0.3585302\ttotal: 1.08s\tremaining: 1.56s\n",
      "409:\tlearn: 0.3582653\ttotal: 1.08s\tremaining: 1.56s\n",
      "410:\tlearn: 0.3580844\ttotal: 1.09s\tremaining: 1.56s\n",
      "411:\tlearn: 0.3579243\ttotal: 1.09s\tremaining: 1.56s\n",
      "412:\tlearn: 0.3577477\ttotal: 1.09s\tremaining: 1.55s\n",
      "413:\tlearn: 0.3575077\ttotal: 1.09s\tremaining: 1.55s\n",
      "414:\tlearn: 0.3573111\ttotal: 1.1s\tremaining: 1.55s\n",
      "415:\tlearn: 0.3572328\ttotal: 1.1s\tremaining: 1.54s\n",
      "416:\tlearn: 0.3570550\ttotal: 1.1s\tremaining: 1.54s\n",
      "417:\tlearn: 0.3569286\ttotal: 1.1s\tremaining: 1.54s\n"
     ]
    },
    {
     "name": "stdout",
     "output_type": "stream",
     "text": [
      "418:\tlearn: 0.3568297\ttotal: 1.11s\tremaining: 1.54s\n",
      "419:\tlearn: 0.3566760\ttotal: 1.11s\tremaining: 1.53s\n",
      "420:\tlearn: 0.3564901\ttotal: 1.11s\tremaining: 1.53s\n",
      "421:\tlearn: 0.3563427\ttotal: 1.11s\tremaining: 1.53s\n",
      "422:\tlearn: 0.3562505\ttotal: 1.12s\tremaining: 1.52s\n",
      "423:\tlearn: 0.3560482\ttotal: 1.12s\tremaining: 1.52s\n",
      "424:\tlearn: 0.3559036\ttotal: 1.12s\tremaining: 1.52s\n",
      "425:\tlearn: 0.3557831\ttotal: 1.13s\tremaining: 1.52s\n",
      "426:\tlearn: 0.3556404\ttotal: 1.13s\tremaining: 1.51s\n",
      "427:\tlearn: 0.3555276\ttotal: 1.13s\tremaining: 1.51s\n",
      "428:\tlearn: 0.3553738\ttotal: 1.13s\tremaining: 1.51s\n",
      "429:\tlearn: 0.3552429\ttotal: 1.14s\tremaining: 1.5s\n",
      "430:\tlearn: 0.3551140\ttotal: 1.14s\tremaining: 1.5s\n",
      "431:\tlearn: 0.3550263\ttotal: 1.14s\tremaining: 1.5s\n",
      "432:\tlearn: 0.3548597\ttotal: 1.14s\tremaining: 1.5s\n",
      "433:\tlearn: 0.3546798\ttotal: 1.15s\tremaining: 1.49s\n",
      "434:\tlearn: 0.3545284\ttotal: 1.15s\tremaining: 1.49s\n",
      "435:\tlearn: 0.3544021\ttotal: 1.15s\tremaining: 1.49s\n",
      "436:\tlearn: 0.3542812\ttotal: 1.15s\tremaining: 1.49s\n",
      "437:\tlearn: 0.3541113\ttotal: 1.16s\tremaining: 1.48s\n",
      "438:\tlearn: 0.3539685\ttotal: 1.16s\tremaining: 1.48s\n",
      "439:\tlearn: 0.3538242\ttotal: 1.16s\tremaining: 1.48s\n",
      "440:\tlearn: 0.3537059\ttotal: 1.16s\tremaining: 1.47s\n",
      "441:\tlearn: 0.3535720\ttotal: 1.16s\tremaining: 1.47s\n",
      "442:\tlearn: 0.3534688\ttotal: 1.17s\tremaining: 1.47s\n",
      "443:\tlearn: 0.3533179\ttotal: 1.17s\tremaining: 1.47s\n",
      "444:\tlearn: 0.3531112\ttotal: 1.17s\tremaining: 1.46s\n"
     ]
    },
    {
     "name": "stdout",
     "output_type": "stream",
     "text": [
      "445:\tlearn: 0.3529702\ttotal: 1.18s\tremaining: 1.46s\n",
      "446:\tlearn: 0.3528288\ttotal: 1.18s\tremaining: 1.46s\n",
      "447:\tlearn: 0.3525688\ttotal: 1.18s\tremaining: 1.45s\n",
      "448:\tlearn: 0.3524580\ttotal: 1.18s\tremaining: 1.45s\n",
      "449:\tlearn: 0.3523238\ttotal: 1.19s\tremaining: 1.45s\n",
      "450:\tlearn: 0.3521816\ttotal: 1.19s\tremaining: 1.45s\n",
      "451:\tlearn: 0.3518344\ttotal: 1.19s\tremaining: 1.44s\n",
      "452:\tlearn: 0.3516884\ttotal: 1.19s\tremaining: 1.44s\n",
      "453:\tlearn: 0.3515035\ttotal: 1.2s\tremaining: 1.44s\n",
      "454:\tlearn: 0.3513900\ttotal: 1.2s\tremaining: 1.44s\n",
      "455:\tlearn: 0.3512324\ttotal: 1.2s\tremaining: 1.43s\n",
      "456:\tlearn: 0.3511351\ttotal: 1.2s\tremaining: 1.43s\n",
      "457:\tlearn: 0.3509622\ttotal: 1.21s\tremaining: 1.43s\n",
      "458:\tlearn: 0.3508108\ttotal: 1.21s\tremaining: 1.43s\n",
      "459:\tlearn: 0.3506772\ttotal: 1.21s\tremaining: 1.42s\n",
      "460:\tlearn: 0.3505663\ttotal: 1.21s\tremaining: 1.42s\n",
      "461:\tlearn: 0.3504490\ttotal: 1.22s\tremaining: 1.42s\n",
      "462:\tlearn: 0.3503051\ttotal: 1.22s\tremaining: 1.41s\n",
      "463:\tlearn: 0.3501770\ttotal: 1.22s\tremaining: 1.41s\n",
      "464:\tlearn: 0.3500475\ttotal: 1.22s\tremaining: 1.41s\n",
      "465:\tlearn: 0.3499192\ttotal: 1.23s\tremaining: 1.4s\n",
      "466:\tlearn: 0.3497991\ttotal: 1.23s\tremaining: 1.4s\n",
      "467:\tlearn: 0.3496785\ttotal: 1.23s\tremaining: 1.4s\n",
      "468:\tlearn: 0.3494642\ttotal: 1.23s\tremaining: 1.4s\n",
      "469:\tlearn: 0.3493494\ttotal: 1.24s\tremaining: 1.39s\n",
      "470:\tlearn: 0.3491336\ttotal: 1.24s\tremaining: 1.39s\n",
      "471:\tlearn: 0.3489979\ttotal: 1.24s\tremaining: 1.39s\n",
      "472:\tlearn: 0.3487885\ttotal: 1.24s\tremaining: 1.39s\n",
      "473:\tlearn: 0.3486403\ttotal: 1.25s\tremaining: 1.38s\n",
      "474:\tlearn: 0.3485644\ttotal: 1.25s\tremaining: 1.38s\n",
      "475:\tlearn: 0.3484636\ttotal: 1.25s\tremaining: 1.38s\n",
      "476:\tlearn: 0.3482929\ttotal: 1.25s\tremaining: 1.37s\n",
      "477:\tlearn: 0.3481626\ttotal: 1.26s\tremaining: 1.37s\n",
      "478:\tlearn: 0.3480919\ttotal: 1.26s\tremaining: 1.37s\n",
      "479:\tlearn: 0.3477858\ttotal: 1.26s\tremaining: 1.37s\n",
      "480:\tlearn: 0.3476871\ttotal: 1.26s\tremaining: 1.36s\n",
      "481:\tlearn: 0.3475430\ttotal: 1.27s\tremaining: 1.36s\n"
     ]
    },
    {
     "name": "stdout",
     "output_type": "stream",
     "text": [
      "482:\tlearn: 0.3473818\ttotal: 1.27s\tremaining: 1.36s\n",
      "483:\tlearn: 0.3471938\ttotal: 1.27s\tremaining: 1.36s\n",
      "484:\tlearn: 0.3470726\ttotal: 1.27s\tremaining: 1.35s\n",
      "485:\tlearn: 0.3469576\ttotal: 1.28s\tremaining: 1.35s\n",
      "486:\tlearn: 0.3467906\ttotal: 1.28s\tremaining: 1.35s\n",
      "487:\tlearn: 0.3466959\ttotal: 1.28s\tremaining: 1.35s\n",
      "488:\tlearn: 0.3464971\ttotal: 1.29s\tremaining: 1.34s\n",
      "489:\tlearn: 0.3462538\ttotal: 1.29s\tremaining: 1.34s\n",
      "490:\tlearn: 0.3460351\ttotal: 1.29s\tremaining: 1.34s\n",
      "491:\tlearn: 0.3458582\ttotal: 1.29s\tremaining: 1.34s\n",
      "492:\tlearn: 0.3457247\ttotal: 1.3s\tremaining: 1.33s\n",
      "493:\tlearn: 0.3455653\ttotal: 1.3s\tremaining: 1.33s\n",
      "494:\tlearn: 0.3455019\ttotal: 1.3s\tremaining: 1.33s\n",
      "495:\tlearn: 0.3454124\ttotal: 1.3s\tremaining: 1.33s\n",
      "496:\tlearn: 0.3452870\ttotal: 1.31s\tremaining: 1.32s\n",
      "497:\tlearn: 0.3451827\ttotal: 1.31s\tremaining: 1.32s\n",
      "498:\tlearn: 0.3450028\ttotal: 1.31s\tremaining: 1.32s\n",
      "499:\tlearn: 0.3448679\ttotal: 1.32s\tremaining: 1.32s\n",
      "500:\tlearn: 0.3446985\ttotal: 1.32s\tremaining: 1.31s\n",
      "501:\tlearn: 0.3446012\ttotal: 1.32s\tremaining: 1.31s\n",
      "502:\tlearn: 0.3444503\ttotal: 1.32s\tremaining: 1.31s\n",
      "503:\tlearn: 0.3443638\ttotal: 1.33s\tremaining: 1.31s\n",
      "504:\tlearn: 0.3442761\ttotal: 1.33s\tremaining: 1.3s\n",
      "505:\tlearn: 0.3441783\ttotal: 1.33s\tremaining: 1.3s\n",
      "506:\tlearn: 0.3440473\ttotal: 1.33s\tremaining: 1.3s\n",
      "507:\tlearn: 0.3438797\ttotal: 1.34s\tremaining: 1.29s\n",
      "508:\tlearn: 0.3437536\ttotal: 1.34s\tremaining: 1.29s\n",
      "509:\tlearn: 0.3436071\ttotal: 1.34s\tremaining: 1.29s\n",
      "510:\tlearn: 0.3435011\ttotal: 1.34s\tremaining: 1.29s\n"
     ]
    },
    {
     "name": "stdout",
     "output_type": "stream",
     "text": [
      "511:\tlearn: 0.3433406\ttotal: 1.35s\tremaining: 1.28s\n",
      "512:\tlearn: 0.3431839\ttotal: 1.35s\tremaining: 1.28s\n",
      "513:\tlearn: 0.3429620\ttotal: 1.35s\tremaining: 1.28s\n",
      "514:\tlearn: 0.3428707\ttotal: 1.35s\tremaining: 1.28s\n",
      "515:\tlearn: 0.3428329\ttotal: 1.36s\tremaining: 1.27s\n",
      "516:\tlearn: 0.3427460\ttotal: 1.36s\tremaining: 1.27s\n",
      "517:\tlearn: 0.3426578\ttotal: 1.36s\tremaining: 1.27s\n",
      "518:\tlearn: 0.3425229\ttotal: 1.36s\tremaining: 1.26s\n",
      "519:\tlearn: 0.3423250\ttotal: 1.37s\tremaining: 1.26s\n",
      "520:\tlearn: 0.3421818\ttotal: 1.37s\tremaining: 1.26s\n",
      "521:\tlearn: 0.3421036\ttotal: 1.37s\tremaining: 1.26s\n",
      "522:\tlearn: 0.3419436\ttotal: 1.38s\tremaining: 1.25s\n",
      "523:\tlearn: 0.3418054\ttotal: 1.38s\tremaining: 1.25s\n",
      "524:\tlearn: 0.3416637\ttotal: 1.38s\tremaining: 1.25s\n",
      "525:\tlearn: 0.3415808\ttotal: 1.38s\tremaining: 1.25s\n",
      "526:\tlearn: 0.3414397\ttotal: 1.39s\tremaining: 1.24s\n",
      "527:\tlearn: 0.3413510\ttotal: 1.39s\tremaining: 1.24s\n",
      "528:\tlearn: 0.3411279\ttotal: 1.39s\tremaining: 1.24s\n",
      "529:\tlearn: 0.3409953\ttotal: 1.39s\tremaining: 1.24s\n",
      "530:\tlearn: 0.3408506\ttotal: 1.4s\tremaining: 1.23s\n",
      "531:\tlearn: 0.3406858\ttotal: 1.4s\tremaining: 1.23s\n",
      "532:\tlearn: 0.3406163\ttotal: 1.4s\tremaining: 1.23s\n",
      "533:\tlearn: 0.3404944\ttotal: 1.4s\tremaining: 1.22s\n",
      "534:\tlearn: 0.3403969\ttotal: 1.41s\tremaining: 1.22s\n",
      "535:\tlearn: 0.3402604\ttotal: 1.41s\tremaining: 1.22s\n",
      "536:\tlearn: 0.3401683\ttotal: 1.41s\tremaining: 1.22s\n",
      "537:\tlearn: 0.3400792\ttotal: 1.41s\tremaining: 1.21s\n",
      "538:\tlearn: 0.3399367\ttotal: 1.41s\tremaining: 1.21s\n",
      "539:\tlearn: 0.3398174\ttotal: 1.42s\tremaining: 1.21s\n",
      "540:\tlearn: 0.3397138\ttotal: 1.42s\tremaining: 1.2s\n",
      "541:\tlearn: 0.3395916\ttotal: 1.42s\tremaining: 1.2s\n",
      "542:\tlearn: 0.3394089\ttotal: 1.43s\tremaining: 1.2s\n",
      "543:\tlearn: 0.3393158\ttotal: 1.43s\tremaining: 1.2s\n",
      "544:\tlearn: 0.3392087\ttotal: 1.43s\tremaining: 1.19s\n",
      "545:\tlearn: 0.3389957\ttotal: 1.43s\tremaining: 1.19s\n",
      "546:\tlearn: 0.3388219\ttotal: 1.43s\tremaining: 1.19s\n",
      "547:\tlearn: 0.3385999\ttotal: 1.44s\tremaining: 1.18s\n",
      "548:\tlearn: 0.3384650\ttotal: 1.44s\tremaining: 1.18s\n",
      "549:\tlearn: 0.3382778\ttotal: 1.44s\tremaining: 1.18s\n",
      "550:\tlearn: 0.3381686\ttotal: 1.44s\tremaining: 1.18s\n",
      "551:\tlearn: 0.3379489\ttotal: 1.45s\tremaining: 1.17s\n"
     ]
    },
    {
     "name": "stdout",
     "output_type": "stream",
     "text": [
      "552:\tlearn: 0.3378166\ttotal: 1.45s\tremaining: 1.17s\n",
      "553:\tlearn: 0.3376537\ttotal: 1.45s\tremaining: 1.17s\n",
      "554:\tlearn: 0.3375025\ttotal: 1.45s\tremaining: 1.17s\n",
      "555:\tlearn: 0.3374190\ttotal: 1.46s\tremaining: 1.16s\n",
      "556:\tlearn: 0.3373416\ttotal: 1.46s\tremaining: 1.16s\n",
      "557:\tlearn: 0.3372442\ttotal: 1.46s\tremaining: 1.16s\n",
      "558:\tlearn: 0.3371430\ttotal: 1.46s\tremaining: 1.15s\n",
      "559:\tlearn: 0.3370664\ttotal: 1.47s\tremaining: 1.15s\n",
      "560:\tlearn: 0.3369257\ttotal: 1.47s\tremaining: 1.15s\n",
      "561:\tlearn: 0.3367888\ttotal: 1.47s\tremaining: 1.15s\n",
      "562:\tlearn: 0.3366179\ttotal: 1.47s\tremaining: 1.14s\n",
      "563:\tlearn: 0.3365477\ttotal: 1.48s\tremaining: 1.14s\n",
      "564:\tlearn: 0.3364007\ttotal: 1.48s\tremaining: 1.14s\n",
      "565:\tlearn: 0.3363044\ttotal: 1.48s\tremaining: 1.14s\n",
      "566:\tlearn: 0.3362292\ttotal: 1.48s\tremaining: 1.13s\n",
      "567:\tlearn: 0.3361398\ttotal: 1.49s\tremaining: 1.13s\n",
      "568:\tlearn: 0.3359778\ttotal: 1.49s\tremaining: 1.13s\n",
      "569:\tlearn: 0.3358147\ttotal: 1.49s\tremaining: 1.12s\n",
      "570:\tlearn: 0.3357082\ttotal: 1.49s\tremaining: 1.12s\n",
      "571:\tlearn: 0.3355862\ttotal: 1.5s\tremaining: 1.12s\n",
      "572:\tlearn: 0.3354546\ttotal: 1.5s\tremaining: 1.12s\n",
      "573:\tlearn: 0.3353264\ttotal: 1.5s\tremaining: 1.11s\n",
      "574:\tlearn: 0.3351804\ttotal: 1.5s\tremaining: 1.11s\n",
      "575:\tlearn: 0.3350280\ttotal: 1.51s\tremaining: 1.11s\n",
      "576:\tlearn: 0.3348818\ttotal: 1.51s\tremaining: 1.1s\n",
      "577:\tlearn: 0.3347302\ttotal: 1.51s\tremaining: 1.1s\n",
      "578:\tlearn: 0.3345665\ttotal: 1.51s\tremaining: 1.1s\n",
      "579:\tlearn: 0.3345100\ttotal: 1.52s\tremaining: 1.1s\n",
      "580:\tlearn: 0.3343741\ttotal: 1.52s\tremaining: 1.09s\n",
      "581:\tlearn: 0.3342538\ttotal: 1.52s\tremaining: 1.09s\n",
      "582:\tlearn: 0.3340949\ttotal: 1.52s\tremaining: 1.09s\n",
      "583:\tlearn: 0.3339027\ttotal: 1.52s\tremaining: 1.09s\n",
      "584:\tlearn: 0.3338029\ttotal: 1.53s\tremaining: 1.08s\n",
      "585:\tlearn: 0.3337357\ttotal: 1.53s\tremaining: 1.08s\n",
      "586:\tlearn: 0.3335716\ttotal: 1.53s\tremaining: 1.08s\n",
      "587:\tlearn: 0.3333395\ttotal: 1.53s\tremaining: 1.08s\n",
      "588:\tlearn: 0.3332655\ttotal: 1.54s\tremaining: 1.07s\n",
      "589:\tlearn: 0.3330805\ttotal: 1.54s\tremaining: 1.07s\n",
      "590:\tlearn: 0.3329663\ttotal: 1.54s\tremaining: 1.07s\n"
     ]
    },
    {
     "name": "stdout",
     "output_type": "stream",
     "text": [
      "591:\tlearn: 0.3328452\ttotal: 1.54s\tremaining: 1.06s\n",
      "592:\tlearn: 0.3327627\ttotal: 1.55s\tremaining: 1.06s\n",
      "593:\tlearn: 0.3326710\ttotal: 1.55s\tremaining: 1.06s\n",
      "594:\tlearn: 0.3326210\ttotal: 1.55s\tremaining: 1.06s\n",
      "595:\tlearn: 0.3325243\ttotal: 1.55s\tremaining: 1.05s\n",
      "596:\tlearn: 0.3324549\ttotal: 1.56s\tremaining: 1.05s\n",
      "597:\tlearn: 0.3323467\ttotal: 1.56s\tremaining: 1.05s\n",
      "598:\tlearn: 0.3321322\ttotal: 1.56s\tremaining: 1.05s\n",
      "599:\tlearn: 0.3320433\ttotal: 1.56s\tremaining: 1.04s\n",
      "600:\tlearn: 0.3319443\ttotal: 1.57s\tremaining: 1.04s\n",
      "601:\tlearn: 0.3318654\ttotal: 1.57s\tremaining: 1.04s\n",
      "602:\tlearn: 0.3317403\ttotal: 1.57s\tremaining: 1.03s\n",
      "603:\tlearn: 0.3316713\ttotal: 1.57s\tremaining: 1.03s\n",
      "604:\tlearn: 0.3315080\ttotal: 1.58s\tremaining: 1.03s\n",
      "605:\tlearn: 0.3313663\ttotal: 1.58s\tremaining: 1.03s\n",
      "606:\tlearn: 0.3312254\ttotal: 1.58s\tremaining: 1.02s\n",
      "607:\tlearn: 0.3311158\ttotal: 1.58s\tremaining: 1.02s\n",
      "608:\tlearn: 0.3310303\ttotal: 1.59s\tremaining: 1.02s\n",
      "609:\tlearn: 0.3309349\ttotal: 1.59s\tremaining: 1.02s\n",
      "610:\tlearn: 0.3308069\ttotal: 1.59s\tremaining: 1.01s\n",
      "611:\tlearn: 0.3307019\ttotal: 1.59s\tremaining: 1.01s\n",
      "612:\tlearn: 0.3305867\ttotal: 1.6s\tremaining: 1.01s\n",
      "613:\tlearn: 0.3304869\ttotal: 1.6s\tremaining: 1s\n",
      "614:\tlearn: 0.3303536\ttotal: 1.6s\tremaining: 1s\n",
      "615:\tlearn: 0.3302552\ttotal: 1.6s\tremaining: 1s\n",
      "616:\tlearn: 0.3300790\ttotal: 1.61s\tremaining: 998ms\n",
      "617:\tlearn: 0.3299879\ttotal: 1.61s\tremaining: 995ms\n",
      "618:\tlearn: 0.3298999\ttotal: 1.61s\tremaining: 992ms\n",
      "619:\tlearn: 0.3297678\ttotal: 1.61s\tremaining: 990ms\n",
      "620:\tlearn: 0.3296587\ttotal: 1.62s\tremaining: 987ms\n",
      "621:\tlearn: 0.3295753\ttotal: 1.62s\tremaining: 984ms\n",
      "622:\tlearn: 0.3294402\ttotal: 1.62s\tremaining: 982ms\n",
      "623:\tlearn: 0.3293242\ttotal: 1.62s\tremaining: 979ms\n",
      "624:\tlearn: 0.3292015\ttotal: 1.63s\tremaining: 976ms\n",
      "625:\tlearn: 0.3290953\ttotal: 1.63s\tremaining: 974ms\n",
      "626:\tlearn: 0.3290341\ttotal: 1.63s\tremaining: 971ms\n",
      "627:\tlearn: 0.3289595\ttotal: 1.64s\tremaining: 969ms\n",
      "628:\tlearn: 0.3288946\ttotal: 1.64s\tremaining: 966ms\n",
      "629:\tlearn: 0.3288492\ttotal: 1.64s\tremaining: 964ms\n",
      "630:\tlearn: 0.3287422\ttotal: 1.64s\tremaining: 961ms\n"
     ]
    },
    {
     "name": "stdout",
     "output_type": "stream",
     "text": [
      "631:\tlearn: 0.3286695\ttotal: 1.65s\tremaining: 958ms\n",
      "632:\tlearn: 0.3285552\ttotal: 1.65s\tremaining: 956ms\n",
      "633:\tlearn: 0.3284904\ttotal: 1.65s\tremaining: 953ms\n",
      "634:\tlearn: 0.3284238\ttotal: 1.65s\tremaining: 951ms\n",
      "635:\tlearn: 0.3282083\ttotal: 1.66s\tremaining: 948ms\n",
      "636:\tlearn: 0.3280886\ttotal: 1.66s\tremaining: 946ms\n",
      "637:\tlearn: 0.3279744\ttotal: 1.66s\tremaining: 943ms\n",
      "638:\tlearn: 0.3278736\ttotal: 1.66s\tremaining: 940ms\n",
      "639:\tlearn: 0.3277574\ttotal: 1.67s\tremaining: 938ms\n",
      "640:\tlearn: 0.3276600\ttotal: 1.67s\tremaining: 935ms\n",
      "641:\tlearn: 0.3275134\ttotal: 1.67s\tremaining: 933ms\n",
      "642:\tlearn: 0.3274024\ttotal: 1.68s\tremaining: 930ms\n",
      "643:\tlearn: 0.3272747\ttotal: 1.68s\tremaining: 927ms\n",
      "644:\tlearn: 0.3271524\ttotal: 1.68s\tremaining: 925ms\n",
      "645:\tlearn: 0.3270610\ttotal: 1.68s\tremaining: 922ms\n",
      "646:\tlearn: 0.3269243\ttotal: 1.69s\tremaining: 919ms\n",
      "647:\tlearn: 0.3267967\ttotal: 1.69s\tremaining: 917ms\n",
      "648:\tlearn: 0.3267058\ttotal: 1.69s\tremaining: 914ms\n",
      "649:\tlearn: 0.3264885\ttotal: 1.69s\tremaining: 911ms\n",
      "650:\tlearn: 0.3263844\ttotal: 1.69s\tremaining: 909ms\n",
      "651:\tlearn: 0.3263025\ttotal: 1.7s\tremaining: 906ms\n",
      "652:\tlearn: 0.3261679\ttotal: 1.7s\tremaining: 904ms\n",
      "653:\tlearn: 0.3260365\ttotal: 1.7s\tremaining: 901ms\n",
      "654:\tlearn: 0.3258969\ttotal: 1.71s\tremaining: 898ms\n",
      "655:\tlearn: 0.3258062\ttotal: 1.71s\tremaining: 896ms\n",
      "656:\tlearn: 0.3257050\ttotal: 1.71s\tremaining: 893ms\n",
      "657:\tlearn: 0.3255905\ttotal: 1.71s\tremaining: 890ms\n",
      "658:\tlearn: 0.3255121\ttotal: 1.72s\tremaining: 888ms\n",
      "659:\tlearn: 0.3254147\ttotal: 1.72s\tremaining: 885ms\n",
      "660:\tlearn: 0.3253023\ttotal: 1.72s\tremaining: 882ms\n",
      "661:\tlearn: 0.3252044\ttotal: 1.72s\tremaining: 880ms\n",
      "662:\tlearn: 0.3251237\ttotal: 1.73s\tremaining: 877ms\n",
      "663:\tlearn: 0.3250283\ttotal: 1.73s\tremaining: 874ms\n",
      "664:\tlearn: 0.3248609\ttotal: 1.73s\tremaining: 872ms\n",
      "665:\tlearn: 0.3246849\ttotal: 1.73s\tremaining: 869ms\n",
      "666:\tlearn: 0.3246166\ttotal: 1.74s\tremaining: 866ms\n",
      "667:\tlearn: 0.3244635\ttotal: 1.74s\tremaining: 864ms\n"
     ]
    },
    {
     "name": "stdout",
     "output_type": "stream",
     "text": [
      "668:\tlearn: 0.3244093\ttotal: 1.74s\tremaining: 861ms\n",
      "669:\tlearn: 0.3242952\ttotal: 1.74s\tremaining: 859ms\n",
      "670:\tlearn: 0.3241920\ttotal: 1.75s\tremaining: 856ms\n",
      "671:\tlearn: 0.3240978\ttotal: 1.75s\tremaining: 853ms\n",
      "672:\tlearn: 0.3239621\ttotal: 1.75s\tremaining: 850ms\n",
      "673:\tlearn: 0.3238935\ttotal: 1.75s\tremaining: 848ms\n",
      "674:\tlearn: 0.3237588\ttotal: 1.75s\tremaining: 845ms\n",
      "675:\tlearn: 0.3236167\ttotal: 1.76s\tremaining: 842ms\n",
      "676:\tlearn: 0.3234912\ttotal: 1.76s\tremaining: 840ms\n",
      "677:\tlearn: 0.3233964\ttotal: 1.76s\tremaining: 837ms\n",
      "678:\tlearn: 0.3232766\ttotal: 1.76s\tremaining: 834ms\n",
      "679:\tlearn: 0.3231674\ttotal: 1.77s\tremaining: 832ms\n",
      "680:\tlearn: 0.3230843\ttotal: 1.77s\tremaining: 829ms\n",
      "681:\tlearn: 0.3230214\ttotal: 1.77s\tremaining: 826ms\n",
      "682:\tlearn: 0.3228906\ttotal: 1.77s\tremaining: 824ms\n",
      "683:\tlearn: 0.3227950\ttotal: 1.78s\tremaining: 821ms\n",
      "684:\tlearn: 0.3227247\ttotal: 1.78s\tremaining: 818ms\n",
      "685:\tlearn: 0.3226790\ttotal: 1.78s\tremaining: 816ms\n",
      "686:\tlearn: 0.3225737\ttotal: 1.78s\tremaining: 813ms\n",
      "687:\tlearn: 0.3225099\ttotal: 1.79s\tremaining: 810ms\n",
      "688:\tlearn: 0.3224436\ttotal: 1.79s\tremaining: 808ms\n",
      "689:\tlearn: 0.3223268\ttotal: 1.79s\tremaining: 805ms\n",
      "690:\tlearn: 0.3222509\ttotal: 1.79s\tremaining: 802ms\n",
      "691:\tlearn: 0.3221614\ttotal: 1.8s\tremaining: 800ms\n",
      "692:\tlearn: 0.3220152\ttotal: 1.8s\tremaining: 797ms\n",
      "693:\tlearn: 0.3219200\ttotal: 1.8s\tremaining: 795ms\n",
      "694:\tlearn: 0.3217955\ttotal: 1.8s\tremaining: 792ms\n",
      "695:\tlearn: 0.3216070\ttotal: 1.81s\tremaining: 789ms\n",
      "696:\tlearn: 0.3214952\ttotal: 1.81s\tremaining: 786ms\n",
      "697:\tlearn: 0.3213577\ttotal: 1.81s\tremaining: 784ms\n",
      "698:\tlearn: 0.3212412\ttotal: 1.81s\tremaining: 781ms\n",
      "699:\tlearn: 0.3210736\ttotal: 1.82s\tremaining: 779ms\n",
      "700:\tlearn: 0.3210119\ttotal: 1.82s\tremaining: 776ms\n",
      "701:\tlearn: 0.3208999\ttotal: 1.82s\tremaining: 773ms\n",
      "702:\tlearn: 0.3208085\ttotal: 1.82s\tremaining: 771ms\n",
      "703:\tlearn: 0.3207363\ttotal: 1.83s\tremaining: 768ms\n",
      "704:\tlearn: 0.3206677\ttotal: 1.83s\tremaining: 765ms\n",
      "705:\tlearn: 0.3205814\ttotal: 1.83s\tremaining: 763ms\n",
      "706:\tlearn: 0.3203704\ttotal: 1.83s\tremaining: 760ms\n",
      "707:\tlearn: 0.3202581\ttotal: 1.84s\tremaining: 757ms\n",
      "708:\tlearn: 0.3201761\ttotal: 1.84s\tremaining: 755ms\n"
     ]
    },
    {
     "name": "stdout",
     "output_type": "stream",
     "text": [
      "709:\tlearn: 0.3200795\ttotal: 1.84s\tremaining: 753ms\n",
      "710:\tlearn: 0.3199874\ttotal: 1.84s\tremaining: 750ms\n",
      "711:\tlearn: 0.3199172\ttotal: 1.85s\tremaining: 748ms\n",
      "712:\tlearn: 0.3198454\ttotal: 1.85s\tremaining: 745ms\n",
      "713:\tlearn: 0.3197813\ttotal: 1.85s\tremaining: 742ms\n",
      "714:\tlearn: 0.3196826\ttotal: 1.85s\tremaining: 740ms\n",
      "715:\tlearn: 0.3195653\ttotal: 1.86s\tremaining: 737ms\n",
      "716:\tlearn: 0.3194315\ttotal: 1.86s\tremaining: 734ms\n",
      "717:\tlearn: 0.3193164\ttotal: 1.86s\tremaining: 732ms\n",
      "718:\tlearn: 0.3192191\ttotal: 1.86s\tremaining: 729ms\n",
      "719:\tlearn: 0.3191134\ttotal: 1.87s\tremaining: 726ms\n",
      "720:\tlearn: 0.3190584\ttotal: 1.87s\tremaining: 724ms\n",
      "721:\tlearn: 0.3189889\ttotal: 1.87s\tremaining: 721ms\n",
      "722:\tlearn: 0.3188521\ttotal: 1.88s\tremaining: 719ms\n",
      "723:\tlearn: 0.3187426\ttotal: 1.88s\tremaining: 716ms\n",
      "724:\tlearn: 0.3186067\ttotal: 1.88s\tremaining: 713ms\n",
      "725:\tlearn: 0.3184862\ttotal: 1.88s\tremaining: 710ms\n",
      "726:\tlearn: 0.3184027\ttotal: 1.89s\tremaining: 708ms\n",
      "727:\tlearn: 0.3182943\ttotal: 1.89s\tremaining: 705ms\n",
      "728:\tlearn: 0.3181798\ttotal: 1.89s\tremaining: 702ms\n",
      "729:\tlearn: 0.3181105\ttotal: 1.89s\tremaining: 700ms\n",
      "730:\tlearn: 0.3179978\ttotal: 1.89s\tremaining: 697ms\n",
      "731:\tlearn: 0.3179192\ttotal: 1.9s\tremaining: 695ms\n",
      "732:\tlearn: 0.3178407\ttotal: 1.9s\tremaining: 692ms\n",
      "733:\tlearn: 0.3177452\ttotal: 1.9s\tremaining: 689ms\n",
      "734:\tlearn: 0.3176123\ttotal: 1.9s\tremaining: 686ms\n",
      "735:\tlearn: 0.3175262\ttotal: 1.91s\tremaining: 684ms\n",
      "736:\tlearn: 0.3174569\ttotal: 1.91s\tremaining: 681ms\n",
      "737:\tlearn: 0.3173981\ttotal: 1.91s\tremaining: 679ms\n",
      "738:\tlearn: 0.3173142\ttotal: 1.91s\tremaining: 676ms\n",
      "739:\tlearn: 0.3172635\ttotal: 1.92s\tremaining: 673ms\n",
      "740:\tlearn: 0.3172028\ttotal: 1.92s\tremaining: 671ms\n",
      "741:\tlearn: 0.3171337\ttotal: 1.92s\tremaining: 668ms\n",
      "742:\tlearn: 0.3170266\ttotal: 1.92s\tremaining: 665ms\n",
      "743:\tlearn: 0.3169196\ttotal: 1.93s\tremaining: 663ms\n",
      "744:\tlearn: 0.3168230\ttotal: 1.93s\tremaining: 660ms\n",
      "745:\tlearn: 0.3167243\ttotal: 1.93s\tremaining: 657ms\n",
      "746:\tlearn: 0.3166443\ttotal: 1.93s\tremaining: 655ms\n"
     ]
    },
    {
     "name": "stdout",
     "output_type": "stream",
     "text": [
      "747:\tlearn: 0.3165551\ttotal: 1.94s\tremaining: 652ms\n",
      "748:\tlearn: 0.3164620\ttotal: 1.94s\tremaining: 649ms\n",
      "749:\tlearn: 0.3164169\ttotal: 1.94s\tremaining: 647ms\n",
      "750:\tlearn: 0.3163069\ttotal: 1.94s\tremaining: 644ms\n",
      "751:\tlearn: 0.3161680\ttotal: 1.95s\tremaining: 641ms\n",
      "752:\tlearn: 0.3160650\ttotal: 1.95s\tremaining: 639ms\n",
      "753:\tlearn: 0.3159282\ttotal: 1.95s\tremaining: 636ms\n",
      "754:\tlearn: 0.3158370\ttotal: 1.95s\tremaining: 634ms\n",
      "755:\tlearn: 0.3155920\ttotal: 1.96s\tremaining: 631ms\n",
      "756:\tlearn: 0.3154889\ttotal: 1.96s\tremaining: 628ms\n",
      "757:\tlearn: 0.3154132\ttotal: 1.96s\tremaining: 626ms\n",
      "758:\tlearn: 0.3152757\ttotal: 1.96s\tremaining: 623ms\n",
      "759:\tlearn: 0.3152107\ttotal: 1.96s\tremaining: 620ms\n",
      "760:\tlearn: 0.3151422\ttotal: 1.97s\tremaining: 618ms\n",
      "761:\tlearn: 0.3150218\ttotal: 1.97s\tremaining: 615ms\n",
      "762:\tlearn: 0.3149041\ttotal: 1.97s\tremaining: 613ms\n",
      "763:\tlearn: 0.3148401\ttotal: 1.97s\tremaining: 610ms\n",
      "764:\tlearn: 0.3147555\ttotal: 1.98s\tremaining: 607ms\n",
      "765:\tlearn: 0.3146372\ttotal: 1.98s\tremaining: 605ms\n",
      "766:\tlearn: 0.3145479\ttotal: 1.98s\tremaining: 602ms\n",
      "767:\tlearn: 0.3144563\ttotal: 1.98s\tremaining: 600ms\n",
      "768:\tlearn: 0.3144076\ttotal: 1.99s\tremaining: 597ms\n",
      "769:\tlearn: 0.3142869\ttotal: 1.99s\tremaining: 594ms\n",
      "770:\tlearn: 0.3141991\ttotal: 1.99s\tremaining: 591ms\n",
      "771:\tlearn: 0.3141445\ttotal: 1.99s\tremaining: 589ms\n",
      "772:\tlearn: 0.3140420\ttotal: 2s\tremaining: 586ms\n",
      "773:\tlearn: 0.3139480\ttotal: 2s\tremaining: 584ms\n",
      "774:\tlearn: 0.3138481\ttotal: 2s\tremaining: 581ms\n",
      "775:\tlearn: 0.3137888\ttotal: 2s\tremaining: 578ms\n",
      "776:\tlearn: 0.3137001\ttotal: 2s\tremaining: 575ms\n",
      "777:\tlearn: 0.3136267\ttotal: 2.01s\tremaining: 573ms\n",
      "778:\tlearn: 0.3135472\ttotal: 2.01s\tremaining: 570ms\n",
      "779:\tlearn: 0.3134008\ttotal: 2.01s\tremaining: 568ms\n",
      "780:\tlearn: 0.3133301\ttotal: 2.01s\tremaining: 565ms\n",
      "781:\tlearn: 0.3132383\ttotal: 2.02s\tremaining: 562ms\n",
      "782:\tlearn: 0.3131585\ttotal: 2.02s\tremaining: 560ms\n",
      "783:\tlearn: 0.3130710\ttotal: 2.02s\tremaining: 557ms\n",
      "784:\tlearn: 0.3130099\ttotal: 2.02s\tremaining: 554ms\n",
      "785:\tlearn: 0.3129341\ttotal: 2.02s\tremaining: 551ms\n",
      "786:\tlearn: 0.3128811\ttotal: 2.03s\tremaining: 549ms\n",
      "787:\tlearn: 0.3126781\ttotal: 2.03s\tremaining: 546ms\n",
      "788:\tlearn: 0.3126090\ttotal: 2.03s\tremaining: 544ms\n",
      "789:\tlearn: 0.3125424\ttotal: 2.04s\tremaining: 541ms\n"
     ]
    },
    {
     "name": "stdout",
     "output_type": "stream",
     "text": [
      "790:\tlearn: 0.3124352\ttotal: 2.04s\tremaining: 538ms\n",
      "791:\tlearn: 0.3123622\ttotal: 2.04s\tremaining: 536ms\n",
      "792:\tlearn: 0.3123194\ttotal: 2.04s\tremaining: 533ms\n",
      "793:\tlearn: 0.3122131\ttotal: 2.04s\tremaining: 531ms\n",
      "794:\tlearn: 0.3121133\ttotal: 2.05s\tremaining: 528ms\n",
      "795:\tlearn: 0.3120041\ttotal: 2.05s\tremaining: 525ms\n",
      "796:\tlearn: 0.3118910\ttotal: 2.05s\tremaining: 523ms\n",
      "797:\tlearn: 0.3118279\ttotal: 2.05s\tremaining: 520ms\n",
      "798:\tlearn: 0.3117710\ttotal: 2.06s\tremaining: 518ms\n",
      "799:\tlearn: 0.3117065\ttotal: 2.06s\tremaining: 515ms\n",
      "800:\tlearn: 0.3116421\ttotal: 2.06s\tremaining: 512ms\n",
      "801:\tlearn: 0.3115843\ttotal: 2.06s\tremaining: 510ms\n",
      "802:\tlearn: 0.3115254\ttotal: 2.07s\tremaining: 507ms\n",
      "803:\tlearn: 0.3114255\ttotal: 2.07s\tremaining: 505ms\n",
      "804:\tlearn: 0.3112759\ttotal: 2.07s\tremaining: 502ms\n",
      "805:\tlearn: 0.3111591\ttotal: 2.07s\tremaining: 499ms\n",
      "806:\tlearn: 0.3110377\ttotal: 2.08s\tremaining: 497ms\n",
      "807:\tlearn: 0.3109733\ttotal: 2.08s\tremaining: 494ms\n",
      "808:\tlearn: 0.3108815\ttotal: 2.08s\tremaining: 492ms\n",
      "809:\tlearn: 0.3107497\ttotal: 2.08s\tremaining: 489ms\n",
      "810:\tlearn: 0.3106863\ttotal: 2.09s\tremaining: 486ms\n",
      "811:\tlearn: 0.3105942\ttotal: 2.09s\tremaining: 484ms\n",
      "812:\tlearn: 0.3104838\ttotal: 2.09s\tremaining: 481ms\n",
      "813:\tlearn: 0.3103821\ttotal: 2.09s\tremaining: 479ms\n",
      "814:\tlearn: 0.3103154\ttotal: 2.1s\tremaining: 476ms\n",
      "815:\tlearn: 0.3102669\ttotal: 2.1s\tremaining: 473ms\n",
      "816:\tlearn: 0.3101579\ttotal: 2.1s\tremaining: 471ms\n",
      "817:\tlearn: 0.3100837\ttotal: 2.1s\tremaining: 468ms\n",
      "818:\tlearn: 0.3099968\ttotal: 2.11s\tremaining: 466ms\n",
      "819:\tlearn: 0.3099438\ttotal: 2.11s\tremaining: 463ms\n",
      "820:\tlearn: 0.3098865\ttotal: 2.11s\tremaining: 460ms\n",
      "821:\tlearn: 0.3098188\ttotal: 2.11s\tremaining: 458ms\n",
      "822:\tlearn: 0.3097317\ttotal: 2.12s\tremaining: 455ms\n",
      "823:\tlearn: 0.3096269\ttotal: 2.12s\tremaining: 453ms\n",
      "824:\tlearn: 0.3095423\ttotal: 2.12s\tremaining: 450ms\n",
      "825:\tlearn: 0.3095023\ttotal: 2.12s\tremaining: 448ms\n",
      "826:\tlearn: 0.3094171\ttotal: 2.13s\tremaining: 445ms\n",
      "827:\tlearn: 0.3092679\ttotal: 2.13s\tremaining: 442ms\n"
     ]
    },
    {
     "name": "stdout",
     "output_type": "stream",
     "text": [
      "828:\tlearn: 0.3092164\ttotal: 2.13s\tremaining: 440ms\n",
      "829:\tlearn: 0.3090856\ttotal: 2.13s\tremaining: 437ms\n",
      "830:\tlearn: 0.3090492\ttotal: 2.14s\tremaining: 434ms\n",
      "831:\tlearn: 0.3089769\ttotal: 2.14s\tremaining: 432ms\n",
      "832:\tlearn: 0.3089208\ttotal: 2.14s\tremaining: 429ms\n",
      "833:\tlearn: 0.3088329\ttotal: 2.14s\tremaining: 427ms\n",
      "834:\tlearn: 0.3087553\ttotal: 2.15s\tremaining: 424ms\n",
      "835:\tlearn: 0.3086965\ttotal: 2.15s\tremaining: 421ms\n",
      "836:\tlearn: 0.3086248\ttotal: 2.15s\tremaining: 419ms\n",
      "837:\tlearn: 0.3085408\ttotal: 2.15s\tremaining: 417ms\n",
      "838:\tlearn: 0.3084715\ttotal: 2.16s\tremaining: 414ms\n",
      "839:\tlearn: 0.3083995\ttotal: 2.16s\tremaining: 411ms\n",
      "840:\tlearn: 0.3083394\ttotal: 2.16s\tremaining: 409ms\n",
      "841:\tlearn: 0.3082815\ttotal: 2.16s\tremaining: 406ms\n",
      "842:\tlearn: 0.3082229\ttotal: 2.17s\tremaining: 404ms\n",
      "843:\tlearn: 0.3081459\ttotal: 2.17s\tremaining: 401ms\n",
      "844:\tlearn: 0.3080545\ttotal: 2.17s\tremaining: 399ms\n",
      "845:\tlearn: 0.3079579\ttotal: 2.17s\tremaining: 396ms\n",
      "846:\tlearn: 0.3078963\ttotal: 2.18s\tremaining: 393ms\n",
      "847:\tlearn: 0.3078146\ttotal: 2.18s\tremaining: 391ms\n",
      "848:\tlearn: 0.3077321\ttotal: 2.18s\tremaining: 388ms\n",
      "849:\tlearn: 0.3076971\ttotal: 2.19s\tremaining: 386ms\n",
      "850:\tlearn: 0.3076027\ttotal: 2.19s\tremaining: 383ms\n",
      "851:\tlearn: 0.3075107\ttotal: 2.19s\tremaining: 380ms\n",
      "852:\tlearn: 0.3074611\ttotal: 2.19s\tremaining: 378ms\n",
      "853:\tlearn: 0.3073649\ttotal: 2.19s\tremaining: 375ms\n",
      "854:\tlearn: 0.3073048\ttotal: 2.2s\tremaining: 373ms\n",
      "855:\tlearn: 0.3072089\ttotal: 2.2s\tremaining: 370ms\n",
      "856:\tlearn: 0.3071130\ttotal: 2.2s\tremaining: 368ms\n",
      "857:\tlearn: 0.3070162\ttotal: 2.21s\tremaining: 365ms\n",
      "858:\tlearn: 0.3068737\ttotal: 2.21s\tremaining: 362ms\n",
      "859:\tlearn: 0.3068044\ttotal: 2.21s\tremaining: 360ms\n",
      "860:\tlearn: 0.3067525\ttotal: 2.21s\tremaining: 357ms\n",
      "861:\tlearn: 0.3066753\ttotal: 2.21s\tremaining: 355ms\n",
      "862:\tlearn: 0.3066201\ttotal: 2.22s\tremaining: 352ms\n",
      "863:\tlearn: 0.3065150\ttotal: 2.22s\tremaining: 350ms\n",
      "864:\tlearn: 0.3064546\ttotal: 2.22s\tremaining: 347ms\n",
      "865:\tlearn: 0.3063166\ttotal: 2.23s\tremaining: 344ms\n",
      "866:\tlearn: 0.3062373\ttotal: 2.23s\tremaining: 342ms\n",
      "867:\tlearn: 0.3061824\ttotal: 2.23s\tremaining: 339ms\n"
     ]
    },
    {
     "name": "stdout",
     "output_type": "stream",
     "text": [
      "868:\tlearn: 0.3061280\ttotal: 2.23s\tremaining: 337ms\n",
      "869:\tlearn: 0.3060838\ttotal: 2.23s\tremaining: 334ms\n",
      "870:\tlearn: 0.3060507\ttotal: 2.24s\tremaining: 331ms\n",
      "871:\tlearn: 0.3059502\ttotal: 2.24s\tremaining: 329ms\n",
      "872:\tlearn: 0.3058956\ttotal: 2.24s\tremaining: 326ms\n",
      "873:\tlearn: 0.3057896\ttotal: 2.24s\tremaining: 324ms\n",
      "874:\tlearn: 0.3057024\ttotal: 2.25s\tremaining: 321ms\n",
      "875:\tlearn: 0.3056164\ttotal: 2.25s\tremaining: 318ms\n",
      "876:\tlearn: 0.3055558\ttotal: 2.25s\tremaining: 316ms\n",
      "877:\tlearn: 0.3054996\ttotal: 2.25s\tremaining: 313ms\n",
      "878:\tlearn: 0.3053689\ttotal: 2.26s\tremaining: 311ms\n",
      "879:\tlearn: 0.3053249\ttotal: 2.26s\tremaining: 308ms\n",
      "880:\tlearn: 0.3052523\ttotal: 2.26s\tremaining: 306ms\n",
      "881:\tlearn: 0.3051656\ttotal: 2.26s\tremaining: 303ms\n",
      "882:\tlearn: 0.3050749\ttotal: 2.27s\tremaining: 300ms\n",
      "883:\tlearn: 0.3049848\ttotal: 2.27s\tremaining: 298ms\n",
      "884:\tlearn: 0.3048958\ttotal: 2.27s\tremaining: 295ms\n",
      "885:\tlearn: 0.3048242\ttotal: 2.27s\tremaining: 293ms\n",
      "886:\tlearn: 0.3047503\ttotal: 2.28s\tremaining: 290ms\n",
      "887:\tlearn: 0.3046848\ttotal: 2.28s\tremaining: 287ms\n",
      "888:\tlearn: 0.3046391\ttotal: 2.28s\tremaining: 285ms\n",
      "889:\tlearn: 0.3045361\ttotal: 2.28s\tremaining: 282ms\n",
      "890:\tlearn: 0.3044386\ttotal: 2.29s\tremaining: 280ms\n",
      "891:\tlearn: 0.3043069\ttotal: 2.29s\tremaining: 277ms\n",
      "892:\tlearn: 0.3042580\ttotal: 2.29s\tremaining: 275ms\n",
      "893:\tlearn: 0.3041860\ttotal: 2.29s\tremaining: 272ms\n",
      "894:\tlearn: 0.3041020\ttotal: 2.3s\tremaining: 269ms\n",
      "895:\tlearn: 0.3040706\ttotal: 2.3s\tremaining: 267ms\n",
      "896:\tlearn: 0.3039641\ttotal: 2.3s\tremaining: 264ms\n",
      "897:\tlearn: 0.3038527\ttotal: 2.3s\tremaining: 262ms\n",
      "898:\tlearn: 0.3038168\ttotal: 2.31s\tremaining: 259ms\n",
      "899:\tlearn: 0.3037414\ttotal: 2.31s\tremaining: 256ms\n",
      "900:\tlearn: 0.3037030\ttotal: 2.31s\tremaining: 254ms\n",
      "901:\tlearn: 0.3036270\ttotal: 2.31s\tremaining: 251ms\n",
      "902:\tlearn: 0.3035570\ttotal: 2.31s\tremaining: 249ms\n",
      "903:\tlearn: 0.3034978\ttotal: 2.32s\tremaining: 246ms\n",
      "904:\tlearn: 0.3034192\ttotal: 2.32s\tremaining: 244ms\n",
      "905:\tlearn: 0.3033670\ttotal: 2.32s\tremaining: 241ms\n"
     ]
    },
    {
     "name": "stdout",
     "output_type": "stream",
     "text": [
      "906:\tlearn: 0.3032938\ttotal: 2.33s\tremaining: 239ms\n",
      "907:\tlearn: 0.3032104\ttotal: 2.33s\tremaining: 236ms\n",
      "908:\tlearn: 0.3031520\ttotal: 2.33s\tremaining: 233ms\n",
      "909:\tlearn: 0.3030638\ttotal: 2.33s\tremaining: 231ms\n",
      "910:\tlearn: 0.3029712\ttotal: 2.34s\tremaining: 228ms\n",
      "911:\tlearn: 0.3029143\ttotal: 2.34s\tremaining: 226ms\n",
      "912:\tlearn: 0.3028377\ttotal: 2.34s\tremaining: 223ms\n",
      "913:\tlearn: 0.3027715\ttotal: 2.34s\tremaining: 221ms\n",
      "914:\tlearn: 0.3026975\ttotal: 2.35s\tremaining: 218ms\n",
      "915:\tlearn: 0.3026154\ttotal: 2.35s\tremaining: 215ms\n",
      "916:\tlearn: 0.3025553\ttotal: 2.35s\tremaining: 213ms\n",
      "917:\tlearn: 0.3024738\ttotal: 2.35s\tremaining: 210ms\n",
      "918:\tlearn: 0.3024305\ttotal: 2.36s\tremaining: 208ms\n",
      "919:\tlearn: 0.3023375\ttotal: 2.36s\tremaining: 205ms\n",
      "920:\tlearn: 0.3022595\ttotal: 2.36s\tremaining: 203ms\n",
      "921:\tlearn: 0.3021451\ttotal: 2.36s\tremaining: 200ms\n",
      "922:\tlearn: 0.3020675\ttotal: 2.37s\tremaining: 197ms\n",
      "923:\tlearn: 0.3019926\ttotal: 2.37s\tremaining: 195ms\n",
      "924:\tlearn: 0.3019170\ttotal: 2.37s\tremaining: 192ms\n",
      "925:\tlearn: 0.3018473\ttotal: 2.37s\tremaining: 190ms\n",
      "926:\tlearn: 0.3017449\ttotal: 2.38s\tremaining: 187ms\n",
      "927:\tlearn: 0.3016821\ttotal: 2.38s\tremaining: 185ms\n",
      "928:\tlearn: 0.3016376\ttotal: 2.38s\tremaining: 182ms\n",
      "929:\tlearn: 0.3015263\ttotal: 2.38s\tremaining: 179ms\n",
      "930:\tlearn: 0.3014511\ttotal: 2.39s\tremaining: 177ms\n",
      "931:\tlearn: 0.3014039\ttotal: 2.39s\tremaining: 174ms\n",
      "932:\tlearn: 0.3013417\ttotal: 2.39s\tremaining: 172ms\n",
      "933:\tlearn: 0.3012587\ttotal: 2.39s\tremaining: 169ms\n",
      "934:\tlearn: 0.3011879\ttotal: 2.4s\tremaining: 167ms\n",
      "935:\tlearn: 0.3011566\ttotal: 2.4s\tremaining: 164ms\n",
      "936:\tlearn: 0.3010746\ttotal: 2.4s\tremaining: 161ms\n",
      "937:\tlearn: 0.3010307\ttotal: 2.4s\tremaining: 159ms\n",
      "938:\tlearn: 0.3009470\ttotal: 2.41s\tremaining: 156ms\n",
      "939:\tlearn: 0.3008627\ttotal: 2.41s\tremaining: 154ms\n",
      "940:\tlearn: 0.3007596\ttotal: 2.41s\tremaining: 151ms\n",
      "941:\tlearn: 0.3006919\ttotal: 2.41s\tremaining: 149ms\n",
      "942:\tlearn: 0.3006245\ttotal: 2.42s\tremaining: 146ms\n",
      "943:\tlearn: 0.3004105\ttotal: 2.42s\tremaining: 143ms\n",
      "944:\tlearn: 0.3003119\ttotal: 2.42s\tremaining: 141ms\n",
      "945:\tlearn: 0.3002266\ttotal: 2.42s\tremaining: 138ms\n",
      "946:\tlearn: 0.3001663\ttotal: 2.43s\tremaining: 136ms\n"
     ]
    },
    {
     "name": "stdout",
     "output_type": "stream",
     "text": [
      "947:\tlearn: 0.3000971\ttotal: 2.43s\tremaining: 133ms\n",
      "948:\tlearn: 0.3000029\ttotal: 2.43s\tremaining: 131ms\n",
      "949:\tlearn: 0.2998690\ttotal: 2.43s\tremaining: 128ms\n",
      "950:\tlearn: 0.2998253\ttotal: 2.44s\tremaining: 126ms\n",
      "951:\tlearn: 0.2997468\ttotal: 2.44s\tremaining: 123ms\n",
      "952:\tlearn: 0.2996853\ttotal: 2.44s\tremaining: 120ms\n",
      "953:\tlearn: 0.2996029\ttotal: 2.44s\tremaining: 118ms\n",
      "954:\tlearn: 0.2995681\ttotal: 2.45s\tremaining: 115ms\n",
      "955:\tlearn: 0.2994865\ttotal: 2.45s\tremaining: 113ms\n",
      "956:\tlearn: 0.2994380\ttotal: 2.45s\tremaining: 110ms\n",
      "957:\tlearn: 0.2993526\ttotal: 2.46s\tremaining: 108ms\n",
      "958:\tlearn: 0.2992502\ttotal: 2.46s\tremaining: 105ms\n",
      "959:\tlearn: 0.2991676\ttotal: 2.46s\tremaining: 103ms\n",
      "960:\tlearn: 0.2990844\ttotal: 2.46s\tremaining: 99.9ms\n",
      "961:\tlearn: 0.2989972\ttotal: 2.46s\tremaining: 97.4ms\n",
      "962:\tlearn: 0.2988614\ttotal: 2.47s\tremaining: 94.8ms\n",
      "963:\tlearn: 0.2987945\ttotal: 2.47s\tremaining: 92.2ms\n",
      "964:\tlearn: 0.2987372\ttotal: 2.47s\tremaining: 89.7ms\n",
      "965:\tlearn: 0.2986531\ttotal: 2.48s\tremaining: 87.1ms\n",
      "966:\tlearn: 0.2985828\ttotal: 2.48s\tremaining: 84.5ms\n",
      "967:\tlearn: 0.2984994\ttotal: 2.48s\tremaining: 82ms\n",
      "968:\tlearn: 0.2984315\ttotal: 2.48s\tremaining: 79.4ms\n",
      "969:\tlearn: 0.2983489\ttotal: 2.48s\tremaining: 76.9ms\n",
      "970:\tlearn: 0.2982853\ttotal: 2.49s\tremaining: 74.3ms\n",
      "971:\tlearn: 0.2982533\ttotal: 2.49s\tremaining: 71.7ms\n",
      "972:\tlearn: 0.2982062\ttotal: 2.49s\tremaining: 69.2ms\n",
      "973:\tlearn: 0.2981364\ttotal: 2.49s\tremaining: 66.6ms\n",
      "974:\tlearn: 0.2980610\ttotal: 2.5s\tremaining: 64ms\n",
      "975:\tlearn: 0.2980027\ttotal: 2.5s\tremaining: 61.5ms\n",
      "976:\tlearn: 0.2979639\ttotal: 2.5s\tremaining: 58.9ms\n",
      "977:\tlearn: 0.2979098\ttotal: 2.5s\tremaining: 56.3ms\n",
      "978:\tlearn: 0.2978448\ttotal: 2.51s\tremaining: 53.8ms\n",
      "979:\tlearn: 0.2977742\ttotal: 2.51s\tremaining: 51.2ms\n",
      "980:\tlearn: 0.2977181\ttotal: 2.51s\tremaining: 48.6ms\n",
      "981:\tlearn: 0.2975264\ttotal: 2.51s\tremaining: 46.1ms\n",
      "982:\tlearn: 0.2973702\ttotal: 2.52s\tremaining: 43.5ms\n",
      "983:\tlearn: 0.2973285\ttotal: 2.52s\tremaining: 41ms\n"
     ]
    },
    {
     "name": "stdout",
     "output_type": "stream",
     "text": [
      "984:\tlearn: 0.2972841\ttotal: 2.52s\tremaining: 38.4ms\n",
      "985:\tlearn: 0.2972547\ttotal: 2.52s\tremaining: 35.8ms\n",
      "986:\tlearn: 0.2971589\ttotal: 2.53s\tremaining: 33.3ms\n",
      "987:\tlearn: 0.2970802\ttotal: 2.53s\tremaining: 30.7ms\n",
      "988:\tlearn: 0.2970405\ttotal: 2.53s\tremaining: 28.2ms\n",
      "989:\tlearn: 0.2969949\ttotal: 2.53s\tremaining: 25.6ms\n",
      "990:\tlearn: 0.2968510\ttotal: 2.54s\tremaining: 23ms\n",
      "991:\tlearn: 0.2967964\ttotal: 2.54s\tremaining: 20.5ms\n",
      "992:\tlearn: 0.2967565\ttotal: 2.54s\tremaining: 17.9ms\n",
      "993:\tlearn: 0.2966549\ttotal: 2.54s\tremaining: 15.4ms\n",
      "994:\tlearn: 0.2966014\ttotal: 2.55s\tremaining: 12.8ms\n",
      "995:\tlearn: 0.2965127\ttotal: 2.55s\tremaining: 10.2ms\n",
      "996:\tlearn: 0.2964648\ttotal: 2.55s\tremaining: 7.68ms\n",
      "997:\tlearn: 0.2963569\ttotal: 2.55s\tremaining: 5.12ms\n",
      "998:\tlearn: 0.2963048\ttotal: 2.56s\tremaining: 2.56ms\n",
      "999:\tlearn: 0.2962551\ttotal: 2.56s\tremaining: 0us\n",
      "Mean Squared error 0.1401332960558884\n"
     ]
    },
    {
     "data": {
      "application/scrapbook.scrap.json+json": {
       "data": 0.1401332960558884,
       "encoder": "json",
       "name": "Catboost MSE",
       "version": 1
      }
     },
     "metadata": {
      "scrapbook": {
       "data": true,
       "display": false,
       "name": "Catboost MSE"
      }
     },
     "output_type": "display_data"
    }
   ],
   "source": [
    "mse_cb = baselineModels.catboost(X_train,y_train,X_test,y_test)\n",
    "#Store MSE Value \n",
    "sb.glue(\"Catboost MSE\",mse_cb)"
   ]
  },
  {
   "cell_type": "markdown",
   "id": "89d0d87d",
   "metadata": {
    "papermill": {
     "duration": 0.010097,
     "end_time": "2021-12-24T12:54:46.486377",
     "exception": false,
     "start_time": "2021-12-24T12:54:46.476280",
     "status": "completed"
    },
    "tags": []
   },
   "source": [
    "## Vanilla Neural Network "
   ]
  },
  {
   "cell_type": "code",
   "execution_count": 8,
   "id": "a67fb7fb",
   "metadata": {
    "execution": {
     "iopub.execute_input": "2021-12-24T12:54:46.511122Z",
     "iopub.status.busy": "2021-12-24T12:54:46.510679Z",
     "iopub.status.idle": "2021-12-24T12:59:34.677104Z",
     "shell.execute_reply": "2021-12-24T12:59:34.676783Z"
    },
    "papermill": {
     "duration": 288.180395,
     "end_time": "2021-12-24T12:59:34.677239",
     "exception": false,
     "start_time": "2021-12-24T12:54:46.496844",
     "status": "completed"
    },
    "tags": []
   },
   "outputs": [
    {
     "data": {
      "application/scrapbook.scrap.json+json": {
       "data": 0.9949354419443549,
       "encoder": "json",
       "name": "Vanilla NN MSE",
       "version": 1
      }
     },
     "metadata": {
      "scrapbook": {
       "data": true,
       "display": false,
       "name": "Vanilla NN MSE"
      }
     },
     "output_type": "display_data"
    },
    {
     "name": "stdout",
     "output_type": "stream",
     "text": [
      "Mean Squared error 0.9949354419443549\n"
     ]
    }
   ],
   "source": [
    "# Parameters \n",
    "n_epochs = 1000\n",
    "batch_size = 1000\n",
    "device = torch.device('cuda' if torch.cuda.is_available() else 'cpu')\n",
    "baselineModels.vanillaNeuralNetwork(train_data,test_data,batch_size,n_features,n_target,n_epochs)"
   ]
  }
 ],
 "metadata": {
  "interpreter": {
   "hash": "10498c76ddd8160350534c6544a2b2fb65f2138dbc70420f7c81a3268f830f23"
  },
  "kernelspec": {
   "display_name": "Python 3 (ipykernel)",
   "language": "python",
   "name": "python3"
  },
  "language_info": {
   "codemirror_mode": {
    "name": "ipython",
    "version": 3
   },
   "file_extension": ".py",
   "mimetype": "text/x-python",
   "name": "python",
   "nbconvert_exporter": "python",
   "pygments_lexer": "ipython3",
   "version": "3.8.11"
  },
  "papermill": {
   "default_parameters": {},
   "duration": 296.627002,
   "end_time": "2021-12-24T12:59:34.995744",
   "environment_variables": {},
   "exception": null,
   "input_path": "BaselineModels.ipynb",
   "output_path": "./BaseLine_Model_Output/baselineModels_output_2.ipynb",
   "parameters": {},
   "start_time": "2021-12-24T12:54:38.368742",
   "version": "2.3.3"
  }
 },
 "nbformat": 4,
 "nbformat_minor": 5
}