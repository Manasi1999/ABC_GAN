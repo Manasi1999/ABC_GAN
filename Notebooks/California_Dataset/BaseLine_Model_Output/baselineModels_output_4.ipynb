{
 "cells": [
  {
   "cell_type": "markdown",
   "id": "01cda264",
   "metadata": {
    "papermill": {
     "duration": 0.016361,
     "end_time": "2021-12-24T13:04:31.943646",
     "exception": false,
     "start_time": "2021-12-24T13:04:31.927285",
     "status": "completed"
    },
    "tags": []
   },
   "source": [
    "## Import Libraries "
   ]
  },
  {
   "cell_type": "code",
   "execution_count": 1,
   "id": "467b197b",
   "metadata": {
    "execution": {
     "iopub.execute_input": "2021-12-24T13:04:31.977277Z",
     "iopub.status.busy": "2021-12-24T13:04:31.976620Z",
     "iopub.status.idle": "2021-12-24T13:04:31.980148Z",
     "shell.execute_reply": "2021-12-24T13:04:31.980566Z"
    },
    "papermill": {
     "duration": 0.023481,
     "end_time": "2021-12-24T13:04:31.980867",
     "exception": false,
     "start_time": "2021-12-24T13:04:31.957386",
     "status": "completed"
    },
    "tags": []
   },
   "outputs": [],
   "source": [
    "import warnings\n",
    "import sys\n",
    "sys.path.insert(0, '../../src')\n",
    "warnings.filterwarnings('ignore')"
   ]
  },
  {
   "cell_type": "code",
   "execution_count": 2,
   "id": "62f1aafd",
   "metadata": {
    "execution": {
     "iopub.execute_input": "2021-12-24T13:04:31.996424Z",
     "iopub.status.busy": "2021-12-24T13:04:31.995917Z",
     "iopub.status.idle": "2021-12-24T13:04:34.532098Z",
     "shell.execute_reply": "2021-12-24T13:04:34.532360Z"
    },
    "papermill": {
     "duration": 2.54484,
     "end_time": "2021-12-24T13:04:34.532509",
     "exception": false,
     "start_time": "2021-12-24T13:04:31.987669",
     "status": "completed"
    },
    "tags": []
   },
   "outputs": [],
   "source": [
    "import baselineModels\n",
    "import scrapbook as sb \n",
    "import torch \n",
    "import statsModel\n",
    "import californiaDataset\n",
    "import dataset \n",
    "from torch.utils.data import random_split \n",
    "from sklearn.model_selection import train_test_split"
   ]
  },
  {
   "cell_type": "markdown",
   "id": "181f0413",
   "metadata": {
    "papermill": {
     "duration": 0.003732,
     "end_time": "2021-12-24T13:04:34.540355",
     "exception": false,
     "start_time": "2021-12-24T13:04:34.536623",
     "status": "completed"
    },
    "tags": []
   },
   "source": [
    "## Import Dataset \n"
   ]
  },
  {
   "cell_type": "code",
   "execution_count": 3,
   "id": "94962cfc",
   "metadata": {
    "execution": {
     "iopub.execute_input": "2021-12-24T13:04:34.550312Z",
     "iopub.status.busy": "2021-12-24T13:04:34.549837Z",
     "iopub.status.idle": "2021-12-24T13:04:34.570079Z",
     "shell.execute_reply": "2021-12-24T13:04:34.570330Z"
    },
    "papermill": {
     "duration": 0.026526,
     "end_time": "2021-12-24T13:04:34.570456",
     "exception": false,
     "start_time": "2021-12-24T13:04:34.543930",
     "status": "completed"
    },
    "tags": []
   },
   "outputs": [
    {
     "name": "stdout",
     "output_type": "stream",
     "text": [
      "       X1    X2        X3        X4      X5        X6     X7      X8      Y\n",
      "0  8.3252  41.0  6.984127  1.023810   322.0  2.555556  37.88 -122.23  4.526\n",
      "1  8.3014  21.0  6.238137  0.971880  2401.0  2.109842  37.86 -122.22  3.585\n",
      "2  7.2574  52.0  8.288136  1.073446   496.0  2.802260  37.85 -122.24  3.521\n",
      "3  5.6431  52.0  5.817352  1.073059   558.0  2.547945  37.85 -122.25  3.413\n",
      "4  3.8462  52.0  6.281853  1.081081   565.0  2.181467  37.85 -122.25  3.422\n"
     ]
    }
   ],
   "source": [
    "X,Y = californiaDataset.california_data()\n",
    "n_features = 8 \n",
    "n_samples = 20640\n",
    "n_target = 1 "
   ]
  },
  {
   "cell_type": "code",
   "execution_count": 4,
   "id": "517d06f6",
   "metadata": {
    "execution": {
     "iopub.execute_input": "2021-12-24T13:04:34.581070Z",
     "iopub.status.busy": "2021-12-24T13:04:34.580655Z",
     "iopub.status.idle": "2021-12-24T13:04:34.584740Z",
     "shell.execute_reply": "2021-12-24T13:04:34.584987Z"
    },
    "papermill": {
     "duration": 0.01071,
     "end_time": "2021-12-24T13:04:34.585105",
     "exception": false,
     "start_time": "2021-12-24T13:04:34.574395",
     "status": "completed"
    },
    "tags": []
   },
   "outputs": [],
   "source": [
    "# Train test split for dataset \n",
    "real_dataset = dataset.CustomDataset(X,Y)\n",
    "train_size = round(0.8 * n_samples)\n",
    "test_size = n_samples - train_size\n",
    "train_data, test_data = random_split(real_dataset,[train_size,test_size])\n",
    "X_train, X_test, y_train, y_test = train_test_split(X, Y, test_size=0.2)"
   ]
  },
  {
   "cell_type": "markdown",
   "id": "18e91ef2",
   "metadata": {
    "papermill": {
     "duration": 0.003694,
     "end_time": "2021-12-24T13:04:34.592624",
     "exception": false,
     "start_time": "2021-12-24T13:04:34.588930",
     "status": "completed"
    },
    "tags": []
   },
   "source": [
    "## Stats Model "
   ]
  },
  {
   "cell_type": "code",
   "execution_count": 5,
   "id": "93f1a20e",
   "metadata": {
    "execution": {
     "iopub.execute_input": "2021-12-24T13:04:34.602683Z",
     "iopub.status.busy": "2021-12-24T13:04:34.602302Z",
     "iopub.status.idle": "2021-12-24T13:04:34.716985Z",
     "shell.execute_reply": "2021-12-24T13:04:34.717227Z"
    },
    "papermill": {
     "duration": 0.121099,
     "end_time": "2021-12-24T13:04:34.717356",
     "exception": false,
     "start_time": "2021-12-24T13:04:34.596257",
     "status": "completed"
    },
    "tags": []
   },
   "outputs": [
    {
     "name": "stderr",
     "output_type": "stream",
     "text": [
      "No handles with labels found to put in legend.\n"
     ]
    },
    {
     "name": "stdout",
     "output_type": "stream",
     "text": [
      "                                 OLS Regression Results                                \n",
      "=======================================================================================\n",
      "Dep. Variable:                      Y   R-squared (uncentered):                   0.610\n",
      "Model:                            OLS   Adj. R-squared (uncentered):              0.610\n",
      "Method:                 Least Squares   F-statistic:                              3225.\n",
      "Date:                Fri, 24 Dec 2021   Prob (F-statistic):                        0.00\n",
      "Time:                        18:34:34   Log-Likelihood:                         -15622.\n",
      "No. Observations:               16512   AIC:                                  3.126e+04\n",
      "Df Residuals:                   16504   BIC:                                  3.132e+04\n",
      "Df Model:                           8                                                  \n",
      "Covariance Type:            nonrobust                                                  \n",
      "==============================================================================\n",
      "                 coef    std err          t      P>|t|      [0.025      0.975]\n",
      "------------------------------------------------------------------------------\n",
      "x1             0.7388      0.008     92.909      0.000       0.723       0.754\n",
      "x2             0.1016      0.005     18.655      0.000       0.091       0.112\n",
      "x3            -0.2681      0.015    -18.175      0.000      -0.297      -0.239\n",
      "x4             0.3125      0.014     22.793      0.000       0.286       0.339\n",
      "x5            -0.0061      0.005     -1.175      0.240      -0.016       0.004\n",
      "x6            -0.0375      0.005     -8.099      0.000      -0.047      -0.028\n",
      "x7            -0.7639      0.015    -51.153      0.000      -0.793      -0.735\n",
      "x8            -0.7414      0.015    -50.581      0.000      -0.770      -0.713\n",
      "==============================================================================\n",
      "Omnibus:                     3536.602   Durbin-Watson:                   1.994\n",
      "Prob(Omnibus):                  0.000   Jarque-Bera (JB):             9938.353\n",
      "Skew:                           1.134   Prob(JB):                         0.00\n",
      "Kurtosis:                       6.050   Cond. No.                         6.78\n",
      "==============================================================================\n",
      "\n",
      "Notes:\n",
      "[1] R² is computed without centering (uncentered) since the model does not contain a constant.\n",
      "[2] Standard Errors assume that the covariance matrix of the errors is correctly specified.\n",
      "Parameters:  x1    0.738824\n",
      "x2    0.101554\n",
      "x3   -0.268089\n",
      "x4    0.312544\n",
      "x5   -0.006093\n",
      "x6   -0.037548\n",
      "x7   -0.763936\n",
      "x8   -0.741450\n",
      "dtype: float64\n"
     ]
    },
    {
     "data": {
      "image/png": "[encoded data removed]",
      "text/plain": [
       "<Figure size 432x288 with 1 Axes>"
      ]
     },
     "metadata": {
      "needs_background": "light"
     },
     "output_type": "display_data"
    },
    {
     "name": "stdout",
     "output_type": "stream",
     "text": [
      "Performance Metrics\n",
      "Mean Squared Error: 0.4173474785853381\n",
      "Mean Absolute Error: 0.46792222816050816\n",
      "Manhattan distance: 1931.5829578465832\n",
      "Euclidean distance: 41.506751156893436\n"
     ]
    },
    {
     "data": {
      "application/scrapbook.scrap.json+json": {
       "data": 0.4173474785853381,
       "encoder": "json",
       "name": "Stats Model MSE",
       "version": 1
      }
     },
     "metadata": {
      "scrapbook": {
       "data": true,
       "display": false,
       "name": "Stats Model MSE"
      }
     },
     "output_type": "display_data"
    },
    {
     "data": {
      "application/scrapbook.scrap.json+json": {
       "data": 0.46792222816050816,
       "encoder": "json",
       "name": "Stats Model MAE",
       "version": 1
      }
     },
     "metadata": {
      "scrapbook": {
       "data": true,
       "display": false,
       "name": "Stats Model MAE"
      }
     },
     "output_type": "display_data"
    },
    {
     "data": {
      "application/scrapbook.scrap.json+json": {
       "data": 1931.5829578465832,
       "encoder": "json",
       "name": "Stats Model Manhattan Distance",
       "version": 1
      }
     },
     "metadata": {
      "scrapbook": {
       "data": true,
       "display": false,
       "name": "Stats Model Manhattan Distance"
      }
     },
     "output_type": "display_data"
    },
    {
     "data": {
      "application/scrapbook.scrap.json+json": {
       "data": 41.506751156893436,
       "encoder": "json",
       "name": "Stats Model Euclidean distance",
       "version": 1
      }
     },
     "metadata": {
      "scrapbook": {
       "data": true,
       "display": false,
       "name": "Stats Model Euclidean distance"
      }
     },
     "output_type": "display_data"
    },
    {
     "data": {
      "application/scrapbook.scrap.json+json": {
       "data": [
        0.7388238963357832,
        0.10155438239836909,
        -0.268089251315282,
        0.312544004868719,
        -0.0060932025460871155,
        -0.03754773677440684,
        -0.7639364626131675,
        -0.7414495400266121
       ],
       "encoder": "json",
       "name": "Coefficients",
       "version": 1
      }
     },
     "metadata": {
      "scrapbook": {
       "data": true,
       "display": false,
       "name": "Coefficients"
      }
     },
     "output_type": "display_data"
    }
   ],
   "source": [
    "[coeff,y_pred] = statsModel.statsModel(X,Y)\n",
    "\n",
    "#Store Coefficients \n",
    "sb.glue(\"Coefficients\",coeff)"
   ]
  },
  {
   "cell_type": "markdown",
   "id": "0d15e424",
   "metadata": {
    "papermill": {
     "duration": 0.005794,
     "end_time": "2021-12-24T13:04:34.729283",
     "exception": false,
     "start_time": "2021-12-24T13:04:34.723489",
     "status": "completed"
    },
    "tags": []
   },
   "source": [
    "## Random Forest "
   ]
  },
  {
   "cell_type": "code",
   "execution_count": 6,
   "id": "cb2ca618",
   "metadata": {
    "execution": {
     "iopub.execute_input": "2021-12-24T13:04:34.743123Z",
     "iopub.status.busy": "2021-12-24T13:04:34.742751Z",
     "iopub.status.idle": "2021-12-24T13:04:36.894633Z",
     "shell.execute_reply": "2021-12-24T13:04:36.894874Z"
    },
    "papermill": {
     "duration": 2.160064,
     "end_time": "2021-12-24T13:04:36.894998",
     "exception": false,
     "start_time": "2021-12-24T13:04:34.734934",
     "status": "completed"
    },
    "tags": []
   },
   "outputs": [
    {
     "name": "stdout",
     "output_type": "stream",
     "text": [
      "Mean Squared error 0.3887550035209903\n"
     ]
    },
    {
     "data": {
      "application/scrapbook.scrap.json+json": {
       "data": 0.3887550035209903,
       "encoder": "json",
       "name": "Random Forest MSE",
       "version": 1
      }
     },
     "metadata": {
      "scrapbook": {
       "data": true,
       "display": false,
       "name": "Random Forest MSE"
      }
     },
     "output_type": "display_data"
    }
   ],
   "source": [
    "mse_rf = baselineModels.randomForest(X_train,y_train,X_test,y_test)\n",
    "#Store MSE Value\n",
    "sb.glue(\"Random Forest MSE\",mse_rf)"
   ]
  },
  {
   "cell_type": "markdown",
   "id": "28617be9",
   "metadata": {
    "papermill": {
     "duration": 0.006028,
     "end_time": "2021-12-24T13:04:36.907438",
     "exception": false,
     "start_time": "2021-12-24T13:04:36.901410",
     "status": "completed"
    },
    "tags": []
   },
   "source": [
    "## Catboost \n",
    "\n"
   ]
  },
  {
   "cell_type": "code",
   "execution_count": 7,
   "id": "4ccd389f",
   "metadata": {
    "execution": {
     "iopub.execute_input": "2021-12-24T13:04:36.965265Z",
     "iopub.status.busy": "2021-12-24T13:04:36.964822Z",
     "iopub.status.idle": "2021-12-24T13:04:39.676071Z",
     "shell.execute_reply": "2021-12-24T13:04:39.676449Z"
    },
    "papermill": {
     "duration": 2.763152,
     "end_time": "2021-12-24T13:04:39.676575",
     "exception": false,
     "start_time": "2021-12-24T13:04:36.913423",
     "status": "completed"
    },
    "tags": []
   },
   "outputs": [
    {
     "name": "stdout",
     "output_type": "stream",
     "text": [
      "Learning rate set to 0.064294\n",
      "0:\tlearn: 0.9624945\ttotal: 64.5ms\tremaining: 1m 4s\n",
      "1:\tlearn: 0.9304754\ttotal: 67.8ms\tremaining: 33.8s\n",
      "2:\tlearn: 0.9003391\ttotal: 70.8ms\tremaining: 23.5s\n",
      "3:\tlearn: 0.8726530\ttotal: 74ms\tremaining: 18.4s\n",
      "4:\tlearn: 0.8473117\ttotal: 77.7ms\tremaining: 15.5s\n",
      "5:\tlearn: 0.8242293\ttotal: 81.2ms\tremaining: 13.5s\n",
      "6:\tlearn: 0.8023241\ttotal: 83.8ms\tremaining: 11.9s\n",
      "7:\tlearn: 0.7819563\ttotal: 86.4ms\tremaining: 10.7s\n",
      "8:\tlearn: 0.7648026\ttotal: 89.2ms\tremaining: 9.82s\n",
      "9:\tlearn: 0.7462875\ttotal: 91.7ms\tremaining: 9.07s\n",
      "10:\tlearn: 0.7299872\ttotal: 94.4ms\tremaining: 8.49s\n",
      "11:\tlearn: 0.7142079\ttotal: 97.9ms\tremaining: 8.06s\n",
      "12:\tlearn: 0.7008154\ttotal: 100ms\tremaining: 7.61s\n",
      "13:\tlearn: 0.6858931\ttotal: 103ms\tremaining: 7.23s\n",
      "14:\tlearn: 0.6747454\ttotal: 105ms\tremaining: 6.92s\n",
      "15:\tlearn: 0.6629068\ttotal: 108ms\tremaining: 6.63s\n"
     ]
    },
    {
     "name": "stdout",
     "output_type": "stream",
     "text": [
      "16:\tlearn: 0.6516344\ttotal: 112ms\tremaining: 6.45s\n",
      "17:\tlearn: 0.6422000\ttotal: 114ms\tremaining: 6.23s\n",
      "18:\tlearn: 0.6340750\ttotal: 117ms\tremaining: 6.02s\n",
      "19:\tlearn: 0.6239788\ttotal: 119ms\tremaining: 5.83s\n",
      "20:\tlearn: 0.6160930\ttotal: 122ms\tremaining: 5.67s\n",
      "21:\tlearn: 0.6084924\ttotal: 125ms\tremaining: 5.54s\n",
      "22:\tlearn: 0.6008161\ttotal: 127ms\tremaining: 5.4s\n",
      "23:\tlearn: 0.5949365\ttotal: 130ms\tremaining: 5.27s\n",
      "24:\tlearn: 0.5891304\ttotal: 132ms\tremaining: 5.16s\n",
      "25:\tlearn: 0.5835618\ttotal: 135ms\tremaining: 5.04s\n",
      "26:\tlearn: 0.5769980\ttotal: 137ms\tremaining: 4.93s\n",
      "27:\tlearn: 0.5723880\ttotal: 140ms\tremaining: 4.85s\n",
      "28:\tlearn: 0.5665820\ttotal: 142ms\tremaining: 4.76s\n",
      "29:\tlearn: 0.5617754\ttotal: 145ms\tremaining: 4.68s\n",
      "30:\tlearn: 0.5584339\ttotal: 148ms\tremaining: 4.61s\n",
      "31:\tlearn: 0.5550491\ttotal: 150ms\tremaining: 4.53s\n",
      "32:\tlearn: 0.5512958\ttotal: 153ms\tremaining: 4.48s\n",
      "33:\tlearn: 0.5483291\ttotal: 156ms\tremaining: 4.42s\n",
      "34:\tlearn: 0.5433630\ttotal: 158ms\tremaining: 4.35s\n",
      "35:\tlearn: 0.5403032\ttotal: 160ms\tremaining: 4.29s\n",
      "36:\tlearn: 0.5353151\ttotal: 163ms\tremaining: 4.24s\n",
      "37:\tlearn: 0.5325107\ttotal: 165ms\tremaining: 4.18s\n",
      "38:\tlearn: 0.5281959\ttotal: 168ms\tremaining: 4.13s\n",
      "39:\tlearn: 0.5252622\ttotal: 171ms\tremaining: 4.09s\n",
      "40:\tlearn: 0.5227973\ttotal: 175ms\tremaining: 4.09s\n",
      "41:\tlearn: 0.5207745\ttotal: 177ms\tremaining: 4.03s\n",
      "42:\tlearn: 0.5176879\ttotal: 179ms\tremaining: 3.98s\n",
      "43:\tlearn: 0.5157650\ttotal: 181ms\tremaining: 3.92s\n",
      "44:\tlearn: 0.5139360\ttotal: 182ms\tremaining: 3.87s\n",
      "45:\tlearn: 0.5113949\ttotal: 185ms\tremaining: 3.83s\n",
      "46:\tlearn: 0.5084997\ttotal: 187ms\tremaining: 3.79s\n",
      "47:\tlearn: 0.5060983\ttotal: 190ms\tremaining: 3.77s\n"
     ]
    },
    {
     "name": "stdout",
     "output_type": "stream",
     "text": [
      "48:\tlearn: 0.5032678\ttotal: 193ms\tremaining: 3.74s\n",
      "49:\tlearn: 0.5011543\ttotal: 195ms\tremaining: 3.71s\n",
      "50:\tlearn: 0.4990016\ttotal: 197ms\tremaining: 3.67s\n",
      "51:\tlearn: 0.4975915\ttotal: 200ms\tremaining: 3.64s\n",
      "52:\tlearn: 0.4950029\ttotal: 202ms\tremaining: 3.61s\n",
      "53:\tlearn: 0.4936303\ttotal: 205ms\tremaining: 3.6s\n",
      "54:\tlearn: 0.4914805\ttotal: 208ms\tremaining: 3.57s\n",
      "55:\tlearn: 0.4894837\ttotal: 210ms\tremaining: 3.54s\n",
      "56:\tlearn: 0.4879835\ttotal: 212ms\tremaining: 3.51s\n",
      "57:\tlearn: 0.4865910\ttotal: 215ms\tremaining: 3.49s\n",
      "58:\tlearn: 0.4855280\ttotal: 217ms\tremaining: 3.46s\n",
      "59:\tlearn: 0.4841106\ttotal: 220ms\tremaining: 3.44s\n",
      "60:\tlearn: 0.4827148\ttotal: 222ms\tremaining: 3.42s\n",
      "61:\tlearn: 0.4815045\ttotal: 225ms\tremaining: 3.4s\n",
      "62:\tlearn: 0.4805660\ttotal: 227ms\tremaining: 3.38s\n",
      "63:\tlearn: 0.4787614\ttotal: 229ms\tremaining: 3.35s\n",
      "64:\tlearn: 0.4777084\ttotal: 232ms\tremaining: 3.33s\n",
      "65:\tlearn: 0.4766819\ttotal: 234ms\tremaining: 3.31s\n",
      "66:\tlearn: 0.4757807\ttotal: 236ms\tremaining: 3.29s\n",
      "67:\tlearn: 0.4747746\ttotal: 239ms\tremaining: 3.28s\n",
      "68:\tlearn: 0.4730334\ttotal: 241ms\tremaining: 3.26s\n",
      "69:\tlearn: 0.4718629\ttotal: 244ms\tremaining: 3.24s\n",
      "70:\tlearn: 0.4712358\ttotal: 246ms\tremaining: 3.23s\n",
      "71:\tlearn: 0.4704650\ttotal: 249ms\tremaining: 3.21s\n",
      "72:\tlearn: 0.4696573\ttotal: 251ms\tremaining: 3.19s\n",
      "73:\tlearn: 0.4689111\ttotal: 254ms\tremaining: 3.18s\n",
      "74:\tlearn: 0.4675365\ttotal: 256ms\tremaining: 3.16s\n",
      "75:\tlearn: 0.4669205\ttotal: 259ms\tremaining: 3.14s\n",
      "76:\tlearn: 0.4664650\ttotal: 261ms\tremaining: 3.13s\n",
      "77:\tlearn: 0.4655227\ttotal: 263ms\tremaining: 3.11s\n",
      "78:\tlearn: 0.4645871\ttotal: 266ms\tremaining: 3.1s\n",
      "79:\tlearn: 0.4640692\ttotal: 269ms\tremaining: 3.09s\n",
      "80:\tlearn: 0.4634305\ttotal: 271ms\tremaining: 3.08s\n",
      "81:\tlearn: 0.4630594\ttotal: 273ms\tremaining: 3.06s\n",
      "82:\tlearn: 0.4623857\ttotal: 276ms\tremaining: 3.05s\n",
      "83:\tlearn: 0.4616235\ttotal: 278ms\tremaining: 3.04s\n",
      "84:\tlearn: 0.4608128\ttotal: 281ms\tremaining: 3.02s\n",
      "85:\tlearn: 0.4596695\ttotal: 283ms\tremaining: 3.01s\n",
      "86:\tlearn: 0.4592174\ttotal: 287ms\tremaining: 3.01s\n",
      "87:\tlearn: 0.4580198\ttotal: 290ms\tremaining: 3s\n",
      "88:\tlearn: 0.4574958\ttotal: 292ms\tremaining: 2.99s\n",
      "89:\tlearn: 0.4567917\ttotal: 295ms\tremaining: 2.98s\n",
      "90:\tlearn: 0.4562814\ttotal: 297ms\tremaining: 2.96s\n",
      "91:\tlearn: 0.4556545\ttotal: 299ms\tremaining: 2.95s\n",
      "92:\tlearn: 0.4550014\ttotal: 302ms\tremaining: 2.94s\n",
      "93:\tlearn: 0.4537622\ttotal: 304ms\tremaining: 2.93s\n"
     ]
    },
    {
     "name": "stdout",
     "output_type": "stream",
     "text": [
      "94:\tlearn: 0.4533391\ttotal: 306ms\tremaining: 2.92s\n",
      "95:\tlearn: 0.4526048\ttotal: 309ms\tremaining: 2.91s\n",
      "96:\tlearn: 0.4519075\ttotal: 311ms\tremaining: 2.9s\n",
      "97:\tlearn: 0.4513393\ttotal: 314ms\tremaining: 2.89s\n",
      "98:\tlearn: 0.4503126\ttotal: 317ms\tremaining: 2.88s\n",
      "99:\tlearn: 0.4498267\ttotal: 319ms\tremaining: 2.87s\n",
      "100:\tlearn: 0.4488003\ttotal: 321ms\tremaining: 2.86s\n",
      "101:\tlearn: 0.4484825\ttotal: 324ms\tremaining: 2.85s\n",
      "102:\tlearn: 0.4481034\ttotal: 326ms\tremaining: 2.84s\n",
      "103:\tlearn: 0.4476499\ttotal: 328ms\tremaining: 2.83s\n",
      "104:\tlearn: 0.4471803\ttotal: 331ms\tremaining: 2.82s\n",
      "105:\tlearn: 0.4467721\ttotal: 333ms\tremaining: 2.81s\n",
      "106:\tlearn: 0.4461192\ttotal: 335ms\tremaining: 2.8s\n",
      "107:\tlearn: 0.4454713\ttotal: 338ms\tremaining: 2.79s\n",
      "108:\tlearn: 0.4448098\ttotal: 340ms\tremaining: 2.78s\n",
      "109:\tlearn: 0.4442382\ttotal: 342ms\tremaining: 2.77s\n",
      "110:\tlearn: 0.4439026\ttotal: 345ms\tremaining: 2.76s\n",
      "111:\tlearn: 0.4435087\ttotal: 347ms\tremaining: 2.75s\n",
      "112:\tlearn: 0.4427977\ttotal: 350ms\tremaining: 2.75s\n",
      "113:\tlearn: 0.4421026\ttotal: 352ms\tremaining: 2.74s\n",
      "114:\tlearn: 0.4415241\ttotal: 355ms\tremaining: 2.73s\n",
      "115:\tlearn: 0.4411609\ttotal: 357ms\tremaining: 2.72s\n",
      "116:\tlearn: 0.4409318\ttotal: 360ms\tremaining: 2.71s\n",
      "117:\tlearn: 0.4405337\ttotal: 363ms\tremaining: 2.71s\n",
      "118:\tlearn: 0.4397645\ttotal: 366ms\tremaining: 2.71s\n",
      "119:\tlearn: 0.4392323\ttotal: 368ms\tremaining: 2.7s\n",
      "120:\tlearn: 0.4388037\ttotal: 370ms\tremaining: 2.69s\n",
      "121:\tlearn: 0.4383692\ttotal: 373ms\tremaining: 2.68s\n",
      "122:\tlearn: 0.4378261\ttotal: 375ms\tremaining: 2.67s\n",
      "123:\tlearn: 0.4373653\ttotal: 378ms\tremaining: 2.67s\n",
      "124:\tlearn: 0.4368934\ttotal: 380ms\tremaining: 2.66s\n",
      "125:\tlearn: 0.4360346\ttotal: 382ms\tremaining: 2.65s\n",
      "126:\tlearn: 0.4353734\ttotal: 384ms\tremaining: 2.64s\n",
      "127:\tlearn: 0.4349839\ttotal: 387ms\tremaining: 2.63s\n"
     ]
    },
    {
     "name": "stdout",
     "output_type": "stream",
     "text": [
      "128:\tlearn: 0.4343378\ttotal: 389ms\tremaining: 2.63s\n",
      "129:\tlearn: 0.4339958\ttotal: 391ms\tremaining: 2.62s\n",
      "130:\tlearn: 0.4336654\ttotal: 394ms\tremaining: 2.61s\n",
      "131:\tlearn: 0.4332923\ttotal: 396ms\tremaining: 2.6s\n",
      "132:\tlearn: 0.4327070\ttotal: 400ms\tremaining: 2.61s\n",
      "133:\tlearn: 0.4321588\ttotal: 402ms\tremaining: 2.6s\n",
      "134:\tlearn: 0.4313128\ttotal: 404ms\tremaining: 2.59s\n",
      "135:\tlearn: 0.4308305\ttotal: 407ms\tremaining: 2.58s\n",
      "136:\tlearn: 0.4306082\ttotal: 409ms\tremaining: 2.58s\n",
      "137:\tlearn: 0.4301103\ttotal: 412ms\tremaining: 2.57s\n",
      "138:\tlearn: 0.4293401\ttotal: 414ms\tremaining: 2.57s\n",
      "139:\tlearn: 0.4290652\ttotal: 417ms\tremaining: 2.56s\n",
      "140:\tlearn: 0.4286821\ttotal: 420ms\tremaining: 2.56s\n",
      "141:\tlearn: 0.4282312\ttotal: 422ms\tremaining: 2.55s\n",
      "142:\tlearn: 0.4277953\ttotal: 424ms\tremaining: 2.54s\n",
      "143:\tlearn: 0.4274259\ttotal: 427ms\tremaining: 2.54s\n",
      "144:\tlearn: 0.4269670\ttotal: 429ms\tremaining: 2.53s\n",
      "145:\tlearn: 0.4265761\ttotal: 431ms\tremaining: 2.52s\n",
      "146:\tlearn: 0.4262481\ttotal: 436ms\tremaining: 2.53s\n",
      "147:\tlearn: 0.4256034\ttotal: 439ms\tremaining: 2.52s\n",
      "148:\tlearn: 0.4251905\ttotal: 441ms\tremaining: 2.52s\n",
      "149:\tlearn: 0.4246240\ttotal: 444ms\tremaining: 2.51s\n",
      "150:\tlearn: 0.4240321\ttotal: 446ms\tremaining: 2.51s\n",
      "151:\tlearn: 0.4235815\ttotal: 449ms\tremaining: 2.5s\n",
      "152:\tlearn: 0.4229533\ttotal: 451ms\tremaining: 2.5s\n",
      "153:\tlearn: 0.4226382\ttotal: 453ms\tremaining: 2.49s\n",
      "154:\tlearn: 0.4222411\ttotal: 456ms\tremaining: 2.48s\n",
      "155:\tlearn: 0.4217552\ttotal: 459ms\tremaining: 2.48s\n",
      "156:\tlearn: 0.4214427\ttotal: 461ms\tremaining: 2.48s\n",
      "157:\tlearn: 0.4210305\ttotal: 463ms\tremaining: 2.47s\n",
      "158:\tlearn: 0.4206624\ttotal: 466ms\tremaining: 2.46s\n",
      "159:\tlearn: 0.4203426\ttotal: 469ms\tremaining: 2.46s\n",
      "160:\tlearn: 0.4200103\ttotal: 471ms\tremaining: 2.45s\n",
      "161:\tlearn: 0.4197452\ttotal: 474ms\tremaining: 2.45s\n",
      "162:\tlearn: 0.4191640\ttotal: 476ms\tremaining: 2.44s\n",
      "163:\tlearn: 0.4186865\ttotal: 479ms\tremaining: 2.44s\n",
      "164:\tlearn: 0.4182917\ttotal: 481ms\tremaining: 2.43s\n",
      "165:\tlearn: 0.4178820\ttotal: 483ms\tremaining: 2.43s\n",
      "166:\tlearn: 0.4172427\ttotal: 486ms\tremaining: 2.42s\n"
     ]
    },
    {
     "name": "stdout",
     "output_type": "stream",
     "text": [
      "167:\tlearn: 0.4168605\ttotal: 488ms\tremaining: 2.42s\n",
      "168:\tlearn: 0.4164951\ttotal: 491ms\tremaining: 2.41s\n",
      "169:\tlearn: 0.4160357\ttotal: 493ms\tremaining: 2.41s\n",
      "170:\tlearn: 0.4154265\ttotal: 495ms\tremaining: 2.4s\n",
      "171:\tlearn: 0.4149395\ttotal: 498ms\tremaining: 2.4s\n",
      "172:\tlearn: 0.4146150\ttotal: 501ms\tremaining: 2.39s\n",
      "173:\tlearn: 0.4141364\ttotal: 504ms\tremaining: 2.39s\n",
      "174:\tlearn: 0.4137199\ttotal: 506ms\tremaining: 2.39s\n",
      "175:\tlearn: 0.4133691\ttotal: 509ms\tremaining: 2.38s\n",
      "176:\tlearn: 0.4129374\ttotal: 512ms\tremaining: 2.38s\n",
      "177:\tlearn: 0.4126206\ttotal: 514ms\tremaining: 2.37s\n",
      "178:\tlearn: 0.4122211\ttotal: 516ms\tremaining: 2.37s\n",
      "179:\tlearn: 0.4115563\ttotal: 519ms\tremaining: 2.36s\n",
      "180:\tlearn: 0.4112642\ttotal: 522ms\tremaining: 2.36s\n",
      "181:\tlearn: 0.4108829\ttotal: 524ms\tremaining: 2.35s\n",
      "182:\tlearn: 0.4106226\ttotal: 527ms\tremaining: 2.35s\n",
      "183:\tlearn: 0.4100547\ttotal: 529ms\tremaining: 2.35s\n",
      "184:\tlearn: 0.4096393\ttotal: 532ms\tremaining: 2.34s\n",
      "185:\tlearn: 0.4092658\ttotal: 534ms\tremaining: 2.34s\n",
      "186:\tlearn: 0.4088969\ttotal: 537ms\tremaining: 2.33s\n",
      "187:\tlearn: 0.4085290\ttotal: 539ms\tremaining: 2.33s\n",
      "188:\tlearn: 0.4082082\ttotal: 542ms\tremaining: 2.32s\n",
      "189:\tlearn: 0.4078153\ttotal: 545ms\tremaining: 2.32s\n",
      "190:\tlearn: 0.4074680\ttotal: 547ms\tremaining: 2.32s\n",
      "191:\tlearn: 0.4072004\ttotal: 550ms\tremaining: 2.31s\n",
      "192:\tlearn: 0.4069264\ttotal: 552ms\tremaining: 2.31s\n",
      "193:\tlearn: 0.4066106\ttotal: 554ms\tremaining: 2.3s\n",
      "194:\tlearn: 0.4063701\ttotal: 557ms\tremaining: 2.3s\n",
      "195:\tlearn: 0.4060073\ttotal: 559ms\tremaining: 2.29s\n",
      "196:\tlearn: 0.4056774\ttotal: 562ms\tremaining: 2.29s\n",
      "197:\tlearn: 0.4054179\ttotal: 564ms\tremaining: 2.29s\n",
      "198:\tlearn: 0.4050459\ttotal: 567ms\tremaining: 2.28s\n"
     ]
    },
    {
     "name": "stdout",
     "output_type": "stream",
     "text": [
      "199:\tlearn: 0.4047407\ttotal: 569ms\tremaining: 2.28s\n",
      "200:\tlearn: 0.4043398\ttotal: 572ms\tremaining: 2.27s\n",
      "201:\tlearn: 0.4041182\ttotal: 574ms\tremaining: 2.27s\n",
      "202:\tlearn: 0.4038313\ttotal: 577ms\tremaining: 2.26s\n",
      "203:\tlearn: 0.4034921\ttotal: 579ms\tremaining: 2.26s\n",
      "204:\tlearn: 0.4032209\ttotal: 582ms\tremaining: 2.25s\n",
      "205:\tlearn: 0.4028780\ttotal: 584ms\tremaining: 2.25s\n",
      "206:\tlearn: 0.4025321\ttotal: 586ms\tremaining: 2.25s\n",
      "207:\tlearn: 0.4019105\ttotal: 589ms\tremaining: 2.24s\n",
      "208:\tlearn: 0.4015831\ttotal: 591ms\tremaining: 2.24s\n",
      "209:\tlearn: 0.4012974\ttotal: 594ms\tremaining: 2.23s\n",
      "210:\tlearn: 0.4009709\ttotal: 596ms\tremaining: 2.23s\n",
      "211:\tlearn: 0.4006594\ttotal: 599ms\tremaining: 2.23s\n",
      "212:\tlearn: 0.4003131\ttotal: 602ms\tremaining: 2.22s\n",
      "213:\tlearn: 0.4000306\ttotal: 604ms\tremaining: 2.22s\n",
      "214:\tlearn: 0.3997209\ttotal: 607ms\tremaining: 2.21s\n",
      "215:\tlearn: 0.3994205\ttotal: 609ms\tremaining: 2.21s\n",
      "216:\tlearn: 0.3989217\ttotal: 612ms\tremaining: 2.21s\n",
      "217:\tlearn: 0.3986902\ttotal: 614ms\tremaining: 2.2s\n",
      "218:\tlearn: 0.3984606\ttotal: 617ms\tremaining: 2.2s\n",
      "219:\tlearn: 0.3982138\ttotal: 619ms\tremaining: 2.2s\n",
      "220:\tlearn: 0.3975583\ttotal: 622ms\tremaining: 2.19s\n",
      "221:\tlearn: 0.3973415\ttotal: 624ms\tremaining: 2.19s\n",
      "222:\tlearn: 0.3970559\ttotal: 628ms\tremaining: 2.19s\n",
      "223:\tlearn: 0.3967846\ttotal: 630ms\tremaining: 2.18s\n",
      "224:\tlearn: 0.3964162\ttotal: 633ms\tremaining: 2.18s\n",
      "225:\tlearn: 0.3960885\ttotal: 635ms\tremaining: 2.17s\n",
      "226:\tlearn: 0.3957893\ttotal: 637ms\tremaining: 2.17s\n",
      "227:\tlearn: 0.3953901\ttotal: 640ms\tremaining: 2.17s\n",
      "228:\tlearn: 0.3950096\ttotal: 643ms\tremaining: 2.16s\n",
      "229:\tlearn: 0.3947203\ttotal: 645ms\tremaining: 2.16s\n",
      "230:\tlearn: 0.3943621\ttotal: 647ms\tremaining: 2.15s\n",
      "231:\tlearn: 0.3940593\ttotal: 650ms\tremaining: 2.15s\n",
      "232:\tlearn: 0.3937689\ttotal: 652ms\tremaining: 2.15s\n",
      "233:\tlearn: 0.3934351\ttotal: 655ms\tremaining: 2.15s\n",
      "234:\tlearn: 0.3931777\ttotal: 658ms\tremaining: 2.14s\n",
      "235:\tlearn: 0.3929743\ttotal: 660ms\tremaining: 2.14s\n",
      "236:\tlearn: 0.3926527\ttotal: 663ms\tremaining: 2.13s\n",
      "237:\tlearn: 0.3923959\ttotal: 665ms\tremaining: 2.13s\n",
      "238:\tlearn: 0.3921382\ttotal: 668ms\tremaining: 2.13s\n",
      "239:\tlearn: 0.3918374\ttotal: 671ms\tremaining: 2.12s\n",
      "240:\tlearn: 0.3915917\ttotal: 673ms\tremaining: 2.12s\n",
      "241:\tlearn: 0.3913988\ttotal: 675ms\tremaining: 2.12s\n",
      "242:\tlearn: 0.3910740\ttotal: 678ms\tremaining: 2.11s\n",
      "243:\tlearn: 0.3908282\ttotal: 681ms\tremaining: 2.11s\n",
      "244:\tlearn: 0.3905355\ttotal: 683ms\tremaining: 2.1s\n"
     ]
    },
    {
     "name": "stdout",
     "output_type": "stream",
     "text": [
      "245:\tlearn: 0.3902960\ttotal: 686ms\tremaining: 2.1s\n",
      "246:\tlearn: 0.3900355\ttotal: 688ms\tremaining: 2.1s\n",
      "247:\tlearn: 0.3897098\ttotal: 691ms\tremaining: 2.09s\n",
      "248:\tlearn: 0.3894471\ttotal: 693ms\tremaining: 2.09s\n",
      "249:\tlearn: 0.3892969\ttotal: 695ms\tremaining: 2.08s\n",
      "250:\tlearn: 0.3890850\ttotal: 698ms\tremaining: 2.08s\n",
      "251:\tlearn: 0.3888337\ttotal: 700ms\tremaining: 2.08s\n",
      "252:\tlearn: 0.3885864\ttotal: 703ms\tremaining: 2.08s\n",
      "253:\tlearn: 0.3883688\ttotal: 705ms\tremaining: 2.07s\n",
      "254:\tlearn: 0.3879745\ttotal: 708ms\tremaining: 2.07s\n",
      "255:\tlearn: 0.3876591\ttotal: 710ms\tremaining: 2.06s\n",
      "256:\tlearn: 0.3873231\ttotal: 713ms\tremaining: 2.06s\n",
      "257:\tlearn: 0.3869941\ttotal: 715ms\tremaining: 2.06s\n",
      "258:\tlearn: 0.3867619\ttotal: 718ms\tremaining: 2.05s\n",
      "259:\tlearn: 0.3864908\ttotal: 720ms\tremaining: 2.05s\n",
      "260:\tlearn: 0.3863212\ttotal: 723ms\tremaining: 2.05s\n",
      "261:\tlearn: 0.3859968\ttotal: 725ms\tremaining: 2.04s\n",
      "262:\tlearn: 0.3858158\ttotal: 727ms\tremaining: 2.04s\n",
      "263:\tlearn: 0.3856081\ttotal: 730ms\tremaining: 2.03s\n",
      "264:\tlearn: 0.3853645\ttotal: 732ms\tremaining: 2.03s\n",
      "265:\tlearn: 0.3850870\ttotal: 734ms\tremaining: 2.03s\n",
      "266:\tlearn: 0.3847828\ttotal: 737ms\tremaining: 2.02s\n",
      "267:\tlearn: 0.3845270\ttotal: 739ms\tremaining: 2.02s\n",
      "268:\tlearn: 0.3841670\ttotal: 742ms\tremaining: 2.02s\n",
      "269:\tlearn: 0.3839884\ttotal: 744ms\tremaining: 2.01s\n",
      "270:\tlearn: 0.3837018\ttotal: 746ms\tremaining: 2.01s\n",
      "271:\tlearn: 0.3834823\ttotal: 749ms\tremaining: 2s\n",
      "272:\tlearn: 0.3833033\ttotal: 751ms\tremaining: 2s\n",
      "273:\tlearn: 0.3829594\ttotal: 754ms\tremaining: 2s\n",
      "274:\tlearn: 0.3827147\ttotal: 756ms\tremaining: 1.99s\n",
      "275:\tlearn: 0.3824106\ttotal: 758ms\tremaining: 1.99s\n",
      "276:\tlearn: 0.3822199\ttotal: 760ms\tremaining: 1.98s\n",
      "277:\tlearn: 0.3820313\ttotal: 763ms\tremaining: 1.98s\n",
      "278:\tlearn: 0.3818685\ttotal: 765ms\tremaining: 1.98s\n"
     ]
    },
    {
     "name": "stdout",
     "output_type": "stream",
     "text": [
      "279:\tlearn: 0.3816785\ttotal: 768ms\tremaining: 1.97s\n",
      "280:\tlearn: 0.3814979\ttotal: 771ms\tremaining: 1.97s\n",
      "281:\tlearn: 0.3813011\ttotal: 773ms\tremaining: 1.97s\n",
      "282:\tlearn: 0.3810701\ttotal: 775ms\tremaining: 1.96s\n",
      "283:\tlearn: 0.3808056\ttotal: 778ms\tremaining: 1.96s\n",
      "284:\tlearn: 0.3806773\ttotal: 780ms\tremaining: 1.96s\n",
      "285:\tlearn: 0.3803931\ttotal: 783ms\tremaining: 1.95s\n",
      "286:\tlearn: 0.3802579\ttotal: 785ms\tremaining: 1.95s\n",
      "287:\tlearn: 0.3801098\ttotal: 787ms\tremaining: 1.95s\n",
      "288:\tlearn: 0.3798339\ttotal: 790ms\tremaining: 1.94s\n",
      "289:\tlearn: 0.3796246\ttotal: 792ms\tremaining: 1.94s\n",
      "290:\tlearn: 0.3794284\ttotal: 794ms\tremaining: 1.93s\n",
      "291:\tlearn: 0.3792774\ttotal: 796ms\tremaining: 1.93s\n",
      "292:\tlearn: 0.3790932\ttotal: 799ms\tremaining: 1.93s\n",
      "293:\tlearn: 0.3788410\ttotal: 801ms\tremaining: 1.92s\n",
      "294:\tlearn: 0.3786363\ttotal: 804ms\tremaining: 1.92s\n",
      "295:\tlearn: 0.3783855\ttotal: 807ms\tremaining: 1.92s\n",
      "296:\tlearn: 0.3780842\ttotal: 809ms\tremaining: 1.91s\n",
      "297:\tlearn: 0.3778496\ttotal: 812ms\tremaining: 1.91s\n",
      "298:\tlearn: 0.3777134\ttotal: 814ms\tremaining: 1.91s\n",
      "299:\tlearn: 0.3775111\ttotal: 816ms\tremaining: 1.9s\n",
      "300:\tlearn: 0.3771691\ttotal: 819ms\tremaining: 1.9s\n",
      "301:\tlearn: 0.3769471\ttotal: 821ms\tremaining: 1.9s\n",
      "302:\tlearn: 0.3767068\ttotal: 823ms\tremaining: 1.89s\n",
      "303:\tlearn: 0.3765246\ttotal: 826ms\tremaining: 1.89s\n",
      "304:\tlearn: 0.3763437\ttotal: 828ms\tremaining: 1.89s\n",
      "305:\tlearn: 0.3761330\ttotal: 830ms\tremaining: 1.88s\n",
      "306:\tlearn: 0.3758379\ttotal: 833ms\tremaining: 1.88s\n",
      "307:\tlearn: 0.3756158\ttotal: 835ms\tremaining: 1.88s\n",
      "308:\tlearn: 0.3753814\ttotal: 838ms\tremaining: 1.87s\n",
      "309:\tlearn: 0.3752519\ttotal: 840ms\tremaining: 1.87s\n",
      "310:\tlearn: 0.3748214\ttotal: 843ms\tremaining: 1.87s\n",
      "311:\tlearn: 0.3747452\ttotal: 845ms\tremaining: 1.86s\n",
      "312:\tlearn: 0.3745577\ttotal: 848ms\tremaining: 1.86s\n",
      "313:\tlearn: 0.3743431\ttotal: 851ms\tremaining: 1.86s\n",
      "314:\tlearn: 0.3741433\ttotal: 853ms\tremaining: 1.85s\n",
      "315:\tlearn: 0.3739139\ttotal: 856ms\tremaining: 1.85s\n",
      "316:\tlearn: 0.3736843\ttotal: 859ms\tremaining: 1.85s\n",
      "317:\tlearn: 0.3734533\ttotal: 862ms\tremaining: 1.85s\n",
      "318:\tlearn: 0.3732824\ttotal: 864ms\tremaining: 1.84s\n",
      "319:\tlearn: 0.3730926\ttotal: 867ms\tremaining: 1.84s\n",
      "320:\tlearn: 0.3728763\ttotal: 869ms\tremaining: 1.84s\n",
      "321:\tlearn: 0.3726458\ttotal: 871ms\tremaining: 1.83s\n",
      "322:\tlearn: 0.3724097\ttotal: 874ms\tremaining: 1.83s\n",
      "323:\tlearn: 0.3722502\ttotal: 876ms\tremaining: 1.83s\n",
      "324:\tlearn: 0.3720336\ttotal: 879ms\tremaining: 1.82s\n"
     ]
    },
    {
     "name": "stdout",
     "output_type": "stream",
     "text": [
      "325:\tlearn: 0.3718650\ttotal: 881ms\tremaining: 1.82s\n",
      "326:\tlearn: 0.3715537\ttotal: 883ms\tremaining: 1.82s\n",
      "327:\tlearn: 0.3713481\ttotal: 886ms\tremaining: 1.81s\n",
      "328:\tlearn: 0.3711393\ttotal: 888ms\tremaining: 1.81s\n",
      "329:\tlearn: 0.3708227\ttotal: 890ms\tremaining: 1.81s\n",
      "330:\tlearn: 0.3705913\ttotal: 892ms\tremaining: 1.8s\n",
      "331:\tlearn: 0.3703808\ttotal: 895ms\tremaining: 1.8s\n",
      "332:\tlearn: 0.3700899\ttotal: 897ms\tremaining: 1.8s\n",
      "333:\tlearn: 0.3699585\ttotal: 900ms\tremaining: 1.79s\n",
      "334:\tlearn: 0.3698310\ttotal: 902ms\tremaining: 1.79s\n",
      "335:\tlearn: 0.3696257\ttotal: 905ms\tremaining: 1.79s\n",
      "336:\tlearn: 0.3694493\ttotal: 907ms\tremaining: 1.78s\n",
      "337:\tlearn: 0.3692538\ttotal: 910ms\tremaining: 1.78s\n",
      "338:\tlearn: 0.3690790\ttotal: 912ms\tremaining: 1.78s\n",
      "339:\tlearn: 0.3688997\ttotal: 914ms\tremaining: 1.77s\n",
      "340:\tlearn: 0.3686700\ttotal: 916ms\tremaining: 1.77s\n",
      "341:\tlearn: 0.3684733\ttotal: 919ms\tremaining: 1.77s\n",
      "342:\tlearn: 0.3683041\ttotal: 922ms\tremaining: 1.76s\n",
      "343:\tlearn: 0.3680906\ttotal: 924ms\tremaining: 1.76s\n",
      "344:\tlearn: 0.3678450\ttotal: 926ms\tremaining: 1.76s\n",
      "345:\tlearn: 0.3677520\ttotal: 929ms\tremaining: 1.75s\n",
      "346:\tlearn: 0.3675735\ttotal: 931ms\tremaining: 1.75s\n",
      "347:\tlearn: 0.3674433\ttotal: 934ms\tremaining: 1.75s\n",
      "348:\tlearn: 0.3672625\ttotal: 936ms\tremaining: 1.75s\n",
      "349:\tlearn: 0.3670817\ttotal: 938ms\tremaining: 1.74s\n",
      "350:\tlearn: 0.3667327\ttotal: 941ms\tremaining: 1.74s\n",
      "351:\tlearn: 0.3665378\ttotal: 943ms\tremaining: 1.74s\n",
      "352:\tlearn: 0.3663644\ttotal: 945ms\tremaining: 1.73s\n",
      "353:\tlearn: 0.3662049\ttotal: 948ms\tremaining: 1.73s\n",
      "354:\tlearn: 0.3660746\ttotal: 950ms\tremaining: 1.73s\n",
      "355:\tlearn: 0.3658876\ttotal: 953ms\tremaining: 1.72s\n",
      "356:\tlearn: 0.3657385\ttotal: 955ms\tremaining: 1.72s\n",
      "357:\tlearn: 0.3654897\ttotal: 958ms\tremaining: 1.72s\n",
      "358:\tlearn: 0.3653175\ttotal: 960ms\tremaining: 1.71s\n"
     ]
    },
    {
     "name": "stdout",
     "output_type": "stream",
     "text": [
      "359:\tlearn: 0.3651696\ttotal: 963ms\tremaining: 1.71s\n",
      "360:\tlearn: 0.3650534\ttotal: 965ms\tremaining: 1.71s\n",
      "361:\tlearn: 0.3648154\ttotal: 968ms\tremaining: 1.71s\n",
      "362:\tlearn: 0.3645575\ttotal: 970ms\tremaining: 1.7s\n",
      "363:\tlearn: 0.3643558\ttotal: 973ms\tremaining: 1.7s\n",
      "364:\tlearn: 0.3642456\ttotal: 975ms\tremaining: 1.7s\n",
      "365:\tlearn: 0.3639536\ttotal: 978ms\tremaining: 1.69s\n",
      "366:\tlearn: 0.3636330\ttotal: 980ms\tremaining: 1.69s\n",
      "367:\tlearn: 0.3635324\ttotal: 982ms\tremaining: 1.69s\n",
      "368:\tlearn: 0.3634428\ttotal: 984ms\tremaining: 1.68s\n",
      "369:\tlearn: 0.3632549\ttotal: 987ms\tremaining: 1.68s\n",
      "370:\tlearn: 0.3630954\ttotal: 989ms\tremaining: 1.68s\n",
      "371:\tlearn: 0.3629496\ttotal: 992ms\tremaining: 1.67s\n",
      "372:\tlearn: 0.3628143\ttotal: 994ms\tremaining: 1.67s\n",
      "373:\tlearn: 0.3626734\ttotal: 997ms\tremaining: 1.67s\n",
      "374:\tlearn: 0.3625661\ttotal: 999ms\tremaining: 1.66s\n",
      "375:\tlearn: 0.3623385\ttotal: 1s\tremaining: 1.66s\n",
      "376:\tlearn: 0.3620995\ttotal: 1s\tremaining: 1.66s\n",
      "377:\tlearn: 0.3619364\ttotal: 1.01s\tremaining: 1.66s\n",
      "378:\tlearn: 0.3617703\ttotal: 1.01s\tremaining: 1.65s\n",
      "379:\tlearn: 0.3616519\ttotal: 1.01s\tremaining: 1.65s\n",
      "380:\tlearn: 0.3614741\ttotal: 1.01s\tremaining: 1.65s\n",
      "381:\tlearn: 0.3612928\ttotal: 1.02s\tremaining: 1.64s\n",
      "382:\tlearn: 0.3611373\ttotal: 1.02s\tremaining: 1.64s\n",
      "383:\tlearn: 0.3609902\ttotal: 1.02s\tremaining: 1.64s\n",
      "384:\tlearn: 0.3608391\ttotal: 1.03s\tremaining: 1.65s\n",
      "385:\tlearn: 0.3606738\ttotal: 1.04s\tremaining: 1.65s\n",
      "386:\tlearn: 0.3604936\ttotal: 1.04s\tremaining: 1.65s\n",
      "387:\tlearn: 0.3603765\ttotal: 1.04s\tremaining: 1.65s\n",
      "388:\tlearn: 0.3602772\ttotal: 1.05s\tremaining: 1.65s\n",
      "389:\tlearn: 0.3600423\ttotal: 1.05s\tremaining: 1.64s\n",
      "390:\tlearn: 0.3598281\ttotal: 1.05s\tremaining: 1.64s\n",
      "391:\tlearn: 0.3596755\ttotal: 1.05s\tremaining: 1.64s\n",
      "392:\tlearn: 0.3595223\ttotal: 1.06s\tremaining: 1.63s\n"
     ]
    },
    {
     "name": "stdout",
     "output_type": "stream",
     "text": [
      "393:\tlearn: 0.3593783\ttotal: 1.06s\tremaining: 1.63s\n",
      "394:\tlearn: 0.3592588\ttotal: 1.06s\tremaining: 1.63s\n",
      "395:\tlearn: 0.3591372\ttotal: 1.06s\tremaining: 1.62s\n",
      "396:\tlearn: 0.3589946\ttotal: 1.07s\tremaining: 1.62s\n",
      "397:\tlearn: 0.3588732\ttotal: 1.07s\tremaining: 1.62s\n",
      "398:\tlearn: 0.3586837\ttotal: 1.07s\tremaining: 1.61s\n",
      "399:\tlearn: 0.3585944\ttotal: 1.07s\tremaining: 1.61s\n",
      "400:\tlearn: 0.3583977\ttotal: 1.08s\tremaining: 1.61s\n",
      "401:\tlearn: 0.3581556\ttotal: 1.08s\tremaining: 1.61s\n",
      "402:\tlearn: 0.3579804\ttotal: 1.08s\tremaining: 1.6s\n",
      "403:\tlearn: 0.3576958\ttotal: 1.08s\tremaining: 1.6s\n",
      "404:\tlearn: 0.3575725\ttotal: 1.09s\tremaining: 1.6s\n",
      "405:\tlearn: 0.3574624\ttotal: 1.09s\tremaining: 1.59s\n",
      "406:\tlearn: 0.3573195\ttotal: 1.09s\tremaining: 1.59s\n",
      "407:\tlearn: 0.3571332\ttotal: 1.09s\tremaining: 1.59s\n",
      "408:\tlearn: 0.3569976\ttotal: 1.1s\tremaining: 1.59s\n",
      "409:\tlearn: 0.3568343\ttotal: 1.1s\tremaining: 1.58s\n",
      "410:\tlearn: 0.3566795\ttotal: 1.1s\tremaining: 1.58s\n",
      "411:\tlearn: 0.3564565\ttotal: 1.1s\tremaining: 1.58s\n",
      "412:\tlearn: 0.3562893\ttotal: 1.11s\tremaining: 1.57s\n",
      "413:\tlearn: 0.3560999\ttotal: 1.11s\tremaining: 1.57s\n",
      "414:\tlearn: 0.3559788\ttotal: 1.11s\tremaining: 1.57s\n",
      "415:\tlearn: 0.3557187\ttotal: 1.11s\tremaining: 1.56s\n",
      "416:\tlearn: 0.3555689\ttotal: 1.12s\tremaining: 1.56s\n",
      "417:\tlearn: 0.3554695\ttotal: 1.12s\tremaining: 1.56s\n",
      "418:\tlearn: 0.3551769\ttotal: 1.12s\tremaining: 1.56s\n",
      "419:\tlearn: 0.3550501\ttotal: 1.12s\tremaining: 1.55s\n",
      "420:\tlearn: 0.3549027\ttotal: 1.13s\tremaining: 1.55s\n",
      "421:\tlearn: 0.3547334\ttotal: 1.13s\tremaining: 1.55s\n",
      "422:\tlearn: 0.3546064\ttotal: 1.13s\tremaining: 1.54s\n",
      "423:\tlearn: 0.3544916\ttotal: 1.13s\tremaining: 1.54s\n",
      "424:\tlearn: 0.3542868\ttotal: 1.14s\tremaining: 1.54s\n",
      "425:\tlearn: 0.3541156\ttotal: 1.14s\tremaining: 1.53s\n"
     ]
    },
    {
     "name": "stdout",
     "output_type": "stream",
     "text": [
      "426:\tlearn: 0.3539835\ttotal: 1.14s\tremaining: 1.53s\n",
      "427:\tlearn: 0.3538317\ttotal: 1.14s\tremaining: 1.53s\n",
      "428:\tlearn: 0.3536731\ttotal: 1.15s\tremaining: 1.53s\n",
      "429:\tlearn: 0.3535149\ttotal: 1.15s\tremaining: 1.52s\n",
      "430:\tlearn: 0.3533892\ttotal: 1.15s\tremaining: 1.52s\n",
      "431:\tlearn: 0.3532477\ttotal: 1.15s\tremaining: 1.52s\n",
      "432:\tlearn: 0.3530833\ttotal: 1.16s\tremaining: 1.51s\n",
      "433:\tlearn: 0.3529463\ttotal: 1.16s\tremaining: 1.51s\n",
      "434:\tlearn: 0.3528458\ttotal: 1.16s\tremaining: 1.51s\n",
      "435:\tlearn: 0.3526800\ttotal: 1.16s\tremaining: 1.5s\n",
      "436:\tlearn: 0.3524824\ttotal: 1.17s\tremaining: 1.5s\n",
      "437:\tlearn: 0.3523338\ttotal: 1.17s\tremaining: 1.5s\n",
      "438:\tlearn: 0.3521680\ttotal: 1.17s\tremaining: 1.5s\n",
      "439:\tlearn: 0.3520718\ttotal: 1.17s\tremaining: 1.49s\n",
      "440:\tlearn: 0.3519185\ttotal: 1.18s\tremaining: 1.49s\n",
      "441:\tlearn: 0.3517905\ttotal: 1.18s\tremaining: 1.49s\n",
      "442:\tlearn: 0.3516362\ttotal: 1.18s\tremaining: 1.48s\n",
      "443:\tlearn: 0.3514576\ttotal: 1.18s\tremaining: 1.48s\n",
      "444:\tlearn: 0.3512508\ttotal: 1.19s\tremaining: 1.48s\n",
      "445:\tlearn: 0.3510430\ttotal: 1.19s\tremaining: 1.48s\n",
      "446:\tlearn: 0.3509306\ttotal: 1.19s\tremaining: 1.47s\n",
      "447:\tlearn: 0.3508158\ttotal: 1.19s\tremaining: 1.47s\n",
      "448:\tlearn: 0.3506314\ttotal: 1.19s\tremaining: 1.47s\n",
      "449:\tlearn: 0.3504708\ttotal: 1.2s\tremaining: 1.46s\n",
      "450:\tlearn: 0.3503078\ttotal: 1.2s\tremaining: 1.46s\n",
      "451:\tlearn: 0.3501035\ttotal: 1.2s\tremaining: 1.46s\n",
      "452:\tlearn: 0.3499254\ttotal: 1.2s\tremaining: 1.45s\n",
      "453:\tlearn: 0.3498411\ttotal: 1.21s\tremaining: 1.45s\n",
      "454:\tlearn: 0.3497660\ttotal: 1.21s\tremaining: 1.45s\n",
      "455:\tlearn: 0.3496291\ttotal: 1.21s\tremaining: 1.44s\n",
      "456:\tlearn: 0.3494994\ttotal: 1.21s\tremaining: 1.44s\n",
      "457:\tlearn: 0.3494305\ttotal: 1.22s\tremaining: 1.44s\n",
      "458:\tlearn: 0.3493429\ttotal: 1.22s\tremaining: 1.44s\n",
      "459:\tlearn: 0.3492140\ttotal: 1.22s\tremaining: 1.43s\n",
      "460:\tlearn: 0.3490910\ttotal: 1.22s\tremaining: 1.43s\n",
      "461:\tlearn: 0.3489222\ttotal: 1.23s\tremaining: 1.43s\n",
      "462:\tlearn: 0.3487603\ttotal: 1.23s\tremaining: 1.42s\n",
      "463:\tlearn: 0.3486882\ttotal: 1.23s\tremaining: 1.42s\n",
      "464:\tlearn: 0.3485520\ttotal: 1.23s\tremaining: 1.42s\n",
      "465:\tlearn: 0.3485008\ttotal: 1.23s\tremaining: 1.41s\n",
      "466:\tlearn: 0.3484350\ttotal: 1.24s\tremaining: 1.41s\n",
      "467:\tlearn: 0.3481754\ttotal: 1.24s\tremaining: 1.41s\n",
      "468:\tlearn: 0.3480280\ttotal: 1.24s\tremaining: 1.41s\n",
      "469:\tlearn: 0.3478798\ttotal: 1.24s\tremaining: 1.4s\n",
      "470:\tlearn: 0.3478044\ttotal: 1.25s\tremaining: 1.4s\n",
      "471:\tlearn: 0.3475572\ttotal: 1.25s\tremaining: 1.4s\n",
      "472:\tlearn: 0.3474577\ttotal: 1.25s\tremaining: 1.39s\n",
      "473:\tlearn: 0.3472623\ttotal: 1.25s\tremaining: 1.39s\n"
     ]
    },
    {
     "name": "stdout",
     "output_type": "stream",
     "text": [
      "474:\tlearn: 0.3471079\ttotal: 1.26s\tremaining: 1.39s\n",
      "475:\tlearn: 0.3469601\ttotal: 1.26s\tremaining: 1.39s\n",
      "476:\tlearn: 0.3468049\ttotal: 1.26s\tremaining: 1.38s\n",
      "477:\tlearn: 0.3466457\ttotal: 1.26s\tremaining: 1.38s\n",
      "478:\tlearn: 0.3465043\ttotal: 1.27s\tremaining: 1.38s\n",
      "479:\tlearn: 0.3463414\ttotal: 1.27s\tremaining: 1.37s\n",
      "480:\tlearn: 0.3462582\ttotal: 1.27s\tremaining: 1.37s\n",
      "481:\tlearn: 0.3461868\ttotal: 1.27s\tremaining: 1.37s\n",
      "482:\tlearn: 0.3460268\ttotal: 1.27s\tremaining: 1.36s\n",
      "483:\tlearn: 0.3459018\ttotal: 1.28s\tremaining: 1.36s\n",
      "484:\tlearn: 0.3458057\ttotal: 1.28s\tremaining: 1.36s\n",
      "485:\tlearn: 0.3456719\ttotal: 1.28s\tremaining: 1.36s\n",
      "486:\tlearn: 0.3455466\ttotal: 1.28s\tremaining: 1.35s\n",
      "487:\tlearn: 0.3453660\ttotal: 1.29s\tremaining: 1.35s\n",
      "488:\tlearn: 0.3451948\ttotal: 1.29s\tremaining: 1.35s\n",
      "489:\tlearn: 0.3451122\ttotal: 1.29s\tremaining: 1.34s\n",
      "490:\tlearn: 0.3448858\ttotal: 1.29s\tremaining: 1.34s\n",
      "491:\tlearn: 0.3447451\ttotal: 1.3s\tremaining: 1.34s\n",
      "492:\tlearn: 0.3445927\ttotal: 1.3s\tremaining: 1.34s\n",
      "493:\tlearn: 0.3444689\ttotal: 1.3s\tremaining: 1.33s\n",
      "494:\tlearn: 0.3443692\ttotal: 1.3s\tremaining: 1.33s\n",
      "495:\tlearn: 0.3441721\ttotal: 1.31s\tremaining: 1.33s\n",
      "496:\tlearn: 0.3440807\ttotal: 1.31s\tremaining: 1.33s\n",
      "497:\tlearn: 0.3439140\ttotal: 1.31s\tremaining: 1.32s\n",
      "498:\tlearn: 0.3437510\ttotal: 1.31s\tremaining: 1.32s\n",
      "499:\tlearn: 0.3436992\ttotal: 1.32s\tremaining: 1.32s\n",
      "500:\tlearn: 0.3435930\ttotal: 1.32s\tremaining: 1.31s\n",
      "501:\tlearn: 0.3434972\ttotal: 1.32s\tremaining: 1.31s\n",
      "502:\tlearn: 0.3433921\ttotal: 1.32s\tremaining: 1.31s\n",
      "503:\tlearn: 0.3432785\ttotal: 1.33s\tremaining: 1.3s\n",
      "504:\tlearn: 0.3431399\ttotal: 1.33s\tremaining: 1.3s\n",
      "505:\tlearn: 0.3429236\ttotal: 1.33s\tremaining: 1.3s\n",
      "506:\tlearn: 0.3427916\ttotal: 1.33s\tremaining: 1.3s\n"
     ]
    },
    {
     "name": "stdout",
     "output_type": "stream",
     "text": [
      "507:\tlearn: 0.3426864\ttotal: 1.34s\tremaining: 1.29s\n",
      "508:\tlearn: 0.3425164\ttotal: 1.34s\tremaining: 1.29s\n",
      "509:\tlearn: 0.3423802\ttotal: 1.34s\tremaining: 1.29s\n",
      "510:\tlearn: 0.3422311\ttotal: 1.34s\tremaining: 1.28s\n",
      "511:\tlearn: 0.3421480\ttotal: 1.35s\tremaining: 1.28s\n",
      "512:\tlearn: 0.3420322\ttotal: 1.35s\tremaining: 1.28s\n",
      "513:\tlearn: 0.3419493\ttotal: 1.35s\tremaining: 1.28s\n",
      "514:\tlearn: 0.3418767\ttotal: 1.35s\tremaining: 1.27s\n",
      "515:\tlearn: 0.3416958\ttotal: 1.35s\tremaining: 1.27s\n",
      "516:\tlearn: 0.3413409\ttotal: 1.36s\tremaining: 1.27s\n",
      "517:\tlearn: 0.3412238\ttotal: 1.36s\tremaining: 1.27s\n",
      "518:\tlearn: 0.3410214\ttotal: 1.36s\tremaining: 1.26s\n",
      "519:\tlearn: 0.3408711\ttotal: 1.36s\tremaining: 1.26s\n",
      "520:\tlearn: 0.3407319\ttotal: 1.37s\tremaining: 1.26s\n",
      "521:\tlearn: 0.3406067\ttotal: 1.37s\tremaining: 1.25s\n",
      "522:\tlearn: 0.3404602\ttotal: 1.37s\tremaining: 1.25s\n",
      "523:\tlearn: 0.3403325\ttotal: 1.38s\tremaining: 1.25s\n",
      "524:\tlearn: 0.3401943\ttotal: 1.38s\tremaining: 1.25s\n",
      "525:\tlearn: 0.3400587\ttotal: 1.38s\tremaining: 1.24s\n",
      "526:\tlearn: 0.3399777\ttotal: 1.38s\tremaining: 1.24s\n",
      "527:\tlearn: 0.3398548\ttotal: 1.38s\tremaining: 1.24s\n",
      "528:\tlearn: 0.3397689\ttotal: 1.39s\tremaining: 1.23s\n",
      "529:\tlearn: 0.3395999\ttotal: 1.39s\tremaining: 1.23s\n",
      "530:\tlearn: 0.3394448\ttotal: 1.39s\tremaining: 1.23s\n",
      "531:\tlearn: 0.3392443\ttotal: 1.39s\tremaining: 1.23s\n",
      "532:\tlearn: 0.3390328\ttotal: 1.4s\tremaining: 1.22s\n",
      "533:\tlearn: 0.3389290\ttotal: 1.4s\tremaining: 1.22s\n",
      "534:\tlearn: 0.3387590\ttotal: 1.4s\tremaining: 1.22s\n",
      "535:\tlearn: 0.3386032\ttotal: 1.4s\tremaining: 1.21s\n",
      "536:\tlearn: 0.3385036\ttotal: 1.41s\tremaining: 1.21s\n",
      "537:\tlearn: 0.3383454\ttotal: 1.41s\tremaining: 1.21s\n",
      "538:\tlearn: 0.3381685\ttotal: 1.41s\tremaining: 1.21s\n",
      "539:\tlearn: 0.3381025\ttotal: 1.41s\tremaining: 1.2s\n",
      "540:\tlearn: 0.3379977\ttotal: 1.42s\tremaining: 1.2s\n",
      "541:\tlearn: 0.3378897\ttotal: 1.42s\tremaining: 1.2s\n",
      "542:\tlearn: 0.3377895\ttotal: 1.42s\tremaining: 1.2s\n",
      "543:\tlearn: 0.3375109\ttotal: 1.42s\tremaining: 1.19s\n",
      "544:\tlearn: 0.3374314\ttotal: 1.43s\tremaining: 1.19s\n",
      "545:\tlearn: 0.3373166\ttotal: 1.43s\tremaining: 1.19s\n",
      "546:\tlearn: 0.3372032\ttotal: 1.43s\tremaining: 1.18s\n",
      "547:\tlearn: 0.3370268\ttotal: 1.43s\tremaining: 1.18s\n",
      "548:\tlearn: 0.3368008\ttotal: 1.43s\tremaining: 1.18s\n",
      "549:\tlearn: 0.3366402\ttotal: 1.44s\tremaining: 1.18s\n",
      "550:\tlearn: 0.3365115\ttotal: 1.44s\tremaining: 1.17s\n",
      "551:\tlearn: 0.3364044\ttotal: 1.44s\tremaining: 1.17s\n",
      "552:\tlearn: 0.3363431\ttotal: 1.45s\tremaining: 1.17s\n",
      "553:\tlearn: 0.3361961\ttotal: 1.45s\tremaining: 1.17s\n",
      "554:\tlearn: 0.3359844\ttotal: 1.45s\tremaining: 1.16s\n"
     ]
    },
    {
     "name": "stdout",
     "output_type": "stream",
     "text": [
      "555:\tlearn: 0.3358776\ttotal: 1.45s\tremaining: 1.16s\n",
      "556:\tlearn: 0.3357677\ttotal: 1.45s\tremaining: 1.16s\n",
      "557:\tlearn: 0.3356694\ttotal: 1.46s\tremaining: 1.15s\n",
      "558:\tlearn: 0.3355628\ttotal: 1.46s\tremaining: 1.15s\n",
      "559:\tlearn: 0.3354781\ttotal: 1.46s\tremaining: 1.15s\n",
      "560:\tlearn: 0.3353592\ttotal: 1.46s\tremaining: 1.15s\n",
      "561:\tlearn: 0.3353049\ttotal: 1.47s\tremaining: 1.14s\n",
      "562:\tlearn: 0.3351763\ttotal: 1.47s\tremaining: 1.14s\n",
      "563:\tlearn: 0.3351071\ttotal: 1.47s\tremaining: 1.14s\n",
      "564:\tlearn: 0.3349511\ttotal: 1.47s\tremaining: 1.13s\n",
      "565:\tlearn: 0.3348253\ttotal: 1.48s\tremaining: 1.13s\n",
      "566:\tlearn: 0.3347373\ttotal: 1.48s\tremaining: 1.13s\n",
      "567:\tlearn: 0.3346306\ttotal: 1.48s\tremaining: 1.13s\n",
      "568:\tlearn: 0.3345052\ttotal: 1.48s\tremaining: 1.12s\n",
      "569:\tlearn: 0.3343599\ttotal: 1.49s\tremaining: 1.12s\n",
      "570:\tlearn: 0.3342209\ttotal: 1.49s\tremaining: 1.12s\n",
      "571:\tlearn: 0.3341356\ttotal: 1.49s\tremaining: 1.11s\n",
      "572:\tlearn: 0.3340755\ttotal: 1.49s\tremaining: 1.11s\n",
      "573:\tlearn: 0.3339108\ttotal: 1.49s\tremaining: 1.11s\n",
      "574:\tlearn: 0.3338147\ttotal: 1.5s\tremaining: 1.11s\n",
      "575:\tlearn: 0.3336766\ttotal: 1.5s\tremaining: 1.1s\n",
      "576:\tlearn: 0.3336363\ttotal: 1.5s\tremaining: 1.1s\n",
      "577:\tlearn: 0.3334690\ttotal: 1.5s\tremaining: 1.1s\n",
      "578:\tlearn: 0.3333633\ttotal: 1.51s\tremaining: 1.09s\n",
      "579:\tlearn: 0.3332509\ttotal: 1.51s\tremaining: 1.09s\n",
      "580:\tlearn: 0.3331369\ttotal: 1.51s\tremaining: 1.09s\n",
      "581:\tlearn: 0.3330328\ttotal: 1.51s\tremaining: 1.09s\n",
      "582:\tlearn: 0.3328504\ttotal: 1.52s\tremaining: 1.08s\n",
      "583:\tlearn: 0.3327881\ttotal: 1.52s\tremaining: 1.08s\n",
      "584:\tlearn: 0.3326367\ttotal: 1.52s\tremaining: 1.08s\n",
      "585:\tlearn: 0.3324780\ttotal: 1.52s\tremaining: 1.08s\n",
      "586:\tlearn: 0.3323386\ttotal: 1.53s\tremaining: 1.07s\n",
      "587:\tlearn: 0.3322495\ttotal: 1.53s\tremaining: 1.07s\n"
     ]
    },
    {
     "name": "stdout",
     "output_type": "stream",
     "text": [
      "588:\tlearn: 0.3321361\ttotal: 1.53s\tremaining: 1.07s\n",
      "589:\tlearn: 0.3320088\ttotal: 1.53s\tremaining: 1.07s\n",
      "590:\tlearn: 0.3319004\ttotal: 1.54s\tremaining: 1.06s\n",
      "591:\tlearn: 0.3318209\ttotal: 1.54s\tremaining: 1.06s\n",
      "592:\tlearn: 0.3317154\ttotal: 1.54s\tremaining: 1.06s\n",
      "593:\tlearn: 0.3316106\ttotal: 1.54s\tremaining: 1.06s\n",
      "594:\tlearn: 0.3315131\ttotal: 1.55s\tremaining: 1.05s\n",
      "595:\tlearn: 0.3313348\ttotal: 1.55s\tremaining: 1.05s\n",
      "596:\tlearn: 0.3312134\ttotal: 1.55s\tremaining: 1.05s\n",
      "597:\tlearn: 0.3311128\ttotal: 1.55s\tremaining: 1.04s\n",
      "598:\tlearn: 0.3310441\ttotal: 1.56s\tremaining: 1.04s\n",
      "599:\tlearn: 0.3309048\ttotal: 1.56s\tremaining: 1.04s\n",
      "600:\tlearn: 0.3308424\ttotal: 1.56s\tremaining: 1.04s\n",
      "601:\tlearn: 0.3307757\ttotal: 1.56s\tremaining: 1.03s\n",
      "602:\tlearn: 0.3306835\ttotal: 1.57s\tremaining: 1.03s\n",
      "603:\tlearn: 0.3305454\ttotal: 1.57s\tremaining: 1.03s\n",
      "604:\tlearn: 0.3304521\ttotal: 1.57s\tremaining: 1.03s\n",
      "605:\tlearn: 0.3303093\ttotal: 1.57s\tremaining: 1.02s\n",
      "606:\tlearn: 0.3302450\ttotal: 1.58s\tremaining: 1.02s\n",
      "607:\tlearn: 0.3301066\ttotal: 1.58s\tremaining: 1.02s\n",
      "608:\tlearn: 0.3300323\ttotal: 1.58s\tremaining: 1.01s\n",
      "609:\tlearn: 0.3298906\ttotal: 1.58s\tremaining: 1.01s\n",
      "610:\tlearn: 0.3297893\ttotal: 1.59s\tremaining: 1.01s\n",
      "611:\tlearn: 0.3296803\ttotal: 1.59s\tremaining: 1.01s\n",
      "612:\tlearn: 0.3296070\ttotal: 1.59s\tremaining: 1s\n",
      "613:\tlearn: 0.3295397\ttotal: 1.59s\tremaining: 1s\n",
      "614:\tlearn: 0.3294262\ttotal: 1.6s\tremaining: 999ms\n",
      "615:\tlearn: 0.3293605\ttotal: 1.6s\tremaining: 997ms\n",
      "616:\tlearn: 0.3292465\ttotal: 1.6s\tremaining: 994ms\n",
      "617:\tlearn: 0.3291049\ttotal: 1.6s\tremaining: 991ms\n",
      "618:\tlearn: 0.3289864\ttotal: 1.61s\tremaining: 989ms\n",
      "619:\tlearn: 0.3288931\ttotal: 1.61s\tremaining: 986ms\n",
      "620:\tlearn: 0.3287755\ttotal: 1.61s\tremaining: 983ms\n",
      "621:\tlearn: 0.3286742\ttotal: 1.61s\tremaining: 980ms\n",
      "622:\tlearn: 0.3285552\ttotal: 1.61s\tremaining: 978ms\n",
      "623:\tlearn: 0.3284590\ttotal: 1.62s\tremaining: 975ms\n",
      "624:\tlearn: 0.3284016\ttotal: 1.62s\tremaining: 973ms\n",
      "625:\tlearn: 0.3283264\ttotal: 1.62s\tremaining: 970ms\n",
      "626:\tlearn: 0.3282068\ttotal: 1.63s\tremaining: 967ms\n",
      "627:\tlearn: 0.3281161\ttotal: 1.64s\tremaining: 970ms\n",
      "628:\tlearn: 0.3280227\ttotal: 1.64s\tremaining: 969ms\n",
      "629:\tlearn: 0.3278810\ttotal: 1.65s\tremaining: 967ms\n"
     ]
    },
    {
     "name": "stdout",
     "output_type": "stream",
     "text": [
      "630:\tlearn: 0.3277861\ttotal: 1.65s\tremaining: 967ms\n",
      "631:\tlearn: 0.3276870\ttotal: 1.66s\tremaining: 965ms\n",
      "632:\tlearn: 0.3275574\ttotal: 1.66s\tremaining: 962ms\n",
      "633:\tlearn: 0.3275153\ttotal: 1.66s\tremaining: 960ms\n",
      "634:\tlearn: 0.3273969\ttotal: 1.66s\tremaining: 957ms\n",
      "635:\tlearn: 0.3272937\ttotal: 1.67s\tremaining: 954ms\n",
      "636:\tlearn: 0.3271326\ttotal: 1.67s\tremaining: 951ms\n",
      "637:\tlearn: 0.3270346\ttotal: 1.67s\tremaining: 949ms\n",
      "638:\tlearn: 0.3269443\ttotal: 1.67s\tremaining: 946ms\n",
      "639:\tlearn: 0.3268064\ttotal: 1.68s\tremaining: 943ms\n",
      "640:\tlearn: 0.3267138\ttotal: 1.68s\tremaining: 940ms\n",
      "641:\tlearn: 0.3266435\ttotal: 1.68s\tremaining: 938ms\n",
      "642:\tlearn: 0.3264228\ttotal: 1.68s\tremaining: 935ms\n",
      "643:\tlearn: 0.3263000\ttotal: 1.69s\tremaining: 932ms\n",
      "644:\tlearn: 0.3261500\ttotal: 1.69s\tremaining: 929ms\n",
      "645:\tlearn: 0.3260278\ttotal: 1.69s\tremaining: 926ms\n",
      "646:\tlearn: 0.3259565\ttotal: 1.69s\tremaining: 924ms\n",
      "647:\tlearn: 0.3258869\ttotal: 1.7s\tremaining: 921ms\n",
      "648:\tlearn: 0.3257774\ttotal: 1.7s\tremaining: 918ms\n",
      "649:\tlearn: 0.3256517\ttotal: 1.7s\tremaining: 915ms\n",
      "650:\tlearn: 0.3255184\ttotal: 1.7s\tremaining: 913ms\n",
      "651:\tlearn: 0.3253795\ttotal: 1.7s\tremaining: 910ms\n",
      "652:\tlearn: 0.3252957\ttotal: 1.71s\tremaining: 907ms\n",
      "653:\tlearn: 0.3251633\ttotal: 1.71s\tremaining: 904ms\n",
      "654:\tlearn: 0.3250324\ttotal: 1.71s\tremaining: 901ms\n",
      "655:\tlearn: 0.3249622\ttotal: 1.71s\tremaining: 899ms\n",
      "656:\tlearn: 0.3248670\ttotal: 1.72s\tremaining: 896ms\n",
      "657:\tlearn: 0.3247268\ttotal: 1.72s\tremaining: 894ms\n",
      "658:\tlearn: 0.3246111\ttotal: 1.72s\tremaining: 891ms\n",
      "659:\tlearn: 0.3245318\ttotal: 1.72s\tremaining: 888ms\n",
      "660:\tlearn: 0.3244438\ttotal: 1.73s\tremaining: 885ms\n"
     ]
    },
    {
     "name": "stdout",
     "output_type": "stream",
     "text": [
      "661:\tlearn: 0.3243573\ttotal: 1.73s\tremaining: 883ms\n",
      "662:\tlearn: 0.3242710\ttotal: 1.73s\tremaining: 880ms\n",
      "663:\tlearn: 0.3242272\ttotal: 1.73s\tremaining: 877ms\n",
      "664:\tlearn: 0.3241556\ttotal: 1.74s\tremaining: 875ms\n",
      "665:\tlearn: 0.3240861\ttotal: 1.74s\tremaining: 872ms\n",
      "666:\tlearn: 0.3240362\ttotal: 1.74s\tremaining: 869ms\n",
      "667:\tlearn: 0.3238951\ttotal: 1.74s\tremaining: 867ms\n",
      "668:\tlearn: 0.3238185\ttotal: 1.75s\tremaining: 864ms\n",
      "669:\tlearn: 0.3236921\ttotal: 1.75s\tremaining: 861ms\n",
      "670:\tlearn: 0.3235978\ttotal: 1.75s\tremaining: 858ms\n",
      "671:\tlearn: 0.3234484\ttotal: 1.75s\tremaining: 856ms\n",
      "672:\tlearn: 0.3233422\ttotal: 1.75s\tremaining: 853ms\n",
      "673:\tlearn: 0.3230706\ttotal: 1.76s\tremaining: 851ms\n",
      "674:\tlearn: 0.3229630\ttotal: 1.76s\tremaining: 848ms\n",
      "675:\tlearn: 0.3228432\ttotal: 1.76s\tremaining: 845ms\n",
      "676:\tlearn: 0.3227497\ttotal: 1.76s\tremaining: 842ms\n",
      "677:\tlearn: 0.3225514\ttotal: 1.77s\tremaining: 840ms\n",
      "678:\tlearn: 0.3224688\ttotal: 1.77s\tremaining: 837ms\n",
      "679:\tlearn: 0.3223867\ttotal: 1.77s\tremaining: 834ms\n",
      "680:\tlearn: 0.3222418\ttotal: 1.77s\tremaining: 831ms\n",
      "681:\tlearn: 0.3221267\ttotal: 1.78s\tremaining: 829ms\n",
      "682:\tlearn: 0.3220204\ttotal: 1.78s\tremaining: 826ms\n",
      "683:\tlearn: 0.3219187\ttotal: 1.78s\tremaining: 823ms\n",
      "684:\tlearn: 0.3218342\ttotal: 1.78s\tremaining: 820ms\n",
      "685:\tlearn: 0.3217239\ttotal: 1.79s\tremaining: 818ms\n",
      "686:\tlearn: 0.3216636\ttotal: 1.79s\tremaining: 815ms\n",
      "687:\tlearn: 0.3214268\ttotal: 1.79s\tremaining: 813ms\n",
      "688:\tlearn: 0.3213097\ttotal: 1.79s\tremaining: 810ms\n",
      "689:\tlearn: 0.3212105\ttotal: 1.8s\tremaining: 807ms\n",
      "690:\tlearn: 0.3211153\ttotal: 1.8s\tremaining: 804ms\n",
      "691:\tlearn: 0.3210526\ttotal: 1.8s\tremaining: 802ms\n",
      "692:\tlearn: 0.3208822\ttotal: 1.8s\tremaining: 799ms\n",
      "693:\tlearn: 0.3207686\ttotal: 1.81s\tremaining: 796ms\n",
      "694:\tlearn: 0.3206968\ttotal: 1.81s\tremaining: 794ms\n",
      "695:\tlearn: 0.3205942\ttotal: 1.81s\tremaining: 791ms\n",
      "696:\tlearn: 0.3205091\ttotal: 1.81s\tremaining: 789ms\n",
      "697:\tlearn: 0.3203609\ttotal: 1.82s\tremaining: 786ms\n",
      "698:\tlearn: 0.3202920\ttotal: 1.82s\tremaining: 783ms\n",
      "699:\tlearn: 0.3202157\ttotal: 1.82s\tremaining: 780ms\n",
      "700:\tlearn: 0.3201364\ttotal: 1.82s\tremaining: 777ms\n",
      "701:\tlearn: 0.3200477\ttotal: 1.82s\tremaining: 775ms\n",
      "702:\tlearn: 0.3199830\ttotal: 1.83s\tremaining: 772ms\n",
      "703:\tlearn: 0.3198962\ttotal: 1.83s\tremaining: 770ms\n",
      "704:\tlearn: 0.3198366\ttotal: 1.83s\tremaining: 767ms\n",
      "705:\tlearn: 0.3197595\ttotal: 1.83s\tremaining: 765ms\n",
      "706:\tlearn: 0.3196877\ttotal: 1.84s\tremaining: 762ms\n",
      "707:\tlearn: 0.3195674\ttotal: 1.84s\tremaining: 759ms\n",
      "708:\tlearn: 0.3194434\ttotal: 1.84s\tremaining: 757ms\n",
      "709:\tlearn: 0.3193474\ttotal: 1.84s\tremaining: 754ms\n",
      "710:\tlearn: 0.3192824\ttotal: 1.85s\tremaining: 751ms\n"
     ]
    },
    {
     "name": "stdout",
     "output_type": "stream",
     "text": [
      "711:\tlearn: 0.3192070\ttotal: 1.85s\tremaining: 748ms\n",
      "712:\tlearn: 0.3191038\ttotal: 1.85s\tremaining: 746ms\n",
      "713:\tlearn: 0.3189851\ttotal: 1.85s\tremaining: 743ms\n",
      "714:\tlearn: 0.3188916\ttotal: 1.86s\tremaining: 741ms\n",
      "715:\tlearn: 0.3187722\ttotal: 1.86s\tremaining: 738ms\n",
      "716:\tlearn: 0.3186721\ttotal: 1.86s\tremaining: 735ms\n",
      "717:\tlearn: 0.3186202\ttotal: 1.86s\tremaining: 733ms\n",
      "718:\tlearn: 0.3184335\ttotal: 1.87s\tremaining: 730ms\n",
      "719:\tlearn: 0.3183172\ttotal: 1.87s\tremaining: 727ms\n",
      "720:\tlearn: 0.3182440\ttotal: 1.87s\tremaining: 725ms\n",
      "721:\tlearn: 0.3181845\ttotal: 1.88s\tremaining: 722ms\n",
      "722:\tlearn: 0.3180131\ttotal: 1.88s\tremaining: 719ms\n",
      "723:\tlearn: 0.3179023\ttotal: 1.88s\tremaining: 717ms\n",
      "724:\tlearn: 0.3177960\ttotal: 1.88s\tremaining: 714ms\n",
      "725:\tlearn: 0.3176633\ttotal: 1.88s\tremaining: 711ms\n",
      "726:\tlearn: 0.3175816\ttotal: 1.89s\tremaining: 709ms\n",
      "727:\tlearn: 0.3174754\ttotal: 1.89s\tremaining: 706ms\n",
      "728:\tlearn: 0.3173848\ttotal: 1.89s\tremaining: 703ms\n",
      "729:\tlearn: 0.3173225\ttotal: 1.89s\tremaining: 700ms\n",
      "730:\tlearn: 0.3172259\ttotal: 1.9s\tremaining: 698ms\n",
      "731:\tlearn: 0.3171250\ttotal: 1.9s\tremaining: 695ms\n",
      "732:\tlearn: 0.3170304\ttotal: 1.9s\tremaining: 693ms\n",
      "733:\tlearn: 0.3169495\ttotal: 1.9s\tremaining: 690ms\n",
      "734:\tlearn: 0.3167924\ttotal: 1.91s\tremaining: 688ms\n",
      "735:\tlearn: 0.3166692\ttotal: 1.91s\tremaining: 685ms\n",
      "736:\tlearn: 0.3166011\ttotal: 1.91s\tremaining: 683ms\n",
      "737:\tlearn: 0.3164651\ttotal: 1.91s\tremaining: 680ms\n",
      "738:\tlearn: 0.3163512\ttotal: 1.92s\tremaining: 677ms\n",
      "739:\tlearn: 0.3162685\ttotal: 1.92s\tremaining: 674ms\n",
      "740:\tlearn: 0.3161215\ttotal: 1.92s\tremaining: 672ms\n"
     ]
    },
    {
     "name": "stdout",
     "output_type": "stream",
     "text": [
      "741:\tlearn: 0.3160332\ttotal: 1.92s\tremaining: 669ms\n",
      "742:\tlearn: 0.3159389\ttotal: 1.93s\tremaining: 667ms\n",
      "743:\tlearn: 0.3158898\ttotal: 1.93s\tremaining: 664ms\n",
      "744:\tlearn: 0.3158433\ttotal: 1.93s\tremaining: 661ms\n",
      "745:\tlearn: 0.3158013\ttotal: 1.93s\tremaining: 659ms\n",
      "746:\tlearn: 0.3156793\ttotal: 1.94s\tremaining: 656ms\n",
      "747:\tlearn: 0.3156075\ttotal: 1.94s\tremaining: 653ms\n",
      "748:\tlearn: 0.3155237\ttotal: 1.94s\tremaining: 651ms\n",
      "749:\tlearn: 0.3154441\ttotal: 1.94s\tremaining: 648ms\n",
      "750:\tlearn: 0.3153965\ttotal: 1.95s\tremaining: 645ms\n",
      "751:\tlearn: 0.3153033\ttotal: 1.95s\tremaining: 643ms\n",
      "752:\tlearn: 0.3152025\ttotal: 1.95s\tremaining: 640ms\n",
      "753:\tlearn: 0.3151557\ttotal: 1.95s\tremaining: 637ms\n",
      "754:\tlearn: 0.3151152\ttotal: 1.96s\tremaining: 635ms\n",
      "755:\tlearn: 0.3150351\ttotal: 1.96s\tremaining: 632ms\n",
      "756:\tlearn: 0.3149784\ttotal: 1.96s\tremaining: 629ms\n",
      "757:\tlearn: 0.3148796\ttotal: 1.96s\tremaining: 627ms\n",
      "758:\tlearn: 0.3148081\ttotal: 1.96s\tremaining: 624ms\n",
      "759:\tlearn: 0.3147048\ttotal: 1.97s\tremaining: 621ms\n",
      "760:\tlearn: 0.3146044\ttotal: 1.97s\tremaining: 619ms\n",
      "761:\tlearn: 0.3145400\ttotal: 1.97s\tremaining: 616ms\n",
      "762:\tlearn: 0.3144767\ttotal: 1.98s\tremaining: 614ms\n",
      "763:\tlearn: 0.3144227\ttotal: 1.98s\tremaining: 611ms\n",
      "764:\tlearn: 0.3143301\ttotal: 1.98s\tremaining: 608ms\n",
      "765:\tlearn: 0.3142755\ttotal: 1.98s\tremaining: 605ms\n",
      "766:\tlearn: 0.3141656\ttotal: 1.98s\tremaining: 603ms\n",
      "767:\tlearn: 0.3140702\ttotal: 1.99s\tremaining: 600ms\n",
      "768:\tlearn: 0.3139848\ttotal: 1.99s\tremaining: 598ms\n",
      "769:\tlearn: 0.3138865\ttotal: 1.99s\tremaining: 595ms\n",
      "770:\tlearn: 0.3138212\ttotal: 1.99s\tremaining: 592ms\n",
      "771:\tlearn: 0.3137579\ttotal: 2s\tremaining: 590ms\n",
      "772:\tlearn: 0.3136909\ttotal: 2s\tremaining: 587ms\n",
      "773:\tlearn: 0.3136054\ttotal: 2s\tremaining: 584ms\n",
      "774:\tlearn: 0.3134669\ttotal: 2s\tremaining: 582ms\n",
      "775:\tlearn: 0.3133757\ttotal: 2.01s\tremaining: 579ms\n",
      "776:\tlearn: 0.3133237\ttotal: 2.01s\tremaining: 576ms\n",
      "777:\tlearn: 0.3132449\ttotal: 2.01s\tremaining: 574ms\n",
      "778:\tlearn: 0.3131785\ttotal: 2.01s\tremaining: 571ms\n",
      "779:\tlearn: 0.3130902\ttotal: 2.02s\tremaining: 569ms\n",
      "780:\tlearn: 0.3129841\ttotal: 2.02s\tremaining: 566ms\n",
      "781:\tlearn: 0.3129224\ttotal: 2.02s\tremaining: 563ms\n",
      "782:\tlearn: 0.3128623\ttotal: 2.02s\tremaining: 561ms\n",
      "783:\tlearn: 0.3126976\ttotal: 2.02s\tremaining: 558ms\n",
      "784:\tlearn: 0.3126420\ttotal: 2.03s\tremaining: 556ms\n",
      "785:\tlearn: 0.3125431\ttotal: 2.03s\tremaining: 553ms\n",
      "786:\tlearn: 0.3124980\ttotal: 2.03s\tremaining: 550ms\n",
      "787:\tlearn: 0.3123770\ttotal: 2.04s\tremaining: 548ms\n",
      "788:\tlearn: 0.3122888\ttotal: 2.04s\tremaining: 545ms\n",
      "789:\tlearn: 0.3121940\ttotal: 2.04s\tremaining: 542ms\n",
      "790:\tlearn: 0.3120869\ttotal: 2.04s\tremaining: 540ms\n"
     ]
    },
    {
     "name": "stdout",
     "output_type": "stream",
     "text": [
      "791:\tlearn: 0.3119763\ttotal: 2.04s\tremaining: 537ms\n",
      "792:\tlearn: 0.3118811\ttotal: 2.05s\tremaining: 535ms\n",
      "793:\tlearn: 0.3118140\ttotal: 2.05s\tremaining: 532ms\n",
      "794:\tlearn: 0.3117679\ttotal: 2.05s\tremaining: 529ms\n",
      "795:\tlearn: 0.3117267\ttotal: 2.06s\tremaining: 527ms\n",
      "796:\tlearn: 0.3116376\ttotal: 2.06s\tremaining: 524ms\n",
      "797:\tlearn: 0.3115458\ttotal: 2.06s\tremaining: 521ms\n",
      "798:\tlearn: 0.3114431\ttotal: 2.06s\tremaining: 519ms\n",
      "799:\tlearn: 0.3113675\ttotal: 2.06s\tremaining: 516ms\n",
      "800:\tlearn: 0.3112552\ttotal: 2.07s\tremaining: 514ms\n",
      "801:\tlearn: 0.3112050\ttotal: 2.07s\tremaining: 511ms\n",
      "802:\tlearn: 0.3111752\ttotal: 2.07s\tremaining: 508ms\n",
      "803:\tlearn: 0.3111001\ttotal: 2.07s\tremaining: 506ms\n",
      "804:\tlearn: 0.3109731\ttotal: 2.08s\tremaining: 503ms\n",
      "805:\tlearn: 0.3108410\ttotal: 2.08s\tremaining: 500ms\n",
      "806:\tlearn: 0.3107471\ttotal: 2.08s\tremaining: 498ms\n",
      "807:\tlearn: 0.3105914\ttotal: 2.08s\tremaining: 495ms\n",
      "808:\tlearn: 0.3105129\ttotal: 2.09s\tremaining: 493ms\n",
      "809:\tlearn: 0.3103769\ttotal: 2.09s\tremaining: 490ms\n",
      "810:\tlearn: 0.3102949\ttotal: 2.09s\tremaining: 487ms\n",
      "811:\tlearn: 0.3101932\ttotal: 2.09s\tremaining: 485ms\n",
      "812:\tlearn: 0.3101023\ttotal: 2.1s\tremaining: 482ms\n",
      "813:\tlearn: 0.3100099\ttotal: 2.1s\tremaining: 479ms\n",
      "814:\tlearn: 0.3099293\ttotal: 2.1s\tremaining: 477ms\n",
      "815:\tlearn: 0.3098025\ttotal: 2.1s\tremaining: 474ms\n",
      "816:\tlearn: 0.3097134\ttotal: 2.1s\tremaining: 472ms\n",
      "817:\tlearn: 0.3096444\ttotal: 2.11s\tremaining: 469ms\n",
      "818:\tlearn: 0.3095745\ttotal: 2.11s\tremaining: 466ms\n",
      "819:\tlearn: 0.3095115\ttotal: 2.11s\tremaining: 464ms\n",
      "820:\tlearn: 0.3093832\ttotal: 2.12s\tremaining: 461ms\n",
      "821:\tlearn: 0.3093081\ttotal: 2.12s\tremaining: 459ms\n"
     ]
    },
    {
     "name": "stdout",
     "output_type": "stream",
     "text": [
      "822:\tlearn: 0.3091990\ttotal: 2.12s\tremaining: 456ms\n",
      "823:\tlearn: 0.3091189\ttotal: 2.12s\tremaining: 453ms\n",
      "824:\tlearn: 0.3089969\ttotal: 2.12s\tremaining: 451ms\n",
      "825:\tlearn: 0.3088872\ttotal: 2.13s\tremaining: 448ms\n",
      "826:\tlearn: 0.3088373\ttotal: 2.13s\tremaining: 445ms\n",
      "827:\tlearn: 0.3087863\ttotal: 2.13s\tremaining: 443ms\n",
      "828:\tlearn: 0.3087279\ttotal: 2.13s\tremaining: 440ms\n",
      "829:\tlearn: 0.3086720\ttotal: 2.14s\tremaining: 438ms\n",
      "830:\tlearn: 0.3085491\ttotal: 2.14s\tremaining: 435ms\n",
      "831:\tlearn: 0.3084706\ttotal: 2.14s\tremaining: 432ms\n",
      "832:\tlearn: 0.3084164\ttotal: 2.14s\tremaining: 430ms\n",
      "833:\tlearn: 0.3083247\ttotal: 2.15s\tremaining: 427ms\n",
      "834:\tlearn: 0.3082472\ttotal: 2.15s\tremaining: 425ms\n",
      "835:\tlearn: 0.3081680\ttotal: 2.15s\tremaining: 422ms\n",
      "836:\tlearn: 0.3080661\ttotal: 2.15s\tremaining: 420ms\n",
      "837:\tlearn: 0.3079457\ttotal: 2.16s\tremaining: 417ms\n",
      "838:\tlearn: 0.3078780\ttotal: 2.16s\tremaining: 414ms\n",
      "839:\tlearn: 0.3077776\ttotal: 2.16s\tremaining: 412ms\n",
      "840:\tlearn: 0.3077084\ttotal: 2.16s\tremaining: 409ms\n",
      "841:\tlearn: 0.3075910\ttotal: 2.17s\tremaining: 407ms\n",
      "842:\tlearn: 0.3075114\ttotal: 2.17s\tremaining: 404ms\n",
      "843:\tlearn: 0.3074015\ttotal: 2.17s\tremaining: 401ms\n",
      "844:\tlearn: 0.3072854\ttotal: 2.17s\tremaining: 399ms\n",
      "845:\tlearn: 0.3072332\ttotal: 2.18s\tremaining: 396ms\n",
      "846:\tlearn: 0.3071843\ttotal: 2.18s\tremaining: 394ms\n",
      "847:\tlearn: 0.3071066\ttotal: 2.18s\tremaining: 391ms\n",
      "848:\tlearn: 0.3070382\ttotal: 2.18s\tremaining: 388ms\n",
      "849:\tlearn: 0.3069763\ttotal: 2.19s\tremaining: 386ms\n",
      "850:\tlearn: 0.3068705\ttotal: 2.19s\tremaining: 383ms\n",
      "851:\tlearn: 0.3067825\ttotal: 2.19s\tremaining: 381ms\n",
      "852:\tlearn: 0.3067206\ttotal: 2.19s\tremaining: 378ms\n",
      "853:\tlearn: 0.3066117\ttotal: 2.2s\tremaining: 375ms\n",
      "854:\tlearn: 0.3065347\ttotal: 2.2s\tremaining: 373ms\n",
      "855:\tlearn: 0.3064693\ttotal: 2.2s\tremaining: 370ms\n",
      "856:\tlearn: 0.3063749\ttotal: 2.2s\tremaining: 368ms\n",
      "857:\tlearn: 0.3063246\ttotal: 2.21s\tremaining: 365ms\n",
      "858:\tlearn: 0.3062506\ttotal: 2.21s\tremaining: 363ms\n",
      "859:\tlearn: 0.3061714\ttotal: 2.21s\tremaining: 360ms\n",
      "860:\tlearn: 0.3061213\ttotal: 2.21s\tremaining: 357ms\n",
      "861:\tlearn: 0.3060154\ttotal: 2.22s\tremaining: 355ms\n",
      "862:\tlearn: 0.3059585\ttotal: 2.22s\tremaining: 352ms\n",
      "863:\tlearn: 0.3058763\ttotal: 2.22s\tremaining: 350ms\n",
      "864:\tlearn: 0.3058002\ttotal: 2.22s\tremaining: 347ms\n",
      "865:\tlearn: 0.3056754\ttotal: 2.23s\tremaining: 344ms\n",
      "866:\tlearn: 0.3055943\ttotal: 2.23s\tremaining: 342ms\n",
      "867:\tlearn: 0.3055289\ttotal: 2.23s\tremaining: 339ms\n",
      "868:\tlearn: 0.3054345\ttotal: 2.23s\tremaining: 337ms\n",
      "869:\tlearn: 0.3053657\ttotal: 2.24s\tremaining: 334ms\n",
      "870:\tlearn: 0.3052969\ttotal: 2.24s\tremaining: 332ms\n"
     ]
    },
    {
     "name": "stdout",
     "output_type": "stream",
     "text": [
      "871:\tlearn: 0.3051982\ttotal: 2.24s\tremaining: 329ms\n",
      "872:\tlearn: 0.3051482\ttotal: 2.24s\tremaining: 327ms\n",
      "873:\tlearn: 0.3050457\ttotal: 2.25s\tremaining: 324ms\n",
      "874:\tlearn: 0.3049672\ttotal: 2.25s\tremaining: 321ms\n",
      "875:\tlearn: 0.3049077\ttotal: 2.25s\tremaining: 319ms\n",
      "876:\tlearn: 0.3048163\ttotal: 2.26s\tremaining: 317ms\n",
      "877:\tlearn: 0.3047006\ttotal: 2.26s\tremaining: 314ms\n",
      "878:\tlearn: 0.3045288\ttotal: 2.26s\tremaining: 312ms\n",
      "879:\tlearn: 0.3044432\ttotal: 2.27s\tremaining: 309ms\n",
      "880:\tlearn: 0.3043454\ttotal: 2.27s\tremaining: 307ms\n",
      "881:\tlearn: 0.3042155\ttotal: 2.27s\tremaining: 304ms\n",
      "882:\tlearn: 0.3041620\ttotal: 2.27s\tremaining: 301ms\n",
      "883:\tlearn: 0.3041142\ttotal: 2.28s\tremaining: 299ms\n",
      "884:\tlearn: 0.3040625\ttotal: 2.28s\tremaining: 296ms\n",
      "885:\tlearn: 0.3039903\ttotal: 2.28s\tremaining: 294ms\n",
      "886:\tlearn: 0.3039246\ttotal: 2.29s\tremaining: 291ms\n",
      "887:\tlearn: 0.3038477\ttotal: 2.29s\tremaining: 289ms\n",
      "888:\tlearn: 0.3037701\ttotal: 2.29s\tremaining: 286ms\n",
      "889:\tlearn: 0.3037352\ttotal: 2.29s\tremaining: 283ms\n",
      "890:\tlearn: 0.3036316\ttotal: 2.29s\tremaining: 281ms\n",
      "891:\tlearn: 0.3035638\ttotal: 2.3s\tremaining: 278ms\n",
      "892:\tlearn: 0.3034592\ttotal: 2.3s\tremaining: 276ms\n",
      "893:\tlearn: 0.3033918\ttotal: 2.3s\tremaining: 273ms\n",
      "894:\tlearn: 0.3033039\ttotal: 2.31s\tremaining: 270ms\n",
      "895:\tlearn: 0.3032367\ttotal: 2.31s\tremaining: 268ms\n",
      "896:\tlearn: 0.3031736\ttotal: 2.31s\tremaining: 265ms\n",
      "897:\tlearn: 0.3030767\ttotal: 2.31s\tremaining: 263ms\n"
     ]
    },
    {
     "name": "stdout",
     "output_type": "stream",
     "text": [
      "898:\tlearn: 0.3029463\ttotal: 2.31s\tremaining: 260ms\n",
      "899:\tlearn: 0.3028821\ttotal: 2.32s\tremaining: 257ms\n",
      "900:\tlearn: 0.3028320\ttotal: 2.32s\tremaining: 255ms\n",
      "901:\tlearn: 0.3027469\ttotal: 2.32s\tremaining: 252ms\n",
      "902:\tlearn: 0.3026724\ttotal: 2.32s\tremaining: 250ms\n",
      "903:\tlearn: 0.3025158\ttotal: 2.33s\tremaining: 247ms\n",
      "904:\tlearn: 0.3024479\ttotal: 2.33s\tremaining: 245ms\n",
      "905:\tlearn: 0.3023469\ttotal: 2.33s\tremaining: 242ms\n",
      "906:\tlearn: 0.3022372\ttotal: 2.33s\tremaining: 239ms\n",
      "907:\tlearn: 0.3021349\ttotal: 2.34s\tremaining: 237ms\n",
      "908:\tlearn: 0.3020245\ttotal: 2.34s\tremaining: 234ms\n",
      "909:\tlearn: 0.3019363\ttotal: 2.34s\tremaining: 232ms\n",
      "910:\tlearn: 0.3018243\ttotal: 2.34s\tremaining: 229ms\n",
      "911:\tlearn: 0.3017338\ttotal: 2.35s\tremaining: 226ms\n",
      "912:\tlearn: 0.3016563\ttotal: 2.35s\tremaining: 224ms\n",
      "913:\tlearn: 0.3015886\ttotal: 2.35s\tremaining: 221ms\n",
      "914:\tlearn: 0.3015247\ttotal: 2.35s\tremaining: 219ms\n",
      "915:\tlearn: 0.3014523\ttotal: 2.36s\tremaining: 216ms\n",
      "916:\tlearn: 0.3014012\ttotal: 2.36s\tremaining: 214ms\n",
      "917:\tlearn: 0.3013115\ttotal: 2.36s\tremaining: 211ms\n",
      "918:\tlearn: 0.3012529\ttotal: 2.36s\tremaining: 208ms\n",
      "919:\tlearn: 0.3011456\ttotal: 2.37s\tremaining: 206ms\n",
      "920:\tlearn: 0.3011016\ttotal: 2.37s\tremaining: 203ms\n",
      "921:\tlearn: 0.3010531\ttotal: 2.37s\tremaining: 201ms\n",
      "922:\tlearn: 0.3009775\ttotal: 2.37s\tremaining: 198ms\n",
      "923:\tlearn: 0.3009006\ttotal: 2.38s\tremaining: 195ms\n",
      "924:\tlearn: 0.3008355\ttotal: 2.38s\tremaining: 193ms\n",
      "925:\tlearn: 0.3007812\ttotal: 2.38s\tremaining: 190ms\n",
      "926:\tlearn: 0.3006917\ttotal: 2.38s\tremaining: 188ms\n",
      "927:\tlearn: 0.3006058\ttotal: 2.38s\tremaining: 185ms\n",
      "928:\tlearn: 0.3005382\ttotal: 2.39s\tremaining: 182ms\n",
      "929:\tlearn: 0.3004383\ttotal: 2.39s\tremaining: 180ms\n",
      "930:\tlearn: 0.3003307\ttotal: 2.39s\tremaining: 177ms\n",
      "931:\tlearn: 0.3002703\ttotal: 2.39s\tremaining: 175ms\n",
      "932:\tlearn: 0.3002209\ttotal: 2.4s\tremaining: 172ms\n",
      "933:\tlearn: 0.3001695\ttotal: 2.4s\tremaining: 170ms\n",
      "934:\tlearn: 0.3000795\ttotal: 2.4s\tremaining: 167ms\n",
      "935:\tlearn: 0.2999913\ttotal: 2.4s\tremaining: 164ms\n",
      "936:\tlearn: 0.2999595\ttotal: 2.41s\tremaining: 162ms\n",
      "937:\tlearn: 0.2998954\ttotal: 2.41s\tremaining: 159ms\n",
      "938:\tlearn: 0.2998047\ttotal: 2.41s\tremaining: 157ms\n",
      "939:\tlearn: 0.2997309\ttotal: 2.41s\tremaining: 154ms\n",
      "940:\tlearn: 0.2996285\ttotal: 2.42s\tremaining: 151ms\n",
      "941:\tlearn: 0.2995358\ttotal: 2.42s\tremaining: 149ms\n",
      "942:\tlearn: 0.2994511\ttotal: 2.42s\tremaining: 146ms\n",
      "943:\tlearn: 0.2993091\ttotal: 2.42s\tremaining: 144ms\n",
      "944:\tlearn: 0.2992291\ttotal: 2.42s\tremaining: 141ms\n",
      "945:\tlearn: 0.2991744\ttotal: 2.43s\tremaining: 139ms\n",
      "946:\tlearn: 0.2990926\ttotal: 2.43s\tremaining: 136ms\n",
      "947:\tlearn: 0.2990108\ttotal: 2.43s\tremaining: 133ms\n",
      "948:\tlearn: 0.2989009\ttotal: 2.44s\tremaining: 131ms\n"
     ]
    },
    {
     "name": "stdout",
     "output_type": "stream",
     "text": [
      "949:\tlearn: 0.2988143\ttotal: 2.44s\tremaining: 128ms\n",
      "950:\tlearn: 0.2987394\ttotal: 2.44s\tremaining: 126ms\n",
      "951:\tlearn: 0.2986547\ttotal: 2.44s\tremaining: 123ms\n",
      "952:\tlearn: 0.2985558\ttotal: 2.45s\tremaining: 121ms\n",
      "953:\tlearn: 0.2984932\ttotal: 2.45s\tremaining: 118ms\n",
      "954:\tlearn: 0.2984275\ttotal: 2.45s\tremaining: 116ms\n",
      "955:\tlearn: 0.2983679\ttotal: 2.45s\tremaining: 113ms\n",
      "956:\tlearn: 0.2982906\ttotal: 2.46s\tremaining: 110ms\n",
      "957:\tlearn: 0.2982177\ttotal: 2.46s\tremaining: 108ms\n",
      "958:\tlearn: 0.2981099\ttotal: 2.46s\tremaining: 105ms\n",
      "959:\tlearn: 0.2980340\ttotal: 2.46s\tremaining: 103ms\n",
      "960:\tlearn: 0.2979573\ttotal: 2.47s\tremaining: 100ms\n",
      "961:\tlearn: 0.2978956\ttotal: 2.47s\tremaining: 97.6ms\n",
      "962:\tlearn: 0.2978352\ttotal: 2.47s\tremaining: 95ms\n",
      "963:\tlearn: 0.2976701\ttotal: 2.48s\tremaining: 92.4ms\n",
      "964:\tlearn: 0.2975683\ttotal: 2.48s\tremaining: 89.9ms\n",
      "965:\tlearn: 0.2975268\ttotal: 2.48s\tremaining: 87.3ms\n",
      "966:\tlearn: 0.2974196\ttotal: 2.48s\tremaining: 84.7ms\n",
      "967:\tlearn: 0.2973247\ttotal: 2.48s\tremaining: 82.1ms\n",
      "968:\tlearn: 0.2972647\ttotal: 2.49s\tremaining: 79.6ms\n",
      "969:\tlearn: 0.2971630\ttotal: 2.49s\tremaining: 77ms\n",
      "970:\tlearn: 0.2970659\ttotal: 2.49s\tremaining: 74.4ms\n",
      "971:\tlearn: 0.2969863\ttotal: 2.49s\tremaining: 71.8ms\n",
      "972:\tlearn: 0.2969001\ttotal: 2.5s\tremaining: 69.3ms\n",
      "973:\tlearn: 0.2967747\ttotal: 2.5s\tremaining: 66.7ms\n",
      "974:\tlearn: 0.2966793\ttotal: 2.5s\tremaining: 64.1ms\n",
      "975:\tlearn: 0.2966036\ttotal: 2.5s\tremaining: 61.6ms\n",
      "976:\tlearn: 0.2965380\ttotal: 2.5s\tremaining: 59ms\n"
     ]
    },
    {
     "name": "stdout",
     "output_type": "stream",
     "text": [
      "977:\tlearn: 0.2964682\ttotal: 2.51s\tremaining: 56.4ms\n",
      "978:\tlearn: 0.2963570\ttotal: 2.51s\tremaining: 53.9ms\n",
      "979:\tlearn: 0.2962546\ttotal: 2.51s\tremaining: 51.3ms\n",
      "980:\tlearn: 0.2961542\ttotal: 2.52s\tremaining: 48.7ms\n",
      "981:\tlearn: 0.2960884\ttotal: 2.52s\tremaining: 46.2ms\n",
      "982:\tlearn: 0.2960119\ttotal: 2.52s\tremaining: 43.6ms\n",
      "983:\tlearn: 0.2959163\ttotal: 2.52s\tremaining: 41ms\n",
      "984:\tlearn: 0.2958526\ttotal: 2.52s\tremaining: 38.5ms\n",
      "985:\tlearn: 0.2957988\ttotal: 2.53s\tremaining: 35.9ms\n",
      "986:\tlearn: 0.2957779\ttotal: 2.53s\tremaining: 33.3ms\n",
      "987:\tlearn: 0.2956869\ttotal: 2.53s\tremaining: 30.8ms\n",
      "988:\tlearn: 0.2956562\ttotal: 2.54s\tremaining: 28.2ms\n",
      "989:\tlearn: 0.2955908\ttotal: 2.54s\tremaining: 25.6ms\n",
      "990:\tlearn: 0.2955057\ttotal: 2.54s\tremaining: 23.1ms\n",
      "991:\tlearn: 0.2954681\ttotal: 2.54s\tremaining: 20.5ms\n",
      "992:\tlearn: 0.2954042\ttotal: 2.54s\tremaining: 17.9ms\n",
      "993:\tlearn: 0.2953514\ttotal: 2.55s\tremaining: 15.4ms\n",
      "994:\tlearn: 0.2953182\ttotal: 2.55s\tremaining: 12.8ms\n",
      "995:\tlearn: 0.2952825\ttotal: 2.55s\tremaining: 10.3ms\n",
      "996:\tlearn: 0.2952247\ttotal: 2.56s\tremaining: 7.69ms\n",
      "997:\tlearn: 0.2951604\ttotal: 2.56s\tremaining: 5.13ms\n",
      "998:\tlearn: 0.2950740\ttotal: 2.56s\tremaining: 2.56ms\n",
      "999:\tlearn: 0.2949902\ttotal: 2.56s\tremaining: 0us\n",
      "Mean Squared error 0.1476930321876571\n"
     ]
    },
    {
     "data": {
      "application/scrapbook.scrap.json+json": {
       "data": 0.1476930321876571,
       "encoder": "json",
       "name": "Catboost MSE",
       "version": 1
      }
     },
     "metadata": {
      "scrapbook": {
       "data": true,
       "display": false,
       "name": "Catboost MSE"
      }
     },
     "output_type": "display_data"
    }
   ],
   "source": [
    "mse_cb = baselineModels.catboost(X_train,y_train,X_test,y_test)\n",
    "#Store MSE Value \n",
    "sb.glue(\"Catboost MSE\",mse_cb)"
   ]
  },
  {
   "cell_type": "markdown",
   "id": "b8d32983",
   "metadata": {
    "papermill": {
     "duration": 0.010363,
     "end_time": "2021-12-24T13:04:39.697539",
     "exception": false,
     "start_time": "2021-12-24T13:04:39.687176",
     "status": "completed"
    },
    "tags": []
   },
   "source": [
    "## Vanilla Neural Network "
   ]
  },
  {
   "cell_type": "code",
   "execution_count": 8,
   "id": "07c1046f",
   "metadata": {
    "execution": {
     "iopub.execute_input": "2021-12-24T13:04:39.721779Z",
     "iopub.status.busy": "2021-12-24T13:04:39.721366Z",
     "iopub.status.idle": "2021-12-24T13:09:24.863561Z",
     "shell.execute_reply": "2021-12-24T13:09:24.863288Z"
    },
    "papermill": {
     "duration": 285.156035,
     "end_time": "2021-12-24T13:09:24.863671",
     "exception": false,
     "start_time": "2021-12-24T13:04:39.707636",
     "status": "completed"
    },
    "tags": []
   },
   "outputs": [
    {
     "data": {
      "application/scrapbook.scrap.json+json": {
       "data": 0.9995240764761969,
       "encoder": "json",
       "name": "Vanilla NN MSE",
       "version": 1
      }
     },
     "metadata": {
      "scrapbook": {
       "data": true,
       "display": false,
       "name": "Vanilla NN MSE"
      }
     },
     "output_type": "display_data"
    },
    {
     "name": "stdout",
     "output_type": "stream",
     "text": [
      "Mean Squared error 0.9995240764761969\n"
     ]
    }
   ],
   "source": [
    "# Parameters \n",
    "n_epochs = 1000\n",
    "batch_size = 1000\n",
    "device = torch.device('cuda' if torch.cuda.is_available() else 'cpu')\n",
    "baselineModels.vanillaNeuralNetwork(train_data,test_data,batch_size,n_features,n_target,n_epochs)"
   ]
  }
 ],
 "metadata": {
  "interpreter": {
   "hash": "10498c76ddd8160350534c6544a2b2fb65f2138dbc70420f7c81a3268f830f23"
  },
  "kernelspec": {
   "display_name": "Python 3 (ipykernel)",
   "language": "python",
   "name": "python3"
  },
  "language_info": {
   "codemirror_mode": {
    "name": "ipython",
    "version": 3
   },
   "file_extension": ".py",
   "mimetype": "text/x-python",
   "name": "python",
   "nbconvert_exporter": "python",
   "pygments_lexer": "ipython3",
   "version": "3.8.11"
  },
  "papermill": {
   "default_parameters": {},
   "duration": 294.212151,
   "end_time": "2021-12-24T13:09:25.181541",
   "environment_variables": {},
   "exception": null,
   "input_path": "BaselineModels.ipynb",
   "output_path": "./BaseLine_Model_Output/baselineModels_output_4.ipynb",
   "parameters": {},
   "start_time": "2021-12-24T13:04:30.969390",
   "version": "2.3.3"
  }
 },
 "nbformat": 4,
 "nbformat_minor": 5
}