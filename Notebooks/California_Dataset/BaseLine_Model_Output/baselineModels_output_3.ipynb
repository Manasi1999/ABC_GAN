{
 "cells": [
  {
   "cell_type": "markdown",
   "id": "7ba1e222",
   "metadata": {
    "papermill": {
     "duration": 0.023077,
     "end_time": "2021-12-24T12:59:37.956159",
     "exception": false,
     "start_time": "2021-12-24T12:59:37.933082",
     "status": "completed"
    },
    "tags": []
   },
   "source": [
    "## Import Libraries "
   ]
  },
  {
   "cell_type": "code",
   "execution_count": 1,
   "id": "a911361a",
   "metadata": {
    "execution": {
     "iopub.execute_input": "2021-12-24T12:59:37.988698Z",
     "iopub.status.busy": "2021-12-24T12:59:37.988077Z",
     "iopub.status.idle": "2021-12-24T12:59:37.991501Z",
     "shell.execute_reply": "2021-12-24T12:59:37.991989Z"
    },
    "papermill": {
     "duration": 0.023913,
     "end_time": "2021-12-24T12:59:37.992260",
     "exception": false,
     "start_time": "2021-12-24T12:59:37.968347",
     "status": "completed"
    },
    "tags": []
   },
   "outputs": [],
   "source": [
    "import warnings\n",
    "import sys\n",
    "sys.path.insert(0, '../../src')\n",
    "warnings.filterwarnings('ignore')"
   ]
  },
  {
   "cell_type": "code",
   "execution_count": 2,
   "id": "da357f1b",
   "metadata": {
    "execution": {
     "iopub.execute_input": "2021-12-24T12:59:38.007551Z",
     "iopub.status.busy": "2021-12-24T12:59:38.007067Z",
     "iopub.status.idle": "2021-12-24T12:59:39.978036Z",
     "shell.execute_reply": "2021-12-24T12:59:39.978295Z"
    },
    "papermill": {
     "duration": 1.979275,
     "end_time": "2021-12-24T12:59:39.978422",
     "exception": false,
     "start_time": "2021-12-24T12:59:37.999147",
     "status": "completed"
    },
    "tags": []
   },
   "outputs": [],
   "source": [
    "import baselineModels\n",
    "import scrapbook as sb \n",
    "import torch \n",
    "import statsModel\n",
    "import californiaDataset\n",
    "import dataset \n",
    "from torch.utils.data import random_split \n",
    "from sklearn.model_selection import train_test_split"
   ]
  },
  {
   "cell_type": "markdown",
   "id": "2167ceee",
   "metadata": {
    "papermill": {
     "duration": 0.003542,
     "end_time": "2021-12-24T12:59:39.985736",
     "exception": false,
     "start_time": "2021-12-24T12:59:39.982194",
     "status": "completed"
    },
    "tags": []
   },
   "source": [
    "## Import Dataset \n"
   ]
  },
  {
   "cell_type": "code",
   "execution_count": 3,
   "id": "640a5204",
   "metadata": {
    "execution": {
     "iopub.execute_input": "2021-12-24T12:59:39.994909Z",
     "iopub.status.busy": "2021-12-24T12:59:39.994533Z",
     "iopub.status.idle": "2021-12-24T12:59:40.011002Z",
     "shell.execute_reply": "2021-12-24T12:59:40.011257Z"
    },
    "papermill": {
     "duration": 0.022205,
     "end_time": "2021-12-24T12:59:40.011380",
     "exception": false,
     "start_time": "2021-12-24T12:59:39.989175",
     "status": "completed"
    },
    "tags": []
   },
   "outputs": [
    {
     "name": "stdout",
     "output_type": "stream",
     "text": [
      "       X1    X2        X3        X4      X5        X6     X7      X8      Y\n",
      "0  8.3252  41.0  6.984127  1.023810   322.0  2.555556  37.88 -122.23  4.526\n",
      "1  8.3014  21.0  6.238137  0.971880  2401.0  2.109842  37.86 -122.22  3.585\n",
      "2  7.2574  52.0  8.288136  1.073446   496.0  2.802260  37.85 -122.24  3.521\n",
      "3  5.6431  52.0  5.817352  1.073059   558.0  2.547945  37.85 -122.25  3.413\n",
      "4  3.8462  52.0  6.281853  1.081081   565.0  2.181467  37.85 -122.25  3.422\n"
     ]
    }
   ],
   "source": [
    "X,Y = californiaDataset.california_data()\n",
    "n_features = 8 \n",
    "n_samples = 20640\n",
    "n_target = 1 "
   ]
  },
  {
   "cell_type": "code",
   "execution_count": 4,
   "id": "71232599",
   "metadata": {
    "execution": {
     "iopub.execute_input": "2021-12-24T12:59:40.022167Z",
     "iopub.status.busy": "2021-12-24T12:59:40.021784Z",
     "iopub.status.idle": "2021-12-24T12:59:40.025082Z",
     "shell.execute_reply": "2021-12-24T12:59:40.025327Z"
    },
    "papermill": {
     "duration": 0.009816,
     "end_time": "2021-12-24T12:59:40.025441",
     "exception": false,
     "start_time": "2021-12-24T12:59:40.015625",
     "status": "completed"
    },
    "tags": []
   },
   "outputs": [],
   "source": [
    "# Train test split for dataset \n",
    "real_dataset = dataset.CustomDataset(X,Y)\n",
    "train_size = round(0.8 * n_samples)\n",
    "test_size = n_samples - train_size\n",
    "train_data, test_data = random_split(real_dataset,[train_size,test_size])\n",
    "X_train, X_test, y_train, y_test = train_test_split(X, Y, test_size=0.2)"
   ]
  },
  {
   "cell_type": "markdown",
   "id": "67820d26",
   "metadata": {
    "papermill": {
     "duration": 0.003655,
     "end_time": "2021-12-24T12:59:40.032924",
     "exception": false,
     "start_time": "2021-12-24T12:59:40.029269",
     "status": "completed"
    },
    "tags": []
   },
   "source": [
    "## Stats Model "
   ]
  },
  {
   "cell_type": "code",
   "execution_count": 5,
   "id": "159aaf89",
   "metadata": {
    "execution": {
     "iopub.execute_input": "2021-12-24T12:59:40.042723Z",
     "iopub.status.busy": "2021-12-24T12:59:40.042348Z",
     "iopub.status.idle": "2021-12-24T12:59:40.155185Z",
     "shell.execute_reply": "2021-12-24T12:59:40.155431Z"
    },
    "papermill": {
     "duration": 0.119001,
     "end_time": "2021-12-24T12:59:40.155558",
     "exception": false,
     "start_time": "2021-12-24T12:59:40.036557",
     "status": "completed"
    },
    "tags": []
   },
   "outputs": [
    {
     "name": "stderr",
     "output_type": "stream",
     "text": [
      "No handles with labels found to put in legend.\n"
     ]
    },
    {
     "name": "stdout",
     "output_type": "stream",
     "text": [
      "                                 OLS Regression Results                                \n",
      "=======================================================================================\n",
      "Dep. Variable:                      Y   R-squared (uncentered):                   0.607\n",
      "Model:                            OLS   Adj. R-squared (uncentered):              0.607\n",
      "Method:                 Least Squares   F-statistic:                              3187.\n",
      "Date:                Fri, 24 Dec 2021   Prob (F-statistic):                        0.00\n",
      "Time:                        18:29:40   Log-Likelihood:                         -15738.\n",
      "No. Observations:               16512   AIC:                                  3.149e+04\n",
      "Df Residuals:                   16504   BIC:                                  3.155e+04\n",
      "Df Model:                           8                                                  \n",
      "Covariance Type:            nonrobust                                                  \n",
      "==============================================================================\n",
      "                 coef    std err          t      P>|t|      [0.025      0.975]\n",
      "------------------------------------------------------------------------------\n",
      "x1             0.7158      0.008     92.955      0.000       0.701       0.731\n",
      "x2             0.1009      0.005     18.543      0.000       0.090       0.112\n",
      "x3            -0.2255      0.014    -15.961      0.000      -0.253      -0.198\n",
      "x4             0.2620      0.013     20.274      0.000       0.237       0.287\n",
      "x5            -0.0040      0.005     -0.761      0.447      -0.014       0.006\n",
      "x6            -0.0368      0.005     -7.783      0.000      -0.046      -0.028\n",
      "x7            -0.7749      0.015    -52.254      0.000      -0.804      -0.746\n",
      "x8            -0.7488      0.015    -51.373      0.000      -0.777      -0.720\n",
      "==============================================================================\n",
      "Omnibus:                     3494.993   Durbin-Watson:                   1.985\n",
      "Prob(Omnibus):                  0.000   Jarque-Bera (JB):            11750.803\n",
      "Skew:                           1.060   Prob(JB):                         0.00\n",
      "Kurtosis:                       6.548   Cond. No.                         6.75\n",
      "==============================================================================\n",
      "\n",
      "Notes:\n",
      "[1] R² is computed without centering (uncentered) since the model does not contain a constant.\n",
      "[2] Standard Errors assume that the covariance matrix of the errors is correctly specified.\n",
      "Parameters:  x1    0.715797\n",
      "x2    0.100907\n",
      "x3   -0.225450\n",
      "x4    0.262025\n",
      "x5   -0.003953\n",
      "x6   -0.036813\n",
      "x7   -0.774898\n",
      "x8   -0.748755\n",
      "dtype: float64\n"
     ]
    },
    {
     "data": {
      "image/png": "[encoded data removed]",
      "text/plain": [
       "<Figure size 432x288 with 1 Axes>"
      ]
     },
     "metadata": {
      "needs_background": "light"
     },
     "output_type": "display_data"
    },
    {
     "name": "stdout",
     "output_type": "stream",
     "text": [
      "Performance Metrics\n",
      "Mean Squared Error: 0.3932889053518941\n",
      "Mean Absolute Error: 0.46037533455444407\n",
      "Manhattan distance: 1900.42938104074\n",
      "Euclidean distance: 40.292637060542624\n"
     ]
    },
    {
     "data": {
      "application/scrapbook.scrap.json+json": {
       "data": 0.3932889053518941,
       "encoder": "json",
       "name": "Stats Model MSE",
       "version": 1
      }
     },
     "metadata": {
      "scrapbook": {
       "data": true,
       "display": false,
       "name": "Stats Model MSE"
      }
     },
     "output_type": "display_data"
    },
    {
     "data": {
      "application/scrapbook.scrap.json+json": {
       "data": 0.46037533455444407,
       "encoder": "json",
       "name": "Stats Model MAE",
       "version": 1
      }
     },
     "metadata": {
      "scrapbook": {
       "data": true,
       "display": false,
       "name": "Stats Model MAE"
      }
     },
     "output_type": "display_data"
    },
    {
     "data": {
      "application/scrapbook.scrap.json+json": {
       "data": 1900.42938104074,
       "encoder": "json",
       "name": "Stats Model Manhattan Distance",
       "version": 1
      }
     },
     "metadata": {
      "scrapbook": {
       "data": true,
       "display": false,
       "name": "Stats Model Manhattan Distance"
      }
     },
     "output_type": "display_data"
    },
    {
     "data": {
      "application/scrapbook.scrap.json+json": {
       "data": 40.292637060542624,
       "encoder": "json",
       "name": "Stats Model Euclidean distance",
       "version": 1
      }
     },
     "metadata": {
      "scrapbook": {
       "data": true,
       "display": false,
       "name": "Stats Model Euclidean distance"
      }
     },
     "output_type": "display_data"
    },
    {
     "data": {
      "application/scrapbook.scrap.json+json": {
       "data": [
        0.715797347182954,
        0.10090737210059056,
        -0.2254500293451554,
        0.2620247478822467,
        -0.003952715969514635,
        -0.0368132032594821,
        -0.7748981328136121,
        -0.7487547587078973
       ],
       "encoder": "json",
       "name": "Coefficients",
       "version": 1
      }
     },
     "metadata": {
      "scrapbook": {
       "data": true,
       "display": false,
       "name": "Coefficients"
      }
     },
     "output_type": "display_data"
    }
   ],
   "source": [
    "[coeff,y_pred] = statsModel.statsModel(X,Y)\n",
    "\n",
    "#Store Coefficients \n",
    "sb.glue(\"Coefficients\",coeff)"
   ]
  },
  {
   "cell_type": "markdown",
   "id": "55432e40",
   "metadata": {
    "papermill": {
     "duration": 0.005768,
     "end_time": "2021-12-24T12:59:40.167450",
     "exception": false,
     "start_time": "2021-12-24T12:59:40.161682",
     "status": "completed"
    },
    "tags": []
   },
   "source": [
    "## Random Forest "
   ]
  },
  {
   "cell_type": "code",
   "execution_count": 6,
   "id": "27514300",
   "metadata": {
    "execution": {
     "iopub.execute_input": "2021-12-24T12:59:40.181215Z",
     "iopub.status.busy": "2021-12-24T12:59:40.180840Z",
     "iopub.status.idle": "2021-12-24T12:59:42.326526Z",
     "shell.execute_reply": "2021-12-24T12:59:42.326830Z"
    },
    "papermill": {
     "duration": 2.153804,
     "end_time": "2021-12-24T12:59:42.326955",
     "exception": false,
     "start_time": "2021-12-24T12:59:40.173151",
     "status": "completed"
    },
    "tags": []
   },
   "outputs": [
    {
     "name": "stdout",
     "output_type": "stream",
     "text": [
      "Mean Squared error 0.39087327327408433\n"
     ]
    },
    {
     "data": {
      "application/scrapbook.scrap.json+json": {
       "data": 0.39087327327408433,
       "encoder": "json",
       "name": "Random Forest MSE",
       "version": 1
      }
     },
     "metadata": {
      "scrapbook": {
       "data": true,
       "display": false,
       "name": "Random Forest MSE"
      }
     },
     "output_type": "display_data"
    }
   ],
   "source": [
    "mse_rf = baselineModels.randomForest(X_train,y_train,X_test,y_test)\n",
    "#Store MSE Value\n",
    "sb.glue(\"Random Forest MSE\",mse_rf)"
   ]
  },
  {
   "cell_type": "markdown",
   "id": "9228b30f",
   "metadata": {
    "papermill": {
     "duration": 0.006063,
     "end_time": "2021-12-24T12:59:42.339527",
     "exception": false,
     "start_time": "2021-12-24T12:59:42.333464",
     "status": "completed"
    },
    "tags": []
   },
   "source": [
    "## Catboost \n",
    "\n"
   ]
  },
  {
   "cell_type": "code",
   "execution_count": 7,
   "id": "a2c13fa9",
   "metadata": {
    "execution": {
     "iopub.execute_input": "2021-12-24T12:59:42.390085Z",
     "iopub.status.busy": "2021-12-24T12:59:42.389691Z",
     "iopub.status.idle": "2021-12-24T12:59:45.007300Z",
     "shell.execute_reply": "2021-12-24T12:59:45.007584Z"
    },
    "papermill": {
     "duration": 2.662172,
     "end_time": "2021-12-24T12:59:45.007710",
     "exception": false,
     "start_time": "2021-12-24T12:59:42.345538",
     "status": "completed"
    },
    "tags": []
   },
   "outputs": [
    {
     "name": "stdout",
     "output_type": "stream",
     "text": [
      "Learning rate set to 0.064294\n",
      "0:\tlearn: 0.9668033\ttotal: 61.4ms\tremaining: 1m 1s\n",
      "1:\tlearn: 0.9347739\ttotal: 63.8ms\tremaining: 31.9s\n",
      "2:\tlearn: 0.9053783\ttotal: 66.4ms\tremaining: 22.1s\n",
      "3:\tlearn: 0.8778637\ttotal: 69.4ms\tremaining: 17.3s\n",
      "4:\tlearn: 0.8514724\ttotal: 72.1ms\tremaining: 14.3s\n",
      "5:\tlearn: 0.8266088\ttotal: 74.8ms\tremaining: 12.4s\n",
      "6:\tlearn: 0.8044903\ttotal: 77.8ms\tremaining: 11s\n",
      "7:\tlearn: 0.7836262\ttotal: 80.1ms\tremaining: 9.93s\n",
      "8:\tlearn: 0.7640950\ttotal: 82.7ms\tremaining: 9.11s\n",
      "9:\tlearn: 0.7453214\ttotal: 85.2ms\tremaining: 8.44s\n",
      "10:\tlearn: 0.7288851\ttotal: 87.9ms\tremaining: 7.9s\n",
      "11:\tlearn: 0.7135420\ttotal: 90.3ms\tremaining: 7.44s\n",
      "12:\tlearn: 0.6997774\ttotal: 92.6ms\tremaining: 7.03s\n",
      "13:\tlearn: 0.6851147\ttotal: 95.3ms\tremaining: 6.71s\n",
      "14:\tlearn: 0.6730567\ttotal: 98.5ms\tremaining: 6.46s\n",
      "15:\tlearn: 0.6613000\ttotal: 101ms\tremaining: 6.2s\n",
      "16:\tlearn: 0.6515296\ttotal: 103ms\tremaining: 5.98s\n",
      "17:\tlearn: 0.6419435\ttotal: 106ms\tremaining: 5.78s\n",
      "18:\tlearn: 0.6329713\ttotal: 109ms\tremaining: 5.6s\n",
      "19:\tlearn: 0.6242197\ttotal: 111ms\tremaining: 5.43s\n",
      "20:\tlearn: 0.6169820\ttotal: 113ms\tremaining: 5.29s\n",
      "21:\tlearn: 0.6096588\ttotal: 116ms\tremaining: 5.16s\n",
      "22:\tlearn: 0.6034025\ttotal: 119ms\tremaining: 5.04s\n",
      "23:\tlearn: 0.5950890\ttotal: 121ms\tremaining: 4.92s\n",
      "24:\tlearn: 0.5900102\ttotal: 124ms\tremaining: 4.82s\n",
      "25:\tlearn: 0.5824777\ttotal: 126ms\tremaining: 4.72s\n"
     ]
    },
    {
     "name": "stdout",
     "output_type": "stream",
     "text": [
      "26:\tlearn: 0.5758573\ttotal: 128ms\tremaining: 4.63s\n",
      "27:\tlearn: 0.5708188\ttotal: 131ms\tremaining: 4.55s\n",
      "28:\tlearn: 0.5650043\ttotal: 133ms\tremaining: 4.46s\n",
      "29:\tlearn: 0.5608476\ttotal: 136ms\tremaining: 4.39s\n",
      "30:\tlearn: 0.5576949\ttotal: 138ms\tremaining: 4.32s\n",
      "31:\tlearn: 0.5543243\ttotal: 141ms\tremaining: 4.25s\n",
      "32:\tlearn: 0.5505760\ttotal: 143ms\tremaining: 4.2s\n",
      "33:\tlearn: 0.5477236\ttotal: 145ms\tremaining: 4.13s\n",
      "34:\tlearn: 0.5425740\ttotal: 148ms\tremaining: 4.08s\n",
      "35:\tlearn: 0.5393743\ttotal: 150ms\tremaining: 4.02s\n",
      "36:\tlearn: 0.5340760\ttotal: 153ms\tremaining: 3.97s\n",
      "37:\tlearn: 0.5312347\ttotal: 155ms\tremaining: 3.93s\n",
      "38:\tlearn: 0.5270089\ttotal: 158ms\tremaining: 3.88s\n",
      "39:\tlearn: 0.5238402\ttotal: 160ms\tremaining: 3.84s\n",
      "40:\tlearn: 0.5217838\ttotal: 163ms\tremaining: 3.8s\n",
      "41:\tlearn: 0.5199010\ttotal: 165ms\tremaining: 3.76s\n",
      "42:\tlearn: 0.5169006\ttotal: 167ms\tremaining: 3.72s\n",
      "43:\tlearn: 0.5153195\ttotal: 170ms\tremaining: 3.69s\n",
      "44:\tlearn: 0.5139442\ttotal: 172ms\tremaining: 3.65s\n",
      "45:\tlearn: 0.5105865\ttotal: 175ms\tremaining: 3.62s\n",
      "46:\tlearn: 0.5078909\ttotal: 177ms\tremaining: 3.59s\n",
      "47:\tlearn: 0.5057133\ttotal: 179ms\tremaining: 3.56s\n",
      "48:\tlearn: 0.5036538\ttotal: 182ms\tremaining: 3.53s\n",
      "49:\tlearn: 0.5021234\ttotal: 185ms\tremaining: 3.51s\n",
      "50:\tlearn: 0.4999578\ttotal: 187ms\tremaining: 3.48s\n",
      "51:\tlearn: 0.4971975\ttotal: 190ms\tremaining: 3.46s\n",
      "52:\tlearn: 0.4947001\ttotal: 193ms\tremaining: 3.44s\n"
     ]
    },
    {
     "name": "stdout",
     "output_type": "stream",
     "text": [
      "53:\tlearn: 0.4926671\ttotal: 196ms\tremaining: 3.43s\n",
      "54:\tlearn: 0.4903848\ttotal: 198ms\tremaining: 3.41s\n",
      "55:\tlearn: 0.4886865\ttotal: 201ms\tremaining: 3.38s\n",
      "56:\tlearn: 0.4874889\ttotal: 203ms\tremaining: 3.36s\n",
      "57:\tlearn: 0.4862358\ttotal: 206ms\tremaining: 3.34s\n",
      "58:\tlearn: 0.4851405\ttotal: 208ms\tremaining: 3.32s\n",
      "59:\tlearn: 0.4839855\ttotal: 211ms\tremaining: 3.3s\n",
      "60:\tlearn: 0.4816150\ttotal: 213ms\tremaining: 3.27s\n",
      "61:\tlearn: 0.4806088\ttotal: 216ms\tremaining: 3.26s\n",
      "62:\tlearn: 0.4797280\ttotal: 218ms\tremaining: 3.24s\n",
      "63:\tlearn: 0.4784970\ttotal: 221ms\tremaining: 3.23s\n",
      "64:\tlearn: 0.4771583\ttotal: 223ms\tremaining: 3.21s\n",
      "65:\tlearn: 0.4764687\ttotal: 225ms\tremaining: 3.19s\n",
      "66:\tlearn: 0.4754307\ttotal: 228ms\tremaining: 3.17s\n",
      "67:\tlearn: 0.4732557\ttotal: 230ms\tremaining: 3.16s\n",
      "68:\tlearn: 0.4722264\ttotal: 233ms\tremaining: 3.14s\n",
      "69:\tlearn: 0.4711175\ttotal: 235ms\tremaining: 3.12s\n",
      "70:\tlearn: 0.4705472\ttotal: 238ms\tremaining: 3.11s\n",
      "71:\tlearn: 0.4695268\ttotal: 240ms\tremaining: 3.1s\n",
      "72:\tlearn: 0.4689120\ttotal: 243ms\tremaining: 3.09s\n",
      "73:\tlearn: 0.4683638\ttotal: 246ms\tremaining: 3.07s\n",
      "74:\tlearn: 0.4676703\ttotal: 248ms\tremaining: 3.05s\n",
      "75:\tlearn: 0.4662995\ttotal: 250ms\tremaining: 3.04s\n",
      "76:\tlearn: 0.4657040\ttotal: 252ms\tremaining: 3.02s\n",
      "77:\tlearn: 0.4648694\ttotal: 254ms\tremaining: 3.01s\n",
      "78:\tlearn: 0.4635727\ttotal: 257ms\tremaining: 2.99s\n",
      "79:\tlearn: 0.4631186\ttotal: 259ms\tremaining: 2.98s\n",
      "80:\tlearn: 0.4622968\ttotal: 261ms\tremaining: 2.96s\n",
      "81:\tlearn: 0.4615166\ttotal: 264ms\tremaining: 2.95s\n",
      "82:\tlearn: 0.4608758\ttotal: 266ms\tremaining: 2.94s\n",
      "83:\tlearn: 0.4604235\ttotal: 269ms\tremaining: 2.93s\n",
      "84:\tlearn: 0.4591758\ttotal: 271ms\tremaining: 2.92s\n",
      "85:\tlearn: 0.4580255\ttotal: 274ms\tremaining: 2.91s\n",
      "86:\tlearn: 0.4575603\ttotal: 276ms\tremaining: 2.9s\n",
      "87:\tlearn: 0.4568450\ttotal: 279ms\tremaining: 2.89s\n",
      "88:\tlearn: 0.4564686\ttotal: 281ms\tremaining: 2.88s\n",
      "89:\tlearn: 0.4561071\ttotal: 284ms\tremaining: 2.87s\n",
      "90:\tlearn: 0.4554688\ttotal: 286ms\tremaining: 2.86s\n",
      "91:\tlearn: 0.4549908\ttotal: 289ms\tremaining: 2.85s\n",
      "92:\tlearn: 0.4544352\ttotal: 291ms\tremaining: 2.84s\n",
      "93:\tlearn: 0.4534335\ttotal: 293ms\tremaining: 2.83s\n",
      "94:\tlearn: 0.4528290\ttotal: 296ms\tremaining: 2.82s\n",
      "95:\tlearn: 0.4520803\ttotal: 298ms\tremaining: 2.81s\n",
      "96:\tlearn: 0.4516294\ttotal: 301ms\tremaining: 2.8s\n",
      "97:\tlearn: 0.4510565\ttotal: 303ms\tremaining: 2.79s\n",
      "98:\tlearn: 0.4505646\ttotal: 306ms\tremaining: 2.78s\n",
      "99:\tlearn: 0.4500991\ttotal: 308ms\tremaining: 2.77s\n",
      "100:\tlearn: 0.4490773\ttotal: 311ms\tremaining: 2.77s\n",
      "101:\tlearn: 0.4484536\ttotal: 313ms\tremaining: 2.76s\n",
      "102:\tlearn: 0.4481064\ttotal: 316ms\tremaining: 2.75s\n",
      "103:\tlearn: 0.4475412\ttotal: 318ms\tremaining: 2.74s\n",
      "104:\tlearn: 0.4470692\ttotal: 321ms\tremaining: 2.73s\n",
      "105:\tlearn: 0.4466331\ttotal: 323ms\tremaining: 2.73s\n"
     ]
    },
    {
     "name": "stdout",
     "output_type": "stream",
     "text": [
      "106:\tlearn: 0.4457870\ttotal: 326ms\tremaining: 2.72s\n",
      "107:\tlearn: 0.4450133\ttotal: 329ms\tremaining: 2.71s\n",
      "108:\tlearn: 0.4443539\ttotal: 331ms\tremaining: 2.71s\n",
      "109:\tlearn: 0.4438224\ttotal: 334ms\tremaining: 2.7s\n",
      "110:\tlearn: 0.4432560\ttotal: 336ms\tremaining: 2.69s\n",
      "111:\tlearn: 0.4428879\ttotal: 338ms\tremaining: 2.68s\n",
      "112:\tlearn: 0.4426025\ttotal: 341ms\tremaining: 2.67s\n",
      "113:\tlearn: 0.4422208\ttotal: 343ms\tremaining: 2.67s\n",
      "114:\tlearn: 0.4417984\ttotal: 346ms\tremaining: 2.66s\n",
      "115:\tlearn: 0.4414825\ttotal: 348ms\tremaining: 2.65s\n",
      "116:\tlearn: 0.4412334\ttotal: 351ms\tremaining: 2.65s\n",
      "117:\tlearn: 0.4403521\ttotal: 353ms\tremaining: 2.64s\n",
      "118:\tlearn: 0.4399516\ttotal: 356ms\tremaining: 2.63s\n",
      "119:\tlearn: 0.4393812\ttotal: 358ms\tremaining: 2.63s\n",
      "120:\tlearn: 0.4388067\ttotal: 361ms\tremaining: 2.62s\n",
      "121:\tlearn: 0.4385305\ttotal: 364ms\tremaining: 2.62s\n",
      "122:\tlearn: 0.4379916\ttotal: 366ms\tremaining: 2.61s\n",
      "123:\tlearn: 0.4371498\ttotal: 368ms\tremaining: 2.6s\n",
      "124:\tlearn: 0.4366584\ttotal: 371ms\tremaining: 2.59s\n",
      "125:\tlearn: 0.4362804\ttotal: 374ms\tremaining: 2.59s\n",
      "126:\tlearn: 0.4355998\ttotal: 376ms\tremaining: 2.59s\n",
      "127:\tlearn: 0.4352379\ttotal: 379ms\tremaining: 2.58s\n",
      "128:\tlearn: 0.4344898\ttotal: 381ms\tremaining: 2.57s\n",
      "129:\tlearn: 0.4339910\ttotal: 384ms\tremaining: 2.57s\n",
      "130:\tlearn: 0.4335952\ttotal: 386ms\tremaining: 2.56s\n",
      "131:\tlearn: 0.4331895\ttotal: 389ms\tremaining: 2.55s\n"
     ]
    },
    {
     "name": "stdout",
     "output_type": "stream",
     "text": [
      "132:\tlearn: 0.4325191\ttotal: 391ms\tremaining: 2.55s\n",
      "133:\tlearn: 0.4316010\ttotal: 393ms\tremaining: 2.54s\n",
      "134:\tlearn: 0.4312649\ttotal: 396ms\tremaining: 2.54s\n",
      "135:\tlearn: 0.4305483\ttotal: 398ms\tremaining: 2.53s\n",
      "136:\tlearn: 0.4303325\ttotal: 401ms\tremaining: 2.52s\n",
      "137:\tlearn: 0.4299610\ttotal: 403ms\tremaining: 2.52s\n",
      "138:\tlearn: 0.4296000\ttotal: 405ms\tremaining: 2.51s\n",
      "139:\tlearn: 0.4290627\ttotal: 408ms\tremaining: 2.5s\n",
      "140:\tlearn: 0.4285605\ttotal: 410ms\tremaining: 2.5s\n",
      "141:\tlearn: 0.4282667\ttotal: 413ms\tremaining: 2.5s\n",
      "142:\tlearn: 0.4277508\ttotal: 415ms\tremaining: 2.49s\n",
      "143:\tlearn: 0.4274711\ttotal: 418ms\tremaining: 2.48s\n",
      "144:\tlearn: 0.4271126\ttotal: 421ms\tremaining: 2.48s\n",
      "145:\tlearn: 0.4268478\ttotal: 423ms\tremaining: 2.47s\n",
      "146:\tlearn: 0.4264627\ttotal: 425ms\tremaining: 2.47s\n",
      "147:\tlearn: 0.4256781\ttotal: 428ms\tremaining: 2.46s\n",
      "148:\tlearn: 0.4252251\ttotal: 430ms\tremaining: 2.46s\n",
      "149:\tlearn: 0.4247770\ttotal: 433ms\tremaining: 2.45s\n",
      "150:\tlearn: 0.4244025\ttotal: 436ms\tremaining: 2.45s\n",
      "151:\tlearn: 0.4240220\ttotal: 438ms\tremaining: 2.44s\n",
      "152:\tlearn: 0.4236896\ttotal: 441ms\tremaining: 2.44s\n",
      "153:\tlearn: 0.4233824\ttotal: 443ms\tremaining: 2.43s\n",
      "154:\tlearn: 0.4230484\ttotal: 446ms\tremaining: 2.43s\n",
      "155:\tlearn: 0.4224741\ttotal: 448ms\tremaining: 2.42s\n",
      "156:\tlearn: 0.4222177\ttotal: 451ms\tremaining: 2.42s\n",
      "157:\tlearn: 0.4218037\ttotal: 453ms\tremaining: 2.41s\n",
      "158:\tlearn: 0.4213337\ttotal: 456ms\tremaining: 2.41s\n",
      "159:\tlearn: 0.4209951\ttotal: 458ms\tremaining: 2.41s\n",
      "160:\tlearn: 0.4206831\ttotal: 461ms\tremaining: 2.4s\n",
      "161:\tlearn: 0.4203387\ttotal: 463ms\tremaining: 2.4s\n",
      "162:\tlearn: 0.4194574\ttotal: 466ms\tremaining: 2.39s\n",
      "163:\tlearn: 0.4191385\ttotal: 468ms\tremaining: 2.38s\n",
      "164:\tlearn: 0.4187539\ttotal: 471ms\tremaining: 2.38s\n",
      "165:\tlearn: 0.4183243\ttotal: 473ms\tremaining: 2.38s\n",
      "166:\tlearn: 0.4176346\ttotal: 475ms\tremaining: 2.37s\n",
      "167:\tlearn: 0.4173763\ttotal: 478ms\tremaining: 2.37s\n",
      "168:\tlearn: 0.4170764\ttotal: 480ms\tremaining: 2.36s\n",
      "169:\tlearn: 0.4167507\ttotal: 483ms\tremaining: 2.36s\n",
      "170:\tlearn: 0.4160551\ttotal: 485ms\tremaining: 2.35s\n",
      "171:\tlearn: 0.4156114\ttotal: 487ms\tremaining: 2.35s\n",
      "172:\tlearn: 0.4152952\ttotal: 490ms\tremaining: 2.34s\n",
      "173:\tlearn: 0.4149876\ttotal: 492ms\tremaining: 2.33s\n",
      "174:\tlearn: 0.4146960\ttotal: 494ms\tremaining: 2.33s\n",
      "175:\tlearn: 0.4140607\ttotal: 496ms\tremaining: 2.32s\n",
      "176:\tlearn: 0.4137973\ttotal: 499ms\tremaining: 2.32s\n",
      "177:\tlearn: 0.4133920\ttotal: 501ms\tremaining: 2.31s\n",
      "178:\tlearn: 0.4127165\ttotal: 504ms\tremaining: 2.31s\n",
      "179:\tlearn: 0.4121040\ttotal: 506ms\tremaining: 2.3s\n",
      "180:\tlearn: 0.4117079\ttotal: 509ms\tremaining: 2.3s\n",
      "181:\tlearn: 0.4113332\ttotal: 511ms\tremaining: 2.3s\n",
      "182:\tlearn: 0.4108388\ttotal: 513ms\tremaining: 2.29s\n",
      "183:\tlearn: 0.4102856\ttotal: 516ms\tremaining: 2.29s\n",
      "184:\tlearn: 0.4099507\ttotal: 518ms\tremaining: 2.28s\n"
     ]
    },
    {
     "name": "stdout",
     "output_type": "stream",
     "text": [
      "185:\tlearn: 0.4095481\ttotal: 521ms\tremaining: 2.28s\n",
      "186:\tlearn: 0.4092734\ttotal: 523ms\tremaining: 2.27s\n",
      "187:\tlearn: 0.4089203\ttotal: 526ms\tremaining: 2.27s\n",
      "188:\tlearn: 0.4084679\ttotal: 528ms\tremaining: 2.27s\n",
      "189:\tlearn: 0.4080199\ttotal: 531ms\tremaining: 2.26s\n",
      "190:\tlearn: 0.4077147\ttotal: 534ms\tremaining: 2.26s\n",
      "191:\tlearn: 0.4074591\ttotal: 536ms\tremaining: 2.26s\n",
      "192:\tlearn: 0.4069541\ttotal: 539ms\tremaining: 2.25s\n",
      "193:\tlearn: 0.4065143\ttotal: 541ms\tremaining: 2.25s\n",
      "194:\tlearn: 0.4062339\ttotal: 544ms\tremaining: 2.25s\n",
      "195:\tlearn: 0.4059154\ttotal: 546ms\tremaining: 2.24s\n",
      "196:\tlearn: 0.4055471\ttotal: 549ms\tremaining: 2.24s\n",
      "197:\tlearn: 0.4052427\ttotal: 552ms\tremaining: 2.23s\n",
      "198:\tlearn: 0.4049176\ttotal: 554ms\tremaining: 2.23s\n",
      "199:\tlearn: 0.4046385\ttotal: 557ms\tremaining: 2.23s\n",
      "200:\tlearn: 0.4043018\ttotal: 559ms\tremaining: 2.22s\n",
      "201:\tlearn: 0.4040214\ttotal: 562ms\tremaining: 2.22s\n",
      "202:\tlearn: 0.4036841\ttotal: 565ms\tremaining: 2.22s\n",
      "203:\tlearn: 0.4032669\ttotal: 567ms\tremaining: 2.21s\n",
      "204:\tlearn: 0.4028906\ttotal: 569ms\tremaining: 2.21s\n",
      "205:\tlearn: 0.4025580\ttotal: 572ms\tremaining: 2.2s\n",
      "206:\tlearn: 0.4022846\ttotal: 574ms\tremaining: 2.2s\n",
      "207:\tlearn: 0.4020147\ttotal: 577ms\tremaining: 2.2s\n",
      "208:\tlearn: 0.4017620\ttotal: 579ms\tremaining: 2.19s\n",
      "209:\tlearn: 0.4013906\ttotal: 582ms\tremaining: 2.19s\n",
      "210:\tlearn: 0.4010112\ttotal: 584ms\tremaining: 2.18s\n"
     ]
    },
    {
     "name": "stdout",
     "output_type": "stream",
     "text": [
      "211:\tlearn: 0.4007115\ttotal: 586ms\tremaining: 2.18s\n",
      "212:\tlearn: 0.4001058\ttotal: 589ms\tremaining: 2.18s\n",
      "213:\tlearn: 0.3998784\ttotal: 591ms\tremaining: 2.17s\n",
      "214:\tlearn: 0.3996620\ttotal: 594ms\tremaining: 2.17s\n",
      "215:\tlearn: 0.3990025\ttotal: 596ms\tremaining: 2.16s\n",
      "216:\tlearn: 0.3986666\ttotal: 599ms\tremaining: 2.16s\n",
      "217:\tlearn: 0.3984311\ttotal: 601ms\tremaining: 2.15s\n",
      "218:\tlearn: 0.3981465\ttotal: 603ms\tremaining: 2.15s\n",
      "219:\tlearn: 0.3977382\ttotal: 605ms\tremaining: 2.15s\n",
      "220:\tlearn: 0.3974413\ttotal: 607ms\tremaining: 2.14s\n",
      "221:\tlearn: 0.3971088\ttotal: 610ms\tremaining: 2.14s\n",
      "222:\tlearn: 0.3968168\ttotal: 612ms\tremaining: 2.13s\n",
      "223:\tlearn: 0.3964714\ttotal: 614ms\tremaining: 2.13s\n",
      "224:\tlearn: 0.3961018\ttotal: 617ms\tremaining: 2.12s\n",
      "225:\tlearn: 0.3957257\ttotal: 619ms\tremaining: 2.12s\n",
      "226:\tlearn: 0.3954488\ttotal: 622ms\tremaining: 2.12s\n",
      "227:\tlearn: 0.3952114\ttotal: 624ms\tremaining: 2.11s\n",
      "228:\tlearn: 0.3948965\ttotal: 626ms\tremaining: 2.11s\n",
      "229:\tlearn: 0.3946328\ttotal: 629ms\tremaining: 2.1s\n",
      "230:\tlearn: 0.3944524\ttotal: 631ms\tremaining: 2.1s\n",
      "231:\tlearn: 0.3941570\ttotal: 634ms\tremaining: 2.1s\n",
      "232:\tlearn: 0.3939957\ttotal: 636ms\tremaining: 2.09s\n",
      "233:\tlearn: 0.3936999\ttotal: 638ms\tremaining: 2.09s\n",
      "234:\tlearn: 0.3933900\ttotal: 641ms\tremaining: 2.08s\n",
      "235:\tlearn: 0.3932116\ttotal: 643ms\tremaining: 2.08s\n",
      "236:\tlearn: 0.3929610\ttotal: 645ms\tremaining: 2.08s\n",
      "237:\tlearn: 0.3926827\ttotal: 647ms\tremaining: 2.07s\n",
      "238:\tlearn: 0.3924626\ttotal: 649ms\tremaining: 2.07s\n",
      "239:\tlearn: 0.3921250\ttotal: 652ms\tremaining: 2.06s\n",
      "240:\tlearn: 0.3918793\ttotal: 654ms\tremaining: 2.06s\n",
      "241:\tlearn: 0.3917036\ttotal: 656ms\tremaining: 2.06s\n",
      "242:\tlearn: 0.3913664\ttotal: 659ms\tremaining: 2.05s\n",
      "243:\tlearn: 0.3911293\ttotal: 661ms\tremaining: 2.05s\n",
      "244:\tlearn: 0.3908338\ttotal: 664ms\tremaining: 2.05s\n",
      "245:\tlearn: 0.3905225\ttotal: 667ms\tremaining: 2.04s\n",
      "246:\tlearn: 0.3902786\ttotal: 670ms\tremaining: 2.04s\n",
      "247:\tlearn: 0.3899133\ttotal: 672ms\tremaining: 2.04s\n",
      "248:\tlearn: 0.3896682\ttotal: 674ms\tremaining: 2.03s\n",
      "249:\tlearn: 0.3893546\ttotal: 677ms\tremaining: 2.03s\n",
      "250:\tlearn: 0.3888755\ttotal: 679ms\tremaining: 2.03s\n",
      "251:\tlearn: 0.3886936\ttotal: 682ms\tremaining: 2.02s\n",
      "252:\tlearn: 0.3881778\ttotal: 684ms\tremaining: 2.02s\n",
      "253:\tlearn: 0.3879996\ttotal: 686ms\tremaining: 2.02s\n",
      "254:\tlearn: 0.3877860\ttotal: 689ms\tremaining: 2.01s\n",
      "255:\tlearn: 0.3875621\ttotal: 691ms\tremaining: 2.01s\n",
      "256:\tlearn: 0.3874182\ttotal: 693ms\tremaining: 2s\n",
      "257:\tlearn: 0.3871459\ttotal: 696ms\tremaining: 2s\n",
      "258:\tlearn: 0.3869486\ttotal: 698ms\tremaining: 2s\n",
      "259:\tlearn: 0.3867617\ttotal: 701ms\tremaining: 1.99s\n",
      "260:\tlearn: 0.3865368\ttotal: 703ms\tremaining: 1.99s\n",
      "261:\tlearn: 0.3863476\ttotal: 706ms\tremaining: 1.99s\n",
      "262:\tlearn: 0.3860642\ttotal: 709ms\tremaining: 1.99s\n",
      "263:\tlearn: 0.3857727\ttotal: 711ms\tremaining: 1.98s\n",
      "264:\tlearn: 0.3856349\ttotal: 714ms\tremaining: 1.98s\n"
     ]
    },
    {
     "name": "stdout",
     "output_type": "stream",
     "text": [
      "265:\tlearn: 0.3853696\ttotal: 716ms\tremaining: 1.98s\n",
      "266:\tlearn: 0.3852213\ttotal: 719ms\tremaining: 1.97s\n",
      "267:\tlearn: 0.3850366\ttotal: 721ms\tremaining: 1.97s\n",
      "268:\tlearn: 0.3848642\ttotal: 724ms\tremaining: 1.97s\n",
      "269:\tlearn: 0.3844746\ttotal: 726ms\tremaining: 1.96s\n",
      "270:\tlearn: 0.3842929\ttotal: 729ms\tremaining: 1.96s\n",
      "271:\tlearn: 0.3840925\ttotal: 731ms\tremaining: 1.96s\n",
      "272:\tlearn: 0.3837756\ttotal: 733ms\tremaining: 1.95s\n",
      "273:\tlearn: 0.3835140\ttotal: 736ms\tremaining: 1.95s\n",
      "274:\tlearn: 0.3833247\ttotal: 738ms\tremaining: 1.95s\n",
      "275:\tlearn: 0.3831512\ttotal: 741ms\tremaining: 1.94s\n",
      "276:\tlearn: 0.3829783\ttotal: 743ms\tremaining: 1.94s\n",
      "277:\tlearn: 0.3827672\ttotal: 745ms\tremaining: 1.94s\n",
      "278:\tlearn: 0.3825179\ttotal: 748ms\tremaining: 1.93s\n",
      "279:\tlearn: 0.3823220\ttotal: 750ms\tremaining: 1.93s\n",
      "280:\tlearn: 0.3821620\ttotal: 753ms\tremaining: 1.93s\n",
      "281:\tlearn: 0.3820126\ttotal: 755ms\tremaining: 1.92s\n",
      "282:\tlearn: 0.3818080\ttotal: 758ms\tremaining: 1.92s\n",
      "283:\tlearn: 0.3816398\ttotal: 760ms\tremaining: 1.92s\n",
      "284:\tlearn: 0.3814104\ttotal: 762ms\tremaining: 1.91s\n",
      "285:\tlearn: 0.3811346\ttotal: 765ms\tremaining: 1.91s\n",
      "286:\tlearn: 0.3809341\ttotal: 767ms\tremaining: 1.91s\n",
      "287:\tlearn: 0.3807052\ttotal: 769ms\tremaining: 1.9s\n",
      "288:\tlearn: 0.3804412\ttotal: 771ms\tremaining: 1.9s\n",
      "289:\tlearn: 0.3802222\ttotal: 774ms\tremaining: 1.89s\n",
      "290:\tlearn: 0.3799658\ttotal: 776ms\tremaining: 1.89s\n",
      "291:\tlearn: 0.3798400\ttotal: 778ms\tremaining: 1.89s\n",
      "292:\tlearn: 0.3795657\ttotal: 781ms\tremaining: 1.88s\n"
     ]
    },
    {
     "name": "stdout",
     "output_type": "stream",
     "text": [
      "293:\tlearn: 0.3793150\ttotal: 783ms\tremaining: 1.88s\n",
      "294:\tlearn: 0.3790693\ttotal: 786ms\tremaining: 1.88s\n",
      "295:\tlearn: 0.3787900\ttotal: 789ms\tremaining: 1.88s\n",
      "296:\tlearn: 0.3784824\ttotal: 791ms\tremaining: 1.87s\n",
      "297:\tlearn: 0.3782257\ttotal: 793ms\tremaining: 1.87s\n",
      "298:\tlearn: 0.3780253\ttotal: 796ms\tremaining: 1.86s\n",
      "299:\tlearn: 0.3777792\ttotal: 798ms\tremaining: 1.86s\n",
      "300:\tlearn: 0.3775927\ttotal: 801ms\tremaining: 1.86s\n",
      "301:\tlearn: 0.3774362\ttotal: 803ms\tremaining: 1.85s\n",
      "302:\tlearn: 0.3772394\ttotal: 805ms\tremaining: 1.85s\n",
      "303:\tlearn: 0.3770804\ttotal: 808ms\tremaining: 1.85s\n",
      "304:\tlearn: 0.3766695\ttotal: 810ms\tremaining: 1.85s\n",
      "305:\tlearn: 0.3765038\ttotal: 813ms\tremaining: 1.84s\n",
      "306:\tlearn: 0.3762892\ttotal: 815ms\tremaining: 1.84s\n",
      "307:\tlearn: 0.3760666\ttotal: 818ms\tremaining: 1.84s\n",
      "308:\tlearn: 0.3759008\ttotal: 820ms\tremaining: 1.83s\n",
      "309:\tlearn: 0.3757587\ttotal: 823ms\tremaining: 1.83s\n",
      "310:\tlearn: 0.3755880\ttotal: 825ms\tremaining: 1.83s\n",
      "311:\tlearn: 0.3754857\ttotal: 828ms\tremaining: 1.82s\n",
      "312:\tlearn: 0.3751053\ttotal: 830ms\tremaining: 1.82s\n",
      "313:\tlearn: 0.3749218\ttotal: 833ms\tremaining: 1.82s\n",
      "314:\tlearn: 0.3747430\ttotal: 835ms\tremaining: 1.81s\n",
      "315:\tlearn: 0.3744893\ttotal: 837ms\tremaining: 1.81s\n",
      "316:\tlearn: 0.3742442\ttotal: 840ms\tremaining: 1.81s\n",
      "317:\tlearn: 0.3740684\ttotal: 842ms\tremaining: 1.81s\n",
      "318:\tlearn: 0.3738618\ttotal: 845ms\tremaining: 1.8s\n",
      "319:\tlearn: 0.3737060\ttotal: 847ms\tremaining: 1.8s\n",
      "320:\tlearn: 0.3735669\ttotal: 849ms\tremaining: 1.8s\n",
      "321:\tlearn: 0.3733653\ttotal: 851ms\tremaining: 1.79s\n",
      "322:\tlearn: 0.3731954\ttotal: 854ms\tremaining: 1.79s\n",
      "323:\tlearn: 0.3730992\ttotal: 856ms\tremaining: 1.79s\n",
      "324:\tlearn: 0.3728836\ttotal: 858ms\tremaining: 1.78s\n",
      "325:\tlearn: 0.3726886\ttotal: 861ms\tremaining: 1.78s\n",
      "326:\tlearn: 0.3725089\ttotal: 863ms\tremaining: 1.78s\n",
      "327:\tlearn: 0.3723423\ttotal: 866ms\tremaining: 1.77s\n",
      "328:\tlearn: 0.3721627\ttotal: 868ms\tremaining: 1.77s\n",
      "329:\tlearn: 0.3718981\ttotal: 870ms\tremaining: 1.77s\n",
      "330:\tlearn: 0.3717236\ttotal: 873ms\tremaining: 1.76s\n",
      "331:\tlearn: 0.3715539\ttotal: 875ms\tremaining: 1.76s\n",
      "332:\tlearn: 0.3714390\ttotal: 877ms\tremaining: 1.76s\n",
      "333:\tlearn: 0.3711183\ttotal: 880ms\tremaining: 1.75s\n",
      "334:\tlearn: 0.3709545\ttotal: 882ms\tremaining: 1.75s\n",
      "335:\tlearn: 0.3708584\ttotal: 884ms\tremaining: 1.75s\n",
      "336:\tlearn: 0.3705793\ttotal: 886ms\tremaining: 1.74s\n",
      "337:\tlearn: 0.3703325\ttotal: 888ms\tremaining: 1.74s\n",
      "338:\tlearn: 0.3700978\ttotal: 890ms\tremaining: 1.74s\n",
      "339:\tlearn: 0.3699645\ttotal: 893ms\tremaining: 1.73s\n",
      "340:\tlearn: 0.3698226\ttotal: 895ms\tremaining: 1.73s\n",
      "341:\tlearn: 0.3695821\ttotal: 897ms\tremaining: 1.73s\n",
      "342:\tlearn: 0.3692635\ttotal: 900ms\tremaining: 1.72s\n",
      "343:\tlearn: 0.3691750\ttotal: 903ms\tremaining: 1.72s\n",
      "344:\tlearn: 0.3689439\ttotal: 906ms\tremaining: 1.72s\n",
      "345:\tlearn: 0.3687314\ttotal: 908ms\tremaining: 1.72s\n",
      "346:\tlearn: 0.3684786\ttotal: 911ms\tremaining: 1.71s\n"
     ]
    },
    {
     "name": "stdout",
     "output_type": "stream",
     "text": [
      "347:\tlearn: 0.3681969\ttotal: 914ms\tremaining: 1.71s\n",
      "348:\tlearn: 0.3679583\ttotal: 916ms\tremaining: 1.71s\n",
      "349:\tlearn: 0.3677261\ttotal: 919ms\tremaining: 1.71s\n",
      "350:\tlearn: 0.3675319\ttotal: 922ms\tremaining: 1.7s\n",
      "351:\tlearn: 0.3673209\ttotal: 924ms\tremaining: 1.7s\n",
      "352:\tlearn: 0.3671492\ttotal: 927ms\tremaining: 1.7s\n",
      "353:\tlearn: 0.3670116\ttotal: 929ms\tremaining: 1.7s\n",
      "354:\tlearn: 0.3668822\ttotal: 932ms\tremaining: 1.69s\n",
      "355:\tlearn: 0.3667916\ttotal: 934ms\tremaining: 1.69s\n",
      "356:\tlearn: 0.3666520\ttotal: 936ms\tremaining: 1.69s\n",
      "357:\tlearn: 0.3663755\ttotal: 939ms\tremaining: 1.68s\n",
      "358:\tlearn: 0.3662133\ttotal: 941ms\tremaining: 1.68s\n",
      "359:\tlearn: 0.3659892\ttotal: 943ms\tremaining: 1.68s\n",
      "360:\tlearn: 0.3657304\ttotal: 946ms\tremaining: 1.67s\n",
      "361:\tlearn: 0.3656288\ttotal: 948ms\tremaining: 1.67s\n",
      "362:\tlearn: 0.3653991\ttotal: 951ms\tremaining: 1.67s\n",
      "363:\tlearn: 0.3650588\ttotal: 953ms\tremaining: 1.67s\n",
      "364:\tlearn: 0.3649326\ttotal: 956ms\tremaining: 1.66s\n",
      "365:\tlearn: 0.3646910\ttotal: 958ms\tremaining: 1.66s\n",
      "366:\tlearn: 0.3645738\ttotal: 960ms\tremaining: 1.66s\n",
      "367:\tlearn: 0.3644119\ttotal: 962ms\tremaining: 1.65s\n",
      "368:\tlearn: 0.3642016\ttotal: 964ms\tremaining: 1.65s\n",
      "369:\tlearn: 0.3640279\ttotal: 967ms\tremaining: 1.65s\n",
      "370:\tlearn: 0.3638604\ttotal: 969ms\tremaining: 1.64s\n",
      "371:\tlearn: 0.3635906\ttotal: 972ms\tremaining: 1.64s\n",
      "372:\tlearn: 0.3633750\ttotal: 974ms\tremaining: 1.64s\n",
      "373:\tlearn: 0.3631810\ttotal: 977ms\tremaining: 1.64s\n"
     ]
    },
    {
     "name": "stdout",
     "output_type": "stream",
     "text": [
      "374:\tlearn: 0.3630354\ttotal: 979ms\tremaining: 1.63s\n",
      "375:\tlearn: 0.3627834\ttotal: 982ms\tremaining: 1.63s\n",
      "376:\tlearn: 0.3626004\ttotal: 984ms\tremaining: 1.63s\n",
      "377:\tlearn: 0.3624598\ttotal: 987ms\tremaining: 1.62s\n",
      "378:\tlearn: 0.3622746\ttotal: 990ms\tremaining: 1.62s\n",
      "379:\tlearn: 0.3621283\ttotal: 992ms\tremaining: 1.62s\n",
      "380:\tlearn: 0.3619758\ttotal: 994ms\tremaining: 1.61s\n",
      "381:\tlearn: 0.3618361\ttotal: 997ms\tremaining: 1.61s\n",
      "382:\tlearn: 0.3617007\ttotal: 999ms\tremaining: 1.61s\n",
      "383:\tlearn: 0.3614979\ttotal: 1s\tremaining: 1.61s\n",
      "384:\tlearn: 0.3612662\ttotal: 1s\tremaining: 1.6s\n",
      "385:\tlearn: 0.3610600\ttotal: 1.01s\tremaining: 1.6s\n",
      "386:\tlearn: 0.3608026\ttotal: 1.01s\tremaining: 1.6s\n",
      "387:\tlearn: 0.3606375\ttotal: 1.01s\tremaining: 1.59s\n",
      "388:\tlearn: 0.3604813\ttotal: 1.01s\tremaining: 1.59s\n",
      "389:\tlearn: 0.3603142\ttotal: 1.02s\tremaining: 1.59s\n",
      "390:\tlearn: 0.3601379\ttotal: 1.02s\tremaining: 1.59s\n",
      "391:\tlearn: 0.3600110\ttotal: 1.02s\tremaining: 1.58s\n",
      "392:\tlearn: 0.3598460\ttotal: 1.02s\tremaining: 1.58s\n",
      "393:\tlearn: 0.3597304\ttotal: 1.03s\tremaining: 1.58s\n",
      "394:\tlearn: 0.3595261\ttotal: 1.03s\tremaining: 1.57s\n",
      "395:\tlearn: 0.3593736\ttotal: 1.03s\tremaining: 1.57s\n",
      "396:\tlearn: 0.3592593\ttotal: 1.03s\tremaining: 1.57s\n",
      "397:\tlearn: 0.3591136\ttotal: 1.03s\tremaining: 1.56s\n",
      "398:\tlearn: 0.3589921\ttotal: 1.04s\tremaining: 1.56s\n",
      "399:\tlearn: 0.3588824\ttotal: 1.04s\tremaining: 1.56s\n",
      "400:\tlearn: 0.3587107\ttotal: 1.04s\tremaining: 1.56s\n",
      "401:\tlearn: 0.3585730\ttotal: 1.04s\tremaining: 1.55s\n",
      "402:\tlearn: 0.3584038\ttotal: 1.05s\tremaining: 1.55s\n",
      "403:\tlearn: 0.3582337\ttotal: 1.05s\tremaining: 1.55s\n",
      "404:\tlearn: 0.3580941\ttotal: 1.05s\tremaining: 1.55s\n",
      "405:\tlearn: 0.3579138\ttotal: 1.05s\tremaining: 1.54s\n",
      "406:\tlearn: 0.3577932\ttotal: 1.06s\tremaining: 1.54s\n",
      "407:\tlearn: 0.3576808\ttotal: 1.06s\tremaining: 1.54s\n",
      "408:\tlearn: 0.3574915\ttotal: 1.06s\tremaining: 1.54s\n",
      "409:\tlearn: 0.3573821\ttotal: 1.06s\tremaining: 1.53s\n",
      "410:\tlearn: 0.3572521\ttotal: 1.07s\tremaining: 1.53s\n",
      "411:\tlearn: 0.3571216\ttotal: 1.07s\tremaining: 1.53s\n",
      "412:\tlearn: 0.3569533\ttotal: 1.07s\tremaining: 1.52s\n",
      "413:\tlearn: 0.3567439\ttotal: 1.07s\tremaining: 1.52s\n",
      "414:\tlearn: 0.3566091\ttotal: 1.08s\tremaining: 1.52s\n",
      "415:\tlearn: 0.3564961\ttotal: 1.08s\tremaining: 1.52s\n",
      "416:\tlearn: 0.3562580\ttotal: 1.08s\tremaining: 1.51s\n",
      "417:\tlearn: 0.3561321\ttotal: 1.08s\tremaining: 1.51s\n",
      "418:\tlearn: 0.3558852\ttotal: 1.09s\tremaining: 1.51s\n",
      "419:\tlearn: 0.3556721\ttotal: 1.09s\tremaining: 1.5s\n",
      "420:\tlearn: 0.3555270\ttotal: 1.09s\tremaining: 1.5s\n",
      "421:\tlearn: 0.3553697\ttotal: 1.09s\tremaining: 1.5s\n",
      "422:\tlearn: 0.3552639\ttotal: 1.1s\tremaining: 1.5s\n",
      "423:\tlearn: 0.3550205\ttotal: 1.1s\tremaining: 1.49s\n",
      "424:\tlearn: 0.3548758\ttotal: 1.1s\tremaining: 1.49s\n",
      "425:\tlearn: 0.3546907\ttotal: 1.1s\tremaining: 1.49s\n",
      "426:\tlearn: 0.3546180\ttotal: 1.11s\tremaining: 1.49s\n"
     ]
    },
    {
     "name": "stdout",
     "output_type": "stream",
     "text": [
      "427:\tlearn: 0.3544503\ttotal: 1.11s\tremaining: 1.48s\n",
      "428:\tlearn: 0.3542792\ttotal: 1.11s\tremaining: 1.48s\n",
      "429:\tlearn: 0.3540301\ttotal: 1.11s\tremaining: 1.48s\n",
      "430:\tlearn: 0.3538228\ttotal: 1.12s\tremaining: 1.48s\n",
      "431:\tlearn: 0.3536672\ttotal: 1.12s\tremaining: 1.47s\n",
      "432:\tlearn: 0.3534466\ttotal: 1.12s\tremaining: 1.47s\n",
      "433:\tlearn: 0.3533264\ttotal: 1.12s\tremaining: 1.47s\n",
      "434:\tlearn: 0.3531444\ttotal: 1.13s\tremaining: 1.46s\n",
      "435:\tlearn: 0.3529522\ttotal: 1.13s\tremaining: 1.46s\n",
      "436:\tlearn: 0.3528184\ttotal: 1.13s\tremaining: 1.46s\n",
      "437:\tlearn: 0.3526637\ttotal: 1.13s\tremaining: 1.46s\n",
      "438:\tlearn: 0.3525288\ttotal: 1.14s\tremaining: 1.45s\n",
      "439:\tlearn: 0.3524050\ttotal: 1.14s\tremaining: 1.45s\n",
      "440:\tlearn: 0.3522869\ttotal: 1.14s\tremaining: 1.45s\n",
      "441:\tlearn: 0.3520853\ttotal: 1.14s\tremaining: 1.44s\n",
      "442:\tlearn: 0.3519385\ttotal: 1.15s\tremaining: 1.44s\n",
      "443:\tlearn: 0.3518220\ttotal: 1.15s\tremaining: 1.44s\n",
      "444:\tlearn: 0.3516531\ttotal: 1.15s\tremaining: 1.44s\n",
      "445:\tlearn: 0.3515408\ttotal: 1.15s\tremaining: 1.43s\n",
      "446:\tlearn: 0.3514226\ttotal: 1.16s\tremaining: 1.43s\n",
      "447:\tlearn: 0.3513403\ttotal: 1.16s\tremaining: 1.43s\n",
      "448:\tlearn: 0.3512101\ttotal: 1.16s\tremaining: 1.42s\n",
      "449:\tlearn: 0.3511248\ttotal: 1.16s\tremaining: 1.42s\n",
      "450:\tlearn: 0.3510113\ttotal: 1.16s\tremaining: 1.42s\n",
      "451:\tlearn: 0.3508298\ttotal: 1.17s\tremaining: 1.41s\n",
      "452:\tlearn: 0.3507792\ttotal: 1.17s\tremaining: 1.41s\n",
      "453:\tlearn: 0.3506014\ttotal: 1.17s\tremaining: 1.41s\n"
     ]
    },
    {
     "name": "stdout",
     "output_type": "stream",
     "text": [
      "454:\tlearn: 0.3504787\ttotal: 1.17s\tremaining: 1.41s\n",
      "455:\tlearn: 0.3503557\ttotal: 1.18s\tremaining: 1.4s\n",
      "456:\tlearn: 0.3501922\ttotal: 1.18s\tremaining: 1.4s\n",
      "457:\tlearn: 0.3499733\ttotal: 1.18s\tremaining: 1.4s\n",
      "458:\tlearn: 0.3497876\ttotal: 1.18s\tremaining: 1.4s\n",
      "459:\tlearn: 0.3496589\ttotal: 1.19s\tremaining: 1.39s\n",
      "460:\tlearn: 0.3495176\ttotal: 1.19s\tremaining: 1.39s\n",
      "461:\tlearn: 0.3493603\ttotal: 1.19s\tremaining: 1.39s\n",
      "462:\tlearn: 0.3492928\ttotal: 1.19s\tremaining: 1.39s\n",
      "463:\tlearn: 0.3492008\ttotal: 1.2s\tremaining: 1.38s\n",
      "464:\tlearn: 0.3490924\ttotal: 1.2s\tremaining: 1.38s\n",
      "465:\tlearn: 0.3489265\ttotal: 1.2s\tremaining: 1.38s\n",
      "466:\tlearn: 0.3488144\ttotal: 1.2s\tremaining: 1.37s\n",
      "467:\tlearn: 0.3486304\ttotal: 1.21s\tremaining: 1.37s\n",
      "468:\tlearn: 0.3485596\ttotal: 1.21s\tremaining: 1.37s\n",
      "469:\tlearn: 0.3484712\ttotal: 1.21s\tremaining: 1.37s\n",
      "470:\tlearn: 0.3483362\ttotal: 1.21s\tremaining: 1.36s\n",
      "471:\tlearn: 0.3482316\ttotal: 1.22s\tremaining: 1.36s\n",
      "472:\tlearn: 0.3481224\ttotal: 1.22s\tremaining: 1.36s\n",
      "473:\tlearn: 0.3480312\ttotal: 1.22s\tremaining: 1.35s\n",
      "474:\tlearn: 0.3478861\ttotal: 1.22s\tremaining: 1.35s\n",
      "475:\tlearn: 0.3478479\ttotal: 1.23s\tremaining: 1.35s\n",
      "476:\tlearn: 0.3477494\ttotal: 1.23s\tremaining: 1.35s\n",
      "477:\tlearn: 0.3475876\ttotal: 1.23s\tremaining: 1.34s\n",
      "478:\tlearn: 0.3474337\ttotal: 1.23s\tremaining: 1.34s\n",
      "479:\tlearn: 0.3472900\ttotal: 1.24s\tremaining: 1.34s\n",
      "480:\tlearn: 0.3471839\ttotal: 1.24s\tremaining: 1.33s\n",
      "481:\tlearn: 0.3470013\ttotal: 1.24s\tremaining: 1.33s\n",
      "482:\tlearn: 0.3468844\ttotal: 1.24s\tremaining: 1.33s\n",
      "483:\tlearn: 0.3467620\ttotal: 1.24s\tremaining: 1.33s\n",
      "484:\tlearn: 0.3465874\ttotal: 1.25s\tremaining: 1.32s\n",
      "485:\tlearn: 0.3464277\ttotal: 1.25s\tremaining: 1.32s\n",
      "486:\tlearn: 0.3462148\ttotal: 1.25s\tremaining: 1.32s\n",
      "487:\tlearn: 0.3460827\ttotal: 1.25s\tremaining: 1.31s\n",
      "488:\tlearn: 0.3459260\ttotal: 1.26s\tremaining: 1.31s\n",
      "489:\tlearn: 0.3458329\ttotal: 1.26s\tremaining: 1.31s\n",
      "490:\tlearn: 0.3457101\ttotal: 1.26s\tremaining: 1.31s\n",
      "491:\tlearn: 0.3455643\ttotal: 1.26s\tremaining: 1.3s\n",
      "492:\tlearn: 0.3454648\ttotal: 1.27s\tremaining: 1.3s\n",
      "493:\tlearn: 0.3454272\ttotal: 1.27s\tremaining: 1.3s\n",
      "494:\tlearn: 0.3452616\ttotal: 1.27s\tremaining: 1.3s\n",
      "495:\tlearn: 0.3451381\ttotal: 1.27s\tremaining: 1.29s\n",
      "496:\tlearn: 0.3449793\ttotal: 1.28s\tremaining: 1.29s\n",
      "497:\tlearn: 0.3448650\ttotal: 1.28s\tremaining: 1.29s\n",
      "498:\tlearn: 0.3446294\ttotal: 1.28s\tremaining: 1.29s\n",
      "499:\tlearn: 0.3445106\ttotal: 1.28s\tremaining: 1.28s\n",
      "500:\tlearn: 0.3444221\ttotal: 1.29s\tremaining: 1.28s\n",
      "501:\tlearn: 0.3443050\ttotal: 1.29s\tremaining: 1.28s\n",
      "502:\tlearn: 0.3441763\ttotal: 1.29s\tremaining: 1.28s\n",
      "503:\tlearn: 0.3440876\ttotal: 1.29s\tremaining: 1.27s\n",
      "504:\tlearn: 0.3439809\ttotal: 1.3s\tremaining: 1.27s\n",
      "505:\tlearn: 0.3438631\ttotal: 1.3s\tremaining: 1.27s\n",
      "506:\tlearn: 0.3436804\ttotal: 1.3s\tremaining: 1.27s\n"
     ]
    },
    {
     "name": "stdout",
     "output_type": "stream",
     "text": [
      "507:\tlearn: 0.3436059\ttotal: 1.31s\tremaining: 1.26s\n",
      "508:\tlearn: 0.3435086\ttotal: 1.31s\tremaining: 1.26s\n",
      "509:\tlearn: 0.3434635\ttotal: 1.31s\tremaining: 1.26s\n",
      "510:\tlearn: 0.3433324\ttotal: 1.31s\tremaining: 1.26s\n",
      "511:\tlearn: 0.3432030\ttotal: 1.32s\tremaining: 1.25s\n",
      "512:\tlearn: 0.3430075\ttotal: 1.32s\tremaining: 1.25s\n",
      "513:\tlearn: 0.3429401\ttotal: 1.32s\tremaining: 1.25s\n",
      "514:\tlearn: 0.3428306\ttotal: 1.32s\tremaining: 1.25s\n",
      "515:\tlearn: 0.3426911\ttotal: 1.33s\tremaining: 1.25s\n",
      "516:\tlearn: 0.3424198\ttotal: 1.33s\tremaining: 1.24s\n",
      "517:\tlearn: 0.3423253\ttotal: 1.33s\tremaining: 1.24s\n",
      "518:\tlearn: 0.3422217\ttotal: 1.33s\tremaining: 1.24s\n",
      "519:\tlearn: 0.3421138\ttotal: 1.34s\tremaining: 1.24s\n",
      "520:\tlearn: 0.3419186\ttotal: 1.34s\tremaining: 1.23s\n",
      "521:\tlearn: 0.3416772\ttotal: 1.34s\tremaining: 1.23s\n",
      "522:\tlearn: 0.3415650\ttotal: 1.35s\tremaining: 1.23s\n",
      "523:\tlearn: 0.3414336\ttotal: 1.35s\tremaining: 1.23s\n",
      "524:\tlearn: 0.3412236\ttotal: 1.35s\tremaining: 1.23s\n",
      "525:\tlearn: 0.3411034\ttotal: 1.36s\tremaining: 1.22s\n",
      "526:\tlearn: 0.3409650\ttotal: 1.36s\tremaining: 1.22s\n",
      "527:\tlearn: 0.3408437\ttotal: 1.36s\tremaining: 1.22s\n",
      "528:\tlearn: 0.3407627\ttotal: 1.36s\tremaining: 1.21s\n",
      "529:\tlearn: 0.3406274\ttotal: 1.37s\tremaining: 1.21s\n",
      "530:\tlearn: 0.3404608\ttotal: 1.37s\tremaining: 1.21s\n"
     ]
    },
    {
     "name": "stdout",
     "output_type": "stream",
     "text": [
      "531:\tlearn: 0.3403185\ttotal: 1.37s\tremaining: 1.21s\n",
      "532:\tlearn: 0.3402076\ttotal: 1.37s\tremaining: 1.2s\n",
      "533:\tlearn: 0.3400256\ttotal: 1.38s\tremaining: 1.2s\n",
      "534:\tlearn: 0.3399504\ttotal: 1.38s\tremaining: 1.2s\n",
      "535:\tlearn: 0.3397666\ttotal: 1.38s\tremaining: 1.2s\n",
      "536:\tlearn: 0.3396166\ttotal: 1.38s\tremaining: 1.19s\n",
      "537:\tlearn: 0.3395062\ttotal: 1.39s\tremaining: 1.19s\n",
      "538:\tlearn: 0.3393291\ttotal: 1.39s\tremaining: 1.19s\n",
      "539:\tlearn: 0.3392283\ttotal: 1.39s\tremaining: 1.18s\n",
      "540:\tlearn: 0.3391445\ttotal: 1.39s\tremaining: 1.18s\n",
      "541:\tlearn: 0.3390706\ttotal: 1.4s\tremaining: 1.18s\n",
      "542:\tlearn: 0.3389283\ttotal: 1.4s\tremaining: 1.18s\n",
      "543:\tlearn: 0.3388199\ttotal: 1.4s\tremaining: 1.17s\n",
      "544:\tlearn: 0.3387681\ttotal: 1.4s\tremaining: 1.17s\n",
      "545:\tlearn: 0.3386115\ttotal: 1.4s\tremaining: 1.17s\n",
      "546:\tlearn: 0.3384788\ttotal: 1.41s\tremaining: 1.17s\n",
      "547:\tlearn: 0.3384163\ttotal: 1.41s\tremaining: 1.16s\n",
      "548:\tlearn: 0.3382685\ttotal: 1.41s\tremaining: 1.16s\n",
      "549:\tlearn: 0.3381852\ttotal: 1.41s\tremaining: 1.16s\n",
      "550:\tlearn: 0.3380286\ttotal: 1.42s\tremaining: 1.15s\n",
      "551:\tlearn: 0.3378865\ttotal: 1.42s\tremaining: 1.15s\n",
      "552:\tlearn: 0.3377806\ttotal: 1.42s\tremaining: 1.15s\n",
      "553:\tlearn: 0.3376791\ttotal: 1.42s\tremaining: 1.15s\n",
      "554:\tlearn: 0.3375759\ttotal: 1.43s\tremaining: 1.14s\n",
      "555:\tlearn: 0.3374439\ttotal: 1.43s\tremaining: 1.14s\n",
      "556:\tlearn: 0.3373321\ttotal: 1.43s\tremaining: 1.14s\n",
      "557:\tlearn: 0.3372167\ttotal: 1.43s\tremaining: 1.14s\n",
      "558:\tlearn: 0.3371423\ttotal: 1.44s\tremaining: 1.13s\n",
      "559:\tlearn: 0.3369549\ttotal: 1.44s\tremaining: 1.13s\n",
      "560:\tlearn: 0.3368617\ttotal: 1.44s\tremaining: 1.13s\n",
      "561:\tlearn: 0.3366953\ttotal: 1.44s\tremaining: 1.12s\n",
      "562:\tlearn: 0.3365638\ttotal: 1.45s\tremaining: 1.12s\n",
      "563:\tlearn: 0.3364538\ttotal: 1.45s\tremaining: 1.12s\n",
      "564:\tlearn: 0.3363133\ttotal: 1.45s\tremaining: 1.12s\n",
      "565:\tlearn: 0.3361856\ttotal: 1.45s\tremaining: 1.11s\n",
      "566:\tlearn: 0.3360235\ttotal: 1.46s\tremaining: 1.11s\n",
      "567:\tlearn: 0.3359308\ttotal: 1.46s\tremaining: 1.11s\n",
      "568:\tlearn: 0.3357685\ttotal: 1.46s\tremaining: 1.11s\n",
      "569:\tlearn: 0.3356636\ttotal: 1.46s\tremaining: 1.1s\n",
      "570:\tlearn: 0.3355059\ttotal: 1.47s\tremaining: 1.1s\n",
      "571:\tlearn: 0.3354115\ttotal: 1.47s\tremaining: 1.1s\n",
      "572:\tlearn: 0.3353847\ttotal: 1.47s\tremaining: 1.09s\n",
      "573:\tlearn: 0.3352595\ttotal: 1.47s\tremaining: 1.09s\n",
      "574:\tlearn: 0.3351102\ttotal: 1.48s\tremaining: 1.09s\n",
      "575:\tlearn: 0.3349666\ttotal: 1.48s\tremaining: 1.09s\n",
      "576:\tlearn: 0.3348840\ttotal: 1.48s\tremaining: 1.08s\n",
      "577:\tlearn: 0.3347590\ttotal: 1.48s\tremaining: 1.08s\n",
      "578:\tlearn: 0.3346529\ttotal: 1.48s\tremaining: 1.08s\n",
      "579:\tlearn: 0.3345903\ttotal: 1.49s\tremaining: 1.08s\n",
      "580:\tlearn: 0.3344985\ttotal: 1.49s\tremaining: 1.07s\n",
      "581:\tlearn: 0.3343774\ttotal: 1.49s\tremaining: 1.07s\n",
      "582:\tlearn: 0.3342658\ttotal: 1.49s\tremaining: 1.07s\n",
      "583:\tlearn: 0.3341863\ttotal: 1.5s\tremaining: 1.07s\n",
      "584:\tlearn: 0.3340978\ttotal: 1.5s\tremaining: 1.06s\n"
     ]
    },
    {
     "name": "stdout",
     "output_type": "stream",
     "text": [
      "585:\tlearn: 0.3340419\ttotal: 1.5s\tremaining: 1.06s\n",
      "586:\tlearn: 0.3339597\ttotal: 1.5s\tremaining: 1.06s\n",
      "587:\tlearn: 0.3338795\ttotal: 1.51s\tremaining: 1.06s\n",
      "588:\tlearn: 0.3338367\ttotal: 1.51s\tremaining: 1.05s\n",
      "589:\tlearn: 0.3337042\ttotal: 1.51s\tremaining: 1.05s\n",
      "590:\tlearn: 0.3336123\ttotal: 1.51s\tremaining: 1.05s\n",
      "591:\tlearn: 0.3335336\ttotal: 1.52s\tremaining: 1.04s\n",
      "592:\tlearn: 0.3334398\ttotal: 1.52s\tremaining: 1.04s\n",
      "593:\tlearn: 0.3333312\ttotal: 1.52s\tremaining: 1.04s\n",
      "594:\tlearn: 0.3331328\ttotal: 1.52s\tremaining: 1.04s\n",
      "595:\tlearn: 0.3329893\ttotal: 1.53s\tremaining: 1.03s\n",
      "596:\tlearn: 0.3328720\ttotal: 1.53s\tremaining: 1.03s\n",
      "597:\tlearn: 0.3327519\ttotal: 1.53s\tremaining: 1.03s\n",
      "598:\tlearn: 0.3327193\ttotal: 1.53s\tremaining: 1.03s\n",
      "599:\tlearn: 0.3326270\ttotal: 1.54s\tremaining: 1.02s\n",
      "600:\tlearn: 0.3325515\ttotal: 1.54s\tremaining: 1.02s\n",
      "601:\tlearn: 0.3324696\ttotal: 1.54s\tremaining: 1.02s\n",
      "602:\tlearn: 0.3323354\ttotal: 1.54s\tremaining: 1.02s\n",
      "603:\tlearn: 0.3322141\ttotal: 1.55s\tremaining: 1.01s\n",
      "604:\tlearn: 0.3321403\ttotal: 1.55s\tremaining: 1.01s\n",
      "605:\tlearn: 0.3320255\ttotal: 1.55s\tremaining: 1.01s\n",
      "606:\tlearn: 0.3319185\ttotal: 1.55s\tremaining: 1.01s\n",
      "607:\tlearn: 0.3318252\ttotal: 1.56s\tremaining: 1s\n",
      "608:\tlearn: 0.3317016\ttotal: 1.56s\tremaining: 1s\n",
      "609:\tlearn: 0.3315823\ttotal: 1.56s\tremaining: 999ms\n",
      "610:\tlearn: 0.3314696\ttotal: 1.56s\tremaining: 996ms\n"
     ]
    },
    {
     "name": "stdout",
     "output_type": "stream",
     "text": [
      "611:\tlearn: 0.3313939\ttotal: 1.57s\tremaining: 994ms\n",
      "612:\tlearn: 0.3313085\ttotal: 1.57s\tremaining: 991ms\n",
      "613:\tlearn: 0.3312109\ttotal: 1.57s\tremaining: 989ms\n",
      "614:\tlearn: 0.3311229\ttotal: 1.57s\tremaining: 986ms\n",
      "615:\tlearn: 0.3310106\ttotal: 1.58s\tremaining: 983ms\n",
      "616:\tlearn: 0.3309244\ttotal: 1.58s\tremaining: 981ms\n",
      "617:\tlearn: 0.3307464\ttotal: 1.58s\tremaining: 978ms\n",
      "618:\tlearn: 0.3306792\ttotal: 1.58s\tremaining: 976ms\n",
      "619:\tlearn: 0.3305884\ttotal: 1.59s\tremaining: 973ms\n",
      "620:\tlearn: 0.3305040\ttotal: 1.59s\tremaining: 970ms\n",
      "621:\tlearn: 0.3304109\ttotal: 1.59s\tremaining: 968ms\n",
      "622:\tlearn: 0.3303326\ttotal: 1.59s\tremaining: 965ms\n",
      "623:\tlearn: 0.3301841\ttotal: 1.6s\tremaining: 963ms\n",
      "624:\tlearn: 0.3300572\ttotal: 1.6s\tremaining: 960ms\n",
      "625:\tlearn: 0.3299725\ttotal: 1.6s\tremaining: 958ms\n",
      "626:\tlearn: 0.3298895\ttotal: 1.6s\tremaining: 955ms\n",
      "627:\tlearn: 0.3297765\ttotal: 1.61s\tremaining: 952ms\n",
      "628:\tlearn: 0.3296900\ttotal: 1.61s\tremaining: 950ms\n",
      "629:\tlearn: 0.3295419\ttotal: 1.61s\tremaining: 947ms\n",
      "630:\tlearn: 0.3294649\ttotal: 1.61s\tremaining: 944ms\n",
      "631:\tlearn: 0.3293304\ttotal: 1.62s\tremaining: 942ms\n",
      "632:\tlearn: 0.3292278\ttotal: 1.62s\tremaining: 939ms\n",
      "633:\tlearn: 0.3291555\ttotal: 1.62s\tremaining: 937ms\n",
      "634:\tlearn: 0.3290562\ttotal: 1.62s\tremaining: 934ms\n",
      "635:\tlearn: 0.3290005\ttotal: 1.63s\tremaining: 931ms\n",
      "636:\tlearn: 0.3288475\ttotal: 1.63s\tremaining: 928ms\n",
      "637:\tlearn: 0.3286247\ttotal: 1.63s\tremaining: 926ms\n",
      "638:\tlearn: 0.3284931\ttotal: 1.63s\tremaining: 923ms\n",
      "639:\tlearn: 0.3283704\ttotal: 1.64s\tremaining: 921ms\n",
      "640:\tlearn: 0.3282651\ttotal: 1.64s\tremaining: 918ms\n",
      "641:\tlearn: 0.3281302\ttotal: 1.64s\tremaining: 915ms\n",
      "642:\tlearn: 0.3280235\ttotal: 1.64s\tremaining: 913ms\n",
      "643:\tlearn: 0.3279323\ttotal: 1.65s\tremaining: 910ms\n",
      "644:\tlearn: 0.3278268\ttotal: 1.65s\tremaining: 907ms\n",
      "645:\tlearn: 0.3277097\ttotal: 1.65s\tremaining: 905ms\n",
      "646:\tlearn: 0.3276397\ttotal: 1.65s\tremaining: 902ms\n",
      "647:\tlearn: 0.3275459\ttotal: 1.66s\tremaining: 899ms\n",
      "648:\tlearn: 0.3273776\ttotal: 1.66s\tremaining: 896ms\n",
      "649:\tlearn: 0.3272843\ttotal: 1.66s\tremaining: 894ms\n",
      "650:\tlearn: 0.3271660\ttotal: 1.66s\tremaining: 891ms\n",
      "651:\tlearn: 0.3270339\ttotal: 1.67s\tremaining: 889ms\n",
      "652:\tlearn: 0.3269812\ttotal: 1.67s\tremaining: 886ms\n",
      "653:\tlearn: 0.3268652\ttotal: 1.67s\tremaining: 883ms\n",
      "654:\tlearn: 0.3267313\ttotal: 1.67s\tremaining: 881ms\n",
      "655:\tlearn: 0.3266546\ttotal: 1.67s\tremaining: 878ms\n",
      "656:\tlearn: 0.3265842\ttotal: 1.68s\tremaining: 875ms\n",
      "657:\tlearn: 0.3264832\ttotal: 1.68s\tremaining: 873ms\n",
      "658:\tlearn: 0.3264252\ttotal: 1.68s\tremaining: 870ms\n",
      "659:\tlearn: 0.3263489\ttotal: 1.68s\tremaining: 867ms\n",
      "660:\tlearn: 0.3262624\ttotal: 1.69s\tremaining: 865ms\n",
      "661:\tlearn: 0.3262183\ttotal: 1.69s\tremaining: 862ms\n",
      "662:\tlearn: 0.3261185\ttotal: 1.69s\tremaining: 859ms\n",
      "663:\tlearn: 0.3260033\ttotal: 1.69s\tremaining: 857ms\n",
      "664:\tlearn: 0.3258236\ttotal: 1.7s\tremaining: 854ms\n"
     ]
    },
    {
     "name": "stdout",
     "output_type": "stream",
     "text": [
      "665:\tlearn: 0.3257331\ttotal: 1.7s\tremaining: 852ms\n",
      "666:\tlearn: 0.3256200\ttotal: 1.7s\tremaining: 849ms\n",
      "667:\tlearn: 0.3254879\ttotal: 1.7s\tremaining: 847ms\n",
      "668:\tlearn: 0.3254338\ttotal: 1.71s\tremaining: 844ms\n",
      "669:\tlearn: 0.3252901\ttotal: 1.71s\tremaining: 841ms\n",
      "670:\tlearn: 0.3251657\ttotal: 1.71s\tremaining: 839ms\n",
      "671:\tlearn: 0.3250614\ttotal: 1.71s\tremaining: 836ms\n",
      "672:\tlearn: 0.3248827\ttotal: 1.72s\tremaining: 833ms\n",
      "673:\tlearn: 0.3247774\ttotal: 1.72s\tremaining: 831ms\n",
      "674:\tlearn: 0.3246479\ttotal: 1.72s\tremaining: 828ms\n",
      "675:\tlearn: 0.3245036\ttotal: 1.72s\tremaining: 825ms\n",
      "676:\tlearn: 0.3244116\ttotal: 1.72s\tremaining: 823ms\n",
      "677:\tlearn: 0.3242886\ttotal: 1.73s\tremaining: 820ms\n",
      "678:\tlearn: 0.3241803\ttotal: 1.73s\tremaining: 818ms\n",
      "679:\tlearn: 0.3240333\ttotal: 1.73s\tremaining: 815ms\n",
      "680:\tlearn: 0.3239263\ttotal: 1.73s\tremaining: 812ms\n",
      "681:\tlearn: 0.3238080\ttotal: 1.74s\tremaining: 810ms\n",
      "682:\tlearn: 0.3236986\ttotal: 1.74s\tremaining: 807ms\n",
      "683:\tlearn: 0.3235397\ttotal: 1.74s\tremaining: 804ms\n",
      "684:\tlearn: 0.3234527\ttotal: 1.74s\tremaining: 802ms\n",
      "685:\tlearn: 0.3233466\ttotal: 1.75s\tremaining: 799ms\n",
      "686:\tlearn: 0.3232863\ttotal: 1.75s\tremaining: 797ms\n",
      "687:\tlearn: 0.3232212\ttotal: 1.75s\tremaining: 794ms\n",
      "688:\tlearn: 0.3230788\ttotal: 1.75s\tremaining: 792ms\n",
      "689:\tlearn: 0.3229938\ttotal: 1.76s\tremaining: 789ms\n",
      "690:\tlearn: 0.3229227\ttotal: 1.76s\tremaining: 786ms\n",
      "691:\tlearn: 0.3227666\ttotal: 1.76s\tremaining: 784ms\n"
     ]
    },
    {
     "name": "stdout",
     "output_type": "stream",
     "text": [
      "692:\tlearn: 0.3226935\ttotal: 1.76s\tremaining: 781ms\n",
      "693:\tlearn: 0.3225684\ttotal: 1.76s\tremaining: 779ms\n",
      "694:\tlearn: 0.3224723\ttotal: 1.77s\tremaining: 776ms\n",
      "695:\tlearn: 0.3223783\ttotal: 1.77s\tremaining: 773ms\n",
      "696:\tlearn: 0.3222913\ttotal: 1.77s\tremaining: 771ms\n",
      "697:\tlearn: 0.3221771\ttotal: 1.77s\tremaining: 768ms\n",
      "698:\tlearn: 0.3220440\ttotal: 1.78s\tremaining: 766ms\n",
      "699:\tlearn: 0.3220151\ttotal: 1.78s\tremaining: 763ms\n",
      "700:\tlearn: 0.3219010\ttotal: 1.78s\tremaining: 760ms\n",
      "701:\tlearn: 0.3218358\ttotal: 1.78s\tremaining: 758ms\n",
      "702:\tlearn: 0.3217311\ttotal: 1.79s\tremaining: 755ms\n",
      "703:\tlearn: 0.3216143\ttotal: 1.79s\tremaining: 753ms\n",
      "704:\tlearn: 0.3215287\ttotal: 1.79s\tremaining: 750ms\n",
      "705:\tlearn: 0.3213300\ttotal: 1.79s\tremaining: 748ms\n",
      "706:\tlearn: 0.3212488\ttotal: 1.8s\tremaining: 745ms\n",
      "707:\tlearn: 0.3211924\ttotal: 1.8s\tremaining: 742ms\n",
      "708:\tlearn: 0.3211296\ttotal: 1.8s\tremaining: 740ms\n",
      "709:\tlearn: 0.3209892\ttotal: 1.8s\tremaining: 737ms\n",
      "710:\tlearn: 0.3208526\ttotal: 1.81s\tremaining: 734ms\n",
      "711:\tlearn: 0.3207125\ttotal: 1.81s\tremaining: 732ms\n",
      "712:\tlearn: 0.3206275\ttotal: 1.81s\tremaining: 729ms\n",
      "713:\tlearn: 0.3204841\ttotal: 1.81s\tremaining: 727ms\n",
      "714:\tlearn: 0.3204138\ttotal: 1.82s\tremaining: 724ms\n",
      "715:\tlearn: 0.3202996\ttotal: 1.82s\tremaining: 722ms\n",
      "716:\tlearn: 0.3202447\ttotal: 1.82s\tremaining: 719ms\n",
      "717:\tlearn: 0.3201225\ttotal: 1.82s\tremaining: 716ms\n",
      "718:\tlearn: 0.3200429\ttotal: 1.83s\tremaining: 714ms\n",
      "719:\tlearn: 0.3199871\ttotal: 1.83s\tremaining: 711ms\n",
      "720:\tlearn: 0.3199258\ttotal: 1.83s\tremaining: 709ms\n",
      "721:\tlearn: 0.3198650\ttotal: 1.83s\tremaining: 706ms\n",
      "722:\tlearn: 0.3197383\ttotal: 1.83s\tremaining: 703ms\n",
      "723:\tlearn: 0.3196347\ttotal: 1.84s\tremaining: 701ms\n",
      "724:\tlearn: 0.3195975\ttotal: 1.84s\tremaining: 698ms\n",
      "725:\tlearn: 0.3194874\ttotal: 1.84s\tremaining: 696ms\n",
      "726:\tlearn: 0.3193876\ttotal: 1.84s\tremaining: 693ms\n",
      "727:\tlearn: 0.3192775\ttotal: 1.85s\tremaining: 690ms\n",
      "728:\tlearn: 0.3191179\ttotal: 1.85s\tremaining: 688ms\n",
      "729:\tlearn: 0.3189842\ttotal: 1.85s\tremaining: 685ms\n",
      "730:\tlearn: 0.3189167\ttotal: 1.85s\tremaining: 683ms\n",
      "731:\tlearn: 0.3188083\ttotal: 1.86s\tremaining: 680ms\n",
      "732:\tlearn: 0.3187415\ttotal: 1.86s\tremaining: 677ms\n",
      "733:\tlearn: 0.3186475\ttotal: 1.86s\tremaining: 675ms\n",
      "734:\tlearn: 0.3185509\ttotal: 1.86s\tremaining: 672ms\n",
      "735:\tlearn: 0.3184496\ttotal: 1.87s\tremaining: 670ms\n",
      "736:\tlearn: 0.3183662\ttotal: 1.87s\tremaining: 667ms\n",
      "737:\tlearn: 0.3182762\ttotal: 1.87s\tremaining: 665ms\n",
      "738:\tlearn: 0.3181876\ttotal: 1.87s\tremaining: 662ms\n",
      "739:\tlearn: 0.3181204\ttotal: 1.88s\tremaining: 659ms\n",
      "740:\tlearn: 0.3180493\ttotal: 1.88s\tremaining: 657ms\n",
      "741:\tlearn: 0.3179572\ttotal: 1.88s\tremaining: 654ms\n",
      "742:\tlearn: 0.3178637\ttotal: 1.88s\tremaining: 652ms\n",
      "743:\tlearn: 0.3177892\ttotal: 1.89s\tremaining: 649ms\n",
      "744:\tlearn: 0.3177258\ttotal: 1.89s\tremaining: 646ms\n",
      "745:\tlearn: 0.3176131\ttotal: 1.89s\tremaining: 644ms\n"
     ]
    },
    {
     "name": "stdout",
     "output_type": "stream",
     "text": [
      "746:\tlearn: 0.3174742\ttotal: 1.89s\tremaining: 641ms\n",
      "747:\tlearn: 0.3173987\ttotal: 1.9s\tremaining: 639ms\n",
      "748:\tlearn: 0.3173409\ttotal: 1.9s\tremaining: 636ms\n",
      "749:\tlearn: 0.3171943\ttotal: 1.9s\tremaining: 634ms\n",
      "750:\tlearn: 0.3170919\ttotal: 1.9s\tremaining: 631ms\n",
      "751:\tlearn: 0.3170416\ttotal: 1.91s\tremaining: 628ms\n",
      "752:\tlearn: 0.3169617\ttotal: 1.91s\tremaining: 626ms\n",
      "753:\tlearn: 0.3168656\ttotal: 1.91s\tremaining: 623ms\n",
      "754:\tlearn: 0.3167734\ttotal: 1.91s\tremaining: 621ms\n",
      "755:\tlearn: 0.3166825\ttotal: 1.91s\tremaining: 618ms\n",
      "756:\tlearn: 0.3165663\ttotal: 1.92s\tremaining: 615ms\n",
      "757:\tlearn: 0.3164823\ttotal: 1.92s\tremaining: 613ms\n",
      "758:\tlearn: 0.3164051\ttotal: 1.92s\tremaining: 610ms\n",
      "759:\tlearn: 0.3163166\ttotal: 1.93s\tremaining: 608ms\n",
      "760:\tlearn: 0.3162230\ttotal: 1.93s\tremaining: 605ms\n",
      "761:\tlearn: 0.3160956\ttotal: 1.93s\tremaining: 603ms\n",
      "762:\tlearn: 0.3159923\ttotal: 1.93s\tremaining: 600ms\n",
      "763:\tlearn: 0.3158753\ttotal: 1.93s\tremaining: 598ms\n",
      "764:\tlearn: 0.3157867\ttotal: 1.94s\tremaining: 595ms\n",
      "765:\tlearn: 0.3157141\ttotal: 1.94s\tremaining: 593ms\n",
      "766:\tlearn: 0.3156313\ttotal: 1.94s\tremaining: 590ms\n",
      "767:\tlearn: 0.3155361\ttotal: 1.94s\tremaining: 587ms\n",
      "768:\tlearn: 0.3153967\ttotal: 1.95s\tremaining: 585ms\n",
      "769:\tlearn: 0.3152756\ttotal: 1.95s\tremaining: 582ms\n",
      "770:\tlearn: 0.3151852\ttotal: 1.95s\tremaining: 580ms\n",
      "771:\tlearn: 0.3150914\ttotal: 1.95s\tremaining: 577ms\n",
      "772:\tlearn: 0.3150359\ttotal: 1.96s\tremaining: 575ms\n"
     ]
    },
    {
     "name": "stdout",
     "output_type": "stream",
     "text": [
      "773:\tlearn: 0.3149394\ttotal: 1.96s\tremaining: 572ms\n",
      "774:\tlearn: 0.3148707\ttotal: 1.96s\tremaining: 570ms\n",
      "775:\tlearn: 0.3147676\ttotal: 1.96s\tremaining: 567ms\n",
      "776:\tlearn: 0.3146990\ttotal: 1.97s\tremaining: 565ms\n",
      "777:\tlearn: 0.3146095\ttotal: 1.97s\tremaining: 562ms\n",
      "778:\tlearn: 0.3145237\ttotal: 1.97s\tremaining: 559ms\n",
      "779:\tlearn: 0.3144437\ttotal: 1.97s\tremaining: 557ms\n",
      "780:\tlearn: 0.3143614\ttotal: 1.98s\tremaining: 554ms\n",
      "781:\tlearn: 0.3142523\ttotal: 1.98s\tremaining: 552ms\n",
      "782:\tlearn: 0.3141489\ttotal: 1.98s\tremaining: 549ms\n",
      "783:\tlearn: 0.3141277\ttotal: 1.98s\tremaining: 547ms\n",
      "784:\tlearn: 0.3140628\ttotal: 1.99s\tremaining: 544ms\n",
      "785:\tlearn: 0.3139439\ttotal: 1.99s\tremaining: 541ms\n",
      "786:\tlearn: 0.3138009\ttotal: 1.99s\tremaining: 539ms\n",
      "787:\tlearn: 0.3137537\ttotal: 1.99s\tremaining: 536ms\n",
      "788:\tlearn: 0.3136441\ttotal: 2s\tremaining: 534ms\n",
      "789:\tlearn: 0.3135694\ttotal: 2s\tremaining: 531ms\n",
      "790:\tlearn: 0.3135020\ttotal: 2s\tremaining: 529ms\n",
      "791:\tlearn: 0.3134070\ttotal: 2s\tremaining: 526ms\n",
      "792:\tlearn: 0.3133267\ttotal: 2.01s\tremaining: 524ms\n",
      "793:\tlearn: 0.3131931\ttotal: 2.01s\tremaining: 521ms\n",
      "794:\tlearn: 0.3130848\ttotal: 2.01s\tremaining: 519ms\n",
      "795:\tlearn: 0.3130120\ttotal: 2.01s\tremaining: 516ms\n",
      "796:\tlearn: 0.3128333\ttotal: 2.02s\tremaining: 513ms\n",
      "797:\tlearn: 0.3127332\ttotal: 2.02s\tremaining: 511ms\n",
      "798:\tlearn: 0.3126430\ttotal: 2.02s\tremaining: 508ms\n",
      "799:\tlearn: 0.3125270\ttotal: 2.02s\tremaining: 506ms\n",
      "800:\tlearn: 0.3124747\ttotal: 2.02s\tremaining: 503ms\n",
      "801:\tlearn: 0.3123773\ttotal: 2.03s\tremaining: 501ms\n",
      "802:\tlearn: 0.3122622\ttotal: 2.03s\tremaining: 498ms\n",
      "803:\tlearn: 0.3121969\ttotal: 2.03s\tremaining: 496ms\n",
      "804:\tlearn: 0.3121214\ttotal: 2.04s\tremaining: 493ms\n",
      "805:\tlearn: 0.3120309\ttotal: 2.04s\tremaining: 491ms\n",
      "806:\tlearn: 0.3119418\ttotal: 2.04s\tremaining: 488ms\n",
      "807:\tlearn: 0.3118827\ttotal: 2.04s\tremaining: 485ms\n",
      "808:\tlearn: 0.3118079\ttotal: 2.04s\tremaining: 483ms\n",
      "809:\tlearn: 0.3116942\ttotal: 2.05s\tremaining: 480ms\n",
      "810:\tlearn: 0.3115699\ttotal: 2.05s\tremaining: 478ms\n",
      "811:\tlearn: 0.3114767\ttotal: 2.05s\tremaining: 475ms\n",
      "812:\tlearn: 0.3114338\ttotal: 2.05s\tremaining: 473ms\n",
      "813:\tlearn: 0.3113477\ttotal: 2.06s\tremaining: 470ms\n",
      "814:\tlearn: 0.3113003\ttotal: 2.06s\tremaining: 468ms\n",
      "815:\tlearn: 0.3111758\ttotal: 2.06s\tremaining: 465ms\n",
      "816:\tlearn: 0.3110360\ttotal: 2.06s\tremaining: 463ms\n",
      "817:\tlearn: 0.3109748\ttotal: 2.07s\tremaining: 460ms\n",
      "818:\tlearn: 0.3109003\ttotal: 2.07s\tremaining: 457ms\n",
      "819:\tlearn: 0.3108424\ttotal: 2.07s\tremaining: 455ms\n",
      "820:\tlearn: 0.3107575\ttotal: 2.07s\tremaining: 452ms\n",
      "821:\tlearn: 0.3106573\ttotal: 2.08s\tremaining: 450ms\n",
      "822:\tlearn: 0.3105761\ttotal: 2.08s\tremaining: 447ms\n",
      "823:\tlearn: 0.3104974\ttotal: 2.08s\tremaining: 445ms\n",
      "824:\tlearn: 0.3104282\ttotal: 2.08s\tremaining: 442ms\n",
      "825:\tlearn: 0.3103620\ttotal: 2.09s\tremaining: 440ms\n"
     ]
    },
    {
     "name": "stdout",
     "output_type": "stream",
     "text": [
      "826:\tlearn: 0.3102840\ttotal: 2.09s\tremaining: 437ms\n",
      "827:\tlearn: 0.3102197\ttotal: 2.09s\tremaining: 434ms\n",
      "828:\tlearn: 0.3101636\ttotal: 2.09s\tremaining: 432ms\n",
      "829:\tlearn: 0.3099928\ttotal: 2.1s\tremaining: 429ms\n",
      "830:\tlearn: 0.3099236\ttotal: 2.1s\tremaining: 427ms\n",
      "831:\tlearn: 0.3098236\ttotal: 2.1s\tremaining: 424ms\n",
      "832:\tlearn: 0.3097561\ttotal: 2.1s\tremaining: 422ms\n",
      "833:\tlearn: 0.3096926\ttotal: 2.11s\tremaining: 419ms\n",
      "834:\tlearn: 0.3096206\ttotal: 2.11s\tremaining: 417ms\n",
      "835:\tlearn: 0.3095308\ttotal: 2.11s\tremaining: 414ms\n",
      "836:\tlearn: 0.3094397\ttotal: 2.11s\tremaining: 411ms\n",
      "837:\tlearn: 0.3093393\ttotal: 2.12s\tremaining: 409ms\n",
      "838:\tlearn: 0.3092884\ttotal: 2.12s\tremaining: 406ms\n",
      "839:\tlearn: 0.3092401\ttotal: 2.12s\tremaining: 404ms\n",
      "840:\tlearn: 0.3091627\ttotal: 2.12s\tremaining: 401ms\n",
      "841:\tlearn: 0.3090950\ttotal: 2.13s\tremaining: 399ms\n",
      "842:\tlearn: 0.3090291\ttotal: 2.13s\tremaining: 396ms\n",
      "843:\tlearn: 0.3089438\ttotal: 2.13s\tremaining: 394ms\n",
      "844:\tlearn: 0.3088505\ttotal: 2.13s\tremaining: 391ms\n",
      "845:\tlearn: 0.3087432\ttotal: 2.13s\tremaining: 389ms\n",
      "846:\tlearn: 0.3086628\ttotal: 2.14s\tremaining: 386ms\n",
      "847:\tlearn: 0.3085958\ttotal: 2.14s\tremaining: 384ms\n",
      "848:\tlearn: 0.3085070\ttotal: 2.14s\tremaining: 381ms\n",
      "849:\tlearn: 0.3084501\ttotal: 2.14s\tremaining: 378ms\n",
      "850:\tlearn: 0.3083387\ttotal: 2.15s\tremaining: 376ms\n",
      "851:\tlearn: 0.3082756\ttotal: 2.15s\tremaining: 373ms\n",
      "852:\tlearn: 0.3081741\ttotal: 2.15s\tremaining: 371ms\n",
      "853:\tlearn: 0.3080980\ttotal: 2.15s\tremaining: 368ms\n"
     ]
    },
    {
     "name": "stdout",
     "output_type": "stream",
     "text": [
      "854:\tlearn: 0.3079551\ttotal: 2.16s\tremaining: 366ms\n",
      "855:\tlearn: 0.3078823\ttotal: 2.16s\tremaining: 363ms\n",
      "856:\tlearn: 0.3078004\ttotal: 2.16s\tremaining: 361ms\n",
      "857:\tlearn: 0.3077378\ttotal: 2.16s\tremaining: 358ms\n",
      "858:\tlearn: 0.3076392\ttotal: 2.17s\tremaining: 356ms\n",
      "859:\tlearn: 0.3075335\ttotal: 2.17s\tremaining: 353ms\n",
      "860:\tlearn: 0.3074662\ttotal: 2.17s\tremaining: 351ms\n",
      "861:\tlearn: 0.3073952\ttotal: 2.17s\tremaining: 348ms\n",
      "862:\tlearn: 0.3073488\ttotal: 2.18s\tremaining: 346ms\n",
      "863:\tlearn: 0.3072478\ttotal: 2.18s\tremaining: 343ms\n",
      "864:\tlearn: 0.3071847\ttotal: 2.18s\tremaining: 341ms\n",
      "865:\tlearn: 0.3071130\ttotal: 2.18s\tremaining: 338ms\n",
      "866:\tlearn: 0.3070244\ttotal: 2.19s\tremaining: 336ms\n",
      "867:\tlearn: 0.3069399\ttotal: 2.19s\tremaining: 333ms\n",
      "868:\tlearn: 0.3068408\ttotal: 2.19s\tremaining: 331ms\n",
      "869:\tlearn: 0.3067736\ttotal: 2.19s\tremaining: 328ms\n",
      "870:\tlearn: 0.3066723\ttotal: 2.2s\tremaining: 325ms\n",
      "871:\tlearn: 0.3065842\ttotal: 2.2s\tremaining: 323ms\n",
      "872:\tlearn: 0.3064974\ttotal: 2.2s\tremaining: 320ms\n",
      "873:\tlearn: 0.3064056\ttotal: 2.2s\tremaining: 318ms\n",
      "874:\tlearn: 0.3063427\ttotal: 2.21s\tremaining: 315ms\n",
      "875:\tlearn: 0.3062964\ttotal: 2.21s\tremaining: 313ms\n",
      "876:\tlearn: 0.3062602\ttotal: 2.21s\tremaining: 310ms\n",
      "877:\tlearn: 0.3061985\ttotal: 2.21s\tremaining: 308ms\n",
      "878:\tlearn: 0.3061115\ttotal: 2.22s\tremaining: 305ms\n",
      "879:\tlearn: 0.3060348\ttotal: 2.22s\tremaining: 303ms\n",
      "880:\tlearn: 0.3059638\ttotal: 2.22s\tremaining: 300ms\n",
      "881:\tlearn: 0.3058547\ttotal: 2.22s\tremaining: 298ms\n",
      "882:\tlearn: 0.3057718\ttotal: 2.23s\tremaining: 295ms\n",
      "883:\tlearn: 0.3056552\ttotal: 2.23s\tremaining: 292ms\n",
      "884:\tlearn: 0.3056311\ttotal: 2.23s\tremaining: 290ms\n",
      "885:\tlearn: 0.3055407\ttotal: 2.23s\tremaining: 287ms\n",
      "886:\tlearn: 0.3054107\ttotal: 2.24s\tremaining: 285ms\n",
      "887:\tlearn: 0.3053361\ttotal: 2.24s\tremaining: 282ms\n",
      "888:\tlearn: 0.3051640\ttotal: 2.24s\tremaining: 280ms\n",
      "889:\tlearn: 0.3051121\ttotal: 2.24s\tremaining: 277ms\n",
      "890:\tlearn: 0.3050140\ttotal: 2.25s\tremaining: 275ms\n",
      "891:\tlearn: 0.3049111\ttotal: 2.25s\tremaining: 272ms\n",
      "892:\tlearn: 0.3047997\ttotal: 2.25s\tremaining: 270ms\n",
      "893:\tlearn: 0.3047262\ttotal: 2.25s\tremaining: 267ms\n",
      "894:\tlearn: 0.3046491\ttotal: 2.26s\tremaining: 265ms\n",
      "895:\tlearn: 0.3045342\ttotal: 2.26s\tremaining: 262ms\n",
      "896:\tlearn: 0.3044604\ttotal: 2.26s\tremaining: 260ms\n",
      "897:\tlearn: 0.3043566\ttotal: 2.26s\tremaining: 257ms\n",
      "898:\tlearn: 0.3042796\ttotal: 2.27s\tremaining: 255ms\n",
      "899:\tlearn: 0.3041876\ttotal: 2.27s\tremaining: 252ms\n",
      "900:\tlearn: 0.3041062\ttotal: 2.27s\tremaining: 250ms\n",
      "901:\tlearn: 0.3040218\ttotal: 2.27s\tremaining: 247ms\n",
      "902:\tlearn: 0.3039301\ttotal: 2.28s\tremaining: 245ms\n",
      "903:\tlearn: 0.3038969\ttotal: 2.28s\tremaining: 242ms\n",
      "904:\tlearn: 0.3038703\ttotal: 2.28s\tremaining: 239ms\n",
      "905:\tlearn: 0.3037991\ttotal: 2.28s\tremaining: 237ms\n"
     ]
    },
    {
     "name": "stdout",
     "output_type": "stream",
     "text": [
      "906:\tlearn: 0.3036529\ttotal: 2.29s\tremaining: 234ms\n",
      "907:\tlearn: 0.3035696\ttotal: 2.29s\tremaining: 232ms\n",
      "908:\tlearn: 0.3035335\ttotal: 2.29s\tremaining: 229ms\n",
      "909:\tlearn: 0.3034696\ttotal: 2.29s\tremaining: 227ms\n",
      "910:\tlearn: 0.3033196\ttotal: 2.29s\tremaining: 224ms\n",
      "911:\tlearn: 0.3032514\ttotal: 2.3s\tremaining: 222ms\n",
      "912:\tlearn: 0.3031552\ttotal: 2.3s\tremaining: 219ms\n",
      "913:\tlearn: 0.3030439\ttotal: 2.3s\tremaining: 217ms\n",
      "914:\tlearn: 0.3030297\ttotal: 2.31s\tremaining: 214ms\n",
      "915:\tlearn: 0.3029412\ttotal: 2.31s\tremaining: 212ms\n",
      "916:\tlearn: 0.3028727\ttotal: 2.31s\tremaining: 209ms\n",
      "917:\tlearn: 0.3027890\ttotal: 2.31s\tremaining: 207ms\n",
      "918:\tlearn: 0.3026808\ttotal: 2.31s\tremaining: 204ms\n",
      "919:\tlearn: 0.3026275\ttotal: 2.32s\tremaining: 202ms\n",
      "920:\tlearn: 0.3025411\ttotal: 2.32s\tremaining: 199ms\n",
      "921:\tlearn: 0.3024723\ttotal: 2.32s\tremaining: 196ms\n",
      "922:\tlearn: 0.3023826\ttotal: 2.32s\tremaining: 194ms\n",
      "923:\tlearn: 0.3022998\ttotal: 2.33s\tremaining: 191ms\n",
      "924:\tlearn: 0.3022547\ttotal: 2.33s\tremaining: 189ms\n",
      "925:\tlearn: 0.3021685\ttotal: 2.33s\tremaining: 186ms\n",
      "926:\tlearn: 0.3021489\ttotal: 2.33s\tremaining: 184ms\n",
      "927:\tlearn: 0.3020412\ttotal: 2.34s\tremaining: 181ms\n",
      "928:\tlearn: 0.3019718\ttotal: 2.34s\tremaining: 179ms\n",
      "929:\tlearn: 0.3018635\ttotal: 2.34s\tremaining: 176ms\n",
      "930:\tlearn: 0.3018023\ttotal: 2.34s\tremaining: 174ms\n",
      "931:\tlearn: 0.3017378\ttotal: 2.35s\tremaining: 171ms\n",
      "932:\tlearn: 0.3016612\ttotal: 2.35s\tremaining: 169ms\n",
      "933:\tlearn: 0.3016042\ttotal: 2.35s\tremaining: 166ms\n"
     ]
    },
    {
     "name": "stdout",
     "output_type": "stream",
     "text": [
      "934:\tlearn: 0.3015470\ttotal: 2.35s\tremaining: 164ms\n",
      "935:\tlearn: 0.3014606\ttotal: 2.36s\tremaining: 161ms\n",
      "936:\tlearn: 0.3013368\ttotal: 2.36s\tremaining: 159ms\n",
      "937:\tlearn: 0.3012640\ttotal: 2.36s\tremaining: 156ms\n",
      "938:\tlearn: 0.3011814\ttotal: 2.37s\tremaining: 154ms\n",
      "939:\tlearn: 0.3011070\ttotal: 2.37s\tremaining: 151ms\n",
      "940:\tlearn: 0.3010281\ttotal: 2.37s\tremaining: 149ms\n",
      "941:\tlearn: 0.3009614\ttotal: 2.37s\tremaining: 146ms\n",
      "942:\tlearn: 0.3008876\ttotal: 2.37s\tremaining: 144ms\n",
      "943:\tlearn: 0.3008106\ttotal: 2.38s\tremaining: 141ms\n",
      "944:\tlearn: 0.3007169\ttotal: 2.38s\tremaining: 138ms\n",
      "945:\tlearn: 0.3006704\ttotal: 2.38s\tremaining: 136ms\n",
      "946:\tlearn: 0.3006114\ttotal: 2.38s\tremaining: 133ms\n",
      "947:\tlearn: 0.3005554\ttotal: 2.39s\tremaining: 131ms\n",
      "948:\tlearn: 0.3005028\ttotal: 2.39s\tremaining: 128ms\n",
      "949:\tlearn: 0.3004130\ttotal: 2.39s\tremaining: 126ms\n",
      "950:\tlearn: 0.3003187\ttotal: 2.39s\tremaining: 123ms\n",
      "951:\tlearn: 0.3002690\ttotal: 2.4s\tremaining: 121ms\n",
      "952:\tlearn: 0.3002096\ttotal: 2.4s\tremaining: 118ms\n",
      "953:\tlearn: 0.3001104\ttotal: 2.4s\tremaining: 116ms\n",
      "954:\tlearn: 0.3000478\ttotal: 2.4s\tremaining: 113ms\n",
      "955:\tlearn: 0.2999335\ttotal: 2.41s\tremaining: 111ms\n",
      "956:\tlearn: 0.2998645\ttotal: 2.41s\tremaining: 108ms\n",
      "957:\tlearn: 0.2998023\ttotal: 2.41s\tremaining: 106ms\n",
      "958:\tlearn: 0.2997060\ttotal: 2.41s\tremaining: 103ms\n",
      "959:\tlearn: 0.2996446\ttotal: 2.42s\tremaining: 101ms\n",
      "960:\tlearn: 0.2995681\ttotal: 2.42s\tremaining: 98.2ms\n",
      "961:\tlearn: 0.2994314\ttotal: 2.42s\tremaining: 95.7ms\n",
      "962:\tlearn: 0.2993824\ttotal: 2.42s\tremaining: 93.2ms\n",
      "963:\tlearn: 0.2993218\ttotal: 2.43s\tremaining: 90.6ms\n",
      "964:\tlearn: 0.2992670\ttotal: 2.43s\tremaining: 88.1ms\n",
      "965:\tlearn: 0.2991829\ttotal: 2.43s\tremaining: 85.6ms\n",
      "966:\tlearn: 0.2991189\ttotal: 2.43s\tremaining: 83.1ms\n",
      "967:\tlearn: 0.2990456\ttotal: 2.44s\tremaining: 80.6ms\n",
      "968:\tlearn: 0.2989978\ttotal: 2.44s\tremaining: 78ms\n",
      "969:\tlearn: 0.2989430\ttotal: 2.44s\tremaining: 75.5ms\n",
      "970:\tlearn: 0.2988735\ttotal: 2.44s\tremaining: 73ms\n",
      "971:\tlearn: 0.2988445\ttotal: 2.45s\tremaining: 70.5ms\n",
      "972:\tlearn: 0.2987594\ttotal: 2.45s\tremaining: 67.9ms\n",
      "973:\tlearn: 0.2986514\ttotal: 2.45s\tremaining: 65.4ms\n",
      "974:\tlearn: 0.2985797\ttotal: 2.45s\tremaining: 62.9ms\n",
      "975:\tlearn: 0.2984976\ttotal: 2.46s\tremaining: 60.4ms\n",
      "976:\tlearn: 0.2984430\ttotal: 2.46s\tremaining: 57.9ms\n",
      "977:\tlearn: 0.2983628\ttotal: 2.46s\tremaining: 55.4ms\n",
      "978:\tlearn: 0.2983046\ttotal: 2.46s\tremaining: 52.8ms\n",
      "979:\tlearn: 0.2982596\ttotal: 2.46s\tremaining: 50.3ms\n",
      "980:\tlearn: 0.2982129\ttotal: 2.47s\tremaining: 47.8ms\n",
      "981:\tlearn: 0.2981145\ttotal: 2.47s\tremaining: 45.3ms\n",
      "982:\tlearn: 0.2980158\ttotal: 2.47s\tremaining: 42.8ms\n",
      "983:\tlearn: 0.2979383\ttotal: 2.48s\tremaining: 40.2ms\n",
      "984:\tlearn: 0.2978849\ttotal: 2.48s\tremaining: 37.7ms\n",
      "985:\tlearn: 0.2978076\ttotal: 2.48s\tremaining: 35.2ms\n"
     ]
    },
    {
     "name": "stdout",
     "output_type": "stream",
     "text": [
      "986:\tlearn: 0.2977233\ttotal: 2.48s\tremaining: 32.7ms\n",
      "987:\tlearn: 0.2975746\ttotal: 2.48s\tremaining: 30.2ms\n",
      "988:\tlearn: 0.2974864\ttotal: 2.49s\tremaining: 27.7ms\n",
      "989:\tlearn: 0.2974109\ttotal: 2.49s\tremaining: 25.1ms\n",
      "990:\tlearn: 0.2973454\ttotal: 2.49s\tremaining: 22.6ms\n",
      "991:\tlearn: 0.2972389\ttotal: 2.49s\tremaining: 20.1ms\n",
      "992:\tlearn: 0.2971514\ttotal: 2.5s\tremaining: 17.6ms\n",
      "993:\tlearn: 0.2970971\ttotal: 2.5s\tremaining: 15.1ms\n",
      "994:\tlearn: 0.2970400\ttotal: 2.5s\tremaining: 12.6ms\n",
      "995:\tlearn: 0.2969674\ttotal: 2.5s\tremaining: 10.1ms\n",
      "996:\tlearn: 0.2969152\ttotal: 2.51s\tremaining: 7.54ms\n",
      "997:\tlearn: 0.2968379\ttotal: 2.51s\tremaining: 5.03ms\n",
      "998:\tlearn: 0.2967701\ttotal: 2.51s\tremaining: 2.51ms\n",
      "999:\tlearn: 0.2967100\ttotal: 2.51s\tremaining: 0us\n",
      "Mean Squared error 0.14838724807536807\n"
     ]
    },
    {
     "data": {
      "application/scrapbook.scrap.json+json": {
       "data": 0.14838724807536807,
       "encoder": "json",
       "name": "Catboost MSE",
       "version": 1
      }
     },
     "metadata": {
      "scrapbook": {
       "data": true,
       "display": false,
       "name": "Catboost MSE"
      }
     },
     "output_type": "display_data"
    }
   ],
   "source": [
    "mse_cb = baselineModels.catboost(X_train,y_train,X_test,y_test)\n",
    "#Store MSE Value \n",
    "sb.glue(\"Catboost MSE\",mse_cb)"
   ]
  },
  {
   "cell_type": "markdown",
   "id": "722ab4bb",
   "metadata": {
    "papermill": {
     "duration": 0.010223,
     "end_time": "2021-12-24T12:59:45.028484",
     "exception": false,
     "start_time": "2021-12-24T12:59:45.018261",
     "status": "completed"
    },
    "tags": []
   },
   "source": [
    "## Vanilla Neural Network "
   ]
  },
  {
   "cell_type": "code",
   "execution_count": 8,
   "id": "350391d1",
   "metadata": {
    "execution": {
     "iopub.execute_input": "2021-12-24T12:59:45.051521Z",
     "iopub.status.busy": "2021-12-24T12:59:45.051140Z",
     "iopub.status.idle": "2021-12-24T13:04:28.494349Z",
     "shell.execute_reply": "2021-12-24T13:04:28.494022Z"
    },
    "papermill": {
     "duration": 283.45616,
     "end_time": "2021-12-24T13:04:28.494624",
     "exception": false,
     "start_time": "2021-12-24T12:59:45.038464",
     "status": "completed"
    },
    "tags": []
   },
   "outputs": [
    {
     "data": {
      "application/scrapbook.scrap.json+json": {
       "data": 0.9764672262293336,
       "encoder": "json",
       "name": "Vanilla NN MSE",
       "version": 1
      }
     },
     "metadata": {
      "scrapbook": {
       "data": true,
       "display": false,
       "name": "Vanilla NN MSE"
      }
     },
     "output_type": "display_data"
    },
    {
     "name": "stdout",
     "output_type": "stream",
     "text": [
      "Mean Squared error 0.9764672262293336\n"
     ]
    }
   ],
   "source": [
    "# Parameters \n",
    "n_epochs = 1000\n",
    "batch_size = 1000\n",
    "device = torch.device('cuda' if torch.cuda.is_available() else 'cpu')\n",
    "baselineModels.vanillaNeuralNetwork(train_data,test_data,batch_size,n_features,n_target,n_epochs)"
   ]
  }
 ],
 "metadata": {
  "interpreter": {
   "hash": "10498c76ddd8160350534c6544a2b2fb65f2138dbc70420f7c81a3268f830f23"
  },
  "kernelspec": {
   "display_name": "Python 3 (ipykernel)",
   "language": "python",
   "name": "python3"
  },
  "language_info": {
   "codemirror_mode": {
    "name": "ipython",
    "version": 3
   },
   "file_extension": ".py",
   "mimetype": "text/x-python",
   "name": "python",
   "nbconvert_exporter": "python",
   "pygments_lexer": "ipython3",
   "version": "3.8.11"
  },
  "papermill": {
   "default_parameters": {},
   "duration": 292.794697,
   "end_time": "2021-12-24T13:04:28.923503",
   "environment_variables": {},
   "exception": null,
   "input_path": "BaselineModels.ipynb",
   "output_path": "./BaseLine_Model_Output/baselineModels_output_3.ipynb",
   "parameters": {},
   "start_time": "2021-12-24T12:59:36.128806",
   "version": "2.3.3"
  }
 },
 "nbformat": 4,
 "nbformat_minor": 5
}