{
 "cells": [
  {
   "cell_type": "markdown",
   "id": "5f6783bb",
   "metadata": {
    "papermill": {
     "duration": 0.015821,
     "end_time": "2021-12-24T12:49:35.729451",
     "exception": false,
     "start_time": "2021-12-24T12:49:35.713630",
     "status": "completed"
    },
    "tags": []
   },
   "source": [
    "## Import Libraries "
   ]
  },
  {
   "cell_type": "code",
   "execution_count": 1,
   "id": "fe0858ef",
   "metadata": {
    "execution": {
     "iopub.execute_input": "2021-12-24T12:49:35.757945Z",
     "iopub.status.busy": "2021-12-24T12:49:35.757200Z",
     "iopub.status.idle": "2021-12-24T12:49:35.759942Z",
     "shell.execute_reply": "2021-12-24T12:49:35.760346Z"
    },
    "papermill": {
     "duration": 0.021617,
     "end_time": "2021-12-24T12:49:35.760610",
     "exception": false,
     "start_time": "2021-12-24T12:49:35.738993",
     "status": "completed"
    },
    "tags": []
   },
   "outputs": [],
   "source": [
    "import warnings\n",
    "import sys\n",
    "sys.path.insert(0, '../../src')\n",
    "warnings.filterwarnings('ignore')"
   ]
  },
  {
   "cell_type": "code",
   "execution_count": 2,
   "id": "c5b037fd",
   "metadata": {
    "execution": {
     "iopub.execute_input": "2021-12-24T12:49:35.776258Z",
     "iopub.status.busy": "2021-12-24T12:49:35.775777Z",
     "iopub.status.idle": "2021-12-24T12:49:37.773501Z",
     "shell.execute_reply": "2021-12-24T12:49:37.773760Z"
    },
    "papermill": {
     "duration": 2.006581,
     "end_time": "2021-12-24T12:49:37.773885",
     "exception": false,
     "start_time": "2021-12-24T12:49:35.767304",
     "status": "completed"
    },
    "tags": []
   },
   "outputs": [],
   "source": [
    "import baselineModels\n",
    "import scrapbook as sb \n",
    "import torch \n",
    "import statsModel\n",
    "import californiaDataset\n",
    "import dataset \n",
    "from torch.utils.data import random_split \n",
    "from sklearn.model_selection import train_test_split"
   ]
  },
  {
   "cell_type": "markdown",
   "id": "cf01966a",
   "metadata": {
    "papermill": {
     "duration": 0.003778,
     "end_time": "2021-12-24T12:49:37.781423",
     "exception": false,
     "start_time": "2021-12-24T12:49:37.777645",
     "status": "completed"
    },
    "tags": []
   },
   "source": [
    "## Import Dataset \n"
   ]
  },
  {
   "cell_type": "code",
   "execution_count": 3,
   "id": "00395918",
   "metadata": {
    "execution": {
     "iopub.execute_input": "2021-12-24T12:49:37.791297Z",
     "iopub.status.busy": "2021-12-24T12:49:37.790912Z",
     "iopub.status.idle": "2021-12-24T12:49:37.810780Z",
     "shell.execute_reply": "2021-12-24T12:49:37.811030Z"
    },
    "papermill": {
     "duration": 0.026027,
     "end_time": "2021-12-24T12:49:37.811151",
     "exception": false,
     "start_time": "2021-12-24T12:49:37.785124",
     "status": "completed"
    },
    "tags": []
   },
   "outputs": [
    {
     "name": "stdout",
     "output_type": "stream",
     "text": [
      "       X1    X2        X3        X4      X5        X6     X7      X8      Y\n",
      "0  8.3252  41.0  6.984127  1.023810   322.0  2.555556  37.88 -122.23  4.526\n",
      "1  8.3014  21.0  6.238137  0.971880  2401.0  2.109842  37.86 -122.22  3.585\n",
      "2  7.2574  52.0  8.288136  1.073446   496.0  2.802260  37.85 -122.24  3.521\n",
      "3  5.6431  52.0  5.817352  1.073059   558.0  2.547945  37.85 -122.25  3.413\n",
      "4  3.8462  52.0  6.281853  1.081081   565.0  2.181467  37.85 -122.25  3.422\n"
     ]
    }
   ],
   "source": [
    "X,Y = californiaDataset.california_data()\n",
    "n_features = 8 \n",
    "n_samples = 20640\n",
    "n_target = 1 "
   ]
  },
  {
   "cell_type": "code",
   "execution_count": 4,
   "id": "b3e1a467",
   "metadata": {
    "execution": {
     "iopub.execute_input": "2021-12-24T12:49:37.821663Z",
     "iopub.status.busy": "2021-12-24T12:49:37.821200Z",
     "iopub.status.idle": "2021-12-24T12:49:37.824638Z",
     "shell.execute_reply": "2021-12-24T12:49:37.824882Z"
    },
    "papermill": {
     "duration": 0.009958,
     "end_time": "2021-12-24T12:49:37.825002",
     "exception": false,
     "start_time": "2021-12-24T12:49:37.815044",
     "status": "completed"
    },
    "tags": []
   },
   "outputs": [],
   "source": [
    "# Train test split for dataset \n",
    "real_dataset = dataset.CustomDataset(X,Y)\n",
    "train_size = round(0.8 * n_samples)\n",
    "test_size = n_samples - train_size\n",
    "train_data, test_data = random_split(real_dataset,[train_size,test_size])\n",
    "X_train, X_test, y_train, y_test = train_test_split(X, Y, test_size=0.2)"
   ]
  },
  {
   "cell_type": "markdown",
   "id": "d5a9c3c1",
   "metadata": {
    "papermill": {
     "duration": 0.003609,
     "end_time": "2021-12-24T12:49:37.832405",
     "exception": false,
     "start_time": "2021-12-24T12:49:37.828796",
     "status": "completed"
    },
    "tags": []
   },
   "source": [
    "## Stats Model "
   ]
  },
  {
   "cell_type": "code",
   "execution_count": 5,
   "id": "cf3f266c",
   "metadata": {
    "execution": {
     "iopub.execute_input": "2021-12-24T12:49:37.842350Z",
     "iopub.status.busy": "2021-12-24T12:49:37.841965Z",
     "iopub.status.idle": "2021-12-24T12:49:37.952813Z",
     "shell.execute_reply": "2021-12-24T12:49:37.953110Z"
    },
    "papermill": {
     "duration": 0.117275,
     "end_time": "2021-12-24T12:49:37.953239",
     "exception": false,
     "start_time": "2021-12-24T12:49:37.835964",
     "status": "completed"
    },
    "tags": []
   },
   "outputs": [
    {
     "name": "stderr",
     "output_type": "stream",
     "text": [
      "No handles with labels found to put in legend.\n"
     ]
    },
    {
     "name": "stdout",
     "output_type": "stream",
     "text": [
      "                                 OLS Regression Results                                \n",
      "=======================================================================================\n",
      "Dep. Variable:                      Y   R-squared (uncentered):                   0.609\n",
      "Model:                            OLS   Adj. R-squared (uncentered):              0.609\n",
      "Method:                 Least Squares   F-statistic:                              3216.\n",
      "Date:                Fri, 24 Dec 2021   Prob (F-statistic):                        0.00\n",
      "Time:                        18:19:37   Log-Likelihood:                         -15690.\n",
      "No. Observations:               16512   AIC:                                  3.140e+04\n",
      "Df Residuals:                   16504   BIC:                                  3.146e+04\n",
      "Df Model:                           8                                                  \n",
      "Covariance Type:            nonrobust                                                  \n",
      "==============================================================================\n",
      "                 coef    std err          t      P>|t|      [0.025      0.975]\n",
      "------------------------------------------------------------------------------\n",
      "x1             0.7174      0.008     93.663      0.000       0.702       0.732\n",
      "x2             0.0998      0.005     18.345      0.000       0.089       0.110\n",
      "x3            -0.2242      0.014    -16.024      0.000      -0.252      -0.197\n",
      "x4             0.2583      0.013     20.285      0.000       0.233       0.283\n",
      "x5            -0.0045      0.005     -0.879      0.380      -0.015       0.006\n",
      "x6            -0.0310      0.004     -6.980      0.000      -0.040      -0.022\n",
      "x7            -0.7824      0.015    -52.835      0.000      -0.811      -0.753\n",
      "x8            -0.7542      0.015    -51.722      0.000      -0.783      -0.726\n",
      "==============================================================================\n",
      "Omnibus:                     3541.171   Durbin-Watson:                   2.012\n",
      "Prob(Omnibus):                  0.000   Jarque-Bera (JB):            11034.056\n",
      "Skew:                           1.099   Prob(JB):                         0.00\n",
      "Kurtosis:                       6.348   Cond. No.                         6.85\n",
      "==============================================================================\n",
      "\n",
      "Notes:\n",
      "[1] R² is computed without centering (uncentered) since the model does not contain a constant.\n",
      "[2] Standard Errors assume that the covariance matrix of the errors is correctly specified.\n",
      "Parameters:  x1    0.717419\n",
      "x2    0.099753\n",
      "x3   -0.224198\n",
      "x4    0.258301\n",
      "x5   -0.004533\n",
      "x6   -0.030967\n",
      "x7   -0.782445\n",
      "x8   -0.754194\n",
      "dtype: float64\n"
     ]
    },
    {
     "data": {
      "image/png": "[encoded data removed]",
      "text/plain": [
       "<Figure size 432x288 with 1 Axes>"
      ]
     },
     "metadata": {
      "needs_background": "light"
     },
     "output_type": "display_data"
    },
    {
     "name": "stdout",
     "output_type": "stream",
     "text": [
      "Performance Metrics\n",
      "Mean Squared Error: 0.4025614339766284\n",
      "Mean Absolute Error: 0.4666155860031784\n",
      "Manhattan distance: 1926.1891390211244\n",
      "Euclidean distance: 40.764857407521035\n"
     ]
    },
    {
     "data": {
      "application/scrapbook.scrap.json+json": {
       "data": 0.4025614339766284,
       "encoder": "json",
       "name": "Stats Model MSE",
       "version": 1
      }
     },
     "metadata": {
      "scrapbook": {
       "data": true,
       "display": false,
       "name": "Stats Model MSE"
      }
     },
     "output_type": "display_data"
    },
    {
     "data": {
      "application/scrapbook.scrap.json+json": {
       "data": 0.4666155860031784,
       "encoder": "json",
       "name": "Stats Model MAE",
       "version": 1
      }
     },
     "metadata": {
      "scrapbook": {
       "data": true,
       "display": false,
       "name": "Stats Model MAE"
      }
     },
     "output_type": "display_data"
    },
    {
     "data": {
      "application/scrapbook.scrap.json+json": {
       "data": 1926.1891390211244,
       "encoder": "json",
       "name": "Stats Model Manhattan Distance",
       "version": 1
      }
     },
     "metadata": {
      "scrapbook": {
       "data": true,
       "display": false,
       "name": "Stats Model Manhattan Distance"
      }
     },
     "output_type": "display_data"
    },
    {
     "data": {
      "application/scrapbook.scrap.json+json": {
       "data": 40.764857407521035,
       "encoder": "json",
       "name": "Stats Model Euclidean distance",
       "version": 1
      }
     },
     "metadata": {
      "scrapbook": {
       "data": true,
       "display": false,
       "name": "Stats Model Euclidean distance"
      }
     },
     "output_type": "display_data"
    },
    {
     "data": {
      "application/scrapbook.scrap.json+json": {
       "data": [
        0.7174186402037787,
        0.09975329320418759,
        -0.22419827690676034,
        0.258300733290307,
        -0.004533431101435307,
        -0.030967454291777344,
        -0.7824448309411053,
        -0.7541937246696653
       ],
       "encoder": "json",
       "name": "Coefficients",
       "version": 1
      }
     },
     "metadata": {
      "scrapbook": {
       "data": true,
       "display": false,
       "name": "Coefficients"
      }
     },
     "output_type": "display_data"
    }
   ],
   "source": [
    "[coeff,y_pred] = statsModel.statsModel(X,Y)\n",
    "\n",
    "#Store Coefficients \n",
    "sb.glue(\"Coefficients\",coeff)"
   ]
  },
  {
   "cell_type": "markdown",
   "id": "1b2a3f6c",
   "metadata": {
    "papermill": {
     "duration": 0.005988,
     "end_time": "2021-12-24T12:49:37.965323",
     "exception": false,
     "start_time": "2021-12-24T12:49:37.959335",
     "status": "completed"
    },
    "tags": []
   },
   "source": [
    "## Random Forest "
   ]
  },
  {
   "cell_type": "code",
   "execution_count": 6,
   "id": "c43e053f",
   "metadata": {
    "execution": {
     "iopub.execute_input": "2021-12-24T12:49:37.979518Z",
     "iopub.status.busy": "2021-12-24T12:49:37.979110Z",
     "iopub.status.idle": "2021-12-24T12:49:40.149301Z",
     "shell.execute_reply": "2021-12-24T12:49:40.149546Z"
    },
    "papermill": {
     "duration": 2.178722,
     "end_time": "2021-12-24T12:49:40.149671",
     "exception": false,
     "start_time": "2021-12-24T12:49:37.970949",
     "status": "completed"
    },
    "tags": []
   },
   "outputs": [
    {
     "name": "stdout",
     "output_type": "stream",
     "text": [
      "Mean Squared error 0.3753781195274443\n"
     ]
    },
    {
     "data": {
      "application/scrapbook.scrap.json+json": {
       "data": 0.3753781195274443,
       "encoder": "json",
       "name": "Random Forest MSE",
       "version": 1
      }
     },
     "metadata": {
      "scrapbook": {
       "data": true,
       "display": false,
       "name": "Random Forest MSE"
      }
     },
     "output_type": "display_data"
    }
   ],
   "source": [
    "mse_rf = baselineModels.randomForest(X_train,y_train,X_test,y_test)\n",
    "#Store MSE Value\n",
    "sb.glue(\"Random Forest MSE\",mse_rf)"
   ]
  },
  {
   "cell_type": "markdown",
   "id": "0921bb56",
   "metadata": {
    "papermill": {
     "duration": 0.006416,
     "end_time": "2021-12-24T12:49:40.162464",
     "exception": false,
     "start_time": "2021-12-24T12:49:40.156048",
     "status": "completed"
    },
    "tags": []
   },
   "source": [
    "## Catboost \n",
    "\n"
   ]
  },
  {
   "cell_type": "code",
   "execution_count": 7,
   "id": "feae8a5a",
   "metadata": {
    "execution": {
     "iopub.execute_input": "2021-12-24T12:49:40.212271Z",
     "iopub.status.busy": "2021-12-24T12:49:40.211830Z",
     "iopub.status.idle": "2021-12-24T12:49:42.979802Z",
     "shell.execute_reply": "2021-12-24T12:49:42.980092Z"
    },
    "papermill": {
     "duration": 2.811706,
     "end_time": "2021-12-24T12:49:42.980234",
     "exception": false,
     "start_time": "2021-12-24T12:49:40.168528",
     "status": "completed"
    },
    "tags": []
   },
   "outputs": [
    {
     "name": "stdout",
     "output_type": "stream",
     "text": [
      "Learning rate set to 0.064294\n",
      "0:\tlearn: 0.9698225\ttotal: 61.7ms\tremaining: 1m 1s\n",
      "1:\tlearn: 0.9379812\ttotal: 65.1ms\tremaining: 32.5s\n",
      "2:\tlearn: 0.9072244\ttotal: 67.8ms\tremaining: 22.5s\n",
      "3:\tlearn: 0.8790029\ttotal: 70.3ms\tremaining: 17.5s\n",
      "4:\tlearn: 0.8530716\ttotal: 73.1ms\tremaining: 14.5s\n",
      "5:\tlearn: 0.8290556\ttotal: 76.2ms\tremaining: 12.6s\n",
      "6:\tlearn: 0.8060432\ttotal: 78.9ms\tremaining: 11.2s\n",
      "7:\tlearn: 0.7849978\ttotal: 81.6ms\tremaining: 10.1s\n",
      "8:\tlearn: 0.7665655\ttotal: 84ms\tremaining: 9.25s\n",
      "9:\tlearn: 0.7478726\ttotal: 86.8ms\tremaining: 8.6s\n",
      "10:\tlearn: 0.7314153\ttotal: 90.3ms\tremaining: 8.12s\n",
      "11:\tlearn: 0.7159863\ttotal: 93.3ms\tremaining: 7.68s\n",
      "12:\tlearn: 0.7025888\ttotal: 96.9ms\tremaining: 7.36s\n",
      "13:\tlearn: 0.6889210\ttotal: 99.4ms\tremaining: 7s\n",
      "14:\tlearn: 0.6778553\ttotal: 102ms\tremaining: 6.68s\n",
      "15:\tlearn: 0.6673660\ttotal: 104ms\tremaining: 6.42s\n",
      "16:\tlearn: 0.6555972\ttotal: 107ms\tremaining: 6.17s\n",
      "17:\tlearn: 0.6457275\ttotal: 109ms\tremaining: 5.94s\n",
      "18:\tlearn: 0.6374909\ttotal: 112ms\tremaining: 5.77s\n",
      "19:\tlearn: 0.6298937\ttotal: 115ms\tremaining: 5.62s\n",
      "20:\tlearn: 0.6200855\ttotal: 117ms\tremaining: 5.47s\n",
      "21:\tlearn: 0.6129959\ttotal: 120ms\tremaining: 5.32s\n",
      "22:\tlearn: 0.6067318\ttotal: 122ms\tremaining: 5.19s\n",
      "23:\tlearn: 0.5996793\ttotal: 125ms\tremaining: 5.09s\n"
     ]
    },
    {
     "name": "stdout",
     "output_type": "stream",
     "text": [
      "24:\tlearn: 0.5927843\ttotal: 128ms\tremaining: 5s\n",
      "25:\tlearn: 0.5870941\ttotal: 131ms\tremaining: 4.89s\n",
      "26:\tlearn: 0.5799993\ttotal: 133ms\tremaining: 4.8s\n",
      "27:\tlearn: 0.5735761\ttotal: 139ms\tremaining: 4.84s\n",
      "28:\tlearn: 0.5676884\ttotal: 142ms\tremaining: 4.75s\n",
      "29:\tlearn: 0.5613059\ttotal: 144ms\tremaining: 4.67s\n",
      "30:\tlearn: 0.5573864\ttotal: 147ms\tremaining: 4.59s\n",
      "31:\tlearn: 0.5538743\ttotal: 149ms\tremaining: 4.51s\n",
      "32:\tlearn: 0.5496870\ttotal: 152ms\tremaining: 4.45s\n",
      "33:\tlearn: 0.5467679\ttotal: 155ms\tremaining: 4.4s\n",
      "34:\tlearn: 0.5422233\ttotal: 157ms\tremaining: 4.33s\n",
      "35:\tlearn: 0.5389963\ttotal: 160ms\tremaining: 4.27s\n",
      "36:\tlearn: 0.5362558\ttotal: 162ms\tremaining: 4.22s\n",
      "37:\tlearn: 0.5324278\ttotal: 164ms\tremaining: 4.16s\n",
      "38:\tlearn: 0.5287600\ttotal: 167ms\tremaining: 4.11s\n",
      "39:\tlearn: 0.5264748\ttotal: 169ms\tremaining: 4.07s\n",
      "40:\tlearn: 0.5243803\ttotal: 172ms\tremaining: 4.02s\n",
      "41:\tlearn: 0.5222700\ttotal: 175ms\tremaining: 3.99s\n",
      "42:\tlearn: 0.5190420\ttotal: 177ms\tremaining: 3.94s\n",
      "43:\tlearn: 0.5163590\ttotal: 186ms\tremaining: 4.04s\n"
     ]
    },
    {
     "name": "stdout",
     "output_type": "stream",
     "text": [
      "44:\tlearn: 0.5132245\ttotal: 194ms\tremaining: 4.11s\n",
      "45:\tlearn: 0.5112823\ttotal: 217ms\tremaining: 4.5s\n",
      "46:\tlearn: 0.5089988\ttotal: 221ms\tremaining: 4.48s\n",
      "47:\tlearn: 0.5061781\ttotal: 227ms\tremaining: 4.51s\n",
      "48:\tlearn: 0.5048498\ttotal: 230ms\tremaining: 4.47s\n",
      "49:\tlearn: 0.5030887\ttotal: 234ms\tremaining: 4.45s\n",
      "50:\tlearn: 0.5010815\ttotal: 237ms\tremaining: 4.41s\n",
      "51:\tlearn: 0.4995885\ttotal: 239ms\tremaining: 4.36s\n",
      "52:\tlearn: 0.4971539\ttotal: 241ms\tremaining: 4.31s\n",
      "53:\tlearn: 0.4958974\ttotal: 245ms\tremaining: 4.28s\n",
      "54:\tlearn: 0.4936238\ttotal: 248ms\tremaining: 4.27s\n",
      "55:\tlearn: 0.4923681\ttotal: 251ms\tremaining: 4.23s\n",
      "56:\tlearn: 0.4909365\ttotal: 253ms\tremaining: 4.19s\n",
      "57:\tlearn: 0.4900482\ttotal: 256ms\tremaining: 4.16s\n",
      "58:\tlearn: 0.4890752\ttotal: 259ms\tremaining: 4.12s\n",
      "59:\tlearn: 0.4879245\ttotal: 261ms\tremaining: 4.09s\n",
      "60:\tlearn: 0.4863761\ttotal: 264ms\tremaining: 4.07s\n",
      "61:\tlearn: 0.4852641\ttotal: 267ms\tremaining: 4.04s\n",
      "62:\tlearn: 0.4843591\ttotal: 270ms\tremaining: 4.01s\n",
      "63:\tlearn: 0.4826444\ttotal: 272ms\tremaining: 3.98s\n",
      "64:\tlearn: 0.4817353\ttotal: 275ms\tremaining: 3.95s\n",
      "65:\tlearn: 0.4810505\ttotal: 277ms\tremaining: 3.92s\n",
      "66:\tlearn: 0.4799589\ttotal: 279ms\tremaining: 3.89s\n",
      "67:\tlearn: 0.4786121\ttotal: 283ms\tremaining: 3.87s\n",
      "68:\tlearn: 0.4777737\ttotal: 286ms\tremaining: 3.86s\n",
      "69:\tlearn: 0.4764441\ttotal: 288ms\tremaining: 3.83s\n",
      "70:\tlearn: 0.4758934\ttotal: 291ms\tremaining: 3.8s\n",
      "71:\tlearn: 0.4752083\ttotal: 293ms\tremaining: 3.78s\n",
      "72:\tlearn: 0.4745052\ttotal: 297ms\tremaining: 3.77s\n",
      "73:\tlearn: 0.4731725\ttotal: 300ms\tremaining: 3.75s\n",
      "74:\tlearn: 0.4725423\ttotal: 302ms\tremaining: 3.73s\n",
      "75:\tlearn: 0.4715951\ttotal: 305ms\tremaining: 3.71s\n",
      "76:\tlearn: 0.4703840\ttotal: 307ms\tremaining: 3.69s\n",
      "77:\tlearn: 0.4692749\ttotal: 310ms\tremaining: 3.66s\n",
      "78:\tlearn: 0.4680545\ttotal: 313ms\tremaining: 3.65s\n",
      "79:\tlearn: 0.4675913\ttotal: 317ms\tremaining: 3.64s\n"
     ]
    },
    {
     "name": "stdout",
     "output_type": "stream",
     "text": [
      "80:\tlearn: 0.4666095\ttotal: 319ms\tremaining: 3.62s\n",
      "81:\tlearn: 0.4655778\ttotal: 322ms\tremaining: 3.6s\n",
      "82:\tlearn: 0.4649644\ttotal: 324ms\tremaining: 3.58s\n",
      "83:\tlearn: 0.4641878\ttotal: 327ms\tremaining: 3.57s\n",
      "84:\tlearn: 0.4633761\ttotal: 330ms\tremaining: 3.56s\n",
      "85:\tlearn: 0.4621156\ttotal: 333ms\tremaining: 3.54s\n",
      "86:\tlearn: 0.4615628\ttotal: 335ms\tremaining: 3.52s\n",
      "87:\tlearn: 0.4611251\ttotal: 338ms\tremaining: 3.5s\n",
      "88:\tlearn: 0.4605648\ttotal: 340ms\tremaining: 3.48s\n",
      "89:\tlearn: 0.4601652\ttotal: 343ms\tremaining: 3.47s\n",
      "90:\tlearn: 0.4595363\ttotal: 346ms\tremaining: 3.45s\n",
      "91:\tlearn: 0.4590227\ttotal: 348ms\tremaining: 3.44s\n",
      "92:\tlearn: 0.4583486\ttotal: 351ms\tremaining: 3.42s\n",
      "93:\tlearn: 0.4576025\ttotal: 353ms\tremaining: 3.4s\n",
      "94:\tlearn: 0.4569817\ttotal: 356ms\tremaining: 3.39s\n",
      "95:\tlearn: 0.4562465\ttotal: 358ms\tremaining: 3.38s\n",
      "96:\tlearn: 0.4556317\ttotal: 361ms\tremaining: 3.36s\n",
      "97:\tlearn: 0.4550071\ttotal: 363ms\tremaining: 3.34s\n",
      "98:\tlearn: 0.4538986\ttotal: 366ms\tremaining: 3.33s\n",
      "99:\tlearn: 0.4533265\ttotal: 368ms\tremaining: 3.31s\n",
      "100:\tlearn: 0.4524104\ttotal: 370ms\tremaining: 3.29s\n",
      "101:\tlearn: 0.4519063\ttotal: 373ms\tremaining: 3.28s\n",
      "102:\tlearn: 0.4514986\ttotal: 377ms\tremaining: 3.28s\n",
      "103:\tlearn: 0.4511816\ttotal: 380ms\tremaining: 3.27s\n",
      "104:\tlearn: 0.4506913\ttotal: 382ms\tremaining: 3.25s\n",
      "105:\tlearn: 0.4502939\ttotal: 385ms\tremaining: 3.24s\n",
      "106:\tlearn: 0.4497154\ttotal: 387ms\tremaining: 3.23s\n"
     ]
    },
    {
     "name": "stdout",
     "output_type": "stream",
     "text": [
      "107:\tlearn: 0.4490526\ttotal: 389ms\tremaining: 3.22s\n",
      "108:\tlearn: 0.4486489\ttotal: 392ms\tremaining: 3.21s\n",
      "109:\tlearn: 0.4478487\ttotal: 395ms\tremaining: 3.19s\n",
      "110:\tlearn: 0.4473840\ttotal: 397ms\tremaining: 3.18s\n",
      "111:\tlearn: 0.4465513\ttotal: 399ms\tremaining: 3.17s\n",
      "112:\tlearn: 0.4458030\ttotal: 402ms\tremaining: 3.15s\n",
      "113:\tlearn: 0.4452495\ttotal: 404ms\tremaining: 3.14s\n",
      "114:\tlearn: 0.4448565\ttotal: 407ms\tremaining: 3.13s\n",
      "115:\tlearn: 0.4445191\ttotal: 410ms\tremaining: 3.13s\n",
      "116:\tlearn: 0.4441096\ttotal: 413ms\tremaining: 3.12s\n",
      "117:\tlearn: 0.4437384\ttotal: 416ms\tremaining: 3.11s\n",
      "118:\tlearn: 0.4433305\ttotal: 418ms\tremaining: 3.1s\n",
      "119:\tlearn: 0.4429229\ttotal: 420ms\tremaining: 3.08s\n",
      "120:\tlearn: 0.4424596\ttotal: 423ms\tremaining: 3.07s\n",
      "121:\tlearn: 0.4421237\ttotal: 426ms\tremaining: 3.07s\n",
      "122:\tlearn: 0.4415877\ttotal: 428ms\tremaining: 3.05s\n",
      "123:\tlearn: 0.4411513\ttotal: 431ms\tremaining: 3.04s\n",
      "124:\tlearn: 0.4408069\ttotal: 433ms\tremaining: 3.03s\n",
      "125:\tlearn: 0.4400998\ttotal: 435ms\tremaining: 3.02s\n",
      "126:\tlearn: 0.4393823\ttotal: 438ms\tremaining: 3.01s\n",
      "127:\tlearn: 0.4387439\ttotal: 442ms\tremaining: 3.01s\n",
      "128:\tlearn: 0.4381590\ttotal: 445ms\tremaining: 3s\n",
      "129:\tlearn: 0.4377533\ttotal: 447ms\tremaining: 2.99s\n",
      "130:\tlearn: 0.4372530\ttotal: 449ms\tremaining: 2.98s\n",
      "131:\tlearn: 0.4367215\ttotal: 452ms\tremaining: 2.97s\n",
      "132:\tlearn: 0.4361326\ttotal: 454ms\tremaining: 2.96s\n",
      "133:\tlearn: 0.4354179\ttotal: 457ms\tremaining: 2.95s\n",
      "134:\tlearn: 0.4351037\ttotal: 461ms\tremaining: 2.95s\n",
      "135:\tlearn: 0.4347578\ttotal: 464ms\tremaining: 2.95s\n",
      "136:\tlearn: 0.4344619\ttotal: 467ms\tremaining: 2.94s\n",
      "137:\tlearn: 0.4338872\ttotal: 470ms\tremaining: 2.93s\n",
      "138:\tlearn: 0.4333505\ttotal: 473ms\tremaining: 2.93s\n",
      "139:\tlearn: 0.4330582\ttotal: 476ms\tremaining: 2.93s\n",
      "140:\tlearn: 0.4327767\ttotal: 479ms\tremaining: 2.92s\n",
      "141:\tlearn: 0.4318914\ttotal: 481ms\tremaining: 2.91s\n",
      "142:\tlearn: 0.4314448\ttotal: 484ms\tremaining: 2.9s\n",
      "143:\tlearn: 0.4304955\ttotal: 487ms\tremaining: 2.89s\n",
      "144:\tlearn: 0.4302718\ttotal: 490ms\tremaining: 2.89s\n",
      "145:\tlearn: 0.4299587\ttotal: 492ms\tremaining: 2.88s\n",
      "146:\tlearn: 0.4295395\ttotal: 495ms\tremaining: 2.87s\n",
      "147:\tlearn: 0.4290550\ttotal: 498ms\tremaining: 2.86s\n",
      "148:\tlearn: 0.4283513\ttotal: 500ms\tremaining: 2.85s\n",
      "149:\tlearn: 0.4276387\ttotal: 502ms\tremaining: 2.85s\n",
      "150:\tlearn: 0.4269464\ttotal: 505ms\tremaining: 2.84s\n",
      "151:\tlearn: 0.4264401\ttotal: 508ms\tremaining: 2.83s\n",
      "152:\tlearn: 0.4258745\ttotal: 510ms\tremaining: 2.83s\n"
     ]
    },
    {
     "name": "stdout",
     "output_type": "stream",
     "text": [
      "153:\tlearn: 0.4254745\ttotal: 513ms\tremaining: 2.82s\n",
      "154:\tlearn: 0.4245336\ttotal: 516ms\tremaining: 2.81s\n",
      "155:\tlearn: 0.4240834\ttotal: 519ms\tremaining: 2.81s\n",
      "156:\tlearn: 0.4236387\ttotal: 522ms\tremaining: 2.8s\n",
      "157:\tlearn: 0.4229614\ttotal: 524ms\tremaining: 2.79s\n",
      "158:\tlearn: 0.4223863\ttotal: 527ms\tremaining: 2.79s\n",
      "159:\tlearn: 0.4219559\ttotal: 529ms\tremaining: 2.78s\n",
      "160:\tlearn: 0.4216214\ttotal: 532ms\tremaining: 2.77s\n",
      "161:\tlearn: 0.4212061\ttotal: 534ms\tremaining: 2.76s\n",
      "162:\tlearn: 0.4207066\ttotal: 537ms\tremaining: 2.76s\n",
      "163:\tlearn: 0.4201203\ttotal: 540ms\tremaining: 2.75s\n",
      "164:\tlearn: 0.4196798\ttotal: 542ms\tremaining: 2.74s\n",
      "165:\tlearn: 0.4192281\ttotal: 545ms\tremaining: 2.74s\n",
      "166:\tlearn: 0.4188777\ttotal: 547ms\tremaining: 2.73s\n",
      "167:\tlearn: 0.4184723\ttotal: 550ms\tremaining: 2.72s\n",
      "168:\tlearn: 0.4181274\ttotal: 552ms\tremaining: 2.71s\n",
      "169:\tlearn: 0.4176166\ttotal: 555ms\tremaining: 2.71s\n",
      "170:\tlearn: 0.4171971\ttotal: 557ms\tremaining: 2.7s\n",
      "171:\tlearn: 0.4164747\ttotal: 560ms\tremaining: 2.7s\n",
      "172:\tlearn: 0.4161667\ttotal: 563ms\tremaining: 2.69s\n",
      "173:\tlearn: 0.4156082\ttotal: 566ms\tremaining: 2.69s\n",
      "174:\tlearn: 0.4152472\ttotal: 569ms\tremaining: 2.68s\n",
      "175:\tlearn: 0.4149475\ttotal: 572ms\tremaining: 2.68s\n",
      "176:\tlearn: 0.4145880\ttotal: 575ms\tremaining: 2.67s\n",
      "177:\tlearn: 0.4143771\ttotal: 578ms\tremaining: 2.67s\n",
      "178:\tlearn: 0.4139952\ttotal: 580ms\tremaining: 2.66s\n"
     ]
    },
    {
     "name": "stdout",
     "output_type": "stream",
     "text": [
      "179:\tlearn: 0.4135383\ttotal: 584ms\tremaining: 2.66s\n",
      "180:\tlearn: 0.4133357\ttotal: 586ms\tremaining: 2.65s\n",
      "181:\tlearn: 0.4129807\ttotal: 589ms\tremaining: 2.65s\n",
      "182:\tlearn: 0.4126487\ttotal: 591ms\tremaining: 2.64s\n",
      "183:\tlearn: 0.4123257\ttotal: 594ms\tremaining: 2.63s\n",
      "184:\tlearn: 0.4120201\ttotal: 596ms\tremaining: 2.63s\n",
      "185:\tlearn: 0.4116945\ttotal: 599ms\tremaining: 2.62s\n",
      "186:\tlearn: 0.4112472\ttotal: 602ms\tremaining: 2.62s\n",
      "187:\tlearn: 0.4109244\ttotal: 604ms\tremaining: 2.61s\n",
      "188:\tlearn: 0.4104694\ttotal: 607ms\tremaining: 2.6s\n",
      "189:\tlearn: 0.4099965\ttotal: 609ms\tremaining: 2.6s\n",
      "190:\tlearn: 0.4096696\ttotal: 611ms\tremaining: 2.59s\n",
      "191:\tlearn: 0.4092400\ttotal: 614ms\tremaining: 2.58s\n",
      "192:\tlearn: 0.4087555\ttotal: 616ms\tremaining: 2.58s\n",
      "193:\tlearn: 0.4083537\ttotal: 619ms\tremaining: 2.57s\n",
      "194:\tlearn: 0.4079879\ttotal: 621ms\tremaining: 2.56s\n",
      "195:\tlearn: 0.4077076\ttotal: 624ms\tremaining: 2.56s\n",
      "196:\tlearn: 0.4072666\ttotal: 626ms\tremaining: 2.55s\n",
      "197:\tlearn: 0.4066768\ttotal: 628ms\tremaining: 2.54s\n",
      "198:\tlearn: 0.4063585\ttotal: 631ms\tremaining: 2.54s\n",
      "199:\tlearn: 0.4061731\ttotal: 633ms\tremaining: 2.53s\n",
      "200:\tlearn: 0.4059143\ttotal: 636ms\tremaining: 2.53s\n",
      "201:\tlearn: 0.4055870\ttotal: 638ms\tremaining: 2.52s\n",
      "202:\tlearn: 0.4050711\ttotal: 641ms\tremaining: 2.51s\n",
      "203:\tlearn: 0.4047648\ttotal: 643ms\tremaining: 2.51s\n",
      "204:\tlearn: 0.4043399\ttotal: 645ms\tremaining: 2.5s\n",
      "205:\tlearn: 0.4037029\ttotal: 649ms\tremaining: 2.5s\n",
      "206:\tlearn: 0.4033456\ttotal: 651ms\tremaining: 2.49s\n",
      "207:\tlearn: 0.4029607\ttotal: 653ms\tremaining: 2.49s\n",
      "208:\tlearn: 0.4027357\ttotal: 656ms\tremaining: 2.48s\n",
      "209:\tlearn: 0.4022944\ttotal: 658ms\tremaining: 2.48s\n",
      "210:\tlearn: 0.4020145\ttotal: 660ms\tremaining: 2.47s\n",
      "211:\tlearn: 0.4016410\ttotal: 662ms\tremaining: 2.46s\n",
      "212:\tlearn: 0.4013477\ttotal: 665ms\tremaining: 2.46s\n",
      "213:\tlearn: 0.4010129\ttotal: 667ms\tremaining: 2.45s\n",
      "214:\tlearn: 0.4005974\ttotal: 670ms\tremaining: 2.44s\n",
      "215:\tlearn: 0.4003096\ttotal: 672ms\tremaining: 2.44s\n",
      "216:\tlearn: 0.3997513\ttotal: 675ms\tremaining: 2.44s\n",
      "217:\tlearn: 0.3994108\ttotal: 677ms\tremaining: 2.43s\n",
      "218:\tlearn: 0.3991331\ttotal: 680ms\tremaining: 2.42s\n",
      "219:\tlearn: 0.3985990\ttotal: 683ms\tremaining: 2.42s\n",
      "220:\tlearn: 0.3982278\ttotal: 685ms\tremaining: 2.41s\n",
      "221:\tlearn: 0.3980280\ttotal: 687ms\tremaining: 2.41s\n",
      "222:\tlearn: 0.3976617\ttotal: 690ms\tremaining: 2.4s\n",
      "223:\tlearn: 0.3974652\ttotal: 692ms\tremaining: 2.4s\n",
      "224:\tlearn: 0.3971572\ttotal: 695ms\tremaining: 2.39s\n",
      "225:\tlearn: 0.3969040\ttotal: 697ms\tremaining: 2.39s\n",
      "226:\tlearn: 0.3965453\ttotal: 700ms\tremaining: 2.38s\n",
      "227:\tlearn: 0.3959324\ttotal: 702ms\tremaining: 2.38s\n",
      "228:\tlearn: 0.3956532\ttotal: 705ms\tremaining: 2.37s\n"
     ]
    },
    {
     "name": "stdout",
     "output_type": "stream",
     "text": [
      "229:\tlearn: 0.3953935\ttotal: 707ms\tremaining: 2.37s\n",
      "230:\tlearn: 0.3951647\ttotal: 710ms\tremaining: 2.36s\n",
      "231:\tlearn: 0.3948636\ttotal: 712ms\tremaining: 2.36s\n",
      "232:\tlearn: 0.3944908\ttotal: 715ms\tremaining: 2.35s\n",
      "233:\tlearn: 0.3943095\ttotal: 718ms\tremaining: 2.35s\n",
      "234:\tlearn: 0.3940597\ttotal: 720ms\tremaining: 2.34s\n",
      "235:\tlearn: 0.3937447\ttotal: 722ms\tremaining: 2.34s\n",
      "236:\tlearn: 0.3934480\ttotal: 725ms\tremaining: 2.33s\n",
      "237:\tlearn: 0.3932409\ttotal: 727ms\tremaining: 2.33s\n",
      "238:\tlearn: 0.3929010\ttotal: 731ms\tremaining: 2.33s\n",
      "239:\tlearn: 0.3924809\ttotal: 733ms\tremaining: 2.32s\n",
      "240:\tlearn: 0.3922181\ttotal: 735ms\tremaining: 2.31s\n",
      "241:\tlearn: 0.3919769\ttotal: 738ms\tremaining: 2.31s\n",
      "242:\tlearn: 0.3917537\ttotal: 740ms\tremaining: 2.31s\n",
      "243:\tlearn: 0.3914450\ttotal: 743ms\tremaining: 2.3s\n",
      "244:\tlearn: 0.3912522\ttotal: 745ms\tremaining: 2.3s\n",
      "245:\tlearn: 0.3909599\ttotal: 748ms\tremaining: 2.29s\n",
      "246:\tlearn: 0.3907731\ttotal: 750ms\tremaining: 2.29s\n",
      "247:\tlearn: 0.3905673\ttotal: 753ms\tremaining: 2.28s\n",
      "248:\tlearn: 0.3902583\ttotal: 756ms\tremaining: 2.28s\n",
      "249:\tlearn: 0.3899846\ttotal: 758ms\tremaining: 2.27s\n",
      "250:\tlearn: 0.3898254\ttotal: 761ms\tremaining: 2.27s\n",
      "251:\tlearn: 0.3896694\ttotal: 763ms\tremaining: 2.27s\n",
      "252:\tlearn: 0.3895000\ttotal: 766ms\tremaining: 2.26s\n",
      "253:\tlearn: 0.3892115\ttotal: 769ms\tremaining: 2.26s\n",
      "254:\tlearn: 0.3889413\ttotal: 772ms\tremaining: 2.25s\n",
      "255:\tlearn: 0.3886400\ttotal: 774ms\tremaining: 2.25s\n",
      "256:\tlearn: 0.3883714\ttotal: 777ms\tremaining: 2.25s\n"
     ]
    },
    {
     "name": "stdout",
     "output_type": "stream",
     "text": [
      "257:\tlearn: 0.3881255\ttotal: 779ms\tremaining: 2.24s\n",
      "258:\tlearn: 0.3880294\ttotal: 781ms\tremaining: 2.23s\n",
      "259:\tlearn: 0.3877199\ttotal: 784ms\tremaining: 2.23s\n",
      "260:\tlearn: 0.3874246\ttotal: 786ms\tremaining: 2.23s\n",
      "261:\tlearn: 0.3871641\ttotal: 788ms\tremaining: 2.22s\n",
      "262:\tlearn: 0.3869495\ttotal: 791ms\tremaining: 2.21s\n",
      "263:\tlearn: 0.3866911\ttotal: 794ms\tremaining: 2.21s\n",
      "264:\tlearn: 0.3865381\ttotal: 796ms\tremaining: 2.21s\n",
      "265:\tlearn: 0.3860200\ttotal: 799ms\tremaining: 2.2s\n",
      "266:\tlearn: 0.3856139\ttotal: 801ms\tremaining: 2.2s\n",
      "267:\tlearn: 0.3854314\ttotal: 804ms\tremaining: 2.19s\n",
      "268:\tlearn: 0.3850635\ttotal: 806ms\tremaining: 2.19s\n",
      "269:\tlearn: 0.3848051\ttotal: 809ms\tremaining: 2.19s\n",
      "270:\tlearn: 0.3847129\ttotal: 811ms\tremaining: 2.18s\n",
      "271:\tlearn: 0.3844387\ttotal: 814ms\tremaining: 2.18s\n",
      "272:\tlearn: 0.3842815\ttotal: 816ms\tremaining: 2.17s\n",
      "273:\tlearn: 0.3838404\ttotal: 818ms\tremaining: 2.17s\n",
      "274:\tlearn: 0.3835229\ttotal: 821ms\tremaining: 2.16s\n",
      "275:\tlearn: 0.3833291\ttotal: 823ms\tremaining: 2.16s\n",
      "276:\tlearn: 0.3832467\ttotal: 825ms\tremaining: 2.15s\n",
      "277:\tlearn: 0.3830074\ttotal: 827ms\tremaining: 2.15s\n",
      "278:\tlearn: 0.3827415\ttotal: 830ms\tremaining: 2.14s\n",
      "279:\tlearn: 0.3824721\ttotal: 832ms\tremaining: 2.14s\n",
      "280:\tlearn: 0.3822445\ttotal: 835ms\tremaining: 2.13s\n",
      "281:\tlearn: 0.3820372\ttotal: 837ms\tremaining: 2.13s\n",
      "282:\tlearn: 0.3819206\ttotal: 840ms\tremaining: 2.13s\n",
      "283:\tlearn: 0.3817812\ttotal: 843ms\tremaining: 2.13s\n",
      "284:\tlearn: 0.3814911\ttotal: 847ms\tremaining: 2.12s\n",
      "285:\tlearn: 0.3812842\ttotal: 849ms\tremaining: 2.12s\n",
      "286:\tlearn: 0.3810403\ttotal: 852ms\tremaining: 2.12s\n",
      "287:\tlearn: 0.3807901\ttotal: 854ms\tremaining: 2.11s\n",
      "288:\tlearn: 0.3805895\ttotal: 857ms\tremaining: 2.11s\n",
      "289:\tlearn: 0.3803714\ttotal: 860ms\tremaining: 2.1s\n",
      "290:\tlearn: 0.3802115\ttotal: 862ms\tremaining: 2.1s\n",
      "291:\tlearn: 0.3800012\ttotal: 865ms\tremaining: 2.1s\n",
      "292:\tlearn: 0.3798242\ttotal: 867ms\tremaining: 2.09s\n",
      "293:\tlearn: 0.3795482\ttotal: 869ms\tremaining: 2.09s\n",
      "294:\tlearn: 0.3793466\ttotal: 872ms\tremaining: 2.08s\n",
      "295:\tlearn: 0.3791687\ttotal: 874ms\tremaining: 2.08s\n",
      "296:\tlearn: 0.3789267\ttotal: 877ms\tremaining: 2.08s\n",
      "297:\tlearn: 0.3787247\ttotal: 879ms\tremaining: 2.07s\n",
      "298:\tlearn: 0.3784555\ttotal: 882ms\tremaining: 2.07s\n",
      "299:\tlearn: 0.3782224\ttotal: 884ms\tremaining: 2.06s\n",
      "300:\tlearn: 0.3780298\ttotal: 886ms\tremaining: 2.06s\n",
      "301:\tlearn: 0.3779392\ttotal: 889ms\tremaining: 2.05s\n",
      "302:\tlearn: 0.3777007\ttotal: 892ms\tremaining: 2.05s\n",
      "303:\tlearn: 0.3775149\ttotal: 895ms\tremaining: 2.05s\n",
      "304:\tlearn: 0.3773641\ttotal: 897ms\tremaining: 2.04s\n",
      "305:\tlearn: 0.3771144\ttotal: 900ms\tremaining: 2.04s\n"
     ]
    },
    {
     "name": "stdout",
     "output_type": "stream",
     "text": [
      "306:\tlearn: 0.3768988\ttotal: 903ms\tremaining: 2.04s\n",
      "307:\tlearn: 0.3767875\ttotal: 906ms\tremaining: 2.03s\n",
      "308:\tlearn: 0.3766902\ttotal: 909ms\tremaining: 2.03s\n",
      "309:\tlearn: 0.3765122\ttotal: 911ms\tremaining: 2.03s\n",
      "310:\tlearn: 0.3762355\ttotal: 914ms\tremaining: 2.02s\n",
      "311:\tlearn: 0.3759639\ttotal: 916ms\tremaining: 2.02s\n",
      "312:\tlearn: 0.3757633\ttotal: 918ms\tremaining: 2.02s\n",
      "313:\tlearn: 0.3756088\ttotal: 923ms\tremaining: 2.02s\n",
      "314:\tlearn: 0.3753924\ttotal: 926ms\tremaining: 2.01s\n",
      "315:\tlearn: 0.3752631\ttotal: 929ms\tremaining: 2.01s\n",
      "316:\tlearn: 0.3748454\ttotal: 931ms\tremaining: 2.01s\n",
      "317:\tlearn: 0.3746058\ttotal: 934ms\tremaining: 2s\n",
      "318:\tlearn: 0.3744453\ttotal: 936ms\tremaining: 2s\n",
      "319:\tlearn: 0.3742216\ttotal: 939ms\tremaining: 2s\n",
      "320:\tlearn: 0.3739936\ttotal: 942ms\tremaining: 1.99s\n",
      "321:\tlearn: 0.3738479\ttotal: 945ms\tremaining: 1.99s\n",
      "322:\tlearn: 0.3736583\ttotal: 947ms\tremaining: 1.99s\n",
      "323:\tlearn: 0.3732614\ttotal: 949ms\tremaining: 1.98s\n",
      "324:\tlearn: 0.3730526\ttotal: 952ms\tremaining: 1.98s\n",
      "325:\tlearn: 0.3728275\ttotal: 955ms\tremaining: 1.97s\n",
      "326:\tlearn: 0.3726663\ttotal: 957ms\tremaining: 1.97s\n",
      "327:\tlearn: 0.3724477\ttotal: 960ms\tremaining: 1.97s\n",
      "328:\tlearn: 0.3722264\ttotal: 963ms\tremaining: 1.96s\n",
      "329:\tlearn: 0.3719977\ttotal: 965ms\tremaining: 1.96s\n",
      "330:\tlearn: 0.3718165\ttotal: 968ms\tremaining: 1.96s\n",
      "331:\tlearn: 0.3717536\ttotal: 970ms\tremaining: 1.95s\n"
     ]
    },
    {
     "name": "stdout",
     "output_type": "stream",
     "text": [
      "332:\tlearn: 0.3715319\ttotal: 973ms\tremaining: 1.95s\n",
      "333:\tlearn: 0.3712576\ttotal: 976ms\tremaining: 1.95s\n",
      "334:\tlearn: 0.3711206\ttotal: 978ms\tremaining: 1.94s\n",
      "335:\tlearn: 0.3708279\ttotal: 981ms\tremaining: 1.94s\n",
      "336:\tlearn: 0.3707145\ttotal: 983ms\tremaining: 1.93s\n",
      "337:\tlearn: 0.3705258\ttotal: 986ms\tremaining: 1.93s\n",
      "338:\tlearn: 0.3703829\ttotal: 990ms\tremaining: 1.93s\n",
      "339:\tlearn: 0.3702205\ttotal: 993ms\tremaining: 1.93s\n",
      "340:\tlearn: 0.3699906\ttotal: 995ms\tremaining: 1.92s\n",
      "341:\tlearn: 0.3697932\ttotal: 997ms\tremaining: 1.92s\n",
      "342:\tlearn: 0.3694504\ttotal: 1s\tremaining: 1.92s\n",
      "343:\tlearn: 0.3692735\ttotal: 1s\tremaining: 1.91s\n",
      "344:\tlearn: 0.3690565\ttotal: 1s\tremaining: 1.91s\n",
      "345:\tlearn: 0.3687951\ttotal: 1.01s\tremaining: 1.91s\n",
      "346:\tlearn: 0.3686681\ttotal: 1.01s\tremaining: 1.9s\n",
      "347:\tlearn: 0.3684017\ttotal: 1.01s\tremaining: 1.9s\n",
      "348:\tlearn: 0.3681322\ttotal: 1.01s\tremaining: 1.89s\n",
      "349:\tlearn: 0.3679107\ttotal: 1.02s\tremaining: 1.89s\n",
      "350:\tlearn: 0.3676693\ttotal: 1.02s\tremaining: 1.89s\n",
      "351:\tlearn: 0.3673679\ttotal: 1.02s\tremaining: 1.89s\n",
      "352:\tlearn: 0.3672013\ttotal: 1.03s\tremaining: 1.88s\n",
      "353:\tlearn: 0.3670129\ttotal: 1.03s\tremaining: 1.88s\n",
      "354:\tlearn: 0.3667835\ttotal: 1.03s\tremaining: 1.87s\n",
      "355:\tlearn: 0.3666116\ttotal: 1.03s\tremaining: 1.87s\n",
      "356:\tlearn: 0.3664152\ttotal: 1.04s\tremaining: 1.87s\n",
      "357:\tlearn: 0.3662624\ttotal: 1.04s\tremaining: 1.86s\n",
      "358:\tlearn: 0.3660561\ttotal: 1.04s\tremaining: 1.86s\n",
      "359:\tlearn: 0.3658612\ttotal: 1.04s\tremaining: 1.86s\n",
      "360:\tlearn: 0.3657893\ttotal: 1.05s\tremaining: 1.85s\n",
      "361:\tlearn: 0.3655118\ttotal: 1.05s\tremaining: 1.85s\n",
      "362:\tlearn: 0.3653467\ttotal: 1.05s\tremaining: 1.84s\n",
      "363:\tlearn: 0.3652084\ttotal: 1.05s\tremaining: 1.84s\n",
      "364:\tlearn: 0.3650034\ttotal: 1.06s\tremaining: 1.84s\n",
      "365:\tlearn: 0.3648424\ttotal: 1.06s\tremaining: 1.83s\n",
      "366:\tlearn: 0.3646215\ttotal: 1.06s\tremaining: 1.83s\n",
      "367:\tlearn: 0.3644673\ttotal: 1.06s\tremaining: 1.83s\n",
      "368:\tlearn: 0.3643052\ttotal: 1.07s\tremaining: 1.82s\n",
      "369:\tlearn: 0.3640686\ttotal: 1.07s\tremaining: 1.82s\n",
      "370:\tlearn: 0.3639416\ttotal: 1.07s\tremaining: 1.82s\n",
      "371:\tlearn: 0.3637101\ttotal: 1.07s\tremaining: 1.81s\n",
      "372:\tlearn: 0.3635889\ttotal: 1.08s\tremaining: 1.81s\n",
      "373:\tlearn: 0.3632465\ttotal: 1.08s\tremaining: 1.81s\n",
      "374:\tlearn: 0.3630475\ttotal: 1.08s\tremaining: 1.8s\n",
      "375:\tlearn: 0.3628736\ttotal: 1.09s\tremaining: 1.8s\n",
      "376:\tlearn: 0.3627316\ttotal: 1.09s\tremaining: 1.8s\n",
      "377:\tlearn: 0.3624734\ttotal: 1.09s\tremaining: 1.8s\n",
      "378:\tlearn: 0.3622979\ttotal: 1.09s\tremaining: 1.79s\n"
     ]
    },
    {
     "name": "stdout",
     "output_type": "stream",
     "text": [
      "379:\tlearn: 0.3621497\ttotal: 1.1s\tremaining: 1.79s\n",
      "380:\tlearn: 0.3619685\ttotal: 1.1s\tremaining: 1.79s\n",
      "381:\tlearn: 0.3618317\ttotal: 1.1s\tremaining: 1.79s\n",
      "382:\tlearn: 0.3615964\ttotal: 1.11s\tremaining: 1.78s\n",
      "383:\tlearn: 0.3615073\ttotal: 1.11s\tremaining: 1.78s\n",
      "384:\tlearn: 0.3613916\ttotal: 1.11s\tremaining: 1.77s\n",
      "385:\tlearn: 0.3612315\ttotal: 1.11s\tremaining: 1.77s\n",
      "386:\tlearn: 0.3610367\ttotal: 1.12s\tremaining: 1.77s\n",
      "387:\tlearn: 0.3609215\ttotal: 1.12s\tremaining: 1.77s\n",
      "388:\tlearn: 0.3607353\ttotal: 1.12s\tremaining: 1.76s\n",
      "389:\tlearn: 0.3606244\ttotal: 1.12s\tremaining: 1.76s\n",
      "390:\tlearn: 0.3604589\ttotal: 1.13s\tremaining: 1.75s\n",
      "391:\tlearn: 0.3602361\ttotal: 1.13s\tremaining: 1.75s\n",
      "392:\tlearn: 0.3600371\ttotal: 1.13s\tremaining: 1.75s\n",
      "393:\tlearn: 0.3598866\ttotal: 1.13s\tremaining: 1.75s\n",
      "394:\tlearn: 0.3597806\ttotal: 1.14s\tremaining: 1.74s\n",
      "395:\tlearn: 0.3596545\ttotal: 1.14s\tremaining: 1.74s\n",
      "396:\tlearn: 0.3595319\ttotal: 1.14s\tremaining: 1.73s\n",
      "397:\tlearn: 0.3592201\ttotal: 1.14s\tremaining: 1.73s\n",
      "398:\tlearn: 0.3590994\ttotal: 1.15s\tremaining: 1.73s\n",
      "399:\tlearn: 0.3589173\ttotal: 1.15s\tremaining: 1.73s\n",
      "400:\tlearn: 0.3587471\ttotal: 1.15s\tremaining: 1.72s\n",
      "401:\tlearn: 0.3584118\ttotal: 1.15s\tremaining: 1.72s\n",
      "402:\tlearn: 0.3582607\ttotal: 1.16s\tremaining: 1.71s\n",
      "403:\tlearn: 0.3580626\ttotal: 1.16s\tremaining: 1.71s\n",
      "404:\tlearn: 0.3580079\ttotal: 1.16s\tremaining: 1.71s\n",
      "405:\tlearn: 0.3578987\ttotal: 1.16s\tremaining: 1.7s\n",
      "406:\tlearn: 0.3577286\ttotal: 1.17s\tremaining: 1.7s\n",
      "407:\tlearn: 0.3575358\ttotal: 1.17s\tremaining: 1.7s\n"
     ]
    },
    {
     "name": "stdout",
     "output_type": "stream",
     "text": [
      "408:\tlearn: 0.3572742\ttotal: 1.17s\tremaining: 1.69s\n",
      "409:\tlearn: 0.3571624\ttotal: 1.17s\tremaining: 1.69s\n",
      "410:\tlearn: 0.3570106\ttotal: 1.18s\tremaining: 1.69s\n",
      "411:\tlearn: 0.3568697\ttotal: 1.18s\tremaining: 1.68s\n",
      "412:\tlearn: 0.3567843\ttotal: 1.18s\tremaining: 1.68s\n",
      "413:\tlearn: 0.3565587\ttotal: 1.19s\tremaining: 1.68s\n",
      "414:\tlearn: 0.3563932\ttotal: 1.19s\tremaining: 1.68s\n",
      "415:\tlearn: 0.3562250\ttotal: 1.19s\tremaining: 1.67s\n",
      "416:\tlearn: 0.3560643\ttotal: 1.19s\tremaining: 1.67s\n",
      "417:\tlearn: 0.3558601\ttotal: 1.19s\tremaining: 1.66s\n",
      "418:\tlearn: 0.3556606\ttotal: 1.2s\tremaining: 1.66s\n",
      "419:\tlearn: 0.3554781\ttotal: 1.2s\tremaining: 1.66s\n",
      "420:\tlearn: 0.3553529\ttotal: 1.2s\tremaining: 1.65s\n",
      "421:\tlearn: 0.3552181\ttotal: 1.2s\tremaining: 1.65s\n",
      "422:\tlearn: 0.3551209\ttotal: 1.2s\tremaining: 1.64s\n",
      "423:\tlearn: 0.3548060\ttotal: 1.21s\tremaining: 1.64s\n",
      "424:\tlearn: 0.3546871\ttotal: 1.21s\tremaining: 1.63s\n",
      "425:\tlearn: 0.3545598\ttotal: 1.21s\tremaining: 1.63s\n",
      "426:\tlearn: 0.3544320\ttotal: 1.21s\tremaining: 1.63s\n",
      "427:\tlearn: 0.3543050\ttotal: 1.22s\tremaining: 1.62s\n",
      "428:\tlearn: 0.3541235\ttotal: 1.22s\tremaining: 1.62s\n",
      "429:\tlearn: 0.3539513\ttotal: 1.22s\tremaining: 1.62s\n",
      "430:\tlearn: 0.3536789\ttotal: 1.22s\tremaining: 1.61s\n",
      "431:\tlearn: 0.3535513\ttotal: 1.22s\tremaining: 1.61s\n",
      "432:\tlearn: 0.3534403\ttotal: 1.23s\tremaining: 1.6s\n",
      "433:\tlearn: 0.3533621\ttotal: 1.23s\tremaining: 1.6s\n",
      "434:\tlearn: 0.3532472\ttotal: 1.23s\tremaining: 1.6s\n",
      "435:\tlearn: 0.3530229\ttotal: 1.23s\tremaining: 1.59s\n",
      "436:\tlearn: 0.3529107\ttotal: 1.23s\tremaining: 1.59s\n",
      "437:\tlearn: 0.3527633\ttotal: 1.24s\tremaining: 1.59s\n",
      "438:\tlearn: 0.3526081\ttotal: 1.24s\tremaining: 1.58s\n",
      "439:\tlearn: 0.3524138\ttotal: 1.24s\tremaining: 1.58s\n",
      "440:\tlearn: 0.3522372\ttotal: 1.24s\tremaining: 1.57s\n",
      "441:\tlearn: 0.3519907\ttotal: 1.24s\tremaining: 1.57s\n",
      "442:\tlearn: 0.3517897\ttotal: 1.25s\tremaining: 1.57s\n",
      "443:\tlearn: 0.3516701\ttotal: 1.25s\tremaining: 1.56s\n",
      "444:\tlearn: 0.3515402\ttotal: 1.25s\tremaining: 1.56s\n",
      "445:\tlearn: 0.3514185\ttotal: 1.25s\tremaining: 1.55s\n",
      "446:\tlearn: 0.3512585\ttotal: 1.25s\tremaining: 1.55s\n",
      "447:\tlearn: 0.3511275\ttotal: 1.26s\tremaining: 1.55s\n",
      "448:\tlearn: 0.3509235\ttotal: 1.26s\tremaining: 1.54s\n",
      "449:\tlearn: 0.3507861\ttotal: 1.26s\tremaining: 1.54s\n",
      "450:\tlearn: 0.3506673\ttotal: 1.26s\tremaining: 1.54s\n",
      "451:\tlearn: 0.3505704\ttotal: 1.26s\tremaining: 1.53s\n",
      "452:\tlearn: 0.3504320\ttotal: 1.27s\tremaining: 1.53s\n",
      "453:\tlearn: 0.3503351\ttotal: 1.27s\tremaining: 1.52s\n",
      "454:\tlearn: 0.3501778\ttotal: 1.27s\tremaining: 1.52s\n",
      "455:\tlearn: 0.3500755\ttotal: 1.27s\tremaining: 1.52s\n",
      "456:\tlearn: 0.3499840\ttotal: 1.27s\tremaining: 1.51s\n",
      "457:\tlearn: 0.3498491\ttotal: 1.27s\tremaining: 1.51s\n",
      "458:\tlearn: 0.3497218\ttotal: 1.28s\tremaining: 1.51s\n",
      "459:\tlearn: 0.3496385\ttotal: 1.28s\tremaining: 1.5s\n",
      "460:\tlearn: 0.3494652\ttotal: 1.28s\tremaining: 1.5s\n",
      "461:\tlearn: 0.3493024\ttotal: 1.29s\tremaining: 1.5s\n",
      "462:\tlearn: 0.3491220\ttotal: 1.29s\tremaining: 1.49s\n"
     ]
    },
    {
     "name": "stdout",
     "output_type": "stream",
     "text": [
      "463:\tlearn: 0.3489759\ttotal: 1.29s\tremaining: 1.49s\n",
      "464:\tlearn: 0.3487776\ttotal: 1.29s\tremaining: 1.49s\n",
      "465:\tlearn: 0.3486838\ttotal: 1.29s\tremaining: 1.48s\n",
      "466:\tlearn: 0.3485109\ttotal: 1.3s\tremaining: 1.48s\n",
      "467:\tlearn: 0.3484518\ttotal: 1.3s\tremaining: 1.48s\n",
      "468:\tlearn: 0.3482993\ttotal: 1.3s\tremaining: 1.48s\n",
      "469:\tlearn: 0.3482431\ttotal: 1.3s\tremaining: 1.47s\n",
      "470:\tlearn: 0.3481865\ttotal: 1.31s\tremaining: 1.47s\n",
      "471:\tlearn: 0.3480493\ttotal: 1.31s\tremaining: 1.47s\n",
      "472:\tlearn: 0.3479061\ttotal: 1.31s\tremaining: 1.46s\n",
      "473:\tlearn: 0.3477405\ttotal: 1.31s\tremaining: 1.46s\n",
      "474:\tlearn: 0.3475490\ttotal: 1.32s\tremaining: 1.46s\n",
      "475:\tlearn: 0.3474632\ttotal: 1.32s\tremaining: 1.45s\n",
      "476:\tlearn: 0.3473343\ttotal: 1.32s\tremaining: 1.45s\n",
      "477:\tlearn: 0.3472756\ttotal: 1.32s\tremaining: 1.45s\n",
      "478:\tlearn: 0.3472250\ttotal: 1.33s\tremaining: 1.45s\n",
      "479:\tlearn: 0.3471310\ttotal: 1.33s\tremaining: 1.44s\n",
      "480:\tlearn: 0.3468380\ttotal: 1.33s\tremaining: 1.44s\n",
      "481:\tlearn: 0.3467306\ttotal: 1.33s\tremaining: 1.44s\n",
      "482:\tlearn: 0.3465594\ttotal: 1.34s\tremaining: 1.43s\n",
      "483:\tlearn: 0.3464343\ttotal: 1.34s\tremaining: 1.43s\n",
      "484:\tlearn: 0.3463766\ttotal: 1.34s\tremaining: 1.43s\n",
      "485:\tlearn: 0.3462595\ttotal: 1.34s\tremaining: 1.42s\n",
      "486:\tlearn: 0.3461442\ttotal: 1.35s\tremaining: 1.42s\n",
      "487:\tlearn: 0.3460328\ttotal: 1.35s\tremaining: 1.42s\n",
      "488:\tlearn: 0.3458419\ttotal: 1.35s\tremaining: 1.41s\n",
      "489:\tlearn: 0.3457244\ttotal: 1.35s\tremaining: 1.41s\n",
      "490:\tlearn: 0.3456196\ttotal: 1.36s\tremaining: 1.41s\n",
      "491:\tlearn: 0.3455257\ttotal: 1.36s\tremaining: 1.4s\n",
      "492:\tlearn: 0.3453687\ttotal: 1.36s\tremaining: 1.4s\n",
      "493:\tlearn: 0.3452624\ttotal: 1.36s\tremaining: 1.4s\n"
     ]
    },
    {
     "name": "stdout",
     "output_type": "stream",
     "text": [
      "494:\tlearn: 0.3451802\ttotal: 1.37s\tremaining: 1.4s\n",
      "495:\tlearn: 0.3450292\ttotal: 1.37s\tremaining: 1.39s\n",
      "496:\tlearn: 0.3449175\ttotal: 1.37s\tremaining: 1.39s\n",
      "497:\tlearn: 0.3448135\ttotal: 1.38s\tremaining: 1.39s\n",
      "498:\tlearn: 0.3446796\ttotal: 1.38s\tremaining: 1.38s\n",
      "499:\tlearn: 0.3445890\ttotal: 1.38s\tremaining: 1.38s\n",
      "500:\tlearn: 0.3444246\ttotal: 1.38s\tremaining: 1.38s\n",
      "501:\tlearn: 0.3443303\ttotal: 1.39s\tremaining: 1.37s\n",
      "502:\tlearn: 0.3441817\ttotal: 1.39s\tremaining: 1.37s\n",
      "503:\tlearn: 0.3441019\ttotal: 1.39s\tremaining: 1.37s\n",
      "504:\tlearn: 0.3439944\ttotal: 1.39s\tremaining: 1.36s\n",
      "505:\tlearn: 0.3439182\ttotal: 1.39s\tremaining: 1.36s\n",
      "506:\tlearn: 0.3438213\ttotal: 1.4s\tremaining: 1.36s\n",
      "507:\tlearn: 0.3436060\ttotal: 1.4s\tremaining: 1.35s\n",
      "508:\tlearn: 0.3435446\ttotal: 1.4s\tremaining: 1.35s\n",
      "509:\tlearn: 0.3433975\ttotal: 1.4s\tremaining: 1.35s\n",
      "510:\tlearn: 0.3431741\ttotal: 1.41s\tremaining: 1.34s\n",
      "511:\tlearn: 0.3430773\ttotal: 1.41s\tremaining: 1.34s\n",
      "512:\tlearn: 0.3429524\ttotal: 1.41s\tremaining: 1.34s\n",
      "513:\tlearn: 0.3428117\ttotal: 1.41s\tremaining: 1.34s\n",
      "514:\tlearn: 0.3426759\ttotal: 1.42s\tremaining: 1.33s\n",
      "515:\tlearn: 0.3425446\ttotal: 1.42s\tremaining: 1.33s\n",
      "516:\tlearn: 0.3424166\ttotal: 1.42s\tremaining: 1.33s\n",
      "517:\tlearn: 0.3423067\ttotal: 1.42s\tremaining: 1.32s\n",
      "518:\tlearn: 0.3422096\ttotal: 1.43s\tremaining: 1.32s\n",
      "519:\tlearn: 0.3421012\ttotal: 1.43s\tremaining: 1.32s\n",
      "520:\tlearn: 0.3419840\ttotal: 1.43s\tremaining: 1.31s\n",
      "521:\tlearn: 0.3419279\ttotal: 1.43s\tremaining: 1.31s\n",
      "522:\tlearn: 0.3417924\ttotal: 1.44s\tremaining: 1.31s\n",
      "523:\tlearn: 0.3416358\ttotal: 1.44s\tremaining: 1.31s\n",
      "524:\tlearn: 0.3413383\ttotal: 1.44s\tremaining: 1.3s\n",
      "525:\tlearn: 0.3412115\ttotal: 1.45s\tremaining: 1.3s\n",
      "526:\tlearn: 0.3410708\ttotal: 1.45s\tremaining: 1.3s\n",
      "527:\tlearn: 0.3409154\ttotal: 1.45s\tremaining: 1.3s\n",
      "528:\tlearn: 0.3407081\ttotal: 1.45s\tremaining: 1.29s\n",
      "529:\tlearn: 0.3405955\ttotal: 1.46s\tremaining: 1.29s\n",
      "530:\tlearn: 0.3404746\ttotal: 1.46s\tremaining: 1.29s\n",
      "531:\tlearn: 0.3403106\ttotal: 1.46s\tremaining: 1.28s\n",
      "532:\tlearn: 0.3401964\ttotal: 1.46s\tremaining: 1.28s\n",
      "533:\tlearn: 0.3400305\ttotal: 1.46s\tremaining: 1.28s\n",
      "534:\tlearn: 0.3399296\ttotal: 1.47s\tremaining: 1.27s\n",
      "535:\tlearn: 0.3397623\ttotal: 1.47s\tremaining: 1.27s\n",
      "536:\tlearn: 0.3396775\ttotal: 1.47s\tremaining: 1.27s\n",
      "537:\tlearn: 0.3395730\ttotal: 1.47s\tremaining: 1.27s\n",
      "538:\tlearn: 0.3394046\ttotal: 1.48s\tremaining: 1.26s\n",
      "539:\tlearn: 0.3392639\ttotal: 1.48s\tremaining: 1.26s\n",
      "540:\tlearn: 0.3391610\ttotal: 1.48s\tremaining: 1.26s\n",
      "541:\tlearn: 0.3390704\ttotal: 1.48s\tremaining: 1.25s\n"
     ]
    },
    {
     "name": "stdout",
     "output_type": "stream",
     "text": [
      "542:\tlearn: 0.3389997\ttotal: 1.49s\tremaining: 1.25s\n",
      "543:\tlearn: 0.3389213\ttotal: 1.49s\tremaining: 1.25s\n",
      "544:\tlearn: 0.3387937\ttotal: 1.49s\tremaining: 1.25s\n",
      "545:\tlearn: 0.3386808\ttotal: 1.5s\tremaining: 1.24s\n",
      "546:\tlearn: 0.3385021\ttotal: 1.5s\tremaining: 1.24s\n",
      "547:\tlearn: 0.3383873\ttotal: 1.5s\tremaining: 1.24s\n",
      "548:\tlearn: 0.3383372\ttotal: 1.5s\tremaining: 1.24s\n",
      "549:\tlearn: 0.3382357\ttotal: 1.5s\tremaining: 1.23s\n",
      "550:\tlearn: 0.3381221\ttotal: 1.51s\tremaining: 1.23s\n",
      "551:\tlearn: 0.3380277\ttotal: 1.51s\tremaining: 1.23s\n",
      "552:\tlearn: 0.3379007\ttotal: 1.51s\tremaining: 1.22s\n",
      "553:\tlearn: 0.3377968\ttotal: 1.51s\tremaining: 1.22s\n",
      "554:\tlearn: 0.3377313\ttotal: 1.52s\tremaining: 1.22s\n",
      "555:\tlearn: 0.3375889\ttotal: 1.52s\tremaining: 1.21s\n",
      "556:\tlearn: 0.3374210\ttotal: 1.52s\tremaining: 1.21s\n",
      "557:\tlearn: 0.3373385\ttotal: 1.52s\tremaining: 1.21s\n",
      "558:\tlearn: 0.3372505\ttotal: 1.53s\tremaining: 1.21s\n",
      "559:\tlearn: 0.3370542\ttotal: 1.53s\tremaining: 1.2s\n",
      "560:\tlearn: 0.3369427\ttotal: 1.53s\tremaining: 1.2s\n",
      "561:\tlearn: 0.3368242\ttotal: 1.53s\tremaining: 1.2s\n",
      "562:\tlearn: 0.3367370\ttotal: 1.54s\tremaining: 1.19s\n",
      "563:\tlearn: 0.3366046\ttotal: 1.54s\tremaining: 1.19s\n",
      "564:\tlearn: 0.3364960\ttotal: 1.54s\tremaining: 1.19s\n",
      "565:\tlearn: 0.3363687\ttotal: 1.54s\tremaining: 1.18s\n",
      "566:\tlearn: 0.3362436\ttotal: 1.55s\tremaining: 1.18s\n",
      "567:\tlearn: 0.3361359\ttotal: 1.55s\tremaining: 1.18s\n",
      "568:\tlearn: 0.3360348\ttotal: 1.55s\tremaining: 1.18s\n",
      "569:\tlearn: 0.3358967\ttotal: 1.55s\tremaining: 1.17s\n",
      "570:\tlearn: 0.3358424\ttotal: 1.56s\tremaining: 1.17s\n",
      "571:\tlearn: 0.3357663\ttotal: 1.56s\tremaining: 1.17s\n"
     ]
    },
    {
     "name": "stdout",
     "output_type": "stream",
     "text": [
      "572:\tlearn: 0.3356498\ttotal: 1.56s\tremaining: 1.17s\n",
      "573:\tlearn: 0.3355963\ttotal: 1.57s\tremaining: 1.16s\n",
      "574:\tlearn: 0.3354888\ttotal: 1.57s\tremaining: 1.16s\n",
      "575:\tlearn: 0.3354074\ttotal: 1.57s\tremaining: 1.16s\n",
      "576:\tlearn: 0.3352531\ttotal: 1.57s\tremaining: 1.15s\n",
      "577:\tlearn: 0.3351262\ttotal: 1.58s\tremaining: 1.15s\n",
      "578:\tlearn: 0.3349969\ttotal: 1.58s\tremaining: 1.15s\n",
      "579:\tlearn: 0.3349075\ttotal: 1.59s\tremaining: 1.15s\n",
      "580:\tlearn: 0.3347651\ttotal: 1.59s\tremaining: 1.15s\n",
      "581:\tlearn: 0.3346505\ttotal: 1.59s\tremaining: 1.14s\n",
      "582:\tlearn: 0.3346195\ttotal: 1.59s\tremaining: 1.14s\n",
      "583:\tlearn: 0.3345014\ttotal: 1.6s\tremaining: 1.14s\n",
      "584:\tlearn: 0.3343957\ttotal: 1.6s\tremaining: 1.14s\n",
      "585:\tlearn: 0.3342059\ttotal: 1.6s\tremaining: 1.13s\n",
      "586:\tlearn: 0.3340719\ttotal: 1.6s\tremaining: 1.13s\n",
      "587:\tlearn: 0.3339186\ttotal: 1.61s\tremaining: 1.13s\n",
      "588:\tlearn: 0.3338686\ttotal: 1.61s\tremaining: 1.12s\n",
      "589:\tlearn: 0.3337446\ttotal: 1.61s\tremaining: 1.12s\n",
      "590:\tlearn: 0.3334953\ttotal: 1.61s\tremaining: 1.12s\n",
      "591:\tlearn: 0.3334101\ttotal: 1.62s\tremaining: 1.11s\n",
      "592:\tlearn: 0.3332714\ttotal: 1.62s\tremaining: 1.11s\n",
      "593:\tlearn: 0.3331892\ttotal: 1.62s\tremaining: 1.11s\n",
      "594:\tlearn: 0.3330500\ttotal: 1.63s\tremaining: 1.11s\n",
      "595:\tlearn: 0.3329496\ttotal: 1.63s\tremaining: 1.1s\n",
      "596:\tlearn: 0.3328375\ttotal: 1.63s\tremaining: 1.1s\n",
      "597:\tlearn: 0.3327358\ttotal: 1.63s\tremaining: 1.1s\n",
      "598:\tlearn: 0.3325886\ttotal: 1.63s\tremaining: 1.09s\n",
      "599:\tlearn: 0.3325268\ttotal: 1.64s\tremaining: 1.09s\n",
      "600:\tlearn: 0.3324158\ttotal: 1.64s\tremaining: 1.09s\n",
      "601:\tlearn: 0.3322888\ttotal: 1.64s\tremaining: 1.08s\n",
      "602:\tlearn: 0.3321393\ttotal: 1.64s\tremaining: 1.08s\n",
      "603:\tlearn: 0.3319839\ttotal: 1.65s\tremaining: 1.08s\n",
      "604:\tlearn: 0.3319042\ttotal: 1.65s\tremaining: 1.08s\n",
      "605:\tlearn: 0.3318272\ttotal: 1.65s\tremaining: 1.07s\n",
      "606:\tlearn: 0.3317128\ttotal: 1.65s\tremaining: 1.07s\n",
      "607:\tlearn: 0.3316722\ttotal: 1.66s\tremaining: 1.07s\n",
      "608:\tlearn: 0.3315582\ttotal: 1.66s\tremaining: 1.06s\n",
      "609:\tlearn: 0.3314404\ttotal: 1.66s\tremaining: 1.06s\n",
      "610:\tlearn: 0.3313355\ttotal: 1.66s\tremaining: 1.06s\n",
      "611:\tlearn: 0.3312129\ttotal: 1.67s\tremaining: 1.06s\n",
      "612:\tlearn: 0.3310669\ttotal: 1.67s\tremaining: 1.05s\n",
      "613:\tlearn: 0.3309384\ttotal: 1.67s\tremaining: 1.05s\n",
      "614:\tlearn: 0.3307272\ttotal: 1.68s\tremaining: 1.05s\n",
      "615:\tlearn: 0.3306146\ttotal: 1.68s\tremaining: 1.04s\n",
      "616:\tlearn: 0.3305036\ttotal: 1.68s\tremaining: 1.04s\n"
     ]
    },
    {
     "name": "stdout",
     "output_type": "stream",
     "text": [
      "617:\tlearn: 0.3303649\ttotal: 1.68s\tremaining: 1.04s\n",
      "618:\tlearn: 0.3301880\ttotal: 1.69s\tremaining: 1.04s\n",
      "619:\tlearn: 0.3301215\ttotal: 1.69s\tremaining: 1.03s\n",
      "620:\tlearn: 0.3299987\ttotal: 1.69s\tremaining: 1.03s\n",
      "621:\tlearn: 0.3299175\ttotal: 1.69s\tremaining: 1.03s\n",
      "622:\tlearn: 0.3298283\ttotal: 1.69s\tremaining: 1.02s\n",
      "623:\tlearn: 0.3297042\ttotal: 1.7s\tremaining: 1.02s\n",
      "624:\tlearn: 0.3296098\ttotal: 1.7s\tremaining: 1.02s\n",
      "625:\tlearn: 0.3294805\ttotal: 1.7s\tremaining: 1.02s\n",
      "626:\tlearn: 0.3293639\ttotal: 1.7s\tremaining: 1.01s\n",
      "627:\tlearn: 0.3292559\ttotal: 1.71s\tremaining: 1.01s\n",
      "628:\tlearn: 0.3291246\ttotal: 1.71s\tremaining: 1.01s\n",
      "629:\tlearn: 0.3290326\ttotal: 1.71s\tremaining: 1.01s\n",
      "630:\tlearn: 0.3289351\ttotal: 1.72s\tremaining: 1s\n",
      "631:\tlearn: 0.3287747\ttotal: 1.72s\tremaining: 1s\n",
      "632:\tlearn: 0.3287122\ttotal: 1.72s\tremaining: 997ms\n",
      "633:\tlearn: 0.3286309\ttotal: 1.72s\tremaining: 994ms\n",
      "634:\tlearn: 0.3285659\ttotal: 1.72s\tremaining: 991ms\n",
      "635:\tlearn: 0.3284684\ttotal: 1.73s\tremaining: 988ms\n",
      "636:\tlearn: 0.3283599\ttotal: 1.73s\tremaining: 986ms\n",
      "637:\tlearn: 0.3282592\ttotal: 1.73s\tremaining: 983ms\n",
      "638:\tlearn: 0.3281652\ttotal: 1.73s\tremaining: 980ms\n",
      "639:\tlearn: 0.3280066\ttotal: 1.74s\tremaining: 977ms\n",
      "640:\tlearn: 0.3279088\ttotal: 1.74s\tremaining: 974ms\n",
      "641:\tlearn: 0.3278650\ttotal: 1.74s\tremaining: 971ms\n",
      "642:\tlearn: 0.3277281\ttotal: 1.74s\tremaining: 968ms\n",
      "643:\tlearn: 0.3274945\ttotal: 1.75s\tremaining: 966ms\n",
      "644:\tlearn: 0.3273692\ttotal: 1.75s\tremaining: 963ms\n",
      "645:\tlearn: 0.3272690\ttotal: 1.75s\tremaining: 960ms\n",
      "646:\tlearn: 0.3271676\ttotal: 1.75s\tremaining: 957ms\n",
      "647:\tlearn: 0.3270299\ttotal: 1.76s\tremaining: 954ms\n"
     ]
    },
    {
     "name": "stdout",
     "output_type": "stream",
     "text": [
      "648:\tlearn: 0.3269519\ttotal: 1.76s\tremaining: 951ms\n",
      "649:\tlearn: 0.3268400\ttotal: 1.76s\tremaining: 949ms\n",
      "650:\tlearn: 0.3267540\ttotal: 1.76s\tremaining: 946ms\n",
      "651:\tlearn: 0.3266713\ttotal: 1.77s\tremaining: 943ms\n",
      "652:\tlearn: 0.3265590\ttotal: 1.77s\tremaining: 940ms\n",
      "653:\tlearn: 0.3265079\ttotal: 1.77s\tremaining: 938ms\n",
      "654:\tlearn: 0.3263738\ttotal: 1.77s\tremaining: 935ms\n",
      "655:\tlearn: 0.3262624\ttotal: 1.78s\tremaining: 932ms\n",
      "656:\tlearn: 0.3261681\ttotal: 1.78s\tremaining: 929ms\n",
      "657:\tlearn: 0.3260698\ttotal: 1.78s\tremaining: 926ms\n",
      "658:\tlearn: 0.3259536\ttotal: 1.78s\tremaining: 924ms\n",
      "659:\tlearn: 0.3258459\ttotal: 1.79s\tremaining: 921ms\n",
      "660:\tlearn: 0.3257224\ttotal: 1.79s\tremaining: 918ms\n",
      "661:\tlearn: 0.3255814\ttotal: 1.79s\tremaining: 915ms\n",
      "662:\tlearn: 0.3254742\ttotal: 1.79s\tremaining: 912ms\n",
      "663:\tlearn: 0.3253426\ttotal: 1.8s\tremaining: 910ms\n",
      "664:\tlearn: 0.3252262\ttotal: 1.8s\tremaining: 907ms\n",
      "665:\tlearn: 0.3251307\ttotal: 1.8s\tremaining: 904ms\n",
      "666:\tlearn: 0.3250252\ttotal: 1.8s\tremaining: 902ms\n",
      "667:\tlearn: 0.3249638\ttotal: 1.81s\tremaining: 899ms\n",
      "668:\tlearn: 0.3248867\ttotal: 1.81s\tremaining: 896ms\n",
      "669:\tlearn: 0.3247816\ttotal: 1.81s\tremaining: 893ms\n",
      "670:\tlearn: 0.3246668\ttotal: 1.81s\tremaining: 890ms\n",
      "671:\tlearn: 0.3245814\ttotal: 1.82s\tremaining: 887ms\n",
      "672:\tlearn: 0.3244655\ttotal: 1.82s\tremaining: 885ms\n",
      "673:\tlearn: 0.3243702\ttotal: 1.82s\tremaining: 882ms\n",
      "674:\tlearn: 0.3242055\ttotal: 1.82s\tremaining: 879ms\n",
      "675:\tlearn: 0.3241316\ttotal: 1.83s\tremaining: 876ms\n",
      "676:\tlearn: 0.3240354\ttotal: 1.83s\tremaining: 874ms\n",
      "677:\tlearn: 0.3239393\ttotal: 1.83s\tremaining: 871ms\n",
      "678:\tlearn: 0.3237738\ttotal: 1.83s\tremaining: 868ms\n",
      "679:\tlearn: 0.3236106\ttotal: 1.84s\tremaining: 865ms\n",
      "680:\tlearn: 0.3235290\ttotal: 1.84s\tremaining: 862ms\n",
      "681:\tlearn: 0.3234597\ttotal: 1.84s\tremaining: 859ms\n",
      "682:\tlearn: 0.3233647\ttotal: 1.84s\tremaining: 857ms\n",
      "683:\tlearn: 0.3232968\ttotal: 1.85s\tremaining: 854ms\n",
      "684:\tlearn: 0.3232008\ttotal: 1.85s\tremaining: 851ms\n",
      "685:\tlearn: 0.3231252\ttotal: 1.85s\tremaining: 848ms\n",
      "686:\tlearn: 0.3230228\ttotal: 1.85s\tremaining: 845ms\n",
      "687:\tlearn: 0.3229025\ttotal: 1.86s\tremaining: 842ms\n",
      "688:\tlearn: 0.3228004\ttotal: 1.86s\tremaining: 840ms\n",
      "689:\tlearn: 0.3227649\ttotal: 1.86s\tremaining: 837ms\n",
      "690:\tlearn: 0.3226467\ttotal: 1.86s\tremaining: 834ms\n",
      "691:\tlearn: 0.3225425\ttotal: 1.87s\tremaining: 831ms\n",
      "692:\tlearn: 0.3224685\ttotal: 1.87s\tremaining: 828ms\n",
      "693:\tlearn: 0.3223494\ttotal: 1.87s\tremaining: 826ms\n",
      "694:\tlearn: 0.3222390\ttotal: 1.87s\tremaining: 823ms\n"
     ]
    },
    {
     "name": "stdout",
     "output_type": "stream",
     "text": [
      "695:\tlearn: 0.3220720\ttotal: 1.88s\tremaining: 820ms\n",
      "696:\tlearn: 0.3219863\ttotal: 1.88s\tremaining: 817ms\n",
      "697:\tlearn: 0.3218547\ttotal: 1.88s\tremaining: 815ms\n",
      "698:\tlearn: 0.3217393\ttotal: 1.89s\tremaining: 812ms\n",
      "699:\tlearn: 0.3216195\ttotal: 1.89s\tremaining: 809ms\n",
      "700:\tlearn: 0.3215167\ttotal: 1.89s\tremaining: 806ms\n",
      "701:\tlearn: 0.3214530\ttotal: 1.89s\tremaining: 804ms\n",
      "702:\tlearn: 0.3214004\ttotal: 1.9s\tremaining: 801ms\n",
      "703:\tlearn: 0.3213752\ttotal: 1.9s\tremaining: 798ms\n",
      "704:\tlearn: 0.3212788\ttotal: 1.9s\tremaining: 795ms\n",
      "705:\tlearn: 0.3211508\ttotal: 1.9s\tremaining: 792ms\n",
      "706:\tlearn: 0.3210662\ttotal: 1.9s\tremaining: 789ms\n",
      "707:\tlearn: 0.3210088\ttotal: 1.91s\tremaining: 787ms\n",
      "708:\tlearn: 0.3208544\ttotal: 1.91s\tremaining: 784ms\n",
      "709:\tlearn: 0.3207556\ttotal: 1.91s\tremaining: 781ms\n",
      "710:\tlearn: 0.3206768\ttotal: 1.91s\tremaining: 778ms\n",
      "711:\tlearn: 0.3205986\ttotal: 1.92s\tremaining: 776ms\n",
      "712:\tlearn: 0.3205580\ttotal: 1.92s\tremaining: 773ms\n",
      "713:\tlearn: 0.3204464\ttotal: 1.92s\tremaining: 770ms\n",
      "714:\tlearn: 0.3203638\ttotal: 1.93s\tremaining: 767ms\n",
      "715:\tlearn: 0.3202358\ttotal: 1.93s\tremaining: 765ms\n",
      "716:\tlearn: 0.3201631\ttotal: 1.93s\tremaining: 762ms\n",
      "717:\tlearn: 0.3200423\ttotal: 1.93s\tremaining: 759ms\n",
      "718:\tlearn: 0.3199427\ttotal: 1.94s\tremaining: 756ms\n",
      "719:\tlearn: 0.3198067\ttotal: 1.94s\tremaining: 754ms\n",
      "720:\tlearn: 0.3197370\ttotal: 1.94s\tremaining: 751ms\n",
      "721:\tlearn: 0.3196231\ttotal: 1.94s\tremaining: 748ms\n",
      "722:\tlearn: 0.3195406\ttotal: 1.95s\tremaining: 745ms\n",
      "723:\tlearn: 0.3194542\ttotal: 1.95s\tremaining: 742ms\n",
      "724:\tlearn: 0.3193434\ttotal: 1.95s\tremaining: 740ms\n",
      "725:\tlearn: 0.3192991\ttotal: 1.95s\tremaining: 737ms\n"
     ]
    },
    {
     "name": "stdout",
     "output_type": "stream",
     "text": [
      "726:\tlearn: 0.3192118\ttotal: 1.96s\tremaining: 735ms\n",
      "727:\tlearn: 0.3190975\ttotal: 1.96s\tremaining: 732ms\n",
      "728:\tlearn: 0.3190050\ttotal: 1.96s\tremaining: 729ms\n",
      "729:\tlearn: 0.3189132\ttotal: 1.96s\tremaining: 727ms\n",
      "730:\tlearn: 0.3187662\ttotal: 1.97s\tremaining: 724ms\n",
      "731:\tlearn: 0.3186179\ttotal: 1.97s\tremaining: 721ms\n",
      "732:\tlearn: 0.3185358\ttotal: 1.97s\tremaining: 719ms\n",
      "733:\tlearn: 0.3183957\ttotal: 1.98s\tremaining: 716ms\n",
      "734:\tlearn: 0.3182980\ttotal: 1.98s\tremaining: 713ms\n",
      "735:\tlearn: 0.3181999\ttotal: 1.98s\tremaining: 710ms\n",
      "736:\tlearn: 0.3181293\ttotal: 1.98s\tremaining: 708ms\n",
      "737:\tlearn: 0.3180373\ttotal: 1.99s\tremaining: 705ms\n",
      "738:\tlearn: 0.3179262\ttotal: 1.99s\tremaining: 702ms\n",
      "739:\tlearn: 0.3178067\ttotal: 1.99s\tremaining: 699ms\n",
      "740:\tlearn: 0.3177142\ttotal: 1.99s\tremaining: 697ms\n",
      "741:\tlearn: 0.3176377\ttotal: 2s\tremaining: 694ms\n",
      "742:\tlearn: 0.3175222\ttotal: 2s\tremaining: 691ms\n",
      "743:\tlearn: 0.3174132\ttotal: 2s\tremaining: 688ms\n",
      "744:\tlearn: 0.3173450\ttotal: 2s\tremaining: 686ms\n",
      "745:\tlearn: 0.3172524\ttotal: 2s\tremaining: 683ms\n",
      "746:\tlearn: 0.3171952\ttotal: 2.01s\tremaining: 680ms\n",
      "747:\tlearn: 0.3171029\ttotal: 2.01s\tremaining: 677ms\n",
      "748:\tlearn: 0.3169989\ttotal: 2.01s\tremaining: 674ms\n",
      "749:\tlearn: 0.3168583\ttotal: 2.01s\tremaining: 672ms\n",
      "750:\tlearn: 0.3167500\ttotal: 2.02s\tremaining: 669ms\n",
      "751:\tlearn: 0.3166943\ttotal: 2.02s\tremaining: 666ms\n",
      "752:\tlearn: 0.3166049\ttotal: 2.02s\tremaining: 663ms\n",
      "753:\tlearn: 0.3165082\ttotal: 2.02s\tremaining: 661ms\n",
      "754:\tlearn: 0.3164150\ttotal: 2.03s\tremaining: 658ms\n",
      "755:\tlearn: 0.3163505\ttotal: 2.03s\tremaining: 655ms\n",
      "756:\tlearn: 0.3163121\ttotal: 2.03s\tremaining: 652ms\n",
      "757:\tlearn: 0.3162334\ttotal: 2.03s\tremaining: 650ms\n",
      "758:\tlearn: 0.3161245\ttotal: 2.04s\tremaining: 647ms\n",
      "759:\tlearn: 0.3160485\ttotal: 2.04s\tremaining: 644ms\n",
      "760:\tlearn: 0.3159776\ttotal: 2.04s\tremaining: 641ms\n",
      "761:\tlearn: 0.3158972\ttotal: 2.04s\tremaining: 639ms\n",
      "762:\tlearn: 0.3158405\ttotal: 2.05s\tremaining: 636ms\n",
      "763:\tlearn: 0.3157870\ttotal: 2.05s\tremaining: 633ms\n",
      "764:\tlearn: 0.3156981\ttotal: 2.05s\tremaining: 630ms\n",
      "765:\tlearn: 0.3156088\ttotal: 2.05s\tremaining: 628ms\n",
      "766:\tlearn: 0.3155167\ttotal: 2.06s\tremaining: 625ms\n",
      "767:\tlearn: 0.3154442\ttotal: 2.06s\tremaining: 622ms\n",
      "768:\tlearn: 0.3153050\ttotal: 2.06s\tremaining: 619ms\n",
      "769:\tlearn: 0.3152265\ttotal: 2.06s\tremaining: 616ms\n",
      "770:\tlearn: 0.3151641\ttotal: 2.06s\tremaining: 614ms\n",
      "771:\tlearn: 0.3150512\ttotal: 2.07s\tremaining: 611ms\n",
      "772:\tlearn: 0.3149795\ttotal: 2.07s\tremaining: 608ms\n"
     ]
    },
    {
     "name": "stdout",
     "output_type": "stream",
     "text": [
      "773:\tlearn: 0.3148633\ttotal: 2.07s\tremaining: 605ms\n",
      "774:\tlearn: 0.3147885\ttotal: 2.08s\tremaining: 603ms\n",
      "775:\tlearn: 0.3147258\ttotal: 2.08s\tremaining: 600ms\n",
      "776:\tlearn: 0.3146367\ttotal: 2.08s\tremaining: 597ms\n",
      "777:\tlearn: 0.3145787\ttotal: 2.08s\tremaining: 595ms\n",
      "778:\tlearn: 0.3144931\ttotal: 2.09s\tremaining: 592ms\n",
      "779:\tlearn: 0.3142727\ttotal: 2.09s\tremaining: 589ms\n",
      "780:\tlearn: 0.3141606\ttotal: 2.09s\tremaining: 587ms\n",
      "781:\tlearn: 0.3140359\ttotal: 2.09s\tremaining: 584ms\n",
      "782:\tlearn: 0.3139128\ttotal: 2.1s\tremaining: 581ms\n",
      "783:\tlearn: 0.3137773\ttotal: 2.1s\tremaining: 578ms\n",
      "784:\tlearn: 0.3136764\ttotal: 2.1s\tremaining: 576ms\n",
      "785:\tlearn: 0.3135825\ttotal: 2.1s\tremaining: 573ms\n",
      "786:\tlearn: 0.3135040\ttotal: 2.11s\tremaining: 570ms\n",
      "787:\tlearn: 0.3134301\ttotal: 2.11s\tremaining: 568ms\n",
      "788:\tlearn: 0.3133546\ttotal: 2.11s\tremaining: 565ms\n",
      "789:\tlearn: 0.3132569\ttotal: 2.11s\tremaining: 562ms\n",
      "790:\tlearn: 0.3131404\ttotal: 2.12s\tremaining: 559ms\n",
      "791:\tlearn: 0.3130775\ttotal: 2.12s\tremaining: 557ms\n",
      "792:\tlearn: 0.3130003\ttotal: 2.12s\tremaining: 554ms\n",
      "793:\tlearn: 0.3129224\ttotal: 2.12s\tremaining: 551ms\n",
      "794:\tlearn: 0.3128480\ttotal: 2.13s\tremaining: 548ms\n",
      "795:\tlearn: 0.3127511\ttotal: 2.13s\tremaining: 546ms\n",
      "796:\tlearn: 0.3126218\ttotal: 2.13s\tremaining: 543ms\n",
      "797:\tlearn: 0.3125322\ttotal: 2.13s\tremaining: 540ms\n",
      "798:\tlearn: 0.3124447\ttotal: 2.14s\tremaining: 537ms\n",
      "799:\tlearn: 0.3123599\ttotal: 2.14s\tremaining: 535ms\n",
      "800:\tlearn: 0.3122540\ttotal: 2.14s\tremaining: 532ms\n",
      "801:\tlearn: 0.3121548\ttotal: 2.14s\tremaining: 529ms\n",
      "802:\tlearn: 0.3120887\ttotal: 2.15s\tremaining: 526ms\n",
      "803:\tlearn: 0.3120083\ttotal: 2.15s\tremaining: 524ms\n"
     ]
    },
    {
     "name": "stdout",
     "output_type": "stream",
     "text": [
      "804:\tlearn: 0.3119713\ttotal: 2.15s\tremaining: 521ms\n",
      "805:\tlearn: 0.3118695\ttotal: 2.15s\tremaining: 518ms\n",
      "806:\tlearn: 0.3117980\ttotal: 2.15s\tremaining: 516ms\n",
      "807:\tlearn: 0.3117368\ttotal: 2.16s\tremaining: 513ms\n",
      "808:\tlearn: 0.3116701\ttotal: 2.16s\tremaining: 510ms\n",
      "809:\tlearn: 0.3116172\ttotal: 2.16s\tremaining: 507ms\n",
      "810:\tlearn: 0.3115580\ttotal: 2.17s\tremaining: 505ms\n",
      "811:\tlearn: 0.3114894\ttotal: 2.17s\tremaining: 502ms\n",
      "812:\tlearn: 0.3114237\ttotal: 2.17s\tremaining: 499ms\n",
      "813:\tlearn: 0.3113280\ttotal: 2.17s\tremaining: 497ms\n",
      "814:\tlearn: 0.3112435\ttotal: 2.18s\tremaining: 494ms\n",
      "815:\tlearn: 0.3111044\ttotal: 2.18s\tremaining: 491ms\n",
      "816:\tlearn: 0.3109898\ttotal: 2.18s\tremaining: 488ms\n",
      "817:\tlearn: 0.3109057\ttotal: 2.18s\tremaining: 486ms\n",
      "818:\tlearn: 0.3107846\ttotal: 2.19s\tremaining: 483ms\n",
      "819:\tlearn: 0.3107427\ttotal: 2.19s\tremaining: 480ms\n",
      "820:\tlearn: 0.3106841\ttotal: 2.19s\tremaining: 478ms\n",
      "821:\tlearn: 0.3105907\ttotal: 2.19s\tremaining: 475ms\n",
      "822:\tlearn: 0.3104119\ttotal: 2.19s\tremaining: 472ms\n",
      "823:\tlearn: 0.3103348\ttotal: 2.2s\tremaining: 469ms\n",
      "824:\tlearn: 0.3102224\ttotal: 2.2s\tremaining: 467ms\n",
      "825:\tlearn: 0.3101015\ttotal: 2.2s\tremaining: 464ms\n",
      "826:\tlearn: 0.3100192\ttotal: 2.2s\tremaining: 461ms\n",
      "827:\tlearn: 0.3099260\ttotal: 2.21s\tremaining: 458ms\n",
      "828:\tlearn: 0.3098272\ttotal: 2.21s\tremaining: 456ms\n",
      "829:\tlearn: 0.3096340\ttotal: 2.21s\tremaining: 453ms\n",
      "830:\tlearn: 0.3095514\ttotal: 2.21s\tremaining: 450ms\n",
      "831:\tlearn: 0.3094692\ttotal: 2.22s\tremaining: 448ms\n",
      "832:\tlearn: 0.3093720\ttotal: 2.22s\tremaining: 445ms\n",
      "833:\tlearn: 0.3092954\ttotal: 2.22s\tremaining: 442ms\n",
      "834:\tlearn: 0.3092505\ttotal: 2.22s\tremaining: 439ms\n",
      "835:\tlearn: 0.3091839\ttotal: 2.23s\tremaining: 437ms\n",
      "836:\tlearn: 0.3091200\ttotal: 2.23s\tremaining: 434ms\n",
      "837:\tlearn: 0.3090619\ttotal: 2.23s\tremaining: 431ms\n",
      "838:\tlearn: 0.3090120\ttotal: 2.23s\tremaining: 429ms\n",
      "839:\tlearn: 0.3089159\ttotal: 2.24s\tremaining: 426ms\n",
      "840:\tlearn: 0.3088473\ttotal: 2.24s\tremaining: 423ms\n",
      "841:\tlearn: 0.3087269\ttotal: 2.24s\tremaining: 421ms\n",
      "842:\tlearn: 0.3086171\ttotal: 2.24s\tremaining: 418ms\n",
      "843:\tlearn: 0.3085006\ttotal: 2.25s\tremaining: 415ms\n",
      "844:\tlearn: 0.3084241\ttotal: 2.25s\tremaining: 412ms\n",
      "845:\tlearn: 0.3083546\ttotal: 2.25s\tremaining: 410ms\n",
      "846:\tlearn: 0.3082290\ttotal: 2.25s\tremaining: 407ms\n",
      "847:\tlearn: 0.3080865\ttotal: 2.26s\tremaining: 404ms\n",
      "848:\tlearn: 0.3079766\ttotal: 2.26s\tremaining: 402ms\n",
      "849:\tlearn: 0.3079127\ttotal: 2.26s\tremaining: 399ms\n",
      "850:\tlearn: 0.3077376\ttotal: 2.26s\tremaining: 396ms\n",
      "851:\tlearn: 0.3076731\ttotal: 2.27s\tremaining: 394ms\n"
     ]
    },
    {
     "name": "stdout",
     "output_type": "stream",
     "text": [
      "852:\tlearn: 0.3075914\ttotal: 2.27s\tremaining: 391ms\n",
      "853:\tlearn: 0.3075434\ttotal: 2.27s\tremaining: 388ms\n",
      "854:\tlearn: 0.3074463\ttotal: 2.27s\tremaining: 386ms\n",
      "855:\tlearn: 0.3073808\ttotal: 2.27s\tremaining: 383ms\n",
      "856:\tlearn: 0.3072703\ttotal: 2.28s\tremaining: 380ms\n",
      "857:\tlearn: 0.3072116\ttotal: 2.28s\tremaining: 377ms\n",
      "858:\tlearn: 0.3071037\ttotal: 2.28s\tremaining: 375ms\n",
      "859:\tlearn: 0.3070196\ttotal: 2.29s\tremaining: 372ms\n",
      "860:\tlearn: 0.3069789\ttotal: 2.29s\tremaining: 369ms\n",
      "861:\tlearn: 0.3069141\ttotal: 2.29s\tremaining: 367ms\n",
      "862:\tlearn: 0.3068123\ttotal: 2.29s\tremaining: 364ms\n",
      "863:\tlearn: 0.3066396\ttotal: 2.29s\tremaining: 361ms\n",
      "864:\tlearn: 0.3065907\ttotal: 2.3s\tremaining: 359ms\n",
      "865:\tlearn: 0.3064986\ttotal: 2.3s\tremaining: 356ms\n",
      "866:\tlearn: 0.3064098\ttotal: 2.3s\tremaining: 353ms\n",
      "867:\tlearn: 0.3063168\ttotal: 2.3s\tremaining: 350ms\n",
      "868:\tlearn: 0.3061818\ttotal: 2.31s\tremaining: 348ms\n",
      "869:\tlearn: 0.3060626\ttotal: 2.31s\tremaining: 345ms\n",
      "870:\tlearn: 0.3059335\ttotal: 2.31s\tremaining: 342ms\n",
      "871:\tlearn: 0.3057894\ttotal: 2.31s\tremaining: 340ms\n",
      "872:\tlearn: 0.3056692\ttotal: 2.32s\tremaining: 337ms\n",
      "873:\tlearn: 0.3056168\ttotal: 2.32s\tremaining: 334ms\n",
      "874:\tlearn: 0.3055419\ttotal: 2.32s\tremaining: 332ms\n",
      "875:\tlearn: 0.3054657\ttotal: 2.32s\tremaining: 329ms\n",
      "876:\tlearn: 0.3053914\ttotal: 2.33s\tremaining: 326ms\n",
      "877:\tlearn: 0.3052437\ttotal: 2.33s\tremaining: 324ms\n",
      "878:\tlearn: 0.3051704\ttotal: 2.33s\tremaining: 321ms\n",
      "879:\tlearn: 0.3050615\ttotal: 2.33s\tremaining: 318ms\n",
      "880:\tlearn: 0.3049894\ttotal: 2.34s\tremaining: 316ms\n",
      "881:\tlearn: 0.3049226\ttotal: 2.34s\tremaining: 313ms\n",
      "882:\tlearn: 0.3047617\ttotal: 2.34s\tremaining: 310ms\n",
      "883:\tlearn: 0.3046742\ttotal: 2.34s\tremaining: 308ms\n"
     ]
    },
    {
     "name": "stdout",
     "output_type": "stream",
     "text": [
      "884:\tlearn: 0.3045731\ttotal: 2.35s\tremaining: 305ms\n",
      "885:\tlearn: 0.3045188\ttotal: 2.35s\tremaining: 302ms\n",
      "886:\tlearn: 0.3044413\ttotal: 2.35s\tremaining: 300ms\n",
      "887:\tlearn: 0.3042786\ttotal: 2.35s\tremaining: 297ms\n",
      "888:\tlearn: 0.3041465\ttotal: 2.36s\tremaining: 294ms\n",
      "889:\tlearn: 0.3040772\ttotal: 2.36s\tremaining: 291ms\n",
      "890:\tlearn: 0.3040078\ttotal: 2.36s\tremaining: 289ms\n",
      "891:\tlearn: 0.3039167\ttotal: 2.36s\tremaining: 286ms\n",
      "892:\tlearn: 0.3038185\ttotal: 2.37s\tremaining: 283ms\n",
      "893:\tlearn: 0.3037173\ttotal: 2.37s\tremaining: 281ms\n",
      "894:\tlearn: 0.3036485\ttotal: 2.37s\tremaining: 278ms\n",
      "895:\tlearn: 0.3035345\ttotal: 2.37s\tremaining: 275ms\n",
      "896:\tlearn: 0.3034831\ttotal: 2.37s\tremaining: 273ms\n",
      "897:\tlearn: 0.3033988\ttotal: 2.38s\tremaining: 270ms\n",
      "898:\tlearn: 0.3033010\ttotal: 2.38s\tremaining: 267ms\n",
      "899:\tlearn: 0.3032255\ttotal: 2.38s\tremaining: 265ms\n",
      "900:\tlearn: 0.3031667\ttotal: 2.38s\tremaining: 262ms\n",
      "901:\tlearn: 0.3030762\ttotal: 2.39s\tremaining: 259ms\n",
      "902:\tlearn: 0.3030039\ttotal: 2.39s\tremaining: 257ms\n",
      "903:\tlearn: 0.3029300\ttotal: 2.39s\tremaining: 254ms\n",
      "904:\tlearn: 0.3028378\ttotal: 2.39s\tremaining: 251ms\n",
      "905:\tlearn: 0.3027750\ttotal: 2.4s\tremaining: 249ms\n",
      "906:\tlearn: 0.3027089\ttotal: 2.4s\tremaining: 246ms\n",
      "907:\tlearn: 0.3026240\ttotal: 2.4s\tremaining: 243ms\n",
      "908:\tlearn: 0.3025039\ttotal: 2.4s\tremaining: 241ms\n",
      "909:\tlearn: 0.3024634\ttotal: 2.41s\tremaining: 238ms\n",
      "910:\tlearn: 0.3023854\ttotal: 2.41s\tremaining: 235ms\n",
      "911:\tlearn: 0.3023248\ttotal: 2.41s\tremaining: 233ms\n",
      "912:\tlearn: 0.3022781\ttotal: 2.42s\tremaining: 230ms\n",
      "913:\tlearn: 0.3021977\ttotal: 2.42s\tremaining: 227ms\n",
      "914:\tlearn: 0.3021430\ttotal: 2.42s\tremaining: 225ms\n",
      "915:\tlearn: 0.3020992\ttotal: 2.42s\tremaining: 222ms\n",
      "916:\tlearn: 0.3020508\ttotal: 2.42s\tremaining: 220ms\n",
      "917:\tlearn: 0.3019692\ttotal: 2.43s\tremaining: 217ms\n",
      "918:\tlearn: 0.3019050\ttotal: 2.43s\tremaining: 214ms\n",
      "919:\tlearn: 0.3018006\ttotal: 2.43s\tremaining: 212ms\n",
      "920:\tlearn: 0.3017121\ttotal: 2.44s\tremaining: 209ms\n",
      "921:\tlearn: 0.3016417\ttotal: 2.44s\tremaining: 206ms\n",
      "922:\tlearn: 0.3015796\ttotal: 2.44s\tremaining: 204ms\n",
      "923:\tlearn: 0.3015036\ttotal: 2.44s\tremaining: 201ms\n",
      "924:\tlearn: 0.3014395\ttotal: 2.45s\tremaining: 198ms\n",
      "925:\tlearn: 0.3012601\ttotal: 2.45s\tremaining: 196ms\n",
      "926:\tlearn: 0.3011750\ttotal: 2.45s\tremaining: 193ms\n",
      "927:\tlearn: 0.3011029\ttotal: 2.45s\tremaining: 190ms\n",
      "928:\tlearn: 0.3009770\ttotal: 2.46s\tremaining: 188ms\n",
      "929:\tlearn: 0.3009015\ttotal: 2.46s\tremaining: 185ms\n",
      "930:\tlearn: 0.3008570\ttotal: 2.46s\tremaining: 182ms\n"
     ]
    },
    {
     "name": "stdout",
     "output_type": "stream",
     "text": [
      "931:\tlearn: 0.3007748\ttotal: 2.46s\tremaining: 180ms\n",
      "932:\tlearn: 0.3006858\ttotal: 2.47s\tremaining: 177ms\n",
      "933:\tlearn: 0.3006236\ttotal: 2.47s\tremaining: 174ms\n",
      "934:\tlearn: 0.3005740\ttotal: 2.47s\tremaining: 172ms\n",
      "935:\tlearn: 0.3005040\ttotal: 2.47s\tremaining: 169ms\n",
      "936:\tlearn: 0.3004674\ttotal: 2.48s\tremaining: 167ms\n",
      "937:\tlearn: 0.3004089\ttotal: 2.48s\tremaining: 164ms\n",
      "938:\tlearn: 0.3003347\ttotal: 2.48s\tremaining: 161ms\n",
      "939:\tlearn: 0.3002651\ttotal: 2.48s\tremaining: 159ms\n",
      "940:\tlearn: 0.3000960\ttotal: 2.48s\tremaining: 156ms\n",
      "941:\tlearn: 0.3000123\ttotal: 2.49s\tremaining: 153ms\n",
      "942:\tlearn: 0.2999468\ttotal: 2.49s\tremaining: 151ms\n",
      "943:\tlearn: 0.2998350\ttotal: 2.49s\tremaining: 148ms\n",
      "944:\tlearn: 0.2997671\ttotal: 2.5s\tremaining: 145ms\n",
      "945:\tlearn: 0.2996087\ttotal: 2.5s\tremaining: 143ms\n",
      "946:\tlearn: 0.2994769\ttotal: 2.5s\tremaining: 140ms\n",
      "947:\tlearn: 0.2994147\ttotal: 2.5s\tremaining: 137ms\n",
      "948:\tlearn: 0.2993745\ttotal: 2.5s\tremaining: 135ms\n",
      "949:\tlearn: 0.2992357\ttotal: 2.51s\tremaining: 132ms\n",
      "950:\tlearn: 0.2991115\ttotal: 2.51s\tremaining: 129ms\n",
      "951:\tlearn: 0.2990019\ttotal: 2.51s\tremaining: 127ms\n",
      "952:\tlearn: 0.2989108\ttotal: 2.52s\tremaining: 124ms\n",
      "953:\tlearn: 0.2988341\ttotal: 2.52s\tremaining: 121ms\n",
      "954:\tlearn: 0.2987531\ttotal: 2.52s\tremaining: 119ms\n",
      "955:\tlearn: 0.2986914\ttotal: 2.52s\tremaining: 116ms\n",
      "956:\tlearn: 0.2986399\ttotal: 2.52s\tremaining: 113ms\n",
      "957:\tlearn: 0.2985891\ttotal: 2.53s\tremaining: 111ms\n",
      "958:\tlearn: 0.2985426\ttotal: 2.53s\tremaining: 108ms\n",
      "959:\tlearn: 0.2984743\ttotal: 2.53s\tremaining: 106ms\n",
      "960:\tlearn: 0.2984018\ttotal: 2.53s\tremaining: 103ms\n",
      "961:\tlearn: 0.2983303\ttotal: 2.54s\tremaining: 100ms\n"
     ]
    },
    {
     "name": "stdout",
     "output_type": "stream",
     "text": [
      "962:\tlearn: 0.2982851\ttotal: 2.54s\tremaining: 97.6ms\n",
      "963:\tlearn: 0.2982137\ttotal: 2.54s\tremaining: 94.9ms\n",
      "964:\tlearn: 0.2981078\ttotal: 2.54s\tremaining: 92.3ms\n",
      "965:\tlearn: 0.2980166\ttotal: 2.55s\tremaining: 89.7ms\n",
      "966:\tlearn: 0.2979674\ttotal: 2.55s\tremaining: 87ms\n",
      "967:\tlearn: 0.2978597\ttotal: 2.55s\tremaining: 84.4ms\n",
      "968:\tlearn: 0.2978072\ttotal: 2.56s\tremaining: 81.8ms\n",
      "969:\tlearn: 0.2977602\ttotal: 2.56s\tremaining: 79.1ms\n",
      "970:\tlearn: 0.2976470\ttotal: 2.56s\tremaining: 76.5ms\n",
      "971:\tlearn: 0.2975522\ttotal: 2.56s\tremaining: 73.8ms\n",
      "972:\tlearn: 0.2974693\ttotal: 2.56s\tremaining: 71.2ms\n",
      "973:\tlearn: 0.2974027\ttotal: 2.57s\tremaining: 68.5ms\n",
      "974:\tlearn: 0.2973554\ttotal: 2.57s\tremaining: 65.9ms\n",
      "975:\tlearn: 0.2973029\ttotal: 2.57s\tremaining: 63.3ms\n",
      "976:\tlearn: 0.2972274\ttotal: 2.58s\tremaining: 60.6ms\n",
      "977:\tlearn: 0.2971557\ttotal: 2.58s\tremaining: 58ms\n",
      "978:\tlearn: 0.2970521\ttotal: 2.58s\tremaining: 55.3ms\n",
      "979:\tlearn: 0.2970046\ttotal: 2.58s\tremaining: 52.7ms\n",
      "980:\tlearn: 0.2969330\ttotal: 2.58s\tremaining: 50.1ms\n",
      "981:\tlearn: 0.2968508\ttotal: 2.59s\tremaining: 47.4ms\n",
      "982:\tlearn: 0.2967547\ttotal: 2.59s\tremaining: 44.8ms\n",
      "983:\tlearn: 0.2966434\ttotal: 2.59s\tremaining: 42.1ms\n",
      "984:\tlearn: 0.2965912\ttotal: 2.59s\tremaining: 39.5ms\n",
      "985:\tlearn: 0.2965480\ttotal: 2.6s\tremaining: 36.9ms\n",
      "986:\tlearn: 0.2964359\ttotal: 2.6s\tremaining: 34.2ms\n",
      "987:\tlearn: 0.2963738\ttotal: 2.6s\tremaining: 31.6ms\n",
      "988:\tlearn: 0.2963124\ttotal: 2.6s\tremaining: 29ms\n",
      "989:\tlearn: 0.2962170\ttotal: 2.6s\tremaining: 26.3ms\n",
      "990:\tlearn: 0.2961215\ttotal: 2.61s\tremaining: 23.7ms\n",
      "991:\tlearn: 0.2960228\ttotal: 2.61s\tremaining: 21.1ms\n",
      "992:\tlearn: 0.2959358\ttotal: 2.61s\tremaining: 18.4ms\n",
      "993:\tlearn: 0.2958489\ttotal: 2.62s\tremaining: 15.8ms\n",
      "994:\tlearn: 0.2957845\ttotal: 2.62s\tremaining: 13.2ms\n",
      "995:\tlearn: 0.2957450\ttotal: 2.62s\tremaining: 10.5ms\n",
      "996:\tlearn: 0.2956842\ttotal: 2.62s\tremaining: 7.89ms\n",
      "997:\tlearn: 0.2956139\ttotal: 2.63s\tremaining: 5.26ms\n",
      "998:\tlearn: 0.2955437\ttotal: 2.63s\tremaining: 2.63ms\n",
      "999:\tlearn: 0.2954968\ttotal: 2.63s\tremaining: 0us\n"
     ]
    },
    {
     "name": "stdout",
     "output_type": "stream",
     "text": [
      "Mean Squared error 0.14414536173717665\n"
     ]
    },
    {
     "data": {
      "application/scrapbook.scrap.json+json": {
       "data": 0.14414536173717665,
       "encoder": "json",
       "name": "Catboost MSE",
       "version": 1
      }
     },
     "metadata": {
      "scrapbook": {
       "data": true,
       "display": false,
       "name": "Catboost MSE"
      }
     },
     "output_type": "display_data"
    }
   ],
   "source": [
    "mse_cb = baselineModels.catboost(X_train,y_train,X_test,y_test)\n",
    "#Store MSE Value \n",
    "sb.glue(\"Catboost MSE\",mse_cb)"
   ]
  },
  {
   "cell_type": "markdown",
   "id": "449df937",
   "metadata": {
    "papermill": {
     "duration": 0.01029,
     "end_time": "2021-12-24T12:49:43.001234",
     "exception": false,
     "start_time": "2021-12-24T12:49:42.990944",
     "status": "completed"
    },
    "tags": []
   },
   "source": [
    "## Vanilla Neural Network "
   ]
  },
  {
   "cell_type": "code",
   "execution_count": 8,
   "id": "e89635d2",
   "metadata": {
    "execution": {
     "iopub.execute_input": "2021-12-24T12:49:43.025204Z",
     "iopub.status.busy": "2021-12-24T12:49:43.024759Z",
     "iopub.status.idle": "2021-12-24T12:54:36.889628Z",
     "shell.execute_reply": "2021-12-24T12:54:36.889337Z"
    },
    "papermill": {
     "duration": 293.878388,
     "end_time": "2021-12-24T12:54:36.889748",
     "exception": false,
     "start_time": "2021-12-24T12:49:43.011360",
     "status": "completed"
    },
    "tags": []
   },
   "outputs": [
    {
     "data": {
      "application/scrapbook.scrap.json+json": {
       "data": 0.9712125735452464,
       "encoder": "json",
       "name": "Vanilla NN MSE",
       "version": 1
      }
     },
     "metadata": {
      "scrapbook": {
       "data": true,
       "display": false,
       "name": "Vanilla NN MSE"
      }
     },
     "output_type": "display_data"
    },
    {
     "name": "stdout",
     "output_type": "stream",
     "text": [
      "Mean Squared error 0.9712125735452464\n"
     ]
    }
   ],
   "source": [
    "# Parameters \n",
    "n_epochs = 1000\n",
    "batch_size = 1000\n",
    "device = torch.device('cuda' if torch.cuda.is_available() else 'cpu')\n",
    "baselineModels.vanillaNeuralNetwork(train_data,test_data,batch_size,n_features,n_target,n_epochs)"
   ]
  }
 ],
 "metadata": {
  "interpreter": {
   "hash": "10498c76ddd8160350534c6544a2b2fb65f2138dbc70420f7c81a3268f830f23"
  },
  "kernelspec": {
   "display_name": "Python 3 (ipykernel)",
   "language": "python",
   "name": "python3"
  },
  "language_info": {
   "codemirror_mode": {
    "name": "ipython",
    "version": 3
   },
   "file_extension": ".py",
   "mimetype": "text/x-python",
   "name": "python",
   "nbconvert_exporter": "python",
   "pygments_lexer": "ipython3",
   "version": "3.8.11"
  },
  "papermill": {
   "default_parameters": {},
   "duration": 302.423685,
   "end_time": "2021-12-24T12:54:37.210482",
   "environment_variables": {},
   "exception": null,
   "input_path": "BaselineModels.ipynb",
   "output_path": "./BaseLine_Model_Output/baselineModels_output_1.ipynb",
   "parameters": {},
   "start_time": "2021-12-24T12:49:34.786797",
   "version": "2.3.3"
  }
 },
 "nbformat": 4,
 "nbformat_minor": 5
}