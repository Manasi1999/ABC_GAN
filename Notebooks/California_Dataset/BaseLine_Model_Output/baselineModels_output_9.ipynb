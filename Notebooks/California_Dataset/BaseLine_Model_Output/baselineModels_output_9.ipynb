{
 "cells": [
  {
   "cell_type": "markdown",
   "id": "1c675963",
   "metadata": {
    "papermill": {
     "duration": 0.021495,
     "end_time": "2021-12-24T13:43:16.278018",
     "exception": false,
     "start_time": "2021-12-24T13:43:16.256523",
     "status": "completed"
    },
    "tags": []
   },
   "source": [
    "## Import Libraries "
   ]
  },
  {
   "cell_type": "code",
   "execution_count": 1,
   "id": "564aee03",
   "metadata": {
    "execution": {
     "iopub.execute_input": "2021-12-24T13:43:16.313451Z",
     "iopub.status.busy": "2021-12-24T13:43:16.312748Z",
     "iopub.status.idle": "2021-12-24T13:43:16.315875Z",
     "shell.execute_reply": "2021-12-24T13:43:16.316304Z"
    },
    "papermill": {
     "duration": 0.023621,
     "end_time": "2021-12-24T13:43:16.316580",
     "exception": false,
     "start_time": "2021-12-24T13:43:16.292959",
     "status": "completed"
    },
    "tags": []
   },
   "outputs": [],
   "source": [
    "import warnings\n",
    "import sys\n",
    "sys.path.insert(0, '../../src')\n",
    "warnings.filterwarnings('ignore')"
   ]
  },
  {
   "cell_type": "code",
   "execution_count": 2,
   "id": "ad7d622d",
   "metadata": {
    "execution": {
     "iopub.execute_input": "2021-12-24T13:43:16.332862Z",
     "iopub.status.busy": "2021-12-24T13:43:16.332319Z",
     "iopub.status.idle": "2021-12-24T13:43:18.281924Z",
     "shell.execute_reply": "2021-12-24T13:43:18.282184Z"
    },
    "papermill": {
     "duration": 1.958706,
     "end_time": "2021-12-24T13:43:18.282312",
     "exception": false,
     "start_time": "2021-12-24T13:43:16.323606",
     "status": "completed"
    },
    "tags": []
   },
   "outputs": [],
   "source": [
    "import baselineModels\n",
    "import scrapbook as sb \n",
    "import torch \n",
    "import statsModel\n",
    "import californiaDataset\n",
    "import dataset \n",
    "from torch.utils.data import random_split \n",
    "from sklearn.model_selection import train_test_split"
   ]
  },
  {
   "cell_type": "markdown",
   "id": "4cd8014b",
   "metadata": {
    "papermill": {
     "duration": 0.00353,
     "end_time": "2021-12-24T13:43:18.289621",
     "exception": false,
     "start_time": "2021-12-24T13:43:18.286091",
     "status": "completed"
    },
    "tags": []
   },
   "source": [
    "## Import Dataset \n"
   ]
  },
  {
   "cell_type": "code",
   "execution_count": 3,
   "id": "cd0e9f6d",
   "metadata": {
    "execution": {
     "iopub.execute_input": "2021-12-24T13:43:18.299002Z",
     "iopub.status.busy": "2021-12-24T13:43:18.298622Z",
     "iopub.status.idle": "2021-12-24T13:43:18.313583Z",
     "shell.execute_reply": "2021-12-24T13:43:18.313838Z"
    },
    "papermill": {
     "duration": 0.020902,
     "end_time": "2021-12-24T13:43:18.313964",
     "exception": false,
     "start_time": "2021-12-24T13:43:18.293062",
     "status": "completed"
    },
    "tags": []
   },
   "outputs": [
    {
     "name": "stdout",
     "output_type": "stream",
     "text": [
      "       X1    X2        X3        X4      X5        X6     X7      X8      Y\n",
      "0  8.3252  41.0  6.984127  1.023810   322.0  2.555556  37.88 -122.23  4.526\n",
      "1  8.3014  21.0  6.238137  0.971880  2401.0  2.109842  37.86 -122.22  3.585\n",
      "2  7.2574  52.0  8.288136  1.073446   496.0  2.802260  37.85 -122.24  3.521\n",
      "3  5.6431  52.0  5.817352  1.073059   558.0  2.547945  37.85 -122.25  3.413\n",
      "4  3.8462  52.0  6.281853  1.081081   565.0  2.181467  37.85 -122.25  3.422\n"
     ]
    }
   ],
   "source": [
    "X,Y = californiaDataset.california_data()\n",
    "n_features = 8 \n",
    "n_samples = 20640\n",
    "n_target = 1 "
   ]
  },
  {
   "cell_type": "code",
   "execution_count": 4,
   "id": "1c1937c8",
   "metadata": {
    "execution": {
     "iopub.execute_input": "2021-12-24T13:43:18.324438Z",
     "iopub.status.busy": "2021-12-24T13:43:18.324049Z",
     "iopub.status.idle": "2021-12-24T13:43:18.327876Z",
     "shell.execute_reply": "2021-12-24T13:43:18.328122Z"
    },
    "papermill": {
     "duration": 0.010376,
     "end_time": "2021-12-24T13:43:18.328238",
     "exception": false,
     "start_time": "2021-12-24T13:43:18.317862",
     "status": "completed"
    },
    "tags": []
   },
   "outputs": [],
   "source": [
    "# Train test split for dataset \n",
    "real_dataset = dataset.CustomDataset(X,Y)\n",
    "train_size = round(0.8 * n_samples)\n",
    "test_size = n_samples - train_size\n",
    "train_data, test_data = random_split(real_dataset,[train_size,test_size])\n",
    "X_train, X_test, y_train, y_test = train_test_split(X, Y, test_size=0.2)"
   ]
  },
  {
   "cell_type": "markdown",
   "id": "a7438d07",
   "metadata": {
    "papermill": {
     "duration": 0.003715,
     "end_time": "2021-12-24T13:43:18.335851",
     "exception": false,
     "start_time": "2021-12-24T13:43:18.332136",
     "status": "completed"
    },
    "tags": []
   },
   "source": [
    "## Stats Model "
   ]
  },
  {
   "cell_type": "code",
   "execution_count": 5,
   "id": "4b4557be",
   "metadata": {
    "execution": {
     "iopub.execute_input": "2021-12-24T13:43:18.345924Z",
     "iopub.status.busy": "2021-12-24T13:43:18.345545Z",
     "iopub.status.idle": "2021-12-24T13:43:18.452919Z",
     "shell.execute_reply": "2021-12-24T13:43:18.453210Z"
    },
    "papermill": {
     "duration": 0.113821,
     "end_time": "2021-12-24T13:43:18.453336",
     "exception": false,
     "start_time": "2021-12-24T13:43:18.339515",
     "status": "completed"
    },
    "tags": []
   },
   "outputs": [
    {
     "name": "stderr",
     "output_type": "stream",
     "text": [
      "No handles with labels found to put in legend.\n"
     ]
    },
    {
     "name": "stdout",
     "output_type": "stream",
     "text": [
      "                                 OLS Regression Results                                \n",
      "=======================================================================================\n",
      "Dep. Variable:                      Y   R-squared (uncentered):                   0.609\n",
      "Model:                            OLS   Adj. R-squared (uncentered):              0.608\n",
      "Method:                 Least Squares   F-statistic:                              3209.\n",
      "Date:                Fri, 24 Dec 2021   Prob (F-statistic):                        0.00\n",
      "Time:                        19:13:18   Log-Likelihood:                         -15744.\n",
      "No. Observations:               16512   AIC:                                  3.150e+04\n",
      "Df Residuals:                   16504   BIC:                                  3.157e+04\n",
      "Df Model:                           8                                                  \n",
      "Covariance Type:            nonrobust                                                  \n",
      "==============================================================================\n",
      "                 coef    std err          t      P>|t|      [0.025      0.975]\n",
      "------------------------------------------------------------------------------\n",
      "x1             0.7311      0.008     93.273      0.000       0.716       0.746\n",
      "x2             0.1011      0.005     18.581      0.000       0.090       0.112\n",
      "x3            -0.2707      0.015    -18.345      0.000      -0.300      -0.242\n",
      "x4             0.3292      0.014     23.312      0.000       0.302       0.357\n",
      "x5            -0.0029      0.005     -0.555      0.579      -0.013       0.007\n",
      "x6            -0.0311      0.004     -7.068      0.000      -0.040      -0.022\n",
      "x7            -0.7758      0.015    -51.703      0.000      -0.805      -0.746\n",
      "x8            -0.7507      0.015    -51.020      0.000      -0.779      -0.722\n",
      "==============================================================================\n",
      "Omnibus:                     3448.071   Durbin-Watson:                   1.990\n",
      "Prob(Omnibus):                  0.000   Jarque-Bera (JB):             9828.505\n",
      "Skew:                           1.101   Prob(JB):                         0.00\n",
      "Kurtosis:                       6.072   Cond. No.                         6.73\n",
      "==============================================================================\n",
      "\n",
      "Notes:\n",
      "[1] R² is computed without centering (uncentered) since the model does not contain a constant.\n",
      "[2] Standard Errors assume that the covariance matrix of the errors is correctly specified.\n",
      "Parameters:  x1    0.731065\n",
      "x2    0.101080\n",
      "x3   -0.270710\n",
      "x4    0.329183\n",
      "x5   -0.002928\n",
      "x6   -0.031078\n",
      "x7   -0.775755\n",
      "x8   -0.750659\n",
      "dtype: float64\n"
     ]
    },
    {
     "data": {
      "image/png": "[encoded data removed]",
      "text/plain": [
       "<Figure size 432x288 with 1 Axes>"
      ]
     },
     "metadata": {
      "needs_background": "light"
     },
     "output_type": "display_data"
    },
    {
     "name": "stdout",
     "output_type": "stream",
     "text": [
      "Performance Metrics\n",
      "Mean Squared Error: 0.39755631006327735\n",
      "Mean Absolute Error: 0.45642918449705144\n",
      "Manhattan distance: 1884.1396736038282\n",
      "Euclidean distance: 40.51064610619302\n"
     ]
    },
    {
     "data": {
      "application/scrapbook.scrap.json+json": {
       "data": 0.39755631006327735,
       "encoder": "json",
       "name": "Stats Model MSE",
       "version": 1
      }
     },
     "metadata": {
      "scrapbook": {
       "data": true,
       "display": false,
       "name": "Stats Model MSE"
      }
     },
     "output_type": "display_data"
    },
    {
     "data": {
      "application/scrapbook.scrap.json+json": {
       "data": 0.45642918449705144,
       "encoder": "json",
       "name": "Stats Model MAE",
       "version": 1
      }
     },
     "metadata": {
      "scrapbook": {
       "data": true,
       "display": false,
       "name": "Stats Model MAE"
      }
     },
     "output_type": "display_data"
    },
    {
     "data": {
      "application/scrapbook.scrap.json+json": {
       "data": 1884.1396736038282,
       "encoder": "json",
       "name": "Stats Model Manhattan Distance",
       "version": 1
      }
     },
     "metadata": {
      "scrapbook": {
       "data": true,
       "display": false,
       "name": "Stats Model Manhattan Distance"
      }
     },
     "output_type": "display_data"
    },
    {
     "data": {
      "application/scrapbook.scrap.json+json": {
       "data": 40.51064610619302,
       "encoder": "json",
       "name": "Stats Model Euclidean distance",
       "version": 1
      }
     },
     "metadata": {
      "scrapbook": {
       "data": true,
       "display": false,
       "name": "Stats Model Euclidean distance"
      }
     },
     "output_type": "display_data"
    },
    {
     "data": {
      "application/scrapbook.scrap.json+json": {
       "data": [
        0.7310645280294555,
        0.10107955124123677,
        -0.2707102346793091,
        0.32918292649069103,
        -0.002928203609514152,
        -0.031077565462055323,
        -0.775755426035747,
        -0.7506587183813767
       ],
       "encoder": "json",
       "name": "Coefficients",
       "version": 1
      }
     },
     "metadata": {
      "scrapbook": {
       "data": true,
       "display": false,
       "name": "Coefficients"
      }
     },
     "output_type": "display_data"
    }
   ],
   "source": [
    "[coeff,y_pred] = statsModel.statsModel(X,Y)\n",
    "\n",
    "#Store Coefficients \n",
    "sb.glue(\"Coefficients\",coeff)"
   ]
  },
  {
   "cell_type": "markdown",
   "id": "803c04fb",
   "metadata": {
    "papermill": {
     "duration": 0.005741,
     "end_time": "2021-12-24T13:43:18.465201",
     "exception": false,
     "start_time": "2021-12-24T13:43:18.459460",
     "status": "completed"
    },
    "tags": []
   },
   "source": [
    "## Random Forest "
   ]
  },
  {
   "cell_type": "code",
   "execution_count": 6,
   "id": "5ed891f7",
   "metadata": {
    "execution": {
     "iopub.execute_input": "2021-12-24T13:43:18.479098Z",
     "iopub.status.busy": "2021-12-24T13:43:18.478704Z",
     "iopub.status.idle": "2021-12-24T13:43:20.642289Z",
     "shell.execute_reply": "2021-12-24T13:43:20.642585Z"
    },
    "papermill": {
     "duration": 2.171849,
     "end_time": "2021-12-24T13:43:20.642710",
     "exception": false,
     "start_time": "2021-12-24T13:43:18.470861",
     "status": "completed"
    },
    "tags": []
   },
   "outputs": [
    {
     "name": "stdout",
     "output_type": "stream",
     "text": [
      "Mean Squared error 0.3842623752699841\n"
     ]
    },
    {
     "data": {
      "application/scrapbook.scrap.json+json": {
       "data": 0.3842623752699841,
       "encoder": "json",
       "name": "Random Forest MSE",
       "version": 1
      }
     },
     "metadata": {
      "scrapbook": {
       "data": true,
       "display": false,
       "name": "Random Forest MSE"
      }
     },
     "output_type": "display_data"
    }
   ],
   "source": [
    "mse_rf = baselineModels.randomForest(X_train,y_train,X_test,y_test)\n",
    "#Store MSE Value\n",
    "sb.glue(\"Random Forest MSE\",mse_rf)"
   ]
  },
  {
   "cell_type": "markdown",
   "id": "f3f0393b",
   "metadata": {
    "papermill": {
     "duration": 0.006107,
     "end_time": "2021-12-24T13:43:20.655283",
     "exception": false,
     "start_time": "2021-12-24T13:43:20.649176",
     "status": "completed"
    },
    "tags": []
   },
   "source": [
    "## Catboost \n",
    "\n"
   ]
  },
  {
   "cell_type": "code",
   "execution_count": 7,
   "id": "a1a91074",
   "metadata": {
    "execution": {
     "iopub.execute_input": "2021-12-24T13:43:20.705573Z",
     "iopub.status.busy": "2021-12-24T13:43:20.705124Z",
     "iopub.status.idle": "2021-12-24T13:43:23.398420Z",
     "shell.execute_reply": "2021-12-24T13:43:23.398708Z"
    },
    "papermill": {
     "duration": 2.737566,
     "end_time": "2021-12-24T13:43:23.398853",
     "exception": false,
     "start_time": "2021-12-24T13:43:20.661287",
     "status": "completed"
    },
    "tags": []
   },
   "outputs": [
    {
     "name": "stdout",
     "output_type": "stream",
     "text": [
      "Learning rate set to 0.064294\n",
      "0:\tlearn: 0.9646565\ttotal: 61.1ms\tremaining: 1m 1s\n",
      "1:\tlearn: 0.9327216\ttotal: 64.1ms\tremaining: 32s\n",
      "2:\tlearn: 0.9023557\ttotal: 66.7ms\tremaining: 22.2s\n",
      "3:\tlearn: 0.8744287\ttotal: 69.4ms\tremaining: 17.3s\n",
      "4:\tlearn: 0.8487918\ttotal: 72.1ms\tremaining: 14.4s\n",
      "5:\tlearn: 0.8253403\ttotal: 74.8ms\tremaining: 12.4s\n",
      "6:\tlearn: 0.8023420\ttotal: 77.1ms\tremaining: 10.9s\n",
      "7:\tlearn: 0.7817244\ttotal: 79.3ms\tremaining: 9.84s\n",
      "8:\tlearn: 0.7643300\ttotal: 81.7ms\tremaining: 9s\n",
      "9:\tlearn: 0.7453207\ttotal: 84.6ms\tremaining: 8.38s\n",
      "10:\tlearn: 0.7290249\ttotal: 87.3ms\tremaining: 7.84s\n",
      "11:\tlearn: 0.7135515\ttotal: 89.5ms\tremaining: 7.37s\n",
      "12:\tlearn: 0.6993187\ttotal: 91.8ms\tremaining: 6.97s\n",
      "13:\tlearn: 0.6850508\ttotal: 94.1ms\tremaining: 6.63s\n",
      "14:\tlearn: 0.6734511\ttotal: 96.2ms\tremaining: 6.32s\n",
      "15:\tlearn: 0.6619991\ttotal: 98.3ms\tremaining: 6.04s\n",
      "16:\tlearn: 0.6530587\ttotal: 101ms\tremaining: 5.83s\n",
      "17:\tlearn: 0.6431099\ttotal: 104ms\tremaining: 5.69s\n",
      "18:\tlearn: 0.6345139\ttotal: 107ms\tremaining: 5.51s\n",
      "19:\tlearn: 0.6262930\ttotal: 109ms\tremaining: 5.35s\n",
      "20:\tlearn: 0.6164252\ttotal: 112ms\tremaining: 5.2s\n",
      "21:\tlearn: 0.6090358\ttotal: 114ms\tremaining: 5.08s\n",
      "22:\tlearn: 0.6007445\ttotal: 117ms\tremaining: 4.97s\n",
      "23:\tlearn: 0.5940896\ttotal: 119ms\tremaining: 4.85s\n",
      "24:\tlearn: 0.5865783\ttotal: 122ms\tremaining: 4.76s\n",
      "25:\tlearn: 0.5801755\ttotal: 124ms\tremaining: 4.66s\n"
     ]
    },
    {
     "name": "stdout",
     "output_type": "stream",
     "text": [
      "26:\tlearn: 0.5746950\ttotal: 127ms\tremaining: 4.59s\n",
      "27:\tlearn: 0.5699444\ttotal: 130ms\tremaining: 4.51s\n",
      "28:\tlearn: 0.5658128\ttotal: 133ms\tremaining: 4.46s\n",
      "29:\tlearn: 0.5615714\ttotal: 135ms\tremaining: 4.38s\n",
      "30:\tlearn: 0.5579029\ttotal: 138ms\tremaining: 4.3s\n",
      "31:\tlearn: 0.5536466\ttotal: 140ms\tremaining: 4.24s\n",
      "32:\tlearn: 0.5480547\ttotal: 143ms\tremaining: 4.2s\n",
      "33:\tlearn: 0.5453727\ttotal: 146ms\tremaining: 4.14s\n",
      "34:\tlearn: 0.5410984\ttotal: 148ms\tremaining: 4.09s\n",
      "35:\tlearn: 0.5380643\ttotal: 150ms\tremaining: 4.03s\n",
      "36:\tlearn: 0.5350950\ttotal: 153ms\tremaining: 3.98s\n",
      "37:\tlearn: 0.5325735\ttotal: 155ms\tremaining: 3.92s\n",
      "38:\tlearn: 0.5285336\ttotal: 157ms\tremaining: 3.87s\n",
      "39:\tlearn: 0.5260359\ttotal: 159ms\tremaining: 3.83s\n",
      "40:\tlearn: 0.5239912\ttotal: 162ms\tremaining: 3.78s\n",
      "41:\tlearn: 0.5217914\ttotal: 165ms\tremaining: 3.75s\n",
      "42:\tlearn: 0.5192968\ttotal: 167ms\tremaining: 3.72s\n",
      "43:\tlearn: 0.5171857\ttotal: 170ms\tremaining: 3.69s\n",
      "44:\tlearn: 0.5153067\ttotal: 172ms\tremaining: 3.65s\n",
      "45:\tlearn: 0.5130916\ttotal: 174ms\tremaining: 3.62s\n",
      "46:\tlearn: 0.5096016\ttotal: 177ms\tremaining: 3.59s\n",
      "47:\tlearn: 0.5065983\ttotal: 179ms\tremaining: 3.55s\n",
      "48:\tlearn: 0.5049667\ttotal: 182ms\tremaining: 3.52s\n",
      "49:\tlearn: 0.5035081\ttotal: 185ms\tremaining: 3.51s\n",
      "50:\tlearn: 0.5017163\ttotal: 187ms\tremaining: 3.48s\n",
      "51:\tlearn: 0.5001277\ttotal: 190ms\tremaining: 3.47s\n",
      "52:\tlearn: 0.4978581\ttotal: 192ms\tremaining: 3.44s\n"
     ]
    },
    {
     "name": "stdout",
     "output_type": "stream",
     "text": [
      "53:\tlearn: 0.4957379\ttotal: 195ms\tremaining: 3.42s\n",
      "54:\tlearn: 0.4935300\ttotal: 198ms\tremaining: 3.41s\n",
      "55:\tlearn: 0.4923752\ttotal: 201ms\tremaining: 3.39s\n",
      "56:\tlearn: 0.4909337\ttotal: 203ms\tremaining: 3.37s\n",
      "57:\tlearn: 0.4899454\ttotal: 206ms\tremaining: 3.34s\n",
      "58:\tlearn: 0.4890383\ttotal: 208ms\tremaining: 3.32s\n",
      "59:\tlearn: 0.4877112\ttotal: 211ms\tremaining: 3.3s\n",
      "60:\tlearn: 0.4862905\ttotal: 213ms\tremaining: 3.28s\n",
      "61:\tlearn: 0.4850997\ttotal: 216ms\tremaining: 3.27s\n",
      "62:\tlearn: 0.4838767\ttotal: 218ms\tremaining: 3.24s\n",
      "63:\tlearn: 0.4825868\ttotal: 220ms\tremaining: 3.22s\n",
      "64:\tlearn: 0.4815507\ttotal: 223ms\tremaining: 3.21s\n",
      "65:\tlearn: 0.4807482\ttotal: 225ms\tremaining: 3.19s\n",
      "66:\tlearn: 0.4794230\ttotal: 228ms\tremaining: 3.18s\n",
      "67:\tlearn: 0.4782664\ttotal: 233ms\tremaining: 3.19s\n",
      "68:\tlearn: 0.4769318\ttotal: 235ms\tremaining: 3.17s\n",
      "69:\tlearn: 0.4758996\ttotal: 238ms\tremaining: 3.16s\n",
      "70:\tlearn: 0.4753655\ttotal: 240ms\tremaining: 3.14s\n",
      "71:\tlearn: 0.4743307\ttotal: 242ms\tremaining: 3.12s\n",
      "72:\tlearn: 0.4737719\ttotal: 244ms\tremaining: 3.1s\n",
      "73:\tlearn: 0.4732389\ttotal: 246ms\tremaining: 3.08s\n",
      "74:\tlearn: 0.4719363\ttotal: 249ms\tremaining: 3.07s\n",
      "75:\tlearn: 0.4710475\ttotal: 251ms\tremaining: 3.06s\n",
      "76:\tlearn: 0.4703145\ttotal: 254ms\tremaining: 3.04s\n",
      "77:\tlearn: 0.4692975\ttotal: 257ms\tremaining: 3.03s\n",
      "78:\tlearn: 0.4680263\ttotal: 259ms\tremaining: 3.02s\n",
      "79:\tlearn: 0.4675397\ttotal: 261ms\tremaining: 3.01s\n",
      "80:\tlearn: 0.4661770\ttotal: 264ms\tremaining: 2.99s\n",
      "81:\tlearn: 0.4650653\ttotal: 267ms\tremaining: 2.98s\n",
      "82:\tlearn: 0.4645094\ttotal: 269ms\tremaining: 2.97s\n",
      "83:\tlearn: 0.4638358\ttotal: 271ms\tremaining: 2.96s\n",
      "84:\tlearn: 0.4631324\ttotal: 274ms\tremaining: 2.94s\n",
      "85:\tlearn: 0.4626599\ttotal: 276ms\tremaining: 2.93s\n",
      "86:\tlearn: 0.4616276\ttotal: 279ms\tremaining: 2.92s\n",
      "87:\tlearn: 0.4607515\ttotal: 281ms\tremaining: 2.91s\n",
      "88:\tlearn: 0.4603420\ttotal: 284ms\tremaining: 2.9s\n",
      "89:\tlearn: 0.4592969\ttotal: 286ms\tremaining: 2.9s\n",
      "90:\tlearn: 0.4586321\ttotal: 289ms\tremaining: 2.88s\n",
      "91:\tlearn: 0.4579666\ttotal: 291ms\tremaining: 2.87s\n",
      "92:\tlearn: 0.4575917\ttotal: 293ms\tremaining: 2.86s\n",
      "93:\tlearn: 0.4561607\ttotal: 296ms\tremaining: 2.85s\n",
      "94:\tlearn: 0.4555027\ttotal: 298ms\tremaining: 2.84s\n",
      "95:\tlearn: 0.4545824\ttotal: 301ms\tremaining: 2.83s\n",
      "96:\tlearn: 0.4539642\ttotal: 303ms\tremaining: 2.82s\n",
      "97:\tlearn: 0.4536765\ttotal: 305ms\tremaining: 2.81s\n",
      "98:\tlearn: 0.4526549\ttotal: 307ms\tremaining: 2.8s\n",
      "99:\tlearn: 0.4521839\ttotal: 310ms\tremaining: 2.79s\n",
      "100:\tlearn: 0.4512880\ttotal: 312ms\tremaining: 2.77s\n",
      "101:\tlearn: 0.4508640\ttotal: 314ms\tremaining: 2.77s\n",
      "102:\tlearn: 0.4504293\ttotal: 317ms\tremaining: 2.76s\n",
      "103:\tlearn: 0.4499506\ttotal: 320ms\tremaining: 2.75s\n"
     ]
    },
    {
     "name": "stdout",
     "output_type": "stream",
     "text": [
      "104:\tlearn: 0.4494678\ttotal: 322ms\tremaining: 2.75s\n",
      "105:\tlearn: 0.4491452\ttotal: 325ms\tremaining: 2.74s\n",
      "106:\tlearn: 0.4486565\ttotal: 327ms\tremaining: 2.73s\n",
      "107:\tlearn: 0.4478586\ttotal: 330ms\tremaining: 2.73s\n",
      "108:\tlearn: 0.4472437\ttotal: 332ms\tremaining: 2.71s\n",
      "109:\tlearn: 0.4469863\ttotal: 335ms\tremaining: 2.71s\n",
      "110:\tlearn: 0.4464628\ttotal: 337ms\tremaining: 2.7s\n",
      "111:\tlearn: 0.4459801\ttotal: 339ms\tremaining: 2.69s\n",
      "112:\tlearn: 0.4452111\ttotal: 341ms\tremaining: 2.68s\n",
      "113:\tlearn: 0.4447002\ttotal: 345ms\tremaining: 2.68s\n",
      "114:\tlearn: 0.4440031\ttotal: 347ms\tremaining: 2.67s\n",
      "115:\tlearn: 0.4434103\ttotal: 350ms\tremaining: 2.67s\n",
      "116:\tlearn: 0.4431942\ttotal: 352ms\tremaining: 2.65s\n",
      "117:\tlearn: 0.4428258\ttotal: 354ms\tremaining: 2.65s\n",
      "118:\tlearn: 0.4420905\ttotal: 356ms\tremaining: 2.64s\n",
      "119:\tlearn: 0.4415899\ttotal: 359ms\tremaining: 2.63s\n",
      "120:\tlearn: 0.4410160\ttotal: 362ms\tremaining: 2.63s\n",
      "121:\tlearn: 0.4407211\ttotal: 364ms\tremaining: 2.62s\n",
      "122:\tlearn: 0.4400276\ttotal: 366ms\tremaining: 2.61s\n",
      "123:\tlearn: 0.4395248\ttotal: 369ms\tremaining: 2.6s\n",
      "124:\tlearn: 0.4392274\ttotal: 371ms\tremaining: 2.6s\n",
      "125:\tlearn: 0.4389498\ttotal: 374ms\tremaining: 2.59s\n",
      "126:\tlearn: 0.4385208\ttotal: 377ms\tremaining: 2.59s\n",
      "127:\tlearn: 0.4380925\ttotal: 379ms\tremaining: 2.58s\n",
      "128:\tlearn: 0.4375394\ttotal: 382ms\tremaining: 2.58s\n",
      "129:\tlearn: 0.4369750\ttotal: 384ms\tremaining: 2.57s\n",
      "130:\tlearn: 0.4366727\ttotal: 387ms\tremaining: 2.56s\n",
      "131:\tlearn: 0.4362849\ttotal: 389ms\tremaining: 2.56s\n"
     ]
    },
    {
     "name": "stdout",
     "output_type": "stream",
     "text": [
      "132:\tlearn: 0.4359297\ttotal: 391ms\tremaining: 2.55s\n",
      "133:\tlearn: 0.4354109\ttotal: 393ms\tremaining: 2.54s\n",
      "134:\tlearn: 0.4349750\ttotal: 396ms\tremaining: 2.54s\n",
      "135:\tlearn: 0.4344524\ttotal: 398ms\tremaining: 2.53s\n",
      "136:\tlearn: 0.4336962\ttotal: 401ms\tremaining: 2.52s\n",
      "137:\tlearn: 0.4331674\ttotal: 403ms\tremaining: 2.52s\n",
      "138:\tlearn: 0.4323864\ttotal: 406ms\tremaining: 2.51s\n",
      "139:\tlearn: 0.4320406\ttotal: 408ms\tremaining: 2.51s\n",
      "140:\tlearn: 0.4316608\ttotal: 410ms\tremaining: 2.5s\n",
      "141:\tlearn: 0.4312502\ttotal: 413ms\tremaining: 2.49s\n",
      "142:\tlearn: 0.4308543\ttotal: 415ms\tremaining: 2.48s\n",
      "143:\tlearn: 0.4301505\ttotal: 417ms\tremaining: 2.48s\n",
      "144:\tlearn: 0.4297806\ttotal: 419ms\tremaining: 2.47s\n",
      "145:\tlearn: 0.4294899\ttotal: 422ms\tremaining: 2.47s\n",
      "146:\tlearn: 0.4290247\ttotal: 425ms\tremaining: 2.47s\n",
      "147:\tlearn: 0.4284660\ttotal: 427ms\tremaining: 2.46s\n",
      "148:\tlearn: 0.4278585\ttotal: 430ms\tremaining: 2.45s\n",
      "149:\tlearn: 0.4275097\ttotal: 432ms\tremaining: 2.45s\n",
      "150:\tlearn: 0.4269875\ttotal: 435ms\tremaining: 2.44s\n",
      "151:\tlearn: 0.4264059\ttotal: 437ms\tremaining: 2.44s\n",
      "152:\tlearn: 0.4261035\ttotal: 439ms\tremaining: 2.43s\n",
      "153:\tlearn: 0.4256336\ttotal: 441ms\tremaining: 2.42s\n",
      "154:\tlearn: 0.4250438\ttotal: 444ms\tremaining: 2.42s\n",
      "155:\tlearn: 0.4246135\ttotal: 446ms\tremaining: 2.41s\n",
      "156:\tlearn: 0.4240534\ttotal: 449ms\tremaining: 2.41s\n",
      "157:\tlearn: 0.4236167\ttotal: 451ms\tremaining: 2.4s\n",
      "158:\tlearn: 0.4233046\ttotal: 453ms\tremaining: 2.4s\n",
      "159:\tlearn: 0.4226964\ttotal: 456ms\tremaining: 2.39s\n",
      "160:\tlearn: 0.4223855\ttotal: 459ms\tremaining: 2.39s\n",
      "161:\tlearn: 0.4220141\ttotal: 461ms\tremaining: 2.38s\n",
      "162:\tlearn: 0.4213665\ttotal: 463ms\tremaining: 2.38s\n",
      "163:\tlearn: 0.4211185\ttotal: 465ms\tremaining: 2.37s\n",
      "164:\tlearn: 0.4207083\ttotal: 468ms\tremaining: 2.37s\n",
      "165:\tlearn: 0.4202628\ttotal: 470ms\tremaining: 2.36s\n",
      "166:\tlearn: 0.4198768\ttotal: 472ms\tremaining: 2.36s\n",
      "167:\tlearn: 0.4190956\ttotal: 475ms\tremaining: 2.35s\n",
      "168:\tlearn: 0.4187808\ttotal: 477ms\tremaining: 2.35s\n",
      "169:\tlearn: 0.4183783\ttotal: 480ms\tremaining: 2.34s\n",
      "170:\tlearn: 0.4180235\ttotal: 482ms\tremaining: 2.33s\n",
      "171:\tlearn: 0.4175469\ttotal: 484ms\tremaining: 2.33s\n",
      "172:\tlearn: 0.4173202\ttotal: 486ms\tremaining: 2.33s\n",
      "173:\tlearn: 0.4169541\ttotal: 489ms\tremaining: 2.32s\n",
      "174:\tlearn: 0.4165847\ttotal: 491ms\tremaining: 2.32s\n",
      "175:\tlearn: 0.4159657\ttotal: 493ms\tremaining: 2.31s\n",
      "176:\tlearn: 0.4155298\ttotal: 496ms\tremaining: 2.3s\n",
      "177:\tlearn: 0.4152467\ttotal: 498ms\tremaining: 2.3s\n",
      "178:\tlearn: 0.4149501\ttotal: 500ms\tremaining: 2.29s\n",
      "179:\tlearn: 0.4141612\ttotal: 503ms\tremaining: 2.29s\n",
      "180:\tlearn: 0.4138421\ttotal: 507ms\tremaining: 2.29s\n",
      "181:\tlearn: 0.4133304\ttotal: 510ms\tremaining: 2.29s\n",
      "182:\tlearn: 0.4128074\ttotal: 513ms\tremaining: 2.29s\n",
      "183:\tlearn: 0.4121690\ttotal: 516ms\tremaining: 2.29s\n"
     ]
    },
    {
     "name": "stdout",
     "output_type": "stream",
     "text": [
      "184:\tlearn: 0.4118100\ttotal: 518ms\tremaining: 2.28s\n",
      "185:\tlearn: 0.4112739\ttotal: 520ms\tremaining: 2.28s\n",
      "186:\tlearn: 0.4108330\ttotal: 523ms\tremaining: 2.27s\n",
      "187:\tlearn: 0.4105048\ttotal: 526ms\tremaining: 2.27s\n",
      "188:\tlearn: 0.4101781\ttotal: 528ms\tremaining: 2.27s\n",
      "189:\tlearn: 0.4098644\ttotal: 530ms\tremaining: 2.26s\n",
      "190:\tlearn: 0.4095391\ttotal: 533ms\tremaining: 2.25s\n",
      "191:\tlearn: 0.4091939\ttotal: 535ms\tremaining: 2.25s\n",
      "192:\tlearn: 0.4088986\ttotal: 537ms\tremaining: 2.25s\n",
      "193:\tlearn: 0.4085258\ttotal: 540ms\tremaining: 2.24s\n",
      "194:\tlearn: 0.4082627\ttotal: 542ms\tremaining: 2.24s\n",
      "195:\tlearn: 0.4077050\ttotal: 545ms\tremaining: 2.23s\n",
      "196:\tlearn: 0.4072721\ttotal: 548ms\tremaining: 2.23s\n",
      "197:\tlearn: 0.4069651\ttotal: 550ms\tremaining: 2.23s\n",
      "198:\tlearn: 0.4064487\ttotal: 552ms\tremaining: 2.22s\n",
      "199:\tlearn: 0.4061695\ttotal: 556ms\tremaining: 2.22s\n",
      "200:\tlearn: 0.4058541\ttotal: 558ms\tremaining: 2.22s\n",
      "201:\tlearn: 0.4056455\ttotal: 561ms\tremaining: 2.21s\n",
      "202:\tlearn: 0.4050467\ttotal: 564ms\tremaining: 2.21s\n",
      "203:\tlearn: 0.4046823\ttotal: 566ms\tremaining: 2.21s\n",
      "204:\tlearn: 0.4042661\ttotal: 568ms\tremaining: 2.2s\n",
      "205:\tlearn: 0.4038526\ttotal: 571ms\tremaining: 2.2s\n",
      "206:\tlearn: 0.4034257\ttotal: 573ms\tremaining: 2.2s\n",
      "207:\tlearn: 0.4031233\ttotal: 576ms\tremaining: 2.19s\n",
      "208:\tlearn: 0.4028210\ttotal: 579ms\tremaining: 2.19s\n",
      "209:\tlearn: 0.4025057\ttotal: 581ms\tremaining: 2.19s\n",
      "210:\tlearn: 0.4021725\ttotal: 584ms\tremaining: 2.18s\n"
     ]
    },
    {
     "name": "stdout",
     "output_type": "stream",
     "text": [
      "211:\tlearn: 0.4018599\ttotal: 587ms\tremaining: 2.18s\n",
      "212:\tlearn: 0.4015701\ttotal: 590ms\tremaining: 2.18s\n",
      "213:\tlearn: 0.4012730\ttotal: 592ms\tremaining: 2.18s\n",
      "214:\tlearn: 0.4009956\ttotal: 596ms\tremaining: 2.17s\n",
      "215:\tlearn: 0.4005934\ttotal: 598ms\tremaining: 2.17s\n",
      "216:\tlearn: 0.4003470\ttotal: 601ms\tremaining: 2.17s\n",
      "217:\tlearn: 0.4000519\ttotal: 604ms\tremaining: 2.17s\n",
      "218:\tlearn: 0.3995929\ttotal: 606ms\tremaining: 2.16s\n",
      "219:\tlearn: 0.3990533\ttotal: 609ms\tremaining: 2.16s\n",
      "220:\tlearn: 0.3988161\ttotal: 611ms\tremaining: 2.15s\n",
      "221:\tlearn: 0.3984288\ttotal: 614ms\tremaining: 2.15s\n",
      "222:\tlearn: 0.3981115\ttotal: 616ms\tremaining: 2.15s\n",
      "223:\tlearn: 0.3979413\ttotal: 619ms\tremaining: 2.14s\n",
      "224:\tlearn: 0.3977528\ttotal: 621ms\tremaining: 2.14s\n",
      "225:\tlearn: 0.3973479\ttotal: 624ms\tremaining: 2.13s\n",
      "226:\tlearn: 0.3970586\ttotal: 626ms\tremaining: 2.13s\n",
      "227:\tlearn: 0.3967204\ttotal: 628ms\tremaining: 2.13s\n",
      "228:\tlearn: 0.3964576\ttotal: 630ms\tremaining: 2.12s\n",
      "229:\tlearn: 0.3961645\ttotal: 633ms\tremaining: 2.12s\n",
      "230:\tlearn: 0.3956555\ttotal: 635ms\tremaining: 2.11s\n",
      "231:\tlearn: 0.3953788\ttotal: 637ms\tremaining: 2.11s\n",
      "232:\tlearn: 0.3951888\ttotal: 639ms\tremaining: 2.1s\n",
      "233:\tlearn: 0.3948971\ttotal: 641ms\tremaining: 2.1s\n",
      "234:\tlearn: 0.3945394\ttotal: 643ms\tremaining: 2.09s\n",
      "235:\tlearn: 0.3942629\ttotal: 646ms\tremaining: 2.09s\n",
      "236:\tlearn: 0.3939814\ttotal: 648ms\tremaining: 2.09s\n",
      "237:\tlearn: 0.3938063\ttotal: 650ms\tremaining: 2.08s\n",
      "238:\tlearn: 0.3935401\ttotal: 653ms\tremaining: 2.08s\n",
      "239:\tlearn: 0.3932743\ttotal: 655ms\tremaining: 2.07s\n",
      "240:\tlearn: 0.3930193\ttotal: 657ms\tremaining: 2.07s\n",
      "241:\tlearn: 0.3928598\ttotal: 660ms\tremaining: 2.07s\n",
      "242:\tlearn: 0.3927250\ttotal: 662ms\tremaining: 2.06s\n",
      "243:\tlearn: 0.3925021\ttotal: 664ms\tremaining: 2.06s\n",
      "244:\tlearn: 0.3922625\ttotal: 667ms\tremaining: 2.05s\n",
      "245:\tlearn: 0.3918470\ttotal: 669ms\tremaining: 2.05s\n",
      "246:\tlearn: 0.3915883\ttotal: 671ms\tremaining: 2.04s\n",
      "247:\tlearn: 0.3913879\ttotal: 673ms\tremaining: 2.04s\n",
      "248:\tlearn: 0.3911808\ttotal: 676ms\tremaining: 2.04s\n",
      "249:\tlearn: 0.3909094\ttotal: 678ms\tremaining: 2.03s\n",
      "250:\tlearn: 0.3906852\ttotal: 680ms\tremaining: 2.03s\n",
      "251:\tlearn: 0.3903906\ttotal: 683ms\tremaining: 2.03s\n",
      "252:\tlearn: 0.3901913\ttotal: 686ms\tremaining: 2.03s\n",
      "253:\tlearn: 0.3899976\ttotal: 689ms\tremaining: 2.02s\n",
      "254:\tlearn: 0.3897866\ttotal: 691ms\tremaining: 2.02s\n",
      "255:\tlearn: 0.3892777\ttotal: 694ms\tremaining: 2.02s\n",
      "256:\tlearn: 0.3889008\ttotal: 696ms\tremaining: 2.01s\n",
      "257:\tlearn: 0.3886488\ttotal: 699ms\tremaining: 2.01s\n",
      "258:\tlearn: 0.3883562\ttotal: 701ms\tremaining: 2.01s\n",
      "259:\tlearn: 0.3882303\ttotal: 704ms\tremaining: 2s\n",
      "260:\tlearn: 0.3880124\ttotal: 706ms\tremaining: 2s\n",
      "261:\tlearn: 0.3878478\ttotal: 709ms\tremaining: 2s\n",
      "262:\tlearn: 0.3876995\ttotal: 711ms\tremaining: 1.99s\n"
     ]
    },
    {
     "name": "stdout",
     "output_type": "stream",
     "text": [
      "263:\tlearn: 0.3874976\ttotal: 714ms\tremaining: 1.99s\n",
      "264:\tlearn: 0.3872378\ttotal: 717ms\tremaining: 1.99s\n",
      "265:\tlearn: 0.3869882\ttotal: 720ms\tremaining: 1.99s\n",
      "266:\tlearn: 0.3867340\ttotal: 723ms\tremaining: 1.98s\n",
      "267:\tlearn: 0.3864606\ttotal: 725ms\tremaining: 1.98s\n",
      "268:\tlearn: 0.3862060\ttotal: 727ms\tremaining: 1.98s\n",
      "269:\tlearn: 0.3859811\ttotal: 730ms\tremaining: 1.97s\n",
      "270:\tlearn: 0.3857962\ttotal: 733ms\tremaining: 1.97s\n",
      "271:\tlearn: 0.3853724\ttotal: 735ms\tremaining: 1.97s\n",
      "272:\tlearn: 0.3851259\ttotal: 738ms\tremaining: 1.96s\n",
      "273:\tlearn: 0.3849306\ttotal: 740ms\tremaining: 1.96s\n",
      "274:\tlearn: 0.3846835\ttotal: 742ms\tremaining: 1.96s\n",
      "275:\tlearn: 0.3844848\ttotal: 746ms\tremaining: 1.96s\n",
      "276:\tlearn: 0.3843642\ttotal: 749ms\tremaining: 1.95s\n",
      "277:\tlearn: 0.3840907\ttotal: 751ms\tremaining: 1.95s\n",
      "278:\tlearn: 0.3838469\ttotal: 753ms\tremaining: 1.95s\n",
      "279:\tlearn: 0.3835939\ttotal: 756ms\tremaining: 1.94s\n",
      "280:\tlearn: 0.3831321\ttotal: 759ms\tremaining: 1.94s\n",
      "281:\tlearn: 0.3828955\ttotal: 761ms\tremaining: 1.94s\n",
      "282:\tlearn: 0.3826356\ttotal: 763ms\tremaining: 1.93s\n",
      "283:\tlearn: 0.3823948\ttotal: 766ms\tremaining: 1.93s\n",
      "284:\tlearn: 0.3819448\ttotal: 768ms\tremaining: 1.93s\n",
      "285:\tlearn: 0.3816994\ttotal: 771ms\tremaining: 1.92s\n",
      "286:\tlearn: 0.3814689\ttotal: 773ms\tremaining: 1.92s\n",
      "287:\tlearn: 0.3812944\ttotal: 776ms\tremaining: 1.92s\n",
      "288:\tlearn: 0.3810741\ttotal: 778ms\tremaining: 1.91s\n"
     ]
    },
    {
     "name": "stdout",
     "output_type": "stream",
     "text": [
      "289:\tlearn: 0.3807838\ttotal: 781ms\tremaining: 1.91s\n",
      "290:\tlearn: 0.3805073\ttotal: 783ms\tremaining: 1.91s\n",
      "291:\tlearn: 0.3802817\ttotal: 785ms\tremaining: 1.9s\n",
      "292:\tlearn: 0.3798787\ttotal: 788ms\tremaining: 1.9s\n",
      "293:\tlearn: 0.3795741\ttotal: 790ms\tremaining: 1.9s\n",
      "294:\tlearn: 0.3794301\ttotal: 792ms\tremaining: 1.89s\n",
      "295:\tlearn: 0.3791805\ttotal: 796ms\tremaining: 1.89s\n",
      "296:\tlearn: 0.3790261\ttotal: 798ms\tremaining: 1.89s\n",
      "297:\tlearn: 0.3788087\ttotal: 800ms\tremaining: 1.88s\n",
      "298:\tlearn: 0.3786534\ttotal: 802ms\tremaining: 1.88s\n",
      "299:\tlearn: 0.3784701\ttotal: 805ms\tremaining: 1.88s\n",
      "300:\tlearn: 0.3782840\ttotal: 807ms\tremaining: 1.87s\n",
      "301:\tlearn: 0.3781038\ttotal: 809ms\tremaining: 1.87s\n",
      "302:\tlearn: 0.3778805\ttotal: 812ms\tremaining: 1.87s\n",
      "303:\tlearn: 0.3776068\ttotal: 814ms\tremaining: 1.86s\n",
      "304:\tlearn: 0.3773294\ttotal: 816ms\tremaining: 1.86s\n",
      "305:\tlearn: 0.3771651\ttotal: 818ms\tremaining: 1.86s\n",
      "306:\tlearn: 0.3768871\ttotal: 821ms\tremaining: 1.85s\n",
      "307:\tlearn: 0.3764989\ttotal: 823ms\tremaining: 1.85s\n",
      "308:\tlearn: 0.3762973\ttotal: 825ms\tremaining: 1.84s\n",
      "309:\tlearn: 0.3761205\ttotal: 829ms\tremaining: 1.84s\n",
      "310:\tlearn: 0.3758716\ttotal: 831ms\tremaining: 1.84s\n",
      "311:\tlearn: 0.3757176\ttotal: 833ms\tremaining: 1.84s\n",
      "312:\tlearn: 0.3754285\ttotal: 835ms\tremaining: 1.83s\n",
      "313:\tlearn: 0.3752429\ttotal: 838ms\tremaining: 1.83s\n",
      "314:\tlearn: 0.3750002\ttotal: 840ms\tremaining: 1.83s\n",
      "315:\tlearn: 0.3747909\ttotal: 842ms\tremaining: 1.82s\n",
      "316:\tlearn: 0.3746087\ttotal: 845ms\tremaining: 1.82s\n",
      "317:\tlearn: 0.3744679\ttotal: 847ms\tremaining: 1.82s\n",
      "318:\tlearn: 0.3742900\ttotal: 849ms\tremaining: 1.81s\n",
      "319:\tlearn: 0.3740913\ttotal: 852ms\tremaining: 1.81s\n",
      "320:\tlearn: 0.3738651\ttotal: 854ms\tremaining: 1.8s\n",
      "321:\tlearn: 0.3736437\ttotal: 856ms\tremaining: 1.8s\n",
      "322:\tlearn: 0.3734822\ttotal: 858ms\tremaining: 1.8s\n",
      "323:\tlearn: 0.3733597\ttotal: 860ms\tremaining: 1.79s\n",
      "324:\tlearn: 0.3731542\ttotal: 863ms\tremaining: 1.79s\n",
      "325:\tlearn: 0.3729505\ttotal: 865ms\tremaining: 1.79s\n",
      "326:\tlearn: 0.3727585\ttotal: 867ms\tremaining: 1.78s\n",
      "327:\tlearn: 0.3726521\ttotal: 870ms\tremaining: 1.78s\n",
      "328:\tlearn: 0.3724483\ttotal: 872ms\tremaining: 1.78s\n",
      "329:\tlearn: 0.3719543\ttotal: 875ms\tremaining: 1.77s\n",
      "330:\tlearn: 0.3718276\ttotal: 877ms\tremaining: 1.77s\n",
      "331:\tlearn: 0.3716378\ttotal: 879ms\tremaining: 1.77s\n",
      "332:\tlearn: 0.3713692\ttotal: 882ms\tremaining: 1.76s\n",
      "333:\tlearn: 0.3711029\ttotal: 884ms\tremaining: 1.76s\n",
      "334:\tlearn: 0.3708650\ttotal: 886ms\tremaining: 1.76s\n",
      "335:\tlearn: 0.3707071\ttotal: 889ms\tremaining: 1.75s\n",
      "336:\tlearn: 0.3705503\ttotal: 891ms\tremaining: 1.75s\n",
      "337:\tlearn: 0.3704634\ttotal: 893ms\tremaining: 1.75s\n",
      "338:\tlearn: 0.3703345\ttotal: 896ms\tremaining: 1.75s\n",
      "339:\tlearn: 0.3701317\ttotal: 898ms\tremaining: 1.74s\n",
      "340:\tlearn: 0.3699304\ttotal: 900ms\tremaining: 1.74s\n",
      "341:\tlearn: 0.3697249\ttotal: 903ms\tremaining: 1.74s\n",
      "342:\tlearn: 0.3695470\ttotal: 905ms\tremaining: 1.73s\n"
     ]
    },
    {
     "name": "stdout",
     "output_type": "stream",
     "text": [
      "343:\tlearn: 0.3694343\ttotal: 909ms\tremaining: 1.73s\n",
      "344:\tlearn: 0.3692002\ttotal: 911ms\tremaining: 1.73s\n",
      "345:\tlearn: 0.3690151\ttotal: 914ms\tremaining: 1.73s\n",
      "346:\tlearn: 0.3687924\ttotal: 916ms\tremaining: 1.72s\n",
      "347:\tlearn: 0.3685880\ttotal: 919ms\tremaining: 1.72s\n",
      "348:\tlearn: 0.3684970\ttotal: 922ms\tremaining: 1.72s\n",
      "349:\tlearn: 0.3682819\ttotal: 924ms\tremaining: 1.72s\n",
      "350:\tlearn: 0.3681111\ttotal: 926ms\tremaining: 1.71s\n",
      "351:\tlearn: 0.3678356\ttotal: 929ms\tremaining: 1.71s\n",
      "352:\tlearn: 0.3677249\ttotal: 931ms\tremaining: 1.71s\n",
      "353:\tlearn: 0.3675005\ttotal: 933ms\tremaining: 1.7s\n",
      "354:\tlearn: 0.3672738\ttotal: 936ms\tremaining: 1.7s\n",
      "355:\tlearn: 0.3670968\ttotal: 938ms\tremaining: 1.7s\n",
      "356:\tlearn: 0.3668522\ttotal: 940ms\tremaining: 1.69s\n",
      "357:\tlearn: 0.3667077\ttotal: 943ms\tremaining: 1.69s\n",
      "358:\tlearn: 0.3665191\ttotal: 945ms\tremaining: 1.69s\n",
      "359:\tlearn: 0.3663677\ttotal: 947ms\tremaining: 1.68s\n",
      "360:\tlearn: 0.3662954\ttotal: 950ms\tremaining: 1.68s\n",
      "361:\tlearn: 0.3660735\ttotal: 952ms\tremaining: 1.68s\n",
      "362:\tlearn: 0.3658776\ttotal: 955ms\tremaining: 1.68s\n",
      "363:\tlearn: 0.3656778\ttotal: 958ms\tremaining: 1.67s\n",
      "364:\tlearn: 0.3654997\ttotal: 960ms\tremaining: 1.67s\n",
      "365:\tlearn: 0.3651690\ttotal: 963ms\tremaining: 1.67s\n",
      "366:\tlearn: 0.3648268\ttotal: 965ms\tremaining: 1.66s\n",
      "367:\tlearn: 0.3646864\ttotal: 967ms\tremaining: 1.66s\n",
      "368:\tlearn: 0.3643208\ttotal: 970ms\tremaining: 1.66s\n",
      "369:\tlearn: 0.3641365\ttotal: 972ms\tremaining: 1.65s\n"
     ]
    },
    {
     "name": "stdout",
     "output_type": "stream",
     "text": [
      "370:\tlearn: 0.3639537\ttotal: 975ms\tremaining: 1.65s\n",
      "371:\tlearn: 0.3638014\ttotal: 977ms\tremaining: 1.65s\n",
      "372:\tlearn: 0.3635975\ttotal: 979ms\tremaining: 1.65s\n",
      "373:\tlearn: 0.3634211\ttotal: 982ms\tremaining: 1.64s\n",
      "374:\tlearn: 0.3632830\ttotal: 985ms\tremaining: 1.64s\n",
      "375:\tlearn: 0.3630338\ttotal: 989ms\tremaining: 1.64s\n",
      "376:\tlearn: 0.3628210\ttotal: 991ms\tremaining: 1.64s\n",
      "377:\tlearn: 0.3626095\ttotal: 993ms\tremaining: 1.63s\n",
      "378:\tlearn: 0.3624359\ttotal: 996ms\tremaining: 1.63s\n",
      "379:\tlearn: 0.3622525\ttotal: 998ms\tremaining: 1.63s\n",
      "380:\tlearn: 0.3620588\ttotal: 1s\tremaining: 1.63s\n",
      "381:\tlearn: 0.3618615\ttotal: 1s\tremaining: 1.62s\n",
      "382:\tlearn: 0.3616260\ttotal: 1s\tremaining: 1.62s\n",
      "383:\tlearn: 0.3615117\ttotal: 1.01s\tremaining: 1.62s\n",
      "384:\tlearn: 0.3613219\ttotal: 1.01s\tremaining: 1.61s\n",
      "385:\tlearn: 0.3611388\ttotal: 1.01s\tremaining: 1.61s\n",
      "386:\tlearn: 0.3610053\ttotal: 1.01s\tremaining: 1.61s\n",
      "387:\tlearn: 0.3608431\ttotal: 1.02s\tremaining: 1.6s\n",
      "388:\tlearn: 0.3606297\ttotal: 1.02s\tremaining: 1.6s\n",
      "389:\tlearn: 0.3604650\ttotal: 1.02s\tremaining: 1.6s\n",
      "390:\tlearn: 0.3602729\ttotal: 1.02s\tremaining: 1.6s\n",
      "391:\tlearn: 0.3601682\ttotal: 1.03s\tremaining: 1.59s\n",
      "392:\tlearn: 0.3599734\ttotal: 1.03s\tremaining: 1.59s\n",
      "393:\tlearn: 0.3598545\ttotal: 1.03s\tremaining: 1.59s\n",
      "394:\tlearn: 0.3596728\ttotal: 1.03s\tremaining: 1.58s\n",
      "395:\tlearn: 0.3595612\ttotal: 1.04s\tremaining: 1.58s\n",
      "396:\tlearn: 0.3593813\ttotal: 1.04s\tremaining: 1.58s\n",
      "397:\tlearn: 0.3591287\ttotal: 1.04s\tremaining: 1.58s\n",
      "398:\tlearn: 0.3588114\ttotal: 1.04s\tremaining: 1.57s\n",
      "399:\tlearn: 0.3587203\ttotal: 1.05s\tremaining: 1.57s\n",
      "400:\tlearn: 0.3585612\ttotal: 1.05s\tremaining: 1.57s\n",
      "401:\tlearn: 0.3584078\ttotal: 1.05s\tremaining: 1.57s\n",
      "402:\tlearn: 0.3581488\ttotal: 1.05s\tremaining: 1.56s\n",
      "403:\tlearn: 0.3578630\ttotal: 1.06s\tremaining: 1.56s\n",
      "404:\tlearn: 0.3577534\ttotal: 1.06s\tremaining: 1.56s\n",
      "405:\tlearn: 0.3575833\ttotal: 1.06s\tremaining: 1.55s\n",
      "406:\tlearn: 0.3573808\ttotal: 1.06s\tremaining: 1.55s\n",
      "407:\tlearn: 0.3572767\ttotal: 1.07s\tremaining: 1.55s\n",
      "408:\tlearn: 0.3571349\ttotal: 1.07s\tremaining: 1.55s\n",
      "409:\tlearn: 0.3570006\ttotal: 1.07s\tremaining: 1.54s\n",
      "410:\tlearn: 0.3568107\ttotal: 1.07s\tremaining: 1.54s\n",
      "411:\tlearn: 0.3566005\ttotal: 1.08s\tremaining: 1.54s\n",
      "412:\tlearn: 0.3564550\ttotal: 1.08s\tremaining: 1.53s\n",
      "413:\tlearn: 0.3562631\ttotal: 1.08s\tremaining: 1.53s\n",
      "414:\tlearn: 0.3561400\ttotal: 1.08s\tremaining: 1.53s\n",
      "415:\tlearn: 0.3559013\ttotal: 1.09s\tremaining: 1.53s\n",
      "416:\tlearn: 0.3557096\ttotal: 1.09s\tremaining: 1.52s\n",
      "417:\tlearn: 0.3555280\ttotal: 1.09s\tremaining: 1.52s\n",
      "418:\tlearn: 0.3554175\ttotal: 1.09s\tremaining: 1.52s\n",
      "419:\tlearn: 0.3553180\ttotal: 1.1s\tremaining: 1.51s\n",
      "420:\tlearn: 0.3550758\ttotal: 1.1s\tremaining: 1.51s\n"
     ]
    },
    {
     "name": "stdout",
     "output_type": "stream",
     "text": [
      "421:\tlearn: 0.3549329\ttotal: 1.1s\tremaining: 1.51s\n",
      "422:\tlearn: 0.3547414\ttotal: 1.1s\tremaining: 1.51s\n",
      "423:\tlearn: 0.3545994\ttotal: 1.11s\tremaining: 1.5s\n",
      "424:\tlearn: 0.3544550\ttotal: 1.11s\tremaining: 1.5s\n",
      "425:\tlearn: 0.3543167\ttotal: 1.11s\tremaining: 1.5s\n",
      "426:\tlearn: 0.3541498\ttotal: 1.11s\tremaining: 1.5s\n",
      "427:\tlearn: 0.3540044\ttotal: 1.12s\tremaining: 1.49s\n",
      "428:\tlearn: 0.3539136\ttotal: 1.12s\tremaining: 1.49s\n",
      "429:\tlearn: 0.3537103\ttotal: 1.12s\tremaining: 1.49s\n",
      "430:\tlearn: 0.3535302\ttotal: 1.12s\tremaining: 1.48s\n",
      "431:\tlearn: 0.3534207\ttotal: 1.13s\tremaining: 1.48s\n",
      "432:\tlearn: 0.3533199\ttotal: 1.13s\tremaining: 1.48s\n",
      "433:\tlearn: 0.3531129\ttotal: 1.13s\tremaining: 1.48s\n",
      "434:\tlearn: 0.3529546\ttotal: 1.13s\tremaining: 1.47s\n",
      "435:\tlearn: 0.3528016\ttotal: 1.14s\tremaining: 1.47s\n",
      "436:\tlearn: 0.3525198\ttotal: 1.14s\tremaining: 1.47s\n",
      "437:\tlearn: 0.3524326\ttotal: 1.14s\tremaining: 1.46s\n",
      "438:\tlearn: 0.3521912\ttotal: 1.14s\tremaining: 1.46s\n",
      "439:\tlearn: 0.3520305\ttotal: 1.15s\tremaining: 1.46s\n",
      "440:\tlearn: 0.3518934\ttotal: 1.15s\tremaining: 1.46s\n",
      "441:\tlearn: 0.3517962\ttotal: 1.15s\tremaining: 1.46s\n",
      "442:\tlearn: 0.3516568\ttotal: 1.16s\tremaining: 1.45s\n",
      "443:\tlearn: 0.3514261\ttotal: 1.16s\tremaining: 1.45s\n",
      "444:\tlearn: 0.3513021\ttotal: 1.16s\tremaining: 1.45s\n",
      "445:\tlearn: 0.3511564\ttotal: 1.16s\tremaining: 1.44s\n",
      "446:\tlearn: 0.3509751\ttotal: 1.17s\tremaining: 1.44s\n"
     ]
    },
    {
     "name": "stdout",
     "output_type": "stream",
     "text": [
      "447:\tlearn: 0.3508529\ttotal: 1.17s\tremaining: 1.44s\n",
      "448:\tlearn: 0.3507518\ttotal: 1.17s\tremaining: 1.44s\n",
      "449:\tlearn: 0.3506264\ttotal: 1.17s\tremaining: 1.43s\n",
      "450:\tlearn: 0.3504439\ttotal: 1.18s\tremaining: 1.43s\n",
      "451:\tlearn: 0.3503591\ttotal: 1.18s\tremaining: 1.43s\n",
      "452:\tlearn: 0.3502411\ttotal: 1.18s\tremaining: 1.43s\n",
      "453:\tlearn: 0.3500975\ttotal: 1.18s\tremaining: 1.42s\n",
      "454:\tlearn: 0.3499401\ttotal: 1.19s\tremaining: 1.42s\n",
      "455:\tlearn: 0.3497301\ttotal: 1.19s\tremaining: 1.42s\n",
      "456:\tlearn: 0.3494654\ttotal: 1.19s\tremaining: 1.42s\n",
      "457:\tlearn: 0.3493457\ttotal: 1.19s\tremaining: 1.41s\n",
      "458:\tlearn: 0.3492377\ttotal: 1.2s\tremaining: 1.41s\n",
      "459:\tlearn: 0.3490701\ttotal: 1.2s\tremaining: 1.41s\n",
      "460:\tlearn: 0.3489065\ttotal: 1.2s\tremaining: 1.41s\n",
      "461:\tlearn: 0.3488221\ttotal: 1.21s\tremaining: 1.4s\n",
      "462:\tlearn: 0.3486498\ttotal: 1.21s\tremaining: 1.4s\n",
      "463:\tlearn: 0.3484944\ttotal: 1.21s\tremaining: 1.4s\n",
      "464:\tlearn: 0.3483678\ttotal: 1.21s\tremaining: 1.39s\n",
      "465:\tlearn: 0.3482070\ttotal: 1.21s\tremaining: 1.39s\n",
      "466:\tlearn: 0.3480219\ttotal: 1.22s\tremaining: 1.39s\n",
      "467:\tlearn: 0.3478899\ttotal: 1.22s\tremaining: 1.39s\n",
      "468:\tlearn: 0.3477322\ttotal: 1.22s\tremaining: 1.38s\n",
      "469:\tlearn: 0.3476447\ttotal: 1.22s\tremaining: 1.38s\n",
      "470:\tlearn: 0.3474908\ttotal: 1.23s\tremaining: 1.38s\n",
      "471:\tlearn: 0.3473169\ttotal: 1.23s\tremaining: 1.38s\n",
      "472:\tlearn: 0.3471395\ttotal: 1.24s\tremaining: 1.38s\n",
      "473:\tlearn: 0.3469696\ttotal: 1.24s\tremaining: 1.37s\n",
      "474:\tlearn: 0.3467663\ttotal: 1.24s\tremaining: 1.37s\n",
      "475:\tlearn: 0.3466428\ttotal: 1.24s\tremaining: 1.37s\n",
      "476:\tlearn: 0.3464389\ttotal: 1.24s\tremaining: 1.36s\n",
      "477:\tlearn: 0.3463104\ttotal: 1.25s\tremaining: 1.36s\n",
      "478:\tlearn: 0.3461234\ttotal: 1.25s\tremaining: 1.36s\n",
      "479:\tlearn: 0.3459524\ttotal: 1.25s\tremaining: 1.36s\n",
      "480:\tlearn: 0.3458341\ttotal: 1.25s\tremaining: 1.35s\n",
      "481:\tlearn: 0.3456976\ttotal: 1.26s\tremaining: 1.35s\n",
      "482:\tlearn: 0.3455589\ttotal: 1.26s\tremaining: 1.35s\n",
      "483:\tlearn: 0.3453653\ttotal: 1.26s\tremaining: 1.35s\n",
      "484:\tlearn: 0.3451994\ttotal: 1.26s\tremaining: 1.34s\n",
      "485:\tlearn: 0.3450637\ttotal: 1.27s\tremaining: 1.34s\n",
      "486:\tlearn: 0.3449436\ttotal: 1.27s\tremaining: 1.34s\n",
      "487:\tlearn: 0.3448031\ttotal: 1.27s\tremaining: 1.33s\n",
      "488:\tlearn: 0.3446850\ttotal: 1.27s\tremaining: 1.33s\n",
      "489:\tlearn: 0.3445138\ttotal: 1.28s\tremaining: 1.33s\n",
      "490:\tlearn: 0.3443621\ttotal: 1.28s\tremaining: 1.33s\n",
      "491:\tlearn: 0.3443081\ttotal: 1.28s\tremaining: 1.33s\n",
      "492:\tlearn: 0.3441676\ttotal: 1.29s\tremaining: 1.32s\n",
      "493:\tlearn: 0.3440561\ttotal: 1.29s\tremaining: 1.32s\n"
     ]
    },
    {
     "name": "stdout",
     "output_type": "stream",
     "text": [
      "494:\tlearn: 0.3438251\ttotal: 1.3s\tremaining: 1.32s\n",
      "495:\tlearn: 0.3437408\ttotal: 1.3s\tremaining: 1.32s\n",
      "496:\tlearn: 0.3436169\ttotal: 1.3s\tremaining: 1.32s\n",
      "497:\tlearn: 0.3435521\ttotal: 1.3s\tremaining: 1.32s\n",
      "498:\tlearn: 0.3434758\ttotal: 1.31s\tremaining: 1.31s\n",
      "499:\tlearn: 0.3433206\ttotal: 1.32s\tremaining: 1.32s\n",
      "500:\tlearn: 0.3431966\ttotal: 1.32s\tremaining: 1.31s\n",
      "501:\tlearn: 0.3430118\ttotal: 1.32s\tremaining: 1.31s\n",
      "502:\tlearn: 0.3428767\ttotal: 1.32s\tremaining: 1.31s\n",
      "503:\tlearn: 0.3427680\ttotal: 1.33s\tremaining: 1.31s\n",
      "504:\tlearn: 0.3425772\ttotal: 1.33s\tremaining: 1.3s\n",
      "505:\tlearn: 0.3424320\ttotal: 1.33s\tremaining: 1.3s\n",
      "506:\tlearn: 0.3422918\ttotal: 1.33s\tremaining: 1.3s\n",
      "507:\tlearn: 0.3421270\ttotal: 1.34s\tremaining: 1.29s\n",
      "508:\tlearn: 0.3419902\ttotal: 1.34s\tremaining: 1.29s\n",
      "509:\tlearn: 0.3418705\ttotal: 1.34s\tremaining: 1.29s\n",
      "510:\tlearn: 0.3416989\ttotal: 1.35s\tremaining: 1.29s\n",
      "511:\tlearn: 0.3414293\ttotal: 1.35s\tremaining: 1.29s\n",
      "512:\tlearn: 0.3413458\ttotal: 1.35s\tremaining: 1.28s\n",
      "513:\tlearn: 0.3412145\ttotal: 1.35s\tremaining: 1.28s\n",
      "514:\tlearn: 0.3410127\ttotal: 1.36s\tremaining: 1.28s\n",
      "515:\tlearn: 0.3408303\ttotal: 1.36s\tremaining: 1.28s\n",
      "516:\tlearn: 0.3406921\ttotal: 1.36s\tremaining: 1.27s\n"
     ]
    },
    {
     "name": "stdout",
     "output_type": "stream",
     "text": [
      "517:\tlearn: 0.3405623\ttotal: 1.36s\tremaining: 1.27s\n",
      "518:\tlearn: 0.3404243\ttotal: 1.37s\tremaining: 1.27s\n",
      "519:\tlearn: 0.3402964\ttotal: 1.37s\tremaining: 1.26s\n",
      "520:\tlearn: 0.3401958\ttotal: 1.37s\tremaining: 1.26s\n",
      "521:\tlearn: 0.3400739\ttotal: 1.37s\tremaining: 1.26s\n",
      "522:\tlearn: 0.3400269\ttotal: 1.38s\tremaining: 1.25s\n",
      "523:\tlearn: 0.3398079\ttotal: 1.38s\tremaining: 1.25s\n",
      "524:\tlearn: 0.3395959\ttotal: 1.38s\tremaining: 1.25s\n",
      "525:\tlearn: 0.3394489\ttotal: 1.38s\tremaining: 1.25s\n",
      "526:\tlearn: 0.3392949\ttotal: 1.39s\tremaining: 1.24s\n",
      "527:\tlearn: 0.3390657\ttotal: 1.39s\tremaining: 1.24s\n",
      "528:\tlearn: 0.3388989\ttotal: 1.39s\tremaining: 1.24s\n",
      "529:\tlearn: 0.3387750\ttotal: 1.39s\tremaining: 1.24s\n",
      "530:\tlearn: 0.3385665\ttotal: 1.4s\tremaining: 1.23s\n",
      "531:\tlearn: 0.3384066\ttotal: 1.4s\tremaining: 1.23s\n",
      "532:\tlearn: 0.3383341\ttotal: 1.4s\tremaining: 1.23s\n",
      "533:\tlearn: 0.3382063\ttotal: 1.4s\tremaining: 1.22s\n",
      "534:\tlearn: 0.3380163\ttotal: 1.41s\tremaining: 1.22s\n",
      "535:\tlearn: 0.3378598\ttotal: 1.41s\tremaining: 1.22s\n",
      "536:\tlearn: 0.3377389\ttotal: 1.41s\tremaining: 1.22s\n",
      "537:\tlearn: 0.3376384\ttotal: 1.41s\tremaining: 1.21s\n",
      "538:\tlearn: 0.3375335\ttotal: 1.42s\tremaining: 1.21s\n",
      "539:\tlearn: 0.3374527\ttotal: 1.42s\tremaining: 1.21s\n",
      "540:\tlearn: 0.3373743\ttotal: 1.42s\tremaining: 1.21s\n",
      "541:\tlearn: 0.3372508\ttotal: 1.42s\tremaining: 1.2s\n",
      "542:\tlearn: 0.3371247\ttotal: 1.43s\tremaining: 1.2s\n",
      "543:\tlearn: 0.3370314\ttotal: 1.43s\tremaining: 1.2s\n",
      "544:\tlearn: 0.3369112\ttotal: 1.43s\tremaining: 1.19s\n",
      "545:\tlearn: 0.3367979\ttotal: 1.43s\tremaining: 1.19s\n",
      "546:\tlearn: 0.3366144\ttotal: 1.44s\tremaining: 1.19s\n",
      "547:\tlearn: 0.3364706\ttotal: 1.44s\tremaining: 1.19s\n",
      "548:\tlearn: 0.3364207\ttotal: 1.44s\tremaining: 1.18s\n",
      "549:\tlearn: 0.3363203\ttotal: 1.44s\tremaining: 1.18s\n",
      "550:\tlearn: 0.3362078\ttotal: 1.45s\tremaining: 1.18s\n",
      "551:\tlearn: 0.3360642\ttotal: 1.45s\tremaining: 1.18s\n",
      "552:\tlearn: 0.3358506\ttotal: 1.45s\tremaining: 1.17s\n",
      "553:\tlearn: 0.3357161\ttotal: 1.45s\tremaining: 1.17s\n",
      "554:\tlearn: 0.3355294\ttotal: 1.46s\tremaining: 1.17s\n",
      "555:\tlearn: 0.3353217\ttotal: 1.46s\tremaining: 1.16s\n",
      "556:\tlearn: 0.3352482\ttotal: 1.46s\tremaining: 1.16s\n",
      "557:\tlearn: 0.3351522\ttotal: 1.46s\tremaining: 1.16s\n",
      "558:\tlearn: 0.3350189\ttotal: 1.46s\tremaining: 1.16s\n",
      "559:\tlearn: 0.3348891\ttotal: 1.47s\tremaining: 1.15s\n",
      "560:\tlearn: 0.3348122\ttotal: 1.47s\tremaining: 1.15s\n",
      "561:\tlearn: 0.3347086\ttotal: 1.47s\tremaining: 1.15s\n",
      "562:\tlearn: 0.3345841\ttotal: 1.48s\tremaining: 1.15s\n",
      "563:\tlearn: 0.3345064\ttotal: 1.48s\tremaining: 1.14s\n",
      "564:\tlearn: 0.3343497\ttotal: 1.48s\tremaining: 1.14s\n",
      "565:\tlearn: 0.3342686\ttotal: 1.49s\tremaining: 1.14s\n",
      "566:\tlearn: 0.3341486\ttotal: 1.49s\tremaining: 1.14s\n",
      "567:\tlearn: 0.3340174\ttotal: 1.49s\tremaining: 1.13s\n"
     ]
    },
    {
     "name": "stdout",
     "output_type": "stream",
     "text": [
      "568:\tlearn: 0.3338420\ttotal: 1.49s\tremaining: 1.13s\n",
      "569:\tlearn: 0.3337468\ttotal: 1.5s\tremaining: 1.13s\n",
      "570:\tlearn: 0.3335741\ttotal: 1.5s\tremaining: 1.13s\n",
      "571:\tlearn: 0.3334434\ttotal: 1.5s\tremaining: 1.12s\n",
      "572:\tlearn: 0.3333572\ttotal: 1.5s\tremaining: 1.12s\n",
      "573:\tlearn: 0.3332451\ttotal: 1.5s\tremaining: 1.12s\n",
      "574:\tlearn: 0.3331611\ttotal: 1.51s\tremaining: 1.11s\n",
      "575:\tlearn: 0.3330522\ttotal: 1.51s\tremaining: 1.11s\n",
      "576:\tlearn: 0.3329154\ttotal: 1.51s\tremaining: 1.11s\n",
      "577:\tlearn: 0.3328120\ttotal: 1.51s\tremaining: 1.1s\n",
      "578:\tlearn: 0.3326839\ttotal: 1.52s\tremaining: 1.1s\n",
      "579:\tlearn: 0.3325565\ttotal: 1.52s\tremaining: 1.1s\n",
      "580:\tlearn: 0.3324379\ttotal: 1.52s\tremaining: 1.1s\n",
      "581:\tlearn: 0.3322992\ttotal: 1.52s\tremaining: 1.09s\n",
      "582:\tlearn: 0.3321779\ttotal: 1.53s\tremaining: 1.09s\n",
      "583:\tlearn: 0.3320629\ttotal: 1.53s\tremaining: 1.09s\n",
      "584:\tlearn: 0.3319217\ttotal: 1.53s\tremaining: 1.09s\n",
      "585:\tlearn: 0.3318158\ttotal: 1.53s\tremaining: 1.08s\n",
      "586:\tlearn: 0.3317336\ttotal: 1.54s\tremaining: 1.08s\n",
      "587:\tlearn: 0.3316353\ttotal: 1.54s\tremaining: 1.08s\n",
      "588:\tlearn: 0.3314649\ttotal: 1.54s\tremaining: 1.08s\n",
      "589:\tlearn: 0.3312576\ttotal: 1.54s\tremaining: 1.07s\n",
      "590:\tlearn: 0.3311684\ttotal: 1.55s\tremaining: 1.07s\n",
      "591:\tlearn: 0.3310847\ttotal: 1.55s\tremaining: 1.07s\n",
      "592:\tlearn: 0.3309958\ttotal: 1.55s\tremaining: 1.06s\n",
      "593:\tlearn: 0.3309085\ttotal: 1.55s\tremaining: 1.06s\n",
      "594:\tlearn: 0.3308362\ttotal: 1.56s\tremaining: 1.06s\n"
     ]
    },
    {
     "name": "stdout",
     "output_type": "stream",
     "text": [
      "595:\tlearn: 0.3307062\ttotal: 1.56s\tremaining: 1.06s\n",
      "596:\tlearn: 0.3306066\ttotal: 1.56s\tremaining: 1.05s\n",
      "597:\tlearn: 0.3305477\ttotal: 1.56s\tremaining: 1.05s\n",
      "598:\tlearn: 0.3304545\ttotal: 1.57s\tremaining: 1.05s\n",
      "599:\tlearn: 0.3303152\ttotal: 1.57s\tremaining: 1.05s\n",
      "600:\tlearn: 0.3302168\ttotal: 1.57s\tremaining: 1.04s\n",
      "601:\tlearn: 0.3301115\ttotal: 1.57s\tremaining: 1.04s\n",
      "602:\tlearn: 0.3300324\ttotal: 1.58s\tremaining: 1.04s\n",
      "603:\tlearn: 0.3299507\ttotal: 1.58s\tremaining: 1.03s\n",
      "604:\tlearn: 0.3298439\ttotal: 1.58s\tremaining: 1.03s\n",
      "605:\tlearn: 0.3297299\ttotal: 1.58s\tremaining: 1.03s\n",
      "606:\tlearn: 0.3296187\ttotal: 1.59s\tremaining: 1.03s\n",
      "607:\tlearn: 0.3295100\ttotal: 1.59s\tremaining: 1.02s\n",
      "608:\tlearn: 0.3294120\ttotal: 1.59s\tremaining: 1.02s\n",
      "609:\tlearn: 0.3293184\ttotal: 1.59s\tremaining: 1.02s\n",
      "610:\tlearn: 0.3292188\ttotal: 1.6s\tremaining: 1.02s\n",
      "611:\tlearn: 0.3291187\ttotal: 1.6s\tremaining: 1.01s\n",
      "612:\tlearn: 0.3289621\ttotal: 1.6s\tremaining: 1.01s\n",
      "613:\tlearn: 0.3287835\ttotal: 1.6s\tremaining: 1.01s\n",
      "614:\tlearn: 0.3286421\ttotal: 1.61s\tremaining: 1.01s\n",
      "615:\tlearn: 0.3284839\ttotal: 1.61s\tremaining: 1s\n",
      "616:\tlearn: 0.3283995\ttotal: 1.61s\tremaining: 1s\n",
      "617:\tlearn: 0.3282982\ttotal: 1.61s\tremaining: 998ms\n",
      "618:\tlearn: 0.3281635\ttotal: 1.62s\tremaining: 995ms\n",
      "619:\tlearn: 0.3280832\ttotal: 1.62s\tremaining: 993ms\n",
      "620:\tlearn: 0.3279115\ttotal: 1.62s\tremaining: 990ms\n",
      "621:\tlearn: 0.3278427\ttotal: 1.62s\tremaining: 987ms\n",
      "622:\tlearn: 0.3276772\ttotal: 1.63s\tremaining: 985ms\n",
      "623:\tlearn: 0.3276012\ttotal: 1.63s\tremaining: 982ms\n",
      "624:\tlearn: 0.3274694\ttotal: 1.63s\tremaining: 980ms\n",
      "625:\tlearn: 0.3273293\ttotal: 1.63s\tremaining: 977ms\n",
      "626:\tlearn: 0.3272095\ttotal: 1.64s\tremaining: 974ms\n",
      "627:\tlearn: 0.3270882\ttotal: 1.64s\tremaining: 971ms\n",
      "628:\tlearn: 0.3270271\ttotal: 1.64s\tremaining: 968ms\n",
      "629:\tlearn: 0.3269436\ttotal: 1.64s\tremaining: 966ms\n",
      "630:\tlearn: 0.3268277\ttotal: 1.65s\tremaining: 963ms\n",
      "631:\tlearn: 0.3267178\ttotal: 1.65s\tremaining: 960ms\n",
      "632:\tlearn: 0.3266054\ttotal: 1.65s\tremaining: 958ms\n",
      "633:\tlearn: 0.3264985\ttotal: 1.65s\tremaining: 955ms\n",
      "634:\tlearn: 0.3263713\ttotal: 1.66s\tremaining: 952ms\n",
      "635:\tlearn: 0.3263194\ttotal: 1.66s\tremaining: 950ms\n",
      "636:\tlearn: 0.3261784\ttotal: 1.66s\tremaining: 947ms\n",
      "637:\tlearn: 0.3260930\ttotal: 1.66s\tremaining: 944ms\n",
      "638:\tlearn: 0.3259932\ttotal: 1.67s\tremaining: 941ms\n",
      "639:\tlearn: 0.3258891\ttotal: 1.67s\tremaining: 939ms\n",
      "640:\tlearn: 0.3257803\ttotal: 1.67s\tremaining: 936ms\n",
      "641:\tlearn: 0.3256992\ttotal: 1.67s\tremaining: 933ms\n",
      "642:\tlearn: 0.3256001\ttotal: 1.68s\tremaining: 931ms\n",
      "643:\tlearn: 0.3255269\ttotal: 1.68s\tremaining: 928ms\n",
      "644:\tlearn: 0.3254383\ttotal: 1.68s\tremaining: 925ms\n",
      "645:\tlearn: 0.3253149\ttotal: 1.69s\tremaining: 924ms\n"
     ]
    },
    {
     "name": "stdout",
     "output_type": "stream",
     "text": [
      "646:\tlearn: 0.3251872\ttotal: 1.69s\tremaining: 921ms\n",
      "647:\tlearn: 0.3250914\ttotal: 1.69s\tremaining: 918ms\n",
      "648:\tlearn: 0.3250063\ttotal: 1.69s\tremaining: 915ms\n",
      "649:\tlearn: 0.3248810\ttotal: 1.7s\tremaining: 913ms\n",
      "650:\tlearn: 0.3247534\ttotal: 1.7s\tremaining: 910ms\n",
      "651:\tlearn: 0.3246797\ttotal: 1.7s\tremaining: 907ms\n",
      "652:\tlearn: 0.3246165\ttotal: 1.7s\tremaining: 905ms\n",
      "653:\tlearn: 0.3245008\ttotal: 1.7s\tremaining: 902ms\n",
      "654:\tlearn: 0.3244028\ttotal: 1.71s\tremaining: 899ms\n",
      "655:\tlearn: 0.3242574\ttotal: 1.71s\tremaining: 897ms\n",
      "656:\tlearn: 0.3241092\ttotal: 1.71s\tremaining: 894ms\n",
      "657:\tlearn: 0.3240244\ttotal: 1.72s\tremaining: 892ms\n",
      "658:\tlearn: 0.3239094\ttotal: 1.72s\tremaining: 890ms\n",
      "659:\tlearn: 0.3237755\ttotal: 1.72s\tremaining: 887ms\n",
      "660:\tlearn: 0.3236296\ttotal: 1.72s\tremaining: 884ms\n",
      "661:\tlearn: 0.3234465\ttotal: 1.73s\tremaining: 882ms\n",
      "662:\tlearn: 0.3233592\ttotal: 1.73s\tremaining: 879ms\n",
      "663:\tlearn: 0.3232849\ttotal: 1.73s\tremaining: 876ms\n",
      "664:\tlearn: 0.3232212\ttotal: 1.73s\tremaining: 874ms\n",
      "665:\tlearn: 0.3231244\ttotal: 1.74s\tremaining: 871ms\n",
      "666:\tlearn: 0.3230080\ttotal: 1.74s\tremaining: 868ms\n",
      "667:\tlearn: 0.3229232\ttotal: 1.74s\tremaining: 866ms\n",
      "668:\tlearn: 0.3228215\ttotal: 1.74s\tremaining: 863ms\n",
      "669:\tlearn: 0.3227485\ttotal: 1.75s\tremaining: 860ms\n",
      "670:\tlearn: 0.3226789\ttotal: 1.75s\tremaining: 858ms\n",
      "671:\tlearn: 0.3225755\ttotal: 1.75s\tremaining: 855ms\n",
      "672:\tlearn: 0.3224799\ttotal: 1.75s\tremaining: 852ms\n"
     ]
    },
    {
     "name": "stdout",
     "output_type": "stream",
     "text": [
      "673:\tlearn: 0.3224057\ttotal: 1.76s\tremaining: 850ms\n",
      "674:\tlearn: 0.3222924\ttotal: 1.76s\tremaining: 847ms\n",
      "675:\tlearn: 0.3222305\ttotal: 1.76s\tremaining: 844ms\n",
      "676:\tlearn: 0.3221572\ttotal: 1.76s\tremaining: 842ms\n",
      "677:\tlearn: 0.3220871\ttotal: 1.77s\tremaining: 839ms\n",
      "678:\tlearn: 0.3219662\ttotal: 1.77s\tremaining: 836ms\n",
      "679:\tlearn: 0.3218892\ttotal: 1.77s\tremaining: 834ms\n",
      "680:\tlearn: 0.3217398\ttotal: 1.77s\tremaining: 831ms\n",
      "681:\tlearn: 0.3216632\ttotal: 1.78s\tremaining: 828ms\n",
      "682:\tlearn: 0.3215424\ttotal: 1.78s\tremaining: 826ms\n",
      "683:\tlearn: 0.3214356\ttotal: 1.78s\tremaining: 823ms\n",
      "684:\tlearn: 0.3213685\ttotal: 1.78s\tremaining: 820ms\n",
      "685:\tlearn: 0.3212600\ttotal: 1.79s\tremaining: 818ms\n",
      "686:\tlearn: 0.3211433\ttotal: 1.79s\tremaining: 815ms\n",
      "687:\tlearn: 0.3210393\ttotal: 1.79s\tremaining: 812ms\n",
      "688:\tlearn: 0.3209580\ttotal: 1.79s\tremaining: 810ms\n",
      "689:\tlearn: 0.3208786\ttotal: 1.8s\tremaining: 807ms\n",
      "690:\tlearn: 0.3207001\ttotal: 1.8s\tremaining: 805ms\n",
      "691:\tlearn: 0.3206093\ttotal: 1.8s\tremaining: 802ms\n",
      "692:\tlearn: 0.3205378\ttotal: 1.8s\tremaining: 799ms\n",
      "693:\tlearn: 0.3204630\ttotal: 1.81s\tremaining: 797ms\n",
      "694:\tlearn: 0.3203854\ttotal: 1.81s\tremaining: 794ms\n",
      "695:\tlearn: 0.3202756\ttotal: 1.81s\tremaining: 791ms\n",
      "696:\tlearn: 0.3201094\ttotal: 1.81s\tremaining: 789ms\n",
      "697:\tlearn: 0.3199889\ttotal: 1.82s\tremaining: 786ms\n",
      "698:\tlearn: 0.3198933\ttotal: 1.82s\tremaining: 783ms\n",
      "699:\tlearn: 0.3197416\ttotal: 1.82s\tremaining: 781ms\n",
      "700:\tlearn: 0.3196912\ttotal: 1.82s\tremaining: 778ms\n",
      "701:\tlearn: 0.3196151\ttotal: 1.83s\tremaining: 775ms\n",
      "702:\tlearn: 0.3194927\ttotal: 1.83s\tremaining: 772ms\n",
      "703:\tlearn: 0.3193973\ttotal: 1.83s\tremaining: 770ms\n",
      "704:\tlearn: 0.3193174\ttotal: 1.83s\tremaining: 767ms\n",
      "705:\tlearn: 0.3192688\ttotal: 1.83s\tremaining: 764ms\n",
      "706:\tlearn: 0.3191842\ttotal: 1.84s\tremaining: 762ms\n",
      "707:\tlearn: 0.3190759\ttotal: 1.84s\tremaining: 759ms\n",
      "708:\tlearn: 0.3190039\ttotal: 1.84s\tremaining: 757ms\n",
      "709:\tlearn: 0.3189193\ttotal: 1.84s\tremaining: 754ms\n",
      "710:\tlearn: 0.3188067\ttotal: 1.85s\tremaining: 751ms\n",
      "711:\tlearn: 0.3186689\ttotal: 1.85s\tremaining: 748ms\n",
      "712:\tlearn: 0.3185682\ttotal: 1.85s\tremaining: 746ms\n",
      "713:\tlearn: 0.3185027\ttotal: 1.85s\tremaining: 743ms\n",
      "714:\tlearn: 0.3184056\ttotal: 1.86s\tremaining: 740ms\n",
      "715:\tlearn: 0.3183270\ttotal: 1.86s\tremaining: 738ms\n",
      "716:\tlearn: 0.3182746\ttotal: 1.86s\tremaining: 735ms\n",
      "717:\tlearn: 0.3182007\ttotal: 1.86s\tremaining: 733ms\n",
      "718:\tlearn: 0.3181309\ttotal: 1.87s\tremaining: 730ms\n",
      "719:\tlearn: 0.3179926\ttotal: 1.87s\tremaining: 727ms\n",
      "720:\tlearn: 0.3178476\ttotal: 1.87s\tremaining: 725ms\n",
      "721:\tlearn: 0.3177380\ttotal: 1.88s\tremaining: 722ms\n",
      "722:\tlearn: 0.3176092\ttotal: 1.88s\tremaining: 719ms\n",
      "723:\tlearn: 0.3175257\ttotal: 1.88s\tremaining: 717ms\n"
     ]
    },
    {
     "name": "stdout",
     "output_type": "stream",
     "text": [
      "724:\tlearn: 0.3174152\ttotal: 1.88s\tremaining: 714ms\n",
      "725:\tlearn: 0.3173477\ttotal: 1.89s\tremaining: 711ms\n",
      "726:\tlearn: 0.3172412\ttotal: 1.89s\tremaining: 709ms\n",
      "727:\tlearn: 0.3171725\ttotal: 1.89s\tremaining: 706ms\n",
      "728:\tlearn: 0.3170697\ttotal: 1.89s\tremaining: 704ms\n",
      "729:\tlearn: 0.3169294\ttotal: 1.9s\tremaining: 701ms\n",
      "730:\tlearn: 0.3167881\ttotal: 1.9s\tremaining: 698ms\n",
      "731:\tlearn: 0.3167058\ttotal: 1.9s\tremaining: 696ms\n",
      "732:\tlearn: 0.3166255\ttotal: 1.9s\tremaining: 693ms\n",
      "733:\tlearn: 0.3165624\ttotal: 1.9s\tremaining: 690ms\n",
      "734:\tlearn: 0.3165078\ttotal: 1.91s\tremaining: 688ms\n",
      "735:\tlearn: 0.3164131\ttotal: 1.91s\tremaining: 685ms\n",
      "736:\tlearn: 0.3163165\ttotal: 1.91s\tremaining: 682ms\n",
      "737:\tlearn: 0.3161686\ttotal: 1.91s\tremaining: 680ms\n",
      "738:\tlearn: 0.3160995\ttotal: 1.92s\tremaining: 677ms\n",
      "739:\tlearn: 0.3160434\ttotal: 1.92s\tremaining: 674ms\n",
      "740:\tlearn: 0.3159845\ttotal: 1.92s\tremaining: 672ms\n",
      "741:\tlearn: 0.3159020\ttotal: 1.92s\tremaining: 669ms\n",
      "742:\tlearn: 0.3157968\ttotal: 1.93s\tremaining: 666ms\n",
      "743:\tlearn: 0.3156776\ttotal: 1.93s\tremaining: 663ms\n",
      "744:\tlearn: 0.3155625\ttotal: 1.93s\tremaining: 661ms\n",
      "745:\tlearn: 0.3154155\ttotal: 1.93s\tremaining: 658ms\n",
      "746:\tlearn: 0.3153110\ttotal: 1.94s\tremaining: 656ms\n",
      "747:\tlearn: 0.3152149\ttotal: 1.94s\tremaining: 653ms\n",
      "748:\tlearn: 0.3151476\ttotal: 1.94s\tremaining: 650ms\n",
      "749:\tlearn: 0.3150754\ttotal: 1.94s\tremaining: 648ms\n",
      "750:\tlearn: 0.3149757\ttotal: 1.95s\tremaining: 645ms\n",
      "751:\tlearn: 0.3149254\ttotal: 1.95s\tremaining: 642ms\n",
      "752:\tlearn: 0.3148605\ttotal: 1.95s\tremaining: 640ms\n"
     ]
    },
    {
     "name": "stdout",
     "output_type": "stream",
     "text": [
      "753:\tlearn: 0.3147957\ttotal: 1.95s\tremaining: 637ms\n",
      "754:\tlearn: 0.3147441\ttotal: 1.96s\tremaining: 634ms\n",
      "755:\tlearn: 0.3146873\ttotal: 1.96s\tremaining: 632ms\n",
      "756:\tlearn: 0.3145855\ttotal: 1.96s\tremaining: 629ms\n",
      "757:\tlearn: 0.3144587\ttotal: 1.96s\tremaining: 627ms\n",
      "758:\tlearn: 0.3143885\ttotal: 1.97s\tremaining: 624ms\n",
      "759:\tlearn: 0.3142753\ttotal: 1.97s\tremaining: 621ms\n",
      "760:\tlearn: 0.3141453\ttotal: 1.97s\tremaining: 619ms\n",
      "761:\tlearn: 0.3140379\ttotal: 1.97s\tremaining: 616ms\n",
      "762:\tlearn: 0.3138952\ttotal: 1.97s\tremaining: 613ms\n",
      "763:\tlearn: 0.3138484\ttotal: 1.98s\tremaining: 611ms\n",
      "764:\tlearn: 0.3137466\ttotal: 1.98s\tremaining: 608ms\n",
      "765:\tlearn: 0.3136473\ttotal: 1.98s\tremaining: 605ms\n",
      "766:\tlearn: 0.3135050\ttotal: 1.98s\tremaining: 603ms\n",
      "767:\tlearn: 0.3134149\ttotal: 1.99s\tremaining: 600ms\n",
      "768:\tlearn: 0.3132878\ttotal: 1.99s\tremaining: 598ms\n",
      "769:\tlearn: 0.3132221\ttotal: 1.99s\tremaining: 595ms\n",
      "770:\tlearn: 0.3131213\ttotal: 1.99s\tremaining: 592ms\n",
      "771:\tlearn: 0.3130139\ttotal: 2s\tremaining: 590ms\n",
      "772:\tlearn: 0.3128650\ttotal: 2s\tremaining: 587ms\n",
      "773:\tlearn: 0.3127752\ttotal: 2s\tremaining: 584ms\n",
      "774:\tlearn: 0.3126411\ttotal: 2s\tremaining: 582ms\n",
      "775:\tlearn: 0.3124558\ttotal: 2.01s\tremaining: 579ms\n",
      "776:\tlearn: 0.3123941\ttotal: 2.01s\tremaining: 577ms\n",
      "777:\tlearn: 0.3122586\ttotal: 2.01s\tremaining: 574ms\n",
      "778:\tlearn: 0.3121948\ttotal: 2.01s\tremaining: 571ms\n",
      "779:\tlearn: 0.3121139\ttotal: 2.02s\tremaining: 569ms\n",
      "780:\tlearn: 0.3120319\ttotal: 2.02s\tremaining: 566ms\n",
      "781:\tlearn: 0.3119505\ttotal: 2.02s\tremaining: 564ms\n",
      "782:\tlearn: 0.3118314\ttotal: 2.02s\tremaining: 561ms\n",
      "783:\tlearn: 0.3117921\ttotal: 2.03s\tremaining: 558ms\n",
      "784:\tlearn: 0.3117320\ttotal: 2.03s\tremaining: 556ms\n",
      "785:\tlearn: 0.3116372\ttotal: 2.03s\tremaining: 553ms\n",
      "786:\tlearn: 0.3115468\ttotal: 2.03s\tremaining: 550ms\n",
      "787:\tlearn: 0.3114760\ttotal: 2.04s\tremaining: 548ms\n",
      "788:\tlearn: 0.3113456\ttotal: 2.04s\tremaining: 545ms\n",
      "789:\tlearn: 0.3112227\ttotal: 2.04s\tremaining: 543ms\n",
      "790:\tlearn: 0.3111593\ttotal: 2.04s\tremaining: 540ms\n",
      "791:\tlearn: 0.3110996\ttotal: 2.05s\tremaining: 537ms\n",
      "792:\tlearn: 0.3110268\ttotal: 2.05s\tremaining: 535ms\n",
      "793:\tlearn: 0.3109421\ttotal: 2.05s\tremaining: 532ms\n",
      "794:\tlearn: 0.3108284\ttotal: 2.05s\tremaining: 530ms\n",
      "795:\tlearn: 0.3107730\ttotal: 2.06s\tremaining: 527ms\n",
      "796:\tlearn: 0.3107181\ttotal: 2.06s\tremaining: 524ms\n",
      "797:\tlearn: 0.3106078\ttotal: 2.06s\tremaining: 522ms\n",
      "798:\tlearn: 0.3105492\ttotal: 2.06s\tremaining: 519ms\n",
      "799:\tlearn: 0.3104573\ttotal: 2.07s\tremaining: 517ms\n",
      "800:\tlearn: 0.3103963\ttotal: 2.07s\tremaining: 514ms\n",
      "801:\tlearn: 0.3103240\ttotal: 2.07s\tremaining: 511ms\n",
      "802:\tlearn: 0.3102384\ttotal: 2.07s\tremaining: 509ms\n",
      "803:\tlearn: 0.3101731\ttotal: 2.08s\tremaining: 506ms\n"
     ]
    },
    {
     "name": "stdout",
     "output_type": "stream",
     "text": [
      "804:\tlearn: 0.3100892\ttotal: 2.08s\tremaining: 504ms\n",
      "805:\tlearn: 0.3100150\ttotal: 2.08s\tremaining: 501ms\n",
      "806:\tlearn: 0.3099590\ttotal: 2.08s\tremaining: 498ms\n",
      "807:\tlearn: 0.3098523\ttotal: 2.09s\tremaining: 496ms\n",
      "808:\tlearn: 0.3097603\ttotal: 2.09s\tremaining: 493ms\n",
      "809:\tlearn: 0.3096130\ttotal: 2.09s\tremaining: 491ms\n",
      "810:\tlearn: 0.3095519\ttotal: 2.09s\tremaining: 488ms\n",
      "811:\tlearn: 0.3094948\ttotal: 2.1s\tremaining: 486ms\n",
      "812:\tlearn: 0.3093352\ttotal: 2.1s\tremaining: 483ms\n",
      "813:\tlearn: 0.3092509\ttotal: 2.1s\tremaining: 480ms\n",
      "814:\tlearn: 0.3091595\ttotal: 2.1s\tremaining: 478ms\n",
      "815:\tlearn: 0.3090766\ttotal: 2.11s\tremaining: 475ms\n",
      "816:\tlearn: 0.3089450\ttotal: 2.11s\tremaining: 473ms\n",
      "817:\tlearn: 0.3088589\ttotal: 2.11s\tremaining: 470ms\n",
      "818:\tlearn: 0.3087250\ttotal: 2.11s\tremaining: 467ms\n",
      "819:\tlearn: 0.3085683\ttotal: 2.12s\tremaining: 465ms\n",
      "820:\tlearn: 0.3084927\ttotal: 2.12s\tremaining: 462ms\n",
      "821:\tlearn: 0.3084296\ttotal: 2.12s\tremaining: 459ms\n",
      "822:\tlearn: 0.3083799\ttotal: 2.12s\tremaining: 457ms\n",
      "823:\tlearn: 0.3082994\ttotal: 2.13s\tremaining: 454ms\n",
      "824:\tlearn: 0.3082480\ttotal: 2.13s\tremaining: 452ms\n",
      "825:\tlearn: 0.3081667\ttotal: 2.13s\tremaining: 449ms\n",
      "826:\tlearn: 0.3080882\ttotal: 2.13s\tremaining: 446ms\n",
      "827:\tlearn: 0.3080071\ttotal: 2.14s\tremaining: 444ms\n",
      "828:\tlearn: 0.3079008\ttotal: 2.14s\tremaining: 441ms\n",
      "829:\tlearn: 0.3078580\ttotal: 2.14s\tremaining: 439ms\n",
      "830:\tlearn: 0.3077385\ttotal: 2.14s\tremaining: 436ms\n",
      "831:\tlearn: 0.3076821\ttotal: 2.15s\tremaining: 433ms\n"
     ]
    },
    {
     "name": "stdout",
     "output_type": "stream",
     "text": [
      "832:\tlearn: 0.3075971\ttotal: 2.15s\tremaining: 431ms\n",
      "833:\tlearn: 0.3075133\ttotal: 2.15s\tremaining: 428ms\n",
      "834:\tlearn: 0.3074713\ttotal: 2.15s\tremaining: 426ms\n",
      "835:\tlearn: 0.3073887\ttotal: 2.16s\tremaining: 423ms\n",
      "836:\tlearn: 0.3073092\ttotal: 2.16s\tremaining: 420ms\n",
      "837:\tlearn: 0.3072069\ttotal: 2.16s\tremaining: 418ms\n",
      "838:\tlearn: 0.3071446\ttotal: 2.16s\tremaining: 415ms\n",
      "839:\tlearn: 0.3070764\ttotal: 2.17s\tremaining: 413ms\n",
      "840:\tlearn: 0.3070260\ttotal: 2.17s\tremaining: 411ms\n",
      "841:\tlearn: 0.3069261\ttotal: 2.17s\tremaining: 408ms\n",
      "842:\tlearn: 0.3068044\ttotal: 2.18s\tremaining: 406ms\n",
      "843:\tlearn: 0.3067236\ttotal: 2.18s\tremaining: 403ms\n",
      "844:\tlearn: 0.3066379\ttotal: 2.18s\tremaining: 400ms\n",
      "845:\tlearn: 0.3065495\ttotal: 2.19s\tremaining: 398ms\n",
      "846:\tlearn: 0.3064687\ttotal: 2.19s\tremaining: 395ms\n",
      "847:\tlearn: 0.3063777\ttotal: 2.19s\tremaining: 393ms\n",
      "848:\tlearn: 0.3062788\ttotal: 2.19s\tremaining: 390ms\n",
      "849:\tlearn: 0.3061950\ttotal: 2.19s\tremaining: 387ms\n",
      "850:\tlearn: 0.3061109\ttotal: 2.2s\tremaining: 385ms\n",
      "851:\tlearn: 0.3060408\ttotal: 2.2s\tremaining: 382ms\n",
      "852:\tlearn: 0.3059463\ttotal: 2.2s\tremaining: 380ms\n",
      "853:\tlearn: 0.3058473\ttotal: 2.2s\tremaining: 377ms\n",
      "854:\tlearn: 0.3057174\ttotal: 2.21s\tremaining: 374ms\n",
      "855:\tlearn: 0.3056508\ttotal: 2.21s\tremaining: 372ms\n",
      "856:\tlearn: 0.3055432\ttotal: 2.21s\tremaining: 369ms\n",
      "857:\tlearn: 0.3054791\ttotal: 2.21s\tremaining: 366ms\n",
      "858:\tlearn: 0.3053567\ttotal: 2.22s\tremaining: 364ms\n",
      "859:\tlearn: 0.3052471\ttotal: 2.22s\tremaining: 361ms\n",
      "860:\tlearn: 0.3051781\ttotal: 2.22s\tremaining: 359ms\n",
      "861:\tlearn: 0.3051044\ttotal: 2.22s\tremaining: 356ms\n",
      "862:\tlearn: 0.3050198\ttotal: 2.23s\tremaining: 354ms\n",
      "863:\tlearn: 0.3049673\ttotal: 2.23s\tremaining: 351ms\n",
      "864:\tlearn: 0.3048828\ttotal: 2.23s\tremaining: 348ms\n",
      "865:\tlearn: 0.3047898\ttotal: 2.23s\tremaining: 346ms\n",
      "866:\tlearn: 0.3046971\ttotal: 2.23s\tremaining: 343ms\n",
      "867:\tlearn: 0.3046487\ttotal: 2.24s\tremaining: 340ms\n",
      "868:\tlearn: 0.3045706\ttotal: 2.24s\tremaining: 338ms\n",
      "869:\tlearn: 0.3045127\ttotal: 2.24s\tremaining: 335ms\n",
      "870:\tlearn: 0.3044677\ttotal: 2.25s\tremaining: 333ms\n",
      "871:\tlearn: 0.3043831\ttotal: 2.25s\tremaining: 330ms\n",
      "872:\tlearn: 0.3043188\ttotal: 2.25s\tremaining: 328ms\n",
      "873:\tlearn: 0.3042117\ttotal: 2.25s\tremaining: 325ms\n",
      "874:\tlearn: 0.3041491\ttotal: 2.25s\tremaining: 322ms\n",
      "875:\tlearn: 0.3041049\ttotal: 2.26s\tremaining: 320ms\n",
      "876:\tlearn: 0.3040210\ttotal: 2.26s\tremaining: 317ms\n",
      "877:\tlearn: 0.3039411\ttotal: 2.26s\tremaining: 314ms\n",
      "878:\tlearn: 0.3038774\ttotal: 2.27s\tremaining: 312ms\n",
      "879:\tlearn: 0.3038194\ttotal: 2.27s\tremaining: 309ms\n",
      "880:\tlearn: 0.3037402\ttotal: 2.27s\tremaining: 307ms\n"
     ]
    },
    {
     "name": "stdout",
     "output_type": "stream",
     "text": [
      "881:\tlearn: 0.3036375\ttotal: 2.27s\tremaining: 304ms\n",
      "882:\tlearn: 0.3035929\ttotal: 2.27s\tremaining: 301ms\n",
      "883:\tlearn: 0.3035212\ttotal: 2.28s\tremaining: 299ms\n",
      "884:\tlearn: 0.3034075\ttotal: 2.28s\tremaining: 296ms\n",
      "885:\tlearn: 0.3032841\ttotal: 2.28s\tremaining: 294ms\n",
      "886:\tlearn: 0.3032153\ttotal: 2.29s\tremaining: 291ms\n",
      "887:\tlearn: 0.3031165\ttotal: 2.29s\tremaining: 289ms\n",
      "888:\tlearn: 0.3030705\ttotal: 2.29s\tremaining: 286ms\n",
      "889:\tlearn: 0.3029251\ttotal: 2.29s\tremaining: 283ms\n",
      "890:\tlearn: 0.3028558\ttotal: 2.29s\tremaining: 281ms\n",
      "891:\tlearn: 0.3028115\ttotal: 2.3s\tremaining: 278ms\n",
      "892:\tlearn: 0.3027500\ttotal: 2.3s\tremaining: 276ms\n",
      "893:\tlearn: 0.3026336\ttotal: 2.3s\tremaining: 273ms\n",
      "894:\tlearn: 0.3025577\ttotal: 2.3s\tremaining: 270ms\n",
      "895:\tlearn: 0.3024768\ttotal: 2.31s\tremaining: 268ms\n",
      "896:\tlearn: 0.3024016\ttotal: 2.31s\tremaining: 265ms\n",
      "897:\tlearn: 0.3023058\ttotal: 2.31s\tremaining: 263ms\n",
      "898:\tlearn: 0.3021940\ttotal: 2.31s\tremaining: 260ms\n",
      "899:\tlearn: 0.3021359\ttotal: 2.32s\tremaining: 257ms\n",
      "900:\tlearn: 0.3020131\ttotal: 2.32s\tremaining: 255ms\n",
      "901:\tlearn: 0.3019441\ttotal: 2.32s\tremaining: 252ms\n",
      "902:\tlearn: 0.3018856\ttotal: 2.32s\tremaining: 250ms\n",
      "903:\tlearn: 0.3018312\ttotal: 2.33s\tremaining: 247ms\n",
      "904:\tlearn: 0.3017738\ttotal: 2.33s\tremaining: 245ms\n",
      "905:\tlearn: 0.3017195\ttotal: 2.33s\tremaining: 242ms\n",
      "906:\tlearn: 0.3016682\ttotal: 2.33s\tremaining: 239ms\n",
      "907:\tlearn: 0.3016120\ttotal: 2.34s\tremaining: 237ms\n",
      "908:\tlearn: 0.3015330\ttotal: 2.34s\tremaining: 234ms\n",
      "909:\tlearn: 0.3014650\ttotal: 2.34s\tremaining: 232ms\n"
     ]
    },
    {
     "name": "stdout",
     "output_type": "stream",
     "text": [
      "910:\tlearn: 0.3013404\ttotal: 2.34s\tremaining: 229ms\n",
      "911:\tlearn: 0.3012545\ttotal: 2.35s\tremaining: 227ms\n",
      "912:\tlearn: 0.3011954\ttotal: 2.35s\tremaining: 224ms\n",
      "913:\tlearn: 0.3011436\ttotal: 2.35s\tremaining: 221ms\n",
      "914:\tlearn: 0.3010167\ttotal: 2.35s\tremaining: 219ms\n",
      "915:\tlearn: 0.3009336\ttotal: 2.36s\tremaining: 216ms\n",
      "916:\tlearn: 0.3008364\ttotal: 2.36s\tremaining: 214ms\n",
      "917:\tlearn: 0.3007567\ttotal: 2.36s\tremaining: 211ms\n",
      "918:\tlearn: 0.3006906\ttotal: 2.37s\tremaining: 209ms\n",
      "919:\tlearn: 0.3005964\ttotal: 2.37s\tremaining: 206ms\n",
      "920:\tlearn: 0.3004883\ttotal: 2.37s\tremaining: 203ms\n",
      "921:\tlearn: 0.3004343\ttotal: 2.37s\tremaining: 201ms\n",
      "922:\tlearn: 0.3003606\ttotal: 2.38s\tremaining: 198ms\n",
      "923:\tlearn: 0.3002995\ttotal: 2.38s\tremaining: 196ms\n",
      "924:\tlearn: 0.3001942\ttotal: 2.38s\tremaining: 193ms\n",
      "925:\tlearn: 0.3000924\ttotal: 2.38s\tremaining: 191ms\n",
      "926:\tlearn: 0.3000304\ttotal: 2.39s\tremaining: 188ms\n",
      "927:\tlearn: 0.2999819\ttotal: 2.39s\tremaining: 185ms\n",
      "928:\tlearn: 0.2998605\ttotal: 2.39s\tremaining: 183ms\n",
      "929:\tlearn: 0.2997902\ttotal: 2.39s\tremaining: 180ms\n",
      "930:\tlearn: 0.2997380\ttotal: 2.4s\tremaining: 178ms\n",
      "931:\tlearn: 0.2996577\ttotal: 2.4s\tremaining: 175ms\n",
      "932:\tlearn: 0.2996003\ttotal: 2.4s\tremaining: 172ms\n",
      "933:\tlearn: 0.2995419\ttotal: 2.4s\tremaining: 170ms\n",
      "934:\tlearn: 0.2994749\ttotal: 2.4s\tremaining: 167ms\n",
      "935:\tlearn: 0.2994052\ttotal: 2.41s\tremaining: 165ms\n",
      "936:\tlearn: 0.2993103\ttotal: 2.41s\tremaining: 162ms\n",
      "937:\tlearn: 0.2992538\ttotal: 2.41s\tremaining: 160ms\n",
      "938:\tlearn: 0.2991990\ttotal: 2.42s\tremaining: 157ms\n",
      "939:\tlearn: 0.2991300\ttotal: 2.42s\tremaining: 154ms\n",
      "940:\tlearn: 0.2989906\ttotal: 2.42s\tremaining: 152ms\n",
      "941:\tlearn: 0.2989109\ttotal: 2.42s\tremaining: 149ms\n",
      "942:\tlearn: 0.2987884\ttotal: 2.43s\tremaining: 147ms\n",
      "943:\tlearn: 0.2987228\ttotal: 2.43s\tremaining: 144ms\n",
      "944:\tlearn: 0.2986614\ttotal: 2.43s\tremaining: 142ms\n",
      "945:\tlearn: 0.2985985\ttotal: 2.43s\tremaining: 139ms\n",
      "946:\tlearn: 0.2985251\ttotal: 2.44s\tremaining: 136ms\n",
      "947:\tlearn: 0.2984632\ttotal: 2.44s\tremaining: 134ms\n",
      "948:\tlearn: 0.2983406\ttotal: 2.44s\tremaining: 131ms\n",
      "949:\tlearn: 0.2982699\ttotal: 2.44s\tremaining: 129ms\n",
      "950:\tlearn: 0.2982145\ttotal: 2.45s\tremaining: 126ms\n",
      "951:\tlearn: 0.2980886\ttotal: 2.45s\tremaining: 123ms\n",
      "952:\tlearn: 0.2980164\ttotal: 2.45s\tremaining: 121ms\n",
      "953:\tlearn: 0.2979424\ttotal: 2.45s\tremaining: 118ms\n",
      "954:\tlearn: 0.2979005\ttotal: 2.46s\tremaining: 116ms\n",
      "955:\tlearn: 0.2978221\ttotal: 2.46s\tremaining: 113ms\n",
      "956:\tlearn: 0.2977318\ttotal: 2.46s\tremaining: 111ms\n",
      "957:\tlearn: 0.2976730\ttotal: 2.46s\tremaining: 108ms\n",
      "958:\tlearn: 0.2976016\ttotal: 2.46s\tremaining: 105ms\n"
     ]
    },
    {
     "name": "stdout",
     "output_type": "stream",
     "text": [
      "959:\tlearn: 0.2975311\ttotal: 2.47s\tremaining: 103ms\n",
      "960:\tlearn: 0.2974467\ttotal: 2.47s\tremaining: 100ms\n",
      "961:\tlearn: 0.2973920\ttotal: 2.47s\tremaining: 97.7ms\n",
      "962:\tlearn: 0.2973089\ttotal: 2.48s\tremaining: 95.2ms\n",
      "963:\tlearn: 0.2972541\ttotal: 2.48s\tremaining: 92.6ms\n",
      "964:\tlearn: 0.2971826\ttotal: 2.48s\tremaining: 90ms\n",
      "965:\tlearn: 0.2971189\ttotal: 2.48s\tremaining: 87.4ms\n",
      "966:\tlearn: 0.2970167\ttotal: 2.49s\tremaining: 84.9ms\n",
      "967:\tlearn: 0.2969179\ttotal: 2.49s\tremaining: 82.3ms\n",
      "968:\tlearn: 0.2968536\ttotal: 2.49s\tremaining: 79.7ms\n",
      "969:\tlearn: 0.2967836\ttotal: 2.5s\tremaining: 77.2ms\n",
      "970:\tlearn: 0.2966505\ttotal: 2.5s\tremaining: 74.6ms\n",
      "971:\tlearn: 0.2965907\ttotal: 2.5s\tremaining: 72ms\n",
      "972:\tlearn: 0.2965054\ttotal: 2.5s\tremaining: 69.4ms\n",
      "973:\tlearn: 0.2963869\ttotal: 2.5s\tremaining: 66.9ms\n",
      "974:\tlearn: 0.2963036\ttotal: 2.51s\tremaining: 64.3ms\n",
      "975:\tlearn: 0.2962630\ttotal: 2.51s\tremaining: 61.7ms\n",
      "976:\tlearn: 0.2961985\ttotal: 2.51s\tremaining: 59.1ms\n",
      "977:\tlearn: 0.2961453\ttotal: 2.51s\tremaining: 56.6ms\n",
      "978:\tlearn: 0.2960925\ttotal: 2.52s\tremaining: 54ms\n",
      "979:\tlearn: 0.2960292\ttotal: 2.52s\tremaining: 51.4ms\n",
      "980:\tlearn: 0.2959559\ttotal: 2.52s\tremaining: 48.9ms\n",
      "981:\tlearn: 0.2958650\ttotal: 2.52s\tremaining: 46.3ms\n",
      "982:\tlearn: 0.2958019\ttotal: 2.53s\tremaining: 43.7ms\n",
      "983:\tlearn: 0.2957448\ttotal: 2.53s\tremaining: 41.1ms\n",
      "984:\tlearn: 0.2956476\ttotal: 2.53s\tremaining: 38.6ms\n",
      "985:\tlearn: 0.2955601\ttotal: 2.54s\tremaining: 36ms\n",
      "986:\tlearn: 0.2954797\ttotal: 2.54s\tremaining: 33.4ms\n"
     ]
    },
    {
     "name": "stdout",
     "output_type": "stream",
     "text": [
      "987:\tlearn: 0.2953741\ttotal: 2.54s\tremaining: 30.8ms\n",
      "988:\tlearn: 0.2953398\ttotal: 2.54s\tremaining: 28.3ms\n",
      "989:\tlearn: 0.2952539\ttotal: 2.54s\tremaining: 25.7ms\n",
      "990:\tlearn: 0.2952158\ttotal: 2.55s\tremaining: 23.1ms\n",
      "991:\tlearn: 0.2951061\ttotal: 2.55s\tremaining: 20.6ms\n",
      "992:\tlearn: 0.2950443\ttotal: 2.55s\tremaining: 18ms\n",
      "993:\tlearn: 0.2949607\ttotal: 2.55s\tremaining: 15.4ms\n",
      "994:\tlearn: 0.2949356\ttotal: 2.56s\tremaining: 12.8ms\n",
      "995:\tlearn: 0.2948705\ttotal: 2.56s\tremaining: 10.3ms\n",
      "996:\tlearn: 0.2948195\ttotal: 2.56s\tremaining: 7.71ms\n",
      "997:\tlearn: 0.2947405\ttotal: 2.56s\tremaining: 5.14ms\n",
      "998:\tlearn: 0.2946501\ttotal: 2.57s\tremaining: 2.57ms\n",
      "999:\tlearn: 0.2945823\ttotal: 2.57s\tremaining: 0us\n",
      "Mean Squared error 0.14685990254776077\n"
     ]
    },
    {
     "data": {
      "application/scrapbook.scrap.json+json": {
       "data": 0.14685990254776077,
       "encoder": "json",
       "name": "Catboost MSE",
       "version": 1
      }
     },
     "metadata": {
      "scrapbook": {
       "data": true,
       "display": false,
       "name": "Catboost MSE"
      }
     },
     "output_type": "display_data"
    }
   ],
   "source": [
    "mse_cb = baselineModels.catboost(X_train,y_train,X_test,y_test)\n",
    "#Store MSE Value \n",
    "sb.glue(\"Catboost MSE\",mse_cb)"
   ]
  },
  {
   "cell_type": "markdown",
   "id": "6ddc67a7",
   "metadata": {
    "papermill": {
     "duration": 0.012345,
     "end_time": "2021-12-24T13:43:23.423998",
     "exception": false,
     "start_time": "2021-12-24T13:43:23.411653",
     "status": "completed"
    },
    "tags": []
   },
   "source": [
    "## Vanilla Neural Network "
   ]
  },
  {
   "cell_type": "code",
   "execution_count": 8,
   "id": "9ef63239",
   "metadata": {
    "execution": {
     "iopub.execute_input": "2021-12-24T13:43:23.451570Z",
     "iopub.status.busy": "2021-12-24T13:43:23.451095Z",
     "iopub.status.idle": "2021-12-24T13:48:06.077050Z",
     "shell.execute_reply": "2021-12-24T13:48:06.076770Z"
    },
    "papermill": {
     "duration": 282.64097,
     "end_time": "2021-12-24T13:48:06.077162",
     "exception": false,
     "start_time": "2021-12-24T13:43:23.436192",
     "status": "completed"
    },
    "tags": []
   },
   "outputs": [
    {
     "data": {
      "application/scrapbook.scrap.json+json": {
       "data": 0.9967385437335265,
       "encoder": "json",
       "name": "Vanilla NN MSE",
       "version": 1
      }
     },
     "metadata": {
      "scrapbook": {
       "data": true,
       "display": false,
       "name": "Vanilla NN MSE"
      }
     },
     "output_type": "display_data"
    },
    {
     "name": "stdout",
     "output_type": "stream",
     "text": [
      "Mean Squared error 0.9967385437335265\n"
     ]
    }
   ],
   "source": [
    "# Parameters \n",
    "n_epochs = 1000\n",
    "batch_size = 1000\n",
    "device = torch.device('cuda' if torch.cuda.is_available() else 'cpu')\n",
    "baselineModels.vanillaNeuralNetwork(train_data,test_data,batch_size,n_features,n_target,n_epochs)"
   ]
  }
 ],
 "metadata": {
  "interpreter": {
   "hash": "10498c76ddd8160350534c6544a2b2fb65f2138dbc70420f7c81a3268f830f23"
  },
  "kernelspec": {
   "display_name": "Python 3 (ipykernel)",
   "language": "python",
   "name": "python3"
  },
  "language_info": {
   "codemirror_mode": {
    "name": "ipython",
    "version": 3
   },
   "file_extension": ".py",
   "mimetype": "text/x-python",
   "name": "python",
   "nbconvert_exporter": "python",
   "pygments_lexer": "ipython3",
   "version": "3.8.11"
  },
  "papermill": {
   "default_parameters": {},
   "duration": 291.064027,
   "end_time": "2021-12-24T13:48:06.395665",
   "environment_variables": {},
   "exception": null,
   "input_path": "BaselineModels.ipynb",
   "output_path": "./BaseLine_Model_Output/baselineModels_output_9.ipynb",
   "parameters": {},
   "start_time": "2021-12-24T13:43:15.331638",
   "version": "2.3.3"
  }
 },
 "nbformat": 4,
 "nbformat_minor": 5
}