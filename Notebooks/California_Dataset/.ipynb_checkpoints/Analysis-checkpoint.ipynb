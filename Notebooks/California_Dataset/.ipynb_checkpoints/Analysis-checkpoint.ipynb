{
 "cells": [
  {
   "cell_type": "markdown",
   "id": "25388909",
   "metadata": {},
   "source": [
    "# Analysis for California Dataset"
   ]
  },
  {
   "cell_type": "code",
   "execution_count": 6,
   "id": "423b7ca4",
   "metadata": {
    "id": "423b7ca4"
   },
   "outputs": [],
   "source": [
    "import warnings\n",
    "warnings.filterwarnings('ignore')"
   ]
  },
  {
   "cell_type": "code",
   "execution_count": 7,
   "id": "618121c9",
   "metadata": {
    "id": "618121c9"
   },
   "outputs": [],
   "source": [
    "import scrapbook as sb \n",
    "import pandas as pd\n",
    "import numpy as np \n",
    "import seaborn as sns \n",
    "import numpy as np\n",
    "from statistics import mean\n",
    "import matplotlib.pyplot as plt"
   ]
  },
  {
   "cell_type": "markdown",
   "id": "8842137f",
   "metadata": {
    "id": "8842137f"
   },
   "source": [
    "## BaseLine Models \n",
    "\n",
    "We have used Random Forest, Catboost, Vanilla NN and Stats Model as the Baseline Model for the problem \n",
    "\n",
    "Importing data of baseline Models "
   ]
  },
  {
   "cell_type": "code",
   "execution_count": 9,
   "id": "a9dce367",
   "metadata": {
    "id": "a9dce367",
    "outputId": "aa901be1-ff74-4b63-b561-a45753fe68d2"
   },
   "outputs": [
    {
     "data": {
      "text/html": [
       "<div>\n",
       "<style scoped>\n",
       "    .dataframe tbody tr th:only-of-type {\n",
       "        vertical-align: middle;\n",
       "    }\n",
       "\n",
       "    .dataframe tbody tr th {\n",
       "        vertical-align: top;\n",
       "    }\n",
       "\n",
       "    .dataframe thead th {\n",
       "        text-align: right;\n",
       "    }\n",
       "</style>\n",
       "<table border=\"1\" class=\"dataframe\">\n",
       "  <thead>\n",
       "    <tr style=\"text-align: right;\">\n",
       "      <th></th>\n",
       "      <th>Catboost</th>\n",
       "      <th>Stats Model</th>\n",
       "      <th>Random Forest</th>\n",
       "      <th>Vanilla Neural Network</th>\n",
       "    </tr>\n",
       "  </thead>\n",
       "  <tbody>\n",
       "    <tr>\n",
       "      <th>0</th>\n",
       "      <td>0.144145</td>\n",
       "      <td>0.402561</td>\n",
       "      <td>0.375378</td>\n",
       "      <td>0.971213</td>\n",
       "    </tr>\n",
       "    <tr>\n",
       "      <th>1</th>\n",
       "      <td>0.146537</td>\n",
       "      <td>0.387095</td>\n",
       "      <td>0.382015</td>\n",
       "      <td>1.009413</td>\n",
       "    </tr>\n",
       "    <tr>\n",
       "      <th>2</th>\n",
       "      <td>0.140133</td>\n",
       "      <td>0.392521</td>\n",
       "      <td>0.382660</td>\n",
       "      <td>0.994935</td>\n",
       "    </tr>\n",
       "    <tr>\n",
       "      <th>3</th>\n",
       "      <td>0.148387</td>\n",
       "      <td>0.393289</td>\n",
       "      <td>0.390873</td>\n",
       "      <td>0.976467</td>\n",
       "    </tr>\n",
       "    <tr>\n",
       "      <th>4</th>\n",
       "      <td>0.147693</td>\n",
       "      <td>0.417347</td>\n",
       "      <td>0.388755</td>\n",
       "      <td>0.999524</td>\n",
       "    </tr>\n",
       "    <tr>\n",
       "      <th>5</th>\n",
       "      <td>0.141518</td>\n",
       "      <td>0.381309</td>\n",
       "      <td>0.356310</td>\n",
       "      <td>0.975415</td>\n",
       "    </tr>\n",
       "    <tr>\n",
       "      <th>6</th>\n",
       "      <td>0.145613</td>\n",
       "      <td>0.403077</td>\n",
       "      <td>0.380829</td>\n",
       "      <td>1.046506</td>\n",
       "    </tr>\n",
       "    <tr>\n",
       "      <th>7</th>\n",
       "      <td>0.144509</td>\n",
       "      <td>0.389052</td>\n",
       "      <td>0.386161</td>\n",
       "      <td>0.998154</td>\n",
       "    </tr>\n",
       "    <tr>\n",
       "      <th>8</th>\n",
       "      <td>0.150077</td>\n",
       "      <td>0.405029</td>\n",
       "      <td>0.388871</td>\n",
       "      <td>1.003687</td>\n",
       "    </tr>\n",
       "    <tr>\n",
       "      <th>9</th>\n",
       "      <td>0.146860</td>\n",
       "      <td>0.397556</td>\n",
       "      <td>0.384262</td>\n",
       "      <td>0.996739</td>\n",
       "    </tr>\n",
       "  </tbody>\n",
       "</table>\n",
       "</div>"
      ],
      "text/plain": [
       "   Catboost  Stats Model  Random Forest  Vanilla Neural Network\n",
       "0  0.144145     0.402561       0.375378                0.971213\n",
       "1  0.146537     0.387095       0.382015                1.009413\n",
       "2  0.140133     0.392521       0.382660                0.994935\n",
       "3  0.148387     0.393289       0.390873                0.976467\n",
       "4  0.147693     0.417347       0.388755                0.999524\n",
       "5  0.141518     0.381309       0.356310                0.975415\n",
       "6  0.145613     0.403077       0.380829                1.046506\n",
       "7  0.144509     0.389052       0.386161                0.998154\n",
       "8  0.150077     0.405029       0.388871                1.003687\n",
       "9  0.146860     0.397556       0.384262                0.996739"
      ]
     },
     "metadata": {},
     "output_type": "display_data"
    },
    {
     "name": "stdout",
     "output_type": "stream",
     "text": [
      "MEAN:\n",
      "Catboost                  0.145547\n",
      "Stats Model               0.396884\n",
      "Random Forest             0.381612\n",
      "Vanilla Neural Network    0.997205\n",
      "dtype: float64\n"
     ]
    }
   ],
   "source": [
    "books = sb.read_notebooks(\"./BaseLine_Model_Output\")\n",
    "baseLine_data = []\n",
    "for nb in books.notebooks: \n",
    "    nbList=[nb.scraps['Catboost MSE'].data,\n",
    "            nb.scraps['Stats Model MSE'].data,\n",
    "            nb.scraps['Random Forest MSE'].data,\n",
    "            nb.scraps['Vanilla NN MSE'].data]\n",
    "    baseLine_data.append(nbList)\n",
    "df = pd.DataFrame(baseLine_data, columns = [\"Catboost\",\"Stats Model\",\"Random Forest\",\"Vanilla Neural Network\"])\n",
    "display(df)\n",
    "print(\"MEAN:\")\n",
    "print(df.mean(axis = 0))\n",
    "baseLine_data = np.array(baseLine_data)"
   ]
  },
  {
   "cell_type": "markdown",
   "id": "5fcc83e7",
   "metadata": {
    "id": "5fcc83e7"
   },
   "source": [
    "## GAN \n",
    "\n",
    "Simple C-GAN was used to train the dataset "
   ]
  },
  {
   "cell_type": "code",
   "execution_count": 10,
   "id": "4301cf4d",
   "metadata": {
    "id": "4301cf4d",
    "outputId": "b844a978-10f8-434b-c146-ca7606969258"
   },
   "outputs": [
    {
     "data": {
      "text/html": [
       "<div>\n",
       "<style scoped>\n",
       "    .dataframe tbody tr th:only-of-type {\n",
       "        vertical-align: middle;\n",
       "    }\n",
       "\n",
       "    .dataframe tbody tr th {\n",
       "        vertical-align: top;\n",
       "    }\n",
       "\n",
       "    .dataframe thead th {\n",
       "        text-align: right;\n",
       "    }\n",
       "</style>\n",
       "<table border=\"1\" class=\"dataframe\">\n",
       "  <thead>\n",
       "    <tr style=\"text-align: right;\">\n",
       "      <th></th>\n",
       "      <th>MSE</th>\n",
       "      <th>MAE</th>\n",
       "      <th>Euclidean Distance</th>\n",
       "      <th>Manhattan Distance</th>\n",
       "      <th>Epochs</th>\n",
       "    </tr>\n",
       "  </thead>\n",
       "  <tbody>\n",
       "    <tr>\n",
       "      <th>0</th>\n",
       "      <td>0.344669</td>\n",
       "      <td>0.382632</td>\n",
       "      <td>37.718008</td>\n",
       "      <td>1579.503514</td>\n",
       "      <td>5000</td>\n",
       "    </tr>\n",
       "    <tr>\n",
       "      <th>1</th>\n",
       "      <td>0.315276</td>\n",
       "      <td>0.386188</td>\n",
       "      <td>36.074626</td>\n",
       "      <td>1594.183435</td>\n",
       "      <td>5000</td>\n",
       "    </tr>\n",
       "    <tr>\n",
       "      <th>2</th>\n",
       "      <td>0.388851</td>\n",
       "      <td>0.415491</td>\n",
       "      <td>40.062468</td>\n",
       "      <td>1715.148223</td>\n",
       "      <td>5000</td>\n",
       "    </tr>\n",
       "    <tr>\n",
       "      <th>3</th>\n",
       "      <td>0.461058</td>\n",
       "      <td>0.471094</td>\n",
       "      <td>43.624342</td>\n",
       "      <td>1944.677065</td>\n",
       "      <td>5000</td>\n",
       "    </tr>\n",
       "    <tr>\n",
       "      <th>4</th>\n",
       "      <td>0.334432</td>\n",
       "      <td>0.395961</td>\n",
       "      <td>37.153845</td>\n",
       "      <td>1634.526491</td>\n",
       "      <td>5000</td>\n",
       "    </tr>\n",
       "    <tr>\n",
       "      <th>5</th>\n",
       "      <td>0.383356</td>\n",
       "      <td>0.398691</td>\n",
       "      <td>39.778135</td>\n",
       "      <td>1645.796486</td>\n",
       "      <td>5000</td>\n",
       "    </tr>\n",
       "    <tr>\n",
       "      <th>6</th>\n",
       "      <td>0.463805</td>\n",
       "      <td>0.465104</td>\n",
       "      <td>43.752859</td>\n",
       "      <td>1919.947921</td>\n",
       "      <td>5000</td>\n",
       "    </tr>\n",
       "    <tr>\n",
       "      <th>7</th>\n",
       "      <td>0.348313</td>\n",
       "      <td>0.408673</td>\n",
       "      <td>37.917110</td>\n",
       "      <td>1687.001492</td>\n",
       "      <td>5000</td>\n",
       "    </tr>\n",
       "    <tr>\n",
       "      <th>8</th>\n",
       "      <td>0.350196</td>\n",
       "      <td>0.396515</td>\n",
       "      <td>38.019089</td>\n",
       "      <td>1636.812341</td>\n",
       "      <td>5000</td>\n",
       "    </tr>\n",
       "    <tr>\n",
       "      <th>9</th>\n",
       "      <td>0.386557</td>\n",
       "      <td>0.410137</td>\n",
       "      <td>39.944970</td>\n",
       "      <td>1693.043660</td>\n",
       "      <td>5000</td>\n",
       "    </tr>\n",
       "  </tbody>\n",
       "</table>\n",
       "</div>"
      ],
      "text/plain": [
       "        MSE       MAE  Euclidean Distance  Manhattan Distance  Epochs\n",
       "0  0.344669  0.382632           37.718008         1579.503514    5000\n",
       "1  0.315276  0.386188           36.074626         1594.183435    5000\n",
       "2  0.388851  0.415491           40.062468         1715.148223    5000\n",
       "3  0.461058  0.471094           43.624342         1944.677065    5000\n",
       "4  0.334432  0.395961           37.153845         1634.526491    5000\n",
       "5  0.383356  0.398691           39.778135         1645.796486    5000\n",
       "6  0.463805  0.465104           43.752859         1919.947921    5000\n",
       "7  0.348313  0.408673           37.917110         1687.001492    5000\n",
       "8  0.350196  0.396515           38.019089         1636.812341    5000\n",
       "9  0.386557  0.410137           39.944970         1693.043660    5000"
      ]
     },
     "metadata": {},
     "output_type": "display_data"
    },
    {
     "name": "stdout",
     "output_type": "stream",
     "text": [
      "MEAN:\n",
      "MSE                      0.377651\n",
      "MAE                      0.413048\n",
      "Euclidean Distance      39.404545\n",
      "Manhattan Distance    1705.064063\n",
      "Epochs                5000.000000\n",
      "dtype: float64\n"
     ]
    }
   ],
   "source": [
    "book = sb.read_notebooks(\"./GAN_Output\")\n",
    "gan_data = []\n",
    "gan_mse = []\n",
    "for nb in book.notebooks:\n",
    "    metrics = nb.scraps['GAN_1 Metrics'].data\n",
    "    for i in range(1000):\n",
    "        gan_mse.append(metrics[0][i])\n",
    "    nbList = [nb.scraps['GAN Model MSE'].data,\n",
    "              nb.scraps['GAN Model MAE'].data,\n",
    "              nb.scraps['GAN Model Euclidean distance'].data,\n",
    "              nb.scraps['GAN Model Manhattan Distance'].data]        \n",
    "    gan_data.append(nbList)\n",
    "df = pd.DataFrame(gan_data, columns = ['MSE','MAE','Euclidean Distance','Manhattan Distance'])\n",
    "display(df)\n",
    "print(\"MEAN:\")\n",
    "print(df.mean(axis = 0))\n",
    "gan_data = np.array(gan_data)"
   ]
  },
  {
   "cell_type": "markdown",
   "id": "QHn0n16e7bRm",
   "metadata": {
    "id": "QHn0n16e7bRm"
   },
   "source": [
    "## ABC_GAN  (Catboost Pre generator)"
   ]
  },
  {
   "cell_type": "code",
   "execution_count": null,
   "id": "8C8EybSI7bRp",
   "metadata": {
    "id": "8C8EybSI7bRp"
   },
   "outputs": [],
   "source": [
    "book = sb.read_notebooks(\"./ABC_GAN_Catboost_Output\")\n",
    "paramVal = [0.01,0.1,1]\n",
    "abc_mse = [[] for i in range(3)]\n",
    "abc_mse_skip = [[] for i in range(3)]\n",
    "abc_mse_mean = [[] for i in range(3)]\n",
    "abc_mse_skip_mean = [[] for i in range(3)]\n",
    "abc_weights = [[] for i in range(3)]\n",
    "abc_epochs = [[] for i in range(3)]\n",
    "\n",
    "for nb in book.notebooks:\n",
    "    metrics1 = np.array(nb.scraps['ABC_GAN_1 Metrics'].data)\n",
    "    metrics2 = np.array(nb.scraps['ABC_GAN_2 Metrics'].data)\n",
    "    metrics3 = np.array(nb.scraps['ABC_GAN_3 Metrics'].data)\n",
    "    paramVar = float(nb.papermill_dataframe.iloc[0]['value'])\n",
    "    #Divide data according to parameters \n",
    "    for i in range(3):\n",
    "        if paramVar == paramVal[i]:\n",
    "            for j in range(1000):\n",
    "                abc_mse[i].append(metrics1[0,j])\n",
    "                abc_mse_skip[i].append(metrics3[0,j])\n",
    "            abc_epochs[i].append(nb.scraps['ABC-GAN Model n_epochs'].data)\n",
    "            abc_weights[i].append(nb.scraps['Skip Connection Weight'].data)\n",
    "            abc_epochs[i].append(nb.scraps['ABC-GAN Model n_epochs'].data)\n",
    "            abc_mse_mean[i].append(mean(metrics1[0,:]))\n",
    "            abc_mse_skip_mean[i].append(mean(metrics3[0,:]))"
   ]
  },
  {
   "cell_type": "code",
   "execution_count": null,
   "id": "Zs4CaKjT7bRq",
   "metadata": {
    "id": "Zs4CaKjT7bRq",
    "outputId": "71508bf2-9bbe-411e-b9ca-f65577ddb98c"
   },
   "outputs": [
    {
     "name": "stdout",
     "output_type": "stream",
     "text": [
      "   Variance    Weight  ABC_Mean  Skip Connection ABC Mean  Epochs\n",
      "0      0.01  0.000000  0.142007                  0.005896      62\n",
      "1      0.01  0.005365  0.132533                  0.003611      62\n",
      "2      0.01  0.035787  0.388269                  0.011524    5000\n",
      "3      0.01  0.071458  0.157338                  5.350273    5000\n",
      "4      0.01  0.073413  0.277285                  0.010582      58\n",
      "Variance                       0.010000\n",
      "Weight                         0.037205\n",
      "ABC_Mean                       0.219486\n",
      "Skip Connection ABC Mean       1.076377\n",
      "Epochs                      2036.400000\n",
      "dtype: float64\n",
      "   Variance    Weight  ABC_Mean  Skip Connection ABC Mean  Epochs\n",
      "0       0.1  0.033136  0.241343                  0.015642      53\n",
      "1       0.1  0.000000  0.132892                  0.015136      53\n",
      "2       0.1  0.002828  0.110457                  0.015003     193\n",
      "3       0.1  0.039032  0.169502                  0.015846     193\n",
      "4       0.1  0.012134  0.056144                  0.017275      45\n",
      "Variance                      0.100000\n",
      "Weight                        0.017426\n",
      "ABC_Mean                      0.142068\n",
      "Skip Connection ABC Mean      0.015781\n",
      "Epochs                      107.400000\n",
      "dtype: float64\n",
      "   Variance    Weight  ABC_Mean  Skip Connection ABC Mean  Epochs\n",
      "0         1  0.717305  0.199444                  0.181074     554\n",
      "1         1  0.741823  0.295416                  0.220009     554\n",
      "2         1  0.973936  0.125268                  0.490795    5000\n",
      "3         1  0.886234  0.375375                  0.589509    5000\n",
      "4         1  0.833734  0.316354                  0.132037    3439\n",
      "Variance                       1.000000\n",
      "Weight                         0.830606\n",
      "ABC_Mean                       0.262371\n",
      "Skip Connection ABC Mean       0.322685\n",
      "Epochs                      2909.400000\n",
      "dtype: float64\n"
     ]
    }
   ],
   "source": [
    "for i in range(3):\n",
    "    data = []\n",
    "    for j in range(len(abc_weights[i])):\n",
    "        data.append([paramVal[i],abc_weights[i][j],abc_mse_mean[i][j],abc_mse_skip_mean[i][j],abc_epochs[i][j]])\n",
    "    df = pd.DataFrame(data, columns = ['Variance','Weight','ABC_Mean','Skip Connection ABC Mean','Epochs'])\n",
    "    print(df)\n",
    "    print(df.mean(axis=0))"
   ]
  }
 ],
 "metadata": {
  "colab": {
   "collapsed_sections": [
    "8842137f",
    "5fcc83e7",
    "db69b3bd"
   ],
   "name": "Analysis.ipynb",
   "provenance": []
  },
  "interpreter": {
   "hash": "10498c76ddd8160350534c6544a2b2fb65f2138dbc70420f7c81a3268f830f23"
  },
  "kernelspec": {
   "display_name": "Python 3 (ipykernel)",
   "language": "python",
   "name": "python3"
  },
  "language_info": {
   "codemirror_mode": {
    "name": "ipython",
    "version": 3
   },
   "file_extension": ".py",
   "mimetype": "text/x-python",
   "name": "python",
   "nbconvert_exporter": "python",
   "pygments_lexer": "ipython3",
   "version": "3.8.8"
  }
 },
 "nbformat": 4,
 "nbformat_minor": 5
}
