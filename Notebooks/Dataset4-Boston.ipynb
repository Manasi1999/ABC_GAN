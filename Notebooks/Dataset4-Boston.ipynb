{
 "cells": [
  {
   "cell_type": "markdown",
   "id": "877cdad4",
   "metadata": {},
   "source": [
    "# Dataset 4 - Boston"
   ]
  },
  {
   "cell_type": "markdown",
   "id": "9d6bda3d",
   "metadata": {},
   "source": [
    "## Import Libraries "
   ]
  },
  {
   "cell_type": "code",
   "execution_count": 8,
   "id": "c0175a68",
   "metadata": {},
   "outputs": [],
   "source": [
    "import warnings\n",
    "import sys\n",
    "sys.path.insert(0, '../src')\n",
    "warnings.filterwarnings('ignore')"
   ]
  },
  {
   "cell_type": "code",
   "execution_count": 9,
   "id": "db5ae9f1",
   "metadata": {},
   "outputs": [
    {
     "ename": "ModuleNotFoundError",
     "evalue": "No module named 'pycuda'",
     "output_type": "error",
     "traceback": [
      "\u001b[0;31m---------------------------------------------------------------------------\u001b[0m",
      "\u001b[0;31mModuleNotFoundError\u001b[0m                       Traceback (most recent call last)",
      "\u001b[0;32m/var/folders/5x/0vb7l3qn55q_tgn_2zh9s0bw0000gn/T/ipykernel_11042/4186142881.py\u001b[0m in \u001b[0;36m<module>\u001b[0;34m\u001b[0m\n\u001b[1;32m     11\u001b[0m \u001b[0;32mimport\u001b[0m \u001b[0mseaborn\u001b[0m \u001b[0;32mas\u001b[0m \u001b[0msns\u001b[0m\u001b[0;34m\u001b[0m\u001b[0;34m\u001b[0m\u001b[0m\n\u001b[1;32m     12\u001b[0m \u001b[0;32mfrom\u001b[0m \u001b[0mtorch\u001b[0m\u001b[0;34m.\u001b[0m\u001b[0mutils\u001b[0m\u001b[0;34m.\u001b[0m\u001b[0mdata\u001b[0m \u001b[0;32mimport\u001b[0m \u001b[0mrandom_split\u001b[0m\u001b[0;34m\u001b[0m\u001b[0;34m\u001b[0m\u001b[0m\n\u001b[0;32m---> 13\u001b[0;31m \u001b[0;32mimport\u001b[0m \u001b[0mpycuda\u001b[0m\u001b[0;34m.\u001b[0m\u001b[0mdriver\u001b[0m \u001b[0;32mas\u001b[0m \u001b[0mcuda\u001b[0m\u001b[0;34m\u001b[0m\u001b[0;34m\u001b[0m\u001b[0m\n\u001b[0m",
      "\u001b[0;31mModuleNotFoundError\u001b[0m: No module named 'pycuda'"
     ]
    }
   ],
   "source": [
    "import train_test\n",
    "import ABC_train_test\n",
    "import bostonDataset\n",
    "import network\n",
    "import statsModel\n",
    "import performanceMetrics\n",
    "import dataset\n",
    "import sanityChecks\n",
    "import torch \n",
    "import matplotlib.pyplot as plt \n",
    "import seaborn as sns \n",
    "from torch.utils.data import random_split \n",
    "import pycuda.driver as cuda"
   ]
  },
  {
   "cell_type": "markdown",
   "id": "35dd95a8",
   "metadata": {},
   "source": [
    "## Parameters\n",
    "\n",
    "General Parameters \n",
    "\n",
    "1. Number of Samples\n",
    "2. Number of features \n",
    "\n",
    "ABC-Generator parameters are as mentioned below: \n",
    "1. mean : 1 ($\\beta \\sim N(\\beta^{*},\\sigma)$ where $\\beta^{*}$ are coefficients of statistical model) or 1 ($\\beta \\sim N(0,\\sigma)$\n",
    "2. std : $\\sigma = 1, 0.1 , 0.01$ (standard deviation)"
   ]
  },
  {
   "cell_type": "code",
   "execution_count": null,
   "id": "d3807bc2",
   "metadata": {
    "tags": [
     "parameters"
    ]
   },
   "outputs": [],
   "source": [
    "n_features = 13\n",
    "n_samples= 506\n",
    " \n",
    "#ABC Generator Parameters\n",
    "mean = 1 \n",
    "variance = 0.01"
   ]
  },
  {
   "cell_type": "markdown",
   "id": "0d33adcd",
   "metadata": {},
   "source": [
    "## Dataset"
   ]
  },
  {
   "cell_type": "markdown",
   "id": "01940f7e",
   "metadata": {},
   "source": [
    "Generate a random regression problem\n",
    "\n",
    "$Y = 1 + \\beta_1 x_1 + \\beta_2 x_2 + \\beta_2 x_3 + ... + \\beta_n x_n + N(0,\\sigma)$ where $\\sigma = 0.1$"
   ]
  },
  {
   "cell_type": "code",
   "execution_count": null,
   "id": "032a44a5",
   "metadata": {},
   "outputs": [],
   "source": [
    "X,Y = bostonDataset.boston_data()"
   ]
  },
  {
   "cell_type": "markdown",
   "id": "ed29668e",
   "metadata": {},
   "source": [
    "## Stats Model"
   ]
  },
  {
   "cell_type": "code",
   "execution_count": null,
   "id": "e21f1647",
   "metadata": {},
   "outputs": [],
   "source": [
    "[coeff,y_pred] = statsModel.statsModel(X,Y)"
   ]
  },
  {
   "cell_type": "markdown",
   "id": "42e448ec",
   "metadata": {},
   "source": [
    "## Common Training Parameters (GAN & ABC_GAN) "
   ]
  },
  {
   "cell_type": "code",
   "execution_count": null,
   "id": "4d1b6a41",
   "metadata": {},
   "outputs": [],
   "source": [
    "n_epochs = 5000\n",
    "threshold_mse = 0.99\n",
    "batch_size = 100"
   ]
  },
  {
   "cell_type": "code",
   "execution_count": null,
   "id": "9afe69ae",
   "metadata": {},
   "outputs": [],
   "source": [
    "# Train test split for dataset \n",
    "real_dataset = dataset.CustomDataset(X,Y)\n",
    "train_size = round(0.8 * n_samples)\n",
    "test_size = n_samples - train_size\n",
    "train_data, test_data = random_split(real_dataset,[train_size,test_size])"
   ]
  },
  {
   "cell_type": "code",
   "execution_count": null,
   "id": "290447f0",
   "metadata": {},
   "outputs": [],
   "source": [
    "cuda.init()\n",
    "## Get Id of default device\n",
    "torch.cuda.current_device()\n",
    "#0\n",
    "cuda.Device(0).name()"
   ]
  },
  {
   "cell_type": "code",
   "execution_count": null,
   "id": "740a121a",
   "metadata": {},
   "outputs": [],
   "source": [
    "#Select the device \n",
    "device = torch.device('cuda' if torch.cuda.is_available() else 'cpu')"
   ]
  },
  {
   "cell_type": "markdown",
   "id": "c00ac065",
   "metadata": {},
   "source": [
    "## GAN Model"
   ]
  },
  {
   "cell_type": "markdown",
   "id": "fa9f90c5",
   "metadata": {},
   "source": [
    "**Training GAN for n_epochs number of epochs** "
   ]
  },
  {
   "cell_type": "code",
   "execution_count": null,
   "id": "cdedc2f4",
   "metadata": {},
   "outputs": [],
   "source": [
    "generator = network.Generator(n_features+1).to(device)\n",
    "discriminator = network.Discriminator(n_features+1).to(device)\n",
    "\n",
    "criterion = torch.nn.BCELoss()\n",
    "gen_opt = torch.optim.Adam(generator.parameters(), lr=0.01, betas=(0.5, 0.999))\n",
    "disc_opt = torch.optim.Adam(discriminator.parameters(), lr=0.01, betas=(0.5, 0.999))"
   ]
  },
  {
   "cell_type": "code",
   "execution_count": null,
   "id": "2c9f416b",
   "metadata": {},
   "outputs": [],
   "source": [
    "print(generator)\n",
    "print(discriminator)"
   ]
  },
  {
   "cell_type": "code",
   "execution_count": null,
   "id": "39ed012e",
   "metadata": {
    "scrolled": true
   },
   "outputs": [],
   "source": [
    "discLossG1,genLossG1 = train_test.training_GAN(discriminator,generator,disc_opt,gen_opt,train_data,batch_size, n_epochs,criterion,device)"
   ]
  },
  {
   "cell_type": "code",
   "execution_count": null,
   "id": "25f291b4",
   "metadata": {},
   "outputs": [],
   "source": [
    "GAN1_metrics = train_test.test_generator(generator,test_data,device)"
   ]
  },
  {
   "cell_type": "code",
   "execution_count": null,
   "id": "da12d29b",
   "metadata": {},
   "outputs": [],
   "source": [
    "sanityChecks.discProbVsError(real_dataset,discriminator,device)"
   ]
  },
  {
   "cell_type": "markdown",
   "id": "30ef45bd",
   "metadata": {},
   "source": [
    "**Training GAN until mse of y_pred is > baseline_mse or n_epochs < 5000**"
   ]
  },
  {
   "cell_type": "code",
   "execution_count": null,
   "id": "50598e68",
   "metadata": {},
   "outputs": [],
   "source": [
    "generator2 = network.Generator(n_features+1).to(device)\n",
    "discriminator2 = network.Discriminator(n_features+1).to(device)\n",
    "criterion = torch.nn.BCELoss()\n",
    "gen_opt = torch.optim.Adam(generator2.parameters(), lr=0.01, betas=(0.5, 0.999))\n",
    "disc_opt = torch.optim.Adam(discriminator2.parameters(), lr=0.01, betas=(0.5, 0.999))"
   ]
  },
  {
   "cell_type": "code",
   "execution_count": null,
   "id": "d2605788",
   "metadata": {},
   "outputs": [],
   "source": [
    "discLossG2,genLossG2 = train_test.training_GAN_2(discriminator2,generator2,disc_opt,gen_opt,train_data,test_data,batch_size,threshold_mse,criterion,device)"
   ]
  },
  {
   "cell_type": "code",
   "execution_count": null,
   "id": "f6055ca5",
   "metadata": {},
   "outputs": [],
   "source": [
    "GAN2_metrics=train_test.test_generator_2(generator2,test_data,device)"
   ]
  },
  {
   "cell_type": "code",
   "execution_count": null,
   "id": "fdec5e06",
   "metadata": {},
   "outputs": [],
   "source": [
    "sanityChecks.discProbVsError(real_dataset,discriminator2,device)"
   ]
  },
  {
   "cell_type": "markdown",
   "id": "72ef462c",
   "metadata": {},
   "source": [
    "# ABC GAN Model"
   ]
  },
  {
   "cell_type": "markdown",
   "id": "10ec3640",
   "metadata": {},
   "source": [
    "### Training the network\n",
    "**Training ABC-GAN for n_epochs number of epochs** "
   ]
  },
  {
   "cell_type": "code",
   "execution_count": null,
   "id": "2ca4ad33",
   "metadata": {},
   "outputs": [],
   "source": [
    "gen = network.Generator(n_features+1).to(device)\n",
    "disc = network.Discriminator(n_features+1).to(device)\n",
    "\n",
    "criterion = torch.nn.BCELoss()\n",
    "gen_opt = torch.optim.Adam(gen.parameters(), lr=0.01, betas=(0.5, 0.999))\n",
    "disc_opt = torch.optim.Adam(disc.parameters(), lr=0.01, betas=(0.5, 0.999))"
   ]
  },
  {
   "cell_type": "code",
   "execution_count": null,
   "id": "9f9169e2",
   "metadata": {},
   "outputs": [],
   "source": [
    "discLossA1,genLossA1 = ABC_train_test.training_GAN(disc, gen,disc_opt,gen_opt,train_data,batch_size, n_epochs,criterion,coeff,mean,variance,device)"
   ]
  },
  {
   "cell_type": "code",
   "execution_count": null,
   "id": "362fcaed",
   "metadata": {},
   "outputs": [],
   "source": [
    "ABC_GAN1_metrics=ABC_train_test.test_generator(gen,test_data,coeff,mean,variance,device)"
   ]
  },
  {
   "cell_type": "markdown",
   "id": "eeaf565e",
   "metadata": {},
   "source": [
    "#### Sanity Checks "
   ]
  },
  {
   "cell_type": "code",
   "execution_count": null,
   "id": "4cf3b695",
   "metadata": {
    "scrolled": true
   },
   "outputs": [],
   "source": [
    "sanityChecks.discProbVsError(real_dataset,disc,device)"
   ]
  },
  {
   "cell_type": "markdown",
   "id": "104c5c83",
   "metadata": {},
   "source": [
    "**Training ABC-GAN until mse of y_pred is > baseline_mse or n_epochs < 5000**"
   ]
  },
  {
   "cell_type": "code",
   "execution_count": null,
   "id": "a1a2d412",
   "metadata": {},
   "outputs": [],
   "source": [
    "gen2 = network.Generator(n_features+1).to(device)\n",
    "disc2 = network.Discriminator(n_features+1).to(device)\n",
    "\n",
    "criterion = torch.nn.BCELoss()\n",
    "gen_opt = torch.optim.Adam(gen2.parameters(), lr=0.01, betas=(0.5, 0.999))\n",
    "disc_opt = torch.optim.Adam(disc2.parameters(), lr=0.01, betas=(0.5, 0.999))"
   ]
  },
  {
   "cell_type": "code",
   "execution_count": null,
   "id": "e9bcca28",
   "metadata": {},
   "outputs": [],
   "source": [
    "discLossA2,genLossA2 = ABC_train_test.training_GAN_2(disc2,gen2,disc_opt,gen_opt,train_data,test_data,batch_size,threshold_mse,criterion,coeff,mean,variance,device)"
   ]
  },
  {
   "cell_type": "code",
   "execution_count": null,
   "id": "90f30d88",
   "metadata": {},
   "outputs": [],
   "source": [
    "ABC_GAN2_metrics=ABC_train_test.test_generator_2(gen2,test_data,coeff,mean,variance,device)"
   ]
  },
  {
   "cell_type": "code",
   "execution_count": null,
   "id": "b2eace33",
   "metadata": {},
   "outputs": [],
   "source": [
    "sanityChecks.discProbVsError(real_dataset,disc2,device)"
   ]
  },
  {
   "cell_type": "markdown",
   "id": "d4ee3bf2",
   "metadata": {},
   "source": [
    "# Model Analysis"
   ]
  },
  {
   "cell_type": "code",
   "execution_count": null,
   "id": "afbcf807",
   "metadata": {},
   "outputs": [],
   "source": [
    "performanceMetrics.modelAnalysis(GAN1_metrics,ABC_GAN1_metrics,GAN2_metrics,ABC_GAN2_metrics)"
   ]
  },
  {
   "cell_type": "code",
   "execution_count": null,
   "id": "51fb8302",
   "metadata": {},
   "outputs": [],
   "source": [
    "performanceMetrics.plotTrainingLoss(discLossG1,genLossG1,discLossA1,genLossA1,discLossG2,genLossG2,discLossA2,genLossA2)"
   ]
  },
  {
   "cell_type": "markdown",
   "id": "4236d79f",
   "metadata": {},
   "source": [
    "## GAN Model with skip connection"
   ]
  },
  {
   "cell_type": "code",
   "execution_count": null,
   "id": "2ca4ad33",
   "metadata": {},
   "outputs": [],
   "source": [
    "generator3 = network.GeneratorWithSkipConnection(n_features+1).to(device)\n",
    "discriminator3 = network.Discriminator(n_features+1).to(device)\n",
    "\n",
    "criterion = torch.nn.BCELoss()\n",
    "gen_opt = torch.optim.Adam(generator3.parameters(), lr=0.01, betas=(0.5, 0.999))\n",
    "disc_opt = torch.optim.Adam(discriminator3.parameters(), lr=0.01, betas=(0.5, 0.999))"
   ]
  },
  {
   "cell_type": "code",
   "execution_count": null,
   "id": "9f9169e2",
   "metadata": {},
   "outputs": [],
   "source": [
    "discLossG3,genLossG3 = train_test.training_GAN(discriminator3,generator3 ,disc_opt,gen_opt,train_data,batch_size, n_epochs,criterion,coeff,mean,variance,device)"
   ]
  },
  {
   "cell_type": "code",
   "execution_count": null,
   "id": "362fcaed",
   "metadata": {},
   "outputs": [],
   "source": [
    "GAN3_metrics=ABC_train_test.test_generator(generator3,test_data,coeff,mean,variance,device)"
   ]
  },
  {
   "cell_type": "code",
   "execution_count": null,
   "id": "4cf3b695",
   "metadata": {
    "scrolled": true
   },
   "outputs": [],
   "source": [
    "sanityChecks.discProbVsError(real_dataset,discriminator3,device)"
   ]
  },
  {
   "cell_type": "markdown",
   "id": "4236d79f",
   "metadata": {},
   "source": [
    "## ABC - GAN Model with skip connection"
   ]
  },
  {
   "cell_type": "code",
   "execution_count": null,
   "id": "2ca4ad33",
   "metadata": {},
   "outputs": [],
   "source": [
    "gen3 = network.GeneratorWithSkipConnection(n_features+1).to(device)\n",
    "disc3 = network.Discriminator(n_features+1).to(device)\n",
    "\n",
    "criterion = torch.nn.BCELoss()\n",
    "gen_opt = torch.optim.Adam(gen3.parameters(), lr=0.01, betas=(0.5, 0.999))\n",
    "disc_opt = torch.optim.Adam(disc3.parameters(), lr=0.01, betas=(0.5, 0.999))"
   ]
  },
  {
   "cell_type": "code",
   "execution_count": null,
   "id": "9f9169e2",
   "metadata": {},
   "outputs": [],
   "source": [
    "discLossA3,genLossA3 = ABC_train_test.training_GAN(disc3, gen3,disc_opt,gen_opt,train_data,batch_size, n_epochs,criterion,coeff,mean,variance,device)"
   ]
  },
  {
   "cell_type": "code",
   "execution_count": null,
   "id": "362fcaed",
   "metadata": {},
   "outputs": [],
   "source": [
    "ABC_GAN3_metrics=ABC_train_test.test_generator(gen3,test_data,coeff,mean,variance,device)"
   ]
  },
  {
   "cell_type": "code",
   "execution_count": null,
   "id": "4cf3b695",
   "metadata": {
    "scrolled": true
   },
   "outputs": [],
   "source": [
    "sanityChecks.discProbVsError(real_dataset,disc3,device)"
   ]
  },
  {
   "cell_type": "markdown",
   "id": "bca5ed35",
   "metadata": {},
   "source": [
    "## Skip Connection Model Analysis - GAN and ABC-GAN "
   ]
  },
  {
   "cell_type": "markdown",
   "id": "2245bba8",
   "metadata": {},
   "source": [
    "### Weight Analysis \n",
    "\n",
    "Study the weights of the skip connection layer "
   ]
  },
  {
   "cell_type": "code",
   "execution_count": null,
   "id": "c31721e4",
   "metadata": {},
   "outputs": [],
   "source": [
    "print(\"GAN Weights\")\n",
    "for name,param in generator3.named_parameters():\n",
    "    if(name == \"skipNode.weight\"):\n",
    "        print(param)\n",
    "print(\"ABC-GAN Weights\")\n",
    "for name,param in gen3.named_parameters():\n",
    "    if(name == \"skipNode.weight\"):\n",
    "        print(param)"
   ]
  },
  {
   "cell_type": "markdown",
   "id": "f248fe38",
   "metadata": {},
   "source": [
    "### Model Analysis "
   ]
  },
  {
   "cell_type": "code",
   "execution_count": null,
   "id": "20e6e09a",
   "metadata": {},
   "outputs": [],
   "source": [
    "performanceMetrics.modelAnalysis2(GAN3_metrics,ABC_GAN3_metrics)"
   ]
  },
  {
   "cell_type": "markdown",
   "id": "10d2ee3a",
   "metadata": {},
   "source": [
    "### Training Loss Plots "
   ]
  },
  {
   "cell_type": "code",
   "execution_count": null,
   "id": "7b51ebad",
   "metadata": {},
   "outputs": [],
   "source": [
    "performanceMetrics.plotTrainingLoss2(discLossG3,genLossG3,discLossA3,genLossA3)"
   ]
  }
 ],
 "metadata": {
  "interpreter": {
   "hash": "10498c76ddd8160350534c6544a2b2fb65f2138dbc70420f7c81a3268f830f23"
  },
  "kernelspec": {
   "display_name": "papermill-tut",
   "language": "python",
   "name": "papermill-tut"
  },
  "language_info": {
   "codemirror_mode": {
    "name": "ipython",
    "version": 3
   },
   "file_extension": ".py",
   "mimetype": "text/x-python",
   "name": "python",
   "nbconvert_exporter": "python",
   "pygments_lexer": "ipython3",
   "version": "3.9.7"
  }
 },
 "nbformat": 4,
 "nbformat_minor": 5
}
