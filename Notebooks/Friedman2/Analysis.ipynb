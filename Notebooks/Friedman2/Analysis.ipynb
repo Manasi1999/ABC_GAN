{
 "cells": [
  {
   "cell_type": "code",
   "execution_count": 1,
   "id": "423b7ca4",
   "metadata": {},
   "outputs": [],
   "source": [
    "import warnings\n",
    "warnings.filterwarnings('ignore')"
   ]
  },
  {
   "cell_type": "code",
   "execution_count": 2,
   "id": "618121c9",
   "metadata": {},
   "outputs": [],
   "source": [
    "import scrapbook as sb \n",
    "import pandas as pd\n",
    "import numpy as np \n",
    "import seaborn as sns \n",
    "import numpy as np\n",
    "from statistics import mean\n",
    "import matplotlib.pyplot as plt"
   ]
  },
  {
   "cell_type": "markdown",
   "id": "8842137f",
   "metadata": {},
   "source": [
    "# Baseline "
   ]
  },
  {
   "cell_type": "code",
   "execution_count": 3,
   "id": "a9dce367",
   "metadata": {},
   "outputs": [
    {
     "data": {
      "text/html": [
       "<div>\n",
       "<style scoped>\n",
       "    .dataframe tbody tr th:only-of-type {\n",
       "        vertical-align: middle;\n",
       "    }\n",
       "\n",
       "    .dataframe tbody tr th {\n",
       "        vertical-align: top;\n",
       "    }\n",
       "\n",
       "    .dataframe thead th {\n",
       "        text-align: right;\n",
       "    }\n",
       "</style>\n",
       "<table border=\"1\" class=\"dataframe\">\n",
       "  <thead>\n",
       "    <tr style=\"text-align: right;\">\n",
       "      <th></th>\n",
       "      <th>Catboost</th>\n",
       "    </tr>\n",
       "  </thead>\n",
       "  <tbody>\n",
       "    <tr>\n",
       "      <th>0</th>\n",
       "      <td>0.113988</td>\n",
       "    </tr>\n",
       "    <tr>\n",
       "      <th>1</th>\n",
       "      <td>0.179512</td>\n",
       "    </tr>\n",
       "    <tr>\n",
       "      <th>2</th>\n",
       "      <td>0.156973</td>\n",
       "    </tr>\n",
       "    <tr>\n",
       "      <th>3</th>\n",
       "      <td>0.143319</td>\n",
       "    </tr>\n",
       "    <tr>\n",
       "      <th>4</th>\n",
       "      <td>0.149362</td>\n",
       "    </tr>\n",
       "    <tr>\n",
       "      <th>5</th>\n",
       "      <td>0.154639</td>\n",
       "    </tr>\n",
       "    <tr>\n",
       "      <th>6</th>\n",
       "      <td>0.236295</td>\n",
       "    </tr>\n",
       "    <tr>\n",
       "      <th>7</th>\n",
       "      <td>0.140667</td>\n",
       "    </tr>\n",
       "    <tr>\n",
       "      <th>8</th>\n",
       "      <td>0.086507</td>\n",
       "    </tr>\n",
       "    <tr>\n",
       "      <th>9</th>\n",
       "      <td>0.296779</td>\n",
       "    </tr>\n",
       "  </tbody>\n",
       "</table>\n",
       "</div>"
      ],
      "text/plain": [
       "   Catboost\n",
       "0  0.113988\n",
       "1  0.179512\n",
       "2  0.156973\n",
       "3  0.143319\n",
       "4  0.149362\n",
       "5  0.154639\n",
       "6  0.236295\n",
       "7  0.140667\n",
       "8  0.086507\n",
       "9  0.296779"
      ]
     },
     "metadata": {},
     "output_type": "display_data"
    },
    {
     "name": "stdout",
     "output_type": "stream",
     "text": [
      "Average MSE (Catboost Model): 0.1658041049813956\n"
     ]
    }
   ],
   "source": [
    "books = sb.read_notebooks(\"./BaseLine_Model_Output\")\n",
    "baseLine_data = []\n",
    "for nb in books.notebooks: \n",
    "    nbList=[nb.scraps['Stats Model MAE'].data,nb.scraps['Catboost MAE'].data]\n",
    "    baseLine_data.append(nbList)\n",
    "df = pd.DataFrame(baseLine_data, columns = [\"Stats Model\",\"Catboost\"])\n",
    "baseLine_data = np.reshape(baseLine_data,(1,10))[0]\n",
    "display(df)\n",
    "mae_stats = mean(baseLine_data[:,0])\n",
    "mae_cat = mean(baseLine_data[:,1])\n",
    "print(\"Average MAE (Stats Model): \"+ str(mae_stats))\n",
    "print(\"Average MAE (Catboost Model): \"+ str(mae_cat))"
   ]
  },
  {
   "cell_type": "markdown",
   "id": "2ef4d014",
   "metadata": {},
   "source": [
    "# GAN Model"
   ]
  },
  {
   "cell_type": "code",
   "execution_count": null,
   "id": "ce2d028d",
   "metadata": {},
   "outputs": [],
   "source": [
    "book = sb.read_notebooks(\"./GAN_Output\")\n",
    "gan_data = []\n",
    "gan_mse = []\n",
    "for nb in book.notebooks:\n",
    "    metrics = nb.scraps['GAN_1 Metrics'].data\n",
    "    for i in range(1000):\n",
    "        gan_mse.append(metrics[0][i])\n",
    "    nbList = [nb.scraps['GAN Model MSE'].data,\n",
    "              nb.scraps['GAN Model MAE'].data,\n",
    "              nb.scraps['GAN Model Euclidean distance'].data,\n",
    "              nb.scraps['GAN Model Manhattan Distance'].data]        \n",
    "    gan_data.append(nbList)\n",
    "    \n",
    "df = pd.DataFrame(gan_data, columns = ['MSE','MAE','Euclidean Distance','Manhattan Distance'])\n",
    "display(df.style)\n",
    "print(\"MEAN:\")\n",
    "print(df.mean(axis = 0))\n",
    "gan_data = np.array(gan_data)"
   ]
  },
  {
   "cell_type": "markdown",
   "id": "db69b3bd",
   "metadata": {},
   "source": [
    "# ABC_GAN Analysis"
   ]
  },
  {
   "cell_type": "markdown",
   "id": "930ab0e5",
   "metadata": {},
   "source": [
    "## ABC Pre-generator - Catboost \n"
   ]
  },
  {
   "cell_type": "markdown",
   "id": "930ab0e5",
   "metadata": {},
   "source": [
    "## ABC Pre-generator - Stats \n"
   ]
  },
  {
   "cell_type": "code",
   "execution_count": 5,
   "id": "ea491444",
   "metadata": {},
   "outputs": [],
   "source": [
    "book = sb.read_notebooks(\"./ABC_GAN_Stats\")\n",
    "paramVal = [1,0.1,0.01]\n",
    "abc_mse = [[] for i in range(3)]\n",
    "abc_mse_skip = [[] for i in range(3)]\n",
    "abc_mse_mean = [[] for i in range(3)]\n",
    "abc_mse_skip_mean = [[] for i in range(3)]\n",
    "abc_weights = [[] for i in range(3)]\n",
    "prior_model = [[] for i in range(3)]\n",
    "abc_pre_generator = [[] for i in range(3)]\n",
    "\n",
    "for nb in book.notebooks:\n",
    "    metrics3 = np.array(nb.scraps['ABC_GAN_3 Metrics'].data)\n",
    "    paramVar = float(nb.papermill_dataframe.iloc[0]['value'])\n",
    "    \n",
    "    #Divide data according to parameters \n",
    "    for i in range(3):\n",
    "        if paramVar == paramVal[i]:\n",
    "            for j in range(100):\n",
    "                abc_mse_skip[i].append(metrics3[1,j])\n",
    "            abc_weights[i].append(nb.scraps['Skip Connection Weight'].data)\n",
    "            prior_model[i].append(nb.scraps['Prior Model MAE'].data)\n",
    "            abc_pre_generator[i].append(nb.scraps['ABC Pre-generator MAE'].data)\n",
    "            abc_mse_skip_mean[i].append(mean(metrics3[1,:]))"
   ]
  },
  {
   "cell_type": "code",
   "execution_count": null,
   "id": "d0d13f91",
   "metadata": {},
   "outputs": [],
   "source": [
    "for i in range(3):\n",
    "    data = []\n",
    "    for j in range(len(abc_weights[i])):\n",
    "        data.append([paramVal[i],prior_model[i][j],\n",
    "                     abc_pre_generator[i][j],abc_weights[i][j],abc_mse_skip_mean[i][j]])\n",
    "    \n",
    "    df = pd.DataFrame(data, columns = ['Variance','Prior Model MAE',\n",
    "                                       'ABC pre-generator MAE','Skip Node weight','ABC_GAN MAE (skip connection)'])\n",
    "    display(df.round(5))\n",
    "    print(df.mean(axis=0))\n",
    "    print(\"-------------------------------------------------------------\")"
   ]
  }
 ],
 "metadata": {
  "interpreter": {
   "hash": "10498c76ddd8160350534c6544a2b2fb65f2138dbc70420f7c81a3268f830f23"
  },
  "kernelspec": {
   "display_name": "papermill-tutorial",
   "language": "python",
   "name": "python3"
  },
  "language_info": {
   "codemirror_mode": {
    "name": "ipython",
    "version": 3
   },
   "file_extension": ".py",
   "mimetype": "text/x-python",
   "name": "python",
   "nbconvert_exporter": "python",
   "pygments_lexer": "ipython3",
   "version": "3.8.11"
  }
 },
 "nbformat": 4,
 "nbformat_minor": 5
}
