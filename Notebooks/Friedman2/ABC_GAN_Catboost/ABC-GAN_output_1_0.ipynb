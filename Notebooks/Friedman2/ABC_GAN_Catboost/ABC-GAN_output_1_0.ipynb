{
 "cells": [
  {
   "cell_type": "markdown",
   "id": "622780e6",
   "metadata": {
    "id": "622780e6",
    "papermill": {
     "duration": 0.033026,
     "end_time": "2022-02-13T16:08:22.064681",
     "exception": false,
     "start_time": "2022-02-13T16:08:22.031655",
     "status": "completed"
    },
    "tags": []
   },
   "source": [
    "## Import Libraries "
   ]
  },
  {
   "cell_type": "code",
   "execution_count": 1,
   "id": "a62397e3",
   "metadata": {
    "execution": {
     "iopub.execute_input": "2022-02-13T16:08:22.101517Z",
     "iopub.status.busy": "2022-02-13T16:08:22.100954Z",
     "iopub.status.idle": "2022-02-13T16:08:22.103248Z",
     "shell.execute_reply": "2022-02-13T16:08:22.103657Z"
    },
    "id": "a62397e3",
    "papermill": {
     "duration": 0.022208,
     "end_time": "2022-02-13T16:08:22.103863",
     "exception": false,
     "start_time": "2022-02-13T16:08:22.081655",
     "status": "completed"
    },
    "tags": []
   },
   "outputs": [],
   "source": [
    "import warnings\n",
    "import sys\n",
    "sys.path.insert(0, '../../src')\n",
    "warnings.filterwarnings('ignore')"
   ]
  },
  {
   "cell_type": "code",
   "execution_count": 2,
   "id": "d6a4e155",
   "metadata": {
    "execution": {
     "iopub.execute_input": "2022-02-13T16:08:22.123909Z",
     "iopub.status.busy": "2022-02-13T16:08:22.123449Z",
     "iopub.status.idle": "2022-02-13T16:08:23.984857Z",
     "shell.execute_reply": "2022-02-13T16:08:23.985119Z"
    },
    "id": "d6a4e155",
    "papermill": {
     "duration": 1.872022,
     "end_time": "2022-02-13T16:08:23.985247",
     "exception": false,
     "start_time": "2022-02-13T16:08:22.113225",
     "status": "completed"
    },
    "tags": []
   },
   "outputs": [],
   "source": [
    "import ABC_train_test2\n",
    "import friedman2Dataset\n",
    "import network\n",
    "import dataset\n",
    "import sanityChecks\n",
    "import torch \n",
    "import scrapbook as sb\n",
    "from statistics import mean \n",
    "import catboost as ctb \n",
    "from sklearn.model_selection import train_test_split\n",
    "from sklearn.metrics import mean_squared_error,mean_absolute_error\n",
    "import numpy as np"
   ]
  },
  {
   "cell_type": "markdown",
   "id": "2fa5b0f7",
   "metadata": {
    "id": "2fa5b0f7",
    "papermill": {
     "duration": 0.006762,
     "end_time": "2022-02-13T16:08:23.999001",
     "exception": false,
     "start_time": "2022-02-13T16:08:23.992239",
     "status": "completed"
    },
    "tags": []
   },
   "source": [
    "## Parameters "
   ]
  },
  {
   "cell_type": "code",
   "execution_count": 3,
   "id": "783186fb",
   "metadata": {
    "execution": {
     "iopub.execute_input": "2022-02-13T16:08:24.014626Z",
     "iopub.status.busy": "2022-02-13T16:08:24.014203Z",
     "iopub.status.idle": "2022-02-13T16:08:24.015555Z",
     "shell.execute_reply": "2022-02-13T16:08:24.015808Z"
    },
    "id": "783186fb",
    "papermill": {
     "duration": 0.010247,
     "end_time": "2022-02-13T16:08:24.015916",
     "exception": false,
     "start_time": "2022-02-13T16:08:24.005669",
     "status": "completed"
    },
    "tags": [
     "parameters"
    ]
   },
   "outputs": [],
   "source": [
    "variance = 1"
   ]
  },
  {
   "cell_type": "code",
   "execution_count": 4,
   "id": "c8c59338",
   "metadata": {
    "execution": {
     "iopub.execute_input": "2022-02-13T16:08:24.031255Z",
     "iopub.status.busy": "2022-02-13T16:08:24.030892Z",
     "iopub.status.idle": "2022-02-13T16:08:24.032219Z",
     "shell.execute_reply": "2022-02-13T16:08:24.032466Z"
    },
    "papermill": {
     "duration": 0.009788,
     "end_time": "2022-02-13T16:08:24.032570",
     "exception": false,
     "start_time": "2022-02-13T16:08:24.022782",
     "status": "completed"
    },
    "tags": [
     "injected-parameters"
    ]
   },
   "outputs": [],
   "source": [
    "# Parameters\n",
    "variance = 1\n"
   ]
  },
  {
   "cell_type": "markdown",
   "id": "391cdbfd",
   "metadata": {
    "id": "391cdbfd",
    "papermill": {
     "duration": 0.00672,
     "end_time": "2022-02-13T16:08:24.046095",
     "exception": false,
     "start_time": "2022-02-13T16:08:24.039375",
     "status": "completed"
    },
    "tags": []
   },
   "source": [
    "## Dataset \n"
   ]
  },
  {
   "cell_type": "code",
   "execution_count": 5,
   "id": "5b51f161",
   "metadata": {
    "execution": {
     "iopub.execute_input": "2022-02-13T16:08:24.061491Z",
     "iopub.status.busy": "2022-02-13T16:08:24.061133Z",
     "iopub.status.idle": "2022-02-13T16:08:24.062343Z",
     "shell.execute_reply": "2022-02-13T16:08:24.062643Z"
    },
    "id": "5b51f161",
    "papermill": {
     "duration": 0.009915,
     "end_time": "2022-02-13T16:08:24.062746",
     "exception": false,
     "start_time": "2022-02-13T16:08:24.052831",
     "status": "completed"
    },
    "tags": []
   },
   "outputs": [],
   "source": [
    "#Parameters \n",
    "n_features = 4\n",
    "n_samples= 100\n",
    "n_target = 1 "
   ]
  },
  {
   "cell_type": "code",
   "execution_count": 6,
   "id": "5d6eced4",
   "metadata": {
    "execution": {
     "iopub.execute_input": "2022-02-13T16:08:24.078895Z",
     "iopub.status.busy": "2022-02-13T16:08:24.078520Z",
     "iopub.status.idle": "2022-02-13T16:08:24.083799Z",
     "shell.execute_reply": "2022-02-13T16:08:24.084043Z"
    },
    "id": "5d6eced4",
    "papermill": {
     "duration": 0.014583,
     "end_time": "2022-02-13T16:08:24.084150",
     "exception": false,
     "start_time": "2022-02-13T16:08:24.069567",
     "status": "completed"
    },
    "tags": []
   },
   "outputs": [
    {
     "name": "stdout",
     "output_type": "stream",
     "text": [
      "          X1           X2        X3         X4           Y\n",
      "0  83.163066   595.489090  0.561675   1.503200  344.504032\n",
      "1  17.626887   591.376874  0.143532   2.404708   86.767774\n",
      "2  42.810600  1078.223073  0.621200  10.187357  671.225310\n",
      "3  35.575380   216.616219  0.982864   9.930254  215.710295\n",
      "4  27.966758  1572.357910  0.137290  10.459721  217.666960\n"
     ]
    }
   ],
   "source": [
    "X,Y = friedman2Dataset.friedman2_data(n_samples)"
   ]
  },
  {
   "cell_type": "code",
   "execution_count": 7,
   "id": "fe007438",
   "metadata": {
    "execution": {
     "iopub.execute_input": "2022-02-13T16:08:24.100433Z",
     "iopub.status.busy": "2022-02-13T16:08:24.100075Z",
     "iopub.status.idle": "2022-02-13T16:08:24.101738Z",
     "shell.execute_reply": "2022-02-13T16:08:24.101977Z"
    },
    "id": "fe007438",
    "papermill": {
     "duration": 0.010843,
     "end_time": "2022-02-13T16:08:24.102080",
     "exception": false,
     "start_time": "2022-02-13T16:08:24.091237",
     "status": "completed"
    },
    "tags": []
   },
   "outputs": [],
   "source": [
    "#Train test split for dataset \n",
    "X_train,X_test,Y_train,Y_test = train_test_split(X,Y,test_size = 0.2)\n",
    "train_data = dataset.CustomDataset(X_train,Y_train)\n",
    "test_data = dataset.CustomDataset(X_test,Y_test)\n"
   ]
  },
  {
   "cell_type": "markdown",
   "id": "a9a1af34",
   "metadata": {
    "id": "a9a1af34",
    "papermill": {
     "duration": 0.007156,
     "end_time": "2022-02-13T16:08:24.116394",
     "exception": false,
     "start_time": "2022-02-13T16:08:24.109238",
     "status": "completed"
    },
    "tags": []
   },
   "source": [
    "## Training Parameters "
   ]
  },
  {
   "cell_type": "code",
   "execution_count": 8,
   "id": "952b7fc8",
   "metadata": {
    "execution": {
     "iopub.execute_input": "2022-02-13T16:08:24.132785Z",
     "iopub.status.busy": "2022-02-13T16:08:24.132423Z",
     "iopub.status.idle": "2022-02-13T16:08:24.133783Z",
     "shell.execute_reply": "2022-02-13T16:08:24.134035Z"
    },
    "id": "952b7fc8",
    "papermill": {
     "duration": 0.010736,
     "end_time": "2022-02-13T16:08:24.134142",
     "exception": false,
     "start_time": "2022-02-13T16:08:24.123406",
     "status": "completed"
    },
    "tags": []
   },
   "outputs": [],
   "source": [
    "batch_size = 32\n",
    "n_epochs = 1000\n",
    "#Select the device \n",
    "device = torch.device('cuda' if torch.cuda.is_available() else 'cpu')"
   ]
  },
  {
   "cell_type": "markdown",
   "id": "a95e1600",
   "metadata": {
    "id": "a95e1600",
    "papermill": {
     "duration": 0.006972,
     "end_time": "2022-02-13T16:08:24.148292",
     "exception": false,
     "start_time": "2022-02-13T16:08:24.141320",
     "status": "completed"
    },
    "tags": []
   },
   "source": [
    "# ABC Pre-generator Model \n",
    "\n",
    "1. The catboost model is used as a pre-generator model for the ABC-GAN. \n",
    "2. The model is first trained on the entire dataset \n",
    "3. It generats X,Y pairs and we add some Gaussian noise with mean 0 and variance 1 to it which is then feed as input to the generator.\n"
   ]
  },
  {
   "cell_type": "code",
   "execution_count": 9,
   "id": "ff8ce7bd",
   "metadata": {
    "execution": {
     "iopub.execute_input": "2022-02-13T16:08:24.173897Z",
     "iopub.status.busy": "2022-02-13T16:08:24.173514Z",
     "iopub.status.idle": "2022-02-13T16:08:24.921413Z",
     "shell.execute_reply": "2022-02-13T16:08:24.922224Z"
    },
    "id": "ff8ce7bd",
    "papermill": {
     "duration": 0.767216,
     "end_time": "2022-02-13T16:08:24.922594",
     "exception": false,
     "start_time": "2022-02-13T16:08:24.155378",
     "status": "completed"
    },
    "tags": []
   },
   "outputs": [
    {
     "name": "stdout",
     "output_type": "stream",
     "text": [
      "Learning rate set to 0.024897\n",
      "0:\tlearn: 0.9460454\ttotal: 61.1ms\tremaining: 1m 1s\n",
      "1:\tlearn: 0.9350383\ttotal: 61.6ms\tremaining: 30.8s\n",
      "2:\tlearn: 0.9241725\ttotal: 62ms\tremaining: 20.6s\n",
      "3:\tlearn: 0.9140733\ttotal: 62.4ms\tremaining: 15.5s\n",
      "4:\tlearn: 0.9009128\ttotal: 62.6ms\tremaining: 12.5s\n",
      "5:\tlearn: 0.8907747\ttotal: 63ms\tremaining: 10.4s\n",
      "6:\tlearn: 0.8782715\ttotal: 63.4ms\tremaining: 8.99s\n",
      "7:\tlearn: 0.8662886\ttotal: 63.7ms\tremaining: 7.89s\n",
      "8:\tlearn: 0.8559172\ttotal: 63.9ms\tremaining: 7.04s\n",
      "9:\tlearn: 0.8446270\ttotal: 64.3ms\tremaining: 6.36s\n",
      "10:\tlearn: 0.8349697\ttotal: 64.6ms\tremaining: 5.81s\n",
      "11:\tlearn: 0.8218391\ttotal: 65ms\tremaining: 5.35s\n",
      "12:\tlearn: 0.8098033\ttotal: 65.4ms\tremaining: 4.96s\n",
      "13:\tlearn: 0.7987330\ttotal: 65.9ms\tremaining: 4.64s\n",
      "14:\tlearn: 0.7881252\ttotal: 66.2ms\tremaining: 4.35s\n",
      "15:\tlearn: 0.7799553\ttotal: 66.6ms\tremaining: 4.09s\n",
      "16:\tlearn: 0.7689798\ttotal: 67.2ms\tremaining: 3.88s\n",
      "17:\tlearn: 0.7616437\ttotal: 67.5ms\tremaining: 3.68s\n",
      "18:\tlearn: 0.7542364\ttotal: 67.9ms\tremaining: 3.5s\n",
      "19:\tlearn: 0.7448326\ttotal: 68.2ms\tremaining: 3.34s\n",
      "20:\tlearn: 0.7346161\ttotal: 68.5ms\tremaining: 3.19s\n",
      "21:\tlearn: 0.7244140\ttotal: 68.8ms\tremaining: 3.06s\n",
      "22:\tlearn: 0.7159570\ttotal: 69.1ms\tremaining: 2.93s\n",
      "23:\tlearn: 0.7074576\ttotal: 69.4ms\tremaining: 2.82s\n",
      "24:\tlearn: 0.6999450\ttotal: 69.7ms\tremaining: 2.72s\n",
      "25:\tlearn: 0.6899346\ttotal: 70ms\tremaining: 2.62s\n",
      "26:\tlearn: 0.6820429\ttotal: 70.4ms\tremaining: 2.54s\n",
      "27:\tlearn: 0.6737439\ttotal: 70.8ms\tremaining: 2.46s\n",
      "28:\tlearn: 0.6644972\ttotal: 71.2ms\tremaining: 2.38s\n",
      "29:\tlearn: 0.6557743\ttotal: 71.6ms\tremaining: 2.31s\n",
      "30:\tlearn: 0.6494947\ttotal: 71.9ms\tremaining: 2.25s\n",
      "31:\tlearn: 0.6415756\ttotal: 72.4ms\tremaining: 2.19s\n",
      "32:\tlearn: 0.6345571\ttotal: 72.8ms\tremaining: 2.13s\n",
      "33:\tlearn: 0.6278904\ttotal: 73.3ms\tremaining: 2.08s\n",
      "34:\tlearn: 0.6198966\ttotal: 73.6ms\tremaining: 2.03s\n",
      "35:\tlearn: 0.6125944\ttotal: 74.1ms\tremaining: 1.98s\n",
      "36:\tlearn: 0.6050646\ttotal: 74.4ms\tremaining: 1.94s\n",
      "37:\tlearn: 0.5979177\ttotal: 74.8ms\tremaining: 1.89s\n",
      "38:\tlearn: 0.5914178\ttotal: 75.1ms\tremaining: 1.85s\n",
      "39:\tlearn: 0.5842030\ttotal: 75.5ms\tremaining: 1.81s\n",
      "40:\tlearn: 0.5782175\ttotal: 76ms\tremaining: 1.78s\n",
      "41:\tlearn: 0.5716908\ttotal: 76.4ms\tremaining: 1.74s\n",
      "42:\tlearn: 0.5652341\ttotal: 76.8ms\tremaining: 1.71s\n",
      "43:\tlearn: 0.5598956\ttotal: 77.3ms\tremaining: 1.68s\n",
      "44:\tlearn: 0.5541293\ttotal: 77.7ms\tremaining: 1.65s\n",
      "45:\tlearn: 0.5472818\ttotal: 78.1ms\tremaining: 1.62s\n",
      "46:\tlearn: 0.5400629\ttotal: 78.5ms\tremaining: 1.59s\n",
      "47:\tlearn: 0.5347804\ttotal: 79ms\tremaining: 1.57s\n",
      "48:\tlearn: 0.5302262\ttotal: 79.4ms\tremaining: 1.54s\n",
      "49:\tlearn: 0.5236029\ttotal: 79.9ms\tremaining: 1.52s\n",
      "50:\tlearn: 0.5174181\ttotal: 80.4ms\tremaining: 1.5s\n",
      "51:\tlearn: 0.5112322\ttotal: 80.9ms\tremaining: 1.47s\n",
      "52:\tlearn: 0.5051510\ttotal: 81.4ms\tremaining: 1.45s\n",
      "53:\tlearn: 0.4991119\ttotal: 81.8ms\tremaining: 1.43s\n",
      "54:\tlearn: 0.4930169\ttotal: 82.2ms\tremaining: 1.41s\n",
      "55:\tlearn: 0.4881664\ttotal: 82.6ms\tremaining: 1.39s\n",
      "56:\tlearn: 0.4827388\ttotal: 83.1ms\tremaining: 1.37s\n",
      "57:\tlearn: 0.4764492\ttotal: 83.4ms\tremaining: 1.35s\n",
      "58:\tlearn: 0.4703782\ttotal: 83.8ms\tremaining: 1.33s\n",
      "59:\tlearn: 0.4648716\ttotal: 84.2ms\tremaining: 1.32s\n",
      "60:\tlearn: 0.4591299\ttotal: 84.7ms\tremaining: 1.3s\n",
      "61:\tlearn: 0.4541607\ttotal: 85.2ms\tremaining: 1.29s\n",
      "62:\tlearn: 0.4494425\ttotal: 85.8ms\tremaining: 1.28s\n",
      "63:\tlearn: 0.4430198\ttotal: 86.4ms\tremaining: 1.26s\n",
      "64:\tlearn: 0.4389589\ttotal: 86.7ms\tremaining: 1.25s\n",
      "65:\tlearn: 0.4338388\ttotal: 87.2ms\tremaining: 1.23s\n",
      "66:\tlearn: 0.4283565\ttotal: 87.6ms\tremaining: 1.22s\n",
      "67:\tlearn: 0.4245022\ttotal: 88.1ms\tremaining: 1.21s\n",
      "68:\tlearn: 0.4187371\ttotal: 88.4ms\tremaining: 1.19s\n",
      "69:\tlearn: 0.4145134\ttotal: 88.9ms\tremaining: 1.18s\n",
      "70:\tlearn: 0.4093792\ttotal: 89.2ms\tremaining: 1.17s\n",
      "71:\tlearn: 0.4059094\ttotal: 89.7ms\tremaining: 1.16s\n",
      "72:\tlearn: 0.4020375\ttotal: 90.2ms\tremaining: 1.15s\n",
      "73:\tlearn: 0.3979551\ttotal: 90.6ms\tremaining: 1.13s\n",
      "74:\tlearn: 0.3934483\ttotal: 91.1ms\tremaining: 1.12s\n",
      "75:\tlearn: 0.3892587\ttotal: 91.4ms\tremaining: 1.11s\n",
      "76:\tlearn: 0.3851187\ttotal: 91.9ms\tremaining: 1.1s\n",
      "77:\tlearn: 0.3802156\ttotal: 92.3ms\tremaining: 1.09s\n",
      "78:\tlearn: 0.3764085\ttotal: 92.6ms\tremaining: 1.08s\n",
      "79:\tlearn: 0.3717307\ttotal: 93.1ms\tremaining: 1.07s\n",
      "80:\tlearn: 0.3687132\ttotal: 93.5ms\tremaining: 1.06s\n",
      "81:\tlearn: 0.3643150\ttotal: 94ms\tremaining: 1.05s\n"
     ]
    },
    {
     "name": "stdout",
     "output_type": "stream",
     "text": [
      "82:\tlearn: 0.3605911\ttotal: 94.7ms\tremaining: 1.05s\n",
      "83:\tlearn: 0.3567225\ttotal: 95.3ms\tremaining: 1.04s\n",
      "84:\tlearn: 0.3534199\ttotal: 95.8ms\tremaining: 1.03s\n",
      "85:\tlearn: 0.3498243\ttotal: 96.2ms\tremaining: 1.02s\n",
      "86:\tlearn: 0.3464972\ttotal: 96.7ms\tremaining: 1.01s\n",
      "87:\tlearn: 0.3428367\ttotal: 97.1ms\tremaining: 1s\n",
      "88:\tlearn: 0.3396182\ttotal: 97.5ms\tremaining: 998ms\n",
      "89:\tlearn: 0.3365867\ttotal: 97.9ms\tremaining: 990ms\n",
      "90:\tlearn: 0.3333543\ttotal: 98.3ms\tremaining: 982ms\n",
      "91:\tlearn: 0.3294875\ttotal: 98.7ms\tremaining: 974ms\n",
      "92:\tlearn: 0.3259478\ttotal: 99.1ms\tremaining: 967ms\n",
      "93:\tlearn: 0.3229095\ttotal: 99.6ms\tremaining: 960ms\n",
      "94:\tlearn: 0.3196493\ttotal: 100ms\tremaining: 953ms\n",
      "95:\tlearn: 0.3163536\ttotal: 100ms\tremaining: 946ms\n",
      "96:\tlearn: 0.3138173\ttotal: 101ms\tremaining: 939ms\n",
      "97:\tlearn: 0.3109887\ttotal: 101ms\tremaining: 933ms\n",
      "98:\tlearn: 0.3073896\ttotal: 102ms\tremaining: 926ms\n",
      "99:\tlearn: 0.3033854\ttotal: 102ms\tremaining: 918ms\n",
      "100:\tlearn: 0.3004403\ttotal: 102ms\tremaining: 911ms\n",
      "101:\tlearn: 0.2975177\ttotal: 103ms\tremaining: 906ms\n",
      "102:\tlearn: 0.2943604\ttotal: 103ms\tremaining: 899ms\n",
      "103:\tlearn: 0.2918896\ttotal: 103ms\tremaining: 891ms\n",
      "104:\tlearn: 0.2887416\ttotal: 104ms\tremaining: 885ms\n",
      "105:\tlearn: 0.2862869\ttotal: 104ms\tremaining: 879ms\n",
      "106:\tlearn: 0.2833295\ttotal: 105ms\tremaining: 873ms\n",
      "107:\tlearn: 0.2801012\ttotal: 105ms\tremaining: 868ms\n",
      "108:\tlearn: 0.2776334\ttotal: 105ms\tremaining: 861ms\n",
      "109:\tlearn: 0.2745785\ttotal: 106ms\tremaining: 856ms\n",
      "110:\tlearn: 0.2715403\ttotal: 106ms\tremaining: 850ms\n",
      "111:\tlearn: 0.2688624\ttotal: 107ms\tremaining: 844ms\n",
      "112:\tlearn: 0.2667149\ttotal: 107ms\tremaining: 838ms\n",
      "113:\tlearn: 0.2645746\ttotal: 107ms\tremaining: 833ms\n",
      "114:\tlearn: 0.2625660\ttotal: 108ms\tremaining: 829ms\n",
      "115:\tlearn: 0.2595715\ttotal: 108ms\tremaining: 825ms\n",
      "116:\tlearn: 0.2567726\ttotal: 109ms\tremaining: 820ms\n",
      "117:\tlearn: 0.2540668\ttotal: 109ms\tremaining: 814ms\n",
      "118:\tlearn: 0.2515554\ttotal: 109ms\tremaining: 810ms\n",
      "119:\tlearn: 0.2490859\ttotal: 110ms\tremaining: 804ms\n",
      "120:\tlearn: 0.2461525\ttotal: 110ms\tremaining: 801ms\n",
      "121:\tlearn: 0.2441520\ttotal: 111ms\tremaining: 796ms\n",
      "122:\tlearn: 0.2418303\ttotal: 111ms\tremaining: 791ms\n",
      "123:\tlearn: 0.2397202\ttotal: 111ms\tremaining: 787ms\n",
      "124:\tlearn: 0.2372914\ttotal: 112ms\tremaining: 782ms\n",
      "125:\tlearn: 0.2348472\ttotal: 112ms\tremaining: 778ms\n",
      "126:\tlearn: 0.2328742\ttotal: 113ms\tremaining: 774ms\n",
      "127:\tlearn: 0.2308054\ttotal: 113ms\tremaining: 770ms\n",
      "128:\tlearn: 0.2292136\ttotal: 114ms\tremaining: 767ms\n",
      "129:\tlearn: 0.2274918\ttotal: 114ms\tremaining: 764ms\n",
      "130:\tlearn: 0.2251001\ttotal: 114ms\tremaining: 759ms\n",
      "131:\tlearn: 0.2233354\ttotal: 115ms\tremaining: 755ms\n",
      "132:\tlearn: 0.2212328\ttotal: 115ms\tremaining: 752ms\n",
      "133:\tlearn: 0.2189726\ttotal: 116ms\tremaining: 748ms\n",
      "134:\tlearn: 0.2173437\ttotal: 116ms\tremaining: 745ms\n",
      "135:\tlearn: 0.2156873\ttotal: 117ms\tremaining: 741ms\n",
      "136:\tlearn: 0.2137201\ttotal: 117ms\tremaining: 738ms\n",
      "137:\tlearn: 0.2119812\ttotal: 118ms\tremaining: 735ms\n",
      "138:\tlearn: 0.2103000\ttotal: 118ms\tremaining: 731ms\n",
      "139:\tlearn: 0.2086551\ttotal: 118ms\tremaining: 726ms\n",
      "140:\tlearn: 0.2064699\ttotal: 119ms\tremaining: 722ms\n",
      "141:\tlearn: 0.2042277\ttotal: 119ms\tremaining: 719ms\n",
      "142:\tlearn: 0.2022854\ttotal: 119ms\tremaining: 716ms\n",
      "143:\tlearn: 0.2002591\ttotal: 120ms\tremaining: 712ms\n",
      "144:\tlearn: 0.1982593\ttotal: 120ms\tremaining: 709ms\n",
      "145:\tlearn: 0.1959747\ttotal: 121ms\tremaining: 707ms\n",
      "146:\tlearn: 0.1945366\ttotal: 121ms\tremaining: 703ms\n",
      "147:\tlearn: 0.1926906\ttotal: 122ms\tremaining: 700ms\n",
      "148:\tlearn: 0.1908501\ttotal: 122ms\tremaining: 697ms\n",
      "149:\tlearn: 0.1895217\ttotal: 123ms\tremaining: 696ms\n",
      "150:\tlearn: 0.1876248\ttotal: 123ms\tremaining: 693ms\n",
      "151:\tlearn: 0.1859478\ttotal: 124ms\tremaining: 691ms\n",
      "152:\tlearn: 0.1839209\ttotal: 124ms\tremaining: 688ms\n",
      "153:\tlearn: 0.1821368\ttotal: 124ms\tremaining: 684ms\n",
      "154:\tlearn: 0.1804636\ttotal: 125ms\tremaining: 681ms\n",
      "155:\tlearn: 0.1786429\ttotal: 125ms\tremaining: 679ms\n",
      "156:\tlearn: 0.1775180\ttotal: 126ms\tremaining: 676ms\n",
      "157:\tlearn: 0.1759212\ttotal: 126ms\tremaining: 673ms\n",
      "158:\tlearn: 0.1746381\ttotal: 127ms\tremaining: 670ms\n",
      "159:\tlearn: 0.1731938\ttotal: 127ms\tremaining: 668ms\n",
      "160:\tlearn: 0.1717339\ttotal: 128ms\tremaining: 666ms\n",
      "161:\tlearn: 0.1704719\ttotal: 128ms\tremaining: 663ms\n",
      "162:\tlearn: 0.1692223\ttotal: 129ms\tremaining: 660ms\n",
      "163:\tlearn: 0.1678470\ttotal: 129ms\tremaining: 658ms\n",
      "164:\tlearn: 0.1664873\ttotal: 129ms\tremaining: 655ms\n",
      "165:\tlearn: 0.1650430\ttotal: 130ms\tremaining: 653ms\n",
      "166:\tlearn: 0.1635321\ttotal: 131ms\tremaining: 651ms\n",
      "167:\tlearn: 0.1620339\ttotal: 131ms\tremaining: 649ms\n",
      "168:\tlearn: 0.1608561\ttotal: 131ms\tremaining: 646ms\n",
      "169:\tlearn: 0.1595553\ttotal: 132ms\tremaining: 644ms\n",
      "170:\tlearn: 0.1583323\ttotal: 132ms\tremaining: 641ms\n",
      "171:\tlearn: 0.1569868\ttotal: 133ms\tremaining: 639ms\n",
      "172:\tlearn: 0.1556824\ttotal: 133ms\tremaining: 636ms\n",
      "173:\tlearn: 0.1541796\ttotal: 134ms\tremaining: 634ms\n",
      "174:\tlearn: 0.1531084\ttotal: 134ms\tremaining: 632ms\n",
      "175:\tlearn: 0.1519375\ttotal: 135ms\tremaining: 630ms\n",
      "176:\tlearn: 0.1503014\ttotal: 135ms\tremaining: 628ms\n",
      "177:\tlearn: 0.1490042\ttotal: 136ms\tremaining: 627ms\n",
      "178:\tlearn: 0.1477953\ttotal: 136ms\tremaining: 625ms\n",
      "179:\tlearn: 0.1463729\ttotal: 137ms\tremaining: 623ms\n",
      "180:\tlearn: 0.1455072\ttotal: 137ms\tremaining: 620ms\n",
      "181:\tlearn: 0.1444522\ttotal: 138ms\tremaining: 618ms\n",
      "182:\tlearn: 0.1430839\ttotal: 138ms\tremaining: 616ms\n",
      "183:\tlearn: 0.1418347\ttotal: 138ms\tremaining: 613ms\n",
      "184:\tlearn: 0.1408660\ttotal: 138ms\tremaining: 610ms\n",
      "185:\tlearn: 0.1398733\ttotal: 139ms\tremaining: 608ms\n",
      "186:\tlearn: 0.1385895\ttotal: 139ms\tremaining: 606ms\n",
      "187:\tlearn: 0.1374416\ttotal: 140ms\tremaining: 604ms\n",
      "188:\tlearn: 0.1362971\ttotal: 140ms\tremaining: 602ms\n",
      "189:\tlearn: 0.1351002\ttotal: 141ms\tremaining: 600ms\n",
      "190:\tlearn: 0.1342379\ttotal: 141ms\tremaining: 598ms\n",
      "191:\tlearn: 0.1328911\ttotal: 142ms\tremaining: 597ms\n",
      "192:\tlearn: 0.1314834\ttotal: 142ms\tremaining: 595ms\n",
      "193:\tlearn: 0.1303692\ttotal: 143ms\tremaining: 593ms\n",
      "194:\tlearn: 0.1290868\ttotal: 143ms\tremaining: 590ms\n",
      "195:\tlearn: 0.1279031\ttotal: 143ms\tremaining: 588ms\n",
      "196:\tlearn: 0.1269440\ttotal: 144ms\tremaining: 585ms\n",
      "197:\tlearn: 0.1260168\ttotal: 144ms\tremaining: 583ms\n",
      "198:\tlearn: 0.1250723\ttotal: 145ms\tremaining: 582ms\n",
      "199:\tlearn: 0.1242246\ttotal: 145ms\tremaining: 580ms\n",
      "200:\tlearn: 0.1232995\ttotal: 145ms\tremaining: 578ms\n",
      "201:\tlearn: 0.1222597\ttotal: 146ms\tremaining: 576ms\n",
      "202:\tlearn: 0.1215040\ttotal: 146ms\tremaining: 574ms\n",
      "203:\tlearn: 0.1204467\ttotal: 147ms\tremaining: 572ms\n",
      "204:\tlearn: 0.1195580\ttotal: 147ms\tremaining: 570ms\n",
      "205:\tlearn: 0.1185038\ttotal: 147ms\tremaining: 568ms\n",
      "206:\tlearn: 0.1174947\ttotal: 148ms\tremaining: 566ms\n",
      "207:\tlearn: 0.1163659\ttotal: 148ms\tremaining: 564ms\n",
      "208:\tlearn: 0.1155724\ttotal: 149ms\tremaining: 563ms\n",
      "209:\tlearn: 0.1145906\ttotal: 149ms\tremaining: 561ms\n",
      "210:\tlearn: 0.1138317\ttotal: 149ms\tremaining: 559ms\n",
      "211:\tlearn: 0.1130004\ttotal: 150ms\tremaining: 559ms\n",
      "212:\tlearn: 0.1121445\ttotal: 151ms\tremaining: 557ms\n",
      "213:\tlearn: 0.1114805\ttotal: 151ms\tremaining: 555ms\n",
      "214:\tlearn: 0.1108074\ttotal: 152ms\tremaining: 553ms\n",
      "215:\tlearn: 0.1098078\ttotal: 152ms\tremaining: 552ms\n",
      "216:\tlearn: 0.1087779\ttotal: 152ms\tremaining: 550ms\n",
      "217:\tlearn: 0.1081340\ttotal: 153ms\tremaining: 548ms\n",
      "218:\tlearn: 0.1074844\ttotal: 153ms\tremaining: 547ms\n",
      "219:\tlearn: 0.1065869\ttotal: 154ms\tremaining: 545ms\n",
      "220:\tlearn: 0.1056079\ttotal: 154ms\tremaining: 543ms\n",
      "221:\tlearn: 0.1048375\ttotal: 154ms\tremaining: 541ms\n",
      "222:\tlearn: 0.1038223\ttotal: 155ms\tremaining: 540ms\n",
      "223:\tlearn: 0.1032826\ttotal: 155ms\tremaining: 539ms\n",
      "224:\tlearn: 0.1025099\ttotal: 156ms\tremaining: 537ms\n",
      "225:\tlearn: 0.1018918\ttotal: 156ms\tremaining: 535ms\n",
      "226:\tlearn: 0.1008912\ttotal: 157ms\tremaining: 533ms\n",
      "227:\tlearn: 0.1002212\ttotal: 157ms\tremaining: 532ms\n",
      "228:\tlearn: 0.0994893\ttotal: 157ms\tremaining: 530ms\n",
      "229:\tlearn: 0.0987645\ttotal: 158ms\tremaining: 528ms\n",
      "230:\tlearn: 0.0981907\ttotal: 158ms\tremaining: 527ms\n",
      "231:\tlearn: 0.0975506\ttotal: 159ms\tremaining: 525ms\n",
      "232:\tlearn: 0.0968300\ttotal: 159ms\tremaining: 524ms\n",
      "233:\tlearn: 0.0960266\ttotal: 159ms\tremaining: 522ms\n",
      "234:\tlearn: 0.0952420\ttotal: 160ms\tremaining: 520ms\n",
      "235:\tlearn: 0.0944716\ttotal: 160ms\tremaining: 519ms\n",
      "236:\tlearn: 0.0936960\ttotal: 161ms\tremaining: 517ms\n",
      "237:\tlearn: 0.0929281\ttotal: 161ms\tremaining: 516ms\n",
      "238:\tlearn: 0.0922464\ttotal: 162ms\tremaining: 514ms\n",
      "239:\tlearn: 0.0916371\ttotal: 162ms\tremaining: 513ms\n",
      "240:\tlearn: 0.0909333\ttotal: 162ms\tremaining: 512ms\n",
      "241:\tlearn: 0.0904990\ttotal: 163ms\tremaining: 510ms\n",
      "242:\tlearn: 0.0899332\ttotal: 163ms\tremaining: 509ms\n",
      "243:\tlearn: 0.0892842\ttotal: 164ms\tremaining: 507ms\n",
      "244:\tlearn: 0.0884639\ttotal: 164ms\tremaining: 506ms\n",
      "245:\tlearn: 0.0879635\ttotal: 165ms\tremaining: 505ms\n",
      "246:\tlearn: 0.0874014\ttotal: 165ms\tremaining: 503ms\n",
      "247:\tlearn: 0.0867744\ttotal: 165ms\tremaining: 502ms\n",
      "248:\tlearn: 0.0861757\ttotal: 166ms\tremaining: 500ms\n",
      "249:\tlearn: 0.0856087\ttotal: 166ms\tremaining: 499ms\n",
      "250:\tlearn: 0.0851430\ttotal: 167ms\tremaining: 498ms\n",
      "251:\tlearn: 0.0846803\ttotal: 167ms\tremaining: 496ms\n",
      "252:\tlearn: 0.0840710\ttotal: 168ms\tremaining: 495ms\n",
      "253:\tlearn: 0.0834251\ttotal: 168ms\tremaining: 493ms\n",
      "254:\tlearn: 0.0828675\ttotal: 168ms\tremaining: 492ms\n",
      "255:\tlearn: 0.0822705\ttotal: 169ms\tremaining: 491ms\n",
      "256:\tlearn: 0.0816877\ttotal: 169ms\tremaining: 489ms\n",
      "257:\tlearn: 0.0810376\ttotal: 170ms\tremaining: 488ms\n",
      "258:\tlearn: 0.0804913\ttotal: 170ms\tremaining: 486ms\n",
      "259:\tlearn: 0.0801165\ttotal: 170ms\tremaining: 485ms\n",
      "260:\tlearn: 0.0796904\ttotal: 171ms\tremaining: 483ms\n",
      "261:\tlearn: 0.0789504\ttotal: 171ms\tremaining: 482ms\n",
      "262:\tlearn: 0.0784860\ttotal: 172ms\tremaining: 481ms\n",
      "263:\tlearn: 0.0779637\ttotal: 172ms\tremaining: 480ms\n",
      "264:\tlearn: 0.0773097\ttotal: 173ms\tremaining: 478ms\n",
      "265:\tlearn: 0.0768236\ttotal: 173ms\tremaining: 477ms\n",
      "266:\tlearn: 0.0763896\ttotal: 173ms\tremaining: 476ms\n",
      "267:\tlearn: 0.0759164\ttotal: 174ms\tremaining: 475ms\n",
      "268:\tlearn: 0.0753675\ttotal: 174ms\tremaining: 473ms\n",
      "269:\tlearn: 0.0748220\ttotal: 175ms\tremaining: 472ms\n",
      "270:\tlearn: 0.0744676\ttotal: 175ms\tremaining: 471ms\n",
      "271:\tlearn: 0.0740108\ttotal: 176ms\tremaining: 470ms\n",
      "272:\tlearn: 0.0735875\ttotal: 176ms\tremaining: 469ms\n",
      "273:\tlearn: 0.0730853\ttotal: 177ms\tremaining: 468ms\n",
      "274:\tlearn: 0.0724554\ttotal: 177ms\tremaining: 467ms\n",
      "275:\tlearn: 0.0721313\ttotal: 178ms\tremaining: 466ms\n",
      "276:\tlearn: 0.0717034\ttotal: 178ms\tremaining: 465ms\n",
      "277:\tlearn: 0.0712850\ttotal: 178ms\tremaining: 463ms\n",
      "278:\tlearn: 0.0708051\ttotal: 179ms\tremaining: 462ms\n",
      "279:\tlearn: 0.0703904\ttotal: 179ms\tremaining: 461ms\n",
      "280:\tlearn: 0.0700403\ttotal: 179ms\tremaining: 459ms\n",
      "281:\tlearn: 0.0697142\ttotal: 180ms\tremaining: 458ms\n",
      "282:\tlearn: 0.0692698\ttotal: 180ms\tremaining: 457ms\n",
      "283:\tlearn: 0.0688875\ttotal: 181ms\tremaining: 456ms\n"
     ]
    },
    {
     "name": "stdout",
     "output_type": "stream",
     "text": [
      "284:\tlearn: 0.0684853\ttotal: 182ms\tremaining: 455ms\n",
      "285:\tlearn: 0.0681792\ttotal: 182ms\tremaining: 454ms\n",
      "286:\tlearn: 0.0678333\ttotal: 183ms\tremaining: 453ms\n",
      "287:\tlearn: 0.0673904\ttotal: 183ms\tremaining: 453ms\n",
      "288:\tlearn: 0.0669239\ttotal: 183ms\tremaining: 451ms\n",
      "289:\tlearn: 0.0665205\ttotal: 184ms\tremaining: 450ms\n",
      "290:\tlearn: 0.0660902\ttotal: 184ms\tremaining: 449ms\n",
      "291:\tlearn: 0.0657001\ttotal: 185ms\tremaining: 448ms\n",
      "292:\tlearn: 0.0653663\ttotal: 185ms\tremaining: 447ms\n",
      "293:\tlearn: 0.0649255\ttotal: 185ms\tremaining: 445ms\n",
      "294:\tlearn: 0.0646533\ttotal: 186ms\tremaining: 444ms\n",
      "295:\tlearn: 0.0643477\ttotal: 186ms\tremaining: 443ms\n",
      "296:\tlearn: 0.0639550\ttotal: 187ms\tremaining: 442ms\n",
      "297:\tlearn: 0.0636115\ttotal: 187ms\tremaining: 441ms\n",
      "298:\tlearn: 0.0632117\ttotal: 187ms\tremaining: 439ms\n",
      "299:\tlearn: 0.0628522\ttotal: 188ms\tremaining: 439ms\n",
      "300:\tlearn: 0.0625874\ttotal: 188ms\tremaining: 437ms\n",
      "301:\tlearn: 0.0622455\ttotal: 189ms\tremaining: 436ms\n",
      "302:\tlearn: 0.0618208\ttotal: 189ms\tremaining: 435ms\n",
      "303:\tlearn: 0.0615370\ttotal: 189ms\tremaining: 434ms\n",
      "304:\tlearn: 0.0610970\ttotal: 190ms\tremaining: 433ms\n",
      "305:\tlearn: 0.0608306\ttotal: 190ms\tremaining: 432ms\n",
      "306:\tlearn: 0.0605979\ttotal: 191ms\tremaining: 431ms\n",
      "307:\tlearn: 0.0601846\ttotal: 191ms\tremaining: 429ms\n",
      "308:\tlearn: 0.0597873\ttotal: 191ms\tremaining: 428ms\n",
      "309:\tlearn: 0.0594824\ttotal: 192ms\tremaining: 427ms\n",
      "310:\tlearn: 0.0592221\ttotal: 192ms\tremaining: 426ms\n",
      "311:\tlearn: 0.0589249\ttotal: 193ms\tremaining: 425ms\n",
      "312:\tlearn: 0.0587291\ttotal: 193ms\tremaining: 424ms\n",
      "313:\tlearn: 0.0583257\ttotal: 194ms\tremaining: 423ms\n",
      "314:\tlearn: 0.0579215\ttotal: 194ms\tremaining: 422ms\n",
      "315:\tlearn: 0.0575495\ttotal: 194ms\tremaining: 421ms\n",
      "316:\tlearn: 0.0572510\ttotal: 195ms\tremaining: 419ms\n",
      "317:\tlearn: 0.0570013\ttotal: 195ms\tremaining: 418ms\n",
      "318:\tlearn: 0.0566121\ttotal: 195ms\tremaining: 417ms\n",
      "319:\tlearn: 0.0562272\ttotal: 196ms\tremaining: 416ms\n",
      "320:\tlearn: 0.0559464\ttotal: 196ms\tremaining: 415ms\n",
      "321:\tlearn: 0.0556709\ttotal: 197ms\tremaining: 414ms\n",
      "322:\tlearn: 0.0553224\ttotal: 197ms\tremaining: 413ms\n",
      "323:\tlearn: 0.0549325\ttotal: 197ms\tremaining: 411ms\n",
      "324:\tlearn: 0.0545654\ttotal: 198ms\tremaining: 410ms\n",
      "325:\tlearn: 0.0543034\ttotal: 198ms\tremaining: 409ms\n",
      "326:\tlearn: 0.0540452\ttotal: 198ms\tremaining: 408ms\n",
      "327:\tlearn: 0.0538473\ttotal: 199ms\tremaining: 407ms\n",
      "328:\tlearn: 0.0536060\ttotal: 199ms\tremaining: 407ms\n",
      "329:\tlearn: 0.0533267\ttotal: 200ms\tremaining: 406ms\n",
      "330:\tlearn: 0.0530053\ttotal: 200ms\tremaining: 405ms\n",
      "331:\tlearn: 0.0527710\ttotal: 201ms\tremaining: 404ms\n",
      "332:\tlearn: 0.0525157\ttotal: 201ms\tremaining: 403ms\n",
      "333:\tlearn: 0.0521640\ttotal: 201ms\tremaining: 402ms\n",
      "334:\tlearn: 0.0519232\ttotal: 202ms\tremaining: 401ms\n",
      "335:\tlearn: 0.0517236\ttotal: 202ms\tremaining: 400ms\n",
      "336:\tlearn: 0.0515072\ttotal: 203ms\tremaining: 400ms\n",
      "337:\tlearn: 0.0511577\ttotal: 204ms\tremaining: 400ms\n",
      "338:\tlearn: 0.0509359\ttotal: 204ms\tremaining: 398ms\n",
      "339:\tlearn: 0.0505945\ttotal: 205ms\tremaining: 398ms\n",
      "340:\tlearn: 0.0502684\ttotal: 205ms\tremaining: 396ms\n",
      "341:\tlearn: 0.0499471\ttotal: 206ms\tremaining: 395ms\n",
      "342:\tlearn: 0.0497304\ttotal: 206ms\tremaining: 395ms\n",
      "343:\tlearn: 0.0495013\ttotal: 206ms\tremaining: 394ms\n",
      "344:\tlearn: 0.0492760\ttotal: 207ms\tremaining: 393ms\n",
      "345:\tlearn: 0.0490663\ttotal: 207ms\tremaining: 391ms\n",
      "346:\tlearn: 0.0488592\ttotal: 207ms\tremaining: 390ms\n",
      "347:\tlearn: 0.0486375\ttotal: 208ms\tremaining: 389ms\n",
      "348:\tlearn: 0.0482872\ttotal: 208ms\tremaining: 389ms\n",
      "349:\tlearn: 0.0480730\ttotal: 209ms\tremaining: 388ms\n",
      "350:\tlearn: 0.0478735\ttotal: 209ms\tremaining: 387ms\n",
      "351:\tlearn: 0.0476573\ttotal: 210ms\tremaining: 386ms\n",
      "352:\tlearn: 0.0474610\ttotal: 210ms\tremaining: 385ms\n",
      "353:\tlearn: 0.0471528\ttotal: 210ms\tremaining: 384ms\n",
      "354:\tlearn: 0.0469621\ttotal: 211ms\tremaining: 383ms\n",
      "355:\tlearn: 0.0467392\ttotal: 211ms\tremaining: 382ms\n",
      "356:\tlearn: 0.0465597\ttotal: 212ms\tremaining: 381ms\n",
      "357:\tlearn: 0.0463967\ttotal: 212ms\tremaining: 380ms\n",
      "358:\tlearn: 0.0460918\ttotal: 212ms\tremaining: 379ms\n",
      "359:\tlearn: 0.0457665\ttotal: 213ms\tremaining: 378ms\n",
      "360:\tlearn: 0.0455833\ttotal: 213ms\tremaining: 377ms\n",
      "361:\tlearn: 0.0454049\ttotal: 214ms\tremaining: 376ms\n",
      "362:\tlearn: 0.0452483\ttotal: 214ms\tremaining: 375ms\n",
      "363:\tlearn: 0.0449624\ttotal: 214ms\tremaining: 375ms\n",
      "364:\tlearn: 0.0447852\ttotal: 215ms\tremaining: 374ms\n",
      "365:\tlearn: 0.0444961\ttotal: 215ms\tremaining: 373ms\n",
      "366:\tlearn: 0.0443301\ttotal: 216ms\tremaining: 372ms\n",
      "367:\tlearn: 0.0441662\ttotal: 216ms\tremaining: 372ms\n",
      "368:\tlearn: 0.0438912\ttotal: 217ms\tremaining: 371ms\n",
      "369:\tlearn: 0.0437301\ttotal: 217ms\tremaining: 370ms\n",
      "370:\tlearn: 0.0434282\ttotal: 217ms\tremaining: 369ms\n",
      "371:\tlearn: 0.0432705\ttotal: 218ms\tremaining: 368ms\n",
      "372:\tlearn: 0.0431108\ttotal: 218ms\tremaining: 367ms\n",
      "373:\tlearn: 0.0428358\ttotal: 219ms\tremaining: 366ms\n",
      "374:\tlearn: 0.0426827\ttotal: 219ms\tremaining: 365ms\n",
      "375:\tlearn: 0.0425232\ttotal: 220ms\tremaining: 365ms\n",
      "376:\tlearn: 0.0422362\ttotal: 220ms\tremaining: 364ms\n",
      "377:\tlearn: 0.0420883\ttotal: 220ms\tremaining: 363ms\n",
      "378:\tlearn: 0.0418451\ttotal: 221ms\tremaining: 362ms\n",
      "379:\tlearn: 0.0416915\ttotal: 221ms\tremaining: 361ms\n",
      "380:\tlearn: 0.0414527\ttotal: 222ms\tremaining: 360ms\n",
      "381:\tlearn: 0.0413094\ttotal: 222ms\tremaining: 359ms\n",
      "382:\tlearn: 0.0410748\ttotal: 223ms\tremaining: 358ms\n",
      "383:\tlearn: 0.0408441\ttotal: 223ms\tremaining: 358ms\n",
      "384:\tlearn: 0.0407036\ttotal: 224ms\tremaining: 357ms\n",
      "385:\tlearn: 0.0405736\ttotal: 224ms\tremaining: 356ms\n",
      "386:\tlearn: 0.0404353\ttotal: 225ms\tremaining: 356ms\n",
      "387:\tlearn: 0.0402988\ttotal: 225ms\tremaining: 355ms\n",
      "388:\tlearn: 0.0401680\ttotal: 226ms\tremaining: 355ms\n",
      "389:\tlearn: 0.0399447\ttotal: 226ms\tremaining: 354ms\n",
      "390:\tlearn: 0.0397012\ttotal: 227ms\tremaining: 353ms\n",
      "391:\tlearn: 0.0395682\ttotal: 227ms\tremaining: 352ms\n",
      "392:\tlearn: 0.0394368\ttotal: 228ms\tremaining: 351ms\n",
      "393:\tlearn: 0.0393149\ttotal: 228ms\tremaining: 351ms\n",
      "394:\tlearn: 0.0391858\ttotal: 228ms\tremaining: 350ms\n",
      "395:\tlearn: 0.0389310\ttotal: 229ms\tremaining: 349ms\n",
      "396:\tlearn: 0.0388047\ttotal: 229ms\tremaining: 348ms\n",
      "397:\tlearn: 0.0386801\ttotal: 230ms\tremaining: 347ms\n",
      "398:\tlearn: 0.0385570\ttotal: 230ms\tremaining: 347ms\n",
      "399:\tlearn: 0.0383204\ttotal: 230ms\tremaining: 346ms\n",
      "400:\tlearn: 0.0381746\ttotal: 231ms\tremaining: 345ms\n",
      "401:\tlearn: 0.0379671\ttotal: 231ms\tremaining: 344ms\n",
      "402:\tlearn: 0.0378474\ttotal: 232ms\tremaining: 343ms\n",
      "403:\tlearn: 0.0377293\ttotal: 232ms\tremaining: 342ms\n",
      "404:\tlearn: 0.0374746\ttotal: 232ms\tremaining: 341ms\n",
      "405:\tlearn: 0.0373582\ttotal: 233ms\tremaining: 340ms\n",
      "406:\tlearn: 0.0371582\ttotal: 233ms\tremaining: 339ms\n",
      "407:\tlearn: 0.0370437\ttotal: 233ms\tremaining: 339ms\n",
      "408:\tlearn: 0.0369098\ttotal: 234ms\tremaining: 338ms\n",
      "409:\tlearn: 0.0367746\ttotal: 234ms\tremaining: 337ms\n",
      "410:\tlearn: 0.0366632\ttotal: 234ms\tremaining: 336ms\n",
      "411:\tlearn: 0.0364298\ttotal: 235ms\tremaining: 335ms\n",
      "412:\tlearn: 0.0363201\ttotal: 235ms\tremaining: 334ms\n",
      "413:\tlearn: 0.0360798\ttotal: 236ms\tremaining: 333ms\n",
      "414:\tlearn: 0.0359716\ttotal: 236ms\tremaining: 333ms\n",
      "415:\tlearn: 0.0357465\ttotal: 236ms\tremaining: 332ms\n",
      "416:\tlearn: 0.0356274\ttotal: 237ms\tremaining: 331ms\n",
      "417:\tlearn: 0.0355102\ttotal: 237ms\tremaining: 331ms\n",
      "418:\tlearn: 0.0353248\ttotal: 238ms\tremaining: 330ms\n",
      "419:\tlearn: 0.0352095\ttotal: 238ms\tremaining: 329ms\n",
      "420:\tlearn: 0.0349785\ttotal: 239ms\tremaining: 328ms\n",
      "421:\tlearn: 0.0347985\ttotal: 239ms\tremaining: 328ms\n",
      "422:\tlearn: 0.0345981\ttotal: 240ms\tremaining: 327ms\n",
      "423:\tlearn: 0.0344858\ttotal: 240ms\tremaining: 326ms\n",
      "424:\tlearn: 0.0343860\ttotal: 241ms\tremaining: 325ms\n",
      "425:\tlearn: 0.0342766\ttotal: 241ms\tremaining: 325ms\n",
      "426:\tlearn: 0.0341794\ttotal: 242ms\tremaining: 324ms\n",
      "427:\tlearn: 0.0339657\ttotal: 242ms\tremaining: 323ms\n",
      "428:\tlearn: 0.0338593\ttotal: 242ms\tremaining: 323ms\n",
      "429:\tlearn: 0.0337544\ttotal: 243ms\tremaining: 322ms\n",
      "430:\tlearn: 0.0335452\ttotal: 243ms\tremaining: 321ms\n",
      "431:\tlearn: 0.0334478\ttotal: 244ms\tremaining: 321ms\n",
      "432:\tlearn: 0.0333517\ttotal: 244ms\tremaining: 320ms\n",
      "433:\tlearn: 0.0330796\ttotal: 245ms\tremaining: 319ms\n",
      "434:\tlearn: 0.0328782\ttotal: 245ms\tremaining: 319ms\n",
      "435:\tlearn: 0.0327783\ttotal: 246ms\tremaining: 318ms\n",
      "436:\tlearn: 0.0326799\ttotal: 246ms\tremaining: 317ms\n",
      "437:\tlearn: 0.0324194\ttotal: 247ms\tremaining: 317ms\n",
      "438:\tlearn: 0.0323280\ttotal: 247ms\tremaining: 316ms\n",
      "439:\tlearn: 0.0320744\ttotal: 248ms\tremaining: 315ms\n",
      "440:\tlearn: 0.0319847\ttotal: 248ms\tremaining: 314ms\n",
      "441:\tlearn: 0.0317877\ttotal: 248ms\tremaining: 314ms\n",
      "442:\tlearn: 0.0316945\ttotal: 249ms\tremaining: 313ms\n",
      "443:\tlearn: 0.0314510\ttotal: 249ms\tremaining: 312ms\n",
      "444:\tlearn: 0.0313598\ttotal: 250ms\tremaining: 311ms\n",
      "445:\tlearn: 0.0311703\ttotal: 250ms\tremaining: 311ms\n",
      "446:\tlearn: 0.0310547\ttotal: 250ms\tremaining: 310ms\n",
      "447:\tlearn: 0.0308210\ttotal: 251ms\tremaining: 309ms\n",
      "448:\tlearn: 0.0307197\ttotal: 251ms\tremaining: 309ms\n",
      "449:\tlearn: 0.0306198\ttotal: 252ms\tremaining: 308ms\n",
      "450:\tlearn: 0.0304698\ttotal: 252ms\tremaining: 307ms\n",
      "451:\tlearn: 0.0303585\ttotal: 253ms\tremaining: 307ms\n",
      "452:\tlearn: 0.0301345\ttotal: 253ms\tremaining: 306ms\n",
      "453:\tlearn: 0.0300505\ttotal: 254ms\tremaining: 305ms\n",
      "454:\tlearn: 0.0299548\ttotal: 254ms\tremaining: 304ms\n",
      "455:\tlearn: 0.0297376\ttotal: 255ms\tremaining: 304ms\n",
      "456:\tlearn: 0.0296261\ttotal: 255ms\tremaining: 303ms\n",
      "457:\tlearn: 0.0295688\ttotal: 255ms\tremaining: 302ms\n",
      "458:\tlearn: 0.0295124\ttotal: 256ms\tremaining: 302ms\n",
      "459:\tlearn: 0.0294581\ttotal: 257ms\tremaining: 301ms\n",
      "460:\tlearn: 0.0294045\ttotal: 257ms\tremaining: 301ms\n",
      "461:\tlearn: 0.0292932\ttotal: 257ms\tremaining: 300ms\n",
      "462:\tlearn: 0.0292405\ttotal: 258ms\tremaining: 299ms\n",
      "463:\tlearn: 0.0291886\ttotal: 258ms\tremaining: 298ms\n",
      "464:\tlearn: 0.0290139\ttotal: 259ms\tremaining: 298ms\n",
      "465:\tlearn: 0.0288699\ttotal: 259ms\tremaining: 297ms\n",
      "466:\tlearn: 0.0288189\ttotal: 260ms\tremaining: 296ms\n",
      "467:\tlearn: 0.0286776\ttotal: 260ms\tremaining: 296ms\n",
      "468:\tlearn: 0.0285388\ttotal: 260ms\tremaining: 295ms\n",
      "469:\tlearn: 0.0284024\ttotal: 261ms\tremaining: 294ms\n",
      "470:\tlearn: 0.0283424\ttotal: 261ms\tremaining: 293ms\n",
      "471:\tlearn: 0.0282930\ttotal: 262ms\tremaining: 293ms\n",
      "472:\tlearn: 0.0282442\ttotal: 262ms\tremaining: 292ms\n",
      "473:\tlearn: 0.0281962\ttotal: 263ms\tremaining: 291ms\n",
      "474:\tlearn: 0.0281489\ttotal: 263ms\tremaining: 291ms\n",
      "475:\tlearn: 0.0280157\ttotal: 263ms\tremaining: 290ms\n",
      "476:\tlearn: 0.0278849\ttotal: 264ms\tremaining: 289ms\n",
      "477:\tlearn: 0.0278409\ttotal: 264ms\tremaining: 289ms\n",
      "478:\tlearn: 0.0277125\ttotal: 265ms\tremaining: 288ms\n",
      "479:\tlearn: 0.0275863\ttotal: 265ms\tremaining: 287ms\n",
      "480:\tlearn: 0.0273768\ttotal: 266ms\tremaining: 287ms\n",
      "481:\tlearn: 0.0271715\ttotal: 266ms\tremaining: 286ms\n",
      "482:\tlearn: 0.0269728\ttotal: 267ms\tremaining: 286ms\n",
      "483:\tlearn: 0.0267646\ttotal: 267ms\tremaining: 285ms\n",
      "484:\tlearn: 0.0266834\ttotal: 268ms\tremaining: 284ms\n",
      "485:\tlearn: 0.0264802\ttotal: 268ms\tremaining: 283ms\n",
      "486:\tlearn: 0.0264300\ttotal: 268ms\tremaining: 283ms\n",
      "487:\tlearn: 0.0262417\ttotal: 269ms\tremaining: 282ms\n",
      "488:\tlearn: 0.0260453\ttotal: 269ms\tremaining: 282ms\n",
      "489:\tlearn: 0.0259051\ttotal: 270ms\tremaining: 281ms\n",
      "490:\tlearn: 0.0258570\ttotal: 270ms\tremaining: 280ms\n",
      "491:\tlearn: 0.0256661\ttotal: 271ms\tremaining: 280ms\n",
      "492:\tlearn: 0.0256192\ttotal: 271ms\tremaining: 279ms\n",
      "493:\tlearn: 0.0254124\ttotal: 272ms\tremaining: 278ms\n",
      "494:\tlearn: 0.0253668\ttotal: 272ms\tremaining: 278ms\n",
      "495:\tlearn: 0.0251837\ttotal: 273ms\tremaining: 277ms\n",
      "496:\tlearn: 0.0250498\ttotal: 273ms\tremaining: 276ms\n",
      "497:\tlearn: 0.0250057\ttotal: 273ms\tremaining: 276ms\n",
      "498:\tlearn: 0.0248275\ttotal: 274ms\tremaining: 275ms\n",
      "499:\tlearn: 0.0247948\ttotal: 274ms\tremaining: 274ms\n",
      "500:\tlearn: 0.0246516\ttotal: 275ms\tremaining: 274ms\n",
      "501:\tlearn: 0.0245248\ttotal: 275ms\tremaining: 273ms\n"
     ]
    },
    {
     "name": "stdout",
     "output_type": "stream",
     "text": [
      "502:\tlearn: 0.0244791\ttotal: 276ms\tremaining: 273ms\n",
      "503:\tlearn: 0.0242886\ttotal: 277ms\tremaining: 272ms\n",
      "504:\tlearn: 0.0242236\ttotal: 277ms\tremaining: 272ms\n",
      "505:\tlearn: 0.0240858\ttotal: 277ms\tremaining: 271ms\n",
      "506:\tlearn: 0.0239649\ttotal: 278ms\tremaining: 270ms\n",
      "507:\tlearn: 0.0239100\ttotal: 278ms\tremaining: 269ms\n",
      "508:\tlearn: 0.0237755\ttotal: 279ms\tremaining: 269ms\n",
      "509:\tlearn: 0.0236584\ttotal: 279ms\tremaining: 268ms\n",
      "510:\tlearn: 0.0236050\ttotal: 279ms\tremaining: 267ms\n",
      "511:\tlearn: 0.0235437\ttotal: 280ms\tremaining: 267ms\n",
      "512:\tlearn: 0.0233837\ttotal: 281ms\tremaining: 266ms\n",
      "513:\tlearn: 0.0232643\ttotal: 281ms\tremaining: 266ms\n",
      "514:\tlearn: 0.0231439\ttotal: 281ms\tremaining: 265ms\n",
      "515:\tlearn: 0.0230228\ttotal: 282ms\tremaining: 264ms\n",
      "516:\tlearn: 0.0229813\ttotal: 282ms\tremaining: 264ms\n",
      "517:\tlearn: 0.0229311\ttotal: 282ms\tremaining: 263ms\n",
      "518:\tlearn: 0.0228128\ttotal: 283ms\tremaining: 262ms\n",
      "519:\tlearn: 0.0227371\ttotal: 283ms\tremaining: 261ms\n",
      "520:\tlearn: 0.0226342\ttotal: 283ms\tremaining: 261ms\n",
      "521:\tlearn: 0.0225329\ttotal: 284ms\tremaining: 260ms\n",
      "522:\tlearn: 0.0224186\ttotal: 284ms\tremaining: 259ms\n",
      "523:\tlearn: 0.0223050\ttotal: 285ms\tremaining: 259ms\n",
      "524:\tlearn: 0.0222061\ttotal: 285ms\tremaining: 258ms\n",
      "525:\tlearn: 0.0220949\ttotal: 286ms\tremaining: 257ms\n",
      "526:\tlearn: 0.0220120\ttotal: 286ms\tremaining: 257ms\n",
      "527:\tlearn: 0.0218900\ttotal: 287ms\tremaining: 256ms\n",
      "528:\tlearn: 0.0217890\ttotal: 287ms\tremaining: 256ms\n",
      "529:\tlearn: 0.0217033\ttotal: 288ms\tremaining: 255ms\n",
      "530:\tlearn: 0.0216090\ttotal: 288ms\tremaining: 254ms\n",
      "531:\tlearn: 0.0215292\ttotal: 288ms\tremaining: 254ms\n",
      "532:\tlearn: 0.0214192\ttotal: 289ms\tremaining: 253ms\n",
      "533:\tlearn: 0.0213152\ttotal: 289ms\tremaining: 253ms\n",
      "534:\tlearn: 0.0212191\ttotal: 290ms\tremaining: 252ms\n",
      "535:\tlearn: 0.0211409\ttotal: 290ms\tremaining: 251ms\n",
      "536:\tlearn: 0.0210354\ttotal: 291ms\tremaining: 251ms\n",
      "537:\tlearn: 0.0209317\ttotal: 291ms\tremaining: 250ms\n",
      "538:\tlearn: 0.0208427\ttotal: 292ms\tremaining: 250ms\n",
      "539:\tlearn: 0.0207317\ttotal: 292ms\tremaining: 249ms\n",
      "540:\tlearn: 0.0207028\ttotal: 293ms\tremaining: 249ms\n",
      "541:\tlearn: 0.0206742\ttotal: 293ms\tremaining: 248ms\n",
      "542:\tlearn: 0.0205942\ttotal: 294ms\tremaining: 247ms\n",
      "543:\tlearn: 0.0204949\ttotal: 294ms\tremaining: 247ms\n",
      "544:\tlearn: 0.0203973\ttotal: 295ms\tremaining: 246ms\n",
      "545:\tlearn: 0.0202792\ttotal: 295ms\tremaining: 245ms\n",
      "546:\tlearn: 0.0201761\ttotal: 295ms\tremaining: 245ms\n",
      "547:\tlearn: 0.0201489\ttotal: 296ms\tremaining: 244ms\n",
      "548:\tlearn: 0.0200723\ttotal: 296ms\tremaining: 243ms\n",
      "549:\tlearn: 0.0200383\ttotal: 297ms\tremaining: 243ms\n",
      "550:\tlearn: 0.0199548\ttotal: 297ms\tremaining: 242ms\n",
      "551:\tlearn: 0.0199285\ttotal: 298ms\tremaining: 242ms\n",
      "552:\tlearn: 0.0198148\ttotal: 298ms\tremaining: 241ms\n",
      "553:\tlearn: 0.0197414\ttotal: 298ms\tremaining: 240ms\n",
      "554:\tlearn: 0.0196501\ttotal: 299ms\tremaining: 240ms\n",
      "555:\tlearn: 0.0195775\ttotal: 299ms\tremaining: 239ms\n",
      "556:\tlearn: 0.0194799\ttotal: 300ms\tremaining: 238ms\n",
      "557:\tlearn: 0.0193908\ttotal: 300ms\tremaining: 238ms\n",
      "558:\tlearn: 0.0192771\ttotal: 301ms\tremaining: 237ms\n",
      "559:\tlearn: 0.0191716\ttotal: 301ms\tremaining: 236ms\n",
      "560:\tlearn: 0.0190937\ttotal: 301ms\tremaining: 236ms\n",
      "561:\tlearn: 0.0190175\ttotal: 302ms\tremaining: 235ms\n",
      "562:\tlearn: 0.0189207\ttotal: 302ms\tremaining: 235ms\n",
      "563:\tlearn: 0.0188347\ttotal: 303ms\tremaining: 234ms\n",
      "564:\tlearn: 0.0187513\ttotal: 303ms\tremaining: 234ms\n",
      "565:\tlearn: 0.0186694\ttotal: 304ms\tremaining: 233ms\n",
      "566:\tlearn: 0.0185887\ttotal: 304ms\tremaining: 233ms\n",
      "567:\tlearn: 0.0184693\ttotal: 305ms\tremaining: 232ms\n",
      "568:\tlearn: 0.0183653\ttotal: 306ms\tremaining: 232ms\n",
      "569:\tlearn: 0.0182595\ttotal: 307ms\tremaining: 231ms\n",
      "570:\tlearn: 0.0181645\ttotal: 308ms\tremaining: 231ms\n",
      "571:\tlearn: 0.0180727\ttotal: 308ms\tremaining: 230ms\n",
      "572:\tlearn: 0.0179931\ttotal: 309ms\tremaining: 230ms\n",
      "573:\tlearn: 0.0179128\ttotal: 309ms\tremaining: 229ms\n",
      "574:\tlearn: 0.0178102\ttotal: 310ms\tremaining: 229ms\n",
      "575:\tlearn: 0.0177316\ttotal: 310ms\tremaining: 228ms\n",
      "576:\tlearn: 0.0176325\ttotal: 311ms\tremaining: 228ms\n",
      "577:\tlearn: 0.0175159\ttotal: 311ms\tremaining: 227ms\n",
      "578:\tlearn: 0.0174456\ttotal: 311ms\tremaining: 226ms\n",
      "579:\tlearn: 0.0173765\ttotal: 312ms\tremaining: 226ms\n",
      "580:\tlearn: 0.0173145\ttotal: 312ms\tremaining: 225ms\n",
      "581:\tlearn: 0.0172386\ttotal: 313ms\tremaining: 224ms\n",
      "582:\tlearn: 0.0171452\ttotal: 313ms\tremaining: 224ms\n",
      "583:\tlearn: 0.0170339\ttotal: 313ms\tremaining: 223ms\n",
      "584:\tlearn: 0.0169679\ttotal: 314ms\tremaining: 223ms\n",
      "585:\tlearn: 0.0169012\ttotal: 314ms\tremaining: 222ms\n",
      "586:\tlearn: 0.0168838\ttotal: 315ms\tremaining: 222ms\n",
      "587:\tlearn: 0.0168196\ttotal: 315ms\tremaining: 221ms\n",
      "588:\tlearn: 0.0168026\ttotal: 316ms\tremaining: 221ms\n",
      "589:\tlearn: 0.0167185\ttotal: 316ms\tremaining: 220ms\n",
      "590:\tlearn: 0.0166561\ttotal: 317ms\tremaining: 219ms\n",
      "591:\tlearn: 0.0166395\ttotal: 317ms\tremaining: 218ms\n",
      "592:\tlearn: 0.0165505\ttotal: 318ms\tremaining: 218ms\n",
      "593:\tlearn: 0.0164863\ttotal: 318ms\tremaining: 217ms\n",
      "594:\tlearn: 0.0164054\ttotal: 318ms\tremaining: 217ms\n",
      "595:\tlearn: 0.0163198\ttotal: 319ms\tremaining: 216ms\n",
      "596:\tlearn: 0.0162572\ttotal: 319ms\tremaining: 215ms\n",
      "597:\tlearn: 0.0161737\ttotal: 319ms\tremaining: 215ms\n",
      "598:\tlearn: 0.0161125\ttotal: 320ms\tremaining: 214ms\n",
      "599:\tlearn: 0.0160358\ttotal: 320ms\tremaining: 214ms\n",
      "600:\tlearn: 0.0159401\ttotal: 321ms\tremaining: 213ms\n",
      "601:\tlearn: 0.0158464\ttotal: 321ms\tremaining: 212ms\n",
      "602:\tlearn: 0.0157858\ttotal: 322ms\tremaining: 212ms\n",
      "603:\tlearn: 0.0157328\ttotal: 322ms\tremaining: 211ms\n",
      "604:\tlearn: 0.0156680\ttotal: 323ms\tremaining: 211ms\n",
      "605:\tlearn: 0.0155778\ttotal: 323ms\tremaining: 210ms\n",
      "606:\tlearn: 0.0154953\ttotal: 323ms\tremaining: 209ms\n",
      "607:\tlearn: 0.0154377\ttotal: 324ms\tremaining: 209ms\n",
      "608:\tlearn: 0.0153812\ttotal: 324ms\tremaining: 208ms\n",
      "609:\tlearn: 0.0153079\ttotal: 324ms\tremaining: 207ms\n",
      "610:\tlearn: 0.0152443\ttotal: 325ms\tremaining: 207ms\n",
      "611:\tlearn: 0.0151730\ttotal: 326ms\tremaining: 206ms\n",
      "612:\tlearn: 0.0151242\ttotal: 326ms\tremaining: 206ms\n",
      "613:\tlearn: 0.0150545\ttotal: 326ms\tremaining: 205ms\n",
      "614:\tlearn: 0.0150010\ttotal: 327ms\tremaining: 205ms\n",
      "615:\tlearn: 0.0149309\ttotal: 327ms\tremaining: 204ms\n",
      "616:\tlearn: 0.0148736\ttotal: 328ms\tremaining: 203ms\n",
      "617:\tlearn: 0.0148057\ttotal: 328ms\tremaining: 203ms\n",
      "618:\tlearn: 0.0147255\ttotal: 329ms\tremaining: 202ms\n",
      "619:\tlearn: 0.0146668\ttotal: 329ms\tremaining: 202ms\n",
      "620:\tlearn: 0.0146038\ttotal: 330ms\tremaining: 201ms\n",
      "621:\tlearn: 0.0145280\ttotal: 331ms\tremaining: 201ms\n",
      "622:\tlearn: 0.0144720\ttotal: 331ms\tremaining: 200ms\n",
      "623:\tlearn: 0.0143984\ttotal: 332ms\tremaining: 200ms\n",
      "624:\tlearn: 0.0143345\ttotal: 333ms\tremaining: 200ms\n",
      "625:\tlearn: 0.0142713\ttotal: 334ms\tremaining: 200ms\n",
      "626:\tlearn: 0.0142268\ttotal: 335ms\tremaining: 199ms\n",
      "627:\tlearn: 0.0141933\ttotal: 336ms\tremaining: 199ms\n",
      "628:\tlearn: 0.0141397\ttotal: 337ms\tremaining: 199ms\n",
      "629:\tlearn: 0.0140779\ttotal: 338ms\tremaining: 199ms\n",
      "630:\tlearn: 0.0140254\ttotal: 340ms\tremaining: 199ms\n",
      "631:\tlearn: 0.0139645\ttotal: 341ms\tremaining: 198ms\n",
      "632:\tlearn: 0.0139047\ttotal: 341ms\tremaining: 198ms\n",
      "633:\tlearn: 0.0138531\ttotal: 342ms\tremaining: 197ms\n",
      "634:\tlearn: 0.0137942\ttotal: 343ms\tremaining: 197ms\n",
      "635:\tlearn: 0.0137364\ttotal: 344ms\tremaining: 197ms\n",
      "636:\tlearn: 0.0136618\ttotal: 344ms\tremaining: 196ms\n",
      "637:\tlearn: 0.0136051\ttotal: 345ms\tremaining: 196ms\n",
      "638:\tlearn: 0.0135588\ttotal: 346ms\tremaining: 195ms\n",
      "639:\tlearn: 0.0135282\ttotal: 346ms\tremaining: 195ms\n",
      "640:\tlearn: 0.0134810\ttotal: 347ms\tremaining: 194ms\n",
      "641:\tlearn: 0.0134053\ttotal: 348ms\tremaining: 194ms\n",
      "642:\tlearn: 0.0133756\ttotal: 348ms\tremaining: 193ms\n",
      "643:\tlearn: 0.0133301\ttotal: 349ms\tremaining: 193ms\n",
      "644:\tlearn: 0.0133029\ttotal: 349ms\tremaining: 192ms\n",
      "645:\tlearn: 0.0132537\ttotal: 349ms\tremaining: 191ms\n",
      "646:\tlearn: 0.0131814\ttotal: 350ms\tremaining: 191ms\n",
      "647:\tlearn: 0.0131548\ttotal: 350ms\tremaining: 190ms\n",
      "648:\tlearn: 0.0130991\ttotal: 351ms\tremaining: 190ms\n",
      "649:\tlearn: 0.0130713\ttotal: 351ms\tremaining: 189ms\n",
      "650:\tlearn: 0.0130309\ttotal: 351ms\tremaining: 188ms\n",
      "651:\tlearn: 0.0129611\ttotal: 352ms\tremaining: 188ms\n",
      "652:\tlearn: 0.0128914\ttotal: 352ms\tremaining: 187ms\n",
      "653:\tlearn: 0.0128208\ttotal: 352ms\tremaining: 186ms\n",
      "654:\tlearn: 0.0127518\ttotal: 353ms\tremaining: 186ms\n",
      "655:\tlearn: 0.0127108\ttotal: 353ms\tremaining: 185ms\n",
      "656:\tlearn: 0.0126419\ttotal: 354ms\tremaining: 185ms\n",
      "657:\tlearn: 0.0125742\ttotal: 354ms\tremaining: 184ms\n",
      "658:\tlearn: 0.0125034\ttotal: 354ms\tremaining: 183ms\n",
      "659:\tlearn: 0.0124473\ttotal: 355ms\tremaining: 183ms\n",
      "660:\tlearn: 0.0123816\ttotal: 355ms\tremaining: 182ms\n",
      "661:\tlearn: 0.0123165\ttotal: 356ms\tremaining: 182ms\n",
      "662:\tlearn: 0.0122526\ttotal: 356ms\tremaining: 181ms\n",
      "663:\tlearn: 0.0121899\ttotal: 356ms\tremaining: 180ms\n",
      "664:\tlearn: 0.0121318\ttotal: 357ms\tremaining: 180ms\n",
      "665:\tlearn: 0.0120707\ttotal: 357ms\tremaining: 179ms\n",
      "666:\tlearn: 0.0120143\ttotal: 358ms\tremaining: 179ms\n",
      "667:\tlearn: 0.0119547\ttotal: 358ms\tremaining: 178ms\n",
      "668:\tlearn: 0.0118999\ttotal: 358ms\tremaining: 177ms\n",
      "669:\tlearn: 0.0118408\ttotal: 359ms\tremaining: 177ms\n",
      "670:\tlearn: 0.0117914\ttotal: 359ms\tremaining: 176ms\n",
      "671:\tlearn: 0.0117432\ttotal: 359ms\tremaining: 175ms\n",
      "672:\tlearn: 0.0116859\ttotal: 360ms\tremaining: 175ms\n",
      "673:\tlearn: 0.0116393\ttotal: 360ms\tremaining: 174ms\n",
      "674:\tlearn: 0.0115779\ttotal: 360ms\tremaining: 174ms\n",
      "675:\tlearn: 0.0115329\ttotal: 361ms\tremaining: 173ms\n"
     ]
    },
    {
     "name": "stdout",
     "output_type": "stream",
     "text": [
      "676:\tlearn: 0.0114844\ttotal: 361ms\tremaining: 172ms\n",
      "677:\tlearn: 0.0114537\ttotal: 362ms\tremaining: 172ms\n",
      "678:\tlearn: 0.0113877\ttotal: 362ms\tremaining: 171ms\n",
      "679:\tlearn: 0.0113532\ttotal: 363ms\tremaining: 171ms\n",
      "680:\tlearn: 0.0113096\ttotal: 363ms\tremaining: 170ms\n",
      "681:\tlearn: 0.0112803\ttotal: 364ms\tremaining: 170ms\n",
      "682:\tlearn: 0.0112517\ttotal: 364ms\tremaining: 169ms\n",
      "683:\tlearn: 0.0111884\ttotal: 365ms\tremaining: 168ms\n",
      "684:\tlearn: 0.0111551\ttotal: 365ms\tremaining: 168ms\n",
      "685:\tlearn: 0.0111226\ttotal: 366ms\tremaining: 167ms\n",
      "686:\tlearn: 0.0110949\ttotal: 366ms\tremaining: 167ms\n",
      "687:\tlearn: 0.0110341\ttotal: 366ms\tremaining: 166ms\n",
      "688:\tlearn: 0.0109924\ttotal: 367ms\tremaining: 165ms\n",
      "689:\tlearn: 0.0109653\ttotal: 367ms\tremaining: 165ms\n",
      "690:\tlearn: 0.0109387\ttotal: 368ms\tremaining: 165ms\n",
      "691:\tlearn: 0.0108874\ttotal: 368ms\tremaining: 164ms\n",
      "692:\tlearn: 0.0108398\ttotal: 369ms\tremaining: 163ms\n",
      "693:\tlearn: 0.0107800\ttotal: 369ms\tremaining: 163ms\n",
      "694:\tlearn: 0.0107397\ttotal: 370ms\tremaining: 162ms\n",
      "695:\tlearn: 0.0107145\ttotal: 370ms\tremaining: 162ms\n",
      "696:\tlearn: 0.0106894\ttotal: 371ms\tremaining: 161ms\n",
      "697:\tlearn: 0.0106518\ttotal: 372ms\tremaining: 161ms\n",
      "698:\tlearn: 0.0106058\ttotal: 374ms\tremaining: 161ms\n",
      "699:\tlearn: 0.0105609\ttotal: 375ms\tremaining: 161ms\n",
      "700:\tlearn: 0.0105048\ttotal: 376ms\tremaining: 160ms\n",
      "701:\tlearn: 0.0104682\ttotal: 377ms\tremaining: 160ms\n",
      "702:\tlearn: 0.0104476\ttotal: 378ms\tremaining: 160ms\n",
      "703:\tlearn: 0.0103928\ttotal: 379ms\tremaining: 159ms\n",
      "704:\tlearn: 0.0103722\ttotal: 379ms\tremaining: 159ms\n",
      "705:\tlearn: 0.0103186\ttotal: 380ms\tremaining: 158ms\n",
      "706:\tlearn: 0.0103057\ttotal: 380ms\tremaining: 158ms\n",
      "707:\tlearn: 0.0102531\ttotal: 381ms\tremaining: 157ms\n",
      "708:\tlearn: 0.0102333\ttotal: 382ms\tremaining: 157ms\n",
      "709:\tlearn: 0.0101777\ttotal: 383ms\tremaining: 156ms\n",
      "710:\tlearn: 0.0101602\ttotal: 383ms\tremaining: 156ms\n",
      "711:\tlearn: 0.0101378\ttotal: 384ms\tremaining: 155ms\n",
      "712:\tlearn: 0.0100972\ttotal: 385ms\tremaining: 155ms\n",
      "713:\tlearn: 0.0100576\ttotal: 385ms\tremaining: 154ms\n",
      "714:\tlearn: 0.0100189\ttotal: 386ms\tremaining: 154ms\n",
      "715:\tlearn: 0.0099801\ttotal: 387ms\tremaining: 153ms\n",
      "716:\tlearn: 0.0099430\ttotal: 387ms\tremaining: 153ms\n",
      "717:\tlearn: 0.0099058\ttotal: 388ms\tremaining: 152ms\n",
      "718:\tlearn: 0.0098703\ttotal: 389ms\tremaining: 152ms\n",
      "719:\tlearn: 0.0098239\ttotal: 389ms\tremaining: 151ms\n",
      "720:\tlearn: 0.0097690\ttotal: 390ms\tremaining: 151ms\n",
      "721:\tlearn: 0.0097154\ttotal: 391ms\tremaining: 150ms\n",
      "722:\tlearn: 0.0096810\ttotal: 391ms\tremaining: 150ms\n",
      "723:\tlearn: 0.0096490\ttotal: 392ms\tremaining: 149ms\n",
      "724:\tlearn: 0.0095986\ttotal: 393ms\tremaining: 149ms\n",
      "725:\tlearn: 0.0095491\ttotal: 393ms\tremaining: 148ms\n",
      "726:\tlearn: 0.0095006\ttotal: 394ms\tremaining: 148ms\n",
      "727:\tlearn: 0.0094531\ttotal: 395ms\tremaining: 148ms\n",
      "728:\tlearn: 0.0094105\ttotal: 396ms\tremaining: 147ms\n",
      "729:\tlearn: 0.0093925\ttotal: 396ms\tremaining: 146ms\n",
      "730:\tlearn: 0.0093704\ttotal: 397ms\tremaining: 146ms\n",
      "731:\tlearn: 0.0093488\ttotal: 397ms\tremaining: 145ms\n",
      "732:\tlearn: 0.0092992\ttotal: 398ms\tremaining: 145ms\n",
      "733:\tlearn: 0.0092666\ttotal: 399ms\tremaining: 145ms\n",
      "734:\tlearn: 0.0092182\ttotal: 400ms\tremaining: 144ms\n",
      "735:\tlearn: 0.0091883\ttotal: 400ms\tremaining: 144ms\n",
      "736:\tlearn: 0.0091472\ttotal: 401ms\tremaining: 143ms\n",
      "737:\tlearn: 0.0090975\ttotal: 402ms\tremaining: 143ms\n",
      "738:\tlearn: 0.0090690\ttotal: 404ms\tremaining: 143ms\n",
      "739:\tlearn: 0.0090412\ttotal: 405ms\tremaining: 142ms\n",
      "740:\tlearn: 0.0089947\ttotal: 406ms\tremaining: 142ms\n",
      "741:\tlearn: 0.0089673\ttotal: 406ms\tremaining: 141ms\n",
      "742:\tlearn: 0.0089220\ttotal: 407ms\tremaining: 141ms\n",
      "743:\tlearn: 0.0088956\ttotal: 408ms\tremaining: 140ms\n",
      "744:\tlearn: 0.0088737\ttotal: 408ms\tremaining: 140ms\n",
      "745:\tlearn: 0.0088416\ttotal: 409ms\tremaining: 139ms\n",
      "746:\tlearn: 0.0087980\ttotal: 410ms\tremaining: 139ms\n",
      "747:\tlearn: 0.0087724\ttotal: 410ms\tremaining: 138ms\n",
      "748:\tlearn: 0.0087510\ttotal: 411ms\tremaining: 138ms\n",
      "749:\tlearn: 0.0087199\ttotal: 411ms\tremaining: 137ms\n",
      "750:\tlearn: 0.0086953\ttotal: 412ms\tremaining: 137ms\n",
      "751:\tlearn: 0.0086457\ttotal: 413ms\tremaining: 136ms\n",
      "752:\tlearn: 0.0086222\ttotal: 413ms\tremaining: 136ms\n",
      "753:\tlearn: 0.0085740\ttotal: 414ms\tremaining: 135ms\n",
      "754:\tlearn: 0.0085541\ttotal: 415ms\tremaining: 135ms\n",
      "755:\tlearn: 0.0085316\ttotal: 415ms\tremaining: 134ms\n",
      "756:\tlearn: 0.0084849\ttotal: 416ms\tremaining: 134ms\n",
      "757:\tlearn: 0.0084628\ttotal: 417ms\tremaining: 133ms\n",
      "758:\tlearn: 0.0084444\ttotal: 418ms\tremaining: 133ms\n",
      "759:\tlearn: 0.0084050\ttotal: 419ms\tremaining: 132ms\n",
      "760:\tlearn: 0.0083598\ttotal: 420ms\tremaining: 132ms\n",
      "761:\tlearn: 0.0083390\ttotal: 421ms\tremaining: 131ms\n",
      "762:\tlearn: 0.0082985\ttotal: 421ms\tremaining: 131ms\n",
      "763:\tlearn: 0.0082704\ttotal: 422ms\tremaining: 130ms\n",
      "764:\tlearn: 0.0082500\ttotal: 423ms\tremaining: 130ms\n",
      "765:\tlearn: 0.0082219\ttotal: 425ms\tremaining: 130ms\n",
      "766:\tlearn: 0.0082020\ttotal: 426ms\tremaining: 129ms\n",
      "767:\tlearn: 0.0081747\ttotal: 426ms\tremaining: 129ms\n",
      "768:\tlearn: 0.0081538\ttotal: 427ms\tremaining: 128ms\n",
      "769:\tlearn: 0.0081277\ttotal: 428ms\tremaining: 128ms\n",
      "770:\tlearn: 0.0081167\ttotal: 429ms\tremaining: 127ms\n",
      "771:\tlearn: 0.0080914\ttotal: 430ms\tremaining: 127ms\n",
      "772:\tlearn: 0.0080574\ttotal: 430ms\tremaining: 126ms\n",
      "773:\tlearn: 0.0080241\ttotal: 431ms\tremaining: 126ms\n",
      "774:\tlearn: 0.0079853\ttotal: 432ms\tremaining: 125ms\n",
      "775:\tlearn: 0.0079657\ttotal: 433ms\tremaining: 125ms\n",
      "776:\tlearn: 0.0079279\ttotal: 434ms\tremaining: 125ms\n",
      "777:\tlearn: 0.0079037\ttotal: 435ms\tremaining: 124ms\n",
      "778:\tlearn: 0.0078814\ttotal: 435ms\tremaining: 124ms\n",
      "779:\tlearn: 0.0078627\ttotal: 436ms\tremaining: 123ms\n",
      "780:\tlearn: 0.0078177\ttotal: 437ms\tremaining: 122ms\n",
      "781:\tlearn: 0.0077739\ttotal: 437ms\tremaining: 122ms\n",
      "782:\tlearn: 0.0077510\ttotal: 437ms\tremaining: 121ms\n",
      "783:\tlearn: 0.0077328\ttotal: 438ms\tremaining: 121ms\n",
      "784:\tlearn: 0.0076902\ttotal: 439ms\tremaining: 120ms\n",
      "785:\tlearn: 0.0076487\ttotal: 439ms\tremaining: 120ms\n",
      "786:\tlearn: 0.0076309\ttotal: 440ms\tremaining: 119ms\n",
      "787:\tlearn: 0.0076188\ttotal: 441ms\tremaining: 119ms\n",
      "788:\tlearn: 0.0075786\ttotal: 442ms\tremaining: 118ms\n",
      "789:\tlearn: 0.0075667\ttotal: 444ms\tremaining: 118ms\n",
      "790:\tlearn: 0.0075549\ttotal: 445ms\tremaining: 118ms\n",
      "791:\tlearn: 0.0075155\ttotal: 446ms\tremaining: 117ms\n",
      "792:\tlearn: 0.0075039\ttotal: 447ms\tremaining: 117ms\n",
      "793:\tlearn: 0.0074823\ttotal: 448ms\tremaining: 116ms\n",
      "794:\tlearn: 0.0074719\ttotal: 449ms\tremaining: 116ms\n"
     ]
    },
    {
     "name": "stdout",
     "output_type": "stream",
     "text": [
      "795:\tlearn: 0.0074605\ttotal: 450ms\tremaining: 115ms\n",
      "796:\tlearn: 0.0074502\ttotal: 451ms\tremaining: 115ms\n",
      "797:\tlearn: 0.0074401\ttotal: 452ms\tremaining: 114ms\n",
      "798:\tlearn: 0.0074232\ttotal: 453ms\tremaining: 114ms\n",
      "799:\tlearn: 0.0074133\ttotal: 454ms\tremaining: 113ms\n",
      "800:\tlearn: 0.0074020\ttotal: 454ms\tremaining: 113ms\n",
      "801:\tlearn: 0.0073922\ttotal: 455ms\tremaining: 112ms\n",
      "802:\tlearn: 0.0073825\ttotal: 456ms\tremaining: 112ms\n",
      "803:\tlearn: 0.0073714\ttotal: 457ms\tremaining: 111ms\n",
      "804:\tlearn: 0.0073619\ttotal: 458ms\tremaining: 111ms\n",
      "805:\tlearn: 0.0073271\ttotal: 459ms\tremaining: 110ms\n",
      "806:\tlearn: 0.0073018\ttotal: 460ms\tremaining: 110ms\n",
      "807:\tlearn: 0.0072772\ttotal: 460ms\tremaining: 109ms\n",
      "808:\tlearn: 0.0072663\ttotal: 461ms\tremaining: 109ms\n",
      "809:\tlearn: 0.0072534\ttotal: 461ms\tremaining: 108ms\n",
      "810:\tlearn: 0.0072427\ttotal: 462ms\tremaining: 108ms\n",
      "811:\tlearn: 0.0072295\ttotal: 463ms\tremaining: 107ms\n",
      "812:\tlearn: 0.0072155\ttotal: 463ms\tremaining: 107ms\n",
      "813:\tlearn: 0.0072050\ttotal: 464ms\tremaining: 106ms\n",
      "814:\tlearn: 0.0071818\ttotal: 465ms\tremaining: 106ms\n",
      "815:\tlearn: 0.0071691\ttotal: 466ms\tremaining: 105ms\n",
      "816:\tlearn: 0.0071484\ttotal: 467ms\tremaining: 105ms\n",
      "817:\tlearn: 0.0071382\ttotal: 467ms\tremaining: 104ms\n",
      "818:\tlearn: 0.0071258\ttotal: 468ms\tremaining: 103ms\n",
      "819:\tlearn: 0.0071011\ttotal: 469ms\tremaining: 103ms\n",
      "820:\tlearn: 0.0070912\ttotal: 470ms\tremaining: 102ms\n",
      "821:\tlearn: 0.0070744\ttotal: 470ms\tremaining: 102ms\n",
      "822:\tlearn: 0.0070630\ttotal: 471ms\tremaining: 101ms\n",
      "823:\tlearn: 0.0070539\ttotal: 472ms\tremaining: 101ms\n",
      "824:\tlearn: 0.0070440\ttotal: 473ms\tremaining: 100ms\n",
      "825:\tlearn: 0.0070349\ttotal: 474ms\tremaining: 99.8ms\n",
      "826:\tlearn: 0.0070240\ttotal: 475ms\tremaining: 99.3ms\n",
      "827:\tlearn: 0.0070151\ttotal: 475ms\tremaining: 98.7ms\n",
      "828:\tlearn: 0.0070063\ttotal: 476ms\tremaining: 98.2ms\n",
      "829:\tlearn: 0.0069957\ttotal: 477ms\tremaining: 97.6ms\n",
      "830:\tlearn: 0.0069871\ttotal: 477ms\tremaining: 97ms\n",
      "831:\tlearn: 0.0069774\ttotal: 478ms\tremaining: 96.5ms\n",
      "832:\tlearn: 0.0069689\ttotal: 479ms\tremaining: 95.9ms\n",
      "833:\tlearn: 0.0069586\ttotal: 479ms\tremaining: 95.4ms\n",
      "834:\tlearn: 0.0069503\ttotal: 480ms\tremaining: 94.9ms\n",
      "835:\tlearn: 0.0069178\ttotal: 481ms\tremaining: 94.4ms\n",
      "836:\tlearn: 0.0069104\ttotal: 482ms\tremaining: 93.8ms\n",
      "837:\tlearn: 0.0068723\ttotal: 483ms\tremaining: 93.3ms\n",
      "838:\tlearn: 0.0068628\ttotal: 484ms\tremaining: 92.8ms\n",
      "839:\tlearn: 0.0068529\ttotal: 484ms\tremaining: 92.3ms\n",
      "840:\tlearn: 0.0068435\ttotal: 485ms\tremaining: 91.7ms\n",
      "841:\tlearn: 0.0068121\ttotal: 486ms\tremaining: 91.1ms\n",
      "842:\tlearn: 0.0068010\ttotal: 486ms\tremaining: 90.6ms\n",
      "843:\tlearn: 0.0067636\ttotal: 487ms\tremaining: 90ms\n",
      "844:\tlearn: 0.0067525\ttotal: 488ms\tremaining: 89.4ms\n",
      "845:\tlearn: 0.0067436\ttotal: 488ms\tremaining: 88.9ms\n",
      "846:\tlearn: 0.0067128\ttotal: 489ms\tremaining: 88.4ms\n",
      "847:\tlearn: 0.0067059\ttotal: 490ms\tremaining: 87.8ms\n",
      "848:\tlearn: 0.0066645\ttotal: 491ms\tremaining: 87.3ms\n",
      "849:\tlearn: 0.0066407\ttotal: 491ms\tremaining: 86.7ms\n",
      "850:\tlearn: 0.0066109\ttotal: 493ms\tremaining: 86.2ms\n",
      "851:\tlearn: 0.0065750\ttotal: 493ms\tremaining: 85.7ms\n",
      "852:\tlearn: 0.0065660\ttotal: 494ms\tremaining: 85.1ms\n",
      "853:\tlearn: 0.0065554\ttotal: 495ms\tremaining: 84.6ms\n",
      "854:\tlearn: 0.0065266\ttotal: 495ms\tremaining: 84ms\n",
      "855:\tlearn: 0.0065178\ttotal: 496ms\tremaining: 83.5ms\n",
      "856:\tlearn: 0.0065078\ttotal: 497ms\tremaining: 82.9ms\n",
      "857:\tlearn: 0.0064728\ttotal: 498ms\tremaining: 82.4ms\n",
      "858:\tlearn: 0.0064641\ttotal: 498ms\tremaining: 81.8ms\n",
      "859:\tlearn: 0.0064444\ttotal: 499ms\tremaining: 81.2ms\n",
      "860:\tlearn: 0.0064359\ttotal: 500ms\tremaining: 80.8ms\n",
      "861:\tlearn: 0.0064261\ttotal: 502ms\tremaining: 80.4ms\n",
      "862:\tlearn: 0.0064177\ttotal: 503ms\tremaining: 79.8ms\n",
      "863:\tlearn: 0.0063886\ttotal: 503ms\tremaining: 79.2ms\n",
      "864:\tlearn: 0.0063627\ttotal: 504ms\tremaining: 78.7ms\n",
      "865:\tlearn: 0.0063243\ttotal: 505ms\tremaining: 78.2ms\n",
      "866:\tlearn: 0.0062968\ttotal: 506ms\tremaining: 77.6ms\n",
      "867:\tlearn: 0.0062886\ttotal: 507ms\tremaining: 77.1ms\n",
      "868:\tlearn: 0.0062560\ttotal: 509ms\tremaining: 76.7ms\n",
      "869:\tlearn: 0.0062373\ttotal: 509ms\tremaining: 76.1ms\n",
      "870:\tlearn: 0.0062292\ttotal: 510ms\tremaining: 75.5ms\n",
      "871:\tlearn: 0.0061925\ttotal: 511ms\tremaining: 75ms\n",
      "872:\tlearn: 0.0061692\ttotal: 511ms\tremaining: 74.4ms\n",
      "873:\tlearn: 0.0061431\ttotal: 512ms\tremaining: 73.8ms\n",
      "874:\tlearn: 0.0061121\ttotal: 513ms\tremaining: 73.3ms\n",
      "875:\tlearn: 0.0060815\ttotal: 513ms\tremaining: 72.7ms\n",
      "876:\tlearn: 0.0060555\ttotal: 514ms\tremaining: 72.1ms\n",
      "877:\tlearn: 0.0060458\ttotal: 515ms\tremaining: 71.5ms\n",
      "878:\tlearn: 0.0060323\ttotal: 515ms\tremaining: 70.9ms\n",
      "879:\tlearn: 0.0060088\ttotal: 516ms\tremaining: 70.4ms\n",
      "880:\tlearn: 0.0059836\ttotal: 517ms\tremaining: 69.8ms\n",
      "881:\tlearn: 0.0059792\ttotal: 518ms\tremaining: 69.2ms\n",
      "882:\tlearn: 0.0059749\ttotal: 518ms\tremaining: 68.7ms\n",
      "883:\tlearn: 0.0059546\ttotal: 519ms\tremaining: 68.1ms\n",
      "884:\tlearn: 0.0059307\ttotal: 520ms\tremaining: 67.5ms\n",
      "885:\tlearn: 0.0059068\ttotal: 520ms\tremaining: 67ms\n",
      "886:\tlearn: 0.0058835\ttotal: 521ms\tremaining: 66.4ms\n",
      "887:\tlearn: 0.0058672\ttotal: 522ms\tremaining: 65.9ms\n",
      "888:\tlearn: 0.0058386\ttotal: 523ms\tremaining: 65.3ms\n",
      "889:\tlearn: 0.0058157\ttotal: 524ms\tremaining: 64.7ms\n",
      "890:\tlearn: 0.0058115\ttotal: 524ms\tremaining: 64.2ms\n",
      "891:\tlearn: 0.0057835\ttotal: 526ms\tremaining: 63.6ms\n",
      "892:\tlearn: 0.0057679\ttotal: 526ms\tremaining: 63.1ms\n",
      "893:\tlearn: 0.0057640\ttotal: 527ms\tremaining: 62.5ms\n",
      "894:\tlearn: 0.0057603\ttotal: 528ms\tremaining: 62ms\n"
     ]
    },
    {
     "name": "stdout",
     "output_type": "stream",
     "text": [
      "895:\tlearn: 0.0057327\ttotal: 530ms\tremaining: 61.5ms\n",
      "896:\tlearn: 0.0057175\ttotal: 531ms\tremaining: 61ms\n",
      "897:\tlearn: 0.0057123\ttotal: 532ms\tremaining: 60.4ms\n",
      "898:\tlearn: 0.0057086\ttotal: 533ms\tremaining: 59.8ms\n",
      "899:\tlearn: 0.0056815\ttotal: 533ms\tremaining: 59.3ms\n",
      "900:\tlearn: 0.0056778\ttotal: 534ms\tremaining: 58.7ms\n",
      "901:\tlearn: 0.0056728\ttotal: 535ms\tremaining: 58.1ms\n",
      "902:\tlearn: 0.0056499\ttotal: 536ms\tremaining: 57.5ms\n",
      "903:\tlearn: 0.0056352\ttotal: 536ms\tremaining: 57ms\n",
      "904:\tlearn: 0.0056316\ttotal: 537ms\tremaining: 56.4ms\n",
      "905:\tlearn: 0.0056266\ttotal: 538ms\tremaining: 55.8ms\n",
      "906:\tlearn: 0.0056003\ttotal: 539ms\tremaining: 55.3ms\n",
      "907:\tlearn: 0.0055967\ttotal: 540ms\tremaining: 54.7ms\n",
      "908:\tlearn: 0.0055708\ttotal: 542ms\tremaining: 54.3ms\n",
      "909:\tlearn: 0.0055543\ttotal: 543ms\tremaining: 53.7ms\n",
      "910:\tlearn: 0.0055508\ttotal: 544ms\tremaining: 53.1ms\n",
      "911:\tlearn: 0.0055346\ttotal: 545ms\tremaining: 52.6ms\n",
      "912:\tlearn: 0.0055309\ttotal: 546ms\tremaining: 52ms\n",
      "913:\tlearn: 0.0055262\ttotal: 547ms\tremaining: 51.4ms\n",
      "914:\tlearn: 0.0055151\ttotal: 548ms\tremaining: 50.9ms\n",
      "915:\tlearn: 0.0055114\ttotal: 549ms\tremaining: 50.3ms\n",
      "916:\tlearn: 0.0054942\ttotal: 551ms\tremaining: 49.8ms\n",
      "917:\tlearn: 0.0054681\ttotal: 552ms\tremaining: 49.3ms\n",
      "918:\tlearn: 0.0054446\ttotal: 552ms\tremaining: 48.7ms\n",
      "919:\tlearn: 0.0054230\ttotal: 553ms\tremaining: 48.1ms\n",
      "920:\tlearn: 0.0054124\ttotal: 554ms\tremaining: 47.5ms\n",
      "921:\tlearn: 0.0053913\ttotal: 555ms\tremaining: 46.9ms\n",
      "922:\tlearn: 0.0053878\ttotal: 556ms\tremaining: 46.3ms\n",
      "923:\tlearn: 0.0053617\ttotal: 557ms\tremaining: 45.8ms\n",
      "924:\tlearn: 0.0053360\ttotal: 558ms\tremaining: 45.2ms\n",
      "925:\tlearn: 0.0053108\ttotal: 558ms\tremaining: 44.6ms\n",
      "926:\tlearn: 0.0053005\ttotal: 559ms\tremaining: 44ms\n",
      "927:\tlearn: 0.0052758\ttotal: 560ms\tremaining: 43.5ms\n",
      "928:\tlearn: 0.0052516\ttotal: 561ms\tremaining: 42.9ms\n",
      "929:\tlearn: 0.0052352\ttotal: 562ms\tremaining: 42.3ms\n",
      "930:\tlearn: 0.0052117\ttotal: 562ms\tremaining: 41.7ms\n",
      "931:\tlearn: 0.0052016\ttotal: 563ms\tremaining: 41.1ms\n",
      "932:\tlearn: 0.0051785\ttotal: 564ms\tremaining: 40.5ms\n",
      "933:\tlearn: 0.0051533\ttotal: 566ms\tremaining: 40ms\n",
      "934:\tlearn: 0.0051457\ttotal: 566ms\tremaining: 39.4ms\n",
      "935:\tlearn: 0.0051298\ttotal: 567ms\tremaining: 38.8ms\n",
      "936:\tlearn: 0.0051213\ttotal: 568ms\tremaining: 38.2ms\n",
      "937:\tlearn: 0.0051122\ttotal: 568ms\tremaining: 37.6ms\n",
      "938:\tlearn: 0.0050933\ttotal: 569ms\tremaining: 37ms\n",
      "939:\tlearn: 0.0050815\ttotal: 571ms\tremaining: 36.4ms\n",
      "940:\tlearn: 0.0050629\ttotal: 571ms\tremaining: 35.8ms\n",
      "941:\tlearn: 0.0050448\ttotal: 572ms\tremaining: 35.2ms\n",
      "942:\tlearn: 0.0050375\ttotal: 573ms\tremaining: 34.6ms\n",
      "943:\tlearn: 0.0050260\ttotal: 574ms\tremaining: 34ms\n",
      "944:\tlearn: 0.0050083\ttotal: 574ms\tremaining: 33.4ms\n",
      "945:\tlearn: 0.0049850\ttotal: 575ms\tremaining: 32.8ms\n",
      "946:\tlearn: 0.0049676\ttotal: 576ms\tremaining: 32.3ms\n",
      "947:\tlearn: 0.0049449\ttotal: 578ms\tremaining: 31.7ms\n",
      "948:\tlearn: 0.0049366\ttotal: 578ms\tremaining: 31.1ms\n",
      "949:\tlearn: 0.0049151\ttotal: 579ms\tremaining: 30.5ms\n",
      "950:\tlearn: 0.0049080\ttotal: 580ms\tremaining: 29.9ms\n",
      "951:\tlearn: 0.0048849\ttotal: 581ms\tremaining: 29.3ms\n",
      "952:\tlearn: 0.0048779\ttotal: 582ms\tremaining: 28.7ms\n",
      "953:\tlearn: 0.0048643\ttotal: 583ms\tremaining: 28.1ms\n",
      "954:\tlearn: 0.0048574\ttotal: 584ms\tremaining: 27.5ms\n",
      "955:\tlearn: 0.0048370\ttotal: 584ms\tremaining: 26.9ms\n",
      "956:\tlearn: 0.0048164\ttotal: 585ms\tremaining: 26.3ms\n",
      "957:\tlearn: 0.0047937\ttotal: 586ms\tremaining: 25.7ms\n",
      "958:\tlearn: 0.0047870\ttotal: 587ms\tremaining: 25.1ms\n",
      "959:\tlearn: 0.0047704\ttotal: 589ms\tremaining: 24.5ms\n",
      "960:\tlearn: 0.0047558\ttotal: 590ms\tremaining: 23.9ms\n",
      "961:\tlearn: 0.0047482\ttotal: 591ms\tremaining: 23.3ms\n",
      "962:\tlearn: 0.0047429\ttotal: 591ms\tremaining: 22.7ms\n",
      "963:\tlearn: 0.0047297\ttotal: 592ms\tremaining: 22.1ms\n",
      "964:\tlearn: 0.0047076\ttotal: 593ms\tremaining: 21.5ms\n",
      "965:\tlearn: 0.0046881\ttotal: 593ms\tremaining: 20.9ms\n",
      "966:\tlearn: 0.0046814\ttotal: 594ms\tremaining: 20.3ms\n",
      "967:\tlearn: 0.0046628\ttotal: 595ms\tremaining: 19.7ms\n",
      "968:\tlearn: 0.0046499\ttotal: 596ms\tremaining: 19.1ms\n",
      "969:\tlearn: 0.0046372\ttotal: 597ms\tremaining: 18.5ms\n",
      "970:\tlearn: 0.0046168\ttotal: 598ms\tremaining: 17.9ms\n",
      "971:\tlearn: 0.0045979\ttotal: 598ms\tremaining: 17.2ms\n",
      "972:\tlearn: 0.0045836\ttotal: 599ms\tremaining: 16.6ms\n",
      "973:\tlearn: 0.0045638\ttotal: 599ms\tremaining: 16ms\n",
      "974:\tlearn: 0.0045482\ttotal: 600ms\tremaining: 15.4ms\n",
      "975:\tlearn: 0.0045268\ttotal: 600ms\tremaining: 14.8ms\n",
      "976:\tlearn: 0.0045194\ttotal: 601ms\tremaining: 14.1ms\n",
      "977:\tlearn: 0.0045056\ttotal: 601ms\tremaining: 13.5ms\n",
      "978:\tlearn: 0.0044983\ttotal: 602ms\tremaining: 12.9ms\n",
      "979:\tlearn: 0.0044912\ttotal: 602ms\tremaining: 12.3ms\n",
      "980:\tlearn: 0.0044775\ttotal: 603ms\tremaining: 11.7ms\n",
      "981:\tlearn: 0.0044585\ttotal: 603ms\tremaining: 11.1ms\n",
      "982:\tlearn: 0.0044515\ttotal: 604ms\tremaining: 10.5ms\n",
      "983:\tlearn: 0.0044364\ttotal: 605ms\tremaining: 9.84ms\n",
      "984:\tlearn: 0.0044185\ttotal: 606ms\tremaining: 9.23ms\n",
      "985:\tlearn: 0.0043982\ttotal: 607ms\tremaining: 8.61ms\n",
      "986:\tlearn: 0.0043886\ttotal: 608ms\tremaining: 8.01ms\n",
      "987:\tlearn: 0.0043818\ttotal: 609ms\tremaining: 7.39ms\n",
      "988:\tlearn: 0.0043659\ttotal: 609ms\tremaining: 6.78ms\n",
      "989:\tlearn: 0.0043592\ttotal: 610ms\tremaining: 6.16ms\n",
      "990:\tlearn: 0.0043364\ttotal: 611ms\tremaining: 5.55ms\n",
      "991:\tlearn: 0.0043217\ttotal: 612ms\tremaining: 4.94ms\n",
      "992:\tlearn: 0.0043126\ttotal: 613ms\tremaining: 4.32ms\n"
     ]
    },
    {
     "name": "stdout",
     "output_type": "stream",
     "text": [
      "993:\tlearn: 0.0043009\ttotal: 614ms\tremaining: 3.71ms\n",
      "994:\tlearn: 0.0042836\ttotal: 615ms\tremaining: 3.09ms\n",
      "995:\tlearn: 0.0042684\ttotal: 616ms\tremaining: 2.47ms\n",
      "996:\tlearn: 0.0042524\ttotal: 617ms\tremaining: 1.86ms\n",
      "997:\tlearn: 0.0042460\ttotal: 618ms\tremaining: 1.24ms\n",
      "998:\tlearn: 0.0042373\ttotal: 619ms\tremaining: 619us\n",
      "999:\tlearn: 0.0042258\ttotal: 620ms\tremaining: 0us\n"
     ]
    },
    {
     "data": {
      "text/plain": [
       "<catboost.core.CatBoostRegressor at 0x7fe1a30effa0>"
      ]
     },
     "execution_count": 9,
     "metadata": {},
     "output_type": "execute_result"
    }
   ],
   "source": [
    "#Train the Model \n",
    "prior_model = ctb.CatBoostRegressor()\n",
    "prior_model.fit(X_train,Y_train)"
   ]
  },
  {
   "cell_type": "code",
   "execution_count": 10,
   "id": "af65dcda",
   "metadata": {
    "execution": {
     "iopub.execute_input": "2022-02-13T16:08:24.953857Z",
     "iopub.status.busy": "2022-02-13T16:08:24.952714Z",
     "iopub.status.idle": "2022-02-13T16:08:24.972454Z",
     "shell.execute_reply": "2022-02-13T16:08:24.972912Z"
    },
    "id": "af65dcda",
    "papermill": {
     "duration": 0.038168,
     "end_time": "2022-02-13T16:08:24.973068",
     "exception": false,
     "start_time": "2022-02-13T16:08:24.934900",
     "status": "completed"
    },
    "tags": []
   },
   "outputs": [
    {
     "data": {
      "application/scrapbook.scrap.json+json": {
       "data": 0.14899530420425405,
       "encoder": "json",
       "name": "Prior Model MSE",
       "version": 1
      }
     },
     "metadata": {
      "scrapbook": {
       "data": true,
       "display": false,
       "name": "Prior Model MSE"
      }
     },
     "output_type": "display_data"
    },
    {
     "data": {
      "application/scrapbook.scrap.json+json": {
       "data": 1.1904986493230205,
       "encoder": "json",
       "name": "ABC Pre-generator MSE",
       "version": 1
      }
     },
     "metadata": {
      "scrapbook": {
       "data": true,
       "display": false,
       "name": "ABC Pre-generator MSE"
      }
     },
     "output_type": "display_data"
    },
    {
     "data": {
      "application/scrapbook.scrap.json+json": {
       "data": 0.20433695959199918,
       "encoder": "json",
       "name": "Prior Model MSE",
       "version": 1
      }
     },
     "metadata": {
      "scrapbook": {
       "data": true,
       "display": false,
       "name": "Prior Model MSE"
      }
     },
     "output_type": "display_data"
    },
    {
     "data": {
      "application/scrapbook.scrap.json+json": {
       "data": 0.9000816105271523,
       "encoder": "json",
       "name": "ABC Pre-generator MSE",
       "version": 1
      }
     },
     "metadata": {
      "scrapbook": {
       "data": true,
       "display": false,
       "name": "ABC Pre-generator MSE"
      }
     },
     "output_type": "display_data"
    }
   ],
   "source": [
    "y_pred = prior_model.predict(X_test)\n",
    "y_abc = y_pred + np.random.normal(0,variance, y_pred.shape)\n",
    "mse = mean_squared_error(y_pred,Y_test)\n",
    "sb.glue(\"Prior Model MSE\",mse)\n",
    "mse = mean_squared_error(y_abc,Y_test)\n",
    "sb.glue(\"ABC Pre-generator MSE\",mse)\n",
    "\n",
    "mae = mean_absolute_error(y_pred,Y_test)\n",
    "sb.glue(\"Prior Model MSE\",mae)\n",
    "mae = mean_absolute_error(y_abc,Y_test)\n",
    "sb.glue(\"ABC Pre-generator MSE\",mae)"
   ]
  },
  {
   "cell_type": "markdown",
   "id": "25609da2",
   "metadata": {
    "papermill": {
     "duration": 0.010496,
     "end_time": "2022-02-13T16:08:24.994084",
     "exception": false,
     "start_time": "2022-02-13T16:08:24.983588",
     "status": "completed"
    },
    "tags": []
   },
   "source": [
    "# ABC GAN Model"
   ]
  },
  {
   "cell_type": "code",
   "execution_count": 11,
   "id": "dfc3464d",
   "metadata": {
    "execution": {
     "iopub.execute_input": "2022-02-13T16:08:25.029054Z",
     "iopub.status.busy": "2022-02-13T16:08:25.027684Z",
     "iopub.status.idle": "2022-02-13T16:08:25.033327Z",
     "shell.execute_reply": "2022-02-13T16:08:25.033612Z"
    },
    "papermill": {
     "duration": 0.027669,
     "end_time": "2022-02-13T16:08:25.033753",
     "exception": false,
     "start_time": "2022-02-13T16:08:25.006084",
     "status": "completed"
    },
    "tags": []
   },
   "outputs": [],
   "source": [
    "gen = network.Generator(n_features+1).to(device)\n",
    "disc = network.Discriminator(n_features+1).to(device)\n",
    "\n",
    "criterion = torch.nn.BCELoss()\n",
    "gen_opt = torch.optim.Adam(gen.parameters(), lr=0.001, betas=(0.5, 0.999))\n",
    "disc_opt = torch.optim.Adam(disc.parameters(), lr=0.001, betas=(0.5, 0.999))"
   ]
  },
  {
   "cell_type": "code",
   "execution_count": 12,
   "id": "b75fdd85",
   "metadata": {
    "execution": {
     "iopub.execute_input": "2022-02-13T16:08:25.063535Z",
     "iopub.status.busy": "2022-02-13T16:08:25.063013Z",
     "iopub.status.idle": "2022-02-13T16:08:39.187938Z",
     "shell.execute_reply": "2022-02-13T16:08:39.188266Z"
    },
    "papermill": {
     "duration": 14.142282,
     "end_time": "2022-02-13T16:08:39.188388",
     "exception": false,
     "start_time": "2022-02-13T16:08:25.046106",
     "status": "completed"
    },
    "tags": []
   },
   "outputs": [
    {
     "data": {
      "image/png": "[encoded data removed]",
      "text/plain": [
       "<Figure size 432x288 with 1 Axes>"
      ]
     },
     "metadata": {
      "needs_background": "light"
     },
     "output_type": "display_data"
    },
    {
     "data": {
      "image/png": "[encoded data removed]",
      "text/plain": [
       "<Figure size 432x288 with 1 Axes>"
      ]
     },
     "metadata": {
      "needs_background": "light"
     },
     "output_type": "display_data"
    }
   ],
   "source": [
    "#Training the ABC_GAN \n",
    "ABC_train_test2.training_GAN(disc,gen,disc_opt,gen_opt,train_data,batch_size,n_epochs,criterion,prior_model,variance,device)"
   ]
  },
  {
   "cell_type": "code",
   "execution_count": 13,
   "id": "1fa7c368",
   "metadata": {
    "execution": {
     "iopub.execute_input": "2022-02-13T16:08:39.212729Z",
     "iopub.status.busy": "2022-02-13T16:08:39.212265Z",
     "iopub.status.idle": "2022-02-13T16:08:39.393396Z",
     "shell.execute_reply": "2022-02-13T16:08:39.393709Z"
    },
    "papermill": {
     "duration": 0.194489,
     "end_time": "2022-02-13T16:08:39.393830",
     "exception": false,
     "start_time": "2022-02-13T16:08:39.199341",
     "status": "completed"
    },
    "tags": []
   },
   "outputs": [
    {
     "data": {
      "application/scrapbook.scrap.json+json": {
       "data": 0.011665751538760582,
       "encoder": "json",
       "name": "ABC-GAN Model 1 MSE",
       "version": 1
      }
     },
     "metadata": {
      "scrapbook": {
       "data": true,
       "display": false,
       "name": "ABC-GAN Model 1 MSE"
      }
     },
     "output_type": "display_data"
    },
    {
     "data": {
      "application/scrapbook.scrap.json+json": {
       "data": 0.08153947146981955,
       "encoder": "json",
       "name": "ABC-GAN Model 1 MAE",
       "version": 1
      }
     },
     "metadata": {
      "scrapbook": {
       "data": true,
       "display": false,
       "name": "ABC-GAN Model 1 MAE"
      }
     },
     "output_type": "display_data"
    },
    {
     "data": {
      "application/scrapbook.scrap.json+json": {
       "data": 1.630789429396391,
       "encoder": "json",
       "name": "ABC-GAN Model 1 Manhattan Distance",
       "version": 1
      }
     },
     "metadata": {
      "scrapbook": {
       "data": true,
       "display": false,
       "name": "ABC-GAN Model 1 Manhattan Distance"
      }
     },
     "output_type": "display_data"
    },
    {
     "data": {
      "application/scrapbook.scrap.json+json": {
       "data": 0.4816242606290984,
       "encoder": "json",
       "name": "ABC-GAN Model 1 Euclidean distance",
       "version": 1
      }
     },
     "metadata": {
      "scrapbook": {
       "data": true,
       "display": false,
       "name": "ABC-GAN Model 1 Euclidean distance"
      }
     },
     "output_type": "display_data"
    },
    {
     "data": {
      "application/scrapbook.scrap.json+json": {
       "data": [
        [
         0.010949838597529463,
         0.00969034253193424,
         0.009815178360947488,
         0.01395084101447193,
         0.01462874635793723,
         0.013214151422560442,
         0.010011190564034425,
         0.01135126229758148,
         0.01044273329478255,
         0.011549745597984832,
         0.010265493214318425,
         0.012960094829013172,
         0.009278431394462664,
         0.011957801885071275,
         0.008838229361713459,
         0.014952224162328933,
         0.009177903858796757,
         0.010476174210218828,
         0.011549366871347102,
         0.014668466751078028,
         0.010172199563025211,
         0.013671810874654725,
         0.013265603612585322,
         0.009604513725313216,
         0.014968541945240369,
         0.011527594959324986,
         0.012427787351740906,
         0.011875269685972037,
         0.0091075953186225,
         0.01412967782785093,
         0.010316516797655986,
         0.013552864978588522,
         0.008625691303473317,
         0.011645164844393943,
         0.009822653045341492,
         0.01184376569935093,
         0.011348309706383689,
         0.012752601640039732,
         0.010600039245448504,
         0.009593129240072721,
         0.012612010837474055,
         0.014337304875028902,
         0.010941344806363931,
         0.008888739631401868,
         0.009776217123186506,
         0.012672165863028953,
         0.013730834273207862,
         0.011882484180900146,
         0.013790894143144541,
         0.011496797874318569,
         0.010177987905254152,
         0.01367526275916581,
         0.014905708339450643,
         0.010770882756163572,
         0.010786621065971894,
         0.009270198639181807,
         0.014208665885211715,
         0.011069642438970753,
         0.01121214610898356,
         0.011075132690055325,
         0.013082173159396462,
         0.008923175409781672,
         0.008464926155054533,
         0.009830199275284992,
         0.0112811971881739,
         0.013502343706352385,
         0.012686180885349011,
         0.011775890806227932,
         0.01128382501839921,
         0.011346058191204114,
         0.009570027334285571,
         0.010989487988926697,
         0.012753402339226519,
         0.010492665760261425,
         0.014492298037491816,
         0.009661214206419768,
         0.012288171321841259,
         0.01374232639857125,
         0.011358302435202274,
         0.012587308056482085,
         0.01509127605302564,
         0.01494297099581068,
         0.013870340869141032,
         0.012425167935002627,
         0.011814571410177502,
         0.01011616926623007,
         0.012253724110321487,
         0.009797127162709843,
         0.009877149457415505,
         0.011857225222801752,
         0.013389842422639044,
         0.013577642831564343,
         0.010271673901345915,
         0.010973703442825214,
         0.012143860964841515,
         0.013284453150221568,
         0.010253230225879286,
         0.010198804311522994,
         0.013742361542527995,
         0.008722094786464865
        ],
        [
         0.08470688797533513,
         0.07892147861421109,
         0.07655399180948734,
         0.08585985116660595,
         0.0862510796636343,
         0.08361005000770091,
         0.07558225579559803,
         0.08002850972115993,
         0.08199466057121754,
         0.0813303004950285,
         0.07573062144219875,
         0.0947341900318861,
         0.07293313182890415,
         0.08246262036263943,
         0.07606994472444058,
         0.0912302177399397,
         0.07653985433280468,
         0.07899763099849225,
         0.07957730926573277,
         0.08648451082408429,
         0.07677937187254429,
         0.08490115068852902,
         0.07917810045182705,
         0.07665161602199078,
         0.08490062095224857,
         0.08005443327128887,
         0.08566715233027936,
         0.08572063706815243,
         0.0763926614075899,
         0.08647659234702587,
         0.07790095396339894,
         0.08271916024386883,
         0.07150207497179509,
         0.08030137456953526,
         0.07671036534011363,
         0.07736680470407009,
         0.08177806623280048,
         0.08252437226474285,
         0.08273501954972744,
         0.07357881478965282,
         0.0843862857669592,
         0.08344962038099765,
         0.08314593546092511,
         0.07510125450789928,
         0.07832202427089215,
         0.08388972692191601,
         0.08833658881485462,
         0.07966535799205303,
         0.083085822686553,
         0.07782330326735973,
         0.08366154097020626,
         0.08549548722803593,
         0.08857381157577038,
         0.07733953930437565,
         0.08283290453255177,
         0.0770284567028284,
         0.08791868574917316,
         0.08366579823195934,
         0.07600838802754879,
         0.08335229493677616,
         0.07960636131465434,
         0.07589370720088481,
         0.07593635059893131,
         0.07862394712865353,
         0.08207481689751148,
         0.0857992995530367,
         0.07787040211260318,
         0.08055584318935871,
         0.07783914543688297,
         0.08937775306403636,
         0.07481199689209461,
         0.0842725794762373,
         0.08829473443329335,
         0.0826608058065176,
         0.08129829429090023,
         0.0786115925759077,
         0.08185336850583554,
         0.0890856396406889,
         0.0892612461000681,
         0.08496502377092838,
         0.08873723782598972,
         0.09051675461232662,
         0.08817017935216427,
         0.07894474901258945,
         0.08597887866199017,
         0.0822365190833807,
         0.0795017909258604,
         0.07509466372430325,
         0.07721588797867299,
         0.07686095349490643,
         0.08194132633507252,
         0.08348042108118534,
         0.08137135617434979,
         0.08134034760296345,
         0.08287992365658284,
         0.08125042207539082,
         0.08562550432980061,
         0.07934445627033711,
         0.08303364627063274,
         0.07520795278251172
        ],
        [
         1.6941377595067024,
         1.5784295722842216,
         1.5310798361897469,
         1.717197023332119,
         1.725021593272686,
         1.6722010001540184,
         1.5116451159119606,
         1.6005701944231987,
         1.6398932114243507,
         1.62660600990057,
         1.514612428843975,
         1.894683800637722,
         1.458662636578083,
         1.6492524072527885,
         1.5213988944888115,
         1.8246043547987938,
         1.5307970866560936,
         1.5799526199698448,
         1.5915461853146553,
         1.7296902164816856,
         1.5355874374508858,
         1.6980230137705803,
         1.583562009036541,
         1.5330323204398155,
         1.6980124190449715,
         1.6010886654257774,
         1.713343046605587,
         1.7144127413630486,
         1.5278532281517982,
         1.7295318469405174,
         1.5580190792679787,
         1.6543832048773766,
         1.4300414994359016,
         1.606027491390705,
         1.5342073068022728,
         1.5473360940814018,
         1.6355613246560097,
         1.650487445294857,
         1.6547003909945488,
         1.4715762957930565,
         1.6877257153391838,
         1.6689924076199532,
         1.662918709218502,
         1.5020250901579857,
         1.5664404854178429,
         1.6777945384383202,
         1.7667317762970924,
         1.5933071598410606,
         1.66171645373106,
         1.5564660653471947,
         1.6732308194041252,
         1.7099097445607185,
         1.7714762315154076,
         1.546790786087513,
         1.6566580906510353,
         1.5405691340565681,
         1.7583737149834633,
         1.6733159646391869,
         1.5201677605509758,
         1.6670458987355232,
         1.592127226293087,
         1.5178741440176964,
         1.5187270119786263,
         1.5724789425730705,
         1.6414963379502296,
         1.7159859910607338,
         1.5574080422520638,
         1.6111168637871742,
         1.5567829087376595,
         1.7875550612807274,
         1.4962399378418922,
         1.685451589524746,
         1.7658946886658669,
         1.653216116130352,
         1.6259658858180046,
         1.5722318515181541,
         1.6370673701167107,
         1.781712792813778,
         1.7852249220013618,
         1.6993004754185677,
         1.7747447565197945,
         1.8103350922465324,
         1.7634035870432854,
         1.578894980251789,
         1.7195775732398033,
         1.644730381667614,
         1.590035818517208,
         1.501893274486065,
         1.5443177595734596,
         1.5372190698981285,
         1.6388265267014503,
         1.6696084216237068,
         1.6274271234869957,
         1.626806952059269,
         1.6575984731316566,
         1.6250084415078163,
         1.7125100865960121,
         1.586889125406742,
         1.6606729254126549,
         1.5041590556502342
        ],
        [
         0.4679709092994876,
         0.4402349947910602,
         0.4430615840026641,
         0.5282204277472035,
         0.5409019570668465,
         0.5140846510558439,
         0.44746375415299117,
         0.47647166332493435,
         0.4570061989685162,
         0.48061930044443346,
         0.45311131555763257,
         0.5091187450686366,
         0.430776772690048,
         0.48903582455830935,
         0.42043380838637273,
         0.5468495983783646,
         0.4284367831733582,
         0.45773735286119765,
         0.48061142040836075,
         0.5416357955504423,
         0.4510476596331082,
         0.5229112902712032,
         0.515084529229627,
         0.4382810451140504,
         0.5471479131869255,
         0.4801582022484878,
         0.49855365512131,
         0.48734525104841303,
         0.42679258003443543,
         0.5315952939568019,
         0.4542359914770292,
         0.5206316352007151,
         0.4153478374440709,
         0.4826005562448917,
         0.4432302572104367,
         0.48669838091678364,
         0.4764096914711893,
         0.5050267644400588,
         0.46043542968473883,
         0.4380212150129882,
         0.5022352205386248,
         0.5354867855517801,
         0.4677893715415931,
         0.4216334813887974,
         0.4421813456758778,
         0.5034315417815803,
         0.5240388205697716,
         0.48749326520271324,
         0.5251836658378579,
         0.4795163787467237,
         0.4511759724376765,
         0.5229772989177601,
         0.5459983212327789,
         0.4641310753690938,
         0.4644700435113527,
         0.4305856160900363,
         0.533079091415368,
         0.4705240150931885,
         0.4735429464997564,
         0.47064068438789536,
         0.5115109609655781,
         0.4224494149547771,
         0.41145901752311936,
         0.4434004798212332,
         0.4749988881707809,
         0.5196603449629842,
         0.5037098546851949,
         0.4853017784065484,
         0.47505420782052254,
         0.4763624290643441,
         0.43749348187797205,
         0.4688174055840226,
         0.5050426187803663,
         0.458097495305561,
         0.538373439862923,
         0.43957284280127606,
         0.4957453241704103,
         0.5242580738256922,
         0.4766193960636154,
         0.5017431226530581,
         0.5493864951566545,
         0.5466803635729142,
         0.5266942351904192,
         0.49850111203492065,
         0.48609816724973365,
         0.4498037186647098,
         0.4950499795035141,
         0.4426539768873616,
         0.44445808480475424,
         0.4869748499214667,
         0.5174909162997752,
         0.5211073369578353,
         0.4532477005202766,
         0.4684805960298722,
         0.492825749425525,
         0.5154503496986217,
         0.4528405950415507,
         0.4516371178617407,
         0.5242587441813058,
         0.41766241838271406
        ]
       ],
       "encoder": "json",
       "name": "ABC_GAN_1 Metrics",
       "version": 1
      }
     },
     "metadata": {
      "scrapbook": {
       "data": true,
       "display": false,
       "name": "ABC_GAN_1 Metrics"
      }
     },
     "output_type": "display_data"
    },
    {
     "name": "stdout",
     "output_type": "stream",
     "text": [
      "MSE\n",
      "0.011665751538760582\n"
     ]
    }
   ],
   "source": [
    "ABC_GAN1_metrics=ABC_train_test2.test_generator(gen,test_data,prior_model,variance,\"1\",device)\n",
    "sb.glue(\"ABC_GAN_1 Metrics\",ABC_GAN1_metrics)\n",
    "\n",
    "print(\"MSE\")\n",
    "print(mean(ABC_GAN1_metrics[0]))"
   ]
  },
  {
   "cell_type": "code",
   "execution_count": 14,
   "id": "eb22ce5c",
   "metadata": {
    "execution": {
     "iopub.execute_input": "2022-02-13T16:08:39.420784Z",
     "iopub.status.busy": "2022-02-13T16:08:39.420394Z",
     "iopub.status.idle": "2022-02-13T16:08:39.729610Z",
     "shell.execute_reply": "2022-02-13T16:08:39.729933Z"
    },
    "papermill": {
     "duration": 0.323798,
     "end_time": "2022-02-13T16:08:39.730064",
     "exception": false,
     "start_time": "2022-02-13T16:08:39.406266",
     "status": "completed"
    },
    "tags": []
   },
   "outputs": [
    {
     "data": {
      "image/png": "[encoded data removed]",
      "text/plain": [
       "<Figure size 432x288 with 1 Axes>"
      ]
     },
     "metadata": {
      "needs_background": "light"
     },
     "output_type": "display_data"
    },
    {
     "data": {
      "image/png": "[encoded data removed]",
      "text/plain": [
       "<Figure size 432x288 with 1 Axes>"
      ]
     },
     "metadata": {
      "needs_background": "light"
     },
     "output_type": "display_data"
    },
    {
     "data": {
      "image/png": "[encoded data removed]",
      "text/plain": [
       "<Figure size 432x288 with 1 Axes>"
      ]
     },
     "metadata": {
      "needs_background": "light"
     },
     "output_type": "display_data"
    },
    {
     "data": {
      "image/png": "[encoded data removed]",
      "text/plain": [
       "<Figure size 432x288 with 1 Axes>"
      ]
     },
     "metadata": {
      "needs_background": "light"
     },
     "output_type": "display_data"
    }
   ],
   "source": [
    "sanityChecks.discProbVsError(train_data,disc,device)\n",
    "sanityChecks.discProbVsError(test_data,disc,device)"
   ]
  },
  {
   "cell_type": "markdown",
   "id": "130f3a4d",
   "metadata": {
    "id": "130f3a4d",
    "papermill": {
     "duration": 0.015119,
     "end_time": "2022-02-13T16:08:39.760090",
     "exception": false,
     "start_time": "2022-02-13T16:08:39.744971",
     "status": "completed"
    },
    "tags": []
   },
   "source": [
    "# ABC - GAN Model with skip connection"
   ]
  },
  {
   "cell_type": "code",
   "execution_count": 15,
   "id": "4e43dad1",
   "metadata": {
    "execution": {
     "iopub.execute_input": "2022-02-13T16:08:39.793065Z",
     "iopub.status.busy": "2022-02-13T16:08:39.792629Z",
     "iopub.status.idle": "2022-02-13T16:08:39.794979Z",
     "shell.execute_reply": "2022-02-13T16:08:39.795243Z"
    },
    "id": "4e43dad1",
    "papermill": {
     "duration": 0.020539,
     "end_time": "2022-02-13T16:08:39.795376",
     "exception": false,
     "start_time": "2022-02-13T16:08:39.774837",
     "status": "completed"
    },
    "tags": []
   },
   "outputs": [],
   "source": [
    "#Generator\n",
    "gen3 = network.GeneratorWithSkipConnection(n_features+1).to(device)\n",
    "constraints=network.weightConstraint()\n",
    "#Discriminator \n",
    "disc3 = network.Discriminator(n_features+1).to(device)\n",
    "\n",
    "criterion = torch.nn.BCELoss()\n",
    "gen_opt = torch.optim.Adam(gen3.parameters(), lr=0.001, betas=(0.5, 0.999))\n",
    "disc_opt = torch.optim.Adam(disc3.parameters(), lr=0.001, betas=(0.5, 0.999))\n"
   ]
  },
  {
   "cell_type": "code",
   "execution_count": 16,
   "id": "26acbc37",
   "metadata": {
    "execution": {
     "iopub.execute_input": "2022-02-13T16:08:39.827717Z",
     "iopub.status.busy": "2022-02-13T16:08:39.827349Z",
     "iopub.status.idle": "2022-02-13T16:09:16.309901Z",
     "shell.execute_reply": "2022-02-13T16:09:16.310186Z"
    },
    "id": "26acbc37",
    "papermill": {
     "duration": 36.500181,
     "end_time": "2022-02-13T16:09:16.310315",
     "exception": false,
     "start_time": "2022-02-13T16:08:39.810134",
     "status": "completed"
    },
    "tags": []
   },
   "outputs": [
    {
     "data": {
      "image/png": "[encoded data removed]",
      "text/plain": [
       "<Figure size 432x288 with 1 Axes>"
      ]
     },
     "metadata": {
      "needs_background": "light"
     },
     "output_type": "display_data"
    },
    {
     "data": {
      "image/png": "[encoded data removed]",
      "text/plain": [
       "<Figure size 432x288 with 1 Axes>"
      ]
     },
     "metadata": {
      "needs_background": "light"
     },
     "output_type": "display_data"
    }
   ],
   "source": [
    "ABC_train_test2.training_GAN_skip_connection(disc3,gen3,disc_opt,gen_opt,train_data,batch_size,n_epochs,criterion,prior_model,variance,device)"
   ]
  },
  {
   "cell_type": "code",
   "execution_count": 17,
   "id": "c5e0717b",
   "metadata": {
    "execution": {
     "iopub.execute_input": "2022-02-13T16:09:16.363244Z",
     "iopub.status.busy": "2022-02-13T16:09:16.362326Z",
     "iopub.status.idle": "2022-02-13T16:09:16.642542Z",
     "shell.execute_reply": "2022-02-13T16:09:16.642959Z"
    },
    "id": "c5e0717b",
    "papermill": {
     "duration": 0.302491,
     "end_time": "2022-02-13T16:09:16.643082",
     "exception": false,
     "start_time": "2022-02-13T16:09:16.340591",
     "status": "completed"
    },
    "tags": []
   },
   "outputs": [
    {
     "data": {
      "application/scrapbook.scrap.json+json": {
       "data": 0.006876059864662022,
       "encoder": "json",
       "name": "ABC-GAN Model 3 MSE",
       "version": 1
      }
     },
     "metadata": {
      "scrapbook": {
       "data": true,
       "display": false,
       "name": "ABC-GAN Model 3 MSE"
      }
     },
     "output_type": "display_data"
    },
    {
     "data": {
      "application/scrapbook.scrap.json+json": {
       "data": 0.06272651629708707,
       "encoder": "json",
       "name": "ABC-GAN Model 3 MAE",
       "version": 1
      }
     },
     "metadata": {
      "scrapbook": {
       "data": true,
       "display": false,
       "name": "ABC-GAN Model 3 MAE"
      }
     },
     "output_type": "display_data"
    },
    {
     "data": {
      "application/scrapbook.scrap.json+json": {
       "data": 1.2545303259417415,
       "encoder": "json",
       "name": "ABC-GAN Model 3 Manhattan Distance",
       "version": 1
      }
     },
     "metadata": {
      "scrapbook": {
       "data": true,
       "display": false,
       "name": "ABC-GAN Model 3 Manhattan Distance"
      }
     },
     "output_type": "display_data"
    },
    {
     "data": {
      "application/scrapbook.scrap.json+json": {
       "data": 0.36485582989508636,
       "encoder": "json",
       "name": "ABC-GAN Model 3 Euclidean distance",
       "version": 1
      }
     },
     "metadata": {
      "scrapbook": {
       "data": true,
       "display": false,
       "name": "ABC-GAN Model 3 Euclidean distance"
      }
     },
     "output_type": "display_data"
    },
    {
     "data": {
      "application/scrapbook.scrap.json+json": {
       "data": [
        [
         0.01321552338207164,
         0.009317624070356214,
         0.008173526574548732,
         0.006424131397055869,
         0.009503694350822692,
         0.006263314614628082,
         0.006524208640971996,
         0.00546670581823028,
         0.004113043793496543,
         0.005246487567993499,
         0.006055888102885434,
         0.006083750137609434,
         0.004797711406446664,
         0.00602429239446678,
         0.004903978134521214,
         0.009104540125914731,
         0.004912551980826257,
         0.005285552397738183,
         0.013959967390188779,
         0.007651208503476209,
         0.008203891380391806,
         0.007656144929299705,
         0.0060735365828455574,
         0.005113331756996467,
         0.0056605361420112325,
         0.016481417539114907,
         0.00673721552409331,
         0.0038118838006796843,
         0.009472019133528237,
         0.016971238550076997,
         0.006316471643816104,
         0.004993320243537454,
         0.0053241259294834285,
         0.005011709081915908,
         0.0048448622000201395,
         0.00661770614368738,
         0.005795205990941435,
         0.006464846946850747,
         0.005240232721642363,
         0.013320518601922843,
         0.007217981460912753,
         0.008120811964980785,
         0.005501973296024216,
         0.0054453275890278315,
         0.009580854754455009,
         0.0036239529719888307,
         0.005835900689954312,
         0.004845051428431326,
         0.0050707655305296554,
         0.005547273487762819,
         0.004505402591178681,
         0.0069489039072101935,
         0.004463367880755512,
         0.00934205792363967,
         0.016157231158899867,
         0.004166234479972978,
         0.005054235825283027,
         0.005829575674771661,
         0.004991748492560524,
         0.004436489416350897,
         0.005939217334155858,
         0.005029454661100987,
         0.008646355851757792,
         0.009258221146699112,
         0.004957045540489819,
         0.00827031171921351,
         0.007749998927706061,
         0.005364762880250321,
         0.007405175630576757,
         0.007290826190120151,
         0.005170963288463318,
         0.007506959057928489,
         0.005085205492624803,
         0.009030151276045631,
         0.011347613465392262,
         0.0061116710798445,
         0.004288326855946781,
         0.0066163671182875305,
         0.00508159983879164,
         0.005855556640553473,
         0.0050987974175073,
         0.00924544271208049,
         0.006039180637951464,
         0.0054041313456237566,
         0.011595378417608961,
         0.007006904857396237,
         0.007246032943469904,
         0.0071483002623482315,
         0.004534066910653991,
         0.004879828496585204,
         0.004646802771563022,
         0.003911595167433519,
         0.005321276053979742,
         0.007516860827678376,
         0.006105290636322394,
         0.00417399071777246,
         0.006130062126254212,
         0.013354560360028347,
         0.006037531824023648,
         0.006381111832176625
        ],
        [
         0.07230395637452602,
         0.06889968328177928,
         0.0700235690921545,
         0.062465162202715876,
         0.06609291397035122,
         0.05861027203500271,
         0.06513099148869514,
         0.05923006422817707,
         0.05354827456176281,
         0.06168423928320408,
         0.06075141169130802,
         0.06768558993935585,
         0.05861800918355584,
         0.06449900511652232,
         0.05666317045688629,
         0.06532258577644826,
         0.056122826784849165,
         0.05591220073401928,
         0.07047730050981045,
         0.06648367121815682,
         0.0673077043145895,
         0.06853960519656539,
         0.06506891120225192,
         0.0619231965392828,
         0.06196274645626545,
         0.08117937669157982,
         0.05920367259532213,
         0.05006705122068524,
         0.06549521293491126,
         0.07725450955331326,
         0.06288623763248324,
         0.06007109694182873,
         0.05991106666624546,
         0.056950800493359564,
         0.05521539449691772,
         0.0625204473733902,
         0.06107371784746647,
         0.06400974579155445,
         0.05940195843577385,
         0.07873493582010269,
         0.06548920571804047,
         0.0648725911974907,
         0.062216035835444924,
         0.05617762207984924,
         0.06568065285682678,
         0.04801877290010452,
         0.06094862632453442,
         0.057475796714425084,
         0.057622211053967476,
         0.06069667153060436,
         0.05669751232489943,
         0.06472669057548046,
         0.053849729243665934,
         0.07095815725624562,
         0.0786523099988699,
         0.05501278303563595,
         0.058312941994518044,
         0.06519214026629924,
         0.05927242897450924,
         0.05058021172881126,
         0.05888158641755581,
         0.05913421250879765,
         0.0669830545783043,
         0.07168827913701534,
         0.054348094202578065,
         0.0719562079757452,
         0.06947905011475086,
         0.06051277257502079,
         0.06680280975997448,
         0.07168431468307972,
         0.05858759619295597,
         0.0690437000244856,
         0.05360742919147014,
         0.06748146004974842,
         0.0757685225456953,
         0.062413052469491956,
         0.05529998205602169,
         0.06138889268040657,
         0.05913113672286272,
         0.059899465553462504,
         0.05990510284900665,
         0.06956486515700817,
         0.06389924567192792,
         0.05810221331194043,
         0.07642082087695598,
         0.06759456656873226,
         0.07045469135046005,
         0.06398040018975734,
         0.05710573755204677,
         0.05381895676255226,
         0.052963266149163246,
         0.046240240894258024,
         0.06333110593259335,
         0.06765046156942844,
         0.05990172810852527,
         0.05365617610514164,
         0.06142365150153637,
         0.07115112375468016,
         0.06436717174947262,
         0.06527310647070408
        ],
        [
         1.4460791274905205,
         1.3779936656355858,
         1.40047138184309,
         1.2493032440543175,
         1.3218582794070244,
         1.1722054407000542,
         1.302619829773903,
         1.1846012845635414,
         1.0709654912352562,
         1.2336847856640816,
         1.2150282338261604,
         1.353711798787117,
         1.1723601836711168,
         1.2899801023304462,
         1.1332634091377258,
         1.306451715528965,
         1.1224565356969833,
         1.1182440146803856,
         1.409546010196209,
         1.3296734243631363,
         1.34615408629179,
         1.3707921039313078,
         1.3013782240450382,
         1.238463930785656,
         1.239254929125309,
         1.6235875338315964,
         1.1840734519064426,
         1.0013410244137049,
         1.309904258698225,
         1.545090191066265,
         1.2577247526496649,
         1.2014219388365746,
         1.1982213333249092,
         1.1390160098671913,
         1.1043078899383545,
         1.250408947467804,
         1.2214743569493294,
         1.280194915831089,
         1.188039168715477,
         1.5746987164020538,
         1.3097841143608093,
         1.2974518239498138,
         1.2443207167088985,
         1.1235524415969849,
         1.3136130571365356,
         0.9603754580020905,
         1.2189725264906883,
         1.1495159342885017,
         1.1524442210793495,
         1.2139334306120872,
         1.1339502464979887,
         1.2945338115096092,
         1.0769945848733187,
         1.4191631451249123,
         1.573046199977398,
         1.100255660712719,
         1.1662588398903608,
         1.303842805325985,
         1.1854485794901848,
         1.0116042345762253,
         1.1776317283511162,
         1.182684250175953,
         1.3396610915660858,
         1.4337655827403069,
         1.0869618840515614,
         1.439124159514904,
         1.3895810022950172,
         1.2102554515004158,
         1.3360561951994896,
         1.4336862936615944,
         1.1717519238591194,
         1.3808740004897118,
         1.072148583829403,
         1.3496292009949684,
         1.515370450913906,
         1.2482610493898392,
         1.1059996411204338,
         1.2277778536081314,
         1.1826227344572544,
         1.19798931106925,
         1.198102056980133,
         1.3912973031401634,
         1.2779849134385586,
         1.1620442662388086,
         1.5284164175391197,
         1.3518913313746452,
         1.409093827009201,
         1.279608003795147,
         1.1421147510409355,
         1.0763791352510452,
         1.059265322983265,
         0.9248048178851604,
         1.266622118651867,
         1.3530092313885689,
         1.1980345621705055,
         1.0731235221028328,
         1.2284730300307274,
         1.4230224750936031,
         1.2873434349894524,
         1.3054621294140816
        ],
        [
         0.5141113377872859,
         0.4316856279830547,
         0.40431489150286637,
         0.3584447348492057,
         0.43597464033640054,
         0.3539297844100743,
         0.36122593043611906,
         0.3306570978591048,
         0.2868115685775782,
         0.32392862077913087,
         0.34801977250970767,
         0.3488194414768028,
         0.30976479485075975,
         0.3471107141667275,
         0.31317656791405113,
         0.42672098907634554,
         0.3134502187214505,
         0.3251323545185309,
         0.528393175394777,
         0.3911830390872337,
         0.4050652140184789,
         0.39130921096492743,
         0.34852651499837306,
         0.319791549513006,
         0.3364680116151083,
         0.574132694402869,
         0.36707534714533224,
         0.2761117093018579,
         0.4352474958808663,
         0.5826017258827336,
         0.35542852006602127,
         0.3160164629742398,
         0.3263165925748621,
         0.3165978231736885,
         0.31128322152085675,
         0.3638050616384379,
         0.34044694126813463,
         0.35957883549649433,
         0.3237354698404969,
         0.5161495636329231,
         0.37994687683708506,
         0.4030089816612226,
         0.3317219708136383,
         0.3300099267909325,
         0.4377408994931821,
         0.26921935190430984,
         0.3416401817688989,
         0.3112893004403244,
         0.3184577061567095,
         0.3330847786303907,
         0.300180032353209,
         0.37279763698849255,
         0.2987764341696149,
         0.43225126775151673,
         0.5684581103106872,
         0.2886601628203302,
         0.317938227499715,
         0.3414549948315784,
         0.31596672269593595,
         0.2978754577453771,
         0.34465105060498097,
         0.31715783645059087,
         0.4158450637378732,
         0.4303073586797955,
         0.3148664968042748,
         0.4067016527926463,
         0.39370036646429635,
         0.3275595481817106,
         0.38484219182872237,
         0.38185929843648303,
         0.32158865926718616,
         0.3874779750625444,
         0.3189108180236225,
         0.4249741468853283,
         0.4763950769139467,
         0.34961896630029954,
         0.2928592445509201,
         0.36376825365299625,
         0.3187977364659806,
         0.34221503884410087,
         0.31933673191498974,
         0.430010295506526,
         0.34753936864624313,
         0.3287592233116436,
         0.4815678232109982,
         0.3743502332681586,
         0.38068446102960135,
         0.3781084569894789,
         0.3011334226104433,
         0.31240449729750064,
         0.30485415436116403,
         0.2796996663363587,
         0.3262292462051722,
         0.38773343491833084,
         0.34943642157973154,
         0.2889287357731128,
         0.3501446023075099,
         0.5168086756243232,
         0.34749192289961645,
         0.3572425459593699
        ]
       ],
       "encoder": "json",
       "name": "ABC_GAN_3 Metrics",
       "version": 1
      }
     },
     "metadata": {
      "scrapbook": {
       "data": true,
       "display": false,
       "name": "ABC_GAN_3 Metrics"
      }
     },
     "output_type": "display_data"
    },
    {
     "name": "stdout",
     "output_type": "stream",
     "text": [
      "MSE\n",
      "0.006876059864662022\n"
     ]
    }
   ],
   "source": [
    "ABC_GAN3_metrics=ABC_train_test2.test_generator(gen3,test_data,prior_model,variance,\"3\",device)\n",
    "sb.glue(\"ABC_GAN_3 Metrics\",ABC_GAN3_metrics)\n",
    "\n",
    "print(\"MSE\")\n",
    "print(mean(ABC_GAN3_metrics[0]))"
   ]
  },
  {
   "cell_type": "code",
   "execution_count": 18,
   "id": "c8e46b48",
   "metadata": {
    "execution": {
     "iopub.execute_input": "2022-02-13T16:09:16.702572Z",
     "iopub.status.busy": "2022-02-13T16:09:16.702189Z",
     "iopub.status.idle": "2022-02-13T16:09:17.012749Z",
     "shell.execute_reply": "2022-02-13T16:09:17.013008Z"
    },
    "id": "c8e46b48",
    "papermill": {
     "duration": 0.329894,
     "end_time": "2022-02-13T16:09:17.013131",
     "exception": false,
     "start_time": "2022-02-13T16:09:16.683237",
     "status": "completed"
    },
    "tags": []
   },
   "outputs": [
    {
     "data": {
      "image/png": "[encoded data removed]",
      "text/plain": [
       "<Figure size 432x288 with 1 Axes>"
      ]
     },
     "metadata": {
      "needs_background": "light"
     },
     "output_type": "display_data"
    },
    {
     "data": {
      "image/png": "[encoded data removed]",
      "text/plain": [
       "<Figure size 432x288 with 1 Axes>"
      ]
     },
     "metadata": {
      "needs_background": "light"
     },
     "output_type": "display_data"
    },
    {
     "data": {
      "image/png": "[encoded data removed]",
      "text/plain": [
       "<Figure size 432x288 with 1 Axes>"
      ]
     },
     "metadata": {
      "needs_background": "light"
     },
     "output_type": "display_data"
    },
    {
     "data": {
      "image/png": "[encoded data removed]",
      "text/plain": [
       "<Figure size 432x288 with 1 Axes>"
      ]
     },
     "metadata": {
      "needs_background": "light"
     },
     "output_type": "display_data"
    }
   ],
   "source": [
    "sanityChecks.discProbVsError(train_data,disc3,device)\n",
    "sanityChecks.discProbVsError(test_data,disc3,device)"
   ]
  },
  {
   "cell_type": "markdown",
   "id": "a5bd74c3",
   "metadata": {
    "id": "a5bd74c3",
    "papermill": {
     "duration": 0.01889,
     "end_time": "2022-02-13T16:09:17.051241",
     "exception": false,
     "start_time": "2022-02-13T16:09:17.032351",
     "status": "completed"
    },
    "tags": []
   },
   "source": [
    "## Skip Connection Model Analysis - ABC-GAN "
   ]
  },
  {
   "cell_type": "markdown",
   "id": "5744a8bf",
   "metadata": {
    "id": "5744a8bf",
    "papermill": {
     "duration": 0.018914,
     "end_time": "2022-02-13T16:09:17.089066",
     "exception": false,
     "start_time": "2022-02-13T16:09:17.070152",
     "status": "completed"
    },
    "tags": []
   },
   "source": [
    "### Weight Analysis \n",
    "\n",
    "Study the weights of the skip connection layer\n",
    "\n",
    "Equation of the skip connection is \n",
    "\n",
    "$output = y_{gan} * w + y_{abc} * (1-w)$"
   ]
  },
  {
   "cell_type": "code",
   "execution_count": 19,
   "id": "52c31dea",
   "metadata": {
    "execution": {
     "iopub.execute_input": "2022-02-13T16:09:17.129789Z",
     "iopub.status.busy": "2022-02-13T16:09:17.129401Z",
     "iopub.status.idle": "2022-02-13T16:09:17.132815Z",
     "shell.execute_reply": "2022-02-13T16:09:17.133072Z"
    },
    "id": "52c31dea",
    "papermill": {
     "duration": 0.025357,
     "end_time": "2022-02-13T16:09:17.133186",
     "exception": false,
     "start_time": "2022-02-13T16:09:17.107829",
     "status": "completed"
    },
    "tags": []
   },
   "outputs": [
    {
     "name": "stdout",
     "output_type": "stream",
     "text": [
      "Weight of the node at skip connection\n",
      "Parameter containing:\n",
      "tensor([[0.7767]], requires_grad=True)\n"
     ]
    },
    {
     "data": {
      "application/scrapbook.scrap.json+json": {
       "data": 0.7766817808151245,
       "encoder": "json",
       "name": "Skip Connection Weight",
       "version": 1
      }
     },
     "metadata": {
      "scrapbook": {
       "data": true,
       "display": false,
       "name": "Skip Connection Weight"
      }
     },
     "output_type": "display_data"
    }
   ],
   "source": [
    "print(\"Weight of the node at skip connection\")\n",
    "for name,param in gen3.named_parameters():\n",
    "    if(name == \"skipNode.weight\"):\n",
    "        print(param)\n",
    "        sb.glue(\"Skip Connection Weight\",param.item())"
   ]
  }
 ],
 "metadata": {
  "colab": {
   "collapsed_sections": [],
   "name": "ABC_GAN_Model-Catboost_Pre-gen.ipynb",
   "provenance": []
  },
  "interpreter": {
   "hash": "31f2aee4e71d21fbe5cf8b01ff0e069b9275f58929596ceb00d14d90e3e16cd6"
  },
  "kernelspec": {
   "display_name": "Python 3 (ipykernel)",
   "language": "python",
   "name": "python3"
  },
  "language_info": {
   "codemirror_mode": {
    "name": "ipython",
    "version": 3
   },
   "file_extension": ".py",
   "mimetype": "text/x-python",
   "name": "python",
   "nbconvert_exporter": "python",
   "pygments_lexer": "ipython3",
   "version": "3.8.11"
  },
  "papermill": {
   "default_parameters": {},
   "duration": 56.346781,
   "end_time": "2022-02-13T16:09:17.459445",
   "environment_variables": {},
   "exception": null,
   "input_path": "ABC_GAN-Catboost.ipynb",
   "output_path": "./ABC_GAN_Catboost/ABC-GAN_output_1_0.ipynb",
   "parameters": {
    "variance": 1
   },
   "start_time": "2022-02-13T16:08:21.112664",
   "version": "2.3.3"
  }
 },
 "nbformat": 4,
 "nbformat_minor": 5
}