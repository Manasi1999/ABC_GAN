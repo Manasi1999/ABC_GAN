{
 "cells": [
  {
   "cell_type": "code",
   "execution_count": 1,
   "id": "423b7ca4",
   "metadata": {},
   "outputs": [],
   "source": [
    "import warnings\n",
    "warnings.filterwarnings('ignore')"
   ]
  },
  {
   "cell_type": "code",
   "execution_count": 2,
   "id": "7c9980c8",
   "metadata": {},
   "outputs": [],
   "source": [
    "import scrapbook as sb \n",
    "import pandas as pd"
   ]
  },
  {
   "cell_type": "code",
   "execution_count": 6,
   "id": "87f2cc45",
   "metadata": {},
   "outputs": [],
   "source": [
    "## Regression Dataset\n",
    "book = sb.read_notebooks('../Regression_Output')\n",
    "data = []\n",
    "for nb in book.notebooks:\n",
    "    nbList = [nb.papermill_dataframe.iloc[1]['value'],\n",
    "              nb.papermill_dataframe.iloc[2]['value'],\n",
    "              nb.papermill_dataframe.iloc[0]['value'],\n",
    "              nb.papermill_dataframe.iloc[3]['value'],\n",
    "              nb.scraps['Stats Model MSE'].data,\n",
    "              nb.scraps['GAN Model MSE'].data,\n",
    "              nb.scraps['ABC-GAN Model MSE'].data,\n",
    "              nb.scraps['Stats Model MAE'].data,\n",
    "              nb.scraps['GAN Model MAE'].data,\n",
    "              nb.scraps['ABC-GAN Model MAE'].data,\n",
    "              nb.scraps['Stats Model Manhattan Distance'].data,\n",
    "              nb.scraps['GAN Model Manhattan Distance'].data,\n",
    "              nb.scraps['ABC-GAN Model Manhattan Distance'].data,\n",
    "              nb.scraps['Stats Model Euclidean distance'].data,\n",
    "              nb.scraps['GAN Model Euclidean distance'].data,\n",
    "              nb.scraps['ABC-GAN Model Euclidean distance'].data,\n",
    "              nb.scraps['GAN Model n_epochs'].data,\n",
    "              nb.scraps['ABC-GAN Model n_epochs'].data]        \n",
    "    data.append(nbList)\n",
    "df = pd.DataFrame(data, columns = ['Features','Sample Size','Mean','Variance',\n",
    "                                   'Stats Model MSE','GAN MSE','ABC-GAN MSE',\n",
    "                                   'Stats Model MAE','GAN MAE','ABC-GAN MAE',\n",
    "                                   'Stats Manhattan Distance','GAN Manhattan Distance','ABC-GAN Manhattan Distance',\n",
    "                                   'Stats Model Euclidean Distance','GAN Euclidean Distance','ABC-GAN Euclidean Distance',\n",
    "                                    'GAN Model n_epochs','ABC-GAN Model n_epochs'])\n",
    "\n",
    "df.to_csv('regression_out.csv', index=False)"
   ]
  },
  {
   "cell_type": "code",
   "execution_count": 3,
   "id": "b91ae7e5",
   "metadata": {},
   "outputs": [],
   "source": [
    "## Diabetes Dataset\n",
    "book = sb.read_notebooks('../Diabetes_Output')\n",
    "data = []\n",
    "for nb in book.notebooks:\n",
    "    nbList = [nb.papermill_dataframe.iloc[0]['value'],\n",
    "              nb.papermill_dataframe.iloc[1]['value'],\n",
    "              nb.scraps['Stats Model MSE'].data,\n",
    "              nb.scraps['GAN Model MSE'].data,\n",
    "              nb.scraps['ABC-GAN Model MSE'].data,\n",
    "              nb.scraps['Stats Model MAE'].data,\n",
    "              nb.scraps['GAN Model MAE'].data,\n",
    "              nb.scraps['ABC-GAN Model MAE'].data,\n",
    "              nb.scraps['Stats Model Manhattan Distance'].data,\n",
    "              nb.scraps['GAN Model Manhattan Distance'].data,\n",
    "              nb.scraps['ABC-GAN Model Manhattan Distance'].data,\n",
    "              nb.scraps['Stats Model Euclidean distance'].data,\n",
    "              nb.scraps['GAN Model Euclidean distance'].data,\n",
    "              nb.scraps['ABC-GAN Model Euclidean distance'].data,\n",
    "              nb.scraps['GAN Model n_epochs'].data,\n",
    "              nb.scraps['ABC-GAN Model n_epochs'].data]        \n",
    "    data.append(nbList)\n",
    "df = pd.DataFrame(data, columns = ['Mean','Variance',\n",
    "                                   'Stats Model MSE','GAN MSE','ABC-GAN MSE',\n",
    "                                   'Stats Model MAE','GAN MAE','ABC-GAN MAE',\n",
    "                                   'Stats Manhattan Distance','GAN Manhattan Distance','ABC-GAN Manhattan Distance',\n",
    "                                   'Stats Model Euclidean Distance','GAN Euclidean Distance','ABC-GAN Euclidean Distance',\n",
    "                                    'GAN Model n_epochs','ABC-GAN Model n_epochs'])\n",
    "df.to_csv('diabetes_out.csv', index=False)"
   ]
  },
  {
   "cell_type": "code",
   "execution_count": 4,
   "metadata": {},
   "outputs": [],
   "source": [
    "## Boston Housing Dataset\n",
    "book = sb.read_notebooks('../Boston_Output')\n",
    "data = []\n",
    "for nb in book.notebooks:\n",
    "    nbList = [nb.papermill_dataframe.iloc[0]['value'],\n",
    "              nb.papermill_dataframe.iloc[1]['value'],\n",
    "              nb.scraps['Stats Model MSE'].data,\n",
    "              nb.scraps['GAN Model MSE'].data,\n",
    "              nb.scraps['ABC-GAN Model MSE'].data,\n",
    "              nb.scraps['Stats Model MAE'].data,\n",
    "              nb.scraps['GAN Model MAE'].data,\n",
    "              nb.scraps['ABC-GAN Model MAE'].data,\n",
    "              nb.scraps['Stats Model Manhattan Distance'].data,\n",
    "              nb.scraps['GAN Model Manhattan Distance'].data,\n",
    "              nb.scraps['ABC-GAN Model Manhattan Distance'].data,\n",
    "              nb.scraps['Stats Model Euclidean distance'].data,\n",
    "              nb.scraps['GAN Model Euclidean distance'].data,\n",
    "              nb.scraps['ABC-GAN Model Euclidean distance'].data,\n",
    "              nb.scraps['GAN Model n_epochs'].data,\n",
    "              nb.scraps['ABC-GAN Model n_epochs'].data]        \n",
    "    data.append(nbList)\n",
    "df = pd.DataFrame(data, columns = ['Mean','Variance',\n",
    "                                   'Stats Model MSE','GAN MSE','ABC-GAN MSE',\n",
    "                                   'Stats Model MAE','GAN MAE','ABC-GAN MAE',\n",
    "                                   'Stats Manhattan Distance','GAN Manhattan Distance','ABC-GAN Manhattan Distance',\n",
    "                                   'Stats Model Euclidean Distance','GAN Euclidean Distance','ABC-GAN Euclidean Distance',\n",
    "                                    'GAN Model n_epochs','ABC-GAN Model n_epochs'])\n",
    "df.to_csv('boston_out.csv', index=False)"
   ]
  }
 ],
 "metadata": {
  "interpreter": {
   "hash": "10498c76ddd8160350534c6544a2b2fb65f2138dbc70420f7c81a3268f830f23"
  },
  "kernelspec": {
   "display_name": "Python 3.8.11 64-bit ('papermill': conda)",
   "name": "python3"
  },
  "language_info": {
   "codemirror_mode": {
    "name": "ipython",
    "version": 3
   },
   "file_extension": ".py",
   "mimetype": "text/x-python",
   "name": "python",
   "nbconvert_exporter": "python",
   "pygments_lexer": "ipython3",
   "version": "3.8.11"
  }
 },
 "nbformat": 4,
 "nbformat_minor": 5
}
