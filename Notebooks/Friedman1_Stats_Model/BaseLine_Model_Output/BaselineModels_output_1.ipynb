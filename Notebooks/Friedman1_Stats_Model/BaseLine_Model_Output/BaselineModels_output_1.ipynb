{
 "cells": [
  {
   "cell_type": "markdown",
   "id": "3693cd7b",
   "metadata": {
    "papermill": {
     "duration": 0.011844,
     "end_time": "2022-02-13T07:43:51.547530",
     "exception": false,
     "start_time": "2022-02-13T07:43:51.535686",
     "status": "completed"
    },
    "tags": []
   },
   "source": [
    "## Import Libraries "
   ]
  },
  {
   "cell_type": "code",
   "execution_count": 1,
   "id": "3d9ec0e4",
   "metadata": {
    "execution": {
     "iopub.execute_input": "2022-02-13T07:43:51.572490Z",
     "iopub.status.busy": "2022-02-13T07:43:51.571783Z",
     "iopub.status.idle": "2022-02-13T07:43:51.575275Z",
     "shell.execute_reply": "2022-02-13T07:43:51.575752Z"
    },
    "papermill": {
     "duration": 0.020859,
     "end_time": "2022-02-13T07:43:51.576078",
     "exception": false,
     "start_time": "2022-02-13T07:43:51.555219",
     "status": "completed"
    },
    "tags": []
   },
   "outputs": [],
   "source": [
    "import warnings\n",
    "import sys\n",
    "sys.path.insert(0, '../../src')\n",
    "warnings.filterwarnings('ignore')"
   ]
  },
  {
   "cell_type": "code",
   "execution_count": 2,
   "id": "68431fce",
   "metadata": {
    "execution": {
     "iopub.execute_input": "2022-02-13T07:43:51.588847Z",
     "iopub.status.busy": "2022-02-13T07:43:51.588233Z",
     "iopub.status.idle": "2022-02-13T07:43:57.755282Z",
     "shell.execute_reply": "2022-02-13T07:43:57.755603Z"
    },
    "papermill": {
     "duration": 6.174737,
     "end_time": "2022-02-13T07:43:57.755746",
     "exception": false,
     "start_time": "2022-02-13T07:43:51.581009",
     "status": "completed"
    },
    "tags": []
   },
   "outputs": [],
   "source": [
    "import statsModel\n",
    "import scrapbook as sb \n",
    "import torch \n",
    "import statsModel\n",
    "import friedman1Dataset\n",
    "import dataset \n",
    "from torch.utils.data import random_split \n",
    "from sklearn.model_selection import train_test_split"
   ]
  },
  {
   "cell_type": "markdown",
   "id": "950c5673",
   "metadata": {
    "papermill": {
     "duration": 0.002917,
     "end_time": "2022-02-13T07:43:57.761967",
     "exception": false,
     "start_time": "2022-02-13T07:43:57.759050",
     "status": "completed"
    },
    "tags": []
   },
   "source": [
    "## Import Dataset \n"
   ]
  },
  {
   "cell_type": "code",
   "execution_count": 3,
   "id": "71523cce",
   "metadata": {
    "execution": {
     "iopub.execute_input": "2022-02-13T07:43:57.782783Z",
     "iopub.status.busy": "2022-02-13T07:43:57.782363Z",
     "iopub.status.idle": "2022-02-13T07:43:57.793348Z",
     "shell.execute_reply": "2022-02-13T07:43:57.793591Z"
    },
    "papermill": {
     "duration": 0.02597,
     "end_time": "2022-02-13T07:43:57.793710",
     "exception": false,
     "start_time": "2022-02-13T07:43:57.767740",
     "status": "completed"
    },
    "tags": []
   },
   "outputs": [
    {
     "name": "stdout",
     "output_type": "stream",
     "text": [
      "         X0        X1        X2        X3        X4         Y\n",
      "0  0.843134 -1.578603 -1.086336 -0.734860  1.548105 -0.818228\n",
      "1  1.344631  1.517301 -0.839498  0.398475  0.177818  0.062536\n",
      "2 -0.668647 -1.493005  1.060207  0.758629 -0.251329 -0.541535\n",
      "3 -0.608834 -0.560113 -0.935161 -0.609359  0.911339 -0.484369\n",
      "4 -0.260716 -1.257741  0.609151 -0.824791  0.813213 -1.190649\n"
     ]
    }
   ],
   "source": [
    "n_features = 5\n",
    "n_samples= 100\n",
    "n_target = 1 \n",
    "X,Y = friedman1Dataset.friedman1_data(n_samples,n_features)"
   ]
  },
  {
   "cell_type": "code",
   "execution_count": 4,
   "id": "e3d62d7f",
   "metadata": {
    "execution": {
     "iopub.execute_input": "2022-02-13T07:43:57.802334Z",
     "iopub.status.busy": "2022-02-13T07:43:57.801925Z",
     "iopub.status.idle": "2022-02-13T07:43:57.803231Z",
     "shell.execute_reply": "2022-02-13T07:43:57.803470Z"
    },
    "papermill": {
     "duration": 0.006922,
     "end_time": "2022-02-13T07:43:57.803576",
     "exception": false,
     "start_time": "2022-02-13T07:43:57.796654",
     "status": "completed"
    },
    "tags": []
   },
   "outputs": [],
   "source": [
    "# Train test split for dataset \n",
    "real_dataset = dataset.CustomDataset(X,Y)\n",
    "X_train, X_test, y_train, y_test = train_test_split(X, Y, test_size=0.2)"
   ]
  },
  {
   "cell_type": "markdown",
   "id": "b7fc3f32",
   "metadata": {
    "papermill": {
     "duration": 0.002597,
     "end_time": "2022-02-13T07:43:57.808846",
     "exception": false,
     "start_time": "2022-02-13T07:43:57.806249",
     "status": "completed"
    },
    "tags": []
   },
   "source": [
    "## Stats Model \n",
    "\n"
   ]
  },
  {
   "cell_type": "code",
   "execution_count": 5,
   "id": "58ae730d",
   "metadata": {
    "execution": {
     "iopub.execute_input": "2022-02-13T07:43:57.818308Z",
     "iopub.status.busy": "2022-02-13T07:43:57.817890Z",
     "iopub.status.idle": "2022-02-13T07:43:57.924827Z",
     "shell.execute_reply": "2022-02-13T07:43:57.925123Z"
    },
    "papermill": {
     "duration": 0.11387,
     "end_time": "2022-02-13T07:43:57.925261",
     "exception": false,
     "start_time": "2022-02-13T07:43:57.811391",
     "status": "completed"
    },
    "tags": []
   },
   "outputs": [
    {
     "name": "stderr",
     "output_type": "stream",
     "text": [
      "No handles with labels found to put in legend.\n"
     ]
    },
    {
     "name": "stdout",
     "output_type": "stream",
     "text": [
      "                                 OLS Regression Results                                \n",
      "=======================================================================================\n",
      "Dep. Variable:                      y   R-squared (uncentered):                   0.711\n",
      "Model:                            OLS   Adj. R-squared (uncentered):              0.692\n",
      "Method:                 Least Squares   F-statistic:                              36.86\n",
      "Date:                Sun, 13 Feb 2022   Prob (F-statistic):                    6.90e-19\n",
      "Time:                        13:13:57   Log-Likelihood:                         -62.870\n",
      "No. Observations:                  80   AIC:                                      135.7\n",
      "Df Residuals:                      75   BIC:                                      147.6\n",
      "Df Model:                           5                                                  \n",
      "Covariance Type:            nonrobust                                                  \n",
      "==============================================================================\n",
      "                 coef    std err          t      P>|t|      [0.025      0.975]\n",
      "------------------------------------------------------------------------------\n",
      "x1             0.4328      0.063      6.915      0.000       0.308       0.558\n",
      "x2             0.3462      0.065      5.343      0.000       0.217       0.475\n",
      "x3            -0.0987      0.063     -1.573      0.120      -0.224       0.026\n",
      "x4             0.5594      0.062      9.072      0.000       0.437       0.682\n",
      "x5             0.3396      0.062      5.436      0.000       0.215       0.464\n",
      "==============================================================================\n",
      "Omnibus:                        1.363   Durbin-Watson:                   2.076\n",
      "Prob(Omnibus):                  0.506   Jarque-Bera (JB):                0.789\n",
      "Skew:                          -0.183   Prob(JB):                        0.674\n",
      "Kurtosis:                       3.321   Cond. No.                         1.39\n",
      "==============================================================================\n",
      "\n",
      "Notes:\n",
      "[1] R² is computed without centering (uncentered) since the model does not contain a constant.\n",
      "[2] Standard Errors assume that the covariance matrix of the errors is correctly specified.\n"
     ]
    },
    {
     "data": {
      "image/png": "[encoded data removed]",
      "text/plain": [
       "<Figure size 432x288 with 1 Axes>"
      ]
     },
     "metadata": {
      "needs_background": "light"
     },
     "output_type": "display_data"
    },
    {
     "name": "stdout",
     "output_type": "stream",
     "text": [
      "Performance Metrics\n",
      "Mean Squared Error: 0.15897222576139064\n",
      "Mean Absolute Error: 0.2945574304305082\n",
      "Manhattan distance: 5.891148608610165\n",
      "Euclidean distance: 1.7830996930143346\n"
     ]
    },
    {
     "data": {
      "application/scrapbook.scrap.json+json": {
       "data": 0.15897222576139064,
       "encoder": "json",
       "name": "Stats Model MSE",
       "version": 1
      }
     },
     "metadata": {
      "scrapbook": {
       "data": true,
       "display": false,
       "name": "Stats Model MSE"
      }
     },
     "output_type": "display_data"
    },
    {
     "data": {
      "application/scrapbook.scrap.json+json": {
       "data": 0.2945574304305082,
       "encoder": "json",
       "name": "Stats Model MAE",
       "version": 1
      }
     },
     "metadata": {
      "scrapbook": {
       "data": true,
       "display": false,
       "name": "Stats Model MAE"
      }
     },
     "output_type": "display_data"
    },
    {
     "data": {
      "application/scrapbook.scrap.json+json": {
       "data": 5.891148608610165,
       "encoder": "json",
       "name": "Stats Model Manhattan Distance",
       "version": 1
      }
     },
     "metadata": {
      "scrapbook": {
       "data": true,
       "display": false,
       "name": "Stats Model Manhattan Distance"
      }
     },
     "output_type": "display_data"
    },
    {
     "data": {
      "application/scrapbook.scrap.json+json": {
       "data": 1.7830996930143346,
       "encoder": "json",
       "name": "Stats Model Euclidean distance",
       "version": 1
      }
     },
     "metadata": {
      "scrapbook": {
       "data": true,
       "display": false,
       "name": "Stats Model Euclidean distance"
      }
     },
     "output_type": "display_data"
    },
    {
     "data": {
      "application/scrapbook.scrap.json+json": {
       "data": [
        0.43283139417656336,
        0.34619504971399084,
        -0.09865090318798464,
        0.5593875559969442,
        0.3396378748912223
       ],
       "encoder": "json",
       "name": "Coefficients",
       "version": 1
      }
     },
     "metadata": {
      "scrapbook": {
       "data": true,
       "display": false,
       "name": "Coefficients"
      }
     },
     "output_type": "display_data"
    }
   ],
   "source": [
    "coefficients , y_pred =statsModel.statsModel(X_train,y_train,X_test,y_test)\n",
    "#Store MSE Value \n",
    "sb.glue(\"Coefficients\",coefficients)"
   ]
  }
 ],
 "metadata": {
  "interpreter": {
   "hash": "10498c76ddd8160350534c6544a2b2fb65f2138dbc70420f7c81a3268f830f23"
  },
  "kernelspec": {
   "display_name": "Python 3 (ipykernel)",
   "language": "python",
   "name": "python3"
  },
  "language_info": {
   "codemirror_mode": {
    "name": "ipython",
    "version": 3
   },
   "file_extension": ".py",
   "mimetype": "text/x-python",
   "name": "python",
   "nbconvert_exporter": "python",
   "pygments_lexer": "ipython3",
   "version": "3.8.11"
  },
  "papermill": {
   "default_parameters": {},
   "duration": 7.554843,
   "end_time": "2022-02-13T07:43:58.237481",
   "environment_variables": {},
   "exception": null,
   "input_path": "BaselineModels.ipynb",
   "output_path": "./BaseLine_Model_Output/BaselineModels_output_1.ipynb",
   "parameters": {},
   "start_time": "2022-02-13T07:43:50.682638",
   "version": "2.3.3"
  }
 },
 "nbformat": 4,
 "nbformat_minor": 5
}