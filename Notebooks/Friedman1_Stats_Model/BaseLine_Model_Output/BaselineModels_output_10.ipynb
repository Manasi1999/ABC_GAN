{
 "cells": [
  {
   "cell_type": "markdown",
   "id": "bd32de5c",
   "metadata": {
    "papermill": {
     "duration": 0.013972,
     "end_time": "2022-02-13T07:44:30.949555",
     "exception": false,
     "start_time": "2022-02-13T07:44:30.935583",
     "status": "completed"
    },
    "tags": []
   },
   "source": [
    "## Import Libraries "
   ]
  },
  {
   "cell_type": "code",
   "execution_count": 1,
   "id": "5492ff9f",
   "metadata": {
    "execution": {
     "iopub.execute_input": "2022-02-13T07:44:30.975293Z",
     "iopub.status.busy": "2022-02-13T07:44:30.974580Z",
     "iopub.status.idle": "2022-02-13T07:44:30.977514Z",
     "shell.execute_reply": "2022-02-13T07:44:30.978012Z"
    },
    "papermill": {
     "duration": 0.020192,
     "end_time": "2022-02-13T07:44:30.978319",
     "exception": false,
     "start_time": "2022-02-13T07:44:30.958127",
     "status": "completed"
    },
    "tags": []
   },
   "outputs": [],
   "source": [
    "import warnings\n",
    "import sys\n",
    "sys.path.insert(0, '../../src')\n",
    "warnings.filterwarnings('ignore')"
   ]
  },
  {
   "cell_type": "code",
   "execution_count": 2,
   "id": "3ce4b687",
   "metadata": {
    "execution": {
     "iopub.execute_input": "2022-02-13T07:44:30.991321Z",
     "iopub.status.busy": "2022-02-13T07:44:30.990800Z",
     "iopub.status.idle": "2022-02-13T07:44:32.573639Z",
     "shell.execute_reply": "2022-02-13T07:44:32.573896Z"
    },
    "papermill": {
     "duration": 1.590609,
     "end_time": "2022-02-13T07:44:32.574022",
     "exception": false,
     "start_time": "2022-02-13T07:44:30.983413",
     "status": "completed"
    },
    "tags": []
   },
   "outputs": [],
   "source": [
    "import statsModel\n",
    "import scrapbook as sb \n",
    "import torch \n",
    "import statsModel\n",
    "import friedman1Dataset\n",
    "import dataset \n",
    "from torch.utils.data import random_split \n",
    "from sklearn.model_selection import train_test_split"
   ]
  },
  {
   "cell_type": "markdown",
   "id": "dc420114",
   "metadata": {
    "papermill": {
     "duration": 0.002397,
     "end_time": "2022-02-13T07:44:32.579145",
     "exception": false,
     "start_time": "2022-02-13T07:44:32.576748",
     "status": "completed"
    },
    "tags": []
   },
   "source": [
    "## Import Dataset \n"
   ]
  },
  {
   "cell_type": "code",
   "execution_count": 3,
   "id": "ee9ce47f",
   "metadata": {
    "execution": {
     "iopub.execute_input": "2022-02-13T07:44:32.588813Z",
     "iopub.status.busy": "2022-02-13T07:44:32.587427Z",
     "iopub.status.idle": "2022-02-13T07:44:32.593391Z",
     "shell.execute_reply": "2022-02-13T07:44:32.593623Z"
    },
    "papermill": {
     "duration": 0.011907,
     "end_time": "2022-02-13T07:44:32.593732",
     "exception": false,
     "start_time": "2022-02-13T07:44:32.581825",
     "status": "completed"
    },
    "tags": []
   },
   "outputs": [
    {
     "name": "stdout",
     "output_type": "stream",
     "text": [
      "         X0        X1        X2        X3        X4         Y\n",
      "0 -1.096009 -0.641532 -0.683466  0.231482  0.622203 -0.507445\n",
      "1 -1.323640  0.800020 -1.088600 -0.977838 -0.816259 -1.161047\n",
      "2  0.902536 -1.397513 -0.391816 -0.096934  1.370256 -0.611092\n",
      "3  1.124423  1.477525 -1.026757 -0.216518  1.708878  0.946052\n",
      "4 -0.056903 -0.643310 -0.221330 -1.334165  0.636991 -1.247630\n"
     ]
    }
   ],
   "source": [
    "n_features = 5\n",
    "n_samples= 100\n",
    "n_target = 1 \n",
    "X,Y = friedman1Dataset.friedman1_data(n_samples,n_features)"
   ]
  },
  {
   "cell_type": "code",
   "execution_count": 4,
   "id": "9b6945f3",
   "metadata": {
    "execution": {
     "iopub.execute_input": "2022-02-13T07:44:32.601367Z",
     "iopub.status.busy": "2022-02-13T07:44:32.600953Z",
     "iopub.status.idle": "2022-02-13T07:44:32.602412Z",
     "shell.execute_reply": "2022-02-13T07:44:32.602636Z"
    },
    "papermill": {
     "duration": 0.00633,
     "end_time": "2022-02-13T07:44:32.602745",
     "exception": false,
     "start_time": "2022-02-13T07:44:32.596415",
     "status": "completed"
    },
    "tags": []
   },
   "outputs": [],
   "source": [
    "# Train test split for dataset \n",
    "real_dataset = dataset.CustomDataset(X,Y)\n",
    "X_train, X_test, y_train, y_test = train_test_split(X, Y, test_size=0.2)"
   ]
  },
  {
   "cell_type": "markdown",
   "id": "8cef66c3",
   "metadata": {
    "papermill": {
     "duration": 0.002495,
     "end_time": "2022-02-13T07:44:32.607851",
     "exception": false,
     "start_time": "2022-02-13T07:44:32.605356",
     "status": "completed"
    },
    "tags": []
   },
   "source": [
    "## Stats Model \n",
    "\n"
   ]
  },
  {
   "cell_type": "code",
   "execution_count": 5,
   "id": "8077bfeb",
   "metadata": {
    "execution": {
     "iopub.execute_input": "2022-02-13T07:44:32.615724Z",
     "iopub.status.busy": "2022-02-13T07:44:32.615346Z",
     "iopub.status.idle": "2022-02-13T07:44:32.707268Z",
     "shell.execute_reply": "2022-02-13T07:44:32.707584Z"
    },
    "papermill": {
     "duration": 0.097329,
     "end_time": "2022-02-13T07:44:32.707710",
     "exception": false,
     "start_time": "2022-02-13T07:44:32.610381",
     "status": "completed"
    },
    "tags": []
   },
   "outputs": [
    {
     "name": "stderr",
     "output_type": "stream",
     "text": [
      "No handles with labels found to put in legend.\n"
     ]
    },
    {
     "name": "stdout",
     "output_type": "stream",
     "text": [
      "                                 OLS Regression Results                                \n",
      "=======================================================================================\n",
      "Dep. Variable:                      y   R-squared (uncentered):                   0.627\n",
      "Model:                            OLS   Adj. R-squared (uncentered):              0.603\n",
      "Method:                 Least Squares   F-statistic:                              25.26\n",
      "Date:                Sun, 13 Feb 2022   Prob (F-statistic):                    7.72e-15\n",
      "Time:                        13:14:32   Log-Likelihood:                         -74.612\n",
      "No. Observations:                  80   AIC:                                      159.2\n",
      "Df Residuals:                      75   BIC:                                      171.1\n",
      "Df Model:                           5                                                  \n",
      "Covariance Type:            nonrobust                                                  \n",
      "==============================================================================\n",
      "                 coef    std err          t      P>|t|      [0.025      0.975]\n",
      "------------------------------------------------------------------------------\n",
      "x1             0.4031      0.069      5.857      0.000       0.266       0.540\n",
      "x2             0.4315      0.079      5.485      0.000       0.275       0.588\n",
      "x3            -0.0209      0.074     -0.283      0.778      -0.168       0.126\n",
      "x4             0.6067      0.075      8.077      0.000       0.457       0.756\n",
      "x5             0.2651      0.070      3.763      0.000       0.125       0.405\n",
      "==============================================================================\n",
      "Omnibus:                       32.603   Durbin-Watson:                   2.292\n",
      "Prob(Omnibus):                  0.000   Jarque-Bera (JB):               96.153\n",
      "Skew:                          -1.270   Prob(JB):                     1.32e-21\n",
      "Kurtosis:                       7.732   Cond. No.                         1.56\n",
      "==============================================================================\n",
      "\n",
      "Notes:\n",
      "[1] R² is computed without centering (uncentered) since the model does not contain a constant.\n",
      "[2] Standard Errors assume that the covariance matrix of the errors is correctly specified.\n"
     ]
    },
    {
     "data": {
      "image/png": "[encoded data removed]",
      "text/plain": [
       "<Figure size 432x288 with 1 Axes>"
      ]
     },
     "metadata": {
      "needs_background": "light"
     },
     "output_type": "display_data"
    },
    {
     "name": "stdout",
     "output_type": "stream",
     "text": [
      "Performance Metrics\n",
      "Mean Squared Error: 0.21540213853533857\n",
      "Mean Absolute Error: 0.387776643324519\n",
      "Manhattan distance: 7.7555328664903795\n",
      "Euclidean distance: 2.075582513586673\n"
     ]
    },
    {
     "data": {
      "application/scrapbook.scrap.json+json": {
       "data": 0.21540213853533857,
       "encoder": "json",
       "name": "Stats Model MSE",
       "version": 1
      }
     },
     "metadata": {
      "scrapbook": {
       "data": true,
       "display": false,
       "name": "Stats Model MSE"
      }
     },
     "output_type": "display_data"
    },
    {
     "data": {
      "application/scrapbook.scrap.json+json": {
       "data": 0.387776643324519,
       "encoder": "json",
       "name": "Stats Model MAE",
       "version": 1
      }
     },
     "metadata": {
      "scrapbook": {
       "data": true,
       "display": false,
       "name": "Stats Model MAE"
      }
     },
     "output_type": "display_data"
    },
    {
     "data": {
      "application/scrapbook.scrap.json+json": {
       "data": 7.7555328664903795,
       "encoder": "json",
       "name": "Stats Model Manhattan Distance",
       "version": 1
      }
     },
     "metadata": {
      "scrapbook": {
       "data": true,
       "display": false,
       "name": "Stats Model Manhattan Distance"
      }
     },
     "output_type": "display_data"
    },
    {
     "data": {
      "application/scrapbook.scrap.json+json": {
       "data": 2.075582513586673,
       "encoder": "json",
       "name": "Stats Model Euclidean distance",
       "version": 1
      }
     },
     "metadata": {
      "scrapbook": {
       "data": true,
       "display": false,
       "name": "Stats Model Euclidean distance"
      }
     },
     "output_type": "display_data"
    },
    {
     "data": {
      "application/scrapbook.scrap.json+json": {
       "data": [
        0.4031022514528021,
        0.43146034936537025,
        -0.020877453801118648,
        0.6066563164879081,
        0.26511130741969186
       ],
       "encoder": "json",
       "name": "Coefficients",
       "version": 1
      }
     },
     "metadata": {
      "scrapbook": {
       "data": true,
       "display": false,
       "name": "Coefficients"
      }
     },
     "output_type": "display_data"
    }
   ],
   "source": [
    "coefficients , y_pred =statsModel.statsModel(X_train,y_train,X_test,y_test)\n",
    "#Store MSE Value \n",
    "sb.glue(\"Coefficients\",coefficients)"
   ]
  }
 ],
 "metadata": {
  "interpreter": {
   "hash": "10498c76ddd8160350534c6544a2b2fb65f2138dbc70420f7c81a3268f830f23"
  },
  "kernelspec": {
   "display_name": "Python 3 (ipykernel)",
   "language": "python",
   "name": "python3"
  },
  "language_info": {
   "codemirror_mode": {
    "name": "ipython",
    "version": 3
   },
   "file_extension": ".py",
   "mimetype": "text/x-python",
   "name": "python",
   "nbconvert_exporter": "python",
   "pygments_lexer": "ipython3",
   "version": "3.8.11"
  },
  "papermill": {
   "default_parameters": {},
   "duration": 2.931448,
   "end_time": "2022-02-13T07:44:33.020144",
   "environment_variables": {},
   "exception": null,
   "input_path": "BaselineModels.ipynb",
   "output_path": "./BaseLine_Model_Output/BaselineModels_output_10.ipynb",
   "parameters": {},
   "start_time": "2022-02-13T07:44:30.088696",
   "version": "2.3.3"
  }
 },
 "nbformat": 4,
 "nbformat_minor": 5
}