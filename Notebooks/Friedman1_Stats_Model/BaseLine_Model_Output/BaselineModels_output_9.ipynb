{
 "cells": [
  {
   "cell_type": "markdown",
   "id": "f9c70ba2",
   "metadata": {
    "papermill": {
     "duration": 0.012068,
     "end_time": "2022-02-13T07:44:27.122483",
     "exception": false,
     "start_time": "2022-02-13T07:44:27.110415",
     "status": "completed"
    },
    "tags": []
   },
   "source": [
    "## Import Libraries "
   ]
  },
  {
   "cell_type": "code",
   "execution_count": 1,
   "id": "040b509a",
   "metadata": {
    "execution": {
     "iopub.execute_input": "2022-02-13T07:44:27.147193Z",
     "iopub.status.busy": "2022-02-13T07:44:27.146493Z",
     "iopub.status.idle": "2022-02-13T07:44:27.149932Z",
     "shell.execute_reply": "2022-02-13T07:44:27.150395Z"
    },
    "papermill": {
     "duration": 0.020515,
     "end_time": "2022-02-13T07:44:27.150714",
     "exception": false,
     "start_time": "2022-02-13T07:44:27.130199",
     "status": "completed"
    },
    "tags": []
   },
   "outputs": [],
   "source": [
    "import warnings\n",
    "import sys\n",
    "sys.path.insert(0, '../../src')\n",
    "warnings.filterwarnings('ignore')"
   ]
  },
  {
   "cell_type": "code",
   "execution_count": 2,
   "id": "43fb1f8d",
   "metadata": {
    "execution": {
     "iopub.execute_input": "2022-02-13T07:44:27.163292Z",
     "iopub.status.busy": "2022-02-13T07:44:27.162770Z",
     "iopub.status.idle": "2022-02-13T07:44:28.733239Z",
     "shell.execute_reply": "2022-02-13T07:44:28.733463Z"
    },
    "papermill": {
     "duration": 1.57798,
     "end_time": "2022-02-13T07:44:28.733585",
     "exception": false,
     "start_time": "2022-02-13T07:44:27.155605",
     "status": "completed"
    },
    "tags": []
   },
   "outputs": [],
   "source": [
    "import statsModel\n",
    "import scrapbook as sb \n",
    "import torch \n",
    "import statsModel\n",
    "import friedman1Dataset\n",
    "import dataset \n",
    "from torch.utils.data import random_split \n",
    "from sklearn.model_selection import train_test_split"
   ]
  },
  {
   "cell_type": "markdown",
   "id": "92bed5f5",
   "metadata": {
    "papermill": {
     "duration": 0.002448,
     "end_time": "2022-02-13T07:44:28.738680",
     "exception": false,
     "start_time": "2022-02-13T07:44:28.736232",
     "status": "completed"
    },
    "tags": []
   },
   "source": [
    "## Import Dataset \n"
   ]
  },
  {
   "cell_type": "code",
   "execution_count": 3,
   "id": "1a888ae6",
   "metadata": {
    "execution": {
     "iopub.execute_input": "2022-02-13T07:44:28.748845Z",
     "iopub.status.busy": "2022-02-13T07:44:28.748440Z",
     "iopub.status.idle": "2022-02-13T07:44:28.753285Z",
     "shell.execute_reply": "2022-02-13T07:44:28.753517Z"
    },
    "papermill": {
     "duration": 0.012301,
     "end_time": "2022-02-13T07:44:28.753635",
     "exception": false,
     "start_time": "2022-02-13T07:44:28.741334",
     "status": "completed"
    },
    "tags": []
   },
   "outputs": [
    {
     "name": "stdout",
     "output_type": "stream",
     "text": [
      "         X0        X1        X2        X3        X4         Y\n",
      "0  0.224712  0.853301 -0.840444  0.909824  0.231831  1.621433\n",
      "1  0.978413 -0.429015  0.863041  1.674671  0.020513  1.856818\n",
      "2  0.650591 -2.069139 -1.004245 -0.110644 -0.856079 -1.709109\n",
      "3 -0.126858 -1.730734  0.249529  1.560000  1.249525  0.048606\n",
      "4  1.352520  0.584269 -1.067619  1.179984  0.780800  1.800542\n"
     ]
    }
   ],
   "source": [
    "n_features = 5\n",
    "n_samples= 100\n",
    "n_target = 1 \n",
    "X,Y = friedman1Dataset.friedman1_data(n_samples,n_features)"
   ]
  },
  {
   "cell_type": "code",
   "execution_count": 4,
   "id": "2d7bbb51",
   "metadata": {
    "execution": {
     "iopub.execute_input": "2022-02-13T07:44:28.761305Z",
     "iopub.status.busy": "2022-02-13T07:44:28.760941Z",
     "iopub.status.idle": "2022-02-13T07:44:28.762244Z",
     "shell.execute_reply": "2022-02-13T07:44:28.762457Z"
    },
    "papermill": {
     "duration": 0.006202,
     "end_time": "2022-02-13T07:44:28.762561",
     "exception": false,
     "start_time": "2022-02-13T07:44:28.756359",
     "status": "completed"
    },
    "tags": []
   },
   "outputs": [],
   "source": [
    "# Train test split for dataset \n",
    "real_dataset = dataset.CustomDataset(X,Y)\n",
    "X_train, X_test, y_train, y_test = train_test_split(X, Y, test_size=0.2)"
   ]
  },
  {
   "cell_type": "markdown",
   "id": "b7b74201",
   "metadata": {
    "papermill": {
     "duration": 0.002501,
     "end_time": "2022-02-13T07:44:28.767705",
     "exception": false,
     "start_time": "2022-02-13T07:44:28.765204",
     "status": "completed"
    },
    "tags": []
   },
   "source": [
    "## Stats Model \n",
    "\n"
   ]
  },
  {
   "cell_type": "code",
   "execution_count": 5,
   "id": "0005b0a0",
   "metadata": {
    "execution": {
     "iopub.execute_input": "2022-02-13T07:44:28.775528Z",
     "iopub.status.busy": "2022-02-13T07:44:28.775153Z",
     "iopub.status.idle": "2022-02-13T07:44:28.870909Z",
     "shell.execute_reply": "2022-02-13T07:44:28.871222Z"
    },
    "papermill": {
     "duration": 0.101151,
     "end_time": "2022-02-13T07:44:28.871346",
     "exception": false,
     "start_time": "2022-02-13T07:44:28.770195",
     "status": "completed"
    },
    "tags": []
   },
   "outputs": [
    {
     "name": "stderr",
     "output_type": "stream",
     "text": [
      "No handles with labels found to put in legend.\n"
     ]
    },
    {
     "name": "stdout",
     "output_type": "stream",
     "text": [
      "                                 OLS Regression Results                                \n",
      "=======================================================================================\n",
      "Dep. Variable:                      y   R-squared (uncentered):                   0.681\n",
      "Model:                            OLS   Adj. R-squared (uncentered):              0.659\n",
      "Method:                 Least Squares   F-statistic:                              31.99\n",
      "Date:                Sun, 13 Feb 2022   Prob (F-statistic):                    2.63e-17\n",
      "Time:                        13:14:28   Log-Likelihood:                         -69.862\n",
      "No. Observations:                  80   AIC:                                      149.7\n",
      "Df Residuals:                      75   BIC:                                      161.6\n",
      "Df Model:                           5                                                  \n",
      "Covariance Type:            nonrobust                                                  \n",
      "==============================================================================\n",
      "                 coef    std err          t      P>|t|      [0.025      0.975]\n",
      "------------------------------------------------------------------------------\n",
      "x1             0.4110      0.069      5.957      0.000       0.274       0.548\n",
      "x2             0.3536      0.068      5.224      0.000       0.219       0.488\n",
      "x3             0.0595      0.070      0.848      0.399      -0.080       0.199\n",
      "x4             0.6167      0.067      9.181      0.000       0.483       0.751\n",
      "x5             0.3176      0.071      4.475      0.000       0.176       0.459\n",
      "==============================================================================\n",
      "Omnibus:                        1.711   Durbin-Watson:                   1.890\n",
      "Prob(Omnibus):                  0.425   Jarque-Bera (JB):                1.598\n",
      "Skew:                          -0.339   Prob(JB):                        0.450\n",
      "Kurtosis:                       2.861   Cond. No.                         1.35\n",
      "==============================================================================\n",
      "\n",
      "Notes:\n",
      "[1] R² is computed without centering (uncentered) since the model does not contain a constant.\n",
      "[2] Standard Errors assume that the covariance matrix of the errors is correctly specified.\n"
     ]
    },
    {
     "data": {
      "image/png": "[encoded data removed]",
      "text/plain": [
       "<Figure size 432x288 with 1 Axes>"
      ]
     },
     "metadata": {
      "needs_background": "light"
     },
     "output_type": "display_data"
    },
    {
     "name": "stdout",
     "output_type": "stream",
     "text": [
      "Performance Metrics\n",
      "Mean Squared Error: 0.5540557998598282\n",
      "Mean Absolute Error: 0.5583121366024515\n",
      "Manhattan distance: 11.166242732049033\n",
      "Euclidean distance: 3.3288310256299534\n"
     ]
    },
    {
     "data": {
      "application/scrapbook.scrap.json+json": {
       "data": 0.5540557998598282,
       "encoder": "json",
       "name": "Stats Model MSE",
       "version": 1
      }
     },
     "metadata": {
      "scrapbook": {
       "data": true,
       "display": false,
       "name": "Stats Model MSE"
      }
     },
     "output_type": "display_data"
    },
    {
     "data": {
      "application/scrapbook.scrap.json+json": {
       "data": 0.5583121366024515,
       "encoder": "json",
       "name": "Stats Model MAE",
       "version": 1
      }
     },
     "metadata": {
      "scrapbook": {
       "data": true,
       "display": false,
       "name": "Stats Model MAE"
      }
     },
     "output_type": "display_data"
    },
    {
     "data": {
      "application/scrapbook.scrap.json+json": {
       "data": 11.166242732049033,
       "encoder": "json",
       "name": "Stats Model Manhattan Distance",
       "version": 1
      }
     },
     "metadata": {
      "scrapbook": {
       "data": true,
       "display": false,
       "name": "Stats Model Manhattan Distance"
      }
     },
     "output_type": "display_data"
    },
    {
     "data": {
      "application/scrapbook.scrap.json+json": {
       "data": 3.3288310256299534,
       "encoder": "json",
       "name": "Stats Model Euclidean distance",
       "version": 1
      }
     },
     "metadata": {
      "scrapbook": {
       "data": true,
       "display": false,
       "name": "Stats Model Euclidean distance"
      }
     },
     "output_type": "display_data"
    },
    {
     "data": {
      "application/scrapbook.scrap.json+json": {
       "data": [
        0.4110317420065841,
        0.35359584580616227,
        0.05953131990321717,
        0.6167288763886742,
        0.31757086612966245
       ],
       "encoder": "json",
       "name": "Coefficients",
       "version": 1
      }
     },
     "metadata": {
      "scrapbook": {
       "data": true,
       "display": false,
       "name": "Coefficients"
      }
     },
     "output_type": "display_data"
    }
   ],
   "source": [
    "coefficients , y_pred =statsModel.statsModel(X_train,y_train,X_test,y_test)\n",
    "#Store MSE Value \n",
    "sb.glue(\"Coefficients\",coefficients)"
   ]
  }
 ],
 "metadata": {
  "interpreter": {
   "hash": "10498c76ddd8160350534c6544a2b2fb65f2138dbc70420f7c81a3268f830f23"
  },
  "kernelspec": {
   "display_name": "Python 3 (ipykernel)",
   "language": "python",
   "name": "python3"
  },
  "language_info": {
   "codemirror_mode": {
    "name": "ipython",
    "version": 3
   },
   "file_extension": ".py",
   "mimetype": "text/x-python",
   "name": "python",
   "nbconvert_exporter": "python",
   "pygments_lexer": "ipython3",
   "version": "3.8.11"
  },
  "papermill": {
   "default_parameters": {},
   "duration": 2.92766,
   "end_time": "2022-02-13T07:44:29.183003",
   "environment_variables": {},
   "exception": null,
   "input_path": "BaselineModels.ipynb",
   "output_path": "./BaseLine_Model_Output/BaselineModels_output_9.ipynb",
   "parameters": {},
   "start_time": "2022-02-13T07:44:26.255343",
   "version": "2.3.3"
  }
 },
 "nbformat": 4,
 "nbformat_minor": 5
}