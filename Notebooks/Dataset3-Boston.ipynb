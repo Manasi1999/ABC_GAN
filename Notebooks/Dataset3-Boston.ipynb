{
 "cells": [
  {
   "cell_type": "markdown",
   "id": "b5e2d986",
   "metadata": {},
   "source": [
    "# Dataset 4 - Boston"
   ]
  },
  {
   "cell_type": "markdown",
   "id": "622780e6",
   "metadata": {},
   "source": [
    "## Import Libraries "
   ]
  },
  {
   "cell_type": "code",
   "execution_count": 1,
   "id": "a62397e3",
   "metadata": {},
   "outputs": [],
   "source": [
    "import warnings\n",
    "import sys\n",
    "sys.path.insert(0, '../src')\n",
    "warnings.filterwarnings('ignore')"
   ]
  },
  {
   "cell_type": "code",
   "execution_count": 2,
   "id": "d6a4e155",
   "metadata": {},
   "outputs": [],
   "source": [
    "import train_test\n",
    "import ABC_train_test\n",
    "import bostonDataset\n",
    "import baselineModels\n",
    "import network\n",
    "import statsModel\n",
    "import performanceMetrics\n",
    "import dataset\n",
    "import sanityChecks\n",
    "import torch \n",
    "import matplotlib.pyplot as plt \n",
    "import seaborn as sns \n",
    "from torch.utils.data import random_split "
   ]
  },
  {
   "cell_type": "markdown",
   "id": "e0c10419",
   "metadata": {},
   "source": [
    "## Parameters\n",
    "\n",
    "General Parameters \n",
    "\n",
    "1. Number of Samples\n",
    "2. Number of features \n",
    "\n",
    "ABC-Generator parameters are as mentioned below: \n",
    "1. mean : 1 ($\\beta \\sim N(\\beta^{*},\\sigma)$ where $\\beta^{*}$ are coefficients of statistical model) or 1 ($\\beta \\sim N(0,\\sigma)$\n",
    "2. std : $\\sigma = 1, 0.1 , 0.01$ (standard deviation)"
   ]
  },
  {
   "cell_type": "code",
   "execution_count": 3,
   "id": "645f85d5",
   "metadata": {
    "tags": [
     "parameters"
    ]
   },
   "outputs": [],
   "source": [
    "n_features = 13\n",
    "n_samples= 506\n",
    "n_target = 1 \n",
    " \n",
    "#ABC Generator Parameters\n",
    "mean = 1 \n",
    "variance = 0.01\n",
    "\n",
    "#Hyper-parameters \n",
    "n_epochs = 100"
   ]
  },
  {
   "cell_type": "markdown",
   "id": "391cdbfd",
   "metadata": {},
   "source": [
    "## Dataset"
   ]
  },
  {
   "cell_type": "code",
   "execution_count": 4,
   "id": "5d6eced4",
   "metadata": {},
   "outputs": [
    {
     "name": "stdout",
     "output_type": "stream",
     "text": [
      "        X1    X2    X3   X4     X5     X6    X7      X8   X9    X10   X11  \\\n",
      "0  0.00632  18.0  2.31  0.0  0.538  6.575  65.2  4.0900  1.0  296.0  15.3   \n",
      "1  0.02731   0.0  7.07  0.0  0.469  6.421  78.9  4.9671  2.0  242.0  17.8   \n",
      "2  0.02729   0.0  7.07  0.0  0.469  7.185  61.1  4.9671  2.0  242.0  17.8   \n",
      "3  0.03237   0.0  2.18  0.0  0.458  6.998  45.8  6.0622  3.0  222.0  18.7   \n",
      "4  0.06905   0.0  2.18  0.0  0.458  7.147  54.2  6.0622  3.0  222.0  18.7   \n",
      "\n",
      "      X12   X13     Y  \n",
      "0  396.90  4.98  24.0  \n",
      "1  396.90  9.14  21.6  \n",
      "2  392.83  4.03  34.7  \n",
      "3  394.63  2.94  33.4  \n",
      "4  396.90  5.33  36.2  \n"
     ]
    }
   ],
   "source": [
    "X,Y = bostonDataset.boston_data()"
   ]
  },
  {
   "cell_type": "markdown",
   "id": "c31c206a",
   "metadata": {},
   "source": [
    "## Stats Model"
   ]
  },
  {
   "cell_type": "code",
   "execution_count": null,
   "id": "532269fd",
   "metadata": {},
   "outputs": [],
   "source": [
    "[coeff,y_pred] = statsModel.statsModel(X,Y)"
   ]
  },
  {
   "cell_type": "markdown",
   "id": "5730d0df",
   "metadata": {},
   "source": [
    "## Common Training Parameters (GAN & ABC_GAN) "
   ]
  },
  {
   "cell_type": "code",
   "execution_count": 5,
   "id": "952b7fc8",
   "metadata": {},
   "outputs": [],
   "source": [
    "threshold_mse = 0.99\n",
    "batch_size = 100\n",
    "#Select the device \n",
    "device = torch.device('cuda' if torch.cuda.is_available() else 'cpu')"
   ]
  },
  {
   "cell_type": "code",
   "execution_count": 6,
   "id": "e131d7d8",
   "metadata": {},
   "outputs": [],
   "source": [
    "# Train test split for dataset \n",
    "real_dataset = dataset.CustomDataset(X,Y)\n",
    "train_size = round(0.8 * n_samples)\n",
    "test_size = n_samples - train_size\n",
    "train_data, test_data = random_split(real_dataset,[train_size,test_size])"
   ]
  },
  {
   "cell_type": "markdown",
   "id": "c2eab2ad",
   "metadata": {},
   "source": [
    "## Vanilla Neural Network "
   ]
  },
  {
   "cell_type": "code",
   "execution_count": 7,
   "id": "fe715b9e",
   "metadata": {},
   "outputs": [
    {
     "name": "stdout",
     "output_type": "stream",
     "text": [
      "epoch 1 loss: 0.5104\n",
      "epoch 2 loss: 1.6939\n",
      "epoch 3 loss: 0.8445\n",
      "epoch 4 loss: 0.2373\n",
      "epoch 5 loss: 0.3755\n",
      "epoch 6 loss: 0.4627\n",
      "epoch 7 loss: 1.9223\n",
      "epoch 8 loss: 0.6038\n",
      "epoch 9 loss: 2.1714\n",
      "epoch 10 loss: 0.9472\n",
      "epoch 11 loss: 0.0772\n",
      "epoch 12 loss: 0.5998\n",
      "epoch 13 loss: 0.4626\n",
      "epoch 14 loss: 2.2960\n",
      "epoch 15 loss: 0.3220\n",
      "epoch 16 loss: 0.6537\n",
      "epoch 17 loss: 0.4494\n",
      "epoch 18 loss: 0.6778\n",
      "epoch 19 loss: 0.4014\n",
      "epoch 20 loss: 0.2795\n",
      "epoch 21 loss: 2.1886\n",
      "epoch 22 loss: 2.2009\n",
      "epoch 23 loss: 2.5967\n",
      "epoch 24 loss: 0.4447\n",
      "epoch 25 loss: 0.1773\n",
      "epoch 26 loss: 0.7010\n",
      "epoch 27 loss: 0.8926\n",
      "epoch 28 loss: 3.9688\n",
      "epoch 29 loss: 0.3768\n",
      "epoch 30 loss: 2.4123\n",
      "epoch 31 loss: 3.7445\n",
      "epoch 32 loss: 0.0429\n",
      "epoch 33 loss: 2.4505\n",
      "epoch 34 loss: 0.2939\n",
      "epoch 35 loss: 0.1971\n",
      "epoch 36 loss: 0.8316\n",
      "epoch 37 loss: 1.8365\n",
      "epoch 38 loss: 0.3378\n",
      "epoch 39 loss: 0.3952\n",
      "epoch 40 loss: 2.3054\n",
      "epoch 41 loss: 1.5890\n",
      "epoch 42 loss: 0.3121\n",
      "epoch 43 loss: 1.8182\n",
      "epoch 44 loss: 0.1401\n",
      "epoch 45 loss: 2.0911\n",
      "epoch 46 loss: 2.3617\n",
      "epoch 47 loss: 1.0785\n",
      "epoch 48 loss: 0.0365\n",
      "epoch 49 loss: 0.9033\n",
      "epoch 50 loss: 0.3322\n",
      "epoch 51 loss: 0.9177\n",
      "epoch 52 loss: 0.7084\n",
      "epoch 53 loss: 1.5660\n",
      "epoch 54 loss: 0.5324\n",
      "epoch 55 loss: 2.2649\n",
      "epoch 56 loss: 1.0187\n",
      "epoch 57 loss: 0.2527\n",
      "epoch 58 loss: 0.2240\n",
      "epoch 59 loss: 1.0093\n",
      "epoch 60 loss: 0.1682\n",
      "epoch 61 loss: 1.6518\n",
      "epoch 62 loss: 1.8755\n",
      "epoch 63 loss: 0.8282\n",
      "epoch 64 loss: 1.0101\n",
      "epoch 65 loss: 0.6805\n",
      "epoch 66 loss: 0.1093\n",
      "epoch 67 loss: 3.7749\n",
      "epoch 68 loss: 2.4431\n",
      "epoch 69 loss: 1.9283\n",
      "epoch 70 loss: 0.5084\n",
      "epoch 71 loss: 0.7579\n",
      "epoch 72 loss: 0.7980\n",
      "epoch 73 loss: 1.4122\n",
      "epoch 74 loss: 1.8472\n",
      "epoch 75 loss: 1.2622\n",
      "epoch 76 loss: 1.4663\n",
      "epoch 77 loss: 0.1804\n",
      "epoch 78 loss: 0.1027\n",
      "epoch 79 loss: 1.6252\n",
      "epoch 80 loss: 2.2698\n",
      "epoch 81 loss: 0.7198\n",
      "epoch 82 loss: 0.2136\n",
      "epoch 83 loss: 2.2934\n",
      "epoch 84 loss: 0.3351\n",
      "epoch 85 loss: 0.5112\n",
      "epoch 86 loss: 0.2064\n",
      "epoch 87 loss: 0.6625\n",
      "epoch 88 loss: 0.6057\n",
      "epoch 89 loss: 0.4755\n",
      "epoch 90 loss: 0.8033\n",
      "epoch 91 loss: 2.8324\n",
      "epoch 92 loss: 0.4662\n",
      "epoch 93 loss: 0.7496\n",
      "epoch 94 loss: 0.5591\n",
      "epoch 95 loss: 0.3974\n",
      "epoch 96 loss: 0.4082\n",
      "epoch 97 loss: 2.0361\n",
      "epoch 98 loss: 1.0734\n",
      "epoch 99 loss: 0.4583\n",
      "epoch 100 loss: 1.9068\n",
      "TRAINING COMPLETE\n",
      "MSE Loss tensor(0.9969, grad_fn=<MseLossBackward>)\n",
      "Mean Squared error 0.9968846371573632\n"
     ]
    }
   ],
   "source": [
    "baselineModels.vanillaNeuralNetwork(train_data,test_data,batch_size,n_features,n_target,n_epochs)"
   ]
  },
  {
   "cell_type": "markdown",
   "id": "c42f28b9",
   "metadata": {},
   "source": [
    "## GAN Model"
   ]
  },
  {
   "cell_type": "markdown",
   "id": "110f905d",
   "metadata": {},
   "source": [
    "**Training GAN for n_epochs number of epochs** "
   ]
  },
  {
   "cell_type": "code",
   "execution_count": 8,
   "id": "ad4645eb",
   "metadata": {},
   "outputs": [],
   "source": [
    "generator = network.Generator(n_features+1).to(device)\n",
    "discriminator = network.Discriminator(n_features+1).to(device)\n",
    "\n",
    "criterion = torch.nn.BCELoss()\n",
    "gen_opt = torch.optim.Adam(generator.parameters(), lr=0.01, betas=(0.5, 0.999))\n",
    "disc_opt = torch.optim.Adam(discriminator.parameters(), lr=0.01, betas=(0.5, 0.999))"
   ]
  },
  {
   "cell_type": "code",
   "execution_count": 9,
   "id": "8a479c2f",
   "metadata": {},
   "outputs": [
    {
     "name": "stdout",
     "output_type": "stream",
     "text": [
      "Generator(\n",
      "  (hidden1): Linear(in_features=14, out_features=100, bias=True)\n",
      "  (hidden2): Linear(in_features=100, out_features=100, bias=True)\n",
      "  (output): Linear(in_features=100, out_features=1, bias=True)\n",
      "  (relu): ReLU()\n",
      ")\n",
      "Discriminator(\n",
      "  (hidden1): Linear(in_features=14, out_features=25, bias=True)\n",
      "  (hidden2): Linear(in_features=25, out_features=50, bias=True)\n",
      "  (output): Linear(in_features=50, out_features=1, bias=True)\n",
      "  (relu): ReLU()\n",
      "  (sigmoid): Sigmoid()\n",
      ")\n"
     ]
    }
   ],
   "source": [
    "print(generator)\n",
    "print(discriminator)"
   ]
  },
  {
   "cell_type": "code",
   "execution_count": null,
   "id": "0b0246ee",
   "metadata": {},
   "outputs": [],
   "source": [
    "discLossG1,genLossG1 = train_test.training_GAN(discriminator,generator,disc_opt,gen_opt,train_data,batch_size, n_epochs,criterion,device)"
   ]
  },
  {
   "cell_type": "code",
   "execution_count": null,
   "id": "673b2f62",
   "metadata": {},
   "outputs": [],
   "source": [
    "GAN1_metrics = train_test.test_generator(generator,test_data,device)"
   ]
  },
  {
   "cell_type": "code",
   "execution_count": null,
   "id": "eeee3d98",
   "metadata": {},
   "outputs": [],
   "source": [
    "sanityChecks.discProbVsError(real_dataset,discriminator,device)"
   ]
  },
  {
   "cell_type": "markdown",
   "id": "c9d0727e",
   "metadata": {},
   "source": [
    "**Training GAN until mse of y_pred is > baseline_mse or n_epochs < 5000**"
   ]
  },
  {
   "cell_type": "code",
   "execution_count": null,
   "id": "72b58352",
   "metadata": {},
   "outputs": [],
   "source": [
    "generator2 = network.Generator(n_features+1).to(device)\n",
    "discriminator2 = network.Discriminator(n_features+1).to(device)\n",
    "criterion = torch.nn.BCELoss()\n",
    "gen_opt = torch.optim.Adam(generator2.parameters(), lr=0.01, betas=(0.5, 0.999))\n",
    "disc_opt = torch.optim.Adam(discriminator2.parameters(), lr=0.01, betas=(0.5, 0.999))"
   ]
  },
  {
   "cell_type": "code",
   "execution_count": null,
   "id": "59ce63df",
   "metadata": {},
   "outputs": [],
   "source": [
    "discLossG2,genLossG2 = train_test.training_GAN_2(discriminator2,generator2,disc_opt,gen_opt,train_data,test_data,batch_size,threshold_mse,criterion,device)"
   ]
  },
  {
   "cell_type": "code",
   "execution_count": null,
   "id": "edc7310a",
   "metadata": {},
   "outputs": [],
   "source": [
    "GAN2_metrics=train_test.test_generator_2(generator2,test_data,device)"
   ]
  },
  {
   "cell_type": "code",
   "execution_count": null,
   "id": "579473ee",
   "metadata": {},
   "outputs": [],
   "source": [
    "sanityChecks.discProbVsError(real_dataset,discriminator2,device)"
   ]
  },
  {
   "cell_type": "markdown",
   "id": "0cd0def6",
   "metadata": {},
   "source": [
    "# ABC GAN Model"
   ]
  },
  {
   "cell_type": "markdown",
   "id": "70beaf4c",
   "metadata": {},
   "source": [
    "### Training the network\n",
    "**Training ABC-GAN for n_epochs number of epochs** "
   ]
  },
  {
   "cell_type": "code",
   "execution_count": null,
   "id": "dbaaafa1",
   "metadata": {},
   "outputs": [],
   "source": [
    "gen = network.Generator(n_features+1).to(device)\n",
    "disc = network.Discriminator(n_features+1).to(device)\n",
    "\n",
    "criterion = torch.nn.BCELoss()\n",
    "gen_opt = torch.optim.Adam(gen.parameters(), lr=0.01, betas=(0.5, 0.999))\n",
    "disc_opt = torch.optim.Adam(disc.parameters(), lr=0.01, betas=(0.5, 0.999))"
   ]
  },
  {
   "cell_type": "code",
   "execution_count": null,
   "id": "111c67b8",
   "metadata": {},
   "outputs": [],
   "source": [
    "discLossA1,genLossA1 = ABC_train_test.training_GAN(disc, gen,disc_opt,gen_opt,train_data,batch_size, n_epochs,criterion,coeff,mean,variance,device)"
   ]
  },
  {
   "cell_type": "code",
   "execution_count": null,
   "id": "11c3082e",
   "metadata": {},
   "outputs": [],
   "source": [
    "ABC_GAN1_metrics=ABC_train_test.test_generator(gen,test_data,coeff,mean,variance,device)"
   ]
  },
  {
   "cell_type": "markdown",
   "id": "394a2b9d",
   "metadata": {},
   "source": [
    "#### Sanity Checks "
   ]
  },
  {
   "cell_type": "code",
   "execution_count": null,
   "id": "a36b3b22",
   "metadata": {},
   "outputs": [],
   "source": [
    "sanityChecks.discProbVsError(real_dataset,disc,device)"
   ]
  },
  {
   "cell_type": "markdown",
   "id": "50b7c8e2",
   "metadata": {},
   "source": [
    "**Training ABC-GAN until mse of y_pred is > baseline_mse or n_epochs < 5000**"
   ]
  },
  {
   "cell_type": "code",
   "execution_count": null,
   "id": "72a6033a",
   "metadata": {},
   "outputs": [],
   "source": [
    "gen2 = network.Generator(n_features+1).to(device)\n",
    "disc2 = network.Discriminator(n_features+1).to(device)\n",
    "\n",
    "criterion = torch.nn.BCELoss()\n",
    "gen_opt = torch.optim.Adam(gen2.parameters(), lr=0.01, betas=(0.5, 0.999))\n",
    "disc_opt = torch.optim.Adam(disc2.parameters(), lr=0.01, betas=(0.5, 0.999))"
   ]
  },
  {
   "cell_type": "code",
   "execution_count": null,
   "id": "24b21210",
   "metadata": {},
   "outputs": [],
   "source": [
    "discLossA2,genLossA2 = ABC_train_test.training_GAN_2(disc2,gen2,disc_opt,gen_opt,train_data,test_data,batch_size,threshold_mse,criterion,coeff,mean,variance,device)"
   ]
  },
  {
   "cell_type": "code",
   "execution_count": null,
   "id": "f1aaef41",
   "metadata": {},
   "outputs": [],
   "source": [
    "ABC_GAN2_metrics=ABC_train_test.test_generator_2(gen2,test_data,coeff,mean,variance,device)"
   ]
  },
  {
   "cell_type": "code",
   "execution_count": null,
   "id": "8c38302d",
   "metadata": {},
   "outputs": [],
   "source": [
    "sanityChecks.discProbVsError(real_dataset,disc2,device)"
   ]
  },
  {
   "cell_type": "markdown",
   "id": "b6d1cda1",
   "metadata": {},
   "source": [
    "# Model Analysis"
   ]
  },
  {
   "cell_type": "code",
   "execution_count": null,
   "id": "35f4e2d8",
   "metadata": {},
   "outputs": [],
   "source": [
    "performanceMetrics.modelAnalysis(GAN1_metrics,ABC_GAN1_metrics,GAN2_metrics,ABC_GAN2_metrics)"
   ]
  },
  {
   "cell_type": "code",
   "execution_count": null,
   "id": "86143e6d",
   "metadata": {},
   "outputs": [],
   "source": [
    "performanceMetrics.plotTrainingLoss(discLossG1,genLossG1,discLossA1,genLossA1,discLossG2,genLossG2,discLossA2,genLossA2)"
   ]
  },
  {
   "cell_type": "markdown",
   "id": "9d8fa6a1",
   "metadata": {},
   "source": [
    "## GAN Model with skip connection"
   ]
  },
  {
   "cell_type": "code",
   "execution_count": null,
   "id": "e9472389",
   "metadata": {},
   "outputs": [],
   "source": [
    "generator3 = network.GeneratorWithSkipConnection(n_features+1).to(device)\n",
    "discriminator3 = network.Discriminator(n_features+1).to(device)\n",
    "\n",
    "criterion = torch.nn.BCELoss()\n",
    "gen_opt = torch.optim.Adam(generator3.parameters(), lr=0.01, betas=(0.5, 0.999))\n",
    "disc_opt = torch.optim.Adam(discriminator3.parameters(), lr=0.01, betas=(0.5, 0.999))"
   ]
  },
  {
   "cell_type": "code",
   "execution_count": null,
   "id": "65c32bdd",
   "metadata": {},
   "outputs": [],
   "source": [
    "discLossG3,genLossG3 = train_test.training_GAN(discriminator3,generator3 ,disc_opt,gen_opt,train_data,batch_size, n_epochs,criterion,device)"
   ]
  },
  {
   "cell_type": "code",
   "execution_count": null,
   "id": "4d87a246",
   "metadata": {},
   "outputs": [],
   "source": [
    "GAN3_metrics=ABC_train_test.test_generator(generator3,test_data,coeff,mean,variance,device)"
   ]
  },
  {
   "cell_type": "code",
   "execution_count": null,
   "id": "54a75192",
   "metadata": {},
   "outputs": [],
   "source": [
    "sanityChecks.discProbVsError(real_dataset,discriminator3,device)"
   ]
  },
  {
   "cell_type": "markdown",
   "id": "130f3a4d",
   "metadata": {},
   "source": [
    "## ABC - GAN Model with skip connection"
   ]
  },
  {
   "cell_type": "code",
   "execution_count": null,
   "id": "4e43dad1",
   "metadata": {},
   "outputs": [],
   "source": [
    "gen3 = network.GeneratorWithSkipConnection(n_features+1).to(device)\n",
    "disc3 = network.Discriminator(n_features+1).to(device)\n",
    "\n",
    "criterion = torch.nn.BCELoss()\n",
    "gen_opt = torch.optim.Adam(gen3.parameters(), lr=0.01, betas=(0.5, 0.999))\n",
    "disc_opt = torch.optim.Adam(disc3.parameters(), lr=0.01, betas=(0.5, 0.999))"
   ]
  },
  {
   "cell_type": "code",
   "execution_count": null,
   "id": "26acbc37",
   "metadata": {},
   "outputs": [],
   "source": [
    "discLossA3,genLossA3 = ABC_train_test.training_GAN(disc3, gen3,disc_opt,gen_opt,train_data,batch_size, n_epochs,criterion,coeff,mean,variance,device)"
   ]
  },
  {
   "cell_type": "code",
   "execution_count": null,
   "id": "c5e0717b",
   "metadata": {},
   "outputs": [],
   "source": [
    "ABC_GAN3_metrics=ABC_train_test.test_generator(gen3,test_data,coeff,mean,variance,device)"
   ]
  },
  {
   "cell_type": "code",
   "execution_count": null,
   "id": "c8e46b48",
   "metadata": {},
   "outputs": [],
   "source": [
    "sanityChecks.discProbVsError(real_dataset,disc3,device)"
   ]
  },
  {
   "cell_type": "code",
   "execution_count": null,
   "id": "a5bd74c3",
   "metadata": {},
   "outputs": [],
   "source": [
    "## Skip Connection Model Analysis - GAN and ABC-GAN "
   ]
  },
  {
   "cell_type": "code",
   "execution_count": null,
   "id": "5744a8bf",
   "metadata": {},
   "outputs": [],
   "source": [
    "### Weight Analysis \n",
    "\n",
    "##Study the weights of the skip connection layer"
   ]
  },
  {
   "cell_type": "code",
   "execution_count": null,
   "id": "52c31dea",
   "metadata": {},
   "outputs": [],
   "source": [
    "print(\"GAN Weights\")\n",
    "for name,param in generator3.named_parameters():\n",
    "    if(name == \"skipNode.weight\"):\n",
    "        print(param)\n",
    "print(\"ABC-GAN Weights\")\n",
    "for name,param in gen3.named_parameters():\n",
    "    if(name == \"skipNode.weight\"):\n",
    "        print(param)"
   ]
  },
  {
   "cell_type": "code",
   "execution_count": null,
   "id": "aa18207f",
   "metadata": {},
   "outputs": [],
   "source": [
    "performanceMetrics.modelAnalysis2(GAN3_metrics,ABC_GAN3_metrics)"
   ]
  },
  {
   "cell_type": "code",
   "execution_count": null,
   "id": "03438fa7",
   "metadata": {},
   "outputs": [],
   "source": [
    "performanceMetrics.plotTrainingLoss2(discLossG3,genLossG3,discLossA3,genLossA3)"
   ]
  },
  {
   "cell_type": "code",
   "execution_count": null,
   "id": "a699ff24",
   "metadata": {},
   "outputs": [],
   "source": []
  }
 ],
 "metadata": {
  "celltoolbar": "Tags",
  "interpreter": {
   "hash": "10498c76ddd8160350534c6544a2b2fb65f2138dbc70420f7c81a3268f830f23"
  },
  "kernelspec": {
   "display_name": "papermill-tutorial",
   "language": "python",
   "name": "python3"
  },
  "language_info": {
   "codemirror_mode": {
    "name": "ipython",
    "version": 3
   },
   "file_extension": ".py",
   "mimetype": "text/x-python",
   "name": "python",
   "nbconvert_exporter": "python",
   "pygments_lexer": "ipython3",
   "version": "3.8.11"
  }
 },
 "nbformat": 4,
 "nbformat_minor": 5
}
