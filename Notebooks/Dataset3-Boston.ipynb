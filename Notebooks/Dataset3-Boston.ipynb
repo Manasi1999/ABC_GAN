{
 "cells": [
  {
   "cell_type": "markdown",
   "id": "b5e2d986",
   "metadata": {},
   "source": [
    "# Dataset 4 - Boston"
   ]
  },
  {
   "cell_type": "markdown",
   "id": "622780e6",
   "metadata": {},
   "source": [
    "## Import Libraries "
   ]
  },
  {
   "cell_type": "code",
   "execution_count": 1,
   "id": "a62397e3",
   "metadata": {},
   "outputs": [],
   "source": [
    "import warnings\n",
    "import sys\n",
    "sys.path.insert(0, '../src')\n",
    "warnings.filterwarnings('ignore')"
   ]
  },
  {
   "cell_type": "code",
   "execution_count": 2,
   "id": "d6a4e155",
   "metadata": {},
   "outputs": [],
   "source": [
    "import train_test\n",
    "import ABC_train_test\n",
    "import bostonDataset\n",
    "import baselineModels\n",
    "import network\n",
    "import statsModel\n",
    "import performanceMetrics\n",
    "import dataset\n",
    "import sanityChecks\n",
    "import torch \n",
    "import matplotlib.pyplot as plt \n",
    "import seaborn as sns \n",
    "from torch.utils.data import random_split \n",
    "from sklearn.model_selection import train_test_split"
   ]
  },
  {
   "cell_type": "markdown",
   "id": "e0c10419",
   "metadata": {},
   "source": [
    "## Parameters\n",
    "\n",
    "General Parameters \n",
    "\n",
    "1. Number of Samples\n",
    "2. Number of features \n",
    "\n",
    "ABC-Generator parameters are as mentioned below: \n",
    "1. mean : 1 ($\\beta \\sim N(\\beta^{*},\\sigma)$ where $\\beta^{*}$ are coefficients of statistical model) or 1 ($\\beta \\sim N(0,\\sigma)$\n",
    "2. std : $\\sigma = 1, 0.1 , 0.01$ (standard deviation)"
   ]
  },
  {
   "cell_type": "code",
   "execution_count": 3,
   "id": "645f85d5",
   "metadata": {
    "tags": [
     "parameters"
    ]
   },
   "outputs": [],
   "source": [
    "n_features = 13\n",
    "n_samples= 506\n",
    "n_target = 1 \n",
    " \n",
    "#ABC Generator Parameters\n",
    "mean = 1 \n",
    "variance = 0.01\n",
    "\n",
    "#Hyper-parameters \n",
    "n_epochs = 100"
   ]
  },
  {
   "cell_type": "markdown",
   "id": "391cdbfd",
   "metadata": {},
   "source": [
    "## Dataset"
   ]
  },
  {
   "cell_type": "code",
   "execution_count": 4,
   "id": "5d6eced4",
   "metadata": {},
   "outputs": [
    {
     "name": "stdout",
     "output_type": "stream",
     "text": [
      "        X1    X2    X3   X4     X5     X6    X7      X8   X9    X10   X11  \\\n",
      "0  0.00632  18.0  2.31  0.0  0.538  6.575  65.2  4.0900  1.0  296.0  15.3   \n",
      "1  0.02731   0.0  7.07  0.0  0.469  6.421  78.9  4.9671  2.0  242.0  17.8   \n",
      "2  0.02729   0.0  7.07  0.0  0.469  7.185  61.1  4.9671  2.0  242.0  17.8   \n",
      "3  0.03237   0.0  2.18  0.0  0.458  6.998  45.8  6.0622  3.0  222.0  18.7   \n",
      "4  0.06905   0.0  2.18  0.0  0.458  7.147  54.2  6.0622  3.0  222.0  18.7   \n",
      "\n",
      "      X12   X13     Y  \n",
      "0  396.90  4.98  24.0  \n",
      "1  396.90  9.14  21.6  \n",
      "2  392.83  4.03  34.7  \n",
      "3  394.63  2.94  33.4  \n",
      "4  396.90  5.33  36.2  \n"
     ]
    }
   ],
   "source": [
    "X,Y = bostonDataset.boston_data()"
   ]
  },
  {
   "cell_type": "code",
   "execution_count": null,
   "id": "ed8f2706",
   "metadata": {},
   "outputs": [],
   "source": [
    "X_train, X_test, y_train, y_test = train_test_split(X, Y, test_size=0.2)"
   ]
  },
  {
   "cell_type": "markdown",
   "id": "c31c206a",
   "metadata": {},
   "source": [
    "## Stats Model"
   ]
  },
  {
   "cell_type": "code",
   "execution_count": 5,
   "id": "532269fd",
   "metadata": {},
   "outputs": [
    {
     "name": "stderr",
     "output_type": "stream",
     "text": [
      "No handles with labels found to put in legend.\n"
     ]
    },
    {
     "name": "stdout",
     "output_type": "stream",
     "text": [
      "                                 OLS Regression Results                                \n",
      "=======================================================================================\n",
      "Dep. Variable:                      Y   R-squared (uncentered):                   0.740\n",
      "Model:                            OLS   Adj. R-squared (uncentered):              0.732\n",
      "Method:                 Least Squares   F-statistic:                              85.69\n",
      "Date:                Tue, 23 Nov 2021   Prob (F-statistic):                   1.07e-105\n",
      "Time:                        12:53:47   Log-Likelihood:                         -291.91\n",
      "No. Observations:                 404   AIC:                                      609.8\n",
      "Df Residuals:                     391   BIC:                                      661.8\n",
      "Df Model:                          13                                                  \n",
      "Covariance Type:            nonrobust                                                  \n",
      "==============================================================================\n",
      "                 coef    std err          t      P>|t|      [0.025      0.975]\n",
      "------------------------------------------------------------------------------\n",
      "x1            -0.1206      0.032     -3.774      0.000      -0.183      -0.058\n",
      "x2             0.1056      0.040      2.659      0.008       0.028       0.184\n",
      "x3             0.0118      0.049      0.239      0.811      -0.085       0.108\n",
      "x4             0.0850      0.026      3.255      0.001       0.034       0.136\n",
      "x5            -0.2007      0.054     -3.741      0.000      -0.306      -0.095\n",
      "x6             0.2934      0.035      8.391      0.000       0.225       0.362\n",
      "x7            -0.0192      0.044     -0.437      0.662      -0.106       0.067\n",
      "x8            -0.3641      0.053     -6.812      0.000      -0.469      -0.259\n",
      "x9             0.2605      0.066      3.947      0.000       0.131       0.390\n",
      "x10           -0.1892      0.072     -2.644      0.009      -0.330      -0.049\n",
      "x11           -0.2140      0.035     -6.124      0.000      -0.283      -0.145\n",
      "x12            0.1143      0.030      3.814      0.000       0.055       0.173\n",
      "x13           -0.4277      0.043    -10.015      0.000      -0.512      -0.344\n",
      "==============================================================================\n",
      "Omnibus:                      165.440   Durbin-Watson:                   1.941\n",
      "Prob(Omnibus):                  0.000   Jarque-Bera (JB):              817.729\n",
      "Skew:                           1.716   Prob(JB):                    2.71e-178\n",
      "Kurtosis:                       9.066   Cond. No.                         9.15\n",
      "==============================================================================\n",
      "\n",
      "Notes:\n",
      "[1] R² is computed without centering (uncentered) since the model does not contain a constant.\n",
      "[2] Standard Errors assume that the covariance matrix of the errors is correctly specified.\n",
      "Parameters:  x1    -0.120587\n",
      "x2     0.105557\n",
      "x3     0.011760\n",
      "x4     0.084989\n",
      "x5    -0.200723\n",
      "x6     0.293423\n",
      "x7    -0.019232\n",
      "x8    -0.364144\n",
      "x9     0.260451\n",
      "x10   -0.189242\n",
      "x11   -0.214039\n",
      "x12    0.114325\n",
      "x13   -0.427734\n",
      "dtype: float64\n"
     ]
    },
    {
     "data": {
      "image/png": "[encoded data removed]",
      "text/plain": [
       "<Figure size 432x288 with 1 Axes>"
      ]
     },
     "metadata": {
      "needs_background": "light"
     },
     "output_type": "display_data"
    },
    {
     "name": "stdout",
     "output_type": "stream",
     "text": [
      "Performance Metrics\n",
      "Mean Squared Error: 0.3144422251765196\n",
      "Mean Absolute Error: 0.4024255653015632\n",
      "Manhattan distance: 41.04740766075944\n",
      "Euclidean distance: 5.6633123671580226\n"
     ]
    },
    {
     "data": {
      "application/scrapbook.scrap.json+json": {
       "data": 0.3144422251765196,
       "encoder": "json",
       "name": "Stats Model MSE",
       "version": 1
      }
     },
     "metadata": {
      "scrapbook": {
       "data": true,
       "display": false,
       "name": "Stats Model MSE"
      }
     },
     "output_type": "display_data"
    },
    {
     "data": {
      "application/scrapbook.scrap.json+json": {
       "data": 0.4024255653015632,
       "encoder": "json",
       "name": "Stats Model MAE",
       "version": 1
      }
     },
     "metadata": {
      "scrapbook": {
       "data": true,
       "display": false,
       "name": "Stats Model MAE"
      }
     },
     "output_type": "display_data"
    },
    {
     "data": {
      "application/scrapbook.scrap.json+json": {
       "data": 41.04740766075944,
       "encoder": "json",
       "name": "Stats Model Manhattan Distance",
       "version": 1
      }
     },
     "metadata": {
      "scrapbook": {
       "data": true,
       "display": false,
       "name": "Stats Model Manhattan Distance"
      }
     },
     "output_type": "display_data"
    },
    {
     "data": {
      "application/scrapbook.scrap.json+json": {
       "data": 5.6633123671580226,
       "encoder": "json",
       "name": "Stats Model Euclidean distance",
       "version": 1
      }
     },
     "metadata": {
      "scrapbook": {
       "data": true,
       "display": false,
       "name": "Stats Model Euclidean distance"
      }
     },
     "output_type": "display_data"
    }
   ],
   "source": [
    "[coeff,y_pred] = statsModel.statsModel(X,Y)"
   ]
  },
  {
   "cell_type": "markdown",
   "id": "3bcaf2ad",
   "metadata": {},
   "source": [
    "## Random Forest"
   ]
  },
  {
   "cell_type": "code",
   "execution_count": null,
   "id": "52ae8be2",
   "metadata": {},
   "outputs": [],
   "source": [
    "baselineModels.RandomForest(X_train,y_train,X_test,y_test)"
   ]
  },
  {
   "cell_type": "markdown",
   "id": "6091a4ba",
   "metadata": {},
   "source": [
    "## Catboost"
   ]
  },
  {
   "cell_type": "code",
   "execution_count": null,
   "id": "d50751ab",
   "metadata": {},
   "outputs": [],
   "source": []
  },
  {
   "cell_type": "markdown",
   "id": "5730d0df",
   "metadata": {},
   "source": [
    "## Common Training Parameters (Vanilla NN & GAN & ABC_GAN) "
   ]
  },
  {
   "cell_type": "code",
   "execution_count": 6,
   "id": "952b7fc8",
   "metadata": {},
   "outputs": [],
   "source": [
    "threshold_mse = 0.99\n",
    "batch_size = 100\n",
    "#Select the device \n",
    "device = torch.device('cuda' if torch.cuda.is_available() else 'cpu')"
   ]
  },
  {
   "cell_type": "code",
   "execution_count": 7,
   "id": "e131d7d8",
   "metadata": {},
   "outputs": [],
   "source": [
    "# Train test split for dataset \n",
    "real_dataset = dataset.CustomDataset(X,Y)\n",
    "train_size = round(0.8 * n_samples)\n",
    "test_size = n_samples - train_size\n",
    "train_data, test_data = random_split(real_dataset,[train_size,test_size])"
   ]
  },
  {
   "cell_type": "markdown",
   "id": "c2eab2ad",
   "metadata": {},
   "source": [
    "## Vanilla Neural Network "
   ]
  },
  {
   "cell_type": "code",
   "execution_count": 8,
   "id": "fe715b9e",
   "metadata": {},
   "outputs": [
    {
     "name": "stdout",
     "output_type": "stream",
     "text": [
      "Mean Squared error 1.454500771257\n"
     ]
    }
   ],
   "source": [
    "baselineModels.vanillaNeuralNetwork(train_data,test_data,batch_size,n_features,n_target,n_epochs)"
   ]
  },
  {
   "cell_type": "markdown",
   "id": "c42f28b9",
   "metadata": {},
   "source": [
    "## GAN Model"
   ]
  },
  {
   "cell_type": "markdown",
   "id": "110f905d",
   "metadata": {},
   "source": [
    "**Training GAN for n_epochs number of epochs** "
   ]
  },
  {
   "cell_type": "code",
   "execution_count": 10,
   "id": "ad4645eb",
   "metadata": {},
   "outputs": [],
   "source": [
    "generator = network.Generator(n_features+1).to(device)\n",
    "discriminator = network.Discriminator(n_features+1).to(device)\n",
    "\n",
    "criterion = torch.nn.BCELoss()\n",
    "gen_opt = torch.optim.Adam(generator.parameters(), lr=0.01, betas=(0.5, 0.999))\n",
    "disc_opt = torch.optim.Adam(discriminator.parameters(), lr=0.01, betas=(0.5, 0.999))"
   ]
  },
  {
   "cell_type": "code",
   "execution_count": 11,
   "id": "8a479c2f",
   "metadata": {},
   "outputs": [
    {
     "name": "stdout",
     "output_type": "stream",
     "text": [
      "Generator(\n",
      "  (hidden1): Linear(in_features=14, out_features=100, bias=True)\n",
      "  (hidden2): Linear(in_features=100, out_features=100, bias=True)\n",
      "  (output): Linear(in_features=100, out_features=1, bias=True)\n",
      "  (relu): ReLU()\n",
      ")\n",
      "Discriminator(\n",
      "  (hidden1): Linear(in_features=14, out_features=25, bias=True)\n",
      "  (hidden2): Linear(in_features=25, out_features=50, bias=True)\n",
      "  (output): Linear(in_features=50, out_features=1, bias=True)\n",
      "  (relu): ReLU()\n",
      "  (sigmoid): Sigmoid()\n",
      ")\n"
     ]
    }
   ],
   "source": [
    "print(generator)\n",
    "print(discriminator)"
   ]
  },
  {
   "cell_type": "code",
   "execution_count": null,
   "id": "0b0246ee",
   "metadata": {},
   "outputs": [],
   "source": [
    "discLossG1,genLossG1 = train_test.training_GAN(discriminator,generator,disc_opt,gen_opt,train_data,batch_size, n_epochs,criterion,device)"
   ]
  },
  {
   "cell_type": "code",
   "execution_count": null,
   "id": "673b2f62",
   "metadata": {},
   "outputs": [],
   "source": [
    "GAN1_metrics = train_test.test_generator(generator,test_data,device)"
   ]
  },
  {
   "cell_type": "code",
   "execution_count": null,
   "id": "eeee3d98",
   "metadata": {},
   "outputs": [],
   "source": [
    "sanityChecks.discProbVsError(real_dataset,discriminator,device)"
   ]
  },
  {
   "cell_type": "markdown",
   "id": "c9d0727e",
   "metadata": {},
   "source": [
    "**Training GAN until mse of y_pred is > baseline_mse or n_epochs < 5000**"
   ]
  },
  {
   "cell_type": "code",
   "execution_count": null,
   "id": "72b58352",
   "metadata": {},
   "outputs": [],
   "source": [
    "generator2 = network.Generator(n_features+1).to(device)\n",
    "discriminator2 = network.Discriminator(n_features+1).to(device)\n",
    "criterion = torch.nn.BCELoss()\n",
    "gen_opt = torch.optim.Adam(generator2.parameters(), lr=0.01, betas=(0.5, 0.999))\n",
    "disc_opt = torch.optim.Adam(discriminator2.parameters(), lr=0.01, betas=(0.5, 0.999))"
   ]
  },
  {
   "cell_type": "code",
   "execution_count": null,
   "id": "59ce63df",
   "metadata": {},
   "outputs": [],
   "source": [
    "discLossG2,genLossG2 = train_test.training_GAN_2(discriminator2,generator2,disc_opt,gen_opt,train_data,test_data,batch_size,threshold_mse,criterion,device)"
   ]
  },
  {
   "cell_type": "code",
   "execution_count": null,
   "id": "edc7310a",
   "metadata": {},
   "outputs": [],
   "source": [
    "GAN2_metrics=train_test.test_generator_2(generator2,test_data,device)"
   ]
  },
  {
   "cell_type": "code",
   "execution_count": null,
   "id": "579473ee",
   "metadata": {},
   "outputs": [],
   "source": [
    "sanityChecks.discProbVsError(real_dataset,discriminator2,device)"
   ]
  },
  {
   "cell_type": "markdown",
   "id": "0cd0def6",
   "metadata": {},
   "source": [
    "# ABC GAN Model"
   ]
  },
  {
   "cell_type": "markdown",
   "id": "70beaf4c",
   "metadata": {},
   "source": [
    "### Training the network\n",
    "**Training ABC-GAN for n_epochs number of epochs** "
   ]
  },
  {
   "cell_type": "code",
   "execution_count": null,
   "id": "dbaaafa1",
   "metadata": {},
   "outputs": [],
   "source": [
    "gen = network.Generator(n_features+1).to(device)\n",
    "disc = network.Discriminator(n_features+1).to(device)\n",
    "\n",
    "criterion = torch.nn.BCELoss()\n",
    "gen_opt = torch.optim.Adam(gen.parameters(), lr=0.01, betas=(0.5, 0.999))\n",
    "disc_opt = torch.optim.Adam(disc.parameters(), lr=0.01, betas=(0.5, 0.999))"
   ]
  },
  {
   "cell_type": "code",
   "execution_count": null,
   "id": "111c67b8",
   "metadata": {},
   "outputs": [],
   "source": [
    "discLossA1,genLossA1 = ABC_train_test.training_GAN(disc, gen,disc_opt,gen_opt,train_data,batch_size, n_epochs,criterion,coeff,mean,variance,device)"
   ]
  },
  {
   "cell_type": "code",
   "execution_count": null,
   "id": "11c3082e",
   "metadata": {},
   "outputs": [],
   "source": [
    "ABC_GAN1_metrics=ABC_train_test.test_generator(gen,test_data,coeff,mean,variance,device)"
   ]
  },
  {
   "cell_type": "markdown",
   "id": "394a2b9d",
   "metadata": {},
   "source": [
    "#### Sanity Checks "
   ]
  },
  {
   "cell_type": "code",
   "execution_count": null,
   "id": "a36b3b22",
   "metadata": {},
   "outputs": [],
   "source": [
    "sanityChecks.discProbVsError(real_dataset,disc,device)"
   ]
  },
  {
   "cell_type": "markdown",
   "id": "50b7c8e2",
   "metadata": {},
   "source": [
    "**Training ABC-GAN until mse of y_pred is > baseline_mse or n_epochs < 5000**"
   ]
  },
  {
   "cell_type": "code",
   "execution_count": null,
   "id": "72a6033a",
   "metadata": {},
   "outputs": [],
   "source": [
    "gen2 = network.Generator(n_features+1).to(device)\n",
    "disc2 = network.Discriminator(n_features+1).to(device)\n",
    "\n",
    "criterion = torch.nn.BCELoss()\n",
    "gen_opt = torch.optim.Adam(gen2.parameters(), lr=0.01, betas=(0.5, 0.999))\n",
    "disc_opt = torch.optim.Adam(disc2.parameters(), lr=0.01, betas=(0.5, 0.999))"
   ]
  },
  {
   "cell_type": "code",
   "execution_count": null,
   "id": "24b21210",
   "metadata": {},
   "outputs": [],
   "source": [
    "discLossA2,genLossA2 = ABC_train_test.training_GAN_2(disc2,gen2,disc_opt,gen_opt,train_data,test_data,batch_size,threshold_mse,criterion,coeff,mean,variance,device)"
   ]
  },
  {
   "cell_type": "code",
   "execution_count": null,
   "id": "f1aaef41",
   "metadata": {},
   "outputs": [],
   "source": [
    "ABC_GAN2_metrics=ABC_train_test.test_generator_2(gen2,test_data,coeff,mean,variance,device)"
   ]
  },
  {
   "cell_type": "code",
   "execution_count": null,
   "id": "8c38302d",
   "metadata": {},
   "outputs": [],
   "source": [
    "sanityChecks.discProbVsError(real_dataset,disc2,device)"
   ]
  },
  {
   "cell_type": "markdown",
   "id": "b6d1cda1",
   "metadata": {},
   "source": [
    "# Model Analysis"
   ]
  },
  {
   "cell_type": "code",
   "execution_count": 9,
   "id": "35f4e2d8",
   "metadata": {},
   "outputs": [
    {
     "ename": "NameError",
     "evalue": "name 'GAN1_metrics' is not defined",
     "output_type": "error",
     "traceback": [
      "\u001b[0;31m---------------------------------------------------------------------------\u001b[0m",
      "\u001b[0;31mNameError\u001b[0m                                 Traceback (most recent call last)",
      "\u001b[0;32m/var/folders/5x/0vb7l3qn55q_tgn_2zh9s0bw0000gn/T/ipykernel_15117/2118800840.py\u001b[0m in \u001b[0;36m<module>\u001b[0;34m\u001b[0m\n\u001b[0;32m----> 1\u001b[0;31m \u001b[0mperformanceMetrics\u001b[0m\u001b[0;34m.\u001b[0m\u001b[0mmodelAnalysis\u001b[0m\u001b[0;34m(\u001b[0m\u001b[0mGAN1_metrics\u001b[0m\u001b[0;34m,\u001b[0m\u001b[0mABC_GAN1_metrics\u001b[0m\u001b[0;34m,\u001b[0m\u001b[0mGAN2_metrics\u001b[0m\u001b[0;34m,\u001b[0m\u001b[0mABC_GAN2_metrics\u001b[0m\u001b[0;34m)\u001b[0m\u001b[0;34m\u001b[0m\u001b[0;34m\u001b[0m\u001b[0m\n\u001b[0m",
      "\u001b[0;31mNameError\u001b[0m: name 'GAN1_metrics' is not defined"
     ]
    }
   ],
   "source": [
    "performanceMetrics.modelAnalysis(GAN1_metrics,ABC_GAN1_metrics,GAN2_metrics,ABC_GAN2_metrics)"
   ]
  },
  {
   "cell_type": "code",
   "execution_count": null,
   "id": "86143e6d",
   "metadata": {},
   "outputs": [],
   "source": [
    "performanceMetrics.plotTrainingLoss(discLossG1,genLossG1,discLossA1,genLossA1,discLossG2,genLossG2,discLossA2,genLossA2)"
   ]
  },
  {
   "cell_type": "markdown",
   "id": "130f3a4d",
   "metadata": {},
   "source": [
    "# ABC - GAN Model with skip connection"
   ]
  },
  {
   "cell_type": "code",
   "execution_count": 10,
   "id": "4e43dad1",
   "metadata": {},
   "outputs": [],
   "source": [
    "gen3 = network.GeneratorWithSkipConnection(n_features+1).to(device)\n",
    "disc3 = network.Discriminator(n_features+1).to(device)\n",
    "\n",
    "criterion = torch.nn.BCELoss()\n",
    "gen_opt = torch.optim.Adam(gen3.parameters(), lr=0.01, betas=(0.5, 0.999))\n",
    "disc_opt = torch.optim.Adam(disc3.parameters(), lr=0.01, betas=(0.5, 0.999))"
   ]
  },
  {
   "cell_type": "code",
   "execution_count": 11,
   "id": "26acbc37",
   "metadata": {},
   "outputs": [],
   "source": [
    "discLossA3,genLossA3 = ABC_train_test.training_GAN(disc3, gen3,disc_opt,gen_opt,train_data,batch_size, n_epochs,criterion,coeff,mean,variance,device)"
   ]
  },
  {
   "cell_type": "code",
   "execution_count": null,
   "id": "c5e0717b",
   "metadata": {},
   "outputs": [],
   "source": [
    "ABC_GAN3_metrics=ABC_train_test.test_generator(gen3,test_data,coeff,mean,variance,device)"
   ]
  },
  {
   "cell_type": "code",
   "execution_count": 13,
   "id": "c8e46b48",
   "metadata": {},
   "outputs": [
    {
     "data": {
      "image/png": "[encoded data removed]",
      "text/plain": [
       "<Figure size 432x288 with 1 Axes>"
      ]
     },
     "metadata": {
      "needs_background": "light"
     },
     "output_type": "display_data"
    },
    {
     "data": {
      "image/png": "[encoded data removed]",
      "text/plain": [
       "<Figure size 432x288 with 1 Axes>"
      ]
     },
     "metadata": {
      "needs_background": "light"
     },
     "output_type": "display_data"
    }
   ],
   "source": [
    "sanityChecks.discProbVsError(real_dataset,disc3,device)"
   ]
  },
  {
   "cell_type": "markdown",
   "id": "a5bd74c3",
   "metadata": {},
   "source": [
    "## Skip Connection Model Analysis - ABC-GAN "
   ]
  },
  {
   "cell_type": "markdown",
   "id": "5744a8bf",
   "metadata": {},
   "source": [
    "### Weight Analysis \n",
    "\n",
    "Study the weights of the skip connection layer\n",
    "\n",
    "Equation of the skip connection is \n",
    "\n",
    "$output = y_{gan} * w + y_{abc} * (1-w)$"
   ]
  },
  {
   "cell_type": "code",
   "execution_count": 14,
   "id": "52c31dea",
   "metadata": {},
   "outputs": [
    {
     "name": "stdout",
     "output_type": "stream",
     "text": [
      "Weight of the node at skip connection\n",
      "Parameter containing:\n",
      "tensor([[0.0516]], requires_grad=True)\n"
     ]
    }
   ],
   "source": [
    "print(\"Weight of the node at skip connection\")\n",
    "for name,param in gen3.named_parameters():\n",
    "    if(name == \"skipNode.weight\"):\n",
    "        print(param)"
   ]
  },
  {
   "cell_type": "code",
   "execution_count": 15,
   "id": "aa18207f",
   "metadata": {},
   "outputs": [
    {
     "data": {
      "image/png": "[encoded data removed]",
      "text/plain": [
       "<Figure size 432x288 with 4 Axes>"
      ]
     },
     "metadata": {
      "needs_background": "light"
     },
     "output_type": "display_data"
    }
   ],
   "source": [
    "performanceMetrics.modelAnalysis2(ABC_GAN3_metrics)"
   ]
  },
  {
   "cell_type": "code",
   "execution_count": 16,
   "id": "03438fa7",
   "metadata": {},
   "outputs": [
    {
     "data": {
      "image/png": "[encoded data removed]",
      "text/plain": [
       "<Figure size 432x288 with 1 Axes>"
      ]
     },
     "metadata": {
      "needs_background": "light"
     },
     "output_type": "display_data"
    },
    {
     "data": {
      "image/png": "[encoded data removed]",
      "text/plain": [
       "<Figure size 432x288 with 1 Axes>"
      ]
     },
     "metadata": {
      "needs_background": "light"
     },
     "output_type": "display_data"
    }
   ],
   "source": [
    "performanceMetrics.plotTrainingLoss2(discLossA3,genLossA3)"
   ]
  },
  {
   "cell_type": "code",
   "execution_count": null,
   "id": "a699ff24",
   "metadata": {},
   "outputs": [],
   "source": []
  }
 ],
 "metadata": {
  "interpreter": {
   "hash": "10498c76ddd8160350534c6544a2b2fb65f2138dbc70420f7c81a3268f830f23"
  },
  "kernelspec": {
   "display_name": "Python 3 (ipykernel)",
   "language": "python",
   "name": "python3"
  },
  "language_info": {
   "codemirror_mode": {
    "name": "ipython",
    "version": 3
   },
   "file_extension": ".py",
   "mimetype": "text/x-python",
   "name": "python",
   "nbconvert_exporter": "python",
   "pygments_lexer": "ipython3",
   "version": "3.8.8"
  }
 },
 "nbformat": 4,
 "nbformat_minor": 5
}
