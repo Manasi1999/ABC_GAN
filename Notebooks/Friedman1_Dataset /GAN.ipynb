{
 "cells": [
  {
   "cell_type": "markdown",
   "id": "622780e6",
   "metadata": {},
   "source": [
    "## Import Libraries "
   ]
  },
  {
   "cell_type": "code",
   "execution_count": null,
   "id": "a62397e3",
   "metadata": {},
   "outputs": [],
   "source": [
    "import warnings\n",
    "import sys\n",
    "sys.path.insert(0, '../../src')\n",
    "warnings.filterwarnings('ignore')"
   ]
  },
  {
   "cell_type": "code",
   "execution_count": null,
   "id": "d6a4e155",
   "metadata": {},
   "outputs": [],
   "source": [
    "import train_test\n",
    "import friedman1Dataset\n",
    "import network\n",
    "import dataset\n",
    "import sanityChecks\n",
    "import performanceMetrics\n",
    "import torch \n",
    "from sklearn.model_selection import train_test_split\n",
    "from sklearn.metrics import mean_squared_error\n",
    "import scrapbook as sb\n",
    "from statistics import mean\n",
    "import numpy as np"
   ]
  },
  {
   "cell_type": "markdown",
   "id": "391cdbfd",
   "metadata": {},
   "source": [
    "## Dataset"
   ]
  },
  {
   "cell_type": "code",
   "execution_count": null,
   "id": "0c421a10",
   "metadata": {},
   "outputs": [],
   "source": [
    "#Dataset Parameters \n",
    "n_features = 10\n",
    "n_samples= 100000\n",
    "n_target = 1 "
   ]
  },
  {
   "cell_type": "code",
   "execution_count": null,
   "id": "5d6eced4",
   "metadata": {},
   "outputs": [],
   "source": [
    "X,Y = friedman1Dataset.friedman1_data(n_samples,n_features)\n",
    "\n",
    "#Train test split for dataset \n",
    "X_train,X_test,Y_train,Y_test = train_test_split(X,Y,test_size = 0.2)\n",
    "train_data = dataset.CustomDataset(X_train,Y_train)\n",
    "test_data = dataset.CustomDataset(X_test,Y_test)"
   ]
  },
  {
   "cell_type": "markdown",
   "id": "42b2446c",
   "metadata": {},
   "source": [
    "## Parameters "
   ]
  },
  {
   "cell_type": "code",
   "execution_count": null,
   "id": "645f85d5",
   "metadata": {
    "tags": [
     "parameters"
    ]
   },
   "outputs": [],
   "source": [
    "n_epochs = 5000\n",
    "batch_size = 8000\n",
    "#Select the device \n",
    "device = torch.device('cuda' if torch.cuda.is_available() else 'cpu')"
   ]
  },
  {
   "cell_type": "markdown",
   "id": "c42f28b9",
   "metadata": {},
   "source": [
    "## GAN Model"
   ]
  },
  {
   "cell_type": "markdown",
   "id": "110f905d",
   "metadata": {},
   "source": [
    "**Training GAN for n_epochs number of epochs** "
   ]
  },
  {
   "cell_type": "code",
   "execution_count": null,
   "id": "ad4645eb",
   "metadata": {},
   "outputs": [],
   "source": [
    "generator = network.Generator(n_features+1).to(device)\n",
    "discriminator = network.Discriminator(n_features+1).to(device)\n",
    "\n",
    "criterion = torch.nn.BCELoss()\n",
    "gen_opt = torch.optim.Adam(generator.parameters(), lr=0.01, betas=(0.5, 0.999))\n",
    "disc_opt = torch.optim.Adam(discriminator.parameters(), lr=0.01, betas=(0.5, 0.999))"
   ]
  },
  {
   "cell_type": "code",
   "execution_count": null,
   "id": "0b0246ee",
   "metadata": {},
   "outputs": [],
   "source": [
    "discLossG1,genLossG1 = train_test.training_GAN(discriminator,generator,disc_opt,gen_opt,train_data,batch_size,n_epochs,criterion,device)\n"
   ]
  },
  {
   "cell_type": "markdown",
   "id": "ded18b24",
   "metadata": {},
   "source": [
    "Plot loss function "
   ]
  },
  {
   "cell_type": "code",
   "execution_count": null,
   "id": "369015d1",
   "metadata": {},
   "outputs": [],
   "source": [
    "performanceMetrics.plotTrainingLoss2(discLossG1,genLossG1,np.linspace(1, n_epochs, n_epochs).astype(int))"
   ]
  },
  {
   "cell_type": "code",
   "execution_count": null,
   "id": "673b2f62",
   "metadata": {},
   "outputs": [],
   "source": [
    "GAN1_metrics = train_test.test_generator(generator,test_data,device)\n",
    "sb.glue(\"GAN_1 Metrics\",GAN1_metrics)"
   ]
  },
  {
   "cell_type": "code",
   "execution_count": null,
   "id": "eeee3d98",
   "metadata": {},
   "outputs": [],
   "source": [
    "sanityChecks.discProbVsError(train_data,discriminator,device)\n",
    "sanityChecks.discProbVsError(test_data,discriminator,device)"
   ]
  }
 ],
 "metadata": {
  "interpreter": {
   "hash": "10498c76ddd8160350534c6544a2b2fb65f2138dbc70420f7c81a3268f830f23"
  },
  "kernelspec": {
   "display_name": "papermill-tut",
   "language": "python",
   "name": "python3"
  },
  "language_info": {
   "codemirror_mode": {
    "name": "ipython",
    "version": 3
   },
   "file_extension": ".py",
   "mimetype": "text/x-python",
   "name": "python",
   "nbconvert_exporter": "python",
   "pygments_lexer": "ipython3",
   "version": "3.8.11"
  }
 },
 "nbformat": 4,
 "nbformat_minor": 5
}
