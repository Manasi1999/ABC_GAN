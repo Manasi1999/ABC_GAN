{
 "cells": [
  {
   "cell_type": "markdown",
   "id": "877cdad4",
   "metadata": {},
   "source": [
    "# Dataset 3 - California Housing "
   ]
  },
  {
   "cell_type": "markdown",
   "id": "9d6bda3d",
   "metadata": {},
   "source": [
    "## Import Libraries "
   ]
  },
  {
   "cell_type": "code",
   "execution_count": 1,
   "id": "c0175a68",
   "metadata": {},
   "outputs": [],
   "source": [
    "import warnings\n",
    "import sys\n",
    "sys.path.insert(0, '../src')\n",
    "warnings.filterwarnings('ignore')"
   ]
  },
  {
   "cell_type": "code",
   "execution_count": 2,
   "id": "db5ae9f1",
   "metadata": {},
   "outputs": [],
   "source": [
    "import train_test\n",
    "import ABC_train_test\n",
    "import californiaDataset\n",
    "import network\n",
    "import statsModel\n",
    "import performanceMetrics\n",
    "import dataset\n",
    "import sanityChecks\n",
    "import torch \n",
    "import matplotlib.pyplot as plt \n",
    "import seaborn as sns \n",
    "from scipy.stats import norm\n",
    "from torch.utils.data import Dataset,DataLoader \n",
    "from torch import nn"
   ]
  },
  {
   "cell_type": "markdown",
   "id": "35dd95a8",
   "metadata": {},
   "source": [
    "## Parameters\n",
    "\n",
    "ABC-Generator parameters are as mentioned below: \n",
    "1. mean : 1 ($\\beta \\sim N(\\beta^{*},\\sigma)$ where $\\beta^{*}$ are coefficients of statistical model) or 1 ($\\beta \\sim N(0,\\sigma)$\n",
    "2. std : $\\sigma = 1, 0.1 , 0.01$ (standard deviation)"
   ]
  },
  {
   "cell_type": "code",
   "execution_count": 3,
   "id": "d3807bc2",
   "metadata": {
    "tags": [
     "parameters"
    ]
   },
   "outputs": [],
   "source": [
    "#ABC Generator Parameters\n",
    "mean = 1 \n",
    "variance = 0.01"
   ]
  },
  {
   "cell_type": "markdown",
   "id": "0d33adcd",
   "metadata": {},
   "source": [
    "## Dataset"
   ]
  },
  {
   "cell_type": "code",
   "execution_count": 4,
   "id": "032a44a5",
   "metadata": {},
   "outputs": [
    {
     "name": "stdout",
     "output_type": "stream",
     "text": [
      "       X1    X2        X3        X4      X5        X6     X7      X8      Y\n",
      "0  8.3252  41.0  6.984127  1.023810   322.0  2.555556  37.88 -122.23  4.526\n",
      "1  8.3014  21.0  6.238137  0.971880  2401.0  2.109842  37.86 -122.22  3.585\n",
      "2  7.2574  52.0  8.288136  1.073446   496.0  2.802260  37.85 -122.24  3.521\n",
      "3  5.6431  52.0  5.817352  1.073059   558.0  2.547945  37.85 -122.25  3.413\n",
      "4  3.8462  52.0  6.281853  1.081081   565.0  2.181467  37.85 -122.25  3.422\n"
     ]
    }
   ],
   "source": [
    "X,Y = californiaDataset.california_data()\n",
    "n_features = 8\n",
    "n_samples= 20640"
   ]
  },
  {
   "cell_type": "markdown",
   "id": "ed29668e",
   "metadata": {},
   "source": [
    "## Stats Model"
   ]
  },
  {
   "cell_type": "code",
   "execution_count": 5,
   "id": "e21f1647",
   "metadata": {},
   "outputs": [
    {
     "name": "stderr",
     "output_type": "stream",
     "text": [
      "No handles with labels found to put in legend.\n"
     ]
    },
    {
     "name": "stdout",
     "output_type": "stream",
     "text": [
      "                            OLS Regression Results                            \n",
      "==============================================================================\n",
      "Dep. Variable:                      Y   R-squared:                       0.606\n",
      "Model:                            OLS   Adj. R-squared:                  0.606\n",
      "Method:                 Least Squares   F-statistic:                     3970.\n",
      "Date:                Thu, 11 Nov 2021   Prob (F-statistic):               0.00\n",
      "Time:                        19:39:35   Log-Likelihood:                -19669.\n",
      "No. Observations:               20640   AIC:                         3.936e+04\n",
      "Df Residuals:                   20631   BIC:                         3.943e+04\n",
      "Df Model:                           8                                         \n",
      "Covariance Type:            nonrobust                                         \n",
      "==============================================================================\n",
      "                 coef    std err          t      P>|t|      [0.025      0.975]\n",
      "------------------------------------------------------------------------------\n",
      "const        2.55e-16      0.004   5.84e-14      1.000      -0.009       0.009\n",
      "x1             0.7190      0.007    104.054      0.000       0.705       0.732\n",
      "x2             0.1029      0.005     21.143      0.000       0.093       0.112\n",
      "x3            -0.2301      0.013    -18.235      0.000      -0.255      -0.205\n",
      "x4             0.2649      0.012     22.928      0.000       0.242       0.288\n",
      "x5            -0.0039      0.005     -0.837      0.402      -0.013       0.005\n",
      "x6            -0.0341      0.004     -7.769      0.000      -0.043      -0.025\n",
      "x7            -0.7798      0.013    -58.541      0.000      -0.806      -0.754\n",
      "x8            -0.7544      0.013    -57.682      0.000      -0.780      -0.729\n",
      "==============================================================================\n",
      "Omnibus:                     4393.650   Durbin-Watson:                   0.885\n",
      "Prob(Omnibus):                  0.000   Jarque-Bera (JB):            14087.596\n",
      "Skew:                           1.082   Prob(JB):                         0.00\n",
      "Kurtosis:                       6.420   Cond. No.                         6.67\n",
      "==============================================================================\n",
      "\n",
      "Notes:\n",
      "[1] Standard Errors assume that the covariance matrix of the errors is correctly specified.\n",
      "Parameters:  const    2.550044e-16\n",
      "x1       7.189523e-01\n",
      "x2       1.029108e-01\n",
      "x3      -2.301069e-01\n",
      "x4       2.649179e-01\n",
      "x5      -3.902324e-03\n",
      "x6      -3.408034e-02\n",
      "x7      -7.798454e-01\n",
      "x8      -7.544152e-01\n",
      "dtype: float64\n"
     ]
    },
    {
     "data": {
      "image/png": "[encoded data removed]",
      "text/plain": [
       "<Figure size 432x288 with 1 Axes>"
      ]
     },
     "metadata": {
      "needs_background": "light"
     },
     "output_type": "display_data"
    },
    {
     "name": "stdout",
     "output_type": "stream",
     "text": [
      "Performance Metrics\n",
      "Mean Squared Error: 0.3937673148001949\n",
      "Mean Absolute Error: 0.4603097314845343\n",
      "Manhattan distance: 9500.792857840757\n",
      "Euclidean distance: 90.15185731573169\n"
     ]
    },
    {
     "data": {
      "application/scrapbook.scrap.json+json": {
       "data": 0.3937673148001949,
       "encoder": "json",
       "name": "Stats Model MSE",
       "version": 1
      }
     },
     "metadata": {
      "scrapbook": {
       "data": true,
       "display": false,
       "name": "Stats Model MSE"
      }
     },
     "output_type": "display_data"
    },
    {
     "data": {
      "application/scrapbook.scrap.json+json": {
       "data": 0.4603097314845343,
       "encoder": "json",
       "name": "Stats Model MAE",
       "version": 1
      }
     },
     "metadata": {
      "scrapbook": {
       "data": true,
       "display": false,
       "name": "Stats Model MAE"
      }
     },
     "output_type": "display_data"
    },
    {
     "data": {
      "application/scrapbook.scrap.json+json": {
       "data": 9500.792857840757,
       "encoder": "json",
       "name": "Stats Model Manhattan Distance",
       "version": 1
      }
     },
     "metadata": {
      "scrapbook": {
       "data": true,
       "display": false,
       "name": "Stats Model Manhattan Distance"
      }
     },
     "output_type": "display_data"
    },
    {
     "data": {
      "application/scrapbook.scrap.json+json": {
       "data": 90.15185731573169,
       "encoder": "json",
       "name": "Stats Model Euclidean distance",
       "version": 1
      }
     },
     "metadata": {
      "scrapbook": {
       "data": true,
       "display": false,
       "name": "Stats Model Euclidean distance"
      }
     },
     "output_type": "display_data"
    }
   ],
   "source": [
    "[coeff,y_pred] = statsModel.statsModel(X,Y)"
   ]
  },
  {
   "cell_type": "markdown",
   "id": "42e448ec",
   "metadata": {},
   "source": [
    "## Common Training Parameters (GAN & ABC_GAN) "
   ]
  },
  {
   "cell_type": "code",
   "execution_count": 6,
   "id": "4d1b6a41",
   "metadata": {},
   "outputs": [],
   "source": [
    "n_epochs = 1000\n",
    "threshold = 2.8051\n",
    "batch_size = 100"
   ]
  },
  {
   "cell_type": "markdown",
   "id": "c00ac065",
   "metadata": {},
   "source": [
    "## GAN Model"
   ]
  },
  {
   "cell_type": "code",
   "execution_count": 7,
   "id": "9afe69ae",
   "metadata": {},
   "outputs": [],
   "source": [
    "real_dataset = dataset.CustomDataset(X,Y)\n",
    "device = torch.device('cuda' if torch.cuda.is_available() else 'cpu')"
   ]
  },
  {
   "cell_type": "code",
   "execution_count": 8,
   "id": "e5dd6bdb",
   "metadata": {},
   "outputs": [
    {
     "data": {
      "text/plain": [
       "'GeForce GTX 1660 Ti'"
      ]
     },
     "execution_count": 8,
     "metadata": {},
     "output_type": "execute_result"
    }
   ],
   "source": [
    "import pycuda.driver as cuda\n",
    "cuda.init()\n",
    "## Get Id of default device\n",
    "torch.cuda.current_device()\n",
    "# 0\n",
    "cuda.Device(0).name()"
   ]
  },
  {
   "cell_type": "markdown",
   "id": "fa9f90c5",
   "metadata": {},
   "source": [
    "**Training GAN for n_epochs number of epochs** "
   ]
  },
  {
   "cell_type": "code",
   "execution_count": 9,
   "id": "cdedc2f4",
   "metadata": {},
   "outputs": [],
   "source": [
    "generator = network.Generator(n_features+2).to(device)\n",
    "discriminator = network.Discriminator(n_features+2).to(device)\n",
    "\n",
    "criterion = torch.nn.BCELoss()\n",
    "gen_opt = torch.optim.Adam(generator.parameters(), lr=0.01, betas=(0.5, 0.999))\n",
    "disc_opt = torch.optim.Adam(discriminator.parameters(), lr=0.01, betas=(0.5, 0.999))"
   ]
  },
  {
   "cell_type": "code",
   "execution_count": 10,
   "id": "2c9f416b",
   "metadata": {},
   "outputs": [
    {
     "name": "stdout",
     "output_type": "stream",
     "text": [
      "Generator(\n",
      "  (hidden1): Linear(in_features=10, out_features=100, bias=True)\n",
      "  (hidden2): Linear(in_features=100, out_features=100, bias=True)\n",
      "  (output): Linear(in_features=100, out_features=1, bias=True)\n",
      "  (relu): ReLU()\n",
      ")\n",
      "Discriminator(\n",
      "  (hidden1): Linear(in_features=10, out_features=25, bias=True)\n",
      "  (hidden2): Linear(in_features=25, out_features=50, bias=True)\n",
      "  (output): Linear(in_features=50, out_features=1, bias=True)\n",
      "  (relu): ReLU()\n",
      "  (sigmoid): Sigmoid()\n",
      ")\n"
     ]
    }
   ],
   "source": [
    "print(generator)\n",
    "print(discriminator)"
   ]
  },
  {
   "cell_type": "code",
   "execution_count": 11,
   "id": "39ed012e",
   "metadata": {
    "scrolled": false
   },
   "outputs": [],
   "source": [
    "discLossG1,genLossG1 = train_test.training_GAN(discriminator,generator,disc_opt,gen_opt,real_dataset,batch_size, n_epochs,criterion,device)"
   ]
  },
  {
   "cell_type": "code",
   "execution_count": null,
   "id": "25f291b4",
   "metadata": {},
   "outputs": [],
   "source": [
    "GAN1_metrics = train_test.test_generator(generator,real_dataset,device)"
   ]
  },
  {
   "cell_type": "code",
   "execution_count": null,
   "id": "da12d29b",
   "metadata": {},
   "outputs": [],
   "source": [
    "sanityChecks.discProbVsError(real_dataset,discriminator,device)"
   ]
  },
  {
   "cell_type": "markdown",
   "id": "6cb90603",
   "metadata": {},
   "source": [
    "**Training GAN until loss is less than threshold**"
   ]
  },
  {
   "cell_type": "code",
   "execution_count": null,
   "id": "50598e68",
   "metadata": {},
   "outputs": [],
   "source": [
    "generator2 = network.Generator(n_features+2).to(device)\n",
    "discriminator2 = network.Discriminator(n_features+2).to(device)\n",
    "criterion = torch.nn.BCELoss()\n",
    "gen_opt = torch.optim.Adam(generator2.parameters(), lr=0.01, betas=(0.5, 0.999))\n",
    "disc_opt = torch.optim.Adam(discriminator2.parameters(), lr=0.01, betas=(0.5, 0.999))"
   ]
  },
  {
   "cell_type": "code",
   "execution_count": null,
   "id": "d2605788",
   "metadata": {},
   "outputs": [],
   "source": [
    "discLossG2,genLossG2 =train_test.training_GAN_3(discriminator2,generator2,disc_opt,gen_opt,real_dataset,batch_size,threshold,criterion,device)"
   ]
  },
  {
   "cell_type": "code",
   "execution_count": null,
   "id": "f6055ca5",
   "metadata": {},
   "outputs": [],
   "source": [
    "GAN2_metrics=train_test.test_generator_2(generator2,real_dataset,device)"
   ]
  },
  {
   "cell_type": "code",
   "execution_count": null,
   "id": "fdec5e06",
   "metadata": {},
   "outputs": [],
   "source": [
    "sanityChecks.discProbVsError(real_dataset,discriminator2,device)"
   ]
  },
  {
   "cell_type": "markdown",
   "id": "72ef462c",
   "metadata": {},
   "source": [
    "# ABC GAN Model"
   ]
  },
  {
   "cell_type": "markdown",
   "id": "10ec3640",
   "metadata": {},
   "source": [
    "### Training the network\n",
    "**Training ABC-GAN for n_epochs number of epochs** "
   ]
  },
  {
   "cell_type": "code",
   "execution_count": null,
   "id": "2ca4ad33",
   "metadata": {},
   "outputs": [],
   "source": [
    "gen = network.Generator(n_features+2).to(device)\n",
    "disc = network.Discriminator(n_features+2).to(device)\n",
    "\n",
    "criterion = torch.nn.BCELoss()\n",
    "gen_opt = torch.optim.Adam(gen.parameters(), lr=0.01, betas=(0.5, 0.999))\n",
    "disc_opt = torch.optim.Adam(disc.parameters(), lr=0.01, betas=(0.5, 0.999))"
   ]
  },
  {
   "cell_type": "code",
   "execution_count": null,
   "id": "9f9169e2",
   "metadata": {},
   "outputs": [],
   "source": [
    "discLossA1,genLossA1 = ABC_train_test.training_GAN(disc, gen,disc_opt,gen_opt,real_dataset, batch_size, n_epochs,criterion,coeff,mean,variance,device)"
   ]
  },
  {
   "cell_type": "code",
   "execution_count": null,
   "id": "362fcaed",
   "metadata": {},
   "outputs": [],
   "source": [
    "ABC_GAN1_metrics=ABC_train_test.test_generator(gen,real_dataset,coeff,mean,variance,device)"
   ]
  },
  {
   "cell_type": "markdown",
   "id": "eeaf565e",
   "metadata": {},
   "source": [
    "#### Sanity Checks "
   ]
  },
  {
   "cell_type": "code",
   "execution_count": null,
   "id": "4cf3b695",
   "metadata": {},
   "outputs": [],
   "source": [
    "sanityChecks.discProbVsError(real_dataset,disc,device)"
   ]
  },
  {
   "cell_type": "markdown",
   "id": "c79cc933",
   "metadata": {},
   "source": [
    "**Training GAN until mse of y_pred is > 0.1 or n_epochs < 30000**"
   ]
  },
  {
   "cell_type": "code",
   "execution_count": null,
   "id": "a1a2d412",
   "metadata": {},
   "outputs": [],
   "source": [
    "gen2 = network.Generator(n_features+2).to(device)\n",
    "disc2 = network.Discriminator(n_features+2).to(device)\n",
    "\n",
    "criterion = torch.nn.BCELoss()\n",
    "gen_opt = torch.optim.Adam(gen2.parameters(), lr=0.01, betas=(0.5, 0.999))\n",
    "disc_opt = torch.optim.Adam(disc2.parameters(), lr=0.01, betas=(0.5, 0.999))"
   ]
  },
  {
   "cell_type": "code",
   "execution_count": null,
   "id": "e9bcca28",
   "metadata": {},
   "outputs": [],
   "source": [
    "discLossA2,genLossA2 = ABC_train_test.training_GAN_3(disc2,gen2,disc_opt,gen_opt,real_dataset,batch_size,threshold,criterion,coeff,mean,variance,device)"
   ]
  },
  {
   "cell_type": "code",
   "execution_count": null,
   "id": "90f30d88",
   "metadata": {},
   "outputs": [],
   "source": [
    "ABC_GAN2_metrics=ABC_train_test.test_generator_2(gen2,real_dataset,coeff,mean,variance,device)"
   ]
  },
  {
   "cell_type": "code",
   "execution_count": null,
   "id": "b2eace33",
   "metadata": {},
   "outputs": [],
   "source": [
    "sanityChecks.discProbVsError(real_dataset,disc2,device)"
   ]
  },
  {
   "cell_type": "markdown",
   "id": "d4ee3bf2",
   "metadata": {},
   "source": [
    "# Model Analysis"
   ]
  },
  {
   "cell_type": "code",
   "execution_count": null,
   "id": "afbcf807",
   "metadata": {},
   "outputs": [],
   "source": [
    "performanceMetrics.modelAnalysis(GAN1_metrics,ABC_GAN1_metrics,GAN2_metrics,ABC_GAN2_metrics)"
   ]
  },
  {
   "cell_type": "code",
   "execution_count": null,
   "id": "51fb8302",
   "metadata": {},
   "outputs": [],
   "source": [
    "performanceMetrics.plotTrainingLoss(discLossG1,genLossG1,discLossA1,genLossA1,discLossG2,genLossG2,discLossA2,genLossA2)"
   ]
  }
 ],
 "metadata": {
  "interpreter": {
   "hash": "10498c76ddd8160350534c6544a2b2fb65f2138dbc70420f7c81a3268f830f23"
  },
  "kernelspec": {
   "display_name": "papermill-tut",
   "language": "python",
   "name": "papermill-tut"
  },
  "language_info": {
   "codemirror_mode": {
    "name": "ipython",
    "version": 3
   },
   "file_extension": ".py",
   "mimetype": "text/x-python",
   "name": "python",
   "nbconvert_exporter": "python",
   "pygments_lexer": "ipython3",
   "version": "3.9.7"
  }
 },
 "nbformat": 4,
 "nbformat_minor": 5
}
