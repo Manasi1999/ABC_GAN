{
 "cells": [
  {
   "cell_type": "code",
   "execution_count": 8,
   "metadata": {},
   "outputs": [],
   "source": [
    "import torch \n",
    "from torch import nn\n",
    "import warnings\n",
    "import sys\n",
    "import numpy as np\n",
    "import dataset\n",
    "from torch.utils.data import DataLoader \n",
    "sys.path.insert(0, '../src')\n",
    "warnings.filterwarnings('ignore') \n",
    "\n",
    "\n",
    "# m = torch.nn.MaxPool1d(2, 2)\n",
    "# input = torch.randn(10,13)\n",
    "# output = m(input)"
   ]
  },
  {
   "cell_type": "code",
   "execution_count": 6,
   "metadata": {},
   "outputs": [],
   "source": [
    "X = np.random.normal(0,1,size=(10,1))\n",
    "Y = 2*X + 1"
   ]
  },
  {
   "cell_type": "code",
   "execution_count": 7,
   "metadata": {},
   "outputs": [],
   "source": [
    "data = dataset.CustomDataset(X,Y)"
   ]
  },
  {
   "cell_type": "code",
   "execution_count": 28,
   "metadata": {},
   "outputs": [],
   "source": [
    "class GeneratorWithSkipConnection(nn.Module):\n",
    "  def __init__(self,n_input):\n",
    "    super().__init__()\n",
    "    self.hidden1 = nn.Linear(n_input,100)\n",
    "    self.hidden2 = nn.Linear(100,100)\n",
    "    self.output = nn.Linear(100,1)\n",
    "    self.skipNode = nn.Linear(2,1,bias = False)\n",
    "    self.relu = nn.ReLU()\n",
    "\n",
    "  def forward(self, x):\n",
    "    y_abc = x\n",
    "    x = self.hidden1(x)\n",
    "    x = self.relu(x)\n",
    "    x = self.hidden2(x)\n",
    "    x = self.relu(x)\n",
    "    y_gan = self.output(x)\n",
    "    out = torch.cat((y_gan , y_abc),1)\n",
    "    out = self.skipNode(out)\n",
    "    return out "
   ]
  },
  {
   "cell_type": "code",
   "execution_count": 29,
   "metadata": {},
   "outputs": [
    {
     "name": "stdout",
     "output_type": "stream",
     "text": [
      "GeneratorWithSkipConnection(\n",
      "  (hidden1): Linear(in_features=1, out_features=100, bias=True)\n",
      "  (hidden2): Linear(in_features=100, out_features=100, bias=True)\n",
      "  (output): Linear(in_features=100, out_features=1, bias=True)\n",
      "  (skipNode): Linear(in_features=2, out_features=1, bias=False)\n",
      "  (relu): ReLU()\n",
      ")\n",
      "hidden1.weight\n",
      "hidden1.bias\n",
      "hidden2.weight\n",
      "hidden2.bias\n",
      "output.weight\n",
      "output.bias\n",
      "skipNode.weight\n"
     ]
    }
   ],
   "source": [
    "gen = GeneratorWithSkipConnection(1)\n",
    "gen_opt = torch.optim.Adam(gen.parameters(), lr=0.01, betas=(0.5, 0.999))\n",
    "dataloader = DataLoader(data,batch_size=32,shuffle=True)\n",
    "print(gen)\n",
    "for x_batch,y_batch in dataloader:\n",
    "\n",
    "    gen_opt.zero_grad()\n",
    "    gen_Y = gen(x_batch)\n",
    "\n",
    "\n",
    "for name,param in gen.named_parameters():\n",
    "    print(name)"
   ]
  }
 ],
 "metadata": {
  "interpreter": {
   "hash": "10498c76ddd8160350534c6544a2b2fb65f2138dbc70420f7c81a3268f830f23"
  },
  "kernelspec": {
   "display_name": "Python 3.8.11 64-bit ('papermill': conda)",
   "language": "python",
   "name": "python3"
  },
  "language_info": {
   "codemirror_mode": {
    "name": "ipython",
    "version": 3
   },
   "file_extension": ".py",
   "mimetype": "text/x-python",
   "name": "python",
   "nbconvert_exporter": "python",
   "pygments_lexer": "ipython3",
   "version": "3.8.11"
  },
  "orig_nbformat": 4
 },
 "nbformat": 4,
 "nbformat_minor": 2
}
