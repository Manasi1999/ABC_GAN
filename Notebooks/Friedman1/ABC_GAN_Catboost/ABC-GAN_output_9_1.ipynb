{
 "cells": [
  {
   "cell_type": "markdown",
   "id": "622780e6",
   "metadata": {
    "id": "622780e6",
    "papermill": {
     "duration": 0.031123,
     "end_time": "2022-02-13T15:04:09.785718",
     "exception": false,
     "start_time": "2022-02-13T15:04:09.754595",
     "status": "completed"
    },
    "tags": []
   },
   "source": [
    "## Import Libraries "
   ]
  },
  {
   "cell_type": "code",
   "execution_count": 1,
   "id": "a62397e3",
   "metadata": {
    "execution": {
     "iopub.execute_input": "2022-02-13T15:04:09.825340Z",
     "iopub.status.busy": "2022-02-13T15:04:09.824820Z",
     "iopub.status.idle": "2022-02-13T15:04:09.827235Z",
     "shell.execute_reply": "2022-02-13T15:04:09.827566Z"
    },
    "id": "a62397e3",
    "papermill": {
     "duration": 0.023736,
     "end_time": "2022-02-13T15:04:09.827773",
     "exception": false,
     "start_time": "2022-02-13T15:04:09.804037",
     "status": "completed"
    },
    "tags": []
   },
   "outputs": [],
   "source": [
    "import warnings\n",
    "import sys\n",
    "sys.path.insert(0, '../../src')\n",
    "warnings.filterwarnings('ignore')"
   ]
  },
  {
   "cell_type": "code",
   "execution_count": 2,
   "id": "d6a4e155",
   "metadata": {
    "execution": {
     "iopub.execute_input": "2022-02-13T15:04:09.847946Z",
     "iopub.status.busy": "2022-02-13T15:04:09.847532Z",
     "iopub.status.idle": "2022-02-13T15:04:11.619732Z",
     "shell.execute_reply": "2022-02-13T15:04:11.619982Z"
    },
    "id": "d6a4e155",
    "papermill": {
     "duration": 1.782942,
     "end_time": "2022-02-13T15:04:11.620106",
     "exception": false,
     "start_time": "2022-02-13T15:04:09.837164",
     "status": "completed"
    },
    "tags": []
   },
   "outputs": [],
   "source": [
    "import ABC_train_test2\n",
    "import friedman1Dataset\n",
    "import network\n",
    "import dataset\n",
    "import sanityChecks\n",
    "import torch \n",
    "import scrapbook as sb\n",
    "from statistics import mean \n",
    "import catboost as ctb \n",
    "from sklearn.model_selection import train_test_split\n",
    "from sklearn.metrics import mean_squared_error,mean_absolute_error\n",
    "import numpy as np"
   ]
  },
  {
   "cell_type": "markdown",
   "id": "2fa5b0f7",
   "metadata": {
    "id": "2fa5b0f7",
    "papermill": {
     "duration": 0.00681,
     "end_time": "2022-02-13T15:04:11.633995",
     "exception": false,
     "start_time": "2022-02-13T15:04:11.627185",
     "status": "completed"
    },
    "tags": []
   },
   "source": [
    "## Parameters "
   ]
  },
  {
   "cell_type": "code",
   "execution_count": 3,
   "id": "783186fb",
   "metadata": {
    "execution": {
     "iopub.execute_input": "2022-02-13T15:04:11.649749Z",
     "iopub.status.busy": "2022-02-13T15:04:11.649367Z",
     "iopub.status.idle": "2022-02-13T15:04:11.650724Z",
     "shell.execute_reply": "2022-02-13T15:04:11.651021Z"
    },
    "id": "783186fb",
    "papermill": {
     "duration": 0.010428,
     "end_time": "2022-02-13T15:04:11.651133",
     "exception": false,
     "start_time": "2022-02-13T15:04:11.640705",
     "status": "completed"
    },
    "tags": [
     "parameters"
    ]
   },
   "outputs": [],
   "source": [
    "variance = 1"
   ]
  },
  {
   "cell_type": "code",
   "execution_count": 4,
   "id": "8e6a61fc",
   "metadata": {
    "execution": {
     "iopub.execute_input": "2022-02-13T15:04:11.666838Z",
     "iopub.status.busy": "2022-02-13T15:04:11.666470Z",
     "iopub.status.idle": "2022-02-13T15:04:11.667768Z",
     "shell.execute_reply": "2022-02-13T15:04:11.668002Z"
    },
    "papermill": {
     "duration": 0.01,
     "end_time": "2022-02-13T15:04:11.668108",
     "exception": false,
     "start_time": "2022-02-13T15:04:11.658108",
     "status": "completed"
    },
    "tags": [
     "injected-parameters"
    ]
   },
   "outputs": [],
   "source": [
    "# Parameters\n",
    "variance = 0.1\n"
   ]
  },
  {
   "cell_type": "markdown",
   "id": "391cdbfd",
   "metadata": {
    "id": "391cdbfd",
    "papermill": {
     "duration": 0.006842,
     "end_time": "2022-02-13T15:04:11.681918",
     "exception": false,
     "start_time": "2022-02-13T15:04:11.675076",
     "status": "completed"
    },
    "tags": []
   },
   "source": [
    "## Dataset \n"
   ]
  },
  {
   "cell_type": "code",
   "execution_count": 5,
   "id": "5b51f161",
   "metadata": {
    "execution": {
     "iopub.execute_input": "2022-02-13T15:04:11.697480Z",
     "iopub.status.busy": "2022-02-13T15:04:11.697107Z",
     "iopub.status.idle": "2022-02-13T15:04:11.698345Z",
     "shell.execute_reply": "2022-02-13T15:04:11.698589Z"
    },
    "id": "5b51f161",
    "papermill": {
     "duration": 0.009931,
     "end_time": "2022-02-13T15:04:11.698696",
     "exception": false,
     "start_time": "2022-02-13T15:04:11.688765",
     "status": "completed"
    },
    "tags": []
   },
   "outputs": [],
   "source": [
    "#Parameters \n",
    "n_features = 5\n",
    "n_samples= 100\n",
    "n_target = 1 "
   ]
  },
  {
   "cell_type": "code",
   "execution_count": 6,
   "id": "5d6eced4",
   "metadata": {
    "execution": {
     "iopub.execute_input": "2022-02-13T15:04:11.715852Z",
     "iopub.status.busy": "2022-02-13T15:04:11.715477Z",
     "iopub.status.idle": "2022-02-13T15:04:11.720432Z",
     "shell.execute_reply": "2022-02-13T15:04:11.720673Z"
    },
    "id": "5d6eced4",
    "papermill": {
     "duration": 0.015119,
     "end_time": "2022-02-13T15:04:11.720781",
     "exception": false,
     "start_time": "2022-02-13T15:04:11.705662",
     "status": "completed"
    },
    "tags": []
   },
   "outputs": [
    {
     "name": "stdout",
     "output_type": "stream",
     "text": [
      "         X0        X1        X2        X3        X4         Y\n",
      "0  1.109270 -1.421851 -0.470029 -0.490905  1.620630 -0.846862\n",
      "1  1.578049  0.855088  1.444869 -1.703763  0.951630  0.334305\n",
      "2 -0.814514  1.743632 -0.582736 -0.391750  1.042955  0.436043\n",
      "3 -0.275321 -0.607637 -1.068272 -0.851492  0.129019 -0.584504\n",
      "4  1.567394 -1.106503  0.749374 -0.868066  0.776176 -0.620298\n"
     ]
    }
   ],
   "source": [
    "X,Y = friedman1Dataset.friedman1_data(n_samples,n_features)"
   ]
  },
  {
   "cell_type": "code",
   "execution_count": 7,
   "id": "fe007438",
   "metadata": {
    "execution": {
     "iopub.execute_input": "2022-02-13T15:04:11.737905Z",
     "iopub.status.busy": "2022-02-13T15:04:11.737521Z",
     "iopub.status.idle": "2022-02-13T15:04:11.738963Z",
     "shell.execute_reply": "2022-02-13T15:04:11.739209Z"
    },
    "id": "fe007438",
    "papermill": {
     "duration": 0.011188,
     "end_time": "2022-02-13T15:04:11.739321",
     "exception": false,
     "start_time": "2022-02-13T15:04:11.728133",
     "status": "completed"
    },
    "tags": []
   },
   "outputs": [],
   "source": [
    "#Train test split for dataset \n",
    "X_train,X_test,Y_train,Y_test = train_test_split(X,Y,test_size = 0.2)\n",
    "train_data = dataset.CustomDataset(X_train,Y_train)\n",
    "test_data = dataset.CustomDataset(X_test,Y_test)\n"
   ]
  },
  {
   "cell_type": "markdown",
   "id": "a9a1af34",
   "metadata": {
    "id": "a9a1af34",
    "papermill": {
     "duration": 0.007137,
     "end_time": "2022-02-13T15:04:11.753652",
     "exception": false,
     "start_time": "2022-02-13T15:04:11.746515",
     "status": "completed"
    },
    "tags": []
   },
   "source": [
    "## Training Parameters "
   ]
  },
  {
   "cell_type": "code",
   "execution_count": 8,
   "id": "952b7fc8",
   "metadata": {
    "execution": {
     "iopub.execute_input": "2022-02-13T15:04:11.770076Z",
     "iopub.status.busy": "2022-02-13T15:04:11.769711Z",
     "iopub.status.idle": "2022-02-13T15:04:11.770996Z",
     "shell.execute_reply": "2022-02-13T15:04:11.771250Z"
    },
    "id": "952b7fc8",
    "papermill": {
     "duration": 0.010603,
     "end_time": "2022-02-13T15:04:11.771356",
     "exception": false,
     "start_time": "2022-02-13T15:04:11.760753",
     "status": "completed"
    },
    "tags": []
   },
   "outputs": [],
   "source": [
    "batch_size = 32\n",
    "n_epochs = 1000\n",
    "#Select the device \n",
    "device = torch.device('cuda' if torch.cuda.is_available() else 'cpu')"
   ]
  },
  {
   "cell_type": "markdown",
   "id": "a95e1600",
   "metadata": {
    "id": "a95e1600",
    "papermill": {
     "duration": 0.007119,
     "end_time": "2022-02-13T15:04:11.785688",
     "exception": false,
     "start_time": "2022-02-13T15:04:11.778569",
     "status": "completed"
    },
    "tags": []
   },
   "source": [
    "# ABC Pre-generator Model \n",
    "\n",
    "1. The catboost model is used as a pre-generator model for the ABC-GAN. \n",
    "2. The model is first trained on the entire dataset \n",
    "3. It generats X,Y pairs and we add some Gaussian noise with mean 0 and variance 1 to it which is then feed as input to the generator.\n"
   ]
  },
  {
   "cell_type": "code",
   "execution_count": 9,
   "id": "ff8ce7bd",
   "metadata": {
    "execution": {
     "iopub.execute_input": "2022-02-13T15:04:11.803678Z",
     "iopub.status.busy": "2022-02-13T15:04:11.803270Z",
     "iopub.status.idle": "2022-02-13T15:04:12.429107Z",
     "shell.execute_reply": "2022-02-13T15:04:12.429408Z"
    },
    "id": "ff8ce7bd",
    "papermill": {
     "duration": 0.636683,
     "end_time": "2022-02-13T15:04:12.429531",
     "exception": false,
     "start_time": "2022-02-13T15:04:11.792848",
     "status": "completed"
    },
    "tags": []
   },
   "outputs": [
    {
     "name": "stdout",
     "output_type": "stream",
     "text": [
      "Learning rate set to 0.024897\n",
      "0:\tlearn: 0.9884498\ttotal: 58.1ms\tremaining: 58.1s\n",
      "1:\tlearn: 0.9799256\ttotal: 58.7ms\tremaining: 29.3s\n",
      "2:\tlearn: 0.9699239\ttotal: 59.2ms\tremaining: 19.7s\n",
      "3:\tlearn: 0.9597906\ttotal: 59.8ms\tremaining: 14.9s\n",
      "4:\tlearn: 0.9488003\ttotal: 60.2ms\tremaining: 12s\n",
      "5:\tlearn: 0.9394222\ttotal: 60.7ms\tremaining: 10.1s\n",
      "6:\tlearn: 0.9272760\ttotal: 61.3ms\tremaining: 8.69s\n",
      "7:\tlearn: 0.9163683\ttotal: 61.8ms\tremaining: 7.67s\n",
      "8:\tlearn: 0.9074500\ttotal: 62.4ms\tremaining: 6.87s\n",
      "9:\tlearn: 0.8984065\ttotal: 63ms\tremaining: 6.24s\n",
      "10:\tlearn: 0.8896287\ttotal: 63.6ms\tremaining: 5.72s\n",
      "11:\tlearn: 0.8789830\ttotal: 64.2ms\tremaining: 5.29s\n",
      "12:\tlearn: 0.8697853\ttotal: 64.7ms\tremaining: 4.91s\n",
      "13:\tlearn: 0.8614680\ttotal: 65.2ms\tremaining: 4.59s\n",
      "14:\tlearn: 0.8533520\ttotal: 65.7ms\tremaining: 4.32s\n",
      "15:\tlearn: 0.8453283\ttotal: 66.1ms\tremaining: 4.07s\n",
      "16:\tlearn: 0.8368611\ttotal: 66.6ms\tremaining: 3.85s\n",
      "17:\tlearn: 0.8291222\ttotal: 67.1ms\tremaining: 3.66s\n",
      "18:\tlearn: 0.8237313\ttotal: 67.7ms\tremaining: 3.49s\n",
      "19:\tlearn: 0.8153378\ttotal: 68.2ms\tremaining: 3.34s\n",
      "20:\tlearn: 0.8069312\ttotal: 68.6ms\tremaining: 3.2s\n",
      "21:\tlearn: 0.7986635\ttotal: 69ms\tremaining: 3.07s\n",
      "22:\tlearn: 0.7909082\ttotal: 69.5ms\tremaining: 2.95s\n",
      "23:\tlearn: 0.7842314\ttotal: 70ms\tremaining: 2.85s\n",
      "24:\tlearn: 0.7767645\ttotal: 70.5ms\tremaining: 2.75s\n",
      "25:\tlearn: 0.7696426\ttotal: 71ms\tremaining: 2.66s\n",
      "26:\tlearn: 0.7632035\ttotal: 71.6ms\tremaining: 2.58s\n",
      "27:\tlearn: 0.7552353\ttotal: 72ms\tremaining: 2.5s\n",
      "28:\tlearn: 0.7467883\ttotal: 72.4ms\tremaining: 2.42s\n",
      "29:\tlearn: 0.7391078\ttotal: 72.8ms\tremaining: 2.35s\n",
      "30:\tlearn: 0.7315952\ttotal: 73.2ms\tremaining: 2.29s\n",
      "31:\tlearn: 0.7250040\ttotal: 73.7ms\tremaining: 2.23s\n",
      "32:\tlearn: 0.7175422\ttotal: 74ms\tremaining: 2.17s\n",
      "33:\tlearn: 0.7101467\ttotal: 74.5ms\tremaining: 2.12s\n",
      "34:\tlearn: 0.7029369\ttotal: 75ms\tremaining: 2.07s\n",
      "35:\tlearn: 0.6967798\ttotal: 75.7ms\tremaining: 2.03s\n",
      "36:\tlearn: 0.6896063\ttotal: 76.2ms\tremaining: 1.98s\n",
      "37:\tlearn: 0.6844154\ttotal: 76.8ms\tremaining: 1.94s\n",
      "38:\tlearn: 0.6785619\ttotal: 77.2ms\tremaining: 1.9s\n",
      "39:\tlearn: 0.6723436\ttotal: 77.5ms\tremaining: 1.86s\n",
      "40:\tlearn: 0.6657072\ttotal: 78ms\tremaining: 1.82s\n",
      "41:\tlearn: 0.6608552\ttotal: 78.5ms\tremaining: 1.79s\n",
      "42:\tlearn: 0.6549039\ttotal: 79.1ms\tremaining: 1.76s\n",
      "43:\tlearn: 0.6483763\ttotal: 79.6ms\tremaining: 1.73s\n",
      "44:\tlearn: 0.6425286\ttotal: 80ms\tremaining: 1.7s\n",
      "45:\tlearn: 0.6362019\ttotal: 80.6ms\tremaining: 1.67s\n",
      "46:\tlearn: 0.6310982\ttotal: 81ms\tremaining: 1.64s\n",
      "47:\tlearn: 0.6256940\ttotal: 81.6ms\tremaining: 1.62s\n",
      "48:\tlearn: 0.6207097\ttotal: 82ms\tremaining: 1.59s\n",
      "49:\tlearn: 0.6146194\ttotal: 82.5ms\tremaining: 1.57s\n",
      "50:\tlearn: 0.6093512\ttotal: 83ms\tremaining: 1.54s\n",
      "51:\tlearn: 0.6023937\ttotal: 83.4ms\tremaining: 1.52s\n",
      "52:\tlearn: 0.5953480\ttotal: 84ms\tremaining: 1.5s\n",
      "53:\tlearn: 0.5908396\ttotal: 84.6ms\tremaining: 1.48s\n",
      "54:\tlearn: 0.5847866\ttotal: 85ms\tremaining: 1.46s\n",
      "55:\tlearn: 0.5802119\ttotal: 85.5ms\tremaining: 1.44s\n",
      "56:\tlearn: 0.5760322\ttotal: 85.9ms\tremaining: 1.42s\n",
      "57:\tlearn: 0.5713552\ttotal: 86.5ms\tremaining: 1.4s\n",
      "58:\tlearn: 0.5665636\ttotal: 87ms\tremaining: 1.39s\n",
      "59:\tlearn: 0.5608328\ttotal: 87.4ms\tremaining: 1.37s\n",
      "60:\tlearn: 0.5559731\ttotal: 88.5ms\tremaining: 1.36s\n",
      "61:\tlearn: 0.5514543\ttotal: 89.2ms\tremaining: 1.35s\n",
      "62:\tlearn: 0.5457928\ttotal: 89.6ms\tremaining: 1.33s\n",
      "63:\tlearn: 0.5408106\ttotal: 90.1ms\tremaining: 1.32s\n",
      "64:\tlearn: 0.5368792\ttotal: 90.6ms\tremaining: 1.3s\n",
      "65:\tlearn: 0.5335944\ttotal: 91.2ms\tremaining: 1.29s\n",
      "66:\tlearn: 0.5284166\ttotal: 91.8ms\tremaining: 1.28s\n",
      "67:\tlearn: 0.5242091\ttotal: 92.4ms\tremaining: 1.26s\n",
      "68:\tlearn: 0.5197672\ttotal: 93ms\tremaining: 1.25s\n",
      "69:\tlearn: 0.5156694\ttotal: 93.5ms\tremaining: 1.24s\n",
      "70:\tlearn: 0.5113642\ttotal: 94.1ms\tremaining: 1.23s\n",
      "71:\tlearn: 0.5079612\ttotal: 94.6ms\tremaining: 1.22s\n",
      "72:\tlearn: 0.5034432\ttotal: 95ms\tremaining: 1.21s\n",
      "73:\tlearn: 0.4988790\ttotal: 95.5ms\tremaining: 1.2s\n",
      "74:\tlearn: 0.4948747\ttotal: 95.8ms\tremaining: 1.18s\n",
      "75:\tlearn: 0.4913478\ttotal: 96.3ms\tremaining: 1.17s\n",
      "76:\tlearn: 0.4878293\ttotal: 97ms\tremaining: 1.16s\n",
      "77:\tlearn: 0.4845876\ttotal: 97.4ms\tremaining: 1.15s\n",
      "78:\tlearn: 0.4805851\ttotal: 97.9ms\tremaining: 1.14s\n",
      "79:\tlearn: 0.4766286\ttotal: 98.5ms\tremaining: 1.13s\n",
      "80:\tlearn: 0.4725965\ttotal: 99.1ms\tremaining: 1.12s\n",
      "81:\tlearn: 0.4689458\ttotal: 99.5ms\tremaining: 1.11s\n",
      "82:\tlearn: 0.4649288\ttotal: 100ms\tremaining: 1.1s\n",
      "83:\tlearn: 0.4609680\ttotal: 101ms\tremaining: 1.1s\n",
      "84:\tlearn: 0.4568654\ttotal: 101ms\tremaining: 1.09s\n",
      "85:\tlearn: 0.4534896\ttotal: 102ms\tremaining: 1.08s\n",
      "86:\tlearn: 0.4500871\ttotal: 102ms\tremaining: 1.07s\n",
      "87:\tlearn: 0.4461082\ttotal: 103ms\tremaining: 1.07s\n",
      "88:\tlearn: 0.4429763\ttotal: 103ms\tremaining: 1.06s\n",
      "89:\tlearn: 0.4393710\ttotal: 104ms\tremaining: 1.05s\n",
      "90:\tlearn: 0.4358136\ttotal: 104ms\tremaining: 1.04s\n",
      "91:\tlearn: 0.4317436\ttotal: 105ms\tremaining: 1.03s\n",
      "92:\tlearn: 0.4283992\ttotal: 105ms\tremaining: 1.03s\n",
      "93:\tlearn: 0.4245102\ttotal: 106ms\tremaining: 1.02s\n",
      "94:\tlearn: 0.4213196\ttotal: 106ms\tremaining: 1.01s\n",
      "95:\tlearn: 0.4182856\ttotal: 107ms\tremaining: 1s\n",
      "96:\tlearn: 0.4149594\ttotal: 107ms\tremaining: 996ms\n",
      "97:\tlearn: 0.4120839\ttotal: 107ms\tremaining: 989ms\n"
     ]
    },
    {
     "name": "stdout",
     "output_type": "stream",
     "text": [
      "98:\tlearn: 0.4093632\ttotal: 108ms\tremaining: 984ms\n",
      "99:\tlearn: 0.4060462\ttotal: 109ms\tremaining: 977ms\n",
      "100:\tlearn: 0.4030653\ttotal: 109ms\tremaining: 970ms\n",
      "101:\tlearn: 0.3994909\ttotal: 109ms\tremaining: 964ms\n",
      "102:\tlearn: 0.3968662\ttotal: 110ms\tremaining: 956ms\n",
      "103:\tlearn: 0.3937844\ttotal: 110ms\tremaining: 950ms\n",
      "104:\tlearn: 0.3911192\ttotal: 111ms\tremaining: 942ms\n",
      "105:\tlearn: 0.3883757\ttotal: 111ms\tremaining: 936ms\n",
      "106:\tlearn: 0.3855206\ttotal: 111ms\tremaining: 929ms\n",
      "107:\tlearn: 0.3828971\ttotal: 112ms\tremaining: 923ms\n",
      "108:\tlearn: 0.3805931\ttotal: 112ms\tremaining: 917ms\n",
      "109:\tlearn: 0.3778812\ttotal: 113ms\tremaining: 911ms\n",
      "110:\tlearn: 0.3749328\ttotal: 113ms\tremaining: 907ms\n",
      "111:\tlearn: 0.3722699\ttotal: 114ms\tremaining: 902ms\n",
      "112:\tlearn: 0.3693149\ttotal: 114ms\tremaining: 897ms\n",
      "113:\tlearn: 0.3665663\ttotal: 115ms\tremaining: 892ms\n",
      "114:\tlearn: 0.3636015\ttotal: 115ms\tremaining: 887ms\n",
      "115:\tlearn: 0.3611143\ttotal: 116ms\tremaining: 881ms\n",
      "116:\tlearn: 0.3577930\ttotal: 116ms\tremaining: 875ms\n",
      "117:\tlearn: 0.3550617\ttotal: 116ms\tremaining: 871ms\n",
      "118:\tlearn: 0.3526498\ttotal: 117ms\tremaining: 866ms\n",
      "119:\tlearn: 0.3499248\ttotal: 117ms\tremaining: 861ms\n",
      "120:\tlearn: 0.3476474\ttotal: 118ms\tremaining: 857ms\n",
      "121:\tlearn: 0.3448025\ttotal: 118ms\tremaining: 852ms\n",
      "122:\tlearn: 0.3428287\ttotal: 119ms\tremaining: 848ms\n",
      "123:\tlearn: 0.3403892\ttotal: 119ms\tremaining: 842ms\n",
      "124:\tlearn: 0.3377211\ttotal: 120ms\tremaining: 837ms\n",
      "125:\tlearn: 0.3357194\ttotal: 120ms\tremaining: 832ms\n",
      "126:\tlearn: 0.3327206\ttotal: 128ms\tremaining: 882ms\n",
      "127:\tlearn: 0.3299609\ttotal: 129ms\tremaining: 876ms\n",
      "128:\tlearn: 0.3269668\ttotal: 130ms\tremaining: 880ms\n",
      "129:\tlearn: 0.3244876\ttotal: 131ms\tremaining: 875ms\n",
      "130:\tlearn: 0.3220171\ttotal: 131ms\tremaining: 869ms\n",
      "131:\tlearn: 0.3198791\ttotal: 131ms\tremaining: 864ms\n",
      "132:\tlearn: 0.3182787\ttotal: 133ms\tremaining: 864ms\n",
      "133:\tlearn: 0.3159102\ttotal: 133ms\tremaining: 859ms\n",
      "134:\tlearn: 0.3128921\ttotal: 134ms\tremaining: 856ms\n",
      "135:\tlearn: 0.3108160\ttotal: 134ms\tremaining: 851ms\n",
      "136:\tlearn: 0.3084349\ttotal: 134ms\tremaining: 847ms\n",
      "137:\tlearn: 0.3058661\ttotal: 135ms\tremaining: 842ms\n",
      "138:\tlearn: 0.3036331\ttotal: 135ms\tremaining: 838ms\n",
      "139:\tlearn: 0.3016688\ttotal: 136ms\tremaining: 834ms\n",
      "140:\tlearn: 0.2998515\ttotal: 137ms\tremaining: 833ms\n",
      "141:\tlearn: 0.2981142\ttotal: 138ms\tremaining: 832ms\n",
      "142:\tlearn: 0.2955710\ttotal: 139ms\tremaining: 831ms\n",
      "143:\tlearn: 0.2931670\ttotal: 139ms\tremaining: 828ms\n",
      "144:\tlearn: 0.2913391\ttotal: 140ms\tremaining: 826ms\n",
      "145:\tlearn: 0.2896612\ttotal: 141ms\tremaining: 823ms\n",
      "146:\tlearn: 0.2875114\ttotal: 141ms\tremaining: 820ms\n",
      "147:\tlearn: 0.2850132\ttotal: 142ms\tremaining: 820ms\n",
      "148:\tlearn: 0.2824334\ttotal: 143ms\tremaining: 815ms\n",
      "149:\tlearn: 0.2805333\ttotal: 144ms\tremaining: 816ms\n",
      "150:\tlearn: 0.2780333\ttotal: 144ms\tremaining: 812ms\n",
      "151:\tlearn: 0.2756909\ttotal: 145ms\tremaining: 810ms\n",
      "152:\tlearn: 0.2736988\ttotal: 146ms\tremaining: 808ms\n",
      "153:\tlearn: 0.2720016\ttotal: 146ms\tremaining: 803ms\n",
      "154:\tlearn: 0.2700050\ttotal: 147ms\tremaining: 804ms\n",
      "155:\tlearn: 0.2685891\ttotal: 148ms\tremaining: 801ms\n",
      "156:\tlearn: 0.2669412\ttotal: 148ms\tremaining: 797ms\n",
      "157:\tlearn: 0.2648405\ttotal: 149ms\tremaining: 794ms\n",
      "158:\tlearn: 0.2631341\ttotal: 149ms\tremaining: 790ms\n",
      "159:\tlearn: 0.2616338\ttotal: 150ms\tremaining: 787ms\n",
      "160:\tlearn: 0.2599382\ttotal: 150ms\tremaining: 783ms\n",
      "161:\tlearn: 0.2583989\ttotal: 151ms\tremaining: 780ms\n",
      "162:\tlearn: 0.2564356\ttotal: 152ms\tremaining: 779ms\n",
      "163:\tlearn: 0.2546788\ttotal: 153ms\tremaining: 777ms\n",
      "164:\tlearn: 0.2530453\ttotal: 155ms\tremaining: 782ms\n",
      "165:\tlearn: 0.2512393\ttotal: 155ms\tremaining: 780ms\n",
      "166:\tlearn: 0.2500475\ttotal: 156ms\tremaining: 777ms\n",
      "167:\tlearn: 0.2483246\ttotal: 156ms\tremaining: 775ms\n",
      "168:\tlearn: 0.2467101\ttotal: 157ms\tremaining: 772ms\n",
      "169:\tlearn: 0.2452727\ttotal: 157ms\tremaining: 768ms\n",
      "170:\tlearn: 0.2436332\ttotal: 158ms\tremaining: 765ms\n",
      "171:\tlearn: 0.2419702\ttotal: 158ms\tremaining: 763ms\n",
      "172:\tlearn: 0.2401203\ttotal: 159ms\tremaining: 759ms\n",
      "173:\tlearn: 0.2383492\ttotal: 159ms\tremaining: 756ms\n",
      "174:\tlearn: 0.2363058\ttotal: 160ms\tremaining: 753ms\n",
      "175:\tlearn: 0.2345020\ttotal: 160ms\tremaining: 750ms\n",
      "176:\tlearn: 0.2327740\ttotal: 161ms\tremaining: 747ms\n",
      "177:\tlearn: 0.2310372\ttotal: 161ms\tremaining: 743ms\n",
      "178:\tlearn: 0.2295022\ttotal: 161ms\tremaining: 741ms\n",
      "179:\tlearn: 0.2282440\ttotal: 162ms\tremaining: 738ms\n",
      "180:\tlearn: 0.2265500\ttotal: 162ms\tremaining: 734ms\n",
      "181:\tlearn: 0.2250168\ttotal: 163ms\tremaining: 732ms\n",
      "182:\tlearn: 0.2235450\ttotal: 163ms\tremaining: 729ms\n",
      "183:\tlearn: 0.2221880\ttotal: 164ms\tremaining: 727ms\n",
      "184:\tlearn: 0.2208614\ttotal: 164ms\tremaining: 724ms\n",
      "185:\tlearn: 0.2195321\ttotal: 165ms\tremaining: 721ms\n",
      "186:\tlearn: 0.2184844\ttotal: 165ms\tremaining: 719ms\n",
      "187:\tlearn: 0.2168763\ttotal: 166ms\tremaining: 716ms\n",
      "188:\tlearn: 0.2153312\ttotal: 166ms\tremaining: 713ms\n",
      "189:\tlearn: 0.2136443\ttotal: 167ms\tremaining: 711ms\n",
      "190:\tlearn: 0.2121435\ttotal: 167ms\tremaining: 708ms\n",
      "191:\tlearn: 0.2108115\ttotal: 168ms\tremaining: 705ms\n",
      "192:\tlearn: 0.2091956\ttotal: 168ms\tremaining: 703ms\n",
      "193:\tlearn: 0.2079570\ttotal: 169ms\tremaining: 701ms\n",
      "194:\tlearn: 0.2070534\ttotal: 169ms\tremaining: 699ms\n",
      "195:\tlearn: 0.2062919\ttotal: 169ms\tremaining: 695ms\n",
      "196:\tlearn: 0.2050826\ttotal: 170ms\tremaining: 693ms\n",
      "197:\tlearn: 0.2045623\ttotal: 171ms\tremaining: 691ms\n",
      "198:\tlearn: 0.2029237\ttotal: 171ms\tremaining: 689ms\n",
      "199:\tlearn: 0.2016931\ttotal: 172ms\tremaining: 686ms\n",
      "200:\tlearn: 0.2001378\ttotal: 172ms\tremaining: 684ms\n",
      "201:\tlearn: 0.1986742\ttotal: 172ms\tremaining: 681ms\n",
      "202:\tlearn: 0.1970447\ttotal: 173ms\tremaining: 679ms\n",
      "203:\tlearn: 0.1956289\ttotal: 173ms\tremaining: 676ms\n",
      "204:\tlearn: 0.1946031\ttotal: 174ms\tremaining: 673ms\n",
      "205:\tlearn: 0.1930950\ttotal: 174ms\tremaining: 671ms\n",
      "206:\tlearn: 0.1915669\ttotal: 174ms\tremaining: 668ms\n",
      "207:\tlearn: 0.1903985\ttotal: 175ms\tremaining: 666ms\n",
      "208:\tlearn: 0.1888279\ttotal: 175ms\tremaining: 664ms\n",
      "209:\tlearn: 0.1878773\ttotal: 176ms\tremaining: 662ms\n",
      "210:\tlearn: 0.1867323\ttotal: 177ms\tremaining: 660ms\n",
      "211:\tlearn: 0.1852172\ttotal: 177ms\tremaining: 658ms\n",
      "212:\tlearn: 0.1840496\ttotal: 177ms\tremaining: 656ms\n",
      "213:\tlearn: 0.1837944\ttotal: 178ms\tremaining: 653ms\n",
      "214:\tlearn: 0.1826185\ttotal: 178ms\tremaining: 651ms\n",
      "215:\tlearn: 0.1816547\ttotal: 179ms\tremaining: 649ms\n",
      "216:\tlearn: 0.1804560\ttotal: 179ms\tremaining: 646ms\n",
      "217:\tlearn: 0.1791487\ttotal: 180ms\tremaining: 644ms\n",
      "218:\tlearn: 0.1777729\ttotal: 180ms\tremaining: 642ms\n",
      "219:\tlearn: 0.1764174\ttotal: 181ms\tremaining: 641ms\n",
      "220:\tlearn: 0.1750796\ttotal: 181ms\tremaining: 639ms\n",
      "221:\tlearn: 0.1738949\ttotal: 182ms\tremaining: 637ms\n",
      "222:\tlearn: 0.1723262\ttotal: 182ms\tremaining: 635ms\n",
      "223:\tlearn: 0.1712216\ttotal: 183ms\tremaining: 632ms\n",
      "224:\tlearn: 0.1698851\ttotal: 183ms\tremaining: 630ms\n",
      "225:\tlearn: 0.1687641\ttotal: 184ms\tremaining: 628ms\n",
      "226:\tlearn: 0.1676122\ttotal: 184ms\tremaining: 626ms\n",
      "227:\tlearn: 0.1665212\ttotal: 184ms\tremaining: 624ms\n",
      "228:\tlearn: 0.1659986\ttotal: 185ms\tremaining: 622ms\n",
      "229:\tlearn: 0.1654878\ttotal: 185ms\tremaining: 619ms\n",
      "230:\tlearn: 0.1642783\ttotal: 185ms\tremaining: 617ms\n",
      "231:\tlearn: 0.1630555\ttotal: 186ms\tremaining: 615ms\n",
      "232:\tlearn: 0.1625470\ttotal: 186ms\tremaining: 612ms\n"
     ]
    },
    {
     "name": "stdout",
     "output_type": "stream",
     "text": [
      "233:\tlearn: 0.1620840\ttotal: 187ms\tremaining: 611ms\n",
      "234:\tlearn: 0.1607899\ttotal: 187ms\tremaining: 610ms\n",
      "235:\tlearn: 0.1597426\ttotal: 188ms\tremaining: 608ms\n",
      "236:\tlearn: 0.1588753\ttotal: 188ms\tremaining: 605ms\n",
      "237:\tlearn: 0.1582135\ttotal: 189ms\tremaining: 604ms\n",
      "238:\tlearn: 0.1574451\ttotal: 189ms\tremaining: 601ms\n",
      "239:\tlearn: 0.1562876\ttotal: 189ms\tremaining: 599ms\n",
      "240:\tlearn: 0.1557256\ttotal: 189ms\tremaining: 597ms\n",
      "241:\tlearn: 0.1546126\ttotal: 190ms\tremaining: 595ms\n",
      "242:\tlearn: 0.1543492\ttotal: 190ms\tremaining: 593ms\n",
      "243:\tlearn: 0.1534100\ttotal: 191ms\tremaining: 591ms\n",
      "244:\tlearn: 0.1524714\ttotal: 191ms\tremaining: 590ms\n",
      "245:\tlearn: 0.1519335\ttotal: 192ms\tremaining: 588ms\n",
      "246:\tlearn: 0.1514812\ttotal: 192ms\tremaining: 586ms\n",
      "247:\tlearn: 0.1504581\ttotal: 193ms\tremaining: 584ms\n",
      "248:\tlearn: 0.1492076\ttotal: 193ms\tremaining: 583ms\n",
      "249:\tlearn: 0.1482028\ttotal: 194ms\tremaining: 582ms\n",
      "250:\tlearn: 0.1472707\ttotal: 194ms\tremaining: 580ms\n",
      "251:\tlearn: 0.1470698\ttotal: 195ms\tremaining: 578ms\n",
      "252:\tlearn: 0.1460673\ttotal: 195ms\tremaining: 576ms\n",
      "253:\tlearn: 0.1452363\ttotal: 195ms\tremaining: 574ms\n",
      "254:\tlearn: 0.1442528\ttotal: 196ms\tremaining: 573ms\n",
      "255:\tlearn: 0.1432015\ttotal: 196ms\tremaining: 571ms\n",
      "256:\tlearn: 0.1425745\ttotal: 197ms\tremaining: 569ms\n",
      "257:\tlearn: 0.1415592\ttotal: 197ms\tremaining: 567ms\n",
      "258:\tlearn: 0.1410793\ttotal: 197ms\tremaining: 565ms\n",
      "259:\tlearn: 0.1406758\ttotal: 198ms\tremaining: 563ms\n",
      "260:\tlearn: 0.1402091\ttotal: 198ms\tremaining: 561ms\n",
      "261:\tlearn: 0.1391593\ttotal: 199ms\tremaining: 559ms\n",
      "262:\tlearn: 0.1382129\ttotal: 199ms\tremaining: 558ms\n",
      "263:\tlearn: 0.1376110\ttotal: 199ms\tremaining: 556ms\n",
      "264:\tlearn: 0.1367738\ttotal: 200ms\tremaining: 555ms\n",
      "265:\tlearn: 0.1358082\ttotal: 201ms\tremaining: 553ms\n",
      "266:\tlearn: 0.1355365\ttotal: 201ms\tremaining: 552ms\n",
      "267:\tlearn: 0.1346311\ttotal: 202ms\tremaining: 550ms\n",
      "268:\tlearn: 0.1336995\ttotal: 202ms\tremaining: 549ms\n",
      "269:\tlearn: 0.1328928\ttotal: 203ms\tremaining: 548ms\n",
      "270:\tlearn: 0.1321263\ttotal: 203ms\tremaining: 546ms\n",
      "271:\tlearn: 0.1311669\ttotal: 204ms\tremaining: 545ms\n",
      "272:\tlearn: 0.1308111\ttotal: 204ms\tremaining: 544ms\n",
      "273:\tlearn: 0.1303799\ttotal: 205ms\tremaining: 542ms\n",
      "274:\tlearn: 0.1296068\ttotal: 205ms\tremaining: 541ms\n",
      "275:\tlearn: 0.1287976\ttotal: 206ms\tremaining: 539ms\n",
      "276:\tlearn: 0.1280909\ttotal: 206ms\tremaining: 538ms\n",
      "277:\tlearn: 0.1272935\ttotal: 207ms\tremaining: 537ms\n",
      "278:\tlearn: 0.1269055\ttotal: 207ms\tremaining: 535ms\n",
      "279:\tlearn: 0.1266173\ttotal: 208ms\tremaining: 534ms\n",
      "280:\tlearn: 0.1256798\ttotal: 208ms\tremaining: 532ms\n",
      "281:\tlearn: 0.1253976\ttotal: 209ms\tremaining: 531ms\n",
      "282:\tlearn: 0.1246395\ttotal: 209ms\tremaining: 530ms\n",
      "283:\tlearn: 0.1238008\ttotal: 210ms\tremaining: 528ms\n",
      "284:\tlearn: 0.1227730\ttotal: 210ms\tremaining: 527ms\n",
      "285:\tlearn: 0.1224336\ttotal: 211ms\tremaining: 526ms\n",
      "286:\tlearn: 0.1217285\ttotal: 211ms\tremaining: 525ms\n",
      "287:\tlearn: 0.1205896\ttotal: 212ms\tremaining: 523ms\n",
      "288:\tlearn: 0.1202403\ttotal: 212ms\tremaining: 522ms\n",
      "289:\tlearn: 0.1198179\ttotal: 213ms\tremaining: 521ms\n",
      "290:\tlearn: 0.1194285\ttotal: 213ms\tremaining: 520ms\n",
      "291:\tlearn: 0.1186311\ttotal: 214ms\tremaining: 519ms\n",
      "292:\tlearn: 0.1177017\ttotal: 214ms\tremaining: 517ms\n",
      "293:\tlearn: 0.1173176\ttotal: 215ms\tremaining: 516ms\n",
      "294:\tlearn: 0.1165391\ttotal: 215ms\tremaining: 515ms\n",
      "295:\tlearn: 0.1163486\ttotal: 216ms\tremaining: 514ms\n",
      "296:\tlearn: 0.1155706\ttotal: 217ms\tremaining: 513ms\n",
      "297:\tlearn: 0.1149241\ttotal: 217ms\tremaining: 511ms\n",
      "298:\tlearn: 0.1141547\ttotal: 217ms\tremaining: 510ms\n",
      "299:\tlearn: 0.1138313\ttotal: 218ms\tremaining: 509ms\n",
      "300:\tlearn: 0.1135139\ttotal: 218ms\tremaining: 507ms\n",
      "301:\tlearn: 0.1126022\ttotal: 219ms\tremaining: 506ms\n",
      "302:\tlearn: 0.1117853\ttotal: 219ms\tremaining: 504ms\n",
      "303:\tlearn: 0.1110486\ttotal: 220ms\tremaining: 503ms\n",
      "304:\tlearn: 0.1102603\ttotal: 220ms\tremaining: 502ms\n",
      "305:\tlearn: 0.1100293\ttotal: 221ms\tremaining: 502ms\n",
      "306:\tlearn: 0.1096639\ttotal: 222ms\tremaining: 500ms\n",
      "307:\tlearn: 0.1094380\ttotal: 222ms\tremaining: 499ms\n",
      "308:\tlearn: 0.1091510\ttotal: 223ms\tremaining: 498ms\n",
      "309:\tlearn: 0.1089792\ttotal: 223ms\tremaining: 497ms\n",
      "310:\tlearn: 0.1088092\ttotal: 224ms\tremaining: 495ms\n",
      "311:\tlearn: 0.1080300\ttotal: 224ms\tremaining: 494ms\n",
      "312:\tlearn: 0.1072546\ttotal: 224ms\tremaining: 493ms\n",
      "313:\tlearn: 0.1065668\ttotal: 225ms\tremaining: 491ms\n",
      "314:\tlearn: 0.1064027\ttotal: 225ms\tremaining: 490ms\n",
      "315:\tlearn: 0.1056650\ttotal: 226ms\tremaining: 488ms\n",
      "316:\tlearn: 0.1047735\ttotal: 226ms\tremaining: 487ms\n",
      "317:\tlearn: 0.1040291\ttotal: 227ms\tremaining: 486ms\n",
      "318:\tlearn: 0.1032682\ttotal: 227ms\tremaining: 485ms\n",
      "319:\tlearn: 0.1029495\ttotal: 228ms\tremaining: 484ms\n",
      "320:\tlearn: 0.1026863\ttotal: 228ms\tremaining: 482ms\n",
      "321:\tlearn: 0.1019821\ttotal: 229ms\tremaining: 481ms\n",
      "322:\tlearn: 0.1012863\ttotal: 229ms\tremaining: 480ms\n",
      "323:\tlearn: 0.1009790\ttotal: 229ms\tremaining: 479ms\n",
      "324:\tlearn: 0.1007820\ttotal: 230ms\tremaining: 478ms\n",
      "325:\tlearn: 0.1000616\ttotal: 230ms\tremaining: 476ms\n",
      "326:\tlearn: 0.0994460\ttotal: 231ms\tremaining: 475ms\n",
      "327:\tlearn: 0.0991486\ttotal: 232ms\tremaining: 475ms\n",
      "328:\tlearn: 0.0983592\ttotal: 232ms\tremaining: 473ms\n",
      "329:\tlearn: 0.0977965\ttotal: 233ms\tremaining: 473ms\n",
      "330:\tlearn: 0.0976086\ttotal: 233ms\tremaining: 471ms\n",
      "331:\tlearn: 0.0974895\ttotal: 234ms\tremaining: 470ms\n",
      "332:\tlearn: 0.0966275\ttotal: 234ms\tremaining: 469ms\n",
      "333:\tlearn: 0.0963903\ttotal: 235ms\tremaining: 468ms\n",
      "334:\tlearn: 0.0960918\ttotal: 235ms\tremaining: 467ms\n",
      "335:\tlearn: 0.0959768\ttotal: 236ms\tremaining: 466ms\n",
      "336:\tlearn: 0.0953532\ttotal: 236ms\tremaining: 464ms\n",
      "337:\tlearn: 0.0946604\ttotal: 236ms\tremaining: 463ms\n",
      "338:\tlearn: 0.0940425\ttotal: 237ms\tremaining: 462ms\n",
      "339:\tlearn: 0.0934829\ttotal: 237ms\tremaining: 461ms\n",
      "340:\tlearn: 0.0932575\ttotal: 238ms\tremaining: 459ms\n",
      "341:\tlearn: 0.0929579\ttotal: 238ms\tremaining: 458ms\n",
      "342:\tlearn: 0.0922624\ttotal: 239ms\tremaining: 457ms\n",
      "343:\tlearn: 0.0920934\ttotal: 239ms\tremaining: 456ms\n",
      "344:\tlearn: 0.0919860\ttotal: 240ms\tremaining: 455ms\n",
      "345:\tlearn: 0.0917709\ttotal: 240ms\tremaining: 454ms\n",
      "346:\tlearn: 0.0911535\ttotal: 241ms\tremaining: 453ms\n",
      "347:\tlearn: 0.0903731\ttotal: 241ms\tremaining: 452ms\n",
      "348:\tlearn: 0.0896335\ttotal: 241ms\tremaining: 450ms\n",
      "349:\tlearn: 0.0894263\ttotal: 242ms\tremaining: 449ms\n",
      "350:\tlearn: 0.0892681\ttotal: 242ms\tremaining: 448ms\n",
      "351:\tlearn: 0.0886284\ttotal: 243ms\tremaining: 447ms\n",
      "352:\tlearn: 0.0879907\ttotal: 243ms\tremaining: 446ms\n",
      "353:\tlearn: 0.0875083\ttotal: 244ms\tremaining: 445ms\n",
      "354:\tlearn: 0.0869357\ttotal: 244ms\tremaining: 444ms\n",
      "355:\tlearn: 0.0868374\ttotal: 245ms\tremaining: 443ms\n",
      "356:\tlearn: 0.0862033\ttotal: 245ms\tremaining: 442ms\n",
      "357:\tlearn: 0.0857513\ttotal: 246ms\tremaining: 441ms\n",
      "358:\tlearn: 0.0850459\ttotal: 247ms\tremaining: 440ms\n",
      "359:\tlearn: 0.0848988\ttotal: 247ms\tremaining: 439ms\n",
      "360:\tlearn: 0.0848050\ttotal: 248ms\tremaining: 438ms\n",
      "361:\tlearn: 0.0842043\ttotal: 248ms\tremaining: 437ms\n",
      "362:\tlearn: 0.0836143\ttotal: 249ms\tremaining: 436ms\n",
      "363:\tlearn: 0.0835229\ttotal: 249ms\tremaining: 435ms\n",
      "364:\tlearn: 0.0834326\ttotal: 249ms\tremaining: 434ms\n",
      "365:\tlearn: 0.0830099\ttotal: 250ms\tremaining: 432ms\n",
      "366:\tlearn: 0.0825620\ttotal: 250ms\tremaining: 431ms\n",
      "367:\tlearn: 0.0819723\ttotal: 251ms\tremaining: 431ms\n",
      "368:\tlearn: 0.0814096\ttotal: 251ms\tremaining: 430ms\n",
      "369:\tlearn: 0.0808587\ttotal: 252ms\tremaining: 429ms\n",
      "370:\tlearn: 0.0807226\ttotal: 252ms\tremaining: 428ms\n",
      "371:\tlearn: 0.0801844\ttotal: 253ms\tremaining: 427ms\n",
      "372:\tlearn: 0.0797586\ttotal: 253ms\tremaining: 426ms\n",
      "373:\tlearn: 0.0795876\ttotal: 254ms\tremaining: 425ms\n",
      "374:\tlearn: 0.0794197\ttotal: 254ms\tremaining: 424ms\n",
      "375:\tlearn: 0.0792916\ttotal: 255ms\tremaining: 423ms\n",
      "376:\tlearn: 0.0788130\ttotal: 256ms\tremaining: 423ms\n",
      "377:\tlearn: 0.0784037\ttotal: 256ms\tremaining: 422ms\n",
      "378:\tlearn: 0.0779915\ttotal: 257ms\tremaining: 420ms\n",
      "379:\tlearn: 0.0774109\ttotal: 257ms\tremaining: 420ms\n",
      "380:\tlearn: 0.0768059\ttotal: 258ms\tremaining: 418ms\n",
      "381:\tlearn: 0.0764146\ttotal: 258ms\tremaining: 418ms\n",
      "382:\tlearn: 0.0758287\ttotal: 259ms\tremaining: 417ms\n",
      "383:\tlearn: 0.0753126\ttotal: 259ms\tremaining: 415ms\n",
      "384:\tlearn: 0.0748168\ttotal: 259ms\tremaining: 414ms\n",
      "385:\tlearn: 0.0742574\ttotal: 260ms\tremaining: 413ms\n",
      "386:\tlearn: 0.0737151\ttotal: 260ms\tremaining: 412ms\n",
      "387:\tlearn: 0.0733142\ttotal: 261ms\tremaining: 411ms\n",
      "388:\tlearn: 0.0729491\ttotal: 261ms\tremaining: 410ms\n",
      "389:\tlearn: 0.0724096\ttotal: 262ms\tremaining: 409ms\n",
      "390:\tlearn: 0.0718849\ttotal: 262ms\tremaining: 409ms\n",
      "391:\tlearn: 0.0715253\ttotal: 263ms\tremaining: 408ms\n",
      "392:\tlearn: 0.0710180\ttotal: 263ms\tremaining: 407ms\n",
      "393:\tlearn: 0.0706920\ttotal: 264ms\tremaining: 406ms\n",
      "394:\tlearn: 0.0705502\ttotal: 264ms\tremaining: 405ms\n",
      "395:\tlearn: 0.0702054\ttotal: 265ms\tremaining: 404ms\n",
      "396:\tlearn: 0.0697137\ttotal: 266ms\tremaining: 403ms\n",
      "397:\tlearn: 0.0696068\ttotal: 266ms\tremaining: 402ms\n",
      "398:\tlearn: 0.0692949\ttotal: 266ms\tremaining: 401ms\n",
      "399:\tlearn: 0.0688206\ttotal: 267ms\tremaining: 400ms\n",
      "400:\tlearn: 0.0687162\ttotal: 267ms\tremaining: 399ms\n",
      "401:\tlearn: 0.0682983\ttotal: 268ms\tremaining: 399ms\n",
      "402:\tlearn: 0.0680018\ttotal: 268ms\tremaining: 398ms\n",
      "403:\tlearn: 0.0675712\ttotal: 269ms\tremaining: 397ms\n",
      "404:\tlearn: 0.0671134\ttotal: 269ms\tremaining: 396ms\n",
      "405:\tlearn: 0.0670121\ttotal: 270ms\tremaining: 395ms\n",
      "406:\tlearn: 0.0669123\ttotal: 270ms\tremaining: 394ms\n",
      "407:\tlearn: 0.0664978\ttotal: 271ms\tremaining: 393ms\n",
      "408:\tlearn: 0.0663996\ttotal: 271ms\tremaining: 392ms\n",
      "409:\tlearn: 0.0660117\ttotal: 272ms\tremaining: 391ms\n",
      "410:\tlearn: 0.0656079\ttotal: 272ms\tremaining: 390ms\n",
      "411:\tlearn: 0.0651868\ttotal: 273ms\tremaining: 389ms\n",
      "412:\tlearn: 0.0647666\ttotal: 273ms\tremaining: 388ms\n",
      "413:\tlearn: 0.0646716\ttotal: 274ms\tremaining: 387ms\n",
      "414:\tlearn: 0.0643033\ttotal: 274ms\tremaining: 387ms\n",
      "415:\tlearn: 0.0640029\ttotal: 275ms\tremaining: 386ms\n",
      "416:\tlearn: 0.0636194\ttotal: 275ms\tremaining: 385ms\n",
      "417:\tlearn: 0.0635273\ttotal: 276ms\tremaining: 384ms\n",
      "418:\tlearn: 0.0631524\ttotal: 276ms\tremaining: 383ms\n",
      "419:\tlearn: 0.0627241\ttotal: 277ms\tremaining: 382ms\n",
      "420:\tlearn: 0.0623242\ttotal: 277ms\tremaining: 381ms\n",
      "421:\tlearn: 0.0621575\ttotal: 278ms\tremaining: 380ms\n",
      "422:\tlearn: 0.0618104\ttotal: 278ms\tremaining: 380ms\n",
      "423:\tlearn: 0.0614252\ttotal: 279ms\tremaining: 379ms\n",
      "424:\tlearn: 0.0610156\ttotal: 279ms\tremaining: 378ms\n",
      "425:\tlearn: 0.0606160\ttotal: 280ms\tremaining: 377ms\n",
      "426:\tlearn: 0.0602246\ttotal: 280ms\tremaining: 376ms\n",
      "427:\tlearn: 0.0598380\ttotal: 281ms\tremaining: 376ms\n",
      "428:\tlearn: 0.0595499\ttotal: 282ms\tremaining: 375ms\n",
      "429:\tlearn: 0.0593915\ttotal: 282ms\tremaining: 374ms\n",
      "430:\tlearn: 0.0590146\ttotal: 283ms\tremaining: 373ms\n",
      "431:\tlearn: 0.0587413\ttotal: 283ms\tremaining: 372ms\n",
      "432:\tlearn: 0.0583742\ttotal: 284ms\tremaining: 371ms\n",
      "433:\tlearn: 0.0581680\ttotal: 284ms\tremaining: 371ms\n",
      "434:\tlearn: 0.0578268\ttotal: 285ms\tremaining: 370ms\n",
      "435:\tlearn: 0.0576259\ttotal: 285ms\tremaining: 369ms\n",
      "436:\tlearn: 0.0572757\ttotal: 286ms\tremaining: 368ms\n",
      "437:\tlearn: 0.0570074\ttotal: 286ms\tremaining: 367ms\n",
      "438:\tlearn: 0.0566683\ttotal: 287ms\tremaining: 366ms\n",
      "439:\tlearn: 0.0563679\ttotal: 287ms\tremaining: 365ms\n",
      "440:\tlearn: 0.0560736\ttotal: 288ms\tremaining: 365ms\n",
      "441:\tlearn: 0.0558133\ttotal: 288ms\tremaining: 364ms\n",
      "442:\tlearn: 0.0555256\ttotal: 288ms\tremaining: 363ms\n",
      "443:\tlearn: 0.0552372\ttotal: 289ms\tremaining: 362ms\n",
      "444:\tlearn: 0.0549907\ttotal: 290ms\tremaining: 361ms\n",
      "445:\tlearn: 0.0547097\ttotal: 290ms\tremaining: 360ms\n"
     ]
    },
    {
     "name": "stdout",
     "output_type": "stream",
     "text": [
      "446:\tlearn: 0.0545007\ttotal: 291ms\tremaining: 359ms\n",
      "447:\tlearn: 0.0542962\ttotal: 291ms\tremaining: 359ms\n",
      "448:\tlearn: 0.0540961\ttotal: 292ms\tremaining: 358ms\n",
      "449:\tlearn: 0.0538229\ttotal: 292ms\tremaining: 357ms\n",
      "450:\tlearn: 0.0535773\ttotal: 293ms\tremaining: 356ms\n",
      "451:\tlearn: 0.0533466\ttotal: 293ms\tremaining: 356ms\n",
      "452:\tlearn: 0.0531088\ttotal: 294ms\tremaining: 355ms\n",
      "453:\tlearn: 0.0528708\ttotal: 294ms\tremaining: 354ms\n",
      "454:\tlearn: 0.0525552\ttotal: 295ms\tremaining: 353ms\n",
      "455:\tlearn: 0.0523264\ttotal: 295ms\tremaining: 352ms\n",
      "456:\tlearn: 0.0520950\ttotal: 295ms\tremaining: 351ms\n",
      "457:\tlearn: 0.0518722\ttotal: 296ms\tremaining: 350ms\n",
      "458:\tlearn: 0.0515688\ttotal: 296ms\tremaining: 349ms\n",
      "459:\tlearn: 0.0513529\ttotal: 297ms\tremaining: 349ms\n",
      "460:\tlearn: 0.0510584\ttotal: 298ms\tremaining: 348ms\n",
      "461:\tlearn: 0.0510008\ttotal: 298ms\tremaining: 347ms\n",
      "462:\tlearn: 0.0507324\ttotal: 298ms\tremaining: 346ms\n",
      "463:\tlearn: 0.0504703\ttotal: 299ms\tremaining: 345ms\n",
      "464:\tlearn: 0.0502301\ttotal: 299ms\tremaining: 344ms\n",
      "465:\tlearn: 0.0499636\ttotal: 300ms\tremaining: 343ms\n",
      "466:\tlearn: 0.0497119\ttotal: 300ms\tremaining: 343ms\n",
      "467:\tlearn: 0.0494874\ttotal: 301ms\tremaining: 342ms\n",
      "468:\tlearn: 0.0492424\ttotal: 301ms\tremaining: 341ms\n",
      "469:\tlearn: 0.0490169\ttotal: 301ms\tremaining: 340ms\n",
      "470:\tlearn: 0.0488407\ttotal: 302ms\tremaining: 339ms\n",
      "471:\tlearn: 0.0486530\ttotal: 302ms\tremaining: 338ms\n",
      "472:\tlearn: 0.0484191\ttotal: 303ms\tremaining: 337ms\n",
      "473:\tlearn: 0.0482042\ttotal: 303ms\tremaining: 337ms\n",
      "474:\tlearn: 0.0479956\ttotal: 304ms\tremaining: 336ms\n",
      "475:\tlearn: 0.0477946\ttotal: 304ms\tremaining: 335ms\n",
      "476:\tlearn: 0.0475388\ttotal: 305ms\tremaining: 334ms\n",
      "477:\tlearn: 0.0473392\ttotal: 305ms\tremaining: 333ms\n",
      "478:\tlearn: 0.0471398\ttotal: 306ms\tremaining: 332ms\n",
      "479:\tlearn: 0.0469613\ttotal: 306ms\tremaining: 332ms\n",
      "480:\tlearn: 0.0467155\ttotal: 307ms\tremaining: 331ms\n",
      "481:\tlearn: 0.0465412\ttotal: 307ms\tremaining: 330ms\n",
      "482:\tlearn: 0.0462978\ttotal: 308ms\tremaining: 329ms\n",
      "483:\tlearn: 0.0461003\ttotal: 308ms\tremaining: 328ms\n",
      "484:\tlearn: 0.0459146\ttotal: 308ms\tremaining: 328ms\n",
      "485:\tlearn: 0.0456994\ttotal: 309ms\tremaining: 327ms\n",
      "486:\tlearn: 0.0456362\ttotal: 309ms\tremaining: 326ms\n",
      "487:\tlearn: 0.0454471\ttotal: 310ms\tremaining: 325ms\n",
      "488:\tlearn: 0.0452576\ttotal: 310ms\tremaining: 324ms\n",
      "489:\tlearn: 0.0450914\ttotal: 311ms\tremaining: 324ms\n",
      "490:\tlearn: 0.0449070\ttotal: 312ms\tremaining: 323ms\n",
      "491:\tlearn: 0.0448453\ttotal: 312ms\tremaining: 322ms\n",
      "492:\tlearn: 0.0447843\ttotal: 312ms\tremaining: 321ms\n",
      "493:\tlearn: 0.0445416\ttotal: 313ms\tremaining: 320ms\n",
      "494:\tlearn: 0.0443668\ttotal: 313ms\tremaining: 319ms\n",
      "495:\tlearn: 0.0443073\ttotal: 314ms\tremaining: 319ms\n",
      "496:\tlearn: 0.0442483\ttotal: 314ms\tremaining: 318ms\n",
      "497:\tlearn: 0.0440670\ttotal: 315ms\tremaining: 317ms\n",
      "498:\tlearn: 0.0438331\ttotal: 315ms\tremaining: 316ms\n",
      "499:\tlearn: 0.0435908\ttotal: 316ms\tremaining: 316ms\n",
      "500:\tlearn: 0.0433640\ttotal: 316ms\tremaining: 315ms\n",
      "501:\tlearn: 0.0431734\ttotal: 317ms\tremaining: 314ms\n",
      "502:\tlearn: 0.0429498\ttotal: 317ms\tremaining: 313ms\n",
      "503:\tlearn: 0.0427313\ttotal: 317ms\tremaining: 312ms\n",
      "504:\tlearn: 0.0425231\ttotal: 318ms\tremaining: 312ms\n",
      "505:\tlearn: 0.0424682\ttotal: 318ms\tremaining: 311ms\n",
      "506:\tlearn: 0.0422438\ttotal: 319ms\tremaining: 310ms\n",
      "507:\tlearn: 0.0420435\ttotal: 320ms\tremaining: 309ms\n",
      "508:\tlearn: 0.0418270\ttotal: 320ms\tremaining: 309ms\n",
      "509:\tlearn: 0.0416500\ttotal: 321ms\tremaining: 308ms\n",
      "510:\tlearn: 0.0415974\ttotal: 321ms\tremaining: 307ms\n",
      "511:\tlearn: 0.0414052\ttotal: 322ms\tremaining: 307ms\n",
      "512:\tlearn: 0.0412344\ttotal: 322ms\tremaining: 306ms\n",
      "513:\tlearn: 0.0410352\ttotal: 323ms\tremaining: 305ms\n",
      "514:\tlearn: 0.0408487\ttotal: 323ms\tremaining: 304ms\n",
      "515:\tlearn: 0.0407979\ttotal: 324ms\tremaining: 304ms\n",
      "516:\tlearn: 0.0406340\ttotal: 324ms\tremaining: 303ms\n",
      "517:\tlearn: 0.0404488\ttotal: 325ms\tremaining: 302ms\n",
      "518:\tlearn: 0.0402902\ttotal: 325ms\tremaining: 301ms\n",
      "519:\tlearn: 0.0400759\ttotal: 325ms\tremaining: 300ms\n",
      "520:\tlearn: 0.0400270\ttotal: 326ms\tremaining: 300ms\n",
      "521:\tlearn: 0.0398737\ttotal: 326ms\tremaining: 299ms\n",
      "522:\tlearn: 0.0397365\ttotal: 327ms\tremaining: 298ms\n",
      "523:\tlearn: 0.0395528\ttotal: 327ms\tremaining: 297ms\n",
      "524:\tlearn: 0.0393958\ttotal: 328ms\tremaining: 297ms\n",
      "525:\tlearn: 0.0392433\ttotal: 328ms\tremaining: 296ms\n",
      "526:\tlearn: 0.0391344\ttotal: 329ms\tremaining: 295ms\n",
      "527:\tlearn: 0.0390877\ttotal: 329ms\tremaining: 295ms\n",
      "528:\tlearn: 0.0389579\ttotal: 330ms\tremaining: 294ms\n",
      "529:\tlearn: 0.0388349\ttotal: 330ms\tremaining: 293ms\n",
      "530:\tlearn: 0.0387893\ttotal: 331ms\tremaining: 292ms\n",
      "531:\tlearn: 0.0386444\ttotal: 331ms\tremaining: 291ms\n",
      "532:\tlearn: 0.0385995\ttotal: 332ms\tremaining: 291ms\n",
      "533:\tlearn: 0.0384740\ttotal: 332ms\tremaining: 290ms\n",
      "534:\tlearn: 0.0384299\ttotal: 332ms\tremaining: 289ms\n",
      "535:\tlearn: 0.0383073\ttotal: 333ms\tremaining: 288ms\n",
      "536:\tlearn: 0.0382010\ttotal: 334ms\tremaining: 288ms\n",
      "537:\tlearn: 0.0381579\ttotal: 334ms\tremaining: 287ms\n",
      "538:\tlearn: 0.0380570\ttotal: 334ms\tremaining: 286ms\n",
      "539:\tlearn: 0.0380146\ttotal: 335ms\tremaining: 285ms\n",
      "540:\tlearn: 0.0378499\ttotal: 335ms\tremaining: 284ms\n",
      "541:\tlearn: 0.0376893\ttotal: 336ms\tremaining: 284ms\n",
      "542:\tlearn: 0.0375730\ttotal: 336ms\tremaining: 283ms\n",
      "543:\tlearn: 0.0374176\ttotal: 337ms\tremaining: 282ms\n",
      "544:\tlearn: 0.0373036\ttotal: 337ms\tremaining: 281ms\n",
      "545:\tlearn: 0.0371927\ttotal: 337ms\tremaining: 281ms\n",
      "546:\tlearn: 0.0370806\ttotal: 338ms\tremaining: 280ms\n",
      "547:\tlearn: 0.0369306\ttotal: 338ms\tremaining: 279ms\n",
      "548:\tlearn: 0.0368355\ttotal: 339ms\tremaining: 278ms\n",
      "549:\tlearn: 0.0367360\ttotal: 339ms\tremaining: 278ms\n",
      "550:\tlearn: 0.0365920\ttotal: 340ms\tremaining: 277ms\n",
      "551:\tlearn: 0.0364469\ttotal: 340ms\tremaining: 276ms\n",
      "552:\tlearn: 0.0363229\ttotal: 341ms\tremaining: 275ms\n",
      "553:\tlearn: 0.0362319\ttotal: 341ms\tremaining: 275ms\n",
      "554:\tlearn: 0.0360913\ttotal: 342ms\tremaining: 274ms\n",
      "555:\tlearn: 0.0359930\ttotal: 342ms\tremaining: 273ms\n",
      "556:\tlearn: 0.0358909\ttotal: 342ms\tremaining: 272ms\n",
      "557:\tlearn: 0.0358030\ttotal: 343ms\tremaining: 271ms\n",
      "558:\tlearn: 0.0357031\ttotal: 343ms\tremaining: 271ms\n",
      "559:\tlearn: 0.0356493\ttotal: 344ms\tremaining: 270ms\n",
      "560:\tlearn: 0.0355328\ttotal: 344ms\tremaining: 269ms\n",
      "561:\tlearn: 0.0353996\ttotal: 345ms\tremaining: 268ms\n",
      "562:\tlearn: 0.0351928\ttotal: 345ms\tremaining: 268ms\n",
      "563:\tlearn: 0.0349897\ttotal: 345ms\tremaining: 267ms\n",
      "564:\tlearn: 0.0347904\ttotal: 346ms\tremaining: 266ms\n",
      "565:\tlearn: 0.0345948\ttotal: 346ms\tremaining: 266ms\n",
      "566:\tlearn: 0.0344028\ttotal: 347ms\tremaining: 265ms\n",
      "567:\tlearn: 0.0342143\ttotal: 347ms\tremaining: 264ms\n",
      "568:\tlearn: 0.0340293\ttotal: 348ms\tremaining: 263ms\n",
      "569:\tlearn: 0.0339100\ttotal: 348ms\tremaining: 263ms\n",
      "570:\tlearn: 0.0337928\ttotal: 349ms\tremaining: 262ms\n",
      "571:\tlearn: 0.0336227\ttotal: 349ms\tremaining: 261ms\n",
      "572:\tlearn: 0.0335092\ttotal: 350ms\tremaining: 261ms\n",
      "573:\tlearn: 0.0333977\ttotal: 350ms\tremaining: 260ms\n",
      "574:\tlearn: 0.0332881\ttotal: 351ms\tremaining: 259ms\n",
      "575:\tlearn: 0.0331266\ttotal: 351ms\tremaining: 259ms\n",
      "576:\tlearn: 0.0330205\ttotal: 352ms\tremaining: 258ms\n",
      "577:\tlearn: 0.0329163\ttotal: 352ms\tremaining: 257ms\n",
      "578:\tlearn: 0.0328139\ttotal: 353ms\tremaining: 257ms\n",
      "579:\tlearn: 0.0326606\ttotal: 353ms\tremaining: 256ms\n",
      "580:\tlearn: 0.0325614\ttotal: 354ms\tremaining: 255ms\n",
      "581:\tlearn: 0.0324640\ttotal: 354ms\tremaining: 255ms\n",
      "582:\tlearn: 0.0322823\ttotal: 355ms\tremaining: 254ms\n",
      "583:\tlearn: 0.0321486\ttotal: 355ms\tremaining: 253ms\n",
      "584:\tlearn: 0.0320553\ttotal: 356ms\tremaining: 253ms\n",
      "585:\tlearn: 0.0318806\ttotal: 356ms\tremaining: 252ms\n",
      "586:\tlearn: 0.0317527\ttotal: 357ms\tremaining: 251ms\n",
      "587:\tlearn: 0.0315839\ttotal: 357ms\tremaining: 250ms\n",
      "588:\tlearn: 0.0314021\ttotal: 358ms\tremaining: 250ms\n",
      "589:\tlearn: 0.0312135\ttotal: 358ms\tremaining: 249ms\n",
      "590:\tlearn: 0.0310406\ttotal: 359ms\tremaining: 248ms\n",
      "591:\tlearn: 0.0308721\ttotal: 360ms\tremaining: 248ms\n",
      "592:\tlearn: 0.0306968\ttotal: 360ms\tremaining: 247ms\n",
      "593:\tlearn: 0.0305365\ttotal: 360ms\tremaining: 246ms\n",
      "594:\tlearn: 0.0303802\ttotal: 361ms\tremaining: 246ms\n",
      "595:\tlearn: 0.0302173\ttotal: 361ms\tremaining: 245ms\n",
      "596:\tlearn: 0.0300686\ttotal: 362ms\tremaining: 244ms\n",
      "597:\tlearn: 0.0299238\ttotal: 362ms\tremaining: 244ms\n",
      "598:\tlearn: 0.0297987\ttotal: 363ms\tremaining: 243ms\n",
      "599:\tlearn: 0.0296761\ttotal: 363ms\tremaining: 242ms\n",
      "600:\tlearn: 0.0295560\ttotal: 364ms\tremaining: 242ms\n",
      "601:\tlearn: 0.0294055\ttotal: 364ms\tremaining: 241ms\n",
      "602:\tlearn: 0.0292882\ttotal: 365ms\tremaining: 240ms\n",
      "603:\tlearn: 0.0291733\ttotal: 365ms\tremaining: 239ms\n",
      "604:\tlearn: 0.0290947\ttotal: 366ms\tremaining: 239ms\n",
      "605:\tlearn: 0.0289965\ttotal: 366ms\tremaining: 238ms\n",
      "606:\tlearn: 0.0289202\ttotal: 367ms\tremaining: 237ms\n",
      "607:\tlearn: 0.0288126\ttotal: 367ms\tremaining: 237ms\n",
      "608:\tlearn: 0.0286775\ttotal: 367ms\tremaining: 236ms\n",
      "609:\tlearn: 0.0285734\ttotal: 368ms\tremaining: 235ms\n",
      "610:\tlearn: 0.0284419\ttotal: 368ms\tremaining: 234ms\n",
      "611:\tlearn: 0.0282627\ttotal: 368ms\tremaining: 234ms\n",
      "612:\tlearn: 0.0280866\ttotal: 369ms\tremaining: 233ms\n",
      "613:\tlearn: 0.0280157\ttotal: 369ms\tremaining: 232ms\n"
     ]
    },
    {
     "name": "stdout",
     "output_type": "stream",
     "text": [
      "614:\tlearn: 0.0278689\ttotal: 370ms\tremaining: 232ms\n",
      "615:\tlearn: 0.0276967\ttotal: 371ms\tremaining: 231ms\n",
      "616:\tlearn: 0.0275275\ttotal: 371ms\tremaining: 230ms\n",
      "617:\tlearn: 0.0273578\ttotal: 372ms\tremaining: 230ms\n",
      "618:\tlearn: 0.0272253\ttotal: 373ms\tremaining: 229ms\n",
      "619:\tlearn: 0.0271355\ttotal: 373ms\tremaining: 229ms\n",
      "620:\tlearn: 0.0269726\ttotal: 374ms\tremaining: 228ms\n",
      "621:\tlearn: 0.0268088\ttotal: 374ms\tremaining: 227ms\n",
      "622:\tlearn: 0.0267223\ttotal: 375ms\tremaining: 227ms\n",
      "623:\tlearn: 0.0265566\ttotal: 375ms\tremaining: 226ms\n",
      "624:\tlearn: 0.0264740\ttotal: 376ms\tremaining: 225ms\n",
      "625:\tlearn: 0.0263114\ttotal: 376ms\tremaining: 225ms\n",
      "626:\tlearn: 0.0262292\ttotal: 377ms\tremaining: 224ms\n",
      "627:\tlearn: 0.0260742\ttotal: 377ms\tremaining: 223ms\n",
      "628:\tlearn: 0.0259955\ttotal: 378ms\tremaining: 223ms\n",
      "629:\tlearn: 0.0258387\ttotal: 378ms\tremaining: 222ms\n",
      "630:\tlearn: 0.0257607\ttotal: 378ms\tremaining: 221ms\n",
      "631:\tlearn: 0.0256191\ttotal: 379ms\tremaining: 221ms\n",
      "632:\tlearn: 0.0255609\ttotal: 379ms\tremaining: 220ms\n",
      "633:\tlearn: 0.0254248\ttotal: 380ms\tremaining: 219ms\n",
      "634:\tlearn: 0.0253510\ttotal: 380ms\tremaining: 219ms\n",
      "635:\tlearn: 0.0252157\ttotal: 381ms\tremaining: 218ms\n",
      "636:\tlearn: 0.0251274\ttotal: 381ms\tremaining: 217ms\n",
      "637:\tlearn: 0.0250723\ttotal: 382ms\tremaining: 217ms\n",
      "638:\tlearn: 0.0249541\ttotal: 382ms\tremaining: 216ms\n",
      "639:\tlearn: 0.0248673\ttotal: 383ms\tremaining: 215ms\n",
      "640:\tlearn: 0.0247860\ttotal: 383ms\tremaining: 215ms\n",
      "641:\tlearn: 0.0247173\ttotal: 383ms\tremaining: 214ms\n",
      "642:\tlearn: 0.0246028\ttotal: 384ms\tremaining: 213ms\n",
      "643:\tlearn: 0.0245016\ttotal: 385ms\tremaining: 213ms\n",
      "644:\tlearn: 0.0243898\ttotal: 385ms\tremaining: 212ms\n",
      "645:\tlearn: 0.0243385\ttotal: 385ms\tremaining: 211ms\n",
      "646:\tlearn: 0.0242293\ttotal: 386ms\tremaining: 211ms\n",
      "647:\tlearn: 0.0241513\ttotal: 386ms\tremaining: 210ms\n",
      "648:\tlearn: 0.0240534\ttotal: 387ms\tremaining: 209ms\n",
      "649:\tlearn: 0.0239772\ttotal: 388ms\tremaining: 209ms\n",
      "650:\tlearn: 0.0238712\ttotal: 388ms\tremaining: 208ms\n",
      "651:\tlearn: 0.0237763\ttotal: 389ms\tremaining: 208ms\n",
      "652:\tlearn: 0.0236530\ttotal: 390ms\tremaining: 207ms\n",
      "653:\tlearn: 0.0235808\ttotal: 390ms\tremaining: 207ms\n",
      "654:\tlearn: 0.0234611\ttotal: 391ms\tremaining: 206ms\n",
      "655:\tlearn: 0.0233366\ttotal: 391ms\tremaining: 205ms\n",
      "656:\tlearn: 0.0232206\ttotal: 392ms\tremaining: 205ms\n",
      "657:\tlearn: 0.0231079\ttotal: 392ms\tremaining: 204ms\n",
      "658:\tlearn: 0.0230076\ttotal: 393ms\tremaining: 203ms\n",
      "659:\tlearn: 0.0229589\ttotal: 394ms\tremaining: 203ms\n",
      "660:\tlearn: 0.0228905\ttotal: 395ms\tremaining: 202ms\n",
      "661:\tlearn: 0.0227863\ttotal: 395ms\tremaining: 202ms\n",
      "662:\tlearn: 0.0226906\ttotal: 396ms\tremaining: 201ms\n",
      "663:\tlearn: 0.0225857\ttotal: 396ms\tremaining: 200ms\n",
      "664:\tlearn: 0.0224818\ttotal: 396ms\tremaining: 200ms\n",
      "665:\tlearn: 0.0224356\ttotal: 397ms\tremaining: 199ms\n",
      "666:\tlearn: 0.0223272\ttotal: 397ms\tremaining: 198ms\n",
      "667:\tlearn: 0.0222651\ttotal: 398ms\tremaining: 198ms\n",
      "668:\tlearn: 0.0222045\ttotal: 398ms\tremaining: 197ms\n",
      "669:\tlearn: 0.0221063\ttotal: 398ms\tremaining: 196ms\n",
      "670:\tlearn: 0.0220221\ttotal: 399ms\tremaining: 196ms\n",
      "671:\tlearn: 0.0219633\ttotal: 400ms\tremaining: 195ms\n",
      "672:\tlearn: 0.0218644\ttotal: 400ms\tremaining: 194ms\n",
      "673:\tlearn: 0.0218071\ttotal: 401ms\tremaining: 194ms\n",
      "674:\tlearn: 0.0217053\ttotal: 401ms\tremaining: 193ms\n",
      "675:\tlearn: 0.0216498\ttotal: 402ms\tremaining: 193ms\n",
      "676:\tlearn: 0.0215940\ttotal: 402ms\tremaining: 192ms\n",
      "677:\tlearn: 0.0214974\ttotal: 403ms\tremaining: 191ms\n",
      "678:\tlearn: 0.0214171\ttotal: 404ms\tremaining: 191ms\n",
      "679:\tlearn: 0.0213673\ttotal: 404ms\tremaining: 190ms\n",
      "680:\tlearn: 0.0212736\ttotal: 404ms\tremaining: 189ms\n",
      "681:\tlearn: 0.0212216\ttotal: 405ms\tremaining: 189ms\n",
      "682:\tlearn: 0.0211330\ttotal: 405ms\tremaining: 188ms\n",
      "683:\tlearn: 0.0210552\ttotal: 406ms\tremaining: 187ms\n",
      "684:\tlearn: 0.0210047\ttotal: 406ms\tremaining: 187ms\n",
      "685:\tlearn: 0.0208672\ttotal: 407ms\tremaining: 186ms\n",
      "686:\tlearn: 0.0207917\ttotal: 407ms\tremaining: 186ms\n",
      "687:\tlearn: 0.0207483\ttotal: 408ms\tremaining: 185ms\n",
      "688:\tlearn: 0.0206146\ttotal: 408ms\tremaining: 184ms\n",
      "689:\tlearn: 0.0205412\ttotal: 409ms\tremaining: 184ms\n",
      "690:\tlearn: 0.0204987\ttotal: 409ms\tremaining: 183ms\n",
      "691:\tlearn: 0.0204582\ttotal: 410ms\tremaining: 182ms\n",
      "692:\tlearn: 0.0204213\ttotal: 410ms\tremaining: 182ms\n",
      "693:\tlearn: 0.0203815\ttotal: 411ms\tremaining: 181ms\n",
      "694:\tlearn: 0.0202867\ttotal: 411ms\tremaining: 180ms\n",
      "695:\tlearn: 0.0201915\ttotal: 412ms\tremaining: 180ms\n",
      "696:\tlearn: 0.0201502\ttotal: 412ms\tremaining: 179ms\n",
      "697:\tlearn: 0.0201112\ttotal: 413ms\tremaining: 179ms\n",
      "698:\tlearn: 0.0200186\ttotal: 413ms\tremaining: 178ms\n",
      "699:\tlearn: 0.0199276\ttotal: 414ms\tremaining: 177ms\n",
      "700:\tlearn: 0.0198381\ttotal: 414ms\tremaining: 177ms\n",
      "701:\tlearn: 0.0197500\ttotal: 415ms\tremaining: 176ms\n",
      "702:\tlearn: 0.0196584\ttotal: 415ms\tremaining: 175ms\n",
      "703:\tlearn: 0.0195722\ttotal: 416ms\tremaining: 175ms\n",
      "704:\tlearn: 0.0194874\ttotal: 417ms\tremaining: 174ms\n",
      "705:\tlearn: 0.0193952\ttotal: 417ms\tremaining: 174ms\n",
      "706:\tlearn: 0.0192962\ttotal: 418ms\tremaining: 173ms\n",
      "707:\tlearn: 0.0192135\ttotal: 418ms\tremaining: 173ms\n",
      "708:\tlearn: 0.0191169\ttotal: 419ms\tremaining: 172ms\n",
      "709:\tlearn: 0.0190072\ttotal: 419ms\tremaining: 171ms\n",
      "710:\tlearn: 0.0189120\ttotal: 420ms\tremaining: 171ms\n",
      "711:\tlearn: 0.0188264\ttotal: 420ms\tremaining: 170ms\n",
      "712:\tlearn: 0.0186987\ttotal: 420ms\tremaining: 169ms\n",
      "713:\tlearn: 0.0185953\ttotal: 421ms\tremaining: 169ms\n",
      "714:\tlearn: 0.0185378\ttotal: 421ms\tremaining: 168ms\n",
      "715:\tlearn: 0.0184609\ttotal: 422ms\tremaining: 167ms\n",
      "716:\tlearn: 0.0183567\ttotal: 422ms\tremaining: 167ms\n",
      "717:\tlearn: 0.0182358\ttotal: 422ms\tremaining: 166ms\n",
      "718:\tlearn: 0.0181498\ttotal: 423ms\tremaining: 165ms\n",
      "719:\tlearn: 0.0180487\ttotal: 423ms\tremaining: 165ms\n",
      "720:\tlearn: 0.0179753\ttotal: 424ms\tremaining: 164ms\n",
      "721:\tlearn: 0.0178918\ttotal: 424ms\tremaining: 163ms\n",
      "722:\tlearn: 0.0178385\ttotal: 425ms\tremaining: 163ms\n",
      "723:\tlearn: 0.0177874\ttotal: 425ms\tremaining: 162ms\n",
      "724:\tlearn: 0.0176893\ttotal: 425ms\tremaining: 161ms\n",
      "725:\tlearn: 0.0176086\ttotal: 426ms\tremaining: 161ms\n",
      "726:\tlearn: 0.0175401\ttotal: 426ms\tremaining: 160ms\n",
      "727:\tlearn: 0.0174614\ttotal: 427ms\tremaining: 159ms\n",
      "728:\tlearn: 0.0174127\ttotal: 427ms\tremaining: 159ms\n",
      "729:\tlearn: 0.0173713\ttotal: 428ms\tremaining: 158ms\n",
      "730:\tlearn: 0.0172836\ttotal: 428ms\tremaining: 158ms\n",
      "731:\tlearn: 0.0171900\ttotal: 429ms\tremaining: 157ms\n",
      "732:\tlearn: 0.0171181\ttotal: 429ms\tremaining: 156ms\n",
      "733:\tlearn: 0.0170263\ttotal: 429ms\tremaining: 156ms\n",
      "734:\tlearn: 0.0169233\ttotal: 430ms\tremaining: 155ms\n",
      "735:\tlearn: 0.0168837\ttotal: 430ms\tremaining: 154ms\n",
      "736:\tlearn: 0.0168245\ttotal: 431ms\tremaining: 154ms\n",
      "737:\tlearn: 0.0167795\ttotal: 431ms\tremaining: 153ms\n",
      "738:\tlearn: 0.0166913\ttotal: 432ms\tremaining: 153ms\n",
      "739:\tlearn: 0.0166173\ttotal: 432ms\tremaining: 152ms\n",
      "740:\tlearn: 0.0165185\ttotal: 433ms\tremaining: 151ms\n",
      "741:\tlearn: 0.0164851\ttotal: 434ms\tremaining: 151ms\n",
      "742:\tlearn: 0.0164132\ttotal: 434ms\tremaining: 150ms\n",
      "743:\tlearn: 0.0163757\ttotal: 435ms\tremaining: 150ms\n",
      "744:\tlearn: 0.0163052\ttotal: 435ms\tremaining: 149ms\n",
      "745:\tlearn: 0.0162093\ttotal: 436ms\tremaining: 148ms\n",
      "746:\tlearn: 0.0161152\ttotal: 436ms\tremaining: 148ms\n",
      "747:\tlearn: 0.0160371\ttotal: 437ms\tremaining: 147ms\n",
      "748:\tlearn: 0.0159983\ttotal: 437ms\tremaining: 146ms\n",
      "749:\tlearn: 0.0159151\ttotal: 437ms\tremaining: 146ms\n",
      "750:\tlearn: 0.0158775\ttotal: 438ms\tremaining: 145ms\n",
      "751:\tlearn: 0.0158293\ttotal: 438ms\tremaining: 145ms\n",
      "752:\tlearn: 0.0157590\ttotal: 439ms\tremaining: 144ms\n",
      "753:\tlearn: 0.0156680\ttotal: 439ms\tremaining: 143ms\n",
      "754:\tlearn: 0.0156212\ttotal: 440ms\tremaining: 143ms\n",
      "755:\tlearn: 0.0155563\ttotal: 440ms\tremaining: 142ms\n",
      "756:\tlearn: 0.0154825\ttotal: 441ms\tremaining: 141ms\n",
      "757:\tlearn: 0.0154464\ttotal: 441ms\tremaining: 141ms\n",
      "758:\tlearn: 0.0153731\ttotal: 442ms\tremaining: 140ms\n",
      "759:\tlearn: 0.0152857\ttotal: 442ms\tremaining: 140ms\n",
      "760:\tlearn: 0.0152409\ttotal: 443ms\tremaining: 139ms\n",
      "761:\tlearn: 0.0151773\ttotal: 443ms\tremaining: 138ms\n",
      "762:\tlearn: 0.0151424\ttotal: 443ms\tremaining: 138ms\n",
      "763:\tlearn: 0.0150574\ttotal: 444ms\tremaining: 137ms\n",
      "764:\tlearn: 0.0150139\ttotal: 444ms\tremaining: 137ms\n",
      "765:\tlearn: 0.0149444\ttotal: 445ms\tremaining: 136ms\n",
      "766:\tlearn: 0.0148755\ttotal: 445ms\tremaining: 135ms\n",
      "767:\tlearn: 0.0147987\ttotal: 446ms\tremaining: 135ms\n",
      "768:\tlearn: 0.0147565\ttotal: 447ms\tremaining: 134ms\n",
      "769:\tlearn: 0.0146989\ttotal: 447ms\tremaining: 134ms\n",
      "770:\tlearn: 0.0146574\ttotal: 448ms\tremaining: 133ms\n",
      "771:\tlearn: 0.0145891\ttotal: 448ms\tremaining: 132ms\n",
      "772:\tlearn: 0.0145240\ttotal: 449ms\tremaining: 132ms\n",
      "773:\tlearn: 0.0144842\ttotal: 449ms\tremaining: 131ms\n",
      "774:\tlearn: 0.0144045\ttotal: 450ms\tremaining: 131ms\n",
      "775:\tlearn: 0.0143388\ttotal: 450ms\tremaining: 130ms\n",
      "776:\tlearn: 0.0142840\ttotal: 450ms\tremaining: 129ms\n",
      "777:\tlearn: 0.0142443\ttotal: 451ms\tremaining: 129ms\n",
      "778:\tlearn: 0.0141820\ttotal: 451ms\tremaining: 128ms\n",
      "779:\tlearn: 0.0141199\ttotal: 452ms\tremaining: 127ms\n",
      "780:\tlearn: 0.0140593\ttotal: 452ms\tremaining: 127ms\n",
      "781:\tlearn: 0.0140156\ttotal: 452ms\tremaining: 126ms\n",
      "782:\tlearn: 0.0139552\ttotal: 453ms\tremaining: 126ms\n",
      "783:\tlearn: 0.0138919\ttotal: 453ms\tremaining: 125ms\n",
      "784:\tlearn: 0.0138604\ttotal: 454ms\tremaining: 124ms\n",
      "785:\tlearn: 0.0138016\ttotal: 454ms\tremaining: 124ms\n",
      "786:\tlearn: 0.0137810\ttotal: 454ms\tremaining: 123ms\n",
      "787:\tlearn: 0.0137264\ttotal: 455ms\tremaining: 122ms\n",
      "788:\tlearn: 0.0137062\ttotal: 455ms\tremaining: 122ms\n",
      "789:\tlearn: 0.0136691\ttotal: 456ms\tremaining: 121ms\n",
      "790:\tlearn: 0.0136122\ttotal: 456ms\tremaining: 121ms\n",
      "791:\tlearn: 0.0135809\ttotal: 457ms\tremaining: 120ms\n",
      "792:\tlearn: 0.0135214\ttotal: 457ms\tremaining: 119ms\n",
      "793:\tlearn: 0.0134845\ttotal: 458ms\tremaining: 119ms\n",
      "794:\tlearn: 0.0134651\ttotal: 458ms\tremaining: 118ms\n",
      "795:\tlearn: 0.0134288\ttotal: 459ms\tremaining: 118ms\n",
      "796:\tlearn: 0.0134097\ttotal: 459ms\tremaining: 117ms\n",
      "797:\tlearn: 0.0133464\ttotal: 460ms\tremaining: 116ms\n",
      "798:\tlearn: 0.0132909\ttotal: 460ms\tremaining: 116ms\n",
      "799:\tlearn: 0.0132389\ttotal: 461ms\tremaining: 115ms\n",
      "800:\tlearn: 0.0132202\ttotal: 462ms\tremaining: 115ms\n",
      "801:\tlearn: 0.0131851\ttotal: 462ms\tremaining: 114ms\n",
      "802:\tlearn: 0.0131285\ttotal: 463ms\tremaining: 114ms\n",
      "803:\tlearn: 0.0130746\ttotal: 463ms\tremaining: 113ms\n",
      "804:\tlearn: 0.0130438\ttotal: 464ms\tremaining: 112ms\n",
      "805:\tlearn: 0.0129808\ttotal: 464ms\tremaining: 112ms\n",
      "806:\tlearn: 0.0129509\ttotal: 465ms\tremaining: 111ms\n",
      "807:\tlearn: 0.0128983\ttotal: 465ms\tremaining: 111ms\n",
      "808:\tlearn: 0.0128437\ttotal: 466ms\tremaining: 110ms\n",
      "809:\tlearn: 0.0128255\ttotal: 466ms\tremaining: 109ms\n",
      "810:\tlearn: 0.0127964\ttotal: 466ms\tremaining: 109ms\n",
      "811:\tlearn: 0.0127221\ttotal: 467ms\tremaining: 108ms\n",
      "812:\tlearn: 0.0127044\ttotal: 467ms\tremaining: 108ms\n",
      "813:\tlearn: 0.0126507\ttotal: 468ms\tremaining: 107ms\n",
      "814:\tlearn: 0.0126036\ttotal: 468ms\tremaining: 106ms\n",
      "815:\tlearn: 0.0125753\ttotal: 469ms\tremaining: 106ms\n",
      "816:\tlearn: 0.0125292\ttotal: 469ms\tremaining: 105ms\n",
      "817:\tlearn: 0.0124897\ttotal: 470ms\tremaining: 105ms\n",
      "818:\tlearn: 0.0124444\ttotal: 470ms\tremaining: 104ms\n",
      "819:\tlearn: 0.0123735\ttotal: 471ms\tremaining: 103ms\n",
      "820:\tlearn: 0.0123294\ttotal: 471ms\tremaining: 103ms\n",
      "821:\tlearn: 0.0123021\ttotal: 472ms\tremaining: 102ms\n",
      "822:\tlearn: 0.0122736\ttotal: 472ms\tremaining: 102ms\n",
      "823:\tlearn: 0.0122119\ttotal: 473ms\tremaining: 101ms\n"
     ]
    },
    {
     "name": "stdout",
     "output_type": "stream",
     "text": [
      "824:\tlearn: 0.0121525\ttotal: 473ms\tremaining: 100ms\n",
      "825:\tlearn: 0.0121147\ttotal: 474ms\tremaining: 99.9ms\n",
      "826:\tlearn: 0.0120546\ttotal: 475ms\tremaining: 99.3ms\n",
      "827:\tlearn: 0.0120040\ttotal: 475ms\tremaining: 98.7ms\n",
      "828:\tlearn: 0.0119764\ttotal: 476ms\tremaining: 98.1ms\n",
      "829:\tlearn: 0.0119131\ttotal: 476ms\tremaining: 97.5ms\n",
      "830:\tlearn: 0.0118838\ttotal: 477ms\tremaining: 97ms\n",
      "831:\tlearn: 0.0118315\ttotal: 477ms\tremaining: 96.4ms\n",
      "832:\tlearn: 0.0118048\ttotal: 478ms\tremaining: 95.8ms\n",
      "833:\tlearn: 0.0117536\ttotal: 478ms\tremaining: 95.2ms\n",
      "834:\tlearn: 0.0117067\ttotal: 479ms\tremaining: 94.6ms\n",
      "835:\tlearn: 0.0116805\ttotal: 479ms\tremaining: 94ms\n",
      "836:\tlearn: 0.0116522\ttotal: 480ms\tremaining: 93.4ms\n",
      "837:\tlearn: 0.0116060\ttotal: 480ms\tremaining: 92.8ms\n",
      "838:\tlearn: 0.0115505\ttotal: 480ms\tremaining: 92.2ms\n",
      "839:\tlearn: 0.0115051\ttotal: 481ms\tremaining: 91.6ms\n",
      "840:\tlearn: 0.0114707\ttotal: 481ms\tremaining: 91ms\n",
      "841:\tlearn: 0.0114454\ttotal: 482ms\tremaining: 90.4ms\n",
      "842:\tlearn: 0.0114007\ttotal: 482ms\tremaining: 89.8ms\n",
      "843:\tlearn: 0.0113776\ttotal: 483ms\tremaining: 89.2ms\n",
      "844:\tlearn: 0.0113217\ttotal: 483ms\tremaining: 88.6ms\n",
      "845:\tlearn: 0.0112884\ttotal: 484ms\tremaining: 88ms\n",
      "846:\tlearn: 0.0112638\ttotal: 484ms\tremaining: 87.5ms\n",
      "847:\tlearn: 0.0112165\ttotal: 485ms\tremaining: 86.9ms\n",
      "848:\tlearn: 0.0111938\ttotal: 485ms\tremaining: 86.3ms\n",
      "849:\tlearn: 0.0111520\ttotal: 486ms\tremaining: 85.8ms\n",
      "850:\tlearn: 0.0111282\ttotal: 487ms\tremaining: 85.2ms\n",
      "851:\tlearn: 0.0110855\ttotal: 487ms\tremaining: 84.6ms\n",
      "852:\tlearn: 0.0110600\ttotal: 488ms\tremaining: 84ms\n",
      "853:\tlearn: 0.0110409\ttotal: 488ms\tremaining: 83.4ms\n",
      "854:\tlearn: 0.0110193\ttotal: 489ms\tremaining: 82.9ms\n",
      "855:\tlearn: 0.0110007\ttotal: 489ms\tremaining: 82.3ms\n",
      "856:\tlearn: 0.0109469\ttotal: 490ms\tremaining: 81.7ms\n",
      "857:\tlearn: 0.0108963\ttotal: 490ms\tremaining: 81.1ms\n",
      "858:\tlearn: 0.0108436\ttotal: 491ms\tremaining: 80.5ms\n",
      "859:\tlearn: 0.0108256\ttotal: 491ms\tremaining: 79.9ms\n",
      "860:\tlearn: 0.0108080\ttotal: 491ms\tremaining: 79.3ms\n",
      "861:\tlearn: 0.0107825\ttotal: 492ms\tremaining: 78.8ms\n",
      "862:\tlearn: 0.0107333\ttotal: 493ms\tremaining: 78.2ms\n",
      "863:\tlearn: 0.0106860\ttotal: 493ms\tremaining: 77.6ms\n",
      "864:\tlearn: 0.0106699\ttotal: 493ms\tremaining: 77ms\n",
      "865:\tlearn: 0.0106244\ttotal: 494ms\tremaining: 76.4ms\n",
      "866:\tlearn: 0.0105995\ttotal: 495ms\tremaining: 75.9ms\n",
      "867:\tlearn: 0.0105457\ttotal: 495ms\tremaining: 75.3ms\n",
      "868:\tlearn: 0.0105301\ttotal: 496ms\tremaining: 74.7ms\n",
      "869:\tlearn: 0.0104829\ttotal: 496ms\tremaining: 74.2ms\n",
      "870:\tlearn: 0.0104386\ttotal: 497ms\tremaining: 73.6ms\n",
      "871:\tlearn: 0.0103936\ttotal: 497ms\tremaining: 73ms\n",
      "872:\tlearn: 0.0103784\ttotal: 498ms\tremaining: 72.4ms\n",
      "873:\tlearn: 0.0103569\ttotal: 498ms\tremaining: 71.8ms\n",
      "874:\tlearn: 0.0103137\ttotal: 499ms\tremaining: 71.2ms\n",
      "875:\tlearn: 0.0102685\ttotal: 499ms\tremaining: 70.7ms\n",
      "876:\tlearn: 0.0102174\ttotal: 500ms\tremaining: 70.1ms\n",
      "877:\tlearn: 0.0102028\ttotal: 500ms\tremaining: 69.5ms\n",
      "878:\tlearn: 0.0101439\ttotal: 501ms\tremaining: 69ms\n",
      "879:\tlearn: 0.0101297\ttotal: 501ms\tremaining: 68.4ms\n",
      "880:\tlearn: 0.0101158\ttotal: 502ms\tremaining: 67.8ms\n",
      "881:\tlearn: 0.0100714\ttotal: 502ms\tremaining: 67.2ms\n",
      "882:\tlearn: 0.0100525\ttotal: 503ms\tremaining: 66.6ms\n",
      "883:\tlearn: 0.0100106\ttotal: 503ms\tremaining: 66ms\n",
      "884:\tlearn: 0.0099840\ttotal: 504ms\tremaining: 65.4ms\n",
      "885:\tlearn: 0.0099705\ttotal: 504ms\tremaining: 64.9ms\n",
      "886:\tlearn: 0.0099280\ttotal: 505ms\tremaining: 64.3ms\n",
      "887:\tlearn: 0.0099020\ttotal: 505ms\tremaining: 63.7ms\n",
      "888:\tlearn: 0.0098517\ttotal: 506ms\tremaining: 63.1ms\n",
      "889:\tlearn: 0.0098385\ttotal: 506ms\tremaining: 62.6ms\n",
      "890:\tlearn: 0.0097987\ttotal: 507ms\tremaining: 62ms\n",
      "891:\tlearn: 0.0097477\ttotal: 507ms\tremaining: 61.4ms\n",
      "892:\tlearn: 0.0097347\ttotal: 508ms\tremaining: 60.8ms\n",
      "893:\tlearn: 0.0096846\ttotal: 508ms\tremaining: 60.3ms\n",
      "894:\tlearn: 0.0096718\ttotal: 509ms\tremaining: 59.7ms\n",
      "895:\tlearn: 0.0096350\ttotal: 509ms\tremaining: 59.1ms\n",
      "896:\tlearn: 0.0095936\ttotal: 510ms\tremaining: 58.5ms\n",
      "897:\tlearn: 0.0095812\ttotal: 510ms\tremaining: 57.9ms\n",
      "898:\tlearn: 0.0095323\ttotal: 510ms\tremaining: 57.3ms\n",
      "899:\tlearn: 0.0094844\ttotal: 511ms\tremaining: 56.7ms\n",
      "900:\tlearn: 0.0094769\ttotal: 511ms\tremaining: 56.1ms\n",
      "901:\tlearn: 0.0094695\ttotal: 511ms\tremaining: 55.6ms\n",
      "902:\tlearn: 0.0094217\ttotal: 512ms\tremaining: 55ms\n",
      "903:\tlearn: 0.0094144\ttotal: 512ms\tremaining: 54.4ms\n",
      "904:\tlearn: 0.0093769\ttotal: 513ms\tremaining: 53.8ms\n",
      "905:\tlearn: 0.0093302\ttotal: 513ms\tremaining: 53.2ms\n",
      "906:\tlearn: 0.0093194\ttotal: 514ms\tremaining: 52.7ms\n",
      "907:\tlearn: 0.0092805\ttotal: 514ms\tremaining: 52.1ms\n",
      "908:\tlearn: 0.0092686\ttotal: 514ms\tremaining: 51.5ms\n",
      "909:\tlearn: 0.0092182\ttotal: 515ms\tremaining: 50.9ms\n",
      "910:\tlearn: 0.0092067\ttotal: 515ms\tremaining: 50.3ms\n",
      "911:\tlearn: 0.0091610\ttotal: 516ms\tremaining: 49.8ms\n",
      "912:\tlearn: 0.0091540\ttotal: 516ms\tremaining: 49.2ms\n",
      "913:\tlearn: 0.0091089\ttotal: 517ms\tremaining: 48.6ms\n",
      "914:\tlearn: 0.0091020\ttotal: 517ms\tremaining: 48.1ms\n",
      "915:\tlearn: 0.0090530\ttotal: 518ms\tremaining: 47.5ms\n",
      "916:\tlearn: 0.0090163\ttotal: 518ms\tremaining: 46.9ms\n",
      "917:\tlearn: 0.0090049\ttotal: 519ms\tremaining: 46.3ms\n",
      "918:\tlearn: 0.0089571\ttotal: 519ms\tremaining: 45.8ms\n",
      "919:\tlearn: 0.0089461\ttotal: 520ms\tremaining: 45.2ms\n",
      "920:\tlearn: 0.0089027\ttotal: 520ms\tremaining: 44.6ms\n",
      "921:\tlearn: 0.0088559\ttotal: 522ms\tremaining: 44.1ms\n",
      "922:\tlearn: 0.0088135\ttotal: 522ms\tremaining: 43.5ms\n",
      "923:\tlearn: 0.0087682\ttotal: 522ms\tremaining: 43ms\n",
      "924:\tlearn: 0.0087331\ttotal: 523ms\tremaining: 42.4ms\n",
      "925:\tlearn: 0.0087219\ttotal: 524ms\tremaining: 41.8ms\n",
      "926:\tlearn: 0.0086810\ttotal: 524ms\tremaining: 41.3ms\n",
      "927:\tlearn: 0.0086542\ttotal: 525ms\tremaining: 40.7ms\n",
      "928:\tlearn: 0.0086203\ttotal: 525ms\tremaining: 40.1ms\n",
      "929:\tlearn: 0.0085789\ttotal: 526ms\tremaining: 39.6ms\n",
      "930:\tlearn: 0.0085679\ttotal: 526ms\tremaining: 39ms\n",
      "931:\tlearn: 0.0085274\ttotal: 527ms\tremaining: 38.4ms\n",
      "932:\tlearn: 0.0084877\ttotal: 527ms\tremaining: 37.9ms\n",
      "933:\tlearn: 0.0084621\ttotal: 528ms\tremaining: 37.3ms\n",
      "934:\tlearn: 0.0084371\ttotal: 528ms\tremaining: 36.7ms\n",
      "935:\tlearn: 0.0084126\ttotal: 529ms\tremaining: 36.2ms\n",
      "936:\tlearn: 0.0083708\ttotal: 529ms\tremaining: 35.6ms\n",
      "937:\tlearn: 0.0083390\ttotal: 530ms\tremaining: 35ms\n",
      "938:\tlearn: 0.0083034\ttotal: 530ms\tremaining: 34.4ms\n",
      "939:\tlearn: 0.0082927\ttotal: 531ms\tremaining: 33.9ms\n",
      "940:\tlearn: 0.0082578\ttotal: 531ms\tremaining: 33.3ms\n",
      "941:\tlearn: 0.0082194\ttotal: 531ms\tremaining: 32.7ms\n",
      "942:\tlearn: 0.0081852\ttotal: 532ms\tremaining: 32.1ms\n",
      "943:\tlearn: 0.0081604\ttotal: 532ms\tremaining: 31.6ms\n",
      "944:\tlearn: 0.0081233\ttotal: 533ms\tremaining: 31ms\n",
      "945:\tlearn: 0.0081128\ttotal: 533ms\tremaining: 30.4ms\n",
      "946:\tlearn: 0.0080771\ttotal: 534ms\tremaining: 29.9ms\n",
      "947:\tlearn: 0.0080380\ttotal: 534ms\tremaining: 29.3ms\n",
      "948:\tlearn: 0.0080139\ttotal: 535ms\tremaining: 28.7ms\n",
      "949:\tlearn: 0.0079726\ttotal: 535ms\tremaining: 28.2ms\n",
      "950:\tlearn: 0.0079351\ttotal: 536ms\tremaining: 27.6ms\n",
      "951:\tlearn: 0.0079121\ttotal: 536ms\tremaining: 27ms\n",
      "952:\tlearn: 0.0078797\ttotal: 537ms\tremaining: 26.5ms\n",
      "953:\tlearn: 0.0078443\ttotal: 537ms\tremaining: 25.9ms\n",
      "954:\tlearn: 0.0078212\ttotal: 538ms\tremaining: 25.3ms\n",
      "955:\tlearn: 0.0077800\ttotal: 538ms\tremaining: 24.8ms\n",
      "956:\tlearn: 0.0077580\ttotal: 539ms\tremaining: 24.2ms\n",
      "957:\tlearn: 0.0077365\ttotal: 539ms\tremaining: 23.6ms\n",
      "958:\tlearn: 0.0076963\ttotal: 540ms\tremaining: 23.1ms\n",
      "959:\tlearn: 0.0076750\ttotal: 540ms\tremaining: 22.5ms\n",
      "960:\tlearn: 0.0076536\ttotal: 541ms\tremaining: 21.9ms\n",
      "961:\tlearn: 0.0076142\ttotal: 541ms\tremaining: 21.4ms\n",
      "962:\tlearn: 0.0075843\ttotal: 542ms\tremaining: 20.8ms\n",
      "963:\tlearn: 0.0075621\ttotal: 542ms\tremaining: 20.2ms\n",
      "964:\tlearn: 0.0075413\ttotal: 543ms\tremaining: 19.7ms\n",
      "965:\tlearn: 0.0075211\ttotal: 543ms\tremaining: 19.1ms\n",
      "966:\tlearn: 0.0074895\ttotal: 544ms\tremaining: 18.5ms\n",
      "967:\tlearn: 0.0074799\ttotal: 544ms\tremaining: 18ms\n",
      "968:\tlearn: 0.0074405\ttotal: 544ms\tremaining: 17.4ms\n",
      "969:\tlearn: 0.0074312\ttotal: 545ms\tremaining: 16.9ms\n",
      "970:\tlearn: 0.0073936\ttotal: 545ms\tremaining: 16.3ms\n",
      "971:\tlearn: 0.0073556\ttotal: 546ms\tremaining: 15.7ms\n",
      "972:\tlearn: 0.0073419\ttotal: 546ms\tremaining: 15.2ms\n",
      "973:\tlearn: 0.0073122\ttotal: 547ms\tremaining: 14.6ms\n",
      "974:\tlearn: 0.0072965\ttotal: 547ms\tremaining: 14ms\n",
      "975:\tlearn: 0.0072759\ttotal: 548ms\tremaining: 13.5ms\n",
      "976:\tlearn: 0.0072606\ttotal: 548ms\tremaining: 12.9ms\n",
      "977:\tlearn: 0.0072489\ttotal: 549ms\tremaining: 12.3ms\n",
      "978:\tlearn: 0.0072208\ttotal: 550ms\tremaining: 11.8ms\n",
      "979:\tlearn: 0.0071924\ttotal: 550ms\tremaining: 11.2ms\n",
      "980:\tlearn: 0.0071772\ttotal: 551ms\tremaining: 10.7ms\n",
      "981:\tlearn: 0.0071422\ttotal: 551ms\tremaining: 10.1ms\n",
      "982:\tlearn: 0.0071080\ttotal: 551ms\tremaining: 9.54ms\n",
      "983:\tlearn: 0.0070943\ttotal: 552ms\tremaining: 8.97ms\n"
     ]
    },
    {
     "name": "stdout",
     "output_type": "stream",
     "text": [
      "984:\tlearn: 0.0070831\ttotal: 553ms\tremaining: 8.41ms\n",
      "985:\tlearn: 0.0070498\ttotal: 553ms\tremaining: 7.86ms\n",
      "986:\tlearn: 0.0070116\ttotal: 554ms\tremaining: 7.29ms\n",
      "987:\tlearn: 0.0069989\ttotal: 554ms\tremaining: 6.73ms\n",
      "988:\tlearn: 0.0069703\ttotal: 555ms\tremaining: 6.17ms\n",
      "989:\tlearn: 0.0069331\ttotal: 555ms\tremaining: 5.61ms\n",
      "990:\tlearn: 0.0068992\ttotal: 556ms\tremaining: 5.04ms\n",
      "991:\tlearn: 0.0068816\ttotal: 556ms\tremaining: 4.48ms\n",
      "992:\tlearn: 0.0068538\ttotal: 556ms\tremaining: 3.92ms\n",
      "993:\tlearn: 0.0068415\ttotal: 557ms\tremaining: 3.36ms\n",
      "994:\tlearn: 0.0068055\ttotal: 557ms\tremaining: 2.8ms\n",
      "995:\tlearn: 0.0067885\ttotal: 558ms\tremaining: 2.24ms\n",
      "996:\tlearn: 0.0067531\ttotal: 558ms\tremaining: 1.68ms\n",
      "997:\tlearn: 0.0067365\ttotal: 559ms\tremaining: 1.12ms\n",
      "998:\tlearn: 0.0067018\ttotal: 559ms\tremaining: 559us\n",
      "999:\tlearn: 0.0066855\ttotal: 560ms\tremaining: 0us\n"
     ]
    },
    {
     "data": {
      "text/plain": [
       "<catboost.core.CatBoostRegressor at 0x7fc10020d670>"
      ]
     },
     "execution_count": 9,
     "metadata": {},
     "output_type": "execute_result"
    }
   ],
   "source": [
    "#Train the Model \n",
    "prior_model = ctb.CatBoostRegressor()\n",
    "prior_model.fit(X_train,Y_train)"
   ]
  },
  {
   "cell_type": "code",
   "execution_count": 10,
   "id": "af65dcda",
   "metadata": {
    "execution": {
     "iopub.execute_input": "2022-02-13T15:04:12.452129Z",
     "iopub.status.busy": "2022-02-13T15:04:12.451736Z",
     "iopub.status.idle": "2022-02-13T15:04:12.459405Z",
     "shell.execute_reply": "2022-02-13T15:04:12.459692Z"
    },
    "id": "af65dcda",
    "papermill": {
     "duration": 0.020827,
     "end_time": "2022-02-13T15:04:12.459809",
     "exception": false,
     "start_time": "2022-02-13T15:04:12.438982",
     "status": "completed"
    },
    "tags": []
   },
   "outputs": [
    {
     "data": {
      "application/scrapbook.scrap.json+json": {
       "data": 0.11731874847804025,
       "encoder": "json",
       "name": "Prior Model MSE",
       "version": 1
      }
     },
     "metadata": {
      "scrapbook": {
       "data": true,
       "display": false,
       "name": "Prior Model MSE"
      }
     },
     "output_type": "display_data"
    },
    {
     "data": {
      "application/scrapbook.scrap.json+json": {
       "data": 0.13694980974118473,
       "encoder": "json",
       "name": "ABC Pre-generator MSE",
       "version": 1
      }
     },
     "metadata": {
      "scrapbook": {
       "data": true,
       "display": false,
       "name": "ABC Pre-generator MSE"
      }
     },
     "output_type": "display_data"
    },
    {
     "data": {
      "application/scrapbook.scrap.json+json": {
       "data": 0.2793865066108009,
       "encoder": "json",
       "name": "Prior Model MSE",
       "version": 1
      }
     },
     "metadata": {
      "scrapbook": {
       "data": true,
       "display": false,
       "name": "Prior Model MSE"
      }
     },
     "output_type": "display_data"
    },
    {
     "data": {
      "application/scrapbook.scrap.json+json": {
       "data": 0.29227853505221624,
       "encoder": "json",
       "name": "ABC Pre-generator MSE",
       "version": 1
      }
     },
     "metadata": {
      "scrapbook": {
       "data": true,
       "display": false,
       "name": "ABC Pre-generator MSE"
      }
     },
     "output_type": "display_data"
    }
   ],
   "source": [
    "y_pred = prior_model.predict(X_test)\n",
    "y_abc = y_pred + np.random.normal(0,variance, y_pred.shape)\n",
    "mse = mean_squared_error(y_pred,Y_test)\n",
    "sb.glue(\"Prior Model MSE\",mse)\n",
    "mse = mean_squared_error(y_abc,Y_test)\n",
    "sb.glue(\"ABC Pre-generator MSE\",mse)\n",
    "\n",
    "mae = mean_absolute_error(y_pred,Y_test)\n",
    "sb.glue(\"Prior Model MSE\",mae)\n",
    "mae = mean_absolute_error(y_abc,Y_test)\n",
    "sb.glue(\"ABC Pre-generator MSE\",mae)"
   ]
  },
  {
   "cell_type": "markdown",
   "id": "25609da2",
   "metadata": {
    "papermill": {
     "duration": 0.009524,
     "end_time": "2022-02-13T15:04:12.479122",
     "exception": false,
     "start_time": "2022-02-13T15:04:12.469598",
     "status": "completed"
    },
    "tags": []
   },
   "source": [
    "# ABC GAN Model"
   ]
  },
  {
   "cell_type": "code",
   "execution_count": 11,
   "id": "dfc3464d",
   "metadata": {
    "execution": {
     "iopub.execute_input": "2022-02-13T15:04:12.501275Z",
     "iopub.status.busy": "2022-02-13T15:04:12.500879Z",
     "iopub.status.idle": "2022-02-13T15:04:12.503431Z",
     "shell.execute_reply": "2022-02-13T15:04:12.503678Z"
    },
    "papermill": {
     "duration": 0.015026,
     "end_time": "2022-02-13T15:04:12.503790",
     "exception": false,
     "start_time": "2022-02-13T15:04:12.488764",
     "status": "completed"
    },
    "tags": []
   },
   "outputs": [],
   "source": [
    "gen = network.Generator(n_features+1).to(device)\n",
    "disc = network.Discriminator(n_features+1).to(device)\n",
    "\n",
    "criterion = torch.nn.BCELoss()\n",
    "gen_opt = torch.optim.Adam(gen.parameters(), lr=0.001, betas=(0.5, 0.999))\n",
    "disc_opt = torch.optim.Adam(disc.parameters(), lr=0.001, betas=(0.5, 0.999))"
   ]
  },
  {
   "cell_type": "code",
   "execution_count": 12,
   "id": "b75fdd85",
   "metadata": {
    "execution": {
     "iopub.execute_input": "2022-02-13T15:04:12.525150Z",
     "iopub.status.busy": "2022-02-13T15:04:12.524780Z",
     "iopub.status.idle": "2022-02-13T15:04:26.112118Z",
     "shell.execute_reply": "2022-02-13T15:04:26.112385Z"
    },
    "papermill": {
     "duration": 13.599101,
     "end_time": "2022-02-13T15:04:26.112516",
     "exception": false,
     "start_time": "2022-02-13T15:04:12.513415",
     "status": "completed"
    },
    "tags": []
   },
   "outputs": [
    {
     "data": {
      "image/png": "[encoded data removed]",
      "text/plain": [
       "<Figure size 432x288 with 1 Axes>"
      ]
     },
     "metadata": {
      "needs_background": "light"
     },
     "output_type": "display_data"
    },
    {
     "data": {
      "image/png": "[encoded data removed]",
      "text/plain": [
       "<Figure size 432x288 with 1 Axes>"
      ]
     },
     "metadata": {
      "needs_background": "light"
     },
     "output_type": "display_data"
    }
   ],
   "source": [
    "#Training the ABC_GAN \n",
    "ABC_train_test2.training_GAN(disc,gen,disc_opt,gen_opt,train_data,batch_size,n_epochs,criterion,prior_model,variance,device)"
   ]
  },
  {
   "cell_type": "code",
   "execution_count": 13,
   "id": "1fa7c368",
   "metadata": {
    "execution": {
     "iopub.execute_input": "2022-02-13T15:04:26.136291Z",
     "iopub.status.busy": "2022-02-13T15:04:26.135855Z",
     "iopub.status.idle": "2022-02-13T15:04:26.313633Z",
     "shell.execute_reply": "2022-02-13T15:04:26.313934Z"
    },
    "papermill": {
     "duration": 0.190829,
     "end_time": "2022-02-13T15:04:26.314055",
     "exception": false,
     "start_time": "2022-02-13T15:04:26.123226",
     "status": "completed"
    },
    "tags": []
   },
   "outputs": [
    {
     "data": {
      "application/scrapbook.scrap.json+json": {
       "data": 0.03561867727659384,
       "encoder": "json",
       "name": "ABC-GAN Model 1 MSE",
       "version": 1
      }
     },
     "metadata": {
      "scrapbook": {
       "data": true,
       "display": false,
       "name": "ABC-GAN Model 1 MSE"
      }
     },
     "output_type": "display_data"
    },
    {
     "data": {
      "application/scrapbook.scrap.json+json": {
       "data": 0.15542581331916153,
       "encoder": "json",
       "name": "ABC-GAN Model 1 MAE",
       "version": 1
      }
     },
     "metadata": {
      "scrapbook": {
       "data": true,
       "display": false,
       "name": "ABC-GAN Model 1 MAE"
      }
     },
     "output_type": "display_data"
    },
    {
     "data": {
      "application/scrapbook.scrap.json+json": {
       "data": 3.108516266383231,
       "encoder": "json",
       "name": "ABC-GAN Model 1 Manhattan Distance",
       "version": 1
      }
     },
     "metadata": {
      "scrapbook": {
       "data": true,
       "display": false,
       "name": "ABC-GAN Model 1 Manhattan Distance"
      }
     },
     "output_type": "display_data"
    },
    {
     "data": {
      "application/scrapbook.scrap.json+json": {
       "data": 0.8419127601656455,
       "encoder": "json",
       "name": "ABC-GAN Model 1 Euclidean distance",
       "version": 1
      }
     },
     "metadata": {
      "scrapbook": {
       "data": true,
       "display": false,
       "name": "ABC-GAN Model 1 Euclidean distance"
      }
     },
     "output_type": "display_data"
    },
    {
     "data": {
      "application/scrapbook.scrap.json+json": {
       "data": [
        [
         0.030711840638177966,
         0.04438411533324756,
         0.037083611761524526,
         0.03337423589665197,
         0.036983269221581995,
         0.030344132922010998,
         0.04323713241163628,
         0.04175288127007232,
         0.03909327813035686,
         0.03915054498634281,
         0.02762826358635311,
         0.03705261431338279,
         0.027993788231108662,
         0.0374132211682381,
         0.04572446941272851,
         0.0416699079510537,
         0.03606528107223382,
         0.028611804241988857,
         0.03629071565052364,
         0.04112783704719971,
         0.03663902812827163,
         0.04133582790049861,
         0.031935074619240646,
         0.035709263317786025,
         0.031137920839931034,
         0.03322746747021227,
         0.032247932872552655,
         0.03382109036111538,
         0.038614018707360566,
         0.03700170130710878,
         0.0320655510400323,
         0.028062931928900792,
         0.033739620749885534,
         0.03301957629321013,
         0.02761707196136761,
         0.039478315555584655,
         0.050363391928382885,
         0.029316371724980184,
         0.03163037709202628,
         0.03367349801226235,
         0.03488455208196926,
         0.04361695225109554,
         0.035122661270793366,
         0.028644304737521498,
         0.03374634512036713,
         0.038679639963945064,
         0.04050255082574167,
         0.03725951211169667,
         0.03188947509145555,
         0.03459644555456683,
         0.041468687109088284,
         0.032931143047601016,
         0.02845389690756228,
         0.04253042093692653,
         0.030770703129883094,
         0.043341743851364724,
         0.035905139990259946,
         0.03462244746939637,
         0.04234790204380764,
         0.031621089242917254,
         0.0434469066245781,
         0.03802436539699653,
         0.0381987003570061,
         0.037547427971640436,
         0.03565815323812993,
         0.03335657709385777,
         0.03757394892440441,
         0.036204812058737344,
         0.03643781556533456,
         0.03893391638447663,
         0.03458410002255424,
         0.02510711070386934,
         0.03627186422190085,
         0.033154860867917677,
         0.03302394009226568,
         0.03277975644815082,
         0.04177206503217078,
         0.040262244291136465,
         0.027739829586287845,
         0.03473946293619488,
         0.02820089636417599,
         0.04730366208351529,
         0.03453564580298962,
         0.038921995397408905,
         0.033857514656493906,
         0.03354721682893132,
         0.042064219541835576,
         0.03968256316793502,
         0.037404599100814076,
         0.03111425557193277,
         0.029970284657400814,
         0.03290333885377381,
         0.03763071064467416,
         0.03627724028759329,
         0.03435056827588777,
         0.03481543307869426,
         0.034627123785835545,
         0.03312890946980136,
         0.021014576439290614,
         0.03643452603770536
        ],
        [
         0.1514421794563532,
         0.17853542119264604,
         0.16247155256569384,
         0.15130536668002606,
         0.15346928276121616,
         0.1375448875129223,
         0.17359111346304418,
         0.17104020081460475,
         0.15969235971570014,
         0.16308665759861468,
         0.13754396550357342,
         0.1614948183298111,
         0.14959128834307195,
         0.16211641542613506,
         0.17855172418057919,
         0.16627552174031734,
         0.16110927946865558,
         0.13683947138488292,
         0.16284930072724818,
         0.1563730824738741,
         0.1645376455038786,
         0.16177852191030978,
         0.14568524323403836,
         0.14033070392906666,
         0.15148712433874606,
         0.1542190697044134,
         0.15131974183022975,
         0.15537249036133288,
         0.15508100017905235,
         0.16628070808947087,
         0.1500353317707777,
         0.13546890057623387,
         0.15283502899110318,
         0.14332148991525173,
         0.13828004635870456,
         0.15844982378184796,
         0.18484278917312622,
         0.13997705914080144,
         0.14752385430037976,
         0.15082362852990627,
         0.16361906789243222,
         0.17998701818287371,
         0.1527802674099803,
         0.1396324211731553,
         0.14462703615427017,
         0.15602969117462634,
         0.17400818951427938,
         0.16383633352816104,
         0.14437490422278643,
         0.14286390803754329,
         0.17058397717773915,
         0.1376380395144224,
         0.12691918425261975,
         0.16012639813125135,
         0.14300218112766744,
         0.17314019091427327,
         0.1665385875850916,
         0.15310924537479878,
         0.17543645836412908,
         0.1500575143843889,
         0.17131914384663105,
         0.15858447439968587,
         0.15922869183123112,
         0.1700692530721426,
         0.15702120922505855,
         0.1516887117177248,
         0.1662954892963171,
         0.16150479353964328,
         0.154032713547349,
         0.1535846520215273,
         0.15166656784713267,
         0.14038809798657895,
         0.15862282700836658,
         0.15294232852756978,
         0.14248178713023663,
         0.14492301009595393,
         0.17778215371072292,
         0.17742409445345403,
         0.1419018480926752,
         0.16104145385324956,
         0.14335469678044319,
         0.17086891122162343,
         0.1533577624708414,
         0.16557849384844303,
         0.14794680215418338,
         0.14272571839392184,
         0.17199003808200358,
         0.15999099425971508,
         0.15956863798201085,
         0.1452333528548479,
         0.137129582837224,
         0.152803048864007,
         0.15502939745783806,
         0.1537404242902994,
         0.15494704954326152,
         0.14326825998723508,
         0.15381859429180622,
         0.1540066260844469,
         0.12208200804889202,
         0.16175292618572712
        ],
        [
         3.0288435891270638,
         3.5707084238529205,
         3.249431051313877,
         3.026107333600521,
         3.0693856552243233,
         2.7508977502584457,
         3.4718222692608833,
         3.420804016292095,
         3.193847194314003,
         3.261733151972294,
         2.7508793100714684,
         3.229896366596222,
         2.9918257668614388,
         3.2423283085227013,
         3.5710344836115837,
         3.325510434806347,
         3.2221855893731117,
         2.7367894276976585,
         3.256986014544964,
         3.127461649477482,
         3.290752910077572,
         3.235570438206196,
         2.913704864680767,
         2.806614078581333,
         3.0297424867749214,
         3.0843813940882683,
         3.026394836604595,
         3.107449807226658,
         3.101620003581047,
         3.3256141617894173,
         3.000706635415554,
         2.7093780115246773,
         3.0567005798220634,
         2.8664297983050346,
         2.7656009271740913,
         3.168996475636959,
         3.6968557834625244,
         2.7995411828160286,
         2.950477086007595,
         3.0164725705981255,
         3.2723813578486443,
         3.5997403636574745,
         3.055605348199606,
         2.792648423463106,
         2.8925407230854034,
         3.120593823492527,
         3.4801637902855873,
         3.276726670563221,
         2.8874980844557285,
         2.857278160750866,
         3.411679543554783,
         2.7527607902884483,
         2.538383685052395,
         3.2025279626250267,
         2.8600436225533485,
         3.4628038182854652,
         3.330771751701832,
         3.0621849074959755,
         3.5087291672825813,
         3.0011502876877785,
         3.426382876932621,
         3.171689487993717,
         3.1845738366246223,
         3.401385061442852,
         3.140424184501171,
         3.033774234354496,
         3.325909785926342,
         3.2300958707928658,
         3.0806542709469795,
         3.071693040430546,
         3.0333313569426537,
         2.807761959731579,
         3.1724565401673317,
         3.0588465705513954,
         2.8496357426047325,
         2.898460201919079,
         3.5556430742144585,
         3.5484818890690804,
         2.838036961853504,
         3.220829077064991,
         2.867093935608864,
         3.4173782244324684,
         3.067155249416828,
         3.3115698769688606,
         2.9589360430836678,
         2.854514367878437,
         3.439800761640072,
         3.1998198851943016,
         3.191372759640217,
         2.904667057096958,
         2.74259165674448,
         3.05606097728014,
         3.100587949156761,
         3.0748084858059883,
         3.0989409908652306,
         2.8653651997447014,
         3.0763718858361244,
         3.080132521688938,
         2.4416401609778404,
         3.2350585237145424
        ],
        [
         0.7837326156053219,
         0.9421689374337021,
         0.8612039452014201,
         0.8169973793917821,
         0.8600380133643163,
         0.7790267379494877,
         0.9299153984275804,
         0.9138148747976509,
         0.8842316227138324,
         0.8848790311262077,
         0.7433473425842472,
         0.8608439383928167,
         0.7482484644970367,
         0.8650227877719534,
         0.9562893852043796,
         0.9129064349762652,
         0.8492971337786773,
         0.75646287737058,
         0.8519473651643468,
         0.9069491391164084,
         0.8560260291401381,
         0.909239549299288,
         0.7991880206714893,
         0.8450948268423611,
         0.7891504399026973,
         0.81519896307849,
         0.8030931810512733,
         0.8224486654024722,
         0.8787948418983872,
         0.860252303770339,
         0.8008189688067123,
         0.7491719686280419,
         0.8214574943341321,
         0.8126447722493528,
         0.743196770194376,
         0.8885754391787414,
         1.003627340484334,
         0.7657202064067551,
         0.7953662941315313,
         0.8206521554503143,
         0.8352790202317937,
         0.9339909234151641,
         0.8381248268699999,
         0.7568923931117487,
         0.8215393492750925,
         0.879541243648586,
         0.9000283420619782,
         0.8632440224142496,
         0.7986172436337141,
         0.8318226440121336,
         0.9106995894265933,
         0.8115558273785115,
         0.7543725459951771,
         0.9222843480936509,
         0.7844833093174525,
         0.931039675323933,
         0.847409464075779,
         0.8321351749493151,
         0.9203032331118656,
         0.7952495110707991,
         0.9321685107809434,
         0.8720592341922254,
         0.8740560663596598,
         0.8665728817778737,
         0.8444898251385854,
         0.8167812080827737,
         0.8668788718662419,
         0.8509384473478366,
         0.8536722505193028,
         0.882427519793854,
         0.8316742153337957,
         0.7086199362686508,
         0.8517260618520588,
         0.8143078148699996,
         0.8126984692032547,
         0.8096882912349767,
         0.914024781197652,
         0.8973543814027596,
         0.7448466900817623,
         0.8335401962256515,
         0.7510112697446821,
         0.9726629640683898,
         0.8310914005449656,
         0.8822924163496919,
         0.8228914224427656,
         0.8191119194460708,
         0.9172155639961151,
         0.8908710699976177,
         0.8649231075744719,
         0.7888505000560343,
         0.7742129507751833,
         0.8112131514438583,
         0.8675334073645137,
         0.8517891791704482,
         0.8288614875344104,
         0.8344511139508923,
         0.8321913696480581,
         0.8139890597520505,
         0.6482989501655947,
         0.853633715802104
        ]
       ],
       "encoder": "json",
       "name": "ABC_GAN_1 Metrics",
       "version": 1
      }
     },
     "metadata": {
      "scrapbook": {
       "data": true,
       "display": false,
       "name": "ABC_GAN_1 Metrics"
      }
     },
     "output_type": "display_data"
    },
    {
     "name": "stdout",
     "output_type": "stream",
     "text": [
      "MSE\n",
      "0.03561867727659384\n"
     ]
    }
   ],
   "source": [
    "ABC_GAN1_metrics=ABC_train_test2.test_generator(gen,test_data,prior_model,variance,\"1\",device)\n",
    "sb.glue(\"ABC_GAN_1 Metrics\",ABC_GAN1_metrics)\n",
    "\n",
    "print(\"MSE\")\n",
    "print(mean(ABC_GAN1_metrics[0]))"
   ]
  },
  {
   "cell_type": "code",
   "execution_count": 14,
   "id": "eb22ce5c",
   "metadata": {
    "execution": {
     "iopub.execute_input": "2022-02-13T15:04:26.340764Z",
     "iopub.status.busy": "2022-02-13T15:04:26.340392Z",
     "iopub.status.idle": "2022-02-13T15:04:26.627928Z",
     "shell.execute_reply": "2022-02-13T15:04:26.628288Z"
    },
    "papermill": {
     "duration": 0.301976,
     "end_time": "2022-02-13T15:04:26.628407",
     "exception": false,
     "start_time": "2022-02-13T15:04:26.326431",
     "status": "completed"
    },
    "tags": []
   },
   "outputs": [
    {
     "data": {
      "image/png": "[encoded data removed]",
      "text/plain": [
       "<Figure size 432x288 with 1 Axes>"
      ]
     },
     "metadata": {
      "needs_background": "light"
     },
     "output_type": "display_data"
    },
    {
     "data": {
      "image/png": "[encoded data removed]",
      "text/plain": [
       "<Figure size 432x288 with 1 Axes>"
      ]
     },
     "metadata": {
      "needs_background": "light"
     },
     "output_type": "display_data"
    },
    {
     "data": {
      "image/png": "[encoded data removed]",
      "text/plain": [
       "<Figure size 432x288 with 1 Axes>"
      ]
     },
     "metadata": {
      "needs_background": "light"
     },
     "output_type": "display_data"
    },
    {
     "data": {
      "image/png": "[encoded data removed]",
      "text/plain": [
       "<Figure size 432x288 with 1 Axes>"
      ]
     },
     "metadata": {
      "needs_background": "light"
     },
     "output_type": "display_data"
    }
   ],
   "source": [
    "sanityChecks.discProbVsError(train_data,disc,device)\n",
    "sanityChecks.discProbVsError(test_data,disc,device)"
   ]
  },
  {
   "cell_type": "markdown",
   "id": "130f3a4d",
   "metadata": {
    "id": "130f3a4d",
    "papermill": {
     "duration": 0.014556,
     "end_time": "2022-02-13T15:04:26.658425",
     "exception": false,
     "start_time": "2022-02-13T15:04:26.643869",
     "status": "completed"
    },
    "tags": []
   },
   "source": [
    "# ABC - GAN Model with skip connection"
   ]
  },
  {
   "cell_type": "code",
   "execution_count": 15,
   "id": "4e43dad1",
   "metadata": {
    "execution": {
     "iopub.execute_input": "2022-02-13T15:04:26.690925Z",
     "iopub.status.busy": "2022-02-13T15:04:26.690556Z",
     "iopub.status.idle": "2022-02-13T15:04:26.692796Z",
     "shell.execute_reply": "2022-02-13T15:04:26.693047Z"
    },
    "id": "4e43dad1",
    "papermill": {
     "duration": 0.020179,
     "end_time": "2022-02-13T15:04:26.693160",
     "exception": false,
     "start_time": "2022-02-13T15:04:26.672981",
     "status": "completed"
    },
    "tags": []
   },
   "outputs": [],
   "source": [
    "#Generator\n",
    "gen3 = network.GeneratorWithSkipConnection(n_features+1).to(device)\n",
    "constraints=network.weightConstraint()\n",
    "#Discriminator \n",
    "disc3 = network.Discriminator(n_features+1).to(device)\n",
    "\n",
    "criterion = torch.nn.BCELoss()\n",
    "gen_opt = torch.optim.Adam(gen3.parameters(), lr=0.001, betas=(0.5, 0.999))\n",
    "disc_opt = torch.optim.Adam(disc3.parameters(), lr=0.001, betas=(0.5, 0.999))\n"
   ]
  },
  {
   "cell_type": "code",
   "execution_count": 16,
   "id": "26acbc37",
   "metadata": {
    "execution": {
     "iopub.execute_input": "2022-02-13T15:04:26.724106Z",
     "iopub.status.busy": "2022-02-13T15:04:26.723718Z",
     "iopub.status.idle": "2022-02-13T15:05:03.125691Z",
     "shell.execute_reply": "2022-02-13T15:05:03.126000Z"
    },
    "id": "26acbc37",
    "papermill": {
     "duration": 36.418507,
     "end_time": "2022-02-13T15:05:03.126121",
     "exception": false,
     "start_time": "2022-02-13T15:04:26.707614",
     "status": "completed"
    },
    "tags": []
   },
   "outputs": [
    {
     "data": {
      "image/png": "[encoded data removed]",
      "text/plain": [
       "<Figure size 432x288 with 1 Axes>"
      ]
     },
     "metadata": {
      "needs_background": "light"
     },
     "output_type": "display_data"
    },
    {
     "data": {
      "image/png": "[encoded data removed]",
      "text/plain": [
       "<Figure size 432x288 with 1 Axes>"
      ]
     },
     "metadata": {
      "needs_background": "light"
     },
     "output_type": "display_data"
    }
   ],
   "source": [
    "ABC_train_test2.training_GAN_skip_connection(disc3,gen3,disc_opt,gen_opt,train_data,batch_size,n_epochs,criterion,prior_model,variance,device)"
   ]
  },
  {
   "cell_type": "code",
   "execution_count": 17,
   "id": "c5e0717b",
   "metadata": {
    "execution": {
     "iopub.execute_input": "2022-02-13T15:05:03.160030Z",
     "iopub.status.busy": "2022-02-13T15:05:03.159527Z",
     "iopub.status.idle": "2022-02-13T15:05:03.432624Z",
     "shell.execute_reply": "2022-02-13T15:05:03.432919Z"
    },
    "id": "c5e0717b",
    "papermill": {
     "duration": 0.291353,
     "end_time": "2022-02-13T15:05:03.433040",
     "exception": false,
     "start_time": "2022-02-13T15:05:03.141687",
     "status": "completed"
    },
    "tags": []
   },
   "outputs": [
    {
     "data": {
      "application/scrapbook.scrap.json+json": {
       "data": 0.055659847978691,
       "encoder": "json",
       "name": "ABC-GAN Model 3 MSE",
       "version": 1
      }
     },
     "metadata": {
      "scrapbook": {
       "data": true,
       "display": false,
       "name": "ABC-GAN Model 3 MSE"
      }
     },
     "output_type": "display_data"
    },
    {
     "data": {
      "application/scrapbook.scrap.json+json": {
       "data": 0.19036544705927372,
       "encoder": "json",
       "name": "ABC-GAN Model 3 MAE",
       "version": 1
      }
     },
     "metadata": {
      "scrapbook": {
       "data": true,
       "display": false,
       "name": "ABC-GAN Model 3 MAE"
      }
     },
     "output_type": "display_data"
    },
    {
     "data": {
      "application/scrapbook.scrap.json+json": {
       "data": 3.8073089411854744,
       "encoder": "json",
       "name": "ABC-GAN Model 3 Manhattan Distance",
       "version": 1
      }
     },
     "metadata": {
      "scrapbook": {
       "data": true,
       "display": false,
       "name": "ABC-GAN Model 3 Manhattan Distance"
      }
     },
     "output_type": "display_data"
    },
    {
     "data": {
      "application/scrapbook.scrap.json+json": {
       "data": 1.0542846155880894,
       "encoder": "json",
       "name": "ABC-GAN Model 3 Euclidean distance",
       "version": 1
      }
     },
     "metadata": {
      "scrapbook": {
       "data": true,
       "display": false,
       "name": "ABC-GAN Model 3 Euclidean distance"
      }
     },
     "output_type": "display_data"
    },
    {
     "data": {
      "application/scrapbook.scrap.json+json": {
       "data": [
        [
         0.04911695905545497,
         0.05554141351916956,
         0.05955233255578836,
         0.05581437201990301,
         0.05959085810870211,
         0.04989896167312759,
         0.05770294993140255,
         0.060131926125106795,
         0.051936313025296,
         0.0585423921856863,
         0.053272908578352304,
         0.05772727051885744,
         0.05627927533254693,
         0.05604926714031196,
         0.05969989582900148,
         0.05490422033127712,
         0.05865733510516306,
         0.05366384331305326,
         0.05714973248133316,
         0.0491340553532026,
         0.05603103061887778,
         0.051969680922518316,
         0.05484382671282869,
         0.059548379768294225,
         0.059206194754777376,
         0.05071313109192634,
         0.05919635098607688,
         0.05597409777982211,
         0.05945796868458654,
         0.056906805740994194,
         0.055787489588550565,
         0.0548324253173576,
         0.06202586140301155,
         0.053974059803281946,
         0.053060070855959,
         0.05679796150520905,
         0.05881634367869833,
         0.05196341619470522,
         0.04958166719470961,
         0.05808833847080227,
         0.057578522457282025,
         0.05803853403843444,
         0.05057721154581328,
         0.05981515741478388,
         0.05714193483884998,
         0.04888080078150353,
         0.052292223882330825,
         0.05871706971184319,
         0.05438215407034049,
         0.050154946883203856,
         0.05833728342464258,
         0.04764785709297577,
         0.05779269258377353,
         0.06111203823968715,
         0.05098735824194193,
         0.045160596253643284,
         0.05149504249364748,
         0.05708152723621877,
         0.06031115665098202,
         0.049890185889046465,
         0.05698573019244792,
         0.057014813601168876,
         0.056171000272065265,
         0.0549458664451943,
         0.0565907658076205,
         0.04515497356503008,
         0.0668504123462667,
         0.05208729737516997,
         0.050324147928156884,
         0.05671322297784712,
         0.05946742808025286,
         0.05424543310989797,
         0.05587055612306624,
         0.05873848063633338,
         0.05910165484371249,
         0.04431887495287122,
         0.05666891583325688,
         0.056024968666156284,
         0.05444554022861471,
         0.05994717889607354,
         0.050393970639818556,
         0.061189829299846746,
         0.05645140547415176,
         0.05652934479113046,
         0.05626042008156511,
         0.05242259391592935,
         0.05799631445829438,
         0.05565809282822468,
         0.06348120732173904,
         0.0507636332564397,
         0.05597725185979585,
         0.060118101634973574,
         0.05996578452675516,
         0.05903687796034858,
         0.060431864356816675,
         0.04831258386428185,
         0.05743867564869683,
         0.05539436308284497,
         0.049378923407576436,
         0.06658062059199829
        ],
        [
         0.17923356853425504,
         0.18897844515740872,
         0.19878819175064563,
         0.1996376197785139,
         0.2004645761102438,
         0.17450735792517663,
         0.19217698313295842,
         0.19931226819753647,
         0.18734475411474705,
         0.2007360927760601,
         0.1801357876509428,
         0.19006971903145314,
         0.1866672370582819,
         0.17060091756284237,
         0.20749409981071948,
         0.19376110397279261,
         0.20131089240312577,
         0.18208183869719505,
         0.185240825638175,
         0.1743310708552599,
         0.19171424619853497,
         0.18720125667750837,
         0.18239947371184825,
         0.19295580610632895,
         0.20148347951471807,
         0.17605955190956593,
         0.19144990257918834,
         0.18811801001429557,
         0.19311110638082027,
         0.19739202223718166,
         0.1906900342553854,
         0.18874458521604537,
         0.20656281262636184,
         0.18461931608617305,
         0.18285638689994813,
         0.198218035325408,
         0.18910755552351474,
         0.17513255290687085,
         0.17854514941573144,
         0.19658590853214264,
         0.18367066904902457,
         0.19591553546488286,
         0.18368429318070412,
         0.19584424942731857,
         0.18723159804940223,
         0.17750426903367042,
         0.19267099276185035,
         0.19213234335184098,
         0.17750553004443645,
         0.17788053192198278,
         0.1939041342586279,
         0.1824911955744028,
         0.19631960503757,
         0.2042294882237911,
         0.18148183897137643,
         0.17440239675343036,
         0.18308043889701367,
         0.18834747597575188,
         0.20326265953481198,
         0.17462653517723084,
         0.18574459813535213,
         0.2004212561994791,
         0.19872998297214509,
         0.18775672800838947,
         0.1983309481292963,
         0.16910418234765529,
         0.2107875023037195,
         0.18857396580278873,
         0.19581458531320095,
         0.1870216079056263,
         0.19882068410515785,
         0.18843837603926658,
         0.20009322240948677,
         0.1979928884655237,
         0.191860156878829,
         0.17022025883197783,
         0.19151623584330082,
         0.18092797920107842,
         0.19657056257128716,
         0.19845018163323402,
         0.1723421670496464,
         0.20124485157430172,
         0.19622425697743892,
         0.18602943681180478,
         0.1941895205527544,
         0.1883330952376127,
         0.19773485250771045,
         0.18705881349742412,
         0.21246174052357675,
         0.18525434248149394,
         0.19002112783491612,
         0.19485765285789966,
         0.19758805371820926,
         0.19175400175154209,
         0.21177433840930462,
         0.1735710885375738,
         0.19516974724829197,
         0.19051617346704006,
         0.18659103102982044,
         0.21464618779718875
        ],
        [
         3.5846713706851006,
         3.7795689031481743,
         3.9757638350129128,
         3.992752395570278,
         4.009291522204876,
         3.4901471585035324,
         3.8435396626591682,
         3.9862453639507294,
         3.746895082294941,
         4.014721855521202,
         3.602715753018856,
         3.8013943806290627,
         3.733344741165638,
         3.4120183512568474,
         4.14988199621439,
         3.8752220794558525,
         4.026217848062515,
         3.641636773943901,
         3.7048165127635,
         3.486621417105198,
         3.8342849239706993,
         3.744025133550167,
         3.647989474236965,
         3.8591161221265793,
         4.029669590294361,
         3.5211910381913185,
         3.828998051583767,
         3.7623602002859116,
         3.8622221276164055,
         3.9478404447436333,
         3.813800685107708,
         3.7748917043209076,
         4.131256252527237,
         3.692386321723461,
         3.6571277379989624,
         3.9643607065081596,
         3.782151110470295,
         3.502651058137417,
         3.5709029883146286,
         3.931718170642853,
         3.6734133809804916,
         3.918310709297657,
         3.6736858636140823,
         3.9168849885463715,
         3.7446319609880447,
         3.5500853806734085,
         3.853419855237007,
         3.8426468670368195,
         3.550110600888729,
         3.5576106384396553,
         3.878082685172558,
         3.649823911488056,
         3.9263921007514,
         4.0845897644758224,
         3.6296367794275284,
         3.4880479350686073,
         3.6616087779402733,
         3.7669495195150375,
         4.0652531906962395,
         3.4925307035446167,
         3.7148919627070427,
         4.008425123989582,
         3.9745996594429016,
         3.7551345601677895,
         3.966618962585926,
         3.382083646953106,
         4.21575004607439,
         3.7714793160557747,
         3.916291706264019,
         3.740432158112526,
         3.976413682103157,
         3.7687675207853317,
         4.001864448189735,
         3.9598577693104744,
         3.83720313757658,
         3.404405176639557,
         3.8303247168660164,
         3.6185595840215683,
         3.931411251425743,
         3.9690036326646805,
         3.4468433409929276,
         4.024897031486034,
         3.9244851395487785,
         3.7205887362360954,
         3.883790411055088,
         3.7666619047522545,
         3.954697050154209,
         3.7411762699484825,
         4.249234810471535,
         3.705086849629879,
         3.8004225566983223,
         3.8971530571579933,
         3.9517610743641853,
         3.835080035030842,
         4.235486768186092,
         3.4714217707514763,
         3.9033949449658394,
         3.8103234693408012,
         3.731820620596409,
         4.292923755943775
        ],
        [
         0.9911302543606967,
         1.0539583817131448,
         1.0913508377766368,
         1.056545048920329,
         1.0917037886597456,
         0.9989891057777115,
         1.07427138034486,
         1.096648768978535,
         1.0191792092198113,
         1.0820572275594882,
         1.0322103330073025,
         1.0744977479628093,
         1.0609361463589309,
         1.0587659527989361,
         1.0927021170383215,
         1.0478952269313675,
         1.0831189695057792,
         1.035990765528856,
         1.0691092786177956,
         0.9913027322992971,
         1.0585936956063717,
         1.0195065563547723,
         1.0473187357517166,
         1.091314617956657,
         1.088174570138242,
         1.0071060628546165,
         1.088084105077148,
         1.0580557431423177,
         1.0904858429579591,
         1.0668346239318838,
         1.0562905811238739,
         1.047209867384352,
         1.1137850906078026,
         1.0389808448983258,
         1.030146308598531,
         1.065813881549767,
         1.0845860378844854,
         1.0194451058757918,
         0.9958078850331484,
         1.0778528514672332,
         1.073112505353302,
         1.0773906815861594,
         1.0057555522671826,
         1.0937564392019266,
         1.069036340250882,
         0.9887446665494942,
         1.0226653791180262,
         1.0836703346668044,
         1.0429012807580638,
         1.001548270261637,
         1.08016001985486,
         0.9761952375726463,
         1.0751064373704915,
         1.1055499829468332,
         1.0098253140216076,
         0.9503746235421406,
         1.0148403075720582,
         1.0684711248903151,
         1.0982819005244693,
         0.9989012552704744,
         1.0675741678445383,
         1.0678465582766925,
         1.059915093505751,
         1.0482925779112844,
         1.0638680915190615,
         0.9503154588349079,
         1.1562907276828496,
         1.0206595649399457,
         1.0032362426483294,
         1.065018525452465,
         1.0905725842900404,
         1.0415894883292358,
         1.0570766871241295,
         1.0838678944994484,
         1.0872134550649426,
         0.941476233931279,
         1.0646024218764194,
         1.0585364298516728,
         1.0435088905094647,
         1.0949628203375084,
         1.0039319761798462,
         1.106253400445366,
         1.062557344091619,
         1.06329059801289,
         1.0607584087016715,
         1.0239393919166246,
         1.0769987414876063,
         1.0550648589373517,
         1.1267759965648811,
         1.0076073963249743,
         1.05808555287175,
         1.0965227004943725,
         1.095132727360069,
         1.086617485229725,
         1.0993804105660303,
         0.9829810157300276,
         1.0718085243988016,
         1.0525622364767317,
         0.9937698265451255,
         1.1539551169087843
        ]
       ],
       "encoder": "json",
       "name": "ABC_GAN_3 Metrics",
       "version": 1
      }
     },
     "metadata": {
      "scrapbook": {
       "data": true,
       "display": false,
       "name": "ABC_GAN_3 Metrics"
      }
     },
     "output_type": "display_data"
    },
    {
     "name": "stdout",
     "output_type": "stream",
     "text": [
      "MSE\n",
      "0.055659847978691\n"
     ]
    }
   ],
   "source": [
    "ABC_GAN3_metrics=ABC_train_test2.test_generator(gen3,test_data,prior_model,variance,\"3\",device)\n",
    "sb.glue(\"ABC_GAN_3 Metrics\",ABC_GAN3_metrics)\n",
    "\n",
    "print(\"MSE\")\n",
    "print(mean(ABC_GAN3_metrics[0]))"
   ]
  },
  {
   "cell_type": "code",
   "execution_count": 18,
   "id": "c8e46b48",
   "metadata": {
    "execution": {
     "iopub.execute_input": "2022-02-13T15:05:03.490613Z",
     "iopub.status.busy": "2022-02-13T15:05:03.490236Z",
     "iopub.status.idle": "2022-02-13T15:05:03.786349Z",
     "shell.execute_reply": "2022-02-13T15:05:03.786644Z"
    },
    "id": "c8e46b48",
    "papermill": {
     "duration": 0.315607,
     "end_time": "2022-02-13T15:05:03.786764",
     "exception": false,
     "start_time": "2022-02-13T15:05:03.471157",
     "status": "completed"
    },
    "tags": []
   },
   "outputs": [
    {
     "data": {
      "image/png": "[encoded data removed]",
      "text/plain": [
       "<Figure size 432x288 with 1 Axes>"
      ]
     },
     "metadata": {
      "needs_background": "light"
     },
     "output_type": "display_data"
    },
    {
     "data": {
      "image/png": "[encoded data removed]",
      "text/plain": [
       "<Figure size 432x288 with 1 Axes>"
      ]
     },
     "metadata": {
      "needs_background": "light"
     },
     "output_type": "display_data"
    },
    {
     "data": {
      "image/png": "[encoded data removed]",
      "text/plain": [
       "<Figure size 432x288 with 1 Axes>"
      ]
     },
     "metadata": {
      "needs_background": "light"
     },
     "output_type": "display_data"
    },
    {
     "data": {
      "image/png": "[encoded data removed]",
      "text/plain": [
       "<Figure size 432x288 with 1 Axes>"
      ]
     },
     "metadata": {
      "needs_background": "light"
     },
     "output_type": "display_data"
    }
   ],
   "source": [
    "sanityChecks.discProbVsError(train_data,disc3,device)\n",
    "sanityChecks.discProbVsError(test_data,disc3,device)"
   ]
  },
  {
   "cell_type": "markdown",
   "id": "a5bd74c3",
   "metadata": {
    "id": "a5bd74c3",
    "papermill": {
     "duration": 0.01937,
     "end_time": "2022-02-13T15:05:03.825778",
     "exception": false,
     "start_time": "2022-02-13T15:05:03.806408",
     "status": "completed"
    },
    "tags": []
   },
   "source": [
    "## Skip Connection Model Analysis - ABC-GAN "
   ]
  },
  {
   "cell_type": "markdown",
   "id": "5744a8bf",
   "metadata": {
    "id": "5744a8bf",
    "papermill": {
     "duration": 0.019789,
     "end_time": "2022-02-13T15:05:03.864757",
     "exception": false,
     "start_time": "2022-02-13T15:05:03.844968",
     "status": "completed"
    },
    "tags": []
   },
   "source": [
    "### Weight Analysis \n",
    "\n",
    "Study the weights of the skip connection layer\n",
    "\n",
    "Equation of the skip connection is \n",
    "\n",
    "$output = y_{gan} * w + y_{abc} * (1-w)$"
   ]
  },
  {
   "cell_type": "code",
   "execution_count": 19,
   "id": "52c31dea",
   "metadata": {
    "execution": {
     "iopub.execute_input": "2022-02-13T15:05:03.906306Z",
     "iopub.status.busy": "2022-02-13T15:05:03.905864Z",
     "iopub.status.idle": "2022-02-13T15:05:03.909249Z",
     "shell.execute_reply": "2022-02-13T15:05:03.909488Z"
    },
    "id": "52c31dea",
    "papermill": {
     "duration": 0.025363,
     "end_time": "2022-02-13T15:05:03.909602",
     "exception": false,
     "start_time": "2022-02-13T15:05:03.884239",
     "status": "completed"
    },
    "tags": []
   },
   "outputs": [
    {
     "name": "stdout",
     "output_type": "stream",
     "text": [
      "Weight of the node at skip connection\n",
      "Parameter containing:\n",
      "tensor([[0.1711]], requires_grad=True)\n"
     ]
    },
    {
     "data": {
      "application/scrapbook.scrap.json+json": {
       "data": 0.1710675060749054,
       "encoder": "json",
       "name": "Skip Connection Weight",
       "version": 1
      }
     },
     "metadata": {
      "scrapbook": {
       "data": true,
       "display": false,
       "name": "Skip Connection Weight"
      }
     },
     "output_type": "display_data"
    }
   ],
   "source": [
    "print(\"Weight of the node at skip connection\")\n",
    "for name,param in gen3.named_parameters():\n",
    "    if(name == \"skipNode.weight\"):\n",
    "        print(param)\n",
    "        sb.glue(\"Skip Connection Weight\",param.item())"
   ]
  }
 ],
 "metadata": {
  "colab": {
   "collapsed_sections": [],
   "name": "ABC_GAN_Model-Catboost_Pre-gen.ipynb",
   "provenance": []
  },
  "interpreter": {
   "hash": "31f2aee4e71d21fbe5cf8b01ff0e069b9275f58929596ceb00d14d90e3e16cd6"
  },
  "kernelspec": {
   "display_name": "Python 3 (ipykernel)",
   "language": "python",
   "name": "python3"
  },
  "language_info": {
   "codemirror_mode": {
    "name": "ipython",
    "version": 3
   },
   "file_extension": ".py",
   "mimetype": "text/x-python",
   "name": "python",
   "nbconvert_exporter": "python",
   "pygments_lexer": "ipython3",
   "version": "3.8.11"
  },
  "papermill": {
   "default_parameters": {},
   "duration": 55.387982,
   "end_time": "2022-02-13T15:05:04.236353",
   "environment_variables": {},
   "exception": null,
   "input_path": "ABC_GAN-Catboost.ipynb",
   "output_path": "./ABC_GAN_Catboost/ABC-GAN_output_9_1.ipynb",
   "parameters": {
    "variance": 0.1
   },
   "start_time": "2022-02-13T15:04:08.848371",
   "version": "2.3.3"
  }
 },
 "nbformat": 4,
 "nbformat_minor": 5
}