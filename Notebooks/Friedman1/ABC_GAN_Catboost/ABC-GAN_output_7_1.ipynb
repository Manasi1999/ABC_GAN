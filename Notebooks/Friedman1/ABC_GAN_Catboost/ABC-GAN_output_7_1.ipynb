{
 "cells": [
  {
   "cell_type": "markdown",
   "id": "622780e6",
   "metadata": {
    "id": "622780e6",
    "papermill": {
     "duration": 0.030656,
     "end_time": "2022-02-13T14:58:29.308423",
     "exception": false,
     "start_time": "2022-02-13T14:58:29.277767",
     "status": "completed"
    },
    "tags": []
   },
   "source": [
    "## Import Libraries "
   ]
  },
  {
   "cell_type": "code",
   "execution_count": 1,
   "id": "a62397e3",
   "metadata": {
    "execution": {
     "iopub.execute_input": "2022-02-13T14:58:29.348145Z",
     "iopub.status.busy": "2022-02-13T14:58:29.347551Z",
     "iopub.status.idle": "2022-02-13T14:58:29.349837Z",
     "shell.execute_reply": "2022-02-13T14:58:29.350173Z"
    },
    "id": "a62397e3",
    "papermill": {
     "duration": 0.024241,
     "end_time": "2022-02-13T14:58:29.350389",
     "exception": false,
     "start_time": "2022-02-13T14:58:29.326148",
     "status": "completed"
    },
    "tags": []
   },
   "outputs": [],
   "source": [
    "import warnings\n",
    "import sys\n",
    "sys.path.insert(0, '../../src')\n",
    "warnings.filterwarnings('ignore')"
   ]
  },
  {
   "cell_type": "code",
   "execution_count": 2,
   "id": "d6a4e155",
   "metadata": {
    "execution": {
     "iopub.execute_input": "2022-02-13T14:58:29.370896Z",
     "iopub.status.busy": "2022-02-13T14:58:29.370497Z",
     "iopub.status.idle": "2022-02-13T14:58:30.947023Z",
     "shell.execute_reply": "2022-02-13T14:58:30.947288Z"
    },
    "id": "d6a4e155",
    "papermill": {
     "duration": 1.587377,
     "end_time": "2022-02-13T14:58:30.947419",
     "exception": false,
     "start_time": "2022-02-13T14:58:29.360042",
     "status": "completed"
    },
    "tags": []
   },
   "outputs": [],
   "source": [
    "import ABC_train_test2\n",
    "import friedman1Dataset\n",
    "import network\n",
    "import dataset\n",
    "import sanityChecks\n",
    "import torch \n",
    "import scrapbook as sb\n",
    "from statistics import mean \n",
    "import catboost as ctb \n",
    "from sklearn.model_selection import train_test_split\n",
    "from sklearn.metrics import mean_squared_error,mean_absolute_error\n",
    "import numpy as np"
   ]
  },
  {
   "cell_type": "markdown",
   "id": "2fa5b0f7",
   "metadata": {
    "id": "2fa5b0f7",
    "papermill": {
     "duration": 0.006774,
     "end_time": "2022-02-13T14:58:30.961335",
     "exception": false,
     "start_time": "2022-02-13T14:58:30.954561",
     "status": "completed"
    },
    "tags": []
   },
   "source": [
    "## Parameters "
   ]
  },
  {
   "cell_type": "code",
   "execution_count": 3,
   "id": "783186fb",
   "metadata": {
    "execution": {
     "iopub.execute_input": "2022-02-13T14:58:30.977036Z",
     "iopub.status.busy": "2022-02-13T14:58:30.976660Z",
     "iopub.status.idle": "2022-02-13T14:58:30.978008Z",
     "shell.execute_reply": "2022-02-13T14:58:30.978254Z"
    },
    "id": "783186fb",
    "papermill": {
     "duration": 0.010288,
     "end_time": "2022-02-13T14:58:30.978363",
     "exception": false,
     "start_time": "2022-02-13T14:58:30.968075",
     "status": "completed"
    },
    "tags": [
     "parameters"
    ]
   },
   "outputs": [],
   "source": [
    "variance = 1"
   ]
  },
  {
   "cell_type": "code",
   "execution_count": 4,
   "id": "cdc0be55",
   "metadata": {
    "execution": {
     "iopub.execute_input": "2022-02-13T14:58:30.993753Z",
     "iopub.status.busy": "2022-02-13T14:58:30.993405Z",
     "iopub.status.idle": "2022-02-13T14:58:30.994702Z",
     "shell.execute_reply": "2022-02-13T14:58:30.994937Z"
    },
    "papermill": {
     "duration": 0.009831,
     "end_time": "2022-02-13T14:58:30.995041",
     "exception": false,
     "start_time": "2022-02-13T14:58:30.985210",
     "status": "completed"
    },
    "tags": [
     "injected-parameters"
    ]
   },
   "outputs": [],
   "source": [
    "# Parameters\n",
    "variance = 0.1\n"
   ]
  },
  {
   "cell_type": "markdown",
   "id": "391cdbfd",
   "metadata": {
    "id": "391cdbfd",
    "papermill": {
     "duration": 0.006797,
     "end_time": "2022-02-13T14:58:31.008726",
     "exception": false,
     "start_time": "2022-02-13T14:58:31.001929",
     "status": "completed"
    },
    "tags": []
   },
   "source": [
    "## Dataset \n"
   ]
  },
  {
   "cell_type": "code",
   "execution_count": 5,
   "id": "5b51f161",
   "metadata": {
    "execution": {
     "iopub.execute_input": "2022-02-13T14:58:31.024195Z",
     "iopub.status.busy": "2022-02-13T14:58:31.023847Z",
     "iopub.status.idle": "2022-02-13T14:58:31.025124Z",
     "shell.execute_reply": "2022-02-13T14:58:31.025371Z"
    },
    "id": "5b51f161",
    "papermill": {
     "duration": 0.009913,
     "end_time": "2022-02-13T14:58:31.025478",
     "exception": false,
     "start_time": "2022-02-13T14:58:31.015565",
     "status": "completed"
    },
    "tags": []
   },
   "outputs": [],
   "source": [
    "#Parameters \n",
    "n_features = 5\n",
    "n_samples= 100\n",
    "n_target = 1 "
   ]
  },
  {
   "cell_type": "code",
   "execution_count": 6,
   "id": "5d6eced4",
   "metadata": {
    "execution": {
     "iopub.execute_input": "2022-02-13T14:58:31.042555Z",
     "iopub.status.busy": "2022-02-13T14:58:31.042191Z",
     "iopub.status.idle": "2022-02-13T14:58:31.046974Z",
     "shell.execute_reply": "2022-02-13T14:58:31.047196Z"
    },
    "id": "5d6eced4",
    "papermill": {
     "duration": 0.01487,
     "end_time": "2022-02-13T14:58:31.047302",
     "exception": false,
     "start_time": "2022-02-13T14:58:31.032432",
     "status": "completed"
    },
    "tags": []
   },
   "outputs": [
    {
     "name": "stdout",
     "output_type": "stream",
     "text": [
      "         X0        X1        X2        X3        X4         Y\n",
      "0 -0.901986  1.272639  1.110129  1.035108 -0.161078  0.875605\n",
      "1 -0.269965  0.034888  0.670793  1.533061 -1.490737  0.583444\n",
      "2  1.145583  1.078848  0.005840  1.373713 -0.915658  0.642995\n",
      "3  1.386592  1.056002  1.217074 -1.297793 -0.845560 -0.591610\n",
      "4 -0.285803  0.394247 -0.448232  1.710332  1.080310  1.437262\n"
     ]
    }
   ],
   "source": [
    "X,Y = friedman1Dataset.friedman1_data(n_samples,n_features)"
   ]
  },
  {
   "cell_type": "code",
   "execution_count": 7,
   "id": "fe007438",
   "metadata": {
    "execution": {
     "iopub.execute_input": "2022-02-13T14:58:31.065422Z",
     "iopub.status.busy": "2022-02-13T14:58:31.064959Z",
     "iopub.status.idle": "2022-02-13T14:58:31.066553Z",
     "shell.execute_reply": "2022-02-13T14:58:31.066825Z"
    },
    "id": "fe007438",
    "papermill": {
     "duration": 0.012347,
     "end_time": "2022-02-13T14:58:31.066948",
     "exception": false,
     "start_time": "2022-02-13T14:58:31.054601",
     "status": "completed"
    },
    "tags": []
   },
   "outputs": [],
   "source": [
    "#Train test split for dataset \n",
    "X_train,X_test,Y_train,Y_test = train_test_split(X,Y,test_size = 0.2)\n",
    "train_data = dataset.CustomDataset(X_train,Y_train)\n",
    "test_data = dataset.CustomDataset(X_test,Y_test)\n"
   ]
  },
  {
   "cell_type": "markdown",
   "id": "a9a1af34",
   "metadata": {
    "id": "a9a1af34",
    "papermill": {
     "duration": 0.007593,
     "end_time": "2022-02-13T14:58:31.082242",
     "exception": false,
     "start_time": "2022-02-13T14:58:31.074649",
     "status": "completed"
    },
    "tags": []
   },
   "source": [
    "## Training Parameters "
   ]
  },
  {
   "cell_type": "code",
   "execution_count": 8,
   "id": "952b7fc8",
   "metadata": {
    "execution": {
     "iopub.execute_input": "2022-02-13T14:58:31.100146Z",
     "iopub.status.busy": "2022-02-13T14:58:31.099758Z",
     "iopub.status.idle": "2022-02-13T14:58:31.101031Z",
     "shell.execute_reply": "2022-02-13T14:58:31.101261Z"
    },
    "id": "952b7fc8",
    "papermill": {
     "duration": 0.011583,
     "end_time": "2022-02-13T14:58:31.101380",
     "exception": false,
     "start_time": "2022-02-13T14:58:31.089797",
     "status": "completed"
    },
    "tags": []
   },
   "outputs": [],
   "source": [
    "batch_size = 32\n",
    "n_epochs = 1000\n",
    "#Select the device \n",
    "device = torch.device('cuda' if torch.cuda.is_available() else 'cpu')"
   ]
  },
  {
   "cell_type": "markdown",
   "id": "a95e1600",
   "metadata": {
    "id": "a95e1600",
    "papermill": {
     "duration": 0.007564,
     "end_time": "2022-02-13T14:58:31.116501",
     "exception": false,
     "start_time": "2022-02-13T14:58:31.108937",
     "status": "completed"
    },
    "tags": []
   },
   "source": [
    "# ABC Pre-generator Model \n",
    "\n",
    "1. The catboost model is used as a pre-generator model for the ABC-GAN. \n",
    "2. The model is first trained on the entire dataset \n",
    "3. It generats X,Y pairs and we add some Gaussian noise with mean 0 and variance 1 to it which is then feed as input to the generator.\n"
   ]
  },
  {
   "cell_type": "code",
   "execution_count": 9,
   "id": "ff8ce7bd",
   "metadata": {
    "execution": {
     "iopub.execute_input": "2022-02-13T14:58:31.135502Z",
     "iopub.status.busy": "2022-02-13T14:58:31.135089Z",
     "iopub.status.idle": "2022-02-13T14:58:31.759596Z",
     "shell.execute_reply": "2022-02-13T14:58:31.759905Z"
    },
    "id": "ff8ce7bd",
    "papermill": {
     "duration": 0.635958,
     "end_time": "2022-02-13T14:58:31.760032",
     "exception": false,
     "start_time": "2022-02-13T14:58:31.124074",
     "status": "completed"
    },
    "tags": []
   },
   "outputs": [
    {
     "name": "stdout",
     "output_type": "stream",
     "text": [
      "Learning rate set to 0.024897\n",
      "0:\tlearn: 0.9729722\ttotal: 57.2ms\tremaining: 57.2s\n",
      "1:\tlearn: 0.9630096\ttotal: 58ms\tremaining: 29s\n",
      "2:\tlearn: 0.9526877\ttotal: 58.6ms\tremaining: 19.5s\n",
      "3:\tlearn: 0.9425607\ttotal: 59.2ms\tremaining: 14.7s\n",
      "4:\tlearn: 0.9338617\ttotal: 59.6ms\tremaining: 11.9s\n",
      "5:\tlearn: 0.9239519\ttotal: 60.2ms\tremaining: 9.97s\n",
      "6:\tlearn: 0.9127540\ttotal: 60.6ms\tremaining: 8.6s\n",
      "7:\tlearn: 0.9032976\ttotal: 61.1ms\tremaining: 7.58s\n",
      "8:\tlearn: 0.8947811\ttotal: 61.6ms\tremaining: 6.78s\n",
      "9:\tlearn: 0.8867782\ttotal: 62ms\tremaining: 6.14s\n",
      "10:\tlearn: 0.8779893\ttotal: 62.6ms\tremaining: 5.63s\n",
      "11:\tlearn: 0.8692678\ttotal: 63.1ms\tremaining: 5.19s\n",
      "12:\tlearn: 0.8603498\ttotal: 63.6ms\tremaining: 4.83s\n",
      "13:\tlearn: 0.8516081\ttotal: 64.2ms\tremaining: 4.52s\n",
      "14:\tlearn: 0.8443321\ttotal: 64.8ms\tremaining: 4.25s\n",
      "15:\tlearn: 0.8370925\ttotal: 65.5ms\tremaining: 4.03s\n",
      "16:\tlearn: 0.8293758\ttotal: 66ms\tremaining: 3.82s\n",
      "17:\tlearn: 0.8207588\ttotal: 66.7ms\tremaining: 3.64s\n",
      "18:\tlearn: 0.8142835\ttotal: 67.1ms\tremaining: 3.46s\n",
      "19:\tlearn: 0.8070793\ttotal: 67.6ms\tremaining: 3.31s\n",
      "20:\tlearn: 0.7992555\ttotal: 68.2ms\tremaining: 3.18s\n",
      "21:\tlearn: 0.7917402\ttotal: 68.9ms\tremaining: 3.06s\n",
      "22:\tlearn: 0.7842773\ttotal: 69.3ms\tremaining: 2.94s\n",
      "23:\tlearn: 0.7760544\ttotal: 69.8ms\tremaining: 2.84s\n",
      "24:\tlearn: 0.7675818\ttotal: 70.4ms\tremaining: 2.75s\n",
      "25:\tlearn: 0.7600536\ttotal: 70.9ms\tremaining: 2.65s\n",
      "26:\tlearn: 0.7537388\ttotal: 71.5ms\tremaining: 2.58s\n",
      "27:\tlearn: 0.7459064\ttotal: 72ms\tremaining: 2.5s\n",
      "28:\tlearn: 0.7383865\ttotal: 72.5ms\tremaining: 2.43s\n",
      "29:\tlearn: 0.7308220\ttotal: 73ms\tremaining: 2.36s\n",
      "30:\tlearn: 0.7229721\ttotal: 73.5ms\tremaining: 2.3s\n",
      "31:\tlearn: 0.7150858\ttotal: 74ms\tremaining: 2.24s\n",
      "32:\tlearn: 0.7090497\ttotal: 74.4ms\tremaining: 2.18s\n",
      "33:\tlearn: 0.7013576\ttotal: 74.9ms\tremaining: 2.13s\n",
      "34:\tlearn: 0.6951075\ttotal: 75.4ms\tremaining: 2.08s\n",
      "35:\tlearn: 0.6908590\ttotal: 76ms\tremaining: 2.04s\n",
      "36:\tlearn: 0.6844243\ttotal: 76.4ms\tremaining: 1.99s\n",
      "37:\tlearn: 0.6780282\ttotal: 76.9ms\tremaining: 1.95s\n",
      "38:\tlearn: 0.6725760\ttotal: 77.4ms\tremaining: 1.91s\n",
      "39:\tlearn: 0.6661816\ttotal: 77.9ms\tremaining: 1.87s\n",
      "40:\tlearn: 0.6597133\ttotal: 78.4ms\tremaining: 1.83s\n",
      "41:\tlearn: 0.6542065\ttotal: 79ms\tremaining: 1.8s\n",
      "42:\tlearn: 0.6491254\ttotal: 79.5ms\tremaining: 1.77s\n",
      "43:\tlearn: 0.6434396\ttotal: 80.1ms\tremaining: 1.74s\n",
      "44:\tlearn: 0.6373486\ttotal: 80.5ms\tremaining: 1.71s\n",
      "45:\tlearn: 0.6311521\ttotal: 81ms\tremaining: 1.68s\n",
      "46:\tlearn: 0.6267192\ttotal: 81.4ms\tremaining: 1.65s\n",
      "47:\tlearn: 0.6211758\ttotal: 82.5ms\tremaining: 1.64s\n",
      "48:\tlearn: 0.6153612\ttotal: 83ms\tremaining: 1.61s\n",
      "49:\tlearn: 0.6094646\ttotal: 83.5ms\tremaining: 1.59s\n",
      "50:\tlearn: 0.6033740\ttotal: 84ms\tremaining: 1.56s\n",
      "51:\tlearn: 0.5972765\ttotal: 84.5ms\tremaining: 1.54s\n",
      "52:\tlearn: 0.5913849\ttotal: 85ms\tremaining: 1.52s\n",
      "53:\tlearn: 0.5865720\ttotal: 85.6ms\tremaining: 1.5s\n",
      "54:\tlearn: 0.5822994\ttotal: 86ms\tremaining: 1.48s\n",
      "55:\tlearn: 0.5773218\ttotal: 86.5ms\tremaining: 1.46s\n",
      "56:\tlearn: 0.5725792\ttotal: 87.1ms\tremaining: 1.44s\n",
      "57:\tlearn: 0.5680048\ttotal: 87.5ms\tremaining: 1.42s\n",
      "58:\tlearn: 0.5635882\ttotal: 88.1ms\tremaining: 1.41s\n",
      "59:\tlearn: 0.5582243\ttotal: 88.5ms\tremaining: 1.39s\n",
      "60:\tlearn: 0.5535130\ttotal: 89ms\tremaining: 1.37s\n",
      "61:\tlearn: 0.5476875\ttotal: 89.4ms\tremaining: 1.35s\n",
      "62:\tlearn: 0.5431398\ttotal: 89.9ms\tremaining: 1.34s\n",
      "63:\tlearn: 0.5378952\ttotal: 90.5ms\tremaining: 1.32s\n",
      "64:\tlearn: 0.5334866\ttotal: 91.1ms\tremaining: 1.31s\n",
      "65:\tlearn: 0.5289225\ttotal: 91.7ms\tremaining: 1.3s\n",
      "66:\tlearn: 0.5237671\ttotal: 92.2ms\tremaining: 1.28s\n",
      "67:\tlearn: 0.5193649\ttotal: 92.7ms\tremaining: 1.27s\n",
      "68:\tlearn: 0.5152987\ttotal: 93.1ms\tremaining: 1.26s\n",
      "69:\tlearn: 0.5101575\ttotal: 93.6ms\tremaining: 1.24s\n",
      "70:\tlearn: 0.5068572\ttotal: 93.8ms\tremaining: 1.23s\n",
      "71:\tlearn: 0.5035409\ttotal: 94.4ms\tremaining: 1.22s\n",
      "72:\tlearn: 0.5001184\ttotal: 94.9ms\tremaining: 1.2s\n",
      "73:\tlearn: 0.4958312\ttotal: 95.3ms\tremaining: 1.19s\n",
      "74:\tlearn: 0.4916474\ttotal: 95.8ms\tremaining: 1.18s\n",
      "75:\tlearn: 0.4878295\ttotal: 96.2ms\tremaining: 1.17s\n",
      "76:\tlearn: 0.4843961\ttotal: 96.6ms\tremaining: 1.16s\n",
      "77:\tlearn: 0.4798459\ttotal: 97.1ms\tremaining: 1.15s\n",
      "78:\tlearn: 0.4765724\ttotal: 97.7ms\tremaining: 1.14s\n",
      "79:\tlearn: 0.4726963\ttotal: 98ms\tremaining: 1.13s\n",
      "80:\tlearn: 0.4687709\ttotal: 98.6ms\tremaining: 1.12s\n",
      "81:\tlearn: 0.4646495\ttotal: 99ms\tremaining: 1.11s\n",
      "82:\tlearn: 0.4605336\ttotal: 99.4ms\tremaining: 1.1s\n",
      "83:\tlearn: 0.4567200\ttotal: 100ms\tremaining: 1.09s\n",
      "84:\tlearn: 0.4534123\ttotal: 100ms\tremaining: 1.08s\n",
      "85:\tlearn: 0.4499181\ttotal: 101ms\tremaining: 1.08s\n",
      "86:\tlearn: 0.4467622\ttotal: 102ms\tremaining: 1.07s\n",
      "87:\tlearn: 0.4429574\ttotal: 102ms\tremaining: 1.06s\n",
      "88:\tlearn: 0.4392677\ttotal: 103ms\tremaining: 1.05s\n"
     ]
    },
    {
     "name": "stdout",
     "output_type": "stream",
     "text": [
      "89:\tlearn: 0.4357070\ttotal: 104ms\tremaining: 1.05s\n",
      "90:\tlearn: 0.4319395\ttotal: 104ms\tremaining: 1.04s\n",
      "91:\tlearn: 0.4286156\ttotal: 105ms\tremaining: 1.03s\n",
      "92:\tlearn: 0.4251957\ttotal: 105ms\tremaining: 1.02s\n",
      "93:\tlearn: 0.4215336\ttotal: 106ms\tremaining: 1.02s\n",
      "94:\tlearn: 0.4185409\ttotal: 107ms\tremaining: 1.01s\n",
      "95:\tlearn: 0.4155752\ttotal: 107ms\tremaining: 1.01s\n",
      "96:\tlearn: 0.4127753\ttotal: 107ms\tremaining: 1000ms\n",
      "97:\tlearn: 0.4100917\ttotal: 108ms\tremaining: 991ms\n",
      "98:\tlearn: 0.4070410\ttotal: 108ms\tremaining: 984ms\n",
      "99:\tlearn: 0.4034499\ttotal: 109ms\tremaining: 977ms\n",
      "100:\tlearn: 0.4005577\ttotal: 109ms\tremaining: 970ms\n",
      "101:\tlearn: 0.3971741\ttotal: 109ms\tremaining: 963ms\n",
      "102:\tlearn: 0.3945002\ttotal: 110ms\tremaining: 956ms\n",
      "103:\tlearn: 0.3913696\ttotal: 110ms\tremaining: 951ms\n",
      "104:\tlearn: 0.3886203\ttotal: 111ms\tremaining: 944ms\n",
      "105:\tlearn: 0.3859108\ttotal: 111ms\tremaining: 939ms\n",
      "106:\tlearn: 0.3828297\ttotal: 112ms\tremaining: 932ms\n",
      "107:\tlearn: 0.3796109\ttotal: 112ms\tremaining: 925ms\n",
      "108:\tlearn: 0.3769579\ttotal: 112ms\tremaining: 919ms\n",
      "109:\tlearn: 0.3742398\ttotal: 113ms\tremaining: 914ms\n",
      "110:\tlearn: 0.3718437\ttotal: 113ms\tremaining: 908ms\n",
      "111:\tlearn: 0.3693778\ttotal: 114ms\tremaining: 902ms\n",
      "112:\tlearn: 0.3664914\ttotal: 114ms\tremaining: 897ms\n",
      "113:\tlearn: 0.3640768\ttotal: 115ms\tremaining: 892ms\n",
      "114:\tlearn: 0.3610299\ttotal: 115ms\tremaining: 887ms\n",
      "115:\tlearn: 0.3581979\ttotal: 116ms\tremaining: 882ms\n",
      "116:\tlearn: 0.3555799\ttotal: 116ms\tremaining: 877ms\n",
      "117:\tlearn: 0.3530642\ttotal: 117ms\tremaining: 878ms\n",
      "118:\tlearn: 0.3509945\ttotal: 118ms\tremaining: 873ms\n",
      "119:\tlearn: 0.3483811\ttotal: 118ms\tremaining: 869ms\n",
      "120:\tlearn: 0.3459393\ttotal: 119ms\tremaining: 865ms\n",
      "121:\tlearn: 0.3436567\ttotal: 120ms\tremaining: 860ms\n",
      "122:\tlearn: 0.3410553\ttotal: 120ms\tremaining: 856ms\n",
      "123:\tlearn: 0.3383802\ttotal: 120ms\tremaining: 851ms\n",
      "124:\tlearn: 0.3358633\ttotal: 121ms\tremaining: 846ms\n",
      "125:\tlearn: 0.3336217\ttotal: 121ms\tremaining: 842ms\n",
      "126:\tlearn: 0.3306204\ttotal: 122ms\tremaining: 839ms\n",
      "127:\tlearn: 0.3286645\ttotal: 123ms\tremaining: 835ms\n",
      "128:\tlearn: 0.3258074\ttotal: 123ms\tremaining: 831ms\n",
      "129:\tlearn: 0.3235075\ttotal: 124ms\tremaining: 827ms\n",
      "130:\tlearn: 0.3212142\ttotal: 124ms\tremaining: 824ms\n",
      "131:\tlearn: 0.3191677\ttotal: 125ms\tremaining: 820ms\n",
      "132:\tlearn: 0.3170565\ttotal: 125ms\tremaining: 816ms\n",
      "133:\tlearn: 0.3150280\ttotal: 126ms\tremaining: 812ms\n",
      "134:\tlearn: 0.3129807\ttotal: 126ms\tremaining: 809ms\n",
      "135:\tlearn: 0.3111812\ttotal: 127ms\tremaining: 805ms\n",
      "136:\tlearn: 0.3092170\ttotal: 127ms\tremaining: 802ms\n",
      "137:\tlearn: 0.3073180\ttotal: 128ms\tremaining: 798ms\n",
      "138:\tlearn: 0.3052239\ttotal: 128ms\tremaining: 795ms\n",
      "139:\tlearn: 0.3033163\ttotal: 129ms\tremaining: 792ms\n",
      "140:\tlearn: 0.3013344\ttotal: 129ms\tremaining: 787ms\n",
      "141:\tlearn: 0.2994807\ttotal: 130ms\tremaining: 787ms\n",
      "142:\tlearn: 0.2971874\ttotal: 131ms\tremaining: 783ms\n",
      "143:\tlearn: 0.2953865\ttotal: 131ms\tremaining: 779ms\n",
      "144:\tlearn: 0.2936068\ttotal: 132ms\tremaining: 777ms\n",
      "145:\tlearn: 0.2914957\ttotal: 132ms\tremaining: 773ms\n",
      "146:\tlearn: 0.2898288\ttotal: 133ms\tremaining: 770ms\n",
      "147:\tlearn: 0.2881364\ttotal: 133ms\tremaining: 766ms\n",
      "148:\tlearn: 0.2859122\ttotal: 134ms\tremaining: 764ms\n",
      "149:\tlearn: 0.2840825\ttotal: 134ms\tremaining: 761ms\n",
      "150:\tlearn: 0.2822062\ttotal: 135ms\tremaining: 757ms\n",
      "151:\tlearn: 0.2803045\ttotal: 135ms\tremaining: 755ms\n",
      "152:\tlearn: 0.2783884\ttotal: 136ms\tremaining: 752ms\n",
      "153:\tlearn: 0.2766054\ttotal: 136ms\tremaining: 749ms\n",
      "154:\tlearn: 0.2745178\ttotal: 137ms\tremaining: 746ms\n",
      "155:\tlearn: 0.2729150\ttotal: 137ms\tremaining: 743ms\n",
      "156:\tlearn: 0.2710246\ttotal: 138ms\tremaining: 741ms\n",
      "157:\tlearn: 0.2691444\ttotal: 139ms\tremaining: 738ms\n",
      "158:\tlearn: 0.2672142\ttotal: 139ms\tremaining: 736ms\n",
      "159:\tlearn: 0.2656589\ttotal: 140ms\tremaining: 735ms\n",
      "160:\tlearn: 0.2639027\ttotal: 140ms\tremaining: 732ms\n",
      "161:\tlearn: 0.2621900\ttotal: 141ms\tremaining: 729ms\n",
      "162:\tlearn: 0.2605018\ttotal: 141ms\tremaining: 726ms\n",
      "163:\tlearn: 0.2590779\ttotal: 142ms\tremaining: 724ms\n",
      "164:\tlearn: 0.2579322\ttotal: 142ms\tremaining: 721ms\n",
      "165:\tlearn: 0.2560342\ttotal: 143ms\tremaining: 718ms\n",
      "166:\tlearn: 0.2543868\ttotal: 143ms\tremaining: 715ms\n",
      "167:\tlearn: 0.2528210\ttotal: 144ms\tremaining: 712ms\n",
      "168:\tlearn: 0.2512373\ttotal: 144ms\tremaining: 709ms\n",
      "169:\tlearn: 0.2495473\ttotal: 145ms\tremaining: 706ms\n",
      "170:\tlearn: 0.2477768\ttotal: 145ms\tremaining: 703ms\n",
      "171:\tlearn: 0.2462269\ttotal: 145ms\tremaining: 700ms\n",
      "172:\tlearn: 0.2443096\ttotal: 146ms\tremaining: 697ms\n",
      "173:\tlearn: 0.2424844\ttotal: 146ms\tremaining: 695ms\n",
      "174:\tlearn: 0.2411022\ttotal: 147ms\tremaining: 692ms\n",
      "175:\tlearn: 0.2395448\ttotal: 147ms\tremaining: 689ms\n",
      "176:\tlearn: 0.2379782\ttotal: 148ms\tremaining: 686ms\n",
      "177:\tlearn: 0.2366143\ttotal: 148ms\tremaining: 684ms\n",
      "178:\tlearn: 0.2353675\ttotal: 149ms\tremaining: 681ms\n",
      "179:\tlearn: 0.2338758\ttotal: 149ms\tremaining: 679ms\n",
      "180:\tlearn: 0.2324738\ttotal: 149ms\tremaining: 676ms\n",
      "181:\tlearn: 0.2311182\ttotal: 150ms\tremaining: 674ms\n",
      "182:\tlearn: 0.2297898\ttotal: 150ms\tremaining: 671ms\n",
      "183:\tlearn: 0.2285265\ttotal: 151ms\tremaining: 668ms\n",
      "184:\tlearn: 0.2272787\ttotal: 151ms\tremaining: 666ms\n",
      "185:\tlearn: 0.2257618\ttotal: 151ms\tremaining: 663ms\n",
      "186:\tlearn: 0.2241248\ttotal: 152ms\tremaining: 661ms\n",
      "187:\tlearn: 0.2223666\ttotal: 152ms\tremaining: 658ms\n",
      "188:\tlearn: 0.2205231\ttotal: 153ms\tremaining: 656ms\n",
      "189:\tlearn: 0.2191759\ttotal: 153ms\tremaining: 654ms\n",
      "190:\tlearn: 0.2171187\ttotal: 154ms\tremaining: 652ms\n",
      "191:\tlearn: 0.2158583\ttotal: 154ms\tremaining: 650ms\n",
      "192:\tlearn: 0.2144680\ttotal: 155ms\tremaining: 647ms\n",
      "193:\tlearn: 0.2133515\ttotal: 155ms\tremaining: 645ms\n",
      "194:\tlearn: 0.2119772\ttotal: 156ms\tremaining: 643ms\n",
      "195:\tlearn: 0.2105577\ttotal: 156ms\tremaining: 641ms\n",
      "196:\tlearn: 0.2091252\ttotal: 157ms\tremaining: 639ms\n",
      "197:\tlearn: 0.2080041\ttotal: 157ms\tremaining: 637ms\n",
      "198:\tlearn: 0.2065258\ttotal: 158ms\tremaining: 635ms\n",
      "199:\tlearn: 0.2049775\ttotal: 158ms\tremaining: 633ms\n",
      "200:\tlearn: 0.2035378\ttotal: 159ms\tremaining: 631ms\n",
      "201:\tlearn: 0.2023766\ttotal: 159ms\tremaining: 629ms\n",
      "202:\tlearn: 0.2009927\ttotal: 160ms\tremaining: 627ms\n",
      "203:\tlearn: 0.1996269\ttotal: 160ms\tremaining: 625ms\n",
      "204:\tlearn: 0.1983290\ttotal: 161ms\tremaining: 624ms\n",
      "205:\tlearn: 0.1970997\ttotal: 161ms\tremaining: 622ms\n",
      "206:\tlearn: 0.1957956\ttotal: 162ms\tremaining: 620ms\n",
      "207:\tlearn: 0.1946383\ttotal: 163ms\tremaining: 619ms\n",
      "208:\tlearn: 0.1937208\ttotal: 163ms\tremaining: 617ms\n",
      "209:\tlearn: 0.1921698\ttotal: 163ms\tremaining: 615ms\n",
      "210:\tlearn: 0.1908716\ttotal: 164ms\tremaining: 613ms\n",
      "211:\tlearn: 0.1895187\ttotal: 165ms\tremaining: 612ms\n",
      "212:\tlearn: 0.1885079\ttotal: 165ms\tremaining: 610ms\n",
      "213:\tlearn: 0.1870112\ttotal: 166ms\tremaining: 608ms\n",
      "214:\tlearn: 0.1855791\ttotal: 166ms\tremaining: 607ms\n",
      "215:\tlearn: 0.1843079\ttotal: 167ms\tremaining: 605ms\n",
      "216:\tlearn: 0.1830677\ttotal: 167ms\tremaining: 603ms\n",
      "217:\tlearn: 0.1820849\ttotal: 168ms\tremaining: 601ms\n",
      "218:\tlearn: 0.1808813\ttotal: 168ms\tremaining: 600ms\n",
      "219:\tlearn: 0.1798270\ttotal: 169ms\tremaining: 598ms\n",
      "220:\tlearn: 0.1784563\ttotal: 169ms\tremaining: 596ms\n",
      "221:\tlearn: 0.1772323\ttotal: 170ms\tremaining: 594ms\n",
      "222:\tlearn: 0.1759353\ttotal: 170ms\tremaining: 592ms\n",
      "223:\tlearn: 0.1747316\ttotal: 170ms\tremaining: 591ms\n"
     ]
    },
    {
     "name": "stdout",
     "output_type": "stream",
     "text": [
      "224:\tlearn: 0.1736273\ttotal: 171ms\tremaining: 590ms\n",
      "225:\tlearn: 0.1724377\ttotal: 172ms\tremaining: 589ms\n",
      "226:\tlearn: 0.1713927\ttotal: 172ms\tremaining: 587ms\n",
      "227:\tlearn: 0.1702975\ttotal: 173ms\tremaining: 585ms\n",
      "228:\tlearn: 0.1691940\ttotal: 173ms\tremaining: 583ms\n",
      "229:\tlearn: 0.1677303\ttotal: 174ms\tremaining: 581ms\n",
      "230:\tlearn: 0.1668414\ttotal: 174ms\tremaining: 580ms\n",
      "231:\tlearn: 0.1657407\ttotal: 175ms\tremaining: 578ms\n",
      "232:\tlearn: 0.1645594\ttotal: 175ms\tremaining: 576ms\n",
      "233:\tlearn: 0.1634439\ttotal: 176ms\tremaining: 575ms\n",
      "234:\tlearn: 0.1625430\ttotal: 176ms\tremaining: 574ms\n",
      "235:\tlearn: 0.1616198\ttotal: 177ms\tremaining: 572ms\n",
      "236:\tlearn: 0.1605230\ttotal: 177ms\tremaining: 570ms\n",
      "237:\tlearn: 0.1594823\ttotal: 178ms\tremaining: 569ms\n",
      "238:\tlearn: 0.1584247\ttotal: 178ms\tremaining: 567ms\n",
      "239:\tlearn: 0.1573777\ttotal: 178ms\tremaining: 565ms\n",
      "240:\tlearn: 0.1563942\ttotal: 179ms\tremaining: 564ms\n",
      "241:\tlearn: 0.1552824\ttotal: 179ms\tremaining: 562ms\n",
      "242:\tlearn: 0.1544386\ttotal: 180ms\tremaining: 560ms\n",
      "243:\tlearn: 0.1533961\ttotal: 180ms\tremaining: 559ms\n",
      "244:\tlearn: 0.1526333\ttotal: 181ms\tremaining: 557ms\n",
      "245:\tlearn: 0.1515504\ttotal: 181ms\tremaining: 556ms\n",
      "246:\tlearn: 0.1504032\ttotal: 182ms\tremaining: 554ms\n",
      "247:\tlearn: 0.1495514\ttotal: 182ms\tremaining: 553ms\n",
      "248:\tlearn: 0.1487579\ttotal: 183ms\tremaining: 551ms\n",
      "249:\tlearn: 0.1479697\ttotal: 183ms\tremaining: 550ms\n",
      "250:\tlearn: 0.1470391\ttotal: 184ms\tremaining: 549ms\n",
      "251:\tlearn: 0.1462414\ttotal: 184ms\tremaining: 547ms\n",
      "252:\tlearn: 0.1452158\ttotal: 185ms\tremaining: 546ms\n",
      "253:\tlearn: 0.1442882\ttotal: 185ms\tremaining: 544ms\n",
      "254:\tlearn: 0.1434153\ttotal: 186ms\tremaining: 543ms\n",
      "255:\tlearn: 0.1426558\ttotal: 186ms\tremaining: 541ms\n",
      "256:\tlearn: 0.1417151\ttotal: 187ms\tremaining: 540ms\n",
      "257:\tlearn: 0.1408931\ttotal: 187ms\tremaining: 539ms\n",
      "258:\tlearn: 0.1400068\ttotal: 188ms\tremaining: 537ms\n",
      "259:\tlearn: 0.1393811\ttotal: 188ms\tremaining: 536ms\n",
      "260:\tlearn: 0.1382638\ttotal: 189ms\tremaining: 534ms\n",
      "261:\tlearn: 0.1375664\ttotal: 189ms\tremaining: 533ms\n",
      "262:\tlearn: 0.1367541\ttotal: 190ms\tremaining: 532ms\n",
      "263:\tlearn: 0.1357232\ttotal: 190ms\tremaining: 531ms\n",
      "264:\tlearn: 0.1347915\ttotal: 191ms\tremaining: 529ms\n",
      "265:\tlearn: 0.1338893\ttotal: 191ms\tremaining: 528ms\n",
      "266:\tlearn: 0.1331651\ttotal: 192ms\tremaining: 527ms\n",
      "267:\tlearn: 0.1325240\ttotal: 192ms\tremaining: 525ms\n",
      "268:\tlearn: 0.1318033\ttotal: 193ms\tremaining: 524ms\n",
      "269:\tlearn: 0.1311378\ttotal: 193ms\tremaining: 523ms\n",
      "270:\tlearn: 0.1301827\ttotal: 194ms\tremaining: 522ms\n",
      "271:\tlearn: 0.1294971\ttotal: 194ms\tremaining: 520ms\n",
      "272:\tlearn: 0.1284841\ttotal: 195ms\tremaining: 519ms\n",
      "273:\tlearn: 0.1277728\ttotal: 195ms\tremaining: 517ms\n",
      "274:\tlearn: 0.1270095\ttotal: 196ms\tremaining: 516ms\n",
      "275:\tlearn: 0.1262316\ttotal: 196ms\tremaining: 515ms\n",
      "276:\tlearn: 0.1254348\ttotal: 197ms\tremaining: 514ms\n",
      "277:\tlearn: 0.1247136\ttotal: 197ms\tremaining: 512ms\n",
      "278:\tlearn: 0.1240959\ttotal: 198ms\tremaining: 511ms\n",
      "279:\tlearn: 0.1234496\ttotal: 198ms\tremaining: 510ms\n",
      "280:\tlearn: 0.1227206\ttotal: 199ms\tremaining: 509ms\n",
      "281:\tlearn: 0.1219896\ttotal: 199ms\tremaining: 507ms\n",
      "282:\tlearn: 0.1210562\ttotal: 200ms\tremaining: 506ms\n",
      "283:\tlearn: 0.1203989\ttotal: 200ms\tremaining: 505ms\n",
      "284:\tlearn: 0.1198098\ttotal: 201ms\tremaining: 504ms\n",
      "285:\tlearn: 0.1192376\ttotal: 201ms\tremaining: 502ms\n",
      "286:\tlearn: 0.1185654\ttotal: 202ms\tremaining: 501ms\n",
      "287:\tlearn: 0.1178981\ttotal: 202ms\tremaining: 499ms\n",
      "288:\tlearn: 0.1172595\ttotal: 203ms\tremaining: 498ms\n",
      "289:\tlearn: 0.1167054\ttotal: 203ms\tremaining: 497ms\n",
      "290:\tlearn: 0.1160779\ttotal: 204ms\tremaining: 496ms\n",
      "291:\tlearn: 0.1154129\ttotal: 204ms\tremaining: 495ms\n",
      "292:\tlearn: 0.1147615\ttotal: 205ms\tremaining: 494ms\n",
      "293:\tlearn: 0.1140548\ttotal: 205ms\tremaining: 492ms\n",
      "294:\tlearn: 0.1132703\ttotal: 205ms\tremaining: 491ms\n",
      "295:\tlearn: 0.1124320\ttotal: 206ms\tremaining: 490ms\n",
      "296:\tlearn: 0.1118022\ttotal: 207ms\tremaining: 489ms\n",
      "297:\tlearn: 0.1108793\ttotal: 207ms\tremaining: 488ms\n",
      "298:\tlearn: 0.1101684\ttotal: 208ms\tremaining: 487ms\n",
      "299:\tlearn: 0.1095110\ttotal: 208ms\tremaining: 486ms\n",
      "300:\tlearn: 0.1088883\ttotal: 209ms\tremaining: 484ms\n",
      "301:\tlearn: 0.1080837\ttotal: 209ms\tremaining: 483ms\n",
      "302:\tlearn: 0.1074950\ttotal: 210ms\tremaining: 482ms\n",
      "303:\tlearn: 0.1068655\ttotal: 210ms\tremaining: 482ms\n",
      "304:\tlearn: 0.1062549\ttotal: 211ms\tremaining: 481ms\n",
      "305:\tlearn: 0.1056765\ttotal: 211ms\tremaining: 479ms\n",
      "306:\tlearn: 0.1051011\ttotal: 212ms\tremaining: 478ms\n",
      "307:\tlearn: 0.1044988\ttotal: 212ms\tremaining: 477ms\n",
      "308:\tlearn: 0.1037059\ttotal: 213ms\tremaining: 476ms\n",
      "309:\tlearn: 0.1030236\ttotal: 213ms\tremaining: 475ms\n",
      "310:\tlearn: 0.1024758\ttotal: 214ms\tremaining: 474ms\n",
      "311:\tlearn: 0.1019255\ttotal: 214ms\tremaining: 473ms\n",
      "312:\tlearn: 0.1013921\ttotal: 215ms\tremaining: 472ms\n",
      "313:\tlearn: 0.1009194\ttotal: 215ms\tremaining: 471ms\n",
      "314:\tlearn: 0.1004103\ttotal: 216ms\tremaining: 469ms\n",
      "315:\tlearn: 0.0998870\ttotal: 216ms\tremaining: 468ms\n",
      "316:\tlearn: 0.0993097\ttotal: 217ms\tremaining: 467ms\n",
      "317:\tlearn: 0.0987941\ttotal: 217ms\tremaining: 466ms\n",
      "318:\tlearn: 0.0982379\ttotal: 218ms\tremaining: 464ms\n",
      "319:\tlearn: 0.0977369\ttotal: 218ms\tremaining: 463ms\n",
      "320:\tlearn: 0.0971904\ttotal: 218ms\tremaining: 462ms\n",
      "321:\tlearn: 0.0966702\ttotal: 219ms\tremaining: 461ms\n",
      "322:\tlearn: 0.0962354\ttotal: 220ms\tremaining: 460ms\n",
      "323:\tlearn: 0.0957330\ttotal: 221ms\tremaining: 461ms\n",
      "324:\tlearn: 0.0951798\ttotal: 221ms\tremaining: 460ms\n",
      "325:\tlearn: 0.0945848\ttotal: 222ms\tremaining: 458ms\n",
      "326:\tlearn: 0.0938794\ttotal: 222ms\tremaining: 457ms\n",
      "327:\tlearn: 0.0934061\ttotal: 223ms\tremaining: 456ms\n",
      "328:\tlearn: 0.0929152\ttotal: 223ms\tremaining: 455ms\n",
      "329:\tlearn: 0.0922581\ttotal: 224ms\tremaining: 454ms\n",
      "330:\tlearn: 0.0915958\ttotal: 224ms\tremaining: 453ms\n",
      "331:\tlearn: 0.0911828\ttotal: 225ms\tremaining: 452ms\n",
      "332:\tlearn: 0.0904792\ttotal: 225ms\tremaining: 451ms\n",
      "333:\tlearn: 0.0898453\ttotal: 226ms\tremaining: 450ms\n",
      "334:\tlearn: 0.0892884\ttotal: 226ms\tremaining: 449ms\n",
      "335:\tlearn: 0.0888062\ttotal: 226ms\tremaining: 448ms\n",
      "336:\tlearn: 0.0883299\ttotal: 227ms\tremaining: 447ms\n",
      "337:\tlearn: 0.0876729\ttotal: 228ms\tremaining: 446ms\n",
      "338:\tlearn: 0.0872376\ttotal: 228ms\tremaining: 445ms\n",
      "339:\tlearn: 0.0867664\ttotal: 228ms\tremaining: 443ms\n",
      "340:\tlearn: 0.0861296\ttotal: 229ms\tremaining: 442ms\n",
      "341:\tlearn: 0.0856521\ttotal: 229ms\tremaining: 441ms\n",
      "342:\tlearn: 0.0850760\ttotal: 230ms\tremaining: 440ms\n",
      "343:\tlearn: 0.0845135\ttotal: 230ms\tremaining: 439ms\n",
      "344:\tlearn: 0.0839960\ttotal: 231ms\tremaining: 438ms\n",
      "345:\tlearn: 0.0834263\ttotal: 231ms\tremaining: 437ms\n",
      "346:\tlearn: 0.0829726\ttotal: 232ms\tremaining: 436ms\n",
      "347:\tlearn: 0.0825985\ttotal: 232ms\tremaining: 435ms\n",
      "348:\tlearn: 0.0822566\ttotal: 233ms\tremaining: 434ms\n",
      "349:\tlearn: 0.0818698\ttotal: 233ms\tremaining: 433ms\n",
      "350:\tlearn: 0.0814446\ttotal: 234ms\tremaining: 432ms\n",
      "351:\tlearn: 0.0809294\ttotal: 234ms\tremaining: 431ms\n",
      "352:\tlearn: 0.0805707\ttotal: 235ms\tremaining: 431ms\n",
      "353:\tlearn: 0.0802177\ttotal: 235ms\tremaining: 430ms\n",
      "354:\tlearn: 0.0798026\ttotal: 236ms\tremaining: 429ms\n",
      "355:\tlearn: 0.0793094\ttotal: 236ms\tremaining: 428ms\n",
      "356:\tlearn: 0.0789647\ttotal: 237ms\tremaining: 427ms\n",
      "357:\tlearn: 0.0784607\ttotal: 237ms\tremaining: 426ms\n",
      "358:\tlearn: 0.0780641\ttotal: 238ms\tremaining: 425ms\n",
      "359:\tlearn: 0.0777481\ttotal: 238ms\tremaining: 424ms\n",
      "360:\tlearn: 0.0773602\ttotal: 239ms\tremaining: 423ms\n",
      "361:\tlearn: 0.0772334\ttotal: 239ms\tremaining: 422ms\n",
      "362:\tlearn: 0.0769010\ttotal: 240ms\tremaining: 421ms\n",
      "363:\tlearn: 0.0765740\ttotal: 240ms\tremaining: 420ms\n",
      "364:\tlearn: 0.0760562\ttotal: 241ms\tremaining: 419ms\n",
      "365:\tlearn: 0.0757476\ttotal: 241ms\tremaining: 418ms\n",
      "366:\tlearn: 0.0752919\ttotal: 242ms\tremaining: 417ms\n",
      "367:\tlearn: 0.0748058\ttotal: 242ms\tremaining: 416ms\n",
      "368:\tlearn: 0.0746857\ttotal: 243ms\tremaining: 415ms\n",
      "369:\tlearn: 0.0745672\ttotal: 243ms\tremaining: 414ms\n",
      "370:\tlearn: 0.0742549\ttotal: 244ms\tremaining: 413ms\n",
      "371:\tlearn: 0.0741389\ttotal: 244ms\tremaining: 412ms\n",
      "372:\tlearn: 0.0737443\ttotal: 244ms\tremaining: 411ms\n",
      "373:\tlearn: 0.0733007\ttotal: 245ms\tremaining: 410ms\n",
      "374:\tlearn: 0.0731884\ttotal: 245ms\tremaining: 409ms\n",
      "375:\tlearn: 0.0728306\ttotal: 246ms\tremaining: 408ms\n",
      "376:\tlearn: 0.0727201\ttotal: 246ms\tremaining: 407ms\n",
      "377:\tlearn: 0.0726112\ttotal: 247ms\tremaining: 406ms\n",
      "378:\tlearn: 0.0722865\ttotal: 247ms\tremaining: 405ms\n",
      "379:\tlearn: 0.0719124\ttotal: 248ms\tremaining: 404ms\n",
      "380:\tlearn: 0.0715437\ttotal: 248ms\tremaining: 403ms\n",
      "381:\tlearn: 0.0711996\ttotal: 249ms\tremaining: 403ms\n",
      "382:\tlearn: 0.0710955\ttotal: 249ms\tremaining: 402ms\n",
      "383:\tlearn: 0.0706566\ttotal: 250ms\tremaining: 401ms\n",
      "384:\tlearn: 0.0702984\ttotal: 250ms\tremaining: 400ms\n",
      "385:\tlearn: 0.0701956\ttotal: 251ms\tremaining: 399ms\n",
      "386:\tlearn: 0.0700942\ttotal: 251ms\tremaining: 398ms\n",
      "387:\tlearn: 0.0696782\ttotal: 252ms\tremaining: 397ms\n",
      "388:\tlearn: 0.0692573\ttotal: 252ms\tremaining: 397ms\n",
      "389:\tlearn: 0.0688444\ttotal: 253ms\tremaining: 396ms\n",
      "390:\tlearn: 0.0687454\ttotal: 253ms\tremaining: 395ms\n",
      "391:\tlearn: 0.0683934\ttotal: 254ms\tremaining: 394ms\n",
      "392:\tlearn: 0.0679915\ttotal: 254ms\tremaining: 393ms\n",
      "393:\tlearn: 0.0678943\ttotal: 255ms\tremaining: 392ms\n",
      "394:\tlearn: 0.0675732\ttotal: 255ms\tremaining: 391ms\n",
      "395:\tlearn: 0.0674774\ttotal: 256ms\tremaining: 390ms\n",
      "396:\tlearn: 0.0671393\ttotal: 256ms\tremaining: 389ms\n",
      "397:\tlearn: 0.0670449\ttotal: 257ms\tremaining: 388ms\n",
      "398:\tlearn: 0.0669518\ttotal: 257ms\tremaining: 387ms\n",
      "399:\tlearn: 0.0665609\ttotal: 258ms\tremaining: 387ms\n",
      "400:\tlearn: 0.0661775\ttotal: 258ms\tremaining: 386ms\n",
      "401:\tlearn: 0.0660860\ttotal: 259ms\tremaining: 385ms\n",
      "402:\tlearn: 0.0657793\ttotal: 259ms\tremaining: 384ms\n",
      "403:\tlearn: 0.0656892\ttotal: 260ms\tremaining: 383ms\n",
      "404:\tlearn: 0.0653887\ttotal: 260ms\tremaining: 382ms\n",
      "405:\tlearn: 0.0653001\ttotal: 261ms\tremaining: 381ms\n",
      "406:\tlearn: 0.0652123\ttotal: 261ms\tremaining: 380ms\n",
      "407:\tlearn: 0.0648065\ttotal: 261ms\tremaining: 379ms\n",
      "408:\tlearn: 0.0644364\ttotal: 262ms\tremaining: 378ms\n",
      "409:\tlearn: 0.0640763\ttotal: 262ms\tremaining: 377ms\n",
      "410:\tlearn: 0.0637642\ttotal: 263ms\tremaining: 377ms\n",
      "411:\tlearn: 0.0636790\ttotal: 263ms\tremaining: 376ms\n",
      "412:\tlearn: 0.0634135\ttotal: 264ms\tremaining: 375ms\n",
      "413:\tlearn: 0.0633295\ttotal: 264ms\tremaining: 374ms\n",
      "414:\tlearn: 0.0629801\ttotal: 265ms\tremaining: 373ms\n",
      "415:\tlearn: 0.0628974\ttotal: 265ms\tremaining: 372ms\n",
      "416:\tlearn: 0.0628154\ttotal: 265ms\tremaining: 371ms\n",
      "417:\tlearn: 0.0624587\ttotal: 266ms\tremaining: 370ms\n",
      "418:\tlearn: 0.0622368\ttotal: 267ms\tremaining: 370ms\n",
      "419:\tlearn: 0.0621567\ttotal: 267ms\tremaining: 369ms\n",
      "420:\tlearn: 0.0618600\ttotal: 268ms\tremaining: 368ms\n",
      "421:\tlearn: 0.0614846\ttotal: 268ms\tremaining: 367ms\n",
      "422:\tlearn: 0.0612338\ttotal: 269ms\tremaining: 366ms\n",
      "423:\tlearn: 0.0611376\ttotal: 269ms\tremaining: 365ms\n",
      "424:\tlearn: 0.0610425\ttotal: 269ms\tremaining: 365ms\n",
      "425:\tlearn: 0.0607779\ttotal: 270ms\tremaining: 364ms\n",
      "426:\tlearn: 0.0606839\ttotal: 271ms\tremaining: 363ms\n"
     ]
    },
    {
     "name": "stdout",
     "output_type": "stream",
     "text": [
      "427:\tlearn: 0.0604819\ttotal: 271ms\tremaining: 363ms\n",
      "428:\tlearn: 0.0601242\ttotal: 272ms\tremaining: 362ms\n",
      "429:\tlearn: 0.0598428\ttotal: 273ms\tremaining: 362ms\n",
      "430:\tlearn: 0.0594933\ttotal: 273ms\tremaining: 361ms\n",
      "431:\tlearn: 0.0591288\ttotal: 274ms\tremaining: 360ms\n",
      "432:\tlearn: 0.0590370\ttotal: 274ms\tremaining: 359ms\n",
      "433:\tlearn: 0.0586807\ttotal: 274ms\tremaining: 358ms\n",
      "434:\tlearn: 0.0585901\ttotal: 275ms\tremaining: 357ms\n",
      "435:\tlearn: 0.0582418\ttotal: 275ms\tremaining: 356ms\n",
      "436:\tlearn: 0.0581523\ttotal: 276ms\tremaining: 355ms\n",
      "437:\tlearn: 0.0580638\ttotal: 276ms\tremaining: 354ms\n",
      "438:\tlearn: 0.0577947\ttotal: 277ms\tremaining: 353ms\n",
      "439:\tlearn: 0.0574562\ttotal: 277ms\tremaining: 353ms\n",
      "440:\tlearn: 0.0573500\ttotal: 278ms\tremaining: 352ms\n",
      "441:\tlearn: 0.0570887\ttotal: 278ms\tremaining: 351ms\n",
      "442:\tlearn: 0.0569834\ttotal: 279ms\tremaining: 350ms\n",
      "443:\tlearn: 0.0566348\ttotal: 279ms\tremaining: 350ms\n",
      "444:\tlearn: 0.0563065\ttotal: 280ms\tremaining: 349ms\n",
      "445:\tlearn: 0.0560241\ttotal: 280ms\tremaining: 348ms\n",
      "446:\tlearn: 0.0559351\ttotal: 281ms\tremaining: 347ms\n",
      "447:\tlearn: 0.0556727\ttotal: 281ms\tremaining: 347ms\n",
      "448:\tlearn: 0.0555848\ttotal: 282ms\tremaining: 346ms\n",
      "449:\tlearn: 0.0552487\ttotal: 282ms\tremaining: 345ms\n",
      "450:\tlearn: 0.0551541\ttotal: 283ms\tremaining: 344ms\n",
      "451:\tlearn: 0.0549059\ttotal: 283ms\tremaining: 343ms\n",
      "452:\tlearn: 0.0546335\ttotal: 284ms\tremaining: 342ms\n",
      "453:\tlearn: 0.0543657\ttotal: 284ms\tremaining: 342ms\n",
      "454:\tlearn: 0.0541022\ttotal: 285ms\tremaining: 341ms\n",
      "455:\tlearn: 0.0537842\ttotal: 285ms\tremaining: 340ms\n",
      "456:\tlearn: 0.0535273\ttotal: 286ms\tremaining: 339ms\n",
      "457:\tlearn: 0.0532210\ttotal: 286ms\tremaining: 339ms\n",
      "458:\tlearn: 0.0529692\ttotal: 287ms\tremaining: 338ms\n",
      "459:\tlearn: 0.0526617\ttotal: 287ms\tremaining: 337ms\n",
      "460:\tlearn: 0.0524161\ttotal: 288ms\tremaining: 336ms\n",
      "461:\tlearn: 0.0521848\ttotal: 288ms\tremaining: 335ms\n",
      "462:\tlearn: 0.0519570\ttotal: 288ms\tremaining: 335ms\n",
      "463:\tlearn: 0.0517183\ttotal: 289ms\tremaining: 334ms\n",
      "464:\tlearn: 0.0516210\ttotal: 289ms\tremaining: 333ms\n",
      "465:\tlearn: 0.0515449\ttotal: 290ms\tremaining: 332ms\n",
      "466:\tlearn: 0.0513112\ttotal: 290ms\tremaining: 331ms\n",
      "467:\tlearn: 0.0512214\ttotal: 291ms\tremaining: 330ms\n",
      "468:\tlearn: 0.0509328\ttotal: 291ms\tremaining: 330ms\n",
      "469:\tlearn: 0.0507134\ttotal: 292ms\tremaining: 329ms\n",
      "470:\tlearn: 0.0506219\ttotal: 292ms\tremaining: 328ms\n",
      "471:\tlearn: 0.0504010\ttotal: 293ms\tremaining: 327ms\n",
      "472:\tlearn: 0.0502104\ttotal: 293ms\tremaining: 327ms\n",
      "473:\tlearn: 0.0501241\ttotal: 294ms\tremaining: 326ms\n",
      "474:\tlearn: 0.0498913\ttotal: 294ms\tremaining: 325ms\n",
      "475:\tlearn: 0.0496713\ttotal: 295ms\tremaining: 324ms\n",
      "476:\tlearn: 0.0494263\ttotal: 295ms\tremaining: 324ms\n",
      "477:\tlearn: 0.0493420\ttotal: 296ms\tremaining: 323ms\n",
      "478:\tlearn: 0.0491492\ttotal: 296ms\tremaining: 322ms\n",
      "479:\tlearn: 0.0488278\ttotal: 297ms\tremaining: 322ms\n",
      "480:\tlearn: 0.0487579\ttotal: 298ms\tremaining: 321ms\n",
      "481:\tlearn: 0.0486887\ttotal: 298ms\tremaining: 320ms\n",
      "482:\tlearn: 0.0486203\ttotal: 298ms\tremaining: 319ms\n",
      "483:\tlearn: 0.0484107\ttotal: 299ms\tremaining: 319ms\n",
      "484:\tlearn: 0.0483245\ttotal: 299ms\tremaining: 318ms\n",
      "485:\tlearn: 0.0480904\ttotal: 300ms\tremaining: 317ms\n",
      "486:\tlearn: 0.0480239\ttotal: 301ms\tremaining: 317ms\n",
      "487:\tlearn: 0.0478162\ttotal: 301ms\tremaining: 316ms\n",
      "488:\tlearn: 0.0476177\ttotal: 302ms\tremaining: 315ms\n",
      "489:\tlearn: 0.0473120\ttotal: 302ms\tremaining: 315ms\n",
      "490:\tlearn: 0.0472292\ttotal: 303ms\tremaining: 314ms\n",
      "491:\tlearn: 0.0471476\ttotal: 303ms\tremaining: 313ms\n",
      "492:\tlearn: 0.0470672\ttotal: 304ms\tremaining: 312ms\n",
      "493:\tlearn: 0.0470035\ttotal: 304ms\tremaining: 311ms\n",
      "494:\tlearn: 0.0468094\ttotal: 305ms\tremaining: 311ms\n",
      "495:\tlearn: 0.0466377\ttotal: 305ms\tremaining: 310ms\n",
      "496:\tlearn: 0.0465750\ttotal: 306ms\tremaining: 309ms\n",
      "497:\tlearn: 0.0463743\ttotal: 306ms\tremaining: 309ms\n",
      "498:\tlearn: 0.0463125\ttotal: 306ms\tremaining: 308ms\n",
      "499:\tlearn: 0.0462513\ttotal: 307ms\tremaining: 307ms\n",
      "500:\tlearn: 0.0460616\ttotal: 307ms\tremaining: 306ms\n",
      "501:\tlearn: 0.0458943\ttotal: 308ms\tremaining: 305ms\n",
      "502:\tlearn: 0.0458342\ttotal: 308ms\tremaining: 305ms\n",
      "503:\tlearn: 0.0456391\ttotal: 309ms\tremaining: 304ms\n",
      "504:\tlearn: 0.0455797\ttotal: 309ms\tremaining: 303ms\n",
      "505:\tlearn: 0.0455211\ttotal: 310ms\tremaining: 303ms\n",
      "506:\tlearn: 0.0453355\ttotal: 310ms\tremaining: 302ms\n",
      "507:\tlearn: 0.0451456\ttotal: 311ms\tremaining: 301ms\n",
      "508:\tlearn: 0.0450876\ttotal: 311ms\tremaining: 300ms\n",
      "509:\tlearn: 0.0450303\ttotal: 312ms\tremaining: 300ms\n",
      "510:\tlearn: 0.0448417\ttotal: 312ms\tremaining: 299ms\n",
      "511:\tlearn: 0.0447851\ttotal: 313ms\tremaining: 298ms\n",
      "512:\tlearn: 0.0447292\ttotal: 313ms\tremaining: 298ms\n",
      "513:\tlearn: 0.0445488\ttotal: 314ms\tremaining: 297ms\n",
      "514:\tlearn: 0.0443720\ttotal: 315ms\tremaining: 296ms\n",
      "515:\tlearn: 0.0442123\ttotal: 315ms\tremaining: 295ms\n",
      "516:\tlearn: 0.0441407\ttotal: 316ms\tremaining: 295ms\n",
      "517:\tlearn: 0.0440786\ttotal: 316ms\tremaining: 294ms\n",
      "518:\tlearn: 0.0438580\ttotal: 316ms\tremaining: 293ms\n",
      "519:\tlearn: 0.0437970\ttotal: 317ms\tremaining: 292ms\n",
      "520:\tlearn: 0.0435932\ttotal: 317ms\tremaining: 292ms\n",
      "521:\tlearn: 0.0435335\ttotal: 318ms\tremaining: 291ms\n",
      "522:\tlearn: 0.0433141\ttotal: 318ms\tremaining: 290ms\n",
      "523:\tlearn: 0.0432458\ttotal: 319ms\tremaining: 290ms\n",
      "524:\tlearn: 0.0431785\ttotal: 319ms\tremaining: 289ms\n",
      "525:\tlearn: 0.0431203\ttotal: 320ms\tremaining: 288ms\n",
      "526:\tlearn: 0.0430542\ttotal: 320ms\tremaining: 288ms\n",
      "527:\tlearn: 0.0428413\ttotal: 321ms\tremaining: 287ms\n",
      "528:\tlearn: 0.0427766\ttotal: 321ms\tremaining: 286ms\n",
      "529:\tlearn: 0.0425403\ttotal: 322ms\tremaining: 285ms\n",
      "530:\tlearn: 0.0424771\ttotal: 322ms\tremaining: 285ms\n",
      "531:\tlearn: 0.0423642\ttotal: 323ms\tremaining: 284ms\n",
      "532:\tlearn: 0.0423022\ttotal: 323ms\tremaining: 283ms\n",
      "533:\tlearn: 0.0420488\ttotal: 323ms\tremaining: 282ms\n",
      "534:\tlearn: 0.0419934\ttotal: 324ms\tremaining: 282ms\n",
      "535:\tlearn: 0.0417652\ttotal: 324ms\tremaining: 281ms\n",
      "536:\tlearn: 0.0417110\ttotal: 325ms\tremaining: 280ms\n",
      "537:\tlearn: 0.0415087\ttotal: 325ms\tremaining: 279ms\n",
      "538:\tlearn: 0.0414585\ttotal: 326ms\tremaining: 279ms\n",
      "539:\tlearn: 0.0412289\ttotal: 326ms\tremaining: 278ms\n",
      "540:\tlearn: 0.0411310\ttotal: 327ms\tremaining: 277ms\n",
      "541:\tlearn: 0.0409087\ttotal: 327ms\tremaining: 277ms\n",
      "542:\tlearn: 0.0406848\ttotal: 328ms\tremaining: 276ms\n",
      "543:\tlearn: 0.0405897\ttotal: 328ms\tremaining: 275ms\n",
      "544:\tlearn: 0.0403638\ttotal: 329ms\tremaining: 274ms\n",
      "545:\tlearn: 0.0403160\ttotal: 329ms\tremaining: 274ms\n",
      "546:\tlearn: 0.0401001\ttotal: 330ms\tremaining: 273ms\n",
      "547:\tlearn: 0.0400073\ttotal: 331ms\tremaining: 273ms\n",
      "548:\tlearn: 0.0397953\ttotal: 331ms\tremaining: 272ms\n",
      "549:\tlearn: 0.0397049\ttotal: 332ms\tremaining: 271ms\n",
      "550:\tlearn: 0.0394884\ttotal: 332ms\tremaining: 271ms\n",
      "551:\tlearn: 0.0394428\ttotal: 333ms\tremaining: 270ms\n",
      "552:\tlearn: 0.0392375\ttotal: 333ms\tremaining: 269ms\n",
      "553:\tlearn: 0.0390267\ttotal: 334ms\tremaining: 269ms\n",
      "554:\tlearn: 0.0389392\ttotal: 334ms\tremaining: 268ms\n",
      "555:\tlearn: 0.0387897\ttotal: 335ms\tremaining: 267ms\n",
      "556:\tlearn: 0.0385925\ttotal: 335ms\tremaining: 267ms\n",
      "557:\tlearn: 0.0385079\ttotal: 336ms\tremaining: 266ms\n",
      "558:\tlearn: 0.0382800\ttotal: 336ms\tremaining: 265ms\n",
      "559:\tlearn: 0.0381729\ttotal: 337ms\tremaining: 265ms\n",
      "560:\tlearn: 0.0379762\ttotal: 338ms\tremaining: 264ms\n",
      "561:\tlearn: 0.0377761\ttotal: 338ms\tremaining: 264ms\n",
      "562:\tlearn: 0.0376720\ttotal: 339ms\tremaining: 263ms\n",
      "563:\tlearn: 0.0375314\ttotal: 339ms\tremaining: 262ms\n",
      "564:\tlearn: 0.0374894\ttotal: 340ms\tremaining: 261ms\n",
      "565:\tlearn: 0.0372938\ttotal: 340ms\tremaining: 261ms\n",
      "566:\tlearn: 0.0371927\ttotal: 341ms\tremaining: 260ms\n",
      "567:\tlearn: 0.0369681\ttotal: 341ms\tremaining: 259ms\n",
      "568:\tlearn: 0.0368917\ttotal: 342ms\tremaining: 259ms\n",
      "569:\tlearn: 0.0367566\ttotal: 342ms\tremaining: 258ms\n",
      "570:\tlearn: 0.0365827\ttotal: 342ms\tremaining: 257ms\n",
      "571:\tlearn: 0.0363944\ttotal: 343ms\tremaining: 257ms\n",
      "572:\tlearn: 0.0363123\ttotal: 343ms\tremaining: 256ms\n",
      "573:\tlearn: 0.0362156\ttotal: 344ms\tremaining: 255ms\n",
      "574:\tlearn: 0.0361083\ttotal: 344ms\tremaining: 255ms\n",
      "575:\tlearn: 0.0359400\ttotal: 345ms\tremaining: 254ms\n",
      "576:\tlearn: 0.0357779\ttotal: 345ms\tremaining: 253ms\n",
      "577:\tlearn: 0.0355748\ttotal: 346ms\tremaining: 253ms\n",
      "578:\tlearn: 0.0354960\ttotal: 347ms\tremaining: 252ms\n",
      "579:\tlearn: 0.0353926\ttotal: 347ms\tremaining: 251ms\n",
      "580:\tlearn: 0.0352212\ttotal: 348ms\tremaining: 251ms\n",
      "581:\tlearn: 0.0351396\ttotal: 348ms\tremaining: 250ms\n",
      "582:\tlearn: 0.0350387\ttotal: 348ms\tremaining: 249ms\n",
      "583:\tlearn: 0.0348718\ttotal: 349ms\tremaining: 249ms\n",
      "584:\tlearn: 0.0347922\ttotal: 349ms\tremaining: 248ms\n",
      "585:\tlearn: 0.0347138\ttotal: 350ms\tremaining: 247ms\n",
      "586:\tlearn: 0.0346366\ttotal: 350ms\tremaining: 247ms\n",
      "587:\tlearn: 0.0345404\ttotal: 351ms\tremaining: 246ms\n",
      "588:\tlearn: 0.0343788\ttotal: 351ms\tremaining: 245ms\n",
      "589:\tlearn: 0.0343033\ttotal: 352ms\tremaining: 244ms\n",
      "590:\tlearn: 0.0341326\ttotal: 352ms\tremaining: 244ms\n",
      "591:\tlearn: 0.0340585\ttotal: 353ms\tremaining: 243ms\n",
      "592:\tlearn: 0.0339027\ttotal: 353ms\tremaining: 242ms\n",
      "593:\tlearn: 0.0338298\ttotal: 354ms\tremaining: 242ms\n",
      "594:\tlearn: 0.0337580\ttotal: 354ms\tremaining: 241ms\n"
     ]
    },
    {
     "name": "stdout",
     "output_type": "stream",
     "text": [
      "595:\tlearn: 0.0336051\ttotal: 355ms\tremaining: 240ms\n",
      "596:\tlearn: 0.0334245\ttotal: 355ms\tremaining: 240ms\n",
      "597:\tlearn: 0.0333487\ttotal: 356ms\tremaining: 239ms\n",
      "598:\tlearn: 0.0332788\ttotal: 356ms\tremaining: 238ms\n",
      "599:\tlearn: 0.0331609\ttotal: 357ms\tremaining: 238ms\n",
      "600:\tlearn: 0.0330454\ttotal: 357ms\tremaining: 237ms\n",
      "601:\tlearn: 0.0329800\ttotal: 357ms\tremaining: 236ms\n",
      "602:\tlearn: 0.0328311\ttotal: 358ms\tremaining: 236ms\n",
      "603:\tlearn: 0.0327293\ttotal: 358ms\tremaining: 235ms\n",
      "604:\tlearn: 0.0325300\ttotal: 359ms\tremaining: 234ms\n",
      "605:\tlearn: 0.0324660\ttotal: 359ms\tremaining: 234ms\n",
      "606:\tlearn: 0.0322432\ttotal: 360ms\tremaining: 233ms\n",
      "607:\tlearn: 0.0320730\ttotal: 360ms\tremaining: 232ms\n",
      "608:\tlearn: 0.0320070\ttotal: 360ms\tremaining: 231ms\n",
      "609:\tlearn: 0.0318858\ttotal: 361ms\tremaining: 231ms\n",
      "610:\tlearn: 0.0317779\ttotal: 361ms\tremaining: 230ms\n",
      "611:\tlearn: 0.0315907\ttotal: 362ms\tremaining: 229ms\n",
      "612:\tlearn: 0.0314405\ttotal: 362ms\tremaining: 229ms\n",
      "613:\tlearn: 0.0312767\ttotal: 362ms\tremaining: 228ms\n",
      "614:\tlearn: 0.0312125\ttotal: 363ms\tremaining: 227ms\n",
      "615:\tlearn: 0.0310523\ttotal: 363ms\tremaining: 226ms\n",
      "616:\tlearn: 0.0309891\ttotal: 363ms\tremaining: 226ms\n",
      "617:\tlearn: 0.0307595\ttotal: 364ms\tremaining: 225ms\n",
      "618:\tlearn: 0.0306150\ttotal: 364ms\tremaining: 224ms\n",
      "619:\tlearn: 0.0305563\ttotal: 365ms\tremaining: 224ms\n",
      "620:\tlearn: 0.0304948\ttotal: 365ms\tremaining: 223ms\n",
      "621:\tlearn: 0.0302848\ttotal: 366ms\tremaining: 222ms\n",
      "622:\tlearn: 0.0301448\ttotal: 366ms\tremaining: 222ms\n",
      "623:\tlearn: 0.0299390\ttotal: 367ms\tremaining: 221ms\n",
      "624:\tlearn: 0.0298028\ttotal: 367ms\tremaining: 220ms\n",
      "625:\tlearn: 0.0296012\ttotal: 368ms\tremaining: 220ms\n",
      "626:\tlearn: 0.0293899\ttotal: 368ms\tremaining: 219ms\n",
      "627:\tlearn: 0.0292582\ttotal: 368ms\tremaining: 218ms\n",
      "628:\tlearn: 0.0291111\ttotal: 369ms\tremaining: 218ms\n",
      "629:\tlearn: 0.0290532\ttotal: 369ms\tremaining: 217ms\n",
      "630:\tlearn: 0.0290029\ttotal: 370ms\tremaining: 216ms\n",
      "631:\tlearn: 0.0289457\ttotal: 371ms\tremaining: 216ms\n",
      "632:\tlearn: 0.0288371\ttotal: 371ms\tremaining: 215ms\n",
      "633:\tlearn: 0.0286349\ttotal: 372ms\tremaining: 215ms\n",
      "634:\tlearn: 0.0285690\ttotal: 372ms\tremaining: 214ms\n",
      "635:\tlearn: 0.0285042\ttotal: 373ms\tremaining: 213ms\n",
      "636:\tlearn: 0.0283993\ttotal: 373ms\tremaining: 213ms\n",
      "637:\tlearn: 0.0282902\ttotal: 374ms\tremaining: 212ms\n",
      "638:\tlearn: 0.0280907\ttotal: 374ms\tremaining: 211ms\n",
      "639:\tlearn: 0.0280431\ttotal: 375ms\tremaining: 211ms\n",
      "640:\tlearn: 0.0279801\ttotal: 375ms\tremaining: 210ms\n",
      "641:\tlearn: 0.0278793\ttotal: 376ms\tremaining: 210ms\n",
      "642:\tlearn: 0.0278491\ttotal: 376ms\tremaining: 209ms\n",
      "643:\tlearn: 0.0276553\ttotal: 377ms\tremaining: 208ms\n",
      "644:\tlearn: 0.0276258\ttotal: 377ms\tremaining: 208ms\n",
      "645:\tlearn: 0.0275710\ttotal: 378ms\tremaining: 207ms\n",
      "646:\tlearn: 0.0275098\ttotal: 378ms\tremaining: 206ms\n",
      "647:\tlearn: 0.0273753\ttotal: 379ms\tremaining: 206ms\n",
      "648:\tlearn: 0.0272431\ttotal: 379ms\tremaining: 205ms\n",
      "649:\tlearn: 0.0271131\ttotal: 380ms\tremaining: 205ms\n",
      "650:\tlearn: 0.0269214\ttotal: 381ms\tremaining: 204ms\n",
      "651:\tlearn: 0.0267927\ttotal: 381ms\tremaining: 203ms\n",
      "652:\tlearn: 0.0266981\ttotal: 381ms\tremaining: 203ms\n",
      "653:\tlearn: 0.0266701\ttotal: 382ms\tremaining: 202ms\n",
      "654:\tlearn: 0.0265571\ttotal: 382ms\tremaining: 201ms\n",
      "655:\tlearn: 0.0264325\ttotal: 383ms\tremaining: 201ms\n",
      "656:\tlearn: 0.0263113\ttotal: 384ms\tremaining: 200ms\n",
      "657:\tlearn: 0.0261931\ttotal: 384ms\tremaining: 200ms\n",
      "658:\tlearn: 0.0260509\ttotal: 384ms\tremaining: 199ms\n",
      "659:\tlearn: 0.0259112\ttotal: 385ms\tremaining: 198ms\n",
      "660:\tlearn: 0.0257739\ttotal: 386ms\tremaining: 198ms\n",
      "661:\tlearn: 0.0255944\ttotal: 386ms\tremaining: 197ms\n",
      "662:\tlearn: 0.0254922\ttotal: 387ms\tremaining: 196ms\n",
      "663:\tlearn: 0.0253914\ttotal: 387ms\tremaining: 196ms\n",
      "664:\tlearn: 0.0253187\ttotal: 387ms\tremaining: 195ms\n",
      "665:\tlearn: 0.0252062\ttotal: 388ms\tremaining: 195ms\n",
      "666:\tlearn: 0.0250962\ttotal: 388ms\tremaining: 194ms\n",
      "667:\tlearn: 0.0250668\ttotal: 389ms\tremaining: 193ms\n",
      "668:\tlearn: 0.0249583\ttotal: 389ms\tremaining: 193ms\n",
      "669:\tlearn: 0.0248640\ttotal: 390ms\tremaining: 192ms\n",
      "670:\tlearn: 0.0247719\ttotal: 391ms\tremaining: 191ms\n",
      "671:\tlearn: 0.0246065\ttotal: 391ms\tremaining: 191ms\n",
      "672:\tlearn: 0.0245780\ttotal: 391ms\tremaining: 190ms\n",
      "673:\tlearn: 0.0245499\ttotal: 392ms\tremaining: 190ms\n",
      "674:\tlearn: 0.0244598\ttotal: 392ms\tremaining: 189ms\n",
      "675:\tlearn: 0.0242989\ttotal: 393ms\tremaining: 188ms\n",
      "676:\tlearn: 0.0242715\ttotal: 393ms\tremaining: 188ms\n",
      "677:\tlearn: 0.0242443\ttotal: 394ms\tremaining: 187ms\n",
      "678:\tlearn: 0.0241862\ttotal: 394ms\tremaining: 186ms\n",
      "679:\tlearn: 0.0241594\ttotal: 395ms\tremaining: 186ms\n",
      "680:\tlearn: 0.0241115\ttotal: 395ms\tremaining: 185ms\n",
      "681:\tlearn: 0.0240014\ttotal: 396ms\tremaining: 185ms\n",
      "682:\tlearn: 0.0239750\ttotal: 396ms\tremaining: 184ms\n",
      "683:\tlearn: 0.0238970\ttotal: 397ms\tremaining: 183ms\n",
      "684:\tlearn: 0.0238498\ttotal: 397ms\tremaining: 183ms\n",
      "685:\tlearn: 0.0237672\ttotal: 398ms\tremaining: 182ms\n",
      "686:\tlearn: 0.0237413\ttotal: 398ms\tremaining: 181ms\n",
      "687:\tlearn: 0.0236450\ttotal: 399ms\tremaining: 181ms\n",
      "688:\tlearn: 0.0235583\ttotal: 399ms\tremaining: 180ms\n",
      "689:\tlearn: 0.0234757\ttotal: 400ms\tremaining: 180ms\n",
      "690:\tlearn: 0.0233828\ttotal: 400ms\tremaining: 179ms\n",
      "691:\tlearn: 0.0233070\ttotal: 401ms\tremaining: 178ms\n",
      "692:\tlearn: 0.0232138\ttotal: 401ms\tremaining: 178ms\n",
      "693:\tlearn: 0.0231025\ttotal: 402ms\tremaining: 177ms\n",
      "694:\tlearn: 0.0230562\ttotal: 402ms\tremaining: 177ms\n",
      "695:\tlearn: 0.0229677\ttotal: 403ms\tremaining: 176ms\n",
      "696:\tlearn: 0.0228769\ttotal: 403ms\tremaining: 175ms\n",
      "697:\tlearn: 0.0227887\ttotal: 404ms\tremaining: 175ms\n",
      "698:\tlearn: 0.0226696\ttotal: 404ms\tremaining: 174ms\n",
      "699:\tlearn: 0.0225955\ttotal: 405ms\tremaining: 173ms\n",
      "700:\tlearn: 0.0224789\ttotal: 405ms\tremaining: 173ms\n",
      "701:\tlearn: 0.0223656\ttotal: 406ms\tremaining: 172ms\n",
      "702:\tlearn: 0.0222778\ttotal: 406ms\tremaining: 172ms\n",
      "703:\tlearn: 0.0221912\ttotal: 407ms\tremaining: 171ms\n",
      "704:\tlearn: 0.0221084\ttotal: 407ms\tremaining: 170ms\n",
      "705:\tlearn: 0.0220058\ttotal: 408ms\tremaining: 170ms\n",
      "706:\tlearn: 0.0219621\ttotal: 408ms\tremaining: 169ms\n",
      "707:\tlearn: 0.0218714\ttotal: 409ms\tremaining: 169ms\n",
      "708:\tlearn: 0.0217318\ttotal: 409ms\tremaining: 168ms\n",
      "709:\tlearn: 0.0216328\ttotal: 410ms\tremaining: 167ms\n",
      "710:\tlearn: 0.0215265\ttotal: 410ms\tremaining: 167ms\n",
      "711:\tlearn: 0.0214623\ttotal: 411ms\tremaining: 166ms\n",
      "712:\tlearn: 0.0213622\ttotal: 411ms\tremaining: 165ms\n",
      "713:\tlearn: 0.0212270\ttotal: 412ms\tremaining: 165ms\n",
      "714:\tlearn: 0.0210944\ttotal: 412ms\tremaining: 164ms\n",
      "715:\tlearn: 0.0209773\ttotal: 412ms\tremaining: 164ms\n",
      "716:\tlearn: 0.0208804\ttotal: 413ms\tremaining: 163ms\n",
      "717:\tlearn: 0.0207760\ttotal: 413ms\tremaining: 162ms\n",
      "718:\tlearn: 0.0207359\ttotal: 414ms\tremaining: 162ms\n",
      "719:\tlearn: 0.0206077\ttotal: 414ms\tremaining: 161ms\n",
      "720:\tlearn: 0.0205686\ttotal: 415ms\tremaining: 160ms\n",
      "721:\tlearn: 0.0204517\ttotal: 415ms\tremaining: 160ms\n",
      "722:\tlearn: 0.0203699\ttotal: 416ms\tremaining: 159ms\n",
      "723:\tlearn: 0.0202706\ttotal: 416ms\tremaining: 159ms\n",
      "724:\tlearn: 0.0201731\ttotal: 417ms\tremaining: 158ms\n",
      "725:\tlearn: 0.0201116\ttotal: 417ms\tremaining: 157ms\n",
      "726:\tlearn: 0.0200737\ttotal: 417ms\tremaining: 157ms\n",
      "727:\tlearn: 0.0199793\ttotal: 418ms\tremaining: 156ms\n",
      "728:\tlearn: 0.0198866\ttotal: 418ms\tremaining: 155ms\n",
      "729:\tlearn: 0.0198089\ttotal: 419ms\tremaining: 155ms\n",
      "730:\tlearn: 0.0197175\ttotal: 419ms\tremaining: 154ms\n",
      "731:\tlearn: 0.0196805\ttotal: 420ms\tremaining: 154ms\n",
      "732:\tlearn: 0.0195917\ttotal: 420ms\tremaining: 153ms\n",
      "733:\tlearn: 0.0195048\ttotal: 421ms\tremaining: 152ms\n",
      "734:\tlearn: 0.0194179\ttotal: 421ms\tremaining: 152ms\n",
      "735:\tlearn: 0.0193819\ttotal: 421ms\tremaining: 151ms\n",
      "736:\tlearn: 0.0192944\ttotal: 422ms\tremaining: 151ms\n",
      "737:\tlearn: 0.0192590\ttotal: 422ms\tremaining: 150ms\n",
      "738:\tlearn: 0.0191754\ttotal: 423ms\tremaining: 149ms\n",
      "739:\tlearn: 0.0191185\ttotal: 424ms\tremaining: 149ms\n",
      "740:\tlearn: 0.0190179\ttotal: 424ms\tremaining: 148ms\n",
      "741:\tlearn: 0.0189832\ttotal: 424ms\tremaining: 148ms\n",
      "742:\tlearn: 0.0189490\ttotal: 425ms\tremaining: 147ms\n",
      "743:\tlearn: 0.0188685\ttotal: 425ms\tremaining: 146ms\n",
      "744:\tlearn: 0.0188349\ttotal: 426ms\tremaining: 146ms\n",
      "745:\tlearn: 0.0187381\ttotal: 426ms\tremaining: 145ms\n",
      "746:\tlearn: 0.0187050\ttotal: 427ms\tremaining: 144ms\n",
      "747:\tlearn: 0.0186610\ttotal: 427ms\tremaining: 144ms\n",
      "748:\tlearn: 0.0185909\ttotal: 427ms\tremaining: 143ms\n",
      "749:\tlearn: 0.0185138\ttotal: 428ms\tremaining: 143ms\n",
      "750:\tlearn: 0.0184381\ttotal: 429ms\tremaining: 142ms\n",
      "751:\tlearn: 0.0184059\ttotal: 429ms\tremaining: 141ms\n",
      "752:\tlearn: 0.0183409\ttotal: 429ms\tremaining: 141ms\n",
      "753:\tlearn: 0.0182690\ttotal: 430ms\tremaining: 140ms\n",
      "754:\tlearn: 0.0181914\ttotal: 431ms\tremaining: 140ms\n",
      "755:\tlearn: 0.0181180\ttotal: 431ms\tremaining: 139ms\n",
      "756:\tlearn: 0.0180867\ttotal: 432ms\tremaining: 139ms\n",
      "757:\tlearn: 0.0180152\ttotal: 432ms\tremaining: 138ms\n",
      "758:\tlearn: 0.0179466\ttotal: 433ms\tremaining: 137ms\n",
      "759:\tlearn: 0.0178740\ttotal: 433ms\tremaining: 137ms\n",
      "760:\tlearn: 0.0178202\ttotal: 434ms\tremaining: 136ms\n",
      "761:\tlearn: 0.0177871\ttotal: 434ms\tremaining: 136ms\n",
      "762:\tlearn: 0.0177170\ttotal: 434ms\tremaining: 135ms\n",
      "763:\tlearn: 0.0176845\ttotal: 435ms\tremaining: 134ms\n",
      "764:\tlearn: 0.0176407\ttotal: 435ms\tremaining: 134ms\n",
      "765:\tlearn: 0.0175552\ttotal: 436ms\tremaining: 133ms\n",
      "766:\tlearn: 0.0174990\ttotal: 436ms\tremaining: 132ms\n",
      "767:\tlearn: 0.0174327\ttotal: 437ms\tremaining: 132ms\n",
      "768:\tlearn: 0.0173717\ttotal: 437ms\tremaining: 131ms\n",
      "769:\tlearn: 0.0173398\ttotal: 437ms\tremaining: 131ms\n",
      "770:\tlearn: 0.0172748\ttotal: 438ms\tremaining: 130ms\n",
      "771:\tlearn: 0.0172325\ttotal: 438ms\tremaining: 129ms\n",
      "772:\tlearn: 0.0172011\ttotal: 439ms\tremaining: 129ms\n",
      "773:\tlearn: 0.0171594\ttotal: 439ms\tremaining: 128ms\n",
      "774:\tlearn: 0.0171185\ttotal: 440ms\tremaining: 128ms\n",
      "775:\tlearn: 0.0170876\ttotal: 440ms\tremaining: 127ms\n",
      "776:\tlearn: 0.0170059\ttotal: 441ms\tremaining: 126ms\n",
      "777:\tlearn: 0.0168801\ttotal: 441ms\tremaining: 126ms\n",
      "778:\tlearn: 0.0168499\ttotal: 441ms\tremaining: 125ms\n",
      "779:\tlearn: 0.0168045\ttotal: 442ms\tremaining: 125ms\n",
      "780:\tlearn: 0.0167253\ttotal: 442ms\tremaining: 124ms\n",
      "781:\tlearn: 0.0166957\ttotal: 443ms\tremaining: 123ms\n",
      "782:\tlearn: 0.0166561\ttotal: 443ms\tremaining: 123ms\n",
      "783:\tlearn: 0.0165786\ttotal: 443ms\tremaining: 122ms\n",
      "784:\tlearn: 0.0164830\ttotal: 444ms\tremaining: 122ms\n",
      "785:\tlearn: 0.0164543\ttotal: 444ms\tremaining: 121ms\n",
      "786:\tlearn: 0.0164111\ttotal: 444ms\tremaining: 120ms\n",
      "787:\tlearn: 0.0163687\ttotal: 445ms\tremaining: 120ms\n",
      "788:\tlearn: 0.0162936\ttotal: 446ms\tremaining: 119ms\n",
      "789:\tlearn: 0.0161940\ttotal: 446ms\tremaining: 119ms\n",
      "790:\tlearn: 0.0160757\ttotal: 446ms\tremaining: 118ms\n",
      "791:\tlearn: 0.0160243\ttotal: 447ms\tremaining: 117ms\n",
      "792:\tlearn: 0.0159616\ttotal: 447ms\tremaining: 117ms\n",
      "793:\tlearn: 0.0159114\ttotal: 448ms\tremaining: 116ms\n",
      "794:\tlearn: 0.0158538\ttotal: 448ms\tremaining: 116ms\n",
      "795:\tlearn: 0.0158053\ttotal: 449ms\tremaining: 115ms\n",
      "796:\tlearn: 0.0157693\ttotal: 449ms\tremaining: 114ms\n",
      "797:\tlearn: 0.0157135\ttotal: 450ms\tremaining: 114ms\n",
      "798:\tlearn: 0.0156667\ttotal: 450ms\tremaining: 113ms\n",
      "799:\tlearn: 0.0156395\ttotal: 450ms\tremaining: 113ms\n",
      "800:\tlearn: 0.0155855\ttotal: 451ms\tremaining: 112ms\n",
      "801:\tlearn: 0.0155403\ttotal: 451ms\tremaining: 111ms\n",
      "802:\tlearn: 0.0155052\ttotal: 452ms\tremaining: 111ms\n",
      "803:\tlearn: 0.0154529\ttotal: 452ms\tremaining: 110ms\n",
      "804:\tlearn: 0.0154093\ttotal: 453ms\tremaining: 110ms\n",
      "805:\tlearn: 0.0153200\ttotal: 453ms\tremaining: 109ms\n",
      "806:\tlearn: 0.0152697\ttotal: 454ms\tremaining: 108ms\n"
     ]
    },
    {
     "name": "stdout",
     "output_type": "stream",
     "text": [
      "807:\tlearn: 0.0152258\ttotal: 454ms\tremaining: 108ms\n",
      "808:\tlearn: 0.0151390\ttotal: 455ms\tremaining: 107ms\n",
      "809:\tlearn: 0.0150963\ttotal: 455ms\tremaining: 107ms\n",
      "810:\tlearn: 0.0150115\ttotal: 456ms\tremaining: 106ms\n",
      "811:\tlearn: 0.0149738\ttotal: 456ms\tremaining: 106ms\n",
      "812:\tlearn: 0.0149456\ttotal: 457ms\tremaining: 105ms\n",
      "813:\tlearn: 0.0149086\ttotal: 457ms\tremaining: 104ms\n",
      "814:\tlearn: 0.0148677\ttotal: 458ms\tremaining: 104ms\n",
      "815:\tlearn: 0.0147853\ttotal: 458ms\tremaining: 103ms\n",
      "816:\tlearn: 0.0147576\ttotal: 459ms\tremaining: 103ms\n",
      "817:\tlearn: 0.0147173\ttotal: 459ms\tremaining: 102ms\n",
      "818:\tlearn: 0.0146817\ttotal: 460ms\tremaining: 102ms\n",
      "819:\tlearn: 0.0146351\ttotal: 460ms\tremaining: 101ms\n",
      "820:\tlearn: 0.0146079\ttotal: 461ms\tremaining: 100ms\n",
      "821:\tlearn: 0.0145684\ttotal: 461ms\tremaining: 99.8ms\n",
      "822:\tlearn: 0.0145229\ttotal: 461ms\tremaining: 99.2ms\n",
      "823:\tlearn: 0.0144960\ttotal: 462ms\tremaining: 98.6ms\n",
      "824:\tlearn: 0.0144513\ttotal: 462ms\tremaining: 98.1ms\n",
      "825:\tlearn: 0.0144247\ttotal: 463ms\tremaining: 97.5ms\n",
      "826:\tlearn: 0.0143984\ttotal: 463ms\tremaining: 96.9ms\n",
      "827:\tlearn: 0.0143483\ttotal: 464ms\tremaining: 96.3ms\n",
      "828:\tlearn: 0.0143047\ttotal: 464ms\tremaining: 95.7ms\n",
      "829:\tlearn: 0.0142789\ttotal: 464ms\tremaining: 95.1ms\n",
      "830:\tlearn: 0.0142533\ttotal: 465ms\tremaining: 94.5ms\n",
      "831:\tlearn: 0.0142156\ttotal: 465ms\tremaining: 94ms\n",
      "832:\tlearn: 0.0141730\ttotal: 466ms\tremaining: 93.4ms\n",
      "833:\tlearn: 0.0141478\ttotal: 467ms\tremaining: 92.9ms\n",
      "834:\tlearn: 0.0141059\ttotal: 467ms\tremaining: 92.3ms\n",
      "835:\tlearn: 0.0140810\ttotal: 468ms\tremaining: 91.8ms\n",
      "836:\tlearn: 0.0140564\ttotal: 468ms\tremaining: 91.2ms\n",
      "837:\tlearn: 0.0140203\ttotal: 469ms\tremaining: 90.7ms\n",
      "838:\tlearn: 0.0139955\ttotal: 469ms\tremaining: 90.1ms\n",
      "839:\tlearn: 0.0139176\ttotal: 470ms\tremaining: 89.5ms\n",
      "840:\tlearn: 0.0138305\ttotal: 470ms\tremaining: 88.9ms\n",
      "841:\tlearn: 0.0137952\ttotal: 471ms\tremaining: 88.3ms\n",
      "842:\tlearn: 0.0137097\ttotal: 471ms\tremaining: 87.7ms\n",
      "843:\tlearn: 0.0136507\ttotal: 472ms\tremaining: 87.2ms\n",
      "844:\tlearn: 0.0136150\ttotal: 472ms\tremaining: 86.6ms\n",
      "845:\tlearn: 0.0135669\ttotal: 472ms\tremaining: 86ms\n",
      "846:\tlearn: 0.0135476\ttotal: 473ms\tremaining: 85.4ms\n",
      "847:\tlearn: 0.0135131\ttotal: 474ms\tremaining: 84.9ms\n",
      "848:\tlearn: 0.0134388\ttotal: 474ms\tremaining: 84.3ms\n",
      "849:\tlearn: 0.0133972\ttotal: 475ms\tremaining: 83.8ms\n",
      "850:\tlearn: 0.0133615\ttotal: 475ms\tremaining: 83.2ms\n",
      "851:\tlearn: 0.0133379\ttotal: 476ms\tremaining: 82.6ms\n",
      "852:\tlearn: 0.0133192\ttotal: 476ms\tremaining: 82.1ms\n",
      "853:\tlearn: 0.0133007\ttotal: 477ms\tremaining: 81.5ms\n",
      "854:\tlearn: 0.0132360\ttotal: 477ms\tremaining: 81ms\n",
      "855:\tlearn: 0.0132000\ttotal: 478ms\tremaining: 80.4ms\n",
      "856:\tlearn: 0.0131883\ttotal: 478ms\tremaining: 79.8ms\n",
      "857:\tlearn: 0.0131553\ttotal: 479ms\tremaining: 79.3ms\n",
      "858:\tlearn: 0.0131302\ttotal: 479ms\tremaining: 78.7ms\n",
      "859:\tlearn: 0.0131123\ttotal: 480ms\tremaining: 78.1ms\n",
      "860:\tlearn: 0.0130939\ttotal: 480ms\tremaining: 77.5ms\n",
      "861:\tlearn: 0.0130584\ttotal: 481ms\tremaining: 77ms\n",
      "862:\tlearn: 0.0130336\ttotal: 481ms\tremaining: 76.4ms\n",
      "863:\tlearn: 0.0129630\ttotal: 482ms\tremaining: 75.8ms\n",
      "864:\tlearn: 0.0129309\ttotal: 482ms\tremaining: 75.2ms\n",
      "865:\tlearn: 0.0129066\ttotal: 482ms\tremaining: 74.6ms\n",
      "866:\tlearn: 0.0128354\ttotal: 483ms\tremaining: 74.1ms\n",
      "867:\tlearn: 0.0128041\ttotal: 483ms\tremaining: 73.5ms\n",
      "868:\tlearn: 0.0127597\ttotal: 484ms\tremaining: 72.9ms\n",
      "869:\tlearn: 0.0127422\ttotal: 484ms\tremaining: 72.4ms\n",
      "870:\tlearn: 0.0127184\ttotal: 485ms\tremaining: 71.8ms\n",
      "871:\tlearn: 0.0127072\ttotal: 485ms\tremaining: 71.2ms\n",
      "872:\tlearn: 0.0126730\ttotal: 486ms\tremaining: 70.7ms\n",
      "873:\tlearn: 0.0126180\ttotal: 486ms\tremaining: 70.1ms\n",
      "874:\tlearn: 0.0126028\ttotal: 487ms\tremaining: 69.5ms\n",
      "875:\tlearn: 0.0125830\ttotal: 487ms\tremaining: 69ms\n",
      "876:\tlearn: 0.0125598\ttotal: 488ms\tremaining: 68.4ms\n",
      "877:\tlearn: 0.0125172\ttotal: 488ms\tremaining: 67.9ms\n",
      "878:\tlearn: 0.0124757\ttotal: 489ms\tremaining: 67.3ms\n",
      "879:\tlearn: 0.0124483\ttotal: 489ms\tremaining: 66.7ms\n",
      "880:\tlearn: 0.0124255\ttotal: 490ms\tremaining: 66.1ms\n",
      "881:\tlearn: 0.0124145\ttotal: 490ms\tremaining: 65.6ms\n",
      "882:\tlearn: 0.0123729\ttotal: 490ms\tremaining: 65ms\n",
      "883:\tlearn: 0.0123561\ttotal: 491ms\tremaining: 64.4ms\n",
      "884:\tlearn: 0.0123255\ttotal: 491ms\tremaining: 63.9ms\n",
      "885:\tlearn: 0.0123147\ttotal: 492ms\tremaining: 63.3ms\n",
      "886:\tlearn: 0.0122922\ttotal: 492ms\tremaining: 62.7ms\n",
      "887:\tlearn: 0.0122629\ttotal: 493ms\tremaining: 62.1ms\n",
      "888:\tlearn: 0.0122234\ttotal: 493ms\tremaining: 61.6ms\n",
      "889:\tlearn: 0.0121711\ttotal: 494ms\tremaining: 61ms\n",
      "890:\tlearn: 0.0121492\ttotal: 494ms\tremaining: 60.5ms\n",
      "891:\tlearn: 0.0121305\ttotal: 495ms\tremaining: 59.9ms\n",
      "892:\tlearn: 0.0120907\ttotal: 495ms\tremaining: 59.3ms\n",
      "893:\tlearn: 0.0120226\ttotal: 495ms\tremaining: 58.7ms\n",
      "894:\tlearn: 0.0120011\ttotal: 496ms\tremaining: 58.2ms\n",
      "895:\tlearn: 0.0119829\ttotal: 496ms\tremaining: 57.6ms\n",
      "896:\tlearn: 0.0119106\ttotal: 497ms\tremaining: 57.1ms\n",
      "897:\tlearn: 0.0118447\ttotal: 497ms\tremaining: 56.5ms\n",
      "898:\tlearn: 0.0118156\ttotal: 498ms\tremaining: 55.9ms\n",
      "899:\tlearn: 0.0117453\ttotal: 498ms\tremaining: 55.3ms\n",
      "900:\tlearn: 0.0116724\ttotal: 499ms\tremaining: 54.8ms\n",
      "901:\tlearn: 0.0116040\ttotal: 499ms\tremaining: 54.2ms\n",
      "902:\tlearn: 0.0115369\ttotal: 499ms\tremaining: 53.7ms\n",
      "903:\tlearn: 0.0114668\ttotal: 500ms\tremaining: 53.1ms\n",
      "904:\tlearn: 0.0114286\ttotal: 500ms\tremaining: 52.5ms\n",
      "905:\tlearn: 0.0113604\ttotal: 501ms\tremaining: 52ms\n",
      "906:\tlearn: 0.0113231\ttotal: 501ms\tremaining: 51.4ms\n",
      "907:\tlearn: 0.0112569\ttotal: 502ms\tremaining: 50.8ms\n",
      "908:\tlearn: 0.0112262\ttotal: 502ms\tremaining: 50.3ms\n",
      "909:\tlearn: 0.0111858\ttotal: 503ms\tremaining: 49.7ms\n",
      "910:\tlearn: 0.0111279\ttotal: 503ms\tremaining: 49.2ms\n",
      "911:\tlearn: 0.0110833\ttotal: 504ms\tremaining: 48.6ms\n",
      "912:\tlearn: 0.0110441\ttotal: 504ms\tremaining: 48.1ms\n",
      "913:\tlearn: 0.0110058\ttotal: 505ms\tremaining: 47.5ms\n",
      "914:\tlearn: 0.0109655\ttotal: 505ms\tremaining: 46.9ms\n",
      "915:\tlearn: 0.0109418\ttotal: 507ms\tremaining: 46.4ms\n",
      "916:\tlearn: 0.0108901\ttotal: 507ms\tremaining: 45.9ms\n",
      "917:\tlearn: 0.0108609\ttotal: 507ms\tremaining: 45.3ms\n",
      "918:\tlearn: 0.0108452\ttotal: 508ms\tremaining: 44.8ms\n",
      "919:\tlearn: 0.0107913\ttotal: 508ms\tremaining: 44.2ms\n",
      "920:\tlearn: 0.0107359\ttotal: 509ms\tremaining: 43.6ms\n",
      "921:\tlearn: 0.0106709\ttotal: 509ms\tremaining: 43.1ms\n",
      "922:\tlearn: 0.0106392\ttotal: 509ms\tremaining: 42.5ms\n",
      "923:\tlearn: 0.0105972\ttotal: 510ms\tremaining: 41.9ms\n",
      "924:\tlearn: 0.0105667\ttotal: 510ms\tremaining: 41.4ms\n",
      "925:\tlearn: 0.0105445\ttotal: 511ms\tremaining: 40.8ms\n",
      "926:\tlearn: 0.0105165\ttotal: 511ms\tremaining: 40.3ms\n",
      "927:\tlearn: 0.0105047\ttotal: 512ms\tremaining: 39.7ms\n",
      "928:\tlearn: 0.0104422\ttotal: 512ms\tremaining: 39.1ms\n",
      "929:\tlearn: 0.0104163\ttotal: 513ms\tremaining: 38.6ms\n",
      "930:\tlearn: 0.0104048\ttotal: 513ms\tremaining: 38ms\n",
      "931:\tlearn: 0.0103796\ttotal: 514ms\tremaining: 37.5ms\n",
      "932:\tlearn: 0.0103392\ttotal: 514ms\tremaining: 36.9ms\n",
      "933:\tlearn: 0.0103298\ttotal: 514ms\tremaining: 36.4ms\n",
      "934:\tlearn: 0.0103205\ttotal: 515ms\tremaining: 35.8ms\n",
      "935:\tlearn: 0.0102600\ttotal: 515ms\tremaining: 35.2ms\n",
      "936:\tlearn: 0.0102465\ttotal: 516ms\tremaining: 34.7ms\n",
      "937:\tlearn: 0.0102331\ttotal: 516ms\tremaining: 34.1ms\n",
      "938:\tlearn: 0.0102162\ttotal: 517ms\tremaining: 33.6ms\n",
      "939:\tlearn: 0.0101767\ttotal: 517ms\tremaining: 33ms\n",
      "940:\tlearn: 0.0101637\ttotal: 518ms\tremaining: 32.5ms\n",
      "941:\tlearn: 0.0101471\ttotal: 518ms\tremaining: 31.9ms\n",
      "942:\tlearn: 0.0100890\ttotal: 518ms\tremaining: 31.3ms\n",
      "943:\tlearn: 0.0100648\ttotal: 519ms\tremaining: 30.8ms\n",
      "944:\tlearn: 0.0100525\ttotal: 519ms\tremaining: 30.2ms\n",
      "945:\tlearn: 0.0100141\ttotal: 520ms\tremaining: 29.7ms\n",
      "946:\tlearn: 0.0100020\ttotal: 520ms\tremaining: 29.1ms\n",
      "947:\tlearn: 0.0099931\ttotal: 521ms\tremaining: 28.6ms\n",
      "948:\tlearn: 0.0099554\ttotal: 521ms\tremaining: 28ms\n",
      "949:\tlearn: 0.0099467\ttotal: 521ms\tremaining: 27.4ms\n",
      "950:\tlearn: 0.0098908\ttotal: 522ms\tremaining: 26.9ms\n",
      "951:\tlearn: 0.0098789\ttotal: 522ms\tremaining: 26.3ms\n",
      "952:\tlearn: 0.0098673\ttotal: 523ms\tremaining: 25.8ms\n",
      "953:\tlearn: 0.0098438\ttotal: 523ms\tremaining: 25.2ms\n",
      "954:\tlearn: 0.0098070\ttotal: 524ms\tremaining: 24.7ms\n",
      "955:\tlearn: 0.0097983\ttotal: 524ms\tremaining: 24.1ms\n",
      "956:\tlearn: 0.0097501\ttotal: 525ms\tremaining: 23.6ms\n",
      "957:\tlearn: 0.0097416\ttotal: 525ms\tremaining: 23ms\n",
      "958:\tlearn: 0.0096886\ttotal: 525ms\tremaining: 22.5ms\n",
      "959:\tlearn: 0.0096766\ttotal: 526ms\tremaining: 21.9ms\n",
      "960:\tlearn: 0.0096649\ttotal: 526ms\tremaining: 21.4ms\n",
      "961:\tlearn: 0.0096393\ttotal: 527ms\tremaining: 20.8ms\n",
      "962:\tlearn: 0.0096066\ttotal: 527ms\tremaining: 20.2ms\n",
      "963:\tlearn: 0.0095983\ttotal: 528ms\tremaining: 19.7ms\n",
      "964:\tlearn: 0.0095663\ttotal: 528ms\tremaining: 19.2ms\n",
      "965:\tlearn: 0.0095578\ttotal: 528ms\tremaining: 18.6ms\n",
      "966:\tlearn: 0.0095234\ttotal: 529ms\tremaining: 18ms\n",
      "967:\tlearn: 0.0095150\ttotal: 529ms\tremaining: 17.5ms\n",
      "968:\tlearn: 0.0094793\ttotal: 529ms\tremaining: 16.9ms\n",
      "969:\tlearn: 0.0094710\ttotal: 530ms\tremaining: 16.4ms\n",
      "970:\tlearn: 0.0094629\ttotal: 530ms\tremaining: 15.8ms\n",
      "971:\tlearn: 0.0094324\ttotal: 531ms\tremaining: 15.3ms\n",
      "972:\tlearn: 0.0094242\ttotal: 531ms\tremaining: 14.7ms\n",
      "973:\tlearn: 0.0093891\ttotal: 532ms\tremaining: 14.2ms\n",
      "974:\tlearn: 0.0093810\ttotal: 533ms\tremaining: 13.7ms\n",
      "975:\tlearn: 0.0093729\ttotal: 533ms\tremaining: 13.1ms\n",
      "976:\tlearn: 0.0093384\ttotal: 534ms\tremaining: 12.6ms\n",
      "977:\tlearn: 0.0093304\ttotal: 534ms\tremaining: 12ms\n",
      "978:\tlearn: 0.0093225\ttotal: 535ms\tremaining: 11.5ms\n",
      "979:\tlearn: 0.0093145\ttotal: 535ms\tremaining: 10.9ms\n",
      "980:\tlearn: 0.0092697\ttotal: 535ms\tremaining: 10.4ms\n",
      "981:\tlearn: 0.0092620\ttotal: 536ms\tremaining: 9.82ms\n",
      "982:\tlearn: 0.0092283\ttotal: 536ms\tremaining: 9.27ms\n",
      "983:\tlearn: 0.0091791\ttotal: 537ms\tremaining: 8.72ms\n",
      "984:\tlearn: 0.0091713\ttotal: 537ms\tremaining: 8.18ms\n"
     ]
    },
    {
     "name": "stdout",
     "output_type": "stream",
     "text": [
      "985:\tlearn: 0.0091636\ttotal: 537ms\tremaining: 7.63ms\n",
      "986:\tlearn: 0.0091559\ttotal: 538ms\tremaining: 7.08ms\n",
      "987:\tlearn: 0.0091133\ttotal: 538ms\tremaining: 6.54ms\n",
      "988:\tlearn: 0.0091058\ttotal: 539ms\tremaining: 5.99ms\n",
      "989:\tlearn: 0.0090590\ttotal: 539ms\tremaining: 5.45ms\n",
      "990:\tlearn: 0.0090347\ttotal: 540ms\tremaining: 4.9ms\n",
      "991:\tlearn: 0.0090273\ttotal: 540ms\tremaining: 4.36ms\n",
      "992:\tlearn: 0.0090200\ttotal: 541ms\tremaining: 3.81ms\n",
      "993:\tlearn: 0.0089874\ttotal: 541ms\tremaining: 3.27ms\n",
      "994:\tlearn: 0.0089801\ttotal: 542ms\tremaining: 2.72ms\n",
      "995:\tlearn: 0.0089618\ttotal: 542ms\tremaining: 2.18ms\n",
      "996:\tlearn: 0.0089543\ttotal: 543ms\tremaining: 1.63ms\n",
      "997:\tlearn: 0.0089193\ttotal: 543ms\tremaining: 1.09ms\n",
      "998:\tlearn: 0.0089015\ttotal: 544ms\tremaining: 544us\n",
      "999:\tlearn: 0.0088695\ttotal: 544ms\tremaining: 0us\n"
     ]
    },
    {
     "data": {
      "text/plain": [
       "<catboost.core.CatBoostRegressor at 0x7fcfb975f130>"
      ]
     },
     "execution_count": 9,
     "metadata": {},
     "output_type": "execute_result"
    }
   ],
   "source": [
    "#Train the Model \n",
    "prior_model = ctb.CatBoostRegressor()\n",
    "prior_model.fit(X_train,Y_train)"
   ]
  },
  {
   "cell_type": "code",
   "execution_count": 10,
   "id": "af65dcda",
   "metadata": {
    "execution": {
     "iopub.execute_input": "2022-02-13T14:58:31.782838Z",
     "iopub.status.busy": "2022-02-13T14:58:31.782395Z",
     "iopub.status.idle": "2022-02-13T14:58:31.790538Z",
     "shell.execute_reply": "2022-02-13T14:58:31.790811Z"
    },
    "id": "af65dcda",
    "papermill": {
     "duration": 0.021425,
     "end_time": "2022-02-13T14:58:31.790941",
     "exception": false,
     "start_time": "2022-02-13T14:58:31.769516",
     "status": "completed"
    },
    "tags": []
   },
   "outputs": [
    {
     "data": {
      "application/scrapbook.scrap.json+json": {
       "data": 0.17454638340380513,
       "encoder": "json",
       "name": "Prior Model MSE",
       "version": 1
      }
     },
     "metadata": {
      "scrapbook": {
       "data": true,
       "display": false,
       "name": "Prior Model MSE"
      }
     },
     "output_type": "display_data"
    },
    {
     "data": {
      "application/scrapbook.scrap.json+json": {
       "data": 0.1985512436065982,
       "encoder": "json",
       "name": "ABC Pre-generator MSE",
       "version": 1
      }
     },
     "metadata": {
      "scrapbook": {
       "data": true,
       "display": false,
       "name": "ABC Pre-generator MSE"
      }
     },
     "output_type": "display_data"
    },
    {
     "data": {
      "application/scrapbook.scrap.json+json": {
       "data": 0.31616839551684506,
       "encoder": "json",
       "name": "Prior Model MSE",
       "version": 1
      }
     },
     "metadata": {
      "scrapbook": {
       "data": true,
       "display": false,
       "name": "Prior Model MSE"
      }
     },
     "output_type": "display_data"
    },
    {
     "data": {
      "application/scrapbook.scrap.json+json": {
       "data": 0.3369960792643675,
       "encoder": "json",
       "name": "ABC Pre-generator MSE",
       "version": 1
      }
     },
     "metadata": {
      "scrapbook": {
       "data": true,
       "display": false,
       "name": "ABC Pre-generator MSE"
      }
     },
     "output_type": "display_data"
    }
   ],
   "source": [
    "y_pred = prior_model.predict(X_test)\n",
    "y_abc = y_pred + np.random.normal(0,variance, y_pred.shape)\n",
    "mse = mean_squared_error(y_pred,Y_test)\n",
    "sb.glue(\"Prior Model MSE\",mse)\n",
    "mse = mean_squared_error(y_abc,Y_test)\n",
    "sb.glue(\"ABC Pre-generator MSE\",mse)\n",
    "\n",
    "mae = mean_absolute_error(y_pred,Y_test)\n",
    "sb.glue(\"Prior Model MSE\",mae)\n",
    "mae = mean_absolute_error(y_abc,Y_test)\n",
    "sb.glue(\"ABC Pre-generator MSE\",mae)"
   ]
  },
  {
   "cell_type": "markdown",
   "id": "25609da2",
   "metadata": {
    "papermill": {
     "duration": 0.010433,
     "end_time": "2022-02-13T14:58:31.811692",
     "exception": false,
     "start_time": "2022-02-13T14:58:31.801259",
     "status": "completed"
    },
    "tags": []
   },
   "source": [
    "# ABC GAN Model"
   ]
  },
  {
   "cell_type": "code",
   "execution_count": 11,
   "id": "dfc3464d",
   "metadata": {
    "execution": {
     "iopub.execute_input": "2022-02-13T14:58:31.835048Z",
     "iopub.status.busy": "2022-02-13T14:58:31.834642Z",
     "iopub.status.idle": "2022-02-13T14:58:31.837036Z",
     "shell.execute_reply": "2022-02-13T14:58:31.837278Z"
    },
    "papermill": {
     "duration": 0.015739,
     "end_time": "2022-02-13T14:58:31.837394",
     "exception": false,
     "start_time": "2022-02-13T14:58:31.821655",
     "status": "completed"
    },
    "tags": []
   },
   "outputs": [],
   "source": [
    "gen = network.Generator(n_features+1).to(device)\n",
    "disc = network.Discriminator(n_features+1).to(device)\n",
    "\n",
    "criterion = torch.nn.BCELoss()\n",
    "gen_opt = torch.optim.Adam(gen.parameters(), lr=0.001, betas=(0.5, 0.999))\n",
    "disc_opt = torch.optim.Adam(disc.parameters(), lr=0.001, betas=(0.5, 0.999))"
   ]
  },
  {
   "cell_type": "code",
   "execution_count": 12,
   "id": "b75fdd85",
   "metadata": {
    "execution": {
     "iopub.execute_input": "2022-02-13T14:58:31.859998Z",
     "iopub.status.busy": "2022-02-13T14:58:31.859616Z",
     "iopub.status.idle": "2022-02-13T14:58:45.645935Z",
     "shell.execute_reply": "2022-02-13T14:58:45.646214Z"
    },
    "papermill": {
     "duration": 13.798785,
     "end_time": "2022-02-13T14:58:45.646335",
     "exception": false,
     "start_time": "2022-02-13T14:58:31.847550",
     "status": "completed"
    },
    "tags": []
   },
   "outputs": [
    {
     "data": {
      "image/png": "[encoded data removed]",
      "text/plain": [
       "<Figure size 432x288 with 1 Axes>"
      ]
     },
     "metadata": {
      "needs_background": "light"
     },
     "output_type": "display_data"
    },
    {
     "data": {
      "image/png": "[encoded data removed]",
      "text/plain": [
       "<Figure size 432x288 with 1 Axes>"
      ]
     },
     "metadata": {
      "needs_background": "light"
     },
     "output_type": "display_data"
    }
   ],
   "source": [
    "#Training the ABC_GAN \n",
    "ABC_train_test2.training_GAN(disc,gen,disc_opt,gen_opt,train_data,batch_size,n_epochs,criterion,prior_model,variance,device)"
   ]
  },
  {
   "cell_type": "code",
   "execution_count": 13,
   "id": "1fa7c368",
   "metadata": {
    "execution": {
     "iopub.execute_input": "2022-02-13T14:58:45.670204Z",
     "iopub.status.busy": "2022-02-13T14:58:45.669781Z",
     "iopub.status.idle": "2022-02-13T14:58:45.839140Z",
     "shell.execute_reply": "2022-02-13T14:58:45.839459Z"
    },
    "papermill": {
     "duration": 0.182546,
     "end_time": "2022-02-13T14:58:45.839587",
     "exception": false,
     "start_time": "2022-02-13T14:58:45.657041",
     "status": "completed"
    },
    "tags": []
   },
   "outputs": [
    {
     "data": {
      "application/scrapbook.scrap.json+json": {
       "data": 0.1142119327649386,
       "encoder": "json",
       "name": "ABC-GAN Model 1 MSE",
       "version": 1
      }
     },
     "metadata": {
      "scrapbook": {
       "data": true,
       "display": false,
       "name": "ABC-GAN Model 1 MSE"
      }
     },
     "output_type": "display_data"
    },
    {
     "data": {
      "application/scrapbook.scrap.json+json": {
       "data": 0.2740045221298933,
       "encoder": "json",
       "name": "ABC-GAN Model 1 MAE",
       "version": 1
      }
     },
     "metadata": {
      "scrapbook": {
       "data": true,
       "display": false,
       "name": "ABC-GAN Model 1 MAE"
      }
     },
     "output_type": "display_data"
    },
    {
     "data": {
      "application/scrapbook.scrap.json+json": {
       "data": 5.4800904425978665,
       "encoder": "json",
       "name": "ABC-GAN Model 1 Manhattan Distance",
       "version": 1
      }
     },
     "metadata": {
      "scrapbook": {
       "data": true,
       "display": false,
       "name": "ABC-GAN Model 1 Manhattan Distance"
      }
     },
     "output_type": "display_data"
    },
    {
     "data": {
      "application/scrapbook.scrap.json+json": {
       "data": 1.5106663986748814,
       "encoder": "json",
       "name": "ABC-GAN Model 1 Euclidean distance",
       "version": 1
      }
     },
     "metadata": {
      "scrapbook": {
       "data": true,
       "display": false,
       "name": "ABC-GAN Model 1 Euclidean distance"
      }
     },
     "output_type": "display_data"
    },
    {
     "data": {
      "application/scrapbook.scrap.json+json": {
       "data": [
        [
         0.11657005547097961,
         0.1138611421263254,
         0.12192288268560758,
         0.1334762094047904,
         0.11187973716450017,
         0.11370828473337893,
         0.10820586484305066,
         0.11496527973788825,
         0.1196084365029552,
         0.10794194862187759,
         0.1066225270464054,
         0.11178837300809277,
         0.1068016903213995,
         0.12766680480593343,
         0.11522208306915993,
         0.11148879482781718,
         0.10291954058978028,
         0.10748201534172949,
         0.12089427163406741,
         0.11528817903577053,
         0.11981454985143376,
         0.1227357767552248,
         0.12548613303865963,
         0.10439550908234274,
         0.11586364108823796,
         0.10614952404089817,
         0.1168028158188916,
         0.11204432620229299,
         0.11172590088147956,
         0.12880589555521743,
         0.11278202133738999,
         0.10849303145611719,
         0.11421948250592517,
         0.11008294480309319,
         0.12037066004672226,
         0.11043868620140876,
         0.11819080388979612,
         0.10961128437681247,
         0.11638736260529159,
         0.12002907150830582,
         0.10534988445854628,
         0.10597434194735325,
         0.10795117833876025,
         0.10923481665057674,
         0.11237034281855104,
         0.11625384084220398,
         0.11330735304448132,
         0.10153759010263608,
         0.12328413524793266,
         0.11492878582348606,
         0.12757904701040174,
         0.1116041229012887,
         0.11458144958711838,
         0.12269502246825637,
         0.12288146211417521,
         0.11900665744229946,
         0.11191573815914904,
         0.11211918948276792,
         0.1054999049707942,
         0.12351614141660469,
         0.11527919525449618,
         0.1177851334561287,
         0.12462758420139346,
         0.11194010715853082,
         0.12180669941396424,
         0.09957300346855771,
         0.11535430936174607,
         0.10727483050005322,
         0.1181898767499813,
         0.11295688442984911,
         0.11541245625800764,
         0.11783684709891976,
         0.11248254694026098,
         0.12180746636638536,
         0.11045758778060036,
         0.11697063301092307,
         0.11849242085380238,
         0.11588782820279683,
         0.11137793670424764,
         0.12394136924021745,
         0.10270839859985999,
         0.10764793602681418,
         0.10355211797343544,
         0.1255053281434812,
         0.1207376128026086,
         0.11203066396631205,
         0.11699558721761183,
         0.10308273532765669,
         0.10961957497927828,
         0.12261257202085854,
         0.10364747396362736,
         0.10827397341541396,
         0.12192689078451066,
         0.10127550627694064,
         0.10764691721724537,
         0.11824901352504973,
         0.1080248742682918,
         0.11033113424453452,
         0.12487112581880248,
         0.10866457662623061
        ],
        [
         0.2723091119900346,
         0.26433330923318865,
         0.28644253239035605,
         0.29284115210175515,
         0.26998680736869574,
         0.277937500923872,
         0.27053243592381476,
         0.268791339546442,
         0.2820960581302643,
         0.26039279997348785,
         0.2603990605100989,
         0.2765092456713319,
         0.26475300788879397,
         0.2857277788221836,
         0.2842597858980298,
         0.2733182281255722,
         0.2560917943716049,
         0.26645104866474867,
         0.28554301168769597,
         0.2886130638420582,
         0.2920109393075109,
         0.29183613415807486,
         0.2929621791467071,
         0.25074855610728264,
         0.28355720583349464,
         0.2631081074476242,
         0.2752074092626572,
         0.2618299936875701,
         0.2752279907464981,
         0.3005464494228363,
         0.2855668097734451,
         0.2677240386605263,
         0.270126610994339,
         0.2629187561571598,
         0.2944288576021791,
         0.2684682674705982,
         0.279155720025301,
         0.2753742441534996,
         0.27761257663369177,
         0.29134205132722857,
         0.2564560303464532,
         0.2715767676010728,
         0.2578990839421749,
         0.2658427357673645,
         0.27259801868349315,
         0.2712481526657939,
         0.2708783596754074,
         0.2590207330882549,
         0.28245401438325646,
         0.2704804578796029,
         0.2835832664743066,
         0.2766661988571286,
         0.2635722866281867,
         0.29103694912046196,
         0.29506917372345925,
         0.2853591969236732,
         0.2688488332554698,
         0.26918726339936255,
         0.2671848624944687,
         0.2872114760801196,
         0.2688532182946801,
         0.2856263183057308,
         0.2852129593491554,
         0.2777553668245673,
         0.28904276322573424,
         0.25835334733128545,
         0.27028186470270155,
         0.2662173129618168,
         0.2742746017873287,
         0.27417358141392467,
         0.27362678945064545,
         0.27743985075503586,
         0.2721030071377754,
         0.27224473040550945,
         0.263163117878139,
         0.2759483316913247,
         0.2810695208609104,
         0.2669760748744011,
         0.28100954797118904,
         0.296487938426435,
         0.258775333315134,
         0.26572299301624297,
         0.2553147917613387,
         0.283815143071115,
         0.2721406891942024,
         0.273266725987196,
         0.2745802067220211,
         0.25942035745829345,
         0.26222152784466746,
         0.2883824981749058,
         0.25982889626175165,
         0.2660771802067757,
         0.2724922440946102,
         0.25527952816337346,
         0.26011679470539095,
         0.2778196992352605,
         0.2708821438252926,
         0.2692826770246029,
         0.28746021911501884,
         0.26445648819208145
        ],
        [
         5.446182239800692,
         5.286666184663773,
         5.728850647807121,
         5.856823042035103,
         5.399736147373915,
         5.55875001847744,
         5.4106487184762955,
         5.375826790928841,
         5.641921162605286,
         5.207855999469757,
         5.207981210201979,
         5.530184913426638,
         5.295060157775879,
         5.714555576443672,
         5.685195717960596,
         5.466364562511444,
         5.121835887432098,
         5.329020973294973,
         5.71086023375392,
         5.772261276841164,
         5.840218786150217,
         5.836722683161497,
         5.859243582934141,
         5.014971122145653,
         5.671144116669893,
         5.262162148952484,
         5.504148185253143,
         5.236599873751402,
         5.504559814929962,
         6.010928988456726,
         5.711336195468903,
         5.3544807732105255,
         5.40253221988678,
         5.258375123143196,
         5.888577152043581,
         5.369365349411964,
         5.58311440050602,
         5.507484883069992,
         5.552251532673836,
         5.826841026544571,
         5.129120606929064,
         5.431535352021456,
         5.157981678843498,
         5.31685471534729,
         5.451960373669863,
         5.424963053315878,
         5.417567193508148,
         5.180414661765099,
         5.649080287665129,
         5.409609157592058,
         5.671665329486132,
         5.533323977142572,
         5.271445732563734,
         5.820738982409239,
         5.901383474469185,
         5.707183938473463,
         5.376976665109396,
         5.383745267987251,
         5.343697249889374,
         5.744229521602392,
         5.377064365893602,
         5.712526366114616,
         5.7042591869831085,
         5.555107336491346,
         5.780855264514685,
         5.1670669466257095,
         5.405637294054031,
         5.324346259236336,
         5.485492035746574,
         5.483471628278494,
         5.472535789012909,
         5.5487970151007175,
         5.442060142755508,
         5.444894608110189,
         5.26326235756278,
         5.518966633826494,
         5.621390417218208,
         5.339521497488022,
         5.62019095942378,
         5.9297587685287,
         5.175506666302681,
         5.31445986032486,
         5.106295835226774,
         5.6763028614223,
         5.4428137838840485,
         5.465334519743919,
         5.491604134440422,
         5.188407149165869,
         5.244430556893349,
         5.7676499634981155,
         5.196577925235033,
         5.321543604135513,
         5.449844881892204,
         5.105590563267469,
         5.202335894107819,
         5.55639398470521,
         5.417642876505852,
         5.385653540492058,
         5.749204382300377,
         5.289129763841629
        ],
        [
         1.5268926319226221,
         1.5090469981171917,
         1.5615561641235167,
         1.6338678612714703,
         1.49585919901908,
         1.5080337180141492,
         1.471093911638891,
         1.5163461328990044,
         1.546663741754847,
         1.4692988029796905,
         1.4602912520891536,
         1.4952482938167344,
         1.4615176380830954,
         1.5979161730574818,
         1.5180387549015995,
         1.493243415038668,
         1.434709312646853,
         1.466165170379719,
         1.554955122401077,
         1.5184740961621344,
         1.547995800068164,
         1.5667531825735974,
         1.584210421873683,
         1.4449602699198532,
         1.5222591178129823,
         1.457048551290575,
         1.5284162771895071,
         1.4969590923087577,
         1.494830431062196,
         1.6050289440082846,
         1.5018789654122597,
         1.4730446799477415,
         1.5114197465027719,
         1.4837988057893374,
         1.5515840940582128,
         1.4861943762604457,
         1.5374706754263388,
         1.4806166578612607,
         1.5256956616920139,
         1.5493809828980465,
         1.4515500987464833,
         1.4558457469619042,
         1.4693616187906926,
         1.4780718294492778,
         1.4991353695950946,
         1.5248202572251195,
         1.5053727315484449,
         1.4250444912537719,
         1.570249249310011,
         1.5161054437174617,
         1.5973668771475245,
         1.494015548120492,
         1.51381273337965,
         1.5664930415948637,
         1.5676827620036855,
         1.542768015239488,
         1.4960998506727352,
         1.4974591111797873,
         1.4525832504252154,
         1.5717260665688833,
         1.5184149317923357,
         1.5348298502187707,
         1.5787817087956997,
         1.4962627253161846,
         1.560811964420854,
         1.4111910109447106,
         1.5189095388583618,
         1.464751381634803,
         1.5374646451218401,
         1.5030428099681599,
         1.5192923106368152,
         1.5351667472878623,
         1.4998836417553263,
         1.560816878217207,
         1.4863215518897677,
         1.5295138640164272,
         1.5394311992018506,
         1.5224179991237416,
         1.492500832189032,
         1.5744292250858243,
         1.4332368862114873,
         1.4672963983245797,
         1.4391116563591266,
         1.5843315823619826,
         1.5539473144389973,
         1.4968678229310166,
         1.529677006544923,
         1.4358463380714295,
         1.4806726510561223,
         1.5659666153584408,
         1.4397741070294838,
         1.4715568179001037,
         1.5615818312500351,
         1.4232041756328615,
         1.4672894548605286,
         1.5378492352961635,
         1.46986308388429,
         1.4854705264294847,
         1.5803235480040312,
         1.4742087818638894
        ]
       ],
       "encoder": "json",
       "name": "ABC_GAN_1 Metrics",
       "version": 1
      }
     },
     "metadata": {
      "scrapbook": {
       "data": true,
       "display": false,
       "name": "ABC_GAN_1 Metrics"
      }
     },
     "output_type": "display_data"
    },
    {
     "name": "stdout",
     "output_type": "stream",
     "text": [
      "MSE\n",
      "0.1142119327649386\n"
     ]
    }
   ],
   "source": [
    "ABC_GAN1_metrics=ABC_train_test2.test_generator(gen,test_data,prior_model,variance,\"1\",device)\n",
    "sb.glue(\"ABC_GAN_1 Metrics\",ABC_GAN1_metrics)\n",
    "\n",
    "print(\"MSE\")\n",
    "print(mean(ABC_GAN1_metrics[0]))"
   ]
  },
  {
   "cell_type": "code",
   "execution_count": 14,
   "id": "eb22ce5c",
   "metadata": {
    "execution": {
     "iopub.execute_input": "2022-02-13T14:58:45.866306Z",
     "iopub.status.busy": "2022-02-13T14:58:45.865942Z",
     "iopub.status.idle": "2022-02-13T14:58:46.158395Z",
     "shell.execute_reply": "2022-02-13T14:58:46.158697Z"
    },
    "papermill": {
     "duration": 0.306928,
     "end_time": "2022-02-13T14:58:46.158820",
     "exception": false,
     "start_time": "2022-02-13T14:58:45.851892",
     "status": "completed"
    },
    "tags": []
   },
   "outputs": [
    {
     "data": {
      "image/png": "[encoded data removed]",
      "text/plain": [
       "<Figure size 432x288 with 1 Axes>"
      ]
     },
     "metadata": {
      "needs_background": "light"
     },
     "output_type": "display_data"
    },
    {
     "data": {
      "image/png": "[encoded data removed]",
      "text/plain": [
       "<Figure size 432x288 with 1 Axes>"
      ]
     },
     "metadata": {
      "needs_background": "light"
     },
     "output_type": "display_data"
    },
    {
     "data": {
      "image/png": "[encoded data removed]",
      "text/plain": [
       "<Figure size 432x288 with 1 Axes>"
      ]
     },
     "metadata": {
      "needs_background": "light"
     },
     "output_type": "display_data"
    },
    {
     "data": {
      "image/png": "[encoded data removed]",
      "text/plain": [
       "<Figure size 432x288 with 1 Axes>"
      ]
     },
     "metadata": {
      "needs_background": "light"
     },
     "output_type": "display_data"
    }
   ],
   "source": [
    "sanityChecks.discProbVsError(train_data,disc,device)\n",
    "sanityChecks.discProbVsError(test_data,disc,device)"
   ]
  },
  {
   "cell_type": "markdown",
   "id": "130f3a4d",
   "metadata": {
    "id": "130f3a4d",
    "papermill": {
     "duration": 0.014206,
     "end_time": "2022-02-13T14:58:46.187574",
     "exception": false,
     "start_time": "2022-02-13T14:58:46.173368",
     "status": "completed"
    },
    "tags": []
   },
   "source": [
    "# ABC - GAN Model with skip connection"
   ]
  },
  {
   "cell_type": "code",
   "execution_count": 15,
   "id": "4e43dad1",
   "metadata": {
    "execution": {
     "iopub.execute_input": "2022-02-13T14:58:46.219143Z",
     "iopub.status.busy": "2022-02-13T14:58:46.218773Z",
     "iopub.status.idle": "2022-02-13T14:58:46.221170Z",
     "shell.execute_reply": "2022-02-13T14:58:46.221421Z"
    },
    "id": "4e43dad1",
    "papermill": {
     "duration": 0.019766,
     "end_time": "2022-02-13T14:58:46.221536",
     "exception": false,
     "start_time": "2022-02-13T14:58:46.201770",
     "status": "completed"
    },
    "tags": []
   },
   "outputs": [],
   "source": [
    "#Generator\n",
    "gen3 = network.GeneratorWithSkipConnection(n_features+1).to(device)\n",
    "constraints=network.weightConstraint()\n",
    "#Discriminator \n",
    "disc3 = network.Discriminator(n_features+1).to(device)\n",
    "\n",
    "criterion = torch.nn.BCELoss()\n",
    "gen_opt = torch.optim.Adam(gen3.parameters(), lr=0.001, betas=(0.5, 0.999))\n",
    "disc_opt = torch.optim.Adam(disc3.parameters(), lr=0.001, betas=(0.5, 0.999))\n"
   ]
  },
  {
   "cell_type": "code",
   "execution_count": 16,
   "id": "26acbc37",
   "metadata": {
    "execution": {
     "iopub.execute_input": "2022-02-13T14:58:46.252623Z",
     "iopub.status.busy": "2022-02-13T14:58:46.252258Z",
     "iopub.status.idle": "2022-02-13T14:59:23.571019Z",
     "shell.execute_reply": "2022-02-13T14:59:23.571310Z"
    },
    "id": "26acbc37",
    "papermill": {
     "duration": 37.3354,
     "end_time": "2022-02-13T14:59:23.571442",
     "exception": false,
     "start_time": "2022-02-13T14:58:46.236042",
     "status": "completed"
    },
    "tags": []
   },
   "outputs": [
    {
     "data": {
      "image/png": "[encoded data removed]",
      "text/plain": [
       "<Figure size 432x288 with 1 Axes>"
      ]
     },
     "metadata": {
      "needs_background": "light"
     },
     "output_type": "display_data"
    },
    {
     "data": {
      "image/png": "[encoded data removed]",
      "text/plain": [
       "<Figure size 432x288 with 1 Axes>"
      ]
     },
     "metadata": {
      "needs_background": "light"
     },
     "output_type": "display_data"
    }
   ],
   "source": [
    "ABC_train_test2.training_GAN_skip_connection(disc3,gen3,disc_opt,gen_opt,train_data,batch_size,n_epochs,criterion,prior_model,variance,device)"
   ]
  },
  {
   "cell_type": "code",
   "execution_count": 17,
   "id": "c5e0717b",
   "metadata": {
    "execution": {
     "iopub.execute_input": "2022-02-13T14:59:23.605249Z",
     "iopub.status.busy": "2022-02-13T14:59:23.604790Z",
     "iopub.status.idle": "2022-02-13T14:59:23.880472Z",
     "shell.execute_reply": "2022-02-13T14:59:23.880724Z"
    },
    "id": "c5e0717b",
    "papermill": {
     "duration": 0.293773,
     "end_time": "2022-02-13T14:59:23.880855",
     "exception": false,
     "start_time": "2022-02-13T14:59:23.587082",
     "status": "completed"
    },
    "tags": []
   },
   "outputs": [
    {
     "data": {
      "application/scrapbook.scrap.json+json": {
       "data": 0.1725597761276224,
       "encoder": "json",
       "name": "ABC-GAN Model 3 MSE",
       "version": 1
      }
     },
     "metadata": {
      "scrapbook": {
       "data": true,
       "display": false,
       "name": "ABC-GAN Model 3 MSE"
      }
     },
     "output_type": "display_data"
    },
    {
     "data": {
      "application/scrapbook.scrap.json+json": {
       "data": 0.3156191688776016,
       "encoder": "json",
       "name": "ABC-GAN Model 3 MAE",
       "version": 1
      }
     },
     "metadata": {
      "scrapbook": {
       "data": true,
       "display": false,
       "name": "ABC-GAN Model 3 MAE"
      }
     },
     "output_type": "display_data"
    },
    {
     "data": {
      "application/scrapbook.scrap.json+json": {
       "data": 6.312383377552033,
       "encoder": "json",
       "name": "ABC-GAN Model 3 Manhattan Distance",
       "version": 1
      }
     },
     "metadata": {
      "scrapbook": {
       "data": true,
       "display": false,
       "name": "ABC-GAN Model 3 Manhattan Distance"
      }
     },
     "output_type": "display_data"
    },
    {
     "data": {
      "application/scrapbook.scrap.json+json": {
       "data": 1.8558812380229257,
       "encoder": "json",
       "name": "ABC-GAN Model 3 Euclidean distance",
       "version": 1
      }
     },
     "metadata": {
      "scrapbook": {
       "data": true,
       "display": false,
       "name": "ABC-GAN Model 3 Euclidean distance"
      }
     },
     "output_type": "display_data"
    },
    {
     "data": {
      "application/scrapbook.scrap.json+json": {
       "data": [
        [
         0.17047188872302785,
         0.18102260229100134,
         0.20720937717487936,
         0.141021069527359,
         0.17903283695933353,
         0.15978275463231323,
         0.17824991080452524,
         0.13829029073872473,
         0.18196355685507642,
         0.1839847960400161,
         0.1975342000578269,
         0.16676110859540627,
         0.1738741068702895,
         0.14659135319819,
         0.15647073118354032,
         0.18748860183838742,
         0.1724095129277486,
         0.18587156784429731,
         0.15977459125630009,
         0.18017882081542624,
         0.16706517103994142,
         0.1616266596908666,
         0.17148069638039348,
         0.15582104180852868,
         0.16213723376268513,
         0.16580848986872015,
         0.1792658010270384,
         0.1840528519568133,
         0.14994506360984564,
         0.1808327376720395,
         0.18859933756545583,
         0.19251875177037833,
         0.15004264712033613,
         0.1522047072922522,
         0.17851462406353957,
         0.18491163433099905,
         0.15665797821362956,
         0.15884487004939735,
         0.18596301862091624,
         0.17874487600731376,
         0.16010571837762252,
         0.17903093579264578,
         0.17624931281540795,
         0.1727684192487461,
         0.16985361076565203,
         0.1636123931513815,
         0.17451242943753917,
         0.16338518670360797,
         0.1810274394330682,
         0.16103787804687097,
         0.15286936538518206,
         0.15926981165452098,
         0.1996590365952511,
         0.16815411749882858,
         0.1537026634239587,
         0.19897321753775815,
         0.15784244370045641,
         0.18930356868098097,
         0.17334475881655806,
         0.1796286241914448,
         0.181160052435897,
         0.15757161128500785,
         0.1560418395231859,
         0.19226240425870045,
         0.13974617521573193,
         0.18356510926474864,
         0.1591561834989634,
         0.1831966635861506,
         0.20159850931160256,
         0.16390031883741124,
         0.17128108107164403,
         0.1709705128513256,
         0.16430354153422524,
         0.19049841251907135,
         0.17300721893396004,
         0.16555200634523887,
         0.1995407670546113,
         0.15936436596130546,
         0.192313905016177,
         0.16089776695541386,
         0.16808667854076756,
         0.17701349589558435,
         0.14370163532361363,
         0.19318574772645364,
         0.16566579740362633,
         0.19070335057601612,
         0.1669746096422726,
         0.1799186174509575,
         0.17210967781845107,
         0.1784740485103716,
         0.18236947155676203,
         0.1615667251370756,
         0.16363228176332092,
         0.1874423566692454,
         0.14797015717798684,
         0.17444029553056134,
         0.18770417474690243,
         0.1581328310763753,
         0.20050133381268367,
         0.20310307950059783
        ],
        [
         0.30756751000881194,
         0.34315506294369696,
         0.33482290878891946,
         0.28061300739645956,
         0.31809609532356264,
         0.3250344429165125,
         0.3093216627836227,
         0.2817526362836361,
         0.3327778657898307,
         0.32590291714295744,
         0.31289963573217394,
         0.31173305213451385,
         0.3110239006578922,
         0.2718379881232977,
         0.2985518598929048,
         0.33717754669487476,
         0.31341736763715744,
         0.31290831286460163,
         0.31715888194739816,
         0.3249180383980274,
         0.3184919020161033,
         0.3140477366745472,
         0.306657887250185,
         0.2912697963416576,
         0.29722210839390756,
         0.30832467749714854,
         0.3208617340773344,
         0.3258193852379918,
         0.2940869823098183,
         0.33852382395416497,
         0.3258502662181854,
         0.3397182600572705,
         0.3150283683091402,
         0.2941127099096775,
         0.33844314329326153,
         0.32456394135951994,
         0.30118807330727576,
         0.29348706975579264,
         0.33627758603543045,
         0.32296833004802467,
         0.2931223220191896,
         0.31468312367796897,
         0.306839881464839,
         0.3022991240024567,
         0.3266065679490566,
         0.30939559210091827,
         0.3337308637797832,
         0.2963659591972828,
         0.29411469027400017,
         0.3003857910633087,
         0.298794649541378,
         0.3178100548684597,
         0.3237124815583229,
         0.3128638230264187,
         0.3069251960143447,
         0.35031446488574147,
         0.3253360915929079,
         0.33215372301638124,
         0.3153823986649513,
         0.3188043892383575,
         0.3138700008392334,
         0.3045497976243496,
         0.2928402630612254,
         0.3150352954864502,
         0.28008988201618196,
         0.316266643255949,
         0.30119546242058276,
         0.32113213613629343,
         0.3400038670748472,
         0.31675741672515867,
         0.3259611127898097,
         0.3170746871270239,
         0.30573203712701796,
         0.34237788058817387,
         0.3396299324929714,
         0.298301899433136,
         0.3477298464626074,
         0.30570930391550066,
         0.3630042847245932,
         0.30237695053219793,
         0.304204292781651,
         0.328046427667141,
         0.2978568274527788,
         0.3358262874186039,
         0.3078338585793972,
         0.3340050794184208,
         0.3174411868676543,
         0.3048478111624718,
         0.30719452276825904,
         0.321791816316545,
         0.31548061296343805,
         0.2938932221382856,
         0.3035189762711525,
         0.33233741484582424,
         0.2895371183753014,
         0.3130750436335802,
         0.3446841940283775,
         0.3062815211713314,
         0.34166579246520995,
         0.3555005181580782
        ],
        [
         6.151350200176239,
         6.8631012588739395,
         6.696458175778389,
         5.612260147929192,
         6.361921906471252,
         6.50068885833025,
         6.186433255672455,
         5.635052725672722,
         6.655557315796614,
         6.518058342859149,
         6.257992714643478,
         6.234661042690277,
         6.2204780131578445,
         5.436759762465954,
         5.971037197858095,
         6.743550933897495,
         6.268347352743149,
         6.258166257292032,
         6.343177638947964,
         6.498360767960548,
         6.369838040322065,
         6.280954733490944,
         6.1331577450037,
         5.825395926833153,
         5.944442167878151,
         6.16649354994297,
         6.417234681546688,
         6.516387704759836,
         5.881739646196365,
         6.7704764790833,
         6.5170053243637085,
         6.7943652011454105,
         6.300567366182804,
         5.88225419819355,
         6.768862865865231,
         6.491278827190399,
         6.023761466145515,
         5.869741395115852,
         6.725551720708609,
         6.459366600960493,
         5.862446440383792,
         6.29366247355938,
         6.13679762929678,
         6.045982480049133,
         6.5321313589811325,
         6.187911842018366,
         6.674617275595665,
         5.927319183945656,
         5.882293805480003,
         6.007715821266174,
         5.97589299082756,
         6.356201097369194,
         6.474249631166458,
         6.257276460528374,
         6.138503920286894,
         7.0062892977148294,
         6.506721831858158,
         6.643074460327625,
         6.3076479732990265,
         6.376087784767151,
         6.277400016784668,
         6.090995952486992,
         5.856805261224508,
         6.300705909729004,
         5.601797640323639,
         6.32533286511898,
         6.023909248411655,
         6.422642722725868,
         6.800077341496944,
         6.335148334503174,
         6.519222255796194,
         6.341493742540479,
         6.1146407425403595,
         6.847557611763477,
         6.792598649859428,
         5.96603798866272,
         6.954596929252148,
         6.114186078310013,
         7.260085694491863,
         6.047539010643959,
         6.08408585563302,
         6.560928553342819,
         5.957136549055576,
         6.716525748372078,
         6.156677171587944,
         6.680101588368416,
         6.3488237373530865,
         6.096956223249435,
         6.143890455365181,
         6.4358363263309,
         6.309612259268761,
         5.877864442765713,
         6.07037952542305,
         6.646748296916485,
         5.790742367506027,
         6.261500872671604,
         6.893683880567551,
         6.125630423426628,
         6.833315849304199,
         7.110010363161564
        ],
        [
         1.846466293886936,
         1.9027485503397517,
         2.0357277675312058,
         1.6794110248974727,
         1.8922623336066993,
         1.7876395309587065,
         1.8881202864464184,
         1.6630711995505467,
         1.9076873792897853,
         1.918253351567598,
         1.9876327631523227,
         1.8262590648394126,
         1.864800830492573,
         1.7122578847719756,
         1.769015156427668,
         1.9364328123556853,
         1.8569303321759199,
         1.9280641475028641,
         1.7875938647036138,
         1.898308830593306,
         1.8279232535308556,
         1.7979246908080806,
         1.8519216850633478,
         1.7653387312837652,
         1.8007622483975234,
         1.8210353641196546,
         1.8934930738032205,
         1.9186080994138084,
         1.7317336031263333,
         1.9017504445748894,
         1.9421603309997648,
         1.9622372525786902,
         1.7322970133342384,
         1.7447332592247573,
         1.8895217599357759,
         1.9230789600585778,
         1.7700733217221798,
         1.7823853121555808,
         1.9285384031484374,
         1.8907399398506064,
         1.7894452681075357,
         1.8922522865233684,
         1.8774946754406947,
         1.8588621210232141,
         1.8431148133833228,
         1.808935560772586,
         1.868220701295964,
         1.8076791015200013,
         1.9027739720369743,
         1.7946469181812392,
         1.748538620592534,
         1.7847678373083766,
         1.9982944557559634,
         1.833870865131068,
         1.753297826519834,
         1.9948594814560656,
         1.7767523389626165,
         1.9457829718700952,
         1.8619600361799287,
         1.8954082631003,
         1.9034707900879226,
         1.775227372958224,
         1.7665890270415805,
         1.9609304131391325,
         1.6718024716797852,
         1.9160642435197661,
         1.784131068609946,
         1.9141403479690333,
         2.0079766398621404,
         1.8105265468222842,
         1.8508434891780776,
         1.8491647457775395,
         1.812752280562489,
         1.9519139966662022,
         1.8601463325983794,
         1.8196263701388746,
         1.9977025156644885,
         1.785297543611739,
         1.9611930298477864,
         1.7938660315386645,
         1.8335030872118407,
         1.8815605007311582,
         1.6952972324852869,
         1.9656334741067758,
         1.820251616692738,
         1.9529636482844022,
         1.8274277531124048,
         1.8969376239136462,
         1.8553149480260815,
         1.8893070079284182,
         1.9098139781495058,
         1.7975913058149542,
         1.8090455039236626,
         1.9361939813419804,
         1.720291586783978,
         1.8678345511878793,
         1.9375457400892628,
         1.7783859596632858,
         2.0025051001816885,
         2.0154556780073225
        ]
       ],
       "encoder": "json",
       "name": "ABC_GAN_3 Metrics",
       "version": 1
      }
     },
     "metadata": {
      "scrapbook": {
       "data": true,
       "display": false,
       "name": "ABC_GAN_3 Metrics"
      }
     },
     "output_type": "display_data"
    },
    {
     "name": "stdout",
     "output_type": "stream",
     "text": [
      "MSE\n",
      "0.1725597761276224\n"
     ]
    }
   ],
   "source": [
    "ABC_GAN3_metrics=ABC_train_test2.test_generator(gen3,test_data,prior_model,variance,\"3\",device)\n",
    "sb.glue(\"ABC_GAN_3 Metrics\",ABC_GAN3_metrics)\n",
    "\n",
    "print(\"MSE\")\n",
    "print(mean(ABC_GAN3_metrics[0]))"
   ]
  },
  {
   "cell_type": "code",
   "execution_count": 18,
   "id": "c8e46b48",
   "metadata": {
    "execution": {
     "iopub.execute_input": "2022-02-13T14:59:23.938801Z",
     "iopub.status.busy": "2022-02-13T14:59:23.938437Z",
     "iopub.status.idle": "2022-02-13T14:59:24.235829Z",
     "shell.execute_reply": "2022-02-13T14:59:24.236200Z"
    },
    "id": "c8e46b48",
    "papermill": {
     "duration": 0.317113,
     "end_time": "2022-02-13T14:59:24.236324",
     "exception": false,
     "start_time": "2022-02-13T14:59:23.919211",
     "status": "completed"
    },
    "tags": []
   },
   "outputs": [
    {
     "data": {
      "image/png": "[encoded data removed]",
      "text/plain": [
       "<Figure size 432x288 with 1 Axes>"
      ]
     },
     "metadata": {
      "needs_background": "light"
     },
     "output_type": "display_data"
    },
    {
     "data": {
      "image/png": "[encoded data removed]",
      "text/plain": [
       "<Figure size 432x288 with 1 Axes>"
      ]
     },
     "metadata": {
      "needs_background": "light"
     },
     "output_type": "display_data"
    },
    {
     "data": {
      "image/png": "[encoded data removed]",
      "text/plain": [
       "<Figure size 432x288 with 1 Axes>"
      ]
     },
     "metadata": {
      "needs_background": "light"
     },
     "output_type": "display_data"
    },
    {
     "data": {
      "image/png": "[encoded data removed]",
      "text/plain": [
       "<Figure size 432x288 with 1 Axes>"
      ]
     },
     "metadata": {
      "needs_background": "light"
     },
     "output_type": "display_data"
    }
   ],
   "source": [
    "sanityChecks.discProbVsError(train_data,disc3,device)\n",
    "sanityChecks.discProbVsError(test_data,disc3,device)"
   ]
  },
  {
   "cell_type": "markdown",
   "id": "a5bd74c3",
   "metadata": {
    "id": "a5bd74c3",
    "papermill": {
     "duration": 0.019185,
     "end_time": "2022-02-13T14:59:24.274864",
     "exception": false,
     "start_time": "2022-02-13T14:59:24.255679",
     "status": "completed"
    },
    "tags": []
   },
   "source": [
    "## Skip Connection Model Analysis - ABC-GAN "
   ]
  },
  {
   "cell_type": "markdown",
   "id": "5744a8bf",
   "metadata": {
    "id": "5744a8bf",
    "papermill": {
     "duration": 0.01931,
     "end_time": "2022-02-13T14:59:24.313037",
     "exception": false,
     "start_time": "2022-02-13T14:59:24.293727",
     "status": "completed"
    },
    "tags": []
   },
   "source": [
    "### Weight Analysis \n",
    "\n",
    "Study the weights of the skip connection layer\n",
    "\n",
    "Equation of the skip connection is \n",
    "\n",
    "$output = y_{gan} * w + y_{abc} * (1-w)$"
   ]
  },
  {
   "cell_type": "code",
   "execution_count": 19,
   "id": "52c31dea",
   "metadata": {
    "execution": {
     "iopub.execute_input": "2022-02-13T14:59:24.354279Z",
     "iopub.status.busy": "2022-02-13T14:59:24.353877Z",
     "iopub.status.idle": "2022-02-13T14:59:24.357136Z",
     "shell.execute_reply": "2022-02-13T14:59:24.357373Z"
    },
    "id": "52c31dea",
    "papermill": {
     "duration": 0.025214,
     "end_time": "2022-02-13T14:59:24.357490",
     "exception": false,
     "start_time": "2022-02-13T14:59:24.332276",
     "status": "completed"
    },
    "tags": []
   },
   "outputs": [
    {
     "name": "stdout",
     "output_type": "stream",
     "text": [
      "Weight of the node at skip connection\n",
      "Parameter containing:\n",
      "tensor([[0.2814]], requires_grad=True)\n"
     ]
    },
    {
     "data": {
      "application/scrapbook.scrap.json+json": {
       "data": 0.2814371883869171,
       "encoder": "json",
       "name": "Skip Connection Weight",
       "version": 1
      }
     },
     "metadata": {
      "scrapbook": {
       "data": true,
       "display": false,
       "name": "Skip Connection Weight"
      }
     },
     "output_type": "display_data"
    }
   ],
   "source": [
    "print(\"Weight of the node at skip connection\")\n",
    "for name,param in gen3.named_parameters():\n",
    "    if(name == \"skipNode.weight\"):\n",
    "        print(param)\n",
    "        sb.glue(\"Skip Connection Weight\",param.item())"
   ]
  }
 ],
 "metadata": {
  "colab": {
   "collapsed_sections": [],
   "name": "ABC_GAN_Model-Catboost_Pre-gen.ipynb",
   "provenance": []
  },
  "interpreter": {
   "hash": "31f2aee4e71d21fbe5cf8b01ff0e069b9275f58929596ceb00d14d90e3e16cd6"
  },
  "kernelspec": {
   "display_name": "Python 3 (ipykernel)",
   "language": "python",
   "name": "python3"
  },
  "language_info": {
   "codemirror_mode": {
    "name": "ipython",
    "version": 3
   },
   "file_extension": ".py",
   "mimetype": "text/x-python",
   "name": "python",
   "nbconvert_exporter": "python",
   "pygments_lexer": "ipython3",
   "version": "3.8.11"
  },
  "papermill": {
   "default_parameters": {},
   "duration": 56.257855,
   "end_time": "2022-02-13T14:59:24.684220",
   "environment_variables": {},
   "exception": null,
   "input_path": "ABC_GAN-Catboost.ipynb",
   "output_path": "./ABC_GAN_Catboost/ABC-GAN_output_7_1.ipynb",
   "parameters": {
    "variance": 0.1
   },
   "start_time": "2022-02-13T14:58:28.426365",
   "version": "2.3.3"
  }
 },
 "nbformat": 4,
 "nbformat_minor": 5
}