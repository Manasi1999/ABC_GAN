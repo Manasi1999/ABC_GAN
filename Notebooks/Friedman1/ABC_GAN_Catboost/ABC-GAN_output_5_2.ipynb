{
 "cells": [
  {
   "cell_type": "markdown",
   "id": "622780e6",
   "metadata": {
    "id": "622780e6",
    "papermill": {
     "duration": 0.034023,
     "end_time": "2022-02-13T14:53:50.962373",
     "exception": false,
     "start_time": "2022-02-13T14:53:50.928350",
     "status": "completed"
    },
    "tags": []
   },
   "source": [
    "## Import Libraries "
   ]
  },
  {
   "cell_type": "code",
   "execution_count": 1,
   "id": "a62397e3",
   "metadata": {
    "execution": {
     "iopub.execute_input": "2022-02-13T14:53:50.998290Z",
     "iopub.status.busy": "2022-02-13T14:53:50.997787Z",
     "iopub.status.idle": "2022-02-13T14:53:51.000142Z",
     "shell.execute_reply": "2022-02-13T14:53:51.000547Z"
    },
    "id": "a62397e3",
    "papermill": {
     "duration": 0.022152,
     "end_time": "2022-02-13T14:53:51.000759",
     "exception": false,
     "start_time": "2022-02-13T14:53:50.978607",
     "status": "completed"
    },
    "tags": []
   },
   "outputs": [],
   "source": [
    "import warnings\n",
    "import sys\n",
    "sys.path.insert(0, '../../src')\n",
    "warnings.filterwarnings('ignore')"
   ]
  },
  {
   "cell_type": "code",
   "execution_count": 2,
   "id": "d6a4e155",
   "metadata": {
    "execution": {
     "iopub.execute_input": "2022-02-13T14:53:51.022089Z",
     "iopub.status.busy": "2022-02-13T14:53:51.021679Z",
     "iopub.status.idle": "2022-02-13T14:53:52.590139Z",
     "shell.execute_reply": "2022-02-13T14:53:52.590373Z"
    },
    "id": "d6a4e155",
    "papermill": {
     "duration": 1.579974,
     "end_time": "2022-02-13T14:53:52.590501",
     "exception": false,
     "start_time": "2022-02-13T14:53:51.010527",
     "status": "completed"
    },
    "tags": []
   },
   "outputs": [],
   "source": [
    "import ABC_train_test2\n",
    "import friedman1Dataset\n",
    "import network\n",
    "import dataset\n",
    "import sanityChecks\n",
    "import torch \n",
    "import scrapbook as sb\n",
    "from statistics import mean \n",
    "import catboost as ctb \n",
    "from sklearn.model_selection import train_test_split\n",
    "from sklearn.metrics import mean_squared_error,mean_absolute_error\n",
    "import numpy as np"
   ]
  },
  {
   "cell_type": "markdown",
   "id": "2fa5b0f7",
   "metadata": {
    "id": "2fa5b0f7",
    "papermill": {
     "duration": 0.007185,
     "end_time": "2022-02-13T14:53:52.604835",
     "exception": false,
     "start_time": "2022-02-13T14:53:52.597650",
     "status": "completed"
    },
    "tags": []
   },
   "source": [
    "## Parameters "
   ]
  },
  {
   "cell_type": "code",
   "execution_count": 3,
   "id": "783186fb",
   "metadata": {
    "execution": {
     "iopub.execute_input": "2022-02-13T14:53:52.621505Z",
     "iopub.status.busy": "2022-02-13T14:53:52.621138Z",
     "iopub.status.idle": "2022-02-13T14:53:52.622403Z",
     "shell.execute_reply": "2022-02-13T14:53:52.622622Z"
    },
    "id": "783186fb",
    "papermill": {
     "duration": 0.01082,
     "end_time": "2022-02-13T14:53:52.622730",
     "exception": false,
     "start_time": "2022-02-13T14:53:52.611910",
     "status": "completed"
    },
    "tags": [
     "parameters"
    ]
   },
   "outputs": [],
   "source": [
    "variance = 1"
   ]
  },
  {
   "cell_type": "code",
   "execution_count": 4,
   "id": "2ab0126a",
   "metadata": {
    "execution": {
     "iopub.execute_input": "2022-02-13T14:53:52.638460Z",
     "iopub.status.busy": "2022-02-13T14:53:52.638105Z",
     "iopub.status.idle": "2022-02-13T14:53:52.639342Z",
     "shell.execute_reply": "2022-02-13T14:53:52.639593Z"
    },
    "papermill": {
     "duration": 0.009977,
     "end_time": "2022-02-13T14:53:52.639698",
     "exception": false,
     "start_time": "2022-02-13T14:53:52.629721",
     "status": "completed"
    },
    "tags": [
     "injected-parameters"
    ]
   },
   "outputs": [],
   "source": [
    "# Parameters\n",
    "variance = 0.01\n"
   ]
  },
  {
   "cell_type": "markdown",
   "id": "391cdbfd",
   "metadata": {
    "id": "391cdbfd",
    "papermill": {
     "duration": 0.006813,
     "end_time": "2022-02-13T14:53:52.653410",
     "exception": false,
     "start_time": "2022-02-13T14:53:52.646597",
     "status": "completed"
    },
    "tags": []
   },
   "source": [
    "## Dataset \n"
   ]
  },
  {
   "cell_type": "code",
   "execution_count": 5,
   "id": "5b51f161",
   "metadata": {
    "execution": {
     "iopub.execute_input": "2022-02-13T14:53:52.668948Z",
     "iopub.status.busy": "2022-02-13T14:53:52.668596Z",
     "iopub.status.idle": "2022-02-13T14:53:52.669924Z",
     "shell.execute_reply": "2022-02-13T14:53:52.670166Z"
    },
    "id": "5b51f161",
    "papermill": {
     "duration": 0.010006,
     "end_time": "2022-02-13T14:53:52.670276",
     "exception": false,
     "start_time": "2022-02-13T14:53:52.660270",
     "status": "completed"
    },
    "tags": []
   },
   "outputs": [],
   "source": [
    "#Parameters \n",
    "n_features = 5\n",
    "n_samples= 100\n",
    "n_target = 1 "
   ]
  },
  {
   "cell_type": "code",
   "execution_count": 6,
   "id": "5d6eced4",
   "metadata": {
    "execution": {
     "iopub.execute_input": "2022-02-13T14:53:52.687480Z",
     "iopub.status.busy": "2022-02-13T14:53:52.687102Z",
     "iopub.status.idle": "2022-02-13T14:53:52.691903Z",
     "shell.execute_reply": "2022-02-13T14:53:52.692153Z"
    },
    "id": "5d6eced4",
    "papermill": {
     "duration": 0.015,
     "end_time": "2022-02-13T14:53:52.692265",
     "exception": false,
     "start_time": "2022-02-13T14:53:52.677265",
     "status": "completed"
    },
    "tags": []
   },
   "outputs": [
    {
     "name": "stdout",
     "output_type": "stream",
     "text": [
      "         X0        X1        X2        X3        X4         Y\n",
      "0  0.874001 -0.120600  1.340319 -0.413849 -1.626375  0.407406\n",
      "1 -0.273189  1.669557  1.450041  0.642474  0.975024  2.102015\n",
      "2 -0.880014 -0.812150 -0.799508  1.518541  0.734265  0.260927\n",
      "3 -1.406169 -0.718932  0.176735 -1.077163  0.119361 -1.827872\n",
      "4  1.044185  1.533051 -0.461922  0.743133  1.775294  0.924915\n"
     ]
    }
   ],
   "source": [
    "X,Y = friedman1Dataset.friedman1_data(n_samples,n_features)"
   ]
  },
  {
   "cell_type": "code",
   "execution_count": 7,
   "id": "fe007438",
   "metadata": {
    "execution": {
     "iopub.execute_input": "2022-02-13T14:53:52.709547Z",
     "iopub.status.busy": "2022-02-13T14:53:52.709180Z",
     "iopub.status.idle": "2022-02-13T14:53:52.710545Z",
     "shell.execute_reply": "2022-02-13T14:53:52.710790Z"
    },
    "id": "fe007438",
    "papermill": {
     "duration": 0.011177,
     "end_time": "2022-02-13T14:53:52.710898",
     "exception": false,
     "start_time": "2022-02-13T14:53:52.699721",
     "status": "completed"
    },
    "tags": []
   },
   "outputs": [],
   "source": [
    "#Train test split for dataset \n",
    "X_train,X_test,Y_train,Y_test = train_test_split(X,Y,test_size = 0.2)\n",
    "train_data = dataset.CustomDataset(X_train,Y_train)\n",
    "test_data = dataset.CustomDataset(X_test,Y_test)\n"
   ]
  },
  {
   "cell_type": "markdown",
   "id": "a9a1af34",
   "metadata": {
    "id": "a9a1af34",
    "papermill": {
     "duration": 0.007172,
     "end_time": "2022-02-13T14:53:52.725349",
     "exception": false,
     "start_time": "2022-02-13T14:53:52.718177",
     "status": "completed"
    },
    "tags": []
   },
   "source": [
    "## Training Parameters "
   ]
  },
  {
   "cell_type": "code",
   "execution_count": 8,
   "id": "952b7fc8",
   "metadata": {
    "execution": {
     "iopub.execute_input": "2022-02-13T14:53:52.741953Z",
     "iopub.status.busy": "2022-02-13T14:53:52.741594Z",
     "iopub.status.idle": "2022-02-13T14:53:52.742863Z",
     "shell.execute_reply": "2022-02-13T14:53:52.743107Z"
    },
    "id": "952b7fc8",
    "papermill": {
     "duration": 0.010696,
     "end_time": "2022-02-13T14:53:52.743210",
     "exception": false,
     "start_time": "2022-02-13T14:53:52.732514",
     "status": "completed"
    },
    "tags": []
   },
   "outputs": [],
   "source": [
    "batch_size = 32\n",
    "n_epochs = 1000\n",
    "#Select the device \n",
    "device = torch.device('cuda' if torch.cuda.is_available() else 'cpu')"
   ]
  },
  {
   "cell_type": "markdown",
   "id": "a95e1600",
   "metadata": {
    "id": "a95e1600",
    "papermill": {
     "duration": 0.007097,
     "end_time": "2022-02-13T14:53:52.757493",
     "exception": false,
     "start_time": "2022-02-13T14:53:52.750396",
     "status": "completed"
    },
    "tags": []
   },
   "source": [
    "# ABC Pre-generator Model \n",
    "\n",
    "1. The catboost model is used as a pre-generator model for the ABC-GAN. \n",
    "2. The model is first trained on the entire dataset \n",
    "3. It generats X,Y pairs and we add some Gaussian noise with mean 0 and variance 1 to it which is then feed as input to the generator.\n"
   ]
  },
  {
   "cell_type": "code",
   "execution_count": 9,
   "id": "ff8ce7bd",
   "metadata": {
    "execution": {
     "iopub.execute_input": "2022-02-13T14:53:52.776209Z",
     "iopub.status.busy": "2022-02-13T14:53:52.775818Z",
     "iopub.status.idle": "2022-02-13T14:53:53.426600Z",
     "shell.execute_reply": "2022-02-13T14:53:53.426902Z"
    },
    "id": "ff8ce7bd",
    "papermill": {
     "duration": 0.662254,
     "end_time": "2022-02-13T14:53:53.427023",
     "exception": false,
     "start_time": "2022-02-13T14:53:52.764769",
     "status": "completed"
    },
    "tags": []
   },
   "outputs": [
    {
     "name": "stdout",
     "output_type": "stream",
     "text": [
      "Learning rate set to 0.024897\n",
      "0:\tlearn: 0.9924412\ttotal: 57.3ms\tremaining: 57.2s\n",
      "1:\tlearn: 0.9833592\ttotal: 57.8ms\tremaining: 28.8s\n",
      "2:\tlearn: 0.9741146\ttotal: 58.5ms\tremaining: 19.4s\n",
      "3:\tlearn: 0.9649132\ttotal: 59ms\tremaining: 14.7s\n",
      "4:\tlearn: 0.9576168\ttotal: 59.7ms\tremaining: 11.9s\n",
      "5:\tlearn: 0.9481123\ttotal: 60.4ms\tremaining: 10s\n",
      "6:\tlearn: 0.9387584\ttotal: 61.1ms\tremaining: 8.66s\n",
      "7:\tlearn: 0.9292126\ttotal: 61.5ms\tremaining: 7.63s\n",
      "8:\tlearn: 0.9214023\ttotal: 62.2ms\tremaining: 6.85s\n",
      "9:\tlearn: 0.9144962\ttotal: 63ms\tremaining: 6.23s\n",
      "10:\tlearn: 0.9075071\ttotal: 63.8ms\tremaining: 5.73s\n",
      "11:\tlearn: 0.8989084\ttotal: 64.4ms\tremaining: 5.3s\n",
      "12:\tlearn: 0.8908946\ttotal: 65ms\tremaining: 4.93s\n",
      "13:\tlearn: 0.8839759\ttotal: 65.5ms\tremaining: 4.61s\n",
      "14:\tlearn: 0.8766058\ttotal: 66ms\tremaining: 4.33s\n",
      "15:\tlearn: 0.8693184\ttotal: 66.6ms\tremaining: 4.09s\n",
      "16:\tlearn: 0.8603413\ttotal: 67ms\tremaining: 3.88s\n",
      "17:\tlearn: 0.8542018\ttotal: 67.5ms\tremaining: 3.68s\n",
      "18:\tlearn: 0.8471639\ttotal: 68.1ms\tremaining: 3.51s\n",
      "19:\tlearn: 0.8396170\ttotal: 68.5ms\tremaining: 3.36s\n",
      "20:\tlearn: 0.8333773\ttotal: 68.9ms\tremaining: 3.21s\n",
      "21:\tlearn: 0.8254691\ttotal: 69.3ms\tremaining: 3.08s\n",
      "22:\tlearn: 0.8184351\ttotal: 69.7ms\tremaining: 2.96s\n",
      "23:\tlearn: 0.8114384\ttotal: 70.2ms\tremaining: 2.85s\n",
      "24:\tlearn: 0.8054515\ttotal: 70.6ms\tremaining: 2.75s\n",
      "25:\tlearn: 0.7975417\ttotal: 71.1ms\tremaining: 2.66s\n",
      "26:\tlearn: 0.7904258\ttotal: 71.6ms\tremaining: 2.58s\n",
      "27:\tlearn: 0.7835000\ttotal: 72ms\tremaining: 2.5s\n",
      "28:\tlearn: 0.7764400\ttotal: 72.5ms\tremaining: 2.43s\n",
      "29:\tlearn: 0.7710095\ttotal: 73ms\tremaining: 2.36s\n",
      "30:\tlearn: 0.7663223\ttotal: 73.6ms\tremaining: 2.3s\n",
      "31:\tlearn: 0.7601138\ttotal: 74.1ms\tremaining: 2.24s\n",
      "32:\tlearn: 0.7532868\ttotal: 74.7ms\tremaining: 2.19s\n",
      "33:\tlearn: 0.7460013\ttotal: 76ms\tremaining: 2.16s\n",
      "34:\tlearn: 0.7398846\ttotal: 76.6ms\tremaining: 2.11s\n",
      "35:\tlearn: 0.7356327\ttotal: 77.1ms\tremaining: 2.06s\n",
      "36:\tlearn: 0.7304535\ttotal: 77.5ms\tremaining: 2.02s\n",
      "37:\tlearn: 0.7241990\ttotal: 78.1ms\tremaining: 1.98s\n",
      "38:\tlearn: 0.7181683\ttotal: 78.7ms\tremaining: 1.94s\n",
      "39:\tlearn: 0.7135467\ttotal: 79.1ms\tremaining: 1.9s\n",
      "40:\tlearn: 0.7084452\ttotal: 79.7ms\tremaining: 1.86s\n",
      "41:\tlearn: 0.7030648\ttotal: 80.1ms\tremaining: 1.83s\n",
      "42:\tlearn: 0.6979121\ttotal: 80.6ms\tremaining: 1.79s\n",
      "43:\tlearn: 0.6926675\ttotal: 81ms\tremaining: 1.76s\n",
      "44:\tlearn: 0.6876247\ttotal: 81.5ms\tremaining: 1.73s\n",
      "45:\tlearn: 0.6823689\ttotal: 81.9ms\tremaining: 1.7s\n",
      "46:\tlearn: 0.6772269\ttotal: 82.4ms\tremaining: 1.67s\n",
      "47:\tlearn: 0.6728211\ttotal: 82.8ms\tremaining: 1.64s\n",
      "48:\tlearn: 0.6676057\ttotal: 83.4ms\tremaining: 1.62s\n",
      "49:\tlearn: 0.6624502\ttotal: 83.9ms\tremaining: 1.59s\n",
      "50:\tlearn: 0.6570318\ttotal: 84.4ms\tremaining: 1.57s\n",
      "51:\tlearn: 0.6520136\ttotal: 85ms\tremaining: 1.55s\n",
      "52:\tlearn: 0.6466150\ttotal: 85.4ms\tremaining: 1.52s\n",
      "53:\tlearn: 0.6410273\ttotal: 85.8ms\tremaining: 1.5s\n",
      "54:\tlearn: 0.6367756\ttotal: 86.3ms\tremaining: 1.48s\n",
      "55:\tlearn: 0.6320631\ttotal: 86.8ms\tremaining: 1.46s\n",
      "56:\tlearn: 0.6275795\ttotal: 87.3ms\tremaining: 1.44s\n",
      "57:\tlearn: 0.6225121\ttotal: 87.8ms\tremaining: 1.43s\n",
      "58:\tlearn: 0.6182352\ttotal: 88.3ms\tremaining: 1.41s\n",
      "59:\tlearn: 0.6138692\ttotal: 88.9ms\tremaining: 1.39s\n",
      "60:\tlearn: 0.6095713\ttotal: 89.7ms\tremaining: 1.38s\n",
      "61:\tlearn: 0.6053150\ttotal: 90.3ms\tremaining: 1.37s\n",
      "62:\tlearn: 0.6010247\ttotal: 90.8ms\tremaining: 1.35s\n",
      "63:\tlearn: 0.5961937\ttotal: 91.2ms\tremaining: 1.33s\n",
      "64:\tlearn: 0.5924388\ttotal: 91.7ms\tremaining: 1.32s\n",
      "65:\tlearn: 0.5886737\ttotal: 92.3ms\tremaining: 1.3s\n",
      "66:\tlearn: 0.5839691\ttotal: 93ms\tremaining: 1.29s\n",
      "67:\tlearn: 0.5799535\ttotal: 93.6ms\tremaining: 1.28s\n",
      "68:\tlearn: 0.5762335\ttotal: 94ms\tremaining: 1.27s\n",
      "69:\tlearn: 0.5714547\ttotal: 94.5ms\tremaining: 1.26s\n",
      "70:\tlearn: 0.5670223\ttotal: 95.1ms\tremaining: 1.24s\n",
      "71:\tlearn: 0.5624254\ttotal: 95.6ms\tremaining: 1.23s\n",
      "72:\tlearn: 0.5581603\ttotal: 96ms\tremaining: 1.22s\n",
      "73:\tlearn: 0.5540814\ttotal: 96.6ms\tremaining: 1.21s\n",
      "74:\tlearn: 0.5508341\ttotal: 97.1ms\tremaining: 1.2s\n",
      "75:\tlearn: 0.5470724\ttotal: 97.6ms\tremaining: 1.19s\n",
      "76:\tlearn: 0.5425961\ttotal: 98.2ms\tremaining: 1.18s\n",
      "77:\tlearn: 0.5386261\ttotal: 98.8ms\tremaining: 1.17s\n",
      "78:\tlearn: 0.5352605\ttotal: 99.3ms\tremaining: 1.16s\n",
      "79:\tlearn: 0.5312591\ttotal: 99.9ms\tremaining: 1.15s\n",
      "80:\tlearn: 0.5272179\ttotal: 100ms\tremaining: 1.14s\n",
      "81:\tlearn: 0.5228016\ttotal: 101ms\tremaining: 1.13s\n",
      "82:\tlearn: 0.5189710\ttotal: 102ms\tremaining: 1.12s\n",
      "83:\tlearn: 0.5159359\ttotal: 102ms\tremaining: 1.11s\n",
      "84:\tlearn: 0.5120986\ttotal: 102ms\tremaining: 1.1s\n",
      "85:\tlearn: 0.5087953\ttotal: 103ms\tremaining: 1.09s\n",
      "86:\tlearn: 0.5055300\ttotal: 103ms\tremaining: 1.08s\n",
      "87:\tlearn: 0.5017730\ttotal: 104ms\tremaining: 1.07s\n",
      "88:\tlearn: 0.4980091\ttotal: 104ms\tremaining: 1.07s\n",
      "89:\tlearn: 0.4952226\ttotal: 105ms\tremaining: 1.06s\n",
      "90:\tlearn: 0.4911166\ttotal: 105ms\tremaining: 1.05s\n",
      "91:\tlearn: 0.4870250\ttotal: 106ms\tremaining: 1.04s\n",
      "92:\tlearn: 0.4838474\ttotal: 106ms\tremaining: 1.03s\n",
      "93:\tlearn: 0.4811958\ttotal: 107ms\tremaining: 1.03s\n"
     ]
    },
    {
     "name": "stdout",
     "output_type": "stream",
     "text": [
      "94:\tlearn: 0.4777163\ttotal: 108ms\tremaining: 1.02s\n",
      "95:\tlearn: 0.4743056\ttotal: 108ms\tremaining: 1.02s\n",
      "96:\tlearn: 0.4709980\ttotal: 109ms\tremaining: 1.01s\n",
      "97:\tlearn: 0.4680078\ttotal: 109ms\tremaining: 1s\n",
      "98:\tlearn: 0.4642146\ttotal: 110ms\tremaining: 998ms\n",
      "99:\tlearn: 0.4616844\ttotal: 110ms\tremaining: 991ms\n",
      "100:\tlearn: 0.4587736\ttotal: 111ms\tremaining: 984ms\n",
      "101:\tlearn: 0.4555329\ttotal: 111ms\tremaining: 978ms\n",
      "102:\tlearn: 0.4525507\ttotal: 112ms\tremaining: 974ms\n",
      "103:\tlearn: 0.4495552\ttotal: 112ms\tremaining: 968ms\n",
      "104:\tlearn: 0.4460333\ttotal: 113ms\tremaining: 961ms\n",
      "105:\tlearn: 0.4429455\ttotal: 113ms\tremaining: 954ms\n",
      "106:\tlearn: 0.4399681\ttotal: 114ms\tremaining: 949ms\n",
      "107:\tlearn: 0.4373899\ttotal: 114ms\tremaining: 943ms\n",
      "108:\tlearn: 0.4346554\ttotal: 115ms\tremaining: 938ms\n",
      "109:\tlearn: 0.4318639\ttotal: 115ms\tremaining: 932ms\n",
      "110:\tlearn: 0.4287223\ttotal: 116ms\tremaining: 927ms\n",
      "111:\tlearn: 0.4254642\ttotal: 116ms\tremaining: 921ms\n",
      "112:\tlearn: 0.4226395\ttotal: 117ms\tremaining: 915ms\n",
      "113:\tlearn: 0.4193784\ttotal: 117ms\tremaining: 911ms\n",
      "114:\tlearn: 0.4157059\ttotal: 118ms\tremaining: 907ms\n",
      "115:\tlearn: 0.4127363\ttotal: 118ms\tremaining: 902ms\n",
      "116:\tlearn: 0.4105183\ttotal: 119ms\tremaining: 898ms\n",
      "117:\tlearn: 0.4073479\ttotal: 119ms\tremaining: 892ms\n",
      "118:\tlearn: 0.4045862\ttotal: 120ms\tremaining: 888ms\n",
      "119:\tlearn: 0.4024945\ttotal: 120ms\tremaining: 883ms\n",
      "120:\tlearn: 0.3999418\ttotal: 121ms\tremaining: 879ms\n",
      "121:\tlearn: 0.3977710\ttotal: 121ms\tremaining: 873ms\n",
      "122:\tlearn: 0.3948493\ttotal: 122ms\tremaining: 868ms\n",
      "123:\tlearn: 0.3924931\ttotal: 122ms\tremaining: 864ms\n",
      "124:\tlearn: 0.3901414\ttotal: 123ms\tremaining: 860ms\n",
      "125:\tlearn: 0.3876895\ttotal: 123ms\tremaining: 856ms\n",
      "126:\tlearn: 0.3849785\ttotal: 124ms\tremaining: 851ms\n",
      "127:\tlearn: 0.3821133\ttotal: 124ms\tremaining: 848ms\n",
      "128:\tlearn: 0.3798750\ttotal: 125ms\tremaining: 844ms\n",
      "129:\tlearn: 0.3770731\ttotal: 126ms\tremaining: 840ms\n",
      "130:\tlearn: 0.3745826\ttotal: 126ms\tremaining: 836ms\n",
      "131:\tlearn: 0.3719671\ttotal: 127ms\tremaining: 832ms\n",
      "132:\tlearn: 0.3699783\ttotal: 127ms\tremaining: 829ms\n",
      "133:\tlearn: 0.3676889\ttotal: 128ms\tremaining: 826ms\n",
      "134:\tlearn: 0.3655304\ttotal: 128ms\tremaining: 822ms\n",
      "135:\tlearn: 0.3628620\ttotal: 129ms\tremaining: 819ms\n",
      "136:\tlearn: 0.3603466\ttotal: 129ms\tremaining: 816ms\n",
      "137:\tlearn: 0.3583569\ttotal: 130ms\tremaining: 812ms\n",
      "138:\tlearn: 0.3557868\ttotal: 130ms\tremaining: 808ms\n",
      "139:\tlearn: 0.3539046\ttotal: 131ms\tremaining: 804ms\n",
      "140:\tlearn: 0.3516309\ttotal: 131ms\tremaining: 801ms\n",
      "141:\tlearn: 0.3492492\ttotal: 132ms\tremaining: 797ms\n",
      "142:\tlearn: 0.3470519\ttotal: 133ms\tremaining: 794ms\n",
      "143:\tlearn: 0.3449325\ttotal: 133ms\tremaining: 791ms\n",
      "144:\tlearn: 0.3430997\ttotal: 134ms\tremaining: 788ms\n",
      "145:\tlearn: 0.3408058\ttotal: 134ms\tremaining: 785ms\n",
      "146:\tlearn: 0.3380819\ttotal: 135ms\tremaining: 782ms\n",
      "147:\tlearn: 0.3361603\ttotal: 135ms\tremaining: 779ms\n",
      "148:\tlearn: 0.3341206\ttotal: 136ms\tremaining: 775ms\n",
      "149:\tlearn: 0.3322405\ttotal: 136ms\tremaining: 772ms\n",
      "150:\tlearn: 0.3304398\ttotal: 137ms\tremaining: 769ms\n",
      "151:\tlearn: 0.3278714\ttotal: 137ms\tremaining: 766ms\n",
      "152:\tlearn: 0.3261684\ttotal: 138ms\tremaining: 762ms\n",
      "153:\tlearn: 0.3238191\ttotal: 138ms\tremaining: 759ms\n",
      "154:\tlearn: 0.3217680\ttotal: 139ms\tremaining: 756ms\n",
      "155:\tlearn: 0.3197490\ttotal: 139ms\tremaining: 753ms\n",
      "156:\tlearn: 0.3180208\ttotal: 140ms\tremaining: 750ms\n",
      "157:\tlearn: 0.3160971\ttotal: 140ms\tremaining: 747ms\n",
      "158:\tlearn: 0.3140840\ttotal: 141ms\tremaining: 744ms\n",
      "159:\tlearn: 0.3122757\ttotal: 141ms\tremaining: 742ms\n",
      "160:\tlearn: 0.3096558\ttotal: 142ms\tremaining: 739ms\n",
      "161:\tlearn: 0.3075669\ttotal: 142ms\tremaining: 737ms\n",
      "162:\tlearn: 0.3058033\ttotal: 143ms\tremaining: 735ms\n",
      "163:\tlearn: 0.3043484\ttotal: 144ms\tremaining: 732ms\n",
      "164:\tlearn: 0.3019014\ttotal: 144ms\tremaining: 730ms\n",
      "165:\tlearn: 0.2999993\ttotal: 145ms\tremaining: 728ms\n",
      "166:\tlearn: 0.2978156\ttotal: 146ms\tremaining: 726ms\n",
      "167:\tlearn: 0.2960730\ttotal: 146ms\tremaining: 723ms\n",
      "168:\tlearn: 0.2943523\ttotal: 146ms\tremaining: 720ms\n",
      "169:\tlearn: 0.2926247\ttotal: 147ms\tremaining: 718ms\n",
      "170:\tlearn: 0.2907439\ttotal: 148ms\tremaining: 716ms\n",
      "171:\tlearn: 0.2887235\ttotal: 148ms\tremaining: 713ms\n",
      "172:\tlearn: 0.2865954\ttotal: 149ms\tremaining: 710ms\n",
      "173:\tlearn: 0.2848709\ttotal: 149ms\tremaining: 707ms\n",
      "174:\tlearn: 0.2831554\ttotal: 150ms\tremaining: 705ms\n",
      "175:\tlearn: 0.2818742\ttotal: 150ms\tremaining: 703ms\n",
      "176:\tlearn: 0.2799107\ttotal: 151ms\tremaining: 701ms\n",
      "177:\tlearn: 0.2778621\ttotal: 151ms\tremaining: 698ms\n",
      "178:\tlearn: 0.2758753\ttotal: 152ms\tremaining: 697ms\n",
      "179:\tlearn: 0.2739386\ttotal: 152ms\tremaining: 694ms\n",
      "180:\tlearn: 0.2724431\ttotal: 153ms\tremaining: 692ms\n",
      "181:\tlearn: 0.2706657\ttotal: 153ms\tremaining: 689ms\n",
      "182:\tlearn: 0.2690725\ttotal: 154ms\tremaining: 687ms\n",
      "183:\tlearn: 0.2674500\ttotal: 154ms\tremaining: 684ms\n",
      "184:\tlearn: 0.2659032\ttotal: 155ms\tremaining: 683ms\n",
      "185:\tlearn: 0.2645036\ttotal: 156ms\tremaining: 681ms\n",
      "186:\tlearn: 0.2632642\ttotal: 156ms\tremaining: 679ms\n",
      "187:\tlearn: 0.2618360\ttotal: 157ms\tremaining: 677ms\n",
      "188:\tlearn: 0.2601543\ttotal: 157ms\tremaining: 675ms\n",
      "189:\tlearn: 0.2584427\ttotal: 158ms\tremaining: 673ms\n",
      "190:\tlearn: 0.2565459\ttotal: 158ms\tremaining: 671ms\n",
      "191:\tlearn: 0.2549780\ttotal: 159ms\tremaining: 669ms\n",
      "192:\tlearn: 0.2531173\ttotal: 160ms\tremaining: 667ms\n",
      "193:\tlearn: 0.2513157\ttotal: 160ms\tremaining: 665ms\n",
      "194:\tlearn: 0.2495641\ttotal: 161ms\tremaining: 663ms\n",
      "195:\tlearn: 0.2473977\ttotal: 161ms\tremaining: 661ms\n",
      "196:\tlearn: 0.2460989\ttotal: 162ms\tremaining: 659ms\n",
      "197:\tlearn: 0.2441861\ttotal: 162ms\tremaining: 657ms\n",
      "198:\tlearn: 0.2424840\ttotal: 163ms\tremaining: 655ms\n",
      "199:\tlearn: 0.2407468\ttotal: 163ms\tremaining: 653ms\n",
      "200:\tlearn: 0.2390852\ttotal: 164ms\tremaining: 650ms\n",
      "201:\tlearn: 0.2375068\ttotal: 164ms\tremaining: 648ms\n",
      "202:\tlearn: 0.2359261\ttotal: 165ms\tremaining: 646ms\n",
      "203:\tlearn: 0.2343546\ttotal: 165ms\tremaining: 644ms\n",
      "204:\tlearn: 0.2328164\ttotal: 166ms\tremaining: 642ms\n",
      "205:\tlearn: 0.2311669\ttotal: 166ms\tremaining: 641ms\n",
      "206:\tlearn: 0.2298269\ttotal: 167ms\tremaining: 639ms\n",
      "207:\tlearn: 0.2284553\ttotal: 167ms\tremaining: 637ms\n",
      "208:\tlearn: 0.2268560\ttotal: 168ms\tremaining: 635ms\n",
      "209:\tlearn: 0.2251876\ttotal: 168ms\tremaining: 633ms\n",
      "210:\tlearn: 0.2236003\ttotal: 169ms\tremaining: 631ms\n",
      "211:\tlearn: 0.2225733\ttotal: 169ms\tremaining: 628ms\n",
      "212:\tlearn: 0.2208179\ttotal: 170ms\tremaining: 627ms\n",
      "213:\tlearn: 0.2194284\ttotal: 170ms\tremaining: 625ms\n",
      "214:\tlearn: 0.2179653\ttotal: 171ms\tremaining: 624ms\n",
      "215:\tlearn: 0.2161180\ttotal: 171ms\tremaining: 622ms\n",
      "216:\tlearn: 0.2146834\ttotal: 172ms\tremaining: 621ms\n",
      "217:\tlearn: 0.2129706\ttotal: 173ms\tremaining: 620ms\n",
      "218:\tlearn: 0.2117191\ttotal: 173ms\tremaining: 618ms\n",
      "219:\tlearn: 0.2104835\ttotal: 174ms\tremaining: 616ms\n",
      "220:\tlearn: 0.2090943\ttotal: 174ms\tremaining: 614ms\n",
      "221:\tlearn: 0.2078061\ttotal: 175ms\tremaining: 613ms\n",
      "222:\tlearn: 0.2062850\ttotal: 176ms\tremaining: 612ms\n",
      "223:\tlearn: 0.2052718\ttotal: 176ms\tremaining: 610ms\n",
      "224:\tlearn: 0.2036892\ttotal: 177ms\tremaining: 608ms\n",
      "225:\tlearn: 0.2025479\ttotal: 177ms\tremaining: 607ms\n",
      "226:\tlearn: 0.2020909\ttotal: 177ms\tremaining: 604ms\n",
      "227:\tlearn: 0.2007907\ttotal: 178ms\tremaining: 603ms\n",
      "228:\tlearn: 0.1998000\ttotal: 178ms\tremaining: 601ms\n",
      "229:\tlearn: 0.1989869\ttotal: 179ms\tremaining: 599ms\n",
      "230:\tlearn: 0.1976591\ttotal: 179ms\tremaining: 597ms\n",
      "231:\tlearn: 0.1964613\ttotal: 180ms\tremaining: 595ms\n",
      "232:\tlearn: 0.1950944\ttotal: 180ms\tremaining: 593ms\n",
      "233:\tlearn: 0.1939094\ttotal: 181ms\tremaining: 591ms\n",
      "234:\tlearn: 0.1933315\ttotal: 181ms\tremaining: 589ms\n",
      "235:\tlearn: 0.1921887\ttotal: 181ms\tremaining: 587ms\n",
      "236:\tlearn: 0.1908621\ttotal: 182ms\tremaining: 586ms\n",
      "237:\tlearn: 0.1901238\ttotal: 182ms\tremaining: 584ms\n",
      "238:\tlearn: 0.1889182\ttotal: 183ms\tremaining: 583ms\n",
      "239:\tlearn: 0.1874860\ttotal: 184ms\tremaining: 581ms\n",
      "240:\tlearn: 0.1863234\ttotal: 184ms\tremaining: 579ms\n",
      "241:\tlearn: 0.1849041\ttotal: 184ms\tremaining: 577ms\n",
      "242:\tlearn: 0.1839579\ttotal: 185ms\tremaining: 576ms\n",
      "243:\tlearn: 0.1829436\ttotal: 185ms\tremaining: 574ms\n",
      "244:\tlearn: 0.1817070\ttotal: 186ms\tremaining: 572ms\n",
      "245:\tlearn: 0.1805988\ttotal: 186ms\tremaining: 571ms\n",
      "246:\tlearn: 0.1793102\ttotal: 187ms\tremaining: 569ms\n"
     ]
    },
    {
     "name": "stdout",
     "output_type": "stream",
     "text": [
      "247:\tlearn: 0.1784239\ttotal: 187ms\tremaining: 568ms\n",
      "248:\tlearn: 0.1770616\ttotal: 188ms\tremaining: 567ms\n",
      "249:\tlearn: 0.1758515\ttotal: 188ms\tremaining: 565ms\n",
      "250:\tlearn: 0.1750300\ttotal: 189ms\tremaining: 563ms\n",
      "251:\tlearn: 0.1739867\ttotal: 189ms\tremaining: 562ms\n",
      "252:\tlearn: 0.1730168\ttotal: 190ms\tremaining: 561ms\n",
      "253:\tlearn: 0.1718580\ttotal: 190ms\tremaining: 559ms\n",
      "254:\tlearn: 0.1708390\ttotal: 191ms\tremaining: 558ms\n",
      "255:\tlearn: 0.1696685\ttotal: 191ms\tremaining: 556ms\n",
      "256:\tlearn: 0.1684789\ttotal: 192ms\tremaining: 555ms\n",
      "257:\tlearn: 0.1675972\ttotal: 192ms\tremaining: 554ms\n",
      "258:\tlearn: 0.1671789\ttotal: 193ms\tremaining: 552ms\n",
      "259:\tlearn: 0.1660093\ttotal: 193ms\tremaining: 551ms\n",
      "260:\tlearn: 0.1649389\ttotal: 194ms\tremaining: 549ms\n",
      "261:\tlearn: 0.1641763\ttotal: 195ms\tremaining: 548ms\n",
      "262:\tlearn: 0.1631679\ttotal: 195ms\tremaining: 547ms\n",
      "263:\tlearn: 0.1624465\ttotal: 196ms\tremaining: 545ms\n",
      "264:\tlearn: 0.1613868\ttotal: 196ms\tremaining: 544ms\n",
      "265:\tlearn: 0.1604723\ttotal: 196ms\tremaining: 542ms\n",
      "266:\tlearn: 0.1593204\ttotal: 197ms\tremaining: 541ms\n",
      "267:\tlearn: 0.1586058\ttotal: 197ms\tremaining: 539ms\n",
      "268:\tlearn: 0.1577325\ttotal: 198ms\tremaining: 538ms\n",
      "269:\tlearn: 0.1569704\ttotal: 198ms\tremaining: 536ms\n",
      "270:\tlearn: 0.1562892\ttotal: 200ms\tremaining: 537ms\n",
      "271:\tlearn: 0.1552682\ttotal: 200ms\tremaining: 536ms\n",
      "272:\tlearn: 0.1544112\ttotal: 201ms\tremaining: 535ms\n",
      "273:\tlearn: 0.1534567\ttotal: 201ms\tremaining: 533ms\n",
      "274:\tlearn: 0.1527445\ttotal: 202ms\tremaining: 532ms\n",
      "275:\tlearn: 0.1519017\ttotal: 203ms\tremaining: 531ms\n",
      "276:\tlearn: 0.1509494\ttotal: 203ms\tremaining: 530ms\n",
      "277:\tlearn: 0.1503874\ttotal: 204ms\tremaining: 529ms\n",
      "278:\tlearn: 0.1491375\ttotal: 204ms\tremaining: 528ms\n",
      "279:\tlearn: 0.1484071\ttotal: 205ms\tremaining: 526ms\n",
      "280:\tlearn: 0.1475673\ttotal: 205ms\tremaining: 526ms\n",
      "281:\tlearn: 0.1463719\ttotal: 206ms\tremaining: 525ms\n",
      "282:\tlearn: 0.1457445\ttotal: 207ms\tremaining: 524ms\n",
      "283:\tlearn: 0.1447230\ttotal: 207ms\tremaining: 522ms\n",
      "284:\tlearn: 0.1441891\ttotal: 208ms\tremaining: 521ms\n",
      "285:\tlearn: 0.1436953\ttotal: 208ms\tremaining: 520ms\n",
      "286:\tlearn: 0.1431943\ttotal: 209ms\tremaining: 519ms\n",
      "287:\tlearn: 0.1423062\ttotal: 210ms\tremaining: 518ms\n",
      "288:\tlearn: 0.1416709\ttotal: 210ms\tremaining: 517ms\n",
      "289:\tlearn: 0.1404903\ttotal: 211ms\tremaining: 516ms\n",
      "290:\tlearn: 0.1397843\ttotal: 211ms\tremaining: 514ms\n",
      "291:\tlearn: 0.1388871\ttotal: 212ms\tremaining: 513ms\n",
      "292:\tlearn: 0.1377875\ttotal: 212ms\tremaining: 512ms\n",
      "293:\tlearn: 0.1370030\ttotal: 213ms\tremaining: 511ms\n",
      "294:\tlearn: 0.1358847\ttotal: 213ms\tremaining: 510ms\n",
      "295:\tlearn: 0.1354443\ttotal: 214ms\tremaining: 509ms\n",
      "296:\tlearn: 0.1346784\ttotal: 215ms\tremaining: 508ms\n",
      "297:\tlearn: 0.1341041\ttotal: 215ms\tremaining: 507ms\n",
      "298:\tlearn: 0.1332643\ttotal: 216ms\tremaining: 506ms\n",
      "299:\tlearn: 0.1324911\ttotal: 216ms\tremaining: 505ms\n",
      "300:\tlearn: 0.1318476\ttotal: 217ms\tremaining: 503ms\n",
      "301:\tlearn: 0.1313923\ttotal: 217ms\tremaining: 502ms\n",
      "302:\tlearn: 0.1305912\ttotal: 217ms\tremaining: 500ms\n",
      "303:\tlearn: 0.1298032\ttotal: 218ms\tremaining: 499ms\n",
      "304:\tlearn: 0.1293887\ttotal: 218ms\tremaining: 498ms\n",
      "305:\tlearn: 0.1286245\ttotal: 219ms\tremaining: 496ms\n",
      "306:\tlearn: 0.1276380\ttotal: 219ms\tremaining: 495ms\n",
      "307:\tlearn: 0.1268855\ttotal: 220ms\tremaining: 494ms\n",
      "308:\tlearn: 0.1261290\ttotal: 220ms\tremaining: 493ms\n",
      "309:\tlearn: 0.1254803\ttotal: 221ms\tremaining: 491ms\n",
      "310:\tlearn: 0.1250890\ttotal: 221ms\tremaining: 490ms\n",
      "311:\tlearn: 0.1241110\ttotal: 222ms\tremaining: 489ms\n",
      "312:\tlearn: 0.1231896\ttotal: 223ms\tremaining: 488ms\n",
      "313:\tlearn: 0.1222056\ttotal: 223ms\tremaining: 487ms\n",
      "314:\tlearn: 0.1217978\ttotal: 224ms\tremaining: 486ms\n",
      "315:\tlearn: 0.1214274\ttotal: 224ms\tremaining: 485ms\n",
      "316:\tlearn: 0.1207039\ttotal: 225ms\tremaining: 484ms\n",
      "317:\tlearn: 0.1201086\ttotal: 225ms\tremaining: 483ms\n",
      "318:\tlearn: 0.1192054\ttotal: 226ms\tremaining: 482ms\n",
      "319:\tlearn: 0.1188485\ttotal: 226ms\tremaining: 481ms\n",
      "320:\tlearn: 0.1179429\ttotal: 227ms\tremaining: 480ms\n",
      "321:\tlearn: 0.1170156\ttotal: 227ms\tremaining: 479ms\n",
      "322:\tlearn: 0.1164331\ttotal: 228ms\tremaining: 478ms\n",
      "323:\tlearn: 0.1158205\ttotal: 228ms\tremaining: 477ms\n",
      "324:\tlearn: 0.1152363\ttotal: 229ms\tremaining: 476ms\n",
      "325:\tlearn: 0.1145967\ttotal: 230ms\tremaining: 475ms\n",
      "326:\tlearn: 0.1137116\ttotal: 230ms\tremaining: 474ms\n",
      "327:\tlearn: 0.1130960\ttotal: 231ms\tremaining: 473ms\n",
      "328:\tlearn: 0.1124699\ttotal: 231ms\tremaining: 472ms\n",
      "329:\tlearn: 0.1116935\ttotal: 232ms\tremaining: 471ms\n",
      "330:\tlearn: 0.1109290\ttotal: 232ms\tremaining: 469ms\n",
      "331:\tlearn: 0.1101306\ttotal: 233ms\tremaining: 468ms\n",
      "332:\tlearn: 0.1095391\ttotal: 233ms\tremaining: 467ms\n",
      "333:\tlearn: 0.1087541\ttotal: 234ms\tremaining: 466ms\n",
      "334:\tlearn: 0.1083300\ttotal: 234ms\tremaining: 465ms\n",
      "335:\tlearn: 0.1079873\ttotal: 235ms\tremaining: 464ms\n",
      "336:\tlearn: 0.1072027\ttotal: 235ms\tremaining: 463ms\n",
      "337:\tlearn: 0.1067922\ttotal: 236ms\tremaining: 462ms\n",
      "338:\tlearn: 0.1060439\ttotal: 236ms\tremaining: 461ms\n",
      "339:\tlearn: 0.1052229\ttotal: 237ms\tremaining: 460ms\n",
      "340:\tlearn: 0.1047094\ttotal: 238ms\tremaining: 459ms\n",
      "341:\tlearn: 0.1045180\ttotal: 238ms\tremaining: 458ms\n",
      "342:\tlearn: 0.1037960\ttotal: 239ms\tremaining: 457ms\n",
      "343:\tlearn: 0.1030538\ttotal: 239ms\tremaining: 456ms\n",
      "344:\tlearn: 0.1025889\ttotal: 240ms\tremaining: 455ms\n",
      "345:\tlearn: 0.1024065\ttotal: 240ms\tremaining: 454ms\n",
      "346:\tlearn: 0.1019821\ttotal: 241ms\tremaining: 453ms\n",
      "347:\tlearn: 0.1013876\ttotal: 242ms\tremaining: 453ms\n",
      "348:\tlearn: 0.1009178\ttotal: 242ms\tremaining: 452ms\n",
      "349:\tlearn: 0.1003667\ttotal: 243ms\tremaining: 451ms\n",
      "350:\tlearn: 0.0998115\ttotal: 243ms\tremaining: 450ms\n",
      "351:\tlearn: 0.0991344\ttotal: 244ms\tremaining: 448ms\n",
      "352:\tlearn: 0.0985738\ttotal: 244ms\tremaining: 447ms\n",
      "353:\tlearn: 0.0979022\ttotal: 245ms\tremaining: 446ms\n",
      "354:\tlearn: 0.0973647\ttotal: 245ms\tremaining: 445ms\n",
      "355:\tlearn: 0.0971891\ttotal: 245ms\tremaining: 444ms\n",
      "356:\tlearn: 0.0968621\ttotal: 246ms\tremaining: 443ms\n",
      "357:\tlearn: 0.0962773\ttotal: 247ms\tremaining: 442ms\n",
      "358:\tlearn: 0.0958376\ttotal: 247ms\tremaining: 441ms\n",
      "359:\tlearn: 0.0956672\ttotal: 247ms\tremaining: 440ms\n",
      "360:\tlearn: 0.0951385\ttotal: 248ms\tremaining: 439ms\n",
      "361:\tlearn: 0.0949708\ttotal: 248ms\tremaining: 438ms\n",
      "362:\tlearn: 0.0944458\ttotal: 249ms\tremaining: 437ms\n",
      "363:\tlearn: 0.0939340\ttotal: 249ms\tremaining: 436ms\n",
      "364:\tlearn: 0.0934522\ttotal: 250ms\tremaining: 435ms\n",
      "365:\tlearn: 0.0929554\ttotal: 251ms\tremaining: 434ms\n",
      "366:\tlearn: 0.0924600\ttotal: 251ms\tremaining: 433ms\n",
      "367:\tlearn: 0.0918503\ttotal: 251ms\tremaining: 432ms\n",
      "368:\tlearn: 0.0917099\ttotal: 252ms\tremaining: 431ms\n",
      "369:\tlearn: 0.0915513\ttotal: 253ms\tremaining: 430ms\n",
      "370:\tlearn: 0.0909552\ttotal: 253ms\tremaining: 429ms\n",
      "371:\tlearn: 0.0904734\ttotal: 254ms\tremaining: 428ms\n",
      "372:\tlearn: 0.0898914\ttotal: 254ms\tremaining: 427ms\n",
      "373:\tlearn: 0.0895234\ttotal: 255ms\tremaining: 426ms\n",
      "374:\tlearn: 0.0890449\ttotal: 255ms\tremaining: 426ms\n",
      "375:\tlearn: 0.0886007\ttotal: 256ms\tremaining: 425ms\n",
      "376:\tlearn: 0.0880616\ttotal: 257ms\tremaining: 425ms\n",
      "377:\tlearn: 0.0875674\ttotal: 258ms\tremaining: 424ms\n",
      "378:\tlearn: 0.0871430\ttotal: 258ms\tremaining: 423ms\n",
      "379:\tlearn: 0.0869927\ttotal: 258ms\tremaining: 422ms\n",
      "380:\tlearn: 0.0867211\ttotal: 259ms\tremaining: 421ms\n",
      "381:\tlearn: 0.0861793\ttotal: 260ms\tremaining: 420ms\n",
      "382:\tlearn: 0.0857837\ttotal: 260ms\tremaining: 419ms\n",
      "383:\tlearn: 0.0853721\ttotal: 261ms\tremaining: 418ms\n",
      "384:\tlearn: 0.0849751\ttotal: 261ms\tremaining: 418ms\n",
      "385:\tlearn: 0.0844371\ttotal: 262ms\tremaining: 417ms\n",
      "386:\tlearn: 0.0843125\ttotal: 262ms\tremaining: 416ms\n",
      "387:\tlearn: 0.0841559\ttotal: 263ms\tremaining: 415ms\n",
      "388:\tlearn: 0.0836294\ttotal: 264ms\tremaining: 414ms\n",
      "389:\tlearn: 0.0830936\ttotal: 264ms\tremaining: 413ms\n",
      "390:\tlearn: 0.0826700\ttotal: 265ms\tremaining: 412ms\n",
      "391:\tlearn: 0.0822400\ttotal: 265ms\tremaining: 411ms\n",
      "392:\tlearn: 0.0817942\ttotal: 266ms\tremaining: 410ms\n",
      "393:\tlearn: 0.0816191\ttotal: 266ms\tremaining: 409ms\n",
      "394:\tlearn: 0.0811073\ttotal: 267ms\tremaining: 409ms\n",
      "395:\tlearn: 0.0806710\ttotal: 267ms\tremaining: 408ms\n",
      "396:\tlearn: 0.0803435\ttotal: 268ms\tremaining: 407ms\n",
      "397:\tlearn: 0.0798434\ttotal: 269ms\tremaining: 406ms\n",
      "398:\tlearn: 0.0795424\ttotal: 269ms\tremaining: 405ms\n",
      "399:\tlearn: 0.0793954\ttotal: 270ms\tremaining: 404ms\n",
      "400:\tlearn: 0.0790425\ttotal: 270ms\tremaining: 404ms\n",
      "401:\tlearn: 0.0787515\ttotal: 271ms\tremaining: 403ms\n",
      "402:\tlearn: 0.0782443\ttotal: 271ms\tremaining: 402ms\n",
      "403:\tlearn: 0.0778791\ttotal: 272ms\tremaining: 401ms\n",
      "404:\tlearn: 0.0774076\ttotal: 272ms\tremaining: 400ms\n",
      "405:\tlearn: 0.0769480\ttotal: 273ms\tremaining: 399ms\n",
      "406:\tlearn: 0.0764665\ttotal: 273ms\tremaining: 398ms\n",
      "407:\tlearn: 0.0761126\ttotal: 274ms\tremaining: 397ms\n",
      "408:\tlearn: 0.0759817\ttotal: 274ms\tremaining: 397ms\n",
      "409:\tlearn: 0.0756336\ttotal: 275ms\tremaining: 396ms\n",
      "410:\tlearn: 0.0751883\ttotal: 275ms\tremaining: 395ms\n",
      "411:\tlearn: 0.0748935\ttotal: 276ms\tremaining: 394ms\n",
      "412:\tlearn: 0.0744404\ttotal: 277ms\tremaining: 393ms\n",
      "413:\tlearn: 0.0743039\ttotal: 277ms\tremaining: 392ms\n",
      "414:\tlearn: 0.0741693\ttotal: 278ms\tremaining: 391ms\n",
      "415:\tlearn: 0.0738311\ttotal: 278ms\tremaining: 391ms\n",
      "416:\tlearn: 0.0734050\ttotal: 279ms\tremaining: 390ms\n",
      "417:\tlearn: 0.0733006\ttotal: 279ms\tremaining: 389ms\n",
      "418:\tlearn: 0.0731769\ttotal: 280ms\tremaining: 388ms\n",
      "419:\tlearn: 0.0727342\ttotal: 280ms\tremaining: 387ms\n",
      "420:\tlearn: 0.0724031\ttotal: 281ms\tremaining: 386ms\n",
      "421:\tlearn: 0.0722552\ttotal: 281ms\tremaining: 385ms\n",
      "422:\tlearn: 0.0718154\ttotal: 282ms\tremaining: 385ms\n",
      "423:\tlearn: 0.0715114\ttotal: 282ms\tremaining: 384ms\n",
      "424:\tlearn: 0.0713678\ttotal: 283ms\tremaining: 383ms\n",
      "425:\tlearn: 0.0709951\ttotal: 284ms\tremaining: 382ms\n",
      "426:\tlearn: 0.0706978\ttotal: 284ms\tremaining: 381ms\n",
      "427:\tlearn: 0.0702759\ttotal: 285ms\tremaining: 380ms\n",
      "428:\tlearn: 0.0701519\ttotal: 285ms\tremaining: 380ms\n",
      "429:\tlearn: 0.0697394\ttotal: 286ms\tremaining: 379ms\n",
      "430:\tlearn: 0.0694725\ttotal: 286ms\tremaining: 378ms\n",
      "431:\tlearn: 0.0692113\ttotal: 287ms\tremaining: 377ms\n",
      "432:\tlearn: 0.0688486\ttotal: 287ms\tremaining: 376ms\n",
      "433:\tlearn: 0.0687368\ttotal: 288ms\tremaining: 375ms\n",
      "434:\tlearn: 0.0683812\ttotal: 288ms\tremaining: 375ms\n",
      "435:\tlearn: 0.0682711\ttotal: 289ms\tremaining: 373ms\n",
      "436:\tlearn: 0.0679254\ttotal: 289ms\tremaining: 373ms\n",
      "437:\tlearn: 0.0675672\ttotal: 290ms\tremaining: 372ms\n",
      "438:\tlearn: 0.0671710\ttotal: 290ms\tremaining: 371ms\n",
      "439:\tlearn: 0.0670551\ttotal: 291ms\tremaining: 370ms\n",
      "440:\tlearn: 0.0666210\ttotal: 291ms\tremaining: 369ms\n"
     ]
    },
    {
     "name": "stdout",
     "output_type": "stream",
     "text": [
      "441:\tlearn: 0.0665076\ttotal: 292ms\tremaining: 369ms\n",
      "442:\tlearn: 0.0664014\ttotal: 293ms\tremaining: 368ms\n",
      "443:\tlearn: 0.0659767\ttotal: 293ms\tremaining: 367ms\n",
      "444:\tlearn: 0.0658720\ttotal: 294ms\tremaining: 366ms\n",
      "445:\tlearn: 0.0652948\ttotal: 294ms\tremaining: 365ms\n",
      "446:\tlearn: 0.0649257\ttotal: 295ms\tremaining: 365ms\n",
      "447:\tlearn: 0.0645937\ttotal: 295ms\tremaining: 364ms\n",
      "448:\tlearn: 0.0642341\ttotal: 296ms\tremaining: 363ms\n",
      "449:\tlearn: 0.0641268\ttotal: 296ms\tremaining: 362ms\n",
      "450:\tlearn: 0.0640210\ttotal: 297ms\tremaining: 361ms\n",
      "451:\tlearn: 0.0636940\ttotal: 298ms\tremaining: 361ms\n",
      "452:\tlearn: 0.0635901\ttotal: 298ms\tremaining: 360ms\n",
      "453:\tlearn: 0.0632714\ttotal: 299ms\tremaining: 359ms\n",
      "454:\tlearn: 0.0629543\ttotal: 299ms\tremaining: 358ms\n",
      "455:\tlearn: 0.0626357\ttotal: 300ms\tremaining: 357ms\n",
      "456:\tlearn: 0.0623276\ttotal: 300ms\tremaining: 356ms\n",
      "457:\tlearn: 0.0622276\ttotal: 301ms\tremaining: 356ms\n",
      "458:\tlearn: 0.0618418\ttotal: 301ms\tremaining: 355ms\n",
      "459:\tlearn: 0.0613130\ttotal: 302ms\tremaining: 354ms\n",
      "460:\tlearn: 0.0610707\ttotal: 303ms\tremaining: 354ms\n",
      "461:\tlearn: 0.0607656\ttotal: 303ms\tremaining: 353ms\n",
      "462:\tlearn: 0.0606873\ttotal: 304ms\tremaining: 352ms\n",
      "463:\tlearn: 0.0603880\ttotal: 304ms\tremaining: 351ms\n",
      "464:\tlearn: 0.0601007\ttotal: 304ms\tremaining: 350ms\n",
      "465:\tlearn: 0.0597367\ttotal: 305ms\tremaining: 349ms\n",
      "466:\tlearn: 0.0595433\ttotal: 306ms\tremaining: 349ms\n",
      "467:\tlearn: 0.0592575\ttotal: 306ms\tremaining: 348ms\n",
      "468:\tlearn: 0.0591714\ttotal: 306ms\tremaining: 347ms\n",
      "469:\tlearn: 0.0589965\ttotal: 307ms\tremaining: 346ms\n",
      "470:\tlearn: 0.0589215\ttotal: 307ms\tremaining: 345ms\n",
      "471:\tlearn: 0.0585899\ttotal: 308ms\tremaining: 344ms\n",
      "472:\tlearn: 0.0585131\ttotal: 308ms\tremaining: 344ms\n",
      "473:\tlearn: 0.0581781\ttotal: 309ms\tremaining: 343ms\n",
      "474:\tlearn: 0.0581026\ttotal: 309ms\tremaining: 342ms\n",
      "475:\tlearn: 0.0578242\ttotal: 310ms\tremaining: 341ms\n",
      "476:\tlearn: 0.0577497\ttotal: 311ms\tremaining: 340ms\n",
      "477:\tlearn: 0.0574764\ttotal: 311ms\tremaining: 340ms\n",
      "478:\tlearn: 0.0570254\ttotal: 312ms\tremaining: 339ms\n",
      "479:\tlearn: 0.0568072\ttotal: 312ms\tremaining: 338ms\n",
      "480:\tlearn: 0.0565423\ttotal: 313ms\tremaining: 337ms\n",
      "481:\tlearn: 0.0563408\ttotal: 313ms\tremaining: 337ms\n",
      "482:\tlearn: 0.0562682\ttotal: 314ms\tremaining: 336ms\n",
      "483:\tlearn: 0.0560085\ttotal: 315ms\tremaining: 335ms\n",
      "484:\tlearn: 0.0559393\ttotal: 315ms\tremaining: 335ms\n",
      "485:\tlearn: 0.0556277\ttotal: 316ms\tremaining: 334ms\n",
      "486:\tlearn: 0.0555572\ttotal: 316ms\tremaining: 333ms\n",
      "487:\tlearn: 0.0553616\ttotal: 317ms\tremaining: 332ms\n",
      "488:\tlearn: 0.0550021\ttotal: 317ms\tremaining: 331ms\n",
      "489:\tlearn: 0.0548433\ttotal: 318ms\tremaining: 330ms\n",
      "490:\tlearn: 0.0547744\ttotal: 318ms\tremaining: 330ms\n",
      "491:\tlearn: 0.0544749\ttotal: 318ms\tremaining: 329ms\n",
      "492:\tlearn: 0.0544072\ttotal: 319ms\tremaining: 328ms\n",
      "493:\tlearn: 0.0541561\ttotal: 319ms\tremaining: 327ms\n",
      "494:\tlearn: 0.0540893\ttotal: 320ms\tremaining: 326ms\n",
      "495:\tlearn: 0.0537441\ttotal: 320ms\tremaining: 326ms\n",
      "496:\tlearn: 0.0535897\ttotal: 321ms\tremaining: 325ms\n",
      "497:\tlearn: 0.0535241\ttotal: 321ms\tremaining: 324ms\n",
      "498:\tlearn: 0.0531868\ttotal: 322ms\tremaining: 323ms\n",
      "499:\tlearn: 0.0527714\ttotal: 323ms\tremaining: 323ms\n",
      "500:\tlearn: 0.0525651\ttotal: 323ms\tremaining: 322ms\n",
      "501:\tlearn: 0.0523227\ttotal: 324ms\tremaining: 321ms\n",
      "502:\tlearn: 0.0520930\ttotal: 324ms\tremaining: 320ms\n",
      "503:\tlearn: 0.0520291\ttotal: 325ms\tremaining: 320ms\n",
      "504:\tlearn: 0.0517506\ttotal: 325ms\tremaining: 319ms\n",
      "505:\tlearn: 0.0516879\ttotal: 326ms\tremaining: 318ms\n",
      "506:\tlearn: 0.0514638\ttotal: 326ms\tremaining: 317ms\n",
      "507:\tlearn: 0.0514018\ttotal: 327ms\tremaining: 317ms\n",
      "508:\tlearn: 0.0513405\ttotal: 327ms\tremaining: 316ms\n",
      "509:\tlearn: 0.0511201\ttotal: 328ms\tremaining: 315ms\n",
      "510:\tlearn: 0.0510595\ttotal: 328ms\tremaining: 314ms\n",
      "511:\tlearn: 0.0509996\ttotal: 329ms\tremaining: 314ms\n",
      "512:\tlearn: 0.0507595\ttotal: 330ms\tremaining: 313ms\n",
      "513:\tlearn: 0.0505237\ttotal: 330ms\tremaining: 312ms\n",
      "514:\tlearn: 0.0503435\ttotal: 330ms\tremaining: 311ms\n",
      "515:\tlearn: 0.0501129\ttotal: 331ms\tremaining: 310ms\n",
      "516:\tlearn: 0.0499218\ttotal: 331ms\tremaining: 310ms\n",
      "517:\tlearn: 0.0496958\ttotal: 332ms\tremaining: 309ms\n",
      "518:\tlearn: 0.0493872\ttotal: 332ms\tremaining: 308ms\n",
      "519:\tlearn: 0.0490849\ttotal: 333ms\tremaining: 307ms\n",
      "520:\tlearn: 0.0490210\ttotal: 333ms\tremaining: 306ms\n",
      "521:\tlearn: 0.0488002\ttotal: 334ms\tremaining: 306ms\n",
      "522:\tlearn: 0.0486243\ttotal: 334ms\tremaining: 305ms\n",
      "523:\tlearn: 0.0485671\ttotal: 335ms\tremaining: 304ms\n",
      "524:\tlearn: 0.0483505\ttotal: 336ms\tremaining: 304ms\n",
      "525:\tlearn: 0.0480962\ttotal: 336ms\tremaining: 303ms\n",
      "526:\tlearn: 0.0478333\ttotal: 336ms\tremaining: 302ms\n",
      "527:\tlearn: 0.0477774\ttotal: 337ms\tremaining: 301ms\n",
      "528:\tlearn: 0.0475275\ttotal: 337ms\tremaining: 300ms\n",
      "529:\tlearn: 0.0472464\ttotal: 338ms\tremaining: 300ms\n",
      "530:\tlearn: 0.0471921\ttotal: 339ms\tremaining: 299ms\n",
      "531:\tlearn: 0.0471383\ttotal: 339ms\tremaining: 298ms\n",
      "532:\tlearn: 0.0469078\ttotal: 340ms\tremaining: 298ms\n",
      "533:\tlearn: 0.0466618\ttotal: 340ms\tremaining: 297ms\n",
      "534:\tlearn: 0.0464357\ttotal: 341ms\tremaining: 296ms\n",
      "535:\tlearn: 0.0461795\ttotal: 341ms\tremaining: 296ms\n",
      "536:\tlearn: 0.0459836\ttotal: 342ms\tremaining: 295ms\n",
      "537:\tlearn: 0.0459317\ttotal: 343ms\tremaining: 294ms\n",
      "538:\tlearn: 0.0457390\ttotal: 343ms\tremaining: 294ms\n",
      "539:\tlearn: 0.0456878\ttotal: 344ms\tremaining: 293ms\n",
      "540:\tlearn: 0.0456372\ttotal: 344ms\tremaining: 292ms\n",
      "541:\tlearn: 0.0454477\ttotal: 345ms\tremaining: 291ms\n",
      "542:\tlearn: 0.0453977\ttotal: 346ms\tremaining: 291ms\n",
      "543:\tlearn: 0.0451631\ttotal: 346ms\tremaining: 290ms\n",
      "544:\tlearn: 0.0451140\ttotal: 347ms\tremaining: 289ms\n",
      "545:\tlearn: 0.0448992\ttotal: 347ms\tremaining: 289ms\n",
      "546:\tlearn: 0.0447146\ttotal: 348ms\tremaining: 288ms\n",
      "547:\tlearn: 0.0446663\ttotal: 348ms\tremaining: 287ms\n",
      "548:\tlearn: 0.0442837\ttotal: 349ms\tremaining: 286ms\n",
      "549:\tlearn: 0.0440640\ttotal: 349ms\tremaining: 286ms\n",
      "550:\tlearn: 0.0440165\ttotal: 350ms\tremaining: 285ms\n",
      "551:\tlearn: 0.0439694\ttotal: 350ms\tremaining: 284ms\n",
      "552:\tlearn: 0.0437632\ttotal: 350ms\tremaining: 283ms\n",
      "553:\tlearn: 0.0435839\ttotal: 351ms\tremaining: 283ms\n",
      "554:\tlearn: 0.0435376\ttotal: 352ms\tremaining: 283ms\n",
      "555:\tlearn: 0.0432994\ttotal: 353ms\tremaining: 282ms\n",
      "556:\tlearn: 0.0432438\ttotal: 353ms\tremaining: 281ms\n",
      "557:\tlearn: 0.0429466\ttotal: 354ms\tremaining: 280ms\n",
      "558:\tlearn: 0.0427206\ttotal: 355ms\tremaining: 280ms\n",
      "559:\tlearn: 0.0426758\ttotal: 355ms\tremaining: 279ms\n",
      "560:\tlearn: 0.0426256\ttotal: 356ms\tremaining: 278ms\n",
      "561:\tlearn: 0.0423372\ttotal: 356ms\tremaining: 278ms\n",
      "562:\tlearn: 0.0421650\ttotal: 357ms\tremaining: 277ms\n",
      "563:\tlearn: 0.0421214\ttotal: 358ms\tremaining: 276ms\n",
      "564:\tlearn: 0.0419028\ttotal: 358ms\tremaining: 276ms\n",
      "565:\tlearn: 0.0418596\ttotal: 359ms\tremaining: 275ms\n",
      "566:\tlearn: 0.0418170\ttotal: 359ms\tremaining: 274ms\n",
      "567:\tlearn: 0.0416419\ttotal: 360ms\tremaining: 274ms\n",
      "568:\tlearn: 0.0414282\ttotal: 360ms\tremaining: 273ms\n",
      "569:\tlearn: 0.0413862\ttotal: 361ms\tremaining: 272ms\n",
      "570:\tlearn: 0.0413391\ttotal: 362ms\tremaining: 272ms\n",
      "571:\tlearn: 0.0411340\ttotal: 362ms\tremaining: 271ms\n",
      "572:\tlearn: 0.0410928\ttotal: 363ms\tremaining: 270ms\n",
      "573:\tlearn: 0.0410474\ttotal: 363ms\tremaining: 269ms\n",
      "574:\tlearn: 0.0409695\ttotal: 363ms\tremaining: 269ms\n",
      "575:\tlearn: 0.0407680\ttotal: 364ms\tremaining: 268ms\n",
      "576:\tlearn: 0.0407279\ttotal: 364ms\tremaining: 267ms\n",
      "577:\tlearn: 0.0405516\ttotal: 365ms\tremaining: 266ms\n",
      "578:\tlearn: 0.0405120\ttotal: 365ms\tremaining: 266ms\n",
      "579:\tlearn: 0.0403488\ttotal: 366ms\tremaining: 265ms\n",
      "580:\tlearn: 0.0403052\ttotal: 366ms\tremaining: 264ms\n",
      "581:\tlearn: 0.0399664\ttotal: 367ms\tremaining: 264ms\n",
      "582:\tlearn: 0.0397712\ttotal: 367ms\tremaining: 263ms\n",
      "583:\tlearn: 0.0397282\ttotal: 368ms\tremaining: 262ms\n",
      "584:\tlearn: 0.0396767\ttotal: 368ms\tremaining: 261ms\n",
      "585:\tlearn: 0.0396346\ttotal: 369ms\tremaining: 261ms\n",
      "586:\tlearn: 0.0394428\ttotal: 369ms\tremaining: 260ms\n",
      "587:\tlearn: 0.0393924\ttotal: 370ms\tremaining: 259ms\n",
      "588:\tlearn: 0.0392841\ttotal: 370ms\tremaining: 258ms\n",
      "589:\tlearn: 0.0391022\ttotal: 371ms\tremaining: 258ms\n",
      "590:\tlearn: 0.0389292\ttotal: 371ms\tremaining: 257ms\n"
     ]
    },
    {
     "name": "stdout",
     "output_type": "stream",
     "text": [
      "591:\tlearn: 0.0387476\ttotal: 372ms\tremaining: 256ms\n",
      "592:\tlearn: 0.0384400\ttotal: 372ms\tremaining: 256ms\n",
      "593:\tlearn: 0.0382424\ttotal: 373ms\tremaining: 255ms\n",
      "594:\tlearn: 0.0381939\ttotal: 374ms\tremaining: 254ms\n",
      "595:\tlearn: 0.0381460\ttotal: 374ms\tremaining: 254ms\n",
      "596:\tlearn: 0.0381060\ttotal: 375ms\tremaining: 253ms\n",
      "597:\tlearn: 0.0378810\ttotal: 375ms\tremaining: 252ms\n",
      "598:\tlearn: 0.0377073\ttotal: 376ms\tremaining: 252ms\n",
      "599:\tlearn: 0.0375436\ttotal: 376ms\tremaining: 251ms\n",
      "600:\tlearn: 0.0373666\ttotal: 377ms\tremaining: 250ms\n",
      "601:\tlearn: 0.0371981\ttotal: 377ms\tremaining: 250ms\n",
      "602:\tlearn: 0.0370240\ttotal: 378ms\tremaining: 249ms\n",
      "603:\tlearn: 0.0368094\ttotal: 379ms\tremaining: 248ms\n",
      "604:\tlearn: 0.0366436\ttotal: 379ms\tremaining: 248ms\n",
      "605:\tlearn: 0.0364492\ttotal: 380ms\tremaining: 247ms\n",
      "606:\tlearn: 0.0362655\ttotal: 380ms\tremaining: 246ms\n",
      "607:\tlearn: 0.0362258\ttotal: 381ms\tremaining: 246ms\n",
      "608:\tlearn: 0.0360723\ttotal: 381ms\tremaining: 245ms\n",
      "609:\tlearn: 0.0359125\ttotal: 382ms\tremaining: 244ms\n",
      "610:\tlearn: 0.0357084\ttotal: 382ms\tremaining: 243ms\n",
      "611:\tlearn: 0.0355449\ttotal: 383ms\tremaining: 243ms\n",
      "612:\tlearn: 0.0354488\ttotal: 383ms\tremaining: 242ms\n",
      "613:\tlearn: 0.0352740\ttotal: 384ms\tremaining: 241ms\n",
      "614:\tlearn: 0.0352358\ttotal: 384ms\tremaining: 241ms\n",
      "615:\tlearn: 0.0351979\ttotal: 385ms\tremaining: 240ms\n",
      "616:\tlearn: 0.0350010\ttotal: 386ms\tremaining: 239ms\n",
      "617:\tlearn: 0.0348499\ttotal: 386ms\tremaining: 239ms\n",
      "618:\tlearn: 0.0347044\ttotal: 387ms\tremaining: 238ms\n",
      "619:\tlearn: 0.0345136\ttotal: 387ms\tremaining: 237ms\n",
      "620:\tlearn: 0.0342848\ttotal: 388ms\tremaining: 237ms\n",
      "621:\tlearn: 0.0340605\ttotal: 388ms\tremaining: 236ms\n",
      "622:\tlearn: 0.0338959\ttotal: 389ms\tremaining: 235ms\n",
      "623:\tlearn: 0.0338598\ttotal: 389ms\tremaining: 235ms\n",
      "624:\tlearn: 0.0336762\ttotal: 390ms\tremaining: 234ms\n",
      "625:\tlearn: 0.0334585\ttotal: 391ms\tremaining: 233ms\n",
      "626:\tlearn: 0.0332452\ttotal: 391ms\tremaining: 233ms\n",
      "627:\tlearn: 0.0331254\ttotal: 391ms\tremaining: 232ms\n",
      "628:\tlearn: 0.0329073\ttotal: 392ms\tremaining: 231ms\n",
      "629:\tlearn: 0.0327899\ttotal: 392ms\tremaining: 230ms\n",
      "630:\tlearn: 0.0325775\ttotal: 393ms\tremaining: 230ms\n",
      "631:\tlearn: 0.0323716\ttotal: 394ms\tremaining: 229ms\n",
      "632:\tlearn: 0.0321846\ttotal: 394ms\tremaining: 229ms\n",
      "633:\tlearn: 0.0320831\ttotal: 395ms\tremaining: 228ms\n",
      "634:\tlearn: 0.0319832\ttotal: 395ms\tremaining: 227ms\n",
      "635:\tlearn: 0.0317792\ttotal: 396ms\tremaining: 227ms\n",
      "636:\tlearn: 0.0316042\ttotal: 396ms\tremaining: 226ms\n",
      "637:\tlearn: 0.0314341\ttotal: 397ms\tremaining: 225ms\n",
      "638:\tlearn: 0.0312677\ttotal: 397ms\tremaining: 225ms\n",
      "639:\tlearn: 0.0311462\ttotal: 398ms\tremaining: 224ms\n",
      "640:\tlearn: 0.0310149\ttotal: 399ms\tremaining: 223ms\n",
      "641:\tlearn: 0.0308968\ttotal: 399ms\tremaining: 223ms\n",
      "642:\tlearn: 0.0308488\ttotal: 400ms\tremaining: 222ms\n",
      "643:\tlearn: 0.0306588\ttotal: 400ms\tremaining: 221ms\n",
      "644:\tlearn: 0.0305325\ttotal: 401ms\tremaining: 221ms\n",
      "645:\tlearn: 0.0304198\ttotal: 401ms\tremaining: 220ms\n",
      "646:\tlearn: 0.0303734\ttotal: 402ms\tremaining: 219ms\n",
      "647:\tlearn: 0.0302500\ttotal: 402ms\tremaining: 219ms\n",
      "648:\tlearn: 0.0301557\ttotal: 403ms\tremaining: 218ms\n",
      "649:\tlearn: 0.0301102\ttotal: 403ms\tremaining: 217ms\n",
      "650:\tlearn: 0.0299891\ttotal: 404ms\tremaining: 216ms\n",
      "651:\tlearn: 0.0299442\ttotal: 404ms\tremaining: 216ms\n",
      "652:\tlearn: 0.0298999\ttotal: 405ms\tremaining: 215ms\n",
      "653:\tlearn: 0.0297810\ttotal: 405ms\tremaining: 214ms\n",
      "654:\tlearn: 0.0296901\ttotal: 406ms\tremaining: 214ms\n",
      "655:\tlearn: 0.0295654\ttotal: 406ms\tremaining: 213ms\n",
      "656:\tlearn: 0.0295221\ttotal: 407ms\tremaining: 212ms\n",
      "657:\tlearn: 0.0293047\ttotal: 407ms\tremaining: 212ms\n",
      "658:\tlearn: 0.0291837\ttotal: 408ms\tremaining: 211ms\n",
      "659:\tlearn: 0.0290454\ttotal: 408ms\tremaining: 210ms\n",
      "660:\tlearn: 0.0288350\ttotal: 409ms\tremaining: 210ms\n",
      "661:\tlearn: 0.0287188\ttotal: 410ms\tremaining: 209ms\n",
      "662:\tlearn: 0.0286769\ttotal: 410ms\tremaining: 208ms\n",
      "663:\tlearn: 0.0285415\ttotal: 411ms\tremaining: 208ms\n",
      "664:\tlearn: 0.0283373\ttotal: 411ms\tremaining: 207ms\n",
      "665:\tlearn: 0.0282253\ttotal: 412ms\tremaining: 206ms\n",
      "666:\tlearn: 0.0281843\ttotal: 412ms\tremaining: 206ms\n",
      "667:\tlearn: 0.0280865\ttotal: 413ms\tremaining: 205ms\n",
      "668:\tlearn: 0.0279760\ttotal: 413ms\tremaining: 205ms\n",
      "669:\tlearn: 0.0278445\ttotal: 414ms\tremaining: 204ms\n",
      "670:\tlearn: 0.0278047\ttotal: 415ms\tremaining: 203ms\n",
      "671:\tlearn: 0.0276634\ttotal: 415ms\tremaining: 203ms\n",
      "672:\tlearn: 0.0275698\ttotal: 416ms\tremaining: 202ms\n",
      "673:\tlearn: 0.0274322\ttotal: 416ms\tremaining: 201ms\n",
      "674:\tlearn: 0.0273053\ttotal: 417ms\tremaining: 201ms\n",
      "675:\tlearn: 0.0271109\ttotal: 417ms\tremaining: 200ms\n",
      "676:\tlearn: 0.0269707\ttotal: 418ms\tremaining: 199ms\n",
      "677:\tlearn: 0.0268810\ttotal: 418ms\tremaining: 199ms\n",
      "678:\tlearn: 0.0267780\ttotal: 419ms\tremaining: 198ms\n",
      "679:\tlearn: 0.0267208\ttotal: 419ms\tremaining: 197ms\n",
      "680:\tlearn: 0.0266646\ttotal: 420ms\tremaining: 197ms\n",
      "681:\tlearn: 0.0266377\ttotal: 420ms\tremaining: 196ms\n",
      "682:\tlearn: 0.0265119\ttotal: 421ms\tremaining: 195ms\n",
      "683:\tlearn: 0.0264854\ttotal: 421ms\tremaining: 195ms\n",
      "684:\tlearn: 0.0263621\ttotal: 422ms\tremaining: 194ms\n",
      "685:\tlearn: 0.0263360\ttotal: 422ms\tremaining: 193ms\n",
      "686:\tlearn: 0.0262313\ttotal: 423ms\tremaining: 193ms\n",
      "687:\tlearn: 0.0260490\ttotal: 423ms\tremaining: 192ms\n",
      "688:\tlearn: 0.0259398\ttotal: 424ms\tremaining: 191ms\n",
      "689:\tlearn: 0.0259144\ttotal: 424ms\tremaining: 191ms\n",
      "690:\tlearn: 0.0258485\ttotal: 425ms\tremaining: 190ms\n",
      "691:\tlearn: 0.0257642\ttotal: 425ms\tremaining: 189ms\n",
      "692:\tlearn: 0.0257392\ttotal: 426ms\tremaining: 189ms\n",
      "693:\tlearn: 0.0257145\ttotal: 426ms\tremaining: 188ms\n",
      "694:\tlearn: 0.0256497\ttotal: 427ms\tremaining: 187ms\n",
      "695:\tlearn: 0.0255664\ttotal: 428ms\tremaining: 187ms\n",
      "696:\tlearn: 0.0255420\ttotal: 428ms\tremaining: 186ms\n",
      "697:\tlearn: 0.0255179\ttotal: 428ms\tremaining: 185ms\n",
      "698:\tlearn: 0.0254369\ttotal: 429ms\tremaining: 185ms\n",
      "699:\tlearn: 0.0254132\ttotal: 430ms\tremaining: 184ms\n",
      "700:\tlearn: 0.0253134\ttotal: 430ms\tremaining: 183ms\n",
      "701:\tlearn: 0.0252501\ttotal: 431ms\tremaining: 183ms\n",
      "702:\tlearn: 0.0251783\ttotal: 431ms\tremaining: 182ms\n",
      "703:\tlearn: 0.0251275\ttotal: 432ms\tremaining: 181ms\n",
      "704:\tlearn: 0.0251044\ttotal: 432ms\tremaining: 181ms\n",
      "705:\tlearn: 0.0250254\ttotal: 433ms\tremaining: 180ms\n",
      "706:\tlearn: 0.0250025\ttotal: 433ms\tremaining: 180ms\n",
      "707:\tlearn: 0.0249800\ttotal: 434ms\tremaining: 179ms\n",
      "708:\tlearn: 0.0249031\ttotal: 434ms\tremaining: 178ms\n",
      "709:\tlearn: 0.0247308\ttotal: 434ms\tremaining: 177ms\n",
      "710:\tlearn: 0.0245631\ttotal: 435ms\tremaining: 177ms\n",
      "711:\tlearn: 0.0244497\ttotal: 436ms\tremaining: 176ms\n",
      "712:\tlearn: 0.0244244\ttotal: 436ms\tremaining: 176ms\n",
      "713:\tlearn: 0.0243094\ttotal: 437ms\tremaining: 175ms\n",
      "714:\tlearn: 0.0241978\ttotal: 437ms\tremaining: 174ms\n",
      "715:\tlearn: 0.0241763\ttotal: 437ms\tremaining: 174ms\n",
      "716:\tlearn: 0.0240513\ttotal: 438ms\tremaining: 173ms\n",
      "717:\tlearn: 0.0239419\ttotal: 439ms\tremaining: 172ms\n",
      "718:\tlearn: 0.0238680\ttotal: 439ms\tremaining: 172ms\n",
      "719:\tlearn: 0.0238469\ttotal: 440ms\tremaining: 171ms\n",
      "720:\tlearn: 0.0238261\ttotal: 440ms\tremaining: 170ms\n",
      "721:\tlearn: 0.0238055\ttotal: 441ms\tremaining: 170ms\n",
      "722:\tlearn: 0.0237461\ttotal: 441ms\tremaining: 169ms\n",
      "723:\tlearn: 0.0236740\ttotal: 442ms\tremaining: 168ms\n",
      "724:\tlearn: 0.0236505\ttotal: 442ms\tremaining: 168ms\n",
      "725:\tlearn: 0.0236305\ttotal: 443ms\tremaining: 167ms\n",
      "726:\tlearn: 0.0235249\ttotal: 443ms\tremaining: 166ms\n",
      "727:\tlearn: 0.0235019\ttotal: 444ms\tremaining: 166ms\n",
      "728:\tlearn: 0.0234437\ttotal: 444ms\tremaining: 165ms\n",
      "729:\tlearn: 0.0233886\ttotal: 445ms\tremaining: 164ms\n",
      "730:\tlearn: 0.0233690\ttotal: 445ms\tremaining: 164ms\n",
      "731:\tlearn: 0.0233108\ttotal: 446ms\tremaining: 163ms\n",
      "732:\tlearn: 0.0232914\ttotal: 446ms\tremaining: 162ms\n",
      "733:\tlearn: 0.0232340\ttotal: 447ms\tremaining: 162ms\n",
      "734:\tlearn: 0.0231341\ttotal: 447ms\tremaining: 161ms\n",
      "735:\tlearn: 0.0230288\ttotal: 448ms\tremaining: 161ms\n",
      "736:\tlearn: 0.0230066\ttotal: 448ms\tremaining: 160ms\n",
      "737:\tlearn: 0.0229847\ttotal: 448ms\tremaining: 159ms\n",
      "738:\tlearn: 0.0229284\ttotal: 449ms\tremaining: 159ms\n",
      "739:\tlearn: 0.0228606\ttotal: 449ms\tremaining: 158ms\n",
      "740:\tlearn: 0.0228390\ttotal: 451ms\tremaining: 157ms\n",
      "741:\tlearn: 0.0228205\ttotal: 451ms\tremaining: 157ms\n",
      "742:\tlearn: 0.0227508\ttotal: 452ms\tremaining: 156ms\n",
      "743:\tlearn: 0.0226347\ttotal: 452ms\tremaining: 156ms\n",
      "744:\tlearn: 0.0225787\ttotal: 453ms\tremaining: 155ms\n",
      "745:\tlearn: 0.0224770\ttotal: 453ms\tremaining: 154ms\n",
      "746:\tlearn: 0.0224560\ttotal: 454ms\tremaining: 154ms\n",
      "747:\tlearn: 0.0224354\ttotal: 454ms\tremaining: 153ms\n",
      "748:\tlearn: 0.0224150\ttotal: 455ms\tremaining: 152ms\n",
      "749:\tlearn: 0.0223635\ttotal: 455ms\tremaining: 152ms\n",
      "750:\tlearn: 0.0223434\ttotal: 456ms\tremaining: 151ms\n",
      "751:\tlearn: 0.0223235\ttotal: 456ms\tremaining: 151ms\n",
      "752:\tlearn: 0.0223039\ttotal: 457ms\tremaining: 150ms\n",
      "753:\tlearn: 0.0222724\ttotal: 457ms\tremaining: 149ms\n",
      "754:\tlearn: 0.0222531\ttotal: 458ms\tremaining: 149ms\n",
      "755:\tlearn: 0.0222341\ttotal: 459ms\tremaining: 148ms\n",
      "756:\tlearn: 0.0222030\ttotal: 459ms\tremaining: 147ms\n",
      "757:\tlearn: 0.0221842\ttotal: 460ms\tremaining: 147ms\n",
      "758:\tlearn: 0.0220729\ttotal: 460ms\tremaining: 146ms\n",
      "759:\tlearn: 0.0220177\ttotal: 461ms\tremaining: 146ms\n",
      "760:\tlearn: 0.0219001\ttotal: 462ms\tremaining: 145ms\n",
      "761:\tlearn: 0.0218033\ttotal: 462ms\tremaining: 144ms\n",
      "762:\tlearn: 0.0216885\ttotal: 463ms\tremaining: 144ms\n",
      "763:\tlearn: 0.0215763\ttotal: 463ms\tremaining: 143ms\n",
      "764:\tlearn: 0.0214823\ttotal: 464ms\tremaining: 142ms\n",
      "765:\tlearn: 0.0213999\ttotal: 464ms\tremaining: 142ms\n",
      "766:\tlearn: 0.0212865\ttotal: 465ms\tremaining: 141ms\n",
      "767:\tlearn: 0.0212052\ttotal: 465ms\tremaining: 141ms\n",
      "768:\tlearn: 0.0210778\ttotal: 466ms\tremaining: 140ms\n",
      "769:\tlearn: 0.0209988\ttotal: 466ms\tremaining: 139ms\n",
      "770:\tlearn: 0.0208945\ttotal: 467ms\tremaining: 139ms\n",
      "771:\tlearn: 0.0207858\ttotal: 468ms\tremaining: 138ms\n",
      "772:\tlearn: 0.0207094\ttotal: 468ms\tremaining: 137ms\n",
      "773:\tlearn: 0.0205889\ttotal: 469ms\tremaining: 137ms\n",
      "774:\tlearn: 0.0204678\ttotal: 469ms\tremaining: 136ms\n",
      "775:\tlearn: 0.0203940\ttotal: 470ms\tremaining: 136ms\n",
      "776:\tlearn: 0.0202939\ttotal: 470ms\tremaining: 135ms\n",
      "777:\tlearn: 0.0201908\ttotal: 471ms\tremaining: 134ms\n",
      "778:\tlearn: 0.0201195\ttotal: 472ms\tremaining: 134ms\n",
      "779:\tlearn: 0.0200171\ttotal: 472ms\tremaining: 133ms\n",
      "780:\tlearn: 0.0199203\ttotal: 473ms\tremaining: 133ms\n",
      "781:\tlearn: 0.0198195\ttotal: 473ms\tremaining: 132ms\n",
      "782:\tlearn: 0.0197509\ttotal: 474ms\tremaining: 131ms\n",
      "783:\tlearn: 0.0196514\ttotal: 474ms\tremaining: 131ms\n",
      "784:\tlearn: 0.0195469\ttotal: 475ms\tremaining: 130ms\n",
      "785:\tlearn: 0.0194895\ttotal: 475ms\tremaining: 129ms\n",
      "786:\tlearn: 0.0193966\ttotal: 476ms\tremaining: 129ms\n"
     ]
    },
    {
     "name": "stdout",
     "output_type": "stream",
     "text": [
      "787:\tlearn: 0.0193829\ttotal: 477ms\tremaining: 128ms\n",
      "788:\tlearn: 0.0193272\ttotal: 477ms\tremaining: 128ms\n",
      "789:\tlearn: 0.0193137\ttotal: 478ms\tremaining: 127ms\n",
      "790:\tlearn: 0.0192482\ttotal: 478ms\tremaining: 126ms\n",
      "791:\tlearn: 0.0191447\ttotal: 479ms\tremaining: 126ms\n",
      "792:\tlearn: 0.0190865\ttotal: 479ms\tremaining: 125ms\n",
      "793:\tlearn: 0.0189906\ttotal: 479ms\tremaining: 124ms\n",
      "794:\tlearn: 0.0189001\ttotal: 480ms\tremaining: 124ms\n",
      "795:\tlearn: 0.0188000\ttotal: 480ms\tremaining: 123ms\n",
      "796:\tlearn: 0.0187859\ttotal: 481ms\tremaining: 122ms\n",
      "797:\tlearn: 0.0186932\ttotal: 481ms\tremaining: 122ms\n",
      "798:\tlearn: 0.0186323\ttotal: 482ms\tremaining: 121ms\n",
      "799:\tlearn: 0.0185624\ttotal: 482ms\tremaining: 121ms\n",
      "800:\tlearn: 0.0184964\ttotal: 483ms\tremaining: 120ms\n",
      "801:\tlearn: 0.0184065\ttotal: 483ms\tremaining: 119ms\n",
      "802:\tlearn: 0.0183459\ttotal: 484ms\tremaining: 119ms\n",
      "803:\tlearn: 0.0182854\ttotal: 484ms\tremaining: 118ms\n",
      "804:\tlearn: 0.0182277\ttotal: 485ms\tremaining: 117ms\n",
      "805:\tlearn: 0.0181643\ttotal: 485ms\tremaining: 117ms\n",
      "806:\tlearn: 0.0181385\ttotal: 486ms\tremaining: 116ms\n",
      "807:\tlearn: 0.0181132\ttotal: 486ms\tremaining: 116ms\n",
      "808:\tlearn: 0.0180884\ttotal: 487ms\tremaining: 115ms\n",
      "809:\tlearn: 0.0180174\ttotal: 487ms\tremaining: 114ms\n",
      "810:\tlearn: 0.0179594\ttotal: 488ms\tremaining: 114ms\n",
      "811:\tlearn: 0.0178585\ttotal: 488ms\tremaining: 113ms\n",
      "812:\tlearn: 0.0177486\ttotal: 489ms\tremaining: 112ms\n",
      "813:\tlearn: 0.0176571\ttotal: 490ms\tremaining: 112ms\n",
      "814:\tlearn: 0.0175596\ttotal: 490ms\tremaining: 111ms\n",
      "815:\tlearn: 0.0174524\ttotal: 491ms\tremaining: 111ms\n",
      "816:\tlearn: 0.0173470\ttotal: 491ms\tremaining: 110ms\n",
      "817:\tlearn: 0.0172591\ttotal: 492ms\tremaining: 109ms\n",
      "818:\tlearn: 0.0171993\ttotal: 492ms\tremaining: 109ms\n",
      "819:\tlearn: 0.0171059\ttotal: 493ms\tremaining: 108ms\n",
      "820:\tlearn: 0.0170153\ttotal: 493ms\tremaining: 108ms\n",
      "821:\tlearn: 0.0169135\ttotal: 494ms\tremaining: 107ms\n",
      "822:\tlearn: 0.0168417\ttotal: 494ms\tremaining: 106ms\n",
      "823:\tlearn: 0.0167577\ttotal: 496ms\tremaining: 106ms\n",
      "824:\tlearn: 0.0167028\ttotal: 496ms\tremaining: 105ms\n",
      "825:\tlearn: 0.0166153\ttotal: 496ms\tremaining: 105ms\n",
      "826:\tlearn: 0.0165535\ttotal: 497ms\tremaining: 104ms\n",
      "827:\tlearn: 0.0164752\ttotal: 497ms\tremaining: 103ms\n",
      "828:\tlearn: 0.0163779\ttotal: 498ms\tremaining: 103ms\n",
      "829:\tlearn: 0.0163175\ttotal: 499ms\tremaining: 102ms\n",
      "830:\tlearn: 0.0162370\ttotal: 499ms\tremaining: 102ms\n",
      "831:\tlearn: 0.0161585\ttotal: 500ms\tremaining: 101ms\n",
      "832:\tlearn: 0.0160953\ttotal: 500ms\tremaining: 100ms\n",
      "833:\tlearn: 0.0160362\ttotal: 501ms\tremaining: 99.7ms\n",
      "834:\tlearn: 0.0159358\ttotal: 501ms\tremaining: 99ms\n",
      "835:\tlearn: 0.0158838\ttotal: 502ms\tremaining: 98.4ms\n",
      "836:\tlearn: 0.0158069\ttotal: 502ms\tremaining: 97.8ms\n",
      "837:\tlearn: 0.0157449\ttotal: 503ms\tremaining: 97.2ms\n",
      "838:\tlearn: 0.0156953\ttotal: 504ms\tremaining: 96.6ms\n",
      "839:\tlearn: 0.0155994\ttotal: 504ms\tremaining: 96ms\n",
      "840:\tlearn: 0.0155496\ttotal: 505ms\tremaining: 95.4ms\n",
      "841:\tlearn: 0.0155009\ttotal: 505ms\tremaining: 94.8ms\n",
      "842:\tlearn: 0.0154776\ttotal: 505ms\tremaining: 94.1ms\n",
      "843:\tlearn: 0.0154546\ttotal: 506ms\tremaining: 93.5ms\n",
      "844:\tlearn: 0.0154067\ttotal: 507ms\tremaining: 92.9ms\n",
      "845:\tlearn: 0.0153257\ttotal: 507ms\tremaining: 92.3ms\n",
      "846:\tlearn: 0.0152633\ttotal: 507ms\tremaining: 91.7ms\n",
      "847:\tlearn: 0.0152168\ttotal: 508ms\tremaining: 91.1ms\n",
      "848:\tlearn: 0.0151380\ttotal: 509ms\tremaining: 90.4ms\n",
      "849:\tlearn: 0.0150924\ttotal: 509ms\tremaining: 89.8ms\n",
      "850:\tlearn: 0.0150448\ttotal: 509ms\tremaining: 89.2ms\n",
      "851:\tlearn: 0.0149549\ttotal: 510ms\tremaining: 88.6ms\n",
      "852:\tlearn: 0.0148787\ttotal: 511ms\tremaining: 88ms\n",
      "853:\tlearn: 0.0148200\ttotal: 511ms\tremaining: 87.4ms\n",
      "854:\tlearn: 0.0147681\ttotal: 512ms\tremaining: 86.8ms\n",
      "855:\tlearn: 0.0147068\ttotal: 512ms\tremaining: 86.2ms\n",
      "856:\tlearn: 0.0146608\ttotal: 513ms\tremaining: 85.6ms\n",
      "857:\tlearn: 0.0145843\ttotal: 514ms\tremaining: 85ms\n",
      "858:\tlearn: 0.0144998\ttotal: 514ms\tremaining: 84.4ms\n",
      "859:\tlearn: 0.0144553\ttotal: 515ms\tremaining: 83.8ms\n",
      "860:\tlearn: 0.0143963\ttotal: 515ms\tremaining: 83.2ms\n",
      "861:\tlearn: 0.0143373\ttotal: 516ms\tremaining: 82.6ms\n",
      "862:\tlearn: 0.0142940\ttotal: 516ms\tremaining: 82ms\n",
      "863:\tlearn: 0.0142685\ttotal: 517ms\tremaining: 81.4ms\n",
      "864:\tlearn: 0.0142047\ttotal: 517ms\tremaining: 80.7ms\n",
      "865:\tlearn: 0.0141603\ttotal: 518ms\tremaining: 80.1ms\n",
      "866:\tlearn: 0.0141026\ttotal: 518ms\tremaining: 79.5ms\n",
      "867:\tlearn: 0.0140496\ttotal: 519ms\tremaining: 78.9ms\n",
      "868:\tlearn: 0.0139885\ttotal: 519ms\tremaining: 78.3ms\n",
      "869:\tlearn: 0.0139144\ttotal: 520ms\tremaining: 77.7ms\n",
      "870:\tlearn: 0.0138412\ttotal: 521ms\tremaining: 77.1ms\n",
      "871:\tlearn: 0.0137933\ttotal: 521ms\tremaining: 76.5ms\n",
      "872:\tlearn: 0.0137407\ttotal: 522ms\tremaining: 75.9ms\n",
      "873:\tlearn: 0.0136693\ttotal: 522ms\tremaining: 75.3ms\n",
      "874:\tlearn: 0.0136195\ttotal: 523ms\tremaining: 74.7ms\n",
      "875:\tlearn: 0.0135423\ttotal: 523ms\tremaining: 74ms\n",
      "876:\tlearn: 0.0135015\ttotal: 524ms\tremaining: 73.4ms\n",
      "877:\tlearn: 0.0134395\ttotal: 524ms\tremaining: 72.9ms\n",
      "878:\tlearn: 0.0133889\ttotal: 525ms\tremaining: 72.3ms\n",
      "879:\tlearn: 0.0133390\ttotal: 526ms\tremaining: 71.7ms\n",
      "880:\tlearn: 0.0132694\ttotal: 526ms\tremaining: 71.1ms\n",
      "881:\tlearn: 0.0132215\ttotal: 527ms\tremaining: 70.5ms\n",
      "882:\tlearn: 0.0131539\ttotal: 527ms\tremaining: 69.9ms\n",
      "883:\tlearn: 0.0131069\ttotal: 528ms\tremaining: 69.3ms\n",
      "884:\tlearn: 0.0130579\ttotal: 528ms\tremaining: 68.6ms\n",
      "885:\tlearn: 0.0130116\ttotal: 529ms\tremaining: 68ms\n",
      "886:\tlearn: 0.0129767\ttotal: 529ms\tremaining: 67.4ms\n",
      "887:\tlearn: 0.0129290\ttotal: 530ms\tremaining: 66.8ms\n",
      "888:\tlearn: 0.0128946\ttotal: 530ms\tremaining: 66.2ms\n",
      "889:\tlearn: 0.0128429\ttotal: 530ms\tremaining: 65.6ms\n",
      "890:\tlearn: 0.0127961\ttotal: 531ms\tremaining: 65ms\n",
      "891:\tlearn: 0.0127434\ttotal: 531ms\tremaining: 64.3ms\n",
      "892:\tlearn: 0.0127101\ttotal: 532ms\tremaining: 63.7ms\n",
      "893:\tlearn: 0.0126644\ttotal: 533ms\tremaining: 63.1ms\n",
      "894:\tlearn: 0.0126118\ttotal: 533ms\tremaining: 62.5ms\n",
      "895:\tlearn: 0.0125605\ttotal: 534ms\tremaining: 61.9ms\n",
      "896:\tlearn: 0.0125102\ttotal: 534ms\tremaining: 61.3ms\n",
      "897:\tlearn: 0.0124653\ttotal: 535ms\tremaining: 60.7ms\n",
      "898:\tlearn: 0.0124333\ttotal: 535ms\tremaining: 60.1ms\n",
      "899:\tlearn: 0.0123952\ttotal: 535ms\tremaining: 59.5ms\n",
      "900:\tlearn: 0.0123487\ttotal: 536ms\tremaining: 58.9ms\n",
      "901:\tlearn: 0.0123091\ttotal: 537ms\tremaining: 58.3ms\n",
      "902:\tlearn: 0.0122458\ttotal: 537ms\tremaining: 57.7ms\n",
      "903:\tlearn: 0.0122002\ttotal: 538ms\tremaining: 57.1ms\n",
      "904:\tlearn: 0.0121616\ttotal: 538ms\tremaining: 56.5ms\n",
      "905:\tlearn: 0.0120998\ttotal: 539ms\tremaining: 55.9ms\n",
      "906:\tlearn: 0.0120384\ttotal: 539ms\tremaining: 55.3ms\n",
      "907:\tlearn: 0.0119940\ttotal: 540ms\tremaining: 54.7ms\n",
      "908:\tlearn: 0.0119460\ttotal: 540ms\tremaining: 54.1ms\n",
      "909:\tlearn: 0.0119157\ttotal: 541ms\tremaining: 53.5ms\n",
      "910:\tlearn: 0.0118721\ttotal: 541ms\tremaining: 52.9ms\n",
      "911:\tlearn: 0.0118166\ttotal: 542ms\tremaining: 52.3ms\n",
      "912:\tlearn: 0.0117595\ttotal: 543ms\tremaining: 51.7ms\n",
      "913:\tlearn: 0.0117058\ttotal: 543ms\tremaining: 51.1ms\n",
      "914:\tlearn: 0.0116632\ttotal: 544ms\tremaining: 50.5ms\n",
      "915:\tlearn: 0.0116110\ttotal: 544ms\tremaining: 49.9ms\n",
      "916:\tlearn: 0.0115816\ttotal: 545ms\tremaining: 49.3ms\n",
      "917:\tlearn: 0.0115330\ttotal: 545ms\tremaining: 48.7ms\n",
      "918:\tlearn: 0.0114780\ttotal: 546ms\tremaining: 48.1ms\n",
      "919:\tlearn: 0.0114359\ttotal: 546ms\tremaining: 47.5ms\n",
      "920:\tlearn: 0.0113821\ttotal: 547ms\tremaining: 46.9ms\n",
      "921:\tlearn: 0.0113248\ttotal: 547ms\tremaining: 46.3ms\n",
      "922:\tlearn: 0.0113038\ttotal: 548ms\tremaining: 45.7ms\n",
      "923:\tlearn: 0.0112845\ttotal: 548ms\tremaining: 45.1ms\n",
      "924:\tlearn: 0.0112656\ttotal: 549ms\tremaining: 44.5ms\n",
      "925:\tlearn: 0.0112305\ttotal: 549ms\tremaining: 43.9ms\n",
      "926:\tlearn: 0.0111781\ttotal: 550ms\tremaining: 43.3ms\n",
      "927:\tlearn: 0.0111596\ttotal: 551ms\tremaining: 42.7ms\n",
      "928:\tlearn: 0.0111291\ttotal: 551ms\tremaining: 42.1ms\n",
      "929:\tlearn: 0.0111109\ttotal: 552ms\tremaining: 41.5ms\n",
      "930:\tlearn: 0.0110379\ttotal: 552ms\tremaining: 40.9ms\n",
      "931:\tlearn: 0.0109834\ttotal: 553ms\tremaining: 40.3ms\n",
      "932:\tlearn: 0.0109657\ttotal: 553ms\tremaining: 39.7ms\n",
      "933:\tlearn: 0.0108945\ttotal: 554ms\tremaining: 39.1ms\n",
      "934:\tlearn: 0.0108412\ttotal: 554ms\tremaining: 38.5ms\n",
      "935:\tlearn: 0.0107887\ttotal: 555ms\tremaining: 37.9ms\n",
      "936:\tlearn: 0.0107696\ttotal: 555ms\tremaining: 37.3ms\n"
     ]
    },
    {
     "name": "stdout",
     "output_type": "stream",
     "text": [
      "937:\tlearn: 0.0107408\ttotal: 556ms\tremaining: 36.7ms\n",
      "938:\tlearn: 0.0106717\ttotal: 556ms\tremaining: 36.1ms\n",
      "939:\tlearn: 0.0106197\ttotal: 557ms\tremaining: 35.5ms\n",
      "940:\tlearn: 0.0106012\ttotal: 557ms\tremaining: 34.9ms\n",
      "941:\tlearn: 0.0105838\ttotal: 558ms\tremaining: 34.3ms\n",
      "942:\tlearn: 0.0105674\ttotal: 558ms\tremaining: 33.7ms\n",
      "943:\tlearn: 0.0105174\ttotal: 559ms\tremaining: 33.1ms\n",
      "944:\tlearn: 0.0105013\ttotal: 559ms\tremaining: 32.5ms\n",
      "945:\tlearn: 0.0104874\ttotal: 560ms\tremaining: 31.9ms\n",
      "946:\tlearn: 0.0104233\ttotal: 560ms\tremaining: 31.4ms\n",
      "947:\tlearn: 0.0104096\ttotal: 561ms\tremaining: 30.8ms\n",
      "948:\tlearn: 0.0103961\ttotal: 561ms\tremaining: 30.2ms\n",
      "949:\tlearn: 0.0103459\ttotal: 562ms\tremaining: 29.6ms\n",
      "950:\tlearn: 0.0103326\ttotal: 562ms\tremaining: 29ms\n",
      "951:\tlearn: 0.0102903\ttotal: 563ms\tremaining: 28.4ms\n",
      "952:\tlearn: 0.0102596\ttotal: 563ms\tremaining: 27.8ms\n",
      "953:\tlearn: 0.0102465\ttotal: 563ms\tremaining: 27.2ms\n",
      "954:\tlearn: 0.0102028\ttotal: 564ms\tremaining: 26.6ms\n",
      "955:\tlearn: 0.0101726\ttotal: 565ms\tremaining: 26ms\n",
      "956:\tlearn: 0.0101430\ttotal: 565ms\tremaining: 25.4ms\n",
      "957:\tlearn: 0.0101005\ttotal: 566ms\tremaining: 24.8ms\n",
      "958:\tlearn: 0.0100397\ttotal: 566ms\tremaining: 24.2ms\n",
      "959:\tlearn: 0.0099960\ttotal: 567ms\tremaining: 23.6ms\n",
      "960:\tlearn: 0.0099555\ttotal: 567ms\tremaining: 23ms\n",
      "961:\tlearn: 0.0099271\ttotal: 568ms\tremaining: 22.4ms\n",
      "962:\tlearn: 0.0098968\ttotal: 568ms\tremaining: 21.8ms\n",
      "963:\tlearn: 0.0098562\ttotal: 569ms\tremaining: 21.2ms\n",
      "964:\tlearn: 0.0098141\ttotal: 569ms\tremaining: 20.6ms\n",
      "965:\tlearn: 0.0097728\ttotal: 570ms\tremaining: 20.1ms\n",
      "966:\tlearn: 0.0097336\ttotal: 570ms\tremaining: 19.5ms\n",
      "967:\tlearn: 0.0097051\ttotal: 571ms\tremaining: 18.9ms\n",
      "968:\tlearn: 0.0096667\ttotal: 571ms\tremaining: 18.3ms\n",
      "969:\tlearn: 0.0096285\ttotal: 572ms\tremaining: 17.7ms\n",
      "970:\tlearn: 0.0096007\ttotal: 572ms\tremaining: 17.1ms\n",
      "971:\tlearn: 0.0095717\ttotal: 573ms\tremaining: 16.5ms\n",
      "972:\tlearn: 0.0095372\ttotal: 573ms\tremaining: 15.9ms\n",
      "973:\tlearn: 0.0094977\ttotal: 574ms\tremaining: 15.3ms\n",
      "974:\tlearn: 0.0094605\ttotal: 574ms\tremaining: 14.7ms\n",
      "975:\tlearn: 0.0094269\ttotal: 574ms\tremaining: 14.1ms\n",
      "976:\tlearn: 0.0093890\ttotal: 575ms\tremaining: 13.5ms\n",
      "977:\tlearn: 0.0093670\ttotal: 576ms\tremaining: 13ms\n",
      "978:\tlearn: 0.0093454\ttotal: 576ms\tremaining: 12.4ms\n",
      "979:\tlearn: 0.0093072\ttotal: 577ms\tremaining: 11.8ms\n",
      "980:\tlearn: 0.0092603\ttotal: 577ms\tremaining: 11.2ms\n",
      "981:\tlearn: 0.0092143\ttotal: 578ms\tremaining: 10.6ms\n",
      "982:\tlearn: 0.0091788\ttotal: 578ms\tremaining: 10ms\n",
      "983:\tlearn: 0.0091526\ttotal: 579ms\tremaining: 9.41ms\n",
      "984:\tlearn: 0.0091165\ttotal: 579ms\tremaining: 8.82ms\n",
      "985:\tlearn: 0.0090956\ttotal: 580ms\tremaining: 8.23ms\n",
      "986:\tlearn: 0.0090507\ttotal: 580ms\tremaining: 7.64ms\n",
      "987:\tlearn: 0.0090242\ttotal: 581ms\tremaining: 7.05ms\n",
      "988:\tlearn: 0.0089882\ttotal: 581ms\tremaining: 6.46ms\n",
      "989:\tlearn: 0.0089536\ttotal: 581ms\tremaining: 5.87ms\n",
      "990:\tlearn: 0.0089332\ttotal: 582ms\tremaining: 5.28ms\n",
      "991:\tlearn: 0.0089085\ttotal: 582ms\tremaining: 4.7ms\n",
      "992:\tlearn: 0.0088596\ttotal: 583ms\tremaining: 4.11ms\n",
      "993:\tlearn: 0.0088248\ttotal: 583ms\tremaining: 3.52ms\n",
      "994:\tlearn: 0.0087921\ttotal: 584ms\tremaining: 2.93ms\n",
      "995:\tlearn: 0.0087504\ttotal: 584ms\tremaining: 2.35ms\n",
      "996:\tlearn: 0.0087030\ttotal: 585ms\tremaining: 1.76ms\n",
      "997:\tlearn: 0.0086833\ttotal: 586ms\tremaining: 1.17ms\n",
      "998:\tlearn: 0.0086277\ttotal: 586ms\tremaining: 586us\n",
      "999:\tlearn: 0.0086030\ttotal: 587ms\tremaining: 0us\n"
     ]
    },
    {
     "data": {
      "text/plain": [
       "<catboost.core.CatBoostRegressor at 0x7f8f499bd5e0>"
      ]
     },
     "execution_count": 9,
     "metadata": {},
     "output_type": "execute_result"
    }
   ],
   "source": [
    "#Train the Model \n",
    "prior_model = ctb.CatBoostRegressor()\n",
    "prior_model.fit(X_train,Y_train)"
   ]
  },
  {
   "cell_type": "code",
   "execution_count": 10,
   "id": "af65dcda",
   "metadata": {
    "execution": {
     "iopub.execute_input": "2022-02-13T14:53:53.448920Z",
     "iopub.status.busy": "2022-02-13T14:53:53.448551Z",
     "iopub.status.idle": "2022-02-13T14:53:53.455801Z",
     "shell.execute_reply": "2022-02-13T14:53:53.456039Z"
    },
    "id": "af65dcda",
    "papermill": {
     "duration": 0.019897,
     "end_time": "2022-02-13T14:53:53.456153",
     "exception": false,
     "start_time": "2022-02-13T14:53:53.436256",
     "status": "completed"
    },
    "tags": []
   },
   "outputs": [
    {
     "data": {
      "application/scrapbook.scrap.json+json": {
       "data": 0.07114443417921112,
       "encoder": "json",
       "name": "Prior Model MSE",
       "version": 1
      }
     },
     "metadata": {
      "scrapbook": {
       "data": true,
       "display": false,
       "name": "Prior Model MSE"
      }
     },
     "output_type": "display_data"
    },
    {
     "data": {
      "application/scrapbook.scrap.json+json": {
       "data": 0.07268483634913861,
       "encoder": "json",
       "name": "ABC Pre-generator MSE",
       "version": 1
      }
     },
     "metadata": {
      "scrapbook": {
       "data": true,
       "display": false,
       "name": "ABC Pre-generator MSE"
      }
     },
     "output_type": "display_data"
    },
    {
     "data": {
      "application/scrapbook.scrap.json+json": {
       "data": 0.19979306485046483,
       "encoder": "json",
       "name": "Prior Model MSE",
       "version": 1
      }
     },
     "metadata": {
      "scrapbook": {
       "data": true,
       "display": false,
       "name": "Prior Model MSE"
      }
     },
     "output_type": "display_data"
    },
    {
     "data": {
      "application/scrapbook.scrap.json+json": {
       "data": 0.2024419581762517,
       "encoder": "json",
       "name": "ABC Pre-generator MSE",
       "version": 1
      }
     },
     "metadata": {
      "scrapbook": {
       "data": true,
       "display": false,
       "name": "ABC Pre-generator MSE"
      }
     },
     "output_type": "display_data"
    }
   ],
   "source": [
    "y_pred = prior_model.predict(X_test)\n",
    "y_abc = y_pred + np.random.normal(0,variance, y_pred.shape)\n",
    "mse = mean_squared_error(y_pred,Y_test)\n",
    "sb.glue(\"Prior Model MSE\",mse)\n",
    "mse = mean_squared_error(y_abc,Y_test)\n",
    "sb.glue(\"ABC Pre-generator MSE\",mse)\n",
    "\n",
    "mae = mean_absolute_error(y_pred,Y_test)\n",
    "sb.glue(\"Prior Model MSE\",mae)\n",
    "mae = mean_absolute_error(y_abc,Y_test)\n",
    "sb.glue(\"ABC Pre-generator MSE\",mae)"
   ]
  },
  {
   "cell_type": "markdown",
   "id": "25609da2",
   "metadata": {
    "papermill": {
     "duration": 0.009721,
     "end_time": "2022-02-13T14:53:53.475843",
     "exception": false,
     "start_time": "2022-02-13T14:53:53.466122",
     "status": "completed"
    },
    "tags": []
   },
   "source": [
    "# ABC GAN Model"
   ]
  },
  {
   "cell_type": "code",
   "execution_count": 11,
   "id": "dfc3464d",
   "metadata": {
    "execution": {
     "iopub.execute_input": "2022-02-13T14:53:53.498060Z",
     "iopub.status.busy": "2022-02-13T14:53:53.497693Z",
     "iopub.status.idle": "2022-02-13T14:53:53.500090Z",
     "shell.execute_reply": "2022-02-13T14:53:53.500331Z"
    },
    "papermill": {
     "duration": 0.015072,
     "end_time": "2022-02-13T14:53:53.500438",
     "exception": false,
     "start_time": "2022-02-13T14:53:53.485366",
     "status": "completed"
    },
    "tags": []
   },
   "outputs": [],
   "source": [
    "gen = network.Generator(n_features+1).to(device)\n",
    "disc = network.Discriminator(n_features+1).to(device)\n",
    "\n",
    "criterion = torch.nn.BCELoss()\n",
    "gen_opt = torch.optim.Adam(gen.parameters(), lr=0.001, betas=(0.5, 0.999))\n",
    "disc_opt = torch.optim.Adam(disc.parameters(), lr=0.001, betas=(0.5, 0.999))"
   ]
  },
  {
   "cell_type": "code",
   "execution_count": 12,
   "id": "b75fdd85",
   "metadata": {
    "execution": {
     "iopub.execute_input": "2022-02-13T14:53:53.521954Z",
     "iopub.status.busy": "2022-02-13T14:53:53.521583Z",
     "iopub.status.idle": "2022-02-13T14:54:06.837949Z",
     "shell.execute_reply": "2022-02-13T14:54:06.838238Z"
    },
    "papermill": {
     "duration": 13.328196,
     "end_time": "2022-02-13T14:54:06.838357",
     "exception": false,
     "start_time": "2022-02-13T14:53:53.510161",
     "status": "completed"
    },
    "tags": []
   },
   "outputs": [
    {
     "data": {
      "image/png": "[encoded data removed]",
      "text/plain": [
       "<Figure size 432x288 with 1 Axes>"
      ]
     },
     "metadata": {
      "needs_background": "light"
     },
     "output_type": "display_data"
    },
    {
     "data": {
      "image/png": "[encoded data removed]",
      "text/plain": [
       "<Figure size 432x288 with 1 Axes>"
      ]
     },
     "metadata": {
      "needs_background": "light"
     },
     "output_type": "display_data"
    }
   ],
   "source": [
    "#Training the ABC_GAN \n",
    "ABC_train_test2.training_GAN(disc,gen,disc_opt,gen_opt,train_data,batch_size,n_epochs,criterion,prior_model,variance,device)"
   ]
  },
  {
   "cell_type": "code",
   "execution_count": 13,
   "id": "1fa7c368",
   "metadata": {
    "execution": {
     "iopub.execute_input": "2022-02-13T14:54:06.862449Z",
     "iopub.status.busy": "2022-02-13T14:54:06.861935Z",
     "iopub.status.idle": "2022-02-13T14:54:07.040612Z",
     "shell.execute_reply": "2022-02-13T14:54:07.040915Z"
    },
    "papermill": {
     "duration": 0.191871,
     "end_time": "2022-02-13T14:54:07.041040",
     "exception": false,
     "start_time": "2022-02-13T14:54:06.849169",
     "status": "completed"
    },
    "tags": []
   },
   "outputs": [
    {
     "data": {
      "application/scrapbook.scrap.json+json": {
       "data": 0.07026271658152261,
       "encoder": "json",
       "name": "ABC-GAN Model 1 MSE",
       "version": 1
      }
     },
     "metadata": {
      "scrapbook": {
       "data": true,
       "display": false,
       "name": "ABC-GAN Model 1 MSE"
      }
     },
     "output_type": "display_data"
    },
    {
     "data": {
      "application/scrapbook.scrap.json+json": {
       "data": 0.20053292654501273,
       "encoder": "json",
       "name": "ABC-GAN Model 1 MAE",
       "version": 1
      }
     },
     "metadata": {
      "scrapbook": {
       "data": true,
       "display": false,
       "name": "ABC-GAN Model 1 MAE"
      }
     },
     "output_type": "display_data"
    },
    {
     "data": {
      "application/scrapbook.scrap.json+json": {
       "data": 4.010658530900255,
       "encoder": "json",
       "name": "ABC-GAN Model 1 Manhattan Distance",
       "version": 1
      }
     },
     "metadata": {
      "scrapbook": {
       "data": true,
       "display": false,
       "name": "ABC-GAN Model 1 Manhattan Distance"
      }
     },
     "output_type": "display_data"
    },
    {
     "data": {
      "application/scrapbook.scrap.json+json": {
       "data": 1.1853962274540895,
       "encoder": "json",
       "name": "ABC-GAN Model 1 Euclidean distance",
       "version": 1
      }
     },
     "metadata": {
      "scrapbook": {
       "data": true,
       "display": false,
       "name": "ABC-GAN Model 1 Euclidean distance"
      }
     },
     "output_type": "display_data"
    },
    {
     "data": {
      "application/scrapbook.scrap.json+json": {
       "data": [
        [
         0.07124678548858877,
         0.06940017248168466,
         0.07032055662224865,
         0.06979347813527867,
         0.06948472650598733,
         0.07085030849701726,
         0.07143078475427873,
         0.07055364137134498,
         0.0719763874473519,
         0.06963445491950658,
         0.07311880283745856,
         0.0698722035028472,
         0.07098449400562667,
         0.07128714858243934,
         0.06893425153037382,
         0.07160392766129234,
         0.07180067554004957,
         0.06935833066605485,
         0.07030755988838154,
         0.06875537122516012,
         0.06847469299655409,
         0.07066297750036561,
         0.06954619142780544,
         0.07040195248946687,
         0.07027762607924756,
         0.06952284810749229,
         0.06962768822687411,
         0.06984268260239572,
         0.06848337503402493,
         0.07098781450065282,
         0.06900214259577887,
         0.06817800959168435,
         0.07052827622907601,
         0.06855797758377374,
         0.06975414932150294,
         0.06859361495464175,
         0.07206579548861938,
         0.07080917450915755,
         0.07135213666045516,
         0.06871151169830168,
         0.07151679415902591,
         0.06967577862526861,
         0.06911365121262816,
         0.07090263036403477,
         0.07061988446487373,
         0.06925351120102265,
         0.07113543420759388,
         0.07018331835079941,
         0.07051659420356642,
         0.07084543213068965,
         0.06981340034881875,
         0.06981987028051638,
         0.07010148296079106,
         0.06870528479079543,
         0.0696513664045668,
         0.07221081789221062,
         0.07172335580390483,
         0.07045966045257895,
         0.0703551303258532,
         0.07248208836697462,
         0.06825646512200381,
         0.06995111736216778,
         0.07090933770538664,
         0.07026759747183359,
         0.0699470803393761,
         0.07243701269669596,
         0.0703693198135365,
         0.06968904263655187,
         0.07232224645110313,
         0.07008671952573807,
         0.06928747687787692,
         0.0713355498142424,
         0.07108459776460153,
         0.07053512380354252,
         0.07189027738200106,
         0.07050496776582897,
         0.06970396568152107,
         0.06871756161725111,
         0.06966032704172789,
         0.07086986741181207,
         0.07026310852985009,
         0.0702229508785645,
         0.06997384400921113,
         0.06886003745019259,
         0.07123299146383201,
         0.06907429690616909,
         0.0719920254960418,
         0.07097349503184402,
         0.0679017432177112,
         0.0705045412393501,
         0.07134229963934804,
         0.06922121979948112,
         0.06959919960281728,
         0.07189465027580086,
         0.07248135901028757,
         0.06993152109041435,
         0.07058258656282346,
         0.06980451896594833,
         0.06833401527955502,
         0.06907541361086335
        ],
        [
         0.2034188027959317,
         0.19828345328569413,
         0.20026594060473143,
         0.19838007129728794,
         0.19944792613387108,
         0.20361144952476024,
         0.20388361047953368,
         0.20186556018888951,
         0.2030100103467703,
         0.19718451681546867,
         0.20334454881958663,
         0.1980519741307944,
         0.20182274761609734,
         0.2016115512698889,
         0.19898029323667288,
         0.20033703814260662,
         0.2048331644386053,
         0.1985455382615328,
         0.2017854068428278,
         0.2003738302271813,
         0.19988099075853824,
         0.20169488820247353,
         0.20106558836996555,
         0.19871851652860642,
         0.20084114000201225,
         0.2018278099130839,
         0.19952058531343936,
         0.19977794643491506,
         0.19788741166703402,
         0.20437867362052203,
         0.19798870417289435,
         0.19689375199377537,
         0.20322534423321487,
         0.19837717302143573,
         0.20101505871862174,
         0.19726604782044888,
         0.20266789752058684,
         0.2041442131623626,
         0.20250637121498585,
         0.19751225742511452,
         0.20209911647252737,
         0.2001631086692214,
         0.1978606056421995,
         0.20231578182429075,
         0.2026730388402939,
         0.19799786768853664,
         0.19954207274131477,
         0.1987555421423167,
         0.20129127390682697,
         0.20102463178336621,
         0.19689493342302739,
         0.19853639900684356,
         0.20287179127335547,
         0.19974556230008603,
         0.1994503539055586,
         0.20401099063456057,
         0.20334922331385313,
         0.20042267106473446,
         0.20108408462256194,
         0.19993776134215296,
         0.19684442761354148,
         0.20085624195635318,
         0.20077899172902108,
         0.2020093945786357,
         0.1999284591525793,
         0.2031631838530302,
         0.20098218508064747,
         0.19605638566426933,
         0.20323448455892504,
         0.199760783277452,
         0.2000147869810462,
         0.2039484677836299,
         0.20199486501514913,
         0.1994826853275299,
         0.20179077796638012,
         0.2018981236498803,
         0.19954271535389126,
         0.20036303061060606,
         0.20025548706762492,
         0.19877803325653076,
         0.19924735776148736,
         0.20089351939968764,
         0.20207219757139683,
         0.20005976930260658,
         0.20184976290911436,
         0.19884025044739245,
         0.20267387479543686,
         0.2005689512938261,
         0.1979879017919302,
         0.19948024824261665,
         0.20129828280769288,
         0.19760241913609206,
         0.20003215204924346,
         0.20302812568843365,
         0.2020016623660922,
         0.1989645030349493,
         0.2012762576341629,
         0.20147545263171196,
         0.19834601748734712,
         0.19765582252293826
        ],
        [
         4.068376055918634,
         3.9656690657138824,
         4.005318812094629,
         3.967601425945759,
         3.9889585226774216,
         4.072228990495205,
         4.0776722095906734,
         4.03731120377779,
         4.060200206935406,
         3.9436903363093734,
         4.066890976391733,
         3.961039482615888,
         4.036454952321947,
         4.032231025397778,
         3.9796058647334576,
         4.006740762852132,
         4.096663288772106,
         3.9709107652306557,
         4.035708136856556,
         4.007476604543626,
         3.997619815170765,
         4.03389776404947,
         4.021311767399311,
         3.9743703305721283,
         4.016822800040245,
         4.036556198261678,
         3.9904117062687874,
         3.9955589286983013,
         3.9577482333406806,
         4.0875734724104404,
         3.959774083457887,
         3.9378750398755074,
         4.064506884664297,
         3.9675434604287148,
         4.020301174372435,
         3.9453209564089775,
         4.053357950411737,
         4.0828842632472515,
         4.050127424299717,
         3.9502451485022902,
         4.041982329450548,
         4.003262173384428,
         3.9572121128439903,
         4.046315636485815,
         4.053460776805878,
         3.959957353770733,
         3.9908414548262954,
         3.975110842846334,
         4.0258254781365395,
         4.020492635667324,
         3.937898668460548,
         3.9707279801368713,
         4.05743582546711,
         3.9949112460017204,
         3.9890070781111717,
         4.080219812691212,
         4.066984466277063,
         4.008453421294689,
         4.021681692451239,
         3.998755226843059,
         3.9368885522708297,
         4.017124839127064,
         4.0155798345804214,
         4.040187891572714,
         3.998569183051586,
         4.063263677060604,
         4.019643701612949,
         3.9211277132853866,
         4.064689691178501,
         3.99521566554904,
         4.000295739620924,
         4.078969355672598,
         4.039897300302982,
         3.989653706550598,
         4.035815559327602,
         4.037962472997606,
         3.990854307077825,
         4.0072606122121215,
         4.0051097413524985,
         3.9755606651306152,
         3.9849471552297473,
         4.017870387993753,
         4.0414439514279366,
         4.001195386052132,
         4.036995258182287,
         3.9768050089478493,
         4.053477495908737,
         4.011379025876522,
         3.959758035838604,
         3.989604964852333,
         4.025965656153858,
         3.9520483827218413,
         4.000643040984869,
         4.060562513768673,
         4.040033247321844,
         3.979290060698986,
         4.025525152683258,
         4.029509052634239,
         3.9669203497469425,
         3.953116450458765
        ],
        [
         1.1937067101142456,
         1.1781355820251307,
         1.1859220600212195,
         1.181469239000988,
         1.1788530570515339,
         1.190380682781918,
         1.1952471272023935,
         1.1878858646464734,
         1.1998032125923976,
         1.1801224929600027,
         1.2092874169316288,
         1.1821353856716006,
         1.1915073982617705,
         1.1940447946575485,
         1.1741741909135444,
         1.1966948454914672,
         1.19833781163785,
         1.1777803756732819,
         1.1858124631524292,
         1.1726497450232967,
         1.1702537587767372,
         1.1888059345441173,
         1.179374337755451,
         1.186608212422844,
         1.1855600033675862,
         1.179176391448644,
         1.1800651526663613,
         1.1818856340813668,
         1.1703279457829323,
         1.191535265954414,
         1.1747522512919808,
         1.1677158009694342,
         1.187672313637697,
         1.1709652222314184,
         1.1811363115365046,
         1.1712695245300437,
         1.200548170533939,
         1.1900350793918435,
         1.1945889390117017,
         1.1722756646651136,
         1.195966505877367,
         1.1804726055717567,
         1.1757010777627803,
         1.1908201406092758,
         1.1884433891849768,
         1.176890064543181,
         1.1927735259268113,
         1.1847642664327738,
         1.1875739488854278,
         1.1903397173134203,
         1.1816378493330244,
         1.1816926019952598,
         1.184073333546458,
         1.1722225453453405,
         1.1802657870544822,
         1.2017555316470203,
         1.197692412966742,
         1.1870944398200083,
         1.1862135585623121,
         1.2040107006748288,
         1.16838747958033,
         1.1828027507760352,
         1.1908764646711818,
         1.1854754107262924,
         1.182768619294375,
         1.203636263135138,
         1.1863331725408046,
         1.1805849620976197,
         1.2026823890878517,
         1.1839486435292546,
         1.1771786345145492,
         1.1944500811188585,
         1.1923472461040998,
         1.187729967657148,
         1.1990852962320993,
         1.1874760441021872,
         1.1807113591519398,
         1.17232727185928,
         1.180341705115327,
         1.1905449795099055,
         1.185437543946117,
         1.1850987374777218,
         1.182994877497034,
         1.1735419672955254,
         1.1935911482901673,
         1.1753662995523488,
         1.1999335439601795,
         1.1914150832673225,
         1.165347529432411,
         1.1874724522223672,
         1.19450658967917,
         1.1766156534695695,
         1.179823712279231,
         1.1991217642574992,
         1.2040046429336357,
         1.1826370625886402,
         1.1881295094628652,
         1.1815626853108416,
         1.1690510277960926,
         1.175375800421834
        ]
       ],
       "encoder": "json",
       "name": "ABC_GAN_1 Metrics",
       "version": 1
      }
     },
     "metadata": {
      "scrapbook": {
       "data": true,
       "display": false,
       "name": "ABC_GAN_1 Metrics"
      }
     },
     "output_type": "display_data"
    },
    {
     "name": "stdout",
     "output_type": "stream",
     "text": [
      "MSE\n",
      "0.07026271658152261\n"
     ]
    }
   ],
   "source": [
    "ABC_GAN1_metrics=ABC_train_test2.test_generator(gen,test_data,prior_model,variance,\"1\",device)\n",
    "sb.glue(\"ABC_GAN_1 Metrics\",ABC_GAN1_metrics)\n",
    "\n",
    "print(\"MSE\")\n",
    "print(mean(ABC_GAN1_metrics[0]))"
   ]
  },
  {
   "cell_type": "code",
   "execution_count": 14,
   "id": "eb22ce5c",
   "metadata": {
    "execution": {
     "iopub.execute_input": "2022-02-13T14:54:07.067738Z",
     "iopub.status.busy": "2022-02-13T14:54:07.067368Z",
     "iopub.status.idle": "2022-02-13T14:54:07.358234Z",
     "shell.execute_reply": "2022-02-13T14:54:07.358478Z"
    },
    "papermill": {
     "duration": 0.305194,
     "end_time": "2022-02-13T14:54:07.358597",
     "exception": false,
     "start_time": "2022-02-13T14:54:07.053403",
     "status": "completed"
    },
    "tags": []
   },
   "outputs": [
    {
     "data": {
      "image/png": "[encoded data removed]",
      "text/plain": [
       "<Figure size 432x288 with 1 Axes>"
      ]
     },
     "metadata": {
      "needs_background": "light"
     },
     "output_type": "display_data"
    },
    {
     "data": {
      "image/png": "[encoded data removed]",
      "text/plain": [
       "<Figure size 432x288 with 1 Axes>"
      ]
     },
     "metadata": {
      "needs_background": "light"
     },
     "output_type": "display_data"
    },
    {
     "data": {
      "image/png": "[encoded data removed]",
      "text/plain": [
       "<Figure size 432x288 with 1 Axes>"
      ]
     },
     "metadata": {
      "needs_background": "light"
     },
     "output_type": "display_data"
    },
    {
     "data": {
      "image/png": "[encoded data removed]",
      "text/plain": [
       "<Figure size 432x288 with 1 Axes>"
      ]
     },
     "metadata": {
      "needs_background": "light"
     },
     "output_type": "display_data"
    }
   ],
   "source": [
    "sanityChecks.discProbVsError(train_data,disc,device)\n",
    "sanityChecks.discProbVsError(test_data,disc,device)"
   ]
  },
  {
   "cell_type": "markdown",
   "id": "130f3a4d",
   "metadata": {
    "id": "130f3a4d",
    "papermill": {
     "duration": 0.014435,
     "end_time": "2022-02-13T14:54:07.387656",
     "exception": false,
     "start_time": "2022-02-13T14:54:07.373221",
     "status": "completed"
    },
    "tags": []
   },
   "source": [
    "# ABC - GAN Model with skip connection"
   ]
  },
  {
   "cell_type": "code",
   "execution_count": 15,
   "id": "4e43dad1",
   "metadata": {
    "execution": {
     "iopub.execute_input": "2022-02-13T14:54:07.420276Z",
     "iopub.status.busy": "2022-02-13T14:54:07.419882Z",
     "iopub.status.idle": "2022-02-13T14:54:07.422155Z",
     "shell.execute_reply": "2022-02-13T14:54:07.422381Z"
    },
    "id": "4e43dad1",
    "papermill": {
     "duration": 0.020136,
     "end_time": "2022-02-13T14:54:07.422493",
     "exception": false,
     "start_time": "2022-02-13T14:54:07.402357",
     "status": "completed"
    },
    "tags": []
   },
   "outputs": [],
   "source": [
    "#Generator\n",
    "gen3 = network.GeneratorWithSkipConnection(n_features+1).to(device)\n",
    "constraints=network.weightConstraint()\n",
    "#Discriminator \n",
    "disc3 = network.Discriminator(n_features+1).to(device)\n",
    "\n",
    "criterion = torch.nn.BCELoss()\n",
    "gen_opt = torch.optim.Adam(gen3.parameters(), lr=0.001, betas=(0.5, 0.999))\n",
    "disc_opt = torch.optim.Adam(disc3.parameters(), lr=0.001, betas=(0.5, 0.999))\n"
   ]
  },
  {
   "cell_type": "code",
   "execution_count": 16,
   "id": "26acbc37",
   "metadata": {
    "execution": {
     "iopub.execute_input": "2022-02-13T14:54:07.453866Z",
     "iopub.status.busy": "2022-02-13T14:54:07.453502Z",
     "iopub.status.idle": "2022-02-13T14:54:43.024699Z",
     "shell.execute_reply": "2022-02-13T14:54:43.025031Z"
    },
    "id": "26acbc37",
    "papermill": {
     "duration": 35.58802,
     "end_time": "2022-02-13T14:54:43.025154",
     "exception": false,
     "start_time": "2022-02-13T14:54:07.437134",
     "status": "completed"
    },
    "tags": []
   },
   "outputs": [
    {
     "data": {
      "image/png": "[encoded data removed]",
      "text/plain": [
       "<Figure size 432x288 with 1 Axes>"
      ]
     },
     "metadata": {
      "needs_background": "light"
     },
     "output_type": "display_data"
    },
    {
     "data": {
      "image/png": "[encoded data removed]",
      "text/plain": [
       "<Figure size 432x288 with 1 Axes>"
      ]
     },
     "metadata": {
      "needs_background": "light"
     },
     "output_type": "display_data"
    }
   ],
   "source": [
    "ABC_train_test2.training_GAN_skip_connection(disc3,gen3,disc_opt,gen_opt,train_data,batch_size,n_epochs,criterion,prior_model,variance,device)"
   ]
  },
  {
   "cell_type": "code",
   "execution_count": 17,
   "id": "c5e0717b",
   "metadata": {
    "execution": {
     "iopub.execute_input": "2022-02-13T14:54:43.060028Z",
     "iopub.status.busy": "2022-02-13T14:54:43.059569Z",
     "iopub.status.idle": "2022-02-13T14:54:43.331134Z",
     "shell.execute_reply": "2022-02-13T14:54:43.331373Z"
    },
    "id": "c5e0717b",
    "papermill": {
     "duration": 0.290047,
     "end_time": "2022-02-13T14:54:43.331494",
     "exception": false,
     "start_time": "2022-02-13T14:54:43.041447",
     "status": "completed"
    },
    "tags": []
   },
   "outputs": [
    {
     "data": {
      "application/scrapbook.scrap.json+json": {
       "data": 0.0706822316177202,
       "encoder": "json",
       "name": "ABC-GAN Model 3 MSE",
       "version": 1
      }
     },
     "metadata": {
      "scrapbook": {
       "data": true,
       "display": false,
       "name": "ABC-GAN Model 3 MSE"
      }
     },
     "output_type": "display_data"
    },
    {
     "data": {
      "application/scrapbook.scrap.json+json": {
       "data": 0.1967677995332051,
       "encoder": "json",
       "name": "ABC-GAN Model 3 MAE",
       "version": 1
      }
     },
     "metadata": {
      "scrapbook": {
       "data": true,
       "display": false,
       "name": "ABC-GAN Model 3 MAE"
      }
     },
     "output_type": "display_data"
    },
    {
     "data": {
      "application/scrapbook.scrap.json+json": {
       "data": 3.9353559906641022,
       "encoder": "json",
       "name": "ABC-GAN Model 3 Manhattan Distance",
       "version": 1
      }
     },
     "metadata": {
      "scrapbook": {
       "data": true,
       "display": false,
       "name": "ABC-GAN Model 3 Manhattan Distance"
      }
     },
     "output_type": "display_data"
    },
    {
     "data": {
      "application/scrapbook.scrap.json+json": {
       "data": 1.1889280719349598,
       "encoder": "json",
       "name": "ABC-GAN Model 3 Euclidean distance",
       "version": 1
      }
     },
     "metadata": {
      "scrapbook": {
       "data": true,
       "display": false,
       "name": "ABC-GAN Model 3 Euclidean distance"
      }
     },
     "output_type": "display_data"
    },
    {
     "data": {
      "application/scrapbook.scrap.json+json": {
       "data": [
        [
         0.06849198394161546,
         0.06996943166958464,
         0.06928806241380728,
         0.07109429663144312,
         0.07122164189475003,
         0.0707125870300187,
         0.06868838992475804,
         0.06863954629280918,
         0.07086407399529207,
         0.06987730171115959,
         0.06975401561652897,
         0.07262196013405028,
         0.06824458118254015,
         0.07100547315046066,
         0.0719682444356144,
         0.07091595242024724,
         0.06865637393467221,
         0.06977000951355924,
         0.0723974849781486,
         0.07118699550307815,
         0.07050665373801165,
         0.07215658154168392,
         0.07023462616512917,
         0.07027687160778488,
         0.07134240401143042,
         0.07153554159197252,
         0.07027069340524898,
         0.07133095093322538,
         0.07004566224542598,
         0.07138211262427543,
         0.07219214272779748,
         0.07104335990114581,
         0.07078256882711016,
         0.07267110814571312,
         0.07207137531120078,
         0.07043571742212844,
         0.07155244420673855,
         0.07119787438308668,
         0.07089224327390208,
         0.06910154923228558,
         0.07076005229284822,
         0.07142524297041734,
         0.07107606074319964,
         0.07303860667463877,
         0.06958966853874048,
         0.07197626228140858,
         0.07106177850475244,
         0.0713174285686802,
         0.07214057208589296,
         0.07290689814832091,
         0.0697436273389474,
         0.07156516345392692,
         0.072601658701596,
         0.0693123124836411,
         0.07131281653313777,
         0.07047197617619747,
         0.07180599119100489,
         0.06959677190530275,
         0.07067691927877177,
         0.07108313138119318,
         0.07075810338157937,
         0.06955550006358895,
         0.07152452979942617,
         0.06974015853267099,
         0.07033928317685602,
         0.0718140072332316,
         0.070042080899077,
         0.07002208397245321,
         0.07110555583559765,
         0.06890635627791794,
         0.07011620981248717,
         0.0708004802532484,
         0.07029740967527194,
         0.06960119930870008,
         0.07001190229424763,
         0.06862809185988988,
         0.06895808537006048,
         0.07048081721883334,
         0.070877615181167,
         0.0692612247616702,
         0.07177353225828312,
         0.07255401351467422,
         0.07065960732793185,
         0.07352448810274073,
         0.07201971920917859,
         0.0689239919110886,
         0.07014107196531719,
         0.07201985600220442,
         0.06960262954991597,
         0.06866087862869132,
         0.06886841443005795,
         0.07008390496655284,
         0.07082945182716655,
         0.0707296902764614,
         0.06955754102576844,
         0.07120818883306365,
         0.07104196513087477,
         0.07011893174798835,
         0.07204535430291717,
         0.07116540893111498
        ],
        [
         0.1957868801895529,
         0.19727372098714113,
         0.19347757226787507,
         0.1987074616830796,
         0.19885035096667708,
         0.1986675810534507,
         0.19460411197505892,
         0.19249547626823188,
         0.19520068452693523,
         0.19590773843228818,
         0.1941596635617316,
         0.19948799563571812,
         0.1947189724072814,
         0.1969526931643486,
         0.19864589180797337,
         0.19718916076235474,
         0.19509806898422538,
         0.1945829914882779,
         0.20050449138507248,
         0.19797662519849837,
         0.1964472636580467,
         0.19864428071305157,
         0.19272171426564455,
         0.19587797462008893,
         0.19704609643667936,
         0.2000425798818469,
         0.19616079851984977,
         0.20032348493114113,
         0.1973191486671567,
         0.19946195590309798,
         0.20180200841277837,
         0.19730229596607388,
         0.19577712356112897,
         0.19854818214662373,
         0.20192070929333567,
         0.1969914747867733,
         0.19533329578116537,
         0.19729805486276747,
         0.19804661818780006,
         0.19569273223169148,
         0.1946182125248015,
         0.19840816715732218,
         0.19924179152585567,
         0.20159055930562317,
         0.19385888241231441,
         0.200244564935565,
         0.19868425652384758,
         0.19514355529099703,
         0.199126936821267,
         0.19734724974259735,
         0.19614672856405377,
         0.19703815691173077,
         0.19703432573005558,
         0.1924907368607819,
         0.19709157370962202,
         0.19354443857446313,
         0.20067764797713608,
         0.19522286509163678,
         0.19609321593306958,
         0.1966521183028817,
         0.19809514209628104,
         0.19614999303594233,
         0.20013811234384776,
         0.19501020964235066,
         0.1977527394425124,
         0.19621522054076196,
         0.1952142278663814,
         0.19660372007638216,
         0.19706678171642125,
         0.19385911589488386,
         0.19457535720430313,
         0.1979453528765589,
         0.19488461269065738,
         0.1968539089895785,
         0.19744304418563843,
         0.19257153794169427,
         0.19401184627786278,
         0.19712244058027864,
         0.1958176010288298,
         0.19539007763378322,
         0.1965897127520293,
         0.19507474633865057,
         0.19502836922183633,
         0.1976408229675144,
         0.1987972015980631,
         0.1956909393426031,
         0.1945572409313172,
         0.1990179166197777,
         0.19497620584443212,
         0.19089168198406697,
         0.1941804121248424,
         0.19716791296377778,
         0.19555242955684662,
         0.19621692085638642,
         0.19720414872281253,
         0.2008891511010006,
         0.19581857533194125,
         0.19460578211583196,
         0.20122829179745166,
         0.19962853961624205
        ],
        [
         3.915737603791058,
         3.9454744197428226,
         3.8695514453575015,
         3.974149233661592,
         3.9770070193335414,
         3.973351621069014,
         3.8920822395011783,
         3.8499095253646374,
         3.9040136905387044,
         3.9181547686457634,
         3.8831932712346315,
         3.989759912714362,
         3.894379448145628,
         3.939053863286972,
         3.9729178361594677,
         3.9437832152470946,
         3.901961379684508,
         3.8916598297655582,
         4.010089827701449,
         3.9595325039699674,
         3.9289452731609344,
         3.972885614261031,
         3.854434285312891,
         3.9175594924017787,
         3.9409219287335873,
         4.000851597636938,
         3.9232159703969955,
         4.006469698622823,
         3.946382973343134,
         3.9892391180619597,
         4.0360401682555676,
         3.9460459193214774,
         3.9155424712225795,
         3.9709636429324746,
         4.0384141858667135,
         3.9398294957354665,
         3.9066659156233072,
         3.945961097255349,
         3.960932363756001,
         3.9138546446338296,
         3.89236425049603,
         3.9681633431464434,
         3.984835830517113,
         4.0318111861124635,
         3.8771776482462883,
         4.0048912987113,
         3.9736851304769516,
         3.9028711058199406,
         3.98253873642534,
         3.946944994851947,
         3.9229345712810755,
         3.9407631382346153,
         3.9406865146011114,
         3.849814737215638,
         3.9418314741924405,
         3.8708887714892626,
         4.0135529595427215,
         3.9044573018327355,
         3.9218643186613917,
         3.9330423660576344,
         3.961902841925621,
         3.9229998607188463,
         4.002762246876955,
         3.9002041928470135,
         3.955054788850248,
         3.924304410815239,
         3.904284557327628,
         3.932074401527643,
         3.941335634328425,
         3.8771823178976774,
         3.891507144086063,
         3.958907057531178,
         3.8976922538131475,
         3.9370781797915697,
         3.9488608837127686,
         3.851430758833885,
         3.8802369255572557,
         3.9424488116055727,
         3.9163520205765963,
         3.9078015526756644,
         3.931794255040586,
         3.9014949267730117,
         3.9005673844367266,
         3.952816459350288,
         3.9759440319612622,
         3.9138187868520617,
         3.891144818626344,
         3.9803583323955536,
         3.8995241168886423,
         3.8178336396813393,
         3.883608242496848,
         3.9433582592755556,
         3.9110485911369324,
         3.9243384171277285,
         3.9440829744562507,
         4.017783022020012,
         3.916371506638825,
         3.8921156423166394,
         4.0245658359490335,
         3.992570792324841
        ],
        [
         1.1704015032595905,
         1.1829575788639644,
         1.1771836085658625,
         1.192428585965995,
         1.1934960569247812,
         1.1892231668616173,
         1.1720784097043853,
         1.17166160893672,
         1.1904963166284226,
         1.1821785119952029,
         1.1811351795330538,
         1.2051718560773836,
         1.1682857628383576,
         1.1916834575545694,
         1.1997353411116505,
         1.190932008304817,
         1.1718052221651192,
         1.1812705830042434,
         1.203307815799005,
         1.1932057283057114,
         1.1874902419642164,
         1.2013041375245814,
         1.1851972507994537,
         1.1855536395101225,
         1.1945074634461723,
         1.1961232511072806,
         1.185501525981717,
         1.1944115784203146,
         1.1836018101154289,
         1.1948398438642347,
         1.2016001225682151,
         1.1920013414518107,
         1.1898114878173782,
         1.2055795962582738,
         1.2005946469246045,
         1.1868927282794215,
         1.1962645544087525,
         1.1932968983709518,
         1.1907329110585805,
         1.1755981390958865,
         1.18962222821237,
         1.1952007611310942,
         1.192275645504844,
         1.2086240662392815,
         1.1797429257150938,
         1.1998021693713392,
         1.1921558497507987,
         1.1942983594452452,
         1.2011708628325362,
         1.2075338351228166,
         1.181047224618452,
         1.1963708743857562,
         1.2050033917097163,
         1.177389591287787,
         1.1942597417072869,
         1.1871981820757431,
         1.1983821693517047,
         1.179803135317946,
         1.1889232042379505,
         1.192334947749106,
         1.1896058454931981,
         1.1794532637081383,
         1.1960311852073604,
         1.181017853655659,
         1.1860799566374605,
         1.198449058018167,
         1.1835715516949281,
         1.1834025855342147,
         1.1925230046887787,
         1.173936593499989,
         1.1841977015050078,
         1.189962018328723,
         1.1857268629433335,
         1.1798406613496593,
         1.183316545090515,
         1.171563842561641,
         1.1743771572204602,
         1.1872726495530277,
         1.1906100552335934,
         1.1769556046144662,
         1.1981112824632203,
         1.2046079321893428,
         1.188777584983262,
         1.2126375229452595,
         1.2001643154933292,
         1.1740868103431585,
         1.1844076322391475,
         1.2001654552785996,
         1.1798527836125656,
         1.1718436638791996,
         1.1736133471468186,
         1.1839248706446945,
         1.1902054598023533,
         1.18936697681129,
         1.1794705678885629,
         1.1933833318181015,
         1.1919896403146697,
         1.1842206867639862,
         1.2003778930230027,
         1.1930248021823768
        ]
       ],
       "encoder": "json",
       "name": "ABC_GAN_3 Metrics",
       "version": 1
      }
     },
     "metadata": {
      "scrapbook": {
       "data": true,
       "display": false,
       "name": "ABC_GAN_3 Metrics"
      }
     },
     "output_type": "display_data"
    },
    {
     "name": "stdout",
     "output_type": "stream",
     "text": [
      "MSE\n",
      "0.0706822316177202\n"
     ]
    }
   ],
   "source": [
    "ABC_GAN3_metrics=ABC_train_test2.test_generator(gen3,test_data,prior_model,variance,\"3\",device)\n",
    "sb.glue(\"ABC_GAN_3 Metrics\",ABC_GAN3_metrics)\n",
    "\n",
    "print(\"MSE\")\n",
    "print(mean(ABC_GAN3_metrics[0]))"
   ]
  },
  {
   "cell_type": "code",
   "execution_count": 18,
   "id": "c8e46b48",
   "metadata": {
    "execution": {
     "iopub.execute_input": "2022-02-13T14:54:43.389531Z",
     "iopub.status.busy": "2022-02-13T14:54:43.389159Z",
     "iopub.status.idle": "2022-02-13T14:54:43.682706Z",
     "shell.execute_reply": "2022-02-13T14:54:43.683018Z"
    },
    "id": "c8e46b48",
    "papermill": {
     "duration": 0.313148,
     "end_time": "2022-02-13T14:54:43.683143",
     "exception": false,
     "start_time": "2022-02-13T14:54:43.369995",
     "status": "completed"
    },
    "tags": []
   },
   "outputs": [
    {
     "data": {
      "image/png": "[encoded data removed]",
      "text/plain": [
       "<Figure size 432x288 with 1 Axes>"
      ]
     },
     "metadata": {
      "needs_background": "light"
     },
     "output_type": "display_data"
    },
    {
     "data": {
      "image/png": "[encoded data removed]",
      "text/plain": [
       "<Figure size 432x288 with 1 Axes>"
      ]
     },
     "metadata": {
      "needs_background": "light"
     },
     "output_type": "display_data"
    },
    {
     "data": {
      "image/png": "[encoded data removed]",
      "text/plain": [
       "<Figure size 432x288 with 1 Axes>"
      ]
     },
     "metadata": {
      "needs_background": "light"
     },
     "output_type": "display_data"
    },
    {
     "data": {
      "image/png": "[encoded data removed]",
      "text/plain": [
       "<Figure size 432x288 with 1 Axes>"
      ]
     },
     "metadata": {
      "needs_background": "light"
     },
     "output_type": "display_data"
    }
   ],
   "source": [
    "sanityChecks.discProbVsError(train_data,disc3,device)\n",
    "sanityChecks.discProbVsError(test_data,disc3,device)"
   ]
  },
  {
   "cell_type": "markdown",
   "id": "a5bd74c3",
   "metadata": {
    "id": "a5bd74c3",
    "papermill": {
     "duration": 0.019254,
     "end_time": "2022-02-13T14:54:43.722042",
     "exception": false,
     "start_time": "2022-02-13T14:54:43.702788",
     "status": "completed"
    },
    "tags": []
   },
   "source": [
    "## Skip Connection Model Analysis - ABC-GAN "
   ]
  },
  {
   "cell_type": "markdown",
   "id": "5744a8bf",
   "metadata": {
    "id": "5744a8bf",
    "papermill": {
     "duration": 0.018976,
     "end_time": "2022-02-13T14:54:43.760076",
     "exception": false,
     "start_time": "2022-02-13T14:54:43.741100",
     "status": "completed"
    },
    "tags": []
   },
   "source": [
    "### Weight Analysis \n",
    "\n",
    "Study the weights of the skip connection layer\n",
    "\n",
    "Equation of the skip connection is \n",
    "\n",
    "$output = y_{gan} * w + y_{abc} * (1-w)$"
   ]
  },
  {
   "cell_type": "code",
   "execution_count": 19,
   "id": "52c31dea",
   "metadata": {
    "execution": {
     "iopub.execute_input": "2022-02-13T14:54:43.801014Z",
     "iopub.status.busy": "2022-02-13T14:54:43.800640Z",
     "iopub.status.idle": "2022-02-13T14:54:43.804014Z",
     "shell.execute_reply": "2022-02-13T14:54:43.804250Z"
    },
    "id": "52c31dea",
    "papermill": {
     "duration": 0.02527,
     "end_time": "2022-02-13T14:54:43.804363",
     "exception": false,
     "start_time": "2022-02-13T14:54:43.779093",
     "status": "completed"
    },
    "tags": []
   },
   "outputs": [
    {
     "name": "stdout",
     "output_type": "stream",
     "text": [
      "Weight of the node at skip connection\n",
      "Parameter containing:\n",
      "tensor([[0.0270]], requires_grad=True)\n"
     ]
    },
    {
     "data": {
      "application/scrapbook.scrap.json+json": {
       "data": 0.026962438598275185,
       "encoder": "json",
       "name": "Skip Connection Weight",
       "version": 1
      }
     },
     "metadata": {
      "scrapbook": {
       "data": true,
       "display": false,
       "name": "Skip Connection Weight"
      }
     },
     "output_type": "display_data"
    }
   ],
   "source": [
    "print(\"Weight of the node at skip connection\")\n",
    "for name,param in gen3.named_parameters():\n",
    "    if(name == \"skipNode.weight\"):\n",
    "        print(param)\n",
    "        sb.glue(\"Skip Connection Weight\",param.item())"
   ]
  }
 ],
 "metadata": {
  "colab": {
   "collapsed_sections": [],
   "name": "ABC_GAN_Model-Catboost_Pre-gen.ipynb",
   "provenance": []
  },
  "interpreter": {
   "hash": "31f2aee4e71d21fbe5cf8b01ff0e069b9275f58929596ceb00d14d90e3e16cd6"
  },
  "kernelspec": {
   "display_name": "Python 3 (ipykernel)",
   "language": "python",
   "name": "python3"
  },
  "language_info": {
   "codemirror_mode": {
    "name": "ipython",
    "version": 3
   },
   "file_extension": ".py",
   "mimetype": "text/x-python",
   "name": "python",
   "nbconvert_exporter": "python",
   "pygments_lexer": "ipython3",
   "version": "3.8.11"
  },
  "papermill": {
   "default_parameters": {},
   "duration": 54.057797,
   "end_time": "2022-02-13T14:54:44.131030",
   "environment_variables": {},
   "exception": null,
   "input_path": "ABC_GAN-Catboost.ipynb",
   "output_path": "./ABC_GAN_Catboost/ABC-GAN_output_5_2.ipynb",
   "parameters": {
    "variance": 0.01
   },
   "start_time": "2022-02-13T14:53:50.073233",
   "version": "2.3.3"
  }
 },
 "nbformat": 4,
 "nbformat_minor": 5
}