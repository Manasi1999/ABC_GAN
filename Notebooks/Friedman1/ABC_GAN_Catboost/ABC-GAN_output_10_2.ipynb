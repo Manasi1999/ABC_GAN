{
 "cells": [
  {
   "cell_type": "markdown",
   "id": "622780e6",
   "metadata": {
    "id": "622780e6",
    "papermill": {
     "duration": 0.028684,
     "end_time": "2022-02-13T15:07:53.149361",
     "exception": false,
     "start_time": "2022-02-13T15:07:53.120677",
     "status": "completed"
    },
    "tags": []
   },
   "source": [
    "## Import Libraries "
   ]
  },
  {
   "cell_type": "code",
   "execution_count": 1,
   "id": "a62397e3",
   "metadata": {
    "execution": {
     "iopub.execute_input": "2022-02-13T15:07:53.187220Z",
     "iopub.status.busy": "2022-02-13T15:07:53.186660Z",
     "iopub.status.idle": "2022-02-13T15:07:53.189164Z",
     "shell.execute_reply": "2022-02-13T15:07:53.189554Z"
    },
    "id": "a62397e3",
    "papermill": {
     "duration": 0.024678,
     "end_time": "2022-02-13T15:07:53.189793",
     "exception": false,
     "start_time": "2022-02-13T15:07:53.165115",
     "status": "completed"
    },
    "tags": []
   },
   "outputs": [],
   "source": [
    "import warnings\n",
    "import sys\n",
    "sys.path.insert(0, '../../src')\n",
    "warnings.filterwarnings('ignore')"
   ]
  },
  {
   "cell_type": "code",
   "execution_count": 2,
   "id": "d6a4e155",
   "metadata": {
    "execution": {
     "iopub.execute_input": "2022-02-13T15:07:53.211211Z",
     "iopub.status.busy": "2022-02-13T15:07:53.210808Z",
     "iopub.status.idle": "2022-02-13T15:07:54.905421Z",
     "shell.execute_reply": "2022-02-13T15:07:54.905672Z"
    },
    "id": "d6a4e155",
    "papermill": {
     "duration": 1.705757,
     "end_time": "2022-02-13T15:07:54.905797",
     "exception": false,
     "start_time": "2022-02-13T15:07:53.200040",
     "status": "completed"
    },
    "tags": []
   },
   "outputs": [],
   "source": [
    "import ABC_train_test2\n",
    "import friedman1Dataset\n",
    "import network\n",
    "import dataset\n",
    "import sanityChecks\n",
    "import torch \n",
    "import scrapbook as sb\n",
    "from statistics import mean \n",
    "import catboost as ctb \n",
    "from sklearn.model_selection import train_test_split\n",
    "from sklearn.metrics import mean_squared_error,mean_absolute_error\n",
    "import numpy as np"
   ]
  },
  {
   "cell_type": "markdown",
   "id": "2fa5b0f7",
   "metadata": {
    "id": "2fa5b0f7",
    "papermill": {
     "duration": 0.00685,
     "end_time": "2022-02-13T15:07:54.919791",
     "exception": false,
     "start_time": "2022-02-13T15:07:54.912941",
     "status": "completed"
    },
    "tags": []
   },
   "source": [
    "## Parameters "
   ]
  },
  {
   "cell_type": "code",
   "execution_count": 3,
   "id": "783186fb",
   "metadata": {
    "execution": {
     "iopub.execute_input": "2022-02-13T15:07:54.935584Z",
     "iopub.status.busy": "2022-02-13T15:07:54.935222Z",
     "iopub.status.idle": "2022-02-13T15:07:54.936551Z",
     "shell.execute_reply": "2022-02-13T15:07:54.936802Z"
    },
    "id": "783186fb",
    "papermill": {
     "duration": 0.010346,
     "end_time": "2022-02-13T15:07:54.936912",
     "exception": false,
     "start_time": "2022-02-13T15:07:54.926566",
     "status": "completed"
    },
    "tags": [
     "parameters"
    ]
   },
   "outputs": [],
   "source": [
    "variance = 1"
   ]
  },
  {
   "cell_type": "code",
   "execution_count": 4,
   "id": "4599b025",
   "metadata": {
    "execution": {
     "iopub.execute_input": "2022-02-13T15:07:54.952577Z",
     "iopub.status.busy": "2022-02-13T15:07:54.952229Z",
     "iopub.status.idle": "2022-02-13T15:07:54.953542Z",
     "shell.execute_reply": "2022-02-13T15:07:54.953797Z"
    },
    "papermill": {
     "duration": 0.010049,
     "end_time": "2022-02-13T15:07:54.953906",
     "exception": false,
     "start_time": "2022-02-13T15:07:54.943857",
     "status": "completed"
    },
    "tags": [
     "injected-parameters"
    ]
   },
   "outputs": [],
   "source": [
    "# Parameters\n",
    "variance = 0.01\n"
   ]
  },
  {
   "cell_type": "markdown",
   "id": "391cdbfd",
   "metadata": {
    "id": "391cdbfd",
    "papermill": {
     "duration": 0.006847,
     "end_time": "2022-02-13T15:07:54.967731",
     "exception": false,
     "start_time": "2022-02-13T15:07:54.960884",
     "status": "completed"
    },
    "tags": []
   },
   "source": [
    "## Dataset \n"
   ]
  },
  {
   "cell_type": "code",
   "execution_count": 5,
   "id": "5b51f161",
   "metadata": {
    "execution": {
     "iopub.execute_input": "2022-02-13T15:07:54.983423Z",
     "iopub.status.busy": "2022-02-13T15:07:54.983067Z",
     "iopub.status.idle": "2022-02-13T15:07:54.984290Z",
     "shell.execute_reply": "2022-02-13T15:07:54.984534Z"
    },
    "id": "5b51f161",
    "papermill": {
     "duration": 0.010068,
     "end_time": "2022-02-13T15:07:54.984649",
     "exception": false,
     "start_time": "2022-02-13T15:07:54.974581",
     "status": "completed"
    },
    "tags": []
   },
   "outputs": [],
   "source": [
    "#Parameters \n",
    "n_features = 5\n",
    "n_samples= 100\n",
    "n_target = 1 "
   ]
  },
  {
   "cell_type": "code",
   "execution_count": 6,
   "id": "5d6eced4",
   "metadata": {
    "execution": {
     "iopub.execute_input": "2022-02-13T15:07:55.001639Z",
     "iopub.status.busy": "2022-02-13T15:07:55.000266Z",
     "iopub.status.idle": "2022-02-13T15:07:55.006516Z",
     "shell.execute_reply": "2022-02-13T15:07:55.006805Z"
    },
    "id": "5d6eced4",
    "papermill": {
     "duration": 0.015316,
     "end_time": "2022-02-13T15:07:55.006921",
     "exception": false,
     "start_time": "2022-02-13T15:07:54.991605",
     "status": "completed"
    },
    "tags": []
   },
   "outputs": [
    {
     "name": "stdout",
     "output_type": "stream",
     "text": [
      "         X0        X1        X2        X3        X4         Y\n",
      "0  0.083179 -0.590772  0.937081 -0.816907 -0.517349 -0.758209\n",
      "1  0.852879  0.192401 -0.708522  1.563254 -0.680839  1.504991\n",
      "2  0.068355  1.022328  1.449088  1.520096 -1.420058  1.861049\n",
      "3 -0.504960  1.133245  0.160739 -1.504992  1.317542 -0.405656\n",
      "4 -0.031200  0.890577 -0.715586  0.148672  1.475524  1.084656\n"
     ]
    }
   ],
   "source": [
    "X,Y = friedman1Dataset.friedman1_data(n_samples,n_features)"
   ]
  },
  {
   "cell_type": "code",
   "execution_count": 7,
   "id": "fe007438",
   "metadata": {
    "execution": {
     "iopub.execute_input": "2022-02-13T15:07:55.024275Z",
     "iopub.status.busy": "2022-02-13T15:07:55.023912Z",
     "iopub.status.idle": "2022-02-13T15:07:55.025318Z",
     "shell.execute_reply": "2022-02-13T15:07:55.025568Z"
    },
    "id": "fe007438",
    "papermill": {
     "duration": 0.011297,
     "end_time": "2022-02-13T15:07:55.025677",
     "exception": false,
     "start_time": "2022-02-13T15:07:55.014380",
     "status": "completed"
    },
    "tags": []
   },
   "outputs": [],
   "source": [
    "#Train test split for dataset \n",
    "X_train,X_test,Y_train,Y_test = train_test_split(X,Y,test_size = 0.2)\n",
    "train_data = dataset.CustomDataset(X_train,Y_train)\n",
    "test_data = dataset.CustomDataset(X_test,Y_test)\n"
   ]
  },
  {
   "cell_type": "markdown",
   "id": "a9a1af34",
   "metadata": {
    "id": "a9a1af34",
    "papermill": {
     "duration": 0.007129,
     "end_time": "2022-02-13T15:07:55.040052",
     "exception": false,
     "start_time": "2022-02-13T15:07:55.032923",
     "status": "completed"
    },
    "tags": []
   },
   "source": [
    "## Training Parameters "
   ]
  },
  {
   "cell_type": "code",
   "execution_count": 8,
   "id": "952b7fc8",
   "metadata": {
    "execution": {
     "iopub.execute_input": "2022-02-13T15:07:55.056660Z",
     "iopub.status.busy": "2022-02-13T15:07:55.056294Z",
     "iopub.status.idle": "2022-02-13T15:07:55.057625Z",
     "shell.execute_reply": "2022-02-13T15:07:55.057861Z"
    },
    "id": "952b7fc8",
    "papermill": {
     "duration": 0.010807,
     "end_time": "2022-02-13T15:07:55.057969",
     "exception": false,
     "start_time": "2022-02-13T15:07:55.047162",
     "status": "completed"
    },
    "tags": []
   },
   "outputs": [],
   "source": [
    "batch_size = 32\n",
    "n_epochs = 1000\n",
    "#Select the device \n",
    "device = torch.device('cuda' if torch.cuda.is_available() else 'cpu')"
   ]
  },
  {
   "cell_type": "markdown",
   "id": "a95e1600",
   "metadata": {
    "id": "a95e1600",
    "papermill": {
     "duration": 0.007108,
     "end_time": "2022-02-13T15:07:55.072326",
     "exception": false,
     "start_time": "2022-02-13T15:07:55.065218",
     "status": "completed"
    },
    "tags": []
   },
   "source": [
    "# ABC Pre-generator Model \n",
    "\n",
    "1. The catboost model is used as a pre-generator model for the ABC-GAN. \n",
    "2. The model is first trained on the entire dataset \n",
    "3. It generats X,Y pairs and we add some Gaussian noise with mean 0 and variance 1 to it which is then feed as input to the generator.\n"
   ]
  },
  {
   "cell_type": "code",
   "execution_count": 9,
   "id": "ff8ce7bd",
   "metadata": {
    "execution": {
     "iopub.execute_input": "2022-02-13T15:07:55.090327Z",
     "iopub.status.busy": "2022-02-13T15:07:55.089921Z",
     "iopub.status.idle": "2022-02-13T15:07:55.729666Z",
     "shell.execute_reply": "2022-02-13T15:07:55.730003Z"
    },
    "id": "ff8ce7bd",
    "papermill": {
     "duration": 0.650569,
     "end_time": "2022-02-13T15:07:55.730131",
     "exception": false,
     "start_time": "2022-02-13T15:07:55.079562",
     "status": "completed"
    },
    "tags": []
   },
   "outputs": [
    {
     "name": "stdout",
     "output_type": "stream",
     "text": [
      "Learning rate set to 0.024897\n",
      "0:\tlearn: 0.9509257\ttotal: 57ms\tremaining: 57s\n",
      "1:\tlearn: 0.9399338\ttotal: 57.5ms\tremaining: 28.7s\n",
      "2:\tlearn: 0.9307677\ttotal: 58ms\tremaining: 19.3s\n",
      "3:\tlearn: 0.9204628\ttotal: 58.5ms\tremaining: 14.6s\n",
      "4:\tlearn: 0.9124608\ttotal: 59ms\tremaining: 11.7s\n",
      "5:\tlearn: 0.9039020\ttotal: 59.5ms\tremaining: 9.85s\n",
      "6:\tlearn: 0.8939145\ttotal: 59.9ms\tremaining: 8.5s\n",
      "7:\tlearn: 0.8845514\ttotal: 60.3ms\tremaining: 7.47s\n",
      "8:\tlearn: 0.8768578\ttotal: 60.8ms\tremaining: 6.69s\n",
      "9:\tlearn: 0.8685391\ttotal: 61.2ms\tremaining: 6.06s\n",
      "10:\tlearn: 0.8595782\ttotal: 61.7ms\tremaining: 5.55s\n",
      "11:\tlearn: 0.8499501\ttotal: 62.2ms\tremaining: 5.12s\n",
      "12:\tlearn: 0.8404924\ttotal: 62.9ms\tremaining: 4.78s\n",
      "13:\tlearn: 0.8333263\ttotal: 63.4ms\tremaining: 4.46s\n",
      "14:\tlearn: 0.8265823\ttotal: 64ms\tremaining: 4.2s\n",
      "15:\tlearn: 0.8193560\ttotal: 64.5ms\tremaining: 3.97s\n",
      "16:\tlearn: 0.8122088\ttotal: 65ms\tremaining: 3.76s\n",
      "17:\tlearn: 0.8048232\ttotal: 65.5ms\tremaining: 3.58s\n",
      "18:\tlearn: 0.7967334\ttotal: 66.1ms\tremaining: 3.41s\n",
      "19:\tlearn: 0.7897880\ttotal: 66.5ms\tremaining: 3.26s\n",
      "20:\tlearn: 0.7831139\ttotal: 66.9ms\tremaining: 3.12s\n",
      "21:\tlearn: 0.7757710\ttotal: 67.3ms\tremaining: 2.99s\n",
      "22:\tlearn: 0.7686073\ttotal: 67.8ms\tremaining: 2.88s\n",
      "23:\tlearn: 0.7605715\ttotal: 68.2ms\tremaining: 2.77s\n",
      "24:\tlearn: 0.7541476\ttotal: 68.7ms\tremaining: 2.68s\n",
      "25:\tlearn: 0.7474205\ttotal: 69.1ms\tremaining: 2.59s\n",
      "26:\tlearn: 0.7411696\ttotal: 69.5ms\tremaining: 2.5s\n",
      "27:\tlearn: 0.7345707\ttotal: 69.9ms\tremaining: 2.43s\n",
      "28:\tlearn: 0.7268948\ttotal: 70.5ms\tremaining: 2.36s\n",
      "29:\tlearn: 0.7211974\ttotal: 71ms\tremaining: 2.29s\n",
      "30:\tlearn: 0.7140204\ttotal: 71.4ms\tremaining: 2.23s\n",
      "31:\tlearn: 0.7067033\ttotal: 72ms\tremaining: 2.18s\n",
      "32:\tlearn: 0.7003069\ttotal: 72.6ms\tremaining: 2.13s\n",
      "33:\tlearn: 0.6936801\ttotal: 73ms\tremaining: 2.07s\n",
      "34:\tlearn: 0.6876459\ttotal: 73.6ms\tremaining: 2.03s\n",
      "35:\tlearn: 0.6813294\ttotal: 73.9ms\tremaining: 1.98s\n",
      "36:\tlearn: 0.6745398\ttotal: 74.3ms\tremaining: 1.93s\n",
      "37:\tlearn: 0.6688234\ttotal: 74.7ms\tremaining: 1.89s\n",
      "38:\tlearn: 0.6632879\ttotal: 75.1ms\tremaining: 1.85s\n",
      "39:\tlearn: 0.6587148\ttotal: 75.4ms\tremaining: 1.81s\n",
      "40:\tlearn: 0.6537052\ttotal: 75.8ms\tremaining: 1.77s\n",
      "41:\tlearn: 0.6481729\ttotal: 76.2ms\tremaining: 1.74s\n",
      "42:\tlearn: 0.6431624\ttotal: 76.6ms\tremaining: 1.7s\n",
      "43:\tlearn: 0.6369818\ttotal: 77ms\tremaining: 1.67s\n",
      "44:\tlearn: 0.6308571\ttotal: 77.4ms\tremaining: 1.64s\n",
      "45:\tlearn: 0.6249095\ttotal: 77.9ms\tremaining: 1.61s\n",
      "46:\tlearn: 0.6199450\ttotal: 78.4ms\tremaining: 1.59s\n",
      "47:\tlearn: 0.6142495\ttotal: 78.7ms\tremaining: 1.56s\n",
      "48:\tlearn: 0.6097601\ttotal: 79.2ms\tremaining: 1.54s\n",
      "49:\tlearn: 0.6053607\ttotal: 79.7ms\tremaining: 1.51s\n",
      "50:\tlearn: 0.6000752\ttotal: 80.8ms\tremaining: 1.5s\n",
      "51:\tlearn: 0.5947429\ttotal: 81.3ms\tremaining: 1.48s\n",
      "52:\tlearn: 0.5898423\ttotal: 81.8ms\tremaining: 1.46s\n",
      "53:\tlearn: 0.5852957\ttotal: 82.2ms\tremaining: 1.44s\n",
      "54:\tlearn: 0.5799454\ttotal: 82.7ms\tremaining: 1.42s\n",
      "55:\tlearn: 0.5756726\ttotal: 83.1ms\tremaining: 1.4s\n",
      "56:\tlearn: 0.5709553\ttotal: 83.7ms\tremaining: 1.38s\n",
      "57:\tlearn: 0.5660670\ttotal: 84ms\tremaining: 1.36s\n",
      "58:\tlearn: 0.5615140\ttotal: 84.6ms\tremaining: 1.35s\n",
      "59:\tlearn: 0.5571780\ttotal: 85.1ms\tremaining: 1.33s\n",
      "60:\tlearn: 0.5519535\ttotal: 85.5ms\tremaining: 1.31s\n",
      "61:\tlearn: 0.5476997\ttotal: 86.1ms\tremaining: 1.3s\n",
      "62:\tlearn: 0.5425380\ttotal: 86.5ms\tremaining: 1.29s\n",
      "63:\tlearn: 0.5390153\ttotal: 87ms\tremaining: 1.27s\n",
      "64:\tlearn: 0.5346414\ttotal: 87.6ms\tremaining: 1.26s\n",
      "65:\tlearn: 0.5305874\ttotal: 88ms\tremaining: 1.25s\n",
      "66:\tlearn: 0.5260599\ttotal: 88.4ms\tremaining: 1.23s\n",
      "67:\tlearn: 0.5221670\ttotal: 88.9ms\tremaining: 1.22s\n",
      "68:\tlearn: 0.5176964\ttotal: 89.4ms\tremaining: 1.21s\n",
      "69:\tlearn: 0.5141074\ttotal: 89.8ms\tremaining: 1.19s\n",
      "70:\tlearn: 0.5097516\ttotal: 90.2ms\tremaining: 1.18s\n",
      "71:\tlearn: 0.5062915\ttotal: 90.6ms\tremaining: 1.17s\n",
      "72:\tlearn: 0.5021422\ttotal: 91.1ms\tremaining: 1.16s\n",
      "73:\tlearn: 0.4984005\ttotal: 91.6ms\tremaining: 1.15s\n",
      "74:\tlearn: 0.4946496\ttotal: 92.1ms\tremaining: 1.14s\n",
      "75:\tlearn: 0.4910212\ttotal: 92.4ms\tremaining: 1.12s\n",
      "76:\tlearn: 0.4867088\ttotal: 92.8ms\tremaining: 1.11s\n",
      "77:\tlearn: 0.4833984\ttotal: 93.2ms\tremaining: 1.1s\n",
      "78:\tlearn: 0.4800624\ttotal: 93.7ms\tremaining: 1.09s\n",
      "79:\tlearn: 0.4767520\ttotal: 94ms\tremaining: 1.08s\n",
      "80:\tlearn: 0.4736595\ttotal: 94.4ms\tremaining: 1.07s\n",
      "81:\tlearn: 0.4702049\ttotal: 95ms\tremaining: 1.06s\n",
      "82:\tlearn: 0.4659316\ttotal: 95.4ms\tremaining: 1.05s\n",
      "83:\tlearn: 0.4617914\ttotal: 95.9ms\tremaining: 1.04s\n",
      "84:\tlearn: 0.4577775\ttotal: 96.3ms\tremaining: 1.04s\n",
      "85:\tlearn: 0.4540817\ttotal: 96.7ms\tremaining: 1.03s\n",
      "86:\tlearn: 0.4506993\ttotal: 97.1ms\tremaining: 1.02s\n",
      "87:\tlearn: 0.4474993\ttotal: 97.5ms\tremaining: 1.01s\n",
      "88:\tlearn: 0.4440071\ttotal: 97.9ms\tremaining: 1s\n",
      "89:\tlearn: 0.4401676\ttotal: 98.3ms\tremaining: 994ms\n",
      "90:\tlearn: 0.4376593\ttotal: 98.8ms\tremaining: 987ms\n",
      "91:\tlearn: 0.4337694\ttotal: 99.1ms\tremaining: 978ms\n",
      "92:\tlearn: 0.4304128\ttotal: 99.6ms\tremaining: 972ms\n",
      "93:\tlearn: 0.4274591\ttotal: 100ms\tremaining: 965ms\n",
      "94:\tlearn: 0.4242094\ttotal: 101ms\tremaining: 958ms\n",
      "95:\tlearn: 0.4209032\ttotal: 101ms\tremaining: 951ms\n",
      "96:\tlearn: 0.4174748\ttotal: 102ms\tremaining: 945ms\n",
      "97:\tlearn: 0.4151606\ttotal: 102ms\tremaining: 938ms\n",
      "98:\tlearn: 0.4123541\ttotal: 102ms\tremaining: 932ms\n",
      "99:\tlearn: 0.4094049\ttotal: 103ms\tremaining: 926ms\n",
      "100:\tlearn: 0.4069452\ttotal: 103ms\tremaining: 919ms\n",
      "101:\tlearn: 0.4037706\ttotal: 104ms\tremaining: 913ms\n",
      "102:\tlearn: 0.4010624\ttotal: 104ms\tremaining: 908ms\n",
      "103:\tlearn: 0.3982681\ttotal: 105ms\tremaining: 903ms\n",
      "104:\tlearn: 0.3956165\ttotal: 105ms\tremaining: 898ms\n",
      "105:\tlearn: 0.3925908\ttotal: 106ms\tremaining: 893ms\n",
      "106:\tlearn: 0.3896654\ttotal: 106ms\tremaining: 888ms\n",
      "107:\tlearn: 0.3872612\ttotal: 107ms\tremaining: 882ms\n",
      "108:\tlearn: 0.3848345\ttotal: 107ms\tremaining: 877ms\n"
     ]
    },
    {
     "name": "stdout",
     "output_type": "stream",
     "text": [
      "109:\tlearn: 0.3821726\ttotal: 108ms\tremaining: 875ms\n",
      "110:\tlearn: 0.3795443\ttotal: 109ms\tremaining: 871ms\n",
      "111:\tlearn: 0.3768292\ttotal: 109ms\tremaining: 865ms\n",
      "112:\tlearn: 0.3741903\ttotal: 109ms\tremaining: 859ms\n",
      "113:\tlearn: 0.3716761\ttotal: 110ms\tremaining: 854ms\n",
      "114:\tlearn: 0.3684338\ttotal: 110ms\tremaining: 848ms\n",
      "115:\tlearn: 0.3659915\ttotal: 111ms\tremaining: 844ms\n",
      "116:\tlearn: 0.3635170\ttotal: 111ms\tremaining: 838ms\n",
      "117:\tlearn: 0.3610748\ttotal: 112ms\tremaining: 834ms\n",
      "118:\tlearn: 0.3586625\ttotal: 112ms\tremaining: 832ms\n",
      "119:\tlearn: 0.3563542\ttotal: 113ms\tremaining: 828ms\n",
      "120:\tlearn: 0.3540984\ttotal: 113ms\tremaining: 823ms\n",
      "121:\tlearn: 0.3518324\ttotal: 114ms\tremaining: 818ms\n",
      "122:\tlearn: 0.3489710\ttotal: 114ms\tremaining: 813ms\n",
      "123:\tlearn: 0.3466337\ttotal: 114ms\tremaining: 808ms\n",
      "124:\tlearn: 0.3446648\ttotal: 115ms\tremaining: 804ms\n",
      "125:\tlearn: 0.3423402\ttotal: 115ms\tremaining: 800ms\n",
      "126:\tlearn: 0.3396510\ttotal: 116ms\tremaining: 795ms\n",
      "127:\tlearn: 0.3372138\ttotal: 116ms\tremaining: 791ms\n",
      "128:\tlearn: 0.3351196\ttotal: 116ms\tremaining: 786ms\n",
      "129:\tlearn: 0.3333776\ttotal: 117ms\tremaining: 782ms\n",
      "130:\tlearn: 0.3311961\ttotal: 117ms\tremaining: 778ms\n",
      "131:\tlearn: 0.3293052\ttotal: 118ms\tremaining: 774ms\n",
      "132:\tlearn: 0.3272516\ttotal: 118ms\tremaining: 769ms\n",
      "133:\tlearn: 0.3248564\ttotal: 118ms\tremaining: 765ms\n",
      "134:\tlearn: 0.3223834\ttotal: 119ms\tremaining: 761ms\n",
      "135:\tlearn: 0.3203422\ttotal: 119ms\tremaining: 757ms\n",
      "136:\tlearn: 0.3184152\ttotal: 120ms\tremaining: 753ms\n",
      "137:\tlearn: 0.3163232\ttotal: 120ms\tremaining: 749ms\n",
      "138:\tlearn: 0.3144782\ttotal: 120ms\tremaining: 745ms\n",
      "139:\tlearn: 0.3121131\ttotal: 121ms\tremaining: 742ms\n",
      "140:\tlearn: 0.3105948\ttotal: 121ms\tremaining: 738ms\n",
      "141:\tlearn: 0.3087086\ttotal: 122ms\tremaining: 735ms\n",
      "142:\tlearn: 0.3069088\ttotal: 122ms\tremaining: 733ms\n",
      "143:\tlearn: 0.3050651\ttotal: 123ms\tremaining: 729ms\n",
      "144:\tlearn: 0.3032295\ttotal: 123ms\tremaining: 726ms\n",
      "145:\tlearn: 0.3010584\ttotal: 123ms\tremaining: 722ms\n",
      "146:\tlearn: 0.2988481\ttotal: 124ms\tremaining: 719ms\n",
      "147:\tlearn: 0.2970794\ttotal: 124ms\tremaining: 715ms\n",
      "148:\tlearn: 0.2952897\ttotal: 125ms\tremaining: 712ms\n",
      "149:\tlearn: 0.2931509\ttotal: 125ms\tremaining: 709ms\n",
      "150:\tlearn: 0.2909991\ttotal: 125ms\tremaining: 705ms\n",
      "151:\tlearn: 0.2891034\ttotal: 126ms\tremaining: 704ms\n",
      "152:\tlearn: 0.2867548\ttotal: 127ms\tremaining: 704ms\n",
      "153:\tlearn: 0.2847780\ttotal: 128ms\tremaining: 703ms\n",
      "154:\tlearn: 0.2829965\ttotal: 128ms\tremaining: 700ms\n",
      "155:\tlearn: 0.2812969\ttotal: 129ms\tremaining: 698ms\n",
      "156:\tlearn: 0.2796028\ttotal: 129ms\tremaining: 695ms\n",
      "157:\tlearn: 0.2775740\ttotal: 130ms\tremaining: 692ms\n",
      "158:\tlearn: 0.2759049\ttotal: 130ms\tremaining: 690ms\n",
      "159:\tlearn: 0.2742551\ttotal: 131ms\tremaining: 688ms\n",
      "160:\tlearn: 0.2724919\ttotal: 132ms\tremaining: 686ms\n",
      "161:\tlearn: 0.2708430\ttotal: 132ms\tremaining: 685ms\n",
      "162:\tlearn: 0.2691805\ttotal: 133ms\tremaining: 682ms\n",
      "163:\tlearn: 0.2672747\ttotal: 133ms\tremaining: 679ms\n",
      "164:\tlearn: 0.2659563\ttotal: 134ms\tremaining: 676ms\n",
      "165:\tlearn: 0.2646478\ttotal: 134ms\tremaining: 673ms\n",
      "166:\tlearn: 0.2636066\ttotal: 134ms\tremaining: 670ms\n",
      "167:\tlearn: 0.2622596\ttotal: 135ms\tremaining: 668ms\n",
      "168:\tlearn: 0.2605789\ttotal: 135ms\tremaining: 665ms\n",
      "169:\tlearn: 0.2588545\ttotal: 136ms\tremaining: 663ms\n",
      "170:\tlearn: 0.2567820\ttotal: 136ms\tremaining: 661ms\n",
      "171:\tlearn: 0.2555418\ttotal: 137ms\tremaining: 659ms\n",
      "172:\tlearn: 0.2539011\ttotal: 138ms\tremaining: 657ms\n",
      "173:\tlearn: 0.2520334\ttotal: 138ms\tremaining: 655ms\n",
      "174:\tlearn: 0.2503454\ttotal: 138ms\tremaining: 653ms\n",
      "175:\tlearn: 0.2485771\ttotal: 139ms\tremaining: 651ms\n",
      "176:\tlearn: 0.2471205\ttotal: 139ms\tremaining: 648ms\n",
      "177:\tlearn: 0.2455394\ttotal: 140ms\tremaining: 646ms\n",
      "178:\tlearn: 0.2438664\ttotal: 140ms\tremaining: 644ms\n",
      "179:\tlearn: 0.2425148\ttotal: 141ms\tremaining: 641ms\n",
      "180:\tlearn: 0.2410261\ttotal: 141ms\tremaining: 639ms\n",
      "181:\tlearn: 0.2395578\ttotal: 142ms\tremaining: 637ms\n",
      "182:\tlearn: 0.2380051\ttotal: 142ms\tremaining: 635ms\n",
      "183:\tlearn: 0.2364610\ttotal: 142ms\tremaining: 632ms\n",
      "184:\tlearn: 0.2348930\ttotal: 143ms\tremaining: 629ms\n",
      "185:\tlearn: 0.2336702\ttotal: 143ms\tremaining: 626ms\n",
      "186:\tlearn: 0.2320457\ttotal: 144ms\tremaining: 624ms\n",
      "187:\tlearn: 0.2303909\ttotal: 144ms\tremaining: 622ms\n",
      "188:\tlearn: 0.2291448\ttotal: 144ms\tremaining: 619ms\n",
      "189:\tlearn: 0.2276971\ttotal: 145ms\tremaining: 616ms\n",
      "190:\tlearn: 0.2261772\ttotal: 145ms\tremaining: 614ms\n",
      "191:\tlearn: 0.2248122\ttotal: 145ms\tremaining: 612ms\n",
      "192:\tlearn: 0.2228144\ttotal: 146ms\tremaining: 609ms\n",
      "193:\tlearn: 0.2210635\ttotal: 146ms\tremaining: 607ms\n",
      "194:\tlearn: 0.2197957\ttotal: 147ms\tremaining: 606ms\n",
      "195:\tlearn: 0.2184497\ttotal: 147ms\tremaining: 603ms\n",
      "196:\tlearn: 0.2169266\ttotal: 148ms\tremaining: 602ms\n",
      "197:\tlearn: 0.2154617\ttotal: 148ms\tremaining: 600ms\n",
      "198:\tlearn: 0.2141433\ttotal: 149ms\tremaining: 598ms\n",
      "199:\tlearn: 0.2127978\ttotal: 149ms\tremaining: 596ms\n",
      "200:\tlearn: 0.2112105\ttotal: 149ms\tremaining: 593ms\n",
      "201:\tlearn: 0.2099359\ttotal: 150ms\tremaining: 594ms\n",
      "202:\tlearn: 0.2086530\ttotal: 151ms\tremaining: 592ms\n",
      "203:\tlearn: 0.2072244\ttotal: 151ms\tremaining: 589ms\n",
      "204:\tlearn: 0.2056833\ttotal: 151ms\tremaining: 587ms\n",
      "205:\tlearn: 0.2042290\ttotal: 152ms\tremaining: 585ms\n",
      "206:\tlearn: 0.2029665\ttotal: 152ms\tremaining: 583ms\n",
      "207:\tlearn: 0.2014720\ttotal: 153ms\tremaining: 581ms\n",
      "208:\tlearn: 0.2003219\ttotal: 153ms\tremaining: 579ms\n",
      "209:\tlearn: 0.1986136\ttotal: 153ms\tremaining: 577ms\n",
      "210:\tlearn: 0.1974694\ttotal: 154ms\tremaining: 575ms\n",
      "211:\tlearn: 0.1962652\ttotal: 154ms\tremaining: 573ms\n",
      "212:\tlearn: 0.1951480\ttotal: 155ms\tremaining: 571ms\n",
      "213:\tlearn: 0.1938832\ttotal: 155ms\tremaining: 569ms\n",
      "214:\tlearn: 0.1927101\ttotal: 155ms\tremaining: 567ms\n",
      "215:\tlearn: 0.1916128\ttotal: 156ms\tremaining: 565ms\n",
      "216:\tlearn: 0.1904239\ttotal: 156ms\tremaining: 563ms\n",
      "217:\tlearn: 0.1890610\ttotal: 156ms\tremaining: 561ms\n",
      "218:\tlearn: 0.1880164\ttotal: 157ms\tremaining: 559ms\n",
      "219:\tlearn: 0.1868687\ttotal: 157ms\tremaining: 557ms\n",
      "220:\tlearn: 0.1859381\ttotal: 157ms\tremaining: 555ms\n",
      "221:\tlearn: 0.1846609\ttotal: 158ms\tremaining: 555ms\n",
      "222:\tlearn: 0.1836410\ttotal: 159ms\tremaining: 553ms\n",
      "223:\tlearn: 0.1822541\ttotal: 159ms\tremaining: 552ms\n",
      "224:\tlearn: 0.1810623\ttotal: 160ms\tremaining: 552ms\n",
      "225:\tlearn: 0.1798898\ttotal: 161ms\tremaining: 551ms\n",
      "226:\tlearn: 0.1788249\ttotal: 162ms\tremaining: 551ms\n",
      "227:\tlearn: 0.1781776\ttotal: 162ms\tremaining: 549ms\n",
      "228:\tlearn: 0.1768554\ttotal: 163ms\tremaining: 547ms\n",
      "229:\tlearn: 0.1755848\ttotal: 163ms\tremaining: 546ms\n",
      "230:\tlearn: 0.1745174\ttotal: 164ms\tremaining: 544ms\n",
      "231:\tlearn: 0.1734550\ttotal: 164ms\tremaining: 543ms\n",
      "232:\tlearn: 0.1721700\ttotal: 165ms\tremaining: 542ms\n",
      "233:\tlearn: 0.1712572\ttotal: 165ms\tremaining: 541ms\n",
      "234:\tlearn: 0.1703388\ttotal: 166ms\tremaining: 540ms\n",
      "235:\tlearn: 0.1692649\ttotal: 166ms\tremaining: 538ms\n",
      "236:\tlearn: 0.1680393\ttotal: 167ms\tremaining: 537ms\n",
      "237:\tlearn: 0.1667270\ttotal: 167ms\tremaining: 535ms\n",
      "238:\tlearn: 0.1656592\ttotal: 168ms\tremaining: 534ms\n",
      "239:\tlearn: 0.1649813\ttotal: 168ms\tremaining: 533ms\n",
      "240:\tlearn: 0.1639335\ttotal: 169ms\tremaining: 531ms\n",
      "241:\tlearn: 0.1629699\ttotal: 169ms\tremaining: 530ms\n",
      "242:\tlearn: 0.1621581\ttotal: 169ms\tremaining: 528ms\n",
      "243:\tlearn: 0.1614024\ttotal: 170ms\tremaining: 527ms\n",
      "244:\tlearn: 0.1604677\ttotal: 171ms\tremaining: 526ms\n",
      "245:\tlearn: 0.1591684\ttotal: 171ms\tremaining: 524ms\n",
      "246:\tlearn: 0.1582304\ttotal: 172ms\tremaining: 523ms\n",
      "247:\tlearn: 0.1573602\ttotal: 172ms\tremaining: 522ms\n",
      "248:\tlearn: 0.1564042\ttotal: 172ms\tremaining: 520ms\n",
      "249:\tlearn: 0.1559055\ttotal: 173ms\tremaining: 519ms\n",
      "250:\tlearn: 0.1549056\ttotal: 174ms\tremaining: 518ms\n",
      "251:\tlearn: 0.1540897\ttotal: 174ms\tremaining: 516ms\n",
      "252:\tlearn: 0.1530678\ttotal: 175ms\tremaining: 515ms\n",
      "253:\tlearn: 0.1521055\ttotal: 175ms\tremaining: 514ms\n",
      "254:\tlearn: 0.1512192\ttotal: 176ms\tremaining: 513ms\n",
      "255:\tlearn: 0.1500186\ttotal: 176ms\tremaining: 512ms\n",
      "256:\tlearn: 0.1493584\ttotal: 177ms\tremaining: 511ms\n",
      "257:\tlearn: 0.1487552\ttotal: 177ms\tremaining: 510ms\n",
      "258:\tlearn: 0.1478502\ttotal: 178ms\tremaining: 509ms\n",
      "259:\tlearn: 0.1467750\ttotal: 178ms\tremaining: 508ms\n",
      "260:\tlearn: 0.1459029\ttotal: 179ms\tremaining: 506ms\n",
      "261:\tlearn: 0.1455602\ttotal: 179ms\tremaining: 505ms\n",
      "262:\tlearn: 0.1443011\ttotal: 180ms\tremaining: 504ms\n",
      "263:\tlearn: 0.1432461\ttotal: 180ms\tremaining: 503ms\n",
      "264:\tlearn: 0.1427701\ttotal: 181ms\tremaining: 502ms\n",
      "265:\tlearn: 0.1422874\ttotal: 181ms\tremaining: 501ms\n",
      "266:\tlearn: 0.1413570\ttotal: 182ms\tremaining: 499ms\n",
      "267:\tlearn: 0.1406379\ttotal: 183ms\tremaining: 499ms\n",
      "268:\tlearn: 0.1396315\ttotal: 183ms\tremaining: 497ms\n",
      "269:\tlearn: 0.1389966\ttotal: 183ms\tremaining: 496ms\n",
      "270:\tlearn: 0.1380962\ttotal: 184ms\tremaining: 495ms\n",
      "271:\tlearn: 0.1371587\ttotal: 184ms\tremaining: 493ms\n",
      "272:\tlearn: 0.1361411\ttotal: 185ms\tremaining: 492ms\n",
      "273:\tlearn: 0.1352510\ttotal: 185ms\tremaining: 491ms\n",
      "274:\tlearn: 0.1346378\ttotal: 186ms\tremaining: 490ms\n"
     ]
    },
    {
     "name": "stdout",
     "output_type": "stream",
     "text": [
      "275:\tlearn: 0.1338412\ttotal: 186ms\tremaining: 489ms\n",
      "276:\tlearn: 0.1331167\ttotal: 187ms\tremaining: 488ms\n",
      "277:\tlearn: 0.1322759\ttotal: 187ms\tremaining: 487ms\n",
      "278:\tlearn: 0.1318955\ttotal: 188ms\tremaining: 485ms\n",
      "279:\tlearn: 0.1311070\ttotal: 188ms\tremaining: 484ms\n",
      "280:\tlearn: 0.1307607\ttotal: 188ms\tremaining: 482ms\n",
      "281:\tlearn: 0.1299574\ttotal: 189ms\tremaining: 481ms\n",
      "282:\tlearn: 0.1289951\ttotal: 189ms\tremaining: 480ms\n",
      "283:\tlearn: 0.1282841\ttotal: 190ms\tremaining: 478ms\n",
      "284:\tlearn: 0.1274787\ttotal: 190ms\tremaining: 477ms\n",
      "285:\tlearn: 0.1268142\ttotal: 191ms\tremaining: 476ms\n",
      "286:\tlearn: 0.1260127\ttotal: 191ms\tremaining: 475ms\n",
      "287:\tlearn: 0.1251248\ttotal: 192ms\tremaining: 474ms\n",
      "288:\tlearn: 0.1244526\ttotal: 193ms\tremaining: 475ms\n",
      "289:\tlearn: 0.1236246\ttotal: 193ms\tremaining: 474ms\n",
      "290:\tlearn: 0.1228802\ttotal: 194ms\tremaining: 473ms\n",
      "291:\tlearn: 0.1221235\ttotal: 194ms\tremaining: 471ms\n",
      "292:\tlearn: 0.1213457\ttotal: 195ms\tremaining: 471ms\n",
      "293:\tlearn: 0.1205844\ttotal: 196ms\tremaining: 470ms\n",
      "294:\tlearn: 0.1199420\ttotal: 196ms\tremaining: 469ms\n",
      "295:\tlearn: 0.1191805\ttotal: 197ms\tremaining: 468ms\n",
      "296:\tlearn: 0.1183965\ttotal: 197ms\tremaining: 467ms\n",
      "297:\tlearn: 0.1176426\ttotal: 198ms\tremaining: 466ms\n",
      "298:\tlearn: 0.1173205\ttotal: 198ms\tremaining: 465ms\n",
      "299:\tlearn: 0.1165493\ttotal: 199ms\tremaining: 464ms\n",
      "300:\tlearn: 0.1158876\ttotal: 199ms\tremaining: 463ms\n",
      "301:\tlearn: 0.1156533\ttotal: 200ms\tremaining: 462ms\n",
      "302:\tlearn: 0.1148572\ttotal: 200ms\tremaining: 461ms\n",
      "303:\tlearn: 0.1145852\ttotal: 201ms\tremaining: 460ms\n",
      "304:\tlearn: 0.1138796\ttotal: 202ms\tremaining: 459ms\n",
      "305:\tlearn: 0.1131660\ttotal: 202ms\tremaining: 458ms\n",
      "306:\tlearn: 0.1124666\ttotal: 203ms\tremaining: 457ms\n",
      "307:\tlearn: 0.1118281\ttotal: 203ms\tremaining: 457ms\n",
      "308:\tlearn: 0.1111911\ttotal: 204ms\tremaining: 456ms\n",
      "309:\tlearn: 0.1104330\ttotal: 204ms\tremaining: 454ms\n",
      "310:\tlearn: 0.1097849\ttotal: 204ms\tremaining: 453ms\n",
      "311:\tlearn: 0.1092047\ttotal: 205ms\tremaining: 452ms\n",
      "312:\tlearn: 0.1089043\ttotal: 205ms\tremaining: 451ms\n",
      "313:\tlearn: 0.1082670\ttotal: 206ms\tremaining: 450ms\n",
      "314:\tlearn: 0.1075370\ttotal: 207ms\tremaining: 449ms\n",
      "315:\tlearn: 0.1069554\ttotal: 207ms\tremaining: 448ms\n",
      "316:\tlearn: 0.1066225\ttotal: 208ms\tremaining: 447ms\n",
      "317:\tlearn: 0.1061911\ttotal: 208ms\tremaining: 447ms\n",
      "318:\tlearn: 0.1057483\ttotal: 209ms\tremaining: 446ms\n",
      "319:\tlearn: 0.1050405\ttotal: 209ms\tremaining: 445ms\n",
      "320:\tlearn: 0.1045269\ttotal: 210ms\tremaining: 443ms\n",
      "321:\tlearn: 0.1041331\ttotal: 210ms\tremaining: 442ms\n",
      "322:\tlearn: 0.1034452\ttotal: 211ms\tremaining: 441ms\n",
      "323:\tlearn: 0.1030306\ttotal: 211ms\tremaining: 440ms\n",
      "324:\tlearn: 0.1023355\ttotal: 212ms\tremaining: 440ms\n",
      "325:\tlearn: 0.1021338\ttotal: 212ms\tremaining: 439ms\n",
      "326:\tlearn: 0.1018657\ttotal: 212ms\tremaining: 437ms\n",
      "327:\tlearn: 0.1013291\ttotal: 213ms\tremaining: 436ms\n",
      "328:\tlearn: 0.1006001\ttotal: 214ms\tremaining: 436ms\n",
      "329:\tlearn: 0.1003707\ttotal: 214ms\tremaining: 435ms\n",
      "330:\tlearn: 0.1001764\ttotal: 214ms\tremaining: 433ms\n",
      "331:\tlearn: 0.0999529\ttotal: 215ms\tremaining: 432ms\n",
      "332:\tlearn: 0.0997326\ttotal: 215ms\tremaining: 432ms\n",
      "333:\tlearn: 0.0995613\ttotal: 216ms\tremaining: 431ms\n",
      "334:\tlearn: 0.0990085\ttotal: 216ms\tremaining: 429ms\n",
      "335:\tlearn: 0.0983009\ttotal: 217ms\tremaining: 428ms\n",
      "336:\tlearn: 0.0980918\ttotal: 217ms\tremaining: 427ms\n",
      "337:\tlearn: 0.0974225\ttotal: 218ms\tremaining: 426ms\n",
      "338:\tlearn: 0.0971295\ttotal: 218ms\tremaining: 425ms\n",
      "339:\tlearn: 0.0969559\ttotal: 218ms\tremaining: 424ms\n",
      "340:\tlearn: 0.0963682\ttotal: 219ms\tremaining: 422ms\n",
      "341:\tlearn: 0.0959088\ttotal: 219ms\tremaining: 421ms\n",
      "342:\tlearn: 0.0952501\ttotal: 219ms\tremaining: 420ms\n",
      "343:\tlearn: 0.0946040\ttotal: 220ms\tremaining: 419ms\n",
      "344:\tlearn: 0.0943721\ttotal: 220ms\tremaining: 418ms\n",
      "345:\tlearn: 0.0941748\ttotal: 221ms\tremaining: 417ms\n",
      "346:\tlearn: 0.0939738\ttotal: 221ms\tremaining: 416ms\n",
      "347:\tlearn: 0.0933487\ttotal: 222ms\tremaining: 415ms\n",
      "348:\tlearn: 0.0927343\ttotal: 222ms\tremaining: 414ms\n",
      "349:\tlearn: 0.0921437\ttotal: 223ms\tremaining: 414ms\n",
      "350:\tlearn: 0.0916862\ttotal: 223ms\tremaining: 413ms\n",
      "351:\tlearn: 0.0910836\ttotal: 224ms\tremaining: 412ms\n",
      "352:\tlearn: 0.0909226\ttotal: 224ms\tremaining: 411ms\n",
      "353:\tlearn: 0.0903512\ttotal: 225ms\tremaining: 410ms\n",
      "354:\tlearn: 0.0901721\ttotal: 225ms\tremaining: 409ms\n",
      "355:\tlearn: 0.0900159\ttotal: 226ms\tremaining: 408ms\n",
      "356:\tlearn: 0.0894233\ttotal: 226ms\tremaining: 407ms\n",
      "357:\tlearn: 0.0889195\ttotal: 226ms\tremaining: 406ms\n",
      "358:\tlearn: 0.0887440\ttotal: 227ms\tremaining: 405ms\n",
      "359:\tlearn: 0.0882524\ttotal: 227ms\tremaining: 404ms\n",
      "360:\tlearn: 0.0878603\ttotal: 228ms\tremaining: 403ms\n",
      "361:\tlearn: 0.0873980\ttotal: 229ms\tremaining: 403ms\n",
      "362:\tlearn: 0.0868782\ttotal: 229ms\tremaining: 402ms\n",
      "363:\tlearn: 0.0865011\ttotal: 229ms\tremaining: 401ms\n",
      "364:\tlearn: 0.0858975\ttotal: 230ms\tremaining: 400ms\n",
      "365:\tlearn: 0.0853673\ttotal: 231ms\tremaining: 399ms\n",
      "366:\tlearn: 0.0847826\ttotal: 231ms\tremaining: 398ms\n",
      "367:\tlearn: 0.0846397\ttotal: 231ms\tremaining: 397ms\n",
      "368:\tlearn: 0.0842307\ttotal: 232ms\tremaining: 396ms\n",
      "369:\tlearn: 0.0837326\ttotal: 232ms\tremaining: 395ms\n",
      "370:\tlearn: 0.0833157\ttotal: 233ms\tremaining: 394ms\n",
      "371:\tlearn: 0.0831779\ttotal: 233ms\tremaining: 393ms\n",
      "372:\tlearn: 0.0826672\ttotal: 233ms\tremaining: 392ms\n",
      "373:\tlearn: 0.0821055\ttotal: 234ms\tremaining: 391ms\n",
      "374:\tlearn: 0.0815546\ttotal: 234ms\tremaining: 391ms\n",
      "375:\tlearn: 0.0810627\ttotal: 235ms\tremaining: 390ms\n",
      "376:\tlearn: 0.0808475\ttotal: 235ms\tremaining: 389ms\n",
      "377:\tlearn: 0.0803558\ttotal: 236ms\tremaining: 388ms\n",
      "378:\tlearn: 0.0798585\ttotal: 236ms\tremaining: 387ms\n",
      "379:\tlearn: 0.0794123\ttotal: 237ms\tremaining: 386ms\n",
      "380:\tlearn: 0.0791214\ttotal: 237ms\tremaining: 385ms\n",
      "381:\tlearn: 0.0786520\ttotal: 238ms\tremaining: 385ms\n",
      "382:\tlearn: 0.0782352\ttotal: 239ms\tremaining: 385ms\n",
      "383:\tlearn: 0.0777613\ttotal: 239ms\tremaining: 384ms\n",
      "384:\tlearn: 0.0773903\ttotal: 240ms\tremaining: 383ms\n",
      "385:\tlearn: 0.0772666\ttotal: 240ms\tremaining: 382ms\n",
      "386:\tlearn: 0.0768096\ttotal: 241ms\tremaining: 381ms\n",
      "387:\tlearn: 0.0766352\ttotal: 241ms\tremaining: 381ms\n",
      "388:\tlearn: 0.0761848\ttotal: 242ms\tremaining: 380ms\n",
      "389:\tlearn: 0.0757333\ttotal: 242ms\tremaining: 379ms\n",
      "390:\tlearn: 0.0754657\ttotal: 243ms\tremaining: 378ms\n",
      "391:\tlearn: 0.0749712\ttotal: 243ms\tremaining: 377ms\n",
      "392:\tlearn: 0.0748048\ttotal: 244ms\tremaining: 376ms\n",
      "393:\tlearn: 0.0746405\ttotal: 244ms\tremaining: 375ms\n",
      "394:\tlearn: 0.0741761\ttotal: 245ms\tremaining: 375ms\n",
      "395:\tlearn: 0.0737188\ttotal: 245ms\tremaining: 374ms\n",
      "396:\tlearn: 0.0732954\ttotal: 246ms\tremaining: 373ms\n",
      "397:\tlearn: 0.0728970\ttotal: 246ms\tremaining: 372ms\n",
      "398:\tlearn: 0.0727834\ttotal: 247ms\tremaining: 371ms\n",
      "399:\tlearn: 0.0723187\ttotal: 247ms\tremaining: 370ms\n",
      "400:\tlearn: 0.0718872\ttotal: 247ms\tremaining: 370ms\n",
      "401:\tlearn: 0.0714817\ttotal: 248ms\tremaining: 369ms\n",
      "402:\tlearn: 0.0710858\ttotal: 249ms\tremaining: 368ms\n",
      "403:\tlearn: 0.0706400\ttotal: 249ms\tremaining: 367ms\n",
      "404:\tlearn: 0.0703321\ttotal: 250ms\tremaining: 367ms\n",
      "405:\tlearn: 0.0699127\ttotal: 250ms\tremaining: 366ms\n",
      "406:\tlearn: 0.0696120\ttotal: 251ms\tremaining: 365ms\n",
      "407:\tlearn: 0.0692368\ttotal: 251ms\tremaining: 364ms\n",
      "408:\tlearn: 0.0688272\ttotal: 251ms\tremaining: 363ms\n",
      "409:\tlearn: 0.0684233\ttotal: 252ms\tremaining: 363ms\n",
      "410:\tlearn: 0.0680271\ttotal: 253ms\tremaining: 362ms\n",
      "411:\tlearn: 0.0676497\ttotal: 253ms\tremaining: 361ms\n",
      "412:\tlearn: 0.0673571\ttotal: 254ms\tremaining: 360ms\n",
      "413:\tlearn: 0.0671965\ttotal: 254ms\tremaining: 360ms\n",
      "414:\tlearn: 0.0667844\ttotal: 255ms\tremaining: 359ms\n",
      "415:\tlearn: 0.0664008\ttotal: 255ms\tremaining: 358ms\n",
      "416:\tlearn: 0.0660540\ttotal: 256ms\tremaining: 357ms\n",
      "417:\tlearn: 0.0656330\ttotal: 256ms\tremaining: 356ms\n",
      "418:\tlearn: 0.0653675\ttotal: 256ms\tremaining: 356ms\n",
      "419:\tlearn: 0.0649741\ttotal: 257ms\tremaining: 355ms\n",
      "420:\tlearn: 0.0645957\ttotal: 257ms\tremaining: 354ms\n",
      "421:\tlearn: 0.0642981\ttotal: 258ms\tremaining: 353ms\n",
      "422:\tlearn: 0.0642008\ttotal: 258ms\tremaining: 352ms\n",
      "423:\tlearn: 0.0637985\ttotal: 259ms\tremaining: 352ms\n",
      "424:\tlearn: 0.0637030\ttotal: 259ms\tremaining: 351ms\n",
      "425:\tlearn: 0.0633271\ttotal: 260ms\tremaining: 350ms\n",
      "426:\tlearn: 0.0629654\ttotal: 260ms\tremaining: 349ms\n",
      "427:\tlearn: 0.0626807\ttotal: 261ms\tremaining: 348ms\n",
      "428:\tlearn: 0.0624022\ttotal: 261ms\tremaining: 347ms\n",
      "429:\tlearn: 0.0619496\ttotal: 261ms\tremaining: 347ms\n",
      "430:\tlearn: 0.0616275\ttotal: 262ms\tremaining: 346ms\n",
      "431:\tlearn: 0.0612236\ttotal: 263ms\tremaining: 345ms\n",
      "432:\tlearn: 0.0609580\ttotal: 263ms\tremaining: 344ms\n",
      "433:\tlearn: 0.0606119\ttotal: 264ms\tremaining: 344ms\n",
      "434:\tlearn: 0.0601832\ttotal: 264ms\tremaining: 343ms\n",
      "435:\tlearn: 0.0598731\ttotal: 264ms\tremaining: 342ms\n",
      "436:\tlearn: 0.0595697\ttotal: 265ms\tremaining: 341ms\n",
      "437:\tlearn: 0.0591580\ttotal: 265ms\tremaining: 340ms\n",
      "438:\tlearn: 0.0588510\ttotal: 266ms\tremaining: 339ms\n",
      "439:\tlearn: 0.0584525\ttotal: 266ms\tremaining: 339ms\n",
      "440:\tlearn: 0.0581681\ttotal: 267ms\tremaining: 338ms\n",
      "441:\tlearn: 0.0578896\ttotal: 267ms\tremaining: 337ms\n",
      "442:\tlearn: 0.0575079\ttotal: 268ms\tremaining: 336ms\n",
      "443:\tlearn: 0.0571362\ttotal: 268ms\tremaining: 336ms\n",
      "444:\tlearn: 0.0568696\ttotal: 269ms\tremaining: 335ms\n",
      "445:\tlearn: 0.0565538\ttotal: 269ms\tremaining: 334ms\n",
      "446:\tlearn: 0.0562307\ttotal: 269ms\tremaining: 333ms\n",
      "447:\tlearn: 0.0558790\ttotal: 270ms\tremaining: 332ms\n",
      "448:\tlearn: 0.0556134\ttotal: 270ms\tremaining: 332ms\n",
      "449:\tlearn: 0.0552432\ttotal: 271ms\tremaining: 331ms\n",
      "450:\tlearn: 0.0550355\ttotal: 271ms\tremaining: 330ms\n",
      "451:\tlearn: 0.0546773\ttotal: 272ms\tremaining: 329ms\n",
      "452:\tlearn: 0.0543411\ttotal: 272ms\tremaining: 329ms\n",
      "453:\tlearn: 0.0540123\ttotal: 273ms\tremaining: 328ms\n",
      "454:\tlearn: 0.0537631\ttotal: 273ms\tremaining: 327ms\n",
      "455:\tlearn: 0.0535671\ttotal: 274ms\tremaining: 326ms\n",
      "456:\tlearn: 0.0532255\ttotal: 274ms\tremaining: 326ms\n",
      "457:\tlearn: 0.0529113\ttotal: 274ms\tremaining: 325ms\n"
     ]
    },
    {
     "name": "stdout",
     "output_type": "stream",
     "text": [
      "458:\tlearn: 0.0527134\ttotal: 275ms\tremaining: 324ms\n",
      "459:\tlearn: 0.0525267\ttotal: 276ms\tremaining: 324ms\n",
      "460:\tlearn: 0.0523347\ttotal: 276ms\tremaining: 323ms\n",
      "461:\tlearn: 0.0522571\ttotal: 277ms\tremaining: 322ms\n",
      "462:\tlearn: 0.0521804\ttotal: 277ms\tremaining: 321ms\n",
      "463:\tlearn: 0.0518784\ttotal: 278ms\tremaining: 321ms\n",
      "464:\tlearn: 0.0518032\ttotal: 278ms\tremaining: 320ms\n",
      "465:\tlearn: 0.0516244\ttotal: 278ms\tremaining: 319ms\n",
      "466:\tlearn: 0.0515505\ttotal: 279ms\tremaining: 318ms\n",
      "467:\tlearn: 0.0512574\ttotal: 279ms\tremaining: 318ms\n",
      "468:\tlearn: 0.0511850\ttotal: 280ms\tremaining: 317ms\n",
      "469:\tlearn: 0.0511135\ttotal: 280ms\tremaining: 316ms\n",
      "470:\tlearn: 0.0508277\ttotal: 281ms\tremaining: 316ms\n",
      "471:\tlearn: 0.0507576\ttotal: 281ms\tremaining: 315ms\n",
      "472:\tlearn: 0.0505796\ttotal: 282ms\tremaining: 314ms\n",
      "473:\tlearn: 0.0505108\ttotal: 282ms\tremaining: 313ms\n",
      "474:\tlearn: 0.0503414\ttotal: 283ms\tremaining: 313ms\n",
      "475:\tlearn: 0.0501012\ttotal: 283ms\tremaining: 312ms\n",
      "476:\tlearn: 0.0500342\ttotal: 284ms\tremaining: 311ms\n",
      "477:\tlearn: 0.0499679\ttotal: 284ms\tremaining: 310ms\n",
      "478:\tlearn: 0.0497343\ttotal: 284ms\tremaining: 309ms\n",
      "479:\tlearn: 0.0496710\ttotal: 285ms\tremaining: 309ms\n",
      "480:\tlearn: 0.0494574\ttotal: 285ms\tremaining: 308ms\n",
      "481:\tlearn: 0.0492905\ttotal: 286ms\tremaining: 307ms\n",
      "482:\tlearn: 0.0491319\ttotal: 286ms\tremaining: 307ms\n",
      "483:\tlearn: 0.0488355\ttotal: 287ms\tremaining: 306ms\n",
      "484:\tlearn: 0.0485960\ttotal: 287ms\tremaining: 305ms\n",
      "485:\tlearn: 0.0485221\ttotal: 288ms\tremaining: 305ms\n",
      "486:\tlearn: 0.0481684\ttotal: 289ms\tremaining: 304ms\n",
      "487:\tlearn: 0.0481078\ttotal: 289ms\tremaining: 303ms\n",
      "488:\tlearn: 0.0477636\ttotal: 289ms\tremaining: 303ms\n",
      "489:\tlearn: 0.0474519\ttotal: 290ms\tremaining: 302ms\n",
      "490:\tlearn: 0.0471458\ttotal: 290ms\tremaining: 301ms\n",
      "491:\tlearn: 0.0468453\ttotal: 291ms\tremaining: 300ms\n",
      "492:\tlearn: 0.0465502\ttotal: 291ms\tremaining: 299ms\n",
      "493:\tlearn: 0.0462604\ttotal: 292ms\tremaining: 299ms\n",
      "494:\tlearn: 0.0459759\ttotal: 292ms\tremaining: 298ms\n",
      "495:\tlearn: 0.0456966\ttotal: 292ms\tremaining: 297ms\n",
      "496:\tlearn: 0.0453280\ttotal: 293ms\tremaining: 296ms\n",
      "497:\tlearn: 0.0450580\ttotal: 293ms\tremaining: 296ms\n",
      "498:\tlearn: 0.0447398\ttotal: 294ms\tremaining: 295ms\n",
      "499:\tlearn: 0.0444715\ttotal: 294ms\tremaining: 294ms\n",
      "500:\tlearn: 0.0441862\ttotal: 295ms\tremaining: 293ms\n",
      "501:\tlearn: 0.0439265\ttotal: 295ms\tremaining: 293ms\n",
      "502:\tlearn: 0.0436671\ttotal: 296ms\tremaining: 292ms\n",
      "503:\tlearn: 0.0434131\ttotal: 296ms\tremaining: 291ms\n",
      "504:\tlearn: 0.0430757\ttotal: 297ms\tremaining: 291ms\n",
      "505:\tlearn: 0.0428736\ttotal: 297ms\tremaining: 290ms\n",
      "506:\tlearn: 0.0426761\ttotal: 298ms\tremaining: 289ms\n",
      "507:\tlearn: 0.0424318\ttotal: 298ms\tremaining: 289ms\n",
      "508:\tlearn: 0.0421413\ttotal: 298ms\tremaining: 288ms\n",
      "509:\tlearn: 0.0418978\ttotal: 299ms\tremaining: 287ms\n",
      "510:\tlearn: 0.0416359\ttotal: 299ms\tremaining: 287ms\n",
      "511:\tlearn: 0.0413994\ttotal: 300ms\tremaining: 286ms\n",
      "512:\tlearn: 0.0411362\ttotal: 300ms\tremaining: 285ms\n",
      "513:\tlearn: 0.0408635\ttotal: 301ms\tremaining: 285ms\n",
      "514:\tlearn: 0.0406977\ttotal: 301ms\tremaining: 284ms\n",
      "515:\tlearn: 0.0404695\ttotal: 302ms\tremaining: 283ms\n",
      "516:\tlearn: 0.0402891\ttotal: 302ms\tremaining: 282ms\n",
      "517:\tlearn: 0.0401292\ttotal: 303ms\tremaining: 282ms\n",
      "518:\tlearn: 0.0399088\ttotal: 303ms\tremaining: 281ms\n",
      "519:\tlearn: 0.0396801\ttotal: 304ms\tremaining: 280ms\n",
      "520:\tlearn: 0.0395073\ttotal: 304ms\tremaining: 280ms\n",
      "521:\tlearn: 0.0392434\ttotal: 304ms\tremaining: 279ms\n",
      "522:\tlearn: 0.0389974\ttotal: 305ms\tremaining: 278ms\n",
      "523:\tlearn: 0.0387870\ttotal: 305ms\tremaining: 277ms\n",
      "524:\tlearn: 0.0385683\ttotal: 306ms\tremaining: 277ms\n",
      "525:\tlearn: 0.0383757\ttotal: 306ms\tremaining: 276ms\n",
      "526:\tlearn: 0.0381435\ttotal: 307ms\tremaining: 276ms\n",
      "527:\tlearn: 0.0379091\ttotal: 308ms\tremaining: 275ms\n",
      "528:\tlearn: 0.0377461\ttotal: 308ms\tremaining: 274ms\n",
      "529:\tlearn: 0.0375036\ttotal: 309ms\tremaining: 274ms\n",
      "530:\tlearn: 0.0373310\ttotal: 309ms\tremaining: 273ms\n",
      "531:\tlearn: 0.0371738\ttotal: 310ms\tremaining: 272ms\n",
      "532:\tlearn: 0.0369315\ttotal: 310ms\tremaining: 272ms\n",
      "533:\tlearn: 0.0366655\ttotal: 311ms\tremaining: 271ms\n",
      "534:\tlearn: 0.0364995\ttotal: 311ms\tremaining: 271ms\n",
      "535:\tlearn: 0.0364409\ttotal: 312ms\tremaining: 270ms\n",
      "536:\tlearn: 0.0362088\ttotal: 312ms\tremaining: 269ms\n",
      "537:\tlearn: 0.0360163\ttotal: 313ms\tremaining: 268ms\n",
      "538:\tlearn: 0.0358345\ttotal: 313ms\tremaining: 268ms\n",
      "539:\tlearn: 0.0356296\ttotal: 314ms\tremaining: 267ms\n",
      "540:\tlearn: 0.0354530\ttotal: 314ms\tremaining: 267ms\n",
      "541:\tlearn: 0.0352453\ttotal: 315ms\tremaining: 266ms\n",
      "542:\tlearn: 0.0350593\ttotal: 315ms\tremaining: 265ms\n",
      "543:\tlearn: 0.0348567\ttotal: 315ms\tremaining: 264ms\n",
      "544:\tlearn: 0.0346557\ttotal: 316ms\tremaining: 264ms\n",
      "545:\tlearn: 0.0344769\ttotal: 316ms\tremaining: 263ms\n",
      "546:\tlearn: 0.0342987\ttotal: 317ms\tremaining: 262ms\n",
      "547:\tlearn: 0.0341039\ttotal: 317ms\tremaining: 262ms\n",
      "548:\tlearn: 0.0339103\ttotal: 318ms\tremaining: 261ms\n",
      "549:\tlearn: 0.0337488\ttotal: 318ms\tremaining: 261ms\n",
      "550:\tlearn: 0.0335801\ttotal: 319ms\tremaining: 260ms\n",
      "551:\tlearn: 0.0333857\ttotal: 320ms\tremaining: 259ms\n",
      "552:\tlearn: 0.0333290\ttotal: 320ms\tremaining: 259ms\n",
      "553:\tlearn: 0.0331617\ttotal: 321ms\tremaining: 258ms\n",
      "554:\tlearn: 0.0329628\ttotal: 321ms\tremaining: 258ms\n",
      "555:\tlearn: 0.0327786\ttotal: 322ms\tremaining: 257ms\n",
      "556:\tlearn: 0.0326094\ttotal: 322ms\tremaining: 256ms\n",
      "557:\tlearn: 0.0324377\ttotal: 323ms\tremaining: 256ms\n",
      "558:\tlearn: 0.0322594\ttotal: 323ms\tremaining: 255ms\n",
      "559:\tlearn: 0.0320915\ttotal: 324ms\tremaining: 254ms\n",
      "560:\tlearn: 0.0319266\ttotal: 324ms\tremaining: 254ms\n",
      "561:\tlearn: 0.0318734\ttotal: 325ms\tremaining: 253ms\n",
      "562:\tlearn: 0.0317069\ttotal: 325ms\tremaining: 252ms\n",
      "563:\tlearn: 0.0316545\ttotal: 326ms\tremaining: 252ms\n",
      "564:\tlearn: 0.0314941\ttotal: 326ms\tremaining: 251ms\n",
      "565:\tlearn: 0.0313346\ttotal: 327ms\tremaining: 250ms\n",
      "566:\tlearn: 0.0312836\ttotal: 327ms\tremaining: 250ms\n",
      "567:\tlearn: 0.0311021\ttotal: 327ms\tremaining: 249ms\n",
      "568:\tlearn: 0.0309343\ttotal: 328ms\tremaining: 248ms\n",
      "569:\tlearn: 0.0307740\ttotal: 328ms\tremaining: 248ms\n",
      "570:\tlearn: 0.0307243\ttotal: 329ms\tremaining: 247ms\n",
      "571:\tlearn: 0.0305714\ttotal: 329ms\tremaining: 247ms\n",
      "572:\tlearn: 0.0303614\ttotal: 330ms\tremaining: 246ms\n",
      "573:\tlearn: 0.0302056\ttotal: 331ms\tremaining: 245ms\n",
      "574:\tlearn: 0.0300576\ttotal: 331ms\tremaining: 245ms\n",
      "575:\tlearn: 0.0298920\ttotal: 331ms\tremaining: 244ms\n",
      "576:\tlearn: 0.0297438\ttotal: 332ms\tremaining: 243ms\n",
      "577:\tlearn: 0.0295915\ttotal: 332ms\tremaining: 243ms\n",
      "578:\tlearn: 0.0295443\ttotal: 333ms\tremaining: 242ms\n",
      "579:\tlearn: 0.0293916\ttotal: 333ms\tremaining: 241ms\n",
      "580:\tlearn: 0.0292171\ttotal: 334ms\tremaining: 241ms\n",
      "581:\tlearn: 0.0291710\ttotal: 334ms\tremaining: 240ms\n",
      "582:\tlearn: 0.0290095\ttotal: 334ms\tremaining: 239ms\n",
      "583:\tlearn: 0.0288406\ttotal: 336ms\tremaining: 239ms\n",
      "584:\tlearn: 0.0287241\ttotal: 336ms\tremaining: 238ms\n",
      "585:\tlearn: 0.0285687\ttotal: 337ms\tremaining: 238ms\n",
      "586:\tlearn: 0.0284223\ttotal: 337ms\tremaining: 237ms\n",
      "587:\tlearn: 0.0282907\ttotal: 337ms\tremaining: 236ms\n",
      "588:\tlearn: 0.0281615\ttotal: 338ms\tremaining: 236ms\n",
      "589:\tlearn: 0.0280174\ttotal: 338ms\tremaining: 235ms\n",
      "590:\tlearn: 0.0278758\ttotal: 339ms\tremaining: 234ms\n",
      "591:\tlearn: 0.0277535\ttotal: 339ms\tremaining: 234ms\n",
      "592:\tlearn: 0.0276142\ttotal: 340ms\tremaining: 233ms\n",
      "593:\tlearn: 0.0275053\ttotal: 340ms\tremaining: 232ms\n",
      "594:\tlearn: 0.0273507\ttotal: 340ms\tremaining: 232ms\n",
      "595:\tlearn: 0.0271650\ttotal: 341ms\tremaining: 231ms\n",
      "596:\tlearn: 0.0269839\ttotal: 341ms\tremaining: 230ms\n",
      "597:\tlearn: 0.0268073\ttotal: 342ms\tremaining: 230ms\n",
      "598:\tlearn: 0.0267482\ttotal: 342ms\tremaining: 229ms\n",
      "599:\tlearn: 0.0265762\ttotal: 343ms\tremaining: 228ms\n",
      "600:\tlearn: 0.0264086\ttotal: 343ms\tremaining: 228ms\n",
      "601:\tlearn: 0.0262694\ttotal: 344ms\tremaining: 227ms\n",
      "602:\tlearn: 0.0261365\ttotal: 344ms\tremaining: 227ms\n",
      "603:\tlearn: 0.0260378\ttotal: 345ms\tremaining: 226ms\n",
      "604:\tlearn: 0.0259149\ttotal: 346ms\tremaining: 226ms\n",
      "605:\tlearn: 0.0258763\ttotal: 346ms\tremaining: 225ms\n",
      "606:\tlearn: 0.0258383\ttotal: 346ms\tremaining: 224ms\n",
      "607:\tlearn: 0.0257597\ttotal: 347ms\tremaining: 224ms\n",
      "608:\tlearn: 0.0256828\ttotal: 347ms\tremaining: 223ms\n",
      "609:\tlearn: 0.0256287\ttotal: 348ms\tremaining: 222ms\n",
      "610:\tlearn: 0.0255545\ttotal: 348ms\tremaining: 222ms\n",
      "611:\tlearn: 0.0254214\ttotal: 349ms\tremaining: 221ms\n",
      "612:\tlearn: 0.0253074\ttotal: 350ms\tremaining: 221ms\n",
      "613:\tlearn: 0.0251598\ttotal: 350ms\tremaining: 220ms\n",
      "614:\tlearn: 0.0250154\ttotal: 350ms\tremaining: 219ms\n",
      "615:\tlearn: 0.0248742\ttotal: 351ms\tremaining: 219ms\n",
      "616:\tlearn: 0.0247274\ttotal: 352ms\tremaining: 218ms\n",
      "617:\tlearn: 0.0245844\ttotal: 352ms\tremaining: 218ms\n",
      "618:\tlearn: 0.0244443\ttotal: 353ms\tremaining: 217ms\n",
      "619:\tlearn: 0.0243079\ttotal: 353ms\tremaining: 217ms\n"
     ]
    },
    {
     "name": "stdout",
     "output_type": "stream",
     "text": [
      "620:\tlearn: 0.0241816\ttotal: 354ms\tremaining: 216ms\n",
      "621:\tlearn: 0.0240712\ttotal: 354ms\tremaining: 215ms\n",
      "622:\tlearn: 0.0239461\ttotal: 355ms\tremaining: 215ms\n",
      "623:\tlearn: 0.0238278\ttotal: 355ms\tremaining: 214ms\n",
      "624:\tlearn: 0.0237541\ttotal: 356ms\tremaining: 213ms\n",
      "625:\tlearn: 0.0236818\ttotal: 356ms\tremaining: 213ms\n",
      "626:\tlearn: 0.0235657\ttotal: 357ms\tremaining: 212ms\n",
      "627:\tlearn: 0.0234949\ttotal: 357ms\tremaining: 212ms\n",
      "628:\tlearn: 0.0233756\ttotal: 357ms\tremaining: 211ms\n",
      "629:\tlearn: 0.0233060\ttotal: 358ms\tremaining: 210ms\n",
      "630:\tlearn: 0.0232020\ttotal: 358ms\tremaining: 210ms\n",
      "631:\tlearn: 0.0231339\ttotal: 359ms\tremaining: 209ms\n",
      "632:\tlearn: 0.0230671\ttotal: 360ms\tremaining: 208ms\n",
      "633:\tlearn: 0.0230016\ttotal: 360ms\tremaining: 208ms\n",
      "634:\tlearn: 0.0228763\ttotal: 360ms\tremaining: 207ms\n",
      "635:\tlearn: 0.0227912\ttotal: 361ms\tremaining: 207ms\n",
      "636:\tlearn: 0.0227275\ttotal: 362ms\tremaining: 206ms\n",
      "637:\tlearn: 0.0226170\ttotal: 362ms\tremaining: 205ms\n",
      "638:\tlearn: 0.0224952\ttotal: 363ms\tremaining: 205ms\n",
      "639:\tlearn: 0.0223762\ttotal: 363ms\tremaining: 204ms\n",
      "640:\tlearn: 0.0222488\ttotal: 364ms\tremaining: 204ms\n",
      "641:\tlearn: 0.0221874\ttotal: 364ms\tremaining: 203ms\n",
      "642:\tlearn: 0.0220630\ttotal: 365ms\tremaining: 202ms\n",
      "643:\tlearn: 0.0220344\ttotal: 365ms\tremaining: 202ms\n",
      "644:\tlearn: 0.0219743\ttotal: 366ms\tremaining: 201ms\n",
      "645:\tlearn: 0.0218530\ttotal: 366ms\tremaining: 201ms\n",
      "646:\tlearn: 0.0217940\ttotal: 367ms\tremaining: 200ms\n",
      "647:\tlearn: 0.0216757\ttotal: 367ms\tremaining: 199ms\n",
      "648:\tlearn: 0.0216178\ttotal: 368ms\tremaining: 199ms\n",
      "649:\tlearn: 0.0215148\ttotal: 368ms\tremaining: 198ms\n",
      "650:\tlearn: 0.0214583\ttotal: 369ms\tremaining: 198ms\n",
      "651:\tlearn: 0.0213578\ttotal: 369ms\tremaining: 197ms\n",
      "652:\tlearn: 0.0213150\ttotal: 370ms\tremaining: 196ms\n",
      "653:\tlearn: 0.0212599\ttotal: 370ms\tremaining: 196ms\n",
      "654:\tlearn: 0.0211460\ttotal: 371ms\tremaining: 195ms\n",
      "655:\tlearn: 0.0211044\ttotal: 371ms\tremaining: 195ms\n",
      "656:\tlearn: 0.0210071\ttotal: 372ms\tremaining: 194ms\n",
      "657:\tlearn: 0.0209664\ttotal: 372ms\tremaining: 194ms\n",
      "658:\tlearn: 0.0209129\ttotal: 373ms\tremaining: 193ms\n",
      "659:\tlearn: 0.0208400\ttotal: 373ms\tremaining: 192ms\n",
      "660:\tlearn: 0.0207063\ttotal: 374ms\tremaining: 192ms\n",
      "661:\tlearn: 0.0206175\ttotal: 374ms\tremaining: 191ms\n",
      "662:\tlearn: 0.0205469\ttotal: 375ms\tremaining: 191ms\n",
      "663:\tlearn: 0.0204623\ttotal: 376ms\tremaining: 190ms\n",
      "664:\tlearn: 0.0204388\ttotal: 376ms\tremaining: 189ms\n",
      "665:\tlearn: 0.0204157\ttotal: 377ms\tremaining: 189ms\n",
      "666:\tlearn: 0.0203200\ttotal: 377ms\tremaining: 188ms\n",
      "667:\tlearn: 0.0202973\ttotal: 378ms\tremaining: 188ms\n",
      "668:\tlearn: 0.0201939\ttotal: 378ms\tremaining: 187ms\n",
      "669:\tlearn: 0.0201716\ttotal: 379ms\tremaining: 187ms\n",
      "670:\tlearn: 0.0201496\ttotal: 379ms\tremaining: 186ms\n",
      "671:\tlearn: 0.0200658\ttotal: 380ms\tremaining: 185ms\n",
      "672:\tlearn: 0.0199989\ttotal: 380ms\tremaining: 185ms\n",
      "673:\tlearn: 0.0199774\ttotal: 381ms\tremaining: 184ms\n",
      "674:\tlearn: 0.0198895\ttotal: 381ms\tremaining: 184ms\n",
      "675:\tlearn: 0.0198683\ttotal: 382ms\tremaining: 183ms\n",
      "676:\tlearn: 0.0197535\ttotal: 382ms\tremaining: 182ms\n",
      "677:\tlearn: 0.0197326\ttotal: 383ms\tremaining: 182ms\n",
      "678:\tlearn: 0.0196360\ttotal: 383ms\tremaining: 181ms\n",
      "679:\tlearn: 0.0195386\ttotal: 384ms\tremaining: 181ms\n",
      "680:\tlearn: 0.0195182\ttotal: 385ms\tremaining: 180ms\n",
      "681:\tlearn: 0.0194242\ttotal: 385ms\tremaining: 180ms\n",
      "682:\tlearn: 0.0193296\ttotal: 385ms\tremaining: 179ms\n",
      "683:\tlearn: 0.0193096\ttotal: 386ms\tremaining: 178ms\n",
      "684:\tlearn: 0.0192042\ttotal: 387ms\tremaining: 178ms\n",
      "685:\tlearn: 0.0191128\ttotal: 387ms\tremaining: 177ms\n",
      "686:\tlearn: 0.0190215\ttotal: 388ms\tremaining: 177ms\n",
      "687:\tlearn: 0.0189438\ttotal: 388ms\tremaining: 176ms\n",
      "688:\tlearn: 0.0188968\ttotal: 389ms\tremaining: 175ms\n",
      "689:\tlearn: 0.0188210\ttotal: 389ms\tremaining: 175ms\n",
      "690:\tlearn: 0.0187326\ttotal: 389ms\tremaining: 174ms\n",
      "691:\tlearn: 0.0186710\ttotal: 390ms\tremaining: 174ms\n",
      "692:\tlearn: 0.0185849\ttotal: 391ms\tremaining: 173ms\n",
      "693:\tlearn: 0.0185039\ttotal: 391ms\tremaining: 172ms\n",
      "694:\tlearn: 0.0184377\ttotal: 392ms\tremaining: 172ms\n",
      "695:\tlearn: 0.0183376\ttotal: 392ms\tremaining: 171ms\n",
      "696:\tlearn: 0.0182222\ttotal: 392ms\tremaining: 171ms\n",
      "697:\tlearn: 0.0181104\ttotal: 393ms\tremaining: 170ms\n",
      "698:\tlearn: 0.0180076\ttotal: 393ms\tremaining: 169ms\n",
      "699:\tlearn: 0.0179073\ttotal: 394ms\tremaining: 169ms\n",
      "700:\tlearn: 0.0178864\ttotal: 395ms\tremaining: 168ms\n",
      "701:\tlearn: 0.0177967\ttotal: 395ms\tremaining: 168ms\n",
      "702:\tlearn: 0.0177177\ttotal: 396ms\tremaining: 167ms\n",
      "703:\tlearn: 0.0176737\ttotal: 396ms\tremaining: 166ms\n",
      "704:\tlearn: 0.0176534\ttotal: 396ms\tremaining: 166ms\n",
      "705:\tlearn: 0.0175758\ttotal: 397ms\tremaining: 165ms\n",
      "706:\tlearn: 0.0175330\ttotal: 397ms\tremaining: 165ms\n",
      "707:\tlearn: 0.0175132\ttotal: 398ms\tremaining: 164ms\n",
      "708:\tlearn: 0.0174620\ttotal: 398ms\tremaining: 164ms\n",
      "709:\tlearn: 0.0174119\ttotal: 399ms\tremaining: 163ms\n",
      "710:\tlearn: 0.0173925\ttotal: 399ms\tremaining: 162ms\n",
      "711:\tlearn: 0.0173435\ttotal: 400ms\tremaining: 162ms\n",
      "712:\tlearn: 0.0172381\ttotal: 400ms\tremaining: 161ms\n",
      "713:\tlearn: 0.0171559\ttotal: 401ms\tremaining: 161ms\n",
      "714:\tlearn: 0.0171370\ttotal: 401ms\tremaining: 160ms\n",
      "715:\tlearn: 0.0170439\ttotal: 402ms\tremaining: 159ms\n",
      "716:\tlearn: 0.0170252\ttotal: 402ms\tremaining: 159ms\n",
      "717:\tlearn: 0.0170068\ttotal: 402ms\tremaining: 158ms\n",
      "718:\tlearn: 0.0169328\ttotal: 403ms\tremaining: 157ms\n",
      "719:\tlearn: 0.0168933\ttotal: 403ms\tremaining: 157ms\n",
      "720:\tlearn: 0.0168754\ttotal: 404ms\tremaining: 156ms\n",
      "721:\tlearn: 0.0168065\ttotal: 404ms\tremaining: 156ms\n",
      "722:\tlearn: 0.0167860\ttotal: 405ms\tremaining: 155ms\n",
      "723:\tlearn: 0.0167659\ttotal: 405ms\tremaining: 154ms\n",
      "724:\tlearn: 0.0166865\ttotal: 406ms\tremaining: 154ms\n",
      "725:\tlearn: 0.0166191\ttotal: 406ms\tremaining: 153ms\n",
      "726:\tlearn: 0.0166020\ttotal: 407ms\tremaining: 153ms\n",
      "727:\tlearn: 0.0165309\ttotal: 407ms\tremaining: 152ms\n",
      "728:\tlearn: 0.0164851\ttotal: 407ms\tremaining: 151ms\n",
      "729:\tlearn: 0.0163833\ttotal: 408ms\tremaining: 151ms\n",
      "730:\tlearn: 0.0162835\ttotal: 408ms\tremaining: 150ms\n",
      "731:\tlearn: 0.0161859\ttotal: 409ms\tremaining: 150ms\n",
      "732:\tlearn: 0.0161246\ttotal: 409ms\tremaining: 149ms\n",
      "733:\tlearn: 0.0160641\ttotal: 410ms\tremaining: 149ms\n",
      "734:\tlearn: 0.0159863\ttotal: 410ms\tremaining: 148ms\n",
      "735:\tlearn: 0.0158766\ttotal: 411ms\tremaining: 147ms\n",
      "736:\tlearn: 0.0158176\ttotal: 411ms\tremaining: 147ms\n",
      "737:\tlearn: 0.0158024\ttotal: 412ms\tremaining: 146ms\n",
      "738:\tlearn: 0.0157443\ttotal: 412ms\tremaining: 146ms\n",
      "739:\tlearn: 0.0157085\ttotal: 413ms\tremaining: 145ms\n",
      "740:\tlearn: 0.0156512\ttotal: 413ms\tremaining: 144ms\n",
      "741:\tlearn: 0.0155730\ttotal: 414ms\tremaining: 144ms\n",
      "742:\tlearn: 0.0155582\ttotal: 414ms\tremaining: 143ms\n",
      "743:\tlearn: 0.0155237\ttotal: 415ms\tremaining: 143ms\n",
      "744:\tlearn: 0.0154673\ttotal: 415ms\tremaining: 142ms\n",
      "745:\tlearn: 0.0153977\ttotal: 416ms\tremaining: 142ms\n",
      "746:\tlearn: 0.0153159\ttotal: 416ms\tremaining: 141ms\n",
      "747:\tlearn: 0.0152459\ttotal: 417ms\tremaining: 140ms\n",
      "748:\tlearn: 0.0151663\ttotal: 418ms\tremaining: 140ms\n",
      "749:\tlearn: 0.0151520\ttotal: 418ms\tremaining: 139ms\n",
      "750:\tlearn: 0.0151379\ttotal: 419ms\tremaining: 139ms\n",
      "751:\tlearn: 0.0151053\ttotal: 419ms\tremaining: 138ms\n",
      "752:\tlearn: 0.0150539\ttotal: 419ms\tremaining: 138ms\n",
      "753:\tlearn: 0.0149828\ttotal: 420ms\tremaining: 137ms\n",
      "754:\tlearn: 0.0148853\ttotal: 421ms\tremaining: 137ms\n",
      "755:\tlearn: 0.0147896\ttotal: 422ms\tremaining: 136ms\n",
      "756:\tlearn: 0.0147232\ttotal: 422ms\tremaining: 135ms\n",
      "757:\tlearn: 0.0146740\ttotal: 422ms\tremaining: 135ms\n",
      "758:\tlearn: 0.0146095\ttotal: 423ms\tremaining: 134ms\n",
      "759:\tlearn: 0.0145423\ttotal: 423ms\tremaining: 134ms\n",
      "760:\tlearn: 0.0144696\ttotal: 424ms\tremaining: 133ms\n",
      "761:\tlearn: 0.0144303\ttotal: 424ms\tremaining: 133ms\n",
      "762:\tlearn: 0.0143835\ttotal: 425ms\tremaining: 132ms\n",
      "763:\tlearn: 0.0143129\ttotal: 425ms\tremaining: 131ms\n",
      "764:\tlearn: 0.0142227\ttotal: 426ms\tremaining: 131ms\n",
      "765:\tlearn: 0.0141341\ttotal: 427ms\tremaining: 130ms\n",
      "766:\tlearn: 0.0140725\ttotal: 427ms\tremaining: 130ms\n",
      "767:\tlearn: 0.0139859\ttotal: 428ms\tremaining: 129ms\n",
      "768:\tlearn: 0.0139186\ttotal: 428ms\tremaining: 129ms\n",
      "769:\tlearn: 0.0138819\ttotal: 429ms\tremaining: 128ms\n",
      "770:\tlearn: 0.0138224\ttotal: 429ms\tremaining: 128ms\n",
      "771:\tlearn: 0.0137866\ttotal: 430ms\tremaining: 127ms\n",
      "772:\tlearn: 0.0137516\ttotal: 430ms\tremaining: 126ms\n",
      "773:\tlearn: 0.0136960\ttotal: 431ms\tremaining: 126ms\n",
      "774:\tlearn: 0.0136471\ttotal: 431ms\tremaining: 125ms\n",
      "775:\tlearn: 0.0136310\ttotal: 432ms\tremaining: 125ms\n",
      "776:\tlearn: 0.0135404\ttotal: 432ms\tremaining: 124ms\n",
      "777:\tlearn: 0.0134866\ttotal: 433ms\tremaining: 123ms\n",
      "778:\tlearn: 0.0134048\ttotal: 433ms\tremaining: 123ms\n",
      "779:\tlearn: 0.0133173\ttotal: 434ms\tremaining: 122ms\n",
      "780:\tlearn: 0.0132726\ttotal: 434ms\tremaining: 122ms\n",
      "781:\tlearn: 0.0132063\ttotal: 435ms\tremaining: 121ms\n",
      "782:\tlearn: 0.0131537\ttotal: 435ms\tremaining: 121ms\n",
      "783:\tlearn: 0.0130835\ttotal: 436ms\tremaining: 120ms\n",
      "784:\tlearn: 0.0130496\ttotal: 437ms\tremaining: 120ms\n",
      "785:\tlearn: 0.0130170\ttotal: 437ms\tremaining: 119ms\n",
      "786:\tlearn: 0.0129664\ttotal: 438ms\tremaining: 118ms\n",
      "787:\tlearn: 0.0129028\ttotal: 438ms\tremaining: 118ms\n",
      "788:\tlearn: 0.0128498\ttotal: 439ms\tremaining: 117ms\n",
      "789:\tlearn: 0.0127867\ttotal: 439ms\tremaining: 117ms\n",
      "790:\tlearn: 0.0127250\ttotal: 440ms\tremaining: 116ms\n",
      "791:\tlearn: 0.0126761\ttotal: 440ms\tremaining: 116ms\n",
      "792:\tlearn: 0.0126375\ttotal: 441ms\tremaining: 115ms\n",
      "793:\tlearn: 0.0125861\ttotal: 441ms\tremaining: 114ms\n",
      "794:\tlearn: 0.0125286\ttotal: 442ms\tremaining: 114ms\n",
      "795:\tlearn: 0.0124698\ttotal: 442ms\tremaining: 113ms\n",
      "796:\tlearn: 0.0124575\ttotal: 443ms\tremaining: 113ms\n",
      "797:\tlearn: 0.0124453\ttotal: 443ms\tremaining: 112ms\n",
      "798:\tlearn: 0.0124333\ttotal: 444ms\tremaining: 112ms\n",
      "799:\tlearn: 0.0123933\ttotal: 444ms\tremaining: 111ms\n"
     ]
    },
    {
     "name": "stdout",
     "output_type": "stream",
     "text": [
      "800:\tlearn: 0.0123469\ttotal: 445ms\tremaining: 110ms\n",
      "801:\tlearn: 0.0123164\ttotal: 445ms\tremaining: 110ms\n",
      "802:\tlearn: 0.0122864\ttotal: 446ms\tremaining: 109ms\n",
      "803:\tlearn: 0.0122575\ttotal: 446ms\tremaining: 109ms\n",
      "804:\tlearn: 0.0122460\ttotal: 447ms\tremaining: 108ms\n",
      "805:\tlearn: 0.0121964\ttotal: 447ms\tremaining: 108ms\n",
      "806:\tlearn: 0.0121583\ttotal: 447ms\tremaining: 107ms\n",
      "807:\tlearn: 0.0121296\ttotal: 448ms\tremaining: 106ms\n",
      "808:\tlearn: 0.0120705\ttotal: 448ms\tremaining: 106ms\n",
      "809:\tlearn: 0.0120127\ttotal: 449ms\tremaining: 105ms\n",
      "810:\tlearn: 0.0120029\ttotal: 449ms\tremaining: 105ms\n",
      "811:\tlearn: 0.0119919\ttotal: 450ms\tremaining: 104ms\n",
      "812:\tlearn: 0.0119561\ttotal: 450ms\tremaining: 104ms\n",
      "813:\tlearn: 0.0118870\ttotal: 451ms\tremaining: 103ms\n",
      "814:\tlearn: 0.0118513\ttotal: 451ms\tremaining: 102ms\n",
      "815:\tlearn: 0.0117789\ttotal: 452ms\tremaining: 102ms\n",
      "816:\tlearn: 0.0117197\ttotal: 453ms\tremaining: 101ms\n",
      "817:\tlearn: 0.0117104\ttotal: 453ms\tremaining: 101ms\n",
      "818:\tlearn: 0.0116998\ttotal: 453ms\tremaining: 100ms\n",
      "819:\tlearn: 0.0116683\ttotal: 454ms\tremaining: 99.6ms\n",
      "820:\tlearn: 0.0116213\ttotal: 454ms\tremaining: 99.1ms\n",
      "821:\tlearn: 0.0115904\ttotal: 455ms\tremaining: 98.6ms\n",
      "822:\tlearn: 0.0115635\ttotal: 456ms\tremaining: 98ms\n",
      "823:\tlearn: 0.0115160\ttotal: 456ms\tremaining: 97.4ms\n",
      "824:\tlearn: 0.0114492\ttotal: 457ms\tremaining: 96.9ms\n",
      "825:\tlearn: 0.0114030\ttotal: 457ms\tremaining: 96.3ms\n",
      "826:\tlearn: 0.0113828\ttotal: 458ms\tremaining: 95.8ms\n",
      "827:\tlearn: 0.0113078\ttotal: 458ms\tremaining: 95.2ms\n",
      "828:\tlearn: 0.0112714\ttotal: 459ms\tremaining: 94.6ms\n",
      "829:\tlearn: 0.0112612\ttotal: 459ms\tremaining: 94.1ms\n",
      "830:\tlearn: 0.0112360\ttotal: 460ms\tremaining: 93.5ms\n",
      "831:\tlearn: 0.0112163\ttotal: 460ms\tremaining: 93ms\n",
      "832:\tlearn: 0.0111711\ttotal: 461ms\tremaining: 92.4ms\n",
      "833:\tlearn: 0.0111517\ttotal: 462ms\tremaining: 91.9ms\n",
      "834:\tlearn: 0.0111270\ttotal: 462ms\tremaining: 91.3ms\n",
      "835:\tlearn: 0.0110861\ttotal: 463ms\tremaining: 90.8ms\n",
      "836:\tlearn: 0.0110346\ttotal: 463ms\tremaining: 90.2ms\n",
      "837:\tlearn: 0.0110089\ttotal: 464ms\tremaining: 89.6ms\n",
      "838:\tlearn: 0.0109837\ttotal: 464ms\tremaining: 89.1ms\n",
      "839:\tlearn: 0.0109470\ttotal: 465ms\tremaining: 88.5ms\n",
      "840:\tlearn: 0.0109306\ttotal: 465ms\tremaining: 87.9ms\n",
      "841:\tlearn: 0.0109062\ttotal: 465ms\tremaining: 87.3ms\n",
      "842:\tlearn: 0.0108721\ttotal: 466ms\tremaining: 86.8ms\n",
      "843:\tlearn: 0.0108387\ttotal: 468ms\tremaining: 86.4ms\n",
      "844:\tlearn: 0.0108147\ttotal: 468ms\tremaining: 85.9ms\n",
      "845:\tlearn: 0.0108038\ttotal: 469ms\tremaining: 85.3ms\n",
      "846:\tlearn: 0.0107931\ttotal: 469ms\tremaining: 84.7ms\n",
      "847:\tlearn: 0.0107431\ttotal: 469ms\tremaining: 84.1ms\n",
      "848:\tlearn: 0.0107195\ttotal: 470ms\tremaining: 83.5ms\n",
      "849:\tlearn: 0.0106963\ttotal: 470ms\tremaining: 83ms\n",
      "850:\tlearn: 0.0106590\ttotal: 470ms\tremaining: 82.4ms\n",
      "851:\tlearn: 0.0106251\ttotal: 471ms\tremaining: 81.8ms\n",
      "852:\tlearn: 0.0105864\ttotal: 471ms\tremaining: 81.2ms\n",
      "853:\tlearn: 0.0105374\ttotal: 472ms\tremaining: 80.6ms\n",
      "854:\tlearn: 0.0105278\ttotal: 472ms\tremaining: 80.1ms\n",
      "855:\tlearn: 0.0105184\ttotal: 473ms\tremaining: 79.5ms\n",
      "856:\tlearn: 0.0104998\ttotal: 473ms\tremaining: 78.9ms\n",
      "857:\tlearn: 0.0104847\ttotal: 474ms\tremaining: 78.4ms\n",
      "858:\tlearn: 0.0104232\ttotal: 474ms\tremaining: 77.8ms\n",
      "859:\tlearn: 0.0104143\ttotal: 475ms\tremaining: 77.3ms\n",
      "860:\tlearn: 0.0104055\ttotal: 475ms\tremaining: 76.7ms\n",
      "861:\tlearn: 0.0103451\ttotal: 476ms\tremaining: 76.1ms\n",
      "862:\tlearn: 0.0103040\ttotal: 476ms\tremaining: 75.6ms\n",
      "863:\tlearn: 0.0102428\ttotal: 476ms\tremaining: 75ms\n",
      "864:\tlearn: 0.0102029\ttotal: 477ms\tremaining: 74.4ms\n",
      "865:\tlearn: 0.0101429\ttotal: 477ms\tremaining: 73.8ms\n",
      "866:\tlearn: 0.0101041\ttotal: 478ms\tremaining: 73.3ms\n",
      "867:\tlearn: 0.0100454\ttotal: 478ms\tremaining: 72.7ms\n",
      "868:\tlearn: 0.0100077\ttotal: 478ms\tremaining: 72.1ms\n",
      "869:\tlearn: 0.0099770\ttotal: 479ms\tremaining: 71.6ms\n",
      "870:\tlearn: 0.0099213\ttotal: 480ms\tremaining: 71ms\n",
      "871:\tlearn: 0.0098913\ttotal: 480ms\tremaining: 70.5ms\n",
      "872:\tlearn: 0.0098636\ttotal: 481ms\tremaining: 69.9ms\n",
      "873:\tlearn: 0.0098344\ttotal: 481ms\tremaining: 69.3ms\n",
      "874:\tlearn: 0.0098118\ttotal: 482ms\tremaining: 68.8ms\n",
      "875:\tlearn: 0.0097833\ttotal: 482ms\tremaining: 68.3ms\n",
      "876:\tlearn: 0.0097627\ttotal: 483ms\tremaining: 67.7ms\n",
      "877:\tlearn: 0.0097378\ttotal: 483ms\tremaining: 67.1ms\n",
      "878:\tlearn: 0.0097184\ttotal: 483ms\tremaining: 66.5ms\n",
      "879:\tlearn: 0.0096921\ttotal: 484ms\tremaining: 66ms\n",
      "880:\tlearn: 0.0096732\ttotal: 484ms\tremaining: 65.4ms\n",
      "881:\tlearn: 0.0096454\ttotal: 485ms\tremaining: 64.9ms\n",
      "882:\tlearn: 0.0095949\ttotal: 485ms\tremaining: 64.3ms\n",
      "883:\tlearn: 0.0095752\ttotal: 486ms\tremaining: 63.7ms\n",
      "884:\tlearn: 0.0095220\ttotal: 486ms\tremaining: 63.2ms\n",
      "885:\tlearn: 0.0094951\ttotal: 487ms\tremaining: 62.6ms\n",
      "886:\tlearn: 0.0094684\ttotal: 487ms\tremaining: 62.1ms\n",
      "887:\tlearn: 0.0094162\ttotal: 488ms\tremaining: 61.5ms\n",
      "888:\tlearn: 0.0093902\ttotal: 488ms\tremaining: 61ms\n",
      "889:\tlearn: 0.0093643\ttotal: 489ms\tremaining: 60.4ms\n",
      "890:\tlearn: 0.0093391\ttotal: 489ms\tremaining: 59.9ms\n",
      "891:\tlearn: 0.0093218\ttotal: 490ms\tremaining: 59.3ms\n",
      "892:\tlearn: 0.0092705\ttotal: 490ms\tremaining: 58.8ms\n",
      "893:\tlearn: 0.0092456\ttotal: 491ms\tremaining: 58.2ms\n",
      "894:\tlearn: 0.0092247\ttotal: 491ms\tremaining: 57.7ms\n",
      "895:\tlearn: 0.0091743\ttotal: 492ms\tremaining: 57.1ms\n",
      "896:\tlearn: 0.0091536\ttotal: 492ms\tremaining: 56.5ms\n",
      "897:\tlearn: 0.0091372\ttotal: 493ms\tremaining: 56ms\n",
      "898:\tlearn: 0.0091288\ttotal: 493ms\tremaining: 55.4ms\n",
      "899:\tlearn: 0.0090875\ttotal: 494ms\tremaining: 54.9ms\n",
      "900:\tlearn: 0.0090793\ttotal: 494ms\tremaining: 54.3ms\n",
      "901:\tlearn: 0.0090551\ttotal: 495ms\tremaining: 53.8ms\n",
      "902:\tlearn: 0.0090349\ttotal: 495ms\tremaining: 53.2ms\n",
      "903:\tlearn: 0.0089785\ttotal: 496ms\tremaining: 52.7ms\n",
      "904:\tlearn: 0.0089586\ttotal: 496ms\tremaining: 52.1ms\n",
      "905:\tlearn: 0.0089394\ttotal: 497ms\tremaining: 51.5ms\n",
      "906:\tlearn: 0.0089168\ttotal: 497ms\tremaining: 51ms\n",
      "907:\tlearn: 0.0088769\ttotal: 498ms\tremaining: 50.5ms\n",
      "908:\tlearn: 0.0088249\ttotal: 499ms\tremaining: 49.9ms\n",
      "909:\tlearn: 0.0088074\ttotal: 499ms\tremaining: 49.4ms\n",
      "910:\tlearn: 0.0087926\ttotal: 500ms\tremaining: 48.8ms\n",
      "911:\tlearn: 0.0087755\ttotal: 500ms\tremaining: 48.3ms\n",
      "912:\tlearn: 0.0087586\ttotal: 501ms\tremaining: 47.7ms\n",
      "913:\tlearn: 0.0087079\ttotal: 501ms\tremaining: 47.2ms\n",
      "914:\tlearn: 0.0086976\ttotal: 502ms\tremaining: 46.6ms\n",
      "915:\tlearn: 0.0086811\ttotal: 502ms\tremaining: 46ms\n",
      "916:\tlearn: 0.0086710\ttotal: 503ms\tremaining: 45.5ms\n",
      "917:\tlearn: 0.0086277\ttotal: 503ms\tremaining: 44.9ms\n",
      "918:\tlearn: 0.0086117\ttotal: 503ms\tremaining: 44.4ms\n",
      "919:\tlearn: 0.0086017\ttotal: 504ms\tremaining: 43.8ms\n",
      "920:\tlearn: 0.0085610\ttotal: 504ms\tremaining: 43.2ms\n",
      "921:\tlearn: 0.0085373\ttotal: 505ms\tremaining: 42.7ms\n",
      "922:\tlearn: 0.0085164\ttotal: 505ms\tremaining: 42.1ms\n",
      "923:\tlearn: 0.0084704\ttotal: 506ms\tremaining: 41.6ms\n",
      "924:\tlearn: 0.0084597\ttotal: 506ms\tremaining: 41ms\n",
      "925:\tlearn: 0.0084202\ttotal: 507ms\tremaining: 40.5ms\n",
      "926:\tlearn: 0.0083973\ttotal: 507ms\tremaining: 39.9ms\n",
      "927:\tlearn: 0.0083838\ttotal: 507ms\tremaining: 39.4ms\n",
      "928:\tlearn: 0.0083393\ttotal: 508ms\tremaining: 38.8ms\n",
      "929:\tlearn: 0.0083287\ttotal: 508ms\tremaining: 38.3ms\n",
      "930:\tlearn: 0.0082906\ttotal: 509ms\tremaining: 37.7ms\n",
      "931:\tlearn: 0.0082783\ttotal: 509ms\tremaining: 37.2ms\n",
      "932:\tlearn: 0.0082680\ttotal: 510ms\tremaining: 36.6ms\n",
      "933:\tlearn: 0.0082558\ttotal: 510ms\tremaining: 36.1ms\n",
      "934:\tlearn: 0.0082429\ttotal: 511ms\tremaining: 35.5ms\n",
      "935:\tlearn: 0.0082004\ttotal: 511ms\tremaining: 35ms\n",
      "936:\tlearn: 0.0081851\ttotal: 512ms\tremaining: 34.4ms\n",
      "937:\tlearn: 0.0081726\ttotal: 512ms\tremaining: 33.9ms\n",
      "938:\tlearn: 0.0081308\ttotal: 513ms\tremaining: 33.3ms\n",
      "939:\tlearn: 0.0081186\ttotal: 513ms\tremaining: 32.8ms\n",
      "940:\tlearn: 0.0080744\ttotal: 514ms\tremaining: 32.2ms\n",
      "941:\tlearn: 0.0080643\ttotal: 514ms\tremaining: 31.7ms\n",
      "942:\tlearn: 0.0080315\ttotal: 515ms\tremaining: 31.1ms\n",
      "943:\tlearn: 0.0080216\ttotal: 515ms\tremaining: 30.6ms\n",
      "944:\tlearn: 0.0080069\ttotal: 516ms\tremaining: 30ms\n",
      "945:\tlearn: 0.0079950\ttotal: 516ms\tremaining: 29.5ms\n",
      "946:\tlearn: 0.0079495\ttotal: 517ms\tremaining: 28.9ms\n",
      "947:\tlearn: 0.0079378\ttotal: 517ms\tremaining: 28.4ms\n",
      "948:\tlearn: 0.0078933\ttotal: 518ms\tremaining: 27.8ms\n",
      "949:\tlearn: 0.0078768\ttotal: 518ms\tremaining: 27.3ms\n",
      "950:\tlearn: 0.0078368\ttotal: 519ms\tremaining: 26.7ms\n",
      "951:\tlearn: 0.0078207\ttotal: 519ms\tremaining: 26.2ms\n",
      "952:\tlearn: 0.0078049\ttotal: 520ms\tremaining: 25.6ms\n",
      "953:\tlearn: 0.0077933\ttotal: 520ms\tremaining: 25.1ms\n",
      "954:\tlearn: 0.0077543\ttotal: 521ms\tremaining: 24.5ms\n",
      "955:\tlearn: 0.0077057\ttotal: 521ms\tremaining: 24ms\n",
      "956:\tlearn: 0.0076583\ttotal: 522ms\tremaining: 23.4ms\n",
      "957:\tlearn: 0.0076062\ttotal: 522ms\tremaining: 22.9ms\n"
     ]
    },
    {
     "name": "stdout",
     "output_type": "stream",
     "text": [
      "958:\tlearn: 0.0075699\ttotal: 523ms\tremaining: 22.4ms\n",
      "959:\tlearn: 0.0075255\ttotal: 524ms\tremaining: 21.8ms\n",
      "960:\tlearn: 0.0074844\ttotal: 524ms\tremaining: 21.3ms\n",
      "961:\tlearn: 0.0074345\ttotal: 525ms\tremaining: 20.7ms\n",
      "962:\tlearn: 0.0074207\ttotal: 525ms\tremaining: 20.2ms\n",
      "963:\tlearn: 0.0074071\ttotal: 525ms\tremaining: 19.6ms\n",
      "964:\tlearn: 0.0073647\ttotal: 526ms\tremaining: 19.1ms\n",
      "965:\tlearn: 0.0073514\ttotal: 526ms\tremaining: 18.5ms\n",
      "966:\tlearn: 0.0073365\ttotal: 527ms\tremaining: 18ms\n",
      "967:\tlearn: 0.0073219\ttotal: 527ms\tremaining: 17.4ms\n",
      "968:\tlearn: 0.0073108\ttotal: 528ms\tremaining: 16.9ms\n",
      "969:\tlearn: 0.0072991\ttotal: 529ms\tremaining: 16.4ms\n",
      "970:\tlearn: 0.0072860\ttotal: 529ms\tremaining: 15.8ms\n",
      "971:\tlearn: 0.0072751\ttotal: 530ms\tremaining: 15.3ms\n",
      "972:\tlearn: 0.0072610\ttotal: 530ms\tremaining: 14.7ms\n",
      "973:\tlearn: 0.0072496\ttotal: 531ms\tremaining: 14.2ms\n",
      "974:\tlearn: 0.0072356\ttotal: 531ms\tremaining: 13.6ms\n",
      "975:\tlearn: 0.0072225\ttotal: 532ms\tremaining: 13.1ms\n",
      "976:\tlearn: 0.0072113\ttotal: 532ms\tremaining: 12.5ms\n",
      "977:\tlearn: 0.0071978\ttotal: 533ms\tremaining: 12ms\n",
      "978:\tlearn: 0.0071874\ttotal: 533ms\tremaining: 11.4ms\n",
      "979:\tlearn: 0.0071739\ttotal: 534ms\tremaining: 10.9ms\n",
      "980:\tlearn: 0.0071612\ttotal: 534ms\tremaining: 10.3ms\n",
      "981:\tlearn: 0.0071511\ttotal: 535ms\tremaining: 9.8ms\n",
      "982:\tlearn: 0.0071381\ttotal: 535ms\tremaining: 9.26ms\n",
      "983:\tlearn: 0.0071039\ttotal: 536ms\tremaining: 8.71ms\n",
      "984:\tlearn: 0.0070910\ttotal: 536ms\tremaining: 8.16ms\n",
      "985:\tlearn: 0.0070805\ttotal: 537ms\tremaining: 7.62ms\n",
      "986:\tlearn: 0.0070706\ttotal: 537ms\tremaining: 7.07ms\n",
      "987:\tlearn: 0.0070299\ttotal: 538ms\tremaining: 6.53ms\n",
      "988:\tlearn: 0.0069838\ttotal: 538ms\tremaining: 5.99ms\n",
      "989:\tlearn: 0.0069642\ttotal: 539ms\tremaining: 5.44ms\n",
      "990:\tlearn: 0.0069540\ttotal: 539ms\tremaining: 4.9ms\n",
      "991:\tlearn: 0.0069350\ttotal: 540ms\tremaining: 4.35ms\n",
      "992:\tlearn: 0.0069226\ttotal: 540ms\tremaining: 3.81ms\n",
      "993:\tlearn: 0.0069112\ttotal: 541ms\tremaining: 3.27ms\n",
      "994:\tlearn: 0.0069014\ttotal: 541ms\tremaining: 2.72ms\n",
      "995:\tlearn: 0.0068830\ttotal: 542ms\tremaining: 2.18ms\n",
      "996:\tlearn: 0.0068665\ttotal: 542ms\tremaining: 1.63ms\n",
      "997:\tlearn: 0.0068556\ttotal: 543ms\tremaining: 1.09ms\n",
      "998:\tlearn: 0.0068378\ttotal: 544ms\tremaining: 544us\n",
      "999:\tlearn: 0.0068218\ttotal: 544ms\tremaining: 0us\n"
     ]
    },
    {
     "data": {
      "text/plain": [
       "<catboost.core.CatBoostRegressor at 0x7f9fc4438af0>"
      ]
     },
     "execution_count": 9,
     "metadata": {},
     "output_type": "execute_result"
    }
   ],
   "source": [
    "#Train the Model \n",
    "prior_model = ctb.CatBoostRegressor()\n",
    "prior_model.fit(X_train,Y_train)"
   ]
  },
  {
   "cell_type": "code",
   "execution_count": 10,
   "id": "af65dcda",
   "metadata": {
    "execution": {
     "iopub.execute_input": "2022-02-13T15:07:55.752305Z",
     "iopub.status.busy": "2022-02-13T15:07:55.751928Z",
     "iopub.status.idle": "2022-02-13T15:07:55.759415Z",
     "shell.execute_reply": "2022-02-13T15:07:55.759707Z"
    },
    "id": "af65dcda",
    "papermill": {
     "duration": 0.020401,
     "end_time": "2022-02-13T15:07:55.759824",
     "exception": false,
     "start_time": "2022-02-13T15:07:55.739423",
     "status": "completed"
    },
    "tags": []
   },
   "outputs": [
    {
     "data": {
      "application/scrapbook.scrap.json+json": {
       "data": 0.2888769634655603,
       "encoder": "json",
       "name": "Prior Model MSE",
       "version": 1
      }
     },
     "metadata": {
      "scrapbook": {
       "data": true,
       "display": false,
       "name": "Prior Model MSE"
      }
     },
     "output_type": "display_data"
    },
    {
     "data": {
      "application/scrapbook.scrap.json+json": {
       "data": 0.2910326759131091,
       "encoder": "json",
       "name": "ABC Pre-generator MSE",
       "version": 1
      }
     },
     "metadata": {
      "scrapbook": {
       "data": true,
       "display": false,
       "name": "ABC Pre-generator MSE"
      }
     },
     "output_type": "display_data"
    },
    {
     "data": {
      "application/scrapbook.scrap.json+json": {
       "data": 0.41982484068799586,
       "encoder": "json",
       "name": "Prior Model MSE",
       "version": 1
      }
     },
     "metadata": {
      "scrapbook": {
       "data": true,
       "display": false,
       "name": "Prior Model MSE"
      }
     },
     "output_type": "display_data"
    },
    {
     "data": {
      "application/scrapbook.scrap.json+json": {
       "data": 0.4228278603132464,
       "encoder": "json",
       "name": "ABC Pre-generator MSE",
       "version": 1
      }
     },
     "metadata": {
      "scrapbook": {
       "data": true,
       "display": false,
       "name": "ABC Pre-generator MSE"
      }
     },
     "output_type": "display_data"
    }
   ],
   "source": [
    "y_pred = prior_model.predict(X_test)\n",
    "y_abc = y_pred + np.random.normal(0,variance, y_pred.shape)\n",
    "mse = mean_squared_error(y_pred,Y_test)\n",
    "sb.glue(\"Prior Model MSE\",mse)\n",
    "mse = mean_squared_error(y_abc,Y_test)\n",
    "sb.glue(\"ABC Pre-generator MSE\",mse)\n",
    "\n",
    "mae = mean_absolute_error(y_pred,Y_test)\n",
    "sb.glue(\"Prior Model MSE\",mae)\n",
    "mae = mean_absolute_error(y_abc,Y_test)\n",
    "sb.glue(\"ABC Pre-generator MSE\",mae)"
   ]
  },
  {
   "cell_type": "markdown",
   "id": "25609da2",
   "metadata": {
    "papermill": {
     "duration": 0.009479,
     "end_time": "2022-02-13T15:07:55.779247",
     "exception": false,
     "start_time": "2022-02-13T15:07:55.769768",
     "status": "completed"
    },
    "tags": []
   },
   "source": [
    "# ABC GAN Model"
   ]
  },
  {
   "cell_type": "code",
   "execution_count": 11,
   "id": "dfc3464d",
   "metadata": {
    "execution": {
     "iopub.execute_input": "2022-02-13T15:07:55.801520Z",
     "iopub.status.busy": "2022-02-13T15:07:55.801144Z",
     "iopub.status.idle": "2022-02-13T15:07:55.803635Z",
     "shell.execute_reply": "2022-02-13T15:07:55.803874Z"
    },
    "papermill": {
     "duration": 0.015222,
     "end_time": "2022-02-13T15:07:55.803984",
     "exception": false,
     "start_time": "2022-02-13T15:07:55.788762",
     "status": "completed"
    },
    "tags": []
   },
   "outputs": [],
   "source": [
    "gen = network.Generator(n_features+1).to(device)\n",
    "disc = network.Discriminator(n_features+1).to(device)\n",
    "\n",
    "criterion = torch.nn.BCELoss()\n",
    "gen_opt = torch.optim.Adam(gen.parameters(), lr=0.001, betas=(0.5, 0.999))\n",
    "disc_opt = torch.optim.Adam(disc.parameters(), lr=0.001, betas=(0.5, 0.999))"
   ]
  },
  {
   "cell_type": "code",
   "execution_count": 12,
   "id": "b75fdd85",
   "metadata": {
    "execution": {
     "iopub.execute_input": "2022-02-13T15:07:55.825517Z",
     "iopub.status.busy": "2022-02-13T15:07:55.825155Z",
     "iopub.status.idle": "2022-02-13T15:08:08.987398Z",
     "shell.execute_reply": "2022-02-13T15:08:08.987699Z"
    },
    "papermill": {
     "duration": 13.174186,
     "end_time": "2022-02-13T15:08:08.987824",
     "exception": false,
     "start_time": "2022-02-13T15:07:55.813638",
     "status": "completed"
    },
    "tags": []
   },
   "outputs": [
    {
     "data": {
      "image/png": "[encoded data removed]",
      "text/plain": [
       "<Figure size 432x288 with 1 Axes>"
      ]
     },
     "metadata": {
      "needs_background": "light"
     },
     "output_type": "display_data"
    },
    {
     "data": {
      "image/png": "[encoded data removed]",
      "text/plain": [
       "<Figure size 432x288 with 1 Axes>"
      ]
     },
     "metadata": {
      "needs_background": "light"
     },
     "output_type": "display_data"
    }
   ],
   "source": [
    "#Training the ABC_GAN \n",
    "ABC_train_test2.training_GAN(disc,gen,disc_opt,gen_opt,train_data,batch_size,n_epochs,criterion,prior_model,variance,device)"
   ]
  },
  {
   "cell_type": "code",
   "execution_count": 13,
   "id": "1fa7c368",
   "metadata": {
    "execution": {
     "iopub.execute_input": "2022-02-13T15:08:09.011624Z",
     "iopub.status.busy": "2022-02-13T15:08:09.011160Z",
     "iopub.status.idle": "2022-02-13T15:08:09.177886Z",
     "shell.execute_reply": "2022-02-13T15:08:09.178191Z"
    },
    "papermill": {
     "duration": 0.17972,
     "end_time": "2022-02-13T15:08:09.178314",
     "exception": false,
     "start_time": "2022-02-13T15:08:08.998594",
     "status": "completed"
    },
    "tags": []
   },
   "outputs": [
    {
     "data": {
      "application/scrapbook.scrap.json+json": {
       "data": 0.23876632969987413,
       "encoder": "json",
       "name": "ABC-GAN Model 1 MSE",
       "version": 1
      }
     },
     "metadata": {
      "scrapbook": {
       "data": true,
       "display": false,
       "name": "ABC-GAN Model 1 MSE"
      }
     },
     "output_type": "display_data"
    },
    {
     "data": {
      "application/scrapbook.scrap.json+json": {
       "data": 0.37346609668433667,
       "encoder": "json",
       "name": "ABC-GAN Model 1 MAE",
       "version": 1
      }
     },
     "metadata": {
      "scrapbook": {
       "data": true,
       "display": false,
       "name": "ABC-GAN Model 1 MAE"
      }
     },
     "output_type": "display_data"
    },
    {
     "data": {
      "application/scrapbook.scrap.json+json": {
       "data": 7.469321933686733,
       "encoder": "json",
       "name": "ABC-GAN Model 1 Manhattan Distance",
       "version": 1
      }
     },
     "metadata": {
      "scrapbook": {
       "data": true,
       "display": false,
       "name": "ABC-GAN Model 1 Manhattan Distance"
      }
     },
     "output_type": "display_data"
    },
    {
     "data": {
      "application/scrapbook.scrap.json+json": {
       "data": 2.1852373500865703,
       "encoder": "json",
       "name": "ABC-GAN Model 1 Euclidean distance",
       "version": 1
      }
     },
     "metadata": {
      "scrapbook": {
       "data": true,
       "display": false,
       "name": "ABC-GAN Model 1 Euclidean distance"
      }
     },
     "output_type": "display_data"
    },
    {
     "data": {
      "application/scrapbook.scrap.json+json": {
       "data": [
        [
         0.23578741503373948,
         0.24276316448764415,
         0.23931115549380175,
         0.24024915809587358,
         0.23808822673065536,
         0.23872923413394043,
         0.23913426348296918,
         0.24018235528265866,
         0.2391804836017811,
         0.23861738574793412,
         0.24147760557267944,
         0.23792576903605428,
         0.23794013086807003,
         0.23958405557104387,
         0.2388175467180144,
         0.2412905690851656,
         0.2394204265611176,
         0.23838133853210489,
         0.23956685165594593,
         0.23846004349395483,
         0.23971868105438424,
         0.2381237770536746,
         0.23858673277429174,
         0.2399886774197581,
         0.23811673373706438,
         0.2369783471563916,
         0.23773902916275316,
         0.23974385443362523,
         0.2364888782272855,
         0.24036504654658666,
         0.23618161482832326,
         0.2368547965871488,
         0.238986445728444,
         0.23993751335602437,
         0.23852394801032611,
         0.23796462337127658,
         0.23799618465996839,
         0.24130121304250748,
         0.2396623433049147,
         0.23836680335447635,
         0.23805057377143393,
         0.2395378295459934,
         0.23969958577034473,
         0.23822485583350855,
         0.23759276341251034,
         0.2376914340890756,
         0.24118327365145734,
         0.24044465218693817,
         0.23664257431663013,
         0.23953936902104359,
         0.2341245152441737,
         0.2400864945801116,
         0.23558725128535393,
         0.2394142273560599,
         0.23639720346539256,
         0.23954465861950025,
         0.24045464988669854,
         0.23821611074531318,
         0.24012564562802313,
         0.24313278556393197,
         0.23509706637325536,
         0.2397681965272432,
         0.23788116427713213,
         0.23773989846556692,
         0.23805154788127894,
         0.2394489202135235,
         0.23850004369213748,
         0.24028148856943546,
         0.2388653984911116,
         0.2373111969169063,
         0.23879941936377938,
         0.24186329599596412,
         0.24002099372465352,
         0.24093201577277612,
         0.23946709640169717,
         0.2407869895843148,
         0.24048762172840954,
         0.243919573567457,
         0.2381977481399206,
         0.23832903828183633,
         0.23777514097325564,
         0.2369643469579465,
         0.2345418046847647,
         0.2414603608576375,
         0.23846407545013476,
         0.24052716122592713,
         0.23730296378347973,
         0.23658970876931784,
         0.2359073831483994,
         0.23714472854153082,
         0.24030896845646418,
         0.2377108807491573,
         0.239292552434423,
         0.23944122211456778,
         0.23802521598985127,
         0.238402775159326,
         0.23849649979682538,
         0.2358647011391032,
         0.237217684848576,
         0.2372232039704582
        ],
        [
         0.3703259781002998,
         0.3771750178188086,
         0.3740963488817215,
         0.3765524797141552,
         0.3769352100789547,
         0.3745595172047615,
         0.3742694593966007,
         0.3728893920779228,
         0.3752581000328064,
         0.37219622880220415,
         0.37612389400601387,
         0.3712864682078362,
         0.3717201702296734,
         0.3765366688370705,
         0.3710962325334549,
         0.37792566418647766,
         0.3737083986401558,
         0.37391856461763384,
         0.3751559928059578,
         0.3712240278720856,
         0.37546766772866247,
         0.3726540312170982,
         0.37110577523708344,
         0.37271671891212466,
         0.3736935190856457,
         0.3714257348328829,
         0.37187927812337873,
         0.37497987523674964,
         0.3707977972924709,
         0.3738246589899063,
         0.3713220998644829,
         0.37166335731744765,
         0.37175074964761734,
         0.37294959276914597,
         0.37540602684020996,
         0.3715490162372589,
         0.3742527663707733,
         0.37495177760720255,
         0.3751261420547962,
         0.37322696298360825,
         0.3735460311174393,
         0.3742750592529774,
         0.3739958707243204,
         0.37544996291399,
         0.37177267521619795,
         0.37309779822826383,
         0.3755559794604778,
         0.37190236523747444,
         0.371549741178751,
         0.37222412675619126,
         0.3700344577431679,
         0.3748691290616989,
         0.3706864170730114,
         0.37420954182744026,
         0.3744914621114731,
         0.37420574091374875,
         0.3766078718006611,
         0.3727614663541317,
         0.37134475745260714,
         0.37873667702078817,
         0.3682355359196663,
         0.37398146763443946,
         0.37226752191782,
         0.37214780077338216,
         0.37479171305894854,
         0.3748081177473068,
         0.3727645806968212,
         0.3734173387289047,
         0.37509057223796843,
         0.3714351586997509,
         0.3726905360817909,
         0.3779332429170609,
         0.3751072384417057,
         0.37565749920904634,
         0.3744944021105766,
         0.375713486969471,
         0.37339036613702775,
         0.37748842462897303,
         0.37126875296235085,
         0.3737467385828495,
         0.37406043484807017,
         0.37343514040112497,
         0.3689016677439213,
         0.37684671878814696,
         0.373550608754158,
         0.3751362979412079,
         0.3722879223525524,
         0.37012611553072927,
         0.3703981596976519,
         0.37234784811735155,
         0.37722105756402013,
         0.3715336985886097,
         0.3744761228561401,
         0.3740905478596687,
         0.37055401504039764,
         0.37396299168467523,
         0.37258862107992174,
         0.36917192935943605,
         0.37317087054252623,
         0.3713039103895426
        ],
        [
         7.406519562005997,
         7.543500356376171,
         7.48192697763443,
         7.531049594283104,
         7.538704201579094,
         7.49119034409523,
         7.4853891879320145,
         7.457787841558456,
         7.505162000656128,
         7.443924576044083,
         7.522477880120277,
         7.425729364156723,
         7.434403404593468,
         7.530733376741409,
         7.421924650669098,
         7.558513283729553,
         7.474167972803116,
         7.478371292352676,
         7.503119856119156,
         7.424480557441711,
         7.50935335457325,
         7.453080624341965,
         7.422115504741669,
         7.454334378242493,
         7.4738703817129135,
         7.428514696657658,
         7.437585562467575,
         7.499597504734993,
         7.415955945849419,
         7.476493179798126,
         7.426441997289658,
         7.433267146348953,
         7.435014992952347,
         7.458991855382919,
         7.508120536804199,
         7.430980324745178,
         7.485055327415466,
         7.499035552144051,
         7.502522841095924,
         7.464539259672165,
         7.470920622348785,
         7.485501185059547,
         7.479917414486408,
         7.5089992582798,
         7.435453504323959,
         7.461955964565277,
         7.511119589209557,
         7.438047304749489,
         7.43099482357502,
         7.444482535123825,
         7.4006891548633575,
         7.497382581233978,
         7.413728341460228,
         7.484190836548805,
         7.489829242229462,
         7.484114818274975,
         7.532157436013222,
         7.455229327082634,
         7.426895149052143,
         7.574733540415764,
         7.364710718393326,
         7.479629352688789,
         7.4453504383563995,
         7.442956015467644,
         7.49583426117897,
         7.4961623549461365,
         7.455291613936424,
         7.4683467745780945,
         7.501811444759369,
         7.428703173995018,
         7.4538107216358185,
         7.558664858341217,
         7.502144768834114,
         7.513149984180927,
         7.489888042211533,
         7.5142697393894196,
         7.467807322740555,
         7.54976849257946,
         7.425375059247017,
         7.47493477165699,
         7.481208696961403,
         7.468702808022499,
         7.378033354878426,
         7.5369343757629395,
         7.47101217508316,
         7.502725958824158,
         7.445758447051048,
         7.402522310614586,
         7.407963193953037,
         7.446956962347031,
         7.544421151280403,
         7.430673971772194,
         7.489522457122803,
         7.481810957193375,
         7.411080300807953,
         7.479259833693504,
         7.4517724215984344,
         7.383438587188721,
         7.463417410850525,
         7.426078207790852
        ],
        [
         2.171577376165719,
         2.2034661989131763,
         2.1877438400955525,
         2.192027180925791,
         2.1821467720144554,
         2.1850823056989888,
         2.1869351315618357,
         2.1917224061575804,
         2.187146467897297,
         2.18457037308453,
         2.1976241970486194,
         2.1814021593280515,
         2.181467995951671,
         2.188990888839165,
         2.1854864296902616,
         2.196772947234946,
         2.1882432522967714,
         2.1834895856500203,
         2.1889122945241364,
         2.1838500108476078,
         2.189605814087934,
         2.18230968037845,
         2.184430052779405,
         2.1908385491393845,
         2.182277405542496,
         2.1770546486314557,
         2.1805459369742852,
         2.18972077870045,
         2.1748051785265066,
         2.1925557988182955,
         2.1733918874805953,
         2.176487062158417,
         2.1862591142334615,
         2.1906050002500423,
         2.184142614438563,
         2.1815802683893004,
         2.181724935274694,
         2.196821399397354,
         2.1893485026597053,
         2.1834230160666364,
         2.181974215115449,
         2.188779703606525,
         2.189518603576342,
         2.182772804638671,
         2.179875057944883,
         2.180327654684385,
         2.1962844699694863,
         2.1929188411199267,
         2.1755117757283235,
         2.1887867370808127,
         2.1639062606507413,
         2.191284986395478,
         2.170655436891604,
         2.1882149225158845,
         2.1743836067510838,
         2.188810903753452,
         2.1929644314794463,
         2.1827327401462284,
         2.1914636461872834,
         2.2051430137926746,
         2.168396026436386,
         2.1898319411646328,
         2.181197672276092,
         2.180549923599856,
         2.1819786794617353,
         2.1883734608769294,
         2.1840331668367012,
         2.192174667171553,
         2.1857053712296706,
         2.1785830115784264,
         2.1854034838618674,
         2.199378530385182,
         2.190986050729915,
         2.1951401584991155,
         2.188456517281973,
         2.1944793896699726,
         2.193114779159584,
         2.208708100077767,
         2.1826486118471777,
         2.183250046521636,
         2.180711539719344,
         2.176990339702712,
         2.165833810266913,
         2.1975457258388844,
         2.1838684733753304,
         2.193295060979836,
         2.17854522001945,
         2.1752687593459243,
         2.172129752792864,
         2.1778187644592046,
         2.192300018047093,
         2.1804168443174223,
         2.187658805364415,
         2.1883382833308374,
         2.1818579971659533,
         2.1835877594423634,
         2.184016940395955,
         2.1719332454709708,
         2.1781537358440795,
         2.178179074229014
        ]
       ],
       "encoder": "json",
       "name": "ABC_GAN_1 Metrics",
       "version": 1
      }
     },
     "metadata": {
      "scrapbook": {
       "data": true,
       "display": false,
       "name": "ABC_GAN_1 Metrics"
      }
     },
     "output_type": "display_data"
    },
    {
     "name": "stdout",
     "output_type": "stream",
     "text": [
      "MSE\n",
      "0.23876632969987413\n"
     ]
    }
   ],
   "source": [
    "ABC_GAN1_metrics=ABC_train_test2.test_generator(gen,test_data,prior_model,variance,\"1\",device)\n",
    "sb.glue(\"ABC_GAN_1 Metrics\",ABC_GAN1_metrics)\n",
    "\n",
    "print(\"MSE\")\n",
    "print(mean(ABC_GAN1_metrics[0]))"
   ]
  },
  {
   "cell_type": "code",
   "execution_count": 14,
   "id": "eb22ce5c",
   "metadata": {
    "execution": {
     "iopub.execute_input": "2022-02-13T15:08:09.204666Z",
     "iopub.status.busy": "2022-02-13T15:08:09.204295Z",
     "iopub.status.idle": "2022-02-13T15:08:09.493123Z",
     "shell.execute_reply": "2022-02-13T15:08:09.493426Z"
    },
    "papermill": {
     "duration": 0.302979,
     "end_time": "2022-02-13T15:08:09.493547",
     "exception": false,
     "start_time": "2022-02-13T15:08:09.190568",
     "status": "completed"
    },
    "tags": []
   },
   "outputs": [
    {
     "data": {
      "image/png": "[encoded data removed]",
      "text/plain": [
       "<Figure size 432x288 with 1 Axes>"
      ]
     },
     "metadata": {
      "needs_background": "light"
     },
     "output_type": "display_data"
    },
    {
     "data": {
      "image/png": "[encoded data removed]",
      "text/plain": [
       "<Figure size 432x288 with 1 Axes>"
      ]
     },
     "metadata": {
      "needs_background": "light"
     },
     "output_type": "display_data"
    },
    {
     "data": {
      "image/png": "[encoded data removed]",
      "text/plain": [
       "<Figure size 432x288 with 1 Axes>"
      ]
     },
     "metadata": {
      "needs_background": "light"
     },
     "output_type": "display_data"
    },
    {
     "data": {
      "image/png": "[encoded data removed]",
      "text/plain": [
       "<Figure size 432x288 with 1 Axes>"
      ]
     },
     "metadata": {
      "needs_background": "light"
     },
     "output_type": "display_data"
    }
   ],
   "source": [
    "sanityChecks.discProbVsError(train_data,disc,device)\n",
    "sanityChecks.discProbVsError(test_data,disc,device)"
   ]
  },
  {
   "cell_type": "markdown",
   "id": "130f3a4d",
   "metadata": {
    "id": "130f3a4d",
    "papermill": {
     "duration": 0.014276,
     "end_time": "2022-02-13T15:08:09.522417",
     "exception": false,
     "start_time": "2022-02-13T15:08:09.508141",
     "status": "completed"
    },
    "tags": []
   },
   "source": [
    "# ABC - GAN Model with skip connection"
   ]
  },
  {
   "cell_type": "code",
   "execution_count": 15,
   "id": "4e43dad1",
   "metadata": {
    "execution": {
     "iopub.execute_input": "2022-02-13T15:08:09.555038Z",
     "iopub.status.busy": "2022-02-13T15:08:09.554604Z",
     "iopub.status.idle": "2022-02-13T15:08:09.556601Z",
     "shell.execute_reply": "2022-02-13T15:08:09.556840Z"
    },
    "id": "4e43dad1",
    "papermill": {
     "duration": 0.019998,
     "end_time": "2022-02-13T15:08:09.556953",
     "exception": false,
     "start_time": "2022-02-13T15:08:09.536955",
     "status": "completed"
    },
    "tags": []
   },
   "outputs": [],
   "source": [
    "#Generator\n",
    "gen3 = network.GeneratorWithSkipConnection(n_features+1).to(device)\n",
    "constraints=network.weightConstraint()\n",
    "#Discriminator \n",
    "disc3 = network.Discriminator(n_features+1).to(device)\n",
    "\n",
    "criterion = torch.nn.BCELoss()\n",
    "gen_opt = torch.optim.Adam(gen3.parameters(), lr=0.001, betas=(0.5, 0.999))\n",
    "disc_opt = torch.optim.Adam(disc3.parameters(), lr=0.001, betas=(0.5, 0.999))\n"
   ]
  },
  {
   "cell_type": "code",
   "execution_count": 16,
   "id": "26acbc37",
   "metadata": {
    "execution": {
     "iopub.execute_input": "2022-02-13T15:08:09.587571Z",
     "iopub.status.busy": "2022-02-13T15:08:09.587193Z",
     "iopub.status.idle": "2022-02-13T15:08:44.632796Z",
     "shell.execute_reply": "2022-02-13T15:08:44.633192Z"
    },
    "id": "26acbc37",
    "papermill": {
     "duration": 35.06213,
     "end_time": "2022-02-13T15:08:44.633312",
     "exception": false,
     "start_time": "2022-02-13T15:08:09.571182",
     "status": "completed"
    },
    "tags": []
   },
   "outputs": [
    {
     "data": {
      "image/png": "[encoded data removed]",
      "text/plain": [
       "<Figure size 432x288 with 1 Axes>"
      ]
     },
     "metadata": {
      "needs_background": "light"
     },
     "output_type": "display_data"
    },
    {
     "data": {
      "image/png": "[encoded data removed]",
      "text/plain": [
       "<Figure size 432x288 with 1 Axes>"
      ]
     },
     "metadata": {
      "needs_background": "light"
     },
     "output_type": "display_data"
    }
   ],
   "source": [
    "ABC_train_test2.training_GAN_skip_connection(disc3,gen3,disc_opt,gen_opt,train_data,batch_size,n_epochs,criterion,prior_model,variance,device)"
   ]
  },
  {
   "cell_type": "code",
   "execution_count": 17,
   "id": "c5e0717b",
   "metadata": {
    "execution": {
     "iopub.execute_input": "2022-02-13T15:08:44.666622Z",
     "iopub.status.busy": "2022-02-13T15:08:44.666097Z",
     "iopub.status.idle": "2022-02-13T15:08:44.940685Z",
     "shell.execute_reply": "2022-02-13T15:08:44.940980Z"
    },
    "id": "c5e0717b",
    "papermill": {
     "duration": 0.292515,
     "end_time": "2022-02-13T15:08:44.941099",
     "exception": false,
     "start_time": "2022-02-13T15:08:44.648584",
     "status": "completed"
    },
    "tags": []
   },
   "outputs": [
    {
     "data": {
      "application/scrapbook.scrap.json+json": {
       "data": 0.25036905670173126,
       "encoder": "json",
       "name": "ABC-GAN Model 3 MSE",
       "version": 1
      }
     },
     "metadata": {
      "scrapbook": {
       "data": true,
       "display": false,
       "name": "ABC-GAN Model 3 MSE"
      }
     },
     "output_type": "display_data"
    },
    {
     "data": {
      "application/scrapbook.scrap.json+json": {
       "data": 0.3840774527601898,
       "encoder": "json",
       "name": "ABC-GAN Model 3 MAE",
       "version": 1
      }
     },
     "metadata": {
      "scrapbook": {
       "data": true,
       "display": false,
       "name": "ABC-GAN Model 3 MAE"
      }
     },
     "output_type": "display_data"
    },
    {
     "data": {
      "application/scrapbook.scrap.json+json": {
       "data": 7.681549055203796,
       "encoder": "json",
       "name": "ABC-GAN Model 3 Manhattan Distance",
       "version": 1
      }
     },
     "metadata": {
      "scrapbook": {
       "data": true,
       "display": false,
       "name": "ABC-GAN Model 3 Manhattan Distance"
      }
     },
     "output_type": "display_data"
    },
    {
     "data": {
      "application/scrapbook.scrap.json+json": {
       "data": 2.237695532981558,
       "encoder": "json",
       "name": "ABC-GAN Model 3 Euclidean distance",
       "version": 1
      }
     },
     "metadata": {
      "scrapbook": {
       "data": true,
       "display": false,
       "name": "ABC-GAN Model 3 Euclidean distance"
      }
     },
     "output_type": "display_data"
    },
    {
     "data": {
      "application/scrapbook.scrap.json+json": {
       "data": [
        [
         0.25147764276028406,
         0.2533206715775921,
         0.24834143780975798,
         0.249127793391919,
         0.24886555926750936,
         0.250134439385845,
         0.24966217949557593,
         0.2492573865184732,
         0.25103081494567936,
         0.2503660725879695,
         0.25384574254611086,
         0.255677841333948,
         0.25046214334261657,
         0.2476709087880878,
         0.2510297359262605,
         0.24909333444929915,
         0.2509775906527995,
         0.24772913401437419,
         0.24967264273795386,
         0.24893166136854386,
         0.2510755465886917,
         0.2536139114328565,
         0.2525949697760074,
         0.25524457068888473,
         0.24969144268061375,
         0.25096414859517513,
         0.24963292097654666,
         0.2507390366572876,
         0.24622566626983527,
         0.2492983745903871,
         0.24952896033329336,
         0.24967747716450406,
         0.24973862481365616,
         0.24714342807309167,
         0.249543286962654,
         0.2532210038549171,
         0.2506515923919521,
         0.2519413304234727,
         0.25257943009197187,
         0.2517135196583121,
         0.2522674275152196,
         0.2521102534684086,
         0.2548183782629706,
         0.25603362651309014,
         0.2490416254449277,
         0.2513137470813577,
         0.2483848263824091,
         0.24847962433914295,
         0.24983219514786423,
         0.25142063772488665,
         0.2510091713628614,
         0.2499299911649288,
         0.24894642702985276,
         0.24852638782016037,
         0.24687906996344489,
         0.24777074610709166,
         0.24751114711481953,
         0.24818034212680457,
         0.25703175387294924,
         0.25164188327057335,
         0.25124650578964464,
         0.2502486844315842,
         0.25111931938915044,
         0.24968427495731715,
         0.25171073995470505,
         0.24976171333937858,
         0.24991123590518366,
         0.24683886191247928,
         0.25155054597006077,
         0.2544700541737746,
         0.2501649047740371,
         0.24920864464876527,
         0.24968344197884457,
         0.24894691370218683,
         0.2508131958584119,
         0.2505229989795547,
         0.24521982050828833,
         0.2517075049741294,
         0.2476358397899819,
         0.25161380068460476,
         0.25108036943981277,
         0.2451669136322347,
         0.2530024748376791,
         0.25121211023749324,
         0.25538888981993085,
         0.2532492198856399,
         0.2490357630882662,
         0.25053254133159164,
         0.2505498714663448,
         0.25210264714962183,
         0.25060285196150517,
         0.2505223554317437,
         0.24939205320016064,
         0.24901949090082157,
         0.2491416826040323,
         0.24751933895000314,
         0.25035413982588434,
         0.24772039836218784,
         0.24832734268959297,
         0.24830297699802398
        ],
        [
         0.3831918232142925,
         0.3850433498620987,
         0.38221807330846785,
         0.38392870388925077,
         0.38447770923376084,
         0.38410300202667713,
         0.38545600324869156,
         0.38205969259142875,
         0.3828760854899883,
         0.3851183280348778,
         0.3843472708016634,
         0.3895784717053175,
         0.38428460657596586,
         0.38257520124316213,
         0.38487587235867976,
         0.38478077538311484,
         0.380765575915575,
         0.3840682554990053,
         0.38367956280708315,
         0.3829263772815466,
         0.3842050231993198,
         0.38735592663288115,
         0.388020346686244,
         0.3864182189106941,
         0.382595744356513,
         0.3863434184342623,
         0.3861664835363626,
         0.38461164347827437,
         0.3812612697482109,
         0.38305207118391993,
         0.3853354748338461,
         0.38170253820717337,
         0.38539729863405225,
         0.38183826878666877,
         0.3816779114305973,
         0.38812934011220934,
         0.3825697895139456,
         0.3831059068441391,
         0.38889815248548987,
         0.383562670648098,
         0.38727249652147294,
         0.3846262708306313,
         0.3887063879519701,
         0.3895342405885458,
         0.38249479830265043,
         0.3867685470730066,
         0.3804726582020521,
         0.38368245102465154,
         0.38230289965868,
         0.3833940219134092,
         0.38448860831558707,
         0.3835384823381901,
         0.38298804946243764,
         0.3799980375915766,
         0.3821565091609955,
         0.38167747631669047,
         0.3818313956260681,
         0.3838096670806408,
         0.38976315371692183,
         0.38488941378891467,
         0.3856319826096296,
         0.3842774286866188,
         0.3838570788502693,
         0.3850992161780596,
         0.3848211210221052,
         0.38390927873551844,
         0.3844518005847931,
         0.38057587929069997,
         0.3834563173353672,
         0.3876232512295246,
         0.3817586850374937,
         0.38203683607280253,
         0.3854197569191456,
         0.38267794959247114,
         0.38574288338422774,
         0.38585503548383715,
         0.37979451604187486,
         0.3865539200603962,
         0.381228069588542,
         0.38579641208052634,
         0.38271459117531775,
         0.381020188704133,
         0.38483643978834153,
         0.3822599843144417,
         0.39032508321106435,
         0.3853668920695782,
         0.3824913531541824,
         0.38273002170026305,
         0.3846770226955414,
         0.38645889796316624,
         0.3810466554015875,
         0.38280433751642706,
         0.3859255347400904,
         0.3844552829861641,
         0.38233403749763967,
         0.38192511461675166,
         0.3845432985574007,
         0.38280747197568415,
         0.38066224120557307,
         0.38079560436308385
        ],
        [
         7.6638364642858505,
         7.700866997241974,
         7.644361466169357,
         7.678574077785015,
         7.689554184675217,
         7.682060040533543,
         7.709120064973831,
         7.641193851828575,
         7.6575217097997665,
         7.7023665606975555,
         7.686945416033268,
         7.79156943410635,
         7.685692131519318,
         7.651504024863243,
         7.697517447173595,
         7.695615507662296,
         7.6153115183115005,
         7.681365109980106,
         7.673591256141663,
         7.658527545630932,
         7.684100463986397,
         7.747118532657623,
         7.76040693372488,
         7.7283643782138824,
         7.6519148871302605,
         7.7268683686852455,
         7.723329670727253,
         7.692232869565487,
         7.625225394964218,
         7.661041423678398,
         7.706709496676922,
         7.634050764143467,
         7.7079459726810455,
         7.6367653757333755,
         7.633558228611946,
         7.762586802244186,
         7.651395790278912,
         7.662118136882782,
         7.777963049709797,
         7.67125341296196,
         7.745449930429459,
         7.692525416612625,
         7.774127759039402,
         7.790684811770916,
         7.649895966053009,
         7.735370941460133,
         7.609453164041042,
         7.6736490204930305,
         7.646057993173599,
         7.667880438268185,
         7.689772166311741,
         7.670769646763802,
         7.659760989248753,
         7.5999607518315315,
         7.64313018321991,
         7.633549526333809,
         7.636627912521362,
         7.676193341612816,
         7.795263074338436,
         7.697788275778294,
         7.712639652192593,
         7.685548573732376,
         7.677141577005386,
         7.701984323561192,
         7.696422420442104,
         7.678185574710369,
         7.689036011695862,
         7.611517585813999,
         7.669126346707344,
         7.752465024590492,
         7.635173700749874,
         7.640736721456051,
         7.708395138382912,
         7.6535589918494225,
         7.714857667684555,
         7.7171007096767426,
         7.595890320837498,
         7.731078401207924,
         7.62456139177084,
         7.715928241610527,
         7.654291823506355,
         7.620403774082661,
         7.6967287957668304,
         7.645199686288834,
         7.806501664221287,
         7.707337841391563,
         7.649827063083649,
         7.6546004340052605,
         7.693540453910828,
         7.729177959263325,
         7.62093310803175,
         7.656086750328541,
         7.718510694801807,
         7.689105659723282,
         7.646680749952793,
         7.638502292335033,
         7.690865971148014,
         7.656149439513683,
         7.613244824111462,
         7.615912087261677
        ],
        [
         2.2426664609802507,
         2.2508694834556358,
         2.2286383188384695,
         2.2321639428676336,
         2.230988835774439,
         2.2366691279035664,
         2.234556687558299,
         2.2327444391083957,
         2.2406731798532307,
         2.2377045050138746,
         2.25320102319394,
         2.2613174979818647,
         2.2381337910974697,
         2.2256275914361225,
         2.2406683642442964,
         2.232009562924403,
         2.240435630196947,
         2.2258891886811174,
         2.2346035117575282,
         2.2312851066976798,
         2.2408728057999707,
         2.2521718914543647,
         2.2476430756506134,
         2.2594006757938474,
         2.2346876411732075,
         2.2403756318759367,
         2.234425747150917,
         2.2393706109408846,
         2.219124450182257,
         2.232928008648676,
         2.233960430863955,
         2.234625146034583,
         2.2348987664485214,
         2.2232562968452,
         2.2340245610227925,
         2.250426643349732,
         2.2389800909876447,
         2.2447330817871096,
         2.2475739369016177,
         2.243717984321168,
         2.2461853330267276,
         2.245485486341021,
         2.2575135803045376,
         2.262890304513633,
         2.231777880726161,
         2.2419355346724745,
         2.2288329968053198,
         2.2292582817571542,
         2.2353174054163505,
         2.2424122623856957,
         2.2405765836626133,
         2.2357548665492324,
         2.2313512813084935,
         2.2294680433689127,
         2.2220669205199237,
         2.2260761267624773,
         2.224909648119759,
         2.227915358027789,
         2.2672968657542367,
         2.2433986862373496,
         2.241635589428597,
         2.2371798516506636,
         2.241068135461974,
         2.234655566109986,
         2.2437055954590166,
         2.235002073105878,
         2.2356709771573438,
         2.2218859642766513,
         2.2429915112191607,
         2.255970098089842,
         2.2368053324955977,
         2.232526123693809,
         2.2346518385593965,
         2.2313534623729465,
         2.2397017473691085,
         2.2384056780644332,
         2.214587187302809,
         2.2436911773866273,
         2.2254700168278245,
         2.243273503987442,
         2.2408943278959534,
         2.214348272662793,
         2.249455377808945,
         2.241482144642215,
         2.260039335144107,
         2.2505520206635525,
         2.2317516129187234,
         2.238448307786408,
         2.2385257267511793,
         2.2454516122580856,
         2.2387623900785236,
         2.238402803034984,
         2.2333475018463234,
         2.23167869954804,
         2.2322261650828854,
         2.2249464665470184,
         2.2376511784721247,
         2.2258499426609504,
         2.2285750725052678,
         2.2284657367705876
        ]
       ],
       "encoder": "json",
       "name": "ABC_GAN_3 Metrics",
       "version": 1
      }
     },
     "metadata": {
      "scrapbook": {
       "data": true,
       "display": false,
       "name": "ABC_GAN_3 Metrics"
      }
     },
     "output_type": "display_data"
    },
    {
     "name": "stdout",
     "output_type": "stream",
     "text": [
      "MSE\n",
      "0.25036905670173126\n"
     ]
    }
   ],
   "source": [
    "ABC_GAN3_metrics=ABC_train_test2.test_generator(gen3,test_data,prior_model,variance,\"3\",device)\n",
    "sb.glue(\"ABC_GAN_3 Metrics\",ABC_GAN3_metrics)\n",
    "\n",
    "print(\"MSE\")\n",
    "print(mean(ABC_GAN3_metrics[0]))"
   ]
  },
  {
   "cell_type": "code",
   "execution_count": 18,
   "id": "c8e46b48",
   "metadata": {
    "execution": {
     "iopub.execute_input": "2022-02-13T15:08:44.998641Z",
     "iopub.status.busy": "2022-02-13T15:08:44.998269Z",
     "iopub.status.idle": "2022-02-13T15:08:45.283717Z",
     "shell.execute_reply": "2022-02-13T15:08:45.284018Z"
    },
    "id": "c8e46b48",
    "papermill": {
     "duration": 0.304728,
     "end_time": "2022-02-13T15:08:45.284140",
     "exception": false,
     "start_time": "2022-02-13T15:08:44.979412",
     "status": "completed"
    },
    "tags": []
   },
   "outputs": [
    {
     "data": {
      "image/png": "[encoded data removed]",
      "text/plain": [
       "<Figure size 432x288 with 1 Axes>"
      ]
     },
     "metadata": {
      "needs_background": "light"
     },
     "output_type": "display_data"
    },
    {
     "data": {
      "image/png": "[encoded data removed]",
      "text/plain": [
       "<Figure size 432x288 with 1 Axes>"
      ]
     },
     "metadata": {
      "needs_background": "light"
     },
     "output_type": "display_data"
    },
    {
     "data": {
      "image/png": "[encoded data removed]",
      "text/plain": [
       "<Figure size 432x288 with 1 Axes>"
      ]
     },
     "metadata": {
      "needs_background": "light"
     },
     "output_type": "display_data"
    },
    {
     "data": {
      "image/png": "[encoded data removed]",
      "text/plain": [
       "<Figure size 432x288 with 1 Axes>"
      ]
     },
     "metadata": {
      "needs_background": "light"
     },
     "output_type": "display_data"
    }
   ],
   "source": [
    "sanityChecks.discProbVsError(train_data,disc3,device)\n",
    "sanityChecks.discProbVsError(test_data,disc3,device)"
   ]
  },
  {
   "cell_type": "markdown",
   "id": "a5bd74c3",
   "metadata": {
    "id": "a5bd74c3",
    "papermill": {
     "duration": 0.019016,
     "end_time": "2022-02-13T15:08:45.322546",
     "exception": false,
     "start_time": "2022-02-13T15:08:45.303530",
     "status": "completed"
    },
    "tags": []
   },
   "source": [
    "## Skip Connection Model Analysis - ABC-GAN "
   ]
  },
  {
   "cell_type": "markdown",
   "id": "5744a8bf",
   "metadata": {
    "id": "5744a8bf",
    "papermill": {
     "duration": 0.018662,
     "end_time": "2022-02-13T15:08:45.360012",
     "exception": false,
     "start_time": "2022-02-13T15:08:45.341350",
     "status": "completed"
    },
    "tags": []
   },
   "source": [
    "### Weight Analysis \n",
    "\n",
    "Study the weights of the skip connection layer\n",
    "\n",
    "Equation of the skip connection is \n",
    "\n",
    "$output = y_{gan} * w + y_{abc} * (1-w)$"
   ]
  },
  {
   "cell_type": "code",
   "execution_count": 19,
   "id": "52c31dea",
   "metadata": {
    "execution": {
     "iopub.execute_input": "2022-02-13T15:08:45.400342Z",
     "iopub.status.busy": "2022-02-13T15:08:45.399966Z",
     "iopub.status.idle": "2022-02-13T15:08:45.403329Z",
     "shell.execute_reply": "2022-02-13T15:08:45.403577Z"
    },
    "id": "52c31dea",
    "papermill": {
     "duration": 0.024957,
     "end_time": "2022-02-13T15:08:45.403689",
     "exception": false,
     "start_time": "2022-02-13T15:08:45.378732",
     "status": "completed"
    },
    "tags": []
   },
   "outputs": [
    {
     "name": "stdout",
     "output_type": "stream",
     "text": [
      "Weight of the node at skip connection\n",
      "Parameter containing:\n",
      "tensor([[0.0288]], requires_grad=True)\n"
     ]
    },
    {
     "data": {
      "application/scrapbook.scrap.json+json": {
       "data": 0.028806298971176147,
       "encoder": "json",
       "name": "Skip Connection Weight",
       "version": 1
      }
     },
     "metadata": {
      "scrapbook": {
       "data": true,
       "display": false,
       "name": "Skip Connection Weight"
      }
     },
     "output_type": "display_data"
    }
   ],
   "source": [
    "print(\"Weight of the node at skip connection\")\n",
    "for name,param in gen3.named_parameters():\n",
    "    if(name == \"skipNode.weight\"):\n",
    "        print(param)\n",
    "        sb.glue(\"Skip Connection Weight\",param.item())"
   ]
  }
 ],
 "metadata": {
  "colab": {
   "collapsed_sections": [],
   "name": "ABC_GAN_Model-Catboost_Pre-gen.ipynb",
   "provenance": []
  },
  "interpreter": {
   "hash": "31f2aee4e71d21fbe5cf8b01ff0e069b9275f58929596ceb00d14d90e3e16cd6"
  },
  "kernelspec": {
   "display_name": "Python 3 (ipykernel)",
   "language": "python",
   "name": "python3"
  },
  "language_info": {
   "codemirror_mode": {
    "name": "ipython",
    "version": 3
   },
   "file_extension": ".py",
   "mimetype": "text/x-python",
   "name": "python",
   "nbconvert_exporter": "python",
   "pygments_lexer": "ipython3",
   "version": "3.8.11"
  },
  "papermill": {
   "default_parameters": {},
   "duration": 53.467765,
   "end_time": "2022-02-13T15:08:45.730039",
   "environment_variables": {},
   "exception": null,
   "input_path": "ABC_GAN-Catboost.ipynb",
   "output_path": "./ABC_GAN_Catboost/ABC-GAN_output_10_2.ipynb",
   "parameters": {
    "variance": 0.01
   },
   "start_time": "2022-02-13T15:07:52.262274",
   "version": "2.3.3"
  }
 },
 "nbformat": 4,
 "nbformat_minor": 5
}