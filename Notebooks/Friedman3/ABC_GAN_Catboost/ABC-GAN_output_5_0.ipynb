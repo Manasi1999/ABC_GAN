{
 "cells": [
  {
   "cell_type": "markdown",
   "id": "622780e6",
   "metadata": {
    "id": "622780e6",
    "papermill": {
     "duration": 0.035077,
     "end_time": "2022-02-13T17:16:38.842412",
     "exception": false,
     "start_time": "2022-02-13T17:16:38.807335",
     "status": "completed"
    },
    "tags": []
   },
   "source": [
    "## Import Libraries "
   ]
  },
  {
   "cell_type": "code",
   "execution_count": 1,
   "id": "a62397e3",
   "metadata": {
    "execution": {
     "iopub.execute_input": "2022-02-13T17:16:38.879934Z",
     "iopub.status.busy": "2022-02-13T17:16:38.879416Z",
     "iopub.status.idle": "2022-02-13T17:16:38.881666Z",
     "shell.execute_reply": "2022-02-13T17:16:38.882011Z"
    },
    "id": "a62397e3",
    "papermill": {
     "duration": 0.022967,
     "end_time": "2022-02-13T17:16:38.882213",
     "exception": false,
     "start_time": "2022-02-13T17:16:38.859246",
     "status": "completed"
    },
    "tags": []
   },
   "outputs": [],
   "source": [
    "import warnings\n",
    "import sys\n",
    "sys.path.insert(0, '../../src')\n",
    "warnings.filterwarnings('ignore')"
   ]
  },
  {
   "cell_type": "code",
   "execution_count": 2,
   "id": "d6a4e155",
   "metadata": {
    "execution": {
     "iopub.execute_input": "2022-02-13T17:16:38.902388Z",
     "iopub.status.busy": "2022-02-13T17:16:38.901997Z",
     "iopub.status.idle": "2022-02-13T17:16:40.694606Z",
     "shell.execute_reply": "2022-02-13T17:16:40.694865Z"
    },
    "id": "d6a4e155",
    "papermill": {
     "duration": 1.803331,
     "end_time": "2022-02-13T17:16:40.694986",
     "exception": false,
     "start_time": "2022-02-13T17:16:38.891655",
     "status": "completed"
    },
    "tags": []
   },
   "outputs": [],
   "source": [
    "import ABC_train_test2\n",
    "import friedman3Dataset\n",
    "import network\n",
    "import dataset\n",
    "import sanityChecks\n",
    "import torch \n",
    "import scrapbook as sb\n",
    "from statistics import mean \n",
    "import catboost as ctb \n",
    "from sklearn.model_selection import train_test_split\n",
    "from sklearn.metrics import mean_squared_error,mean_absolute_error\n",
    "import numpy as np"
   ]
  },
  {
   "cell_type": "markdown",
   "id": "2fa5b0f7",
   "metadata": {
    "id": "2fa5b0f7",
    "papermill": {
     "duration": 0.006811,
     "end_time": "2022-02-13T17:16:40.708839",
     "exception": false,
     "start_time": "2022-02-13T17:16:40.702028",
     "status": "completed"
    },
    "tags": []
   },
   "source": [
    "## Parameters "
   ]
  },
  {
   "cell_type": "code",
   "execution_count": 3,
   "id": "783186fb",
   "metadata": {
    "execution": {
     "iopub.execute_input": "2022-02-13T17:16:40.724610Z",
     "iopub.status.busy": "2022-02-13T17:16:40.724200Z",
     "iopub.status.idle": "2022-02-13T17:16:40.725437Z",
     "shell.execute_reply": "2022-02-13T17:16:40.725675Z"
    },
    "id": "783186fb",
    "papermill": {
     "duration": 0.010246,
     "end_time": "2022-02-13T17:16:40.725783",
     "exception": false,
     "start_time": "2022-02-13T17:16:40.715537",
     "status": "completed"
    },
    "tags": [
     "parameters"
    ]
   },
   "outputs": [],
   "source": [
    "variance = 1"
   ]
  },
  {
   "cell_type": "code",
   "execution_count": 4,
   "id": "fe0d18df",
   "metadata": {
    "execution": {
     "iopub.execute_input": "2022-02-13T17:16:40.741155Z",
     "iopub.status.busy": "2022-02-13T17:16:40.740789Z",
     "iopub.status.idle": "2022-02-13T17:16:40.742107Z",
     "shell.execute_reply": "2022-02-13T17:16:40.742353Z"
    },
    "papermill": {
     "duration": 0.009857,
     "end_time": "2022-02-13T17:16:40.742456",
     "exception": false,
     "start_time": "2022-02-13T17:16:40.732599",
     "status": "completed"
    },
    "tags": [
     "injected-parameters"
    ]
   },
   "outputs": [],
   "source": [
    "# Parameters\n",
    "variance = 1\n"
   ]
  },
  {
   "cell_type": "markdown",
   "id": "391cdbfd",
   "metadata": {
    "id": "391cdbfd",
    "papermill": {
     "duration": 0.006762,
     "end_time": "2022-02-13T17:16:40.756008",
     "exception": false,
     "start_time": "2022-02-13T17:16:40.749246",
     "status": "completed"
    },
    "tags": []
   },
   "source": [
    "## Dataset \n"
   ]
  },
  {
   "cell_type": "code",
   "execution_count": 5,
   "id": "5b51f161",
   "metadata": {
    "execution": {
     "iopub.execute_input": "2022-02-13T17:16:40.771463Z",
     "iopub.status.busy": "2022-02-13T17:16:40.771109Z",
     "iopub.status.idle": "2022-02-13T17:16:40.772436Z",
     "shell.execute_reply": "2022-02-13T17:16:40.772690Z"
    },
    "id": "5b51f161",
    "papermill": {
     "duration": 0.009998,
     "end_time": "2022-02-13T17:16:40.772801",
     "exception": false,
     "start_time": "2022-02-13T17:16:40.762803",
     "status": "completed"
    },
    "tags": []
   },
   "outputs": [],
   "source": [
    "#Parameters \n",
    "n_features = 4\n",
    "n_samples= 100\n",
    "n_target = 1 "
   ]
  },
  {
   "cell_type": "code",
   "execution_count": 6,
   "id": "5d6eced4",
   "metadata": {
    "execution": {
     "iopub.execute_input": "2022-02-13T17:16:40.789003Z",
     "iopub.status.busy": "2022-02-13T17:16:40.788343Z",
     "iopub.status.idle": "2022-02-13T17:16:40.794230Z",
     "shell.execute_reply": "2022-02-13T17:16:40.794477Z"
    },
    "id": "5d6eced4",
    "papermill": {
     "duration": 0.014854,
     "end_time": "2022-02-13T17:16:40.794589",
     "exception": false,
     "start_time": "2022-02-13T17:16:40.779735",
     "status": "completed"
    },
    "tags": []
   },
   "outputs": [
    {
     "name": "stdout",
     "output_type": "stream",
     "text": [
      "          X1           X2        X3         X4         Y\n",
      "0  60.134654   283.370689  0.322281  10.736609  0.767781\n",
      "1  48.865119  1172.189699  0.340180   4.516700  1.635696\n",
      "2  80.105616   316.848563  0.127392   7.713795  0.566790\n",
      "3  90.429133  1601.369719  0.374170   5.727197  1.463073\n",
      "4   5.503783   478.445586  0.682955   7.723424  1.513125\n"
     ]
    }
   ],
   "source": [
    "X,Y = friedman3Dataset.friedman3_data(n_samples)"
   ]
  },
  {
   "cell_type": "code",
   "execution_count": 7,
   "id": "fe007438",
   "metadata": {
    "execution": {
     "iopub.execute_input": "2022-02-13T17:16:40.811349Z",
     "iopub.status.busy": "2022-02-13T17:16:40.810979Z",
     "iopub.status.idle": "2022-02-13T17:16:40.812274Z",
     "shell.execute_reply": "2022-02-13T17:16:40.812503Z"
    },
    "id": "fe007438",
    "papermill": {
     "duration": 0.010822,
     "end_time": "2022-02-13T17:16:40.812606",
     "exception": false,
     "start_time": "2022-02-13T17:16:40.801784",
     "status": "completed"
    },
    "tags": []
   },
   "outputs": [],
   "source": [
    "#Train test split for dataset \n",
    "X_train,X_test,Y_train,Y_test = train_test_split(X,Y,test_size = 0.2)\n",
    "train_data = dataset.CustomDataset(X_train,Y_train)\n",
    "test_data = dataset.CustomDataset(X_test,Y_test)\n"
   ]
  },
  {
   "cell_type": "markdown",
   "id": "a9a1af34",
   "metadata": {
    "id": "a9a1af34",
    "papermill": {
     "duration": 0.007157,
     "end_time": "2022-02-13T17:16:40.826927",
     "exception": false,
     "start_time": "2022-02-13T17:16:40.819770",
     "status": "completed"
    },
    "tags": []
   },
   "source": [
    "## Training Parameters "
   ]
  },
  {
   "cell_type": "code",
   "execution_count": 8,
   "id": "952b7fc8",
   "metadata": {
    "execution": {
     "iopub.execute_input": "2022-02-13T17:16:40.843446Z",
     "iopub.status.busy": "2022-02-13T17:16:40.843071Z",
     "iopub.status.idle": "2022-02-13T17:16:40.844344Z",
     "shell.execute_reply": "2022-02-13T17:16:40.844593Z"
    },
    "id": "952b7fc8",
    "papermill": {
     "duration": 0.010735,
     "end_time": "2022-02-13T17:16:40.844704",
     "exception": false,
     "start_time": "2022-02-13T17:16:40.833969",
     "status": "completed"
    },
    "tags": []
   },
   "outputs": [],
   "source": [
    "batch_size = 32\n",
    "n_epochs = 1000\n",
    "#Select the device \n",
    "device = torch.device('cuda' if torch.cuda.is_available() else 'cpu')"
   ]
  },
  {
   "cell_type": "markdown",
   "id": "a95e1600",
   "metadata": {
    "id": "a95e1600",
    "papermill": {
     "duration": 0.00704,
     "end_time": "2022-02-13T17:16:40.858935",
     "exception": false,
     "start_time": "2022-02-13T17:16:40.851895",
     "status": "completed"
    },
    "tags": []
   },
   "source": [
    "# ABC Pre-generator Model \n",
    "\n",
    "1. The catboost model is used as a pre-generator model for the ABC-GAN. \n",
    "2. The model is first trained on the entire dataset \n",
    "3. It generats X,Y pairs and we add some Gaussian noise with mean 0 and variance 1 to it which is then feed as input to the generator.\n"
   ]
  },
  {
   "cell_type": "code",
   "execution_count": 9,
   "id": "ff8ce7bd",
   "metadata": {
    "execution": {
     "iopub.execute_input": "2022-02-13T17:16:40.881647Z",
     "iopub.status.busy": "2022-02-13T17:16:40.881242Z",
     "iopub.status.idle": "2022-02-13T17:16:41.499715Z",
     "shell.execute_reply": "2022-02-13T17:16:41.500091Z"
    },
    "id": "ff8ce7bd",
    "papermill": {
     "duration": 0.634161,
     "end_time": "2022-02-13T17:16:41.500219",
     "exception": false,
     "start_time": "2022-02-13T17:16:40.866058",
     "status": "completed"
    },
    "tags": []
   },
   "outputs": [
    {
     "name": "stdout",
     "output_type": "stream",
     "text": [
      "Learning rate set to 0.024897\n",
      "0:\tlearn: 1.0198539\ttotal: 58.1ms\tremaining: 58.1s\n",
      "1:\tlearn: 1.0098122\ttotal: 58.7ms\tremaining: 29.3s\n",
      "2:\tlearn: 0.9966352\ttotal: 59.3ms\tremaining: 19.7s\n",
      "3:\tlearn: 0.9840896\ttotal: 59.8ms\tremaining: 14.9s\n",
      "4:\tlearn: 0.9731524\ttotal: 60.2ms\tremaining: 12s\n",
      "5:\tlearn: 0.9623268\ttotal: 60.6ms\tremaining: 10s\n",
      "6:\tlearn: 0.9521274\ttotal: 61.1ms\tremaining: 8.67s\n",
      "7:\tlearn: 0.9416836\ttotal: 61.7ms\tremaining: 7.65s\n",
      "8:\tlearn: 0.9320787\ttotal: 62.2ms\tremaining: 6.84s\n",
      "9:\tlearn: 0.9185233\ttotal: 62.7ms\tremaining: 6.21s\n",
      "10:\tlearn: 0.9104601\ttotal: 63.3ms\tremaining: 5.69s\n",
      "11:\tlearn: 0.9013030\ttotal: 63.7ms\tremaining: 5.25s\n",
      "12:\tlearn: 0.8923838\ttotal: 64.2ms\tremaining: 4.88s\n",
      "13:\tlearn: 0.8820639\ttotal: 64.6ms\tremaining: 4.55s\n",
      "14:\tlearn: 0.8719206\ttotal: 65.1ms\tremaining: 4.27s\n",
      "15:\tlearn: 0.8629997\ttotal: 65.6ms\tremaining: 4.03s\n",
      "16:\tlearn: 0.8519510\ttotal: 66.1ms\tremaining: 3.82s\n",
      "17:\tlearn: 0.8443127\ttotal: 66.5ms\tremaining: 3.63s\n",
      "18:\tlearn: 0.8375694\ttotal: 67.1ms\tremaining: 3.46s\n",
      "19:\tlearn: 0.8303756\ttotal: 67.5ms\tremaining: 3.31s\n",
      "20:\tlearn: 0.8219715\ttotal: 67.9ms\tremaining: 3.17s\n",
      "21:\tlearn: 0.8145176\ttotal: 68.3ms\tremaining: 3.04s\n",
      "22:\tlearn: 0.8060748\ttotal: 68.8ms\tremaining: 2.92s\n",
      "23:\tlearn: 0.7985788\ttotal: 69.2ms\tremaining: 2.81s\n",
      "24:\tlearn: 0.7911288\ttotal: 69.6ms\tremaining: 2.71s\n",
      "25:\tlearn: 0.7835112\ttotal: 70.3ms\tremaining: 2.63s\n",
      "26:\tlearn: 0.7776412\ttotal: 70.8ms\tremaining: 2.55s\n",
      "27:\tlearn: 0.7691534\ttotal: 71.2ms\tremaining: 2.47s\n",
      "28:\tlearn: 0.7620030\ttotal: 71.5ms\tremaining: 2.39s\n",
      "29:\tlearn: 0.7547776\ttotal: 72ms\tremaining: 2.33s\n",
      "30:\tlearn: 0.7473668\ttotal: 72.4ms\tremaining: 2.26s\n",
      "31:\tlearn: 0.7396281\ttotal: 72.9ms\tremaining: 2.2s\n",
      "32:\tlearn: 0.7341011\ttotal: 73.2ms\tremaining: 2.15s\n",
      "33:\tlearn: 0.7285466\ttotal: 73.7ms\tremaining: 2.09s\n",
      "34:\tlearn: 0.7221370\ttotal: 74.2ms\tremaining: 2.04s\n",
      "35:\tlearn: 0.7161922\ttotal: 74.6ms\tremaining: 2s\n",
      "36:\tlearn: 0.7091498\ttotal: 75ms\tremaining: 1.95s\n",
      "37:\tlearn: 0.7031688\ttotal: 75.6ms\tremaining: 1.91s\n",
      "38:\tlearn: 0.6971910\ttotal: 76.3ms\tremaining: 1.88s\n",
      "39:\tlearn: 0.6896003\ttotal: 76.8ms\tremaining: 1.84s\n",
      "40:\tlearn: 0.6832973\ttotal: 77.3ms\tremaining: 1.81s\n",
      "41:\tlearn: 0.6766259\ttotal: 77.9ms\tremaining: 1.78s\n",
      "42:\tlearn: 0.6714205\ttotal: 78.1ms\tremaining: 1.74s\n",
      "43:\tlearn: 0.6660079\ttotal: 78.6ms\tremaining: 1.71s\n",
      "44:\tlearn: 0.6610905\ttotal: 79.1ms\tremaining: 1.68s\n",
      "45:\tlearn: 0.6557986\ttotal: 79.5ms\tremaining: 1.65s\n",
      "46:\tlearn: 0.6493709\ttotal: 80.1ms\tremaining: 1.62s\n",
      "47:\tlearn: 0.6434715\ttotal: 80.6ms\tremaining: 1.6s\n",
      "48:\tlearn: 0.6370323\ttotal: 81ms\tremaining: 1.57s\n",
      "49:\tlearn: 0.6323972\ttotal: 81.5ms\tremaining: 1.55s\n",
      "50:\tlearn: 0.6276890\ttotal: 82ms\tremaining: 1.53s\n",
      "51:\tlearn: 0.6232467\ttotal: 82.5ms\tremaining: 1.5s\n",
      "52:\tlearn: 0.6179935\ttotal: 82.9ms\tremaining: 1.48s\n"
     ]
    },
    {
     "name": "stdout",
     "output_type": "stream",
     "text": [
      "53:\tlearn: 0.6137825\ttotal: 83.4ms\tremaining: 1.46s\n",
      "54:\tlearn: 0.6079880\ttotal: 83.9ms\tremaining: 1.44s\n",
      "55:\tlearn: 0.6019604\ttotal: 84.5ms\tremaining: 1.42s\n",
      "56:\tlearn: 0.5972436\ttotal: 84.9ms\tremaining: 1.41s\n",
      "57:\tlearn: 0.5915936\ttotal: 85.3ms\tremaining: 1.38s\n",
      "58:\tlearn: 0.5864408\ttotal: 85.6ms\tremaining: 1.36s\n",
      "59:\tlearn: 0.5820624\ttotal: 86.1ms\tremaining: 1.35s\n",
      "60:\tlearn: 0.5773561\ttotal: 86.4ms\tremaining: 1.33s\n",
      "61:\tlearn: 0.5724559\ttotal: 86.9ms\tremaining: 1.31s\n",
      "62:\tlearn: 0.5677855\ttotal: 87.3ms\tremaining: 1.3s\n",
      "63:\tlearn: 0.5632562\ttotal: 87.7ms\tremaining: 1.28s\n",
      "64:\tlearn: 0.5589872\ttotal: 88ms\tremaining: 1.26s\n",
      "65:\tlearn: 0.5548715\ttotal: 88.4ms\tremaining: 1.25s\n",
      "66:\tlearn: 0.5506340\ttotal: 88.7ms\tremaining: 1.24s\n",
      "67:\tlearn: 0.5455192\ttotal: 89.1ms\tremaining: 1.22s\n",
      "68:\tlearn: 0.5406045\ttotal: 89.4ms\tremaining: 1.21s\n",
      "69:\tlearn: 0.5361375\ttotal: 89.7ms\tremaining: 1.19s\n",
      "70:\tlearn: 0.5321208\ttotal: 90ms\tremaining: 1.18s\n",
      "71:\tlearn: 0.5280957\ttotal: 90.6ms\tremaining: 1.17s\n",
      "72:\tlearn: 0.5244418\ttotal: 91ms\tremaining: 1.16s\n",
      "73:\tlearn: 0.5205637\ttotal: 91.4ms\tremaining: 1.14s\n",
      "74:\tlearn: 0.5164487\ttotal: 91.9ms\tremaining: 1.13s\n",
      "75:\tlearn: 0.5128148\ttotal: 92.2ms\tremaining: 1.12s\n",
      "76:\tlearn: 0.5084752\ttotal: 92.7ms\tremaining: 1.11s\n",
      "77:\tlearn: 0.5051932\ttotal: 93.1ms\tremaining: 1.1s\n",
      "78:\tlearn: 0.5024590\ttotal: 93.5ms\tremaining: 1.09s\n",
      "79:\tlearn: 0.4986915\ttotal: 94ms\tremaining: 1.08s\n",
      "80:\tlearn: 0.4948061\ttotal: 94.5ms\tremaining: 1.07s\n",
      "81:\tlearn: 0.4920411\ttotal: 94.8ms\tremaining: 1.06s\n",
      "82:\tlearn: 0.4880355\ttotal: 95.1ms\tremaining: 1.05s\n",
      "83:\tlearn: 0.4842175\ttotal: 95.5ms\tremaining: 1.04s\n",
      "84:\tlearn: 0.4812360\ttotal: 96.1ms\tremaining: 1.03s\n",
      "85:\tlearn: 0.4777085\ttotal: 96.6ms\tremaining: 1.03s\n",
      "86:\tlearn: 0.4742123\ttotal: 97ms\tremaining: 1.02s\n",
      "87:\tlearn: 0.4703419\ttotal: 97.5ms\tremaining: 1.01s\n",
      "88:\tlearn: 0.4674641\ttotal: 98ms\tremaining: 1s\n",
      "89:\tlearn: 0.4643838\ttotal: 98.3ms\tremaining: 994ms\n",
      "90:\tlearn: 0.4611661\ttotal: 98.8ms\tremaining: 987ms\n",
      "91:\tlearn: 0.4573856\ttotal: 99.4ms\tremaining: 981ms\n",
      "92:\tlearn: 0.4548628\ttotal: 99.7ms\tremaining: 972ms\n",
      "93:\tlearn: 0.4514147\ttotal: 100ms\tremaining: 966ms\n",
      "94:\tlearn: 0.4484119\ttotal: 101ms\tremaining: 960ms\n",
      "95:\tlearn: 0.4457249\ttotal: 101ms\tremaining: 953ms\n",
      "96:\tlearn: 0.4427651\ttotal: 102ms\tremaining: 948ms\n",
      "97:\tlearn: 0.4399308\ttotal: 102ms\tremaining: 941ms\n",
      "98:\tlearn: 0.4375077\ttotal: 103ms\tremaining: 935ms\n",
      "99:\tlearn: 0.4348632\ttotal: 103ms\tremaining: 929ms\n",
      "100:\tlearn: 0.4326000\ttotal: 104ms\tremaining: 922ms\n",
      "101:\tlearn: 0.4300532\ttotal: 104ms\tremaining: 917ms\n",
      "102:\tlearn: 0.4280727\ttotal: 105ms\tremaining: 911ms\n",
      "103:\tlearn: 0.4249171\ttotal: 105ms\tremaining: 904ms\n",
      "104:\tlearn: 0.4222599\ttotal: 105ms\tremaining: 899ms\n",
      "105:\tlearn: 0.4196448\ttotal: 106ms\tremaining: 894ms\n",
      "106:\tlearn: 0.4167634\ttotal: 106ms\tremaining: 888ms\n",
      "107:\tlearn: 0.4137546\ttotal: 107ms\tremaining: 883ms\n",
      "108:\tlearn: 0.4110533\ttotal: 107ms\tremaining: 878ms\n",
      "109:\tlearn: 0.4086545\ttotal: 108ms\tremaining: 872ms\n",
      "110:\tlearn: 0.4064325\ttotal: 108ms\tremaining: 866ms\n",
      "111:\tlearn: 0.4042971\ttotal: 109ms\tremaining: 861ms\n",
      "112:\tlearn: 0.4013032\ttotal: 109ms\tremaining: 856ms\n",
      "113:\tlearn: 0.3988707\ttotal: 110ms\tremaining: 851ms\n",
      "114:\tlearn: 0.3964075\ttotal: 110ms\tremaining: 847ms\n",
      "115:\tlearn: 0.3938154\ttotal: 111ms\tremaining: 843ms\n",
      "116:\tlearn: 0.3916351\ttotal: 111ms\tremaining: 838ms\n",
      "117:\tlearn: 0.3885207\ttotal: 112ms\tremaining: 834ms\n",
      "118:\tlearn: 0.3862064\ttotal: 112ms\tremaining: 829ms\n",
      "119:\tlearn: 0.3846144\ttotal: 113ms\tremaining: 825ms\n",
      "120:\tlearn: 0.3826486\ttotal: 113ms\tremaining: 821ms\n",
      "121:\tlearn: 0.3802615\ttotal: 113ms\tremaining: 817ms\n",
      "122:\tlearn: 0.3786812\ttotal: 114ms\tremaining: 813ms\n",
      "123:\tlearn: 0.3766558\ttotal: 114ms\tremaining: 808ms\n",
      "124:\tlearn: 0.3746477\ttotal: 115ms\tremaining: 804ms\n",
      "125:\tlearn: 0.3730189\ttotal: 115ms\tremaining: 800ms\n",
      "126:\tlearn: 0.3710055\ttotal: 116ms\tremaining: 796ms\n",
      "127:\tlearn: 0.3695493\ttotal: 116ms\tremaining: 791ms\n",
      "128:\tlearn: 0.3673576\ttotal: 117ms\tremaining: 788ms\n",
      "129:\tlearn: 0.3655844\ttotal: 117ms\tremaining: 784ms\n",
      "130:\tlearn: 0.3639809\ttotal: 118ms\tremaining: 780ms\n",
      "131:\tlearn: 0.3616840\ttotal: 118ms\tremaining: 777ms\n",
      "132:\tlearn: 0.3601874\ttotal: 119ms\tremaining: 773ms\n",
      "133:\tlearn: 0.3584069\ttotal: 119ms\tremaining: 769ms\n",
      "134:\tlearn: 0.3568780\ttotal: 119ms\tremaining: 765ms\n",
      "135:\tlearn: 0.3550048\ttotal: 120ms\tremaining: 763ms\n",
      "136:\tlearn: 0.3530712\ttotal: 121ms\tremaining: 760ms\n",
      "137:\tlearn: 0.3511008\ttotal: 121ms\tremaining: 757ms\n",
      "138:\tlearn: 0.3499175\ttotal: 122ms\tremaining: 754ms\n",
      "139:\tlearn: 0.3479990\ttotal: 122ms\tremaining: 750ms\n",
      "140:\tlearn: 0.3459599\ttotal: 123ms\tremaining: 748ms\n",
      "141:\tlearn: 0.3445187\ttotal: 123ms\tremaining: 744ms\n",
      "142:\tlearn: 0.3426910\ttotal: 124ms\tremaining: 742ms\n",
      "143:\tlearn: 0.3410572\ttotal: 124ms\tremaining: 739ms\n",
      "144:\tlearn: 0.3391230\ttotal: 125ms\tremaining: 735ms\n",
      "145:\tlearn: 0.3376726\ttotal: 125ms\tremaining: 733ms\n",
      "146:\tlearn: 0.3358234\ttotal: 126ms\tremaining: 730ms\n",
      "147:\tlearn: 0.3338302\ttotal: 126ms\tremaining: 727ms\n",
      "148:\tlearn: 0.3321794\ttotal: 127ms\tremaining: 724ms\n",
      "149:\tlearn: 0.3305150\ttotal: 127ms\tremaining: 720ms\n",
      "150:\tlearn: 0.3289250\ttotal: 128ms\tremaining: 718ms\n",
      "151:\tlearn: 0.3273160\ttotal: 128ms\tremaining: 715ms\n",
      "152:\tlearn: 0.3261311\ttotal: 129ms\tremaining: 713ms\n",
      "153:\tlearn: 0.3241216\ttotal: 129ms\tremaining: 710ms\n",
      "154:\tlearn: 0.3225358\ttotal: 130ms\tremaining: 707ms\n",
      "155:\tlearn: 0.3211649\ttotal: 130ms\tremaining: 704ms\n",
      "156:\tlearn: 0.3197152\ttotal: 131ms\tremaining: 702ms\n",
      "157:\tlearn: 0.3184451\ttotal: 131ms\tremaining: 698ms\n",
      "158:\tlearn: 0.3172303\ttotal: 131ms\tremaining: 695ms\n",
      "159:\tlearn: 0.3157572\ttotal: 132ms\tremaining: 692ms\n",
      "160:\tlearn: 0.3144692\ttotal: 132ms\tremaining: 689ms\n",
      "161:\tlearn: 0.3129066\ttotal: 133ms\tremaining: 687ms\n",
      "162:\tlearn: 0.3114721\ttotal: 133ms\tremaining: 684ms\n",
      "163:\tlearn: 0.3099843\ttotal: 134ms\tremaining: 682ms\n",
      "164:\tlearn: 0.3089537\ttotal: 134ms\tremaining: 679ms\n",
      "165:\tlearn: 0.3082055\ttotal: 135ms\tremaining: 677ms\n",
      "166:\tlearn: 0.3064573\ttotal: 135ms\tremaining: 674ms\n",
      "167:\tlearn: 0.3050462\ttotal: 136ms\tremaining: 672ms\n",
      "168:\tlearn: 0.3039601\ttotal: 136ms\tremaining: 669ms\n",
      "169:\tlearn: 0.3026136\ttotal: 136ms\tremaining: 666ms\n",
      "170:\tlearn: 0.3011067\ttotal: 137ms\tremaining: 664ms\n",
      "171:\tlearn: 0.2993913\ttotal: 137ms\tremaining: 662ms\n",
      "172:\tlearn: 0.2980876\ttotal: 138ms\tremaining: 660ms\n",
      "173:\tlearn: 0.2962656\ttotal: 139ms\tremaining: 658ms\n",
      "174:\tlearn: 0.2947812\ttotal: 139ms\tremaining: 655ms\n",
      "175:\tlearn: 0.2938502\ttotal: 140ms\tremaining: 653ms\n",
      "176:\tlearn: 0.2926606\ttotal: 140ms\tremaining: 651ms\n",
      "177:\tlearn: 0.2916385\ttotal: 141ms\tremaining: 649ms\n",
      "178:\tlearn: 0.2906845\ttotal: 141ms\tremaining: 646ms\n",
      "179:\tlearn: 0.2893652\ttotal: 141ms\tremaining: 644ms\n",
      "180:\tlearn: 0.2881935\ttotal: 142ms\tremaining: 641ms\n",
      "181:\tlearn: 0.2871865\ttotal: 142ms\tremaining: 638ms\n",
      "182:\tlearn: 0.2859350\ttotal: 142ms\tremaining: 636ms\n",
      "183:\tlearn: 0.2845990\ttotal: 143ms\tremaining: 634ms\n",
      "184:\tlearn: 0.2831062\ttotal: 143ms\tremaining: 632ms\n",
      "185:\tlearn: 0.2821988\ttotal: 144ms\tremaining: 629ms\n",
      "186:\tlearn: 0.2811998\ttotal: 144ms\tremaining: 627ms\n",
      "187:\tlearn: 0.2796141\ttotal: 144ms\tremaining: 624ms\n",
      "188:\tlearn: 0.2784792\ttotal: 145ms\tremaining: 621ms\n",
      "189:\tlearn: 0.2773932\ttotal: 145ms\tremaining: 618ms\n",
      "190:\tlearn: 0.2760235\ttotal: 145ms\tremaining: 616ms\n",
      "191:\tlearn: 0.2749437\ttotal: 146ms\tremaining: 614ms\n",
      "192:\tlearn: 0.2739729\ttotal: 146ms\tremaining: 611ms\n",
      "193:\tlearn: 0.2725980\ttotal: 147ms\tremaining: 609ms\n",
      "194:\tlearn: 0.2712482\ttotal: 147ms\tremaining: 607ms\n",
      "195:\tlearn: 0.2703737\ttotal: 148ms\tremaining: 605ms\n",
      "196:\tlearn: 0.2695807\ttotal: 148ms\tremaining: 603ms\n",
      "197:\tlearn: 0.2680398\ttotal: 148ms\tremaining: 601ms\n",
      "198:\tlearn: 0.2667386\ttotal: 149ms\tremaining: 600ms\n",
      "199:\tlearn: 0.2657872\ttotal: 149ms\tremaining: 598ms\n",
      "200:\tlearn: 0.2649217\ttotal: 150ms\tremaining: 596ms\n",
      "201:\tlearn: 0.2635354\ttotal: 150ms\tremaining: 594ms\n",
      "202:\tlearn: 0.2628694\ttotal: 151ms\tremaining: 592ms\n",
      "203:\tlearn: 0.2618175\ttotal: 151ms\tremaining: 590ms\n",
      "204:\tlearn: 0.2606469\ttotal: 152ms\tremaining: 588ms\n",
      "205:\tlearn: 0.2599334\ttotal: 152ms\tremaining: 586ms\n",
      "206:\tlearn: 0.2588437\ttotal: 153ms\tremaining: 585ms\n",
      "207:\tlearn: 0.2578898\ttotal: 153ms\tremaining: 582ms\n",
      "208:\tlearn: 0.2569124\ttotal: 153ms\tremaining: 581ms\n",
      "209:\tlearn: 0.2560436\ttotal: 154ms\tremaining: 578ms\n",
      "210:\tlearn: 0.2550712\ttotal: 154ms\tremaining: 576ms\n"
     ]
    },
    {
     "name": "stdout",
     "output_type": "stream",
     "text": [
      "211:\tlearn: 0.2539598\ttotal: 155ms\tremaining: 576ms\n",
      "212:\tlearn: 0.2531770\ttotal: 156ms\tremaining: 575ms\n",
      "213:\tlearn: 0.2522474\ttotal: 156ms\tremaining: 573ms\n",
      "214:\tlearn: 0.2511969\ttotal: 157ms\tremaining: 572ms\n",
      "215:\tlearn: 0.2503743\ttotal: 157ms\tremaining: 570ms\n",
      "216:\tlearn: 0.2495603\ttotal: 158ms\tremaining: 569ms\n",
      "217:\tlearn: 0.2486295\ttotal: 158ms\tremaining: 567ms\n",
      "218:\tlearn: 0.2482149\ttotal: 158ms\tremaining: 565ms\n",
      "219:\tlearn: 0.2477016\ttotal: 159ms\tremaining: 563ms\n",
      "220:\tlearn: 0.2473664\ttotal: 159ms\tremaining: 561ms\n",
      "221:\tlearn: 0.2469719\ttotal: 160ms\tremaining: 559ms\n",
      "222:\tlearn: 0.2458108\ttotal: 160ms\tremaining: 558ms\n",
      "223:\tlearn: 0.2447057\ttotal: 161ms\tremaining: 556ms\n",
      "224:\tlearn: 0.2437825\ttotal: 161ms\tremaining: 555ms\n",
      "225:\tlearn: 0.2425766\ttotal: 162ms\tremaining: 553ms\n",
      "226:\tlearn: 0.2413178\ttotal: 162ms\tremaining: 551ms\n",
      "227:\tlearn: 0.2408221\ttotal: 162ms\tremaining: 550ms\n",
      "228:\tlearn: 0.2404521\ttotal: 163ms\tremaining: 549ms\n",
      "229:\tlearn: 0.2398020\ttotal: 163ms\tremaining: 547ms\n",
      "230:\tlearn: 0.2384551\ttotal: 164ms\tremaining: 546ms\n",
      "231:\tlearn: 0.2375737\ttotal: 164ms\tremaining: 544ms\n",
      "232:\tlearn: 0.2368045\ttotal: 165ms\tremaining: 543ms\n",
      "233:\tlearn: 0.2359791\ttotal: 165ms\tremaining: 541ms\n",
      "234:\tlearn: 0.2349777\ttotal: 166ms\tremaining: 539ms\n",
      "235:\tlearn: 0.2336561\ttotal: 166ms\tremaining: 537ms\n",
      "236:\tlearn: 0.2332552\ttotal: 166ms\tremaining: 536ms\n",
      "237:\tlearn: 0.2327425\ttotal: 167ms\tremaining: 534ms\n",
      "238:\tlearn: 0.2324546\ttotal: 167ms\tremaining: 532ms\n",
      "239:\tlearn: 0.2313765\ttotal: 168ms\tremaining: 531ms\n",
      "240:\tlearn: 0.2303136\ttotal: 168ms\tremaining: 529ms\n",
      "241:\tlearn: 0.2291255\ttotal: 168ms\tremaining: 527ms\n",
      "242:\tlearn: 0.2282123\ttotal: 169ms\tremaining: 526ms\n",
      "243:\tlearn: 0.2279256\ttotal: 169ms\tremaining: 524ms\n",
      "244:\tlearn: 0.2270342\ttotal: 170ms\tremaining: 523ms\n",
      "245:\tlearn: 0.2263879\ttotal: 170ms\tremaining: 521ms\n",
      "246:\tlearn: 0.2260636\ttotal: 171ms\tremaining: 520ms\n",
      "247:\tlearn: 0.2257502\ttotal: 171ms\tremaining: 519ms\n",
      "248:\tlearn: 0.2249505\ttotal: 171ms\tremaining: 517ms\n",
      "249:\tlearn: 0.2240941\ttotal: 172ms\tremaining: 516ms\n",
      "250:\tlearn: 0.2234318\ttotal: 172ms\tremaining: 514ms\n",
      "251:\tlearn: 0.2225053\ttotal: 173ms\tremaining: 513ms\n",
      "252:\tlearn: 0.2217543\ttotal: 173ms\tremaining: 512ms\n",
      "253:\tlearn: 0.2207676\ttotal: 174ms\tremaining: 510ms\n",
      "254:\tlearn: 0.2204133\ttotal: 174ms\tremaining: 508ms\n",
      "255:\tlearn: 0.2202033\ttotal: 174ms\tremaining: 506ms\n",
      "256:\tlearn: 0.2195118\ttotal: 175ms\tremaining: 505ms\n",
      "257:\tlearn: 0.2184063\ttotal: 175ms\tremaining: 503ms\n",
      "258:\tlearn: 0.2181236\ttotal: 175ms\tremaining: 501ms\n",
      "259:\tlearn: 0.2178407\ttotal: 176ms\tremaining: 500ms\n",
      "260:\tlearn: 0.2176524\ttotal: 176ms\tremaining: 498ms\n",
      "261:\tlearn: 0.2166059\ttotal: 176ms\tremaining: 496ms\n",
      "262:\tlearn: 0.2153568\ttotal: 177ms\tremaining: 495ms\n",
      "263:\tlearn: 0.2144761\ttotal: 177ms\tremaining: 494ms\n",
      "264:\tlearn: 0.2139440\ttotal: 178ms\tremaining: 492ms\n",
      "265:\tlearn: 0.2133550\ttotal: 178ms\tremaining: 491ms\n",
      "266:\tlearn: 0.2125388\ttotal: 178ms\tremaining: 490ms\n",
      "267:\tlearn: 0.2120222\ttotal: 179ms\tremaining: 489ms\n",
      "268:\tlearn: 0.2114689\ttotal: 179ms\tremaining: 488ms\n",
      "269:\tlearn: 0.2107222\ttotal: 180ms\tremaining: 487ms\n",
      "270:\tlearn: 0.2103566\ttotal: 180ms\tremaining: 485ms\n",
      "271:\tlearn: 0.2092558\ttotal: 181ms\tremaining: 484ms\n",
      "272:\tlearn: 0.2090473\ttotal: 181ms\tremaining: 483ms\n",
      "273:\tlearn: 0.2088409\ttotal: 182ms\tremaining: 482ms\n",
      "274:\tlearn: 0.2086130\ttotal: 182ms\tremaining: 481ms\n",
      "275:\tlearn: 0.2083384\ttotal: 183ms\tremaining: 480ms\n",
      "276:\tlearn: 0.2074399\ttotal: 184ms\tremaining: 479ms\n",
      "277:\tlearn: 0.2069485\ttotal: 184ms\tremaining: 478ms\n",
      "278:\tlearn: 0.2060461\ttotal: 184ms\tremaining: 477ms\n",
      "279:\tlearn: 0.2052644\ttotal: 185ms\tremaining: 476ms\n",
      "280:\tlearn: 0.2044119\ttotal: 185ms\tremaining: 474ms\n",
      "281:\tlearn: 0.2041449\ttotal: 186ms\tremaining: 473ms\n",
      "282:\tlearn: 0.2037956\ttotal: 186ms\tremaining: 472ms\n",
      "283:\tlearn: 0.2035129\ttotal: 187ms\tremaining: 471ms\n",
      "284:\tlearn: 0.2026753\ttotal: 187ms\tremaining: 470ms\n",
      "285:\tlearn: 0.2024925\ttotal: 188ms\tremaining: 469ms\n",
      "286:\tlearn: 0.2021831\ttotal: 188ms\tremaining: 468ms\n",
      "287:\tlearn: 0.2017105\ttotal: 189ms\tremaining: 467ms\n",
      "288:\tlearn: 0.2013497\ttotal: 189ms\tremaining: 466ms\n",
      "289:\tlearn: 0.2011344\ttotal: 190ms\tremaining: 464ms\n",
      "290:\tlearn: 0.2009357\ttotal: 190ms\tremaining: 463ms\n",
      "291:\tlearn: 0.2002510\ttotal: 191ms\tremaining: 462ms\n",
      "292:\tlearn: 0.1995114\ttotal: 191ms\tremaining: 461ms\n",
      "293:\tlearn: 0.1992230\ttotal: 191ms\tremaining: 459ms\n",
      "294:\tlearn: 0.1990812\ttotal: 192ms\tremaining: 458ms\n",
      "295:\tlearn: 0.1988930\ttotal: 192ms\tremaining: 457ms\n",
      "296:\tlearn: 0.1984385\ttotal: 193ms\tremaining: 456ms\n",
      "297:\tlearn: 0.1982507\ttotal: 193ms\tremaining: 455ms\n",
      "298:\tlearn: 0.1980538\ttotal: 194ms\tremaining: 454ms\n",
      "299:\tlearn: 0.1978401\ttotal: 194ms\tremaining: 453ms\n",
      "300:\tlearn: 0.1976545\ttotal: 195ms\tremaining: 452ms\n",
      "301:\tlearn: 0.1968835\ttotal: 195ms\tremaining: 451ms\n",
      "302:\tlearn: 0.1967152\ttotal: 195ms\tremaining: 450ms\n",
      "303:\tlearn: 0.1963768\ttotal: 196ms\tremaining: 449ms\n",
      "304:\tlearn: 0.1961903\ttotal: 196ms\tremaining: 447ms\n",
      "305:\tlearn: 0.1960029\ttotal: 197ms\tremaining: 446ms\n",
      "306:\tlearn: 0.1950727\ttotal: 197ms\tremaining: 445ms\n",
      "307:\tlearn: 0.1948231\ttotal: 198ms\tremaining: 444ms\n",
      "308:\tlearn: 0.1946731\ttotal: 198ms\tremaining: 443ms\n",
      "309:\tlearn: 0.1938291\ttotal: 199ms\tremaining: 443ms\n",
      "310:\tlearn: 0.1936549\ttotal: 199ms\tremaining: 442ms\n",
      "311:\tlearn: 0.1929275\ttotal: 200ms\tremaining: 440ms\n",
      "312:\tlearn: 0.1927777\ttotal: 201ms\tremaining: 440ms\n",
      "313:\tlearn: 0.1921544\ttotal: 201ms\tremaining: 439ms\n",
      "314:\tlearn: 0.1916879\ttotal: 201ms\tremaining: 438ms\n",
      "315:\tlearn: 0.1909660\ttotal: 202ms\tremaining: 437ms\n",
      "316:\tlearn: 0.1908054\ttotal: 202ms\tremaining: 436ms\n",
      "317:\tlearn: 0.1898612\ttotal: 203ms\tremaining: 435ms\n",
      "318:\tlearn: 0.1892548\ttotal: 203ms\tremaining: 433ms\n",
      "319:\tlearn: 0.1882992\ttotal: 203ms\tremaining: 432ms\n",
      "320:\tlearn: 0.1881401\ttotal: 204ms\tremaining: 431ms\n",
      "321:\tlearn: 0.1873503\ttotal: 204ms\tremaining: 430ms\n",
      "322:\tlearn: 0.1872006\ttotal: 205ms\tremaining: 429ms\n",
      "323:\tlearn: 0.1864221\ttotal: 205ms\tremaining: 428ms\n",
      "324:\tlearn: 0.1862731\ttotal: 206ms\tremaining: 427ms\n",
      "325:\tlearn: 0.1861208\ttotal: 206ms\tremaining: 426ms\n",
      "326:\tlearn: 0.1859431\ttotal: 207ms\tremaining: 426ms\n",
      "327:\tlearn: 0.1857913\ttotal: 207ms\tremaining: 424ms\n",
      "328:\tlearn: 0.1856493\ttotal: 208ms\tremaining: 423ms\n",
      "329:\tlearn: 0.1849787\ttotal: 208ms\tremaining: 423ms\n",
      "330:\tlearn: 0.1841080\ttotal: 209ms\tremaining: 422ms\n",
      "331:\tlearn: 0.1834113\ttotal: 209ms\tremaining: 421ms\n",
      "332:\tlearn: 0.1828454\ttotal: 210ms\tremaining: 420ms\n",
      "333:\tlearn: 0.1822826\ttotal: 210ms\tremaining: 419ms\n",
      "334:\tlearn: 0.1821290\ttotal: 211ms\tremaining: 418ms\n",
      "335:\tlearn: 0.1819907\ttotal: 211ms\tremaining: 417ms\n",
      "336:\tlearn: 0.1818661\ttotal: 211ms\tremaining: 416ms\n",
      "337:\tlearn: 0.1813106\ttotal: 212ms\tremaining: 415ms\n",
      "338:\tlearn: 0.1806777\ttotal: 213ms\tremaining: 414ms\n",
      "339:\tlearn: 0.1801077\ttotal: 213ms\tremaining: 413ms\n",
      "340:\tlearn: 0.1794878\ttotal: 213ms\tremaining: 413ms\n",
      "341:\tlearn: 0.1789606\ttotal: 214ms\tremaining: 411ms\n",
      "342:\tlearn: 0.1783549\ttotal: 214ms\tremaining: 410ms\n",
      "343:\tlearn: 0.1776742\ttotal: 215ms\tremaining: 409ms\n",
      "344:\tlearn: 0.1775425\ttotal: 215ms\tremaining: 408ms\n",
      "345:\tlearn: 0.1767956\ttotal: 215ms\tremaining: 407ms\n",
      "346:\tlearn: 0.1766650\ttotal: 216ms\tremaining: 406ms\n",
      "347:\tlearn: 0.1765397\ttotal: 216ms\tremaining: 405ms\n",
      "348:\tlearn: 0.1757163\ttotal: 217ms\tremaining: 404ms\n",
      "349:\tlearn: 0.1751112\ttotal: 217ms\tremaining: 403ms\n",
      "350:\tlearn: 0.1743102\ttotal: 217ms\tremaining: 402ms\n",
      "351:\tlearn: 0.1741790\ttotal: 218ms\tremaining: 401ms\n",
      "352:\tlearn: 0.1735006\ttotal: 218ms\tremaining: 400ms\n",
      "353:\tlearn: 0.1733898\ttotal: 219ms\tremaining: 399ms\n",
      "354:\tlearn: 0.1726817\ttotal: 219ms\tremaining: 398ms\n",
      "355:\tlearn: 0.1719028\ttotal: 220ms\tremaining: 397ms\n",
      "356:\tlearn: 0.1717951\ttotal: 220ms\tremaining: 396ms\n",
      "357:\tlearn: 0.1716887\ttotal: 220ms\tremaining: 395ms\n",
      "358:\tlearn: 0.1711651\ttotal: 221ms\tremaining: 394ms\n",
      "359:\tlearn: 0.1704356\ttotal: 221ms\tremaining: 393ms\n",
      "360:\tlearn: 0.1696148\ttotal: 221ms\tremaining: 392ms\n",
      "361:\tlearn: 0.1688807\ttotal: 222ms\tremaining: 391ms\n",
      "362:\tlearn: 0.1683597\ttotal: 222ms\tremaining: 390ms\n",
      "363:\tlearn: 0.1676532\ttotal: 222ms\tremaining: 389ms\n",
      "364:\tlearn: 0.1675345\ttotal: 223ms\tremaining: 388ms\n",
      "365:\tlearn: 0.1674250\ttotal: 223ms\tremaining: 387ms\n",
      "366:\tlearn: 0.1673257\ttotal: 223ms\tremaining: 385ms\n",
      "367:\tlearn: 0.1666819\ttotal: 224ms\tremaining: 384ms\n",
      "368:\tlearn: 0.1659941\ttotal: 224ms\tremaining: 383ms\n",
      "369:\tlearn: 0.1658882\ttotal: 225ms\tremaining: 382ms\n",
      "370:\tlearn: 0.1651528\ttotal: 225ms\tremaining: 381ms\n",
      "371:\tlearn: 0.1650577\ttotal: 225ms\tremaining: 380ms\n",
      "372:\tlearn: 0.1645499\ttotal: 226ms\tremaining: 379ms\n",
      "373:\tlearn: 0.1638844\ttotal: 226ms\tremaining: 378ms\n",
      "374:\tlearn: 0.1637749\ttotal: 226ms\tremaining: 377ms\n",
      "375:\tlearn: 0.1636825\ttotal: 227ms\tremaining: 377ms\n",
      "376:\tlearn: 0.1635805\ttotal: 227ms\tremaining: 376ms\n",
      "377:\tlearn: 0.1634798\ttotal: 228ms\tremaining: 375ms\n",
      "378:\tlearn: 0.1629986\ttotal: 228ms\tremaining: 374ms\n",
      "379:\tlearn: 0.1622053\ttotal: 229ms\tremaining: 373ms\n",
      "380:\tlearn: 0.1621163\ttotal: 229ms\tremaining: 372ms\n",
      "381:\tlearn: 0.1620284\ttotal: 230ms\tremaining: 371ms\n",
      "382:\tlearn: 0.1612660\ttotal: 230ms\tremaining: 371ms\n",
      "383:\tlearn: 0.1611690\ttotal: 230ms\tremaining: 370ms\n",
      "384:\tlearn: 0.1610832\ttotal: 231ms\tremaining: 369ms\n",
      "385:\tlearn: 0.1609985\ttotal: 231ms\tremaining: 368ms\n",
      "386:\tlearn: 0.1608992\ttotal: 232ms\tremaining: 368ms\n",
      "387:\tlearn: 0.1603009\ttotal: 233ms\tremaining: 367ms\n",
      "388:\tlearn: 0.1598372\ttotal: 233ms\tremaining: 366ms\n",
      "389:\tlearn: 0.1597552\ttotal: 234ms\tremaining: 365ms\n",
      "390:\tlearn: 0.1596689\ttotal: 234ms\tremaining: 365ms\n",
      "391:\tlearn: 0.1591981\ttotal: 235ms\tremaining: 364ms\n",
      "392:\tlearn: 0.1584555\ttotal: 235ms\tremaining: 363ms\n",
      "393:\tlearn: 0.1583757\ttotal: 235ms\tremaining: 362ms\n",
      "394:\tlearn: 0.1582968\ttotal: 236ms\tremaining: 361ms\n",
      "395:\tlearn: 0.1577235\ttotal: 236ms\tremaining: 360ms\n",
      "396:\tlearn: 0.1576462\ttotal: 237ms\tremaining: 360ms\n",
      "397:\tlearn: 0.1575699\ttotal: 237ms\tremaining: 359ms\n",
      "398:\tlearn: 0.1569781\ttotal: 238ms\tremaining: 358ms\n",
      "399:\tlearn: 0.1568912\ttotal: 238ms\tremaining: 357ms\n",
      "400:\tlearn: 0.1562634\ttotal: 239ms\tremaining: 356ms\n",
      "401:\tlearn: 0.1561784\ttotal: 239ms\tremaining: 355ms\n",
      "402:\tlearn: 0.1556050\ttotal: 239ms\tremaining: 355ms\n",
      "403:\tlearn: 0.1555329\ttotal: 240ms\tremaining: 354ms\n",
      "404:\tlearn: 0.1551348\ttotal: 240ms\tremaining: 353ms\n",
      "405:\tlearn: 0.1546835\ttotal: 241ms\tremaining: 353ms\n",
      "406:\tlearn: 0.1541383\ttotal: 241ms\tremaining: 352ms\n",
      "407:\tlearn: 0.1536115\ttotal: 242ms\tremaining: 351ms\n",
      "408:\tlearn: 0.1532280\ttotal: 242ms\tremaining: 350ms\n",
      "409:\tlearn: 0.1527978\ttotal: 243ms\tremaining: 349ms\n",
      "410:\tlearn: 0.1522852\ttotal: 243ms\tremaining: 348ms\n",
      "411:\tlearn: 0.1517858\ttotal: 244ms\tremaining: 348ms\n",
      "412:\tlearn: 0.1514164\ttotal: 244ms\tremaining: 347ms\n",
      "413:\tlearn: 0.1510574\ttotal: 244ms\tremaining: 346ms\n",
      "414:\tlearn: 0.1504666\ttotal: 245ms\tremaining: 345ms\n",
      "415:\tlearn: 0.1501243\ttotal: 245ms\tremaining: 344ms\n",
      "416:\tlearn: 0.1496053\ttotal: 246ms\tremaining: 344ms\n",
      "417:\tlearn: 0.1492882\ttotal: 246ms\tremaining: 343ms\n",
      "418:\tlearn: 0.1489535\ttotal: 247ms\tremaining: 342ms\n",
      "419:\tlearn: 0.1484425\ttotal: 247ms\tremaining: 341ms\n",
      "420:\tlearn: 0.1481302\ttotal: 247ms\tremaining: 340ms\n",
      "421:\tlearn: 0.1477873\ttotal: 248ms\tremaining: 339ms\n",
      "422:\tlearn: 0.1472812\ttotal: 248ms\tremaining: 339ms\n",
      "423:\tlearn: 0.1467823\ttotal: 249ms\tremaining: 338ms\n",
      "424:\tlearn: 0.1464776\ttotal: 249ms\tremaining: 337ms\n",
      "425:\tlearn: 0.1463750\ttotal: 250ms\tremaining: 336ms\n",
      "426:\tlearn: 0.1459404\ttotal: 250ms\tremaining: 335ms\n",
      "427:\tlearn: 0.1456413\ttotal: 250ms\tremaining: 335ms\n",
      "428:\tlearn: 0.1451596\ttotal: 251ms\tremaining: 334ms\n",
      "429:\tlearn: 0.1450598\ttotal: 251ms\tremaining: 333ms\n",
      "430:\tlearn: 0.1447223\ttotal: 251ms\tremaining: 332ms\n",
      "431:\tlearn: 0.1444291\ttotal: 252ms\tremaining: 331ms\n",
      "432:\tlearn: 0.1441016\ttotal: 253ms\tremaining: 332ms\n",
      "433:\tlearn: 0.1436115\ttotal: 254ms\tremaining: 331ms\n",
      "434:\tlearn: 0.1431462\ttotal: 255ms\tremaining: 331ms\n",
      "435:\tlearn: 0.1428590\ttotal: 255ms\tremaining: 330ms\n",
      "436:\tlearn: 0.1424496\ttotal: 255ms\tremaining: 329ms\n",
      "437:\tlearn: 0.1421673\ttotal: 256ms\tremaining: 328ms\n",
      "438:\tlearn: 0.1417172\ttotal: 256ms\tremaining: 327ms\n",
      "439:\tlearn: 0.1414399\ttotal: 257ms\tremaining: 327ms\n",
      "440:\tlearn: 0.1411252\ttotal: 257ms\tremaining: 326ms\n",
      "441:\tlearn: 0.1406816\ttotal: 258ms\tremaining: 325ms\n",
      "442:\tlearn: 0.1404093\ttotal: 258ms\tremaining: 324ms\n",
      "443:\tlearn: 0.1400461\ttotal: 259ms\tremaining: 324ms\n",
      "444:\tlearn: 0.1397335\ttotal: 259ms\tremaining: 323ms\n",
      "445:\tlearn: 0.1392999\ttotal: 260ms\tremaining: 322ms\n",
      "446:\tlearn: 0.1390338\ttotal: 260ms\tremaining: 322ms\n",
      "447:\tlearn: 0.1386787\ttotal: 260ms\tremaining: 321ms\n",
      "448:\tlearn: 0.1384177\ttotal: 261ms\tremaining: 320ms\n",
      "449:\tlearn: 0.1378890\ttotal: 261ms\tremaining: 319ms\n",
      "450:\tlearn: 0.1377980\ttotal: 262ms\tremaining: 319ms\n",
      "451:\tlearn: 0.1375413\ttotal: 262ms\tremaining: 318ms\n",
      "452:\tlearn: 0.1374522\ttotal: 263ms\tremaining: 317ms\n",
      "453:\tlearn: 0.1369330\ttotal: 263ms\tremaining: 316ms\n",
      "454:\tlearn: 0.1366807\ttotal: 264ms\tremaining: 316ms\n",
      "455:\tlearn: 0.1363937\ttotal: 264ms\tremaining: 315ms\n",
      "456:\tlearn: 0.1361454\ttotal: 265ms\tremaining: 314ms\n"
     ]
    },
    {
     "name": "stdout",
     "output_type": "stream",
     "text": [
      "457:\tlearn: 0.1356478\ttotal: 265ms\tremaining: 314ms\n",
      "458:\tlearn: 0.1354036\ttotal: 266ms\tremaining: 313ms\n",
      "459:\tlearn: 0.1348989\ttotal: 266ms\tremaining: 313ms\n",
      "460:\tlearn: 0.1348132\ttotal: 267ms\tremaining: 312ms\n",
      "461:\tlearn: 0.1344698\ttotal: 267ms\tremaining: 311ms\n",
      "462:\tlearn: 0.1339864\ttotal: 268ms\tremaining: 311ms\n",
      "463:\tlearn: 0.1333864\ttotal: 268ms\tremaining: 310ms\n",
      "464:\tlearn: 0.1328012\ttotal: 269ms\tremaining: 309ms\n",
      "465:\tlearn: 0.1322306\ttotal: 269ms\tremaining: 308ms\n",
      "466:\tlearn: 0.1316741\ttotal: 270ms\tremaining: 308ms\n",
      "467:\tlearn: 0.1311314\ttotal: 270ms\tremaining: 307ms\n",
      "468:\tlearn: 0.1307947\ttotal: 270ms\tremaining: 306ms\n",
      "469:\tlearn: 0.1302653\ttotal: 271ms\tremaining: 305ms\n",
      "470:\tlearn: 0.1297490\ttotal: 271ms\tremaining: 305ms\n",
      "471:\tlearn: 0.1292455\ttotal: 272ms\tremaining: 304ms\n",
      "472:\tlearn: 0.1288419\ttotal: 272ms\tremaining: 303ms\n",
      "473:\tlearn: 0.1283521\ttotal: 273ms\tremaining: 303ms\n",
      "474:\tlearn: 0.1277642\ttotal: 273ms\tremaining: 302ms\n",
      "475:\tlearn: 0.1273734\ttotal: 274ms\tremaining: 301ms\n",
      "476:\tlearn: 0.1268896\ttotal: 274ms\tremaining: 300ms\n",
      "477:\tlearn: 0.1265353\ttotal: 274ms\tremaining: 300ms\n",
      "478:\tlearn: 0.1260570\ttotal: 275ms\tremaining: 299ms\n",
      "479:\tlearn: 0.1256527\ttotal: 275ms\tremaining: 298ms\n",
      "480:\tlearn: 0.1253074\ttotal: 276ms\tremaining: 298ms\n",
      "481:\tlearn: 0.1248014\ttotal: 276ms\tremaining: 297ms\n",
      "482:\tlearn: 0.1243448\ttotal: 277ms\tremaining: 296ms\n",
      "483:\tlearn: 0.1240080\ttotal: 278ms\tremaining: 296ms\n",
      "484:\tlearn: 0.1234368\ttotal: 278ms\tremaining: 295ms\n",
      "485:\tlearn: 0.1228659\ttotal: 278ms\tremaining: 295ms\n",
      "486:\tlearn: 0.1224073\ttotal: 279ms\tremaining: 294ms\n",
      "487:\tlearn: 0.1216935\ttotal: 280ms\tremaining: 293ms\n",
      "488:\tlearn: 0.1213798\ttotal: 280ms\tremaining: 293ms\n",
      "489:\tlearn: 0.1208681\ttotal: 280ms\tremaining: 292ms\n",
      "490:\tlearn: 0.1206460\ttotal: 281ms\tremaining: 291ms\n",
      "491:\tlearn: 0.1200957\ttotal: 281ms\tremaining: 291ms\n",
      "492:\tlearn: 0.1198772\ttotal: 282ms\tremaining: 290ms\n",
      "493:\tlearn: 0.1195019\ttotal: 282ms\tremaining: 289ms\n",
      "494:\tlearn: 0.1189621\ttotal: 283ms\tremaining: 289ms\n",
      "495:\tlearn: 0.1187473\ttotal: 283ms\tremaining: 288ms\n",
      "496:\tlearn: 0.1185362\ttotal: 284ms\tremaining: 287ms\n",
      "497:\tlearn: 0.1182525\ttotal: 284ms\tremaining: 287ms\n",
      "498:\tlearn: 0.1177641\ttotal: 285ms\tremaining: 286ms\n",
      "499:\tlearn: 0.1173811\ttotal: 285ms\tremaining: 285ms\n",
      "500:\tlearn: 0.1170677\ttotal: 286ms\tremaining: 285ms\n",
      "501:\tlearn: 0.1165395\ttotal: 286ms\tremaining: 284ms\n",
      "502:\tlearn: 0.1158771\ttotal: 287ms\tremaining: 283ms\n",
      "503:\tlearn: 0.1154015\ttotal: 287ms\tremaining: 283ms\n",
      "504:\tlearn: 0.1151204\ttotal: 288ms\tremaining: 282ms\n",
      "505:\tlearn: 0.1146554\ttotal: 288ms\tremaining: 281ms\n",
      "506:\tlearn: 0.1144093\ttotal: 289ms\tremaining: 281ms\n",
      "507:\tlearn: 0.1139030\ttotal: 289ms\tremaining: 280ms\n",
      "508:\tlearn: 0.1137034\ttotal: 290ms\tremaining: 279ms\n",
      "509:\tlearn: 0.1132049\ttotal: 290ms\tremaining: 279ms\n",
      "510:\tlearn: 0.1131235\ttotal: 290ms\tremaining: 278ms\n",
      "511:\tlearn: 0.1128237\ttotal: 291ms\tremaining: 277ms\n",
      "512:\tlearn: 0.1126276\ttotal: 292ms\tremaining: 277ms\n",
      "513:\tlearn: 0.1123331\ttotal: 292ms\tremaining: 276ms\n",
      "514:\tlearn: 0.1120686\ttotal: 292ms\tremaining: 275ms\n",
      "515:\tlearn: 0.1115732\ttotal: 293ms\tremaining: 275ms\n",
      "516:\tlearn: 0.1111410\ttotal: 293ms\tremaining: 274ms\n",
      "517:\tlearn: 0.1107164\ttotal: 294ms\tremaining: 273ms\n",
      "518:\tlearn: 0.1104797\ttotal: 294ms\tremaining: 273ms\n",
      "519:\tlearn: 0.1100585\ttotal: 295ms\tremaining: 272ms\n",
      "520:\tlearn: 0.1096768\ttotal: 295ms\tremaining: 271ms\n",
      "521:\tlearn: 0.1095991\ttotal: 300ms\tremaining: 275ms\n",
      "522:\tlearn: 0.1093710\ttotal: 301ms\tremaining: 274ms\n",
      "523:\tlearn: 0.1092950\ttotal: 301ms\tremaining: 273ms\n",
      "524:\tlearn: 0.1089791\ttotal: 301ms\tremaining: 273ms\n",
      "525:\tlearn: 0.1085959\ttotal: 302ms\tremaining: 272ms\n",
      "526:\tlearn: 0.1079926\ttotal: 302ms\tremaining: 271ms\n",
      "527:\tlearn: 0.1077103\ttotal: 303ms\tremaining: 271ms\n",
      "528:\tlearn: 0.1076249\ttotal: 303ms\tremaining: 270ms\n",
      "529:\tlearn: 0.1071615\ttotal: 304ms\tremaining: 269ms\n",
      "530:\tlearn: 0.1069431\ttotal: 304ms\tremaining: 268ms\n",
      "531:\tlearn: 0.1066399\ttotal: 304ms\tremaining: 268ms\n",
      "532:\tlearn: 0.1060577\ttotal: 305ms\tremaining: 267ms\n",
      "533:\tlearn: 0.1058062\ttotal: 305ms\tremaining: 266ms\n",
      "534:\tlearn: 0.1055116\ttotal: 305ms\tremaining: 265ms\n",
      "535:\tlearn: 0.1053062\ttotal: 306ms\tremaining: 265ms\n",
      "536:\tlearn: 0.1050238\ttotal: 306ms\tremaining: 264ms\n",
      "537:\tlearn: 0.1047778\ttotal: 307ms\tremaining: 263ms\n",
      "538:\tlearn: 0.1044179\ttotal: 307ms\tremaining: 263ms\n",
      "539:\tlearn: 0.1043047\ttotal: 308ms\tremaining: 262ms\n",
      "540:\tlearn: 0.1040646\ttotal: 308ms\tremaining: 261ms\n",
      "541:\tlearn: 0.1037626\ttotal: 308ms\tremaining: 261ms\n",
      "542:\tlearn: 0.1034957\ttotal: 309ms\tremaining: 260ms\n",
      "543:\tlearn: 0.1031454\ttotal: 309ms\tremaining: 259ms\n",
      "544:\tlearn: 0.1028731\ttotal: 310ms\tremaining: 258ms\n",
      "545:\tlearn: 0.1026399\ttotal: 310ms\tremaining: 258ms\n",
      "546:\tlearn: 0.1023789\ttotal: 311ms\tremaining: 257ms\n",
      "547:\tlearn: 0.1022683\ttotal: 311ms\tremaining: 256ms\n",
      "548:\tlearn: 0.1021596\ttotal: 311ms\tremaining: 256ms\n",
      "549:\tlearn: 0.1018944\ttotal: 312ms\tremaining: 255ms\n",
      "550:\tlearn: 0.1016290\ttotal: 312ms\tremaining: 254ms\n",
      "551:\tlearn: 0.1013429\ttotal: 313ms\tremaining: 254ms\n",
      "552:\tlearn: 0.1012365\ttotal: 313ms\tremaining: 253ms\n",
      "553:\tlearn: 0.1010350\ttotal: 314ms\tremaining: 252ms\n",
      "554:\tlearn: 0.1007771\ttotal: 314ms\tremaining: 252ms\n",
      "555:\tlearn: 0.1006006\ttotal: 315ms\tremaining: 251ms\n",
      "556:\tlearn: 0.1003208\ttotal: 315ms\tremaining: 251ms\n",
      "557:\tlearn: 0.1001337\ttotal: 316ms\tremaining: 250ms\n",
      "558:\tlearn: 0.0998348\ttotal: 316ms\tremaining: 249ms\n",
      "559:\tlearn: 0.0996162\ttotal: 317ms\tremaining: 249ms\n",
      "560:\tlearn: 0.0995129\ttotal: 317ms\tremaining: 248ms\n",
      "561:\tlearn: 0.0992215\ttotal: 318ms\tremaining: 247ms\n",
      "562:\tlearn: 0.0990815\ttotal: 318ms\tremaining: 247ms\n",
      "563:\tlearn: 0.0988676\ttotal: 318ms\tremaining: 246ms\n",
      "564:\tlearn: 0.0987014\ttotal: 319ms\tremaining: 246ms\n",
      "565:\tlearn: 0.0983067\ttotal: 319ms\tremaining: 245ms\n",
      "566:\tlearn: 0.0981063\ttotal: 320ms\tremaining: 244ms\n",
      "567:\tlearn: 0.0978019\ttotal: 320ms\tremaining: 244ms\n",
      "568:\tlearn: 0.0974383\ttotal: 321ms\tremaining: 243ms\n",
      "569:\tlearn: 0.0973372\ttotal: 321ms\tremaining: 242ms\n",
      "570:\tlearn: 0.0969526\ttotal: 321ms\tremaining: 241ms\n",
      "571:\tlearn: 0.0967921\ttotal: 322ms\tremaining: 241ms\n",
      "572:\tlearn: 0.0965958\ttotal: 322ms\tremaining: 240ms\n",
      "573:\tlearn: 0.0962184\ttotal: 323ms\tremaining: 239ms\n",
      "574:\tlearn: 0.0960253\ttotal: 323ms\tremaining: 239ms\n",
      "575:\tlearn: 0.0957314\ttotal: 324ms\tremaining: 238ms\n",
      "576:\tlearn: 0.0953839\ttotal: 324ms\tremaining: 238ms\n",
      "577:\tlearn: 0.0951012\ttotal: 325ms\tremaining: 237ms\n",
      "578:\tlearn: 0.0949117\ttotal: 325ms\tremaining: 236ms\n",
      "579:\tlearn: 0.0944961\ttotal: 325ms\tremaining: 236ms\n",
      "580:\tlearn: 0.0944229\ttotal: 326ms\tremaining: 235ms\n",
      "581:\tlearn: 0.0943507\ttotal: 326ms\tremaining: 234ms\n",
      "582:\tlearn: 0.0942794\ttotal: 327ms\tremaining: 234ms\n",
      "583:\tlearn: 0.0940004\ttotal: 327ms\tremaining: 233ms\n",
      "584:\tlearn: 0.0939299\ttotal: 328ms\tremaining: 232ms\n",
      "585:\tlearn: 0.0937478\ttotal: 328ms\tremaining: 232ms\n",
      "586:\tlearn: 0.0936783\ttotal: 329ms\tremaining: 231ms\n",
      "587:\tlearn: 0.0934271\ttotal: 329ms\tremaining: 231ms\n",
      "588:\tlearn: 0.0930879\ttotal: 330ms\tremaining: 230ms\n",
      "589:\tlearn: 0.0928429\ttotal: 330ms\tremaining: 229ms\n",
      "590:\tlearn: 0.0926641\ttotal: 330ms\tremaining: 229ms\n",
      "591:\tlearn: 0.0923257\ttotal: 331ms\tremaining: 228ms\n",
      "592:\tlearn: 0.0920891\ttotal: 332ms\tremaining: 228ms\n",
      "593:\tlearn: 0.0917368\ttotal: 332ms\tremaining: 227ms\n",
      "594:\tlearn: 0.0916685\ttotal: 333ms\tremaining: 226ms\n",
      "595:\tlearn: 0.0913394\ttotal: 333ms\tremaining: 226ms\n",
      "596:\tlearn: 0.0910171\ttotal: 334ms\tremaining: 225ms\n",
      "597:\tlearn: 0.0908507\ttotal: 334ms\tremaining: 224ms\n",
      "598:\tlearn: 0.0906695\ttotal: 334ms\tremaining: 224ms\n",
      "599:\tlearn: 0.0902765\ttotal: 335ms\tremaining: 223ms\n",
      "600:\tlearn: 0.0899601\ttotal: 335ms\tremaining: 223ms\n",
      "601:\tlearn: 0.0898665\ttotal: 336ms\tremaining: 222ms\n",
      "602:\tlearn: 0.0896365\ttotal: 336ms\tremaining: 221ms\n",
      "603:\tlearn: 0.0894637\ttotal: 337ms\tremaining: 221ms\n"
     ]
    },
    {
     "name": "stdout",
     "output_type": "stream",
     "text": [
      "604:\tlearn: 0.0890301\ttotal: 337ms\tremaining: 220ms\n",
      "605:\tlearn: 0.0889628\ttotal: 338ms\tremaining: 220ms\n",
      "606:\tlearn: 0.0888912\ttotal: 338ms\tremaining: 219ms\n",
      "607:\tlearn: 0.0888248\ttotal: 339ms\tremaining: 218ms\n",
      "608:\tlearn: 0.0883532\ttotal: 339ms\tremaining: 218ms\n",
      "609:\tlearn: 0.0882633\ttotal: 340ms\tremaining: 217ms\n",
      "610:\tlearn: 0.0881985\ttotal: 340ms\tremaining: 217ms\n",
      "611:\tlearn: 0.0877374\ttotal: 341ms\tremaining: 216ms\n",
      "612:\tlearn: 0.0876673\ttotal: 341ms\tremaining: 215ms\n",
      "613:\tlearn: 0.0876041\ttotal: 341ms\tremaining: 215ms\n",
      "614:\tlearn: 0.0873014\ttotal: 342ms\tremaining: 214ms\n",
      "615:\tlearn: 0.0872139\ttotal: 342ms\tremaining: 213ms\n",
      "616:\tlearn: 0.0867639\ttotal: 343ms\tremaining: 213ms\n",
      "617:\tlearn: 0.0867019\ttotal: 343ms\tremaining: 212ms\n",
      "618:\tlearn: 0.0866155\ttotal: 343ms\tremaining: 211ms\n",
      "619:\tlearn: 0.0864036\ttotal: 344ms\tremaining: 211ms\n",
      "620:\tlearn: 0.0862380\ttotal: 344ms\tremaining: 210ms\n",
      "621:\tlearn: 0.0861767\ttotal: 345ms\tremaining: 210ms\n",
      "622:\tlearn: 0.0861098\ttotal: 345ms\tremaining: 209ms\n",
      "623:\tlearn: 0.0858144\ttotal: 346ms\tremaining: 208ms\n",
      "624:\tlearn: 0.0857538\ttotal: 346ms\tremaining: 208ms\n",
      "625:\tlearn: 0.0855928\ttotal: 347ms\tremaining: 207ms\n",
      "626:\tlearn: 0.0854313\ttotal: 347ms\tremaining: 206ms\n",
      "627:\tlearn: 0.0853658\ttotal: 347ms\tremaining: 206ms\n",
      "628:\tlearn: 0.0849315\ttotal: 348ms\tremaining: 205ms\n",
      "629:\tlearn: 0.0848725\ttotal: 348ms\tremaining: 205ms\n",
      "630:\tlearn: 0.0847900\ttotal: 349ms\tremaining: 204ms\n",
      "631:\tlearn: 0.0843655\ttotal: 349ms\tremaining: 203ms\n",
      "632:\tlearn: 0.0843013\ttotal: 350ms\tremaining: 203ms\n",
      "633:\tlearn: 0.0840130\ttotal: 350ms\tremaining: 202ms\n",
      "634:\tlearn: 0.0839553\ttotal: 351ms\tremaining: 202ms\n",
      "635:\tlearn: 0.0837359\ttotal: 351ms\tremaining: 201ms\n",
      "636:\tlearn: 0.0836554\ttotal: 351ms\tremaining: 200ms\n",
      "637:\tlearn: 0.0835987\ttotal: 352ms\tremaining: 200ms\n",
      "638:\tlearn: 0.0833844\ttotal: 352ms\tremaining: 199ms\n",
      "639:\tlearn: 0.0830670\ttotal: 353ms\tremaining: 198ms\n",
      "640:\tlearn: 0.0829111\ttotal: 353ms\tremaining: 198ms\n",
      "641:\tlearn: 0.0828319\ttotal: 353ms\tremaining: 197ms\n",
      "642:\tlearn: 0.0825168\ttotal: 354ms\tremaining: 197ms\n",
      "643:\tlearn: 0.0823637\ttotal: 355ms\tremaining: 196ms\n",
      "644:\tlearn: 0.0820828\ttotal: 355ms\tremaining: 195ms\n",
      "645:\tlearn: 0.0820281\ttotal: 356ms\tremaining: 195ms\n",
      "646:\tlearn: 0.0818365\ttotal: 356ms\tremaining: 194ms\n",
      "647:\tlearn: 0.0815388\ttotal: 356ms\tremaining: 194ms\n",
      "648:\tlearn: 0.0814850\ttotal: 357ms\tremaining: 193ms\n",
      "649:\tlearn: 0.0811818\ttotal: 357ms\tremaining: 192ms\n",
      "650:\tlearn: 0.0807728\ttotal: 358ms\tremaining: 192ms\n",
      "651:\tlearn: 0.0806165\ttotal: 358ms\tremaining: 191ms\n",
      "652:\tlearn: 0.0805639\ttotal: 359ms\tremaining: 191ms\n",
      "653:\tlearn: 0.0803453\ttotal: 359ms\tremaining: 190ms\n",
      "654:\tlearn: 0.0799514\ttotal: 360ms\tremaining: 189ms\n",
      "655:\tlearn: 0.0799249\ttotal: 360ms\tremaining: 189ms\n",
      "656:\tlearn: 0.0798641\ttotal: 360ms\tremaining: 188ms\n",
      "657:\tlearn: 0.0795347\ttotal: 361ms\tremaining: 187ms\n",
      "658:\tlearn: 0.0793889\ttotal: 361ms\tremaining: 187ms\n",
      "659:\tlearn: 0.0790054\ttotal: 362ms\tremaining: 186ms\n",
      "660:\tlearn: 0.0789455\ttotal: 362ms\tremaining: 186ms\n",
      "661:\tlearn: 0.0786498\ttotal: 363ms\tremaining: 185ms\n",
      "662:\tlearn: 0.0786244\ttotal: 363ms\tremaining: 185ms\n",
      "663:\tlearn: 0.0785993\ttotal: 363ms\tremaining: 184ms\n",
      "664:\tlearn: 0.0782797\ttotal: 364ms\tremaining: 183ms\n",
      "665:\tlearn: 0.0782212\ttotal: 364ms\tremaining: 183ms\n",
      "666:\tlearn: 0.0779599\ttotal: 365ms\tremaining: 182ms\n",
      "667:\tlearn: 0.0778174\ttotal: 365ms\tremaining: 182ms\n",
      "668:\tlearn: 0.0775610\ttotal: 366ms\tremaining: 181ms\n",
      "669:\tlearn: 0.0774211\ttotal: 366ms\tremaining: 180ms\n",
      "670:\tlearn: 0.0773467\ttotal: 366ms\tremaining: 180ms\n",
      "671:\tlearn: 0.0770949\ttotal: 367ms\tremaining: 179ms\n",
      "672:\tlearn: 0.0769575\ttotal: 367ms\tremaining: 179ms\n",
      "673:\tlearn: 0.0767103\ttotal: 368ms\tremaining: 178ms\n",
      "674:\tlearn: 0.0766368\ttotal: 368ms\tremaining: 177ms\n",
      "675:\tlearn: 0.0764996\ttotal: 369ms\tremaining: 177ms\n",
      "676:\tlearn: 0.0762157\ttotal: 369ms\tremaining: 176ms\n",
      "677:\tlearn: 0.0759085\ttotal: 370ms\tremaining: 176ms\n",
      "678:\tlearn: 0.0757737\ttotal: 370ms\tremaining: 175ms\n",
      "679:\tlearn: 0.0755450\ttotal: 371ms\tremaining: 175ms\n",
      "680:\tlearn: 0.0755118\ttotal: 371ms\tremaining: 174ms\n",
      "681:\tlearn: 0.0752062\ttotal: 372ms\tremaining: 173ms\n",
      "682:\tlearn: 0.0749721\ttotal: 372ms\tremaining: 173ms\n",
      "683:\tlearn: 0.0747002\ttotal: 372ms\tremaining: 172ms\n",
      "684:\tlearn: 0.0745675\ttotal: 373ms\tremaining: 171ms\n",
      "685:\tlearn: 0.0745121\ttotal: 373ms\tremaining: 171ms\n",
      "686:\tlearn: 0.0741647\ttotal: 374ms\tremaining: 170ms\n",
      "687:\tlearn: 0.0741098\ttotal: 374ms\tremaining: 170ms\n",
      "688:\tlearn: 0.0738614\ttotal: 374ms\tremaining: 169ms\n",
      "689:\tlearn: 0.0734857\ttotal: 375ms\tremaining: 168ms\n",
      "690:\tlearn: 0.0733559\ttotal: 375ms\tremaining: 168ms\n",
      "691:\tlearn: 0.0729900\ttotal: 376ms\tremaining: 167ms\n",
      "692:\tlearn: 0.0729578\ttotal: 376ms\tremaining: 167ms\n",
      "693:\tlearn: 0.0726950\ttotal: 377ms\tremaining: 166ms\n",
      "694:\tlearn: 0.0725662\ttotal: 378ms\tremaining: 166ms\n",
      "695:\tlearn: 0.0725345\ttotal: 378ms\tremaining: 165ms\n",
      "696:\tlearn: 0.0722767\ttotal: 379ms\tremaining: 165ms\n",
      "697:\tlearn: 0.0720397\ttotal: 379ms\tremaining: 164ms\n",
      "698:\tlearn: 0.0718093\ttotal: 379ms\tremaining: 163ms\n",
      "699:\tlearn: 0.0715919\ttotal: 380ms\tremaining: 163ms\n",
      "700:\tlearn: 0.0712384\ttotal: 380ms\tremaining: 162ms\n",
      "701:\tlearn: 0.0708950\ttotal: 381ms\tremaining: 162ms\n",
      "702:\tlearn: 0.0707673\ttotal: 381ms\tremaining: 161ms\n",
      "703:\tlearn: 0.0704321\ttotal: 382ms\tremaining: 161ms\n",
      "704:\tlearn: 0.0703061\ttotal: 382ms\tremaining: 160ms\n",
      "705:\tlearn: 0.0700792\ttotal: 383ms\tremaining: 159ms\n",
      "706:\tlearn: 0.0698701\ttotal: 383ms\tremaining: 159ms\n",
      "707:\tlearn: 0.0695442\ttotal: 384ms\tremaining: 158ms\n",
      "708:\tlearn: 0.0693945\ttotal: 384ms\tremaining: 158ms\n",
      "709:\tlearn: 0.0692710\ttotal: 385ms\tremaining: 157ms\n",
      "710:\tlearn: 0.0690531\ttotal: 385ms\tremaining: 157ms\n",
      "711:\tlearn: 0.0687349\ttotal: 386ms\tremaining: 156ms\n",
      "712:\tlearn: 0.0685898\ttotal: 386ms\tremaining: 155ms\n",
      "713:\tlearn: 0.0685443\ttotal: 386ms\tremaining: 155ms\n",
      "714:\tlearn: 0.0683418\ttotal: 387ms\tremaining: 154ms\n",
      "715:\tlearn: 0.0680312\ttotal: 387ms\tremaining: 154ms\n",
      "716:\tlearn: 0.0680009\ttotal: 388ms\tremaining: 153ms\n",
      "717:\tlearn: 0.0677917\ttotal: 388ms\tremaining: 152ms\n",
      "718:\tlearn: 0.0675687\ttotal: 388ms\tremaining: 152ms\n",
      "719:\tlearn: 0.0673752\ttotal: 389ms\tremaining: 151ms\n",
      "720:\tlearn: 0.0673301\ttotal: 389ms\tremaining: 151ms\n",
      "721:\tlearn: 0.0671294\ttotal: 390ms\tremaining: 150ms\n",
      "722:\tlearn: 0.0668391\ttotal: 390ms\tremaining: 149ms\n",
      "723:\tlearn: 0.0666144\ttotal: 390ms\tremaining: 149ms\n",
      "724:\tlearn: 0.0664021\ttotal: 391ms\tremaining: 148ms\n",
      "725:\tlearn: 0.0662086\ttotal: 392ms\tremaining: 148ms\n",
      "726:\tlearn: 0.0660238\ttotal: 392ms\tremaining: 147ms\n",
      "727:\tlearn: 0.0658342\ttotal: 392ms\tremaining: 147ms\n",
      "728:\tlearn: 0.0656918\ttotal: 393ms\tremaining: 146ms\n",
      "729:\tlearn: 0.0654896\ttotal: 393ms\tremaining: 146ms\n",
      "730:\tlearn: 0.0653844\ttotal: 394ms\tremaining: 145ms\n",
      "731:\tlearn: 0.0653016\ttotal: 394ms\tremaining: 144ms\n",
      "732:\tlearn: 0.0650922\ttotal: 395ms\tremaining: 144ms\n",
      "733:\tlearn: 0.0650495\ttotal: 395ms\tremaining: 143ms\n",
      "734:\tlearn: 0.0648449\ttotal: 395ms\tremaining: 143ms\n",
      "735:\tlearn: 0.0646144\ttotal: 396ms\tremaining: 142ms\n",
      "736:\tlearn: 0.0643977\ttotal: 396ms\tremaining: 141ms\n",
      "737:\tlearn: 0.0642962\ttotal: 397ms\tremaining: 141ms\n",
      "738:\tlearn: 0.0641964\ttotal: 397ms\tremaining: 140ms\n",
      "739:\tlearn: 0.0639210\ttotal: 398ms\tremaining: 140ms\n",
      "740:\tlearn: 0.0637418\ttotal: 398ms\tremaining: 139ms\n",
      "741:\tlearn: 0.0636435\ttotal: 399ms\tremaining: 139ms\n",
      "742:\tlearn: 0.0635656\ttotal: 399ms\tremaining: 138ms\n",
      "743:\tlearn: 0.0635252\ttotal: 399ms\tremaining: 137ms\n",
      "744:\tlearn: 0.0633489\ttotal: 400ms\tremaining: 137ms\n",
      "745:\tlearn: 0.0631270\ttotal: 400ms\tremaining: 136ms\n",
      "746:\tlearn: 0.0630311\ttotal: 401ms\tremaining: 136ms\n",
      "747:\tlearn: 0.0629368\ttotal: 401ms\tremaining: 135ms\n",
      "748:\tlearn: 0.0628617\ttotal: 402ms\tremaining: 135ms\n",
      "749:\tlearn: 0.0627699\ttotal: 402ms\tremaining: 134ms\n",
      "750:\tlearn: 0.0625976\ttotal: 402ms\tremaining: 133ms\n",
      "751:\tlearn: 0.0625072\ttotal: 403ms\tremaining: 133ms\n",
      "752:\tlearn: 0.0624346\ttotal: 403ms\tremaining: 132ms\n",
      "753:\tlearn: 0.0622655\ttotal: 404ms\tremaining: 132ms\n",
      "754:\tlearn: 0.0621774\ttotal: 404ms\tremaining: 131ms\n",
      "755:\tlearn: 0.0621064\ttotal: 405ms\tremaining: 131ms\n",
      "756:\tlearn: 0.0618899\ttotal: 405ms\tremaining: 130ms\n",
      "757:\tlearn: 0.0617637\ttotal: 405ms\tremaining: 129ms\n",
      "758:\tlearn: 0.0616774\ttotal: 406ms\tremaining: 129ms\n",
      "759:\tlearn: 0.0615537\ttotal: 406ms\tremaining: 128ms\n",
      "760:\tlearn: 0.0614686\ttotal: 407ms\tremaining: 128ms\n",
      "761:\tlearn: 0.0614001\ttotal: 407ms\tremaining: 127ms\n",
      "762:\tlearn: 0.0613576\ttotal: 408ms\tremaining: 127ms\n",
      "763:\tlearn: 0.0613279\ttotal: 408ms\tremaining: 126ms\n",
      "764:\tlearn: 0.0612071\ttotal: 409ms\tremaining: 126ms\n",
      "765:\tlearn: 0.0611661\ttotal: 409ms\tremaining: 125ms\n",
      "766:\tlearn: 0.0611259\ttotal: 410ms\tremaining: 124ms\n",
      "767:\tlearn: 0.0610079\ttotal: 410ms\tremaining: 124ms\n",
      "768:\tlearn: 0.0609686\ttotal: 411ms\tremaining: 123ms\n",
      "769:\tlearn: 0.0608416\ttotal: 411ms\tremaining: 123ms\n",
      "770:\tlearn: 0.0605952\ttotal: 412ms\tremaining: 122ms\n",
      "771:\tlearn: 0.0604797\ttotal: 412ms\tremaining: 122ms\n",
      "772:\tlearn: 0.0604414\ttotal: 413ms\tremaining: 121ms\n",
      "773:\tlearn: 0.0604038\ttotal: 413ms\tremaining: 121ms\n",
      "774:\tlearn: 0.0601623\ttotal: 413ms\tremaining: 120ms\n",
      "775:\tlearn: 0.0600484\ttotal: 414ms\tremaining: 119ms\n",
      "776:\tlearn: 0.0599649\ttotal: 415ms\tremaining: 119ms\n",
      "777:\tlearn: 0.0598828\ttotal: 415ms\tremaining: 118ms\n",
      "778:\tlearn: 0.0598176\ttotal: 415ms\tremaining: 118ms\n",
      "779:\tlearn: 0.0595808\ttotal: 416ms\tremaining: 117ms\n",
      "780:\tlearn: 0.0595005\ttotal: 416ms\tremaining: 117ms\n",
      "781:\tlearn: 0.0593219\ttotal: 417ms\tremaining: 116ms\n",
      "782:\tlearn: 0.0592110\ttotal: 417ms\tremaining: 116ms\n",
      "783:\tlearn: 0.0591029\ttotal: 417ms\tremaining: 115ms\n",
      "784:\tlearn: 0.0590660\ttotal: 418ms\tremaining: 114ms\n",
      "785:\tlearn: 0.0590299\ttotal: 419ms\tremaining: 114ms\n",
      "786:\tlearn: 0.0588286\ttotal: 419ms\tremaining: 113ms\n",
      "787:\tlearn: 0.0587500\ttotal: 419ms\tremaining: 113ms\n",
      "788:\tlearn: 0.0586878\ttotal: 420ms\tremaining: 112ms\n",
      "789:\tlearn: 0.0585834\ttotal: 420ms\tremaining: 112ms\n",
      "790:\tlearn: 0.0585212\ttotal: 421ms\tremaining: 111ms\n",
      "791:\tlearn: 0.0584858\ttotal: 421ms\tremaining: 111ms\n",
      "792:\tlearn: 0.0582573\ttotal: 422ms\tremaining: 110ms\n",
      "793:\tlearn: 0.0581561\ttotal: 422ms\tremaining: 109ms\n",
      "794:\tlearn: 0.0580187\ttotal: 422ms\tremaining: 109ms\n",
      "795:\tlearn: 0.0579424\ttotal: 423ms\tremaining: 108ms\n",
      "796:\tlearn: 0.0577704\ttotal: 423ms\tremaining: 108ms\n",
      "797:\tlearn: 0.0576351\ttotal: 424ms\tremaining: 107ms\n",
      "798:\tlearn: 0.0575605\ttotal: 424ms\tremaining: 107ms\n",
      "799:\tlearn: 0.0574275\ttotal: 425ms\tremaining: 106ms\n",
      "800:\tlearn: 0.0571547\ttotal: 425ms\tremaining: 106ms\n",
      "801:\tlearn: 0.0570816\ttotal: 426ms\tremaining: 105ms\n",
      "802:\tlearn: 0.0569140\ttotal: 426ms\tremaining: 105ms\n",
      "803:\tlearn: 0.0568156\ttotal: 427ms\tremaining: 104ms\n",
      "804:\tlearn: 0.0566860\ttotal: 427ms\tremaining: 104ms\n",
      "805:\tlearn: 0.0565585\ttotal: 428ms\tremaining: 103ms\n",
      "806:\tlearn: 0.0562943\ttotal: 428ms\tremaining: 102ms\n",
      "807:\tlearn: 0.0562674\ttotal: 429ms\tremaining: 102ms\n",
      "808:\tlearn: 0.0561962\ttotal: 429ms\tremaining: 101ms\n",
      "809:\tlearn: 0.0559773\ttotal: 430ms\tremaining: 101ms\n",
      "810:\tlearn: 0.0558533\ttotal: 430ms\tremaining: 100ms\n",
      "811:\tlearn: 0.0556903\ttotal: 431ms\tremaining: 99.7ms\n",
      "812:\tlearn: 0.0555114\ttotal: 431ms\tremaining: 99.2ms\n",
      "813:\tlearn: 0.0553897\ttotal: 432ms\tremaining: 98.7ms\n",
      "814:\tlearn: 0.0553197\ttotal: 432ms\tremaining: 98.1ms\n",
      "815:\tlearn: 0.0552508\ttotal: 436ms\tremaining: 98.3ms\n",
      "816:\tlearn: 0.0551310\ttotal: 436ms\tremaining: 97.8ms\n",
      "817:\tlearn: 0.0549724\ttotal: 437ms\tremaining: 97.2ms\n",
      "818:\tlearn: 0.0548545\ttotal: 437ms\tremaining: 96.6ms\n",
      "819:\tlearn: 0.0547871\ttotal: 438ms\tremaining: 96.1ms\n",
      "820:\tlearn: 0.0546320\ttotal: 438ms\tremaining: 95.5ms\n",
      "821:\tlearn: 0.0544594\ttotal: 439ms\tremaining: 95ms\n",
      "822:\tlearn: 0.0543438\ttotal: 439ms\tremaining: 94.4ms\n",
      "823:\tlearn: 0.0540949\ttotal: 439ms\tremaining: 93.8ms\n",
      "824:\tlearn: 0.0540009\ttotal: 440ms\tremaining: 93.3ms\n",
      "825:\tlearn: 0.0538862\ttotal: 440ms\tremaining: 92.8ms\n",
      "826:\tlearn: 0.0537374\ttotal: 441ms\tremaining: 92.2ms\n",
      "827:\tlearn: 0.0536250\ttotal: 441ms\tremaining: 91.7ms\n",
      "828:\tlearn: 0.0535594\ttotal: 442ms\tremaining: 91.2ms\n",
      "829:\tlearn: 0.0534488\ttotal: 442ms\tremaining: 90.6ms\n",
      "830:\tlearn: 0.0533849\ttotal: 443ms\tremaining: 90.1ms\n",
      "831:\tlearn: 0.0532761\ttotal: 443ms\tremaining: 89.5ms\n",
      "832:\tlearn: 0.0532131\ttotal: 444ms\tremaining: 89ms\n",
      "833:\tlearn: 0.0529739\ttotal: 444ms\tremaining: 88.4ms\n",
      "834:\tlearn: 0.0529119\ttotal: 445ms\tremaining: 87.9ms\n",
      "835:\tlearn: 0.0527633\ttotal: 445ms\tremaining: 87.3ms\n",
      "836:\tlearn: 0.0526023\ttotal: 446ms\tremaining: 86.8ms\n",
      "837:\tlearn: 0.0525242\ttotal: 446ms\tremaining: 86.3ms\n",
      "838:\tlearn: 0.0524620\ttotal: 447ms\tremaining: 85.7ms\n",
      "839:\tlearn: 0.0524023\ttotal: 447ms\tremaining: 85.2ms\n",
      "840:\tlearn: 0.0521705\ttotal: 448ms\tremaining: 84.6ms\n"
     ]
    },
    {
     "name": "stdout",
     "output_type": "stream",
     "text": [
      "841:\tlearn: 0.0520275\ttotal: 448ms\tremaining: 84.1ms\n",
      "842:\tlearn: 0.0519688\ttotal: 449ms\tremaining: 83.6ms\n",
      "843:\tlearn: 0.0518651\ttotal: 449ms\tremaining: 83.1ms\n",
      "844:\tlearn: 0.0518073\ttotal: 450ms\tremaining: 82.5ms\n",
      "845:\tlearn: 0.0516645\ttotal: 450ms\tremaining: 82ms\n",
      "846:\tlearn: 0.0516045\ttotal: 451ms\tremaining: 81.4ms\n",
      "847:\tlearn: 0.0514492\ttotal: 451ms\tremaining: 80.9ms\n",
      "848:\tlearn: 0.0513927\ttotal: 452ms\tremaining: 80.4ms\n",
      "849:\tlearn: 0.0513342\ttotal: 452ms\tremaining: 79.8ms\n",
      "850:\tlearn: 0.0512336\ttotal: 453ms\tremaining: 79.3ms\n",
      "851:\tlearn: 0.0511495\ttotal: 453ms\tremaining: 78.7ms\n",
      "852:\tlearn: 0.0509971\ttotal: 453ms\tremaining: 78.2ms\n",
      "853:\tlearn: 0.0509492\ttotal: 454ms\tremaining: 77.6ms\n",
      "854:\tlearn: 0.0507947\ttotal: 454ms\tremaining: 77.1ms\n",
      "855:\tlearn: 0.0505732\ttotal: 455ms\tremaining: 76.5ms\n",
      "856:\tlearn: 0.0504492\ttotal: 455ms\tremaining: 76ms\n",
      "857:\tlearn: 0.0503571\ttotal: 456ms\tremaining: 75.4ms\n",
      "858:\tlearn: 0.0502693\ttotal: 456ms\tremaining: 74.9ms\n",
      "859:\tlearn: 0.0501788\ttotal: 457ms\tremaining: 74.3ms\n",
      "860:\tlearn: 0.0501250\ttotal: 457ms\tremaining: 73.8ms\n",
      "861:\tlearn: 0.0499919\ttotal: 458ms\tremaining: 73.3ms\n",
      "862:\tlearn: 0.0499389\ttotal: 458ms\tremaining: 72.7ms\n",
      "863:\tlearn: 0.0496890\ttotal: 459ms\tremaining: 72.2ms\n",
      "864:\tlearn: 0.0495687\ttotal: 459ms\tremaining: 71.6ms\n",
      "865:\tlearn: 0.0495168\ttotal: 459ms\tremaining: 71.1ms\n",
      "866:\tlearn: 0.0494288\ttotal: 460ms\tremaining: 70.5ms\n",
      "867:\tlearn: 0.0493733\ttotal: 460ms\tremaining: 70ms\n",
      "868:\tlearn: 0.0492866\ttotal: 461ms\tremaining: 69.5ms\n",
      "869:\tlearn: 0.0491690\ttotal: 461ms\tremaining: 68.9ms\n",
      "870:\tlearn: 0.0491181\ttotal: 462ms\tremaining: 68.4ms\n",
      "871:\tlearn: 0.0490327\ttotal: 462ms\tremaining: 67.8ms\n",
      "872:\tlearn: 0.0489486\ttotal: 462ms\tremaining: 67.3ms\n",
      "873:\tlearn: 0.0489166\ttotal: 463ms\tremaining: 66.7ms\n",
      "874:\tlearn: 0.0487919\ttotal: 463ms\tremaining: 66.2ms\n",
      "875:\tlearn: 0.0487375\ttotal: 464ms\tremaining: 65.6ms\n",
      "876:\tlearn: 0.0484964\ttotal: 464ms\tremaining: 65.1ms\n",
      "877:\tlearn: 0.0484469\ttotal: 465ms\tremaining: 64.6ms\n",
      "878:\tlearn: 0.0482114\ttotal: 465ms\tremaining: 64ms\n",
      "879:\tlearn: 0.0481357\ttotal: 466ms\tremaining: 63.5ms\n",
      "880:\tlearn: 0.0479822\ttotal: 466ms\tremaining: 63ms\n",
      "881:\tlearn: 0.0478624\ttotal: 467ms\tremaining: 62.5ms\n",
      "882:\tlearn: 0.0478143\ttotal: 467ms\tremaining: 61.9ms\n",
      "883:\tlearn: 0.0477017\ttotal: 468ms\tremaining: 61.4ms\n",
      "884:\tlearn: 0.0476544\ttotal: 468ms\tremaining: 60.8ms\n",
      "885:\tlearn: 0.0475705\ttotal: 469ms\tremaining: 60.3ms\n",
      "886:\tlearn: 0.0475402\ttotal: 469ms\tremaining: 59.7ms\n",
      "887:\tlearn: 0.0474596\ttotal: 470ms\tremaining: 59.2ms\n",
      "888:\tlearn: 0.0474361\ttotal: 470ms\tremaining: 58.7ms\n",
      "889:\tlearn: 0.0473847\ttotal: 470ms\tremaining: 58.1ms\n",
      "890:\tlearn: 0.0473031\ttotal: 471ms\tremaining: 57.6ms\n",
      "891:\tlearn: 0.0472800\ttotal: 471ms\tremaining: 57.1ms\n",
      "892:\tlearn: 0.0472171\ttotal: 472ms\tremaining: 56.5ms\n",
      "893:\tlearn: 0.0471450\ttotal: 472ms\tremaining: 56ms\n",
      "894:\tlearn: 0.0470355\ttotal: 473ms\tremaining: 55.4ms\n",
      "895:\tlearn: 0.0469854\ttotal: 473ms\tremaining: 54.9ms\n",
      "896:\tlearn: 0.0469361\ttotal: 474ms\tremaining: 54.4ms\n",
      "897:\tlearn: 0.0469072\ttotal: 474ms\tremaining: 53.8ms\n",
      "898:\tlearn: 0.0468457\ttotal: 474ms\tremaining: 53.3ms\n",
      "899:\tlearn: 0.0467393\ttotal: 475ms\tremaining: 52.8ms\n",
      "900:\tlearn: 0.0466687\ttotal: 475ms\tremaining: 52.2ms\n",
      "901:\tlearn: 0.0465852\ttotal: 476ms\tremaining: 51.7ms\n",
      "902:\tlearn: 0.0465628\ttotal: 476ms\tremaining: 51.2ms\n",
      "903:\tlearn: 0.0465026\ttotal: 477ms\tremaining: 50.6ms\n",
      "904:\tlearn: 0.0464206\ttotal: 477ms\tremaining: 50.1ms\n",
      "905:\tlearn: 0.0463928\ttotal: 477ms\tremaining: 49.5ms\n",
      "906:\tlearn: 0.0463332\ttotal: 478ms\tremaining: 49ms\n",
      "907:\tlearn: 0.0461030\ttotal: 478ms\tremaining: 48.4ms\n",
      "908:\tlearn: 0.0460259\ttotal: 479ms\tremaining: 47.9ms\n",
      "909:\tlearn: 0.0459468\ttotal: 479ms\tremaining: 47.4ms\n",
      "910:\tlearn: 0.0459253\ttotal: 479ms\tremaining: 46.8ms\n",
      "911:\tlearn: 0.0458507\ttotal: 480ms\tremaining: 46.3ms\n",
      "912:\tlearn: 0.0457385\ttotal: 480ms\tremaining: 45.7ms\n",
      "913:\tlearn: 0.0456618\ttotal: 481ms\tremaining: 45.2ms\n",
      "914:\tlearn: 0.0455866\ttotal: 481ms\tremaining: 44.7ms\n",
      "915:\tlearn: 0.0455104\ttotal: 482ms\tremaining: 44.2ms\n",
      "916:\tlearn: 0.0453649\ttotal: 482ms\tremaining: 43.6ms\n",
      "917:\tlearn: 0.0453385\ttotal: 482ms\tremaining: 43.1ms\n",
      "918:\tlearn: 0.0452295\ttotal: 483ms\tremaining: 42.6ms\n",
      "919:\tlearn: 0.0451556\ttotal: 483ms\tremaining: 42ms\n",
      "920:\tlearn: 0.0450150\ttotal: 484ms\tremaining: 41.5ms\n",
      "921:\tlearn: 0.0449944\ttotal: 484ms\tremaining: 41ms\n",
      "922:\tlearn: 0.0449245\ttotal: 485ms\tremaining: 40.4ms\n",
      "923:\tlearn: 0.0448531\ttotal: 485ms\tremaining: 39.9ms\n",
      "924:\tlearn: 0.0446654\ttotal: 486ms\tremaining: 39.4ms\n",
      "925:\tlearn: 0.0445976\ttotal: 486ms\tremaining: 38.8ms\n",
      "926:\tlearn: 0.0445310\ttotal: 487ms\tremaining: 38.3ms\n",
      "927:\tlearn: 0.0444628\ttotal: 487ms\tremaining: 37.8ms\n",
      "928:\tlearn: 0.0442789\ttotal: 487ms\tremaining: 37.3ms\n",
      "929:\tlearn: 0.0441401\ttotal: 488ms\tremaining: 36.7ms\n",
      "930:\tlearn: 0.0440755\ttotal: 488ms\tremaining: 36.2ms\n",
      "931:\tlearn: 0.0440095\ttotal: 489ms\tremaining: 35.7ms\n",
      "932:\tlearn: 0.0438296\ttotal: 489ms\tremaining: 35.1ms\n",
      "933:\tlearn: 0.0437669\ttotal: 490ms\tremaining: 34.6ms\n",
      "934:\tlearn: 0.0437053\ttotal: 490ms\tremaining: 34.1ms\n",
      "935:\tlearn: 0.0435528\ttotal: 491ms\tremaining: 33.6ms\n",
      "936:\tlearn: 0.0434895\ttotal: 491ms\tremaining: 33ms\n",
      "937:\tlearn: 0.0433140\ttotal: 492ms\tremaining: 32.5ms\n",
      "938:\tlearn: 0.0432539\ttotal: 492ms\tremaining: 32ms\n",
      "939:\tlearn: 0.0431948\ttotal: 493ms\tremaining: 31.4ms\n",
      "940:\tlearn: 0.0430726\ttotal: 493ms\tremaining: 30.9ms\n",
      "941:\tlearn: 0.0429385\ttotal: 493ms\tremaining: 30.4ms\n",
      "942:\tlearn: 0.0427666\ttotal: 494ms\tremaining: 29.8ms\n",
      "943:\tlearn: 0.0427067\ttotal: 494ms\tremaining: 29.3ms\n",
      "944:\tlearn: 0.0425385\ttotal: 495ms\tremaining: 28.8ms\n",
      "945:\tlearn: 0.0424815\ttotal: 495ms\tremaining: 28.3ms\n",
      "946:\tlearn: 0.0423504\ttotal: 496ms\tremaining: 27.7ms\n",
      "947:\tlearn: 0.0421610\ttotal: 496ms\tremaining: 27.2ms\n",
      "948:\tlearn: 0.0421049\ttotal: 497ms\tremaining: 26.7ms\n",
      "949:\tlearn: 0.0420419\ttotal: 497ms\tremaining: 26.2ms\n",
      "950:\tlearn: 0.0418568\ttotal: 498ms\tremaining: 25.6ms\n",
      "951:\tlearn: 0.0416758\ttotal: 498ms\tremaining: 25.1ms\n",
      "952:\tlearn: 0.0415018\ttotal: 499ms\tremaining: 24.6ms\n",
      "953:\tlearn: 0.0413271\ttotal: 499ms\tremaining: 24.1ms\n",
      "954:\tlearn: 0.0412317\ttotal: 500ms\tremaining: 23.5ms\n",
      "955:\tlearn: 0.0411382\ttotal: 500ms\tremaining: 23ms\n",
      "956:\tlearn: 0.0409866\ttotal: 500ms\tremaining: 22.5ms\n",
      "957:\tlearn: 0.0408753\ttotal: 501ms\tremaining: 22ms\n",
      "958:\tlearn: 0.0407842\ttotal: 501ms\tremaining: 21.4ms\n",
      "959:\tlearn: 0.0407184\ttotal: 502ms\tremaining: 20.9ms\n",
      "960:\tlearn: 0.0406063\ttotal: 502ms\tremaining: 20.4ms\n",
      "961:\tlearn: 0.0404952\ttotal: 503ms\tremaining: 19.9ms\n",
      "962:\tlearn: 0.0404070\ttotal: 503ms\tremaining: 19.3ms\n",
      "963:\tlearn: 0.0403058\ttotal: 504ms\tremaining: 18.8ms\n",
      "964:\tlearn: 0.0402423\ttotal: 505ms\tremaining: 18.3ms\n",
      "965:\tlearn: 0.0401341\ttotal: 505ms\tremaining: 17.8ms\n",
      "966:\tlearn: 0.0400358\ttotal: 505ms\tremaining: 17.2ms\n",
      "967:\tlearn: 0.0398789\ttotal: 506ms\tremaining: 16.7ms\n",
      "968:\tlearn: 0.0398166\ttotal: 506ms\tremaining: 16.2ms\n",
      "969:\tlearn: 0.0397108\ttotal: 507ms\tremaining: 15.7ms\n",
      "970:\tlearn: 0.0396496\ttotal: 507ms\tremaining: 15.1ms\n",
      "971:\tlearn: 0.0395458\ttotal: 508ms\tremaining: 14.6ms\n",
      "972:\tlearn: 0.0394504\ttotal: 508ms\tremaining: 14.1ms\n",
      "973:\tlearn: 0.0392965\ttotal: 509ms\tremaining: 13.6ms\n",
      "974:\tlearn: 0.0392364\ttotal: 509ms\tremaining: 13ms\n",
      "975:\tlearn: 0.0391346\ttotal: 509ms\tremaining: 12.5ms\n",
      "976:\tlearn: 0.0390754\ttotal: 510ms\tremaining: 12ms\n",
      "977:\tlearn: 0.0389755\ttotal: 510ms\tremaining: 11.5ms\n",
      "978:\tlearn: 0.0388827\ttotal: 511ms\tremaining: 11ms\n",
      "979:\tlearn: 0.0388247\ttotal: 512ms\tremaining: 10.4ms\n",
      "980:\tlearn: 0.0387037\ttotal: 512ms\tremaining: 9.92ms\n",
      "981:\tlearn: 0.0386022\ttotal: 513ms\tremaining: 9.4ms\n",
      "982:\tlearn: 0.0384533\ttotal: 513ms\tremaining: 8.87ms\n",
      "983:\tlearn: 0.0383538\ttotal: 514ms\tremaining: 8.35ms\n",
      "984:\tlearn: 0.0382589\ttotal: 514ms\tremaining: 7.83ms\n",
      "985:\tlearn: 0.0381616\ttotal: 514ms\tremaining: 7.3ms\n",
      "986:\tlearn: 0.0380153\ttotal: 515ms\tremaining: 6.78ms\n",
      "987:\tlearn: 0.0379045\ttotal: 515ms\tremaining: 6.26ms\n",
      "988:\tlearn: 0.0377874\ttotal: 516ms\tremaining: 5.74ms\n",
      "989:\tlearn: 0.0376452\ttotal: 516ms\tremaining: 5.21ms\n",
      "990:\tlearn: 0.0375057\ttotal: 517ms\tremaining: 4.69ms\n",
      "991:\tlearn: 0.0373831\ttotal: 517ms\tremaining: 4.17ms\n",
      "992:\tlearn: 0.0373246\ttotal: 518ms\tremaining: 3.65ms\n",
      "993:\tlearn: 0.0372669\ttotal: 518ms\tremaining: 3.13ms\n",
      "994:\tlearn: 0.0371353\ttotal: 519ms\tremaining: 2.6ms\n",
      "995:\tlearn: 0.0369924\ttotal: 519ms\tremaining: 2.08ms\n",
      "996:\tlearn: 0.0368868\ttotal: 520ms\tremaining: 1.56ms\n"
     ]
    },
    {
     "name": "stdout",
     "output_type": "stream",
     "text": [
      "997:\tlearn: 0.0368198\ttotal: 520ms\tremaining: 1.04ms\n",
      "998:\tlearn: 0.0366864\ttotal: 521ms\tremaining: 521us\n",
      "999:\tlearn: 0.0365588\ttotal: 521ms\tremaining: 0us\n"
     ]
    },
    {
     "data": {
      "text/plain": [
       "<catboost.core.CatBoostRegressor at 0x7fa719903700>"
      ]
     },
     "execution_count": 9,
     "metadata": {},
     "output_type": "execute_result"
    }
   ],
   "source": [
    "#Train the Model \n",
    "prior_model = ctb.CatBoostRegressor()\n",
    "prior_model.fit(X_train,Y_train)"
   ]
  },
  {
   "cell_type": "code",
   "execution_count": 10,
   "id": "af65dcda",
   "metadata": {
    "execution": {
     "iopub.execute_input": "2022-02-13T17:16:41.521929Z",
     "iopub.status.busy": "2022-02-13T17:16:41.521525Z",
     "iopub.status.idle": "2022-02-13T17:16:41.528986Z",
     "shell.execute_reply": "2022-02-13T17:16:41.529227Z"
    },
    "id": "af65dcda",
    "papermill": {
     "duration": 0.019986,
     "end_time": "2022-02-13T17:16:41.529344",
     "exception": false,
     "start_time": "2022-02-13T17:16:41.509358",
     "status": "completed"
    },
    "tags": []
   },
   "outputs": [
    {
     "data": {
      "application/scrapbook.scrap.json+json": {
       "data": 0.20740305837589607,
       "encoder": "json",
       "name": "Prior Model MSE",
       "version": 1
      }
     },
     "metadata": {
      "scrapbook": {
       "data": true,
       "display": false,
       "name": "Prior Model MSE"
      }
     },
     "output_type": "display_data"
    },
    {
     "data": {
      "application/scrapbook.scrap.json+json": {
       "data": 1.134503291076126,
       "encoder": "json",
       "name": "ABC Pre-generator MSE",
       "version": 1
      }
     },
     "metadata": {
      "scrapbook": {
       "data": true,
       "display": false,
       "name": "ABC Pre-generator MSE"
      }
     },
     "output_type": "display_data"
    },
    {
     "data": {
      "application/scrapbook.scrap.json+json": {
       "data": 0.344378706994799,
       "encoder": "json",
       "name": "Prior Model MSE",
       "version": 1
      }
     },
     "metadata": {
      "scrapbook": {
       "data": true,
       "display": false,
       "name": "Prior Model MSE"
      }
     },
     "output_type": "display_data"
    },
    {
     "data": {
      "application/scrapbook.scrap.json+json": {
       "data": 0.888970286733259,
       "encoder": "json",
       "name": "ABC Pre-generator MSE",
       "version": 1
      }
     },
     "metadata": {
      "scrapbook": {
       "data": true,
       "display": false,
       "name": "ABC Pre-generator MSE"
      }
     },
     "output_type": "display_data"
    }
   ],
   "source": [
    "y_pred = prior_model.predict(X_test)\n",
    "y_abc = y_pred + np.random.normal(0,variance, y_pred.shape)\n",
    "mse = mean_squared_error(y_pred,Y_test)\n",
    "sb.glue(\"Prior Model MSE\",mse)\n",
    "mse = mean_squared_error(y_abc,Y_test)\n",
    "sb.glue(\"ABC Pre-generator MSE\",mse)\n",
    "\n",
    "mae = mean_absolute_error(y_pred,Y_test)\n",
    "sb.glue(\"Prior Model MSE\",mae)\n",
    "mae = mean_absolute_error(y_abc,Y_test)\n",
    "sb.glue(\"ABC Pre-generator MSE\",mae)"
   ]
  },
  {
   "cell_type": "markdown",
   "id": "25609da2",
   "metadata": {
    "papermill": {
     "duration": 0.00942,
     "end_time": "2022-02-13T17:16:41.548605",
     "exception": false,
     "start_time": "2022-02-13T17:16:41.539185",
     "status": "completed"
    },
    "tags": []
   },
   "source": [
    "# ABC GAN Model"
   ]
  },
  {
   "cell_type": "code",
   "execution_count": 11,
   "id": "dfc3464d",
   "metadata": {
    "execution": {
     "iopub.execute_input": "2022-02-13T17:16:41.571251Z",
     "iopub.status.busy": "2022-02-13T17:16:41.570821Z",
     "iopub.status.idle": "2022-02-13T17:16:41.573493Z",
     "shell.execute_reply": "2022-02-13T17:16:41.573745Z"
    },
    "papermill": {
     "duration": 0.015814,
     "end_time": "2022-02-13T17:16:41.573863",
     "exception": false,
     "start_time": "2022-02-13T17:16:41.558049",
     "status": "completed"
    },
    "tags": []
   },
   "outputs": [],
   "source": [
    "gen = network.Generator(n_features+1).to(device)\n",
    "disc = network.Discriminator(n_features+1).to(device)\n",
    "\n",
    "criterion = torch.nn.BCELoss()\n",
    "gen_opt = torch.optim.Adam(gen.parameters(), lr=0.001, betas=(0.5, 0.999))\n",
    "disc_opt = torch.optim.Adam(disc.parameters(), lr=0.001, betas=(0.5, 0.999))"
   ]
  },
  {
   "cell_type": "code",
   "execution_count": 12,
   "id": "b75fdd85",
   "metadata": {
    "execution": {
     "iopub.execute_input": "2022-02-13T17:16:41.595823Z",
     "iopub.status.busy": "2022-02-13T17:16:41.595447Z",
     "iopub.status.idle": "2022-02-13T17:16:55.613680Z",
     "shell.execute_reply": "2022-02-13T17:16:55.613974Z"
    },
    "papermill": {
     "duration": 14.030474,
     "end_time": "2022-02-13T17:16:55.614090",
     "exception": false,
     "start_time": "2022-02-13T17:16:41.583616",
     "status": "completed"
    },
    "tags": []
   },
   "outputs": [
    {
     "data": {
      "image/png": "[encoded data removed]",
      "text/plain": [
       "<Figure size 432x288 with 1 Axes>"
      ]
     },
     "metadata": {
      "needs_background": "light"
     },
     "output_type": "display_data"
    },
    {
     "data": {
      "image/png": "[encoded data removed]",
      "text/plain": [
       "<Figure size 432x288 with 1 Axes>"
      ]
     },
     "metadata": {
      "needs_background": "light"
     },
     "output_type": "display_data"
    }
   ],
   "source": [
    "#Training the ABC_GAN \n",
    "ABC_train_test2.training_GAN(disc,gen,disc_opt,gen_opt,train_data,batch_size,n_epochs,criterion,prior_model,variance,device)"
   ]
  },
  {
   "cell_type": "code",
   "execution_count": 13,
   "id": "1fa7c368",
   "metadata": {
    "execution": {
     "iopub.execute_input": "2022-02-13T17:16:55.637859Z",
     "iopub.status.busy": "2022-02-13T17:16:55.637424Z",
     "iopub.status.idle": "2022-02-13T17:16:55.806054Z",
     "shell.execute_reply": "2022-02-13T17:16:55.806368Z"
    },
    "papermill": {
     "duration": 0.181716,
     "end_time": "2022-02-13T17:16:55.806495",
     "exception": false,
     "start_time": "2022-02-13T17:16:55.624779",
     "status": "completed"
    },
    "tags": []
   },
   "outputs": [
    {
     "data": {
      "application/scrapbook.scrap.json+json": {
       "data": 0.24877344868044232,
       "encoder": "json",
       "name": "ABC-GAN Model 1 MSE",
       "version": 1
      }
     },
     "metadata": {
      "scrapbook": {
       "data": true,
       "display": false,
       "name": "ABC-GAN Model 1 MSE"
      }
     },
     "output_type": "display_data"
    },
    {
     "data": {
      "application/scrapbook.scrap.json+json": {
       "data": 0.39261030450835827,
       "encoder": "json",
       "name": "ABC-GAN Model 1 MAE",
       "version": 1
      }
     },
     "metadata": {
      "scrapbook": {
       "data": true,
       "display": false,
       "name": "ABC-GAN Model 1 MAE"
      }
     },
     "output_type": "display_data"
    },
    {
     "data": {
      "application/scrapbook.scrap.json+json": {
       "data": 7.852206090167165,
       "encoder": "json",
       "name": "ABC-GAN Model 1 Manhattan Distance",
       "version": 1
      }
     },
     "metadata": {
      "scrapbook": {
       "data": true,
       "display": false,
       "name": "ABC-GAN Model 1 Manhattan Distance"
      }
     },
     "output_type": "display_data"
    },
    {
     "data": {
      "application/scrapbook.scrap.json+json": {
       "data": 2.2295946394573996,
       "encoder": "json",
       "name": "ABC-GAN Model 1 Euclidean distance",
       "version": 1
      }
     },
     "metadata": {
      "scrapbook": {
       "data": true,
       "display": false,
       "name": "ABC-GAN Model 1 Euclidean distance"
      }
     },
     "output_type": "display_data"
    },
    {
     "data": {
      "application/scrapbook.scrap.json+json": {
       "data": [
        [
         0.2473249515521641,
         0.24116708517022095,
         0.22658787668510572,
         0.25711938425059166,
         0.28091700983394163,
         0.25780659881354273,
         0.26011640571468064,
         0.247240662440222,
         0.2792071602929687,
         0.25018119651367804,
         0.2567235234251,
         0.2546668401378935,
         0.25762123662897407,
         0.2573492545414518,
         0.251321246335097,
         0.26281088740092784,
         0.23662110297712383,
         0.23818901754252572,
         0.2557566850208927,
         0.2568229028844452,
         0.25474971573262,
         0.27082797102671813,
         0.27100092843868606,
         0.23868869648322527,
         0.21876244744447693,
         0.24844398139713939,
         0.24805722951225162,
         0.2562130205382076,
         0.24107663655455963,
         0.2234085657017726,
         0.26226148460874676,
         0.2566776435620032,
         0.23674305053319472,
         0.2186365910031293,
         0.25509808260942446,
         0.24745819468591326,
         0.26075039050384624,
         0.26760276550089934,
         0.2460597322057323,
         0.22817422702480025,
         0.24268256567597474,
         0.19847349190990454,
         0.2587201789645609,
         0.24217452974603323,
         0.25665807768961973,
         0.2547726752960461,
         0.2729966646037509,
         0.23640095591078425,
         0.2603053391385292,
         0.2303343172752798,
         0.24730444515643998,
         0.27902340573579326,
         0.2556775707258689,
         0.22511925955026052,
         0.260721963337128,
         0.2491265904867496,
         0.2469797484916921,
         0.24234246712332883,
         0.22722191783445397,
         0.22609225172074687,
         0.2505723433733805,
         0.2521049712423563,
         0.24356592506556493,
         0.24036580035754423,
         0.2483154772451351,
         0.2658262589020926,
         0.2513379833621293,
         0.24422961994558506,
         0.23385545685620848,
         0.26307855200444913,
         0.2634231132839308,
         0.26047265444620776,
         0.2595902522645787,
         0.2467745030070473,
         0.24507449201833792,
         0.22768223610074262,
         0.2561838750839137,
         0.2453875900007348,
         0.25681165417191,
         0.2543212419599156,
         0.24020197432904772,
         0.260829433976157,
         0.24462049013622672,
         0.23546989108798763,
         0.24816861490470193,
         0.2481752961961364,
         0.2351039344941431,
         0.25358894540867705,
         0.23562190020671006,
         0.27488132792290176,
         0.2608716023355617,
         0.23594944015610678,
         0.2120949646281452,
         0.24875062138646128,
         0.2531534129373164,
         0.2672232040147691,
         0.24969392981717942,
         0.25210287095460376,
         0.22581043418808747,
         0.2466877786697071
        ],
        [
         0.3879857262596488,
         0.3896669870242476,
         0.37424776460975406,
         0.4000797590240836,
         0.4393555635586381,
         0.3973116731271148,
         0.3958680504933,
         0.38828346487134696,
         0.41879878137260673,
         0.3929218744859099,
         0.393593686260283,
         0.4098518708720803,
         0.3986086079850793,
         0.4014993628486991,
         0.3937095353379846,
         0.390507266484201,
         0.3711938729509711,
         0.39311039354652166,
         0.40216951724141836,
         0.4002623027190566,
         0.3916974117979407,
         0.40909741129726174,
         0.3985727643594146,
         0.3802808469161391,
         0.36526516135782006,
         0.38938373532146214,
         0.38861392829567193,
         0.4001670187339187,
         0.38652158733457326,
         0.3577855950221419,
         0.4031920721754432,
         0.39747676309198143,
         0.39651726838201284,
         0.37526713218539953,
         0.4057086581364274,
         0.4057740980759263,
         0.40193089190870523,
         0.4079177862033248,
         0.3920558596029878,
         0.3764129003509879,
         0.38803600464016197,
         0.35201940443366764,
         0.4036263575777411,
         0.38390504028648137,
         0.4003332769498229,
         0.3992993837222457,
         0.4167088182643056,
         0.38858871813863516,
         0.41214899327605964,
         0.38608178254216907,
         0.3992476204410195,
         0.41458378080278635,
         0.39855995681136847,
         0.371934743784368,
         0.4084198301658034,
         0.39854500349611044,
         0.3899286350235343,
         0.3707243477925658,
         0.37533988412469627,
         0.3663595845922828,
         0.397427680157125,
         0.386369669996202,
         0.39537660833448174,
         0.3854845529422164,
         0.3730680072680116,
         0.40209748055785893,
         0.39962860140949485,
         0.38320120628923177,
         0.37521206494420767,
         0.38751875814050435,
         0.41110730823129416,
         0.4028498476371169,
         0.4011698877438903,
         0.39764027055352924,
         0.3909790372475982,
         0.37490070071071385,
         0.3952780505642295,
         0.400070477090776,
         0.4076728159561753,
         0.40997546780854466,
         0.3884284207597375,
         0.40265824254602195,
         0.3785034975036979,
         0.3687082758173347,
         0.4028545057401061,
         0.395418063364923,
         0.3847723787650466,
         0.4038977960124612,
         0.3714984795078635,
         0.40224695559591056,
         0.4034814348444343,
         0.38057936634868383,
         0.36209942158311603,
         0.3899728437885642,
         0.38636867310851813,
         0.40986220445483923,
         0.38545118775218723,
         0.4084877589717507,
         0.37084863241761923,
         0.39480769988149406
        ],
        [
         7.759714525192976,
         7.793339740484953,
         7.484955292195082,
         8.001595180481672,
         8.787111271172762,
         7.9462334625422955,
         7.917361009865999,
         7.765669297426939,
         8.375975627452135,
         7.858437489718199,
         7.87187372520566,
         8.197037417441607,
         7.972172159701586,
         8.029987256973982,
         7.874190706759691,
         7.810145329684019,
         7.4238774590194225,
         7.862207870930433,
         8.043390344828367,
         8.005246054381132,
         7.833948235958815,
         8.181948225945234,
         7.9714552871882915,
         7.6056169383227825,
         7.305303227156401,
         7.787674706429243,
         7.772278565913439,
         8.003340374678373,
         7.730431746691465,
         7.155711900442839,
         8.063841443508863,
         7.949535261839628,
         7.930345367640257,
         7.505342643707991,
         8.114173162728548,
         8.115481961518526,
         8.038617838174105,
         8.158355724066496,
         7.841117192059755,
         7.528258007019758,
         7.76072009280324,
         7.040388088673353,
         8.072527151554823,
         7.678100805729628,
         8.006665538996458,
         7.985987674444914,
         8.334176365286112,
         7.771774362772703,
         8.242979865521193,
         7.721635650843382,
         7.984952408820391,
         8.291675616055727,
         7.971199136227369,
         7.438694875687361,
         8.168396603316069,
         7.970900069922209,
         7.798572700470686,
         7.4144869558513165,
         7.506797682493925,
         7.327191691845655,
         7.9485536031425,
         7.72739339992404,
         7.907532166689634,
         7.709691058844328,
         7.461360145360231,
         8.041949611157179,
         7.9925720281898975,
         7.6640241257846355,
         7.504241298884153,
         7.750375162810087,
         8.222146164625883,
         8.056996952742338,
         8.023397754877806,
         7.952805411070585,
         7.819580744951963,
         7.498014014214277,
         7.90556101128459,
         8.00140954181552,
         8.153456319123507,
         8.199509356170893,
         7.76856841519475,
         8.053164850920439,
         7.570069950073957,
         7.374165516346693,
         8.057090114802122,
         7.90836126729846,
         7.695447575300932,
         8.077955920249224,
         7.42996959015727,
         8.044939111918211,
         8.069628696888685,
         7.611587326973677,
         7.241988431662321,
         7.799456875771284,
         7.7273734621703625,
         8.197244089096785,
         7.709023755043745,
         8.169755179435015,
         7.416972648352385,
         7.896153997629881
        ],
        [
         2.2240726226999157,
         2.1962107602423813,
         2.128792506023571,
         2.267683329967355,
         2.37030381948788,
         2.2707117774545615,
         2.2808612659023373,
         2.223693604974489,
         2.3630791789229946,
         2.2368781661667585,
         2.265936995704426,
         2.2568422192873543,
         2.2698953131321895,
         2.2686967824786626,
         2.2419689843309474,
         2.2926442698374636,
         2.1754130779101417,
         2.1826086114671392,
         2.261666133720416,
         2.2663755332444144,
         2.2572094086841834,
         2.3273503003489533,
         2.32809333334678,
         2.18489677780542,
         2.0917095756556496,
         2.2290983890225187,
         2.2273626984047823,
         2.2636829307047734,
         2.1957988822046506,
         2.1138049375558405,
         2.290246644397702,
         2.2657345103167015,
         2.1759735776575724,
         2.091107797331975,
         2.258752233466187,
         2.2246716372800424,
         2.283639159341275,
         2.3134509525853333,
         2.218376578517418,
         2.136231387396039,
         2.203100386618707,
         1.992352839784683,
         2.2747315400484553,
         2.2007931740444544,
         2.265648153132431,
         2.2573111229781597,
         2.3366500148877702,
         2.174400864195856,
         2.281689458004876,
         2.1463192552613406,
         2.2239804187826833,
         2.3623014445061545,
         2.2613163012982898,
         2.121882463993991,
         2.283514674080848,
         2.232158553896876,
         2.2225199593780576,
         2.2015561184004775,
         2.1317688328449402,
         2.126463033869843,
         2.2386261115844266,
         2.2454619624583105,
         2.207106363841874,
         2.1925592368624582,
         2.228521829577333,
         2.305759132702688,
         2.2420436363377467,
         2.2101113996610446,
         2.1626625111478144,
         2.2938114656808617,
         2.2953131084186786,
         2.2824226359121473,
         2.278553279010955,
         2.221596286488827,
         2.2139308571784166,
         2.133927065767444,
         2.2635541746727146,
         2.2153446233068785,
         2.2663258996530486,
         2.255310364273244,
         2.1918119186145866,
         2.2839852625450847,
         2.2118792468678157,
         2.170114702443111,
         2.2278627197594645,
         2.227892709248524,
         2.1684276999436394,
         2.252061035623489,
         2.1708150552578633,
         2.344701805871705,
         2.2841698813160187,
         2.1723233652295266,
         2.059587165565688,
         2.230473588216015,
         2.2501262761779235,
         2.311809698114311,
         2.234698770828764,
         2.245452608961515,
         2.125137332917981,
         2.221205882711943
        ]
       ],
       "encoder": "json",
       "name": "ABC_GAN_1 Metrics",
       "version": 1
      }
     },
     "metadata": {
      "scrapbook": {
       "data": true,
       "display": false,
       "name": "ABC_GAN_1 Metrics"
      }
     },
     "output_type": "display_data"
    },
    {
     "name": "stdout",
     "output_type": "stream",
     "text": [
      "MSE\n",
      "0.24877344868044232\n"
     ]
    }
   ],
   "source": [
    "ABC_GAN1_metrics=ABC_train_test2.test_generator(gen,test_data,prior_model,variance,\"1\",device)\n",
    "sb.glue(\"ABC_GAN_1 Metrics\",ABC_GAN1_metrics)\n",
    "\n",
    "print(\"MSE\")\n",
    "print(mean(ABC_GAN1_metrics[0]))"
   ]
  },
  {
   "cell_type": "code",
   "execution_count": 14,
   "id": "eb22ce5c",
   "metadata": {
    "execution": {
     "iopub.execute_input": "2022-02-13T17:16:55.833284Z",
     "iopub.status.busy": "2022-02-13T17:16:55.832909Z",
     "iopub.status.idle": "2022-02-13T17:16:56.125018Z",
     "shell.execute_reply": "2022-02-13T17:16:56.125430Z"
    },
    "papermill": {
     "duration": 0.306795,
     "end_time": "2022-02-13T17:16:56.125649",
     "exception": false,
     "start_time": "2022-02-13T17:16:55.818854",
     "status": "completed"
    },
    "tags": []
   },
   "outputs": [
    {
     "data": {
      "image/png": "[encoded data removed]",
      "text/plain": [
       "<Figure size 432x288 with 1 Axes>"
      ]
     },
     "metadata": {
      "needs_background": "light"
     },
     "output_type": "display_data"
    },
    {
     "data": {
      "image/png": "[encoded data removed]",
      "text/plain": [
       "<Figure size 432x288 with 1 Axes>"
      ]
     },
     "metadata": {
      "needs_background": "light"
     },
     "output_type": "display_data"
    },
    {
     "data": {
      "image/png": "[encoded data removed]",
      "text/plain": [
       "<Figure size 432x288 with 1 Axes>"
      ]
     },
     "metadata": {
      "needs_background": "light"
     },
     "output_type": "display_data"
    },
    {
     "data": {
      "image/png": "[encoded data removed]",
      "text/plain": [
       "<Figure size 432x288 with 1 Axes>"
      ]
     },
     "metadata": {
      "needs_background": "light"
     },
     "output_type": "display_data"
    }
   ],
   "source": [
    "sanityChecks.discProbVsError(train_data,disc,device)\n",
    "sanityChecks.discProbVsError(test_data,disc,device)"
   ]
  },
  {
   "cell_type": "markdown",
   "id": "130f3a4d",
   "metadata": {
    "id": "130f3a4d",
    "papermill": {
     "duration": 0.015441,
     "end_time": "2022-02-13T17:16:56.156455",
     "exception": false,
     "start_time": "2022-02-13T17:16:56.141014",
     "status": "completed"
    },
    "tags": []
   },
   "source": [
    "# ABC - GAN Model with skip connection"
   ]
  },
  {
   "cell_type": "code",
   "execution_count": 15,
   "id": "4e43dad1",
   "metadata": {
    "execution": {
     "iopub.execute_input": "2022-02-13T17:16:56.193822Z",
     "iopub.status.busy": "2022-02-13T17:16:56.193320Z",
     "iopub.status.idle": "2022-02-13T17:16:56.197115Z",
     "shell.execute_reply": "2022-02-13T17:16:56.197381Z"
    },
    "id": "4e43dad1",
    "papermill": {
     "duration": 0.025081,
     "end_time": "2022-02-13T17:16:56.197513",
     "exception": false,
     "start_time": "2022-02-13T17:16:56.172432",
     "status": "completed"
    },
    "tags": []
   },
   "outputs": [],
   "source": [
    "#Generator\n",
    "gen3 = network.GeneratorWithSkipConnection(n_features+1).to(device)\n",
    "constraints=network.weightConstraint()\n",
    "#Discriminator \n",
    "disc3 = network.Discriminator(n_features+1).to(device)\n",
    "\n",
    "criterion = torch.nn.BCELoss()\n",
    "gen_opt = torch.optim.Adam(gen3.parameters(), lr=0.001, betas=(0.5, 0.999))\n",
    "disc_opt = torch.optim.Adam(disc3.parameters(), lr=0.001, betas=(0.5, 0.999))\n"
   ]
  },
  {
   "cell_type": "code",
   "execution_count": 16,
   "id": "26acbc37",
   "metadata": {
    "execution": {
     "iopub.execute_input": "2022-02-13T17:16:56.230329Z",
     "iopub.status.busy": "2022-02-13T17:16:56.229933Z",
     "iopub.status.idle": "2022-02-13T17:17:33.804494Z",
     "shell.execute_reply": "2022-02-13T17:17:33.804826Z"
    },
    "id": "26acbc37",
    "papermill": {
     "duration": 37.59226,
     "end_time": "2022-02-13T17:17:33.804951",
     "exception": false,
     "start_time": "2022-02-13T17:16:56.212691",
     "status": "completed"
    },
    "tags": []
   },
   "outputs": [
    {
     "data": {
      "image/png": "[encoded data removed]",
      "text/plain": [
       "<Figure size 432x288 with 1 Axes>"
      ]
     },
     "metadata": {
      "needs_background": "light"
     },
     "output_type": "display_data"
    },
    {
     "data": {
      "image/png": "[encoded data removed]",
      "text/plain": [
       "<Figure size 432x288 with 1 Axes>"
      ]
     },
     "metadata": {
      "needs_background": "light"
     },
     "output_type": "display_data"
    }
   ],
   "source": [
    "ABC_train_test2.training_GAN_skip_connection(disc3,gen3,disc_opt,gen_opt,train_data,batch_size,n_epochs,criterion,prior_model,variance,device)"
   ]
  },
  {
   "cell_type": "code",
   "execution_count": 17,
   "id": "c5e0717b",
   "metadata": {
    "execution": {
     "iopub.execute_input": "2022-02-13T17:17:33.838687Z",
     "iopub.status.busy": "2022-02-13T17:17:33.838217Z",
     "iopub.status.idle": "2022-02-13T17:17:34.132600Z",
     "shell.execute_reply": "2022-02-13T17:17:34.133031Z"
    },
    "id": "c5e0717b",
    "papermill": {
     "duration": 0.312685,
     "end_time": "2022-02-13T17:17:34.133155",
     "exception": false,
     "start_time": "2022-02-13T17:17:33.820470",
     "status": "completed"
    },
    "tags": []
   },
   "outputs": [
    {
     "data": {
      "application/scrapbook.scrap.json+json": {
       "data": 0.20813198300358485,
       "encoder": "json",
       "name": "ABC-GAN Model 3 MSE",
       "version": 1
      }
     },
     "metadata": {
      "scrapbook": {
       "data": true,
       "display": false,
       "name": "ABC-GAN Model 3 MSE"
      }
     },
     "output_type": "display_data"
    },
    {
     "data": {
      "application/scrapbook.scrap.json+json": {
       "data": 0.3923043362079188,
       "encoder": "json",
       "name": "ABC-GAN Model 3 MAE",
       "version": 1
      }
     },
     "metadata": {
      "scrapbook": {
       "data": true,
       "display": false,
       "name": "ABC-GAN Model 3 MAE"
      }
     },
     "output_type": "display_data"
    },
    {
     "data": {
      "application/scrapbook.scrap.json+json": {
       "data": 7.8460867241583765,
       "encoder": "json",
       "name": "ABC-GAN Model 3 Manhattan Distance",
       "version": 1
      }
     },
     "metadata": {
      "scrapbook": {
       "data": true,
       "display": false,
       "name": "ABC-GAN Model 3 Manhattan Distance"
      }
     },
     "output_type": "display_data"
    },
    {
     "data": {
      "application/scrapbook.scrap.json+json": {
       "data": 2.0327644884302094,
       "encoder": "json",
       "name": "ABC-GAN Model 3 Euclidean distance",
       "version": 1
      }
     },
     "metadata": {
      "scrapbook": {
       "data": true,
       "display": false,
       "name": "ABC-GAN Model 3 Euclidean distance"
      }
     },
     "output_type": "display_data"
    },
    {
     "data": {
      "application/scrapbook.scrap.json+json": {
       "data": [
        [
         0.21838882093635775,
         0.19023442242146013,
         0.16198452158864005,
         0.20688747598274398,
         0.17581721136760123,
         0.16638645909671212,
         0.2518543036373115,
         0.23716578491973328,
         0.1964967464698931,
         0.2353718297125477,
         0.18141668336222586,
         0.18663915189845723,
         0.15640025935840937,
         0.20894462753457108,
         0.22950359553128416,
         0.2231555585124899,
         0.3095114180074775,
         0.2644448311107665,
         0.19857660996644513,
         0.16890423927979223,
         0.16442968084413803,
         0.18263679351704082,
         0.16578986721721756,
         0.20045248332179613,
         0.16619672913011413,
         0.1923941495777421,
         0.2713240282832051,
         0.15923633029597709,
         0.29599676668528735,
         0.17729616333550555,
         0.18711224440692803,
         0.22799944063660363,
         0.19186642305127669,
         0.24338204775888794,
         0.2400622871456508,
         0.17376955612974054,
         0.20406640095867773,
         0.15774969965767763,
         0.18732864015602563,
         0.23620127984502898,
         0.21065240177768585,
         0.18965476881703794,
         0.15090344703040062,
         0.17983790664006355,
         0.2349213623211493,
         0.20496828482993826,
         0.2420568649555111,
         0.15414954328678446,
         0.19403226563450646,
         0.20500097780668666,
         0.3084624234795761,
         0.24054203052022421,
         0.15046828732922407,
         0.18933187212275632,
         0.2170850179361182,
         0.2270875279706334,
         0.19625572226388832,
         0.19924237452664117,
         0.16353474636757367,
         0.23233433600252162,
         0.1899535522688287,
         0.18275759007203574,
         0.26985842560077966,
         0.1758512023861826,
         0.1598418933452606,
         0.22782161931801242,
         0.1519182863247518,
         0.19563661065149168,
         0.17115543597258195,
         0.2087720736832066,
         0.21059183757477418,
         0.19608224453159692,
         0.19041480352840345,
         0.1985859408794922,
         0.20013746119450512,
         0.24229638421997826,
         0.2484863144471864,
         0.25593207436697296,
         0.21250458586594015,
         0.2476161971742838,
         0.2167650512808131,
         0.22916704779480573,
         0.19387041078437747,
         0.2813795126351159,
         0.2020746311563769,
         0.2253516189501779,
         0.22500565066445316,
         0.1890751325868166,
         0.25891388708036034,
         0.23655129059781493,
         0.21853915905004886,
         0.23712010341995202,
         0.20912257927371317,
         0.20068853441358953,
         0.28278792566770694,
         0.21039540431289333,
         0.2343634514695533,
         0.13702257116550715,
         0.181519743775664,
         0.22337233660411723
        ],
        [
         0.3831719344481826,
         0.3672564586624503,
         0.33770253267139194,
         0.38858013954013587,
         0.3724858758971095,
         0.3734762331470847,
         0.451838662289083,
         0.43753556739538907,
         0.3754901682958007,
         0.40935496892780066,
         0.35698883291333916,
         0.3714347457513213,
         0.34341669734567404,
         0.40642416160553696,
         0.43845848795026543,
         0.41162860468029977,
         0.4928673138841987,
         0.4469603782519698,
         0.3971118679270148,
         0.37282303888350726,
         0.36072569489479067,
         0.38286515828222034,
         0.3745647745206952,
         0.37248612847179174,
         0.3273196345195174,
         0.38698343094438314,
         0.4501042490825057,
         0.32268728520721196,
         0.47421436812728646,
         0.3657956600189209,
         0.38544412832707164,
         0.42426981683820486,
         0.36052692141383885,
         0.42042553033679725,
         0.409106688760221,
         0.3836944160051644,
         0.36494747921824455,
         0.3573044454678893,
         0.3819140626117587,
         0.411495747230947,
         0.4033206744119525,
         0.3672683959826827,
         0.3389972483739257,
         0.3607359020039439,
         0.4383624827489257,
         0.4057176200672984,
         0.41467634197324515,
         0.3463261745870113,
         0.3834596430882812,
         0.4061243739910424,
         0.4778165271505713,
         0.4315647853538394,
         0.33520327117294074,
         0.3747504798695445,
         0.4090053935535252,
         0.4070695487782359,
         0.38114180844277146,
         0.3701266394928098,
         0.33864325638860465,
         0.43433813359588386,
         0.3736417731270194,
         0.39013607781380416,
         0.4250285467132926,
         0.35851972457021475,
         0.34604992922395467,
         0.4119701148942113,
         0.3449706433340907,
         0.36224293764680626,
         0.3507259635254741,
         0.40239621605724096,
         0.3853890201076865,
         0.37696351315826176,
         0.35899834241718054,
         0.37795198187232015,
         0.380903841368854,
         0.436703178845346,
         0.4308711616322398,
         0.4053350841626525,
         0.401099463365972,
         0.4507033107802272,
         0.4095295686274767,
         0.4149484483525157,
         0.3707180144265294,
         0.4615020288154483,
         0.39342466052621605,
         0.4224345592781901,
         0.42119321282953026,
         0.3726691072806716,
         0.4208740880712867,
         0.4207153296098113,
         0.39349407609552145,
         0.4129275968298316,
         0.38910342659801245,
         0.3918609721586108,
         0.44266535099595783,
         0.38020062651485204,
         0.3912974840030074,
         0.32347766514867543,
         0.35842658337205646,
         0.39183900486677886
        ],
        [
         7.663438688963652,
         7.345129173249006,
         6.754050653427839,
         7.771602790802717,
         7.44971751794219,
         7.469524662941694,
         9.03677324578166,
         8.750711347907782,
         7.509803365916014,
         8.187099378556013,
         7.139776658266783,
         7.428694915026426,
         6.868333946913481,
         8.128483232110739,
         8.769169759005308,
         8.232572093605995,
         9.857346277683973,
         8.939207565039396,
         7.9422373585402966,
         7.456460777670145,
         7.214513897895813,
         7.657303165644407,
         7.491295490413904,
         7.449722569435835,
         6.546392690390348,
         7.739668618887663,
         9.002084981650114,
         6.453745704144239,
         9.484287362545729,
         7.315913200378418,
         7.708882566541433,
         8.485396336764097,
         7.210538428276777,
         8.408510606735945,
         8.18213377520442,
         7.673888320103288,
         7.298949584364891,
         7.146088909357786,
         7.638281252235174,
         8.22991494461894,
         8.06641348823905,
         7.345367919653654,
         6.779944967478514,
         7.214718040078878,
         8.767249654978514,
         8.114352401345968,
         8.293526839464903,
         6.926523491740227,
         7.669192861765623,
         8.122487479820848,
         9.556330543011427,
         8.631295707076788,
         6.704065423458815,
         7.49500959739089,
         8.180107871070504,
         8.141390975564718,
         7.622836168855429,
         7.4025327898561954,
         6.772865127772093,
         8.686762671917677,
         7.472835462540388,
         7.802721556276083,
         8.500570934265852,
         7.170394491404295,
         6.9209985844790936,
         8.239402297884226,
         6.899412866681814,
         7.244858752936125,
         7.014519270509481,
         8.04792432114482,
         7.70778040215373,
         7.5392702631652355,
         7.179966848343611,
         7.5590396374464035,
         7.618076827377081,
         8.73406357690692,
         8.617423232644796,
         8.10670168325305,
         8.02198926731944,
         9.014066215604544,
         8.190591372549534,
         8.298968967050314,
         7.414360288530588,
         9.230040576308966,
         7.868493210524321,
         8.448691185563803,
         8.423864256590605,
         7.453382145613432,
         8.417481761425734,
         8.414306592196226,
         7.869881521910429,
         8.258551936596632,
         7.782068531960249,
         7.837219443172216,
         8.853307019919157,
         7.604012530297041,
         7.825949680060148,
         6.469553302973509,
         7.16853166744113,
         7.836780097335577
        ],
        [
         2.0899225867785525,
         1.9505610599079442,
         1.7999140067716572,
         2.0341458943878337,
         1.8751917841522303,
         1.8242064526621549,
         2.244345355052611,
         2.1779154479443563,
         1.982406348203582,
         2.1696627835336426,
         1.9048185391906802,
         1.9320411584562955,
         1.768616744003117,
         2.0442339765035267,
         2.1424453109999524,
         2.112607670688005,
         2.4880169533484997,
         2.299760122755269,
         1.9928703418258054,
         1.8379566876278246,
         1.813447991226316,
         1.911213193325333,
         1.8209330971631965,
         2.0022611384222393,
         1.8231660874978677,
         1.96160214915126,
         2.329480750223986,
         1.7845802324130853,
         2.4330917232413882,
         1.8830622046841976,
         1.9344882755236743,
         2.135413030945553,
         1.958910018613804,
         2.206273091704143,
         2.1911745121995683,
         1.8642400925296103,
         2.0202296946569107,
         1.7762302759365274,
         1.935606572400629,
         2.173482366365225,
         2.0525710792938976,
         1.9475870651503,
         1.7372590309473175,
         1.8965120966662117,
         2.1675855799536463,
         2.0246890370125397,
         2.2002584618881076,
         1.7558447726765851,
         1.969935357490222,
         2.0248505021689214,
         2.483797187692973,
         2.1933628542501773,
         1.7347523588640774,
         1.9459284268582764,
         2.083674724788484,
         2.1311383247956166,
         1.9811901587878349,
         1.9962082783449284,
         1.8085062696467142,
         2.1556174799927823,
         1.9491205825644995,
         1.9118451300878727,
         2.323180688628328,
         1.875373042283495,
         1.7879703204766046,
         2.1345801428759352,
         1.743090854343237,
         1.9780627424401467,
         1.8501645114561136,
         2.043389701859176,
         2.0522759930125103,
         1.9803143413690512,
         1.9514856060366084,
         1.9929171627515891,
         2.000687187915718,
         2.2013467887635434,
         2.2292882920214083,
         2.262441488158193,
         2.0615750574060607,
         2.2253817523035626,
         2.082138570224437,
         2.1408738766905713,
         1.9691135608916897,
         2.3722542554925092,
         2.0103463938156376,
         2.122977244108744,
         2.1213469808800878,
         1.9446086114527859,
         2.2755829454465526,
         2.175092138727989,
         2.0906418107846636,
         2.177705689113899,
         2.0451042969673363,
         2.003439714159573,
         2.3781838687019428,
         2.0513186213403967,
         2.1650101684267136,
         1.6554308875063746,
         1.9053595134549488,
         2.1136335377927615
        ]
       ],
       "encoder": "json",
       "name": "ABC_GAN_3 Metrics",
       "version": 1
      }
     },
     "metadata": {
      "scrapbook": {
       "data": true,
       "display": false,
       "name": "ABC_GAN_3 Metrics"
      }
     },
     "output_type": "display_data"
    },
    {
     "name": "stdout",
     "output_type": "stream",
     "text": [
      "MSE\n",
      "0.20813198300358485\n"
     ]
    }
   ],
   "source": [
    "ABC_GAN3_metrics=ABC_train_test2.test_generator(gen3,test_data,prior_model,variance,\"3\",device)\n",
    "sb.glue(\"ABC_GAN_3 Metrics\",ABC_GAN3_metrics)\n",
    "\n",
    "print(\"MSE\")\n",
    "print(mean(ABC_GAN3_metrics[0]))"
   ]
  },
  {
   "cell_type": "code",
   "execution_count": 18,
   "id": "c8e46b48",
   "metadata": {
    "execution": {
     "iopub.execute_input": "2022-02-13T17:17:34.193281Z",
     "iopub.status.busy": "2022-02-13T17:17:34.192915Z",
     "iopub.status.idle": "2022-02-13T17:17:34.485098Z",
     "shell.execute_reply": "2022-02-13T17:17:34.485478Z"
    },
    "id": "c8e46b48",
    "papermill": {
     "duration": 0.311855,
     "end_time": "2022-02-13T17:17:34.485604",
     "exception": false,
     "start_time": "2022-02-13T17:17:34.173749",
     "status": "completed"
    },
    "tags": []
   },
   "outputs": [
    {
     "data": {
      "image/png": "[encoded data removed]",
      "text/plain": [
       "<Figure size 432x288 with 1 Axes>"
      ]
     },
     "metadata": {
      "needs_background": "light"
     },
     "output_type": "display_data"
    },
    {
     "data": {
      "image/png": "[encoded data removed]",
      "text/plain": [
       "<Figure size 432x288 with 1 Axes>"
      ]
     },
     "metadata": {
      "needs_background": "light"
     },
     "output_type": "display_data"
    },
    {
     "data": {
      "image/png": "[encoded data removed]",
      "text/plain": [
       "<Figure size 432x288 with 1 Axes>"
      ]
     },
     "metadata": {
      "needs_background": "light"
     },
     "output_type": "display_data"
    },
    {
     "data": {
      "image/png": "[encoded data removed]",
      "text/plain": [
       "<Figure size 432x288 with 1 Axes>"
      ]
     },
     "metadata": {
      "needs_background": "light"
     },
     "output_type": "display_data"
    }
   ],
   "source": [
    "sanityChecks.discProbVsError(train_data,disc3,device)\n",
    "sanityChecks.discProbVsError(test_data,disc3,device)"
   ]
  },
  {
   "cell_type": "markdown",
   "id": "a5bd74c3",
   "metadata": {
    "id": "a5bd74c3",
    "papermill": {
     "duration": 0.019099,
     "end_time": "2022-02-13T17:17:34.524308",
     "exception": false,
     "start_time": "2022-02-13T17:17:34.505209",
     "status": "completed"
    },
    "tags": []
   },
   "source": [
    "## Skip Connection Model Analysis - ABC-GAN "
   ]
  },
  {
   "cell_type": "markdown",
   "id": "5744a8bf",
   "metadata": {
    "id": "5744a8bf",
    "papermill": {
     "duration": 0.018906,
     "end_time": "2022-02-13T17:17:34.562209",
     "exception": false,
     "start_time": "2022-02-13T17:17:34.543303",
     "status": "completed"
    },
    "tags": []
   },
   "source": [
    "### Weight Analysis \n",
    "\n",
    "Study the weights of the skip connection layer\n",
    "\n",
    "Equation of the skip connection is \n",
    "\n",
    "$output = y_{gan} * w + y_{abc} * (1-w)$"
   ]
  },
  {
   "cell_type": "code",
   "execution_count": 19,
   "id": "52c31dea",
   "metadata": {
    "execution": {
     "iopub.execute_input": "2022-02-13T17:17:34.603249Z",
     "iopub.status.busy": "2022-02-13T17:17:34.602851Z",
     "iopub.status.idle": "2022-02-13T17:17:34.606631Z",
     "shell.execute_reply": "2022-02-13T17:17:34.606272Z"
    },
    "id": "52c31dea",
    "papermill": {
     "duration": 0.025553,
     "end_time": "2022-02-13T17:17:34.606732",
     "exception": false,
     "start_time": "2022-02-13T17:17:34.581179",
     "status": "completed"
    },
    "tags": []
   },
   "outputs": [
    {
     "name": "stdout",
     "output_type": "stream",
     "text": [
      "Weight of the node at skip connection\n",
      "Parameter containing:\n",
      "tensor([[0.2611]], requires_grad=True)\n"
     ]
    },
    {
     "data": {
      "application/scrapbook.scrap.json+json": {
       "data": 0.26113617420196533,
       "encoder": "json",
       "name": "Skip Connection Weight",
       "version": 1
      }
     },
     "metadata": {
      "scrapbook": {
       "data": true,
       "display": false,
       "name": "Skip Connection Weight"
      }
     },
     "output_type": "display_data"
    }
   ],
   "source": [
    "print(\"Weight of the node at skip connection\")\n",
    "for name,param in gen3.named_parameters():\n",
    "    if(name == \"skipNode.weight\"):\n",
    "        print(param)\n",
    "        sb.glue(\"Skip Connection Weight\",param.item())"
   ]
  }
 ],
 "metadata": {
  "colab": {
   "collapsed_sections": [],
   "name": "ABC_GAN_Model-Catboost_Pre-gen.ipynb",
   "provenance": []
  },
  "interpreter": {
   "hash": "31f2aee4e71d21fbe5cf8b01ff0e069b9275f58929596ceb00d14d90e3e16cd6"
  },
  "kernelspec": {
   "display_name": "Python 3 (ipykernel)",
   "language": "python",
   "name": "python3"
  },
  "language_info": {
   "codemirror_mode": {
    "name": "ipython",
    "version": 3
   },
   "file_extension": ".py",
   "mimetype": "text/x-python",
   "name": "python",
   "nbconvert_exporter": "python",
   "pygments_lexer": "ipython3",
   "version": "3.8.11"
  },
  "papermill": {
   "default_parameters": {},
   "duration": 57.043845,
   "end_time": "2022-02-13T17:17:34.933300",
   "environment_variables": {},
   "exception": null,
   "input_path": "ABC_GAN-Catboost.ipynb",
   "output_path": "./ABC_GAN_Catboost/ABC-GAN_output_5_0.ipynb",
   "parameters": {
    "variance": 1
   },
   "start_time": "2022-02-13T17:16:37.889455",
   "version": "2.3.3"
  }
 },
 "nbformat": 4,
 "nbformat_minor": 5
}