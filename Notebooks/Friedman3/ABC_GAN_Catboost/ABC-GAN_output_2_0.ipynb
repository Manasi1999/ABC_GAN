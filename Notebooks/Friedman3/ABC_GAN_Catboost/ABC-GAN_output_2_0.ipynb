{
 "cells": [
  {
   "cell_type": "markdown",
   "id": "622780e6",
   "metadata": {
    "id": "622780e6",
    "papermill": {
     "duration": 0.025061,
     "end_time": "2022-02-13T17:07:46.270095",
     "exception": false,
     "start_time": "2022-02-13T17:07:46.245034",
     "status": "completed"
    },
    "tags": []
   },
   "source": [
    "## Import Libraries "
   ]
  },
  {
   "cell_type": "code",
   "execution_count": 1,
   "id": "a62397e3",
   "metadata": {
    "execution": {
     "iopub.execute_input": "2022-02-13T17:07:46.302392Z",
     "iopub.status.busy": "2022-02-13T17:07:46.301818Z",
     "iopub.status.idle": "2022-02-13T17:07:46.304906Z",
     "shell.execute_reply": "2022-02-13T17:07:46.305319Z"
    },
    "id": "a62397e3",
    "papermill": {
     "duration": 0.023398,
     "end_time": "2022-02-13T17:07:46.305572",
     "exception": false,
     "start_time": "2022-02-13T17:07:46.282174",
     "status": "completed"
    },
    "tags": []
   },
   "outputs": [],
   "source": [
    "import warnings\n",
    "import sys\n",
    "sys.path.insert(0, '../../src')\n",
    "warnings.filterwarnings('ignore')"
   ]
  },
  {
   "cell_type": "code",
   "execution_count": 2,
   "id": "d6a4e155",
   "metadata": {
    "execution": {
     "iopub.execute_input": "2022-02-13T17:07:46.329901Z",
     "iopub.status.busy": "2022-02-13T17:07:46.329449Z",
     "iopub.status.idle": "2022-02-13T17:07:48.241475Z",
     "shell.execute_reply": "2022-02-13T17:07:48.241739Z"
    },
    "id": "d6a4e155",
    "papermill": {
     "duration": 1.92479,
     "end_time": "2022-02-13T17:07:48.241867",
     "exception": false,
     "start_time": "2022-02-13T17:07:46.317077",
     "status": "completed"
    },
    "tags": []
   },
   "outputs": [],
   "source": [
    "import ABC_train_test2\n",
    "import friedman3Dataset\n",
    "import network\n",
    "import dataset\n",
    "import sanityChecks\n",
    "import torch \n",
    "import scrapbook as sb\n",
    "from statistics import mean \n",
    "import catboost as ctb \n",
    "from sklearn.model_selection import train_test_split\n",
    "from sklearn.metrics import mean_squared_error,mean_absolute_error\n",
    "import numpy as np"
   ]
  },
  {
   "cell_type": "markdown",
   "id": "2fa5b0f7",
   "metadata": {
    "id": "2fa5b0f7",
    "papermill": {
     "duration": 0.007181,
     "end_time": "2022-02-13T17:07:48.256317",
     "exception": false,
     "start_time": "2022-02-13T17:07:48.249136",
     "status": "completed"
    },
    "tags": []
   },
   "source": [
    "## Parameters "
   ]
  },
  {
   "cell_type": "code",
   "execution_count": 3,
   "id": "783186fb",
   "metadata": {
    "execution": {
     "iopub.execute_input": "2022-02-13T17:07:48.272841Z",
     "iopub.status.busy": "2022-02-13T17:07:48.272463Z",
     "iopub.status.idle": "2022-02-13T17:07:48.273778Z",
     "shell.execute_reply": "2022-02-13T17:07:48.274026Z"
    },
    "id": "783186fb",
    "papermill": {
     "duration": 0.011018,
     "end_time": "2022-02-13T17:07:48.274139",
     "exception": false,
     "start_time": "2022-02-13T17:07:48.263121",
     "status": "completed"
    },
    "tags": [
     "parameters"
    ]
   },
   "outputs": [],
   "source": [
    "variance = 1"
   ]
  },
  {
   "cell_type": "code",
   "execution_count": 4,
   "id": "3b91eade",
   "metadata": {
    "execution": {
     "iopub.execute_input": "2022-02-13T17:07:48.290519Z",
     "iopub.status.busy": "2022-02-13T17:07:48.290148Z",
     "iopub.status.idle": "2022-02-13T17:07:48.291429Z",
     "shell.execute_reply": "2022-02-13T17:07:48.291673Z"
    },
    "papermill": {
     "duration": 0.01055,
     "end_time": "2022-02-13T17:07:48.291785",
     "exception": false,
     "start_time": "2022-02-13T17:07:48.281235",
     "status": "completed"
    },
    "tags": [
     "injected-parameters"
    ]
   },
   "outputs": [],
   "source": [
    "# Parameters\n",
    "variance = 1\n"
   ]
  },
  {
   "cell_type": "markdown",
   "id": "391cdbfd",
   "metadata": {
    "id": "391cdbfd",
    "papermill": {
     "duration": 0.007231,
     "end_time": "2022-02-13T17:07:48.305991",
     "exception": false,
     "start_time": "2022-02-13T17:07:48.298760",
     "status": "completed"
    },
    "tags": []
   },
   "source": [
    "## Dataset \n"
   ]
  },
  {
   "cell_type": "code",
   "execution_count": 5,
   "id": "5b51f161",
   "metadata": {
    "execution": {
     "iopub.execute_input": "2022-02-13T17:07:48.322498Z",
     "iopub.status.busy": "2022-02-13T17:07:48.322089Z",
     "iopub.status.idle": "2022-02-13T17:07:48.323379Z",
     "shell.execute_reply": "2022-02-13T17:07:48.323630Z"
    },
    "id": "5b51f161",
    "papermill": {
     "duration": 0.010791,
     "end_time": "2022-02-13T17:07:48.323747",
     "exception": false,
     "start_time": "2022-02-13T17:07:48.312956",
     "status": "completed"
    },
    "tags": []
   },
   "outputs": [],
   "source": [
    "#Parameters \n",
    "n_features = 4\n",
    "n_samples= 100\n",
    "n_target = 1 "
   ]
  },
  {
   "cell_type": "code",
   "execution_count": 6,
   "id": "5d6eced4",
   "metadata": {
    "execution": {
     "iopub.execute_input": "2022-02-13T17:07:48.341031Z",
     "iopub.status.busy": "2022-02-13T17:07:48.340585Z",
     "iopub.status.idle": "2022-02-13T17:07:48.346744Z",
     "shell.execute_reply": "2022-02-13T17:07:48.347133Z"
    },
    "id": "5d6eced4",
    "papermill": {
     "duration": 0.016301,
     "end_time": "2022-02-13T17:07:48.347262",
     "exception": false,
     "start_time": "2022-02-13T17:07:48.330961",
     "status": "completed"
    },
    "tags": []
   },
   "outputs": [
    {
     "name": "stdout",
     "output_type": "stream",
     "text": [
      "          X1           X2        X3        X4         Y\n",
      "0  14.758061  1512.125988  0.890013  9.258956  1.589005\n",
      "1  33.635088   341.964375  0.030633  4.024366  0.274877\n",
      "2  74.034323   480.023180  0.875324  7.494343  1.310343\n",
      "3  17.298202   150.912835  0.361838  8.317644  1.193877\n",
      "4  77.713044   887.694164  0.288236  2.395367  1.356943\n"
     ]
    }
   ],
   "source": [
    "X,Y = friedman3Dataset.friedman3_data(n_samples)"
   ]
  },
  {
   "cell_type": "code",
   "execution_count": 7,
   "id": "fe007438",
   "metadata": {
    "execution": {
     "iopub.execute_input": "2022-02-13T17:07:48.366038Z",
     "iopub.status.busy": "2022-02-13T17:07:48.365579Z",
     "iopub.status.idle": "2022-02-13T17:07:48.366888Z",
     "shell.execute_reply": "2022-02-13T17:07:48.367180Z"
    },
    "id": "fe007438",
    "papermill": {
     "duration": 0.012154,
     "end_time": "2022-02-13T17:07:48.367313",
     "exception": false,
     "start_time": "2022-02-13T17:07:48.355159",
     "status": "completed"
    },
    "tags": []
   },
   "outputs": [],
   "source": [
    "#Train test split for dataset \n",
    "X_train,X_test,Y_train,Y_test = train_test_split(X,Y,test_size = 0.2)\n",
    "train_data = dataset.CustomDataset(X_train,Y_train)\n",
    "test_data = dataset.CustomDataset(X_test,Y_test)\n"
   ]
  },
  {
   "cell_type": "markdown",
   "id": "a9a1af34",
   "metadata": {
    "id": "a9a1af34",
    "papermill": {
     "duration": 0.007326,
     "end_time": "2022-02-13T17:07:48.382251",
     "exception": false,
     "start_time": "2022-02-13T17:07:48.374925",
     "status": "completed"
    },
    "tags": []
   },
   "source": [
    "## Training Parameters "
   ]
  },
  {
   "cell_type": "code",
   "execution_count": 8,
   "id": "952b7fc8",
   "metadata": {
    "execution": {
     "iopub.execute_input": "2022-02-13T17:07:48.400886Z",
     "iopub.status.busy": "2022-02-13T17:07:48.400316Z",
     "iopub.status.idle": "2022-02-13T17:07:48.401742Z",
     "shell.execute_reply": "2022-02-13T17:07:48.402046Z"
    },
    "id": "952b7fc8",
    "papermill": {
     "duration": 0.012108,
     "end_time": "2022-02-13T17:07:48.402179",
     "exception": false,
     "start_time": "2022-02-13T17:07:48.390071",
     "status": "completed"
    },
    "tags": []
   },
   "outputs": [],
   "source": [
    "batch_size = 32\n",
    "n_epochs = 1000\n",
    "#Select the device \n",
    "device = torch.device('cuda' if torch.cuda.is_available() else 'cpu')"
   ]
  },
  {
   "cell_type": "markdown",
   "id": "a95e1600",
   "metadata": {
    "id": "a95e1600",
    "papermill": {
     "duration": 0.007591,
     "end_time": "2022-02-13T17:07:48.417716",
     "exception": false,
     "start_time": "2022-02-13T17:07:48.410125",
     "status": "completed"
    },
    "tags": []
   },
   "source": [
    "# ABC Pre-generator Model \n",
    "\n",
    "1. The catboost model is used as a pre-generator model for the ABC-GAN. \n",
    "2. The model is first trained on the entire dataset \n",
    "3. It generats X,Y pairs and we add some Gaussian noise with mean 0 and variance 1 to it which is then feed as input to the generator.\n"
   ]
  },
  {
   "cell_type": "code",
   "execution_count": 9,
   "id": "ff8ce7bd",
   "metadata": {
    "execution": {
     "iopub.execute_input": "2022-02-13T17:07:48.437879Z",
     "iopub.status.busy": "2022-02-13T17:07:48.437418Z",
     "iopub.status.idle": "2022-02-13T17:07:49.061152Z",
     "shell.execute_reply": "2022-02-13T17:07:49.061405Z"
    },
    "id": "ff8ce7bd",
    "papermill": {
     "duration": 0.636191,
     "end_time": "2022-02-13T17:07:49.061525",
     "exception": false,
     "start_time": "2022-02-13T17:07:48.425334",
     "status": "completed"
    },
    "tags": []
   },
   "outputs": [
    {
     "name": "stdout",
     "output_type": "stream",
     "text": [
      "Learning rate set to 0.024897\n",
      "0:\tlearn: 1.0511312\ttotal: 57.9ms\tremaining: 57.8s\n",
      "1:\tlearn: 1.0403707\ttotal: 58.4ms\tremaining: 29.1s\n",
      "2:\tlearn: 1.0302461\ttotal: 58.8ms\tremaining: 19.5s\n",
      "3:\tlearn: 1.0202149\ttotal: 59.3ms\tremaining: 14.8s\n",
      "4:\tlearn: 1.0086267\ttotal: 60.1ms\tremaining: 12s\n",
      "5:\tlearn: 0.9973325\ttotal: 60.5ms\tremaining: 10s\n",
      "6:\tlearn: 0.9868684\ttotal: 61.2ms\tremaining: 8.68s\n",
      "7:\tlearn: 0.9755983\ttotal: 61.7ms\tremaining: 7.65s\n",
      "8:\tlearn: 0.9646541\ttotal: 62.1ms\tremaining: 6.84s\n",
      "9:\tlearn: 0.9519986\ttotal: 62.6ms\tremaining: 6.19s\n",
      "10:\tlearn: 0.9433418\ttotal: 63.1ms\tremaining: 5.68s\n",
      "11:\tlearn: 0.9341610\ttotal: 63.6ms\tremaining: 5.23s\n",
      "12:\tlearn: 0.9254181\ttotal: 63.9ms\tremaining: 4.85s\n",
      "13:\tlearn: 0.9169196\ttotal: 64.4ms\tremaining: 4.53s\n",
      "14:\tlearn: 0.9065915\ttotal: 64.9ms\tremaining: 4.26s\n",
      "15:\tlearn: 0.8979660\ttotal: 65.3ms\tremaining: 4.01s\n",
      "16:\tlearn: 0.8905852\ttotal: 65.6ms\tremaining: 3.79s\n",
      "17:\tlearn: 0.8805107\ttotal: 66.2ms\tremaining: 3.61s\n",
      "18:\tlearn: 0.8723036\ttotal: 66.7ms\tremaining: 3.44s\n",
      "19:\tlearn: 0.8623824\ttotal: 67ms\tremaining: 3.28s\n",
      "20:\tlearn: 0.8525471\ttotal: 67.4ms\tremaining: 3.14s\n",
      "21:\tlearn: 0.8430734\ttotal: 67.8ms\tremaining: 3.01s\n",
      "22:\tlearn: 0.8364668\ttotal: 68.2ms\tremaining: 2.9s\n",
      "23:\tlearn: 0.8286330\ttotal: 68.6ms\tremaining: 2.79s\n",
      "24:\tlearn: 0.8199530\ttotal: 69.1ms\tremaining: 2.69s\n",
      "25:\tlearn: 0.8124508\ttotal: 69.6ms\tremaining: 2.61s\n",
      "26:\tlearn: 0.8059035\ttotal: 70ms\tremaining: 2.52s\n",
      "27:\tlearn: 0.7984546\ttotal: 70.4ms\tremaining: 2.44s\n",
      "28:\tlearn: 0.7904742\ttotal: 71ms\tremaining: 2.38s\n",
      "29:\tlearn: 0.7821586\ttotal: 71.5ms\tremaining: 2.31s\n",
      "30:\tlearn: 0.7758634\ttotal: 72ms\tremaining: 2.25s\n",
      "31:\tlearn: 0.7692551\ttotal: 72.4ms\tremaining: 2.19s\n",
      "32:\tlearn: 0.7627091\ttotal: 72.9ms\tremaining: 2.14s\n",
      "33:\tlearn: 0.7553734\ttotal: 73.3ms\tremaining: 2.08s\n",
      "34:\tlearn: 0.7495519\ttotal: 73.7ms\tremaining: 2.03s\n",
      "35:\tlearn: 0.7415957\ttotal: 74.2ms\tremaining: 1.99s\n",
      "36:\tlearn: 0.7336117\ttotal: 74.7ms\tremaining: 1.94s\n",
      "37:\tlearn: 0.7266322\ttotal: 75.2ms\tremaining: 1.9s\n",
      "38:\tlearn: 0.7193555\ttotal: 75.6ms\tremaining: 1.86s\n",
      "39:\tlearn: 0.7119742\ttotal: 76.1ms\tremaining: 1.83s\n",
      "40:\tlearn: 0.7049530\ttotal: 76.5ms\tremaining: 1.79s\n",
      "41:\tlearn: 0.6985674\ttotal: 77.1ms\tremaining: 1.76s\n",
      "42:\tlearn: 0.6920293\ttotal: 77.5ms\tremaining: 1.72s\n",
      "43:\tlearn: 0.6856407\ttotal: 77.9ms\tremaining: 1.69s\n",
      "44:\tlearn: 0.6807794\ttotal: 78.4ms\tremaining: 1.66s\n",
      "45:\tlearn: 0.6758234\ttotal: 78.7ms\tremaining: 1.63s\n",
      "46:\tlearn: 0.6704580\ttotal: 79.1ms\tremaining: 1.6s\n",
      "47:\tlearn: 0.6649330\ttotal: 79.5ms\tremaining: 1.58s\n",
      "48:\tlearn: 0.6595776\ttotal: 79.9ms\tremaining: 1.55s\n",
      "49:\tlearn: 0.6535094\ttotal: 80.3ms\tremaining: 1.52s\n",
      "50:\tlearn: 0.6467132\ttotal: 80.7ms\tremaining: 1.5s\n",
      "51:\tlearn: 0.6405999\ttotal: 81.1ms\tremaining: 1.48s\n",
      "52:\tlearn: 0.6345824\ttotal: 81.4ms\tremaining: 1.45s\n",
      "53:\tlearn: 0.6287904\ttotal: 81.7ms\tremaining: 1.43s\n",
      "54:\tlearn: 0.6225409\ttotal: 82.1ms\tremaining: 1.41s\n",
      "55:\tlearn: 0.6163082\ttotal: 82.7ms\tremaining: 1.39s\n",
      "56:\tlearn: 0.6104861\ttotal: 83.2ms\tremaining: 1.38s\n",
      "57:\tlearn: 0.6048435\ttotal: 83.6ms\tremaining: 1.36s\n",
      "58:\tlearn: 0.5996206\ttotal: 84.1ms\tremaining: 1.34s\n",
      "59:\tlearn: 0.5941241\ttotal: 84.6ms\tremaining: 1.32s\n",
      "60:\tlearn: 0.5882293\ttotal: 85ms\tremaining: 1.31s\n",
      "61:\tlearn: 0.5832886\ttotal: 85.3ms\tremaining: 1.29s\n",
      "62:\tlearn: 0.5783466\ttotal: 85.7ms\tremaining: 1.27s\n",
      "63:\tlearn: 0.5728993\ttotal: 86.2ms\tremaining: 1.26s\n",
      "64:\tlearn: 0.5678732\ttotal: 86.6ms\tremaining: 1.25s\n",
      "65:\tlearn: 0.5631028\ttotal: 87ms\tremaining: 1.23s\n",
      "66:\tlearn: 0.5576604\ttotal: 87.7ms\tremaining: 1.22s\n",
      "67:\tlearn: 0.5530800\ttotal: 88ms\tremaining: 1.21s\n",
      "68:\tlearn: 0.5490142\ttotal: 88.4ms\tremaining: 1.19s\n",
      "69:\tlearn: 0.5449526\ttotal: 88.9ms\tremaining: 1.18s\n",
      "70:\tlearn: 0.5404564\ttotal: 89.4ms\tremaining: 1.17s\n",
      "71:\tlearn: 0.5366523\ttotal: 89.9ms\tremaining: 1.16s\n",
      "72:\tlearn: 0.5323708\ttotal: 90.2ms\tremaining: 1.15s\n",
      "73:\tlearn: 0.5288598\ttotal: 90.7ms\tremaining: 1.13s\n",
      "74:\tlearn: 0.5247472\ttotal: 91.2ms\tremaining: 1.12s\n",
      "75:\tlearn: 0.5198192\ttotal: 91.6ms\tremaining: 1.11s\n",
      "76:\tlearn: 0.5158338\ttotal: 92ms\tremaining: 1.1s\n",
      "77:\tlearn: 0.5118864\ttotal: 92.4ms\tremaining: 1.09s\n",
      "78:\tlearn: 0.5081156\ttotal: 92.9ms\tremaining: 1.08s\n",
      "79:\tlearn: 0.5030685\ttotal: 93.4ms\tremaining: 1.07s\n",
      "80:\tlearn: 0.4991029\ttotal: 93.9ms\tremaining: 1.06s\n",
      "81:\tlearn: 0.4953661\ttotal: 94.3ms\tremaining: 1.05s\n",
      "82:\tlearn: 0.4920055\ttotal: 94.8ms\tremaining: 1.05s\n",
      "83:\tlearn: 0.4882140\ttotal: 95.3ms\tremaining: 1.04s\n",
      "84:\tlearn: 0.4837468\ttotal: 95.6ms\tremaining: 1.03s\n",
      "85:\tlearn: 0.4806001\ttotal: 96.2ms\tremaining: 1.02s\n",
      "86:\tlearn: 0.4770798\ttotal: 96.7ms\tremaining: 1.01s\n",
      "87:\tlearn: 0.4732576\ttotal: 97.3ms\tremaining: 1.01s\n",
      "88:\tlearn: 0.4694770\ttotal: 97.8ms\tremaining: 1s\n",
      "89:\tlearn: 0.4659696\ttotal: 98.2ms\tremaining: 993ms\n",
      "90:\tlearn: 0.4626109\ttotal: 98.8ms\tremaining: 986ms\n",
      "91:\tlearn: 0.4587981\ttotal: 99.3ms\tremaining: 980ms\n",
      "92:\tlearn: 0.4563179\ttotal: 99.7ms\tremaining: 972ms\n",
      "93:\tlearn: 0.4531648\ttotal: 100ms\tremaining: 965ms\n",
      "94:\tlearn: 0.4499886\ttotal: 101ms\tremaining: 958ms\n"
     ]
    },
    {
     "name": "stdout",
     "output_type": "stream",
     "text": [
      "95:\tlearn: 0.4465880\ttotal: 101ms\tremaining: 953ms\n",
      "96:\tlearn: 0.4429092\ttotal: 102ms\tremaining: 947ms\n",
      "97:\tlearn: 0.4398787\ttotal: 102ms\tremaining: 939ms\n",
      "98:\tlearn: 0.4369444\ttotal: 102ms\tremaining: 932ms\n",
      "99:\tlearn: 0.4341892\ttotal: 103ms\tremaining: 925ms\n",
      "100:\tlearn: 0.4312508\ttotal: 103ms\tremaining: 918ms\n",
      "101:\tlearn: 0.4275376\ttotal: 103ms\tremaining: 910ms\n",
      "102:\tlearn: 0.4247969\ttotal: 104ms\tremaining: 903ms\n",
      "103:\tlearn: 0.4211219\ttotal: 104ms\tremaining: 896ms\n",
      "104:\tlearn: 0.4177050\ttotal: 105ms\tremaining: 893ms\n",
      "105:\tlearn: 0.4147108\ttotal: 105ms\tremaining: 887ms\n",
      "106:\tlearn: 0.4116146\ttotal: 106ms\tremaining: 883ms\n",
      "107:\tlearn: 0.4093930\ttotal: 106ms\tremaining: 878ms\n",
      "108:\tlearn: 0.4059031\ttotal: 107ms\tremaining: 873ms\n",
      "109:\tlearn: 0.4032461\ttotal: 107ms\tremaining: 868ms\n",
      "110:\tlearn: 0.3996984\ttotal: 108ms\tremaining: 863ms\n",
      "111:\tlearn: 0.3971857\ttotal: 108ms\tremaining: 859ms\n",
      "112:\tlearn: 0.3950498\ttotal: 109ms\tremaining: 854ms\n",
      "113:\tlearn: 0.3922249\ttotal: 109ms\tremaining: 850ms\n",
      "114:\tlearn: 0.3898770\ttotal: 110ms\tremaining: 845ms\n",
      "115:\tlearn: 0.3869116\ttotal: 110ms\tremaining: 839ms\n",
      "116:\tlearn: 0.3842711\ttotal: 110ms\tremaining: 833ms\n",
      "117:\tlearn: 0.3820724\ttotal: 111ms\tremaining: 828ms\n",
      "118:\tlearn: 0.3794205\ttotal: 111ms\tremaining: 824ms\n",
      "119:\tlearn: 0.3768770\ttotal: 112ms\tremaining: 819ms\n",
      "120:\tlearn: 0.3744071\ttotal: 112ms\tremaining: 814ms\n",
      "121:\tlearn: 0.3720969\ttotal: 112ms\tremaining: 809ms\n",
      "122:\tlearn: 0.3703844\ttotal: 113ms\tremaining: 805ms\n",
      "123:\tlearn: 0.3671434\ttotal: 113ms\tremaining: 801ms\n",
      "124:\tlearn: 0.3646956\ttotal: 114ms\tremaining: 796ms\n",
      "125:\tlearn: 0.3624008\ttotal: 114ms\tremaining: 792ms\n",
      "126:\tlearn: 0.3601147\ttotal: 115ms\tremaining: 788ms\n",
      "127:\tlearn: 0.3574098\ttotal: 115ms\tremaining: 783ms\n",
      "128:\tlearn: 0.3547718\ttotal: 116ms\tremaining: 781ms\n",
      "129:\tlearn: 0.3527794\ttotal: 116ms\tremaining: 777ms\n",
      "130:\tlearn: 0.3512455\ttotal: 116ms\tremaining: 773ms\n",
      "131:\tlearn: 0.3489716\ttotal: 117ms\tremaining: 769ms\n",
      "132:\tlearn: 0.3469163\ttotal: 117ms\tremaining: 765ms\n",
      "133:\tlearn: 0.3444859\ttotal: 118ms\tremaining: 760ms\n",
      "134:\tlearn: 0.3422975\ttotal: 118ms\tremaining: 756ms\n",
      "135:\tlearn: 0.3399577\ttotal: 118ms\tremaining: 753ms\n",
      "136:\tlearn: 0.3376640\ttotal: 119ms\tremaining: 749ms\n",
      "137:\tlearn: 0.3356436\ttotal: 119ms\tremaining: 746ms\n",
      "138:\tlearn: 0.3334563\ttotal: 120ms\tremaining: 743ms\n",
      "139:\tlearn: 0.3314019\ttotal: 120ms\tremaining: 739ms\n",
      "140:\tlearn: 0.3290683\ttotal: 121ms\tremaining: 735ms\n",
      "141:\tlearn: 0.3272736\ttotal: 121ms\tremaining: 732ms\n",
      "142:\tlearn: 0.3253611\ttotal: 122ms\tremaining: 729ms\n",
      "143:\tlearn: 0.3228899\ttotal: 122ms\tremaining: 726ms\n",
      "144:\tlearn: 0.3210441\ttotal: 123ms\tremaining: 722ms\n",
      "145:\tlearn: 0.3192429\ttotal: 123ms\tremaining: 719ms\n",
      "146:\tlearn: 0.3177860\ttotal: 123ms\tremaining: 715ms\n",
      "147:\tlearn: 0.3161478\ttotal: 124ms\tremaining: 713ms\n",
      "148:\tlearn: 0.3144659\ttotal: 124ms\tremaining: 710ms\n",
      "149:\tlearn: 0.3123022\ttotal: 125ms\tremaining: 707ms\n",
      "150:\tlearn: 0.3102914\ttotal: 125ms\tremaining: 703ms\n",
      "151:\tlearn: 0.3078111\ttotal: 125ms\tremaining: 700ms\n",
      "152:\tlearn: 0.3060418\ttotal: 126ms\tremaining: 697ms\n",
      "153:\tlearn: 0.3041352\ttotal: 126ms\tremaining: 694ms\n",
      "154:\tlearn: 0.3025295\ttotal: 127ms\tremaining: 690ms\n",
      "155:\tlearn: 0.3007383\ttotal: 127ms\tremaining: 687ms\n",
      "156:\tlearn: 0.2989900\ttotal: 127ms\tremaining: 684ms\n",
      "157:\tlearn: 0.2973584\ttotal: 128ms\tremaining: 681ms\n",
      "158:\tlearn: 0.2956840\ttotal: 128ms\tremaining: 679ms\n",
      "159:\tlearn: 0.2936487\ttotal: 129ms\tremaining: 675ms\n",
      "160:\tlearn: 0.2922228\ttotal: 129ms\tremaining: 672ms\n",
      "161:\tlearn: 0.2904785\ttotal: 129ms\tremaining: 670ms\n",
      "162:\tlearn: 0.2891881\ttotal: 130ms\tremaining: 666ms\n",
      "163:\tlearn: 0.2878717\ttotal: 130ms\tremaining: 663ms\n",
      "164:\tlearn: 0.2866383\ttotal: 130ms\tremaining: 660ms\n",
      "165:\tlearn: 0.2851840\ttotal: 131ms\tremaining: 657ms\n",
      "166:\tlearn: 0.2839402\ttotal: 131ms\tremaining: 654ms\n",
      "167:\tlearn: 0.2826846\ttotal: 131ms\tremaining: 651ms\n",
      "168:\tlearn: 0.2811453\ttotal: 132ms\tremaining: 649ms\n",
      "169:\tlearn: 0.2796128\ttotal: 132ms\tremaining: 647ms\n",
      "170:\tlearn: 0.2784999\ttotal: 133ms\tremaining: 644ms\n",
      "171:\tlearn: 0.2771702\ttotal: 133ms\tremaining: 642ms\n",
      "172:\tlearn: 0.2754086\ttotal: 134ms\tremaining: 640ms\n",
      "173:\tlearn: 0.2740499\ttotal: 134ms\tremaining: 637ms\n",
      "174:\tlearn: 0.2727133\ttotal: 135ms\tremaining: 634ms\n",
      "175:\tlearn: 0.2714708\ttotal: 135ms\tremaining: 632ms\n",
      "176:\tlearn: 0.2700386\ttotal: 135ms\tremaining: 629ms\n",
      "177:\tlearn: 0.2687379\ttotal: 136ms\tremaining: 627ms\n",
      "178:\tlearn: 0.2676657\ttotal: 136ms\tremaining: 625ms\n",
      "179:\tlearn: 0.2661467\ttotal: 137ms\tremaining: 623ms\n",
      "180:\tlearn: 0.2646193\ttotal: 137ms\tremaining: 620ms\n",
      "181:\tlearn: 0.2631090\ttotal: 137ms\tremaining: 617ms\n",
      "182:\tlearn: 0.2617697\ttotal: 138ms\tremaining: 616ms\n",
      "183:\tlearn: 0.2604880\ttotal: 138ms\tremaining: 613ms\n",
      "184:\tlearn: 0.2593223\ttotal: 139ms\tremaining: 610ms\n",
      "185:\tlearn: 0.2577385\ttotal: 139ms\tremaining: 609ms\n",
      "186:\tlearn: 0.2561868\ttotal: 139ms\tremaining: 606ms\n",
      "187:\tlearn: 0.2548804\ttotal: 140ms\tremaining: 604ms\n",
      "188:\tlearn: 0.2535084\ttotal: 140ms\tremaining: 602ms\n",
      "189:\tlearn: 0.2521123\ttotal: 141ms\tremaining: 600ms\n",
      "190:\tlearn: 0.2510185\ttotal: 141ms\tremaining: 598ms\n",
      "191:\tlearn: 0.2497756\ttotal: 142ms\tremaining: 596ms\n",
      "192:\tlearn: 0.2488556\ttotal: 142ms\tremaining: 593ms\n",
      "193:\tlearn: 0.2476153\ttotal: 142ms\tremaining: 591ms\n",
      "194:\tlearn: 0.2463133\ttotal: 143ms\tremaining: 589ms\n",
      "195:\tlearn: 0.2448791\ttotal: 143ms\tremaining: 587ms\n",
      "196:\tlearn: 0.2437039\ttotal: 144ms\tremaining: 586ms\n",
      "197:\tlearn: 0.2423559\ttotal: 144ms\tremaining: 585ms\n",
      "198:\tlearn: 0.2410487\ttotal: 145ms\tremaining: 583ms\n",
      "199:\tlearn: 0.2397078\ttotal: 145ms\tremaining: 581ms\n",
      "200:\tlearn: 0.2385984\ttotal: 146ms\tremaining: 579ms\n",
      "201:\tlearn: 0.2371833\ttotal: 146ms\tremaining: 578ms\n",
      "202:\tlearn: 0.2361038\ttotal: 147ms\tremaining: 576ms\n",
      "203:\tlearn: 0.2349563\ttotal: 147ms\tremaining: 574ms\n",
      "204:\tlearn: 0.2337421\ttotal: 148ms\tremaining: 572ms\n",
      "205:\tlearn: 0.2324723\ttotal: 148ms\tremaining: 571ms\n",
      "206:\tlearn: 0.2313232\ttotal: 149ms\tremaining: 569ms\n",
      "207:\tlearn: 0.2301788\ttotal: 149ms\tremaining: 568ms\n",
      "208:\tlearn: 0.2291435\ttotal: 149ms\tremaining: 566ms\n",
      "209:\tlearn: 0.2279543\ttotal: 150ms\tremaining: 564ms\n",
      "210:\tlearn: 0.2270158\ttotal: 150ms\tremaining: 562ms\n",
      "211:\tlearn: 0.2258503\ttotal: 151ms\tremaining: 560ms\n",
      "212:\tlearn: 0.2246491\ttotal: 151ms\tremaining: 558ms\n",
      "213:\tlearn: 0.2237978\ttotal: 152ms\tremaining: 557ms\n",
      "214:\tlearn: 0.2225824\ttotal: 152ms\tremaining: 555ms\n",
      "215:\tlearn: 0.2217990\ttotal: 152ms\tremaining: 553ms\n",
      "216:\tlearn: 0.2206047\ttotal: 153ms\tremaining: 552ms\n",
      "217:\tlearn: 0.2197013\ttotal: 153ms\tremaining: 550ms\n",
      "218:\tlearn: 0.2186764\ttotal: 154ms\tremaining: 548ms\n",
      "219:\tlearn: 0.2177487\ttotal: 154ms\tremaining: 547ms\n",
      "220:\tlearn: 0.2167584\ttotal: 155ms\tremaining: 545ms\n",
      "221:\tlearn: 0.2158167\ttotal: 155ms\tremaining: 543ms\n",
      "222:\tlearn: 0.2150652\ttotal: 155ms\tremaining: 541ms\n",
      "223:\tlearn: 0.2139494\ttotal: 156ms\tremaining: 539ms\n",
      "224:\tlearn: 0.2132113\ttotal: 156ms\tremaining: 538ms\n",
      "225:\tlearn: 0.2123220\ttotal: 157ms\tremaining: 536ms\n",
      "226:\tlearn: 0.2115482\ttotal: 157ms\tremaining: 535ms\n",
      "227:\tlearn: 0.2105035\ttotal: 158ms\tremaining: 533ms\n",
      "228:\tlearn: 0.2094928\ttotal: 158ms\tremaining: 532ms\n",
      "229:\tlearn: 0.2085916\ttotal: 158ms\tremaining: 530ms\n",
      "230:\tlearn: 0.2076173\ttotal: 159ms\tremaining: 528ms\n",
      "231:\tlearn: 0.2063667\ttotal: 159ms\tremaining: 527ms\n",
      "232:\tlearn: 0.2055577\ttotal: 160ms\tremaining: 525ms\n",
      "233:\tlearn: 0.2046844\ttotal: 160ms\tremaining: 524ms\n",
      "234:\tlearn: 0.2039952\ttotal: 161ms\tremaining: 523ms\n",
      "235:\tlearn: 0.2029887\ttotal: 161ms\tremaining: 521ms\n",
      "236:\tlearn: 0.2021815\ttotal: 161ms\tremaining: 520ms\n",
      "237:\tlearn: 0.2011974\ttotal: 162ms\tremaining: 518ms\n",
      "238:\tlearn: 0.2003028\ttotal: 162ms\tremaining: 517ms\n",
      "239:\tlearn: 0.1995102\ttotal: 163ms\tremaining: 516ms\n",
      "240:\tlearn: 0.1986041\ttotal: 163ms\tremaining: 514ms\n",
      "241:\tlearn: 0.1977410\ttotal: 164ms\tremaining: 513ms\n",
      "242:\tlearn: 0.1971803\ttotal: 164ms\tremaining: 511ms\n",
      "243:\tlearn: 0.1963832\ttotal: 164ms\tremaining: 510ms\n",
      "244:\tlearn: 0.1954477\ttotal: 165ms\tremaining: 509ms\n",
      "245:\tlearn: 0.1945020\ttotal: 166ms\tremaining: 507ms\n",
      "246:\tlearn: 0.1935414\ttotal: 166ms\tremaining: 506ms\n",
      "247:\tlearn: 0.1929202\ttotal: 166ms\tremaining: 505ms\n",
      "248:\tlearn: 0.1920565\ttotal: 167ms\tremaining: 503ms\n",
      "249:\tlearn: 0.1911787\ttotal: 167ms\tremaining: 502ms\n",
      "250:\tlearn: 0.1902539\ttotal: 168ms\tremaining: 501ms\n",
      "251:\tlearn: 0.1894260\ttotal: 168ms\tremaining: 500ms\n",
      "252:\tlearn: 0.1886835\ttotal: 169ms\tremaining: 498ms\n",
      "253:\tlearn: 0.1881057\ttotal: 169ms\tremaining: 497ms\n",
      "254:\tlearn: 0.1871631\ttotal: 170ms\tremaining: 495ms\n",
      "255:\tlearn: 0.1867316\ttotal: 170ms\tremaining: 494ms\n",
      "256:\tlearn: 0.1859124\ttotal: 170ms\tremaining: 493ms\n",
      "257:\tlearn: 0.1850657\ttotal: 171ms\tremaining: 491ms\n",
      "258:\tlearn: 0.1841276\ttotal: 171ms\tremaining: 490ms\n",
      "259:\tlearn: 0.1831252\ttotal: 172ms\tremaining: 489ms\n",
      "260:\tlearn: 0.1825010\ttotal: 172ms\tremaining: 488ms\n",
      "261:\tlearn: 0.1819234\ttotal: 173ms\tremaining: 486ms\n",
      "262:\tlearn: 0.1810297\ttotal: 173ms\tremaining: 485ms\n",
      "263:\tlearn: 0.1802880\ttotal: 174ms\tremaining: 484ms\n",
      "264:\tlearn: 0.1796689\ttotal: 174ms\tremaining: 482ms\n",
      "265:\tlearn: 0.1790176\ttotal: 174ms\tremaining: 481ms\n",
      "266:\tlearn: 0.1782318\ttotal: 175ms\tremaining: 480ms\n",
      "267:\tlearn: 0.1773758\ttotal: 175ms\tremaining: 479ms\n",
      "268:\tlearn: 0.1766018\ttotal: 176ms\tremaining: 477ms\n",
      "269:\tlearn: 0.1757966\ttotal: 176ms\tremaining: 476ms\n",
      "270:\tlearn: 0.1750034\ttotal: 176ms\tremaining: 474ms\n",
      "271:\tlearn: 0.1741493\ttotal: 177ms\tremaining: 473ms\n",
      "272:\tlearn: 0.1734329\ttotal: 177ms\tremaining: 472ms\n",
      "273:\tlearn: 0.1728764\ttotal: 177ms\tremaining: 470ms\n",
      "274:\tlearn: 0.1722555\ttotal: 178ms\tremaining: 469ms\n",
      "275:\tlearn: 0.1716955\ttotal: 178ms\tremaining: 467ms\n",
      "276:\tlearn: 0.1710062\ttotal: 179ms\tremaining: 466ms\n",
      "277:\tlearn: 0.1702054\ttotal: 179ms\tremaining: 465ms\n",
      "278:\tlearn: 0.1696944\ttotal: 180ms\tremaining: 464ms\n",
      "279:\tlearn: 0.1691639\ttotal: 180ms\tremaining: 463ms\n",
      "280:\tlearn: 0.1686596\ttotal: 180ms\tremaining: 461ms\n",
      "281:\tlearn: 0.1678582\ttotal: 181ms\tremaining: 460ms\n",
      "282:\tlearn: 0.1670491\ttotal: 181ms\tremaining: 460ms\n",
      "283:\tlearn: 0.1664948\ttotal: 182ms\tremaining: 458ms\n",
      "284:\tlearn: 0.1657323\ttotal: 182ms\tremaining: 457ms\n",
      "285:\tlearn: 0.1652169\ttotal: 182ms\tremaining: 456ms\n",
      "286:\tlearn: 0.1645556\ttotal: 183ms\tremaining: 454ms\n",
      "287:\tlearn: 0.1640497\ttotal: 183ms\tremaining: 453ms\n",
      "288:\tlearn: 0.1634113\ttotal: 184ms\tremaining: 452ms\n",
      "289:\tlearn: 0.1628081\ttotal: 184ms\tremaining: 451ms\n",
      "290:\tlearn: 0.1623835\ttotal: 184ms\tremaining: 449ms\n"
     ]
    },
    {
     "name": "stdout",
     "output_type": "stream",
     "text": [
      "291:\tlearn: 0.1616523\ttotal: 185ms\tremaining: 449ms\n",
      "292:\tlearn: 0.1611989\ttotal: 186ms\tremaining: 448ms\n",
      "293:\tlearn: 0.1604450\ttotal: 186ms\tremaining: 447ms\n",
      "294:\tlearn: 0.1600881\ttotal: 186ms\tremaining: 446ms\n",
      "295:\tlearn: 0.1595301\ttotal: 187ms\tremaining: 444ms\n",
      "296:\tlearn: 0.1589157\ttotal: 187ms\tremaining: 443ms\n",
      "297:\tlearn: 0.1584956\ttotal: 188ms\tremaining: 443ms\n",
      "298:\tlearn: 0.1578023\ttotal: 188ms\tremaining: 442ms\n",
      "299:\tlearn: 0.1571362\ttotal: 189ms\tremaining: 440ms\n",
      "300:\tlearn: 0.1565671\ttotal: 189ms\tremaining: 439ms\n",
      "301:\tlearn: 0.1558843\ttotal: 189ms\tremaining: 438ms\n",
      "302:\tlearn: 0.1553521\ttotal: 190ms\tremaining: 436ms\n",
      "303:\tlearn: 0.1549319\ttotal: 190ms\tremaining: 435ms\n",
      "304:\tlearn: 0.1543895\ttotal: 191ms\tremaining: 435ms\n",
      "305:\tlearn: 0.1540085\ttotal: 191ms\tremaining: 434ms\n",
      "306:\tlearn: 0.1532978\ttotal: 192ms\tremaining: 433ms\n",
      "307:\tlearn: 0.1529242\ttotal: 192ms\tremaining: 432ms\n",
      "308:\tlearn: 0.1525621\ttotal: 193ms\tremaining: 431ms\n",
      "309:\tlearn: 0.1519616\ttotal: 193ms\tremaining: 430ms\n",
      "310:\tlearn: 0.1513449\ttotal: 194ms\tremaining: 429ms\n",
      "311:\tlearn: 0.1508707\ttotal: 194ms\tremaining: 428ms\n",
      "312:\tlearn: 0.1504414\ttotal: 195ms\tremaining: 427ms\n",
      "313:\tlearn: 0.1499425\ttotal: 195ms\tremaining: 426ms\n",
      "314:\tlearn: 0.1493619\ttotal: 195ms\tremaining: 425ms\n",
      "315:\tlearn: 0.1487420\ttotal: 196ms\tremaining: 424ms\n",
      "316:\tlearn: 0.1481771\ttotal: 196ms\tremaining: 423ms\n",
      "317:\tlearn: 0.1476348\ttotal: 196ms\tremaining: 421ms\n",
      "318:\tlearn: 0.1471513\ttotal: 197ms\tremaining: 420ms\n",
      "319:\tlearn: 0.1466256\ttotal: 197ms\tremaining: 420ms\n",
      "320:\tlearn: 0.1459718\ttotal: 198ms\tremaining: 419ms\n",
      "321:\tlearn: 0.1454334\ttotal: 198ms\tremaining: 417ms\n",
      "322:\tlearn: 0.1449734\ttotal: 199ms\tremaining: 416ms\n",
      "323:\tlearn: 0.1446818\ttotal: 199ms\tremaining: 415ms\n",
      "324:\tlearn: 0.1442043\ttotal: 199ms\tremaining: 414ms\n",
      "325:\tlearn: 0.1436912\ttotal: 200ms\tremaining: 413ms\n",
      "326:\tlearn: 0.1430978\ttotal: 200ms\tremaining: 412ms\n",
      "327:\tlearn: 0.1428678\ttotal: 201ms\tremaining: 411ms\n",
      "328:\tlearn: 0.1425646\ttotal: 201ms\tremaining: 410ms\n",
      "329:\tlearn: 0.1421947\ttotal: 202ms\tremaining: 409ms\n",
      "330:\tlearn: 0.1419717\ttotal: 202ms\tremaining: 408ms\n",
      "331:\tlearn: 0.1416800\ttotal: 202ms\tremaining: 407ms\n",
      "332:\tlearn: 0.1413952\ttotal: 203ms\tremaining: 406ms\n",
      "333:\tlearn: 0.1408101\ttotal: 203ms\tremaining: 405ms\n",
      "334:\tlearn: 0.1405300\ttotal: 203ms\tremaining: 404ms\n",
      "335:\tlearn: 0.1400026\ttotal: 204ms\tremaining: 403ms\n",
      "336:\tlearn: 0.1394793\ttotal: 204ms\tremaining: 402ms\n",
      "337:\tlearn: 0.1391123\ttotal: 205ms\tremaining: 401ms\n",
      "338:\tlearn: 0.1386352\ttotal: 205ms\tremaining: 400ms\n",
      "339:\tlearn: 0.1380687\ttotal: 206ms\tremaining: 399ms\n",
      "340:\tlearn: 0.1375900\ttotal: 206ms\tremaining: 398ms\n",
      "341:\tlearn: 0.1370887\ttotal: 206ms\tremaining: 397ms\n",
      "342:\tlearn: 0.1366115\ttotal: 207ms\tremaining: 396ms\n",
      "343:\tlearn: 0.1363520\ttotal: 207ms\tremaining: 395ms\n",
      "344:\tlearn: 0.1357521\ttotal: 208ms\tremaining: 394ms\n",
      "345:\tlearn: 0.1355001\ttotal: 208ms\tremaining: 394ms\n",
      "346:\tlearn: 0.1353237\ttotal: 209ms\tremaining: 393ms\n",
      "347:\tlearn: 0.1351498\ttotal: 209ms\tremaining: 392ms\n",
      "348:\tlearn: 0.1350011\ttotal: 209ms\tremaining: 391ms\n",
      "349:\tlearn: 0.1348540\ttotal: 210ms\tremaining: 390ms\n",
      "350:\tlearn: 0.1342967\ttotal: 210ms\tremaining: 389ms\n",
      "351:\tlearn: 0.1339671\ttotal: 211ms\tremaining: 388ms\n",
      "352:\tlearn: 0.1336959\ttotal: 211ms\tremaining: 387ms\n",
      "353:\tlearn: 0.1335310\ttotal: 211ms\tremaining: 386ms\n",
      "354:\tlearn: 0.1333888\ttotal: 212ms\tremaining: 385ms\n",
      "355:\tlearn: 0.1329851\ttotal: 212ms\tremaining: 384ms\n",
      "356:\tlearn: 0.1324346\ttotal: 213ms\tremaining: 383ms\n",
      "357:\tlearn: 0.1322759\ttotal: 213ms\tremaining: 383ms\n",
      "358:\tlearn: 0.1320192\ttotal: 214ms\tremaining: 382ms\n",
      "359:\tlearn: 0.1311976\ttotal: 214ms\tremaining: 381ms\n",
      "360:\tlearn: 0.1306696\ttotal: 215ms\tremaining: 380ms\n",
      "361:\tlearn: 0.1305338\ttotal: 215ms\tremaining: 379ms\n",
      "362:\tlearn: 0.1303996\ttotal: 215ms\tremaining: 378ms\n",
      "363:\tlearn: 0.1298840\ttotal: 216ms\tremaining: 377ms\n",
      "364:\tlearn: 0.1291773\ttotal: 216ms\tremaining: 376ms\n",
      "365:\tlearn: 0.1284774\ttotal: 217ms\tremaining: 375ms\n",
      "366:\tlearn: 0.1282358\ttotal: 217ms\tremaining: 374ms\n",
      "367:\tlearn: 0.1278663\ttotal: 218ms\tremaining: 374ms\n",
      "368:\tlearn: 0.1271836\ttotal: 218ms\tremaining: 373ms\n",
      "369:\tlearn: 0.1267704\ttotal: 219ms\tremaining: 372ms\n",
      "370:\tlearn: 0.1264151\ttotal: 219ms\tremaining: 371ms\n",
      "371:\tlearn: 0.1260795\ttotal: 220ms\tremaining: 371ms\n",
      "372:\tlearn: 0.1256930\ttotal: 220ms\tremaining: 370ms\n",
      "373:\tlearn: 0.1250511\ttotal: 220ms\tremaining: 369ms\n",
      "374:\tlearn: 0.1243301\ttotal: 221ms\tremaining: 368ms\n",
      "375:\tlearn: 0.1240913\ttotal: 221ms\tremaining: 367ms\n",
      "376:\tlearn: 0.1237631\ttotal: 222ms\tremaining: 366ms\n",
      "377:\tlearn: 0.1231969\ttotal: 222ms\tremaining: 365ms\n",
      "378:\tlearn: 0.1225529\ttotal: 222ms\tremaining: 364ms\n",
      "379:\tlearn: 0.1224233\ttotal: 223ms\tremaining: 364ms\n",
      "380:\tlearn: 0.1223047\ttotal: 223ms\tremaining: 363ms\n",
      "381:\tlearn: 0.1221875\ttotal: 224ms\tremaining: 362ms\n",
      "382:\tlearn: 0.1218055\ttotal: 224ms\tremaining: 361ms\n",
      "383:\tlearn: 0.1211113\ttotal: 225ms\tremaining: 361ms\n",
      "384:\tlearn: 0.1209966\ttotal: 225ms\tremaining: 360ms\n",
      "385:\tlearn: 0.1203155\ttotal: 226ms\tremaining: 359ms\n",
      "386:\tlearn: 0.1198703\ttotal: 226ms\tremaining: 358ms\n",
      "387:\tlearn: 0.1195444\ttotal: 226ms\tremaining: 357ms\n",
      "388:\tlearn: 0.1194345\ttotal: 227ms\tremaining: 357ms\n",
      "389:\tlearn: 0.1188058\ttotal: 227ms\tremaining: 356ms\n",
      "390:\tlearn: 0.1181466\ttotal: 228ms\tremaining: 355ms\n",
      "391:\tlearn: 0.1178642\ttotal: 228ms\tremaining: 354ms\n",
      "392:\tlearn: 0.1175467\ttotal: 229ms\tremaining: 353ms\n",
      "393:\tlearn: 0.1169307\ttotal: 229ms\tremaining: 352ms\n",
      "394:\tlearn: 0.1164590\ttotal: 230ms\tremaining: 352ms\n",
      "395:\tlearn: 0.1158879\ttotal: 230ms\tremaining: 351ms\n",
      "396:\tlearn: 0.1152592\ttotal: 230ms\tremaining: 350ms\n",
      "397:\tlearn: 0.1149502\ttotal: 231ms\tremaining: 349ms\n",
      "398:\tlearn: 0.1148314\ttotal: 231ms\tremaining: 348ms\n",
      "399:\tlearn: 0.1145298\ttotal: 231ms\tremaining: 347ms\n",
      "400:\tlearn: 0.1139133\ttotal: 232ms\tremaining: 346ms\n",
      "401:\tlearn: 0.1133080\ttotal: 232ms\tremaining: 346ms\n",
      "402:\tlearn: 0.1132003\ttotal: 233ms\tremaining: 345ms\n",
      "403:\tlearn: 0.1126199\ttotal: 233ms\tremaining: 344ms\n",
      "404:\tlearn: 0.1123253\ttotal: 234ms\tremaining: 343ms\n",
      "405:\tlearn: 0.1122135\ttotal: 234ms\tremaining: 342ms\n",
      "406:\tlearn: 0.1115654\ttotal: 234ms\tremaining: 341ms\n",
      "407:\tlearn: 0.1114727\ttotal: 235ms\tremaining: 340ms\n",
      "408:\tlearn: 0.1113813\ttotal: 235ms\tremaining: 340ms\n",
      "409:\tlearn: 0.1112912\ttotal: 236ms\tremaining: 339ms\n",
      "410:\tlearn: 0.1107619\ttotal: 236ms\tremaining: 338ms\n",
      "411:\tlearn: 0.1101391\ttotal: 236ms\tremaining: 337ms\n",
      "412:\tlearn: 0.1100516\ttotal: 237ms\tremaining: 337ms\n",
      "413:\tlearn: 0.1097972\ttotal: 237ms\tremaining: 336ms\n",
      "414:\tlearn: 0.1095487\ttotal: 238ms\tremaining: 335ms\n",
      "415:\tlearn: 0.1090126\ttotal: 238ms\tremaining: 334ms\n",
      "416:\tlearn: 0.1084127\ttotal: 238ms\tremaining: 333ms\n",
      "417:\tlearn: 0.1079496\ttotal: 239ms\tremaining: 332ms\n",
      "418:\tlearn: 0.1074042\ttotal: 239ms\tremaining: 332ms\n",
      "419:\tlearn: 0.1071253\ttotal: 240ms\tremaining: 331ms\n",
      "420:\tlearn: 0.1070308\ttotal: 240ms\tremaining: 330ms\n",
      "421:\tlearn: 0.1064643\ttotal: 241ms\tremaining: 330ms\n",
      "422:\tlearn: 0.1061910\ttotal: 241ms\tremaining: 329ms\n",
      "423:\tlearn: 0.1056785\ttotal: 241ms\tremaining: 328ms\n",
      "424:\tlearn: 0.1055976\ttotal: 242ms\tremaining: 327ms\n",
      "425:\tlearn: 0.1055064\ttotal: 242ms\tremaining: 326ms\n",
      "426:\tlearn: 0.1049611\ttotal: 242ms\tremaining: 325ms\n",
      "427:\tlearn: 0.1048823\ttotal: 243ms\tremaining: 325ms\n",
      "428:\tlearn: 0.1048046\ttotal: 243ms\tremaining: 324ms\n",
      "429:\tlearn: 0.1043786\ttotal: 243ms\tremaining: 323ms\n",
      "430:\tlearn: 0.1038565\ttotal: 244ms\tremaining: 322ms\n",
      "431:\tlearn: 0.1037813\ttotal: 245ms\tremaining: 321ms\n",
      "432:\tlearn: 0.1037071\ttotal: 246ms\tremaining: 322ms\n",
      "433:\tlearn: 0.1032198\ttotal: 246ms\tremaining: 321ms\n",
      "434:\tlearn: 0.1029561\ttotal: 246ms\tremaining: 320ms\n",
      "435:\tlearn: 0.1024559\ttotal: 246ms\tremaining: 319ms\n",
      "436:\tlearn: 0.1022002\ttotal: 247ms\tremaining: 318ms\n",
      "437:\tlearn: 0.1017000\ttotal: 247ms\tremaining: 317ms\n",
      "438:\tlearn: 0.1016287\ttotal: 247ms\tremaining: 316ms\n",
      "439:\tlearn: 0.1015583\ttotal: 248ms\tremaining: 315ms\n",
      "440:\tlearn: 0.1014890\ttotal: 248ms\tremaining: 314ms\n",
      "441:\tlearn: 0.1012687\ttotal: 248ms\tremaining: 313ms\n",
      "442:\tlearn: 0.1007827\ttotal: 248ms\tremaining: 312ms\n",
      "443:\tlearn: 0.1007148\ttotal: 249ms\tremaining: 311ms\n",
      "444:\tlearn: 0.1006479\ttotal: 249ms\tremaining: 311ms\n",
      "445:\tlearn: 0.1005820\ttotal: 249ms\tremaining: 310ms\n",
      "446:\tlearn: 0.1005170\ttotal: 250ms\tremaining: 309ms\n",
      "447:\tlearn: 0.0999798\ttotal: 250ms\tremaining: 308ms\n",
      "448:\tlearn: 0.0999159\ttotal: 250ms\tremaining: 307ms\n",
      "449:\tlearn: 0.0996852\ttotal: 254ms\tremaining: 311ms\n",
      "450:\tlearn: 0.0991634\ttotal: 255ms\tremaining: 310ms\n",
      "451:\tlearn: 0.0991012\ttotal: 255ms\tremaining: 309ms\n",
      "452:\tlearn: 0.0986963\ttotal: 256ms\tremaining: 309ms\n",
      "453:\tlearn: 0.0982098\ttotal: 256ms\tremaining: 308ms\n",
      "454:\tlearn: 0.0977426\ttotal: 257ms\tremaining: 308ms\n",
      "455:\tlearn: 0.0972688\ttotal: 258ms\tremaining: 307ms\n",
      "456:\tlearn: 0.0968045\ttotal: 258ms\tremaining: 307ms\n",
      "457:\tlearn: 0.0963495\ttotal: 259ms\tremaining: 306ms\n",
      "458:\tlearn: 0.0958621\ttotal: 259ms\tremaining: 305ms\n",
      "459:\tlearn: 0.0953223\ttotal: 260ms\tremaining: 305ms\n",
      "460:\tlearn: 0.0948481\ttotal: 260ms\tremaining: 304ms\n",
      "461:\tlearn: 0.0943201\ttotal: 261ms\tremaining: 303ms\n",
      "462:\tlearn: 0.0941146\ttotal: 261ms\tremaining: 303ms\n",
      "463:\tlearn: 0.0939790\ttotal: 262ms\tremaining: 302ms\n",
      "464:\tlearn: 0.0935452\ttotal: 262ms\tremaining: 302ms\n",
      "465:\tlearn: 0.0931201\ttotal: 263ms\tremaining: 301ms\n",
      "466:\tlearn: 0.0926657\ttotal: 263ms\tremaining: 300ms\n",
      "467:\tlearn: 0.0921549\ttotal: 263ms\tremaining: 299ms\n",
      "468:\tlearn: 0.0916539\ttotal: 264ms\tremaining: 299ms\n",
      "469:\tlearn: 0.0916014\ttotal: 264ms\tremaining: 298ms\n",
      "470:\tlearn: 0.0915495\ttotal: 265ms\tremaining: 297ms\n",
      "471:\tlearn: 0.0910991\ttotal: 265ms\tremaining: 296ms\n",
      "472:\tlearn: 0.0906621\ttotal: 265ms\tremaining: 295ms\n",
      "473:\tlearn: 0.0901755\ttotal: 266ms\tremaining: 295ms\n",
      "474:\tlearn: 0.0901246\ttotal: 266ms\tremaining: 294ms\n",
      "475:\tlearn: 0.0900743\ttotal: 266ms\tremaining: 293ms\n",
      "476:\tlearn: 0.0896400\ttotal: 267ms\tremaining: 292ms\n",
      "477:\tlearn: 0.0893121\ttotal: 267ms\tremaining: 291ms\n",
      "478:\tlearn: 0.0888887\ttotal: 267ms\tremaining: 291ms\n",
      "479:\tlearn: 0.0885793\ttotal: 268ms\tremaining: 290ms\n",
      "480:\tlearn: 0.0881134\ttotal: 268ms\tremaining: 289ms\n",
      "481:\tlearn: 0.0877778\ttotal: 269ms\tremaining: 289ms\n",
      "482:\tlearn: 0.0873975\ttotal: 269ms\tremaining: 288ms\n",
      "483:\tlearn: 0.0870735\ttotal: 270ms\tremaining: 288ms\n",
      "484:\tlearn: 0.0865149\ttotal: 270ms\tremaining: 287ms\n",
      "485:\tlearn: 0.0860728\ttotal: 271ms\tremaining: 287ms\n",
      "486:\tlearn: 0.0857847\ttotal: 271ms\tremaining: 286ms\n",
      "487:\tlearn: 0.0854168\ttotal: 272ms\tremaining: 285ms\n",
      "488:\tlearn: 0.0850652\ttotal: 273ms\tremaining: 285ms\n",
      "489:\tlearn: 0.0846702\ttotal: 273ms\tremaining: 284ms\n",
      "490:\tlearn: 0.0843953\ttotal: 274ms\tremaining: 284ms\n",
      "491:\tlearn: 0.0841196\ttotal: 274ms\tremaining: 283ms\n",
      "492:\tlearn: 0.0837054\ttotal: 275ms\tremaining: 283ms\n",
      "493:\tlearn: 0.0833004\ttotal: 275ms\tremaining: 282ms\n",
      "494:\tlearn: 0.0830043\ttotal: 276ms\tremaining: 281ms\n",
      "495:\tlearn: 0.0826123\ttotal: 276ms\tremaining: 281ms\n",
      "496:\tlearn: 0.0823502\ttotal: 277ms\tremaining: 280ms\n",
      "497:\tlearn: 0.0819681\ttotal: 277ms\tremaining: 279ms\n",
      "498:\tlearn: 0.0816885\ttotal: 278ms\tremaining: 279ms\n",
      "499:\tlearn: 0.0813085\ttotal: 278ms\tremaining: 278ms\n",
      "500:\tlearn: 0.0810898\ttotal: 278ms\tremaining: 277ms\n",
      "501:\tlearn: 0.0807245\ttotal: 279ms\tremaining: 277ms\n",
      "502:\tlearn: 0.0804549\ttotal: 279ms\tremaining: 276ms\n",
      "503:\tlearn: 0.0800429\ttotal: 280ms\tremaining: 275ms\n",
      "504:\tlearn: 0.0798314\ttotal: 280ms\tremaining: 275ms\n",
      "505:\tlearn: 0.0796707\ttotal: 281ms\tremaining: 274ms\n"
     ]
    },
    {
     "name": "stdout",
     "output_type": "stream",
     "text": [
      "506:\tlearn: 0.0793182\ttotal: 281ms\tremaining: 274ms\n",
      "507:\tlearn: 0.0789152\ttotal: 282ms\tremaining: 273ms\n",
      "508:\tlearn: 0.0787482\ttotal: 283ms\tremaining: 273ms\n",
      "509:\tlearn: 0.0785771\ttotal: 283ms\tremaining: 272ms\n",
      "510:\tlearn: 0.0783398\ttotal: 284ms\tremaining: 271ms\n",
      "511:\tlearn: 0.0779452\ttotal: 284ms\tremaining: 271ms\n",
      "512:\tlearn: 0.0776854\ttotal: 285ms\tremaining: 270ms\n",
      "513:\tlearn: 0.0773472\ttotal: 285ms\tremaining: 270ms\n",
      "514:\tlearn: 0.0771935\ttotal: 286ms\tremaining: 269ms\n",
      "515:\tlearn: 0.0768068\ttotal: 286ms\tremaining: 268ms\n",
      "516:\tlearn: 0.0766467\ttotal: 286ms\tremaining: 268ms\n",
      "517:\tlearn: 0.0763977\ttotal: 287ms\tremaining: 267ms\n",
      "518:\tlearn: 0.0760668\ttotal: 287ms\tremaining: 266ms\n",
      "519:\tlearn: 0.0759067\ttotal: 288ms\tremaining: 266ms\n",
      "520:\tlearn: 0.0755825\ttotal: 288ms\tremaining: 265ms\n",
      "521:\tlearn: 0.0754368\ttotal: 289ms\tremaining: 264ms\n",
      "522:\tlearn: 0.0750601\ttotal: 289ms\tremaining: 264ms\n",
      "523:\tlearn: 0.0749051\ttotal: 290ms\tremaining: 263ms\n",
      "524:\tlearn: 0.0746869\ttotal: 290ms\tremaining: 262ms\n",
      "525:\tlearn: 0.0743182\ttotal: 290ms\tremaining: 262ms\n",
      "526:\tlearn: 0.0741782\ttotal: 291ms\tremaining: 261ms\n",
      "527:\tlearn: 0.0738625\ttotal: 291ms\tremaining: 260ms\n",
      "528:\tlearn: 0.0737223\ttotal: 292ms\tremaining: 260ms\n",
      "529:\tlearn: 0.0733614\ttotal: 292ms\tremaining: 259ms\n",
      "530:\tlearn: 0.0732257\ttotal: 292ms\tremaining: 258ms\n",
      "531:\tlearn: 0.0730897\ttotal: 293ms\tremaining: 258ms\n",
      "532:\tlearn: 0.0727354\ttotal: 293ms\tremaining: 257ms\n",
      "533:\tlearn: 0.0725872\ttotal: 294ms\tremaining: 256ms\n",
      "534:\tlearn: 0.0722798\ttotal: 294ms\tremaining: 256ms\n",
      "535:\tlearn: 0.0721471\ttotal: 294ms\tremaining: 255ms\n",
      "536:\tlearn: 0.0718003\ttotal: 295ms\tremaining: 254ms\n",
      "537:\tlearn: 0.0716565\ttotal: 295ms\tremaining: 254ms\n",
      "538:\tlearn: 0.0713602\ttotal: 296ms\tremaining: 253ms\n",
      "539:\tlearn: 0.0712350\ttotal: 296ms\tremaining: 252ms\n",
      "540:\tlearn: 0.0708962\ttotal: 297ms\tremaining: 252ms\n",
      "541:\tlearn: 0.0707733\ttotal: 297ms\tremaining: 251ms\n",
      "542:\tlearn: 0.0704702\ttotal: 297ms\tremaining: 250ms\n",
      "543:\tlearn: 0.0703355\ttotal: 298ms\tremaining: 250ms\n",
      "544:\tlearn: 0.0700041\ttotal: 298ms\tremaining: 249ms\n",
      "545:\tlearn: 0.0698769\ttotal: 299ms\tremaining: 248ms\n",
      "546:\tlearn: 0.0697597\ttotal: 299ms\tremaining: 248ms\n",
      "547:\tlearn: 0.0694344\ttotal: 300ms\tremaining: 247ms\n",
      "548:\tlearn: 0.0693194\ttotal: 300ms\tremaining: 247ms\n",
      "549:\tlearn: 0.0690251\ttotal: 301ms\tremaining: 246ms\n",
      "550:\tlearn: 0.0689020\ttotal: 301ms\tremaining: 245ms\n",
      "551:\tlearn: 0.0685835\ttotal: 302ms\tremaining: 245ms\n",
      "552:\tlearn: 0.0684634\ttotal: 302ms\tremaining: 244ms\n",
      "553:\tlearn: 0.0681833\ttotal: 302ms\tremaining: 243ms\n",
      "554:\tlearn: 0.0680660\ttotal: 303ms\tremaining: 243ms\n",
      "555:\tlearn: 0.0679407\ttotal: 303ms\tremaining: 242ms\n",
      "556:\tlearn: 0.0675895\ttotal: 304ms\tremaining: 241ms\n",
      "557:\tlearn: 0.0674708\ttotal: 304ms\tremaining: 241ms\n",
      "558:\tlearn: 0.0673483\ttotal: 304ms\tremaining: 240ms\n",
      "559:\tlearn: 0.0672339\ttotal: 305ms\tremaining: 239ms\n",
      "560:\tlearn: 0.0670078\ttotal: 305ms\tremaining: 239ms\n",
      "561:\tlearn: 0.0667863\ttotal: 306ms\tremaining: 238ms\n",
      "562:\tlearn: 0.0664806\ttotal: 306ms\tremaining: 238ms\n",
      "563:\tlearn: 0.0663606\ttotal: 307ms\tremaining: 237ms\n",
      "564:\tlearn: 0.0662569\ttotal: 307ms\tremaining: 237ms\n",
      "565:\tlearn: 0.0660407\ttotal: 308ms\tremaining: 236ms\n",
      "566:\tlearn: 0.0657411\ttotal: 308ms\tremaining: 235ms\n",
      "567:\tlearn: 0.0656278\ttotal: 308ms\tremaining: 235ms\n",
      "568:\tlearn: 0.0655205\ttotal: 309ms\tremaining: 234ms\n",
      "569:\tlearn: 0.0654030\ttotal: 309ms\tremaining: 233ms\n",
      "570:\tlearn: 0.0651922\ttotal: 309ms\tremaining: 232ms\n",
      "571:\tlearn: 0.0648600\ttotal: 310ms\tremaining: 232ms\n",
      "572:\tlearn: 0.0647257\ttotal: 310ms\tremaining: 231ms\n",
      "573:\tlearn: 0.0646106\ttotal: 311ms\tremaining: 231ms\n",
      "574:\tlearn: 0.0644974\ttotal: 311ms\tremaining: 230ms\n",
      "575:\tlearn: 0.0643910\ttotal: 312ms\tremaining: 229ms\n",
      "576:\tlearn: 0.0642796\ttotal: 312ms\tremaining: 229ms\n",
      "577:\tlearn: 0.0639041\ttotal: 312ms\tremaining: 228ms\n",
      "578:\tlearn: 0.0636552\ttotal: 312ms\tremaining: 227ms\n",
      "579:\tlearn: 0.0634123\ttotal: 313ms\tremaining: 227ms\n",
      "580:\tlearn: 0.0631262\ttotal: 313ms\tremaining: 226ms\n",
      "581:\tlearn: 0.0629988\ttotal: 314ms\tremaining: 225ms\n",
      "582:\tlearn: 0.0628632\ttotal: 314ms\tremaining: 225ms\n",
      "583:\tlearn: 0.0624993\ttotal: 315ms\tremaining: 224ms\n",
      "584:\tlearn: 0.0622755\ttotal: 315ms\tremaining: 223ms\n",
      "585:\tlearn: 0.0620304\ttotal: 315ms\tremaining: 223ms\n",
      "586:\tlearn: 0.0618387\ttotal: 316ms\tremaining: 222ms\n",
      "587:\tlearn: 0.0615620\ttotal: 316ms\tremaining: 222ms\n",
      "588:\tlearn: 0.0614417\ttotal: 317ms\tremaining: 221ms\n",
      "589:\tlearn: 0.0611960\ttotal: 317ms\tremaining: 220ms\n",
      "590:\tlearn: 0.0609603\ttotal: 318ms\tremaining: 220ms\n",
      "591:\tlearn: 0.0608585\ttotal: 318ms\tremaining: 219ms\n",
      "592:\tlearn: 0.0605528\ttotal: 318ms\tremaining: 218ms\n",
      "593:\tlearn: 0.0604363\ttotal: 319ms\tremaining: 218ms\n",
      "594:\tlearn: 0.0602534\ttotal: 319ms\tremaining: 217ms\n",
      "595:\tlearn: 0.0599882\ttotal: 319ms\tremaining: 217ms\n",
      "596:\tlearn: 0.0597527\ttotal: 320ms\tremaining: 216ms\n",
      "597:\tlearn: 0.0596399\ttotal: 320ms\tremaining: 215ms\n",
      "598:\tlearn: 0.0594620\ttotal: 321ms\tremaining: 215ms\n",
      "599:\tlearn: 0.0591675\ttotal: 322ms\tremaining: 214ms\n",
      "600:\tlearn: 0.0589395\ttotal: 322ms\tremaining: 214ms\n",
      "601:\tlearn: 0.0587239\ttotal: 323ms\tremaining: 213ms\n",
      "602:\tlearn: 0.0584517\ttotal: 323ms\tremaining: 213ms\n",
      "603:\tlearn: 0.0582807\ttotal: 323ms\tremaining: 212ms\n",
      "604:\tlearn: 0.0579962\ttotal: 324ms\tremaining: 212ms\n",
      "605:\tlearn: 0.0577855\ttotal: 324ms\tremaining: 211ms\n",
      "606:\tlearn: 0.0575463\ttotal: 325ms\tremaining: 210ms\n",
      "607:\tlearn: 0.0573427\ttotal: 325ms\tremaining: 210ms\n",
      "608:\tlearn: 0.0571726\ttotal: 326ms\tremaining: 209ms\n",
      "609:\tlearn: 0.0570073\ttotal: 326ms\tremaining: 208ms\n",
      "610:\tlearn: 0.0568230\ttotal: 327ms\tremaining: 208ms\n",
      "611:\tlearn: 0.0567177\ttotal: 327ms\tremaining: 207ms\n",
      "612:\tlearn: 0.0566141\ttotal: 327ms\tremaining: 207ms\n",
      "613:\tlearn: 0.0564148\ttotal: 328ms\tremaining: 206ms\n",
      "614:\tlearn: 0.0562537\ttotal: 328ms\tremaining: 205ms\n",
      "615:\tlearn: 0.0560573\ttotal: 329ms\tremaining: 205ms\n",
      "616:\tlearn: 0.0558941\ttotal: 329ms\tremaining: 204ms\n",
      "617:\tlearn: 0.0557403\ttotal: 329ms\tremaining: 204ms\n",
      "618:\tlearn: 0.0554999\ttotal: 330ms\tremaining: 203ms\n",
      "619:\tlearn: 0.0553055\ttotal: 330ms\tremaining: 202ms\n",
      "620:\tlearn: 0.0551541\ttotal: 330ms\tremaining: 202ms\n",
      "621:\tlearn: 0.0549819\ttotal: 331ms\tremaining: 201ms\n",
      "622:\tlearn: 0.0548797\ttotal: 331ms\tremaining: 201ms\n",
      "623:\tlearn: 0.0548233\ttotal: 332ms\tremaining: 200ms\n",
      "624:\tlearn: 0.0546341\ttotal: 333ms\tremaining: 200ms\n",
      "625:\tlearn: 0.0545342\ttotal: 333ms\tremaining: 199ms\n",
      "626:\tlearn: 0.0544360\ttotal: 333ms\tremaining: 198ms\n",
      "627:\tlearn: 0.0542285\ttotal: 334ms\tremaining: 198ms\n",
      "628:\tlearn: 0.0539237\ttotal: 334ms\tremaining: 197ms\n",
      "629:\tlearn: 0.0537405\ttotal: 335ms\tremaining: 197ms\n",
      "630:\tlearn: 0.0534443\ttotal: 335ms\tremaining: 196ms\n",
      "631:\tlearn: 0.0532661\ttotal: 336ms\tremaining: 195ms\n",
      "632:\tlearn: 0.0531138\ttotal: 336ms\tremaining: 195ms\n",
      "633:\tlearn: 0.0529883\ttotal: 337ms\tremaining: 194ms\n",
      "634:\tlearn: 0.0528212\ttotal: 337ms\tremaining: 194ms\n",
      "635:\tlearn: 0.0525933\ttotal: 338ms\tremaining: 193ms\n",
      "636:\tlearn: 0.0524836\ttotal: 338ms\tremaining: 193ms\n",
      "637:\tlearn: 0.0522758\ttotal: 338ms\tremaining: 192ms\n",
      "638:\tlearn: 0.0521684\ttotal: 339ms\tremaining: 191ms\n",
      "639:\tlearn: 0.0520307\ttotal: 339ms\tremaining: 191ms\n",
      "640:\tlearn: 0.0519147\ttotal: 340ms\tremaining: 191ms\n",
      "641:\tlearn: 0.0518347\ttotal: 341ms\tremaining: 190ms\n",
      "642:\tlearn: 0.0516521\ttotal: 341ms\tremaining: 189ms\n",
      "643:\tlearn: 0.0514734\ttotal: 341ms\tremaining: 189ms\n",
      "644:\tlearn: 0.0512985\ttotal: 342ms\tremaining: 188ms\n",
      "645:\tlearn: 0.0511273\ttotal: 342ms\tremaining: 187ms\n",
      "646:\tlearn: 0.0508492\ttotal: 343ms\tremaining: 187ms\n",
      "647:\tlearn: 0.0507715\ttotal: 343ms\tremaining: 186ms\n",
      "648:\tlearn: 0.0505965\ttotal: 343ms\tremaining: 186ms\n",
      "649:\tlearn: 0.0503270\ttotal: 344ms\tremaining: 185ms\n",
      "650:\tlearn: 0.0501263\ttotal: 344ms\tremaining: 185ms\n",
      "651:\tlearn: 0.0500506\ttotal: 345ms\tremaining: 184ms\n",
      "652:\tlearn: 0.0499642\ttotal: 345ms\tremaining: 184ms\n",
      "653:\tlearn: 0.0497683\ttotal: 346ms\tremaining: 183ms\n",
      "654:\tlearn: 0.0496687\ttotal: 347ms\tremaining: 183ms\n",
      "655:\tlearn: 0.0495067\ttotal: 347ms\tremaining: 182ms\n",
      "656:\tlearn: 0.0493481\ttotal: 348ms\tremaining: 181ms\n",
      "657:\tlearn: 0.0492751\ttotal: 348ms\tremaining: 181ms\n",
      "658:\tlearn: 0.0491114\ttotal: 348ms\tremaining: 180ms\n",
      "659:\tlearn: 0.0489579\ttotal: 349ms\tremaining: 180ms\n",
      "660:\tlearn: 0.0487021\ttotal: 349ms\tremaining: 179ms\n",
      "661:\tlearn: 0.0484856\ttotal: 350ms\tremaining: 178ms\n",
      "662:\tlearn: 0.0482742\ttotal: 350ms\tremaining: 178ms\n",
      "663:\tlearn: 0.0480676\ttotal: 350ms\tremaining: 177ms\n",
      "664:\tlearn: 0.0478408\ttotal: 351ms\tremaining: 177ms\n",
      "665:\tlearn: 0.0476112\ttotal: 352ms\tremaining: 176ms\n",
      "666:\tlearn: 0.0474145\ttotal: 352ms\tremaining: 176ms\n",
      "667:\tlearn: 0.0473184\ttotal: 353ms\tremaining: 175ms\n",
      "668:\tlearn: 0.0472240\ttotal: 353ms\tremaining: 175ms\n",
      "669:\tlearn: 0.0471312\ttotal: 353ms\tremaining: 174ms\n",
      "670:\tlearn: 0.0470607\ttotal: 354ms\tremaining: 173ms\n",
      "671:\tlearn: 0.0468713\ttotal: 354ms\tremaining: 173ms\n",
      "672:\tlearn: 0.0467809\ttotal: 355ms\tremaining: 172ms\n",
      "673:\tlearn: 0.0466922\ttotal: 355ms\tremaining: 172ms\n",
      "674:\tlearn: 0.0466314\ttotal: 356ms\tremaining: 171ms\n",
      "675:\tlearn: 0.0464781\ttotal: 356ms\tremaining: 171ms\n",
      "676:\tlearn: 0.0462726\ttotal: 356ms\tremaining: 170ms\n",
      "677:\tlearn: 0.0461467\ttotal: 357ms\tremaining: 170ms\n",
      "678:\tlearn: 0.0460241\ttotal: 357ms\tremaining: 169ms\n",
      "679:\tlearn: 0.0458447\ttotal: 358ms\tremaining: 168ms\n",
      "680:\tlearn: 0.0456388\ttotal: 358ms\tremaining: 168ms\n",
      "681:\tlearn: 0.0455187\ttotal: 359ms\tremaining: 167ms\n",
      "682:\tlearn: 0.0454176\ttotal: 359ms\tremaining: 167ms\n",
      "683:\tlearn: 0.0452696\ttotal: 360ms\tremaining: 166ms\n",
      "684:\tlearn: 0.0451083\ttotal: 360ms\tremaining: 166ms\n",
      "685:\tlearn: 0.0449222\ttotal: 361ms\tremaining: 165ms\n",
      "686:\tlearn: 0.0447782\ttotal: 361ms\tremaining: 165ms\n",
      "687:\tlearn: 0.0445793\ttotal: 362ms\tremaining: 164ms\n",
      "688:\tlearn: 0.0443948\ttotal: 362ms\tremaining: 164ms\n",
      "689:\tlearn: 0.0442946\ttotal: 363ms\tremaining: 163ms\n",
      "690:\tlearn: 0.0441037\ttotal: 364ms\tremaining: 163ms\n",
      "691:\tlearn: 0.0439631\ttotal: 364ms\tremaining: 162ms\n",
      "692:\tlearn: 0.0438168\ttotal: 364ms\tremaining: 161ms\n",
      "693:\tlearn: 0.0436446\ttotal: 365ms\tremaining: 161ms\n"
     ]
    },
    {
     "name": "stdout",
     "output_type": "stream",
     "text": [
      "694:\tlearn: 0.0435075\ttotal: 365ms\tremaining: 160ms\n",
      "695:\tlearn: 0.0433262\ttotal: 366ms\tremaining: 160ms\n",
      "696:\tlearn: 0.0431507\ttotal: 366ms\tremaining: 159ms\n",
      "697:\tlearn: 0.0430157\ttotal: 367ms\tremaining: 159ms\n",
      "698:\tlearn: 0.0428826\ttotal: 367ms\tremaining: 158ms\n",
      "699:\tlearn: 0.0427083\ttotal: 367ms\tremaining: 157ms\n",
      "700:\tlearn: 0.0425450\ttotal: 368ms\tremaining: 157ms\n",
      "701:\tlearn: 0.0424139\ttotal: 368ms\tremaining: 156ms\n",
      "702:\tlearn: 0.0422846\ttotal: 369ms\tremaining: 156ms\n",
      "703:\tlearn: 0.0422035\ttotal: 369ms\tremaining: 155ms\n",
      "704:\tlearn: 0.0420439\ttotal: 370ms\tremaining: 155ms\n",
      "705:\tlearn: 0.0418875\ttotal: 370ms\tremaining: 154ms\n",
      "706:\tlearn: 0.0417339\ttotal: 371ms\tremaining: 154ms\n",
      "707:\tlearn: 0.0416098\ttotal: 371ms\tremaining: 153ms\n",
      "708:\tlearn: 0.0415219\ttotal: 372ms\tremaining: 153ms\n",
      "709:\tlearn: 0.0414064\ttotal: 373ms\tremaining: 152ms\n",
      "710:\tlearn: 0.0412851\ttotal: 373ms\tremaining: 152ms\n",
      "711:\tlearn: 0.0411852\ttotal: 374ms\tremaining: 151ms\n",
      "712:\tlearn: 0.0410670\ttotal: 374ms\tremaining: 151ms\n",
      "713:\tlearn: 0.0409538\ttotal: 375ms\tremaining: 150ms\n",
      "714:\tlearn: 0.0408423\ttotal: 375ms\tremaining: 150ms\n",
      "715:\tlearn: 0.0406922\ttotal: 376ms\tremaining: 149ms\n",
      "716:\tlearn: 0.0406077\ttotal: 376ms\tremaining: 148ms\n",
      "717:\tlearn: 0.0404793\ttotal: 377ms\tremaining: 148ms\n",
      "718:\tlearn: 0.0403943\ttotal: 377ms\tremaining: 147ms\n",
      "719:\tlearn: 0.0402845\ttotal: 378ms\tremaining: 147ms\n",
      "720:\tlearn: 0.0401608\ttotal: 378ms\tremaining: 146ms\n",
      "721:\tlearn: 0.0400222\ttotal: 379ms\tremaining: 146ms\n",
      "722:\tlearn: 0.0398712\ttotal: 379ms\tremaining: 145ms\n",
      "723:\tlearn: 0.0397329\ttotal: 379ms\tremaining: 145ms\n",
      "724:\tlearn: 0.0395984\ttotal: 380ms\tremaining: 144ms\n",
      "725:\tlearn: 0.0394640\ttotal: 381ms\tremaining: 144ms\n",
      "726:\tlearn: 0.0393593\ttotal: 381ms\tremaining: 143ms\n",
      "727:\tlearn: 0.0392971\ttotal: 381ms\tremaining: 143ms\n",
      "728:\tlearn: 0.0392361\ttotal: 382ms\tremaining: 142ms\n",
      "729:\tlearn: 0.0391327\ttotal: 383ms\tremaining: 142ms\n",
      "730:\tlearn: 0.0390728\ttotal: 383ms\tremaining: 141ms\n",
      "731:\tlearn: 0.0389713\ttotal: 385ms\tremaining: 141ms\n",
      "732:\tlearn: 0.0389125\ttotal: 386ms\tremaining: 141ms\n",
      "733:\tlearn: 0.0388301\ttotal: 387ms\tremaining: 140ms\n",
      "734:\tlearn: 0.0387189\ttotal: 388ms\tremaining: 140ms\n",
      "735:\tlearn: 0.0385874\ttotal: 388ms\tremaining: 139ms\n",
      "736:\tlearn: 0.0384882\ttotal: 389ms\tremaining: 139ms\n",
      "737:\tlearn: 0.0383591\ttotal: 390ms\tremaining: 138ms\n",
      "738:\tlearn: 0.0382492\ttotal: 390ms\tremaining: 138ms\n",
      "739:\tlearn: 0.0381443\ttotal: 391ms\tremaining: 138ms\n",
      "740:\tlearn: 0.0380879\ttotal: 392ms\tremaining: 137ms\n",
      "741:\tlearn: 0.0380087\ttotal: 393ms\tremaining: 137ms\n",
      "742:\tlearn: 0.0379018\ttotal: 394ms\tremaining: 136ms\n",
      "743:\tlearn: 0.0377476\ttotal: 394ms\tremaining: 136ms\n",
      "744:\tlearn: 0.0376451\ttotal: 396ms\tremaining: 136ms\n",
      "745:\tlearn: 0.0374611\ttotal: 397ms\tremaining: 135ms\n",
      "746:\tlearn: 0.0373113\ttotal: 399ms\tremaining: 135ms\n",
      "747:\tlearn: 0.0371645\ttotal: 400ms\tremaining: 135ms\n",
      "748:\tlearn: 0.0370625\ttotal: 401ms\tremaining: 134ms\n",
      "749:\tlearn: 0.0369188\ttotal: 401ms\tremaining: 134ms\n",
      "750:\tlearn: 0.0367618\ttotal: 402ms\tremaining: 133ms\n",
      "751:\tlearn: 0.0366640\ttotal: 403ms\tremaining: 133ms\n",
      "752:\tlearn: 0.0365249\ttotal: 403ms\tremaining: 132ms\n",
      "753:\tlearn: 0.0364322\ttotal: 404ms\tremaining: 132ms\n",
      "754:\tlearn: 0.0362959\ttotal: 404ms\tremaining: 131ms\n",
      "755:\tlearn: 0.0362051\ttotal: 405ms\tremaining: 131ms\n",
      "756:\tlearn: 0.0360562\ttotal: 406ms\tremaining: 130ms\n",
      "757:\tlearn: 0.0359245\ttotal: 406ms\tremaining: 130ms\n",
      "758:\tlearn: 0.0358302\ttotal: 407ms\tremaining: 129ms\n",
      "759:\tlearn: 0.0357418\ttotal: 408ms\tremaining: 129ms\n",
      "760:\tlearn: 0.0356125\ttotal: 408ms\tremaining: 128ms\n",
      "761:\tlearn: 0.0355382\ttotal: 408ms\tremaining: 128ms\n",
      "762:\tlearn: 0.0353963\ttotal: 409ms\tremaining: 127ms\n",
      "763:\tlearn: 0.0352711\ttotal: 409ms\tremaining: 126ms\n",
      "764:\tlearn: 0.0351785\ttotal: 410ms\tremaining: 126ms\n",
      "765:\tlearn: 0.0350509\ttotal: 410ms\tremaining: 125ms\n",
      "766:\tlearn: 0.0349256\ttotal: 411ms\tremaining: 125ms\n",
      "767:\tlearn: 0.0348026\ttotal: 411ms\tremaining: 124ms\n",
      "768:\tlearn: 0.0346818\ttotal: 412ms\tremaining: 124ms\n",
      "769:\tlearn: 0.0345633\ttotal: 413ms\tremaining: 123ms\n",
      "770:\tlearn: 0.0344469\ttotal: 413ms\tremaining: 123ms\n",
      "771:\tlearn: 0.0343327\ttotal: 413ms\tremaining: 122ms\n",
      "772:\tlearn: 0.0342925\ttotal: 414ms\tremaining: 122ms\n",
      "773:\tlearn: 0.0341806\ttotal: 414ms\tremaining: 121ms\n",
      "774:\tlearn: 0.0341411\ttotal: 415ms\tremaining: 120ms\n",
      "775:\tlearn: 0.0340315\ttotal: 415ms\tremaining: 120ms\n",
      "776:\tlearn: 0.0339993\ttotal: 416ms\tremaining: 119ms\n",
      "777:\tlearn: 0.0339268\ttotal: 416ms\tremaining: 119ms\n",
      "778:\tlearn: 0.0338195\ttotal: 417ms\tremaining: 118ms\n",
      "779:\tlearn: 0.0337564\ttotal: 417ms\tremaining: 118ms\n",
      "780:\tlearn: 0.0336943\ttotal: 418ms\tremaining: 117ms\n",
      "781:\tlearn: 0.0336333\ttotal: 418ms\tremaining: 117ms\n",
      "782:\tlearn: 0.0336021\ttotal: 419ms\tremaining: 116ms\n",
      "783:\tlearn: 0.0334967\ttotal: 419ms\tremaining: 116ms\n",
      "784:\tlearn: 0.0334367\ttotal: 420ms\tremaining: 115ms\n",
      "785:\tlearn: 0.0333777\ttotal: 420ms\tremaining: 114ms\n",
      "786:\tlearn: 0.0333474\ttotal: 420ms\tremaining: 114ms\n",
      "787:\tlearn: 0.0332894\ttotal: 421ms\tremaining: 113ms\n",
      "788:\tlearn: 0.0332466\ttotal: 421ms\tremaining: 113ms\n",
      "789:\tlearn: 0.0331766\ttotal: 422ms\tremaining: 112ms\n",
      "790:\tlearn: 0.0330567\ttotal: 422ms\tremaining: 112ms\n",
      "791:\tlearn: 0.0329531\ttotal: 423ms\tremaining: 111ms\n",
      "792:\tlearn: 0.0329129\ttotal: 423ms\tremaining: 110ms\n",
      "793:\tlearn: 0.0328733\ttotal: 423ms\tremaining: 110ms\n",
      "794:\tlearn: 0.0328401\ttotal: 424ms\tremaining: 109ms\n",
      "795:\tlearn: 0.0327225\ttotal: 424ms\tremaining: 109ms\n",
      "796:\tlearn: 0.0326315\ttotal: 425ms\tremaining: 108ms\n",
      "797:\tlearn: 0.0325925\ttotal: 425ms\tremaining: 108ms\n",
      "798:\tlearn: 0.0325575\ttotal: 425ms\tremaining: 107ms\n"
     ]
    },
    {
     "name": "stdout",
     "output_type": "stream",
     "text": [
      "799:\tlearn: 0.0324902\ttotal: 426ms\tremaining: 107ms\n",
      "800:\tlearn: 0.0323887\ttotal: 427ms\tremaining: 106ms\n",
      "801:\tlearn: 0.0323502\ttotal: 427ms\tremaining: 105ms\n",
      "802:\tlearn: 0.0323122\ttotal: 428ms\tremaining: 105ms\n",
      "803:\tlearn: 0.0322318\ttotal: 428ms\tremaining: 104ms\n",
      "804:\tlearn: 0.0321996\ttotal: 429ms\tremaining: 104ms\n",
      "805:\tlearn: 0.0321317\ttotal: 429ms\tremaining: 103ms\n",
      "806:\tlearn: 0.0319677\ttotal: 430ms\tremaining: 103ms\n",
      "807:\tlearn: 0.0318890\ttotal: 430ms\tremaining: 102ms\n",
      "808:\tlearn: 0.0317278\ttotal: 431ms\tremaining: 102ms\n",
      "809:\tlearn: 0.0316620\ttotal: 431ms\tremaining: 101ms\n",
      "810:\tlearn: 0.0315039\ttotal: 432ms\tremaining: 101ms\n",
      "811:\tlearn: 0.0314055\ttotal: 432ms\tremaining: 100ms\n",
      "812:\tlearn: 0.0313200\ttotal: 432ms\tremaining: 99.5ms\n",
      "813:\tlearn: 0.0312563\ttotal: 433ms\tremaining: 98.9ms\n",
      "814:\tlearn: 0.0311937\ttotal: 433ms\tremaining: 98.3ms\n",
      "815:\tlearn: 0.0310401\ttotal: 434ms\tremaining: 97.8ms\n",
      "816:\tlearn: 0.0309444\ttotal: 434ms\tremaining: 97.2ms\n",
      "817:\tlearn: 0.0308833\ttotal: 434ms\tremaining: 96.6ms\n",
      "818:\tlearn: 0.0308015\ttotal: 435ms\tremaining: 96.1ms\n",
      "819:\tlearn: 0.0307420\ttotal: 435ms\tremaining: 95.6ms\n",
      "820:\tlearn: 0.0306021\ttotal: 436ms\tremaining: 95ms\n",
      "821:\tlearn: 0.0305441\ttotal: 436ms\tremaining: 94.4ms\n",
      "822:\tlearn: 0.0304798\ttotal: 436ms\tremaining: 93.9ms\n",
      "823:\tlearn: 0.0304278\ttotal: 437ms\tremaining: 93.3ms\n",
      "824:\tlearn: 0.0303708\ttotal: 437ms\tremaining: 92.8ms\n",
      "825:\tlearn: 0.0302838\ttotal: 438ms\tremaining: 92.2ms\n",
      "826:\tlearn: 0.0301977\ttotal: 438ms\tremaining: 91.7ms\n",
      "827:\tlearn: 0.0300988\ttotal: 439ms\tremaining: 91.2ms\n",
      "828:\tlearn: 0.0300144\ttotal: 439ms\tremaining: 90.6ms\n",
      "829:\tlearn: 0.0299268\ttotal: 440ms\tremaining: 90.1ms\n",
      "830:\tlearn: 0.0298351\ttotal: 440ms\tremaining: 89.6ms\n",
      "831:\tlearn: 0.0297004\ttotal: 441ms\tremaining: 89ms\n",
      "832:\tlearn: 0.0296107\ttotal: 441ms\tremaining: 88.5ms\n",
      "833:\tlearn: 0.0295154\ttotal: 442ms\tremaining: 87.9ms\n",
      "834:\tlearn: 0.0293834\ttotal: 442ms\tremaining: 87.4ms\n",
      "835:\tlearn: 0.0293016\ttotal: 443ms\tremaining: 86.9ms\n",
      "836:\tlearn: 0.0292070\ttotal: 444ms\tremaining: 86.4ms\n",
      "837:\tlearn: 0.0291225\ttotal: 444ms\tremaining: 85.8ms\n",
      "838:\tlearn: 0.0290429\ttotal: 445ms\tremaining: 85.3ms\n",
      "839:\tlearn: 0.0289505\ttotal: 445ms\tremaining: 84.8ms\n",
      "840:\tlearn: 0.0288725\ttotal: 445ms\tremaining: 84.2ms\n",
      "841:\tlearn: 0.0287910\ttotal: 446ms\tremaining: 83.6ms\n",
      "842:\tlearn: 0.0286681\ttotal: 446ms\tremaining: 83.1ms\n",
      "843:\tlearn: 0.0286006\ttotal: 446ms\tremaining: 82.5ms\n",
      "844:\tlearn: 0.0284814\ttotal: 447ms\tremaining: 82ms\n",
      "845:\tlearn: 0.0283645\ttotal: 447ms\tremaining: 81.4ms\n",
      "846:\tlearn: 0.0282409\ttotal: 448ms\tremaining: 80.9ms\n",
      "847:\tlearn: 0.0281585\ttotal: 448ms\tremaining: 80.3ms\n",
      "848:\tlearn: 0.0280943\ttotal: 448ms\tremaining: 79.8ms\n",
      "849:\tlearn: 0.0279744\ttotal: 449ms\tremaining: 79.2ms\n",
      "850:\tlearn: 0.0278595\ttotal: 449ms\tremaining: 78.7ms\n",
      "851:\tlearn: 0.0277802\ttotal: 450ms\tremaining: 78.1ms\n",
      "852:\tlearn: 0.0276945\ttotal: 450ms\tremaining: 77.6ms\n",
      "853:\tlearn: 0.0276324\ttotal: 451ms\tremaining: 77ms\n",
      "854:\tlearn: 0.0275486\ttotal: 451ms\tremaining: 76.5ms\n",
      "855:\tlearn: 0.0274880\ttotal: 452ms\tremaining: 76ms\n",
      "856:\tlearn: 0.0274106\ttotal: 452ms\tremaining: 75.4ms\n",
      "857:\tlearn: 0.0273348\ttotal: 452ms\tremaining: 74.9ms\n",
      "858:\tlearn: 0.0272236\ttotal: 453ms\tremaining: 74.4ms\n",
      "859:\tlearn: 0.0271146\ttotal: 453ms\tremaining: 73.8ms\n",
      "860:\tlearn: 0.0270381\ttotal: 454ms\tremaining: 73.3ms\n",
      "861:\tlearn: 0.0269316\ttotal: 454ms\tremaining: 72.7ms\n",
      "862:\tlearn: 0.0268571\ttotal: 455ms\tremaining: 72.2ms\n",
      "863:\tlearn: 0.0267503\ttotal: 455ms\tremaining: 71.7ms\n",
      "864:\tlearn: 0.0266914\ttotal: 456ms\tremaining: 71.1ms\n",
      "865:\tlearn: 0.0265890\ttotal: 456ms\tremaining: 70.6ms\n",
      "866:\tlearn: 0.0264861\ttotal: 457ms\tremaining: 70.1ms\n",
      "867:\tlearn: 0.0264332\ttotal: 457ms\tremaining: 69.5ms\n",
      "868:\tlearn: 0.0263387\ttotal: 458ms\tremaining: 69ms\n",
      "869:\tlearn: 0.0262866\ttotal: 458ms\tremaining: 68.5ms\n",
      "870:\tlearn: 0.0262354\ttotal: 459ms\tremaining: 67.9ms\n",
      "871:\tlearn: 0.0261372\ttotal: 459ms\tremaining: 67.4ms\n",
      "872:\tlearn: 0.0260867\ttotal: 460ms\tremaining: 66.9ms\n",
      "873:\tlearn: 0.0260372\ttotal: 460ms\tremaining: 66.3ms\n",
      "874:\tlearn: 0.0259406\ttotal: 461ms\tremaining: 65.8ms\n",
      "875:\tlearn: 0.0258918\ttotal: 461ms\tremaining: 65.3ms\n",
      "876:\tlearn: 0.0257901\ttotal: 462ms\tremaining: 64.7ms\n",
      "877:\tlearn: 0.0256903\ttotal: 462ms\tremaining: 64.2ms\n",
      "878:\tlearn: 0.0255925\ttotal: 463ms\tremaining: 63.7ms\n",
      "879:\tlearn: 0.0254966\ttotal: 463ms\tremaining: 63.1ms\n",
      "880:\tlearn: 0.0254158\ttotal: 463ms\tremaining: 62.6ms\n",
      "881:\tlearn: 0.0253368\ttotal: 464ms\tremaining: 62ms\n",
      "882:\tlearn: 0.0252590\ttotal: 464ms\tremaining: 61.5ms\n",
      "883:\tlearn: 0.0251825\ttotal: 465ms\tremaining: 61ms\n",
      "884:\tlearn: 0.0251072\ttotal: 465ms\tremaining: 60.4ms\n",
      "885:\tlearn: 0.0250332\ttotal: 465ms\tremaining: 59.9ms\n",
      "886:\tlearn: 0.0249604\ttotal: 466ms\tremaining: 59.4ms\n",
      "887:\tlearn: 0.0248522\ttotal: 466ms\tremaining: 58.8ms\n",
      "888:\tlearn: 0.0247639\ttotal: 467ms\tremaining: 58.3ms\n",
      "889:\tlearn: 0.0246587\ttotal: 468ms\tremaining: 57.8ms\n",
      "890:\tlearn: 0.0245560\ttotal: 468ms\tremaining: 57.3ms\n",
      "891:\tlearn: 0.0244724\ttotal: 469ms\tremaining: 56.7ms\n",
      "892:\tlearn: 0.0243723\ttotal: 469ms\tremaining: 56.2ms\n",
      "893:\tlearn: 0.0242909\ttotal: 470ms\tremaining: 55.7ms\n",
      "894:\tlearn: 0.0242091\ttotal: 470ms\tremaining: 55.1ms\n",
      "895:\tlearn: 0.0241309\ttotal: 471ms\tremaining: 54.6ms\n",
      "896:\tlearn: 0.0240386\ttotal: 471ms\tremaining: 54.1ms\n",
      "897:\tlearn: 0.0239553\ttotal: 472ms\tremaining: 53.6ms\n",
      "898:\tlearn: 0.0238792\ttotal: 472ms\tremaining: 53ms\n",
      "899:\tlearn: 0.0238046\ttotal: 472ms\tremaining: 52.5ms\n",
      "900:\tlearn: 0.0237157\ttotal: 473ms\tremaining: 52ms\n",
      "901:\tlearn: 0.0236363\ttotal: 473ms\tremaining: 51.4ms\n",
      "902:\tlearn: 0.0235637\ttotal: 474ms\tremaining: 50.9ms\n",
      "903:\tlearn: 0.0234924\ttotal: 474ms\tremaining: 50.4ms\n",
      "904:\tlearn: 0.0234121\ttotal: 475ms\tremaining: 49.8ms\n",
      "905:\tlearn: 0.0233264\ttotal: 475ms\tremaining: 49.3ms\n",
      "906:\tlearn: 0.0232496\ttotal: 476ms\tremaining: 48.8ms\n",
      "907:\tlearn: 0.0231786\ttotal: 476ms\tremaining: 48.2ms\n",
      "908:\tlearn: 0.0231323\ttotal: 477ms\tremaining: 47.7ms\n",
      "909:\tlearn: 0.0230867\ttotal: 477ms\tremaining: 47.2ms\n",
      "910:\tlearn: 0.0230061\ttotal: 478ms\tremaining: 46.7ms\n",
      "911:\tlearn: 0.0229228\ttotal: 478ms\tremaining: 46.1ms\n",
      "912:\tlearn: 0.0228478\ttotal: 479ms\tremaining: 45.6ms\n",
      "913:\tlearn: 0.0227805\ttotal: 479ms\tremaining: 45.1ms\n",
      "914:\tlearn: 0.0227355\ttotal: 480ms\tremaining: 44.5ms\n",
      "915:\tlearn: 0.0226547\ttotal: 480ms\tremaining: 44ms\n",
      "916:\tlearn: 0.0225758\ttotal: 480ms\tremaining: 43.5ms\n",
      "917:\tlearn: 0.0225315\ttotal: 481ms\tremaining: 43ms\n",
      "918:\tlearn: 0.0224524\ttotal: 481ms\tremaining: 42.4ms\n",
      "919:\tlearn: 0.0223746\ttotal: 482ms\tremaining: 41.9ms\n",
      "920:\tlearn: 0.0223172\ttotal: 482ms\tremaining: 41.4ms\n",
      "921:\tlearn: 0.0222452\ttotal: 483ms\tremaining: 40.8ms\n",
      "922:\tlearn: 0.0222016\ttotal: 483ms\tremaining: 40.3ms\n",
      "923:\tlearn: 0.0221588\ttotal: 483ms\tremaining: 39.8ms\n",
      "924:\tlearn: 0.0220873\ttotal: 484ms\tremaining: 39.2ms\n",
      "925:\tlearn: 0.0220113\ttotal: 484ms\tremaining: 38.7ms\n",
      "926:\tlearn: 0.0219393\ttotal: 485ms\tremaining: 38.2ms\n",
      "927:\tlearn: 0.0218970\ttotal: 485ms\tremaining: 37.6ms\n",
      "928:\tlearn: 0.0218276\ttotal: 485ms\tremaining: 37.1ms\n",
      "929:\tlearn: 0.0217860\ttotal: 486ms\tremaining: 36.6ms\n",
      "930:\tlearn: 0.0217056\ttotal: 486ms\tremaining: 36ms\n",
      "931:\tlearn: 0.0216267\ttotal: 487ms\tremaining: 35.5ms\n",
      "932:\tlearn: 0.0215547\ttotal: 487ms\tremaining: 35ms\n",
      "933:\tlearn: 0.0215187\ttotal: 488ms\tremaining: 34.5ms\n",
      "934:\tlearn: 0.0214453\ttotal: 488ms\tremaining: 33.9ms\n",
      "935:\tlearn: 0.0214100\ttotal: 489ms\tremaining: 33.4ms\n",
      "936:\tlearn: 0.0213337\ttotal: 489ms\tremaining: 32.9ms\n",
      "937:\tlearn: 0.0212991\ttotal: 490ms\tremaining: 32.4ms\n",
      "938:\tlearn: 0.0212269\ttotal: 490ms\tremaining: 31.8ms\n",
      "939:\tlearn: 0.0211930\ttotal: 490ms\tremaining: 31.3ms\n",
      "940:\tlearn: 0.0211264\ttotal: 491ms\tremaining: 30.8ms\n",
      "941:\tlearn: 0.0210555\ttotal: 492ms\tremaining: 30.3ms\n",
      "942:\tlearn: 0.0209859\ttotal: 492ms\tremaining: 29.7ms\n",
      "943:\tlearn: 0.0209527\ttotal: 492ms\tremaining: 29.2ms\n",
      "944:\tlearn: 0.0208928\ttotal: 493ms\tremaining: 28.7ms\n",
      "945:\tlearn: 0.0208245\ttotal: 493ms\tremaining: 28.2ms\n",
      "946:\tlearn: 0.0207919\ttotal: 494ms\tremaining: 27.6ms\n",
      "947:\tlearn: 0.0207599\ttotal: 494ms\tremaining: 27.1ms\n",
      "948:\tlearn: 0.0206930\ttotal: 495ms\tremaining: 26.6ms\n",
      "949:\tlearn: 0.0206616\ttotal: 495ms\tremaining: 26.1ms\n",
      "950:\tlearn: 0.0205911\ttotal: 495ms\tremaining: 25.5ms\n",
      "951:\tlearn: 0.0205604\ttotal: 496ms\tremaining: 25ms\n",
      "952:\tlearn: 0.0204945\ttotal: 496ms\tremaining: 24.5ms\n",
      "953:\tlearn: 0.0204644\ttotal: 497ms\tremaining: 24ms\n",
      "954:\tlearn: 0.0203870\ttotal: 497ms\tremaining: 23.4ms\n",
      "955:\tlearn: 0.0203573\ttotal: 498ms\tremaining: 22.9ms\n",
      "956:\tlearn: 0.0203402\ttotal: 498ms\tremaining: 22.4ms\n",
      "957:\tlearn: 0.0202814\ttotal: 499ms\tremaining: 21.9ms\n",
      "958:\tlearn: 0.0202062\ttotal: 499ms\tremaining: 21.3ms\n",
      "959:\tlearn: 0.0201325\ttotal: 500ms\tremaining: 20.8ms\n",
      "960:\tlearn: 0.0200759\ttotal: 500ms\tremaining: 20.3ms\n",
      "961:\tlearn: 0.0199951\ttotal: 501ms\tremaining: 19.8ms\n",
      "962:\tlearn: 0.0199435\ttotal: 501ms\tremaining: 19.2ms\n",
      "963:\tlearn: 0.0199213\ttotal: 501ms\tremaining: 18.7ms\n",
      "964:\tlearn: 0.0198588\ttotal: 502ms\tremaining: 18.2ms\n",
      "965:\tlearn: 0.0198345\ttotal: 502ms\tremaining: 17.7ms\n",
      "966:\tlearn: 0.0197732\ttotal: 502ms\tremaining: 17.1ms\n",
      "967:\tlearn: 0.0197495\ttotal: 503ms\tremaining: 16.6ms\n",
      "968:\tlearn: 0.0197264\ttotal: 503ms\tremaining: 16.1ms\n",
      "969:\tlearn: 0.0196662\ttotal: 503ms\tremaining: 15.6ms\n",
      "970:\tlearn: 0.0196452\ttotal: 504ms\tremaining: 15.1ms\n",
      "971:\tlearn: 0.0196229\ttotal: 505ms\tremaining: 14.5ms\n",
      "972:\tlearn: 0.0195637\ttotal: 505ms\tremaining: 14ms\n",
      "973:\tlearn: 0.0195419\ttotal: 505ms\tremaining: 13.5ms\n",
      "974:\tlearn: 0.0194717\ttotal: 506ms\tremaining: 13ms\n",
      "975:\tlearn: 0.0194489\ttotal: 506ms\tremaining: 12.5ms\n",
      "976:\tlearn: 0.0193875\ttotal: 507ms\tremaining: 11.9ms\n",
      "977:\tlearn: 0.0193653\ttotal: 507ms\tremaining: 11.4ms\n",
      "978:\tlearn: 0.0193450\ttotal: 508ms\tremaining: 10.9ms\n",
      "979:\tlearn: 0.0192881\ttotal: 508ms\tremaining: 10.4ms\n",
      "980:\tlearn: 0.0192688\ttotal: 509ms\tremaining: 9.85ms\n",
      "981:\tlearn: 0.0192128\ttotal: 509ms\tremaining: 9.33ms\n",
      "982:\tlearn: 0.0191979\ttotal: 510ms\tremaining: 8.81ms\n",
      "983:\tlearn: 0.0191771\ttotal: 510ms\tremaining: 8.29ms\n"
     ]
    },
    {
     "name": "stdout",
     "output_type": "stream",
     "text": [
      "984:\tlearn: 0.0191678\ttotal: 511ms\tremaining: 7.78ms\n",
      "985:\tlearn: 0.0191531\ttotal: 511ms\tremaining: 7.26ms\n",
      "986:\tlearn: 0.0191440\ttotal: 512ms\tremaining: 6.74ms\n",
      "987:\tlearn: 0.0190760\ttotal: 512ms\tremaining: 6.22ms\n",
      "988:\tlearn: 0.0190574\ttotal: 512ms\tremaining: 5.7ms\n",
      "989:\tlearn: 0.0189989\ttotal: 513ms\tremaining: 5.18ms\n",
      "990:\tlearn: 0.0189788\ttotal: 513ms\tremaining: 4.66ms\n",
      "991:\tlearn: 0.0189223\ttotal: 514ms\tremaining: 4.14ms\n",
      "992:\tlearn: 0.0189079\ttotal: 514ms\tremaining: 3.62ms\n",
      "993:\tlearn: 0.0188971\ttotal: 514ms\tremaining: 3.1ms\n",
      "994:\tlearn: 0.0188248\ttotal: 515ms\tremaining: 2.59ms\n",
      "995:\tlearn: 0.0188114\ttotal: 515ms\tremaining: 2.07ms\n",
      "996:\tlearn: 0.0187560\ttotal: 516ms\tremaining: 1.55ms\n",
      "997:\tlearn: 0.0187455\ttotal: 516ms\tremaining: 1.03ms\n",
      "998:\tlearn: 0.0187352\ttotal: 517ms\tremaining: 517us\n",
      "999:\tlearn: 0.0186699\ttotal: 517ms\tremaining: 0us\n"
     ]
    },
    {
     "data": {
      "text/plain": [
       "<catboost.core.CatBoostRegressor at 0x7f9a81a4fd90>"
      ]
     },
     "execution_count": 9,
     "metadata": {},
     "output_type": "execute_result"
    }
   ],
   "source": [
    "#Train the Model \n",
    "prior_model = ctb.CatBoostRegressor()\n",
    "prior_model.fit(X_train,Y_train)"
   ]
  },
  {
   "cell_type": "code",
   "execution_count": 10,
   "id": "af65dcda",
   "metadata": {
    "execution": {
     "iopub.execute_input": "2022-02-13T17:07:49.084353Z",
     "iopub.status.busy": "2022-02-13T17:07:49.083935Z",
     "iopub.status.idle": "2022-02-13T17:07:49.092063Z",
     "shell.execute_reply": "2022-02-13T17:07:49.092444Z"
    },
    "id": "af65dcda",
    "papermill": {
     "duration": 0.021445,
     "end_time": "2022-02-13T17:07:49.092563",
     "exception": false,
     "start_time": "2022-02-13T17:07:49.071118",
     "status": "completed"
    },
    "tags": []
   },
   "outputs": [
    {
     "data": {
      "application/scrapbook.scrap.json+json": {
       "data": 0.2159775022368982,
       "encoder": "json",
       "name": "Prior Model MSE",
       "version": 1
      }
     },
     "metadata": {
      "scrapbook": {
       "data": true,
       "display": false,
       "name": "Prior Model MSE"
      }
     },
     "output_type": "display_data"
    },
    {
     "data": {
      "application/scrapbook.scrap.json+json": {
       "data": 1.055285916854785,
       "encoder": "json",
       "name": "ABC Pre-generator MSE",
       "version": 1
      }
     },
     "metadata": {
      "scrapbook": {
       "data": true,
       "display": false,
       "name": "ABC Pre-generator MSE"
      }
     },
     "output_type": "display_data"
    },
    {
     "data": {
      "application/scrapbook.scrap.json+json": {
       "data": 0.38056783560340246,
       "encoder": "json",
       "name": "Prior Model MSE",
       "version": 1
      }
     },
     "metadata": {
      "scrapbook": {
       "data": true,
       "display": false,
       "name": "Prior Model MSE"
      }
     },
     "output_type": "display_data"
    },
    {
     "data": {
      "application/scrapbook.scrap.json+json": {
       "data": 0.8837770127449722,
       "encoder": "json",
       "name": "ABC Pre-generator MSE",
       "version": 1
      }
     },
     "metadata": {
      "scrapbook": {
       "data": true,
       "display": false,
       "name": "ABC Pre-generator MSE"
      }
     },
     "output_type": "display_data"
    }
   ],
   "source": [
    "y_pred = prior_model.predict(X_test)\n",
    "y_abc = y_pred + np.random.normal(0,variance, y_pred.shape)\n",
    "mse = mean_squared_error(y_pred,Y_test)\n",
    "sb.glue(\"Prior Model MSE\",mse)\n",
    "mse = mean_squared_error(y_abc,Y_test)\n",
    "sb.glue(\"ABC Pre-generator MSE\",mse)\n",
    "\n",
    "mae = mean_absolute_error(y_pred,Y_test)\n",
    "sb.glue(\"Prior Model MSE\",mae)\n",
    "mae = mean_absolute_error(y_abc,Y_test)\n",
    "sb.glue(\"ABC Pre-generator MSE\",mae)"
   ]
  },
  {
   "cell_type": "markdown",
   "id": "25609da2",
   "metadata": {
    "papermill": {
     "duration": 0.010101,
     "end_time": "2022-02-13T17:07:49.127818",
     "exception": false,
     "start_time": "2022-02-13T17:07:49.117717",
     "status": "completed"
    },
    "tags": []
   },
   "source": [
    "# ABC GAN Model"
   ]
  },
  {
   "cell_type": "code",
   "execution_count": 11,
   "id": "dfc3464d",
   "metadata": {
    "execution": {
     "iopub.execute_input": "2022-02-13T17:07:49.151957Z",
     "iopub.status.busy": "2022-02-13T17:07:49.151369Z",
     "iopub.status.idle": "2022-02-13T17:07:49.154433Z",
     "shell.execute_reply": "2022-02-13T17:07:49.154151Z"
    },
    "papermill": {
     "duration": 0.016418,
     "end_time": "2022-02-13T17:07:49.154546",
     "exception": false,
     "start_time": "2022-02-13T17:07:49.138128",
     "status": "completed"
    },
    "tags": []
   },
   "outputs": [],
   "source": [
    "gen = network.Generator(n_features+1).to(device)\n",
    "disc = network.Discriminator(n_features+1).to(device)\n",
    "\n",
    "criterion = torch.nn.BCELoss()\n",
    "gen_opt = torch.optim.Adam(gen.parameters(), lr=0.001, betas=(0.5, 0.999))\n",
    "disc_opt = torch.optim.Adam(disc.parameters(), lr=0.001, betas=(0.5, 0.999))"
   ]
  },
  {
   "cell_type": "code",
   "execution_count": 12,
   "id": "b75fdd85",
   "metadata": {
    "execution": {
     "iopub.execute_input": "2022-02-13T17:07:49.177427Z",
     "iopub.status.busy": "2022-02-13T17:07:49.177049Z",
     "iopub.status.idle": "2022-02-13T17:08:03.825270Z",
     "shell.execute_reply": "2022-02-13T17:08:03.825577Z"
    },
    "papermill": {
     "duration": 14.66135,
     "end_time": "2022-02-13T17:08:03.825700",
     "exception": false,
     "start_time": "2022-02-13T17:07:49.164350",
     "status": "completed"
    },
    "tags": []
   },
   "outputs": [
    {
     "data": {
      "image/png": "[encoded data removed]",
      "text/plain": [
       "<Figure size 432x288 with 1 Axes>"
      ]
     },
     "metadata": {
      "needs_background": "light"
     },
     "output_type": "display_data"
    },
    {
     "data": {
      "image/png": "[encoded data removed]",
      "text/plain": [
       "<Figure size 432x288 with 1 Axes>"
      ]
     },
     "metadata": {
      "needs_background": "light"
     },
     "output_type": "display_data"
    }
   ],
   "source": [
    "#Training the ABC_GAN \n",
    "ABC_train_test2.training_GAN(disc,gen,disc_opt,gen_opt,train_data,batch_size,n_epochs,criterion,prior_model,variance,device)"
   ]
  },
  {
   "cell_type": "code",
   "execution_count": 13,
   "id": "1fa7c368",
   "metadata": {
    "execution": {
     "iopub.execute_input": "2022-02-13T17:08:03.850418Z",
     "iopub.status.busy": "2022-02-13T17:08:03.849955Z",
     "iopub.status.idle": "2022-02-13T17:08:04.036024Z",
     "shell.execute_reply": "2022-02-13T17:08:04.036437Z"
    },
    "papermill": {
     "duration": 0.199855,
     "end_time": "2022-02-13T17:08:04.036645",
     "exception": false,
     "start_time": "2022-02-13T17:08:03.836790",
     "status": "completed"
    },
    "tags": []
   },
   "outputs": [
    {
     "data": {
      "application/scrapbook.scrap.json+json": {
       "data": 0.2649415082237221,
       "encoder": "json",
       "name": "ABC-GAN Model 1 MSE",
       "version": 1
      }
     },
     "metadata": {
      "scrapbook": {
       "data": true,
       "display": false,
       "name": "ABC-GAN Model 1 MSE"
      }
     },
     "output_type": "display_data"
    },
    {
     "data": {
      "application/scrapbook.scrap.json+json": {
       "data": 0.4061574048958719,
       "encoder": "json",
       "name": "ABC-GAN Model 1 MAE",
       "version": 1
      }
     },
     "metadata": {
      "scrapbook": {
       "data": true,
       "display": false,
       "name": "ABC-GAN Model 1 MAE"
      }
     },
     "output_type": "display_data"
    },
    {
     "data": {
      "application/scrapbook.scrap.json+json": {
       "data": 8.123148097917438,
       "encoder": "json",
       "name": "ABC-GAN Model 1 Manhattan Distance",
       "version": 1
      }
     },
     "metadata": {
      "scrapbook": {
       "data": true,
       "display": false,
       "name": "ABC-GAN Model 1 Manhattan Distance"
      }
     },
     "output_type": "display_data"
    },
    {
     "data": {
      "application/scrapbook.scrap.json+json": {
       "data": 2.301117021081685,
       "encoder": "json",
       "name": "ABC-GAN Model 1 Euclidean distance",
       "version": 1
      }
     },
     "metadata": {
      "scrapbook": {
       "data": true,
       "display": false,
       "name": "ABC-GAN Model 1 Euclidean distance"
      }
     },
     "output_type": "display_data"
    },
    {
     "data": {
      "application/scrapbook.scrap.json+json": {
       "data": [
        [
         0.24904535554956375,
         0.24106606519786794,
         0.25526141020814974,
         0.24541881693599193,
         0.2923226130112177,
         0.2643052808800684,
         0.2709016643584027,
         0.2779713001703906,
         0.26029001076171987,
         0.22784051629561755,
         0.27289425693783964,
         0.2761441357273438,
         0.24784012497570568,
         0.2743934514108695,
         0.25593145717746807,
         0.2444249093026849,
         0.26710136765057013,
         0.28192130359080203,
         0.2590316261972356,
         0.25618981683309794,
         0.27001774710692766,
         0.28760934984352204,
         0.2766349087276657,
         0.2880770262623063,
         0.2454686668991289,
         0.25048314597908883,
         0.24982694119796106,
         0.24765118702571934,
         0.24456889572371637,
         0.2567020878193912,
         0.2668945614428475,
         0.2742740698378157,
         0.2606144443401191,
         0.2476443727294491,
         0.2713906156265557,
         0.25559474362812107,
         0.2581512318703276,
         0.24929209380536355,
         0.28110744484786354,
         0.26614235753567456,
         0.27918568427481627,
         0.26535687751995457,
         0.2861592478361693,
         0.27015596533527486,
         0.2564408000422679,
         0.27259295501239034,
         0.2642824515423133,
         0.2783973309590262,
         0.2600740159440416,
         0.24181648353617974,
         0.2530561048135979,
         0.27035201408761667,
         0.2508579119583896,
         0.28176785971866647,
         0.26912742337565343,
         0.26533089827277406,
         0.25572242519241717,
         0.2790496710159142,
         0.261463458756218,
         0.26780584207570923,
         0.2660817677543499,
         0.2819997729091057,
         0.2801800126522436,
         0.25796428056367543,
         0.2827565636831221,
         0.25972353648183766,
         0.2657815229042483,
         0.24539741047445132,
         0.2467170878098078,
         0.26746541943860747,
         0.24337680195176895,
         0.2627009398881014,
         0.2776140459399842,
         0.2641487945821171,
         0.27463964749975306,
         0.2828946714992599,
         0.2534137608706931,
         0.28578996330744605,
         0.2682967320727139,
         0.2872093907021424,
         0.2515157697124895,
         0.2577050085062854,
         0.2585355303545707,
         0.28830312765785904,
         0.2777507428231813,
         0.26910703594219787,
         0.2732424468832115,
         0.2770940902121447,
         0.2785407637800954,
         0.25715040809179956,
         0.28017295044992696,
         0.2677557101416982,
         0.2569875567716077,
         0.2323516413035585,
         0.2587177287440471,
         0.2498693088374869,
         0.28158334125692003,
         0.25881093604009325,
         0.28310494616744253,
         0.28426285901859905
        ],
        [
         0.4009865302592516,
         0.38740797005593774,
         0.38630386963486674,
         0.39666395373642444,
         0.4397589672356844,
         0.4017209652811289,
         0.4191701490432024,
         0.42012164257466794,
         0.3776431690901518,
         0.3743605688214302,
         0.4170863952487707,
         0.414814193919301,
         0.38730011247098445,
         0.4122955981642008,
         0.39155981726944444,
         0.3780466843396425,
         0.42153900377452375,
         0.41861974634230137,
         0.4035865757614374,
         0.39954980425536635,
         0.40935022942721844,
         0.43260012157261374,
         0.41633857898414134,
         0.441375919803977,
         0.3912526797503233,
         0.39255225844681263,
         0.3950755652040243,
         0.3984095219522715,
         0.3779527526348829,
         0.40633683167397977,
         0.40879431590437887,
         0.42956404499709605,
         0.3989239472895861,
         0.4064123909920454,
         0.41114899776875974,
         0.37487240023911,
         0.4104042839258909,
         0.39885237999260426,
         0.4312049079686403,
         0.3991687562316656,
         0.42203126586973666,
         0.3875118728727102,
         0.4309484753757715,
         0.39987222440540793,
         0.388468137383461,
         0.4128440532833338,
         0.40856406427919867,
         0.40643708109855653,
         0.41009531505405905,
         0.3923404399305582,
         0.39918080866336825,
         0.40442499332129955,
         0.3971934452652931,
         0.4193325985223055,
         0.39991818480193614,
         0.3896936919540167,
         0.39573806039988996,
         0.41003320291638373,
         0.4152277778834105,
         0.4185158122330904,
         0.4095575034618378,
         0.41734692715108396,
         0.41699750535190105,
         0.3901603247970343,
         0.42946069277822974,
         0.4013331107795238,
         0.41068417616188524,
         0.4019471127539873,
         0.37606998197734354,
         0.39902928434312346,
         0.3606438938528299,
         0.3863345254212618,
         0.4241373661905527,
         0.4138686966150999,
         0.4206081058830023,
         0.42314742170274255,
         0.3938659843057394,
         0.4280400987714529,
         0.4130126412957907,
         0.42795792780816555,
         0.38114299178123473,
         0.3897041294723749,
         0.4018290374428034,
         0.4295341994613409,
         0.43371531628072263,
         0.3983127728104591,
         0.4195645783096552,
         0.41960041113197805,
         0.4207742542028427,
         0.38310772068798543,
         0.4254609297960997,
         0.4135675959289074,
         0.4046173583716154,
         0.38069868125021455,
         0.4063516240566969,
         0.3898686833679676,
         0.42675968669354913,
         0.39826900474727156,
         0.42187042646110057,
         0.4392896983772516
        ],
        [
         8.019730605185032,
         7.748159401118755,
         7.726077392697334,
         7.933279074728489,
         8.795179344713688,
         8.034419305622578,
         8.383402980864048,
         8.402432851493359,
         7.552863381803036,
         7.487211376428604,
         8.341727904975414,
         8.29628387838602,
         7.746002249419689,
         8.245911963284016,
         7.831196345388889,
         7.5609336867928505,
         8.430780075490475,
         8.372394926846027,
         8.071731515228748,
         7.9909960851073265,
         8.187004588544369,
         8.652002431452274,
         8.326771579682827,
         8.82751839607954,
         7.825053595006466,
         7.851045168936253,
         7.901511304080486,
         7.968190439045429,
         7.5590550526976585,
         8.126736633479595,
         8.175886318087578,
         8.591280899941921,
         7.978478945791721,
         8.128247819840908,
         8.222979955375195,
         7.4974480047822,
         8.208085678517818,
         7.977047599852085,
         8.624098159372807,
         7.983375124633312,
         8.440625317394733,
         7.750237457454205,
         8.61896950751543,
         7.997444488108158,
         7.76936274766922,
         8.256881065666676,
         8.171281285583973,
         8.12874162197113,
         8.20190630108118,
         7.846808798611164,
         7.9836161732673645,
         8.088499866425991,
         7.943868905305862,
         8.38665197044611,
         7.998363696038723,
         7.793873839080334,
         7.914761207997799,
         8.200664058327675,
         8.304555557668209,
         8.370316244661808,
         8.191150069236755,
         8.346938543021679,
         8.339950107038021,
         7.803206495940685,
         8.589213855564594,
         8.026662215590477,
         8.213683523237705,
         8.038942255079746,
         7.521399639546871,
         7.980585686862469,
         7.212877877056599,
         7.726690508425236,
         8.482747323811054,
         8.277373932301998,
         8.412162117660046,
         8.462948434054852,
         7.877319686114788,
         8.560801975429058,
         8.260252825915813,
         8.559158556163311,
         7.622859835624695,
         7.794082589447498,
         8.036580748856068,
         8.590683989226818,
         8.674306325614452,
         7.966255456209183,
         8.391291566193104,
         8.39200822263956,
         8.415485084056854,
         7.662154413759708,
         8.509218595921993,
         8.271351918578148,
         8.092347167432308,
         7.6139736250042915,
         8.127032481133938,
         7.797373667359352,
         8.535193733870983,
         7.965380094945431,
         8.437408529222012,
         8.785793967545033
        ],
        [
         2.231794594265179,
         2.1957507381206454,
         2.259475205476483,
         2.2154855762834114,
         2.417943808326479,
         2.2991532392603515,
         2.3276669192923745,
         2.357843506980014,
         2.281622277072697,
         2.134668668883382,
         2.3362117067502237,
         2.3500814272162733,
         2.2263877693506386,
         2.3426201203390598,
         2.2624387601765847,
         2.210994840802144,
         2.3112826207565793,
         2.3745370226248403,
         2.276100288639477,
         2.2635804241647697,
         2.323866377857934,
         2.3983717386740615,
         2.3521688235654588,
         2.4003209213032592,
         2.215710571799164,
         2.2382276290810497,
         2.2352939010249235,
         2.2255389775320467,
         2.2116459740370584,
         2.265842394428135,
         2.3103876793423543,
         2.3421104578470064,
         2.283043776803761,
         2.2255083586877364,
         2.329766578979773,
         2.2609499933794246,
         2.272229001972854,
         2.2328998804485773,
         2.3711071036453144,
         2.307129634570518,
         2.3629882956748487,
         2.3037225419739875,
         2.3923179046112137,
         2.3244610787676137,
         2.2646889412997444,
         2.33492164756075,
         2.2990539425699144,
         2.359649681452847,
         2.2806754084877645,
         2.199165676051624,
         2.2496937783333886,
         2.3253043417480503,
         2.2399013905008833,
         2.3738907292403604,
         2.3200319970882015,
         2.303609768484124,
         2.2615146481613477,
         2.362412627023121,
         2.286759535920723,
         2.3143285941097873,
         2.3068669998695195,
         2.3748674611822267,
         2.3671924833111637,
         2.271406086826728,
         2.378051991370761,
         2.2791381550131513,
         2.3055651060173874,
         2.2153889521907946,
         2.2213378302716937,
         2.3128571916078497,
         2.2062493147954467,
         2.292164653283448,
         2.356327846204701,
         2.298472512701064,
         2.343670827995062,
         2.378632680761197,
         2.2512830158409365,
         2.390773779793672,
         2.3164487133226754,
         2.3967035306943676,
         2.242836461771074,
         2.2702643392622166,
         2.2739196571320224,
         2.4012626997388646,
         2.3569079015658687,
         2.3199441197675337,
         2.337701635723479,
         2.3541201762533053,
         2.360257459600945,
         2.2678201343660374,
         2.367162649460011,
         2.3141119685170732,
         2.267101924358972,
         2.155697758516061,
         2.274720768551811,
         2.235483432448055,
         2.3731133190680973,
         2.275130484346308,
         2.37951653143004,
         2.3843777344145747
        ]
       ],
       "encoder": "json",
       "name": "ABC_GAN_1 Metrics",
       "version": 1
      }
     },
     "metadata": {
      "scrapbook": {
       "data": true,
       "display": false,
       "name": "ABC_GAN_1 Metrics"
      }
     },
     "output_type": "display_data"
    },
    {
     "name": "stdout",
     "output_type": "stream",
     "text": [
      "MSE\n",
      "0.2649415082237221\n"
     ]
    }
   ],
   "source": [
    "ABC_GAN1_metrics=ABC_train_test2.test_generator(gen,test_data,prior_model,variance,\"1\",device)\n",
    "sb.glue(\"ABC_GAN_1 Metrics\",ABC_GAN1_metrics)\n",
    "\n",
    "print(\"MSE\")\n",
    "print(mean(ABC_GAN1_metrics[0]))"
   ]
  },
  {
   "cell_type": "code",
   "execution_count": 14,
   "id": "eb22ce5c",
   "metadata": {
    "execution": {
     "iopub.execute_input": "2022-02-13T17:08:04.074533Z",
     "iopub.status.busy": "2022-02-13T17:08:04.074078Z",
     "iopub.status.idle": "2022-02-13T17:08:04.384310Z",
     "shell.execute_reply": "2022-02-13T17:08:04.384558Z"
    },
    "papermill": {
     "duration": 0.335398,
     "end_time": "2022-02-13T17:08:04.384684",
     "exception": false,
     "start_time": "2022-02-13T17:08:04.049286",
     "status": "completed"
    },
    "tags": []
   },
   "outputs": [
    {
     "data": {
      "image/png": "[encoded data removed]",
      "text/plain": [
       "<Figure size 432x288 with 1 Axes>"
      ]
     },
     "metadata": {
      "needs_background": "light"
     },
     "output_type": "display_data"
    },
    {
     "data": {
      "image/png": "[encoded data removed]",
      "text/plain": [
       "<Figure size 432x288 with 1 Axes>"
      ]
     },
     "metadata": {
      "needs_background": "light"
     },
     "output_type": "display_data"
    },
    {
     "data": {
      "image/png": "[encoded data removed]",
      "text/plain": [
       "<Figure size 432x288 with 1 Axes>"
      ]
     },
     "metadata": {
      "needs_background": "light"
     },
     "output_type": "display_data"
    },
    {
     "data": {
      "image/png": "[encoded data removed]",
      "text/plain": [
       "<Figure size 432x288 with 1 Axes>"
      ]
     },
     "metadata": {
      "needs_background": "light"
     },
     "output_type": "display_data"
    }
   ],
   "source": [
    "sanityChecks.discProbVsError(train_data,disc,device)\n",
    "sanityChecks.discProbVsError(test_data,disc,device)"
   ]
  },
  {
   "cell_type": "markdown",
   "id": "130f3a4d",
   "metadata": {
    "id": "130f3a4d",
    "papermill": {
     "duration": 0.014879,
     "end_time": "2022-02-13T17:08:04.414645",
     "exception": false,
     "start_time": "2022-02-13T17:08:04.399766",
     "status": "completed"
    },
    "tags": []
   },
   "source": [
    "# ABC - GAN Model with skip connection"
   ]
  },
  {
   "cell_type": "code",
   "execution_count": 15,
   "id": "4e43dad1",
   "metadata": {
    "execution": {
     "iopub.execute_input": "2022-02-13T17:08:04.447552Z",
     "iopub.status.busy": "2022-02-13T17:08:04.447150Z",
     "iopub.status.idle": "2022-02-13T17:08:04.451072Z",
     "shell.execute_reply": "2022-02-13T17:08:04.451476Z"
    },
    "id": "4e43dad1",
    "papermill": {
     "duration": 0.022212,
     "end_time": "2022-02-13T17:08:04.451608",
     "exception": false,
     "start_time": "2022-02-13T17:08:04.429396",
     "status": "completed"
    },
    "tags": []
   },
   "outputs": [],
   "source": [
    "#Generator\n",
    "gen3 = network.GeneratorWithSkipConnection(n_features+1).to(device)\n",
    "constraints=network.weightConstraint()\n",
    "#Discriminator \n",
    "disc3 = network.Discriminator(n_features+1).to(device)\n",
    "\n",
    "criterion = torch.nn.BCELoss()\n",
    "gen_opt = torch.optim.Adam(gen3.parameters(), lr=0.001, betas=(0.5, 0.999))\n",
    "disc_opt = torch.optim.Adam(disc3.parameters(), lr=0.001, betas=(0.5, 0.999))\n"
   ]
  },
  {
   "cell_type": "code",
   "execution_count": 16,
   "id": "26acbc37",
   "metadata": {
    "execution": {
     "iopub.execute_input": "2022-02-13T17:08:04.484375Z",
     "iopub.status.busy": "2022-02-13T17:08:04.483967Z",
     "iopub.status.idle": "2022-02-13T17:08:42.633964Z",
     "shell.execute_reply": "2022-02-13T17:08:42.634494Z"
    },
    "id": "26acbc37",
    "papermill": {
     "duration": 38.168032,
     "end_time": "2022-02-13T17:08:42.634642",
     "exception": false,
     "start_time": "2022-02-13T17:08:04.466610",
     "status": "completed"
    },
    "tags": []
   },
   "outputs": [
    {
     "data": {
      "image/png": "[encoded data removed]",
      "text/plain": [
       "<Figure size 432x288 with 1 Axes>"
      ]
     },
     "metadata": {
      "needs_background": "light"
     },
     "output_type": "display_data"
    },
    {
     "data": {
      "image/png": "[encoded data removed]",
      "text/plain": [
       "<Figure size 432x288 with 1 Axes>"
      ]
     },
     "metadata": {
      "needs_background": "light"
     },
     "output_type": "display_data"
    }
   ],
   "source": [
    "ABC_train_test2.training_GAN_skip_connection(disc3,gen3,disc_opt,gen_opt,train_data,batch_size,n_epochs,criterion,prior_model,variance,device)"
   ]
  },
  {
   "cell_type": "code",
   "execution_count": 17,
   "id": "c5e0717b",
   "metadata": {
    "execution": {
     "iopub.execute_input": "2022-02-13T17:08:42.668863Z",
     "iopub.status.busy": "2022-02-13T17:08:42.668434Z",
     "iopub.status.idle": "2022-02-13T17:08:42.954849Z",
     "shell.execute_reply": "2022-02-13T17:08:42.955319Z"
    },
    "id": "c5e0717b",
    "papermill": {
     "duration": 0.304918,
     "end_time": "2022-02-13T17:08:42.955446",
     "exception": false,
     "start_time": "2022-02-13T17:08:42.650528",
     "status": "completed"
    },
    "tags": []
   },
   "outputs": [
    {
     "data": {
      "application/scrapbook.scrap.json+json": {
       "data": 0.23552070045421244,
       "encoder": "json",
       "name": "ABC-GAN Model 3 MSE",
       "version": 1
      }
     },
     "metadata": {
      "scrapbook": {
       "data": true,
       "display": false,
       "name": "ABC-GAN Model 3 MSE"
      }
     },
     "output_type": "display_data"
    },
    {
     "data": {
      "application/scrapbook.scrap.json+json": {
       "data": 0.40200208802567794,
       "encoder": "json",
       "name": "ABC-GAN Model 3 MAE",
       "version": 1
      }
     },
     "metadata": {
      "scrapbook": {
       "data": true,
       "display": false,
       "name": "ABC-GAN Model 3 MAE"
      }
     },
     "output_type": "display_data"
    },
    {
     "data": {
      "application/scrapbook.scrap.json+json": {
       "data": 8.040041760513558,
       "encoder": "json",
       "name": "ABC-GAN Model 3 Manhattan Distance",
       "version": 1
      }
     },
     "metadata": {
      "scrapbook": {
       "data": true,
       "display": false,
       "name": "ABC-GAN Model 3 Manhattan Distance"
      }
     },
     "output_type": "display_data"
    },
    {
     "data": {
      "application/scrapbook.scrap.json+json": {
       "data": 2.1695935726861384,
       "encoder": "json",
       "name": "ABC-GAN Model 3 Euclidean distance",
       "version": 1
      }
     },
     "metadata": {
      "scrapbook": {
       "data": true,
       "display": false,
       "name": "ABC-GAN Model 3 Euclidean distance"
      }
     },
     "output_type": "display_data"
    },
    {
     "data": {
      "application/scrapbook.scrap.json+json": {
       "data": [
        [
         0.22145743404195833,
         0.2685172784927348,
         0.2449317768658099,
         0.23217158687660225,
         0.23466428931761354,
         0.24203589818067175,
         0.2189036582043853,
         0.23690606424039692,
         0.23979305473539753,
         0.2343551492087069,
         0.2425553225071424,
         0.24394221245774758,
         0.24457000254301858,
         0.2371074583269214,
         0.2414716750717984,
         0.25793157669330635,
         0.21420669202656395,
         0.24036374395301538,
         0.23720536928904518,
         0.2273821716406313,
         0.23333406554354758,
         0.2531387662923873,
         0.22490787152834057,
         0.225424277201597,
         0.23524679388117414,
         0.22870882228457584,
         0.24690041943015797,
         0.23832461006547132,
         0.24146748606417212,
         0.20526066350272804,
         0.2190147799237963,
         0.2237505413473419,
         0.2476491717891393,
         0.20944162906429953,
         0.22375298019832207,
         0.23245476332042955,
         0.24058889262639296,
         0.22872754632222722,
         0.24079878041500508,
         0.2426588204994502,
         0.22810746037841598,
         0.2329191407069847,
         0.22895019133881248,
         0.22476754659992934,
         0.2164014976878313,
         0.21843091026528055,
         0.2357191423338047,
         0.217478795148926,
         0.21655620282123994,
         0.25029080776800705,
         0.2600290285666901,
         0.24839077527824477,
         0.23712581302612726,
         0.2207825388385456,
         0.22895474371813584,
         0.2396396970786882,
         0.22073632383950592,
         0.23156982947427726,
         0.21390169016711394,
         0.23408267775365493,
         0.23469063201493584,
         0.24183304460552466,
         0.2290681084391922,
         0.21467466888485087,
         0.2338159536377936,
         0.23088462237059781,
         0.2516557983286675,
         0.23009056146717616,
         0.23913000747899957,
         0.24598056680066663,
         0.22722179563390194,
         0.23615344017074488,
         0.2592167774861528,
         0.2373454000199235,
         0.2297290681920189,
         0.2490569404963557,
         0.24050917832803634,
         0.23271876961700605,
         0.24655817870598065,
         0.254721389681035,
         0.23847292623731722,
         0.26114441707646746,
         0.25076339714679075,
         0.25751063542226443,
         0.2250652287785307,
         0.25530296742102243,
         0.24668227929819325,
         0.24718377973927405,
         0.23795773563897762,
         0.22621112797182247,
         0.23163342455417313,
         0.22858964837059936,
         0.24825680692576751,
         0.2302752074853997,
         0.22418830584358593,
         0.21094060074869497,
         0.2348877039788181,
         0.2426055363622759,
         0.23911248636326526,
         0.24337201893420274
        ],
        [
         0.3910765219479799,
         0.41889706123620274,
         0.4149937964975834,
         0.39823389127850534,
         0.417238867841661,
         0.4106399977579713,
         0.39639659523963927,
         0.4006934370845556,
         0.4004417922347784,
         0.402330270037055,
         0.4073312167078257,
         0.4103267423808575,
         0.41808767765760424,
         0.3943028572946787,
         0.41556338481605054,
         0.4295667763799429,
         0.38810495343059304,
         0.39654741138219834,
         0.3978358391672373,
         0.3846513945609331,
         0.39961690828204155,
         0.41543761231005194,
         0.3987066952511668,
         0.396423178166151,
         0.40059614591300485,
         0.4054957449436188,
         0.421328504383564,
         0.398869164288044,
         0.40376384784467517,
         0.37236304078251126,
         0.39025713317096233,
         0.3959696814417839,
         0.4082623084075749,
         0.38982181940227745,
         0.3935873399488628,
         0.4031509567052126,
         0.4025730397552252,
         0.39691629968583586,
         0.41164644453674554,
         0.410863671451807,
         0.37994770146906376,
         0.40271935015916827,
         0.3892978258430958,
         0.37473053187131883,
         0.39577212668955325,
         0.3813821002840996,
         0.4180047109723091,
         0.3919919041916728,
         0.3788849488832057,
         0.4054678061977029,
         0.42424208829179405,
         0.41135550774633883,
         0.39589772932231426,
         0.39360623322427274,
         0.38539558378979566,
         0.40632588379085066,
         0.39110620226711035,
         0.39716762751340867,
         0.3858804747462273,
         0.3920461155474186,
         0.39819620419293644,
         0.40250232852995393,
         0.39727377649396656,
         0.37891443744301795,
         0.3899468915537,
         0.3892797604203224,
         0.422126617655158,
         0.3988083001226187,
         0.39864009991288185,
         0.3973390769213438,
         0.3899162862449884,
         0.39708009269088507,
         0.43853827361017467,
         0.40004970505833626,
         0.4096846591681242,
         0.4088156528770924,
         0.41019119378179314,
         0.3930291809141636,
         0.400952404551208,
         0.42297373265028,
         0.4115265492349863,
         0.431276673823595,
         0.40895728692412375,
         0.41979970373213293,
         0.39392947498708963,
         0.42397798262536524,
         0.4141201414167881,
         0.40047591626644136,
         0.4045578001067042,
         0.40080248080194,
         0.3936246082186699,
         0.4016915660351515,
         0.41833915933966637,
         0.40489653386175634,
         0.39714302122592926,
         0.3862868148833513,
         0.3925262250006199,
         0.4088704106397927,
         0.40823483001440763,
         0.4247804742306471
        ],
        [
         7.8215304389595985,
         8.377941224724054,
         8.299875929951668,
         7.9646778255701065,
         8.34477735683322,
         8.212799955159426,
         7.927931904792786,
         8.013868741691113,
         8.008835844695568,
         8.0466054007411,
         8.146624334156513,
         8.20653484761715,
         8.361753553152084,
         7.886057145893574,
         8.31126769632101,
         8.591335527598858,
         7.76209906861186,
         7.930948227643967,
         7.956716783344746,
         7.693027891218662,
         7.992338165640831,
         8.308752246201038,
         7.974133905023336,
         7.928463563323021,
         8.011922918260098,
         8.109914898872375,
         8.42657008767128,
         7.9773832857608795,
         8.075276956893504,
         7.447260815650225,
         7.805142663419247,
         7.919393628835678,
         8.165246168151498,
         7.796436388045549,
         7.871746798977256,
         8.063019134104252,
         8.051460795104504,
         7.938325993716717,
         8.232928890734911,
         8.21727342903614,
         7.598954029381275,
         8.054387003183365,
         7.785956516861916,
         7.494610637426376,
         7.915442533791065,
         7.627642005681992,
         8.360094219446182,
         7.839838083833456,
         7.577698977664113,
         8.109356123954058,
         8.484841765835881,
         8.227110154926777,
         7.917954586446285,
         7.872124664485455,
         7.707911675795913,
         8.126517675817013,
         7.822124045342207,
         7.943352550268173,
         7.717609494924545,
         7.840922310948372,
         7.963924083858728,
         8.05004657059908,
         7.945475529879332,
         7.578288748860359,
         7.798937831073999,
         7.785595208406448,
         8.44253235310316,
         7.9761660024523735,
         7.972801998257637,
         7.946781538426876,
         7.798325724899769,
         7.941601853817701,
         8.770765472203493,
         8.000994101166725,
         8.193693183362484,
         8.176313057541847,
         8.203823875635862,
         7.860583618283272,
         8.01904809102416,
         8.4594746530056,
         8.230530984699726,
         8.625533476471901,
         8.179145738482475,
         8.395994074642658,
         7.878589499741793,
         8.479559652507305,
         8.282402828335762,
         8.009518325328827,
         8.091156002134085,
         8.0160496160388,
         7.872492164373398,
         8.03383132070303,
         8.366783186793327,
         8.097930677235126,
         7.942860424518585,
         7.7257362976670265,
         7.850524500012398,
         8.177408212795854,
         8.164696600288153,
         8.495609484612942
        ],
        [
         2.1045542712981216,
         2.317400606251473,
         2.2132861399548407,
         2.1548623476992783,
         2.1663992675294805,
         2.2001631674976823,
         2.092384564100898,
         2.176722601712937,
         2.189945454733508,
         2.1649718206420467,
         2.2025227467935147,
         2.208810596034651,
         2.211650978536255,
         2.1776476222149506,
         2.1975972109183175,
         2.271262101534327,
         2.069814929053146,
         2.192549857827709,
         2.1780971938324756,
         2.1325204413586816,
         2.160250288941296,
         2.250061182689872,
         2.120886001313322,
         2.1233194634891706,
         2.1690864154347294,
         2.138732439014174,
         2.2221629977576263,
         2.1832297637466898,
         2.1975781490730752,
         2.0261325894557247,
         2.092915573661758,
         2.115422139183297,
         2.225529922464038,
         2.0466637684988687,
         2.1154336680611,
         2.1561760750014347,
         2.193576497988584,
         2.1388199845813447,
         2.1945331185243258,
         2.202992603253357,
         2.1359188204536985,
         2.158328708547355,
         2.1398607026571264,
         2.1202242645528298,
         2.080391778910075,
         2.0901239688845283,
         2.1712629611993326,
         2.0855636895042355,
         2.0811352806640895,
         2.2373681313901255,
         2.280478145331325,
         2.2288596872761857,
         2.17773190740333,
         2.1013449923253704,
         2.1398819767367354,
         2.1892450620188146,
         2.101125050250489,
         2.1520679797547158,
         2.068340833456198,
         2.1637129095776775,
         2.1665208608039563,
         2.1992409809092073,
         2.1404116820798387,
         2.0720746554352276,
         2.162479843317822,
         2.148881673664689,
         2.243460712063697,
         2.145183262414548,
         2.1869156704317594,
         2.21801968792284,
         2.131768259609388,
         2.1732622491118962,
         2.2769136017256026,
         2.1787400029371264,
         2.143497460656387,
         2.2318465023220377,
         2.193213069120446,
         2.1574001465514274,
         2.220622339372369,
         2.2570839137304355,
         2.1839090010223283,
         2.2853639407169593,
         2.239479391049584,
         2.269408008368105,
         2.121627812687846,
         2.259659122173176,
         2.221181124078778,
         2.223437787478094,
         2.1815486959450507,
         2.1270219931717795,
         2.152363466304765,
         2.1381751489089913,
         2.228258543911669,
         2.146043836856087,
         2.117490523443191,
         2.0539746870333864,
         2.167430294052467,
         2.202750718362275,
         2.1868355510338002,
         2.2062276352824646
        ]
       ],
       "encoder": "json",
       "name": "ABC_GAN_3 Metrics",
       "version": 1
      }
     },
     "metadata": {
      "scrapbook": {
       "data": true,
       "display": false,
       "name": "ABC_GAN_3 Metrics"
      }
     },
     "output_type": "display_data"
    },
    {
     "name": "stdout",
     "output_type": "stream",
     "text": [
      "MSE\n",
      "0.23552070045421244\n"
     ]
    }
   ],
   "source": [
    "ABC_GAN3_metrics=ABC_train_test2.test_generator(gen3,test_data,prior_model,variance,\"3\",device)\n",
    "sb.glue(\"ABC_GAN_3 Metrics\",ABC_GAN3_metrics)\n",
    "\n",
    "print(\"MSE\")\n",
    "print(mean(ABC_GAN3_metrics[0]))"
   ]
  },
  {
   "cell_type": "code",
   "execution_count": 18,
   "id": "c8e46b48",
   "metadata": {
    "execution": {
     "iopub.execute_input": "2022-02-13T17:08:43.018386Z",
     "iopub.status.busy": "2022-02-13T17:08:43.017916Z",
     "iopub.status.idle": "2022-02-13T17:08:43.306094Z",
     "shell.execute_reply": "2022-02-13T17:08:43.306386Z"
    },
    "id": "c8e46b48",
    "papermill": {
     "duration": 0.308199,
     "end_time": "2022-02-13T17:08:43.306508",
     "exception": false,
     "start_time": "2022-02-13T17:08:42.998309",
     "status": "completed"
    },
    "tags": []
   },
   "outputs": [
    {
     "data": {
      "image/png": "[encoded data removed]",
      "text/plain": [
       "<Figure size 432x288 with 1 Axes>"
      ]
     },
     "metadata": {
      "needs_background": "light"
     },
     "output_type": "display_data"
    },
    {
     "data": {
      "image/png": "[encoded data removed]",
      "text/plain": [
       "<Figure size 432x288 with 1 Axes>"
      ]
     },
     "metadata": {
      "needs_background": "light"
     },
     "output_type": "display_data"
    },
    {
     "data": {
      "image/png": "[encoded data removed]",
      "text/plain": [
       "<Figure size 432x288 with 1 Axes>"
      ]
     },
     "metadata": {
      "needs_background": "light"
     },
     "output_type": "display_data"
    },
    {
     "data": {
      "image/png": "[encoded data removed]",
      "text/plain": [
       "<Figure size 432x288 with 1 Axes>"
      ]
     },
     "metadata": {
      "needs_background": "light"
     },
     "output_type": "display_data"
    }
   ],
   "source": [
    "sanityChecks.discProbVsError(train_data,disc3,device)\n",
    "sanityChecks.discProbVsError(test_data,disc3,device)"
   ]
  },
  {
   "cell_type": "markdown",
   "id": "a5bd74c3",
   "metadata": {
    "id": "a5bd74c3",
    "papermill": {
     "duration": 0.019384,
     "end_time": "2022-02-13T17:08:43.345220",
     "exception": false,
     "start_time": "2022-02-13T17:08:43.325836",
     "status": "completed"
    },
    "tags": []
   },
   "source": [
    "## Skip Connection Model Analysis - ABC-GAN "
   ]
  },
  {
   "cell_type": "markdown",
   "id": "5744a8bf",
   "metadata": {
    "id": "5744a8bf",
    "papermill": {
     "duration": 0.018893,
     "end_time": "2022-02-13T17:08:43.383187",
     "exception": false,
     "start_time": "2022-02-13T17:08:43.364294",
     "status": "completed"
    },
    "tags": []
   },
   "source": [
    "### Weight Analysis \n",
    "\n",
    "Study the weights of the skip connection layer\n",
    "\n",
    "Equation of the skip connection is \n",
    "\n",
    "$output = y_{gan} * w + y_{abc} * (1-w)$"
   ]
  },
  {
   "cell_type": "code",
   "execution_count": 19,
   "id": "52c31dea",
   "metadata": {
    "execution": {
     "iopub.execute_input": "2022-02-13T17:08:43.424718Z",
     "iopub.status.busy": "2022-02-13T17:08:43.424329Z",
     "iopub.status.idle": "2022-02-13T17:08:43.428028Z",
     "shell.execute_reply": "2022-02-13T17:08:43.427766Z"
    },
    "id": "52c31dea",
    "papermill": {
     "duration": 0.025607,
     "end_time": "2022-02-13T17:08:43.428130",
     "exception": false,
     "start_time": "2022-02-13T17:08:43.402523",
     "status": "completed"
    },
    "tags": []
   },
   "outputs": [
    {
     "name": "stdout",
     "output_type": "stream",
     "text": [
      "Weight of the node at skip connection\n",
      "Parameter containing:\n",
      "tensor([[0.8677]], requires_grad=True)\n"
     ]
    },
    {
     "data": {
      "application/scrapbook.scrap.json+json": {
       "data": 0.8677220940589905,
       "encoder": "json",
       "name": "Skip Connection Weight",
       "version": 1
      }
     },
     "metadata": {
      "scrapbook": {
       "data": true,
       "display": false,
       "name": "Skip Connection Weight"
      }
     },
     "output_type": "display_data"
    }
   ],
   "source": [
    "print(\"Weight of the node at skip connection\")\n",
    "for name,param in gen3.named_parameters():\n",
    "    if(name == \"skipNode.weight\"):\n",
    "        print(param)\n",
    "        sb.glue(\"Skip Connection Weight\",param.item())"
   ]
  }
 ],
 "metadata": {
  "colab": {
   "collapsed_sections": [],
   "name": "ABC_GAN_Model-Catboost_Pre-gen.ipynb",
   "provenance": []
  },
  "interpreter": {
   "hash": "31f2aee4e71d21fbe5cf8b01ff0e069b9275f58929596ceb00d14d90e3e16cd6"
  },
  "kernelspec": {
   "display_name": "Python 3 (ipykernel)",
   "language": "python",
   "name": "python3"
  },
  "language_info": {
   "codemirror_mode": {
    "name": "ipython",
    "version": 3
   },
   "file_extension": ".py",
   "mimetype": "text/x-python",
   "name": "python",
   "nbconvert_exporter": "python",
   "pygments_lexer": "ipython3",
   "version": "3.8.11"
  },
  "papermill": {
   "default_parameters": {},
   "duration": 58.448302,
   "end_time": "2022-02-13T17:08:43.754707",
   "environment_variables": {},
   "exception": null,
   "input_path": "ABC_GAN-Catboost.ipynb",
   "output_path": "./ABC_GAN_Catboost/ABC-GAN_output_2_0.ipynb",
   "parameters": {
    "variance": 1
   },
   "start_time": "2022-02-13T17:07:45.306405",
   "version": "2.3.3"
  }
 },
 "nbformat": 4,
 "nbformat_minor": 5
}