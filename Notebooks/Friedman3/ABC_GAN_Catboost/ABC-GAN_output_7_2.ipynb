{
 "cells": [
  {
   "cell_type": "markdown",
   "id": "622780e6",
   "metadata": {
    "id": "622780e6",
    "papermill": {
     "duration": null,
     "end_time": null,
     "exception": null,
     "start_time": null,
     "status": "completed"
    },
    "tags": []
   },
   "source": [
    "## Import Libraries "
   ]
  },
  {
   "cell_type": "code",
   "execution_count": null,
   "id": "a62397e3",
   "metadata": {
    "id": "a62397e3",
    "papermill": {
     "duration": null,
     "end_time": null,
     "exception": null,
     "start_time": null,
     "status": "completed"
    },
    "tags": []
   },
   "outputs": [],
   "source": [
    "import warnings\n",
    "import sys\n",
    "sys.path.insert(0, '../../src')\n",
    "warnings.filterwarnings('ignore')"
   ]
  },
  {
   "cell_type": "code",
   "execution_count": null,
   "id": "d6a4e155",
   "metadata": {
    "id": "d6a4e155",
    "papermill": {
     "duration": null,
     "end_time": null,
     "exception": null,
     "start_time": null,
     "status": "completed"
    },
    "tags": []
   },
   "outputs": [],
   "source": [
    "import ABC_train_test2\n",
    "import friedman3Dataset\n",
    "import network\n",
    "import dataset\n",
    "import sanityChecks\n",
    "import torch \n",
    "import scrapbook as sb\n",
    "from statistics import mean \n",
    "import catboost as ctb \n",
    "from sklearn.model_selection import train_test_split\n",
    "from sklearn.metrics import mean_squared_error,mean_absolute_error\n",
    "import numpy as np"
   ]
  },
  {
   "cell_type": "markdown",
   "id": "2fa5b0f7",
   "metadata": {
    "id": "2fa5b0f7",
    "papermill": {
     "duration": null,
     "end_time": null,
     "exception": null,
     "start_time": null,
     "status": "completed"
    },
    "tags": []
   },
   "source": [
    "## Parameters "
   ]
  },
  {
   "cell_type": "code",
   "execution_count": null,
   "id": "783186fb",
   "metadata": {
    "id": "783186fb",
    "papermill": {
     "duration": null,
     "end_time": null,
     "exception": null,
     "start_time": null,
     "status": "completed"
    },
    "tags": [
     "parameters"
    ]
   },
   "outputs": [],
   "source": [
    "variance = 1"
   ]
  },
  {
   "cell_type": "code",
   "execution_count": null,
   "id": "5f15e0a0",
   "metadata": {
    "papermill": {
     "duration": null,
     "end_time": null,
     "exception": null,
     "start_time": null,
     "status": "completed"
    },
    "tags": [
     "injected-parameters"
    ]
   },
   "outputs": [],
   "source": [
    "# Parameters\n",
    "variance = 0.01\n"
   ]
  },
  {
   "cell_type": "markdown",
   "id": "391cdbfd",
   "metadata": {
    "id": "391cdbfd",
    "papermill": {
     "duration": null,
     "end_time": null,
     "exception": null,
     "start_time": null,
     "status": "completed"
    },
    "tags": []
   },
   "source": [
    "## Dataset - California Dataset\n"
   ]
  },
  {
   "cell_type": "code",
   "execution_count": null,
   "id": "5b51f161",
   "metadata": {
    "id": "5b51f161",
    "papermill": {
     "duration": null,
     "end_time": null,
     "exception": null,
     "start_time": null,
     "status": "completed"
    },
    "tags": []
   },
   "outputs": [],
   "source": [
    "#Parameters \n",
    "n_features = 5\n",
    "n_samples= 100\n",
    "n_target = 1 "
   ]
  },
  {
   "cell_type": "code",
   "execution_count": null,
   "id": "5d6eced4",
   "metadata": {
    "id": "5d6eced4",
    "papermill": {
     "duration": null,
     "end_time": null,
     "exception": null,
     "start_time": null,
     "status": "completed"
    },
    "tags": []
   },
   "outputs": [],
   "source": [
    "X,Y = friedman3Dataset.friedman3_data(n_samples)"
   ]
  },
  {
   "cell_type": "code",
   "execution_count": null,
   "id": "fe007438",
   "metadata": {
    "id": "fe007438",
    "papermill": {
     "duration": null,
     "end_time": null,
     "exception": null,
     "start_time": null,
     "status": "completed"
    },
    "tags": []
   },
   "outputs": [],
   "source": [
    "#Train test split for dataset \n",
    "X_train,X_test,Y_train,Y_test = train_test_split(X,Y,test_size = 0.2)\n",
    "train_data = dataset.CustomDataset(X_train,Y_train)\n",
    "test_data = dataset.CustomDataset(X_test,Y_test)\n"
   ]
  },
  {
   "cell_type": "markdown",
   "id": "a9a1af34",
   "metadata": {
    "id": "a9a1af34",
    "papermill": {
     "duration": null,
     "end_time": null,
     "exception": null,
     "start_time": null,
     "status": "completed"
    },
    "tags": []
   },
   "source": [
    "## Training Parameters "
   ]
  },
  {
   "cell_type": "code",
   "execution_count": null,
   "id": "952b7fc8",
   "metadata": {
    "id": "952b7fc8",
    "papermill": {
     "duration": null,
     "end_time": null,
     "exception": null,
     "start_time": null,
     "status": "completed"
    },
    "tags": []
   },
   "outputs": [],
   "source": [
    "batch_size = 32\n",
    "n_epochs = 1000\n",
    "#Select the device \n",
    "device = torch.device('cuda' if torch.cuda.is_available() else 'cpu')"
   ]
  },
  {
   "cell_type": "markdown",
   "id": "a95e1600",
   "metadata": {
    "id": "a95e1600",
    "papermill": {
     "duration": null,
     "end_time": null,
     "exception": null,
     "start_time": null,
     "status": "completed"
    },
    "tags": []
   },
   "source": [
    "# ABC Pre-generator Model \n",
    "\n",
    "1. The catboost model is used as a pre-generator model for the ABC-GAN. \n",
    "2. The model is first trained on the entire dataset \n",
    "3. It generats X,Y pairs and we add some Gaussian noise with mean 0 and variance 1 to it which is then feed as input to the generator.\n"
   ]
  },
  {
   "cell_type": "code",
   "execution_count": null,
   "id": "ff8ce7bd",
   "metadata": {
    "id": "ff8ce7bd",
    "papermill": {
     "duration": null,
     "end_time": null,
     "exception": null,
     "start_time": null,
     "status": "completed"
    },
    "tags": []
   },
   "outputs": [],
   "source": [
    "#Train the Model \n",
    "prior_model = ctb.CatBoostRegressor()\n",
    "prior_model.fit(X_train,Y_train)"
   ]
  },
  {
   "cell_type": "code",
   "execution_count": null,
   "id": "af65dcda",
   "metadata": {
    "id": "af65dcda",
    "papermill": {
     "duration": null,
     "end_time": null,
     "exception": null,
     "start_time": null,
     "status": "completed"
    },
    "tags": []
   },
   "outputs": [],
   "source": [
    "y_pred = prior_model.predict(X_test)\n",
    "y_abc = y_pred + np.random.normal(0,variance, y_pred.shape)\n",
    "mse = mean_squared_error(y_pred,Y_test)\n",
    "sb.glue(\"Prior Model MSE\",mse)\n",
    "mse = mean_squared_error(y_abc,Y_test)\n",
    "sb.glue(\"ABC Pre-generator MSE\",mse)\n",
    "\n",
    "mae = mean_absolute_error(y_pred,Y_test)\n",
    "sb.glue(\"Prior Model MSE\",mae)\n",
    "mae = mean_absolute_error(y_abc,Y_test)\n",
    "sb.glue(\"ABC Pre-generator MSE\",mae)"
   ]
  },
  {
   "cell_type": "markdown",
   "id": "130f3a4d",
   "metadata": {
    "id": "130f3a4d",
    "papermill": {
     "duration": null,
     "end_time": null,
     "exception": null,
     "start_time": null,
     "status": "completed"
    },
    "tags": []
   },
   "source": [
    "# ABC - GAN Model with skip connection"
   ]
  },
  {
   "cell_type": "code",
   "execution_count": null,
   "id": "4e43dad1",
   "metadata": {
    "id": "4e43dad1",
    "papermill": {
     "duration": null,
     "end_time": null,
     "exception": null,
     "start_time": null,
     "status": "completed"
    },
    "tags": []
   },
   "outputs": [],
   "source": [
    "#Generator\n",
    "gen3 = network.GeneratorWithSkipConnection(n_features+1).to(device)\n",
    "constraints=network.weightConstraint()\n",
    "#Discriminator \n",
    "disc3 = network.Discriminator(n_features+1).to(device)\n",
    "\n",
    "criterion = torch.nn.BCELoss()\n",
    "gen_opt = torch.optim.Adam(gen3.parameters(), lr=0.001, betas=(0.5, 0.999))\n",
    "disc_opt = torch.optim.Adam(disc3.parameters(), lr=0.001, betas=(0.5, 0.999))\n"
   ]
  },
  {
   "cell_type": "code",
   "execution_count": null,
   "id": "26acbc37",
   "metadata": {
    "id": "26acbc37",
    "papermill": {
     "duration": null,
     "end_time": null,
     "exception": null,
     "start_time": null,
     "status": "completed"
    },
    "tags": []
   },
   "outputs": [],
   "source": [
    "ABC_train_test2.training_GAN_skip_connection(disc3,gen3,disc_opt,gen_opt,train_data,batch_size,n_epochs,criterion,prior_model,variance,device)"
   ]
  },
  {
   "cell_type": "code",
   "execution_count": null,
   "id": "c5e0717b",
   "metadata": {
    "id": "c5e0717b",
    "papermill": {
     "duration": null,
     "end_time": null,
     "exception": null,
     "start_time": null,
     "status": "completed"
    },
    "tags": []
   },
   "outputs": [],
   "source": [
    "ABC_GAN3_metrics=ABC_train_test2.test_generator(gen3,test_data,prior_model,variance,\"3\",device)\n",
    "sb.glue(\"ABC_GAN_3 Metrics\",ABC_GAN3_metrics)\n",
    "\n",
    "print(\"MSE\")\n",
    "print(mean(ABC_GAN3_metrics[0]))"
   ]
  },
  {
   "cell_type": "code",
   "execution_count": null,
   "id": "c8e46b48",
   "metadata": {
    "id": "c8e46b48",
    "papermill": {
     "duration": null,
     "end_time": null,
     "exception": null,
     "start_time": null,
     "status": "completed"
    },
    "tags": []
   },
   "outputs": [],
   "source": [
    "sanityChecks.discProbVsError(train_data,disc3,device)\n",
    "sanityChecks.discProbVsError(test_data,disc3,device)"
   ]
  },
  {
   "cell_type": "markdown",
   "id": "a5bd74c3",
   "metadata": {
    "id": "a5bd74c3",
    "papermill": {
     "duration": null,
     "end_time": null,
     "exception": null,
     "start_time": null,
     "status": "completed"
    },
    "tags": []
   },
   "source": [
    "## Skip Connection Model Analysis - ABC-GAN "
   ]
  },
  {
   "cell_type": "markdown",
   "id": "5744a8bf",
   "metadata": {
    "id": "5744a8bf",
    "papermill": {
     "duration": null,
     "end_time": null,
     "exception": null,
     "start_time": null,
     "status": "completed"
    },
    "tags": []
   },
   "source": [
    "### Weight Analysis \n",
    "\n",
    "Study the weights of the skip connection layer\n",
    "\n",
    "Equation of the skip connection is \n",
    "\n",
    "$output = y_{gan} * w + y_{abc} * (1-w)$"
   ]
  },
  {
   "cell_type": "code",
   "execution_count": null,
   "id": "52c31dea",
   "metadata": {
    "id": "52c31dea",
    "papermill": {
     "duration": null,
     "end_time": null,
     "exception": null,
     "start_time": null,
     "status": "completed"
    },
    "tags": []
   },
   "outputs": [],
   "source": [
    "print(\"Weight of the node at skip connection\")\n",
    "for name,param in gen3.named_parameters():\n",
    "    if(name == \"skipNode.weight\"):\n",
    "        print(param)\n",
    "        sb.glue(\"Skip Connection Weight\",param.item())"
   ]
  }
 ],
 "metadata": {
  "colab": {
   "collapsed_sections": [],
   "name": "ABC_GAN_Model-Catboost_Pre-gen.ipynb",
   "provenance": []
  },
  "interpreter": {
   "hash": "31f2aee4e71d21fbe5cf8b01ff0e069b9275f58929596ceb00d14d90e3e16cd6"
  },
  "kernelspec": {
   "display_name": "Python 3 (ipykernel)",
   "language": "python",
   "name": "python3"
  },
  "language_info": {
   "codemirror_mode": {
    "name": "ipython",
    "version": 3
   },
   "file_extension": ".py",
   "mimetype": "text/x-python",
   "name": "python",
   "nbconvert_exporter": "python",
   "pygments_lexer": "ipython3",
   "version": "3.8.11"
  },
  "papermill": {
   "default_parameters": {},
   "duration": 1.596715,
   "end_time": "2022-02-13T10:26:09.988274",
   "environment_variables": {},
   "exception": null,
   "input_path": "ABC_GAN-Catboost.ipynb",
   "output_path": "./ABC_GAN_Catboost/ABC-GAN_output_7_2.ipynb",
   "parameters": {
    "variance": 0.01
   },
   "start_time": "2022-02-13T10:26:08.391559",
   "version": "2.3.3"
  }
 },
 "nbformat": 4,
 "nbformat_minor": 5
}