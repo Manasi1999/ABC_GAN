{
 "cells": [
  {
   "cell_type": "code",
   "execution_count": 1,
   "id": "423b7ca4",
   "metadata": {},
   "outputs": [],
   "source": [
    "import warnings\n",
    "warnings.filterwarnings('ignore')"
   ]
  },
  {
   "cell_type": "code",
   "execution_count": 2,
   "id": "618121c9",
   "metadata": {},
   "outputs": [],
   "source": [
    "import scrapbook as sb \n",
    "import pandas as pd\n",
    "import numpy as np \n",
    "import seaborn as sns \n",
    "import numpy as np\n",
    "from statistics import mean\n",
    "import matplotlib.pyplot as plt"
   ]
  },
  {
   "cell_type": "markdown",
   "id": "8842137f",
   "metadata": {},
   "source": [
    "# Baseline "
   ]
  },
  {
   "cell_type": "code",
   "execution_count": 11,
   "id": "a9dce367",
   "metadata": {},
   "outputs": [
    {
     "data": {
      "text/html": [
       "<div>\n",
       "<style scoped>\n",
       "    .dataframe tbody tr th:only-of-type {\n",
       "        vertical-align: middle;\n",
       "    }\n",
       "\n",
       "    .dataframe tbody tr th {\n",
       "        vertical-align: top;\n",
       "    }\n",
       "\n",
       "    .dataframe thead th {\n",
       "        text-align: right;\n",
       "    }\n",
       "</style>\n",
       "<table border=\"1\" class=\"dataframe\">\n",
       "  <thead>\n",
       "    <tr style=\"text-align: right;\">\n",
       "      <th></th>\n",
       "      <th>Stats Model</th>\n",
       "      <th>Catboost</th>\n",
       "    </tr>\n",
       "  </thead>\n",
       "  <tbody>\n",
       "    <tr>\n",
       "      <th>0</th>\n",
       "      <td>0.206277</td>\n",
       "      <td>0.019123</td>\n",
       "    </tr>\n",
       "    <tr>\n",
       "      <th>1</th>\n",
       "      <td>0.263053</td>\n",
       "      <td>0.042150</td>\n",
       "    </tr>\n",
       "    <tr>\n",
       "      <th>2</th>\n",
       "      <td>0.294179</td>\n",
       "      <td>0.116115</td>\n",
       "    </tr>\n",
       "    <tr>\n",
       "      <th>3</th>\n",
       "      <td>0.290315</td>\n",
       "      <td>0.175373</td>\n",
       "    </tr>\n",
       "    <tr>\n",
       "      <th>4</th>\n",
       "      <td>0.252740</td>\n",
       "      <td>0.040753</td>\n",
       "    </tr>\n",
       "    <tr>\n",
       "      <th>5</th>\n",
       "      <td>0.216558</td>\n",
       "      <td>0.041667</td>\n",
       "    </tr>\n",
       "    <tr>\n",
       "      <th>6</th>\n",
       "      <td>0.230875</td>\n",
       "      <td>0.028887</td>\n",
       "    </tr>\n",
       "    <tr>\n",
       "      <th>7</th>\n",
       "      <td>0.339092</td>\n",
       "      <td>0.056652</td>\n",
       "    </tr>\n",
       "    <tr>\n",
       "      <th>8</th>\n",
       "      <td>0.281234</td>\n",
       "      <td>0.079000</td>\n",
       "    </tr>\n",
       "    <tr>\n",
       "      <th>9</th>\n",
       "      <td>0.297648</td>\n",
       "      <td>0.020032</td>\n",
       "    </tr>\n",
       "  </tbody>\n",
       "</table>\n",
       "</div>"
      ],
      "text/plain": [
       "   Stats Model  Catboost\n",
       "0     0.206277  0.019123\n",
       "1     0.263053  0.042150\n",
       "2     0.294179  0.116115\n",
       "3     0.290315  0.175373\n",
       "4     0.252740  0.040753\n",
       "5     0.216558  0.041667\n",
       "6     0.230875  0.028887\n",
       "7     0.339092  0.056652\n",
       "8     0.281234  0.079000\n",
       "9     0.297648  0.020032"
      ]
     },
     "metadata": {},
     "output_type": "display_data"
    },
    {
     "name": "stdout",
     "output_type": "stream",
     "text": [
      "Stats Model    0.267197\n",
      "Catboost       0.061975\n",
      "dtype: float64\n"
     ]
    }
   ],
   "source": [
    "books = sb.read_notebooks(\"./BaseLine_Model_Output\")\n",
    "baseLine_data = []\n",
    "for nb in books.notebooks: \n",
    "    nbList=[nb.scraps['Stats Model MAE'].data,nb.scraps['Catboost MAE'].data]\n",
    "    baseLine_data.append(nbList)\n",
    "df = pd.DataFrame(baseLine_data, columns = [\"Stats Model\",\"Catboost\"])\n",
    "#baseLine_data = np.reshape(baseLine_data,(2,10))\n",
    "display(df)\n",
    "print(df.mean())"
   ]
  },
  {
   "cell_type": "markdown",
   "id": "2ef4d014",
   "metadata": {},
   "source": [
    "# GAN Model"
   ]
  },
  {
   "cell_type": "code",
   "execution_count": 12,
   "id": "ce2d028d",
   "metadata": {},
   "outputs": [
    {
     "data": {
      "text/html": [
       "<style type=\"text/css\">\n",
       "</style>\n",
       "<table id=\"T_3ae2a_\">\n",
       "  <thead>\n",
       "    <tr>\n",
       "      <th class=\"blank level0\" >&nbsp;</th>\n",
       "      <th class=\"col_heading level0 col0\" >MSE</th>\n",
       "      <th class=\"col_heading level0 col1\" >MAE</th>\n",
       "      <th class=\"col_heading level0 col2\" >Euclidean Distance</th>\n",
       "      <th class=\"col_heading level0 col3\" >Manhattan Distance</th>\n",
       "    </tr>\n",
       "  </thead>\n",
       "  <tbody>\n",
       "    <tr>\n",
       "      <th id=\"T_3ae2a_level0_row0\" class=\"row_heading level0 row0\" >0</th>\n",
       "      <td id=\"T_3ae2a_row0_col0\" class=\"data row0 col0\" >0.003925</td>\n",
       "      <td id=\"T_3ae2a_row0_col1\" class=\"data row0 col1\" >0.046379</td>\n",
       "      <td id=\"T_3ae2a_row0_col2\" class=\"data row0 col2\" >0.278253</td>\n",
       "      <td id=\"T_3ae2a_row0_col3\" class=\"data row0 col3\" >0.927583</td>\n",
       "    </tr>\n",
       "    <tr>\n",
       "      <th id=\"T_3ae2a_level0_row1\" class=\"row_heading level0 row1\" >1</th>\n",
       "      <td id=\"T_3ae2a_row1_col0\" class=\"data row1 col0\" >0.015190</td>\n",
       "      <td id=\"T_3ae2a_row1_col1\" class=\"data row1 col1\" >0.090338</td>\n",
       "      <td id=\"T_3ae2a_row1_col2\" class=\"data row1 col2\" >0.550521</td>\n",
       "      <td id=\"T_3ae2a_row1_col3\" class=\"data row1 col3\" >1.806768</td>\n",
       "    </tr>\n",
       "    <tr>\n",
       "      <th id=\"T_3ae2a_level0_row2\" class=\"row_heading level0 row2\" >2</th>\n",
       "      <td id=\"T_3ae2a_row2_col0\" class=\"data row2 col0\" >0.003680</td>\n",
       "      <td id=\"T_3ae2a_row2_col1\" class=\"data row2 col1\" >0.050162</td>\n",
       "      <td id=\"T_3ae2a_row2_col2\" class=\"data row2 col2\" >0.270881</td>\n",
       "      <td id=\"T_3ae2a_row2_col3\" class=\"data row2 col3\" >1.003233</td>\n",
       "    </tr>\n",
       "    <tr>\n",
       "      <th id=\"T_3ae2a_level0_row3\" class=\"row_heading level0 row3\" >3</th>\n",
       "      <td id=\"T_3ae2a_row3_col0\" class=\"data row3 col0\" >0.002585</td>\n",
       "      <td id=\"T_3ae2a_row3_col1\" class=\"data row3 col1\" >0.039138</td>\n",
       "      <td id=\"T_3ae2a_row3_col2\" class=\"data row3 col2\" >0.226374</td>\n",
       "      <td id=\"T_3ae2a_row3_col3\" class=\"data row3 col3\" >0.782752</td>\n",
       "    </tr>\n",
       "    <tr>\n",
       "      <th id=\"T_3ae2a_level0_row4\" class=\"row_heading level0 row4\" >4</th>\n",
       "      <td id=\"T_3ae2a_row4_col0\" class=\"data row4 col0\" >0.010736</td>\n",
       "      <td id=\"T_3ae2a_row4_col1\" class=\"data row4 col1\" >0.082382</td>\n",
       "      <td id=\"T_3ae2a_row4_col2\" class=\"data row4 col2\" >0.462688</td>\n",
       "      <td id=\"T_3ae2a_row4_col3\" class=\"data row4 col3\" >1.647635</td>\n",
       "    </tr>\n",
       "    <tr>\n",
       "      <th id=\"T_3ae2a_level0_row5\" class=\"row_heading level0 row5\" >5</th>\n",
       "      <td id=\"T_3ae2a_row5_col0\" class=\"data row5 col0\" >0.004975</td>\n",
       "      <td id=\"T_3ae2a_row5_col1\" class=\"data row5 col1\" >0.057724</td>\n",
       "      <td id=\"T_3ae2a_row5_col2\" class=\"data row5 col2\" >0.315023</td>\n",
       "      <td id=\"T_3ae2a_row5_col3\" class=\"data row5 col3\" >1.154474</td>\n",
       "    </tr>\n",
       "    <tr>\n",
       "      <th id=\"T_3ae2a_level0_row6\" class=\"row_heading level0 row6\" >6</th>\n",
       "      <td id=\"T_3ae2a_row6_col0\" class=\"data row6 col0\" >0.006896</td>\n",
       "      <td id=\"T_3ae2a_row6_col1\" class=\"data row6 col1\" >0.066599</td>\n",
       "      <td id=\"T_3ae2a_row6_col2\" class=\"data row6 col2\" >0.370883</td>\n",
       "      <td id=\"T_3ae2a_row6_col3\" class=\"data row6 col3\" >1.331986</td>\n",
       "    </tr>\n",
       "    <tr>\n",
       "      <th id=\"T_3ae2a_level0_row7\" class=\"row_heading level0 row7\" >7</th>\n",
       "      <td id=\"T_3ae2a_row7_col0\" class=\"data row7 col0\" >0.004594</td>\n",
       "      <td id=\"T_3ae2a_row7_col1\" class=\"data row7 col1\" >0.050541</td>\n",
       "      <td id=\"T_3ae2a_row7_col2\" class=\"data row7 col2\" >0.302654</td>\n",
       "      <td id=\"T_3ae2a_row7_col3\" class=\"data row7 col3\" >1.010813</td>\n",
       "    </tr>\n",
       "    <tr>\n",
       "      <th id=\"T_3ae2a_level0_row8\" class=\"row_heading level0 row8\" >8</th>\n",
       "      <td id=\"T_3ae2a_row8_col0\" class=\"data row8 col0\" >0.007402</td>\n",
       "      <td id=\"T_3ae2a_row8_col1\" class=\"data row8 col1\" >0.065142</td>\n",
       "      <td id=\"T_3ae2a_row8_col2\" class=\"data row8 col2\" >0.384195</td>\n",
       "      <td id=\"T_3ae2a_row8_col3\" class=\"data row8 col3\" >1.302832</td>\n",
       "    </tr>\n",
       "    <tr>\n",
       "      <th id=\"T_3ae2a_level0_row9\" class=\"row_heading level0 row9\" >9</th>\n",
       "      <td id=\"T_3ae2a_row9_col0\" class=\"data row9 col0\" >0.007516</td>\n",
       "      <td id=\"T_3ae2a_row9_col1\" class=\"data row9 col1\" >0.063800</td>\n",
       "      <td id=\"T_3ae2a_row9_col2\" class=\"data row9 col2\" >0.385625</td>\n",
       "      <td id=\"T_3ae2a_row9_col3\" class=\"data row9 col3\" >1.275995</td>\n",
       "    </tr>\n",
       "  </tbody>\n",
       "</table>\n"
      ],
      "text/plain": [
       "<pandas.io.formats.style.Styler at 0x7fcf88a5fd90>"
      ]
     },
     "metadata": {},
     "output_type": "display_data"
    },
    {
     "name": "stdout",
     "output_type": "stream",
     "text": [
      "MEAN:\n",
      "MSE                   0.006750\n",
      "MAE                   0.061220\n",
      "Euclidean Distance    0.354710\n",
      "Manhattan Distance    1.224407\n",
      "dtype: float64\n"
     ]
    }
   ],
   "source": [
    "book = sb.read_notebooks(\"./GAN_Output\")\n",
    "gan_data = []\n",
    "gan_mse = []\n",
    "for nb in book.notebooks:\n",
    "    metrics = nb.scraps['GAN_1 Metrics'].data\n",
    "    for i in range(1000):\n",
    "        gan_mse.append(metrics[0][i])\n",
    "    nbList = [nb.scraps['GAN Model MSE'].data,\n",
    "              nb.scraps['GAN Model MAE'].data,\n",
    "              nb.scraps['GAN Model Euclidean distance'].data,\n",
    "              nb.scraps['GAN Model Manhattan Distance'].data]        \n",
    "    gan_data.append(nbList)\n",
    "    \n",
    "df = pd.DataFrame(gan_data, columns = ['MSE','MAE','Euclidean Distance','Manhattan Distance'])\n",
    "display(df.style)\n",
    "print(\"MEAN:\")\n",
    "print(df.mean(axis = 0))\n",
    "gan_data = np.array(gan_data)"
   ]
  },
  {
   "cell_type": "markdown",
   "id": "db69b3bd",
   "metadata": {},
   "source": [
    "# ABC_GAN Analysis"
   ]
  },
  {
   "cell_type": "markdown",
   "id": "930ab0e5",
   "metadata": {},
   "source": [
    "## ABC Pre-generator - Catboost \n"
   ]
  },
  {
   "cell_type": "code",
   "execution_count": null,
   "id": "ea491444",
   "metadata": {},
   "outputs": [],
   "source": [
    "book = sb.read_notebooks(\"./ABC_GAN_Catboost\")\n",
    "paramVal = [1,0.1,0.01]\n",
    "abc_mae = [[] for i in range(3)]\n",
    "abc_mae_skip = [[] for i in range(3)]\n",
    "abc_mae_mean = [[] for i in range(3)]\n",
    "abc_mae_skip_mean = [[] for i in range(3)]\n",
    "abc_weights = [[] for i in range(3)]\n",
    "prior_model = [[] for i in range(3)]\n",
    "abc_pre_generator = [[] for i in range(3)]\n",
    "\n",
    "for nb in book.notebooks:\n",
    "    metrics1 = np.array(nb.scraps['ABC_GAN_1 Metrics'].data)\n",
    "    metrics3 = np.array(nb.scraps['ABC_GAN_3 Metrics'].data)\n",
    "    paramVar = float(nb.papermill_dataframe.iloc[0]['value'])\n",
    "    \n",
    "    #Divide data according to parameters \n",
    "    for i in range(3):\n",
    "        if paramVar == paramVal[i]:\n",
    "            for j in range(100):\n",
    "                abc_mae[i].append(metrics1[1,j])\n",
    "                abc_mae_skip[i].append(metrics3[1,j])\n",
    "            abc_weights[i].append(nb.scraps['Skip Connection Weight'].data)\n",
    "            prior_model[i].append(nb.scraps['Prior Model MSE'].data)\n",
    "            abc_pre_generator[i].append(nb.scraps['ABC Pre-generator MSE'].data)\n",
    "            abc_mae_skip_mean[i].append(mean(metrics3[1,:]))\n",
    "            abc_mae_mean[i].append(mean(metrics1[1,:]))"
   ]
  },
  {
   "cell_type": "code",
   "execution_count": null,
   "id": "d0d13f91",
   "metadata": {},
   "outputs": [],
   "source": [
    "for i in range(3):\n",
    "    data = []\n",
    "    for j in range(len(abc_weights[i])):\n",
    "        data.append([paramVal[i],prior_model[i][j],\n",
    "                     abc_pre_generator[i][j],abc_weights[i][j],abc_mae_mean[i][j],abc_mae_skip_mean[i][j]])\n",
    "    \n",
    "    df = pd.DataFrame(data, columns = ['Variance','Prior Model MAE',\n",
    "                                       'ABC pre-generator MAE','Skip Node weight','ABC GAN MAE','ABC_GAN MAE (skip connection)'])\n",
    "    display(df.round(5))\n",
    "    print(df.mean(axis=0))\n",
    "    print(\"-------------------------------------------------------------\")"
   ]
  },
  {
   "cell_type": "markdown",
   "id": "930ab0e5",
   "metadata": {},
   "source": [
    "## ABC Pre-generator - Stats \n"
   ]
  },
  {
   "cell_type": "code",
   "execution_count": 5,
   "id": "ea491444",
   "metadata": {},
   "outputs": [],
   "source": [
    "book = sb.read_notebooks(\"./ABC_GAN_Stats\")\n",
    "paramVal = [1,0.1,0.01]\n",
    "abc_mae = [[] for i in range(3)]\n",
    "abc_mae_skip = [[] for i in range(3)]\n",
    "abc_mae_mean = [[] for i in range(3)]\n",
    "abc_mae_skip_mean = [[] for i in range(3)]\n",
    "abc_weights = [[] for i in range(3)]\n",
    "prior_model = [[] for i in range(3)]\n",
    "abc_pre_generator = [[] for i in range(3)]\n",
    "\n",
    "for nb in book.notebooks:\n",
    "    metrics1 = np.array(nb.scraps['ABC_GAN_1 Metrics'].data)\n",
    "    metrics3 = np.array(nb.scraps['ABC_GAN_3 Metrics'].data)\n",
    "    paramVar = float(nb.papermill_dataframe.iloc[0]['value'])\n",
    "    \n",
    "    #Divide data according to parameters \n",
    "    for i in range(3):\n",
    "        if paramVar == paramVal[i]:\n",
    "            for j in range(100):\n",
    "                abc_mae[i].append(metrics1[1,j])\n",
    "                abc_mae_skip[i].append(metrics3[1,j])\n",
    "            abc_weights[i].append(nb.scraps['Skip Connection Weight'].data)\n",
    "            prior_model[i].append(nb.scraps['Prior Model MSE'].data)\n",
    "            abc_pre_generator[i].append(nb.scraps['ABC Pre-generator MSE'].data)\n",
    "            abc_mae_skip_mean[i].append(mean(metrics3[1,:]))\n",
    "            abc_mae_mean[i].append(mean(metrics1[1,:]))"
   ]
  },
  {
   "cell_type": "code",
   "execution_count": null,
   "id": "d0d13f91",
   "metadata": {},
   "outputs": [],
   "source": [
    "for i in range(3):\n",
    "    data = []\n",
    "    for j in range(len(abc_weights[i])):\n",
    "        data.append([paramVal[i],prior_model[i][j],\n",
    "                     abc_pre_generator[i][j],abc_weights[i][j],abc_mae_mean[i][j],abc_mae_skip_mean[i][j]])\n",
    "    \n",
    "    df = pd.DataFrame(data, columns = ['Variance','Prior Model MAE',\n",
    "                                       'ABC pre-generator MAE','Skip Node weight','ABC GAN MAE','ABC_GAN MAE (skip connection)'])\n",
    "    display(df.round(5))\n",
    "    print(df.mean(axis=0))\n",
    "    print(\"-------------------------------------------------------------\")"
   ]
  }
 ],
 "metadata": {
  "interpreter": {
   "hash": "10498c76ddd8160350534c6544a2b2fb65f2138dbc70420f7c81a3268f830f23"
  },
  "kernelspec": {
   "display_name": "papermill-tutorial",
   "language": "python",
   "name": "python3"
  },
  "language_info": {
   "codemirror_mode": {
    "name": "ipython",
    "version": 3
   },
   "file_extension": ".py",
   "mimetype": "text/x-python",
   "name": "python",
   "nbconvert_exporter": "python",
   "pygments_lexer": "ipython3",
   "version": "3.8.11"
  }
 },
 "nbformat": 4,
 "nbformat_minor": 5
}
