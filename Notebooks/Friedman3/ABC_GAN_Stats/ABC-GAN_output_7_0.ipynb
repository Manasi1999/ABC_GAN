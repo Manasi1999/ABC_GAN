{
 "cells": [
  {
   "cell_type": "markdown",
   "id": "0a1d0fc9",
   "metadata": {
    "tags": [
     "papermill-error-cell-tag"
    ]
   },
   "source": [
    "<span style=\"color:red; font-family:Helvetica Neue, Helvetica, Arial, sans-serif; font-size:2em;\">An Exception was encountered at '<a href=\"#papermill-error-cell\">In [10]</a>'.</span>"
   ]
  },
  {
   "cell_type": "markdown",
   "id": "622780e6",
   "metadata": {
    "papermill": {
     "duration": 0.025492,
     "end_time": "2022-02-13T10:17:50.320140",
     "exception": false,
     "start_time": "2022-02-13T10:17:50.294648",
     "status": "completed"
    },
    "tags": []
   },
   "source": [
    "## Import Libraries "
   ]
  },
  {
   "cell_type": "code",
   "execution_count": 1,
   "id": "a62397e3",
   "metadata": {
    "execution": {
     "iopub.execute_input": "2022-02-13T10:17:50.357175Z",
     "iopub.status.busy": "2022-02-13T10:17:50.356034Z",
     "iopub.status.idle": "2022-02-13T10:17:50.359748Z",
     "shell.execute_reply": "2022-02-13T10:17:50.359055Z"
    },
    "papermill": {
     "duration": 0.02326,
     "end_time": "2022-02-13T10:17:50.359968",
     "exception": false,
     "start_time": "2022-02-13T10:17:50.336708",
     "status": "completed"
    },
    "tags": []
   },
   "outputs": [],
   "source": [
    "import warnings\n",
    "import sys\n",
    "sys.path.insert(0, '../../src')\n",
    "warnings.filterwarnings('ignore')"
   ]
  },
  {
   "cell_type": "code",
   "execution_count": 2,
   "id": "d6a4e155",
   "metadata": {
    "execution": {
     "iopub.execute_input": "2022-02-13T10:17:50.398168Z",
     "iopub.status.busy": "2022-02-13T10:17:50.396560Z",
     "iopub.status.idle": "2022-02-13T10:17:57.306553Z",
     "shell.execute_reply": "2022-02-13T10:17:57.307384Z"
    },
    "papermill": {
     "duration": 6.933029,
     "end_time": "2022-02-13T10:17:57.307673",
     "exception": false,
     "start_time": "2022-02-13T10:17:50.374644",
     "status": "completed"
    },
    "tags": []
   },
   "outputs": [],
   "source": [
    "import ABC_train_test\n",
    "import friedman3Dataset\n",
    "import network\n",
    "import dataset\n",
    "import sanityChecks\n",
    "import performanceMetrics\n",
    "import torch \n",
    "import numpy as np \n",
    "from torch.utils.data import random_split \n",
    "import scrapbook as sb\n",
    "from statistics import mean \n",
    "import statsModel\n",
    "from sklearn.metrics import mean_squared_error,mean_absolute_error\n",
    "from sklearn.model_selection import train_test_split"
   ]
  },
  {
   "cell_type": "markdown",
   "id": "e0c10419",
   "metadata": {
    "papermill": {
     "duration": 0.016371,
     "end_time": "2022-02-13T10:17:57.345930",
     "exception": false,
     "start_time": "2022-02-13T10:17:57.329559",
     "status": "completed"
    },
    "tags": []
   },
   "source": [
    "## Parameters\n",
    "ABC-Generator parameters are as mentioned below: \n",
    "1. mean : 1 ($\\beta \\sim N(\\beta^{*},\\sigma)$ where $\\beta^{*}$ are coefficients of statistical model) or 1 ($\\beta \\sim N(0,\\sigma)$\n",
    "2. std : $\\sigma = 1, 0.1 , 0.01$ (standard deviation)"
   ]
  },
  {
   "cell_type": "code",
   "execution_count": 3,
   "id": "645f85d5",
   "metadata": {
    "execution": {
     "iopub.execute_input": "2022-02-13T10:17:57.382617Z",
     "iopub.status.busy": "2022-02-13T10:17:57.381364Z",
     "iopub.status.idle": "2022-02-13T10:17:57.384146Z",
     "shell.execute_reply": "2022-02-13T10:17:57.385137Z"
    },
    "papermill": {
     "duration": 0.024836,
     "end_time": "2022-02-13T10:17:57.385443",
     "exception": false,
     "start_time": "2022-02-13T10:17:57.360607",
     "status": "completed"
    },
    "tags": [
     "parameters"
    ]
   },
   "outputs": [],
   "source": [
    "#ABC Generator Parameters\n",
    "abc_mean = 1\n",
    "variance = 1\n",
    "\n",
    "#Training parameters \n",
    "n_epochs = 1000"
   ]
  },
  {
   "cell_type": "code",
   "execution_count": 4,
   "id": "f02a25a1",
   "metadata": {
    "execution": {
     "iopub.execute_input": "2022-02-13T10:17:57.424451Z",
     "iopub.status.busy": "2022-02-13T10:17:57.422513Z",
     "iopub.status.idle": "2022-02-13T10:17:57.427380Z",
     "shell.execute_reply": "2022-02-13T10:17:57.428576Z"
    },
    "papermill": {
     "duration": 0.030957,
     "end_time": "2022-02-13T10:17:57.429560",
     "exception": false,
     "start_time": "2022-02-13T10:17:57.398603",
     "status": "completed"
    },
    "tags": [
     "injected-parameters"
    ]
   },
   "outputs": [],
   "source": [
    "# Parameters\n",
    "variance = 1\n"
   ]
  },
  {
   "cell_type": "markdown",
   "id": "391cdbfd",
   "metadata": {
    "papermill": {
     "duration": 0.017925,
     "end_time": "2022-02-13T10:17:57.469135",
     "exception": false,
     "start_time": "2022-02-13T10:17:57.451210",
     "status": "completed"
    },
    "tags": []
   },
   "source": [
    "## Dataset"
   ]
  },
  {
   "cell_type": "code",
   "execution_count": 5,
   "id": "5b51f161",
   "metadata": {
    "execution": {
     "iopub.execute_input": "2022-02-13T10:17:57.506902Z",
     "iopub.status.busy": "2022-02-13T10:17:57.502712Z",
     "iopub.status.idle": "2022-02-13T10:17:57.510087Z",
     "shell.execute_reply": "2022-02-13T10:17:57.511330Z"
    },
    "papermill": {
     "duration": 0.029567,
     "end_time": "2022-02-13T10:17:57.511846",
     "exception": false,
     "start_time": "2022-02-13T10:17:57.482279",
     "status": "completed"
    },
    "tags": []
   },
   "outputs": [],
   "source": [
    "#Parameters \n",
    "n_features = 5\n",
    "n_samples= 100\n",
    "n_target = 1 "
   ]
  },
  {
   "cell_type": "code",
   "execution_count": 6,
   "id": "5d6eced4",
   "metadata": {
    "execution": {
     "iopub.execute_input": "2022-02-13T10:17:57.550289Z",
     "iopub.status.busy": "2022-02-13T10:17:57.546974Z",
     "iopub.status.idle": "2022-02-13T10:17:57.573828Z",
     "shell.execute_reply": "2022-02-13T10:17:57.574724Z"
    },
    "papermill": {
     "duration": 0.0473,
     "end_time": "2022-02-13T10:17:57.575027",
     "exception": false,
     "start_time": "2022-02-13T10:17:57.527727",
     "status": "completed"
    },
    "tags": []
   },
   "outputs": [
    {
     "name": "stdout",
     "output_type": "stream",
     "text": [
      "          X1           X2        X3         X4         Y\n",
      "0  86.120169  1452.575028  0.799689   5.091977  1.598712\n",
      "1  71.100853  1140.716216  0.163477  10.075028  1.114333\n",
      "2  15.887914  1541.523599  0.034775  10.277808  1.298150\n",
      "3  95.148893  1580.747993  0.913896   8.056123  1.519449\n",
      "4  91.187294   478.627752  0.968119   5.278382  1.382576\n"
     ]
    }
   ],
   "source": [
    "X, Y = friedman3Dataset.friedman3_data(n_samples)\n",
    "# Train test split for dataset \n",
    "X_train,X_test,Y_train,Y_test = train_test_split(X,Y,test_size = 0.2)\n",
    "train_data = dataset.CustomDataset(X_train,Y_train)\n",
    "test_data = dataset.CustomDataset(X_test,Y_test)"
   ]
  },
  {
   "cell_type": "markdown",
   "id": "a9a1af34",
   "metadata": {
    "papermill": {
     "duration": 0.017445,
     "end_time": "2022-02-13T10:17:57.610425",
     "exception": false,
     "start_time": "2022-02-13T10:17:57.592980",
     "status": "completed"
    },
    "tags": []
   },
   "source": [
    "## Training Parameters \n",
    "\n"
   ]
  },
  {
   "cell_type": "code",
   "execution_count": 7,
   "id": "952b7fc8",
   "metadata": {
    "execution": {
     "iopub.execute_input": "2022-02-13T10:17:57.651450Z",
     "iopub.status.busy": "2022-02-13T10:17:57.649429Z",
     "iopub.status.idle": "2022-02-13T10:17:57.653452Z",
     "shell.execute_reply": "2022-02-13T10:17:57.654729Z"
    },
    "papermill": {
     "duration": 0.027952,
     "end_time": "2022-02-13T10:17:57.655114",
     "exception": false,
     "start_time": "2022-02-13T10:17:57.627162",
     "status": "completed"
    },
    "tags": []
   },
   "outputs": [],
   "source": [
    "batch_size = 32\n",
    "#Select the device \n",
    "device = torch.device('cuda' if torch.cuda.is_available() else 'cpu')"
   ]
  },
  {
   "cell_type": "markdown",
   "id": "31aeb9ed",
   "metadata": {
    "papermill": {
     "duration": 0.016863,
     "end_time": "2022-02-13T10:17:57.687646",
     "exception": false,
     "start_time": "2022-02-13T10:17:57.670783",
     "status": "completed"
    },
    "tags": []
   },
   "source": [
    "### MSE Threshold and Mean Coeff Values \n",
    "\n",
    "Fetch coefficient values from stats model to be used in the ABC pre-generator \n",
    "\n",
    "Fetch MSE threshold for training the ABC-GAN \n",
    "\n",
    "The ABC-GAN will be trained until the threshold MSE is achieved or until it completes 5000 epochs \n",
    "\n",
    "The threshold mse is the mean mse of Catboost over 10 runs"
   ]
  },
  {
   "cell_type": "code",
   "execution_count": 8,
   "id": "4595d301",
   "metadata": {
    "execution": {
     "iopub.execute_input": "2022-02-13T10:17:57.729442Z",
     "iopub.status.busy": "2022-02-13T10:17:57.725310Z",
     "iopub.status.idle": "2022-02-13T10:17:58.048765Z",
     "shell.execute_reply": "2022-02-13T10:17:58.049301Z"
    },
    "papermill": {
     "duration": 0.347886,
     "end_time": "2022-02-13T10:17:58.049586",
     "exception": false,
     "start_time": "2022-02-13T10:17:57.701700",
     "status": "completed"
    },
    "tags": []
   },
   "outputs": [
    {
     "name": "stdout",
     "output_type": "stream",
     "text": [
      "                            OLS Regression Results                            \n",
      "==============================================================================\n",
      "Dep. Variable:                      Y   R-squared:                       0.603\n",
      "Model:                            OLS   Adj. R-squared:                  0.582\n",
      "Method:                 Least Squares   F-statistic:                     28.53\n",
      "Date:                Sun, 13 Feb 2022   Prob (F-statistic):           2.04e-14\n",
      "Time:                        15:47:57   Log-Likelihood:                -76.938\n",
      "No. Observations:                  80   AIC:                             163.9\n",
      "Df Residuals:                      75   BIC:                             175.8\n",
      "Df Model:                           4                                         \n",
      "Covariance Type:            nonrobust                                         \n",
      "==============================================================================\n",
      "                 coef    std err          t      P>|t|      [0.025      0.975]\n",
      "------------------------------------------------------------------------------\n",
      "const          0.0204      0.073      0.278      0.782      -0.126       0.166\n",
      "x1            -0.2199      0.078     -2.806      0.006      -0.376      -0.064\n",
      "x2             0.4679      0.076      6.132      0.000       0.316       0.620\n",
      "x3             0.5276      0.075      7.019      0.000       0.378       0.677\n",
      "x4             0.0290      0.076      0.380      0.705      -0.123       0.181\n",
      "==============================================================================\n",
      "Omnibus:                       19.691   Durbin-Watson:                   2.006\n",
      "Prob(Omnibus):                  0.000   Jarque-Bera (JB):               30.151\n",
      "Skew:                          -0.997   Prob(JB):                     2.84e-07\n",
      "Kurtosis:                       5.252   Cond. No.                         1.47\n",
      "==============================================================================\n",
      "\n",
      "Notes:\n",
      "[1] Standard Errors assume that the covariance matrix of the errors is correctly specified.\n"
     ]
    },
    {
     "name": "stderr",
     "output_type": "stream",
     "text": [
      "No handles with labels found to put in legend.\n"
     ]
    },
    {
     "data": {
      "image/png": "[encoded data removed]",
      "text/plain": [
       "<Figure size 432x288 with 1 Axes>"
      ]
     },
     "metadata": {
      "needs_background": "light"
     },
     "output_type": "display_data"
    },
    {
     "name": "stdout",
     "output_type": "stream",
     "text": [
      "Performance Metrics\n",
      "Mean Squared Error: 0.38133399965976994\n",
      "Mean Absolute Error: 0.51640784201689\n",
      "Manhattan distance: 10.328156840337801\n",
      "Euclidean distance: 2.76164443641744\n"
     ]
    },
    {
     "data": {
      "application/scrapbook.scrap.json+json": {
       "data": 0.38133399965976994,
       "encoder": "json",
       "name": "Stats Model MSE",
       "version": 1
      }
     },
     "metadata": {
      "scrapbook": {
       "data": true,
       "display": false,
       "name": "Stats Model MSE"
      }
     },
     "output_type": "display_data"
    },
    {
     "data": {
      "application/scrapbook.scrap.json+json": {
       "data": 0.51640784201689,
       "encoder": "json",
       "name": "Stats Model MAE",
       "version": 1
      }
     },
     "metadata": {
      "scrapbook": {
       "data": true,
       "display": false,
       "name": "Stats Model MAE"
      }
     },
     "output_type": "display_data"
    },
    {
     "data": {
      "application/scrapbook.scrap.json+json": {
       "data": 10.328156840337801,
       "encoder": "json",
       "name": "Stats Model Manhattan Distance",
       "version": 1
      }
     },
     "metadata": {
      "scrapbook": {
       "data": true,
       "display": false,
       "name": "Stats Model Manhattan Distance"
      }
     },
     "output_type": "display_data"
    },
    {
     "data": {
      "application/scrapbook.scrap.json+json": {
       "data": 2.76164443641744,
       "encoder": "json",
       "name": "Stats Model Euclidean distance",
       "version": 1
      }
     },
     "metadata": {
      "scrapbook": {
       "data": true,
       "display": false,
       "name": "Stats Model Euclidean distance"
      }
     },
     "output_type": "display_data"
    },
    {
     "data": {
      "application/scrapbook.scrap.json+json": {
       "data": 0.38133399965976994,
       "encoder": "json",
       "name": "Prior Model MSE",
       "version": 1
      }
     },
     "metadata": {
      "scrapbook": {
       "data": true,
       "display": false,
       "name": "Prior Model MSE"
      }
     },
     "output_type": "display_data"
    },
    {
     "data": {
      "application/scrapbook.scrap.json+json": {
       "data": 1.6022043948514828,
       "encoder": "json",
       "name": "ABC Pre-generator MSE",
       "version": 1
      }
     },
     "metadata": {
      "scrapbook": {
       "data": true,
       "display": false,
       "name": "ABC Pre-generator MSE"
      }
     },
     "output_type": "display_data"
    },
    {
     "data": {
      "application/scrapbook.scrap.json+json": {
       "data": 0.51640784201689,
       "encoder": "json",
       "name": "Prior Model MSE",
       "version": 1
      }
     },
     "metadata": {
      "scrapbook": {
       "data": true,
       "display": false,
       "name": "Prior Model MSE"
      }
     },
     "output_type": "display_data"
    },
    {
     "data": {
      "application/scrapbook.scrap.json+json": {
       "data": 1.004511168860894,
       "encoder": "json",
       "name": "ABC Pre-generator MSE",
       "version": 1
      }
     },
     "metadata": {
      "scrapbook": {
       "data": true,
       "display": false,
       "name": "ABC Pre-generator MSE"
      }
     },
     "output_type": "display_data"
    }
   ],
   "source": [
    "coeff , y_pred =statsModel.statsModel(X_train,Y_train,X_test,Y_test)\n",
    "y_abc = y_pred + np.random.normal(0,variance, y_pred.shape)\n",
    "mse = mean_squared_error(y_pred,Y_test)\n",
    "sb.glue(\"Prior Model MSE\",mse)\n",
    "mse = mean_squared_error(y_abc,Y_test)\n",
    "sb.glue(\"ABC Pre-generator MSE\",mse)\n",
    "\n",
    "mae = mean_absolute_error(y_pred,Y_test)\n",
    "sb.glue(\"Prior Model MSE\",mae)\n",
    "mae = mean_absolute_error(y_abc,Y_test)\n",
    "sb.glue(\"ABC Pre-generator MSE\",mae)"
   ]
  },
  {
   "cell_type": "markdown",
   "id": "130f3a4d",
   "metadata": {
    "papermill": {
     "duration": 0.024847,
     "end_time": "2022-02-13T10:17:58.101401",
     "exception": false,
     "start_time": "2022-02-13T10:17:58.076554",
     "status": "completed"
    },
    "tags": []
   },
   "source": [
    "# ABC - GAN Model with skip connection"
   ]
  },
  {
   "cell_type": "code",
   "execution_count": 9,
   "id": "4e43dad1",
   "metadata": {
    "execution": {
     "iopub.execute_input": "2022-02-13T10:17:58.159379Z",
     "iopub.status.busy": "2022-02-13T10:17:58.156710Z",
     "iopub.status.idle": "2022-02-13T10:17:58.162843Z",
     "shell.execute_reply": "2022-02-13T10:17:58.163439Z"
    },
    "papermill": {
     "duration": 0.035587,
     "end_time": "2022-02-13T10:17:58.163669",
     "exception": false,
     "start_time": "2022-02-13T10:17:58.128082",
     "status": "completed"
    },
    "tags": []
   },
   "outputs": [],
   "source": [
    "#Generator\n",
    "gen3 = network.GeneratorWithSkipConnection(n_features+1).to(device)\n",
    "#Discriminator \n",
    "disc3 = network.Discriminator(n_features+1).to(device)\n",
    "\n",
    "criterion = torch.nn.BCELoss()\n",
    "gen_opt = torch.optim.Adam(gen3.parameters(), lr=0.01, betas=(0.5, 0.999))\n",
    "disc_opt = torch.optim.Adam(disc3.parameters(), lr=0.01, betas=(0.5, 0.999))\n"
   ]
  },
  {
   "cell_type": "markdown",
   "id": "354cbe4c",
   "metadata": {
    "tags": [
     "papermill-error-cell-tag"
    ]
   },
   "source": [
    "<span id=\"papermill-error-cell\" style=\"color:red; font-family:Helvetica Neue, Helvetica, Arial, sans-serif; font-size:2em;\">Execution using papermill encountered an exception here and stopped:</span>"
   ]
  },
  {
   "cell_type": "code",
   "execution_count": 10,
   "id": "26acbc37",
   "metadata": {
    "execution": {
     "iopub.execute_input": "2022-02-13T10:17:58.219487Z",
     "iopub.status.busy": "2022-02-13T10:17:58.216114Z",
     "iopub.status.idle": "2022-02-13T10:17:58.860156Z",
     "shell.execute_reply": "2022-02-13T10:17:58.859272Z"
    },
    "papermill": {
     "duration": 0.676076,
     "end_time": "2022-02-13T10:17:58.860515",
     "exception": true,
     "start_time": "2022-02-13T10:17:58.184439",
     "status": "failed"
    },
    "tags": []
   },
   "outputs": [
    {
     "ename": "KeyError",
     "evalue": "78",
     "output_type": "error",
     "traceback": [
      "\u001b[0;31m---------------------------------------------------------------------------\u001b[0m",
      "\u001b[0;31mKeyError\u001b[0m                                  Traceback (most recent call last)",
      "\u001b[0;32m~/opt/anaconda3/lib/python3.8/site-packages/pandas/core/indexes/base.py\u001b[0m in \u001b[0;36mget_loc\u001b[0;34m(self, key, method, tolerance)\u001b[0m\n\u001b[1;32m   3080\u001b[0m             \u001b[0;32mtry\u001b[0m\u001b[0;34m:\u001b[0m\u001b[0;34m\u001b[0m\u001b[0;34m\u001b[0m\u001b[0m\n\u001b[0;32m-> 3081\u001b[0;31m                 \u001b[0;32mreturn\u001b[0m \u001b[0mself\u001b[0m\u001b[0;34m.\u001b[0m\u001b[0m_engine\u001b[0m\u001b[0;34m.\u001b[0m\u001b[0mget_loc\u001b[0m\u001b[0;34m(\u001b[0m\u001b[0mcasted_key\u001b[0m\u001b[0;34m)\u001b[0m\u001b[0;34m\u001b[0m\u001b[0;34m\u001b[0m\u001b[0m\n\u001b[0m\u001b[1;32m   3082\u001b[0m             \u001b[0;32mexcept\u001b[0m \u001b[0mKeyError\u001b[0m \u001b[0;32mas\u001b[0m \u001b[0merr\u001b[0m\u001b[0;34m:\u001b[0m\u001b[0;34m\u001b[0m\u001b[0;34m\u001b[0m\u001b[0m\n",
      "\u001b[0;32mpandas/_libs/index.pyx\u001b[0m in \u001b[0;36mpandas._libs.index.IndexEngine.get_loc\u001b[0;34m()\u001b[0m\n",
      "\u001b[0;32mpandas/_libs/index.pyx\u001b[0m in \u001b[0;36mpandas._libs.index.IndexEngine.get_loc\u001b[0;34m()\u001b[0m\n",
      "\u001b[0;32mpandas/_libs/hashtable_class_helper.pxi\u001b[0m in \u001b[0;36mpandas._libs.hashtable.Int64HashTable.get_item\u001b[0;34m()\u001b[0m\n",
      "\u001b[0;32mpandas/_libs/hashtable_class_helper.pxi\u001b[0m in \u001b[0;36mpandas._libs.hashtable.Int64HashTable.get_item\u001b[0;34m()\u001b[0m\n",
      "\u001b[0;31mKeyError\u001b[0m: 78",
      "\nThe above exception was the direct cause of the following exception:\n",
      "\u001b[0;31mKeyError\u001b[0m                                  Traceback (most recent call last)",
      "\u001b[0;32m<ipython-input-10-3cb7f8688256>\u001b[0m in \u001b[0;36m<module>\u001b[0;34m\u001b[0m\n\u001b[0;32m----> 1\u001b[0;31m \u001b[0mdiscLossA3\u001b[0m\u001b[0;34m,\u001b[0m\u001b[0mgenLossA3\u001b[0m \u001b[0;34m=\u001b[0m \u001b[0mABC_train_test\u001b[0m\u001b[0;34m.\u001b[0m\u001b[0mtraining_GAN_skip_connection\u001b[0m\u001b[0;34m(\u001b[0m\u001b[0mdisc3\u001b[0m\u001b[0;34m,\u001b[0m \u001b[0mgen3\u001b[0m\u001b[0;34m,\u001b[0m\u001b[0mdisc_opt\u001b[0m\u001b[0;34m,\u001b[0m\u001b[0mgen_opt\u001b[0m\u001b[0;34m,\u001b[0m\u001b[0mtrain_data\u001b[0m\u001b[0;34m,\u001b[0m\u001b[0mbatch_size\u001b[0m\u001b[0;34m,\u001b[0m \u001b[0mn_epochs\u001b[0m\u001b[0;34m,\u001b[0m\u001b[0mcriterion\u001b[0m\u001b[0;34m,\u001b[0m\u001b[0mcoeff\u001b[0m\u001b[0;34m,\u001b[0m\u001b[0mabc_mean\u001b[0m\u001b[0;34m,\u001b[0m\u001b[0mvariance\u001b[0m\u001b[0;34m,\u001b[0m\u001b[0mdevice\u001b[0m\u001b[0;34m)\u001b[0m\u001b[0;34m\u001b[0m\u001b[0;34m\u001b[0m\u001b[0m\n\u001b[0m\u001b[1;32m      2\u001b[0m \u001b[0;34m\u001b[0m\u001b[0m\n\u001b[1;32m      3\u001b[0m \u001b[0msb\u001b[0m\u001b[0;34m.\u001b[0m\u001b[0mglue\u001b[0m\u001b[0;34m(\u001b[0m\u001b[0;34m\"ABC_GAN_3 Generator Loss\"\u001b[0m\u001b[0;34m,\u001b[0m\u001b[0mgenLossA3\u001b[0m\u001b[0;34m)\u001b[0m\u001b[0;34m\u001b[0m\u001b[0;34m\u001b[0m\u001b[0m\n\u001b[1;32m      4\u001b[0m \u001b[0msb\u001b[0m\u001b[0;34m.\u001b[0m\u001b[0mglue\u001b[0m\u001b[0;34m(\u001b[0m\u001b[0;34m\"ABC_GAN_3 Discriminator Loss\"\u001b[0m\u001b[0;34m,\u001b[0m\u001b[0mdiscLossA3\u001b[0m\u001b[0;34m)\u001b[0m\u001b[0;34m\u001b[0m\u001b[0;34m\u001b[0m\u001b[0m\n",
      "\u001b[0;32m~/Dropbox/My Mac (Pronoma’s MacBook Air)/Downloads/ABC_GAN-main/src/ABC_train_test.py\u001b[0m in \u001b[0;36mtraining_GAN_skip_connection\u001b[0;34m(disc, gen, disc_opt, gen_opt, dataset, batch_size, n_epochs, criterion, coeff, mean, variance, device)\u001b[0m\n\u001b[1;32m    287\u001b[0m \u001b[0;34m\u001b[0m\u001b[0m\n\u001b[1;32m    288\u001b[0m   \u001b[0;32mfor\u001b[0m \u001b[0mepoch\u001b[0m \u001b[0;32min\u001b[0m \u001b[0mrange\u001b[0m\u001b[0;34m(\u001b[0m\u001b[0mn_epochs\u001b[0m\u001b[0;34m)\u001b[0m\u001b[0;34m:\u001b[0m\u001b[0;34m\u001b[0m\u001b[0;34m\u001b[0m\u001b[0m\n\u001b[0;32m--> 289\u001b[0;31m     \u001b[0;32mfor\u001b[0m \u001b[0mx_batch\u001b[0m\u001b[0;34m,\u001b[0m\u001b[0my_batch\u001b[0m \u001b[0;32min\u001b[0m \u001b[0mtrain_loader\u001b[0m\u001b[0;34m:\u001b[0m\u001b[0;34m\u001b[0m\u001b[0;34m\u001b[0m\u001b[0m\n\u001b[0m\u001b[1;32m    290\u001b[0m       \u001b[0my_shape\u001b[0m \u001b[0;34m=\u001b[0m \u001b[0mlist\u001b[0m\u001b[0;34m(\u001b[0m\u001b[0my_batch\u001b[0m\u001b[0;34m.\u001b[0m\u001b[0msize\u001b[0m\u001b[0;34m(\u001b[0m\u001b[0;34m)\u001b[0m\u001b[0;34m)\u001b[0m\u001b[0;34m\u001b[0m\u001b[0;34m\u001b[0m\u001b[0m\n\u001b[1;32m    291\u001b[0m       \u001b[0mcurr_batch_size\u001b[0m \u001b[0;34m=\u001b[0m \u001b[0my_shape\u001b[0m\u001b[0;34m[\u001b[0m\u001b[0;36m0\u001b[0m\u001b[0;34m]\u001b[0m\u001b[0;34m\u001b[0m\u001b[0;34m\u001b[0m\u001b[0m\n",
      "\u001b[0;32m~/opt/anaconda3/lib/python3.8/site-packages/torch/utils/data/dataloader.py\u001b[0m in \u001b[0;36m__next__\u001b[0;34m(self)\u001b[0m\n\u001b[1;32m    519\u001b[0m             \u001b[0;32mif\u001b[0m \u001b[0mself\u001b[0m\u001b[0;34m.\u001b[0m\u001b[0m_sampler_iter\u001b[0m \u001b[0;32mis\u001b[0m \u001b[0;32mNone\u001b[0m\u001b[0;34m:\u001b[0m\u001b[0;34m\u001b[0m\u001b[0;34m\u001b[0m\u001b[0m\n\u001b[1;32m    520\u001b[0m                 \u001b[0mself\u001b[0m\u001b[0;34m.\u001b[0m\u001b[0m_reset\u001b[0m\u001b[0;34m(\u001b[0m\u001b[0;34m)\u001b[0m\u001b[0;34m\u001b[0m\u001b[0;34m\u001b[0m\u001b[0m\n\u001b[0;32m--> 521\u001b[0;31m             \u001b[0mdata\u001b[0m \u001b[0;34m=\u001b[0m \u001b[0mself\u001b[0m\u001b[0;34m.\u001b[0m\u001b[0m_next_data\u001b[0m\u001b[0;34m(\u001b[0m\u001b[0;34m)\u001b[0m\u001b[0;34m\u001b[0m\u001b[0;34m\u001b[0m\u001b[0m\n\u001b[0m\u001b[1;32m    522\u001b[0m             \u001b[0mself\u001b[0m\u001b[0;34m.\u001b[0m\u001b[0m_num_yielded\u001b[0m \u001b[0;34m+=\u001b[0m \u001b[0;36m1\u001b[0m\u001b[0;34m\u001b[0m\u001b[0;34m\u001b[0m\u001b[0m\n\u001b[1;32m    523\u001b[0m             \u001b[0;32mif\u001b[0m \u001b[0mself\u001b[0m\u001b[0;34m.\u001b[0m\u001b[0m_dataset_kind\u001b[0m \u001b[0;34m==\u001b[0m \u001b[0m_DatasetKind\u001b[0m\u001b[0;34m.\u001b[0m\u001b[0mIterable\u001b[0m \u001b[0;32mand\u001b[0m\u001b[0;31m \u001b[0m\u001b[0;31m\\\u001b[0m\u001b[0;34m\u001b[0m\u001b[0;34m\u001b[0m\u001b[0m\n",
      "\u001b[0;32m~/opt/anaconda3/lib/python3.8/site-packages/torch/utils/data/dataloader.py\u001b[0m in \u001b[0;36m_next_data\u001b[0;34m(self)\u001b[0m\n\u001b[1;32m    559\u001b[0m     \u001b[0;32mdef\u001b[0m \u001b[0m_next_data\u001b[0m\u001b[0;34m(\u001b[0m\u001b[0mself\u001b[0m\u001b[0;34m)\u001b[0m\u001b[0;34m:\u001b[0m\u001b[0;34m\u001b[0m\u001b[0;34m\u001b[0m\u001b[0m\n\u001b[1;32m    560\u001b[0m         \u001b[0mindex\u001b[0m \u001b[0;34m=\u001b[0m \u001b[0mself\u001b[0m\u001b[0;34m.\u001b[0m\u001b[0m_next_index\u001b[0m\u001b[0;34m(\u001b[0m\u001b[0;34m)\u001b[0m  \u001b[0;31m# may raise StopIteration\u001b[0m\u001b[0;34m\u001b[0m\u001b[0;34m\u001b[0m\u001b[0m\n\u001b[0;32m--> 561\u001b[0;31m         \u001b[0mdata\u001b[0m \u001b[0;34m=\u001b[0m \u001b[0mself\u001b[0m\u001b[0;34m.\u001b[0m\u001b[0m_dataset_fetcher\u001b[0m\u001b[0;34m.\u001b[0m\u001b[0mfetch\u001b[0m\u001b[0;34m(\u001b[0m\u001b[0mindex\u001b[0m\u001b[0;34m)\u001b[0m  \u001b[0;31m# may raise StopIteration\u001b[0m\u001b[0;34m\u001b[0m\u001b[0;34m\u001b[0m\u001b[0m\n\u001b[0m\u001b[1;32m    562\u001b[0m         \u001b[0;32mif\u001b[0m \u001b[0mself\u001b[0m\u001b[0;34m.\u001b[0m\u001b[0m_pin_memory\u001b[0m\u001b[0;34m:\u001b[0m\u001b[0;34m\u001b[0m\u001b[0;34m\u001b[0m\u001b[0m\n\u001b[1;32m    563\u001b[0m             \u001b[0mdata\u001b[0m \u001b[0;34m=\u001b[0m \u001b[0m_utils\u001b[0m\u001b[0;34m.\u001b[0m\u001b[0mpin_memory\u001b[0m\u001b[0;34m.\u001b[0m\u001b[0mpin_memory\u001b[0m\u001b[0;34m(\u001b[0m\u001b[0mdata\u001b[0m\u001b[0;34m)\u001b[0m\u001b[0;34m\u001b[0m\u001b[0;34m\u001b[0m\u001b[0m\n",
      "\u001b[0;32m~/opt/anaconda3/lib/python3.8/site-packages/torch/utils/data/_utils/fetch.py\u001b[0m in \u001b[0;36mfetch\u001b[0;34m(self, possibly_batched_index)\u001b[0m\n\u001b[1;32m     42\u001b[0m     \u001b[0;32mdef\u001b[0m \u001b[0mfetch\u001b[0m\u001b[0;34m(\u001b[0m\u001b[0mself\u001b[0m\u001b[0;34m,\u001b[0m \u001b[0mpossibly_batched_index\u001b[0m\u001b[0;34m)\u001b[0m\u001b[0;34m:\u001b[0m\u001b[0;34m\u001b[0m\u001b[0;34m\u001b[0m\u001b[0m\n\u001b[1;32m     43\u001b[0m         \u001b[0;32mif\u001b[0m \u001b[0mself\u001b[0m\u001b[0;34m.\u001b[0m\u001b[0mauto_collation\u001b[0m\u001b[0;34m:\u001b[0m\u001b[0;34m\u001b[0m\u001b[0;34m\u001b[0m\u001b[0m\n\u001b[0;32m---> 44\u001b[0;31m             \u001b[0mdata\u001b[0m \u001b[0;34m=\u001b[0m \u001b[0;34m[\u001b[0m\u001b[0mself\u001b[0m\u001b[0;34m.\u001b[0m\u001b[0mdataset\u001b[0m\u001b[0;34m[\u001b[0m\u001b[0midx\u001b[0m\u001b[0;34m]\u001b[0m \u001b[0;32mfor\u001b[0m \u001b[0midx\u001b[0m \u001b[0;32min\u001b[0m \u001b[0mpossibly_batched_index\u001b[0m\u001b[0;34m]\u001b[0m\u001b[0;34m\u001b[0m\u001b[0;34m\u001b[0m\u001b[0m\n\u001b[0m\u001b[1;32m     45\u001b[0m         \u001b[0;32melse\u001b[0m\u001b[0;34m:\u001b[0m\u001b[0;34m\u001b[0m\u001b[0;34m\u001b[0m\u001b[0m\n\u001b[1;32m     46\u001b[0m             \u001b[0mdata\u001b[0m \u001b[0;34m=\u001b[0m \u001b[0mself\u001b[0m\u001b[0;34m.\u001b[0m\u001b[0mdataset\u001b[0m\u001b[0;34m[\u001b[0m\u001b[0mpossibly_batched_index\u001b[0m\u001b[0;34m]\u001b[0m\u001b[0;34m\u001b[0m\u001b[0;34m\u001b[0m\u001b[0m\n",
      "\u001b[0;32m~/opt/anaconda3/lib/python3.8/site-packages/torch/utils/data/_utils/fetch.py\u001b[0m in \u001b[0;36m<listcomp>\u001b[0;34m(.0)\u001b[0m\n\u001b[1;32m     42\u001b[0m     \u001b[0;32mdef\u001b[0m \u001b[0mfetch\u001b[0m\u001b[0;34m(\u001b[0m\u001b[0mself\u001b[0m\u001b[0;34m,\u001b[0m \u001b[0mpossibly_batched_index\u001b[0m\u001b[0;34m)\u001b[0m\u001b[0;34m:\u001b[0m\u001b[0;34m\u001b[0m\u001b[0;34m\u001b[0m\u001b[0m\n\u001b[1;32m     43\u001b[0m         \u001b[0;32mif\u001b[0m \u001b[0mself\u001b[0m\u001b[0;34m.\u001b[0m\u001b[0mauto_collation\u001b[0m\u001b[0;34m:\u001b[0m\u001b[0;34m\u001b[0m\u001b[0;34m\u001b[0m\u001b[0m\n\u001b[0;32m---> 44\u001b[0;31m             \u001b[0mdata\u001b[0m \u001b[0;34m=\u001b[0m \u001b[0;34m[\u001b[0m\u001b[0mself\u001b[0m\u001b[0;34m.\u001b[0m\u001b[0mdataset\u001b[0m\u001b[0;34m[\u001b[0m\u001b[0midx\u001b[0m\u001b[0;34m]\u001b[0m \u001b[0;32mfor\u001b[0m \u001b[0midx\u001b[0m \u001b[0;32min\u001b[0m \u001b[0mpossibly_batched_index\u001b[0m\u001b[0;34m]\u001b[0m\u001b[0;34m\u001b[0m\u001b[0;34m\u001b[0m\u001b[0m\n\u001b[0m\u001b[1;32m     45\u001b[0m         \u001b[0;32melse\u001b[0m\u001b[0;34m:\u001b[0m\u001b[0;34m\u001b[0m\u001b[0;34m\u001b[0m\u001b[0m\n\u001b[1;32m     46\u001b[0m             \u001b[0mdata\u001b[0m \u001b[0;34m=\u001b[0m \u001b[0mself\u001b[0m\u001b[0;34m.\u001b[0m\u001b[0mdataset\u001b[0m\u001b[0;34m[\u001b[0m\u001b[0mpossibly_batched_index\u001b[0m\u001b[0;34m]\u001b[0m\u001b[0;34m\u001b[0m\u001b[0;34m\u001b[0m\u001b[0m\n",
      "\u001b[0;32m~/Dropbox/My Mac (Pronoma’s MacBook Air)/Downloads/ABC_GAN-main/src/dataset.py\u001b[0m in \u001b[0;36m__getitem__\u001b[0;34m(self, idx)\u001b[0m\n\u001b[1;32m     17\u001b[0m   \u001b[0;32mdef\u001b[0m \u001b[0m__getitem__\u001b[0m\u001b[0;34m(\u001b[0m\u001b[0mself\u001b[0m\u001b[0;34m,\u001b[0m\u001b[0midx\u001b[0m\u001b[0;34m)\u001b[0m\u001b[0;34m:\u001b[0m\u001b[0;34m\u001b[0m\u001b[0;34m\u001b[0m\u001b[0m\n\u001b[1;32m     18\u001b[0m     \u001b[0mx\u001b[0m \u001b[0;34m=\u001b[0m \u001b[0mself\u001b[0m\u001b[0;34m.\u001b[0m\u001b[0mX\u001b[0m\u001b[0;34m[\u001b[0m\u001b[0midx\u001b[0m\u001b[0;34m]\u001b[0m\u001b[0;34m\u001b[0m\u001b[0;34m\u001b[0m\u001b[0m\n\u001b[0;32m---> 19\u001b[0;31m     \u001b[0my\u001b[0m \u001b[0;34m=\u001b[0m \u001b[0mself\u001b[0m\u001b[0;34m.\u001b[0m\u001b[0mY\u001b[0m\u001b[0;34m[\u001b[0m\u001b[0midx\u001b[0m\u001b[0;34m]\u001b[0m\u001b[0;34m\u001b[0m\u001b[0;34m\u001b[0m\u001b[0m\n\u001b[0m\u001b[1;32m     20\u001b[0m \u001b[0;34m\u001b[0m\u001b[0m\n\u001b[1;32m     21\u001b[0m     \u001b[0mx\u001b[0m \u001b[0;34m=\u001b[0m \u001b[0mtorch\u001b[0m\u001b[0;34m.\u001b[0m\u001b[0mtensor\u001b[0m\u001b[0;34m(\u001b[0m\u001b[0mx\u001b[0m\u001b[0;34m,\u001b[0m\u001b[0mdtype\u001b[0m\u001b[0;34m=\u001b[0m\u001b[0mtorch\u001b[0m\u001b[0;34m.\u001b[0m\u001b[0mfloat32\u001b[0m\u001b[0;34m)\u001b[0m\u001b[0;34m\u001b[0m\u001b[0;34m\u001b[0m\u001b[0m\n",
      "\u001b[0;32m~/opt/anaconda3/lib/python3.8/site-packages/pandas/core/series.py\u001b[0m in \u001b[0;36m__getitem__\u001b[0;34m(self, key)\u001b[0m\n\u001b[1;32m    851\u001b[0m \u001b[0;34m\u001b[0m\u001b[0m\n\u001b[1;32m    852\u001b[0m         \u001b[0;32melif\u001b[0m \u001b[0mkey_is_scalar\u001b[0m\u001b[0;34m:\u001b[0m\u001b[0;34m\u001b[0m\u001b[0;34m\u001b[0m\u001b[0m\n\u001b[0;32m--> 853\u001b[0;31m             \u001b[0;32mreturn\u001b[0m \u001b[0mself\u001b[0m\u001b[0;34m.\u001b[0m\u001b[0m_get_value\u001b[0m\u001b[0;34m(\u001b[0m\u001b[0mkey\u001b[0m\u001b[0;34m)\u001b[0m\u001b[0;34m\u001b[0m\u001b[0;34m\u001b[0m\u001b[0m\n\u001b[0m\u001b[1;32m    854\u001b[0m \u001b[0;34m\u001b[0m\u001b[0m\n\u001b[1;32m    855\u001b[0m         \u001b[0;32mif\u001b[0m \u001b[0mis_hashable\u001b[0m\u001b[0;34m(\u001b[0m\u001b[0mkey\u001b[0m\u001b[0;34m)\u001b[0m\u001b[0;34m:\u001b[0m\u001b[0;34m\u001b[0m\u001b[0;34m\u001b[0m\u001b[0m\n",
      "\u001b[0;32m~/opt/anaconda3/lib/python3.8/site-packages/pandas/core/series.py\u001b[0m in \u001b[0;36m_get_value\u001b[0;34m(self, label, takeable)\u001b[0m\n\u001b[1;32m    959\u001b[0m \u001b[0;34m\u001b[0m\u001b[0m\n\u001b[1;32m    960\u001b[0m         \u001b[0;31m# Similar to Index.get_value, but we do not fall back to positional\u001b[0m\u001b[0;34m\u001b[0m\u001b[0;34m\u001b[0m\u001b[0;34m\u001b[0m\u001b[0m\n\u001b[0;32m--> 961\u001b[0;31m         \u001b[0mloc\u001b[0m \u001b[0;34m=\u001b[0m \u001b[0mself\u001b[0m\u001b[0;34m.\u001b[0m\u001b[0mindex\u001b[0m\u001b[0;34m.\u001b[0m\u001b[0mget_loc\u001b[0m\u001b[0;34m(\u001b[0m\u001b[0mlabel\u001b[0m\u001b[0;34m)\u001b[0m\u001b[0;34m\u001b[0m\u001b[0;34m\u001b[0m\u001b[0m\n\u001b[0m\u001b[1;32m    962\u001b[0m         \u001b[0;32mreturn\u001b[0m \u001b[0mself\u001b[0m\u001b[0;34m.\u001b[0m\u001b[0mindex\u001b[0m\u001b[0;34m.\u001b[0m\u001b[0m_get_values_for_loc\u001b[0m\u001b[0;34m(\u001b[0m\u001b[0mself\u001b[0m\u001b[0;34m,\u001b[0m \u001b[0mloc\u001b[0m\u001b[0;34m,\u001b[0m \u001b[0mlabel\u001b[0m\u001b[0;34m)\u001b[0m\u001b[0;34m\u001b[0m\u001b[0;34m\u001b[0m\u001b[0m\n\u001b[1;32m    963\u001b[0m \u001b[0;34m\u001b[0m\u001b[0m\n",
      "\u001b[0;32m~/opt/anaconda3/lib/python3.8/site-packages/pandas/core/indexes/base.py\u001b[0m in \u001b[0;36mget_loc\u001b[0;34m(self, key, method, tolerance)\u001b[0m\n\u001b[1;32m   3081\u001b[0m                 \u001b[0;32mreturn\u001b[0m \u001b[0mself\u001b[0m\u001b[0;34m.\u001b[0m\u001b[0m_engine\u001b[0m\u001b[0;34m.\u001b[0m\u001b[0mget_loc\u001b[0m\u001b[0;34m(\u001b[0m\u001b[0mcasted_key\u001b[0m\u001b[0;34m)\u001b[0m\u001b[0;34m\u001b[0m\u001b[0;34m\u001b[0m\u001b[0m\n\u001b[1;32m   3082\u001b[0m             \u001b[0;32mexcept\u001b[0m \u001b[0mKeyError\u001b[0m \u001b[0;32mas\u001b[0m \u001b[0merr\u001b[0m\u001b[0;34m:\u001b[0m\u001b[0;34m\u001b[0m\u001b[0;34m\u001b[0m\u001b[0m\n\u001b[0;32m-> 3083\u001b[0;31m                 \u001b[0;32mraise\u001b[0m \u001b[0mKeyError\u001b[0m\u001b[0;34m(\u001b[0m\u001b[0mkey\u001b[0m\u001b[0;34m)\u001b[0m \u001b[0;32mfrom\u001b[0m \u001b[0merr\u001b[0m\u001b[0;34m\u001b[0m\u001b[0;34m\u001b[0m\u001b[0m\n\u001b[0m\u001b[1;32m   3084\u001b[0m \u001b[0;34m\u001b[0m\u001b[0m\n\u001b[1;32m   3085\u001b[0m         \u001b[0;32mif\u001b[0m \u001b[0mtolerance\u001b[0m \u001b[0;32mis\u001b[0m \u001b[0;32mnot\u001b[0m \u001b[0;32mNone\u001b[0m\u001b[0;34m:\u001b[0m\u001b[0;34m\u001b[0m\u001b[0;34m\u001b[0m\u001b[0m\n",
      "\u001b[0;31mKeyError\u001b[0m: 78"
     ]
    }
   ],
   "source": [
    "discLossA3,genLossA3 = ABC_train_test.training_GAN_skip_connection(disc3, gen3,disc_opt,gen_opt,train_data,batch_size, n_epochs,criterion,coeff,abc_mean,variance,device)\n",
    "\n",
    "sb.glue(\"ABC_GAN_3 Generator Loss\",genLossA3)\n",
    "sb.glue(\"ABC_GAN_3 Discriminator Loss\",discLossA3)"
   ]
  },
  {
   "cell_type": "code",
   "execution_count": null,
   "id": "c5e0717b",
   "metadata": {
    "papermill": {
     "duration": null,
     "end_time": null,
     "exception": null,
     "start_time": null,
     "status": "pending"
    },
    "tags": []
   },
   "outputs": [],
   "source": [
    "ABC_GAN3_metrics=ABC_train_test.test_generator(gen3,test_data,coeff,abc_mean,variance,device)\n",
    "\n",
    "sb.glue(\"ABC_GAN_3 Metrics\",ABC_GAN3_metrics)"
   ]
  },
  {
   "cell_type": "code",
   "execution_count": null,
   "id": "c8e46b48",
   "metadata": {
    "papermill": {
     "duration": null,
     "end_time": null,
     "exception": null,
     "start_time": null,
     "status": "pending"
    },
    "tags": []
   },
   "outputs": [],
   "source": [
    "sanityChecks.discProbVsError(train_data,disc3,device)\n",
    "sanityChecks.discProbVsError(test_data,disc3,device)"
   ]
  },
  {
   "cell_type": "markdown",
   "id": "a5bd74c3",
   "metadata": {
    "papermill": {
     "duration": null,
     "end_time": null,
     "exception": null,
     "start_time": null,
     "status": "pending"
    },
    "tags": []
   },
   "source": [
    "## Skip Connection Model Analysis - ABC-GAN "
   ]
  },
  {
   "cell_type": "markdown",
   "id": "5744a8bf",
   "metadata": {
    "papermill": {
     "duration": null,
     "end_time": null,
     "exception": null,
     "start_time": null,
     "status": "pending"
    },
    "tags": []
   },
   "source": [
    "### Weight Analysis \n",
    "\n",
    "Study the weights of the skip connection layer\n",
    "\n",
    "Equation of the skip connection is \n",
    "\n",
    "$output = y_{gan} * w + y_{abc} * (1-w)$"
   ]
  },
  {
   "cell_type": "code",
   "execution_count": null,
   "id": "52c31dea",
   "metadata": {
    "papermill": {
     "duration": null,
     "end_time": null,
     "exception": null,
     "start_time": null,
     "status": "pending"
    },
    "tags": []
   },
   "outputs": [],
   "source": [
    "print(\"Weight of the node at skip connection\")\n",
    "for name,param in gen3.named_parameters():\n",
    "    if(name == \"skipNode.weight\"):\n",
    "        print(param)\n",
    "        sb.glue(\"Skip Connection Weight\",param.item())"
   ]
  },
  {
   "cell_type": "code",
   "execution_count": null,
   "id": "aa18207f",
   "metadata": {
    "papermill": {
     "duration": null,
     "end_time": null,
     "exception": null,
     "start_time": null,
     "status": "pending"
    },
    "tags": []
   },
   "outputs": [],
   "source": [
    "performanceMetrics.modelAnalysis2(ABC_GAN3_metrics)"
   ]
  }
 ],
 "metadata": {
  "interpreter": {
   "hash": "10498c76ddd8160350534c6544a2b2fb65f2138dbc70420f7c81a3268f830f23"
  },
  "kernelspec": {
   "display_name": "Python 3 (ipykernel)",
   "language": "python",
   "name": "python3"
  },
  "language_info": {
   "codemirror_mode": {
    "name": "ipython",
    "version": 3
   },
   "file_extension": ".py",
   "mimetype": "text/x-python",
   "name": "python",
   "nbconvert_exporter": "python",
   "pygments_lexer": "ipython3",
   "version": "3.8.3"
  },
  "papermill": {
   "default_parameters": {},
   "duration": 11.683455,
   "end_time": "2022-02-13T10:18:00.230149",
   "environment_variables": {},
   "exception": true,
   "input_path": "ABC_GAN-Stats.ipynb",
   "output_path": "./ABC_GAN_Stats/ABC-GAN_output_7_0.ipynb",
   "parameters": {
    "variance": 1
   },
   "start_time": "2022-02-13T10:17:48.546694",
   "version": "2.3.3"
  }
 },
 "nbformat": 4,
 "nbformat_minor": 5
}