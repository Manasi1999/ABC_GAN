{
 "cells": [
  {
   "cell_type": "markdown",
   "id": "4cca6b05",
   "metadata": {
    "tags": [
     "papermill-error-cell-tag"
    ]
   },
   "source": [
    "<span style=\"color:red; font-family:Helvetica Neue, Helvetica, Arial, sans-serif; font-size:2em;\">An Exception was encountered at '<a href=\"#papermill-error-cell\">In [3]</a>'.</span>"
   ]
  },
  {
   "cell_type": "code",
   "execution_count": 1,
   "id": "423b7ca4",
   "metadata": {
    "execution": {
     "iopub.execute_input": "2022-06-22T10:59:37.442800Z",
     "iopub.status.busy": "2022-06-22T10:59:37.440944Z",
     "iopub.status.idle": "2022-06-22T10:59:37.447625Z",
     "shell.execute_reply": "2022-06-22T10:59:37.452241Z"
    },
    "papermill": {
     "duration": 0.043923,
     "end_time": "2022-06-22T10:59:37.453377",
     "exception": false,
     "start_time": "2022-06-22T10:59:37.409454",
     "status": "completed"
    },
    "tags": []
   },
   "outputs": [],
   "source": [
    "import warnings\n",
    "warnings.filterwarnings('ignore')"
   ]
  },
  {
   "cell_type": "code",
   "execution_count": 2,
   "id": "618121c9",
   "metadata": {
    "execution": {
     "iopub.execute_input": "2022-06-22T10:59:37.505414Z",
     "iopub.status.busy": "2022-06-22T10:59:37.504346Z",
     "iopub.status.idle": "2022-06-22T10:59:40.495020Z",
     "shell.execute_reply": "2022-06-22T10:59:40.496348Z"
    },
    "papermill": {
     "duration": 3.0323,
     "end_time": "2022-06-22T10:59:40.496630",
     "exception": false,
     "start_time": "2022-06-22T10:59:37.464330",
     "status": "completed"
    },
    "tags": []
   },
   "outputs": [],
   "source": [
    "import scrapbook as sb \n",
    "import pandas as pd\n",
    "import numpy as np \n",
    "import seaborn as sns \n",
    "import numpy as np\n",
    "from statistics import mean , median\n",
    "import matplotlib.pyplot as plt"
   ]
  },
  {
   "cell_type": "markdown",
   "id": "8842137f",
   "metadata": {
    "papermill": {
     "duration": 0.02144,
     "end_time": "2022-06-22T10:59:40.527108",
     "exception": false,
     "start_time": "2022-06-22T10:59:40.505668",
     "status": "completed"
    },
    "tags": []
   },
   "source": [
    "# Baseline "
   ]
  },
  {
   "cell_type": "markdown",
   "id": "dc4248d8",
   "metadata": {
    "tags": [
     "papermill-error-cell-tag"
    ]
   },
   "source": [
    "<span id=\"papermill-error-cell\" style=\"color:red; font-family:Helvetica Neue, Helvetica, Arial, sans-serif; font-size:2em;\">Execution using papermill encountered an exception here and stopped:</span>"
   ]
  },
  {
   "cell_type": "code",
   "execution_count": 3,
   "id": "a9dce367",
   "metadata": {
    "execution": {
     "iopub.execute_input": "2022-06-22T10:59:40.576843Z",
     "iopub.status.busy": "2022-06-22T10:59:40.575156Z",
     "iopub.status.idle": "2022-06-22T10:59:40.581797Z",
     "shell.execute_reply": "2022-06-22T10:59:40.576096Z"
    },
    "papermill": {
     "duration": 0.047099,
     "end_time": "2022-06-22T10:59:40.582843",
     "exception": true,
     "start_time": "2022-06-22T10:59:40.535744",
     "status": "failed"
    },
    "tags": []
   },
   "outputs": [
    {
     "ename": "SyntaxError",
     "evalue": "invalid syntax (<ipython-input-3-4d4def7fb8d4>, line 5)",
     "output_type": "error",
     "traceback": [
      "\u001b[0;36m  File \u001b[0;32m\"<ipython-input-3-4d4def7fb8d4>\"\u001b[0;36m, line \u001b[0;32m5\u001b[0m\n\u001b[0;31m    baseLine_data.append(nbList)\u001b[0m\n\u001b[0m    ^\u001b[0m\n\u001b[0;31mSyntaxError\u001b[0m\u001b[0;31m:\u001b[0m invalid syntax\n"
     ]
    }
   ],
   "source": [
    "books = sb.read_notebooks(\"./BaseLine_Model_Output\")\n",
    "baseLine_data = []\n",
    "for nb in books.notebooks: \n",
    "    nbList=[nb.scraps[nb.scraps['TabNet MAE'].data]\n",
    "    baseLine_data.append(nbList)\n",
    "df = pd.DataFrame(baseLine_data, columns = [\"TabNet(LR=0.02)\"])\n",
    "baseline_data = np.array(baseLine_data)\n",
    "tabnet02 = median(baseline_data[:,2])\n",
    "tabnet1 = median(baseline_data[:,3])"
   ]
  },
  {
   "cell_type": "markdown",
   "id": "2ef4d014",
   "metadata": {
    "papermill": {
     "duration": null,
     "end_time": null,
     "exception": null,
     "start_time": null,
     "status": "pending"
    },
    "tags": []
   },
   "source": [
    "# GAN Model"
   ]
  },
  {
   "cell_type": "code",
   "execution_count": null,
   "id": "ce2d028d",
   "metadata": {
    "papermill": {
     "duration": null,
     "end_time": null,
     "exception": null,
     "start_time": null,
     "status": "pending"
    },
    "tags": []
   },
   "outputs": [],
   "source": [
    "book = sb.read_notebooks(\"./GAN_Output\")\n",
    "gan_data = []\n",
    "gan_mse = []\n",
    "for nb in book.notebooks:\n",
    "    metrics = nb.scraps['GAN_1 Metrics'].data\n",
    "    for i in range(1000):\n",
    "        gan_mse.append(metrics[0][i])\n",
    "    nbList = [nb.scraps['GAN Model MSE'].data,\n",
    "              nb.scraps['GAN Model MAE'].data,\n",
    "              nb.scraps['GAN Model Euclidean distance'].data,\n",
    "              nb.scraps['GAN Model Manhattan Distance'].data]        \n",
    "    gan_data.append(nbList)\n",
    "    \n",
    "df = pd.DataFrame(gan_data, columns = ['MSE','MAE','Euclidean Distance','Manhattan Distance'])\n",
    "display(df.style)\n",
    "print(\"MEDIAN:\")\n",
    "print(df.median(axis = 0))\n",
    "gan_data = np.array(gan_data)\n",
    "gan_median = median(gan_data[:,1])\n",
    "print(gan_median)"
   ]
  },
  {
   "cell_type": "markdown",
   "id": "db69b3bd",
   "metadata": {
    "papermill": {
     "duration": null,
     "end_time": null,
     "exception": null,
     "start_time": null,
     "status": "pending"
    },
    "tags": []
   },
   "source": [
    "# ABC_GAN Analysis"
   ]
  },
  {
   "cell_type": "markdown",
   "id": "273e6545",
   "metadata": {
    "papermill": {
     "duration": null,
     "end_time": null,
     "exception": null,
     "start_time": null,
     "status": "pending"
    },
    "tags": []
   },
   "source": [
    "## ABC Pre-generator - TabNet "
   ]
  },
  {
   "cell_type": "code",
   "execution_count": null,
   "id": "6ede08b2",
   "metadata": {
    "papermill": {
     "duration": null,
     "end_time": null,
     "exception": null,
     "start_time": null,
     "status": "pending"
    },
    "tags": []
   },
   "outputs": [],
   "source": [
    "book = sb.read_notebooks(\"./ABC_GAN_TabNet\")\n",
    "paramVal = [[1,1],[1,0.1],[1,0.01],[1,0],[0.1,1],[0.1,0.1],[0.1,0.01],[0.1,0],[0.01,1],[0.01,0.1],[0.01,0.01],[0.01,0]]\n",
    "abc_mae = [[] for i in range(12)]\n",
    "abc_mae_skip = [[] for i in range(12)]\n",
    "abc_mae_mean = [[] for i in range(12)]\n",
    "abc_mae_skip_mean = [[] for i in range(12)]\n",
    "abc_weights = [[] for i in range(12)]\n",
    "prior_model = [[] for i in range(12)]\n",
    "abc_pre_generator = [[] for i in range(12)]\n",
    "\n",
    "for nb in book.notebooks:\n",
    "    metrics1 = np.array(nb.scraps['ABC_GAN_1 Metrics'].data)\n",
    "    metrics3 = np.array(nb.scraps['ABC_GAN_3 Metrics'].data)\n",
    "    paramVar = float(nb.papermill_dataframe.iloc[0]['value'])\n",
    "    paramBias = float(nb.papermill_dataframe.iloc[1]['value'])\n",
    "    #Divide data according to parameters \n",
    "    for i in range(9):\n",
    "        if paramVar == paramVal[i][0] and paramBias == paramVal[i][1]:\n",
    "            for j in range(100):\n",
    "                abc_mae[i].append(metrics1[1,j])\n",
    "                abc_mae_skip[i].append(metrics3[1,j])\n",
    "            abc_weights[i].append(nb.scraps['Skip Connection Weight'].data)\n",
    "            prior_model[i].append(nb.scraps['Prior Model MSE'].data)\n",
    "            abc_pre_generator[i].append(nb.scraps['ABC Pre-generator MSE'].data)\n",
    "            abc_mae_skip_mean[i].append(mean(metrics3[1,:]))\n",
    "            abc_mae_mean[i].append(mean(metrics1[1,:]))"
   ]
  },
  {
   "cell_type": "code",
   "execution_count": null,
   "id": "14e1028f",
   "metadata": {
    "papermill": {
     "duration": null,
     "end_time": null,
     "exception": null,
     "start_time": null,
     "status": "pending"
    },
    "tags": []
   },
   "outputs": [],
   "source": [
    "data = [[] for i in range(12)]\n",
    "for i in range(12):\n",
    "    for j in range(len(abc_weights[i])):\n",
    "        data[i].append([paramVal[i][0], paramVal[i][1],prior_model[i][j],\n",
    "                     abc_pre_generator[i][j],abc_weights[i][j],abc_mae_mean[i][j],abc_mae_skip_mean[i][j]])\n",
    "    df = pd.DataFrame(data[i], columns = ['Variance','Bias','Prior Model MAE',\n",
    "                                       'ABC pre-generator MAE','Skip Node weight','ABC GAN MAE','ABC_GAN MAE (skip connection)'])\n",
    "    display(df.round(5))\n",
    "    print(df.median(axis=0))\n",
    "    print(\"-------------------------------------------------------------\")"
   ]
  },
  {
   "cell_type": "code",
   "execution_count": null,
   "id": "d24c3ce1",
   "metadata": {
    "papermill": {
     "duration": null,
     "end_time": null,
     "exception": null,
     "start_time": null,
     "status": "pending"
    },
    "tags": []
   },
   "outputs": [],
   "source": [
    "# Display Catboost Summary Tables \n",
    "data = np.array(data)\n",
    "tabnetData = []\n",
    "for i in range(12): \n",
    "    tabnetData.append([paramVal[i][0], paramVal[i][1],catboost,median(data[i][:,3]),median(data[i][:,5]),median(data[i][:,6]),median(data[i][:,4])])\n",
    "df = pd.DataFrame(tabnetData, columns = ['Variance','Bias','TabNet','Prior Model MAE','mGAN','skipGAN','Skip Node weight'])\n",
    "display(df.round(5))"
   ]
  }
 ],
 "metadata": {
  "interpreter": {
   "hash": "10498c76ddd8160350534c6544a2b2fb65f2138dbc70420f7c81a3268f830f23"
  },
  "kernelspec": {
   "display_name": "papermill-tutorial",
   "language": "python",
   "name": "python3"
  },
  "language_info": {
   "codemirror_mode": {
    "name": "ipython",
    "version": 3
   },
   "file_extension": ".py",
   "mimetype": "text/x-python",
   "name": "python",
   "nbconvert_exporter": "python",
   "pygments_lexer": "ipython3",
   "version": "3.8.3"
  },
  "papermill": {
   "default_parameters": {},
   "duration": 7.639591,
   "end_time": "2022-06-22T10:59:42.233493",
   "environment_variables": {},
   "exception": true,
   "input_path": "Analysis.ipynb",
   "output_path": "Friedman3_LR0.02.ipynb",
   "parameters": {},
   "start_time": "2022-06-22T10:59:34.593902",
   "version": "2.3.3"
  }
 },
 "nbformat": 4,
 "nbformat_minor": 5
}