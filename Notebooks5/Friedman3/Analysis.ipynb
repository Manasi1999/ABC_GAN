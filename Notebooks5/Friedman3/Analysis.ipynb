{
 "cells": [
  {
   "cell_type": "code",
   "execution_count": 2,
   "id": "423b7ca4",
   "metadata": {},
   "outputs": [],
   "source": [
    "import warnings\n",
    "warnings.filterwarnings('ignore')"
   ]
  },
  {
   "cell_type": "code",
   "execution_count": 3,
   "id": "618121c9",
   "metadata": {},
   "outputs": [],
   "source": [
    "import scrapbook as sb \n",
    "import pandas as pd\n",
    "import numpy as np \n",
    "import seaborn as sns \n",
    "import numpy as np\n",
    "from statistics import mean , median\n",
    "import matplotlib.pyplot as plt"
   ]
  },
  {
   "cell_type": "markdown",
   "id": "8842137f",
   "metadata": {},
   "source": [
    "# Baseline "
   ]
  },
  {
   "cell_type": "code",
   "execution_count": 4,
   "id": "a9dce367",
   "metadata": {},
   "outputs": [],
   "source": [
    "books = sb.read_notebooks(\"./BaseLine_Model_Output\")\n",
    "baseLine_data = []\n",
    "for nb in books.notebooks: \n",
    "    nbList=[nb.scraps[nb.scraps['TabNet MAE'].data]\n",
    "    baseLine_data.append(nbList)\n",
    "df = pd.DataFrame(baseLine_data, columns = [\"TabNet(LR=0.02)\"])\n",
    "baseline_data = np.array(baseLine_data)\n",
    "tabnet02 = median(baseline_data[:,2])\n",
    "tabnet1 = median(baseline_data[:,3])"
   ]
  },
  {
   "cell_type": "markdown",
   "id": "2ef4d014",
   "metadata": {},
   "source": [
    "# GAN Model"
   ]
  },
  {
   "cell_type": "code",
   "execution_count": 7,
   "id": "ce2d028d",
   "metadata": {},
   "outputs": [
    {
     "data": {
      "text/html": [
       "<style type=\"text/css\">\n",
       "</style>\n",
       "<table id=\"T_049ee_\">\n",
       "  <thead>\n",
       "    <tr>\n",
       "      <th class=\"blank level0\" >&nbsp;</th>\n",
       "      <th class=\"col_heading level0 col0\" >MSE</th>\n",
       "      <th class=\"col_heading level0 col1\" >MAE</th>\n",
       "      <th class=\"col_heading level0 col2\" >Euclidean Distance</th>\n",
       "      <th class=\"col_heading level0 col3\" >Manhattan Distance</th>\n",
       "    </tr>\n",
       "  </thead>\n",
       "  <tbody>\n",
       "    <tr>\n",
       "      <th id=\"T_049ee_level0_row0\" class=\"row_heading level0 row0\" >0</th>\n",
       "      <td id=\"T_049ee_row0_col0\" class=\"data row0 col0\" >0.052149</td>\n",
       "      <td id=\"T_049ee_row0_col1\" class=\"data row0 col1\" >0.152866</td>\n",
       "      <td id=\"T_049ee_row0_col2\" class=\"data row0 col2\" >1.020008</td>\n",
       "      <td id=\"T_049ee_row0_col3\" class=\"data row0 col3\" >3.057312</td>\n",
       "    </tr>\n",
       "    <tr>\n",
       "      <th id=\"T_049ee_level0_row1\" class=\"row_heading level0 row1\" >1</th>\n",
       "      <td id=\"T_049ee_row1_col0\" class=\"data row1 col0\" >0.123697</td>\n",
       "      <td id=\"T_049ee_row1_col1\" class=\"data row1 col1\" >0.229275</td>\n",
       "      <td id=\"T_049ee_row1_col2\" class=\"data row1 col2\" >1.572754</td>\n",
       "      <td id=\"T_049ee_row1_col3\" class=\"data row1 col3\" >4.585508</td>\n",
       "    </tr>\n",
       "    <tr>\n",
       "      <th id=\"T_049ee_level0_row2\" class=\"row_heading level0 row2\" >2</th>\n",
       "      <td id=\"T_049ee_row2_col0\" class=\"data row2 col0\" >0.121998</td>\n",
       "      <td id=\"T_049ee_row2_col1\" class=\"data row2 col1\" >0.224301</td>\n",
       "      <td id=\"T_049ee_row2_col2\" class=\"data row2 col2\" >1.561952</td>\n",
       "      <td id=\"T_049ee_row2_col3\" class=\"data row2 col3\" >4.486017</td>\n",
       "    </tr>\n",
       "    <tr>\n",
       "      <th id=\"T_049ee_level0_row3\" class=\"row_heading level0 row3\" >3</th>\n",
       "      <td id=\"T_049ee_row3_col0\" class=\"data row3 col0\" >0.062488</td>\n",
       "      <td id=\"T_049ee_row3_col1\" class=\"data row3 col1\" >0.192243</td>\n",
       "      <td id=\"T_049ee_row3_col2\" class=\"data row3 col2\" >1.117595</td>\n",
       "      <td id=\"T_049ee_row3_col3\" class=\"data row3 col3\" >3.844851</td>\n",
       "    </tr>\n",
       "    <tr>\n",
       "      <th id=\"T_049ee_level0_row4\" class=\"row_heading level0 row4\" >4</th>\n",
       "      <td id=\"T_049ee_row4_col0\" class=\"data row4 col0\" >0.124140</td>\n",
       "      <td id=\"T_049ee_row4_col1\" class=\"data row4 col1\" >0.252486</td>\n",
       "      <td id=\"T_049ee_row4_col2\" class=\"data row4 col2\" >1.575309</td>\n",
       "      <td id=\"T_049ee_row4_col3\" class=\"data row4 col3\" >5.049725</td>\n",
       "    </tr>\n",
       "    <tr>\n",
       "      <th id=\"T_049ee_level0_row5\" class=\"row_heading level0 row5\" >5</th>\n",
       "      <td id=\"T_049ee_row5_col0\" class=\"data row5 col0\" >0.034784</td>\n",
       "      <td id=\"T_049ee_row5_col1\" class=\"data row5 col1\" >0.124183</td>\n",
       "      <td id=\"T_049ee_row5_col2\" class=\"data row5 col2\" >0.833122</td>\n",
       "      <td id=\"T_049ee_row5_col3\" class=\"data row5 col3\" >2.483661</td>\n",
       "    </tr>\n",
       "    <tr>\n",
       "      <th id=\"T_049ee_level0_row6\" class=\"row_heading level0 row6\" >6</th>\n",
       "      <td id=\"T_049ee_row6_col0\" class=\"data row6 col0\" >0.107623</td>\n",
       "      <td id=\"T_049ee_row6_col1\" class=\"data row6 col1\" >0.224102</td>\n",
       "      <td id=\"T_049ee_row6_col2\" class=\"data row6 col2\" >1.466874</td>\n",
       "      <td id=\"T_049ee_row6_col3\" class=\"data row6 col3\" >4.482047</td>\n",
       "    </tr>\n",
       "    <tr>\n",
       "      <th id=\"T_049ee_level0_row7\" class=\"row_heading level0 row7\" >7</th>\n",
       "      <td id=\"T_049ee_row7_col0\" class=\"data row7 col0\" >0.047333</td>\n",
       "      <td id=\"T_049ee_row7_col1\" class=\"data row7 col1\" >0.157143</td>\n",
       "      <td id=\"T_049ee_row7_col2\" class=\"data row7 col2\" >0.972630</td>\n",
       "      <td id=\"T_049ee_row7_col3\" class=\"data row7 col3\" >3.142854</td>\n",
       "    </tr>\n",
       "    <tr>\n",
       "      <th id=\"T_049ee_level0_row8\" class=\"row_heading level0 row8\" >8</th>\n",
       "      <td id=\"T_049ee_row8_col0\" class=\"data row8 col0\" >0.187382</td>\n",
       "      <td id=\"T_049ee_row8_col1\" class=\"data row8 col1\" >0.269006</td>\n",
       "      <td id=\"T_049ee_row8_col2\" class=\"data row8 col2\" >1.935102</td>\n",
       "      <td id=\"T_049ee_row8_col3\" class=\"data row8 col3\" >5.380119</td>\n",
       "    </tr>\n",
       "    <tr>\n",
       "      <th id=\"T_049ee_level0_row9\" class=\"row_heading level0 row9\" >9</th>\n",
       "      <td id=\"T_049ee_row9_col0\" class=\"data row9 col0\" >0.042565</td>\n",
       "      <td id=\"T_049ee_row9_col1\" class=\"data row9 col1\" >0.149225</td>\n",
       "      <td id=\"T_049ee_row9_col2\" class=\"data row9 col2\" >0.922446</td>\n",
       "      <td id=\"T_049ee_row9_col3\" class=\"data row9 col3\" >2.984504</td>\n",
       "    </tr>\n",
       "  </tbody>\n",
       "</table>\n"
      ],
      "text/plain": [
       "<pandas.io.formats.style.Styler at 0x7f9681eba790>"
      ]
     },
     "metadata": {},
     "output_type": "display_data"
    },
    {
     "name": "stdout",
     "output_type": "stream",
     "text": [
      "MEDIAN:\n",
      "MSE                   0.085055\n",
      "MAE                   0.208172\n",
      "Euclidean Distance    1.292234\n",
      "Manhattan Distance    4.163449\n",
      "dtype: float64\n",
      "0.20817244485737757\n"
     ]
    }
   ],
   "source": [
    "book = sb.read_notebooks(\"./GAN_Output\")\n",
    "gan_data = []\n",
    "gan_mse = []\n",
    "for nb in book.notebooks:\n",
    "    metrics = nb.scraps['GAN_1 Metrics'].data\n",
    "    for i in range(1000):\n",
    "        gan_mse.append(metrics[0][i])\n",
    "    nbList = [nb.scraps['GAN Model MSE'].data,\n",
    "              nb.scraps['GAN Model MAE'].data,\n",
    "              nb.scraps['GAN Model Euclidean distance'].data,\n",
    "              nb.scraps['GAN Model Manhattan Distance'].data]        \n",
    "    gan_data.append(nbList)\n",
    "    \n",
    "df = pd.DataFrame(gan_data, columns = ['MSE','MAE','Euclidean Distance','Manhattan Distance'])\n",
    "display(df.style)\n",
    "print(\"MEDIAN:\")\n",
    "print(df.median(axis = 0))\n",
    "gan_data = np.array(gan_data)\n",
    "gan_median = median(gan_data[:,1])\n",
    "print(gan_median)"
   ]
  },
  {
   "cell_type": "markdown",
   "id": "db69b3bd",
   "metadata": {},
   "source": [
    "# ABC_GAN Analysis"
   ]
  },
  {
   "cell_type": "markdown",
   "id": "273e6545",
   "metadata": {},
   "source": [
    "## ABC Pre-generator - TabNet "
   ]
  },
  {
   "cell_type": "code",
   "execution_count": null,
   "id": "6ede08b2",
   "metadata": {},
   "outputs": [],
   "source": [
    "book = sb.read_notebooks(\"./ABC_GAN_TabNet\")\n",
    "paramVal = [[1,1],[1,0.1],[1,0.01],[1,0],[0.1,1],[0.1,0.1],[0.1,0.01],[0.1,0],[0.01,1],[0.01,0.1],[0.01,0.01],[0.01,0]]\n",
    "abc_mae = [[] for i in range(12)]\n",
    "abc_mae_skip = [[] for i in range(12)]\n",
    "abc_mae_mean = [[] for i in range(12)]\n",
    "abc_mae_skip_mean = [[] for i in range(12)]\n",
    "abc_weights = [[] for i in range(12)]\n",
    "prior_model = [[] for i in range(12)]\n",
    "abc_pre_generator = [[] for i in range(12)]\n",
    "\n",
    "for nb in book.notebooks:\n",
    "    metrics1 = np.array(nb.scraps['ABC_GAN_1 Metrics'].data)\n",
    "    metrics3 = np.array(nb.scraps['ABC_GAN_3 Metrics'].data)\n",
    "    paramVar = float(nb.papermill_dataframe.iloc[0]['value'])\n",
    "    paramBias = float(nb.papermill_dataframe.iloc[1]['value'])\n",
    "    #Divide data according to parameters \n",
    "    for i in range(9):\n",
    "        if paramVar == paramVal[i][0] and paramBias == paramVal[i][1]:\n",
    "            for j in range(100):\n",
    "                abc_mae[i].append(metrics1[1,j])\n",
    "                abc_mae_skip[i].append(metrics3[1,j])\n",
    "            abc_weights[i].append(nb.scraps['Skip Connection Weight'].data)\n",
    "            prior_model[i].append(nb.scraps['Prior Model MSE'].data)\n",
    "            abc_pre_generator[i].append(nb.scraps['ABC Pre-generator MSE'].data)\n",
    "            abc_mae_skip_mean[i].append(mean(metrics3[1,:]))\n",
    "            abc_mae_mean[i].append(mean(metrics1[1,:]))"
   ]
  },
  {
   "cell_type": "code",
   "execution_count": null,
   "id": "14e1028f",
   "metadata": {},
   "outputs": [],
   "source": [
    "data = [[] for i in range(12)]\n",
    "for i in range(12):\n",
    "    for j in range(len(abc_weights[i])):\n",
    "        data[i].append([paramVal[i][0], paramVal[i][1],prior_model[i][j],\n",
    "                     abc_pre_generator[i][j],abc_weights[i][j],abc_mae_mean[i][j],abc_mae_skip_mean[i][j]])\n",
    "    df = pd.DataFrame(data[i], columns = ['Variance','Bias','Prior Model MAE',\n",
    "                                       'ABC pre-generator MAE','Skip Node weight','ABC GAN MAE','ABC_GAN MAE (skip connection)'])\n",
    "    display(df.round(5))\n",
    "    print(df.median(axis=0))\n",
    "    print(\"-------------------------------------------------------------\")"
   ]
  },
  {
   "cell_type": "code",
   "execution_count": null,
   "id": "d24c3ce1",
   "metadata": {},
   "outputs": [],
   "source": [
    "# Display Catboost Summary Tables \n",
    "data = np.array(data)\n",
    "tabnetData = []\n",
    "for i in range(12): \n",
    "    tabnetData.append([paramVal[i][0], paramVal[i][1],catboost,median(data[i][:,3]),median(data[i][:,5]),median(data[i][:,6]),median(data[i][:,4])])\n",
    "df = pd.DataFrame(tabnetData, columns = ['Variance','Bias','TabNet','Prior Model MAE','mGAN','skipGAN','Skip Node weight'])\n",
    "display(df.round(5))"
   ]
  }
 ],
 "metadata": {
  "interpreter": {
   "hash": "10498c76ddd8160350534c6544a2b2fb65f2138dbc70420f7c81a3268f830f23"
  },
  "kernelspec": {
   "display_name": "papermill-tutorial",
   "language": "python",
   "name": "python3"
  },
  "language_info": {
   "codemirror_mode": {
    "name": "ipython",
    "version": 3
   },
   "file_extension": ".py",
   "mimetype": "text/x-python",
   "name": "python",
   "nbconvert_exporter": "python",
   "pygments_lexer": "ipython3",
   "version": "3.8.11"
  }
 },
 "nbformat": 4,
 "nbformat_minor": 5
}
