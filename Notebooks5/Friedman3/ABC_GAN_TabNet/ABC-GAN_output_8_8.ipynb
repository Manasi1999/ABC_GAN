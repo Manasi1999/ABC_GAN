{
 "cells": [
  {
   "cell_type": "markdown",
   "id": "622780e6",
   "metadata": {
    "id": "622780e6",
    "papermill": {
     "duration": 0.024518,
     "end_time": "2022-06-22T15:33:07.174244",
     "exception": false,
     "start_time": "2022-06-22T15:33:07.149726",
     "status": "completed"
    },
    "tags": []
   },
   "source": [
    "## Import Libraries "
   ]
  },
  {
   "cell_type": "code",
   "execution_count": 1,
   "id": "a62397e3",
   "metadata": {
    "execution": {
     "iopub.execute_input": "2022-06-22T15:33:07.255096Z",
     "iopub.status.busy": "2022-06-22T15:33:07.253012Z",
     "iopub.status.idle": "2022-06-22T15:33:07.264936Z",
     "shell.execute_reply": "2022-06-22T15:33:07.265728Z"
    },
    "id": "a62397e3",
    "papermill": {
     "duration": 0.066948,
     "end_time": "2022-06-22T15:33:07.266122",
     "exception": false,
     "start_time": "2022-06-22T15:33:07.199174",
     "status": "completed"
    },
    "tags": []
   },
   "outputs": [],
   "source": [
    "import warnings\n",
    "import sys\n",
    "sys.path.insert(0, '../../src')\n",
    "warnings.filterwarnings('ignore')"
   ]
  },
  {
   "cell_type": "code",
   "execution_count": 2,
   "id": "d6a4e155",
   "metadata": {
    "execution": {
     "iopub.execute_input": "2022-06-22T15:33:07.350221Z",
     "iopub.status.busy": "2022-06-22T15:33:07.349236Z",
     "iopub.status.idle": "2022-06-22T15:33:15.622716Z",
     "shell.execute_reply": "2022-06-22T15:33:15.623306Z"
    },
    "id": "d6a4e155",
    "papermill": {
     "duration": 8.31767,
     "end_time": "2022-06-22T15:33:15.623562",
     "exception": false,
     "start_time": "2022-06-22T15:33:07.305892",
     "status": "completed"
    },
    "tags": []
   },
   "outputs": [],
   "source": [
    "import ABC_train_test2\n",
    "import friedman3Dataset\n",
    "import network\n",
    "import dataset\n",
    "import sanityChecks\n",
    "import torch \n",
    "import scrapbook as sb\n",
    "from statistics import mean \n",
    "import catboost as ctb \n",
    "from sklearn.model_selection import train_test_split\n",
    "from sklearn.metrics import mean_squared_error,mean_absolute_error\n",
    "import numpy as np\n",
    "from pytorch_tabnet.tab_model import TabNetRegressor"
   ]
  },
  {
   "cell_type": "markdown",
   "id": "2fa5b0f7",
   "metadata": {
    "id": "2fa5b0f7",
    "papermill": {
     "duration": 0.031883,
     "end_time": "2022-06-22T15:33:15.677026",
     "exception": false,
     "start_time": "2022-06-22T15:33:15.645143",
     "status": "completed"
    },
    "tags": []
   },
   "source": [
    "## Parameters "
   ]
  },
  {
   "cell_type": "code",
   "execution_count": 3,
   "id": "783186fb",
   "metadata": {
    "execution": {
     "iopub.execute_input": "2022-06-22T15:33:15.725642Z",
     "iopub.status.busy": "2022-06-22T15:33:15.722610Z",
     "iopub.status.idle": "2022-06-22T15:33:15.726595Z",
     "shell.execute_reply": "2022-06-22T15:33:15.727117Z"
    },
    "id": "783186fb",
    "papermill": {
     "duration": 0.026323,
     "end_time": "2022-06-22T15:33:15.727343",
     "exception": false,
     "start_time": "2022-06-22T15:33:15.701020",
     "status": "completed"
    },
    "tags": [
     "parameters"
    ]
   },
   "outputs": [],
   "source": [
    "variance = 1\n",
    "bias = 1 "
   ]
  },
  {
   "cell_type": "code",
   "execution_count": 4,
   "id": "872fa841",
   "metadata": {
    "execution": {
     "iopub.execute_input": "2022-06-22T15:33:15.768303Z",
     "iopub.status.busy": "2022-06-22T15:33:15.766725Z",
     "iopub.status.idle": "2022-06-22T15:33:15.769431Z",
     "shell.execute_reply": "2022-06-22T15:33:15.769947Z"
    },
    "papermill": {
     "duration": 0.026287,
     "end_time": "2022-06-22T15:33:15.770171",
     "exception": false,
     "start_time": "2022-06-22T15:33:15.743884",
     "status": "completed"
    },
    "tags": [
     "injected-parameters"
    ]
   },
   "outputs": [],
   "source": [
    "# Parameters\n",
    "variance = 0.01\n",
    "bias = 0.01\n"
   ]
  },
  {
   "cell_type": "markdown",
   "id": "391cdbfd",
   "metadata": {
    "id": "391cdbfd",
    "papermill": {
     "duration": 0.026441,
     "end_time": "2022-06-22T15:33:15.815375",
     "exception": false,
     "start_time": "2022-06-22T15:33:15.788934",
     "status": "completed"
    },
    "tags": []
   },
   "source": [
    "## Dataset \n"
   ]
  },
  {
   "cell_type": "code",
   "execution_count": 5,
   "id": "5b51f161",
   "metadata": {
    "execution": {
     "iopub.execute_input": "2022-06-22T15:33:15.858488Z",
     "iopub.status.busy": "2022-06-22T15:33:15.854280Z",
     "iopub.status.idle": "2022-06-22T15:33:15.859491Z",
     "shell.execute_reply": "2022-06-22T15:33:15.859959Z"
    },
    "id": "5b51f161",
    "papermill": {
     "duration": 0.025965,
     "end_time": "2022-06-22T15:33:15.860315",
     "exception": false,
     "start_time": "2022-06-22T15:33:15.834350",
     "status": "completed"
    },
    "tags": []
   },
   "outputs": [],
   "source": [
    "#Parameters \n",
    "n_features = 4\n",
    "n_samples= 100\n",
    "n_target = 1"
   ]
  },
  {
   "cell_type": "code",
   "execution_count": 6,
   "id": "5d6eced4",
   "metadata": {
    "execution": {
     "iopub.execute_input": "2022-06-22T15:33:15.920647Z",
     "iopub.status.busy": "2022-06-22T15:33:15.907044Z",
     "iopub.status.idle": "2022-06-22T15:33:15.931318Z",
     "shell.execute_reply": "2022-06-22T15:33:15.932146Z"
    },
    "id": "5d6eced4",
    "papermill": {
     "duration": 0.054536,
     "end_time": "2022-06-22T15:33:15.932486",
     "exception": false,
     "start_time": "2022-06-22T15:33:15.877950",
     "status": "completed"
    },
    "tags": []
   },
   "outputs": [
    {
     "name": "stdout",
     "output_type": "stream",
     "text": [
      "          X1           X2        X3         X4         Y\n",
      "0  53.370774  1156.025681  0.303738   4.950854  1.320548\n",
      "1  52.294866  1740.858512  0.596459   4.483936  1.565732\n",
      "2  54.266889   902.994246  0.878407   4.942755  1.698079\n",
      "3  29.361834   625.135193  0.923901  10.033861  1.669080\n",
      "4  21.041621   156.691891  0.922568   8.420930  1.364483\n"
     ]
    }
   ],
   "source": [
    "X,Y = friedman3Dataset.friedman3_data(n_samples)"
   ]
  },
  {
   "cell_type": "code",
   "execution_count": 7,
   "id": "fe007438",
   "metadata": {
    "execution": {
     "iopub.execute_input": "2022-06-22T15:33:16.002614Z",
     "iopub.status.busy": "2022-06-22T15:33:15.997842Z",
     "iopub.status.idle": "2022-06-22T15:33:16.004899Z",
     "shell.execute_reply": "2022-06-22T15:33:16.005691Z"
    },
    "id": "fe007438",
    "papermill": {
     "duration": 0.050223,
     "end_time": "2022-06-22T15:33:16.005963",
     "exception": false,
     "start_time": "2022-06-22T15:33:15.955740",
     "status": "completed"
    },
    "tags": []
   },
   "outputs": [],
   "source": [
    "#Train test split for dataset \n",
    "X_train,X_test,Y_train,Y_test = train_test_split(X,Y,test_size = 0.2)\n",
    "train_data = dataset.CustomDataset(X_train,Y_train)\n",
    "test_data = dataset.CustomDataset(X_test,Y_test)\n"
   ]
  },
  {
   "cell_type": "markdown",
   "id": "a9a1af34",
   "metadata": {
    "id": "a9a1af34",
    "papermill": {
     "duration": 0.022799,
     "end_time": "2022-06-22T15:33:16.051144",
     "exception": false,
     "start_time": "2022-06-22T15:33:16.028345",
     "status": "completed"
    },
    "tags": []
   },
   "source": [
    "## Training Parameters "
   ]
  },
  {
   "cell_type": "code",
   "execution_count": 8,
   "id": "952b7fc8",
   "metadata": {
    "execution": {
     "iopub.execute_input": "2022-06-22T15:33:16.156210Z",
     "iopub.status.busy": "2022-06-22T15:33:16.152104Z",
     "iopub.status.idle": "2022-06-22T15:33:16.161509Z",
     "shell.execute_reply": "2022-06-22T15:33:16.159360Z"
    },
    "id": "952b7fc8",
    "papermill": {
     "duration": 0.086886,
     "end_time": "2022-06-22T15:33:16.161872",
     "exception": false,
     "start_time": "2022-06-22T15:33:16.074986",
     "status": "completed"
    },
    "tags": []
   },
   "outputs": [],
   "source": [
    "batch_size = 32\n",
    "n_epochs = 1000\n",
    "#Select the device \n",
    "device = torch.device('cuda' if torch.cuda.is_available() else 'cpu')"
   ]
  },
  {
   "cell_type": "markdown",
   "id": "a95e1600",
   "metadata": {
    "id": "a95e1600",
    "papermill": {
     "duration": 0.023934,
     "end_time": "2022-06-22T15:33:16.276763",
     "exception": false,
     "start_time": "2022-06-22T15:33:16.252829",
     "status": "completed"
    },
    "tags": []
   },
   "source": [
    "# ABC Pre-generator Model \n",
    "\n",
    "1. The catboost model is used as a pre-generator model for the ABC-GAN. \n",
    "2. The model is first trained on the entire dataset \n",
    "3. It generats X,Y pairs and we add some Gaussian noise with mean 0 and variance 1 to it which is then feed as input to the generator.\n"
   ]
  },
  {
   "cell_type": "code",
   "execution_count": 9,
   "id": "ff8ce7bd",
   "metadata": {
    "execution": {
     "iopub.execute_input": "2022-06-22T15:33:16.359902Z",
     "iopub.status.busy": "2022-06-22T15:33:16.358729Z",
     "iopub.status.idle": "2022-06-22T15:33:39.126471Z",
     "shell.execute_reply": "2022-06-22T15:33:39.127477Z"
    },
    "id": "ff8ce7bd",
    "papermill": {
     "duration": 22.81581,
     "end_time": "2022-06-22T15:33:39.127792",
     "exception": false,
     "start_time": "2022-06-22T15:33:16.311982",
     "status": "completed"
    },
    "tags": []
   },
   "outputs": [
    {
     "name": "stdout",
     "output_type": "stream",
     "text": [
      "Device used : cpu\n"
     ]
    },
    {
     "name": "stdout",
     "output_type": "stream",
     "text": [
      "epoch 0  | loss: 0.93322 | train_mse: 6.06836 | train_mae: 1.79705 |  0:00:00s\n",
      "epoch 1  | loss: 0.52004 | train_mse: 3.07455 | train_mae: 1.42094 |  0:00:00s\n"
     ]
    },
    {
     "name": "stdout",
     "output_type": "stream",
     "text": [
      "epoch 2  | loss: 0.4643  | train_mse: 2.16552 | train_mae: 1.14534 |  0:00:01s\n"
     ]
    },
    {
     "name": "stdout",
     "output_type": "stream",
     "text": [
      "epoch 3  | loss: 0.54992 | train_mse: 2.42274 | train_mae: 1.24128 |  0:00:01s\n"
     ]
    },
    {
     "name": "stdout",
     "output_type": "stream",
     "text": [
      "epoch 4  | loss: 0.56594 | train_mse: 1.72321 | train_mae: 1.04583 |  0:00:01s\n",
      "epoch 5  | loss: 0.55972 | train_mse: 1.67312 | train_mae: 0.97798 |  0:00:02s\n"
     ]
    },
    {
     "name": "stdout",
     "output_type": "stream",
     "text": [
      "epoch 6  | loss: 0.43859 | train_mse: 1.608   | train_mae: 0.955   |  0:00:02s\n",
      "epoch 7  | loss: 0.38928 | train_mse: 1.32176 | train_mae: 0.85883 |  0:00:02s\n"
     ]
    },
    {
     "name": "stdout",
     "output_type": "stream",
     "text": [
      "epoch 8  | loss: 0.45931 | train_mse: 1.18684 | train_mae: 0.8338  |  0:00:02s\n",
      "epoch 9  | loss: 0.38816 | train_mse: 1.21488 | train_mae: 0.81916 |  0:00:02s\n"
     ]
    },
    {
     "name": "stdout",
     "output_type": "stream",
     "text": [
      "epoch 10 | loss: 0.39913 | train_mse: 0.9231  | train_mae: 0.73473 |  0:00:02s\n",
      "epoch 11 | loss: 0.33072 | train_mse: 0.61786 | train_mae: 0.58538 |  0:00:02s\n"
     ]
    },
    {
     "name": "stdout",
     "output_type": "stream",
     "text": [
      "epoch 12 | loss: 0.3751  | train_mse: 0.45727 | train_mae: 0.49098 |  0:00:03s\n"
     ]
    },
    {
     "name": "stdout",
     "output_type": "stream",
     "text": [
      "epoch 13 | loss: 0.31105 | train_mse: 0.43685 | train_mae: 0.47053 |  0:00:03s\n",
      "epoch 14 | loss: 0.38784 | train_mse: 0.40137 | train_mae: 0.45214 |  0:00:04s\n"
     ]
    },
    {
     "name": "stdout",
     "output_type": "stream",
     "text": [
      "epoch 15 | loss: 0.38246 | train_mse: 0.34453 | train_mae: 0.44623 |  0:00:04s\n"
     ]
    },
    {
     "name": "stdout",
     "output_type": "stream",
     "text": [
      "epoch 16 | loss: 0.29352 | train_mse: 0.34094 | train_mae: 0.4479  |  0:00:04s\n"
     ]
    },
    {
     "name": "stdout",
     "output_type": "stream",
     "text": [
      "epoch 17 | loss: 0.40501 | train_mse: 0.32378 | train_mae: 0.4108  |  0:00:05s\n",
      "epoch 18 | loss: 0.28459 | train_mse: 0.31958 | train_mae: 0.39868 |  0:00:05s\n"
     ]
    },
    {
     "name": "stdout",
     "output_type": "stream",
     "text": [
      "epoch 19 | loss: 0.22351 | train_mse: 0.37495 | train_mae: 0.42626 |  0:00:05s\n",
      "epoch 20 | loss: 0.2881  | train_mse: 0.24103 | train_mae: 0.35104 |  0:00:06s\n"
     ]
    },
    {
     "name": "stdout",
     "output_type": "stream",
     "text": [
      "epoch 21 | loss: 0.30964 | train_mse: 0.35991 | train_mae: 0.40279 |  0:00:06s\n",
      "epoch 22 | loss: 0.35963 | train_mse: 0.28041 | train_mae: 0.38296 |  0:00:06s\n"
     ]
    },
    {
     "name": "stdout",
     "output_type": "stream",
     "text": [
      "epoch 23 | loss: 0.24446 | train_mse: 0.29088 | train_mae: 0.39574 |  0:00:06s\n",
      "epoch 24 | loss: 0.437   | train_mse: 0.2209  | train_mae: 0.36477 |  0:00:06s\n"
     ]
    },
    {
     "name": "stdout",
     "output_type": "stream",
     "text": [
      "epoch 25 | loss: 0.24498 | train_mse: 0.20572 | train_mae: 0.35114 |  0:00:06s\n",
      "epoch 26 | loss: 0.27022 | train_mse: 0.24949 | train_mae: 0.37969 |  0:00:06s\n"
     ]
    },
    {
     "name": "stdout",
     "output_type": "stream",
     "text": [
      "epoch 27 | loss: 0.29872 | train_mse: 0.2438  | train_mae: 0.36312 |  0:00:06s\n",
      "epoch 28 | loss: 0.24327 | train_mse: 0.30484 | train_mae: 0.36319 |  0:00:07s\n"
     ]
    },
    {
     "name": "stdout",
     "output_type": "stream",
     "text": [
      "epoch 29 | loss: 0.28321 | train_mse: 0.31111 | train_mae: 0.37368 |  0:00:07s\n",
      "epoch 30 | loss: 0.23943 | train_mse: 0.24554 | train_mae: 0.34952 |  0:00:07s\n"
     ]
    },
    {
     "name": "stdout",
     "output_type": "stream",
     "text": [
      "epoch 31 | loss: 0.20196 | train_mse: 0.27931 | train_mae: 0.37211 |  0:00:07s\n"
     ]
    },
    {
     "name": "stdout",
     "output_type": "stream",
     "text": [
      "epoch 32 | loss: 0.29278 | train_mse: 0.2418  | train_mae: 0.36975 |  0:00:08s\n",
      "epoch 33 | loss: 0.36468 | train_mse: 0.26107 | train_mae: 0.37473 |  0:00:08s\n"
     ]
    },
    {
     "name": "stdout",
     "output_type": "stream",
     "text": [
      "epoch 34 | loss: 0.25968 | train_mse: 0.24503 | train_mae: 0.37352 |  0:00:08s\n",
      "epoch 35 | loss: 0.4451  | train_mse: 0.22927 | train_mae: 0.3798  |  0:00:08s\n"
     ]
    },
    {
     "name": "stdout",
     "output_type": "stream",
     "text": [
      "epoch 36 | loss: 0.30735 | train_mse: 0.24865 | train_mae: 0.40293 |  0:00:08s\n",
      "epoch 37 | loss: 0.28147 | train_mse: 0.23007 | train_mae: 0.38479 |  0:00:08s\n"
     ]
    },
    {
     "name": "stdout",
     "output_type": "stream",
     "text": [
      "epoch 38 | loss: 0.20907 | train_mse: 0.17669 | train_mae: 0.32513 |  0:00:09s\n",
      "epoch 39 | loss: 0.19803 | train_mse: 0.1707  | train_mae: 0.30337 |  0:00:09s\n",
      "epoch 40 | loss: 0.25503 | train_mse: 0.17001 | train_mae: 0.31916 |  0:00:09s\n"
     ]
    },
    {
     "name": "stdout",
     "output_type": "stream",
     "text": [
      "epoch 41 | loss: 0.16546 | train_mse: 0.1695  | train_mae: 0.31421 |  0:00:09s\n",
      "epoch 42 | loss: 0.21822 | train_mse: 0.17033 | train_mae: 0.3089  |  0:00:09s\n"
     ]
    },
    {
     "name": "stdout",
     "output_type": "stream",
     "text": [
      "epoch 43 | loss: 0.19111 | train_mse: 0.15574 | train_mae: 0.29491 |  0:00:09s\n",
      "epoch 44 | loss: 0.26458 | train_mse: 0.13613 | train_mae: 0.27547 |  0:00:09s\n"
     ]
    },
    {
     "name": "stdout",
     "output_type": "stream",
     "text": [
      "epoch 45 | loss: 0.19904 | train_mse: 0.13454 | train_mae: 0.26832 |  0:00:09s\n",
      "epoch 46 | loss: 0.16683 | train_mse: 0.1586  | train_mae: 0.29557 |  0:00:09s\n",
      "epoch 47 | loss: 0.15047 | train_mse: 0.19167 | train_mae: 0.31508 |  0:00:10s\n"
     ]
    },
    {
     "name": "stdout",
     "output_type": "stream",
     "text": [
      "epoch 48 | loss: 0.13237 | train_mse: 0.1844  | train_mae: 0.3109  |  0:00:10s\n",
      "epoch 49 | loss: 0.16525 | train_mse: 0.1772  | train_mae: 0.31229 |  0:00:10s\n",
      "epoch 50 | loss: 0.33333 | train_mse: 0.16585 | train_mae: 0.29893 |  0:00:10s\n"
     ]
    },
    {
     "name": "stdout",
     "output_type": "stream",
     "text": [
      "epoch 51 | loss: 0.25526 | train_mse: 0.1608  | train_mae: 0.30757 |  0:00:10s\n",
      "epoch 52 | loss: 0.36111 | train_mse: 0.17463 | train_mae: 0.31986 |  0:00:10s\n",
      "epoch 53 | loss: 0.1722  | train_mse: 0.16108 | train_mae: 0.30051 |  0:00:10s\n"
     ]
    },
    {
     "name": "stdout",
     "output_type": "stream",
     "text": [
      "epoch 54 | loss: 0.20504 | train_mse: 0.17559 | train_mae: 0.31834 |  0:00:10s\n",
      "epoch 55 | loss: 0.33411 | train_mse: 0.18262 | train_mae: 0.32411 |  0:00:10s\n"
     ]
    },
    {
     "name": "stdout",
     "output_type": "stream",
     "text": [
      "epoch 56 | loss: 0.19065 | train_mse: 0.1791  | train_mae: 0.31201 |  0:00:10s\n",
      "epoch 57 | loss: 0.19977 | train_mse: 0.18641 | train_mae: 0.31685 |  0:00:10s\n",
      "epoch 58 | loss: 0.27228 | train_mse: 0.17979 | train_mae: 0.32634 |  0:00:11s\n"
     ]
    },
    {
     "name": "stdout",
     "output_type": "stream",
     "text": [
      "epoch 59 | loss: 0.2325  | train_mse: 0.14883 | train_mae: 0.31076 |  0:00:11s\n",
      "epoch 60 | loss: 0.18109 | train_mse: 0.13707 | train_mae: 0.30166 |  0:00:11s\n",
      "epoch 61 | loss: 0.21237 | train_mse: 0.14675 | train_mae: 0.30498 |  0:00:11s\n"
     ]
    },
    {
     "name": "stdout",
     "output_type": "stream",
     "text": [
      "epoch 62 | loss: 0.17136 | train_mse: 0.13431 | train_mae: 0.29091 |  0:00:11s\n",
      "epoch 63 | loss: 0.32595 | train_mse: 0.16327 | train_mae: 0.30514 |  0:00:11s\n",
      "epoch 64 | loss: 0.16133 | train_mse: 0.20908 | train_mae: 0.32814 |  0:00:11s\n"
     ]
    },
    {
     "name": "stdout",
     "output_type": "stream",
     "text": [
      "epoch 65 | loss: 0.21083 | train_mse: 0.17216 | train_mae: 0.30574 |  0:00:11s\n",
      "epoch 66 | loss: 0.23663 | train_mse: 0.12087 | train_mae: 0.28104 |  0:00:11s\n"
     ]
    },
    {
     "name": "stdout",
     "output_type": "stream",
     "text": [
      "epoch 67 | loss: 0.20075 | train_mse: 0.12046 | train_mae: 0.27687 |  0:00:11s\n"
     ]
    },
    {
     "name": "stdout",
     "output_type": "stream",
     "text": [
      "epoch 68 | loss: 0.31119 | train_mse: 0.13977 | train_mae: 0.29933 |  0:00:12s\n"
     ]
    },
    {
     "name": "stdout",
     "output_type": "stream",
     "text": [
      "epoch 69 | loss: 0.37705 | train_mse: 0.17264 | train_mae: 0.32431 |  0:00:13s\n",
      "epoch 70 | loss: 0.23644 | train_mse: 0.15967 | train_mae: 0.30451 |  0:00:13s\n"
     ]
    },
    {
     "name": "stdout",
     "output_type": "stream",
     "text": [
      "epoch 71 | loss: 0.19001 | train_mse: 0.15196 | train_mae: 0.28352 |  0:00:13s\n",
      "epoch 72 | loss: 0.1392  | train_mse: 0.16165 | train_mae: 0.28215 |  0:00:13s\n"
     ]
    },
    {
     "name": "stdout",
     "output_type": "stream",
     "text": [
      "epoch 73 | loss: 0.17178 | train_mse: 0.15666 | train_mae: 0.28622 |  0:00:13s\n"
     ]
    },
    {
     "name": "stdout",
     "output_type": "stream",
     "text": [
      "epoch 74 | loss: 0.22349 | train_mse: 0.12408 | train_mae: 0.25482 |  0:00:13s\n",
      "epoch 75 | loss: 0.20154 | train_mse: 0.12349 | train_mae: 0.25993 |  0:00:13s\n"
     ]
    },
    {
     "name": "stdout",
     "output_type": "stream",
     "text": [
      "epoch 76 | loss: 0.1914  | train_mse: 0.11904 | train_mae: 0.26083 |  0:00:14s\n",
      "epoch 77 | loss: 0.11072 | train_mse: 0.13048 | train_mae: 0.27021 |  0:00:14s\n"
     ]
    },
    {
     "name": "stdout",
     "output_type": "stream",
     "text": [
      "epoch 78 | loss: 0.15872 | train_mse: 0.11866 | train_mae: 0.25959 |  0:00:14s\n",
      "epoch 79 | loss: 0.14662 | train_mse: 0.1121  | train_mae: 0.2586  |  0:00:14s\n",
      "epoch 80 | loss: 0.1854  | train_mse: 0.11436 | train_mae: 0.26247 |  0:00:14s\n"
     ]
    },
    {
     "name": "stdout",
     "output_type": "stream",
     "text": [
      "epoch 81 | loss: 0.1135  | train_mse: 0.11969 | train_mae: 0.26413 |  0:00:14s\n",
      "epoch 82 | loss: 0.13381 | train_mse: 0.13314 | train_mae: 0.27567 |  0:00:14s\n"
     ]
    },
    {
     "name": "stdout",
     "output_type": "stream",
     "text": [
      "epoch 83 | loss: 0.12882 | train_mse: 0.12058 | train_mae: 0.26611 |  0:00:14s\n"
     ]
    },
    {
     "name": "stdout",
     "output_type": "stream",
     "text": [
      "epoch 84 | loss: 0.26312 | train_mse: 0.09844 | train_mae: 0.24097 |  0:00:15s\n",
      "epoch 85 | loss: 0.18867 | train_mse: 0.08767 | train_mae: 0.22939 |  0:00:15s\n"
     ]
    },
    {
     "name": "stdout",
     "output_type": "stream",
     "text": [
      "epoch 86 | loss: 0.24218 | train_mse: 0.09208 | train_mae: 0.23791 |  0:00:15s\n",
      "epoch 87 | loss: 0.22395 | train_mse: 0.11066 | train_mae: 0.2526  |  0:00:15s\n",
      "epoch 88 | loss: 0.15498 | train_mse: 0.13609 | train_mae: 0.27891 |  0:00:15s\n"
     ]
    },
    {
     "name": "stdout",
     "output_type": "stream",
     "text": [
      "epoch 89 | loss: 0.1822  | train_mse: 0.12887 | train_mae: 0.27256 |  0:00:15s\n",
      "epoch 90 | loss: 0.17672 | train_mse: 0.10939 | train_mae: 0.25344 |  0:00:15s\n"
     ]
    },
    {
     "name": "stdout",
     "output_type": "stream",
     "text": [
      "epoch 91 | loss: 0.1649  | train_mse: 0.1     | train_mae: 0.24207 |  0:00:15s\n",
      "epoch 92 | loss: 0.20716 | train_mse: 0.09207 | train_mae: 0.23682 |  0:00:15s\n",
      "epoch 93 | loss: 0.21924 | train_mse: 0.11667 | train_mae: 0.25662 |  0:00:15s\n"
     ]
    },
    {
     "name": "stdout",
     "output_type": "stream",
     "text": [
      "epoch 94 | loss: 0.20926 | train_mse: 0.11626 | train_mae: 0.26154 |  0:00:16s\n",
      "epoch 95 | loss: 0.16067 | train_mse: 0.11293 | train_mae: 0.26936 |  0:00:16s\n",
      "epoch 96 | loss: 0.15562 | train_mse: 0.11378 | train_mae: 0.27001 |  0:00:16s\n"
     ]
    },
    {
     "name": "stdout",
     "output_type": "stream",
     "text": [
      "epoch 97 | loss: 0.13358 | train_mse: 0.13514 | train_mae: 0.28803 |  0:00:16s\n",
      "epoch 98 | loss: 0.1423  | train_mse: 0.12444 | train_mae: 0.27553 |  0:00:16s\n",
      "epoch 99 | loss: 0.14052 | train_mse: 0.12226 | train_mae: 0.27286 |  0:00:16s\n"
     ]
    },
    {
     "name": "stdout",
     "output_type": "stream",
     "text": [
      "epoch 100| loss: 0.15349 | train_mse: 0.10792 | train_mae: 0.2672  |  0:00:16s\n",
      "epoch 101| loss: 0.13187 | train_mse: 0.09161 | train_mae: 0.24716 |  0:00:16s\n"
     ]
    },
    {
     "name": "stdout",
     "output_type": "stream",
     "text": [
      "epoch 102| loss: 0.11834 | train_mse: 0.08336 | train_mae: 0.22796 |  0:00:16s\n",
      "epoch 103| loss: 0.11831 | train_mse: 0.086   | train_mae: 0.22724 |  0:00:16s\n",
      "epoch 104| loss: 0.13771 | train_mse: 0.08912 | train_mae: 0.23039 |  0:00:17s\n"
     ]
    },
    {
     "name": "stdout",
     "output_type": "stream",
     "text": [
      "epoch 105| loss: 0.21409 | train_mse: 0.10797 | train_mae: 0.25238 |  0:00:17s\n",
      "epoch 106| loss: 0.21346 | train_mse: 0.11784 | train_mae: 0.2693  |  0:00:17s\n",
      "epoch 107| loss: 0.12745 | train_mse: 0.09916 | train_mae: 0.24452 |  0:00:17s\n"
     ]
    },
    {
     "name": "stdout",
     "output_type": "stream",
     "text": [
      "epoch 108| loss: 0.24865 | train_mse: 0.13274 | train_mae: 0.27883 |  0:00:17s\n",
      "epoch 109| loss: 0.17365 | train_mse: 0.12847 | train_mae: 0.27442 |  0:00:17s\n",
      "epoch 110| loss: 0.15964 | train_mse: 0.11222 | train_mae: 0.2677  |  0:00:17s\n"
     ]
    },
    {
     "name": "stdout",
     "output_type": "stream",
     "text": [
      "epoch 111| loss: 0.12001 | train_mse: 0.12328 | train_mae: 0.27676 |  0:00:17s\n",
      "epoch 112| loss: 0.23271 | train_mse: 0.12053 | train_mae: 0.26073 |  0:00:17s\n"
     ]
    },
    {
     "name": "stdout",
     "output_type": "stream",
     "text": [
      "epoch 113| loss: 0.12943 | train_mse: 0.12164 | train_mae: 0.25825 |  0:00:17s\n",
      "epoch 114| loss: 0.18512 | train_mse: 0.09016 | train_mae: 0.2358  |  0:00:18s\n",
      "epoch 115| loss: 0.09687 | train_mse: 0.0834  | train_mae: 0.22342 |  0:00:18s\n"
     ]
    },
    {
     "name": "stdout",
     "output_type": "stream",
     "text": [
      "epoch 116| loss: 0.14289 | train_mse: 0.09615 | train_mae: 0.2483  |  0:00:18s\n",
      "epoch 117| loss: 0.12442 | train_mse: 0.09104 | train_mae: 0.24529 |  0:00:18s\n",
      "epoch 118| loss: 0.33426 | train_mse: 0.09052 | train_mae: 0.24907 |  0:00:18s\n"
     ]
    },
    {
     "name": "stdout",
     "output_type": "stream",
     "text": [
      "epoch 119| loss: 0.1143  | train_mse: 0.08428 | train_mae: 0.23436 |  0:00:18s\n",
      "epoch 120| loss: 0.19283 | train_mse: 0.08272 | train_mae: 0.23032 |  0:00:18s\n",
      "epoch 121| loss: 0.22212 | train_mse: 0.08494 | train_mae: 0.23194 |  0:00:18s\n"
     ]
    },
    {
     "name": "stdout",
     "output_type": "stream",
     "text": [
      "epoch 122| loss: 0.10785 | train_mse: 0.09008 | train_mae: 0.23518 |  0:00:18s\n",
      "epoch 123| loss: 0.09562 | train_mse: 0.11    | train_mae: 0.2637  |  0:00:18s\n",
      "epoch 124| loss: 0.25546 | train_mse: 0.11883 | train_mae: 0.27329 |  0:00:18s\n"
     ]
    },
    {
     "name": "stdout",
     "output_type": "stream",
     "text": [
      "epoch 125| loss: 0.17992 | train_mse: 0.12322 | train_mae: 0.27141 |  0:00:19s\n",
      "epoch 126| loss: 0.12598 | train_mse: 0.11659 | train_mae: 0.25644 |  0:00:19s\n",
      "epoch 127| loss: 0.14965 | train_mse: 0.10995 | train_mae: 0.25812 |  0:00:19s\n"
     ]
    },
    {
     "name": "stdout",
     "output_type": "stream",
     "text": [
      "epoch 128| loss: 0.16743 | train_mse: 0.08808 | train_mae: 0.23707 |  0:00:19s\n",
      "epoch 129| loss: 0.12143 | train_mse: 0.08707 | train_mae: 0.2353  |  0:00:19s\n",
      "epoch 130| loss: 0.14713 | train_mse: 0.08204 | train_mae: 0.2269  |  0:00:19s\n"
     ]
    },
    {
     "name": "stdout",
     "output_type": "stream",
     "text": [
      "epoch 131| loss: 0.12356 | train_mse: 0.095   | train_mae: 0.25016 |  0:00:19s\n",
      "epoch 132| loss: 0.19894 | train_mse: 0.11141 | train_mae: 0.26056 |  0:00:19s\n"
     ]
    },
    {
     "name": "stdout",
     "output_type": "stream",
     "text": [
      "epoch 133| loss: 0.15823 | train_mse: 0.08211 | train_mae: 0.23064 |  0:00:19s\n",
      "epoch 134| loss: 0.09889 | train_mse: 0.07962 | train_mae: 0.22616 |  0:00:19s\n",
      "epoch 135| loss: 0.12146 | train_mse: 0.08284 | train_mae: 0.23846 |  0:00:19s\n"
     ]
    },
    {
     "name": "stdout",
     "output_type": "stream",
     "text": [
      "epoch 136| loss: 0.23534 | train_mse: 0.08404 | train_mae: 0.24075 |  0:00:20s\n",
      "epoch 137| loss: 0.10058 | train_mse: 0.08238 | train_mae: 0.23406 |  0:00:20s\n",
      "epoch 138| loss: 0.13152 | train_mse: 0.08111 | train_mae: 0.23333 |  0:00:20s\n"
     ]
    },
    {
     "name": "stdout",
     "output_type": "stream",
     "text": [
      "epoch 139| loss: 0.32132 | train_mse: 0.08562 | train_mae: 0.23357 |  0:00:20s\n",
      "epoch 140| loss: 0.15464 | train_mse: 0.10891 | train_mae: 0.24998 |  0:00:20s\n",
      "epoch 141| loss: 0.1586  | train_mse: 0.11216 | train_mae: 0.24477 |  0:00:20s\n"
     ]
    },
    {
     "name": "stdout",
     "output_type": "stream",
     "text": [
      "epoch 142| loss: 0.23206 | train_mse: 0.16249 | train_mae: 0.29854 |  0:00:20s\n",
      "epoch 143| loss: 0.13097 | train_mse: 0.20303 | train_mae: 0.31517 |  0:00:20s\n"
     ]
    },
    {
     "name": "stdout",
     "output_type": "stream",
     "text": [
      "epoch 144| loss: 0.21244 | train_mse: 0.1622  | train_mae: 0.27358 |  0:00:20s\n",
      "epoch 145| loss: 0.13606 | train_mse: 0.14286 | train_mae: 0.26781 |  0:00:20s\n",
      "epoch 146| loss: 0.20995 | train_mse: 0.14609 | train_mae: 0.26684 |  0:00:20s\n"
     ]
    },
    {
     "name": "stdout",
     "output_type": "stream",
     "text": [
      "epoch 147| loss: 0.23702 | train_mse: 0.17775 | train_mae: 0.28837 |  0:00:21s\n",
      "epoch 148| loss: 0.21745 | train_mse: 0.18643 | train_mae: 0.29306 |  0:00:21s\n",
      "epoch 149| loss: 0.15616 | train_mse: 0.17869 | train_mae: 0.28763 |  0:00:21s\n"
     ]
    },
    {
     "name": "stdout",
     "output_type": "stream",
     "text": [
      "epoch 150| loss: 0.12799 | train_mse: 0.14608 | train_mae: 0.26854 |  0:00:21s\n",
      "epoch 151| loss: 0.12716 | train_mse: 0.11046 | train_mae: 0.25583 |  0:00:21s\n",
      "epoch 152| loss: 0.47193 | train_mse: 0.20981 | train_mae: 0.31262 |  0:00:21s\n"
     ]
    },
    {
     "name": "stdout",
     "output_type": "stream",
     "text": [
      "epoch 153| loss: 0.2686  | train_mse: 0.20772 | train_mae: 0.31248 |  0:00:21s\n",
      "epoch 154| loss: 0.18915 | train_mse: 0.14548 | train_mae: 0.28876 |  0:00:21s\n",
      "epoch 155| loss: 0.15275 | train_mse: 0.1234  | train_mae: 0.26038 |  0:00:21s\n"
     ]
    },
    {
     "name": "stdout",
     "output_type": "stream",
     "text": [
      "epoch 156| loss: 0.16998 | train_mse: 0.15505 | train_mae: 0.27192 |  0:00:21s\n",
      "epoch 157| loss: 0.23294 | train_mse: 0.19868 | train_mae: 0.30294 |  0:00:21s\n",
      "epoch 158| loss: 0.14219 | train_mse: 0.17281 | train_mae: 0.27782 |  0:00:22s\n"
     ]
    },
    {
     "name": "stdout",
     "output_type": "stream",
     "text": [
      "epoch 159| loss: 0.15072 | train_mse: 0.14834 | train_mae: 0.25546 |  0:00:22s\n",
      "epoch 160| loss: 0.17581 | train_mse: 0.14051 | train_mae: 0.25229 |  0:00:22s\n",
      "epoch 161| loss: 0.24047 | train_mse: 0.13218 | train_mae: 0.25008 |  0:00:22s\n"
     ]
    },
    {
     "name": "stdout",
     "output_type": "stream",
     "text": [
      "epoch 162| loss: 0.17296 | train_mse: 0.1254  | train_mae: 0.24817 |  0:00:22s\n",
      "epoch 163| loss: 0.20324 | train_mse: 0.12177 | train_mae: 0.24951 |  0:00:22s\n",
      "epoch 164| loss: 0.20843 | train_mse: 0.10757 | train_mae: 0.24326 |  0:00:22s\n"
     ]
    },
    {
     "name": "stdout",
     "output_type": "stream",
     "text": [
      "epoch 165| loss: 0.20339 | train_mse: 0.09805 | train_mae: 0.23617 |  0:00:22s\n",
      "\n",
      "Early stopping occurred at epoch 165 with best_epoch = 115 and best_train_mae = 0.22342\n",
      "Best weights from best epoch are automatically used!\n"
     ]
    }
   ],
   "source": [
    "#Train the Model\n",
    "\n",
    "Y_train = np.reshape(Y_train, (-1, 1))\n",
    "Y_test = np.reshape(Y_test, (-1, 1))\n",
    "\n",
    "prior_model = TabNetRegressor(optimizer_fn=torch.optim.Adam, optimizer_params=dict(lr = 0.02),\n",
    "          #scheduler_params={\"step_size\":10, ], \"gamma\":0.9},\n",
    "          #scheduler_fn=torch.optim.lr_scheduler.StepLR\n",
    "          )  #TabNetRegressor()\n",
    "\n",
    "prior_model.fit(X_train,Y_train,eval_set=[(X_train, Y_train)],\n",
    "            eval_name=['train'], \n",
    "            eval_metric=[ 'mse', 'mae'], \n",
    "            max_epochs = n_epochs, \n",
    "            batch_size = batch_size,\n",
    "            patience=50\n",
    "            )"
   ]
  },
  {
   "cell_type": "code",
   "execution_count": 10,
   "id": "af65dcda",
   "metadata": {
    "execution": {
     "iopub.execute_input": "2022-06-22T15:33:39.265066Z",
     "iopub.status.busy": "2022-06-22T15:33:39.264271Z",
     "iopub.status.idle": "2022-06-22T15:33:39.305327Z",
     "shell.execute_reply": "2022-06-22T15:33:39.306205Z"
    },
    "id": "af65dcda",
    "papermill": {
     "duration": 0.137867,
     "end_time": "2022-06-22T15:33:39.306446",
     "exception": false,
     "start_time": "2022-06-22T15:33:39.168579",
     "status": "completed"
    },
    "tags": []
   },
   "outputs": [
    {
     "data": {
      "application/scrapbook.scrap.json+json": {
       "data": 0.16264967683775527,
       "encoder": "json",
       "name": "Prior Model MSE",
       "version": 1
      }
     },
     "metadata": {
      "scrapbook": {
       "data": true,
       "display": false,
       "name": "Prior Model MSE"
      }
     },
     "output_type": "display_data"
    },
    {
     "data": {
      "application/scrapbook.scrap.json+json": {
       "data": 0.15663182660121172,
       "encoder": "json",
       "name": "ABC Pre-generator MSE",
       "version": 1
      }
     },
     "metadata": {
      "scrapbook": {
       "data": true,
       "display": false,
       "name": "ABC Pre-generator MSE"
      }
     },
     "output_type": "display_data"
    },
    {
     "data": {
      "application/scrapbook.scrap.json+json": {
       "data": 0.31698062974746877,
       "encoder": "json",
       "name": "Prior Model MSE",
       "version": 1
      }
     },
     "metadata": {
      "scrapbook": {
       "data": true,
       "display": false,
       "name": "Prior Model MSE"
      }
     },
     "output_type": "display_data"
    },
    {
     "data": {
      "application/scrapbook.scrap.json+json": {
       "data": 0.3094170212326025,
       "encoder": "json",
       "name": "ABC Pre-generator MSE",
       "version": 1
      }
     },
     "metadata": {
      "scrapbook": {
       "data": true,
       "display": false,
       "name": "ABC Pre-generator MSE"
      }
     },
     "output_type": "display_data"
    }
   ],
   "source": [
    "y_pred = prior_model.predict(X_test)\n",
    "y_abc = y_pred + np.random.normal(0,variance, y_pred.shape) + bias \n",
    "mse = mean_squared_error(y_pred,Y_test)\n",
    "sb.glue(\"Prior Model MSE\",mse)\n",
    "mse = mean_squared_error(y_abc,Y_test)\n",
    "sb.glue(\"ABC Pre-generator MSE\",mse)\n",
    "mae = mean_absolute_error(y_pred,Y_test)\n",
    "sb.glue(\"Prior Model MSE\",mae)\n",
    "mae = mean_absolute_error(y_abc,Y_test)\n",
    "sb.glue(\"ABC Pre-generator MSE\",mae)"
   ]
  },
  {
   "cell_type": "markdown",
   "id": "25609da2",
   "metadata": {
    "papermill": {
     "duration": 0.064226,
     "end_time": "2022-06-22T15:33:39.415693",
     "exception": false,
     "start_time": "2022-06-22T15:33:39.351467",
     "status": "completed"
    },
    "tags": []
   },
   "source": [
    "# ABC GAN Model"
   ]
  },
  {
   "cell_type": "code",
   "execution_count": 11,
   "id": "dfc3464d",
   "metadata": {
    "execution": {
     "iopub.execute_input": "2022-06-22T15:33:39.493369Z",
     "iopub.status.busy": "2022-06-22T15:33:39.492312Z",
     "iopub.status.idle": "2022-06-22T15:33:39.498003Z",
     "shell.execute_reply": "2022-06-22T15:33:39.498579Z"
    },
    "papermill": {
     "duration": 0.045608,
     "end_time": "2022-06-22T15:33:39.498796",
     "exception": false,
     "start_time": "2022-06-22T15:33:39.453188",
     "status": "completed"
    },
    "tags": []
   },
   "outputs": [],
   "source": [
    "gen = network.Generator(n_features+1).to(device)\n",
    "disc = network.Discriminator(n_features+1).to(device)\n",
    "\n",
    "criterion = torch.nn.BCELoss()\n",
    "gen_opt = torch.optim.Adam(gen.parameters(), lr=0.001, betas=(0.5, 0.999))\n",
    "disc_opt = torch.optim.Adam(disc.parameters(), lr=0.001, betas=(0.5, 0.999))"
   ]
  },
  {
   "cell_type": "code",
   "execution_count": 12,
   "id": "b75fdd85",
   "metadata": {
    "execution": {
     "iopub.execute_input": "2022-06-22T15:33:39.593852Z",
     "iopub.status.busy": "2022-06-22T15:33:39.591067Z",
     "iopub.status.idle": "2022-06-22T15:34:52.655714Z",
     "shell.execute_reply": "2022-06-22T15:34:52.659637Z"
    },
    "papermill": {
     "duration": 73.128782,
     "end_time": "2022-06-22T15:34:52.663194",
     "exception": false,
     "start_time": "2022-06-22T15:33:39.534412",
     "status": "completed"
    },
    "tags": []
   },
   "outputs": [
    {
     "data": {
      "image/png": "[encoded data removed]",
      "text/plain": [
       "<Figure size 432x288 with 1 Axes>"
      ]
     },
     "metadata": {
      "needs_background": "light"
     },
     "output_type": "display_data"
    },
    {
     "data": {
      "image/png": "[encoded data removed]",
      "text/plain": [
       "<Figure size 432x288 with 1 Axes>"
      ]
     },
     "metadata": {
      "needs_background": "light"
     },
     "output_type": "display_data"
    }
   ],
   "source": [
    "#Training the ABC_GAN \n",
    "ABC_train_test2.training_GAN(disc,gen,disc_opt,gen_opt,train_data,batch_size,n_epochs,criterion,prior_model,variance,bias,device)"
   ]
  },
  {
   "cell_type": "code",
   "execution_count": 13,
   "id": "1fa7c368",
   "metadata": {
    "execution": {
     "iopub.execute_input": "2022-06-22T15:34:52.780934Z",
     "iopub.status.busy": "2022-06-22T15:34:52.780079Z",
     "iopub.status.idle": "2022-06-22T15:34:54.361313Z",
     "shell.execute_reply": "2022-06-22T15:34:54.362276Z"
    },
    "papermill": {
     "duration": 1.651941,
     "end_time": "2022-06-22T15:34:54.362911",
     "exception": false,
     "start_time": "2022-06-22T15:34:52.710970",
     "status": "completed"
    },
    "tags": []
   },
   "outputs": [
    {
     "data": {
      "application/scrapbook.scrap.json+json": {
       "data": 0.22711068141170573,
       "encoder": "json",
       "name": "ABC-GAN Model 1 MSE",
       "version": 1
      }
     },
     "metadata": {
      "scrapbook": {
       "data": true,
       "display": false,
       "name": "ABC-GAN Model 1 MSE"
      }
     },
     "output_type": "display_data"
    },
    {
     "data": {
      "application/scrapbook.scrap.json+json": {
       "data": 0.35165654475428165,
       "encoder": "json",
       "name": "ABC-GAN Model 1 MAE",
       "version": 1
      }
     },
     "metadata": {
      "scrapbook": {
       "data": true,
       "display": false,
       "name": "ABC-GAN Model 1 MAE"
      }
     },
     "output_type": "display_data"
    },
    {
     "data": {
      "application/scrapbook.scrap.json+json": {
       "data": 7.033130895085633,
       "encoder": "json",
       "name": "ABC-GAN Model 1 Manhattan Distance",
       "version": 1
      }
     },
     "metadata": {
      "scrapbook": {
       "data": true,
       "display": false,
       "name": "ABC-GAN Model 1 Manhattan Distance"
      }
     },
     "output_type": "display_data"
    },
    {
     "data": {
      "application/scrapbook.scrap.json+json": {
       "data": 2.1312346447197394,
       "encoder": "json",
       "name": "ABC-GAN Model 1 Euclidean distance",
       "version": 1
      }
     },
     "metadata": {
      "scrapbook": {
       "data": true,
       "display": false,
       "name": "ABC-GAN Model 1 Euclidean distance"
      }
     },
     "output_type": "display_data"
    },
    {
     "data": {
      "application/scrapbook.scrap.json+json": {
       "data": [
        [
         0.22569345132819635,
         0.23020079255675027,
         0.2283393612916366,
         0.22706988095825267,
         0.2240606638608939,
         0.22780490792277122,
         0.22855123670590335,
         0.2282768236483395,
         0.2264765753449293,
         0.22673221814866934,
         0.2279138416572839,
         0.22751506477815867,
         0.22785991316521156,
         0.2275357791444327,
         0.22719956833698146,
         0.22638079565666785,
         0.2283817365895882,
         0.22791760351800078,
         0.22461380666126463,
         0.2282627352804401,
         0.22549470845741992,
         0.22549086153095904,
         0.22471131252599266,
         0.22746076602980328,
         0.22579217198856982,
         0.22847486000623546,
         0.2305200969379587,
         0.22751561302571202,
         0.22607873455280098,
         0.22742536931398685,
         0.22381166734965158,
         0.226619325103317,
         0.22618157983057166,
         0.2255976713108605,
         0.22663271402847912,
         0.22798152838409566,
         0.22762206693101095,
         0.22811016887300556,
         0.2263592903578641,
         0.22548058836553692,
         0.22542272398105165,
         0.22722506588016628,
         0.22717510271949073,
         0.2275556806240191,
         0.22424780210550366,
         0.2261885065812142,
         0.2285414699936777,
         0.22733240522366552,
         0.22558438276716952,
         0.22414181167052263,
         0.228714717215906,
         0.22318782409473958,
         0.22749198638810397,
         0.22699262778454296,
         0.22555410894812006,
         0.22865471112095856,
         0.2259698395974948,
         0.2285439577916646,
         0.2262634166277413,
         0.23052661031465363,
         0.22710201771318603,
         0.22901601272675326,
         0.22978036361648413,
         0.2269942894535919,
         0.22598633111542488,
         0.22653606924533204,
         0.2261841071745588,
         0.22891904671417293,
         0.22796996545393902,
         0.22806595558972828,
         0.22751577996122269,
         0.22642402047610757,
         0.22870607714754385,
         0.22882702242664524,
         0.22946943371096581,
         0.2255128020819616,
         0.22835599767010323,
         0.22723748206979547,
         0.22774150047491898,
         0.2259170010255525,
         0.22566853444417193,
         0.22967231502052798,
         0.2274641586558234,
         0.22883556750856532,
         0.2264630594795009,
         0.22668424922663552,
         0.22832009746550286,
         0.22972806130563855,
         0.22879338160283588,
         0.2270520318541326,
         0.22819319725717607,
         0.2265766137884207,
         0.22752239598295176,
         0.22860307795936913,
         0.22801839326322776,
         0.22452093488007674,
         0.2267557070896659,
         0.22564914687449944,
         0.22500536518294653,
         0.22381797359230654
        ],
        [
         0.3505495047662407,
         0.35490201101638374,
         0.351678408542648,
         0.35248979800380764,
         0.34932902273721994,
         0.35304075707681476,
         0.35345303756184876,
         0.3532087715808302,
         0.3512585473712534,
         0.3495533604640514,
         0.3531303674448282,
         0.3489404736552387,
         0.35181439355947075,
         0.352583970176056,
         0.35064195771701634,
         0.3501771106850356,
         0.3538940391037613,
         0.3528962726239115,
         0.3494241729844362,
         0.35095857256092133,
         0.3511415193323046,
         0.35030501247383655,
         0.3515052551869303,
         0.3516107187140733,
         0.352996974112466,
         0.3524532314855605,
         0.35431228769011797,
         0.35152385574765505,
         0.3505663810763508,
         0.35103285484947266,
         0.348060422251001,
         0.35173866846598684,
         0.35095229824073615,
         0.35172164128161965,
         0.3496611075941473,
         0.35358821102418003,
         0.3528178070206195,
         0.35267747775651515,
         0.34937700056470933,
         0.35196001683361827,
         0.3496950047556311,
         0.3529604949522763,
         0.3517426256556064,
         0.3525702303741127,
         0.3503939111251384,
         0.3508129502180964,
         0.3508445675019175,
         0.35318905641324816,
         0.3502183886710554,
         0.34946217606775465,
         0.35338513725437226,
         0.34985838108696043,
         0.3528500456828624,
         0.3510028976481408,
         0.35194565788842735,
         0.3547880793455988,
         0.3511021921876818,
         0.35407508802600207,
         0.350366068771109,
         0.3554805508349091,
         0.35218331064097586,
         0.3523132268805057,
         0.35446920250542463,
         0.35231780060566964,
         0.34926740028895437,
         0.3486683561000973,
         0.35120326853357253,
         0.35439095734618603,
         0.35332362172193826,
         0.3503665633965284,
         0.3528700497467071,
         0.34702784758992494,
         0.35360753708519044,
         0.3551049186382443,
         0.3516322940122336,
         0.3518912718165666,
         0.3520922082010657,
         0.3516066795680672,
         0.35010412060655655,
         0.3512457471806556,
         0.3504762435797602,
         0.3526067769620568,
         0.35137711190618576,
         0.3523245869670063,
         0.350127728888765,
         0.3523886237759143,
         0.35217061997391286,
         0.3554850221145898,
         0.35557117820717393,
         0.35270706773735583,
         0.3501639994326979,
         0.34985346128232775,
         0.3513863442931324,
         0.35196368326433003,
         0.350921067642048,
         0.348449068935588,
         0.35243306220509113,
         0.34928669477812946,
         0.35011029043234887,
         0.3494946647901088
        ],
        [
         7.010990095324814,
         7.098040220327675,
         7.033568170852959,
         7.049795960076153,
         6.986580454744399,
         7.060815141536295,
         7.069060751236975,
         7.064175431616604,
         7.025170947425067,
         6.991067209281027,
         7.062607348896563,
         6.978809473104775,
         7.0362878711894155,
         7.0516794035211205,
         7.012839154340327,
         7.003542213700712,
         7.077880782075226,
         7.05792545247823,
         6.988483459688723,
         7.019171451218426,
         7.022830386646092,
         7.006100249476731,
         7.030105103738606,
         7.032214374281466,
         7.0599394822493196,
         7.049064629711211,
         7.086245753802359,
         7.030477114953101,
         7.011327621527016,
         7.020657096989453,
         6.96120844502002,
         7.034773369319737,
         7.0190459648147225,
         7.034432825632393,
         6.9932221518829465,
         7.071764220483601,
         7.05635614041239,
         7.053549555130303,
         6.987540011294186,
         7.039200336672366,
         6.993900095112622,
         7.059209899045527,
         7.034852513112128,
         7.0514046074822545,
         7.007878222502768,
         7.0162590043619275,
         7.01689135003835,
         7.063781128264964,
         7.004367773421109,
         6.9892435213550925,
         7.067702745087445,
         6.997167621739209,
         7.057000913657248,
         7.020057952962816,
         7.0389131577685475,
         7.095761586911976,
         7.022043843753636,
         7.081501760520041,
         7.00732137542218,
         7.109611016698182,
         7.043666212819517,
         7.046264537610114,
         7.089384050108492,
         7.046356012113392,
         6.9853480057790875,
         6.973367122001946,
         7.024065370671451,
         7.087819146923721,
         7.066472434438765,
         7.007331267930567,
         7.057400994934142,
         6.940556951798499,
         7.072150741703808,
         7.102098372764885,
         7.032645880244672,
         7.037825436331332,
         7.041844164021313,
         7.032133591361344,
         7.002082412131131,
         7.024914943613112,
         7.009524871595204,
         7.052135539241135,
         7.027542238123715,
         7.0464917393401265,
         7.0025545777752995,
         7.047772475518286,
         7.043412399478257,
         7.109700442291796,
         7.111423564143479,
         7.054141354747117,
         7.003279988653958,
         6.997069225646555,
         7.0277268858626485,
         7.039273665286601,
         7.01842135284096,
         6.96898137871176,
         7.048661244101822,
         6.985733895562589,
         7.002205808646977,
         6.989893295802176
        ],
        [
         2.124586789604964,
         2.145697054836727,
         2.13700426434594,
         2.131055517616811,
         2.1168876392519937,
         2.134501852530333,
         2.137995494410142,
         2.1367116026658324,
         2.128269603903271,
         2.129470441911178,
         2.135012138875486,
         2.133143524370354,
         2.1347595328992517,
         2.1332406293919717,
         2.1316639901118632,
         2.127819520808416,
         2.1372025481436623,
         2.135029758659119,
         2.1194990288332978,
         2.136645666835941,
         2.123651141112494,
         2.123633026353466,
         2.119959020952965,
         2.1328889611501265,
         2.1250513969717053,
         2.137638229477736,
         2.1471846540899024,
         2.1331460945078846,
         2.126399466482255,
         2.132722998019137,
         2.115711073609303,
         2.1289402298012834,
         2.1268830707425908,
         2.1241359246096305,
         2.129003118966617,
         2.1353291473873326,
         2.133645082627431,
         2.1359315011161084,
         2.127718451101386,
         2.1235846503755713,
         2.1233121484183695,
         2.1317836000878057,
         2.1315492146300103,
         2.1333339195916756,
         2.117771480143708,
         2.1269156381070418,
         2.1379498122906333,
         2.1322870595849217,
         2.124073363926818,
         2.1172709400099112,
         2.138760001570564,
         2.112760393867414,
         2.133035332047287,
         2.1306929754638184,
         2.1239308319628494,
         2.138479418282807,
         2.1258872952134356,
         2.137961448631217,
         2.1272678093166424,
         2.1472149883728626,
         2.1312063143355506,
         2.1401682771537067,
         2.143736754438306,
         2.1307007741754442,
         2.125964868549924,
         2.1285491267308445,
         2.126894953562864,
         2.13971515260407,
         2.135274996125506,
         2.1357244934201054,
         2.1331468770866326,
         2.12802265249272,
         2.1387196036299096,
         2.1392850320920083,
         2.142285852592813,
         2.123736339953534,
         2.1370821119933754,
         2.1318418424911143,
         2.1342047721571564,
         2.1256387323604753,
         2.124469507637951,
         2.143232675285294,
         2.1329048673385476,
         2.1393249753535124,
         2.1282060965963843,
         2.129245167784281,
         2.136914118374919,
         2.1434927632517846,
         2.1391277736630685,
         2.1309717588655777,
         2.136320187879973,
         2.1287395979237136,
         2.133177892173795,
         2.1382379566333074,
         2.1355017830160095,
         2.1190608055460647,
         2.1295807431964904,
         2.124378247273773,
         2.121345635123831,
         2.115740880128313
        ]
       ],
       "encoder": "json",
       "name": "ABC_GAN_1 Metrics",
       "version": 1
      }
     },
     "metadata": {
      "scrapbook": {
       "data": true,
       "display": false,
       "name": "ABC_GAN_1 Metrics"
      }
     },
     "output_type": "display_data"
    },
    {
     "name": "stdout",
     "output_type": "stream",
     "text": [
      "MSE\n",
      "0.22711068141170573\n"
     ]
    }
   ],
   "source": [
    "ABC_GAN1_metrics=ABC_train_test2.test_generator(gen,test_data,prior_model,variance,bias,\"1\",device)\n",
    "sb.glue(\"ABC_GAN_1 Metrics\",ABC_GAN1_metrics)\n",
    "\n",
    "print(\"MSE\")\n",
    "print(mean(ABC_GAN1_metrics[0]))"
   ]
  },
  {
   "cell_type": "code",
   "execution_count": 14,
   "id": "eb22ce5c",
   "metadata": {
    "execution": {
     "iopub.execute_input": "2022-06-22T15:34:54.662337Z",
     "iopub.status.busy": "2022-06-22T15:34:54.654489Z",
     "iopub.status.idle": "2022-06-22T15:34:56.286019Z",
     "shell.execute_reply": "2022-06-22T15:34:56.287516Z"
    },
    "papermill": {
     "duration": 1.830984,
     "end_time": "2022-06-22T15:34:56.287939",
     "exception": false,
     "start_time": "2022-06-22T15:34:54.456955",
     "status": "completed"
    },
    "tags": []
   },
   "outputs": [
    {
     "data": {
      "image/png": "[encoded data removed]",
      "text/plain": [
       "<Figure size 432x288 with 1 Axes>"
      ]
     },
     "metadata": {
      "needs_background": "light"
     },
     "output_type": "display_data"
    },
    {
     "data": {
      "image/png": "[encoded data removed]",
      "text/plain": [
       "<Figure size 432x288 with 1 Axes>"
      ]
     },
     "metadata": {
      "needs_background": "light"
     },
     "output_type": "display_data"
    },
    {
     "data": {
      "image/png": "[encoded data removed]",
      "text/plain": [
       "<Figure size 432x288 with 1 Axes>"
      ]
     },
     "metadata": {
      "needs_background": "light"
     },
     "output_type": "display_data"
    },
    {
     "data": {
      "image/png": "[encoded data removed]",
      "text/plain": [
       "<Figure size 432x288 with 1 Axes>"
      ]
     },
     "metadata": {
      "needs_background": "light"
     },
     "output_type": "display_data"
    }
   ],
   "source": [
    "sanityChecks.discProbVsError(train_data,disc,device)\n",
    "sanityChecks.discProbVsError(test_data,disc,device)"
   ]
  },
  {
   "cell_type": "markdown",
   "id": "130f3a4d",
   "metadata": {
    "id": "130f3a4d",
    "papermill": {
     "duration": 0.218902,
     "end_time": "2022-06-22T15:34:56.600290",
     "exception": false,
     "start_time": "2022-06-22T15:34:56.381388",
     "status": "completed"
    },
    "tags": []
   },
   "source": [
    "# ABC - GAN Model with skip connection"
   ]
  },
  {
   "cell_type": "code",
   "execution_count": 15,
   "id": "4e43dad1",
   "metadata": {
    "execution": {
     "iopub.execute_input": "2022-06-22T15:34:57.121749Z",
     "iopub.status.busy": "2022-06-22T15:34:57.117290Z",
     "iopub.status.idle": "2022-06-22T15:34:57.122805Z",
     "shell.execute_reply": "2022-06-22T15:34:57.118008Z"
    },
    "id": "4e43dad1",
    "papermill": {
     "duration": 0.19804,
     "end_time": "2022-06-22T15:34:57.123279",
     "exception": false,
     "start_time": "2022-06-22T15:34:56.925239",
     "status": "completed"
    },
    "tags": []
   },
   "outputs": [],
   "source": [
    "#Generator\n",
    "gen3 = network.GeneratorWithSkipConnection(n_features+1).to(device)\n",
    "constraints=network.weightConstraint()\n",
    "#Discriminator \n",
    "disc3 = network.Discriminator(n_features+1).to(device)\n",
    "\n",
    "criterion = torch.nn.BCELoss()\n",
    "gen_opt = torch.optim.Adam(gen3.parameters(), lr=0.001, betas=(0.5, 0.999))\n",
    "disc_opt = torch.optim.Adam(disc3.parameters(), lr=0.001, betas=(0.5, 0.999))\n"
   ]
  },
  {
   "cell_type": "code",
   "execution_count": null,
   "id": "26acbc37",
   "metadata": {
    "id": "26acbc37",
    "papermill": {
     "duration": null,
     "end_time": null,
     "exception": false,
     "start_time": "2022-06-22T15:34:57.347952",
     "status": "running"
    },
    "tags": []
   },
   "outputs": [],
   "source": [
    "ABC_train_test2.training_GAN_skip_connection(disc3,gen3,disc_opt,gen_opt,train_data,batch_size,n_epochs,criterion,prior_model,variance,bias,device)"
   ]
  },
  {
   "cell_type": "code",
   "execution_count": null,
   "id": "c5e0717b",
   "metadata": {
    "id": "c5e0717b",
    "papermill": {
     "duration": null,
     "end_time": null,
     "exception": null,
     "start_time": null,
     "status": "pending"
    },
    "tags": []
   },
   "outputs": [],
   "source": [
    "ABC_GAN3_metrics=ABC_train_test2.test_generator(gen3,test_data,prior_model,variance,bias,\"3\",device)\n",
    "sb.glue(\"ABC_GAN_3 Metrics\",ABC_GAN3_metrics)\n",
    "\n",
    "print(\"MSE\")\n",
    "print(mean(ABC_GAN3_metrics[0]))"
   ]
  },
  {
   "cell_type": "code",
   "execution_count": null,
   "id": "c8e46b48",
   "metadata": {
    "id": "c8e46b48",
    "papermill": {
     "duration": null,
     "end_time": null,
     "exception": null,
     "start_time": null,
     "status": "pending"
    },
    "tags": []
   },
   "outputs": [],
   "source": [
    "sanityChecks.discProbVsError(train_data,disc3,device)\n",
    "sanityChecks.discProbVsError(test_data,disc3,device)"
   ]
  },
  {
   "cell_type": "markdown",
   "id": "a5bd74c3",
   "metadata": {
    "id": "a5bd74c3",
    "papermill": {
     "duration": null,
     "end_time": null,
     "exception": null,
     "start_time": null,
     "status": "pending"
    },
    "tags": []
   },
   "source": [
    "## Skip Connection Model Analysis - ABC-GAN "
   ]
  },
  {
   "cell_type": "markdown",
   "id": "5744a8bf",
   "metadata": {
    "id": "5744a8bf",
    "papermill": {
     "duration": null,
     "end_time": null,
     "exception": null,
     "start_time": null,
     "status": "pending"
    },
    "tags": []
   },
   "source": [
    "### Weight Analysis \n",
    "\n",
    "Study the weights of the skip connection layer\n",
    "\n",
    "Equation of the skip connection is \n",
    "\n",
    "$output = y_{gan} * w + y_{abc} * (1-w)$"
   ]
  },
  {
   "cell_type": "code",
   "execution_count": null,
   "id": "52c31dea",
   "metadata": {
    "id": "52c31dea",
    "papermill": {
     "duration": null,
     "end_time": null,
     "exception": null,
     "start_time": null,
     "status": "pending"
    },
    "tags": []
   },
   "outputs": [],
   "source": [
    "print(\"Weight of the node at skip connection\")\n",
    "for name,param in gen3.named_parameters():\n",
    "    if(name == \"skipNode.weight\"):\n",
    "        print(param)\n",
    "        sb.glue(\"Skip Connection Weight\",param.item())"
   ]
  }
 ],
 "metadata": {
  "colab": {
   "collapsed_sections": [],
   "name": "ABC_GAN_Model-Catboost_Pre-gen.ipynb",
   "provenance": []
  },
  "interpreter": {
   "hash": "31f2aee4e71d21fbe5cf8b01ff0e069b9275f58929596ceb00d14d90e3e16cd6"
  },
  "kernelspec": {
   "display_name": "Python 3 (ipykernel)",
   "language": "python",
   "name": "python3"
  },
  "language_info": {
   "codemirror_mode": {
    "name": "ipython",
    "version": 3
   },
   "file_extension": ".py",
   "mimetype": "text/x-python",
   "name": "python",
   "nbconvert_exporter": "python",
   "pygments_lexer": "ipython3",
   "version": "3.8.11"
  },
  "papermill": {
   "default_parameters": {},
   "duration": null,
   "end_time": null,
   "environment_variables": {},
   "exception": null,
   "input_path": "ABC_GAN-TabNet.ipynb",
   "output_path": "./ABC_GAN_TabNet/ABC-GAN_output_8_8.ipynb",
   "parameters": {
    "bias": 0.01,
    "variance": 0.01
   },
   "start_time": "2022-06-22T15:33:03.048379",
   "version": "2.3.3"
  }
 },
 "nbformat": 4,
 "nbformat_minor": 5
}