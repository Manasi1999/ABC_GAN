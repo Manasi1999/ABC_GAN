{
 "cells": [
  {
   "cell_type": "markdown",
   "metadata": {},
   "source": [
    "# Dataset 3 - Boston Housing "
   ]
  },
  {
   "cell_type": "markdown",
   "metadata": {},
   "source": [
    "## Parameters\n",
    "\n",
    "ABC-Generator parameters are as mentioned below: \n",
    "1. mean : 1 ($\\beta \\sim N(\\beta^{*},\\sigma)$ where $\\beta^{*}$ are coefficients of statistical model) or 1 ($\\beta \\sim N(0,\\sigma)$\n",
    "2. std : $\\sigma = 1, 0.1 , 0.01$ (standard deviation)\n",
    "3. prior: 0 (Correct) or 1 (Misspecified) "
   ]
  },
  {
   "cell_type": "code",
   "execution_count": 1,
   "metadata": {
    "id": "MOXBQVxbM-E-",
    "tags": [
     "parameters"
    ]
   },
   "outputs": [],
   "source": [
    "#ABC_Generator \n",
    "std = 1\n",
    "mean = 1\n",
    "prior = 0"
   ]
  },
  {
   "cell_type": "markdown",
   "metadata": {
    "id": "lvPqwdQiPuUg"
   },
   "source": [
    "## Import Libraries and Dataset"
   ]
  },
  {
   "cell_type": "code",
   "execution_count": 2,
   "metadata": {
    "id": "NxtWyemRPy-o"
   },
   "outputs": [],
   "source": [
    "import warnings\n",
    "warnings.filterwarnings('ignore')"
   ]
  },
  {
   "cell_type": "code",
   "execution_count": 3,
   "metadata": {
    "id": "j5i49U_EPufG"
   },
   "outputs": [],
   "source": [
    "import statsModel\n",
    "import sanityChecks\n",
    "import bostonDataset\n",
    "import ABC_train_test \n",
    "import dataset\n",
    "import train_test\n",
    "import torch\n",
    "from torch import nn\n",
    "import numpy as np\n",
    "import matplotlib.pyplot as plt\n",
    "import seaborn as sns \n",
    "from statistics import mean \n",
    "import pandas as pd\n",
    "from sklearn import preprocessing\n",
    "from sklearn.datasets import load_boston\n",
    "%matplotlib inline"
   ]
  },
  {
   "cell_type": "markdown",
   "metadata": {
    "id": "FmyZQIDE0wb5"
   },
   "source": [
    "### Dataset\n"
   ]
  },
  {
   "cell_type": "code",
   "execution_count": 4,
   "metadata": {
    "id": "Z3cG9EIB322F"
   },
   "outputs": [
    {
     "name": "stdout",
     "output_type": "stream",
     "text": [
      "      CRIM    ZN  INDUS  CHAS    NOX     RM   AGE     DIS  RAD    TAX  \\\n",
      "0  0.00632  18.0   2.31   0.0  0.538  6.575  65.2  4.0900  1.0  296.0   \n",
      "1  0.02731   0.0   7.07   0.0  0.469  6.421  78.9  4.9671  2.0  242.0   \n",
      "2  0.02729   0.0   7.07   0.0  0.469  7.185  61.1  4.9671  2.0  242.0   \n",
      "3  0.03237   0.0   2.18   0.0  0.458  6.998  45.8  6.0622  3.0  222.0   \n",
      "4  0.06905   0.0   2.18   0.0  0.458  7.147  54.2  6.0622  3.0  222.0   \n",
      "\n",
      "   PTRATIO       B  LSTAT  TARGET  \n",
      "0     15.3  396.90   4.98    24.0  \n",
      "1     17.8  396.90   9.14    21.6  \n",
      "2     17.8  392.83   4.03    34.7  \n",
      "3     18.7  394.63   2.94    33.4  \n",
      "4     18.7  396.90   5.33    36.2  \n"
     ]
    }
   ],
   "source": [
    "X,Y = bostonDataset.boston_data()\n",
    "n_features = 13"
   ]
  },
  {
   "cell_type": "markdown",
   "metadata": {
    "id": "RzpUyZgw03pD"
   },
   "source": [
    "## Stats Model\n",
    "The statistical model is assumed to be $Y=\\beta X + \\mu$ where $\\mu \\sim N(0,1)$\n",
    "\n",
    "To analyze the performance of the statistical model, we plot a graph of $y_{real}$ vs $y_{pred}$ and calculate performance metrics like mean squared error, mean absolute error, manhattan distance and euclidean distance between $y_{real}$ and $y_{pred}$ "
   ]
  },
  {
   "cell_type": "code",
   "execution_count": 5,
   "metadata": {
    "id": "qpWCAhu2QX3k"
   },
   "outputs": [
    {
     "name": "stderr",
     "output_type": "stream",
     "text": [
      "No handles with labels found to put in legend.\n"
     ]
    },
    {
     "name": "stdout",
     "output_type": "stream",
     "text": [
      "                            OLS Regression Results                            \n",
      "==============================================================================\n",
      "Dep. Variable:                 TARGET   R-squared:                       0.741\n",
      "Model:                            OLS   Adj. R-squared:                  0.734\n",
      "Method:                 Least Squares   F-statistic:                     108.1\n",
      "Date:                Thu, 07 Oct 2021   Prob (F-statistic):          6.72e-135\n",
      "Time:                        08:33:20   Log-Likelihood:                -376.55\n",
      "No. Observations:                 506   AIC:                             781.1\n",
      "Df Residuals:                     492   BIC:                             840.3\n",
      "Df Model:                          13                                         \n",
      "Covariance Type:            nonrobust                                         \n",
      "==============================================================================\n",
      "                 coef    std err          t      P>|t|      [0.025      0.975]\n",
      "------------------------------------------------------------------------------\n",
      "const      -4.909e-16      0.023  -2.14e-14      1.000      -0.045       0.045\n",
      "x1            -0.1010      0.031     -3.287      0.001      -0.161      -0.041\n",
      "x2             0.1177      0.035      3.382      0.001       0.049       0.186\n",
      "x3             0.0153      0.046      0.334      0.738      -0.075       0.105\n",
      "x4             0.0742      0.024      3.118      0.002       0.027       0.121\n",
      "x5            -0.2238      0.048     -4.651      0.000      -0.318      -0.129\n",
      "x6             0.2911      0.032      9.116      0.000       0.228       0.354\n",
      "x7             0.0021      0.040      0.052      0.958      -0.077       0.082\n",
      "x8            -0.3378      0.046     -7.398      0.000      -0.428      -0.248\n",
      "x9             0.2897      0.063      4.613      0.000       0.166       0.413\n",
      "x10           -0.2260      0.069     -3.280      0.001      -0.361      -0.091\n",
      "x11           -0.2243      0.031     -7.283      0.000      -0.285      -0.164\n",
      "x12            0.0924      0.027      3.467      0.001       0.040       0.145\n",
      "x13           -0.4074      0.039    -10.347      0.000      -0.485      -0.330\n",
      "==============================================================================\n",
      "Omnibus:                      178.041   Durbin-Watson:                   1.078\n",
      "Prob(Omnibus):                  0.000   Jarque-Bera (JB):              783.126\n",
      "Skew:                           1.521   Prob(JB):                    8.84e-171\n",
      "Kurtosis:                       8.281   Cond. No.                         9.82\n",
      "==============================================================================\n",
      "\n",
      "Notes:\n",
      "[1] Standard Errors assume that the covariance matrix of the errors is correctly specified.\n",
      "Parameters:  const   -4.909267e-16\n",
      "x1      -1.010171e-01\n",
      "x2       1.177152e-01\n",
      "x3       1.533520e-02\n",
      "x4       7.419883e-02\n",
      "x5      -2.238480e-01\n",
      "x6       2.910565e-01\n",
      "x7       2.118638e-03\n",
      "x8      -3.378363e-01\n",
      "x9       2.897491e-01\n",
      "x10     -2.260317e-01\n",
      "x11     -2.242712e-01\n",
      "x12      9.243223e-02\n",
      "x13     -4.074469e-01\n",
      "dtype: float64\n"
     ]
    },
    {
     "data": {
      "image/png": "[encoded data removed]",
      "text/plain": [
       "<Figure size 432x288 with 1 Axes>"
      ]
     },
     "metadata": {
      "needs_background": "light"
     },
     "output_type": "display_data"
    },
    {
     "name": "stdout",
     "output_type": "stream",
     "text": [
      "Performance Metrics\n",
      "Mean Squared Error: 0.2593573358905906\n",
      "Mean Absolute Error: 0.3559924576478401\n",
      "Manhattan distance: 180.13218356980715\n",
      "Euclidean distance: 11.455776357830963\n"
     ]
    }
   ],
   "source": [
    "[coeff,y_pred] = statsModel.statsModel(X,Y)"
   ]
  },
  {
   "cell_type": "markdown",
   "metadata": {
    "id": "a308d4dd"
   },
   "source": [
    "## Generator and Discriminator Networks "
   ]
  },
  {
   "cell_type": "markdown",
   "metadata": {
    "id": "14mj42XCcMEO"
   },
   "source": [
    "### Discriminator"
   ]
  },
  {
   "cell_type": "code",
   "execution_count": 6,
   "metadata": {
    "id": "smkyb59McOfb"
   },
   "outputs": [],
   "source": [
    "class Discriminator(nn.Module):\n",
    "  def __init__(self,n_input):\n",
    "    super().__init__()\n",
    "    self.hidden = nn.Linear(n_input,10)\n",
    "    self.output = nn.Linear(10,1)\n",
    "    self.sigmoid = nn.Sigmoid()\n",
    "    self.leakyRelu = nn.LeakyReLU()\n",
    "\n",
    "  def forward(self, x):\n",
    "    x = self.hidden(x)\n",
    "    x = self.leakyRelu(x)\n",
    "    x = self.output(x)\n",
    "    x = self.sigmoid(x)\n",
    "    return x "
   ]
  },
  {
   "cell_type": "markdown",
   "metadata": {
    "id": "dopNml8pciGO"
   },
   "source": [
    "### Generator"
   ]
  },
  {
   "cell_type": "code",
   "execution_count": 7,
   "metadata": {
    "id": "OLJXUOeRc201"
   },
   "outputs": [],
   "source": [
    "class Generator(nn.Module):\n",
    "  def __init__(self,n_input):\n",
    "    super().__init__()\n",
    "    self.output = nn.Linear(n_input,1)\n",
    "\n",
    "  def forward(self, x):\n",
    "    x = self.output(x)\n",
    "    return x "
   ]
  },
  {
   "cell_type": "markdown",
   "metadata": {
    "id": "tTTjqwuOcCzd"
   },
   "source": [
    "### ABC Pre Generator\n",
    "\n",
    "The ABC generator is defined as follows:\n",
    "\n",
    "$Y = 1 + \\beta_1 x_1 + \\beta_2 x_2 + \\beta_2 x_3 + ... + \\beta_n x_n + N(0,\\sigma)$ where $\\sigma = 0.1$ \n",
    "\n",
    "$\\beta_i \\sim N(0,\\sigma^{*})$ when $\\mu = 0$ else\n",
    "\n",
    "$\\beta_i \\sim N(\\beta_i^{*},\\sigma^{*})$ where $\\beta_i^{*}s$ are coefficients obtained from stats model\n",
    "\n",
    "Parameters : $\\mu$ and $\\sigma^{*}$\n",
    "\n",
    "$\\sigma^{*}$ takes the values 0.01,0.1 and 1"
   ]
  },
  {
   "cell_type": "code",
   "execution_count": 8,
   "metadata": {
    "id": "zgZbJspbcHJ3"
   },
   "outputs": [],
   "source": [
    "def ABC_pre_generator(x_batch,coeff,variance,mean,device):\n",
    "    coeff_len = len(coeff)\n",
    "    if mean == 0:\n",
    "        weights = np.random.normal(0,variance,size=(coeff_len,1))\n",
    "        weights = torch.from_numpy(weights).reshape(coeff_len,1)\n",
    "    else:\n",
    "        weights = []\n",
    "        for i in range(coeff_len):\n",
    "            weights.append(np.random.normal(coeff[i],variance))\n",
    "        weights = torch.tensor(weights).reshape(coeff_len,1)\n",
    "    y_abc =  torch.matmul(x_batch,weights.float())\n",
    "    gen_input = torch.cat((x_batch,y_abc),dim = 1).to(device)\n",
    "    return gen_input "
   ]
  },
  {
   "cell_type": "markdown",
   "metadata": {
    "id": "93054c41"
   },
   "source": [
    "## GAN Model\n",
    "\n",
    "We are using a Conditional GAN network as a baseline. The input to the GAN generator is (X,z) where X are the features of the dataset and z is gaussian noise"
   ]
  },
  {
   "cell_type": "code",
   "execution_count": 9,
   "metadata": {
    "id": "19ce6215"
   },
   "outputs": [],
   "source": [
    "real_dataset = dataset.CustomDataset(X,Y)\n",
    "device = torch.device('cuda' if torch.cuda.is_available() else 'cpu')"
   ]
  },
  {
   "cell_type": "code",
   "execution_count": 10,
   "metadata": {
    "id": "8361a649"
   },
   "outputs": [
    {
     "name": "stdout",
     "output_type": "stream",
     "text": [
      "Discriminator(\n",
      "  (hidden): Linear(in_features=15, out_features=10, bias=True)\n",
      "  (output): Linear(in_features=10, out_features=1, bias=True)\n",
      "  (sigmoid): Sigmoid()\n",
      "  (leakyRelu): LeakyReLU(negative_slope=0.01)\n",
      ")\n",
      "Generator(\n",
      "  (output): Linear(in_features=15, out_features=1, bias=True)\n",
      ")\n"
     ]
    }
   ],
   "source": [
    "generator = Generator(n_features+2)\n",
    "discriminator = Discriminator(n_features+2)\n",
    "\n",
    "criterion = torch.nn.BCEWithLogitsLoss()\n",
    "gen_opt = torch.optim.Adam(generator.parameters(), lr=0.01, betas=(0.5, 0.999))\n",
    "disc_opt = torch.optim.Adam(discriminator.parameters(), lr=0.01, betas=(0.5, 0.999))\n",
    "print(discriminator)\n",
    "print(generator)"
   ]
  },
  {
   "cell_type": "code",
   "execution_count": 11,
   "metadata": {
    "id": "ab50e692",
    "tags": [
     "parameters"
    ]
   },
   "outputs": [],
   "source": [
    "sample_size = len(real_dataset)\n",
    "n_epochs = 15000\n",
    "batch_size = sample_size"
   ]
  },
  {
   "cell_type": "code",
   "execution_count": null,
   "metadata": {
    "id": "ce02725d",
    "outputId": "cbe6c9ef-1d19-44a9-acea-2edfbb7fc844"
   },
   "outputs": [],
   "source": [
    "train_test.training_GAN(discriminator,generator,disc_opt,gen_opt,real_dataset,batch_size, n_epochs,criterion,device)"
   ]
  },
  {
   "cell_type": "code",
   "execution_count": null,
   "metadata": {
    "id": "0e6caab5"
   },
   "outputs": [],
   "source": [
    "train_test.test_generator(generator,real_dataset,device)"
   ]
  },
  {
   "cell_type": "markdown",
   "metadata": {
    "id": "9e04a421"
   },
   "source": [
    "# ABC GAN Model"
   ]
  },
  {
   "cell_type": "code",
   "execution_count": null,
   "metadata": {
    "id": "4ded47d7"
   },
   "outputs": [],
   "source": [
    "gen = Generator(n_features+2)\n",
    "disc = Discriminator(n_features+2)\n",
    "\n",
    "criterion = torch.nn.BCEWithLogitsLoss()\n",
    "gen_opt = torch.optim.Adam(gen.parameters(), lr=0.01, betas=(0.5, 0.999))\n",
    "disc_opt = torch.optim.Adam(disc.parameters(), lr=0.01, betas=(0.5, 0.999))"
   ]
  },
  {
   "cell_type": "code",
   "execution_count": null,
   "metadata": {
    "id": "7ac000d8"
   },
   "outputs": [],
   "source": [
    "n_epoch_abc = 2000\n",
    "batch_size = sample_size"
   ]
  },
  {
   "cell_type": "code",
   "execution_count": null,
   "metadata": {
    "id": "64389404"
   },
   "outputs": [],
   "source": [
    "ABC_train_test.training_GAN(disc, gen,disc_opt,gen_opt,real_dataset, batch_size, n_epoch_abc,criterion,coeff,mean,std,device)"
   ]
  },
  {
   "cell_type": "code",
   "execution_count": null,
   "metadata": {
    "id": "5423e4bc",
    "outputId": "7667fdf6-fc1a-480a-f6de-5eed86033e13"
   },
   "outputs": [],
   "source": [
    "ABC_train_test.test_generator(gen,real_dataset,coeff,mean,std,device)"
   ]
  },
  {
   "cell_type": "markdown",
   "metadata": {},
   "source": [
    "### Sanity Check \n",
    "\n",
    "We plot the discriminator output vs the noise in the input to verify that the discriminator functions correctly. We expect that discriminator output and noise are inversely proportional"
   ]
  },
  {
   "cell_type": "code",
   "execution_count": null,
   "metadata": {
    "id": "349b9213"
   },
   "outputs": [],
   "source": [
    "sanityChecks.discProbVsError(real_dataset,disc,device)"
   ]
  },
  {
   "cell_type": "markdown",
   "metadata": {},
   "source": [
    "### Visualization of Trained GAN Generator"
   ]
  },
  {
   "cell_type": "code",
   "execution_count": null,
   "metadata": {},
   "outputs": [],
   "source": [
    "for name, param in gen.named_parameters():\n",
    "    print(name,param)"
   ]
  },
  {
   "cell_type": "code",
   "execution_count": null,
   "metadata": {},
   "outputs": [],
   "source": []
  }
 ],
 "metadata": {
  "colab": {
   "name": "BostonHousing.ipynb",
   "provenance": []
  },
  "kernelspec": {
   "display_name": "papermill-tutorial",
   "language": "python",
   "name": "papermill-tutorial"
  },
  "language_info": {
   "codemirror_mode": {
    "name": "ipython",
    "version": 3
   },
   "file_extension": ".py",
   "mimetype": "text/x-python",
   "name": "python",
   "nbconvert_exporter": "python",
   "pygments_lexer": "ipython3",
   "version": "3.7.11"
  }
 },
 "nbformat": 4,
 "nbformat_minor": 1
}
