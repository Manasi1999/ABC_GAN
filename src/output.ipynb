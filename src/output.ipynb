{
 "cells": [
  {
   "cell_type": "markdown",
   "id": "d2a141b9",
   "metadata": {
    "papermill": {
     "duration": 0.0228,
     "end_time": "2021-10-05T13:36:13.796611",
     "exception": false,
     "start_time": "2021-10-05T13:36:13.773811",
     "status": "completed"
    },
    "tags": []
   },
   "source": [
    "## Import Libraries"
   ]
  },
  {
   "cell_type": "code",
   "execution_count": 1,
   "id": "3abaab3e",
   "metadata": {
    "execution": {
     "iopub.execute_input": "2021-10-05T13:36:13.831450Z",
     "iopub.status.busy": "2021-10-05T13:36:13.830795Z",
     "iopub.status.idle": "2021-10-05T13:36:15.991371Z",
     "shell.execute_reply": "2021-10-05T13:36:15.991642Z"
    },
    "papermill": {
     "duration": 2.182366,
     "end_time": "2021-10-05T13:36:15.991835",
     "exception": false,
     "start_time": "2021-10-05T13:36:13.809469",
     "status": "completed"
    },
    "tags": []
   },
   "outputs": [],
   "source": [
    "import train_test\n",
    "import ABC_train_test\n",
    "import linearDataset\n",
    "import network\n",
    "import statsModel\n",
    "import performanceMetrics\n",
    "import dataset\n",
    "import sanityChecks\n",
    "import torch \n",
    "import matplotlib.pyplot as plt \n",
    "import seaborn as sns \n",
    "from scipy.stats import norm\n",
    "from torch.utils.data import Dataset,DataLoader \n",
    "from torch import nn\n",
    "import warnings\n",
    "import numpy as np\n",
    "warnings.filterwarnings('ignore')"
   ]
  },
  {
   "cell_type": "markdown",
   "id": "ceece37b",
   "metadata": {
    "papermill": {
     "duration": 0.005684,
     "end_time": "2021-10-05T13:36:16.003751",
     "exception": false,
     "start_time": "2021-10-05T13:36:15.998067",
     "status": "completed"
    },
    "tags": []
   },
   "source": [
    "## Dataset"
   ]
  },
  {
   "cell_type": "markdown",
   "id": "c730ce33",
   "metadata": {
    "papermill": {
     "duration": 0.005637,
     "end_time": "2021-10-05T13:36:16.015043",
     "exception": false,
     "start_time": "2021-10-05T13:36:16.009406",
     "status": "completed"
    },
    "tags": []
   },
   "source": [
    "Generate the linear dataset \n",
    "\n",
    "$y=m*x + c + e$ where $m=1$, $c=0.5$ and $e \\sim N(0,1)$"
   ]
  },
  {
   "cell_type": "code",
   "execution_count": 2,
   "id": "b4fd81d0",
   "metadata": {
    "execution": {
     "iopub.execute_input": "2021-10-05T13:36:16.028614Z",
     "iopub.status.busy": "2021-10-05T13:36:16.028217Z",
     "iopub.status.idle": "2021-10-05T13:36:16.029543Z",
     "shell.execute_reply": "2021-10-05T13:36:16.029802Z"
    },
    "papermill": {
     "duration": 0.009241,
     "end_time": "2021-10-05T13:36:16.029915",
     "exception": false,
     "start_time": "2021-10-05T13:36:16.020674",
     "status": "completed"
    },
    "tags": [
     "parameters"
    ]
   },
   "outputs": [],
   "source": [
    "n_samples = 100\n",
    "n_features = 1"
   ]
  },
  {
   "cell_type": "code",
   "execution_count": 3,
   "id": "d64aef31",
   "metadata": {
    "execution": {
     "iopub.execute_input": "2021-10-05T13:36:16.044286Z",
     "iopub.status.busy": "2021-10-05T13:36:16.043895Z",
     "iopub.status.idle": "2021-10-05T13:36:16.045240Z",
     "shell.execute_reply": "2021-10-05T13:36:16.045487Z"
    },
    "papermill": {
     "duration": 0.009524,
     "end_time": "2021-10-05T13:36:16.045597",
     "exception": false,
     "start_time": "2021-10-05T13:36:16.036073",
     "status": "completed"
    },
    "tags": [
     "injected-parameters"
    ]
   },
   "outputs": [],
   "source": [
    "# Parameters\n",
    "n_samples = 1000\n"
   ]
  },
  {
   "cell_type": "code",
   "execution_count": 4,
   "id": "0955b433",
   "metadata": {
    "execution": {
     "iopub.execute_input": "2021-10-05T13:36:16.060005Z",
     "iopub.status.busy": "2021-10-05T13:36:16.059608Z",
     "iopub.status.idle": "2021-10-05T13:36:16.148777Z",
     "shell.execute_reply": "2021-10-05T13:36:16.149072Z"
    },
    "papermill": {
     "duration": 0.097728,
     "end_time": "2021-10-05T13:36:16.149192",
     "exception": false,
     "start_time": "2021-10-05T13:36:16.051464",
     "status": "completed"
    },
    "tags": []
   },
   "outputs": [
    {
     "name": "stdout",
     "output_type": "stream",
     "text": [
      "          X         Y\n",
      "0  0.346839  0.702700\n",
      "1  0.363173  1.348021\n",
      "2 -0.082484 -0.844019\n",
      "3  0.077517  2.400306\n",
      "4 -0.308601  0.496037\n"
     ]
    },
    {
     "data": {
      "image/png": "[encoded data removed]",
      "text/plain": [
       "<Figure size 432x288 with 1 Axes>"
      ]
     },
     "metadata": {
      "needs_background": "light"
     },
     "output_type": "display_data"
    }
   ],
   "source": [
    "X,Y = linearDataset.linear_data(n_samples)"
   ]
  },
  {
   "cell_type": "markdown",
   "id": "98becb70",
   "metadata": {
    "papermill": {
     "duration": 0.006341,
     "end_time": "2021-10-05T13:36:16.162208",
     "exception": false,
     "start_time": "2021-10-05T13:36:16.155867",
     "status": "completed"
    },
    "tags": []
   },
   "source": [
    "## Stats Model"
   ]
  },
  {
   "cell_type": "markdown",
   "id": "d2299771",
   "metadata": {
    "papermill": {
     "duration": 0.006246,
     "end_time": "2021-10-05T13:36:16.174771",
     "exception": false,
     "start_time": "2021-10-05T13:36:16.168525",
     "status": "completed"
    },
    "tags": []
   },
   "source": [
    "The statistical model is assumed to be $Y=\\beta X + \\mu$ where $\\mu \\sim N(0,1)$"
   ]
  },
  {
   "cell_type": "code",
   "execution_count": 5,
   "id": "5331fcaf",
   "metadata": {
    "execution": {
     "iopub.execute_input": "2021-10-05T13:36:16.189959Z",
     "iopub.status.busy": "2021-10-05T13:36:16.189563Z",
     "iopub.status.idle": "2021-10-05T13:36:16.280608Z",
     "shell.execute_reply": "2021-10-05T13:36:16.280865Z"
    },
    "papermill": {
     "duration": 0.099976,
     "end_time": "2021-10-05T13:36:16.280991",
     "exception": false,
     "start_time": "2021-10-05T13:36:16.181015",
     "status": "completed"
    },
    "tags": []
   },
   "outputs": [
    {
     "name": "stderr",
     "output_type": "stream",
     "text": [
      "No handles with labels found to put in legend.\n"
     ]
    },
    {
     "name": "stdout",
     "output_type": "stream",
     "text": [
      "                                 OLS Regression Results                                \n",
      "=======================================================================================\n",
      "Dep. Variable:                      Y   R-squared (uncentered):                   0.056\n",
      "Model:                            OLS   Adj. R-squared (uncentered):              0.056\n",
      "Method:                 Least Squares   F-statistic:                              59.79\n",
      "Date:                Tue, 05 Oct 2021   Prob (F-statistic):                    2.57e-14\n",
      "Time:                        19:06:16   Log-Likelihood:                         -1389.9\n",
      "No. Observations:                1000   AIC:                                      2782.\n",
      "Df Residuals:                     999   BIC:                                      2787.\n",
      "Df Model:                           1                                                  \n",
      "Covariance Type:            nonrobust                                                  \n",
      "==============================================================================\n",
      "                 coef    std err          t      P>|t|      [0.025      0.975]\n",
      "------------------------------------------------------------------------------\n",
      "x1             0.2376      0.031      7.732      0.000       0.177       0.298\n",
      "==============================================================================\n",
      "Omnibus:                        3.111   Durbin-Watson:                   2.035\n",
      "Prob(Omnibus):                  0.211   Jarque-Bera (JB):                2.644\n",
      "Skew:                          -0.007   Prob(JB):                        0.267\n",
      "Kurtosis:                       2.748   Cond. No.                         1.00\n",
      "==============================================================================\n",
      "\n",
      "Notes:\n",
      "[1] R² is computed without centering (uncentered) since the model does not contain a constant.\n",
      "[2] Standard Errors assume that the covariance matrix of the errors is correctly specified.\n",
      "Parameters:  x1    0.237628\n",
      "dtype: float64\n"
     ]
    },
    {
     "data": {
      "image/png": "[encoded data removed]",
      "text/plain": [
       "<Figure size 432x288 with 1 Axes>"
      ]
     },
     "metadata": {
      "needs_background": "light"
     },
     "output_type": "display_data"
    },
    {
     "name": "stdout",
     "output_type": "stream",
     "text": [
      "Performance Metrics\n",
      "Mean Squared Error: 0.9435327455563675\n",
      "Mean Absolute Error: 0.7835565359936459\n",
      "Manhattan distance: 783.5565359936461\n",
      "Euclidean distance: 30.716978131912125\n"
     ]
    }
   ],
   "source": [
    "[coeff,y_pred] = statsModel.statsModel(X,Y)"
   ]
  },
  {
   "cell_type": "markdown",
   "id": "921ca0ef",
   "metadata": {
    "papermill": {
     "duration": 0.007617,
     "end_time": "2021-10-05T13:36:16.296530",
     "exception": false,
     "start_time": "2021-10-05T13:36:16.288913",
     "status": "completed"
    },
    "tags": []
   },
   "source": [
    "## Generator and Discriminator Networks \n"
   ]
  },
  {
   "cell_type": "code",
   "execution_count": 6,
   "id": "38059cb1",
   "metadata": {
    "execution": {
     "iopub.execute_input": "2021-10-05T13:36:16.314137Z",
     "iopub.status.busy": "2021-10-05T13:36:16.313755Z",
     "iopub.status.idle": "2021-10-05T13:36:16.314861Z",
     "shell.execute_reply": "2021-10-05T13:36:16.315132Z"
    },
    "papermill": {
     "duration": 0.01113,
     "end_time": "2021-10-05T13:36:16.315244",
     "exception": false,
     "start_time": "2021-10-05T13:36:16.304114",
     "status": "completed"
    },
    "tags": [
     "parameters"
    ]
   },
   "outputs": [],
   "source": [
    "#Discriminator Parameters \n",
    "hidden_nodes = 25 \n",
    "#ABC Generator Parameters\n",
    "mean = 1 \n",
    "variance = 0.001"
   ]
  },
  {
   "cell_type": "markdown",
   "id": "1733e0a3",
   "metadata": {
    "papermill": {
     "duration": 0.007803,
     "end_time": "2021-10-05T13:36:16.330879",
     "exception": false,
     "start_time": "2021-10-05T13:36:16.323076",
     "status": "completed"
    },
    "tags": []
   },
   "source": [
    "**Generator Model**"
   ]
  },
  {
   "cell_type": "code",
   "execution_count": 7,
   "id": "e8a5e933",
   "metadata": {
    "execution": {
     "iopub.execute_input": "2021-10-05T13:36:16.349123Z",
     "iopub.status.busy": "2021-10-05T13:36:16.348725Z",
     "iopub.status.idle": "2021-10-05T13:36:16.349933Z",
     "shell.execute_reply": "2021-10-05T13:36:16.350186Z"
    },
    "papermill": {
     "duration": 0.011744,
     "end_time": "2021-10-05T13:36:16.350305",
     "exception": false,
     "start_time": "2021-10-05T13:36:16.338561",
     "status": "completed"
    },
    "tags": []
   },
   "outputs": [],
   "source": [
    "class Generator(nn.Module):\n",
    "\n",
    "  def __init__(self,n_input):\n",
    "    super().__init__()\n",
    "    self.output = nn.Linear(n_input,1)\n",
    "\n",
    "  def forward(self, x):\n",
    "    x = self.output(x)\n",
    "    return x \n",
    "    "
   ]
  },
  {
   "cell_type": "markdown",
   "id": "0ebcfdc4",
   "metadata": {
    "papermill": {
     "duration": 0.007716,
     "end_time": "2021-10-05T13:36:16.365865",
     "exception": false,
     "start_time": "2021-10-05T13:36:16.358149",
     "status": "completed"
    },
    "tags": []
   },
   "source": [
    "**Discriminator Model**"
   ]
  },
  {
   "cell_type": "code",
   "execution_count": 8,
   "id": "f02e0196",
   "metadata": {
    "execution": {
     "iopub.execute_input": "2021-10-05T13:36:16.384380Z",
     "iopub.status.busy": "2021-10-05T13:36:16.384012Z",
     "iopub.status.idle": "2021-10-05T13:36:16.385248Z",
     "shell.execute_reply": "2021-10-05T13:36:16.385483Z"
    },
    "papermill": {
     "duration": 0.012081,
     "end_time": "2021-10-05T13:36:16.385585",
     "exception": false,
     "start_time": "2021-10-05T13:36:16.373504",
     "status": "completed"
    },
    "tags": []
   },
   "outputs": [],
   "source": [
    "class Discriminator(nn.Module):\n",
    "  def __init__(self,n_input,n_hidden):\n",
    "\n",
    "    super().__init__()\n",
    "    self.hidden = nn.Linear(n_input,n_hidden)\n",
    "    self.output = nn.Linear(n_hidden,1)\n",
    "    self.relu = nn.ReLU()\n",
    "\n",
    "  def forward(self, x):\n",
    "    x = self.hidden(x)\n",
    "    x = self.relu(x)\n",
    "    x = self.output(x)\n",
    "    return x "
   ]
  },
  {
   "cell_type": "markdown",
   "id": "3813822a",
   "metadata": {
    "papermill": {
     "duration": 0.007683,
     "end_time": "2021-10-05T13:36:16.401175",
     "exception": false,
     "start_time": "2021-10-05T13:36:16.393492",
     "status": "completed"
    },
    "tags": []
   },
   "source": [
    "**ABC Generators** \n"
   ]
  },
  {
   "cell_type": "markdown",
   "id": "face3a3a",
   "metadata": {
    "papermill": {
     "duration": 0.007746,
     "end_time": "2021-10-05T13:36:16.416573",
     "exception": false,
     "start_time": "2021-10-05T13:36:16.408827",
     "status": "completed"
    },
    "tags": []
   },
   "source": [
    "1. *Correctly Specified Prior* : The 1st ABC Generator is defined as $Y = m*X + c + e$ where $m \\sim N(1,1)$ , $c=0.5$ and $e \\sim N(0,1)$\n",
    "2. *Misspecified Prior* : The 2nd ABC Generator is defined as $Y = 1 + m*X + c + e$ where $m \\sim N(1,1)$ , $c=0.5$ and $e \\sim N(0,1)$"
   ]
  },
  {
   "cell_type": "markdown",
   "id": "17494380",
   "metadata": {
    "papermill": {
     "duration": 0.007726,
     "end_time": "2021-10-05T13:36:16.431962",
     "exception": false,
     "start_time": "2021-10-05T13:36:16.424236",
     "status": "completed"
    },
    "tags": []
   },
   "source": [
    "## GAN Model"
   ]
  },
  {
   "cell_type": "code",
   "execution_count": 9,
   "id": "be284cd7",
   "metadata": {
    "execution": {
     "iopub.execute_input": "2021-10-05T13:36:16.450547Z",
     "iopub.status.busy": "2021-10-05T13:36:16.450155Z",
     "iopub.status.idle": "2021-10-05T13:36:16.451361Z",
     "shell.execute_reply": "2021-10-05T13:36:16.451608Z"
    },
    "papermill": {
     "duration": 0.012046,
     "end_time": "2021-10-05T13:36:16.451721",
     "exception": false,
     "start_time": "2021-10-05T13:36:16.439675",
     "status": "completed"
    },
    "tags": []
   },
   "outputs": [],
   "source": [
    "real_dataset = dataset.CustomDataset(X,Y)\n",
    "device = torch.device('cuda' if torch.cuda.is_available() else 'cpu')"
   ]
  },
  {
   "cell_type": "code",
   "execution_count": 10,
   "id": "97851e34",
   "metadata": {
    "execution": {
     "iopub.execute_input": "2021-10-05T13:36:16.470797Z",
     "iopub.status.busy": "2021-10-05T13:36:16.470393Z",
     "iopub.status.idle": "2021-10-05T13:36:16.472343Z",
     "shell.execute_reply": "2021-10-05T13:36:16.472646Z"
    },
    "papermill": {
     "duration": 0.013163,
     "end_time": "2021-10-05T13:36:16.472754",
     "exception": false,
     "start_time": "2021-10-05T13:36:16.459591",
     "status": "completed"
    },
    "tags": []
   },
   "outputs": [],
   "source": [
    "generator = Generator(n_features+1)\n",
    "discriminator = Discriminator(n_features+1,hidden_nodes)\n",
    "\n",
    "criterion = torch.nn.BCEWithLogitsLoss()\n",
    "gen_opt = torch.optim.Adam(generator.parameters(), lr=0.01, betas=(0.5, 0.999))\n",
    "disc_opt = torch.optim.Adam(discriminator.parameters(), lr=0.01, betas=(0.5, 0.999))"
   ]
  },
  {
   "cell_type": "code",
   "execution_count": 11,
   "id": "2b958070",
   "metadata": {
    "execution": {
     "iopub.execute_input": "2021-10-05T13:36:16.490521Z",
     "iopub.status.busy": "2021-10-05T13:36:16.490151Z",
     "iopub.status.idle": "2021-10-05T13:36:16.491416Z",
     "shell.execute_reply": "2021-10-05T13:36:16.491651Z"
    },
    "papermill": {
     "duration": 0.011132,
     "end_time": "2021-10-05T13:36:16.491769",
     "exception": false,
     "start_time": "2021-10-05T13:36:16.480637",
     "status": "completed"
    },
    "tags": []
   },
   "outputs": [],
   "source": [
    "n_epochs = 30000\n",
    "batch_size = n_samples//2"
   ]
  },
  {
   "cell_type": "code",
   "execution_count": 12,
   "id": "94f5e517",
   "metadata": {
    "execution": {
     "iopub.execute_input": "2021-10-05T13:36:16.510316Z",
     "iopub.status.busy": "2021-10-05T13:36:16.509927Z",
     "iopub.status.idle": "2021-10-05T13:41:39.828921Z",
     "shell.execute_reply": "2021-10-05T13:41:39.828025Z"
    },
    "papermill": {
     "duration": 323.100388,
     "end_time": "2021-10-05T13:41:39.600236",
     "exception": false,
     "start_time": "2021-10-05T13:36:16.499848",
     "status": "completed"
    },
    "tags": []
   },
   "outputs": [
    {
     "ename": "KeyboardInterrupt",
     "evalue": "",
     "output_type": "error",
     "traceback": [
      "\u001b[0;31m---------------------------------------------------------------------------\u001b[0m",
      "\u001b[0;31mKeyboardInterrupt\u001b[0m                         Traceback (most recent call last)",
      "\u001b[0;32m/var/folders/5x/0vb7l3qn55q_tgn_2zh9s0bw0000gn/T/ipykernel_7308/1448325113.py\u001b[0m in \u001b[0;36m<module>\u001b[0;34m\u001b[0m\n\u001b[0;32m----> 1\u001b[0;31m \u001b[0mtrain_test\u001b[0m\u001b[0;34m.\u001b[0m\u001b[0mtraining_GAN\u001b[0m\u001b[0;34m(\u001b[0m\u001b[0mdiscriminator\u001b[0m\u001b[0;34m,\u001b[0m\u001b[0mgenerator\u001b[0m\u001b[0;34m,\u001b[0m\u001b[0mdisc_opt\u001b[0m\u001b[0;34m,\u001b[0m\u001b[0mgen_opt\u001b[0m\u001b[0;34m,\u001b[0m\u001b[0mreal_dataset\u001b[0m\u001b[0;34m,\u001b[0m\u001b[0mbatch_size\u001b[0m\u001b[0;34m,\u001b[0m \u001b[0mn_epochs\u001b[0m\u001b[0;34m,\u001b[0m\u001b[0mcriterion\u001b[0m\u001b[0;34m,\u001b[0m\u001b[0mdevice\u001b[0m\u001b[0;34m)\u001b[0m\u001b[0;34m\u001b[0m\u001b[0;34m\u001b[0m\u001b[0m\n\u001b[0m",
      "\u001b[0;32m~/Academics/Project(ABC_GAN)/ABC_GAN/src/train_test.py\u001b[0m in \u001b[0;36mtraining_GAN\u001b[0;34m(disc, gen, disc_opt, gen_opt, dataset, batch_size, n_epochs, criterion, device)\u001b[0m\n\u001b[1;32m     69\u001b[0m             \u001b[0mz\u001b[0m \u001b[0;34m=\u001b[0m \u001b[0mtorch\u001b[0m\u001b[0;34m.\u001b[0m\u001b[0mfrom_numpy\u001b[0m\u001b[0;34m(\u001b[0m\u001b[0mz\u001b[0m\u001b[0;34m)\u001b[0m\u001b[0;34m\u001b[0m\u001b[0;34m\u001b[0m\u001b[0m\n\u001b[1;32m     70\u001b[0m             \u001b[0mgen_input\u001b[0m \u001b[0;34m=\u001b[0m \u001b[0mtorch\u001b[0m\u001b[0;34m.\u001b[0m\u001b[0mcat\u001b[0m\u001b[0;34m(\u001b[0m\u001b[0;34m(\u001b[0m\u001b[0mx_batch\u001b[0m\u001b[0;34m,\u001b[0m\u001b[0mz\u001b[0m\u001b[0;34m)\u001b[0m\u001b[0;34m,\u001b[0m\u001b[0mdim\u001b[0m\u001b[0;34m=\u001b[0m\u001b[0;36m1\u001b[0m\u001b[0;34m)\u001b[0m\u001b[0;34m.\u001b[0m\u001b[0mto\u001b[0m\u001b[0;34m(\u001b[0m\u001b[0mdevice\u001b[0m\u001b[0;34m)\u001b[0m\u001b[0;34m\u001b[0m\u001b[0;34m\u001b[0m\u001b[0m\n\u001b[0;32m---> 71\u001b[0;31m             \u001b[0mgenerated_y\u001b[0m \u001b[0;34m=\u001b[0m \u001b[0mgen\u001b[0m\u001b[0;34m(\u001b[0m\u001b[0mgen_input\u001b[0m\u001b[0;34m.\u001b[0m\u001b[0mfloat\u001b[0m\u001b[0;34m(\u001b[0m\u001b[0;34m)\u001b[0m\u001b[0;34m)\u001b[0m\u001b[0;34m\u001b[0m\u001b[0;34m\u001b[0m\u001b[0m\n\u001b[0m\u001b[1;32m     72\u001b[0m             \u001b[0minputs_fake\u001b[0m \u001b[0;34m=\u001b[0m \u001b[0mtorch\u001b[0m\u001b[0;34m.\u001b[0m\u001b[0mcat\u001b[0m\u001b[0;34m(\u001b[0m\u001b[0;34m(\u001b[0m\u001b[0mx_batch\u001b[0m\u001b[0;34m,\u001b[0m\u001b[0mgenerated_y\u001b[0m\u001b[0;34m)\u001b[0m\u001b[0;34m,\u001b[0m\u001b[0mdim\u001b[0m\u001b[0;34m=\u001b[0m\u001b[0;36m1\u001b[0m\u001b[0;34m)\u001b[0m\u001b[0;34m.\u001b[0m\u001b[0mto\u001b[0m\u001b[0;34m(\u001b[0m\u001b[0mdevice\u001b[0m\u001b[0;34m)\u001b[0m\u001b[0;34m\u001b[0m\u001b[0;34m\u001b[0m\u001b[0m\n\u001b[1;32m     73\u001b[0m \u001b[0;34m\u001b[0m\u001b[0m\n",
      "\u001b[0;31mKeyboardInterrupt\u001b[0m: "
     ]
    }
   ],
   "source": [
    "train_test.training_GAN(discriminator,generator,disc_opt,gen_opt,real_dataset,batch_size, n_epochs,criterion,device)"
   ]
  },
  {
   "cell_type": "code",
   "execution_count": null,
   "id": "346f03a4",
   "metadata": {
    "papermill": {
     "duration": null,
     "end_time": null,
     "exception": null,
     "start_time": null,
     "status": "completed"
    },
    "tags": []
   },
   "outputs": [],
   "source": [
    "train_test.test_generator(generator,real_dataset,device)"
   ]
  }
 ],
 "metadata": {
  "kernelspec": {
   "display_name": "papermill-tutorial",
   "language": "python",
   "name": "papermill-tutorial"
  },
  "language_info": {
   "codemirror_mode": {
    "name": "ipython",
    "version": 3
   },
   "file_extension": ".py",
   "mimetype": "text/x-python",
   "name": "python",
   "nbconvert_exporter": "python",
   "pygments_lexer": "ipython3",
   "version": "3.8.11"
  },
  "papermill": {
   "default_parameters": {},
   "duration": 327.33873,
   "end_time": "2021-10-05T13:41:40.141697",
   "environment_variables": {},
   "exception": null,
   "input_path": "Experiment_2 - Dummy Linear.ipynb",
   "output_path": "output.ipynb",
   "parameters": {
    "n_samples": 1000
   },
   "start_time": "2021-10-05T13:36:12.802967",
   "version": "2.3.3"
  }
 },
 "nbformat": 4,
 "nbformat_minor": 5
}