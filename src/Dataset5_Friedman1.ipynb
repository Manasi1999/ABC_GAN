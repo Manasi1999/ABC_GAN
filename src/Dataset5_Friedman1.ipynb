{
  "nbformat": 4,
  "nbformat_minor": 0,
  "metadata": {
    "colab": {
      "name": "Dataset5-Friedman1.ipynb",
      "provenance": []
    },
    "kernelspec": {
      "name": "python3",
      "display_name": "Python 3"
    },
    "language_info": {
      "name": "python"
    }
  },
  "cells": [
    {
      "cell_type": "code",
      "metadata": {
        "id": "UMf3pM9IruSn"
      },
      "source": [
        ""
      ],
      "execution_count": null,
      "outputs": []
    },
    {
      "cell_type": "markdown",
      "metadata": {
        "id": "D-T7J-_liQqZ"
      },
      "source": [
        "#Import Libraries and Dataset"
      ]
    },
    {
      "cell_type": "code",
      "metadata": {
        "id": "_efX0iLtiSuk"
      },
      "source": [
        "import warnings\n",
        "warnings.filterwarnings('ignore')"
      ],
      "execution_count": null,
      "outputs": []
    },
    {
      "cell_type": "code",
      "metadata": {
        "id": "kWBtOQC2r99h"
      },
      "source": [
        "%load_ext tensorboard\n",
        "!rm -rf ./logs/ "
      ],
      "execution_count": null,
      "outputs": []
    },
    {
      "cell_type": "markdown",
      "metadata": {
        "id": "P9rtg0exHel6"
      },
      "source": [
        "### Import Friedman1 dataset"
      ]
    },
    {
      "cell_type": "markdown",
      "metadata": {
        "id": "1OLNtH-vHptP"
      },
      "source": [
        "\n",
        "Friedman 1 Dataset \n",
        "\n",
        "*   y(X) = 10 * sin(pi * X[:, 0] * X[:, 1]) + 20 * (X[:, 2] - 0.5) ** 2 + 10 * X[:, 3] + 5 * X[:, 4] + noise * N(0, 1).\n",
        "* Only 5 features used to calculate y \n",
        "* Noise is Gaussian \n",
        "* 1000 datapoints and 10 features used in the following experiment \n"
      ]
    },
    {
      "cell_type": "code",
      "metadata": {
        "id": "Ro7uqoNnJ7SC"
      },
      "source": [
        "import friedman1Dataset\n",
        "import bostonDataset\n",
        "import ABC_train_test\n",
        "import numpy as np\n",
        "import network\n",
        "import statsModel\n",
        "import dataset\n",
        "import torch \n",
        "import matplotlib.pyplot as plt \n",
        "import seaborn as sns \n",
        "from scipy.stats import norm\n",
        "import tensorflow as tf\n",
        "from torch.utils.data import Dataset,DataLoader \n",
        "from torch.utils.tensorboard import SummaryWriter"
      ],
      "execution_count": null,
      "outputs": []
    },
    {
      "cell_type": "code",
      "metadata": {
        "id": "Rpu5X1O5HpEn"
      },
      "source": [
        "X, Y = friedman1Dataset.friedman1_data()\n",
        "# X = (constant , X0 , X1 , X2 , X3 , X4 , X5 , X6 , X7 , X8 , X9)"
      ],
      "execution_count": null,
      "outputs": []
    },
    {
      "cell_type": "markdown",
      "metadata": {
        "id": "KThoyXYU-DxG"
      },
      "source": [
        "### Stats Model"
      ]
    },
    {
      "cell_type": "code",
      "metadata": {
        "id": "8h9u8oKK_TfC",
        "colab": {
          "base_uri": "https://localhost:8080/",
          "height": 1000
        },
        "outputId": "9fe3d927-cc2e-4a42-fd09-8d78af139304"
      },
      "source": [
        "#Fit the Stats model \n",
        "[coeff,Ypred] = statsModel.statsModel(X,Y)"
      ],
      "execution_count": null,
      "outputs": [
        {
          "output_type": "stream",
          "name": "stdout",
          "text": [
            "                            OLS Regression Results                            \n",
            "==============================================================================\n",
            "Dep. Variable:                      Y   R-squared:                       0.776\n",
            "Model:                            OLS   Adj. R-squared:                  0.773\n",
            "Method:                 Least Squares   F-statistic:                     341.9\n",
            "Date:                Mon, 04 Oct 2021   Prob (F-statistic):          1.04e-312\n",
            "Time:                        14:11:23   Log-Likelihood:                -671.71\n",
            "No. Observations:                1000   AIC:                             1365.\n",
            "Df Residuals:                     989   BIC:                             1419.\n",
            "Df Model:                          10                                         \n",
            "Covariance Type:            nonrobust                                         \n",
            "==============================================================================\n",
            "                 coef    std err          t      P>|t|      [0.025      0.975]\n",
            "------------------------------------------------------------------------------\n",
            "const      -8.812e-16      0.015  -5.85e-14      1.000      -0.030       0.030\n",
            "x1             0.4197      0.015     27.800      0.000       0.390       0.449\n",
            "x2             0.4278      0.015     28.229      0.000       0.398       0.458\n",
            "x3         -6.508e-05      0.015     -0.004      0.997      -0.030       0.030\n",
            "x4             0.5787      0.015     38.325      0.000       0.549       0.608\n",
            "x5             0.2872      0.015     18.971      0.000       0.257       0.317\n",
            "x6            -0.0040      0.015     -0.263      0.792      -0.034       0.026\n",
            "x7             0.0224      0.015      1.483      0.138      -0.007       0.052\n",
            "x8            -0.0284      0.015     -1.880      0.060      -0.058       0.001\n",
            "x9             0.0027      0.015      0.178      0.859      -0.027       0.032\n",
            "x10           -0.0159      0.015     -1.052      0.293      -0.046       0.014\n",
            "==============================================================================\n",
            "Omnibus:                       95.534   Durbin-Watson:                   1.929\n",
            "Prob(Omnibus):                  0.000   Jarque-Bera (JB):              178.756\n",
            "Skew:                          -0.619   Prob(JB):                     1.53e-39\n",
            "Kurtosis:                       4.661   Cond. No.                         1.14\n",
            "==============================================================================\n",
            "\n",
            "Warnings:\n",
            "[1] Standard Errors assume that the covariance matrix of the errors is correctly specified.\n",
            "Parameters:  const   -8.812395e-16\n",
            "x1       4.196956e-01\n",
            "x2       4.277803e-01\n",
            "x3      -6.507786e-05\n",
            "x4       5.786956e-01\n",
            "x5       2.871985e-01\n",
            "x6      -3.985263e-03\n",
            "x7       2.238935e-02\n",
            "x8      -2.838555e-02\n",
            "x9       2.692832e-03\n",
            "x10     -1.587927e-02\n",
            "dtype: float64\n"
          ]
        },
        {
          "output_type": "display_data",
          "data": {
            "image/png": "[encoded data removed]",
            "text/plain": [
              "<Figure size 432x288 with 1 Axes>"
            ]
          },
          "metadata": {
            "needs_background": "light"
          }
        }
      ]
    },
    {
      "cell_type": "markdown",
      "metadata": {
        "id": "csmkMxpfh5wT"
      },
      "source": [
        "**Observation**: the coefficients of the stats model from x6 to x10 are close to zero. Since only 5 features out of 10 are used to calculate y in the actual model "
      ]
    },
    {
      "cell_type": "markdown",
      "metadata": {
        "id": "93054c41"
      },
      "source": [
        "# GAN Model"
      ]
    },
    {
      "cell_type": "code",
      "metadata": {
        "id": "19ce6215"
      },
      "source": [
        "real_dataset = dataset.CustomDataset(X,Y)\n",
        "device = torch.device('cuda' if torch.cuda.is_available() else 'cpu')"
      ],
      "execution_count": null,
      "outputs": []
    },
    {
      "cell_type": "code",
      "metadata": {
        "id": "8361a649"
      },
      "source": [
        "generator = network.ComplexGenerator(coeff).to(device)\n",
        "discriminator = network.Discriminator(coeff,100).to(device)\n",
        "criterion = torch.nn.BCEWithLogitsLoss()\n",
        "lr = 0.01 #learning rate \n",
        "beta_1 = 0.5 \n",
        "beta_2 = 0.999\n",
        "gen_opt = torch.optim.Adam(gen.parameters(), lr=lr, betas=(beta_1, beta_2))\n",
        "disc_opt = torch.optim.Adam(disc.parameters(), lr=lr, betas=(beta_1, beta_2))"
      ],
      "execution_count": null,
      "outputs": []
    },
    {
      "cell_type": "code",
      "metadata": {
        "id": "lgDu1xHMS1hN"
      },
      "source": [
        "n_epochs = 30000\n",
        "batch_size = 500\n",
        "mean = 1 #ABC Generator considers stats model coefficients \n",
        "variance = 0.001 "
      ],
      "execution_count": null,
      "outputs": []
    },
    {
      "cell_type": "code",
      "metadata": {
        "id": "ce02725d",
        "outputId": "cbe6c9ef-1d19-44a9-acea-2edfbb7fc844"
      },
      "source": [
        "train_test.training_GAN(discriminator,generator,disc_opt,gen_opt,real_dataset,batch_size, n_epochs,criterion,device)"
      ],
      "execution_count": null,
      "outputs": [
        {
          "data": {
            "image/png": "[encoded data removed]",
            "text/plain": [
              "<Figure size 432x288 with 1 Axes>"
            ]
          },
          "metadata": {
            "needs_background": "light"
          },
          "output_type": "display_data"
        }
      ]
    },
    {
      "cell_type": "code",
      "metadata": {
        "id": "0e6caab5",
        "colab": {
          "base_uri": "https://localhost:8080/",
          "height": 165
        },
        "outputId": "8c26c013-66d0-4b49-ec4f-0a2521d6e4cd"
      },
      "source": [
        "train_test.test_generator(generator,real_dataset,device)"
      ],
      "execution_count": null,
      "outputs": [
        {
          "output_type": "error",
          "ename": "NameError",
          "evalue": "ignored",
          "traceback": [
            "\u001b[0;31m---------------------------------------------------------------------------\u001b[0m",
            "\u001b[0;31mNameError\u001b[0m                                 Traceback (most recent call last)",
            "\u001b[0;32m<ipython-input-6-cc7f00cab8c2>\u001b[0m in \u001b[0;36m<module>\u001b[0;34m()\u001b[0m\n\u001b[0;32m----> 1\u001b[0;31m \u001b[0mtrain_test\u001b[0m\u001b[0;34m.\u001b[0m\u001b[0mtest_generator\u001b[0m\u001b[0;34m(\u001b[0m\u001b[0mgenerator\u001b[0m\u001b[0;34m,\u001b[0m\u001b[0mreal_dataset\u001b[0m\u001b[0;34m,\u001b[0m\u001b[0mdevice\u001b[0m\u001b[0;34m)\u001b[0m\u001b[0;34m\u001b[0m\u001b[0;34m\u001b[0m\u001b[0m\n\u001b[0m",
            "\u001b[0;31mNameError\u001b[0m: name 'train_test' is not defined"
          ]
        }
      ]
    },
    {
      "cell_type": "markdown",
      "metadata": {
        "id": "9e04a421"
      },
      "source": [
        "# ABC GAN Model"
      ]
    },
    {
      "cell_type": "markdown",
      "metadata": {
        "id": "M6d9XYYJ-9lq"
      },
      "source": [
        "### ABC - GAN Model "
      ]
    },
    {
      "cell_type": "code",
      "metadata": {
        "id": "GQwh_HIAAJT_"
      },
      "source": [
        "#Generate Dataset for Training the GAN \n",
        "dataset = dataset.CustomDataset(X,Y)\n",
        "device = torch.device('cuda' if torch.cuda.is_available() else 'cpu')"
      ],
      "execution_count": null,
      "outputs": []
    },
    {
      "cell_type": "code",
      "metadata": {
        "id": "QVFxDtKEAbV8"
      },
      "source": [
        "#Initialize Generator and Discriminator \n",
        "disc = network.Discriminator(coeff,100).to(device)\n",
        "gen = network.ComplexGenerator(coeff).to(device)\n",
        "\n",
        "lr = 0.01 #learning rate \n",
        "beta_1 = 0.5 \n",
        "beta_2 = 0.999\n",
        "criterion = torch.nn.BCEWithLogitsLoss()\n",
        "gen_opt = torch.optim.Adam(gen.parameters(), lr=lr, betas=(beta_1, beta_2))\n",
        "disc_opt = torch.optim.Adam(disc.parameters(), lr=lr, betas=(beta_1, beta_2))"
      ],
      "execution_count": null,
      "outputs": []
    },
    {
      "cell_type": "code",
      "metadata": {
        "id": "mfzYTByIBiyO"
      },
      "source": [
        "#Training the GAN Model \n",
        "n_epochs = 10000\n",
        "batch_size = 500\n",
        "mean = 1 #ABC Generator considers stats model coefficients \n",
        "variance = 0.001 \n",
        "ABC_train_test.training_GAN(disc,gen,disc_opt,gen_opt,dataset,n_epochs,batch_size,criterion,coeff,mean,variance,device)"
      ],
      "execution_count": null,
      "outputs": []
    },
    {
      "cell_type": "code",
      "metadata": {
        "id": "gIT9EOLiPtB6"
      },
      "source": [
        "#Test the generator \n",
        "ABC_train_test.test_generator(gen,dataset,coeff,mean,variance,device)"
      ],
      "execution_count": null,
      "outputs": []
    },
    {
      "cell_type": "markdown",
      "metadata": {
        "id": "Ac-TBYXe72bM"
      },
      "source": [
        "**Sanity Check**"
      ]
    },
    {
      "cell_type": "code",
      "metadata": {
        "id": "u-pTRzjluHnN"
      },
      "source": [
        "sanityChecks.discProbVsError(real_dataset,disc,device)"
      ],
      "execution_count": null,
      "outputs": []
    },
    {
      "cell_type": "markdown",
      "metadata": {
        "id": "k2j87rh0TWiK"
      },
      "source": [
        "**Visualisation of Trained GAN Generator**"
      ]
    },
    {
      "cell_type": "code",
      "metadata": {
        "id": "DdEH5VqzTcgW"
      },
      "source": [
        "for name, param in gen.named_parameters():\n",
        "    print(name,param)"
      ],
      "execution_count": null,
      "outputs": []
    }
  ]
}