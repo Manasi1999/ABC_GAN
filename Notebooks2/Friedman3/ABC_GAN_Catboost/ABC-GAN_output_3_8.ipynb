{
 "cells": [
  {
   "cell_type": "markdown",
   "id": "622780e6",
   "metadata": {
    "id": "622780e6",
    "papermill": {
     "duration": 0.029589,
     "end_time": "2022-06-07T06:21:34.234877",
     "exception": false,
     "start_time": "2022-06-07T06:21:34.205288",
     "status": "completed"
    },
    "tags": []
   },
   "source": [
    "## Import Libraries "
   ]
  },
  {
   "cell_type": "code",
   "execution_count": 1,
   "id": "a62397e3",
   "metadata": {
    "execution": {
     "iopub.execute_input": "2022-06-07T06:21:34.276453Z",
     "iopub.status.busy": "2022-06-07T06:21:34.275809Z",
     "iopub.status.idle": "2022-06-07T06:21:34.278145Z",
     "shell.execute_reply": "2022-06-07T06:21:34.278683Z"
    },
    "id": "a62397e3",
    "papermill": {
     "duration": 0.024617,
     "end_time": "2022-06-07T06:21:34.278921",
     "exception": false,
     "start_time": "2022-06-07T06:21:34.254304",
     "status": "completed"
    },
    "tags": []
   },
   "outputs": [],
   "source": [
    "import warnings\n",
    "import sys\n",
    "sys.path.insert(0, '../../src')\n",
    "warnings.filterwarnings('ignore')"
   ]
  },
  {
   "cell_type": "code",
   "execution_count": 2,
   "id": "d6a4e155",
   "metadata": {
    "execution": {
     "iopub.execute_input": "2022-06-07T06:21:34.300930Z",
     "iopub.status.busy": "2022-06-07T06:21:34.300527Z",
     "iopub.status.idle": "2022-06-07T06:21:36.109792Z",
     "shell.execute_reply": "2022-06-07T06:21:36.110049Z"
    },
    "id": "d6a4e155",
    "papermill": {
     "duration": 1.821161,
     "end_time": "2022-06-07T06:21:36.110172",
     "exception": false,
     "start_time": "2022-06-07T06:21:34.289011",
     "status": "completed"
    },
    "tags": []
   },
   "outputs": [],
   "source": [
    "import ABC_train_test2\n",
    "import friedman1Dataset\n",
    "import network\n",
    "import dataset\n",
    "import sanityChecks\n",
    "import torch \n",
    "import scrapbook as sb\n",
    "from statistics import mean \n",
    "import catboost as ctb \n",
    "from sklearn.model_selection import train_test_split\n",
    "from sklearn.metrics import mean_squared_error,mean_absolute_error\n",
    "import numpy as np"
   ]
  },
  {
   "cell_type": "markdown",
   "id": "2fa5b0f7",
   "metadata": {
    "id": "2fa5b0f7",
    "papermill": {
     "duration": 0.006824,
     "end_time": "2022-06-07T06:21:36.124241",
     "exception": false,
     "start_time": "2022-06-07T06:21:36.117417",
     "status": "completed"
    },
    "tags": []
   },
   "source": [
    "## Parameters "
   ]
  },
  {
   "cell_type": "code",
   "execution_count": 3,
   "id": "783186fb",
   "metadata": {
    "execution": {
     "iopub.execute_input": "2022-06-07T06:21:36.140119Z",
     "iopub.status.busy": "2022-06-07T06:21:36.139739Z",
     "iopub.status.idle": "2022-06-07T06:21:36.141028Z",
     "shell.execute_reply": "2022-06-07T06:21:36.141274Z"
    },
    "id": "783186fb",
    "papermill": {
     "duration": 0.010349,
     "end_time": "2022-06-07T06:21:36.141381",
     "exception": false,
     "start_time": "2022-06-07T06:21:36.131032",
     "status": "completed"
    },
    "tags": [
     "parameters"
    ]
   },
   "outputs": [],
   "source": [
    "variance = 1\n",
    "bias = 1 "
   ]
  },
  {
   "cell_type": "code",
   "execution_count": 4,
   "id": "e28002a1",
   "metadata": {
    "execution": {
     "iopub.execute_input": "2022-06-07T06:21:36.157017Z",
     "iopub.status.busy": "2022-06-07T06:21:36.156665Z",
     "iopub.status.idle": "2022-06-07T06:21:36.157953Z",
     "shell.execute_reply": "2022-06-07T06:21:36.158200Z"
    },
    "papermill": {
     "duration": 0.009978,
     "end_time": "2022-06-07T06:21:36.158305",
     "exception": false,
     "start_time": "2022-06-07T06:21:36.148327",
     "status": "completed"
    },
    "tags": [
     "injected-parameters"
    ]
   },
   "outputs": [],
   "source": [
    "# Parameters\n",
    "variance = 0.01\n",
    "bias = 0.01\n"
   ]
  },
  {
   "cell_type": "markdown",
   "id": "391cdbfd",
   "metadata": {
    "id": "391cdbfd",
    "papermill": {
     "duration": 0.006944,
     "end_time": "2022-06-07T06:21:36.172192",
     "exception": false,
     "start_time": "2022-06-07T06:21:36.165248",
     "status": "completed"
    },
    "tags": []
   },
   "source": [
    "## Dataset \n"
   ]
  },
  {
   "cell_type": "code",
   "execution_count": 5,
   "id": "5b51f161",
   "metadata": {
    "execution": {
     "iopub.execute_input": "2022-06-07T06:21:36.188102Z",
     "iopub.status.busy": "2022-06-07T06:21:36.187726Z",
     "iopub.status.idle": "2022-06-07T06:21:36.188945Z",
     "shell.execute_reply": "2022-06-07T06:21:36.189180Z"
    },
    "id": "5b51f161",
    "papermill": {
     "duration": 0.01018,
     "end_time": "2022-06-07T06:21:36.189289",
     "exception": false,
     "start_time": "2022-06-07T06:21:36.179109",
     "status": "completed"
    },
    "tags": []
   },
   "outputs": [],
   "source": [
    "#Parameters \n",
    "n_features = 5\n",
    "n_samples= 100\n",
    "n_target = 1 "
   ]
  },
  {
   "cell_type": "code",
   "execution_count": 6,
   "id": "5d6eced4",
   "metadata": {
    "execution": {
     "iopub.execute_input": "2022-06-07T06:21:36.207177Z",
     "iopub.status.busy": "2022-06-07T06:21:36.206799Z",
     "iopub.status.idle": "2022-06-07T06:21:36.212151Z",
     "shell.execute_reply": "2022-06-07T06:21:36.212419Z"
    },
    "id": "5d6eced4",
    "papermill": {
     "duration": 0.016264,
     "end_time": "2022-06-07T06:21:36.212542",
     "exception": false,
     "start_time": "2022-06-07T06:21:36.196278",
     "status": "completed"
    },
    "tags": []
   },
   "outputs": [
    {
     "name": "stdout",
     "output_type": "stream",
     "text": [
      "         X0        X1        X2        X3        X4         Y\n",
      "0  0.562587  0.925174  1.337135 -0.223371 -1.555071  0.778316\n",
      "1 -1.567040  1.742719  0.237691  1.059664  1.518626  0.123474\n",
      "2  0.088330 -0.006263  0.712549 -0.338728  1.332885  0.430637\n",
      "3 -1.642962  0.386122 -0.305373  1.353525  1.544820  0.031550\n",
      "4 -0.468097 -0.175681 -1.515364 -1.049101 -1.028576 -0.643919\n"
     ]
    }
   ],
   "source": [
    "X,Y = friedman1Dataset.friedman1_data(n_samples,n_features)"
   ]
  },
  {
   "cell_type": "code",
   "execution_count": 7,
   "id": "fe007438",
   "metadata": {
    "execution": {
     "iopub.execute_input": "2022-06-07T06:21:36.230024Z",
     "iopub.status.busy": "2022-06-07T06:21:36.229661Z",
     "iopub.status.idle": "2022-06-07T06:21:36.230971Z",
     "shell.execute_reply": "2022-06-07T06:21:36.231220Z"
    },
    "id": "fe007438",
    "papermill": {
     "duration": 0.011332,
     "end_time": "2022-06-07T06:21:36.231334",
     "exception": false,
     "start_time": "2022-06-07T06:21:36.220002",
     "status": "completed"
    },
    "tags": []
   },
   "outputs": [],
   "source": [
    "#Train test split for dataset \n",
    "X_train,X_test,Y_train,Y_test = train_test_split(X,Y,test_size = 0.2)\n",
    "train_data = dataset.CustomDataset(X_train,Y_train)\n",
    "test_data = dataset.CustomDataset(X_test,Y_test)\n"
   ]
  },
  {
   "cell_type": "markdown",
   "id": "a9a1af34",
   "metadata": {
    "id": "a9a1af34",
    "papermill": {
     "duration": 0.007391,
     "end_time": "2022-06-07T06:21:36.246624",
     "exception": false,
     "start_time": "2022-06-07T06:21:36.239233",
     "status": "completed"
    },
    "tags": []
   },
   "source": [
    "## Training Parameters "
   ]
  },
  {
   "cell_type": "code",
   "execution_count": 8,
   "id": "952b7fc8",
   "metadata": {
    "execution": {
     "iopub.execute_input": "2022-06-07T06:21:36.263692Z",
     "iopub.status.busy": "2022-06-07T06:21:36.263322Z",
     "iopub.status.idle": "2022-06-07T06:21:36.264572Z",
     "shell.execute_reply": "2022-06-07T06:21:36.264875Z"
    },
    "id": "952b7fc8",
    "papermill": {
     "duration": 0.011197,
     "end_time": "2022-06-07T06:21:36.264993",
     "exception": false,
     "start_time": "2022-06-07T06:21:36.253796",
     "status": "completed"
    },
    "tags": []
   },
   "outputs": [],
   "source": [
    "batch_size = 32\n",
    "n_epochs = 1000\n",
    "#Select the device \n",
    "device = torch.device('cuda' if torch.cuda.is_available() else 'cpu')"
   ]
  },
  {
   "cell_type": "markdown",
   "id": "a95e1600",
   "metadata": {
    "id": "a95e1600",
    "papermill": {
     "duration": 0.007098,
     "end_time": "2022-06-07T06:21:36.279463",
     "exception": false,
     "start_time": "2022-06-07T06:21:36.272365",
     "status": "completed"
    },
    "tags": []
   },
   "source": [
    "# ABC Pre-generator Model \n",
    "\n",
    "1. The catboost model is used as a pre-generator model for the ABC-GAN. \n",
    "2. The model is first trained on the entire dataset \n",
    "3. It generats X,Y pairs and we add some Gaussian noise with mean 0 and variance 1 to it which is then feed as input to the generator.\n"
   ]
  },
  {
   "cell_type": "code",
   "execution_count": 9,
   "id": "ff8ce7bd",
   "metadata": {
    "execution": {
     "iopub.execute_input": "2022-06-07T06:21:36.304184Z",
     "iopub.status.busy": "2022-06-07T06:21:36.303788Z",
     "iopub.status.idle": "2022-06-07T06:21:36.949619Z",
     "shell.execute_reply": "2022-06-07T06:21:36.949993Z"
    },
    "id": "ff8ce7bd",
    "papermill": {
     "duration": 0.663485,
     "end_time": "2022-06-07T06:21:36.950115",
     "exception": false,
     "start_time": "2022-06-07T06:21:36.286630",
     "status": "completed"
    },
    "tags": []
   },
   "outputs": [
    {
     "name": "stdout",
     "output_type": "stream",
     "text": [
      "Learning rate set to 0.024897\n",
      "0:\tlearn: 1.0053386\ttotal: 62.9ms\tremaining: 1m 2s\n",
      "1:\tlearn: 0.9969998\ttotal: 63.5ms\tremaining: 31.7s\n",
      "2:\tlearn: 0.9868884\ttotal: 64.1ms\tremaining: 21.3s\n",
      "3:\tlearn: 0.9756099\ttotal: 64.6ms\tremaining: 16.1s\n",
      "4:\tlearn: 0.9657319\ttotal: 65.2ms\tremaining: 13s\n",
      "5:\tlearn: 0.9557545\ttotal: 65.6ms\tremaining: 10.9s\n",
      "6:\tlearn: 0.9453383\ttotal: 66.2ms\tremaining: 9.39s\n",
      "7:\tlearn: 0.9357835\ttotal: 66.6ms\tremaining: 8.26s\n",
      "8:\tlearn: 0.9269033\ttotal: 67.1ms\tremaining: 7.39s\n",
      "9:\tlearn: 0.9194195\ttotal: 67.6ms\tremaining: 6.69s\n",
      "10:\tlearn: 0.9088333\ttotal: 68.1ms\tremaining: 6.12s\n",
      "11:\tlearn: 0.8992119\ttotal: 68.5ms\tremaining: 5.64s\n",
      "12:\tlearn: 0.8908070\ttotal: 69.2ms\tremaining: 5.25s\n",
      "13:\tlearn: 0.8829345\ttotal: 69.7ms\tremaining: 4.91s\n",
      "14:\tlearn: 0.8750942\ttotal: 70.2ms\tremaining: 4.61s\n",
      "15:\tlearn: 0.8674121\ttotal: 70.8ms\tremaining: 4.35s\n",
      "16:\tlearn: 0.8593253\ttotal: 71.3ms\tremaining: 4.12s\n",
      "17:\tlearn: 0.8519493\ttotal: 71.8ms\tremaining: 3.91s\n",
      "18:\tlearn: 0.8452249\ttotal: 72.3ms\tremaining: 3.73s\n",
      "19:\tlearn: 0.8363831\ttotal: 72.7ms\tremaining: 3.56s\n",
      "20:\tlearn: 0.8277253\ttotal: 73.1ms\tremaining: 3.41s\n",
      "21:\tlearn: 0.8193612\ttotal: 73.7ms\tremaining: 3.27s\n",
      "22:\tlearn: 0.8117230\ttotal: 74.1ms\tremaining: 3.15s\n",
      "23:\tlearn: 0.8031730\ttotal: 74.6ms\tremaining: 3.03s\n",
      "24:\tlearn: 0.7959420\ttotal: 75.1ms\tremaining: 2.93s\n",
      "25:\tlearn: 0.7877203\ttotal: 75.5ms\tremaining: 2.83s\n",
      "26:\tlearn: 0.7801849\ttotal: 75.9ms\tremaining: 2.74s\n",
      "27:\tlearn: 0.7725242\ttotal: 76.3ms\tremaining: 2.65s\n",
      "28:\tlearn: 0.7653502\ttotal: 76.8ms\tremaining: 2.57s\n",
      "29:\tlearn: 0.7580334\ttotal: 77.2ms\tremaining: 2.5s\n",
      "30:\tlearn: 0.7492711\ttotal: 77.6ms\tremaining: 2.43s\n",
      "31:\tlearn: 0.7415114\ttotal: 78.2ms\tremaining: 2.36s\n",
      "32:\tlearn: 0.7348769\ttotal: 78.6ms\tremaining: 2.3s\n",
      "33:\tlearn: 0.7273501\ttotal: 79.3ms\tremaining: 2.25s\n",
      "34:\tlearn: 0.7201971\ttotal: 80.4ms\tremaining: 2.22s\n",
      "35:\tlearn: 0.7147856\ttotal: 80.8ms\tremaining: 2.16s\n",
      "36:\tlearn: 0.7088577\ttotal: 81.4ms\tremaining: 2.12s\n",
      "37:\tlearn: 0.7023976\ttotal: 81.8ms\tremaining: 2.07s\n",
      "38:\tlearn: 0.6955906\ttotal: 82.3ms\tremaining: 2.03s\n",
      "39:\tlearn: 0.6888477\ttotal: 82.7ms\tremaining: 1.98s\n",
      "40:\tlearn: 0.6824086\ttotal: 83ms\tremaining: 1.94s\n",
      "41:\tlearn: 0.6762026\ttotal: 83.5ms\tremaining: 1.9s\n",
      "42:\tlearn: 0.6697967\ttotal: 83.8ms\tremaining: 1.86s\n",
      "43:\tlearn: 0.6623268\ttotal: 84.3ms\tremaining: 1.83s\n",
      "44:\tlearn: 0.6562057\ttotal: 84.8ms\tremaining: 1.8s\n",
      "45:\tlearn: 0.6511712\ttotal: 85.2ms\tremaining: 1.77s\n",
      "46:\tlearn: 0.6444882\ttotal: 85.5ms\tremaining: 1.73s\n",
      "47:\tlearn: 0.6385457\ttotal: 85.9ms\tremaining: 1.7s\n",
      "48:\tlearn: 0.6331246\ttotal: 86.2ms\tremaining: 1.67s\n",
      "49:\tlearn: 0.6277702\ttotal: 86.6ms\tremaining: 1.64s\n",
      "50:\tlearn: 0.6225329\ttotal: 87ms\tremaining: 1.62s\n",
      "51:\tlearn: 0.6172738\ttotal: 87.4ms\tremaining: 1.59s\n",
      "52:\tlearn: 0.6123502\ttotal: 87.8ms\tremaining: 1.57s\n",
      "53:\tlearn: 0.6066326\ttotal: 88.2ms\tremaining: 1.54s\n",
      "54:\tlearn: 0.6013177\ttotal: 88.6ms\tremaining: 1.52s\n",
      "55:\tlearn: 0.5960168\ttotal: 89ms\tremaining: 1.5s\n",
      "56:\tlearn: 0.5919047\ttotal: 89.4ms\tremaining: 1.48s\n",
      "57:\tlearn: 0.5869294\ttotal: 90.2ms\tremaining: 1.47s\n",
      "58:\tlearn: 0.5819282\ttotal: 90.7ms\tremaining: 1.45s\n",
      "59:\tlearn: 0.5775497\ttotal: 91.1ms\tremaining: 1.43s\n",
      "60:\tlearn: 0.5736748\ttotal: 91.5ms\tremaining: 1.41s\n",
      "61:\tlearn: 0.5692438\ttotal: 91.9ms\tremaining: 1.39s\n",
      "62:\tlearn: 0.5643333\ttotal: 92.5ms\tremaining: 1.38s\n",
      "63:\tlearn: 0.5599625\ttotal: 93ms\tremaining: 1.36s\n",
      "64:\tlearn: 0.5560605\ttotal: 93.4ms\tremaining: 1.34s\n",
      "65:\tlearn: 0.5520236\ttotal: 93.8ms\tremaining: 1.33s\n",
      "66:\tlearn: 0.5471430\ttotal: 94.3ms\tremaining: 1.31s\n",
      "67:\tlearn: 0.5429481\ttotal: 94.8ms\tremaining: 1.3s\n",
      "68:\tlearn: 0.5389471\ttotal: 95.2ms\tremaining: 1.28s\n",
      "69:\tlearn: 0.5342290\ttotal: 95.8ms\tremaining: 1.27s\n",
      "70:\tlearn: 0.5300770\ttotal: 96.2ms\tremaining: 1.26s\n",
      "71:\tlearn: 0.5240776\ttotal: 96.7ms\tremaining: 1.25s\n",
      "72:\tlearn: 0.5194839\ttotal: 97.3ms\tremaining: 1.24s\n",
      "73:\tlearn: 0.5157352\ttotal: 97.7ms\tremaining: 1.22s\n",
      "74:\tlearn: 0.5112847\ttotal: 98.2ms\tremaining: 1.21s\n",
      "75:\tlearn: 0.5067579\ttotal: 98.7ms\tremaining: 1.2s\n",
      "76:\tlearn: 0.5023948\ttotal: 99.1ms\tremaining: 1.19s\n"
     ]
    },
    {
     "name": "stdout",
     "output_type": "stream",
     "text": [
      "77:\tlearn: 0.4989138\ttotal: 99.9ms\tremaining: 1.18s\n",
      "78:\tlearn: 0.4944613\ttotal: 100ms\tremaining: 1.17s\n",
      "79:\tlearn: 0.4916681\ttotal: 101ms\tremaining: 1.16s\n",
      "80:\tlearn: 0.4871612\ttotal: 101ms\tremaining: 1.15s\n",
      "81:\tlearn: 0.4834552\ttotal: 102ms\tremaining: 1.14s\n",
      "82:\tlearn: 0.4789020\ttotal: 102ms\tremaining: 1.13s\n",
      "83:\tlearn: 0.4747900\ttotal: 103ms\tremaining: 1.12s\n",
      "84:\tlearn: 0.4701681\ttotal: 103ms\tremaining: 1.11s\n",
      "85:\tlearn: 0.4662329\ttotal: 104ms\tremaining: 1.1s\n",
      "86:\tlearn: 0.4626080\ttotal: 104ms\tremaining: 1.09s\n",
      "87:\tlearn: 0.4586279\ttotal: 105ms\tremaining: 1.09s\n",
      "88:\tlearn: 0.4546788\ttotal: 106ms\tremaining: 1.08s\n",
      "89:\tlearn: 0.4511704\ttotal: 106ms\tremaining: 1.07s\n",
      "90:\tlearn: 0.4474678\ttotal: 106ms\tremaining: 1.06s\n",
      "91:\tlearn: 0.4439680\ttotal: 107ms\tremaining: 1.05s\n",
      "92:\tlearn: 0.4405093\ttotal: 107ms\tremaining: 1.05s\n",
      "93:\tlearn: 0.4363284\ttotal: 108ms\tremaining: 1.04s\n",
      "94:\tlearn: 0.4325128\ttotal: 108ms\tremaining: 1.03s\n",
      "95:\tlearn: 0.4288679\ttotal: 109ms\tremaining: 1.02s\n",
      "96:\tlearn: 0.4256294\ttotal: 109ms\tremaining: 1.02s\n",
      "97:\tlearn: 0.4224395\ttotal: 110ms\tremaining: 1.01s\n",
      "98:\tlearn: 0.4187497\ttotal: 110ms\tremaining: 1s\n",
      "99:\tlearn: 0.4163455\ttotal: 111ms\tremaining: 998ms\n",
      "100:\tlearn: 0.4130558\ttotal: 111ms\tremaining: 992ms\n",
      "101:\tlearn: 0.4099439\ttotal: 112ms\tremaining: 986ms\n",
      "102:\tlearn: 0.4067979\ttotal: 112ms\tremaining: 980ms\n",
      "103:\tlearn: 0.4038153\ttotal: 113ms\tremaining: 974ms\n",
      "104:\tlearn: 0.4011002\ttotal: 114ms\tremaining: 968ms\n",
      "105:\tlearn: 0.3977033\ttotal: 114ms\tremaining: 962ms\n",
      "106:\tlearn: 0.3948216\ttotal: 115ms\tremaining: 957ms\n",
      "107:\tlearn: 0.3919437\ttotal: 115ms\tremaining: 950ms\n",
      "108:\tlearn: 0.3888000\ttotal: 115ms\tremaining: 943ms\n",
      "109:\tlearn: 0.3859419\ttotal: 116ms\tremaining: 938ms\n",
      "110:\tlearn: 0.3827113\ttotal: 116ms\tremaining: 933ms\n",
      "111:\tlearn: 0.3795264\ttotal: 117ms\tremaining: 928ms\n",
      "112:\tlearn: 0.3766288\ttotal: 117ms\tremaining: 922ms\n",
      "113:\tlearn: 0.3740785\ttotal: 118ms\tremaining: 917ms\n",
      "114:\tlearn: 0.3707838\ttotal: 118ms\tremaining: 911ms\n",
      "115:\tlearn: 0.3680244\ttotal: 119ms\tremaining: 905ms\n",
      "116:\tlearn: 0.3652125\ttotal: 119ms\tremaining: 900ms\n",
      "117:\tlearn: 0.3625408\ttotal: 120ms\tremaining: 896ms\n",
      "118:\tlearn: 0.3595065\ttotal: 120ms\tremaining: 890ms\n",
      "119:\tlearn: 0.3566877\ttotal: 121ms\tremaining: 885ms\n",
      "120:\tlearn: 0.3535372\ttotal: 121ms\tremaining: 880ms\n",
      "121:\tlearn: 0.3507180\ttotal: 122ms\tremaining: 876ms\n",
      "122:\tlearn: 0.3483527\ttotal: 122ms\tremaining: 871ms\n",
      "123:\tlearn: 0.3450891\ttotal: 123ms\tremaining: 866ms\n",
      "124:\tlearn: 0.3426230\ttotal: 123ms\tremaining: 862ms\n",
      "125:\tlearn: 0.3404849\ttotal: 124ms\tremaining: 857ms\n",
      "126:\tlearn: 0.3380202\ttotal: 124ms\tremaining: 854ms\n",
      "127:\tlearn: 0.3353085\ttotal: 125ms\tremaining: 850ms\n",
      "128:\tlearn: 0.3331328\ttotal: 125ms\tremaining: 846ms\n",
      "129:\tlearn: 0.3307324\ttotal: 127ms\tremaining: 847ms\n",
      "130:\tlearn: 0.3285933\ttotal: 127ms\tremaining: 843ms\n",
      "131:\tlearn: 0.3261969\ttotal: 127ms\tremaining: 838ms\n",
      "132:\tlearn: 0.3237192\ttotal: 128ms\tremaining: 834ms\n",
      "133:\tlearn: 0.3212815\ttotal: 128ms\tremaining: 830ms\n",
      "134:\tlearn: 0.3189699\ttotal: 129ms\tremaining: 826ms\n",
      "135:\tlearn: 0.3169018\ttotal: 129ms\tremaining: 822ms\n",
      "136:\tlearn: 0.3142731\ttotal: 130ms\tremaining: 818ms\n",
      "137:\tlearn: 0.3120242\ttotal: 130ms\tremaining: 815ms\n",
      "138:\tlearn: 0.3098888\ttotal: 131ms\tremaining: 810ms\n",
      "139:\tlearn: 0.3078842\ttotal: 131ms\tremaining: 806ms\n",
      "140:\tlearn: 0.3053799\ttotal: 132ms\tremaining: 802ms\n",
      "141:\tlearn: 0.3027417\ttotal: 132ms\tremaining: 799ms\n",
      "142:\tlearn: 0.3007185\ttotal: 133ms\tremaining: 795ms\n",
      "143:\tlearn: 0.2983576\ttotal: 133ms\tremaining: 791ms\n",
      "144:\tlearn: 0.2957820\ttotal: 134ms\tremaining: 789ms\n",
      "145:\tlearn: 0.2939598\ttotal: 134ms\tremaining: 785ms\n",
      "146:\tlearn: 0.2916694\ttotal: 135ms\tremaining: 781ms\n",
      "147:\tlearn: 0.2895052\ttotal: 135ms\tremaining: 778ms\n",
      "148:\tlearn: 0.2872692\ttotal: 136ms\tremaining: 775ms\n",
      "149:\tlearn: 0.2850857\ttotal: 136ms\tremaining: 771ms\n",
      "150:\tlearn: 0.2830209\ttotal: 137ms\tremaining: 768ms\n",
      "151:\tlearn: 0.2809699\ttotal: 137ms\tremaining: 765ms\n",
      "152:\tlearn: 0.2788064\ttotal: 138ms\tremaining: 762ms\n",
      "153:\tlearn: 0.2769653\ttotal: 138ms\tremaining: 760ms\n",
      "154:\tlearn: 0.2751401\ttotal: 139ms\tremaining: 757ms\n",
      "155:\tlearn: 0.2731646\ttotal: 139ms\tremaining: 753ms\n",
      "156:\tlearn: 0.2714337\ttotal: 140ms\tremaining: 751ms\n",
      "157:\tlearn: 0.2692109\ttotal: 140ms\tremaining: 748ms\n",
      "158:\tlearn: 0.2673766\ttotal: 141ms\tremaining: 745ms\n",
      "159:\tlearn: 0.2657182\ttotal: 141ms\tremaining: 742ms\n",
      "160:\tlearn: 0.2637153\ttotal: 142ms\tremaining: 739ms\n",
      "161:\tlearn: 0.2613033\ttotal: 142ms\tremaining: 736ms\n",
      "162:\tlearn: 0.2595402\ttotal: 143ms\tremaining: 733ms\n",
      "163:\tlearn: 0.2573860\ttotal: 143ms\tremaining: 731ms\n",
      "164:\tlearn: 0.2557398\ttotal: 144ms\tremaining: 727ms\n",
      "165:\tlearn: 0.2536013\ttotal: 144ms\tremaining: 725ms\n",
      "166:\tlearn: 0.2516636\ttotal: 145ms\tremaining: 722ms\n",
      "167:\tlearn: 0.2501830\ttotal: 145ms\tremaining: 719ms\n",
      "168:\tlearn: 0.2483510\ttotal: 146ms\tremaining: 716ms\n",
      "169:\tlearn: 0.2465768\ttotal: 156ms\tremaining: 761ms\n",
      "170:\tlearn: 0.2449916\ttotal: 156ms\tremaining: 759ms\n",
      "171:\tlearn: 0.2432068\ttotal: 157ms\tremaining: 755ms\n",
      "172:\tlearn: 0.2413005\ttotal: 157ms\tremaining: 752ms\n",
      "173:\tlearn: 0.2398050\ttotal: 158ms\tremaining: 749ms\n",
      "174:\tlearn: 0.2381173\ttotal: 158ms\tremaining: 746ms\n",
      "175:\tlearn: 0.2367659\ttotal: 159ms\tremaining: 742ms\n",
      "176:\tlearn: 0.2351055\ttotal: 159ms\tremaining: 740ms\n",
      "177:\tlearn: 0.2335733\ttotal: 160ms\tremaining: 737ms\n",
      "178:\tlearn: 0.2319865\ttotal: 160ms\tremaining: 735ms\n",
      "179:\tlearn: 0.2302312\ttotal: 161ms\tremaining: 732ms\n",
      "180:\tlearn: 0.2288276\ttotal: 161ms\tremaining: 729ms\n",
      "181:\tlearn: 0.2271989\ttotal: 162ms\tremaining: 727ms\n",
      "182:\tlearn: 0.2253468\ttotal: 162ms\tremaining: 724ms\n",
      "183:\tlearn: 0.2238789\ttotal: 163ms\tremaining: 722ms\n",
      "184:\tlearn: 0.2223930\ttotal: 163ms\tremaining: 719ms\n",
      "185:\tlearn: 0.2209793\ttotal: 164ms\tremaining: 717ms\n",
      "186:\tlearn: 0.2196932\ttotal: 164ms\tremaining: 714ms\n",
      "187:\tlearn: 0.2180188\ttotal: 165ms\tremaining: 712ms\n",
      "188:\tlearn: 0.2167877\ttotal: 165ms\tremaining: 709ms\n",
      "189:\tlearn: 0.2149311\ttotal: 166ms\tremaining: 707ms\n",
      "190:\tlearn: 0.2131018\ttotal: 166ms\tremaining: 704ms\n",
      "191:\tlearn: 0.2116694\ttotal: 167ms\tremaining: 701ms\n",
      "192:\tlearn: 0.2104001\ttotal: 167ms\tremaining: 698ms\n",
      "193:\tlearn: 0.2090348\ttotal: 167ms\tremaining: 696ms\n",
      "194:\tlearn: 0.2073412\ttotal: 168ms\tremaining: 694ms\n",
      "195:\tlearn: 0.2060016\ttotal: 168ms\tremaining: 691ms\n",
      "196:\tlearn: 0.2047921\ttotal: 169ms\tremaining: 688ms\n",
      "197:\tlearn: 0.2033393\ttotal: 169ms\tremaining: 686ms\n",
      "198:\tlearn: 0.2020990\ttotal: 170ms\tremaining: 684ms\n",
      "199:\tlearn: 0.2010828\ttotal: 170ms\tremaining: 681ms\n",
      "200:\tlearn: 0.1991872\ttotal: 171ms\tremaining: 679ms\n",
      "201:\tlearn: 0.1975241\ttotal: 171ms\tremaining: 677ms\n",
      "202:\tlearn: 0.1962471\ttotal: 172ms\tremaining: 675ms\n",
      "203:\tlearn: 0.1948613\ttotal: 172ms\tremaining: 672ms\n",
      "204:\tlearn: 0.1936472\ttotal: 173ms\tremaining: 670ms\n",
      "205:\tlearn: 0.1922786\ttotal: 173ms\tremaining: 668ms\n",
      "206:\tlearn: 0.1912174\ttotal: 174ms\tremaining: 665ms\n",
      "207:\tlearn: 0.1901104\ttotal: 174ms\tremaining: 663ms\n",
      "208:\tlearn: 0.1888914\ttotal: 175ms\tremaining: 661ms\n",
      "209:\tlearn: 0.1877585\ttotal: 175ms\tremaining: 659ms\n",
      "210:\tlearn: 0.1864880\ttotal: 176ms\tremaining: 657ms\n",
      "211:\tlearn: 0.1853943\ttotal: 176ms\tremaining: 655ms\n",
      "212:\tlearn: 0.1841866\ttotal: 177ms\tremaining: 653ms\n",
      "213:\tlearn: 0.1829637\ttotal: 177ms\tremaining: 651ms\n",
      "214:\tlearn: 0.1815252\ttotal: 178ms\tremaining: 650ms\n",
      "215:\tlearn: 0.1802927\ttotal: 179ms\tremaining: 648ms\n",
      "216:\tlearn: 0.1791674\ttotal: 179ms\tremaining: 646ms\n",
      "217:\tlearn: 0.1779693\ttotal: 180ms\tremaining: 645ms\n",
      "218:\tlearn: 0.1766889\ttotal: 180ms\tremaining: 643ms\n",
      "219:\tlearn: 0.1754110\ttotal: 181ms\tremaining: 641ms\n",
      "220:\tlearn: 0.1742756\ttotal: 181ms\tremaining: 639ms\n",
      "221:\tlearn: 0.1729938\ttotal: 182ms\tremaining: 637ms\n",
      "222:\tlearn: 0.1717021\ttotal: 182ms\tremaining: 635ms\n",
      "223:\tlearn: 0.1700994\ttotal: 183ms\tremaining: 633ms\n",
      "224:\tlearn: 0.1688398\ttotal: 183ms\tremaining: 632ms\n",
      "225:\tlearn: 0.1673672\ttotal: 184ms\tremaining: 630ms\n",
      "226:\tlearn: 0.1660777\ttotal: 184ms\tremaining: 628ms\n",
      "227:\tlearn: 0.1648381\ttotal: 185ms\tremaining: 626ms\n",
      "228:\tlearn: 0.1637919\ttotal: 185ms\tremaining: 624ms\n",
      "229:\tlearn: 0.1624645\ttotal: 186ms\tremaining: 623ms\n",
      "230:\tlearn: 0.1613758\ttotal: 187ms\tremaining: 621ms\n",
      "231:\tlearn: 0.1604253\ttotal: 187ms\tremaining: 620ms\n"
     ]
    },
    {
     "name": "stdout",
     "output_type": "stream",
     "text": [
      "232:\tlearn: 0.1592703\ttotal: 188ms\tremaining: 619ms\n",
      "233:\tlearn: 0.1582003\ttotal: 189ms\tremaining: 618ms\n",
      "234:\tlearn: 0.1571440\ttotal: 189ms\tremaining: 617ms\n",
      "235:\tlearn: 0.1561759\ttotal: 190ms\tremaining: 615ms\n",
      "236:\tlearn: 0.1551788\ttotal: 190ms\tremaining: 613ms\n",
      "237:\tlearn: 0.1540988\ttotal: 191ms\tremaining: 611ms\n",
      "238:\tlearn: 0.1527348\ttotal: 191ms\tremaining: 610ms\n",
      "239:\tlearn: 0.1516738\ttotal: 192ms\tremaining: 608ms\n",
      "240:\tlearn: 0.1504088\ttotal: 193ms\tremaining: 607ms\n",
      "241:\tlearn: 0.1494529\ttotal: 193ms\tremaining: 605ms\n",
      "242:\tlearn: 0.1483368\ttotal: 194ms\tremaining: 604ms\n",
      "243:\tlearn: 0.1473099\ttotal: 195ms\tremaining: 603ms\n",
      "244:\tlearn: 0.1464839\ttotal: 195ms\tremaining: 601ms\n",
      "245:\tlearn: 0.1455621\ttotal: 196ms\tremaining: 600ms\n",
      "246:\tlearn: 0.1446638\ttotal: 196ms\tremaining: 597ms\n",
      "247:\tlearn: 0.1437556\ttotal: 196ms\tremaining: 596ms\n",
      "248:\tlearn: 0.1426121\ttotal: 197ms\tremaining: 594ms\n",
      "249:\tlearn: 0.1417247\ttotal: 197ms\tremaining: 592ms\n",
      "250:\tlearn: 0.1405370\ttotal: 198ms\tremaining: 591ms\n",
      "251:\tlearn: 0.1394841\ttotal: 199ms\tremaining: 590ms\n",
      "252:\tlearn: 0.1382853\ttotal: 199ms\tremaining: 588ms\n",
      "253:\tlearn: 0.1374280\ttotal: 200ms\tremaining: 586ms\n",
      "254:\tlearn: 0.1363065\ttotal: 200ms\tremaining: 585ms\n",
      "255:\tlearn: 0.1354620\ttotal: 201ms\tremaining: 583ms\n",
      "256:\tlearn: 0.1344336\ttotal: 201ms\tremaining: 581ms\n",
      "257:\tlearn: 0.1336450\ttotal: 202ms\tremaining: 580ms\n",
      "258:\tlearn: 0.1327895\ttotal: 202ms\tremaining: 579ms\n",
      "259:\tlearn: 0.1322322\ttotal: 203ms\tremaining: 577ms\n",
      "260:\tlearn: 0.1313026\ttotal: 203ms\tremaining: 576ms\n",
      "261:\tlearn: 0.1302405\ttotal: 204ms\tremaining: 574ms\n",
      "262:\tlearn: 0.1295117\ttotal: 204ms\tremaining: 572ms\n",
      "263:\tlearn: 0.1285134\ttotal: 205ms\tremaining: 571ms\n",
      "264:\tlearn: 0.1276662\ttotal: 205ms\tremaining: 569ms\n",
      "265:\tlearn: 0.1266112\ttotal: 206ms\tremaining: 567ms\n",
      "266:\tlearn: 0.1258109\ttotal: 206ms\tremaining: 566ms\n",
      "267:\tlearn: 0.1250361\ttotal: 207ms\tremaining: 564ms\n",
      "268:\tlearn: 0.1241237\ttotal: 207ms\tremaining: 563ms\n",
      "269:\tlearn: 0.1232338\ttotal: 207ms\tremaining: 561ms\n",
      "270:\tlearn: 0.1223503\ttotal: 210ms\tremaining: 564ms\n",
      "271:\tlearn: 0.1216380\ttotal: 210ms\tremaining: 563ms\n",
      "272:\tlearn: 0.1209676\ttotal: 211ms\tremaining: 561ms\n",
      "273:\tlearn: 0.1201410\ttotal: 211ms\tremaining: 560ms\n",
      "274:\tlearn: 0.1194979\ttotal: 212ms\tremaining: 558ms\n",
      "275:\tlearn: 0.1186551\ttotal: 212ms\tremaining: 557ms\n",
      "276:\tlearn: 0.1177116\ttotal: 213ms\tremaining: 555ms\n",
      "277:\tlearn: 0.1170544\ttotal: 213ms\tremaining: 554ms\n",
      "278:\tlearn: 0.1163305\ttotal: 214ms\tremaining: 552ms\n",
      "279:\tlearn: 0.1155841\ttotal: 214ms\tremaining: 551ms\n",
      "280:\tlearn: 0.1146170\ttotal: 215ms\tremaining: 549ms\n",
      "281:\tlearn: 0.1138446\ttotal: 215ms\tremaining: 548ms\n",
      "282:\tlearn: 0.1130846\ttotal: 216ms\tremaining: 546ms\n",
      "283:\tlearn: 0.1123930\ttotal: 216ms\tremaining: 544ms\n",
      "284:\tlearn: 0.1117358\ttotal: 216ms\tremaining: 543ms\n",
      "285:\tlearn: 0.1110596\ttotal: 217ms\tremaining: 542ms\n",
      "286:\tlearn: 0.1106187\ttotal: 217ms\tremaining: 540ms\n",
      "287:\tlearn: 0.1100195\ttotal: 218ms\tremaining: 539ms\n",
      "288:\tlearn: 0.1092241\ttotal: 218ms\tremaining: 537ms\n",
      "289:\tlearn: 0.1083715\ttotal: 219ms\tremaining: 536ms\n",
      "290:\tlearn: 0.1078042\ttotal: 219ms\tremaining: 534ms\n",
      "291:\tlearn: 0.1070028\ttotal: 220ms\tremaining: 533ms\n",
      "292:\tlearn: 0.1061594\ttotal: 220ms\tremaining: 531ms\n",
      "293:\tlearn: 0.1055500\ttotal: 221ms\tremaining: 530ms\n",
      "294:\tlearn: 0.1049340\ttotal: 221ms\tremaining: 529ms\n",
      "295:\tlearn: 0.1044484\ttotal: 222ms\tremaining: 528ms\n",
      "296:\tlearn: 0.1036799\ttotal: 222ms\tremaining: 526ms\n",
      "297:\tlearn: 0.1032019\ttotal: 223ms\tremaining: 525ms\n",
      "298:\tlearn: 0.1025625\ttotal: 223ms\tremaining: 523ms\n",
      "299:\tlearn: 0.1020120\ttotal: 224ms\tremaining: 522ms\n",
      "300:\tlearn: 0.1015177\ttotal: 224ms\tremaining: 521ms\n",
      "301:\tlearn: 0.1008634\ttotal: 225ms\tremaining: 519ms\n",
      "302:\tlearn: 0.1001132\ttotal: 225ms\tremaining: 518ms\n",
      "303:\tlearn: 0.0995611\ttotal: 226ms\tremaining: 517ms\n",
      "304:\tlearn: 0.0989989\ttotal: 226ms\tremaining: 515ms\n",
      "305:\tlearn: 0.0981190\ttotal: 227ms\tremaining: 514ms\n",
      "306:\tlearn: 0.0976858\ttotal: 227ms\tremaining: 513ms\n",
      "307:\tlearn: 0.0970395\ttotal: 228ms\tremaining: 511ms\n",
      "308:\tlearn: 0.0963289\ttotal: 228ms\tremaining: 510ms\n",
      "309:\tlearn: 0.0956408\ttotal: 229ms\tremaining: 509ms\n",
      "310:\tlearn: 0.0949133\ttotal: 229ms\tremaining: 507ms\n",
      "311:\tlearn: 0.0943723\ttotal: 229ms\tremaining: 506ms\n",
      "312:\tlearn: 0.0940846\ttotal: 230ms\tremaining: 504ms\n",
      "313:\tlearn: 0.0937511\ttotal: 230ms\tremaining: 503ms\n",
      "314:\tlearn: 0.0930799\ttotal: 231ms\tremaining: 502ms\n",
      "315:\tlearn: 0.0924605\ttotal: 231ms\tremaining: 501ms\n",
      "316:\tlearn: 0.0921237\ttotal: 232ms\tremaining: 500ms\n",
      "317:\tlearn: 0.0916218\ttotal: 232ms\tremaining: 498ms\n",
      "318:\tlearn: 0.0909748\ttotal: 233ms\tremaining: 497ms\n",
      "319:\tlearn: 0.0907157\ttotal: 233ms\tremaining: 496ms\n",
      "320:\tlearn: 0.0900869\ttotal: 234ms\tremaining: 494ms\n",
      "321:\tlearn: 0.0898336\ttotal: 234ms\tremaining: 493ms\n",
      "322:\tlearn: 0.0890647\ttotal: 235ms\tremaining: 492ms\n",
      "323:\tlearn: 0.0887223\ttotal: 235ms\tremaining: 491ms\n",
      "324:\tlearn: 0.0884333\ttotal: 236ms\tremaining: 490ms\n",
      "325:\tlearn: 0.0881644\ttotal: 236ms\tremaining: 489ms\n",
      "326:\tlearn: 0.0878340\ttotal: 237ms\tremaining: 487ms\n",
      "327:\tlearn: 0.0875656\ttotal: 237ms\tremaining: 486ms\n",
      "328:\tlearn: 0.0872942\ttotal: 238ms\tremaining: 486ms\n",
      "329:\tlearn: 0.0870603\ttotal: 247ms\tremaining: 502ms\n",
      "330:\tlearn: 0.0868748\ttotal: 249ms\tremaining: 502ms\n",
      "331:\tlearn: 0.0862165\ttotal: 249ms\tremaining: 501ms\n",
      "332:\tlearn: 0.0859239\ttotal: 250ms\tremaining: 500ms\n",
      "333:\tlearn: 0.0857004\ttotal: 250ms\tremaining: 499ms\n",
      "334:\tlearn: 0.0853796\ttotal: 251ms\tremaining: 498ms\n",
      "335:\tlearn: 0.0847390\ttotal: 251ms\tremaining: 497ms\n",
      "336:\tlearn: 0.0844074\ttotal: 252ms\tremaining: 495ms\n",
      "337:\tlearn: 0.0840935\ttotal: 252ms\tremaining: 494ms\n",
      "338:\tlearn: 0.0838589\ttotal: 253ms\tremaining: 493ms\n",
      "339:\tlearn: 0.0835884\ttotal: 254ms\tremaining: 492ms\n",
      "340:\tlearn: 0.0833547\ttotal: 254ms\tremaining: 491ms\n",
      "341:\tlearn: 0.0831474\ttotal: 255ms\tremaining: 490ms\n",
      "342:\tlearn: 0.0825780\ttotal: 255ms\tremaining: 489ms\n",
      "343:\tlearn: 0.0823195\ttotal: 256ms\tremaining: 488ms\n",
      "344:\tlearn: 0.0821529\ttotal: 256ms\tremaining: 486ms\n",
      "345:\tlearn: 0.0819886\ttotal: 257ms\tremaining: 485ms\n",
      "346:\tlearn: 0.0817634\ttotal: 257ms\tremaining: 484ms\n",
      "347:\tlearn: 0.0810724\ttotal: 258ms\tremaining: 483ms\n",
      "348:\tlearn: 0.0804079\ttotal: 258ms\tremaining: 481ms\n",
      "349:\tlearn: 0.0802483\ttotal: 258ms\tremaining: 480ms\n",
      "350:\tlearn: 0.0795708\ttotal: 259ms\tremaining: 479ms\n",
      "351:\tlearn: 0.0793554\ttotal: 259ms\tremaining: 478ms\n",
      "352:\tlearn: 0.0791349\ttotal: 260ms\tremaining: 477ms\n",
      "353:\tlearn: 0.0790103\ttotal: 260ms\tremaining: 475ms\n",
      "354:\tlearn: 0.0788206\ttotal: 261ms\tremaining: 474ms\n",
      "355:\tlearn: 0.0785878\ttotal: 261ms\tremaining: 472ms\n",
      "356:\tlearn: 0.0784368\ttotal: 262ms\tremaining: 472ms\n",
      "357:\tlearn: 0.0780502\ttotal: 262ms\tremaining: 470ms\n",
      "358:\tlearn: 0.0777799\ttotal: 263ms\tremaining: 469ms\n",
      "359:\tlearn: 0.0775801\ttotal: 263ms\tremaining: 468ms\n",
      "360:\tlearn: 0.0769357\ttotal: 263ms\tremaining: 466ms\n",
      "361:\tlearn: 0.0767399\ttotal: 264ms\tremaining: 465ms\n",
      "362:\tlearn: 0.0761794\ttotal: 264ms\tremaining: 464ms\n",
      "363:\tlearn: 0.0755523\ttotal: 265ms\tremaining: 463ms\n",
      "364:\tlearn: 0.0749107\ttotal: 265ms\tremaining: 462ms\n",
      "365:\tlearn: 0.0743529\ttotal: 266ms\tremaining: 460ms\n",
      "366:\tlearn: 0.0741647\ttotal: 266ms\tremaining: 459ms\n",
      "367:\tlearn: 0.0736189\ttotal: 267ms\tremaining: 459ms\n",
      "368:\tlearn: 0.0731440\ttotal: 268ms\tremaining: 458ms\n",
      "369:\tlearn: 0.0725610\ttotal: 268ms\tremaining: 456ms\n",
      "370:\tlearn: 0.0719917\ttotal: 269ms\tremaining: 455ms\n",
      "371:\tlearn: 0.0714342\ttotal: 270ms\tremaining: 455ms\n",
      "372:\tlearn: 0.0713011\ttotal: 270ms\tremaining: 454ms\n",
      "373:\tlearn: 0.0707560\ttotal: 270ms\tremaining: 453ms\n",
      "374:\tlearn: 0.0706254\ttotal: 271ms\tremaining: 452ms\n",
      "375:\tlearn: 0.0700591\ttotal: 271ms\tremaining: 450ms\n",
      "376:\tlearn: 0.0695777\ttotal: 272ms\tremaining: 449ms\n",
      "377:\tlearn: 0.0690362\ttotal: 273ms\tremaining: 448ms\n",
      "378:\tlearn: 0.0685003\ttotal: 273ms\tremaining: 447ms\n",
      "379:\tlearn: 0.0683749\ttotal: 273ms\tremaining: 446ms\n",
      "380:\tlearn: 0.0678532\ttotal: 274ms\tremaining: 445ms\n",
      "381:\tlearn: 0.0673303\ttotal: 274ms\tremaining: 444ms\n",
      "382:\tlearn: 0.0668727\ttotal: 275ms\tremaining: 442ms\n",
      "383:\tlearn: 0.0663652\ttotal: 275ms\tremaining: 441ms\n",
      "384:\tlearn: 0.0662003\ttotal: 276ms\tremaining: 440ms\n",
      "385:\tlearn: 0.0657070\ttotal: 276ms\tremaining: 439ms\n",
      "386:\tlearn: 0.0652225\ttotal: 277ms\tremaining: 438ms\n",
      "387:\tlearn: 0.0650548\ttotal: 277ms\tremaining: 437ms\n",
      "388:\tlearn: 0.0648960\ttotal: 277ms\tremaining: 436ms\n",
      "389:\tlearn: 0.0643880\ttotal: 278ms\tremaining: 435ms\n",
      "390:\tlearn: 0.0642734\ttotal: 278ms\tremaining: 433ms\n",
      "391:\tlearn: 0.0641190\ttotal: 279ms\tremaining: 432ms\n",
      "392:\tlearn: 0.0636522\ttotal: 279ms\tremaining: 431ms\n",
      "393:\tlearn: 0.0631816\ttotal: 280ms\tremaining: 430ms\n",
      "394:\tlearn: 0.0627201\ttotal: 280ms\tremaining: 429ms\n",
      "395:\tlearn: 0.0622669\ttotal: 280ms\tremaining: 428ms\n",
      "396:\tlearn: 0.0618219\ttotal: 281ms\tremaining: 427ms\n",
      "397:\tlearn: 0.0614169\ttotal: 281ms\tremaining: 426ms\n",
      "398:\tlearn: 0.0612704\ttotal: 282ms\tremaining: 424ms\n",
      "399:\tlearn: 0.0611259\ttotal: 282ms\tremaining: 423ms\n",
      "400:\tlearn: 0.0606946\ttotal: 283ms\tremaining: 422ms\n",
      "401:\tlearn: 0.0602717\ttotal: 283ms\tremaining: 421ms\n",
      "402:\tlearn: 0.0598558\ttotal: 283ms\tremaining: 420ms\n",
      "403:\tlearn: 0.0594482\ttotal: 284ms\tremaining: 419ms\n"
     ]
    },
    {
     "name": "stdout",
     "output_type": "stream",
     "text": [
      "404:\tlearn: 0.0589929\ttotal: 285ms\tremaining: 418ms\n",
      "405:\tlearn: 0.0585961\ttotal: 285ms\tremaining: 417ms\n",
      "406:\tlearn: 0.0582066\ttotal: 286ms\tremaining: 416ms\n",
      "407:\tlearn: 0.0577840\ttotal: 286ms\tremaining: 415ms\n",
      "408:\tlearn: 0.0574078\ttotal: 287ms\tremaining: 414ms\n",
      "409:\tlearn: 0.0569999\ttotal: 287ms\tremaining: 413ms\n",
      "410:\tlearn: 0.0566034\ttotal: 288ms\tremaining: 412ms\n",
      "411:\tlearn: 0.0564730\ttotal: 288ms\tremaining: 411ms\n",
      "412:\tlearn: 0.0563768\ttotal: 288ms\tremaining: 410ms\n",
      "413:\tlearn: 0.0560177\ttotal: 289ms\tremaining: 409ms\n",
      "414:\tlearn: 0.0556646\ttotal: 290ms\tremaining: 408ms\n",
      "415:\tlearn: 0.0552806\ttotal: 290ms\tremaining: 407ms\n",
      "416:\tlearn: 0.0549067\ttotal: 290ms\tremaining: 406ms\n",
      "417:\tlearn: 0.0545289\ttotal: 291ms\tremaining: 405ms\n",
      "418:\tlearn: 0.0544067\ttotal: 291ms\tremaining: 404ms\n",
      "419:\tlearn: 0.0540486\ttotal: 292ms\tremaining: 403ms\n",
      "420:\tlearn: 0.0536832\ttotal: 293ms\tremaining: 402ms\n",
      "421:\tlearn: 0.0534872\ttotal: 293ms\tremaining: 401ms\n",
      "422:\tlearn: 0.0531313\ttotal: 294ms\tremaining: 400ms\n",
      "423:\tlearn: 0.0527776\ttotal: 294ms\tremaining: 399ms\n",
      "424:\tlearn: 0.0526631\ttotal: 294ms\tremaining: 398ms\n",
      "425:\tlearn: 0.0525790\ttotal: 295ms\tremaining: 397ms\n",
      "426:\tlearn: 0.0522338\ttotal: 295ms\tremaining: 396ms\n",
      "427:\tlearn: 0.0519140\ttotal: 296ms\tremaining: 395ms\n",
      "428:\tlearn: 0.0517338\ttotal: 296ms\tremaining: 395ms\n",
      "429:\tlearn: 0.0516534\ttotal: 297ms\tremaining: 394ms\n",
      "430:\tlearn: 0.0513447\ttotal: 297ms\tremaining: 393ms\n",
      "431:\tlearn: 0.0510121\ttotal: 298ms\tremaining: 392ms\n",
      "432:\tlearn: 0.0508377\ttotal: 298ms\tremaining: 391ms\n",
      "433:\tlearn: 0.0507609\ttotal: 299ms\tremaining: 390ms\n",
      "434:\tlearn: 0.0504511\ttotal: 299ms\tremaining: 389ms\n",
      "435:\tlearn: 0.0501531\ttotal: 300ms\tremaining: 388ms\n",
      "436:\tlearn: 0.0498573\ttotal: 300ms\tremaining: 386ms\n",
      "437:\tlearn: 0.0495425\ttotal: 300ms\tremaining: 385ms\n",
      "438:\tlearn: 0.0492366\ttotal: 301ms\tremaining: 384ms\n",
      "439:\tlearn: 0.0489411\ttotal: 301ms\tremaining: 383ms\n",
      "440:\tlearn: 0.0486565\ttotal: 301ms\tremaining: 382ms\n",
      "441:\tlearn: 0.0485855\ttotal: 302ms\tremaining: 381ms\n",
      "442:\tlearn: 0.0483096\ttotal: 302ms\tremaining: 380ms\n",
      "443:\tlearn: 0.0480183\ttotal: 303ms\tremaining: 379ms\n",
      "444:\tlearn: 0.0477443\ttotal: 303ms\tremaining: 378ms\n",
      "445:\tlearn: 0.0474685\ttotal: 303ms\tremaining: 377ms\n",
      "446:\tlearn: 0.0474012\ttotal: 304ms\tremaining: 376ms\n",
      "447:\tlearn: 0.0473251\ttotal: 304ms\tremaining: 375ms\n",
      "448:\tlearn: 0.0470411\ttotal: 305ms\tremaining: 374ms\n",
      "449:\tlearn: 0.0469664\ttotal: 305ms\tremaining: 373ms\n",
      "450:\tlearn: 0.0466413\ttotal: 306ms\tremaining: 372ms\n",
      "451:\tlearn: 0.0464428\ttotal: 306ms\tremaining: 371ms\n",
      "452:\tlearn: 0.0462485\ttotal: 307ms\tremaining: 370ms\n",
      "453:\tlearn: 0.0460576\ttotal: 307ms\tremaining: 369ms\n",
      "454:\tlearn: 0.0458705\ttotal: 307ms\tremaining: 368ms\n",
      "455:\tlearn: 0.0456870\ttotal: 308ms\tremaining: 367ms\n",
      "456:\tlearn: 0.0455070\ttotal: 308ms\tremaining: 366ms\n",
      "457:\tlearn: 0.0453681\ttotal: 309ms\tremaining: 365ms\n",
      "458:\tlearn: 0.0451692\ttotal: 309ms\tremaining: 364ms\n",
      "459:\tlearn: 0.0449979\ttotal: 309ms\tremaining: 363ms\n",
      "460:\tlearn: 0.0448352\ttotal: 310ms\tremaining: 362ms\n",
      "461:\tlearn: 0.0446452\ttotal: 310ms\tremaining: 361ms\n",
      "462:\tlearn: 0.0444878\ttotal: 311ms\tremaining: 360ms\n",
      "463:\tlearn: 0.0443249\ttotal: 311ms\tremaining: 359ms\n",
      "464:\tlearn: 0.0441721\ttotal: 312ms\tremaining: 359ms\n",
      "465:\tlearn: 0.0440495\ttotal: 312ms\tremaining: 358ms\n",
      "466:\tlearn: 0.0438932\ttotal: 312ms\tremaining: 357ms\n",
      "467:\tlearn: 0.0437175\ttotal: 313ms\tremaining: 356ms\n",
      "468:\tlearn: 0.0435726\ttotal: 313ms\tremaining: 355ms\n",
      "469:\tlearn: 0.0434306\ttotal: 314ms\tremaining: 354ms\n",
      "470:\tlearn: 0.0430934\ttotal: 314ms\tremaining: 353ms\n",
      "471:\tlearn: 0.0429458\ttotal: 314ms\tremaining: 352ms\n",
      "472:\tlearn: 0.0428086\ttotal: 315ms\tremaining: 351ms\n",
      "473:\tlearn: 0.0426706\ttotal: 315ms\tremaining: 350ms\n",
      "474:\tlearn: 0.0423430\ttotal: 316ms\tremaining: 349ms\n",
      "475:\tlearn: 0.0422087\ttotal: 317ms\tremaining: 348ms\n",
      "476:\tlearn: 0.0420773\ttotal: 317ms\tremaining: 348ms\n",
      "477:\tlearn: 0.0417775\ttotal: 318ms\tremaining: 347ms\n",
      "478:\tlearn: 0.0416501\ttotal: 318ms\tremaining: 346ms\n",
      "479:\tlearn: 0.0414769\ttotal: 319ms\tremaining: 345ms\n",
      "480:\tlearn: 0.0412913\ttotal: 319ms\tremaining: 344ms\n",
      "481:\tlearn: 0.0411260\ttotal: 319ms\tremaining: 343ms\n",
      "482:\tlearn: 0.0409489\ttotal: 320ms\tremaining: 342ms\n",
      "483:\tlearn: 0.0407974\ttotal: 320ms\tremaining: 341ms\n",
      "484:\tlearn: 0.0406282\ttotal: 321ms\tremaining: 341ms\n",
      "485:\tlearn: 0.0404612\ttotal: 322ms\tremaining: 340ms\n",
      "486:\tlearn: 0.0403124\ttotal: 322ms\tremaining: 339ms\n",
      "487:\tlearn: 0.0401549\ttotal: 323ms\tremaining: 338ms\n",
      "488:\tlearn: 0.0400994\ttotal: 323ms\tremaining: 338ms\n",
      "489:\tlearn: 0.0400579\ttotal: 324ms\tremaining: 337ms\n",
      "490:\tlearn: 0.0398183\ttotal: 324ms\tremaining: 336ms\n",
      "491:\tlearn: 0.0395615\ttotal: 325ms\tremaining: 335ms\n",
      "492:\tlearn: 0.0393102\ttotal: 325ms\tremaining: 335ms\n",
      "493:\tlearn: 0.0390746\ttotal: 326ms\tremaining: 334ms\n",
      "494:\tlearn: 0.0390345\ttotal: 326ms\tremaining: 333ms\n",
      "495:\tlearn: 0.0387915\ttotal: 327ms\tremaining: 332ms\n",
      "496:\tlearn: 0.0385636\ttotal: 327ms\tremaining: 331ms\n",
      "497:\tlearn: 0.0382934\ttotal: 328ms\tremaining: 330ms\n",
      "498:\tlearn: 0.0380313\ttotal: 328ms\tremaining: 330ms\n",
      "499:\tlearn: 0.0377771\ttotal: 329ms\tremaining: 329ms\n",
      "500:\tlearn: 0.0375305\ttotal: 329ms\tremaining: 328ms\n",
      "501:\tlearn: 0.0372913\ttotal: 330ms\tremaining: 327ms\n",
      "502:\tlearn: 0.0370594\ttotal: 330ms\tremaining: 326ms\n",
      "503:\tlearn: 0.0368345\ttotal: 331ms\tremaining: 325ms\n",
      "504:\tlearn: 0.0366164\ttotal: 331ms\tremaining: 324ms\n",
      "505:\tlearn: 0.0365083\ttotal: 331ms\tremaining: 324ms\n",
      "506:\tlearn: 0.0363802\ttotal: 332ms\tremaining: 323ms\n",
      "507:\tlearn: 0.0362748\ttotal: 332ms\tremaining: 322ms\n",
      "508:\tlearn: 0.0360655\ttotal: 333ms\tremaining: 321ms\n",
      "509:\tlearn: 0.0359418\ttotal: 333ms\tremaining: 320ms\n",
      "510:\tlearn: 0.0358397\ttotal: 333ms\tremaining: 319ms\n",
      "511:\tlearn: 0.0357195\ttotal: 334ms\tremaining: 318ms\n",
      "512:\tlearn: 0.0355188\ttotal: 334ms\tremaining: 317ms\n",
      "513:\tlearn: 0.0354505\ttotal: 335ms\tremaining: 316ms\n",
      "514:\tlearn: 0.0353033\ttotal: 335ms\tremaining: 316ms\n",
      "515:\tlearn: 0.0352318\ttotal: 336ms\tremaining: 315ms\n",
      "516:\tlearn: 0.0351095\ttotal: 337ms\tremaining: 315ms\n",
      "517:\tlearn: 0.0349520\ttotal: 337ms\tremaining: 314ms\n",
      "518:\tlearn: 0.0348097\ttotal: 338ms\tremaining: 313ms\n",
      "519:\tlearn: 0.0347510\ttotal: 338ms\tremaining: 312ms\n",
      "520:\tlearn: 0.0346339\ttotal: 338ms\tremaining: 311ms\n",
      "521:\tlearn: 0.0345764\ttotal: 339ms\tremaining: 310ms\n",
      "522:\tlearn: 0.0343859\ttotal: 339ms\tremaining: 310ms\n",
      "523:\tlearn: 0.0341995\ttotal: 340ms\tremaining: 309ms\n",
      "524:\tlearn: 0.0340157\ttotal: 340ms\tremaining: 308ms\n",
      "525:\tlearn: 0.0338363\ttotal: 341ms\tremaining: 307ms\n",
      "526:\tlearn: 0.0336774\ttotal: 341ms\tremaining: 306ms\n",
      "527:\tlearn: 0.0335212\ttotal: 342ms\tremaining: 306ms\n",
      "528:\tlearn: 0.0333880\ttotal: 342ms\tremaining: 305ms\n",
      "529:\tlearn: 0.0332358\ttotal: 343ms\tremaining: 304ms\n",
      "530:\tlearn: 0.0331058\ttotal: 344ms\tremaining: 304ms\n",
      "531:\tlearn: 0.0329778\ttotal: 344ms\tremaining: 303ms\n",
      "532:\tlearn: 0.0328431\ttotal: 345ms\tremaining: 302ms\n",
      "533:\tlearn: 0.0326704\ttotal: 345ms\tremaining: 301ms\n",
      "534:\tlearn: 0.0325452\ttotal: 346ms\tremaining: 300ms\n",
      "535:\tlearn: 0.0324008\ttotal: 346ms\tremaining: 299ms\n",
      "536:\tlearn: 0.0322207\ttotal: 346ms\tremaining: 299ms\n",
      "537:\tlearn: 0.0320253\ttotal: 347ms\tremaining: 298ms\n",
      "538:\tlearn: 0.0318654\ttotal: 347ms\tremaining: 297ms\n",
      "539:\tlearn: 0.0316965\ttotal: 348ms\tremaining: 296ms\n",
      "540:\tlearn: 0.0315586\ttotal: 349ms\tremaining: 296ms\n",
      "541:\tlearn: 0.0314303\ttotal: 349ms\tremaining: 295ms\n",
      "542:\tlearn: 0.0313050\ttotal: 349ms\tremaining: 294ms\n",
      "543:\tlearn: 0.0311481\ttotal: 350ms\tremaining: 293ms\n",
      "544:\tlearn: 0.0310753\ttotal: 351ms\tremaining: 293ms\n",
      "545:\tlearn: 0.0309066\ttotal: 351ms\tremaining: 292ms\n",
      "546:\tlearn: 0.0307448\ttotal: 352ms\tremaining: 291ms\n",
      "547:\tlearn: 0.0305910\ttotal: 352ms\tremaining: 291ms\n",
      "548:\tlearn: 0.0304337\ttotal: 353ms\tremaining: 290ms\n",
      "549:\tlearn: 0.0302799\ttotal: 353ms\tremaining: 289ms\n",
      "550:\tlearn: 0.0301452\ttotal: 354ms\tremaining: 288ms\n",
      "551:\tlearn: 0.0299886\ttotal: 354ms\tremaining: 288ms\n",
      "552:\tlearn: 0.0298348\ttotal: 355ms\tremaining: 287ms\n",
      "553:\tlearn: 0.0297341\ttotal: 355ms\tremaining: 286ms\n",
      "554:\tlearn: 0.0295856\ttotal: 356ms\tremaining: 286ms\n",
      "555:\tlearn: 0.0294869\ttotal: 357ms\tremaining: 285ms\n",
      "556:\tlearn: 0.0293897\ttotal: 357ms\tremaining: 284ms\n",
      "557:\tlearn: 0.0292420\ttotal: 358ms\tremaining: 283ms\n",
      "558:\tlearn: 0.0290979\ttotal: 358ms\tremaining: 283ms\n",
      "559:\tlearn: 0.0289566\ttotal: 359ms\tremaining: 282ms\n",
      "560:\tlearn: 0.0288619\ttotal: 359ms\tremaining: 281ms\n",
      "561:\tlearn: 0.0287687\ttotal: 360ms\tremaining: 280ms\n",
      "562:\tlearn: 0.0286397\ttotal: 360ms\tremaining: 280ms\n",
      "563:\tlearn: 0.0284912\ttotal: 361ms\tremaining: 279ms\n",
      "564:\tlearn: 0.0284007\ttotal: 367ms\tremaining: 282ms\n",
      "565:\tlearn: 0.0282207\ttotal: 367ms\tremaining: 282ms\n",
      "566:\tlearn: 0.0280948\ttotal: 368ms\tremaining: 281ms\n",
      "567:\tlearn: 0.0279201\ttotal: 368ms\tremaining: 280ms\n",
      "568:\tlearn: 0.0277540\ttotal: 369ms\tremaining: 279ms\n",
      "569:\tlearn: 0.0276070\ttotal: 369ms\tremaining: 279ms\n",
      "570:\tlearn: 0.0274457\ttotal: 370ms\tremaining: 278ms\n",
      "571:\tlearn: 0.0272910\ttotal: 370ms\tremaining: 277ms\n",
      "572:\tlearn: 0.0270976\ttotal: 371ms\tremaining: 276ms\n",
      "573:\tlearn: 0.0269930\ttotal: 371ms\tremaining: 276ms\n"
     ]
    },
    {
     "name": "stdout",
     "output_type": "stream",
     "text": [
      "574:\tlearn: 0.0268579\ttotal: 372ms\tremaining: 275ms\n",
      "575:\tlearn: 0.0266798\ttotal: 373ms\tremaining: 274ms\n",
      "576:\tlearn: 0.0265794\ttotal: 373ms\tremaining: 274ms\n",
      "577:\tlearn: 0.0263963\ttotal: 374ms\tremaining: 273ms\n",
      "578:\tlearn: 0.0262729\ttotal: 374ms\tremaining: 272ms\n",
      "579:\tlearn: 0.0261747\ttotal: 375ms\tremaining: 271ms\n",
      "580:\tlearn: 0.0260516\ttotal: 375ms\tremaining: 271ms\n",
      "581:\tlearn: 0.0259553\ttotal: 376ms\tremaining: 270ms\n",
      "582:\tlearn: 0.0258337\ttotal: 376ms\tremaining: 269ms\n",
      "583:\tlearn: 0.0257147\ttotal: 377ms\tremaining: 268ms\n",
      "584:\tlearn: 0.0255982\ttotal: 377ms\tremaining: 268ms\n",
      "585:\tlearn: 0.0255002\ttotal: 377ms\tremaining: 267ms\n",
      "586:\tlearn: 0.0254047\ttotal: 378ms\tremaining: 266ms\n",
      "587:\tlearn: 0.0253117\ttotal: 378ms\tremaining: 265ms\n",
      "588:\tlearn: 0.0252210\ttotal: 379ms\tremaining: 264ms\n",
      "589:\tlearn: 0.0251327\ttotal: 379ms\tremaining: 264ms\n",
      "590:\tlearn: 0.0250466\ttotal: 380ms\tremaining: 263ms\n",
      "591:\tlearn: 0.0249810\ttotal: 380ms\tremaining: 262ms\n",
      "592:\tlearn: 0.0249168\ttotal: 381ms\tremaining: 261ms\n",
      "593:\tlearn: 0.0248228\ttotal: 381ms\tremaining: 261ms\n",
      "594:\tlearn: 0.0247267\ttotal: 382ms\tremaining: 260ms\n",
      "595:\tlearn: 0.0245894\ttotal: 382ms\tremaining: 259ms\n",
      "596:\tlearn: 0.0244772\ttotal: 383ms\tremaining: 258ms\n",
      "597:\tlearn: 0.0243430\ttotal: 384ms\tremaining: 258ms\n",
      "598:\tlearn: 0.0242386\ttotal: 384ms\tremaining: 257ms\n",
      "599:\tlearn: 0.0241363\ttotal: 385ms\tremaining: 257ms\n",
      "600:\tlearn: 0.0240057\ttotal: 385ms\tremaining: 256ms\n",
      "601:\tlearn: 0.0239061\ttotal: 386ms\tremaining: 255ms\n",
      "602:\tlearn: 0.0238107\ttotal: 387ms\tremaining: 255ms\n",
      "603:\tlearn: 0.0237133\ttotal: 387ms\tremaining: 254ms\n",
      "604:\tlearn: 0.0236161\ttotal: 388ms\tremaining: 253ms\n",
      "605:\tlearn: 0.0235225\ttotal: 388ms\tremaining: 252ms\n",
      "606:\tlearn: 0.0234389\ttotal: 389ms\tremaining: 252ms\n",
      "607:\tlearn: 0.0233469\ttotal: 389ms\tremaining: 251ms\n",
      "608:\tlearn: 0.0232221\ttotal: 390ms\tremaining: 250ms\n",
      "609:\tlearn: 0.0231284\ttotal: 390ms\tremaining: 249ms\n",
      "610:\tlearn: 0.0230437\ttotal: 390ms\tremaining: 249ms\n",
      "611:\tlearn: 0.0229396\ttotal: 391ms\tremaining: 248ms\n",
      "612:\tlearn: 0.0228493\ttotal: 391ms\tremaining: 247ms\n",
      "613:\tlearn: 0.0227605\ttotal: 392ms\tremaining: 246ms\n",
      "614:\tlearn: 0.0226399\ttotal: 392ms\tremaining: 245ms\n",
      "615:\tlearn: 0.0225216\ttotal: 392ms\tremaining: 245ms\n",
      "616:\tlearn: 0.0224057\ttotal: 393ms\tremaining: 244ms\n",
      "617:\tlearn: 0.0222920\ttotal: 393ms\tremaining: 243ms\n",
      "618:\tlearn: 0.0221805\ttotal: 394ms\tremaining: 242ms\n",
      "619:\tlearn: 0.0220992\ttotal: 394ms\tremaining: 241ms\n",
      "620:\tlearn: 0.0220131\ttotal: 394ms\tremaining: 241ms\n",
      "621:\tlearn: 0.0219338\ttotal: 395ms\tremaining: 240ms\n",
      "622:\tlearn: 0.0218069\ttotal: 396ms\tremaining: 239ms\n",
      "623:\tlearn: 0.0216735\ttotal: 396ms\tremaining: 239ms\n",
      "624:\tlearn: 0.0216153\ttotal: 397ms\tremaining: 238ms\n",
      "625:\tlearn: 0.0214835\ttotal: 397ms\tremaining: 237ms\n",
      "626:\tlearn: 0.0213860\ttotal: 398ms\tremaining: 237ms\n",
      "627:\tlearn: 0.0212580\ttotal: 398ms\tremaining: 236ms\n",
      "628:\tlearn: 0.0211511\ttotal: 399ms\tremaining: 235ms\n",
      "629:\tlearn: 0.0210569\ttotal: 399ms\tremaining: 235ms\n",
      "630:\tlearn: 0.0209198\ttotal: 400ms\tremaining: 234ms\n",
      "631:\tlearn: 0.0208171\ttotal: 400ms\tremaining: 233ms\n",
      "632:\tlearn: 0.0206833\ttotal: 401ms\tremaining: 232ms\n",
      "633:\tlearn: 0.0205862\ttotal: 401ms\tremaining: 232ms\n",
      "634:\tlearn: 0.0204655\ttotal: 402ms\tremaining: 231ms\n",
      "635:\tlearn: 0.0203732\ttotal: 402ms\tremaining: 230ms\n",
      "636:\tlearn: 0.0202747\ttotal: 403ms\tremaining: 229ms\n",
      "637:\tlearn: 0.0201815\ttotal: 403ms\tremaining: 229ms\n",
      "638:\tlearn: 0.0200652\ttotal: 403ms\tremaining: 228ms\n",
      "639:\tlearn: 0.0199849\ttotal: 404ms\tremaining: 227ms\n",
      "640:\tlearn: 0.0198907\ttotal: 404ms\tremaining: 226ms\n",
      "641:\tlearn: 0.0198032\ttotal: 405ms\tremaining: 226ms\n",
      "642:\tlearn: 0.0196921\ttotal: 405ms\tremaining: 225ms\n",
      "643:\tlearn: 0.0196149\ttotal: 406ms\tremaining: 224ms\n",
      "644:\tlearn: 0.0195299\ttotal: 406ms\tremaining: 224ms\n",
      "645:\tlearn: 0.0194095\ttotal: 407ms\tremaining: 223ms\n",
      "646:\tlearn: 0.0192917\ttotal: 407ms\tremaining: 222ms\n",
      "647:\tlearn: 0.0191712\ttotal: 408ms\tremaining: 222ms\n",
      "648:\tlearn: 0.0191120\ttotal: 408ms\tremaining: 221ms\n",
      "649:\tlearn: 0.0189913\ttotal: 409ms\tremaining: 220ms\n",
      "650:\tlearn: 0.0189218\ttotal: 409ms\tremaining: 219ms\n",
      "651:\tlearn: 0.0188715\ttotal: 410ms\tremaining: 219ms\n",
      "652:\tlearn: 0.0187553\ttotal: 410ms\tremaining: 218ms\n",
      "653:\tlearn: 0.0186715\ttotal: 411ms\tremaining: 217ms\n",
      "654:\tlearn: 0.0186226\ttotal: 411ms\tremaining: 216ms\n",
      "655:\tlearn: 0.0185744\ttotal: 411ms\tremaining: 216ms\n",
      "656:\tlearn: 0.0184993\ttotal: 412ms\tremaining: 215ms\n",
      "657:\tlearn: 0.0184149\ttotal: 412ms\tremaining: 214ms\n",
      "658:\tlearn: 0.0183030\ttotal: 413ms\tremaining: 214ms\n",
      "659:\tlearn: 0.0182567\ttotal: 413ms\tremaining: 213ms\n",
      "660:\tlearn: 0.0181471\ttotal: 414ms\tremaining: 212ms\n",
      "661:\tlearn: 0.0180417\ttotal: 415ms\tremaining: 212ms\n",
      "662:\tlearn: 0.0179697\ttotal: 415ms\tremaining: 211ms\n",
      "663:\tlearn: 0.0179299\ttotal: 416ms\tremaining: 210ms\n",
      "664:\tlearn: 0.0178908\ttotal: 416ms\tremaining: 210ms\n",
      "665:\tlearn: 0.0177879\ttotal: 417ms\tremaining: 209ms\n",
      "666:\tlearn: 0.0176867\ttotal: 417ms\tremaining: 208ms\n",
      "667:\tlearn: 0.0176175\ttotal: 418ms\tremaining: 208ms\n",
      "668:\tlearn: 0.0175458\ttotal: 418ms\tremaining: 207ms\n",
      "669:\tlearn: 0.0174463\ttotal: 419ms\tremaining: 206ms\n",
      "670:\tlearn: 0.0174087\ttotal: 419ms\tremaining: 206ms\n",
      "671:\tlearn: 0.0173124\ttotal: 420ms\tremaining: 205ms\n",
      "672:\tlearn: 0.0172164\ttotal: 420ms\tremaining: 204ms\n",
      "673:\tlearn: 0.0171165\ttotal: 421ms\tremaining: 204ms\n",
      "674:\tlearn: 0.0170803\ttotal: 421ms\tremaining: 203ms\n",
      "675:\tlearn: 0.0170149\ttotal: 422ms\tremaining: 202ms\n",
      "676:\tlearn: 0.0169182\ttotal: 429ms\tremaining: 205ms\n",
      "677:\tlearn: 0.0168767\ttotal: 430ms\tremaining: 204ms\n",
      "678:\tlearn: 0.0168420\ttotal: 430ms\tremaining: 203ms\n",
      "679:\tlearn: 0.0167654\ttotal: 430ms\tremaining: 203ms\n",
      "680:\tlearn: 0.0167103\ttotal: 431ms\tremaining: 202ms\n",
      "681:\tlearn: 0.0166596\ttotal: 431ms\tremaining: 201ms\n",
      "682:\tlearn: 0.0165845\ttotal: 432ms\tremaining: 200ms\n",
      "683:\tlearn: 0.0165306\ttotal: 432ms\tremaining: 200ms\n",
      "684:\tlearn: 0.0164569\ttotal: 433ms\tremaining: 199ms\n",
      "685:\tlearn: 0.0164075\ttotal: 433ms\tremaining: 198ms\n",
      "686:\tlearn: 0.0163278\ttotal: 434ms\tremaining: 198ms\n",
      "687:\tlearn: 0.0162517\ttotal: 434ms\tremaining: 197ms\n",
      "688:\tlearn: 0.0161777\ttotal: 435ms\tremaining: 196ms\n",
      "689:\tlearn: 0.0161179\ttotal: 435ms\tremaining: 196ms\n",
      "690:\tlearn: 0.0160454\ttotal: 436ms\tremaining: 195ms\n",
      "691:\tlearn: 0.0159779\ttotal: 436ms\tremaining: 194ms\n",
      "692:\tlearn: 0.0158818\ttotal: 436ms\tremaining: 193ms\n",
      "693:\tlearn: 0.0158346\ttotal: 437ms\tremaining: 193ms\n",
      "694:\tlearn: 0.0157628\ttotal: 438ms\tremaining: 192ms\n",
      "695:\tlearn: 0.0157168\ttotal: 438ms\tremaining: 191ms\n",
      "696:\tlearn: 0.0156467\ttotal: 438ms\tremaining: 191ms\n",
      "697:\tlearn: 0.0155532\ttotal: 439ms\tremaining: 190ms\n",
      "698:\tlearn: 0.0154590\ttotal: 439ms\tremaining: 189ms\n",
      "699:\tlearn: 0.0154143\ttotal: 440ms\tremaining: 188ms\n",
      "700:\tlearn: 0.0153792\ttotal: 440ms\tremaining: 188ms\n",
      "701:\tlearn: 0.0153128\ttotal: 441ms\tremaining: 187ms\n",
      "702:\tlearn: 0.0152211\ttotal: 441ms\tremaining: 186ms\n",
      "703:\tlearn: 0.0151769\ttotal: 442ms\tremaining: 186ms\n",
      "704:\tlearn: 0.0151423\ttotal: 442ms\tremaining: 185ms\n",
      "705:\tlearn: 0.0150989\ttotal: 442ms\tremaining: 184ms\n",
      "706:\tlearn: 0.0150096\ttotal: 443ms\tremaining: 184ms\n",
      "707:\tlearn: 0.0149675\ttotal: 443ms\tremaining: 183ms\n",
      "708:\tlearn: 0.0148926\ttotal: 444ms\tremaining: 182ms\n",
      "709:\tlearn: 0.0148507\ttotal: 444ms\tremaining: 181ms\n",
      "710:\tlearn: 0.0148174\ttotal: 445ms\tremaining: 181ms\n",
      "711:\tlearn: 0.0147502\ttotal: 445ms\tremaining: 180ms\n",
      "712:\tlearn: 0.0146894\ttotal: 446ms\tremaining: 179ms\n",
      "713:\tlearn: 0.0146093\ttotal: 446ms\tremaining: 179ms\n",
      "714:\tlearn: 0.0145767\ttotal: 447ms\tremaining: 178ms\n",
      "715:\tlearn: 0.0145113\ttotal: 447ms\tremaining: 177ms\n",
      "716:\tlearn: 0.0144333\ttotal: 448ms\tremaining: 177ms\n",
      "717:\tlearn: 0.0143664\ttotal: 448ms\tremaining: 176ms\n",
      "718:\tlearn: 0.0143273\ttotal: 448ms\tremaining: 175ms\n",
      "719:\tlearn: 0.0142642\ttotal: 449ms\tremaining: 175ms\n",
      "720:\tlearn: 0.0142186\ttotal: 449ms\tremaining: 174ms\n",
      "721:\tlearn: 0.0141463\ttotal: 450ms\tremaining: 173ms\n",
      "722:\tlearn: 0.0141017\ttotal: 450ms\tremaining: 172ms\n",
      "723:\tlearn: 0.0140308\ttotal: 451ms\tremaining: 172ms\n",
      "724:\tlearn: 0.0139871\ttotal: 451ms\tremaining: 171ms\n",
      "725:\tlearn: 0.0139313\ttotal: 452ms\tremaining: 170ms\n",
      "726:\tlearn: 0.0138684\ttotal: 452ms\tremaining: 170ms\n",
      "727:\tlearn: 0.0137960\ttotal: 453ms\tremaining: 169ms\n",
      "728:\tlearn: 0.0137415\ttotal: 453ms\tremaining: 168ms\n",
      "729:\tlearn: 0.0136715\ttotal: 453ms\tremaining: 168ms\n",
      "730:\tlearn: 0.0136355\ttotal: 454ms\tremaining: 167ms\n",
      "731:\tlearn: 0.0135876\ttotal: 454ms\tremaining: 166ms\n",
      "732:\tlearn: 0.0135457\ttotal: 455ms\tremaining: 166ms\n",
      "733:\tlearn: 0.0134959\ttotal: 455ms\tremaining: 165ms\n",
      "734:\tlearn: 0.0134286\ttotal: 455ms\tremaining: 164ms\n",
      "735:\tlearn: 0.0133822\ttotal: 456ms\tremaining: 163ms\n",
      "736:\tlearn: 0.0133336\ttotal: 456ms\tremaining: 163ms\n",
      "737:\tlearn: 0.0132930\ttotal: 457ms\tremaining: 162ms\n",
      "738:\tlearn: 0.0132454\ttotal: 457ms\tremaining: 161ms\n",
      "739:\tlearn: 0.0132120\ttotal: 457ms\tremaining: 161ms\n",
      "740:\tlearn: 0.0131617\ttotal: 458ms\tremaining: 160ms\n",
      "741:\tlearn: 0.0131222\ttotal: 459ms\tremaining: 160ms\n",
      "742:\tlearn: 0.0130495\ttotal: 459ms\tremaining: 159ms\n",
      "743:\tlearn: 0.0130134\ttotal: 460ms\tremaining: 158ms\n",
      "744:\tlearn: 0.0129693\ttotal: 460ms\tremaining: 157ms\n",
      "745:\tlearn: 0.0129379\ttotal: 461ms\tremaining: 157ms\n",
      "746:\tlearn: 0.0128765\ttotal: 461ms\tremaining: 156ms\n",
      "747:\tlearn: 0.0128308\ttotal: 462ms\tremaining: 155ms\n",
      "748:\tlearn: 0.0127858\ttotal: 462ms\tremaining: 155ms\n",
      "749:\tlearn: 0.0127482\ttotal: 462ms\tremaining: 154ms\n",
      "750:\tlearn: 0.0126914\ttotal: 463ms\tremaining: 153ms\n",
      "751:\tlearn: 0.0126564\ttotal: 463ms\tremaining: 153ms\n",
      "752:\tlearn: 0.0126008\ttotal: 464ms\tremaining: 152ms\n",
      "753:\tlearn: 0.0125462\ttotal: 464ms\tremaining: 151ms\n",
      "754:\tlearn: 0.0124928\ttotal: 465ms\tremaining: 151ms\n",
      "755:\tlearn: 0.0124320\ttotal: 465ms\tremaining: 150ms\n",
      "756:\tlearn: 0.0123724\ttotal: 465ms\tremaining: 149ms\n",
      "757:\tlearn: 0.0123247\ttotal: 466ms\tremaining: 149ms\n",
      "758:\tlearn: 0.0122809\ttotal: 467ms\tremaining: 148ms\n",
      "759:\tlearn: 0.0122473\ttotal: 467ms\tremaining: 148ms\n",
      "760:\tlearn: 0.0121996\ttotal: 468ms\tremaining: 147ms\n",
      "761:\tlearn: 0.0121540\ttotal: 468ms\tremaining: 146ms\n",
      "762:\tlearn: 0.0120974\ttotal: 469ms\tremaining: 146ms\n"
     ]
    },
    {
     "name": "stdout",
     "output_type": "stream",
     "text": [
      "763:\tlearn: 0.0120585\ttotal: 470ms\tremaining: 145ms\n",
      "764:\tlearn: 0.0120169\ttotal: 470ms\tremaining: 144ms\n",
      "765:\tlearn: 0.0119745\ttotal: 471ms\tremaining: 144ms\n",
      "766:\tlearn: 0.0119288\ttotal: 471ms\tremaining: 143ms\n",
      "767:\tlearn: 0.0118778\ttotal: 472ms\tremaining: 143ms\n",
      "768:\tlearn: 0.0118459\ttotal: 472ms\tremaining: 142ms\n",
      "769:\tlearn: 0.0118087\ttotal: 473ms\tremaining: 141ms\n",
      "770:\tlearn: 0.0117592\ttotal: 473ms\tremaining: 141ms\n",
      "771:\tlearn: 0.0117280\ttotal: 473ms\tremaining: 140ms\n",
      "772:\tlearn: 0.0116973\ttotal: 474ms\tremaining: 139ms\n",
      "773:\tlearn: 0.0116609\ttotal: 475ms\tremaining: 139ms\n",
      "774:\tlearn: 0.0116130\ttotal: 475ms\tremaining: 138ms\n",
      "775:\tlearn: 0.0115829\ttotal: 475ms\tremaining: 137ms\n",
      "776:\tlearn: 0.0115533\ttotal: 476ms\tremaining: 137ms\n",
      "777:\tlearn: 0.0115051\ttotal: 476ms\tremaining: 136ms\n",
      "778:\tlearn: 0.0114703\ttotal: 477ms\tremaining: 135ms\n",
      "779:\tlearn: 0.0114412\ttotal: 477ms\tremaining: 135ms\n",
      "780:\tlearn: 0.0114052\ttotal: 478ms\tremaining: 134ms\n",
      "781:\tlearn: 0.0113599\ttotal: 478ms\tremaining: 133ms\n",
      "782:\tlearn: 0.0113164\ttotal: 479ms\tremaining: 133ms\n",
      "783:\tlearn: 0.0112824\ttotal: 479ms\tremaining: 132ms\n",
      "784:\tlearn: 0.0112483\ttotal: 479ms\tremaining: 131ms\n",
      "785:\tlearn: 0.0112145\ttotal: 480ms\tremaining: 131ms\n",
      "786:\tlearn: 0.0111808\ttotal: 480ms\tremaining: 130ms\n",
      "787:\tlearn: 0.0111286\ttotal: 481ms\tremaining: 129ms\n",
      "788:\tlearn: 0.0110955\ttotal: 481ms\tremaining: 129ms\n",
      "789:\tlearn: 0.0110420\ttotal: 482ms\tremaining: 128ms\n",
      "790:\tlearn: 0.0109989\ttotal: 482ms\tremaining: 127ms\n",
      "791:\tlearn: 0.0109380\ttotal: 483ms\tremaining: 127ms\n",
      "792:\tlearn: 0.0109103\ttotal: 483ms\tremaining: 126ms\n",
      "793:\tlearn: 0.0108766\ttotal: 484ms\tremaining: 125ms\n",
      "794:\tlearn: 0.0108495\ttotal: 484ms\tremaining: 125ms\n",
      "795:\tlearn: 0.0108164\ttotal: 484ms\tremaining: 124ms\n",
      "796:\tlearn: 0.0107740\ttotal: 485ms\tremaining: 123ms\n",
      "797:\tlearn: 0.0107476\ttotal: 485ms\tremaining: 123ms\n",
      "798:\tlearn: 0.0107153\ttotal: 486ms\tremaining: 122ms\n",
      "799:\tlearn: 0.0106896\ttotal: 486ms\tremaining: 121ms\n",
      "800:\tlearn: 0.0106379\ttotal: 486ms\tremaining: 121ms\n",
      "801:\tlearn: 0.0105969\ttotal: 487ms\tremaining: 120ms\n",
      "802:\tlearn: 0.0105579\ttotal: 487ms\tremaining: 120ms\n",
      "803:\tlearn: 0.0105264\ttotal: 488ms\tremaining: 119ms\n",
      "804:\tlearn: 0.0104953\ttotal: 488ms\tremaining: 118ms\n",
      "805:\tlearn: 0.0104575\ttotal: 488ms\tremaining: 118ms\n",
      "806:\tlearn: 0.0104088\ttotal: 489ms\tremaining: 117ms\n",
      "807:\tlearn: 0.0103719\ttotal: 490ms\tremaining: 116ms\n",
      "808:\tlearn: 0.0103224\ttotal: 491ms\tremaining: 116ms\n",
      "809:\tlearn: 0.0102926\ttotal: 491ms\tremaining: 115ms\n",
      "810:\tlearn: 0.0102633\ttotal: 492ms\tremaining: 115ms\n",
      "811:\tlearn: 0.0102276\ttotal: 493ms\tremaining: 114ms\n",
      "812:\tlearn: 0.0101991\ttotal: 493ms\tremaining: 113ms\n",
      "813:\tlearn: 0.0101645\ttotal: 494ms\tremaining: 113ms\n",
      "814:\tlearn: 0.0101323\ttotal: 494ms\tremaining: 112ms\n",
      "815:\tlearn: 0.0101030\ttotal: 494ms\tremaining: 112ms\n",
      "816:\tlearn: 0.0100661\ttotal: 495ms\tremaining: 111ms\n",
      "817:\tlearn: 0.0100354\ttotal: 496ms\tremaining: 110ms\n",
      "818:\tlearn: 0.0100069\ttotal: 496ms\tremaining: 110ms\n",
      "819:\tlearn: 0.0099771\ttotal: 496ms\tremaining: 109ms\n",
      "820:\tlearn: 0.0099411\ttotal: 497ms\tremaining: 108ms\n",
      "821:\tlearn: 0.0099112\ttotal: 497ms\tremaining: 108ms\n",
      "822:\tlearn: 0.0098836\ttotal: 498ms\tremaining: 107ms\n",
      "823:\tlearn: 0.0098543\ttotal: 498ms\tremaining: 106ms\n",
      "824:\tlearn: 0.0098280\ttotal: 499ms\tremaining: 106ms\n",
      "825:\tlearn: 0.0097927\ttotal: 500ms\tremaining: 105ms\n",
      "826:\tlearn: 0.0097385\ttotal: 500ms\tremaining: 105ms\n",
      "827:\tlearn: 0.0097097\ttotal: 501ms\tremaining: 104ms\n",
      "828:\tlearn: 0.0096734\ttotal: 501ms\tremaining: 103ms\n",
      "829:\tlearn: 0.0096426\ttotal: 502ms\tremaining: 103ms\n",
      "830:\tlearn: 0.0096142\ttotal: 502ms\tremaining: 102ms\n",
      "831:\tlearn: 0.0095827\ttotal: 503ms\tremaining: 102ms\n",
      "832:\tlearn: 0.0095526\ttotal: 503ms\tremaining: 101ms\n",
      "833:\tlearn: 0.0095224\ttotal: 504ms\tremaining: 100ms\n",
      "834:\tlearn: 0.0094947\ttotal: 504ms\tremaining: 99.7ms\n",
      "835:\tlearn: 0.0094547\ttotal: 505ms\tremaining: 99ms\n",
      "836:\tlearn: 0.0094158\ttotal: 505ms\tremaining: 98.4ms\n",
      "837:\tlearn: 0.0093824\ttotal: 505ms\tremaining: 97.7ms\n",
      "838:\tlearn: 0.0093577\ttotal: 506ms\tremaining: 97.1ms\n",
      "839:\tlearn: 0.0093334\ttotal: 506ms\tremaining: 96.5ms\n",
      "840:\tlearn: 0.0093065\ttotal: 507ms\tremaining: 95.9ms\n",
      "841:\tlearn: 0.0092610\ttotal: 508ms\tremaining: 95.2ms\n",
      "842:\tlearn: 0.0092150\ttotal: 508ms\tremaining: 94.6ms\n",
      "843:\tlearn: 0.0091884\ttotal: 508ms\tremaining: 94ms\n",
      "844:\tlearn: 0.0091563\ttotal: 509ms\tremaining: 93.3ms\n",
      "845:\tlearn: 0.0091298\ttotal: 509ms\tremaining: 92.7ms\n",
      "846:\tlearn: 0.0090856\ttotal: 510ms\tremaining: 92.1ms\n",
      "847:\tlearn: 0.0090597\ttotal: 510ms\tremaining: 91.5ms\n",
      "848:\tlearn: 0.0090251\ttotal: 511ms\tremaining: 90.8ms\n",
      "849:\tlearn: 0.0089920\ttotal: 511ms\tremaining: 90.2ms\n",
      "850:\tlearn: 0.0089687\ttotal: 512ms\tremaining: 89.6ms\n",
      "851:\tlearn: 0.0089430\ttotal: 512ms\tremaining: 89ms\n",
      "852:\tlearn: 0.0089004\ttotal: 513ms\tremaining: 88.4ms\n",
      "853:\tlearn: 0.0088682\ttotal: 513ms\tremaining: 87.8ms\n",
      "854:\tlearn: 0.0088431\ttotal: 514ms\tremaining: 87.2ms\n",
      "855:\tlearn: 0.0088071\ttotal: 515ms\tremaining: 86.6ms\n",
      "856:\tlearn: 0.0087672\ttotal: 515ms\tremaining: 86ms\n",
      "857:\tlearn: 0.0087411\ttotal: 516ms\tremaining: 85.4ms\n",
      "858:\tlearn: 0.0086956\ttotal: 516ms\tremaining: 84.7ms\n",
      "859:\tlearn: 0.0086639\ttotal: 517ms\tremaining: 84.1ms\n",
      "860:\tlearn: 0.0086357\ttotal: 517ms\tremaining: 83.5ms\n",
      "861:\tlearn: 0.0085934\ttotal: 518ms\tremaining: 82.9ms\n",
      "862:\tlearn: 0.0085589\ttotal: 518ms\tremaining: 82.2ms\n",
      "863:\tlearn: 0.0085345\ttotal: 518ms\tremaining: 81.6ms\n",
      "864:\tlearn: 0.0085104\ttotal: 519ms\tremaining: 81ms\n",
      "865:\tlearn: 0.0084871\ttotal: 519ms\tremaining: 80.4ms\n",
      "866:\tlearn: 0.0084498\ttotal: 520ms\tremaining: 79.7ms\n",
      "867:\tlearn: 0.0084269\ttotal: 520ms\tremaining: 79.2ms\n",
      "868:\tlearn: 0.0083968\ttotal: 521ms\tremaining: 78.5ms\n",
      "869:\tlearn: 0.0083677\ttotal: 522ms\tremaining: 77.9ms\n",
      "870:\tlearn: 0.0083438\ttotal: 522ms\tremaining: 77.3ms\n",
      "871:\tlearn: 0.0083261\ttotal: 522ms\tremaining: 76.7ms\n",
      "872:\tlearn: 0.0082988\ttotal: 523ms\tremaining: 76.1ms\n",
      "873:\tlearn: 0.0082519\ttotal: 523ms\tremaining: 75.5ms\n",
      "874:\tlearn: 0.0082345\ttotal: 524ms\tremaining: 74.9ms\n",
      "875:\tlearn: 0.0082174\ttotal: 524ms\tremaining: 74.2ms\n",
      "876:\tlearn: 0.0081891\ttotal: 525ms\tremaining: 73.6ms\n",
      "877:\tlearn: 0.0081614\ttotal: 526ms\tremaining: 73ms\n",
      "878:\tlearn: 0.0081448\ttotal: 526ms\tremaining: 72.4ms\n",
      "879:\tlearn: 0.0081174\ttotal: 527ms\tremaining: 71.8ms\n",
      "880:\tlearn: 0.0081011\ttotal: 527ms\tremaining: 71.2ms\n",
      "881:\tlearn: 0.0080733\ttotal: 527ms\tremaining: 70.6ms\n",
      "882:\tlearn: 0.0080469\ttotal: 528ms\tremaining: 70ms\n",
      "883:\tlearn: 0.0080020\ttotal: 528ms\tremaining: 69.3ms\n",
      "884:\tlearn: 0.0079758\ttotal: 529ms\tremaining: 68.7ms\n",
      "885:\tlearn: 0.0079371\ttotal: 529ms\tremaining: 68.1ms\n",
      "886:\tlearn: 0.0079100\ttotal: 530ms\tremaining: 67.5ms\n",
      "887:\tlearn: 0.0078835\ttotal: 530ms\tremaining: 66.9ms\n",
      "888:\tlearn: 0.0078578\ttotal: 531ms\tremaining: 66.3ms\n",
      "889:\tlearn: 0.0078201\ttotal: 531ms\tremaining: 65.6ms\n",
      "890:\tlearn: 0.0077941\ttotal: 532ms\tremaining: 65ms\n",
      "891:\tlearn: 0.0077570\ttotal: 532ms\tremaining: 64.4ms\n",
      "892:\tlearn: 0.0077379\ttotal: 533ms\tremaining: 63.8ms\n",
      "893:\tlearn: 0.0077128\ttotal: 533ms\tremaining: 63.2ms\n",
      "894:\tlearn: 0.0076785\ttotal: 533ms\tremaining: 62.6ms\n",
      "895:\tlearn: 0.0076535\ttotal: 534ms\tremaining: 62ms\n",
      "896:\tlearn: 0.0076199\ttotal: 534ms\tremaining: 61.4ms\n",
      "897:\tlearn: 0.0075810\ttotal: 535ms\tremaining: 60.8ms\n",
      "898:\tlearn: 0.0075428\ttotal: 535ms\tremaining: 60.2ms\n",
      "899:\tlearn: 0.0074967\ttotal: 536ms\tremaining: 59.6ms\n",
      "900:\tlearn: 0.0074730\ttotal: 537ms\tremaining: 59ms\n",
      "901:\tlearn: 0.0074498\ttotal: 537ms\tremaining: 58.4ms\n",
      "902:\tlearn: 0.0074218\ttotal: 538ms\tremaining: 57.8ms\n",
      "903:\tlearn: 0.0073943\ttotal: 538ms\tremaining: 57.2ms\n",
      "904:\tlearn: 0.0073767\ttotal: 539ms\tremaining: 56.6ms\n",
      "905:\tlearn: 0.0073510\ttotal: 539ms\tremaining: 56ms\n",
      "906:\tlearn: 0.0073272\ttotal: 540ms\tremaining: 55.4ms\n",
      "907:\tlearn: 0.0073082\ttotal: 541ms\tremaining: 54.8ms\n",
      "908:\tlearn: 0.0072861\ttotal: 541ms\tremaining: 54.2ms\n",
      "909:\tlearn: 0.0072698\ttotal: 541ms\tremaining: 53.5ms\n",
      "910:\tlearn: 0.0072435\ttotal: 542ms\tremaining: 53ms\n",
      "911:\tlearn: 0.0072087\ttotal: 542ms\tremaining: 52.3ms\n",
      "912:\tlearn: 0.0071922\ttotal: 543ms\tremaining: 51.7ms\n",
      "913:\tlearn: 0.0071639\ttotal: 543ms\tremaining: 51.1ms\n",
      "914:\tlearn: 0.0071394\ttotal: 544ms\tremaining: 50.5ms\n",
      "915:\tlearn: 0.0071157\ttotal: 544ms\tremaining: 49.9ms\n",
      "916:\tlearn: 0.0070901\ttotal: 545ms\tremaining: 49.3ms\n",
      "917:\tlearn: 0.0070594\ttotal: 545ms\tremaining: 48.7ms\n",
      "918:\tlearn: 0.0070357\ttotal: 546ms\tremaining: 48.1ms\n",
      "919:\tlearn: 0.0070047\ttotal: 546ms\tremaining: 47.5ms\n",
      "920:\tlearn: 0.0069838\ttotal: 546ms\tremaining: 46.9ms\n",
      "921:\tlearn: 0.0069710\ttotal: 547ms\tremaining: 46.3ms\n",
      "922:\tlearn: 0.0069456\ttotal: 547ms\tremaining: 45.6ms\n",
      "923:\tlearn: 0.0069154\ttotal: 548ms\tremaining: 45ms\n",
      "924:\tlearn: 0.0068863\ttotal: 548ms\tremaining: 44.4ms\n",
      "925:\tlearn: 0.0068616\ttotal: 548ms\tremaining: 43.8ms\n",
      "926:\tlearn: 0.0068250\ttotal: 549ms\tremaining: 43.2ms\n",
      "927:\tlearn: 0.0068051\ttotal: 549ms\tremaining: 42.6ms\n",
      "928:\tlearn: 0.0067689\ttotal: 549ms\tremaining: 42ms\n",
      "929:\tlearn: 0.0067423\ttotal: 550ms\tremaining: 41.4ms\n",
      "930:\tlearn: 0.0067293\ttotal: 550ms\tremaining: 40.8ms\n",
      "931:\tlearn: 0.0067032\ttotal: 551ms\tremaining: 40.2ms\n",
      "932:\tlearn: 0.0066905\ttotal: 551ms\tremaining: 39.6ms\n",
      "933:\tlearn: 0.0066589\ttotal: 552ms\tremaining: 39ms\n",
      "934:\tlearn: 0.0066304\ttotal: 552ms\tremaining: 38.4ms\n",
      "935:\tlearn: 0.0066119\ttotal: 553ms\tremaining: 37.8ms\n",
      "936:\tlearn: 0.0065839\ttotal: 553ms\tremaining: 37.2ms\n",
      "937:\tlearn: 0.0065562\ttotal: 554ms\tremaining: 36.6ms\n",
      "938:\tlearn: 0.0065442\ttotal: 554ms\tremaining: 36ms\n",
      "939:\tlearn: 0.0065172\ttotal: 555ms\tremaining: 35.4ms\n",
      "940:\tlearn: 0.0064959\ttotal: 555ms\tremaining: 34.8ms\n",
      "941:\tlearn: 0.0064750\ttotal: 556ms\tremaining: 34.2ms\n"
     ]
    },
    {
     "name": "stdout",
     "output_type": "stream",
     "text": [
      "942:\tlearn: 0.0064488\ttotal: 557ms\tremaining: 33.7ms\n",
      "943:\tlearn: 0.0064375\ttotal: 557ms\tremaining: 33.1ms\n",
      "944:\tlearn: 0.0064096\ttotal: 558ms\tremaining: 32.5ms\n",
      "945:\tlearn: 0.0063841\ttotal: 558ms\tremaining: 31.9ms\n",
      "946:\tlearn: 0.0063569\ttotal: 559ms\tremaining: 31.3ms\n",
      "947:\tlearn: 0.0063362\ttotal: 559ms\tremaining: 30.7ms\n",
      "948:\tlearn: 0.0063246\ttotal: 560ms\tremaining: 30.1ms\n",
      "949:\tlearn: 0.0063075\ttotal: 560ms\tremaining: 29.5ms\n",
      "950:\tlearn: 0.0062833\ttotal: 561ms\tremaining: 28.9ms\n",
      "951:\tlearn: 0.0062720\ttotal: 561ms\tremaining: 28.3ms\n",
      "952:\tlearn: 0.0062397\ttotal: 562ms\tremaining: 27.7ms\n",
      "953:\tlearn: 0.0062152\ttotal: 562ms\tremaining: 27.1ms\n",
      "954:\tlearn: 0.0061892\ttotal: 563ms\tremaining: 26.5ms\n",
      "955:\tlearn: 0.0061579\ttotal: 563ms\tremaining: 25.9ms\n",
      "956:\tlearn: 0.0061324\ttotal: 564ms\tremaining: 25.3ms\n",
      "957:\tlearn: 0.0061212\ttotal: 564ms\tremaining: 24.7ms\n",
      "958:\tlearn: 0.0061040\ttotal: 565ms\tremaining: 24.1ms\n",
      "959:\tlearn: 0.0060785\ttotal: 565ms\tremaining: 23.6ms\n",
      "960:\tlearn: 0.0060676\ttotal: 566ms\tremaining: 23ms\n",
      "961:\tlearn: 0.0060560\ttotal: 566ms\tremaining: 22.4ms\n",
      "962:\tlearn: 0.0060451\ttotal: 567ms\tremaining: 21.8ms\n",
      "963:\tlearn: 0.0060218\ttotal: 567ms\tremaining: 21.2ms\n",
      "964:\tlearn: 0.0060026\ttotal: 568ms\tremaining: 20.6ms\n",
      "965:\tlearn: 0.0059833\ttotal: 568ms\tremaining: 20ms\n",
      "966:\tlearn: 0.0059501\ttotal: 569ms\tremaining: 19.4ms\n",
      "967:\tlearn: 0.0059393\ttotal: 569ms\tremaining: 18.8ms\n",
      "968:\tlearn: 0.0059097\ttotal: 570ms\tremaining: 18.2ms\n",
      "969:\tlearn: 0.0058997\ttotal: 570ms\tremaining: 17.6ms\n",
      "970:\tlearn: 0.0058773\ttotal: 571ms\tremaining: 17ms\n",
      "971:\tlearn: 0.0058674\ttotal: 571ms\tremaining: 16.4ms\n",
      "972:\tlearn: 0.0058455\ttotal: 571ms\tremaining: 15.9ms\n",
      "973:\tlearn: 0.0058358\ttotal: 572ms\tremaining: 15.3ms\n",
      "974:\tlearn: 0.0058188\ttotal: 572ms\tremaining: 14.7ms\n",
      "975:\tlearn: 0.0057901\ttotal: 573ms\tremaining: 14.1ms\n",
      "976:\tlearn: 0.0057789\ttotal: 573ms\tremaining: 13.5ms\n",
      "977:\tlearn: 0.0057695\ttotal: 574ms\tremaining: 12.9ms\n",
      "978:\tlearn: 0.0057513\ttotal: 574ms\tremaining: 12.3ms\n",
      "979:\tlearn: 0.0057420\ttotal: 575ms\tremaining: 11.7ms\n",
      "980:\tlearn: 0.0057141\ttotal: 575ms\tremaining: 11.1ms\n",
      "981:\tlearn: 0.0056987\ttotal: 576ms\tremaining: 10.6ms\n",
      "982:\tlearn: 0.0056895\ttotal: 576ms\tremaining: 9.96ms\n",
      "983:\tlearn: 0.0056805\ttotal: 576ms\tremaining: 9.37ms\n",
      "984:\tlearn: 0.0056700\ttotal: 577ms\tremaining: 8.78ms\n",
      "985:\tlearn: 0.0056574\ttotal: 577ms\tremaining: 8.2ms\n",
      "986:\tlearn: 0.0056336\ttotal: 578ms\tremaining: 7.61ms\n",
      "987:\tlearn: 0.0056065\ttotal: 578ms\tremaining: 7.02ms\n",
      "988:\tlearn: 0.0055835\ttotal: 578ms\tremaining: 6.43ms\n",
      "989:\tlearn: 0.0055629\ttotal: 579ms\tremaining: 5.84ms\n",
      "990:\tlearn: 0.0055537\ttotal: 579ms\tremaining: 5.26ms\n",
      "991:\tlearn: 0.0055384\ttotal: 579ms\tremaining: 4.67ms\n",
      "992:\tlearn: 0.0055298\ttotal: 580ms\tremaining: 4.09ms\n",
      "993:\tlearn: 0.0055141\ttotal: 580ms\tremaining: 3.5ms\n",
      "994:\tlearn: 0.0054867\ttotal: 581ms\tremaining: 2.92ms\n",
      "995:\tlearn: 0.0054782\ttotal: 581ms\tremaining: 2.33ms\n",
      "996:\tlearn: 0.0054522\ttotal: 582ms\tremaining: 1.75ms\n",
      "997:\tlearn: 0.0054323\ttotal: 582ms\tremaining: 1.17ms\n",
      "998:\tlearn: 0.0054176\ttotal: 583ms\tremaining: 583us\n",
      "999:\tlearn: 0.0054100\ttotal: 583ms\tremaining: 0us\n"
     ]
    },
    {
     "data": {
      "text/plain": [
       "<catboost.core.CatBoostRegressor at 0x7fda0140feb0>"
      ]
     },
     "execution_count": 9,
     "metadata": {},
     "output_type": "execute_result"
    }
   ],
   "source": [
    "#Train the Model \n",
    "prior_model = ctb.CatBoostRegressor()\n",
    "prior_model.fit(X_train,Y_train)"
   ]
  },
  {
   "cell_type": "code",
   "execution_count": 10,
   "id": "af65dcda",
   "metadata": {
    "execution": {
     "iopub.execute_input": "2022-06-07T06:21:36.972400Z",
     "iopub.status.busy": "2022-06-07T06:21:36.972025Z",
     "iopub.status.idle": "2022-06-07T06:21:36.979496Z",
     "shell.execute_reply": "2022-06-07T06:21:36.979738Z"
    },
    "id": "af65dcda",
    "papermill": {
     "duration": 0.020512,
     "end_time": "2022-06-07T06:21:36.979857",
     "exception": false,
     "start_time": "2022-06-07T06:21:36.959345",
     "status": "completed"
    },
    "tags": []
   },
   "outputs": [
    {
     "data": {
      "application/scrapbook.scrap.json+json": {
       "data": 0.13235470261326301,
       "encoder": "json",
       "name": "Prior Model MSE",
       "version": 1
      }
     },
     "metadata": {
      "scrapbook": {
       "data": true,
       "display": false,
       "name": "Prior Model MSE"
      }
     },
     "output_type": "display_data"
    },
    {
     "data": {
      "application/scrapbook.scrap.json+json": {
       "data": 0.13870682013060476,
       "encoder": "json",
       "name": "ABC Pre-generator MSE",
       "version": 1
      }
     },
     "metadata": {
      "scrapbook": {
       "data": true,
       "display": false,
       "name": "ABC Pre-generator MSE"
      }
     },
     "output_type": "display_data"
    },
    {
     "data": {
      "application/scrapbook.scrap.json+json": {
       "data": 0.285426984808929,
       "encoder": "json",
       "name": "Prior Model MSE",
       "version": 1
      }
     },
     "metadata": {
      "scrapbook": {
       "data": true,
       "display": false,
       "name": "Prior Model MSE"
      }
     },
     "output_type": "display_data"
    },
    {
     "data": {
      "application/scrapbook.scrap.json+json": {
       "data": 0.29436442491166737,
       "encoder": "json",
       "name": "ABC Pre-generator MSE",
       "version": 1
      }
     },
     "metadata": {
      "scrapbook": {
       "data": true,
       "display": false,
       "name": "ABC Pre-generator MSE"
      }
     },
     "output_type": "display_data"
    }
   ],
   "source": [
    "y_pred = prior_model.predict(X_test)\n",
    "y_abc = y_pred + np.random.normal(0,variance, y_pred.shape) + bias \n",
    "mse = mean_squared_error(y_pred,Y_test)\n",
    "sb.glue(\"Prior Model MSE\",mse)\n",
    "mse = mean_squared_error(y_abc,Y_test)\n",
    "sb.glue(\"ABC Pre-generator MSE\",mse)\n",
    "mae = mean_absolute_error(y_pred,Y_test)\n",
    "sb.glue(\"Prior Model MSE\",mae)\n",
    "mae = mean_absolute_error(y_abc,Y_test)\n",
    "sb.glue(\"ABC Pre-generator MSE\",mae)"
   ]
  },
  {
   "cell_type": "markdown",
   "id": "25609da2",
   "metadata": {
    "papermill": {
     "duration": 0.009981,
     "end_time": "2022-06-07T06:21:36.999796",
     "exception": false,
     "start_time": "2022-06-07T06:21:36.989815",
     "status": "completed"
    },
    "tags": []
   },
   "source": [
    "# ABC GAN Model"
   ]
  },
  {
   "cell_type": "code",
   "execution_count": 11,
   "id": "dfc3464d",
   "metadata": {
    "execution": {
     "iopub.execute_input": "2022-06-07T06:21:37.022897Z",
     "iopub.status.busy": "2022-06-07T06:21:37.022514Z",
     "iopub.status.idle": "2022-06-07T06:21:37.024978Z",
     "shell.execute_reply": "2022-06-07T06:21:37.025215Z"
    },
    "papermill": {
     "duration": 0.015521,
     "end_time": "2022-06-07T06:21:37.025324",
     "exception": false,
     "start_time": "2022-06-07T06:21:37.009803",
     "status": "completed"
    },
    "tags": []
   },
   "outputs": [],
   "source": [
    "gen = network.Generator(n_features+1).to(device)\n",
    "disc = network.Discriminator(n_features+1).to(device)\n",
    "\n",
    "criterion = torch.nn.BCELoss()\n",
    "gen_opt = torch.optim.Adam(gen.parameters(), lr=0.001, betas=(0.5, 0.999))\n",
    "disc_opt = torch.optim.Adam(disc.parameters(), lr=0.001, betas=(0.5, 0.999))"
   ]
  },
  {
   "cell_type": "code",
   "execution_count": 12,
   "id": "b75fdd85",
   "metadata": {
    "execution": {
     "iopub.execute_input": "2022-06-07T06:21:37.047322Z",
     "iopub.status.busy": "2022-06-07T06:21:37.046934Z",
     "iopub.status.idle": "2022-06-07T06:21:52.740246Z",
     "shell.execute_reply": "2022-06-07T06:21:52.740550Z"
    },
    "papermill": {
     "duration": 15.705749,
     "end_time": "2022-06-07T06:21:52.740671",
     "exception": false,
     "start_time": "2022-06-07T06:21:37.034922",
     "status": "completed"
    },
    "tags": []
   },
   "outputs": [
    {
     "data": {
      "image/png": "[encoded data removed]",
      "text/plain": [
       "<Figure size 432x288 with 1 Axes>"
      ]
     },
     "metadata": {
      "needs_background": "light"
     },
     "output_type": "display_data"
    },
    {
     "data": {
      "image/png": "[encoded data removed]",
      "text/plain": [
       "<Figure size 432x288 with 1 Axes>"
      ]
     },
     "metadata": {
      "needs_background": "light"
     },
     "output_type": "display_data"
    }
   ],
   "source": [
    "#Training the ABC_GAN \n",
    "ABC_train_test2.training_GAN(disc,gen,disc_opt,gen_opt,train_data,batch_size,n_epochs,criterion,prior_model,variance,bias,device)"
   ]
  },
  {
   "cell_type": "code",
   "execution_count": 13,
   "id": "1fa7c368",
   "metadata": {
    "execution": {
     "iopub.execute_input": "2022-06-07T06:21:52.765192Z",
     "iopub.status.busy": "2022-06-07T06:21:52.764705Z",
     "iopub.status.idle": "2022-06-07T06:21:52.961514Z",
     "shell.execute_reply": "2022-06-07T06:21:52.961916Z"
    },
    "papermill": {
     "duration": 0.210124,
     "end_time": "2022-06-07T06:21:52.962045",
     "exception": false,
     "start_time": "2022-06-07T06:21:52.751921",
     "status": "completed"
    },
    "tags": []
   },
   "outputs": [
    {
     "data": {
      "application/scrapbook.scrap.json+json": {
       "data": 0.1251411656524477,
       "encoder": "json",
       "name": "ABC-GAN Model 1 MSE",
       "version": 1
      }
     },
     "metadata": {
      "scrapbook": {
       "data": true,
       "display": false,
       "name": "ABC-GAN Model 1 MSE"
      }
     },
     "output_type": "display_data"
    },
    {
     "data": {
      "application/scrapbook.scrap.json+json": {
       "data": 0.2534574395120144,
       "encoder": "json",
       "name": "ABC-GAN Model 1 MAE",
       "version": 1
      }
     },
     "metadata": {
      "scrapbook": {
       "data": true,
       "display": false,
       "name": "ABC-GAN Model 1 MAE"
      }
     },
     "output_type": "display_data"
    },
    {
     "data": {
      "application/scrapbook.scrap.json+json": {
       "data": 5.069148790240288,
       "encoder": "json",
       "name": "ABC-GAN Model 1 Manhattan Distance",
       "version": 1
      }
     },
     "metadata": {
      "scrapbook": {
       "data": true,
       "display": false,
       "name": "ABC-GAN Model 1 Manhattan Distance"
      }
     },
     "output_type": "display_data"
    },
    {
     "data": {
      "application/scrapbook.scrap.json+json": {
       "data": 1.5820005243834878,
       "encoder": "json",
       "name": "ABC-GAN Model 1 Euclidean distance",
       "version": 1
      }
     },
     "metadata": {
      "scrapbook": {
       "data": true,
       "display": false,
       "name": "ABC-GAN Model 1 Euclidean distance"
      }
     },
     "output_type": "display_data"
    },
    {
     "data": {
      "application/scrapbook.scrap.json+json": {
       "data": [
        [
         0.1262439334092882,
         0.12442794623524178,
         0.12744935419238917,
         0.12376768466840549,
         0.12212508975068923,
         0.12278986210656803,
         0.12875208324783335,
         0.12577916965729402,
         0.12358480734533375,
         0.12509101063715203,
         0.1259705818538032,
         0.12471576788264885,
         0.12188265571512628,
         0.12479793709611861,
         0.12683289541686021,
         0.12478090238364889,
         0.12578540537959756,
         0.12237438534835832,
         0.12544957453207392,
         0.12435882444918996,
         0.12499162432887818,
         0.1256623922483028,
         0.12522823627845558,
         0.12274018455955642,
         0.1260039817570672,
         0.12372335682861202,
         0.12243313964465301,
         0.1265351362997882,
         0.12531439055514224,
         0.12447876415857188,
         0.1257587969130851,
         0.12544132769598723,
         0.12307191847542968,
         0.12433794846227024,
         0.12714292443422143,
         0.12554202374123044,
         0.1262822622405327,
         0.12703081386078563,
         0.12375538715392938,
         0.1257005308853804,
         0.12628988517058354,
         0.12516643637460514,
         0.12360519795502607,
         0.1279419255237418,
         0.12740243906349824,
         0.12339453706003174,
         0.1265434187277174,
         0.12674498081660163,
         0.12421709944402153,
         0.12447053076851007,
         0.12424359081681043,
         0.12711576976725608,
         0.12738144441903626,
         0.1285362115624539,
         0.12131963477038683,
         0.12344428926650224,
         0.12440184534669622,
         0.12699753526277563,
         0.12588616779726247,
         0.12380050773543143,
         0.1272194427887257,
         0.12575615309987334,
         0.1252071909241422,
         0.12355048574949148,
         0.12677288628073483,
         0.12324470191947748,
         0.1249716014639242,
         0.12370600422800279,
         0.1261279887464218,
         0.12553135602658333,
         0.12475574434079521,
         0.12556937287665107,
         0.12332213722032312,
         0.12489033394810303,
         0.12487135118591422,
         0.12351100934782133,
         0.12567060087204102,
         0.12703892576466327,
         0.12260857631968362,
         0.1252817766813183,
         0.12471842605117293,
         0.12741511047485177,
         0.12514631581501962,
         0.12577301129214566,
         0.12464091375779769,
         0.12295695812006686,
         0.1254137855816561,
         0.12672061372572335,
         0.1260446974977739,
         0.12436026775296387,
         0.124100032756578,
         0.12603925089512164,
         0.12704805097268537,
         0.12389259300423885,
         0.1272766359593255,
         0.1247412855939118,
         0.1270064919891684,
         0.12715346551606074,
         0.12234869678383217,
         0.12467386244153485
        ],
        [
         0.2539300066418946,
         0.2540254664607346,
         0.25431183697655796,
         0.2528421734459698,
         0.25013808058574794,
         0.25200952487066386,
         0.258001499902457,
         0.25198568077757955,
         0.2516564575023949,
         0.2533731576986611,
         0.25381094636395574,
         0.2524884690530598,
         0.25140004279091954,
         0.2546539266593754,
         0.2513649960048497,
         0.2510247734375298,
         0.25229655774310233,
         0.25093456031754613,
         0.2525154990144074,
         0.2523044210858643,
         0.255287289340049,
         0.2557410200126469,
         0.2546875004656613,
         0.25182580249384046,
         0.25319640459492804,
         0.25164832593873143,
         0.25077910227701067,
         0.25469012977555394,
         0.2544057537801564,
         0.24987705023959278,
         0.25430234568193555,
         0.25263412864878776,
         0.24786071674898266,
         0.25186812998726965,
         0.25810119407251475,
         0.25547641487792133,
         0.2539895218797028,
         0.2555432763881981,
         0.25336312176659703,
         0.25519695254042746,
         0.25599178494885566,
         0.25367903308942913,
         0.2517902101390064,
         0.25828182892873885,
         0.25537831606343386,
         0.2510655206628144,
         0.2550093066878617,
         0.25693522514775397,
         0.2545388598926365,
         0.25390481473878024,
         0.25355052696540953,
         0.25388371096923945,
         0.25535324634984136,
         0.25697785066440704,
         0.250874440651387,
         0.2522739256732166,
         0.25359510304406285,
         0.2527675745077431,
         0.25325959073379634,
         0.253929437417537,
         0.2550339703448117,
         0.2536948871798813,
         0.2515947219915688,
         0.25393812330439686,
         0.2526190278120339,
         0.25158053459599616,
         0.2529572037048638,
         0.2499448892660439,
         0.2538637620396912,
         0.25291049303486945,
         0.2537491505034268,
         0.2523877081461251,
         0.25432885335758326,
         0.2512761947698891,
         0.2534216118045151,
         0.2495639835484326,
         0.25263341339305045,
         0.25434622587636113,
         0.25010222466662524,
         0.25358342872932554,
         0.2550692948512733,
         0.2566645917482674,
         0.2505749580450356,
         0.2534770076163113,
         0.25437883855775,
         0.25184876592829825,
         0.25217653485015035,
         0.25357780130580065,
         0.25479192184284327,
         0.2570419219322503,
         0.253897946793586,
         0.2551846091635525,
         0.2562334162183106,
         0.2521957573480904,
         0.2573687446303666,
         0.2527445090003312,
         0.25480843978002665,
         0.25417436556890605,
         0.25458385990932586,
         0.25283769192174077
        ],
        [
         5.078600132837892,
         5.080509329214692,
         5.086236739531159,
         5.056843468919396,
         5.002761611714959,
         5.040190497413278,
         5.16002999804914,
         5.039713615551591,
         5.033129150047898,
         5.067463153973222,
         5.076218927279115,
         5.049769381061196,
         5.028000855818391,
         5.093078533187509,
         5.0272999200969934,
         5.020495468750596,
         5.045931154862046,
         5.018691206350923,
         5.050309980288148,
         5.046088421717286,
         5.105745786800981,
         5.114820400252938,
         5.093750009313226,
         5.036516049876809,
         5.0639280918985605,
         5.032966518774629,
         5.015582045540214,
         5.093802595511079,
         5.0881150756031275,
         4.997541004791856,
         5.086046913638711,
         5.052682572975755,
         4.957214334979653,
         5.037362599745393,
         5.1620238814502954,
         5.109528297558427,
         5.079790437594056,
         5.110865527763963,
         5.067262435331941,
         5.103939050808549,
         5.119835698977113,
         5.073580661788583,
         5.0358042027801275,
         5.165636578574777,
         5.107566321268678,
         5.021310413256288,
         5.100186133757234,
         5.138704502955079,
         5.090777197852731,
         5.078096294775605,
         5.07101053930819,
         5.0776742193847895,
         5.107064926996827,
         5.13955701328814,
         5.0174888130277395,
         5.045478513464332,
         5.071902060881257,
         5.055351490154862,
         5.065191814675927,
         5.0785887483507395,
         5.100679406896234,
         5.073897743597627,
         5.031894439831376,
         5.078762466087937,
         5.052380556240678,
         5.031610691919923,
         5.059144074097276,
         4.998897785320878,
         5.077275240793824,
         5.058209860697389,
         5.074983010068536,
         5.047754162922502,
         5.086577067151666,
         5.025523895397782,
         5.0684322360903025,
         4.991279670968652,
         5.052668267861009,
         5.086924517527223,
         5.002044493332505,
         5.071668574586511,
         5.101385897025466,
         5.133291834965348,
         5.011499160900712,
         5.069540152326226,
         5.087576771155,
         5.036975318565965,
         5.043530697003007,
         5.0715560261160135,
         5.095838436856866,
         5.140838438645005,
         5.07795893587172,
         5.1036921832710505,
         5.124668324366212,
         5.043915146961808,
         5.147374892607331,
         5.054890180006623,
         5.0961687956005335,
         5.083487311378121,
         5.091677198186517,
         5.056753838434815
        ],
        [
         1.5889866796753722,
         1.5775166955391742,
         1.5965547544158276,
         1.5733256793709653,
         1.5628505350844606,
         1.5670983511354228,
         1.6046936358559747,
         1.5860590761840747,
         1.572162888159708,
         1.5817143271599459,
         1.5872654589185968,
         1.579340165275669,
         1.5612985346507329,
         1.579860355196741,
         1.592688892513916,
         1.57975252735135,
         1.5860983915230327,
         1.5644448558409358,
         1.5839796370665498,
         1.5770784663369795,
         1.5810858568014463,
         1.5853226311909057,
         1.582581664739331,
         1.5667813156886727,
         1.5874758691524555,
         1.5730439080242613,
         1.5648203708071609,
         1.5908182567458056,
         1.5831259618561135,
         1.5778388013898752,
         1.585930622146411,
         1.5839275721824355,
         1.5688971825803608,
         1.5769460895177758,
         1.594634280543482,
         1.5845631810769203,
         1.5892278769297543,
         1.593931076682964,
         1.5732475148807918,
         1.5855631862866923,
         1.5892758424551954,
         1.5821911159819166,
         1.5722925806288477,
         1.5996369933440637,
         1.5962608750670941,
         1.5709521766115717,
         1.5908703198420506,
         1.5921368082963325,
         1.5761795547717368,
         1.5777866190870682,
         1.5763476191298063,
         1.5944639837089833,
         1.596129345755138,
         1.6033478197974007,
         1.5576882536013863,
         1.5712688456562882,
         1.577351231315944,
         1.593722279839092,
         1.5867335491333285,
         1.5735342877448297,
         1.5951140572932438,
         1.5859139516371834,
         1.582448677993332,
         1.5719445648590251,
         1.5923120691669383,
         1.5699981013967976,
         1.5809592117693878,
         1.5729335919103693,
         1.5882568353161388,
         1.5844958568994956,
         1.5795932662606234,
         1.5847357689952672,
         1.57049124302126,
         1.5804450888790982,
         1.5803249740854837,
         1.5716934137917695,
         1.585374409229826,
         1.5939819683086962,
         1.5659410992734282,
         1.5829199391082185,
         1.579356996066266,
         1.5963402549259464,
         1.5820639419127132,
         1.5860202476144223,
         1.5788661359203173,
         1.5681642651206338,
         1.5837536777015302,
         1.5919837544756752,
         1.5877323294420498,
         1.5770876180666937,
         1.5754366553852808,
         1.5876980247838166,
         1.5940392151555454,
         1.5741193919410232,
         1.5954725692366227,
         1.5795017289886821,
         1.5937784788932772,
         1.5947003826177553,
         1.5642806447938438,
         1.57907480786399
        ]
       ],
       "encoder": "json",
       "name": "ABC_GAN_1 Metrics",
       "version": 1
      }
     },
     "metadata": {
      "scrapbook": {
       "data": true,
       "display": false,
       "name": "ABC_GAN_1 Metrics"
      }
     },
     "output_type": "display_data"
    },
    {
     "name": "stdout",
     "output_type": "stream",
     "text": [
      "MSE\n",
      "0.1251411656524477\n"
     ]
    }
   ],
   "source": [
    "ABC_GAN1_metrics=ABC_train_test2.test_generator(gen,test_data,prior_model,variance,bias,\"1\",device)\n",
    "sb.glue(\"ABC_GAN_1 Metrics\",ABC_GAN1_metrics)\n",
    "\n",
    "print(\"MSE\")\n",
    "print(mean(ABC_GAN1_metrics[0]))"
   ]
  },
  {
   "cell_type": "code",
   "execution_count": 14,
   "id": "eb22ce5c",
   "metadata": {
    "execution": {
     "iopub.execute_input": "2022-06-07T06:21:52.989218Z",
     "iopub.status.busy": "2022-06-07T06:21:52.988840Z",
     "iopub.status.idle": "2022-06-07T06:21:53.286448Z",
     "shell.execute_reply": "2022-06-07T06:21:53.286742Z"
    },
    "papermill": {
     "duration": 0.312543,
     "end_time": "2022-06-07T06:21:53.286867",
     "exception": false,
     "start_time": "2022-06-07T06:21:52.974324",
     "status": "completed"
    },
    "tags": []
   },
   "outputs": [
    {
     "data": {
      "image/png": "[encoded data removed]",
      "text/plain": [
       "<Figure size 432x288 with 1 Axes>"
      ]
     },
     "metadata": {
      "needs_background": "light"
     },
     "output_type": "display_data"
    },
    {
     "data": {
      "image/png": "[encoded data removed]",
      "text/plain": [
       "<Figure size 432x288 with 1 Axes>"
      ]
     },
     "metadata": {
      "needs_background": "light"
     },
     "output_type": "display_data"
    },
    {
     "data": {
      "image/png": "[encoded data removed]",
      "text/plain": [
       "<Figure size 432x288 with 1 Axes>"
      ]
     },
     "metadata": {
      "needs_background": "light"
     },
     "output_type": "display_data"
    },
    {
     "data": {
      "image/png": "[encoded data removed]",
      "text/plain": [
       "<Figure size 432x288 with 1 Axes>"
      ]
     },
     "metadata": {
      "needs_background": "light"
     },
     "output_type": "display_data"
    }
   ],
   "source": [
    "sanityChecks.discProbVsError(train_data,disc,device)\n",
    "sanityChecks.discProbVsError(test_data,disc,device)"
   ]
  },
  {
   "cell_type": "markdown",
   "id": "130f3a4d",
   "metadata": {
    "id": "130f3a4d",
    "papermill": {
     "duration": 0.044312,
     "end_time": "2022-06-07T06:21:53.345689",
     "exception": false,
     "start_time": "2022-06-07T06:21:53.301377",
     "status": "completed"
    },
    "tags": []
   },
   "source": [
    "# ABC - GAN Model with skip connection"
   ]
  },
  {
   "cell_type": "code",
   "execution_count": 15,
   "id": "4e43dad1",
   "metadata": {
    "execution": {
     "iopub.execute_input": "2022-06-07T06:21:53.396082Z",
     "iopub.status.busy": "2022-06-07T06:21:53.395138Z",
     "iopub.status.idle": "2022-06-07T06:21:53.399112Z",
     "shell.execute_reply": "2022-06-07T06:21:53.399412Z"
    },
    "id": "4e43dad1",
    "papermill": {
     "duration": 0.036691,
     "end_time": "2022-06-07T06:21:53.399596",
     "exception": false,
     "start_time": "2022-06-07T06:21:53.362905",
     "status": "completed"
    },
    "tags": []
   },
   "outputs": [],
   "source": [
    "#Generator\n",
    "gen3 = network.GeneratorWithSkipConnection(n_features+1).to(device)\n",
    "constraints=network.weightConstraint()\n",
    "#Discriminator \n",
    "disc3 = network.Discriminator(n_features+1).to(device)\n",
    "\n",
    "criterion = torch.nn.BCELoss()\n",
    "gen_opt = torch.optim.Adam(gen3.parameters(), lr=0.001, betas=(0.5, 0.999))\n",
    "disc_opt = torch.optim.Adam(disc3.parameters(), lr=0.001, betas=(0.5, 0.999))\n"
   ]
  },
  {
   "cell_type": "code",
   "execution_count": 16,
   "id": "26acbc37",
   "metadata": {
    "execution": {
     "iopub.execute_input": "2022-06-07T06:21:53.435767Z",
     "iopub.status.busy": "2022-06-07T06:21:53.435384Z",
     "iopub.status.idle": "2022-06-07T06:22:33.003507Z",
     "shell.execute_reply": "2022-06-07T06:22:33.003826Z"
    },
    "id": "26acbc37",
    "papermill": {
     "duration": 39.586889,
     "end_time": "2022-06-07T06:22:33.003967",
     "exception": false,
     "start_time": "2022-06-07T06:21:53.417078",
     "status": "completed"
    },
    "tags": []
   },
   "outputs": [
    {
     "data": {
      "image/png": "[encoded data removed]",
      "text/plain": [
       "<Figure size 432x288 with 1 Axes>"
      ]
     },
     "metadata": {
      "needs_background": "light"
     },
     "output_type": "display_data"
    },
    {
     "data": {
      "image/png": "[encoded data removed]",
      "text/plain": [
       "<Figure size 432x288 with 1 Axes>"
      ]
     },
     "metadata": {
      "needs_background": "light"
     },
     "output_type": "display_data"
    }
   ],
   "source": [
    "ABC_train_test2.training_GAN_skip_connection(disc3,gen3,disc_opt,gen_opt,train_data,batch_size,n_epochs,criterion,prior_model,variance,bias,device)"
   ]
  },
  {
   "cell_type": "code",
   "execution_count": 17,
   "id": "c5e0717b",
   "metadata": {
    "execution": {
     "iopub.execute_input": "2022-06-07T06:22:33.037269Z",
     "iopub.status.busy": "2022-06-07T06:22:33.036785Z",
     "iopub.status.idle": "2022-06-07T06:22:33.348968Z",
     "shell.execute_reply": "2022-06-07T06:22:33.349269Z"
    },
    "id": "c5e0717b",
    "papermill": {
     "duration": 0.3302,
     "end_time": "2022-06-07T06:22:33.349390",
     "exception": false,
     "start_time": "2022-06-07T06:22:33.019190",
     "status": "completed"
    },
    "tags": []
   },
   "outputs": [
    {
     "data": {
      "application/scrapbook.scrap.json+json": {
       "data": 0.13311373259328893,
       "encoder": "json",
       "name": "ABC-GAN Model 3 MSE",
       "version": 1
      }
     },
     "metadata": {
      "scrapbook": {
       "data": true,
       "display": false,
       "name": "ABC-GAN Model 3 MSE"
      }
     },
     "output_type": "display_data"
    },
    {
     "data": {
      "application/scrapbook.scrap.json+json": {
       "data": 0.2880607326263562,
       "encoder": "json",
       "name": "ABC-GAN Model 3 MAE",
       "version": 1
      }
     },
     "metadata": {
      "scrapbook": {
       "data": true,
       "display": false,
       "name": "ABC-GAN Model 3 MAE"
      }
     },
     "output_type": "display_data"
    },
    {
     "data": {
      "application/scrapbook.scrap.json+json": {
       "data": 5.761214652527124,
       "encoder": "json",
       "name": "ABC-GAN Model 3 Manhattan Distance",
       "version": 1
      }
     },
     "metadata": {
      "scrapbook": {
       "data": true,
       "display": false,
       "name": "ABC-GAN Model 3 Manhattan Distance"
      }
     },
     "output_type": "display_data"
    },
    {
     "data": {
      "application/scrapbook.scrap.json+json": {
       "data": 1.631622263023332,
       "encoder": "json",
       "name": "ABC-GAN Model 3 Euclidean distance",
       "version": 1
      }
     },
     "metadata": {
      "scrapbook": {
       "data": true,
       "display": false,
       "name": "ABC-GAN Model 3 Euclidean distance"
      }
     },
     "output_type": "display_data"
    },
    {
     "data": {
      "application/scrapbook.scrap.json+json": {
       "data": [
        [
         0.13224455600337376,
         0.13273936081202073,
         0.132586021591603,
         0.13381128629109837,
         0.13359126185643921,
         0.1331151597142332,
         0.13286331185956163,
         0.13316921469627788,
         0.13327775910527326,
         0.13416371464757013,
         0.13538126654675123,
         0.13116261915971048,
         0.1340851031246461,
         0.13316828727740196,
         0.13269582331021654,
         0.13090934914789107,
         0.1291041449369889,
         0.13442015887438533,
         0.13394666074560937,
         0.13202335191583403,
         0.1337683352448035,
         0.13080497965540192,
         0.13275444823547916,
         0.13303257919995032,
         0.13278637425481804,
         0.1335839373929776,
         0.13110712961650667,
         0.1338199501226726,
         0.13013564550504614,
         0.1326374390982757,
         0.13297369122616617,
         0.13256568327586216,
         0.1315031955640254,
         0.13186384398750728,
         0.133331632855417,
         0.13326173462043486,
         0.139182694654564,
         0.13549512590334162,
         0.13396001774573313,
         0.1341714451770682,
         0.13114023481986337,
         0.13074901159140132,
         0.13485110371111325,
         0.13256463621515252,
         0.13217504508986244,
         0.1352363502828448,
         0.13422644320475702,
         0.13536962723474466,
         0.13647855749189342,
         0.13381439979409718,
         0.13542881276190094,
         0.1322976294486001,
         0.1326419909562401,
         0.13303214351311662,
         0.1314912831003487,
         0.13317299270133026,
         0.1342271123631086,
         0.13497566199467928,
         0.13336817116840827,
         0.1322137392566062,
         0.1331068357476569,
         0.1333878353839563,
         0.13361669168693263,
         0.1333095985402058,
         0.13364682200322459,
         0.13271958795153918,
         0.13386521506851556,
         0.13486377138156397,
         0.13315637227427937,
         0.13265263347643003,
         0.13082505849073695,
         0.1332441911540608,
         0.13490289704005645,
         0.1341389580945993,
         0.1310925380486716,
         0.13576087681552457,
         0.13504095484164771,
         0.13516712047813662,
         0.13356929614321705,
         0.13257128355673764,
         0.1327421954836229,
         0.13352392302857266,
         0.13297153255427055,
         0.13256352253513418,
         0.13346646864612427,
         0.133044755469676,
         0.13083321422240624,
         0.13163708906825167,
         0.13265441854855053,
         0.13253548252032887,
         0.13056018726771793,
         0.13430423455932927,
         0.13207154230881923,
         0.13221797636672888,
         0.13545014242866174,
         0.13237950084201233,
         0.13137820747414936,
         0.13206591344265575,
         0.13178467885223388,
         0.13189649387894709
        ],
        [
         0.288005821313709,
         0.2888308675028384,
         0.2906749048270285,
         0.2883672106079757,
         0.2885544436052442,
         0.28839306375011803,
         0.28550746524706483,
         0.28705927496775985,
         0.28747813338413836,
         0.2883631965145469,
         0.2905961277894676,
         0.2862810314632952,
         0.29119298690930007,
         0.2866698787547648,
         0.28669623369351027,
         0.2882160878740251,
         0.2850484444759786,
         0.29056196147575974,
         0.2887063850648701,
         0.2875507791526616,
         0.28778806775808335,
         0.28949482133612037,
         0.2862737339921296,
         0.28611573977395893,
         0.287287693284452,
         0.2889754016883671,
         0.28344681542366745,
         0.28702085502445696,
         0.28426393754780294,
         0.2877135406248271,
         0.2885961397551,
         0.28664038656279445,
         0.2878171891905367,
         0.28560330243781207,
         0.2887520659714937,
         0.29013072391971945,
         0.2927464610897005,
         0.2901650625281036,
         0.28986683478578923,
         0.2884687318466604,
         0.2853941783308983,
         0.28508502142503855,
         0.2917075833305717,
         0.28705532727763056,
         0.28749463288113475,
         0.2911828222684562,
         0.2906249322928488,
         0.29017485016956923,
         0.29169657798483967,
         0.2853333804756403,
         0.29024861855432393,
         0.2864455240778625,
         0.2867350438609719,
         0.28797040721401573,
         0.28597471611574293,
         0.2863947432488203,
         0.2912880965508521,
         0.28837082739919423,
         0.28674170933663845,
         0.2858890498057008,
         0.28487764252349734,
         0.288311458285898,
         0.2888415184803307,
         0.28837707387283446,
         0.28785058232024313,
         0.28743888800963757,
         0.2914052842184901,
         0.2907566023990512,
         0.2872705246321857,
         0.28878057431429627,
         0.28562763398513197,
         0.29031446697190405,
         0.29056976856663824,
         0.2878914031200111,
         0.2857318107970059,
         0.2890597268007696,
         0.29027406992390753,
         0.29086757795885204,
         0.2896322266198695,
         0.2885992887429893,
         0.28890386084094644,
         0.28964425874873995,
         0.2898516940884292,
         0.28729571560397743,
         0.2888167622499168,
         0.28895855424925687,
         0.284691433981061,
         0.28292884593829515,
         0.2889388124458492,
         0.2860138399526477,
         0.2859473153017461,
         0.2888045391999185,
         0.2883830795995891,
         0.287304584402591,
         0.2908985967747867,
         0.2879648684524,
         0.2866837504319847,
         0.2879661432467401,
         0.2867626197636127,
         0.2851060193032026
        ],
        [
         5.76011642627418,
         5.7766173500567675,
         5.81349809654057,
         5.767344212159514,
         5.771088872104883,
         5.76786127500236,
         5.710149304941297,
         5.741185499355197,
         5.749562667682767,
         5.767263930290937,
         5.8119225557893515,
         5.725620629265904,
         5.823859738186002,
         5.733397575095296,
         5.733924673870206,
         5.764321757480502,
         5.700968889519572,
         5.811239229515195,
         5.774127701297402,
         5.751015583053231,
         5.755761355161667,
         5.789896426722407,
         5.725474679842591,
         5.722314795479178,
         5.745753865689039,
         5.779508033767343,
         5.668936308473349,
         5.74041710048914,
         5.6852787509560585,
         5.754270812496543,
         5.771922795102,
         5.732807731255889,
         5.756343783810735,
         5.712066048756242,
         5.775041319429874,
         5.802614478394389,
         5.854929221794009,
         5.803301250562072,
         5.797336695715785,
         5.7693746369332075,
         5.707883566617966,
         5.7017004285007715,
         5.834151666611433,
         5.741106545552611,
         5.749892657622695,
         5.823656445369124,
         5.8124986458569765,
         5.803497003391385,
         5.833931559696794,
         5.706667609512806,
         5.804972371086478,
         5.72891048155725,
         5.7347008772194386,
         5.7594081442803144,
         5.719494322314858,
         5.727894864976406,
         5.825761931017041,
         5.767416547983885,
         5.734834186732769,
         5.717780996114016,
         5.697552850469947,
         5.766229165717959,
         5.776830369606614,
         5.767541477456689,
         5.757011646404862,
         5.748777760192752,
         5.8281056843698025,
         5.815132047981024,
         5.745410492643714,
         5.775611486285925,
         5.71255267970264,
         5.806289339438081,
         5.811395371332765,
         5.757828062400222,
         5.714636215940118,
         5.781194536015391,
         5.80548139847815,
         5.817351559177041,
         5.792644532397389,
         5.771985774859786,
         5.778077216818929,
         5.792885174974799,
         5.797033881768584,
         5.745914312079549,
         5.776335244998336,
         5.779171084985137,
         5.69382867962122,
         5.6585769187659025,
         5.778776248916984,
         5.720276799052954,
         5.718946306034923,
         5.77609078399837,
         5.767661591991782,
         5.74609168805182,
         5.817971935495734,
         5.759297369047999,
         5.733675008639693,
         5.759322864934802,
         5.735252395272255,
         5.702120386064053
        ],
        [
         1.6263121225851682,
         1.6293517779290065,
         1.6284104003082454,
         1.6359173957819408,
         1.6345718819093837,
         1.631656579763237,
         1.6301123388255279,
         1.631987835103423,
         1.6326528051320235,
         1.638070295485332,
         1.645486350880804,
         1.6196457585516066,
         1.6375903219343115,
         1.6319821523374693,
         1.6290845485131613,
         1.6180812658694932,
         1.6068860876676287,
         1.6396350744869135,
         1.6367447005908367,
         1.6249513956782464,
         1.6356548244957032,
         1.617436117164458,
         1.6294443730025225,
         1.6311503866900214,
         1.6296402931617642,
         1.634527071620275,
         1.619303119347991,
         1.63597035500447,
         1.613292568042425,
         1.6287261224544516,
         1.6307893256099402,
         1.6282854987738615,
         1.6217471785948967,
         1.6239694823949573,
         1.6329827485642157,
         1.6325546521965804,
         1.6684285699697425,
         1.646178155020541,
         1.6368263056643069,
         1.6381174877100126,
         1.6195075474962342,
         1.617090050624277,
         1.6422612685630338,
         1.628279068312017,
         1.6258846520578416,
         1.6446054255221514,
         1.6384531925249315,
         1.6454156145773302,
         1.6521413831261138,
         1.6359364278241204,
         1.6457752748288628,
         1.626638432157559,
         1.6287540695650777,
         1.6311477156475844,
         1.6216737224259923,
         1.6320109846525561,
         1.6384572766057015,
         1.643019549455692,
         1.6332064852210713,
         1.6261226230306631,
         1.6316055635333981,
         1.6333268832903982,
         1.6347274493745596,
         1.6328478100558288,
         1.634911752989895,
         1.6292304192565223,
         1.6362470172227392,
         1.6423384022884198,
         1.6319091413082982,
         1.628819409734732,
         1.617560252298114,
         1.6324471884508902,
         1.6425766164173679,
         1.637919156091651,
         1.6192130066712755,
         1.6477917150873442,
         1.64341689684418,
         1.6441844207882315,
         1.63443749432774,
         1.6283198921387507,
         1.6293691753781459,
         1.6341598638356816,
         1.6307760885803455,
         1.6282722286837308,
         1.6338082423964222,
         1.6312250333395206,
         1.6176106714683,
         1.6225725812317406,
         1.6288303689982608,
         1.6281000124091203,
         1.6159219490292092,
         1.6389279090877016,
         1.6252479337554577,
         1.6261486793447202,
         1.645904872273375,
         1.6271416707958304,
         1.6209762951638087,
         1.6252132994942894,
         1.623481930002511,
         1.6241705198589653
        ]
       ],
       "encoder": "json",
       "name": "ABC_GAN_3 Metrics",
       "version": 1
      }
     },
     "metadata": {
      "scrapbook": {
       "data": true,
       "display": false,
       "name": "ABC_GAN_3 Metrics"
      }
     },
     "output_type": "display_data"
    },
    {
     "name": "stdout",
     "output_type": "stream",
     "text": [
      "MSE\n",
      "0.13311373259328893\n"
     ]
    }
   ],
   "source": [
    "ABC_GAN3_metrics=ABC_train_test2.test_generator(gen3,test_data,prior_model,variance,bias,\"3\",device)\n",
    "sb.glue(\"ABC_GAN_3 Metrics\",ABC_GAN3_metrics)\n",
    "\n",
    "print(\"MSE\")\n",
    "print(mean(ABC_GAN3_metrics[0]))"
   ]
  },
  {
   "cell_type": "code",
   "execution_count": 18,
   "id": "c8e46b48",
   "metadata": {
    "execution": {
     "iopub.execute_input": "2022-06-07T06:22:33.385706Z",
     "iopub.status.busy": "2022-06-07T06:22:33.385288Z",
     "iopub.status.idle": "2022-06-07T06:22:33.688179Z",
     "shell.execute_reply": "2022-06-07T06:22:33.688488Z"
    },
    "id": "c8e46b48",
    "papermill": {
     "duration": 0.322355,
     "end_time": "2022-06-07T06:22:33.688632",
     "exception": false,
     "start_time": "2022-06-07T06:22:33.366277",
     "status": "completed"
    },
    "tags": []
   },
   "outputs": [
    {
     "data": {
      "image/png": "[encoded data removed]",
      "text/plain": [
       "<Figure size 432x288 with 1 Axes>"
      ]
     },
     "metadata": {
      "needs_background": "light"
     },
     "output_type": "display_data"
    },
    {
     "data": {
      "image/png": "[encoded data removed]",
      "text/plain": [
       "<Figure size 432x288 with 1 Axes>"
      ]
     },
     "metadata": {
      "needs_background": "light"
     },
     "output_type": "display_data"
    },
    {
     "data": {
      "image/png": "[encoded data removed]",
      "text/plain": [
       "<Figure size 432x288 with 1 Axes>"
      ]
     },
     "metadata": {
      "needs_background": "light"
     },
     "output_type": "display_data"
    },
    {
     "data": {
      "image/png": "[encoded data removed]",
      "text/plain": [
       "<Figure size 432x288 with 1 Axes>"
      ]
     },
     "metadata": {
      "needs_background": "light"
     },
     "output_type": "display_data"
    }
   ],
   "source": [
    "sanityChecks.discProbVsError(train_data,disc3,device)\n",
    "sanityChecks.discProbVsError(test_data,disc3,device)"
   ]
  },
  {
   "cell_type": "markdown",
   "id": "a5bd74c3",
   "metadata": {
    "id": "a5bd74c3",
    "papermill": {
     "duration": 0.019179,
     "end_time": "2022-06-07T06:22:33.727463",
     "exception": false,
     "start_time": "2022-06-07T06:22:33.708284",
     "status": "completed"
    },
    "tags": []
   },
   "source": [
    "## Skip Connection Model Analysis - ABC-GAN "
   ]
  },
  {
   "cell_type": "markdown",
   "id": "5744a8bf",
   "metadata": {
    "id": "5744a8bf",
    "papermill": {
     "duration": 0.018766,
     "end_time": "2022-06-07T06:22:33.765171",
     "exception": false,
     "start_time": "2022-06-07T06:22:33.746405",
     "status": "completed"
    },
    "tags": []
   },
   "source": [
    "### Weight Analysis \n",
    "\n",
    "Study the weights of the skip connection layer\n",
    "\n",
    "Equation of the skip connection is \n",
    "\n",
    "$output = y_{gan} * w + y_{abc} * (1-w)$"
   ]
  },
  {
   "cell_type": "code",
   "execution_count": 19,
   "id": "52c31dea",
   "metadata": {
    "execution": {
     "iopub.execute_input": "2022-06-07T06:22:33.806088Z",
     "iopub.status.busy": "2022-06-07T06:22:33.805709Z",
     "iopub.status.idle": "2022-06-07T06:22:33.809129Z",
     "shell.execute_reply": "2022-06-07T06:22:33.809383Z"
    },
    "id": "52c31dea",
    "papermill": {
     "duration": 0.0254,
     "end_time": "2022-06-07T06:22:33.809503",
     "exception": false,
     "start_time": "2022-06-07T06:22:33.784103",
     "status": "completed"
    },
    "tags": []
   },
   "outputs": [
    {
     "name": "stdout",
     "output_type": "stream",
     "text": [
      "Weight of the node at skip connection\n",
      "Parameter containing:\n",
      "tensor([[0.0029]], requires_grad=True)\n"
     ]
    },
    {
     "data": {
      "application/scrapbook.scrap.json+json": {
       "data": 0.0028627587016671896,
       "encoder": "json",
       "name": "Skip Connection Weight",
       "version": 1
      }
     },
     "metadata": {
      "scrapbook": {
       "data": true,
       "display": false,
       "name": "Skip Connection Weight"
      }
     },
     "output_type": "display_data"
    }
   ],
   "source": [
    "print(\"Weight of the node at skip connection\")\n",
    "for name,param in gen3.named_parameters():\n",
    "    if(name == \"skipNode.weight\"):\n",
    "        print(param)\n",
    "        sb.glue(\"Skip Connection Weight\",param.item())"
   ]
  }
 ],
 "metadata": {
  "colab": {
   "collapsed_sections": [],
   "name": "ABC_GAN_Model-Catboost_Pre-gen.ipynb",
   "provenance": []
  },
  "interpreter": {
   "hash": "31f2aee4e71d21fbe5cf8b01ff0e069b9275f58929596ceb00d14d90e3e16cd6"
  },
  "kernelspec": {
   "display_name": "Python 3 (ipykernel)",
   "language": "python",
   "name": "python3"
  },
  "language_info": {
   "codemirror_mode": {
    "name": "ipython",
    "version": 3
   },
   "file_extension": ".py",
   "mimetype": "text/x-python",
   "name": "python",
   "nbconvert_exporter": "python",
   "pygments_lexer": "ipython3",
   "version": "3.8.11"
  },
  "papermill": {
   "default_parameters": {},
   "duration": 60.842783,
   "end_time": "2022-06-07T06:22:34.136557",
   "environment_variables": {},
   "exception": null,
   "input_path": "ABC_GAN-Catboost.ipynb",
   "output_path": "./ABC_GAN_Catboost/ABC-GAN_output_3_8.ipynb",
   "parameters": {
    "bias": 0.01,
    "variance": 0.01
   },
   "start_time": "2022-06-07T06:21:33.293774",
   "version": "2.3.3"
  }
 },
 "nbformat": 4,
 "nbformat_minor": 5
}