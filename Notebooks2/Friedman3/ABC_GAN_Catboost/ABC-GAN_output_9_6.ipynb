{
 "cells": [
  {
   "cell_type": "markdown",
   "id": "622780e6",
   "metadata": {
    "id": "622780e6",
    "papermill": {
     "duration": 0.035611,
     "end_time": "2022-06-07T07:11:45.347333",
     "exception": false,
     "start_time": "2022-06-07T07:11:45.311722",
     "status": "completed"
    },
    "tags": []
   },
   "source": [
    "## Import Libraries "
   ]
  },
  {
   "cell_type": "code",
   "execution_count": 1,
   "id": "a62397e3",
   "metadata": {
    "execution": {
     "iopub.execute_input": "2022-06-07T07:11:45.385586Z",
     "iopub.status.busy": "2022-06-07T07:11:45.384971Z",
     "iopub.status.idle": "2022-06-07T07:11:45.387273Z",
     "shell.execute_reply": "2022-06-07T07:11:45.387600Z"
    },
    "id": "a62397e3",
    "papermill": {
     "duration": 0.023026,
     "end_time": "2022-06-07T07:11:45.387807",
     "exception": false,
     "start_time": "2022-06-07T07:11:45.364781",
     "status": "completed"
    },
    "tags": []
   },
   "outputs": [],
   "source": [
    "import warnings\n",
    "import sys\n",
    "sys.path.insert(0, '../../src')\n",
    "warnings.filterwarnings('ignore')"
   ]
  },
  {
   "cell_type": "code",
   "execution_count": 2,
   "id": "d6a4e155",
   "metadata": {
    "execution": {
     "iopub.execute_input": "2022-06-07T07:11:45.408380Z",
     "iopub.status.busy": "2022-06-07T07:11:45.407925Z",
     "iopub.status.idle": "2022-06-07T07:11:47.332164Z",
     "shell.execute_reply": "2022-06-07T07:11:47.332426Z"
    },
    "id": "d6a4e155",
    "papermill": {
     "duration": 1.935174,
     "end_time": "2022-06-07T07:11:47.332551",
     "exception": false,
     "start_time": "2022-06-07T07:11:45.397377",
     "status": "completed"
    },
    "tags": []
   },
   "outputs": [],
   "source": [
    "import ABC_train_test2\n",
    "import friedman1Dataset\n",
    "import network\n",
    "import dataset\n",
    "import sanityChecks\n",
    "import torch \n",
    "import scrapbook as sb\n",
    "from statistics import mean \n",
    "import catboost as ctb \n",
    "from sklearn.model_selection import train_test_split\n",
    "from sklearn.metrics import mean_squared_error,mean_absolute_error\n",
    "import numpy as np"
   ]
  },
  {
   "cell_type": "markdown",
   "id": "2fa5b0f7",
   "metadata": {
    "id": "2fa5b0f7",
    "papermill": {
     "duration": 0.008642,
     "end_time": "2022-06-07T07:11:47.348587",
     "exception": false,
     "start_time": "2022-06-07T07:11:47.339945",
     "status": "completed"
    },
    "tags": []
   },
   "source": [
    "## Parameters "
   ]
  },
  {
   "cell_type": "code",
   "execution_count": 3,
   "id": "783186fb",
   "metadata": {
    "execution": {
     "iopub.execute_input": "2022-06-07T07:11:47.368148Z",
     "iopub.status.busy": "2022-06-07T07:11:47.367696Z",
     "iopub.status.idle": "2022-06-07T07:11:47.369058Z",
     "shell.execute_reply": "2022-06-07T07:11:47.369307Z"
    },
    "id": "783186fb",
    "papermill": {
     "duration": 0.013639,
     "end_time": "2022-06-07T07:11:47.369420",
     "exception": false,
     "start_time": "2022-06-07T07:11:47.355781",
     "status": "completed"
    },
    "tags": [
     "parameters"
    ]
   },
   "outputs": [],
   "source": [
    "variance = 1\n",
    "bias = 1 "
   ]
  },
  {
   "cell_type": "code",
   "execution_count": 4,
   "id": "fb01a2b0",
   "metadata": {
    "execution": {
     "iopub.execute_input": "2022-06-07T07:11:47.388190Z",
     "iopub.status.busy": "2022-06-07T07:11:47.387805Z",
     "iopub.status.idle": "2022-06-07T07:11:47.389184Z",
     "shell.execute_reply": "2022-06-07T07:11:47.389441Z"
    },
    "papermill": {
     "duration": 0.011105,
     "end_time": "2022-06-07T07:11:47.389563",
     "exception": false,
     "start_time": "2022-06-07T07:11:47.378458",
     "status": "completed"
    },
    "tags": [
     "injected-parameters"
    ]
   },
   "outputs": [],
   "source": [
    "# Parameters\n",
    "variance = 1\n",
    "bias = 0.01\n"
   ]
  },
  {
   "cell_type": "markdown",
   "id": "391cdbfd",
   "metadata": {
    "id": "391cdbfd",
    "papermill": {
     "duration": 0.00703,
     "end_time": "2022-06-07T07:11:47.404160",
     "exception": false,
     "start_time": "2022-06-07T07:11:47.397130",
     "status": "completed"
    },
    "tags": []
   },
   "source": [
    "## Dataset \n"
   ]
  },
  {
   "cell_type": "code",
   "execution_count": 5,
   "id": "5b51f161",
   "metadata": {
    "execution": {
     "iopub.execute_input": "2022-06-07T07:11:47.422116Z",
     "iopub.status.busy": "2022-06-07T07:11:47.421733Z",
     "iopub.status.idle": "2022-06-07T07:11:47.423069Z",
     "shell.execute_reply": "2022-06-07T07:11:47.423322Z"
    },
    "id": "5b51f161",
    "papermill": {
     "duration": 0.010797,
     "end_time": "2022-06-07T07:11:47.423438",
     "exception": false,
     "start_time": "2022-06-07T07:11:47.412641",
     "status": "completed"
    },
    "tags": []
   },
   "outputs": [],
   "source": [
    "#Parameters \n",
    "n_features = 5\n",
    "n_samples= 100\n",
    "n_target = 1 "
   ]
  },
  {
   "cell_type": "code",
   "execution_count": 6,
   "id": "5d6eced4",
   "metadata": {
    "execution": {
     "iopub.execute_input": "2022-06-07T07:11:47.443757Z",
     "iopub.status.busy": "2022-06-07T07:11:47.441702Z",
     "iopub.status.idle": "2022-06-07T07:11:47.448046Z",
     "shell.execute_reply": "2022-06-07T07:11:47.448298Z"
    },
    "id": "5d6eced4",
    "papermill": {
     "duration": 0.017288,
     "end_time": "2022-06-07T07:11:47.448419",
     "exception": false,
     "start_time": "2022-06-07T07:11:47.431131",
     "status": "completed"
    },
    "tags": []
   },
   "outputs": [
    {
     "name": "stdout",
     "output_type": "stream",
     "text": [
      "         X0        X1        X2        X3        X4         Y\n",
      "0  0.708554 -0.134585 -0.422572 -0.621483 -0.791241 -0.382329\n",
      "1 -0.363196  0.503689  0.295773 -0.516836 -0.481994 -0.506483\n",
      "2 -0.131684 -0.166760 -1.207280 -0.439593 -1.076472 -0.468854\n",
      "3  1.424750 -0.487340  1.449595 -0.721487  0.259189  0.733448\n",
      "4  0.172810 -0.740556 -1.108746 -0.522082  0.463334 -0.389423\n"
     ]
    }
   ],
   "source": [
    "X,Y = friedman1Dataset.friedman1_data(n_samples,n_features)"
   ]
  },
  {
   "cell_type": "code",
   "execution_count": 7,
   "id": "fe007438",
   "metadata": {
    "execution": {
     "iopub.execute_input": "2022-06-07T07:11:47.467660Z",
     "iopub.status.busy": "2022-06-07T07:11:47.467184Z",
     "iopub.status.idle": "2022-06-07T07:11:47.468434Z",
     "shell.execute_reply": "2022-06-07T07:11:47.468677Z"
    },
    "id": "fe007438",
    "papermill": {
     "duration": 0.012254,
     "end_time": "2022-06-07T07:11:47.468793",
     "exception": false,
     "start_time": "2022-06-07T07:11:47.456539",
     "status": "completed"
    },
    "tags": []
   },
   "outputs": [],
   "source": [
    "#Train test split for dataset \n",
    "X_train,X_test,Y_train,Y_test = train_test_split(X,Y,test_size = 0.2)\n",
    "train_data = dataset.CustomDataset(X_train,Y_train)\n",
    "test_data = dataset.CustomDataset(X_test,Y_test)\n"
   ]
  },
  {
   "cell_type": "markdown",
   "id": "a9a1af34",
   "metadata": {
    "id": "a9a1af34",
    "papermill": {
     "duration": 0.007504,
     "end_time": "2022-06-07T07:11:47.483934",
     "exception": false,
     "start_time": "2022-06-07T07:11:47.476430",
     "status": "completed"
    },
    "tags": []
   },
   "source": [
    "## Training Parameters "
   ]
  },
  {
   "cell_type": "code",
   "execution_count": 8,
   "id": "952b7fc8",
   "metadata": {
    "execution": {
     "iopub.execute_input": "2022-06-07T07:11:47.501922Z",
     "iopub.status.busy": "2022-06-07T07:11:47.501523Z",
     "iopub.status.idle": "2022-06-07T07:11:47.502835Z",
     "shell.execute_reply": "2022-06-07T07:11:47.503088Z"
    },
    "id": "952b7fc8",
    "papermill": {
     "duration": 0.0117,
     "end_time": "2022-06-07T07:11:47.503202",
     "exception": false,
     "start_time": "2022-06-07T07:11:47.491502",
     "status": "completed"
    },
    "tags": []
   },
   "outputs": [],
   "source": [
    "batch_size = 32\n",
    "n_epochs = 1000\n",
    "#Select the device \n",
    "device = torch.device('cuda' if torch.cuda.is_available() else 'cpu')"
   ]
  },
  {
   "cell_type": "markdown",
   "id": "a95e1600",
   "metadata": {
    "id": "a95e1600",
    "papermill": {
     "duration": 0.007346,
     "end_time": "2022-06-07T07:11:47.518347",
     "exception": false,
     "start_time": "2022-06-07T07:11:47.511001",
     "status": "completed"
    },
    "tags": []
   },
   "source": [
    "# ABC Pre-generator Model \n",
    "\n",
    "1. The catboost model is used as a pre-generator model for the ABC-GAN. \n",
    "2. The model is first trained on the entire dataset \n",
    "3. It generats X,Y pairs and we add some Gaussian noise with mean 0 and variance 1 to it which is then feed as input to the generator.\n"
   ]
  },
  {
   "cell_type": "code",
   "execution_count": 9,
   "id": "ff8ce7bd",
   "metadata": {
    "execution": {
     "iopub.execute_input": "2022-06-07T07:11:47.537613Z",
     "iopub.status.busy": "2022-06-07T07:11:47.537219Z",
     "iopub.status.idle": "2022-06-07T07:11:48.183973Z",
     "shell.execute_reply": "2022-06-07T07:11:48.184277Z"
    },
    "id": "ff8ce7bd",
    "papermill": {
     "duration": 0.658506,
     "end_time": "2022-06-07T07:11:48.184401",
     "exception": false,
     "start_time": "2022-06-07T07:11:47.525895",
     "status": "completed"
    },
    "tags": []
   },
   "outputs": [
    {
     "name": "stdout",
     "output_type": "stream",
     "text": [
      "Learning rate set to 0.024897\n",
      "0:\tlearn: 0.9565991\ttotal: 55.6ms\tremaining: 55.5s\n",
      "1:\tlearn: 0.9474347\ttotal: 56.2ms\tremaining: 28.1s\n",
      "2:\tlearn: 0.9375758\ttotal: 56.7ms\tremaining: 18.9s\n",
      "3:\tlearn: 0.9287884\ttotal: 57.2ms\tremaining: 14.2s\n",
      "4:\tlearn: 0.9208251\ttotal: 57.8ms\tremaining: 11.5s\n",
      "5:\tlearn: 0.9143744\ttotal: 58.5ms\tremaining: 9.68s\n",
      "6:\tlearn: 0.9050206\ttotal: 59ms\tremaining: 8.36s\n",
      "7:\tlearn: 0.8958533\ttotal: 59.4ms\tremaining: 7.37s\n",
      "8:\tlearn: 0.8866337\ttotal: 59.9ms\tremaining: 6.59s\n",
      "9:\tlearn: 0.8791134\ttotal: 60.4ms\tremaining: 5.98s\n",
      "10:\tlearn: 0.8703141\ttotal: 60.9ms\tremaining: 5.48s\n",
      "11:\tlearn: 0.8610928\ttotal: 61.5ms\tremaining: 5.06s\n",
      "12:\tlearn: 0.8524689\ttotal: 61.9ms\tremaining: 4.7s\n",
      "13:\tlearn: 0.8457914\ttotal: 62.4ms\tremaining: 4.39s\n",
      "14:\tlearn: 0.8370371\ttotal: 63ms\tremaining: 4.13s\n",
      "15:\tlearn: 0.8287547\ttotal: 63.3ms\tremaining: 3.89s\n",
      "16:\tlearn: 0.8205071\ttotal: 63.8ms\tremaining: 3.69s\n",
      "17:\tlearn: 0.8122240\ttotal: 64.3ms\tremaining: 3.51s\n",
      "18:\tlearn: 0.8038995\ttotal: 64.7ms\tremaining: 3.34s\n",
      "19:\tlearn: 0.7959535\ttotal: 65.4ms\tremaining: 3.2s\n",
      "20:\tlearn: 0.7865812\ttotal: 66.4ms\tremaining: 3.09s\n",
      "21:\tlearn: 0.7786351\ttotal: 67.2ms\tremaining: 2.99s\n",
      "22:\tlearn: 0.7711271\ttotal: 67.8ms\tremaining: 2.88s\n",
      "23:\tlearn: 0.7642646\ttotal: 68.5ms\tremaining: 2.79s\n",
      "24:\tlearn: 0.7560041\ttotal: 69.1ms\tremaining: 2.7s\n",
      "25:\tlearn: 0.7485634\ttotal: 69.7ms\tremaining: 2.61s\n",
      "26:\tlearn: 0.7408421\ttotal: 70.1ms\tremaining: 2.52s\n",
      "27:\tlearn: 0.7331761\ttotal: 70.5ms\tremaining: 2.45s\n",
      "28:\tlearn: 0.7264067\ttotal: 70.9ms\tremaining: 2.37s\n",
      "29:\tlearn: 0.7201392\ttotal: 71.3ms\tremaining: 2.31s\n",
      "30:\tlearn: 0.7141606\ttotal: 71.8ms\tremaining: 2.25s\n",
      "31:\tlearn: 0.7081731\ttotal: 72.4ms\tremaining: 2.19s\n",
      "32:\tlearn: 0.7026070\ttotal: 72.9ms\tremaining: 2.14s\n",
      "33:\tlearn: 0.6958111\ttotal: 73.4ms\tremaining: 2.08s\n",
      "34:\tlearn: 0.6903965\ttotal: 73.8ms\tremaining: 2.03s\n",
      "35:\tlearn: 0.6842668\ttotal: 74.4ms\tremaining: 1.99s\n",
      "36:\tlearn: 0.6779674\ttotal: 74.9ms\tremaining: 1.95s\n",
      "37:\tlearn: 0.6715901\ttotal: 75.4ms\tremaining: 1.91s\n",
      "38:\tlearn: 0.6658487\ttotal: 75.8ms\tremaining: 1.87s\n",
      "39:\tlearn: 0.6598251\ttotal: 76.3ms\tremaining: 1.83s\n",
      "40:\tlearn: 0.6528996\ttotal: 76.8ms\tremaining: 1.79s\n",
      "41:\tlearn: 0.6472232\ttotal: 77.1ms\tremaining: 1.76s\n",
      "42:\tlearn: 0.6414509\ttotal: 77.5ms\tremaining: 1.72s\n",
      "43:\tlearn: 0.6354183\ttotal: 78ms\tremaining: 1.69s\n",
      "44:\tlearn: 0.6297345\ttotal: 78.4ms\tremaining: 1.66s\n",
      "45:\tlearn: 0.6239452\ttotal: 78.8ms\tremaining: 1.63s\n",
      "46:\tlearn: 0.6197610\ttotal: 79.3ms\tremaining: 1.61s\n",
      "47:\tlearn: 0.6135506\ttotal: 79.9ms\tremaining: 1.58s\n",
      "48:\tlearn: 0.6072868\ttotal: 80.5ms\tremaining: 1.56s\n",
      "49:\tlearn: 0.6031789\ttotal: 81.7ms\tremaining: 1.55s\n",
      "50:\tlearn: 0.5985112\ttotal: 82.5ms\tremaining: 1.53s\n",
      "51:\tlearn: 0.5922223\ttotal: 83ms\tremaining: 1.51s\n",
      "52:\tlearn: 0.5867598\ttotal: 83.6ms\tremaining: 1.49s\n",
      "53:\tlearn: 0.5824435\ttotal: 84.1ms\tremaining: 1.47s\n",
      "54:\tlearn: 0.5772831\ttotal: 84.5ms\tremaining: 1.45s\n",
      "55:\tlearn: 0.5728060\ttotal: 85ms\tremaining: 1.43s\n",
      "56:\tlearn: 0.5682374\ttotal: 85.5ms\tremaining: 1.41s\n",
      "57:\tlearn: 0.5629968\ttotal: 86ms\tremaining: 1.4s\n",
      "58:\tlearn: 0.5585385\ttotal: 86.5ms\tremaining: 1.38s\n",
      "59:\tlearn: 0.5545320\ttotal: 86.8ms\tremaining: 1.36s\n",
      "60:\tlearn: 0.5506343\ttotal: 87.4ms\tremaining: 1.34s\n",
      "61:\tlearn: 0.5459854\ttotal: 87.9ms\tremaining: 1.33s\n",
      "62:\tlearn: 0.5419691\ttotal: 88.4ms\tremaining: 1.31s\n",
      "63:\tlearn: 0.5379474\ttotal: 89ms\tremaining: 1.3s\n",
      "64:\tlearn: 0.5330401\ttotal: 89.5ms\tremaining: 1.29s\n",
      "65:\tlearn: 0.5290712\ttotal: 90ms\tremaining: 1.27s\n",
      "66:\tlearn: 0.5247677\ttotal: 90.5ms\tremaining: 1.26s\n",
      "67:\tlearn: 0.5208204\ttotal: 90.9ms\tremaining: 1.25s\n",
      "68:\tlearn: 0.5162860\ttotal: 91.4ms\tremaining: 1.23s\n",
      "69:\tlearn: 0.5116016\ttotal: 91.8ms\tremaining: 1.22s\n",
      "70:\tlearn: 0.5074220\ttotal: 92.2ms\tremaining: 1.21s\n",
      "71:\tlearn: 0.5036419\ttotal: 92.5ms\tremaining: 1.19s\n",
      "72:\tlearn: 0.4992363\ttotal: 92.9ms\tremaining: 1.18s\n",
      "73:\tlearn: 0.4957433\ttotal: 93.3ms\tremaining: 1.17s\n",
      "74:\tlearn: 0.4916115\ttotal: 93.9ms\tremaining: 1.16s\n",
      "75:\tlearn: 0.4879975\ttotal: 94.3ms\tremaining: 1.15s\n",
      "76:\tlearn: 0.4846159\ttotal: 95ms\tremaining: 1.14s\n",
      "77:\tlearn: 0.4809786\ttotal: 97.4ms\tremaining: 1.15s\n",
      "78:\tlearn: 0.4774722\ttotal: 98.3ms\tremaining: 1.15s\n",
      "79:\tlearn: 0.4732834\ttotal: 99ms\tremaining: 1.14s\n",
      "80:\tlearn: 0.4695956\ttotal: 99.6ms\tremaining: 1.13s\n",
      "81:\tlearn: 0.4661480\ttotal: 100ms\tremaining: 1.12s\n",
      "82:\tlearn: 0.4616829\ttotal: 101ms\tremaining: 1.11s\n"
     ]
    },
    {
     "name": "stdout",
     "output_type": "stream",
     "text": [
      "83:\tlearn: 0.4581635\ttotal: 102ms\tremaining: 1.11s\n",
      "84:\tlearn: 0.4541972\ttotal: 103ms\tremaining: 1.1s\n",
      "85:\tlearn: 0.4505065\ttotal: 103ms\tremaining: 1.09s\n",
      "86:\tlearn: 0.4469586\ttotal: 104ms\tremaining: 1.09s\n",
      "87:\tlearn: 0.4439660\ttotal: 104ms\tremaining: 1.08s\n",
      "88:\tlearn: 0.4404504\ttotal: 105ms\tremaining: 1.07s\n",
      "89:\tlearn: 0.4376220\ttotal: 105ms\tremaining: 1.06s\n",
      "90:\tlearn: 0.4341486\ttotal: 106ms\tremaining: 1.05s\n",
      "91:\tlearn: 0.4302795\ttotal: 106ms\tremaining: 1.05s\n",
      "92:\tlearn: 0.4265806\ttotal: 106ms\tremaining: 1.04s\n",
      "93:\tlearn: 0.4231983\ttotal: 107ms\tremaining: 1.03s\n",
      "94:\tlearn: 0.4198880\ttotal: 107ms\tremaining: 1.02s\n",
      "95:\tlearn: 0.4168353\ttotal: 108ms\tremaining: 1.01s\n",
      "96:\tlearn: 0.4137407\ttotal: 108ms\tremaining: 1.01s\n",
      "97:\tlearn: 0.4105814\ttotal: 109ms\tremaining: 1s\n",
      "98:\tlearn: 0.4071084\ttotal: 109ms\tremaining: 994ms\n",
      "99:\tlearn: 0.4043294\ttotal: 110ms\tremaining: 988ms\n",
      "100:\tlearn: 0.4019947\ttotal: 110ms\tremaining: 982ms\n",
      "101:\tlearn: 0.3987399\ttotal: 111ms\tremaining: 975ms\n",
      "102:\tlearn: 0.3956005\ttotal: 112ms\tremaining: 972ms\n",
      "103:\tlearn: 0.3927089\ttotal: 112ms\tremaining: 968ms\n",
      "104:\tlearn: 0.3895597\ttotal: 113ms\tremaining: 963ms\n",
      "105:\tlearn: 0.3871964\ttotal: 113ms\tremaining: 957ms\n",
      "106:\tlearn: 0.3837196\ttotal: 114ms\tremaining: 953ms\n",
      "107:\tlearn: 0.3810650\ttotal: 115ms\tremaining: 949ms\n",
      "108:\tlearn: 0.3781751\ttotal: 116ms\tremaining: 945ms\n",
      "109:\tlearn: 0.3751266\ttotal: 116ms\tremaining: 940ms\n",
      "110:\tlearn: 0.3725255\ttotal: 117ms\tremaining: 934ms\n",
      "111:\tlearn: 0.3698650\ttotal: 117ms\tremaining: 928ms\n",
      "112:\tlearn: 0.3671717\ttotal: 118ms\tremaining: 922ms\n",
      "113:\tlearn: 0.3644373\ttotal: 118ms\tremaining: 917ms\n",
      "114:\tlearn: 0.3615162\ttotal: 118ms\tremaining: 910ms\n",
      "115:\tlearn: 0.3586747\ttotal: 119ms\tremaining: 904ms\n",
      "116:\tlearn: 0.3562564\ttotal: 119ms\tremaining: 900ms\n",
      "117:\tlearn: 0.3537002\ttotal: 120ms\tremaining: 894ms\n",
      "118:\tlearn: 0.3513120\ttotal: 120ms\tremaining: 889ms\n",
      "119:\tlearn: 0.3489619\ttotal: 121ms\tremaining: 885ms\n",
      "120:\tlearn: 0.3467274\ttotal: 121ms\tremaining: 880ms\n",
      "121:\tlearn: 0.3443330\ttotal: 122ms\tremaining: 875ms\n",
      "122:\tlearn: 0.3416104\ttotal: 122ms\tremaining: 870ms\n",
      "123:\tlearn: 0.3390446\ttotal: 122ms\tremaining: 865ms\n",
      "124:\tlearn: 0.3366602\ttotal: 123ms\tremaining: 860ms\n",
      "125:\tlearn: 0.3341157\ttotal: 123ms\tremaining: 855ms\n",
      "126:\tlearn: 0.3314545\ttotal: 124ms\tremaining: 850ms\n",
      "127:\tlearn: 0.3292111\ttotal: 124ms\tremaining: 845ms\n",
      "128:\tlearn: 0.3264236\ttotal: 125ms\tremaining: 841ms\n",
      "129:\tlearn: 0.3239680\ttotal: 125ms\tremaining: 837ms\n",
      "130:\tlearn: 0.3217076\ttotal: 126ms\tremaining: 833ms\n",
      "131:\tlearn: 0.3194460\ttotal: 127ms\tremaining: 833ms\n",
      "132:\tlearn: 0.3170742\ttotal: 127ms\tremaining: 831ms\n",
      "133:\tlearn: 0.3151514\ttotal: 128ms\tremaining: 826ms\n",
      "134:\tlearn: 0.3130275\ttotal: 129ms\tremaining: 824ms\n",
      "135:\tlearn: 0.3111350\ttotal: 129ms\tremaining: 820ms\n",
      "136:\tlearn: 0.3087453\ttotal: 130ms\tremaining: 816ms\n",
      "137:\tlearn: 0.3065149\ttotal: 130ms\tremaining: 812ms\n",
      "138:\tlearn: 0.3045278\ttotal: 131ms\tremaining: 809ms\n",
      "139:\tlearn: 0.3023057\ttotal: 131ms\tremaining: 805ms\n",
      "140:\tlearn: 0.3002024\ttotal: 131ms\tremaining: 801ms\n",
      "141:\tlearn: 0.2983302\ttotal: 132ms\tremaining: 797ms\n",
      "142:\tlearn: 0.2962776\ttotal: 132ms\tremaining: 794ms\n",
      "143:\tlearn: 0.2943238\ttotal: 133ms\tremaining: 789ms\n",
      "144:\tlearn: 0.2923520\ttotal: 133ms\tremaining: 786ms\n",
      "145:\tlearn: 0.2902006\ttotal: 134ms\tremaining: 782ms\n",
      "146:\tlearn: 0.2882992\ttotal: 134ms\tremaining: 779ms\n",
      "147:\tlearn: 0.2861939\ttotal: 135ms\tremaining: 776ms\n",
      "148:\tlearn: 0.2842803\ttotal: 135ms\tremaining: 773ms\n",
      "149:\tlearn: 0.2822824\ttotal: 136ms\tremaining: 769ms\n",
      "150:\tlearn: 0.2801143\ttotal: 136ms\tremaining: 765ms\n",
      "151:\tlearn: 0.2782828\ttotal: 137ms\tremaining: 762ms\n",
      "152:\tlearn: 0.2765920\ttotal: 137ms\tremaining: 758ms\n",
      "153:\tlearn: 0.2744360\ttotal: 138ms\tremaining: 756ms\n",
      "154:\tlearn: 0.2727274\ttotal: 138ms\tremaining: 753ms\n",
      "155:\tlearn: 0.2709682\ttotal: 139ms\tremaining: 750ms\n",
      "156:\tlearn: 0.2689850\ttotal: 139ms\tremaining: 747ms\n",
      "157:\tlearn: 0.2674215\ttotal: 140ms\tremaining: 745ms\n",
      "158:\tlearn: 0.2656406\ttotal: 140ms\tremaining: 742ms\n",
      "159:\tlearn: 0.2637536\ttotal: 141ms\tremaining: 740ms\n",
      "160:\tlearn: 0.2619335\ttotal: 142ms\tremaining: 742ms\n",
      "161:\tlearn: 0.2601908\ttotal: 143ms\tremaining: 741ms\n",
      "162:\tlearn: 0.2583077\ttotal: 144ms\tremaining: 739ms\n",
      "163:\tlearn: 0.2564932\ttotal: 144ms\tremaining: 735ms\n",
      "164:\tlearn: 0.2542267\ttotal: 145ms\tremaining: 732ms\n",
      "165:\tlearn: 0.2527469\ttotal: 145ms\tremaining: 730ms\n",
      "166:\tlearn: 0.2517104\ttotal: 146ms\tremaining: 727ms\n",
      "167:\tlearn: 0.2501063\ttotal: 146ms\tremaining: 723ms\n",
      "168:\tlearn: 0.2482538\ttotal: 147ms\tremaining: 720ms\n",
      "169:\tlearn: 0.2464948\ttotal: 147ms\tremaining: 718ms\n",
      "170:\tlearn: 0.2451049\ttotal: 148ms\tremaining: 715ms\n",
      "171:\tlearn: 0.2436117\ttotal: 148ms\tremaining: 712ms\n",
      "172:\tlearn: 0.2420555\ttotal: 148ms\tremaining: 709ms\n",
      "173:\tlearn: 0.2403863\ttotal: 149ms\tremaining: 706ms\n",
      "174:\tlearn: 0.2387972\ttotal: 149ms\tremaining: 704ms\n",
      "175:\tlearn: 0.2367595\ttotal: 150ms\tremaining: 701ms\n",
      "176:\tlearn: 0.2350391\ttotal: 150ms\tremaining: 698ms\n",
      "177:\tlearn: 0.2336068\ttotal: 151ms\tremaining: 696ms\n",
      "178:\tlearn: 0.2319824\ttotal: 151ms\tremaining: 693ms\n",
      "179:\tlearn: 0.2303496\ttotal: 151ms\tremaining: 690ms\n",
      "180:\tlearn: 0.2286427\ttotal: 152ms\tremaining: 688ms\n",
      "181:\tlearn: 0.2270360\ttotal: 152ms\tremaining: 685ms\n",
      "182:\tlearn: 0.2254107\ttotal: 153ms\tremaining: 684ms\n",
      "183:\tlearn: 0.2236854\ttotal: 154ms\tremaining: 681ms\n",
      "184:\tlearn: 0.2221887\ttotal: 154ms\tremaining: 679ms\n",
      "185:\tlearn: 0.2207717\ttotal: 155ms\tremaining: 676ms\n",
      "186:\tlearn: 0.2190116\ttotal: 155ms\tremaining: 674ms\n",
      "187:\tlearn: 0.2175778\ttotal: 155ms\tremaining: 671ms\n",
      "188:\tlearn: 0.2162563\ttotal: 157ms\tremaining: 672ms\n",
      "189:\tlearn: 0.2147930\ttotal: 157ms\tremaining: 670ms\n",
      "190:\tlearn: 0.2135540\ttotal: 158ms\tremaining: 668ms\n",
      "191:\tlearn: 0.2116536\ttotal: 158ms\tremaining: 665ms\n",
      "192:\tlearn: 0.2101624\ttotal: 159ms\tremaining: 663ms\n",
      "193:\tlearn: 0.2089753\ttotal: 159ms\tremaining: 661ms\n",
      "194:\tlearn: 0.2076278\ttotal: 160ms\tremaining: 659ms\n",
      "195:\tlearn: 0.2062282\ttotal: 160ms\tremaining: 657ms\n",
      "196:\tlearn: 0.2048538\ttotal: 160ms\tremaining: 654ms\n",
      "197:\tlearn: 0.2032814\ttotal: 161ms\tremaining: 652ms\n",
      "198:\tlearn: 0.2017506\ttotal: 161ms\tremaining: 649ms\n",
      "199:\tlearn: 0.2005221\ttotal: 162ms\tremaining: 647ms\n",
      "200:\tlearn: 0.1990790\ttotal: 162ms\tremaining: 645ms\n",
      "201:\tlearn: 0.1978169\ttotal: 163ms\tremaining: 643ms\n",
      "202:\tlearn: 0.1964103\ttotal: 163ms\tremaining: 641ms\n",
      "203:\tlearn: 0.1951633\ttotal: 164ms\tremaining: 640ms\n",
      "204:\tlearn: 0.1939504\ttotal: 164ms\tremaining: 638ms\n",
      "205:\tlearn: 0.1926970\ttotal: 165ms\tremaining: 636ms\n",
      "206:\tlearn: 0.1913889\ttotal: 165ms\tremaining: 634ms\n",
      "207:\tlearn: 0.1903426\ttotal: 166ms\tremaining: 632ms\n",
      "208:\tlearn: 0.1890594\ttotal: 166ms\tremaining: 630ms\n",
      "209:\tlearn: 0.1877794\ttotal: 167ms\tremaining: 628ms\n",
      "210:\tlearn: 0.1866538\ttotal: 168ms\tremaining: 626ms\n",
      "211:\tlearn: 0.1855932\ttotal: 168ms\tremaining: 625ms\n",
      "212:\tlearn: 0.1843041\ttotal: 169ms\tremaining: 623ms\n",
      "213:\tlearn: 0.1831308\ttotal: 169ms\tremaining: 621ms\n",
      "214:\tlearn: 0.1820325\ttotal: 170ms\tremaining: 619ms\n",
      "215:\tlearn: 0.1812592\ttotal: 170ms\tremaining: 617ms\n",
      "216:\tlearn: 0.1802138\ttotal: 171ms\tremaining: 616ms\n",
      "217:\tlearn: 0.1789547\ttotal: 171ms\tremaining: 613ms\n",
      "218:\tlearn: 0.1776443\ttotal: 172ms\tremaining: 612ms\n",
      "219:\tlearn: 0.1765335\ttotal: 172ms\tremaining: 611ms\n",
      "220:\tlearn: 0.1750933\ttotal: 173ms\tremaining: 610ms\n",
      "221:\tlearn: 0.1740697\ttotal: 173ms\tremaining: 607ms\n",
      "222:\tlearn: 0.1728589\ttotal: 174ms\tremaining: 606ms\n",
      "223:\tlearn: 0.1721122\ttotal: 174ms\tremaining: 604ms\n",
      "224:\tlearn: 0.1711185\ttotal: 175ms\tremaining: 602ms\n",
      "225:\tlearn: 0.1701148\ttotal: 175ms\tremaining: 601ms\n",
      "226:\tlearn: 0.1688637\ttotal: 176ms\tremaining: 599ms\n",
      "227:\tlearn: 0.1676129\ttotal: 176ms\tremaining: 597ms\n",
      "228:\tlearn: 0.1666267\ttotal: 177ms\tremaining: 595ms\n",
      "229:\tlearn: 0.1655117\ttotal: 177ms\tremaining: 593ms\n",
      "230:\tlearn: 0.1644181\ttotal: 177ms\tremaining: 591ms\n",
      "231:\tlearn: 0.1633107\ttotal: 178ms\tremaining: 589ms\n",
      "232:\tlearn: 0.1623044\ttotal: 178ms\tremaining: 587ms\n",
      "233:\tlearn: 0.1612520\ttotal: 179ms\tremaining: 585ms\n",
      "234:\tlearn: 0.1601629\ttotal: 179ms\tremaining: 583ms\n",
      "235:\tlearn: 0.1592750\ttotal: 180ms\tremaining: 581ms\n",
      "236:\tlearn: 0.1585037\ttotal: 180ms\tremaining: 580ms\n",
      "237:\tlearn: 0.1575887\ttotal: 180ms\tremaining: 578ms\n",
      "238:\tlearn: 0.1569502\ttotal: 181ms\tremaining: 576ms\n",
      "239:\tlearn: 0.1557901\ttotal: 181ms\tremaining: 575ms\n",
      "240:\tlearn: 0.1549397\ttotal: 182ms\tremaining: 573ms\n",
      "241:\tlearn: 0.1541152\ttotal: 182ms\tremaining: 571ms\n",
      "242:\tlearn: 0.1531466\ttotal: 183ms\tremaining: 569ms\n",
      "243:\tlearn: 0.1522445\ttotal: 183ms\tremaining: 568ms\n",
      "244:\tlearn: 0.1513413\ttotal: 184ms\tremaining: 566ms\n",
      "245:\tlearn: 0.1503425\ttotal: 184ms\tremaining: 564ms\n",
      "246:\tlearn: 0.1493031\ttotal: 185ms\tremaining: 562ms\n"
     ]
    },
    {
     "name": "stdout",
     "output_type": "stream",
     "text": [
      "247:\tlearn: 0.1483599\ttotal: 185ms\tremaining: 562ms\n",
      "248:\tlearn: 0.1477492\ttotal: 186ms\tremaining: 560ms\n",
      "249:\tlearn: 0.1469047\ttotal: 187ms\tremaining: 562ms\n",
      "250:\tlearn: 0.1459538\ttotal: 188ms\tremaining: 561ms\n",
      "251:\tlearn: 0.1448945\ttotal: 188ms\tremaining: 559ms\n",
      "252:\tlearn: 0.1441705\ttotal: 189ms\tremaining: 558ms\n",
      "253:\tlearn: 0.1432718\ttotal: 189ms\tremaining: 556ms\n",
      "254:\tlearn: 0.1423615\ttotal: 190ms\tremaining: 555ms\n",
      "255:\tlearn: 0.1414609\ttotal: 190ms\tremaining: 553ms\n",
      "256:\tlearn: 0.1406264\ttotal: 191ms\tremaining: 552ms\n",
      "257:\tlearn: 0.1397332\ttotal: 191ms\tremaining: 550ms\n",
      "258:\tlearn: 0.1389069\ttotal: 192ms\tremaining: 548ms\n",
      "259:\tlearn: 0.1383888\ttotal: 192ms\tremaining: 547ms\n",
      "260:\tlearn: 0.1378374\ttotal: 193ms\tremaining: 545ms\n",
      "261:\tlearn: 0.1372157\ttotal: 193ms\tremaining: 544ms\n",
      "262:\tlearn: 0.1366451\ttotal: 194ms\tremaining: 542ms\n",
      "263:\tlearn: 0.1360499\ttotal: 194ms\tremaining: 541ms\n",
      "264:\tlearn: 0.1351230\ttotal: 194ms\tremaining: 539ms\n",
      "265:\tlearn: 0.1341458\ttotal: 195ms\tremaining: 538ms\n",
      "266:\tlearn: 0.1331713\ttotal: 196ms\tremaining: 537ms\n",
      "267:\tlearn: 0.1323339\ttotal: 196ms\tremaining: 536ms\n",
      "268:\tlearn: 0.1317954\ttotal: 197ms\tremaining: 534ms\n",
      "269:\tlearn: 0.1312269\ttotal: 197ms\tremaining: 532ms\n",
      "270:\tlearn: 0.1302367\ttotal: 197ms\tremaining: 531ms\n",
      "271:\tlearn: 0.1294508\ttotal: 198ms\tremaining: 529ms\n",
      "272:\tlearn: 0.1289013\ttotal: 198ms\tremaining: 527ms\n",
      "273:\tlearn: 0.1283213\ttotal: 199ms\tremaining: 526ms\n",
      "274:\tlearn: 0.1276035\ttotal: 199ms\tremaining: 524ms\n",
      "275:\tlearn: 0.1271395\ttotal: 199ms\tremaining: 523ms\n",
      "276:\tlearn: 0.1263924\ttotal: 200ms\tremaining: 521ms\n",
      "277:\tlearn: 0.1256751\ttotal: 200ms\tremaining: 520ms\n",
      "278:\tlearn: 0.1249788\ttotal: 201ms\tremaining: 518ms\n",
      "279:\tlearn: 0.1243997\ttotal: 201ms\tremaining: 517ms\n",
      "280:\tlearn: 0.1235609\ttotal: 203ms\tremaining: 518ms\n",
      "281:\tlearn: 0.1228378\ttotal: 203ms\tremaining: 517ms\n",
      "282:\tlearn: 0.1220409\ttotal: 204ms\tremaining: 516ms\n",
      "283:\tlearn: 0.1215419\ttotal: 204ms\tremaining: 515ms\n",
      "284:\tlearn: 0.1207376\ttotal: 205ms\tremaining: 514ms\n",
      "285:\tlearn: 0.1198813\ttotal: 206ms\tremaining: 513ms\n",
      "286:\tlearn: 0.1190640\ttotal: 206ms\tremaining: 512ms\n",
      "287:\tlearn: 0.1183657\ttotal: 206ms\tremaining: 511ms\n",
      "288:\tlearn: 0.1173759\ttotal: 207ms\tremaining: 509ms\n",
      "289:\tlearn: 0.1169454\ttotal: 208ms\tremaining: 508ms\n",
      "290:\tlearn: 0.1159844\ttotal: 208ms\tremaining: 507ms\n",
      "291:\tlearn: 0.1155103\ttotal: 208ms\tremaining: 505ms\n",
      "292:\tlearn: 0.1147444\ttotal: 209ms\tremaining: 504ms\n",
      "293:\tlearn: 0.1140880\ttotal: 209ms\tremaining: 502ms\n",
      "294:\tlearn: 0.1131454\ttotal: 210ms\tremaining: 501ms\n",
      "295:\tlearn: 0.1124191\ttotal: 210ms\tremaining: 500ms\n",
      "296:\tlearn: 0.1117462\ttotal: 211ms\tremaining: 499ms\n",
      "297:\tlearn: 0.1108332\ttotal: 211ms\tremaining: 498ms\n",
      "298:\tlearn: 0.1103826\ttotal: 212ms\tremaining: 497ms\n",
      "299:\tlearn: 0.1096414\ttotal: 212ms\tremaining: 495ms\n",
      "300:\tlearn: 0.1091857\ttotal: 213ms\tremaining: 494ms\n",
      "301:\tlearn: 0.1085755\ttotal: 213ms\tremaining: 493ms\n",
      "302:\tlearn: 0.1078028\ttotal: 214ms\tremaining: 491ms\n",
      "303:\tlearn: 0.1073613\ttotal: 214ms\tremaining: 490ms\n",
      "304:\tlearn: 0.1069280\ttotal: 214ms\tremaining: 488ms\n",
      "305:\tlearn: 0.1065026\ttotal: 215ms\tremaining: 487ms\n",
      "306:\tlearn: 0.1059355\ttotal: 215ms\tremaining: 486ms\n",
      "307:\tlearn: 0.1054643\ttotal: 216ms\tremaining: 485ms\n",
      "308:\tlearn: 0.1050586\ttotal: 216ms\tremaining: 483ms\n",
      "309:\tlearn: 0.1043611\ttotal: 217ms\tremaining: 482ms\n",
      "310:\tlearn: 0.1038174\ttotal: 217ms\tremaining: 481ms\n",
      "311:\tlearn: 0.1031901\ttotal: 217ms\tremaining: 479ms\n",
      "312:\tlearn: 0.1023960\ttotal: 218ms\tremaining: 479ms\n",
      "313:\tlearn: 0.1020084\ttotal: 219ms\tremaining: 478ms\n",
      "314:\tlearn: 0.1016584\ttotal: 219ms\tremaining: 476ms\n",
      "315:\tlearn: 0.1010130\ttotal: 220ms\tremaining: 475ms\n",
      "316:\tlearn: 0.1004897\ttotal: 220ms\tremaining: 474ms\n",
      "317:\tlearn: 0.1001596\ttotal: 221ms\tremaining: 473ms\n",
      "318:\tlearn: 0.0993788\ttotal: 221ms\tremaining: 472ms\n",
      "319:\tlearn: 0.0987603\ttotal: 222ms\tremaining: 471ms\n",
      "320:\tlearn: 0.0983863\ttotal: 222ms\tremaining: 470ms\n",
      "321:\tlearn: 0.0976181\ttotal: 223ms\tremaining: 469ms\n",
      "322:\tlearn: 0.0970052\ttotal: 223ms\tremaining: 468ms\n",
      "323:\tlearn: 0.0964327\ttotal: 224ms\tremaining: 467ms\n",
      "324:\tlearn: 0.0958195\ttotal: 224ms\tremaining: 466ms\n",
      "325:\tlearn: 0.0954745\ttotal: 225ms\tremaining: 464ms\n",
      "326:\tlearn: 0.0951297\ttotal: 225ms\tremaining: 463ms\n",
      "327:\tlearn: 0.0944110\ttotal: 226ms\tremaining: 462ms\n",
      "328:\tlearn: 0.0940662\ttotal: 226ms\tremaining: 461ms\n",
      "329:\tlearn: 0.0934917\ttotal: 227ms\tremaining: 460ms\n",
      "330:\tlearn: 0.0929207\ttotal: 227ms\tremaining: 459ms\n",
      "331:\tlearn: 0.0924631\ttotal: 228ms\tremaining: 458ms\n",
      "332:\tlearn: 0.0920064\ttotal: 228ms\tremaining: 457ms\n",
      "333:\tlearn: 0.0915421\ttotal: 229ms\tremaining: 456ms\n",
      "334:\tlearn: 0.0909272\ttotal: 229ms\tremaining: 455ms\n",
      "335:\tlearn: 0.0906131\ttotal: 230ms\tremaining: 454ms\n",
      "336:\tlearn: 0.0902676\ttotal: 230ms\tremaining: 453ms\n",
      "337:\tlearn: 0.0896215\ttotal: 231ms\tremaining: 452ms\n",
      "338:\tlearn: 0.0890546\ttotal: 231ms\tremaining: 451ms\n",
      "339:\tlearn: 0.0884971\ttotal: 232ms\tremaining: 450ms\n",
      "340:\tlearn: 0.0881513\ttotal: 233ms\tremaining: 449ms\n",
      "341:\tlearn: 0.0878578\ttotal: 233ms\tremaining: 449ms\n",
      "342:\tlearn: 0.0872232\ttotal: 234ms\tremaining: 448ms\n",
      "343:\tlearn: 0.0865802\ttotal: 234ms\tremaining: 447ms\n",
      "344:\tlearn: 0.0862852\ttotal: 235ms\tremaining: 446ms\n",
      "345:\tlearn: 0.0856324\ttotal: 235ms\tremaining: 444ms\n",
      "346:\tlearn: 0.0852209\ttotal: 236ms\tremaining: 443ms\n",
      "347:\tlearn: 0.0849273\ttotal: 236ms\tremaining: 442ms\n",
      "348:\tlearn: 0.0842717\ttotal: 237ms\tremaining: 441ms\n",
      "349:\tlearn: 0.0836493\ttotal: 237ms\tremaining: 440ms\n",
      "350:\tlearn: 0.0830231\ttotal: 237ms\tremaining: 439ms\n",
      "351:\tlearn: 0.0824789\ttotal: 238ms\tremaining: 438ms\n",
      "352:\tlearn: 0.0818756\ttotal: 238ms\tremaining: 437ms\n",
      "353:\tlearn: 0.0812013\ttotal: 239ms\tremaining: 436ms\n",
      "354:\tlearn: 0.0806153\ttotal: 239ms\tremaining: 435ms\n",
      "355:\tlearn: 0.0799577\ttotal: 240ms\tremaining: 434ms\n",
      "356:\tlearn: 0.0793137\ttotal: 240ms\tremaining: 433ms\n",
      "357:\tlearn: 0.0786732\ttotal: 241ms\tremaining: 432ms\n",
      "358:\tlearn: 0.0780490\ttotal: 242ms\tremaining: 431ms\n",
      "359:\tlearn: 0.0775187\ttotal: 242ms\tremaining: 430ms\n",
      "360:\tlearn: 0.0772980\ttotal: 242ms\tremaining: 429ms\n",
      "361:\tlearn: 0.0767647\ttotal: 243ms\tremaining: 428ms\n",
      "362:\tlearn: 0.0764637\ttotal: 244ms\tremaining: 427ms\n",
      "363:\tlearn: 0.0760315\ttotal: 244ms\tremaining: 426ms\n",
      "364:\tlearn: 0.0755221\ttotal: 245ms\tremaining: 425ms\n",
      "365:\tlearn: 0.0752857\ttotal: 245ms\tremaining: 425ms\n",
      "366:\tlearn: 0.0747823\ttotal: 246ms\tremaining: 424ms\n",
      "367:\tlearn: 0.0742261\ttotal: 247ms\tremaining: 424ms\n",
      "368:\tlearn: 0.0737512\ttotal: 247ms\tremaining: 423ms\n",
      "369:\tlearn: 0.0731934\ttotal: 248ms\tremaining: 422ms\n",
      "370:\tlearn: 0.0729663\ttotal: 248ms\tremaining: 421ms\n",
      "371:\tlearn: 0.0724368\ttotal: 249ms\tremaining: 420ms\n",
      "372:\tlearn: 0.0719175\ttotal: 250ms\tremaining: 419ms\n",
      "373:\tlearn: 0.0714084\ttotal: 250ms\tremaining: 419ms\n",
      "374:\tlearn: 0.0709299\ttotal: 251ms\tremaining: 418ms\n",
      "375:\tlearn: 0.0703869\ttotal: 251ms\tremaining: 416ms\n",
      "376:\tlearn: 0.0698750\ttotal: 251ms\tremaining: 415ms\n",
      "377:\tlearn: 0.0696607\ttotal: 252ms\tremaining: 414ms\n",
      "378:\tlearn: 0.0691744\ttotal: 252ms\tremaining: 413ms\n",
      "379:\tlearn: 0.0686887\ttotal: 253ms\tremaining: 412ms\n",
      "380:\tlearn: 0.0682005\ttotal: 253ms\tremaining: 411ms\n",
      "381:\tlearn: 0.0676090\ttotal: 253ms\tremaining: 410ms\n",
      "382:\tlearn: 0.0671974\ttotal: 254ms\tremaining: 409ms\n",
      "383:\tlearn: 0.0667590\ttotal: 254ms\tremaining: 408ms\n",
      "384:\tlearn: 0.0663010\ttotal: 255ms\tremaining: 407ms\n",
      "385:\tlearn: 0.0658517\ttotal: 255ms\tremaining: 406ms\n",
      "386:\tlearn: 0.0654286\ttotal: 256ms\tremaining: 405ms\n",
      "387:\tlearn: 0.0652301\ttotal: 256ms\tremaining: 404ms\n",
      "388:\tlearn: 0.0648005\ttotal: 258ms\tremaining: 405ms\n",
      "389:\tlearn: 0.0643900\ttotal: 258ms\tremaining: 403ms\n",
      "390:\tlearn: 0.0640097\ttotal: 258ms\tremaining: 403ms\n",
      "391:\tlearn: 0.0638183\ttotal: 259ms\tremaining: 402ms\n",
      "392:\tlearn: 0.0633841\ttotal: 259ms\tremaining: 401ms\n",
      "393:\tlearn: 0.0629758\ttotal: 260ms\tremaining: 400ms\n",
      "394:\tlearn: 0.0625705\ttotal: 260ms\tremaining: 399ms\n",
      "395:\tlearn: 0.0621673\ttotal: 262ms\tremaining: 400ms\n",
      "396:\tlearn: 0.0617324\ttotal: 263ms\tremaining: 399ms\n",
      "397:\tlearn: 0.0613161\ttotal: 263ms\tremaining: 398ms\n",
      "398:\tlearn: 0.0609244\ttotal: 264ms\tremaining: 397ms\n",
      "399:\tlearn: 0.0605055\ttotal: 264ms\tremaining: 397ms\n",
      "400:\tlearn: 0.0602821\ttotal: 265ms\tremaining: 396ms\n",
      "401:\tlearn: 0.0599499\ttotal: 265ms\tremaining: 395ms\n",
      "402:\tlearn: 0.0595518\ttotal: 266ms\tremaining: 394ms\n",
      "403:\tlearn: 0.0591071\ttotal: 266ms\tremaining: 393ms\n",
      "404:\tlearn: 0.0587072\ttotal: 267ms\tremaining: 392ms\n",
      "405:\tlearn: 0.0584937\ttotal: 267ms\tremaining: 391ms\n",
      "406:\tlearn: 0.0581034\ttotal: 268ms\tremaining: 390ms\n",
      "407:\tlearn: 0.0579305\ttotal: 268ms\tremaining: 389ms\n",
      "408:\tlearn: 0.0575446\ttotal: 268ms\tremaining: 388ms\n",
      "409:\tlearn: 0.0571506\ttotal: 270ms\tremaining: 388ms\n",
      "410:\tlearn: 0.0567339\ttotal: 270ms\tremaining: 387ms\n",
      "411:\tlearn: 0.0563621\ttotal: 271ms\tremaining: 386ms\n",
      "412:\tlearn: 0.0561634\ttotal: 271ms\tremaining: 385ms\n",
      "413:\tlearn: 0.0557866\ttotal: 272ms\tremaining: 384ms\n",
      "414:\tlearn: 0.0554714\ttotal: 272ms\tremaining: 383ms\n",
      "415:\tlearn: 0.0551169\ttotal: 272ms\tremaining: 382ms\n",
      "416:\tlearn: 0.0547709\ttotal: 273ms\tremaining: 381ms\n",
      "417:\tlearn: 0.0544197\ttotal: 273ms\tremaining: 380ms\n",
      "418:\tlearn: 0.0542615\ttotal: 273ms\tremaining: 379ms\n",
      "419:\tlearn: 0.0539234\ttotal: 274ms\tremaining: 378ms\n",
      "420:\tlearn: 0.0535415\ttotal: 274ms\tremaining: 377ms\n",
      "421:\tlearn: 0.0532033\ttotal: 275ms\tremaining: 376ms\n",
      "422:\tlearn: 0.0530208\ttotal: 275ms\tremaining: 375ms\n",
      "423:\tlearn: 0.0526926\ttotal: 276ms\tremaining: 374ms\n",
      "424:\tlearn: 0.0523661\ttotal: 276ms\tremaining: 374ms\n",
      "425:\tlearn: 0.0520412\ttotal: 277ms\tremaining: 373ms\n",
      "426:\tlearn: 0.0518937\ttotal: 278ms\tremaining: 372ms\n",
      "427:\tlearn: 0.0517488\ttotal: 278ms\tremaining: 372ms\n",
      "428:\tlearn: 0.0514316\ttotal: 279ms\tremaining: 371ms\n",
      "429:\tlearn: 0.0511165\ttotal: 279ms\tremaining: 370ms\n",
      "430:\tlearn: 0.0509423\ttotal: 280ms\tremaining: 369ms\n",
      "431:\tlearn: 0.0506344\ttotal: 280ms\tremaining: 368ms\n",
      "432:\tlearn: 0.0504649\ttotal: 281ms\tremaining: 367ms\n",
      "433:\tlearn: 0.0501620\ttotal: 281ms\tremaining: 366ms\n",
      "434:\tlearn: 0.0500321\ttotal: 281ms\tremaining: 366ms\n"
     ]
    },
    {
     "name": "stdout",
     "output_type": "stream",
     "text": [
      "435:\tlearn: 0.0497134\ttotal: 282ms\tremaining: 365ms\n",
      "436:\tlearn: 0.0495871\ttotal: 283ms\tremaining: 364ms\n",
      "437:\tlearn: 0.0492944\ttotal: 283ms\tremaining: 363ms\n",
      "438:\tlearn: 0.0491356\ttotal: 284ms\tremaining: 363ms\n",
      "439:\tlearn: 0.0488314\ttotal: 284ms\tremaining: 362ms\n",
      "440:\tlearn: 0.0485332\ttotal: 284ms\tremaining: 361ms\n",
      "441:\tlearn: 0.0483001\ttotal: 285ms\tremaining: 360ms\n",
      "442:\tlearn: 0.0481473\ttotal: 285ms\tremaining: 359ms\n",
      "443:\tlearn: 0.0478568\ttotal: 286ms\tremaining: 358ms\n",
      "444:\tlearn: 0.0475779\ttotal: 286ms\tremaining: 357ms\n",
      "445:\tlearn: 0.0474637\ttotal: 286ms\tremaining: 356ms\n",
      "446:\tlearn: 0.0472334\ttotal: 287ms\tremaining: 355ms\n",
      "447:\tlearn: 0.0470076\ttotal: 287ms\tremaining: 354ms\n",
      "448:\tlearn: 0.0468625\ttotal: 288ms\tremaining: 353ms\n",
      "449:\tlearn: 0.0465797\ttotal: 288ms\tremaining: 352ms\n",
      "450:\tlearn: 0.0463156\ttotal: 289ms\tremaining: 351ms\n",
      "451:\tlearn: 0.0460953\ttotal: 289ms\tremaining: 351ms\n",
      "452:\tlearn: 0.0458760\ttotal: 290ms\tremaining: 350ms\n",
      "453:\tlearn: 0.0456076\ttotal: 290ms\tremaining: 349ms\n",
      "454:\tlearn: 0.0454772\ttotal: 291ms\tremaining: 348ms\n",
      "455:\tlearn: 0.0453410\ttotal: 291ms\tremaining: 348ms\n",
      "456:\tlearn: 0.0451261\ttotal: 292ms\tremaining: 347ms\n",
      "457:\tlearn: 0.0449148\ttotal: 293ms\tremaining: 347ms\n",
      "458:\tlearn: 0.0447041\ttotal: 293ms\tremaining: 346ms\n",
      "459:\tlearn: 0.0444979\ttotal: 294ms\tremaining: 345ms\n",
      "460:\tlearn: 0.0442912\ttotal: 295ms\tremaining: 344ms\n",
      "461:\tlearn: 0.0440245\ttotal: 295ms\tremaining: 344ms\n",
      "462:\tlearn: 0.0437626\ttotal: 296ms\tremaining: 343ms\n",
      "463:\tlearn: 0.0435599\ttotal: 296ms\tremaining: 342ms\n",
      "464:\tlearn: 0.0432740\ttotal: 297ms\tremaining: 341ms\n",
      "465:\tlearn: 0.0431608\ttotal: 297ms\tremaining: 340ms\n",
      "466:\tlearn: 0.0428663\ttotal: 298ms\tremaining: 340ms\n",
      "467:\tlearn: 0.0426054\ttotal: 298ms\tremaining: 339ms\n",
      "468:\tlearn: 0.0423690\ttotal: 298ms\tremaining: 338ms\n",
      "469:\tlearn: 0.0422595\ttotal: 299ms\tremaining: 337ms\n",
      "470:\tlearn: 0.0420658\ttotal: 299ms\tremaining: 336ms\n",
      "471:\tlearn: 0.0418135\ttotal: 300ms\tremaining: 336ms\n",
      "472:\tlearn: 0.0415819\ttotal: 300ms\tremaining: 335ms\n",
      "473:\tlearn: 0.0413546\ttotal: 301ms\tremaining: 334ms\n",
      "474:\tlearn: 0.0412669\ttotal: 301ms\tremaining: 333ms\n",
      "475:\tlearn: 0.0411807\ttotal: 302ms\tremaining: 332ms\n",
      "476:\tlearn: 0.0409551\ttotal: 302ms\tremaining: 331ms\n",
      "477:\tlearn: 0.0406645\ttotal: 303ms\tremaining: 330ms\n",
      "478:\tlearn: 0.0405808\ttotal: 303ms\tremaining: 330ms\n",
      "479:\tlearn: 0.0402997\ttotal: 304ms\tremaining: 329ms\n",
      "480:\tlearn: 0.0400697\ttotal: 304ms\tremaining: 328ms\n",
      "481:\tlearn: 0.0398497\ttotal: 305ms\tremaining: 327ms\n",
      "482:\tlearn: 0.0397686\ttotal: 305ms\tremaining: 326ms\n",
      "483:\tlearn: 0.0396888\ttotal: 305ms\tremaining: 326ms\n",
      "484:\tlearn: 0.0394650\ttotal: 307ms\tremaining: 326ms\n",
      "485:\tlearn: 0.0391899\ttotal: 307ms\tremaining: 325ms\n",
      "486:\tlearn: 0.0391125\ttotal: 308ms\tremaining: 324ms\n",
      "487:\tlearn: 0.0390363\ttotal: 309ms\tremaining: 324ms\n",
      "488:\tlearn: 0.0389615\ttotal: 309ms\tremaining: 323ms\n",
      "489:\tlearn: 0.0387602\ttotal: 310ms\tremaining: 322ms\n",
      "490:\tlearn: 0.0386869\ttotal: 310ms\tremaining: 321ms\n",
      "491:\tlearn: 0.0386149\ttotal: 311ms\tremaining: 321ms\n",
      "492:\tlearn: 0.0384051\ttotal: 311ms\tremaining: 320ms\n",
      "493:\tlearn: 0.0381544\ttotal: 312ms\tremaining: 319ms\n",
      "494:\tlearn: 0.0379444\ttotal: 312ms\tremaining: 319ms\n",
      "495:\tlearn: 0.0378750\ttotal: 313ms\tremaining: 318ms\n",
      "496:\tlearn: 0.0376818\ttotal: 313ms\tremaining: 317ms\n",
      "497:\tlearn: 0.0376095\ttotal: 314ms\tremaining: 316ms\n",
      "498:\tlearn: 0.0375424\ttotal: 314ms\tremaining: 315ms\n",
      "499:\tlearn: 0.0373281\ttotal: 315ms\tremaining: 315ms\n",
      "500:\tlearn: 0.0370980\ttotal: 315ms\tremaining: 314ms\n",
      "501:\tlearn: 0.0368990\ttotal: 316ms\tremaining: 313ms\n",
      "502:\tlearn: 0.0368294\ttotal: 316ms\tremaining: 312ms\n",
      "503:\tlearn: 0.0366360\ttotal: 317ms\tremaining: 312ms\n",
      "504:\tlearn: 0.0365019\ttotal: 317ms\tremaining: 311ms\n",
      "505:\tlearn: 0.0363286\ttotal: 318ms\tremaining: 310ms\n",
      "506:\tlearn: 0.0361584\ttotal: 318ms\tremaining: 309ms\n",
      "507:\tlearn: 0.0359614\ttotal: 319ms\tremaining: 309ms\n",
      "508:\tlearn: 0.0358315\ttotal: 319ms\tremaining: 308ms\n",
      "509:\tlearn: 0.0357022\ttotal: 320ms\tremaining: 307ms\n",
      "510:\tlearn: 0.0355238\ttotal: 320ms\tremaining: 306ms\n",
      "511:\tlearn: 0.0353636\ttotal: 322ms\tremaining: 307ms\n",
      "512:\tlearn: 0.0351913\ttotal: 323ms\tremaining: 307ms\n",
      "513:\tlearn: 0.0350365\ttotal: 324ms\tremaining: 306ms\n",
      "514:\tlearn: 0.0349109\ttotal: 325ms\tremaining: 306ms\n",
      "515:\tlearn: 0.0347738\ttotal: 325ms\tremaining: 305ms\n",
      "516:\tlearn: 0.0346433\ttotal: 326ms\tremaining: 304ms\n",
      "517:\tlearn: 0.0345238\ttotal: 326ms\tremaining: 303ms\n",
      "518:\tlearn: 0.0343122\ttotal: 327ms\tremaining: 303ms\n",
      "519:\tlearn: 0.0341965\ttotal: 327ms\tremaining: 302ms\n",
      "520:\tlearn: 0.0339896\ttotal: 328ms\tremaining: 301ms\n",
      "521:\tlearn: 0.0338622\ttotal: 328ms\tremaining: 300ms\n",
      "522:\tlearn: 0.0336605\ttotal: 329ms\tremaining: 300ms\n",
      "523:\tlearn: 0.0334807\ttotal: 329ms\tremaining: 299ms\n",
      "524:\tlearn: 0.0333046\ttotal: 330ms\tremaining: 298ms\n",
      "525:\tlearn: 0.0331050\ttotal: 330ms\tremaining: 297ms\n",
      "526:\tlearn: 0.0329941\ttotal: 331ms\tremaining: 297ms\n",
      "527:\tlearn: 0.0328872\ttotal: 331ms\tremaining: 296ms\n",
      "528:\tlearn: 0.0327805\ttotal: 332ms\tremaining: 295ms\n",
      "529:\tlearn: 0.0326204\ttotal: 332ms\tremaining: 295ms\n",
      "530:\tlearn: 0.0324295\ttotal: 333ms\tremaining: 294ms\n",
      "531:\tlearn: 0.0323277\ttotal: 333ms\tremaining: 293ms\n",
      "532:\tlearn: 0.0321723\ttotal: 334ms\tremaining: 292ms\n",
      "533:\tlearn: 0.0319870\ttotal: 334ms\tremaining: 292ms\n",
      "534:\tlearn: 0.0318234\ttotal: 335ms\tremaining: 291ms\n",
      "535:\tlearn: 0.0317252\ttotal: 335ms\tremaining: 290ms\n",
      "536:\tlearn: 0.0315757\ttotal: 335ms\tremaining: 289ms\n",
      "537:\tlearn: 0.0314169\ttotal: 336ms\tremaining: 288ms\n",
      "538:\tlearn: 0.0312714\ttotal: 336ms\tremaining: 288ms\n",
      "539:\tlearn: 0.0311514\ttotal: 338ms\tremaining: 288ms\n",
      "540:\tlearn: 0.0310098\ttotal: 339ms\tremaining: 288ms\n",
      "541:\tlearn: 0.0308930\ttotal: 340ms\tremaining: 287ms\n",
      "542:\tlearn: 0.0307517\ttotal: 340ms\tremaining: 286ms\n",
      "543:\tlearn: 0.0305780\ttotal: 341ms\tremaining: 286ms\n",
      "544:\tlearn: 0.0304856\ttotal: 341ms\tremaining: 285ms\n",
      "545:\tlearn: 0.0303764\ttotal: 342ms\tremaining: 284ms\n",
      "546:\tlearn: 0.0302261\ttotal: 342ms\tremaining: 283ms\n",
      "547:\tlearn: 0.0301414\ttotal: 343ms\tremaining: 283ms\n",
      "548:\tlearn: 0.0299660\ttotal: 343ms\tremaining: 282ms\n",
      "549:\tlearn: 0.0298792\ttotal: 344ms\tremaining: 281ms\n",
      "550:\tlearn: 0.0297448\ttotal: 344ms\tremaining: 280ms\n",
      "551:\tlearn: 0.0296639\ttotal: 345ms\tremaining: 280ms\n",
      "552:\tlearn: 0.0295265\ttotal: 345ms\tremaining: 279ms\n",
      "553:\tlearn: 0.0293567\ttotal: 346ms\tremaining: 278ms\n",
      "554:\tlearn: 0.0292556\ttotal: 346ms\tremaining: 278ms\n",
      "555:\tlearn: 0.0291634\ttotal: 347ms\tremaining: 277ms\n",
      "556:\tlearn: 0.0289978\ttotal: 347ms\tremaining: 276ms\n",
      "557:\tlearn: 0.0289386\ttotal: 348ms\tremaining: 275ms\n",
      "558:\tlearn: 0.0288418\ttotal: 348ms\tremaining: 275ms\n",
      "559:\tlearn: 0.0286801\ttotal: 349ms\tremaining: 274ms\n",
      "560:\tlearn: 0.0285626\ttotal: 349ms\tremaining: 273ms\n",
      "561:\tlearn: 0.0285052\ttotal: 350ms\tremaining: 273ms\n",
      "562:\tlearn: 0.0283780\ttotal: 350ms\tremaining: 272ms\n",
      "563:\tlearn: 0.0282212\ttotal: 351ms\tremaining: 271ms\n",
      "564:\tlearn: 0.0281291\ttotal: 351ms\tremaining: 270ms\n",
      "565:\tlearn: 0.0280736\ttotal: 352ms\tremaining: 270ms\n",
      "566:\tlearn: 0.0279841\ttotal: 353ms\tremaining: 269ms\n",
      "567:\tlearn: 0.0278334\ttotal: 353ms\tremaining: 269ms\n",
      "568:\tlearn: 0.0277104\ttotal: 354ms\tremaining: 268ms\n",
      "569:\tlearn: 0.0276570\ttotal: 354ms\tremaining: 267ms\n",
      "570:\tlearn: 0.0275105\ttotal: 355ms\tremaining: 267ms\n",
      "571:\tlearn: 0.0273851\ttotal: 355ms\tremaining: 266ms\n",
      "572:\tlearn: 0.0272340\ttotal: 356ms\tremaining: 265ms\n",
      "573:\tlearn: 0.0271451\ttotal: 356ms\tremaining: 264ms\n",
      "574:\tlearn: 0.0270936\ttotal: 356ms\tremaining: 263ms\n",
      "575:\tlearn: 0.0269531\ttotal: 357ms\tremaining: 263ms\n",
      "576:\tlearn: 0.0268381\ttotal: 357ms\tremaining: 262ms\n",
      "577:\tlearn: 0.0266925\ttotal: 358ms\tremaining: 261ms\n",
      "578:\tlearn: 0.0266265\ttotal: 358ms\tremaining: 260ms\n",
      "579:\tlearn: 0.0265618\ttotal: 359ms\tremaining: 260ms\n",
      "580:\tlearn: 0.0264270\ttotal: 359ms\tremaining: 259ms\n",
      "581:\tlearn: 0.0262998\ttotal: 360ms\tremaining: 258ms\n",
      "582:\tlearn: 0.0261749\ttotal: 360ms\tremaining: 258ms\n",
      "583:\tlearn: 0.0260532\ttotal: 361ms\tremaining: 257ms\n",
      "584:\tlearn: 0.0260053\ttotal: 362ms\tremaining: 256ms\n",
      "585:\tlearn: 0.0258767\ttotal: 362ms\tremaining: 256ms\n",
      "586:\tlearn: 0.0257069\ttotal: 363ms\tremaining: 255ms\n",
      "587:\tlearn: 0.0255704\ttotal: 363ms\tremaining: 255ms\n",
      "588:\tlearn: 0.0255241\ttotal: 364ms\tremaining: 254ms\n",
      "589:\tlearn: 0.0254433\ttotal: 364ms\tremaining: 253ms\n"
     ]
    },
    {
     "name": "stdout",
     "output_type": "stream",
     "text": [
      "590:\tlearn: 0.0253910\ttotal: 366ms\tremaining: 253ms\n",
      "591:\tlearn: 0.0253461\ttotal: 367ms\tremaining: 253ms\n",
      "592:\tlearn: 0.0252947\ttotal: 368ms\tremaining: 252ms\n",
      "593:\tlearn: 0.0252081\ttotal: 368ms\tremaining: 252ms\n",
      "594:\tlearn: 0.0251576\ttotal: 369ms\tremaining: 251ms\n",
      "595:\tlearn: 0.0251145\ttotal: 369ms\tremaining: 250ms\n",
      "596:\tlearn: 0.0250649\ttotal: 370ms\tremaining: 250ms\n",
      "597:\tlearn: 0.0249031\ttotal: 370ms\tremaining: 249ms\n",
      "598:\tlearn: 0.0247281\ttotal: 371ms\tremaining: 248ms\n",
      "599:\tlearn: 0.0246525\ttotal: 371ms\tremaining: 247ms\n",
      "600:\tlearn: 0.0246044\ttotal: 372ms\tremaining: 247ms\n",
      "601:\tlearn: 0.0245650\ttotal: 372ms\tremaining: 246ms\n",
      "602:\tlearn: 0.0244084\ttotal: 372ms\tremaining: 245ms\n",
      "603:\tlearn: 0.0243011\ttotal: 373ms\tremaining: 245ms\n",
      "604:\tlearn: 0.0242633\ttotal: 374ms\tremaining: 244ms\n",
      "605:\tlearn: 0.0241947\ttotal: 374ms\tremaining: 243ms\n",
      "606:\tlearn: 0.0240634\ttotal: 374ms\tremaining: 242ms\n",
      "607:\tlearn: 0.0240171\ttotal: 375ms\tremaining: 242ms\n",
      "608:\tlearn: 0.0238666\ttotal: 375ms\tremaining: 241ms\n",
      "609:\tlearn: 0.0237015\ttotal: 376ms\tremaining: 240ms\n",
      "610:\tlearn: 0.0235935\ttotal: 376ms\tremaining: 239ms\n",
      "611:\tlearn: 0.0234480\ttotal: 376ms\tremaining: 239ms\n",
      "612:\tlearn: 0.0233234\ttotal: 377ms\tremaining: 238ms\n",
      "613:\tlearn: 0.0232791\ttotal: 377ms\tremaining: 237ms\n",
      "614:\tlearn: 0.0232353\ttotal: 378ms\tremaining: 236ms\n",
      "615:\tlearn: 0.0232008\ttotal: 378ms\tremaining: 236ms\n",
      "616:\tlearn: 0.0230684\ttotal: 378ms\tremaining: 235ms\n",
      "617:\tlearn: 0.0229657\ttotal: 379ms\tremaining: 234ms\n",
      "618:\tlearn: 0.0228094\ttotal: 379ms\tremaining: 234ms\n",
      "619:\tlearn: 0.0227670\ttotal: 381ms\tremaining: 233ms\n",
      "620:\tlearn: 0.0226139\ttotal: 382ms\tremaining: 233ms\n",
      "621:\tlearn: 0.0225722\ttotal: 382ms\tremaining: 232ms\n",
      "622:\tlearn: 0.0225311\ttotal: 383ms\tremaining: 232ms\n",
      "623:\tlearn: 0.0224318\ttotal: 383ms\tremaining: 231ms\n",
      "624:\tlearn: 0.0223888\ttotal: 384ms\tremaining: 230ms\n",
      "625:\tlearn: 0.0222397\ttotal: 384ms\tremaining: 230ms\n",
      "626:\tlearn: 0.0222000\ttotal: 385ms\tremaining: 229ms\n",
      "627:\tlearn: 0.0221608\ttotal: 385ms\tremaining: 228ms\n",
      "628:\tlearn: 0.0221196\ttotal: 386ms\tremaining: 228ms\n",
      "629:\tlearn: 0.0219966\ttotal: 386ms\tremaining: 227ms\n",
      "630:\tlearn: 0.0218778\ttotal: 387ms\tremaining: 226ms\n",
      "631:\tlearn: 0.0217339\ttotal: 387ms\tremaining: 225ms\n",
      "632:\tlearn: 0.0216961\ttotal: 388ms\tremaining: 225ms\n",
      "633:\tlearn: 0.0216589\ttotal: 388ms\tremaining: 224ms\n",
      "634:\tlearn: 0.0216198\ttotal: 389ms\tremaining: 223ms\n",
      "635:\tlearn: 0.0215144\ttotal: 389ms\tremaining: 223ms\n",
      "636:\tlearn: 0.0214265\ttotal: 390ms\tremaining: 222ms\n",
      "637:\tlearn: 0.0212872\ttotal: 390ms\tremaining: 221ms\n",
      "638:\tlearn: 0.0212514\ttotal: 390ms\tremaining: 221ms\n",
      "639:\tlearn: 0.0211621\ttotal: 391ms\tremaining: 220ms\n",
      "640:\tlearn: 0.0211271\ttotal: 391ms\tremaining: 219ms\n",
      "641:\tlearn: 0.0209915\ttotal: 392ms\tremaining: 219ms\n",
      "642:\tlearn: 0.0209048\ttotal: 392ms\tremaining: 218ms\n",
      "643:\tlearn: 0.0208196\ttotal: 393ms\tremaining: 217ms\n",
      "644:\tlearn: 0.0207106\ttotal: 393ms\tremaining: 216ms\n",
      "645:\tlearn: 0.0206769\ttotal: 394ms\tremaining: 216ms\n",
      "646:\tlearn: 0.0205911\ttotal: 394ms\tremaining: 215ms\n",
      "647:\tlearn: 0.0205138\ttotal: 394ms\tremaining: 214ms\n",
      "648:\tlearn: 0.0204080\ttotal: 395ms\tremaining: 214ms\n",
      "649:\tlearn: 0.0203040\ttotal: 396ms\tremaining: 213ms\n",
      "650:\tlearn: 0.0202187\ttotal: 397ms\tremaining: 213ms\n",
      "651:\tlearn: 0.0201864\ttotal: 398ms\tremaining: 212ms\n",
      "652:\tlearn: 0.0201118\ttotal: 398ms\tremaining: 212ms\n",
      "653:\tlearn: 0.0200073\ttotal: 399ms\tremaining: 211ms\n",
      "654:\tlearn: 0.0199059\ttotal: 400ms\tremaining: 210ms\n",
      "655:\tlearn: 0.0198335\ttotal: 400ms\tremaining: 210ms\n",
      "656:\tlearn: 0.0197337\ttotal: 400ms\tremaining: 209ms\n",
      "657:\tlearn: 0.0196535\ttotal: 401ms\tremaining: 208ms\n",
      "658:\tlearn: 0.0195827\ttotal: 401ms\tremaining: 208ms\n",
      "659:\tlearn: 0.0194825\ttotal: 402ms\tremaining: 207ms\n",
      "660:\tlearn: 0.0194043\ttotal: 402ms\tremaining: 206ms\n",
      "661:\tlearn: 0.0193075\ttotal: 403ms\tremaining: 206ms\n",
      "662:\tlearn: 0.0192391\ttotal: 403ms\tremaining: 205ms\n",
      "663:\tlearn: 0.0191404\ttotal: 403ms\tremaining: 204ms\n",
      "664:\tlearn: 0.0190643\ttotal: 404ms\tremaining: 203ms\n",
      "665:\tlearn: 0.0189645\ttotal: 404ms\tremaining: 203ms\n",
      "666:\tlearn: 0.0188669\ttotal: 405ms\tremaining: 202ms\n",
      "667:\tlearn: 0.0187474\ttotal: 405ms\tremaining: 201ms\n",
      "668:\tlearn: 0.0186532\ttotal: 406ms\tremaining: 201ms\n",
      "669:\tlearn: 0.0185608\ttotal: 406ms\tremaining: 200ms\n",
      "670:\tlearn: 0.0184703\ttotal: 407ms\tremaining: 199ms\n",
      "671:\tlearn: 0.0183816\ttotal: 407ms\tremaining: 199ms\n",
      "672:\tlearn: 0.0183008\ttotal: 408ms\tremaining: 198ms\n",
      "673:\tlearn: 0.0182079\ttotal: 408ms\tremaining: 197ms\n",
      "674:\tlearn: 0.0181169\ttotal: 409ms\tremaining: 197ms\n",
      "675:\tlearn: 0.0180279\ttotal: 409ms\tremaining: 196ms\n",
      "676:\tlearn: 0.0179413\ttotal: 410ms\tremaining: 196ms\n",
      "677:\tlearn: 0.0178548\ttotal: 410ms\tremaining: 195ms\n",
      "678:\tlearn: 0.0177701\ttotal: 411ms\tremaining: 194ms\n",
      "679:\tlearn: 0.0176974\ttotal: 412ms\tremaining: 194ms\n",
      "680:\tlearn: 0.0176258\ttotal: 412ms\tremaining: 193ms\n",
      "681:\tlearn: 0.0175554\ttotal: 413ms\tremaining: 192ms\n",
      "682:\tlearn: 0.0174903\ttotal: 413ms\tremaining: 192ms\n",
      "683:\tlearn: 0.0174267\ttotal: 414ms\tremaining: 191ms\n",
      "684:\tlearn: 0.0173448\ttotal: 414ms\tremaining: 191ms\n",
      "685:\tlearn: 0.0172829\ttotal: 415ms\tremaining: 190ms\n",
      "686:\tlearn: 0.0172029\ttotal: 415ms\tremaining: 189ms\n",
      "687:\tlearn: 0.0171754\ttotal: 416ms\tremaining: 189ms\n",
      "688:\tlearn: 0.0170972\ttotal: 416ms\tremaining: 188ms\n",
      "689:\tlearn: 0.0170475\ttotal: 417ms\tremaining: 187ms\n",
      "690:\tlearn: 0.0169986\ttotal: 417ms\tremaining: 187ms\n",
      "691:\tlearn: 0.0169212\ttotal: 418ms\tremaining: 186ms\n",
      "692:\tlearn: 0.0168733\ttotal: 418ms\tremaining: 185ms\n",
      "693:\tlearn: 0.0168248\ttotal: 419ms\tremaining: 185ms\n",
      "694:\tlearn: 0.0167508\ttotal: 419ms\tremaining: 184ms\n",
      "695:\tlearn: 0.0166992\ttotal: 420ms\tremaining: 183ms\n",
      "696:\tlearn: 0.0166519\ttotal: 420ms\tremaining: 183ms\n",
      "697:\tlearn: 0.0165789\ttotal: 421ms\tremaining: 182ms\n",
      "698:\tlearn: 0.0165351\ttotal: 421ms\tremaining: 181ms\n",
      "699:\tlearn: 0.0164969\ttotal: 421ms\tremaining: 181ms\n",
      "700:\tlearn: 0.0164225\ttotal: 422ms\tremaining: 180ms\n",
      "701:\tlearn: 0.0163722\ttotal: 422ms\tremaining: 179ms\n",
      "702:\tlearn: 0.0162838\ttotal: 423ms\tremaining: 179ms\n",
      "703:\tlearn: 0.0162137\ttotal: 423ms\tremaining: 178ms\n",
      "704:\tlearn: 0.0161703\ttotal: 424ms\tremaining: 177ms\n",
      "705:\tlearn: 0.0161375\ttotal: 424ms\tremaining: 177ms\n",
      "706:\tlearn: 0.0160692\ttotal: 425ms\tremaining: 176ms\n",
      "707:\tlearn: 0.0159836\ttotal: 425ms\tremaining: 175ms\n",
      "708:\tlearn: 0.0159171\ttotal: 425ms\tremaining: 175ms\n",
      "709:\tlearn: 0.0158751\ttotal: 426ms\tremaining: 174ms\n",
      "710:\tlearn: 0.0158430\ttotal: 427ms\tremaining: 173ms\n",
      "711:\tlearn: 0.0157597\ttotal: 427ms\tremaining: 173ms\n",
      "712:\tlearn: 0.0157190\ttotal: 428ms\tremaining: 172ms\n",
      "713:\tlearn: 0.0156558\ttotal: 428ms\tremaining: 172ms\n",
      "714:\tlearn: 0.0156242\ttotal: 429ms\tremaining: 171ms\n",
      "715:\tlearn: 0.0155615\ttotal: 429ms\tremaining: 170ms\n",
      "716:\tlearn: 0.0155289\ttotal: 430ms\tremaining: 170ms\n",
      "717:\tlearn: 0.0154982\ttotal: 430ms\tremaining: 169ms\n",
      "718:\tlearn: 0.0154223\ttotal: 430ms\tremaining: 168ms\n",
      "719:\tlearn: 0.0153425\ttotal: 431ms\tremaining: 168ms\n",
      "720:\tlearn: 0.0152811\ttotal: 431ms\tremaining: 167ms\n",
      "721:\tlearn: 0.0152423\ttotal: 432ms\tremaining: 166ms\n",
      "722:\tlearn: 0.0151899\ttotal: 432ms\tremaining: 166ms\n",
      "723:\tlearn: 0.0151299\ttotal: 433ms\tremaining: 165ms\n",
      "724:\tlearn: 0.0150922\ttotal: 433ms\tremaining: 164ms\n",
      "725:\tlearn: 0.0150417\ttotal: 433ms\tremaining: 164ms\n",
      "726:\tlearn: 0.0150049\ttotal: 434ms\tremaining: 163ms\n",
      "727:\tlearn: 0.0149464\ttotal: 434ms\tremaining: 162ms\n",
      "728:\tlearn: 0.0148979\ttotal: 435ms\tremaining: 162ms\n",
      "729:\tlearn: 0.0148550\ttotal: 435ms\tremaining: 161ms\n",
      "730:\tlearn: 0.0147978\ttotal: 435ms\tremaining: 160ms\n",
      "731:\tlearn: 0.0147417\ttotal: 436ms\tremaining: 160ms\n",
      "732:\tlearn: 0.0147060\ttotal: 436ms\tremaining: 159ms\n",
      "733:\tlearn: 0.0146595\ttotal: 437ms\tremaining: 158ms\n",
      "734:\tlearn: 0.0146135\ttotal: 437ms\tremaining: 158ms\n",
      "735:\tlearn: 0.0145581\ttotal: 438ms\tremaining: 157ms\n",
      "736:\tlearn: 0.0145038\ttotal: 438ms\tremaining: 156ms\n",
      "737:\tlearn: 0.0144498\ttotal: 439ms\tremaining: 156ms\n",
      "738:\tlearn: 0.0144225\ttotal: 440ms\tremaining: 156ms\n",
      "739:\tlearn: 0.0143695\ttotal: 441ms\tremaining: 155ms\n",
      "740:\tlearn: 0.0143481\ttotal: 442ms\tremaining: 154ms\n",
      "741:\tlearn: 0.0143043\ttotal: 442ms\tremaining: 154ms\n",
      "742:\tlearn: 0.0142519\ttotal: 443ms\tremaining: 153ms\n",
      "743:\tlearn: 0.0142066\ttotal: 443ms\tremaining: 153ms\n",
      "744:\tlearn: 0.0141295\ttotal: 444ms\tremaining: 152ms\n",
      "745:\tlearn: 0.0140843\ttotal: 444ms\tremaining: 151ms\n",
      "746:\tlearn: 0.0140523\ttotal: 445ms\tremaining: 151ms\n",
      "747:\tlearn: 0.0140018\ttotal: 446ms\tremaining: 150ms\n",
      "748:\tlearn: 0.0139761\ttotal: 446ms\tremaining: 149ms\n",
      "749:\tlearn: 0.0139295\ttotal: 447ms\tremaining: 149ms\n",
      "750:\tlearn: 0.0138858\ttotal: 447ms\tremaining: 148ms\n",
      "751:\tlearn: 0.0138606\ttotal: 447ms\tremaining: 148ms\n",
      "752:\tlearn: 0.0138194\ttotal: 448ms\tremaining: 147ms\n",
      "753:\tlearn: 0.0137704\ttotal: 448ms\tremaining: 146ms\n",
      "754:\tlearn: 0.0137458\ttotal: 449ms\tremaining: 146ms\n",
      "755:\tlearn: 0.0137216\ttotal: 449ms\tremaining: 145ms\n",
      "756:\tlearn: 0.0136723\ttotal: 450ms\tremaining: 144ms\n",
      "757:\tlearn: 0.0135990\ttotal: 450ms\tremaining: 144ms\n",
      "758:\tlearn: 0.0135544\ttotal: 450ms\tremaining: 143ms\n",
      "759:\tlearn: 0.0135309\ttotal: 451ms\tremaining: 142ms\n",
      "760:\tlearn: 0.0134888\ttotal: 451ms\tremaining: 142ms\n",
      "761:\tlearn: 0.0134354\ttotal: 452ms\tremaining: 141ms\n",
      "762:\tlearn: 0.0134162\ttotal: 452ms\tremaining: 140ms\n",
      "763:\tlearn: 0.0133727\ttotal: 452ms\tremaining: 140ms\n",
      "764:\tlearn: 0.0133059\ttotal: 453ms\tremaining: 139ms\n",
      "765:\tlearn: 0.0132417\ttotal: 453ms\tremaining: 138ms\n",
      "766:\tlearn: 0.0131812\ttotal: 453ms\tremaining: 138ms\n",
      "767:\tlearn: 0.0131624\ttotal: 454ms\tremaining: 137ms\n",
      "768:\tlearn: 0.0131439\ttotal: 454ms\tremaining: 136ms\n",
      "769:\tlearn: 0.0131253\ttotal: 455ms\tremaining: 136ms\n",
      "770:\tlearn: 0.0130610\ttotal: 457ms\tremaining: 136ms\n",
      "771:\tlearn: 0.0130428\ttotal: 458ms\tremaining: 135ms\n",
      "772:\tlearn: 0.0130249\ttotal: 458ms\tremaining: 135ms\n",
      "773:\tlearn: 0.0129834\ttotal: 459ms\tremaining: 134ms\n",
      "774:\tlearn: 0.0129656\ttotal: 460ms\tremaining: 133ms\n",
      "775:\tlearn: 0.0129174\ttotal: 460ms\tremaining: 133ms\n",
      "776:\tlearn: 0.0129000\ttotal: 460ms\tremaining: 132ms\n",
      "777:\tlearn: 0.0128461\ttotal: 461ms\tremaining: 132ms\n",
      "778:\tlearn: 0.0127788\ttotal: 461ms\tremaining: 131ms\n"
     ]
    },
    {
     "name": "stdout",
     "output_type": "stream",
     "text": [
      "779:\tlearn: 0.0127181\ttotal: 462ms\tremaining: 130ms\n",
      "780:\tlearn: 0.0126702\ttotal: 463ms\tremaining: 130ms\n",
      "781:\tlearn: 0.0126275\ttotal: 463ms\tremaining: 129ms\n",
      "782:\tlearn: 0.0125598\ttotal: 463ms\tremaining: 128ms\n",
      "783:\tlearn: 0.0124936\ttotal: 464ms\tremaining: 128ms\n",
      "784:\tlearn: 0.0124466\ttotal: 464ms\tremaining: 127ms\n",
      "785:\tlearn: 0.0124020\ttotal: 465ms\tremaining: 127ms\n",
      "786:\tlearn: 0.0123852\ttotal: 465ms\tremaining: 126ms\n",
      "787:\tlearn: 0.0123270\ttotal: 466ms\tremaining: 125ms\n",
      "788:\tlearn: 0.0122820\ttotal: 466ms\tremaining: 125ms\n",
      "789:\tlearn: 0.0122479\ttotal: 467ms\tremaining: 124ms\n",
      "790:\tlearn: 0.0122235\ttotal: 467ms\tremaining: 124ms\n",
      "791:\tlearn: 0.0121767\ttotal: 468ms\tremaining: 123ms\n",
      "792:\tlearn: 0.0121203\ttotal: 468ms\tremaining: 122ms\n",
      "793:\tlearn: 0.0120970\ttotal: 468ms\tremaining: 122ms\n",
      "794:\tlearn: 0.0120740\ttotal: 469ms\tremaining: 121ms\n",
      "795:\tlearn: 0.0120083\ttotal: 470ms\tremaining: 120ms\n",
      "796:\tlearn: 0.0119573\ttotal: 470ms\tremaining: 120ms\n",
      "797:\tlearn: 0.0119075\ttotal: 471ms\tremaining: 119ms\n",
      "798:\tlearn: 0.0118840\ttotal: 471ms\tremaining: 119ms\n",
      "799:\tlearn: 0.0118399\ttotal: 472ms\tremaining: 118ms\n",
      "800:\tlearn: 0.0117911\ttotal: 472ms\tremaining: 117ms\n",
      "801:\tlearn: 0.0117557\ttotal: 473ms\tremaining: 117ms\n",
      "802:\tlearn: 0.0117337\ttotal: 473ms\tremaining: 116ms\n",
      "803:\tlearn: 0.0117120\ttotal: 474ms\tremaining: 116ms\n",
      "804:\tlearn: 0.0116712\ttotal: 474ms\tremaining: 115ms\n",
      "805:\tlearn: 0.0116279\ttotal: 475ms\tremaining: 114ms\n",
      "806:\tlearn: 0.0115854\ttotal: 475ms\tremaining: 114ms\n",
      "807:\tlearn: 0.0115395\ttotal: 476ms\tremaining: 113ms\n",
      "808:\tlearn: 0.0115076\ttotal: 476ms\tremaining: 112ms\n",
      "809:\tlearn: 0.0114672\ttotal: 476ms\tremaining: 112ms\n",
      "810:\tlearn: 0.0114462\ttotal: 477ms\tremaining: 111ms\n",
      "811:\tlearn: 0.0113939\ttotal: 478ms\tremaining: 111ms\n",
      "812:\tlearn: 0.0113733\ttotal: 478ms\tremaining: 110ms\n",
      "813:\tlearn: 0.0113529\ttotal: 479ms\tremaining: 109ms\n",
      "814:\tlearn: 0.0113099\ttotal: 479ms\tremaining: 109ms\n",
      "815:\tlearn: 0.0112691\ttotal: 480ms\tremaining: 108ms\n",
      "816:\tlearn: 0.0112259\ttotal: 480ms\tremaining: 108ms\n",
      "817:\tlearn: 0.0112062\ttotal: 481ms\tremaining: 107ms\n",
      "818:\tlearn: 0.0111655\ttotal: 481ms\tremaining: 106ms\n",
      "819:\tlearn: 0.0111461\ttotal: 482ms\tremaining: 106ms\n",
      "820:\tlearn: 0.0111059\ttotal: 482ms\tremaining: 105ms\n",
      "821:\tlearn: 0.0110867\ttotal: 483ms\tremaining: 104ms\n",
      "822:\tlearn: 0.0110366\ttotal: 483ms\tremaining: 104ms\n",
      "823:\tlearn: 0.0109830\ttotal: 483ms\tremaining: 103ms\n",
      "824:\tlearn: 0.0109325\ttotal: 484ms\tremaining: 103ms\n",
      "825:\tlearn: 0.0108831\ttotal: 484ms\tremaining: 102ms\n",
      "826:\tlearn: 0.0108349\ttotal: 485ms\tremaining: 101ms\n",
      "827:\tlearn: 0.0107903\ttotal: 485ms\tremaining: 101ms\n",
      "828:\tlearn: 0.0107668\ttotal: 486ms\tremaining: 100ms\n",
      "829:\tlearn: 0.0107186\ttotal: 487ms\tremaining: 99.7ms\n",
      "830:\tlearn: 0.0106586\ttotal: 487ms\tremaining: 99.1ms\n",
      "831:\tlearn: 0.0106076\ttotal: 488ms\tremaining: 98.5ms\n",
      "832:\tlearn: 0.0105577\ttotal: 489ms\tremaining: 97.9ms\n",
      "833:\tlearn: 0.0105114\ttotal: 489ms\tremaining: 97.4ms\n",
      "834:\tlearn: 0.0104629\ttotal: 490ms\tremaining: 96.7ms\n",
      "835:\tlearn: 0.0104190\ttotal: 490ms\tremaining: 96.1ms\n",
      "836:\tlearn: 0.0103770\ttotal: 490ms\tremaining: 95.5ms\n",
      "837:\tlearn: 0.0103445\ttotal: 491ms\tremaining: 94.9ms\n",
      "838:\tlearn: 0.0103072\ttotal: 491ms\tremaining: 94.3ms\n",
      "839:\tlearn: 0.0102605\ttotal: 492ms\tremaining: 93.6ms\n",
      "840:\tlearn: 0.0102102\ttotal: 492ms\tremaining: 93ms\n",
      "841:\tlearn: 0.0101879\ttotal: 492ms\tremaining: 92.4ms\n",
      "842:\tlearn: 0.0101661\ttotal: 493ms\tremaining: 91.8ms\n",
      "843:\tlearn: 0.0101283\ttotal: 493ms\tremaining: 91.2ms\n",
      "844:\tlearn: 0.0100973\ttotal: 494ms\tremaining: 90.6ms\n",
      "845:\tlearn: 0.0100486\ttotal: 494ms\tremaining: 90ms\n",
      "846:\tlearn: 0.0100273\ttotal: 495ms\tremaining: 89.3ms\n",
      "847:\tlearn: 0.0099622\ttotal: 495ms\tremaining: 88.7ms\n",
      "848:\tlearn: 0.0099176\ttotal: 495ms\tremaining: 88.1ms\n",
      "849:\tlearn: 0.0098824\ttotal: 496ms\tremaining: 87.5ms\n",
      "850:\tlearn: 0.0098493\ttotal: 496ms\tremaining: 86.9ms\n",
      "851:\tlearn: 0.0098024\ttotal: 497ms\tremaining: 86.3ms\n",
      "852:\tlearn: 0.0097819\ttotal: 497ms\tremaining: 85.7ms\n",
      "853:\tlearn: 0.0097219\ttotal: 498ms\tremaining: 85.1ms\n",
      "854:\tlearn: 0.0096878\ttotal: 498ms\tremaining: 84.5ms\n",
      "855:\tlearn: 0.0096480\ttotal: 499ms\tremaining: 83.9ms\n",
      "856:\tlearn: 0.0096254\ttotal: 499ms\tremaining: 83.3ms\n",
      "857:\tlearn: 0.0095779\ttotal: 500ms\tremaining: 82.7ms\n",
      "858:\tlearn: 0.0095513\ttotal: 500ms\tremaining: 82.1ms\n",
      "859:\tlearn: 0.0095352\ttotal: 502ms\tremaining: 81.6ms\n",
      "860:\tlearn: 0.0095142\ttotal: 503ms\tremaining: 81.2ms\n",
      "861:\tlearn: 0.0094946\ttotal: 503ms\tremaining: 80.6ms\n",
      "862:\tlearn: 0.0094588\ttotal: 504ms\tremaining: 80ms\n",
      "863:\tlearn: 0.0094437\ttotal: 504ms\tremaining: 79.4ms\n",
      "864:\tlearn: 0.0094179\ttotal: 505ms\tremaining: 78.8ms\n",
      "865:\tlearn: 0.0093962\ttotal: 505ms\tremaining: 78.2ms\n",
      "866:\tlearn: 0.0093809\ttotal: 506ms\tremaining: 77.6ms\n",
      "867:\tlearn: 0.0093628\ttotal: 506ms\tremaining: 77ms\n",
      "868:\tlearn: 0.0093054\ttotal: 507ms\tremaining: 76.4ms\n",
      "869:\tlearn: 0.0092845\ttotal: 507ms\tremaining: 75.8ms\n",
      "870:\tlearn: 0.0092418\ttotal: 508ms\tremaining: 75.2ms\n",
      "871:\tlearn: 0.0092168\ttotal: 508ms\tremaining: 74.6ms\n",
      "872:\tlearn: 0.0092022\ttotal: 509ms\tremaining: 74ms\n",
      "873:\tlearn: 0.0091685\ttotal: 509ms\tremaining: 73.4ms\n",
      "874:\tlearn: 0.0091503\ttotal: 510ms\tremaining: 72.8ms\n",
      "875:\tlearn: 0.0090980\ttotal: 510ms\tremaining: 72.2ms\n",
      "876:\tlearn: 0.0090587\ttotal: 511ms\tremaining: 71.6ms\n",
      "877:\tlearn: 0.0090345\ttotal: 511ms\tremaining: 71ms\n",
      "878:\tlearn: 0.0090153\ttotal: 512ms\tremaining: 70.5ms\n",
      "879:\tlearn: 0.0089978\ttotal: 512ms\tremaining: 69.9ms\n",
      "880:\tlearn: 0.0089778\ttotal: 513ms\tremaining: 69.3ms\n",
      "881:\tlearn: 0.0089400\ttotal: 513ms\tremaining: 68.7ms\n",
      "882:\tlearn: 0.0089216\ttotal: 514ms\tremaining: 68.1ms\n",
      "883:\tlearn: 0.0089045\ttotal: 514ms\tremaining: 67.5ms\n",
      "884:\tlearn: 0.0088933\ttotal: 514ms\tremaining: 66.9ms\n",
      "885:\tlearn: 0.0088549\ttotal: 515ms\tremaining: 66.2ms\n",
      "886:\tlearn: 0.0088431\ttotal: 515ms\tremaining: 65.7ms\n",
      "887:\tlearn: 0.0088058\ttotal: 516ms\tremaining: 65.1ms\n",
      "888:\tlearn: 0.0087867\ttotal: 517ms\tremaining: 64.5ms\n",
      "889:\tlearn: 0.0087751\ttotal: 517ms\tremaining: 63.9ms\n",
      "890:\tlearn: 0.0087590\ttotal: 518ms\tremaining: 63.3ms\n",
      "891:\tlearn: 0.0087456\ttotal: 518ms\tremaining: 62.7ms\n",
      "892:\tlearn: 0.0087081\ttotal: 519ms\tremaining: 62.1ms\n",
      "893:\tlearn: 0.0086895\ttotal: 519ms\tremaining: 61.6ms\n",
      "894:\tlearn: 0.0086620\ttotal: 520ms\tremaining: 60.9ms\n",
      "895:\tlearn: 0.0086366\ttotal: 520ms\tremaining: 60.4ms\n",
      "896:\tlearn: 0.0086118\ttotal: 521ms\tremaining: 59.8ms\n",
      "897:\tlearn: 0.0086012\ttotal: 521ms\tremaining: 59.2ms\n",
      "898:\tlearn: 0.0085860\ttotal: 521ms\tremaining: 58.6ms\n",
      "899:\tlearn: 0.0085597\ttotal: 522ms\tremaining: 58ms\n",
      "900:\tlearn: 0.0085326\ttotal: 522ms\tremaining: 57.4ms\n",
      "901:\tlearn: 0.0085215\ttotal: 523ms\tremaining: 56.8ms\n",
      "902:\tlearn: 0.0084982\ttotal: 523ms\tremaining: 56.2ms\n",
      "903:\tlearn: 0.0084874\ttotal: 524ms\tremaining: 55.6ms\n",
      "904:\tlearn: 0.0084582\ttotal: 524ms\tremaining: 55ms\n",
      "905:\tlearn: 0.0084456\ttotal: 525ms\tremaining: 54.5ms\n",
      "906:\tlearn: 0.0084282\ttotal: 525ms\tremaining: 53.9ms\n",
      "907:\tlearn: 0.0084027\ttotal: 526ms\tremaining: 53.3ms\n",
      "908:\tlearn: 0.0083792\ttotal: 526ms\tremaining: 52.7ms\n",
      "909:\tlearn: 0.0083564\ttotal: 527ms\tremaining: 52.1ms\n",
      "910:\tlearn: 0.0083459\ttotal: 527ms\tremaining: 51.5ms\n",
      "911:\tlearn: 0.0083317\ttotal: 528ms\tremaining: 50.9ms\n",
      "912:\tlearn: 0.0083151\ttotal: 529ms\tremaining: 50.4ms\n",
      "913:\tlearn: 0.0083048\ttotal: 529ms\tremaining: 49.8ms\n",
      "914:\tlearn: 0.0082929\ttotal: 529ms\tremaining: 49.2ms\n",
      "915:\tlearn: 0.0082587\ttotal: 530ms\tremaining: 48.6ms\n",
      "916:\tlearn: 0.0082422\ttotal: 530ms\tremaining: 48ms\n",
      "917:\tlearn: 0.0082321\ttotal: 531ms\tremaining: 47.4ms\n",
      "918:\tlearn: 0.0082080\ttotal: 532ms\tremaining: 46.9ms\n",
      "919:\tlearn: 0.0081842\ttotal: 532ms\tremaining: 46.3ms\n",
      "920:\tlearn: 0.0081608\ttotal: 533ms\tremaining: 45.7ms\n",
      "921:\tlearn: 0.0081391\ttotal: 533ms\tremaining: 45.1ms\n",
      "922:\tlearn: 0.0081232\ttotal: 533ms\tremaining: 44.5ms\n",
      "923:\tlearn: 0.0080991\ttotal: 534ms\tremaining: 43.9ms\n",
      "924:\tlearn: 0.0080778\ttotal: 534ms\tremaining: 43.3ms\n",
      "925:\tlearn: 0.0080573\ttotal: 535ms\tremaining: 42.7ms\n",
      "926:\tlearn: 0.0080421\ttotal: 535ms\tremaining: 42.1ms\n",
      "927:\tlearn: 0.0080266\ttotal: 536ms\tremaining: 41.6ms\n",
      "928:\tlearn: 0.0080168\ttotal: 536ms\tremaining: 41ms\n",
      "929:\tlearn: 0.0080042\ttotal: 537ms\tremaining: 40.4ms\n",
      "930:\tlearn: 0.0079826\ttotal: 537ms\tremaining: 39.8ms\n",
      "931:\tlearn: 0.0079730\ttotal: 538ms\tremaining: 39.2ms\n",
      "932:\tlearn: 0.0079594\ttotal: 538ms\tremaining: 38.6ms\n",
      "933:\tlearn: 0.0079369\ttotal: 538ms\tremaining: 38ms\n",
      "934:\tlearn: 0.0079126\ttotal: 539ms\tremaining: 37.5ms\n",
      "935:\tlearn: 0.0078931\ttotal: 539ms\tremaining: 36.9ms\n",
      "936:\tlearn: 0.0078736\ttotal: 539ms\tremaining: 36.3ms\n",
      "937:\tlearn: 0.0078519\ttotal: 540ms\tremaining: 35.7ms\n",
      "938:\tlearn: 0.0078334\ttotal: 540ms\tremaining: 35.1ms\n",
      "939:\tlearn: 0.0078233\ttotal: 541ms\tremaining: 34.5ms\n",
      "940:\tlearn: 0.0078147\ttotal: 541ms\tremaining: 33.9ms\n",
      "941:\tlearn: 0.0078003\ttotal: 542ms\tremaining: 33.4ms\n",
      "942:\tlearn: 0.0077904\ttotal: 542ms\tremaining: 32.8ms\n",
      "943:\tlearn: 0.0077764\ttotal: 543ms\tremaining: 32.2ms\n",
      "944:\tlearn: 0.0077667\ttotal: 543ms\tremaining: 31.6ms\n",
      "945:\tlearn: 0.0077532\ttotal: 544ms\tremaining: 31ms\n",
      "946:\tlearn: 0.0077151\ttotal: 544ms\tremaining: 30.5ms\n",
      "947:\tlearn: 0.0077056\ttotal: 545ms\tremaining: 29.9ms\n",
      "948:\tlearn: 0.0076964\ttotal: 545ms\tremaining: 29.3ms\n",
      "949:\tlearn: 0.0076794\ttotal: 545ms\tremaining: 28.7ms\n"
     ]
    },
    {
     "name": "stdout",
     "output_type": "stream",
     "text": [
      "950:\tlearn: 0.0076486\ttotal: 547ms\tremaining: 28.2ms\n",
      "951:\tlearn: 0.0076395\ttotal: 548ms\tremaining: 27.6ms\n",
      "952:\tlearn: 0.0076305\ttotal: 548ms\tremaining: 27ms\n",
      "953:\tlearn: 0.0076198\ttotal: 549ms\tremaining: 26.5ms\n",
      "954:\tlearn: 0.0076110\ttotal: 549ms\tremaining: 25.9ms\n",
      "955:\tlearn: 0.0075810\ttotal: 550ms\tremaining: 25.3ms\n",
      "956:\tlearn: 0.0075450\ttotal: 550ms\tremaining: 24.7ms\n",
      "957:\tlearn: 0.0075234\ttotal: 551ms\tremaining: 24.1ms\n",
      "958:\tlearn: 0.0075109\ttotal: 551ms\tremaining: 23.6ms\n",
      "959:\tlearn: 0.0075023\ttotal: 551ms\tremaining: 23ms\n",
      "960:\tlearn: 0.0074939\ttotal: 552ms\tremaining: 22.4ms\n",
      "961:\tlearn: 0.0074648\ttotal: 552ms\tremaining: 21.8ms\n",
      "962:\tlearn: 0.0074301\ttotal: 553ms\tremaining: 21.2ms\n",
      "963:\tlearn: 0.0074140\ttotal: 553ms\tremaining: 20.6ms\n",
      "964:\tlearn: 0.0074058\ttotal: 553ms\tremaining: 20.1ms\n",
      "965:\tlearn: 0.0073947\ttotal: 554ms\tremaining: 19.5ms\n",
      "966:\tlearn: 0.0073630\ttotal: 554ms\tremaining: 18.9ms\n",
      "967:\tlearn: 0.0073550\ttotal: 555ms\tremaining: 18.3ms\n",
      "968:\tlearn: 0.0073451\ttotal: 555ms\tremaining: 17.8ms\n",
      "969:\tlearn: 0.0073009\ttotal: 556ms\tremaining: 17.2ms\n",
      "970:\tlearn: 0.0072853\ttotal: 556ms\tremaining: 16.6ms\n",
      "971:\tlearn: 0.0072514\ttotal: 557ms\tremaining: 16ms\n",
      "972:\tlearn: 0.0072437\ttotal: 557ms\tremaining: 15.5ms\n",
      "973:\tlearn: 0.0072283\ttotal: 558ms\tremaining: 14.9ms\n",
      "974:\tlearn: 0.0071954\ttotal: 558ms\tremaining: 14.3ms\n",
      "975:\tlearn: 0.0071861\ttotal: 559ms\tremaining: 13.7ms\n",
      "976:\tlearn: 0.0071576\ttotal: 559ms\tremaining: 13.2ms\n",
      "977:\tlearn: 0.0071426\ttotal: 559ms\tremaining: 12.6ms\n",
      "978:\tlearn: 0.0071353\ttotal: 560ms\tremaining: 12ms\n",
      "979:\tlearn: 0.0070985\ttotal: 560ms\tremaining: 11.4ms\n",
      "980:\tlearn: 0.0070633\ttotal: 562ms\tremaining: 10.9ms\n",
      "981:\tlearn: 0.0070560\ttotal: 563ms\tremaining: 10.3ms\n",
      "982:\tlearn: 0.0070217\ttotal: 563ms\tremaining: 9.74ms\n",
      "983:\tlearn: 0.0069803\ttotal: 564ms\tremaining: 9.17ms\n",
      "984:\tlearn: 0.0069714\ttotal: 564ms\tremaining: 8.59ms\n",
      "985:\tlearn: 0.0069384\ttotal: 565ms\tremaining: 8.02ms\n",
      "986:\tlearn: 0.0069298\ttotal: 565ms\tremaining: 7.44ms\n",
      "987:\tlearn: 0.0068975\ttotal: 566ms\tremaining: 6.87ms\n",
      "988:\tlearn: 0.0068605\ttotal: 566ms\tremaining: 6.29ms\n",
      "989:\tlearn: 0.0068473\ttotal: 566ms\tremaining: 5.72ms\n",
      "990:\tlearn: 0.0068404\ttotal: 567ms\tremaining: 5.15ms\n",
      "991:\tlearn: 0.0068155\ttotal: 567ms\tremaining: 4.58ms\n",
      "992:\tlearn: 0.0068103\ttotal: 568ms\tremaining: 4ms\n",
      "993:\tlearn: 0.0068053\ttotal: 568ms\tremaining: 3.43ms\n",
      "994:\tlearn: 0.0067988\ttotal: 569ms\tremaining: 2.86ms\n",
      "995:\tlearn: 0.0067719\ttotal: 569ms\tremaining: 2.29ms\n",
      "996:\tlearn: 0.0067455\ttotal: 570ms\tremaining: 1.71ms\n",
      "997:\tlearn: 0.0067249\ttotal: 570ms\tremaining: 1.14ms\n",
      "998:\tlearn: 0.0067047\ttotal: 571ms\tremaining: 571us\n",
      "999:\tlearn: 0.0067004\ttotal: 571ms\tremaining: 0us\n"
     ]
    },
    {
     "data": {
      "text/plain": [
       "<catboost.core.CatBoostRegressor at 0x7fd498357ee0>"
      ]
     },
     "execution_count": 9,
     "metadata": {},
     "output_type": "execute_result"
    }
   ],
   "source": [
    "#Train the Model \n",
    "prior_model = ctb.CatBoostRegressor()\n",
    "prior_model.fit(X_train,Y_train)"
   ]
  },
  {
   "cell_type": "code",
   "execution_count": 10,
   "id": "af65dcda",
   "metadata": {
    "execution": {
     "iopub.execute_input": "2022-06-07T07:11:48.206956Z",
     "iopub.status.busy": "2022-06-07T07:11:48.206570Z",
     "iopub.status.idle": "2022-06-07T07:11:48.215381Z",
     "shell.execute_reply": "2022-06-07T07:11:48.215737Z"
    },
    "id": "af65dcda",
    "papermill": {
     "duration": 0.022251,
     "end_time": "2022-06-07T07:11:48.215864",
     "exception": false,
     "start_time": "2022-06-07T07:11:48.193613",
     "status": "completed"
    },
    "tags": []
   },
   "outputs": [
    {
     "data": {
      "application/scrapbook.scrap.json+json": {
       "data": 0.17967396047217618,
       "encoder": "json",
       "name": "Prior Model MSE",
       "version": 1
      }
     },
     "metadata": {
      "scrapbook": {
       "data": true,
       "display": false,
       "name": "Prior Model MSE"
      }
     },
     "output_type": "display_data"
    },
    {
     "data": {
      "application/scrapbook.scrap.json+json": {
       "data": 1.5340903230713137,
       "encoder": "json",
       "name": "ABC Pre-generator MSE",
       "version": 1
      }
     },
     "metadata": {
      "scrapbook": {
       "data": true,
       "display": false,
       "name": "ABC Pre-generator MSE"
      }
     },
     "output_type": "display_data"
    },
    {
     "data": {
      "application/scrapbook.scrap.json+json": {
       "data": 0.31612278816880207,
       "encoder": "json",
       "name": "Prior Model MSE",
       "version": 1
      }
     },
     "metadata": {
      "scrapbook": {
       "data": true,
       "display": false,
       "name": "Prior Model MSE"
      }
     },
     "output_type": "display_data"
    },
    {
     "data": {
      "application/scrapbook.scrap.json+json": {
       "data": 0.9956946104969285,
       "encoder": "json",
       "name": "ABC Pre-generator MSE",
       "version": 1
      }
     },
     "metadata": {
      "scrapbook": {
       "data": true,
       "display": false,
       "name": "ABC Pre-generator MSE"
      }
     },
     "output_type": "display_data"
    }
   ],
   "source": [
    "y_pred = prior_model.predict(X_test)\n",
    "y_abc = y_pred + np.random.normal(0,variance, y_pred.shape) + bias \n",
    "mse = mean_squared_error(y_pred,Y_test)\n",
    "sb.glue(\"Prior Model MSE\",mse)\n",
    "mse = mean_squared_error(y_abc,Y_test)\n",
    "sb.glue(\"ABC Pre-generator MSE\",mse)\n",
    "mae = mean_absolute_error(y_pred,Y_test)\n",
    "sb.glue(\"Prior Model MSE\",mae)\n",
    "mae = mean_absolute_error(y_abc,Y_test)\n",
    "sb.glue(\"ABC Pre-generator MSE\",mae)"
   ]
  },
  {
   "cell_type": "markdown",
   "id": "25609da2",
   "metadata": {
    "papermill": {
     "duration": 0.009963,
     "end_time": "2022-06-07T07:11:48.236027",
     "exception": false,
     "start_time": "2022-06-07T07:11:48.226064",
     "status": "completed"
    },
    "tags": []
   },
   "source": [
    "# ABC GAN Model"
   ]
  },
  {
   "cell_type": "code",
   "execution_count": 11,
   "id": "dfc3464d",
   "metadata": {
    "execution": {
     "iopub.execute_input": "2022-06-07T07:11:48.261070Z",
     "iopub.status.busy": "2022-06-07T07:11:48.260588Z",
     "iopub.status.idle": "2022-06-07T07:11:48.263216Z",
     "shell.execute_reply": "2022-06-07T07:11:48.263459Z"
    },
    "papermill": {
     "duration": 0.017159,
     "end_time": "2022-06-07T07:11:48.263579",
     "exception": false,
     "start_time": "2022-06-07T07:11:48.246420",
     "status": "completed"
    },
    "tags": []
   },
   "outputs": [],
   "source": [
    "gen = network.Generator(n_features+1).to(device)\n",
    "disc = network.Discriminator(n_features+1).to(device)\n",
    "\n",
    "criterion = torch.nn.BCELoss()\n",
    "gen_opt = torch.optim.Adam(gen.parameters(), lr=0.001, betas=(0.5, 0.999))\n",
    "disc_opt = torch.optim.Adam(disc.parameters(), lr=0.001, betas=(0.5, 0.999))"
   ]
  },
  {
   "cell_type": "code",
   "execution_count": 12,
   "id": "b75fdd85",
   "metadata": {
    "execution": {
     "iopub.execute_input": "2022-06-07T07:11:48.287327Z",
     "iopub.status.busy": "2022-06-07T07:11:48.286958Z",
     "iopub.status.idle": "2022-06-07T07:12:03.754660Z",
     "shell.execute_reply": "2022-06-07T07:12:03.755014Z"
    },
    "papermill": {
     "duration": 15.482062,
     "end_time": "2022-06-07T07:12:03.755511",
     "exception": false,
     "start_time": "2022-06-07T07:11:48.273449",
     "status": "completed"
    },
    "tags": []
   },
   "outputs": [
    {
     "data": {
      "image/png": "[encoded data removed]",
      "text/plain": [
       "<Figure size 432x288 with 1 Axes>"
      ]
     },
     "metadata": {
      "needs_background": "light"
     },
     "output_type": "display_data"
    },
    {
     "data": {
      "image/png": "[encoded data removed]",
      "text/plain": [
       "<Figure size 432x288 with 1 Axes>"
      ]
     },
     "metadata": {
      "needs_background": "light"
     },
     "output_type": "display_data"
    }
   ],
   "source": [
    "#Training the ABC_GAN \n",
    "ABC_train_test2.training_GAN(disc,gen,disc_opt,gen_opt,train_data,batch_size,n_epochs,criterion,prior_model,variance,bias,device)"
   ]
  },
  {
   "cell_type": "code",
   "execution_count": 13,
   "id": "1fa7c368",
   "metadata": {
    "execution": {
     "iopub.execute_input": "2022-06-07T07:12:03.781783Z",
     "iopub.status.busy": "2022-06-07T07:12:03.781312Z",
     "iopub.status.idle": "2022-06-07T07:12:03.983520Z",
     "shell.execute_reply": "2022-06-07T07:12:03.983861Z"
    },
    "papermill": {
     "duration": 0.216688,
     "end_time": "2022-06-07T07:12:03.983986",
     "exception": false,
     "start_time": "2022-06-07T07:12:03.767298",
     "status": "completed"
    },
    "tags": []
   },
   "outputs": [
    {
     "data": {
      "application/scrapbook.scrap.json+json": {
       "data": 0.06467274956516414,
       "encoder": "json",
       "name": "ABC-GAN Model 1 MSE",
       "version": 1
      }
     },
     "metadata": {
      "scrapbook": {
       "data": true,
       "display": false,
       "name": "ABC-GAN Model 1 MSE"
      }
     },
     "output_type": "display_data"
    },
    {
     "data": {
      "application/scrapbook.scrap.json+json": {
       "data": 0.1927268099281937,
       "encoder": "json",
       "name": "ABC-GAN Model 1 MAE",
       "version": 1
      }
     },
     "metadata": {
      "scrapbook": {
       "data": true,
       "display": false,
       "name": "ABC-GAN Model 1 MAE"
      }
     },
     "output_type": "display_data"
    },
    {
     "data": {
      "application/scrapbook.scrap.json+json": {
       "data": 3.8545361985638738,
       "encoder": "json",
       "name": "ABC-GAN Model 1 Manhattan Distance",
       "version": 1
      }
     },
     "metadata": {
      "scrapbook": {
       "data": true,
       "display": false,
       "name": "ABC-GAN Model 1 Manhattan Distance"
      }
     },
     "output_type": "display_data"
    },
    {
     "data": {
      "application/scrapbook.scrap.json+json": {
       "data": 1.1353879300534724,
       "encoder": "json",
       "name": "ABC-GAN Model 1 Euclidean distance",
       "version": 1
      }
     },
     "metadata": {
      "scrapbook": {
       "data": true,
       "display": false,
       "name": "ABC-GAN Model 1 Euclidean distance"
      }
     },
     "output_type": "display_data"
    },
    {
     "data": {
      "application/scrapbook.scrap.json+json": {
       "data": [
        [
         0.07185690121028616,
         0.06947952940100807,
         0.06006711950669426,
         0.05398465140396931,
         0.067472363172302,
         0.07189490794491918,
         0.0601484822325799,
         0.05363927311964708,
         0.07957856145793578,
         0.06700075334821427,
         0.06242035422838675,
         0.05126264427985157,
         0.06554768780125983,
         0.07195401506213073,
         0.05941700666847842,
         0.07049220979803264,
         0.05707749876525241,
         0.05482821599782002,
         0.07181574910434305,
         0.058871846066659364,
         0.06647126315435438,
         0.06673835671661528,
         0.060005682380736405,
         0.05607485076876123,
         0.05893107331927159,
         0.06149169950807767,
         0.05604640855934354,
         0.06250060614761517,
         0.06286143303748007,
         0.06568147940557459,
         0.0629940771928885,
         0.06231022547774827,
         0.06635600545718068,
         0.0564281286179506,
         0.06388789139363872,
         0.07409024998377782,
         0.07213508136590713,
         0.05404757655299125,
         0.06285570960995977,
         0.059571259409135345,
         0.05506391717146425,
         0.05869730497344137,
         0.0817294835539372,
         0.05764972937732192,
         0.07268389833077703,
         0.06911952436659613,
         0.07659757288115296,
         0.05472364138681357,
         0.08548412312803653,
         0.08711253355621339,
         0.06407745674293377,
         0.06802744753142012,
         0.06186259402008296,
         0.06752605991216458,
         0.06021389589619615,
         0.0582338076185675,
         0.062171519840446776,
         0.06732504412055842,
         0.061923667561375996,
         0.05950455925023782,
         0.06777739765900366,
         0.050683522450381865,
         0.06352671487747644,
         0.06417266811077729,
         0.05675608275563139,
         0.060641174059765754,
         0.08038584164913623,
         0.07274690320081924,
         0.07372323249702491,
         0.0671219260467915,
         0.07561668147897374,
         0.06237822547889198,
         0.06720468522674175,
         0.05691334191085007,
         0.06620623337714306,
         0.06929410843351286,
         0.05882259765110176,
         0.06383904187946268,
         0.06117155554556556,
         0.05168670492073528,
         0.07214738078584285,
         0.07982105364897565,
         0.06244301938478965,
         0.06505052091096217,
         0.06796520607974924,
         0.05498938251318454,
         0.06191439265729816,
         0.06425649687671392,
         0.06367279909835535,
         0.07005707329074265,
         0.05359254832784981,
         0.06364061337620987,
         0.07494789700885025,
         0.07336753762525856,
         0.06724643789350356,
         0.06631909473680657,
         0.07299559524911456,
         0.05677298030670356,
         0.05560605803124609,
         0.06978361965595221
        ],
        [
         0.20554199181497096,
         0.20572538822889327,
         0.1850970068015158,
         0.16875921562314034,
         0.1961211074143648,
         0.21038040053099394,
         0.1831258550286293,
         0.1794406583532691,
         0.20615036226809025,
         0.19770936304703354,
         0.18774709329009057,
         0.18188338428735734,
         0.19074908597394824,
         0.1970986409112811,
         0.18843494765460492,
         0.20119138900190592,
         0.17776754070073367,
         0.1904305442236364,
         0.20016491785645485,
         0.19300302099436523,
         0.1984587386250496,
         0.19022757932543755,
         0.18677530372515322,
         0.1838551864027977,
         0.18110103756189347,
         0.1901398740708828,
         0.180852463375777,
         0.18388475850224495,
         0.1973912611603737,
         0.19799577593803405,
         0.19181331302970647,
         0.2030733885243535,
         0.19426139630377293,
         0.17749801380559802,
         0.18317240551114083,
         0.18992131166160106,
         0.20361401438713073,
         0.173490409553051,
         0.19202002668753265,
         0.1847344009205699,
         0.18393019661307336,
         0.1926862400956452,
         0.217085288092494,
         0.18759747743606567,
         0.2011759415268898,
         0.1888754740357399,
         0.20548149347305297,
         0.18120231330394745,
         0.2082490600645542,
         0.2253784784115851,
         0.182807825319469,
         0.2010510778054595,
         0.17520189173519612,
         0.1901132298633456,
         0.18633583709597587,
         0.18700152039527893,
         0.1953134044073522,
         0.19358423724770546,
         0.19214067999273537,
         0.1864142283797264,
         0.19951393455266953,
         0.1789155848324299,
         0.1920547468587756,
         0.19705244675278663,
         0.19013265818357467,
         0.188379605486989,
         0.19999639466404914,
         0.1999658750370145,
         0.18873058184981345,
         0.19574076952412725,
         0.21001349855214357,
         0.19774105083197355,
         0.2016564858146012,
         0.18353186175227165,
         0.200493286550045,
         0.20287208184599875,
         0.19344218913465738,
         0.1879219338297844,
         0.19348542690277098,
         0.168302003107965,
         0.20224824510514736,
         0.20448417216539383,
         0.19747756384313106,
         0.20531446468085052,
         0.1903421849012375,
         0.18750534877181052,
         0.1873599372804165,
         0.19903934374451637,
         0.2020275754854083,
         0.20843015676364302,
         0.18229357711970806,
         0.18370914682745934,
         0.19173975344747304,
         0.20780488662421703,
         0.18869828134775163,
         0.19876486342400312,
         0.20006524510681628,
         0.18421447649598122,
         0.17620214968919753,
         0.19258873555809258
        ],
        [
         4.110839836299419,
         4.114507764577866,
         3.7019401360303164,
         3.3751843124628067,
         3.9224221482872963,
         4.207608010619879,
         3.662517100572586,
         3.588813167065382,
         4.123007245361805,
         3.954187260940671,
         3.754941865801811,
         3.6376676857471466,
         3.814981719478965,
         3.941972818225622,
         3.7686989530920982,
         4.023827780038118,
         3.5553508140146732,
         3.8086108844727278,
         4.003298357129097,
         3.8600604198873043,
         3.969174772500992,
         3.804551586508751,
         3.735506074503064,
         3.677103728055954,
         3.6220207512378693,
         3.802797481417656,
         3.61704926751554,
         3.677695170044899,
         3.9478252232074738,
         3.959915518760681,
         3.8362662605941296,
         4.06146777048707,
         3.8852279260754585,
         3.5499602761119604,
         3.6634481102228165,
         3.7984262332320213,
         4.072280287742615,
         3.46980819106102,
         3.8404005337506533,
         3.694688018411398,
         3.678603932261467,
         3.853724801912904,
         4.34170576184988,
         3.7519495487213135,
         4.023518830537796,
         3.777509480714798,
         4.10962986946106,
         3.624046266078949,
         4.164981201291084,
         4.507569568231702,
         3.6561565063893795,
         4.02102155610919,
         3.5040378347039223,
         3.8022645972669125,
         3.7267167419195175,
         3.7400304079055786,
         3.906268088147044,
         3.871684744954109,
         3.8428135998547077,
         3.728284567594528,
         3.9902786910533905,
         3.5783116966485977,
         3.8410949371755123,
         3.9410489350557327,
         3.8026531636714935,
         3.7675921097397804,
         3.999927893280983,
         3.9993175007402897,
         3.7746116369962692,
         3.914815390482545,
         4.2002699710428715,
         3.954821016639471,
         4.033129716292024,
         3.670637235045433,
         4.0098657310009,
         4.057441636919975,
         3.8688437826931477,
         3.758438676595688,
         3.86970853805542,
         3.3660400621593,
         4.044964902102947,
         4.089683443307877,
         3.9495512768626213,
         4.10628929361701,
         3.8068436980247498,
         3.7501069754362106,
         3.7471987456083298,
         3.9807868748903275,
         4.040551509708166,
         4.1686031352728605,
         3.6458715423941612,
         3.6741829365491867,
         3.834795068949461,
         4.156097732484341,
         3.7739656269550323,
         3.9752972684800625,
         4.001304902136326,
         3.6842895299196243,
         3.524042993783951,
         3.851774711161852
        ],
        [
         1.1988069169827655,
         1.178808970113547,
         1.096057658215974,
         1.0390827821109279,
         1.1616571195692986,
         1.199123913070865,
         1.0967997285975222,
         1.0357535722327689,
         1.2615749003363674,
         1.1575901981980865,
         1.1173213882172555,
         1.0125477201579347,
         1.144968888671302,
         1.1996167309781132,
         1.090110147356481,
         1.1873686015558322,
         1.0684334210913886,
         1.0471696710449556,
         1.19846359230761,
         1.0850976552058287,
         1.1530070524880096,
         1.1553212256045093,
         1.0954969865840471,
         1.0590075615288235,
         1.0856433421641896,
         1.1089788051002387,
         1.0587389532773748,
         1.1180394102858375,
         1.1212620838811957,
         1.146136810381506,
         1.1224444502325137,
         1.1163353033721388,
         1.152006991794587,
         1.0623382570344588,
         1.1303795061273778,
         1.217294130305226,
         1.2011251505643126,
         1.0396881893432401,
         1.1212110382078815,
         1.0915242499288356,
         1.0494180975327636,
         1.083487932313428,
         1.2785107238810098,
         1.0737758553564325,
         1.2056856831759846,
         1.175751031184716,
         1.2377202663053792,
         1.0461705538468722,
         1.3075482639507923,
         1.3199434348199426,
         1.1320552702313944,
         1.1664257158638103,
         1.112318246007706,
         1.162119270231456,
         1.0973959713448573,
         1.0792016273020302,
         1.1150921023883793,
         1.1603882464120225,
         1.1128671759143227,
         1.0909130052413696,
         1.1642800149363008,
         1.0068120226773405,
         1.127179798235192,
         1.13289600679654,
         1.0654208816766395,
         1.1012826527260453,
         1.2679577410082423,
         1.2062081346170672,
         1.214275360015387,
         1.1586364921474854,
         1.2297697465702573,
         1.116944273264266,
         1.1593505529109112,
         1.0668958891180533,
         1.1507061603827717,
         1.1772349674853602,
         1.0846436986504073,
         1.1299472720393875,
         1.106088202139102,
         1.016727150426655,
         1.2012275453538588,
         1.2634955769528888,
         1.1175242224201642,
         1.140618436734758,
         1.165891985389292,
         1.0487076095193029,
         1.1127838303758566,
         1.133635716416115,
         1.1284750692714072,
         1.1836982156845774,
         1.0353023551393072,
         1.1281898189241903,
         1.224319378339249,
         1.2113425413586247,
         1.1597106354043973,
         1.1516865436116424,
         1.208268142831835,
         1.0655794696474172,
         1.0545715531081434,
         1.1813857935149907
        ]
       ],
       "encoder": "json",
       "name": "ABC_GAN_1 Metrics",
       "version": 1
      }
     },
     "metadata": {
      "scrapbook": {
       "data": true,
       "display": false,
       "name": "ABC_GAN_1 Metrics"
      }
     },
     "output_type": "display_data"
    },
    {
     "name": "stdout",
     "output_type": "stream",
     "text": [
      "MSE\n",
      "0.06467274956516414\n"
     ]
    }
   ],
   "source": [
    "ABC_GAN1_metrics=ABC_train_test2.test_generator(gen,test_data,prior_model,variance,bias,\"1\",device)\n",
    "sb.glue(\"ABC_GAN_1 Metrics\",ABC_GAN1_metrics)\n",
    "\n",
    "print(\"MSE\")\n",
    "print(mean(ABC_GAN1_metrics[0]))"
   ]
  },
  {
   "cell_type": "code",
   "execution_count": 14,
   "id": "eb22ce5c",
   "metadata": {
    "execution": {
     "iopub.execute_input": "2022-06-07T07:12:04.012429Z",
     "iopub.status.busy": "2022-06-07T07:12:04.012044Z",
     "iopub.status.idle": "2022-06-07T07:12:04.332367Z",
     "shell.execute_reply": "2022-06-07T07:12:04.332709Z"
    },
    "papermill": {
     "duration": 0.335731,
     "end_time": "2022-06-07T07:12:04.332840",
     "exception": false,
     "start_time": "2022-06-07T07:12:03.997109",
     "status": "completed"
    },
    "tags": []
   },
   "outputs": [
    {
     "data": {
      "image/png": "[encoded data removed]",
      "text/plain": [
       "<Figure size 432x288 with 1 Axes>"
      ]
     },
     "metadata": {
      "needs_background": "light"
     },
     "output_type": "display_data"
    },
    {
     "data": {
      "image/png": "[encoded data removed]",
      "text/plain": [
       "<Figure size 432x288 with 1 Axes>"
      ]
     },
     "metadata": {
      "needs_background": "light"
     },
     "output_type": "display_data"
    },
    {
     "data": {
      "image/png": "[encoded data removed]",
      "text/plain": [
       "<Figure size 432x288 with 1 Axes>"
      ]
     },
     "metadata": {
      "needs_background": "light"
     },
     "output_type": "display_data"
    },
    {
     "data": {
      "image/png": "[encoded data removed]",
      "text/plain": [
       "<Figure size 432x288 with 1 Axes>"
      ]
     },
     "metadata": {
      "needs_background": "light"
     },
     "output_type": "display_data"
    }
   ],
   "source": [
    "sanityChecks.discProbVsError(train_data,disc,device)\n",
    "sanityChecks.discProbVsError(test_data,disc,device)"
   ]
  },
  {
   "cell_type": "markdown",
   "id": "130f3a4d",
   "metadata": {
    "id": "130f3a4d",
    "papermill": {
     "duration": 0.03869,
     "end_time": "2022-06-07T07:12:04.386543",
     "exception": false,
     "start_time": "2022-06-07T07:12:04.347853",
     "status": "completed"
    },
    "tags": []
   },
   "source": [
    "# ABC - GAN Model with skip connection"
   ]
  },
  {
   "cell_type": "code",
   "execution_count": 15,
   "id": "4e43dad1",
   "metadata": {
    "execution": {
     "iopub.execute_input": "2022-06-07T07:12:04.420944Z",
     "iopub.status.busy": "2022-06-07T07:12:04.420542Z",
     "iopub.status.idle": "2022-06-07T07:12:04.423359Z",
     "shell.execute_reply": "2022-06-07T07:12:04.423762Z"
    },
    "id": "4e43dad1",
    "papermill": {
     "duration": 0.022023,
     "end_time": "2022-06-07T07:12:04.423902",
     "exception": false,
     "start_time": "2022-06-07T07:12:04.401879",
     "status": "completed"
    },
    "tags": []
   },
   "outputs": [],
   "source": [
    "#Generator\n",
    "gen3 = network.GeneratorWithSkipConnection(n_features+1).to(device)\n",
    "constraints=network.weightConstraint()\n",
    "#Discriminator \n",
    "disc3 = network.Discriminator(n_features+1).to(device)\n",
    "\n",
    "criterion = torch.nn.BCELoss()\n",
    "gen_opt = torch.optim.Adam(gen3.parameters(), lr=0.001, betas=(0.5, 0.999))\n",
    "disc_opt = torch.optim.Adam(disc3.parameters(), lr=0.001, betas=(0.5, 0.999))\n"
   ]
  },
  {
   "cell_type": "code",
   "execution_count": 16,
   "id": "26acbc37",
   "metadata": {
    "execution": {
     "iopub.execute_input": "2022-06-07T07:12:04.457305Z",
     "iopub.status.busy": "2022-06-07T07:12:04.456803Z",
     "iopub.status.idle": "2022-06-07T07:12:43.285601Z",
     "shell.execute_reply": "2022-06-07T07:12:43.285928Z"
    },
    "id": "26acbc37",
    "papermill": {
     "duration": 38.847305,
     "end_time": "2022-06-07T07:12:43.286049",
     "exception": false,
     "start_time": "2022-06-07T07:12:04.438744",
     "status": "completed"
    },
    "tags": []
   },
   "outputs": [
    {
     "data": {
      "image/png": "[encoded data removed]",
      "text/plain": [
       "<Figure size 432x288 with 1 Axes>"
      ]
     },
     "metadata": {
      "needs_background": "light"
     },
     "output_type": "display_data"
    },
    {
     "data": {
      "image/png": "[encoded data removed]",
      "text/plain": [
       "<Figure size 432x288 with 1 Axes>"
      ]
     },
     "metadata": {
      "needs_background": "light"
     },
     "output_type": "display_data"
    }
   ],
   "source": [
    "ABC_train_test2.training_GAN_skip_connection(disc3,gen3,disc_opt,gen_opt,train_data,batch_size,n_epochs,criterion,prior_model,variance,bias,device)"
   ]
  },
  {
   "cell_type": "code",
   "execution_count": 17,
   "id": "c5e0717b",
   "metadata": {
    "execution": {
     "iopub.execute_input": "2022-06-07T07:12:43.319089Z",
     "iopub.status.busy": "2022-06-07T07:12:43.318628Z",
     "iopub.status.idle": "2022-06-07T07:12:43.634960Z",
     "shell.execute_reply": "2022-06-07T07:12:43.635260Z"
    },
    "id": "c5e0717b",
    "papermill": {
     "duration": 0.334133,
     "end_time": "2022-06-07T07:12:43.635385",
     "exception": false,
     "start_time": "2022-06-07T07:12:43.301252",
     "status": "completed"
    },
    "tags": []
   },
   "outputs": [
    {
     "data": {
      "application/scrapbook.scrap.json+json": {
       "data": 0.040745610088110715,
       "encoder": "json",
       "name": "ABC-GAN Model 3 MSE",
       "version": 1
      }
     },
     "metadata": {
      "scrapbook": {
       "data": true,
       "display": false,
       "name": "ABC-GAN Model 3 MSE"
      }
     },
     "output_type": "display_data"
    },
    {
     "data": {
      "application/scrapbook.scrap.json+json": {
       "data": 0.1367981952689588,
       "encoder": "json",
       "name": "ABC-GAN Model 3 MAE",
       "version": 1
      }
     },
     "metadata": {
      "scrapbook": {
       "data": true,
       "display": false,
       "name": "ABC-GAN Model 3 MAE"
      }
     },
     "output_type": "display_data"
    },
    {
     "data": {
      "application/scrapbook.scrap.json+json": {
       "data": 2.735963905379176,
       "encoder": "json",
       "name": "ABC-GAN Model 3 Manhattan Distance",
       "version": 1
      }
     },
     "metadata": {
      "scrapbook": {
       "data": true,
       "display": false,
       "name": "ABC-GAN Model 3 Manhattan Distance"
      }
     },
     "output_type": "display_data"
    },
    {
     "data": {
      "application/scrapbook.scrap.json+json": {
       "data": 0.9018438278949753,
       "encoder": "json",
       "name": "ABC-GAN Model 3 Euclidean distance",
       "version": 1
      }
     },
     "metadata": {
      "scrapbook": {
       "data": true,
       "display": false,
       "name": "ABC-GAN Model 3 Euclidean distance"
      }
     },
     "output_type": "display_data"
    },
    {
     "data": {
      "application/scrapbook.scrap.json+json": {
       "data": [
        [
         0.03881184958149925,
         0.041608842306988504,
         0.03824370620403169,
         0.04646053823865085,
         0.04527013376563059,
         0.043778324489890476,
         0.041272328205117205,
         0.04172758940241887,
         0.04235135363761312,
         0.04460195723608172,
         0.03548639402896254,
         0.039751898989206155,
         0.040179806524019854,
         0.035997537165421166,
         0.035883644878119736,
         0.04066598796441342,
         0.03792141505178163,
         0.03630003054758829,
         0.04206559186122848,
         0.0350488564954375,
         0.038385146613495714,
         0.040555085954058157,
         0.03726436101668641,
         0.041845196324917,
         0.05358330184869069,
         0.03649668696377127,
         0.03335354221119471,
         0.03988121189670794,
         0.03834518652504652,
         0.04057093274210116,
         0.04323037554860777,
         0.04241344360889606,
         0.04732949635251086,
         0.036937754581827006,
         0.039885586125114024,
         0.042337360554036085,
         0.04008684125710954,
         0.037238929513003574,
         0.04039429897607464,
         0.03833199634808698,
         0.03885258285102483,
         0.04278644377862745,
         0.04683906200189737,
         0.04057221253390693,
         0.04437401630110012,
         0.04053770521534282,
         0.03946583575930035,
         0.039640529077288975,
         0.04143464408128429,
         0.04335976865872994,
         0.04522043095893198,
         0.04189763095853386,
         0.03742025122649194,
         0.04960553954443621,
         0.04211154450339043,
         0.036241307905651735,
         0.03341703395622803,
         0.03726606035802872,
         0.0375405687198738,
         0.04181193142151481,
         0.04425745255471212,
         0.04121436114470943,
         0.03632571408909661,
         0.046410441333871344,
         0.04055352956974453,
         0.03714721351247038,
         0.04383568839752997,
         0.04510893579574299,
         0.037122382779913476,
         0.048309586380998214,
         0.041534769275992166,
         0.041411206060193585,
         0.03858945667121373,
         0.03973846854920313,
         0.03853755613193334,
         0.04058777993131561,
         0.047786002779350314,
         0.04770390646577255,
         0.039032541495591114,
         0.04159122968086225,
         0.04001043641933063,
         0.04248634173429343,
         0.0372308145614915,
         0.04996829385046804,
         0.040386713785404295,
         0.037705360157981906,
         0.038421201846775443,
         0.04318826387449838,
         0.04007278964902811,
         0.03638021198722121,
         0.04260200156290435,
         0.04172709005978255,
         0.03966330717336895,
         0.04083966156730508,
         0.04071720658520299,
         0.03874688929488285,
         0.035433436316015775,
         0.0398312084514285,
         0.040194354588031514,
         0.03986758139781742
        ],
        [
         0.13360380865633487,
         0.1427655104547739,
         0.1270070418715477,
         0.14514583125710487,
         0.1507167886942625,
         0.1417177625000477,
         0.1370252426713705,
         0.13903271816670895,
         0.143152591586113,
         0.13941095769405365,
         0.1284416027367115,
         0.12956125028431414,
         0.13596515953540803,
         0.13188444897532464,
         0.1310351200401783,
         0.13943188600242137,
         0.12588321268558503,
         0.13366260826587678,
         0.13557323776185512,
         0.11911349967122078,
         0.13533247709274293,
         0.14084727317094803,
         0.1388127788901329,
         0.13708725348114967,
         0.14844808392226697,
         0.11990335807204247,
         0.1289630014449358,
         0.14004235081374644,
         0.13020540103316308,
         0.13581938073039054,
         0.1316017434000969,
         0.13940428830683232,
         0.1463378459215164,
         0.13714837282896042,
         0.139712293446064,
         0.14599302485585214,
         0.13214296251535415,
         0.1262684352695942,
         0.1400152936577797,
         0.13226759433746338,
         0.12943949773907662,
         0.15058253966271878,
         0.14891247116029263,
         0.12805961705744268,
         0.14732563868165016,
         0.13589682430028915,
         0.13500922843813895,
         0.12976914867758751,
         0.13555326201021672,
         0.14122159704566,
         0.14930387884378432,
         0.13168734461069107,
         0.1301537983119488,
         0.15005347020924092,
         0.13852979503571988,
         0.12693723365664483,
         0.13198459893465042,
         0.12895502746105195,
         0.1263204298913479,
         0.13763871863484384,
         0.13765012435615062,
         0.13818908371031285,
         0.12976970598101617,
         0.13922832086682319,
         0.14340641871094703,
         0.1315841071307659,
         0.14904069006443024,
         0.13809795640408992,
         0.13422097265720367,
         0.15052283257246019,
         0.14389615505933762,
         0.13843879625201225,
         0.13936623483896254,
         0.1303266566246748,
         0.13675294406712055,
         0.13439167998731136,
         0.15003308840095997,
         0.14903234392404557,
         0.1353044979274273,
         0.1419776052236557,
         0.13340417370200158,
         0.1408201389014721,
         0.12345493882894516,
         0.15397051014006138,
         0.12981549762189387,
         0.13585721366107464,
         0.13635077886283398,
         0.13588470220565796,
         0.13477398045361041,
         0.12318258248269558,
         0.146899688616395,
         0.1411688771098852,
         0.1331621877849102,
         0.13660790733993053,
         0.13810619674623012,
         0.14000408723950386,
         0.13429817408323289,
         0.13732337579131126,
         0.1272733822464943,
         0.13641330525279044
        ],
        [
         2.6720761731266975,
         2.855310209095478,
         2.540140837430954,
         2.9029166251420975,
         3.01433577388525,
         2.8343552500009537,
         2.74050485342741,
         2.780654363334179,
         2.8630518317222595,
         2.788219153881073,
         2.56883205473423,
         2.591225005686283,
         2.7193031907081604,
         2.6376889795064926,
         2.620702400803566,
         2.7886377200484276,
         2.5176642537117004,
         2.6732521653175354,
         2.7114647552371025,
         2.3822699934244156,
         2.7066495418548584,
         2.8169454634189606,
         2.776255577802658,
         2.7417450696229935,
         2.968961678445339,
         2.3980671614408493,
         2.579260028898716,
         2.800847016274929,
         2.6041080206632614,
         2.716387614607811,
         2.632034868001938,
         2.7880857661366463,
         2.9267569184303284,
         2.7429674565792084,
         2.79424586892128,
         2.9198604971170425,
         2.642859250307083,
         2.525368705391884,
         2.800305873155594,
         2.6453518867492676,
         2.5887899547815323,
         3.0116507932543755,
         2.9782494232058525,
         2.5611923411488533,
         2.9465127736330032,
         2.717936486005783,
         2.7001845687627792,
         2.59538297355175,
         2.7110652402043343,
         2.8244319409132004,
         2.9860775768756866,
         2.6337468922138214,
         2.6030759662389755,
         3.0010694041848183,
         2.7705959007143974,
         2.5387446731328964,
         2.6396919786930084,
         2.579100549221039,
         2.5264085978269577,
         2.7527743726968765,
         2.7530024871230125,
         2.763781674206257,
         2.595394119620323,
         2.784566417336464,
         2.8681283742189407,
         2.6316821426153183,
         2.9808138012886047,
         2.7619591280817986,
         2.6844194531440735,
         3.0104566514492035,
         2.8779231011867523,
         2.768775925040245,
         2.787324696779251,
         2.606533132493496,
         2.735058881342411,
         2.6878335997462273,
         3.0006617680191994,
         2.9806468784809113,
         2.706089958548546,
         2.839552104473114,
         2.6680834740400314,
         2.816402778029442,
         2.469098776578903,
         3.0794102028012276,
         2.5963099524378777,
         2.7171442732214928,
         2.7270155772566795,
         2.717694044113159,
         2.6954796090722084,
         2.4636516496539116,
         2.9379937723279,
         2.8233775421977043,
         2.663243755698204,
         2.7321581467986107,
         2.7621239349246025,
         2.800081744790077,
         2.6859634816646576,
         2.7464675158262253,
         2.545467644929886,
         2.728266105055809
        ],
        [
         0.8810431269977566,
         0.9122372751317335,
         0.8745708227928907,
         0.9639557898436095,
         0.9515264974306348,
         0.9357170992334218,
         0.908540898420288,
         0.9135380605362743,
         0.9203407373099718,
         0.9444782394113876,
         0.8424534886741526,
         0.8916490227573421,
         0.8964352349614539,
         0.8484991121435681,
         0.8471557693614526,
         0.9018424248660452,
         0.8708778910017365,
         0.852056694681619,
         0.9172305256720197,
         0.8372437697043495,
         0.8761865853058436,
         0.9006118581726332,
         0.8633001913203356,
         0.9148245331747176,
         1.0352130394145032,
         0.8543615974957123,
         0.8167440506204463,
         0.893098112154627,
         0.8757303982967192,
         0.9007877967879134,
         0.9298427345374891,
         0.9210151313512288,
         0.9729285313167751,
         0.8595086338347859,
         0.8931470889513555,
         0.9201886823259248,
         0.895397579370299,
         0.8630055563320965,
         0.8988247768733864,
         0.875579766190231,
         0.881505335786742,
         0.9250561472540729,
         0.9678745993350313,
         0.9008020041486023,
         0.9420617421496333,
         0.900418849373366,
         0.8884349808432843,
         0.8903991136258951,
         0.9103257008487049,
         0.9312332539029085,
         0.951004005868871,
         0.9153975197534004,
         0.8651040541633352,
         0.9960475846508158,
         0.9177313823051975,
         0.8513672287051192,
         0.8175210572973399,
         0.8633198753420278,
         0.8664937243843581,
         0.9144608402935012,
         0.9408236025388831,
         0.9079026505601736,
         0.8523580713420459,
         0.9634359484041619,
         0.9005945765964231,
         0.8619421501756411,
         0.9363299460930422,
         0.9498308880610589,
         0.8616540231428561,
         0.9829505214505786,
         0.9114249203965422,
         0.910068195908346,
         0.8785153006204699,
         0.8914983852952638,
         0.8779243262597676,
         0.9009748046567742,
         0.9776093573544631,
         0.9767692303279475,
         0.8835444696854948,
         0.9120441840268733,
         0.8945438661052976,
         0.9218062891333887,
         0.8629115199311167,
         0.9996828882247414,
         0.898740382818134,
         0.8683934610299862,
         0.8765979904925113,
         0.929389733906055,
         0.8952406341205487,
         0.852997209693223,
         0.9230601449841104,
         0.913532594490011,
         0.8906548958308034,
         0.9037661375301143,
         0.9024101792998901,
         0.8803055071380941,
         0.8418246410745622,
         0.8925380490648956,
         0.8965975082279842,
         0.8929454787143213
        ]
       ],
       "encoder": "json",
       "name": "ABC_GAN_3 Metrics",
       "version": 1
      }
     },
     "metadata": {
      "scrapbook": {
       "data": true,
       "display": false,
       "name": "ABC_GAN_3 Metrics"
      }
     },
     "output_type": "display_data"
    },
    {
     "name": "stdout",
     "output_type": "stream",
     "text": [
      "MSE\n",
      "0.040745610088110715\n"
     ]
    }
   ],
   "source": [
    "ABC_GAN3_metrics=ABC_train_test2.test_generator(gen3,test_data,prior_model,variance,bias,\"3\",device)\n",
    "sb.glue(\"ABC_GAN_3 Metrics\",ABC_GAN3_metrics)\n",
    "\n",
    "print(\"MSE\")\n",
    "print(mean(ABC_GAN3_metrics[0]))"
   ]
  },
  {
   "cell_type": "code",
   "execution_count": 18,
   "id": "c8e46b48",
   "metadata": {
    "execution": {
     "iopub.execute_input": "2022-06-07T07:12:43.672765Z",
     "iopub.status.busy": "2022-06-07T07:12:43.672389Z",
     "iopub.status.idle": "2022-06-07T07:12:43.975740Z",
     "shell.execute_reply": "2022-06-07T07:12:43.976052Z"
    },
    "id": "c8e46b48",
    "papermill": {
     "duration": 0.323874,
     "end_time": "2022-06-07T07:12:43.976179",
     "exception": false,
     "start_time": "2022-06-07T07:12:43.652305",
     "status": "completed"
    },
    "tags": []
   },
   "outputs": [
    {
     "data": {
      "image/png": "[encoded data removed]",
      "text/plain": [
       "<Figure size 432x288 with 1 Axes>"
      ]
     },
     "metadata": {
      "needs_background": "light"
     },
     "output_type": "display_data"
    },
    {
     "data": {
      "image/png": "[encoded data removed]",
      "text/plain": [
       "<Figure size 432x288 with 1 Axes>"
      ]
     },
     "metadata": {
      "needs_background": "light"
     },
     "output_type": "display_data"
    },
    {
     "data": {
      "image/png": "[encoded data removed]",
      "text/plain": [
       "<Figure size 432x288 with 1 Axes>"
      ]
     },
     "metadata": {
      "needs_background": "light"
     },
     "output_type": "display_data"
    },
    {
     "data": {
      "image/png": "[encoded data removed]",
      "text/plain": [
       "<Figure size 432x288 with 1 Axes>"
      ]
     },
     "metadata": {
      "needs_background": "light"
     },
     "output_type": "display_data"
    }
   ],
   "source": [
    "sanityChecks.discProbVsError(train_data,disc3,device)\n",
    "sanityChecks.discProbVsError(test_data,disc3,device)"
   ]
  },
  {
   "cell_type": "markdown",
   "id": "a5bd74c3",
   "metadata": {
    "id": "a5bd74c3",
    "papermill": {
     "duration": 0.018906,
     "end_time": "2022-06-07T07:12:44.014575",
     "exception": false,
     "start_time": "2022-06-07T07:12:43.995669",
     "status": "completed"
    },
    "tags": []
   },
   "source": [
    "## Skip Connection Model Analysis - ABC-GAN "
   ]
  },
  {
   "cell_type": "markdown",
   "id": "5744a8bf",
   "metadata": {
    "id": "5744a8bf",
    "papermill": {
     "duration": 0.019075,
     "end_time": "2022-06-07T07:12:44.052509",
     "exception": false,
     "start_time": "2022-06-07T07:12:44.033434",
     "status": "completed"
    },
    "tags": []
   },
   "source": [
    "### Weight Analysis \n",
    "\n",
    "Study the weights of the skip connection layer\n",
    "\n",
    "Equation of the skip connection is \n",
    "\n",
    "$output = y_{gan} * w + y_{abc} * (1-w)$"
   ]
  },
  {
   "cell_type": "code",
   "execution_count": 19,
   "id": "52c31dea",
   "metadata": {
    "execution": {
     "iopub.execute_input": "2022-06-07T07:12:44.094752Z",
     "iopub.status.busy": "2022-06-07T07:12:44.094361Z",
     "iopub.status.idle": "2022-06-07T07:12:44.097805Z",
     "shell.execute_reply": "2022-06-07T07:12:44.098060Z"
    },
    "id": "52c31dea",
    "papermill": {
     "duration": 0.025903,
     "end_time": "2022-06-07T07:12:44.098173",
     "exception": false,
     "start_time": "2022-06-07T07:12:44.072270",
     "status": "completed"
    },
    "tags": []
   },
   "outputs": [
    {
     "name": "stdout",
     "output_type": "stream",
     "text": [
      "Weight of the node at skip connection\n",
      "Parameter containing:\n",
      "tensor([[0.9162]], requires_grad=True)\n"
     ]
    },
    {
     "data": {
      "application/scrapbook.scrap.json+json": {
       "data": 0.9161837100982666,
       "encoder": "json",
       "name": "Skip Connection Weight",
       "version": 1
      }
     },
     "metadata": {
      "scrapbook": {
       "data": true,
       "display": false,
       "name": "Skip Connection Weight"
      }
     },
     "output_type": "display_data"
    }
   ],
   "source": [
    "print(\"Weight of the node at skip connection\")\n",
    "for name,param in gen3.named_parameters():\n",
    "    if(name == \"skipNode.weight\"):\n",
    "        print(param)\n",
    "        sb.glue(\"Skip Connection Weight\",param.item())"
   ]
  }
 ],
 "metadata": {
  "colab": {
   "collapsed_sections": [],
   "name": "ABC_GAN_Model-Catboost_Pre-gen.ipynb",
   "provenance": []
  },
  "interpreter": {
   "hash": "31f2aee4e71d21fbe5cf8b01ff0e069b9275f58929596ceb00d14d90e3e16cd6"
  },
  "kernelspec": {
   "display_name": "Python 3 (ipykernel)",
   "language": "python",
   "name": "python3"
  },
  "language_info": {
   "codemirror_mode": {
    "name": "ipython",
    "version": 3
   },
   "file_extension": ".py",
   "mimetype": "text/x-python",
   "name": "python",
   "nbconvert_exporter": "python",
   "pygments_lexer": "ipython3",
   "version": "3.8.11"
  },
  "papermill": {
   "default_parameters": {},
   "duration": 60.264497,
   "end_time": "2022-06-07T07:12:44.425287",
   "environment_variables": {},
   "exception": null,
   "input_path": "ABC_GAN-Catboost.ipynb",
   "output_path": "./ABC_GAN_Catboost/ABC-GAN_output_9_6.ipynb",
   "parameters": {
    "bias": 0.01,
    "variance": 1
   },
   "start_time": "2022-06-07T07:11:44.160790",
   "version": "2.3.3"
  }
 },
 "nbformat": 4,
 "nbformat_minor": 5
}