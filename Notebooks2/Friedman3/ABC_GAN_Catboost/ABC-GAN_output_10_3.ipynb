{
 "cells": [
  {
   "cell_type": "markdown",
   "id": "622780e6",
   "metadata": {
    "id": "622780e6",
    "papermill": {
     "duration": 0.019905,
     "end_time": "2022-06-07T09:16:14.967715",
     "exception": false,
     "start_time": "2022-06-07T09:16:14.947810",
     "status": "completed"
    },
    "tags": []
   },
   "source": [
    "## Import Libraries "
   ]
  },
  {
   "cell_type": "code",
   "execution_count": 1,
   "id": "a62397e3",
   "metadata": {
    "execution": {
     "iopub.execute_input": "2022-06-07T09:16:15.001679Z",
     "iopub.status.busy": "2022-06-07T09:16:15.001095Z",
     "iopub.status.idle": "2022-06-07T09:16:15.003693Z",
     "shell.execute_reply": "2022-06-07T09:16:15.004069Z"
    },
    "id": "a62397e3",
    "papermill": {
     "duration": 0.023135,
     "end_time": "2022-06-07T09:16:15.004328",
     "exception": false,
     "start_time": "2022-06-07T09:16:14.981193",
     "status": "completed"
    },
    "tags": []
   },
   "outputs": [],
   "source": [
    "import warnings\n",
    "import sys\n",
    "sys.path.insert(0, '../../src')\n",
    "warnings.filterwarnings('ignore')"
   ]
  },
  {
   "cell_type": "code",
   "execution_count": 2,
   "id": "d6a4e155",
   "metadata": {
    "execution": {
     "iopub.execute_input": "2022-06-07T09:16:15.025993Z",
     "iopub.status.busy": "2022-06-07T09:16:15.025557Z",
     "iopub.status.idle": "2022-06-07T09:32:49.967706Z",
     "shell.execute_reply": "2022-06-07T09:32:49.968400Z"
    },
    "id": "d6a4e155",
    "papermill": {
     "duration": 994.954479,
     "end_time": "2022-06-07T09:32:49.969096",
     "exception": false,
     "start_time": "2022-06-07T09:16:15.014617",
     "status": "completed"
    },
    "tags": []
   },
   "outputs": [],
   "source": [
    "import ABC_train_test2\n",
    "import friedman1Dataset\n",
    "import network\n",
    "import dataset\n",
    "import sanityChecks\n",
    "import torch \n",
    "import scrapbook as sb\n",
    "from statistics import mean \n",
    "import catboost as ctb \n",
    "from sklearn.model_selection import train_test_split\n",
    "from sklearn.metrics import mean_squared_error,mean_absolute_error\n",
    "import numpy as np"
   ]
  },
  {
   "cell_type": "markdown",
   "id": "2fa5b0f7",
   "metadata": {
    "id": "2fa5b0f7",
    "papermill": {
     "duration": 0.007022,
     "end_time": "2022-06-07T09:32:49.987030",
     "exception": false,
     "start_time": "2022-06-07T09:32:49.980008",
     "status": "completed"
    },
    "tags": []
   },
   "source": [
    "## Parameters "
   ]
  },
  {
   "cell_type": "code",
   "execution_count": 3,
   "id": "783186fb",
   "metadata": {
    "execution": {
     "iopub.execute_input": "2022-06-07T09:32:50.010144Z",
     "iopub.status.busy": "2022-06-07T09:32:50.009711Z",
     "iopub.status.idle": "2022-06-07T09:32:50.010822Z",
     "shell.execute_reply": "2022-06-07T09:32:50.011054Z"
    },
    "id": "783186fb",
    "papermill": {
     "duration": 0.017425,
     "end_time": "2022-06-07T09:32:50.011167",
     "exception": false,
     "start_time": "2022-06-07T09:32:49.993742",
     "status": "completed"
    },
    "tags": [
     "parameters"
    ]
   },
   "outputs": [],
   "source": [
    "variance = 1\n",
    "bias = 1 "
   ]
  },
  {
   "cell_type": "code",
   "execution_count": 4,
   "id": "40efd85e",
   "metadata": {
    "execution": {
     "iopub.execute_input": "2022-06-07T09:32:50.026541Z",
     "iopub.status.busy": "2022-06-07T09:32:50.026160Z",
     "iopub.status.idle": "2022-06-07T09:32:50.027535Z",
     "shell.execute_reply": "2022-06-07T09:32:50.027761Z"
    },
    "papermill": {
     "duration": 0.00984,
     "end_time": "2022-06-07T09:32:50.027870",
     "exception": false,
     "start_time": "2022-06-07T09:32:50.018030",
     "status": "completed"
    },
    "tags": [
     "injected-parameters"
    ]
   },
   "outputs": [],
   "source": [
    "# Parameters\n",
    "variance = 1\n",
    "bias = 0.1\n"
   ]
  },
  {
   "cell_type": "markdown",
   "id": "391cdbfd",
   "metadata": {
    "id": "391cdbfd",
    "papermill": {
     "duration": 0.006598,
     "end_time": "2022-06-07T09:32:50.041141",
     "exception": false,
     "start_time": "2022-06-07T09:32:50.034543",
     "status": "completed"
    },
    "tags": []
   },
   "source": [
    "## Dataset \n"
   ]
  },
  {
   "cell_type": "code",
   "execution_count": 5,
   "id": "5b51f161",
   "metadata": {
    "execution": {
     "iopub.execute_input": "2022-06-07T09:32:50.056248Z",
     "iopub.status.busy": "2022-06-07T09:32:50.055886Z",
     "iopub.status.idle": "2022-06-07T09:32:50.057271Z",
     "shell.execute_reply": "2022-06-07T09:32:50.057504Z"
    },
    "id": "5b51f161",
    "papermill": {
     "duration": 0.00985,
     "end_time": "2022-06-07T09:32:50.057610",
     "exception": false,
     "start_time": "2022-06-07T09:32:50.047760",
     "status": "completed"
    },
    "tags": []
   },
   "outputs": [],
   "source": [
    "#Parameters \n",
    "n_features = 5\n",
    "n_samples= 100\n",
    "n_target = 1 "
   ]
  },
  {
   "cell_type": "code",
   "execution_count": 6,
   "id": "5d6eced4",
   "metadata": {
    "execution": {
     "iopub.execute_input": "2022-06-07T09:32:50.105999Z",
     "iopub.status.busy": "2022-06-07T09:32:50.105539Z",
     "iopub.status.idle": "2022-06-07T09:32:50.119059Z",
     "shell.execute_reply": "2022-06-07T09:32:50.119334Z"
    },
    "id": "5d6eced4",
    "papermill": {
     "duration": 0.040204,
     "end_time": "2022-06-07T09:32:50.119462",
     "exception": false,
     "start_time": "2022-06-07T09:32:50.079258",
     "status": "completed"
    },
    "tags": []
   },
   "outputs": [
    {
     "name": "stdout",
     "output_type": "stream",
     "text": [
      "         X0        X1        X2        X3        X4         Y\n",
      "0 -0.329538 -1.439593  0.382410  1.030991  1.307443 -0.259368\n",
      "1  0.198730 -1.424852  0.003581 -1.570825  0.193402 -1.951035\n",
      "2 -0.606912 -0.481349 -0.773812 -1.603471  1.300723 -0.925971\n",
      "3 -1.183627 -0.666066  0.416150 -0.117692  1.507471 -0.606746\n",
      "4  0.671167  0.996395  0.614405 -1.427038 -1.604816 -0.583033\n"
     ]
    }
   ],
   "source": [
    "X,Y = friedman1Dataset.friedman1_data(n_samples,n_features)"
   ]
  },
  {
   "cell_type": "code",
   "execution_count": 7,
   "id": "fe007438",
   "metadata": {
    "execution": {
     "iopub.execute_input": "2022-06-07T09:32:50.138622Z",
     "iopub.status.busy": "2022-06-07T09:32:50.138215Z",
     "iopub.status.idle": "2022-06-07T09:32:50.139186Z",
     "shell.execute_reply": "2022-06-07T09:32:50.139425Z"
    },
    "id": "fe007438",
    "papermill": {
     "duration": 0.011549,
     "end_time": "2022-06-07T09:32:50.139532",
     "exception": false,
     "start_time": "2022-06-07T09:32:50.127983",
     "status": "completed"
    },
    "tags": []
   },
   "outputs": [],
   "source": [
    "#Train test split for dataset \n",
    "X_train,X_test,Y_train,Y_test = train_test_split(X,Y,test_size = 0.2)\n",
    "train_data = dataset.CustomDataset(X_train,Y_train)\n",
    "test_data = dataset.CustomDataset(X_test,Y_test)\n"
   ]
  },
  {
   "cell_type": "markdown",
   "id": "a9a1af34",
   "metadata": {
    "id": "a9a1af34",
    "papermill": {
     "duration": 0.006996,
     "end_time": "2022-06-07T09:32:50.153694",
     "exception": false,
     "start_time": "2022-06-07T09:32:50.146698",
     "status": "completed"
    },
    "tags": []
   },
   "source": [
    "## Training Parameters "
   ]
  },
  {
   "cell_type": "code",
   "execution_count": 8,
   "id": "952b7fc8",
   "metadata": {
    "execution": {
     "iopub.execute_input": "2022-06-07T09:32:50.170674Z",
     "iopub.status.busy": "2022-06-07T09:32:50.170312Z",
     "iopub.status.idle": "2022-06-07T09:32:50.171797Z",
     "shell.execute_reply": "2022-06-07T09:32:50.172047Z"
    },
    "id": "952b7fc8",
    "papermill": {
     "duration": 0.011591,
     "end_time": "2022-06-07T09:32:50.172156",
     "exception": false,
     "start_time": "2022-06-07T09:32:50.160565",
     "status": "completed"
    },
    "tags": []
   },
   "outputs": [],
   "source": [
    "batch_size = 32\n",
    "n_epochs = 1000\n",
    "#Select the device \n",
    "device = torch.device('cuda' if torch.cuda.is_available() else 'cpu')"
   ]
  },
  {
   "cell_type": "markdown",
   "id": "a95e1600",
   "metadata": {
    "id": "a95e1600",
    "papermill": {
     "duration": 0.006845,
     "end_time": "2022-06-07T09:32:50.186385",
     "exception": false,
     "start_time": "2022-06-07T09:32:50.179540",
     "status": "completed"
    },
    "tags": []
   },
   "source": [
    "# ABC Pre-generator Model \n",
    "\n",
    "1. The catboost model is used as a pre-generator model for the ABC-GAN. \n",
    "2. The model is first trained on the entire dataset \n",
    "3. It generats X,Y pairs and we add some Gaussian noise with mean 0 and variance 1 to it which is then feed as input to the generator.\n"
   ]
  },
  {
   "cell_type": "code",
   "execution_count": 9,
   "id": "ff8ce7bd",
   "metadata": {
    "execution": {
     "iopub.execute_input": "2022-06-07T09:32:50.204918Z",
     "iopub.status.busy": "2022-06-07T09:32:50.204528Z",
     "iopub.status.idle": "2022-06-07T09:32:50.842761Z",
     "shell.execute_reply": "2022-06-07T09:32:50.843007Z"
    },
    "id": "ff8ce7bd",
    "papermill": {
     "duration": 0.649817,
     "end_time": "2022-06-07T09:32:50.843128",
     "exception": false,
     "start_time": "2022-06-07T09:32:50.193311",
     "status": "completed"
    },
    "tags": []
   },
   "outputs": [
    {
     "name": "stdout",
     "output_type": "stream",
     "text": [
      "Learning rate set to 0.024897\n",
      "0:\tlearn: 0.9676078\ttotal: 68.2ms\tremaining: 1m 8s\n",
      "1:\tlearn: 0.9585094\ttotal: 68.8ms\tremaining: 34.3s\n",
      "2:\tlearn: 0.9484760\ttotal: 69.5ms\tremaining: 23.1s\n",
      "3:\tlearn: 0.9381444\ttotal: 70.2ms\tremaining: 17.5s\n",
      "4:\tlearn: 0.9296626\ttotal: 70.8ms\tremaining: 14.1s\n",
      "5:\tlearn: 0.9202544\ttotal: 71.3ms\tremaining: 11.8s\n",
      "6:\tlearn: 0.9106918\ttotal: 71.8ms\tremaining: 10.2s\n",
      "7:\tlearn: 0.9034015\ttotal: 72.5ms\tremaining: 8.99s\n",
      "8:\tlearn: 0.8944698\ttotal: 73.1ms\tremaining: 8.04s\n",
      "9:\tlearn: 0.8852825\ttotal: 73.5ms\tremaining: 7.28s\n",
      "10:\tlearn: 0.8783498\ttotal: 73.9ms\tremaining: 6.65s\n",
      "11:\tlearn: 0.8688022\ttotal: 74.3ms\tremaining: 6.12s\n",
      "12:\tlearn: 0.8594068\ttotal: 74.8ms\tremaining: 5.68s\n",
      "13:\tlearn: 0.8501191\ttotal: 75.1ms\tremaining: 5.29s\n",
      "14:\tlearn: 0.8429888\ttotal: 75.5ms\tremaining: 4.96s\n",
      "15:\tlearn: 0.8354477\ttotal: 75.9ms\tremaining: 4.67s\n",
      "16:\tlearn: 0.8284727\ttotal: 76.2ms\tremaining: 4.41s\n",
      "17:\tlearn: 0.8203043\ttotal: 76.6ms\tremaining: 4.18s\n",
      "18:\tlearn: 0.8126014\ttotal: 76.9ms\tremaining: 3.97s\n",
      "19:\tlearn: 0.8060338\ttotal: 77.4ms\tremaining: 3.79s\n",
      "20:\tlearn: 0.7976932\ttotal: 77.8ms\tremaining: 3.63s\n",
      "21:\tlearn: 0.7898070\ttotal: 78.4ms\tremaining: 3.48s\n",
      "22:\tlearn: 0.7827239\ttotal: 78.9ms\tremaining: 3.35s\n",
      "23:\tlearn: 0.7749847\ttotal: 79.4ms\tremaining: 3.23s\n",
      "24:\tlearn: 0.7672862\ttotal: 79.8ms\tremaining: 3.11s\n",
      "25:\tlearn: 0.7607491\ttotal: 80.3ms\tremaining: 3.01s\n",
      "26:\tlearn: 0.7535807\ttotal: 80.9ms\tremaining: 2.92s\n",
      "27:\tlearn: 0.7478422\ttotal: 81.4ms\tremaining: 2.82s\n",
      "28:\tlearn: 0.7412394\ttotal: 81.8ms\tremaining: 2.74s\n",
      "29:\tlearn: 0.7353945\ttotal: 82.2ms\tremaining: 2.66s\n",
      "30:\tlearn: 0.7280853\ttotal: 82.6ms\tremaining: 2.58s\n",
      "31:\tlearn: 0.7220653\ttotal: 83.1ms\tremaining: 2.51s\n",
      "32:\tlearn: 0.7159707\ttotal: 83.5ms\tremaining: 2.45s\n",
      "33:\tlearn: 0.7093858\ttotal: 84ms\tremaining: 2.39s\n",
      "34:\tlearn: 0.7022968\ttotal: 84.4ms\tremaining: 2.33s\n",
      "35:\tlearn: 0.6963516\ttotal: 84.9ms\tremaining: 2.27s\n",
      "36:\tlearn: 0.6901630\ttotal: 85.3ms\tremaining: 2.22s\n",
      "37:\tlearn: 0.6850258\ttotal: 85.9ms\tremaining: 2.17s\n",
      "38:\tlearn: 0.6801738\ttotal: 86.4ms\tremaining: 2.13s\n",
      "39:\tlearn: 0.6744892\ttotal: 86.6ms\tremaining: 2.08s\n",
      "40:\tlearn: 0.6676730\ttotal: 87.1ms\tremaining: 2.04s\n",
      "41:\tlearn: 0.6624455\ttotal: 87.5ms\tremaining: 2s\n",
      "42:\tlearn: 0.6571005\ttotal: 88ms\tremaining: 1.96s\n",
      "43:\tlearn: 0.6518984\ttotal: 88.4ms\tremaining: 1.92s\n",
      "44:\tlearn: 0.6462690\ttotal: 88.9ms\tremaining: 1.89s\n",
      "45:\tlearn: 0.6400286\ttotal: 89.2ms\tremaining: 1.85s\n",
      "46:\tlearn: 0.6342351\ttotal: 89.6ms\tremaining: 1.82s\n",
      "47:\tlearn: 0.6283854\ttotal: 90.1ms\tremaining: 1.79s\n",
      "48:\tlearn: 0.6223913\ttotal: 90.5ms\tremaining: 1.76s\n",
      "49:\tlearn: 0.6173284\ttotal: 91ms\tremaining: 1.73s\n",
      "50:\tlearn: 0.6115864\ttotal: 91.4ms\tremaining: 1.7s\n",
      "51:\tlearn: 0.6064776\ttotal: 92.1ms\tremaining: 1.68s\n",
      "52:\tlearn: 0.6014123\ttotal: 92.9ms\tremaining: 1.66s\n",
      "53:\tlearn: 0.5960290\ttotal: 93.3ms\tremaining: 1.64s\n",
      "54:\tlearn: 0.5908673\ttotal: 93.8ms\tremaining: 1.61s\n",
      "55:\tlearn: 0.5869305\ttotal: 94.1ms\tremaining: 1.59s\n",
      "56:\tlearn: 0.5813845\ttotal: 95.4ms\tremaining: 1.58s\n",
      "57:\tlearn: 0.5750389\ttotal: 95.8ms\tremaining: 1.56s\n",
      "58:\tlearn: 0.5694058\ttotal: 96.3ms\tremaining: 1.54s\n",
      "59:\tlearn: 0.5643064\ttotal: 96.7ms\tremaining: 1.51s\n",
      "60:\tlearn: 0.5593090\ttotal: 96.9ms\tremaining: 1.49s\n",
      "61:\tlearn: 0.5537181\ttotal: 97.2ms\tremaining: 1.47s\n",
      "62:\tlearn: 0.5487121\ttotal: 97.5ms\tremaining: 1.45s\n",
      "63:\tlearn: 0.5437666\ttotal: 97.8ms\tremaining: 1.43s\n",
      "64:\tlearn: 0.5393116\ttotal: 98.1ms\tremaining: 1.41s\n",
      "65:\tlearn: 0.5356715\ttotal: 98.4ms\tremaining: 1.39s\n",
      "66:\tlearn: 0.5311165\ttotal: 98.7ms\tremaining: 1.37s\n",
      "67:\tlearn: 0.5267714\ttotal: 99ms\tremaining: 1.36s\n",
      "68:\tlearn: 0.5235730\ttotal: 99.3ms\tremaining: 1.34s\n",
      "69:\tlearn: 0.5189481\ttotal: 99.7ms\tremaining: 1.32s\n",
      "70:\tlearn: 0.5144110\ttotal: 100ms\tremaining: 1.31s\n",
      "71:\tlearn: 0.5103917\ttotal: 100ms\tremaining: 1.29s\n",
      "72:\tlearn: 0.5061261\ttotal: 101ms\tremaining: 1.28s\n",
      "73:\tlearn: 0.5011028\ttotal: 102ms\tremaining: 1.27s\n",
      "74:\tlearn: 0.4971983\ttotal: 102ms\tremaining: 1.26s\n",
      "75:\tlearn: 0.4936731\ttotal: 103ms\tremaining: 1.25s\n",
      "76:\tlearn: 0.4902395\ttotal: 103ms\tremaining: 1.24s\n",
      "77:\tlearn: 0.4865085\ttotal: 104ms\tremaining: 1.22s\n",
      "78:\tlearn: 0.4824342\ttotal: 104ms\tremaining: 1.21s\n"
     ]
    },
    {
     "name": "stdout",
     "output_type": "stream",
     "text": [
      "79:\tlearn: 0.4792534\ttotal: 105ms\tremaining: 1.2s\n",
      "80:\tlearn: 0.4755744\ttotal: 105ms\tremaining: 1.2s\n",
      "81:\tlearn: 0.4719439\ttotal: 106ms\tremaining: 1.19s\n",
      "82:\tlearn: 0.4683947\ttotal: 106ms\tremaining: 1.18s\n",
      "83:\tlearn: 0.4639737\ttotal: 107ms\tremaining: 1.16s\n",
      "84:\tlearn: 0.4600385\ttotal: 107ms\tremaining: 1.15s\n",
      "85:\tlearn: 0.4563394\ttotal: 108ms\tremaining: 1.15s\n",
      "86:\tlearn: 0.4522691\ttotal: 108ms\tremaining: 1.13s\n",
      "87:\tlearn: 0.4494097\ttotal: 108ms\tremaining: 1.12s\n",
      "88:\tlearn: 0.4459648\ttotal: 109ms\tremaining: 1.11s\n",
      "89:\tlearn: 0.4425330\ttotal: 109ms\tremaining: 1.1s\n",
      "90:\tlearn: 0.4403228\ttotal: 110ms\tremaining: 1.1s\n",
      "91:\tlearn: 0.4371339\ttotal: 110ms\tremaining: 1.09s\n",
      "92:\tlearn: 0.4334788\ttotal: 111ms\tremaining: 1.08s\n",
      "93:\tlearn: 0.4304580\ttotal: 111ms\tremaining: 1.07s\n",
      "94:\tlearn: 0.4267330\ttotal: 111ms\tremaining: 1.06s\n",
      "95:\tlearn: 0.4236078\ttotal: 112ms\tremaining: 1.05s\n",
      "96:\tlearn: 0.4199511\ttotal: 112ms\tremaining: 1.04s\n",
      "97:\tlearn: 0.4172983\ttotal: 113ms\tremaining: 1.04s\n",
      "98:\tlearn: 0.4143328\ttotal: 113ms\tremaining: 1.03s\n",
      "99:\tlearn: 0.4114150\ttotal: 114ms\tremaining: 1.02s\n",
      "100:\tlearn: 0.4079257\ttotal: 114ms\tremaining: 1.02s\n",
      "101:\tlearn: 0.4048780\ttotal: 115ms\tremaining: 1.01s\n",
      "102:\tlearn: 0.4018636\ttotal: 115ms\tremaining: 1s\n",
      "103:\tlearn: 0.3992985\ttotal: 116ms\tremaining: 998ms\n",
      "104:\tlearn: 0.3959034\ttotal: 116ms\tremaining: 991ms\n",
      "105:\tlearn: 0.3926869\ttotal: 117ms\tremaining: 985ms\n",
      "106:\tlearn: 0.3901452\ttotal: 117ms\tremaining: 979ms\n",
      "107:\tlearn: 0.3872191\ttotal: 118ms\tremaining: 973ms\n",
      "108:\tlearn: 0.3844911\ttotal: 118ms\tremaining: 968ms\n",
      "109:\tlearn: 0.3815486\ttotal: 119ms\tremaining: 961ms\n",
      "110:\tlearn: 0.3789742\ttotal: 119ms\tremaining: 956ms\n",
      "111:\tlearn: 0.3765428\ttotal: 120ms\tremaining: 949ms\n",
      "112:\tlearn: 0.3732216\ttotal: 120ms\tremaining: 944ms\n",
      "113:\tlearn: 0.3700074\ttotal: 121ms\tremaining: 938ms\n",
      "114:\tlearn: 0.3670935\ttotal: 121ms\tremaining: 933ms\n",
      "115:\tlearn: 0.3640888\ttotal: 122ms\tremaining: 926ms\n",
      "116:\tlearn: 0.3615060\ttotal: 122ms\tremaining: 920ms\n",
      "117:\tlearn: 0.3591864\ttotal: 123ms\tremaining: 916ms\n",
      "118:\tlearn: 0.3565754\ttotal: 123ms\tremaining: 913ms\n",
      "119:\tlearn: 0.3546837\ttotal: 124ms\tremaining: 908ms\n",
      "120:\tlearn: 0.3517603\ttotal: 124ms\tremaining: 902ms\n",
      "121:\tlearn: 0.3489078\ttotal: 125ms\tremaining: 897ms\n",
      "122:\tlearn: 0.3461001\ttotal: 125ms\tremaining: 892ms\n",
      "123:\tlearn: 0.3436352\ttotal: 125ms\tremaining: 886ms\n",
      "124:\tlearn: 0.3415378\ttotal: 126ms\tremaining: 882ms\n",
      "125:\tlearn: 0.3383253\ttotal: 127ms\tremaining: 878ms\n",
      "126:\tlearn: 0.3358374\ttotal: 127ms\tremaining: 873ms\n",
      "127:\tlearn: 0.3336265\ttotal: 127ms\tremaining: 867ms\n",
      "128:\tlearn: 0.3311807\ttotal: 128ms\tremaining: 862ms\n",
      "129:\tlearn: 0.3282745\ttotal: 128ms\tremaining: 857ms\n",
      "130:\tlearn: 0.3258802\ttotal: 129ms\tremaining: 853ms\n",
      "131:\tlearn: 0.3235879\ttotal: 129ms\tremaining: 848ms\n",
      "132:\tlearn: 0.3209836\ttotal: 129ms\tremaining: 844ms\n",
      "133:\tlearn: 0.3187794\ttotal: 130ms\tremaining: 839ms\n",
      "134:\tlearn: 0.3165220\ttotal: 130ms\tremaining: 834ms\n",
      "135:\tlearn: 0.3146892\ttotal: 131ms\tremaining: 829ms\n",
      "136:\tlearn: 0.3126578\ttotal: 131ms\tremaining: 825ms\n",
      "137:\tlearn: 0.3102197\ttotal: 131ms\tremaining: 820ms\n",
      "138:\tlearn: 0.3085697\ttotal: 132ms\tremaining: 816ms\n",
      "139:\tlearn: 0.3064915\ttotal: 132ms\tremaining: 812ms\n",
      "140:\tlearn: 0.3043197\ttotal: 133ms\tremaining: 808ms\n",
      "141:\tlearn: 0.3025303\ttotal: 133ms\tremaining: 804ms\n",
      "142:\tlearn: 0.3003083\ttotal: 134ms\tremaining: 801ms\n",
      "143:\tlearn: 0.2978886\ttotal: 134ms\tremaining: 797ms\n",
      "144:\tlearn: 0.2958336\ttotal: 134ms\tremaining: 793ms\n",
      "145:\tlearn: 0.2936045\ttotal: 135ms\tremaining: 789ms\n",
      "146:\tlearn: 0.2916010\ttotal: 135ms\tremaining: 785ms\n",
      "147:\tlearn: 0.2896039\ttotal: 136ms\tremaining: 781ms\n",
      "148:\tlearn: 0.2872942\ttotal: 136ms\tremaining: 778ms\n",
      "149:\tlearn: 0.2853055\ttotal: 137ms\tremaining: 774ms\n",
      "150:\tlearn: 0.2834058\ttotal: 137ms\tremaining: 771ms\n",
      "151:\tlearn: 0.2813210\ttotal: 137ms\tremaining: 767ms\n",
      "152:\tlearn: 0.2795544\ttotal: 138ms\tremaining: 763ms\n",
      "153:\tlearn: 0.2782201\ttotal: 138ms\tremaining: 760ms\n",
      "154:\tlearn: 0.2761382\ttotal: 139ms\tremaining: 756ms\n",
      "155:\tlearn: 0.2740711\ttotal: 139ms\tremaining: 753ms\n",
      "156:\tlearn: 0.2720645\ttotal: 140ms\tremaining: 749ms\n",
      "157:\tlearn: 0.2701085\ttotal: 140ms\tremaining: 746ms\n",
      "158:\tlearn: 0.2680051\ttotal: 140ms\tremaining: 742ms\n",
      "159:\tlearn: 0.2661883\ttotal: 141ms\tremaining: 739ms\n",
      "160:\tlearn: 0.2645692\ttotal: 141ms\tremaining: 735ms\n",
      "161:\tlearn: 0.2627738\ttotal: 141ms\tremaining: 732ms\n",
      "162:\tlearn: 0.2613425\ttotal: 142ms\tremaining: 729ms\n",
      "163:\tlearn: 0.2593341\ttotal: 142ms\tremaining: 726ms\n",
      "164:\tlearn: 0.2575181\ttotal: 143ms\tremaining: 723ms\n",
      "165:\tlearn: 0.2559964\ttotal: 143ms\tremaining: 720ms\n",
      "166:\tlearn: 0.2544023\ttotal: 144ms\tremaining: 717ms\n",
      "167:\tlearn: 0.2527917\ttotal: 144ms\tremaining: 714ms\n",
      "168:\tlearn: 0.2506521\ttotal: 145ms\tremaining: 711ms\n",
      "169:\tlearn: 0.2491633\ttotal: 145ms\tremaining: 708ms\n",
      "170:\tlearn: 0.2477025\ttotal: 145ms\tremaining: 705ms\n",
      "171:\tlearn: 0.2459646\ttotal: 147ms\tremaining: 706ms\n",
      "172:\tlearn: 0.2445280\ttotal: 147ms\tremaining: 703ms\n",
      "173:\tlearn: 0.2426073\ttotal: 148ms\tremaining: 701ms\n",
      "174:\tlearn: 0.2410565\ttotal: 148ms\tremaining: 698ms\n",
      "175:\tlearn: 0.2395822\ttotal: 149ms\tremaining: 695ms\n",
      "176:\tlearn: 0.2377651\ttotal: 149ms\tremaining: 693ms\n",
      "177:\tlearn: 0.2361448\ttotal: 149ms\tremaining: 690ms\n",
      "178:\tlearn: 0.2345841\ttotal: 150ms\tremaining: 687ms\n",
      "179:\tlearn: 0.2330659\ttotal: 150ms\tremaining: 685ms\n",
      "180:\tlearn: 0.2315664\ttotal: 151ms\tremaining: 682ms\n",
      "181:\tlearn: 0.2301351\ttotal: 151ms\tremaining: 679ms\n",
      "182:\tlearn: 0.2284141\ttotal: 151ms\tremaining: 676ms\n",
      "183:\tlearn: 0.2270450\ttotal: 152ms\tremaining: 673ms\n",
      "184:\tlearn: 0.2253067\ttotal: 152ms\tremaining: 671ms\n",
      "185:\tlearn: 0.2236027\ttotal: 153ms\tremaining: 668ms\n",
      "186:\tlearn: 0.2220673\ttotal: 153ms\tremaining: 666ms\n",
      "187:\tlearn: 0.2209798\ttotal: 153ms\tremaining: 663ms\n",
      "188:\tlearn: 0.2191643\ttotal: 154ms\tremaining: 661ms\n",
      "189:\tlearn: 0.2175331\ttotal: 154ms\tremaining: 658ms\n",
      "190:\tlearn: 0.2158883\ttotal: 155ms\tremaining: 656ms\n",
      "191:\tlearn: 0.2145527\ttotal: 155ms\tremaining: 653ms\n",
      "192:\tlearn: 0.2133946\ttotal: 156ms\tremaining: 650ms\n",
      "193:\tlearn: 0.2120632\ttotal: 156ms\tremaining: 648ms\n",
      "194:\tlearn: 0.2106898\ttotal: 156ms\tremaining: 646ms\n",
      "195:\tlearn: 0.2092621\ttotal: 157ms\tremaining: 644ms\n",
      "196:\tlearn: 0.2078274\ttotal: 157ms\tremaining: 641ms\n",
      "197:\tlearn: 0.2060881\ttotal: 158ms\tremaining: 639ms\n",
      "198:\tlearn: 0.2050259\ttotal: 158ms\tremaining: 636ms\n",
      "199:\tlearn: 0.2035608\ttotal: 159ms\tremaining: 634ms\n",
      "200:\tlearn: 0.2020292\ttotal: 159ms\tremaining: 632ms\n",
      "201:\tlearn: 0.2009768\ttotal: 160ms\tremaining: 630ms\n",
      "202:\tlearn: 0.1997292\ttotal: 160ms\tremaining: 628ms\n",
      "203:\tlearn: 0.1985632\ttotal: 160ms\tremaining: 626ms\n",
      "204:\tlearn: 0.1975878\ttotal: 161ms\tremaining: 623ms\n",
      "205:\tlearn: 0.1964118\ttotal: 161ms\tremaining: 621ms\n",
      "206:\tlearn: 0.1951805\ttotal: 162ms\tremaining: 619ms\n",
      "207:\tlearn: 0.1937768\ttotal: 162ms\tremaining: 617ms\n",
      "208:\tlearn: 0.1925550\ttotal: 163ms\tremaining: 615ms\n",
      "209:\tlearn: 0.1910864\ttotal: 163ms\tremaining: 613ms\n",
      "210:\tlearn: 0.1898560\ttotal: 163ms\tremaining: 611ms\n",
      "211:\tlearn: 0.1886614\ttotal: 164ms\tremaining: 609ms\n",
      "212:\tlearn: 0.1875167\ttotal: 164ms\tremaining: 607ms\n",
      "213:\tlearn: 0.1864086\ttotal: 165ms\tremaining: 605ms\n",
      "214:\tlearn: 0.1852416\ttotal: 165ms\tremaining: 603ms\n",
      "215:\tlearn: 0.1838156\ttotal: 166ms\tremaining: 602ms\n",
      "216:\tlearn: 0.1824401\ttotal: 166ms\tremaining: 600ms\n",
      "217:\tlearn: 0.1813459\ttotal: 167ms\tremaining: 598ms\n",
      "218:\tlearn: 0.1800354\ttotal: 167ms\tremaining: 596ms\n",
      "219:\tlearn: 0.1788776\ttotal: 168ms\tremaining: 594ms\n",
      "220:\tlearn: 0.1777951\ttotal: 168ms\tremaining: 592ms\n",
      "221:\tlearn: 0.1764172\ttotal: 169ms\tremaining: 591ms\n",
      "222:\tlearn: 0.1752127\ttotal: 169ms\tremaining: 589ms\n",
      "223:\tlearn: 0.1739919\ttotal: 169ms\tremaining: 587ms\n",
      "224:\tlearn: 0.1731096\ttotal: 170ms\tremaining: 585ms\n"
     ]
    },
    {
     "name": "stdout",
     "output_type": "stream",
     "text": [
      "225:\tlearn: 0.1717311\ttotal: 170ms\tremaining: 584ms\n",
      "226:\tlearn: 0.1705379\ttotal: 171ms\tremaining: 582ms\n",
      "227:\tlearn: 0.1692909\ttotal: 171ms\tremaining: 580ms\n",
      "228:\tlearn: 0.1681308\ttotal: 172ms\tremaining: 578ms\n",
      "229:\tlearn: 0.1670989\ttotal: 172ms\tremaining: 576ms\n",
      "230:\tlearn: 0.1658485\ttotal: 173ms\tremaining: 575ms\n",
      "231:\tlearn: 0.1648239\ttotal: 173ms\tremaining: 573ms\n",
      "232:\tlearn: 0.1636676\ttotal: 174ms\tremaining: 572ms\n",
      "233:\tlearn: 0.1627018\ttotal: 174ms\tremaining: 570ms\n",
      "234:\tlearn: 0.1616617\ttotal: 175ms\tremaining: 569ms\n",
      "235:\tlearn: 0.1604596\ttotal: 175ms\tremaining: 567ms\n",
      "236:\tlearn: 0.1595701\ttotal: 176ms\tremaining: 565ms\n",
      "237:\tlearn: 0.1584660\ttotal: 176ms\tremaining: 564ms\n",
      "238:\tlearn: 0.1574420\ttotal: 177ms\tremaining: 562ms\n",
      "239:\tlearn: 0.1564076\ttotal: 177ms\tremaining: 561ms\n",
      "240:\tlearn: 0.1554797\ttotal: 178ms\tremaining: 560ms\n",
      "241:\tlearn: 0.1547837\ttotal: 178ms\tremaining: 558ms\n",
      "242:\tlearn: 0.1540484\ttotal: 179ms\tremaining: 557ms\n",
      "243:\tlearn: 0.1532166\ttotal: 179ms\tremaining: 555ms\n",
      "244:\tlearn: 0.1518862\ttotal: 179ms\tremaining: 553ms\n",
      "245:\tlearn: 0.1508634\ttotal: 180ms\tremaining: 551ms\n",
      "246:\tlearn: 0.1500188\ttotal: 180ms\tremaining: 550ms\n",
      "247:\tlearn: 0.1489277\ttotal: 181ms\tremaining: 548ms\n",
      "248:\tlearn: 0.1480589\ttotal: 181ms\tremaining: 547ms\n",
      "249:\tlearn: 0.1472040\ttotal: 182ms\tremaining: 545ms\n",
      "250:\tlearn: 0.1465177\ttotal: 182ms\tremaining: 544ms\n",
      "251:\tlearn: 0.1456606\ttotal: 183ms\tremaining: 542ms\n",
      "252:\tlearn: 0.1447224\ttotal: 183ms\tremaining: 540ms\n",
      "253:\tlearn: 0.1438422\ttotal: 184ms\tremaining: 539ms\n",
      "254:\tlearn: 0.1429425\ttotal: 184ms\tremaining: 538ms\n",
      "255:\tlearn: 0.1421706\ttotal: 185ms\tremaining: 537ms\n",
      "256:\tlearn: 0.1414676\ttotal: 185ms\tremaining: 535ms\n",
      "257:\tlearn: 0.1406115\ttotal: 186ms\tremaining: 534ms\n",
      "258:\tlearn: 0.1399068\ttotal: 186ms\tremaining: 532ms\n",
      "259:\tlearn: 0.1391632\ttotal: 187ms\tremaining: 531ms\n",
      "260:\tlearn: 0.1384735\ttotal: 187ms\tremaining: 529ms\n",
      "261:\tlearn: 0.1375989\ttotal: 187ms\tremaining: 527ms\n",
      "262:\tlearn: 0.1368034\ttotal: 188ms\tremaining: 526ms\n",
      "263:\tlearn: 0.1360584\ttotal: 188ms\tremaining: 524ms\n",
      "264:\tlearn: 0.1352945\ttotal: 189ms\tremaining: 523ms\n",
      "265:\tlearn: 0.1343902\ttotal: 189ms\tremaining: 521ms\n",
      "266:\tlearn: 0.1335690\ttotal: 189ms\tremaining: 520ms\n",
      "267:\tlearn: 0.1328448\ttotal: 190ms\tremaining: 519ms\n",
      "268:\tlearn: 0.1318803\ttotal: 190ms\tremaining: 517ms\n",
      "269:\tlearn: 0.1312649\ttotal: 191ms\tremaining: 516ms\n",
      "270:\tlearn: 0.1305032\ttotal: 191ms\tremaining: 515ms\n",
      "271:\tlearn: 0.1296592\ttotal: 192ms\tremaining: 514ms\n",
      "272:\tlearn: 0.1288973\ttotal: 192ms\tremaining: 513ms\n",
      "273:\tlearn: 0.1279773\ttotal: 193ms\tremaining: 511ms\n",
      "274:\tlearn: 0.1271608\ttotal: 193ms\tremaining: 510ms\n",
      "275:\tlearn: 0.1264066\ttotal: 194ms\tremaining: 508ms\n",
      "276:\tlearn: 0.1257386\ttotal: 194ms\tremaining: 507ms\n",
      "277:\tlearn: 0.1246855\ttotal: 195ms\tremaining: 506ms\n",
      "278:\tlearn: 0.1239227\ttotal: 195ms\tremaining: 505ms\n",
      "279:\tlearn: 0.1232093\ttotal: 196ms\tremaining: 504ms\n",
      "280:\tlearn: 0.1223982\ttotal: 196ms\tremaining: 503ms\n",
      "281:\tlearn: 0.1216430\ttotal: 197ms\tremaining: 501ms\n",
      "282:\tlearn: 0.1209253\ttotal: 197ms\tremaining: 500ms\n",
      "283:\tlearn: 0.1201700\ttotal: 198ms\tremaining: 498ms\n",
      "284:\tlearn: 0.1194055\ttotal: 198ms\tremaining: 497ms\n",
      "285:\tlearn: 0.1187992\ttotal: 199ms\tremaining: 496ms\n",
      "286:\tlearn: 0.1180880\ttotal: 199ms\tremaining: 495ms\n",
      "287:\tlearn: 0.1173043\ttotal: 200ms\tremaining: 493ms\n",
      "288:\tlearn: 0.1166870\ttotal: 200ms\tremaining: 492ms\n",
      "289:\tlearn: 0.1157886\ttotal: 200ms\tremaining: 491ms\n",
      "290:\tlearn: 0.1151263\ttotal: 201ms\tremaining: 490ms\n",
      "291:\tlearn: 0.1143501\ttotal: 201ms\tremaining: 488ms\n",
      "292:\tlearn: 0.1137850\ttotal: 202ms\tremaining: 487ms\n",
      "293:\tlearn: 0.1133515\ttotal: 202ms\tremaining: 486ms\n",
      "294:\tlearn: 0.1129449\ttotal: 203ms\tremaining: 485ms\n",
      "295:\tlearn: 0.1122724\ttotal: 204ms\tremaining: 484ms\n",
      "296:\tlearn: 0.1118370\ttotal: 204ms\tremaining: 483ms\n",
      "297:\tlearn: 0.1112161\ttotal: 205ms\tremaining: 482ms\n",
      "298:\tlearn: 0.1106993\ttotal: 205ms\tremaining: 481ms\n",
      "299:\tlearn: 0.1101221\ttotal: 206ms\tremaining: 480ms\n",
      "300:\tlearn: 0.1097377\ttotal: 206ms\tremaining: 479ms\n",
      "301:\tlearn: 0.1093146\ttotal: 207ms\tremaining: 478ms\n",
      "302:\tlearn: 0.1086917\ttotal: 207ms\tremaining: 477ms\n",
      "303:\tlearn: 0.1081818\ttotal: 208ms\tremaining: 475ms\n",
      "304:\tlearn: 0.1077461\ttotal: 208ms\tremaining: 474ms\n",
      "305:\tlearn: 0.1073121\ttotal: 209ms\tremaining: 473ms\n",
      "306:\tlearn: 0.1069027\ttotal: 209ms\tremaining: 472ms\n",
      "307:\tlearn: 0.1065402\ttotal: 209ms\tremaining: 471ms\n",
      "308:\tlearn: 0.1061033\ttotal: 210ms\tremaining: 470ms\n",
      "309:\tlearn: 0.1055106\ttotal: 210ms\tremaining: 468ms\n",
      "310:\tlearn: 0.1051740\ttotal: 211ms\tremaining: 467ms\n",
      "311:\tlearn: 0.1048288\ttotal: 211ms\tremaining: 466ms\n",
      "312:\tlearn: 0.1045034\ttotal: 212ms\tremaining: 464ms\n",
      "313:\tlearn: 0.1041533\ttotal: 212ms\tremaining: 464ms\n",
      "314:\tlearn: 0.1036907\ttotal: 213ms\tremaining: 462ms\n",
      "315:\tlearn: 0.1032205\ttotal: 213ms\tremaining: 461ms\n",
      "316:\tlearn: 0.1026255\ttotal: 214ms\tremaining: 460ms\n",
      "317:\tlearn: 0.1021689\ttotal: 214ms\tremaining: 459ms\n",
      "318:\tlearn: 0.1018506\ttotal: 215ms\tremaining: 458ms\n",
      "319:\tlearn: 0.1013143\ttotal: 215ms\tremaining: 457ms\n",
      "320:\tlearn: 0.1008730\ttotal: 216ms\tremaining: 456ms\n",
      "321:\tlearn: 0.1003508\ttotal: 216ms\tremaining: 455ms\n",
      "322:\tlearn: 0.0999259\ttotal: 216ms\tremaining: 453ms\n",
      "323:\tlearn: 0.0993802\ttotal: 217ms\tremaining: 452ms\n",
      "324:\tlearn: 0.0989545\ttotal: 217ms\tremaining: 451ms\n",
      "325:\tlearn: 0.0984572\ttotal: 217ms\tremaining: 450ms\n",
      "326:\tlearn: 0.0978716\ttotal: 218ms\tremaining: 448ms\n",
      "327:\tlearn: 0.0973697\ttotal: 218ms\tremaining: 447ms\n",
      "328:\tlearn: 0.0968770\ttotal: 219ms\tremaining: 446ms\n",
      "329:\tlearn: 0.0965944\ttotal: 219ms\tremaining: 445ms\n",
      "330:\tlearn: 0.0963166\ttotal: 220ms\tremaining: 444ms\n",
      "331:\tlearn: 0.0958183\ttotal: 220ms\tremaining: 443ms\n",
      "332:\tlearn: 0.0953543\ttotal: 220ms\tremaining: 442ms\n",
      "333:\tlearn: 0.0949597\ttotal: 221ms\tremaining: 441ms\n",
      "334:\tlearn: 0.0945572\ttotal: 222ms\tremaining: 440ms\n",
      "335:\tlearn: 0.0940802\ttotal: 222ms\tremaining: 439ms\n",
      "336:\tlearn: 0.0937989\ttotal: 222ms\tremaining: 438ms\n",
      "337:\tlearn: 0.0931061\ttotal: 223ms\tremaining: 436ms\n",
      "338:\tlearn: 0.0927856\ttotal: 223ms\tremaining: 436ms\n",
      "339:\tlearn: 0.0925287\ttotal: 224ms\tremaining: 434ms\n",
      "340:\tlearn: 0.0918939\ttotal: 224ms\tremaining: 433ms\n",
      "341:\tlearn: 0.0914689\ttotal: 225ms\tremaining: 432ms\n",
      "342:\tlearn: 0.0910545\ttotal: 225ms\tremaining: 432ms\n",
      "343:\tlearn: 0.0906577\ttotal: 226ms\tremaining: 431ms\n",
      "344:\tlearn: 0.0903093\ttotal: 226ms\tremaining: 430ms\n",
      "345:\tlearn: 0.0896839\ttotal: 227ms\tremaining: 429ms\n",
      "346:\tlearn: 0.0892496\ttotal: 227ms\tremaining: 428ms\n",
      "347:\tlearn: 0.0889503\ttotal: 228ms\tremaining: 427ms\n",
      "348:\tlearn: 0.0885647\ttotal: 228ms\tremaining: 426ms\n",
      "349:\tlearn: 0.0881886\ttotal: 229ms\tremaining: 425ms\n",
      "350:\tlearn: 0.0879001\ttotal: 230ms\tremaining: 425ms\n",
      "351:\tlearn: 0.0874851\ttotal: 230ms\tremaining: 424ms\n",
      "352:\tlearn: 0.0871272\ttotal: 231ms\tremaining: 423ms\n",
      "353:\tlearn: 0.0865820\ttotal: 231ms\tremaining: 422ms\n",
      "354:\tlearn: 0.0861802\ttotal: 232ms\tremaining: 421ms\n",
      "355:\tlearn: 0.0857135\ttotal: 232ms\tremaining: 420ms\n",
      "356:\tlearn: 0.0851892\ttotal: 233ms\tremaining: 419ms\n",
      "357:\tlearn: 0.0846095\ttotal: 233ms\tremaining: 418ms\n",
      "358:\tlearn: 0.0840917\ttotal: 234ms\tremaining: 417ms\n",
      "359:\tlearn: 0.0836291\ttotal: 234ms\tremaining: 416ms\n",
      "360:\tlearn: 0.0831884\ttotal: 234ms\tremaining: 415ms\n",
      "361:\tlearn: 0.0828910\ttotal: 235ms\tremaining: 414ms\n",
      "362:\tlearn: 0.0825510\ttotal: 235ms\tremaining: 413ms\n",
      "363:\tlearn: 0.0820267\ttotal: 236ms\tremaining: 412ms\n",
      "364:\tlearn: 0.0814776\ttotal: 236ms\tremaining: 411ms\n",
      "365:\tlearn: 0.0809415\ttotal: 237ms\tremaining: 410ms\n",
      "366:\tlearn: 0.0806562\ttotal: 237ms\tremaining: 409ms\n",
      "367:\tlearn: 0.0803208\ttotal: 238ms\tremaining: 408ms\n",
      "368:\tlearn: 0.0800049\ttotal: 238ms\tremaining: 407ms\n",
      "369:\tlearn: 0.0798092\ttotal: 238ms\tremaining: 406ms\n",
      "370:\tlearn: 0.0794571\ttotal: 239ms\tremaining: 405ms\n",
      "371:\tlearn: 0.0789794\ttotal: 239ms\tremaining: 404ms\n",
      "372:\tlearn: 0.0784811\ttotal: 240ms\tremaining: 403ms\n",
      "373:\tlearn: 0.0780241\ttotal: 240ms\tremaining: 402ms\n",
      "374:\tlearn: 0.0776904\ttotal: 241ms\tremaining: 401ms\n",
      "375:\tlearn: 0.0774009\ttotal: 241ms\tremaining: 400ms\n",
      "376:\tlearn: 0.0771172\ttotal: 242ms\tremaining: 400ms\n",
      "377:\tlearn: 0.0766950\ttotal: 242ms\tremaining: 399ms\n",
      "378:\tlearn: 0.0764099\ttotal: 243ms\tremaining: 397ms\n",
      "379:\tlearn: 0.0759986\ttotal: 243ms\tremaining: 397ms\n",
      "380:\tlearn: 0.0755651\ttotal: 244ms\tremaining: 396ms\n",
      "381:\tlearn: 0.0751184\ttotal: 244ms\tremaining: 395ms\n",
      "382:\tlearn: 0.0747976\ttotal: 244ms\tremaining: 394ms\n",
      "383:\tlearn: 0.0744835\ttotal: 245ms\tremaining: 393ms\n",
      "384:\tlearn: 0.0741526\ttotal: 245ms\tremaining: 392ms\n",
      "385:\tlearn: 0.0739957\ttotal: 246ms\tremaining: 391ms\n",
      "386:\tlearn: 0.0738409\ttotal: 246ms\tremaining: 390ms\n",
      "387:\tlearn: 0.0733522\ttotal: 247ms\tremaining: 389ms\n",
      "388:\tlearn: 0.0728851\ttotal: 247ms\tremaining: 388ms\n",
      "389:\tlearn: 0.0724384\ttotal: 247ms\tremaining: 387ms\n",
      "390:\tlearn: 0.0719649\ttotal: 248ms\tremaining: 386ms\n",
      "391:\tlearn: 0.0718352\ttotal: 248ms\tremaining: 385ms\n",
      "392:\tlearn: 0.0714327\ttotal: 249ms\tremaining: 384ms\n",
      "393:\tlearn: 0.0709745\ttotal: 249ms\tremaining: 384ms\n",
      "394:\tlearn: 0.0706426\ttotal: 250ms\tremaining: 383ms\n",
      "395:\tlearn: 0.0702737\ttotal: 250ms\tremaining: 382ms\n",
      "396:\tlearn: 0.0699562\ttotal: 251ms\tremaining: 381ms\n",
      "397:\tlearn: 0.0696469\ttotal: 251ms\tremaining: 380ms\n",
      "398:\tlearn: 0.0693403\ttotal: 252ms\tremaining: 379ms\n",
      "399:\tlearn: 0.0689864\ttotal: 252ms\tremaining: 378ms\n",
      "400:\tlearn: 0.0687131\ttotal: 253ms\tremaining: 377ms\n",
      "401:\tlearn: 0.0684957\ttotal: 253ms\tremaining: 377ms\n",
      "402:\tlearn: 0.0682303\ttotal: 254ms\tremaining: 376ms\n",
      "403:\tlearn: 0.0680197\ttotal: 254ms\tremaining: 375ms\n",
      "404:\tlearn: 0.0678130\ttotal: 254ms\tremaining: 374ms\n",
      "405:\tlearn: 0.0675571\ttotal: 255ms\tremaining: 373ms\n",
      "406:\tlearn: 0.0672185\ttotal: 256ms\tremaining: 372ms\n",
      "407:\tlearn: 0.0669692\ttotal: 256ms\tremaining: 371ms\n",
      "408:\tlearn: 0.0666217\ttotal: 256ms\tremaining: 370ms\n",
      "409:\tlearn: 0.0662809\ttotal: 257ms\tremaining: 370ms\n",
      "410:\tlearn: 0.0659651\ttotal: 257ms\tremaining: 369ms\n",
      "411:\tlearn: 0.0656570\ttotal: 258ms\tremaining: 368ms\n",
      "412:\tlearn: 0.0653129\ttotal: 258ms\tremaining: 367ms\n",
      "413:\tlearn: 0.0650948\ttotal: 259ms\tremaining: 366ms\n",
      "414:\tlearn: 0.0647122\ttotal: 259ms\tremaining: 365ms\n",
      "415:\tlearn: 0.0645048\ttotal: 260ms\tremaining: 365ms\n",
      "416:\tlearn: 0.0642779\ttotal: 260ms\tremaining: 364ms\n",
      "417:\tlearn: 0.0641729\ttotal: 261ms\tremaining: 363ms\n",
      "418:\tlearn: 0.0639314\ttotal: 261ms\tremaining: 362ms\n",
      "419:\tlearn: 0.0635447\ttotal: 262ms\tremaining: 361ms\n",
      "420:\tlearn: 0.0634422\ttotal: 262ms\tremaining: 360ms\n",
      "421:\tlearn: 0.0630826\ttotal: 262ms\tremaining: 360ms\n",
      "422:\tlearn: 0.0628679\ttotal: 263ms\tremaining: 359ms\n",
      "423:\tlearn: 0.0626657\ttotal: 263ms\tremaining: 358ms\n",
      "424:\tlearn: 0.0623742\ttotal: 264ms\tremaining: 357ms\n",
      "425:\tlearn: 0.0620953\ttotal: 264ms\tremaining: 356ms\n",
      "426:\tlearn: 0.0618925\ttotal: 265ms\tremaining: 355ms\n",
      "427:\tlearn: 0.0614900\ttotal: 265ms\tremaining: 355ms\n",
      "428:\tlearn: 0.0613937\ttotal: 266ms\tremaining: 354ms\n",
      "429:\tlearn: 0.0610400\ttotal: 266ms\tremaining: 353ms\n",
      "430:\tlearn: 0.0609455\ttotal: 267ms\tremaining: 352ms\n",
      "431:\tlearn: 0.0607494\ttotal: 267ms\tremaining: 351ms\n",
      "432:\tlearn: 0.0605613\ttotal: 268ms\tremaining: 351ms\n",
      "433:\tlearn: 0.0603707\ttotal: 268ms\tremaining: 350ms\n",
      "434:\tlearn: 0.0602797\ttotal: 269ms\tremaining: 349ms\n",
      "435:\tlearn: 0.0600067\ttotal: 269ms\tremaining: 349ms\n",
      "436:\tlearn: 0.0596771\ttotal: 270ms\tremaining: 348ms\n",
      "437:\tlearn: 0.0594202\ttotal: 270ms\tremaining: 347ms\n",
      "438:\tlearn: 0.0593308\ttotal: 271ms\tremaining: 346ms\n"
     ]
    },
    {
     "name": "stdout",
     "output_type": "stream",
     "text": [
      "439:\tlearn: 0.0590688\ttotal: 272ms\tremaining: 346ms\n",
      "440:\tlearn: 0.0587959\ttotal: 272ms\tremaining: 345ms\n",
      "441:\tlearn: 0.0586158\ttotal: 273ms\tremaining: 344ms\n",
      "442:\tlearn: 0.0583118\ttotal: 273ms\tremaining: 344ms\n",
      "443:\tlearn: 0.0580480\ttotal: 274ms\tremaining: 343ms\n",
      "444:\tlearn: 0.0578570\ttotal: 274ms\tremaining: 342ms\n",
      "445:\tlearn: 0.0576824\ttotal: 275ms\tremaining: 341ms\n",
      "446:\tlearn: 0.0575096\ttotal: 275ms\tremaining: 341ms\n",
      "447:\tlearn: 0.0573407\ttotal: 276ms\tremaining: 340ms\n",
      "448:\tlearn: 0.0570440\ttotal: 276ms\tremaining: 339ms\n",
      "449:\tlearn: 0.0568564\ttotal: 277ms\tremaining: 338ms\n",
      "450:\tlearn: 0.0566806\ttotal: 278ms\tremaining: 338ms\n",
      "451:\tlearn: 0.0565001\ttotal: 278ms\tremaining: 337ms\n",
      "452:\tlearn: 0.0562270\ttotal: 279ms\tremaining: 336ms\n",
      "453:\tlearn: 0.0559372\ttotal: 279ms\tremaining: 336ms\n",
      "454:\tlearn: 0.0558023\ttotal: 279ms\tremaining: 335ms\n",
      "455:\tlearn: 0.0556500\ttotal: 280ms\tremaining: 334ms\n",
      "456:\tlearn: 0.0555289\ttotal: 280ms\tremaining: 333ms\n",
      "457:\tlearn: 0.0553716\ttotal: 281ms\tremaining: 333ms\n",
      "458:\tlearn: 0.0552618\ttotal: 281ms\tremaining: 332ms\n",
      "459:\tlearn: 0.0551047\ttotal: 282ms\tremaining: 331ms\n",
      "460:\tlearn: 0.0549647\ttotal: 283ms\tremaining: 330ms\n",
      "461:\tlearn: 0.0546815\ttotal: 283ms\tremaining: 330ms\n",
      "462:\tlearn: 0.0545198\ttotal: 284ms\tremaining: 329ms\n",
      "463:\tlearn: 0.0543057\ttotal: 284ms\tremaining: 328ms\n",
      "464:\tlearn: 0.0540786\ttotal: 285ms\tremaining: 328ms\n",
      "465:\tlearn: 0.0538570\ttotal: 285ms\tremaining: 327ms\n",
      "466:\tlearn: 0.0537063\ttotal: 285ms\tremaining: 326ms\n",
      "467:\tlearn: 0.0534872\ttotal: 286ms\tremaining: 325ms\n",
      "468:\tlearn: 0.0532443\ttotal: 286ms\tremaining: 324ms\n",
      "469:\tlearn: 0.0529589\ttotal: 287ms\tremaining: 323ms\n",
      "470:\tlearn: 0.0527370\ttotal: 287ms\tremaining: 322ms\n",
      "471:\tlearn: 0.0524713\ttotal: 288ms\tremaining: 322ms\n",
      "472:\tlearn: 0.0522549\ttotal: 288ms\tremaining: 321ms\n",
      "473:\tlearn: 0.0520045\ttotal: 289ms\tremaining: 320ms\n",
      "474:\tlearn: 0.0517306\ttotal: 289ms\tremaining: 319ms\n",
      "475:\tlearn: 0.0514877\ttotal: 289ms\tremaining: 319ms\n",
      "476:\tlearn: 0.0512513\ttotal: 290ms\tremaining: 318ms\n",
      "477:\tlearn: 0.0509959\ttotal: 290ms\tremaining: 317ms\n",
      "478:\tlearn: 0.0508637\ttotal: 291ms\tremaining: 316ms\n",
      "479:\tlearn: 0.0507598\ttotal: 291ms\tremaining: 315ms\n",
      "480:\tlearn: 0.0504798\ttotal: 292ms\tremaining: 315ms\n",
      "481:\tlearn: 0.0503090\ttotal: 292ms\tremaining: 314ms\n",
      "482:\tlearn: 0.0501046\ttotal: 293ms\tremaining: 313ms\n",
      "483:\tlearn: 0.0499640\ttotal: 293ms\tremaining: 313ms\n",
      "484:\tlearn: 0.0498741\ttotal: 294ms\tremaining: 312ms\n",
      "485:\tlearn: 0.0496292\ttotal: 294ms\tremaining: 311ms\n",
      "486:\tlearn: 0.0493835\ttotal: 295ms\tremaining: 311ms\n",
      "487:\tlearn: 0.0491871\ttotal: 295ms\tremaining: 310ms\n",
      "488:\tlearn: 0.0489204\ttotal: 296ms\tremaining: 309ms\n",
      "489:\tlearn: 0.0486522\ttotal: 296ms\tremaining: 308ms\n",
      "490:\tlearn: 0.0484926\ttotal: 296ms\tremaining: 307ms\n",
      "491:\tlearn: 0.0483359\ttotal: 297ms\tremaining: 307ms\n",
      "492:\tlearn: 0.0481791\ttotal: 297ms\tremaining: 306ms\n",
      "493:\tlearn: 0.0480781\ttotal: 298ms\tremaining: 305ms\n",
      "494:\tlearn: 0.0478470\ttotal: 298ms\tremaining: 304ms\n",
      "495:\tlearn: 0.0476152\ttotal: 299ms\tremaining: 304ms\n",
      "496:\tlearn: 0.0473597\ttotal: 299ms\tremaining: 303ms\n",
      "497:\tlearn: 0.0471772\ttotal: 300ms\tremaining: 302ms\n",
      "498:\tlearn: 0.0470803\ttotal: 300ms\tremaining: 302ms\n",
      "499:\tlearn: 0.0469848\ttotal: 301ms\tremaining: 301ms\n",
      "500:\tlearn: 0.0467371\ttotal: 301ms\tremaining: 300ms\n",
      "501:\tlearn: 0.0465138\ttotal: 302ms\tremaining: 300ms\n",
      "502:\tlearn: 0.0462726\ttotal: 303ms\tremaining: 299ms\n",
      "503:\tlearn: 0.0460979\ttotal: 303ms\tremaining: 298ms\n",
      "504:\tlearn: 0.0459269\ttotal: 304ms\tremaining: 298ms\n",
      "505:\tlearn: 0.0458356\ttotal: 304ms\tremaining: 297ms\n",
      "506:\tlearn: 0.0456041\ttotal: 304ms\tremaining: 296ms\n",
      "507:\tlearn: 0.0455148\ttotal: 305ms\tremaining: 295ms\n",
      "508:\tlearn: 0.0452828\ttotal: 305ms\tremaining: 295ms\n",
      "509:\tlearn: 0.0450560\ttotal: 306ms\tremaining: 294ms\n",
      "510:\tlearn: 0.0448311\ttotal: 306ms\tremaining: 293ms\n",
      "511:\tlearn: 0.0446891\ttotal: 307ms\tremaining: 292ms\n",
      "512:\tlearn: 0.0445503\ttotal: 307ms\tremaining: 292ms\n",
      "513:\tlearn: 0.0443777\ttotal: 308ms\tremaining: 291ms\n",
      "514:\tlearn: 0.0442339\ttotal: 308ms\tremaining: 290ms\n",
      "515:\tlearn: 0.0440393\ttotal: 309ms\tremaining: 289ms\n",
      "516:\tlearn: 0.0439405\ttotal: 309ms\tremaining: 289ms\n",
      "517:\tlearn: 0.0436530\ttotal: 309ms\tremaining: 288ms\n",
      "518:\tlearn: 0.0434485\ttotal: 310ms\tremaining: 287ms\n",
      "519:\tlearn: 0.0432524\ttotal: 310ms\tremaining: 286ms\n",
      "520:\tlearn: 0.0429744\ttotal: 311ms\tremaining: 286ms\n",
      "521:\tlearn: 0.0427752\ttotal: 311ms\tremaining: 285ms\n",
      "522:\tlearn: 0.0425864\ttotal: 312ms\tremaining: 284ms\n",
      "523:\tlearn: 0.0423484\ttotal: 312ms\tremaining: 284ms\n",
      "524:\tlearn: 0.0421646\ttotal: 313ms\tremaining: 283ms\n",
      "525:\tlearn: 0.0418502\ttotal: 313ms\tremaining: 282ms\n",
      "526:\tlearn: 0.0415434\ttotal: 314ms\tremaining: 282ms\n",
      "527:\tlearn: 0.0412440\ttotal: 314ms\tremaining: 281ms\n",
      "528:\tlearn: 0.0409517\ttotal: 315ms\tremaining: 280ms\n",
      "529:\tlearn: 0.0407290\ttotal: 315ms\tremaining: 280ms\n",
      "530:\tlearn: 0.0405104\ttotal: 316ms\tremaining: 279ms\n",
      "531:\tlearn: 0.0402325\ttotal: 316ms\tremaining: 278ms\n",
      "532:\tlearn: 0.0400216\ttotal: 317ms\tremaining: 277ms\n",
      "533:\tlearn: 0.0397538\ttotal: 317ms\tremaining: 277ms\n",
      "534:\tlearn: 0.0395503\ttotal: 318ms\tremaining: 276ms\n",
      "535:\tlearn: 0.0393470\ttotal: 318ms\tremaining: 275ms\n",
      "536:\tlearn: 0.0391493\ttotal: 319ms\tremaining: 275ms\n",
      "537:\tlearn: 0.0388728\ttotal: 319ms\tremaining: 274ms\n",
      "538:\tlearn: 0.0386781\ttotal: 320ms\tremaining: 274ms\n",
      "539:\tlearn: 0.0384874\ttotal: 320ms\tremaining: 273ms\n",
      "540:\tlearn: 0.0383005\ttotal: 321ms\tremaining: 272ms\n",
      "541:\tlearn: 0.0381155\ttotal: 321ms\tremaining: 272ms\n",
      "542:\tlearn: 0.0379510\ttotal: 322ms\tremaining: 271ms\n",
      "543:\tlearn: 0.0376938\ttotal: 322ms\tremaining: 270ms\n",
      "544:\tlearn: 0.0375344\ttotal: 323ms\tremaining: 270ms\n",
      "545:\tlearn: 0.0372788\ttotal: 324ms\tremaining: 269ms\n",
      "546:\tlearn: 0.0370287\ttotal: 324ms\tremaining: 268ms\n",
      "547:\tlearn: 0.0367787\ttotal: 325ms\tremaining: 268ms\n",
      "548:\tlearn: 0.0366254\ttotal: 325ms\tremaining: 267ms\n",
      "549:\tlearn: 0.0363851\ttotal: 326ms\tremaining: 266ms\n",
      "550:\tlearn: 0.0362356\ttotal: 326ms\tremaining: 266ms\n",
      "551:\tlearn: 0.0359734\ttotal: 327ms\tremaining: 265ms\n",
      "552:\tlearn: 0.0357438\ttotal: 327ms\tremaining: 264ms\n",
      "553:\tlearn: 0.0355418\ttotal: 328ms\tremaining: 264ms\n",
      "554:\tlearn: 0.0352830\ttotal: 328ms\tremaining: 263ms\n",
      "555:\tlearn: 0.0350796\ttotal: 329ms\tremaining: 262ms\n",
      "556:\tlearn: 0.0348367\ttotal: 329ms\tremaining: 262ms\n",
      "557:\tlearn: 0.0346401\ttotal: 330ms\tremaining: 261ms\n",
      "558:\tlearn: 0.0343948\ttotal: 330ms\tremaining: 260ms\n",
      "559:\tlearn: 0.0341826\ttotal: 331ms\tremaining: 260ms\n",
      "560:\tlearn: 0.0340285\ttotal: 331ms\tremaining: 259ms\n",
      "561:\tlearn: 0.0338773\ttotal: 332ms\tremaining: 258ms\n",
      "562:\tlearn: 0.0337289\ttotal: 332ms\tremaining: 258ms\n",
      "563:\tlearn: 0.0335012\ttotal: 333ms\tremaining: 257ms\n",
      "564:\tlearn: 0.0332782\ttotal: 333ms\tremaining: 256ms\n",
      "565:\tlearn: 0.0331323\ttotal: 333ms\tremaining: 256ms\n",
      "566:\tlearn: 0.0329895\ttotal: 334ms\tremaining: 255ms\n",
      "567:\tlearn: 0.0328483\ttotal: 334ms\tremaining: 254ms\n",
      "568:\tlearn: 0.0327098\ttotal: 335ms\tremaining: 254ms\n",
      "569:\tlearn: 0.0325149\ttotal: 335ms\tremaining: 253ms\n",
      "570:\tlearn: 0.0323355\ttotal: 336ms\tremaining: 252ms\n",
      "571:\tlearn: 0.0321444\ttotal: 336ms\tremaining: 252ms\n",
      "572:\tlearn: 0.0319234\ttotal: 337ms\tremaining: 251ms\n",
      "573:\tlearn: 0.0317959\ttotal: 337ms\tremaining: 250ms\n",
      "574:\tlearn: 0.0316108\ttotal: 338ms\tremaining: 250ms\n",
      "575:\tlearn: 0.0314872\ttotal: 338ms\tremaining: 249ms\n",
      "576:\tlearn: 0.0313577\ttotal: 339ms\tremaining: 248ms\n",
      "577:\tlearn: 0.0312370\ttotal: 339ms\tremaining: 248ms\n",
      "578:\tlearn: 0.0310807\ttotal: 340ms\tremaining: 247ms\n",
      "579:\tlearn: 0.0309630\ttotal: 342ms\tremaining: 247ms\n",
      "580:\tlearn: 0.0308483\ttotal: 342ms\tremaining: 247ms\n",
      "581:\tlearn: 0.0307336\ttotal: 342ms\tremaining: 246ms\n",
      "582:\tlearn: 0.0305296\ttotal: 343ms\tremaining: 245ms\n",
      "583:\tlearn: 0.0303957\ttotal: 343ms\tremaining: 245ms\n",
      "584:\tlearn: 0.0302458\ttotal: 344ms\tremaining: 244ms\n",
      "585:\tlearn: 0.0301365\ttotal: 344ms\tremaining: 243ms\n",
      "586:\tlearn: 0.0300297\ttotal: 345ms\tremaining: 243ms\n",
      "587:\tlearn: 0.0299202\ttotal: 345ms\tremaining: 242ms\n",
      "588:\tlearn: 0.0298130\ttotal: 346ms\tremaining: 241ms\n",
      "589:\tlearn: 0.0296200\ttotal: 346ms\tremaining: 240ms\n",
      "590:\tlearn: 0.0294925\ttotal: 346ms\tremaining: 240ms\n",
      "591:\tlearn: 0.0293678\ttotal: 347ms\tremaining: 239ms\n",
      "592:\tlearn: 0.0292620\ttotal: 348ms\tremaining: 239ms\n",
      "593:\tlearn: 0.0291628\ttotal: 348ms\tremaining: 238ms\n",
      "594:\tlearn: 0.0289818\ttotal: 348ms\tremaining: 237ms\n",
      "595:\tlearn: 0.0288049\ttotal: 349ms\tremaining: 236ms\n",
      "596:\tlearn: 0.0286320\ttotal: 349ms\tremaining: 236ms\n",
      "597:\tlearn: 0.0284442\ttotal: 350ms\tremaining: 235ms\n",
      "598:\tlearn: 0.0283262\ttotal: 350ms\tremaining: 235ms\n",
      "599:\tlearn: 0.0281590\ttotal: 351ms\tremaining: 234ms\n",
      "600:\tlearn: 0.0279955\ttotal: 352ms\tremaining: 233ms\n",
      "601:\tlearn: 0.0278358\ttotal: 352ms\tremaining: 233ms\n",
      "602:\tlearn: 0.0276797\ttotal: 353ms\tremaining: 232ms\n"
     ]
    },
    {
     "name": "stdout",
     "output_type": "stream",
     "text": [
      "603:\tlearn: 0.0275018\ttotal: 353ms\tremaining: 232ms\n",
      "604:\tlearn: 0.0273505\ttotal: 354ms\tremaining: 231ms\n",
      "605:\tlearn: 0.0271907\ttotal: 354ms\tremaining: 230ms\n",
      "606:\tlearn: 0.0270447\ttotal: 355ms\tremaining: 230ms\n",
      "607:\tlearn: 0.0268751\ttotal: 355ms\tremaining: 229ms\n",
      "608:\tlearn: 0.0267059\ttotal: 356ms\tremaining: 228ms\n",
      "609:\tlearn: 0.0265659\ttotal: 356ms\tremaining: 228ms\n",
      "610:\tlearn: 0.0264028\ttotal: 357ms\tremaining: 227ms\n",
      "611:\tlearn: 0.0262565\ttotal: 357ms\tremaining: 226ms\n",
      "612:\tlearn: 0.0261075\ttotal: 358ms\tremaining: 226ms\n",
      "613:\tlearn: 0.0259646\ttotal: 358ms\tremaining: 225ms\n",
      "614:\tlearn: 0.0258334\ttotal: 358ms\tremaining: 224ms\n",
      "615:\tlearn: 0.0256814\ttotal: 359ms\tremaining: 224ms\n",
      "616:\tlearn: 0.0255410\ttotal: 359ms\tremaining: 223ms\n",
      "617:\tlearn: 0.0254151\ttotal: 360ms\tremaining: 222ms\n",
      "618:\tlearn: 0.0252687\ttotal: 360ms\tremaining: 222ms\n",
      "619:\tlearn: 0.0251380\ttotal: 361ms\tremaining: 221ms\n",
      "620:\tlearn: 0.0250177\ttotal: 361ms\tremaining: 220ms\n",
      "621:\tlearn: 0.0249161\ttotal: 361ms\tremaining: 220ms\n",
      "622:\tlearn: 0.0247847\ttotal: 362ms\tremaining: 219ms\n",
      "623:\tlearn: 0.0246857\ttotal: 362ms\tremaining: 218ms\n",
      "624:\tlearn: 0.0245502\ttotal: 363ms\tremaining: 218ms\n",
      "625:\tlearn: 0.0244192\ttotal: 364ms\tremaining: 217ms\n",
      "626:\tlearn: 0.0243239\ttotal: 364ms\tremaining: 217ms\n",
      "627:\tlearn: 0.0242086\ttotal: 365ms\tremaining: 216ms\n",
      "628:\tlearn: 0.0241441\ttotal: 365ms\tremaining: 215ms\n",
      "629:\tlearn: 0.0240211\ttotal: 366ms\tremaining: 215ms\n",
      "630:\tlearn: 0.0238924\ttotal: 366ms\tremaining: 214ms\n",
      "631:\tlearn: 0.0238301\ttotal: 366ms\tremaining: 213ms\n",
      "632:\tlearn: 0.0237108\ttotal: 367ms\tremaining: 213ms\n",
      "633:\tlearn: 0.0236146\ttotal: 367ms\tremaining: 212ms\n",
      "634:\tlearn: 0.0235541\ttotal: 368ms\tremaining: 211ms\n",
      "635:\tlearn: 0.0234949\ttotal: 368ms\tremaining: 211ms\n",
      "636:\tlearn: 0.0233791\ttotal: 369ms\tremaining: 210ms\n",
      "637:\tlearn: 0.0233222\ttotal: 369ms\tremaining: 209ms\n",
      "638:\tlearn: 0.0232664\ttotal: 370ms\tremaining: 209ms\n",
      "639:\tlearn: 0.0231235\ttotal: 370ms\tremaining: 208ms\n",
      "640:\tlearn: 0.0230691\ttotal: 371ms\tremaining: 208ms\n",
      "641:\tlearn: 0.0230158\ttotal: 371ms\tremaining: 207ms\n",
      "642:\tlearn: 0.0229637\ttotal: 372ms\tremaining: 206ms\n",
      "643:\tlearn: 0.0228488\ttotal: 372ms\tremaining: 206ms\n",
      "644:\tlearn: 0.0227979\ttotal: 373ms\tremaining: 205ms\n",
      "645:\tlearn: 0.0227480\ttotal: 373ms\tremaining: 205ms\n",
      "646:\tlearn: 0.0226575\ttotal: 374ms\tremaining: 204ms\n",
      "647:\tlearn: 0.0226086\ttotal: 374ms\tremaining: 203ms\n",
      "648:\tlearn: 0.0225057\ttotal: 375ms\tremaining: 203ms\n",
      "649:\tlearn: 0.0224577\ttotal: 375ms\tremaining: 202ms\n",
      "650:\tlearn: 0.0224108\ttotal: 376ms\tremaining: 201ms\n",
      "651:\tlearn: 0.0223648\ttotal: 376ms\tremaining: 201ms\n",
      "652:\tlearn: 0.0222636\ttotal: 376ms\tremaining: 200ms\n",
      "653:\tlearn: 0.0222245\ttotal: 377ms\tremaining: 199ms\n",
      "654:\tlearn: 0.0221047\ttotal: 377ms\tremaining: 199ms\n",
      "655:\tlearn: 0.0220607\ttotal: 378ms\tremaining: 198ms\n",
      "656:\tlearn: 0.0219437\ttotal: 378ms\tremaining: 197ms\n",
      "657:\tlearn: 0.0219058\ttotal: 378ms\tremaining: 197ms\n",
      "658:\tlearn: 0.0217911\ttotal: 379ms\tremaining: 196ms\n",
      "659:\tlearn: 0.0217540\ttotal: 379ms\tremaining: 195ms\n",
      "660:\tlearn: 0.0216273\ttotal: 380ms\tremaining: 195ms\n",
      "661:\tlearn: 0.0215156\ttotal: 380ms\tremaining: 194ms\n",
      "662:\tlearn: 0.0214275\ttotal: 381ms\tremaining: 194ms\n",
      "663:\tlearn: 0.0213181\ttotal: 381ms\tremaining: 193ms\n",
      "664:\tlearn: 0.0212284\ttotal: 382ms\tremaining: 192ms\n",
      "665:\tlearn: 0.0211410\ttotal: 382ms\tremaining: 192ms\n",
      "666:\tlearn: 0.0210802\ttotal: 383ms\tremaining: 191ms\n",
      "667:\tlearn: 0.0209925\ttotal: 383ms\tremaining: 190ms\n",
      "668:\tlearn: 0.0209077\ttotal: 384ms\tremaining: 190ms\n",
      "669:\tlearn: 0.0208024\ttotal: 384ms\tremaining: 189ms\n",
      "670:\tlearn: 0.0206992\ttotal: 385ms\tremaining: 189ms\n",
      "671:\tlearn: 0.0206177\ttotal: 385ms\tremaining: 188ms\n",
      "672:\tlearn: 0.0205290\ttotal: 385ms\tremaining: 187ms\n",
      "673:\tlearn: 0.0204950\ttotal: 386ms\tremaining: 187ms\n",
      "674:\tlearn: 0.0204210\ttotal: 386ms\tremaining: 186ms\n",
      "675:\tlearn: 0.0203218\ttotal: 387ms\tremaining: 185ms\n",
      "676:\tlearn: 0.0202337\ttotal: 387ms\tremaining: 185ms\n",
      "677:\tlearn: 0.0201779\ttotal: 388ms\tremaining: 184ms\n",
      "678:\tlearn: 0.0200823\ttotal: 388ms\tremaining: 184ms\n",
      "679:\tlearn: 0.0200092\ttotal: 389ms\tremaining: 183ms\n",
      "680:\tlearn: 0.0199154\ttotal: 389ms\tremaining: 182ms\n",
      "681:\tlearn: 0.0198659\ttotal: 390ms\tremaining: 182ms\n",
      "682:\tlearn: 0.0198257\ttotal: 390ms\tremaining: 181ms\n",
      "683:\tlearn: 0.0197539\ttotal: 390ms\tremaining: 180ms\n",
      "684:\tlearn: 0.0196766\ttotal: 391ms\tremaining: 180ms\n",
      "685:\tlearn: 0.0195979\ttotal: 391ms\tremaining: 179ms\n",
      "686:\tlearn: 0.0195211\ttotal: 392ms\tremaining: 178ms\n",
      "687:\tlearn: 0.0194466\ttotal: 392ms\tremaining: 178ms\n",
      "688:\tlearn: 0.0193766\ttotal: 393ms\tremaining: 177ms\n",
      "689:\tlearn: 0.0193007\ttotal: 393ms\tremaining: 177ms\n",
      "690:\tlearn: 0.0192260\ttotal: 394ms\tremaining: 176ms\n",
      "691:\tlearn: 0.0191345\ttotal: 394ms\tremaining: 175ms\n",
      "692:\tlearn: 0.0190455\ttotal: 395ms\tremaining: 175ms\n",
      "693:\tlearn: 0.0189560\ttotal: 395ms\tremaining: 174ms\n",
      "694:\tlearn: 0.0188825\ttotal: 396ms\tremaining: 174ms\n",
      "695:\tlearn: 0.0187874\ttotal: 396ms\tremaining: 173ms\n",
      "696:\tlearn: 0.0187002\ttotal: 397ms\tremaining: 172ms\n",
      "697:\tlearn: 0.0186144\ttotal: 397ms\tremaining: 172ms\n",
      "698:\tlearn: 0.0185295\ttotal: 397ms\tremaining: 171ms\n",
      "699:\tlearn: 0.0184452\ttotal: 398ms\tremaining: 171ms\n",
      "700:\tlearn: 0.0183713\ttotal: 399ms\tremaining: 170ms\n",
      "701:\tlearn: 0.0182766\ttotal: 399ms\tremaining: 169ms\n",
      "702:\tlearn: 0.0181947\ttotal: 400ms\tremaining: 169ms\n",
      "703:\tlearn: 0.0181223\ttotal: 400ms\tremaining: 168ms\n",
      "704:\tlearn: 0.0180418\ttotal: 401ms\tremaining: 168ms\n",
      "705:\tlearn: 0.0179915\ttotal: 401ms\tremaining: 167ms\n",
      "706:\tlearn: 0.0179420\ttotal: 401ms\tremaining: 166ms\n",
      "707:\tlearn: 0.0178654\ttotal: 402ms\tremaining: 166ms\n",
      "708:\tlearn: 0.0177859\ttotal: 402ms\tremaining: 165ms\n",
      "709:\tlearn: 0.0176924\ttotal: 403ms\tremaining: 164ms\n",
      "710:\tlearn: 0.0176028\ttotal: 403ms\tremaining: 164ms\n",
      "711:\tlearn: 0.0175355\ttotal: 404ms\tremaining: 163ms\n",
      "712:\tlearn: 0.0174584\ttotal: 404ms\tremaining: 163ms\n",
      "713:\tlearn: 0.0173691\ttotal: 405ms\tremaining: 162ms\n",
      "714:\tlearn: 0.0173109\ttotal: 405ms\tremaining: 161ms\n",
      "715:\tlearn: 0.0172639\ttotal: 406ms\tremaining: 161ms\n",
      "716:\tlearn: 0.0171907\ttotal: 406ms\tremaining: 160ms\n",
      "717:\tlearn: 0.0171512\ttotal: 407ms\tremaining: 160ms\n",
      "718:\tlearn: 0.0170862\ttotal: 407ms\tremaining: 159ms\n",
      "719:\tlearn: 0.0169991\ttotal: 408ms\tremaining: 159ms\n",
      "720:\tlearn: 0.0169195\ttotal: 408ms\tremaining: 158ms\n",
      "721:\tlearn: 0.0168415\ttotal: 409ms\tremaining: 157ms\n",
      "722:\tlearn: 0.0167995\ttotal: 409ms\tremaining: 157ms\n",
      "723:\tlearn: 0.0167266\ttotal: 409ms\tremaining: 156ms\n",
      "724:\tlearn: 0.0166854\ttotal: 410ms\tremaining: 155ms\n",
      "725:\tlearn: 0.0166135\ttotal: 410ms\tremaining: 155ms\n",
      "726:\tlearn: 0.0165433\ttotal: 411ms\tremaining: 154ms\n",
      "727:\tlearn: 0.0164815\ttotal: 411ms\tremaining: 154ms\n",
      "728:\tlearn: 0.0163984\ttotal: 412ms\tremaining: 153ms\n",
      "729:\tlearn: 0.0163234\ttotal: 412ms\tremaining: 152ms\n",
      "730:\tlearn: 0.0162499\ttotal: 413ms\tremaining: 152ms\n",
      "731:\tlearn: 0.0162104\ttotal: 413ms\tremaining: 151ms\n",
      "732:\tlearn: 0.0161411\ttotal: 414ms\tremaining: 151ms\n",
      "733:\tlearn: 0.0161022\ttotal: 415ms\tremaining: 150ms\n",
      "734:\tlearn: 0.0160340\ttotal: 415ms\tremaining: 150ms\n",
      "735:\tlearn: 0.0159988\ttotal: 416ms\tremaining: 149ms\n",
      "736:\tlearn: 0.0159192\ttotal: 416ms\tremaining: 148ms\n",
      "737:\tlearn: 0.0158849\ttotal: 416ms\tremaining: 148ms\n",
      "738:\tlearn: 0.0158085\ttotal: 417ms\tremaining: 147ms\n",
      "739:\tlearn: 0.0157749\ttotal: 417ms\tremaining: 147ms\n",
      "740:\tlearn: 0.0157000\ttotal: 418ms\tremaining: 146ms\n",
      "741:\tlearn: 0.0156671\ttotal: 418ms\tremaining: 145ms\n",
      "742:\tlearn: 0.0155914\ttotal: 419ms\tremaining: 145ms\n",
      "743:\tlearn: 0.0155593\ttotal: 419ms\tremaining: 144ms\n",
      "744:\tlearn: 0.0154868\ttotal: 419ms\tremaining: 144ms\n",
      "745:\tlearn: 0.0154441\ttotal: 420ms\tremaining: 143ms\n",
      "746:\tlearn: 0.0153824\ttotal: 420ms\tremaining: 142ms\n",
      "747:\tlearn: 0.0153352\ttotal: 421ms\tremaining: 142ms\n",
      "748:\tlearn: 0.0152940\ttotal: 421ms\tremaining: 141ms\n",
      "749:\tlearn: 0.0152238\ttotal: 422ms\tremaining: 141ms\n",
      "750:\tlearn: 0.0151551\ttotal: 422ms\tremaining: 140ms\n",
      "751:\tlearn: 0.0150877\ttotal: 423ms\tremaining: 139ms\n",
      "752:\tlearn: 0.0150317\ttotal: 423ms\tremaining: 139ms\n",
      "753:\tlearn: 0.0149760\ttotal: 423ms\tremaining: 138ms\n",
      "754:\tlearn: 0.0149051\ttotal: 424ms\tremaining: 138ms\n",
      "755:\tlearn: 0.0148584\ttotal: 424ms\tremaining: 137ms\n",
      "756:\tlearn: 0.0148130\ttotal: 425ms\tremaining: 136ms\n",
      "757:\tlearn: 0.0147438\ttotal: 425ms\tremaining: 136ms\n",
      "758:\tlearn: 0.0146897\ttotal: 426ms\tremaining: 135ms\n",
      "759:\tlearn: 0.0146320\ttotal: 426ms\tremaining: 135ms\n",
      "760:\tlearn: 0.0145879\ttotal: 427ms\tremaining: 134ms\n",
      "761:\tlearn: 0.0145207\ttotal: 427ms\tremaining: 133ms\n",
      "762:\tlearn: 0.0144753\ttotal: 428ms\tremaining: 133ms\n",
      "763:\tlearn: 0.0144320\ttotal: 428ms\tremaining: 132ms\n",
      "764:\tlearn: 0.0143896\ttotal: 429ms\tremaining: 132ms\n",
      "765:\tlearn: 0.0143239\ttotal: 429ms\tremaining: 131ms\n",
      "766:\tlearn: 0.0142824\ttotal: 430ms\tremaining: 131ms\n",
      "767:\tlearn: 0.0142275\ttotal: 431ms\tremaining: 130ms\n",
      "768:\tlearn: 0.0141883\ttotal: 431ms\tremaining: 129ms\n",
      "769:\tlearn: 0.0141440\ttotal: 432ms\tremaining: 129ms\n",
      "770:\tlearn: 0.0141227\ttotal: 432ms\tremaining: 128ms\n",
      "771:\tlearn: 0.0140825\ttotal: 433ms\tremaining: 128ms\n",
      "772:\tlearn: 0.0140243\ttotal: 433ms\tremaining: 127ms\n",
      "773:\tlearn: 0.0139755\ttotal: 434ms\tremaining: 127ms\n",
      "774:\tlearn: 0.0139427\ttotal: 434ms\tremaining: 126ms\n",
      "775:\tlearn: 0.0138985\ttotal: 434ms\tremaining: 125ms\n",
      "776:\tlearn: 0.0138556\ttotal: 435ms\tremaining: 125ms\n",
      "777:\tlearn: 0.0138352\ttotal: 435ms\tremaining: 124ms\n",
      "778:\tlearn: 0.0138032\ttotal: 436ms\tremaining: 124ms\n",
      "779:\tlearn: 0.0137718\ttotal: 436ms\tremaining: 123ms\n",
      "780:\tlearn: 0.0137448\ttotal: 437ms\tremaining: 122ms\n",
      "781:\tlearn: 0.0136891\ttotal: 437ms\tremaining: 122ms\n",
      "782:\tlearn: 0.0136645\ttotal: 438ms\tremaining: 121ms\n",
      "783:\tlearn: 0.0136335\ttotal: 438ms\tremaining: 121ms\n",
      "784:\tlearn: 0.0136071\ttotal: 439ms\tremaining: 120ms\n",
      "785:\tlearn: 0.0135767\ttotal: 439ms\tremaining: 120ms\n",
      "786:\tlearn: 0.0135316\ttotal: 440ms\tremaining: 119ms\n",
      "787:\tlearn: 0.0135059\ttotal: 440ms\tremaining: 118ms\n",
      "788:\tlearn: 0.0134758\ttotal: 441ms\tremaining: 118ms\n",
      "789:\tlearn: 0.0134231\ttotal: 441ms\tremaining: 117ms\n",
      "790:\tlearn: 0.0133661\ttotal: 442ms\tremaining: 117ms\n",
      "791:\tlearn: 0.0133104\ttotal: 442ms\tremaining: 116ms\n",
      "792:\tlearn: 0.0132558\ttotal: 443ms\tremaining: 116ms\n",
      "793:\tlearn: 0.0132005\ttotal: 443ms\tremaining: 115ms\n",
      "794:\tlearn: 0.0131497\ttotal: 444ms\tremaining: 114ms\n",
      "795:\tlearn: 0.0131151\ttotal: 444ms\tremaining: 114ms\n",
      "796:\tlearn: 0.0130639\ttotal: 445ms\tremaining: 113ms\n",
      "797:\tlearn: 0.0130351\ttotal: 445ms\tremaining: 113ms\n",
      "798:\tlearn: 0.0129832\ttotal: 446ms\tremaining: 112ms\n",
      "799:\tlearn: 0.0129239\ttotal: 446ms\tremaining: 112ms\n",
      "800:\tlearn: 0.0128714\ttotal: 447ms\tremaining: 111ms\n",
      "801:\tlearn: 0.0128226\ttotal: 447ms\tremaining: 110ms\n",
      "802:\tlearn: 0.0127892\ttotal: 447ms\tremaining: 110ms\n",
      "803:\tlearn: 0.0127337\ttotal: 448ms\tremaining: 109ms\n",
      "804:\tlearn: 0.0127073\ttotal: 448ms\tremaining: 109ms\n",
      "805:\tlearn: 0.0126520\ttotal: 449ms\tremaining: 108ms\n",
      "806:\tlearn: 0.0125981\ttotal: 449ms\tremaining: 108ms\n",
      "807:\tlearn: 0.0125722\ttotal: 450ms\tremaining: 107ms\n",
      "808:\tlearn: 0.0125197\ttotal: 450ms\tremaining: 106ms\n",
      "809:\tlearn: 0.0124943\ttotal: 451ms\tremaining: 106ms\n",
      "810:\tlearn: 0.0124432\ttotal: 452ms\tremaining: 105ms\n",
      "811:\tlearn: 0.0123913\ttotal: 452ms\tremaining: 105ms\n",
      "812:\tlearn: 0.0123364\ttotal: 453ms\tremaining: 104ms\n",
      "813:\tlearn: 0.0123116\ttotal: 453ms\tremaining: 104ms\n",
      "814:\tlearn: 0.0122871\ttotal: 453ms\tremaining: 103ms\n",
      "815:\tlearn: 0.0122561\ttotal: 454ms\tremaining: 102ms\n",
      "816:\tlearn: 0.0122024\ttotal: 454ms\tremaining: 102ms\n"
     ]
    },
    {
     "name": "stdout",
     "output_type": "stream",
     "text": [
      "817:\tlearn: 0.0121651\ttotal: 455ms\tremaining: 101ms\n",
      "818:\tlearn: 0.0121169\ttotal: 455ms\tremaining: 101ms\n",
      "819:\tlearn: 0.0120696\ttotal: 456ms\tremaining: 100ms\n",
      "820:\tlearn: 0.0120394\ttotal: 456ms\tremaining: 99.5ms\n",
      "821:\tlearn: 0.0119871\ttotal: 457ms\tremaining: 98.9ms\n",
      "822:\tlearn: 0.0119634\ttotal: 457ms\tremaining: 98.4ms\n",
      "823:\tlearn: 0.0119204\ttotal: 458ms\tremaining: 97.8ms\n",
      "824:\tlearn: 0.0118938\ttotal: 458ms\tremaining: 97.2ms\n",
      "825:\tlearn: 0.0118522\ttotal: 459ms\tremaining: 96.6ms\n",
      "826:\tlearn: 0.0118017\ttotal: 459ms\tremaining: 96.1ms\n",
      "827:\tlearn: 0.0117513\ttotal: 460ms\tremaining: 95.5ms\n",
      "828:\tlearn: 0.0117020\ttotal: 460ms\tremaining: 94.9ms\n",
      "829:\tlearn: 0.0116769\ttotal: 461ms\tremaining: 94.4ms\n",
      "830:\tlearn: 0.0116283\ttotal: 461ms\tremaining: 93.8ms\n",
      "831:\tlearn: 0.0116036\ttotal: 461ms\tremaining: 93.2ms\n",
      "832:\tlearn: 0.0115792\ttotal: 462ms\tremaining: 92.6ms\n",
      "833:\tlearn: 0.0115474\ttotal: 462ms\tremaining: 92ms\n",
      "834:\tlearn: 0.0115043\ttotal: 464ms\tremaining: 91.6ms\n",
      "835:\tlearn: 0.0114564\ttotal: 464ms\tremaining: 91ms\n",
      "836:\tlearn: 0.0114281\ttotal: 464ms\tremaining: 90.4ms\n",
      "837:\tlearn: 0.0113809\ttotal: 465ms\tremaining: 89.9ms\n",
      "838:\tlearn: 0.0113530\ttotal: 465ms\tremaining: 89.3ms\n",
      "839:\tlearn: 0.0113064\ttotal: 466ms\tremaining: 88.7ms\n",
      "840:\tlearn: 0.0112790\ttotal: 466ms\tremaining: 88.2ms\n",
      "841:\tlearn: 0.0112375\ttotal: 467ms\tremaining: 87.6ms\n",
      "842:\tlearn: 0.0111917\ttotal: 467ms\tremaining: 87ms\n",
      "843:\tlearn: 0.0111443\ttotal: 467ms\tremaining: 86.4ms\n",
      "844:\tlearn: 0.0110996\ttotal: 468ms\tremaining: 85.8ms\n",
      "845:\tlearn: 0.0110557\ttotal: 468ms\tremaining: 85.3ms\n",
      "846:\tlearn: 0.0110285\ttotal: 469ms\tremaining: 84.7ms\n",
      "847:\tlearn: 0.0109850\ttotal: 469ms\tremaining: 84.1ms\n",
      "848:\tlearn: 0.0109583\ttotal: 470ms\tremaining: 83.5ms\n",
      "849:\tlearn: 0.0109154\ttotal: 470ms\tremaining: 83ms\n",
      "850:\tlearn: 0.0108768\ttotal: 471ms\tremaining: 82.4ms\n",
      "851:\tlearn: 0.0108387\ttotal: 471ms\tremaining: 81.9ms\n",
      "852:\tlearn: 0.0107976\ttotal: 472ms\tremaining: 81.3ms\n",
      "853:\tlearn: 0.0107782\ttotal: 472ms\tremaining: 80.7ms\n",
      "854:\tlearn: 0.0107380\ttotal: 473ms\tremaining: 80.2ms\n",
      "855:\tlearn: 0.0106961\ttotal: 473ms\tremaining: 79.6ms\n",
      "856:\tlearn: 0.0106701\ttotal: 474ms\tremaining: 79ms\n",
      "857:\tlearn: 0.0106320\ttotal: 474ms\tremaining: 78.5ms\n",
      "858:\tlearn: 0.0106131\ttotal: 475ms\tremaining: 77.9ms\n",
      "859:\tlearn: 0.0105944\ttotal: 475ms\tremaining: 77.4ms\n",
      "860:\tlearn: 0.0105553\ttotal: 476ms\tremaining: 76.8ms\n",
      "861:\tlearn: 0.0105268\ttotal: 476ms\tremaining: 76.3ms\n",
      "862:\tlearn: 0.0104929\ttotal: 477ms\tremaining: 75.7ms\n",
      "863:\tlearn: 0.0104745\ttotal: 477ms\tremaining: 75.1ms\n",
      "864:\tlearn: 0.0104376\ttotal: 478ms\tremaining: 74.6ms\n",
      "865:\tlearn: 0.0104196\ttotal: 478ms\tremaining: 74ms\n",
      "866:\tlearn: 0.0103872\ttotal: 479ms\tremaining: 73.4ms\n",
      "867:\tlearn: 0.0103510\ttotal: 479ms\tremaining: 72.9ms\n",
      "868:\tlearn: 0.0103279\ttotal: 480ms\tremaining: 72.3ms\n",
      "869:\tlearn: 0.0102884\ttotal: 480ms\tremaining: 71.7ms\n",
      "870:\tlearn: 0.0102709\ttotal: 480ms\tremaining: 71.1ms\n",
      "871:\tlearn: 0.0102333\ttotal: 481ms\tremaining: 70.6ms\n",
      "872:\tlearn: 0.0101981\ttotal: 481ms\tremaining: 70ms\n",
      "873:\tlearn: 0.0101614\ttotal: 482ms\tremaining: 69.5ms\n",
      "874:\tlearn: 0.0101415\ttotal: 482ms\tremaining: 68.9ms\n",
      "875:\tlearn: 0.0101014\ttotal: 482ms\tremaining: 68.3ms\n",
      "876:\tlearn: 0.0100791\ttotal: 483ms\tremaining: 67.7ms\n",
      "877:\tlearn: 0.0100481\ttotal: 483ms\tremaining: 67.2ms\n",
      "878:\tlearn: 0.0100261\ttotal: 484ms\tremaining: 66.6ms\n",
      "879:\tlearn: 0.0099872\ttotal: 484ms\tremaining: 66ms\n",
      "880:\tlearn: 0.0099657\ttotal: 485ms\tremaining: 65.5ms\n",
      "881:\tlearn: 0.0099280\ttotal: 485ms\tremaining: 64.9ms\n",
      "882:\tlearn: 0.0098943\ttotal: 485ms\tremaining: 64.3ms\n",
      "883:\tlearn: 0.0098617\ttotal: 486ms\tremaining: 63.8ms\n",
      "884:\tlearn: 0.0098343\ttotal: 487ms\tremaining: 63.2ms\n",
      "885:\tlearn: 0.0097800\ttotal: 487ms\tremaining: 62.7ms\n",
      "886:\tlearn: 0.0097271\ttotal: 487ms\tremaining: 62.1ms\n",
      "887:\tlearn: 0.0096996\ttotal: 488ms\tremaining: 61.5ms\n",
      "888:\tlearn: 0.0096399\ttotal: 488ms\tremaining: 61ms\n",
      "889:\tlearn: 0.0096039\ttotal: 489ms\tremaining: 60.4ms\n",
      "890:\tlearn: 0.0095631\ttotal: 489ms\tremaining: 59.9ms\n",
      "891:\tlearn: 0.0095310\ttotal: 490ms\tremaining: 59.3ms\n",
      "892:\tlearn: 0.0094994\ttotal: 490ms\tremaining: 58.8ms\n",
      "893:\tlearn: 0.0094570\ttotal: 491ms\tremaining: 58.2ms\n",
      "894:\tlearn: 0.0094174\ttotal: 491ms\tremaining: 57.6ms\n",
      "895:\tlearn: 0.0093992\ttotal: 492ms\tremaining: 57.1ms\n",
      "896:\tlearn: 0.0093730\ttotal: 492ms\tremaining: 56.5ms\n",
      "897:\tlearn: 0.0093551\ttotal: 493ms\tremaining: 56ms\n",
      "898:\tlearn: 0.0093375\ttotal: 493ms\tremaining: 55.4ms\n",
      "899:\tlearn: 0.0093096\ttotal: 494ms\tremaining: 54.9ms\n",
      "900:\tlearn: 0.0092599\ttotal: 494ms\tremaining: 54.3ms\n",
      "901:\tlearn: 0.0092344\ttotal: 495ms\tremaining: 53.8ms\n",
      "902:\tlearn: 0.0092149\ttotal: 495ms\tremaining: 53.2ms\n",
      "903:\tlearn: 0.0091899\ttotal: 496ms\tremaining: 52.6ms\n",
      "904:\tlearn: 0.0091519\ttotal: 496ms\tremaining: 52.1ms\n",
      "905:\tlearn: 0.0091042\ttotal: 497ms\tremaining: 51.5ms\n",
      "906:\tlearn: 0.0090798\ttotal: 497ms\tremaining: 51ms\n",
      "907:\tlearn: 0.0090488\ttotal: 498ms\tremaining: 50.4ms\n",
      "908:\tlearn: 0.0090143\ttotal: 498ms\tremaining: 49.9ms\n",
      "909:\tlearn: 0.0089895\ttotal: 499ms\tremaining: 49.3ms\n",
      "910:\tlearn: 0.0089658\ttotal: 499ms\tremaining: 48.8ms\n",
      "911:\tlearn: 0.0089292\ttotal: 500ms\tremaining: 48.2ms\n",
      "912:\tlearn: 0.0088959\ttotal: 500ms\tremaining: 47.7ms\n",
      "913:\tlearn: 0.0088660\ttotal: 501ms\tremaining: 47.1ms\n",
      "914:\tlearn: 0.0088363\ttotal: 501ms\tremaining: 46.6ms\n",
      "915:\tlearn: 0.0088128\ttotal: 502ms\tremaining: 46ms\n",
      "916:\tlearn: 0.0087870\ttotal: 502ms\tremaining: 45.5ms\n",
      "917:\tlearn: 0.0087701\ttotal: 503ms\tremaining: 44.9ms\n",
      "918:\tlearn: 0.0087535\ttotal: 503ms\tremaining: 44.3ms\n",
      "919:\tlearn: 0.0087308\ttotal: 504ms\tremaining: 43.8ms\n",
      "920:\tlearn: 0.0086956\ttotal: 504ms\tremaining: 43.2ms\n",
      "921:\tlearn: 0.0086512\ttotal: 505ms\tremaining: 42.7ms\n",
      "922:\tlearn: 0.0086222\ttotal: 505ms\tremaining: 42.1ms\n",
      "923:\tlearn: 0.0086002\ttotal: 506ms\tremaining: 41.6ms\n",
      "924:\tlearn: 0.0085719\ttotal: 506ms\tremaining: 41ms\n",
      "925:\tlearn: 0.0085330\ttotal: 507ms\tremaining: 40.5ms\n",
      "926:\tlearn: 0.0084946\ttotal: 507ms\tremaining: 40ms\n",
      "927:\tlearn: 0.0084569\ttotal: 508ms\tremaining: 39.4ms\n",
      "928:\tlearn: 0.0084198\ttotal: 508ms\tremaining: 38.8ms\n",
      "929:\tlearn: 0.0083984\ttotal: 509ms\tremaining: 38.3ms\n",
      "930:\tlearn: 0.0083759\ttotal: 509ms\tremaining: 37.7ms\n",
      "931:\tlearn: 0.0083335\ttotal: 510ms\tremaining: 37.2ms\n",
      "932:\tlearn: 0.0083100\ttotal: 510ms\tremaining: 36.6ms\n",
      "933:\tlearn: 0.0082868\ttotal: 511ms\tremaining: 36.1ms\n",
      "934:\tlearn: 0.0082717\ttotal: 511ms\tremaining: 35.5ms\n",
      "935:\tlearn: 0.0082457\ttotal: 512ms\tremaining: 35ms\n",
      "936:\tlearn: 0.0082247\ttotal: 512ms\tremaining: 34.4ms\n",
      "937:\tlearn: 0.0082028\ttotal: 513ms\tremaining: 33.9ms\n",
      "938:\tlearn: 0.0081895\ttotal: 513ms\tremaining: 33.3ms\n",
      "939:\tlearn: 0.0081764\ttotal: 514ms\tremaining: 32.8ms\n",
      "940:\tlearn: 0.0081596\ttotal: 514ms\tremaining: 32.2ms\n",
      "941:\tlearn: 0.0081340\ttotal: 515ms\tremaining: 31.7ms\n",
      "942:\tlearn: 0.0081140\ttotal: 515ms\tremaining: 31.1ms\n",
      "943:\tlearn: 0.0080975\ttotal: 516ms\tremaining: 30.6ms\n",
      "944:\tlearn: 0.0080778\ttotal: 516ms\tremaining: 30ms\n",
      "945:\tlearn: 0.0080549\ttotal: 517ms\tremaining: 29.5ms\n",
      "946:\tlearn: 0.0080119\ttotal: 517ms\tremaining: 28.9ms\n",
      "947:\tlearn: 0.0079966\ttotal: 518ms\tremaining: 28.4ms\n",
      "948:\tlearn: 0.0079545\ttotal: 518ms\tremaining: 27.8ms\n",
      "949:\tlearn: 0.0079338\ttotal: 518ms\tremaining: 27.3ms\n",
      "950:\tlearn: 0.0078857\ttotal: 519ms\tremaining: 26.7ms\n",
      "951:\tlearn: 0.0078557\ttotal: 519ms\tremaining: 26.2ms\n",
      "952:\tlearn: 0.0078411\ttotal: 520ms\tremaining: 25.6ms\n",
      "953:\tlearn: 0.0078253\ttotal: 520ms\tremaining: 25.1ms\n",
      "954:\tlearn: 0.0077983\ttotal: 520ms\tremaining: 24.5ms\n",
      "955:\tlearn: 0.0077785\ttotal: 521ms\tremaining: 24ms\n",
      "956:\tlearn: 0.0077631\ttotal: 521ms\tremaining: 23.4ms\n",
      "957:\tlearn: 0.0077479\ttotal: 522ms\tremaining: 22.9ms\n",
      "958:\tlearn: 0.0077334\ttotal: 522ms\tremaining: 22.3ms\n",
      "959:\tlearn: 0.0077135\ttotal: 523ms\tremaining: 21.8ms\n",
      "960:\tlearn: 0.0076985\ttotal: 523ms\tremaining: 21.2ms\n",
      "961:\tlearn: 0.0076524\ttotal: 524ms\tremaining: 20.7ms\n",
      "962:\tlearn: 0.0076398\ttotal: 524ms\tremaining: 20.1ms\n",
      "963:\tlearn: 0.0076274\ttotal: 525ms\tremaining: 19.6ms\n",
      "964:\tlearn: 0.0076089\ttotal: 525ms\tremaining: 19ms\n",
      "965:\tlearn: 0.0075948\ttotal: 526ms\tremaining: 18.5ms\n",
      "966:\tlearn: 0.0075690\ttotal: 526ms\tremaining: 18ms\n",
      "967:\tlearn: 0.0075502\ttotal: 527ms\tremaining: 17.4ms\n",
      "968:\tlearn: 0.0075355\ttotal: 527ms\tremaining: 16.9ms\n",
      "969:\tlearn: 0.0075212\ttotal: 528ms\tremaining: 16.3ms\n",
      "970:\tlearn: 0.0074946\ttotal: 528ms\tremaining: 15.8ms\n",
      "971:\tlearn: 0.0074754\ttotal: 529ms\tremaining: 15.2ms\n",
      "972:\tlearn: 0.0074500\ttotal: 530ms\tremaining: 14.7ms\n",
      "973:\tlearn: 0.0074383\ttotal: 530ms\tremaining: 14.1ms\n",
      "974:\tlearn: 0.0074206\ttotal: 531ms\tremaining: 13.6ms\n",
      "975:\tlearn: 0.0074090\ttotal: 531ms\tremaining: 13.1ms\n",
      "976:\tlearn: 0.0073920\ttotal: 532ms\tremaining: 12.5ms\n",
      "977:\tlearn: 0.0073779\ttotal: 532ms\tremaining: 12ms\n",
      "978:\tlearn: 0.0073640\ttotal: 533ms\tremaining: 11.4ms\n",
      "979:\tlearn: 0.0073472\ttotal: 533ms\tremaining: 10.9ms\n",
      "980:\tlearn: 0.0073335\ttotal: 534ms\tremaining: 10.3ms\n",
      "981:\tlearn: 0.0072961\ttotal: 534ms\tremaining: 9.79ms\n",
      "982:\tlearn: 0.0072791\ttotal: 535ms\tremaining: 9.24ms\n",
      "983:\tlearn: 0.0072676\ttotal: 535ms\tremaining: 8.7ms\n",
      "984:\tlearn: 0.0072514\ttotal: 536ms\tremaining: 8.16ms\n",
      "985:\tlearn: 0.0072387\ttotal: 536ms\tremaining: 7.61ms\n"
     ]
    },
    {
     "name": "stdout",
     "output_type": "stream",
     "text": [
      "986:\tlearn: 0.0072141\ttotal: 537ms\tremaining: 7.07ms\n",
      "987:\tlearn: 0.0072007\ttotal: 537ms\tremaining: 6.52ms\n",
      "988:\tlearn: 0.0071646\ttotal: 538ms\tremaining: 5.98ms\n",
      "989:\tlearn: 0.0071482\ttotal: 538ms\tremaining: 5.43ms\n",
      "990:\tlearn: 0.0071352\ttotal: 538ms\tremaining: 4.89ms\n",
      "991:\tlearn: 0.0070946\ttotal: 539ms\tremaining: 4.35ms\n",
      "992:\tlearn: 0.0070836\ttotal: 540ms\tremaining: 3.8ms\n",
      "993:\tlearn: 0.0070728\ttotal: 540ms\tremaining: 3.26ms\n",
      "994:\tlearn: 0.0070568\ttotal: 541ms\tremaining: 2.72ms\n",
      "995:\tlearn: 0.0070462\ttotal: 542ms\tremaining: 2.18ms\n",
      "996:\tlearn: 0.0070310\ttotal: 542ms\tremaining: 1.63ms\n",
      "997:\tlearn: 0.0070163\ttotal: 543ms\tremaining: 1.09ms\n",
      "998:\tlearn: 0.0069931\ttotal: 543ms\tremaining: 543us\n",
      "999:\tlearn: 0.0069702\ttotal: 544ms\tremaining: 0us\n"
     ]
    },
    {
     "data": {
      "text/plain": [
       "<catboost.core.CatBoostRegressor at 0x7fbd11732190>"
      ]
     },
     "execution_count": 9,
     "metadata": {},
     "output_type": "execute_result"
    }
   ],
   "source": [
    "#Train the Model \n",
    "prior_model = ctb.CatBoostRegressor()\n",
    "prior_model.fit(X_train,Y_train)"
   ]
  },
  {
   "cell_type": "code",
   "execution_count": 10,
   "id": "af65dcda",
   "metadata": {
    "execution": {
     "iopub.execute_input": "2022-06-07T09:32:50.865615Z",
     "iopub.status.busy": "2022-06-07T09:32:50.865232Z",
     "iopub.status.idle": "2022-06-07T09:32:50.874447Z",
     "shell.execute_reply": "2022-06-07T09:32:50.874695Z"
    },
    "id": "af65dcda",
    "papermill": {
     "duration": 0.022268,
     "end_time": "2022-06-07T09:32:50.874810",
     "exception": false,
     "start_time": "2022-06-07T09:32:50.852542",
     "status": "completed"
    },
    "tags": []
   },
   "outputs": [
    {
     "data": {
      "application/scrapbook.scrap.json+json": {
       "data": 0.14287751643249297,
       "encoder": "json",
       "name": "Prior Model MSE",
       "version": 1
      }
     },
     "metadata": {
      "scrapbook": {
       "data": true,
       "display": false,
       "name": "Prior Model MSE"
      }
     },
     "output_type": "display_data"
    },
    {
     "data": {
      "application/scrapbook.scrap.json+json": {
       "data": 0.7966969099309128,
       "encoder": "json",
       "name": "ABC Pre-generator MSE",
       "version": 1
      }
     },
     "metadata": {
      "scrapbook": {
       "data": true,
       "display": false,
       "name": "ABC Pre-generator MSE"
      }
     },
     "output_type": "display_data"
    },
    {
     "data": {
      "application/scrapbook.scrap.json+json": {
       "data": 0.3058274727868593,
       "encoder": "json",
       "name": "Prior Model MSE",
       "version": 1
      }
     },
     "metadata": {
      "scrapbook": {
       "data": true,
       "display": false,
       "name": "Prior Model MSE"
      }
     },
     "output_type": "display_data"
    },
    {
     "data": {
      "application/scrapbook.scrap.json+json": {
       "data": 0.7351929030554384,
       "encoder": "json",
       "name": "ABC Pre-generator MSE",
       "version": 1
      }
     },
     "metadata": {
      "scrapbook": {
       "data": true,
       "display": false,
       "name": "ABC Pre-generator MSE"
      }
     },
     "output_type": "display_data"
    }
   ],
   "source": [
    "y_pred = prior_model.predict(X_test)\n",
    "y_abc = y_pred + np.random.normal(0,variance, y_pred.shape) + bias \n",
    "mse = mean_squared_error(y_pred,Y_test)\n",
    "sb.glue(\"Prior Model MSE\",mse)\n",
    "mse = mean_squared_error(y_abc,Y_test)\n",
    "sb.glue(\"ABC Pre-generator MSE\",mse)\n",
    "mae = mean_absolute_error(y_pred,Y_test)\n",
    "sb.glue(\"Prior Model MSE\",mae)\n",
    "mae = mean_absolute_error(y_abc,Y_test)\n",
    "sb.glue(\"ABC Pre-generator MSE\",mae)"
   ]
  },
  {
   "cell_type": "markdown",
   "id": "25609da2",
   "metadata": {
    "papermill": {
     "duration": 0.009145,
     "end_time": "2022-06-07T09:32:50.893649",
     "exception": false,
     "start_time": "2022-06-07T09:32:50.884504",
     "status": "completed"
    },
    "tags": []
   },
   "source": [
    "# ABC GAN Model"
   ]
  },
  {
   "cell_type": "code",
   "execution_count": 11,
   "id": "dfc3464d",
   "metadata": {
    "execution": {
     "iopub.execute_input": "2022-06-07T09:32:50.916301Z",
     "iopub.status.busy": "2022-06-07T09:32:50.915920Z",
     "iopub.status.idle": "2022-06-07T09:32:50.922140Z",
     "shell.execute_reply": "2022-06-07T09:32:50.922382Z"
    },
    "papermill": {
     "duration": 0.01958,
     "end_time": "2022-06-07T09:32:50.922495",
     "exception": false,
     "start_time": "2022-06-07T09:32:50.902915",
     "status": "completed"
    },
    "tags": []
   },
   "outputs": [],
   "source": [
    "gen = network.Generator(n_features+1).to(device)\n",
    "disc = network.Discriminator(n_features+1).to(device)\n",
    "\n",
    "criterion = torch.nn.BCELoss()\n",
    "gen_opt = torch.optim.Adam(gen.parameters(), lr=0.001, betas=(0.5, 0.999))\n",
    "disc_opt = torch.optim.Adam(disc.parameters(), lr=0.001, betas=(0.5, 0.999))"
   ]
  },
  {
   "cell_type": "code",
   "execution_count": 12,
   "id": "b75fdd85",
   "metadata": {
    "execution": {
     "iopub.execute_input": "2022-06-07T09:32:50.945204Z",
     "iopub.status.busy": "2022-06-07T09:32:50.944818Z",
     "iopub.status.idle": "2022-06-07T09:46:19.474444Z",
     "shell.execute_reply": "2022-06-07T09:46:19.474753Z"
    },
    "papermill": {
     "duration": 808.542686,
     "end_time": "2022-06-07T09:46:19.474955",
     "exception": false,
     "start_time": "2022-06-07T09:32:50.932269",
     "status": "completed"
    },
    "tags": []
   },
   "outputs": [
    {
     "data": {
      "image/png": "[encoded data removed]",
      "text/plain": [
       "<Figure size 432x288 with 1 Axes>"
      ]
     },
     "metadata": {
      "needs_background": "light"
     },
     "output_type": "display_data"
    },
    {
     "data": {
      "image/png": "[encoded data removed]",
      "text/plain": [
       "<Figure size 432x288 with 1 Axes>"
      ]
     },
     "metadata": {
      "needs_background": "light"
     },
     "output_type": "display_data"
    }
   ],
   "source": [
    "#Training the ABC_GAN \n",
    "ABC_train_test2.training_GAN(disc,gen,disc_opt,gen_opt,train_data,batch_size,n_epochs,criterion,prior_model,variance,bias,device)"
   ]
  },
  {
   "cell_type": "code",
   "execution_count": 13,
   "id": "1fa7c368",
   "metadata": {
    "execution": {
     "iopub.execute_input": "2022-06-07T09:46:19.499236Z",
     "iopub.status.busy": "2022-06-07T09:46:19.498769Z",
     "iopub.status.idle": "2022-06-07T09:46:19.671830Z",
     "shell.execute_reply": "2022-06-07T09:46:19.672140Z"
    },
    "papermill": {
     "duration": 0.186976,
     "end_time": "2022-06-07T09:46:19.672276",
     "exception": false,
     "start_time": "2022-06-07T09:46:19.485300",
     "status": "completed"
    },
    "tags": []
   },
   "outputs": [
    {
     "data": {
      "application/scrapbook.scrap.json+json": {
       "data": 0.027110186397730197,
       "encoder": "json",
       "name": "ABC-GAN Model 1 MSE",
       "version": 1
      }
     },
     "metadata": {
      "scrapbook": {
       "data": true,
       "display": false,
       "name": "ABC-GAN Model 1 MSE"
      }
     },
     "output_type": "display_data"
    },
    {
     "data": {
      "application/scrapbook.scrap.json+json": {
       "data": 0.12586509046144784,
       "encoder": "json",
       "name": "ABC-GAN Model 1 MAE",
       "version": 1
      }
     },
     "metadata": {
      "scrapbook": {
       "data": true,
       "display": false,
       "name": "ABC-GAN Model 1 MAE"
      }
     },
     "output_type": "display_data"
    },
    {
     "data": {
      "application/scrapbook.scrap.json+json": {
       "data": 2.5173018092289565,
       "encoder": "json",
       "name": "ABC-GAN Model 1 Manhattan Distance",
       "version": 1
      }
     },
     "metadata": {
      "scrapbook": {
       "data": true,
       "display": false,
       "name": "ABC-GAN Model 1 Manhattan Distance"
      }
     },
     "output_type": "display_data"
    },
    {
     "data": {
      "application/scrapbook.scrap.json+json": {
       "data": 0.7358643005534301,
       "encoder": "json",
       "name": "ABC-GAN Model 1 Euclidean distance",
       "version": 1
      }
     },
     "metadata": {
      "scrapbook": {
       "data": true,
       "display": false,
       "name": "ABC-GAN Model 1 Euclidean distance"
      }
     },
     "output_type": "display_data"
    },
    {
     "data": {
      "application/scrapbook.scrap.json+json": {
       "data": [
        [
         0.027018052956559374,
         0.024699412978332082,
         0.029114587741745794,
         0.024389487252653826,
         0.025546192960898394,
         0.028042101976127932,
         0.03226458909746495,
         0.023345107652018453,
         0.031747558988072175,
         0.027176526950726303,
         0.02979483265978125,
         0.027877808295573465,
         0.024694686504198086,
         0.03304174128604172,
         0.02513043347547352,
         0.026511927775939047,
         0.025570097015228006,
         0.024389015397763107,
         0.026680350577920266,
         0.02736555692372931,
         0.026647975428664494,
         0.027196317681361187,
         0.027618445660530754,
         0.027438310307517887,
         0.02798267898882113,
         0.029923607348924484,
         0.02755172118993885,
         0.02567315659617985,
         0.02561233994862146,
         0.03001805797680898,
         0.028203073878435958,
         0.027433083572229233,
         0.02483629740342329,
         0.02629309554514118,
         0.02724833585515359,
         0.028084993822434567,
         0.025338166303234454,
         0.024850060062450892,
         0.027937512468213833,
         0.027770755818694766,
         0.02672974450428589,
         0.025406448336115404,
         0.027288382030064125,
         0.026491963421883473,
         0.029376349305748006,
         0.026701333821798356,
         0.02757295538644332,
         0.026495946656888474,
         0.028018321848081597,
         0.028549990917402866,
         0.027252485424735795,
         0.02497718122676205,
         0.026878795387264863,
         0.024169550440116414,
         0.026003336933141254,
         0.027069692251669424,
         0.025535139700933122,
         0.026777628257502146,
         0.02575031855048048,
         0.031871869084916196,
         0.026790340850478767,
         0.026025630907711483,
         0.0236795753205589,
         0.026535704899348735,
         0.027528158436732102,
         0.027116384091145786,
         0.025184796714390584,
         0.030149850678836777,
         0.027864506757835437,
         0.026640406020470207,
         0.024727578838050365,
         0.03102719599751741,
         0.023816653065551634,
         0.028792336445074073,
         0.027585499887025446,
         0.02459922818666346,
         0.0259938757150941,
         0.030596552864390513,
         0.02560745699615654,
         0.03187334794175283,
         0.02706940496829068,
         0.026778087521660006,
         0.030024879445273177,
         0.02700381165017033,
         0.026817154872734394,
         0.02668373440503251,
         0.024794489478782968,
         0.0255200385732354,
         0.02595463212403871,
         0.029460515018948398,
         0.027311397972155503,
         0.028171254308730437,
         0.02578035634999435,
         0.027792866697236778,
         0.026393157219720055,
         0.02491209289797714,
         0.030470335953637,
         0.026189083042721505,
         0.02828098746127719,
         0.02649979138735698
        ],
        [
         0.12429269924759864,
         0.12006368953734636,
         0.13740884736180306,
         0.11862705089151859,
         0.12117965929210187,
         0.1299444342032075,
         0.14438330605626107,
         0.11628671735525131,
         0.14196334406733513,
         0.12449675127863884,
         0.13219036981463433,
         0.12924004420638086,
         0.11993332952260971,
         0.14093775115907192,
         0.11709304079413414,
         0.12563564255833626,
         0.12278580218553543,
         0.11978712528944016,
         0.1252156425267458,
         0.12528616338968276,
         0.12429414875805378,
         0.12276522368192673,
         0.12823472656309604,
         0.12742689829319714,
         0.12642302326858043,
         0.13508846946060657,
         0.12986099161207676,
         0.11929371878504753,
         0.11486859247088432,
         0.13718702867627144,
         0.12588712200522423,
         0.1324289847165346,
         0.12077754512429237,
         0.12442160919308662,
         0.13593734577298164,
         0.1292190309613943,
         0.1250883497297764,
         0.1186950508505106,
         0.1311097139492631,
         0.1235301174223423,
         0.12589719612151384,
         0.11950272973626852,
         0.12674338072538377,
         0.12232287377119064,
         0.13167271949350834,
         0.12812283895909787,
         0.12522824071347713,
         0.12356545403599739,
         0.1326147358864546,
         0.12723407242447138,
         0.1302404809743166,
         0.12334268912672997,
         0.12168094851076602,
         0.11680321134626866,
         0.12273999098688364,
         0.12667225822806358,
         0.11797528639435768,
         0.1270561099052429,
         0.11912093237042427,
         0.14077021293342112,
         0.124489301815629,
         0.12495753206312657,
         0.11178674213588238,
         0.1277615899220109,
         0.12843964621424675,
         0.1260021163150668,
         0.11794463098049164,
         0.13099060915410518,
         0.12398501839488744,
         0.12743493691086769,
         0.11800236888229847,
         0.14056519605219364,
         0.11006044130772352,
         0.1335342913866043,
         0.12436689622700214,
         0.12004257552325726,
         0.12153902724385261,
         0.13779957499355078,
         0.11835588328540325,
         0.1388420581817627,
         0.12621073871850969,
         0.12956267446279526,
         0.13478194288909434,
         0.11981145031750202,
         0.12288263328373432,
         0.12599123008549212,
         0.11299434043467045,
         0.11869299188256263,
         0.12099437862634659,
         0.13247973136603833,
         0.12207676507532597,
         0.12740038707852364,
         0.12424421645700931,
         0.12960594296455383,
         0.12391224093735217,
         0.11723185386508703,
         0.13402725905179977,
         0.13035643361508847,
         0.12970120832324028,
         0.11805472504347563
        ],
        [
         2.485853984951973,
         2.4012737907469273,
         2.748176947236061,
         2.372541017830372,
         2.423593185842037,
         2.59888868406415,
         2.8876661211252213,
         2.3257343471050262,
         2.8392668813467026,
         2.489935025572777,
         2.6438073962926865,
         2.584800884127617,
         2.398666590452194,
         2.8187550231814384,
         2.341860815882683,
         2.512712851166725,
         2.4557160437107086,
         2.395742505788803,
         2.504312850534916,
         2.5057232677936554,
         2.4858829751610756,
         2.4553044736385345,
         2.564694531261921,
         2.548537965863943,
         2.5284604653716087,
         2.7017693892121315,
         2.597219832241535,
         2.3858743757009506,
         2.2973718494176865,
         2.7437405735254288,
         2.5177424401044846,
         2.6485796943306923,
         2.4155509024858475,
         2.4884321838617325,
         2.718746915459633,
         2.584380619227886,
         2.5017669945955276,
         2.373901017010212,
         2.622194278985262,
         2.470602348446846,
         2.517943922430277,
         2.3900545947253704,
         2.534867614507675,
         2.446457475423813,
         2.633454389870167,
         2.5624567791819572,
         2.5045648142695427,
         2.471309080719948,
         2.6522947177290916,
         2.5446814484894276,
         2.604809619486332,
         2.4668537825345993,
         2.4336189702153206,
         2.336064226925373,
         2.454799819737673,
         2.5334451645612717,
         2.3595057278871536,
         2.5411221981048584,
         2.3824186474084854,
         2.8154042586684227,
         2.48978603631258,
         2.4991506412625313,
         2.2357348427176476,
         2.555231798440218,
         2.568792924284935,
         2.5200423263013363,
         2.3588926196098328,
         2.6198121830821037,
         2.479700367897749,
         2.548698738217354,
         2.3600473776459694,
         2.811303921043873,
         2.2012088261544704,
         2.670685827732086,
         2.487337924540043,
         2.400851510465145,
         2.4307805448770523,
         2.7559914998710155,
         2.367117665708065,
         2.776841163635254,
         2.5242147743701935,
         2.591253489255905,
         2.695638857781887,
         2.3962290063500404,
         2.4576526656746864,
         2.5198246017098427,
         2.259886808693409,
         2.3738598376512527,
         2.4198875725269318,
         2.6495946273207664,
         2.4415353015065193,
         2.5480077415704727,
         2.4848843291401863,
         2.5921188592910767,
         2.4782448187470436,
         2.3446370773017406,
         2.6805451810359955,
         2.6071286723017693,
         2.5940241664648056,
         2.3610945008695126
        ],
        [
         0.7350925514050509,
         0.7028429835792925,
         0.7630804379846963,
         0.6984194621093234,
         0.7147893810193097,
         0.7488938773434849,
         0.8033005551780099,
         0.6833023877028157,
         0.7968382393945734,
         0.7372452366848673,
         0.7719434261625816,
         0.7466968366823776,
         0.702775732423909,
         0.8129174778049949,
         0.7089489893564066,
         0.7281748110988054,
         0.7151237237741174,
         0.6984127060379574,
         0.730484093980427,
         0.7398047975476951,
         0.7300407581589469,
         0.7375136294518385,
         0.7432152536180989,
         0.7407875580423565,
         0.7480999797997743,
         0.7736098157201017,
         0.7423169294841503,
         0.7165634179356333,
         0.715714188047456,
         0.7748297616484409,
         0.7510402636135557,
         0.7407169982149624,
         0.7047878745186141,
         0.72516336842316,
         0.7382186106452965,
         0.7494663944758907,
         0.711873110929672,
         0.704983121251153,
         0.7474959861860642,
         0.745261777078293,
         0.7311599620368431,
         0.7128316538442356,
         0.7387608818834972,
         0.7279005896670708,
         0.766503089436018,
         0.7307712887326425,
         0.742602927363518,
         0.7279553098492857,
         0.7485762733092948,
         0.7556452992959444,
         0.7382748190848147,
         0.706784001329431,
         0.7331956817557624,
         0.695263265822615,
         0.7211565285448264,
         0.7357947030479279,
         0.7146347276886721,
         0.7318145701952393,
         0.7176394435993674,
         0.7983967570690176,
         0.7319882628905844,
         0.7214656042766209,
         0.6881798503379607,
         0.7285012683495992,
         0.7419994398479302,
         0.7364290066414519,
         0.70971538963715,
         0.7765288234037006,
         0.7465186770313981,
         0.7299370660607695,
         0.7032436112479141,
         0.7877461011965392,
         0.6901688643448303,
         0.7588456555199361,
         0.7427718342401716,
         0.7014161131120878,
         0.721025321540015,
         0.7822602235112113,
         0.7156459599013543,
         0.7984152796853632,
         0.7357907986417155,
         0.7318208458586023,
         0.7749177949340585,
         0.7348987909932949,
         0.7323544889291578,
         0.730530415589009,
         0.7041944259759938,
         0.7144233839011066,
         0.7204808411614942,
         0.7676003519924727,
         0.739072364145156,
         0.7506164707589414,
         0.7180578855495474,
         0.7455584041138129,
         0.7265419082161751,
         0.7058624922458643,
         0.7806450660016625,
         0.7237276150973031,
         0.7520769569834884,
         0.7280081234073832
        ]
       ],
       "encoder": "json",
       "name": "ABC_GAN_1 Metrics",
       "version": 1
      }
     },
     "metadata": {
      "scrapbook": {
       "data": true,
       "display": false,
       "name": "ABC_GAN_1 Metrics"
      }
     },
     "output_type": "display_data"
    },
    {
     "name": "stdout",
     "output_type": "stream",
     "text": [
      "MSE\n",
      "0.027110186397730197\n"
     ]
    }
   ],
   "source": [
    "ABC_GAN1_metrics=ABC_train_test2.test_generator(gen,test_data,prior_model,variance,bias,\"1\",device)\n",
    "sb.glue(\"ABC_GAN_1 Metrics\",ABC_GAN1_metrics)\n",
    "\n",
    "print(\"MSE\")\n",
    "print(mean(ABC_GAN1_metrics[0]))"
   ]
  },
  {
   "cell_type": "code",
   "execution_count": 14,
   "id": "eb22ce5c",
   "metadata": {
    "execution": {
     "iopub.execute_input": "2022-06-07T09:46:19.699164Z",
     "iopub.status.busy": "2022-06-07T09:46:19.698786Z",
     "iopub.status.idle": "2022-06-07T09:46:19.986953Z",
     "shell.execute_reply": "2022-06-07T09:46:19.987246Z"
    },
    "papermill": {
     "duration": 0.302974,
     "end_time": "2022-06-07T09:46:19.987368",
     "exception": false,
     "start_time": "2022-06-07T09:46:19.684394",
     "status": "completed"
    },
    "tags": []
   },
   "outputs": [
    {
     "data": {
      "image/png": "[encoded data removed]",
      "text/plain": [
       "<Figure size 432x288 with 1 Axes>"
      ]
     },
     "metadata": {
      "needs_background": "light"
     },
     "output_type": "display_data"
    },
    {
     "data": {
      "image/png": "[encoded data removed]",
      "text/plain": [
       "<Figure size 432x288 with 1 Axes>"
      ]
     },
     "metadata": {
      "needs_background": "light"
     },
     "output_type": "display_data"
    },
    {
     "data": {
      "image/png": "[encoded data removed]",
      "text/plain": [
       "<Figure size 432x288 with 1 Axes>"
      ]
     },
     "metadata": {
      "needs_background": "light"
     },
     "output_type": "display_data"
    },
    {
     "data": {
      "image/png": "[encoded data removed]",
      "text/plain": [
       "<Figure size 432x288 with 1 Axes>"
      ]
     },
     "metadata": {
      "needs_background": "light"
     },
     "output_type": "display_data"
    }
   ],
   "source": [
    "sanityChecks.discProbVsError(train_data,disc,device)\n",
    "sanityChecks.discProbVsError(test_data,disc,device)"
   ]
  },
  {
   "cell_type": "markdown",
   "id": "130f3a4d",
   "metadata": {
    "id": "130f3a4d",
    "papermill": {
     "duration": 0.013838,
     "end_time": "2022-06-07T09:46:20.050471",
     "exception": false,
     "start_time": "2022-06-07T09:46:20.036633",
     "status": "completed"
    },
    "tags": []
   },
   "source": [
    "# ABC - GAN Model with skip connection"
   ]
  },
  {
   "cell_type": "code",
   "execution_count": 15,
   "id": "4e43dad1",
   "metadata": {
    "execution": {
     "iopub.execute_input": "2022-06-07T09:46:20.081881Z",
     "iopub.status.busy": "2022-06-07T09:46:20.081501Z",
     "iopub.status.idle": "2022-06-07T09:46:20.083927Z",
     "shell.execute_reply": "2022-06-07T09:46:20.084179Z"
    },
    "id": "4e43dad1",
    "papermill": {
     "duration": 0.019986,
     "end_time": "2022-06-07T09:46:20.084297",
     "exception": false,
     "start_time": "2022-06-07T09:46:20.064311",
     "status": "completed"
    },
    "tags": []
   },
   "outputs": [],
   "source": [
    "#Generator\n",
    "gen3 = network.GeneratorWithSkipConnection(n_features+1).to(device)\n",
    "constraints=network.weightConstraint()\n",
    "#Discriminator \n",
    "disc3 = network.Discriminator(n_features+1).to(device)\n",
    "\n",
    "criterion = torch.nn.BCELoss()\n",
    "gen_opt = torch.optim.Adam(gen3.parameters(), lr=0.001, betas=(0.5, 0.999))\n",
    "disc_opt = torch.optim.Adam(disc3.parameters(), lr=0.001, betas=(0.5, 0.999))\n"
   ]
  },
  {
   "cell_type": "code",
   "execution_count": 16,
   "id": "26acbc37",
   "metadata": {
    "execution": {
     "iopub.execute_input": "2022-06-07T09:46:20.115467Z",
     "iopub.status.busy": "2022-06-07T09:46:20.115084Z",
     "iopub.status.idle": "2022-06-07T09:46:55.725418Z",
     "shell.execute_reply": "2022-06-07T09:46:55.725758Z"
    },
    "id": "26acbc37",
    "papermill": {
     "duration": 35.627145,
     "end_time": "2022-06-07T09:46:55.725881",
     "exception": false,
     "start_time": "2022-06-07T09:46:20.098736",
     "status": "completed"
    },
    "tags": []
   },
   "outputs": [
    {
     "data": {
      "image/png": "[encoded data removed]",
      "text/plain": [
       "<Figure size 432x288 with 1 Axes>"
      ]
     },
     "metadata": {
      "needs_background": "light"
     },
     "output_type": "display_data"
    },
    {
     "data": {
      "image/png": "[encoded data removed]",
      "text/plain": [
       "<Figure size 432x288 with 1 Axes>"
      ]
     },
     "metadata": {
      "needs_background": "light"
     },
     "output_type": "display_data"
    }
   ],
   "source": [
    "ABC_train_test2.training_GAN_skip_connection(disc3,gen3,disc_opt,gen_opt,train_data,batch_size,n_epochs,criterion,prior_model,variance,bias,device)"
   ]
  },
  {
   "cell_type": "code",
   "execution_count": 17,
   "id": "c5e0717b",
   "metadata": {
    "execution": {
     "iopub.execute_input": "2022-06-07T09:46:55.759768Z",
     "iopub.status.busy": "2022-06-07T09:46:55.759299Z",
     "iopub.status.idle": "2022-06-07T09:46:56.037348Z",
     "shell.execute_reply": "2022-06-07T09:46:56.037711Z"
    },
    "id": "c5e0717b",
    "papermill": {
     "duration": 0.297031,
     "end_time": "2022-06-07T09:46:56.037860",
     "exception": false,
     "start_time": "2022-06-07T09:46:55.740829",
     "status": "completed"
    },
    "tags": []
   },
   "outputs": [
    {
     "data": {
      "application/scrapbook.scrap.json+json": {
       "data": 0.04112370244228733,
       "encoder": "json",
       "name": "ABC-GAN Model 3 MSE",
       "version": 1
      }
     },
     "metadata": {
      "scrapbook": {
       "data": true,
       "display": false,
       "name": "ABC-GAN Model 3 MSE"
      }
     },
     "output_type": "display_data"
    },
    {
     "data": {
      "application/scrapbook.scrap.json+json": {
       "data": 0.14964583158120512,
       "encoder": "json",
       "name": "ABC-GAN Model 3 MAE",
       "version": 1
      }
     },
     "metadata": {
      "scrapbook": {
       "data": true,
       "display": false,
       "name": "ABC-GAN Model 3 MAE"
      }
     },
     "output_type": "display_data"
    },
    {
     "data": {
      "application/scrapbook.scrap.json+json": {
       "data": 2.9929166316241025,
       "encoder": "json",
       "name": "ABC-GAN Model 3 Manhattan Distance",
       "version": 1
      }
     },
     "metadata": {
      "scrapbook": {
       "data": true,
       "display": false,
       "name": "ABC-GAN Model 3 Manhattan Distance"
      }
     },
     "output_type": "display_data"
    },
    {
     "data": {
      "application/scrapbook.scrap.json+json": {
       "data": 0.9032260437807199,
       "encoder": "json",
       "name": "ABC-GAN Model 3 Euclidean distance",
       "version": 1
      }
     },
     "metadata": {
      "scrapbook": {
       "data": true,
       "display": false,
       "name": "ABC-GAN Model 3 Euclidean distance"
      }
     },
     "output_type": "display_data"
    },
    {
     "data": {
      "application/scrapbook.scrap.json+json": {
       "data": [
        [
         0.053197590503147,
         0.0427502543837999,
         0.03761506063609745,
         0.022689347394323024,
         0.040709868036860074,
         0.040254225671967146,
         0.03765472310348035,
         0.03837491337228627,
         0.04171395090315285,
         0.050229299729811515,
         0.03792993400655446,
         0.04462596414210068,
         0.04150886633308285,
         0.04284929433964437,
         0.035290144684437384,
         0.03741791458087242,
         0.037762879672634475,
         0.039026914287779255,
         0.0473478309915963,
         0.04185691375729942,
         0.04283521891224884,
         0.04241168050993227,
         0.05840933777495409,
         0.038844392711472664,
         0.028243883985919704,
         0.03784378631846963,
         0.044006862819371974,
         0.03774204163014193,
         0.041603870655354425,
         0.04398230728220963,
         0.04074581070288622,
         0.04844482100328593,
         0.044606887197208754,
         0.036537450769044175,
         0.04378435200010221,
         0.053300787963876085,
         0.0370049303631243,
         0.020646157511680596,
         0.03447057042496891,
         0.045660800458524095,
         0.040990497985376594,
         0.035457237340039104,
         0.045299185738288526,
         0.03421534400611159,
         0.03728766919146144,
         0.025513091361685336,
         0.04083904326386093,
         0.043862738807131076,
         0.03656062979488206,
         0.046752740275104746,
         0.04981081890628347,
         0.03723359094592393,
         0.0549039686110804,
         0.034907914996375154,
         0.04248853020198864,
         0.05123717879063677,
         0.026766319681017448,
         0.029016978697341843,
         0.025716593323357573,
         0.044093610152168485,
         0.04269655635551526,
         0.044945289334186025,
         0.034854624689415095,
         0.03867096064162336,
         0.04682098143158381,
         0.049895219239553625,
         0.036005146968109324,
         0.034864429077111646,
         0.04302413125296913,
         0.04529474103800106,
         0.02727242675430285,
         0.040628303155306675,
         0.04011673349755719,
         0.04650707863120951,
         0.044396500271306726,
         0.04606457995473001,
         0.04625444490400665,
         0.04143792421416229,
         0.039737714538396605,
         0.04768240293724635,
         0.04443920101683531,
         0.04164829218029335,
         0.04957847202044754,
         0.023640937143061192,
         0.04407772027105946,
         0.047725912919996616,
         0.03825957298978737,
         0.043342474597153145,
         0.048370764909016484,
         0.04391675578154206,
         0.03680112556702567,
         0.0612041536893632,
         0.03963235395647324,
         0.03853920733677326,
         0.040552444339893,
         0.042099960742871756,
         0.0486273497574153,
         0.046308767610306244,
         0.04598790122898174,
         0.035561163688324945
        ],
        [
         0.17232033088803292,
         0.150075913220644,
         0.1323456808924675,
         0.11939697861671447,
         0.1428356498479843,
         0.14766560047864913,
         0.14376189857721328,
         0.14320515245199203,
         0.13874414935708046,
         0.16808306574821472,
         0.13902594968676568,
         0.1497496671974659,
         0.1507909841835499,
         0.14502898305654527,
         0.13352660983800888,
         0.1471303880214691,
         0.13714434057474137,
         0.15561253800988198,
         0.15775779336690904,
         0.13170626237988473,
         0.15983205735683442,
         0.16087197810411452,
         0.18050896674394606,
         0.14863883405923844,
         0.12711305320262908,
         0.14924366027116776,
         0.14530536606907846,
         0.13672684654593467,
         0.1532291904091835,
         0.16226714476943016,
         0.14469409063458444,
         0.1650641530752182,
         0.1525240048766136,
         0.14314564168453217,
         0.15098209604620932,
         0.17801569774746895,
         0.1441667191684246,
         0.11882197558879852,
         0.14455460533499717,
         0.16969008147716522,
         0.1388005033135414,
         0.14204402081668377,
         0.16833063662052156,
         0.14061592668294906,
         0.14319114610552788,
         0.12389390170574188,
         0.1352133508771658,
         0.14766799360513688,
         0.15066523253917694,
         0.14735268652439118,
         0.17447978407144546,
         0.13905139416456222,
         0.1747329279780388,
         0.13494755029678346,
         0.15596525222063065,
         0.1741344653069973,
         0.12986274883151055,
         0.1285278968513012,
         0.10796301588416099,
         0.14973703771829605,
         0.15566405653953552,
         0.14942803643643857,
         0.13155269175767897,
         0.13086927235126494,
         0.15187062844634056,
         0.1631129115819931,
         0.14711780697107316,
         0.14822179228067398,
         0.14915623813867568,
         0.1525393858551979,
         0.13150693364441396,
         0.15569345653057098,
         0.16245453096926213,
         0.15938588827848435,
         0.1507645681500435,
         0.1650790885090828,
         0.15214801877737044,
         0.15664422288537025,
         0.14464350044727325,
         0.15947784185409547,
         0.15550836995244027,
         0.14270620942115783,
         0.17005762308835984,
         0.13210195899009705,
         0.14871891513466834,
         0.16163623929023743,
         0.1498180642724037,
         0.1639096900820732,
         0.1558039143681526,
         0.16168541759252547,
         0.13713596686720847,
         0.1877476915717125,
         0.16145803034305573,
         0.1413350708782673,
         0.15025416612625123,
         0.14508137181401254,
         0.1724125102162361,
         0.1592465966939926,
         0.1542295016348362,
         0.14792340770363807
        ],
        [
         3.4464066177606583,
         3.00151826441288,
         2.64691361784935,
         2.3879395723342896,
         2.8567129969596863,
         2.953312009572983,
         2.8752379715442657,
         2.8641030490398407,
         2.774882987141609,
         3.3616613149642944,
         2.7805189937353134,
         2.994993343949318,
         3.0158196836709976,
         2.900579661130905,
         2.6705321967601776,
         2.9426077604293823,
         2.7428868114948273,
         3.1122507601976395,
         3.1551558673381805,
         2.6341252475976944,
         3.1966411471366882,
         3.2174395620822906,
         3.6101793348789215,
         2.9727766811847687,
         2.542261064052582,
         2.984873205423355,
         2.906107321381569,
         2.7345369309186935,
         3.06458380818367,
         3.245342895388603,
         2.8938818126916885,
         3.301283061504364,
         3.0504800975322723,
         2.8629128336906433,
         3.0196419209241867,
         3.560313954949379,
         2.883334383368492,
         2.3764395117759705,
         2.8910921066999435,
         3.3938016295433044,
         2.7760100662708282,
         2.8408804163336754,
         3.366612732410431,
         2.8123185336589813,
         2.8638229221105576,
         2.4778780341148376,
         2.704267017543316,
         2.9533598721027374,
         3.013304650783539,
         2.9470537304878235,
         3.4895956814289093,
         2.7810278832912445,
         3.4946585595607758,
         2.698951005935669,
         3.119305044412613,
         3.482689306139946,
         2.597254976630211,
         2.570557937026024,
         2.15926031768322,
         2.994740754365921,
         3.1132811307907104,
         2.988560728728771,
         2.6310538351535797,
         2.617385447025299,
         3.037412568926811,
         3.262258231639862,
         2.942356139421463,
         2.9644358456134796,
         2.983124762773514,
         3.050787717103958,
         2.630138672888279,
         3.1138691306114197,
         3.2490906193852425,
         3.187717765569687,
         3.0152913630008698,
         3.301581770181656,
         3.042960375547409,
         3.132884457707405,
         2.892870008945465,
         3.189556837081909,
         3.1101673990488052,
         2.8541241884231567,
         3.4011524617671967,
         2.642039179801941,
         2.974378302693367,
         3.2327247858047485,
         2.9963612854480743,
         3.2781938016414642,
         3.1160782873630524,
         3.2337083518505096,
         2.7427193373441696,
         3.75495383143425,
         3.2291606068611145,
         2.8267014175653458,
         3.0050833225250244,
         2.9016274362802505,
         3.4482502043247223,
         3.1849319338798523,
         3.084590032696724,
         2.9584681540727615
        ],
        [
         1.0314803973236428,
         0.924664851541356,
         0.8673529919945795,
         0.6736371040007079,
         0.9023288539868386,
         0.8972650185086584,
         0.8678101532418291,
         0.8760697845752502,
         0.9133887551656508,
         1.0022903743906904,
         0.8709757058214018,
         0.9447323868916603,
         0.9111406733658952,
         0.9257353222130434,
         0.840120761372285,
         0.865077043746653,
         0.8690555755834546,
         0.8834807783735791,
         0.9731169610236613,
         0.9149526081420766,
         0.9255832638098945,
         0.9209959881555648,
         1.0808268850741463,
         0.8814124200562715,
         0.7515834482733066,
         0.8699860495257339,
         0.9381563070125571,
         0.8688157644764732,
         0.9121827739587547,
         0.9378945279956551,
         0.9027270983291265,
         0.9843253629088903,
         0.9445304356897003,
         0.8548385902501615,
         0.9357815129623176,
         1.0324803917157563,
         0.8602898391021981,
         0.6425909665048303,
         0.8303080202547596,
         0.9556233615658849,
         0.9054335755357937,
         0.8421073249893877,
         0.9518317681007346,
         0.8272284328540889,
         0.8635701383380673,
         0.7143261350627644,
         0.9037592960944958,
         0.9366187998020441,
         0.8551096981660548,
         0.9669823191258953,
         0.9981063961951498,
         0.8629436939444419,
         1.047892824778187,
         0.835558675334954,
         0.9218300299077768,
         1.0122961897649994,
         0.7316600259822515,
         0.7618002191827178,
         0.7171693429498722,
         0.9390805093512322,
         0.9240839394288298,
         0.9481064216024067,
         0.8349206511928555,
         0.879442558006188,
         0.9676877743526969,
         0.9989516428691994,
         0.848588792856815,
         0.8350380719118338,
         0.9276220270451659,
         0.9517850706751085,
         0.7385448768260849,
         0.9014244633390718,
         0.8957313603704762,
         0.9644384752923278,
         0.9423003796168897,
         0.9598393610884064,
         0.9618154178843948,
         0.9103617326553471,
         0.8914899274629704,
         0.976549055984863,
         0.9427534249933575,
         0.9126696245662321,
         0.9957757982643235,
         0.6876181664712064,
         0.938911287300983,
         0.9769945027480617,
         0.8747522276597799,
         0.9310475239981377,
         0.9835727213482132,
         0.9371953455021217,
         0.8579175434390612,
         1.1063828784770957,
         0.8903072947749361,
         0.8779431341126059,
         0.900582526367162,
         0.9176051519348805,
         0.9861779733639896,
         0.9623800456192579,
         0.95904015795984,
         0.8433405443630105
        ]
       ],
       "encoder": "json",
       "name": "ABC_GAN_3 Metrics",
       "version": 1
      }
     },
     "metadata": {
      "scrapbook": {
       "data": true,
       "display": false,
       "name": "ABC_GAN_3 Metrics"
      }
     },
     "output_type": "display_data"
    },
    {
     "name": "stdout",
     "output_type": "stream",
     "text": [
      "MSE\n",
      "0.04112370244228733\n"
     ]
    }
   ],
   "source": [
    "ABC_GAN3_metrics=ABC_train_test2.test_generator(gen3,test_data,prior_model,variance,bias,\"3\",device)\n",
    "sb.glue(\"ABC_GAN_3 Metrics\",ABC_GAN3_metrics)\n",
    "\n",
    "print(\"MSE\")\n",
    "print(mean(ABC_GAN3_metrics[0]))"
   ]
  },
  {
   "cell_type": "code",
   "execution_count": 18,
   "id": "c8e46b48",
   "metadata": {
    "execution": {
     "iopub.execute_input": "2022-06-07T09:46:56.074448Z",
     "iopub.status.busy": "2022-06-07T09:46:56.074069Z",
     "iopub.status.idle": "2022-06-07T09:46:56.380516Z",
     "shell.execute_reply": "2022-06-07T09:46:56.380836Z"
    },
    "id": "c8e46b48",
    "papermill": {
     "duration": 0.326067,
     "end_time": "2022-06-07T09:46:56.380968",
     "exception": false,
     "start_time": "2022-06-07T09:46:56.054901",
     "status": "completed"
    },
    "tags": []
   },
   "outputs": [
    {
     "data": {
      "image/png": "[encoded data removed]",
      "text/plain": [
       "<Figure size 432x288 with 1 Axes>"
      ]
     },
     "metadata": {
      "needs_background": "light"
     },
     "output_type": "display_data"
    },
    {
     "data": {
      "image/png": "[encoded data removed]",
      "text/plain": [
       "<Figure size 432x288 with 1 Axes>"
      ]
     },
     "metadata": {
      "needs_background": "light"
     },
     "output_type": "display_data"
    },
    {
     "data": {
      "image/png": "[encoded data removed]",
      "text/plain": [
       "<Figure size 432x288 with 1 Axes>"
      ]
     },
     "metadata": {
      "needs_background": "light"
     },
     "output_type": "display_data"
    },
    {
     "data": {
      "image/png": "[encoded data removed]",
      "text/plain": [
       "<Figure size 432x288 with 1 Axes>"
      ]
     },
     "metadata": {
      "needs_background": "light"
     },
     "output_type": "display_data"
    }
   ],
   "source": [
    "sanityChecks.discProbVsError(train_data,disc3,device)\n",
    "sanityChecks.discProbVsError(test_data,disc3,device)"
   ]
  },
  {
   "cell_type": "markdown",
   "id": "a5bd74c3",
   "metadata": {
    "id": "a5bd74c3",
    "papermill": {
     "duration": 0.01938,
     "end_time": "2022-06-07T09:46:56.419843",
     "exception": false,
     "start_time": "2022-06-07T09:46:56.400463",
     "status": "completed"
    },
    "tags": []
   },
   "source": [
    "## Skip Connection Model Analysis - ABC-GAN "
   ]
  },
  {
   "cell_type": "markdown",
   "id": "5744a8bf",
   "metadata": {
    "id": "5744a8bf",
    "papermill": {
     "duration": 0.018996,
     "end_time": "2022-06-07T09:46:56.458378",
     "exception": false,
     "start_time": "2022-06-07T09:46:56.439382",
     "status": "completed"
    },
    "tags": []
   },
   "source": [
    "### Weight Analysis \n",
    "\n",
    "Study the weights of the skip connection layer\n",
    "\n",
    "Equation of the skip connection is \n",
    "\n",
    "$output = y_{gan} * w + y_{abc} * (1-w)$"
   ]
  },
  {
   "cell_type": "code",
   "execution_count": 19,
   "id": "52c31dea",
   "metadata": {
    "execution": {
     "iopub.execute_input": "2022-06-07T09:46:56.498957Z",
     "iopub.status.busy": "2022-06-07T09:46:56.498573Z",
     "iopub.status.idle": "2022-06-07T09:46:56.501981Z",
     "shell.execute_reply": "2022-06-07T09:46:56.502226Z"
    },
    "id": "52c31dea",
    "papermill": {
     "duration": 0.025118,
     "end_time": "2022-06-07T09:46:56.502340",
     "exception": false,
     "start_time": "2022-06-07T09:46:56.477222",
     "status": "completed"
    },
    "tags": []
   },
   "outputs": [
    {
     "name": "stdout",
     "output_type": "stream",
     "text": [
      "Weight of the node at skip connection\n",
      "Parameter containing:\n",
      "tensor([[0.1764]], requires_grad=True)\n"
     ]
    },
    {
     "data": {
      "application/scrapbook.scrap.json+json": {
       "data": 0.17644283175468445,
       "encoder": "json",
       "name": "Skip Connection Weight",
       "version": 1
      }
     },
     "metadata": {
      "scrapbook": {
       "data": true,
       "display": false,
       "name": "Skip Connection Weight"
      }
     },
     "output_type": "display_data"
    }
   ],
   "source": [
    "print(\"Weight of the node at skip connection\")\n",
    "for name,param in gen3.named_parameters():\n",
    "    if(name == \"skipNode.weight\"):\n",
    "        print(param)\n",
    "        sb.glue(\"Skip Connection Weight\",param.item())"
   ]
  }
 ],
 "metadata": {
  "colab": {
   "collapsed_sections": [],
   "name": "ABC_GAN_Model-Catboost_Pre-gen.ipynb",
   "provenance": []
  },
  "interpreter": {
   "hash": "31f2aee4e71d21fbe5cf8b01ff0e069b9275f58929596ceb00d14d90e3e16cd6"
  },
  "kernelspec": {
   "display_name": "Python 3 (ipykernel)",
   "language": "python",
   "name": "python3"
  },
  "language_info": {
   "codemirror_mode": {
    "name": "ipython",
    "version": 3
   },
   "file_extension": ".py",
   "mimetype": "text/x-python",
   "name": "python",
   "nbconvert_exporter": "python",
   "pygments_lexer": "ipython3",
   "version": "3.8.11"
  },
  "papermill": {
   "default_parameters": {},
   "duration": 1842.723387,
   "end_time": "2022-06-07T09:46:56.829101",
   "environment_variables": {},
   "exception": null,
   "input_path": "ABC_GAN-Catboost.ipynb",
   "output_path": "./ABC_GAN_Catboost/ABC-GAN_output_10_3.ipynb",
   "parameters": {
    "bias": 0.1,
    "variance": 1
   },
   "start_time": "2022-06-07T09:16:14.105714",
   "version": "2.3.3"
  }
 },
 "nbformat": 4,
 "nbformat_minor": 5
}