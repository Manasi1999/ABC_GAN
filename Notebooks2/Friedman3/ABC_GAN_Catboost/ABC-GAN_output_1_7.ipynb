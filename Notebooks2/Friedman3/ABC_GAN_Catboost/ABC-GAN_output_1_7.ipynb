{
 "cells": [
  {
   "cell_type": "markdown",
   "id": "622780e6",
   "metadata": {
    "id": "622780e6",
    "papermill": {
     "duration": 0.034379,
     "end_time": "2022-06-07T05:59:28.884966",
     "exception": false,
     "start_time": "2022-06-07T05:59:28.850587",
     "status": "completed"
    },
    "tags": []
   },
   "source": [
    "## Import Libraries "
   ]
  },
  {
   "cell_type": "code",
   "execution_count": 1,
   "id": "a62397e3",
   "metadata": {
    "execution": {
     "iopub.execute_input": "2022-06-07T05:59:28.920416Z",
     "iopub.status.busy": "2022-06-07T05:59:28.919910Z",
     "iopub.status.idle": "2022-06-07T05:59:28.922499Z",
     "shell.execute_reply": "2022-06-07T05:59:28.922849Z"
    },
    "id": "a62397e3",
    "papermill": {
     "duration": 0.022181,
     "end_time": "2022-06-07T05:59:28.923056",
     "exception": false,
     "start_time": "2022-06-07T05:59:28.900875",
     "status": "completed"
    },
    "tags": []
   },
   "outputs": [],
   "source": [
    "import warnings\n",
    "import sys\n",
    "sys.path.insert(0, '../../src')\n",
    "warnings.filterwarnings('ignore')"
   ]
  },
  {
   "cell_type": "code",
   "execution_count": 2,
   "id": "d6a4e155",
   "metadata": {
    "execution": {
     "iopub.execute_input": "2022-06-07T05:59:28.943324Z",
     "iopub.status.busy": "2022-06-07T05:59:28.942914Z",
     "iopub.status.idle": "2022-06-07T05:59:30.796008Z",
     "shell.execute_reply": "2022-06-07T05:59:30.796276Z"
    },
    "id": "d6a4e155",
    "papermill": {
     "duration": 1.863828,
     "end_time": "2022-06-07T05:59:30.796419",
     "exception": false,
     "start_time": "2022-06-07T05:59:28.932591",
     "status": "completed"
    },
    "tags": []
   },
   "outputs": [],
   "source": [
    "import ABC_train_test2\n",
    "import friedman1Dataset\n",
    "import network\n",
    "import dataset\n",
    "import sanityChecks\n",
    "import torch \n",
    "import scrapbook as sb\n",
    "from statistics import mean \n",
    "import catboost as ctb \n",
    "from sklearn.model_selection import train_test_split\n",
    "from sklearn.metrics import mean_squared_error,mean_absolute_error\n",
    "import numpy as np"
   ]
  },
  {
   "cell_type": "markdown",
   "id": "2fa5b0f7",
   "metadata": {
    "id": "2fa5b0f7",
    "papermill": {
     "duration": 0.006772,
     "end_time": "2022-06-07T05:59:30.810472",
     "exception": false,
     "start_time": "2022-06-07T05:59:30.803700",
     "status": "completed"
    },
    "tags": []
   },
   "source": [
    "## Parameters "
   ]
  },
  {
   "cell_type": "code",
   "execution_count": 3,
   "id": "783186fb",
   "metadata": {
    "execution": {
     "iopub.execute_input": "2022-06-07T05:59:30.826239Z",
     "iopub.status.busy": "2022-06-07T05:59:30.825873Z",
     "iopub.status.idle": "2022-06-07T05:59:30.827223Z",
     "shell.execute_reply": "2022-06-07T05:59:30.827476Z"
    },
    "id": "783186fb",
    "papermill": {
     "duration": 0.010368,
     "end_time": "2022-06-07T05:59:30.827586",
     "exception": false,
     "start_time": "2022-06-07T05:59:30.817218",
     "status": "completed"
    },
    "tags": [
     "parameters"
    ]
   },
   "outputs": [],
   "source": [
    "variance = 1\n",
    "bias = 1 "
   ]
  },
  {
   "cell_type": "code",
   "execution_count": 4,
   "id": "c3d21de9",
   "metadata": {
    "execution": {
     "iopub.execute_input": "2022-06-07T05:59:30.843161Z",
     "iopub.status.busy": "2022-06-07T05:59:30.842820Z",
     "iopub.status.idle": "2022-06-07T05:59:30.844121Z",
     "shell.execute_reply": "2022-06-07T05:59:30.844365Z"
    },
    "papermill": {
     "duration": 0.009958,
     "end_time": "2022-06-07T05:59:30.844476",
     "exception": false,
     "start_time": "2022-06-07T05:59:30.834518",
     "status": "completed"
    },
    "tags": [
     "injected-parameters"
    ]
   },
   "outputs": [],
   "source": [
    "# Parameters\n",
    "variance = 0.1\n",
    "bias = 0.01\n"
   ]
  },
  {
   "cell_type": "markdown",
   "id": "391cdbfd",
   "metadata": {
    "id": "391cdbfd",
    "papermill": {
     "duration": 0.006806,
     "end_time": "2022-06-07T05:59:30.858196",
     "exception": false,
     "start_time": "2022-06-07T05:59:30.851390",
     "status": "completed"
    },
    "tags": []
   },
   "source": [
    "## Dataset \n"
   ]
  },
  {
   "cell_type": "code",
   "execution_count": 5,
   "id": "5b51f161",
   "metadata": {
    "execution": {
     "iopub.execute_input": "2022-06-07T05:59:30.873815Z",
     "iopub.status.busy": "2022-06-07T05:59:30.873431Z",
     "iopub.status.idle": "2022-06-07T05:59:30.874650Z",
     "shell.execute_reply": "2022-06-07T05:59:30.874939Z"
    },
    "id": "5b51f161",
    "papermill": {
     "duration": 0.009976,
     "end_time": "2022-06-07T05:59:30.875046",
     "exception": false,
     "start_time": "2022-06-07T05:59:30.865070",
     "status": "completed"
    },
    "tags": []
   },
   "outputs": [],
   "source": [
    "#Parameters \n",
    "n_features = 5\n",
    "n_samples= 100\n",
    "n_target = 1 "
   ]
  },
  {
   "cell_type": "code",
   "execution_count": 6,
   "id": "5d6eced4",
   "metadata": {
    "execution": {
     "iopub.execute_input": "2022-06-07T05:59:30.891899Z",
     "iopub.status.busy": "2022-06-07T05:59:30.890466Z",
     "iopub.status.idle": "2022-06-07T05:59:30.896712Z",
     "shell.execute_reply": "2022-06-07T05:59:30.896943Z"
    },
    "id": "5d6eced4",
    "papermill": {
     "duration": 0.015092,
     "end_time": "2022-06-07T05:59:30.897060",
     "exception": false,
     "start_time": "2022-06-07T05:59:30.881968",
     "status": "completed"
    },
    "tags": []
   },
   "outputs": [
    {
     "name": "stdout",
     "output_type": "stream",
     "text": [
      "         X0        X1        X2        X3        X4         Y\n",
      "0 -0.285376 -0.671632 -1.670420  1.455268  1.317981  1.409541\n",
      "1 -1.493597  0.072133  0.051451  1.611542 -0.292902 -0.257421\n",
      "2  1.247664  0.592051 -1.230156 -0.955796  1.000897  0.781207\n",
      "3 -0.351467  1.598173  0.319035 -0.689627  1.570517  0.725976\n",
      "4  0.037315 -0.585813 -1.417253  0.815286 -0.330350  0.488050\n"
     ]
    }
   ],
   "source": [
    "X,Y = friedman1Dataset.friedman1_data(n_samples,n_features)"
   ]
  },
  {
   "cell_type": "code",
   "execution_count": 7,
   "id": "fe007438",
   "metadata": {
    "execution": {
     "iopub.execute_input": "2022-06-07T05:59:30.920329Z",
     "iopub.status.busy": "2022-06-07T05:59:30.919793Z",
     "iopub.status.idle": "2022-06-07T05:59:30.921008Z",
     "shell.execute_reply": "2022-06-07T05:59:30.921267Z"
    },
    "id": "fe007438",
    "papermill": {
     "duration": 0.015254,
     "end_time": "2022-06-07T05:59:30.921398",
     "exception": false,
     "start_time": "2022-06-07T05:59:30.906144",
     "status": "completed"
    },
    "tags": []
   },
   "outputs": [],
   "source": [
    "#Train test split for dataset \n",
    "X_train,X_test,Y_train,Y_test = train_test_split(X,Y,test_size = 0.2)\n",
    "train_data = dataset.CustomDataset(X_train,Y_train)\n",
    "test_data = dataset.CustomDataset(X_test,Y_test)\n"
   ]
  },
  {
   "cell_type": "markdown",
   "id": "a9a1af34",
   "metadata": {
    "id": "a9a1af34",
    "papermill": {
     "duration": 0.007579,
     "end_time": "2022-06-07T05:59:30.939624",
     "exception": false,
     "start_time": "2022-06-07T05:59:30.932045",
     "status": "completed"
    },
    "tags": []
   },
   "source": [
    "## Training Parameters "
   ]
  },
  {
   "cell_type": "code",
   "execution_count": 8,
   "id": "952b7fc8",
   "metadata": {
    "execution": {
     "iopub.execute_input": "2022-06-07T05:59:30.957119Z",
     "iopub.status.busy": "2022-06-07T05:59:30.956749Z",
     "iopub.status.idle": "2022-06-07T05:59:30.958150Z",
     "shell.execute_reply": "2022-06-07T05:59:30.958397Z"
    },
    "id": "952b7fc8",
    "papermill": {
     "duration": 0.01156,
     "end_time": "2022-06-07T05:59:30.958508",
     "exception": false,
     "start_time": "2022-06-07T05:59:30.946948",
     "status": "completed"
    },
    "tags": []
   },
   "outputs": [],
   "source": [
    "batch_size = 32\n",
    "n_epochs = 1000\n",
    "#Select the device \n",
    "device = torch.device('cuda' if torch.cuda.is_available() else 'cpu')"
   ]
  },
  {
   "cell_type": "markdown",
   "id": "a95e1600",
   "metadata": {
    "id": "a95e1600",
    "papermill": {
     "duration": 0.007289,
     "end_time": "2022-06-07T05:59:30.972999",
     "exception": false,
     "start_time": "2022-06-07T05:59:30.965710",
     "status": "completed"
    },
    "tags": []
   },
   "source": [
    "# ABC Pre-generator Model \n",
    "\n",
    "1. The catboost model is used as a pre-generator model for the ABC-GAN. \n",
    "2. The model is first trained on the entire dataset \n",
    "3. It generats X,Y pairs and we add some Gaussian noise with mean 0 and variance 1 to it which is then feed as input to the generator.\n"
   ]
  },
  {
   "cell_type": "code",
   "execution_count": 9,
   "id": "ff8ce7bd",
   "metadata": {
    "execution": {
     "iopub.execute_input": "2022-06-07T05:59:30.993305Z",
     "iopub.status.busy": "2022-06-07T05:59:30.992714Z",
     "iopub.status.idle": "2022-06-07T05:59:31.651659Z",
     "shell.execute_reply": "2022-06-07T05:59:31.651968Z"
    },
    "id": "ff8ce7bd",
    "papermill": {
     "duration": 0.671467,
     "end_time": "2022-06-07T05:59:31.652109",
     "exception": false,
     "start_time": "2022-06-07T05:59:30.980642",
     "status": "completed"
    },
    "tags": []
   },
   "outputs": [
    {
     "name": "stdout",
     "output_type": "stream",
     "text": [
      "Learning rate set to 0.024897\n",
      "0:\tlearn: 1.0040393\ttotal: 58.1ms\tremaining: 58.1s\n",
      "1:\tlearn: 0.9915947\ttotal: 58.6ms\tremaining: 29.2s\n",
      "2:\tlearn: 0.9812612\ttotal: 59.2ms\tremaining: 19.7s\n",
      "3:\tlearn: 0.9709429\ttotal: 59.7ms\tremaining: 14.9s\n",
      "4:\tlearn: 0.9624124\ttotal: 60.3ms\tremaining: 12s\n",
      "5:\tlearn: 0.9514976\ttotal: 60.9ms\tremaining: 10.1s\n",
      "6:\tlearn: 0.9392485\ttotal: 61.4ms\tremaining: 8.7s\n",
      "7:\tlearn: 0.9300954\ttotal: 62ms\tremaining: 7.68s\n",
      "8:\tlearn: 0.9214978\ttotal: 62.4ms\tremaining: 6.88s\n",
      "9:\tlearn: 0.9112826\ttotal: 62.9ms\tremaining: 6.23s\n",
      "10:\tlearn: 0.9040107\ttotal: 63.4ms\tremaining: 5.7s\n",
      "11:\tlearn: 0.8936772\ttotal: 64ms\tremaining: 5.27s\n",
      "12:\tlearn: 0.8856597\ttotal: 64.4ms\tremaining: 4.89s\n",
      "13:\tlearn: 0.8751629\ttotal: 64.9ms\tremaining: 4.57s\n",
      "14:\tlearn: 0.8686112\ttotal: 65.3ms\tremaining: 4.29s\n",
      "15:\tlearn: 0.8594413\ttotal: 65.9ms\tremaining: 4.05s\n",
      "16:\tlearn: 0.8517763\ttotal: 66.3ms\tremaining: 3.83s\n",
      "17:\tlearn: 0.8443445\ttotal: 66.9ms\tremaining: 3.65s\n",
      "18:\tlearn: 0.8359205\ttotal: 67.5ms\tremaining: 3.48s\n",
      "19:\tlearn: 0.8290395\ttotal: 67.9ms\tremaining: 3.33s\n",
      "20:\tlearn: 0.8207625\ttotal: 68.3ms\tremaining: 3.19s\n",
      "21:\tlearn: 0.8116032\ttotal: 68.9ms\tremaining: 3.06s\n",
      "22:\tlearn: 0.8034862\ttotal: 69.3ms\tremaining: 2.94s\n",
      "23:\tlearn: 0.7957642\ttotal: 69.8ms\tremaining: 2.84s\n",
      "24:\tlearn: 0.7881002\ttotal: 70.2ms\tremaining: 2.74s\n",
      "25:\tlearn: 0.7806597\ttotal: 70.7ms\tremaining: 2.65s\n",
      "26:\tlearn: 0.7742763\ttotal: 71.2ms\tremaining: 2.56s\n",
      "27:\tlearn: 0.7661251\ttotal: 71.7ms\tremaining: 2.49s\n",
      "28:\tlearn: 0.7587194\ttotal: 72.1ms\tremaining: 2.42s\n",
      "29:\tlearn: 0.7510660\ttotal: 72.5ms\tremaining: 2.34s\n",
      "30:\tlearn: 0.7430058\ttotal: 72.9ms\tremaining: 2.28s\n",
      "31:\tlearn: 0.7361225\ttotal: 73.3ms\tremaining: 2.22s\n",
      "32:\tlearn: 0.7299828\ttotal: 73.8ms\tremaining: 2.16s\n",
      "33:\tlearn: 0.7230383\ttotal: 74.3ms\tremaining: 2.11s\n",
      "34:\tlearn: 0.7162821\ttotal: 74.7ms\tremaining: 2.06s\n",
      "35:\tlearn: 0.7124658\ttotal: 75.1ms\tremaining: 2.01s\n",
      "36:\tlearn: 0.7049781\ttotal: 75.5ms\tremaining: 1.97s\n",
      "37:\tlearn: 0.6982310\ttotal: 76ms\tremaining: 1.92s\n",
      "38:\tlearn: 0.6918186\ttotal: 76.4ms\tremaining: 1.88s\n",
      "39:\tlearn: 0.6843133\ttotal: 76.9ms\tremaining: 1.85s\n",
      "40:\tlearn: 0.6786442\ttotal: 77.4ms\tremaining: 1.81s\n",
      "41:\tlearn: 0.6727468\ttotal: 77.9ms\tremaining: 1.78s\n",
      "42:\tlearn: 0.6673794\ttotal: 78.4ms\tremaining: 1.74s\n",
      "43:\tlearn: 0.6620711\ttotal: 78.8ms\tremaining: 1.71s\n",
      "44:\tlearn: 0.6563889\ttotal: 79.3ms\tremaining: 1.68s\n",
      "45:\tlearn: 0.6513826\ttotal: 79.8ms\tremaining: 1.65s\n",
      "46:\tlearn: 0.6454905\ttotal: 80.5ms\tremaining: 1.63s\n",
      "47:\tlearn: 0.6396116\ttotal: 80.9ms\tremaining: 1.6s\n",
      "48:\tlearn: 0.6337826\ttotal: 81.4ms\tremaining: 1.58s\n",
      "49:\tlearn: 0.6281693\ttotal: 81.9ms\tremaining: 1.55s\n",
      "50:\tlearn: 0.6217054\ttotal: 82.4ms\tremaining: 1.53s\n",
      "51:\tlearn: 0.6155337\ttotal: 82.9ms\tremaining: 1.51s\n",
      "52:\tlearn: 0.6109149\ttotal: 83.3ms\tremaining: 1.49s\n",
      "53:\tlearn: 0.6059244\ttotal: 83.8ms\tremaining: 1.47s\n",
      "54:\tlearn: 0.5998778\ttotal: 84.2ms\tremaining: 1.45s\n",
      "55:\tlearn: 0.5949919\ttotal: 84.7ms\tremaining: 1.43s\n",
      "56:\tlearn: 0.5901186\ttotal: 85.3ms\tremaining: 1.41s\n",
      "57:\tlearn: 0.5859967\ttotal: 85.9ms\tremaining: 1.39s\n",
      "58:\tlearn: 0.5808497\ttotal: 86.2ms\tremaining: 1.38s\n",
      "59:\tlearn: 0.5762025\ttotal: 86.7ms\tremaining: 1.36s\n",
      "60:\tlearn: 0.5711556\ttotal: 87.3ms\tremaining: 1.34s\n",
      "61:\tlearn: 0.5658698\ttotal: 87.9ms\tremaining: 1.33s\n",
      "62:\tlearn: 0.5596742\ttotal: 88.4ms\tremaining: 1.31s\n",
      "63:\tlearn: 0.5548784\ttotal: 88.9ms\tremaining: 1.3s\n",
      "64:\tlearn: 0.5510283\ttotal: 89.4ms\tremaining: 1.29s\n",
      "65:\tlearn: 0.5460523\ttotal: 89.9ms\tremaining: 1.27s\n",
      "66:\tlearn: 0.5413791\ttotal: 90.5ms\tremaining: 1.26s\n",
      "67:\tlearn: 0.5383944\ttotal: 90.9ms\tremaining: 1.25s\n",
      "68:\tlearn: 0.5338015\ttotal: 91.4ms\tremaining: 1.23s\n",
      "69:\tlearn: 0.5288179\ttotal: 91.7ms\tremaining: 1.22s\n",
      "70:\tlearn: 0.5233325\ttotal: 92.3ms\tremaining: 1.21s\n",
      "71:\tlearn: 0.5186903\ttotal: 92.7ms\tremaining: 1.19s\n",
      "72:\tlearn: 0.5142172\ttotal: 93.3ms\tremaining: 1.18s\n",
      "73:\tlearn: 0.5100116\ttotal: 93.7ms\tremaining: 1.17s\n",
      "74:\tlearn: 0.5047402\ttotal: 94.1ms\tremaining: 1.16s\n",
      "75:\tlearn: 0.5009024\ttotal: 94.7ms\tremaining: 1.15s\n",
      "76:\tlearn: 0.4965675\ttotal: 95.1ms\tremaining: 1.14s\n"
     ]
    },
    {
     "name": "stdout",
     "output_type": "stream",
     "text": [
      "77:\tlearn: 0.4928063\ttotal: 95.7ms\tremaining: 1.13s\n",
      "78:\tlearn: 0.4890458\ttotal: 96.3ms\tremaining: 1.12s\n",
      "79:\tlearn: 0.4847833\ttotal: 97ms\tremaining: 1.12s\n",
      "80:\tlearn: 0.4808495\ttotal: 97.6ms\tremaining: 1.11s\n",
      "81:\tlearn: 0.4771591\ttotal: 98.2ms\tremaining: 1.1s\n",
      "82:\tlearn: 0.4726896\ttotal: 98.8ms\tremaining: 1.09s\n",
      "83:\tlearn: 0.4685035\ttotal: 99.2ms\tremaining: 1.08s\n",
      "84:\tlearn: 0.4647830\ttotal: 99.6ms\tremaining: 1.07s\n",
      "85:\tlearn: 0.4612994\ttotal: 100ms\tremaining: 1.06s\n",
      "86:\tlearn: 0.4575744\ttotal: 101ms\tremaining: 1.05s\n",
      "87:\tlearn: 0.4537195\ttotal: 101ms\tremaining: 1.05s\n",
      "88:\tlearn: 0.4492439\ttotal: 102ms\tremaining: 1.04s\n",
      "89:\tlearn: 0.4454953\ttotal: 102ms\tremaining: 1.03s\n",
      "90:\tlearn: 0.4414439\ttotal: 102ms\tremaining: 1.02s\n",
      "91:\tlearn: 0.4374119\ttotal: 103ms\tremaining: 1.01s\n",
      "92:\tlearn: 0.4336749\ttotal: 103ms\tremaining: 1.01s\n",
      "93:\tlearn: 0.4304310\ttotal: 104ms\tremaining: 1s\n",
      "94:\tlearn: 0.4270894\ttotal: 104ms\tremaining: 994ms\n",
      "95:\tlearn: 0.4236372\ttotal: 105ms\tremaining: 986ms\n",
      "96:\tlearn: 0.4204883\ttotal: 105ms\tremaining: 980ms\n",
      "97:\tlearn: 0.4168027\ttotal: 106ms\tremaining: 974ms\n",
      "98:\tlearn: 0.4138325\ttotal: 106ms\tremaining: 968ms\n",
      "99:\tlearn: 0.4100874\ttotal: 107ms\tremaining: 961ms\n",
      "100:\tlearn: 0.4068527\ttotal: 107ms\tremaining: 955ms\n",
      "101:\tlearn: 0.4039026\ttotal: 108ms\tremaining: 949ms\n",
      "102:\tlearn: 0.4006724\ttotal: 108ms\tremaining: 944ms\n",
      "103:\tlearn: 0.3966834\ttotal: 109ms\tremaining: 939ms\n",
      "104:\tlearn: 0.3933325\ttotal: 110ms\tremaining: 935ms\n",
      "105:\tlearn: 0.3904223\ttotal: 110ms\tremaining: 930ms\n",
      "106:\tlearn: 0.3876819\ttotal: 111ms\tremaining: 924ms\n",
      "107:\tlearn: 0.3844955\ttotal: 111ms\tremaining: 918ms\n",
      "108:\tlearn: 0.3807884\ttotal: 112ms\tremaining: 913ms\n",
      "109:\tlearn: 0.3776937\ttotal: 112ms\tremaining: 907ms\n",
      "110:\tlearn: 0.3746510\ttotal: 113ms\tremaining: 902ms\n",
      "111:\tlearn: 0.3718548\ttotal: 113ms\tremaining: 897ms\n",
      "112:\tlearn: 0.3693182\ttotal: 114ms\tremaining: 892ms\n",
      "113:\tlearn: 0.3669625\ttotal: 114ms\tremaining: 888ms\n",
      "114:\tlearn: 0.3641133\ttotal: 115ms\tremaining: 883ms\n",
      "115:\tlearn: 0.3610042\ttotal: 115ms\tremaining: 877ms\n",
      "116:\tlearn: 0.3586176\ttotal: 116ms\tremaining: 872ms\n",
      "117:\tlearn: 0.3565301\ttotal: 116ms\tremaining: 868ms\n",
      "118:\tlearn: 0.3537089\ttotal: 117ms\tremaining: 863ms\n",
      "119:\tlearn: 0.3502659\ttotal: 117ms\tremaining: 859ms\n",
      "120:\tlearn: 0.3477844\ttotal: 118ms\tremaining: 855ms\n",
      "121:\tlearn: 0.3450091\ttotal: 118ms\tremaining: 849ms\n",
      "122:\tlearn: 0.3424366\ttotal: 118ms\tremaining: 845ms\n",
      "123:\tlearn: 0.3396177\ttotal: 119ms\tremaining: 840ms\n",
      "124:\tlearn: 0.3372732\ttotal: 119ms\tremaining: 835ms\n",
      "125:\tlearn: 0.3350786\ttotal: 120ms\tremaining: 831ms\n",
      "126:\tlearn: 0.3321358\ttotal: 121ms\tremaining: 828ms\n",
      "127:\tlearn: 0.3295784\ttotal: 121ms\tremaining: 825ms\n",
      "128:\tlearn: 0.3272464\ttotal: 122ms\tremaining: 820ms\n",
      "129:\tlearn: 0.3243916\ttotal: 122ms\tremaining: 817ms\n",
      "130:\tlearn: 0.3222683\ttotal: 123ms\tremaining: 813ms\n",
      "131:\tlearn: 0.3202098\ttotal: 123ms\tremaining: 810ms\n",
      "132:\tlearn: 0.3176005\ttotal: 124ms\tremaining: 807ms\n",
      "133:\tlearn: 0.3144637\ttotal: 124ms\tremaining: 804ms\n",
      "134:\tlearn: 0.3125007\ttotal: 125ms\tremaining: 800ms\n",
      "135:\tlearn: 0.3106648\ttotal: 125ms\tremaining: 797ms\n",
      "136:\tlearn: 0.3085873\ttotal: 126ms\tremaining: 793ms\n",
      "137:\tlearn: 0.3064598\ttotal: 126ms\tremaining: 790ms\n",
      "138:\tlearn: 0.3043970\ttotal: 127ms\tremaining: 787ms\n",
      "139:\tlearn: 0.3025210\ttotal: 128ms\tremaining: 784ms\n",
      "140:\tlearn: 0.3004615\ttotal: 128ms\tremaining: 780ms\n",
      "141:\tlearn: 0.2981060\ttotal: 129ms\tremaining: 776ms\n",
      "142:\tlearn: 0.2958182\ttotal: 129ms\tremaining: 774ms\n",
      "143:\tlearn: 0.2934378\ttotal: 130ms\tremaining: 771ms\n",
      "144:\tlearn: 0.2908948\ttotal: 130ms\tremaining: 768ms\n",
      "145:\tlearn: 0.2884682\ttotal: 131ms\tremaining: 765ms\n",
      "146:\tlearn: 0.2863796\ttotal: 131ms\tremaining: 763ms\n",
      "147:\tlearn: 0.2840643\ttotal: 132ms\tremaining: 760ms\n",
      "148:\tlearn: 0.2817658\ttotal: 133ms\tremaining: 757ms\n",
      "149:\tlearn: 0.2796888\ttotal: 133ms\tremaining: 754ms\n",
      "150:\tlearn: 0.2772976\ttotal: 134ms\tremaining: 752ms\n",
      "151:\tlearn: 0.2759033\ttotal: 134ms\tremaining: 749ms\n",
      "152:\tlearn: 0.2745662\ttotal: 135ms\tremaining: 746ms\n",
      "153:\tlearn: 0.2729480\ttotal: 135ms\tremaining: 743ms\n",
      "154:\tlearn: 0.2713368\ttotal: 136ms\tremaining: 741ms\n",
      "155:\tlearn: 0.2698066\ttotal: 136ms\tremaining: 738ms\n",
      "156:\tlearn: 0.2677728\ttotal: 137ms\tremaining: 736ms\n",
      "157:\tlearn: 0.2659920\ttotal: 138ms\tremaining: 734ms\n",
      "158:\tlearn: 0.2640465\ttotal: 138ms\tremaining: 731ms\n",
      "159:\tlearn: 0.2623741\ttotal: 139ms\tremaining: 728ms\n",
      "160:\tlearn: 0.2602203\ttotal: 139ms\tremaining: 725ms\n",
      "161:\tlearn: 0.2585562\ttotal: 140ms\tremaining: 722ms\n",
      "162:\tlearn: 0.2567128\ttotal: 140ms\tremaining: 720ms\n",
      "163:\tlearn: 0.2550480\ttotal: 141ms\tremaining: 718ms\n",
      "164:\tlearn: 0.2531476\ttotal: 141ms\tremaining: 715ms\n",
      "165:\tlearn: 0.2511852\ttotal: 142ms\tremaining: 712ms\n",
      "166:\tlearn: 0.2493859\ttotal: 142ms\tremaining: 710ms\n",
      "167:\tlearn: 0.2477928\ttotal: 143ms\tremaining: 708ms\n",
      "168:\tlearn: 0.2460048\ttotal: 143ms\tremaining: 706ms\n",
      "169:\tlearn: 0.2442899\ttotal: 144ms\tremaining: 703ms\n",
      "170:\tlearn: 0.2424482\ttotal: 145ms\tremaining: 701ms\n",
      "171:\tlearn: 0.2407996\ttotal: 145ms\tremaining: 700ms\n",
      "172:\tlearn: 0.2386946\ttotal: 146ms\tremaining: 697ms\n",
      "173:\tlearn: 0.2370648\ttotal: 146ms\tremaining: 694ms\n",
      "174:\tlearn: 0.2351662\ttotal: 147ms\tremaining: 692ms\n",
      "175:\tlearn: 0.2337734\ttotal: 147ms\tremaining: 689ms\n",
      "176:\tlearn: 0.2319330\ttotal: 148ms\tremaining: 687ms\n",
      "177:\tlearn: 0.2301900\ttotal: 148ms\tremaining: 684ms\n",
      "178:\tlearn: 0.2283913\ttotal: 149ms\tremaining: 682ms\n",
      "179:\tlearn: 0.2267495\ttotal: 149ms\tremaining: 679ms\n",
      "180:\tlearn: 0.2253741\ttotal: 150ms\tremaining: 677ms\n",
      "181:\tlearn: 0.2237977\ttotal: 150ms\tremaining: 674ms\n",
      "182:\tlearn: 0.2219997\ttotal: 150ms\tremaining: 671ms\n",
      "183:\tlearn: 0.2202704\ttotal: 151ms\tremaining: 669ms\n",
      "184:\tlearn: 0.2189575\ttotal: 151ms\tremaining: 666ms\n",
      "185:\tlearn: 0.2176168\ttotal: 152ms\tremaining: 664ms\n",
      "186:\tlearn: 0.2162313\ttotal: 152ms\tremaining: 661ms\n",
      "187:\tlearn: 0.2147331\ttotal: 152ms\tremaining: 658ms\n",
      "188:\tlearn: 0.2131423\ttotal: 153ms\tremaining: 656ms\n",
      "189:\tlearn: 0.2118040\ttotal: 153ms\tremaining: 653ms\n",
      "190:\tlearn: 0.2100414\ttotal: 154ms\tremaining: 651ms\n",
      "191:\tlearn: 0.2084618\ttotal: 154ms\tremaining: 650ms\n",
      "192:\tlearn: 0.2069236\ttotal: 155ms\tremaining: 647ms\n",
      "193:\tlearn: 0.2058151\ttotal: 155ms\tremaining: 645ms\n",
      "194:\tlearn: 0.2042170\ttotal: 156ms\tremaining: 643ms\n",
      "195:\tlearn: 0.2028076\ttotal: 156ms\tremaining: 641ms\n",
      "196:\tlearn: 0.2013099\ttotal: 157ms\tremaining: 639ms\n",
      "197:\tlearn: 0.1997167\ttotal: 157ms\tremaining: 637ms\n",
      "198:\tlearn: 0.1982267\ttotal: 158ms\tremaining: 635ms\n",
      "199:\tlearn: 0.1971924\ttotal: 158ms\tremaining: 633ms\n",
      "200:\tlearn: 0.1956274\ttotal: 159ms\tremaining: 631ms\n",
      "201:\tlearn: 0.1942697\ttotal: 159ms\tremaining: 629ms\n",
      "202:\tlearn: 0.1930315\ttotal: 160ms\tremaining: 628ms\n",
      "203:\tlearn: 0.1918042\ttotal: 160ms\tremaining: 626ms\n",
      "204:\tlearn: 0.1905330\ttotal: 161ms\tremaining: 624ms\n",
      "205:\tlearn: 0.1892279\ttotal: 161ms\tremaining: 622ms\n",
      "206:\tlearn: 0.1876358\ttotal: 162ms\tremaining: 620ms\n",
      "207:\tlearn: 0.1863117\ttotal: 162ms\tremaining: 618ms\n",
      "208:\tlearn: 0.1849604\ttotal: 163ms\tremaining: 617ms\n",
      "209:\tlearn: 0.1838353\ttotal: 163ms\tremaining: 615ms\n",
      "210:\tlearn: 0.1824781\ttotal: 164ms\tremaining: 613ms\n",
      "211:\tlearn: 0.1811678\ttotal: 165ms\tremaining: 612ms\n",
      "212:\tlearn: 0.1801349\ttotal: 165ms\tremaining: 610ms\n",
      "213:\tlearn: 0.1791647\ttotal: 166ms\tremaining: 608ms\n",
      "214:\tlearn: 0.1778758\ttotal: 166ms\tremaining: 606ms\n",
      "215:\tlearn: 0.1767951\ttotal: 167ms\tremaining: 604ms\n",
      "216:\tlearn: 0.1757027\ttotal: 167ms\tremaining: 602ms\n",
      "217:\tlearn: 0.1745139\ttotal: 167ms\tremaining: 601ms\n",
      "218:\tlearn: 0.1732622\ttotal: 168ms\tremaining: 599ms\n",
      "219:\tlearn: 0.1722828\ttotal: 168ms\tremaining: 597ms\n",
      "220:\tlearn: 0.1711738\ttotal: 169ms\tremaining: 595ms\n",
      "221:\tlearn: 0.1701324\ttotal: 169ms\tremaining: 593ms\n",
      "222:\tlearn: 0.1690240\ttotal: 170ms\tremaining: 592ms\n",
      "223:\tlearn: 0.1680382\ttotal: 170ms\tremaining: 590ms\n",
      "224:\tlearn: 0.1669330\ttotal: 171ms\tremaining: 588ms\n",
      "225:\tlearn: 0.1656311\ttotal: 171ms\tremaining: 586ms\n",
      "226:\tlearn: 0.1645170\ttotal: 172ms\tremaining: 585ms\n",
      "227:\tlearn: 0.1636404\ttotal: 172ms\tremaining: 583ms\n",
      "228:\tlearn: 0.1625471\ttotal: 173ms\tremaining: 582ms\n",
      "229:\tlearn: 0.1618031\ttotal: 173ms\tremaining: 581ms\n",
      "230:\tlearn: 0.1604257\ttotal: 174ms\tremaining: 579ms\n",
      "231:\tlearn: 0.1592405\ttotal: 175ms\tremaining: 578ms\n",
      "232:\tlearn: 0.1583420\ttotal: 175ms\tremaining: 576ms\n",
      "233:\tlearn: 0.1573127\ttotal: 175ms\tremaining: 574ms\n",
      "234:\tlearn: 0.1563757\ttotal: 176ms\tremaining: 572ms\n",
      "235:\tlearn: 0.1551132\ttotal: 176ms\tremaining: 571ms\n",
      "236:\tlearn: 0.1538008\ttotal: 177ms\tremaining: 569ms\n",
      "237:\tlearn: 0.1525587\ttotal: 177ms\tremaining: 567ms\n",
      "238:\tlearn: 0.1515566\ttotal: 178ms\tremaining: 566ms\n",
      "239:\tlearn: 0.1507042\ttotal: 178ms\tremaining: 565ms\n",
      "240:\tlearn: 0.1502312\ttotal: 179ms\tremaining: 563ms\n",
      "241:\tlearn: 0.1492515\ttotal: 179ms\tremaining: 562ms\n",
      "242:\tlearn: 0.1483009\ttotal: 180ms\tremaining: 560ms\n",
      "243:\tlearn: 0.1475782\ttotal: 180ms\tremaining: 559ms\n",
      "244:\tlearn: 0.1465180\ttotal: 181ms\tremaining: 558ms\n",
      "245:\tlearn: 0.1456590\ttotal: 181ms\tremaining: 556ms\n",
      "246:\tlearn: 0.1447942\ttotal: 182ms\tremaining: 555ms\n",
      "247:\tlearn: 0.1439225\ttotal: 183ms\tremaining: 554ms\n",
      "248:\tlearn: 0.1430585\ttotal: 183ms\tremaining: 553ms\n",
      "249:\tlearn: 0.1420674\ttotal: 184ms\tremaining: 551ms\n",
      "250:\tlearn: 0.1409827\ttotal: 184ms\tremaining: 550ms\n",
      "251:\tlearn: 0.1405646\ttotal: 185ms\tremaining: 548ms\n",
      "252:\tlearn: 0.1397200\ttotal: 185ms\tremaining: 547ms\n",
      "253:\tlearn: 0.1385965\ttotal: 186ms\tremaining: 545ms\n",
      "254:\tlearn: 0.1376160\ttotal: 186ms\tremaining: 543ms\n",
      "255:\tlearn: 0.1367367\ttotal: 186ms\tremaining: 542ms\n",
      "256:\tlearn: 0.1362548\ttotal: 187ms\tremaining: 540ms\n"
     ]
    },
    {
     "name": "stdout",
     "output_type": "stream",
     "text": [
      "257:\tlearn: 0.1353587\ttotal: 188ms\tremaining: 540ms\n",
      "258:\tlearn: 0.1345345\ttotal: 188ms\tremaining: 539ms\n",
      "259:\tlearn: 0.1338560\ttotal: 189ms\tremaining: 537ms\n",
      "260:\tlearn: 0.1328570\ttotal: 189ms\tremaining: 536ms\n",
      "261:\tlearn: 0.1321273\ttotal: 190ms\tremaining: 535ms\n",
      "262:\tlearn: 0.1312231\ttotal: 190ms\tremaining: 533ms\n",
      "263:\tlearn: 0.1304483\ttotal: 191ms\tremaining: 532ms\n",
      "264:\tlearn: 0.1294616\ttotal: 192ms\tremaining: 531ms\n",
      "265:\tlearn: 0.1285306\ttotal: 192ms\tremaining: 530ms\n",
      "266:\tlearn: 0.1278537\ttotal: 192ms\tremaining: 528ms\n",
      "267:\tlearn: 0.1269385\ttotal: 193ms\tremaining: 527ms\n",
      "268:\tlearn: 0.1261657\ttotal: 193ms\tremaining: 525ms\n",
      "269:\tlearn: 0.1254957\ttotal: 194ms\tremaining: 523ms\n",
      "270:\tlearn: 0.1247097\ttotal: 194ms\tremaining: 522ms\n",
      "271:\tlearn: 0.1239535\ttotal: 194ms\tremaining: 520ms\n",
      "272:\tlearn: 0.1232261\ttotal: 195ms\tremaining: 519ms\n",
      "273:\tlearn: 0.1224549\ttotal: 196ms\tremaining: 518ms\n",
      "274:\tlearn: 0.1218100\ttotal: 196ms\tremaining: 517ms\n",
      "275:\tlearn: 0.1210058\ttotal: 196ms\tremaining: 515ms\n",
      "276:\tlearn: 0.1202684\ttotal: 197ms\tremaining: 514ms\n",
      "277:\tlearn: 0.1199818\ttotal: 197ms\tremaining: 512ms\n",
      "278:\tlearn: 0.1191011\ttotal: 198ms\tremaining: 511ms\n",
      "279:\tlearn: 0.1188324\ttotal: 198ms\tremaining: 510ms\n",
      "280:\tlearn: 0.1179975\ttotal: 199ms\tremaining: 508ms\n",
      "281:\tlearn: 0.1172147\ttotal: 199ms\tremaining: 506ms\n",
      "282:\tlearn: 0.1163926\ttotal: 199ms\tremaining: 505ms\n",
      "283:\tlearn: 0.1157527\ttotal: 200ms\tremaining: 504ms\n",
      "284:\tlearn: 0.1150886\ttotal: 200ms\tremaining: 502ms\n",
      "285:\tlearn: 0.1142669\ttotal: 201ms\tremaining: 501ms\n",
      "286:\tlearn: 0.1134966\ttotal: 201ms\tremaining: 500ms\n",
      "287:\tlearn: 0.1127019\ttotal: 202ms\tremaining: 498ms\n",
      "288:\tlearn: 0.1119689\ttotal: 202ms\tremaining: 497ms\n",
      "289:\tlearn: 0.1113402\ttotal: 203ms\tremaining: 496ms\n",
      "290:\tlearn: 0.1108160\ttotal: 203ms\tremaining: 495ms\n",
      "291:\tlearn: 0.1103117\ttotal: 204ms\tremaining: 493ms\n",
      "292:\tlearn: 0.1097620\ttotal: 204ms\tremaining: 492ms\n",
      "293:\tlearn: 0.1092388\ttotal: 204ms\tremaining: 491ms\n",
      "294:\tlearn: 0.1087348\ttotal: 205ms\tremaining: 489ms\n",
      "295:\tlearn: 0.1079975\ttotal: 205ms\tremaining: 488ms\n",
      "296:\tlearn: 0.1073762\ttotal: 206ms\tremaining: 487ms\n",
      "297:\tlearn: 0.1067158\ttotal: 206ms\tremaining: 485ms\n",
      "298:\tlearn: 0.1060739\ttotal: 206ms\tremaining: 484ms\n",
      "299:\tlearn: 0.1054121\ttotal: 207ms\tremaining: 482ms\n",
      "300:\tlearn: 0.1047033\ttotal: 207ms\tremaining: 481ms\n",
      "301:\tlearn: 0.1041698\ttotal: 208ms\tremaining: 480ms\n",
      "302:\tlearn: 0.1035429\ttotal: 208ms\tremaining: 479ms\n",
      "303:\tlearn: 0.1029642\ttotal: 209ms\tremaining: 478ms\n",
      "304:\tlearn: 0.1024297\ttotal: 209ms\tremaining: 477ms\n",
      "305:\tlearn: 0.1018331\ttotal: 210ms\tremaining: 476ms\n",
      "306:\tlearn: 0.1012802\ttotal: 210ms\tremaining: 475ms\n",
      "307:\tlearn: 0.1007620\ttotal: 211ms\tremaining: 473ms\n",
      "308:\tlearn: 0.1002179\ttotal: 211ms\tremaining: 472ms\n",
      "309:\tlearn: 0.0997166\ttotal: 212ms\tremaining: 471ms\n",
      "310:\tlearn: 0.0991551\ttotal: 212ms\tremaining: 470ms\n",
      "311:\tlearn: 0.0984937\ttotal: 213ms\tremaining: 469ms\n",
      "312:\tlearn: 0.0979445\ttotal: 213ms\tremaining: 468ms\n",
      "313:\tlearn: 0.0974361\ttotal: 214ms\tremaining: 467ms\n",
      "314:\tlearn: 0.0969084\ttotal: 214ms\tremaining: 466ms\n",
      "315:\tlearn: 0.0963458\ttotal: 215ms\tremaining: 465ms\n",
      "316:\tlearn: 0.0958382\ttotal: 215ms\tremaining: 464ms\n",
      "317:\tlearn: 0.0952531\ttotal: 216ms\tremaining: 462ms\n",
      "318:\tlearn: 0.0944827\ttotal: 216ms\tremaining: 461ms\n",
      "319:\tlearn: 0.0940819\ttotal: 217ms\tremaining: 460ms\n",
      "320:\tlearn: 0.0934855\ttotal: 217ms\tremaining: 460ms\n",
      "321:\tlearn: 0.0930297\ttotal: 218ms\tremaining: 459ms\n",
      "322:\tlearn: 0.0926147\ttotal: 218ms\tremaining: 458ms\n",
      "323:\tlearn: 0.0921217\ttotal: 219ms\tremaining: 457ms\n",
      "324:\tlearn: 0.0916571\ttotal: 219ms\tremaining: 455ms\n",
      "325:\tlearn: 0.0912534\ttotal: 220ms\tremaining: 454ms\n",
      "326:\tlearn: 0.0907226\ttotal: 220ms\tremaining: 454ms\n",
      "327:\tlearn: 0.0902467\ttotal: 221ms\tremaining: 453ms\n",
      "328:\tlearn: 0.0896553\ttotal: 222ms\tremaining: 452ms\n",
      "329:\tlearn: 0.0890864\ttotal: 222ms\tremaining: 451ms\n",
      "330:\tlearn: 0.0885094\ttotal: 223ms\tremaining: 450ms\n",
      "331:\tlearn: 0.0879629\ttotal: 223ms\tremaining: 449ms\n",
      "332:\tlearn: 0.0873846\ttotal: 224ms\tremaining: 448ms\n",
      "333:\tlearn: 0.0872294\ttotal: 224ms\tremaining: 447ms\n",
      "334:\tlearn: 0.0866798\ttotal: 225ms\tremaining: 446ms\n",
      "335:\tlearn: 0.0865089\ttotal: 225ms\tremaining: 445ms\n",
      "336:\tlearn: 0.0861356\ttotal: 226ms\tremaining: 444ms\n",
      "337:\tlearn: 0.0856038\ttotal: 226ms\tremaining: 443ms\n",
      "338:\tlearn: 0.0854370\ttotal: 227ms\tremaining: 442ms\n",
      "339:\tlearn: 0.0852587\ttotal: 227ms\tremaining: 441ms\n",
      "340:\tlearn: 0.0848761\ttotal: 228ms\tremaining: 440ms\n",
      "341:\tlearn: 0.0843600\ttotal: 228ms\tremaining: 439ms\n",
      "342:\tlearn: 0.0838389\ttotal: 229ms\tremaining: 439ms\n",
      "343:\tlearn: 0.0833264\ttotal: 230ms\tremaining: 438ms\n",
      "344:\tlearn: 0.0831438\ttotal: 230ms\tremaining: 437ms\n",
      "345:\tlearn: 0.0826242\ttotal: 231ms\tremaining: 436ms\n",
      "346:\tlearn: 0.0824906\ttotal: 231ms\tremaining: 435ms\n",
      "347:\tlearn: 0.0819804\ttotal: 232ms\tremaining: 435ms\n",
      "348:\tlearn: 0.0814805\ttotal: 232ms\tremaining: 434ms\n",
      "349:\tlearn: 0.0813459\ttotal: 233ms\tremaining: 433ms\n",
      "350:\tlearn: 0.0808655\ttotal: 233ms\tremaining: 432ms\n",
      "351:\tlearn: 0.0803829\ttotal: 234ms\tremaining: 431ms\n",
      "352:\tlearn: 0.0802526\ttotal: 234ms\tremaining: 429ms\n",
      "353:\tlearn: 0.0797093\ttotal: 235ms\tremaining: 428ms\n",
      "354:\tlearn: 0.0792405\ttotal: 235ms\tremaining: 427ms\n",
      "355:\tlearn: 0.0787822\ttotal: 236ms\tremaining: 426ms\n",
      "356:\tlearn: 0.0786569\ttotal: 236ms\tremaining: 425ms\n",
      "357:\tlearn: 0.0781651\ttotal: 237ms\tremaining: 424ms\n",
      "358:\tlearn: 0.0776756\ttotal: 237ms\tremaining: 424ms\n",
      "359:\tlearn: 0.0775536\ttotal: 238ms\tremaining: 423ms\n",
      "360:\tlearn: 0.0774175\ttotal: 238ms\tremaining: 422ms\n",
      "361:\tlearn: 0.0768425\ttotal: 239ms\tremaining: 421ms\n",
      "362:\tlearn: 0.0762548\ttotal: 239ms\tremaining: 420ms\n",
      "363:\tlearn: 0.0758253\ttotal: 240ms\tremaining: 419ms\n",
      "364:\tlearn: 0.0752721\ttotal: 240ms\tremaining: 418ms\n",
      "365:\tlearn: 0.0748813\ttotal: 241ms\tremaining: 417ms\n",
      "366:\tlearn: 0.0743404\ttotal: 241ms\tremaining: 416ms\n",
      "367:\tlearn: 0.0739169\ttotal: 242ms\tremaining: 415ms\n",
      "368:\tlearn: 0.0733992\ttotal: 242ms\tremaining: 414ms\n",
      "369:\tlearn: 0.0729945\ttotal: 243ms\tremaining: 413ms\n",
      "370:\tlearn: 0.0725845\ttotal: 243ms\tremaining: 412ms\n",
      "371:\tlearn: 0.0720674\ttotal: 244ms\tremaining: 411ms\n",
      "372:\tlearn: 0.0716672\ttotal: 244ms\tremaining: 410ms\n",
      "373:\tlearn: 0.0711622\ttotal: 245ms\tremaining: 409ms\n",
      "374:\tlearn: 0.0707695\ttotal: 245ms\tremaining: 408ms\n",
      "375:\tlearn: 0.0703080\ttotal: 245ms\tremaining: 407ms\n",
      "376:\tlearn: 0.0699244\ttotal: 246ms\tremaining: 406ms\n",
      "377:\tlearn: 0.0694413\ttotal: 246ms\tremaining: 405ms\n",
      "378:\tlearn: 0.0690306\ttotal: 247ms\tremaining: 404ms\n",
      "379:\tlearn: 0.0686542\ttotal: 247ms\tremaining: 404ms\n",
      "380:\tlearn: 0.0681838\ttotal: 248ms\tremaining: 403ms\n",
      "381:\tlearn: 0.0678694\ttotal: 248ms\tremaining: 402ms\n",
      "382:\tlearn: 0.0674086\ttotal: 249ms\tremaining: 401ms\n",
      "383:\tlearn: 0.0669620\ttotal: 249ms\tremaining: 400ms\n",
      "384:\tlearn: 0.0666184\ttotal: 250ms\tremaining: 399ms\n",
      "385:\tlearn: 0.0662665\ttotal: 251ms\tremaining: 398ms\n",
      "386:\tlearn: 0.0659639\ttotal: 251ms\tremaining: 398ms\n",
      "387:\tlearn: 0.0656701\ttotal: 252ms\tremaining: 397ms\n",
      "388:\tlearn: 0.0652103\ttotal: 252ms\tremaining: 396ms\n",
      "389:\tlearn: 0.0648833\ttotal: 253ms\tremaining: 395ms\n",
      "390:\tlearn: 0.0645159\ttotal: 253ms\tremaining: 394ms\n",
      "391:\tlearn: 0.0642300\ttotal: 254ms\tremaining: 394ms\n",
      "392:\tlearn: 0.0639659\ttotal: 254ms\tremaining: 393ms\n",
      "393:\tlearn: 0.0636079\ttotal: 255ms\tremaining: 392ms\n",
      "394:\tlearn: 0.0633302\ttotal: 255ms\tremaining: 391ms\n",
      "395:\tlearn: 0.0630584\ttotal: 256ms\tremaining: 390ms\n",
      "396:\tlearn: 0.0628021\ttotal: 256ms\tremaining: 389ms\n",
      "397:\tlearn: 0.0624977\ttotal: 257ms\tremaining: 388ms\n",
      "398:\tlearn: 0.0620896\ttotal: 257ms\tremaining: 387ms\n",
      "399:\tlearn: 0.0618416\ttotal: 258ms\tremaining: 387ms\n",
      "400:\tlearn: 0.0615977\ttotal: 258ms\tremaining: 386ms\n",
      "401:\tlearn: 0.0612006\ttotal: 259ms\tremaining: 385ms\n",
      "402:\tlearn: 0.0609055\ttotal: 259ms\tremaining: 384ms\n",
      "403:\tlearn: 0.0606515\ttotal: 260ms\tremaining: 383ms\n",
      "404:\tlearn: 0.0604177\ttotal: 260ms\tremaining: 382ms\n",
      "405:\tlearn: 0.0601853\ttotal: 261ms\tremaining: 381ms\n",
      "406:\tlearn: 0.0598072\ttotal: 261ms\tremaining: 381ms\n",
      "407:\tlearn: 0.0595293\ttotal: 262ms\tremaining: 380ms\n",
      "408:\tlearn: 0.0591240\ttotal: 262ms\tremaining: 379ms\n",
      "409:\tlearn: 0.0588551\ttotal: 263ms\tremaining: 378ms\n",
      "410:\tlearn: 0.0585080\ttotal: 263ms\tremaining: 377ms\n",
      "411:\tlearn: 0.0582333\ttotal: 264ms\tremaining: 376ms\n",
      "412:\tlearn: 0.0578299\ttotal: 264ms\tremaining: 376ms\n",
      "413:\tlearn: 0.0573521\ttotal: 265ms\tremaining: 375ms\n",
      "414:\tlearn: 0.0569158\ttotal: 265ms\tremaining: 374ms\n",
      "415:\tlearn: 0.0564546\ttotal: 266ms\tremaining: 373ms\n",
      "416:\tlearn: 0.0560038\ttotal: 266ms\tremaining: 372ms\n",
      "417:\tlearn: 0.0557513\ttotal: 267ms\tremaining: 372ms\n",
      "418:\tlearn: 0.0555028\ttotal: 267ms\tremaining: 371ms\n",
      "419:\tlearn: 0.0552476\ttotal: 268ms\tremaining: 370ms\n",
      "420:\tlearn: 0.0550250\ttotal: 268ms\tremaining: 369ms\n",
      "421:\tlearn: 0.0547827\ttotal: 269ms\tremaining: 368ms\n",
      "422:\tlearn: 0.0545656\ttotal: 269ms\tremaining: 367ms\n",
      "423:\tlearn: 0.0543279\ttotal: 270ms\tremaining: 367ms\n",
      "424:\tlearn: 0.0539259\ttotal: 271ms\tremaining: 366ms\n",
      "425:\tlearn: 0.0536853\ttotal: 271ms\tremaining: 365ms\n",
      "426:\tlearn: 0.0534687\ttotal: 272ms\tremaining: 365ms\n",
      "427:\tlearn: 0.0532572\ttotal: 273ms\tremaining: 365ms\n",
      "428:\tlearn: 0.0530430\ttotal: 273ms\tremaining: 364ms\n",
      "429:\tlearn: 0.0528398\ttotal: 274ms\tremaining: 363ms\n",
      "430:\tlearn: 0.0525706\ttotal: 274ms\tremaining: 362ms\n",
      "431:\tlearn: 0.0523470\ttotal: 275ms\tremaining: 362ms\n",
      "432:\tlearn: 0.0521369\ttotal: 275ms\tremaining: 361ms\n",
      "433:\tlearn: 0.0519593\ttotal: 276ms\tremaining: 360ms\n",
      "434:\tlearn: 0.0516993\ttotal: 276ms\tremaining: 359ms\n",
      "435:\tlearn: 0.0515259\ttotal: 277ms\tremaining: 358ms\n",
      "436:\tlearn: 0.0511919\ttotal: 277ms\tremaining: 357ms\n",
      "437:\tlearn: 0.0508636\ttotal: 278ms\tremaining: 356ms\n",
      "438:\tlearn: 0.0507272\ttotal: 278ms\tremaining: 356ms\n",
      "439:\tlearn: 0.0506584\ttotal: 279ms\tremaining: 355ms\n",
      "440:\tlearn: 0.0503364\ttotal: 279ms\tremaining: 354ms\n"
     ]
    },
    {
     "name": "stdout",
     "output_type": "stream",
     "text": [
      "441:\tlearn: 0.0501459\ttotal: 280ms\tremaining: 353ms\n",
      "442:\tlearn: 0.0498423\ttotal: 281ms\tremaining: 353ms\n",
      "443:\tlearn: 0.0495435\ttotal: 281ms\tremaining: 352ms\n",
      "444:\tlearn: 0.0494123\ttotal: 282ms\tremaining: 351ms\n",
      "445:\tlearn: 0.0493379\ttotal: 282ms\tremaining: 350ms\n",
      "446:\tlearn: 0.0490318\ttotal: 283ms\tremaining: 350ms\n",
      "447:\tlearn: 0.0489588\ttotal: 283ms\tremaining: 349ms\n",
      "448:\tlearn: 0.0486708\ttotal: 284ms\tremaining: 348ms\n",
      "449:\tlearn: 0.0485993\ttotal: 284ms\tremaining: 347ms\n",
      "450:\tlearn: 0.0482934\ttotal: 285ms\tremaining: 347ms\n",
      "451:\tlearn: 0.0479999\ttotal: 285ms\tremaining: 346ms\n",
      "452:\tlearn: 0.0477024\ttotal: 286ms\tremaining: 345ms\n",
      "453:\tlearn: 0.0476437\ttotal: 286ms\tremaining: 344ms\n",
      "454:\tlearn: 0.0473507\ttotal: 287ms\tremaining: 343ms\n",
      "455:\tlearn: 0.0470633\ttotal: 287ms\tremaining: 342ms\n",
      "456:\tlearn: 0.0467830\ttotal: 288ms\tremaining: 342ms\n",
      "457:\tlearn: 0.0465010\ttotal: 288ms\tremaining: 341ms\n",
      "458:\tlearn: 0.0462764\ttotal: 288ms\tremaining: 340ms\n",
      "459:\tlearn: 0.0460032\ttotal: 289ms\tremaining: 339ms\n",
      "460:\tlearn: 0.0457397\ttotal: 289ms\tremaining: 338ms\n",
      "461:\tlearn: 0.0454718\ttotal: 290ms\tremaining: 337ms\n",
      "462:\tlearn: 0.0452588\ttotal: 290ms\tremaining: 337ms\n",
      "463:\tlearn: 0.0449969\ttotal: 291ms\tremaining: 336ms\n",
      "464:\tlearn: 0.0447849\ttotal: 291ms\tremaining: 335ms\n",
      "465:\tlearn: 0.0445220\ttotal: 292ms\tremaining: 334ms\n",
      "466:\tlearn: 0.0443159\ttotal: 292ms\tremaining: 333ms\n",
      "467:\tlearn: 0.0441133\ttotal: 293ms\tremaining: 333ms\n",
      "468:\tlearn: 0.0440516\ttotal: 293ms\tremaining: 332ms\n",
      "469:\tlearn: 0.0438529\ttotal: 294ms\tremaining: 331ms\n",
      "470:\tlearn: 0.0437982\ttotal: 294ms\tremaining: 330ms\n",
      "471:\tlearn: 0.0437440\ttotal: 295ms\tremaining: 330ms\n",
      "472:\tlearn: 0.0434470\ttotal: 295ms\tremaining: 329ms\n",
      "473:\tlearn: 0.0432312\ttotal: 296ms\tremaining: 328ms\n",
      "474:\tlearn: 0.0431749\ttotal: 296ms\tremaining: 327ms\n",
      "475:\tlearn: 0.0428764\ttotal: 297ms\tremaining: 327ms\n",
      "476:\tlearn: 0.0426772\ttotal: 297ms\tremaining: 326ms\n",
      "477:\tlearn: 0.0424395\ttotal: 298ms\tremaining: 325ms\n",
      "478:\tlearn: 0.0422463\ttotal: 298ms\tremaining: 325ms\n",
      "479:\tlearn: 0.0419979\ttotal: 299ms\tremaining: 324ms\n",
      "480:\tlearn: 0.0417929\ttotal: 299ms\tremaining: 323ms\n",
      "481:\tlearn: 0.0416115\ttotal: 300ms\tremaining: 322ms\n",
      "482:\tlearn: 0.0415459\ttotal: 300ms\tremaining: 321ms\n",
      "483:\tlearn: 0.0414810\ttotal: 301ms\tremaining: 321ms\n",
      "484:\tlearn: 0.0412961\ttotal: 301ms\tremaining: 320ms\n",
      "485:\tlearn: 0.0410552\ttotal: 302ms\tremaining: 319ms\n",
      "486:\tlearn: 0.0408584\ttotal: 302ms\tremaining: 319ms\n",
      "487:\tlearn: 0.0407948\ttotal: 303ms\tremaining: 318ms\n",
      "488:\tlearn: 0.0405221\ttotal: 304ms\tremaining: 317ms\n",
      "489:\tlearn: 0.0403039\ttotal: 304ms\tremaining: 317ms\n",
      "490:\tlearn: 0.0402416\ttotal: 305ms\tremaining: 316ms\n",
      "491:\tlearn: 0.0400261\ttotal: 305ms\tremaining: 315ms\n",
      "492:\tlearn: 0.0398523\ttotal: 305ms\tremaining: 314ms\n",
      "493:\tlearn: 0.0396223\ttotal: 306ms\tremaining: 313ms\n",
      "494:\tlearn: 0.0394364\ttotal: 306ms\tremaining: 313ms\n",
      "495:\tlearn: 0.0393756\ttotal: 307ms\tremaining: 312ms\n",
      "496:\tlearn: 0.0391152\ttotal: 308ms\tremaining: 311ms\n",
      "497:\tlearn: 0.0389339\ttotal: 308ms\tremaining: 311ms\n",
      "498:\tlearn: 0.0388743\ttotal: 309ms\tremaining: 310ms\n",
      "499:\tlearn: 0.0388154\ttotal: 309ms\tremaining: 309ms\n",
      "500:\tlearn: 0.0386723\ttotal: 310ms\tremaining: 309ms\n",
      "501:\tlearn: 0.0384707\ttotal: 311ms\tremaining: 308ms\n",
      "502:\tlearn: 0.0383086\ttotal: 311ms\tremaining: 307ms\n",
      "503:\tlearn: 0.0381348\ttotal: 312ms\tremaining: 307ms\n",
      "504:\tlearn: 0.0380573\ttotal: 312ms\tremaining: 306ms\n",
      "505:\tlearn: 0.0379232\ttotal: 313ms\tremaining: 305ms\n",
      "506:\tlearn: 0.0376712\ttotal: 313ms\tremaining: 305ms\n",
      "507:\tlearn: 0.0374786\ttotal: 314ms\tremaining: 304ms\n",
      "508:\tlearn: 0.0374035\ttotal: 314ms\tremaining: 303ms\n",
      "509:\tlearn: 0.0372728\ttotal: 315ms\tremaining: 302ms\n",
      "510:\tlearn: 0.0370594\ttotal: 315ms\tremaining: 301ms\n",
      "511:\tlearn: 0.0367804\ttotal: 315ms\tremaining: 301ms\n",
      "512:\tlearn: 0.0366332\ttotal: 316ms\tremaining: 300ms\n",
      "513:\tlearn: 0.0364465\ttotal: 317ms\tremaining: 299ms\n",
      "514:\tlearn: 0.0363740\ttotal: 317ms\tremaining: 299ms\n",
      "515:\tlearn: 0.0363026\ttotal: 318ms\tremaining: 298ms\n",
      "516:\tlearn: 0.0361777\ttotal: 318ms\tremaining: 297ms\n",
      "517:\tlearn: 0.0359385\ttotal: 319ms\tremaining: 297ms\n",
      "518:\tlearn: 0.0357583\ttotal: 319ms\tremaining: 296ms\n",
      "519:\tlearn: 0.0355401\ttotal: 320ms\tremaining: 295ms\n",
      "520:\tlearn: 0.0353625\ttotal: 320ms\tremaining: 294ms\n",
      "521:\tlearn: 0.0352937\ttotal: 321ms\tremaining: 294ms\n",
      "522:\tlearn: 0.0350783\ttotal: 321ms\tremaining: 293ms\n",
      "523:\tlearn: 0.0350110\ttotal: 322ms\tremaining: 292ms\n",
      "524:\tlearn: 0.0347532\ttotal: 322ms\tremaining: 291ms\n",
      "525:\tlearn: 0.0345275\ttotal: 323ms\tremaining: 291ms\n",
      "526:\tlearn: 0.0343575\ttotal: 323ms\tremaining: 290ms\n",
      "527:\tlearn: 0.0342401\ttotal: 324ms\tremaining: 289ms\n",
      "528:\tlearn: 0.0340943\ttotal: 324ms\tremaining: 289ms\n",
      "529:\tlearn: 0.0340510\ttotal: 325ms\tremaining: 288ms\n",
      "530:\tlearn: 0.0338486\ttotal: 325ms\tremaining: 287ms\n",
      "531:\tlearn: 0.0338060\ttotal: 326ms\tremaining: 286ms\n",
      "532:\tlearn: 0.0336755\ttotal: 326ms\tremaining: 286ms\n",
      "533:\tlearn: 0.0336338\ttotal: 327ms\tremaining: 285ms\n",
      "534:\tlearn: 0.0334308\ttotal: 327ms\tremaining: 284ms\n",
      "535:\tlearn: 0.0333897\ttotal: 328ms\tremaining: 284ms\n",
      "536:\tlearn: 0.0331504\ttotal: 328ms\tremaining: 283ms\n",
      "537:\tlearn: 0.0330378\ttotal: 329ms\tremaining: 282ms\n",
      "538:\tlearn: 0.0329010\ttotal: 329ms\tremaining: 282ms\n",
      "539:\tlearn: 0.0327477\ttotal: 330ms\tremaining: 281ms\n",
      "540:\tlearn: 0.0327080\ttotal: 330ms\tremaining: 280ms\n",
      "541:\tlearn: 0.0325993\ttotal: 331ms\tremaining: 280ms\n",
      "542:\tlearn: 0.0324408\ttotal: 331ms\tremaining: 279ms\n",
      "543:\tlearn: 0.0324017\ttotal: 332ms\tremaining: 278ms\n",
      "544:\tlearn: 0.0322954\ttotal: 332ms\tremaining: 278ms\n",
      "545:\tlearn: 0.0321186\ttotal: 333ms\tremaining: 277ms\n",
      "546:\tlearn: 0.0320802\ttotal: 333ms\tremaining: 276ms\n",
      "547:\tlearn: 0.0318786\ttotal: 334ms\tremaining: 275ms\n",
      "548:\tlearn: 0.0317077\ttotal: 334ms\tremaining: 275ms\n",
      "549:\tlearn: 0.0316046\ttotal: 335ms\tremaining: 274ms\n",
      "550:\tlearn: 0.0314538\ttotal: 335ms\tremaining: 273ms\n",
      "551:\tlearn: 0.0314165\ttotal: 336ms\tremaining: 272ms\n",
      "552:\tlearn: 0.0312688\ttotal: 336ms\tremaining: 272ms\n",
      "553:\tlearn: 0.0312321\ttotal: 337ms\tremaining: 271ms\n",
      "554:\tlearn: 0.0311958\ttotal: 337ms\tremaining: 270ms\n",
      "555:\tlearn: 0.0310951\ttotal: 338ms\tremaining: 270ms\n",
      "556:\tlearn: 0.0310593\ttotal: 338ms\tremaining: 269ms\n",
      "557:\tlearn: 0.0309504\ttotal: 339ms\tremaining: 268ms\n",
      "558:\tlearn: 0.0307582\ttotal: 339ms\tremaining: 268ms\n",
      "559:\tlearn: 0.0306599\ttotal: 340ms\tremaining: 267ms\n",
      "560:\tlearn: 0.0304686\ttotal: 340ms\tremaining: 266ms\n",
      "561:\tlearn: 0.0303640\ttotal: 341ms\tremaining: 266ms\n",
      "562:\tlearn: 0.0302682\ttotal: 341ms\tremaining: 265ms\n",
      "563:\tlearn: 0.0300865\ttotal: 342ms\tremaining: 264ms\n",
      "564:\tlearn: 0.0299768\ttotal: 342ms\tremaining: 264ms\n",
      "565:\tlearn: 0.0298834\ttotal: 343ms\tremaining: 263ms\n",
      "566:\tlearn: 0.0297760\ttotal: 343ms\tremaining: 262ms\n",
      "567:\tlearn: 0.0295971\ttotal: 344ms\tremaining: 262ms\n",
      "568:\tlearn: 0.0295063\ttotal: 344ms\tremaining: 261ms\n",
      "569:\tlearn: 0.0294189\ttotal: 345ms\tremaining: 260ms\n",
      "570:\tlearn: 0.0293300\ttotal: 345ms\tremaining: 260ms\n",
      "571:\tlearn: 0.0291207\ttotal: 346ms\tremaining: 259ms\n",
      "572:\tlearn: 0.0290577\ttotal: 347ms\tremaining: 258ms\n",
      "573:\tlearn: 0.0289584\ttotal: 347ms\tremaining: 258ms\n",
      "574:\tlearn: 0.0288969\ttotal: 348ms\tremaining: 257ms\n",
      "575:\tlearn: 0.0288102\ttotal: 348ms\tremaining: 256ms\n",
      "576:\tlearn: 0.0287558\ttotal: 349ms\tremaining: 256ms\n",
      "577:\tlearn: 0.0286954\ttotal: 349ms\tremaining: 255ms\n",
      "578:\tlearn: 0.0286130\ttotal: 350ms\tremaining: 254ms\n",
      "579:\tlearn: 0.0284118\ttotal: 350ms\tremaining: 254ms\n",
      "580:\tlearn: 0.0283371\ttotal: 351ms\tremaining: 253ms\n",
      "581:\tlearn: 0.0282844\ttotal: 351ms\tremaining: 252ms\n",
      "582:\tlearn: 0.0282268\ttotal: 352ms\tremaining: 251ms\n",
      "583:\tlearn: 0.0281460\ttotal: 352ms\tremaining: 251ms\n",
      "584:\tlearn: 0.0280894\ttotal: 352ms\tremaining: 250ms\n",
      "585:\tlearn: 0.0280093\ttotal: 353ms\tremaining: 249ms\n",
      "586:\tlearn: 0.0279367\ttotal: 354ms\tremaining: 249ms\n",
      "587:\tlearn: 0.0278867\ttotal: 354ms\tremaining: 248ms\n",
      "588:\tlearn: 0.0278375\ttotal: 354ms\tremaining: 247ms\n",
      "589:\tlearn: 0.0277590\ttotal: 355ms\tremaining: 247ms\n",
      "590:\tlearn: 0.0275672\ttotal: 355ms\tremaining: 246ms\n",
      "591:\tlearn: 0.0275011\ttotal: 356ms\tremaining: 245ms\n",
      "592:\tlearn: 0.0274534\ttotal: 356ms\tremaining: 244ms\n",
      "593:\tlearn: 0.0273762\ttotal: 357ms\tremaining: 244ms\n",
      "594:\tlearn: 0.0273292\ttotal: 357ms\tremaining: 243ms\n",
      "595:\tlearn: 0.0272778\ttotal: 358ms\tremaining: 242ms\n",
      "596:\tlearn: 0.0271624\ttotal: 358ms\tremaining: 242ms\n",
      "597:\tlearn: 0.0271171\ttotal: 358ms\tremaining: 241ms\n",
      "598:\tlearn: 0.0270049\ttotal: 359ms\tremaining: 240ms\n",
      "599:\tlearn: 0.0268948\ttotal: 360ms\tremaining: 240ms\n",
      "600:\tlearn: 0.0267840\ttotal: 360ms\tremaining: 239ms\n",
      "601:\tlearn: 0.0267223\ttotal: 361ms\tremaining: 238ms\n",
      "602:\tlearn: 0.0266063\ttotal: 361ms\tremaining: 238ms\n",
      "603:\tlearn: 0.0265164\ttotal: 362ms\tremaining: 237ms\n",
      "604:\tlearn: 0.0264725\ttotal: 362ms\tremaining: 236ms\n",
      "605:\tlearn: 0.0263612\ttotal: 363ms\tremaining: 236ms\n",
      "606:\tlearn: 0.0263101\ttotal: 363ms\tremaining: 235ms\n",
      "607:\tlearn: 0.0262227\ttotal: 364ms\tremaining: 235ms\n",
      "608:\tlearn: 0.0261751\ttotal: 364ms\tremaining: 234ms\n",
      "609:\tlearn: 0.0260898\ttotal: 365ms\tremaining: 233ms\n",
      "610:\tlearn: 0.0260164\ttotal: 365ms\tremaining: 233ms\n",
      "611:\tlearn: 0.0259696\ttotal: 366ms\tremaining: 232ms\n",
      "612:\tlearn: 0.0258979\ttotal: 366ms\tremaining: 231ms\n",
      "613:\tlearn: 0.0258406\ttotal: 367ms\tremaining: 231ms\n",
      "614:\tlearn: 0.0256816\ttotal: 367ms\tremaining: 230ms\n",
      "615:\tlearn: 0.0256244\ttotal: 368ms\tremaining: 229ms\n",
      "616:\tlearn: 0.0254416\ttotal: 368ms\tremaining: 229ms\n",
      "617:\tlearn: 0.0253854\ttotal: 369ms\tremaining: 228ms\n",
      "618:\tlearn: 0.0253207\ttotal: 369ms\tremaining: 227ms\n",
      "619:\tlearn: 0.0252654\ttotal: 370ms\tremaining: 227ms\n",
      "620:\tlearn: 0.0251116\ttotal: 371ms\tremaining: 226ms\n",
      "621:\tlearn: 0.0250628\ttotal: 371ms\tremaining: 226ms\n"
     ]
    },
    {
     "name": "stdout",
     "output_type": "stream",
     "text": [
      "622:\tlearn: 0.0250000\ttotal: 372ms\tremaining: 225ms\n",
      "623:\tlearn: 0.0249455\ttotal: 373ms\tremaining: 225ms\n",
      "624:\tlearn: 0.0248979\ttotal: 373ms\tremaining: 224ms\n",
      "625:\tlearn: 0.0247474\ttotal: 374ms\tremaining: 223ms\n",
      "626:\tlearn: 0.0247006\ttotal: 374ms\tremaining: 223ms\n",
      "627:\tlearn: 0.0245266\ttotal: 375ms\tremaining: 222ms\n",
      "628:\tlearn: 0.0244807\ttotal: 375ms\tremaining: 221ms\n",
      "629:\tlearn: 0.0244269\ttotal: 375ms\tremaining: 220ms\n",
      "630:\tlearn: 0.0243673\ttotal: 376ms\tremaining: 220ms\n",
      "631:\tlearn: 0.0243144\ttotal: 377ms\tremaining: 219ms\n",
      "632:\tlearn: 0.0242096\ttotal: 377ms\tremaining: 219ms\n",
      "633:\tlearn: 0.0241579\ttotal: 377ms\tremaining: 218ms\n",
      "634:\tlearn: 0.0241132\ttotal: 378ms\tremaining: 217ms\n",
      "635:\tlearn: 0.0239638\ttotal: 379ms\tremaining: 217ms\n",
      "636:\tlearn: 0.0239199\ttotal: 379ms\tremaining: 216ms\n",
      "637:\tlearn: 0.0238766\ttotal: 380ms\tremaining: 215ms\n",
      "638:\tlearn: 0.0238338\ttotal: 380ms\tremaining: 215ms\n",
      "639:\tlearn: 0.0236906\ttotal: 381ms\tremaining: 214ms\n",
      "640:\tlearn: 0.0236484\ttotal: 381ms\tremaining: 214ms\n",
      "641:\tlearn: 0.0235828\ttotal: 382ms\tremaining: 213ms\n",
      "642:\tlearn: 0.0234239\ttotal: 382ms\tremaining: 212ms\n",
      "643:\tlearn: 0.0233740\ttotal: 383ms\tremaining: 212ms\n",
      "644:\tlearn: 0.0232755\ttotal: 383ms\tremaining: 211ms\n",
      "645:\tlearn: 0.0232344\ttotal: 384ms\tremaining: 210ms\n",
      "646:\tlearn: 0.0231823\ttotal: 384ms\tremaining: 210ms\n",
      "647:\tlearn: 0.0230794\ttotal: 385ms\tremaining: 209ms\n",
      "648:\tlearn: 0.0229376\ttotal: 385ms\tremaining: 208ms\n",
      "649:\tlearn: 0.0228973\ttotal: 386ms\tremaining: 208ms\n",
      "650:\tlearn: 0.0227678\ttotal: 386ms\tremaining: 207ms\n",
      "651:\tlearn: 0.0227061\ttotal: 387ms\tremaining: 206ms\n",
      "652:\tlearn: 0.0225802\ttotal: 387ms\tremaining: 206ms\n",
      "653:\tlearn: 0.0224576\ttotal: 388ms\tremaining: 205ms\n",
      "654:\tlearn: 0.0223381\ttotal: 388ms\tremaining: 204ms\n",
      "655:\tlearn: 0.0222218\ttotal: 389ms\tremaining: 204ms\n",
      "656:\tlearn: 0.0221084\ttotal: 389ms\tremaining: 203ms\n",
      "657:\tlearn: 0.0220611\ttotal: 390ms\tremaining: 202ms\n",
      "658:\tlearn: 0.0219346\ttotal: 390ms\tremaining: 202ms\n",
      "659:\tlearn: 0.0218690\ttotal: 390ms\tremaining: 201ms\n",
      "660:\tlearn: 0.0218048\ttotal: 391ms\tremaining: 200ms\n",
      "661:\tlearn: 0.0217559\ttotal: 391ms\tremaining: 200ms\n",
      "662:\tlearn: 0.0217166\ttotal: 392ms\tremaining: 199ms\n",
      "663:\tlearn: 0.0216566\ttotal: 392ms\tremaining: 199ms\n",
      "664:\tlearn: 0.0216180\ttotal: 393ms\tremaining: 198ms\n",
      "665:\tlearn: 0.0215597\ttotal: 393ms\tremaining: 197ms\n",
      "666:\tlearn: 0.0214972\ttotal: 394ms\tremaining: 197ms\n",
      "667:\tlearn: 0.0213645\ttotal: 394ms\tremaining: 196ms\n",
      "668:\tlearn: 0.0213028\ttotal: 395ms\tremaining: 195ms\n",
      "669:\tlearn: 0.0212121\ttotal: 395ms\tremaining: 195ms\n",
      "670:\tlearn: 0.0211655\ttotal: 396ms\tremaining: 194ms\n",
      "671:\tlearn: 0.0210812\ttotal: 396ms\tremaining: 193ms\n",
      "672:\tlearn: 0.0209934\ttotal: 396ms\tremaining: 193ms\n",
      "673:\tlearn: 0.0209484\ttotal: 397ms\tremaining: 192ms\n",
      "674:\tlearn: 0.0209043\ttotal: 397ms\tremaining: 191ms\n",
      "675:\tlearn: 0.0208589\ttotal: 398ms\tremaining: 191ms\n",
      "676:\tlearn: 0.0208029\ttotal: 398ms\tremaining: 190ms\n",
      "677:\tlearn: 0.0206555\ttotal: 399ms\tremaining: 189ms\n",
      "678:\tlearn: 0.0206166\ttotal: 399ms\tremaining: 189ms\n",
      "679:\tlearn: 0.0205806\ttotal: 400ms\tremaining: 188ms\n",
      "680:\tlearn: 0.0204360\ttotal: 401ms\tremaining: 188ms\n",
      "681:\tlearn: 0.0203932\ttotal: 401ms\tremaining: 187ms\n",
      "682:\tlearn: 0.0202516\ttotal: 402ms\tremaining: 186ms\n",
      "683:\tlearn: 0.0201127\ttotal: 402ms\tremaining: 186ms\n",
      "684:\tlearn: 0.0200457\ttotal: 403ms\tremaining: 185ms\n",
      "685:\tlearn: 0.0199285\ttotal: 403ms\tremaining: 185ms\n",
      "686:\tlearn: 0.0197941\ttotal: 404ms\tremaining: 184ms\n",
      "687:\tlearn: 0.0196628\ttotal: 404ms\tremaining: 183ms\n",
      "688:\tlearn: 0.0196190\ttotal: 405ms\tremaining: 183ms\n",
      "689:\tlearn: 0.0195777\ttotal: 405ms\tremaining: 182ms\n",
      "690:\tlearn: 0.0194467\ttotal: 406ms\tremaining: 181ms\n",
      "691:\tlearn: 0.0194155\ttotal: 406ms\tremaining: 181ms\n",
      "692:\tlearn: 0.0193816\ttotal: 407ms\tremaining: 180ms\n",
      "693:\tlearn: 0.0193508\ttotal: 407ms\tremaining: 180ms\n",
      "694:\tlearn: 0.0193175\ttotal: 408ms\tremaining: 179ms\n",
      "695:\tlearn: 0.0192847\ttotal: 408ms\tremaining: 178ms\n",
      "696:\tlearn: 0.0192452\ttotal: 409ms\tremaining: 178ms\n",
      "697:\tlearn: 0.0192070\ttotal: 409ms\tremaining: 177ms\n",
      "698:\tlearn: 0.0191276\ttotal: 410ms\tremaining: 176ms\n",
      "699:\tlearn: 0.0190978\ttotal: 410ms\tremaining: 176ms\n",
      "700:\tlearn: 0.0190660\ttotal: 411ms\tremaining: 175ms\n",
      "701:\tlearn: 0.0189884\ttotal: 411ms\tremaining: 175ms\n",
      "702:\tlearn: 0.0189499\ttotal: 412ms\tremaining: 174ms\n",
      "703:\tlearn: 0.0188355\ttotal: 412ms\tremaining: 173ms\n",
      "704:\tlearn: 0.0187233\ttotal: 413ms\tremaining: 173ms\n",
      "705:\tlearn: 0.0186239\ttotal: 413ms\tremaining: 172ms\n",
      "706:\tlearn: 0.0185951\ttotal: 414ms\tremaining: 171ms\n",
      "707:\tlearn: 0.0185483\ttotal: 414ms\tremaining: 171ms\n",
      "708:\tlearn: 0.0184399\ttotal: 415ms\tremaining: 170ms\n",
      "709:\tlearn: 0.0183360\ttotal: 415ms\tremaining: 170ms\n",
      "710:\tlearn: 0.0182992\ttotal: 416ms\tremaining: 169ms\n",
      "711:\tlearn: 0.0182631\ttotal: 416ms\tremaining: 168ms\n",
      "712:\tlearn: 0.0181580\ttotal: 417ms\tremaining: 168ms\n",
      "713:\tlearn: 0.0181301\ttotal: 417ms\tremaining: 167ms\n",
      "714:\tlearn: 0.0180271\ttotal: 418ms\tremaining: 167ms\n",
      "715:\tlearn: 0.0179446\ttotal: 418ms\tremaining: 166ms\n",
      "716:\tlearn: 0.0178978\ttotal: 419ms\tremaining: 165ms\n",
      "717:\tlearn: 0.0178703\ttotal: 419ms\tremaining: 165ms\n",
      "718:\tlearn: 0.0178350\ttotal: 420ms\tremaining: 164ms\n",
      "719:\tlearn: 0.0177347\ttotal: 420ms\tremaining: 163ms\n",
      "720:\tlearn: 0.0176545\ttotal: 421ms\tremaining: 163ms\n",
      "721:\tlearn: 0.0175665\ttotal: 421ms\tremaining: 162ms\n",
      "722:\tlearn: 0.0175397\ttotal: 422ms\tremaining: 162ms\n",
      "723:\tlearn: 0.0174764\ttotal: 422ms\tremaining: 161ms\n",
      "724:\tlearn: 0.0173985\ttotal: 423ms\tremaining: 160ms\n",
      "725:\tlearn: 0.0173543\ttotal: 423ms\tremaining: 160ms\n",
      "726:\tlearn: 0.0173280\ttotal: 424ms\tremaining: 159ms\n",
      "727:\tlearn: 0.0172476\ttotal: 424ms\tremaining: 158ms\n",
      "728:\tlearn: 0.0172139\ttotal: 425ms\tremaining: 158ms\n",
      "729:\tlearn: 0.0171381\ttotal: 425ms\tremaining: 157ms\n",
      "730:\tlearn: 0.0170953\ttotal: 426ms\tremaining: 157ms\n",
      "731:\tlearn: 0.0170621\ttotal: 426ms\tremaining: 156ms\n",
      "732:\tlearn: 0.0170201\ttotal: 427ms\tremaining: 155ms\n",
      "733:\tlearn: 0.0169533\ttotal: 427ms\tremaining: 155ms\n",
      "734:\tlearn: 0.0169280\ttotal: 428ms\tremaining: 154ms\n",
      "735:\tlearn: 0.0168548\ttotal: 428ms\tremaining: 154ms\n",
      "736:\tlearn: 0.0167897\ttotal: 429ms\tremaining: 153ms\n",
      "737:\tlearn: 0.0167301\ttotal: 429ms\tremaining: 152ms\n",
      "738:\tlearn: 0.0166959\ttotal: 430ms\tremaining: 152ms\n",
      "739:\tlearn: 0.0166624\ttotal: 430ms\tremaining: 151ms\n",
      "740:\tlearn: 0.0165869\ttotal: 431ms\tremaining: 151ms\n",
      "741:\tlearn: 0.0165552\ttotal: 431ms\tremaining: 150ms\n",
      "742:\tlearn: 0.0164844\ttotal: 432ms\tremaining: 149ms\n",
      "743:\tlearn: 0.0163959\ttotal: 432ms\tremaining: 149ms\n",
      "744:\tlearn: 0.0162898\ttotal: 433ms\tremaining: 148ms\n",
      "745:\tlearn: 0.0161865\ttotal: 433ms\tremaining: 148ms\n",
      "746:\tlearn: 0.0161473\ttotal: 434ms\tremaining: 147ms\n",
      "747:\tlearn: 0.0161166\ttotal: 434ms\tremaining: 146ms\n",
      "748:\tlearn: 0.0160602\ttotal: 435ms\tremaining: 146ms\n",
      "749:\tlearn: 0.0160213\ttotal: 435ms\tremaining: 145ms\n",
      "750:\tlearn: 0.0159952\ttotal: 436ms\tremaining: 144ms\n",
      "751:\tlearn: 0.0159522\ttotal: 436ms\tremaining: 144ms\n",
      "752:\tlearn: 0.0158681\ttotal: 437ms\tremaining: 143ms\n",
      "753:\tlearn: 0.0157660\ttotal: 437ms\tremaining: 143ms\n",
      "754:\tlearn: 0.0156778\ttotal: 437ms\tremaining: 142ms\n",
      "755:\tlearn: 0.0156523\ttotal: 438ms\tremaining: 141ms\n",
      "756:\tlearn: 0.0155489\ttotal: 438ms\tremaining: 141ms\n",
      "757:\tlearn: 0.0155240\ttotal: 439ms\tremaining: 140ms\n",
      "758:\tlearn: 0.0154433\ttotal: 439ms\tremaining: 139ms\n",
      "759:\tlearn: 0.0154064\ttotal: 439ms\tremaining: 139ms\n",
      "760:\tlearn: 0.0153062\ttotal: 440ms\tremaining: 138ms\n",
      "761:\tlearn: 0.0152819\ttotal: 440ms\tremaining: 138ms\n",
      "762:\tlearn: 0.0152421\ttotal: 441ms\tremaining: 137ms\n",
      "763:\tlearn: 0.0151642\ttotal: 441ms\tremaining: 136ms\n",
      "764:\tlearn: 0.0150928\ttotal: 442ms\tremaining: 136ms\n",
      "765:\tlearn: 0.0150690\ttotal: 442ms\tremaining: 135ms\n",
      "766:\tlearn: 0.0149930\ttotal: 443ms\tremaining: 134ms\n",
      "767:\tlearn: 0.0149579\ttotal: 443ms\tremaining: 134ms\n",
      "768:\tlearn: 0.0149344\ttotal: 444ms\tremaining: 133ms\n",
      "769:\tlearn: 0.0148978\ttotal: 444ms\tremaining: 133ms\n",
      "770:\tlearn: 0.0148368\ttotal: 445ms\tremaining: 132ms\n",
      "771:\tlearn: 0.0147901\ttotal: 446ms\tremaining: 132ms\n"
     ]
    },
    {
     "name": "stdout",
     "output_type": "stream",
     "text": [
      "772:\tlearn: 0.0146960\ttotal: 446ms\tremaining: 131ms\n",
      "773:\tlearn: 0.0146323\ttotal: 447ms\tremaining: 130ms\n",
      "774:\tlearn: 0.0145415\ttotal: 447ms\tremaining: 130ms\n",
      "775:\tlearn: 0.0144686\ttotal: 448ms\tremaining: 129ms\n",
      "776:\tlearn: 0.0144065\ttotal: 448ms\tremaining: 129ms\n",
      "777:\tlearn: 0.0143625\ttotal: 449ms\tremaining: 128ms\n",
      "778:\tlearn: 0.0143116\ttotal: 449ms\tremaining: 127ms\n",
      "779:\tlearn: 0.0142404\ttotal: 450ms\tremaining: 127ms\n",
      "780:\tlearn: 0.0141537\ttotal: 450ms\tremaining: 126ms\n",
      "781:\tlearn: 0.0140842\ttotal: 451ms\tremaining: 126ms\n",
      "782:\tlearn: 0.0139999\ttotal: 451ms\tremaining: 125ms\n",
      "783:\tlearn: 0.0139175\ttotal: 452ms\tremaining: 124ms\n",
      "784:\tlearn: 0.0138310\ttotal: 452ms\tremaining: 124ms\n",
      "785:\tlearn: 0.0137512\ttotal: 453ms\tremaining: 123ms\n",
      "786:\tlearn: 0.0136804\ttotal: 453ms\tremaining: 123ms\n",
      "787:\tlearn: 0.0136061\ttotal: 454ms\tremaining: 122ms\n",
      "788:\tlearn: 0.0135644\ttotal: 454ms\tremaining: 122ms\n",
      "789:\tlearn: 0.0134915\ttotal: 455ms\tremaining: 121ms\n",
      "790:\tlearn: 0.0134180\ttotal: 455ms\tremaining: 120ms\n",
      "791:\tlearn: 0.0133467\ttotal: 456ms\tremaining: 120ms\n",
      "792:\tlearn: 0.0132994\ttotal: 456ms\tremaining: 119ms\n",
      "793:\tlearn: 0.0132304\ttotal: 457ms\tremaining: 118ms\n",
      "794:\tlearn: 0.0131786\ttotal: 457ms\tremaining: 118ms\n",
      "795:\tlearn: 0.0131086\ttotal: 458ms\tremaining: 117ms\n",
      "796:\tlearn: 0.0130347\ttotal: 458ms\tremaining: 117ms\n",
      "797:\tlearn: 0.0129518\ttotal: 459ms\tremaining: 116ms\n",
      "798:\tlearn: 0.0129124\ttotal: 459ms\tremaining: 115ms\n",
      "799:\tlearn: 0.0128665\ttotal: 459ms\tremaining: 115ms\n",
      "800:\tlearn: 0.0127991\ttotal: 460ms\tremaining: 114ms\n",
      "801:\tlearn: 0.0127458\ttotal: 460ms\tremaining: 114ms\n",
      "802:\tlearn: 0.0126938\ttotal: 461ms\tremaining: 113ms\n",
      "803:\tlearn: 0.0126324\ttotal: 461ms\tremaining: 112ms\n",
      "804:\tlearn: 0.0125692\ttotal: 462ms\tremaining: 112ms\n",
      "805:\tlearn: 0.0124991\ttotal: 462ms\tremaining: 111ms\n",
      "806:\tlearn: 0.0124398\ttotal: 462ms\tremaining: 111ms\n",
      "807:\tlearn: 0.0123715\ttotal: 463ms\tremaining: 110ms\n",
      "808:\tlearn: 0.0123136\ttotal: 463ms\tremaining: 109ms\n",
      "809:\tlearn: 0.0122523\ttotal: 464ms\tremaining: 109ms\n",
      "810:\tlearn: 0.0121843\ttotal: 464ms\tremaining: 108ms\n",
      "811:\tlearn: 0.0121201\ttotal: 465ms\tremaining: 108ms\n",
      "812:\tlearn: 0.0120576\ttotal: 465ms\tremaining: 107ms\n",
      "813:\tlearn: 0.0119915\ttotal: 466ms\tremaining: 106ms\n",
      "814:\tlearn: 0.0119332\ttotal: 466ms\tremaining: 106ms\n",
      "815:\tlearn: 0.0118909\ttotal: 467ms\tremaining: 105ms\n",
      "816:\tlearn: 0.0118420\ttotal: 467ms\tremaining: 105ms\n",
      "817:\tlearn: 0.0117943\ttotal: 468ms\tremaining: 104ms\n",
      "818:\tlearn: 0.0117478\ttotal: 468ms\tremaining: 104ms\n",
      "819:\tlearn: 0.0116822\ttotal: 469ms\tremaining: 103ms\n",
      "820:\tlearn: 0.0116380\ttotal: 469ms\tremaining: 102ms\n",
      "821:\tlearn: 0.0115842\ttotal: 470ms\tremaining: 102ms\n",
      "822:\tlearn: 0.0115408\ttotal: 470ms\tremaining: 101ms\n",
      "823:\tlearn: 0.0114769\ttotal: 471ms\tremaining: 101ms\n",
      "824:\tlearn: 0.0114233\ttotal: 472ms\tremaining: 100ms\n",
      "825:\tlearn: 0.0113803\ttotal: 472ms\tremaining: 99.5ms\n",
      "826:\tlearn: 0.0113415\ttotal: 473ms\tremaining: 98.9ms\n",
      "827:\tlearn: 0.0112900\ttotal: 473ms\tremaining: 98.3ms\n",
      "828:\tlearn: 0.0112323\ttotal: 473ms\tremaining: 97.7ms\n",
      "829:\tlearn: 0.0111803\ttotal: 474ms\tremaining: 97.1ms\n",
      "830:\tlearn: 0.0111416\ttotal: 474ms\tremaining: 96.5ms\n",
      "831:\tlearn: 0.0110935\ttotal: 475ms\tremaining: 95.9ms\n",
      "832:\tlearn: 0.0110430\ttotal: 475ms\tremaining: 95.3ms\n",
      "833:\tlearn: 0.0110057\ttotal: 476ms\tremaining: 94.7ms\n",
      "834:\tlearn: 0.0109589\ttotal: 476ms\tremaining: 94.2ms\n",
      "835:\tlearn: 0.0109130\ttotal: 477ms\tremaining: 93.5ms\n",
      "836:\tlearn: 0.0108746\ttotal: 477ms\tremaining: 93ms\n",
      "837:\tlearn: 0.0108296\ttotal: 478ms\tremaining: 92.4ms\n",
      "838:\tlearn: 0.0107855\ttotal: 478ms\tremaining: 91.8ms\n",
      "839:\tlearn: 0.0107477\ttotal: 479ms\tremaining: 91.2ms\n",
      "840:\tlearn: 0.0107045\ttotal: 479ms\tremaining: 90.6ms\n",
      "841:\tlearn: 0.0106621\ttotal: 480ms\tremaining: 90ms\n",
      "842:\tlearn: 0.0106250\ttotal: 480ms\tremaining: 89.4ms\n",
      "843:\tlearn: 0.0105834\ttotal: 481ms\tremaining: 89ms\n",
      "844:\tlearn: 0.0105478\ttotal: 482ms\tremaining: 88.4ms\n",
      "845:\tlearn: 0.0104882\ttotal: 482ms\tremaining: 87.8ms\n",
      "846:\tlearn: 0.0104478\ttotal: 482ms\tremaining: 87.2ms\n",
      "847:\tlearn: 0.0104014\ttotal: 483ms\tremaining: 86.7ms\n",
      "848:\tlearn: 0.0103656\ttotal: 484ms\tremaining: 86.1ms\n",
      "849:\tlearn: 0.0103260\ttotal: 484ms\tremaining: 85.5ms\n",
      "850:\tlearn: 0.0102669\ttotal: 485ms\tremaining: 84.9ms\n",
      "851:\tlearn: 0.0102326\ttotal: 486ms\tremaining: 84.4ms\n",
      "852:\tlearn: 0.0101940\ttotal: 487ms\tremaining: 84ms\n",
      "853:\tlearn: 0.0101363\ttotal: 489ms\tremaining: 83.5ms\n",
      "854:\tlearn: 0.0101031\ttotal: 489ms\tremaining: 83ms\n",
      "855:\tlearn: 0.0100450\ttotal: 490ms\tremaining: 82.4ms\n",
      "856:\tlearn: 0.0100010\ttotal: 490ms\tremaining: 81.8ms\n",
      "857:\tlearn: 0.0099571\ttotal: 491ms\tremaining: 81.3ms\n",
      "858:\tlearn: 0.0099246\ttotal: 492ms\tremaining: 80.8ms\n",
      "859:\tlearn: 0.0098874\ttotal: 494ms\tremaining: 80.4ms\n",
      "860:\tlearn: 0.0098511\ttotal: 495ms\tremaining: 80ms\n",
      "861:\tlearn: 0.0097966\ttotal: 497ms\tremaining: 79.6ms\n",
      "862:\tlearn: 0.0097407\ttotal: 498ms\tremaining: 79ms\n",
      "863:\tlearn: 0.0096985\ttotal: 498ms\tremaining: 78.4ms\n",
      "864:\tlearn: 0.0096666\ttotal: 499ms\tremaining: 77.8ms\n",
      "865:\tlearn: 0.0096317\ttotal: 499ms\tremaining: 77.2ms\n",
      "866:\tlearn: 0.0095883\ttotal: 500ms\tremaining: 76.7ms\n",
      "867:\tlearn: 0.0095584\ttotal: 500ms\tremaining: 76.1ms\n",
      "868:\tlearn: 0.0095041\ttotal: 501ms\tremaining: 75.5ms\n",
      "869:\tlearn: 0.0094490\ttotal: 501ms\tremaining: 74.9ms\n",
      "870:\tlearn: 0.0094409\ttotal: 502ms\tremaining: 74.3ms\n",
      "871:\tlearn: 0.0094128\ttotal: 502ms\tremaining: 73.7ms\n",
      "872:\tlearn: 0.0093712\ttotal: 503ms\tremaining: 73.1ms\n",
      "873:\tlearn: 0.0093293\ttotal: 503ms\tremaining: 72.5ms\n",
      "874:\tlearn: 0.0093215\ttotal: 504ms\tremaining: 72ms\n",
      "875:\tlearn: 0.0092885\ttotal: 505ms\tremaining: 71.4ms\n",
      "876:\tlearn: 0.0092485\ttotal: 505ms\tremaining: 70.8ms\n",
      "877:\tlearn: 0.0092004\ttotal: 505ms\tremaining: 70.2ms\n",
      "878:\tlearn: 0.0091604\ttotal: 506ms\tremaining: 69.6ms\n",
      "879:\tlearn: 0.0091136\ttotal: 506ms\tremaining: 69.1ms\n",
      "880:\tlearn: 0.0090745\ttotal: 507ms\tremaining: 68.5ms\n",
      "881:\tlearn: 0.0090289\ttotal: 507ms\tremaining: 67.9ms\n",
      "882:\tlearn: 0.0089916\ttotal: 508ms\tremaining: 67.3ms\n",
      "883:\tlearn: 0.0089609\ttotal: 508ms\tremaining: 66.7ms\n",
      "884:\tlearn: 0.0089189\ttotal: 509ms\tremaining: 66.1ms\n",
      "885:\tlearn: 0.0088746\ttotal: 509ms\tremaining: 65.5ms\n",
      "886:\tlearn: 0.0088339\ttotal: 510ms\tremaining: 64.9ms\n",
      "887:\tlearn: 0.0087906\ttotal: 510ms\tremaining: 64.3ms\n",
      "888:\tlearn: 0.0087507\ttotal: 511ms\tremaining: 63.8ms\n",
      "889:\tlearn: 0.0087085\ttotal: 511ms\tremaining: 63.2ms\n",
      "890:\tlearn: 0.0086693\ttotal: 512ms\tremaining: 62.6ms\n",
      "891:\tlearn: 0.0086310\ttotal: 512ms\tremaining: 62ms\n",
      "892:\tlearn: 0.0085927\ttotal: 513ms\tremaining: 61.4ms\n",
      "893:\tlearn: 0.0085478\ttotal: 513ms\tremaining: 60.8ms\n",
      "894:\tlearn: 0.0085314\ttotal: 514ms\tremaining: 60.3ms\n",
      "895:\tlearn: 0.0084938\ttotal: 514ms\tremaining: 59.7ms\n",
      "896:\tlearn: 0.0084556\ttotal: 515ms\tremaining: 59.1ms\n",
      "897:\tlearn: 0.0084182\ttotal: 515ms\tremaining: 58.5ms\n",
      "898:\tlearn: 0.0083813\ttotal: 515ms\tremaining: 57.9ms\n",
      "899:\tlearn: 0.0083447\ttotal: 516ms\tremaining: 57.3ms\n",
      "900:\tlearn: 0.0082945\ttotal: 516ms\tremaining: 56.7ms\n",
      "901:\tlearn: 0.0082591\ttotal: 517ms\tremaining: 56.2ms\n",
      "902:\tlearn: 0.0082276\ttotal: 518ms\tremaining: 55.6ms\n",
      "903:\tlearn: 0.0081931\ttotal: 518ms\tremaining: 55ms\n",
      "904:\tlearn: 0.0081578\ttotal: 519ms\tremaining: 54.4ms\n",
      "905:\tlearn: 0.0081233\ttotal: 519ms\tremaining: 53.9ms\n",
      "906:\tlearn: 0.0080977\ttotal: 520ms\tremaining: 53.3ms\n",
      "907:\tlearn: 0.0080642\ttotal: 520ms\tremaining: 52.7ms\n",
      "908:\tlearn: 0.0080406\ttotal: 521ms\tremaining: 52.1ms\n",
      "909:\tlearn: 0.0080158\ttotal: 521ms\tremaining: 51.5ms\n",
      "910:\tlearn: 0.0080095\ttotal: 522ms\tremaining: 51ms\n",
      "911:\tlearn: 0.0079960\ttotal: 522ms\tremaining: 50.4ms\n",
      "912:\tlearn: 0.0079898\ttotal: 523ms\tremaining: 49.8ms\n",
      "913:\tlearn: 0.0079575\ttotal: 523ms\tremaining: 49.2ms\n",
      "914:\tlearn: 0.0079442\ttotal: 524ms\tremaining: 48.7ms\n",
      "915:\tlearn: 0.0079211\ttotal: 524ms\tremaining: 48.1ms\n",
      "916:\tlearn: 0.0079081\ttotal: 525ms\tremaining: 47.5ms\n",
      "917:\tlearn: 0.0079004\ttotal: 525ms\tremaining: 46.9ms\n",
      "918:\tlearn: 0.0078876\ttotal: 526ms\tremaining: 46.3ms\n",
      "919:\tlearn: 0.0078816\ttotal: 526ms\tremaining: 45.8ms\n",
      "920:\tlearn: 0.0078589\ttotal: 527ms\tremaining: 45.2ms\n",
      "921:\tlearn: 0.0078463\ttotal: 527ms\tremaining: 44.6ms\n",
      "922:\tlearn: 0.0078383\ttotal: 528ms\tremaining: 44ms\n",
      "923:\tlearn: 0.0078072\ttotal: 528ms\tremaining: 43.5ms\n",
      "924:\tlearn: 0.0077948\ttotal: 529ms\tremaining: 42.9ms\n",
      "925:\tlearn: 0.0077786\ttotal: 529ms\tremaining: 42.3ms\n",
      "926:\tlearn: 0.0077504\ttotal: 530ms\tremaining: 41.7ms\n"
     ]
    },
    {
     "name": "stdout",
     "output_type": "stream",
     "text": [
      "927:\tlearn: 0.0077382\ttotal: 531ms\tremaining: 41.2ms\n",
      "928:\tlearn: 0.0077107\ttotal: 531ms\tremaining: 40.6ms\n",
      "929:\tlearn: 0.0076762\ttotal: 532ms\tremaining: 40ms\n",
      "930:\tlearn: 0.0076643\ttotal: 532ms\tremaining: 39.5ms\n",
      "931:\tlearn: 0.0076525\ttotal: 533ms\tremaining: 38.9ms\n",
      "932:\tlearn: 0.0076365\ttotal: 534ms\tremaining: 38.3ms\n",
      "933:\tlearn: 0.0076249\ttotal: 534ms\tremaining: 37.7ms\n",
      "934:\tlearn: 0.0075983\ttotal: 535ms\tremaining: 37.2ms\n",
      "935:\tlearn: 0.0075869\ttotal: 535ms\tremaining: 36.6ms\n",
      "936:\tlearn: 0.0075610\ttotal: 535ms\tremaining: 36ms\n",
      "937:\tlearn: 0.0075275\ttotal: 536ms\tremaining: 35.4ms\n",
      "938:\tlearn: 0.0075057\ttotal: 537ms\tremaining: 34.9ms\n",
      "939:\tlearn: 0.0074946\ttotal: 537ms\tremaining: 34.3ms\n",
      "940:\tlearn: 0.0074785\ttotal: 538ms\tremaining: 33.7ms\n",
      "941:\tlearn: 0.0074564\ttotal: 538ms\tremaining: 33.1ms\n",
      "942:\tlearn: 0.0074265\ttotal: 539ms\tremaining: 32.6ms\n",
      "943:\tlearn: 0.0074042\ttotal: 539ms\tremaining: 32ms\n",
      "944:\tlearn: 0.0073717\ttotal: 540ms\tremaining: 31.4ms\n",
      "945:\tlearn: 0.0073622\ttotal: 540ms\tremaining: 30.8ms\n",
      "946:\tlearn: 0.0073527\ttotal: 541ms\tremaining: 30.3ms\n",
      "947:\tlearn: 0.0073315\ttotal: 541ms\tremaining: 29.7ms\n",
      "948:\tlearn: 0.0072996\ttotal: 542ms\tremaining: 29.1ms\n",
      "949:\tlearn: 0.0072903\ttotal: 542ms\tremaining: 28.5ms\n",
      "950:\tlearn: 0.0072811\ttotal: 543ms\tremaining: 28ms\n",
      "951:\tlearn: 0.0072654\ttotal: 543ms\tremaining: 27.4ms\n",
      "952:\tlearn: 0.0072590\ttotal: 544ms\tremaining: 26.8ms\n",
      "953:\tlearn: 0.0072277\ttotal: 544ms\tremaining: 26.2ms\n",
      "954:\tlearn: 0.0071983\ttotal: 545ms\tremaining: 25.7ms\n",
      "955:\tlearn: 0.0071892\ttotal: 545ms\tremaining: 25.1ms\n",
      "956:\tlearn: 0.0071567\ttotal: 546ms\tremaining: 24.5ms\n",
      "957:\tlearn: 0.0071478\ttotal: 547ms\tremaining: 24ms\n",
      "958:\tlearn: 0.0071389\ttotal: 547ms\tremaining: 23.4ms\n",
      "959:\tlearn: 0.0071327\ttotal: 548ms\tremaining: 22.8ms\n",
      "960:\tlearn: 0.0071021\ttotal: 548ms\tremaining: 22.3ms\n",
      "961:\tlearn: 0.0070713\ttotal: 549ms\tremaining: 21.7ms\n",
      "962:\tlearn: 0.0070612\ttotal: 549ms\tremaining: 21.1ms\n",
      "963:\tlearn: 0.0070299\ttotal: 550ms\tremaining: 20.5ms\n",
      "964:\tlearn: 0.0070199\ttotal: 551ms\tremaining: 20ms\n",
      "965:\tlearn: 0.0070139\ttotal: 551ms\tremaining: 19.4ms\n",
      "966:\tlearn: 0.0069851\ttotal: 551ms\tremaining: 18.8ms\n",
      "967:\tlearn: 0.0069753\ttotal: 552ms\tremaining: 18.2ms\n",
      "968:\tlearn: 0.0069693\ttotal: 553ms\tremaining: 17.7ms\n",
      "969:\tlearn: 0.0069548\ttotal: 553ms\tremaining: 17.1ms\n",
      "970:\tlearn: 0.0069243\ttotal: 554ms\tremaining: 16.5ms\n",
      "971:\tlearn: 0.0069146\ttotal: 554ms\tremaining: 16ms\n",
      "972:\tlearn: 0.0068865\ttotal: 554ms\tremaining: 15.4ms\n",
      "973:\tlearn: 0.0068586\ttotal: 555ms\tremaining: 14.8ms\n",
      "974:\tlearn: 0.0068490\ttotal: 555ms\tremaining: 14.2ms\n",
      "975:\tlearn: 0.0068409\ttotal: 556ms\tremaining: 13.7ms\n",
      "976:\tlearn: 0.0068128\ttotal: 556ms\tremaining: 13.1ms\n",
      "977:\tlearn: 0.0068048\ttotal: 557ms\tremaining: 12.5ms\n",
      "978:\tlearn: 0.0067753\ttotal: 557ms\tremaining: 12ms\n",
      "979:\tlearn: 0.0067658\ttotal: 558ms\tremaining: 11.4ms\n",
      "980:\tlearn: 0.0067565\ttotal: 558ms\tremaining: 10.8ms\n",
      "981:\tlearn: 0.0067276\ttotal: 559ms\tremaining: 10.2ms\n",
      "982:\tlearn: 0.0067098\ttotal: 559ms\tremaining: 9.67ms\n",
      "983:\tlearn: 0.0067007\ttotal: 560ms\tremaining: 9.1ms\n",
      "984:\tlearn: 0.0066740\ttotal: 560ms\tremaining: 8.53ms\n",
      "985:\tlearn: 0.0066650\ttotal: 561ms\tremaining: 7.96ms\n",
      "986:\tlearn: 0.0066562\ttotal: 561ms\tremaining: 7.39ms\n",
      "987:\tlearn: 0.0066279\ttotal: 562ms\tremaining: 6.82ms\n",
      "988:\tlearn: 0.0066106\ttotal: 562ms\tremaining: 6.25ms\n",
      "989:\tlearn: 0.0065843\ttotal: 563ms\tremaining: 5.68ms\n",
      "990:\tlearn: 0.0065756\ttotal: 563ms\tremaining: 5.12ms\n",
      "991:\tlearn: 0.0065669\ttotal: 564ms\tremaining: 4.55ms\n",
      "992:\tlearn: 0.0065582\ttotal: 564ms\tremaining: 3.98ms\n",
      "993:\tlearn: 0.0065444\ttotal: 565ms\tremaining: 3.41ms\n",
      "994:\tlearn: 0.0065188\ttotal: 566ms\tremaining: 2.84ms\n",
      "995:\tlearn: 0.0064901\ttotal: 566ms\tremaining: 2.27ms\n",
      "996:\tlearn: 0.0064817\ttotal: 567ms\tremaining: 1.71ms\n",
      "997:\tlearn: 0.0064555\ttotal: 567ms\tremaining: 1.14ms\n",
      "998:\tlearn: 0.0064286\ttotal: 568ms\tremaining: 568us\n",
      "999:\tlearn: 0.0064237\ttotal: 568ms\tremaining: 0us\n"
     ]
    },
    {
     "data": {
      "text/plain": [
       "<catboost.core.CatBoostRegressor at 0x7f8f40222310>"
      ]
     },
     "execution_count": 9,
     "metadata": {},
     "output_type": "execute_result"
    }
   ],
   "source": [
    "#Train the Model \n",
    "prior_model = ctb.CatBoostRegressor()\n",
    "prior_model.fit(X_train,Y_train)"
   ]
  },
  {
   "cell_type": "code",
   "execution_count": 10,
   "id": "af65dcda",
   "metadata": {
    "execution": {
     "iopub.execute_input": "2022-06-07T05:59:31.673999Z",
     "iopub.status.busy": "2022-06-07T05:59:31.673623Z",
     "iopub.status.idle": "2022-06-07T05:59:31.680797Z",
     "shell.execute_reply": "2022-06-07T05:59:31.681027Z"
    },
    "id": "af65dcda",
    "papermill": {
     "duration": 0.019881,
     "end_time": "2022-06-07T05:59:31.681138",
     "exception": false,
     "start_time": "2022-06-07T05:59:31.661257",
     "status": "completed"
    },
    "tags": []
   },
   "outputs": [
    {
     "data": {
      "application/scrapbook.scrap.json+json": {
       "data": 0.11949903104664077,
       "encoder": "json",
       "name": "Prior Model MSE",
       "version": 1
      }
     },
     "metadata": {
      "scrapbook": {
       "data": true,
       "display": false,
       "name": "Prior Model MSE"
      }
     },
     "output_type": "display_data"
    },
    {
     "data": {
      "application/scrapbook.scrap.json+json": {
       "data": 0.1457612214962293,
       "encoder": "json",
       "name": "ABC Pre-generator MSE",
       "version": 1
      }
     },
     "metadata": {
      "scrapbook": {
       "data": true,
       "display": false,
       "name": "ABC Pre-generator MSE"
      }
     },
     "output_type": "display_data"
    },
    {
     "data": {
      "application/scrapbook.scrap.json+json": {
       "data": 0.28823223618665483,
       "encoder": "json",
       "name": "Prior Model MSE",
       "version": 1
      }
     },
     "metadata": {
      "scrapbook": {
       "data": true,
       "display": false,
       "name": "Prior Model MSE"
      }
     },
     "output_type": "display_data"
    },
    {
     "data": {
      "application/scrapbook.scrap.json+json": {
       "data": 0.32710620677145297,
       "encoder": "json",
       "name": "ABC Pre-generator MSE",
       "version": 1
      }
     },
     "metadata": {
      "scrapbook": {
       "data": true,
       "display": false,
       "name": "ABC Pre-generator MSE"
      }
     },
     "output_type": "display_data"
    }
   ],
   "source": [
    "y_pred = prior_model.predict(X_test)\n",
    "y_abc = y_pred + np.random.normal(0,variance, y_pred.shape) + bias \n",
    "mse = mean_squared_error(y_pred,Y_test)\n",
    "sb.glue(\"Prior Model MSE\",mse)\n",
    "mse = mean_squared_error(y_abc,Y_test)\n",
    "sb.glue(\"ABC Pre-generator MSE\",mse)\n",
    "mae = mean_absolute_error(y_pred,Y_test)\n",
    "sb.glue(\"Prior Model MSE\",mae)\n",
    "mae = mean_absolute_error(y_abc,Y_test)\n",
    "sb.glue(\"ABC Pre-generator MSE\",mae)"
   ]
  },
  {
   "cell_type": "markdown",
   "id": "25609da2",
   "metadata": {
    "papermill": {
     "duration": 0.009466,
     "end_time": "2022-06-07T05:59:31.700319",
     "exception": false,
     "start_time": "2022-06-07T05:59:31.690853",
     "status": "completed"
    },
    "tags": []
   },
   "source": [
    "# ABC GAN Model"
   ]
  },
  {
   "cell_type": "code",
   "execution_count": 11,
   "id": "dfc3464d",
   "metadata": {
    "execution": {
     "iopub.execute_input": "2022-06-07T05:59:31.721989Z",
     "iopub.status.busy": "2022-06-07T05:59:31.721625Z",
     "iopub.status.idle": "2022-06-07T05:59:31.724308Z",
     "shell.execute_reply": "2022-06-07T05:59:31.724565Z"
    },
    "papermill": {
     "duration": 0.014924,
     "end_time": "2022-06-07T05:59:31.724675",
     "exception": false,
     "start_time": "2022-06-07T05:59:31.709751",
     "status": "completed"
    },
    "tags": []
   },
   "outputs": [],
   "source": [
    "gen = network.Generator(n_features+1).to(device)\n",
    "disc = network.Discriminator(n_features+1).to(device)\n",
    "\n",
    "criterion = torch.nn.BCELoss()\n",
    "gen_opt = torch.optim.Adam(gen.parameters(), lr=0.001, betas=(0.5, 0.999))\n",
    "disc_opt = torch.optim.Adam(disc.parameters(), lr=0.001, betas=(0.5, 0.999))"
   ]
  },
  {
   "cell_type": "code",
   "execution_count": 12,
   "id": "b75fdd85",
   "metadata": {
    "execution": {
     "iopub.execute_input": "2022-06-07T05:59:31.746294Z",
     "iopub.status.busy": "2022-06-07T05:59:31.745939Z",
     "iopub.status.idle": "2022-06-07T05:59:45.227868Z",
     "shell.execute_reply": "2022-06-07T05:59:45.228152Z"
    },
    "papermill": {
     "duration": 13.493928,
     "end_time": "2022-06-07T05:59:45.228291",
     "exception": false,
     "start_time": "2022-06-07T05:59:31.734363",
     "status": "completed"
    },
    "tags": []
   },
   "outputs": [
    {
     "data": {
      "image/png": "[encoded data removed]",
      "text/plain": [
       "<Figure size 432x288 with 1 Axes>"
      ]
     },
     "metadata": {
      "needs_background": "light"
     },
     "output_type": "display_data"
    },
    {
     "data": {
      "image/png": "[encoded data removed]",
      "text/plain": [
       "<Figure size 432x288 with 1 Axes>"
      ]
     },
     "metadata": {
      "needs_background": "light"
     },
     "output_type": "display_data"
    }
   ],
   "source": [
    "#Training the ABC_GAN \n",
    "ABC_train_test2.training_GAN(disc,gen,disc_opt,gen_opt,train_data,batch_size,n_epochs,criterion,prior_model,variance,bias,device)"
   ]
  },
  {
   "cell_type": "code",
   "execution_count": 13,
   "id": "1fa7c368",
   "metadata": {
    "execution": {
     "iopub.execute_input": "2022-06-07T05:59:45.253087Z",
     "iopub.status.busy": "2022-06-07T05:59:45.252542Z",
     "iopub.status.idle": "2022-06-07T05:59:45.431718Z",
     "shell.execute_reply": "2022-06-07T05:59:45.432011Z"
    },
    "papermill": {
     "duration": 0.192556,
     "end_time": "2022-06-07T05:59:45.432132",
     "exception": false,
     "start_time": "2022-06-07T05:59:45.239576",
     "status": "completed"
    },
    "tags": []
   },
   "outputs": [
    {
     "data": {
      "application/scrapbook.scrap.json+json": {
       "data": 0.09624997392431735,
       "encoder": "json",
       "name": "ABC-GAN Model 1 MSE",
       "version": 1
      }
     },
     "metadata": {
      "scrapbook": {
       "data": true,
       "display": false,
       "name": "ABC-GAN Model 1 MSE"
      }
     },
     "output_type": "display_data"
    },
    {
     "data": {
      "application/scrapbook.scrap.json+json": {
       "data": 0.23832883160654456,
       "encoder": "json",
       "name": "ABC-GAN Model 1 MAE",
       "version": 1
      }
     },
     "metadata": {
      "scrapbook": {
       "data": true,
       "display": false,
       "name": "ABC-GAN Model 1 MAE"
      }
     },
     "output_type": "display_data"
    },
    {
     "data": {
      "application/scrapbook.scrap.json+json": {
       "data": 4.766576632130891,
       "encoder": "json",
       "name": "ABC-GAN Model 1 Manhattan Distance",
       "version": 1
      }
     },
     "metadata": {
      "scrapbook": {
       "data": true,
       "display": false,
       "name": "ABC-GAN Model 1 Manhattan Distance"
      }
     },
     "output_type": "display_data"
    },
    {
     "data": {
      "application/scrapbook.scrap.json+json": {
       "data": 1.38638554100268,
       "encoder": "json",
       "name": "ABC-GAN Model 1 Euclidean distance",
       "version": 1
      }
     },
     "metadata": {
      "scrapbook": {
       "data": true,
       "display": false,
       "name": "ABC-GAN Model 1 Euclidean distance"
      }
     },
     "output_type": "display_data"
    },
    {
     "data": {
      "application/scrapbook.scrap.json+json": {
       "data": [
        [
         0.09410513817290438,
         0.09810587683407765,
         0.08680637217051144,
         0.09139683593194306,
         0.08479970877890695,
         0.08445479658458019,
         0.08316025011209585,
         0.10919549011773151,
         0.10205147821678702,
         0.09676035050935614,
         0.08884478802806609,
         0.10197364463709184,
         0.09123418326992663,
         0.10750966767835254,
         0.09327234364695305,
         0.09060786930425922,
         0.0878279319190311,
         0.09446786628835044,
         0.09639944321454177,
         0.09368465259350123,
         0.10685931035127379,
         0.09116291869404385,
         0.09809441195573268,
         0.09476516524975873,
         0.1174131136934045,
         0.09562371909415919,
         0.09641059889710756,
         0.09594393560427208,
         0.10741376891090024,
         0.0954546939895405,
         0.0941053825579698,
         0.10538053908284054,
         0.0898724348280154,
         0.08474227999189732,
         0.09541311187016448,
         0.09498237379253835,
         0.09619233735879783,
         0.10125100081683311,
         0.09238965298954563,
         0.1005523260134952,
         0.09986763854535312,
         0.09829691437036085,
         0.09817848437484285,
         0.11888233863533645,
         0.098534123418718,
         0.0966177859545975,
         0.1139053797980664,
         0.09566163181172016,
         0.10547611032031382,
         0.09143967456204591,
         0.08873539508873017,
         0.09387205477641189,
         0.08965487441004863,
         0.09286775415540739,
         0.0864687391508554,
         0.08878663143378766,
         0.09700871612569019,
         0.10735043414306791,
         0.08757707956494573,
         0.0899166274223627,
         0.09808792291323087,
         0.09941154167040571,
         0.11747296716990899,
         0.088057404619195,
         0.09721419297166743,
         0.09526143731276138,
         0.10142507167840709,
         0.10326110252953091,
         0.09375566175602698,
         0.0877238742493985,
         0.08955305379602288,
         0.09142671919565201,
         0.08700297059659119,
         0.0995180054857286,
         0.09378235391105709,
         0.09436779803564459,
         0.0976818049648787,
         0.09918660325284168,
         0.0872878935627222,
         0.09021545417323182,
         0.0977062296526934,
         0.10980722781709802,
         0.1031952471191619,
         0.0954077258028966,
         0.0859087483999927,
         0.092460405483155,
         0.10517706995759482,
         0.09469038369646274,
         0.09529343061783427,
         0.10706104277870196,
         0.0916179190180598,
         0.08864831683618599,
         0.08978184190602903,
         0.08974644157883833,
         0.09549370206227882,
         0.0965702763448814,
         0.1109434525983147,
         0.08579903537224479,
         0.10139214698592328,
         0.10682276274456189
        ],
        [
         0.23284589583054185,
         0.24749824423342942,
         0.21819798070937396,
         0.2350269147194922,
         0.20412613395601512,
         0.2185209235176444,
         0.21452279184013606,
         0.24029075326398014,
         0.24376601474359633,
         0.23249833565205336,
         0.23215603101998566,
         0.24336354369297625,
         0.2224104125984013,
         0.26103151086717846,
         0.2328502858057618,
         0.23322570268064738,
         0.2392853217199445,
         0.2400846092030406,
         0.2353561264462769,
         0.23940462293103337,
         0.24933245908468962,
         0.24380668830126523,
         0.23261679764837026,
         0.23690377380698918,
         0.2628966850228608,
         0.23835593918338419,
         0.23278096746653318,
         0.24343192633241414,
         0.24673513304442168,
         0.23288303893059492,
         0.23912152294069527,
         0.24613871406763793,
         0.23643328072503209,
         0.22613116670399905,
         0.22435910860076547,
         0.22871985780075194,
         0.23573840800672768,
         0.23848224738612772,
         0.24368638852611185,
         0.24033723678439856,
         0.24798088390380144,
         0.24200268182903528,
         0.24880560841411353,
         0.2662820918485522,
         0.2500568157061934,
         0.23618081044405698,
         0.2412371934391558,
         0.2337933426722884,
         0.25269636334851386,
         0.2338931506499648,
         0.22689815815538167,
         0.24294229466468095,
         0.2292526526376605,
         0.23737363535910844,
         0.22487193252891302,
         0.23347591888159513,
         0.24307240564376115,
         0.26014763172715905,
         0.2292416637763381,
         0.24043244402855635,
         0.24099776316434146,
         0.23040072079747914,
         0.25815109657123686,
         0.2304859334602952,
         0.24525578068569304,
         0.23036177549511194,
         0.24233243362978102,
         0.24684437531977893,
         0.23052750881761314,
         0.22726809736341239,
         0.2328445663675666,
         0.2317724296823144,
         0.2297784981317818,
         0.2391837729141116,
         0.2341401287354529,
         0.24304538676515222,
         0.24891218524426223,
         0.25912035452201965,
         0.21843918245285748,
         0.23934719460085035,
         0.23839973155409097,
         0.24559121634811162,
         0.25011933911591766,
         0.2362468520179391,
         0.22625972013920545,
         0.24082347508519888,
         0.25543040614575147,
         0.23534329356625677,
         0.23874641181901096,
         0.25432223761454226,
         0.2298246086575091,
         0.23433238472789525,
         0.24345925580710173,
         0.23232288453727962,
         0.24422602662816645,
         0.23517357129603625,
         0.24889998976141214,
         0.2208809254691005,
         0.23939474876970052,
         0.25788572141900656
        ],
        [
         4.656917916610837,
         4.949964884668589,
         4.363959614187479,
         4.700538294389844,
         4.082522679120302,
         4.370418470352888,
         4.290455836802721,
         4.805815065279603,
         4.875320294871926,
         4.649966713041067,
         4.6431206203997135,
         4.867270873859525,
         4.448208251968026,
         5.220630217343569,
         4.657005716115236,
         4.6645140536129475,
         4.7857064343988895,
         4.801692184060812,
         4.707122528925538,
         4.7880924586206675,
         4.986649181693792,
         4.876133766025305,
         4.652335952967405,
         4.738075476139784,
         5.257933700457215,
         4.767118783667684,
         4.655619349330664,
         4.868638526648283,
         4.9347026608884335,
         4.657660778611898,
         4.782430458813906,
         4.922774281352758,
         4.728665614500642,
         4.522623334079981,
         4.487182172015309,
         4.5743971560150385,
         4.714768160134554,
         4.769644947722554,
         4.873727770522237,
         4.806744735687971,
         4.959617678076029,
         4.840053636580706,
         4.97611216828227,
         5.3256418369710445,
         5.001136314123869,
         4.72361620888114,
         4.824743868783116,
         4.675866853445768,
         5.053927266970277,
         4.677863012999296,
         4.537963163107634,
         4.858845893293619,
         4.58505305275321,
         4.747472707182169,
         4.49743865057826,
         4.669518377631903,
         4.861448112875223,
         5.2029526345431805,
         4.584833275526762,
         4.808648880571127,
         4.819955263286829,
         4.608014415949583,
         5.163021931424737,
         4.609718669205904,
         4.9051156137138605,
         4.607235509902239,
         4.84664867259562,
         4.936887506395578,
         4.6105501763522625,
         4.545361947268248,
         4.656891327351332,
         4.635448593646288,
         4.595569962635636,
         4.783675458282232,
         4.682802574709058,
         4.860907735303044,
         4.978243704885244,
         5.1824070904403925,
         4.36878364905715,
         4.786943892017007,
         4.7679946310818195,
         4.911824326962233,
         5.002386782318354,
         4.724937040358782,
         4.525194402784109,
         4.816469501703978,
         5.1086081229150295,
         4.706865871325135,
         4.7749282363802195,
         5.086444752290845,
         4.596492173150182,
         4.686647694557905,
         4.8691851161420345,
         4.646457690745592,
         4.884520532563329,
         4.703471425920725,
         4.977999795228243,
         4.4176185093820095,
         4.7878949753940105,
         5.157714428380132
        ],
        [
         1.37189750472041,
         1.400756058948721,
         1.3176218893940055,
         1.3520121000341903,
         1.3023034114898644,
         1.299652234904247,
         1.2896530549887892,
         1.4778057390450987,
         1.4286460598537836,
         1.3911171806095712,
         1.3330025358420448,
         1.4281011493384623,
         1.3508085228479025,
         1.466353761398337,
         1.36581363038266,
         1.3461639521563427,
         1.3253522695421855,
         1.3745389502545966,
         1.3885203867033553,
         1.3688290805904237,
         1.4619118328495313,
         1.3502808500015382,
         1.400674208770424,
         1.376700150720982,
         1.532404083089082,
         1.3829224063132335,
         1.3886007266101192,
         1.3852359770398117,
         1.4656996207333906,
         1.381699634432466,
         1.3718992860845858,
         1.4517612688237727,
         1.3406896346881734,
         1.3018623582537237,
         1.3813986525993462,
         1.3782769953281406,
         1.3870280268170347,
         1.4230319800821984,
         1.359335521418797,
         1.4181137190895179,
         1.4132773156415772,
         1.4021192129798439,
         1.4012743084410193,
         1.5419619880874915,
         1.403809983001389,
         1.390091982241445,
         1.5093401193771165,
         1.3831965284204568,
         1.452419431984534,
         1.3523289138522914,
         1.332181632426526,
         1.3701974658888543,
         1.3390659013659383,
         1.3628481511555672,
         1.3150569504843157,
         1.3325661817244776,
         1.3929014044482129,
         1.4652674441416345,
         1.3234581940125327,
         1.341019220014111,
         1.4006278800111818,
         1.410046394062307,
         1.5327946187921524,
         1.3270825491972607,
         1.394375795628047,
         1.380300237721934,
         1.4242546940656864,
         1.4370880455249144,
         1.369347740758548,
         1.324566904685441,
         1.33830529996726,
         1.352233110049092,
         1.3191131156697002,
         1.4108012296970016,
         1.369542652939711,
         1.3738107441394145,
         1.3977253304199555,
         1.408450235207774,
         1.321271308722945,
         1.3432457271343305,
         1.397900065474592,
         1.4819394577181488,
         1.4366297165182258,
         1.3813596620930886,
         1.3107917332665224,
         1.3598559150377292,
         1.4503590586995678,
         1.3761568493196021,
         1.3805320033801047,
         1.4632911041805863,
         1.3536463276503194,
         1.3315278204843186,
         1.3400137454968812,
         1.339749540614501,
         1.3819819250791872,
         1.389750167079547,
         1.4895868729168817,
         1.3099544676991242,
         1.424023503920657,
         1.4616618127635534
        ]
       ],
       "encoder": "json",
       "name": "ABC_GAN_1 Metrics",
       "version": 1
      }
     },
     "metadata": {
      "scrapbook": {
       "data": true,
       "display": false,
       "name": "ABC_GAN_1 Metrics"
      }
     },
     "output_type": "display_data"
    },
    {
     "name": "stdout",
     "output_type": "stream",
     "text": [
      "MSE\n",
      "0.09624997392431735\n"
     ]
    }
   ],
   "source": [
    "ABC_GAN1_metrics=ABC_train_test2.test_generator(gen,test_data,prior_model,variance,bias,\"1\",device)\n",
    "sb.glue(\"ABC_GAN_1 Metrics\",ABC_GAN1_metrics)\n",
    "\n",
    "print(\"MSE\")\n",
    "print(mean(ABC_GAN1_metrics[0]))"
   ]
  },
  {
   "cell_type": "code",
   "execution_count": 14,
   "id": "eb22ce5c",
   "metadata": {
    "execution": {
     "iopub.execute_input": "2022-06-07T05:59:45.458786Z",
     "iopub.status.busy": "2022-06-07T05:59:45.458397Z",
     "iopub.status.idle": "2022-06-07T05:59:45.755866Z",
     "shell.execute_reply": "2022-06-07T05:59:45.756086Z"
    },
    "papermill": {
     "duration": 0.31176,
     "end_time": "2022-06-07T05:59:45.756208",
     "exception": false,
     "start_time": "2022-06-07T05:59:45.444448",
     "status": "completed"
    },
    "tags": []
   },
   "outputs": [
    {
     "data": {
      "image/png": "[encoded data removed]",
      "text/plain": [
       "<Figure size 432x288 with 1 Axes>"
      ]
     },
     "metadata": {
      "needs_background": "light"
     },
     "output_type": "display_data"
    },
    {
     "data": {
      "image/png": "[encoded data removed]",
      "text/plain": [
       "<Figure size 432x288 with 1 Axes>"
      ]
     },
     "metadata": {
      "needs_background": "light"
     },
     "output_type": "display_data"
    },
    {
     "data": {
      "image/png": "[encoded data removed]",
      "text/plain": [
       "<Figure size 432x288 with 1 Axes>"
      ]
     },
     "metadata": {
      "needs_background": "light"
     },
     "output_type": "display_data"
    },
    {
     "data": {
      "image/png": "[encoded data removed]",
      "text/plain": [
       "<Figure size 432x288 with 1 Axes>"
      ]
     },
     "metadata": {
      "needs_background": "light"
     },
     "output_type": "display_data"
    }
   ],
   "source": [
    "sanityChecks.discProbVsError(train_data,disc,device)\n",
    "sanityChecks.discProbVsError(test_data,disc,device)"
   ]
  },
  {
   "cell_type": "markdown",
   "id": "130f3a4d",
   "metadata": {
    "id": "130f3a4d",
    "papermill": {
     "duration": 0.037679,
     "end_time": "2022-06-07T05:59:45.808384",
     "exception": false,
     "start_time": "2022-06-07T05:59:45.770705",
     "status": "completed"
    },
    "tags": []
   },
   "source": [
    "# ABC - GAN Model with skip connection"
   ]
  },
  {
   "cell_type": "code",
   "execution_count": 15,
   "id": "4e43dad1",
   "metadata": {
    "execution": {
     "iopub.execute_input": "2022-06-07T05:59:45.840415Z",
     "iopub.status.busy": "2022-06-07T05:59:45.840026Z",
     "iopub.status.idle": "2022-06-07T05:59:45.842212Z",
     "shell.execute_reply": "2022-06-07T05:59:45.842456Z"
    },
    "id": "4e43dad1",
    "papermill": {
     "duration": 0.019766,
     "end_time": "2022-06-07T05:59:45.842568",
     "exception": false,
     "start_time": "2022-06-07T05:59:45.822802",
     "status": "completed"
    },
    "tags": []
   },
   "outputs": [],
   "source": [
    "#Generator\n",
    "gen3 = network.GeneratorWithSkipConnection(n_features+1).to(device)\n",
    "constraints=network.weightConstraint()\n",
    "#Discriminator \n",
    "disc3 = network.Discriminator(n_features+1).to(device)\n",
    "\n",
    "criterion = torch.nn.BCELoss()\n",
    "gen_opt = torch.optim.Adam(gen3.parameters(), lr=0.001, betas=(0.5, 0.999))\n",
    "disc_opt = torch.optim.Adam(disc3.parameters(), lr=0.001, betas=(0.5, 0.999))\n"
   ]
  },
  {
   "cell_type": "code",
   "execution_count": 16,
   "id": "26acbc37",
   "metadata": {
    "execution": {
     "iopub.execute_input": "2022-06-07T05:59:45.873796Z",
     "iopub.status.busy": "2022-06-07T05:59:45.873414Z",
     "iopub.status.idle": "2022-06-07T06:00:22.472010Z",
     "shell.execute_reply": "2022-06-07T06:00:22.472326Z"
    },
    "id": "26acbc37",
    "papermill": {
     "duration": 36.615259,
     "end_time": "2022-06-07T06:00:22.472451",
     "exception": false,
     "start_time": "2022-06-07T05:59:45.857192",
     "status": "completed"
    },
    "tags": []
   },
   "outputs": [
    {
     "data": {
      "image/png": "[encoded data removed]",
      "text/plain": [
       "<Figure size 432x288 with 1 Axes>"
      ]
     },
     "metadata": {
      "needs_background": "light"
     },
     "output_type": "display_data"
    },
    {
     "data": {
      "image/png": "[encoded data removed]",
      "text/plain": [
       "<Figure size 432x288 with 1 Axes>"
      ]
     },
     "metadata": {
      "needs_background": "light"
     },
     "output_type": "display_data"
    }
   ],
   "source": [
    "ABC_train_test2.training_GAN_skip_connection(disc3,gen3,disc_opt,gen_opt,train_data,batch_size,n_epochs,criterion,prior_model,variance,bias,device)"
   ]
  },
  {
   "cell_type": "code",
   "execution_count": 17,
   "id": "c5e0717b",
   "metadata": {
    "execution": {
     "iopub.execute_input": "2022-06-07T06:00:22.505569Z",
     "iopub.status.busy": "2022-06-07T06:00:22.505126Z",
     "iopub.status.idle": "2022-06-07T06:00:22.782810Z",
     "shell.execute_reply": "2022-06-07T06:00:22.783107Z"
    },
    "id": "c5e0717b",
    "papermill": {
     "duration": 0.295449,
     "end_time": "2022-06-07T06:00:22.783226",
     "exception": false,
     "start_time": "2022-06-07T06:00:22.487777",
     "status": "completed"
    },
    "tags": []
   },
   "outputs": [
    {
     "data": {
      "application/scrapbook.scrap.json+json": {
       "data": 0.13367466408878262,
       "encoder": "json",
       "name": "ABC-GAN Model 3 MSE",
       "version": 1
      }
     },
     "metadata": {
      "scrapbook": {
       "data": true,
       "display": false,
       "name": "ABC-GAN Model 3 MSE"
      }
     },
     "output_type": "display_data"
    },
    {
     "data": {
      "application/scrapbook.scrap.json+json": {
       "data": 0.28216226215218193,
       "encoder": "json",
       "name": "ABC-GAN Model 3 MAE",
       "version": 1
      }
     },
     "metadata": {
      "scrapbook": {
       "data": true,
       "display": false,
       "name": "ABC-GAN Model 3 MAE"
      }
     },
     "output_type": "display_data"
    },
    {
     "data": {
      "application/scrapbook.scrap.json+json": {
       "data": 5.643245243043639,
       "encoder": "json",
       "name": "ABC-GAN Model 3 Manhattan Distance",
       "version": 1
      }
     },
     "metadata": {
      "scrapbook": {
       "data": true,
       "display": false,
       "name": "ABC-GAN Model 3 Manhattan Distance"
      }
     },
     "output_type": "display_data"
    },
    {
     "data": {
      "application/scrapbook.scrap.json+json": {
       "data": 1.6333180862787369,
       "encoder": "json",
       "name": "ABC-GAN Model 3 Euclidean distance",
       "version": 1
      }
     },
     "metadata": {
      "scrapbook": {
       "data": true,
       "display": false,
       "name": "ABC-GAN Model 3 Euclidean distance"
      }
     },
     "output_type": "display_data"
    },
    {
     "data": {
      "application/scrapbook.scrap.json+json": {
       "data": [
        [
         0.1313154440706993,
         0.13549334623190937,
         0.13769785727723294,
         0.13961392707084946,
         0.13623034618179305,
         0.13455240582570632,
         0.13067812709630933,
         0.11338127962561262,
         0.12593656243866175,
         0.13870685181428205,
         0.1291127788293121,
         0.13204210713943657,
         0.1216600768187596,
         0.10790891972447691,
         0.10294869847733715,
         0.13357290608817274,
         0.15507656094684732,
         0.13449936016810282,
         0.14393339505182118,
         0.14173246414965673,
         0.13718665536678404,
         0.13169322268723377,
         0.13447320653298614,
         0.13661826574563923,
         0.1362254362255011,
         0.14067332848660485,
         0.1365500367502476,
         0.14093976496416818,
         0.11380046093783473,
         0.14530763315423423,
         0.14821629330546665,
         0.11904803211521246,
         0.12271495893135356,
         0.11168736800557832,
         0.14186806103304078,
         0.14281023197001524,
         0.13614346228490487,
         0.12186845154504153,
         0.1402787622993473,
         0.1369779291488571,
         0.12813514565294853,
         0.1461413713497608,
         0.1349641808533048,
         0.14537386471007033,
         0.12329933707947763,
         0.12454078329440285,
         0.13852762984032968,
         0.14338250476326211,
         0.13502816540130202,
         0.11706547919496349,
         0.14095294436367106,
         0.1310362162223766,
         0.14818120631365775,
         0.13947796961387743,
         0.15012822317065072,
         0.14965566551808632,
         0.14692164139956576,
         0.12120844309419251,
         0.1458243518007491,
         0.13397080124399902,
         0.1361678568779041,
         0.14000821067246486,
         0.14154350526950393,
         0.12018749777101949,
         0.1189857475289148,
         0.12801468079539086,
         0.15195340060109933,
         0.10891758960718079,
         0.12533699468837256,
         0.12204984830691275,
         0.12764739152294946,
         0.11548073599499384,
         0.1504108909315334,
         0.14389689616073847,
         0.14051736894960026,
         0.12856935911649434,
         0.14451964502454717,
         0.1167869793597135,
         0.14307991401873796,
         0.12867240575557398,
         0.11117166997516956,
         0.14410935246480625,
         0.14306774972012576,
         0.1337835763673531,
         0.1151635353934765,
         0.14736352962837623,
         0.136507715855885,
         0.12384293447806158,
         0.14315617354358426,
         0.1348329638480948,
         0.12701754750544078,
         0.15434948760896688,
         0.11056329377047229,
         0.12774516848841408,
         0.12736773332971013,
         0.1668922998185087,
         0.13556515103727249,
         0.1423005497196977,
         0.108716550776125,
         0.156211605197395
        ],
        [
         0.27888913322240116,
         0.293257016222924,
         0.3020045616431162,
         0.27651682812720535,
         0.28135250192135575,
         0.27499467972666025,
         0.27139114290475846,
         0.2566993085667491,
         0.2686307055875659,
         0.2888794938102365,
         0.2754239035770297,
         0.27088094847276806,
         0.2663447031751275,
         0.24987277891486884,
         0.24717548992484809,
         0.2729858228936791,
         0.30565834054723384,
         0.2802294658496976,
         0.2872110979631543,
         0.29447351936250926,
         0.29365090299397706,
         0.2747150981798768,
         0.2998386612161994,
         0.28640389791689813,
         0.2980970527976751,
         0.27960727382451295,
         0.2830116281285882,
         0.28435146491974594,
         0.2679180861450732,
         0.2829262503422797,
         0.30148106459528207,
         0.26925632916390896,
         0.2727495284285396,
         0.25162879284471273,
         0.2912093861028552,
         0.3071032116189599,
         0.28594006020575763,
         0.27365972865372895,
         0.2896104818210006,
         0.2806054806336761,
         0.27770834881812334,
         0.2914382079616189,
         0.27885503489524127,
         0.28075539488345386,
         0.26975519973784684,
         0.2819060513749719,
         0.2889008693397045,
         0.27866998463869097,
         0.2860757393762469,
         0.26193059077486397,
         0.2774059562012553,
         0.2688262835610658,
         0.3041279910132289,
         0.3002733448520303,
         0.31186970341950654,
         0.2895302115008235,
         0.2981875682249665,
         0.27270139870233834,
         0.2904781620949507,
         0.2766808394342661,
         0.2794846871867776,
         0.2943147035315633,
         0.2900321500375867,
         0.274997459538281,
         0.27616900894790886,
         0.27465421203523877,
         0.29949860740453005,
         0.25445871111005547,
         0.2784245897317305,
         0.2720604555681348,
         0.29138837680220603,
         0.25339275766164066,
         0.29300158815458416,
         0.29835738632827996,
         0.3059745984151959,
         0.28329175487160685,
         0.2916010545566678,
         0.2667623184621334,
         0.28017846699804067,
         0.2748464557342231,
         0.26727258916944263,
         0.29760684780776503,
         0.2995770597830415,
         0.2847516479901969,
         0.2688794357702136,
         0.3009141487535089,
         0.2794826140627265,
         0.27400284744799136,
         0.29295764993876217,
         0.28183114603161813,
         0.2774468118324876,
         0.30526676718145607,
         0.2659340761601925,
         0.28113301414996383,
         0.2799361629411578,
         0.3267224268987775,
         0.27150410506874323,
         0.28479086738079784,
         0.24605462271720172,
         0.29455932730343193
        ],
        [
         5.577782664448023,
         5.86514032445848,
         6.0400912328623235,
         5.530336562544107,
         5.6270500384271145,
         5.499893594533205,
         5.427822858095169,
         5.133986171334982,
         5.372614111751318,
         5.777589876204729,
         5.508478071540594,
         5.417618969455361,
         5.32689406350255,
         4.997455578297377,
         4.943509798496962,
         5.459716457873583,
         6.113166810944676,
         5.604589316993952,
         5.744221959263086,
         5.889470387250185,
         5.873018059879541,
         5.494301963597536,
         5.996773224323988,
         5.728077958337963,
         5.961941055953503,
         5.592145476490259,
         5.660232562571764,
         5.687029298394918,
         5.3583617229014635,
         5.6585250068455935,
         6.0296212919056416,
         5.385126583278179,
         5.454990568570793,
         5.032575856894255,
         5.824187722057104,
         6.142064232379198,
         5.718801204115152,
         5.473194573074579,
         5.7922096364200115,
         5.612109612673521,
         5.554166976362467,
         5.828764159232378,
         5.577100697904825,
         5.615107897669077,
         5.395103994756937,
         5.638121027499437,
         5.77801738679409,
         5.573399692773819,
         5.721514787524939,
         5.238611815497279,
         5.548119124025106,
         5.376525671221316,
         6.082559820264578,
         6.0054668970406055,
         6.237394068390131,
         5.79060423001647,
         5.9637513644993305,
         5.454027974046767,
         5.8095632418990135,
         5.533616788685322,
         5.589693743735552,
         5.886294070631266,
         5.800643000751734,
         5.499949190765619,
         5.523380178958178,
         5.493084240704775,
         5.989972148090601,
         5.089174222201109,
         5.56849179463461,
         5.441209111362696,
         5.827767536044121,
         5.067855153232813,
         5.860031763091683,
         5.967147726565599,
         6.119491968303919,
         5.6658350974321365,
         5.832021091133356,
         5.335246369242668,
         5.6035693399608135,
         5.4969291146844625,
         5.345451783388853,
         5.9521369561553,
         5.9915411956608295,
         5.695032959803939,
         5.377588715404272,
         6.0182829750701785,
         5.58965228125453,
         5.480056948959827,
         5.859152998775244,
         5.636622920632362,
         5.548936236649752,
         6.105335343629122,
         5.31868152320385,
         5.622660282999277,
         5.598723258823156,
         6.53444853797555,
         5.430082101374865,
         5.695817347615957,
         4.921092454344034,
         5.891186546068639
        ],
        [
         1.6205890538362853,
         1.6461673440565474,
         1.6595050905449666,
         1.671011233180971,
         1.6506383382303529,
         1.6404414395259974,
         1.6166516451994806,
         1.5058637363693477,
         1.5870511172527604,
         1.6655740860993367,
         1.6069398173504326,
         1.6250668117922817,
         1.5598722820715778,
         1.4690739921765474,
         1.4349125302772792,
         1.6344595809512865,
         1.761116469441174,
         1.6401180455571045,
         1.6966637560331224,
         1.6836416729794776,
         1.6564217782122044,
         1.622918498799208,
         1.6399585758974897,
         1.652986786067204,
         1.6506085921592744,
         1.6773391337866344,
         1.6525739726272322,
         1.6789268296395063,
         1.5086448285652574,
         1.7047441635285583,
         1.7217217737222623,
         1.5430361766025609,
         1.5666203045495968,
         1.49457263460548,
         1.6844468589601798,
         1.6900309581189052,
         1.6501118888421165,
         1.5612075553560554,
         1.6749851479899593,
         1.6551611954662124,
         1.60084443749509,
         1.7096278621370253,
         1.6429496696691888,
         1.705132632436963,
         1.5703460579087505,
         1.5782318162703655,
         1.6644977010517596,
         1.6934137401312304,
         1.6433390727497599,
         1.530133845093059,
         1.679005326755523,
         1.6188651347309733,
         1.7215179715219804,
         1.6701974111695745,
         1.7327909462520323,
         1.7300616492951129,
         1.7141857623931296,
         1.5569742650037124,
         1.7077725363803522,
         1.6368921848674032,
         1.6502597182134942,
         1.6733691205018983,
         1.682518976234764,
         1.5504031589945855,
         1.5426324742395046,
         1.6000917523404141,
         1.7432922910464514,
         1.4759240468749115,
         1.5832687370650163,
         1.5623690236747063,
         1.5977946771907177,
         1.5197416622241677,
         1.7344214651089473,
         1.6964486208591079,
         1.676409072688407,
         1.6035545461037135,
         1.700115555040581,
         1.5283126601563797,
         1.6916259280274581,
         1.6041970312625191,
         1.4911181708715748,
         1.697700518140972,
         1.6915540175833923,
         1.6357480023973932,
         1.5176530261787542,
         1.7167616586374255,
         1.652317862010122,
         1.5738038917099015,
         1.6920766740522384,
         1.6421508082273977,
         1.5938478440895216,
         1.756983139412367,
         1.4870325737553451,
         1.598406509548895,
         1.596043441324265,
         1.8269772840323368,
         1.6466034801206542,
         1.6870124464253229,
         1.4745612959529693,
         1.7675497458198735
        ]
       ],
       "encoder": "json",
       "name": "ABC_GAN_3 Metrics",
       "version": 1
      }
     },
     "metadata": {
      "scrapbook": {
       "data": true,
       "display": false,
       "name": "ABC_GAN_3 Metrics"
      }
     },
     "output_type": "display_data"
    },
    {
     "name": "stdout",
     "output_type": "stream",
     "text": [
      "MSE\n",
      "0.13367466408878262\n"
     ]
    }
   ],
   "source": [
    "ABC_GAN3_metrics=ABC_train_test2.test_generator(gen3,test_data,prior_model,variance,bias,\"3\",device)\n",
    "sb.glue(\"ABC_GAN_3 Metrics\",ABC_GAN3_metrics)\n",
    "\n",
    "print(\"MSE\")\n",
    "print(mean(ABC_GAN3_metrics[0]))"
   ]
  },
  {
   "cell_type": "code",
   "execution_count": 18,
   "id": "c8e46b48",
   "metadata": {
    "execution": {
     "iopub.execute_input": "2022-06-07T06:00:22.818835Z",
     "iopub.status.busy": "2022-06-07T06:00:22.818457Z",
     "iopub.status.idle": "2022-06-07T06:00:23.104647Z",
     "shell.execute_reply": "2022-06-07T06:00:23.104952Z"
    },
    "id": "c8e46b48",
    "papermill": {
     "duration": 0.304983,
     "end_time": "2022-06-07T06:00:23.105073",
     "exception": false,
     "start_time": "2022-06-07T06:00:22.800090",
     "status": "completed"
    },
    "tags": []
   },
   "outputs": [
    {
     "data": {
      "image/png": "[encoded data removed]",
      "text/plain": [
       "<Figure size 432x288 with 1 Axes>"
      ]
     },
     "metadata": {
      "needs_background": "light"
     },
     "output_type": "display_data"
    },
    {
     "data": {
      "image/png": "[encoded data removed]",
      "text/plain": [
       "<Figure size 432x288 with 1 Axes>"
      ]
     },
     "metadata": {
      "needs_background": "light"
     },
     "output_type": "display_data"
    },
    {
     "data": {
      "image/png": "[encoded data removed]",
      "text/plain": [
       "<Figure size 432x288 with 1 Axes>"
      ]
     },
     "metadata": {
      "needs_background": "light"
     },
     "output_type": "display_data"
    },
    {
     "data": {
      "image/png": "[encoded data removed]",
      "text/plain": [
       "<Figure size 432x288 with 1 Axes>"
      ]
     },
     "metadata": {
      "needs_background": "light"
     },
     "output_type": "display_data"
    }
   ],
   "source": [
    "sanityChecks.discProbVsError(train_data,disc3,device)\n",
    "sanityChecks.discProbVsError(test_data,disc3,device)"
   ]
  },
  {
   "cell_type": "markdown",
   "id": "a5bd74c3",
   "metadata": {
    "id": "a5bd74c3",
    "papermill": {
     "duration": 0.019049,
     "end_time": "2022-06-07T06:00:23.143443",
     "exception": false,
     "start_time": "2022-06-07T06:00:23.124394",
     "status": "completed"
    },
    "tags": []
   },
   "source": [
    "## Skip Connection Model Analysis - ABC-GAN "
   ]
  },
  {
   "cell_type": "markdown",
   "id": "5744a8bf",
   "metadata": {
    "id": "5744a8bf",
    "papermill": {
     "duration": 0.018812,
     "end_time": "2022-06-07T06:00:23.181153",
     "exception": false,
     "start_time": "2022-06-07T06:00:23.162341",
     "status": "completed"
    },
    "tags": []
   },
   "source": [
    "### Weight Analysis \n",
    "\n",
    "Study the weights of the skip connection layer\n",
    "\n",
    "Equation of the skip connection is \n",
    "\n",
    "$output = y_{gan} * w + y_{abc} * (1-w)$"
   ]
  },
  {
   "cell_type": "code",
   "execution_count": 19,
   "id": "52c31dea",
   "metadata": {
    "execution": {
     "iopub.execute_input": "2022-06-07T06:00:23.221758Z",
     "iopub.status.busy": "2022-06-07T06:00:23.221375Z",
     "iopub.status.idle": "2022-06-07T06:00:23.224800Z",
     "shell.execute_reply": "2022-06-07T06:00:23.225045Z"
    },
    "id": "52c31dea",
    "papermill": {
     "duration": 0.025169,
     "end_time": "2022-06-07T06:00:23.225156",
     "exception": false,
     "start_time": "2022-06-07T06:00:23.199987",
     "status": "completed"
    },
    "tags": []
   },
   "outputs": [
    {
     "name": "stdout",
     "output_type": "stream",
     "text": [
      "Weight of the node at skip connection\n",
      "Parameter containing:\n",
      "tensor([[0.6600]], requires_grad=True)\n"
     ]
    },
    {
     "data": {
      "application/scrapbook.scrap.json+json": {
       "data": 0.6599884033203125,
       "encoder": "json",
       "name": "Skip Connection Weight",
       "version": 1
      }
     },
     "metadata": {
      "scrapbook": {
       "data": true,
       "display": false,
       "name": "Skip Connection Weight"
      }
     },
     "output_type": "display_data"
    }
   ],
   "source": [
    "print(\"Weight of the node at skip connection\")\n",
    "for name,param in gen3.named_parameters():\n",
    "    if(name == \"skipNode.weight\"):\n",
    "        print(param)\n",
    "        sb.glue(\"Skip Connection Weight\",param.item())"
   ]
  }
 ],
 "metadata": {
  "colab": {
   "collapsed_sections": [],
   "name": "ABC_GAN_Model-Catboost_Pre-gen.ipynb",
   "provenance": []
  },
  "interpreter": {
   "hash": "31f2aee4e71d21fbe5cf8b01ff0e069b9275f58929596ceb00d14d90e3e16cd6"
  },
  "kernelspec": {
   "display_name": "Python 3 (ipykernel)",
   "language": "python",
   "name": "python3"
  },
  "language_info": {
   "codemirror_mode": {
    "name": "ipython",
    "version": 3
   },
   "file_extension": ".py",
   "mimetype": "text/x-python",
   "name": "python",
   "nbconvert_exporter": "python",
   "pygments_lexer": "ipython3",
   "version": "3.8.11"
  },
  "papermill": {
   "default_parameters": {},
   "duration": 55.786235,
   "end_time": "2022-06-07T06:00:23.551679",
   "environment_variables": {},
   "exception": null,
   "input_path": "ABC_GAN-Catboost.ipynb",
   "output_path": "./ABC_GAN_Catboost/ABC-GAN_output_1_7.ipynb",
   "parameters": {
    "bias": 0.01,
    "variance": 0.1
   },
   "start_time": "2022-06-07T05:59:27.765444",
   "version": "2.3.3"
  }
 },
 "nbformat": 4,
 "nbformat_minor": 5
}