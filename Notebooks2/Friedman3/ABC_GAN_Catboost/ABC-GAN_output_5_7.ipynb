{
 "cells": [
  {
   "cell_type": "markdown",
   "id": "622780e6",
   "metadata": {
    "id": "622780e6",
    "papermill": {
     "duration": 0.03299,
     "end_time": "2022-06-07T06:37:38.839313",
     "exception": false,
     "start_time": "2022-06-07T06:37:38.806323",
     "status": "completed"
    },
    "tags": []
   },
   "source": [
    "## Import Libraries "
   ]
  },
  {
   "cell_type": "code",
   "execution_count": 1,
   "id": "a62397e3",
   "metadata": {
    "execution": {
     "iopub.execute_input": "2022-06-07T06:37:38.881869Z",
     "iopub.status.busy": "2022-06-07T06:37:38.880344Z",
     "iopub.status.idle": "2022-06-07T06:37:38.885142Z",
     "shell.execute_reply": "2022-06-07T06:37:38.885687Z"
    },
    "id": "a62397e3",
    "papermill": {
     "duration": 0.030168,
     "end_time": "2022-06-07T06:37:38.886127",
     "exception": false,
     "start_time": "2022-06-07T06:37:38.855959",
     "status": "completed"
    },
    "tags": []
   },
   "outputs": [],
   "source": [
    "import warnings\n",
    "import sys\n",
    "sys.path.insert(0, '../../src')\n",
    "warnings.filterwarnings('ignore')"
   ]
  },
  {
   "cell_type": "code",
   "execution_count": 2,
   "id": "d6a4e155",
   "metadata": {
    "execution": {
     "iopub.execute_input": "2022-06-07T06:37:38.905511Z",
     "iopub.status.busy": "2022-06-07T06:37:38.905126Z",
     "iopub.status.idle": "2022-06-07T06:37:40.636239Z",
     "shell.execute_reply": "2022-06-07T06:37:40.636474Z"
    },
    "id": "d6a4e155",
    "papermill": {
     "duration": 1.741581,
     "end_time": "2022-06-07T06:37:40.636600",
     "exception": false,
     "start_time": "2022-06-07T06:37:38.895019",
     "status": "completed"
    },
    "tags": []
   },
   "outputs": [],
   "source": [
    "import ABC_train_test2\n",
    "import friedman1Dataset\n",
    "import network\n",
    "import dataset\n",
    "import sanityChecks\n",
    "import torch \n",
    "import scrapbook as sb\n",
    "from statistics import mean \n",
    "import catboost as ctb \n",
    "from sklearn.model_selection import train_test_split\n",
    "from sklearn.metrics import mean_squared_error,mean_absolute_error\n",
    "import numpy as np"
   ]
  },
  {
   "cell_type": "markdown",
   "id": "2fa5b0f7",
   "metadata": {
    "id": "2fa5b0f7",
    "papermill": {
     "duration": 0.006799,
     "end_time": "2022-06-07T06:37:40.650630",
     "exception": false,
     "start_time": "2022-06-07T06:37:40.643831",
     "status": "completed"
    },
    "tags": []
   },
   "source": [
    "## Parameters "
   ]
  },
  {
   "cell_type": "code",
   "execution_count": 3,
   "id": "783186fb",
   "metadata": {
    "execution": {
     "iopub.execute_input": "2022-06-07T06:37:40.666322Z",
     "iopub.status.busy": "2022-06-07T06:37:40.665963Z",
     "iopub.status.idle": "2022-06-07T06:37:40.667243Z",
     "shell.execute_reply": "2022-06-07T06:37:40.667498Z"
    },
    "id": "783186fb",
    "papermill": {
     "duration": 0.010228,
     "end_time": "2022-06-07T06:37:40.667613",
     "exception": false,
     "start_time": "2022-06-07T06:37:40.657385",
     "status": "completed"
    },
    "tags": [
     "parameters"
    ]
   },
   "outputs": [],
   "source": [
    "variance = 1\n",
    "bias = 1 "
   ]
  },
  {
   "cell_type": "code",
   "execution_count": 4,
   "id": "7cd3209b",
   "metadata": {
    "execution": {
     "iopub.execute_input": "2022-06-07T06:37:40.683416Z",
     "iopub.status.busy": "2022-06-07T06:37:40.683046Z",
     "iopub.status.idle": "2022-06-07T06:37:40.684277Z",
     "shell.execute_reply": "2022-06-07T06:37:40.684506Z"
    },
    "papermill": {
     "duration": 0.00996,
     "end_time": "2022-06-07T06:37:40.684611",
     "exception": false,
     "start_time": "2022-06-07T06:37:40.674651",
     "status": "completed"
    },
    "tags": [
     "injected-parameters"
    ]
   },
   "outputs": [],
   "source": [
    "# Parameters\n",
    "variance = 0.1\n",
    "bias = 0.01\n"
   ]
  },
  {
   "cell_type": "markdown",
   "id": "391cdbfd",
   "metadata": {
    "id": "391cdbfd",
    "papermill": {
     "duration": 0.006821,
     "end_time": "2022-06-07T06:37:40.698382",
     "exception": false,
     "start_time": "2022-06-07T06:37:40.691561",
     "status": "completed"
    },
    "tags": []
   },
   "source": [
    "## Dataset \n"
   ]
  },
  {
   "cell_type": "code",
   "execution_count": 5,
   "id": "5b51f161",
   "metadata": {
    "execution": {
     "iopub.execute_input": "2022-06-07T06:37:40.713976Z",
     "iopub.status.busy": "2022-06-07T06:37:40.713617Z",
     "iopub.status.idle": "2022-06-07T06:37:40.714922Z",
     "shell.execute_reply": "2022-06-07T06:37:40.715166Z"
    },
    "id": "5b51f161",
    "papermill": {
     "duration": 0.010024,
     "end_time": "2022-06-07T06:37:40.715276",
     "exception": false,
     "start_time": "2022-06-07T06:37:40.705252",
     "status": "completed"
    },
    "tags": []
   },
   "outputs": [],
   "source": [
    "#Parameters \n",
    "n_features = 5\n",
    "n_samples= 100\n",
    "n_target = 1 "
   ]
  },
  {
   "cell_type": "code",
   "execution_count": 6,
   "id": "5d6eced4",
   "metadata": {
    "execution": {
     "iopub.execute_input": "2022-06-07T06:37:40.732583Z",
     "iopub.status.busy": "2022-06-07T06:37:40.732231Z",
     "iopub.status.idle": "2022-06-07T06:37:40.737002Z",
     "shell.execute_reply": "2022-06-07T06:37:40.737241Z"
    },
    "id": "5d6eced4",
    "papermill": {
     "duration": 0.015094,
     "end_time": "2022-06-07T06:37:40.737353",
     "exception": false,
     "start_time": "2022-06-07T06:37:40.722259",
     "status": "completed"
    },
    "tags": []
   },
   "outputs": [
    {
     "name": "stdout",
     "output_type": "stream",
     "text": [
      "         X0        X1        X2        X3        X4         Y\n",
      "0 -1.644568  1.556822  0.016101 -0.241324 -1.341438 -1.926845\n",
      "1 -1.613495  0.104939 -0.465255  1.352236  0.626858 -0.237880\n",
      "2  0.159326  0.812658  1.465714  0.279823  0.410946  1.888798\n",
      "3 -1.363108 -0.104078  0.341363 -0.448569  0.733460 -1.153275\n",
      "4 -0.556337  0.090298  0.858730 -0.868251  1.607633  0.074837\n"
     ]
    }
   ],
   "source": [
    "X,Y = friedman1Dataset.friedman1_data(n_samples,n_features)"
   ]
  },
  {
   "cell_type": "code",
   "execution_count": 7,
   "id": "fe007438",
   "metadata": {
    "execution": {
     "iopub.execute_input": "2022-06-07T06:37:40.754713Z",
     "iopub.status.busy": "2022-06-07T06:37:40.754297Z",
     "iopub.status.idle": "2022-06-07T06:37:40.755726Z",
     "shell.execute_reply": "2022-06-07T06:37:40.755998Z"
    },
    "id": "fe007438",
    "papermill": {
     "duration": 0.011329,
     "end_time": "2022-06-07T06:37:40.756113",
     "exception": false,
     "start_time": "2022-06-07T06:37:40.744784",
     "status": "completed"
    },
    "tags": []
   },
   "outputs": [],
   "source": [
    "#Train test split for dataset \n",
    "X_train,X_test,Y_train,Y_test = train_test_split(X,Y,test_size = 0.2)\n",
    "train_data = dataset.CustomDataset(X_train,Y_train)\n",
    "test_data = dataset.CustomDataset(X_test,Y_test)\n"
   ]
  },
  {
   "cell_type": "markdown",
   "id": "a9a1af34",
   "metadata": {
    "id": "a9a1af34",
    "papermill": {
     "duration": 0.00715,
     "end_time": "2022-06-07T06:37:40.770603",
     "exception": false,
     "start_time": "2022-06-07T06:37:40.763453",
     "status": "completed"
    },
    "tags": []
   },
   "source": [
    "## Training Parameters "
   ]
  },
  {
   "cell_type": "code",
   "execution_count": 8,
   "id": "952b7fc8",
   "metadata": {
    "execution": {
     "iopub.execute_input": "2022-06-07T06:37:40.787292Z",
     "iopub.status.busy": "2022-06-07T06:37:40.786922Z",
     "iopub.status.idle": "2022-06-07T06:37:40.788048Z",
     "shell.execute_reply": "2022-06-07T06:37:40.788321Z"
    },
    "id": "952b7fc8",
    "papermill": {
     "duration": 0.010656,
     "end_time": "2022-06-07T06:37:40.788425",
     "exception": false,
     "start_time": "2022-06-07T06:37:40.777769",
     "status": "completed"
    },
    "tags": []
   },
   "outputs": [],
   "source": [
    "batch_size = 32\n",
    "n_epochs = 1000\n",
    "#Select the device \n",
    "device = torch.device('cuda' if torch.cuda.is_available() else 'cpu')"
   ]
  },
  {
   "cell_type": "markdown",
   "id": "a95e1600",
   "metadata": {
    "id": "a95e1600",
    "papermill": {
     "duration": 0.007123,
     "end_time": "2022-06-07T06:37:40.802821",
     "exception": false,
     "start_time": "2022-06-07T06:37:40.795698",
     "status": "completed"
    },
    "tags": []
   },
   "source": [
    "# ABC Pre-generator Model \n",
    "\n",
    "1. The catboost model is used as a pre-generator model for the ABC-GAN. \n",
    "2. The model is first trained on the entire dataset \n",
    "3. It generats X,Y pairs and we add some Gaussian noise with mean 0 and variance 1 to it which is then feed as input to the generator.\n"
   ]
  },
  {
   "cell_type": "code",
   "execution_count": 9,
   "id": "ff8ce7bd",
   "metadata": {
    "execution": {
     "iopub.execute_input": "2022-06-07T06:37:40.821024Z",
     "iopub.status.busy": "2022-06-07T06:37:40.820637Z",
     "iopub.status.idle": "2022-06-07T06:37:41.459494Z",
     "shell.execute_reply": "2022-06-07T06:37:41.459798Z"
    },
    "id": "ff8ce7bd",
    "papermill": {
     "duration": 0.649858,
     "end_time": "2022-06-07T06:37:41.459922",
     "exception": false,
     "start_time": "2022-06-07T06:37:40.810064",
     "status": "completed"
    },
    "tags": []
   },
   "outputs": [
    {
     "name": "stdout",
     "output_type": "stream",
     "text": [
      "Learning rate set to 0.024897\n",
      "0:\tlearn: 0.9827423\ttotal: 57.3ms\tremaining: 57.2s\n",
      "1:\tlearn: 0.9738006\ttotal: 57.9ms\tremaining: 28.9s\n",
      "2:\tlearn: 0.9648360\ttotal: 58.4ms\tremaining: 19.4s\n",
      "3:\tlearn: 0.9547608\ttotal: 58.9ms\tremaining: 14.7s\n",
      "4:\tlearn: 0.9480511\ttotal: 59.5ms\tremaining: 11.8s\n",
      "5:\tlearn: 0.9388761\ttotal: 59.9ms\tremaining: 9.93s\n",
      "6:\tlearn: 0.9311491\ttotal: 60.4ms\tremaining: 8.57s\n",
      "7:\tlearn: 0.9238320\ttotal: 61.1ms\tremaining: 7.57s\n",
      "8:\tlearn: 0.9173254\ttotal: 61.7ms\tremaining: 6.79s\n",
      "9:\tlearn: 0.9078975\ttotal: 62.3ms\tremaining: 6.17s\n",
      "10:\tlearn: 0.8998936\ttotal: 62.9ms\tremaining: 5.66s\n",
      "11:\tlearn: 0.8902527\ttotal: 63.6ms\tremaining: 5.24s\n",
      "12:\tlearn: 0.8826936\ttotal: 64.4ms\tremaining: 4.89s\n",
      "13:\tlearn: 0.8734549\ttotal: 64.8ms\tremaining: 4.56s\n",
      "14:\tlearn: 0.8665216\ttotal: 65.2ms\tremaining: 4.28s\n",
      "15:\tlearn: 0.8596026\ttotal: 65.7ms\tremaining: 4.04s\n",
      "16:\tlearn: 0.8512450\ttotal: 66.1ms\tremaining: 3.82s\n",
      "17:\tlearn: 0.8460385\ttotal: 66.6ms\tremaining: 3.63s\n",
      "18:\tlearn: 0.8374281\ttotal: 67.1ms\tremaining: 3.47s\n",
      "19:\tlearn: 0.8316410\ttotal: 67.6ms\tremaining: 3.31s\n",
      "20:\tlearn: 0.8245019\ttotal: 68.1ms\tremaining: 3.17s\n",
      "21:\tlearn: 0.8151346\ttotal: 68.6ms\tremaining: 3.05s\n",
      "22:\tlearn: 0.8082406\ttotal: 69.1ms\tremaining: 2.93s\n",
      "23:\tlearn: 0.8020353\ttotal: 69.5ms\tremaining: 2.83s\n",
      "24:\tlearn: 0.7947501\ttotal: 69.9ms\tremaining: 2.73s\n",
      "25:\tlearn: 0.7873708\ttotal: 70.4ms\tremaining: 2.63s\n",
      "26:\tlearn: 0.7815887\ttotal: 70.8ms\tremaining: 2.55s\n",
      "27:\tlearn: 0.7742208\ttotal: 71.2ms\tremaining: 2.47s\n",
      "28:\tlearn: 0.7669182\ttotal: 71.6ms\tremaining: 2.4s\n",
      "29:\tlearn: 0.7601728\ttotal: 72.1ms\tremaining: 2.33s\n",
      "30:\tlearn: 0.7519396\ttotal: 72.5ms\tremaining: 2.27s\n",
      "31:\tlearn: 0.7445402\ttotal: 73ms\tremaining: 2.21s\n",
      "32:\tlearn: 0.7382835\ttotal: 73.5ms\tremaining: 2.15s\n",
      "33:\tlearn: 0.7320463\ttotal: 74.1ms\tremaining: 2.1s\n",
      "34:\tlearn: 0.7265984\ttotal: 74.7ms\tremaining: 2.06s\n",
      "35:\tlearn: 0.7227997\ttotal: 75.1ms\tremaining: 2.01s\n",
      "36:\tlearn: 0.7166486\ttotal: 75.4ms\tremaining: 1.96s\n",
      "37:\tlearn: 0.7107501\ttotal: 75.8ms\tremaining: 1.92s\n",
      "38:\tlearn: 0.7052423\ttotal: 76.3ms\tremaining: 1.88s\n",
      "39:\tlearn: 0.6993439\ttotal: 76.7ms\tremaining: 1.84s\n",
      "40:\tlearn: 0.6933653\ttotal: 77.3ms\tremaining: 1.81s\n",
      "41:\tlearn: 0.6875202\ttotal: 77.7ms\tremaining: 1.77s\n",
      "42:\tlearn: 0.6825921\ttotal: 78.2ms\tremaining: 1.74s\n",
      "43:\tlearn: 0.6760575\ttotal: 78.6ms\tremaining: 1.71s\n",
      "44:\tlearn: 0.6706641\ttotal: 79.1ms\tremaining: 1.68s\n",
      "45:\tlearn: 0.6655763\ttotal: 79.4ms\tremaining: 1.65s\n",
      "46:\tlearn: 0.6599832\ttotal: 80ms\tremaining: 1.62s\n",
      "47:\tlearn: 0.6545081\ttotal: 80.5ms\tremaining: 1.6s\n",
      "48:\tlearn: 0.6495349\ttotal: 81ms\tremaining: 1.57s\n",
      "49:\tlearn: 0.6430063\ttotal: 81.4ms\tremaining: 1.54s\n",
      "50:\tlearn: 0.6370168\ttotal: 81.9ms\tremaining: 1.52s\n",
      "51:\tlearn: 0.6306732\ttotal: 82.3ms\tremaining: 1.5s\n",
      "52:\tlearn: 0.6245127\ttotal: 82.7ms\tremaining: 1.48s\n",
      "53:\tlearn: 0.6191562\ttotal: 83.3ms\tremaining: 1.46s\n",
      "54:\tlearn: 0.6144690\ttotal: 83.7ms\tremaining: 1.44s\n",
      "55:\tlearn: 0.6096076\ttotal: 84.2ms\tremaining: 1.42s\n",
      "56:\tlearn: 0.6058989\ttotal: 84.6ms\tremaining: 1.4s\n",
      "57:\tlearn: 0.6017234\ttotal: 85ms\tremaining: 1.38s\n",
      "58:\tlearn: 0.5965554\ttotal: 85.4ms\tremaining: 1.36s\n",
      "59:\tlearn: 0.5917929\ttotal: 85.9ms\tremaining: 1.34s\n",
      "60:\tlearn: 0.5870863\ttotal: 86.3ms\tremaining: 1.33s\n",
      "61:\tlearn: 0.5828493\ttotal: 86.7ms\tremaining: 1.31s\n",
      "62:\tlearn: 0.5791745\ttotal: 87.3ms\tremaining: 1.3s\n",
      "63:\tlearn: 0.5741530\ttotal: 87.7ms\tremaining: 1.28s\n",
      "64:\tlearn: 0.5705052\ttotal: 88.3ms\tremaining: 1.27s\n",
      "65:\tlearn: 0.5658421\ttotal: 88.7ms\tremaining: 1.25s\n",
      "66:\tlearn: 0.5609845\ttotal: 89.2ms\tremaining: 1.24s\n",
      "67:\tlearn: 0.5571321\ttotal: 89.7ms\tremaining: 1.23s\n",
      "68:\tlearn: 0.5533613\ttotal: 90.3ms\tremaining: 1.22s\n",
      "69:\tlearn: 0.5481989\ttotal: 90.7ms\tremaining: 1.21s\n",
      "70:\tlearn: 0.5442403\ttotal: 91ms\tremaining: 1.19s\n",
      "71:\tlearn: 0.5404231\ttotal: 91.6ms\tremaining: 1.18s\n",
      "72:\tlearn: 0.5360689\ttotal: 92.2ms\tremaining: 1.17s\n",
      "73:\tlearn: 0.5311808\ttotal: 92.9ms\tremaining: 1.16s\n",
      "74:\tlearn: 0.5270682\ttotal: 93.3ms\tremaining: 1.15s\n",
      "75:\tlearn: 0.5237249\ttotal: 93.8ms\tremaining: 1.14s\n",
      "76:\tlearn: 0.5201931\ttotal: 94.3ms\tremaining: 1.13s\n",
      "77:\tlearn: 0.5160930\ttotal: 94.7ms\tremaining: 1.12s\n",
      "78:\tlearn: 0.5127846\ttotal: 95.3ms\tremaining: 1.11s\n",
      "79:\tlearn: 0.5087432\ttotal: 95.6ms\tremaining: 1.1s\n",
      "80:\tlearn: 0.5044855\ttotal: 96.2ms\tremaining: 1.09s\n",
      "81:\tlearn: 0.5000466\ttotal: 96.8ms\tremaining: 1.08s\n",
      "82:\tlearn: 0.4960538\ttotal: 97.2ms\tremaining: 1.07s\n",
      "83:\tlearn: 0.4923574\ttotal: 97.8ms\tremaining: 1.07s\n",
      "84:\tlearn: 0.4887451\ttotal: 98.3ms\tremaining: 1.06s\n",
      "85:\tlearn: 0.4842073\ttotal: 98.8ms\tremaining: 1.05s\n",
      "86:\tlearn: 0.4821532\ttotal: 99.3ms\tremaining: 1.04s\n",
      "87:\tlearn: 0.4780132\ttotal: 99.9ms\tremaining: 1.03s\n",
      "88:\tlearn: 0.4750442\ttotal: 101ms\tremaining: 1.03s\n",
      "89:\tlearn: 0.4719579\ttotal: 101ms\tremaining: 1.02s\n"
     ]
    },
    {
     "name": "stdout",
     "output_type": "stream",
     "text": [
      "90:\tlearn: 0.4682019\ttotal: 102ms\tremaining: 1.01s\n",
      "91:\tlearn: 0.4646812\ttotal: 102ms\tremaining: 1.01s\n",
      "92:\tlearn: 0.4616752\ttotal: 103ms\tremaining: 1s\n",
      "93:\tlearn: 0.4575065\ttotal: 103ms\tremaining: 995ms\n",
      "94:\tlearn: 0.4548022\ttotal: 104ms\tremaining: 988ms\n",
      "95:\tlearn: 0.4517545\ttotal: 104ms\tremaining: 980ms\n",
      "96:\tlearn: 0.4490401\ttotal: 104ms\tremaining: 973ms\n",
      "97:\tlearn: 0.4458334\ttotal: 105ms\tremaining: 967ms\n",
      "98:\tlearn: 0.4429175\ttotal: 105ms\tremaining: 960ms\n",
      "99:\tlearn: 0.4396804\ttotal: 106ms\tremaining: 954ms\n",
      "100:\tlearn: 0.4368210\ttotal: 106ms\tremaining: 948ms\n",
      "101:\tlearn: 0.4337247\ttotal: 107ms\tremaining: 942ms\n",
      "102:\tlearn: 0.4307647\ttotal: 107ms\tremaining: 936ms\n",
      "103:\tlearn: 0.4271471\ttotal: 108ms\tremaining: 930ms\n",
      "104:\tlearn: 0.4240671\ttotal: 108ms\tremaining: 923ms\n",
      "105:\tlearn: 0.4209766\ttotal: 109ms\tremaining: 917ms\n",
      "106:\tlearn: 0.4179917\ttotal: 109ms\tremaining: 912ms\n",
      "107:\tlearn: 0.4151721\ttotal: 110ms\tremaining: 907ms\n",
      "108:\tlearn: 0.4126463\ttotal: 110ms\tremaining: 902ms\n",
      "109:\tlearn: 0.4102885\ttotal: 111ms\tremaining: 897ms\n",
      "110:\tlearn: 0.4079653\ttotal: 111ms\tremaining: 891ms\n",
      "111:\tlearn: 0.4052619\ttotal: 112ms\tremaining: 884ms\n",
      "112:\tlearn: 0.4028182\ttotal: 112ms\tremaining: 879ms\n",
      "113:\tlearn: 0.4004387\ttotal: 113ms\tremaining: 876ms\n",
      "114:\tlearn: 0.3976746\ttotal: 113ms\tremaining: 872ms\n",
      "115:\tlearn: 0.3951024\ttotal: 114ms\tremaining: 867ms\n",
      "116:\tlearn: 0.3927183\ttotal: 114ms\tremaining: 862ms\n",
      "117:\tlearn: 0.3902036\ttotal: 115ms\tremaining: 857ms\n",
      "118:\tlearn: 0.3873722\ttotal: 115ms\tremaining: 853ms\n",
      "119:\tlearn: 0.3847573\ttotal: 116ms\tremaining: 847ms\n",
      "120:\tlearn: 0.3820237\ttotal: 116ms\tremaining: 842ms\n",
      "121:\tlearn: 0.3784019\ttotal: 116ms\tremaining: 838ms\n",
      "122:\tlearn: 0.3757571\ttotal: 117ms\tremaining: 834ms\n",
      "123:\tlearn: 0.3730684\ttotal: 117ms\tremaining: 830ms\n",
      "124:\tlearn: 0.3708963\ttotal: 118ms\tremaining: 827ms\n",
      "125:\tlearn: 0.3687520\ttotal: 119ms\tremaining: 823ms\n",
      "126:\tlearn: 0.3667928\ttotal: 119ms\tremaining: 819ms\n",
      "127:\tlearn: 0.3644370\ttotal: 120ms\tremaining: 816ms\n",
      "128:\tlearn: 0.3620520\ttotal: 120ms\tremaining: 812ms\n",
      "129:\tlearn: 0.3603011\ttotal: 121ms\tremaining: 809ms\n",
      "130:\tlearn: 0.3581714\ttotal: 121ms\tremaining: 805ms\n",
      "131:\tlearn: 0.3562577\ttotal: 122ms\tremaining: 802ms\n",
      "132:\tlearn: 0.3535594\ttotal: 123ms\tremaining: 799ms\n",
      "133:\tlearn: 0.3514388\ttotal: 123ms\tremaining: 796ms\n",
      "134:\tlearn: 0.3491682\ttotal: 124ms\tremaining: 793ms\n",
      "135:\tlearn: 0.3467798\ttotal: 124ms\tremaining: 789ms\n",
      "136:\tlearn: 0.3444080\ttotal: 125ms\tremaining: 786ms\n",
      "137:\tlearn: 0.3423490\ttotal: 125ms\tremaining: 784ms\n",
      "138:\tlearn: 0.3399329\ttotal: 126ms\tremaining: 781ms\n",
      "139:\tlearn: 0.3375734\ttotal: 127ms\tremaining: 777ms\n",
      "140:\tlearn: 0.3354025\ttotal: 127ms\tremaining: 774ms\n",
      "141:\tlearn: 0.3332382\ttotal: 127ms\tremaining: 770ms\n",
      "142:\tlearn: 0.3310064\ttotal: 128ms\tremaining: 767ms\n",
      "143:\tlearn: 0.3293800\ttotal: 129ms\tremaining: 764ms\n",
      "144:\tlearn: 0.3277984\ttotal: 129ms\tremaining: 761ms\n",
      "145:\tlearn: 0.3257088\ttotal: 130ms\tremaining: 759ms\n",
      "146:\tlearn: 0.3236492\ttotal: 130ms\tremaining: 756ms\n",
      "147:\tlearn: 0.3213620\ttotal: 131ms\tremaining: 753ms\n",
      "148:\tlearn: 0.3190718\ttotal: 131ms\tremaining: 750ms\n",
      "149:\tlearn: 0.3173226\ttotal: 132ms\tremaining: 747ms\n",
      "150:\tlearn: 0.3154449\ttotal: 133ms\tremaining: 745ms\n",
      "151:\tlearn: 0.3136444\ttotal: 133ms\tremaining: 742ms\n",
      "152:\tlearn: 0.3117704\ttotal: 133ms\tremaining: 738ms\n",
      "153:\tlearn: 0.3094471\ttotal: 134ms\tremaining: 736ms\n",
      "154:\tlearn: 0.3072743\ttotal: 135ms\tremaining: 733ms\n",
      "155:\tlearn: 0.3056452\ttotal: 135ms\tremaining: 731ms\n",
      "156:\tlearn: 0.3037984\ttotal: 136ms\tremaining: 728ms\n",
      "157:\tlearn: 0.3018983\ttotal: 136ms\tremaining: 725ms\n",
      "158:\tlearn: 0.3002953\ttotal: 137ms\tremaining: 723ms\n",
      "159:\tlearn: 0.2987370\ttotal: 137ms\tremaining: 720ms\n",
      "160:\tlearn: 0.2972452\ttotal: 138ms\tremaining: 717ms\n",
      "161:\tlearn: 0.2953272\ttotal: 138ms\tremaining: 715ms\n",
      "162:\tlearn: 0.2931816\ttotal: 139ms\tremaining: 712ms\n",
      "163:\tlearn: 0.2917819\ttotal: 139ms\tremaining: 710ms\n",
      "164:\tlearn: 0.2897915\ttotal: 140ms\tremaining: 707ms\n",
      "165:\tlearn: 0.2880041\ttotal: 140ms\tremaining: 705ms\n",
      "166:\tlearn: 0.2860090\ttotal: 141ms\tremaining: 702ms\n",
      "167:\tlearn: 0.2842305\ttotal: 142ms\tremaining: 701ms\n",
      "168:\tlearn: 0.2827129\ttotal: 142ms\tremaining: 698ms\n",
      "169:\tlearn: 0.2819895\ttotal: 142ms\tremaining: 694ms\n",
      "170:\tlearn: 0.2801243\ttotal: 143ms\tremaining: 692ms\n",
      "171:\tlearn: 0.2782425\ttotal: 143ms\tremaining: 689ms\n",
      "172:\tlearn: 0.2761885\ttotal: 144ms\tremaining: 687ms\n",
      "173:\tlearn: 0.2747324\ttotal: 144ms\tremaining: 685ms\n",
      "174:\tlearn: 0.2729820\ttotal: 145ms\tremaining: 683ms\n",
      "175:\tlearn: 0.2712231\ttotal: 145ms\tremaining: 679ms\n",
      "176:\tlearn: 0.2698497\ttotal: 146ms\tremaining: 677ms\n",
      "177:\tlearn: 0.2683537\ttotal: 146ms\tremaining: 675ms\n",
      "178:\tlearn: 0.2672273\ttotal: 147ms\tremaining: 673ms\n",
      "179:\tlearn: 0.2657821\ttotal: 147ms\tremaining: 672ms\n",
      "180:\tlearn: 0.2641378\ttotal: 148ms\tremaining: 670ms\n",
      "181:\tlearn: 0.2625345\ttotal: 149ms\tremaining: 669ms\n",
      "182:\tlearn: 0.2609369\ttotal: 149ms\tremaining: 667ms\n",
      "183:\tlearn: 0.2592788\ttotal: 150ms\tremaining: 665ms\n",
      "184:\tlearn: 0.2579281\ttotal: 150ms\tremaining: 663ms\n",
      "185:\tlearn: 0.2563790\ttotal: 151ms\tremaining: 660ms\n",
      "186:\tlearn: 0.2547087\ttotal: 151ms\tremaining: 658ms\n",
      "187:\tlearn: 0.2531593\ttotal: 152ms\tremaining: 656ms\n",
      "188:\tlearn: 0.2517953\ttotal: 152ms\tremaining: 654ms\n",
      "189:\tlearn: 0.2501920\ttotal: 153ms\tremaining: 652ms\n",
      "190:\tlearn: 0.2487235\ttotal: 153ms\tremaining: 650ms\n",
      "191:\tlearn: 0.2473526\ttotal: 154ms\tremaining: 648ms\n",
      "192:\tlearn: 0.2461119\ttotal: 154ms\tremaining: 646ms\n",
      "193:\tlearn: 0.2444757\ttotal: 155ms\tremaining: 644ms\n",
      "194:\tlearn: 0.2431370\ttotal: 155ms\tremaining: 642ms\n",
      "195:\tlearn: 0.2416610\ttotal: 156ms\tremaining: 640ms\n",
      "196:\tlearn: 0.2399269\ttotal: 157ms\tremaining: 638ms\n",
      "197:\tlearn: 0.2383127\ttotal: 157ms\tremaining: 636ms\n",
      "198:\tlearn: 0.2369505\ttotal: 157ms\tremaining: 634ms\n",
      "199:\tlearn: 0.2357787\ttotal: 158ms\tremaining: 632ms\n",
      "200:\tlearn: 0.2342382\ttotal: 158ms\tremaining: 630ms\n",
      "201:\tlearn: 0.2327566\ttotal: 159ms\tremaining: 628ms\n",
      "202:\tlearn: 0.2315309\ttotal: 159ms\tremaining: 626ms\n",
      "203:\tlearn: 0.2302037\ttotal: 160ms\tremaining: 624ms\n",
      "204:\tlearn: 0.2290506\ttotal: 161ms\tremaining: 623ms\n",
      "205:\tlearn: 0.2277499\ttotal: 161ms\tremaining: 621ms\n",
      "206:\tlearn: 0.2264430\ttotal: 162ms\tremaining: 619ms\n",
      "207:\tlearn: 0.2254781\ttotal: 162ms\tremaining: 618ms\n",
      "208:\tlearn: 0.2238503\ttotal: 163ms\tremaining: 615ms\n",
      "209:\tlearn: 0.2223818\ttotal: 163ms\tremaining: 614ms\n",
      "210:\tlearn: 0.2213013\ttotal: 164ms\tremaining: 612ms\n",
      "211:\tlearn: 0.2204771\ttotal: 164ms\tremaining: 611ms\n",
      "212:\tlearn: 0.2195842\ttotal: 165ms\tremaining: 609ms\n",
      "213:\tlearn: 0.2183842\ttotal: 165ms\tremaining: 607ms\n",
      "214:\tlearn: 0.2174000\ttotal: 166ms\tremaining: 606ms\n",
      "215:\tlearn: 0.2163322\ttotal: 166ms\tremaining: 604ms\n",
      "216:\tlearn: 0.2155078\ttotal: 167ms\tremaining: 602ms\n",
      "217:\tlearn: 0.2139777\ttotal: 168ms\tremaining: 601ms\n",
      "218:\tlearn: 0.2125536\ttotal: 168ms\tremaining: 599ms\n",
      "219:\tlearn: 0.2114054\ttotal: 169ms\tremaining: 598ms\n",
      "220:\tlearn: 0.2101596\ttotal: 169ms\tremaining: 596ms\n",
      "221:\tlearn: 0.2089222\ttotal: 170ms\tremaining: 595ms\n",
      "222:\tlearn: 0.2075491\ttotal: 170ms\tremaining: 593ms\n",
      "223:\tlearn: 0.2062778\ttotal: 171ms\tremaining: 591ms\n"
     ]
    },
    {
     "name": "stdout",
     "output_type": "stream",
     "text": [
      "224:\tlearn: 0.2051669\ttotal: 171ms\tremaining: 590ms\n",
      "225:\tlearn: 0.2038823\ttotal: 172ms\tremaining: 589ms\n",
      "226:\tlearn: 0.2025759\ttotal: 172ms\tremaining: 587ms\n",
      "227:\tlearn: 0.2013070\ttotal: 173ms\tremaining: 586ms\n",
      "228:\tlearn: 0.1999937\ttotal: 174ms\tremaining: 585ms\n",
      "229:\tlearn: 0.1986221\ttotal: 174ms\tremaining: 583ms\n",
      "230:\tlearn: 0.1973873\ttotal: 175ms\tremaining: 582ms\n",
      "231:\tlearn: 0.1961126\ttotal: 175ms\tremaining: 580ms\n",
      "232:\tlearn: 0.1951810\ttotal: 176ms\tremaining: 578ms\n",
      "233:\tlearn: 0.1942628\ttotal: 176ms\tremaining: 577ms\n",
      "234:\tlearn: 0.1931847\ttotal: 177ms\tremaining: 575ms\n",
      "235:\tlearn: 0.1923924\ttotal: 177ms\tremaining: 574ms\n",
      "236:\tlearn: 0.1913770\ttotal: 178ms\tremaining: 573ms\n",
      "237:\tlearn: 0.1903267\ttotal: 178ms\tremaining: 571ms\n",
      "238:\tlearn: 0.1895103\ttotal: 179ms\tremaining: 569ms\n",
      "239:\tlearn: 0.1884976\ttotal: 179ms\tremaining: 568ms\n",
      "240:\tlearn: 0.1873329\ttotal: 180ms\tremaining: 567ms\n",
      "241:\tlearn: 0.1861574\ttotal: 181ms\tremaining: 566ms\n",
      "242:\tlearn: 0.1850146\ttotal: 181ms\tremaining: 564ms\n",
      "243:\tlearn: 0.1839809\ttotal: 182ms\tremaining: 563ms\n",
      "244:\tlearn: 0.1828929\ttotal: 182ms\tremaining: 561ms\n",
      "245:\tlearn: 0.1818903\ttotal: 183ms\tremaining: 559ms\n",
      "246:\tlearn: 0.1808050\ttotal: 183ms\tremaining: 558ms\n",
      "247:\tlearn: 0.1797696\ttotal: 184ms\tremaining: 557ms\n",
      "248:\tlearn: 0.1787664\ttotal: 184ms\tremaining: 555ms\n",
      "249:\tlearn: 0.1779047\ttotal: 185ms\tremaining: 554ms\n",
      "250:\tlearn: 0.1771033\ttotal: 185ms\tremaining: 552ms\n",
      "251:\tlearn: 0.1757528\ttotal: 186ms\tremaining: 551ms\n",
      "252:\tlearn: 0.1745138\ttotal: 186ms\tremaining: 550ms\n",
      "253:\tlearn: 0.1736461\ttotal: 187ms\tremaining: 548ms\n",
      "254:\tlearn: 0.1726641\ttotal: 187ms\tremaining: 547ms\n",
      "255:\tlearn: 0.1718901\ttotal: 188ms\tremaining: 545ms\n",
      "256:\tlearn: 0.1709076\ttotal: 188ms\tremaining: 544ms\n",
      "257:\tlearn: 0.1701813\ttotal: 189ms\tremaining: 542ms\n",
      "258:\tlearn: 0.1691170\ttotal: 189ms\tremaining: 541ms\n",
      "259:\tlearn: 0.1684620\ttotal: 189ms\tremaining: 539ms\n",
      "260:\tlearn: 0.1672428\ttotal: 190ms\tremaining: 538ms\n",
      "261:\tlearn: 0.1662607\ttotal: 190ms\tremaining: 536ms\n",
      "262:\tlearn: 0.1652952\ttotal: 191ms\tremaining: 535ms\n",
      "263:\tlearn: 0.1644913\ttotal: 191ms\tremaining: 533ms\n",
      "264:\tlearn: 0.1641254\ttotal: 192ms\tremaining: 531ms\n",
      "265:\tlearn: 0.1631427\ttotal: 192ms\tremaining: 530ms\n",
      "266:\tlearn: 0.1623573\ttotal: 193ms\tremaining: 529ms\n",
      "267:\tlearn: 0.1614751\ttotal: 193ms\tremaining: 527ms\n",
      "268:\tlearn: 0.1605669\ttotal: 194ms\tremaining: 526ms\n",
      "269:\tlearn: 0.1594855\ttotal: 194ms\tremaining: 524ms\n",
      "270:\tlearn: 0.1586626\ttotal: 194ms\tremaining: 523ms\n",
      "271:\tlearn: 0.1576672\ttotal: 195ms\tremaining: 521ms\n",
      "272:\tlearn: 0.1567781\ttotal: 195ms\tremaining: 520ms\n",
      "273:\tlearn: 0.1562379\ttotal: 196ms\tremaining: 519ms\n",
      "274:\tlearn: 0.1552611\ttotal: 196ms\tremaining: 518ms\n",
      "275:\tlearn: 0.1545432\ttotal: 197ms\tremaining: 517ms\n",
      "276:\tlearn: 0.1539193\ttotal: 197ms\tremaining: 515ms\n",
      "277:\tlearn: 0.1534304\ttotal: 198ms\tremaining: 514ms\n",
      "278:\tlearn: 0.1527039\ttotal: 199ms\tremaining: 513ms\n",
      "279:\tlearn: 0.1520767\ttotal: 199ms\tremaining: 512ms\n",
      "280:\tlearn: 0.1513238\ttotal: 200ms\tremaining: 511ms\n",
      "281:\tlearn: 0.1505501\ttotal: 200ms\tremaining: 510ms\n",
      "282:\tlearn: 0.1498517\ttotal: 201ms\tremaining: 509ms\n",
      "283:\tlearn: 0.1491331\ttotal: 201ms\tremaining: 507ms\n",
      "284:\tlearn: 0.1484504\ttotal: 202ms\tremaining: 507ms\n",
      "285:\tlearn: 0.1475253\ttotal: 202ms\tremaining: 505ms\n",
      "286:\tlearn: 0.1465327\ttotal: 203ms\tremaining: 505ms\n",
      "287:\tlearn: 0.1459678\ttotal: 204ms\tremaining: 504ms\n",
      "288:\tlearn: 0.1451746\ttotal: 204ms\tremaining: 503ms\n",
      "289:\tlearn: 0.1440981\ttotal: 205ms\tremaining: 502ms\n",
      "290:\tlearn: 0.1435026\ttotal: 205ms\tremaining: 501ms\n",
      "291:\tlearn: 0.1428292\ttotal: 206ms\tremaining: 499ms\n",
      "292:\tlearn: 0.1418360\ttotal: 206ms\tremaining: 498ms\n",
      "293:\tlearn: 0.1410931\ttotal: 207ms\tremaining: 497ms\n",
      "294:\tlearn: 0.1402313\ttotal: 208ms\tremaining: 496ms\n",
      "295:\tlearn: 0.1395582\ttotal: 208ms\tremaining: 495ms\n",
      "296:\tlearn: 0.1388997\ttotal: 209ms\tremaining: 494ms\n",
      "297:\tlearn: 0.1384060\ttotal: 209ms\tremaining: 493ms\n",
      "298:\tlearn: 0.1376217\ttotal: 210ms\tremaining: 491ms\n",
      "299:\tlearn: 0.1373507\ttotal: 210ms\tremaining: 490ms\n",
      "300:\tlearn: 0.1365503\ttotal: 210ms\tremaining: 488ms\n",
      "301:\tlearn: 0.1360081\ttotal: 211ms\tremaining: 487ms\n",
      "302:\tlearn: 0.1353912\ttotal: 211ms\tremaining: 486ms\n",
      "303:\tlearn: 0.1346336\ttotal: 212ms\tremaining: 484ms\n",
      "304:\tlearn: 0.1339937\ttotal: 212ms\tremaining: 483ms\n",
      "305:\tlearn: 0.1332399\ttotal: 212ms\tremaining: 482ms\n",
      "306:\tlearn: 0.1326063\ttotal: 213ms\tremaining: 481ms\n",
      "307:\tlearn: 0.1315655\ttotal: 213ms\tremaining: 479ms\n",
      "308:\tlearn: 0.1307774\ttotal: 214ms\tremaining: 478ms\n",
      "309:\tlearn: 0.1301825\ttotal: 214ms\tremaining: 477ms\n",
      "310:\tlearn: 0.1293727\ttotal: 215ms\tremaining: 476ms\n",
      "311:\tlearn: 0.1286200\ttotal: 215ms\tremaining: 475ms\n",
      "312:\tlearn: 0.1278159\ttotal: 216ms\tremaining: 473ms\n",
      "313:\tlearn: 0.1272329\ttotal: 216ms\tremaining: 472ms\n",
      "314:\tlearn: 0.1264616\ttotal: 217ms\tremaining: 471ms\n",
      "315:\tlearn: 0.1255083\ttotal: 217ms\tremaining: 470ms\n",
      "316:\tlearn: 0.1247678\ttotal: 218ms\tremaining: 469ms\n",
      "317:\tlearn: 0.1242149\ttotal: 218ms\tremaining: 468ms\n",
      "318:\tlearn: 0.1237610\ttotal: 219ms\tremaining: 467ms\n",
      "319:\tlearn: 0.1230527\ttotal: 219ms\tremaining: 466ms\n",
      "320:\tlearn: 0.1221709\ttotal: 220ms\tremaining: 465ms\n",
      "321:\tlearn: 0.1214847\ttotal: 220ms\tremaining: 464ms\n",
      "322:\tlearn: 0.1206480\ttotal: 221ms\tremaining: 462ms\n",
      "323:\tlearn: 0.1197439\ttotal: 221ms\tremaining: 461ms\n",
      "324:\tlearn: 0.1191679\ttotal: 222ms\tremaining: 460ms\n",
      "325:\tlearn: 0.1184714\ttotal: 222ms\tremaining: 459ms\n",
      "326:\tlearn: 0.1178212\ttotal: 223ms\tremaining: 458ms\n",
      "327:\tlearn: 0.1171478\ttotal: 223ms\tremaining: 457ms\n",
      "328:\tlearn: 0.1167375\ttotal: 224ms\tremaining: 456ms\n",
      "329:\tlearn: 0.1161286\ttotal: 225ms\tremaining: 456ms\n",
      "330:\tlearn: 0.1153517\ttotal: 225ms\tremaining: 455ms\n",
      "331:\tlearn: 0.1148363\ttotal: 226ms\tremaining: 454ms\n",
      "332:\tlearn: 0.1140137\ttotal: 226ms\tremaining: 453ms\n",
      "333:\tlearn: 0.1132444\ttotal: 227ms\tremaining: 452ms\n",
      "334:\tlearn: 0.1125845\ttotal: 227ms\tremaining: 451ms\n",
      "335:\tlearn: 0.1120337\ttotal: 228ms\tremaining: 450ms\n",
      "336:\tlearn: 0.1112953\ttotal: 228ms\tremaining: 449ms\n",
      "337:\tlearn: 0.1107265\ttotal: 229ms\tremaining: 448ms\n",
      "338:\tlearn: 0.1100100\ttotal: 229ms\tremaining: 447ms\n",
      "339:\tlearn: 0.1094889\ttotal: 230ms\tremaining: 446ms\n",
      "340:\tlearn: 0.1090319\ttotal: 230ms\tremaining: 445ms\n",
      "341:\tlearn: 0.1085256\ttotal: 231ms\tremaining: 444ms\n",
      "342:\tlearn: 0.1081008\ttotal: 231ms\tremaining: 443ms\n",
      "343:\tlearn: 0.1076910\ttotal: 232ms\tremaining: 442ms\n",
      "344:\tlearn: 0.1070367\ttotal: 232ms\tremaining: 441ms\n",
      "345:\tlearn: 0.1063703\ttotal: 233ms\tremaining: 440ms\n",
      "346:\tlearn: 0.1055754\ttotal: 233ms\tremaining: 439ms\n",
      "347:\tlearn: 0.1047317\ttotal: 234ms\tremaining: 438ms\n",
      "348:\tlearn: 0.1043335\ttotal: 234ms\tremaining: 436ms\n",
      "349:\tlearn: 0.1036681\ttotal: 235ms\tremaining: 436ms\n",
      "350:\tlearn: 0.1030817\ttotal: 235ms\tremaining: 434ms\n",
      "351:\tlearn: 0.1023222\ttotal: 235ms\tremaining: 433ms\n",
      "352:\tlearn: 0.1017541\ttotal: 236ms\tremaining: 432ms\n",
      "353:\tlearn: 0.1011551\ttotal: 236ms\tremaining: 432ms\n",
      "354:\tlearn: 0.1006012\ttotal: 237ms\tremaining: 431ms\n",
      "355:\tlearn: 0.1000264\ttotal: 238ms\tremaining: 430ms\n",
      "356:\tlearn: 0.0992965\ttotal: 238ms\tremaining: 429ms\n",
      "357:\tlearn: 0.0985780\ttotal: 239ms\tremaining: 428ms\n",
      "358:\tlearn: 0.0978707\ttotal: 239ms\tremaining: 427ms\n",
      "359:\tlearn: 0.0971744\ttotal: 240ms\tremaining: 426ms\n",
      "360:\tlearn: 0.0965431\ttotal: 240ms\tremaining: 426ms\n",
      "361:\tlearn: 0.0958616\ttotal: 241ms\tremaining: 425ms\n",
      "362:\tlearn: 0.0954525\ttotal: 241ms\tremaining: 424ms\n",
      "363:\tlearn: 0.0947873\ttotal: 242ms\tremaining: 423ms\n",
      "364:\tlearn: 0.0941243\ttotal: 242ms\tremaining: 422ms\n",
      "365:\tlearn: 0.0934718\ttotal: 243ms\tremaining: 421ms\n",
      "366:\tlearn: 0.0929735\ttotal: 244ms\tremaining: 420ms\n",
      "367:\tlearn: 0.0923352\ttotal: 244ms\tremaining: 419ms\n",
      "368:\tlearn: 0.0916954\ttotal: 245ms\tremaining: 418ms\n",
      "369:\tlearn: 0.0912814\ttotal: 245ms\tremaining: 417ms\n",
      "370:\tlearn: 0.0905928\ttotal: 246ms\tremaining: 416ms\n",
      "371:\tlearn: 0.0899075\ttotal: 246ms\tremaining: 415ms\n",
      "372:\tlearn: 0.0895252\ttotal: 246ms\tremaining: 414ms\n",
      "373:\tlearn: 0.0888533\ttotal: 247ms\tremaining: 413ms\n",
      "374:\tlearn: 0.0882002\ttotal: 247ms\tremaining: 412ms\n",
      "375:\tlearn: 0.0875435\ttotal: 248ms\tremaining: 411ms\n",
      "376:\tlearn: 0.0869801\ttotal: 248ms\tremaining: 410ms\n",
      "377:\tlearn: 0.0863754\ttotal: 249ms\tremaining: 409ms\n",
      "378:\tlearn: 0.0858940\ttotal: 249ms\tremaining: 408ms\n",
      "379:\tlearn: 0.0852593\ttotal: 250ms\tremaining: 407ms\n",
      "380:\tlearn: 0.0848836\ttotal: 251ms\tremaining: 407ms\n",
      "381:\tlearn: 0.0842603\ttotal: 251ms\tremaining: 406ms\n",
      "382:\tlearn: 0.0836525\ttotal: 252ms\tremaining: 405ms\n",
      "383:\tlearn: 0.0830755\ttotal: 252ms\tremaining: 404ms\n",
      "384:\tlearn: 0.0825524\ttotal: 253ms\tremaining: 403ms\n",
      "385:\tlearn: 0.0821034\ttotal: 253ms\tremaining: 403ms\n",
      "386:\tlearn: 0.0814979\ttotal: 254ms\tremaining: 402ms\n",
      "387:\tlearn: 0.0810610\ttotal: 254ms\tremaining: 401ms\n",
      "388:\tlearn: 0.0804673\ttotal: 255ms\tremaining: 400ms\n",
      "389:\tlearn: 0.0801147\ttotal: 255ms\tremaining: 399ms\n",
      "390:\tlearn: 0.0796004\ttotal: 256ms\tremaining: 398ms\n",
      "391:\tlearn: 0.0790411\ttotal: 256ms\tremaining: 397ms\n",
      "392:\tlearn: 0.0785097\ttotal: 257ms\tremaining: 397ms\n",
      "393:\tlearn: 0.0780934\ttotal: 257ms\tremaining: 396ms\n",
      "394:\tlearn: 0.0775807\ttotal: 258ms\tremaining: 395ms\n",
      "395:\tlearn: 0.0770253\ttotal: 258ms\tremaining: 394ms\n",
      "396:\tlearn: 0.0766223\ttotal: 259ms\tremaining: 393ms\n",
      "397:\tlearn: 0.0763034\ttotal: 259ms\tremaining: 392ms\n",
      "398:\tlearn: 0.0758068\ttotal: 260ms\tremaining: 391ms\n",
      "399:\tlearn: 0.0753062\ttotal: 260ms\tremaining: 390ms\n",
      "400:\tlearn: 0.0749217\ttotal: 261ms\tremaining: 390ms\n",
      "401:\tlearn: 0.0744389\ttotal: 261ms\tremaining: 389ms\n",
      "402:\tlearn: 0.0739266\ttotal: 262ms\tremaining: 388ms\n",
      "403:\tlearn: 0.0736256\ttotal: 262ms\tremaining: 387ms\n",
      "404:\tlearn: 0.0731729\ttotal: 263ms\tremaining: 386ms\n",
      "405:\tlearn: 0.0728683\ttotal: 263ms\tremaining: 385ms\n",
      "406:\tlearn: 0.0723596\ttotal: 264ms\tremaining: 385ms\n",
      "407:\tlearn: 0.0719962\ttotal: 264ms\tremaining: 384ms\n",
      "408:\tlearn: 0.0715524\ttotal: 265ms\tremaining: 383ms\n",
      "409:\tlearn: 0.0710580\ttotal: 265ms\tremaining: 382ms\n",
      "410:\tlearn: 0.0707649\ttotal: 266ms\tremaining: 381ms\n",
      "411:\tlearn: 0.0704839\ttotal: 267ms\tremaining: 380ms\n",
      "412:\tlearn: 0.0700551\ttotal: 267ms\tremaining: 380ms\n",
      "413:\tlearn: 0.0697707\ttotal: 268ms\tremaining: 379ms\n",
      "414:\tlearn: 0.0694291\ttotal: 268ms\tremaining: 378ms\n",
      "415:\tlearn: 0.0690136\ttotal: 269ms\tremaining: 377ms\n",
      "416:\tlearn: 0.0686046\ttotal: 269ms\tremaining: 376ms\n",
      "417:\tlearn: 0.0683294\ttotal: 270ms\tremaining: 376ms\n",
      "418:\tlearn: 0.0679275\ttotal: 270ms\tremaining: 375ms\n",
      "419:\tlearn: 0.0676601\ttotal: 271ms\tremaining: 374ms\n",
      "420:\tlearn: 0.0672612\ttotal: 271ms\tremaining: 373ms\n",
      "421:\tlearn: 0.0668800\ttotal: 272ms\tremaining: 372ms\n",
      "422:\tlearn: 0.0664303\ttotal: 272ms\tremaining: 372ms\n",
      "423:\tlearn: 0.0659789\ttotal: 273ms\tremaining: 371ms\n",
      "424:\tlearn: 0.0656161\ttotal: 273ms\tremaining: 370ms\n",
      "425:\tlearn: 0.0652614\ttotal: 274ms\tremaining: 369ms\n",
      "426:\tlearn: 0.0649144\ttotal: 274ms\tremaining: 368ms\n",
      "427:\tlearn: 0.0645583\ttotal: 275ms\tremaining: 368ms\n",
      "428:\tlearn: 0.0642220\ttotal: 276ms\tremaining: 367ms\n",
      "429:\tlearn: 0.0639715\ttotal: 276ms\tremaining: 366ms\n",
      "430:\tlearn: 0.0636500\ttotal: 276ms\tremaining: 365ms\n",
      "431:\tlearn: 0.0634105\ttotal: 277ms\tremaining: 364ms\n",
      "432:\tlearn: 0.0629845\ttotal: 278ms\tremaining: 363ms\n",
      "433:\tlearn: 0.0626837\ttotal: 278ms\tremaining: 363ms\n",
      "434:\tlearn: 0.0624355\ttotal: 279ms\tremaining: 362ms\n",
      "435:\tlearn: 0.0619828\ttotal: 279ms\tremaining: 361ms\n",
      "436:\tlearn: 0.0616837\ttotal: 280ms\tremaining: 360ms\n",
      "437:\tlearn: 0.0612409\ttotal: 280ms\tremaining: 360ms\n",
      "438:\tlearn: 0.0607975\ttotal: 281ms\tremaining: 359ms\n",
      "439:\tlearn: 0.0605722\ttotal: 281ms\tremaining: 358ms\n",
      "440:\tlearn: 0.0601382\ttotal: 282ms\tremaining: 357ms\n",
      "441:\tlearn: 0.0599200\ttotal: 283ms\tremaining: 357ms\n",
      "442:\tlearn: 0.0595302\ttotal: 283ms\tremaining: 356ms\n",
      "443:\tlearn: 0.0592519\ttotal: 284ms\tremaining: 355ms\n",
      "444:\tlearn: 0.0588336\ttotal: 284ms\tremaining: 354ms\n",
      "445:\tlearn: 0.0585996\ttotal: 284ms\tremaining: 353ms\n"
     ]
    },
    {
     "name": "stdout",
     "output_type": "stream",
     "text": [
      "446:\tlearn: 0.0582255\ttotal: 285ms\tremaining: 353ms\n",
      "447:\tlearn: 0.0580072\ttotal: 285ms\tremaining: 352ms\n",
      "448:\tlearn: 0.0576386\ttotal: 286ms\tremaining: 351ms\n",
      "449:\tlearn: 0.0575109\ttotal: 286ms\tremaining: 350ms\n",
      "450:\tlearn: 0.0571488\ttotal: 287ms\tremaining: 349ms\n",
      "451:\tlearn: 0.0570238\ttotal: 287ms\tremaining: 348ms\n",
      "452:\tlearn: 0.0567317\ttotal: 288ms\tremaining: 348ms\n",
      "453:\tlearn: 0.0565309\ttotal: 288ms\tremaining: 347ms\n",
      "454:\tlearn: 0.0561782\ttotal: 289ms\tremaining: 346ms\n",
      "455:\tlearn: 0.0558665\ttotal: 290ms\tremaining: 345ms\n",
      "456:\tlearn: 0.0556729\ttotal: 290ms\tremaining: 345ms\n",
      "457:\tlearn: 0.0553529\ttotal: 291ms\tremaining: 344ms\n",
      "458:\tlearn: 0.0552389\ttotal: 291ms\tremaining: 343ms\n",
      "459:\tlearn: 0.0548991\ttotal: 291ms\tremaining: 342ms\n",
      "460:\tlearn: 0.0546981\ttotal: 292ms\tremaining: 341ms\n",
      "461:\tlearn: 0.0544919\ttotal: 292ms\tremaining: 340ms\n",
      "462:\tlearn: 0.0541599\ttotal: 293ms\tremaining: 339ms\n",
      "463:\tlearn: 0.0539644\ttotal: 293ms\tremaining: 339ms\n",
      "464:\tlearn: 0.0536387\ttotal: 294ms\tremaining: 338ms\n",
      "465:\tlearn: 0.0534457\ttotal: 294ms\tremaining: 337ms\n",
      "466:\tlearn: 0.0530073\ttotal: 295ms\tremaining: 337ms\n",
      "467:\tlearn: 0.0526902\ttotal: 295ms\tremaining: 336ms\n",
      "468:\tlearn: 0.0522652\ttotal: 296ms\tremaining: 335ms\n",
      "469:\tlearn: 0.0520553\ttotal: 297ms\tremaining: 335ms\n",
      "470:\tlearn: 0.0516951\ttotal: 297ms\tremaining: 334ms\n",
      "471:\tlearn: 0.0513791\ttotal: 298ms\tremaining: 333ms\n",
      "472:\tlearn: 0.0510692\ttotal: 298ms\tremaining: 332ms\n",
      "473:\tlearn: 0.0508468\ttotal: 299ms\tremaining: 331ms\n",
      "474:\tlearn: 0.0505416\ttotal: 299ms\tremaining: 331ms\n",
      "475:\tlearn: 0.0502964\ttotal: 300ms\tremaining: 330ms\n",
      "476:\tlearn: 0.0500579\ttotal: 300ms\tremaining: 329ms\n",
      "477:\tlearn: 0.0498259\ttotal: 301ms\tremaining: 328ms\n",
      "478:\tlearn: 0.0496104\ttotal: 301ms\tremaining: 328ms\n",
      "479:\tlearn: 0.0494193\ttotal: 302ms\tremaining: 327ms\n",
      "480:\tlearn: 0.0492052\ttotal: 302ms\tremaining: 326ms\n",
      "481:\tlearn: 0.0489948\ttotal: 303ms\tremaining: 325ms\n",
      "482:\tlearn: 0.0488533\ttotal: 303ms\tremaining: 324ms\n",
      "483:\tlearn: 0.0485555\ttotal: 303ms\tremaining: 324ms\n",
      "484:\tlearn: 0.0483336\ttotal: 304ms\tremaining: 323ms\n",
      "485:\tlearn: 0.0481287\ttotal: 305ms\tremaining: 322ms\n",
      "486:\tlearn: 0.0479469\ttotal: 305ms\tremaining: 321ms\n",
      "487:\tlearn: 0.0477441\ttotal: 306ms\tremaining: 321ms\n",
      "488:\tlearn: 0.0475269\ttotal: 306ms\tremaining: 320ms\n",
      "489:\tlearn: 0.0473298\ttotal: 307ms\tremaining: 319ms\n",
      "490:\tlearn: 0.0470457\ttotal: 307ms\tremaining: 318ms\n",
      "491:\tlearn: 0.0468464\ttotal: 308ms\tremaining: 318ms\n",
      "492:\tlearn: 0.0466743\ttotal: 308ms\tremaining: 317ms\n",
      "493:\tlearn: 0.0464109\ttotal: 309ms\tremaining: 316ms\n",
      "494:\tlearn: 0.0462218\ttotal: 309ms\tremaining: 316ms\n",
      "495:\tlearn: 0.0459313\ttotal: 310ms\tremaining: 315ms\n",
      "496:\tlearn: 0.0456599\ttotal: 310ms\tremaining: 314ms\n",
      "497:\tlearn: 0.0454841\ttotal: 311ms\tremaining: 314ms\n",
      "498:\tlearn: 0.0452176\ttotal: 312ms\tremaining: 313ms\n",
      "499:\tlearn: 0.0450030\ttotal: 312ms\tremaining: 312ms\n",
      "500:\tlearn: 0.0448773\ttotal: 313ms\tremaining: 311ms\n",
      "501:\tlearn: 0.0446108\ttotal: 313ms\tremaining: 311ms\n",
      "502:\tlearn: 0.0444502\ttotal: 314ms\tremaining: 310ms\n",
      "503:\tlearn: 0.0442721\ttotal: 314ms\tremaining: 309ms\n",
      "504:\tlearn: 0.0439588\ttotal: 314ms\tremaining: 308ms\n",
      "505:\tlearn: 0.0438041\ttotal: 315ms\tremaining: 307ms\n",
      "506:\tlearn: 0.0437076\ttotal: 315ms\tremaining: 307ms\n",
      "507:\tlearn: 0.0434637\ttotal: 316ms\tremaining: 306ms\n",
      "508:\tlearn: 0.0432259\ttotal: 317ms\tremaining: 305ms\n",
      "509:\tlearn: 0.0429098\ttotal: 317ms\tremaining: 305ms\n",
      "510:\tlearn: 0.0427481\ttotal: 317ms\tremaining: 304ms\n",
      "511:\tlearn: 0.0424497\ttotal: 318ms\tremaining: 303ms\n",
      "512:\tlearn: 0.0422918\ttotal: 318ms\tremaining: 302ms\n",
      "513:\tlearn: 0.0420565\ttotal: 319ms\tremaining: 301ms\n",
      "514:\tlearn: 0.0418286\ttotal: 319ms\tremaining: 301ms\n",
      "515:\tlearn: 0.0415511\ttotal: 320ms\tremaining: 300ms\n",
      "516:\tlearn: 0.0412575\ttotal: 320ms\tremaining: 299ms\n",
      "517:\tlearn: 0.0411065\ttotal: 321ms\tremaining: 299ms\n",
      "518:\tlearn: 0.0408397\ttotal: 321ms\tremaining: 298ms\n",
      "519:\tlearn: 0.0405942\ttotal: 322ms\tremaining: 297ms\n",
      "520:\tlearn: 0.0403550\ttotal: 322ms\tremaining: 296ms\n",
      "521:\tlearn: 0.0400426\ttotal: 324ms\tremaining: 296ms\n",
      "522:\tlearn: 0.0397377\ttotal: 324ms\tremaining: 295ms\n",
      "523:\tlearn: 0.0395940\ttotal: 324ms\tremaining: 295ms\n",
      "524:\tlearn: 0.0392969\ttotal: 325ms\tremaining: 294ms\n",
      "525:\tlearn: 0.0391463\ttotal: 325ms\tremaining: 293ms\n",
      "526:\tlearn: 0.0390123\ttotal: 326ms\tremaining: 292ms\n",
      "527:\tlearn: 0.0387788\ttotal: 326ms\tremaining: 292ms\n",
      "528:\tlearn: 0.0385658\ttotal: 327ms\tremaining: 291ms\n",
      "529:\tlearn: 0.0383199\ttotal: 328ms\tremaining: 290ms\n",
      "530:\tlearn: 0.0380653\ttotal: 328ms\tremaining: 290ms\n",
      "531:\tlearn: 0.0377831\ttotal: 329ms\tremaining: 289ms\n",
      "532:\tlearn: 0.0376547\ttotal: 329ms\tremaining: 289ms\n",
      "533:\tlearn: 0.0374324\ttotal: 330ms\tremaining: 288ms\n",
      "534:\tlearn: 0.0372109\ttotal: 330ms\tremaining: 287ms\n",
      "535:\tlearn: 0.0369951\ttotal: 331ms\tremaining: 286ms\n",
      "536:\tlearn: 0.0368557\ttotal: 331ms\tremaining: 286ms\n",
      "537:\tlearn: 0.0367179\ttotal: 332ms\tremaining: 285ms\n",
      "538:\tlearn: 0.0365826\ttotal: 332ms\tremaining: 284ms\n",
      "539:\tlearn: 0.0363557\ttotal: 333ms\tremaining: 284ms\n",
      "540:\tlearn: 0.0362248\ttotal: 334ms\tremaining: 283ms\n",
      "541:\tlearn: 0.0361125\ttotal: 334ms\tremaining: 282ms\n",
      "542:\tlearn: 0.0358994\ttotal: 335ms\tremaining: 282ms\n",
      "543:\tlearn: 0.0356896\ttotal: 335ms\tremaining: 281ms\n",
      "544:\tlearn: 0.0354715\ttotal: 336ms\tremaining: 280ms\n",
      "545:\tlearn: 0.0353746\ttotal: 336ms\tremaining: 279ms\n",
      "546:\tlearn: 0.0352584\ttotal: 336ms\tremaining: 279ms\n",
      "547:\tlearn: 0.0350538\ttotal: 337ms\tremaining: 278ms\n",
      "548:\tlearn: 0.0348257\ttotal: 337ms\tremaining: 277ms\n",
      "549:\tlearn: 0.0346143\ttotal: 338ms\tremaining: 276ms\n",
      "550:\tlearn: 0.0344914\ttotal: 338ms\tremaining: 276ms\n",
      "551:\tlearn: 0.0343866\ttotal: 339ms\tremaining: 275ms\n",
      "552:\tlearn: 0.0342189\ttotal: 339ms\tremaining: 274ms\n",
      "553:\tlearn: 0.0341274\ttotal: 340ms\tremaining: 274ms\n",
      "554:\tlearn: 0.0339216\ttotal: 340ms\tremaining: 273ms\n",
      "555:\tlearn: 0.0338127\ttotal: 341ms\tremaining: 272ms\n",
      "556:\tlearn: 0.0336958\ttotal: 341ms\tremaining: 271ms\n",
      "557:\tlearn: 0.0335012\ttotal: 342ms\tremaining: 271ms\n",
      "558:\tlearn: 0.0333400\ttotal: 342ms\tremaining: 270ms\n",
      "559:\tlearn: 0.0331444\ttotal: 343ms\tremaining: 269ms\n",
      "560:\tlearn: 0.0330578\ttotal: 343ms\tremaining: 268ms\n",
      "561:\tlearn: 0.0329600\ttotal: 344ms\tremaining: 268ms\n",
      "562:\tlearn: 0.0327688\ttotal: 344ms\tremaining: 267ms\n",
      "563:\tlearn: 0.0326662\ttotal: 344ms\tremaining: 266ms\n",
      "564:\tlearn: 0.0324594\ttotal: 345ms\tremaining: 265ms\n",
      "565:\tlearn: 0.0323248\ttotal: 345ms\tremaining: 265ms\n",
      "566:\tlearn: 0.0322151\ttotal: 346ms\tremaining: 264ms\n",
      "567:\tlearn: 0.0320406\ttotal: 346ms\tremaining: 263ms\n",
      "568:\tlearn: 0.0319095\ttotal: 347ms\tremaining: 263ms\n",
      "569:\tlearn: 0.0318034\ttotal: 347ms\tremaining: 262ms\n",
      "570:\tlearn: 0.0316223\ttotal: 348ms\tremaining: 261ms\n",
      "571:\tlearn: 0.0314477\ttotal: 348ms\tremaining: 261ms\n",
      "572:\tlearn: 0.0312331\ttotal: 349ms\tremaining: 260ms\n",
      "573:\tlearn: 0.0310397\ttotal: 349ms\tremaining: 259ms\n",
      "574:\tlearn: 0.0309142\ttotal: 350ms\tremaining: 258ms\n",
      "575:\tlearn: 0.0307276\ttotal: 350ms\tremaining: 258ms\n",
      "576:\tlearn: 0.0305456\ttotal: 350ms\tremaining: 257ms\n",
      "577:\tlearn: 0.0303414\ttotal: 351ms\tremaining: 256ms\n",
      "578:\tlearn: 0.0301632\ttotal: 351ms\tremaining: 256ms\n",
      "579:\tlearn: 0.0301012\ttotal: 352ms\tremaining: 255ms\n",
      "580:\tlearn: 0.0299637\ttotal: 352ms\tremaining: 254ms\n",
      "581:\tlearn: 0.0298193\ttotal: 353ms\tremaining: 253ms\n",
      "582:\tlearn: 0.0296450\ttotal: 353ms\tremaining: 253ms\n",
      "583:\tlearn: 0.0295482\ttotal: 354ms\tremaining: 252ms\n",
      "584:\tlearn: 0.0293750\ttotal: 354ms\tremaining: 251ms\n",
      "585:\tlearn: 0.0292055\ttotal: 355ms\tremaining: 250ms\n"
     ]
    },
    {
     "name": "stdout",
     "output_type": "stream",
     "text": [
      "586:\tlearn: 0.0291044\ttotal: 355ms\tremaining: 250ms\n",
      "587:\tlearn: 0.0289519\ttotal: 356ms\tremaining: 249ms\n",
      "588:\tlearn: 0.0287721\ttotal: 356ms\tremaining: 248ms\n",
      "589:\tlearn: 0.0286076\ttotal: 356ms\tremaining: 248ms\n",
      "590:\tlearn: 0.0284321\ttotal: 357ms\tremaining: 247ms\n",
      "591:\tlearn: 0.0282827\ttotal: 358ms\tremaining: 246ms\n",
      "592:\tlearn: 0.0281854\ttotal: 358ms\tremaining: 246ms\n",
      "593:\tlearn: 0.0280256\ttotal: 359ms\tremaining: 245ms\n",
      "594:\tlearn: 0.0278598\ttotal: 359ms\tremaining: 244ms\n",
      "595:\tlearn: 0.0277034\ttotal: 360ms\tremaining: 244ms\n",
      "596:\tlearn: 0.0275796\ttotal: 360ms\tremaining: 243ms\n",
      "597:\tlearn: 0.0274274\ttotal: 361ms\tremaining: 242ms\n",
      "598:\tlearn: 0.0272496\ttotal: 361ms\tremaining: 242ms\n",
      "599:\tlearn: 0.0271006\ttotal: 361ms\tremaining: 241ms\n",
      "600:\tlearn: 0.0269273\ttotal: 362ms\tremaining: 240ms\n",
      "601:\tlearn: 0.0268343\ttotal: 362ms\tremaining: 239ms\n",
      "602:\tlearn: 0.0266885\ttotal: 363ms\tremaining: 239ms\n",
      "603:\tlearn: 0.0265515\ttotal: 363ms\tremaining: 238ms\n",
      "604:\tlearn: 0.0264471\ttotal: 364ms\tremaining: 238ms\n",
      "605:\tlearn: 0.0262906\ttotal: 364ms\tremaining: 237ms\n",
      "606:\tlearn: 0.0261998\ttotal: 365ms\tremaining: 236ms\n",
      "607:\tlearn: 0.0260991\ttotal: 365ms\tremaining: 235ms\n",
      "608:\tlearn: 0.0260111\ttotal: 366ms\tremaining: 235ms\n",
      "609:\tlearn: 0.0259218\ttotal: 366ms\tremaining: 234ms\n",
      "610:\tlearn: 0.0257830\ttotal: 366ms\tremaining: 233ms\n",
      "611:\tlearn: 0.0256973\ttotal: 367ms\tremaining: 233ms\n",
      "612:\tlearn: 0.0255511\ttotal: 367ms\tremaining: 232ms\n",
      "613:\tlearn: 0.0254561\ttotal: 368ms\tremaining: 231ms\n",
      "614:\tlearn: 0.0252955\ttotal: 368ms\tremaining: 231ms\n",
      "615:\tlearn: 0.0252099\ttotal: 369ms\tremaining: 230ms\n",
      "616:\tlearn: 0.0250760\ttotal: 369ms\tremaining: 229ms\n",
      "617:\tlearn: 0.0249471\ttotal: 370ms\tremaining: 228ms\n",
      "618:\tlearn: 0.0248077\ttotal: 370ms\tremaining: 228ms\n",
      "619:\tlearn: 0.0247032\ttotal: 371ms\tremaining: 227ms\n",
      "620:\tlearn: 0.0246204\ttotal: 371ms\tremaining: 226ms\n",
      "621:\tlearn: 0.0245177\ttotal: 372ms\tremaining: 226ms\n",
      "622:\tlearn: 0.0243771\ttotal: 372ms\tremaining: 225ms\n",
      "623:\tlearn: 0.0242662\ttotal: 372ms\tremaining: 224ms\n",
      "624:\tlearn: 0.0241268\ttotal: 373ms\tremaining: 224ms\n",
      "625:\tlearn: 0.0239904\ttotal: 373ms\tremaining: 223ms\n",
      "626:\tlearn: 0.0238571\ttotal: 374ms\tremaining: 222ms\n",
      "627:\tlearn: 0.0237216\ttotal: 374ms\tremaining: 222ms\n",
      "628:\tlearn: 0.0236428\ttotal: 374ms\tremaining: 221ms\n",
      "629:\tlearn: 0.0235144\ttotal: 375ms\tremaining: 220ms\n",
      "630:\tlearn: 0.0234637\ttotal: 375ms\tremaining: 219ms\n",
      "631:\tlearn: 0.0233739\ttotal: 376ms\tremaining: 219ms\n",
      "632:\tlearn: 0.0232440\ttotal: 376ms\tremaining: 218ms\n",
      "633:\tlearn: 0.0231677\ttotal: 377ms\tremaining: 217ms\n",
      "634:\tlearn: 0.0231185\ttotal: 377ms\tremaining: 217ms\n",
      "635:\tlearn: 0.0230175\ttotal: 378ms\tremaining: 216ms\n",
      "636:\tlearn: 0.0229693\ttotal: 378ms\tremaining: 216ms\n",
      "637:\tlearn: 0.0229083\ttotal: 379ms\tremaining: 215ms\n",
      "638:\tlearn: 0.0228482\ttotal: 379ms\tremaining: 214ms\n",
      "639:\tlearn: 0.0227892\ttotal: 380ms\tremaining: 214ms\n",
      "640:\tlearn: 0.0227312\ttotal: 380ms\tremaining: 213ms\n",
      "641:\tlearn: 0.0226103\ttotal: 381ms\tremaining: 212ms\n",
      "642:\tlearn: 0.0225534\ttotal: 381ms\tremaining: 212ms\n",
      "643:\tlearn: 0.0225112\ttotal: 382ms\tremaining: 211ms\n",
      "644:\tlearn: 0.0224556\ttotal: 382ms\tremaining: 210ms\n",
      "645:\tlearn: 0.0224144\ttotal: 383ms\tremaining: 210ms\n",
      "646:\tlearn: 0.0223394\ttotal: 383ms\tremaining: 209ms\n",
      "647:\tlearn: 0.0223119\ttotal: 384ms\tremaining: 208ms\n",
      "648:\tlearn: 0.0221899\ttotal: 384ms\tremaining: 208ms\n",
      "649:\tlearn: 0.0221180\ttotal: 385ms\tremaining: 207ms\n",
      "650:\tlearn: 0.0219990\ttotal: 385ms\tremaining: 206ms\n",
      "651:\tlearn: 0.0219282\ttotal: 385ms\tremaining: 206ms\n",
      "652:\tlearn: 0.0218133\ttotal: 386ms\tremaining: 205ms\n",
      "653:\tlearn: 0.0217955\ttotal: 387ms\tremaining: 204ms\n",
      "654:\tlearn: 0.0216833\ttotal: 387ms\tremaining: 204ms\n",
      "655:\tlearn: 0.0216657\ttotal: 388ms\tremaining: 203ms\n",
      "656:\tlearn: 0.0215412\ttotal: 388ms\tremaining: 203ms\n",
      "657:\tlearn: 0.0214719\ttotal: 389ms\tremaining: 202ms\n",
      "658:\tlearn: 0.0213999\ttotal: 389ms\tremaining: 201ms\n",
      "659:\tlearn: 0.0213318\ttotal: 390ms\tremaining: 201ms\n",
      "660:\tlearn: 0.0213146\ttotal: 390ms\tremaining: 200ms\n",
      "661:\tlearn: 0.0212461\ttotal: 391ms\tremaining: 199ms\n",
      "662:\tlearn: 0.0211256\ttotal: 391ms\tremaining: 199ms\n",
      "663:\tlearn: 0.0210171\ttotal: 392ms\tremaining: 198ms\n",
      "664:\tlearn: 0.0209512\ttotal: 392ms\tremaining: 197ms\n",
      "665:\tlearn: 0.0209086\ttotal: 392ms\tremaining: 197ms\n",
      "666:\tlearn: 0.0208919\ttotal: 393ms\tremaining: 196ms\n",
      "667:\tlearn: 0.0208272\ttotal: 393ms\tremaining: 196ms\n",
      "668:\tlearn: 0.0208106\ttotal: 394ms\tremaining: 195ms\n",
      "669:\tlearn: 0.0207422\ttotal: 395ms\tremaining: 194ms\n",
      "670:\tlearn: 0.0206769\ttotal: 395ms\tremaining: 194ms\n",
      "671:\tlearn: 0.0205616\ttotal: 396ms\tremaining: 193ms\n",
      "672:\tlearn: 0.0204576\ttotal: 396ms\tremaining: 192ms\n",
      "673:\tlearn: 0.0203952\ttotal: 396ms\tremaining: 192ms\n",
      "674:\tlearn: 0.0203792\ttotal: 397ms\tremaining: 191ms\n",
      "675:\tlearn: 0.0203003\ttotal: 397ms\tremaining: 190ms\n",
      "676:\tlearn: 0.0201828\ttotal: 398ms\tremaining: 190ms\n",
      "677:\tlearn: 0.0201671\ttotal: 398ms\tremaining: 189ms\n",
      "678:\tlearn: 0.0200519\ttotal: 399ms\tremaining: 188ms\n",
      "679:\tlearn: 0.0200051\ttotal: 399ms\tremaining: 188ms\n",
      "680:\tlearn: 0.0199898\ttotal: 399ms\tremaining: 187ms\n",
      "681:\tlearn: 0.0198763\ttotal: 400ms\tremaining: 186ms\n",
      "682:\tlearn: 0.0198613\ttotal: 400ms\tremaining: 186ms\n",
      "683:\tlearn: 0.0197501\ttotal: 401ms\tremaining: 185ms\n",
      "684:\tlearn: 0.0196878\ttotal: 401ms\tremaining: 185ms\n",
      "685:\tlearn: 0.0195766\ttotal: 402ms\tremaining: 184ms\n",
      "686:\tlearn: 0.0195621\ttotal: 402ms\tremaining: 183ms\n",
      "687:\tlearn: 0.0194529\ttotal: 403ms\tremaining: 183ms\n",
      "688:\tlearn: 0.0194060\ttotal: 403ms\tremaining: 182ms\n",
      "689:\tlearn: 0.0193391\ttotal: 404ms\tremaining: 181ms\n",
      "690:\tlearn: 0.0192863\ttotal: 404ms\tremaining: 181ms\n",
      "691:\tlearn: 0.0191876\ttotal: 405ms\tremaining: 180ms\n",
      "692:\tlearn: 0.0191735\ttotal: 405ms\tremaining: 179ms\n",
      "693:\tlearn: 0.0190676\ttotal: 405ms\tremaining: 179ms\n",
      "694:\tlearn: 0.0190080\ttotal: 406ms\tremaining: 178ms\n",
      "695:\tlearn: 0.0189042\ttotal: 407ms\tremaining: 178ms\n",
      "696:\tlearn: 0.0188905\ttotal: 407ms\tremaining: 177ms\n",
      "697:\tlearn: 0.0187867\ttotal: 408ms\tremaining: 176ms\n",
      "698:\tlearn: 0.0187418\ttotal: 408ms\tremaining: 176ms\n",
      "699:\tlearn: 0.0186404\ttotal: 409ms\tremaining: 175ms\n",
      "700:\tlearn: 0.0186272\ttotal: 409ms\tremaining: 175ms\n",
      "701:\tlearn: 0.0185700\ttotal: 410ms\tremaining: 174ms\n",
      "702:\tlearn: 0.0185569\ttotal: 410ms\tremaining: 173ms\n",
      "703:\tlearn: 0.0184560\ttotal: 411ms\tremaining: 173ms\n",
      "704:\tlearn: 0.0184432\ttotal: 411ms\tremaining: 172ms\n",
      "705:\tlearn: 0.0183509\ttotal: 412ms\tremaining: 171ms\n",
      "706:\tlearn: 0.0182601\ttotal: 412ms\tremaining: 171ms\n",
      "707:\tlearn: 0.0181592\ttotal: 413ms\tremaining: 170ms\n",
      "708:\tlearn: 0.0180612\ttotal: 413ms\tremaining: 170ms\n",
      "709:\tlearn: 0.0179603\ttotal: 414ms\tremaining: 169ms\n",
      "710:\tlearn: 0.0178624\ttotal: 414ms\tremaining: 168ms\n",
      "711:\tlearn: 0.0177760\ttotal: 415ms\tremaining: 168ms\n",
      "712:\tlearn: 0.0176803\ttotal: 415ms\tremaining: 167ms\n",
      "713:\tlearn: 0.0175865\ttotal: 416ms\tremaining: 167ms\n",
      "714:\tlearn: 0.0174944\ttotal: 416ms\tremaining: 166ms\n",
      "715:\tlearn: 0.0174399\ttotal: 417ms\tremaining: 165ms\n",
      "716:\tlearn: 0.0173473\ttotal: 418ms\tremaining: 165ms\n",
      "717:\tlearn: 0.0172939\ttotal: 418ms\tremaining: 164ms\n",
      "718:\tlearn: 0.0171936\ttotal: 419ms\tremaining: 164ms\n",
      "719:\tlearn: 0.0171043\ttotal: 419ms\tremaining: 163ms\n",
      "720:\tlearn: 0.0170144\ttotal: 420ms\tremaining: 162ms\n",
      "721:\tlearn: 0.0169624\ttotal: 420ms\tremaining: 162ms\n",
      "722:\tlearn: 0.0169098\ttotal: 421ms\tremaining: 161ms\n",
      "723:\tlearn: 0.0168475\ttotal: 421ms\tremaining: 161ms\n",
      "724:\tlearn: 0.0167669\ttotal: 422ms\tremaining: 160ms\n",
      "725:\tlearn: 0.0167060\ttotal: 423ms\tremaining: 159ms\n",
      "726:\tlearn: 0.0166401\ttotal: 423ms\tremaining: 159ms\n",
      "727:\tlearn: 0.0165608\ttotal: 423ms\tremaining: 158ms\n",
      "728:\tlearn: 0.0164965\ttotal: 424ms\tremaining: 158ms\n",
      "729:\tlearn: 0.0164195\ttotal: 424ms\tremaining: 157ms\n",
      "730:\tlearn: 0.0163440\ttotal: 425ms\tremaining: 156ms\n",
      "731:\tlearn: 0.0163097\ttotal: 425ms\tremaining: 156ms\n",
      "732:\tlearn: 0.0162331\ttotal: 426ms\tremaining: 155ms\n",
      "733:\tlearn: 0.0161996\ttotal: 426ms\tremaining: 154ms\n",
      "734:\tlearn: 0.0161667\ttotal: 427ms\tremaining: 154ms\n",
      "735:\tlearn: 0.0160920\ttotal: 427ms\tremaining: 153ms\n",
      "736:\tlearn: 0.0160087\ttotal: 427ms\tremaining: 153ms\n",
      "737:\tlearn: 0.0159306\ttotal: 428ms\tremaining: 152ms\n",
      "738:\tlearn: 0.0158538\ttotal: 428ms\tremaining: 151ms\n",
      "739:\tlearn: 0.0157812\ttotal: 429ms\tremaining: 151ms\n",
      "740:\tlearn: 0.0157090\ttotal: 429ms\tremaining: 150ms\n",
      "741:\tlearn: 0.0156289\ttotal: 430ms\tremaining: 149ms\n",
      "742:\tlearn: 0.0155502\ttotal: 430ms\tremaining: 149ms\n",
      "743:\tlearn: 0.0154805\ttotal: 431ms\tremaining: 148ms\n",
      "744:\tlearn: 0.0154128\ttotal: 431ms\tremaining: 148ms\n",
      "745:\tlearn: 0.0153465\ttotal: 432ms\tremaining: 147ms\n",
      "746:\tlearn: 0.0152848\ttotal: 432ms\tremaining: 146ms\n",
      "747:\tlearn: 0.0152389\ttotal: 433ms\tremaining: 146ms\n",
      "748:\tlearn: 0.0151603\ttotal: 433ms\tremaining: 145ms\n",
      "749:\tlearn: 0.0150943\ttotal: 434ms\tremaining: 145ms\n",
      "750:\tlearn: 0.0150715\ttotal: 434ms\tremaining: 144ms\n",
      "751:\tlearn: 0.0150492\ttotal: 435ms\tremaining: 143ms\n",
      "752:\tlearn: 0.0149844\ttotal: 436ms\tremaining: 143ms\n",
      "753:\tlearn: 0.0148922\ttotal: 436ms\tremaining: 142ms\n",
      "754:\tlearn: 0.0148339\ttotal: 436ms\tremaining: 142ms\n",
      "755:\tlearn: 0.0148123\ttotal: 437ms\tremaining: 141ms\n",
      "756:\tlearn: 0.0147493\ttotal: 437ms\tremaining: 140ms\n",
      "757:\tlearn: 0.0146593\ttotal: 438ms\tremaining: 140ms\n",
      "758:\tlearn: 0.0146156\ttotal: 439ms\tremaining: 139ms\n",
      "759:\tlearn: 0.0145728\ttotal: 439ms\tremaining: 139ms\n",
      "760:\tlearn: 0.0145113\ttotal: 440ms\tremaining: 138ms\n",
      "761:\tlearn: 0.0144415\ttotal: 440ms\tremaining: 137ms\n",
      "762:\tlearn: 0.0143988\ttotal: 441ms\tremaining: 137ms\n",
      "763:\tlearn: 0.0143117\ttotal: 441ms\tremaining: 136ms\n",
      "764:\tlearn: 0.0142436\ttotal: 442ms\tremaining: 136ms\n",
      "765:\tlearn: 0.0142018\ttotal: 442ms\tremaining: 135ms\n",
      "766:\tlearn: 0.0141801\ttotal: 443ms\tremaining: 134ms\n",
      "767:\tlearn: 0.0140999\ttotal: 443ms\tremaining: 134ms\n",
      "768:\tlearn: 0.0140552\ttotal: 444ms\tremaining: 133ms\n",
      "769:\tlearn: 0.0139936\ttotal: 444ms\tremaining: 133ms\n",
      "770:\tlearn: 0.0139152\ttotal: 445ms\tremaining: 132ms\n",
      "771:\tlearn: 0.0138747\ttotal: 445ms\tremaining: 131ms\n",
      "772:\tlearn: 0.0138050\ttotal: 446ms\tremaining: 131ms\n",
      "773:\tlearn: 0.0137843\ttotal: 446ms\tremaining: 130ms\n",
      "774:\tlearn: 0.0137446\ttotal: 447ms\tremaining: 130ms\n",
      "775:\tlearn: 0.0136854\ttotal: 447ms\tremaining: 129ms\n",
      "776:\tlearn: 0.0136132\ttotal: 448ms\tremaining: 128ms\n",
      "777:\tlearn: 0.0135496\ttotal: 448ms\tremaining: 128ms\n",
      "778:\tlearn: 0.0135015\ttotal: 449ms\tremaining: 127ms\n",
      "779:\tlearn: 0.0134318\ttotal: 449ms\tremaining: 127ms\n",
      "780:\tlearn: 0.0133868\ttotal: 450ms\tremaining: 126ms\n",
      "781:\tlearn: 0.0133429\ttotal: 450ms\tremaining: 126ms\n",
      "782:\tlearn: 0.0132878\ttotal: 451ms\tremaining: 125ms\n",
      "783:\tlearn: 0.0132224\ttotal: 451ms\tremaining: 124ms\n",
      "784:\tlearn: 0.0131621\ttotal: 452ms\tremaining: 124ms\n",
      "785:\tlearn: 0.0131014\ttotal: 452ms\tremaining: 123ms\n",
      "786:\tlearn: 0.0130384\ttotal: 453ms\tremaining: 122ms\n",
      "787:\tlearn: 0.0129799\ttotal: 453ms\tremaining: 122ms\n",
      "788:\tlearn: 0.0129208\ttotal: 453ms\tremaining: 121ms\n",
      "789:\tlearn: 0.0128602\ttotal: 454ms\tremaining: 121ms\n",
      "790:\tlearn: 0.0128022\ttotal: 454ms\tremaining: 120ms\n",
      "791:\tlearn: 0.0127455\ttotal: 455ms\tremaining: 119ms\n",
      "792:\tlearn: 0.0126752\ttotal: 455ms\tremaining: 119ms\n",
      "793:\tlearn: 0.0126320\ttotal: 456ms\tremaining: 118ms\n",
      "794:\tlearn: 0.0125700\ttotal: 456ms\tremaining: 118ms\n",
      "795:\tlearn: 0.0125011\ttotal: 456ms\tremaining: 117ms\n",
      "796:\tlearn: 0.0124333\ttotal: 457ms\tremaining: 116ms\n",
      "797:\tlearn: 0.0123913\ttotal: 457ms\tremaining: 116ms\n",
      "798:\tlearn: 0.0123316\ttotal: 458ms\tremaining: 115ms\n",
      "799:\tlearn: 0.0122651\ttotal: 458ms\tremaining: 115ms\n",
      "800:\tlearn: 0.0122110\ttotal: 459ms\tremaining: 114ms\n",
      "801:\tlearn: 0.0121530\ttotal: 459ms\tremaining: 113ms\n",
      "802:\tlearn: 0.0120811\ttotal: 460ms\tremaining: 113ms\n",
      "803:\tlearn: 0.0120409\ttotal: 460ms\tremaining: 112ms\n",
      "804:\tlearn: 0.0119765\ttotal: 461ms\tremaining: 112ms\n",
      "805:\tlearn: 0.0119208\ttotal: 461ms\tremaining: 111ms\n",
      "806:\tlearn: 0.0118512\ttotal: 462ms\tremaining: 110ms\n",
      "807:\tlearn: 0.0118121\ttotal: 462ms\tremaining: 110ms\n",
      "808:\tlearn: 0.0117497\ttotal: 463ms\tremaining: 109ms\n",
      "809:\tlearn: 0.0117114\ttotal: 463ms\tremaining: 109ms\n",
      "810:\tlearn: 0.0116473\ttotal: 464ms\tremaining: 108ms\n",
      "811:\tlearn: 0.0116084\ttotal: 464ms\tremaining: 107ms\n",
      "812:\tlearn: 0.0115342\ttotal: 465ms\tremaining: 107ms\n",
      "813:\tlearn: 0.0114777\ttotal: 465ms\tremaining: 106ms\n",
      "814:\tlearn: 0.0114223\ttotal: 466ms\tremaining: 106ms\n",
      "815:\tlearn: 0.0113679\ttotal: 466ms\tremaining: 105ms\n",
      "816:\tlearn: 0.0113146\ttotal: 467ms\tremaining: 105ms\n",
      "817:\tlearn: 0.0112622\ttotal: 467ms\tremaining: 104ms\n",
      "818:\tlearn: 0.0112255\ttotal: 468ms\tremaining: 103ms\n",
      "819:\tlearn: 0.0111897\ttotal: 468ms\tremaining: 103ms\n",
      "820:\tlearn: 0.0111540\ttotal: 469ms\tremaining: 102ms\n",
      "821:\tlearn: 0.0111193\ttotal: 469ms\tremaining: 102ms\n"
     ]
    },
    {
     "name": "stdout",
     "output_type": "stream",
     "text": [
      "822:\tlearn: 0.0110597\ttotal: 470ms\tremaining: 101ms\n",
      "823:\tlearn: 0.0110253\ttotal: 471ms\tremaining: 101ms\n",
      "824:\tlearn: 0.0109773\ttotal: 471ms\tremaining: 99.9ms\n",
      "825:\tlearn: 0.0109392\ttotal: 472ms\tremaining: 99.3ms\n",
      "826:\tlearn: 0.0109020\ttotal: 472ms\tremaining: 98.8ms\n",
      "827:\tlearn: 0.0108463\ttotal: 473ms\tremaining: 98.2ms\n",
      "828:\tlearn: 0.0108100\ttotal: 473ms\tremaining: 97.6ms\n",
      "829:\tlearn: 0.0107534\ttotal: 474ms\tremaining: 97ms\n",
      "830:\tlearn: 0.0107274\ttotal: 474ms\tremaining: 96.4ms\n",
      "831:\tlearn: 0.0106814\ttotal: 475ms\tremaining: 95.9ms\n",
      "832:\tlearn: 0.0106244\ttotal: 475ms\tremaining: 95.2ms\n",
      "833:\tlearn: 0.0105709\ttotal: 476ms\tremaining: 94.7ms\n",
      "834:\tlearn: 0.0105027\ttotal: 476ms\tremaining: 94.1ms\n",
      "835:\tlearn: 0.0104776\ttotal: 477ms\tremaining: 93.5ms\n",
      "836:\tlearn: 0.0104332\ttotal: 477ms\tremaining: 92.9ms\n",
      "837:\tlearn: 0.0103922\ttotal: 478ms\tremaining: 92.3ms\n",
      "838:\tlearn: 0.0103460\ttotal: 478ms\tremaining: 91.8ms\n",
      "839:\tlearn: 0.0102952\ttotal: 479ms\tremaining: 91.2ms\n",
      "840:\tlearn: 0.0102716\ttotal: 479ms\tremaining: 90.6ms\n",
      "841:\tlearn: 0.0102268\ttotal: 480ms\tremaining: 90ms\n",
      "842:\tlearn: 0.0101742\ttotal: 481ms\tremaining: 89.5ms\n",
      "843:\tlearn: 0.0101090\ttotal: 481ms\tremaining: 88.9ms\n",
      "844:\tlearn: 0.0100861\ttotal: 482ms\tremaining: 88.4ms\n",
      "845:\tlearn: 0.0100624\ttotal: 482ms\tremaining: 87.8ms\n",
      "846:\tlearn: 0.0100240\ttotal: 483ms\tremaining: 87.2ms\n",
      "847:\tlearn: 0.0099759\ttotal: 483ms\tremaining: 86.6ms\n",
      "848:\tlearn: 0.0099123\ttotal: 484ms\tremaining: 86.1ms\n",
      "849:\tlearn: 0.0098893\ttotal: 484ms\tremaining: 85.5ms\n",
      "850:\tlearn: 0.0098435\ttotal: 485ms\tremaining: 84.9ms\n",
      "851:\tlearn: 0.0097813\ttotal: 486ms\tremaining: 84.3ms\n",
      "852:\tlearn: 0.0097445\ttotal: 486ms\tremaining: 83.8ms\n",
      "853:\tlearn: 0.0096991\ttotal: 486ms\tremaining: 83.2ms\n",
      "854:\tlearn: 0.0096547\ttotal: 487ms\tremaining: 82.6ms\n",
      "855:\tlearn: 0.0096192\ttotal: 488ms\tremaining: 82ms\n",
      "856:\tlearn: 0.0095590\ttotal: 488ms\tremaining: 81.4ms\n",
      "857:\tlearn: 0.0095160\ttotal: 489ms\tremaining: 80.9ms\n",
      "858:\tlearn: 0.0094816\ttotal: 489ms\tremaining: 80.3ms\n",
      "859:\tlearn: 0.0094398\ttotal: 490ms\tremaining: 79.7ms\n",
      "860:\tlearn: 0.0093988\ttotal: 490ms\tremaining: 79.1ms\n",
      "861:\tlearn: 0.0093578\ttotal: 491ms\tremaining: 78.6ms\n",
      "862:\tlearn: 0.0093146\ttotal: 491ms\tremaining: 78ms\n",
      "863:\tlearn: 0.0092567\ttotal: 492ms\tremaining: 77.4ms\n",
      "864:\tlearn: 0.0092240\ttotal: 492ms\tremaining: 76.8ms\n",
      "865:\tlearn: 0.0091845\ttotal: 493ms\tremaining: 76.2ms\n",
      "866:\tlearn: 0.0091454\ttotal: 493ms\tremaining: 75.7ms\n",
      "867:\tlearn: 0.0091040\ttotal: 494ms\tremaining: 75.1ms\n",
      "868:\tlearn: 0.0090478\ttotal: 494ms\tremaining: 74.5ms\n",
      "869:\tlearn: 0.0090096\ttotal: 495ms\tremaining: 73.9ms\n",
      "870:\tlearn: 0.0089784\ttotal: 495ms\tremaining: 73.4ms\n",
      "871:\tlearn: 0.0089410\ttotal: 496ms\tremaining: 72.8ms\n",
      "872:\tlearn: 0.0089011\ttotal: 496ms\tremaining: 72.2ms\n",
      "873:\tlearn: 0.0088640\ttotal: 497ms\tremaining: 71.6ms\n",
      "874:\tlearn: 0.0088049\ttotal: 497ms\tremaining: 71.1ms\n",
      "875:\tlearn: 0.0087687\ttotal: 498ms\tremaining: 70.5ms\n",
      "876:\tlearn: 0.0087161\ttotal: 498ms\tremaining: 69.9ms\n",
      "877:\tlearn: 0.0086678\ttotal: 499ms\tremaining: 69.3ms\n",
      "878:\tlearn: 0.0086207\ttotal: 499ms\tremaining: 68.8ms\n",
      "879:\tlearn: 0.0085810\ttotal: 500ms\tremaining: 68.2ms\n",
      "880:\tlearn: 0.0085463\ttotal: 501ms\tremaining: 67.6ms\n",
      "881:\tlearn: 0.0085088\ttotal: 501ms\tremaining: 67.1ms\n",
      "882:\tlearn: 0.0084853\ttotal: 502ms\tremaining: 66.5ms\n",
      "883:\tlearn: 0.0084333\ttotal: 502ms\tremaining: 65.9ms\n",
      "884:\tlearn: 0.0084103\ttotal: 503ms\tremaining: 65.3ms\n",
      "885:\tlearn: 0.0083592\ttotal: 503ms\tremaining: 64.8ms\n",
      "886:\tlearn: 0.0083314\ttotal: 504ms\tremaining: 64.2ms\n",
      "887:\tlearn: 0.0082923\ttotal: 504ms\tremaining: 63.6ms\n",
      "888:\tlearn: 0.0082699\ttotal: 505ms\tremaining: 63ms\n",
      "889:\tlearn: 0.0082342\ttotal: 505ms\tremaining: 62.5ms\n",
      "890:\tlearn: 0.0081846\ttotal: 506ms\tremaining: 61.9ms\n",
      "891:\tlearn: 0.0081579\ttotal: 506ms\tremaining: 61.3ms\n",
      "892:\tlearn: 0.0081092\ttotal: 507ms\tremaining: 60.7ms\n",
      "893:\tlearn: 0.0080625\ttotal: 507ms\tremaining: 60.2ms\n",
      "894:\tlearn: 0.0080149\ttotal: 508ms\tremaining: 59.6ms\n",
      "895:\tlearn: 0.0079644\ttotal: 508ms\tremaining: 59ms\n",
      "896:\tlearn: 0.0079428\ttotal: 509ms\tremaining: 58.4ms\n",
      "897:\tlearn: 0.0079166\ttotal: 509ms\tremaining: 57.9ms\n",
      "898:\tlearn: 0.0078721\ttotal: 510ms\tremaining: 57.3ms\n",
      "899:\tlearn: 0.0078465\ttotal: 510ms\tremaining: 56.7ms\n",
      "900:\tlearn: 0.0078214\ttotal: 511ms\tremaining: 56.1ms\n",
      "901:\tlearn: 0.0077967\ttotal: 511ms\tremaining: 55.5ms\n",
      "902:\tlearn: 0.0077724\ttotal: 511ms\tremaining: 54.9ms\n",
      "903:\tlearn: 0.0077485\ttotal: 512ms\tremaining: 54.4ms\n",
      "904:\tlearn: 0.0077040\ttotal: 512ms\tremaining: 53.8ms\n",
      "905:\tlearn: 0.0076636\ttotal: 513ms\tremaining: 53.2ms\n",
      "906:\tlearn: 0.0076256\ttotal: 513ms\tremaining: 52.6ms\n",
      "907:\tlearn: 0.0076023\ttotal: 514ms\tremaining: 52.1ms\n",
      "908:\tlearn: 0.0075818\ttotal: 514ms\tremaining: 51.5ms\n",
      "909:\tlearn: 0.0075614\ttotal: 515ms\tremaining: 50.9ms\n",
      "910:\tlearn: 0.0075244\ttotal: 515ms\tremaining: 50.3ms\n",
      "911:\tlearn: 0.0074819\ttotal: 515ms\tremaining: 49.7ms\n",
      "912:\tlearn: 0.0074566\ttotal: 516ms\tremaining: 49.2ms\n",
      "913:\tlearn: 0.0074367\ttotal: 516ms\tremaining: 48.6ms\n",
      "914:\tlearn: 0.0074170\ttotal: 517ms\tremaining: 48ms\n",
      "915:\tlearn: 0.0073814\ttotal: 517ms\tremaining: 47.4ms\n",
      "916:\tlearn: 0.0073400\ttotal: 518ms\tremaining: 46.9ms\n",
      "917:\tlearn: 0.0073155\ttotal: 518ms\tremaining: 46.3ms\n",
      "918:\tlearn: 0.0072731\ttotal: 519ms\tremaining: 45.7ms\n",
      "919:\tlearn: 0.0072330\ttotal: 519ms\tremaining: 45.1ms\n",
      "920:\tlearn: 0.0072045\ttotal: 519ms\tremaining: 44.6ms\n",
      "921:\tlearn: 0.0071632\ttotal: 520ms\tremaining: 44ms\n",
      "922:\tlearn: 0.0071227\ttotal: 520ms\tremaining: 43.4ms\n",
      "923:\tlearn: 0.0070837\ttotal: 521ms\tremaining: 42.8ms\n",
      "924:\tlearn: 0.0070488\ttotal: 521ms\tremaining: 42.3ms\n",
      "925:\tlearn: 0.0070149\ttotal: 522ms\tremaining: 41.7ms\n",
      "926:\tlearn: 0.0069966\ttotal: 522ms\tremaining: 41.1ms\n",
      "927:\tlearn: 0.0069595\ttotal: 523ms\tremaining: 40.6ms\n",
      "928:\tlearn: 0.0069416\ttotal: 523ms\tremaining: 40ms\n",
      "929:\tlearn: 0.0069051\ttotal: 524ms\tremaining: 39.4ms\n",
      "930:\tlearn: 0.0068731\ttotal: 524ms\tremaining: 38.8ms\n",
      "931:\tlearn: 0.0068507\ttotal: 524ms\tremaining: 38.3ms\n",
      "932:\tlearn: 0.0068357\ttotal: 525ms\tremaining: 37.7ms\n",
      "933:\tlearn: 0.0068000\ttotal: 526ms\tremaining: 37.1ms\n",
      "934:\tlearn: 0.0067813\ttotal: 526ms\tremaining: 36.6ms\n",
      "935:\tlearn: 0.0067439\ttotal: 527ms\tremaining: 36ms\n",
      "936:\tlearn: 0.0067105\ttotal: 527ms\tremaining: 35.4ms\n",
      "937:\tlearn: 0.0066806\ttotal: 527ms\tremaining: 34.9ms\n",
      "938:\tlearn: 0.0066532\ttotal: 528ms\tremaining: 34.3ms\n",
      "939:\tlearn: 0.0066373\ttotal: 528ms\tremaining: 33.7ms\n",
      "940:\tlearn: 0.0066031\ttotal: 529ms\tremaining: 33.2ms\n",
      "941:\tlearn: 0.0065820\ttotal: 529ms\tremaining: 32.6ms\n",
      "942:\tlearn: 0.0065539\ttotal: 530ms\tremaining: 32ms\n",
      "943:\tlearn: 0.0065225\ttotal: 530ms\tremaining: 31.5ms\n",
      "944:\tlearn: 0.0065014\ttotal: 531ms\tremaining: 30.9ms\n",
      "945:\tlearn: 0.0064740\ttotal: 531ms\tremaining: 30.3ms\n",
      "946:\tlearn: 0.0064533\ttotal: 532ms\tremaining: 29.8ms\n",
      "947:\tlearn: 0.0064238\ttotal: 532ms\tremaining: 29.2ms\n",
      "948:\tlearn: 0.0063984\ttotal: 533ms\tremaining: 28.6ms\n",
      "949:\tlearn: 0.0063784\ttotal: 534ms\tremaining: 28.1ms\n",
      "950:\tlearn: 0.0063500\ttotal: 534ms\tremaining: 27.5ms\n",
      "951:\tlearn: 0.0063235\ttotal: 534ms\tremaining: 26.9ms\n",
      "952:\tlearn: 0.0062981\ttotal: 535ms\tremaining: 26.4ms\n",
      "953:\tlearn: 0.0062789\ttotal: 536ms\tremaining: 25.8ms\n",
      "954:\tlearn: 0.0062511\ttotal: 536ms\tremaining: 25.3ms\n",
      "955:\tlearn: 0.0062251\ttotal: 537ms\tremaining: 24.7ms\n",
      "956:\tlearn: 0.0062008\ttotal: 537ms\tremaining: 24.1ms\n",
      "957:\tlearn: 0.0061737\ttotal: 538ms\tremaining: 23.6ms\n",
      "958:\tlearn: 0.0061483\ttotal: 538ms\tremaining: 23ms\n",
      "959:\tlearn: 0.0061229\ttotal: 539ms\tremaining: 22.4ms\n",
      "960:\tlearn: 0.0060966\ttotal: 539ms\tremaining: 21.9ms\n"
     ]
    },
    {
     "name": "stdout",
     "output_type": "stream",
     "text": [
      "961:\tlearn: 0.0060718\ttotal: 540ms\tremaining: 21.3ms\n",
      "962:\tlearn: 0.0060470\ttotal: 541ms\tremaining: 20.8ms\n",
      "963:\tlearn: 0.0060220\ttotal: 541ms\tremaining: 20.2ms\n",
      "964:\tlearn: 0.0059989\ttotal: 542ms\tremaining: 19.7ms\n",
      "965:\tlearn: 0.0059744\ttotal: 543ms\tremaining: 19.1ms\n",
      "966:\tlearn: 0.0059506\ttotal: 543ms\tremaining: 18.5ms\n",
      "967:\tlearn: 0.0059327\ttotal: 544ms\tremaining: 18ms\n",
      "968:\tlearn: 0.0059089\ttotal: 544ms\tremaining: 17.4ms\n",
      "969:\tlearn: 0.0058862\ttotal: 545ms\tremaining: 16.8ms\n",
      "970:\tlearn: 0.0058624\ttotal: 545ms\tremaining: 16.3ms\n",
      "971:\tlearn: 0.0058390\ttotal: 546ms\tremaining: 15.7ms\n",
      "972:\tlearn: 0.0058216\ttotal: 546ms\tremaining: 15.2ms\n",
      "973:\tlearn: 0.0058095\ttotal: 547ms\tremaining: 14.6ms\n",
      "974:\tlearn: 0.0057841\ttotal: 547ms\tremaining: 14ms\n",
      "975:\tlearn: 0.0057616\ttotal: 548ms\tremaining: 13.5ms\n",
      "976:\tlearn: 0.0057449\ttotal: 548ms\tremaining: 12.9ms\n",
      "977:\tlearn: 0.0057331\ttotal: 549ms\tremaining: 12.3ms\n",
      "978:\tlearn: 0.0057003\ttotal: 549ms\tremaining: 11.8ms\n",
      "979:\tlearn: 0.0056681\ttotal: 550ms\tremaining: 11.2ms\n",
      "980:\tlearn: 0.0056391\ttotal: 550ms\tremaining: 10.7ms\n",
      "981:\tlearn: 0.0056168\ttotal: 551ms\tremaining: 10.1ms\n",
      "982:\tlearn: 0.0055938\ttotal: 551ms\tremaining: 9.54ms\n",
      "983:\tlearn: 0.0055656\ttotal: 552ms\tremaining: 8.97ms\n",
      "984:\tlearn: 0.0055436\ttotal: 552ms\tremaining: 8.41ms\n",
      "985:\tlearn: 0.0055213\ttotal: 553ms\tremaining: 7.85ms\n",
      "986:\tlearn: 0.0054973\ttotal: 553ms\tremaining: 7.29ms\n",
      "987:\tlearn: 0.0054766\ttotal: 554ms\tremaining: 6.73ms\n",
      "988:\tlearn: 0.0054535\ttotal: 554ms\tremaining: 6.17ms\n",
      "989:\tlearn: 0.0054300\ttotal: 555ms\tremaining: 5.6ms\n",
      "990:\tlearn: 0.0054027\ttotal: 555ms\tremaining: 5.04ms\n",
      "991:\tlearn: 0.0053828\ttotal: 556ms\tremaining: 4.48ms\n",
      "992:\tlearn: 0.0053604\ttotal: 556ms\tremaining: 3.92ms\n",
      "993:\tlearn: 0.0053441\ttotal: 557ms\tremaining: 3.36ms\n",
      "994:\tlearn: 0.0053282\ttotal: 557ms\tremaining: 2.8ms\n",
      "995:\tlearn: 0.0053184\ttotal: 558ms\tremaining: 2.24ms\n",
      "996:\tlearn: 0.0052918\ttotal: 558ms\tremaining: 1.68ms\n",
      "997:\tlearn: 0.0052770\ttotal: 559ms\tremaining: 1.12ms\n",
      "998:\tlearn: 0.0052491\ttotal: 559ms\tremaining: 559us\n",
      "999:\tlearn: 0.0052282\ttotal: 560ms\tremaining: 0us\n"
     ]
    },
    {
     "data": {
      "text/plain": [
       "<catboost.core.CatBoostRegressor at 0x7fbf6990a5e0>"
      ]
     },
     "execution_count": 9,
     "metadata": {},
     "output_type": "execute_result"
    }
   ],
   "source": [
    "#Train the Model \n",
    "prior_model = ctb.CatBoostRegressor()\n",
    "prior_model.fit(X_train,Y_train)"
   ]
  },
  {
   "cell_type": "code",
   "execution_count": 10,
   "id": "af65dcda",
   "metadata": {
    "execution": {
     "iopub.execute_input": "2022-06-07T06:37:41.481806Z",
     "iopub.status.busy": "2022-06-07T06:37:41.481432Z",
     "iopub.status.idle": "2022-06-07T06:37:41.488877Z",
     "shell.execute_reply": "2022-06-07T06:37:41.489177Z"
    },
    "id": "af65dcda",
    "papermill": {
     "duration": 0.020119,
     "end_time": "2022-06-07T06:37:41.489295",
     "exception": false,
     "start_time": "2022-06-07T06:37:41.469176",
     "status": "completed"
    },
    "tags": []
   },
   "outputs": [
    {
     "data": {
      "application/scrapbook.scrap.json+json": {
       "data": 0.12753654934262557,
       "encoder": "json",
       "name": "Prior Model MSE",
       "version": 1
      }
     },
     "metadata": {
      "scrapbook": {
       "data": true,
       "display": false,
       "name": "Prior Model MSE"
      }
     },
     "output_type": "display_data"
    },
    {
     "data": {
      "application/scrapbook.scrap.json+json": {
       "data": 0.09960284539768521,
       "encoder": "json",
       "name": "ABC Pre-generator MSE",
       "version": 1
      }
     },
     "metadata": {
      "scrapbook": {
       "data": true,
       "display": false,
       "name": "ABC Pre-generator MSE"
      }
     },
     "output_type": "display_data"
    },
    {
     "data": {
      "application/scrapbook.scrap.json+json": {
       "data": 0.29931268279496104,
       "encoder": "json",
       "name": "Prior Model MSE",
       "version": 1
      }
     },
     "metadata": {
      "scrapbook": {
       "data": true,
       "display": false,
       "name": "Prior Model MSE"
      }
     },
     "output_type": "display_data"
    },
    {
     "data": {
      "application/scrapbook.scrap.json+json": {
       "data": 0.2603873498242011,
       "encoder": "json",
       "name": "ABC Pre-generator MSE",
       "version": 1
      }
     },
     "metadata": {
      "scrapbook": {
       "data": true,
       "display": false,
       "name": "ABC Pre-generator MSE"
      }
     },
     "output_type": "display_data"
    }
   ],
   "source": [
    "y_pred = prior_model.predict(X_test)\n",
    "y_abc = y_pred + np.random.normal(0,variance, y_pred.shape) + bias \n",
    "mse = mean_squared_error(y_pred,Y_test)\n",
    "sb.glue(\"Prior Model MSE\",mse)\n",
    "mse = mean_squared_error(y_abc,Y_test)\n",
    "sb.glue(\"ABC Pre-generator MSE\",mse)\n",
    "mae = mean_absolute_error(y_pred,Y_test)\n",
    "sb.glue(\"Prior Model MSE\",mae)\n",
    "mae = mean_absolute_error(y_abc,Y_test)\n",
    "sb.glue(\"ABC Pre-generator MSE\",mae)"
   ]
  },
  {
   "cell_type": "markdown",
   "id": "25609da2",
   "metadata": {
    "papermill": {
     "duration": 0.009568,
     "end_time": "2022-06-07T06:37:41.508624",
     "exception": false,
     "start_time": "2022-06-07T06:37:41.499056",
     "status": "completed"
    },
    "tags": []
   },
   "source": [
    "# ABC GAN Model"
   ]
  },
  {
   "cell_type": "code",
   "execution_count": 11,
   "id": "dfc3464d",
   "metadata": {
    "execution": {
     "iopub.execute_input": "2022-06-07T06:37:41.530620Z",
     "iopub.status.busy": "2022-06-07T06:37:41.530258Z",
     "iopub.status.idle": "2022-06-07T06:37:41.532770Z",
     "shell.execute_reply": "2022-06-07T06:37:41.533017Z"
    },
    "papermill": {
     "duration": 0.015028,
     "end_time": "2022-06-07T06:37:41.533126",
     "exception": false,
     "start_time": "2022-06-07T06:37:41.518098",
     "status": "completed"
    },
    "tags": []
   },
   "outputs": [],
   "source": [
    "gen = network.Generator(n_features+1).to(device)\n",
    "disc = network.Discriminator(n_features+1).to(device)\n",
    "\n",
    "criterion = torch.nn.BCELoss()\n",
    "gen_opt = torch.optim.Adam(gen.parameters(), lr=0.001, betas=(0.5, 0.999))\n",
    "disc_opt = torch.optim.Adam(disc.parameters(), lr=0.001, betas=(0.5, 0.999))"
   ]
  },
  {
   "cell_type": "code",
   "execution_count": 12,
   "id": "b75fdd85",
   "metadata": {
    "execution": {
     "iopub.execute_input": "2022-06-07T06:37:41.554794Z",
     "iopub.status.busy": "2022-06-07T06:37:41.554435Z",
     "iopub.status.idle": "2022-06-07T06:37:54.980248Z",
     "shell.execute_reply": "2022-06-07T06:37:54.980544Z"
    },
    "papermill": {
     "duration": 13.437727,
     "end_time": "2022-06-07T06:37:54.980681",
     "exception": false,
     "start_time": "2022-06-07T06:37:41.542954",
     "status": "completed"
    },
    "tags": []
   },
   "outputs": [
    {
     "data": {
      "image/png": "[encoded data removed]",
      "text/plain": [
       "<Figure size 432x288 with 1 Axes>"
      ]
     },
     "metadata": {
      "needs_background": "light"
     },
     "output_type": "display_data"
    },
    {
     "data": {
      "image/png": "[encoded data removed]",
      "text/plain": [
       "<Figure size 432x288 with 1 Axes>"
      ]
     },
     "metadata": {
      "needs_background": "light"
     },
     "output_type": "display_data"
    }
   ],
   "source": [
    "#Training the ABC_GAN \n",
    "ABC_train_test2.training_GAN(disc,gen,disc_opt,gen_opt,train_data,batch_size,n_epochs,criterion,prior_model,variance,bias,device)"
   ]
  },
  {
   "cell_type": "code",
   "execution_count": 13,
   "id": "1fa7c368",
   "metadata": {
    "execution": {
     "iopub.execute_input": "2022-06-07T06:37:55.005392Z",
     "iopub.status.busy": "2022-06-07T06:37:55.004946Z",
     "iopub.status.idle": "2022-06-07T06:37:55.173346Z",
     "shell.execute_reply": "2022-06-07T06:37:55.173671Z"
    },
    "papermill": {
     "duration": 0.181577,
     "end_time": "2022-06-07T06:37:55.173795",
     "exception": false,
     "start_time": "2022-06-07T06:37:54.992218",
     "status": "completed"
    },
    "tags": []
   },
   "outputs": [
    {
     "data": {
      "application/scrapbook.scrap.json+json": {
       "data": 0.09284513689623727,
       "encoder": "json",
       "name": "ABC-GAN Model 1 MSE",
       "version": 1
      }
     },
     "metadata": {
      "scrapbook": {
       "data": true,
       "display": false,
       "name": "ABC-GAN Model 1 MSE"
      }
     },
     "output_type": "display_data"
    },
    {
     "data": {
      "application/scrapbook.scrap.json+json": {
       "data": 0.2631418826878071,
       "encoder": "json",
       "name": "ABC-GAN Model 1 MAE",
       "version": 1
      }
     },
     "metadata": {
      "scrapbook": {
       "data": true,
       "display": false,
       "name": "ABC-GAN Model 1 MAE"
      }
     },
     "output_type": "display_data"
    },
    {
     "data": {
      "application/scrapbook.scrap.json+json": {
       "data": 5.262837653756142,
       "encoder": "json",
       "name": "ABC-GAN Model 1 Manhattan Distance",
       "version": 1
      }
     },
     "metadata": {
      "scrapbook": {
       "data": true,
       "display": false,
       "name": "ABC-GAN Model 1 Manhattan Distance"
      }
     },
     "output_type": "display_data"
    },
    {
     "data": {
      "application/scrapbook.scrap.json+json": {
       "data": 1.3609650572351117,
       "encoder": "json",
       "name": "ABC-GAN Model 1 Euclidean distance",
       "version": 1
      }
     },
     "metadata": {
      "scrapbook": {
       "data": true,
       "display": false,
       "name": "ABC-GAN Model 1 Euclidean distance"
      }
     },
     "output_type": "display_data"
    },
    {
     "data": {
      "application/scrapbook.scrap.json+json": {
       "data": [
        [
         0.0950201253019389,
         0.08853221491658828,
         0.09662189001637063,
         0.10152887957036846,
         0.0907064884972287,
         0.09939211198327183,
         0.09251971067719586,
         0.08869427356435954,
         0.08838159596012711,
         0.0891839152266225,
         0.0989486716822288,
         0.08403749590246172,
         0.08217008733999838,
         0.08718088789815628,
         0.09199989451336914,
         0.09317048460588083,
         0.08948112022883677,
         0.10509173177004678,
         0.09094817670699822,
         0.08450952697602791,
         0.08921575930078159,
         0.08923350720217642,
         0.0925760451819555,
         0.10050109537408866,
         0.08929979375263014,
         0.08207978195583272,
         0.08623846429878942,
         0.11387302445233498,
         0.0816973706422992,
         0.10846971385563334,
         0.10554468649130691,
         0.09007781991299235,
         0.08720949445980368,
         0.08512478499308007,
         0.09191364045477349,
         0.09141348386482853,
         0.08516398695196906,
         0.0887516047554649,
         0.10116179054923005,
         0.09862192728780009,
         0.09111929155679496,
         0.0970879275730122,
         0.08124481436352946,
         0.08221044428984796,
         0.0844260691674307,
         0.10086999890294748,
         0.09555047397406909,
         0.1055333335383768,
         0.0996752461590279,
         0.07919927628978321,
         0.08591839272464838,
         0.08388883048755277,
         0.10266676570900106,
         0.09771485746193462,
         0.09458484760012391,
         0.08684646456133112,
         0.08770999139454003,
         0.08539284446893478,
         0.08447909466998649,
         0.1107986646699,
         0.11334713716425866,
         0.09421568405084844,
         0.09553714676255451,
         0.10640232880694298,
         0.09036289393294132,
         0.09572102229778881,
         0.07854327790556229,
         0.09929225163855651,
         0.06997073830030928,
         0.08368606948541438,
         0.09445339340303534,
         0.09293622166040341,
         0.09378435391683952,
         0.10150533391018021,
         0.10185665101670316,
         0.08086313180897227,
         0.11606110393943472,
         0.0878905461152586,
         0.09952352207965531,
         0.10196794332666652,
         0.10233519941246687,
         0.0884326419702338,
         0.08268271473849112,
         0.08636130856717875,
         0.08638293792785548,
         0.08782035087093636,
         0.09626985046055458,
         0.09467316302672306,
         0.10951890004871542,
         0.09163721767209046,
         0.10561022115329047,
         0.07757675601115524,
         0.12098354790157533,
         0.09753024618486196,
         0.07721145076600698,
         0.08985894337793035,
         0.07833812304520077,
         0.09888899236034913,
         0.1011763259594332,
         0.0800993580077312
        ],
        [
         0.2583509974181652,
         0.26599157229065895,
         0.25718076080083846,
         0.2839544877409935,
         0.2621253952383995,
         0.27365662753582,
         0.2524939373135567,
         0.25691801235079764,
         0.25565458089113235,
         0.25938074439764025,
         0.28220146596431733,
         0.24622032195329666,
         0.2524610534310341,
         0.26187978982925414,
         0.26678160279989244,
         0.2577813185751438,
         0.26461120694875717,
         0.27100712433457375,
         0.25613121688365936,
         0.25603740364313127,
         0.26569597274065015,
         0.25667589753866193,
         0.26333084851503374,
         0.2786202602088451,
         0.25821369513869286,
         0.25347635000944135,
         0.26556181684136393,
         0.30730375051498415,
         0.25092979669570925,
         0.2939697131514549,
         0.29200392961502075,
         0.25807484835386274,
         0.26721629202365876,
         0.2592472657561302,
         0.26581832244992254,
         0.264765565097332,
         0.2533952623605728,
         0.2568772755563259,
         0.27677682489156724,
         0.28374083787202836,
         0.256362546980381,
         0.25120566263794897,
         0.24979786574840546,
         0.24177491515874863,
         0.26230779737234117,
         0.26312514692544936,
         0.26137071996927264,
         0.2925275683403015,
         0.2689764082431793,
         0.2352752909064293,
         0.2463125079870224,
         0.25432177931070327,
         0.276075941324234,
         0.27520080879330633,
         0.2628953754901886,
         0.24616287797689437,
         0.24623397663235663,
         0.2450626388192177,
         0.24984318315982817,
         0.277485029399395,
         0.2868495836853981,
         0.2579354278743267,
         0.2701525650918484,
         0.2833579882979393,
         0.2623579129576683,
         0.26758446246385575,
         0.23335705697536469,
         0.2677551731467247,
         0.22714716345071792,
         0.25676904916763305,
         0.27618075907230377,
         0.2659246362745762,
         0.26946598291397095,
         0.26200714856386187,
         0.26987043842673303,
         0.23552896678447724,
         0.2918231800198555,
         0.2596429854631424,
         0.2577652558684349,
         0.2730848491191864,
         0.29091750979423525,
         0.2502627320587635,
         0.2488206744194031,
         0.2679262302815914,
         0.2516257867217064,
         0.2537349104881287,
         0.25854603201150894,
         0.266047377884388,
         0.2812726393342018,
         0.2610160619020462,
         0.2901633992791176,
         0.2478964075446129,
         0.2945632994174957,
         0.2682704724371433,
         0.24041126444935798,
         0.25918793976306914,
         0.23275142386555672,
         0.2661843463778496,
         0.28619438111782075,
         0.24900260716676711
        ],
        [
         5.167019948363304,
         5.319831445813179,
         5.143615216016769,
         5.67908975481987,
         5.24250790476799,
         5.4731325507164,
         5.049878746271133,
         5.138360247015953,
         5.113091617822647,
         5.187614887952805,
         5.644029319286346,
         4.924406439065933,
         5.049221068620682,
         5.237595796585083,
         5.3356320559978485,
         5.155626371502876,
         5.292224138975143,
         5.420142486691475,
         5.122624337673187,
         5.120748072862625,
         5.3139194548130035,
         5.133517950773239,
         5.266616970300674,
         5.572405204176903,
         5.164273902773857,
         5.0695270001888275,
         5.311236336827278,
         6.146075010299683,
         5.018595933914185,
         5.8793942630290985,
         5.840078592300415,
         5.161496967077255,
         5.344325840473175,
         5.184945315122604,
         5.316366448998451,
         5.29531130194664,
         5.067905247211456,
         5.137545511126518,
         5.535536497831345,
         5.674816757440567,
         5.12725093960762,
         5.02411325275898,
         4.995957314968109,
         4.8354983031749725,
         5.246155947446823,
         5.262502938508987,
         5.227414399385452,
         5.85055136680603,
         5.379528164863586,
         4.705505818128586,
         4.926250159740448,
         5.0864355862140656,
         5.52151882648468,
         5.504016175866127,
         5.257907509803772,
         4.923257559537888,
         4.924679532647133,
         4.901252776384354,
         4.996863663196564,
         5.5497005879879,
         5.736991673707962,
         5.158708557486534,
         5.4030513018369675,
         5.667159765958786,
         5.247158259153366,
         5.351689249277115,
         4.667141139507294,
         5.355103462934494,
         4.5429432690143585,
         5.135380983352661,
         5.523615181446075,
         5.318492725491524,
         5.389319658279419,
         5.240142971277237,
         5.39740876853466,
         4.710579335689545,
         5.83646360039711,
         5.192859709262848,
         5.155305117368698,
         5.461696982383728,
         5.818350195884705,
         5.00525464117527,
         4.9764134883880615,
         5.358524605631828,
         5.032515734434128,
         5.074698209762573,
         5.170920640230179,
         5.320947557687759,
         5.625452786684036,
         5.220321238040924,
         5.803267985582352,
         4.957928150892258,
         5.8912659883499146,
         5.3654094487428665,
         4.80822528898716,
         5.183758795261383,
         4.655028477311134,
         5.323686927556992,
         5.723887622356415,
         4.980052143335342
        ],
        [
         1.378550871763091,
         1.3306555896744152,
         1.39012150559849,
         1.4249833653090023,
         1.3468963471420412,
         1.4099085926631685,
         1.3602919589352565,
         1.3318729185951603,
         1.329523192427474,
         1.3355441978955434,
         1.4067599061832037,
         1.2964373945737737,
         1.2819523184580492,
         1.3204611913884958,
         1.3564652189670705,
         1.3650676511138986,
         1.3377676945481736,
         1.4497705457764465,
         1.3486895618117478,
         1.300073282365482,
         1.3357826118106313,
         1.3359154703960607,
         1.3607060313084196,
         1.417752414027842,
         1.3364115664916265,
         1.2812476884336823,
         1.3133047193914245,
         1.5091257366590431,
         1.2782595248407047,
         1.4728863761718576,
         1.45289150655723,
         1.3422206965547234,
         1.3206778143044857,
         1.3047971872523336,
         1.35582919613625,
         1.3521352289237087,
         1.3050975975149832,
         1.3323033044728583,
         1.4224049391733007,
         1.4044353120581958,
         1.3499577145732748,
         1.3934699679075413,
         1.2747141982697883,
         1.2822670883232399,
         1.2994311768418572,
         1.420352061306967,
         1.3823926647235154,
         1.4528133640518097,
         1.4119153385315133,
         1.2585648675359027,
         1.3108653075327639,
         1.2952901643072319,
         1.4329463751934408,
         1.3979617838977902,
         1.3753897454912474,
         1.3179261326897735,
         1.3244620900164716,
         1.3068499873278094,
         1.2998391798217692,
         1.4886145550134864,
         1.5056369892125967,
         1.3727030563880045,
         1.3822962545167696,
         1.458782566436431,
         1.3443429170635097,
         1.3836258330761884,
         1.253341756310403,
         1.409200139359605,
         1.1829686242695474,
         1.2937238459997122,
         1.374433653568155,
         1.3633504440194635,
         1.3695572563192786,
         1.424818121096024,
         1.427281689202963,
         1.2717164134269265,
         1.52355573537324,
         1.3258246197386636,
         1.4108403317147926,
         1.4280612264652137,
         1.4306306260699642,
         1.3299070792369954,
         1.2859449034736372,
         1.314239769350926,
         1.314404336023398,
         1.3252950680579503,
         1.3875867573636942,
         1.3760317076777195,
         1.479992567878065,
         1.353788888062614,
         1.4533425002613145,
         1.2456063263419566,
         1.555529156921048,
         1.3966405850100587,
         1.2426701152438404,
         1.3405890002378085,
         1.251703823156267,
         1.4063356097343844,
         1.4225071244772955,
         1.2656963143482025
        ]
       ],
       "encoder": "json",
       "name": "ABC_GAN_1 Metrics",
       "version": 1
      }
     },
     "metadata": {
      "scrapbook": {
       "data": true,
       "display": false,
       "name": "ABC_GAN_1 Metrics"
      }
     },
     "output_type": "display_data"
    },
    {
     "name": "stdout",
     "output_type": "stream",
     "text": [
      "MSE\n",
      "0.09284513689623727\n"
     ]
    }
   ],
   "source": [
    "ABC_GAN1_metrics=ABC_train_test2.test_generator(gen,test_data,prior_model,variance,bias,\"1\",device)\n",
    "sb.glue(\"ABC_GAN_1 Metrics\",ABC_GAN1_metrics)\n",
    "\n",
    "print(\"MSE\")\n",
    "print(mean(ABC_GAN1_metrics[0]))"
   ]
  },
  {
   "cell_type": "code",
   "execution_count": 14,
   "id": "eb22ce5c",
   "metadata": {
    "execution": {
     "iopub.execute_input": "2022-06-07T06:37:55.200743Z",
     "iopub.status.busy": "2022-06-07T06:37:55.200370Z",
     "iopub.status.idle": "2022-06-07T06:37:55.495105Z",
     "shell.execute_reply": "2022-06-07T06:37:55.495399Z"
    },
    "papermill": {
     "duration": 0.309404,
     "end_time": "2022-06-07T06:37:55.495522",
     "exception": false,
     "start_time": "2022-06-07T06:37:55.186118",
     "status": "completed"
    },
    "tags": []
   },
   "outputs": [
    {
     "data": {
      "image/png": "[encoded data removed]",
      "text/plain": [
       "<Figure size 432x288 with 1 Axes>"
      ]
     },
     "metadata": {
      "needs_background": "light"
     },
     "output_type": "display_data"
    },
    {
     "data": {
      "image/png": "[encoded data removed]",
      "text/plain": [
       "<Figure size 432x288 with 1 Axes>"
      ]
     },
     "metadata": {
      "needs_background": "light"
     },
     "output_type": "display_data"
    },
    {
     "data": {
      "image/png": "[encoded data removed]",
      "text/plain": [
       "<Figure size 432x288 with 1 Axes>"
      ]
     },
     "metadata": {
      "needs_background": "light"
     },
     "output_type": "display_data"
    },
    {
     "data": {
      "image/png": "[encoded data removed]",
      "text/plain": [
       "<Figure size 432x288 with 1 Axes>"
      ]
     },
     "metadata": {
      "needs_background": "light"
     },
     "output_type": "display_data"
    }
   ],
   "source": [
    "sanityChecks.discProbVsError(train_data,disc,device)\n",
    "sanityChecks.discProbVsError(test_data,disc,device)"
   ]
  },
  {
   "cell_type": "markdown",
   "id": "130f3a4d",
   "metadata": {
    "id": "130f3a4d",
    "papermill": {
     "duration": 0.037883,
     "end_time": "2022-06-07T06:37:55.548088",
     "exception": false,
     "start_time": "2022-06-07T06:37:55.510205",
     "status": "completed"
    },
    "tags": []
   },
   "source": [
    "# ABC - GAN Model with skip connection"
   ]
  },
  {
   "cell_type": "code",
   "execution_count": 15,
   "id": "4e43dad1",
   "metadata": {
    "execution": {
     "iopub.execute_input": "2022-06-07T06:37:55.580287Z",
     "iopub.status.busy": "2022-06-07T06:37:55.579907Z",
     "iopub.status.idle": "2022-06-07T06:37:55.582285Z",
     "shell.execute_reply": "2022-06-07T06:37:55.582536Z"
    },
    "id": "4e43dad1",
    "papermill": {
     "duration": 0.020068,
     "end_time": "2022-06-07T06:37:55.582652",
     "exception": false,
     "start_time": "2022-06-07T06:37:55.562584",
     "status": "completed"
    },
    "tags": []
   },
   "outputs": [],
   "source": [
    "#Generator\n",
    "gen3 = network.GeneratorWithSkipConnection(n_features+1).to(device)\n",
    "constraints=network.weightConstraint()\n",
    "#Discriminator \n",
    "disc3 = network.Discriminator(n_features+1).to(device)\n",
    "\n",
    "criterion = torch.nn.BCELoss()\n",
    "gen_opt = torch.optim.Adam(gen3.parameters(), lr=0.001, betas=(0.5, 0.999))\n",
    "disc_opt = torch.optim.Adam(disc3.parameters(), lr=0.001, betas=(0.5, 0.999))\n"
   ]
  },
  {
   "cell_type": "code",
   "execution_count": 16,
   "id": "26acbc37",
   "metadata": {
    "execution": {
     "iopub.execute_input": "2022-06-07T06:37:55.614120Z",
     "iopub.status.busy": "2022-06-07T06:37:55.613738Z",
     "iopub.status.idle": "2022-06-07T06:38:31.216302Z",
     "shell.execute_reply": "2022-06-07T06:38:31.216614Z"
    },
    "id": "26acbc37",
    "papermill": {
     "duration": 35.619326,
     "end_time": "2022-06-07T06:38:31.216738",
     "exception": false,
     "start_time": "2022-06-07T06:37:55.597412",
     "status": "completed"
    },
    "tags": []
   },
   "outputs": [
    {
     "data": {
      "image/png": "[encoded data removed]",
      "text/plain": [
       "<Figure size 432x288 with 1 Axes>"
      ]
     },
     "metadata": {
      "needs_background": "light"
     },
     "output_type": "display_data"
    },
    {
     "data": {
      "image/png": "[encoded data removed]",
      "text/plain": [
       "<Figure size 432x288 with 1 Axes>"
      ]
     },
     "metadata": {
      "needs_background": "light"
     },
     "output_type": "display_data"
    }
   ],
   "source": [
    "ABC_train_test2.training_GAN_skip_connection(disc3,gen3,disc_opt,gen_opt,train_data,batch_size,n_epochs,criterion,prior_model,variance,bias,device)"
   ]
  },
  {
   "cell_type": "code",
   "execution_count": 17,
   "id": "c5e0717b",
   "metadata": {
    "execution": {
     "iopub.execute_input": "2022-06-07T06:38:31.250257Z",
     "iopub.status.busy": "2022-06-07T06:38:31.249810Z",
     "iopub.status.idle": "2022-06-07T06:38:31.534615Z",
     "shell.execute_reply": "2022-06-07T06:38:31.534938Z"
    },
    "id": "c5e0717b",
    "papermill": {
     "duration": 0.302765,
     "end_time": "2022-06-07T06:38:31.535061",
     "exception": false,
     "start_time": "2022-06-07T06:38:31.232296",
     "status": "completed"
    },
    "tags": []
   },
   "outputs": [
    {
     "data": {
      "application/scrapbook.scrap.json+json": {
       "data": 0.13913799385737216,
       "encoder": "json",
       "name": "ABC-GAN Model 3 MSE",
       "version": 1
      }
     },
     "metadata": {
      "scrapbook": {
       "data": true,
       "display": false,
       "name": "ABC-GAN Model 3 MSE"
      }
     },
     "output_type": "display_data"
    },
    {
     "data": {
      "application/scrapbook.scrap.json+json": {
       "data": 0.3108202418901492,
       "encoder": "json",
       "name": "ABC-GAN Model 3 MAE",
       "version": 1
      }
     },
     "metadata": {
      "scrapbook": {
       "data": true,
       "display": false,
       "name": "ABC-GAN Model 3 MAE"
      }
     },
     "output_type": "display_data"
    },
    {
     "data": {
      "application/scrapbook.scrap.json+json": {
       "data": 6.216404837802984,
       "encoder": "json",
       "name": "ABC-GAN Model 3 Manhattan Distance",
       "version": 1
      }
     },
     "metadata": {
      "scrapbook": {
       "data": true,
       "display": false,
       "name": "ABC-GAN Model 3 Manhattan Distance"
      }
     },
     "output_type": "display_data"
    },
    {
     "data": {
      "application/scrapbook.scrap.json+json": {
       "data": 1.6647388177267217,
       "encoder": "json",
       "name": "ABC-GAN Model 3 Euclidean distance",
       "version": 1
      }
     },
     "metadata": {
      "scrapbook": {
       "data": true,
       "display": false,
       "name": "ABC-GAN Model 3 Euclidean distance"
      }
     },
     "output_type": "display_data"
    },
    {
     "data": {
      "application/scrapbook.scrap.json+json": {
       "data": [
        [
         0.10915886816403239,
         0.14363639787293422,
         0.1396676280994222,
         0.10968636118653634,
         0.11803188384818428,
         0.16294380170519338,
         0.1616011990222509,
         0.1324803564769885,
         0.16652469236945208,
         0.15254274571358373,
         0.13090727320371467,
         0.18362018027574484,
         0.13720414114827972,
         0.10500011092998654,
         0.15358377218918431,
         0.12688975670803226,
         0.14409112268484453,
         0.14866872743135034,
         0.15302413281362445,
         0.11563394993930046,
         0.16060772806006582,
         0.14376745470305105,
         0.15727464431095778,
         0.149920868215883,
         0.13888790756015393,
         0.13915004266612546,
         0.17972151218878774,
         0.1463442469119344,
         0.14598852165668147,
         0.14124505933581136,
         0.1249823854340415,
         0.14265854543162865,
         0.178515343332369,
         0.14834567840840868,
         0.13897250259809618,
         0.1611625033497865,
         0.11884792872163552,
         0.1420952199897985,
         0.1242911844798467,
         0.13409638393240703,
         0.12844396602863983,
         0.11042152032556274,
         0.11309921247726215,
         0.10539191332942592,
         0.14355217148783103,
         0.1642528205385853,
         0.12642726547522437,
         0.14623505463552114,
         0.1286213558441029,
         0.1704631758219257,
         0.10894591415726233,
         0.1423328486672571,
         0.11442620159322496,
         0.1071437530764185,
         0.15250324545731178,
         0.1529085655488044,
         0.1302739119052813,
         0.1385373503080292,
         0.15812243451812205,
         0.13981878134408807,
         0.13140450914959503,
         0.1431104919130119,
         0.15460877765872155,
         0.12211475772504125,
         0.13679444959748926,
         0.12080824976833052,
         0.14129035436836604,
         0.1347100458525713,
         0.14793205608989182,
         0.11250182867300151,
         0.13416110456804337,
         0.12261644397682514,
         0.1414319781326247,
         0.14496879342826346,
         0.10692409566309072,
         0.152022127260221,
         0.1264491993430707,
         0.14372993968527886,
         0.16748243231951823,
         0.16583792860939,
         0.11959942484627535,
         0.14092107159304285,
         0.12640509749105264,
         0.14598130818221167,
         0.1445519485982552,
         0.15938136187638627,
         0.12550504723691094,
         0.1540707491332266,
         0.15632955906806464,
         0.14594181773326606,
         0.11143212171111191,
         0.1344847394441714,
         0.15356362279828262,
         0.16504890691568172,
         0.13430704095163337,
         0.13140202521893468,
         0.1211668437430036,
         0.12619817047663168,
         0.1371639346816102,
         0.13575080464512432
        ],
        [
         0.27922220900654793,
         0.3179575242102146,
         0.3125983279198408,
         0.2881423469632864,
         0.29031697399914264,
         0.3613284273538738,
         0.33866391484625635,
         0.30557650309056045,
         0.31945538707077503,
         0.3170983038842678,
         0.3093930847011507,
         0.3660142159089446,
         0.303768352791667,
         0.2779307905584574,
         0.33676815330982207,
         0.28814360247924925,
         0.3005612431676127,
         0.3270219389349222,
         0.34122392497956755,
         0.2937373649328947,
         0.3434390466660261,
         0.32560267522931097,
         0.3140172274783254,
         0.33220518492162227,
         0.3155207151547074,
         0.3082710713148117,
         0.3639484613202512,
         0.3044276718981564,
         0.3047267086687498,
         0.3138669278472662,
         0.28156041726469994,
         0.3100689245387912,
         0.35270901247859,
         0.3160704616457224,
         0.3016803191974759,
         0.3281693036202341,
         0.27469323759432884,
         0.3090285238577053,
         0.3042796393856406,
         0.3154099889099598,
         0.29186674691736697,
         0.27227177917957307,
         0.29699330739676955,
         0.2733393307775259,
         0.3081865951418877,
         0.3400644395500422,
         0.30895859450101854,
         0.3214770473423414,
         0.3088882867479697,
         0.3395142536610365,
         0.2687572125345469,
         0.3085230439901352,
         0.2604885697364807,
         0.2724983938038349,
         0.32861252743750813,
         0.32216118834912777,
         0.2893925629556179,
         0.32380040604621174,
         0.32483093147166076,
         0.32059467788785695,
         0.29332596641033887,
         0.3176749984268099,
         0.3258677765727043,
         0.27549890987575054,
         0.3104536717000883,
         0.30498502324335275,
         0.3107657268643379,
         0.3123025976121426,
         0.32376096975058316,
         0.2797238153871149,
         0.3035601444542408,
         0.2856521174311638,
         0.2982507303357124,
         0.32042304407805206,
         0.2533154908567667,
         0.3281695317476988,
         0.2928306478075683,
         0.29636296071112156,
         0.33333067744970324,
         0.34706352958455683,
         0.30860810466110705,
         0.30471890792250633,
         0.29201685097068547,
         0.33480496853590014,
         0.3262001594761387,
         0.32934338338673114,
         0.2942559704184532,
         0.348488127917517,
         0.331145029613981,
         0.32656672932207587,
         0.26821605637669566,
         0.323634946718812,
         0.3291516093537211,
         0.34595599975436925,
         0.29659540615975855,
         0.2949499409645796,
         0.3038506852462888,
         0.30777624575421214,
         0.3118316143751144,
         0.31475711725652217
        ],
        [
         5.584444180130959,
         6.359150484204292,
         6.251966558396816,
         5.762846939265728,
         5.806339479982853,
         7.226568547077477,
         6.7732782969251275,
         6.111530061811209,
         6.389107741415501,
         6.341966077685356,
         6.187861694023013,
         7.320284318178892,
         6.07536705583334,
         5.5586158111691475,
         6.735363066196442,
         5.762872049584985,
         6.011224863352254,
         6.540438778698444,
         6.8244784995913506,
         5.874747298657894,
         6.868780933320522,
         6.51205350458622,
         6.280344549566507,
         6.6441036984324455,
         6.310414303094149,
         6.165421426296234,
         7.2789692264050245,
         6.088553437963128,
         6.094534173374996,
         6.277338556945324,
         5.631208345293999,
         6.201378490775824,
         7.0541802495718,
         6.321409232914448,
         6.033606383949518,
         6.563386072404683,
         5.493864751886576,
         6.180570477154106,
         6.085592787712812,
         6.308199778199196,
         5.83733493834734,
         5.445435583591461,
         5.9398661479353905,
         5.466786615550518,
         6.163731902837753,
         6.801288791000843,
         6.1791718900203705,
         6.429540946846828,
         6.177765734959394,
         6.79028507322073,
         5.375144250690937,
         6.170460879802704,
         5.209771394729614,
         5.449967876076698,
         6.572250548750162,
         6.443223766982555,
         5.787851259112358,
         6.476008120924234,
         6.496618629433215,
         6.411893557757139,
         5.866519328206778,
         6.353499968536198,
         6.517355531454086,
         5.509978197515011,
         6.209073434001766,
         6.099700464867055,
         6.215314537286758,
         6.246051952242851,
         6.475219395011663,
         5.594476307742298,
         6.071202889084816,
         5.713042348623276,
         5.965014606714249,
         6.408460881561041,
         5.066309817135334,
         6.563390634953976,
         5.856612956151366,
         5.927259214222431,
         6.666613548994064,
         6.941270591691136,
         6.172162093222141,
         6.094378158450127,
         5.84033701941371,
         6.696099370718002,
         6.524003189522773,
         6.586867667734623,
         5.885119408369064,
         6.9697625583503395,
         6.6229005922796205,
         6.531334586441517,
         5.364321127533913,
         6.47269893437624,
         6.583032187074423,
         6.919119995087385,
         5.931908123195171,
         5.898998819291592,
         6.0770137049257755,
         6.155524915084243,
         6.236632287502289,
         6.295142345130444
        ],
        [
         1.4775579052208574,
         1.6949123745665098,
         1.6713325707316435,
         1.4811236355317292,
         1.5364366817294117,
         1.8052357281263485,
         1.7977830738009015,
         1.6277613859346123,
         1.82496406742408,
         1.746669663752043,
         1.6180684361529005,
         1.916351639317507,
         1.6565273384298838,
         1.4491384401083738,
         1.7526195947163452,
         1.5930458669356151,
         1.6975931355000498,
         1.7243475718737817,
         1.7494235211270281,
         1.5207494858739914,
         1.7922484652528836,
         1.6956854348790702,
         1.7735537449480225,
         1.731593879729788,
         1.6666607786838563,
         1.668232853447776,
         1.8958982683086545,
         1.71081411562995,
         1.7087335758197149,
         1.68074423596103,
         1.581027421862388,
         1.6891331826213625,
         1.889525566550339,
         1.7224730965005444,
         1.6671682734391042,
         1.795341211857994,
         1.5417388152448879,
         1.6857948866324068,
         1.5766495138733065,
         1.6376592071148808,
         1.6027723857656135,
         1.4860788695460463,
         1.5039894446256075,
         1.4518396146229509,
         1.6944153651795715,
         1.8124724579346594,
         1.5901400282693618,
         1.710175749070961,
         1.603878772501855,
         1.8464191063890434,
         1.4761159450210024,
         1.6872038920489552,
         1.5127868428382432,
         1.4638562298014002,
         1.7464435029929355,
         1.7487627943709483,
         1.61414938531278,
         1.6645560988325336,
         1.7783274980617156,
         1.6722367137704404,
         1.6211385452797982,
         1.6918066787491524,
         1.7584582887218083,
         1.5627844235533015,
         1.654052294200454,
         1.5544018127133699,
         1.6810137082627614,
         1.6414021192417858,
         1.7200700921177126,
         1.5000121911038025,
         1.6380543615401983,
         1.5659913408242405,
         1.6818559874889687,
         1.7027553754327922,
         1.4623549204149497,
         1.7436864813390107,
         1.5902779589937772,
         1.6954641823717709,
         1.830204536763682,
         1.8211970163021354,
         1.5466054755255159,
         1.6788154847572907,
         1.5900006131511562,
         1.7086913599723719,
         1.7003055525302222,
         1.7853927404153198,
         1.5843298093320781,
         1.7553959617888302,
         1.768216949743807,
         1.7084602291728423,
         1.4928638364640756,
         1.6400288987952096,
         1.7525046236645576,
         1.816859416221749,
         1.6389450323402146,
         1.6211232230705641,
         1.556707061351002,
         1.5886986528390565,
         1.6562846052632996,
         1.64773058868933
        ]
       ],
       "encoder": "json",
       "name": "ABC_GAN_3 Metrics",
       "version": 1
      }
     },
     "metadata": {
      "scrapbook": {
       "data": true,
       "display": false,
       "name": "ABC_GAN_3 Metrics"
      }
     },
     "output_type": "display_data"
    },
    {
     "name": "stdout",
     "output_type": "stream",
     "text": [
      "MSE\n",
      "0.13913799385737216\n"
     ]
    }
   ],
   "source": [
    "ABC_GAN3_metrics=ABC_train_test2.test_generator(gen3,test_data,prior_model,variance,bias,\"3\",device)\n",
    "sb.glue(\"ABC_GAN_3 Metrics\",ABC_GAN3_metrics)\n",
    "\n",
    "print(\"MSE\")\n",
    "print(mean(ABC_GAN3_metrics[0]))"
   ]
  },
  {
   "cell_type": "code",
   "execution_count": 18,
   "id": "c8e46b48",
   "metadata": {
    "execution": {
     "iopub.execute_input": "2022-06-07T06:38:31.571709Z",
     "iopub.status.busy": "2022-06-07T06:38:31.571338Z",
     "iopub.status.idle": "2022-06-07T06:38:31.859863Z",
     "shell.execute_reply": "2022-06-07T06:38:31.860249Z"
    },
    "id": "c8e46b48",
    "papermill": {
     "duration": 0.308147,
     "end_time": "2022-06-07T06:38:31.860371",
     "exception": false,
     "start_time": "2022-06-07T06:38:31.552224",
     "status": "completed"
    },
    "tags": []
   },
   "outputs": [
    {
     "data": {
      "image/png": "[encoded data removed]",
      "text/plain": [
       "<Figure size 432x288 with 1 Axes>"
      ]
     },
     "metadata": {
      "needs_background": "light"
     },
     "output_type": "display_data"
    },
    {
     "data": {
      "image/png": "[encoded data removed]",
      "text/plain": [
       "<Figure size 432x288 with 1 Axes>"
      ]
     },
     "metadata": {
      "needs_background": "light"
     },
     "output_type": "display_data"
    },
    {
     "data": {
      "image/png": "[encoded data removed]",
      "text/plain": [
       "<Figure size 432x288 with 1 Axes>"
      ]
     },
     "metadata": {
      "needs_background": "light"
     },
     "output_type": "display_data"
    },
    {
     "data": {
      "image/png": "[encoded data removed]",
      "text/plain": [
       "<Figure size 432x288 with 1 Axes>"
      ]
     },
     "metadata": {
      "needs_background": "light"
     },
     "output_type": "display_data"
    }
   ],
   "source": [
    "sanityChecks.discProbVsError(train_data,disc3,device)\n",
    "sanityChecks.discProbVsError(test_data,disc3,device)"
   ]
  },
  {
   "cell_type": "markdown",
   "id": "a5bd74c3",
   "metadata": {
    "id": "a5bd74c3",
    "papermill": {
     "duration": 0.019084,
     "end_time": "2022-06-07T06:38:31.898894",
     "exception": false,
     "start_time": "2022-06-07T06:38:31.879810",
     "status": "completed"
    },
    "tags": []
   },
   "source": [
    "## Skip Connection Model Analysis - ABC-GAN "
   ]
  },
  {
   "cell_type": "markdown",
   "id": "5744a8bf",
   "metadata": {
    "id": "5744a8bf",
    "papermill": {
     "duration": 0.018809,
     "end_time": "2022-06-07T06:38:31.936675",
     "exception": false,
     "start_time": "2022-06-07T06:38:31.917866",
     "status": "completed"
    },
    "tags": []
   },
   "source": [
    "### Weight Analysis \n",
    "\n",
    "Study the weights of the skip connection layer\n",
    "\n",
    "Equation of the skip connection is \n",
    "\n",
    "$output = y_{gan} * w + y_{abc} * (1-w)$"
   ]
  },
  {
   "cell_type": "code",
   "execution_count": 19,
   "id": "52c31dea",
   "metadata": {
    "execution": {
     "iopub.execute_input": "2022-06-07T06:38:31.977634Z",
     "iopub.status.busy": "2022-06-07T06:38:31.977237Z",
     "iopub.status.idle": "2022-06-07T06:38:31.980239Z",
     "shell.execute_reply": "2022-06-07T06:38:31.980478Z"
    },
    "id": "52c31dea",
    "papermill": {
     "duration": 0.024961,
     "end_time": "2022-06-07T06:38:31.980591",
     "exception": false,
     "start_time": "2022-06-07T06:38:31.955630",
     "status": "completed"
    },
    "tags": []
   },
   "outputs": [
    {
     "name": "stdout",
     "output_type": "stream",
     "text": [
      "Weight of the node at skip connection\n",
      "Parameter containing:\n",
      "tensor([[0.]], requires_grad=True)\n"
     ]
    },
    {
     "data": {
      "application/scrapbook.scrap.json+json": {
       "data": 0.0,
       "encoder": "json",
       "name": "Skip Connection Weight",
       "version": 1
      }
     },
     "metadata": {
      "scrapbook": {
       "data": true,
       "display": false,
       "name": "Skip Connection Weight"
      }
     },
     "output_type": "display_data"
    }
   ],
   "source": [
    "print(\"Weight of the node at skip connection\")\n",
    "for name,param in gen3.named_parameters():\n",
    "    if(name == \"skipNode.weight\"):\n",
    "        print(param)\n",
    "        sb.glue(\"Skip Connection Weight\",param.item())"
   ]
  }
 ],
 "metadata": {
  "colab": {
   "collapsed_sections": [],
   "name": "ABC_GAN_Model-Catboost_Pre-gen.ipynb",
   "provenance": []
  },
  "interpreter": {
   "hash": "31f2aee4e71d21fbe5cf8b01ff0e069b9275f58929596ceb00d14d90e3e16cd6"
  },
  "kernelspec": {
   "display_name": "Python 3 (ipykernel)",
   "language": "python",
   "name": "python3"
  },
  "language_info": {
   "codemirror_mode": {
    "name": "ipython",
    "version": 3
   },
   "file_extension": ".py",
   "mimetype": "text/x-python",
   "name": "python",
   "nbconvert_exporter": "python",
   "pygments_lexer": "ipython3",
   "version": "3.8.11"
  },
  "papermill": {
   "default_parameters": {},
   "duration": 54.403362,
   "end_time": "2022-06-07T06:38:32.307551",
   "environment_variables": {},
   "exception": null,
   "input_path": "ABC_GAN-Catboost.ipynb",
   "output_path": "./ABC_GAN_Catboost/ABC-GAN_output_5_7.ipynb",
   "parameters": {
    "bias": 0.01,
    "variance": 0.1
   },
   "start_time": "2022-06-07T06:37:37.904189",
   "version": "2.3.3"
  }
 },
 "nbformat": 4,
 "nbformat_minor": 5
}