{
 "cells": [
  {
   "cell_type": "markdown",
   "id": "622780e6",
   "metadata": {
    "id": "622780e6",
    "papermill": {
     "duration": 0.033462,
     "end_time": "2022-06-07T06:32:03.231912",
     "exception": false,
     "start_time": "2022-06-07T06:32:03.198450",
     "status": "completed"
    },
    "tags": []
   },
   "source": [
    "## Import Libraries "
   ]
  },
  {
   "cell_type": "code",
   "execution_count": 1,
   "id": "a62397e3",
   "metadata": {
    "execution": {
     "iopub.execute_input": "2022-06-07T06:32:03.270585Z",
     "iopub.status.busy": "2022-06-07T06:32:03.270032Z",
     "iopub.status.idle": "2022-06-07T06:32:03.272229Z",
     "shell.execute_reply": "2022-06-07T06:32:03.272571Z"
    },
    "id": "a62397e3",
    "papermill": {
     "duration": 0.023402,
     "end_time": "2022-06-07T06:32:03.272774",
     "exception": false,
     "start_time": "2022-06-07T06:32:03.249372",
     "status": "completed"
    },
    "tags": []
   },
   "outputs": [],
   "source": [
    "import warnings\n",
    "import sys\n",
    "sys.path.insert(0, '../../src')\n",
    "warnings.filterwarnings('ignore')"
   ]
  },
  {
   "cell_type": "code",
   "execution_count": 2,
   "id": "d6a4e155",
   "metadata": {
    "execution": {
     "iopub.execute_input": "2022-06-07T06:32:03.293450Z",
     "iopub.status.busy": "2022-06-07T06:32:03.293056Z",
     "iopub.status.idle": "2022-06-07T06:32:04.873685Z",
     "shell.execute_reply": "2022-06-07T06:32:04.873916Z"
    },
    "id": "d6a4e155",
    "papermill": {
     "duration": 1.591788,
     "end_time": "2022-06-07T06:32:04.874048",
     "exception": false,
     "start_time": "2022-06-07T06:32:03.282260",
     "status": "completed"
    },
    "tags": []
   },
   "outputs": [],
   "source": [
    "import ABC_train_test2\n",
    "import friedman1Dataset\n",
    "import network\n",
    "import dataset\n",
    "import sanityChecks\n",
    "import torch \n",
    "import scrapbook as sb\n",
    "from statistics import mean \n",
    "import catboost as ctb \n",
    "from sklearn.model_selection import train_test_split\n",
    "from sklearn.metrics import mean_squared_error,mean_absolute_error\n",
    "import numpy as np"
   ]
  },
  {
   "cell_type": "markdown",
   "id": "2fa5b0f7",
   "metadata": {
    "id": "2fa5b0f7",
    "papermill": {
     "duration": 0.006819,
     "end_time": "2022-06-07T06:32:04.888017",
     "exception": false,
     "start_time": "2022-06-07T06:32:04.881198",
     "status": "completed"
    },
    "tags": []
   },
   "source": [
    "## Parameters "
   ]
  },
  {
   "cell_type": "code",
   "execution_count": 3,
   "id": "783186fb",
   "metadata": {
    "execution": {
     "iopub.execute_input": "2022-06-07T06:32:04.903790Z",
     "iopub.status.busy": "2022-06-07T06:32:04.903416Z",
     "iopub.status.idle": "2022-06-07T06:32:04.904705Z",
     "shell.execute_reply": "2022-06-07T06:32:04.904946Z"
    },
    "id": "783186fb",
    "papermill": {
     "duration": 0.01027,
     "end_time": "2022-06-07T06:32:04.905059",
     "exception": false,
     "start_time": "2022-06-07T06:32:04.894789",
     "status": "completed"
    },
    "tags": [
     "parameters"
    ]
   },
   "outputs": [],
   "source": [
    "variance = 1\n",
    "bias = 1 "
   ]
  },
  {
   "cell_type": "code",
   "execution_count": 4,
   "id": "da78c008",
   "metadata": {
    "execution": {
     "iopub.execute_input": "2022-06-07T06:32:04.920724Z",
     "iopub.status.busy": "2022-06-07T06:32:04.920355Z",
     "iopub.status.idle": "2022-06-07T06:32:04.921617Z",
     "shell.execute_reply": "2022-06-07T06:32:04.921870Z"
    },
    "papermill": {
     "duration": 0.009954,
     "end_time": "2022-06-07T06:32:04.921979",
     "exception": false,
     "start_time": "2022-06-07T06:32:04.912025",
     "status": "completed"
    },
    "tags": [
     "injected-parameters"
    ]
   },
   "outputs": [],
   "source": [
    "# Parameters\n",
    "variance = 0.1\n",
    "bias = 1\n"
   ]
  },
  {
   "cell_type": "markdown",
   "id": "391cdbfd",
   "metadata": {
    "id": "391cdbfd",
    "papermill": {
     "duration": 0.006774,
     "end_time": "2022-06-07T06:32:04.935729",
     "exception": false,
     "start_time": "2022-06-07T06:32:04.928955",
     "status": "completed"
    },
    "tags": []
   },
   "source": [
    "## Dataset \n"
   ]
  },
  {
   "cell_type": "code",
   "execution_count": 5,
   "id": "5b51f161",
   "metadata": {
    "execution": {
     "iopub.execute_input": "2022-06-07T06:32:04.951396Z",
     "iopub.status.busy": "2022-06-07T06:32:04.950970Z",
     "iopub.status.idle": "2022-06-07T06:32:04.952070Z",
     "shell.execute_reply": "2022-06-07T06:32:04.952362Z"
    },
    "id": "5b51f161",
    "papermill": {
     "duration": 0.009865,
     "end_time": "2022-06-07T06:32:04.952468",
     "exception": false,
     "start_time": "2022-06-07T06:32:04.942603",
     "status": "completed"
    },
    "tags": []
   },
   "outputs": [],
   "source": [
    "#Parameters \n",
    "n_features = 5\n",
    "n_samples= 100\n",
    "n_target = 1 "
   ]
  },
  {
   "cell_type": "code",
   "execution_count": 6,
   "id": "5d6eced4",
   "metadata": {
    "execution": {
     "iopub.execute_input": "2022-06-07T06:32:04.969188Z",
     "iopub.status.busy": "2022-06-07T06:32:04.967932Z",
     "iopub.status.idle": "2022-06-07T06:32:04.973973Z",
     "shell.execute_reply": "2022-06-07T06:32:04.974219Z"
    },
    "id": "5d6eced4",
    "papermill": {
     "duration": 0.014954,
     "end_time": "2022-06-07T06:32:04.974335",
     "exception": false,
     "start_time": "2022-06-07T06:32:04.959381",
     "status": "completed"
    },
    "tags": []
   },
   "outputs": [
    {
     "name": "stdout",
     "output_type": "stream",
     "text": [
      "         X0        X1        X2        X3        X4         Y\n",
      "0 -0.491409 -0.936312  0.419874 -0.919244  0.420313 -1.380938\n",
      "1  1.442001  1.043586  1.261143 -1.264237 -0.175373 -0.242567\n",
      "2 -0.561958 -1.108654 -1.448247  1.194097  0.671860  0.800948\n",
      "3 -1.461907 -0.197487 -0.358539  0.324778  0.870235 -0.599315\n",
      "4  0.970313  1.130948 -1.491695 -0.484621  1.180790  1.568126\n"
     ]
    }
   ],
   "source": [
    "X,Y = friedman1Dataset.friedman1_data(n_samples,n_features)"
   ]
  },
  {
   "cell_type": "code",
   "execution_count": 7,
   "id": "fe007438",
   "metadata": {
    "execution": {
     "iopub.execute_input": "2022-06-07T06:32:04.991670Z",
     "iopub.status.busy": "2022-06-07T06:32:04.991307Z",
     "iopub.status.idle": "2022-06-07T06:32:04.992630Z",
     "shell.execute_reply": "2022-06-07T06:32:04.992930Z"
    },
    "id": "fe007438",
    "papermill": {
     "duration": 0.011308,
     "end_time": "2022-06-07T06:32:04.993039",
     "exception": false,
     "start_time": "2022-06-07T06:32:04.981731",
     "status": "completed"
    },
    "tags": []
   },
   "outputs": [],
   "source": [
    "#Train test split for dataset \n",
    "X_train,X_test,Y_train,Y_test = train_test_split(X,Y,test_size = 0.2)\n",
    "train_data = dataset.CustomDataset(X_train,Y_train)\n",
    "test_data = dataset.CustomDataset(X_test,Y_test)\n"
   ]
  },
  {
   "cell_type": "markdown",
   "id": "a9a1af34",
   "metadata": {
    "id": "a9a1af34",
    "papermill": {
     "duration": 0.007089,
     "end_time": "2022-06-07T06:32:05.007290",
     "exception": false,
     "start_time": "2022-06-07T06:32:05.000201",
     "status": "completed"
    },
    "tags": []
   },
   "source": [
    "## Training Parameters "
   ]
  },
  {
   "cell_type": "code",
   "execution_count": 8,
   "id": "952b7fc8",
   "metadata": {
    "execution": {
     "iopub.execute_input": "2022-06-07T06:32:05.023683Z",
     "iopub.status.busy": "2022-06-07T06:32:05.023331Z",
     "iopub.status.idle": "2022-06-07T06:32:05.024646Z",
     "shell.execute_reply": "2022-06-07T06:32:05.024897Z"
    },
    "id": "952b7fc8",
    "papermill": {
     "duration": 0.01066,
     "end_time": "2022-06-07T06:32:05.025005",
     "exception": false,
     "start_time": "2022-06-07T06:32:05.014345",
     "status": "completed"
    },
    "tags": []
   },
   "outputs": [],
   "source": [
    "batch_size = 32\n",
    "n_epochs = 1000\n",
    "#Select the device \n",
    "device = torch.device('cuda' if torch.cuda.is_available() else 'cpu')"
   ]
  },
  {
   "cell_type": "markdown",
   "id": "a95e1600",
   "metadata": {
    "id": "a95e1600",
    "papermill": {
     "duration": 0.007079,
     "end_time": "2022-06-07T06:32:05.039260",
     "exception": false,
     "start_time": "2022-06-07T06:32:05.032181",
     "status": "completed"
    },
    "tags": []
   },
   "source": [
    "# ABC Pre-generator Model \n",
    "\n",
    "1. The catboost model is used as a pre-generator model for the ABC-GAN. \n",
    "2. The model is first trained on the entire dataset \n",
    "3. It generats X,Y pairs and we add some Gaussian noise with mean 0 and variance 1 to it which is then feed as input to the generator.\n"
   ]
  },
  {
   "cell_type": "code",
   "execution_count": 9,
   "id": "ff8ce7bd",
   "metadata": {
    "execution": {
     "iopub.execute_input": "2022-06-07T06:32:05.057128Z",
     "iopub.status.busy": "2022-06-07T06:32:05.056752Z",
     "iopub.status.idle": "2022-06-07T06:32:05.698023Z",
     "shell.execute_reply": "2022-06-07T06:32:05.697706Z"
    },
    "id": "ff8ce7bd",
    "papermill": {
     "duration": 0.651721,
     "end_time": "2022-06-07T06:32:05.698132",
     "exception": false,
     "start_time": "2022-06-07T06:32:05.046411",
     "status": "completed"
    },
    "tags": []
   },
   "outputs": [
    {
     "name": "stdout",
     "output_type": "stream",
     "text": [
      "Learning rate set to 0.024897\n",
      "0:\tlearn: 0.9703316\ttotal: 58ms\tremaining: 57.9s\n",
      "1:\tlearn: 0.9609036\ttotal: 58.5ms\tremaining: 29.2s\n",
      "2:\tlearn: 0.9510396\ttotal: 59.2ms\tremaining: 19.7s\n",
      "3:\tlearn: 0.9405165\ttotal: 59.8ms\tremaining: 14.9s\n",
      "4:\tlearn: 0.9286651\ttotal: 60.4ms\tremaining: 12s\n",
      "5:\tlearn: 0.9194477\ttotal: 60.9ms\tremaining: 10.1s\n",
      "6:\tlearn: 0.9095984\ttotal: 61.4ms\tremaining: 8.71s\n",
      "7:\tlearn: 0.8997913\ttotal: 61.9ms\tremaining: 7.68s\n",
      "8:\tlearn: 0.8927921\ttotal: 62.4ms\tremaining: 6.87s\n",
      "9:\tlearn: 0.8841064\ttotal: 63ms\tremaining: 6.24s\n",
      "10:\tlearn: 0.8748745\ttotal: 63.6ms\tremaining: 5.72s\n",
      "11:\tlearn: 0.8669490\ttotal: 64.1ms\tremaining: 5.28s\n",
      "12:\tlearn: 0.8585571\ttotal: 64.6ms\tremaining: 4.91s\n",
      "13:\tlearn: 0.8489058\ttotal: 65.1ms\tremaining: 4.59s\n",
      "14:\tlearn: 0.8430180\ttotal: 65.5ms\tremaining: 4.3s\n",
      "15:\tlearn: 0.8354258\ttotal: 65.9ms\tremaining: 4.05s\n",
      "16:\tlearn: 0.8283451\ttotal: 66.5ms\tremaining: 3.84s\n",
      "17:\tlearn: 0.8206846\ttotal: 66.9ms\tremaining: 3.65s\n",
      "18:\tlearn: 0.8131670\ttotal: 67.4ms\tremaining: 3.48s\n",
      "19:\tlearn: 0.8053992\ttotal: 67.7ms\tremaining: 3.32s\n",
      "20:\tlearn: 0.7968620\ttotal: 68.2ms\tremaining: 3.18s\n",
      "21:\tlearn: 0.7896502\ttotal: 68.7ms\tremaining: 3.05s\n",
      "22:\tlearn: 0.7822962\ttotal: 69.1ms\tremaining: 2.93s\n",
      "23:\tlearn: 0.7738655\ttotal: 69.6ms\tremaining: 2.83s\n",
      "24:\tlearn: 0.7657967\ttotal: 70ms\tremaining: 2.73s\n",
      "25:\tlearn: 0.7597442\ttotal: 70.5ms\tremaining: 2.64s\n",
      "26:\tlearn: 0.7525372\ttotal: 70.9ms\tremaining: 2.56s\n",
      "27:\tlearn: 0.7461964\ttotal: 71.3ms\tremaining: 2.48s\n",
      "28:\tlearn: 0.7392097\ttotal: 71.8ms\tremaining: 2.4s\n",
      "29:\tlearn: 0.7337248\ttotal: 72.3ms\tremaining: 2.34s\n",
      "30:\tlearn: 0.7265418\ttotal: 72.7ms\tremaining: 2.27s\n",
      "31:\tlearn: 0.7205480\ttotal: 73.2ms\tremaining: 2.21s\n",
      "32:\tlearn: 0.7146138\ttotal: 73.8ms\tremaining: 2.16s\n",
      "33:\tlearn: 0.7084114\ttotal: 74.3ms\tremaining: 2.11s\n",
      "34:\tlearn: 0.7041032\ttotal: 74.7ms\tremaining: 2.06s\n",
      "35:\tlearn: 0.6979304\ttotal: 75.4ms\tremaining: 2.02s\n",
      "36:\tlearn: 0.6911277\ttotal: 76ms\tremaining: 1.98s\n",
      "37:\tlearn: 0.6852302\ttotal: 76.4ms\tremaining: 1.93s\n",
      "38:\tlearn: 0.6793633\ttotal: 77ms\tremaining: 1.9s\n",
      "39:\tlearn: 0.6736257\ttotal: 77.4ms\tremaining: 1.86s\n",
      "40:\tlearn: 0.6674271\ttotal: 77.8ms\tremaining: 1.82s\n",
      "41:\tlearn: 0.6614061\ttotal: 78.3ms\tremaining: 1.78s\n",
      "42:\tlearn: 0.6557103\ttotal: 78.7ms\tremaining: 1.75s\n",
      "43:\tlearn: 0.6490748\ttotal: 79.1ms\tremaining: 1.72s\n",
      "44:\tlearn: 0.6430772\ttotal: 79.6ms\tremaining: 1.69s\n",
      "45:\tlearn: 0.6371864\ttotal: 80ms\tremaining: 1.66s\n",
      "46:\tlearn: 0.6315171\ttotal: 80.4ms\tremaining: 1.63s\n",
      "47:\tlearn: 0.6262711\ttotal: 80.7ms\tremaining: 1.6s\n",
      "48:\tlearn: 0.6200739\ttotal: 81.2ms\tremaining: 1.57s\n",
      "49:\tlearn: 0.6153074\ttotal: 81.8ms\tremaining: 1.55s\n",
      "50:\tlearn: 0.6090788\ttotal: 82.3ms\tremaining: 1.53s\n",
      "51:\tlearn: 0.6035314\ttotal: 82.6ms\tremaining: 1.51s\n",
      "52:\tlearn: 0.5982514\ttotal: 83.2ms\tremaining: 1.49s\n",
      "53:\tlearn: 0.5931350\ttotal: 83.7ms\tremaining: 1.47s\n",
      "54:\tlearn: 0.5883215\ttotal: 84.2ms\tremaining: 1.45s\n",
      "55:\tlearn: 0.5833090\ttotal: 85.3ms\tremaining: 1.44s\n",
      "56:\tlearn: 0.5791803\ttotal: 85.8ms\tremaining: 1.42s\n",
      "57:\tlearn: 0.5747877\ttotal: 86.3ms\tremaining: 1.4s\n",
      "58:\tlearn: 0.5690969\ttotal: 86.7ms\tremaining: 1.38s\n",
      "59:\tlearn: 0.5641453\ttotal: 87.1ms\tremaining: 1.36s\n",
      "60:\tlearn: 0.5590993\ttotal: 87.6ms\tremaining: 1.35s\n",
      "61:\tlearn: 0.5546540\ttotal: 88ms\tremaining: 1.33s\n",
      "62:\tlearn: 0.5503492\ttotal: 88.5ms\tremaining: 1.32s\n",
      "63:\tlearn: 0.5456956\ttotal: 88.9ms\tremaining: 1.3s\n",
      "64:\tlearn: 0.5421512\ttotal: 89.3ms\tremaining: 1.28s\n",
      "65:\tlearn: 0.5383375\ttotal: 89.7ms\tremaining: 1.27s\n",
      "66:\tlearn: 0.5333031\ttotal: 90.4ms\tremaining: 1.26s\n",
      "67:\tlearn: 0.5283822\ttotal: 90.9ms\tremaining: 1.25s\n",
      "68:\tlearn: 0.5250116\ttotal: 91.4ms\tremaining: 1.23s\n",
      "69:\tlearn: 0.5212127\ttotal: 91.8ms\tremaining: 1.22s\n",
      "70:\tlearn: 0.5166744\ttotal: 92.2ms\tremaining: 1.21s\n",
      "71:\tlearn: 0.5120276\ttotal: 92.8ms\tremaining: 1.2s\n",
      "72:\tlearn: 0.5080818\ttotal: 93.2ms\tremaining: 1.18s\n",
      "73:\tlearn: 0.5037322\ttotal: 93.6ms\tremaining: 1.17s\n",
      "74:\tlearn: 0.5005036\ttotal: 94ms\tremaining: 1.16s\n",
      "75:\tlearn: 0.4967008\ttotal: 94.5ms\tremaining: 1.15s\n",
      "76:\tlearn: 0.4926222\ttotal: 94.9ms\tremaining: 1.14s\n",
      "77:\tlearn: 0.4885609\ttotal: 95.4ms\tremaining: 1.13s\n",
      "78:\tlearn: 0.4847532\ttotal: 95.8ms\tremaining: 1.12s\n",
      "79:\tlearn: 0.4811594\ttotal: 96.2ms\tremaining: 1.11s\n",
      "80:\tlearn: 0.4771781\ttotal: 96.8ms\tremaining: 1.1s\n",
      "81:\tlearn: 0.4739499\ttotal: 97.3ms\tremaining: 1.09s\n",
      "82:\tlearn: 0.4701446\ttotal: 97.9ms\tremaining: 1.08s\n",
      "83:\tlearn: 0.4658373\ttotal: 98.3ms\tremaining: 1.07s\n",
      "84:\tlearn: 0.4624986\ttotal: 98.9ms\tremaining: 1.06s\n",
      "85:\tlearn: 0.4590635\ttotal: 99.3ms\tremaining: 1.05s\n",
      "86:\tlearn: 0.4551512\ttotal: 99.8ms\tremaining: 1.05s\n",
      "87:\tlearn: 0.4519948\ttotal: 100ms\tremaining: 1.04s\n",
      "88:\tlearn: 0.4480941\ttotal: 101ms\tremaining: 1.03s\n",
      "89:\tlearn: 0.4443078\ttotal: 101ms\tremaining: 1.02s\n",
      "90:\tlearn: 0.4408884\ttotal: 102ms\tremaining: 1.02s\n",
      "91:\tlearn: 0.4369626\ttotal: 103ms\tremaining: 1.01s\n",
      "92:\tlearn: 0.4332029\ttotal: 103ms\tremaining: 1s\n",
      "93:\tlearn: 0.4292929\ttotal: 104ms\tremaining: 999ms\n",
      "94:\tlearn: 0.4260570\ttotal: 104ms\tremaining: 991ms\n",
      "95:\tlearn: 0.4228762\ttotal: 104ms\tremaining: 984ms\n",
      "96:\tlearn: 0.4193001\ttotal: 105ms\tremaining: 978ms\n",
      "97:\tlearn: 0.4163525\ttotal: 106ms\tremaining: 972ms\n",
      "98:\tlearn: 0.4128877\ttotal: 106ms\tremaining: 967ms\n",
      "99:\tlearn: 0.4097279\ttotal: 107ms\tremaining: 962ms\n",
      "100:\tlearn: 0.4065915\ttotal: 107ms\tremaining: 956ms\n",
      "101:\tlearn: 0.4034438\ttotal: 108ms\tremaining: 949ms\n"
     ]
    },
    {
     "name": "stdout",
     "output_type": "stream",
     "text": [
      "102:\tlearn: 0.4009743\ttotal: 109ms\tremaining: 946ms\n",
      "103:\tlearn: 0.3980885\ttotal: 109ms\tremaining: 941ms\n",
      "104:\tlearn: 0.3952412\ttotal: 110ms\tremaining: 936ms\n",
      "105:\tlearn: 0.3924554\ttotal: 111ms\tremaining: 935ms\n",
      "106:\tlearn: 0.3893541\ttotal: 111ms\tremaining: 929ms\n",
      "107:\tlearn: 0.3861954\ttotal: 112ms\tremaining: 924ms\n",
      "108:\tlearn: 0.3835352\ttotal: 112ms\tremaining: 917ms\n",
      "109:\tlearn: 0.3807038\ttotal: 113ms\tremaining: 913ms\n",
      "110:\tlearn: 0.3784565\ttotal: 113ms\tremaining: 907ms\n",
      "111:\tlearn: 0.3760717\ttotal: 114ms\tremaining: 902ms\n",
      "112:\tlearn: 0.3726068\ttotal: 114ms\tremaining: 897ms\n",
      "113:\tlearn: 0.3697900\ttotal: 115ms\tremaining: 891ms\n",
      "114:\tlearn: 0.3668834\ttotal: 115ms\tremaining: 886ms\n",
      "115:\tlearn: 0.3639877\ttotal: 116ms\tremaining: 881ms\n",
      "116:\tlearn: 0.3612617\ttotal: 116ms\tremaining: 875ms\n",
      "117:\tlearn: 0.3586643\ttotal: 116ms\tremaining: 870ms\n",
      "118:\tlearn: 0.3562460\ttotal: 117ms\tremaining: 865ms\n",
      "119:\tlearn: 0.3539906\ttotal: 117ms\tremaining: 860ms\n",
      "120:\tlearn: 0.3514608\ttotal: 118ms\tremaining: 856ms\n",
      "121:\tlearn: 0.3488159\ttotal: 118ms\tremaining: 852ms\n",
      "122:\tlearn: 0.3465500\ttotal: 119ms\tremaining: 848ms\n",
      "123:\tlearn: 0.3442457\ttotal: 119ms\tremaining: 843ms\n",
      "124:\tlearn: 0.3417719\ttotal: 120ms\tremaining: 840ms\n",
      "125:\tlearn: 0.3391306\ttotal: 120ms\tremaining: 836ms\n",
      "126:\tlearn: 0.3362914\ttotal: 121ms\tremaining: 831ms\n",
      "127:\tlearn: 0.3333923\ttotal: 121ms\tremaining: 827ms\n",
      "128:\tlearn: 0.3303058\ttotal: 122ms\tremaining: 822ms\n",
      "129:\tlearn: 0.3275821\ttotal: 122ms\tremaining: 818ms\n",
      "130:\tlearn: 0.3252046\ttotal: 123ms\tremaining: 814ms\n",
      "131:\tlearn: 0.3229141\ttotal: 123ms\tremaining: 811ms\n",
      "132:\tlearn: 0.3205699\ttotal: 124ms\tremaining: 807ms\n",
      "133:\tlearn: 0.3182867\ttotal: 124ms\tremaining: 804ms\n",
      "134:\tlearn: 0.3159654\ttotal: 125ms\tremaining: 800ms\n",
      "135:\tlearn: 0.3136223\ttotal: 125ms\tremaining: 797ms\n",
      "136:\tlearn: 0.3112144\ttotal: 126ms\tremaining: 793ms\n",
      "137:\tlearn: 0.3088282\ttotal: 127ms\tremaining: 790ms\n",
      "138:\tlearn: 0.3067461\ttotal: 127ms\tremaining: 787ms\n",
      "139:\tlearn: 0.3050742\ttotal: 128ms\tremaining: 783ms\n",
      "140:\tlearn: 0.3030213\ttotal: 128ms\tremaining: 780ms\n",
      "141:\tlearn: 0.3013437\ttotal: 129ms\tremaining: 777ms\n",
      "142:\tlearn: 0.2991618\ttotal: 129ms\tremaining: 774ms\n",
      "143:\tlearn: 0.2971993\ttotal: 130ms\tremaining: 770ms\n",
      "144:\tlearn: 0.2951637\ttotal: 130ms\tremaining: 768ms\n",
      "145:\tlearn: 0.2932696\ttotal: 131ms\tremaining: 764ms\n",
      "146:\tlearn: 0.2912002\ttotal: 131ms\tremaining: 761ms\n",
      "147:\tlearn: 0.2887312\ttotal: 132ms\tremaining: 758ms\n",
      "148:\tlearn: 0.2868921\ttotal: 132ms\tremaining: 755ms\n",
      "149:\tlearn: 0.2849636\ttotal: 133ms\tremaining: 752ms\n",
      "150:\tlearn: 0.2826086\ttotal: 133ms\tremaining: 749ms\n",
      "151:\tlearn: 0.2804568\ttotal: 134ms\tremaining: 747ms\n",
      "152:\tlearn: 0.2780889\ttotal: 134ms\tremaining: 743ms\n",
      "153:\tlearn: 0.2763962\ttotal: 135ms\tremaining: 740ms\n",
      "154:\tlearn: 0.2742843\ttotal: 135ms\tremaining: 737ms\n",
      "155:\tlearn: 0.2728536\ttotal: 136ms\tremaining: 734ms\n",
      "156:\tlearn: 0.2707062\ttotal: 136ms\tremaining: 731ms\n",
      "157:\tlearn: 0.2686194\ttotal: 137ms\tremaining: 728ms\n",
      "158:\tlearn: 0.2666112\ttotal: 137ms\tremaining: 725ms\n",
      "159:\tlearn: 0.2645755\ttotal: 138ms\tremaining: 722ms\n",
      "160:\tlearn: 0.2626465\ttotal: 138ms\tremaining: 720ms\n",
      "161:\tlearn: 0.2607188\ttotal: 139ms\tremaining: 717ms\n",
      "162:\tlearn: 0.2587757\ttotal: 139ms\tremaining: 714ms\n",
      "163:\tlearn: 0.2569512\ttotal: 139ms\tremaining: 711ms\n",
      "164:\tlearn: 0.2548873\ttotal: 140ms\tremaining: 708ms\n",
      "165:\tlearn: 0.2527408\ttotal: 140ms\tremaining: 706ms\n",
      "166:\tlearn: 0.2513619\ttotal: 141ms\tremaining: 703ms\n",
      "167:\tlearn: 0.2496090\ttotal: 141ms\tremaining: 700ms\n",
      "168:\tlearn: 0.2479048\ttotal: 142ms\tremaining: 697ms\n",
      "169:\tlearn: 0.2460632\ttotal: 142ms\tremaining: 695ms\n",
      "170:\tlearn: 0.2445662\ttotal: 143ms\tremaining: 692ms\n",
      "171:\tlearn: 0.2426689\ttotal: 143ms\tremaining: 690ms\n",
      "172:\tlearn: 0.2411338\ttotal: 144ms\tremaining: 688ms\n",
      "173:\tlearn: 0.2394538\ttotal: 145ms\tremaining: 686ms\n",
      "174:\tlearn: 0.2380337\ttotal: 145ms\tremaining: 684ms\n",
      "175:\tlearn: 0.2361670\ttotal: 146ms\tremaining: 682ms\n",
      "176:\tlearn: 0.2345152\ttotal: 146ms\tremaining: 680ms\n",
      "177:\tlearn: 0.2330922\ttotal: 147ms\tremaining: 677ms\n",
      "178:\tlearn: 0.2312919\ttotal: 147ms\tremaining: 675ms\n",
      "179:\tlearn: 0.2294948\ttotal: 148ms\tremaining: 673ms\n",
      "180:\tlearn: 0.2276933\ttotal: 148ms\tremaining: 671ms\n",
      "181:\tlearn: 0.2265565\ttotal: 149ms\tremaining: 668ms\n",
      "182:\tlearn: 0.2249259\ttotal: 149ms\tremaining: 667ms\n",
      "183:\tlearn: 0.2233703\ttotal: 150ms\tremaining: 665ms\n",
      "184:\tlearn: 0.2215798\ttotal: 150ms\tremaining: 663ms\n",
      "185:\tlearn: 0.2200464\ttotal: 151ms\tremaining: 660ms\n",
      "186:\tlearn: 0.2188740\ttotal: 151ms\tremaining: 658ms\n",
      "187:\tlearn: 0.2170196\ttotal: 152ms\tremaining: 655ms\n",
      "188:\tlearn: 0.2154534\ttotal: 152ms\tremaining: 653ms\n",
      "189:\tlearn: 0.2139137\ttotal: 153ms\tremaining: 651ms\n",
      "190:\tlearn: 0.2125849\ttotal: 153ms\tremaining: 649ms\n",
      "191:\tlearn: 0.2112746\ttotal: 154ms\tremaining: 647ms\n",
      "192:\tlearn: 0.2096954\ttotal: 154ms\tremaining: 645ms\n",
      "193:\tlearn: 0.2084367\ttotal: 155ms\tremaining: 643ms\n",
      "194:\tlearn: 0.2068994\ttotal: 155ms\tremaining: 641ms\n",
      "195:\tlearn: 0.2054028\ttotal: 156ms\tremaining: 639ms\n",
      "196:\tlearn: 0.2038101\ttotal: 156ms\tremaining: 637ms\n",
      "197:\tlearn: 0.2022975\ttotal: 157ms\tremaining: 635ms\n",
      "198:\tlearn: 0.2007310\ttotal: 157ms\tremaining: 633ms\n",
      "199:\tlearn: 0.1993860\ttotal: 158ms\tremaining: 631ms\n",
      "200:\tlearn: 0.1979570\ttotal: 158ms\tremaining: 629ms\n",
      "201:\tlearn: 0.1965191\ttotal: 159ms\tremaining: 627ms\n",
      "202:\tlearn: 0.1953180\ttotal: 159ms\tremaining: 625ms\n",
      "203:\tlearn: 0.1936848\ttotal: 160ms\tremaining: 623ms\n",
      "204:\tlearn: 0.1921864\ttotal: 160ms\tremaining: 621ms\n",
      "205:\tlearn: 0.1907779\ttotal: 161ms\tremaining: 619ms\n",
      "206:\tlearn: 0.1896311\ttotal: 161ms\tremaining: 617ms\n",
      "207:\tlearn: 0.1885070\ttotal: 162ms\tremaining: 615ms\n",
      "208:\tlearn: 0.1872989\ttotal: 162ms\tremaining: 613ms\n",
      "209:\tlearn: 0.1861052\ttotal: 163ms\tremaining: 612ms\n",
      "210:\tlearn: 0.1845702\ttotal: 163ms\tremaining: 610ms\n",
      "211:\tlearn: 0.1833346\ttotal: 164ms\tremaining: 608ms\n",
      "212:\tlearn: 0.1818951\ttotal: 164ms\tremaining: 607ms\n",
      "213:\tlearn: 0.1806740\ttotal: 165ms\tremaining: 605ms\n",
      "214:\tlearn: 0.1795483\ttotal: 165ms\tremaining: 603ms\n",
      "215:\tlearn: 0.1783140\ttotal: 166ms\tremaining: 602ms\n",
      "216:\tlearn: 0.1772306\ttotal: 166ms\tremaining: 600ms\n",
      "217:\tlearn: 0.1758191\ttotal: 167ms\tremaining: 598ms\n",
      "218:\tlearn: 0.1747262\ttotal: 167ms\tremaining: 596ms\n",
      "219:\tlearn: 0.1734148\ttotal: 168ms\tremaining: 595ms\n",
      "220:\tlearn: 0.1723259\ttotal: 168ms\tremaining: 593ms\n",
      "221:\tlearn: 0.1710934\ttotal: 169ms\tremaining: 592ms\n",
      "222:\tlearn: 0.1699667\ttotal: 169ms\tremaining: 590ms\n",
      "223:\tlearn: 0.1688184\ttotal: 170ms\tremaining: 589ms\n",
      "224:\tlearn: 0.1676509\ttotal: 170ms\tremaining: 587ms\n",
      "225:\tlearn: 0.1664107\ttotal: 171ms\tremaining: 585ms\n",
      "226:\tlearn: 0.1652962\ttotal: 171ms\tremaining: 583ms\n",
      "227:\tlearn: 0.1642731\ttotal: 172ms\tremaining: 581ms\n",
      "228:\tlearn: 0.1630705\ttotal: 172ms\tremaining: 579ms\n",
      "229:\tlearn: 0.1619173\ttotal: 172ms\tremaining: 577ms\n",
      "230:\tlearn: 0.1607449\ttotal: 173ms\tremaining: 576ms\n",
      "231:\tlearn: 0.1597039\ttotal: 174ms\tremaining: 574ms\n",
      "232:\tlearn: 0.1584782\ttotal: 174ms\tremaining: 573ms\n",
      "233:\tlearn: 0.1573159\ttotal: 174ms\tremaining: 571ms\n",
      "234:\tlearn: 0.1561392\ttotal: 175ms\tremaining: 570ms\n",
      "235:\tlearn: 0.1550718\ttotal: 176ms\tremaining: 568ms\n",
      "236:\tlearn: 0.1541096\ttotal: 176ms\tremaining: 567ms\n",
      "237:\tlearn: 0.1529111\ttotal: 177ms\tremaining: 565ms\n",
      "238:\tlearn: 0.1517872\ttotal: 177ms\tremaining: 564ms\n",
      "239:\tlearn: 0.1506580\ttotal: 178ms\tremaining: 562ms\n",
      "240:\tlearn: 0.1497480\ttotal: 178ms\tremaining: 562ms\n",
      "241:\tlearn: 0.1486784\ttotal: 179ms\tremaining: 560ms\n",
      "242:\tlearn: 0.1477525\ttotal: 180ms\tremaining: 559ms\n",
      "243:\tlearn: 0.1467292\ttotal: 180ms\tremaining: 558ms\n",
      "244:\tlearn: 0.1457398\ttotal: 181ms\tremaining: 556ms\n",
      "245:\tlearn: 0.1446699\ttotal: 182ms\tremaining: 556ms\n",
      "246:\tlearn: 0.1438312\ttotal: 182ms\tremaining: 555ms\n",
      "247:\tlearn: 0.1428827\ttotal: 182ms\tremaining: 553ms\n",
      "248:\tlearn: 0.1418286\ttotal: 183ms\tremaining: 552ms\n",
      "249:\tlearn: 0.1408647\ttotal: 184ms\tremaining: 551ms\n",
      "250:\tlearn: 0.1399714\ttotal: 184ms\tremaining: 549ms\n",
      "251:\tlearn: 0.1391690\ttotal: 185ms\tremaining: 548ms\n",
      "252:\tlearn: 0.1381953\ttotal: 185ms\tremaining: 547ms\n",
      "253:\tlearn: 0.1373706\ttotal: 186ms\tremaining: 545ms\n",
      "254:\tlearn: 0.1366176\ttotal: 186ms\tremaining: 544ms\n",
      "255:\tlearn: 0.1357275\ttotal: 187ms\tremaining: 543ms\n"
     ]
    },
    {
     "name": "stdout",
     "output_type": "stream",
     "text": [
      "256:\tlearn: 0.1349775\ttotal: 188ms\tremaining: 542ms\n",
      "257:\tlearn: 0.1340826\ttotal: 188ms\tremaining: 541ms\n",
      "258:\tlearn: 0.1332389\ttotal: 189ms\tremaining: 540ms\n",
      "259:\tlearn: 0.1323829\ttotal: 189ms\tremaining: 539ms\n",
      "260:\tlearn: 0.1313804\ttotal: 190ms\tremaining: 537ms\n",
      "261:\tlearn: 0.1306992\ttotal: 190ms\tremaining: 536ms\n",
      "262:\tlearn: 0.1299701\ttotal: 191ms\tremaining: 534ms\n",
      "263:\tlearn: 0.1292558\ttotal: 191ms\tremaining: 533ms\n",
      "264:\tlearn: 0.1284398\ttotal: 192ms\tremaining: 532ms\n",
      "265:\tlearn: 0.1276962\ttotal: 192ms\tremaining: 530ms\n",
      "266:\tlearn: 0.1269673\ttotal: 193ms\tremaining: 529ms\n",
      "267:\tlearn: 0.1261317\ttotal: 193ms\tremaining: 527ms\n",
      "268:\tlearn: 0.1252921\ttotal: 193ms\tremaining: 526ms\n",
      "269:\tlearn: 0.1244328\ttotal: 194ms\tremaining: 524ms\n",
      "270:\tlearn: 0.1235656\ttotal: 194ms\tremaining: 523ms\n",
      "271:\tlearn: 0.1229707\ttotal: 195ms\tremaining: 521ms\n",
      "272:\tlearn: 0.1222441\ttotal: 195ms\tremaining: 520ms\n",
      "273:\tlearn: 0.1213610\ttotal: 196ms\tremaining: 519ms\n",
      "274:\tlearn: 0.1206501\ttotal: 196ms\tremaining: 517ms\n",
      "275:\tlearn: 0.1199310\ttotal: 197ms\tremaining: 516ms\n",
      "276:\tlearn: 0.1192659\ttotal: 197ms\tremaining: 515ms\n",
      "277:\tlearn: 0.1185463\ttotal: 198ms\tremaining: 513ms\n",
      "278:\tlearn: 0.1178706\ttotal: 198ms\tremaining: 512ms\n",
      "279:\tlearn: 0.1171307\ttotal: 199ms\tremaining: 511ms\n",
      "280:\tlearn: 0.1164037\ttotal: 199ms\tremaining: 510ms\n",
      "281:\tlearn: 0.1156366\ttotal: 200ms\tremaining: 509ms\n",
      "282:\tlearn: 0.1149545\ttotal: 200ms\tremaining: 508ms\n",
      "283:\tlearn: 0.1143292\ttotal: 201ms\tremaining: 506ms\n",
      "284:\tlearn: 0.1136162\ttotal: 201ms\tremaining: 505ms\n",
      "285:\tlearn: 0.1128461\ttotal: 202ms\tremaining: 504ms\n",
      "286:\tlearn: 0.1122465\ttotal: 203ms\tremaining: 503ms\n",
      "287:\tlearn: 0.1115557\ttotal: 203ms\tremaining: 502ms\n",
      "288:\tlearn: 0.1109392\ttotal: 204ms\tremaining: 501ms\n",
      "289:\tlearn: 0.1102670\ttotal: 204ms\tremaining: 500ms\n",
      "290:\tlearn: 0.1095255\ttotal: 205ms\tremaining: 498ms\n",
      "291:\tlearn: 0.1088000\ttotal: 205ms\tremaining: 497ms\n",
      "292:\tlearn: 0.1082772\ttotal: 206ms\tremaining: 496ms\n",
      "293:\tlearn: 0.1076277\ttotal: 206ms\tremaining: 495ms\n",
      "294:\tlearn: 0.1069933\ttotal: 207ms\tremaining: 494ms\n",
      "295:\tlearn: 0.1063296\ttotal: 207ms\tremaining: 493ms\n",
      "296:\tlearn: 0.1056144\ttotal: 208ms\tremaining: 492ms\n",
      "297:\tlearn: 0.1051071\ttotal: 208ms\tremaining: 491ms\n",
      "298:\tlearn: 0.1043889\ttotal: 209ms\tremaining: 489ms\n",
      "299:\tlearn: 0.1037607\ttotal: 209ms\tremaining: 489ms\n",
      "300:\tlearn: 0.1031172\ttotal: 210ms\tremaining: 488ms\n",
      "301:\tlearn: 0.1024807\ttotal: 211ms\tremaining: 487ms\n",
      "302:\tlearn: 0.1018616\ttotal: 211ms\tremaining: 486ms\n",
      "303:\tlearn: 0.1012679\ttotal: 211ms\tremaining: 484ms\n",
      "304:\tlearn: 0.1006840\ttotal: 212ms\tremaining: 483ms\n",
      "305:\tlearn: 0.0999987\ttotal: 212ms\tremaining: 481ms\n",
      "306:\tlearn: 0.0994260\ttotal: 213ms\tremaining: 480ms\n",
      "307:\tlearn: 0.0988743\ttotal: 213ms\tremaining: 479ms\n",
      "308:\tlearn: 0.0982735\ttotal: 214ms\tremaining: 478ms\n",
      "309:\tlearn: 0.0977966\ttotal: 214ms\tremaining: 476ms\n",
      "310:\tlearn: 0.0971358\ttotal: 215ms\tremaining: 477ms\n",
      "311:\tlearn: 0.0966673\ttotal: 216ms\tremaining: 476ms\n",
      "312:\tlearn: 0.0960469\ttotal: 216ms\tremaining: 475ms\n",
      "313:\tlearn: 0.0954215\ttotal: 217ms\tremaining: 473ms\n",
      "314:\tlearn: 0.0950013\ttotal: 217ms\tremaining: 472ms\n",
      "315:\tlearn: 0.0944670\ttotal: 217ms\tremaining: 471ms\n",
      "316:\tlearn: 0.0938509\ttotal: 218ms\tremaining: 470ms\n",
      "317:\tlearn: 0.0932935\ttotal: 219ms\tremaining: 470ms\n",
      "318:\tlearn: 0.0928514\ttotal: 220ms\tremaining: 471ms\n",
      "319:\tlearn: 0.0923396\ttotal: 221ms\tremaining: 470ms\n",
      "320:\tlearn: 0.0917205\ttotal: 222ms\tremaining: 469ms\n",
      "321:\tlearn: 0.0911798\ttotal: 222ms\tremaining: 468ms\n",
      "322:\tlearn: 0.0906032\ttotal: 223ms\tremaining: 468ms\n",
      "323:\tlearn: 0.0901117\ttotal: 225ms\tremaining: 469ms\n",
      "324:\tlearn: 0.0896998\ttotal: 226ms\tremaining: 469ms\n",
      "325:\tlearn: 0.0891197\ttotal: 227ms\tremaining: 468ms\n",
      "326:\tlearn: 0.0887106\ttotal: 227ms\tremaining: 467ms\n",
      "327:\tlearn: 0.0883306\ttotal: 228ms\tremaining: 467ms\n",
      "328:\tlearn: 0.0877601\ttotal: 228ms\tremaining: 466ms\n",
      "329:\tlearn: 0.0872522\ttotal: 229ms\tremaining: 465ms\n",
      "330:\tlearn: 0.0866903\ttotal: 229ms\tremaining: 464ms\n",
      "331:\tlearn: 0.0862008\ttotal: 230ms\tremaining: 462ms\n",
      "332:\tlearn: 0.0857420\ttotal: 230ms\tremaining: 461ms\n",
      "333:\tlearn: 0.0852735\ttotal: 231ms\tremaining: 460ms\n",
      "334:\tlearn: 0.0848082\ttotal: 231ms\tremaining: 459ms\n",
      "335:\tlearn: 0.0843252\ttotal: 232ms\tremaining: 458ms\n",
      "336:\tlearn: 0.0839201\ttotal: 232ms\tremaining: 457ms\n",
      "337:\tlearn: 0.0833998\ttotal: 233ms\tremaining: 456ms\n",
      "338:\tlearn: 0.0829732\ttotal: 233ms\tremaining: 454ms\n",
      "339:\tlearn: 0.0824450\ttotal: 233ms\tremaining: 453ms\n",
      "340:\tlearn: 0.0820043\ttotal: 234ms\tremaining: 452ms\n",
      "341:\tlearn: 0.0815433\ttotal: 234ms\tremaining: 451ms\n",
      "342:\tlearn: 0.0809884\ttotal: 235ms\tremaining: 450ms\n",
      "343:\tlearn: 0.0805939\ttotal: 235ms\tremaining: 449ms\n",
      "344:\tlearn: 0.0801020\ttotal: 236ms\tremaining: 448ms\n",
      "345:\tlearn: 0.0796859\ttotal: 236ms\tremaining: 447ms\n",
      "346:\tlearn: 0.0792153\ttotal: 237ms\tremaining: 446ms\n",
      "347:\tlearn: 0.0788739\ttotal: 237ms\tremaining: 445ms\n",
      "348:\tlearn: 0.0784412\ttotal: 238ms\tremaining: 444ms\n",
      "349:\tlearn: 0.0780355\ttotal: 238ms\tremaining: 442ms\n",
      "350:\tlearn: 0.0777006\ttotal: 239ms\tremaining: 441ms\n",
      "351:\tlearn: 0.0772525\ttotal: 239ms\tremaining: 441ms\n",
      "352:\tlearn: 0.0768760\ttotal: 240ms\tremaining: 440ms\n",
      "353:\tlearn: 0.0764878\ttotal: 240ms\tremaining: 439ms\n",
      "354:\tlearn: 0.0760367\ttotal: 241ms\tremaining: 438ms\n",
      "355:\tlearn: 0.0755960\ttotal: 241ms\tremaining: 436ms\n",
      "356:\tlearn: 0.0751647\ttotal: 242ms\tremaining: 436ms\n",
      "357:\tlearn: 0.0747430\ttotal: 242ms\tremaining: 435ms\n",
      "358:\tlearn: 0.0744382\ttotal: 243ms\tremaining: 434ms\n",
      "359:\tlearn: 0.0739692\ttotal: 243ms\tremaining: 432ms\n",
      "360:\tlearn: 0.0736052\ttotal: 244ms\tremaining: 431ms\n",
      "361:\tlearn: 0.0733528\ttotal: 244ms\tremaining: 430ms\n",
      "362:\tlearn: 0.0729091\ttotal: 245ms\tremaining: 429ms\n",
      "363:\tlearn: 0.0725036\ttotal: 245ms\tremaining: 429ms\n",
      "364:\tlearn: 0.0721553\ttotal: 246ms\tremaining: 428ms\n",
      "365:\tlearn: 0.0718970\ttotal: 246ms\tremaining: 426ms\n",
      "366:\tlearn: 0.0716268\ttotal: 247ms\tremaining: 425ms\n",
      "367:\tlearn: 0.0711959\ttotal: 247ms\tremaining: 424ms\n",
      "368:\tlearn: 0.0709444\ttotal: 248ms\tremaining: 423ms\n",
      "369:\tlearn: 0.0705822\ttotal: 248ms\tremaining: 422ms\n",
      "370:\tlearn: 0.0701862\ttotal: 249ms\tremaining: 421ms\n",
      "371:\tlearn: 0.0699432\ttotal: 249ms\tremaining: 421ms\n",
      "372:\tlearn: 0.0696249\ttotal: 250ms\tremaining: 420ms\n",
      "373:\tlearn: 0.0692511\ttotal: 250ms\tremaining: 419ms\n",
      "374:\tlearn: 0.0688709\ttotal: 251ms\tremaining: 418ms\n",
      "375:\tlearn: 0.0685861\ttotal: 251ms\tremaining: 417ms\n",
      "376:\tlearn: 0.0683540\ttotal: 252ms\tremaining: 416ms\n",
      "377:\tlearn: 0.0681114\ttotal: 252ms\tremaining: 415ms\n",
      "378:\tlearn: 0.0678741\ttotal: 253ms\tremaining: 414ms\n",
      "379:\tlearn: 0.0676019\ttotal: 253ms\tremaining: 413ms\n",
      "380:\tlearn: 0.0673470\ttotal: 254ms\tremaining: 413ms\n",
      "381:\tlearn: 0.0670567\ttotal: 254ms\tremaining: 412ms\n",
      "382:\tlearn: 0.0667556\ttotal: 255ms\tremaining: 411ms\n",
      "383:\tlearn: 0.0665377\ttotal: 256ms\tremaining: 410ms\n",
      "384:\tlearn: 0.0662442\ttotal: 256ms\tremaining: 409ms\n",
      "385:\tlearn: 0.0659638\ttotal: 257ms\tremaining: 408ms\n",
      "386:\tlearn: 0.0656611\ttotal: 257ms\tremaining: 408ms\n",
      "387:\tlearn: 0.0652791\ttotal: 258ms\tremaining: 407ms\n",
      "388:\tlearn: 0.0650607\ttotal: 259ms\tremaining: 406ms\n",
      "389:\tlearn: 0.0647685\ttotal: 259ms\tremaining: 406ms\n",
      "390:\tlearn: 0.0643248\ttotal: 260ms\tremaining: 404ms\n",
      "391:\tlearn: 0.0640813\ttotal: 260ms\tremaining: 404ms\n",
      "392:\tlearn: 0.0639230\ttotal: 261ms\tremaining: 403ms\n",
      "393:\tlearn: 0.0636857\ttotal: 261ms\tremaining: 402ms\n",
      "394:\tlearn: 0.0634092\ttotal: 262ms\tremaining: 401ms\n",
      "395:\tlearn: 0.0630786\ttotal: 262ms\tremaining: 400ms\n",
      "396:\tlearn: 0.0626505\ttotal: 263ms\tremaining: 400ms\n",
      "397:\tlearn: 0.0624992\ttotal: 264ms\tremaining: 399ms\n",
      "398:\tlearn: 0.0623509\ttotal: 264ms\tremaining: 398ms\n",
      "399:\tlearn: 0.0620809\ttotal: 264ms\tremaining: 397ms\n",
      "400:\tlearn: 0.0618151\ttotal: 265ms\tremaining: 396ms\n",
      "401:\tlearn: 0.0615894\ttotal: 266ms\tremaining: 395ms\n",
      "402:\tlearn: 0.0611790\ttotal: 266ms\tremaining: 394ms\n",
      "403:\tlearn: 0.0609596\ttotal: 266ms\tremaining: 393ms\n",
      "404:\tlearn: 0.0606975\ttotal: 267ms\tremaining: 392ms\n",
      "405:\tlearn: 0.0604089\ttotal: 267ms\tremaining: 391ms\n",
      "406:\tlearn: 0.0602623\ttotal: 268ms\tremaining: 390ms\n",
      "407:\tlearn: 0.0600502\ttotal: 268ms\tremaining: 389ms\n",
      "408:\tlearn: 0.0597145\ttotal: 269ms\tremaining: 388ms\n",
      "409:\tlearn: 0.0593431\ttotal: 269ms\tremaining: 387ms\n",
      "410:\tlearn: 0.0591315\ttotal: 270ms\tremaining: 386ms\n",
      "411:\tlearn: 0.0587930\ttotal: 270ms\tremaining: 385ms\n",
      "412:\tlearn: 0.0585141\ttotal: 270ms\tremaining: 384ms\n",
      "413:\tlearn: 0.0583174\ttotal: 271ms\tremaining: 383ms\n",
      "414:\tlearn: 0.0581173\ttotal: 271ms\tremaining: 382ms\n",
      "415:\tlearn: 0.0578280\ttotal: 272ms\tremaining: 381ms\n",
      "416:\tlearn: 0.0576327\ttotal: 272ms\tremaining: 381ms\n",
      "417:\tlearn: 0.0574426\ttotal: 273ms\tremaining: 380ms\n",
      "418:\tlearn: 0.0572678\ttotal: 273ms\tremaining: 379ms\n",
      "419:\tlearn: 0.0569053\ttotal: 274ms\tremaining: 378ms\n",
      "420:\tlearn: 0.0566589\ttotal: 274ms\tremaining: 377ms\n",
      "421:\tlearn: 0.0564774\ttotal: 275ms\tremaining: 376ms\n",
      "422:\tlearn: 0.0560873\ttotal: 275ms\tremaining: 375ms\n",
      "423:\tlearn: 0.0560301\ttotal: 276ms\tremaining: 375ms\n",
      "424:\tlearn: 0.0557936\ttotal: 276ms\tremaining: 374ms\n",
      "425:\tlearn: 0.0554306\ttotal: 277ms\tremaining: 373ms\n",
      "426:\tlearn: 0.0553747\ttotal: 277ms\tremaining: 372ms\n",
      "427:\tlearn: 0.0550761\ttotal: 278ms\tremaining: 371ms\n",
      "428:\tlearn: 0.0550212\ttotal: 279ms\tremaining: 371ms\n",
      "429:\tlearn: 0.0547100\ttotal: 279ms\tremaining: 370ms\n",
      "430:\tlearn: 0.0544161\ttotal: 280ms\tremaining: 369ms\n",
      "431:\tlearn: 0.0542917\ttotal: 280ms\tremaining: 368ms\n",
      "432:\tlearn: 0.0540054\ttotal: 281ms\tremaining: 367ms\n",
      "433:\tlearn: 0.0537127\ttotal: 281ms\tremaining: 367ms\n",
      "434:\tlearn: 0.0535630\ttotal: 282ms\tremaining: 366ms\n",
      "435:\tlearn: 0.0535107\ttotal: 282ms\tremaining: 365ms\n",
      "436:\tlearn: 0.0532083\ttotal: 283ms\tremaining: 364ms\n",
      "437:\tlearn: 0.0529790\ttotal: 283ms\tremaining: 364ms\n",
      "438:\tlearn: 0.0527062\ttotal: 284ms\tremaining: 363ms\n",
      "439:\tlearn: 0.0526488\ttotal: 284ms\tremaining: 362ms\n",
      "440:\tlearn: 0.0523685\ttotal: 285ms\tremaining: 361ms\n",
      "441:\tlearn: 0.0523121\ttotal: 285ms\tremaining: 360ms\n",
      "442:\tlearn: 0.0519507\ttotal: 286ms\tremaining: 360ms\n",
      "443:\tlearn: 0.0517850\ttotal: 287ms\tremaining: 359ms\n",
      "444:\tlearn: 0.0515588\ttotal: 287ms\tremaining: 358ms\n",
      "445:\tlearn: 0.0515041\ttotal: 288ms\tremaining: 357ms\n",
      "446:\tlearn: 0.0512583\ttotal: 288ms\tremaining: 356ms\n",
      "447:\tlearn: 0.0510013\ttotal: 289ms\tremaining: 356ms\n",
      "448:\tlearn: 0.0507502\ttotal: 289ms\tremaining: 355ms\n"
     ]
    },
    {
     "name": "stdout",
     "output_type": "stream",
     "text": [
      "449:\tlearn: 0.0506973\ttotal: 289ms\tremaining: 354ms\n",
      "450:\tlearn: 0.0504522\ttotal: 290ms\tremaining: 353ms\n",
      "451:\tlearn: 0.0501803\ttotal: 291ms\tremaining: 352ms\n",
      "452:\tlearn: 0.0500579\ttotal: 291ms\tremaining: 351ms\n",
      "453:\tlearn: 0.0500066\ttotal: 292ms\tremaining: 351ms\n",
      "454:\tlearn: 0.0497019\ttotal: 292ms\tremaining: 350ms\n",
      "455:\tlearn: 0.0494050\ttotal: 293ms\tremaining: 349ms\n",
      "456:\tlearn: 0.0492590\ttotal: 293ms\tremaining: 348ms\n",
      "457:\tlearn: 0.0489721\ttotal: 294ms\tremaining: 348ms\n",
      "458:\tlearn: 0.0489255\ttotal: 294ms\tremaining: 347ms\n",
      "459:\tlearn: 0.0488795\ttotal: 295ms\tremaining: 346ms\n",
      "460:\tlearn: 0.0486489\ttotal: 295ms\tremaining: 345ms\n",
      "461:\tlearn: 0.0484731\ttotal: 296ms\tremaining: 345ms\n",
      "462:\tlearn: 0.0482226\ttotal: 296ms\tremaining: 344ms\n",
      "463:\tlearn: 0.0480024\ttotal: 297ms\tremaining: 343ms\n",
      "464:\tlearn: 0.0477319\ttotal: 298ms\tremaining: 342ms\n",
      "465:\tlearn: 0.0474500\ttotal: 298ms\tremaining: 341ms\n",
      "466:\tlearn: 0.0471455\ttotal: 298ms\tremaining: 341ms\n",
      "467:\tlearn: 0.0468476\ttotal: 299ms\tremaining: 340ms\n",
      "468:\tlearn: 0.0466211\ttotal: 300ms\tremaining: 339ms\n",
      "469:\tlearn: 0.0463170\ttotal: 300ms\tremaining: 338ms\n",
      "470:\tlearn: 0.0460314\ttotal: 301ms\tremaining: 338ms\n",
      "471:\tlearn: 0.0458418\ttotal: 301ms\tremaining: 337ms\n",
      "472:\tlearn: 0.0455656\ttotal: 302ms\tremaining: 336ms\n",
      "473:\tlearn: 0.0454687\ttotal: 302ms\tremaining: 335ms\n",
      "474:\tlearn: 0.0452546\ttotal: 303ms\tremaining: 334ms\n",
      "475:\tlearn: 0.0451601\ttotal: 303ms\tremaining: 333ms\n",
      "476:\tlearn: 0.0449514\ttotal: 304ms\tremaining: 333ms\n",
      "477:\tlearn: 0.0446766\ttotal: 304ms\tremaining: 332ms\n",
      "478:\tlearn: 0.0445594\ttotal: 305ms\tremaining: 331ms\n",
      "479:\tlearn: 0.0443702\ttotal: 305ms\tremaining: 331ms\n",
      "480:\tlearn: 0.0441527\ttotal: 306ms\tremaining: 330ms\n",
      "481:\tlearn: 0.0439411\ttotal: 306ms\tremaining: 329ms\n",
      "482:\tlearn: 0.0437693\ttotal: 307ms\tremaining: 328ms\n",
      "483:\tlearn: 0.0437309\ttotal: 308ms\tremaining: 328ms\n",
      "484:\tlearn: 0.0435630\ttotal: 308ms\tremaining: 327ms\n",
      "485:\tlearn: 0.0433058\ttotal: 309ms\tremaining: 326ms\n",
      "486:\tlearn: 0.0432234\ttotal: 309ms\tremaining: 326ms\n",
      "487:\tlearn: 0.0430479\ttotal: 310ms\tremaining: 325ms\n",
      "488:\tlearn: 0.0430112\ttotal: 310ms\tremaining: 324ms\n",
      "489:\tlearn: 0.0428264\ttotal: 311ms\tremaining: 324ms\n",
      "490:\tlearn: 0.0426340\ttotal: 311ms\tremaining: 323ms\n",
      "491:\tlearn: 0.0424634\ttotal: 312ms\tremaining: 322ms\n",
      "492:\tlearn: 0.0422967\ttotal: 313ms\tremaining: 322ms\n",
      "493:\tlearn: 0.0422613\ttotal: 313ms\tremaining: 321ms\n",
      "494:\tlearn: 0.0422264\ttotal: 314ms\tremaining: 320ms\n",
      "495:\tlearn: 0.0419857\ttotal: 314ms\tremaining: 319ms\n",
      "496:\tlearn: 0.0417934\ttotal: 315ms\tremaining: 319ms\n",
      "497:\tlearn: 0.0415583\ttotal: 315ms\tremaining: 318ms\n",
      "498:\tlearn: 0.0414069\ttotal: 316ms\tremaining: 317ms\n",
      "499:\tlearn: 0.0412316\ttotal: 316ms\tremaining: 316ms\n",
      "500:\tlearn: 0.0410055\ttotal: 317ms\tremaining: 316ms\n",
      "501:\tlearn: 0.0408678\ttotal: 317ms\tremaining: 315ms\n",
      "502:\tlearn: 0.0407136\ttotal: 318ms\tremaining: 314ms\n",
      "503:\tlearn: 0.0405340\ttotal: 318ms\tremaining: 313ms\n",
      "504:\tlearn: 0.0405014\ttotal: 319ms\tremaining: 313ms\n",
      "505:\tlearn: 0.0404692\ttotal: 320ms\tremaining: 312ms\n",
      "506:\tlearn: 0.0402318\ttotal: 320ms\tremaining: 311ms\n",
      "507:\tlearn: 0.0400171\ttotal: 321ms\tremaining: 310ms\n",
      "508:\tlearn: 0.0398877\ttotal: 321ms\tremaining: 310ms\n",
      "509:\tlearn: 0.0397421\ttotal: 321ms\tremaining: 309ms\n",
      "510:\tlearn: 0.0395709\ttotal: 322ms\tremaining: 308ms\n",
      "511:\tlearn: 0.0395402\ttotal: 322ms\tremaining: 307ms\n",
      "512:\tlearn: 0.0395098\ttotal: 323ms\tremaining: 306ms\n",
      "513:\tlearn: 0.0392833\ttotal: 323ms\tremaining: 306ms\n",
      "514:\tlearn: 0.0390614\ttotal: 324ms\tremaining: 305ms\n",
      "515:\tlearn: 0.0389403\ttotal: 324ms\tremaining: 304ms\n",
      "516:\tlearn: 0.0387757\ttotal: 325ms\tremaining: 304ms\n",
      "517:\tlearn: 0.0387465\ttotal: 326ms\tremaining: 303ms\n",
      "518:\tlearn: 0.0387178\ttotal: 326ms\tremaining: 302ms\n",
      "519:\tlearn: 0.0385126\ttotal: 327ms\tremaining: 302ms\n",
      "520:\tlearn: 0.0382988\ttotal: 327ms\tremaining: 301ms\n",
      "521:\tlearn: 0.0381823\ttotal: 328ms\tremaining: 300ms\n",
      "522:\tlearn: 0.0380179\ttotal: 328ms\tremaining: 299ms\n",
      "523:\tlearn: 0.0379049\ttotal: 329ms\tremaining: 299ms\n",
      "524:\tlearn: 0.0377735\ttotal: 330ms\tremaining: 298ms\n",
      "525:\tlearn: 0.0377481\ttotal: 330ms\tremaining: 298ms\n",
      "526:\tlearn: 0.0377230\ttotal: 331ms\tremaining: 297ms\n",
      "527:\tlearn: 0.0375164\ttotal: 331ms\tremaining: 296ms\n",
      "528:\tlearn: 0.0373588\ttotal: 332ms\tremaining: 295ms\n",
      "529:\tlearn: 0.0371552\ttotal: 332ms\tremaining: 295ms\n",
      "530:\tlearn: 0.0369682\ttotal: 333ms\tremaining: 294ms\n",
      "531:\tlearn: 0.0368155\ttotal: 333ms\tremaining: 293ms\n",
      "532:\tlearn: 0.0366469\ttotal: 334ms\tremaining: 293ms\n",
      "533:\tlearn: 0.0364782\ttotal: 335ms\tremaining: 292ms\n",
      "534:\tlearn: 0.0364547\ttotal: 335ms\tremaining: 291ms\n",
      "535:\tlearn: 0.0362897\ttotal: 336ms\tremaining: 290ms\n",
      "536:\tlearn: 0.0362416\ttotal: 336ms\tremaining: 290ms\n",
      "537:\tlearn: 0.0362186\ttotal: 337ms\tremaining: 289ms\n",
      "538:\tlearn: 0.0360575\ttotal: 337ms\tremaining: 288ms\n",
      "539:\tlearn: 0.0358997\ttotal: 338ms\tremaining: 288ms\n",
      "540:\tlearn: 0.0358536\ttotal: 338ms\tremaining: 287ms\n",
      "541:\tlearn: 0.0358085\ttotal: 339ms\tremaining: 286ms\n",
      "542:\tlearn: 0.0356838\ttotal: 339ms\tremaining: 286ms\n",
      "543:\tlearn: 0.0356619\ttotal: 340ms\tremaining: 285ms\n",
      "544:\tlearn: 0.0356402\ttotal: 340ms\tremaining: 284ms\n",
      "545:\tlearn: 0.0354872\ttotal: 341ms\tremaining: 283ms\n",
      "546:\tlearn: 0.0354440\ttotal: 341ms\tremaining: 283ms\n",
      "547:\tlearn: 0.0353843\ttotal: 342ms\tremaining: 282ms\n",
      "548:\tlearn: 0.0353282\ttotal: 342ms\tremaining: 281ms\n",
      "549:\tlearn: 0.0352077\ttotal: 343ms\tremaining: 280ms\n",
      "550:\tlearn: 0.0351662\ttotal: 343ms\tremaining: 280ms\n",
      "551:\tlearn: 0.0351120\ttotal: 344ms\tremaining: 279ms\n",
      "552:\tlearn: 0.0350700\ttotal: 344ms\tremaining: 278ms\n",
      "553:\tlearn: 0.0350172\ttotal: 345ms\tremaining: 277ms\n",
      "554:\tlearn: 0.0349778\ttotal: 345ms\tremaining: 277ms\n",
      "555:\tlearn: 0.0348609\ttotal: 345ms\tremaining: 276ms\n",
      "556:\tlearn: 0.0347617\ttotal: 346ms\tremaining: 275ms\n",
      "557:\tlearn: 0.0346768\ttotal: 346ms\tremaining: 274ms\n",
      "558:\tlearn: 0.0345824\ttotal: 347ms\tremaining: 274ms\n",
      "559:\tlearn: 0.0345632\ttotal: 348ms\tremaining: 273ms\n",
      "560:\tlearn: 0.0345442\ttotal: 348ms\tremaining: 272ms\n",
      "561:\tlearn: 0.0344941\ttotal: 348ms\tremaining: 272ms\n",
      "562:\tlearn: 0.0344451\ttotal: 349ms\tremaining: 271ms\n",
      "563:\tlearn: 0.0344151\ttotal: 349ms\tremaining: 270ms\n",
      "564:\tlearn: 0.0343349\ttotal: 350ms\tremaining: 269ms\n",
      "565:\tlearn: 0.0343055\ttotal: 351ms\tremaining: 269ms\n",
      "566:\tlearn: 0.0341419\ttotal: 351ms\tremaining: 268ms\n",
      "567:\tlearn: 0.0341130\ttotal: 352ms\tremaining: 267ms\n",
      "568:\tlearn: 0.0339537\ttotal: 352ms\tremaining: 267ms\n",
      "569:\tlearn: 0.0337531\ttotal: 353ms\tremaining: 266ms\n",
      "570:\tlearn: 0.0335570\ttotal: 353ms\tremaining: 265ms\n",
      "571:\tlearn: 0.0334034\ttotal: 354ms\tremaining: 265ms\n",
      "572:\tlearn: 0.0332796\ttotal: 354ms\tremaining: 264ms\n",
      "573:\tlearn: 0.0331477\ttotal: 355ms\tremaining: 263ms\n",
      "574:\tlearn: 0.0330004\ttotal: 355ms\tremaining: 262ms\n",
      "575:\tlearn: 0.0328737\ttotal: 356ms\tremaining: 262ms\n",
      "576:\tlearn: 0.0327305\ttotal: 356ms\tremaining: 261ms\n",
      "577:\tlearn: 0.0326266\ttotal: 356ms\tremaining: 260ms\n",
      "578:\tlearn: 0.0325042\ttotal: 357ms\tremaining: 260ms\n",
      "579:\tlearn: 0.0324034\ttotal: 357ms\tremaining: 259ms\n",
      "580:\tlearn: 0.0322651\ttotal: 358ms\tremaining: 258ms\n",
      "581:\tlearn: 0.0321468\ttotal: 359ms\tremaining: 258ms\n",
      "582:\tlearn: 0.0320191\ttotal: 359ms\tremaining: 257ms\n",
      "583:\tlearn: 0.0319216\ttotal: 360ms\tremaining: 256ms\n",
      "584:\tlearn: 0.0317892\ttotal: 360ms\tremaining: 256ms\n",
      "585:\tlearn: 0.0316751\ttotal: 361ms\tremaining: 255ms\n",
      "586:\tlearn: 0.0315525\ttotal: 361ms\tremaining: 254ms\n",
      "587:\tlearn: 0.0314253\ttotal: 362ms\tremaining: 254ms\n",
      "588:\tlearn: 0.0313315\ttotal: 363ms\tremaining: 253ms\n",
      "589:\tlearn: 0.0312214\ttotal: 363ms\tremaining: 252ms\n",
      "590:\tlearn: 0.0311036\ttotal: 364ms\tremaining: 252ms\n",
      "591:\tlearn: 0.0309818\ttotal: 364ms\tremaining: 251ms\n",
      "592:\tlearn: 0.0308911\ttotal: 365ms\tremaining: 250ms\n",
      "593:\tlearn: 0.0307849\ttotal: 365ms\tremaining: 250ms\n",
      "594:\tlearn: 0.0307104\ttotal: 366ms\tremaining: 249ms\n",
      "595:\tlearn: 0.0305929\ttotal: 366ms\tremaining: 248ms\n",
      "596:\tlearn: 0.0305206\ttotal: 366ms\tremaining: 247ms\n",
      "597:\tlearn: 0.0304093\ttotal: 367ms\tremaining: 247ms\n",
      "598:\tlearn: 0.0303820\ttotal: 367ms\tremaining: 246ms\n",
      "599:\tlearn: 0.0303116\ttotal: 368ms\tremaining: 245ms\n"
     ]
    },
    {
     "name": "stdout",
     "output_type": "stream",
     "text": [
      "600:\tlearn: 0.0301995\ttotal: 368ms\tremaining: 245ms\n",
      "601:\tlearn: 0.0301138\ttotal: 369ms\tremaining: 244ms\n",
      "602:\tlearn: 0.0300301\ttotal: 370ms\tremaining: 243ms\n",
      "603:\tlearn: 0.0299233\ttotal: 370ms\tremaining: 243ms\n",
      "604:\tlearn: 0.0298969\ttotal: 371ms\tremaining: 242ms\n",
      "605:\tlearn: 0.0298297\ttotal: 371ms\tremaining: 241ms\n",
      "606:\tlearn: 0.0297231\ttotal: 371ms\tremaining: 240ms\n",
      "607:\tlearn: 0.0295814\ttotal: 372ms\tremaining: 240ms\n",
      "608:\tlearn: 0.0295166\ttotal: 372ms\tremaining: 239ms\n",
      "609:\tlearn: 0.0294135\ttotal: 373ms\tremaining: 238ms\n",
      "610:\tlearn: 0.0293552\ttotal: 373ms\tremaining: 238ms\n",
      "611:\tlearn: 0.0292575\ttotal: 374ms\tremaining: 237ms\n",
      "612:\tlearn: 0.0291204\ttotal: 374ms\tremaining: 236ms\n",
      "613:\tlearn: 0.0290210\ttotal: 375ms\tremaining: 236ms\n",
      "614:\tlearn: 0.0289647\ttotal: 375ms\tremaining: 235ms\n",
      "615:\tlearn: 0.0288696\ttotal: 376ms\tremaining: 234ms\n",
      "616:\tlearn: 0.0287366\ttotal: 376ms\tremaining: 234ms\n",
      "617:\tlearn: 0.0286346\ttotal: 377ms\tremaining: 233ms\n",
      "618:\tlearn: 0.0285055\ttotal: 377ms\tremaining: 232ms\n",
      "619:\tlearn: 0.0284823\ttotal: 377ms\tremaining: 231ms\n",
      "620:\tlearn: 0.0283882\ttotal: 378ms\tremaining: 231ms\n",
      "621:\tlearn: 0.0283343\ttotal: 378ms\tremaining: 230ms\n",
      "622:\tlearn: 0.0282229\ttotal: 379ms\tremaining: 229ms\n",
      "623:\tlearn: 0.0282002\ttotal: 380ms\tremaining: 229ms\n",
      "624:\tlearn: 0.0281030\ttotal: 380ms\tremaining: 228ms\n",
      "625:\tlearn: 0.0279781\ttotal: 381ms\tremaining: 227ms\n",
      "626:\tlearn: 0.0279558\ttotal: 381ms\tremaining: 227ms\n",
      "627:\tlearn: 0.0278671\ttotal: 382ms\tremaining: 226ms\n",
      "628:\tlearn: 0.0277920\ttotal: 382ms\tremaining: 225ms\n",
      "629:\tlearn: 0.0276835\ttotal: 383ms\tremaining: 225ms\n",
      "630:\tlearn: 0.0275018\ttotal: 383ms\tremaining: 224ms\n",
      "631:\tlearn: 0.0273239\ttotal: 383ms\tremaining: 223ms\n",
      "632:\tlearn: 0.0271500\ttotal: 384ms\tremaining: 223ms\n",
      "633:\tlearn: 0.0269798\ttotal: 384ms\tremaining: 222ms\n",
      "634:\tlearn: 0.0268133\ttotal: 385ms\tremaining: 221ms\n",
      "635:\tlearn: 0.0266756\ttotal: 385ms\tremaining: 221ms\n",
      "636:\tlearn: 0.0265602\ttotal: 386ms\tremaining: 220ms\n",
      "637:\tlearn: 0.0264004\ttotal: 386ms\tremaining: 219ms\n",
      "638:\tlearn: 0.0262691\ttotal: 387ms\tremaining: 219ms\n",
      "639:\tlearn: 0.0261589\ttotal: 387ms\tremaining: 218ms\n",
      "640:\tlearn: 0.0260055\ttotal: 388ms\tremaining: 217ms\n",
      "641:\tlearn: 0.0258411\ttotal: 389ms\tremaining: 217ms\n",
      "642:\tlearn: 0.0257347\ttotal: 390ms\tremaining: 216ms\n",
      "643:\tlearn: 0.0256063\ttotal: 390ms\tremaining: 216ms\n",
      "644:\tlearn: 0.0254802\ttotal: 391ms\tremaining: 215ms\n",
      "645:\tlearn: 0.0253412\ttotal: 392ms\tremaining: 215ms\n",
      "646:\tlearn: 0.0251851\ttotal: 392ms\tremaining: 214ms\n",
      "647:\tlearn: 0.0250645\ttotal: 392ms\tremaining: 213ms\n",
      "648:\tlearn: 0.0249429\ttotal: 393ms\tremaining: 213ms\n",
      "649:\tlearn: 0.0248235\ttotal: 394ms\tremaining: 212ms\n",
      "650:\tlearn: 0.0246748\ttotal: 394ms\tremaining: 211ms\n",
      "651:\tlearn: 0.0245485\ttotal: 395ms\tremaining: 211ms\n",
      "652:\tlearn: 0.0244079\ttotal: 395ms\tremaining: 210ms\n",
      "653:\tlearn: 0.0242838\ttotal: 396ms\tremaining: 209ms\n",
      "654:\tlearn: 0.0241323\ttotal: 396ms\tremaining: 209ms\n",
      "655:\tlearn: 0.0239745\ttotal: 396ms\tremaining: 208ms\n",
      "656:\tlearn: 0.0238193\ttotal: 397ms\tremaining: 207ms\n",
      "657:\tlearn: 0.0236815\ttotal: 397ms\tremaining: 206ms\n",
      "658:\tlearn: 0.0235471\ttotal: 398ms\tremaining: 206ms\n",
      "659:\tlearn: 0.0234820\ttotal: 398ms\tremaining: 205ms\n",
      "660:\tlearn: 0.0233709\ttotal: 399ms\tremaining: 204ms\n",
      "661:\tlearn: 0.0232605\ttotal: 399ms\tremaining: 204ms\n",
      "662:\tlearn: 0.0231550\ttotal: 399ms\tremaining: 203ms\n",
      "663:\tlearn: 0.0230467\ttotal: 400ms\tremaining: 202ms\n",
      "664:\tlearn: 0.0229390\ttotal: 400ms\tremaining: 202ms\n",
      "665:\tlearn: 0.0228123\ttotal: 401ms\tremaining: 201ms\n",
      "666:\tlearn: 0.0227500\ttotal: 401ms\tremaining: 200ms\n",
      "667:\tlearn: 0.0226051\ttotal: 402ms\tremaining: 200ms\n",
      "668:\tlearn: 0.0224856\ttotal: 402ms\tremaining: 199ms\n",
      "669:\tlearn: 0.0224409\ttotal: 402ms\tremaining: 198ms\n",
      "670:\tlearn: 0.0223372\ttotal: 403ms\tremaining: 198ms\n",
      "671:\tlearn: 0.0222206\ttotal: 404ms\tremaining: 197ms\n",
      "672:\tlearn: 0.0220936\ttotal: 404ms\tremaining: 196ms\n",
      "673:\tlearn: 0.0220531\ttotal: 405ms\tremaining: 196ms\n",
      "674:\tlearn: 0.0219461\ttotal: 405ms\tremaining: 195ms\n",
      "675:\tlearn: 0.0218462\ttotal: 406ms\tremaining: 194ms\n",
      "676:\tlearn: 0.0217416\ttotal: 406ms\tremaining: 194ms\n",
      "677:\tlearn: 0.0216585\ttotal: 407ms\tremaining: 193ms\n",
      "678:\tlearn: 0.0215624\ttotal: 407ms\tremaining: 192ms\n",
      "679:\tlearn: 0.0214787\ttotal: 408ms\tremaining: 192ms\n",
      "680:\tlearn: 0.0213879\ttotal: 408ms\tremaining: 191ms\n",
      "681:\tlearn: 0.0212843\ttotal: 409ms\tremaining: 191ms\n",
      "682:\tlearn: 0.0212459\ttotal: 409ms\tremaining: 190ms\n",
      "683:\tlearn: 0.0211405\ttotal: 410ms\tremaining: 189ms\n",
      "684:\tlearn: 0.0210828\ttotal: 410ms\tremaining: 189ms\n",
      "685:\tlearn: 0.0210455\ttotal: 411ms\tremaining: 188ms\n",
      "686:\tlearn: 0.0209895\ttotal: 411ms\tremaining: 187ms\n",
      "687:\tlearn: 0.0209083\ttotal: 412ms\tremaining: 187ms\n",
      "688:\tlearn: 0.0208535\ttotal: 412ms\tremaining: 186ms\n",
      "689:\tlearn: 0.0207741\ttotal: 413ms\tremaining: 185ms\n",
      "690:\tlearn: 0.0207205\ttotal: 413ms\tremaining: 185ms\n",
      "691:\tlearn: 0.0206287\ttotal: 414ms\tremaining: 184ms\n",
      "692:\tlearn: 0.0204903\ttotal: 414ms\tremaining: 184ms\n",
      "693:\tlearn: 0.0204138\ttotal: 415ms\tremaining: 183ms\n",
      "694:\tlearn: 0.0203584\ttotal: 415ms\tremaining: 182ms\n",
      "695:\tlearn: 0.0202694\ttotal: 416ms\tremaining: 182ms\n",
      "696:\tlearn: 0.0202095\ttotal: 416ms\tremaining: 181ms\n",
      "697:\tlearn: 0.0201440\ttotal: 417ms\tremaining: 180ms\n",
      "698:\tlearn: 0.0200689\ttotal: 418ms\tremaining: 180ms\n",
      "699:\tlearn: 0.0199951\ttotal: 418ms\tremaining: 179ms\n",
      "700:\tlearn: 0.0199611\ttotal: 419ms\tremaining: 179ms\n",
      "701:\tlearn: 0.0199107\ttotal: 419ms\tremaining: 178ms\n",
      "702:\tlearn: 0.0198361\ttotal: 420ms\tremaining: 177ms\n",
      "703:\tlearn: 0.0197639\ttotal: 420ms\tremaining: 177ms\n",
      "704:\tlearn: 0.0197018\ttotal: 421ms\tremaining: 176ms\n",
      "705:\tlearn: 0.0196047\ttotal: 421ms\tremaining: 175ms\n",
      "706:\tlearn: 0.0195345\ttotal: 422ms\tremaining: 175ms\n",
      "707:\tlearn: 0.0195021\ttotal: 422ms\tremaining: 174ms\n",
      "708:\tlearn: 0.0194704\ttotal: 423ms\tremaining: 173ms\n",
      "709:\tlearn: 0.0193620\ttotal: 423ms\tremaining: 173ms\n",
      "710:\tlearn: 0.0193309\ttotal: 424ms\tremaining: 172ms\n",
      "711:\tlearn: 0.0192838\ttotal: 424ms\tremaining: 172ms\n",
      "712:\tlearn: 0.0192155\ttotal: 425ms\tremaining: 171ms\n",
      "713:\tlearn: 0.0191852\ttotal: 425ms\tremaining: 170ms\n",
      "714:\tlearn: 0.0191395\ttotal: 426ms\tremaining: 170ms\n",
      "715:\tlearn: 0.0190347\ttotal: 426ms\tremaining: 169ms\n",
      "716:\tlearn: 0.0189835\ttotal: 427ms\tremaining: 168ms\n",
      "717:\tlearn: 0.0189545\ttotal: 427ms\tremaining: 168ms\n",
      "718:\tlearn: 0.0189064\ttotal: 428ms\tremaining: 167ms\n",
      "719:\tlearn: 0.0188047\ttotal: 428ms\tremaining: 167ms\n",
      "720:\tlearn: 0.0187552\ttotal: 429ms\tremaining: 166ms\n",
      "721:\tlearn: 0.0187273\ttotal: 429ms\tremaining: 165ms\n",
      "722:\tlearn: 0.0186619\ttotal: 430ms\tremaining: 165ms\n",
      "723:\tlearn: 0.0186140\ttotal: 431ms\tremaining: 164ms\n",
      "724:\tlearn: 0.0184929\ttotal: 431ms\tremaining: 164ms\n",
      "725:\tlearn: 0.0184660\ttotal: 432ms\tremaining: 163ms\n",
      "726:\tlearn: 0.0183680\ttotal: 432ms\tremaining: 162ms\n",
      "727:\tlearn: 0.0183416\ttotal: 433ms\tremaining: 162ms\n",
      "728:\tlearn: 0.0182995\ttotal: 433ms\tremaining: 161ms\n",
      "729:\tlearn: 0.0182041\ttotal: 434ms\tremaining: 160ms\n",
      "730:\tlearn: 0.0181784\ttotal: 434ms\tremaining: 160ms\n",
      "731:\tlearn: 0.0180890\ttotal: 435ms\tremaining: 159ms\n",
      "732:\tlearn: 0.0180266\ttotal: 435ms\tremaining: 159ms\n",
      "733:\tlearn: 0.0178979\ttotal: 436ms\tremaining: 158ms\n",
      "734:\tlearn: 0.0178426\ttotal: 436ms\tremaining: 157ms\n",
      "735:\tlearn: 0.0178179\ttotal: 437ms\tremaining: 157ms\n",
      "736:\tlearn: 0.0176931\ttotal: 437ms\tremaining: 156ms\n",
      "737:\tlearn: 0.0176396\ttotal: 438ms\tremaining: 155ms\n",
      "738:\tlearn: 0.0176001\ttotal: 438ms\tremaining: 155ms\n",
      "739:\tlearn: 0.0174904\ttotal: 439ms\tremaining: 154ms\n",
      "740:\tlearn: 0.0174251\ttotal: 439ms\tremaining: 154ms\n",
      "741:\tlearn: 0.0173854\ttotal: 440ms\tremaining: 153ms\n",
      "742:\tlearn: 0.0173346\ttotal: 440ms\tremaining: 152ms\n",
      "743:\tlearn: 0.0173114\ttotal: 441ms\tremaining: 152ms\n",
      "744:\tlearn: 0.0172226\ttotal: 441ms\tremaining: 151ms\n",
      "745:\tlearn: 0.0171590\ttotal: 442ms\tremaining: 150ms\n",
      "746:\tlearn: 0.0170965\ttotal: 442ms\tremaining: 150ms\n",
      "747:\tlearn: 0.0170738\ttotal: 443ms\tremaining: 149ms\n",
      "748:\tlearn: 0.0170113\ttotal: 443ms\tremaining: 149ms\n",
      "749:\tlearn: 0.0169058\ttotal: 444ms\tremaining: 148ms\n",
      "750:\tlearn: 0.0167921\ttotal: 444ms\tremaining: 147ms\n",
      "751:\tlearn: 0.0167551\ttotal: 445ms\tremaining: 147ms\n",
      "752:\tlearn: 0.0167200\ttotal: 445ms\tremaining: 146ms\n",
      "753:\tlearn: 0.0166603\ttotal: 446ms\tremaining: 145ms\n",
      "754:\tlearn: 0.0165587\ttotal: 446ms\tremaining: 145ms\n",
      "755:\tlearn: 0.0164595\ttotal: 447ms\tremaining: 144ms\n",
      "756:\tlearn: 0.0163535\ttotal: 447ms\tremaining: 144ms\n",
      "757:\tlearn: 0.0162819\ttotal: 448ms\tremaining: 143ms\n",
      "758:\tlearn: 0.0161787\ttotal: 448ms\tremaining: 142ms\n",
      "759:\tlearn: 0.0160973\ttotal: 449ms\tremaining: 142ms\n",
      "760:\tlearn: 0.0160485\ttotal: 449ms\tremaining: 141ms\n",
      "761:\tlearn: 0.0159790\ttotal: 449ms\tremaining: 140ms\n",
      "762:\tlearn: 0.0159022\ttotal: 450ms\tremaining: 140ms\n",
      "763:\tlearn: 0.0158282\ttotal: 450ms\tremaining: 139ms\n",
      "764:\tlearn: 0.0157607\ttotal: 451ms\tremaining: 139ms\n",
      "765:\tlearn: 0.0156884\ttotal: 451ms\tremaining: 138ms\n",
      "766:\tlearn: 0.0156173\ttotal: 452ms\tremaining: 137ms\n",
      "767:\tlearn: 0.0155474\ttotal: 452ms\tremaining: 137ms\n",
      "768:\tlearn: 0.0154786\ttotal: 453ms\tremaining: 136ms\n",
      "769:\tlearn: 0.0154139\ttotal: 454ms\tremaining: 135ms\n",
      "770:\tlearn: 0.0153467\ttotal: 454ms\tremaining: 135ms\n",
      "771:\tlearn: 0.0152806\ttotal: 455ms\tremaining: 134ms\n",
      "772:\tlearn: 0.0152192\ttotal: 455ms\tremaining: 134ms\n",
      "773:\tlearn: 0.0151576\ttotal: 455ms\tremaining: 133ms\n",
      "774:\tlearn: 0.0150959\ttotal: 456ms\tremaining: 132ms\n",
      "775:\tlearn: 0.0150311\ttotal: 457ms\tremaining: 132ms\n",
      "776:\tlearn: 0.0149674\ttotal: 457ms\tremaining: 131ms\n",
      "777:\tlearn: 0.0149048\ttotal: 458ms\tremaining: 131ms\n",
      "778:\tlearn: 0.0148561\ttotal: 458ms\tremaining: 130ms\n",
      "779:\tlearn: 0.0147908\ttotal: 459ms\tremaining: 129ms\n",
      "780:\tlearn: 0.0147269\ttotal: 459ms\tremaining: 129ms\n",
      "781:\tlearn: 0.0146528\ttotal: 460ms\tremaining: 128ms\n",
      "782:\tlearn: 0.0145807\ttotal: 460ms\tremaining: 128ms\n",
      "783:\tlearn: 0.0145329\ttotal: 461ms\tremaining: 127ms\n",
      "784:\tlearn: 0.0144443\ttotal: 461ms\tremaining: 126ms\n",
      "785:\tlearn: 0.0143598\ttotal: 462ms\tremaining: 126ms\n",
      "786:\tlearn: 0.0143132\ttotal: 463ms\tremaining: 125ms\n",
      "787:\tlearn: 0.0142393\ttotal: 463ms\tremaining: 125ms\n",
      "788:\tlearn: 0.0141717\ttotal: 463ms\tremaining: 124ms\n",
      "789:\tlearn: 0.0140996\ttotal: 464ms\tremaining: 123ms\n",
      "790:\tlearn: 0.0140250\ttotal: 464ms\tremaining: 123ms\n",
      "791:\tlearn: 0.0139440\ttotal: 465ms\tremaining: 122ms\n",
      "792:\tlearn: 0.0138643\ttotal: 466ms\tremaining: 122ms\n",
      "793:\tlearn: 0.0137821\ttotal: 466ms\tremaining: 121ms\n",
      "794:\tlearn: 0.0137114\ttotal: 467ms\tremaining: 120ms\n",
      "795:\tlearn: 0.0136481\ttotal: 467ms\tremaining: 120ms\n",
      "796:\tlearn: 0.0135801\ttotal: 468ms\tremaining: 119ms\n",
      "797:\tlearn: 0.0135163\ttotal: 469ms\tremaining: 119ms\n",
      "798:\tlearn: 0.0134683\ttotal: 470ms\tremaining: 118ms\n",
      "799:\tlearn: 0.0134067\ttotal: 470ms\tremaining: 118ms\n",
      "800:\tlearn: 0.0133416\ttotal: 471ms\tremaining: 117ms\n",
      "801:\tlearn: 0.0132947\ttotal: 471ms\tremaining: 116ms\n",
      "802:\tlearn: 0.0132305\ttotal: 472ms\tremaining: 116ms\n",
      "803:\tlearn: 0.0131696\ttotal: 472ms\tremaining: 115ms\n",
      "804:\tlearn: 0.0131240\ttotal: 473ms\tremaining: 115ms\n"
     ]
    },
    {
     "name": "stdout",
     "output_type": "stream",
     "text": [
      "805:\tlearn: 0.0130506\ttotal: 473ms\tremaining: 114ms\n",
      "806:\tlearn: 0.0129967\ttotal: 474ms\tremaining: 113ms\n",
      "807:\tlearn: 0.0129523\ttotal: 474ms\tremaining: 113ms\n",
      "808:\tlearn: 0.0128755\ttotal: 475ms\tremaining: 112ms\n",
      "809:\tlearn: 0.0128169\ttotal: 475ms\tremaining: 112ms\n",
      "810:\tlearn: 0.0127407\ttotal: 476ms\tremaining: 111ms\n",
      "811:\tlearn: 0.0126977\ttotal: 477ms\tremaining: 110ms\n",
      "812:\tlearn: 0.0126404\ttotal: 477ms\tremaining: 110ms\n",
      "813:\tlearn: 0.0125731\ttotal: 478ms\tremaining: 109ms\n",
      "814:\tlearn: 0.0125223\ttotal: 478ms\tremaining: 109ms\n",
      "815:\tlearn: 0.0124694\ttotal: 479ms\tremaining: 108ms\n",
      "816:\tlearn: 0.0123965\ttotal: 479ms\tremaining: 107ms\n",
      "817:\tlearn: 0.0123507\ttotal: 480ms\tremaining: 107ms\n",
      "818:\tlearn: 0.0122942\ttotal: 480ms\tremaining: 106ms\n",
      "819:\tlearn: 0.0122510\ttotal: 481ms\tremaining: 106ms\n",
      "820:\tlearn: 0.0121650\ttotal: 481ms\tremaining: 105ms\n",
      "821:\tlearn: 0.0121229\ttotal: 482ms\tremaining: 104ms\n",
      "822:\tlearn: 0.0120819\ttotal: 482ms\tremaining: 104ms\n",
      "823:\tlearn: 0.0120179\ttotal: 483ms\tremaining: 103ms\n",
      "824:\tlearn: 0.0119779\ttotal: 483ms\tremaining: 103ms\n",
      "825:\tlearn: 0.0119281\ttotal: 484ms\tremaining: 102ms\n",
      "826:\tlearn: 0.0118891\ttotal: 484ms\tremaining: 101ms\n",
      "827:\tlearn: 0.0118419\ttotal: 485ms\tremaining: 101ms\n",
      "828:\tlearn: 0.0117893\ttotal: 485ms\tremaining: 100ms\n",
      "829:\tlearn: 0.0117514\ttotal: 486ms\tremaining: 99.5ms\n",
      "830:\tlearn: 0.0117056\ttotal: 486ms\tremaining: 98.9ms\n",
      "831:\tlearn: 0.0116576\ttotal: 487ms\tremaining: 98.3ms\n",
      "832:\tlearn: 0.0116033\ttotal: 487ms\tremaining: 97.7ms\n",
      "833:\tlearn: 0.0115745\ttotal: 488ms\tremaining: 97.1ms\n",
      "834:\tlearn: 0.0115236\ttotal: 488ms\tremaining: 96.5ms\n",
      "835:\tlearn: 0.0114872\ttotal: 489ms\tremaining: 95.9ms\n",
      "836:\tlearn: 0.0114353\ttotal: 489ms\tremaining: 95.3ms\n",
      "837:\tlearn: 0.0113890\ttotal: 490ms\tremaining: 94.7ms\n",
      "838:\tlearn: 0.0113381\ttotal: 491ms\tremaining: 94.2ms\n",
      "839:\tlearn: 0.0112887\ttotal: 491ms\tremaining: 93.6ms\n",
      "840:\tlearn: 0.0112396\ttotal: 492ms\tremaining: 92.9ms\n",
      "841:\tlearn: 0.0111883\ttotal: 492ms\tremaining: 92.3ms\n",
      "842:\tlearn: 0.0111325\ttotal: 493ms\tremaining: 91.8ms\n",
      "843:\tlearn: 0.0110717\ttotal: 493ms\tremaining: 91.2ms\n",
      "844:\tlearn: 0.0110301\ttotal: 494ms\tremaining: 90.5ms\n",
      "845:\tlearn: 0.0109840\ttotal: 494ms\tremaining: 89.9ms\n",
      "846:\tlearn: 0.0109401\ttotal: 495ms\tremaining: 89.3ms\n",
      "847:\tlearn: 0.0108865\ttotal: 495ms\tremaining: 88.8ms\n",
      "848:\tlearn: 0.0108458\ttotal: 496ms\tremaining: 88.2ms\n",
      "849:\tlearn: 0.0108173\ttotal: 496ms\tremaining: 87.5ms\n",
      "850:\tlearn: 0.0107711\ttotal: 497ms\tremaining: 87ms\n",
      "851:\tlearn: 0.0107434\ttotal: 497ms\tremaining: 86.4ms\n",
      "852:\tlearn: 0.0107094\ttotal: 498ms\tremaining: 85.8ms\n",
      "853:\tlearn: 0.0106646\ttotal: 498ms\tremaining: 85.2ms\n",
      "854:\tlearn: 0.0106312\ttotal: 499ms\tremaining: 84.6ms\n",
      "855:\tlearn: 0.0105984\ttotal: 499ms\tremaining: 84ms\n",
      "856:\tlearn: 0.0105661\ttotal: 500ms\tremaining: 83.4ms\n",
      "857:\tlearn: 0.0105230\ttotal: 500ms\tremaining: 82.8ms\n",
      "858:\tlearn: 0.0104914\ttotal: 501ms\tremaining: 82.2ms\n",
      "859:\tlearn: 0.0104603\ttotal: 501ms\tremaining: 81.6ms\n",
      "860:\tlearn: 0.0104294\ttotal: 502ms\tremaining: 81ms\n",
      "861:\tlearn: 0.0103877\ttotal: 502ms\tremaining: 80.4ms\n",
      "862:\tlearn: 0.0103576\ttotal: 503ms\tremaining: 79.8ms\n",
      "863:\tlearn: 0.0103278\ttotal: 504ms\tremaining: 79.3ms\n",
      "864:\tlearn: 0.0102873\ttotal: 504ms\tremaining: 78.7ms\n",
      "865:\tlearn: 0.0102501\ttotal: 505ms\tremaining: 78.1ms\n",
      "866:\tlearn: 0.0102215\ttotal: 505ms\tremaining: 77.5ms\n",
      "867:\tlearn: 0.0101828\ttotal: 506ms\tremaining: 76.9ms\n",
      "868:\tlearn: 0.0101519\ttotal: 506ms\tremaining: 76.3ms\n",
      "869:\tlearn: 0.0100854\ttotal: 507ms\tremaining: 75.7ms\n",
      "870:\tlearn: 0.0100475\ttotal: 507ms\tremaining: 75.1ms\n",
      "871:\tlearn: 0.0099825\ttotal: 508ms\tremaining: 74.5ms\n",
      "872:\tlearn: 0.0099189\ttotal: 508ms\tremaining: 73.9ms\n",
      "873:\tlearn: 0.0098803\ttotal: 509ms\tremaining: 73.3ms\n",
      "874:\tlearn: 0.0098461\ttotal: 509ms\tremaining: 72.7ms\n",
      "875:\tlearn: 0.0097845\ttotal: 510ms\tremaining: 72.1ms\n",
      "876:\tlearn: 0.0097592\ttotal: 510ms\tremaining: 71.5ms\n",
      "877:\tlearn: 0.0097156\ttotal: 510ms\tremaining: 70.9ms\n",
      "878:\tlearn: 0.0096911\ttotal: 511ms\tremaining: 70.3ms\n",
      "879:\tlearn: 0.0096456\ttotal: 511ms\tremaining: 69.7ms\n",
      "880:\tlearn: 0.0096054\ttotal: 512ms\tremaining: 69.2ms\n",
      "881:\tlearn: 0.0095814\ttotal: 513ms\tremaining: 68.6ms\n",
      "882:\tlearn: 0.0095458\ttotal: 513ms\tremaining: 68ms\n",
      "883:\tlearn: 0.0095066\ttotal: 514ms\tremaining: 67.4ms\n",
      "884:\tlearn: 0.0094653\ttotal: 514ms\tremaining: 66.8ms\n",
      "885:\tlearn: 0.0094421\ttotal: 515ms\tremaining: 66.2ms\n",
      "886:\tlearn: 0.0094040\ttotal: 515ms\tremaining: 65.7ms\n",
      "887:\tlearn: 0.0093777\ttotal: 516ms\tremaining: 65.1ms\n",
      "888:\tlearn: 0.0093438\ttotal: 516ms\tremaining: 64.5ms\n",
      "889:\tlearn: 0.0093110\ttotal: 517ms\tremaining: 63.9ms\n",
      "890:\tlearn: 0.0092816\ttotal: 518ms\tremaining: 63.3ms\n",
      "891:\tlearn: 0.0092529\ttotal: 519ms\tremaining: 62.8ms\n",
      "892:\tlearn: 0.0092080\ttotal: 519ms\tremaining: 62.2ms\n",
      "893:\tlearn: 0.0091641\ttotal: 520ms\tremaining: 61.6ms\n",
      "894:\tlearn: 0.0091329\ttotal: 520ms\tremaining: 61ms\n",
      "895:\tlearn: 0.0091006\ttotal: 521ms\tremaining: 60.4ms\n",
      "896:\tlearn: 0.0090636\ttotal: 521ms\tremaining: 59.9ms\n",
      "897:\tlearn: 0.0090443\ttotal: 522ms\tremaining: 59.3ms\n",
      "898:\tlearn: 0.0090138\ttotal: 522ms\tremaining: 58.7ms\n",
      "899:\tlearn: 0.0089949\ttotal: 523ms\tremaining: 58.1ms\n",
      "900:\tlearn: 0.0089490\ttotal: 524ms\tremaining: 57.5ms\n",
      "901:\tlearn: 0.0089242\ttotal: 524ms\tremaining: 56.9ms\n",
      "902:\tlearn: 0.0088946\ttotal: 524ms\tremaining: 56.3ms\n",
      "903:\tlearn: 0.0088724\ttotal: 525ms\tremaining: 55.7ms\n",
      "904:\tlearn: 0.0088434\ttotal: 525ms\tremaining: 55.2ms\n",
      "905:\tlearn: 0.0088216\ttotal: 526ms\tremaining: 54.6ms\n",
      "906:\tlearn: 0.0087771\ttotal: 527ms\tremaining: 54ms\n",
      "907:\tlearn: 0.0087532\ttotal: 527ms\tremaining: 53.4ms\n",
      "908:\tlearn: 0.0087238\ttotal: 528ms\tremaining: 52.8ms\n",
      "909:\tlearn: 0.0087006\ttotal: 528ms\tremaining: 52.3ms\n",
      "910:\tlearn: 0.0086794\ttotal: 529ms\tremaining: 51.7ms\n",
      "911:\tlearn: 0.0086362\ttotal: 529ms\tremaining: 51.1ms\n",
      "912:\tlearn: 0.0086085\ttotal: 530ms\tremaining: 50.5ms\n",
      "913:\tlearn: 0.0085815\ttotal: 530ms\tremaining: 49.9ms\n",
      "914:\tlearn: 0.0085339\ttotal: 531ms\tremaining: 49.3ms\n",
      "915:\tlearn: 0.0084902\ttotal: 532ms\tremaining: 48.7ms\n",
      "916:\tlearn: 0.0084679\ttotal: 532ms\tremaining: 48.2ms\n",
      "917:\tlearn: 0.0084418\ttotal: 533ms\tremaining: 47.6ms\n",
      "918:\tlearn: 0.0084213\ttotal: 533ms\tremaining: 47ms\n",
      "919:\tlearn: 0.0083791\ttotal: 534ms\tremaining: 46.4ms\n",
      "920:\tlearn: 0.0083596\ttotal: 534ms\tremaining: 45.8ms\n",
      "921:\tlearn: 0.0083192\ttotal: 535ms\tremaining: 45.2ms\n",
      "922:\tlearn: 0.0082993\ttotal: 535ms\tremaining: 44.7ms\n",
      "923:\tlearn: 0.0082651\ttotal: 536ms\tremaining: 44.1ms\n",
      "924:\tlearn: 0.0082262\ttotal: 536ms\tremaining: 43.5ms\n",
      "925:\tlearn: 0.0082099\ttotal: 537ms\tremaining: 42.9ms\n",
      "926:\tlearn: 0.0081723\ttotal: 537ms\tremaining: 42.3ms\n",
      "927:\tlearn: 0.0081399\ttotal: 538ms\tremaining: 41.7ms\n",
      "928:\tlearn: 0.0081239\ttotal: 539ms\tremaining: 41.2ms\n",
      "929:\tlearn: 0.0081089\ttotal: 539ms\tremaining: 40.6ms\n",
      "930:\tlearn: 0.0080687\ttotal: 539ms\tremaining: 40ms\n",
      "931:\tlearn: 0.0080542\ttotal: 540ms\tremaining: 39.4ms\n",
      "932:\tlearn: 0.0080401\ttotal: 540ms\tremaining: 38.8ms\n",
      "933:\tlearn: 0.0080264\ttotal: 541ms\tremaining: 38.2ms\n",
      "934:\tlearn: 0.0080117\ttotal: 542ms\tremaining: 37.6ms\n",
      "935:\tlearn: 0.0080030\ttotal: 542ms\tremaining: 37.1ms\n",
      "936:\tlearn: 0.0079640\ttotal: 543ms\tremaining: 36.5ms\n",
      "937:\tlearn: 0.0079403\ttotal: 543ms\tremaining: 35.9ms\n",
      "938:\tlearn: 0.0079172\ttotal: 544ms\tremaining: 35.3ms\n",
      "939:\tlearn: 0.0078987\ttotal: 544ms\tremaining: 34.7ms\n",
      "940:\tlearn: 0.0078845\ttotal: 545ms\tremaining: 34.2ms\n",
      "941:\tlearn: 0.0078745\ttotal: 545ms\tremaining: 33.6ms\n",
      "942:\tlearn: 0.0078315\ttotal: 546ms\tremaining: 33ms\n",
      "943:\tlearn: 0.0078135\ttotal: 546ms\tremaining: 32.4ms\n",
      "944:\tlearn: 0.0077896\ttotal: 547ms\tremaining: 31.8ms\n",
      "945:\tlearn: 0.0077541\ttotal: 547ms\tremaining: 31.2ms\n",
      "946:\tlearn: 0.0077185\ttotal: 548ms\tremaining: 30.7ms\n",
      "947:\tlearn: 0.0076843\ttotal: 549ms\tremaining: 30.1ms\n",
      "948:\tlearn: 0.0076500\ttotal: 549ms\tremaining: 29.5ms\n",
      "949:\tlearn: 0.0076171\ttotal: 550ms\tremaining: 28.9ms\n",
      "950:\tlearn: 0.0075878\ttotal: 550ms\tremaining: 28.3ms\n",
      "951:\tlearn: 0.0075548\ttotal: 551ms\tremaining: 27.8ms\n",
      "952:\tlearn: 0.0075275\ttotal: 551ms\tremaining: 27.2ms\n",
      "953:\tlearn: 0.0075095\ttotal: 552ms\tremaining: 26.6ms\n"
     ]
    },
    {
     "name": "stdout",
     "output_type": "stream",
     "text": [
      "954:\tlearn: 0.0074917\ttotal: 552ms\tremaining: 26ms\n",
      "955:\tlearn: 0.0074742\ttotal: 553ms\tremaining: 25.4ms\n",
      "956:\tlearn: 0.0074471\ttotal: 553ms\tremaining: 24.9ms\n",
      "957:\tlearn: 0.0074328\ttotal: 554ms\tremaining: 24.3ms\n",
      "958:\tlearn: 0.0074202\ttotal: 554ms\tremaining: 23.7ms\n",
      "959:\tlearn: 0.0073836\ttotal: 555ms\tremaining: 23.1ms\n",
      "960:\tlearn: 0.0073714\ttotal: 555ms\tremaining: 22.5ms\n",
      "961:\tlearn: 0.0073391\ttotal: 555ms\tremaining: 21.9ms\n",
      "962:\tlearn: 0.0073113\ttotal: 556ms\tremaining: 21.4ms\n",
      "963:\tlearn: 0.0072995\ttotal: 557ms\tremaining: 20.8ms\n",
      "964:\tlearn: 0.0072881\ttotal: 557ms\tremaining: 20.2ms\n",
      "965:\tlearn: 0.0072564\ttotal: 558ms\tremaining: 19.6ms\n",
      "966:\tlearn: 0.0072236\ttotal: 558ms\tremaining: 19ms\n",
      "967:\tlearn: 0.0071924\ttotal: 559ms\tremaining: 18.5ms\n",
      "968:\tlearn: 0.0071655\ttotal: 559ms\tremaining: 17.9ms\n",
      "969:\tlearn: 0.0071353\ttotal: 560ms\tremaining: 17.3ms\n",
      "970:\tlearn: 0.0071048\ttotal: 560ms\tremaining: 16.7ms\n",
      "971:\tlearn: 0.0070766\ttotal: 560ms\tremaining: 16.1ms\n",
      "972:\tlearn: 0.0070454\ttotal: 561ms\tremaining: 15.6ms\n",
      "973:\tlearn: 0.0070342\ttotal: 561ms\tremaining: 15ms\n",
      "974:\tlearn: 0.0070234\ttotal: 562ms\tremaining: 14.4ms\n",
      "975:\tlearn: 0.0070063\ttotal: 562ms\tremaining: 13.8ms\n",
      "976:\tlearn: 0.0069958\ttotal: 563ms\tremaining: 13.2ms\n",
      "977:\tlearn: 0.0069643\ttotal: 563ms\tremaining: 12.7ms\n",
      "978:\tlearn: 0.0069346\ttotal: 564ms\tremaining: 12.1ms\n",
      "979:\tlearn: 0.0069054\ttotal: 564ms\tremaining: 11.5ms\n",
      "980:\tlearn: 0.0068800\ttotal: 565ms\tremaining: 10.9ms\n",
      "981:\tlearn: 0.0068552\ttotal: 565ms\tremaining: 10.4ms\n",
      "982:\tlearn: 0.0068407\ttotal: 566ms\tremaining: 9.79ms\n",
      "983:\tlearn: 0.0068372\ttotal: 566ms\tremaining: 9.21ms\n",
      "984:\tlearn: 0.0068233\ttotal: 567ms\tremaining: 8.63ms\n",
      "985:\tlearn: 0.0068133\ttotal: 567ms\tremaining: 8.06ms\n",
      "986:\tlearn: 0.0067828\ttotal: 568ms\tremaining: 7.48ms\n",
      "987:\tlearn: 0.0067544\ttotal: 568ms\tremaining: 6.9ms\n",
      "988:\tlearn: 0.0067257\ttotal: 569ms\tremaining: 6.33ms\n",
      "989:\tlearn: 0.0067017\ttotal: 569ms\tremaining: 5.75ms\n",
      "990:\tlearn: 0.0066953\ttotal: 570ms\tremaining: 5.17ms\n",
      "991:\tlearn: 0.0066717\ttotal: 570ms\tremaining: 4.6ms\n",
      "992:\tlearn: 0.0066481\ttotal: 571ms\tremaining: 4.02ms\n",
      "993:\tlearn: 0.0066418\ttotal: 571ms\tremaining: 3.45ms\n",
      "994:\tlearn: 0.0066191\ttotal: 572ms\tremaining: 2.87ms\n",
      "995:\tlearn: 0.0065901\ttotal: 572ms\tremaining: 2.3ms\n",
      "996:\tlearn: 0.0065840\ttotal: 573ms\tremaining: 1.72ms\n",
      "997:\tlearn: 0.0065611\ttotal: 573ms\tremaining: 1.15ms\n",
      "998:\tlearn: 0.0065550\ttotal: 574ms\tremaining: 574us\n",
      "999:\tlearn: 0.0065305\ttotal: 574ms\tremaining: 0us\n"
     ]
    },
    {
     "data": {
      "text/plain": [
       "<catboost.core.CatBoostRegressor at 0x7fa1f81b8a60>"
      ]
     },
     "execution_count": 9,
     "metadata": {},
     "output_type": "execute_result"
    }
   ],
   "source": [
    "#Train the Model \n",
    "prior_model = ctb.CatBoostRegressor()\n",
    "prior_model.fit(X_train,Y_train)"
   ]
  },
  {
   "cell_type": "code",
   "execution_count": 10,
   "id": "af65dcda",
   "metadata": {
    "execution": {
     "iopub.execute_input": "2022-06-07T06:32:05.720032Z",
     "iopub.status.busy": "2022-06-07T06:32:05.719643Z",
     "iopub.status.idle": "2022-06-07T06:32:05.726905Z",
     "shell.execute_reply": "2022-06-07T06:32:05.727147Z"
    },
    "id": "af65dcda",
    "papermill": {
     "duration": 0.019931,
     "end_time": "2022-06-07T06:32:05.727266",
     "exception": false,
     "start_time": "2022-06-07T06:32:05.707335",
     "status": "completed"
    },
    "tags": []
   },
   "outputs": [
    {
     "data": {
      "application/scrapbook.scrap.json+json": {
       "data": 0.2082819513879953,
       "encoder": "json",
       "name": "Prior Model MSE",
       "version": 1
      }
     },
     "metadata": {
      "scrapbook": {
       "data": true,
       "display": false,
       "name": "Prior Model MSE"
      }
     },
     "output_type": "display_data"
    },
    {
     "data": {
      "application/scrapbook.scrap.json+json": {
       "data": 0.7571752911012214,
       "encoder": "json",
       "name": "ABC Pre-generator MSE",
       "version": 1
      }
     },
     "metadata": {
      "scrapbook": {
       "data": true,
       "display": false,
       "name": "ABC Pre-generator MSE"
      }
     },
     "output_type": "display_data"
    },
    {
     "data": {
      "application/scrapbook.scrap.json+json": {
       "data": 0.338343543425845,
       "encoder": "json",
       "name": "Prior Model MSE",
       "version": 1
      }
     },
     "metadata": {
      "scrapbook": {
       "data": true,
       "display": false,
       "name": "Prior Model MSE"
      }
     },
     "output_type": "display_data"
    },
    {
     "data": {
      "application/scrapbook.scrap.json+json": {
       "data": 0.7764363156154129,
       "encoder": "json",
       "name": "ABC Pre-generator MSE",
       "version": 1
      }
     },
     "metadata": {
      "scrapbook": {
       "data": true,
       "display": false,
       "name": "ABC Pre-generator MSE"
      }
     },
     "output_type": "display_data"
    }
   ],
   "source": [
    "y_pred = prior_model.predict(X_test)\n",
    "y_abc = y_pred + np.random.normal(0,variance, y_pred.shape) + bias \n",
    "mse = mean_squared_error(y_pred,Y_test)\n",
    "sb.glue(\"Prior Model MSE\",mse)\n",
    "mse = mean_squared_error(y_abc,Y_test)\n",
    "sb.glue(\"ABC Pre-generator MSE\",mse)\n",
    "mae = mean_absolute_error(y_pred,Y_test)\n",
    "sb.glue(\"Prior Model MSE\",mae)\n",
    "mae = mean_absolute_error(y_abc,Y_test)\n",
    "sb.glue(\"ABC Pre-generator MSE\",mae)"
   ]
  },
  {
   "cell_type": "markdown",
   "id": "25609da2",
   "metadata": {
    "papermill": {
     "duration": 0.009359,
     "end_time": "2022-06-07T06:32:05.746348",
     "exception": false,
     "start_time": "2022-06-07T06:32:05.736989",
     "status": "completed"
    },
    "tags": []
   },
   "source": [
    "# ABC GAN Model"
   ]
  },
  {
   "cell_type": "code",
   "execution_count": 11,
   "id": "dfc3464d",
   "metadata": {
    "execution": {
     "iopub.execute_input": "2022-06-07T06:32:05.768463Z",
     "iopub.status.busy": "2022-06-07T06:32:05.768067Z",
     "iopub.status.idle": "2022-06-07T06:32:05.770403Z",
     "shell.execute_reply": "2022-06-07T06:32:05.770643Z"
    },
    "papermill": {
     "duration": 0.015004,
     "end_time": "2022-06-07T06:32:05.770762",
     "exception": false,
     "start_time": "2022-06-07T06:32:05.755758",
     "status": "completed"
    },
    "tags": []
   },
   "outputs": [],
   "source": [
    "gen = network.Generator(n_features+1).to(device)\n",
    "disc = network.Discriminator(n_features+1).to(device)\n",
    "\n",
    "criterion = torch.nn.BCELoss()\n",
    "gen_opt = torch.optim.Adam(gen.parameters(), lr=0.001, betas=(0.5, 0.999))\n",
    "disc_opt = torch.optim.Adam(disc.parameters(), lr=0.001, betas=(0.5, 0.999))"
   ]
  },
  {
   "cell_type": "code",
   "execution_count": 12,
   "id": "b75fdd85",
   "metadata": {
    "execution": {
     "iopub.execute_input": "2022-06-07T06:32:05.792245Z",
     "iopub.status.busy": "2022-06-07T06:32:05.791879Z",
     "iopub.status.idle": "2022-06-07T06:32:19.535985Z",
     "shell.execute_reply": "2022-06-07T06:32:19.536286Z"
    },
    "papermill": {
     "duration": 13.755923,
     "end_time": "2022-06-07T06:32:19.536412",
     "exception": false,
     "start_time": "2022-06-07T06:32:05.780489",
     "status": "completed"
    },
    "tags": []
   },
   "outputs": [
    {
     "data": {
      "image/png": "[encoded data removed]",
      "text/plain": [
       "<Figure size 432x288 with 1 Axes>"
      ]
     },
     "metadata": {
      "needs_background": "light"
     },
     "output_type": "display_data"
    },
    {
     "data": {
      "image/png": "[encoded data removed]",
      "text/plain": [
       "<Figure size 432x288 with 1 Axes>"
      ]
     },
     "metadata": {
      "needs_background": "light"
     },
     "output_type": "display_data"
    }
   ],
   "source": [
    "#Training the ABC_GAN \n",
    "ABC_train_test2.training_GAN(disc,gen,disc_opt,gen_opt,train_data,batch_size,n_epochs,criterion,prior_model,variance,bias,device)"
   ]
  },
  {
   "cell_type": "code",
   "execution_count": 13,
   "id": "1fa7c368",
   "metadata": {
    "execution": {
     "iopub.execute_input": "2022-06-07T06:32:19.560636Z",
     "iopub.status.busy": "2022-06-07T06:32:19.560208Z",
     "iopub.status.idle": "2022-06-07T06:32:19.727445Z",
     "shell.execute_reply": "2022-06-07T06:32:19.727760Z"
    },
    "papermill": {
     "duration": 0.1804,
     "end_time": "2022-06-07T06:32:19.727884",
     "exception": false,
     "start_time": "2022-06-07T06:32:19.547484",
     "status": "completed"
    },
    "tags": []
   },
   "outputs": [
    {
     "data": {
      "application/scrapbook.scrap.json+json": {
       "data": 0.14440945847074857,
       "encoder": "json",
       "name": "ABC-GAN Model 1 MSE",
       "version": 1
      }
     },
     "metadata": {
      "scrapbook": {
       "data": true,
       "display": false,
       "name": "ABC-GAN Model 1 MSE"
      }
     },
     "output_type": "display_data"
    },
    {
     "data": {
      "application/scrapbook.scrap.json+json": {
       "data": 0.2696681358385831,
       "encoder": "json",
       "name": "ABC-GAN Model 1 MAE",
       "version": 1
      }
     },
     "metadata": {
      "scrapbook": {
       "data": true,
       "display": false,
       "name": "ABC-GAN Model 1 MAE"
      }
     },
     "output_type": "display_data"
    },
    {
     "data": {
      "application/scrapbook.scrap.json+json": {
       "data": 5.393362716771662,
       "encoder": "json",
       "name": "ABC-GAN Model 1 Manhattan Distance",
       "version": 1
      }
     },
     "metadata": {
      "scrapbook": {
       "data": true,
       "display": false,
       "name": "ABC-GAN Model 1 Manhattan Distance"
      }
     },
     "output_type": "display_data"
    },
    {
     "data": {
      "application/scrapbook.scrap.json+json": {
       "data": 1.6987955747111592,
       "encoder": "json",
       "name": "ABC-GAN Model 1 Euclidean distance",
       "version": 1
      }
     },
     "metadata": {
      "scrapbook": {
       "data": true,
       "display": false,
       "name": "ABC-GAN Model 1 Euclidean distance"
      }
     },
     "output_type": "display_data"
    },
    {
     "data": {
      "application/scrapbook.scrap.json+json": {
       "data": [
        [
         0.14265955662018567,
         0.15156667131214469,
         0.1382576935620281,
         0.14231699272630688,
         0.13567779144710174,
         0.14037386293411408,
         0.14938566694282657,
         0.13618993568790494,
         0.14921333306441584,
         0.15491479186852558,
         0.14602142522672876,
         0.1406120232087158,
         0.13426743201878127,
         0.15425586776395872,
         0.14056152710757752,
         0.14007069919162893,
         0.1326738381593576,
         0.1658067114081341,
         0.14623053547939135,
         0.15223557785129857,
         0.1317486289617708,
         0.134198691907981,
         0.1377899323227268,
         0.1564696087087713,
         0.13339573544665514,
         0.14482997512156454,
         0.14718123507540262,
         0.15289970287296328,
         0.12923784259270593,
         0.15221939395656273,
         0.1619496139964418,
         0.14629822826870556,
         0.1519623672118659,
         0.15238871209864993,
         0.14248608974071808,
         0.1326082057184799,
         0.15540466280752213,
         0.1391263246106711,
         0.1633150513701715,
         0.1455413686616208,
         0.14689473904812314,
         0.14088741594313464,
         0.13792784180426834,
         0.14381945339441032,
         0.14468897102984601,
         0.1459757914447683,
         0.13531857029848696,
         0.14806035664286687,
         0.13821288969421608,
         0.1334045725702731,
         0.1420637780345257,
         0.1322835758401582,
         0.1478491467531929,
         0.13949468759039677,
         0.14601146715091332,
         0.13904145109996796,
         0.14526277601468535,
         0.14512732718237298,
         0.14422825981051413,
         0.15889597951362955,
         0.14672262475878223,
         0.14530796700889287,
         0.14988189270297791,
         0.1430089390560196,
         0.13544192375747793,
         0.15551570832560063,
         0.12943216139886138,
         0.1336058293806087,
         0.1361831545914608,
         0.14226109606586368,
         0.14371182885625527,
         0.1620365458252913,
         0.12775391889515436,
         0.14770312806113045,
         0.14714762810644355,
         0.14176810010195676,
         0.1433890251275049,
         0.1437622869314697,
         0.16118506888369266,
         0.1460026017388436,
         0.1511680236819195,
         0.14717396671530678,
         0.14506288173687656,
         0.147677647638345,
         0.151828346293631,
         0.13677043932419486,
         0.14018729725471507,
         0.14390546140792052,
         0.14968271096640198,
         0.14217016902360874,
         0.1538374564451463,
         0.1421984524206903,
         0.14561445486880056,
         0.13127076287335043,
         0.13939904888221738,
         0.14418952174977095,
         0.1530563190152194,
         0.1430367594001055,
         0.15921230432176117,
         0.13189003758675824
        ],
        [
         0.2709574233740568,
         0.27766720689833163,
         0.2618004534393549,
         0.26887831576168536,
         0.25981800332665445,
         0.26854897364974023,
         0.27243914399296043,
         0.2648303363472223,
         0.2797566901892424,
         0.27192861810326574,
         0.2826314713805914,
         0.2768812730908394,
         0.2558484558016062,
         0.27860546857118607,
         0.2658431760966778,
         0.2625273630023003,
         0.2558875989168882,
         0.28861987181007864,
         0.2683472499251366,
         0.27776396498084066,
         0.2567677780985832,
         0.26315722055733204,
         0.27281387634575366,
         0.27496463228017093,
         0.2503941413015127,
         0.2726923059672117,
         0.2755977239459753,
         0.27618270702660086,
         0.26463275477290155,
         0.2814975196495652,
         0.2767182504758239,
         0.2756971579045057,
         0.2842730902135372,
         0.28625472281128167,
         0.2690180502831936,
         0.26574250757694245,
         0.28268487229943273,
         0.2734226558357477,
         0.28974412810057404,
         0.27462744191288946,
         0.2662918858230114,
         0.27148173078894616,
         0.25893294587731364,
         0.27214879766106603,
         0.2701691292226315,
         0.26817232444882394,
         0.2519824394956231,
         0.2776051748543978,
         0.2561070969328284,
         0.24789441395550965,
         0.26416488401591776,
         0.26265208553522823,
         0.2667368210852146,
         0.2609200898557901,
         0.28604529071599244,
         0.2651501215994358,
         0.2668691327795386,
         0.26490000672638414,
         0.26887327451258897,
         0.28018917627632617,
         0.2781061366200447,
         0.26202896162867545,
         0.27086054906249046,
         0.27289814651012423,
         0.26166182905435564,
         0.27557580955326555,
         0.2506598630920053,
         0.26364608872681855,
         0.26047581173479556,
         0.2709760908037424,
         0.2695310037583113,
         0.279887854680419,
         0.25933489575982094,
         0.27301975451409816,
         0.2707792118191719,
         0.25938949175179005,
         0.2618307307362556,
         0.2619595602154732,
         0.29172242619097233,
         0.2703645646572113,
         0.2735820386558771,
         0.27330201826989653,
         0.26066899485886097,
         0.2715093458071351,
         0.27675228379666805,
         0.2683379270136356,
         0.2668337499722838,
         0.2712224043905735,
         0.2694329287856817,
         0.26938389651477335,
         0.27885911483317616,
         0.266708767414093,
         0.2731675297021866,
         0.2636033155024052,
         0.26157623417675496,
         0.26664647106081246,
         0.27396008670330046,
         0.26466698870062827,
         0.2804249968379736,
         0.2677142918109894
        ],
        [
         5.419148467481136,
         5.553344137966633,
         5.236009068787098,
         5.377566315233707,
         5.196360066533089,
         5.370979472994804,
         5.448782879859209,
         5.296606726944447,
         5.595133803784847,
         5.438572362065315,
         5.652629427611828,
         5.537625461816788,
         5.116969116032124,
         5.572109371423721,
         5.316863521933556,
         5.250547260046005,
         5.117751978337765,
         5.772397436201572,
         5.366944998502731,
         5.555279299616814,
         5.135355561971664,
         5.263144411146641,
         5.456277526915073,
         5.499292645603418,
         5.007882826030254,
         5.4538461193442345,
         5.511954478919506,
         5.523654140532017,
         5.292655095458031,
         5.629950392991304,
         5.534365009516478,
         5.513943158090115,
         5.685461804270744,
         5.725094456225634,
         5.380361005663872,
         5.314850151538849,
         5.653697445988655,
         5.468453116714954,
         5.79488256201148,
         5.49254883825779,
         5.325837716460228,
         5.429634615778923,
         5.178658917546272,
         5.442975953221321,
         5.403382584452629,
         5.363446488976479,
         5.039648789912462,
         5.5521034970879555,
         5.1221419386565685,
         4.957888279110193,
         5.283297680318356,
         5.253041710704565,
         5.334736421704292,
         5.218401797115803,
         5.720905814319849,
         5.303002431988716,
         5.337382655590773,
         5.298000134527683,
         5.37746549025178,
         5.603783525526524,
         5.562122732400894,
         5.240579232573509,
         5.417210981249809,
         5.457962930202484,
         5.233236581087112,
         5.511516191065311,
         5.013197261840105,
         5.272921774536371,
         5.209516234695911,
         5.419521816074848,
         5.390620075166225,
         5.597757093608379,
         5.186697915196419,
         5.460395090281963,
         5.415584236383438,
         5.187789835035801,
         5.236614614725113,
         5.2391912043094635,
         5.834448523819447,
         5.407291293144226,
         5.471640773117542,
         5.46604036539793,
         5.213379897177219,
         5.430186916142702,
         5.535045675933361,
         5.366758540272713,
         5.336674999445677,
         5.42444808781147,
         5.3886585757136345,
         5.387677930295467,
         5.577182296663523,
         5.33417534828186,
         5.463350594043732,
         5.272066310048103,
         5.231524683535099,
         5.3329294212162495,
         5.4792017340660095,
         5.293339774012566,
         5.608499936759472,
         5.354285836219788
        ],
        [
         1.6891391690454975,
         1.7410724931038608,
         1.6628751820989338,
         1.6871099118095825,
         1.6472874154020707,
         1.6755528218120377,
         1.7285003149714875,
         1.6503935027011283,
         1.7275030133948588,
         1.7601976699707655,
         1.7089261261197264,
         1.6769736027064694,
         1.6387033411742424,
         1.7564502142899394,
         1.6766724612015165,
         1.673742508222988,
         1.628949588902969,
         1.8210255978878171,
         1.7101493237690757,
         1.7449101859482543,
         1.6232598618937808,
         1.6382838087949292,
         1.6600598321911582,
         1.7690088112204039,
         1.633375250496071,
         1.7019399232732306,
         1.7156994787864372,
         1.7487121139453645,
         1.6077179018267223,
         1.7448174343269425,
         1.7997200559889406,
         1.710545107670099,
         1.7433437252123627,
         1.745787570689229,
         1.6881119023377453,
         1.6285466264033086,
         1.7629785183462794,
         1.6680906726594396,
         1.8072910743439834,
         1.7061147010773972,
         1.7140288156744807,
         1.678615000189946,
         1.6608903744935626,
         1.695992060089966,
         1.701111231106573,
         1.7086590733365639,
         1.645105287198889,
         1.7208158335095995,
         1.6626057241223253,
         1.633429353050037,
         1.685608365157967,
         1.626552033229544,
         1.7195880131775338,
         1.670297503981831,
         1.7088678541707858,
         1.667581788698641,
         1.7044810120073812,
         1.7036861634841844,
         1.6984007760862223,
         1.782672036655254,
         1.7130243708644792,
         1.7047461219131304,
         1.7313687804911924,
         1.6912063094490846,
         1.6458549374563844,
         1.7636082803479949,
         1.6089261101670356,
         1.6346610008231597,
         1.6503524144343278,
         1.6867785632136998,
         1.6953573597106617,
         1.8002030209134263,
         1.5984612531754054,
         1.7187386541364016,
         1.7155035884919831,
         1.683853319633018,
         1.6934522439531912,
         1.695654958601364,
         1.7954668968471272,
         1.7088159745206246,
         1.7387813185212193,
         1.715657114433457,
         1.7033078508412773,
         1.7185903970309215,
         1.742574797784193,
         1.6539071275267838,
         1.6744389941393212,
         1.6964991093892179,
         1.730217968733431,
         1.6862394196768664,
         1.7540664550988159,
         1.6864071419481732,
         1.706543025351547,
         1.620313320770711,
         1.6697248209343798,
         1.6981726752587378,
         1.7496074932122314,
         1.6913708014513287,
         1.784445596378669,
         1.6241307680526111
        ]
       ],
       "encoder": "json",
       "name": "ABC_GAN_1 Metrics",
       "version": 1
      }
     },
     "metadata": {
      "scrapbook": {
       "data": true,
       "display": false,
       "name": "ABC_GAN_1 Metrics"
      }
     },
     "output_type": "display_data"
    },
    {
     "name": "stdout",
     "output_type": "stream",
     "text": [
      "MSE\n",
      "0.14440945847074857\n"
     ]
    }
   ],
   "source": [
    "ABC_GAN1_metrics=ABC_train_test2.test_generator(gen,test_data,prior_model,variance,bias,\"1\",device)\n",
    "sb.glue(\"ABC_GAN_1 Metrics\",ABC_GAN1_metrics)\n",
    "\n",
    "print(\"MSE\")\n",
    "print(mean(ABC_GAN1_metrics[0]))"
   ]
  },
  {
   "cell_type": "code",
   "execution_count": 14,
   "id": "eb22ce5c",
   "metadata": {
    "execution": {
     "iopub.execute_input": "2022-06-07T06:32:19.754698Z",
     "iopub.status.busy": "2022-06-07T06:32:19.754334Z",
     "iopub.status.idle": "2022-06-07T06:32:20.042090Z",
     "shell.execute_reply": "2022-06-07T06:32:20.042389Z"
    },
    "papermill": {
     "duration": 0.30229,
     "end_time": "2022-06-07T06:32:20.042512",
     "exception": false,
     "start_time": "2022-06-07T06:32:19.740222",
     "status": "completed"
    },
    "tags": []
   },
   "outputs": [
    {
     "data": {
      "image/png": "[encoded data removed]",
      "text/plain": [
       "<Figure size 432x288 with 1 Axes>"
      ]
     },
     "metadata": {
      "needs_background": "light"
     },
     "output_type": "display_data"
    },
    {
     "data": {
      "image/png": "[encoded data removed]",
      "text/plain": [
       "<Figure size 432x288 with 1 Axes>"
      ]
     },
     "metadata": {
      "needs_background": "light"
     },
     "output_type": "display_data"
    },
    {
     "data": {
      "image/png": "[encoded data removed]",
      "text/plain": [
       "<Figure size 432x288 with 1 Axes>"
      ]
     },
     "metadata": {
      "needs_background": "light"
     },
     "output_type": "display_data"
    },
    {
     "data": {
      "image/png": "[encoded data removed]",
      "text/plain": [
       "<Figure size 432x288 with 1 Axes>"
      ]
     },
     "metadata": {
      "needs_background": "light"
     },
     "output_type": "display_data"
    }
   ],
   "source": [
    "sanityChecks.discProbVsError(train_data,disc,device)\n",
    "sanityChecks.discProbVsError(test_data,disc,device)"
   ]
  },
  {
   "cell_type": "markdown",
   "id": "130f3a4d",
   "metadata": {
    "id": "130f3a4d",
    "papermill": {
     "duration": 0.036523,
     "end_time": "2022-06-07T06:32:20.093641",
     "exception": false,
     "start_time": "2022-06-07T06:32:20.057118",
     "status": "completed"
    },
    "tags": []
   },
   "source": [
    "# ABC - GAN Model with skip connection"
   ]
  },
  {
   "cell_type": "code",
   "execution_count": 15,
   "id": "4e43dad1",
   "metadata": {
    "execution": {
     "iopub.execute_input": "2022-06-07T06:32:20.125480Z",
     "iopub.status.busy": "2022-06-07T06:32:20.125093Z",
     "iopub.status.idle": "2022-06-07T06:32:20.127384Z",
     "shell.execute_reply": "2022-06-07T06:32:20.127632Z"
    },
    "id": "4e43dad1",
    "papermill": {
     "duration": 0.019798,
     "end_time": "2022-06-07T06:32:20.127746",
     "exception": false,
     "start_time": "2022-06-07T06:32:20.107948",
     "status": "completed"
    },
    "tags": []
   },
   "outputs": [],
   "source": [
    "#Generator\n",
    "gen3 = network.GeneratorWithSkipConnection(n_features+1).to(device)\n",
    "constraints=network.weightConstraint()\n",
    "#Discriminator \n",
    "disc3 = network.Discriminator(n_features+1).to(device)\n",
    "\n",
    "criterion = torch.nn.BCELoss()\n",
    "gen_opt = torch.optim.Adam(gen3.parameters(), lr=0.001, betas=(0.5, 0.999))\n",
    "disc_opt = torch.optim.Adam(disc3.parameters(), lr=0.001, betas=(0.5, 0.999))\n"
   ]
  },
  {
   "cell_type": "code",
   "execution_count": 16,
   "id": "26acbc37",
   "metadata": {
    "execution": {
     "iopub.execute_input": "2022-06-07T06:32:20.158627Z",
     "iopub.status.busy": "2022-06-07T06:32:20.158244Z",
     "iopub.status.idle": "2022-06-07T06:32:57.136762Z",
     "shell.execute_reply": "2022-06-07T06:32:57.137085Z"
    },
    "id": "26acbc37",
    "papermill": {
     "duration": 36.995172,
     "end_time": "2022-06-07T06:32:57.137211",
     "exception": false,
     "start_time": "2022-06-07T06:32:20.142039",
     "status": "completed"
    },
    "tags": []
   },
   "outputs": [
    {
     "data": {
      "image/png": "[encoded data removed]",
      "text/plain": [
       "<Figure size 432x288 with 1 Axes>"
      ]
     },
     "metadata": {
      "needs_background": "light"
     },
     "output_type": "display_data"
    },
    {
     "data": {
      "image/png": "[encoded data removed]",
      "text/plain": [
       "<Figure size 432x288 with 1 Axes>"
      ]
     },
     "metadata": {
      "needs_background": "light"
     },
     "output_type": "display_data"
    }
   ],
   "source": [
    "ABC_train_test2.training_GAN_skip_connection(disc3,gen3,disc_opt,gen_opt,train_data,batch_size,n_epochs,criterion,prior_model,variance,bias,device)"
   ]
  },
  {
   "cell_type": "code",
   "execution_count": 17,
   "id": "c5e0717b",
   "metadata": {
    "execution": {
     "iopub.execute_input": "2022-06-07T06:32:57.170463Z",
     "iopub.status.busy": "2022-06-07T06:32:57.170000Z",
     "iopub.status.idle": "2022-06-07T06:32:57.459255Z",
     "shell.execute_reply": "2022-06-07T06:32:57.459503Z"
    },
    "id": "c5e0717b",
    "papermill": {
     "duration": 0.307121,
     "end_time": "2022-06-07T06:32:57.459631",
     "exception": false,
     "start_time": "2022-06-07T06:32:57.152510",
     "status": "completed"
    },
    "tags": []
   },
   "outputs": [
    {
     "data": {
      "application/scrapbook.scrap.json+json": {
       "data": 0.21321791539244675,
       "encoder": "json",
       "name": "ABC-GAN Model 3 MSE",
       "version": 1
      }
     },
     "metadata": {
      "scrapbook": {
       "data": true,
       "display": false,
       "name": "ABC-GAN Model 3 MSE"
      }
     },
     "output_type": "display_data"
    },
    {
     "data": {
      "application/scrapbook.scrap.json+json": {
       "data": 0.3450783585011959,
       "encoder": "json",
       "name": "ABC-GAN Model 3 MAE",
       "version": 1
      }
     },
     "metadata": {
      "scrapbook": {
       "data": true,
       "display": false,
       "name": "ABC-GAN Model 3 MAE"
      }
     },
     "output_type": "display_data"
    },
    {
     "data": {
      "application/scrapbook.scrap.json+json": {
       "data": 6.9015671700239185,
       "encoder": "json",
       "name": "ABC-GAN Model 3 Manhattan Distance",
       "version": 1
      }
     },
     "metadata": {
      "scrapbook": {
       "data": true,
       "display": false,
       "name": "ABC-GAN Model 3 Manhattan Distance"
      }
     },
     "output_type": "display_data"
    },
    {
     "data": {
      "application/scrapbook.scrap.json+json": {
       "data": 2.0637407534340646,
       "encoder": "json",
       "name": "ABC-GAN Model 3 Euclidean distance",
       "version": 1
      }
     },
     "metadata": {
      "scrapbook": {
       "data": true,
       "display": false,
       "name": "ABC-GAN Model 3 Euclidean distance"
      }
     },
     "output_type": "display_data"
    },
    {
     "data": {
      "application/scrapbook.scrap.json+json": {
       "data": [
        [
         0.18058275331905352,
         0.20933618016219074,
         0.20958188352678703,
         0.21594785283297843,
         0.2155202624433299,
         0.20944158858422482,
         0.2077273101081265,
         0.20409758362984257,
         0.20490440853738107,
         0.209367869080324,
         0.19181777154562685,
         0.18819813837898333,
         0.1952006862986435,
         0.21852354485253267,
         0.2232384375464032,
         0.2043846400808092,
         0.19563274663342992,
         0.22497096823511792,
         0.21129439224155916,
         0.19603659559372702,
         0.24438144608859647,
         0.19357180005708283,
         0.24347664720240295,
         0.21760905970793928,
         0.1979600086807883,
         0.2148373913284763,
         0.20409007378195865,
         0.21798026794594075,
         0.2321123139907712,
         0.21552891979985295,
         0.21180520604903535,
         0.19745667235188652,
         0.21625213325054063,
         0.2266848082892084,
         0.2097597007917386,
         0.20168229107279467,
         0.23894933123287582,
         0.18708599180997143,
         0.23367595353846643,
         0.23638674892862363,
         0.20317006114744984,
         0.21030635035469816,
         0.20406897917007988,
         0.24340409877113317,
         0.20130899729728408,
         0.21037606820963523,
         0.22291885928312,
         0.19820733473585594,
         0.24138518607659637,
         0.22246940683761815,
         0.2315606708593072,
         0.20446695369561393,
         0.21685000149870293,
         0.2114220382892217,
         0.22128994364932134,
         0.23103445035106063,
         0.22829545729871237,
         0.21703126167700484,
         0.23194304413395014,
         0.22986082009042547,
         0.1911723639677426,
         0.22191131835269068,
         0.21548447151884692,
         0.2302968191370028,
         0.2309318788709483,
         0.2136235015588,
         0.21349062861047735,
         0.21318127755305688,
         0.18244823866275012,
         0.21980109311168397,
         0.2092698440898854,
         0.2274784249924001,
         0.21432017583441604,
         0.2335051042496386,
         0.1988934187996308,
         0.21726366772749434,
         0.21070075222491919,
         0.19753728484546595,
         0.20481143440532215,
         0.22285268897910795,
         0.19067195353261165,
         0.1967659057375756,
         0.21652841649532367,
         0.21354144184942134,
         0.23186887284853244,
         0.2343409388822911,
         0.22988466946484304,
         0.21888315914872303,
         0.18242028301679775,
         0.19595432209709723,
         0.21100143326401694,
         0.21517804039362928,
         0.19822225175204702,
         0.24539307673437563,
         0.2209587516436292,
         0.18829887442634305,
         0.20755605076469807,
         0.21611272328300365,
         0.19283813981087752,
         0.20793548364974282
        ],
        [
         0.32385862767696383,
         0.3402575969696045,
         0.3538131207227707,
         0.3528391271829605,
         0.3523757800459862,
         0.34226695001125335,
         0.3620204746723175,
         0.33664786368608474,
         0.3318629816174507,
         0.32755810022354126,
         0.3308207541704178,
         0.32887602746486666,
         0.3306065708398819,
         0.3568231210112572,
         0.37221560180187224,
         0.3349636808037758,
         0.3256995216012001,
         0.3550628572702408,
         0.3387657791376114,
         0.3306004747748375,
         0.35970264226198195,
         0.345336440205574,
         0.35935239493846893,
         0.33462798297405244,
         0.3483064159750938,
         0.33668778389692305,
         0.3433061704039574,
         0.3565037414431572,
         0.3695437297224998,
         0.3410431548953056,
         0.336332742869854,
         0.33661666214466096,
         0.36004050374031066,
         0.3569561719894409,
         0.3524082228541374,
         0.3289646506309509,
         0.3797485217452049,
         0.3128470525145531,
         0.36390602886676787,
         0.3600346237421036,
         0.3342219710350037,
         0.34469633251428605,
         0.3286137208342552,
         0.3421942502260208,
         0.3367942124605179,
         0.32557913213968276,
         0.36005942821502684,
         0.32305411994457245,
         0.35580574721097946,
         0.3427755817770958,
         0.36805336475372313,
         0.3419852241873741,
         0.35154610574245454,
         0.338012783229351,
         0.36304003149271014,
         0.3484282821416855,
         0.34885202199220655,
         0.36094163060188295,
         0.3897279858589172,
         0.3479107141494751,
         0.32189891338348386,
         0.35826568603515624,
         0.35225864350795744,
         0.3537549912929535,
         0.3543101191520691,
         0.3417298346757889,
         0.36476884633302686,
         0.3384050905704498,
         0.3228565603494644,
         0.3593922555446625,
         0.342587311565876,
         0.3664760485291481,
         0.33355516791343687,
         0.3745823621749878,
         0.332863861322403,
         0.3612775906920433,
         0.34681896269321444,
         0.31445582062005994,
         0.34116848558187485,
         0.3604437574744225,
         0.3152555674314499,
         0.3255272537469864,
         0.34784544110298155,
         0.35477562695741655,
         0.3602605774998665,
         0.36028086841106416,
         0.35300474911928176,
         0.35176906138658526,
         0.32504957914352417,
         0.33691790550947187,
         0.3526789218187332,
         0.3536831185221672,
         0.3270509526133537,
         0.3538008168339729,
         0.3334557294845581,
         0.33220709711313245,
         0.32130295783281326,
         0.35137163996696474,
         0.3255509153008461,
         0.32168347090482713
        ],
        [
         6.477172553539276,
         6.80515193939209,
         7.076262414455414,
         7.05678254365921,
         7.0475156009197235,
         6.845339000225067,
         7.24040949344635,
         6.732957273721695,
         6.637259632349014,
         6.551162004470825,
         6.616415083408356,
         6.577520549297333,
         6.612131416797638,
         7.136462420225143,
         7.444312036037445,
         6.699273616075516,
         6.513990432024002,
         7.101257145404816,
         6.775315582752228,
         6.61200949549675,
         7.194052845239639,
         6.906728804111481,
         7.187047898769379,
         6.692559659481049,
         6.966128319501877,
         6.733755677938461,
         6.866123408079147,
         7.130074828863144,
         7.390874594449997,
         6.820863097906113,
         6.7266548573970795,
         6.732333242893219,
         7.200810074806213,
         7.139123439788818,
         7.048164457082748,
         6.5792930126190186,
         7.5949704349040985,
         6.256941050291061,
         7.278120577335358,
         7.2006924748420715,
         6.684439420700073,
         6.893926650285721,
         6.572274416685104,
         6.843885004520416,
         6.735884249210358,
         6.511582642793655,
         7.201188564300537,
         6.461082398891449,
         7.116114944219589,
         6.855511635541916,
         7.361067295074463,
         6.839704483747482,
         7.030922114849091,
         6.760255664587021,
         7.260800629854202,
         6.96856564283371,
         6.9770404398441315,
         7.218832612037659,
         7.794559717178345,
         6.958214282989502,
         6.437978267669678,
         7.165313720703125,
         7.045172870159149,
         7.07509982585907,
         7.086202383041382,
         6.834596693515778,
         7.295376926660538,
         6.768101811408997,
         6.457131206989288,
         7.1878451108932495,
         6.85174623131752,
         7.329520970582962,
         6.671103358268738,
         7.491647243499756,
         6.657277226448059,
         7.225551813840866,
         6.936379253864288,
         6.289116412401199,
         6.823369711637497,
         7.208875149488449,
         6.305111348628998,
         6.510545074939728,
         6.956908822059631,
         7.095512539148331,
         7.20521154999733,
         7.205617368221283,
         7.060094982385635,
         7.035381227731705,
         6.500991582870483,
         6.738358110189438,
         7.053578436374664,
         7.073662370443344,
         6.541019052267075,
         7.076016336679459,
         6.669114589691162,
         6.6441419422626495,
         6.426059156656265,
         7.027432799339294,
         6.511018306016922,
         6.433669418096542
        ],
        [
         1.9004354938753039,
         2.0461484802535264,
         2.0473489371711264,
         2.078210060763726,
         2.0761515476637533,
         2.0466635707131977,
         2.038270394761826,
         2.0203840408686786,
         2.0243735255005735,
         2.046303345451617,
         1.9586616427838006,
         1.940093494545989,
         1.975857719060983,
         2.090567123306653,
         2.1129999410620113,
         2.021804343059977,
         1.9780432079882881,
         2.1211834820925697,
         2.055696437908862,
         1.9800838143559834,
         2.2107982544257467,
         1.9675965036413479,
         2.20670182490704,
         2.0861881972053204,
         1.9897739001242745,
         2.0728598183595355,
         2.0203468701287837,
         2.0879668002434366,
         2.1545872643769672,
         2.0761932463036907,
         2.058179807738067,
         1.9872426744204468,
         2.0796736919552576,
         2.1292477934200535,
         2.048217277496402,
         2.008393841221361,
         2.186089345076618,
         1.9343525625385432,
         2.1618323410406575,
         2.1743355257578054,
         2.015787990575645,
         2.050884445085574,
         2.020242456588218,
         2.2063730363251506,
         2.006534312177512,
         2.0512243573516535,
         2.111486960808046,
         1.991016497851567,
         2.197203614035788,
         2.109357280489098,
         2.1520254220585184,
         2.0222114315551374,
         2.0825465252843833,
         2.0563172823726483,
         2.103758273420791,
         2.1495787975836596,
         2.136798808024342,
         2.0834167210474472,
         2.153801495653442,
         2.1441120310768533,
         1.955363720476283,
         2.1067098440586958,
         2.0759791497934024,
         2.146144539107293,
         2.149101574476871,
         2.0669954115033735,
         2.066352480146973,
         2.064854849877138,
         1.9102263670191035,
         2.096669230525807,
         2.0458242548659227,
         2.1329717531763053,
         2.070363136430013,
         2.161041898018817,
         1.9944594194900571,
         2.084531926968231,
         2.0528066261824036,
         1.9876482829991122,
         2.023914199788727,
         2.1111735550594033,
         1.952802875523342,
         1.9837636237091132,
         2.0810017611492966,
         2.066598373411831,
         2.153457094295275,
         2.1649061821810713,
         2.1442232601333426,
         2.0922865919788474,
         1.9100800141187686,
         1.9796682656298616,
         2.0542708354256356,
         2.074502544677298,
         1.9910914180521546,
         2.2153693901215465,
         2.1021833965837957,
         1.9406126580353074,
         2.037430002550753,
         2.0790032384919637,
         1.9638642509648039,
         2.039291463473247
        ]
       ],
       "encoder": "json",
       "name": "ABC_GAN_3 Metrics",
       "version": 1
      }
     },
     "metadata": {
      "scrapbook": {
       "data": true,
       "display": false,
       "name": "ABC_GAN_3 Metrics"
      }
     },
     "output_type": "display_data"
    },
    {
     "name": "stdout",
     "output_type": "stream",
     "text": [
      "MSE\n",
      "0.21321791539244675\n"
     ]
    }
   ],
   "source": [
    "ABC_GAN3_metrics=ABC_train_test2.test_generator(gen3,test_data,prior_model,variance,bias,\"3\",device)\n",
    "sb.glue(\"ABC_GAN_3 Metrics\",ABC_GAN3_metrics)\n",
    "\n",
    "print(\"MSE\")\n",
    "print(mean(ABC_GAN3_metrics[0]))"
   ]
  },
  {
   "cell_type": "code",
   "execution_count": 18,
   "id": "c8e46b48",
   "metadata": {
    "execution": {
     "iopub.execute_input": "2022-06-07T06:32:57.495549Z",
     "iopub.status.busy": "2022-06-07T06:32:57.495178Z",
     "iopub.status.idle": "2022-06-07T06:32:57.774791Z",
     "shell.execute_reply": "2022-06-07T06:32:57.775155Z"
    },
    "id": "c8e46b48",
    "papermill": {
     "duration": 0.298737,
     "end_time": "2022-06-07T06:32:57.775274",
     "exception": false,
     "start_time": "2022-06-07T06:32:57.476537",
     "status": "completed"
    },
    "tags": []
   },
   "outputs": [
    {
     "data": {
      "image/png": "[encoded data removed]",
      "text/plain": [
       "<Figure size 432x288 with 1 Axes>"
      ]
     },
     "metadata": {
      "needs_background": "light"
     },
     "output_type": "display_data"
    },
    {
     "data": {
      "image/png": "[encoded data removed]",
      "text/plain": [
       "<Figure size 432x288 with 1 Axes>"
      ]
     },
     "metadata": {
      "needs_background": "light"
     },
     "output_type": "display_data"
    },
    {
     "data": {
      "image/png": "[encoded data removed]",
      "text/plain": [
       "<Figure size 432x288 with 1 Axes>"
      ]
     },
     "metadata": {
      "needs_background": "light"
     },
     "output_type": "display_data"
    },
    {
     "data": {
      "image/png": "[encoded data removed]",
      "text/plain": [
       "<Figure size 432x288 with 1 Axes>"
      ]
     },
     "metadata": {
      "needs_background": "light"
     },
     "output_type": "display_data"
    }
   ],
   "source": [
    "sanityChecks.discProbVsError(train_data,disc3,device)\n",
    "sanityChecks.discProbVsError(test_data,disc3,device)"
   ]
  },
  {
   "cell_type": "markdown",
   "id": "a5bd74c3",
   "metadata": {
    "id": "a5bd74c3",
    "papermill": {
     "duration": 0.018847,
     "end_time": "2022-06-07T06:32:57.813430",
     "exception": false,
     "start_time": "2022-06-07T06:32:57.794583",
     "status": "completed"
    },
    "tags": []
   },
   "source": [
    "## Skip Connection Model Analysis - ABC-GAN "
   ]
  },
  {
   "cell_type": "markdown",
   "id": "5744a8bf",
   "metadata": {
    "id": "5744a8bf",
    "papermill": {
     "duration": 0.01865,
     "end_time": "2022-06-07T06:32:57.850945",
     "exception": false,
     "start_time": "2022-06-07T06:32:57.832295",
     "status": "completed"
    },
    "tags": []
   },
   "source": [
    "### Weight Analysis \n",
    "\n",
    "Study the weights of the skip connection layer\n",
    "\n",
    "Equation of the skip connection is \n",
    "\n",
    "$output = y_{gan} * w + y_{abc} * (1-w)$"
   ]
  },
  {
   "cell_type": "code",
   "execution_count": 19,
   "id": "52c31dea",
   "metadata": {
    "execution": {
     "iopub.execute_input": "2022-06-07T06:32:57.891135Z",
     "iopub.status.busy": "2022-06-07T06:32:57.890761Z",
     "iopub.status.idle": "2022-06-07T06:32:57.894069Z",
     "shell.execute_reply": "2022-06-07T06:32:57.894379Z"
    },
    "id": "52c31dea",
    "papermill": {
     "duration": 0.02488,
     "end_time": "2022-06-07T06:32:57.894494",
     "exception": false,
     "start_time": "2022-06-07T06:32:57.869614",
     "status": "completed"
    },
    "tags": []
   },
   "outputs": [
    {
     "name": "stdout",
     "output_type": "stream",
     "text": [
      "Weight of the node at skip connection\n",
      "Parameter containing:\n",
      "tensor([[0.0738]], requires_grad=True)\n"
     ]
    },
    {
     "data": {
      "application/scrapbook.scrap.json+json": {
       "data": 0.07377223670482635,
       "encoder": "json",
       "name": "Skip Connection Weight",
       "version": 1
      }
     },
     "metadata": {
      "scrapbook": {
       "data": true,
       "display": false,
       "name": "Skip Connection Weight"
      }
     },
     "output_type": "display_data"
    }
   ],
   "source": [
    "print(\"Weight of the node at skip connection\")\n",
    "for name,param in gen3.named_parameters():\n",
    "    if(name == \"skipNode.weight\"):\n",
    "        print(param)\n",
    "        sb.glue(\"Skip Connection Weight\",param.item())"
   ]
  }
 ],
 "metadata": {
  "colab": {
   "collapsed_sections": [],
   "name": "ABC_GAN_Model-Catboost_Pre-gen.ipynb",
   "provenance": []
  },
  "interpreter": {
   "hash": "31f2aee4e71d21fbe5cf8b01ff0e069b9275f58929596ceb00d14d90e3e16cd6"
  },
  "kernelspec": {
   "display_name": "Python 3 (ipykernel)",
   "language": "python",
   "name": "python3"
  },
  "language_info": {
   "codemirror_mode": {
    "name": "ipython",
    "version": 3
   },
   "file_extension": ".py",
   "mimetype": "text/x-python",
   "name": "python",
   "nbconvert_exporter": "python",
   "pygments_lexer": "ipython3",
   "version": "3.8.11"
  },
  "papermill": {
   "default_parameters": {},
   "duration": 55.881191,
   "end_time": "2022-06-07T06:32:58.221291",
   "environment_variables": {},
   "exception": null,
   "input_path": "ABC_GAN-Catboost.ipynb",
   "output_path": "./ABC_GAN_Catboost/ABC-GAN_output_5_1.ipynb",
   "parameters": {
    "bias": 1,
    "variance": 0.1
   },
   "start_time": "2022-06-07T06:32:02.340100",
   "version": "2.3.3"
  }
 },
 "nbformat": 4,
 "nbformat_minor": 5
}