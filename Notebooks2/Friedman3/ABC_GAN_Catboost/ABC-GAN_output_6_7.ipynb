{
 "cells": [
  {
   "cell_type": "markdown",
   "id": "622780e6",
   "metadata": {
    "id": "622780e6",
    "papermill": {
     "duration": 0.034371,
     "end_time": "2022-06-07T06:46:04.255550",
     "exception": false,
     "start_time": "2022-06-07T06:46:04.221179",
     "status": "completed"
    },
    "tags": []
   },
   "source": [
    "## Import Libraries "
   ]
  },
  {
   "cell_type": "code",
   "execution_count": 1,
   "id": "a62397e3",
   "metadata": {
    "execution": {
     "iopub.execute_input": "2022-06-07T06:46:04.293766Z",
     "iopub.status.busy": "2022-06-07T06:46:04.293205Z",
     "iopub.status.idle": "2022-06-07T06:46:04.295443Z",
     "shell.execute_reply": "2022-06-07T06:46:04.295792Z"
    },
    "id": "a62397e3",
    "papermill": {
     "duration": 0.023107,
     "end_time": "2022-06-07T06:46:04.296000",
     "exception": false,
     "start_time": "2022-06-07T06:46:04.272893",
     "status": "completed"
    },
    "tags": []
   },
   "outputs": [],
   "source": [
    "import warnings\n",
    "import sys\n",
    "sys.path.insert(0, '../../src')\n",
    "warnings.filterwarnings('ignore')"
   ]
  },
  {
   "cell_type": "code",
   "execution_count": 2,
   "id": "d6a4e155",
   "metadata": {
    "execution": {
     "iopub.execute_input": "2022-06-07T06:46:04.316370Z",
     "iopub.status.busy": "2022-06-07T06:46:04.315983Z",
     "iopub.status.idle": "2022-06-07T06:46:06.166492Z",
     "shell.execute_reply": "2022-06-07T06:46:06.166750Z"
    },
    "id": "d6a4e155",
    "papermill": {
     "duration": 1.861325,
     "end_time": "2022-06-07T06:46:06.166876",
     "exception": false,
     "start_time": "2022-06-07T06:46:04.305551",
     "status": "completed"
    },
    "tags": []
   },
   "outputs": [],
   "source": [
    "import ABC_train_test2\n",
    "import friedman1Dataset\n",
    "import network\n",
    "import dataset\n",
    "import sanityChecks\n",
    "import torch \n",
    "import scrapbook as sb\n",
    "from statistics import mean \n",
    "import catboost as ctb \n",
    "from sklearn.model_selection import train_test_split\n",
    "from sklearn.metrics import mean_squared_error,mean_absolute_error\n",
    "import numpy as np"
   ]
  },
  {
   "cell_type": "markdown",
   "id": "2fa5b0f7",
   "metadata": {
    "id": "2fa5b0f7",
    "papermill": {
     "duration": 0.00675,
     "end_time": "2022-06-07T06:46:06.181077",
     "exception": false,
     "start_time": "2022-06-07T06:46:06.174327",
     "status": "completed"
    },
    "tags": []
   },
   "source": [
    "## Parameters "
   ]
  },
  {
   "cell_type": "code",
   "execution_count": 3,
   "id": "783186fb",
   "metadata": {
    "execution": {
     "iopub.execute_input": "2022-06-07T06:46:06.196704Z",
     "iopub.status.busy": "2022-06-07T06:46:06.196353Z",
     "iopub.status.idle": "2022-06-07T06:46:06.197603Z",
     "shell.execute_reply": "2022-06-07T06:46:06.197903Z"
    },
    "id": "783186fb",
    "papermill": {
     "duration": 0.010183,
     "end_time": "2022-06-07T06:46:06.198011",
     "exception": false,
     "start_time": "2022-06-07T06:46:06.187828",
     "status": "completed"
    },
    "tags": [
     "parameters"
    ]
   },
   "outputs": [],
   "source": [
    "variance = 1\n",
    "bias = 1 "
   ]
  },
  {
   "cell_type": "code",
   "execution_count": 4,
   "id": "16be1498",
   "metadata": {
    "execution": {
     "iopub.execute_input": "2022-06-07T06:46:06.213565Z",
     "iopub.status.busy": "2022-06-07T06:46:06.213201Z",
     "iopub.status.idle": "2022-06-07T06:46:06.214412Z",
     "shell.execute_reply": "2022-06-07T06:46:06.214655Z"
    },
    "papermill": {
     "duration": 0.00984,
     "end_time": "2022-06-07T06:46:06.214759",
     "exception": false,
     "start_time": "2022-06-07T06:46:06.204919",
     "status": "completed"
    },
    "tags": [
     "injected-parameters"
    ]
   },
   "outputs": [],
   "source": [
    "# Parameters\n",
    "variance = 0.1\n",
    "bias = 0.01\n"
   ]
  },
  {
   "cell_type": "markdown",
   "id": "391cdbfd",
   "metadata": {
    "id": "391cdbfd",
    "papermill": {
     "duration": 0.006758,
     "end_time": "2022-06-07T06:46:06.228409",
     "exception": false,
     "start_time": "2022-06-07T06:46:06.221651",
     "status": "completed"
    },
    "tags": []
   },
   "source": [
    "## Dataset \n"
   ]
  },
  {
   "cell_type": "code",
   "execution_count": 5,
   "id": "5b51f161",
   "metadata": {
    "execution": {
     "iopub.execute_input": "2022-06-07T06:46:06.243961Z",
     "iopub.status.busy": "2022-06-07T06:46:06.243585Z",
     "iopub.status.idle": "2022-06-07T06:46:06.244794Z",
     "shell.execute_reply": "2022-06-07T06:46:06.245023Z"
    },
    "id": "5b51f161",
    "papermill": {
     "duration": 0.009868,
     "end_time": "2022-06-07T06:46:06.245128",
     "exception": false,
     "start_time": "2022-06-07T06:46:06.235260",
     "status": "completed"
    },
    "tags": []
   },
   "outputs": [],
   "source": [
    "#Parameters \n",
    "n_features = 5\n",
    "n_samples= 100\n",
    "n_target = 1 "
   ]
  },
  {
   "cell_type": "code",
   "execution_count": 6,
   "id": "5d6eced4",
   "metadata": {
    "execution": {
     "iopub.execute_input": "2022-06-07T06:46:06.261851Z",
     "iopub.status.busy": "2022-06-07T06:46:06.260625Z",
     "iopub.status.idle": "2022-06-07T06:46:06.266755Z",
     "shell.execute_reply": "2022-06-07T06:46:06.267035Z"
    },
    "id": "5d6eced4",
    "papermill": {
     "duration": 0.015074,
     "end_time": "2022-06-07T06:46:06.267146",
     "exception": false,
     "start_time": "2022-06-07T06:46:06.252072",
     "status": "completed"
    },
    "tags": []
   },
   "outputs": [
    {
     "name": "stdout",
     "output_type": "stream",
     "text": [
      "         X0        X1        X2        X3        X4         Y\n",
      "0  1.424936 -1.280538 -1.097321  0.465568  0.003214  0.133733\n",
      "1 -0.340647  0.994917  0.477853  0.540620 -0.482676  0.595073\n",
      "2 -0.826637 -0.482804  0.507594 -0.160256  1.569505 -0.348680\n",
      "3  1.021900 -1.452496 -0.445394  0.150503  1.571570 -0.301698\n",
      "4  0.850870  1.634597  0.222697 -1.270008 -1.207521 -1.090710\n"
     ]
    }
   ],
   "source": [
    "X,Y = friedman1Dataset.friedman1_data(n_samples,n_features)"
   ]
  },
  {
   "cell_type": "code",
   "execution_count": 7,
   "id": "fe007438",
   "metadata": {
    "execution": {
     "iopub.execute_input": "2022-06-07T06:46:06.284196Z",
     "iopub.status.busy": "2022-06-07T06:46:06.283834Z",
     "iopub.status.idle": "2022-06-07T06:46:06.285202Z",
     "shell.execute_reply": "2022-06-07T06:46:06.285434Z"
    },
    "id": "fe007438",
    "papermill": {
     "duration": 0.011097,
     "end_time": "2022-06-07T06:46:06.285549",
     "exception": false,
     "start_time": "2022-06-07T06:46:06.274452",
     "status": "completed"
    },
    "tags": []
   },
   "outputs": [],
   "source": [
    "#Train test split for dataset \n",
    "X_train,X_test,Y_train,Y_test = train_test_split(X,Y,test_size = 0.2)\n",
    "train_data = dataset.CustomDataset(X_train,Y_train)\n",
    "test_data = dataset.CustomDataset(X_test,Y_test)\n"
   ]
  },
  {
   "cell_type": "markdown",
   "id": "a9a1af34",
   "metadata": {
    "id": "a9a1af34",
    "papermill": {
     "duration": 0.006988,
     "end_time": "2022-06-07T06:46:06.299684",
     "exception": false,
     "start_time": "2022-06-07T06:46:06.292696",
     "status": "completed"
    },
    "tags": []
   },
   "source": [
    "## Training Parameters "
   ]
  },
  {
   "cell_type": "code",
   "execution_count": 8,
   "id": "952b7fc8",
   "metadata": {
    "execution": {
     "iopub.execute_input": "2022-06-07T06:46:06.316009Z",
     "iopub.status.busy": "2022-06-07T06:46:06.315633Z",
     "iopub.status.idle": "2022-06-07T06:46:06.316929Z",
     "shell.execute_reply": "2022-06-07T06:46:06.317180Z"
    },
    "id": "952b7fc8",
    "papermill": {
     "duration": 0.010591,
     "end_time": "2022-06-07T06:46:06.317286",
     "exception": false,
     "start_time": "2022-06-07T06:46:06.306695",
     "status": "completed"
    },
    "tags": []
   },
   "outputs": [],
   "source": [
    "batch_size = 32\n",
    "n_epochs = 1000\n",
    "#Select the device \n",
    "device = torch.device('cuda' if torch.cuda.is_available() else 'cpu')"
   ]
  },
  {
   "cell_type": "markdown",
   "id": "a95e1600",
   "metadata": {
    "id": "a95e1600",
    "papermill": {
     "duration": 0.00701,
     "end_time": "2022-06-07T06:46:06.331543",
     "exception": false,
     "start_time": "2022-06-07T06:46:06.324533",
     "status": "completed"
    },
    "tags": []
   },
   "source": [
    "# ABC Pre-generator Model \n",
    "\n",
    "1. The catboost model is used as a pre-generator model for the ABC-GAN. \n",
    "2. The model is first trained on the entire dataset \n",
    "3. It generats X,Y pairs and we add some Gaussian noise with mean 0 and variance 1 to it which is then feed as input to the generator.\n"
   ]
  },
  {
   "cell_type": "code",
   "execution_count": 9,
   "id": "ff8ce7bd",
   "metadata": {
    "execution": {
     "iopub.execute_input": "2022-06-07T06:46:06.349369Z",
     "iopub.status.busy": "2022-06-07T06:46:06.348991Z",
     "iopub.status.idle": "2022-06-07T06:46:06.989601Z",
     "shell.execute_reply": "2022-06-07T06:46:06.989902Z"
    },
    "id": "ff8ce7bd",
    "papermill": {
     "duration": 0.651364,
     "end_time": "2022-06-07T06:46:06.990036",
     "exception": false,
     "start_time": "2022-06-07T06:46:06.338672",
     "status": "completed"
    },
    "tags": []
   },
   "outputs": [
    {
     "name": "stdout",
     "output_type": "stream",
     "text": [
      "Learning rate set to 0.024897\n",
      "0:\tlearn: 0.9824090\ttotal: 57.2ms\tremaining: 57.2s\n",
      "1:\tlearn: 0.9726895\ttotal: 57.8ms\tremaining: 28.9s\n",
      "2:\tlearn: 0.9627405\ttotal: 58.3ms\tremaining: 19.4s\n",
      "3:\tlearn: 0.9540185\ttotal: 58.8ms\tremaining: 14.6s\n",
      "4:\tlearn: 0.9453058\ttotal: 59.4ms\tremaining: 11.8s\n",
      "5:\tlearn: 0.9375272\ttotal: 59.9ms\tremaining: 9.93s\n",
      "6:\tlearn: 0.9266714\ttotal: 60.4ms\tremaining: 8.57s\n",
      "7:\tlearn: 0.9173687\ttotal: 60.8ms\tremaining: 7.54s\n",
      "8:\tlearn: 0.9084900\ttotal: 61.3ms\tremaining: 6.75s\n",
      "9:\tlearn: 0.8998346\ttotal: 61.9ms\tremaining: 6.13s\n",
      "10:\tlearn: 0.8914403\ttotal: 62.4ms\tremaining: 5.61s\n",
      "11:\tlearn: 0.8818605\ttotal: 62.9ms\tremaining: 5.18s\n",
      "12:\tlearn: 0.8726922\ttotal: 63.5ms\tremaining: 4.82s\n",
      "13:\tlearn: 0.8657461\ttotal: 64.2ms\tremaining: 4.52s\n",
      "14:\tlearn: 0.8581867\ttotal: 64.7ms\tremaining: 4.25s\n",
      "15:\tlearn: 0.8501740\ttotal: 65.1ms\tremaining: 4s\n",
      "16:\tlearn: 0.8432242\ttotal: 65.8ms\tremaining: 3.8s\n",
      "17:\tlearn: 0.8345388\ttotal: 66.3ms\tremaining: 3.61s\n",
      "18:\tlearn: 0.8267512\ttotal: 66.8ms\tremaining: 3.45s\n",
      "19:\tlearn: 0.8181395\ttotal: 67.2ms\tremaining: 3.29s\n",
      "20:\tlearn: 0.8103510\ttotal: 67.7ms\tremaining: 3.15s\n",
      "21:\tlearn: 0.8023894\ttotal: 68.1ms\tremaining: 3.02s\n",
      "22:\tlearn: 0.7956113\ttotal: 68.5ms\tremaining: 2.91s\n",
      "23:\tlearn: 0.7863276\ttotal: 68.9ms\tremaining: 2.8s\n",
      "24:\tlearn: 0.7792005\ttotal: 69.3ms\tremaining: 2.7s\n",
      "25:\tlearn: 0.7709974\ttotal: 69.8ms\tremaining: 2.61s\n",
      "26:\tlearn: 0.7645510\ttotal: 70.1ms\tremaining: 2.53s\n",
      "27:\tlearn: 0.7574251\ttotal: 70.6ms\tremaining: 2.45s\n",
      "28:\tlearn: 0.7506017\ttotal: 71ms\tremaining: 2.38s\n",
      "29:\tlearn: 0.7434933\ttotal: 71.4ms\tremaining: 2.31s\n",
      "30:\tlearn: 0.7361354\ttotal: 71.8ms\tremaining: 2.25s\n",
      "31:\tlearn: 0.7292559\ttotal: 72.3ms\tremaining: 2.19s\n",
      "32:\tlearn: 0.7235433\ttotal: 72.8ms\tremaining: 2.13s\n",
      "33:\tlearn: 0.7166391\ttotal: 73.2ms\tremaining: 2.08s\n",
      "34:\tlearn: 0.7109611\ttotal: 73.6ms\tremaining: 2.03s\n",
      "35:\tlearn: 0.7063745\ttotal: 74ms\tremaining: 1.98s\n",
      "36:\tlearn: 0.6999763\ttotal: 74.4ms\tremaining: 1.94s\n",
      "37:\tlearn: 0.6933690\ttotal: 74.9ms\tremaining: 1.89s\n",
      "38:\tlearn: 0.6873258\ttotal: 75.3ms\tremaining: 1.86s\n",
      "39:\tlearn: 0.6816414\ttotal: 75.8ms\tremaining: 1.82s\n",
      "40:\tlearn: 0.6747808\ttotal: 76.4ms\tremaining: 1.79s\n",
      "41:\tlearn: 0.6690506\ttotal: 76.8ms\tremaining: 1.75s\n",
      "42:\tlearn: 0.6625058\ttotal: 77.4ms\tremaining: 1.72s\n",
      "43:\tlearn: 0.6554248\ttotal: 78.4ms\tremaining: 1.7s\n",
      "44:\tlearn: 0.6493638\ttotal: 78.9ms\tremaining: 1.67s\n",
      "45:\tlearn: 0.6434416\ttotal: 79.3ms\tremaining: 1.65s\n",
      "46:\tlearn: 0.6381922\ttotal: 79.8ms\tremaining: 1.62s\n",
      "47:\tlearn: 0.6322263\ttotal: 80.4ms\tremaining: 1.59s\n",
      "48:\tlearn: 0.6274825\ttotal: 80.8ms\tremaining: 1.57s\n",
      "49:\tlearn: 0.6214424\ttotal: 81.4ms\tremaining: 1.55s\n",
      "50:\tlearn: 0.6152343\ttotal: 81.8ms\tremaining: 1.52s\n",
      "51:\tlearn: 0.6095051\ttotal: 82.4ms\tremaining: 1.5s\n",
      "52:\tlearn: 0.6037203\ttotal: 82.8ms\tremaining: 1.48s\n",
      "53:\tlearn: 0.5986886\ttotal: 83.3ms\tremaining: 1.46s\n",
      "54:\tlearn: 0.5940789\ttotal: 83.7ms\tremaining: 1.44s\n",
      "55:\tlearn: 0.5897757\ttotal: 84.3ms\tremaining: 1.42s\n",
      "56:\tlearn: 0.5847622\ttotal: 84.7ms\tremaining: 1.4s\n",
      "57:\tlearn: 0.5806183\ttotal: 85.1ms\tremaining: 1.38s\n",
      "58:\tlearn: 0.5763294\ttotal: 85.4ms\tremaining: 1.36s\n",
      "59:\tlearn: 0.5711617\ttotal: 85.9ms\tremaining: 1.34s\n",
      "60:\tlearn: 0.5671821\ttotal: 86.4ms\tremaining: 1.33s\n",
      "61:\tlearn: 0.5622350\ttotal: 86.9ms\tremaining: 1.31s\n",
      "62:\tlearn: 0.5567602\ttotal: 87.5ms\tremaining: 1.3s\n",
      "63:\tlearn: 0.5519147\ttotal: 87.8ms\tremaining: 1.28s\n",
      "64:\tlearn: 0.5474711\ttotal: 88.4ms\tremaining: 1.27s\n",
      "65:\tlearn: 0.5433010\ttotal: 88.9ms\tremaining: 1.26s\n",
      "66:\tlearn: 0.5379998\ttotal: 89.4ms\tremaining: 1.25s\n",
      "67:\tlearn: 0.5326924\ttotal: 90ms\tremaining: 1.23s\n",
      "68:\tlearn: 0.5279495\ttotal: 90.5ms\tremaining: 1.22s\n",
      "69:\tlearn: 0.5231671\ttotal: 91.1ms\tremaining: 1.21s\n",
      "70:\tlearn: 0.5184623\ttotal: 91.5ms\tremaining: 1.2s\n",
      "71:\tlearn: 0.5145165\ttotal: 92.1ms\tremaining: 1.19s\n",
      "72:\tlearn: 0.5099558\ttotal: 92.6ms\tremaining: 1.18s\n",
      "73:\tlearn: 0.5054380\ttotal: 93.1ms\tremaining: 1.16s\n",
      "74:\tlearn: 0.5010591\ttotal: 93.6ms\tremaining: 1.15s\n",
      "75:\tlearn: 0.4966617\ttotal: 94.1ms\tremaining: 1.14s\n",
      "76:\tlearn: 0.4927562\ttotal: 94.6ms\tremaining: 1.13s\n",
      "77:\tlearn: 0.4888111\ttotal: 95.1ms\tremaining: 1.12s\n",
      "78:\tlearn: 0.4849829\ttotal: 95.6ms\tremaining: 1.11s\n",
      "79:\tlearn: 0.4814883\ttotal: 95.9ms\tremaining: 1.1s\n",
      "80:\tlearn: 0.4772166\ttotal: 96.3ms\tremaining: 1.09s\n",
      "81:\tlearn: 0.4729671\ttotal: 96.8ms\tremaining: 1.08s\n",
      "82:\tlearn: 0.4687778\ttotal: 97.3ms\tremaining: 1.07s\n",
      "83:\tlearn: 0.4652744\ttotal: 97.9ms\tremaining: 1.07s\n",
      "84:\tlearn: 0.4615115\ttotal: 98.4ms\tremaining: 1.06s\n",
      "85:\tlearn: 0.4580770\ttotal: 98.9ms\tremaining: 1.05s\n",
      "86:\tlearn: 0.4548502\ttotal: 99.4ms\tremaining: 1.04s\n",
      "87:\tlearn: 0.4510691\ttotal: 99.9ms\tremaining: 1.03s\n",
      "88:\tlearn: 0.4475592\ttotal: 100ms\tremaining: 1.03s\n",
      "89:\tlearn: 0.4448393\ttotal: 101ms\tremaining: 1.02s\n",
      "90:\tlearn: 0.4416433\ttotal: 102ms\tremaining: 1.01s\n",
      "91:\tlearn: 0.4379075\ttotal: 102ms\tremaining: 1.01s\n",
      "92:\tlearn: 0.4343218\ttotal: 103ms\tremaining: 1s\n",
      "93:\tlearn: 0.4317132\ttotal: 103ms\tremaining: 995ms\n",
      "94:\tlearn: 0.4281571\ttotal: 104ms\tremaining: 988ms\n",
      "95:\tlearn: 0.4243164\ttotal: 104ms\tremaining: 982ms\n",
      "96:\tlearn: 0.4210253\ttotal: 105ms\tremaining: 974ms\n",
      "97:\tlearn: 0.4180575\ttotal: 105ms\tremaining: 968ms\n",
      "98:\tlearn: 0.4151484\ttotal: 106ms\tremaining: 961ms\n",
      "99:\tlearn: 0.4115147\ttotal: 106ms\tremaining: 955ms\n",
      "100:\tlearn: 0.4084995\ttotal: 107ms\tremaining: 949ms\n",
      "101:\tlearn: 0.4052162\ttotal: 107ms\tremaining: 943ms\n",
      "102:\tlearn: 0.4022930\ttotal: 108ms\tremaining: 937ms\n",
      "103:\tlearn: 0.3989470\ttotal: 108ms\tremaining: 931ms\n"
     ]
    },
    {
     "name": "stdout",
     "output_type": "stream",
     "text": [
      "104:\tlearn: 0.3962339\ttotal: 109ms\tremaining: 926ms\n",
      "105:\tlearn: 0.3930204\ttotal: 109ms\tremaining: 922ms\n",
      "106:\tlearn: 0.3900061\ttotal: 110ms\tremaining: 915ms\n",
      "107:\tlearn: 0.3874787\ttotal: 110ms\tremaining: 910ms\n",
      "108:\tlearn: 0.3847494\ttotal: 111ms\tremaining: 906ms\n",
      "109:\tlearn: 0.3819572\ttotal: 111ms\tremaining: 900ms\n",
      "110:\tlearn: 0.3792464\ttotal: 112ms\tremaining: 894ms\n",
      "111:\tlearn: 0.3767774\ttotal: 112ms\tremaining: 889ms\n",
      "112:\tlearn: 0.3739675\ttotal: 113ms\tremaining: 884ms\n",
      "113:\tlearn: 0.3707753\ttotal: 113ms\tremaining: 879ms\n",
      "114:\tlearn: 0.3683140\ttotal: 114ms\tremaining: 875ms\n",
      "115:\tlearn: 0.3655276\ttotal: 114ms\tremaining: 870ms\n",
      "116:\tlearn: 0.3628158\ttotal: 115ms\tremaining: 865ms\n",
      "117:\tlearn: 0.3596154\ttotal: 115ms\tremaining: 860ms\n",
      "118:\tlearn: 0.3569449\ttotal: 115ms\tremaining: 854ms\n",
      "119:\tlearn: 0.3540474\ttotal: 116ms\tremaining: 850ms\n",
      "120:\tlearn: 0.3516426\ttotal: 117ms\tremaining: 847ms\n",
      "121:\tlearn: 0.3486744\ttotal: 117ms\tremaining: 842ms\n",
      "122:\tlearn: 0.3462919\ttotal: 118ms\tremaining: 838ms\n",
      "123:\tlearn: 0.3438400\ttotal: 118ms\tremaining: 834ms\n",
      "124:\tlearn: 0.3416038\ttotal: 118ms\tremaining: 829ms\n",
      "125:\tlearn: 0.3385083\ttotal: 119ms\tremaining: 825ms\n",
      "126:\tlearn: 0.3363701\ttotal: 119ms\tremaining: 821ms\n",
      "127:\tlearn: 0.3342396\ttotal: 120ms\tremaining: 818ms\n",
      "128:\tlearn: 0.3313450\ttotal: 121ms\tremaining: 814ms\n",
      "129:\tlearn: 0.3291462\ttotal: 121ms\tremaining: 811ms\n",
      "130:\tlearn: 0.3265422\ttotal: 122ms\tremaining: 806ms\n",
      "131:\tlearn: 0.3245340\ttotal: 122ms\tremaining: 802ms\n",
      "132:\tlearn: 0.3217091\ttotal: 122ms\tremaining: 798ms\n",
      "133:\tlearn: 0.3192735\ttotal: 123ms\tremaining: 795ms\n",
      "134:\tlearn: 0.3169434\ttotal: 123ms\tremaining: 790ms\n",
      "135:\tlearn: 0.3150493\ttotal: 124ms\tremaining: 787ms\n",
      "136:\tlearn: 0.3127195\ttotal: 124ms\tremaining: 782ms\n",
      "137:\tlearn: 0.3106618\ttotal: 125ms\tremaining: 779ms\n",
      "138:\tlearn: 0.3083534\ttotal: 125ms\tremaining: 775ms\n",
      "139:\tlearn: 0.3060271\ttotal: 126ms\tremaining: 771ms\n",
      "140:\tlearn: 0.3041176\ttotal: 126ms\tremaining: 768ms\n",
      "141:\tlearn: 0.3020328\ttotal: 126ms\tremaining: 764ms\n",
      "142:\tlearn: 0.2998208\ttotal: 127ms\tremaining: 760ms\n",
      "143:\tlearn: 0.2976580\ttotal: 127ms\tremaining: 756ms\n",
      "144:\tlearn: 0.2955621\ttotal: 128ms\tremaining: 754ms\n",
      "145:\tlearn: 0.2933117\ttotal: 128ms\tremaining: 751ms\n",
      "146:\tlearn: 0.2912780\ttotal: 129ms\tremaining: 748ms\n",
      "147:\tlearn: 0.2890909\ttotal: 129ms\tremaining: 745ms\n",
      "148:\tlearn: 0.2871750\ttotal: 130ms\tremaining: 741ms\n",
      "149:\tlearn: 0.2849728\ttotal: 130ms\tremaining: 738ms\n",
      "150:\tlearn: 0.2829815\ttotal: 131ms\tremaining: 735ms\n",
      "151:\tlearn: 0.2808570\ttotal: 131ms\tremaining: 732ms\n",
      "152:\tlearn: 0.2790022\ttotal: 132ms\tremaining: 729ms\n",
      "153:\tlearn: 0.2774076\ttotal: 132ms\tremaining: 726ms\n",
      "154:\tlearn: 0.2757868\ttotal: 133ms\tremaining: 723ms\n",
      "155:\tlearn: 0.2740432\ttotal: 133ms\tremaining: 721ms\n",
      "156:\tlearn: 0.2721543\ttotal: 134ms\tremaining: 718ms\n",
      "157:\tlearn: 0.2701100\ttotal: 134ms\tremaining: 715ms\n",
      "158:\tlearn: 0.2683988\ttotal: 135ms\tremaining: 712ms\n",
      "159:\tlearn: 0.2666077\ttotal: 135ms\tremaining: 709ms\n",
      "160:\tlearn: 0.2650108\ttotal: 136ms\tremaining: 706ms\n",
      "161:\tlearn: 0.2631194\ttotal: 136ms\tremaining: 703ms\n",
      "162:\tlearn: 0.2611905\ttotal: 136ms\tremaining: 700ms\n",
      "163:\tlearn: 0.2594242\ttotal: 137ms\tremaining: 697ms\n",
      "164:\tlearn: 0.2575083\ttotal: 137ms\tremaining: 694ms\n",
      "165:\tlearn: 0.2559937\ttotal: 138ms\tremaining: 692ms\n",
      "166:\tlearn: 0.2540290\ttotal: 138ms\tremaining: 689ms\n",
      "167:\tlearn: 0.2523693\ttotal: 139ms\tremaining: 687ms\n",
      "168:\tlearn: 0.2508655\ttotal: 139ms\tremaining: 685ms\n",
      "169:\tlearn: 0.2492812\ttotal: 140ms\tremaining: 682ms\n",
      "170:\tlearn: 0.2476219\ttotal: 140ms\tremaining: 680ms\n",
      "171:\tlearn: 0.2458716\ttotal: 141ms\tremaining: 677ms\n",
      "172:\tlearn: 0.2443454\ttotal: 141ms\tremaining: 674ms\n",
      "173:\tlearn: 0.2428221\ttotal: 142ms\tremaining: 672ms\n",
      "174:\tlearn: 0.2409595\ttotal: 142ms\tremaining: 670ms\n",
      "175:\tlearn: 0.2393112\ttotal: 143ms\tremaining: 668ms\n",
      "176:\tlearn: 0.2374148\ttotal: 143ms\tremaining: 666ms\n",
      "177:\tlearn: 0.2354989\ttotal: 144ms\tremaining: 663ms\n",
      "178:\tlearn: 0.2342836\ttotal: 144ms\tremaining: 660ms\n",
      "179:\tlearn: 0.2325239\ttotal: 145ms\tremaining: 658ms\n",
      "180:\tlearn: 0.2310064\ttotal: 145ms\tremaining: 656ms\n",
      "181:\tlearn: 0.2293441\ttotal: 145ms\tremaining: 653ms\n",
      "182:\tlearn: 0.2279694\ttotal: 146ms\tremaining: 650ms\n",
      "183:\tlearn: 0.2264275\ttotal: 146ms\tremaining: 647ms\n",
      "184:\tlearn: 0.2253620\ttotal: 147ms\tremaining: 646ms\n",
      "185:\tlearn: 0.2242837\ttotal: 147ms\tremaining: 644ms\n",
      "186:\tlearn: 0.2226104\ttotal: 148ms\tremaining: 642ms\n",
      "187:\tlearn: 0.2212353\ttotal: 148ms\tremaining: 639ms\n",
      "188:\tlearn: 0.2201741\ttotal: 148ms\tremaining: 637ms\n",
      "189:\tlearn: 0.2188714\ttotal: 149ms\tremaining: 635ms\n",
      "190:\tlearn: 0.2178096\ttotal: 149ms\tremaining: 633ms\n",
      "191:\tlearn: 0.2161236\ttotal: 150ms\tremaining: 631ms\n",
      "192:\tlearn: 0.2143744\ttotal: 150ms\tremaining: 628ms\n",
      "193:\tlearn: 0.2128495\ttotal: 151ms\tremaining: 627ms\n",
      "194:\tlearn: 0.2113446\ttotal: 151ms\tremaining: 625ms\n",
      "195:\tlearn: 0.2099122\ttotal: 152ms\tremaining: 623ms\n",
      "196:\tlearn: 0.2081779\ttotal: 152ms\tremaining: 621ms\n",
      "197:\tlearn: 0.2069609\ttotal: 153ms\tremaining: 619ms\n",
      "198:\tlearn: 0.2053613\ttotal: 153ms\tremaining: 616ms\n",
      "199:\tlearn: 0.2041660\ttotal: 153ms\tremaining: 614ms\n",
      "200:\tlearn: 0.2033425\ttotal: 154ms\tremaining: 612ms\n",
      "201:\tlearn: 0.2021174\ttotal: 154ms\tremaining: 610ms\n",
      "202:\tlearn: 0.2009910\ttotal: 155ms\tremaining: 607ms\n",
      "203:\tlearn: 0.1994688\ttotal: 155ms\tremaining: 605ms\n",
      "204:\tlearn: 0.1981724\ttotal: 156ms\tremaining: 603ms\n"
     ]
    },
    {
     "name": "stdout",
     "output_type": "stream",
     "text": [
      "205:\tlearn: 0.1968769\ttotal: 156ms\tremaining: 602ms\n",
      "206:\tlearn: 0.1958757\ttotal: 157ms\tremaining: 601ms\n",
      "207:\tlearn: 0.1949368\ttotal: 157ms\tremaining: 599ms\n",
      "208:\tlearn: 0.1940266\ttotal: 158ms\tremaining: 597ms\n",
      "209:\tlearn: 0.1926974\ttotal: 158ms\tremaining: 595ms\n",
      "210:\tlearn: 0.1915841\ttotal: 159ms\tremaining: 593ms\n",
      "211:\tlearn: 0.1904961\ttotal: 159ms\tremaining: 592ms\n",
      "212:\tlearn: 0.1893522\ttotal: 160ms\tremaining: 589ms\n",
      "213:\tlearn: 0.1881845\ttotal: 160ms\tremaining: 588ms\n",
      "214:\tlearn: 0.1871195\ttotal: 160ms\tremaining: 586ms\n",
      "215:\tlearn: 0.1854703\ttotal: 161ms\tremaining: 585ms\n",
      "216:\tlearn: 0.1844435\ttotal: 162ms\tremaining: 583ms\n",
      "217:\tlearn: 0.1834348\ttotal: 162ms\tremaining: 581ms\n",
      "218:\tlearn: 0.1822978\ttotal: 162ms\tremaining: 579ms\n",
      "219:\tlearn: 0.1813503\ttotal: 163ms\tremaining: 577ms\n",
      "220:\tlearn: 0.1802655\ttotal: 163ms\tremaining: 575ms\n",
      "221:\tlearn: 0.1793340\ttotal: 164ms\tremaining: 574ms\n",
      "222:\tlearn: 0.1779233\ttotal: 164ms\tremaining: 572ms\n",
      "223:\tlearn: 0.1764667\ttotal: 165ms\tremaining: 570ms\n",
      "224:\tlearn: 0.1757816\ttotal: 165ms\tremaining: 568ms\n",
      "225:\tlearn: 0.1745563\ttotal: 165ms\tremaining: 567ms\n",
      "226:\tlearn: 0.1735360\ttotal: 166ms\tremaining: 565ms\n",
      "227:\tlearn: 0.1726107\ttotal: 166ms\tremaining: 563ms\n",
      "228:\tlearn: 0.1715139\ttotal: 167ms\tremaining: 562ms\n",
      "229:\tlearn: 0.1704184\ttotal: 167ms\tremaining: 561ms\n",
      "230:\tlearn: 0.1694830\ttotal: 168ms\tremaining: 559ms\n",
      "231:\tlearn: 0.1683969\ttotal: 168ms\tremaining: 558ms\n",
      "232:\tlearn: 0.1675563\ttotal: 169ms\tremaining: 556ms\n",
      "233:\tlearn: 0.1663151\ttotal: 170ms\tremaining: 555ms\n",
      "234:\tlearn: 0.1652837\ttotal: 170ms\tremaining: 554ms\n",
      "235:\tlearn: 0.1645615\ttotal: 171ms\tremaining: 552ms\n",
      "236:\tlearn: 0.1636299\ttotal: 171ms\tremaining: 551ms\n",
      "237:\tlearn: 0.1624771\ttotal: 171ms\tremaining: 549ms\n",
      "238:\tlearn: 0.1614300\ttotal: 172ms\tremaining: 548ms\n",
      "239:\tlearn: 0.1604349\ttotal: 172ms\tremaining: 546ms\n",
      "240:\tlearn: 0.1597808\ttotal: 173ms\tremaining: 544ms\n",
      "241:\tlearn: 0.1587496\ttotal: 173ms\tremaining: 543ms\n",
      "242:\tlearn: 0.1579390\ttotal: 174ms\tremaining: 542ms\n",
      "243:\tlearn: 0.1567082\ttotal: 174ms\tremaining: 540ms\n",
      "244:\tlearn: 0.1556928\ttotal: 175ms\tremaining: 539ms\n",
      "245:\tlearn: 0.1549504\ttotal: 175ms\tremaining: 537ms\n",
      "246:\tlearn: 0.1539611\ttotal: 176ms\tremaining: 536ms\n",
      "247:\tlearn: 0.1526904\ttotal: 176ms\tremaining: 534ms\n",
      "248:\tlearn: 0.1514923\ttotal: 177ms\tremaining: 533ms\n",
      "249:\tlearn: 0.1505511\ttotal: 177ms\tremaining: 531ms\n",
      "250:\tlearn: 0.1499991\ttotal: 178ms\tremaining: 530ms\n",
      "251:\tlearn: 0.1490404\ttotal: 178ms\tremaining: 529ms\n",
      "252:\tlearn: 0.1484913\ttotal: 178ms\tremaining: 527ms\n",
      "253:\tlearn: 0.1474495\ttotal: 179ms\tremaining: 525ms\n",
      "254:\tlearn: 0.1463466\ttotal: 179ms\tremaining: 524ms\n",
      "255:\tlearn: 0.1454776\ttotal: 180ms\tremaining: 523ms\n",
      "256:\tlearn: 0.1447402\ttotal: 180ms\tremaining: 521ms\n",
      "257:\tlearn: 0.1441306\ttotal: 181ms\tremaining: 520ms\n",
      "258:\tlearn: 0.1435075\ttotal: 181ms\tremaining: 519ms\n",
      "259:\tlearn: 0.1429734\ttotal: 182ms\tremaining: 518ms\n",
      "260:\tlearn: 0.1421319\ttotal: 182ms\tremaining: 516ms\n",
      "261:\tlearn: 0.1411774\ttotal: 183ms\tremaining: 515ms\n",
      "262:\tlearn: 0.1401373\ttotal: 183ms\tremaining: 513ms\n",
      "263:\tlearn: 0.1394091\ttotal: 184ms\tremaining: 512ms\n",
      "264:\tlearn: 0.1385502\ttotal: 184ms\tremaining: 511ms\n",
      "265:\tlearn: 0.1378361\ttotal: 184ms\tremaining: 509ms\n",
      "266:\tlearn: 0.1372455\ttotal: 185ms\tremaining: 507ms\n",
      "267:\tlearn: 0.1366009\ttotal: 185ms\tremaining: 506ms\n",
      "268:\tlearn: 0.1358895\ttotal: 186ms\tremaining: 505ms\n",
      "269:\tlearn: 0.1351491\ttotal: 187ms\tremaining: 504ms\n",
      "270:\tlearn: 0.1345062\ttotal: 187ms\tremaining: 503ms\n",
      "271:\tlearn: 0.1339621\ttotal: 187ms\tremaining: 501ms\n",
      "272:\tlearn: 0.1331292\ttotal: 188ms\tremaining: 500ms\n",
      "273:\tlearn: 0.1323783\ttotal: 188ms\tremaining: 498ms\n",
      "274:\tlearn: 0.1316251\ttotal: 189ms\tremaining: 497ms\n",
      "275:\tlearn: 0.1304990\ttotal: 189ms\tremaining: 495ms\n",
      "276:\tlearn: 0.1299084\ttotal: 189ms\tremaining: 494ms\n",
      "277:\tlearn: 0.1292068\ttotal: 190ms\tremaining: 493ms\n",
      "278:\tlearn: 0.1287367\ttotal: 190ms\tremaining: 492ms\n",
      "279:\tlearn: 0.1278294\ttotal: 191ms\tremaining: 491ms\n",
      "280:\tlearn: 0.1273581\ttotal: 191ms\tremaining: 489ms\n",
      "281:\tlearn: 0.1267596\ttotal: 192ms\tremaining: 488ms\n",
      "282:\tlearn: 0.1260912\ttotal: 192ms\tremaining: 487ms\n",
      "283:\tlearn: 0.1253234\ttotal: 193ms\tremaining: 486ms\n",
      "284:\tlearn: 0.1244529\ttotal: 193ms\tremaining: 485ms\n",
      "285:\tlearn: 0.1240690\ttotal: 194ms\tremaining: 484ms\n",
      "286:\tlearn: 0.1231573\ttotal: 194ms\tremaining: 483ms\n",
      "287:\tlearn: 0.1222561\ttotal: 195ms\tremaining: 482ms\n",
      "288:\tlearn: 0.1213206\ttotal: 196ms\tremaining: 481ms\n",
      "289:\tlearn: 0.1209018\ttotal: 196ms\tremaining: 480ms\n",
      "290:\tlearn: 0.1203917\ttotal: 197ms\tremaining: 479ms\n",
      "291:\tlearn: 0.1196438\ttotal: 197ms\tremaining: 478ms\n",
      "292:\tlearn: 0.1188750\ttotal: 198ms\tremaining: 477ms\n",
      "293:\tlearn: 0.1183557\ttotal: 198ms\tremaining: 476ms\n",
      "294:\tlearn: 0.1179257\ttotal: 199ms\tremaining: 475ms\n",
      "295:\tlearn: 0.1171670\ttotal: 199ms\tremaining: 473ms\n",
      "296:\tlearn: 0.1168324\ttotal: 200ms\tremaining: 474ms\n",
      "297:\tlearn: 0.1164237\ttotal: 201ms\tremaining: 473ms\n",
      "298:\tlearn: 0.1154879\ttotal: 201ms\tremaining: 472ms\n",
      "299:\tlearn: 0.1150750\ttotal: 202ms\tremaining: 470ms\n",
      "300:\tlearn: 0.1141611\ttotal: 202ms\tremaining: 469ms\n",
      "301:\tlearn: 0.1138290\ttotal: 203ms\tremaining: 468ms\n",
      "302:\tlearn: 0.1132176\ttotal: 203ms\tremaining: 467ms\n",
      "303:\tlearn: 0.1124882\ttotal: 204ms\tremaining: 466ms\n",
      "304:\tlearn: 0.1117382\ttotal: 204ms\tremaining: 465ms\n",
      "305:\tlearn: 0.1110419\ttotal: 204ms\tremaining: 464ms\n",
      "306:\tlearn: 0.1106542\ttotal: 205ms\tremaining: 463ms\n",
      "307:\tlearn: 0.1099528\ttotal: 205ms\tremaining: 461ms\n",
      "308:\tlearn: 0.1093973\ttotal: 206ms\tremaining: 460ms\n",
      "309:\tlearn: 0.1090979\ttotal: 206ms\tremaining: 459ms\n",
      "310:\tlearn: 0.1086992\ttotal: 207ms\tremaining: 458ms\n",
      "311:\tlearn: 0.1084099\ttotal: 207ms\tremaining: 457ms\n",
      "312:\tlearn: 0.1077199\ttotal: 208ms\tremaining: 456ms\n",
      "313:\tlearn: 0.1073056\ttotal: 208ms\tremaining: 455ms\n",
      "314:\tlearn: 0.1070249\ttotal: 209ms\tremaining: 454ms\n",
      "315:\tlearn: 0.1062025\ttotal: 209ms\tremaining: 453ms\n",
      "316:\tlearn: 0.1055509\ttotal: 210ms\tremaining: 452ms\n",
      "317:\tlearn: 0.1048896\ttotal: 210ms\tremaining: 451ms\n",
      "318:\tlearn: 0.1042420\ttotal: 211ms\tremaining: 450ms\n",
      "319:\tlearn: 0.1039186\ttotal: 211ms\tremaining: 449ms\n",
      "320:\tlearn: 0.1035861\ttotal: 212ms\tremaining: 448ms\n",
      "321:\tlearn: 0.1032215\ttotal: 212ms\tremaining: 446ms\n",
      "322:\tlearn: 0.1025822\ttotal: 213ms\tremaining: 445ms\n",
      "323:\tlearn: 0.1019673\ttotal: 213ms\tremaining: 445ms\n",
      "324:\tlearn: 0.1016336\ttotal: 213ms\tremaining: 443ms\n",
      "325:\tlearn: 0.1012433\ttotal: 214ms\tremaining: 442ms\n",
      "326:\tlearn: 0.1009583\ttotal: 214ms\tremaining: 441ms\n",
      "327:\tlearn: 0.1006527\ttotal: 215ms\tremaining: 440ms\n",
      "328:\tlearn: 0.0999881\ttotal: 215ms\tremaining: 439ms\n",
      "329:\tlearn: 0.0992672\ttotal: 216ms\tremaining: 438ms\n",
      "330:\tlearn: 0.0986236\ttotal: 216ms\tremaining: 437ms\n",
      "331:\tlearn: 0.0979439\ttotal: 217ms\tremaining: 436ms\n",
      "332:\tlearn: 0.0976411\ttotal: 217ms\tremaining: 435ms\n",
      "333:\tlearn: 0.0969865\ttotal: 218ms\tremaining: 434ms\n",
      "334:\tlearn: 0.0966895\ttotal: 218ms\tremaining: 433ms\n",
      "335:\tlearn: 0.0960768\ttotal: 219ms\tremaining: 432ms\n",
      "336:\tlearn: 0.0954267\ttotal: 219ms\tremaining: 431ms\n",
      "337:\tlearn: 0.0951349\ttotal: 220ms\tremaining: 430ms\n",
      "338:\tlearn: 0.0945583\ttotal: 220ms\tremaining: 429ms\n",
      "339:\tlearn: 0.0942544\ttotal: 221ms\tremaining: 428ms\n",
      "340:\tlearn: 0.0939801\ttotal: 221ms\tremaining: 427ms\n",
      "341:\tlearn: 0.0934100\ttotal: 222ms\tremaining: 426ms\n",
      "342:\tlearn: 0.0927846\ttotal: 222ms\tremaining: 426ms\n",
      "343:\tlearn: 0.0925124\ttotal: 223ms\tremaining: 425ms\n",
      "344:\tlearn: 0.0919744\ttotal: 223ms\tremaining: 424ms\n",
      "345:\tlearn: 0.0914465\ttotal: 224ms\tremaining: 423ms\n",
      "346:\tlearn: 0.0909363\ttotal: 224ms\tremaining: 422ms\n",
      "347:\tlearn: 0.0906774\ttotal: 225ms\tremaining: 421ms\n",
      "348:\tlearn: 0.0904089\ttotal: 225ms\tremaining: 420ms\n",
      "349:\tlearn: 0.0901540\ttotal: 226ms\tremaining: 419ms\n",
      "350:\tlearn: 0.0899172\ttotal: 226ms\tremaining: 418ms\n",
      "351:\tlearn: 0.0893985\ttotal: 227ms\tremaining: 417ms\n",
      "352:\tlearn: 0.0891414\ttotal: 227ms\tremaining: 417ms\n",
      "353:\tlearn: 0.0888817\ttotal: 228ms\tremaining: 416ms\n",
      "354:\tlearn: 0.0883693\ttotal: 228ms\tremaining: 415ms\n",
      "355:\tlearn: 0.0877992\ttotal: 229ms\tremaining: 414ms\n",
      "356:\tlearn: 0.0875540\ttotal: 229ms\tremaining: 412ms\n",
      "357:\tlearn: 0.0870588\ttotal: 229ms\tremaining: 411ms\n",
      "358:\tlearn: 0.0865397\ttotal: 230ms\tremaining: 411ms\n",
      "359:\tlearn: 0.0862296\ttotal: 230ms\tremaining: 410ms\n",
      "360:\tlearn: 0.0859565\ttotal: 231ms\tremaining: 409ms\n",
      "361:\tlearn: 0.0854906\ttotal: 231ms\tremaining: 408ms\n",
      "362:\tlearn: 0.0850215\ttotal: 232ms\tremaining: 407ms\n",
      "363:\tlearn: 0.0847581\ttotal: 232ms\tremaining: 406ms\n",
      "364:\tlearn: 0.0845001\ttotal: 233ms\tremaining: 405ms\n",
      "365:\tlearn: 0.0840150\ttotal: 234ms\tremaining: 405ms\n",
      "366:\tlearn: 0.0835113\ttotal: 234ms\tremaining: 404ms\n",
      "367:\tlearn: 0.0832593\ttotal: 234ms\tremaining: 403ms\n",
      "368:\tlearn: 0.0828385\ttotal: 235ms\tremaining: 402ms\n",
      "369:\tlearn: 0.0824038\ttotal: 235ms\tremaining: 401ms\n",
      "370:\tlearn: 0.0819775\ttotal: 236ms\tremaining: 400ms\n",
      "371:\tlearn: 0.0815188\ttotal: 237ms\tremaining: 399ms\n",
      "372:\tlearn: 0.0812790\ttotal: 237ms\tremaining: 399ms\n",
      "373:\tlearn: 0.0808039\ttotal: 238ms\tremaining: 398ms\n",
      "374:\tlearn: 0.0805693\ttotal: 238ms\tremaining: 397ms\n",
      "375:\tlearn: 0.0803395\ttotal: 239ms\tremaining: 396ms\n",
      "376:\tlearn: 0.0797885\ttotal: 239ms\tremaining: 395ms\n",
      "377:\tlearn: 0.0793511\ttotal: 240ms\tremaining: 394ms\n",
      "378:\tlearn: 0.0789695\ttotal: 240ms\tremaining: 394ms\n",
      "379:\tlearn: 0.0785212\ttotal: 241ms\tremaining: 392ms\n",
      "380:\tlearn: 0.0781493\ttotal: 241ms\tremaining: 392ms\n",
      "381:\tlearn: 0.0779301\ttotal: 242ms\tremaining: 391ms\n",
      "382:\tlearn: 0.0777152\ttotal: 242ms\tremaining: 390ms\n",
      "383:\tlearn: 0.0772969\ttotal: 243ms\tremaining: 389ms\n",
      "384:\tlearn: 0.0769199\ttotal: 243ms\tremaining: 388ms\n",
      "385:\tlearn: 0.0767102\ttotal: 244ms\tremaining: 388ms\n",
      "386:\tlearn: 0.0762478\ttotal: 244ms\tremaining: 387ms\n",
      "387:\tlearn: 0.0758275\ttotal: 245ms\tremaining: 386ms\n",
      "388:\tlearn: 0.0756239\ttotal: 245ms\tremaining: 385ms\n",
      "389:\tlearn: 0.0754244\ttotal: 246ms\tremaining: 384ms\n",
      "390:\tlearn: 0.0749856\ttotal: 246ms\tremaining: 383ms\n",
      "391:\tlearn: 0.0746247\ttotal: 247ms\tremaining: 383ms\n",
      "392:\tlearn: 0.0740592\ttotal: 247ms\tremaining: 382ms\n",
      "393:\tlearn: 0.0736555\ttotal: 248ms\tremaining: 381ms\n",
      "394:\tlearn: 0.0731103\ttotal: 249ms\tremaining: 381ms\n",
      "395:\tlearn: 0.0725781\ttotal: 249ms\tremaining: 380ms\n",
      "396:\tlearn: 0.0722395\ttotal: 250ms\tremaining: 379ms\n",
      "397:\tlearn: 0.0719675\ttotal: 250ms\tremaining: 378ms\n",
      "398:\tlearn: 0.0717003\ttotal: 251ms\tremaining: 377ms\n",
      "399:\tlearn: 0.0713604\ttotal: 251ms\tremaining: 377ms\n",
      "400:\tlearn: 0.0710194\ttotal: 251ms\tremaining: 375ms\n",
      "401:\tlearn: 0.0707215\ttotal: 252ms\tremaining: 375ms\n",
      "402:\tlearn: 0.0703522\ttotal: 252ms\tremaining: 374ms\n",
      "403:\tlearn: 0.0701017\ttotal: 253ms\tremaining: 373ms\n",
      "404:\tlearn: 0.0697148\ttotal: 253ms\tremaining: 372ms\n",
      "405:\tlearn: 0.0693987\ttotal: 254ms\tremaining: 371ms\n",
      "406:\tlearn: 0.0690108\ttotal: 254ms\tremaining: 371ms\n",
      "407:\tlearn: 0.0686962\ttotal: 255ms\tremaining: 370ms\n",
      "408:\tlearn: 0.0683198\ttotal: 255ms\tremaining: 369ms\n",
      "409:\tlearn: 0.0680140\ttotal: 256ms\tremaining: 368ms\n",
      "410:\tlearn: 0.0676490\ttotal: 256ms\tremaining: 367ms\n",
      "411:\tlearn: 0.0673824\ttotal: 256ms\tremaining: 366ms\n",
      "412:\tlearn: 0.0671212\ttotal: 257ms\tremaining: 365ms\n",
      "413:\tlearn: 0.0668288\ttotal: 258ms\tremaining: 365ms\n",
      "414:\tlearn: 0.0665218\ttotal: 258ms\tremaining: 364ms\n",
      "415:\tlearn: 0.0663026\ttotal: 258ms\tremaining: 363ms\n",
      "416:\tlearn: 0.0660195\ttotal: 259ms\tremaining: 362ms\n",
      "417:\tlearn: 0.0657741\ttotal: 259ms\tremaining: 361ms\n",
      "418:\tlearn: 0.0655363\ttotal: 260ms\tremaining: 360ms\n",
      "419:\tlearn: 0.0652001\ttotal: 260ms\tremaining: 360ms\n"
     ]
    },
    {
     "name": "stdout",
     "output_type": "stream",
     "text": [
      "420:\tlearn: 0.0649109\ttotal: 261ms\tremaining: 359ms\n",
      "421:\tlearn: 0.0646798\ttotal: 262ms\tremaining: 358ms\n",
      "422:\tlearn: 0.0644129\ttotal: 262ms\tremaining: 357ms\n",
      "423:\tlearn: 0.0642156\ttotal: 262ms\tremaining: 356ms\n",
      "424:\tlearn: 0.0639380\ttotal: 263ms\tremaining: 355ms\n",
      "425:\tlearn: 0.0636222\ttotal: 263ms\tremaining: 355ms\n",
      "426:\tlearn: 0.0633666\ttotal: 264ms\tremaining: 354ms\n",
      "427:\tlearn: 0.0630992\ttotal: 264ms\tremaining: 353ms\n",
      "428:\tlearn: 0.0627034\ttotal: 264ms\tremaining: 352ms\n",
      "429:\tlearn: 0.0624924\ttotal: 265ms\tremaining: 351ms\n",
      "430:\tlearn: 0.0622639\ttotal: 265ms\tremaining: 350ms\n",
      "431:\tlearn: 0.0620199\ttotal: 266ms\tremaining: 350ms\n",
      "432:\tlearn: 0.0618181\ttotal: 266ms\tremaining: 349ms\n",
      "433:\tlearn: 0.0613336\ttotal: 267ms\tremaining: 348ms\n",
      "434:\tlearn: 0.0611161\ttotal: 267ms\tremaining: 347ms\n",
      "435:\tlearn: 0.0606420\ttotal: 268ms\tremaining: 346ms\n",
      "436:\tlearn: 0.0602706\ttotal: 268ms\tremaining: 345ms\n",
      "437:\tlearn: 0.0598079\ttotal: 268ms\tremaining: 344ms\n",
      "438:\tlearn: 0.0594457\ttotal: 269ms\tremaining: 343ms\n",
      "439:\tlearn: 0.0589941\ttotal: 269ms\tremaining: 343ms\n",
      "440:\tlearn: 0.0585593\ttotal: 270ms\tremaining: 342ms\n",
      "441:\tlearn: 0.0582823\ttotal: 270ms\tremaining: 341ms\n",
      "442:\tlearn: 0.0579823\ttotal: 270ms\tremaining: 340ms\n",
      "443:\tlearn: 0.0576874\ttotal: 271ms\tremaining: 339ms\n",
      "444:\tlearn: 0.0573976\ttotal: 271ms\tremaining: 339ms\n",
      "445:\tlearn: 0.0571790\ttotal: 272ms\tremaining: 338ms\n",
      "446:\tlearn: 0.0569863\ttotal: 272ms\tremaining: 337ms\n",
      "447:\tlearn: 0.0568106\ttotal: 273ms\tremaining: 336ms\n",
      "448:\tlearn: 0.0563938\ttotal: 273ms\tremaining: 336ms\n",
      "449:\tlearn: 0.0561143\ttotal: 274ms\tremaining: 335ms\n",
      "450:\tlearn: 0.0559307\ttotal: 274ms\tremaining: 334ms\n",
      "451:\tlearn: 0.0554882\ttotal: 275ms\tremaining: 333ms\n",
      "452:\tlearn: 0.0551631\ttotal: 275ms\tremaining: 332ms\n",
      "453:\tlearn: 0.0547301\ttotal: 276ms\tremaining: 332ms\n",
      "454:\tlearn: 0.0545543\ttotal: 276ms\tremaining: 331ms\n",
      "455:\tlearn: 0.0543689\ttotal: 277ms\tremaining: 330ms\n",
      "456:\tlearn: 0.0539450\ttotal: 277ms\tremaining: 330ms\n",
      "457:\tlearn: 0.0537644\ttotal: 278ms\tremaining: 329ms\n",
      "458:\tlearn: 0.0533488\ttotal: 278ms\tremaining: 328ms\n",
      "459:\tlearn: 0.0529405\ttotal: 279ms\tremaining: 327ms\n",
      "460:\tlearn: 0.0527653\ttotal: 279ms\tremaining: 327ms\n",
      "461:\tlearn: 0.0525939\ttotal: 280ms\tremaining: 326ms\n",
      "462:\tlearn: 0.0521943\ttotal: 281ms\tremaining: 325ms\n",
      "463:\tlearn: 0.0518018\ttotal: 281ms\tremaining: 325ms\n",
      "464:\tlearn: 0.0516355\ttotal: 282ms\tremaining: 324ms\n",
      "465:\tlearn: 0.0512440\ttotal: 282ms\tremaining: 324ms\n",
      "466:\tlearn: 0.0510821\ttotal: 283ms\tremaining: 323ms\n",
      "467:\tlearn: 0.0506985\ttotal: 283ms\tremaining: 322ms\n",
      "468:\tlearn: 0.0503218\ttotal: 284ms\tremaining: 321ms\n",
      "469:\tlearn: 0.0499762\ttotal: 284ms\tremaining: 321ms\n",
      "470:\tlearn: 0.0496674\ttotal: 285ms\tremaining: 320ms\n",
      "471:\tlearn: 0.0493642\ttotal: 285ms\tremaining: 319ms\n",
      "472:\tlearn: 0.0492093\ttotal: 286ms\tremaining: 319ms\n",
      "473:\tlearn: 0.0489121\ttotal: 286ms\tremaining: 318ms\n",
      "474:\tlearn: 0.0486203\ttotal: 287ms\tremaining: 317ms\n",
      "475:\tlearn: 0.0483338\ttotal: 288ms\tremaining: 317ms\n",
      "476:\tlearn: 0.0481380\ttotal: 288ms\tremaining: 316ms\n",
      "477:\tlearn: 0.0478581\ttotal: 289ms\tremaining: 315ms\n",
      "478:\tlearn: 0.0475832\ttotal: 289ms\tremaining: 315ms\n",
      "479:\tlearn: 0.0473133\ttotal: 290ms\tremaining: 314ms\n",
      "480:\tlearn: 0.0471239\ttotal: 290ms\tremaining: 313ms\n",
      "481:\tlearn: 0.0467933\ttotal: 291ms\tremaining: 312ms\n",
      "482:\tlearn: 0.0466190\ttotal: 291ms\tremaining: 312ms\n",
      "483:\tlearn: 0.0464361\ttotal: 292ms\tremaining: 311ms\n",
      "484:\tlearn: 0.0461255\ttotal: 293ms\tremaining: 311ms\n",
      "485:\tlearn: 0.0459784\ttotal: 293ms\tremaining: 310ms\n",
      "486:\tlearn: 0.0457453\ttotal: 293ms\tremaining: 309ms\n",
      "487:\tlearn: 0.0455844\ttotal: 294ms\tremaining: 308ms\n",
      "488:\tlearn: 0.0452633\ttotal: 294ms\tremaining: 307ms\n",
      "489:\tlearn: 0.0449532\ttotal: 295ms\tremaining: 307ms\n",
      "490:\tlearn: 0.0446688\ttotal: 295ms\tremaining: 306ms\n",
      "491:\tlearn: 0.0443780\ttotal: 296ms\tremaining: 305ms\n",
      "492:\tlearn: 0.0442387\ttotal: 296ms\tremaining: 305ms\n",
      "493:\tlearn: 0.0441039\ttotal: 297ms\tremaining: 304ms\n",
      "494:\tlearn: 0.0439535\ttotal: 297ms\tremaining: 303ms\n",
      "495:\tlearn: 0.0438224\ttotal: 298ms\tremaining: 303ms\n",
      "496:\tlearn: 0.0436904\ttotal: 298ms\tremaining: 302ms\n",
      "497:\tlearn: 0.0434308\ttotal: 299ms\tremaining: 301ms\n",
      "498:\tlearn: 0.0431756\ttotal: 299ms\tremaining: 300ms\n",
      "499:\tlearn: 0.0430482\ttotal: 300ms\tremaining: 300ms\n",
      "500:\tlearn: 0.0427824\ttotal: 300ms\tremaining: 299ms\n",
      "501:\tlearn: 0.0425210\ttotal: 301ms\tremaining: 298ms\n",
      "502:\tlearn: 0.0422423\ttotal: 301ms\tremaining: 298ms\n",
      "503:\tlearn: 0.0419611\ttotal: 302ms\tremaining: 297ms\n",
      "504:\tlearn: 0.0416030\ttotal: 302ms\tremaining: 296ms\n",
      "505:\tlearn: 0.0412546\ttotal: 303ms\tremaining: 296ms\n",
      "506:\tlearn: 0.0409117\ttotal: 303ms\tremaining: 295ms\n",
      "507:\tlearn: 0.0406432\ttotal: 304ms\tremaining: 294ms\n",
      "508:\tlearn: 0.0403102\ttotal: 305ms\tremaining: 294ms\n",
      "509:\tlearn: 0.0400646\ttotal: 305ms\tremaining: 293ms\n",
      "510:\tlearn: 0.0399158\ttotal: 306ms\tremaining: 292ms\n",
      "511:\tlearn: 0.0397806\ttotal: 306ms\tremaining: 292ms\n",
      "512:\tlearn: 0.0394860\ttotal: 307ms\tremaining: 291ms\n",
      "513:\tlearn: 0.0391692\ttotal: 307ms\tremaining: 290ms\n",
      "514:\tlearn: 0.0388836\ttotal: 308ms\tremaining: 290ms\n",
      "515:\tlearn: 0.0385769\ttotal: 308ms\tremaining: 289ms\n",
      "516:\tlearn: 0.0382981\ttotal: 309ms\tremaining: 289ms\n",
      "517:\tlearn: 0.0381227\ttotal: 310ms\tremaining: 288ms\n",
      "518:\tlearn: 0.0378821\ttotal: 310ms\tremaining: 287ms\n",
      "519:\tlearn: 0.0377106\ttotal: 310ms\tremaining: 287ms\n",
      "520:\tlearn: 0.0374749\ttotal: 311ms\tremaining: 286ms\n",
      "521:\tlearn: 0.0373385\ttotal: 311ms\tremaining: 285ms\n",
      "522:\tlearn: 0.0371372\ttotal: 312ms\tremaining: 284ms\n",
      "523:\tlearn: 0.0370038\ttotal: 312ms\tremaining: 283ms\n",
      "524:\tlearn: 0.0368730\ttotal: 312ms\tremaining: 283ms\n",
      "525:\tlearn: 0.0366454\ttotal: 313ms\tremaining: 282ms\n",
      "526:\tlearn: 0.0365275\ttotal: 313ms\tremaining: 281ms\n",
      "527:\tlearn: 0.0363047\ttotal: 314ms\tremaining: 280ms\n",
      "528:\tlearn: 0.0361267\ttotal: 314ms\tremaining: 280ms\n",
      "529:\tlearn: 0.0359370\ttotal: 315ms\tremaining: 279ms\n",
      "530:\tlearn: 0.0357209\ttotal: 315ms\tremaining: 278ms\n",
      "531:\tlearn: 0.0355584\ttotal: 315ms\tremaining: 277ms\n",
      "532:\tlearn: 0.0353693\ttotal: 316ms\tremaining: 277ms\n",
      "533:\tlearn: 0.0352479\ttotal: 316ms\tremaining: 276ms\n",
      "534:\tlearn: 0.0351131\ttotal: 317ms\tremaining: 275ms\n",
      "535:\tlearn: 0.0349051\ttotal: 317ms\tremaining: 275ms\n",
      "536:\tlearn: 0.0347553\ttotal: 318ms\tremaining: 274ms\n",
      "537:\tlearn: 0.0346678\ttotal: 318ms\tremaining: 273ms\n",
      "538:\tlearn: 0.0344040\ttotal: 319ms\tremaining: 272ms\n",
      "539:\tlearn: 0.0342032\ttotal: 319ms\tremaining: 272ms\n",
      "540:\tlearn: 0.0341183\ttotal: 320ms\tremaining: 271ms\n",
      "541:\tlearn: 0.0340353\ttotal: 320ms\tremaining: 271ms\n",
      "542:\tlearn: 0.0339382\ttotal: 321ms\tremaining: 270ms\n",
      "543:\tlearn: 0.0336832\ttotal: 321ms\tremaining: 269ms\n",
      "544:\tlearn: 0.0334338\ttotal: 321ms\tremaining: 268ms\n",
      "545:\tlearn: 0.0332415\ttotal: 322ms\tremaining: 268ms\n",
      "546:\tlearn: 0.0330471\ttotal: 322ms\tremaining: 267ms\n",
      "547:\tlearn: 0.0328893\ttotal: 323ms\tremaining: 266ms\n",
      "548:\tlearn: 0.0327208\ttotal: 323ms\tremaining: 266ms\n",
      "549:\tlearn: 0.0326286\ttotal: 324ms\tremaining: 265ms\n",
      "550:\tlearn: 0.0323915\ttotal: 324ms\tremaining: 264ms\n",
      "551:\tlearn: 0.0321909\ttotal: 324ms\tremaining: 263ms\n",
      "552:\tlearn: 0.0320301\ttotal: 325ms\tremaining: 263ms\n",
      "553:\tlearn: 0.0318495\ttotal: 325ms\tremaining: 262ms\n",
      "554:\tlearn: 0.0316862\ttotal: 326ms\tremaining: 261ms\n",
      "555:\tlearn: 0.0314530\ttotal: 326ms\tremaining: 260ms\n",
      "556:\tlearn: 0.0312251\ttotal: 327ms\tremaining: 260ms\n",
      "557:\tlearn: 0.0310007\ttotal: 327ms\tremaining: 259ms\n",
      "558:\tlearn: 0.0309157\ttotal: 327ms\tremaining: 258ms\n",
      "559:\tlearn: 0.0306944\ttotal: 328ms\tremaining: 257ms\n",
      "560:\tlearn: 0.0305084\ttotal: 328ms\tremaining: 257ms\n",
      "561:\tlearn: 0.0303384\ttotal: 329ms\tremaining: 256ms\n",
      "562:\tlearn: 0.0301246\ttotal: 329ms\tremaining: 255ms\n",
      "563:\tlearn: 0.0299150\ttotal: 329ms\tremaining: 255ms\n",
      "564:\tlearn: 0.0297094\ttotal: 330ms\tremaining: 254ms\n",
      "565:\tlearn: 0.0295077\ttotal: 331ms\tremaining: 254ms\n",
      "566:\tlearn: 0.0293099\ttotal: 331ms\tremaining: 253ms\n",
      "567:\tlearn: 0.0291158\ttotal: 332ms\tremaining: 252ms\n",
      "568:\tlearn: 0.0289256\ttotal: 332ms\tremaining: 252ms\n",
      "569:\tlearn: 0.0287713\ttotal: 333ms\tremaining: 251ms\n",
      "570:\tlearn: 0.0285855\ttotal: 333ms\tremaining: 250ms\n",
      "571:\tlearn: 0.0284357\ttotal: 334ms\tremaining: 250ms\n",
      "572:\tlearn: 0.0282677\ttotal: 334ms\tremaining: 249ms\n",
      "573:\tlearn: 0.0281024\ttotal: 335ms\tremaining: 248ms\n",
      "574:\tlearn: 0.0279186\ttotal: 335ms\tremaining: 248ms\n",
      "575:\tlearn: 0.0277953\ttotal: 335ms\tremaining: 247ms\n",
      "576:\tlearn: 0.0276622\ttotal: 336ms\tremaining: 246ms\n",
      "577:\tlearn: 0.0274837\ttotal: 336ms\tremaining: 246ms\n",
      "578:\tlearn: 0.0273086\ttotal: 337ms\tremaining: 245ms\n",
      "579:\tlearn: 0.0271681\ttotal: 337ms\tremaining: 244ms\n",
      "580:\tlearn: 0.0269973\ttotal: 338ms\tremaining: 244ms\n",
      "581:\tlearn: 0.0268712\ttotal: 338ms\tremaining: 243ms\n",
      "582:\tlearn: 0.0267045\ttotal: 339ms\tremaining: 242ms\n",
      "583:\tlearn: 0.0265696\ttotal: 339ms\tremaining: 242ms\n"
     ]
    },
    {
     "name": "stdout",
     "output_type": "stream",
     "text": [
      "584:\tlearn: 0.0263859\ttotal: 340ms\tremaining: 241ms\n",
      "585:\tlearn: 0.0262818\ttotal: 341ms\tremaining: 241ms\n",
      "586:\tlearn: 0.0261677\ttotal: 341ms\tremaining: 240ms\n",
      "587:\tlearn: 0.0260557\ttotal: 341ms\tremaining: 239ms\n",
      "588:\tlearn: 0.0259378\ttotal: 342ms\tremaining: 239ms\n",
      "589:\tlearn: 0.0257613\ttotal: 342ms\tremaining: 238ms\n",
      "590:\tlearn: 0.0255876\ttotal: 343ms\tremaining: 237ms\n",
      "591:\tlearn: 0.0254439\ttotal: 343ms\tremaining: 237ms\n",
      "592:\tlearn: 0.0253102\ttotal: 344ms\tremaining: 236ms\n",
      "593:\tlearn: 0.0251762\ttotal: 344ms\tremaining: 235ms\n",
      "594:\tlearn: 0.0250702\ttotal: 345ms\tremaining: 235ms\n",
      "595:\tlearn: 0.0249660\ttotal: 345ms\tremaining: 234ms\n",
      "596:\tlearn: 0.0248015\ttotal: 346ms\tremaining: 233ms\n",
      "597:\tlearn: 0.0246529\ttotal: 346ms\tremaining: 233ms\n",
      "598:\tlearn: 0.0245250\ttotal: 346ms\tremaining: 232ms\n",
      "599:\tlearn: 0.0243979\ttotal: 347ms\tremaining: 231ms\n",
      "600:\tlearn: 0.0242738\ttotal: 347ms\tremaining: 230ms\n",
      "601:\tlearn: 0.0241740\ttotal: 348ms\tremaining: 230ms\n",
      "602:\tlearn: 0.0240404\ttotal: 348ms\tremaining: 229ms\n",
      "603:\tlearn: 0.0239785\ttotal: 348ms\tremaining: 228ms\n",
      "604:\tlearn: 0.0238371\ttotal: 349ms\tremaining: 228ms\n",
      "605:\tlearn: 0.0237424\ttotal: 350ms\tremaining: 227ms\n",
      "606:\tlearn: 0.0235890\ttotal: 350ms\tremaining: 227ms\n",
      "607:\tlearn: 0.0234379\ttotal: 351ms\tremaining: 226ms\n",
      "608:\tlearn: 0.0233570\ttotal: 351ms\tremaining: 225ms\n",
      "609:\tlearn: 0.0232100\ttotal: 352ms\tremaining: 225ms\n",
      "610:\tlearn: 0.0230941\ttotal: 352ms\tremaining: 224ms\n",
      "611:\tlearn: 0.0229613\ttotal: 352ms\tremaining: 223ms\n",
      "612:\tlearn: 0.0228656\ttotal: 353ms\tremaining: 223ms\n",
      "613:\tlearn: 0.0227888\ttotal: 353ms\tremaining: 222ms\n",
      "614:\tlearn: 0.0227236\ttotal: 354ms\tremaining: 222ms\n",
      "615:\tlearn: 0.0226369\ttotal: 354ms\tremaining: 221ms\n",
      "616:\tlearn: 0.0225363\ttotal: 355ms\tremaining: 220ms\n",
      "617:\tlearn: 0.0223972\ttotal: 355ms\tremaining: 220ms\n",
      "618:\tlearn: 0.0222613\ttotal: 356ms\tremaining: 219ms\n",
      "619:\tlearn: 0.0221877\ttotal: 356ms\tremaining: 218ms\n",
      "620:\tlearn: 0.0221198\ttotal: 357ms\tremaining: 218ms\n",
      "621:\tlearn: 0.0219876\ttotal: 357ms\tremaining: 217ms\n",
      "622:\tlearn: 0.0218969\ttotal: 357ms\tremaining: 216ms\n",
      "623:\tlearn: 0.0218256\ttotal: 358ms\tremaining: 216ms\n",
      "624:\tlearn: 0.0217663\ttotal: 358ms\tremaining: 215ms\n",
      "625:\tlearn: 0.0216966\ttotal: 359ms\tremaining: 214ms\n",
      "626:\tlearn: 0.0216390\ttotal: 359ms\tremaining: 214ms\n",
      "627:\tlearn: 0.0215165\ttotal: 359ms\tremaining: 213ms\n",
      "628:\tlearn: 0.0213900\ttotal: 360ms\tremaining: 212ms\n",
      "629:\tlearn: 0.0213028\ttotal: 360ms\tremaining: 212ms\n",
      "630:\tlearn: 0.0212310\ttotal: 361ms\tremaining: 211ms\n",
      "631:\tlearn: 0.0211774\ttotal: 361ms\tremaining: 210ms\n",
      "632:\tlearn: 0.0211252\ttotal: 362ms\tremaining: 210ms\n",
      "633:\tlearn: 0.0210068\ttotal: 362ms\tremaining: 209ms\n",
      "634:\tlearn: 0.0208863\ttotal: 363ms\tremaining: 209ms\n",
      "635:\tlearn: 0.0207672\ttotal: 363ms\tremaining: 208ms\n",
      "636:\tlearn: 0.0206982\ttotal: 364ms\tremaining: 207ms\n",
      "637:\tlearn: 0.0206045\ttotal: 364ms\tremaining: 207ms\n",
      "638:\tlearn: 0.0205207\ttotal: 365ms\tremaining: 206ms\n",
      "639:\tlearn: 0.0204533\ttotal: 365ms\tremaining: 205ms\n",
      "640:\tlearn: 0.0204030\ttotal: 366ms\tremaining: 205ms\n",
      "641:\tlearn: 0.0203115\ttotal: 366ms\tremaining: 204ms\n",
      "642:\tlearn: 0.0201984\ttotal: 367ms\tremaining: 204ms\n",
      "643:\tlearn: 0.0200933\ttotal: 367ms\tremaining: 203ms\n",
      "644:\tlearn: 0.0200443\ttotal: 368ms\tremaining: 202ms\n",
      "645:\tlearn: 0.0199792\ttotal: 368ms\tremaining: 202ms\n",
      "646:\tlearn: 0.0198694\ttotal: 368ms\tremaining: 201ms\n",
      "647:\tlearn: 0.0197599\ttotal: 369ms\tremaining: 200ms\n",
      "648:\tlearn: 0.0196536\ttotal: 369ms\tremaining: 200ms\n",
      "649:\tlearn: 0.0195459\ttotal: 370ms\tremaining: 199ms\n",
      "650:\tlearn: 0.0194667\ttotal: 370ms\tremaining: 198ms\n",
      "651:\tlearn: 0.0194193\ttotal: 371ms\tremaining: 198ms\n",
      "652:\tlearn: 0.0193163\ttotal: 372ms\tremaining: 197ms\n",
      "653:\tlearn: 0.0192160\ttotal: 372ms\tremaining: 197ms\n",
      "654:\tlearn: 0.0191535\ttotal: 373ms\tremaining: 196ms\n",
      "655:\tlearn: 0.0190558\ttotal: 373ms\tremaining: 196ms\n",
      "656:\tlearn: 0.0190010\ttotal: 373ms\tremaining: 195ms\n",
      "657:\tlearn: 0.0188986\ttotal: 374ms\tremaining: 194ms\n",
      "658:\tlearn: 0.0187984\ttotal: 374ms\tremaining: 194ms\n",
      "659:\tlearn: 0.0187384\ttotal: 375ms\tremaining: 193ms\n",
      "660:\tlearn: 0.0186857\ttotal: 375ms\tremaining: 192ms\n",
      "661:\tlearn: 0.0185933\ttotal: 376ms\tremaining: 192ms\n",
      "662:\tlearn: 0.0185030\ttotal: 376ms\tremaining: 191ms\n",
      "663:\tlearn: 0.0184417\ttotal: 377ms\tremaining: 191ms\n",
      "664:\tlearn: 0.0183534\ttotal: 377ms\tremaining: 190ms\n",
      "665:\tlearn: 0.0182932\ttotal: 378ms\tremaining: 189ms\n",
      "666:\tlearn: 0.0182156\ttotal: 378ms\tremaining: 189ms\n",
      "667:\tlearn: 0.0181578\ttotal: 379ms\tremaining: 188ms\n",
      "668:\tlearn: 0.0180829\ttotal: 379ms\tremaining: 188ms\n",
      "669:\tlearn: 0.0180098\ttotal: 380ms\tremaining: 187ms\n",
      "670:\tlearn: 0.0179533\ttotal: 380ms\tremaining: 186ms\n",
      "671:\tlearn: 0.0179008\ttotal: 381ms\tremaining: 186ms\n",
      "672:\tlearn: 0.0178444\ttotal: 381ms\tremaining: 185ms\n",
      "673:\tlearn: 0.0177744\ttotal: 382ms\tremaining: 185ms\n",
      "674:\tlearn: 0.0177230\ttotal: 382ms\tremaining: 184ms\n",
      "675:\tlearn: 0.0176738\ttotal: 383ms\tremaining: 183ms\n",
      "676:\tlearn: 0.0176228\ttotal: 383ms\tremaining: 183ms\n",
      "677:\tlearn: 0.0175560\ttotal: 384ms\tremaining: 182ms\n",
      "678:\tlearn: 0.0174909\ttotal: 384ms\tremaining: 182ms\n",
      "679:\tlearn: 0.0174415\ttotal: 385ms\tremaining: 181ms\n",
      "680:\tlearn: 0.0174021\ttotal: 385ms\tremaining: 180ms\n",
      "681:\tlearn: 0.0173062\ttotal: 386ms\tremaining: 180ms\n",
      "682:\tlearn: 0.0172606\ttotal: 386ms\tremaining: 179ms\n",
      "683:\tlearn: 0.0171829\ttotal: 387ms\tremaining: 179ms\n",
      "684:\tlearn: 0.0171337\ttotal: 387ms\tremaining: 178ms\n",
      "685:\tlearn: 0.0170843\ttotal: 388ms\tremaining: 177ms\n",
      "686:\tlearn: 0.0170357\ttotal: 388ms\tremaining: 177ms\n",
      "687:\tlearn: 0.0169445\ttotal: 389ms\tremaining: 176ms\n",
      "688:\tlearn: 0.0169073\ttotal: 389ms\tremaining: 176ms\n",
      "689:\tlearn: 0.0168335\ttotal: 390ms\tremaining: 175ms\n",
      "690:\tlearn: 0.0167940\ttotal: 390ms\tremaining: 174ms\n",
      "691:\tlearn: 0.0167465\ttotal: 391ms\tremaining: 174ms\n",
      "692:\tlearn: 0.0167124\ttotal: 391ms\tremaining: 173ms\n",
      "693:\tlearn: 0.0166789\ttotal: 392ms\tremaining: 173ms\n",
      "694:\tlearn: 0.0166140\ttotal: 392ms\tremaining: 172ms\n",
      "695:\tlearn: 0.0165754\ttotal: 393ms\tremaining: 172ms\n",
      "696:\tlearn: 0.0165046\ttotal: 393ms\tremaining: 171ms\n",
      "697:\tlearn: 0.0164663\ttotal: 394ms\tremaining: 170ms\n",
      "698:\tlearn: 0.0164190\ttotal: 394ms\tremaining: 170ms\n",
      "699:\tlearn: 0.0163866\ttotal: 395ms\tremaining: 169ms\n",
      "700:\tlearn: 0.0163490\ttotal: 395ms\tremaining: 169ms\n",
      "701:\tlearn: 0.0163029\ttotal: 396ms\tremaining: 168ms\n",
      "702:\tlearn: 0.0162713\ttotal: 396ms\tremaining: 167ms\n",
      "703:\tlearn: 0.0162082\ttotal: 397ms\tremaining: 167ms\n",
      "704:\tlearn: 0.0161519\ttotal: 397ms\tremaining: 166ms\n",
      "705:\tlearn: 0.0161265\ttotal: 398ms\tremaining: 166ms\n",
      "706:\tlearn: 0.0160900\ttotal: 398ms\tremaining: 165ms\n",
      "707:\tlearn: 0.0160288\ttotal: 399ms\tremaining: 164ms\n",
      "708:\tlearn: 0.0159876\ttotal: 399ms\tremaining: 164ms\n",
      "709:\tlearn: 0.0159039\ttotal: 399ms\tremaining: 163ms\n",
      "710:\tlearn: 0.0158501\ttotal: 400ms\tremaining: 163ms\n",
      "711:\tlearn: 0.0157517\ttotal: 401ms\tremaining: 162ms\n",
      "712:\tlearn: 0.0156550\ttotal: 401ms\tremaining: 161ms\n",
      "713:\tlearn: 0.0155789\ttotal: 401ms\tremaining: 161ms\n",
      "714:\tlearn: 0.0154845\ttotal: 402ms\tremaining: 160ms\n",
      "715:\tlearn: 0.0154108\ttotal: 402ms\tremaining: 160ms\n",
      "716:\tlearn: 0.0153358\ttotal: 403ms\tremaining: 159ms\n",
      "717:\tlearn: 0.0152968\ttotal: 403ms\tremaining: 158ms\n",
      "718:\tlearn: 0.0152589\ttotal: 403ms\tremaining: 158ms\n",
      "719:\tlearn: 0.0151873\ttotal: 404ms\tremaining: 157ms\n",
      "720:\tlearn: 0.0151150\ttotal: 404ms\tremaining: 156ms\n",
      "721:\tlearn: 0.0150394\ttotal: 405ms\tremaining: 156ms\n",
      "722:\tlearn: 0.0149703\ttotal: 405ms\tremaining: 155ms\n",
      "723:\tlearn: 0.0148989\ttotal: 405ms\tremaining: 155ms\n",
      "724:\tlearn: 0.0148292\ttotal: 406ms\tremaining: 154ms\n",
      "725:\tlearn: 0.0147579\ttotal: 406ms\tremaining: 153ms\n",
      "726:\tlearn: 0.0147240\ttotal: 407ms\tremaining: 153ms\n",
      "727:\tlearn: 0.0146663\ttotal: 407ms\tremaining: 152ms\n",
      "728:\tlearn: 0.0145990\ttotal: 408ms\tremaining: 152ms\n",
      "729:\tlearn: 0.0145616\ttotal: 408ms\tremaining: 151ms\n",
      "730:\tlearn: 0.0145247\ttotal: 408ms\tremaining: 150ms\n",
      "731:\tlearn: 0.0144371\ttotal: 409ms\tremaining: 150ms\n",
      "732:\tlearn: 0.0143521\ttotal: 409ms\tremaining: 149ms\n",
      "733:\tlearn: 0.0142740\ttotal: 410ms\tremaining: 149ms\n",
      "734:\tlearn: 0.0142392\ttotal: 410ms\tremaining: 148ms\n",
      "735:\tlearn: 0.0142067\ttotal: 411ms\tremaining: 147ms\n",
      "736:\tlearn: 0.0141329\ttotal: 411ms\tremaining: 147ms\n",
      "737:\tlearn: 0.0140570\ttotal: 412ms\tremaining: 146ms\n",
      "738:\tlearn: 0.0140162\ttotal: 412ms\tremaining: 146ms\n",
      "739:\tlearn: 0.0139765\ttotal: 413ms\tremaining: 145ms\n",
      "740:\tlearn: 0.0139014\ttotal: 413ms\tremaining: 144ms\n",
      "741:\tlearn: 0.0138703\ttotal: 414ms\tremaining: 144ms\n",
      "742:\tlearn: 0.0137909\ttotal: 414ms\tremaining: 143ms\n",
      "743:\tlearn: 0.0137539\ttotal: 415ms\tremaining: 143ms\n",
      "744:\tlearn: 0.0136903\ttotal: 416ms\tremaining: 142ms\n",
      "745:\tlearn: 0.0136599\ttotal: 416ms\tremaining: 142ms\n",
      "746:\tlearn: 0.0136033\ttotal: 417ms\tremaining: 141ms\n",
      "747:\tlearn: 0.0135407\ttotal: 417ms\tremaining: 141ms\n",
      "748:\tlearn: 0.0134792\ttotal: 418ms\tremaining: 140ms\n",
      "749:\tlearn: 0.0134499\ttotal: 418ms\tremaining: 139ms\n",
      "750:\tlearn: 0.0133951\ttotal: 418ms\tremaining: 139ms\n",
      "751:\tlearn: 0.0133351\ttotal: 419ms\tremaining: 138ms\n",
      "752:\tlearn: 0.0133066\ttotal: 419ms\tremaining: 138ms\n",
      "753:\tlearn: 0.0132397\ttotal: 420ms\tremaining: 137ms\n",
      "754:\tlearn: 0.0131799\ttotal: 420ms\tremaining: 136ms\n",
      "755:\tlearn: 0.0131156\ttotal: 421ms\tremaining: 136ms\n",
      "756:\tlearn: 0.0130909\ttotal: 421ms\tremaining: 135ms\n",
      "757:\tlearn: 0.0130330\ttotal: 422ms\tremaining: 135ms\n",
      "758:\tlearn: 0.0130055\ttotal: 422ms\tremaining: 134ms\n",
      "759:\tlearn: 0.0129520\ttotal: 423ms\tremaining: 133ms\n",
      "760:\tlearn: 0.0129249\ttotal: 423ms\tremaining: 133ms\n",
      "761:\tlearn: 0.0128684\ttotal: 424ms\tremaining: 132ms\n",
      "762:\tlearn: 0.0128420\ttotal: 424ms\tremaining: 132ms\n",
      "763:\tlearn: 0.0128152\ttotal: 425ms\tremaining: 131ms\n",
      "764:\tlearn: 0.0127692\ttotal: 425ms\tremaining: 131ms\n",
      "765:\tlearn: 0.0127241\ttotal: 426ms\tremaining: 130ms\n",
      "766:\tlearn: 0.0126982\ttotal: 426ms\tremaining: 130ms\n",
      "767:\tlearn: 0.0126539\ttotal: 427ms\tremaining: 129ms\n",
      "768:\tlearn: 0.0126094\ttotal: 427ms\tremaining: 128ms\n",
      "769:\tlearn: 0.0125839\ttotal: 428ms\tremaining: 128ms\n",
      "770:\tlearn: 0.0125351\ttotal: 428ms\tremaining: 127ms\n",
      "771:\tlearn: 0.0125095\ttotal: 429ms\tremaining: 127ms\n",
      "772:\tlearn: 0.0124559\ttotal: 429ms\tremaining: 126ms\n",
      "773:\tlearn: 0.0124324\ttotal: 430ms\tremaining: 125ms\n",
      "774:\tlearn: 0.0124073\ttotal: 430ms\tremaining: 125ms\n",
      "775:\tlearn: 0.0123665\ttotal: 430ms\tremaining: 124ms\n",
      "776:\tlearn: 0.0123435\ttotal: 432ms\tremaining: 124ms\n",
      "777:\tlearn: 0.0123001\ttotal: 432ms\tremaining: 123ms\n",
      "778:\tlearn: 0.0122756\ttotal: 432ms\tremaining: 123ms\n",
      "779:\tlearn: 0.0122339\ttotal: 433ms\tremaining: 122ms\n",
      "780:\tlearn: 0.0122100\ttotal: 433ms\tremaining: 122ms\n",
      "781:\tlearn: 0.0121574\ttotal: 434ms\tremaining: 121ms\n",
      "782:\tlearn: 0.0121055\ttotal: 434ms\tremaining: 120ms\n",
      "783:\tlearn: 0.0120542\ttotal: 435ms\tremaining: 120ms\n",
      "784:\tlearn: 0.0120038\ttotal: 435ms\tremaining: 119ms\n",
      "785:\tlearn: 0.0119536\ttotal: 436ms\tremaining: 119ms\n",
      "786:\tlearn: 0.0119017\ttotal: 436ms\tremaining: 118ms\n",
      "787:\tlearn: 0.0118604\ttotal: 437ms\tremaining: 118ms\n",
      "788:\tlearn: 0.0118352\ttotal: 437ms\tremaining: 117ms\n",
      "789:\tlearn: 0.0117816\ttotal: 438ms\tremaining: 116ms\n",
      "790:\tlearn: 0.0117589\ttotal: 438ms\tremaining: 116ms\n",
      "791:\tlearn: 0.0116878\ttotal: 439ms\tremaining: 115ms\n",
      "792:\tlearn: 0.0116167\ttotal: 439ms\tremaining: 115ms\n",
      "793:\tlearn: 0.0115967\ttotal: 440ms\tremaining: 114ms\n",
      "794:\tlearn: 0.0115273\ttotal: 440ms\tremaining: 114ms\n",
      "795:\tlearn: 0.0114587\ttotal: 441ms\tremaining: 113ms\n",
      "796:\tlearn: 0.0114125\ttotal: 441ms\tremaining: 112ms\n",
      "797:\tlearn: 0.0113686\ttotal: 442ms\tremaining: 112ms\n",
      "798:\tlearn: 0.0113235\ttotal: 442ms\tremaining: 111ms\n",
      "799:\tlearn: 0.0113045\ttotal: 443ms\tremaining: 111ms\n",
      "800:\tlearn: 0.0112616\ttotal: 443ms\tremaining: 110ms\n",
      "801:\tlearn: 0.0112144\ttotal: 444ms\tremaining: 110ms\n",
      "802:\tlearn: 0.0111714\ttotal: 444ms\tremaining: 109ms\n"
     ]
    },
    {
     "name": "stdout",
     "output_type": "stream",
     "text": [
      "803:\tlearn: 0.0111276\ttotal: 445ms\tremaining: 108ms\n",
      "804:\tlearn: 0.0111086\ttotal: 445ms\tremaining: 108ms\n",
      "805:\tlearn: 0.0110901\ttotal: 446ms\tremaining: 107ms\n",
      "806:\tlearn: 0.0110481\ttotal: 447ms\tremaining: 107ms\n",
      "807:\tlearn: 0.0110304\ttotal: 447ms\tremaining: 106ms\n",
      "808:\tlearn: 0.0109628\ttotal: 448ms\tremaining: 106ms\n",
      "809:\tlearn: 0.0109451\ttotal: 449ms\tremaining: 105ms\n",
      "810:\tlearn: 0.0109030\ttotal: 449ms\tremaining: 105ms\n",
      "811:\tlearn: 0.0108561\ttotal: 450ms\tremaining: 104ms\n",
      "812:\tlearn: 0.0108178\ttotal: 450ms\tremaining: 104ms\n",
      "813:\tlearn: 0.0107741\ttotal: 451ms\tremaining: 103ms\n",
      "814:\tlearn: 0.0107456\ttotal: 451ms\tremaining: 102ms\n",
      "815:\tlearn: 0.0107060\ttotal: 452ms\tremaining: 102ms\n",
      "816:\tlearn: 0.0106577\ttotal: 452ms\tremaining: 101ms\n",
      "817:\tlearn: 0.0106104\ttotal: 453ms\tremaining: 101ms\n",
      "818:\tlearn: 0.0105738\ttotal: 453ms\tremaining: 100ms\n",
      "819:\tlearn: 0.0105294\ttotal: 453ms\tremaining: 99.5ms\n",
      "820:\tlearn: 0.0105021\ttotal: 454ms\tremaining: 99ms\n",
      "821:\tlearn: 0.0104656\ttotal: 454ms\tremaining: 98.4ms\n",
      "822:\tlearn: 0.0104274\ttotal: 455ms\tremaining: 97.8ms\n",
      "823:\tlearn: 0.0103691\ttotal: 455ms\tremaining: 97.2ms\n",
      "824:\tlearn: 0.0103259\ttotal: 456ms\tremaining: 96.6ms\n",
      "825:\tlearn: 0.0102692\ttotal: 456ms\tremaining: 96.1ms\n",
      "826:\tlearn: 0.0102324\ttotal: 457ms\tremaining: 95.5ms\n",
      "827:\tlearn: 0.0101976\ttotal: 457ms\tremaining: 95ms\n",
      "828:\tlearn: 0.0101424\ttotal: 458ms\tremaining: 94.4ms\n",
      "829:\tlearn: 0.0101164\ttotal: 458ms\tremaining: 93.8ms\n",
      "830:\tlearn: 0.0100622\ttotal: 458ms\tremaining: 93.2ms\n",
      "831:\tlearn: 0.0100420\ttotal: 459ms\tremaining: 92.7ms\n",
      "832:\tlearn: 0.0100065\ttotal: 459ms\tremaining: 92.1ms\n",
      "833:\tlearn: 0.0099813\ttotal: 460ms\tremaining: 91.5ms\n",
      "834:\tlearn: 0.0099689\ttotal: 460ms\tremaining: 91ms\n",
      "835:\tlearn: 0.0099206\ttotal: 461ms\tremaining: 90.4ms\n",
      "836:\tlearn: 0.0098796\ttotal: 461ms\tremaining: 89.8ms\n",
      "837:\tlearn: 0.0098459\ttotal: 462ms\tremaining: 89.3ms\n",
      "838:\tlearn: 0.0098058\ttotal: 462ms\tremaining: 88.7ms\n",
      "839:\tlearn: 0.0097709\ttotal: 463ms\tremaining: 88.1ms\n",
      "840:\tlearn: 0.0097328\ttotal: 463ms\tremaining: 87.5ms\n",
      "841:\tlearn: 0.0096957\ttotal: 463ms\tremaining: 87ms\n",
      "842:\tlearn: 0.0096662\ttotal: 464ms\tremaining: 86.4ms\n",
      "843:\tlearn: 0.0096324\ttotal: 464ms\tremaining: 85.8ms\n",
      "844:\tlearn: 0.0095999\ttotal: 465ms\tremaining: 85.2ms\n",
      "845:\tlearn: 0.0095436\ttotal: 465ms\tremaining: 84.7ms\n",
      "846:\tlearn: 0.0094883\ttotal: 466ms\tremaining: 84.1ms\n",
      "847:\tlearn: 0.0094746\ttotal: 466ms\tremaining: 83.6ms\n",
      "848:\tlearn: 0.0094419\ttotal: 467ms\tremaining: 83ms\n",
      "849:\tlearn: 0.0094100\ttotal: 467ms\tremaining: 82.4ms\n",
      "850:\tlearn: 0.0093719\ttotal: 467ms\tremaining: 81.9ms\n",
      "851:\tlearn: 0.0093382\ttotal: 468ms\tremaining: 81.3ms\n",
      "852:\tlearn: 0.0093052\ttotal: 469ms\tremaining: 80.8ms\n",
      "853:\tlearn: 0.0092851\ttotal: 469ms\tremaining: 80.2ms\n",
      "854:\tlearn: 0.0092329\ttotal: 469ms\tremaining: 79.6ms\n",
      "855:\tlearn: 0.0092125\ttotal: 470ms\tremaining: 79ms\n",
      "856:\tlearn: 0.0091656\ttotal: 470ms\tremaining: 78.5ms\n",
      "857:\tlearn: 0.0091155\ttotal: 471ms\tremaining: 77.9ms\n",
      "858:\tlearn: 0.0090802\ttotal: 471ms\tremaining: 77.3ms\n",
      "859:\tlearn: 0.0090674\ttotal: 472ms\tremaining: 76.8ms\n",
      "860:\tlearn: 0.0090327\ttotal: 472ms\tremaining: 76.2ms\n",
      "861:\tlearn: 0.0090179\ttotal: 472ms\tremaining: 75.6ms\n",
      "862:\tlearn: 0.0089579\ttotal: 473ms\tremaining: 75.1ms\n",
      "863:\tlearn: 0.0088991\ttotal: 473ms\tremaining: 74.5ms\n",
      "864:\tlearn: 0.0088491\ttotal: 474ms\tremaining: 74ms\n",
      "865:\tlearn: 0.0088147\ttotal: 474ms\tremaining: 73.4ms\n",
      "866:\tlearn: 0.0087792\ttotal: 475ms\tremaining: 72.9ms\n",
      "867:\tlearn: 0.0087467\ttotal: 475ms\tremaining: 72.3ms\n",
      "868:\tlearn: 0.0087247\ttotal: 476ms\tremaining: 71.7ms\n",
      "869:\tlearn: 0.0086918\ttotal: 476ms\tremaining: 71.2ms\n",
      "870:\tlearn: 0.0086572\ttotal: 477ms\tremaining: 70.6ms\n",
      "871:\tlearn: 0.0086027\ttotal: 477ms\tremaining: 70.1ms\n",
      "872:\tlearn: 0.0085556\ttotal: 478ms\tremaining: 69.5ms\n",
      "873:\tlearn: 0.0085239\ttotal: 479ms\tremaining: 69ms\n",
      "874:\tlearn: 0.0085033\ttotal: 479ms\tremaining: 68.4ms\n",
      "875:\tlearn: 0.0084561\ttotal: 480ms\tremaining: 67.9ms\n",
      "876:\tlearn: 0.0084227\ttotal: 480ms\tremaining: 67.3ms\n",
      "877:\tlearn: 0.0083789\ttotal: 481ms\tremaining: 66.8ms\n",
      "878:\tlearn: 0.0083331\ttotal: 481ms\tremaining: 66.2ms\n",
      "879:\tlearn: 0.0083037\ttotal: 482ms\tremaining: 65.7ms\n",
      "880:\tlearn: 0.0082588\ttotal: 482ms\tremaining: 65.1ms\n",
      "881:\tlearn: 0.0082167\ttotal: 482ms\tremaining: 64.5ms\n",
      "882:\tlearn: 0.0081871\ttotal: 483ms\tremaining: 64ms\n",
      "883:\tlearn: 0.0081585\ttotal: 483ms\tremaining: 63.4ms\n",
      "884:\tlearn: 0.0081306\ttotal: 484ms\tremaining: 62.9ms\n",
      "885:\tlearn: 0.0080872\ttotal: 484ms\tremaining: 62.3ms\n",
      "886:\tlearn: 0.0080436\ttotal: 485ms\tremaining: 61.7ms\n",
      "887:\tlearn: 0.0080320\ttotal: 485ms\tremaining: 61.2ms\n",
      "888:\tlearn: 0.0079894\ttotal: 486ms\tremaining: 60.6ms\n",
      "889:\tlearn: 0.0079580\ttotal: 486ms\tremaining: 60.1ms\n",
      "890:\tlearn: 0.0079181\ttotal: 486ms\tremaining: 59.5ms\n",
      "891:\tlearn: 0.0078875\ttotal: 487ms\tremaining: 58.9ms\n",
      "892:\tlearn: 0.0078461\ttotal: 487ms\tremaining: 58.4ms\n",
      "893:\tlearn: 0.0078192\ttotal: 488ms\tremaining: 57.8ms\n",
      "894:\tlearn: 0.0077780\ttotal: 488ms\tremaining: 57.3ms\n",
      "895:\tlearn: 0.0077601\ttotal: 489ms\tremaining: 56.7ms\n",
      "896:\tlearn: 0.0077199\ttotal: 489ms\tremaining: 56.2ms\n",
      "897:\tlearn: 0.0076814\ttotal: 490ms\tremaining: 55.6ms\n",
      "898:\tlearn: 0.0076554\ttotal: 490ms\tremaining: 55ms\n",
      "899:\tlearn: 0.0076176\ttotal: 491ms\tremaining: 54.5ms\n",
      "900:\tlearn: 0.0075924\ttotal: 491ms\tremaining: 54ms\n",
      "901:\tlearn: 0.0075535\ttotal: 492ms\tremaining: 53.4ms\n",
      "902:\tlearn: 0.0075156\ttotal: 492ms\tremaining: 52.9ms\n",
      "903:\tlearn: 0.0075048\ttotal: 493ms\tremaining: 52.3ms\n",
      "904:\tlearn: 0.0074772\ttotal: 493ms\tremaining: 51.8ms\n",
      "905:\tlearn: 0.0074501\ttotal: 494ms\tremaining: 51.2ms\n",
      "906:\tlearn: 0.0074132\ttotal: 494ms\tremaining: 50.7ms\n",
      "907:\tlearn: 0.0074026\ttotal: 495ms\tremaining: 50.1ms\n",
      "908:\tlearn: 0.0073760\ttotal: 495ms\tremaining: 49.6ms\n",
      "909:\tlearn: 0.0073474\ttotal: 496ms\tremaining: 49ms\n",
      "910:\tlearn: 0.0073369\ttotal: 496ms\tremaining: 48.5ms\n",
      "911:\tlearn: 0.0073144\ttotal: 496ms\tremaining: 47.9ms\n",
      "912:\tlearn: 0.0072863\ttotal: 497ms\tremaining: 47.4ms\n",
      "913:\tlearn: 0.0072543\ttotal: 497ms\tremaining: 46.8ms\n",
      "914:\tlearn: 0.0072186\ttotal: 498ms\tremaining: 46.3ms\n",
      "915:\tlearn: 0.0071913\ttotal: 499ms\tremaining: 45.7ms\n",
      "916:\tlearn: 0.0071600\ttotal: 499ms\tremaining: 45.2ms\n",
      "917:\tlearn: 0.0071504\ttotal: 499ms\tremaining: 44.6ms\n",
      "918:\tlearn: 0.0071163\ttotal: 500ms\tremaining: 44.1ms\n",
      "919:\tlearn: 0.0070915\ttotal: 501ms\tremaining: 43.5ms\n",
      "920:\tlearn: 0.0070651\ttotal: 501ms\tremaining: 43ms\n",
      "921:\tlearn: 0.0070312\ttotal: 501ms\tremaining: 42.4ms\n",
      "922:\tlearn: 0.0069982\ttotal: 502ms\tremaining: 41.9ms\n",
      "923:\tlearn: 0.0069705\ttotal: 502ms\tremaining: 41.3ms\n",
      "924:\tlearn: 0.0069468\ttotal: 503ms\tremaining: 40.8ms\n",
      "925:\tlearn: 0.0069147\ttotal: 503ms\tremaining: 40.2ms\n",
      "926:\tlearn: 0.0068917\ttotal: 504ms\tremaining: 39.7ms\n",
      "927:\tlearn: 0.0068667\ttotal: 504ms\tremaining: 39.1ms\n",
      "928:\tlearn: 0.0068355\ttotal: 505ms\tremaining: 38.6ms\n",
      "929:\tlearn: 0.0068126\ttotal: 505ms\tremaining: 38ms\n",
      "930:\tlearn: 0.0067904\ttotal: 505ms\tremaining: 37.5ms\n",
      "931:\tlearn: 0.0067687\ttotal: 506ms\tremaining: 36.9ms\n",
      "932:\tlearn: 0.0067466\ttotal: 506ms\tremaining: 36.4ms\n",
      "933:\tlearn: 0.0067182\ttotal: 507ms\tremaining: 35.8ms\n",
      "934:\tlearn: 0.0066960\ttotal: 508ms\tremaining: 35.3ms\n",
      "935:\tlearn: 0.0066749\ttotal: 508ms\tremaining: 34.7ms\n",
      "936:\tlearn: 0.0066535\ttotal: 509ms\tremaining: 34.2ms\n",
      "937:\tlearn: 0.0066259\ttotal: 509ms\tremaining: 33.7ms\n",
      "938:\tlearn: 0.0066025\ttotal: 510ms\tremaining: 33.1ms\n",
      "939:\tlearn: 0.0065783\ttotal: 510ms\tremaining: 32.6ms\n",
      "940:\tlearn: 0.0065516\ttotal: 511ms\tremaining: 32ms\n",
      "941:\tlearn: 0.0065398\ttotal: 511ms\tremaining: 31.5ms\n",
      "942:\tlearn: 0.0065183\ttotal: 512ms\tremaining: 30.9ms\n",
      "943:\tlearn: 0.0064973\ttotal: 512ms\tremaining: 30.4ms\n",
      "944:\tlearn: 0.0064771\ttotal: 513ms\tremaining: 29.8ms\n",
      "945:\tlearn: 0.0064384\ttotal: 513ms\tremaining: 29.3ms\n",
      "946:\tlearn: 0.0064188\ttotal: 514ms\tremaining: 28.8ms\n",
      "947:\tlearn: 0.0063984\ttotal: 515ms\tremaining: 28.2ms\n",
      "948:\tlearn: 0.0063824\ttotal: 515ms\tremaining: 27.7ms\n",
      "949:\tlearn: 0.0063632\ttotal: 516ms\tremaining: 27.2ms\n",
      "950:\tlearn: 0.0063376\ttotal: 516ms\tremaining: 26.6ms\n",
      "951:\tlearn: 0.0063268\ttotal: 517ms\tremaining: 26.1ms\n",
      "952:\tlearn: 0.0062996\ttotal: 517ms\tremaining: 25.5ms\n",
      "953:\tlearn: 0.0062890\ttotal: 518ms\tremaining: 25ms\n",
      "954:\tlearn: 0.0062785\ttotal: 518ms\tremaining: 24.4ms\n",
      "955:\tlearn: 0.0062561\ttotal: 519ms\tremaining: 23.9ms\n",
      "956:\tlearn: 0.0062458\ttotal: 519ms\tremaining: 23.3ms\n",
      "957:\tlearn: 0.0062371\ttotal: 520ms\tremaining: 22.8ms\n",
      "958:\tlearn: 0.0062108\ttotal: 520ms\tremaining: 22.2ms\n",
      "959:\tlearn: 0.0061927\ttotal: 520ms\tremaining: 21.7ms\n",
      "960:\tlearn: 0.0061748\ttotal: 521ms\tremaining: 21.1ms\n",
      "961:\tlearn: 0.0061572\ttotal: 521ms\tremaining: 20.6ms\n",
      "962:\tlearn: 0.0061327\ttotal: 522ms\tremaining: 20.1ms\n",
      "963:\tlearn: 0.0061117\ttotal: 522ms\tremaining: 19.5ms\n"
     ]
    },
    {
     "name": "stdout",
     "output_type": "stream",
     "text": [
      "964:\tlearn: 0.0060901\ttotal: 523ms\tremaining: 19ms\n",
      "965:\tlearn: 0.0060793\ttotal: 523ms\tremaining: 18.4ms\n",
      "966:\tlearn: 0.0060480\ttotal: 524ms\tremaining: 17.9ms\n",
      "967:\tlearn: 0.0060239\ttotal: 524ms\tremaining: 17.3ms\n",
      "968:\tlearn: 0.0060143\ttotal: 525ms\tremaining: 16.8ms\n",
      "969:\tlearn: 0.0060020\ttotal: 525ms\tremaining: 16.2ms\n",
      "970:\tlearn: 0.0059925\ttotal: 526ms\tremaining: 15.7ms\n",
      "971:\tlearn: 0.0059805\ttotal: 526ms\tremaining: 15.2ms\n",
      "972:\tlearn: 0.0059684\ttotal: 526ms\tremaining: 14.6ms\n",
      "973:\tlearn: 0.0059591\ttotal: 527ms\tremaining: 14.1ms\n",
      "974:\tlearn: 0.0059499\ttotal: 527ms\tremaining: 13.5ms\n",
      "975:\tlearn: 0.0059380\ttotal: 528ms\tremaining: 13ms\n",
      "976:\tlearn: 0.0059290\ttotal: 528ms\tremaining: 12.4ms\n",
      "977:\tlearn: 0.0059056\ttotal: 528ms\tremaining: 11.9ms\n",
      "978:\tlearn: 0.0058939\ttotal: 529ms\tremaining: 11.3ms\n",
      "979:\tlearn: 0.0058823\ttotal: 529ms\tremaining: 10.8ms\n",
      "980:\tlearn: 0.0058735\ttotal: 530ms\tremaining: 10.3ms\n",
      "981:\tlearn: 0.0058621\ttotal: 530ms\tremaining: 9.72ms\n",
      "982:\tlearn: 0.0058535\ttotal: 531ms\tremaining: 9.18ms\n",
      "983:\tlearn: 0.0058450\ttotal: 531ms\tremaining: 8.63ms\n",
      "984:\tlearn: 0.0058338\ttotal: 531ms\tremaining: 8.09ms\n",
      "985:\tlearn: 0.0058254\ttotal: 532ms\tremaining: 7.55ms\n",
      "986:\tlearn: 0.0058181\ttotal: 532ms\tremaining: 7.01ms\n",
      "987:\tlearn: 0.0058071\ttotal: 533ms\tremaining: 6.47ms\n",
      "988:\tlearn: 0.0057990\ttotal: 533ms\tremaining: 5.93ms\n",
      "989:\tlearn: 0.0057881\ttotal: 534ms\tremaining: 5.39ms\n",
      "990:\tlearn: 0.0057801\ttotal: 534ms\tremaining: 4.85ms\n",
      "991:\tlearn: 0.0057473\ttotal: 535ms\tremaining: 4.31ms\n",
      "992:\tlearn: 0.0057394\ttotal: 535ms\tremaining: 3.77ms\n",
      "993:\tlearn: 0.0057326\ttotal: 536ms\tremaining: 3.23ms\n",
      "994:\tlearn: 0.0057008\ttotal: 536ms\tremaining: 2.69ms\n",
      "995:\tlearn: 0.0056932\ttotal: 536ms\tremaining: 2.15ms\n",
      "996:\tlearn: 0.0056605\ttotal: 537ms\tremaining: 1.61ms\n",
      "997:\tlearn: 0.0056434\ttotal: 537ms\tremaining: 1.08ms\n",
      "998:\tlearn: 0.0056140\ttotal: 538ms\tremaining: 538us\n",
      "999:\tlearn: 0.0055881\ttotal: 538ms\tremaining: 0us\n"
     ]
    },
    {
     "data": {
      "text/plain": [
       "<catboost.core.CatBoostRegressor at 0x7fd318081640>"
      ]
     },
     "execution_count": 9,
     "metadata": {},
     "output_type": "execute_result"
    }
   ],
   "source": [
    "#Train the Model \n",
    "prior_model = ctb.CatBoostRegressor()\n",
    "prior_model.fit(X_train,Y_train)"
   ]
  },
  {
   "cell_type": "code",
   "execution_count": 10,
   "id": "af65dcda",
   "metadata": {
    "execution": {
     "iopub.execute_input": "2022-06-07T06:46:07.012321Z",
     "iopub.status.busy": "2022-06-07T06:46:07.011939Z",
     "iopub.status.idle": "2022-06-07T06:46:07.019521Z",
     "shell.execute_reply": "2022-06-07T06:46:07.019768Z"
    },
    "id": "af65dcda",
    "papermill": {
     "duration": 0.02058,
     "end_time": "2022-06-07T06:46:07.019888",
     "exception": false,
     "start_time": "2022-06-07T06:46:06.999308",
     "status": "completed"
    },
    "tags": []
   },
   "outputs": [
    {
     "data": {
      "application/scrapbook.scrap.json+json": {
       "data": 0.16681644448279037,
       "encoder": "json",
       "name": "Prior Model MSE",
       "version": 1
      }
     },
     "metadata": {
      "scrapbook": {
       "data": true,
       "display": false,
       "name": "Prior Model MSE"
      }
     },
     "output_type": "display_data"
    },
    {
     "data": {
      "application/scrapbook.scrap.json+json": {
       "data": 0.18339891911913,
       "encoder": "json",
       "name": "ABC Pre-generator MSE",
       "version": 1
      }
     },
     "metadata": {
      "scrapbook": {
       "data": true,
       "display": false,
       "name": "ABC Pre-generator MSE"
      }
     },
     "output_type": "display_data"
    },
    {
     "data": {
      "application/scrapbook.scrap.json+json": {
       "data": 0.3008281329084044,
       "encoder": "json",
       "name": "Prior Model MSE",
       "version": 1
      }
     },
     "metadata": {
      "scrapbook": {
       "data": true,
       "display": false,
       "name": "Prior Model MSE"
      }
     },
     "output_type": "display_data"
    },
    {
     "data": {
      "application/scrapbook.scrap.json+json": {
       "data": 0.3265003342286653,
       "encoder": "json",
       "name": "ABC Pre-generator MSE",
       "version": 1
      }
     },
     "metadata": {
      "scrapbook": {
       "data": true,
       "display": false,
       "name": "ABC Pre-generator MSE"
      }
     },
     "output_type": "display_data"
    }
   ],
   "source": [
    "y_pred = prior_model.predict(X_test)\n",
    "y_abc = y_pred + np.random.normal(0,variance, y_pred.shape) + bias \n",
    "mse = mean_squared_error(y_pred,Y_test)\n",
    "sb.glue(\"Prior Model MSE\",mse)\n",
    "mse = mean_squared_error(y_abc,Y_test)\n",
    "sb.glue(\"ABC Pre-generator MSE\",mse)\n",
    "mae = mean_absolute_error(y_pred,Y_test)\n",
    "sb.glue(\"Prior Model MSE\",mae)\n",
    "mae = mean_absolute_error(y_abc,Y_test)\n",
    "sb.glue(\"ABC Pre-generator MSE\",mae)"
   ]
  },
  {
   "cell_type": "markdown",
   "id": "25609da2",
   "metadata": {
    "papermill": {
     "duration": 0.009472,
     "end_time": "2022-06-07T06:46:07.039218",
     "exception": false,
     "start_time": "2022-06-07T06:46:07.029746",
     "status": "completed"
    },
    "tags": []
   },
   "source": [
    "# ABC GAN Model"
   ]
  },
  {
   "cell_type": "code",
   "execution_count": 11,
   "id": "dfc3464d",
   "metadata": {
    "execution": {
     "iopub.execute_input": "2022-06-07T06:46:07.061283Z",
     "iopub.status.busy": "2022-06-07T06:46:07.060915Z",
     "iopub.status.idle": "2022-06-07T06:46:07.063548Z",
     "shell.execute_reply": "2022-06-07T06:46:07.063780Z"
    },
    "papermill": {
     "duration": 0.015176,
     "end_time": "2022-06-07T06:46:07.063888",
     "exception": false,
     "start_time": "2022-06-07T06:46:07.048712",
     "status": "completed"
    },
    "tags": []
   },
   "outputs": [],
   "source": [
    "gen = network.Generator(n_features+1).to(device)\n",
    "disc = network.Discriminator(n_features+1).to(device)\n",
    "\n",
    "criterion = torch.nn.BCELoss()\n",
    "gen_opt = torch.optim.Adam(gen.parameters(), lr=0.001, betas=(0.5, 0.999))\n",
    "disc_opt = torch.optim.Adam(disc.parameters(), lr=0.001, betas=(0.5, 0.999))"
   ]
  },
  {
   "cell_type": "code",
   "execution_count": 12,
   "id": "b75fdd85",
   "metadata": {
    "execution": {
     "iopub.execute_input": "2022-06-07T06:46:07.085234Z",
     "iopub.status.busy": "2022-06-07T06:46:07.084845Z",
     "iopub.status.idle": "2022-06-07T06:46:20.473824Z",
     "shell.execute_reply": "2022-06-07T06:46:20.474140Z"
    },
    "papermill": {
     "duration": 13.40073,
     "end_time": "2022-06-07T06:46:20.474272",
     "exception": false,
     "start_time": "2022-06-07T06:46:07.073542",
     "status": "completed"
    },
    "tags": []
   },
   "outputs": [
    {
     "data": {
      "image/png": "[encoded data removed]",
      "text/plain": [
       "<Figure size 432x288 with 1 Axes>"
      ]
     },
     "metadata": {
      "needs_background": "light"
     },
     "output_type": "display_data"
    },
    {
     "data": {
      "image/png": "[encoded data removed]",
      "text/plain": [
       "<Figure size 432x288 with 1 Axes>"
      ]
     },
     "metadata": {
      "needs_background": "light"
     },
     "output_type": "display_data"
    }
   ],
   "source": [
    "#Training the ABC_GAN \n",
    "ABC_train_test2.training_GAN(disc,gen,disc_opt,gen_opt,train_data,batch_size,n_epochs,criterion,prior_model,variance,bias,device)"
   ]
  },
  {
   "cell_type": "code",
   "execution_count": 13,
   "id": "1fa7c368",
   "metadata": {
    "execution": {
     "iopub.execute_input": "2022-06-07T06:46:20.499044Z",
     "iopub.status.busy": "2022-06-07T06:46:20.498575Z",
     "iopub.status.idle": "2022-06-07T06:46:20.666351Z",
     "shell.execute_reply": "2022-06-07T06:46:20.666754Z"
    },
    "papermill": {
     "duration": 0.181327,
     "end_time": "2022-06-07T06:46:20.666883",
     "exception": false,
     "start_time": "2022-06-07T06:46:20.485556",
     "status": "completed"
    },
    "tags": []
   },
   "outputs": [
    {
     "data": {
      "application/scrapbook.scrap.json+json": {
       "data": 0.08461670897414755,
       "encoder": "json",
       "name": "ABC-GAN Model 1 MSE",
       "version": 1
      }
     },
     "metadata": {
      "scrapbook": {
       "data": true,
       "display": false,
       "name": "ABC-GAN Model 1 MSE"
      }
     },
     "output_type": "display_data"
    },
    {
     "data": {
      "application/scrapbook.scrap.json+json": {
       "data": 0.20895880343951284,
       "encoder": "json",
       "name": "ABC-GAN Model 1 MAE",
       "version": 1
      }
     },
     "metadata": {
      "scrapbook": {
       "data": true,
       "display": false,
       "name": "ABC-GAN Model 1 MAE"
      }
     },
     "output_type": "display_data"
    },
    {
     "data": {
      "application/scrapbook.scrap.json+json": {
       "data": 4.179176068790257,
       "encoder": "json",
       "name": "ABC-GAN Model 1 Manhattan Distance",
       "version": 1
      }
     },
     "metadata": {
      "scrapbook": {
       "data": true,
       "display": false,
       "name": "ABC-GAN Model 1 Manhattan Distance"
      }
     },
     "output_type": "display_data"
    },
    {
     "data": {
      "application/scrapbook.scrap.json+json": {
       "data": 1.2994002943597114,
       "encoder": "json",
       "name": "ABC-GAN Model 1 Euclidean distance",
       "version": 1
      }
     },
     "metadata": {
      "scrapbook": {
       "data": true,
       "display": false,
       "name": "ABC-GAN Model 1 Euclidean distance"
      }
     },
     "output_type": "display_data"
    },
    {
     "data": {
      "application/scrapbook.scrap.json+json": {
       "data": [
        [
         0.07259625582971335,
         0.0876756373408675,
         0.07489445639168399,
         0.07576153667045851,
         0.09061371451768423,
         0.07313027522125894,
         0.0699912749897042,
         0.08924804959835762,
         0.07733130223601928,
         0.08845874524196519,
         0.10256994102685657,
         0.07966442239384225,
         0.08952595286397956,
         0.08124200475888768,
         0.09437803013147118,
         0.08377037639368552,
         0.09457439203892055,
         0.07941942278489236,
         0.07890326663316394,
         0.07331451549251981,
         0.08349957486898907,
         0.09220836082699936,
         0.0920986073557452,
         0.0864683328329942,
         0.09906030146477508,
         0.09986150447994399,
         0.07592990465733968,
         0.07723669220239152,
         0.10516923985255142,
         0.08918340047793935,
         0.09527895613811747,
         0.08032925918940545,
         0.08225506439133727,
         0.09214302030079255,
         0.0895957520086541,
         0.08247838429572397,
         0.09750514014336953,
         0.08221561571822703,
         0.09325948769985895,
         0.08598207637557649,
         0.0914425514103269,
         0.0757991812649754,
         0.07762806469407506,
         0.08885298145079205,
         0.07848927486162026,
         0.08833823978061889,
         0.0685126938567916,
         0.07334198327781531,
         0.09219273940084814,
         0.07633555440659062,
         0.08614387334754478,
         0.09962497730078138,
         0.08529237906195813,
         0.09007116727226802,
         0.08253408925318029,
         0.08826572462232397,
         0.08208452660536389,
         0.08705152265705271,
         0.07543632089111083,
         0.07591600485273287,
         0.08117353333519128,
         0.0891705376953228,
         0.08513214685301719,
         0.09021033403953285,
         0.09655998762181445,
         0.0948346794520101,
         0.0801368286061396,
         0.08080440846945477,
         0.09388307113149169,
         0.0831445877602349,
         0.08477403778047937,
         0.06589668199916866,
         0.08590707006370125,
         0.09495622503306907,
         0.07865707978089738,
         0.07800564204789354,
         0.08003047655278261,
         0.08813226275554671,
         0.09133746573296224,
         0.08964204169202646,
         0.07830536411958951,
         0.09149691338069578,
         0.0927736097999056,
         0.08747914466628207,
         0.0943679192089347,
         0.08802834174804286,
         0.0788917608916578,
         0.08147909531746655,
         0.07645649677581105,
         0.07803134410201797,
         0.08295992223711929,
         0.08065741196182039,
         0.07330944617952273,
         0.08438065354637178,
         0.09404405363013554,
         0.07558069978955095,
         0.06965946378603335,
         0.07786711743986338,
         0.08750880561231159,
         0.07382813671345079
        ],
        [
         0.18701779702678323,
         0.21736142570152878,
         0.2110254612751305,
         0.1906782136298716,
         0.2082713761366904,
         0.20923181930556894,
         0.19387580463662743,
         0.20896546253934503,
         0.2036448241211474,
         0.21926631489768625,
         0.218124779779464,
         0.20783638963475823,
         0.2180898212827742,
         0.20898241708055137,
         0.2162227583117783,
         0.21486324006691576,
         0.22340703019872307,
         0.2121050043962896,
         0.21285433107987045,
         0.20496280798688532,
         0.21803191965445876,
         0.20959908524528145,
         0.20795107102021576,
         0.21988317715004085,
         0.21817521387711167,
         0.22019317233934999,
         0.1933618069626391,
         0.20133924381807447,
         0.23025647876784205,
         0.20551257533952594,
         0.2191601346246898,
         0.20733029106631876,
         0.20654902392998337,
         0.22157667214050888,
         0.21659339452162385,
         0.20560977021232246,
         0.21444035721942784,
         0.2072519392706454,
         0.21709056878462435,
         0.19994735894724727,
         0.2093310088850558,
         0.19969821209087968,
         0.2097995457239449,
         0.2099616843275726,
         0.18929691268131138,
         0.21746064601466059,
         0.20253422716632485,
         0.19899031231179834,
         0.2249945499934256,
         0.18267483273521065,
         0.2088143446482718,
         0.21393635766580701,
         0.21177079482004046,
         0.21165572414174677,
         0.20403557745739817,
         0.2136280090548098,
         0.2056992002762854,
         0.2091003947891295,
         0.20026897275820374,
         0.1995010799728334,
         0.21312190750613808,
         0.20708115408197045,
         0.21228868821635843,
         0.20984561452642084,
         0.23396862680092453,
         0.22092973673716187,
         0.20058085927739738,
         0.2071444437839091,
         0.2027545020915568,
         0.21420804942026733,
         0.2167168957181275,
         0.18283713096752763,
         0.2066732936538756,
         0.2353501626290381,
         0.1996381430886686,
         0.1948242570273578,
         0.2123759294860065,
         0.21334813171997666,
         0.23066055187955498,
         0.21424250984564425,
         0.19850483695045112,
         0.21459473920986055,
         0.20865420335903764,
         0.2157310896553099,
         0.21565491342917084,
         0.21888056872412562,
         0.19034096905961634,
         0.2104902640916407,
         0.2100017943419516,
         0.21024598674848677,
         0.20084839882329106,
         0.21617643805220724,
         0.2082619578577578,
         0.2009710214100778,
         0.20676043340936304,
         0.19345150692388416,
         0.19959917375817895,
         0.18189722755923868,
         0.21620401674881579,
         0.20022749388590455
        ],
        [
         3.7403559405356646,
         4.347228514030576,
         4.22050922550261,
         3.813564272597432,
         4.165427522733808,
         4.184636386111379,
         3.8775160927325487,
         4.1793092507869005,
         4.072896482422948,
         4.385326297953725,
         4.36249559558928,
         4.156727792695165,
         4.361796425655484,
         4.179648341611028,
         4.324455166235566,
         4.297264801338315,
         4.4681406039744616,
         4.242100087925792,
         4.257086621597409,
         4.099256159737706,
         4.360638393089175,
         4.191981704905629,
         4.159021420404315,
         4.397663543000817,
         4.3635042775422335,
         4.403863446787,
         3.867236139252782,
         4.026784876361489,
         4.605129575356841,
         4.110251506790519,
         4.383202692493796,
         4.146605821326375,
         4.1309804785996675,
         4.431533442810178,
         4.331867890432477,
         4.1121954042464495,
         4.2888071443885565,
         4.145038785412908,
         4.341811375692487,
         3.9989471789449453,
         4.186620177701116,
         3.9939642418175936,
         4.195990914478898,
         4.199233686551452,
         3.7859382536262274,
         4.349212920293212,
         4.050684543326497,
         3.9798062462359667,
         4.499890999868512,
         3.653496654704213,
         4.176286892965436,
         4.27872715331614,
         4.235415896400809,
         4.233114482834935,
         4.0807115491479635,
         4.272560181096196,
         4.113984005525708,
         4.18200789578259,
         4.005379455164075,
         3.990021599456668,
         4.262438150122762,
         4.141623081639409,
         4.2457737643271685,
         4.196912290528417,
         4.679372536018491,
         4.4185947347432375,
         4.011617185547948,
         4.142888875678182,
         4.055090041831136,
         4.284160988405347,
         4.33433791436255,
         3.6567426193505526,
         4.133465873077512,
         4.707003252580762,
         3.9927628617733717,
         3.8964851405471563,
         4.24751858972013,
         4.266962634399533,
         4.6132110375911,
         4.284850196912885,
         3.9700967390090227,
         4.291894784197211,
         4.173084067180753,
         4.314621793106198,
         4.313098268583417,
         4.3776113744825125,
         3.8068193811923265,
         4.209805281832814,
         4.200035886839032,
         4.204919734969735,
         4.016967976465821,
         4.323528761044145,
         4.165239157155156,
         4.019420428201556,
         4.135208668187261,
         3.869030138477683,
         3.991983475163579,
         3.6379445511847734,
         4.3240803349763155,
         4.004549877718091
        ],
        [
         1.2049585538906584,
         1.324202683435338,
         1.2238828080472737,
         1.2309470879811082,
         1.3462073727155428,
         1.2093822821693638,
         1.183142214526252,
         1.3360243231195876,
         1.2436342085679317,
         1.3301033436689436,
         1.4322705123464392,
         1.2622553021781469,
         1.3381027827785097,
         1.274692157023708,
         1.3738852217814352,
         1.2943753427324356,
         1.375313724492856,
         1.2603128404082247,
         1.256210703927999,
         1.210904748463064,
         1.29228150856529,
         1.358001184292557,
         1.3571927450126249,
         1.3150538607448305,
         1.4075532065593477,
         1.4132339118485941,
         1.2323141211342152,
         1.2428732212288711,
         1.4503050703390057,
         1.335540343665734,
         1.3804271522837956,
         1.2675114136717305,
         1.2826150193361785,
         1.357519946820617,
         1.3386243088234586,
         1.2843549688129365,
         1.3964608132229814,
         1.28230741804161,
         1.3657195004821374,
         1.3113510313838663,
         1.3523501869732328,
         1.2312528681385917,
         1.2460181755823232,
         1.33306400034501,
         1.252910809767561,
         1.3291970492039087,
         1.1705784369856775,
         1.211131564098759,
         1.357886146927261,
         1.2356015086312466,
         1.312584270418816,
         1.411559260539786,
         1.3060810010252666,
         1.3421711312069562,
         1.2847886149338363,
         1.328651381080259,
         1.2812847193763288,
         1.3194811302709313,
         1.2283022501901626,
         1.2322013216413368,
         1.2741548833261307,
         1.3354440287434197,
         1.304853607520914,
         1.343207608968419,
         1.3896761322107711,
         1.3772049916552735,
         1.265992327039462,
         1.2712545651399234,
         1.3702778632926367,
         1.2895316030267339,
         1.302106276618613,
         1.1480129093278408,
         1.3107789292150012,
         1.3780872616280078,
         1.2542494152352424,
         1.2490447713984758,
         1.2651519794300021,
         1.3276465098477583,
         1.3515729039379434,
         1.3389700645796863,
         1.2514420811175362,
         1.3527521087079908,
         1.3621571847617704,
         1.322717994632885,
         1.3738116261622968,
         1.3268635329079088,
         1.2561191097316988,
         1.2765507848688713,
         1.2365799349480895,
         1.2492505281329118,
         1.2880987713457326,
         1.270097728222678,
         1.2108628838933229,
         1.2990816259679128,
         1.3714521765642107,
         1.2294771229230004,
         1.180334391484323,
         1.2479352342158097,
         1.322942218030036,
         1.2151389773474537
        ]
       ],
       "encoder": "json",
       "name": "ABC_GAN_1 Metrics",
       "version": 1
      }
     },
     "metadata": {
      "scrapbook": {
       "data": true,
       "display": false,
       "name": "ABC_GAN_1 Metrics"
      }
     },
     "output_type": "display_data"
    },
    {
     "name": "stdout",
     "output_type": "stream",
     "text": [
      "MSE\n",
      "0.08461670897414755\n"
     ]
    }
   ],
   "source": [
    "ABC_GAN1_metrics=ABC_train_test2.test_generator(gen,test_data,prior_model,variance,bias,\"1\",device)\n",
    "sb.glue(\"ABC_GAN_1 Metrics\",ABC_GAN1_metrics)\n",
    "\n",
    "print(\"MSE\")\n",
    "print(mean(ABC_GAN1_metrics[0]))"
   ]
  },
  {
   "cell_type": "code",
   "execution_count": 14,
   "id": "eb22ce5c",
   "metadata": {
    "execution": {
     "iopub.execute_input": "2022-06-07T06:46:20.693701Z",
     "iopub.status.busy": "2022-06-07T06:46:20.693332Z",
     "iopub.status.idle": "2022-06-07T06:46:20.988991Z",
     "shell.execute_reply": "2022-06-07T06:46:20.989241Z"
    },
    "papermill": {
     "duration": 0.310325,
     "end_time": "2022-06-07T06:46:20.989369",
     "exception": false,
     "start_time": "2022-06-07T06:46:20.679044",
     "status": "completed"
    },
    "tags": []
   },
   "outputs": [
    {
     "data": {
      "image/png": "[encoded data removed]",
      "text/plain": [
       "<Figure size 432x288 with 1 Axes>"
      ]
     },
     "metadata": {
      "needs_background": "light"
     },
     "output_type": "display_data"
    },
    {
     "data": {
      "image/png": "[encoded data removed]",
      "text/plain": [
       "<Figure size 432x288 with 1 Axes>"
      ]
     },
     "metadata": {
      "needs_background": "light"
     },
     "output_type": "display_data"
    },
    {
     "data": {
      "image/png": "[encoded data removed]",
      "text/plain": [
       "<Figure size 432x288 with 1 Axes>"
      ]
     },
     "metadata": {
      "needs_background": "light"
     },
     "output_type": "display_data"
    },
    {
     "data": {
      "image/png": "[encoded data removed]",
      "text/plain": [
       "<Figure size 432x288 with 1 Axes>"
      ]
     },
     "metadata": {
      "needs_background": "light"
     },
     "output_type": "display_data"
    }
   ],
   "source": [
    "sanityChecks.discProbVsError(train_data,disc,device)\n",
    "sanityChecks.discProbVsError(test_data,disc,device)"
   ]
  },
  {
   "cell_type": "markdown",
   "id": "130f3a4d",
   "metadata": {
    "id": "130f3a4d",
    "papermill": {
     "duration": 0.038138,
     "end_time": "2022-06-07T06:46:21.041920",
     "exception": false,
     "start_time": "2022-06-07T06:46:21.003782",
     "status": "completed"
    },
    "tags": []
   },
   "source": [
    "# ABC - GAN Model with skip connection"
   ]
  },
  {
   "cell_type": "code",
   "execution_count": 15,
   "id": "4e43dad1",
   "metadata": {
    "execution": {
     "iopub.execute_input": "2022-06-07T06:46:21.073789Z",
     "iopub.status.busy": "2022-06-07T06:46:21.073421Z",
     "iopub.status.idle": "2022-06-07T06:46:21.075733Z",
     "shell.execute_reply": "2022-06-07T06:46:21.075978Z"
    },
    "id": "4e43dad1",
    "papermill": {
     "duration": 0.019865,
     "end_time": "2022-06-07T06:46:21.076092",
     "exception": false,
     "start_time": "2022-06-07T06:46:21.056227",
     "status": "completed"
    },
    "tags": []
   },
   "outputs": [],
   "source": [
    "#Generator\n",
    "gen3 = network.GeneratorWithSkipConnection(n_features+1).to(device)\n",
    "constraints=network.weightConstraint()\n",
    "#Discriminator \n",
    "disc3 = network.Discriminator(n_features+1).to(device)\n",
    "\n",
    "criterion = torch.nn.BCELoss()\n",
    "gen_opt = torch.optim.Adam(gen3.parameters(), lr=0.001, betas=(0.5, 0.999))\n",
    "disc_opt = torch.optim.Adam(disc3.parameters(), lr=0.001, betas=(0.5, 0.999))\n"
   ]
  },
  {
   "cell_type": "code",
   "execution_count": 16,
   "id": "26acbc37",
   "metadata": {
    "execution": {
     "iopub.execute_input": "2022-06-07T06:46:21.107113Z",
     "iopub.status.busy": "2022-06-07T06:46:21.106751Z",
     "iopub.status.idle": "2022-06-07T06:46:56.597780Z",
     "shell.execute_reply": "2022-06-07T06:46:56.598109Z"
    },
    "id": "26acbc37",
    "papermill": {
     "duration": 35.507704,
     "end_time": "2022-06-07T06:46:56.598243",
     "exception": false,
     "start_time": "2022-06-07T06:46:21.090539",
     "status": "completed"
    },
    "tags": []
   },
   "outputs": [
    {
     "data": {
      "image/png": "[encoded data removed]",
      "text/plain": [
       "<Figure size 432x288 with 1 Axes>"
      ]
     },
     "metadata": {
      "needs_background": "light"
     },
     "output_type": "display_data"
    },
    {
     "data": {
      "image/png": "[encoded data removed]",
      "text/plain": [
       "<Figure size 432x288 with 1 Axes>"
      ]
     },
     "metadata": {
      "needs_background": "light"
     },
     "output_type": "display_data"
    }
   ],
   "source": [
    "ABC_train_test2.training_GAN_skip_connection(disc3,gen3,disc_opt,gen_opt,train_data,batch_size,n_epochs,criterion,prior_model,variance,bias,device)"
   ]
  },
  {
   "cell_type": "code",
   "execution_count": 17,
   "id": "c5e0717b",
   "metadata": {
    "execution": {
     "iopub.execute_input": "2022-06-07T06:46:56.631390Z",
     "iopub.status.busy": "2022-06-07T06:46:56.630877Z",
     "iopub.status.idle": "2022-06-07T06:46:56.901973Z",
     "shell.execute_reply": "2022-06-07T06:46:56.902324Z"
    },
    "id": "c5e0717b",
    "papermill": {
     "duration": 0.288934,
     "end_time": "2022-06-07T06:46:56.902457",
     "exception": false,
     "start_time": "2022-06-07T06:46:56.613523",
     "status": "completed"
    },
    "tags": []
   },
   "outputs": [
    {
     "data": {
      "application/scrapbook.scrap.json+json": {
       "data": 0.148487466482908,
       "encoder": "json",
       "name": "ABC-GAN Model 3 MSE",
       "version": 1
      }
     },
     "metadata": {
      "scrapbook": {
       "data": true,
       "display": false,
       "name": "ABC-GAN Model 3 MSE"
      }
     },
     "output_type": "display_data"
    },
    {
     "data": {
      "application/scrapbook.scrap.json+json": {
       "data": 0.28244172016717495,
       "encoder": "json",
       "name": "ABC-GAN Model 3 MAE",
       "version": 1
      }
     },
     "metadata": {
      "scrapbook": {
       "data": true,
       "display": false,
       "name": "ABC-GAN Model 3 MAE"
      }
     },
     "output_type": "display_data"
    },
    {
     "data": {
      "application/scrapbook.scrap.json+json": {
       "data": 5.648834403343499,
       "encoder": "json",
       "name": "ABC-GAN Model 3 Manhattan Distance",
       "version": 1
      }
     },
     "metadata": {
      "scrapbook": {
       "data": true,
       "display": false,
       "name": "ABC-GAN Model 3 Manhattan Distance"
      }
     },
     "output_type": "display_data"
    },
    {
     "data": {
      "application/scrapbook.scrap.json+json": {
       "data": 1.72131499306053,
       "encoder": "json",
       "name": "ABC-GAN Model 3 Euclidean distance",
       "version": 1
      }
     },
     "metadata": {
      "scrapbook": {
       "data": true,
       "display": false,
       "name": "ABC-GAN Model 3 Euclidean distance"
      }
     },
     "output_type": "display_data"
    },
    {
     "data": {
      "application/scrapbook.scrap.json+json": {
       "data": [
        [
         0.17128686167756804,
         0.14824558815412078,
         0.15175298626867104,
         0.13553342746181318,
         0.14102936590753845,
         0.14209129808678717,
         0.14870791974227618,
         0.14646266977917272,
         0.14305130268017135,
         0.1372721404305734,
         0.14357449827202676,
         0.1329892297332843,
         0.11946972533990174,
         0.15478287693926276,
         0.16011838756133426,
         0.1470858194944955,
         0.14193532423398256,
         0.13635716577209273,
         0.15753900091613138,
         0.15854392040571325,
         0.15450928503950462,
         0.15509330264708893,
         0.1695061032112089,
         0.15011025158615704,
         0.1556420630157147,
         0.16051249331108017,
         0.12617791393078606,
         0.1362970804422382,
         0.16708200075233165,
         0.14470051458503744,
         0.1457441979527462,
         0.1342251238818367,
         0.1359874060393465,
         0.162814104528436,
         0.1281092850624137,
         0.12410159261352234,
         0.15366759734614682,
         0.1462409339379081,
         0.13346378374217993,
         0.15113246539031092,
         0.13932994541525356,
         0.15388611125864352,
         0.17405745798878383,
         0.17486204271400455,
         0.16150041949021432,
         0.1669856256304473,
         0.142840041369574,
         0.14422058010192024,
         0.1502841741600361,
         0.1536134080979868,
         0.14267401867086407,
         0.14769471880010016,
         0.13370589159770457,
         0.17736645684726643,
         0.13688468616483654,
         0.15865957489449495,
         0.15566903287028294,
         0.14669019931750343,
         0.1593532112287554,
         0.14452584546769756,
         0.1729167032541076,
         0.126373833103903,
         0.12898740358631774,
         0.16784772129147454,
         0.16741262740345858,
         0.14960338111220675,
         0.15946468227454638,
         0.15304611448980984,
         0.14822077616015678,
         0.11725498614853133,
         0.14151845381900344,
         0.1402396747796405,
         0.1471724869547565,
         0.18972840009151842,
         0.12764273433484224,
         0.13316636066837567,
         0.12956103536879957,
         0.1905785863318304,
         0.15248333938383687,
         0.13908935998680944,
         0.13943029750659658,
         0.15046779531031915,
         0.14865594072510308,
         0.1344840568073169,
         0.1344507536183467,
         0.16083522937441924,
         0.14610451399299412,
         0.12462616278636585,
         0.1602277316539758,
         0.145158356055639,
         0.17053936876218395,
         0.17026944518986373,
         0.1349449536268734,
         0.14980313483078397,
         0.1465855469976555,
         0.14462037633355815,
         0.1347926000136943,
         0.14874739854606078,
         0.15193850696941164,
         0.15200536868643116
        ],
        [
         0.2889938143081963,
         0.295051462110132,
         0.28049822645261885,
         0.2555173114873469,
         0.2614030008204281,
         0.27618516990914943,
         0.2796073489822447,
         0.28491467172279955,
         0.26553623387590053,
         0.2776378423906863,
         0.25885526547208426,
         0.2820566254667938,
         0.24907112056389452,
         0.30148654663935304,
         0.30154955396428706,
         0.2650956836529076,
         0.2583682441152632,
         0.28375328341498973,
         0.30010566422715784,
         0.28985130721703173,
         0.29335874849930405,
         0.26391921946778896,
         0.295613440964371,
         0.2919618059881032,
         0.28987159514799715,
         0.28848533490672706,
         0.25163525315001606,
         0.2638825439848006,
         0.2754141435958445,
         0.28401931570842864,
         0.28204650739207865,
         0.26516537452116606,
         0.2746300333179533,
         0.2902869828976691,
         0.26619570450857283,
         0.2552852499298751,
         0.289963670168072,
         0.27836862998083234,
         0.2949974932707846,
         0.28634298453107476,
         0.27290998557582496,
         0.28065139716491105,
         0.31307461829856037,
         0.298249423597008,
         0.3017149017192423,
         0.29471442038193346,
         0.26664059767499565,
         0.2926201188005507,
         0.2855581366457045,
         0.28081031749024987,
         0.28422623137012126,
         0.2906977550126612,
         0.2821075522340834,
         0.2765574180521071,
         0.27550125019624827,
         0.29678613180294633,
         0.2845098645426333,
         0.2854073132388294,
         0.29732761504128574,
         0.26236401656642555,
         0.3167371545918286,
         0.2754631732590497,
         0.2519964472390711,
         0.2961948183365166,
         0.3030376021750271,
         0.287171099986881,
         0.28793386863544584,
         0.2930563830770552,
         0.30626185117289423,
         0.2574511547572911,
         0.28832599679008125,
         0.29604166755452754,
         0.2794352033175528,
         0.3054570590145886,
         0.2645531085319817,
         0.27248047003522513,
         0.2699598272331059,
         0.3061391885392368,
         0.26881379457190635,
         0.27793409386649726,
         0.2745988006703556,
         0.26492968620732427,
         0.2846345932222903,
         0.26467890636995434,
         0.29079253068193794,
         0.2969936371780932,
         0.28149662269279363,
         0.2611087297089398,
         0.2795961079187691,
         0.28440912077203395,
         0.28735626796260477,
         0.31518171140924095,
         0.28150951946154235,
         0.28220794619992373,
         0.29729674393311145,
         0.28332345047965646,
         0.2884245411492884,
         0.27693526754155756,
         0.2901353464461863,
         0.29470704989507795
        ],
        [
         5.779876286163926,
         5.90102924220264,
         5.609964529052377,
         5.110346229746938,
         5.228060016408563,
         5.523703398182988,
         5.592146979644895,
         5.698293434455991,
         5.31072467751801,
         5.5527568478137255,
         5.177105309441686,
         5.6411325093358755,
         4.98142241127789,
         6.029730932787061,
         6.030991079285741,
         5.301913673058152,
         5.1673648823052645,
         5.675065668299794,
         6.002113284543157,
         5.797026144340634,
         5.867174969986081,
         5.278384389355779,
         5.912268819287419,
         5.839236119762063,
         5.797431902959943,
         5.7697066981345415,
         5.032705063000321,
         5.2776508796960115,
         5.50828287191689,
         5.680386314168572,
         5.640930147841573,
         5.303307490423322,
         5.492600666359067,
         5.8057396579533815,
         5.323914090171456,
         5.105704998597503,
         5.79927340336144,
         5.567372599616647,
         5.899949865415692,
         5.726859690621495,
         5.4581997115164995,
         5.613027943298221,
         6.261492365971208,
         5.96498847194016,
         6.034298034384847,
         5.894288407638669,
         5.332811953499913,
         5.852402376011014,
         5.71116273291409,
         5.6162063498049974,
         5.684524627402425,
         5.813955100253224,
         5.642151044681668,
         5.531148361042142,
         5.510025003924966,
         5.935722636058927,
         5.690197290852666,
         5.7081462647765875,
         5.946552300825715,
         5.247280331328511,
         6.334743091836572,
         5.509263465180993,
         5.039928944781423,
         5.923896366730332,
         6.060752043500543,
         5.74342199973762,
         5.758677372708917,
         5.861127661541104,
         6.125237023457885,
         5.149023095145822,
         5.766519935801625,
         5.92083335109055,
         5.588704066351056,
         6.109141180291772,
         5.291062170639634,
         5.449609400704503,
         5.399196544662118,
         6.122783770784736,
         5.376275891438127,
         5.558681877329946,
         5.491976013407111,
         5.298593724146485,
         5.6926918644458055,
         5.293578127399087,
         5.815850613638759,
         5.939872743561864,
         5.629932453855872,
         5.222174594178796,
         5.591922158375382,
         5.688182415440679,
         5.747125359252095,
         6.303634228184819,
         5.630190389230847,
         5.644158923998475,
         5.945934878662229,
         5.666469009593129,
         5.768490822985768,
         5.538705350831151,
         5.802706928923726,
         5.894140997901559
        ],
        [
         1.8508747211930259,
         1.721891913879154,
         1.742142280462024,
         1.6464108081630975,
         1.67946042470514,
         1.685771622057906,
         1.7245748446633227,
         1.7115061774891303,
         1.6914567844327053,
         1.6569377805492478,
         1.6945471269458796,
         1.6308846049508487,
         1.545766640472628,
         1.7594480778884198,
         1.7895160662108305,
         1.7151432563753706,
         1.684846130861703,
         1.6514064658471743,
         1.7750436665960159,
         1.7806960459646854,
         1.7578924030753682,
         1.7612115298685103,
         1.841228411746945,
         1.7326872284757975,
         1.7643245904068485,
         1.7917170162225964,
         1.5885711437061045,
         1.65104258238386,
         1.8280153213380443,
         1.7011790886619635,
         1.7073031245373282,
         1.6384451402585116,
         1.6491658863761796,
         1.804517135016656,
         1.6006828859109707,
         1.5754465564627849,
         1.753097814419645,
         1.710210127077419,
         1.6337918089045491,
         1.73857680526522,
         1.6693109082208357,
         1.7543438161241,
         1.8657837923445675,
         1.8700911352872862,
         1.7972224096656169,
         1.827488033506361,
         1.6902073326640967,
         1.6983555581910417,
         1.7336907115171154,
         1.7527886814900808,
         1.6892247847510649,
         1.718689726507377,
         1.6352730145006646,
         1.8834354613167208,
         1.6545977527171762,
         1.781345417904652,
         1.7644774459895085,
         1.7128350727230186,
         1.7852350614345183,
         1.7001520253653644,
         1.8596596637777978,
         1.589803969701315,
         1.6061594166602378,
         1.8321993411824737,
         1.829823092014409,
         1.7297594116651411,
         1.7858593577017556,
         1.749549167584666,
         1.721747810570159,
         1.531371843469321,
         1.6823700771174186,
         1.6747517713359226,
         1.7156484893751196,
         1.947965092559507,
         1.5977655293242639,
         1.6319703469633,
         1.6097269045946867,
         1.9523246980552718,
         1.7463295186409515,
         1.6678690595296108,
         1.6699119587966103,
         1.7347495226131013,
         1.7242734163995168,
         1.6400247364434288,
         1.6398216587077188,
         1.793517378641307,
         1.709412261527301,
         1.5787727055302536,
         1.7901269879758575,
         1.7038682816206128,
         1.8468317127566547,
         1.8453695846082634,
         1.642832636800678,
         1.7309138328107727,
         1.7122239748213754,
         1.700707948670542,
         1.6419049912445867,
         1.7248037485236445,
         1.7432068550198605,
         1.743590368672821
        ]
       ],
       "encoder": "json",
       "name": "ABC_GAN_3 Metrics",
       "version": 1
      }
     },
     "metadata": {
      "scrapbook": {
       "data": true,
       "display": false,
       "name": "ABC_GAN_3 Metrics"
      }
     },
     "output_type": "display_data"
    },
    {
     "name": "stdout",
     "output_type": "stream",
     "text": [
      "MSE\n",
      "0.148487466482908\n"
     ]
    }
   ],
   "source": [
    "ABC_GAN3_metrics=ABC_train_test2.test_generator(gen3,test_data,prior_model,variance,bias,\"3\",device)\n",
    "sb.glue(\"ABC_GAN_3 Metrics\",ABC_GAN3_metrics)\n",
    "\n",
    "print(\"MSE\")\n",
    "print(mean(ABC_GAN3_metrics[0]))"
   ]
  },
  {
   "cell_type": "code",
   "execution_count": 18,
   "id": "c8e46b48",
   "metadata": {
    "execution": {
     "iopub.execute_input": "2022-06-07T06:46:56.938482Z",
     "iopub.status.busy": "2022-06-07T06:46:56.938106Z",
     "iopub.status.idle": "2022-06-07T06:46:57.234492Z",
     "shell.execute_reply": "2022-06-07T06:46:57.234747Z"
    },
    "id": "c8e46b48",
    "papermill": {
     "duration": 0.315391,
     "end_time": "2022-06-07T06:46:57.234869",
     "exception": false,
     "start_time": "2022-06-07T06:46:56.919478",
     "status": "completed"
    },
    "tags": []
   },
   "outputs": [
    {
     "data": {
      "image/png": "[encoded data removed]",
      "text/plain": [
       "<Figure size 432x288 with 1 Axes>"
      ]
     },
     "metadata": {
      "needs_background": "light"
     },
     "output_type": "display_data"
    },
    {
     "data": {
      "image/png": "[encoded data removed]",
      "text/plain": [
       "<Figure size 432x288 with 1 Axes>"
      ]
     },
     "metadata": {
      "needs_background": "light"
     },
     "output_type": "display_data"
    },
    {
     "data": {
      "image/png": "[encoded data removed]",
      "text/plain": [
       "<Figure size 432x288 with 1 Axes>"
      ]
     },
     "metadata": {
      "needs_background": "light"
     },
     "output_type": "display_data"
    },
    {
     "data": {
      "image/png": "[encoded data removed]",
      "text/plain": [
       "<Figure size 432x288 with 1 Axes>"
      ]
     },
     "metadata": {
      "needs_background": "light"
     },
     "output_type": "display_data"
    }
   ],
   "source": [
    "sanityChecks.discProbVsError(train_data,disc3,device)\n",
    "sanityChecks.discProbVsError(test_data,disc3,device)"
   ]
  },
  {
   "cell_type": "markdown",
   "id": "a5bd74c3",
   "metadata": {
    "id": "a5bd74c3",
    "papermill": {
     "duration": 0.01906,
     "end_time": "2022-06-07T06:46:57.273135",
     "exception": false,
     "start_time": "2022-06-07T06:46:57.254075",
     "status": "completed"
    },
    "tags": []
   },
   "source": [
    "## Skip Connection Model Analysis - ABC-GAN "
   ]
  },
  {
   "cell_type": "markdown",
   "id": "5744a8bf",
   "metadata": {
    "id": "5744a8bf",
    "papermill": {
     "duration": 0.018549,
     "end_time": "2022-06-07T06:46:57.310435",
     "exception": false,
     "start_time": "2022-06-07T06:46:57.291886",
     "status": "completed"
    },
    "tags": []
   },
   "source": [
    "### Weight Analysis \n",
    "\n",
    "Study the weights of the skip connection layer\n",
    "\n",
    "Equation of the skip connection is \n",
    "\n",
    "$output = y_{gan} * w + y_{abc} * (1-w)$"
   ]
  },
  {
   "cell_type": "code",
   "execution_count": 19,
   "id": "52c31dea",
   "metadata": {
    "execution": {
     "iopub.execute_input": "2022-06-07T06:46:57.350734Z",
     "iopub.status.busy": "2022-06-07T06:46:57.350335Z",
     "iopub.status.idle": "2022-06-07T06:46:57.354020Z",
     "shell.execute_reply": "2022-06-07T06:46:57.353764Z"
    },
    "id": "52c31dea",
    "papermill": {
     "duration": 0.02501,
     "end_time": "2022-06-07T06:46:57.354121",
     "exception": false,
     "start_time": "2022-06-07T06:46:57.329111",
     "status": "completed"
    },
    "tags": []
   },
   "outputs": [
    {
     "name": "stdout",
     "output_type": "stream",
     "text": [
      "Weight of the node at skip connection\n",
      "Parameter containing:\n",
      "tensor([[0.0779]], requires_grad=True)\n"
     ]
    },
    {
     "data": {
      "application/scrapbook.scrap.json+json": {
       "data": 0.07792356610298157,
       "encoder": "json",
       "name": "Skip Connection Weight",
       "version": 1
      }
     },
     "metadata": {
      "scrapbook": {
       "data": true,
       "display": false,
       "name": "Skip Connection Weight"
      }
     },
     "output_type": "display_data"
    }
   ],
   "source": [
    "print(\"Weight of the node at skip connection\")\n",
    "for name,param in gen3.named_parameters():\n",
    "    if(name == \"skipNode.weight\"):\n",
    "        print(param)\n",
    "        sb.glue(\"Skip Connection Weight\",param.item())"
   ]
  }
 ],
 "metadata": {
  "colab": {
   "collapsed_sections": [],
   "name": "ABC_GAN_Model-Catboost_Pre-gen.ipynb",
   "provenance": []
  },
  "interpreter": {
   "hash": "31f2aee4e71d21fbe5cf8b01ff0e069b9275f58929596ceb00d14d90e3e16cd6"
  },
  "kernelspec": {
   "display_name": "Python 3 (ipykernel)",
   "language": "python",
   "name": "python3"
  },
  "language_info": {
   "codemirror_mode": {
    "name": "ipython",
    "version": 3
   },
   "file_extension": ".py",
   "mimetype": "text/x-python",
   "name": "python",
   "nbconvert_exporter": "python",
   "pygments_lexer": "ipython3",
   "version": "3.8.11"
  },
  "papermill": {
   "default_parameters": {},
   "duration": 54.35921,
   "end_time": "2022-06-07T06:46:57.680643",
   "environment_variables": {},
   "exception": null,
   "input_path": "ABC_GAN-Catboost.ipynb",
   "output_path": "./ABC_GAN_Catboost/ABC-GAN_output_6_7.ipynb",
   "parameters": {
    "bias": 0.01,
    "variance": 0.1
   },
   "start_time": "2022-06-07T06:46:03.321433",
   "version": "2.3.3"
  }
 },
 "nbformat": 4,
 "nbformat_minor": 5
}