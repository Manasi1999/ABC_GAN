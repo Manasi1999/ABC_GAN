{
 "cells": [
  {
   "cell_type": "markdown",
   "id": "622780e6",
   "metadata": {
    "id": "622780e6",
    "papermill": {
     "duration": 0.032612,
     "end_time": "2022-06-07T06:05:33.757963",
     "exception": false,
     "start_time": "2022-06-07T06:05:33.725351",
     "status": "completed"
    },
    "tags": []
   },
   "source": [
    "## Import Libraries "
   ]
  },
  {
   "cell_type": "code",
   "execution_count": 1,
   "id": "a62397e3",
   "metadata": {
    "execution": {
     "iopub.execute_input": "2022-06-07T06:05:33.797444Z",
     "iopub.status.busy": "2022-06-07T06:05:33.796780Z",
     "iopub.status.idle": "2022-06-07T06:05:33.799447Z",
     "shell.execute_reply": "2022-06-07T06:05:33.799825Z"
    },
    "id": "a62397e3",
    "papermill": {
     "duration": 0.024139,
     "end_time": "2022-06-07T06:05:33.800072",
     "exception": false,
     "start_time": "2022-06-07T06:05:33.775933",
     "status": "completed"
    },
    "tags": []
   },
   "outputs": [],
   "source": [
    "import warnings\n",
    "import sys\n",
    "sys.path.insert(0, '../../src')\n",
    "warnings.filterwarnings('ignore')"
   ]
  },
  {
   "cell_type": "code",
   "execution_count": 2,
   "id": "d6a4e155",
   "metadata": {
    "execution": {
     "iopub.execute_input": "2022-06-07T06:05:33.821398Z",
     "iopub.status.busy": "2022-06-07T06:05:33.820996Z",
     "iopub.status.idle": "2022-06-07T06:05:35.655010Z",
     "shell.execute_reply": "2022-06-07T06:05:35.655270Z"
    },
    "id": "d6a4e155",
    "papermill": {
     "duration": 1.845246,
     "end_time": "2022-06-07T06:05:35.655393",
     "exception": false,
     "start_time": "2022-06-07T06:05:33.810147",
     "status": "completed"
    },
    "tags": []
   },
   "outputs": [],
   "source": [
    "import ABC_train_test2\n",
    "import friedman1Dataset\n",
    "import network\n",
    "import dataset\n",
    "import sanityChecks\n",
    "import torch \n",
    "import scrapbook as sb\n",
    "from statistics import mean \n",
    "import catboost as ctb \n",
    "from sklearn.model_selection import train_test_split\n",
    "from sklearn.metrics import mean_squared_error,mean_absolute_error\n",
    "import numpy as np"
   ]
  },
  {
   "cell_type": "markdown",
   "id": "2fa5b0f7",
   "metadata": {
    "id": "2fa5b0f7",
    "papermill": {
     "duration": 0.006768,
     "end_time": "2022-06-07T06:05:35.669428",
     "exception": false,
     "start_time": "2022-06-07T06:05:35.662660",
     "status": "completed"
    },
    "tags": []
   },
   "source": [
    "## Parameters "
   ]
  },
  {
   "cell_type": "code",
   "execution_count": 3,
   "id": "783186fb",
   "metadata": {
    "execution": {
     "iopub.execute_input": "2022-06-07T06:05:35.685074Z",
     "iopub.status.busy": "2022-06-07T06:05:35.684712Z",
     "iopub.status.idle": "2022-06-07T06:05:35.686027Z",
     "shell.execute_reply": "2022-06-07T06:05:35.686279Z"
    },
    "id": "783186fb",
    "papermill": {
     "duration": 0.010232,
     "end_time": "2022-06-07T06:05:35.686389",
     "exception": false,
     "start_time": "2022-06-07T06:05:35.676157",
     "status": "completed"
    },
    "tags": [
     "parameters"
    ]
   },
   "outputs": [],
   "source": [
    "variance = 1\n",
    "bias = 1 "
   ]
  },
  {
   "cell_type": "code",
   "execution_count": 4,
   "id": "9c234d7c",
   "metadata": {
    "execution": {
     "iopub.execute_input": "2022-06-07T06:05:35.701844Z",
     "iopub.status.busy": "2022-06-07T06:05:35.701491Z",
     "iopub.status.idle": "2022-06-07T06:05:35.702870Z",
     "shell.execute_reply": "2022-06-07T06:05:35.703122Z"
    },
    "papermill": {
     "duration": 0.009981,
     "end_time": "2022-06-07T06:05:35.703229",
     "exception": false,
     "start_time": "2022-06-07T06:05:35.693248",
     "status": "completed"
    },
    "tags": [
     "injected-parameters"
    ]
   },
   "outputs": [],
   "source": [
    "# Parameters\n",
    "variance = 0.1\n",
    "bias = 0.1\n"
   ]
  },
  {
   "cell_type": "markdown",
   "id": "391cdbfd",
   "metadata": {
    "id": "391cdbfd",
    "papermill": {
     "duration": 0.006769,
     "end_time": "2022-06-07T06:05:35.716893",
     "exception": false,
     "start_time": "2022-06-07T06:05:35.710124",
     "status": "completed"
    },
    "tags": []
   },
   "source": [
    "## Dataset \n"
   ]
  },
  {
   "cell_type": "code",
   "execution_count": 5,
   "id": "5b51f161",
   "metadata": {
    "execution": {
     "iopub.execute_input": "2022-06-07T06:05:35.732981Z",
     "iopub.status.busy": "2022-06-07T06:05:35.732616Z",
     "iopub.status.idle": "2022-06-07T06:05:35.733869Z",
     "shell.execute_reply": "2022-06-07T06:05:35.734112Z"
    },
    "id": "5b51f161",
    "papermill": {
     "duration": 0.010344,
     "end_time": "2022-06-07T06:05:35.734222",
     "exception": false,
     "start_time": "2022-06-07T06:05:35.723878",
     "status": "completed"
    },
    "tags": []
   },
   "outputs": [],
   "source": [
    "#Parameters \n",
    "n_features = 5\n",
    "n_samples= 100\n",
    "n_target = 1 "
   ]
  },
  {
   "cell_type": "code",
   "execution_count": 6,
   "id": "5d6eced4",
   "metadata": {
    "execution": {
     "iopub.execute_input": "2022-06-07T06:05:35.751371Z",
     "iopub.status.busy": "2022-06-07T06:05:35.751007Z",
     "iopub.status.idle": "2022-06-07T06:05:35.756055Z",
     "shell.execute_reply": "2022-06-07T06:05:35.756306Z"
    },
    "id": "5d6eced4",
    "papermill": {
     "duration": 0.015232,
     "end_time": "2022-06-07T06:05:35.756422",
     "exception": false,
     "start_time": "2022-06-07T06:05:35.741190",
     "status": "completed"
    },
    "tags": []
   },
   "outputs": [
    {
     "name": "stdout",
     "output_type": "stream",
     "text": [
      "         X0        X1        X2        X3        X4         Y\n",
      "0 -0.153531  0.980816 -0.023130  0.314719  0.539098  0.821113\n",
      "1 -1.049282  0.106670  1.489767 -0.482391  0.008097 -0.201485\n",
      "2 -0.719780  0.141053  1.338965 -0.038442  0.475975  0.389107\n",
      "3  0.432542 -0.579573 -1.511824 -1.084456 -1.524840 -0.484274\n",
      "4  0.215255  0.794009  0.131099 -0.864026  0.921861  0.232467\n"
     ]
    }
   ],
   "source": [
    "X,Y = friedman1Dataset.friedman1_data(n_samples,n_features)"
   ]
  },
  {
   "cell_type": "code",
   "execution_count": 7,
   "id": "fe007438",
   "metadata": {
    "execution": {
     "iopub.execute_input": "2022-06-07T06:05:35.773427Z",
     "iopub.status.busy": "2022-06-07T06:05:35.773047Z",
     "iopub.status.idle": "2022-06-07T06:05:35.774427Z",
     "shell.execute_reply": "2022-06-07T06:05:35.774669Z"
    },
    "id": "fe007438",
    "papermill": {
     "duration": 0.011066,
     "end_time": "2022-06-07T06:05:35.774780",
     "exception": false,
     "start_time": "2022-06-07T06:05:35.763714",
     "status": "completed"
    },
    "tags": []
   },
   "outputs": [],
   "source": [
    "#Train test split for dataset \n",
    "X_train,X_test,Y_train,Y_test = train_test_split(X,Y,test_size = 0.2)\n",
    "train_data = dataset.CustomDataset(X_train,Y_train)\n",
    "test_data = dataset.CustomDataset(X_test,Y_test)\n"
   ]
  },
  {
   "cell_type": "markdown",
   "id": "a9a1af34",
   "metadata": {
    "id": "a9a1af34",
    "papermill": {
     "duration": 0.006977,
     "end_time": "2022-06-07T06:05:35.788908",
     "exception": false,
     "start_time": "2022-06-07T06:05:35.781931",
     "status": "completed"
    },
    "tags": []
   },
   "source": [
    "## Training Parameters "
   ]
  },
  {
   "cell_type": "code",
   "execution_count": 8,
   "id": "952b7fc8",
   "metadata": {
    "execution": {
     "iopub.execute_input": "2022-06-07T06:05:35.805126Z",
     "iopub.status.busy": "2022-06-07T06:05:35.804755Z",
     "iopub.status.idle": "2022-06-07T06:05:35.806039Z",
     "shell.execute_reply": "2022-06-07T06:05:35.806274Z"
    },
    "id": "952b7fc8",
    "papermill": {
     "duration": 0.010429,
     "end_time": "2022-06-07T06:05:35.806377",
     "exception": false,
     "start_time": "2022-06-07T06:05:35.795948",
     "status": "completed"
    },
    "tags": []
   },
   "outputs": [],
   "source": [
    "batch_size = 32\n",
    "n_epochs = 1000\n",
    "#Select the device \n",
    "device = torch.device('cuda' if torch.cuda.is_available() else 'cpu')"
   ]
  },
  {
   "cell_type": "markdown",
   "id": "a95e1600",
   "metadata": {
    "id": "a95e1600",
    "papermill": {
     "duration": 0.007005,
     "end_time": "2022-06-07T06:05:35.820533",
     "exception": false,
     "start_time": "2022-06-07T06:05:35.813528",
     "status": "completed"
    },
    "tags": []
   },
   "source": [
    "# ABC Pre-generator Model \n",
    "\n",
    "1. The catboost model is used as a pre-generator model for the ABC-GAN. \n",
    "2. The model is first trained on the entire dataset \n",
    "3. It generats X,Y pairs and we add some Gaussian noise with mean 0 and variance 1 to it which is then feed as input to the generator.\n"
   ]
  },
  {
   "cell_type": "code",
   "execution_count": 9,
   "id": "ff8ce7bd",
   "metadata": {
    "execution": {
     "iopub.execute_input": "2022-06-07T06:05:35.838286Z",
     "iopub.status.busy": "2022-06-07T06:05:35.837902Z",
     "iopub.status.idle": "2022-06-07T06:05:36.468458Z",
     "shell.execute_reply": "2022-06-07T06:05:36.468744Z"
    },
    "id": "ff8ce7bd",
    "papermill": {
     "duration": 0.641232,
     "end_time": "2022-06-07T06:05:36.468864",
     "exception": false,
     "start_time": "2022-06-07T06:05:35.827632",
     "status": "completed"
    },
    "tags": []
   },
   "outputs": [
    {
     "name": "stdout",
     "output_type": "stream",
     "text": [
      "Learning rate set to 0.024897\n",
      "0:\tlearn: 1.0357961\ttotal: 60.2ms\tremaining: 1m\n",
      "1:\tlearn: 1.0267259\ttotal: 60.8ms\tremaining: 30.3s\n",
      "2:\tlearn: 1.0160679\ttotal: 61.3ms\tremaining: 20.4s\n",
      "3:\tlearn: 1.0067758\ttotal: 61.9ms\tremaining: 15.4s\n",
      "4:\tlearn: 0.9969161\ttotal: 62.3ms\tremaining: 12.4s\n",
      "5:\tlearn: 0.9865533\ttotal: 62.9ms\tremaining: 10.4s\n",
      "6:\tlearn: 0.9753556\ttotal: 63.4ms\tremaining: 9s\n",
      "7:\tlearn: 0.9679165\ttotal: 63.9ms\tremaining: 7.93s\n",
      "8:\tlearn: 0.9592448\ttotal: 64.4ms\tremaining: 7.09s\n",
      "9:\tlearn: 0.9497745\ttotal: 65ms\tremaining: 6.43s\n",
      "10:\tlearn: 0.9418944\ttotal: 65.7ms\tremaining: 5.9s\n",
      "11:\tlearn: 0.9311644\ttotal: 66.2ms\tremaining: 5.45s\n",
      "12:\tlearn: 0.9217792\ttotal: 66.6ms\tremaining: 5.05s\n",
      "13:\tlearn: 0.9120319\ttotal: 67.1ms\tremaining: 4.72s\n",
      "14:\tlearn: 0.9050677\ttotal: 67.6ms\tremaining: 4.44s\n",
      "15:\tlearn: 0.8966448\ttotal: 67.9ms\tremaining: 4.17s\n",
      "16:\tlearn: 0.8881694\ttotal: 68.4ms\tremaining: 3.95s\n",
      "17:\tlearn: 0.8797002\ttotal: 68.8ms\tremaining: 3.75s\n",
      "18:\tlearn: 0.8727078\ttotal: 69.2ms\tremaining: 3.57s\n",
      "19:\tlearn: 0.8638941\ttotal: 69.6ms\tremaining: 3.41s\n",
      "20:\tlearn: 0.8557491\ttotal: 70.1ms\tremaining: 3.27s\n",
      "21:\tlearn: 0.8475062\ttotal: 70.5ms\tremaining: 3.13s\n",
      "22:\tlearn: 0.8394969\ttotal: 71ms\tremaining: 3.01s\n",
      "23:\tlearn: 0.8312182\ttotal: 71.4ms\tremaining: 2.9s\n",
      "24:\tlearn: 0.8235588\ttotal: 71.7ms\tremaining: 2.8s\n",
      "25:\tlearn: 0.8176409\ttotal: 72.1ms\tremaining: 2.7s\n",
      "26:\tlearn: 0.8107924\ttotal: 72.6ms\tremaining: 2.62s\n",
      "27:\tlearn: 0.8027347\ttotal: 73.1ms\tremaining: 2.54s\n",
      "28:\tlearn: 0.7945645\ttotal: 73.5ms\tremaining: 2.46s\n",
      "29:\tlearn: 0.7866139\ttotal: 74ms\tremaining: 2.39s\n",
      "30:\tlearn: 0.7783214\ttotal: 74.5ms\tremaining: 2.33s\n",
      "31:\tlearn: 0.7719429\ttotal: 75ms\tremaining: 2.27s\n",
      "32:\tlearn: 0.7655186\ttotal: 75.7ms\tremaining: 2.22s\n",
      "33:\tlearn: 0.7593109\ttotal: 76.2ms\tremaining: 2.16s\n",
      "34:\tlearn: 0.7521411\ttotal: 76.6ms\tremaining: 2.11s\n",
      "35:\tlearn: 0.7469091\ttotal: 77.2ms\tremaining: 2.07s\n",
      "36:\tlearn: 0.7404979\ttotal: 77.8ms\tremaining: 2.02s\n",
      "37:\tlearn: 0.7352694\ttotal: 78.2ms\tremaining: 1.98s\n",
      "38:\tlearn: 0.7297026\ttotal: 78.5ms\tremaining: 1.93s\n",
      "39:\tlearn: 0.7232046\ttotal: 78.9ms\tremaining: 1.89s\n",
      "40:\tlearn: 0.7167352\ttotal: 79.4ms\tremaining: 1.86s\n",
      "41:\tlearn: 0.7105674\ttotal: 79.8ms\tremaining: 1.82s\n",
      "42:\tlearn: 0.7030988\ttotal: 80.2ms\tremaining: 1.78s\n",
      "43:\tlearn: 0.6958596\ttotal: 89.2ms\tremaining: 1.94s\n",
      "44:\tlearn: 0.6888579\ttotal: 89.8ms\tremaining: 1.91s\n",
      "45:\tlearn: 0.6826743\ttotal: 90.3ms\tremaining: 1.87s\n",
      "46:\tlearn: 0.6776184\ttotal: 90.8ms\tremaining: 1.84s\n",
      "47:\tlearn: 0.6710411\ttotal: 91.2ms\tremaining: 1.81s\n",
      "48:\tlearn: 0.6648373\ttotal: 91.7ms\tremaining: 1.78s\n",
      "49:\tlearn: 0.6596031\ttotal: 92.2ms\tremaining: 1.75s\n",
      "50:\tlearn: 0.6532587\ttotal: 92.6ms\tremaining: 1.72s\n",
      "51:\tlearn: 0.6475472\ttotal: 93.2ms\tremaining: 1.7s\n",
      "52:\tlearn: 0.6418690\ttotal: 93.6ms\tremaining: 1.67s\n",
      "53:\tlearn: 0.6369794\ttotal: 94.2ms\tremaining: 1.65s\n",
      "54:\tlearn: 0.6314507\ttotal: 94.7ms\tremaining: 1.63s\n",
      "55:\tlearn: 0.6261926\ttotal: 95.3ms\tremaining: 1.61s\n",
      "56:\tlearn: 0.6205512\ttotal: 95.8ms\tremaining: 1.58s\n",
      "57:\tlearn: 0.6152540\ttotal: 96.4ms\tremaining: 1.56s\n",
      "58:\tlearn: 0.6102946\ttotal: 97ms\tremaining: 1.55s\n",
      "59:\tlearn: 0.6050225\ttotal: 97.4ms\tremaining: 1.53s\n",
      "60:\tlearn: 0.5993205\ttotal: 97.9ms\tremaining: 1.51s\n",
      "61:\tlearn: 0.5947910\ttotal: 98.4ms\tremaining: 1.49s\n",
      "62:\tlearn: 0.5894647\ttotal: 99ms\tremaining: 1.47s\n",
      "63:\tlearn: 0.5847606\ttotal: 99.4ms\tremaining: 1.45s\n",
      "64:\tlearn: 0.5797363\ttotal: 99.9ms\tremaining: 1.44s\n",
      "65:\tlearn: 0.5746760\ttotal: 100ms\tremaining: 1.42s\n",
      "66:\tlearn: 0.5702891\ttotal: 101ms\tremaining: 1.4s\n",
      "67:\tlearn: 0.5655061\ttotal: 101ms\tremaining: 1.39s\n",
      "68:\tlearn: 0.5603616\ttotal: 102ms\tremaining: 1.37s\n",
      "69:\tlearn: 0.5552353\ttotal: 102ms\tremaining: 1.36s\n",
      "70:\tlearn: 0.5509975\ttotal: 103ms\tremaining: 1.34s\n",
      "71:\tlearn: 0.5473864\ttotal: 103ms\tremaining: 1.33s\n",
      "72:\tlearn: 0.5430589\ttotal: 104ms\tremaining: 1.32s\n",
      "73:\tlearn: 0.5387181\ttotal: 104ms\tremaining: 1.3s\n",
      "74:\tlearn: 0.5339320\ttotal: 105ms\tremaining: 1.29s\n",
      "75:\tlearn: 0.5299230\ttotal: 105ms\tremaining: 1.28s\n",
      "76:\tlearn: 0.5264661\ttotal: 106ms\tremaining: 1.26s\n",
      "77:\tlearn: 0.5211467\ttotal: 106ms\tremaining: 1.25s\n",
      "78:\tlearn: 0.5173251\ttotal: 107ms\tremaining: 1.24s\n",
      "79:\tlearn: 0.5131697\ttotal: 107ms\tremaining: 1.23s\n",
      "80:\tlearn: 0.5086297\ttotal: 107ms\tremaining: 1.22s\n",
      "81:\tlearn: 0.5042778\ttotal: 108ms\tremaining: 1.21s\n",
      "82:\tlearn: 0.4998495\ttotal: 108ms\tremaining: 1.19s\n",
      "83:\tlearn: 0.4959791\ttotal: 109ms\tremaining: 1.18s\n",
      "84:\tlearn: 0.4917218\ttotal: 109ms\tremaining: 1.17s\n",
      "85:\tlearn: 0.4874001\ttotal: 109ms\tremaining: 1.16s\n"
     ]
    },
    {
     "name": "stdout",
     "output_type": "stream",
     "text": [
      "86:\tlearn: 0.4842786\ttotal: 110ms\tremaining: 1.16s\n",
      "87:\tlearn: 0.4799755\ttotal: 114ms\tremaining: 1.18s\n",
      "88:\tlearn: 0.4767056\ttotal: 116ms\tremaining: 1.18s\n",
      "89:\tlearn: 0.4727540\ttotal: 117ms\tremaining: 1.18s\n",
      "90:\tlearn: 0.4687133\ttotal: 117ms\tremaining: 1.17s\n",
      "91:\tlearn: 0.4644177\ttotal: 118ms\tremaining: 1.16s\n",
      "92:\tlearn: 0.4605381\ttotal: 119ms\tremaining: 1.16s\n",
      "93:\tlearn: 0.4567716\ttotal: 119ms\tremaining: 1.15s\n",
      "94:\tlearn: 0.4524619\ttotal: 120ms\tremaining: 1.14s\n",
      "95:\tlearn: 0.4493849\ttotal: 120ms\tremaining: 1.13s\n",
      "96:\tlearn: 0.4459137\ttotal: 120ms\tremaining: 1.12s\n",
      "97:\tlearn: 0.4429738\ttotal: 121ms\tremaining: 1.11s\n",
      "98:\tlearn: 0.4393941\ttotal: 121ms\tremaining: 1.1s\n",
      "99:\tlearn: 0.4359742\ttotal: 122ms\tremaining: 1.09s\n",
      "100:\tlearn: 0.4322510\ttotal: 122ms\tremaining: 1.08s\n",
      "101:\tlearn: 0.4283102\ttotal: 122ms\tremaining: 1.08s\n",
      "102:\tlearn: 0.4254058\ttotal: 123ms\tremaining: 1.07s\n",
      "103:\tlearn: 0.4223635\ttotal: 123ms\tremaining: 1.06s\n",
      "104:\tlearn: 0.4192951\ttotal: 124ms\tremaining: 1.05s\n",
      "105:\tlearn: 0.4155849\ttotal: 124ms\tremaining: 1.05s\n",
      "106:\tlearn: 0.4123503\ttotal: 125ms\tremaining: 1.04s\n",
      "107:\tlearn: 0.4095063\ttotal: 125ms\tremaining: 1.03s\n",
      "108:\tlearn: 0.4063450\ttotal: 126ms\tremaining: 1.02s\n",
      "109:\tlearn: 0.4029314\ttotal: 126ms\tremaining: 1.02s\n",
      "110:\tlearn: 0.3998196\ttotal: 126ms\tremaining: 1.01s\n",
      "111:\tlearn: 0.3966217\ttotal: 127ms\tremaining: 1.01s\n",
      "112:\tlearn: 0.3932546\ttotal: 128ms\tremaining: 1s\n",
      "113:\tlearn: 0.3898296\ttotal: 128ms\tremaining: 994ms\n",
      "114:\tlearn: 0.3868540\ttotal: 128ms\tremaining: 988ms\n",
      "115:\tlearn: 0.3839729\ttotal: 129ms\tremaining: 981ms\n",
      "116:\tlearn: 0.3813979\ttotal: 129ms\tremaining: 975ms\n",
      "117:\tlearn: 0.3791681\ttotal: 130ms\tremaining: 969ms\n",
      "118:\tlearn: 0.3764010\ttotal: 130ms\tremaining: 963ms\n",
      "119:\tlearn: 0.3734505\ttotal: 131ms\tremaining: 957ms\n",
      "120:\tlearn: 0.3708845\ttotal: 131ms\tremaining: 951ms\n",
      "121:\tlearn: 0.3680028\ttotal: 131ms\tremaining: 946ms\n",
      "122:\tlearn: 0.3660133\ttotal: 132ms\tremaining: 940ms\n",
      "123:\tlearn: 0.3633310\ttotal: 132ms\tremaining: 934ms\n",
      "124:\tlearn: 0.3606840\ttotal: 133ms\tremaining: 929ms\n",
      "125:\tlearn: 0.3580070\ttotal: 133ms\tremaining: 924ms\n",
      "126:\tlearn: 0.3551149\ttotal: 134ms\tremaining: 918ms\n",
      "127:\tlearn: 0.3528114\ttotal: 134ms\tremaining: 912ms\n",
      "128:\tlearn: 0.3501061\ttotal: 134ms\tremaining: 907ms\n",
      "129:\tlearn: 0.3479837\ttotal: 135ms\tremaining: 902ms\n",
      "130:\tlearn: 0.3451644\ttotal: 135ms\tremaining: 897ms\n",
      "131:\tlearn: 0.3432983\ttotal: 136ms\tremaining: 892ms\n",
      "132:\tlearn: 0.3412615\ttotal: 136ms\tremaining: 888ms\n",
      "133:\tlearn: 0.3387684\ttotal: 137ms\tremaining: 884ms\n",
      "134:\tlearn: 0.3366681\ttotal: 137ms\tremaining: 880ms\n",
      "135:\tlearn: 0.3346290\ttotal: 138ms\tremaining: 876ms\n",
      "136:\tlearn: 0.3326348\ttotal: 138ms\tremaining: 872ms\n",
      "137:\tlearn: 0.3300139\ttotal: 139ms\tremaining: 868ms\n",
      "138:\tlearn: 0.3275689\ttotal: 139ms\tremaining: 864ms\n",
      "139:\tlearn: 0.3255170\ttotal: 140ms\tremaining: 860ms\n",
      "140:\tlearn: 0.3232173\ttotal: 141ms\tremaining: 857ms\n",
      "141:\tlearn: 0.3211812\ttotal: 141ms\tremaining: 853ms\n",
      "142:\tlearn: 0.3191329\ttotal: 142ms\tremaining: 850ms\n",
      "143:\tlearn: 0.3172456\ttotal: 142ms\tremaining: 845ms\n",
      "144:\tlearn: 0.3147773\ttotal: 143ms\tremaining: 845ms\n",
      "145:\tlearn: 0.3124152\ttotal: 144ms\tremaining: 840ms\n",
      "146:\tlearn: 0.3106397\ttotal: 144ms\tremaining: 836ms\n",
      "147:\tlearn: 0.3085304\ttotal: 145ms\tremaining: 832ms\n",
      "148:\tlearn: 0.3063345\ttotal: 145ms\tremaining: 829ms\n",
      "149:\tlearn: 0.3042689\ttotal: 146ms\tremaining: 826ms\n",
      "150:\tlearn: 0.3023337\ttotal: 146ms\tremaining: 823ms\n",
      "151:\tlearn: 0.3001143\ttotal: 147ms\tremaining: 819ms\n",
      "152:\tlearn: 0.2981420\ttotal: 147ms\tremaining: 816ms\n",
      "153:\tlearn: 0.2965066\ttotal: 148ms\tremaining: 812ms\n",
      "154:\tlearn: 0.2944658\ttotal: 148ms\tremaining: 808ms\n",
      "155:\tlearn: 0.2927272\ttotal: 149ms\tremaining: 804ms\n",
      "156:\tlearn: 0.2906439\ttotal: 149ms\tremaining: 800ms\n",
      "157:\tlearn: 0.2886508\ttotal: 149ms\tremaining: 796ms\n",
      "158:\tlearn: 0.2867383\ttotal: 150ms\tremaining: 792ms\n",
      "159:\tlearn: 0.2847627\ttotal: 150ms\tremaining: 788ms\n",
      "160:\tlearn: 0.2830239\ttotal: 151ms\tremaining: 785ms\n",
      "161:\tlearn: 0.2815499\ttotal: 151ms\tremaining: 781ms\n",
      "162:\tlearn: 0.2795557\ttotal: 151ms\tremaining: 778ms\n",
      "163:\tlearn: 0.2775006\ttotal: 152ms\tremaining: 774ms\n",
      "164:\tlearn: 0.2754759\ttotal: 152ms\tremaining: 771ms\n",
      "165:\tlearn: 0.2738886\ttotal: 153ms\tremaining: 768ms\n",
      "166:\tlearn: 0.2720548\ttotal: 153ms\tremaining: 764ms\n",
      "167:\tlearn: 0.2704447\ttotal: 154ms\tremaining: 761ms\n",
      "168:\tlearn: 0.2681965\ttotal: 154ms\tremaining: 758ms\n",
      "169:\tlearn: 0.2661570\ttotal: 155ms\tremaining: 755ms\n",
      "170:\tlearn: 0.2639358\ttotal: 155ms\tremaining: 752ms\n",
      "171:\tlearn: 0.2622352\ttotal: 155ms\tremaining: 748ms\n",
      "172:\tlearn: 0.2606089\ttotal: 156ms\tremaining: 745ms\n",
      "173:\tlearn: 0.2591239\ttotal: 156ms\tremaining: 742ms\n",
      "174:\tlearn: 0.2574246\ttotal: 157ms\tremaining: 739ms\n",
      "175:\tlearn: 0.2554651\ttotal: 157ms\tremaining: 735ms\n",
      "176:\tlearn: 0.2537919\ttotal: 157ms\tremaining: 732ms\n",
      "177:\tlearn: 0.2520790\ttotal: 158ms\tremaining: 729ms\n",
      "178:\tlearn: 0.2505812\ttotal: 158ms\tremaining: 726ms\n",
      "179:\tlearn: 0.2485805\ttotal: 159ms\tremaining: 723ms\n",
      "180:\tlearn: 0.2469633\ttotal: 159ms\tremaining: 720ms\n",
      "181:\tlearn: 0.2452575\ttotal: 160ms\tremaining: 718ms\n",
      "182:\tlearn: 0.2436979\ttotal: 160ms\tremaining: 715ms\n",
      "183:\tlearn: 0.2421530\ttotal: 161ms\tremaining: 712ms\n",
      "184:\tlearn: 0.2407067\ttotal: 161ms\tremaining: 710ms\n",
      "185:\tlearn: 0.2394061\ttotal: 162ms\tremaining: 707ms\n",
      "186:\tlearn: 0.2379277\ttotal: 162ms\tremaining: 705ms\n",
      "187:\tlearn: 0.2365496\ttotal: 163ms\tremaining: 702ms\n",
      "188:\tlearn: 0.2351138\ttotal: 163ms\tremaining: 699ms\n",
      "189:\tlearn: 0.2337072\ttotal: 164ms\tremaining: 697ms\n",
      "190:\tlearn: 0.2323221\ttotal: 164ms\tremaining: 695ms\n",
      "191:\tlearn: 0.2308314\ttotal: 165ms\tremaining: 692ms\n",
      "192:\tlearn: 0.2293296\ttotal: 165ms\tremaining: 690ms\n",
      "193:\tlearn: 0.2278498\ttotal: 166ms\tremaining: 688ms\n",
      "194:\tlearn: 0.2265189\ttotal: 166ms\tremaining: 686ms\n",
      "195:\tlearn: 0.2249364\ttotal: 167ms\tremaining: 683ms\n",
      "196:\tlearn: 0.2231975\ttotal: 167ms\tremaining: 681ms\n",
      "197:\tlearn: 0.2219245\ttotal: 168ms\tremaining: 679ms\n",
      "198:\tlearn: 0.2205614\ttotal: 168ms\tremaining: 677ms\n",
      "199:\tlearn: 0.2189904\ttotal: 169ms\tremaining: 675ms\n",
      "200:\tlearn: 0.2176719\ttotal: 169ms\tremaining: 673ms\n",
      "201:\tlearn: 0.2160314\ttotal: 170ms\tremaining: 670ms\n",
      "202:\tlearn: 0.2147975\ttotal: 170ms\tremaining: 668ms\n",
      "203:\tlearn: 0.2135644\ttotal: 171ms\tremaining: 666ms\n",
      "204:\tlearn: 0.2121804\ttotal: 171ms\tremaining: 664ms\n",
      "205:\tlearn: 0.2108445\ttotal: 172ms\tremaining: 662ms\n",
      "206:\tlearn: 0.2094278\ttotal: 172ms\tremaining: 660ms\n",
      "207:\tlearn: 0.2082167\ttotal: 173ms\tremaining: 658ms\n",
      "208:\tlearn: 0.2068601\ttotal: 173ms\tremaining: 656ms\n",
      "209:\tlearn: 0.2051659\ttotal: 174ms\tremaining: 655ms\n",
      "210:\tlearn: 0.2040133\ttotal: 175ms\tremaining: 653ms\n",
      "211:\tlearn: 0.2026354\ttotal: 175ms\tremaining: 651ms\n",
      "212:\tlearn: 0.2016254\ttotal: 175ms\tremaining: 648ms\n",
      "213:\tlearn: 0.2005216\ttotal: 176ms\tremaining: 646ms\n",
      "214:\tlearn: 0.1993024\ttotal: 176ms\tremaining: 644ms\n",
      "215:\tlearn: 0.1980357\ttotal: 177ms\tremaining: 642ms\n",
      "216:\tlearn: 0.1968414\ttotal: 177ms\tremaining: 640ms\n",
      "217:\tlearn: 0.1955272\ttotal: 178ms\tremaining: 638ms\n",
      "218:\tlearn: 0.1942197\ttotal: 178ms\tremaining: 635ms\n",
      "219:\tlearn: 0.1931251\ttotal: 179ms\tremaining: 634ms\n",
      "220:\tlearn: 0.1920858\ttotal: 179ms\tremaining: 631ms\n",
      "221:\tlearn: 0.1908597\ttotal: 179ms\tremaining: 629ms\n",
      "222:\tlearn: 0.1896857\ttotal: 180ms\tremaining: 626ms\n",
      "223:\tlearn: 0.1885316\ttotal: 180ms\tremaining: 624ms\n",
      "224:\tlearn: 0.1873472\ttotal: 181ms\tremaining: 623ms\n",
      "225:\tlearn: 0.1864214\ttotal: 181ms\tremaining: 621ms\n",
      "226:\tlearn: 0.1849660\ttotal: 182ms\tremaining: 618ms\n",
      "227:\tlearn: 0.1836209\ttotal: 182ms\tremaining: 616ms\n",
      "228:\tlearn: 0.1823587\ttotal: 183ms\tremaining: 615ms\n",
      "229:\tlearn: 0.1814540\ttotal: 183ms\tremaining: 613ms\n",
      "230:\tlearn: 0.1804768\ttotal: 184ms\tremaining: 612ms\n",
      "231:\tlearn: 0.1794251\ttotal: 184ms\tremaining: 610ms\n",
      "232:\tlearn: 0.1784153\ttotal: 185ms\tremaining: 608ms\n",
      "233:\tlearn: 0.1772872\ttotal: 185ms\tremaining: 606ms\n",
      "234:\tlearn: 0.1762057\ttotal: 186ms\tremaining: 605ms\n",
      "235:\tlearn: 0.1751220\ttotal: 186ms\tremaining: 603ms\n"
     ]
    },
    {
     "name": "stdout",
     "output_type": "stream",
     "text": [
      "236:\tlearn: 0.1738965\ttotal: 191ms\tremaining: 615ms\n",
      "237:\tlearn: 0.1729973\ttotal: 192ms\tremaining: 613ms\n",
      "238:\tlearn: 0.1719167\ttotal: 192ms\tremaining: 611ms\n",
      "239:\tlearn: 0.1706967\ttotal: 192ms\tremaining: 609ms\n",
      "240:\tlearn: 0.1697174\ttotal: 193ms\tremaining: 607ms\n",
      "241:\tlearn: 0.1685810\ttotal: 193ms\tremaining: 605ms\n",
      "242:\tlearn: 0.1673980\ttotal: 194ms\tremaining: 603ms\n",
      "243:\tlearn: 0.1662114\ttotal: 194ms\tremaining: 601ms\n",
      "244:\tlearn: 0.1651981\ttotal: 195ms\tremaining: 600ms\n",
      "245:\tlearn: 0.1641695\ttotal: 195ms\tremaining: 598ms\n",
      "246:\tlearn: 0.1631027\ttotal: 196ms\tremaining: 597ms\n",
      "247:\tlearn: 0.1617710\ttotal: 197ms\tremaining: 596ms\n",
      "248:\tlearn: 0.1606339\ttotal: 197ms\tremaining: 594ms\n",
      "249:\tlearn: 0.1597354\ttotal: 197ms\tremaining: 592ms\n",
      "250:\tlearn: 0.1584812\ttotal: 198ms\tremaining: 590ms\n",
      "251:\tlearn: 0.1573728\ttotal: 198ms\tremaining: 588ms\n",
      "252:\tlearn: 0.1566046\ttotal: 199ms\tremaining: 587ms\n",
      "253:\tlearn: 0.1556006\ttotal: 199ms\tremaining: 585ms\n",
      "254:\tlearn: 0.1546336\ttotal: 200ms\tremaining: 583ms\n",
      "255:\tlearn: 0.1537208\ttotal: 200ms\tremaining: 581ms\n",
      "256:\tlearn: 0.1528323\ttotal: 201ms\tremaining: 580ms\n",
      "257:\tlearn: 0.1517892\ttotal: 201ms\tremaining: 579ms\n",
      "258:\tlearn: 0.1505334\ttotal: 202ms\tremaining: 577ms\n",
      "259:\tlearn: 0.1495868\ttotal: 202ms\tremaining: 575ms\n",
      "260:\tlearn: 0.1486207\ttotal: 203ms\tremaining: 574ms\n",
      "261:\tlearn: 0.1476794\ttotal: 203ms\tremaining: 572ms\n",
      "262:\tlearn: 0.1466307\ttotal: 203ms\tremaining: 570ms\n",
      "263:\tlearn: 0.1455286\ttotal: 205ms\tremaining: 571ms\n",
      "264:\tlearn: 0.1446501\ttotal: 205ms\tremaining: 570ms\n",
      "265:\tlearn: 0.1437201\ttotal: 206ms\tremaining: 568ms\n",
      "266:\tlearn: 0.1428248\ttotal: 206ms\tremaining: 566ms\n",
      "267:\tlearn: 0.1418746\ttotal: 207ms\tremaining: 565ms\n",
      "268:\tlearn: 0.1407925\ttotal: 207ms\tremaining: 563ms\n",
      "269:\tlearn: 0.1401235\ttotal: 207ms\tremaining: 561ms\n",
      "270:\tlearn: 0.1391935\ttotal: 208ms\tremaining: 560ms\n",
      "271:\tlearn: 0.1381319\ttotal: 208ms\tremaining: 558ms\n",
      "272:\tlearn: 0.1372120\ttotal: 209ms\tremaining: 556ms\n",
      "273:\tlearn: 0.1362863\ttotal: 209ms\tremaining: 555ms\n",
      "274:\tlearn: 0.1354698\ttotal: 210ms\tremaining: 553ms\n",
      "275:\tlearn: 0.1346594\ttotal: 210ms\tremaining: 552ms\n",
      "276:\tlearn: 0.1337818\ttotal: 211ms\tremaining: 551ms\n",
      "277:\tlearn: 0.1327656\ttotal: 211ms\tremaining: 549ms\n",
      "278:\tlearn: 0.1317385\ttotal: 212ms\tremaining: 548ms\n",
      "279:\tlearn: 0.1307337\ttotal: 212ms\tremaining: 546ms\n",
      "280:\tlearn: 0.1298765\ttotal: 213ms\tremaining: 545ms\n",
      "281:\tlearn: 0.1289915\ttotal: 213ms\tremaining: 543ms\n",
      "282:\tlearn: 0.1280227\ttotal: 214ms\tremaining: 542ms\n",
      "283:\tlearn: 0.1273612\ttotal: 214ms\tremaining: 540ms\n",
      "284:\tlearn: 0.1265922\ttotal: 215ms\tremaining: 539ms\n",
      "285:\tlearn: 0.1257828\ttotal: 215ms\tremaining: 537ms\n",
      "286:\tlearn: 0.1248610\ttotal: 216ms\tremaining: 536ms\n",
      "287:\tlearn: 0.1239070\ttotal: 216ms\tremaining: 535ms\n",
      "288:\tlearn: 0.1230458\ttotal: 217ms\tremaining: 533ms\n",
      "289:\tlearn: 0.1222842\ttotal: 217ms\tremaining: 532ms\n",
      "290:\tlearn: 0.1213462\ttotal: 218ms\tremaining: 530ms\n",
      "291:\tlearn: 0.1205517\ttotal: 218ms\tremaining: 529ms\n",
      "292:\tlearn: 0.1197985\ttotal: 218ms\tremaining: 527ms\n",
      "293:\tlearn: 0.1191412\ttotal: 219ms\tremaining: 526ms\n",
      "294:\tlearn: 0.1184226\ttotal: 219ms\tremaining: 524ms\n",
      "295:\tlearn: 0.1177020\ttotal: 220ms\tremaining: 523ms\n",
      "296:\tlearn: 0.1169031\ttotal: 220ms\tremaining: 522ms\n",
      "297:\tlearn: 0.1161822\ttotal: 221ms\tremaining: 520ms\n",
      "298:\tlearn: 0.1155393\ttotal: 221ms\tremaining: 519ms\n",
      "299:\tlearn: 0.1150215\ttotal: 222ms\tremaining: 517ms\n",
      "300:\tlearn: 0.1143512\ttotal: 223ms\tremaining: 517ms\n",
      "301:\tlearn: 0.1136683\ttotal: 223ms\tremaining: 516ms\n",
      "302:\tlearn: 0.1129805\ttotal: 224ms\tremaining: 515ms\n",
      "303:\tlearn: 0.1122840\ttotal: 224ms\tremaining: 513ms\n",
      "304:\tlearn: 0.1116950\ttotal: 225ms\tremaining: 512ms\n",
      "305:\tlearn: 0.1111311\ttotal: 225ms\tremaining: 510ms\n",
      "306:\tlearn: 0.1103275\ttotal: 226ms\tremaining: 510ms\n",
      "307:\tlearn: 0.1095214\ttotal: 226ms\tremaining: 508ms\n",
      "308:\tlearn: 0.1088200\ttotal: 227ms\tremaining: 507ms\n",
      "309:\tlearn: 0.1082701\ttotal: 227ms\tremaining: 505ms\n",
      "310:\tlearn: 0.1075170\ttotal: 227ms\tremaining: 504ms\n",
      "311:\tlearn: 0.1069431\ttotal: 228ms\tremaining: 502ms\n",
      "312:\tlearn: 0.1063791\ttotal: 228ms\tremaining: 501ms\n",
      "313:\tlearn: 0.1056386\ttotal: 229ms\tremaining: 500ms\n",
      "314:\tlearn: 0.1050806\ttotal: 229ms\tremaining: 498ms\n",
      "315:\tlearn: 0.1043337\ttotal: 230ms\tremaining: 497ms\n",
      "316:\tlearn: 0.1037248\ttotal: 230ms\tremaining: 496ms\n",
      "317:\tlearn: 0.1031452\ttotal: 230ms\tremaining: 494ms\n",
      "318:\tlearn: 0.1024773\ttotal: 231ms\tremaining: 493ms\n",
      "319:\tlearn: 0.1019483\ttotal: 232ms\tremaining: 492ms\n",
      "320:\tlearn: 0.1013463\ttotal: 232ms\tremaining: 491ms\n",
      "321:\tlearn: 0.1006054\ttotal: 232ms\tremaining: 489ms\n",
      "322:\tlearn: 0.1001297\ttotal: 233ms\tremaining: 488ms\n",
      "323:\tlearn: 0.0996533\ttotal: 233ms\tremaining: 486ms\n",
      "324:\tlearn: 0.0992154\ttotal: 234ms\tremaining: 485ms\n",
      "325:\tlearn: 0.0986973\ttotal: 234ms\tremaining: 484ms\n",
      "326:\tlearn: 0.0981902\ttotal: 234ms\tremaining: 482ms\n",
      "327:\tlearn: 0.0975450\ttotal: 235ms\tremaining: 481ms\n",
      "328:\tlearn: 0.0970368\ttotal: 235ms\tremaining: 479ms\n",
      "329:\tlearn: 0.0963972\ttotal: 235ms\tremaining: 478ms\n",
      "330:\tlearn: 0.0956993\ttotal: 236ms\tremaining: 476ms\n",
      "331:\tlearn: 0.0950114\ttotal: 236ms\tremaining: 475ms\n",
      "332:\tlearn: 0.0945682\ttotal: 236ms\tremaining: 473ms\n",
      "333:\tlearn: 0.0938934\ttotal: 237ms\tremaining: 472ms\n",
      "334:\tlearn: 0.0933622\ttotal: 237ms\tremaining: 471ms\n",
      "335:\tlearn: 0.0927161\ttotal: 238ms\tremaining: 470ms\n",
      "336:\tlearn: 0.0921108\ttotal: 238ms\tremaining: 469ms\n",
      "337:\tlearn: 0.0915592\ttotal: 239ms\tremaining: 467ms\n",
      "338:\tlearn: 0.0911117\ttotal: 239ms\tremaining: 466ms\n",
      "339:\tlearn: 0.0904818\ttotal: 239ms\tremaining: 465ms\n",
      "340:\tlearn: 0.0900784\ttotal: 240ms\tremaining: 463ms\n",
      "341:\tlearn: 0.0896746\ttotal: 240ms\tremaining: 462ms\n",
      "342:\tlearn: 0.0890521\ttotal: 241ms\tremaining: 461ms\n",
      "343:\tlearn: 0.0886641\ttotal: 241ms\tremaining: 460ms\n",
      "344:\tlearn: 0.0881825\ttotal: 242ms\tremaining: 459ms\n",
      "345:\tlearn: 0.0877603\ttotal: 242ms\tremaining: 458ms\n",
      "346:\tlearn: 0.0873852\ttotal: 243ms\tremaining: 456ms\n",
      "347:\tlearn: 0.0868760\ttotal: 243ms\tremaining: 455ms\n",
      "348:\tlearn: 0.0863771\ttotal: 243ms\tremaining: 454ms\n",
      "349:\tlearn: 0.0859674\ttotal: 244ms\tremaining: 453ms\n",
      "350:\tlearn: 0.0855480\ttotal: 244ms\tremaining: 452ms\n",
      "351:\tlearn: 0.0851333\ttotal: 245ms\tremaining: 450ms\n",
      "352:\tlearn: 0.0847001\ttotal: 245ms\tremaining: 450ms\n",
      "353:\tlearn: 0.0842432\ttotal: 246ms\tremaining: 448ms\n",
      "354:\tlearn: 0.0838484\ttotal: 246ms\tremaining: 447ms\n",
      "355:\tlearn: 0.0834520\ttotal: 247ms\tremaining: 446ms\n",
      "356:\tlearn: 0.0830320\ttotal: 247ms\tremaining: 445ms\n",
      "357:\tlearn: 0.0826469\ttotal: 247ms\tremaining: 444ms\n",
      "358:\tlearn: 0.0822408\ttotal: 248ms\tremaining: 442ms\n",
      "359:\tlearn: 0.0818611\ttotal: 248ms\tremaining: 441ms\n",
      "360:\tlearn: 0.0814125\ttotal: 249ms\tremaining: 440ms\n",
      "361:\tlearn: 0.0809262\ttotal: 249ms\tremaining: 439ms\n",
      "362:\tlearn: 0.0806733\ttotal: 249ms\tremaining: 438ms\n",
      "363:\tlearn: 0.0804244\ttotal: 250ms\tremaining: 437ms\n",
      "364:\tlearn: 0.0800537\ttotal: 250ms\tremaining: 436ms\n",
      "365:\tlearn: 0.0795824\ttotal: 251ms\tremaining: 435ms\n",
      "366:\tlearn: 0.0791553\ttotal: 251ms\tremaining: 433ms\n",
      "367:\tlearn: 0.0787365\ttotal: 252ms\tremaining: 433ms\n",
      "368:\tlearn: 0.0785007\ttotal: 253ms\tremaining: 432ms\n",
      "369:\tlearn: 0.0780928\ttotal: 253ms\tremaining: 431ms\n",
      "370:\tlearn: 0.0776472\ttotal: 254ms\tremaining: 430ms\n",
      "371:\tlearn: 0.0772518\ttotal: 254ms\tremaining: 429ms\n",
      "372:\tlearn: 0.0767326\ttotal: 255ms\tremaining: 428ms\n",
      "373:\tlearn: 0.0763367\ttotal: 255ms\tremaining: 427ms\n",
      "374:\tlearn: 0.0759644\ttotal: 255ms\tremaining: 425ms\n",
      "375:\tlearn: 0.0755910\ttotal: 256ms\tremaining: 424ms\n",
      "376:\tlearn: 0.0752245\ttotal: 256ms\tremaining: 423ms\n",
      "377:\tlearn: 0.0748548\ttotal: 257ms\tremaining: 423ms\n",
      "378:\tlearn: 0.0744860\ttotal: 257ms\tremaining: 422ms\n",
      "379:\tlearn: 0.0739966\ttotal: 258ms\tremaining: 421ms\n",
      "380:\tlearn: 0.0735034\ttotal: 258ms\tremaining: 420ms\n",
      "381:\tlearn: 0.0731630\ttotal: 259ms\tremaining: 419ms\n",
      "382:\tlearn: 0.0726794\ttotal: 259ms\tremaining: 417ms\n",
      "383:\tlearn: 0.0723377\ttotal: 260ms\tremaining: 416ms\n",
      "384:\tlearn: 0.0718053\ttotal: 260ms\tremaining: 415ms\n",
      "385:\tlearn: 0.0712828\ttotal: 260ms\tremaining: 414ms\n",
      "386:\tlearn: 0.0708206\ttotal: 261ms\tremaining: 413ms\n",
      "387:\tlearn: 0.0704086\ttotal: 261ms\tremaining: 412ms\n",
      "388:\tlearn: 0.0700911\ttotal: 262ms\tremaining: 412ms\n",
      "389:\tlearn: 0.0696412\ttotal: 262ms\tremaining: 410ms\n",
      "390:\tlearn: 0.0691992\ttotal: 263ms\tremaining: 409ms\n",
      "391:\tlearn: 0.0687449\ttotal: 263ms\tremaining: 408ms\n",
      "392:\tlearn: 0.0683143\ttotal: 264ms\tremaining: 407ms\n",
      "393:\tlearn: 0.0679844\ttotal: 264ms\tremaining: 406ms\n",
      "394:\tlearn: 0.0675433\ttotal: 264ms\tremaining: 405ms\n",
      "395:\tlearn: 0.0671104\ttotal: 265ms\tremaining: 404ms\n",
      "396:\tlearn: 0.0666967\ttotal: 265ms\tremaining: 403ms\n",
      "397:\tlearn: 0.0662414\ttotal: 265ms\tremaining: 401ms\n",
      "398:\tlearn: 0.0658224\ttotal: 266ms\tremaining: 400ms\n",
      "399:\tlearn: 0.0654869\ttotal: 266ms\tremaining: 399ms\n",
      "400:\tlearn: 0.0650432\ttotal: 266ms\tremaining: 398ms\n",
      "401:\tlearn: 0.0646074\ttotal: 267ms\tremaining: 397ms\n",
      "402:\tlearn: 0.0642369\ttotal: 268ms\tremaining: 397ms\n",
      "403:\tlearn: 0.0639340\ttotal: 268ms\tremaining: 396ms\n",
      "404:\tlearn: 0.0635719\ttotal: 269ms\tremaining: 395ms\n",
      "405:\tlearn: 0.0632154\ttotal: 269ms\tremaining: 394ms\n",
      "406:\tlearn: 0.0629039\ttotal: 270ms\tremaining: 393ms\n",
      "407:\tlearn: 0.0624932\ttotal: 270ms\tremaining: 392ms\n",
      "408:\tlearn: 0.0621484\ttotal: 271ms\tremaining: 391ms\n",
      "409:\tlearn: 0.0618089\ttotal: 271ms\tremaining: 390ms\n",
      "410:\tlearn: 0.0614747\ttotal: 271ms\tremaining: 389ms\n",
      "411:\tlearn: 0.0611772\ttotal: 272ms\tremaining: 388ms\n",
      "412:\tlearn: 0.0607889\ttotal: 272ms\tremaining: 387ms\n",
      "413:\tlearn: 0.0604998\ttotal: 273ms\tremaining: 386ms\n",
      "414:\tlearn: 0.0601783\ttotal: 273ms\tremaining: 385ms\n",
      "415:\tlearn: 0.0598033\ttotal: 274ms\tremaining: 384ms\n",
      "416:\tlearn: 0.0594908\ttotal: 274ms\tremaining: 383ms\n",
      "417:\tlearn: 0.0591832\ttotal: 274ms\tremaining: 382ms\n",
      "418:\tlearn: 0.0588803\ttotal: 275ms\tremaining: 381ms\n",
      "419:\tlearn: 0.0586060\ttotal: 275ms\tremaining: 380ms\n",
      "420:\tlearn: 0.0582689\ttotal: 276ms\tremaining: 379ms\n",
      "421:\tlearn: 0.0579174\ttotal: 276ms\tremaining: 378ms\n",
      "422:\tlearn: 0.0577438\ttotal: 276ms\tremaining: 377ms\n",
      "423:\tlearn: 0.0574163\ttotal: 277ms\tremaining: 377ms\n",
      "424:\tlearn: 0.0571553\ttotal: 278ms\tremaining: 376ms\n",
      "425:\tlearn: 0.0568350\ttotal: 278ms\tremaining: 375ms\n",
      "426:\tlearn: 0.0564434\ttotal: 278ms\tremaining: 374ms\n",
      "427:\tlearn: 0.0562767\ttotal: 279ms\tremaining: 373ms\n",
      "428:\tlearn: 0.0558930\ttotal: 280ms\tremaining: 372ms\n",
      "429:\tlearn: 0.0555167\ttotal: 280ms\tremaining: 371ms\n",
      "430:\tlearn: 0.0552883\ttotal: 281ms\tremaining: 370ms\n",
      "431:\tlearn: 0.0550669\ttotal: 281ms\tremaining: 369ms\n",
      "432:\tlearn: 0.0548982\ttotal: 281ms\tremaining: 368ms\n",
      "433:\tlearn: 0.0546317\ttotal: 282ms\tremaining: 367ms\n",
      "434:\tlearn: 0.0542728\ttotal: 282ms\tremaining: 366ms\n",
      "435:\tlearn: 0.0540420\ttotal: 282ms\tremaining: 365ms\n",
      "436:\tlearn: 0.0536913\ttotal: 283ms\tremaining: 364ms\n",
      "437:\tlearn: 0.0534670\ttotal: 283ms\tremaining: 364ms\n",
      "438:\tlearn: 0.0531242\ttotal: 284ms\tremaining: 363ms\n",
      "439:\tlearn: 0.0527492\ttotal: 284ms\tremaining: 362ms\n",
      "440:\tlearn: 0.0524155\ttotal: 284ms\tremaining: 361ms\n",
      "441:\tlearn: 0.0520490\ttotal: 285ms\tremaining: 360ms\n",
      "442:\tlearn: 0.0517241\ttotal: 285ms\tremaining: 359ms\n",
      "443:\tlearn: 0.0515132\ttotal: 286ms\tremaining: 358ms\n",
      "444:\tlearn: 0.0511577\ttotal: 286ms\tremaining: 357ms\n",
      "445:\tlearn: 0.0508424\ttotal: 287ms\tremaining: 356ms\n",
      "446:\tlearn: 0.0504949\ttotal: 287ms\tremaining: 355ms\n",
      "447:\tlearn: 0.0501879\ttotal: 288ms\tremaining: 354ms\n",
      "448:\tlearn: 0.0498869\ttotal: 288ms\tremaining: 353ms\n",
      "449:\tlearn: 0.0497360\ttotal: 288ms\tremaining: 353ms\n",
      "450:\tlearn: 0.0494126\ttotal: 289ms\tremaining: 352ms\n",
      "451:\tlearn: 0.0490804\ttotal: 289ms\tremaining: 351ms\n",
      "452:\tlearn: 0.0487170\ttotal: 290ms\tremaining: 350ms\n",
      "453:\tlearn: 0.0484043\ttotal: 290ms\tremaining: 349ms\n",
      "454:\tlearn: 0.0480972\ttotal: 291ms\tremaining: 348ms\n",
      "455:\tlearn: 0.0477459\ttotal: 291ms\tremaining: 348ms\n",
      "456:\tlearn: 0.0474650\ttotal: 292ms\tremaining: 347ms\n",
      "457:\tlearn: 0.0471666\ttotal: 292ms\tremaining: 346ms\n"
     ]
    },
    {
     "name": "stdout",
     "output_type": "stream",
     "text": [
      "458:\tlearn: 0.0468736\ttotal: 293ms\tremaining: 345ms\n",
      "459:\tlearn: 0.0465840\ttotal: 294ms\tremaining: 345ms\n",
      "460:\tlearn: 0.0462339\ttotal: 294ms\tremaining: 344ms\n",
      "461:\tlearn: 0.0460957\ttotal: 295ms\tremaining: 343ms\n",
      "462:\tlearn: 0.0458018\ttotal: 295ms\tremaining: 342ms\n",
      "463:\tlearn: 0.0455238\ttotal: 295ms\tremaining: 341ms\n",
      "464:\tlearn: 0.0452384\ttotal: 296ms\tremaining: 340ms\n",
      "465:\tlearn: 0.0449804\ttotal: 296ms\tremaining: 339ms\n",
      "466:\tlearn: 0.0448306\ttotal: 296ms\tremaining: 338ms\n",
      "467:\tlearn: 0.0445794\ttotal: 297ms\tremaining: 338ms\n",
      "468:\tlearn: 0.0443026\ttotal: 298ms\tremaining: 337ms\n",
      "469:\tlearn: 0.0441579\ttotal: 298ms\tremaining: 336ms\n",
      "470:\tlearn: 0.0439115\ttotal: 299ms\tremaining: 336ms\n",
      "471:\tlearn: 0.0436007\ttotal: 299ms\tremaining: 335ms\n",
      "472:\tlearn: 0.0433609\ttotal: 300ms\tremaining: 334ms\n",
      "473:\tlearn: 0.0430956\ttotal: 300ms\tremaining: 333ms\n",
      "474:\tlearn: 0.0429761\ttotal: 301ms\tremaining: 332ms\n",
      "475:\tlearn: 0.0426749\ttotal: 301ms\tremaining: 332ms\n",
      "476:\tlearn: 0.0423783\ttotal: 302ms\tremaining: 331ms\n",
      "477:\tlearn: 0.0421490\ttotal: 302ms\tremaining: 330ms\n",
      "478:\tlearn: 0.0418954\ttotal: 302ms\tremaining: 329ms\n",
      "479:\tlearn: 0.0417768\ttotal: 303ms\tremaining: 328ms\n",
      "480:\tlearn: 0.0415263\ttotal: 303ms\tremaining: 327ms\n",
      "481:\tlearn: 0.0412838\ttotal: 304ms\tremaining: 326ms\n",
      "482:\tlearn: 0.0410346\ttotal: 304ms\tremaining: 325ms\n",
      "483:\tlearn: 0.0407905\ttotal: 305ms\tremaining: 325ms\n",
      "484:\tlearn: 0.0405738\ttotal: 305ms\tremaining: 324ms\n",
      "485:\tlearn: 0.0403354\ttotal: 305ms\tremaining: 323ms\n",
      "486:\tlearn: 0.0400605\ttotal: 306ms\tremaining: 322ms\n",
      "487:\tlearn: 0.0398512\ttotal: 306ms\tremaining: 321ms\n",
      "488:\tlearn: 0.0395720\ttotal: 307ms\tremaining: 320ms\n",
      "489:\tlearn: 0.0394231\ttotal: 307ms\tremaining: 320ms\n",
      "490:\tlearn: 0.0392759\ttotal: 308ms\tremaining: 319ms\n",
      "491:\tlearn: 0.0391306\ttotal: 308ms\tremaining: 319ms\n",
      "492:\tlearn: 0.0390220\ttotal: 309ms\tremaining: 318ms\n",
      "493:\tlearn: 0.0387525\ttotal: 309ms\tremaining: 317ms\n",
      "494:\tlearn: 0.0386107\ttotal: 310ms\tremaining: 316ms\n",
      "495:\tlearn: 0.0384716\ttotal: 311ms\tremaining: 316ms\n",
      "496:\tlearn: 0.0383332\ttotal: 311ms\tremaining: 315ms\n",
      "497:\tlearn: 0.0381155\ttotal: 311ms\tremaining: 314ms\n",
      "498:\tlearn: 0.0378565\ttotal: 312ms\tremaining: 313ms\n",
      "499:\tlearn: 0.0376345\ttotal: 312ms\tremaining: 312ms\n",
      "500:\tlearn: 0.0375315\ttotal: 313ms\tremaining: 312ms\n",
      "501:\tlearn: 0.0373505\ttotal: 313ms\tremaining: 311ms\n",
      "502:\tlearn: 0.0371409\ttotal: 314ms\tremaining: 310ms\n",
      "503:\tlearn: 0.0369346\ttotal: 314ms\tremaining: 309ms\n",
      "504:\tlearn: 0.0367315\ttotal: 315ms\tremaining: 309ms\n",
      "505:\tlearn: 0.0364852\ttotal: 315ms\tremaining: 308ms\n",
      "506:\tlearn: 0.0363209\ttotal: 316ms\tremaining: 307ms\n",
      "507:\tlearn: 0.0361115\ttotal: 316ms\tremaining: 306ms\n",
      "508:\tlearn: 0.0359505\ttotal: 316ms\tremaining: 305ms\n",
      "509:\tlearn: 0.0357920\ttotal: 317ms\tremaining: 304ms\n",
      "510:\tlearn: 0.0356358\ttotal: 317ms\tremaining: 304ms\n",
      "511:\tlearn: 0.0354820\ttotal: 318ms\tremaining: 303ms\n",
      "512:\tlearn: 0.0353305\ttotal: 318ms\tremaining: 302ms\n",
      "513:\tlearn: 0.0351812\ttotal: 319ms\tremaining: 301ms\n",
      "514:\tlearn: 0.0350343\ttotal: 319ms\tremaining: 301ms\n",
      "515:\tlearn: 0.0348430\ttotal: 320ms\tremaining: 300ms\n",
      "516:\tlearn: 0.0346989\ttotal: 320ms\tremaining: 299ms\n",
      "517:\tlearn: 0.0345126\ttotal: 321ms\tremaining: 299ms\n",
      "518:\tlearn: 0.0343259\ttotal: 321ms\tremaining: 298ms\n",
      "519:\tlearn: 0.0341276\ttotal: 322ms\tremaining: 297ms\n",
      "520:\tlearn: 0.0339456\ttotal: 322ms\tremaining: 296ms\n",
      "521:\tlearn: 0.0337403\ttotal: 323ms\tremaining: 295ms\n",
      "522:\tlearn: 0.0335583\ttotal: 323ms\tremaining: 295ms\n",
      "523:\tlearn: 0.0333601\ttotal: 324ms\tremaining: 294ms\n",
      "524:\tlearn: 0.0331843\ttotal: 324ms\tremaining: 293ms\n",
      "525:\tlearn: 0.0330125\ttotal: 324ms\tremaining: 292ms\n",
      "526:\tlearn: 0.0328339\ttotal: 325ms\tremaining: 291ms\n",
      "527:\tlearn: 0.0326427\ttotal: 325ms\tremaining: 291ms\n",
      "528:\tlearn: 0.0324691\ttotal: 326ms\tremaining: 290ms\n",
      "529:\tlearn: 0.0323081\ttotal: 326ms\tremaining: 289ms\n",
      "530:\tlearn: 0.0321392\ttotal: 326ms\tremaining: 288ms\n",
      "531:\tlearn: 0.0319786\ttotal: 327ms\tremaining: 288ms\n",
      "532:\tlearn: 0.0318147\ttotal: 327ms\tremaining: 287ms\n",
      "533:\tlearn: 0.0316352\ttotal: 328ms\tremaining: 286ms\n",
      "534:\tlearn: 0.0314780\ttotal: 328ms\tremaining: 285ms\n",
      "535:\tlearn: 0.0313271\ttotal: 329ms\tremaining: 285ms\n",
      "536:\tlearn: 0.0311448\ttotal: 329ms\tremaining: 284ms\n",
      "537:\tlearn: 0.0310214\ttotal: 330ms\tremaining: 283ms\n",
      "538:\tlearn: 0.0308834\ttotal: 330ms\tremaining: 282ms\n",
      "539:\tlearn: 0.0307628\ttotal: 330ms\tremaining: 282ms\n",
      "540:\tlearn: 0.0306245\ttotal: 331ms\tremaining: 281ms\n",
      "541:\tlearn: 0.0304444\ttotal: 331ms\tremaining: 280ms\n",
      "542:\tlearn: 0.0303166\ttotal: 332ms\tremaining: 279ms\n",
      "543:\tlearn: 0.0301321\ttotal: 332ms\tremaining: 279ms\n",
      "544:\tlearn: 0.0299843\ttotal: 333ms\tremaining: 278ms\n",
      "545:\tlearn: 0.0298601\ttotal: 333ms\tremaining: 277ms\n",
      "546:\tlearn: 0.0296833\ttotal: 334ms\tremaining: 277ms\n",
      "547:\tlearn: 0.0295598\ttotal: 335ms\tremaining: 276ms\n",
      "548:\tlearn: 0.0294384\ttotal: 335ms\tremaining: 275ms\n",
      "549:\tlearn: 0.0293189\ttotal: 336ms\tremaining: 275ms\n",
      "550:\tlearn: 0.0292014\ttotal: 336ms\tremaining: 274ms\n",
      "551:\tlearn: 0.0290938\ttotal: 337ms\tremaining: 273ms\n",
      "552:\tlearn: 0.0289424\ttotal: 337ms\tremaining: 272ms\n",
      "553:\tlearn: 0.0288141\ttotal: 338ms\tremaining: 272ms\n",
      "554:\tlearn: 0.0286396\ttotal: 342ms\tremaining: 274ms\n",
      "555:\tlearn: 0.0284752\ttotal: 343ms\tremaining: 274ms\n",
      "556:\tlearn: 0.0283611\ttotal: 343ms\tremaining: 273ms\n",
      "557:\tlearn: 0.0282030\ttotal: 343ms\tremaining: 272ms\n",
      "558:\tlearn: 0.0280714\ttotal: 344ms\tremaining: 271ms\n",
      "559:\tlearn: 0.0279285\ttotal: 344ms\tremaining: 271ms\n",
      "560:\tlearn: 0.0277750\ttotal: 345ms\tremaining: 270ms\n",
      "561:\tlearn: 0.0276666\ttotal: 345ms\tremaining: 269ms\n",
      "562:\tlearn: 0.0275163\ttotal: 346ms\tremaining: 268ms\n",
      "563:\tlearn: 0.0273672\ttotal: 346ms\tremaining: 268ms\n",
      "564:\tlearn: 0.0272315\ttotal: 347ms\tremaining: 267ms\n",
      "565:\tlearn: 0.0270865\ttotal: 347ms\tremaining: 266ms\n",
      "566:\tlearn: 0.0269419\ttotal: 348ms\tremaining: 266ms\n",
      "567:\tlearn: 0.0268161\ttotal: 348ms\tremaining: 265ms\n",
      "568:\tlearn: 0.0266979\ttotal: 349ms\tremaining: 264ms\n",
      "569:\tlearn: 0.0265824\ttotal: 349ms\tremaining: 264ms\n",
      "570:\tlearn: 0.0264697\ttotal: 350ms\tremaining: 263ms\n",
      "571:\tlearn: 0.0263338\ttotal: 350ms\tremaining: 262ms\n",
      "572:\tlearn: 0.0262250\ttotal: 351ms\tremaining: 261ms\n",
      "573:\tlearn: 0.0260942\ttotal: 351ms\tremaining: 261ms\n",
      "574:\tlearn: 0.0259961\ttotal: 352ms\tremaining: 260ms\n",
      "575:\tlearn: 0.0258669\ttotal: 352ms\tremaining: 259ms\n",
      "576:\tlearn: 0.0257413\ttotal: 353ms\tremaining: 259ms\n",
      "577:\tlearn: 0.0256145\ttotal: 354ms\tremaining: 258ms\n",
      "578:\tlearn: 0.0254901\ttotal: 354ms\tremaining: 258ms\n",
      "579:\tlearn: 0.0254171\ttotal: 355ms\tremaining: 257ms\n",
      "580:\tlearn: 0.0252970\ttotal: 355ms\tremaining: 256ms\n",
      "581:\tlearn: 0.0251864\ttotal: 356ms\tremaining: 255ms\n",
      "582:\tlearn: 0.0250349\ttotal: 356ms\tremaining: 255ms\n",
      "583:\tlearn: 0.0249250\ttotal: 356ms\tremaining: 254ms\n",
      "584:\tlearn: 0.0247597\ttotal: 357ms\tremaining: 253ms\n",
      "585:\tlearn: 0.0246070\ttotal: 357ms\tremaining: 253ms\n",
      "586:\tlearn: 0.0244568\ttotal: 358ms\tremaining: 252ms\n",
      "587:\tlearn: 0.0243439\ttotal: 358ms\tremaining: 251ms\n",
      "588:\tlearn: 0.0241931\ttotal: 359ms\tremaining: 250ms\n",
      "589:\tlearn: 0.0240776\ttotal: 359ms\tremaining: 250ms\n",
      "590:\tlearn: 0.0239324\ttotal: 360ms\tremaining: 249ms\n",
      "591:\tlearn: 0.0238289\ttotal: 360ms\tremaining: 248ms\n",
      "592:\tlearn: 0.0236864\ttotal: 361ms\tremaining: 248ms\n",
      "593:\tlearn: 0.0235823\ttotal: 362ms\tremaining: 247ms\n",
      "594:\tlearn: 0.0234429\ttotal: 362ms\tremaining: 246ms\n",
      "595:\tlearn: 0.0233804\ttotal: 362ms\tremaining: 246ms\n",
      "596:\tlearn: 0.0232436\ttotal: 363ms\tremaining: 245ms\n",
      "597:\tlearn: 0.0231340\ttotal: 363ms\tremaining: 244ms\n",
      "598:\tlearn: 0.0230616\ttotal: 364ms\tremaining: 243ms\n",
      "599:\tlearn: 0.0229640\ttotal: 365ms\tremaining: 243ms\n",
      "600:\tlearn: 0.0228309\ttotal: 365ms\tremaining: 242ms\n",
      "601:\tlearn: 0.0226934\ttotal: 366ms\tremaining: 242ms\n",
      "602:\tlearn: 0.0225635\ttotal: 366ms\tremaining: 241ms\n",
      "603:\tlearn: 0.0224718\ttotal: 367ms\tremaining: 240ms\n",
      "604:\tlearn: 0.0223249\ttotal: 367ms\tremaining: 240ms\n",
      "605:\tlearn: 0.0222393\ttotal: 368ms\tremaining: 239ms\n",
      "606:\tlearn: 0.0220961\ttotal: 368ms\tremaining: 238ms\n",
      "607:\tlearn: 0.0219922\ttotal: 369ms\tremaining: 238ms\n",
      "608:\tlearn: 0.0218549\ttotal: 369ms\tremaining: 237ms\n",
      "609:\tlearn: 0.0217534\ttotal: 370ms\tremaining: 236ms\n",
      "610:\tlearn: 0.0216203\ttotal: 370ms\tremaining: 236ms\n",
      "611:\tlearn: 0.0215283\ttotal: 370ms\tremaining: 235ms\n",
      "612:\tlearn: 0.0213943\ttotal: 371ms\tremaining: 234ms\n",
      "613:\tlearn: 0.0212968\ttotal: 371ms\tremaining: 233ms\n",
      "614:\tlearn: 0.0212083\ttotal: 372ms\tremaining: 233ms\n",
      "615:\tlearn: 0.0211038\ttotal: 372ms\tremaining: 232ms\n",
      "616:\tlearn: 0.0210189\ttotal: 373ms\tremaining: 231ms\n"
     ]
    },
    {
     "name": "stdout",
     "output_type": "stream",
     "text": [
      "617:\tlearn: 0.0209362\ttotal: 374ms\tremaining: 231ms\n",
      "618:\tlearn: 0.0208248\ttotal: 375ms\tremaining: 231ms\n",
      "619:\tlearn: 0.0207066\ttotal: 375ms\tremaining: 230ms\n",
      "620:\tlearn: 0.0206236\ttotal: 376ms\tremaining: 229ms\n",
      "621:\tlearn: 0.0205086\ttotal: 376ms\tremaining: 229ms\n",
      "622:\tlearn: 0.0204250\ttotal: 377ms\tremaining: 228ms\n",
      "623:\tlearn: 0.0203430\ttotal: 377ms\tremaining: 227ms\n",
      "624:\tlearn: 0.0202683\ttotal: 378ms\tremaining: 227ms\n",
      "625:\tlearn: 0.0201907\ttotal: 378ms\tremaining: 226ms\n",
      "626:\tlearn: 0.0201014\ttotal: 378ms\tremaining: 225ms\n",
      "627:\tlearn: 0.0200540\ttotal: 379ms\tremaining: 224ms\n",
      "628:\tlearn: 0.0199755\ttotal: 379ms\tremaining: 224ms\n",
      "629:\tlearn: 0.0198888\ttotal: 380ms\tremaining: 223ms\n",
      "630:\tlearn: 0.0198467\ttotal: 380ms\tremaining: 222ms\n",
      "631:\tlearn: 0.0197498\ttotal: 381ms\tremaining: 222ms\n",
      "632:\tlearn: 0.0196642\ttotal: 381ms\tremaining: 221ms\n",
      "633:\tlearn: 0.0196229\ttotal: 382ms\tremaining: 220ms\n",
      "634:\tlearn: 0.0195356\ttotal: 382ms\tremaining: 220ms\n",
      "635:\tlearn: 0.0194951\ttotal: 382ms\tremaining: 219ms\n",
      "636:\tlearn: 0.0194111\ttotal: 383ms\tremaining: 218ms\n",
      "637:\tlearn: 0.0193181\ttotal: 384ms\tremaining: 218ms\n",
      "638:\tlearn: 0.0192783\ttotal: 389ms\tremaining: 219ms\n",
      "639:\tlearn: 0.0191935\ttotal: 389ms\tremaining: 219ms\n",
      "640:\tlearn: 0.0191542\ttotal: 390ms\tremaining: 218ms\n",
      "641:\tlearn: 0.0190492\ttotal: 390ms\tremaining: 217ms\n",
      "642:\tlearn: 0.0189838\ttotal: 390ms\tremaining: 217ms\n",
      "643:\tlearn: 0.0189453\ttotal: 391ms\tremaining: 216ms\n",
      "644:\tlearn: 0.0188596\ttotal: 391ms\tremaining: 215ms\n",
      "645:\tlearn: 0.0188218\ttotal: 392ms\tremaining: 215ms\n",
      "646:\tlearn: 0.0187030\ttotal: 392ms\tremaining: 214ms\n",
      "647:\tlearn: 0.0186192\ttotal: 393ms\tremaining: 213ms\n",
      "648:\tlearn: 0.0185367\ttotal: 393ms\tremaining: 213ms\n",
      "649:\tlearn: 0.0184998\ttotal: 394ms\tremaining: 212ms\n",
      "650:\tlearn: 0.0184188\ttotal: 394ms\tremaining: 211ms\n",
      "651:\tlearn: 0.0183823\ttotal: 395ms\tremaining: 211ms\n",
      "652:\tlearn: 0.0183463\ttotal: 395ms\tremaining: 210ms\n",
      "653:\tlearn: 0.0182669\ttotal: 396ms\tremaining: 209ms\n",
      "654:\tlearn: 0.0182317\ttotal: 396ms\tremaining: 209ms\n",
      "655:\tlearn: 0.0181966\ttotal: 397ms\tremaining: 208ms\n",
      "656:\tlearn: 0.0181021\ttotal: 397ms\tremaining: 207ms\n",
      "657:\tlearn: 0.0180247\ttotal: 398ms\tremaining: 207ms\n",
      "658:\tlearn: 0.0179910\ttotal: 398ms\tremaining: 206ms\n",
      "659:\tlearn: 0.0179033\ttotal: 399ms\tremaining: 205ms\n",
      "660:\tlearn: 0.0178704\ttotal: 399ms\tremaining: 205ms\n",
      "661:\tlearn: 0.0177805\ttotal: 400ms\tremaining: 204ms\n",
      "662:\tlearn: 0.0177153\ttotal: 400ms\tremaining: 203ms\n",
      "663:\tlearn: 0.0176510\ttotal: 401ms\tremaining: 203ms\n",
      "664:\tlearn: 0.0175684\ttotal: 401ms\tremaining: 202ms\n",
      "665:\tlearn: 0.0175053\ttotal: 401ms\tremaining: 201ms\n",
      "666:\tlearn: 0.0174717\ttotal: 402ms\tremaining: 201ms\n",
      "667:\tlearn: 0.0173884\ttotal: 402ms\tremaining: 200ms\n",
      "668:\tlearn: 0.0173575\ttotal: 403ms\tremaining: 199ms\n",
      "669:\tlearn: 0.0172959\ttotal: 403ms\tremaining: 199ms\n",
      "670:\tlearn: 0.0172658\ttotal: 404ms\tremaining: 198ms\n",
      "671:\tlearn: 0.0171847\ttotal: 404ms\tremaining: 197ms\n",
      "672:\tlearn: 0.0171553\ttotal: 405ms\tremaining: 197ms\n",
      "673:\tlearn: 0.0170725\ttotal: 405ms\tremaining: 196ms\n",
      "674:\tlearn: 0.0170128\ttotal: 406ms\tremaining: 195ms\n",
      "675:\tlearn: 0.0169539\ttotal: 406ms\tremaining: 195ms\n",
      "676:\tlearn: 0.0168629\ttotal: 407ms\tremaining: 194ms\n",
      "677:\tlearn: 0.0167851\ttotal: 407ms\tremaining: 193ms\n",
      "678:\tlearn: 0.0167572\ttotal: 408ms\tremaining: 193ms\n",
      "679:\tlearn: 0.0166812\ttotal: 408ms\tremaining: 192ms\n",
      "680:\tlearn: 0.0166494\ttotal: 409ms\tremaining: 192ms\n",
      "681:\tlearn: 0.0165613\ttotal: 409ms\tremaining: 191ms\n",
      "682:\tlearn: 0.0164884\ttotal: 410ms\tremaining: 190ms\n",
      "683:\tlearn: 0.0164321\ttotal: 410ms\tremaining: 190ms\n",
      "684:\tlearn: 0.0163470\ttotal: 411ms\tremaining: 189ms\n",
      "685:\tlearn: 0.0163204\ttotal: 411ms\tremaining: 188ms\n",
      "686:\tlearn: 0.0162761\ttotal: 412ms\tremaining: 188ms\n",
      "687:\tlearn: 0.0162213\ttotal: 412ms\tremaining: 187ms\n",
      "688:\tlearn: 0.0161779\ttotal: 413ms\tremaining: 186ms\n",
      "689:\tlearn: 0.0160957\ttotal: 413ms\tremaining: 186ms\n",
      "690:\tlearn: 0.0160421\ttotal: 413ms\tremaining: 185ms\n",
      "691:\tlearn: 0.0159748\ttotal: 414ms\tremaining: 184ms\n",
      "692:\tlearn: 0.0159131\ttotal: 414ms\tremaining: 183ms\n",
      "693:\tlearn: 0.0158603\ttotal: 415ms\tremaining: 183ms\n",
      "694:\tlearn: 0.0157625\ttotal: 422ms\tremaining: 185ms\n",
      "695:\tlearn: 0.0156712\ttotal: 422ms\tremaining: 184ms\n",
      "696:\tlearn: 0.0156383\ttotal: 423ms\tremaining: 184ms\n",
      "697:\tlearn: 0.0155784\ttotal: 423ms\tremaining: 183ms\n",
      "698:\tlearn: 0.0155198\ttotal: 424ms\tremaining: 182ms\n",
      "699:\tlearn: 0.0154306\ttotal: 424ms\tremaining: 182ms\n",
      "700:\tlearn: 0.0153738\ttotal: 425ms\tremaining: 181ms\n",
      "701:\tlearn: 0.0152803\ttotal: 425ms\tremaining: 180ms\n",
      "702:\tlearn: 0.0152198\ttotal: 425ms\tremaining: 180ms\n",
      "703:\tlearn: 0.0151611\ttotal: 426ms\tremaining: 179ms\n",
      "704:\tlearn: 0.0151300\ttotal: 426ms\tremaining: 178ms\n",
      "705:\tlearn: 0.0150996\ttotal: 427ms\tremaining: 178ms\n",
      "706:\tlearn: 0.0150699\ttotal: 427ms\tremaining: 177ms\n",
      "707:\tlearn: 0.0149913\ttotal: 428ms\tremaining: 176ms\n",
      "708:\tlearn: 0.0149746\ttotal: 428ms\tremaining: 176ms\n",
      "709:\tlearn: 0.0148973\ttotal: 428ms\tremaining: 175ms\n",
      "710:\tlearn: 0.0148213\ttotal: 429ms\tremaining: 174ms\n",
      "711:\tlearn: 0.0147929\ttotal: 430ms\tremaining: 174ms\n",
      "712:\tlearn: 0.0147129\ttotal: 430ms\tremaining: 173ms\n",
      "713:\tlearn: 0.0146386\ttotal: 431ms\tremaining: 173ms\n",
      "714:\tlearn: 0.0145656\ttotal: 431ms\tremaining: 172ms\n",
      "715:\tlearn: 0.0144829\ttotal: 432ms\tremaining: 171ms\n",
      "716:\tlearn: 0.0144018\ttotal: 432ms\tremaining: 171ms\n",
      "717:\tlearn: 0.0143368\ttotal: 433ms\tremaining: 170ms\n",
      "718:\tlearn: 0.0142510\ttotal: 433ms\tremaining: 169ms\n",
      "719:\tlearn: 0.0142229\ttotal: 434ms\tremaining: 169ms\n",
      "720:\tlearn: 0.0141954\ttotal: 434ms\tremaining: 168ms\n",
      "721:\tlearn: 0.0141683\ttotal: 435ms\tremaining: 167ms\n",
      "722:\tlearn: 0.0141418\ttotal: 435ms\tremaining: 167ms\n",
      "723:\tlearn: 0.0140909\ttotal: 436ms\tremaining: 166ms\n",
      "724:\tlearn: 0.0140564\ttotal: 436ms\tremaining: 166ms\n",
      "725:\tlearn: 0.0140306\ttotal: 437ms\tremaining: 165ms\n",
      "726:\tlearn: 0.0140049\ttotal: 437ms\tremaining: 164ms\n",
      "727:\tlearn: 0.0139554\ttotal: 438ms\tremaining: 164ms\n",
      "728:\tlearn: 0.0139217\ttotal: 438ms\tremaining: 163ms\n",
      "729:\tlearn: 0.0138976\ttotal: 439ms\tremaining: 162ms\n",
      "730:\tlearn: 0.0138798\ttotal: 439ms\tremaining: 162ms\n",
      "731:\tlearn: 0.0138083\ttotal: 440ms\tremaining: 161ms\n",
      "732:\tlearn: 0.0137541\ttotal: 440ms\tremaining: 160ms\n",
      "733:\tlearn: 0.0137214\ttotal: 441ms\tremaining: 160ms\n",
      "734:\tlearn: 0.0136921\ttotal: 441ms\tremaining: 159ms\n",
      "735:\tlearn: 0.0136439\ttotal: 442ms\tremaining: 158ms\n",
      "736:\tlearn: 0.0136195\ttotal: 442ms\tremaining: 158ms\n",
      "737:\tlearn: 0.0135630\ttotal: 443ms\tremaining: 157ms\n",
      "738:\tlearn: 0.0135457\ttotal: 443ms\tremaining: 157ms\n",
      "739:\tlearn: 0.0134899\ttotal: 444ms\tremaining: 156ms\n",
      "740:\tlearn: 0.0134218\ttotal: 444ms\tremaining: 155ms\n",
      "741:\tlearn: 0.0134048\ttotal: 445ms\tremaining: 155ms\n",
      "742:\tlearn: 0.0133503\ttotal: 445ms\tremaining: 154ms\n",
      "743:\tlearn: 0.0132966\ttotal: 446ms\tremaining: 153ms\n",
      "744:\tlearn: 0.0132401\ttotal: 446ms\tremaining: 153ms\n",
      "745:\tlearn: 0.0131745\ttotal: 447ms\tremaining: 152ms\n",
      "746:\tlearn: 0.0131221\ttotal: 447ms\tremaining: 151ms\n",
      "747:\tlearn: 0.0131053\ttotal: 448ms\tremaining: 151ms\n",
      "748:\tlearn: 0.0130888\ttotal: 448ms\tremaining: 150ms\n",
      "749:\tlearn: 0.0130372\ttotal: 449ms\tremaining: 150ms\n",
      "750:\tlearn: 0.0130209\ttotal: 449ms\tremaining: 149ms\n",
      "751:\tlearn: 0.0130050\ttotal: 449ms\tremaining: 148ms\n",
      "752:\tlearn: 0.0129417\ttotal: 450ms\tremaining: 148ms\n",
      "753:\tlearn: 0.0129306\ttotal: 450ms\tremaining: 147ms\n",
      "754:\tlearn: 0.0129198\ttotal: 451ms\tremaining: 146ms\n",
      "755:\tlearn: 0.0129090\ttotal: 451ms\tremaining: 146ms\n",
      "756:\tlearn: 0.0128328\ttotal: 452ms\tremaining: 145ms\n",
      "757:\tlearn: 0.0127647\ttotal: 453ms\tremaining: 144ms\n",
      "758:\tlearn: 0.0126971\ttotal: 453ms\tremaining: 144ms\n",
      "759:\tlearn: 0.0126243\ttotal: 454ms\tremaining: 143ms\n",
      "760:\tlearn: 0.0125587\ttotal: 454ms\tremaining: 143ms\n",
      "761:\tlearn: 0.0124943\ttotal: 455ms\tremaining: 142ms\n",
      "762:\tlearn: 0.0124558\ttotal: 455ms\tremaining: 141ms\n",
      "763:\tlearn: 0.0124211\ttotal: 456ms\tremaining: 141ms\n",
      "764:\tlearn: 0.0123723\ttotal: 456ms\tremaining: 140ms\n",
      "765:\tlearn: 0.0123570\ttotal: 457ms\tremaining: 140ms\n",
      "766:\tlearn: 0.0123421\ttotal: 457ms\tremaining: 139ms\n",
      "767:\tlearn: 0.0123045\ttotal: 458ms\tremaining: 138ms\n",
      "768:\tlearn: 0.0122567\ttotal: 458ms\tremaining: 138ms\n",
      "769:\tlearn: 0.0121936\ttotal: 459ms\tremaining: 137ms\n",
      "770:\tlearn: 0.0121387\ttotal: 459ms\tremaining: 136ms\n",
      "771:\tlearn: 0.0120769\ttotal: 460ms\tremaining: 136ms\n",
      "772:\tlearn: 0.0120241\ttotal: 460ms\tremaining: 135ms\n",
      "773:\tlearn: 0.0119593\ttotal: 461ms\tremaining: 135ms\n",
      "774:\tlearn: 0.0119267\ttotal: 461ms\tremaining: 134ms\n",
      "775:\tlearn: 0.0118755\ttotal: 462ms\tremaining: 133ms\n",
      "776:\tlearn: 0.0118490\ttotal: 462ms\tremaining: 133ms\n",
      "777:\tlearn: 0.0118081\ttotal: 463ms\tremaining: 132ms\n",
      "778:\tlearn: 0.0117680\ttotal: 463ms\tremaining: 131ms\n",
      "779:\tlearn: 0.0117537\ttotal: 464ms\tremaining: 131ms\n",
      "780:\tlearn: 0.0117340\ttotal: 464ms\tremaining: 130ms\n",
      "781:\tlearn: 0.0117248\ttotal: 465ms\tremaining: 130ms\n",
      "782:\tlearn: 0.0116988\ttotal: 465ms\tremaining: 129ms\n",
      "783:\tlearn: 0.0116823\ttotal: 466ms\tremaining: 128ms\n",
      "784:\tlearn: 0.0116320\ttotal: 466ms\tremaining: 128ms\n",
      "785:\tlearn: 0.0115700\ttotal: 467ms\tremaining: 127ms\n",
      "786:\tlearn: 0.0115259\ttotal: 467ms\tremaining: 126ms\n",
      "787:\tlearn: 0.0114768\ttotal: 468ms\tremaining: 126ms\n",
      "788:\tlearn: 0.0114245\ttotal: 468ms\tremaining: 125ms\n",
      "789:\tlearn: 0.0113996\ttotal: 469ms\tremaining: 125ms\n",
      "790:\tlearn: 0.0113444\ttotal: 469ms\tremaining: 124ms\n",
      "791:\tlearn: 0.0112954\ttotal: 470ms\tremaining: 123ms\n",
      "792:\tlearn: 0.0112484\ttotal: 471ms\tremaining: 123ms\n",
      "793:\tlearn: 0.0111916\ttotal: 471ms\tremaining: 122ms\n",
      "794:\tlearn: 0.0111544\ttotal: 471ms\tremaining: 122ms\n",
      "795:\tlearn: 0.0111388\ttotal: 472ms\tremaining: 121ms\n",
      "796:\tlearn: 0.0110892\ttotal: 472ms\tremaining: 120ms\n",
      "797:\tlearn: 0.0110364\ttotal: 473ms\tremaining: 120ms\n",
      "798:\tlearn: 0.0109818\ttotal: 473ms\tremaining: 119ms\n",
      "799:\tlearn: 0.0109328\ttotal: 474ms\tremaining: 118ms\n",
      "800:\tlearn: 0.0108870\ttotal: 474ms\tremaining: 118ms\n",
      "801:\tlearn: 0.0108415\ttotal: 475ms\tremaining: 117ms\n",
      "802:\tlearn: 0.0107875\ttotal: 475ms\tremaining: 117ms\n",
      "803:\tlearn: 0.0107432\ttotal: 476ms\tremaining: 116ms\n"
     ]
    },
    {
     "name": "stdout",
     "output_type": "stream",
     "text": [
      "804:\tlearn: 0.0106957\ttotal: 477ms\tremaining: 115ms\n",
      "805:\tlearn: 0.0106836\ttotal: 477ms\tremaining: 115ms\n",
      "806:\tlearn: 0.0106711\ttotal: 477ms\tremaining: 114ms\n",
      "807:\tlearn: 0.0106281\ttotal: 478ms\tremaining: 113ms\n",
      "808:\tlearn: 0.0105817\ttotal: 478ms\tremaining: 113ms\n",
      "809:\tlearn: 0.0105528\ttotal: 478ms\tremaining: 112ms\n",
      "810:\tlearn: 0.0105407\ttotal: 479ms\tremaining: 112ms\n",
      "811:\tlearn: 0.0105122\ttotal: 479ms\tremaining: 111ms\n",
      "812:\tlearn: 0.0104613\ttotal: 480ms\tremaining: 110ms\n",
      "813:\tlearn: 0.0104332\ttotal: 480ms\tremaining: 110ms\n",
      "814:\tlearn: 0.0103950\ttotal: 481ms\tremaining: 109ms\n",
      "815:\tlearn: 0.0103417\ttotal: 481ms\tremaining: 109ms\n",
      "816:\tlearn: 0.0103343\ttotal: 482ms\tremaining: 108ms\n",
      "817:\tlearn: 0.0102986\ttotal: 482ms\tremaining: 107ms\n",
      "818:\tlearn: 0.0102914\ttotal: 483ms\tremaining: 107ms\n",
      "819:\tlearn: 0.0102539\ttotal: 483ms\tremaining: 106ms\n",
      "820:\tlearn: 0.0102181\ttotal: 484ms\tremaining: 105ms\n",
      "821:\tlearn: 0.0101778\ttotal: 484ms\tremaining: 105ms\n",
      "822:\tlearn: 0.0101708\ttotal: 485ms\tremaining: 104ms\n",
      "823:\tlearn: 0.0101438\ttotal: 485ms\tremaining: 104ms\n",
      "824:\tlearn: 0.0101369\ttotal: 486ms\tremaining: 103ms\n",
      "825:\tlearn: 0.0101301\ttotal: 486ms\tremaining: 102ms\n",
      "826:\tlearn: 0.0101082\ttotal: 487ms\tremaining: 102ms\n",
      "827:\tlearn: 0.0100681\ttotal: 487ms\tremaining: 101ms\n",
      "828:\tlearn: 0.0100418\ttotal: 487ms\tremaining: 101ms\n",
      "829:\tlearn: 0.0100057\ttotal: 488ms\tremaining: 99.9ms\n",
      "830:\tlearn: 0.0099991\ttotal: 489ms\tremaining: 99.4ms\n",
      "831:\tlearn: 0.0099881\ttotal: 489ms\tremaining: 98.8ms\n",
      "832:\tlearn: 0.0099527\ttotal: 490ms\tremaining: 98.2ms\n",
      "833:\tlearn: 0.0099141\ttotal: 490ms\tremaining: 97.6ms\n",
      "834:\tlearn: 0.0099016\ttotal: 491ms\tremaining: 97ms\n",
      "835:\tlearn: 0.0098826\ttotal: 491ms\tremaining: 96.4ms\n",
      "836:\tlearn: 0.0098450\ttotal: 492ms\tremaining: 95.7ms\n",
      "837:\tlearn: 0.0097994\ttotal: 492ms\tremaining: 95.1ms\n",
      "838:\tlearn: 0.0097741\ttotal: 492ms\tremaining: 94.5ms\n",
      "839:\tlearn: 0.0097369\ttotal: 493ms\tremaining: 93.8ms\n",
      "840:\tlearn: 0.0097120\ttotal: 493ms\tremaining: 93.2ms\n",
      "841:\tlearn: 0.0096874\ttotal: 493ms\tremaining: 92.6ms\n",
      "842:\tlearn: 0.0096370\ttotal: 494ms\tremaining: 91.9ms\n",
      "843:\tlearn: 0.0095922\ttotal: 494ms\tremaining: 91.3ms\n",
      "844:\tlearn: 0.0095803\ttotal: 494ms\tremaining: 90.7ms\n",
      "845:\tlearn: 0.0095280\ttotal: 495ms\tremaining: 90.1ms\n",
      "846:\tlearn: 0.0094855\ttotal: 495ms\tremaining: 89.4ms\n",
      "847:\tlearn: 0.0094345\ttotal: 496ms\tremaining: 88.8ms\n",
      "848:\tlearn: 0.0093936\ttotal: 496ms\tremaining: 88.2ms\n",
      "849:\tlearn: 0.0093626\ttotal: 496ms\tremaining: 87.6ms\n",
      "850:\tlearn: 0.0093314\ttotal: 497ms\tremaining: 87ms\n",
      "851:\tlearn: 0.0092790\ttotal: 497ms\tremaining: 86.4ms\n",
      "852:\tlearn: 0.0092556\ttotal: 498ms\tremaining: 85.8ms\n",
      "853:\tlearn: 0.0092044\ttotal: 498ms\tremaining: 85.2ms\n",
      "854:\tlearn: 0.0091813\ttotal: 499ms\tremaining: 84.6ms\n",
      "855:\tlearn: 0.0091734\ttotal: 499ms\tremaining: 84ms\n",
      "856:\tlearn: 0.0091506\ttotal: 499ms\tremaining: 83.3ms\n",
      "857:\tlearn: 0.0091007\ttotal: 500ms\tremaining: 82.7ms\n",
      "858:\tlearn: 0.0090699\ttotal: 500ms\tremaining: 82.1ms\n",
      "859:\tlearn: 0.0090248\ttotal: 501ms\tremaining: 81.5ms\n",
      "860:\tlearn: 0.0090172\ttotal: 501ms\tremaining: 80.9ms\n",
      "861:\tlearn: 0.0089822\ttotal: 502ms\tremaining: 80.3ms\n",
      "862:\tlearn: 0.0089380\ttotal: 502ms\tremaining: 79.7ms\n",
      "863:\tlearn: 0.0088900\ttotal: 503ms\tremaining: 79.1ms\n",
      "864:\tlearn: 0.0088732\ttotal: 503ms\tremaining: 78.5ms\n",
      "865:\tlearn: 0.0088373\ttotal: 504ms\tremaining: 77.9ms\n",
      "866:\tlearn: 0.0088073\ttotal: 504ms\tremaining: 77.3ms\n",
      "867:\tlearn: 0.0087646\ttotal: 504ms\tremaining: 76.7ms\n",
      "868:\tlearn: 0.0087183\ttotal: 505ms\tremaining: 76.1ms\n",
      "869:\tlearn: 0.0086788\ttotal: 505ms\tremaining: 75.5ms\n",
      "870:\tlearn: 0.0086717\ttotal: 506ms\tremaining: 74.9ms\n",
      "871:\tlearn: 0.0086302\ttotal: 506ms\tremaining: 74.3ms\n",
      "872:\tlearn: 0.0085962\ttotal: 507ms\tremaining: 73.7ms\n",
      "873:\tlearn: 0.0085569\ttotal: 508ms\tremaining: 73.2ms\n",
      "874:\tlearn: 0.0085186\ttotal: 508ms\tremaining: 72.6ms\n",
      "875:\tlearn: 0.0085118\ttotal: 508ms\tremaining: 71.9ms\n",
      "876:\tlearn: 0.0084899\ttotal: 509ms\tremaining: 71.4ms\n",
      "877:\tlearn: 0.0084831\ttotal: 510ms\tremaining: 70.8ms\n",
      "878:\tlearn: 0.0084459\ttotal: 510ms\tremaining: 70.2ms\n",
      "879:\tlearn: 0.0084244\ttotal: 511ms\tremaining: 69.7ms\n",
      "880:\tlearn: 0.0084177\ttotal: 511ms\tremaining: 69.1ms\n",
      "881:\tlearn: 0.0083966\ttotal: 512ms\tremaining: 68.5ms\n",
      "882:\tlearn: 0.0083695\ttotal: 512ms\tremaining: 67.9ms\n",
      "883:\tlearn: 0.0083629\ttotal: 513ms\tremaining: 67.3ms\n",
      "884:\tlearn: 0.0083262\ttotal: 513ms\tremaining: 66.7ms\n",
      "885:\tlearn: 0.0082905\ttotal: 514ms\tremaining: 66.1ms\n",
      "886:\tlearn: 0.0082700\ttotal: 514ms\tremaining: 65.5ms\n",
      "887:\tlearn: 0.0082635\ttotal: 515ms\tremaining: 64.9ms\n",
      "888:\tlearn: 0.0082094\ttotal: 515ms\tremaining: 64.3ms\n",
      "889:\tlearn: 0.0081835\ttotal: 516ms\tremaining: 63.7ms\n",
      "890:\tlearn: 0.0081561\ttotal: 516ms\tremaining: 63.1ms\n",
      "891:\tlearn: 0.0081248\ttotal: 517ms\tremaining: 62.6ms\n",
      "892:\tlearn: 0.0081169\ttotal: 517ms\tremaining: 62ms\n",
      "893:\tlearn: 0.0080917\ttotal: 518ms\tremaining: 61.4ms\n",
      "894:\tlearn: 0.0080540\ttotal: 518ms\tremaining: 60.8ms\n",
      "895:\tlearn: 0.0080342\ttotal: 518ms\tremaining: 60.2ms\n",
      "896:\tlearn: 0.0080281\ttotal: 519ms\tremaining: 59.6ms\n",
      "897:\tlearn: 0.0080085\ttotal: 519ms\tremaining: 59ms\n",
      "898:\tlearn: 0.0079681\ttotal: 520ms\tremaining: 58.4ms\n",
      "899:\tlearn: 0.0079381\ttotal: 520ms\tremaining: 57.8ms\n",
      "900:\tlearn: 0.0079321\ttotal: 521ms\tremaining: 57.2ms\n",
      "901:\tlearn: 0.0078991\ttotal: 521ms\tremaining: 56.6ms\n",
      "902:\tlearn: 0.0078629\ttotal: 522ms\tremaining: 56ms\n",
      "903:\tlearn: 0.0078307\ttotal: 522ms\tremaining: 55.4ms\n",
      "904:\tlearn: 0.0078117\ttotal: 522ms\tremaining: 54.8ms\n",
      "905:\tlearn: 0.0078058\ttotal: 523ms\tremaining: 54.2ms\n",
      "906:\tlearn: 0.0077872\ttotal: 523ms\tremaining: 53.7ms\n",
      "907:\tlearn: 0.0077368\ttotal: 524ms\tremaining: 53.1ms\n",
      "908:\tlearn: 0.0077115\ttotal: 524ms\tremaining: 52.5ms\n",
      "909:\tlearn: 0.0077059\ttotal: 525ms\tremaining: 51.9ms\n",
      "910:\tlearn: 0.0076746\ttotal: 525ms\tremaining: 51.3ms\n",
      "911:\tlearn: 0.0076566\ttotal: 525ms\tremaining: 50.7ms\n",
      "912:\tlearn: 0.0076496\ttotal: 526ms\tremaining: 50.1ms\n",
      "913:\tlearn: 0.0075968\ttotal: 526ms\tremaining: 49.5ms\n",
      "914:\tlearn: 0.0075641\ttotal: 527ms\tremaining: 48.9ms\n",
      "915:\tlearn: 0.0075123\ttotal: 527ms\tremaining: 48.3ms\n",
      "916:\tlearn: 0.0074813\ttotal: 528ms\tremaining: 47.8ms\n",
      "917:\tlearn: 0.0074495\ttotal: 528ms\tremaining: 47.2ms\n",
      "918:\tlearn: 0.0074247\ttotal: 529ms\tremaining: 46.6ms\n",
      "919:\tlearn: 0.0073947\ttotal: 529ms\tremaining: 46ms\n",
      "920:\tlearn: 0.0073880\ttotal: 529ms\tremaining: 45.4ms\n",
      "921:\tlearn: 0.0073550\ttotal: 530ms\tremaining: 44.8ms\n",
      "922:\tlearn: 0.0073232\ttotal: 530ms\tremaining: 44.2ms\n",
      "923:\tlearn: 0.0072806\ttotal: 531ms\tremaining: 43.7ms\n",
      "924:\tlearn: 0.0072636\ttotal: 531ms\tremaining: 43.1ms\n",
      "925:\tlearn: 0.0072315\ttotal: 532ms\tremaining: 42.5ms\n",
      "926:\tlearn: 0.0072148\ttotal: 532ms\tremaining: 41.9ms\n",
      "927:\tlearn: 0.0071858\ttotal: 532ms\tremaining: 41.3ms\n",
      "928:\tlearn: 0.0071543\ttotal: 533ms\tremaining: 40.7ms\n",
      "929:\tlearn: 0.0071379\ttotal: 533ms\tremaining: 40.2ms\n",
      "930:\tlearn: 0.0071095\ttotal: 534ms\tremaining: 39.6ms\n",
      "931:\tlearn: 0.0070792\ttotal: 534ms\tremaining: 39ms\n",
      "932:\tlearn: 0.0070631\ttotal: 535ms\tremaining: 38.4ms\n",
      "933:\tlearn: 0.0070353\ttotal: 535ms\tremaining: 37.8ms\n",
      "934:\tlearn: 0.0069926\ttotal: 536ms\tremaining: 37.2ms\n",
      "935:\tlearn: 0.0069768\ttotal: 536ms\tremaining: 36.7ms\n",
      "936:\tlearn: 0.0069472\ttotal: 537ms\tremaining: 36.1ms\n",
      "937:\tlearn: 0.0069317\ttotal: 537ms\tremaining: 35.5ms\n",
      "938:\tlearn: 0.0069009\ttotal: 538ms\tremaining: 34.9ms\n",
      "939:\tlearn: 0.0068773\ttotal: 538ms\tremaining: 34.3ms\n",
      "940:\tlearn: 0.0068483\ttotal: 538ms\tremaining: 33.8ms\n",
      "941:\tlearn: 0.0068373\ttotal: 539ms\tremaining: 33.2ms\n",
      "942:\tlearn: 0.0068088\ttotal: 539ms\tremaining: 32.6ms\n",
      "943:\tlearn: 0.0067939\ttotal: 539ms\tremaining: 32ms\n",
      "944:\tlearn: 0.0067640\ttotal: 540ms\tremaining: 31.4ms\n",
      "945:\tlearn: 0.0067494\ttotal: 540ms\tremaining: 30.8ms\n",
      "946:\tlearn: 0.0067426\ttotal: 540ms\tremaining: 30.2ms\n",
      "947:\tlearn: 0.0067146\ttotal: 541ms\tremaining: 29.7ms\n",
      "948:\tlearn: 0.0066854\ttotal: 541ms\tremaining: 29.1ms\n",
      "949:\tlearn: 0.0066749\ttotal: 542ms\tremaining: 28.5ms\n",
      "950:\tlearn: 0.0066496\ttotal: 542ms\tremaining: 27.9ms\n",
      "951:\tlearn: 0.0066300\ttotal: 543ms\tremaining: 27.4ms\n",
      "952:\tlearn: 0.0066013\ttotal: 543ms\tremaining: 26.8ms\n",
      "953:\tlearn: 0.0065779\ttotal: 544ms\tremaining: 26.2ms\n",
      "954:\tlearn: 0.0065410\ttotal: 544ms\tremaining: 25.6ms\n",
      "955:\tlearn: 0.0065051\ttotal: 545ms\tremaining: 25.1ms\n",
      "956:\tlearn: 0.0064718\ttotal: 545ms\tremaining: 24.5ms\n",
      "957:\tlearn: 0.0064534\ttotal: 545ms\tremaining: 23.9ms\n",
      "958:\tlearn: 0.0064214\ttotal: 546ms\tremaining: 23.3ms\n",
      "959:\tlearn: 0.0063938\ttotal: 546ms\tremaining: 22.8ms\n",
      "960:\tlearn: 0.0063786\ttotal: 547ms\tremaining: 22.2ms\n",
      "961:\tlearn: 0.0063475\ttotal: 547ms\tremaining: 21.6ms\n",
      "962:\tlearn: 0.0063172\ttotal: 548ms\tremaining: 21ms\n",
      "963:\tlearn: 0.0062838\ttotal: 548ms\tremaining: 20.5ms\n",
      "964:\tlearn: 0.0062570\ttotal: 549ms\tremaining: 19.9ms\n",
      "965:\tlearn: 0.0062309\ttotal: 549ms\tremaining: 19.3ms\n",
      "966:\tlearn: 0.0062017\ttotal: 550ms\tremaining: 18.8ms\n",
      "967:\tlearn: 0.0061751\ttotal: 550ms\tremaining: 18.2ms\n",
      "968:\tlearn: 0.0061429\ttotal: 551ms\tremaining: 17.6ms\n",
      "969:\tlearn: 0.0061187\ttotal: 551ms\tremaining: 17ms\n",
      "970:\tlearn: 0.0060896\ttotal: 551ms\tremaining: 16.5ms\n",
      "971:\tlearn: 0.0060708\ttotal: 552ms\tremaining: 15.9ms\n",
      "972:\tlearn: 0.0060573\ttotal: 552ms\tremaining: 15.3ms\n",
      "973:\tlearn: 0.0060290\ttotal: 553ms\tremaining: 14.8ms\n",
      "974:\tlearn: 0.0060076\ttotal: 554ms\tremaining: 14.2ms\n",
      "975:\tlearn: 0.0059769\ttotal: 554ms\tremaining: 13.6ms\n",
      "976:\tlearn: 0.0059410\ttotal: 555ms\tremaining: 13.1ms\n",
      "977:\tlearn: 0.0059205\ttotal: 555ms\tremaining: 12.5ms\n",
      "978:\tlearn: 0.0058975\ttotal: 556ms\tremaining: 11.9ms\n",
      "979:\tlearn: 0.0058797\ttotal: 556ms\tremaining: 11.4ms\n",
      "980:\tlearn: 0.0058531\ttotal: 557ms\tremaining: 10.8ms\n",
      "981:\tlearn: 0.0058358\ttotal: 557ms\tremaining: 10.2ms\n"
     ]
    },
    {
     "name": "stdout",
     "output_type": "stream",
     "text": [
      "982:\tlearn: 0.0058122\ttotal: 558ms\tremaining: 9.65ms\n",
      "983:\tlearn: 0.0057953\ttotal: 558ms\tremaining: 9.08ms\n",
      "984:\tlearn: 0.0057724\ttotal: 559ms\tremaining: 8.51ms\n",
      "985:\tlearn: 0.0057539\ttotal: 559ms\tremaining: 7.94ms\n",
      "986:\tlearn: 0.0057299\ttotal: 560ms\tremaining: 7.37ms\n",
      "987:\tlearn: 0.0057149\ttotal: 560ms\tremaining: 6.8ms\n",
      "988:\tlearn: 0.0056974\ttotal: 561ms\tremaining: 6.24ms\n",
      "989:\tlearn: 0.0056822\ttotal: 561ms\tremaining: 5.67ms\n",
      "990:\tlearn: 0.0056542\ttotal: 561ms\tremaining: 5.1ms\n",
      "991:\tlearn: 0.0056268\ttotal: 562ms\tremaining: 4.53ms\n",
      "992:\tlearn: 0.0056092\ttotal: 562ms\tremaining: 3.96ms\n",
      "993:\tlearn: 0.0055812\ttotal: 563ms\tremaining: 3.4ms\n",
      "994:\tlearn: 0.0055451\ttotal: 563ms\tremaining: 2.83ms\n",
      "995:\tlearn: 0.0055306\ttotal: 564ms\tremaining: 2.27ms\n",
      "996:\tlearn: 0.0055097\ttotal: 564ms\tremaining: 1.7ms\n",
      "997:\tlearn: 0.0054773\ttotal: 565ms\tremaining: 1.13ms\n",
      "998:\tlearn: 0.0054531\ttotal: 566ms\tremaining: 566us\n",
      "999:\tlearn: 0.0054295\ttotal: 566ms\tremaining: 0us\n"
     ]
    },
    {
     "data": {
      "text/plain": [
       "<catboost.core.CatBoostRegressor at 0x7f9a11460640>"
      ]
     },
     "execution_count": 9,
     "metadata": {},
     "output_type": "execute_result"
    }
   ],
   "source": [
    "#Train the Model \n",
    "prior_model = ctb.CatBoostRegressor()\n",
    "prior_model.fit(X_train,Y_train)"
   ]
  },
  {
   "cell_type": "code",
   "execution_count": 10,
   "id": "af65dcda",
   "metadata": {
    "execution": {
     "iopub.execute_input": "2022-06-07T06:05:36.490649Z",
     "iopub.status.busy": "2022-06-07T06:05:36.490266Z",
     "iopub.status.idle": "2022-06-07T06:05:36.497802Z",
     "shell.execute_reply": "2022-06-07T06:05:36.498108Z"
    },
    "id": "af65dcda",
    "papermill": {
     "duration": 0.020181,
     "end_time": "2022-06-07T06:05:36.498226",
     "exception": false,
     "start_time": "2022-06-07T06:05:36.478045",
     "status": "completed"
    },
    "tags": []
   },
   "outputs": [
    {
     "data": {
      "application/scrapbook.scrap.json+json": {
       "data": 0.12783771337419197,
       "encoder": "json",
       "name": "Prior Model MSE",
       "version": 1
      }
     },
     "metadata": {
      "scrapbook": {
       "data": true,
       "display": false,
       "name": "Prior Model MSE"
      }
     },
     "output_type": "display_data"
    },
    {
     "data": {
      "application/scrapbook.scrap.json+json": {
       "data": 0.1655574565366473,
       "encoder": "json",
       "name": "ABC Pre-generator MSE",
       "version": 1
      }
     },
     "metadata": {
      "scrapbook": {
       "data": true,
       "display": false,
       "name": "ABC Pre-generator MSE"
      }
     },
     "output_type": "display_data"
    },
    {
     "data": {
      "application/scrapbook.scrap.json+json": {
       "data": 0.28580733195533464,
       "encoder": "json",
       "name": "Prior Model MSE",
       "version": 1
      }
     },
     "metadata": {
      "scrapbook": {
       "data": true,
       "display": false,
       "name": "Prior Model MSE"
      }
     },
     "output_type": "display_data"
    },
    {
     "data": {
      "application/scrapbook.scrap.json+json": {
       "data": 0.3488880532619708,
       "encoder": "json",
       "name": "ABC Pre-generator MSE",
       "version": 1
      }
     },
     "metadata": {
      "scrapbook": {
       "data": true,
       "display": false,
       "name": "ABC Pre-generator MSE"
      }
     },
     "output_type": "display_data"
    }
   ],
   "source": [
    "y_pred = prior_model.predict(X_test)\n",
    "y_abc = y_pred + np.random.normal(0,variance, y_pred.shape) + bias \n",
    "mse = mean_squared_error(y_pred,Y_test)\n",
    "sb.glue(\"Prior Model MSE\",mse)\n",
    "mse = mean_squared_error(y_abc,Y_test)\n",
    "sb.glue(\"ABC Pre-generator MSE\",mse)\n",
    "mae = mean_absolute_error(y_pred,Y_test)\n",
    "sb.glue(\"Prior Model MSE\",mae)\n",
    "mae = mean_absolute_error(y_abc,Y_test)\n",
    "sb.glue(\"ABC Pre-generator MSE\",mae)"
   ]
  },
  {
   "cell_type": "markdown",
   "id": "25609da2",
   "metadata": {
    "papermill": {
     "duration": 0.009362,
     "end_time": "2022-06-07T06:05:36.517188",
     "exception": false,
     "start_time": "2022-06-07T06:05:36.507826",
     "status": "completed"
    },
    "tags": []
   },
   "source": [
    "# ABC GAN Model"
   ]
  },
  {
   "cell_type": "code",
   "execution_count": 11,
   "id": "dfc3464d",
   "metadata": {
    "execution": {
     "iopub.execute_input": "2022-06-07T06:05:36.538824Z",
     "iopub.status.busy": "2022-06-07T06:05:36.538456Z",
     "iopub.status.idle": "2022-06-07T06:05:36.540789Z",
     "shell.execute_reply": "2022-06-07T06:05:36.541030Z"
    },
    "papermill": {
     "duration": 0.014656,
     "end_time": "2022-06-07T06:05:36.541142",
     "exception": false,
     "start_time": "2022-06-07T06:05:36.526486",
     "status": "completed"
    },
    "tags": []
   },
   "outputs": [],
   "source": [
    "gen = network.Generator(n_features+1).to(device)\n",
    "disc = network.Discriminator(n_features+1).to(device)\n",
    "\n",
    "criterion = torch.nn.BCELoss()\n",
    "gen_opt = torch.optim.Adam(gen.parameters(), lr=0.001, betas=(0.5, 0.999))\n",
    "disc_opt = torch.optim.Adam(disc.parameters(), lr=0.001, betas=(0.5, 0.999))"
   ]
  },
  {
   "cell_type": "code",
   "execution_count": 12,
   "id": "b75fdd85",
   "metadata": {
    "execution": {
     "iopub.execute_input": "2022-06-07T06:05:36.562542Z",
     "iopub.status.busy": "2022-06-07T06:05:36.562179Z",
     "iopub.status.idle": "2022-06-07T06:05:51.768728Z",
     "shell.execute_reply": "2022-06-07T06:05:51.769028Z"
    },
    "papermill": {
     "duration": 15.218347,
     "end_time": "2022-06-07T06:05:51.769149",
     "exception": false,
     "start_time": "2022-06-07T06:05:36.550802",
     "status": "completed"
    },
    "tags": []
   },
   "outputs": [
    {
     "data": {
      "image/png": "[encoded data removed]",
      "text/plain": [
       "<Figure size 432x288 with 1 Axes>"
      ]
     },
     "metadata": {
      "needs_background": "light"
     },
     "output_type": "display_data"
    },
    {
     "data": {
      "image/png": "[encoded data removed]",
      "text/plain": [
       "<Figure size 432x288 with 1 Axes>"
      ]
     },
     "metadata": {
      "needs_background": "light"
     },
     "output_type": "display_data"
    }
   ],
   "source": [
    "#Training the ABC_GAN \n",
    "ABC_train_test2.training_GAN(disc,gen,disc_opt,gen_opt,train_data,batch_size,n_epochs,criterion,prior_model,variance,bias,device)"
   ]
  },
  {
   "cell_type": "code",
   "execution_count": 13,
   "id": "1fa7c368",
   "metadata": {
    "execution": {
     "iopub.execute_input": "2022-06-07T06:05:51.793865Z",
     "iopub.status.busy": "2022-06-07T06:05:51.793375Z",
     "iopub.status.idle": "2022-06-07T06:05:51.981524Z",
     "shell.execute_reply": "2022-06-07T06:05:51.981877Z"
    },
    "papermill": {
     "duration": 0.201523,
     "end_time": "2022-06-07T06:05:51.982014",
     "exception": false,
     "start_time": "2022-06-07T06:05:51.780491",
     "status": "completed"
    },
    "tags": []
   },
   "outputs": [
    {
     "data": {
      "application/scrapbook.scrap.json+json": {
       "data": 0.10967464000442226,
       "encoder": "json",
       "name": "ABC-GAN Model 1 MSE",
       "version": 1
      }
     },
     "metadata": {
      "scrapbook": {
       "data": true,
       "display": false,
       "name": "ABC-GAN Model 1 MSE"
      }
     },
     "output_type": "display_data"
    },
    {
     "data": {
      "application/scrapbook.scrap.json+json": {
       "data": 0.2432986808139831,
       "encoder": "json",
       "name": "ABC-GAN Model 1 MAE",
       "version": 1
      }
     },
     "metadata": {
      "scrapbook": {
       "data": true,
       "display": false,
       "name": "ABC-GAN Model 1 MAE"
      }
     },
     "output_type": "display_data"
    },
    {
     "data": {
      "application/scrapbook.scrap.json+json": {
       "data": 4.865973616279661,
       "encoder": "json",
       "name": "ABC-GAN Model 1 Manhattan Distance",
       "version": 1
      }
     },
     "metadata": {
      "scrapbook": {
       "data": true,
       "display": false,
       "name": "ABC-GAN Model 1 Manhattan Distance"
      }
     },
     "output_type": "display_data"
    },
    {
     "data": {
      "application/scrapbook.scrap.json+json": {
       "data": 1.479645087389396,
       "encoder": "json",
       "name": "ABC-GAN Model 1 Euclidean distance",
       "version": 1
      }
     },
     "metadata": {
      "scrapbook": {
       "data": true,
       "display": false,
       "name": "ABC-GAN Model 1 Euclidean distance"
      }
     },
     "output_type": "display_data"
    },
    {
     "data": {
      "application/scrapbook.scrap.json+json": {
       "data": [
        [
         0.12363629864010113,
         0.11999936730985974,
         0.10773091194231905,
         0.10607998131553534,
         0.10597559059445953,
         0.10606067653136801,
         0.1127484311306125,
         0.10793768965359626,
         0.09898401269705148,
         0.09984427677883974,
         0.11893054565563488,
         0.10842187789065831,
         0.10003721782402959,
         0.13082952988997093,
         0.08805028053803474,
         0.11211389153870581,
         0.11657509521253406,
         0.10014667089304777,
         0.1148760223619371,
         0.11724187603831585,
         0.10318480066266553,
         0.10904386124910381,
         0.10469509657540935,
         0.09666800988575043,
         0.11575704585388746,
         0.10611908778204242,
         0.12314422469074522,
         0.08751763063744925,
         0.10771546843069771,
         0.10680500129806296,
         0.11738529568380662,
         0.11337903404538152,
         0.11010055463659432,
         0.10887292701807323,
         0.104022182429318,
         0.10771420491821804,
         0.11613406390691491,
         0.0970001137474943,
         0.11845779548621187,
         0.11251358528332087,
         0.12242303566733323,
         0.1257497229975168,
         0.11841301866671676,
         0.11760650955772611,
         0.10744173158826786,
         0.10478994345406804,
         0.09732888666520892,
         0.11702332621365766,
         0.09480939507234719,
         0.1159250246092737,
         0.10165138606170117,
         0.115153303415605,
         0.11140537857530866,
         0.11782403973930297,
         0.11729556792394491,
         0.11599104153060247,
         0.11137172558719814,
         0.10677317505271407,
         0.11806828677759991,
         0.10294810495451859,
         0.08348389561370434,
         0.10990257418848708,
         0.11982716375899086,
         0.11901868817479908,
         0.12358545243223018,
         0.11553248367597328,
         0.11367729689987324,
         0.1046212356803738,
         0.1081508258291902,
         0.09184623485155954,
         0.09759862306208025,
         0.09880693535295541,
         0.11303639437887987,
         0.11740698895340176,
         0.10310482030888542,
         0.11958088548465806,
         0.10911922750785312,
         0.1011889258155931,
         0.12361709971693798,
         0.10381244310264245,
         0.11493587111972144,
         0.11200119399143357,
         0.12526386452617122,
         0.11582208511047712,
         0.10893892764702393,
         0.1055316174068226,
         0.10128803348358821,
         0.08695880156766592,
         0.10459387771526991,
         0.11089580948659554,
         0.12509464008357885,
         0.1037075507543044,
         0.09654098476752357,
         0.11925463795706834,
         0.10912931894600013,
         0.09996543839611097,
         0.12371325235511557,
         0.11679748975290238,
         0.10858778247055116,
         0.09908179534686053
        ],
        [
         0.2662243954837322,
         0.24369400180876255,
         0.2476829092949629,
         0.24797058030962943,
         0.23201970793306828,
         0.2298938099294901,
         0.2482066832482815,
         0.2399706844240427,
         0.2404574193060398,
         0.23742484636604785,
         0.242264792509377,
         0.24097618237137794,
         0.24790417607873677,
         0.2688363309949636,
         0.22106658145785332,
         0.2480295618996024,
         0.23718987740576267,
         0.24160595424473286,
         0.2455036949366331,
         0.25089922212064264,
         0.24402101002633572,
         0.2345486216247082,
         0.23003513626754285,
         0.22543161287903785,
         0.2429440189152956,
         0.24314326979219913,
         0.263097770139575,
         0.22598295621573924,
         0.2395988877862692,
         0.22935466691851616,
         0.24698001369833947,
         0.2475270126014948,
         0.25133807137608527,
         0.2458558313548565,
         0.23098152093589305,
         0.2295034795999527,
         0.24999899454414845,
         0.24198133312165737,
         0.24600681401789187,
         0.2425945445895195,
         0.2522448282688856,
         0.260811048746109,
         0.2496257871389389,
         0.2690175104886293,
         0.24688300378620626,
         0.23950703013688326,
         0.2291976485401392,
         0.25601113922894003,
         0.22583098337054253,
         0.22980056554079056,
         0.23572596088051795,
         0.2438239637762308,
         0.2622450888156891,
         0.259585278481245,
         0.25529738888144493,
         0.2606390457600355,
         0.2605598907917738,
         0.23684309050440788,
         0.25133163407444953,
         0.23739518895745276,
         0.2108095871284604,
         0.25676419883966445,
         0.26254215631634,
         0.2518899947404861,
         0.26380800232291224,
         0.24558100290596485,
         0.2544417127966881,
         0.22900587171316147,
         0.24781381525099277,
         0.22234005481004715,
         0.23866422139108182,
         0.22277308590710163,
         0.2560825921595097,
         0.2502279862761497,
         0.24528029449284078,
         0.26454170811921357,
         0.2408004455268383,
         0.22553459405899048,
         0.24494275823235512,
         0.23874566294252872,
         0.2658984618261456,
         0.24577833227813245,
         0.25474810414016247,
         0.24425580836832522,
         0.24891126435250044,
         0.2221733272075653,
         0.22172050699591636,
         0.22237726412713527,
         0.2345943409949541,
         0.24467366077005864,
         0.25906853638589383,
         0.23840029947459698,
         0.22853650711476803,
         0.23729227259755134,
         0.24298669695854186,
         0.2273187819868326,
         0.2509883090853691,
         0.23966075107455254,
         0.2371593937277794,
         0.2396126613020897
        ],
        [
         5.3244879096746445,
         4.873880036175251,
         4.953658185899258,
         4.959411606192589,
         4.6403941586613655,
         4.597876198589802,
         4.96413366496563,
         4.799413688480854,
         4.809148386120796,
         4.748496927320957,
         4.84529585018754,
         4.819523647427559,
         4.958083521574736,
         5.376726619899273,
         4.421331629157066,
         4.960591237992048,
         4.7437975481152534,
         4.832119084894657,
         4.910073898732662,
         5.017984442412853,
         4.880420200526714,
         4.6909724324941635,
         4.600702725350857,
         4.508632257580757,
         4.858880378305912,
         4.862865395843983,
         5.2619554027915,
         4.519659124314785,
         4.791977755725384,
         4.587093338370323,
         4.939600273966789,
         4.950540252029896,
         5.026761427521706,
         4.91711662709713,
         4.619630418717861,
         4.590069591999054,
         4.999979890882969,
         4.839626662433147,
         4.920136280357838,
         4.85189089179039,
         5.044896565377712,
         5.21622097492218,
         4.992515742778778,
         5.380350209772587,
         4.937660075724125,
         4.790140602737665,
         4.583952970802784,
         5.1202227845788,
         4.5166196674108505,
         4.596011310815811,
         4.714519217610359,
         4.876479275524616,
         5.244901776313782,
         5.191705569624901,
         5.105947777628899,
         5.21278091520071,
         5.211197815835476,
         4.736861810088158,
         5.026632681488991,
         4.7479037791490555,
         4.216191742569208,
         5.135283976793289,
         5.250843126326799,
         5.037799894809723,
         5.276160046458244,
         4.911620058119297,
         5.088834255933762,
         4.580117434263229,
         4.9562763050198555,
         4.446801096200943,
         4.773284427821636,
         4.455461718142033,
         5.121651843190193,
         5.004559725522995,
         4.905605889856815,
         5.290834162384272,
         4.816008910536766,
         4.51069188117981,
         4.898855164647102,
         4.7749132588505745,
         5.317969236522913,
         4.915566645562649,
         5.094962082803249,
         4.885116167366505,
         4.978225287050009,
         4.443466544151306,
         4.434410139918327,
         4.4475452825427055,
         4.691886819899082,
         4.893473215401173,
         5.181370727717876,
         4.7680059894919395,
         4.570730142295361,
         4.745845451951027,
         4.859733939170837,
         4.546375639736652,
         5.019766181707382,
         4.793215021491051,
         4.743187874555588,
         4.792253226041794
        ],
        [
         1.5724903728805537,
         1.5491892544802894,
         1.4678617914662064,
         1.4565711882056114,
         1.4558543237182733,
         1.456438646365634,
         1.501655294204449,
         1.469269816293769,
         1.4070111065450157,
         1.4131120039037226,
         1.5422745906980047,
         1.4725615633355253,
         1.4144767076486597,
         1.6175878949223805,
         1.3270288658355156,
         1.497423731204403,
         1.5269256380880771,
         1.415250302194264,
         1.5157573840291005,
         1.5312862308420059,
         1.436556999653446,
         1.4767793420081676,
         1.4470321114295241,
         1.3904532346379035,
         1.5215587129906454,
         1.4568396465091304,
         1.569357987781916,
         1.3230089239113185,
         1.4677565767571794,
         1.4615402922811465,
         1.532222540519533,
         1.505848824054935,
         1.4839174817798617,
         1.4756214082078996,
         1.4423743094586647,
         1.4677479682712427,
         1.5240345396802195,
         1.3928396443775881,
         1.539206259643014,
         1.5000905658214165,
         1.5647557999083004,
         1.5858734060290993,
         1.538915323640107,
         1.533665606041461,
         1.4658903887280785,
         1.4476874210551671,
         1.3951980982298458,
         1.5298583347072214,
         1.3770213874326513,
         1.522662304053487,
         1.4258428108434755,
         1.5175856049370329,
         1.4926846858952405,
         1.5350833185159884,
         1.5316368232968605,
         1.5230958048041658,
         1.4924592161074162,
         1.4613225178085367,
         1.5366735943433136,
         1.434908393971675,
         1.292160172840073,
         1.4825827072274051,
         1.5480772833356276,
         1.5428459947434745,
         1.5721669913354,
         1.5200821272284817,
         1.5078282189949441,
         1.4465215911307636,
         1.4707197274068924,
         1.3553319508634003,
         1.397130080286587,
         1.4057520076667536,
         1.5035717101547226,
         1.5323641143892777,
         1.4360001414267718,
         1.5464855995751015,
         1.477289595900906,
         1.422595696714939,
         1.5723682756716886,
         1.4409194502305982,
         1.5161521765292654,
         1.4966709323791492,
         1.5828067761174844,
         1.5219861044732117,
         1.4760686138999362,
         1.4528015515329173,
         1.423292194059872,
         1.3187782343340817,
         1.446332449440791,
         1.4892669974628159,
         1.5817372732763102,
         1.4401913119742418,
         1.3895393824395448,
         1.544374552736922,
         1.4773579048152152,
         1.4139691538086039,
         1.5729796715477005,
         1.5283814298328962,
         1.4736877720233086,
         1.407705902146187
        ]
       ],
       "encoder": "json",
       "name": "ABC_GAN_1 Metrics",
       "version": 1
      }
     },
     "metadata": {
      "scrapbook": {
       "data": true,
       "display": false,
       "name": "ABC_GAN_1 Metrics"
      }
     },
     "output_type": "display_data"
    },
    {
     "name": "stdout",
     "output_type": "stream",
     "text": [
      "MSE\n",
      "0.10967464000442226\n"
     ]
    }
   ],
   "source": [
    "ABC_GAN1_metrics=ABC_train_test2.test_generator(gen,test_data,prior_model,variance,bias,\"1\",device)\n",
    "sb.glue(\"ABC_GAN_1 Metrics\",ABC_GAN1_metrics)\n",
    "\n",
    "print(\"MSE\")\n",
    "print(mean(ABC_GAN1_metrics[0]))"
   ]
  },
  {
   "cell_type": "code",
   "execution_count": 14,
   "id": "eb22ce5c",
   "metadata": {
    "execution": {
     "iopub.execute_input": "2022-06-07T06:05:52.008335Z",
     "iopub.status.busy": "2022-06-07T06:05:52.007980Z",
     "iopub.status.idle": "2022-06-07T06:05:52.314418Z",
     "shell.execute_reply": "2022-06-07T06:05:52.314721Z"
    },
    "papermill": {
     "duration": 0.320678,
     "end_time": "2022-06-07T06:05:52.314859",
     "exception": false,
     "start_time": "2022-06-07T06:05:51.994181",
     "status": "completed"
    },
    "tags": []
   },
   "outputs": [
    {
     "data": {
      "image/png": "[encoded data removed]",
      "text/plain": [
       "<Figure size 432x288 with 1 Axes>"
      ]
     },
     "metadata": {
      "needs_background": "light"
     },
     "output_type": "display_data"
    },
    {
     "data": {
      "image/png": "[encoded data removed]",
      "text/plain": [
       "<Figure size 432x288 with 1 Axes>"
      ]
     },
     "metadata": {
      "needs_background": "light"
     },
     "output_type": "display_data"
    },
    {
     "data": {
      "image/png": "[encoded data removed]",
      "text/plain": [
       "<Figure size 432x288 with 1 Axes>"
      ]
     },
     "metadata": {
      "needs_background": "light"
     },
     "output_type": "display_data"
    },
    {
     "data": {
      "image/png": "[encoded data removed]",
      "text/plain": [
       "<Figure size 432x288 with 1 Axes>"
      ]
     },
     "metadata": {
      "needs_background": "light"
     },
     "output_type": "display_data"
    }
   ],
   "source": [
    "sanityChecks.discProbVsError(train_data,disc,device)\n",
    "sanityChecks.discProbVsError(test_data,disc,device)"
   ]
  },
  {
   "cell_type": "markdown",
   "id": "130f3a4d",
   "metadata": {
    "id": "130f3a4d",
    "papermill": {
     "duration": 0.035941,
     "end_time": "2022-06-07T06:05:52.365256",
     "exception": false,
     "start_time": "2022-06-07T06:05:52.329315",
     "status": "completed"
    },
    "tags": []
   },
   "source": [
    "# ABC - GAN Model with skip connection"
   ]
  },
  {
   "cell_type": "code",
   "execution_count": 15,
   "id": "4e43dad1",
   "metadata": {
    "execution": {
     "iopub.execute_input": "2022-06-07T06:05:52.397270Z",
     "iopub.status.busy": "2022-06-07T06:05:52.396897Z",
     "iopub.status.idle": "2022-06-07T06:05:52.399021Z",
     "shell.execute_reply": "2022-06-07T06:05:52.399307Z"
    },
    "id": "4e43dad1",
    "papermill": {
     "duration": 0.019837,
     "end_time": "2022-06-07T06:05:52.399420",
     "exception": false,
     "start_time": "2022-06-07T06:05:52.379583",
     "status": "completed"
    },
    "tags": []
   },
   "outputs": [],
   "source": [
    "#Generator\n",
    "gen3 = network.GeneratorWithSkipConnection(n_features+1).to(device)\n",
    "constraints=network.weightConstraint()\n",
    "#Discriminator \n",
    "disc3 = network.Discriminator(n_features+1).to(device)\n",
    "\n",
    "criterion = torch.nn.BCELoss()\n",
    "gen_opt = torch.optim.Adam(gen3.parameters(), lr=0.001, betas=(0.5, 0.999))\n",
    "disc_opt = torch.optim.Adam(disc3.parameters(), lr=0.001, betas=(0.5, 0.999))\n"
   ]
  },
  {
   "cell_type": "code",
   "execution_count": 16,
   "id": "26acbc37",
   "metadata": {
    "execution": {
     "iopub.execute_input": "2022-06-07T06:05:52.430195Z",
     "iopub.status.busy": "2022-06-07T06:05:52.429810Z",
     "iopub.status.idle": "2022-06-07T06:06:33.945460Z",
     "shell.execute_reply": "2022-06-07T06:06:33.945779Z"
    },
    "id": "26acbc37",
    "papermill": {
     "duration": 41.532262,
     "end_time": "2022-06-07T06:06:33.945908",
     "exception": false,
     "start_time": "2022-06-07T06:05:52.413646",
     "status": "completed"
    },
    "tags": []
   },
   "outputs": [
    {
     "data": {
      "image/png": "[encoded data removed]",
      "text/plain": [
       "<Figure size 432x288 with 1 Axes>"
      ]
     },
     "metadata": {
      "needs_background": "light"
     },
     "output_type": "display_data"
    },
    {
     "data": {
      "image/png": "[encoded data removed]",
      "text/plain": [
       "<Figure size 432x288 with 1 Axes>"
      ]
     },
     "metadata": {
      "needs_background": "light"
     },
     "output_type": "display_data"
    }
   ],
   "source": [
    "ABC_train_test2.training_GAN_skip_connection(disc3,gen3,disc_opt,gen_opt,train_data,batch_size,n_epochs,criterion,prior_model,variance,bias,device)"
   ]
  },
  {
   "cell_type": "code",
   "execution_count": 17,
   "id": "c5e0717b",
   "metadata": {
    "execution": {
     "iopub.execute_input": "2022-06-07T06:06:33.986546Z",
     "iopub.status.busy": "2022-06-07T06:06:33.986015Z",
     "iopub.status.idle": "2022-06-07T06:06:34.311440Z",
     "shell.execute_reply": "2022-06-07T06:06:34.311692Z"
    },
    "id": "c5e0717b",
    "papermill": {
     "duration": 0.349838,
     "end_time": "2022-06-07T06:06:34.311824",
     "exception": false,
     "start_time": "2022-06-07T06:06:33.961986",
     "status": "completed"
    },
    "tags": []
   },
   "outputs": [
    {
     "data": {
      "application/scrapbook.scrap.json+json": {
       "data": 0.10441903804698814,
       "encoder": "json",
       "name": "ABC-GAN Model 3 MSE",
       "version": 1
      }
     },
     "metadata": {
      "scrapbook": {
       "data": true,
       "display": false,
       "name": "ABC-GAN Model 3 MSE"
      }
     },
     "output_type": "display_data"
    },
    {
     "data": {
      "application/scrapbook.scrap.json+json": {
       "data": 0.24953469145856796,
       "encoder": "json",
       "name": "ABC-GAN Model 3 MAE",
       "version": 1
      }
     },
     "metadata": {
      "scrapbook": {
       "data": true,
       "display": false,
       "name": "ABC-GAN Model 3 MAE"
      }
     },
     "output_type": "display_data"
    },
    {
     "data": {
      "application/scrapbook.scrap.json+json": {
       "data": 4.990693829171359,
       "encoder": "json",
       "name": "ABC-GAN Model 3 Manhattan Distance",
       "version": 1
      }
     },
     "metadata": {
      "scrapbook": {
       "data": true,
       "display": false,
       "name": "ABC-GAN Model 3 Manhattan Distance"
      }
     },
     "output_type": "display_data"
    },
    {
     "data": {
      "application/scrapbook.scrap.json+json": {
       "data": 1.4436254267796145,
       "encoder": "json",
       "name": "ABC-GAN Model 3 Euclidean distance",
       "version": 1
      }
     },
     "metadata": {
      "scrapbook": {
       "data": true,
       "display": false,
       "name": "ABC-GAN Model 3 Euclidean distance"
      }
     },
     "output_type": "display_data"
    },
    {
     "data": {
      "application/scrapbook.scrap.json+json": {
       "data": [
        [
         0.09796224758105221,
         0.1006624998722669,
         0.1033515417310678,
         0.10165706363514708,
         0.10434160508131521,
         0.10504641332715758,
         0.09314617490759167,
         0.11675236274927285,
         0.11227435582042081,
         0.10311296153730762,
         0.10627183812406585,
         0.10302197972697154,
         0.11188927372888706,
         0.11007136506620249,
         0.10810706717395875,
         0.1031952850184406,
         0.10622534186541248,
         0.09620551934720999,
         0.10328631589933793,
         0.10655918736473016,
         0.09994994940766921,
         0.10191930381098464,
         0.09975316823585706,
         0.10156272283141451,
         0.08659597620593265,
         0.10814104393080477,
         0.0864032390033122,
         0.10534222379767517,
         0.10763053332547497,
         0.08499269609934842,
         0.1080888867280739,
         0.09005837336883361,
         0.10568492980935755,
         0.0925445541278601,
         0.10965627660260133,
         0.10496331005430277,
         0.10244486718470366,
         0.1069451655751826,
         0.12080746769301225,
         0.09200325213554021,
         0.11297108845738238,
         0.11333022076361035,
         0.1121393891552556,
         0.09920446344513609,
         0.10592708117677825,
         0.10182601826865909,
         0.10285625186623659,
         0.10471856908746838,
         0.11695559893599486,
         0.1090117934225728,
         0.10076907435869212,
         0.09112334413143341,
         0.10400193609264848,
         0.11603049681113664,
         0.10432391565499081,
         0.08130059651259777,
         0.10872847663727722,
         0.11611047283282336,
         0.10959410003297583,
         0.1052980726591344,
         0.09975398464005535,
         0.10874374493220654,
         0.08991221627111652,
         0.11292171342115945,
         0.1210390695999124,
         0.11577998997618506,
         0.1088743088225693,
         0.10647085915449028,
         0.09210774351581867,
         0.10863718110355225,
         0.10408754111428982,
         0.11526947068290272,
         0.1159619898683101,
         0.11590936244267809,
         0.08947502461172352,
         0.13865340752906713,
         0.0924038308103418,
         0.08305192337056463,
         0.12447781943505047,
         0.09970841012526704,
         0.1062908557513869,
         0.11197469259371022,
         0.10318753866422503,
         0.11934906842893475,
         0.09320855958879568,
         0.1142114654941786,
         0.09381302863285211,
         0.08986459430488622,
         0.1025440292963015,
         0.09901530016436469,
         0.10723893261409664,
         0.11263997831610366,
         0.10452303174782229,
         0.09630352500880628,
         0.09605978336867377,
         0.10331068933883514,
         0.11251648274854986,
         0.09491769637619343,
         0.10158184844258296,
         0.1112638126016909
        ],
        [
         0.2513408474624157,
         0.23889816962182522,
         0.257904888689518,
         0.24515008963644505,
         0.247949605807662,
         0.2497586738318205,
         0.23243964239954948,
         0.25117014944553373,
         0.26812552772462367,
         0.2522538032382727,
         0.24367747958749533,
         0.24389223121106623,
         0.24710668958723545,
         0.24518126025795936,
         0.2564989533275366,
         0.2432400807738304,
         0.2478869143873453,
         0.24132593981921674,
         0.2454594861716032,
         0.2635361488908529,
         0.2468084592372179,
         0.24444206692278386,
         0.2401046898216009,
         0.23807164542376996,
         0.23495820499956607,
         0.25061632953584195,
         0.24147897753864528,
         0.23188466466963292,
         0.2530142217874527,
         0.2258366307243705,
         0.25175343044102194,
         0.2359045710414648,
         0.25826944671571256,
         0.23570323996245862,
         0.24879605509340763,
         0.25168396942317484,
         0.252555500715971,
         0.2514970999211073,
         0.2812972359359264,
         0.23513758480548858,
         0.2460224863141775,
         0.26913819648325443,
         0.2583601962774992,
         0.24791211672127247,
         0.24811471663415433,
         0.24804218411445617,
         0.25089322291314603,
         0.25137861743569373,
         0.2735346868634224,
         0.2608462892472744,
         0.24440389908850194,
         0.2269990462809801,
         0.22864171899855137,
         0.26489414758980273,
         0.2565287444740534,
         0.2100628472864628,
         0.2580678954720497,
         0.2730157312005758,
         0.2564366202801466,
         0.2609942857176065,
         0.23815675117075444,
         0.2477792102843523,
         0.23291588798165322,
         0.26194892935454844,
         0.2713914092630148,
         0.25958258882164953,
         0.2526212651282549,
         0.257445140555501,
         0.23328367210924625,
         0.252650710567832,
         0.2597492944449186,
         0.26529058888554574,
         0.2518379110842943,
         0.2703256357461214,
         0.23697670735418797,
         0.290236615948379,
         0.22809642404317856,
         0.22072755806148053,
         0.28001784160733223,
         0.24383577667176723,
         0.24540414810180664,
         0.25076584666967394,
         0.24715282209217548,
         0.27920083813369273,
         0.22933869287371636,
         0.26421340480446814,
         0.2385826651006937,
         0.24033204689621926,
         0.25126173682510855,
         0.2396695628762245,
         0.2441861517727375,
         0.260321981087327,
         0.24653212688863277,
         0.25398763455450535,
         0.23235829435288907,
         0.2547658797353506,
         0.2573897287249565,
         0.24088831152766943,
         0.253590989112854,
         0.25175810866057874
        ],
        [
         5.026816949248314,
         4.777963392436504,
         5.1580977737903595,
         4.903001792728901,
         4.95899211615324,
         4.99517347663641,
         4.64879284799099,
         5.023402988910675,
         5.362510554492474,
         5.045076064765453,
         4.8735495917499065,
         4.877844624221325,
         4.942133791744709,
         4.903625205159187,
         5.129979066550732,
         4.864801615476608,
         4.957738287746906,
         4.826518796384335,
         4.909189723432064,
         5.270722977817059,
         4.936169184744358,
         4.888841338455677,
         4.802093796432018,
         4.761432908475399,
         4.699164099991322,
         5.012326590716839,
         4.829579550772905,
         4.637693293392658,
         5.060284435749054,
         4.51673261448741,
         5.035068608820438,
         4.718091420829296,
         5.165388934314251,
         4.714064799249172,
         4.975921101868153,
         5.033679388463497,
         5.05111001431942,
         5.029941998422146,
         5.625944718718529,
         4.702751696109772,
         4.92044972628355,
         5.382763929665089,
         5.167203925549984,
         4.958242334425449,
         4.962294332683086,
         4.9608436822891235,
         5.01786445826292,
         5.027572348713875,
         5.470693737268448,
         5.216925784945488,
         4.888077981770039,
         4.539980925619602,
         4.572834379971027,
         5.297882951796055,
         5.130574889481068,
         4.201256945729256,
         5.161357909440994,
         5.460314624011517,
         5.128732405602932,
         5.219885714352131,
         4.763135023415089,
         4.955584205687046,
         4.658317759633064,
         5.238978587090969,
         5.427828185260296,
         5.191651776432991,
         5.052425302565098,
         5.14890281111002,
         4.665673442184925,
         5.05301421135664,
         5.194985888898373,
         5.305811777710915,
         5.036758221685886,
         5.406512714922428,
         4.739534147083759,
         5.804732318967581,
         4.561928480863571,
         4.41455116122961,
         5.600356832146645,
         4.876715533435345,
         4.908082962036133,
         5.015316933393478,
         4.94305644184351,
         5.584016762673855,
         4.586773857474327,
         5.284268096089363,
         4.771653302013874,
         4.806640937924385,
         5.025234736502171,
         4.79339125752449,
         4.88372303545475,
         5.20643962174654,
         4.9306425377726555,
         5.079752691090107,
         4.647165887057781,
         5.095317594707012,
         5.14779457449913,
         4.817766230553389,
         5.07181978225708,
         5.0351621732115746
        ],
        [
         1.399730313889445,
         1.41889041065381,
         1.4377172304112362,
         1.425882629357319,
         1.4445871734257867,
         1.449457921618683,
         1.3648895552944325,
         1.528086141218962,
         1.498494950411384,
         1.4360568340933282,
         1.4578877743095717,
         1.4354231412860219,
         1.4959229507490488,
         1.4837207625844056,
         1.4704221650530078,
         1.4366299803250704,
         1.4575688104882902,
         1.387123061211297,
         1.4372634824508548,
         1.4598574407436513,
         1.41385960694596,
         1.4277205875869734,
         1.412467119871164,
         1.4252208448616974,
         1.3160241350821242,
         1.4706532149409308,
         1.3145587777145016,
         1.4514973220621192,
         1.4671777896729146,
         1.3037844614762706,
         1.4702985188598532,
         1.3420758053763848,
         1.4538564565276557,
         1.3604745799011468,
         1.4809205015975795,
         1.4488844678186235,
         1.431396990249062,
         1.462498995385519,
         1.5543967813464634,
         1.3564899714744685,
         1.503137308813685,
         1.5055246312406207,
         1.497593998086635,
         1.4085770369073614,
         1.4555210831642271,
         1.4270670500621832,
         1.4342681190505253,
         1.4471943137496663,
         1.5294155676989487,
         1.4765621789994001,
         1.4196413234242804,
         1.3499877342511926,
         1.4422339345102686,
         1.5233548293889814,
         1.4444647150760783,
         1.2751517283256748,
         1.4746421710861062,
         1.5238797382524867,
         1.4805005912391649,
         1.4511931136767042,
         1.4124728998466154,
         1.4747457064335296,
         1.340986325591104,
         1.5028087930349585,
         1.5558860472406866,
         1.5217094990581157,
         1.475630772399175,
         1.4592522684888332,
         1.3572600599429623,
         1.4740229381088494,
         1.4428273709234227,
         1.518350886211107,
         1.522905051986565,
         1.5225594401709122,
         1.3377221281845009,
         1.6652531791236258,
         1.3594398170595254,
         1.288812813177807,
         1.5778328139258002,
         1.4121502053624964,
         1.4580182149163083,
         1.496493852935656,
         1.4365760589973997,
         1.5449858797344056,
         1.3653465464034813,
         1.5113667026514683,
         1.369766612477119,
         1.3406311521435434,
         1.4320895872556403,
         1.4072334572796703,
         1.464506282773117,
         1.5009328986740458,
         1.4458425346338535,
         1.3878294204174104,
         1.386072028205416,
         1.4374330547113152,
         1.5001098809657236,
         1.3778076525857552,
         1.4253550325626452,
         1.4917359860356718
        ]
       ],
       "encoder": "json",
       "name": "ABC_GAN_3 Metrics",
       "version": 1
      }
     },
     "metadata": {
      "scrapbook": {
       "data": true,
       "display": false,
       "name": "ABC_GAN_3 Metrics"
      }
     },
     "output_type": "display_data"
    },
    {
     "name": "stdout",
     "output_type": "stream",
     "text": [
      "MSE\n",
      "0.10441903804698814\n"
     ]
    }
   ],
   "source": [
    "ABC_GAN3_metrics=ABC_train_test2.test_generator(gen3,test_data,prior_model,variance,bias,\"3\",device)\n",
    "sb.glue(\"ABC_GAN_3 Metrics\",ABC_GAN3_metrics)\n",
    "\n",
    "print(\"MSE\")\n",
    "print(mean(ABC_GAN3_metrics[0]))"
   ]
  },
  {
   "cell_type": "code",
   "execution_count": 18,
   "id": "c8e46b48",
   "metadata": {
    "execution": {
     "iopub.execute_input": "2022-06-07T06:06:34.350068Z",
     "iopub.status.busy": "2022-06-07T06:06:34.349692Z",
     "iopub.status.idle": "2022-06-07T06:06:34.674036Z",
     "shell.execute_reply": "2022-06-07T06:06:34.674568Z"
    },
    "id": "c8e46b48",
    "papermill": {
     "duration": 0.345211,
     "end_time": "2022-06-07T06:06:34.674701",
     "exception": false,
     "start_time": "2022-06-07T06:06:34.329490",
     "status": "completed"
    },
    "tags": []
   },
   "outputs": [
    {
     "data": {
      "image/png": "[encoded data removed]",
      "text/plain": [
       "<Figure size 432x288 with 1 Axes>"
      ]
     },
     "metadata": {
      "needs_background": "light"
     },
     "output_type": "display_data"
    },
    {
     "data": {
      "image/png": "[encoded data removed]",
      "text/plain": [
       "<Figure size 432x288 with 1 Axes>"
      ]
     },
     "metadata": {
      "needs_background": "light"
     },
     "output_type": "display_data"
    },
    {
     "data": {
      "image/png": "[encoded data removed]",
      "text/plain": [
       "<Figure size 432x288 with 1 Axes>"
      ]
     },
     "metadata": {
      "needs_background": "light"
     },
     "output_type": "display_data"
    },
    {
     "data": {
      "image/png": "[encoded data removed]",
      "text/plain": [
       "<Figure size 432x288 with 1 Axes>"
      ]
     },
     "metadata": {
      "needs_background": "light"
     },
     "output_type": "display_data"
    }
   ],
   "source": [
    "sanityChecks.discProbVsError(train_data,disc3,device)\n",
    "sanityChecks.discProbVsError(test_data,disc3,device)"
   ]
  },
  {
   "cell_type": "markdown",
   "id": "a5bd74c3",
   "metadata": {
    "id": "a5bd74c3",
    "papermill": {
     "duration": 0.019907,
     "end_time": "2022-06-07T06:06:34.714659",
     "exception": false,
     "start_time": "2022-06-07T06:06:34.694752",
     "status": "completed"
    },
    "tags": []
   },
   "source": [
    "## Skip Connection Model Analysis - ABC-GAN "
   ]
  },
  {
   "cell_type": "markdown",
   "id": "5744a8bf",
   "metadata": {
    "id": "5744a8bf",
    "papermill": {
     "duration": 0.019974,
     "end_time": "2022-06-07T06:06:34.754656",
     "exception": false,
     "start_time": "2022-06-07T06:06:34.734682",
     "status": "completed"
    },
    "tags": []
   },
   "source": [
    "### Weight Analysis \n",
    "\n",
    "Study the weights of the skip connection layer\n",
    "\n",
    "Equation of the skip connection is \n",
    "\n",
    "$output = y_{gan} * w + y_{abc} * (1-w)$"
   ]
  },
  {
   "cell_type": "code",
   "execution_count": 19,
   "id": "52c31dea",
   "metadata": {
    "execution": {
     "iopub.execute_input": "2022-06-07T06:06:34.797616Z",
     "iopub.status.busy": "2022-06-07T06:06:34.797165Z",
     "iopub.status.idle": "2022-06-07T06:06:34.800724Z",
     "shell.execute_reply": "2022-06-07T06:06:34.800976Z"
    },
    "id": "52c31dea",
    "papermill": {
     "duration": 0.026285,
     "end_time": "2022-06-07T06:06:34.801096",
     "exception": false,
     "start_time": "2022-06-07T06:06:34.774811",
     "status": "completed"
    },
    "tags": []
   },
   "outputs": [
    {
     "name": "stdout",
     "output_type": "stream",
     "text": [
      "Weight of the node at skip connection\n",
      "Parameter containing:\n",
      "tensor([[0.1306]], requires_grad=True)\n"
     ]
    },
    {
     "data": {
      "application/scrapbook.scrap.json+json": {
       "data": 0.13058744370937347,
       "encoder": "json",
       "name": "Skip Connection Weight",
       "version": 1
      }
     },
     "metadata": {
      "scrapbook": {
       "data": true,
       "display": false,
       "name": "Skip Connection Weight"
      }
     },
     "output_type": "display_data"
    }
   ],
   "source": [
    "print(\"Weight of the node at skip connection\")\n",
    "for name,param in gen3.named_parameters():\n",
    "    if(name == \"skipNode.weight\"):\n",
    "        print(param)\n",
    "        sb.glue(\"Skip Connection Weight\",param.item())"
   ]
  }
 ],
 "metadata": {
  "colab": {
   "collapsed_sections": [],
   "name": "ABC_GAN_Model-Catboost_Pre-gen.ipynb",
   "provenance": []
  },
  "interpreter": {
   "hash": "31f2aee4e71d21fbe5cf8b01ff0e069b9275f58929596ceb00d14d90e3e16cd6"
  },
  "kernelspec": {
   "display_name": "Python 3 (ipykernel)",
   "language": "python",
   "name": "python3"
  },
  "language_info": {
   "codemirror_mode": {
    "name": "ipython",
    "version": 3
   },
   "file_extension": ".py",
   "mimetype": "text/x-python",
   "name": "python",
   "nbconvert_exporter": "python",
   "pygments_lexer": "ipython3",
   "version": "3.8.11"
  },
  "papermill": {
   "default_parameters": {},
   "duration": 62.406473,
   "end_time": "2022-06-07T06:06:35.232037",
   "environment_variables": {},
   "exception": null,
   "input_path": "ABC_GAN-Catboost.ipynb",
   "output_path": "./ABC_GAN_Catboost/ABC-GAN_output_2_4.ipynb",
   "parameters": {
    "bias": 0.1,
    "variance": 0.1
   },
   "start_time": "2022-06-07T06:05:32.825564",
   "version": "2.3.3"
  }
 },
 "nbformat": 4,
 "nbformat_minor": 5
}