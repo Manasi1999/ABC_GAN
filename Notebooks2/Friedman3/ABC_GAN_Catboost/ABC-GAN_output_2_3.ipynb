{
 "cells": [
  {
   "cell_type": "markdown",
   "id": "622780e6",
   "metadata": {
    "id": "622780e6",
    "papermill": {
     "duration": 0.028101,
     "end_time": "2022-06-07T06:04:31.215989",
     "exception": false,
     "start_time": "2022-06-07T06:04:31.187888",
     "status": "completed"
    },
    "tags": []
   },
   "source": [
    "## Import Libraries "
   ]
  },
  {
   "cell_type": "code",
   "execution_count": 1,
   "id": "a62397e3",
   "metadata": {
    "execution": {
     "iopub.execute_input": "2022-06-07T06:04:31.246297Z",
     "iopub.status.busy": "2022-06-07T06:04:31.245642Z",
     "iopub.status.idle": "2022-06-07T06:04:31.248204Z",
     "shell.execute_reply": "2022-06-07T06:04:31.248551Z"
    },
    "id": "a62397e3",
    "papermill": {
     "duration": 0.021586,
     "end_time": "2022-06-07T06:04:31.248773",
     "exception": false,
     "start_time": "2022-06-07T06:04:31.227187",
     "status": "completed"
    },
    "tags": []
   },
   "outputs": [],
   "source": [
    "import warnings\n",
    "import sys\n",
    "sys.path.insert(0, '../../src')\n",
    "warnings.filterwarnings('ignore')"
   ]
  },
  {
   "cell_type": "code",
   "execution_count": 2,
   "id": "d6a4e155",
   "metadata": {
    "execution": {
     "iopub.execute_input": "2022-06-07T06:04:31.272698Z",
     "iopub.status.busy": "2022-06-07T06:04:31.272227Z",
     "iopub.status.idle": "2022-06-07T06:04:33.295339Z",
     "shell.execute_reply": "2022-06-07T06:04:33.295609Z"
    },
    "id": "d6a4e155",
    "papermill": {
     "duration": 2.036525,
     "end_time": "2022-06-07T06:04:33.295743",
     "exception": false,
     "start_time": "2022-06-07T06:04:31.259218",
     "status": "completed"
    },
    "tags": []
   },
   "outputs": [],
   "source": [
    "import ABC_train_test2\n",
    "import friedman1Dataset\n",
    "import network\n",
    "import dataset\n",
    "import sanityChecks\n",
    "import torch \n",
    "import scrapbook as sb\n",
    "from statistics import mean \n",
    "import catboost as ctb \n",
    "from sklearn.model_selection import train_test_split\n",
    "from sklearn.metrics import mean_squared_error,mean_absolute_error\n",
    "import numpy as np"
   ]
  },
  {
   "cell_type": "markdown",
   "id": "2fa5b0f7",
   "metadata": {
    "id": "2fa5b0f7",
    "papermill": {
     "duration": 0.007174,
     "end_time": "2022-06-07T06:04:33.310221",
     "exception": false,
     "start_time": "2022-06-07T06:04:33.303047",
     "status": "completed"
    },
    "tags": []
   },
   "source": [
    "## Parameters "
   ]
  },
  {
   "cell_type": "code",
   "execution_count": 3,
   "id": "783186fb",
   "metadata": {
    "execution": {
     "iopub.execute_input": "2022-06-07T06:04:33.328731Z",
     "iopub.status.busy": "2022-06-07T06:04:33.328277Z",
     "iopub.status.idle": "2022-06-07T06:04:33.329474Z",
     "shell.execute_reply": "2022-06-07T06:04:33.329747Z"
    },
    "id": "783186fb",
    "papermill": {
     "duration": 0.012307,
     "end_time": "2022-06-07T06:04:33.329872",
     "exception": false,
     "start_time": "2022-06-07T06:04:33.317565",
     "status": "completed"
    },
    "tags": [
     "parameters"
    ]
   },
   "outputs": [],
   "source": [
    "variance = 1\n",
    "bias = 1 "
   ]
  },
  {
   "cell_type": "code",
   "execution_count": 4,
   "id": "fc8efbf0",
   "metadata": {
    "execution": {
     "iopub.execute_input": "2022-06-07T06:04:33.346720Z",
     "iopub.status.busy": "2022-06-07T06:04:33.346331Z",
     "iopub.status.idle": "2022-06-07T06:04:33.347612Z",
     "shell.execute_reply": "2022-06-07T06:04:33.347863Z"
    },
    "papermill": {
     "duration": 0.011019,
     "end_time": "2022-06-07T06:04:33.347983",
     "exception": false,
     "start_time": "2022-06-07T06:04:33.336964",
     "status": "completed"
    },
    "tags": [
     "injected-parameters"
    ]
   },
   "outputs": [],
   "source": [
    "# Parameters\n",
    "variance = 1\n",
    "bias = 0.1\n"
   ]
  },
  {
   "cell_type": "markdown",
   "id": "391cdbfd",
   "metadata": {
    "id": "391cdbfd",
    "papermill": {
     "duration": 0.00733,
     "end_time": "2022-06-07T06:04:33.362420",
     "exception": false,
     "start_time": "2022-06-07T06:04:33.355090",
     "status": "completed"
    },
    "tags": []
   },
   "source": [
    "## Dataset \n"
   ]
  },
  {
   "cell_type": "code",
   "execution_count": 5,
   "id": "5b51f161",
   "metadata": {
    "execution": {
     "iopub.execute_input": "2022-06-07T06:04:33.381804Z",
     "iopub.status.busy": "2022-06-07T06:04:33.381428Z",
     "iopub.status.idle": "2022-06-07T06:04:33.382623Z",
     "shell.execute_reply": "2022-06-07T06:04:33.382916Z"
    },
    "id": "5b51f161",
    "papermill": {
     "duration": 0.013634,
     "end_time": "2022-06-07T06:04:33.383036",
     "exception": false,
     "start_time": "2022-06-07T06:04:33.369402",
     "status": "completed"
    },
    "tags": []
   },
   "outputs": [],
   "source": [
    "#Parameters \n",
    "n_features = 5\n",
    "n_samples= 100\n",
    "n_target = 1 "
   ]
  },
  {
   "cell_type": "code",
   "execution_count": 6,
   "id": "5d6eced4",
   "metadata": {
    "execution": {
     "iopub.execute_input": "2022-06-07T06:04:33.401720Z",
     "iopub.status.busy": "2022-06-07T06:04:33.401343Z",
     "iopub.status.idle": "2022-06-07T06:04:33.406416Z",
     "shell.execute_reply": "2022-06-07T06:04:33.406669Z"
    },
    "id": "5d6eced4",
    "papermill": {
     "duration": 0.01661,
     "end_time": "2022-06-07T06:04:33.406784",
     "exception": false,
     "start_time": "2022-06-07T06:04:33.390174",
     "status": "completed"
    },
    "tags": []
   },
   "outputs": [
    {
     "name": "stdout",
     "output_type": "stream",
     "text": [
      "         X0        X1        X2        X3        X4         Y\n",
      "0  0.025960 -1.862110  1.645564 -1.054553  1.475795 -0.666821\n",
      "1  0.818216 -1.632497 -1.195855 -1.241150 -0.740468 -1.577614\n",
      "2 -1.628874 -0.201022  0.030938 -0.529946  0.888603 -1.413747\n",
      "3 -1.055485 -0.464610 -1.694242 -0.669188 -0.048608 -0.459202\n",
      "4  0.201269 -1.817206 -1.651855  1.189348  0.059243  0.281262\n"
     ]
    }
   ],
   "source": [
    "X,Y = friedman1Dataset.friedman1_data(n_samples,n_features)"
   ]
  },
  {
   "cell_type": "code",
   "execution_count": 7,
   "id": "fe007438",
   "metadata": {
    "execution": {
     "iopub.execute_input": "2022-06-07T06:04:33.425600Z",
     "iopub.status.busy": "2022-06-07T06:04:33.425146Z",
     "iopub.status.idle": "2022-06-07T06:04:33.426520Z",
     "shell.execute_reply": "2022-06-07T06:04:33.426772Z"
    },
    "id": "fe007438",
    "papermill": {
     "duration": 0.012034,
     "end_time": "2022-06-07T06:04:33.426938",
     "exception": false,
     "start_time": "2022-06-07T06:04:33.414904",
     "status": "completed"
    },
    "tags": []
   },
   "outputs": [],
   "source": [
    "#Train test split for dataset \n",
    "X_train,X_test,Y_train,Y_test = train_test_split(X,Y,test_size = 0.2)\n",
    "train_data = dataset.CustomDataset(X_train,Y_train)\n",
    "test_data = dataset.CustomDataset(X_test,Y_test)\n"
   ]
  },
  {
   "cell_type": "markdown",
   "id": "a9a1af34",
   "metadata": {
    "id": "a9a1af34",
    "papermill": {
     "duration": 0.007184,
     "end_time": "2022-06-07T06:04:33.441716",
     "exception": false,
     "start_time": "2022-06-07T06:04:33.434532",
     "status": "completed"
    },
    "tags": []
   },
   "source": [
    "## Training Parameters "
   ]
  },
  {
   "cell_type": "code",
   "execution_count": 8,
   "id": "952b7fc8",
   "metadata": {
    "execution": {
     "iopub.execute_input": "2022-06-07T06:04:33.459508Z",
     "iopub.status.busy": "2022-06-07T06:04:33.459058Z",
     "iopub.status.idle": "2022-06-07T06:04:33.460488Z",
     "shell.execute_reply": "2022-06-07T06:04:33.460762Z"
    },
    "id": "952b7fc8",
    "papermill": {
     "duration": 0.01161,
     "end_time": "2022-06-07T06:04:33.460903",
     "exception": false,
     "start_time": "2022-06-07T06:04:33.449293",
     "status": "completed"
    },
    "tags": []
   },
   "outputs": [],
   "source": [
    "batch_size = 32\n",
    "n_epochs = 1000\n",
    "#Select the device \n",
    "device = torch.device('cuda' if torch.cuda.is_available() else 'cpu')"
   ]
  },
  {
   "cell_type": "markdown",
   "id": "a95e1600",
   "metadata": {
    "id": "a95e1600",
    "papermill": {
     "duration": 0.00917,
     "end_time": "2022-06-07T06:04:33.489677",
     "exception": false,
     "start_time": "2022-06-07T06:04:33.480507",
     "status": "completed"
    },
    "tags": []
   },
   "source": [
    "# ABC Pre-generator Model \n",
    "\n",
    "1. The catboost model is used as a pre-generator model for the ABC-GAN. \n",
    "2. The model is first trained on the entire dataset \n",
    "3. It generats X,Y pairs and we add some Gaussian noise with mean 0 and variance 1 to it which is then feed as input to the generator.\n"
   ]
  },
  {
   "cell_type": "code",
   "execution_count": 9,
   "id": "ff8ce7bd",
   "metadata": {
    "execution": {
     "iopub.execute_input": "2022-06-07T06:04:33.525378Z",
     "iopub.status.busy": "2022-06-07T06:04:33.524944Z",
     "iopub.status.idle": "2022-06-07T06:04:34.170517Z",
     "shell.execute_reply": "2022-06-07T06:04:34.170775Z"
    },
    "id": "ff8ce7bd",
    "papermill": {
     "duration": 0.67297,
     "end_time": "2022-06-07T06:04:34.170904",
     "exception": false,
     "start_time": "2022-06-07T06:04:33.497934",
     "status": "completed"
    },
    "tags": []
   },
   "outputs": [
    {
     "name": "stdout",
     "output_type": "stream",
     "text": [
      "Learning rate set to 0.024897\n",
      "0:\tlearn: 1.0406989\ttotal: 57.5ms\tremaining: 57.4s\n",
      "1:\tlearn: 1.0301776\ttotal: 58.1ms\tremaining: 29s\n",
      "2:\tlearn: 1.0184453\ttotal: 58.6ms\tremaining: 19.5s\n",
      "3:\tlearn: 1.0068814\ttotal: 59.2ms\tremaining: 14.7s\n",
      "4:\tlearn: 0.9979496\ttotal: 59.7ms\tremaining: 11.9s\n",
      "5:\tlearn: 0.9885369\ttotal: 60.3ms\tremaining: 9.99s\n",
      "6:\tlearn: 0.9762437\ttotal: 60.8ms\tremaining: 8.63s\n",
      "7:\tlearn: 0.9667005\ttotal: 61.4ms\tremaining: 7.62s\n",
      "8:\tlearn: 0.9566414\ttotal: 61.9ms\tremaining: 6.82s\n",
      "9:\tlearn: 0.9470398\ttotal: 62.4ms\tremaining: 6.18s\n",
      "10:\tlearn: 0.9381083\ttotal: 63.1ms\tremaining: 5.67s\n",
      "11:\tlearn: 0.9263552\ttotal: 63.8ms\tremaining: 5.25s\n",
      "12:\tlearn: 0.9161683\ttotal: 64.5ms\tremaining: 4.9s\n",
      "13:\tlearn: 0.9063474\ttotal: 65.3ms\tremaining: 4.6s\n",
      "14:\tlearn: 0.8992966\ttotal: 65.9ms\tremaining: 4.33s\n",
      "15:\tlearn: 0.8908110\ttotal: 66.4ms\tremaining: 4.08s\n",
      "16:\tlearn: 0.8825431\ttotal: 67ms\tremaining: 3.87s\n",
      "17:\tlearn: 0.8737716\ttotal: 67.4ms\tremaining: 3.68s\n",
      "18:\tlearn: 0.8666401\ttotal: 67.8ms\tremaining: 3.5s\n",
      "19:\tlearn: 0.8582143\ttotal: 68.4ms\tremaining: 3.35s\n",
      "20:\tlearn: 0.8504164\ttotal: 68.9ms\tremaining: 3.21s\n",
      "21:\tlearn: 0.8417564\ttotal: 69.5ms\tremaining: 3.09s\n",
      "22:\tlearn: 0.8324132\ttotal: 69.9ms\tremaining: 2.97s\n",
      "23:\tlearn: 0.8243085\ttotal: 70.3ms\tremaining: 2.86s\n",
      "24:\tlearn: 0.8149182\ttotal: 70.8ms\tremaining: 2.76s\n",
      "25:\tlearn: 0.8064286\ttotal: 71.3ms\tremaining: 2.67s\n",
      "26:\tlearn: 0.7990463\ttotal: 71.7ms\tremaining: 2.58s\n",
      "27:\tlearn: 0.7906911\ttotal: 72.1ms\tremaining: 2.5s\n",
      "28:\tlearn: 0.7836358\ttotal: 72.5ms\tremaining: 2.43s\n",
      "29:\tlearn: 0.7775236\ttotal: 72.9ms\tremaining: 2.36s\n",
      "30:\tlearn: 0.7712950\ttotal: 73.4ms\tremaining: 2.29s\n",
      "31:\tlearn: 0.7630115\ttotal: 73.8ms\tremaining: 2.23s\n",
      "32:\tlearn: 0.7551164\ttotal: 74.4ms\tremaining: 2.18s\n",
      "33:\tlearn: 0.7489989\ttotal: 74.8ms\tremaining: 2.12s\n"
     ]
    },
    {
     "name": "stdout",
     "output_type": "stream",
     "text": [
      "34:\tlearn: 0.7426048\ttotal: 75.5ms\tremaining: 2.08s\n",
      "35:\tlearn: 0.7387315\ttotal: 76.1ms\tremaining: 2.04s\n",
      "36:\tlearn: 0.7321617\ttotal: 76.6ms\tremaining: 1.99s\n",
      "37:\tlearn: 0.7251043\ttotal: 77ms\tremaining: 1.95s\n",
      "38:\tlearn: 0.7182231\ttotal: 77.5ms\tremaining: 1.91s\n",
      "39:\tlearn: 0.7112823\ttotal: 78ms\tremaining: 1.87s\n",
      "40:\tlearn: 0.7048602\ttotal: 78.4ms\tremaining: 1.83s\n",
      "41:\tlearn: 0.6975417\ttotal: 78.9ms\tremaining: 1.8s\n",
      "42:\tlearn: 0.6916067\ttotal: 79.5ms\tremaining: 1.77s\n",
      "43:\tlearn: 0.6842529\ttotal: 80ms\tremaining: 1.74s\n",
      "44:\tlearn: 0.6784885\ttotal: 80.5ms\tremaining: 1.71s\n",
      "45:\tlearn: 0.6731604\ttotal: 81ms\tremaining: 1.68s\n",
      "46:\tlearn: 0.6683095\ttotal: 81.6ms\tremaining: 1.65s\n",
      "47:\tlearn: 0.6616263\ttotal: 82.1ms\tremaining: 1.63s\n",
      "48:\tlearn: 0.6556273\ttotal: 82.5ms\tremaining: 1.6s\n",
      "49:\tlearn: 0.6489409\ttotal: 83.1ms\tremaining: 1.58s\n",
      "50:\tlearn: 0.6430254\ttotal: 83.8ms\tremaining: 1.56s\n",
      "51:\tlearn: 0.6361254\ttotal: 84.3ms\tremaining: 1.54s\n",
      "52:\tlearn: 0.6302647\ttotal: 84.7ms\tremaining: 1.51s\n",
      "53:\tlearn: 0.6248039\ttotal: 85.2ms\tremaining: 1.49s\n",
      "54:\tlearn: 0.6201439\ttotal: 85.5ms\tremaining: 1.47s\n",
      "55:\tlearn: 0.6153740\ttotal: 85.9ms\tremaining: 1.45s\n",
      "56:\tlearn: 0.6106950\ttotal: 86.3ms\tremaining: 1.43s\n",
      "57:\tlearn: 0.6056020\ttotal: 87ms\tremaining: 1.41s\n",
      "58:\tlearn: 0.6000832\ttotal: 87.5ms\tremaining: 1.4s\n",
      "59:\tlearn: 0.5957086\ttotal: 88ms\tremaining: 1.38s\n",
      "60:\tlearn: 0.5908868\ttotal: 88.3ms\tremaining: 1.36s\n",
      "61:\tlearn: 0.5862076\ttotal: 88.8ms\tremaining: 1.34s\n",
      "62:\tlearn: 0.5807457\ttotal: 89.2ms\tremaining: 1.33s\n",
      "63:\tlearn: 0.5758307\ttotal: 89.6ms\tremaining: 1.31s\n",
      "64:\tlearn: 0.5712571\ttotal: 90.1ms\tremaining: 1.3s\n",
      "65:\tlearn: 0.5657424\ttotal: 90.6ms\tremaining: 1.28s\n",
      "66:\tlearn: 0.5601548\ttotal: 91ms\tremaining: 1.27s\n",
      "67:\tlearn: 0.5552363\ttotal: 91.7ms\tremaining: 1.26s\n",
      "68:\tlearn: 0.5506024\ttotal: 92.3ms\tremaining: 1.25s\n",
      "69:\tlearn: 0.5460348\ttotal: 92.7ms\tremaining: 1.23s\n",
      "70:\tlearn: 0.5423369\ttotal: 93.2ms\tremaining: 1.22s\n",
      "71:\tlearn: 0.5376599\ttotal: 93.8ms\tremaining: 1.21s\n",
      "72:\tlearn: 0.5333809\ttotal: 94.3ms\tremaining: 1.2s\n",
      "73:\tlearn: 0.5292143\ttotal: 95ms\tremaining: 1.19s\n",
      "74:\tlearn: 0.5251421\ttotal: 95.6ms\tremaining: 1.18s\n",
      "75:\tlearn: 0.5216505\ttotal: 96.2ms\tremaining: 1.17s\n",
      "76:\tlearn: 0.5173212\ttotal: 96.7ms\tremaining: 1.16s\n",
      "77:\tlearn: 0.5138240\ttotal: 97.2ms\tremaining: 1.15s\n",
      "78:\tlearn: 0.5101476\ttotal: 97.6ms\tremaining: 1.14s\n",
      "79:\tlearn: 0.5064987\ttotal: 98.1ms\tremaining: 1.13s\n",
      "80:\tlearn: 0.5015201\ttotal: 98.7ms\tremaining: 1.12s\n",
      "81:\tlearn: 0.4975961\ttotal: 99.1ms\tremaining: 1.11s\n",
      "82:\tlearn: 0.4929623\ttotal: 99.6ms\tremaining: 1.1s\n",
      "83:\tlearn: 0.4889103\ttotal: 100ms\tremaining: 1.09s\n",
      "84:\tlearn: 0.4847621\ttotal: 101ms\tremaining: 1.08s\n",
      "85:\tlearn: 0.4813679\ttotal: 101ms\tremaining: 1.07s\n",
      "86:\tlearn: 0.4776128\ttotal: 101ms\tremaining: 1.06s\n",
      "87:\tlearn: 0.4736175\ttotal: 102ms\tremaining: 1.06s\n",
      "88:\tlearn: 0.4698353\ttotal: 102ms\tremaining: 1.05s\n",
      "89:\tlearn: 0.4652568\ttotal: 103ms\tremaining: 1.04s\n",
      "90:\tlearn: 0.4616633\ttotal: 103ms\tremaining: 1.03s\n",
      "91:\tlearn: 0.4580947\ttotal: 104ms\tremaining: 1.02s\n",
      "92:\tlearn: 0.4549286\ttotal: 104ms\tremaining: 1.02s\n",
      "93:\tlearn: 0.4506804\ttotal: 105ms\tremaining: 1.01s\n",
      "94:\tlearn: 0.4468878\ttotal: 105ms\tremaining: 1s\n",
      "95:\tlearn: 0.4432146\ttotal: 106ms\tremaining: 997ms\n",
      "96:\tlearn: 0.4406847\ttotal: 106ms\tremaining: 989ms\n",
      "97:\tlearn: 0.4364280\ttotal: 107ms\tremaining: 982ms\n",
      "98:\tlearn: 0.4325003\ttotal: 107ms\tremaining: 976ms\n",
      "99:\tlearn: 0.4288496\ttotal: 108ms\tremaining: 969ms\n",
      "100:\tlearn: 0.4255706\ttotal: 108ms\tremaining: 963ms\n",
      "101:\tlearn: 0.4224763\ttotal: 109ms\tremaining: 961ms\n",
      "102:\tlearn: 0.4199348\ttotal: 110ms\tremaining: 960ms\n",
      "103:\tlearn: 0.4173940\ttotal: 111ms\tremaining: 959ms\n",
      "104:\tlearn: 0.4140340\ttotal: 113ms\tremaining: 961ms\n",
      "105:\tlearn: 0.4102621\ttotal: 113ms\tremaining: 955ms\n",
      "106:\tlearn: 0.4068057\ttotal: 114ms\tremaining: 949ms\n",
      "107:\tlearn: 0.4036522\ttotal: 114ms\tremaining: 942ms\n",
      "108:\tlearn: 0.4004421\ttotal: 114ms\tremaining: 936ms\n",
      "109:\tlearn: 0.3976144\ttotal: 115ms\tremaining: 930ms\n",
      "110:\tlearn: 0.3942373\ttotal: 115ms\tremaining: 923ms\n",
      "111:\tlearn: 0.3909392\ttotal: 116ms\tremaining: 919ms\n",
      "112:\tlearn: 0.3880914\ttotal: 116ms\tremaining: 914ms\n",
      "113:\tlearn: 0.3851183\ttotal: 117ms\tremaining: 909ms\n",
      "114:\tlearn: 0.3812847\ttotal: 118ms\tremaining: 905ms\n",
      "115:\tlearn: 0.3779046\ttotal: 118ms\tremaining: 900ms\n",
      "116:\tlearn: 0.3748841\ttotal: 119ms\tremaining: 895ms\n",
      "117:\tlearn: 0.3727572\ttotal: 119ms\tremaining: 889ms\n",
      "118:\tlearn: 0.3696486\ttotal: 119ms\tremaining: 884ms\n",
      "119:\tlearn: 0.3671216\ttotal: 120ms\tremaining: 879ms\n",
      "120:\tlearn: 0.3641382\ttotal: 120ms\tremaining: 875ms\n",
      "121:\tlearn: 0.3613015\ttotal: 121ms\tremaining: 871ms\n",
      "122:\tlearn: 0.3583863\ttotal: 121ms\tremaining: 865ms\n",
      "123:\tlearn: 0.3553979\ttotal: 122ms\tremaining: 862ms\n",
      "124:\tlearn: 0.3525808\ttotal: 122ms\tremaining: 857ms\n",
      "125:\tlearn: 0.3498221\ttotal: 123ms\tremaining: 852ms\n",
      "126:\tlearn: 0.3466898\ttotal: 123ms\tremaining: 846ms\n",
      "127:\tlearn: 0.3439873\ttotal: 124ms\tremaining: 843ms\n",
      "128:\tlearn: 0.3412338\ttotal: 124ms\tremaining: 838ms\n",
      "129:\tlearn: 0.3388895\ttotal: 125ms\tremaining: 835ms\n",
      "130:\tlearn: 0.3364148\ttotal: 125ms\tremaining: 831ms\n",
      "131:\tlearn: 0.3339209\ttotal: 126ms\tremaining: 828ms\n",
      "132:\tlearn: 0.3313370\ttotal: 127ms\tremaining: 825ms\n",
      "133:\tlearn: 0.3285834\ttotal: 127ms\tremaining: 822ms\n",
      "134:\tlearn: 0.3264734\ttotal: 128ms\tremaining: 819ms\n",
      "135:\tlearn: 0.3234293\ttotal: 128ms\tremaining: 816ms\n",
      "136:\tlearn: 0.3211159\ttotal: 129ms\tremaining: 813ms\n",
      "137:\tlearn: 0.3183516\ttotal: 129ms\tremaining: 808ms\n",
      "138:\tlearn: 0.3161167\ttotal: 130ms\tremaining: 804ms\n",
      "139:\tlearn: 0.3140896\ttotal: 130ms\tremaining: 800ms\n",
      "140:\tlearn: 0.3115341\ttotal: 131ms\tremaining: 798ms\n",
      "141:\tlearn: 0.3090827\ttotal: 131ms\tremaining: 794ms\n",
      "142:\tlearn: 0.3065852\ttotal: 132ms\tremaining: 791ms\n",
      "143:\tlearn: 0.3042795\ttotal: 133ms\tremaining: 788ms\n",
      "144:\tlearn: 0.3018951\ttotal: 133ms\tremaining: 785ms\n",
      "145:\tlearn: 0.2997850\ttotal: 133ms\tremaining: 781ms\n",
      "146:\tlearn: 0.2968801\ttotal: 134ms\tremaining: 777ms\n",
      "147:\tlearn: 0.2945592\ttotal: 134ms\tremaining: 774ms\n",
      "148:\tlearn: 0.2924853\ttotal: 135ms\tremaining: 771ms\n",
      "149:\tlearn: 0.2906100\ttotal: 135ms\tremaining: 767ms\n",
      "150:\tlearn: 0.2888231\ttotal: 136ms\tremaining: 764ms\n",
      "151:\tlearn: 0.2870161\ttotal: 136ms\tremaining: 760ms\n",
      "152:\tlearn: 0.2852965\ttotal: 137ms\tremaining: 757ms\n",
      "153:\tlearn: 0.2830687\ttotal: 137ms\tremaining: 755ms\n",
      "154:\tlearn: 0.2815601\ttotal: 138ms\tremaining: 752ms\n",
      "155:\tlearn: 0.2795177\ttotal: 139ms\tremaining: 749ms\n",
      "156:\tlearn: 0.2773951\ttotal: 139ms\tremaining: 746ms\n",
      "157:\tlearn: 0.2754110\ttotal: 140ms\tremaining: 744ms\n",
      "158:\tlearn: 0.2737084\ttotal: 140ms\tremaining: 741ms\n",
      "159:\tlearn: 0.2713853\ttotal: 141ms\tremaining: 739ms\n",
      "160:\tlearn: 0.2695855\ttotal: 141ms\tremaining: 736ms\n",
      "161:\tlearn: 0.2675570\ttotal: 142ms\tremaining: 735ms\n",
      "162:\tlearn: 0.2657772\ttotal: 143ms\tremaining: 732ms\n",
      "163:\tlearn: 0.2640081\ttotal: 143ms\tremaining: 729ms\n",
      "164:\tlearn: 0.2621932\ttotal: 143ms\tremaining: 726ms\n",
      "165:\tlearn: 0.2608027\ttotal: 144ms\tremaining: 723ms\n",
      "166:\tlearn: 0.2591247\ttotal: 144ms\tremaining: 720ms\n",
      "167:\tlearn: 0.2574628\ttotal: 145ms\tremaining: 717ms\n",
      "168:\tlearn: 0.2553583\ttotal: 145ms\tremaining: 715ms\n",
      "169:\tlearn: 0.2536533\ttotal: 146ms\tremaining: 712ms\n",
      "170:\tlearn: 0.2518822\ttotal: 146ms\tremaining: 709ms\n",
      "171:\tlearn: 0.2501766\ttotal: 147ms\tremaining: 706ms\n",
      "172:\tlearn: 0.2483565\ttotal: 147ms\tremaining: 703ms\n",
      "173:\tlearn: 0.2467271\ttotal: 147ms\tremaining: 700ms\n",
      "174:\tlearn: 0.2447084\ttotal: 148ms\tremaining: 697ms\n",
      "175:\tlearn: 0.2430942\ttotal: 148ms\tremaining: 694ms\n",
      "176:\tlearn: 0.2415036\ttotal: 149ms\tremaining: 691ms\n",
      "177:\tlearn: 0.2395053\ttotal: 149ms\tremaining: 688ms\n",
      "178:\tlearn: 0.2376411\ttotal: 150ms\tremaining: 686ms\n",
      "179:\tlearn: 0.2361892\ttotal: 150ms\tremaining: 683ms\n",
      "180:\tlearn: 0.2348012\ttotal: 151ms\tremaining: 681ms\n",
      "181:\tlearn: 0.2333882\ttotal: 151ms\tremaining: 679ms\n",
      "182:\tlearn: 0.2314301\ttotal: 151ms\tremaining: 676ms\n",
      "183:\tlearn: 0.2297083\ttotal: 152ms\tremaining: 674ms\n",
      "184:\tlearn: 0.2278401\ttotal: 152ms\tremaining: 671ms\n",
      "185:\tlearn: 0.2261850\ttotal: 153ms\tremaining: 669ms\n",
      "186:\tlearn: 0.2245164\ttotal: 153ms\tremaining: 667ms\n",
      "187:\tlearn: 0.2231052\ttotal: 154ms\tremaining: 664ms\n",
      "188:\tlearn: 0.2215597\ttotal: 154ms\tremaining: 662ms\n",
      "189:\tlearn: 0.2201142\ttotal: 155ms\tremaining: 660ms\n",
      "190:\tlearn: 0.2187167\ttotal: 155ms\tremaining: 658ms\n",
      "191:\tlearn: 0.2172188\ttotal: 156ms\tremaining: 656ms\n",
      "192:\tlearn: 0.2156888\ttotal: 156ms\tremaining: 654ms\n",
      "193:\tlearn: 0.2140264\ttotal: 157ms\tremaining: 652ms\n",
      "194:\tlearn: 0.2126458\ttotal: 157ms\tremaining: 649ms\n",
      "195:\tlearn: 0.2111791\ttotal: 158ms\tremaining: 647ms\n",
      "196:\tlearn: 0.2095264\ttotal: 158ms\tremaining: 645ms\n",
      "197:\tlearn: 0.2079018\ttotal: 159ms\tremaining: 644ms\n",
      "198:\tlearn: 0.2064199\ttotal: 159ms\tremaining: 642ms\n",
      "199:\tlearn: 0.2050546\ttotal: 160ms\tremaining: 639ms\n",
      "200:\tlearn: 0.2037259\ttotal: 160ms\tremaining: 637ms\n",
      "201:\tlearn: 0.2020848\ttotal: 161ms\tremaining: 635ms\n",
      "202:\tlearn: 0.2006855\ttotal: 161ms\tremaining: 633ms\n",
      "203:\tlearn: 0.1990849\ttotal: 162ms\tremaining: 630ms\n",
      "204:\tlearn: 0.1971166\ttotal: 162ms\tremaining: 629ms\n",
      "205:\tlearn: 0.1959732\ttotal: 162ms\tremaining: 626ms\n",
      "206:\tlearn: 0.1940311\ttotal: 163ms\tremaining: 624ms\n",
      "207:\tlearn: 0.1930355\ttotal: 163ms\tremaining: 622ms\n",
      "208:\tlearn: 0.1913758\ttotal: 164ms\tremaining: 620ms\n",
      "209:\tlearn: 0.1899827\ttotal: 164ms\tremaining: 618ms\n",
      "210:\tlearn: 0.1887421\ttotal: 165ms\tremaining: 616ms\n",
      "211:\tlearn: 0.1874727\ttotal: 165ms\tremaining: 614ms\n",
      "212:\tlearn: 0.1860049\ttotal: 166ms\tremaining: 612ms\n",
      "213:\tlearn: 0.1847902\ttotal: 166ms\tremaining: 611ms\n",
      "214:\tlearn: 0.1836871\ttotal: 167ms\tremaining: 609ms\n",
      "215:\tlearn: 0.1821821\ttotal: 167ms\tremaining: 607ms\n",
      "216:\tlearn: 0.1810294\ttotal: 168ms\tremaining: 605ms\n",
      "217:\tlearn: 0.1797379\ttotal: 168ms\tremaining: 603ms\n",
      "218:\tlearn: 0.1784670\ttotal: 169ms\tremaining: 602ms\n",
      "219:\tlearn: 0.1772188\ttotal: 169ms\tremaining: 601ms\n",
      "220:\tlearn: 0.1760330\ttotal: 170ms\tremaining: 599ms\n",
      "221:\tlearn: 0.1747605\ttotal: 171ms\tremaining: 598ms\n",
      "222:\tlearn: 0.1736597\ttotal: 171ms\tremaining: 597ms\n",
      "223:\tlearn: 0.1725860\ttotal: 172ms\tremaining: 595ms\n",
      "224:\tlearn: 0.1713506\ttotal: 172ms\tremaining: 594ms\n",
      "225:\tlearn: 0.1702148\ttotal: 173ms\tremaining: 592ms\n",
      "226:\tlearn: 0.1688534\ttotal: 174ms\tremaining: 591ms\n",
      "227:\tlearn: 0.1677836\ttotal: 174ms\tremaining: 590ms\n",
      "228:\tlearn: 0.1666564\ttotal: 175ms\tremaining: 588ms\n",
      "229:\tlearn: 0.1656398\ttotal: 175ms\tremaining: 587ms\n",
      "230:\tlearn: 0.1646120\ttotal: 176ms\tremaining: 585ms\n",
      "231:\tlearn: 0.1636364\ttotal: 176ms\tremaining: 583ms\n",
      "232:\tlearn: 0.1627514\ttotal: 176ms\tremaining: 581ms\n",
      "233:\tlearn: 0.1617546\ttotal: 177ms\tremaining: 579ms\n",
      "234:\tlearn: 0.1606219\ttotal: 177ms\tremaining: 577ms\n",
      "235:\tlearn: 0.1594576\ttotal: 178ms\tremaining: 575ms\n",
      "236:\tlearn: 0.1584705\ttotal: 178ms\tremaining: 573ms\n",
      "237:\tlearn: 0.1574034\ttotal: 179ms\tremaining: 572ms\n",
      "238:\tlearn: 0.1564784\ttotal: 179ms\tremaining: 570ms\n",
      "239:\tlearn: 0.1552834\ttotal: 179ms\tremaining: 568ms\n",
      "240:\tlearn: 0.1540783\ttotal: 180ms\tremaining: 566ms\n",
      "241:\tlearn: 0.1528708\ttotal: 180ms\tremaining: 565ms\n",
      "242:\tlearn: 0.1520164\ttotal: 181ms\tremaining: 563ms\n",
      "243:\tlearn: 0.1511245\ttotal: 181ms\tremaining: 561ms\n",
      "244:\tlearn: 0.1499999\ttotal: 182ms\tremaining: 560ms\n",
      "245:\tlearn: 0.1491120\ttotal: 182ms\tremaining: 558ms\n",
      "246:\tlearn: 0.1479268\ttotal: 183ms\tremaining: 557ms\n"
     ]
    },
    {
     "name": "stdout",
     "output_type": "stream",
     "text": [
      "247:\tlearn: 0.1470622\ttotal: 187ms\tremaining: 568ms\n",
      "248:\tlearn: 0.1457886\ttotal: 188ms\tremaining: 568ms\n",
      "249:\tlearn: 0.1448328\ttotal: 189ms\tremaining: 567ms\n",
      "250:\tlearn: 0.1436664\ttotal: 190ms\tremaining: 566ms\n",
      "251:\tlearn: 0.1427761\ttotal: 191ms\tremaining: 566ms\n",
      "252:\tlearn: 0.1416357\ttotal: 191ms\tremaining: 565ms\n",
      "253:\tlearn: 0.1406249\ttotal: 192ms\tremaining: 564ms\n",
      "254:\tlearn: 0.1396838\ttotal: 193ms\tremaining: 565ms\n",
      "255:\tlearn: 0.1387701\ttotal: 194ms\tremaining: 563ms\n",
      "256:\tlearn: 0.1379147\ttotal: 194ms\tremaining: 562ms\n",
      "257:\tlearn: 0.1368944\ttotal: 195ms\tremaining: 560ms\n",
      "258:\tlearn: 0.1360238\ttotal: 195ms\tremaining: 558ms\n",
      "259:\tlearn: 0.1352127\ttotal: 196ms\tremaining: 557ms\n",
      "260:\tlearn: 0.1342517\ttotal: 196ms\tremaining: 555ms\n",
      "261:\tlearn: 0.1333766\ttotal: 197ms\tremaining: 554ms\n",
      "262:\tlearn: 0.1325533\ttotal: 197ms\tremaining: 552ms\n",
      "263:\tlearn: 0.1315369\ttotal: 197ms\tremaining: 551ms\n",
      "264:\tlearn: 0.1303826\ttotal: 198ms\tremaining: 549ms\n",
      "265:\tlearn: 0.1295216\ttotal: 198ms\tremaining: 547ms\n",
      "266:\tlearn: 0.1285491\ttotal: 199ms\tremaining: 545ms\n",
      "267:\tlearn: 0.1276709\ttotal: 199ms\tremaining: 544ms\n",
      "268:\tlearn: 0.1270270\ttotal: 200ms\tremaining: 543ms\n",
      "269:\tlearn: 0.1262918\ttotal: 200ms\tremaining: 541ms\n",
      "270:\tlearn: 0.1253185\ttotal: 201ms\tremaining: 541ms\n",
      "271:\tlearn: 0.1245210\ttotal: 202ms\tremaining: 539ms\n",
      "272:\tlearn: 0.1237201\ttotal: 202ms\tremaining: 538ms\n",
      "273:\tlearn: 0.1227878\ttotal: 203ms\tremaining: 537ms\n",
      "274:\tlearn: 0.1218607\ttotal: 203ms\tremaining: 535ms\n",
      "275:\tlearn: 0.1208992\ttotal: 204ms\tremaining: 534ms\n",
      "276:\tlearn: 0.1201031\ttotal: 204ms\tremaining: 533ms\n",
      "277:\tlearn: 0.1193481\ttotal: 204ms\tremaining: 531ms\n",
      "278:\tlearn: 0.1186503\ttotal: 205ms\tremaining: 530ms\n",
      "279:\tlearn: 0.1180389\ttotal: 205ms\tremaining: 528ms\n",
      "280:\tlearn: 0.1172468\ttotal: 206ms\tremaining: 527ms\n",
      "281:\tlearn: 0.1165170\ttotal: 206ms\tremaining: 525ms\n",
      "282:\tlearn: 0.1157182\ttotal: 207ms\tremaining: 524ms\n",
      "283:\tlearn: 0.1148758\ttotal: 207ms\tremaining: 522ms\n",
      "284:\tlearn: 0.1141709\ttotal: 207ms\tremaining: 520ms\n",
      "285:\tlearn: 0.1135001\ttotal: 208ms\tremaining: 519ms\n",
      "286:\tlearn: 0.1128492\ttotal: 208ms\tremaining: 517ms\n",
      "287:\tlearn: 0.1122194\ttotal: 209ms\tremaining: 516ms\n",
      "288:\tlearn: 0.1115660\ttotal: 209ms\tremaining: 515ms\n",
      "289:\tlearn: 0.1110508\ttotal: 210ms\tremaining: 513ms\n",
      "290:\tlearn: 0.1101518\ttotal: 211ms\tremaining: 514ms\n",
      "291:\tlearn: 0.1092989\ttotal: 211ms\tremaining: 512ms\n",
      "292:\tlearn: 0.1086406\ttotal: 212ms\tremaining: 511ms\n",
      "293:\tlearn: 0.1080307\ttotal: 212ms\tremaining: 510ms\n",
      "294:\tlearn: 0.1072842\ttotal: 213ms\tremaining: 508ms\n",
      "295:\tlearn: 0.1065806\ttotal: 213ms\tremaining: 507ms\n",
      "296:\tlearn: 0.1059833\ttotal: 214ms\tremaining: 506ms\n",
      "297:\tlearn: 0.1053548\ttotal: 214ms\tremaining: 505ms\n",
      "298:\tlearn: 0.1048052\ttotal: 215ms\tremaining: 504ms\n",
      "299:\tlearn: 0.1042217\ttotal: 215ms\tremaining: 502ms\n",
      "300:\tlearn: 0.1036478\ttotal: 216ms\tremaining: 501ms\n",
      "301:\tlearn: 0.1031210\ttotal: 216ms\tremaining: 500ms\n",
      "302:\tlearn: 0.1026011\ttotal: 217ms\tremaining: 500ms\n",
      "303:\tlearn: 0.1020294\ttotal: 218ms\tremaining: 499ms\n",
      "304:\tlearn: 0.1014291\ttotal: 218ms\tremaining: 497ms\n",
      "305:\tlearn: 0.1006496\ttotal: 219ms\tremaining: 496ms\n",
      "306:\tlearn: 0.1001147\ttotal: 219ms\tremaining: 495ms\n",
      "307:\tlearn: 0.0996377\ttotal: 220ms\tremaining: 493ms\n",
      "308:\tlearn: 0.0990479\ttotal: 220ms\tremaining: 492ms\n",
      "309:\tlearn: 0.0983137\ttotal: 220ms\tremaining: 491ms\n",
      "310:\tlearn: 0.0977528\ttotal: 221ms\tremaining: 489ms\n",
      "311:\tlearn: 0.0971374\ttotal: 221ms\tremaining: 488ms\n",
      "312:\tlearn: 0.0966915\ttotal: 222ms\tremaining: 487ms\n",
      "313:\tlearn: 0.0961996\ttotal: 222ms\tremaining: 485ms\n",
      "314:\tlearn: 0.0957447\ttotal: 222ms\tremaining: 484ms\n",
      "315:\tlearn: 0.0950336\ttotal: 223ms\tremaining: 483ms\n",
      "316:\tlearn: 0.0943311\ttotal: 223ms\tremaining: 482ms\n",
      "317:\tlearn: 0.0938921\ttotal: 224ms\tremaining: 480ms\n",
      "318:\tlearn: 0.0933090\ttotal: 225ms\tremaining: 481ms\n",
      "319:\tlearn: 0.0927766\ttotal: 226ms\tremaining: 480ms\n",
      "320:\tlearn: 0.0921101\ttotal: 226ms\tremaining: 478ms\n",
      "321:\tlearn: 0.0915278\ttotal: 226ms\tremaining: 477ms\n",
      "322:\tlearn: 0.0910282\ttotal: 227ms\tremaining: 475ms\n",
      "323:\tlearn: 0.0904822\ttotal: 227ms\tremaining: 474ms\n",
      "324:\tlearn: 0.0900517\ttotal: 228ms\tremaining: 473ms\n",
      "325:\tlearn: 0.0895494\ttotal: 228ms\tremaining: 472ms\n",
      "326:\tlearn: 0.0891399\ttotal: 229ms\tremaining: 471ms\n",
      "327:\tlearn: 0.0886254\ttotal: 231ms\tremaining: 474ms\n",
      "328:\tlearn: 0.0883003\ttotal: 233ms\tremaining: 474ms\n",
      "329:\tlearn: 0.0878143\ttotal: 234ms\tremaining: 474ms\n",
      "330:\tlearn: 0.0871986\ttotal: 234ms\tremaining: 474ms\n",
      "331:\tlearn: 0.0867494\ttotal: 235ms\tremaining: 473ms\n",
      "332:\tlearn: 0.0862848\ttotal: 235ms\tremaining: 471ms\n",
      "333:\tlearn: 0.0858366\ttotal: 236ms\tremaining: 470ms\n",
      "334:\tlearn: 0.0853780\ttotal: 236ms\tremaining: 469ms\n",
      "335:\tlearn: 0.0846948\ttotal: 237ms\tremaining: 468ms\n",
      "336:\tlearn: 0.0841823\ttotal: 237ms\tremaining: 467ms\n",
      "337:\tlearn: 0.0837222\ttotal: 238ms\tremaining: 466ms\n",
      "338:\tlearn: 0.0830529\ttotal: 238ms\tremaining: 464ms\n",
      "339:\tlearn: 0.0826835\ttotal: 239ms\tremaining: 464ms\n",
      "340:\tlearn: 0.0822547\ttotal: 239ms\tremaining: 462ms\n",
      "341:\tlearn: 0.0817518\ttotal: 240ms\tremaining: 461ms\n",
      "342:\tlearn: 0.0811095\ttotal: 240ms\tremaining: 461ms\n",
      "343:\tlearn: 0.0804718\ttotal: 241ms\tremaining: 460ms\n",
      "344:\tlearn: 0.0800449\ttotal: 241ms\tremaining: 458ms\n",
      "345:\tlearn: 0.0794203\ttotal: 242ms\tremaining: 457ms\n",
      "346:\tlearn: 0.0788059\ttotal: 242ms\tremaining: 456ms\n",
      "347:\tlearn: 0.0784011\ttotal: 243ms\tremaining: 455ms\n",
      "348:\tlearn: 0.0777998\ttotal: 243ms\tremaining: 454ms\n",
      "349:\tlearn: 0.0773861\ttotal: 244ms\tremaining: 452ms\n",
      "350:\tlearn: 0.0767978\ttotal: 244ms\tremaining: 451ms\n",
      "351:\tlearn: 0.0762192\ttotal: 245ms\tremaining: 450ms\n",
      "352:\tlearn: 0.0758370\ttotal: 245ms\tremaining: 449ms\n",
      "353:\tlearn: 0.0755138\ttotal: 246ms\tremaining: 448ms\n",
      "354:\tlearn: 0.0751417\ttotal: 246ms\tremaining: 447ms\n",
      "355:\tlearn: 0.0745802\ttotal: 247ms\tremaining: 447ms\n",
      "356:\tlearn: 0.0741932\ttotal: 247ms\tremaining: 446ms\n",
      "357:\tlearn: 0.0738053\ttotal: 248ms\tremaining: 445ms\n",
      "358:\tlearn: 0.0734706\ttotal: 249ms\tremaining: 444ms\n",
      "359:\tlearn: 0.0729255\ttotal: 249ms\tremaining: 443ms\n",
      "360:\tlearn: 0.0724056\ttotal: 250ms\tremaining: 442ms\n",
      "361:\tlearn: 0.0720517\ttotal: 250ms\tremaining: 441ms\n",
      "362:\tlearn: 0.0716808\ttotal: 250ms\tremaining: 439ms\n",
      "363:\tlearn: 0.0714012\ttotal: 251ms\tremaining: 438ms\n",
      "364:\tlearn: 0.0708803\ttotal: 251ms\tremaining: 437ms\n",
      "365:\tlearn: 0.0705352\ttotal: 252ms\tremaining: 436ms\n",
      "366:\tlearn: 0.0701959\ttotal: 253ms\tremaining: 436ms\n",
      "367:\tlearn: 0.0698440\ttotal: 253ms\tremaining: 434ms\n",
      "368:\tlearn: 0.0695000\ttotal: 253ms\tremaining: 433ms\n",
      "369:\tlearn: 0.0690627\ttotal: 254ms\tremaining: 432ms\n",
      "370:\tlearn: 0.0687179\ttotal: 254ms\tremaining: 431ms\n",
      "371:\tlearn: 0.0682228\ttotal: 255ms\tremaining: 430ms\n",
      "372:\tlearn: 0.0677474\ttotal: 255ms\tremaining: 429ms\n",
      "373:\tlearn: 0.0674279\ttotal: 256ms\tremaining: 428ms\n",
      "374:\tlearn: 0.0670104\ttotal: 256ms\tremaining: 427ms\n",
      "375:\tlearn: 0.0667270\ttotal: 257ms\tremaining: 426ms\n",
      "376:\tlearn: 0.0663175\ttotal: 257ms\tremaining: 425ms\n"
     ]
    },
    {
     "name": "stdout",
     "output_type": "stream",
     "text": [
      "377:\tlearn: 0.0659903\ttotal: 258ms\tremaining: 424ms\n",
      "378:\tlearn: 0.0656843\ttotal: 258ms\tremaining: 423ms\n",
      "379:\tlearn: 0.0653856\ttotal: 259ms\tremaining: 422ms\n",
      "380:\tlearn: 0.0650676\ttotal: 259ms\tremaining: 422ms\n",
      "381:\tlearn: 0.0647528\ttotal: 263ms\tremaining: 426ms\n",
      "382:\tlearn: 0.0644450\ttotal: 264ms\tremaining: 426ms\n",
      "383:\tlearn: 0.0641954\ttotal: 265ms\tremaining: 425ms\n",
      "384:\tlearn: 0.0638049\ttotal: 265ms\tremaining: 424ms\n",
      "385:\tlearn: 0.0635606\ttotal: 266ms\tremaining: 423ms\n",
      "386:\tlearn: 0.0633013\ttotal: 266ms\tremaining: 422ms\n",
      "387:\tlearn: 0.0629197\ttotal: 267ms\tremaining: 421ms\n",
      "388:\tlearn: 0.0624872\ttotal: 267ms\tremaining: 420ms\n",
      "389:\tlearn: 0.0622772\ttotal: 268ms\tremaining: 419ms\n",
      "390:\tlearn: 0.0618540\ttotal: 268ms\tremaining: 418ms\n",
      "391:\tlearn: 0.0614877\ttotal: 269ms\tremaining: 417ms\n",
      "392:\tlearn: 0.0612578\ttotal: 269ms\tremaining: 416ms\n",
      "393:\tlearn: 0.0610316\ttotal: 270ms\tremaining: 415ms\n",
      "394:\tlearn: 0.0606735\ttotal: 270ms\tremaining: 414ms\n",
      "395:\tlearn: 0.0604258\ttotal: 271ms\tremaining: 413ms\n",
      "396:\tlearn: 0.0602062\ttotal: 271ms\tremaining: 412ms\n",
      "397:\tlearn: 0.0598560\ttotal: 271ms\tremaining: 411ms\n",
      "398:\tlearn: 0.0595114\ttotal: 272ms\tremaining: 410ms\n",
      "399:\tlearn: 0.0592977\ttotal: 272ms\tremaining: 409ms\n",
      "400:\tlearn: 0.0590876\ttotal: 273ms\tremaining: 407ms\n",
      "401:\tlearn: 0.0586647\ttotal: 273ms\tremaining: 407ms\n",
      "402:\tlearn: 0.0582761\ttotal: 274ms\tremaining: 406ms\n",
      "403:\tlearn: 0.0580019\ttotal: 275ms\tremaining: 405ms\n",
      "404:\tlearn: 0.0576743\ttotal: 275ms\tremaining: 404ms\n",
      "405:\tlearn: 0.0574116\ttotal: 276ms\tremaining: 403ms\n",
      "406:\tlearn: 0.0570339\ttotal: 276ms\tremaining: 402ms\n",
      "407:\tlearn: 0.0568065\ttotal: 277ms\tremaining: 402ms\n",
      "408:\tlearn: 0.0564361\ttotal: 277ms\tremaining: 400ms\n",
      "409:\tlearn: 0.0561211\ttotal: 278ms\tremaining: 399ms\n",
      "410:\tlearn: 0.0558059\ttotal: 278ms\tremaining: 398ms\n",
      "411:\tlearn: 0.0555548\ttotal: 278ms\tremaining: 397ms\n",
      "412:\tlearn: 0.0551922\ttotal: 279ms\tremaining: 396ms\n",
      "413:\tlearn: 0.0549207\ttotal: 279ms\tremaining: 395ms\n",
      "414:\tlearn: 0.0545522\ttotal: 280ms\tremaining: 394ms\n",
      "415:\tlearn: 0.0542035\ttotal: 280ms\tremaining: 393ms\n",
      "416:\tlearn: 0.0538441\ttotal: 281ms\tremaining: 392ms\n",
      "417:\tlearn: 0.0536598\ttotal: 281ms\tremaining: 391ms\n",
      "418:\tlearn: 0.0534948\ttotal: 282ms\tremaining: 390ms\n",
      "419:\tlearn: 0.0531449\ttotal: 282ms\tremaining: 389ms\n",
      "420:\tlearn: 0.0529105\ttotal: 283ms\tremaining: 389ms\n",
      "421:\tlearn: 0.0526757\ttotal: 283ms\tremaining: 388ms\n",
      "422:\tlearn: 0.0523350\ttotal: 283ms\tremaining: 387ms\n",
      "423:\tlearn: 0.0520278\ttotal: 284ms\tremaining: 386ms\n",
      "424:\tlearn: 0.0517361\ttotal: 284ms\tremaining: 385ms\n",
      "425:\tlearn: 0.0515083\ttotal: 285ms\tremaining: 384ms\n",
      "426:\tlearn: 0.0513378\ttotal: 285ms\tremaining: 383ms\n",
      "427:\tlearn: 0.0510475\ttotal: 286ms\tremaining: 382ms\n",
      "428:\tlearn: 0.0508059\ttotal: 286ms\tremaining: 381ms\n",
      "429:\tlearn: 0.0505835\ttotal: 287ms\tremaining: 380ms\n",
      "430:\tlearn: 0.0502589\ttotal: 287ms\tremaining: 379ms\n",
      "431:\tlearn: 0.0499801\ttotal: 287ms\tremaining: 378ms\n",
      "432:\tlearn: 0.0498090\ttotal: 288ms\tremaining: 377ms\n",
      "433:\tlearn: 0.0496479\ttotal: 288ms\tremaining: 376ms\n",
      "434:\tlearn: 0.0494896\ttotal: 289ms\tremaining: 375ms\n",
      "435:\tlearn: 0.0492215\ttotal: 290ms\tremaining: 375ms\n",
      "436:\tlearn: 0.0489548\ttotal: 290ms\tremaining: 374ms\n",
      "437:\tlearn: 0.0487420\ttotal: 291ms\tremaining: 373ms\n",
      "438:\tlearn: 0.0485106\ttotal: 292ms\tremaining: 373ms\n",
      "439:\tlearn: 0.0483006\ttotal: 292ms\tremaining: 372ms\n",
      "440:\tlearn: 0.0480943\ttotal: 293ms\tremaining: 371ms\n",
      "441:\tlearn: 0.0478271\ttotal: 293ms\tremaining: 370ms\n",
      "442:\tlearn: 0.0476761\ttotal: 294ms\tremaining: 369ms\n",
      "443:\tlearn: 0.0474045\ttotal: 294ms\tremaining: 368ms\n",
      "444:\tlearn: 0.0472053\ttotal: 294ms\tremaining: 367ms\n",
      "445:\tlearn: 0.0468958\ttotal: 295ms\tremaining: 366ms\n",
      "446:\tlearn: 0.0465937\ttotal: 295ms\tremaining: 366ms\n",
      "447:\tlearn: 0.0462988\ttotal: 296ms\tremaining: 365ms\n",
      "448:\tlearn: 0.0461897\ttotal: 296ms\tremaining: 364ms\n",
      "449:\tlearn: 0.0459028\ttotal: 297ms\tremaining: 363ms\n",
      "450:\tlearn: 0.0457959\ttotal: 297ms\tremaining: 362ms\n",
      "451:\tlearn: 0.0455031\ttotal: 298ms\tremaining: 361ms\n",
      "452:\tlearn: 0.0452523\ttotal: 299ms\tremaining: 361ms\n",
      "453:\tlearn: 0.0450150\ttotal: 299ms\tremaining: 360ms\n",
      "454:\tlearn: 0.0447844\ttotal: 300ms\tremaining: 359ms\n",
      "455:\tlearn: 0.0445604\ttotal: 300ms\tremaining: 358ms\n",
      "456:\tlearn: 0.0443500\ttotal: 301ms\tremaining: 357ms\n",
      "457:\tlearn: 0.0442105\ttotal: 301ms\tremaining: 356ms\n",
      "458:\tlearn: 0.0440794\ttotal: 302ms\tremaining: 355ms\n",
      "459:\tlearn: 0.0439038\ttotal: 302ms\tremaining: 355ms\n",
      "460:\tlearn: 0.0437323\ttotal: 302ms\tremaining: 354ms\n",
      "461:\tlearn: 0.0436054\ttotal: 303ms\tremaining: 353ms\n",
      "462:\tlearn: 0.0433246\ttotal: 304ms\tremaining: 352ms\n",
      "463:\tlearn: 0.0431181\ttotal: 304ms\tremaining: 351ms\n",
      "464:\tlearn: 0.0428966\ttotal: 305ms\tremaining: 351ms\n",
      "465:\tlearn: 0.0427039\ttotal: 305ms\tremaining: 350ms\n",
      "466:\tlearn: 0.0425825\ttotal: 306ms\tremaining: 349ms\n",
      "467:\tlearn: 0.0423666\ttotal: 307ms\tremaining: 349ms\n",
      "468:\tlearn: 0.0420957\ttotal: 307ms\tremaining: 348ms\n",
      "469:\tlearn: 0.0419377\ttotal: 308ms\tremaining: 347ms\n",
      "470:\tlearn: 0.0418207\ttotal: 308ms\tremaining: 346ms\n",
      "471:\tlearn: 0.0415927\ttotal: 308ms\tremaining: 345ms\n",
      "472:\tlearn: 0.0413605\ttotal: 309ms\tremaining: 344ms\n",
      "473:\tlearn: 0.0411380\ttotal: 309ms\tremaining: 343ms\n",
      "474:\tlearn: 0.0409630\ttotal: 310ms\tremaining: 343ms\n",
      "475:\tlearn: 0.0407098\ttotal: 310ms\tremaining: 342ms\n",
      "476:\tlearn: 0.0405594\ttotal: 311ms\tremaining: 341ms\n",
      "477:\tlearn: 0.0404486\ttotal: 311ms\tremaining: 340ms\n",
      "478:\tlearn: 0.0401929\ttotal: 312ms\tremaining: 339ms\n",
      "479:\tlearn: 0.0400109\ttotal: 313ms\tremaining: 339ms\n",
      "480:\tlearn: 0.0397693\ttotal: 313ms\tremaining: 338ms\n",
      "481:\tlearn: 0.0396269\ttotal: 314ms\tremaining: 337ms\n",
      "482:\tlearn: 0.0393805\ttotal: 314ms\tremaining: 336ms\n",
      "483:\tlearn: 0.0392085\ttotal: 314ms\tremaining: 335ms\n",
      "484:\tlearn: 0.0389729\ttotal: 315ms\tremaining: 334ms\n",
      "485:\tlearn: 0.0388697\ttotal: 315ms\tremaining: 333ms\n",
      "486:\tlearn: 0.0386342\ttotal: 316ms\tremaining: 333ms\n",
      "487:\tlearn: 0.0385018\ttotal: 316ms\tremaining: 332ms\n",
      "488:\tlearn: 0.0382680\ttotal: 317ms\tremaining: 331ms\n",
      "489:\tlearn: 0.0381703\ttotal: 317ms\tremaining: 330ms\n",
      "490:\tlearn: 0.0379449\ttotal: 318ms\tremaining: 329ms\n",
      "491:\tlearn: 0.0378413\ttotal: 318ms\tremaining: 328ms\n",
      "492:\tlearn: 0.0375651\ttotal: 318ms\tremaining: 327ms\n",
      "493:\tlearn: 0.0374573\ttotal: 319ms\tremaining: 327ms\n",
      "494:\tlearn: 0.0372352\ttotal: 319ms\tremaining: 326ms\n",
      "495:\tlearn: 0.0371235\ttotal: 320ms\tremaining: 325ms\n",
      "496:\tlearn: 0.0368368\ttotal: 321ms\tremaining: 325ms\n",
      "497:\tlearn: 0.0367459\ttotal: 321ms\tremaining: 324ms\n",
      "498:\tlearn: 0.0365323\ttotal: 322ms\tremaining: 323ms\n",
      "499:\tlearn: 0.0364477\ttotal: 323ms\tremaining: 323ms\n",
      "500:\tlearn: 0.0362380\ttotal: 323ms\tremaining: 322ms\n",
      "501:\tlearn: 0.0361371\ttotal: 324ms\tremaining: 321ms\n",
      "502:\tlearn: 0.0358598\ttotal: 324ms\tremaining: 320ms\n",
      "503:\tlearn: 0.0356555\ttotal: 324ms\tremaining: 319ms\n",
      "504:\tlearn: 0.0355742\ttotal: 325ms\tremaining: 319ms\n",
      "505:\tlearn: 0.0353952\ttotal: 325ms\tremaining: 318ms\n",
      "506:\tlearn: 0.0353157\ttotal: 326ms\tremaining: 317ms\n",
      "507:\tlearn: 0.0352377\ttotal: 326ms\tremaining: 316ms\n",
      "508:\tlearn: 0.0351611\ttotal: 327ms\tremaining: 315ms\n",
      "509:\tlearn: 0.0349661\ttotal: 327ms\tremaining: 314ms\n",
      "510:\tlearn: 0.0347794\ttotal: 327ms\tremaining: 313ms\n",
      "511:\tlearn: 0.0346084\ttotal: 328ms\tremaining: 312ms\n",
      "512:\tlearn: 0.0345344\ttotal: 328ms\tremaining: 312ms\n",
      "513:\tlearn: 0.0344617\ttotal: 329ms\tremaining: 311ms\n",
      "514:\tlearn: 0.0342724\ttotal: 329ms\tremaining: 310ms\n",
      "515:\tlearn: 0.0342014\ttotal: 330ms\tremaining: 309ms\n",
      "516:\tlearn: 0.0340180\ttotal: 330ms\tremaining: 308ms\n",
      "517:\tlearn: 0.0339485\ttotal: 331ms\tremaining: 308ms\n",
      "518:\tlearn: 0.0337623\ttotal: 331ms\tremaining: 307ms\n",
      "519:\tlearn: 0.0335833\ttotal: 331ms\tremaining: 306ms\n",
      "520:\tlearn: 0.0335338\ttotal: 332ms\tremaining: 305ms\n",
      "521:\tlearn: 0.0334849\ttotal: 332ms\tremaining: 304ms\n",
      "522:\tlearn: 0.0333024\ttotal: 333ms\tremaining: 304ms\n",
      "523:\tlearn: 0.0331487\ttotal: 333ms\tremaining: 303ms\n",
      "524:\tlearn: 0.0330142\ttotal: 334ms\tremaining: 302ms\n",
      "525:\tlearn: 0.0329669\ttotal: 334ms\tremaining: 301ms\n",
      "526:\tlearn: 0.0329201\ttotal: 335ms\tremaining: 301ms\n",
      "527:\tlearn: 0.0327424\ttotal: 336ms\tremaining: 300ms\n",
      "528:\tlearn: 0.0325764\ttotal: 336ms\tremaining: 299ms\n",
      "529:\tlearn: 0.0325307\ttotal: 337ms\tremaining: 299ms\n",
      "530:\tlearn: 0.0324855\ttotal: 338ms\tremaining: 298ms\n",
      "531:\tlearn: 0.0322866\ttotal: 338ms\tremaining: 298ms\n",
      "532:\tlearn: 0.0321778\ttotal: 339ms\tremaining: 297ms\n",
      "533:\tlearn: 0.0321337\ttotal: 339ms\tremaining: 296ms\n",
      "534:\tlearn: 0.0319835\ttotal: 340ms\tremaining: 295ms\n",
      "535:\tlearn: 0.0319403\ttotal: 340ms\tremaining: 295ms\n",
      "536:\tlearn: 0.0318975\ttotal: 341ms\tremaining: 294ms\n",
      "537:\tlearn: 0.0318404\ttotal: 341ms\tremaining: 293ms\n",
      "538:\tlearn: 0.0317984\ttotal: 342ms\tremaining: 292ms\n",
      "539:\tlearn: 0.0317569\ttotal: 342ms\tremaining: 292ms\n",
      "540:\tlearn: 0.0317159\ttotal: 343ms\tremaining: 291ms\n",
      "541:\tlearn: 0.0315547\ttotal: 343ms\tremaining: 290ms\n",
      "542:\tlearn: 0.0314059\ttotal: 344ms\tremaining: 289ms\n",
      "543:\tlearn: 0.0312719\ttotal: 344ms\tremaining: 289ms\n",
      "544:\tlearn: 0.0311305\ttotal: 345ms\tremaining: 288ms\n",
      "545:\tlearn: 0.0310763\ttotal: 345ms\tremaining: 287ms\n",
      "546:\tlearn: 0.0310232\ttotal: 346ms\tremaining: 286ms\n",
      "547:\tlearn: 0.0308713\ttotal: 346ms\tremaining: 286ms\n",
      "548:\tlearn: 0.0308073\ttotal: 347ms\tremaining: 285ms\n",
      "549:\tlearn: 0.0306748\ttotal: 347ms\tremaining: 284ms\n",
      "550:\tlearn: 0.0304856\ttotal: 348ms\tremaining: 284ms\n",
      "551:\tlearn: 0.0304132\ttotal: 348ms\tremaining: 283ms\n",
      "552:\tlearn: 0.0302570\ttotal: 349ms\tremaining: 282ms\n",
      "553:\tlearn: 0.0301311\ttotal: 349ms\tremaining: 281ms\n",
      "554:\tlearn: 0.0299483\ttotal: 350ms\tremaining: 280ms\n",
      "555:\tlearn: 0.0298047\ttotal: 350ms\tremaining: 280ms\n",
      "556:\tlearn: 0.0297452\ttotal: 351ms\tremaining: 279ms\n",
      "557:\tlearn: 0.0295635\ttotal: 351ms\tremaining: 278ms\n",
      "558:\tlearn: 0.0294429\ttotal: 352ms\tremaining: 278ms\n",
      "559:\tlearn: 0.0293077\ttotal: 353ms\tremaining: 277ms\n",
      "560:\tlearn: 0.0291882\ttotal: 353ms\tremaining: 276ms\n",
      "561:\tlearn: 0.0291212\ttotal: 354ms\tremaining: 276ms\n",
      "562:\tlearn: 0.0289450\ttotal: 354ms\tremaining: 275ms\n",
      "563:\tlearn: 0.0288112\ttotal: 355ms\tremaining: 274ms\n",
      "564:\tlearn: 0.0286685\ttotal: 355ms\tremaining: 273ms\n",
      "565:\tlearn: 0.0285385\ttotal: 356ms\tremaining: 273ms\n",
      "566:\tlearn: 0.0284742\ttotal: 356ms\tremaining: 272ms\n",
      "567:\tlearn: 0.0283095\ttotal: 357ms\tremaining: 271ms\n",
      "568:\tlearn: 0.0282465\ttotal: 357ms\tremaining: 271ms\n",
      "569:\tlearn: 0.0280787\ttotal: 358ms\tremaining: 270ms\n",
      "570:\tlearn: 0.0279682\ttotal: 358ms\tremaining: 269ms\n",
      "571:\tlearn: 0.0278437\ttotal: 359ms\tremaining: 269ms\n",
      "572:\tlearn: 0.0277183\ttotal: 359ms\tremaining: 268ms\n",
      "573:\tlearn: 0.0275791\ttotal: 360ms\tremaining: 267ms\n",
      "574:\tlearn: 0.0275472\ttotal: 360ms\tremaining: 266ms\n",
      "575:\tlearn: 0.0273904\ttotal: 361ms\tremaining: 266ms\n",
      "576:\tlearn: 0.0272853\ttotal: 361ms\tremaining: 265ms\n",
      "577:\tlearn: 0.0272262\ttotal: 362ms\tremaining: 264ms\n",
      "578:\tlearn: 0.0271233\ttotal: 362ms\tremaining: 264ms\n",
      "579:\tlearn: 0.0269700\ttotal: 363ms\tremaining: 263ms\n",
      "580:\tlearn: 0.0269144\ttotal: 363ms\tremaining: 262ms\n",
      "581:\tlearn: 0.0267831\ttotal: 364ms\tremaining: 261ms\n",
      "582:\tlearn: 0.0266778\ttotal: 364ms\tremaining: 261ms\n",
      "583:\tlearn: 0.0266337\ttotal: 365ms\tremaining: 260ms\n",
      "584:\tlearn: 0.0264751\ttotal: 365ms\tremaining: 259ms\n",
      "585:\tlearn: 0.0263723\ttotal: 366ms\tremaining: 258ms\n",
      "586:\tlearn: 0.0263290\ttotal: 366ms\tremaining: 258ms\n",
      "587:\tlearn: 0.0262145\ttotal: 367ms\tremaining: 257ms\n",
      "588:\tlearn: 0.0260679\ttotal: 368ms\tremaining: 257ms\n"
     ]
    },
    {
     "name": "stdout",
     "output_type": "stream",
     "text": [
      "589:\tlearn: 0.0260253\ttotal: 369ms\tremaining: 256ms\n",
      "590:\tlearn: 0.0258815\ttotal: 370ms\tremaining: 256ms\n",
      "591:\tlearn: 0.0257378\ttotal: 370ms\tremaining: 255ms\n",
      "592:\tlearn: 0.0256383\ttotal: 371ms\tremaining: 254ms\n",
      "593:\tlearn: 0.0255163\ttotal: 371ms\tremaining: 254ms\n",
      "594:\tlearn: 0.0254760\ttotal: 372ms\tremaining: 253ms\n",
      "595:\tlearn: 0.0253675\ttotal: 372ms\tremaining: 252ms\n",
      "596:\tlearn: 0.0252492\ttotal: 373ms\tremaining: 252ms\n",
      "597:\tlearn: 0.0252094\ttotal: 373ms\tremaining: 251ms\n",
      "598:\tlearn: 0.0251129\ttotal: 374ms\tremaining: 250ms\n",
      "599:\tlearn: 0.0249745\ttotal: 374ms\tremaining: 249ms\n",
      "600:\tlearn: 0.0249111\ttotal: 375ms\tremaining: 249ms\n",
      "601:\tlearn: 0.0248722\ttotal: 375ms\tremaining: 248ms\n",
      "602:\tlearn: 0.0247360\ttotal: 376ms\tremaining: 247ms\n",
      "603:\tlearn: 0.0246742\ttotal: 376ms\tremaining: 247ms\n",
      "604:\tlearn: 0.0245297\ttotal: 377ms\tremaining: 246ms\n",
      "605:\tlearn: 0.0244918\ttotal: 377ms\tremaining: 245ms\n",
      "606:\tlearn: 0.0243495\ttotal: 377ms\tremaining: 244ms\n",
      "607:\tlearn: 0.0243123\ttotal: 378ms\tremaining: 244ms\n",
      "608:\tlearn: 0.0242026\ttotal: 378ms\tremaining: 243ms\n",
      "609:\tlearn: 0.0241530\ttotal: 379ms\tremaining: 242ms\n",
      "610:\tlearn: 0.0240134\ttotal: 379ms\tremaining: 242ms\n",
      "611:\tlearn: 0.0239775\ttotal: 380ms\tremaining: 241ms\n",
      "612:\tlearn: 0.0239293\ttotal: 381ms\tremaining: 240ms\n",
      "613:\tlearn: 0.0238093\ttotal: 382ms\tremaining: 240ms\n",
      "614:\tlearn: 0.0236916\ttotal: 382ms\tremaining: 239ms\n",
      "615:\tlearn: 0.0236444\ttotal: 383ms\tremaining: 239ms\n",
      "616:\tlearn: 0.0235099\ttotal: 384ms\tremaining: 238ms\n",
      "617:\tlearn: 0.0234640\ttotal: 384ms\tremaining: 238ms\n",
      "618:\tlearn: 0.0233439\ttotal: 385ms\tremaining: 237ms\n",
      "619:\tlearn: 0.0232988\ttotal: 385ms\tremaining: 236ms\n",
      "620:\tlearn: 0.0232533\ttotal: 386ms\tremaining: 235ms\n",
      "621:\tlearn: 0.0231406\ttotal: 386ms\tremaining: 235ms\n",
      "622:\tlearn: 0.0230960\ttotal: 386ms\tremaining: 234ms\n",
      "623:\tlearn: 0.0229632\ttotal: 387ms\tremaining: 233ms\n",
      "624:\tlearn: 0.0229201\ttotal: 387ms\tremaining: 232ms\n",
      "625:\tlearn: 0.0228353\ttotal: 388ms\tremaining: 232ms\n",
      "626:\tlearn: 0.0227204\ttotal: 388ms\tremaining: 231ms\n",
      "627:\tlearn: 0.0226379\ttotal: 389ms\tremaining: 230ms\n",
      "628:\tlearn: 0.0225152\ttotal: 389ms\tremaining: 230ms\n",
      "629:\tlearn: 0.0223903\ttotal: 390ms\tremaining: 229ms\n",
      "630:\tlearn: 0.0223065\ttotal: 390ms\tremaining: 228ms\n",
      "631:\tlearn: 0.0222741\ttotal: 391ms\tremaining: 227ms\n",
      "632:\tlearn: 0.0221520\ttotal: 391ms\tremaining: 227ms\n",
      "633:\tlearn: 0.0221202\ttotal: 392ms\tremaining: 226ms\n",
      "634:\tlearn: 0.0220029\ttotal: 392ms\tremaining: 225ms\n",
      "635:\tlearn: 0.0219233\ttotal: 392ms\tremaining: 225ms\n",
      "636:\tlearn: 0.0218926\ttotal: 393ms\tremaining: 224ms\n",
      "637:\tlearn: 0.0217741\ttotal: 393ms\tremaining: 223ms\n",
      "638:\tlearn: 0.0217440\ttotal: 394ms\tremaining: 222ms\n",
      "639:\tlearn: 0.0216311\ttotal: 394ms\tremaining: 222ms\n",
      "640:\tlearn: 0.0214850\ttotal: 395ms\tremaining: 221ms\n",
      "641:\tlearn: 0.0213701\ttotal: 395ms\tremaining: 220ms\n",
      "642:\tlearn: 0.0212655\ttotal: 396ms\tremaining: 220ms\n",
      "643:\tlearn: 0.0212365\ttotal: 396ms\tremaining: 219ms\n",
      "644:\tlearn: 0.0211276\ttotal: 397ms\tremaining: 219ms\n",
      "645:\tlearn: 0.0210263\ttotal: 398ms\tremaining: 218ms\n",
      "646:\tlearn: 0.0209981\ttotal: 398ms\tremaining: 217ms\n",
      "647:\tlearn: 0.0208580\ttotal: 399ms\tremaining: 217ms\n",
      "648:\tlearn: 0.0207526\ttotal: 399ms\tremaining: 216ms\n",
      "649:\tlearn: 0.0206353\ttotal: 400ms\tremaining: 215ms\n",
      "650:\tlearn: 0.0205383\ttotal: 400ms\tremaining: 215ms\n",
      "651:\tlearn: 0.0205079\ttotal: 401ms\tremaining: 214ms\n",
      "652:\tlearn: 0.0204224\ttotal: 401ms\tremaining: 213ms\n",
      "653:\tlearn: 0.0202943\ttotal: 401ms\tremaining: 212ms\n",
      "654:\tlearn: 0.0202260\ttotal: 402ms\tremaining: 212ms\n",
      "655:\tlearn: 0.0201309\ttotal: 403ms\tremaining: 211ms\n",
      "656:\tlearn: 0.0200649\ttotal: 403ms\tremaining: 210ms\n",
      "657:\tlearn: 0.0199503\ttotal: 403ms\tremaining: 210ms\n",
      "658:\tlearn: 0.0198639\ttotal: 404ms\tremaining: 209ms\n",
      "659:\tlearn: 0.0198422\ttotal: 404ms\tremaining: 208ms\n",
      "660:\tlearn: 0.0197527\ttotal: 405ms\tremaining: 207ms\n",
      "661:\tlearn: 0.0196677\ttotal: 405ms\tremaining: 207ms\n",
      "662:\tlearn: 0.0195856\ttotal: 405ms\tremaining: 206ms\n",
      "663:\tlearn: 0.0195058\ttotal: 406ms\tremaining: 205ms\n",
      "664:\tlearn: 0.0194015\ttotal: 406ms\tremaining: 205ms\n",
      "665:\tlearn: 0.0193002\ttotal: 407ms\tremaining: 204ms\n",
      "666:\tlearn: 0.0192092\ttotal: 407ms\tremaining: 203ms\n",
      "667:\tlearn: 0.0191223\ttotal: 408ms\tremaining: 203ms\n",
      "668:\tlearn: 0.0190929\ttotal: 408ms\tremaining: 202ms\n",
      "669:\tlearn: 0.0190120\ttotal: 409ms\tremaining: 201ms\n",
      "670:\tlearn: 0.0189449\ttotal: 409ms\tremaining: 201ms\n",
      "671:\tlearn: 0.0188790\ttotal: 410ms\tremaining: 200ms\n",
      "672:\tlearn: 0.0188000\ttotal: 411ms\tremaining: 200ms\n",
      "673:\tlearn: 0.0187355\ttotal: 411ms\tremaining: 199ms\n",
      "674:\tlearn: 0.0186722\ttotal: 412ms\tremaining: 198ms\n",
      "675:\tlearn: 0.0186102\ttotal: 412ms\tremaining: 198ms\n",
      "676:\tlearn: 0.0185327\ttotal: 413ms\tremaining: 197ms\n",
      "677:\tlearn: 0.0184719\ttotal: 414ms\tremaining: 196ms\n",
      "678:\tlearn: 0.0184123\ttotal: 414ms\tremaining: 196ms\n",
      "679:\tlearn: 0.0183333\ttotal: 415ms\tremaining: 195ms\n",
      "680:\tlearn: 0.0182699\ttotal: 415ms\tremaining: 194ms\n",
      "681:\tlearn: 0.0182078\ttotal: 416ms\tremaining: 194ms\n",
      "682:\tlearn: 0.0181354\ttotal: 416ms\tremaining: 193ms\n",
      "683:\tlearn: 0.0180774\ttotal: 417ms\tremaining: 192ms\n",
      "684:\tlearn: 0.0180061\ttotal: 417ms\tremaining: 192ms\n",
      "685:\tlearn: 0.0179460\ttotal: 417ms\tremaining: 191ms\n",
      "686:\tlearn: 0.0178759\ttotal: 418ms\tremaining: 190ms\n",
      "687:\tlearn: 0.0178191\ttotal: 418ms\tremaining: 190ms\n",
      "688:\tlearn: 0.0177501\ttotal: 419ms\tremaining: 189ms\n",
      "689:\tlearn: 0.0176918\ttotal: 419ms\tremaining: 188ms\n",
      "690:\tlearn: 0.0176241\ttotal: 420ms\tremaining: 188ms\n",
      "691:\tlearn: 0.0175672\ttotal: 421ms\tremaining: 187ms\n",
      "692:\tlearn: 0.0174872\ttotal: 421ms\tremaining: 187ms\n",
      "693:\tlearn: 0.0174526\ttotal: 422ms\tremaining: 186ms\n",
      "694:\tlearn: 0.0173972\ttotal: 422ms\tremaining: 185ms\n",
      "695:\tlearn: 0.0173317\ttotal: 422ms\tremaining: 185ms\n",
      "696:\tlearn: 0.0172774\ttotal: 423ms\tremaining: 184ms\n",
      "697:\tlearn: 0.0172123\ttotal: 423ms\tremaining: 183ms\n",
      "698:\tlearn: 0.0171486\ttotal: 424ms\tremaining: 182ms\n",
      "699:\tlearn: 0.0170941\ttotal: 424ms\tremaining: 182ms\n",
      "700:\tlearn: 0.0170482\ttotal: 425ms\tremaining: 181ms\n",
      "701:\tlearn: 0.0170033\ttotal: 425ms\tremaining: 180ms\n",
      "702:\tlearn: 0.0169594\ttotal: 425ms\tremaining: 180ms\n",
      "703:\tlearn: 0.0168885\ttotal: 426ms\tremaining: 179ms\n",
      "704:\tlearn: 0.0168248\ttotal: 426ms\tremaining: 178ms\n",
      "705:\tlearn: 0.0167373\ttotal: 427ms\tremaining: 178ms\n",
      "706:\tlearn: 0.0166781\ttotal: 427ms\tremaining: 177ms\n",
      "707:\tlearn: 0.0165915\ttotal: 428ms\tremaining: 177ms\n",
      "708:\tlearn: 0.0165707\ttotal: 429ms\tremaining: 176ms\n",
      "709:\tlearn: 0.0164851\ttotal: 429ms\tremaining: 175ms\n",
      "710:\tlearn: 0.0164194\ttotal: 430ms\tremaining: 175ms\n",
      "711:\tlearn: 0.0163596\ttotal: 430ms\tremaining: 174ms\n",
      "712:\tlearn: 0.0163390\ttotal: 430ms\tremaining: 173ms\n",
      "713:\tlearn: 0.0162554\ttotal: 431ms\tremaining: 173ms\n",
      "714:\tlearn: 0.0162351\ttotal: 431ms\tremaining: 172ms\n",
      "715:\tlearn: 0.0161527\ttotal: 432ms\tremaining: 171ms\n",
      "716:\tlearn: 0.0161326\ttotal: 432ms\tremaining: 171ms\n",
      "717:\tlearn: 0.0161128\ttotal: 433ms\tremaining: 170ms\n",
      "718:\tlearn: 0.0160087\ttotal: 433ms\tremaining: 169ms\n",
      "719:\tlearn: 0.0159408\ttotal: 434ms\tremaining: 169ms\n",
      "720:\tlearn: 0.0158603\ttotal: 434ms\tremaining: 168ms\n",
      "721:\tlearn: 0.0157939\ttotal: 435ms\tremaining: 167ms\n",
      "722:\tlearn: 0.0157394\ttotal: 435ms\tremaining: 167ms\n",
      "723:\tlearn: 0.0156850\ttotal: 435ms\tremaining: 166ms\n",
      "724:\tlearn: 0.0156484\ttotal: 436ms\tremaining: 165ms\n",
      "725:\tlearn: 0.0155823\ttotal: 437ms\tremaining: 165ms\n",
      "726:\tlearn: 0.0155469\ttotal: 437ms\tremaining: 164ms\n",
      "727:\tlearn: 0.0155277\ttotal: 438ms\tremaining: 164ms\n",
      "728:\tlearn: 0.0154726\ttotal: 438ms\tremaining: 163ms\n"
     ]
    },
    {
     "name": "stdout",
     "output_type": "stream",
     "text": [
      "729:\tlearn: 0.0154538\ttotal: 439ms\tremaining: 162ms\n",
      "730:\tlearn: 0.0153763\ttotal: 439ms\tremaining: 162ms\n",
      "731:\tlearn: 0.0153576\ttotal: 440ms\tremaining: 161ms\n",
      "732:\tlearn: 0.0152812\ttotal: 440ms\tremaining: 160ms\n",
      "733:\tlearn: 0.0152235\ttotal: 441ms\tremaining: 160ms\n",
      "734:\tlearn: 0.0152051\ttotal: 441ms\tremaining: 159ms\n",
      "735:\tlearn: 0.0151488\ttotal: 442ms\tremaining: 159ms\n",
      "736:\tlearn: 0.0151307\ttotal: 443ms\tremaining: 158ms\n",
      "737:\tlearn: 0.0150544\ttotal: 443ms\tremaining: 157ms\n",
      "738:\tlearn: 0.0150366\ttotal: 444ms\tremaining: 157ms\n",
      "739:\tlearn: 0.0149599\ttotal: 444ms\tremaining: 156ms\n",
      "740:\tlearn: 0.0149423\ttotal: 445ms\tremaining: 155ms\n",
      "741:\tlearn: 0.0148905\ttotal: 445ms\tremaining: 155ms\n",
      "742:\tlearn: 0.0148444\ttotal: 445ms\tremaining: 154ms\n",
      "743:\tlearn: 0.0148270\ttotal: 446ms\tremaining: 153ms\n",
      "744:\tlearn: 0.0147489\ttotal: 446ms\tremaining: 153ms\n",
      "745:\tlearn: 0.0147318\ttotal: 447ms\tremaining: 152ms\n",
      "746:\tlearn: 0.0146712\ttotal: 447ms\tremaining: 151ms\n",
      "747:\tlearn: 0.0146238\ttotal: 448ms\tremaining: 151ms\n",
      "748:\tlearn: 0.0145507\ttotal: 448ms\tremaining: 150ms\n",
      "749:\tlearn: 0.0145066\ttotal: 449ms\tremaining: 150ms\n",
      "750:\tlearn: 0.0144428\ttotal: 449ms\tremaining: 149ms\n",
      "751:\tlearn: 0.0144038\ttotal: 449ms\tremaining: 148ms\n",
      "752:\tlearn: 0.0143872\ttotal: 450ms\tremaining: 148ms\n",
      "753:\tlearn: 0.0143151\ttotal: 450ms\tremaining: 147ms\n",
      "754:\tlearn: 0.0142986\ttotal: 451ms\tremaining: 146ms\n",
      "755:\tlearn: 0.0142237\ttotal: 451ms\tremaining: 146ms\n",
      "756:\tlearn: 0.0142075\ttotal: 452ms\tremaining: 145ms\n",
      "757:\tlearn: 0.0141458\ttotal: 452ms\tremaining: 144ms\n",
      "758:\tlearn: 0.0141012\ttotal: 453ms\tremaining: 144ms\n",
      "759:\tlearn: 0.0140315\ttotal: 453ms\tremaining: 143ms\n",
      "760:\tlearn: 0.0139631\ttotal: 453ms\tremaining: 142ms\n",
      "761:\tlearn: 0.0139472\ttotal: 454ms\tremaining: 142ms\n",
      "762:\tlearn: 0.0139055\ttotal: 454ms\tremaining: 141ms\n",
      "763:\tlearn: 0.0138898\ttotal: 455ms\tremaining: 140ms\n",
      "764:\tlearn: 0.0138229\ttotal: 455ms\tremaining: 140ms\n",
      "765:\tlearn: 0.0138075\ttotal: 456ms\tremaining: 139ms\n",
      "766:\tlearn: 0.0137419\ttotal: 457ms\tremaining: 139ms\n",
      "767:\tlearn: 0.0137266\ttotal: 457ms\tremaining: 138ms\n",
      "768:\tlearn: 0.0136862\ttotal: 458ms\tremaining: 137ms\n",
      "769:\tlearn: 0.0136405\ttotal: 458ms\tremaining: 137ms\n",
      "770:\tlearn: 0.0135542\ttotal: 459ms\tremaining: 136ms\n",
      "771:\tlearn: 0.0134696\ttotal: 460ms\tremaining: 136ms\n",
      "772:\tlearn: 0.0133984\ttotal: 460ms\tremaining: 135ms\n",
      "773:\tlearn: 0.0133287\ttotal: 461ms\tremaining: 135ms\n",
      "774:\tlearn: 0.0132632\ttotal: 461ms\tremaining: 134ms\n",
      "775:\tlearn: 0.0132483\ttotal: 462ms\tremaining: 133ms\n",
      "776:\tlearn: 0.0131920\ttotal: 462ms\tremaining: 133ms\n",
      "777:\tlearn: 0.0131283\ttotal: 463ms\tremaining: 132ms\n",
      "778:\tlearn: 0.0130730\ttotal: 463ms\tremaining: 131ms\n",
      "779:\tlearn: 0.0130327\ttotal: 464ms\tremaining: 131ms\n",
      "780:\tlearn: 0.0129956\ttotal: 464ms\tremaining: 130ms\n",
      "781:\tlearn: 0.0129619\ttotal: 465ms\tremaining: 130ms\n",
      "782:\tlearn: 0.0129475\ttotal: 465ms\tremaining: 129ms\n",
      "783:\tlearn: 0.0128830\ttotal: 466ms\tremaining: 128ms\n",
      "784:\tlearn: 0.0128688\ttotal: 466ms\tremaining: 128ms\n",
      "785:\tlearn: 0.0128152\ttotal: 467ms\tremaining: 127ms\n",
      "786:\tlearn: 0.0127551\ttotal: 467ms\tremaining: 126ms\n",
      "787:\tlearn: 0.0127412\ttotal: 468ms\tremaining: 126ms\n",
      "788:\tlearn: 0.0127030\ttotal: 468ms\tremaining: 125ms\n",
      "789:\tlearn: 0.0126432\ttotal: 468ms\tremaining: 125ms\n",
      "790:\tlearn: 0.0125845\ttotal: 469ms\tremaining: 124ms\n",
      "791:\tlearn: 0.0125707\ttotal: 469ms\tremaining: 123ms\n",
      "792:\tlearn: 0.0125357\ttotal: 470ms\tremaining: 123ms\n",
      "793:\tlearn: 0.0124782\ttotal: 470ms\tremaining: 122ms\n",
      "794:\tlearn: 0.0124647\ttotal: 471ms\tremaining: 121ms\n",
      "795:\tlearn: 0.0124513\ttotal: 471ms\tremaining: 121ms\n",
      "796:\tlearn: 0.0123950\ttotal: 472ms\tremaining: 120ms\n",
      "797:\tlearn: 0.0123818\ttotal: 472ms\tremaining: 120ms\n",
      "798:\tlearn: 0.0123241\ttotal: 473ms\tremaining: 119ms\n",
      "799:\tlearn: 0.0122738\ttotal: 474ms\tremaining: 118ms\n",
      "800:\tlearn: 0.0122399\ttotal: 474ms\tremaining: 118ms\n",
      "801:\tlearn: 0.0122270\ttotal: 475ms\tremaining: 117ms\n",
      "802:\tlearn: 0.0121541\ttotal: 475ms\tremaining: 117ms\n",
      "803:\tlearn: 0.0121051\ttotal: 476ms\tremaining: 116ms\n",
      "804:\tlearn: 0.0120569\ttotal: 476ms\tremaining: 115ms\n",
      "805:\tlearn: 0.0120215\ttotal: 477ms\tremaining: 115ms\n",
      "806:\tlearn: 0.0119889\ttotal: 477ms\tremaining: 114ms\n",
      "807:\tlearn: 0.0119337\ttotal: 478ms\tremaining: 113ms\n",
      "808:\tlearn: 0.0119081\ttotal: 478ms\tremaining: 113ms\n",
      "809:\tlearn: 0.0118741\ttotal: 478ms\tremaining: 112ms\n",
      "810:\tlearn: 0.0118206\ttotal: 479ms\tremaining: 112ms\n",
      "811:\tlearn: 0.0118083\ttotal: 479ms\tremaining: 111ms\n",
      "812:\tlearn: 0.0117760\ttotal: 480ms\tremaining: 110ms\n",
      "813:\tlearn: 0.0117236\ttotal: 480ms\tremaining: 110ms\n",
      "814:\tlearn: 0.0116633\ttotal: 480ms\tremaining: 109ms\n",
      "815:\tlearn: 0.0116392\ttotal: 481ms\tremaining: 108ms\n",
      "816:\tlearn: 0.0116156\ttotal: 481ms\tremaining: 108ms\n",
      "817:\tlearn: 0.0115624\ttotal: 482ms\tremaining: 107ms\n",
      "818:\tlearn: 0.0115167\ttotal: 482ms\tremaining: 107ms\n",
      "819:\tlearn: 0.0114718\ttotal: 482ms\tremaining: 106ms\n",
      "820:\tlearn: 0.0114198\ttotal: 483ms\tremaining: 105ms\n",
      "821:\tlearn: 0.0113973\ttotal: 483ms\tremaining: 105ms\n",
      "822:\tlearn: 0.0113478\ttotal: 484ms\tremaining: 104ms\n",
      "823:\tlearn: 0.0112991\ttotal: 484ms\tremaining: 103ms\n",
      "824:\tlearn: 0.0112772\ttotal: 485ms\tremaining: 103ms\n",
      "825:\tlearn: 0.0112273\ttotal: 485ms\tremaining: 102ms\n",
      "826:\tlearn: 0.0111840\ttotal: 486ms\tremaining: 102ms\n",
      "827:\tlearn: 0.0111285\ttotal: 486ms\tremaining: 101ms\n",
      "828:\tlearn: 0.0111073\ttotal: 487ms\tremaining: 100ms\n",
      "829:\tlearn: 0.0110588\ttotal: 488ms\tremaining: 99.9ms\n",
      "830:\tlearn: 0.0110124\ttotal: 488ms\tremaining: 99.3ms\n",
      "831:\tlearn: 0.0109581\ttotal: 489ms\tremaining: 98.7ms\n",
      "832:\tlearn: 0.0109375\ttotal: 490ms\tremaining: 98.1ms\n",
      "833:\tlearn: 0.0109221\ttotal: 490ms\tremaining: 97.6ms\n",
      "834:\tlearn: 0.0108686\ttotal: 490ms\tremaining: 96.9ms\n",
      "835:\tlearn: 0.0108406\ttotal: 491ms\tremaining: 96.3ms\n",
      "836:\tlearn: 0.0108208\ttotal: 491ms\tremaining: 95.7ms\n",
      "837:\tlearn: 0.0107748\ttotal: 492ms\tremaining: 95.1ms\n",
      "838:\tlearn: 0.0107223\ttotal: 492ms\tremaining: 94.5ms\n",
      "839:\tlearn: 0.0106753\ttotal: 493ms\tremaining: 93.9ms\n",
      "840:\tlearn: 0.0106603\ttotal: 493ms\tremaining: 93.2ms\n",
      "841:\tlearn: 0.0106089\ttotal: 494ms\tremaining: 92.6ms\n",
      "842:\tlearn: 0.0105627\ttotal: 494ms\tremaining: 92ms\n",
      "843:\tlearn: 0.0105122\ttotal: 495ms\tremaining: 91.4ms\n",
      "844:\tlearn: 0.0104631\ttotal: 495ms\tremaining: 90.8ms\n",
      "845:\tlearn: 0.0104367\ttotal: 496ms\tremaining: 90.2ms\n",
      "846:\tlearn: 0.0104231\ttotal: 496ms\tremaining: 89.6ms\n",
      "847:\tlearn: 0.0103971\ttotal: 497ms\tremaining: 89ms\n",
      "848:\tlearn: 0.0103479\ttotal: 497ms\tremaining: 88.4ms\n",
      "849:\tlearn: 0.0103345\ttotal: 498ms\tremaining: 87.8ms\n",
      "850:\tlearn: 0.0103081\ttotal: 498ms\tremaining: 87.2ms\n",
      "851:\tlearn: 0.0102948\ttotal: 498ms\tremaining: 86.6ms\n",
      "852:\tlearn: 0.0102464\ttotal: 499ms\tremaining: 86ms\n",
      "853:\tlearn: 0.0102205\ttotal: 499ms\tremaining: 85.4ms\n",
      "854:\tlearn: 0.0102075\ttotal: 500ms\tremaining: 84.8ms\n",
      "855:\tlearn: 0.0101820\ttotal: 501ms\tremaining: 84.2ms\n",
      "856:\tlearn: 0.0101691\ttotal: 501ms\tremaining: 83.6ms\n",
      "857:\tlearn: 0.0101216\ttotal: 502ms\tremaining: 83ms\n",
      "858:\tlearn: 0.0101089\ttotal: 502ms\tremaining: 82.4ms\n",
      "859:\tlearn: 0.0100798\ttotal: 503ms\tremaining: 81.8ms\n",
      "860:\tlearn: 0.0100330\ttotal: 503ms\tremaining: 81.2ms\n",
      "861:\tlearn: 0.0099871\ttotal: 504ms\tremaining: 80.6ms\n",
      "862:\tlearn: 0.0099746\ttotal: 504ms\tremaining: 80.1ms\n",
      "863:\tlearn: 0.0099249\ttotal: 505ms\tremaining: 79.5ms\n",
      "864:\tlearn: 0.0098969\ttotal: 505ms\tremaining: 78.9ms\n",
      "865:\tlearn: 0.0098520\ttotal: 506ms\tremaining: 78.3ms\n",
      "866:\tlearn: 0.0098078\ttotal: 506ms\tremaining: 77.7ms\n",
      "867:\tlearn: 0.0097805\ttotal: 507ms\tremaining: 77ms\n",
      "868:\tlearn: 0.0097370\ttotal: 507ms\tremaining: 76.4ms\n",
      "869:\tlearn: 0.0096959\ttotal: 508ms\tremaining: 75.8ms\n",
      "870:\tlearn: 0.0096484\ttotal: 508ms\tremaining: 75.2ms\n",
      "871:\tlearn: 0.0096060\ttotal: 508ms\tremaining: 74.6ms\n",
      "872:\tlearn: 0.0095796\ttotal: 509ms\tremaining: 74ms\n",
      "873:\tlearn: 0.0095366\ttotal: 509ms\tremaining: 73.4ms\n",
      "874:\tlearn: 0.0094953\ttotal: 510ms\tremaining: 72.8ms\n",
      "875:\tlearn: 0.0094835\ttotal: 510ms\tremaining: 72.2ms\n",
      "876:\tlearn: 0.0094579\ttotal: 511ms\tremaining: 71.6ms\n",
      "877:\tlearn: 0.0094172\ttotal: 511ms\tremaining: 71ms\n",
      "878:\tlearn: 0.0093580\ttotal: 511ms\tremaining: 70.4ms\n",
      "879:\tlearn: 0.0093296\ttotal: 512ms\tremaining: 69.8ms\n",
      "880:\tlearn: 0.0092715\ttotal: 512ms\tremaining: 69.2ms\n",
      "881:\tlearn: 0.0092601\ttotal: 513ms\tremaining: 68.6ms\n",
      "882:\tlearn: 0.0092488\ttotal: 513ms\tremaining: 68ms\n",
      "883:\tlearn: 0.0091919\ttotal: 514ms\tremaining: 67.5ms\n",
      "884:\tlearn: 0.0091643\ttotal: 515ms\tremaining: 66.9ms\n",
      "885:\tlearn: 0.0091533\ttotal: 515ms\tremaining: 66.3ms\n",
      "886:\tlearn: 0.0091024\ttotal: 516ms\tremaining: 65.7ms\n",
      "887:\tlearn: 0.0090756\ttotal: 516ms\tremaining: 65.1ms\n",
      "888:\tlearn: 0.0090530\ttotal: 517ms\tremaining: 64.5ms\n",
      "889:\tlearn: 0.0090306\ttotal: 517ms\tremaining: 63.9ms\n",
      "890:\tlearn: 0.0090087\ttotal: 518ms\tremaining: 63.3ms\n",
      "891:\tlearn: 0.0089915\ttotal: 518ms\tremaining: 62.8ms\n",
      "892:\tlearn: 0.0089390\ttotal: 519ms\tremaining: 62.2ms\n",
      "893:\tlearn: 0.0088847\ttotal: 519ms\tremaining: 61.6ms\n",
      "894:\tlearn: 0.0088497\ttotal: 520ms\tremaining: 61ms\n",
      "895:\tlearn: 0.0088247\ttotal: 521ms\tremaining: 60.4ms\n",
      "896:\tlearn: 0.0088046\ttotal: 521ms\tremaining: 59.8ms\n",
      "897:\tlearn: 0.0087759\ttotal: 521ms\tremaining: 59.2ms\n",
      "898:\tlearn: 0.0087604\ttotal: 522ms\tremaining: 58.6ms\n",
      "899:\tlearn: 0.0087453\ttotal: 523ms\tremaining: 58.1ms\n",
      "900:\tlearn: 0.0087118\ttotal: 523ms\tremaining: 57.5ms\n",
      "901:\tlearn: 0.0086614\ttotal: 523ms\tremaining: 56.8ms\n",
      "902:\tlearn: 0.0086209\ttotal: 524ms\tremaining: 56.3ms\n",
      "903:\tlearn: 0.0085717\ttotal: 524ms\tremaining: 55.7ms\n",
      "904:\tlearn: 0.0085324\ttotal: 525ms\tremaining: 55.1ms\n",
      "905:\tlearn: 0.0084845\ttotal: 526ms\tremaining: 54.6ms\n",
      "906:\tlearn: 0.0084463\ttotal: 526ms\tremaining: 54ms\n",
      "907:\tlearn: 0.0084098\ttotal: 527ms\tremaining: 53.4ms\n",
      "908:\tlearn: 0.0083632\ttotal: 527ms\tremaining: 52.8ms\n",
      "909:\tlearn: 0.0083339\ttotal: 528ms\tremaining: 52.2ms\n",
      "910:\tlearn: 0.0082970\ttotal: 528ms\tremaining: 51.6ms\n",
      "911:\tlearn: 0.0082765\ttotal: 528ms\tremaining: 51ms\n",
      "912:\tlearn: 0.0082361\ttotal: 529ms\tremaining: 50.4ms\n",
      "913:\tlearn: 0.0082013\ttotal: 529ms\tremaining: 49.8ms\n",
      "914:\tlearn: 0.0081662\ttotal: 530ms\tremaining: 49.2ms\n",
      "915:\tlearn: 0.0081322\ttotal: 530ms\tremaining: 48.6ms\n",
      "916:\tlearn: 0.0081129\ttotal: 531ms\tremaining: 48ms\n",
      "917:\tlearn: 0.0080930\ttotal: 532ms\tremaining: 47.6ms\n",
      "918:\tlearn: 0.0080751\ttotal: 533ms\tremaining: 47ms\n",
      "919:\tlearn: 0.0080405\ttotal: 534ms\tremaining: 46.4ms\n",
      "920:\tlearn: 0.0080075\ttotal: 534ms\tremaining: 45.8ms\n",
      "921:\tlearn: 0.0079899\ttotal: 535ms\tremaining: 45.3ms\n",
      "922:\tlearn: 0.0079701\ttotal: 536ms\tremaining: 44.7ms\n",
      "923:\tlearn: 0.0079507\ttotal: 536ms\tremaining: 44.1ms\n",
      "924:\tlearn: 0.0079167\ttotal: 536ms\tremaining: 43.5ms\n",
      "925:\tlearn: 0.0078986\ttotal: 537ms\tremaining: 42.9ms\n",
      "926:\tlearn: 0.0078669\ttotal: 538ms\tremaining: 42.3ms\n",
      "927:\tlearn: 0.0078502\ttotal: 538ms\tremaining: 41.7ms\n",
      "928:\tlearn: 0.0078357\ttotal: 539ms\tremaining: 41.2ms\n",
      "929:\tlearn: 0.0078172\ttotal: 539ms\tremaining: 40.6ms\n",
      "930:\tlearn: 0.0077743\ttotal: 539ms\tremaining: 40ms\n",
      "931:\tlearn: 0.0077553\ttotal: 540ms\tremaining: 39.4ms\n",
      "932:\tlearn: 0.0077214\ttotal: 540ms\tremaining: 38.8ms\n",
      "933:\tlearn: 0.0077034\ttotal: 541ms\tremaining: 38.2ms\n",
      "934:\tlearn: 0.0076703\ttotal: 541ms\tremaining: 37.6ms\n",
      "935:\tlearn: 0.0076566\ttotal: 542ms\tremaining: 37ms\n",
      "936:\tlearn: 0.0076343\ttotal: 542ms\tremaining: 36.4ms\n",
      "937:\tlearn: 0.0076021\ttotal: 542ms\tremaining: 35.9ms\n",
      "938:\tlearn: 0.0075545\ttotal: 543ms\tremaining: 35.3ms\n",
      "939:\tlearn: 0.0075363\ttotal: 543ms\tremaining: 34.7ms\n",
      "940:\tlearn: 0.0075127\ttotal: 544ms\tremaining: 34.1ms\n",
      "941:\tlearn: 0.0074949\ttotal: 544ms\tremaining: 33.5ms\n",
      "942:\tlearn: 0.0074739\ttotal: 545ms\tremaining: 32.9ms\n",
      "943:\tlearn: 0.0074533\ttotal: 545ms\tremaining: 32.3ms\n",
      "944:\tlearn: 0.0074332\ttotal: 546ms\tremaining: 31.8ms\n",
      "945:\tlearn: 0.0074161\ttotal: 546ms\tremaining: 31.2ms\n",
      "946:\tlearn: 0.0073965\ttotal: 547ms\tremaining: 30.6ms\n",
      "947:\tlearn: 0.0073490\ttotal: 547ms\tremaining: 30ms\n",
      "948:\tlearn: 0.0073349\ttotal: 548ms\tremaining: 29.4ms\n",
      "949:\tlearn: 0.0073128\ttotal: 548ms\tremaining: 28.9ms\n",
      "950:\tlearn: 0.0072963\ttotal: 549ms\tremaining: 28.3ms\n",
      "951:\tlearn: 0.0072672\ttotal: 549ms\tremaining: 27.7ms\n",
      "952:\tlearn: 0.0072212\ttotal: 550ms\tremaining: 27.1ms\n",
      "953:\tlearn: 0.0072051\ttotal: 550ms\tremaining: 26.5ms\n",
      "954:\tlearn: 0.0071777\ttotal: 551ms\tremaining: 25.9ms\n"
     ]
    },
    {
     "name": "stdout",
     "output_type": "stream",
     "text": [
      "955:\tlearn: 0.0071534\ttotal: 551ms\tremaining: 25.4ms\n",
      "956:\tlearn: 0.0071188\ttotal: 552ms\tremaining: 24.8ms\n",
      "957:\tlearn: 0.0070927\ttotal: 552ms\tremaining: 24.2ms\n",
      "958:\tlearn: 0.0070758\ttotal: 553ms\tremaining: 23.6ms\n",
      "959:\tlearn: 0.0070607\ttotal: 554ms\tremaining: 23.1ms\n",
      "960:\tlearn: 0.0070428\ttotal: 554ms\tremaining: 22.5ms\n",
      "961:\tlearn: 0.0070281\ttotal: 554ms\tremaining: 21.9ms\n",
      "962:\tlearn: 0.0070105\ttotal: 555ms\tremaining: 21.3ms\n",
      "963:\tlearn: 0.0069942\ttotal: 555ms\tremaining: 20.7ms\n",
      "964:\tlearn: 0.0069416\ttotal: 555ms\tremaining: 20.1ms\n",
      "965:\tlearn: 0.0069274\ttotal: 556ms\tremaining: 19.6ms\n",
      "966:\tlearn: 0.0069135\ttotal: 556ms\tremaining: 19ms\n",
      "967:\tlearn: 0.0068884\ttotal: 557ms\tremaining: 18.4ms\n",
      "968:\tlearn: 0.0068577\ttotal: 557ms\tremaining: 17.8ms\n",
      "969:\tlearn: 0.0068409\ttotal: 558ms\tremaining: 17.2ms\n",
      "970:\tlearn: 0.0068245\ttotal: 558ms\tremaining: 16.7ms\n",
      "971:\tlearn: 0.0067998\ttotal: 558ms\tremaining: 16.1ms\n",
      "972:\tlearn: 0.0067720\ttotal: 559ms\tremaining: 15.5ms\n",
      "973:\tlearn: 0.0067482\ttotal: 559ms\tremaining: 14.9ms\n",
      "974:\tlearn: 0.0067156\ttotal: 560ms\tremaining: 14.4ms\n",
      "975:\tlearn: 0.0066944\ttotal: 560ms\tremaining: 13.8ms\n",
      "976:\tlearn: 0.0066792\ttotal: 561ms\tremaining: 13.2ms\n",
      "977:\tlearn: 0.0066585\ttotal: 561ms\tremaining: 12.6ms\n",
      "978:\tlearn: 0.0066424\ttotal: 564ms\tremaining: 12.1ms\n",
      "979:\tlearn: 0.0066108\ttotal: 565ms\tremaining: 11.5ms\n",
      "980:\tlearn: 0.0065879\ttotal: 566ms\tremaining: 11ms\n",
      "981:\tlearn: 0.0065724\ttotal: 566ms\tremaining: 10.4ms\n",
      "982:\tlearn: 0.0065460\ttotal: 567ms\tremaining: 9.8ms\n",
      "983:\tlearn: 0.0065226\ttotal: 567ms\tremaining: 9.22ms\n",
      "984:\tlearn: 0.0064939\ttotal: 568ms\tremaining: 8.64ms\n",
      "985:\tlearn: 0.0064635\ttotal: 568ms\tremaining: 8.06ms\n",
      "986:\tlearn: 0.0064379\ttotal: 569ms\tremaining: 7.5ms\n",
      "987:\tlearn: 0.0063980\ttotal: 570ms\tremaining: 6.92ms\n",
      "988:\tlearn: 0.0063766\ttotal: 570ms\tremaining: 6.34ms\n",
      "989:\tlearn: 0.0063519\ttotal: 570ms\tremaining: 5.76ms\n",
      "990:\tlearn: 0.0063128\ttotal: 571ms\tremaining: 5.18ms\n",
      "991:\tlearn: 0.0062915\ttotal: 571ms\tremaining: 4.61ms\n",
      "992:\tlearn: 0.0062703\ttotal: 572ms\tremaining: 4.03ms\n",
      "993:\tlearn: 0.0062328\ttotal: 572ms\tremaining: 3.45ms\n",
      "994:\tlearn: 0.0062122\ttotal: 573ms\tremaining: 2.88ms\n",
      "995:\tlearn: 0.0061850\ttotal: 573ms\tremaining: 2.3ms\n",
      "996:\tlearn: 0.0061471\ttotal: 574ms\tremaining: 1.73ms\n",
      "997:\tlearn: 0.0061206\ttotal: 574ms\tremaining: 1.15ms\n",
      "998:\tlearn: 0.0060947\ttotal: 574ms\tremaining: 574us\n",
      "999:\tlearn: 0.0060663\ttotal: 575ms\tremaining: 0us\n"
     ]
    },
    {
     "data": {
      "text/plain": [
       "<catboost.core.CatBoostRegressor at 0x7fbe1044c430>"
      ]
     },
     "execution_count": 9,
     "metadata": {},
     "output_type": "execute_result"
    }
   ],
   "source": [
    "#Train the Model \n",
    "prior_model = ctb.CatBoostRegressor()\n",
    "prior_model.fit(X_train,Y_train)"
   ]
  },
  {
   "cell_type": "code",
   "execution_count": 10,
   "id": "af65dcda",
   "metadata": {
    "execution": {
     "iopub.execute_input": "2022-06-07T06:04:34.195051Z",
     "iopub.status.busy": "2022-06-07T06:04:34.194581Z",
     "iopub.status.idle": "2022-06-07T06:04:34.201984Z",
     "shell.execute_reply": "2022-06-07T06:04:34.202227Z"
    },
    "id": "af65dcda",
    "papermill": {
     "duration": 0.021554,
     "end_time": "2022-06-07T06:04:34.202348",
     "exception": false,
     "start_time": "2022-06-07T06:04:34.180794",
     "status": "completed"
    },
    "tags": []
   },
   "outputs": [
    {
     "data": {
      "application/scrapbook.scrap.json+json": {
       "data": 0.07537717762821919,
       "encoder": "json",
       "name": "Prior Model MSE",
       "version": 1
      }
     },
     "metadata": {
      "scrapbook": {
       "data": true,
       "display": false,
       "name": "Prior Model MSE"
      }
     },
     "output_type": "display_data"
    },
    {
     "data": {
      "application/scrapbook.scrap.json+json": {
       "data": 0.9146611051123269,
       "encoder": "json",
       "name": "ABC Pre-generator MSE",
       "version": 1
      }
     },
     "metadata": {
      "scrapbook": {
       "data": true,
       "display": false,
       "name": "ABC Pre-generator MSE"
      }
     },
     "output_type": "display_data"
    },
    {
     "data": {
      "application/scrapbook.scrap.json+json": {
       "data": 0.20224785335751688,
       "encoder": "json",
       "name": "Prior Model MSE",
       "version": 1
      }
     },
     "metadata": {
      "scrapbook": {
       "data": true,
       "display": false,
       "name": "Prior Model MSE"
      }
     },
     "output_type": "display_data"
    },
    {
     "data": {
      "application/scrapbook.scrap.json+json": {
       "data": 0.7217336284264464,
       "encoder": "json",
       "name": "ABC Pre-generator MSE",
       "version": 1
      }
     },
     "metadata": {
      "scrapbook": {
       "data": true,
       "display": false,
       "name": "ABC Pre-generator MSE"
      }
     },
     "output_type": "display_data"
    }
   ],
   "source": [
    "y_pred = prior_model.predict(X_test)\n",
    "y_abc = y_pred + np.random.normal(0,variance, y_pred.shape) + bias \n",
    "mse = mean_squared_error(y_pred,Y_test)\n",
    "sb.glue(\"Prior Model MSE\",mse)\n",
    "mse = mean_squared_error(y_abc,Y_test)\n",
    "sb.glue(\"ABC Pre-generator MSE\",mse)\n",
    "mae = mean_absolute_error(y_pred,Y_test)\n",
    "sb.glue(\"Prior Model MSE\",mae)\n",
    "mae = mean_absolute_error(y_abc,Y_test)\n",
    "sb.glue(\"ABC Pre-generator MSE\",mae)"
   ]
  },
  {
   "cell_type": "markdown",
   "id": "25609da2",
   "metadata": {
    "papermill": {
     "duration": 0.009602,
     "end_time": "2022-06-07T06:04:34.222253",
     "exception": false,
     "start_time": "2022-06-07T06:04:34.212651",
     "status": "completed"
    },
    "tags": []
   },
   "source": [
    "# ABC GAN Model"
   ]
  },
  {
   "cell_type": "code",
   "execution_count": 11,
   "id": "dfc3464d",
   "metadata": {
    "execution": {
     "iopub.execute_input": "2022-06-07T06:04:34.245751Z",
     "iopub.status.busy": "2022-06-07T06:04:34.245258Z",
     "iopub.status.idle": "2022-06-07T06:04:34.248012Z",
     "shell.execute_reply": "2022-06-07T06:04:34.248256Z"
    },
    "papermill": {
     "duration": 0.016043,
     "end_time": "2022-06-07T06:04:34.248376",
     "exception": false,
     "start_time": "2022-06-07T06:04:34.232333",
     "status": "completed"
    },
    "tags": []
   },
   "outputs": [],
   "source": [
    "gen = network.Generator(n_features+1).to(device)\n",
    "disc = network.Discriminator(n_features+1).to(device)\n",
    "\n",
    "criterion = torch.nn.BCELoss()\n",
    "gen_opt = torch.optim.Adam(gen.parameters(), lr=0.001, betas=(0.5, 0.999))\n",
    "disc_opt = torch.optim.Adam(disc.parameters(), lr=0.001, betas=(0.5, 0.999))"
   ]
  },
  {
   "cell_type": "code",
   "execution_count": 12,
   "id": "b75fdd85",
   "metadata": {
    "execution": {
     "iopub.execute_input": "2022-06-07T06:04:34.270806Z",
     "iopub.status.busy": "2022-06-07T06:04:34.270439Z",
     "iopub.status.idle": "2022-06-07T06:04:49.478710Z",
     "shell.execute_reply": "2022-06-07T06:04:49.479018Z"
    },
    "papermill": {
     "duration": 15.220907,
     "end_time": "2022-06-07T06:04:49.479139",
     "exception": false,
     "start_time": "2022-06-07T06:04:34.258232",
     "status": "completed"
    },
    "tags": []
   },
   "outputs": [
    {
     "data": {
      "image/png": "[encoded data removed]",
      "text/plain": [
       "<Figure size 432x288 with 1 Axes>"
      ]
     },
     "metadata": {
      "needs_background": "light"
     },
     "output_type": "display_data"
    },
    {
     "data": {
      "image/png": "[encoded data removed]",
      "text/plain": [
       "<Figure size 432x288 with 1 Axes>"
      ]
     },
     "metadata": {
      "needs_background": "light"
     },
     "output_type": "display_data"
    }
   ],
   "source": [
    "#Training the ABC_GAN \n",
    "ABC_train_test2.training_GAN(disc,gen,disc_opt,gen_opt,train_data,batch_size,n_epochs,criterion,prior_model,variance,bias,device)"
   ]
  },
  {
   "cell_type": "code",
   "execution_count": 13,
   "id": "1fa7c368",
   "metadata": {
    "execution": {
     "iopub.execute_input": "2022-06-07T06:04:49.506283Z",
     "iopub.status.busy": "2022-06-07T06:04:49.505801Z",
     "iopub.status.idle": "2022-06-07T06:04:49.711986Z",
     "shell.execute_reply": "2022-06-07T06:04:49.712385Z"
    },
    "papermill": {
     "duration": 0.222302,
     "end_time": "2022-06-07T06:04:49.712507",
     "exception": false,
     "start_time": "2022-06-07T06:04:49.490205",
     "status": "completed"
    },
    "tags": []
   },
   "outputs": [
    {
     "data": {
      "application/scrapbook.scrap.json+json": {
       "data": 0.07487070111936726,
       "encoder": "json",
       "name": "ABC-GAN Model 1 MSE",
       "version": 1
      }
     },
     "metadata": {
      "scrapbook": {
       "data": true,
       "display": false,
       "name": "ABC-GAN Model 1 MSE"
      }
     },
     "output_type": "display_data"
    },
    {
     "data": {
      "application/scrapbook.scrap.json+json": {
       "data": 0.1966710710832849,
       "encoder": "json",
       "name": "ABC-GAN Model 1 MAE",
       "version": 1
      }
     },
     "metadata": {
      "scrapbook": {
       "data": true,
       "display": false,
       "name": "ABC-GAN Model 1 MAE"
      }
     },
     "output_type": "display_data"
    },
    {
     "data": {
      "application/scrapbook.scrap.json+json": {
       "data": 3.9334214216656984,
       "encoder": "json",
       "name": "ABC-GAN Model 1 Manhattan Distance",
       "version": 1
      }
     },
     "metadata": {
      "scrapbook": {
       "data": true,
       "display": false,
       "name": "ABC-GAN Model 1 Manhattan Distance"
      }
     },
     "output_type": "display_data"
    },
    {
     "data": {
      "application/scrapbook.scrap.json+json": {
       "data": 1.223059547442504,
       "encoder": "json",
       "name": "ABC-GAN Model 1 Euclidean distance",
       "version": 1
      }
     },
     "metadata": {
      "scrapbook": {
       "data": true,
       "display": false,
       "name": "ABC-GAN Model 1 Euclidean distance"
      }
     },
     "output_type": "display_data"
    },
    {
     "data": {
      "application/scrapbook.scrap.json+json": {
       "data": [
        [
         0.07350032975689444,
         0.07590621576734893,
         0.07655940843042537,
         0.06544870422917139,
         0.07204905620127747,
         0.0708396758734593,
         0.07229943828859156,
         0.07584973484606916,
         0.07682215177028631,
         0.06977925259256904,
         0.06625854075184043,
         0.06574081836649885,
         0.07891983292905062,
         0.07708992688877368,
         0.07460830755537698,
         0.07699981795433318,
         0.08190479219375629,
         0.07398213311282935,
         0.07366826975393674,
         0.06922108463681201,
         0.0799972863398681,
         0.07744751482690601,
         0.0680633452235041,
         0.08182119384847855,
         0.0749743905317522,
         0.07739412637152718,
         0.07406347715692528,
         0.07764172115982317,
         0.0816241932946289,
         0.06371533715036193,
         0.07524731815658547,
         0.07740617287945331,
         0.06695952097749579,
         0.07956842165481673,
         0.0832703541031443,
         0.0781869922172411,
         0.0669395880293261,
         0.07600525791982153,
         0.07763761952902175,
         0.07976743179210664,
         0.07869422647100399,
         0.0668389327348345,
         0.08015891213403879,
         0.07639083010403477,
         0.07711629406901288,
         0.07967442709621687,
         0.07178496938383594,
         0.07335881435389467,
         0.06989910630967203,
         0.07773001593492192,
         0.0710309807431238,
         0.07467456350452897,
         0.07607871075029506,
         0.06649998586274548,
         0.07036346790731429,
         0.07349600947906251,
         0.06950962128659058,
         0.07548946734316783,
         0.07353727958090965,
         0.06883518004236705,
         0.08253896212707461,
         0.08317984578881622,
         0.0812190657381794,
         0.06539586364824776,
         0.07173874413875189,
         0.07529983570101864,
         0.07887322925183413,
         0.0748565303105713,
         0.0719512883469139,
         0.0757685719276581,
         0.08169880196497696,
         0.07842541943373474,
         0.07127048426338471,
         0.08457985435400425,
         0.0788484186006888,
         0.08158561791159392,
         0.07961892193617832,
         0.07205969074460206,
         0.07631603212271772,
         0.0741651920956293,
         0.07501963653236383,
         0.07156820626680097,
         0.08277607247679117,
         0.06927592339320095,
         0.07590440768965556,
         0.07227466614858453,
         0.075875201268524,
         0.07006037853045446,
         0.07493307824163431,
         0.07092495846811091,
         0.07514723393958185,
         0.0809415071852935,
         0.07264579034495358,
         0.06680209364521998,
         0.06913156745763036,
         0.08199963770465565,
         0.07395595328463056,
         0.0774664980307282,
         0.07866769341090146,
         0.07596868735677276
        ],
        [
         0.18753816047683358,
         0.19118003342300655,
         0.20347432401031257,
         0.18649551076814533,
         0.19422705080360175,
         0.1945596097037196,
         0.19376983325928449,
         0.1861291821114719,
         0.1926049716770649,
         0.19382775872945784,
         0.1783283494412899,
         0.18927018214017152,
         0.20225629042834042,
         0.19988919831812382,
         0.19548921417444945,
         0.19128499906510116,
         0.2036881936714053,
         0.2057901334017515,
         0.20954665895551444,
         0.19001290639862417,
         0.20514899799600245,
         0.20239403657615185,
         0.1874538067728281,
         0.20210775723680854,
         0.20606524897739292,
         0.19561763582751154,
         0.19634968051686882,
         0.19971284037455916,
         0.19993559811264278,
         0.19196042893454432,
         0.19893961073830724,
         0.19721093103289605,
         0.19099918883293868,
         0.19997644955292343,
         0.211455237865448,
         0.19145999979227782,
         0.18659222796559333,
         0.1977649975568056,
         0.19746032524853946,
         0.19807974593713878,
         0.2032758142799139,
         0.1900699870660901,
         0.1998371234163642,
         0.1955849907360971,
         0.1928201999515295,
         0.19554568808525802,
         0.1934774278663099,
         0.19508640449494125,
         0.1919692838564515,
         0.20180119881406428,
         0.18144346736371517,
         0.20180106461048125,
         0.1929411467164755,
         0.18126707719638943,
         0.1995331384241581,
         0.19083626000210643,
         0.19479100359603763,
         0.19982882300391794,
         0.18788041202351452,
         0.18222700329497457,
         0.20670577846467494,
         0.2095466649159789,
         0.20540858414024116,
         0.19294060692191123,
         0.19800362549722195,
         0.19975386234000325,
         0.2008747429586947,
         0.19095206139609217,
         0.1922658110037446,
         0.19170695124194026,
         0.21136877108365298,
         0.20546992141753434,
         0.20430979486554862,
         0.211767952516675,
         0.19429066088050603,
         0.20229605780914425,
         0.19897628296166658,
         0.1938804941251874,
         0.19727132515981793,
         0.18784888312220574,
         0.20626808889210224,
         0.1991067174822092,
         0.21667842902243137,
         0.19776273053139448,
         0.20641387682408094,
         0.1850515713915229,
         0.19025732651352883,
         0.19935266189277173,
         0.19827023399993776,
         0.1962946753948927,
         0.18740617260336875,
         0.20692023560404776,
         0.19982216861099006,
         0.1909553931094706,
         0.1895825032144785,
         0.1992094160988927,
         0.19616529084742068,
         0.19689988270401954,
         0.20103326626121998,
         0.1899528129026294
        ],
        [
         3.7507632095366716,
         3.8236006684601307,
         4.069486480206251,
         3.7299102153629065,
         3.884541016072035,
         3.8911921940743923,
         3.87539666518569,
         3.722583642229438,
         3.852099433541298,
         3.876555174589157,
         3.566566988825798,
         3.7854036428034306,
         4.045125808566809,
         3.9977839663624763,
         3.909784283488989,
         3.825699981302023,
         4.073763873428106,
         4.11580266803503,
         4.190933179110289,
         3.8002581279724836,
         4.102979959920049,
         4.047880731523037,
         3.749076135456562,
         4.042155144736171,
         4.121304979547858,
         3.912352716550231,
         3.9269936103373766,
         3.9942568074911833,
         3.9987119622528553,
         3.8392085786908865,
         3.9787922147661448,
         3.944218620657921,
         3.8199837766587734,
         3.999528991058469,
         4.22910475730896,
         3.8291999958455563,
         3.7318445593118668,
         3.955299951136112,
         3.949206504970789,
         3.961594918742776,
         4.065516285598278,
         3.801399741321802,
         3.996742468327284,
         3.911699814721942,
         3.85640399903059,
         3.91091376170516,
         3.8695485573261976,
         3.9017280898988247,
         3.8393856771290302,
         4.036023976281285,
         3.6288693472743034,
         4.036021292209625,
         3.8588229343295097,
         3.6253415439277887,
         3.990662768483162,
         3.8167252000421286,
         3.8958200719207525,
         3.9965764600783587,
         3.75760824047029,
         3.6445400658994913,
         4.134115569293499,
         4.190933298319578,
         4.108171682804823,
         3.858812138438225,
         3.960072509944439,
         3.995077246800065,
         4.017494859173894,
         3.8190412279218435,
         3.845316220074892,
         3.834139024838805,
         4.2273754216730595,
         4.109398428350687,
         4.086195897310972,
         4.2353590503335,
         3.8858132176101208,
         4.045921156182885,
         3.9795256592333317,
         3.877609882503748,
         3.9454265031963587,
         3.7569776624441147,
         4.125361777842045,
         3.982134349644184,
         4.3335685804486275,
         3.9552546106278896,
         4.128277536481619,
         3.7010314278304577,
         3.8051465302705765,
         3.9870532378554344,
         3.9654046799987555,
         3.925893507897854,
         3.748123452067375,
         4.1384047120809555,
         3.996443372219801,
         3.819107862189412,
         3.79165006428957,
         3.9841883219778538,
         3.923305816948414,
         3.937997654080391,
         4.0206653252244,
         3.7990562580525875
        ],
        [
         1.2124382850841888,
         1.2321218752002494,
         1.237411883169265,
         1.1441040532151905,
         1.2004087320681858,
         1.1902913582267098,
         1.2024927300286814,
         1.2316633862063868,
         1.2395333942277338,
         1.1813488273373707,
         1.1511606382416002,
         1.1466544236734872,
         1.256342572143845,
         1.2416918046663084,
         1.221542529389599,
         1.2409658976324305,
         1.279881183499127,
         1.2164056322857877,
         1.2138226374057846,
         1.1766145047279675,
         1.264889610518389,
         1.2445683173446607,
         1.166733433338602,
         1.2792278440409164,
         1.2245357531060674,
         1.2441392717178184,
         1.217074173227953,
         1.2461277716175267,
         1.2776869201383327,
         1.1288519579675798,
         1.2267625536882472,
         1.2442360939906325,
         1.1572339519517718,
         1.2614945236093318,
         1.2905065215111802,
         1.2504958393952466,
         1.1570616926450041,
         1.232925447217483,
         1.2460948561728495,
         1.2630711127415326,
         1.2545455469691325,
         1.1561914437915073,
         1.2661667515302935,
         1.2360487862866478,
         1.2419041353422806,
         1.2623345602194123,
         1.198206738287145,
         1.2112705259676277,
         1.1823629418217745,
         1.2468361234334038,
         1.1918974850474666,
         1.2220848047867134,
         1.2335210638679426,
         1.1532561368815297,
         1.1862838438359875,
         1.2124026515895,
         1.1790642161187876,
         1.2287348562091647,
         1.2127430031206914,
         1.1733301329324757,
         1.2848265418107971,
         1.2898049913751786,
         1.2745121869811948,
         1.1436421087757112,
         1.197820889271446,
         1.2271905777100691,
         1.2559715701546283,
         1.2235728855329486,
         1.1995940008762456,
         1.2310042398599452,
         1.2782707222257494,
         1.2524010494544848,
         1.1939052245750892,
         1.300614119206802,
         1.2557740131145316,
         1.2773849686887186,
         1.261894781161871,
         1.2004973198187663,
         1.2354435003084334,
         1.2179096197635464,
         1.224905192513803,
         1.1963963078077513,
         1.2866706841829512,
         1.1770804848709449,
         1.232107200609229,
         1.2022867058117588,
         1.2318701333218856,
         1.1837261383483466,
         1.2241983355783024,
         1.1910076277514843,
         1.2259464420567634,
         1.2723325601845885,
         1.2053695727448372,
         1.1558727753971887,
         1.1758534556451357,
         1.2806220184321029,
         1.216190390396426,
         1.2447208364185778,
         1.2543340337478008,
         1.2326287953538386
        ]
       ],
       "encoder": "json",
       "name": "ABC_GAN_1 Metrics",
       "version": 1
      }
     },
     "metadata": {
      "scrapbook": {
       "data": true,
       "display": false,
       "name": "ABC_GAN_1 Metrics"
      }
     },
     "output_type": "display_data"
    },
    {
     "name": "stdout",
     "output_type": "stream",
     "text": [
      "MSE\n",
      "0.07487070111936726\n"
     ]
    }
   ],
   "source": [
    "ABC_GAN1_metrics=ABC_train_test2.test_generator(gen,test_data,prior_model,variance,bias,\"1\",device)\n",
    "sb.glue(\"ABC_GAN_1 Metrics\",ABC_GAN1_metrics)\n",
    "\n",
    "print(\"MSE\")\n",
    "print(mean(ABC_GAN1_metrics[0]))"
   ]
  },
  {
   "cell_type": "code",
   "execution_count": 14,
   "id": "eb22ce5c",
   "metadata": {
    "execution": {
     "iopub.execute_input": "2022-06-07T06:04:49.739274Z",
     "iopub.status.busy": "2022-06-07T06:04:49.738913Z",
     "iopub.status.idle": "2022-06-07T06:04:50.034612Z",
     "shell.execute_reply": "2022-06-07T06:04:50.034910Z"
    },
    "papermill": {
     "duration": 0.310336,
     "end_time": "2022-06-07T06:04:50.035045",
     "exception": false,
     "start_time": "2022-06-07T06:04:49.724709",
     "status": "completed"
    },
    "tags": []
   },
   "outputs": [
    {
     "data": {
      "image/png": "[encoded data removed]",
      "text/plain": [
       "<Figure size 432x288 with 1 Axes>"
      ]
     },
     "metadata": {
      "needs_background": "light"
     },
     "output_type": "display_data"
    },
    {
     "data": {
      "image/png": "[encoded data removed]",
      "text/plain": [
       "<Figure size 432x288 with 1 Axes>"
      ]
     },
     "metadata": {
      "needs_background": "light"
     },
     "output_type": "display_data"
    },
    {
     "data": {
      "image/png": "[encoded data removed]",
      "text/plain": [
       "<Figure size 432x288 with 1 Axes>"
      ]
     },
     "metadata": {
      "needs_background": "light"
     },
     "output_type": "display_data"
    },
    {
     "data": {
      "image/png": "[encoded data removed]",
      "text/plain": [
       "<Figure size 432x288 with 1 Axes>"
      ]
     },
     "metadata": {
      "needs_background": "light"
     },
     "output_type": "display_data"
    }
   ],
   "source": [
    "sanityChecks.discProbVsError(train_data,disc,device)\n",
    "sanityChecks.discProbVsError(test_data,disc,device)"
   ]
  },
  {
   "cell_type": "markdown",
   "id": "130f3a4d",
   "metadata": {
    "id": "130f3a4d",
    "papermill": {
     "duration": 0.036412,
     "end_time": "2022-06-07T06:04:50.086238",
     "exception": false,
     "start_time": "2022-06-07T06:04:50.049826",
     "status": "completed"
    },
    "tags": []
   },
   "source": [
    "# ABC - GAN Model with skip connection"
   ]
  },
  {
   "cell_type": "code",
   "execution_count": 15,
   "id": "4e43dad1",
   "metadata": {
    "execution": {
     "iopub.execute_input": "2022-06-07T06:04:50.120593Z",
     "iopub.status.busy": "2022-06-07T06:04:50.120185Z",
     "iopub.status.idle": "2022-06-07T06:04:50.122470Z",
     "shell.execute_reply": "2022-06-07T06:04:50.122716Z"
    },
    "id": "4e43dad1",
    "papermill": {
     "duration": 0.022244,
     "end_time": "2022-06-07T06:04:50.122835",
     "exception": false,
     "start_time": "2022-06-07T06:04:50.100591",
     "status": "completed"
    },
    "tags": []
   },
   "outputs": [],
   "source": [
    "#Generator\n",
    "gen3 = network.GeneratorWithSkipConnection(n_features+1).to(device)\n",
    "constraints=network.weightConstraint()\n",
    "#Discriminator \n",
    "disc3 = network.Discriminator(n_features+1).to(device)\n",
    "\n",
    "criterion = torch.nn.BCELoss()\n",
    "gen_opt = torch.optim.Adam(gen3.parameters(), lr=0.001, betas=(0.5, 0.999))\n",
    "disc_opt = torch.optim.Adam(disc3.parameters(), lr=0.001, betas=(0.5, 0.999))\n"
   ]
  },
  {
   "cell_type": "code",
   "execution_count": 16,
   "id": "26acbc37",
   "metadata": {
    "execution": {
     "iopub.execute_input": "2022-06-07T06:04:50.154278Z",
     "iopub.status.busy": "2022-06-07T06:04:50.153892Z",
     "iopub.status.idle": "2022-06-07T06:05:30.562598Z",
     "shell.execute_reply": "2022-06-07T06:05:30.562912Z"
    },
    "id": "26acbc37",
    "papermill": {
     "duration": 40.425646,
     "end_time": "2022-06-07T06:05:30.563037",
     "exception": false,
     "start_time": "2022-06-07T06:04:50.137391",
     "status": "completed"
    },
    "tags": []
   },
   "outputs": [
    {
     "data": {
      "image/png": "[encoded data removed]",
      "text/plain": [
       "<Figure size 432x288 with 1 Axes>"
      ]
     },
     "metadata": {
      "needs_background": "light"
     },
     "output_type": "display_data"
    },
    {
     "data": {
      "image/png": "[encoded data removed]",
      "text/plain": [
       "<Figure size 432x288 with 1 Axes>"
      ]
     },
     "metadata": {
      "needs_background": "light"
     },
     "output_type": "display_data"
    }
   ],
   "source": [
    "ABC_train_test2.training_GAN_skip_connection(disc3,gen3,disc_opt,gen_opt,train_data,batch_size,n_epochs,criterion,prior_model,variance,bias,device)"
   ]
  },
  {
   "cell_type": "code",
   "execution_count": 17,
   "id": "c5e0717b",
   "metadata": {
    "execution": {
     "iopub.execute_input": "2022-06-07T06:05:30.596918Z",
     "iopub.status.busy": "2022-06-07T06:05:30.596437Z",
     "iopub.status.idle": "2022-06-07T06:05:30.912903Z",
     "shell.execute_reply": "2022-06-07T06:05:30.913271Z"
    },
    "id": "c5e0717b",
    "papermill": {
     "duration": 0.334853,
     "end_time": "2022-06-07T06:05:30.913393",
     "exception": false,
     "start_time": "2022-06-07T06:05:30.578540",
     "status": "completed"
    },
    "tags": []
   },
   "outputs": [
    {
     "data": {
      "application/scrapbook.scrap.json+json": {
       "data": 0.03739967421765248,
       "encoder": "json",
       "name": "ABC-GAN Model 3 MSE",
       "version": 1
      }
     },
     "metadata": {
      "scrapbook": {
       "data": true,
       "display": false,
       "name": "ABC-GAN Model 3 MSE"
      }
     },
     "output_type": "display_data"
    },
    {
     "data": {
      "application/scrapbook.scrap.json+json": {
       "data": 0.1327978259699885,
       "encoder": "json",
       "name": "ABC-GAN Model 3 MAE",
       "version": 1
      }
     },
     "metadata": {
      "scrapbook": {
       "data": true,
       "display": false,
       "name": "ABC-GAN Model 3 MAE"
      }
     },
     "output_type": "display_data"
    },
    {
     "data": {
      "application/scrapbook.scrap.json+json": {
       "data": 2.6559565193997696,
       "encoder": "json",
       "name": "ABC-GAN Model 3 Manhattan Distance",
       "version": 1
      }
     },
     "metadata": {
      "scrapbook": {
       "data": true,
       "display": false,
       "name": "ABC-GAN Model 3 Manhattan Distance"
      }
     },
     "output_type": "display_data"
    },
    {
     "data": {
      "application/scrapbook.scrap.json+json": {
       "data": 0.8589849595740652,
       "encoder": "json",
       "name": "ABC-GAN Model 3 Euclidean distance",
       "version": 1
      }
     },
     "metadata": {
      "scrapbook": {
       "data": true,
       "display": false,
       "name": "ABC-GAN Model 3 Euclidean distance"
      }
     },
     "output_type": "display_data"
    },
    {
     "data": {
      "application/scrapbook.scrap.json+json": {
       "data": [
        [
         0.04081783849339554,
         0.030257065432395057,
         0.018277435067342664,
         0.027820945609376414,
         0.03031886544598484,
         0.031953276728944435,
         0.044294838098574985,
         0.03268332141322576,
         0.04262458647056964,
         0.048346136528919594,
         0.038349470800820906,
         0.03290205502838436,
         0.038320528107535765,
         0.03701647199339907,
         0.022419859071956823,
         0.03973259090080743,
         0.020853773714807858,
         0.0319307688879933,
         0.042196159506956085,
         0.05183415922977723,
         0.05011767521784376,
         0.029149486223463517,
         0.04189747767066811,
         0.03940837410055431,
         0.04271213788273755,
         0.03245406588823006,
         0.044652280921506304,
         0.03974986846928631,
         0.03245008960517737,
         0.02359121071740283,
         0.03202252176513084,
         0.04514647493800099,
         0.028378395526089107,
         0.04051607089033733,
         0.04347527359812239,
         0.03365112830802438,
         0.03829932706262966,
         0.031462632485025954,
         0.05096543564779564,
         0.04794269493527707,
         0.049386559086831615,
         0.03813691552632377,
         0.03922054316876515,
         0.029244185049551043,
         0.04173329707651696,
         0.02517804021091602,
         0.03207949657727207,
         0.042767998859396895,
         0.06571826990365874,
         0.045895514091291965,
         0.0606704030888691,
         0.03674964523979903,
         0.027033385864166547,
         0.04584434227637739,
         0.0422741796826767,
         0.04590075699255018,
         0.03451887302826304,
         0.039829530679344596,
         0.030339795904107215,
         0.03587248667411365,
         0.03795001872279389,
         0.031420778070137635,
         0.04525526216404722,
         0.025811554130829816,
         0.03550514353873683,
         0.026284848752414436,
         0.04231586092788364,
         0.02745654831312818,
         0.05259593621291632,
         0.040688899670586975,
         0.05378834045955984,
         0.038835808456004615,
         0.03622333143700377,
         0.028750313889884895,
         0.04051126966825323,
         0.04675453695930437,
         0.04325909907822213,
         0.03272124230686911,
         0.04466855048191611,
         0.022546348492630167,
         0.03674812941367937,
         0.03488092220001737,
         0.031323875369410704,
         0.029743581660430417,
         0.02916102582126403,
         0.031701968036822015,
         0.023008874357183108,
         0.03257080955977859,
         0.044258547479630594,
         0.024696885274948593,
         0.037511028371601696,
         0.043610968694316375,
         0.04512242007228372,
         0.03813014668830807,
         0.04826858208248798,
         0.04360609159014528,
         0.04231657015690712,
         0.029792338484908233,
         0.02806177032167496,
         0.032722207031063565
        ],
        [
         0.12465758761391044,
         0.12931518191471697,
         0.10294768130406737,
         0.11085863271728158,
         0.11850086599588394,
         0.13661554465070366,
         0.14700521314516662,
         0.12819676483049988,
         0.13633609944954514,
         0.1491891541518271,
         0.1307823290117085,
         0.13394072065129875,
         0.12813847372308373,
         0.12562944749370217,
         0.1073991977609694,
         0.13189708134159445,
         0.10862188646569848,
         0.13745548510923983,
         0.13313069948926567,
         0.15099058048799635,
         0.15810395339503885,
         0.1240435934625566,
         0.13522968804463745,
         0.14190066987648606,
         0.13479718351736664,
         0.12808717200532554,
         0.1527821452356875,
         0.13673006715252994,
         0.1222463951446116,
         0.09575421148911119,
         0.12301228502765298,
         0.13780629327520727,
         0.11054593408480287,
         0.15056882938370109,
         0.14060835177078843,
         0.13936115512624384,
         0.1338577532209456,
         0.13279848070815206,
         0.1476757892407477,
         0.1502359782345593,
         0.16406620973721148,
         0.14065461540594698,
         0.12352402815595269,
         0.11735108802095055,
         0.1469090542756021,
         0.1119205535389483,
         0.12067156108096241,
         0.14105688305571676,
         0.15548692578449846,
         0.14161465177312493,
         0.16227580243721604,
         0.13789611319079995,
         0.13096329355612396,
         0.1419000902213156,
         0.13167032347992064,
         0.1504563615657389,
         0.12067488292232156,
         0.1325484882341698,
         0.11849422538653016,
         0.12957382136955858,
         0.1337651343084872,
         0.13468905622139574,
         0.15102922907099128,
         0.11405184054747224,
         0.13618358531966807,
         0.11515688979998231,
         0.13215716676786543,
         0.12656138399615885,
         0.15271361554041504,
         0.12869685674086212,
         0.16521773124113678,
         0.12207887480035425,
         0.13487841384485363,
         0.13116966402158142,
         0.1398972068913281,
         0.14888351252302529,
         0.14605483496561647,
         0.13909919718280433,
         0.13022278556600214,
         0.1007019274868071,
         0.13639814788475632,
         0.1235926234163344,
         0.12743975827470422,
         0.12039574692025781,
         0.11576949274167418,
         0.13610851848497987,
         0.12511404594406486,
         0.12028885940089822,
         0.14695022208616138,
         0.10964363384991885,
         0.1526696256361902,
         0.1374664635397494,
         0.14598194835707545,
         0.1291932606138289,
         0.149655472766608,
         0.13022191161289812,
         0.14291737983003258,
         0.12018678644672036,
         0.11836942778900265,
         0.12074683466926217
        ],
        [
         2.4931517522782087,
         2.586303638294339,
         2.0589536260813475,
         2.2171726543456316,
         2.370017319917679,
         2.7323108930140734,
         2.9401042629033327,
         2.5639352966099977,
         2.726721988990903,
         2.983783083036542,
         2.61564658023417,
         2.6788144130259752,
         2.5627694744616747,
         2.5125889498740435,
         2.147983955219388,
         2.637941626831889,
         2.1724377293139696,
         2.7491097021847963,
         2.6626139897853136,
         3.019811609759927,
         3.162079067900777,
         2.480871869251132,
         2.704593760892749,
         2.8380133975297213,
         2.695943670347333,
         2.561743440106511,
         3.05564290471375,
         2.734601343050599,
         2.444927902892232,
         1.9150842297822237,
         2.4602457005530596,
         2.7561258655041456,
         2.2109186816960573,
         3.0113765876740217,
         2.8121670354157686,
         2.7872231025248766,
         2.677155064418912,
         2.655969614163041,
         2.953515784814954,
         3.004719564691186,
         3.2813241947442293,
         2.8130923081189394,
         2.470480563119054,
         2.347021760419011,
         2.938181085512042,
         2.238411070778966,
         2.4134312216192484,
         2.821137661114335,
         3.109738515689969,
         2.8322930354624987,
         3.245516048744321,
         2.757922263815999,
         2.6192658711224794,
         2.8380018044263124,
         2.6334064695984125,
         3.0091272313147783,
         2.413497658446431,
         2.6509697646833956,
         2.369884507730603,
         2.5914764273911715,
         2.6753026861697435,
         2.6937811244279146,
         3.0205845814198256,
         2.2810368109494448,
         2.723671706393361,
         2.303137795999646,
         2.6431433353573084,
         2.5312276799231768,
         3.054272310808301,
         2.5739371348172426,
         3.304354624822736,
         2.441577496007085,
         2.697568276897073,
         2.6233932804316282,
         2.797944137826562,
         2.9776702504605055,
         2.9210966993123293,
         2.781983943656087,
         2.6044557113200426,
         2.014038549736142,
         2.7279629576951265,
         2.471852468326688,
         2.5487951654940844,
         2.407914938405156,
         2.3153898548334837,
         2.7221703696995974,
         2.502280918881297,
         2.4057771880179644,
         2.9390044417232275,
         2.192872676998377,
         3.0533925127238035,
         2.7493292707949877,
         2.919638967141509,
         2.583865212276578,
         2.99310945533216,
         2.6044382322579622,
         2.8583475966006517,
         2.4037357289344072,
         2.367388555780053,
         2.4149366933852434
        ],
        [
         0.9035246371117452,
         0.7779082906409347,
         0.6046062366092938,
         0.7459349249013135,
         0.7787023236896733,
         0.7994157457661744,
         0.941220889043321,
         0.8084963996608242,
         0.9233047868452717,
         0.983322292322508,
         0.8757793192445332,
         0.8111973252961866,
         0.8754487775710896,
         0.8604239884312741,
         0.6696246571319909,
         0.8914324528623291,
         0.6458138077620803,
         0.7991341425316941,
         0.9186529214774869,
         1.018176401511813,
         1.0011760606191475,
         0.7635376378864832,
         0.9153958452021519,
         0.8877879713147088,
         0.9242525399774408,
         0.8056558308388273,
         0.9450109091593208,
         0.8916262498298971,
         0.8056064747155073,
         0.6868946166247458,
         0.8002814725473887,
         0.9502260250908832,
         0.753371031114007,
         0.9001785477374734,
         0.9324727727727217,
         0.82037952568338,
         0.8752065706178132,
         0.7932544671796806,
         1.0096081977459934,
         0.979210855079508,
         0.993846659065991,
         0.8733489053788727,
         0.88566972589973,
         0.7647768962194273,
         0.9136005371771293,
         0.709620183068605,
         0.8009930908225372,
         0.9248567333311347,
         1.146457761137834,
         0.958076344466264,
         1.1015480297188054,
         0.8573172719571096,
         0.7353011065429801,
         0.9575420855124581,
         0.9195018181893574,
         0.9581310661130885,
         0.8308895597883397,
         0.8925192511015613,
         0.7789710637001507,
         0.8470240453979289,
         0.871206275491561,
         0.792726662477523,
         0.9513701925543727,
         0.7184922286403634,
         0.8426760176810163,
         0.725049636265193,
         0.9199550089855878,
         0.7410337146598415,
         1.0256308908463738,
         0.9020964435201702,
         1.0371917899748324,
         0.8813150226338436,
         0.8511560542815139,
         0.7582916838510745,
         0.9001252098264245,
         0.9670008992684999,
         0.9301515906369469,
         0.8089652935308055,
         0.9451830561527869,
         0.6715109603369132,
         0.8572995907345269,
         0.8352355619825748,
         0.7915033211479369,
         0.7712792187065644,
         0.763688756251708,
         0.7962658857042917,
         0.6783638309518442,
         0.807103581453813,
         0.940835240407486,
         0.7028070186750925,
         0.8661527390893791,
         0.9339268568182026,
         0.9499728424779701,
         0.8732713975426889,
         0.9825332776296992,
         0.9338746338791442,
         0.919962718341424,
         0.7719111151539174,
         0.7491564632528368,
         0.8089772188518484
        ]
       ],
       "encoder": "json",
       "name": "ABC_GAN_3 Metrics",
       "version": 1
      }
     },
     "metadata": {
      "scrapbook": {
       "data": true,
       "display": false,
       "name": "ABC_GAN_3 Metrics"
      }
     },
     "output_type": "display_data"
    },
    {
     "name": "stdout",
     "output_type": "stream",
     "text": [
      "MSE\n",
      "0.03739967421765248\n"
     ]
    }
   ],
   "source": [
    "ABC_GAN3_metrics=ABC_train_test2.test_generator(gen3,test_data,prior_model,variance,bias,\"3\",device)\n",
    "sb.glue(\"ABC_GAN_3 Metrics\",ABC_GAN3_metrics)\n",
    "\n",
    "print(\"MSE\")\n",
    "print(mean(ABC_GAN3_metrics[0]))"
   ]
  },
  {
   "cell_type": "code",
   "execution_count": 18,
   "id": "c8e46b48",
   "metadata": {
    "execution": {
     "iopub.execute_input": "2022-06-07T06:05:30.949704Z",
     "iopub.status.busy": "2022-06-07T06:05:30.949325Z",
     "iopub.status.idle": "2022-06-07T06:05:31.242017Z",
     "shell.execute_reply": "2022-06-07T06:05:31.242316Z"
    },
    "id": "c8e46b48",
    "papermill": {
     "duration": 0.311948,
     "end_time": "2022-06-07T06:05:31.242434",
     "exception": false,
     "start_time": "2022-06-07T06:05:30.930486",
     "status": "completed"
    },
    "tags": []
   },
   "outputs": [
    {
     "data": {
      "image/png": "[encoded data removed]",
      "text/plain": [
       "<Figure size 432x288 with 1 Axes>"
      ]
     },
     "metadata": {
      "needs_background": "light"
     },
     "output_type": "display_data"
    },
    {
     "data": {
      "image/png": "[encoded data removed]",
      "text/plain": [
       "<Figure size 432x288 with 1 Axes>"
      ]
     },
     "metadata": {
      "needs_background": "light"
     },
     "output_type": "display_data"
    },
    {
     "data": {
      "image/png": "[encoded data removed]",
      "text/plain": [
       "<Figure size 432x288 with 1 Axes>"
      ]
     },
     "metadata": {
      "needs_background": "light"
     },
     "output_type": "display_data"
    },
    {
     "data": {
      "image/png": "[encoded data removed]",
      "text/plain": [
       "<Figure size 432x288 with 1 Axes>"
      ]
     },
     "metadata": {
      "needs_background": "light"
     },
     "output_type": "display_data"
    }
   ],
   "source": [
    "sanityChecks.discProbVsError(train_data,disc3,device)\n",
    "sanityChecks.discProbVsError(test_data,disc3,device)"
   ]
  },
  {
   "cell_type": "markdown",
   "id": "a5bd74c3",
   "metadata": {
    "id": "a5bd74c3",
    "papermill": {
     "duration": 0.019424,
     "end_time": "2022-06-07T06:05:31.281202",
     "exception": false,
     "start_time": "2022-06-07T06:05:31.261778",
     "status": "completed"
    },
    "tags": []
   },
   "source": [
    "## Skip Connection Model Analysis - ABC-GAN "
   ]
  },
  {
   "cell_type": "markdown",
   "id": "5744a8bf",
   "metadata": {
    "id": "5744a8bf",
    "papermill": {
     "duration": 0.019448,
     "end_time": "2022-06-07T06:05:31.321165",
     "exception": false,
     "start_time": "2022-06-07T06:05:31.301717",
     "status": "completed"
    },
    "tags": []
   },
   "source": [
    "### Weight Analysis \n",
    "\n",
    "Study the weights of the skip connection layer\n",
    "\n",
    "Equation of the skip connection is \n",
    "\n",
    "$output = y_{gan} * w + y_{abc} * (1-w)$"
   ]
  },
  {
   "cell_type": "code",
   "execution_count": 19,
   "id": "52c31dea",
   "metadata": {
    "execution": {
     "iopub.execute_input": "2022-06-07T06:05:31.362013Z",
     "iopub.status.busy": "2022-06-07T06:05:31.361570Z",
     "iopub.status.idle": "2022-06-07T06:05:31.365053Z",
     "shell.execute_reply": "2022-06-07T06:05:31.365305Z"
    },
    "id": "52c31dea",
    "papermill": {
     "duration": 0.02522,
     "end_time": "2022-06-07T06:05:31.365425",
     "exception": false,
     "start_time": "2022-06-07T06:05:31.340205",
     "status": "completed"
    },
    "tags": []
   },
   "outputs": [
    {
     "name": "stdout",
     "output_type": "stream",
     "text": [
      "Weight of the node at skip connection\n",
      "Parameter containing:\n",
      "tensor([[0.4189]], requires_grad=True)\n"
     ]
    },
    {
     "data": {
      "application/scrapbook.scrap.json+json": {
       "data": 0.4189073145389557,
       "encoder": "json",
       "name": "Skip Connection Weight",
       "version": 1
      }
     },
     "metadata": {
      "scrapbook": {
       "data": true,
       "display": false,
       "name": "Skip Connection Weight"
      }
     },
     "output_type": "display_data"
    }
   ],
   "source": [
    "print(\"Weight of the node at skip connection\")\n",
    "for name,param in gen3.named_parameters():\n",
    "    if(name == \"skipNode.weight\"):\n",
    "        print(param)\n",
    "        sb.glue(\"Skip Connection Weight\",param.item())"
   ]
  }
 ],
 "metadata": {
  "colab": {
   "collapsed_sections": [],
   "name": "ABC_GAN_Model-Catboost_Pre-gen.ipynb",
   "provenance": []
  },
  "interpreter": {
   "hash": "31f2aee4e71d21fbe5cf8b01ff0e069b9275f58929596ceb00d14d90e3e16cd6"
  },
  "kernelspec": {
   "display_name": "Python 3 (ipykernel)",
   "language": "python",
   "name": "python3"
  },
  "language_info": {
   "codemirror_mode": {
    "name": "ipython",
    "version": 3
   },
   "file_extension": ".py",
   "mimetype": "text/x-python",
   "name": "python",
   "nbconvert_exporter": "python",
   "pygments_lexer": "ipython3",
   "version": "3.8.11"
  },
  "papermill": {
   "default_parameters": {},
   "duration": 61.435519,
   "end_time": "2022-06-07T06:05:31.693550",
   "environment_variables": {},
   "exception": null,
   "input_path": "ABC_GAN-Catboost.ipynb",
   "output_path": "./ABC_GAN_Catboost/ABC-GAN_output_2_3.ipynb",
   "parameters": {
    "bias": 0.1,
    "variance": 1
   },
   "start_time": "2022-06-07T06:04:30.258031",
   "version": "2.3.3"
  }
 },
 "nbformat": 4,
 "nbformat_minor": 5
}