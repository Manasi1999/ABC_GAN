{
 "cells": [
  {
   "cell_type": "markdown",
   "id": "622780e6",
   "metadata": {
    "id": "622780e6",
    "papermill": {
     "duration": 0.024707,
     "end_time": "2022-06-07T09:50:49.670322",
     "exception": false,
     "start_time": "2022-06-07T09:50:49.645615",
     "status": "completed"
    },
    "tags": []
   },
   "source": [
    "## Import Libraries "
   ]
  },
  {
   "cell_type": "code",
   "execution_count": 1,
   "id": "a62397e3",
   "metadata": {
    "execution": {
     "iopub.execute_input": "2022-06-07T09:50:49.695366Z",
     "iopub.status.busy": "2022-06-07T09:50:49.694888Z",
     "iopub.status.idle": "2022-06-07T09:50:49.697415Z",
     "shell.execute_reply": "2022-06-07T09:50:49.697721Z"
    },
    "id": "a62397e3",
    "papermill": {
     "duration": 0.018535,
     "end_time": "2022-06-07T09:50:49.697950",
     "exception": false,
     "start_time": "2022-06-07T09:50:49.679415",
     "status": "completed"
    },
    "tags": []
   },
   "outputs": [],
   "source": [
    "import warnings\n",
    "import sys\n",
    "sys.path.insert(0, '../../src')\n",
    "warnings.filterwarnings('ignore')"
   ]
  },
  {
   "cell_type": "code",
   "execution_count": 2,
   "id": "d6a4e155",
   "metadata": {
    "execution": {
     "iopub.execute_input": "2022-06-07T09:50:49.720349Z",
     "iopub.status.busy": "2022-06-07T09:50:49.719832Z",
     "iopub.status.idle": "2022-06-07T09:50:51.763954Z",
     "shell.execute_reply": "2022-06-07T09:50:51.764225Z"
    },
    "id": "d6a4e155",
    "papermill": {
     "duration": 2.056801,
     "end_time": "2022-06-07T09:50:51.764364",
     "exception": false,
     "start_time": "2022-06-07T09:50:49.707563",
     "status": "completed"
    },
    "tags": []
   },
   "outputs": [],
   "source": [
    "import ABC_train_test2\n",
    "import friedman1Dataset\n",
    "import network\n",
    "import dataset\n",
    "import sanityChecks\n",
    "import torch \n",
    "import scrapbook as sb\n",
    "from statistics import mean \n",
    "import catboost as ctb \n",
    "from sklearn.model_selection import train_test_split\n",
    "from sklearn.metrics import mean_squared_error,mean_absolute_error\n",
    "import numpy as np"
   ]
  },
  {
   "cell_type": "markdown",
   "id": "2fa5b0f7",
   "metadata": {
    "id": "2fa5b0f7",
    "papermill": {
     "duration": 0.007379,
     "end_time": "2022-06-07T09:50:51.783955",
     "exception": false,
     "start_time": "2022-06-07T09:50:51.776576",
     "status": "completed"
    },
    "tags": []
   },
   "source": [
    "## Parameters "
   ]
  },
  {
   "cell_type": "code",
   "execution_count": 3,
   "id": "783186fb",
   "metadata": {
    "execution": {
     "iopub.execute_input": "2022-06-07T09:50:51.801999Z",
     "iopub.status.busy": "2022-06-07T09:50:51.801590Z",
     "iopub.status.idle": "2022-06-07T09:50:51.803072Z",
     "shell.execute_reply": "2022-06-07T09:50:51.803349Z"
    },
    "id": "783186fb",
    "papermill": {
     "duration": 0.01179,
     "end_time": "2022-06-07T09:50:51.803480",
     "exception": false,
     "start_time": "2022-06-07T09:50:51.791690",
     "status": "completed"
    },
    "tags": [
     "parameters"
    ]
   },
   "outputs": [],
   "source": [
    "variance = 1\n",
    "bias = 1 "
   ]
  },
  {
   "cell_type": "code",
   "execution_count": 4,
   "id": "6f8dcb7a",
   "metadata": {
    "execution": {
     "iopub.execute_input": "2022-06-07T09:50:51.820748Z",
     "iopub.status.busy": "2022-06-07T09:50:51.820275Z",
     "iopub.status.idle": "2022-06-07T09:50:51.821558Z",
     "shell.execute_reply": "2022-06-07T09:50:51.821808Z"
    },
    "papermill": {
     "duration": 0.01121,
     "end_time": "2022-06-07T09:50:51.821933",
     "exception": false,
     "start_time": "2022-06-07T09:50:51.810723",
     "status": "completed"
    },
    "tags": [
     "injected-parameters"
    ]
   },
   "outputs": [],
   "source": [
    "# Parameters\n",
    "variance = 0.01\n",
    "bias = 0.01\n"
   ]
  },
  {
   "cell_type": "markdown",
   "id": "391cdbfd",
   "metadata": {
    "id": "391cdbfd",
    "papermill": {
     "duration": 0.00735,
     "end_time": "2022-06-07T09:50:51.836595",
     "exception": false,
     "start_time": "2022-06-07T09:50:51.829245",
     "status": "completed"
    },
    "tags": []
   },
   "source": [
    "## Dataset \n"
   ]
  },
  {
   "cell_type": "code",
   "execution_count": 5,
   "id": "5b51f161",
   "metadata": {
    "execution": {
     "iopub.execute_input": "2022-06-07T09:50:51.853830Z",
     "iopub.status.busy": "2022-06-07T09:50:51.853360Z",
     "iopub.status.idle": "2022-06-07T09:50:51.854415Z",
     "shell.execute_reply": "2022-06-07T09:50:51.854723Z"
    },
    "id": "5b51f161",
    "papermill": {
     "duration": 0.011093,
     "end_time": "2022-06-07T09:50:51.854844",
     "exception": false,
     "start_time": "2022-06-07T09:50:51.843751",
     "status": "completed"
    },
    "tags": []
   },
   "outputs": [],
   "source": [
    "#Parameters \n",
    "n_features = 5\n",
    "n_samples= 100\n",
    "n_target = 1 "
   ]
  },
  {
   "cell_type": "code",
   "execution_count": 6,
   "id": "5d6eced4",
   "metadata": {
    "execution": {
     "iopub.execute_input": "2022-06-07T09:50:51.873444Z",
     "iopub.status.busy": "2022-06-07T09:50:51.872111Z",
     "iopub.status.idle": "2022-06-07T09:50:51.878510Z",
     "shell.execute_reply": "2022-06-07T09:50:51.878750Z"
    },
    "id": "5d6eced4",
    "papermill": {
     "duration": 0.016572,
     "end_time": "2022-06-07T09:50:51.878867",
     "exception": false,
     "start_time": "2022-06-07T09:50:51.862295",
     "status": "completed"
    },
    "tags": []
   },
   "outputs": [
    {
     "name": "stdout",
     "output_type": "stream",
     "text": [
      "         X0        X1        X2        X3        X4         Y\n",
      "0 -1.075479 -0.711997 -1.534524 -1.720891 -1.660696 -1.684726\n",
      "1  0.947616  0.233224 -0.913937  1.263102 -0.292552  1.390555\n",
      "2  0.160913  0.811687  1.139036  1.264988  0.050561  1.681247\n",
      "3  1.080268 -0.287332 -0.349402 -0.906112  0.234419 -0.095496\n",
      "4 -0.912978 -1.505034 -0.781983 -0.036528 -1.680678 -1.531470\n"
     ]
    }
   ],
   "source": [
    "X,Y = friedman1Dataset.friedman1_data(n_samples,n_features)"
   ]
  },
  {
   "cell_type": "code",
   "execution_count": 7,
   "id": "fe007438",
   "metadata": {
    "execution": {
     "iopub.execute_input": "2022-06-07T09:50:51.933642Z",
     "iopub.status.busy": "2022-06-07T09:50:51.933167Z",
     "iopub.status.idle": "2022-06-07T09:50:51.935619Z",
     "shell.execute_reply": "2022-06-07T09:50:51.936071Z"
    },
    "id": "fe007438",
    "papermill": {
     "duration": 0.045187,
     "end_time": "2022-06-07T09:50:51.936260",
     "exception": false,
     "start_time": "2022-06-07T09:50:51.891073",
     "status": "completed"
    },
    "tags": []
   },
   "outputs": [],
   "source": [
    "#Train test split for dataset \n",
    "X_train,X_test,Y_train,Y_test = train_test_split(X,Y,test_size = 0.2)\n",
    "train_data = dataset.CustomDataset(X_train,Y_train)\n",
    "test_data = dataset.CustomDataset(X_test,Y_test)\n"
   ]
  },
  {
   "cell_type": "markdown",
   "id": "a9a1af34",
   "metadata": {
    "id": "a9a1af34",
    "papermill": {
     "duration": 0.007584,
     "end_time": "2022-06-07T09:50:51.961304",
     "exception": false,
     "start_time": "2022-06-07T09:50:51.953720",
     "status": "completed"
    },
    "tags": []
   },
   "source": [
    "## Training Parameters "
   ]
  },
  {
   "cell_type": "code",
   "execution_count": 8,
   "id": "952b7fc8",
   "metadata": {
    "execution": {
     "iopub.execute_input": "2022-06-07T09:50:51.979774Z",
     "iopub.status.busy": "2022-06-07T09:50:51.979397Z",
     "iopub.status.idle": "2022-06-07T09:50:51.980631Z",
     "shell.execute_reply": "2022-06-07T09:50:51.980925Z"
    },
    "id": "952b7fc8",
    "papermill": {
     "duration": 0.011718,
     "end_time": "2022-06-07T09:50:51.981044",
     "exception": false,
     "start_time": "2022-06-07T09:50:51.969326",
     "status": "completed"
    },
    "tags": []
   },
   "outputs": [],
   "source": [
    "batch_size = 32\n",
    "n_epochs = 1000\n",
    "#Select the device \n",
    "device = torch.device('cuda' if torch.cuda.is_available() else 'cpu')"
   ]
  },
  {
   "cell_type": "markdown",
   "id": "a95e1600",
   "metadata": {
    "id": "a95e1600",
    "papermill": {
     "duration": 0.007288,
     "end_time": "2022-06-07T09:50:51.996119",
     "exception": false,
     "start_time": "2022-06-07T09:50:51.988831",
     "status": "completed"
    },
    "tags": []
   },
   "source": [
    "# ABC Pre-generator Model \n",
    "\n",
    "1. The catboost model is used as a pre-generator model for the ABC-GAN. \n",
    "2. The model is first trained on the entire dataset \n",
    "3. It generats X,Y pairs and we add some Gaussian noise with mean 0 and variance 1 to it which is then feed as input to the generator.\n"
   ]
  },
  {
   "cell_type": "code",
   "execution_count": 9,
   "id": "ff8ce7bd",
   "metadata": {
    "execution": {
     "iopub.execute_input": "2022-06-07T09:50:52.015574Z",
     "iopub.status.busy": "2022-06-07T09:50:52.015163Z",
     "iopub.status.idle": "2022-06-07T09:50:52.730238Z",
     "shell.execute_reply": "2022-06-07T09:50:52.730514Z"
    },
    "id": "ff8ce7bd",
    "papermill": {
     "duration": 0.726708,
     "end_time": "2022-06-07T09:50:52.730632",
     "exception": false,
     "start_time": "2022-06-07T09:50:52.003924",
     "status": "completed"
    },
    "tags": []
   },
   "outputs": [
    {
     "name": "stdout",
     "output_type": "stream",
     "text": [
      "Learning rate set to 0.024897\n",
      "0:\tlearn: 0.9935532\ttotal: 58.2ms\tremaining: 58.1s\n"
     ]
    },
    {
     "name": "stdout",
     "output_type": "stream",
     "text": [
      "1:\tlearn: 0.9849669\ttotal: 59.5ms\tremaining: 29.7s\n",
      "2:\tlearn: 0.9750762\ttotal: 60.2ms\tremaining: 20s\n",
      "3:\tlearn: 0.9650585\ttotal: 60.6ms\tremaining: 15.1s\n",
      "4:\tlearn: 0.9575877\ttotal: 61.3ms\tremaining: 12.2s\n",
      "5:\tlearn: 0.9489549\ttotal: 61.7ms\tremaining: 10.2s\n",
      "6:\tlearn: 0.9384512\ttotal: 62.1ms\tremaining: 8.81s\n",
      "7:\tlearn: 0.9288750\ttotal: 62.5ms\tremaining: 7.75s\n",
      "8:\tlearn: 0.9202135\ttotal: 63ms\tremaining: 6.94s\n",
      "9:\tlearn: 0.9106169\ttotal: 63.4ms\tremaining: 6.28s\n",
      "10:\tlearn: 0.9013832\ttotal: 64ms\tremaining: 5.76s\n",
      "11:\tlearn: 0.8912053\ttotal: 64.8ms\tremaining: 5.34s\n",
      "12:\tlearn: 0.8813828\ttotal: 65.4ms\tremaining: 4.96s\n",
      "13:\tlearn: 0.8728634\ttotal: 66ms\tremaining: 4.65s\n",
      "14:\tlearn: 0.8666754\ttotal: 66.8ms\tremaining: 4.38s\n",
      "15:\tlearn: 0.8582020\ttotal: 67.3ms\tremaining: 4.14s\n",
      "16:\tlearn: 0.8503396\ttotal: 67.9ms\tremaining: 3.93s\n",
      "17:\tlearn: 0.8427049\ttotal: 68.3ms\tremaining: 3.73s\n",
      "18:\tlearn: 0.8351875\ttotal: 68.8ms\tremaining: 3.55s\n",
      "19:\tlearn: 0.8267243\ttotal: 69.2ms\tremaining: 3.39s\n",
      "20:\tlearn: 0.8178938\ttotal: 69.5ms\tremaining: 3.24s\n",
      "21:\tlearn: 0.8091978\ttotal: 69.8ms\tremaining: 3.1s\n",
      "22:\tlearn: 0.8007361\ttotal: 70.1ms\tremaining: 2.98s\n",
      "23:\tlearn: 0.7926721\ttotal: 70.4ms\tremaining: 2.86s\n",
      "24:\tlearn: 0.7842203\ttotal: 70.6ms\tremaining: 2.75s\n",
      "25:\tlearn: 0.7776629\ttotal: 70.9ms\tremaining: 2.66s\n",
      "26:\tlearn: 0.7701363\ttotal: 71.2ms\tremaining: 2.56s\n",
      "27:\tlearn: 0.7626141\ttotal: 71.5ms\tremaining: 2.48s\n",
      "28:\tlearn: 0.7539818\ttotal: 71.8ms\tremaining: 2.4s\n",
      "29:\tlearn: 0.7480165\ttotal: 72.1ms\tremaining: 2.33s\n",
      "30:\tlearn: 0.7405890\ttotal: 72.4ms\tremaining: 2.26s\n",
      "31:\tlearn: 0.7338383\ttotal: 72.8ms\tremaining: 2.2s\n",
      "32:\tlearn: 0.7267968\ttotal: 73.2ms\tremaining: 2.14s\n",
      "33:\tlearn: 0.7198055\ttotal: 73.9ms\tremaining: 2.1s\n",
      "34:\tlearn: 0.7128544\ttotal: 74.4ms\tremaining: 2.05s\n",
      "35:\tlearn: 0.7070749\ttotal: 74.8ms\tremaining: 2s\n",
      "36:\tlearn: 0.7008502\ttotal: 75.2ms\tremaining: 1.96s\n",
      "37:\tlearn: 0.6942905\ttotal: 75.7ms\tremaining: 1.92s\n",
      "38:\tlearn: 0.6882089\ttotal: 76.2ms\tremaining: 1.88s\n",
      "39:\tlearn: 0.6819731\ttotal: 76.6ms\tremaining: 1.84s\n",
      "40:\tlearn: 0.6750411\ttotal: 77ms\tremaining: 1.8s\n",
      "41:\tlearn: 0.6689338\ttotal: 77.4ms\tremaining: 1.76s\n",
      "42:\tlearn: 0.6626026\ttotal: 77.8ms\tremaining: 1.73s\n",
      "43:\tlearn: 0.6562183\ttotal: 78.2ms\tremaining: 1.7s\n",
      "44:\tlearn: 0.6503410\ttotal: 78.7ms\tremaining: 1.67s\n",
      "45:\tlearn: 0.6450457\ttotal: 79.1ms\tremaining: 1.64s\n",
      "46:\tlearn: 0.6395423\ttotal: 79.4ms\tremaining: 1.61s\n",
      "47:\tlearn: 0.6341986\ttotal: 80.1ms\tremaining: 1.59s\n",
      "48:\tlearn: 0.6297359\ttotal: 80.6ms\tremaining: 1.56s\n",
      "49:\tlearn: 0.6236752\ttotal: 81.1ms\tremaining: 1.54s\n",
      "50:\tlearn: 0.6183895\ttotal: 81.7ms\tremaining: 1.52s\n",
      "51:\tlearn: 0.6130167\ttotal: 82.3ms\tremaining: 1.5s\n",
      "52:\tlearn: 0.6077574\ttotal: 82.9ms\tremaining: 1.48s\n",
      "53:\tlearn: 0.6018381\ttotal: 83.5ms\tremaining: 1.46s\n",
      "54:\tlearn: 0.5961464\ttotal: 83.8ms\tremaining: 1.44s\n",
      "55:\tlearn: 0.5907180\ttotal: 84.2ms\tremaining: 1.42s\n",
      "56:\tlearn: 0.5854982\ttotal: 84.7ms\tremaining: 1.4s\n",
      "57:\tlearn: 0.5798983\ttotal: 85.2ms\tremaining: 1.38s\n",
      "58:\tlearn: 0.5747120\ttotal: 85.8ms\tremaining: 1.37s\n",
      "59:\tlearn: 0.5693423\ttotal: 86.2ms\tremaining: 1.35s\n",
      "60:\tlearn: 0.5648190\ttotal: 86.6ms\tremaining: 1.33s\n",
      "61:\tlearn: 0.5597652\ttotal: 87.1ms\tremaining: 1.32s\n",
      "62:\tlearn: 0.5552591\ttotal: 87.6ms\tremaining: 1.3s\n",
      "63:\tlearn: 0.5507646\ttotal: 88.2ms\tremaining: 1.29s\n",
      "64:\tlearn: 0.5460102\ttotal: 88.8ms\tremaining: 1.28s\n",
      "65:\tlearn: 0.5422193\ttotal: 89.2ms\tremaining: 1.26s\n",
      "66:\tlearn: 0.5383416\ttotal: 89.7ms\tremaining: 1.25s\n",
      "67:\tlearn: 0.5337915\ttotal: 90.2ms\tremaining: 1.24s\n",
      "68:\tlearn: 0.5307642\ttotal: 90.8ms\tremaining: 1.23s\n",
      "69:\tlearn: 0.5262781\ttotal: 91.2ms\tremaining: 1.21s\n",
      "70:\tlearn: 0.5223807\ttotal: 91.7ms\tremaining: 1.2s\n",
      "71:\tlearn: 0.5186808\ttotal: 92.1ms\tremaining: 1.19s\n",
      "72:\tlearn: 0.5141092\ttotal: 92.6ms\tremaining: 1.18s\n",
      "73:\tlearn: 0.5094043\ttotal: 93.1ms\tremaining: 1.16s\n",
      "74:\tlearn: 0.5046583\ttotal: 93.5ms\tremaining: 1.15s\n",
      "75:\tlearn: 0.5008530\ttotal: 94ms\tremaining: 1.14s\n",
      "76:\tlearn: 0.4968492\ttotal: 94.5ms\tremaining: 1.13s\n",
      "77:\tlearn: 0.4923766\ttotal: 95ms\tremaining: 1.12s\n",
      "78:\tlearn: 0.4879819\ttotal: 95.6ms\tremaining: 1.11s\n",
      "79:\tlearn: 0.4844490\ttotal: 96.1ms\tremaining: 1.1s\n",
      "80:\tlearn: 0.4805530\ttotal: 96.7ms\tremaining: 1.1s\n",
      "81:\tlearn: 0.4765376\ttotal: 97.1ms\tremaining: 1.09s\n",
      "82:\tlearn: 0.4732712\ttotal: 97.5ms\tremaining: 1.08s\n",
      "83:\tlearn: 0.4689488\ttotal: 98.1ms\tremaining: 1.07s\n",
      "84:\tlearn: 0.4655402\ttotal: 98.5ms\tremaining: 1.06s\n",
      "85:\tlearn: 0.4617256\ttotal: 99ms\tremaining: 1.05s\n",
      "86:\tlearn: 0.4586902\ttotal: 99.5ms\tremaining: 1.04s\n",
      "87:\tlearn: 0.4546818\ttotal: 100ms\tremaining: 1.04s\n",
      "88:\tlearn: 0.4510666\ttotal: 101ms\tremaining: 1.03s\n",
      "89:\tlearn: 0.4472057\ttotal: 101ms\tremaining: 1.02s\n",
      "90:\tlearn: 0.4443040\ttotal: 102ms\tremaining: 1.01s\n",
      "91:\tlearn: 0.4405041\ttotal: 102ms\tremaining: 1.01s\n",
      "92:\tlearn: 0.4372672\ttotal: 103ms\tremaining: 1000ms\n",
      "93:\tlearn: 0.4336889\ttotal: 103ms\tremaining: 992ms\n",
      "94:\tlearn: 0.4297174\ttotal: 103ms\tremaining: 986ms\n",
      "95:\tlearn: 0.4262649\ttotal: 104ms\tremaining: 979ms\n",
      "96:\tlearn: 0.4227141\ttotal: 104ms\tremaining: 973ms\n",
      "97:\tlearn: 0.4192623\ttotal: 105ms\tremaining: 967ms\n",
      "98:\tlearn: 0.4161812\ttotal: 106ms\tremaining: 960ms\n",
      "99:\tlearn: 0.4128651\ttotal: 106ms\tremaining: 954ms\n",
      "100:\tlearn: 0.4099948\ttotal: 107ms\tremaining: 949ms\n",
      "101:\tlearn: 0.4064140\ttotal: 107ms\tremaining: 943ms\n",
      "102:\tlearn: 0.4029422\ttotal: 108ms\tremaining: 937ms\n",
      "103:\tlearn: 0.3999015\ttotal: 108ms\tremaining: 932ms\n",
      "104:\tlearn: 0.3971396\ttotal: 109ms\tremaining: 926ms\n",
      "105:\tlearn: 0.3943940\ttotal: 109ms\tremaining: 921ms\n",
      "106:\tlearn: 0.3910457\ttotal: 110ms\tremaining: 916ms\n",
      "107:\tlearn: 0.3881462\ttotal: 110ms\tremaining: 912ms\n",
      "108:\tlearn: 0.3850969\ttotal: 111ms\tremaining: 906ms\n",
      "109:\tlearn: 0.3823936\ttotal: 111ms\tremaining: 902ms\n",
      "110:\tlearn: 0.3793231\ttotal: 112ms\tremaining: 896ms\n",
      "111:\tlearn: 0.3760495\ttotal: 112ms\tremaining: 891ms\n",
      "112:\tlearn: 0.3735252\ttotal: 113ms\tremaining: 886ms\n",
      "113:\tlearn: 0.3705485\ttotal: 113ms\tremaining: 881ms\n",
      "114:\tlearn: 0.3676199\ttotal: 114ms\tremaining: 876ms\n",
      "115:\tlearn: 0.3647576\ttotal: 114ms\tremaining: 871ms\n",
      "116:\tlearn: 0.3621707\ttotal: 115ms\tremaining: 866ms\n",
      "117:\tlearn: 0.3597689\ttotal: 115ms\tremaining: 862ms\n",
      "118:\tlearn: 0.3577274\ttotal: 116ms\tremaining: 857ms\n",
      "119:\tlearn: 0.3553648\ttotal: 116ms\tremaining: 852ms\n",
      "120:\tlearn: 0.3528447\ttotal: 117ms\tremaining: 848ms\n",
      "121:\tlearn: 0.3504252\ttotal: 117ms\tremaining: 844ms\n",
      "122:\tlearn: 0.3479171\ttotal: 118ms\tremaining: 840ms\n",
      "123:\tlearn: 0.3454760\ttotal: 118ms\tremaining: 835ms\n",
      "124:\tlearn: 0.3431170\ttotal: 119ms\tremaining: 830ms\n",
      "125:\tlearn: 0.3403211\ttotal: 119ms\tremaining: 826ms\n",
      "126:\tlearn: 0.3375693\ttotal: 119ms\tremaining: 821ms\n",
      "127:\tlearn: 0.3352226\ttotal: 120ms\tremaining: 817ms\n",
      "128:\tlearn: 0.3328746\ttotal: 121ms\tremaining: 814ms\n",
      "129:\tlearn: 0.3304646\ttotal: 121ms\tremaining: 811ms\n",
      "130:\tlearn: 0.3285933\ttotal: 122ms\tremaining: 807ms\n",
      "131:\tlearn: 0.3267028\ttotal: 122ms\tremaining: 803ms\n",
      "132:\tlearn: 0.3244647\ttotal: 123ms\tremaining: 800ms\n",
      "133:\tlearn: 0.3223095\ttotal: 123ms\tremaining: 796ms\n",
      "134:\tlearn: 0.3195035\ttotal: 124ms\tremaining: 792ms\n",
      "135:\tlearn: 0.3173647\ttotal: 124ms\tremaining: 788ms\n",
      "136:\tlearn: 0.3147932\ttotal: 124ms\tremaining: 784ms\n",
      "137:\tlearn: 0.3127074\ttotal: 125ms\tremaining: 780ms\n",
      "138:\tlearn: 0.3103481\ttotal: 125ms\tremaining: 777ms\n",
      "139:\tlearn: 0.3079585\ttotal: 126ms\tremaining: 775ms\n",
      "140:\tlearn: 0.3060745\ttotal: 127ms\tremaining: 772ms\n",
      "141:\tlearn: 0.3039207\ttotal: 127ms\tremaining: 768ms\n",
      "142:\tlearn: 0.3015196\ttotal: 128ms\tremaining: 764ms\n",
      "143:\tlearn: 0.2990801\ttotal: 128ms\tremaining: 761ms\n",
      "144:\tlearn: 0.2964998\ttotal: 129ms\tremaining: 758ms\n",
      "145:\tlearn: 0.2944458\ttotal: 129ms\tremaining: 755ms\n",
      "146:\tlearn: 0.2921920\ttotal: 129ms\tremaining: 751ms\n",
      "147:\tlearn: 0.2901500\ttotal: 130ms\tremaining: 748ms\n",
      "148:\tlearn: 0.2878813\ttotal: 130ms\tremaining: 745ms\n",
      "149:\tlearn: 0.2857532\ttotal: 131ms\tremaining: 742ms\n",
      "150:\tlearn: 0.2838732\ttotal: 131ms\tremaining: 738ms\n",
      "151:\tlearn: 0.2821998\ttotal: 132ms\tremaining: 735ms\n",
      "152:\tlearn: 0.2803557\ttotal: 132ms\tremaining: 732ms\n",
      "153:\tlearn: 0.2785463\ttotal: 133ms\tremaining: 729ms\n",
      "154:\tlearn: 0.2766104\ttotal: 133ms\tremaining: 726ms\n",
      "155:\tlearn: 0.2751351\ttotal: 134ms\tremaining: 723ms\n",
      "156:\tlearn: 0.2728509\ttotal: 134ms\tremaining: 720ms\n",
      "157:\tlearn: 0.2712254\ttotal: 135ms\tremaining: 718ms\n",
      "158:\tlearn: 0.2692803\ttotal: 135ms\tremaining: 714ms\n",
      "159:\tlearn: 0.2675495\ttotal: 135ms\tremaining: 711ms\n",
      "160:\tlearn: 0.2658089\ttotal: 136ms\tremaining: 708ms\n",
      "161:\tlearn: 0.2640098\ttotal: 136ms\tremaining: 704ms\n",
      "162:\tlearn: 0.2624142\ttotal: 137ms\tremaining: 702ms\n",
      "163:\tlearn: 0.2605575\ttotal: 137ms\tremaining: 699ms\n",
      "164:\tlearn: 0.2590276\ttotal: 138ms\tremaining: 697ms\n",
      "165:\tlearn: 0.2574091\ttotal: 138ms\tremaining: 694ms\n",
      "166:\tlearn: 0.2558135\ttotal: 139ms\tremaining: 691ms\n",
      "167:\tlearn: 0.2537740\ttotal: 139ms\tremaining: 688ms\n",
      "168:\tlearn: 0.2522673\ttotal: 139ms\tremaining: 686ms\n",
      "169:\tlearn: 0.2507401\ttotal: 140ms\tremaining: 684ms\n",
      "170:\tlearn: 0.2485294\ttotal: 141ms\tremaining: 682ms\n",
      "171:\tlearn: 0.2471592\ttotal: 141ms\tremaining: 680ms\n",
      "172:\tlearn: 0.2457463\ttotal: 142ms\tremaining: 677ms\n",
      "173:\tlearn: 0.2439799\ttotal: 142ms\tremaining: 676ms\n",
      "174:\tlearn: 0.2425192\ttotal: 143ms\tremaining: 673ms\n",
      "175:\tlearn: 0.2409396\ttotal: 143ms\tremaining: 671ms\n",
      "176:\tlearn: 0.2390437\ttotal: 144ms\tremaining: 668ms\n",
      "177:\tlearn: 0.2372660\ttotal: 144ms\tremaining: 666ms\n",
      "178:\tlearn: 0.2351206\ttotal: 145ms\tremaining: 664ms\n",
      "179:\tlearn: 0.2336976\ttotal: 145ms\tremaining: 662ms\n",
      "180:\tlearn: 0.2322257\ttotal: 146ms\tremaining: 659ms\n",
      "181:\tlearn: 0.2309376\ttotal: 146ms\tremaining: 657ms\n",
      "182:\tlearn: 0.2295051\ttotal: 147ms\tremaining: 655ms\n",
      "183:\tlearn: 0.2281011\ttotal: 147ms\tremaining: 652ms\n",
      "184:\tlearn: 0.2263746\ttotal: 148ms\tremaining: 650ms\n",
      "185:\tlearn: 0.2251939\ttotal: 148ms\tremaining: 647ms\n",
      "186:\tlearn: 0.2236799\ttotal: 148ms\tremaining: 645ms\n",
      "187:\tlearn: 0.2219787\ttotal: 149ms\tremaining: 643ms\n",
      "188:\tlearn: 0.2200966\ttotal: 149ms\tremaining: 641ms\n",
      "189:\tlearn: 0.2188906\ttotal: 150ms\tremaining: 639ms\n",
      "190:\tlearn: 0.2173989\ttotal: 150ms\tremaining: 636ms\n",
      "191:\tlearn: 0.2159057\ttotal: 151ms\tremaining: 634ms\n",
      "192:\tlearn: 0.2141282\ttotal: 151ms\tremaining: 631ms\n",
      "193:\tlearn: 0.2128738\ttotal: 151ms\tremaining: 629ms\n",
      "194:\tlearn: 0.2112668\ttotal: 152ms\tremaining: 627ms\n",
      "195:\tlearn: 0.2101466\ttotal: 152ms\tremaining: 625ms\n",
      "196:\tlearn: 0.2086580\ttotal: 153ms\tremaining: 623ms\n",
      "197:\tlearn: 0.2069050\ttotal: 153ms\tremaining: 621ms\n",
      "198:\tlearn: 0.2056137\ttotal: 154ms\tremaining: 619ms\n",
      "199:\tlearn: 0.2043104\ttotal: 154ms\tremaining: 617ms\n",
      "200:\tlearn: 0.2028485\ttotal: 155ms\tremaining: 615ms\n",
      "201:\tlearn: 0.2016911\ttotal: 155ms\tremaining: 614ms\n",
      "202:\tlearn: 0.2002931\ttotal: 156ms\tremaining: 613ms\n",
      "203:\tlearn: 0.1989639\ttotal: 156ms\tremaining: 611ms\n",
      "204:\tlearn: 0.1977708\ttotal: 157ms\tremaining: 608ms\n",
      "205:\tlearn: 0.1960900\ttotal: 157ms\tremaining: 606ms\n",
      "206:\tlearn: 0.1945490\ttotal: 158ms\tremaining: 604ms\n",
      "207:\tlearn: 0.1930105\ttotal: 158ms\tremaining: 602ms\n",
      "208:\tlearn: 0.1917674\ttotal: 159ms\tremaining: 600ms\n",
      "209:\tlearn: 0.1904603\ttotal: 159ms\tremaining: 598ms\n",
      "210:\tlearn: 0.1891587\ttotal: 159ms\tremaining: 596ms\n",
      "211:\tlearn: 0.1880878\ttotal: 160ms\tremaining: 594ms\n",
      "212:\tlearn: 0.1870597\ttotal: 160ms\tremaining: 592ms\n",
      "213:\tlearn: 0.1859569\ttotal: 161ms\tremaining: 591ms\n",
      "214:\tlearn: 0.1848577\ttotal: 161ms\tremaining: 589ms\n",
      "215:\tlearn: 0.1836217\ttotal: 162ms\tremaining: 587ms\n",
      "216:\tlearn: 0.1825057\ttotal: 162ms\tremaining: 585ms\n",
      "217:\tlearn: 0.1812427\ttotal: 163ms\tremaining: 583ms\n",
      "218:\tlearn: 0.1801777\ttotal: 163ms\tremaining: 581ms\n",
      "219:\tlearn: 0.1786998\ttotal: 163ms\tremaining: 579ms\n",
      "220:\tlearn: 0.1775102\ttotal: 164ms\tremaining: 578ms\n",
      "221:\tlearn: 0.1762798\ttotal: 164ms\tremaining: 576ms\n",
      "222:\tlearn: 0.1749197\ttotal: 166ms\tremaining: 577ms\n",
      "223:\tlearn: 0.1737133\ttotal: 166ms\tremaining: 575ms\n",
      "224:\tlearn: 0.1725395\ttotal: 166ms\tremaining: 573ms\n",
      "225:\tlearn: 0.1715704\ttotal: 167ms\tremaining: 572ms\n",
      "226:\tlearn: 0.1707554\ttotal: 167ms\tremaining: 570ms\n",
      "227:\tlearn: 0.1696220\ttotal: 168ms\tremaining: 569ms\n",
      "228:\tlearn: 0.1685640\ttotal: 168ms\tremaining: 567ms\n",
      "229:\tlearn: 0.1675011\ttotal: 169ms\tremaining: 565ms\n",
      "230:\tlearn: 0.1664809\ttotal: 169ms\tremaining: 564ms\n",
      "231:\tlearn: 0.1655322\ttotal: 170ms\tremaining: 562ms\n",
      "232:\tlearn: 0.1642583\ttotal: 170ms\tremaining: 561ms\n",
      "233:\tlearn: 0.1632532\ttotal: 171ms\tremaining: 560ms\n",
      "234:\tlearn: 0.1624254\ttotal: 172ms\tremaining: 559ms\n",
      "235:\tlearn: 0.1613230\ttotal: 172ms\tremaining: 558ms\n",
      "236:\tlearn: 0.1602543\ttotal: 173ms\tremaining: 556ms\n",
      "237:\tlearn: 0.1592086\ttotal: 173ms\tremaining: 554ms\n",
      "238:\tlearn: 0.1581340\ttotal: 174ms\tremaining: 553ms\n",
      "239:\tlearn: 0.1572003\ttotal: 174ms\tremaining: 551ms\n",
      "240:\tlearn: 0.1561670\ttotal: 175ms\tremaining: 550ms\n",
      "241:\tlearn: 0.1549777\ttotal: 175ms\tremaining: 549ms\n",
      "242:\tlearn: 0.1540812\ttotal: 176ms\tremaining: 547ms\n",
      "243:\tlearn: 0.1529486\ttotal: 176ms\tremaining: 546ms\n",
      "244:\tlearn: 0.1520045\ttotal: 177ms\tremaining: 544ms\n",
      "245:\tlearn: 0.1508640\ttotal: 177ms\tremaining: 543ms\n",
      "246:\tlearn: 0.1496268\ttotal: 178ms\tremaining: 542ms\n",
      "247:\tlearn: 0.1487128\ttotal: 178ms\tremaining: 540ms\n",
      "248:\tlearn: 0.1477567\ttotal: 179ms\tremaining: 539ms\n",
      "249:\tlearn: 0.1468696\ttotal: 179ms\tremaining: 538ms\n",
      "250:\tlearn: 0.1460146\ttotal: 180ms\tremaining: 536ms\n",
      "251:\tlearn: 0.1450932\ttotal: 180ms\tremaining: 535ms\n",
      "252:\tlearn: 0.1442982\ttotal: 181ms\tremaining: 534ms\n",
      "253:\tlearn: 0.1433551\ttotal: 181ms\tremaining: 533ms\n",
      "254:\tlearn: 0.1422913\ttotal: 182ms\tremaining: 531ms\n",
      "255:\tlearn: 0.1412761\ttotal: 182ms\tremaining: 530ms\n",
      "256:\tlearn: 0.1404654\ttotal: 183ms\tremaining: 529ms\n",
      "257:\tlearn: 0.1396766\ttotal: 183ms\tremaining: 527ms\n",
      "258:\tlearn: 0.1387748\ttotal: 184ms\tremaining: 526ms\n",
      "259:\tlearn: 0.1380263\ttotal: 184ms\tremaining: 525ms\n",
      "260:\tlearn: 0.1370440\ttotal: 185ms\tremaining: 523ms\n"
     ]
    },
    {
     "name": "stdout",
     "output_type": "stream",
     "text": [
      "261:\tlearn: 0.1359350\ttotal: 186ms\tremaining: 523ms\n",
      "262:\tlearn: 0.1353326\ttotal: 186ms\tremaining: 522ms\n",
      "263:\tlearn: 0.1344515\ttotal: 187ms\tremaining: 521ms\n",
      "264:\tlearn: 0.1333582\ttotal: 187ms\tremaining: 519ms\n",
      "265:\tlearn: 0.1324062\ttotal: 187ms\tremaining: 517ms\n",
      "266:\tlearn: 0.1315550\ttotal: 188ms\tremaining: 516ms\n",
      "267:\tlearn: 0.1305668\ttotal: 188ms\tremaining: 514ms\n",
      "268:\tlearn: 0.1295647\ttotal: 189ms\tremaining: 513ms\n",
      "269:\tlearn: 0.1288414\ttotal: 189ms\tremaining: 512ms\n",
      "270:\tlearn: 0.1280646\ttotal: 190ms\tremaining: 510ms\n",
      "271:\tlearn: 0.1271608\ttotal: 190ms\tremaining: 509ms\n",
      "272:\tlearn: 0.1264405\ttotal: 191ms\tremaining: 508ms\n",
      "273:\tlearn: 0.1257158\ttotal: 191ms\tremaining: 507ms\n",
      "274:\tlearn: 0.1249908\ttotal: 192ms\tremaining: 505ms\n",
      "275:\tlearn: 0.1242628\ttotal: 192ms\tremaining: 504ms\n",
      "276:\tlearn: 0.1235176\ttotal: 193ms\tremaining: 503ms\n",
      "277:\tlearn: 0.1228796\ttotal: 193ms\tremaining: 501ms\n",
      "278:\tlearn: 0.1220672\ttotal: 194ms\tremaining: 500ms\n",
      "279:\tlearn: 0.1212958\ttotal: 194ms\tremaining: 499ms\n",
      "280:\tlearn: 0.1205210\ttotal: 194ms\tremaining: 498ms\n",
      "281:\tlearn: 0.1196362\ttotal: 195ms\tremaining: 497ms\n",
      "282:\tlearn: 0.1188785\ttotal: 195ms\tremaining: 495ms\n",
      "283:\tlearn: 0.1182765\ttotal: 196ms\tremaining: 494ms\n",
      "284:\tlearn: 0.1173629\ttotal: 197ms\tremaining: 493ms\n",
      "285:\tlearn: 0.1167187\ttotal: 197ms\tremaining: 492ms\n",
      "286:\tlearn: 0.1160381\ttotal: 198ms\tremaining: 491ms\n",
      "287:\tlearn: 0.1153085\ttotal: 198ms\tremaining: 490ms\n",
      "288:\tlearn: 0.1147725\ttotal: 199ms\tremaining: 489ms\n",
      "289:\tlearn: 0.1140940\ttotal: 199ms\tremaining: 488ms\n",
      "290:\tlearn: 0.1133150\ttotal: 200ms\tremaining: 486ms\n",
      "291:\tlearn: 0.1126859\ttotal: 200ms\tremaining: 485ms\n",
      "292:\tlearn: 0.1120489\ttotal: 201ms\tremaining: 484ms\n",
      "293:\tlearn: 0.1113704\ttotal: 201ms\tremaining: 483ms\n",
      "294:\tlearn: 0.1107216\ttotal: 202ms\tremaining: 482ms\n",
      "295:\tlearn: 0.1099987\ttotal: 202ms\tremaining: 480ms\n",
      "296:\tlearn: 0.1093473\ttotal: 202ms\tremaining: 479ms\n",
      "297:\tlearn: 0.1087210\ttotal: 203ms\tremaining: 478ms\n",
      "298:\tlearn: 0.1081133\ttotal: 203ms\tremaining: 477ms\n",
      "299:\tlearn: 0.1075218\ttotal: 204ms\tremaining: 476ms\n",
      "300:\tlearn: 0.1069860\ttotal: 205ms\tremaining: 475ms\n",
      "301:\tlearn: 0.1063743\ttotal: 205ms\tremaining: 474ms\n",
      "302:\tlearn: 0.1057048\ttotal: 205ms\tremaining: 473ms\n",
      "303:\tlearn: 0.1050562\ttotal: 206ms\tremaining: 471ms\n",
      "304:\tlearn: 0.1043010\ttotal: 206ms\tremaining: 470ms\n",
      "305:\tlearn: 0.1036213\ttotal: 207ms\tremaining: 469ms\n",
      "306:\tlearn: 0.1030909\ttotal: 207ms\tremaining: 468ms\n",
      "307:\tlearn: 0.1025054\ttotal: 208ms\tremaining: 467ms\n",
      "308:\tlearn: 0.1018138\ttotal: 208ms\tremaining: 466ms\n",
      "309:\tlearn: 0.1012399\ttotal: 209ms\tremaining: 465ms\n",
      "310:\tlearn: 0.1006782\ttotal: 209ms\tremaining: 464ms\n",
      "311:\tlearn: 0.1001205\ttotal: 210ms\tremaining: 462ms\n",
      "312:\tlearn: 0.0995414\ttotal: 210ms\tremaining: 461ms\n",
      "313:\tlearn: 0.0990000\ttotal: 210ms\tremaining: 460ms\n",
      "314:\tlearn: 0.0984144\ttotal: 211ms\tremaining: 459ms\n",
      "315:\tlearn: 0.0978828\ttotal: 211ms\tremaining: 458ms\n",
      "316:\tlearn: 0.0973738\ttotal: 212ms\tremaining: 456ms\n",
      "317:\tlearn: 0.0968080\ttotal: 212ms\tremaining: 455ms\n",
      "318:\tlearn: 0.0964179\ttotal: 213ms\tremaining: 455ms\n",
      "319:\tlearn: 0.0957029\ttotal: 214ms\tremaining: 454ms\n",
      "320:\tlearn: 0.0952195\ttotal: 214ms\tremaining: 453ms\n",
      "321:\tlearn: 0.0947018\ttotal: 215ms\tremaining: 452ms\n",
      "322:\tlearn: 0.0939837\ttotal: 215ms\tremaining: 451ms\n",
      "323:\tlearn: 0.0935615\ttotal: 216ms\tremaining: 450ms\n",
      "324:\tlearn: 0.0928100\ttotal: 216ms\tremaining: 449ms\n",
      "325:\tlearn: 0.0923211\ttotal: 217ms\tremaining: 448ms\n",
      "326:\tlearn: 0.0915377\ttotal: 217ms\tremaining: 448ms\n",
      "327:\tlearn: 0.0910613\ttotal: 218ms\tremaining: 447ms\n",
      "328:\tlearn: 0.0903973\ttotal: 219ms\tremaining: 446ms\n",
      "329:\tlearn: 0.0899608\ttotal: 219ms\tremaining: 445ms\n",
      "330:\tlearn: 0.0894965\ttotal: 219ms\tremaining: 444ms\n",
      "331:\tlearn: 0.0889143\ttotal: 220ms\tremaining: 442ms\n",
      "332:\tlearn: 0.0885109\ttotal: 220ms\tremaining: 441ms\n",
      "333:\tlearn: 0.0877859\ttotal: 221ms\tremaining: 440ms\n",
      "334:\tlearn: 0.0871223\ttotal: 221ms\tremaining: 439ms\n",
      "335:\tlearn: 0.0866196\ttotal: 222ms\tremaining: 438ms\n",
      "336:\tlearn: 0.0859047\ttotal: 222ms\tremaining: 437ms\n",
      "337:\tlearn: 0.0855228\ttotal: 223ms\tremaining: 436ms\n",
      "338:\tlearn: 0.0850893\ttotal: 223ms\tremaining: 435ms\n",
      "339:\tlearn: 0.0846111\ttotal: 224ms\tremaining: 434ms\n",
      "340:\tlearn: 0.0842424\ttotal: 224ms\tremaining: 433ms\n",
      "341:\tlearn: 0.0838229\ttotal: 225ms\tremaining: 432ms\n",
      "342:\tlearn: 0.0831846\ttotal: 225ms\tremaining: 431ms\n",
      "343:\tlearn: 0.0825984\ttotal: 226ms\tremaining: 431ms\n",
      "344:\tlearn: 0.0818411\ttotal: 226ms\tremaining: 429ms\n",
      "345:\tlearn: 0.0812507\ttotal: 227ms\tremaining: 428ms\n",
      "346:\tlearn: 0.0805410\ttotal: 227ms\tremaining: 427ms\n",
      "347:\tlearn: 0.0799431\ttotal: 227ms\tremaining: 426ms\n",
      "348:\tlearn: 0.0793793\ttotal: 228ms\tremaining: 425ms\n",
      "349:\tlearn: 0.0789871\ttotal: 228ms\tremaining: 424ms\n",
      "350:\tlearn: 0.0783665\ttotal: 229ms\tremaining: 423ms\n",
      "351:\tlearn: 0.0777207\ttotal: 229ms\tremaining: 422ms\n",
      "352:\tlearn: 0.0773417\ttotal: 230ms\tremaining: 421ms\n",
      "353:\tlearn: 0.0769714\ttotal: 230ms\tremaining: 420ms\n",
      "354:\tlearn: 0.0763764\ttotal: 231ms\tremaining: 419ms\n",
      "355:\tlearn: 0.0760201\ttotal: 231ms\tremaining: 418ms\n",
      "356:\tlearn: 0.0756635\ttotal: 233ms\tremaining: 419ms\n",
      "357:\tlearn: 0.0750561\ttotal: 233ms\tremaining: 418ms\n",
      "358:\tlearn: 0.0744853\ttotal: 233ms\tremaining: 416ms\n",
      "359:\tlearn: 0.0739278\ttotal: 234ms\tremaining: 416ms\n",
      "360:\tlearn: 0.0735862\ttotal: 234ms\tremaining: 415ms\n",
      "361:\tlearn: 0.0730413\ttotal: 235ms\tremaining: 414ms\n",
      "362:\tlearn: 0.0727188\ttotal: 235ms\tremaining: 413ms\n",
      "363:\tlearn: 0.0721827\ttotal: 236ms\tremaining: 412ms\n",
      "364:\tlearn: 0.0717052\ttotal: 236ms\tremaining: 411ms\n",
      "365:\tlearn: 0.0713836\ttotal: 237ms\tremaining: 410ms\n",
      "366:\tlearn: 0.0709272\ttotal: 237ms\tremaining: 410ms\n",
      "367:\tlearn: 0.0704915\ttotal: 238ms\tremaining: 409ms\n",
      "368:\tlearn: 0.0699788\ttotal: 238ms\tremaining: 408ms\n",
      "369:\tlearn: 0.0697370\ttotal: 239ms\tremaining: 407ms\n",
      "370:\tlearn: 0.0692975\ttotal: 239ms\tremaining: 406ms\n",
      "371:\tlearn: 0.0688101\ttotal: 240ms\tremaining: 405ms\n"
     ]
    },
    {
     "name": "stdout",
     "output_type": "stream",
     "text": [
      "372:\tlearn: 0.0683959\ttotal: 241ms\tremaining: 404ms\n",
      "373:\tlearn: 0.0681011\ttotal: 241ms\tremaining: 404ms\n",
      "374:\tlearn: 0.0678590\ttotal: 242ms\tremaining: 403ms\n",
      "375:\tlearn: 0.0673906\ttotal: 242ms\tremaining: 402ms\n",
      "376:\tlearn: 0.0671022\ttotal: 242ms\tremaining: 400ms\n",
      "377:\tlearn: 0.0668340\ttotal: 243ms\tremaining: 399ms\n",
      "378:\tlearn: 0.0663137\ttotal: 243ms\tremaining: 399ms\n",
      "379:\tlearn: 0.0659666\ttotal: 244ms\tremaining: 398ms\n",
      "380:\tlearn: 0.0655303\ttotal: 244ms\tremaining: 397ms\n",
      "381:\tlearn: 0.0651920\ttotal: 245ms\tremaining: 396ms\n",
      "382:\tlearn: 0.0647697\ttotal: 245ms\tremaining: 395ms\n",
      "383:\tlearn: 0.0644400\ttotal: 246ms\tremaining: 394ms\n",
      "384:\tlearn: 0.0640094\ttotal: 246ms\tremaining: 393ms\n",
      "385:\tlearn: 0.0635828\ttotal: 247ms\tremaining: 394ms\n",
      "386:\tlearn: 0.0631715\ttotal: 248ms\tremaining: 393ms\n",
      "387:\tlearn: 0.0627498\ttotal: 248ms\tremaining: 392ms\n",
      "388:\tlearn: 0.0624029\ttotal: 256ms\tremaining: 401ms\n",
      "389:\tlearn: 0.0620637\ttotal: 256ms\tremaining: 400ms\n",
      "390:\tlearn: 0.0616020\ttotal: 256ms\tremaining: 399ms\n",
      "391:\tlearn: 0.0611950\ttotal: 257ms\tremaining: 398ms\n",
      "392:\tlearn: 0.0608426\ttotal: 257ms\tremaining: 397ms\n",
      "393:\tlearn: 0.0604977\ttotal: 257ms\tremaining: 396ms\n",
      "394:\tlearn: 0.0601779\ttotal: 258ms\tremaining: 395ms\n",
      "395:\tlearn: 0.0598652\ttotal: 258ms\tremaining: 394ms\n",
      "396:\tlearn: 0.0594750\ttotal: 259ms\tremaining: 393ms\n",
      "397:\tlearn: 0.0589969\ttotal: 259ms\tremaining: 392ms\n",
      "398:\tlearn: 0.0586011\ttotal: 259ms\tremaining: 391ms\n",
      "399:\tlearn: 0.0583831\ttotal: 260ms\tremaining: 390ms\n",
      "400:\tlearn: 0.0580052\ttotal: 260ms\tremaining: 389ms\n",
      "401:\tlearn: 0.0576328\ttotal: 261ms\tremaining: 388ms\n",
      "402:\tlearn: 0.0572500\ttotal: 261ms\tremaining: 387ms\n",
      "403:\tlearn: 0.0568874\ttotal: 264ms\tremaining: 389ms\n",
      "404:\tlearn: 0.0565747\ttotal: 264ms\tremaining: 388ms\n",
      "405:\tlearn: 0.0562195\ttotal: 265ms\tremaining: 388ms\n",
      "406:\tlearn: 0.0559758\ttotal: 265ms\tremaining: 387ms\n",
      "407:\tlearn: 0.0556116\ttotal: 266ms\tremaining: 386ms\n",
      "408:\tlearn: 0.0552674\ttotal: 266ms\tremaining: 385ms\n",
      "409:\tlearn: 0.0549128\ttotal: 267ms\tremaining: 384ms\n",
      "410:\tlearn: 0.0545638\ttotal: 267ms\tremaining: 383ms\n",
      "411:\tlearn: 0.0542325\ttotal: 268ms\tremaining: 382ms\n",
      "412:\tlearn: 0.0539454\ttotal: 268ms\tremaining: 382ms\n",
      "413:\tlearn: 0.0536220\ttotal: 269ms\tremaining: 381ms\n",
      "414:\tlearn: 0.0534209\ttotal: 270ms\tremaining: 380ms\n",
      "415:\tlearn: 0.0530883\ttotal: 270ms\tremaining: 379ms\n",
      "416:\tlearn: 0.0527746\ttotal: 271ms\tremaining: 378ms\n",
      "417:\tlearn: 0.0524508\ttotal: 271ms\tremaining: 377ms\n",
      "418:\tlearn: 0.0520667\ttotal: 271ms\tremaining: 376ms\n",
      "419:\tlearn: 0.0518863\ttotal: 272ms\tremaining: 376ms\n",
      "420:\tlearn: 0.0515845\ttotal: 272ms\tremaining: 375ms\n",
      "421:\tlearn: 0.0512117\ttotal: 273ms\tremaining: 374ms\n",
      "422:\tlearn: 0.0508668\ttotal: 273ms\tremaining: 373ms\n",
      "423:\tlearn: 0.0505631\ttotal: 274ms\tremaining: 372ms\n",
      "424:\tlearn: 0.0503911\ttotal: 274ms\tremaining: 371ms\n",
      "425:\tlearn: 0.0500661\ttotal: 276ms\tremaining: 372ms\n",
      "426:\tlearn: 0.0497364\ttotal: 277ms\tremaining: 371ms\n",
      "427:\tlearn: 0.0495692\ttotal: 277ms\tremaining: 370ms\n",
      "428:\tlearn: 0.0492800\ttotal: 278ms\tremaining: 370ms\n",
      "429:\tlearn: 0.0489616\ttotal: 279ms\tremaining: 369ms\n",
      "430:\tlearn: 0.0486116\ttotal: 279ms\tremaining: 368ms\n",
      "431:\tlearn: 0.0482246\ttotal: 280ms\tremaining: 368ms\n",
      "432:\tlearn: 0.0480655\ttotal: 280ms\tremaining: 367ms\n",
      "433:\tlearn: 0.0477298\ttotal: 280ms\tremaining: 366ms\n",
      "434:\tlearn: 0.0475743\ttotal: 281ms\tremaining: 365ms\n",
      "435:\tlearn: 0.0472397\ttotal: 281ms\tremaining: 364ms\n",
      "436:\tlearn: 0.0469419\ttotal: 282ms\tremaining: 363ms\n",
      "437:\tlearn: 0.0467913\ttotal: 282ms\tremaining: 362ms\n",
      "438:\tlearn: 0.0464999\ttotal: 283ms\tremaining: 361ms\n",
      "439:\tlearn: 0.0463583\ttotal: 283ms\tremaining: 360ms\n",
      "440:\tlearn: 0.0460687\ttotal: 283ms\tremaining: 359ms\n",
      "441:\tlearn: 0.0459128\ttotal: 284ms\tremaining: 358ms\n",
      "442:\tlearn: 0.0456266\ttotal: 284ms\tremaining: 357ms\n",
      "443:\tlearn: 0.0453475\ttotal: 285ms\tremaining: 357ms\n",
      "444:\tlearn: 0.0452130\ttotal: 285ms\tremaining: 356ms\n",
      "445:\tlearn: 0.0448936\ttotal: 286ms\tremaining: 355ms\n",
      "446:\tlearn: 0.0447621\ttotal: 286ms\tremaining: 354ms\n",
      "447:\tlearn: 0.0445634\ttotal: 287ms\tremaining: 354ms\n",
      "448:\tlearn: 0.0444295\ttotal: 287ms\tremaining: 353ms\n",
      "449:\tlearn: 0.0441560\ttotal: 288ms\tremaining: 352ms\n",
      "450:\tlearn: 0.0440297\ttotal: 288ms\tremaining: 351ms\n",
      "451:\tlearn: 0.0437900\ttotal: 289ms\tremaining: 350ms\n",
      "452:\tlearn: 0.0436667\ttotal: 289ms\tremaining: 349ms\n",
      "453:\tlearn: 0.0434014\ttotal: 290ms\tremaining: 349ms\n",
      "454:\tlearn: 0.0430271\ttotal: 290ms\tremaining: 348ms\n",
      "455:\tlearn: 0.0428405\ttotal: 291ms\tremaining: 347ms\n",
      "456:\tlearn: 0.0427212\ttotal: 291ms\tremaining: 346ms\n",
      "457:\tlearn: 0.0425390\ttotal: 291ms\tremaining: 345ms\n",
      "458:\tlearn: 0.0424223\ttotal: 292ms\tremaining: 344ms\n",
      "459:\tlearn: 0.0423073\ttotal: 292ms\tremaining: 343ms\n",
      "460:\tlearn: 0.0420022\ttotal: 293ms\tremaining: 342ms\n",
      "461:\tlearn: 0.0417521\ttotal: 294ms\tremaining: 342ms\n",
      "462:\tlearn: 0.0415114\ttotal: 294ms\tremaining: 341ms\n",
      "463:\tlearn: 0.0412193\ttotal: 295ms\tremaining: 341ms\n",
      "464:\tlearn: 0.0409864\ttotal: 295ms\tremaining: 340ms\n",
      "465:\tlearn: 0.0406723\ttotal: 296ms\tremaining: 339ms\n",
      "466:\tlearn: 0.0403317\ttotal: 296ms\tremaining: 338ms\n",
      "467:\tlearn: 0.0400285\ttotal: 297ms\tremaining: 338ms\n",
      "468:\tlearn: 0.0397316\ttotal: 298ms\tremaining: 337ms\n",
      "469:\tlearn: 0.0396265\ttotal: 298ms\tremaining: 336ms\n",
      "470:\tlearn: 0.0393026\ttotal: 298ms\tremaining: 335ms\n",
      "471:\tlearn: 0.0391589\ttotal: 299ms\tremaining: 334ms\n",
      "472:\tlearn: 0.0388743\ttotal: 299ms\tremaining: 334ms\n",
      "473:\tlearn: 0.0385894\ttotal: 300ms\tremaining: 333ms\n",
      "474:\tlearn: 0.0384438\ttotal: 300ms\tremaining: 332ms\n",
      "475:\tlearn: 0.0381653\ttotal: 301ms\tremaining: 331ms\n",
      "476:\tlearn: 0.0378924\ttotal: 301ms\tremaining: 330ms\n",
      "477:\tlearn: 0.0377515\ttotal: 301ms\tremaining: 329ms\n",
      "478:\tlearn: 0.0375355\ttotal: 302ms\tremaining: 328ms\n",
      "479:\tlearn: 0.0373237\ttotal: 302ms\tremaining: 327ms\n",
      "480:\tlearn: 0.0371160\ttotal: 303ms\tremaining: 327ms\n",
      "481:\tlearn: 0.0368573\ttotal: 303ms\tremaining: 326ms\n",
      "482:\tlearn: 0.0366561\ttotal: 304ms\tremaining: 325ms\n",
      "483:\tlearn: 0.0364589\ttotal: 304ms\tremaining: 324ms\n",
      "484:\tlearn: 0.0362655\ttotal: 305ms\tremaining: 324ms\n",
      "485:\tlearn: 0.0360757\ttotal: 305ms\tremaining: 323ms\n",
      "486:\tlearn: 0.0359050\ttotal: 306ms\tremaining: 322ms\n",
      "487:\tlearn: 0.0357382\ttotal: 306ms\tremaining: 321ms\n",
      "488:\tlearn: 0.0355754\ttotal: 307ms\tremaining: 320ms\n",
      "489:\tlearn: 0.0354164\ttotal: 307ms\tremaining: 320ms\n",
      "490:\tlearn: 0.0352610\ttotal: 308ms\tremaining: 319ms\n",
      "491:\tlearn: 0.0350159\ttotal: 309ms\tremaining: 319ms\n",
      "492:\tlearn: 0.0348655\ttotal: 310ms\tremaining: 319ms\n",
      "493:\tlearn: 0.0346265\ttotal: 310ms\tremaining: 318ms\n",
      "494:\tlearn: 0.0344961\ttotal: 311ms\tremaining: 317ms\n",
      "495:\tlearn: 0.0343683\ttotal: 311ms\tremaining: 316ms\n",
      "496:\tlearn: 0.0341587\ttotal: 311ms\tremaining: 315ms\n",
      "497:\tlearn: 0.0340172\ttotal: 312ms\tremaining: 314ms\n",
      "498:\tlearn: 0.0338166\ttotal: 312ms\tremaining: 314ms\n",
      "499:\tlearn: 0.0336961\ttotal: 313ms\tremaining: 313ms\n",
      "500:\tlearn: 0.0334951\ttotal: 313ms\tremaining: 312ms\n",
      "501:\tlearn: 0.0333598\ttotal: 314ms\tremaining: 311ms\n",
      "502:\tlearn: 0.0332440\ttotal: 314ms\tremaining: 311ms\n",
      "503:\tlearn: 0.0330480\ttotal: 315ms\tremaining: 310ms\n",
      "504:\tlearn: 0.0329179\ttotal: 315ms\tremaining: 309ms\n",
      "505:\tlearn: 0.0327262\ttotal: 316ms\tremaining: 308ms\n",
      "506:\tlearn: 0.0326274\ttotal: 316ms\tremaining: 308ms\n",
      "507:\tlearn: 0.0325183\ttotal: 317ms\tremaining: 307ms\n",
      "508:\tlearn: 0.0323312\ttotal: 317ms\tremaining: 306ms\n",
      "509:\tlearn: 0.0322611\ttotal: 318ms\tremaining: 305ms\n",
      "510:\tlearn: 0.0320742\ttotal: 318ms\tremaining: 304ms\n",
      "511:\tlearn: 0.0318906\ttotal: 318ms\tremaining: 303ms\n",
      "512:\tlearn: 0.0318227\ttotal: 319ms\tremaining: 303ms\n",
      "513:\tlearn: 0.0316425\ttotal: 319ms\tremaining: 302ms\n",
      "514:\tlearn: 0.0315758\ttotal: 320ms\tremaining: 301ms\n",
      "515:\tlearn: 0.0313891\ttotal: 320ms\tremaining: 300ms\n",
      "516:\tlearn: 0.0311635\ttotal: 321ms\tremaining: 300ms\n",
      "517:\tlearn: 0.0310988\ttotal: 321ms\tremaining: 299ms\n",
      "518:\tlearn: 0.0308844\ttotal: 322ms\tremaining: 298ms\n",
      "519:\tlearn: 0.0307120\ttotal: 322ms\tremaining: 297ms\n",
      "520:\tlearn: 0.0305429\ttotal: 323ms\tremaining: 297ms\n",
      "521:\tlearn: 0.0304804\ttotal: 325ms\tremaining: 297ms\n",
      "522:\tlearn: 0.0303126\ttotal: 325ms\tremaining: 297ms\n",
      "523:\tlearn: 0.0302453\ttotal: 326ms\tremaining: 296ms\n",
      "524:\tlearn: 0.0300654\ttotal: 326ms\tremaining: 295ms\n",
      "525:\tlearn: 0.0299997\ttotal: 327ms\tremaining: 294ms\n",
      "526:\tlearn: 0.0299400\ttotal: 327ms\tremaining: 294ms\n",
      "527:\tlearn: 0.0297785\ttotal: 328ms\tremaining: 293ms\n",
      "528:\tlearn: 0.0297201\ttotal: 328ms\tremaining: 292ms\n",
      "529:\tlearn: 0.0295685\ttotal: 329ms\tremaining: 292ms\n",
      "530:\tlearn: 0.0295111\ttotal: 329ms\tremaining: 291ms\n",
      "531:\tlearn: 0.0293413\ttotal: 330ms\tremaining: 290ms\n",
      "532:\tlearn: 0.0292851\ttotal: 330ms\tremaining: 289ms\n",
      "533:\tlearn: 0.0291301\ttotal: 331ms\tremaining: 289ms\n",
      "534:\tlearn: 0.0290752\ttotal: 331ms\tremaining: 288ms\n",
      "535:\tlearn: 0.0289309\ttotal: 332ms\tremaining: 287ms\n",
      "536:\tlearn: 0.0288769\ttotal: 332ms\tremaining: 286ms\n",
      "537:\tlearn: 0.0287357\ttotal: 333ms\tremaining: 286ms\n",
      "538:\tlearn: 0.0286826\ttotal: 333ms\tremaining: 285ms\n",
      "539:\tlearn: 0.0286250\ttotal: 334ms\tremaining: 284ms\n",
      "540:\tlearn: 0.0284580\ttotal: 334ms\tremaining: 284ms\n",
      "541:\tlearn: 0.0283015\ttotal: 335ms\tremaining: 283ms\n",
      "542:\tlearn: 0.0282456\ttotal: 335ms\tremaining: 282ms\n",
      "543:\tlearn: 0.0281951\ttotal: 336ms\tremaining: 281ms\n",
      "544:\tlearn: 0.0280496\ttotal: 336ms\tremaining: 281ms\n",
      "545:\tlearn: 0.0278898\ttotal: 337ms\tremaining: 280ms\n",
      "546:\tlearn: 0.0277480\ttotal: 337ms\tremaining: 279ms\n",
      "547:\tlearn: 0.0275957\ttotal: 338ms\tremaining: 279ms\n",
      "548:\tlearn: 0.0274576\ttotal: 338ms\tremaining: 278ms\n",
      "549:\tlearn: 0.0273095\ttotal: 343ms\tremaining: 280ms\n",
      "550:\tlearn: 0.0272616\ttotal: 343ms\tremaining: 280ms\n",
      "551:\tlearn: 0.0271272\ttotal: 344ms\tremaining: 279ms\n",
      "552:\tlearn: 0.0269777\ttotal: 345ms\tremaining: 279ms\n",
      "553:\tlearn: 0.0268548\ttotal: 345ms\tremaining: 278ms\n",
      "554:\tlearn: 0.0268083\ttotal: 347ms\tremaining: 278ms\n",
      "555:\tlearn: 0.0266881\ttotal: 347ms\tremaining: 277ms\n",
      "556:\tlearn: 0.0266424\ttotal: 347ms\tremaining: 276ms\n",
      "557:\tlearn: 0.0265975\ttotal: 348ms\tremaining: 276ms\n",
      "558:\tlearn: 0.0264800\ttotal: 349ms\tremaining: 275ms\n",
      "559:\tlearn: 0.0264358\ttotal: 350ms\tremaining: 275ms\n",
      "560:\tlearn: 0.0263026\ttotal: 350ms\tremaining: 274ms\n",
      "561:\tlearn: 0.0262553\ttotal: 351ms\tremaining: 274ms\n",
      "562:\tlearn: 0.0262125\ttotal: 352ms\tremaining: 273ms\n"
     ]
    },
    {
     "name": "stdout",
     "output_type": "stream",
     "text": [
      "563:\tlearn: 0.0261522\ttotal: 353ms\tremaining: 273ms\n",
      "564:\tlearn: 0.0260247\ttotal: 354ms\tremaining: 272ms\n",
      "565:\tlearn: 0.0259792\ttotal: 355ms\tremaining: 272ms\n",
      "566:\tlearn: 0.0259194\ttotal: 355ms\tremaining: 271ms\n",
      "567:\tlearn: 0.0258784\ttotal: 356ms\tremaining: 271ms\n",
      "568:\tlearn: 0.0257539\ttotal: 356ms\tremaining: 270ms\n",
      "569:\tlearn: 0.0257102\ttotal: 357ms\tremaining: 269ms\n",
      "570:\tlearn: 0.0256705\ttotal: 357ms\tremaining: 268ms\n",
      "571:\tlearn: 0.0255422\ttotal: 358ms\tremaining: 268ms\n",
      "572:\tlearn: 0.0254792\ttotal: 358ms\tremaining: 267ms\n",
      "573:\tlearn: 0.0254181\ttotal: 359ms\tremaining: 266ms\n",
      "574:\tlearn: 0.0253154\ttotal: 359ms\tremaining: 266ms\n",
      "575:\tlearn: 0.0252738\ttotal: 360ms\tremaining: 265ms\n",
      "576:\tlearn: 0.0252167\ttotal: 360ms\tremaining: 264ms\n",
      "577:\tlearn: 0.0251793\ttotal: 361ms\tremaining: 263ms\n",
      "578:\tlearn: 0.0250511\ttotal: 361ms\tremaining: 262ms\n",
      "579:\tlearn: 0.0249930\ttotal: 361ms\tremaining: 262ms\n",
      "580:\tlearn: 0.0249533\ttotal: 362ms\tremaining: 261ms\n",
      "581:\tlearn: 0.0249142\ttotal: 362ms\tremaining: 260ms\n",
      "582:\tlearn: 0.0248189\ttotal: 363ms\tremaining: 259ms\n",
      "583:\tlearn: 0.0247849\ttotal: 363ms\tremaining: 259ms\n",
      "584:\tlearn: 0.0247293\ttotal: 364ms\tremaining: 258ms\n",
      "585:\tlearn: 0.0246541\ttotal: 364ms\tremaining: 257ms\n",
      "586:\tlearn: 0.0246164\ttotal: 365ms\tremaining: 256ms\n",
      "587:\tlearn: 0.0245238\ttotal: 365ms\tremaining: 256ms\n",
      "588:\tlearn: 0.0244912\ttotal: 366ms\tremaining: 255ms\n",
      "589:\tlearn: 0.0243779\ttotal: 366ms\tremaining: 254ms\n",
      "590:\tlearn: 0.0242554\ttotal: 366ms\tremaining: 254ms\n",
      "591:\tlearn: 0.0242194\ttotal: 367ms\tremaining: 253ms\n",
      "592:\tlearn: 0.0241674\ttotal: 368ms\tremaining: 252ms\n",
      "593:\tlearn: 0.0240495\ttotal: 368ms\tremaining: 252ms\n",
      "594:\tlearn: 0.0240240\ttotal: 368ms\tremaining: 251ms\n",
      "595:\tlearn: 0.0239150\ttotal: 369ms\tremaining: 250ms\n",
      "596:\tlearn: 0.0238890\ttotal: 369ms\tremaining: 249ms\n",
      "597:\tlearn: 0.0237820\ttotal: 370ms\tremaining: 249ms\n",
      "598:\tlearn: 0.0237565\ttotal: 370ms\tremaining: 248ms\n",
      "599:\tlearn: 0.0236345\ttotal: 371ms\tremaining: 247ms\n",
      "600:\tlearn: 0.0235912\ttotal: 371ms\tremaining: 246ms\n",
      "601:\tlearn: 0.0234800\ttotal: 372ms\tremaining: 246ms\n",
      "602:\tlearn: 0.0234375\ttotal: 372ms\tremaining: 245ms\n",
      "603:\tlearn: 0.0233494\ttotal: 373ms\tremaining: 244ms\n",
      "604:\tlearn: 0.0233076\ttotal: 373ms\tremaining: 243ms\n",
      "605:\tlearn: 0.0232666\ttotal: 373ms\tremaining: 243ms\n",
      "606:\tlearn: 0.0231436\ttotal: 374ms\tremaining: 242ms\n",
      "607:\tlearn: 0.0230432\ttotal: 374ms\tremaining: 241ms\n",
      "608:\tlearn: 0.0229576\ttotal: 375ms\tremaining: 241ms\n",
      "609:\tlearn: 0.0229317\ttotal: 375ms\tremaining: 240ms\n",
      "610:\tlearn: 0.0228270\ttotal: 376ms\tremaining: 239ms\n",
      "611:\tlearn: 0.0228016\ttotal: 376ms\tremaining: 239ms\n",
      "612:\tlearn: 0.0227624\ttotal: 377ms\tremaining: 238ms\n",
      "613:\tlearn: 0.0227130\ttotal: 377ms\tremaining: 237ms\n",
      "614:\tlearn: 0.0226911\ttotal: 378ms\tremaining: 237ms\n",
      "615:\tlearn: 0.0225739\ttotal: 378ms\tremaining: 236ms\n",
      "616:\tlearn: 0.0225523\ttotal: 379ms\tremaining: 235ms\n",
      "617:\tlearn: 0.0224692\ttotal: 379ms\tremaining: 235ms\n",
      "618:\tlearn: 0.0223676\ttotal: 380ms\tremaining: 234ms\n",
      "619:\tlearn: 0.0222729\ttotal: 380ms\tremaining: 233ms\n",
      "620:\tlearn: 0.0222377\ttotal: 381ms\tremaining: 233ms\n",
      "621:\tlearn: 0.0221566\ttotal: 381ms\tremaining: 232ms\n",
      "622:\tlearn: 0.0221357\ttotal: 382ms\tremaining: 231ms\n",
      "623:\tlearn: 0.0221149\ttotal: 382ms\tremaining: 230ms\n",
      "624:\tlearn: 0.0220117\ttotal: 383ms\tremaining: 230ms\n",
      "625:\tlearn: 0.0219912\ttotal: 383ms\tremaining: 229ms\n",
      "626:\tlearn: 0.0219002\ttotal: 384ms\tremaining: 229ms\n",
      "627:\tlearn: 0.0218489\ttotal: 385ms\tremaining: 228ms\n",
      "628:\tlearn: 0.0218150\ttotal: 385ms\tremaining: 227ms\n",
      "629:\tlearn: 0.0217643\ttotal: 386ms\tremaining: 227ms\n",
      "630:\tlearn: 0.0216311\ttotal: 386ms\tremaining: 226ms\n",
      "631:\tlearn: 0.0215097\ttotal: 387ms\tremaining: 225ms\n",
      "632:\tlearn: 0.0214168\ttotal: 387ms\tremaining: 224ms\n",
      "633:\tlearn: 0.0212987\ttotal: 388ms\tremaining: 224ms\n",
      "634:\tlearn: 0.0212662\ttotal: 388ms\tremaining: 223ms\n",
      "635:\tlearn: 0.0212343\ttotal: 389ms\tremaining: 223ms\n",
      "636:\tlearn: 0.0211852\ttotal: 389ms\tremaining: 222ms\n",
      "637:\tlearn: 0.0211012\ttotal: 390ms\tremaining: 221ms\n",
      "638:\tlearn: 0.0210529\ttotal: 390ms\tremaining: 220ms\n",
      "639:\tlearn: 0.0209389\ttotal: 391ms\tremaining: 220ms\n",
      "640:\tlearn: 0.0209078\ttotal: 391ms\tremaining: 219ms\n",
      "641:\tlearn: 0.0208773\ttotal: 392ms\tremaining: 218ms\n",
      "642:\tlearn: 0.0208298\ttotal: 392ms\tremaining: 218ms\n",
      "643:\tlearn: 0.0207496\ttotal: 393ms\tremaining: 217ms\n",
      "644:\tlearn: 0.0206696\ttotal: 393ms\tremaining: 216ms\n",
      "645:\tlearn: 0.0206397\ttotal: 394ms\tremaining: 216ms\n",
      "646:\tlearn: 0.0205934\ttotal: 394ms\tremaining: 215ms\n",
      "647:\tlearn: 0.0205160\ttotal: 395ms\tremaining: 214ms\n",
      "648:\tlearn: 0.0204399\ttotal: 395ms\tremaining: 214ms\n",
      "649:\tlearn: 0.0203735\ttotal: 396ms\tremaining: 213ms\n",
      "650:\tlearn: 0.0202657\ttotal: 396ms\tremaining: 212ms\n",
      "651:\tlearn: 0.0202478\ttotal: 397ms\tremaining: 212ms\n",
      "652:\tlearn: 0.0201719\ttotal: 397ms\tremaining: 211ms\n",
      "653:\tlearn: 0.0201542\ttotal: 398ms\tremaining: 210ms\n",
      "654:\tlearn: 0.0201367\ttotal: 398ms\tremaining: 210ms\n",
      "655:\tlearn: 0.0200320\ttotal: 399ms\tremaining: 209ms\n",
      "656:\tlearn: 0.0200039\ttotal: 399ms\tremaining: 208ms\n",
      "657:\tlearn: 0.0199301\ttotal: 400ms\tremaining: 208ms\n",
      "658:\tlearn: 0.0199129\ttotal: 400ms\tremaining: 207ms\n",
      "659:\tlearn: 0.0198584\ttotal: 401ms\tremaining: 206ms\n",
      "660:\tlearn: 0.0198416\ttotal: 401ms\tremaining: 206ms\n",
      "661:\tlearn: 0.0197978\ttotal: 402ms\tremaining: 205ms\n",
      "662:\tlearn: 0.0196895\ttotal: 402ms\tremaining: 205ms\n",
      "663:\tlearn: 0.0196256\ttotal: 403ms\tremaining: 204ms\n",
      "664:\tlearn: 0.0195198\ttotal: 404ms\tremaining: 203ms\n",
      "665:\tlearn: 0.0194487\ttotal: 404ms\tremaining: 203ms\n",
      "666:\tlearn: 0.0194321\ttotal: 405ms\tremaining: 202ms\n",
      "667:\tlearn: 0.0194158\ttotal: 405ms\tremaining: 201ms\n",
      "668:\tlearn: 0.0193733\ttotal: 406ms\tremaining: 201ms\n",
      "669:\tlearn: 0.0193106\ttotal: 406ms\tremaining: 200ms\n",
      "670:\tlearn: 0.0192053\ttotal: 407ms\tremaining: 199ms\n"
     ]
    },
    {
     "name": "stdout",
     "output_type": "stream",
     "text": [
      "671:\tlearn: 0.0191040\ttotal: 407ms\tremaining: 199ms\n",
      "672:\tlearn: 0.0190351\ttotal: 408ms\tremaining: 198ms\n",
      "673:\tlearn: 0.0190191\ttotal: 409ms\tremaining: 198ms\n",
      "674:\tlearn: 0.0189578\ttotal: 409ms\tremaining: 197ms\n",
      "675:\tlearn: 0.0189420\ttotal: 409ms\tremaining: 196ms\n",
      "676:\tlearn: 0.0188757\ttotal: 410ms\tremaining: 195ms\n",
      "677:\tlearn: 0.0187742\ttotal: 410ms\tremaining: 195ms\n",
      "678:\tlearn: 0.0187143\ttotal: 411ms\tremaining: 194ms\n",
      "679:\tlearn: 0.0186177\ttotal: 411ms\tremaining: 193ms\n",
      "680:\tlearn: 0.0186022\ttotal: 412ms\tremaining: 193ms\n",
      "681:\tlearn: 0.0185868\ttotal: 412ms\tremaining: 192ms\n",
      "682:\tlearn: 0.0185320\ttotal: 413ms\tremaining: 192ms\n",
      "683:\tlearn: 0.0185074\ttotal: 413ms\tremaining: 191ms\n",
      "684:\tlearn: 0.0184924\ttotal: 414ms\tremaining: 190ms\n",
      "685:\tlearn: 0.0184522\ttotal: 414ms\tremaining: 190ms\n",
      "686:\tlearn: 0.0183852\ttotal: 415ms\tremaining: 189ms\n",
      "687:\tlearn: 0.0182849\ttotal: 416ms\tremaining: 189ms\n",
      "688:\tlearn: 0.0182455\ttotal: 417ms\tremaining: 188ms\n",
      "689:\tlearn: 0.0182003\ttotal: 417ms\tremaining: 187ms\n",
      "690:\tlearn: 0.0181476\ttotal: 417ms\tremaining: 187ms\n",
      "691:\tlearn: 0.0181239\ttotal: 418ms\tremaining: 186ms\n",
      "692:\tlearn: 0.0181094\ttotal: 418ms\tremaining: 185ms\n",
      "693:\tlearn: 0.0180183\ttotal: 418ms\tremaining: 184ms\n",
      "694:\tlearn: 0.0180039\ttotal: 419ms\tremaining: 184ms\n",
      "695:\tlearn: 0.0179407\ttotal: 419ms\tremaining: 183ms\n",
      "696:\tlearn: 0.0178920\ttotal: 420ms\tremaining: 182ms\n",
      "697:\tlearn: 0.0178692\ttotal: 420ms\tremaining: 182ms\n",
      "698:\tlearn: 0.0178467\ttotal: 421ms\tremaining: 181ms\n",
      "699:\tlearn: 0.0178025\ttotal: 421ms\tremaining: 181ms\n",
      "700:\tlearn: 0.0177646\ttotal: 422ms\tremaining: 180ms\n",
      "701:\tlearn: 0.0177138\ttotal: 423ms\tremaining: 180ms\n",
      "702:\tlearn: 0.0176203\ttotal: 424ms\tremaining: 179ms\n",
      "703:\tlearn: 0.0175829\ttotal: 424ms\tremaining: 178ms\n",
      "704:\tlearn: 0.0175611\ttotal: 425ms\tremaining: 178ms\n",
      "705:\tlearn: 0.0175476\ttotal: 425ms\tremaining: 177ms\n",
      "706:\tlearn: 0.0174861\ttotal: 426ms\tremaining: 176ms\n",
      "707:\tlearn: 0.0174728\ttotal: 426ms\tremaining: 176ms\n",
      "708:\tlearn: 0.0174358\ttotal: 427ms\tremaining: 175ms\n",
      "709:\tlearn: 0.0173808\ttotal: 427ms\tremaining: 175ms\n",
      "710:\tlearn: 0.0173339\ttotal: 428ms\tremaining: 174ms\n",
      "711:\tlearn: 0.0173209\ttotal: 428ms\tremaining: 173ms\n",
      "712:\tlearn: 0.0172723\ttotal: 429ms\tremaining: 173ms\n",
      "713:\tlearn: 0.0172076\ttotal: 429ms\tremaining: 172ms\n",
      "714:\tlearn: 0.0171714\ttotal: 429ms\tremaining: 171ms\n",
      "715:\tlearn: 0.0171510\ttotal: 430ms\tremaining: 171ms\n",
      "716:\tlearn: 0.0171153\ttotal: 430ms\tremaining: 170ms\n",
      "717:\tlearn: 0.0170680\ttotal: 431ms\tremaining: 169ms\n",
      "718:\tlearn: 0.0169839\ttotal: 431ms\tremaining: 168ms\n",
      "719:\tlearn: 0.0169346\ttotal: 431ms\tremaining: 168ms\n",
      "720:\tlearn: 0.0168731\ttotal: 432ms\tremaining: 167ms\n",
      "721:\tlearn: 0.0168321\ttotal: 432ms\tremaining: 166ms\n",
      "722:\tlearn: 0.0168200\ttotal: 433ms\tremaining: 166ms\n",
      "723:\tlearn: 0.0167770\ttotal: 433ms\tremaining: 165ms\n",
      "724:\tlearn: 0.0167650\ttotal: 433ms\tremaining: 164ms\n",
      "725:\tlearn: 0.0167053\ttotal: 434ms\tremaining: 164ms\n",
      "726:\tlearn: 0.0166607\ttotal: 435ms\tremaining: 163ms\n",
      "727:\tlearn: 0.0166154\ttotal: 435ms\tremaining: 163ms\n",
      "728:\tlearn: 0.0165019\ttotal: 436ms\tremaining: 162ms\n",
      "729:\tlearn: 0.0164902\ttotal: 436ms\tremaining: 161ms\n",
      "730:\tlearn: 0.0164714\ttotal: 437ms\tremaining: 161ms\n",
      "731:\tlearn: 0.0164372\ttotal: 437ms\tremaining: 160ms\n",
      "732:\tlearn: 0.0163988\ttotal: 438ms\tremaining: 160ms\n",
      "733:\tlearn: 0.0163875\ttotal: 438ms\tremaining: 159ms\n",
      "734:\tlearn: 0.0163416\ttotal: 439ms\tremaining: 158ms\n",
      "735:\tlearn: 0.0162625\ttotal: 439ms\tremaining: 158ms\n",
      "736:\tlearn: 0.0162058\ttotal: 440ms\tremaining: 157ms\n",
      "737:\tlearn: 0.0161948\ttotal: 441ms\tremaining: 156ms\n",
      "738:\tlearn: 0.0161614\ttotal: 441ms\tremaining: 156ms\n",
      "739:\tlearn: 0.0161166\ttotal: 442ms\tremaining: 155ms\n",
      "740:\tlearn: 0.0160485\ttotal: 442ms\tremaining: 155ms\n",
      "741:\tlearn: 0.0160155\ttotal: 443ms\tremaining: 154ms\n",
      "742:\tlearn: 0.0159978\ttotal: 443ms\tremaining: 153ms\n",
      "743:\tlearn: 0.0159652\ttotal: 444ms\tremaining: 153ms\n",
      "744:\tlearn: 0.0159339\ttotal: 444ms\tremaining: 152ms\n",
      "745:\tlearn: 0.0158912\ttotal: 444ms\tremaining: 151ms\n",
      "746:\tlearn: 0.0158355\ttotal: 445ms\tremaining: 151ms\n",
      "747:\tlearn: 0.0157494\ttotal: 445ms\tremaining: 150ms\n",
      "748:\tlearn: 0.0157139\ttotal: 446ms\tremaining: 149ms\n",
      "749:\tlearn: 0.0156708\ttotal: 446ms\tremaining: 149ms\n",
      "750:\tlearn: 0.0156540\ttotal: 447ms\tremaining: 148ms\n",
      "751:\tlearn: 0.0155758\ttotal: 447ms\tremaining: 148ms\n",
      "752:\tlearn: 0.0155462\ttotal: 448ms\tremaining: 147ms\n",
      "753:\tlearn: 0.0155363\ttotal: 448ms\tremaining: 146ms\n",
      "754:\tlearn: 0.0154730\ttotal: 449ms\tremaining: 146ms\n",
      "755:\tlearn: 0.0154417\ttotal: 450ms\tremaining: 145ms\n",
      "756:\tlearn: 0.0153655\ttotal: 450ms\tremaining: 144ms\n",
      "757:\tlearn: 0.0153370\ttotal: 450ms\tremaining: 144ms\n",
      "758:\tlearn: 0.0153088\ttotal: 451ms\tremaining: 143ms\n",
      "759:\tlearn: 0.0152810\ttotal: 451ms\tremaining: 143ms\n",
      "760:\tlearn: 0.0152502\ttotal: 452ms\tremaining: 142ms\n",
      "761:\tlearn: 0.0152226\ttotal: 452ms\tremaining: 141ms\n",
      "762:\tlearn: 0.0151955\ttotal: 453ms\tremaining: 141ms\n",
      "763:\tlearn: 0.0151557\ttotal: 454ms\tremaining: 140ms\n",
      "764:\tlearn: 0.0150965\ttotal: 454ms\tremaining: 139ms\n",
      "765:\tlearn: 0.0150663\ttotal: 455ms\tremaining: 139ms\n",
      "766:\tlearn: 0.0149928\ttotal: 455ms\tremaining: 138ms\n",
      "767:\tlearn: 0.0149659\ttotal: 456ms\tremaining: 138ms\n",
      "768:\tlearn: 0.0149394\ttotal: 456ms\tremaining: 137ms\n",
      "769:\tlearn: 0.0149132\ttotal: 457ms\tremaining: 136ms\n",
      "770:\tlearn: 0.0148670\ttotal: 457ms\tremaining: 136ms\n",
      "771:\tlearn: 0.0148179\ttotal: 458ms\tremaining: 135ms\n",
      "772:\tlearn: 0.0147393\ttotal: 458ms\tremaining: 135ms\n",
      "773:\tlearn: 0.0147139\ttotal: 459ms\tremaining: 134ms\n",
      "774:\tlearn: 0.0146694\ttotal: 459ms\tremaining: 133ms\n",
      "775:\tlearn: 0.0146129\ttotal: 459ms\tremaining: 133ms\n",
      "776:\tlearn: 0.0145679\ttotal: 460ms\tremaining: 132ms\n",
      "777:\tlearn: 0.0145247\ttotal: 460ms\tremaining: 131ms\n",
      "778:\tlearn: 0.0144776\ttotal: 461ms\tremaining: 131ms\n",
      "779:\tlearn: 0.0144036\ttotal: 461ms\tremaining: 130ms\n",
      "780:\tlearn: 0.0143490\ttotal: 462ms\tremaining: 129ms\n",
      "781:\tlearn: 0.0142763\ttotal: 462ms\tremaining: 129ms\n",
      "782:\tlearn: 0.0141938\ttotal: 462ms\tremaining: 128ms\n",
      "783:\tlearn: 0.0141125\ttotal: 463ms\tremaining: 127ms\n",
      "784:\tlearn: 0.0140326\ttotal: 463ms\tremaining: 127ms\n",
      "785:\tlearn: 0.0139539\ttotal: 463ms\tremaining: 126ms\n",
      "786:\tlearn: 0.0139225\ttotal: 464ms\tremaining: 126ms\n",
      "787:\tlearn: 0.0138914\ttotal: 464ms\tremaining: 125ms\n",
      "788:\tlearn: 0.0138610\ttotal: 465ms\tremaining: 124ms\n",
      "789:\tlearn: 0.0138096\ttotal: 465ms\tremaining: 124ms\n",
      "790:\tlearn: 0.0137859\ttotal: 466ms\tremaining: 123ms\n",
      "791:\tlearn: 0.0137352\ttotal: 466ms\tremaining: 122ms\n",
      "792:\tlearn: 0.0136589\ttotal: 467ms\tremaining: 122ms\n",
      "793:\tlearn: 0.0135916\ttotal: 467ms\tremaining: 121ms\n",
      "794:\tlearn: 0.0135253\ttotal: 467ms\tremaining: 121ms\n",
      "795:\tlearn: 0.0134958\ttotal: 468ms\tremaining: 120ms\n",
      "796:\tlearn: 0.0134666\ttotal: 468ms\tremaining: 119ms\n",
      "797:\tlearn: 0.0134334\ttotal: 469ms\tremaining: 119ms\n",
      "798:\tlearn: 0.0134008\ttotal: 469ms\tremaining: 118ms\n",
      "799:\tlearn: 0.0133331\ttotal: 470ms\tremaining: 117ms\n",
      "800:\tlearn: 0.0132723\ttotal: 470ms\tremaining: 117ms\n",
      "801:\tlearn: 0.0132245\ttotal: 471ms\tremaining: 116ms\n",
      "802:\tlearn: 0.0131606\ttotal: 471ms\tremaining: 116ms\n",
      "803:\tlearn: 0.0130976\ttotal: 471ms\tremaining: 115ms\n",
      "804:\tlearn: 0.0130345\ttotal: 472ms\tremaining: 114ms\n",
      "805:\tlearn: 0.0129772\ttotal: 472ms\tremaining: 114ms\n",
      "806:\tlearn: 0.0129555\ttotal: 472ms\tremaining: 113ms\n",
      "807:\tlearn: 0.0128941\ttotal: 473ms\tremaining: 112ms\n",
      "808:\tlearn: 0.0128667\ttotal: 473ms\tremaining: 112ms\n",
      "809:\tlearn: 0.0128415\ttotal: 473ms\tremaining: 111ms\n",
      "810:\tlearn: 0.0128202\ttotal: 474ms\tremaining: 110ms\n",
      "811:\tlearn: 0.0127643\ttotal: 475ms\tremaining: 110ms\n",
      "812:\tlearn: 0.0127375\ttotal: 476ms\tremaining: 109ms\n",
      "813:\tlearn: 0.0127129\ttotal: 476ms\tremaining: 109ms\n",
      "814:\tlearn: 0.0126825\ttotal: 476ms\tremaining: 108ms\n",
      "815:\tlearn: 0.0126194\ttotal: 477ms\tremaining: 108ms\n",
      "816:\tlearn: 0.0125985\ttotal: 477ms\tremaining: 107ms\n",
      "817:\tlearn: 0.0125392\ttotal: 478ms\tremaining: 106ms\n",
      "818:\tlearn: 0.0124850\ttotal: 478ms\tremaining: 106ms\n",
      "819:\tlearn: 0.0124644\ttotal: 479ms\tremaining: 105ms\n",
      "820:\tlearn: 0.0124064\ttotal: 479ms\tremaining: 105ms\n",
      "821:\tlearn: 0.0123462\ttotal: 480ms\tremaining: 104ms\n",
      "822:\tlearn: 0.0123208\ttotal: 480ms\tremaining: 103ms\n",
      "823:\tlearn: 0.0122975\ttotal: 481ms\tremaining: 103ms\n",
      "824:\tlearn: 0.0122685\ttotal: 481ms\tremaining: 102ms\n",
      "825:\tlearn: 0.0122101\ttotal: 482ms\tremaining: 101ms\n",
      "826:\tlearn: 0.0121687\ttotal: 482ms\tremaining: 101ms\n",
      "827:\tlearn: 0.0121078\ttotal: 482ms\tremaining: 100ms\n",
      "828:\tlearn: 0.0121004\ttotal: 483ms\tremaining: 99.6ms\n",
      "829:\tlearn: 0.0120805\ttotal: 483ms\tremaining: 99ms\n",
      "830:\tlearn: 0.0120209\ttotal: 484ms\tremaining: 98.4ms\n",
      "831:\tlearn: 0.0120136\ttotal: 484ms\tremaining: 97.8ms\n"
     ]
    },
    {
     "name": "stdout",
     "output_type": "stream",
     "text": [
      "832:\tlearn: 0.0119553\ttotal: 485ms\tremaining: 97.3ms\n",
      "833:\tlearn: 0.0119365\ttotal: 486ms\tremaining: 96.7ms\n",
      "834:\tlearn: 0.0119292\ttotal: 487ms\tremaining: 96.2ms\n",
      "835:\tlearn: 0.0118738\ttotal: 487ms\tremaining: 95.6ms\n",
      "836:\tlearn: 0.0118171\ttotal: 488ms\tremaining: 95ms\n",
      "837:\tlearn: 0.0118100\ttotal: 488ms\tremaining: 94.4ms\n",
      "838:\tlearn: 0.0118030\ttotal: 489ms\tremaining: 93.8ms\n",
      "839:\tlearn: 0.0117847\ttotal: 489ms\tremaining: 93.2ms\n",
      "840:\tlearn: 0.0117777\ttotal: 490ms\tremaining: 92.6ms\n",
      "841:\tlearn: 0.0117224\ttotal: 490ms\tremaining: 92ms\n",
      "842:\tlearn: 0.0117045\ttotal: 491ms\tremaining: 91.4ms\n",
      "843:\tlearn: 0.0116976\ttotal: 491ms\tremaining: 90.8ms\n",
      "844:\tlearn: 0.0116785\ttotal: 492ms\tremaining: 90.2ms\n",
      "845:\tlearn: 0.0116246\ttotal: 492ms\tremaining: 89.6ms\n",
      "846:\tlearn: 0.0116072\ttotal: 493ms\tremaining: 89ms\n",
      "847:\tlearn: 0.0116004\ttotal: 493ms\tremaining: 88.4ms\n",
      "848:\tlearn: 0.0115833\ttotal: 494ms\tremaining: 87.9ms\n",
      "849:\tlearn: 0.0115298\ttotal: 494ms\tremaining: 87.2ms\n",
      "850:\tlearn: 0.0115230\ttotal: 495ms\tremaining: 86.6ms\n",
      "851:\tlearn: 0.0115163\ttotal: 495ms\tremaining: 86ms\n",
      "852:\tlearn: 0.0114666\ttotal: 496ms\tremaining: 85.4ms\n",
      "853:\tlearn: 0.0114176\ttotal: 496ms\tremaining: 84.8ms\n",
      "854:\tlearn: 0.0114110\ttotal: 496ms\tremaining: 84.2ms\n",
      "855:\tlearn: 0.0113629\ttotal: 497ms\tremaining: 83.6ms\n",
      "856:\tlearn: 0.0113564\ttotal: 497ms\tremaining: 83ms\n",
      "857:\tlearn: 0.0113087\ttotal: 498ms\tremaining: 82.4ms\n",
      "858:\tlearn: 0.0113023\ttotal: 498ms\tremaining: 81.8ms\n",
      "859:\tlearn: 0.0112860\ttotal: 499ms\tremaining: 81.2ms\n",
      "860:\tlearn: 0.0112674\ttotal: 499ms\tremaining: 80.6ms\n",
      "861:\tlearn: 0.0112204\ttotal: 500ms\tremaining: 80ms\n",
      "862:\tlearn: 0.0112141\ttotal: 501ms\tremaining: 79.5ms\n",
      "863:\tlearn: 0.0112079\ttotal: 501ms\tremaining: 78.9ms\n",
      "864:\tlearn: 0.0111570\ttotal: 501ms\tremaining: 78.3ms\n",
      "865:\tlearn: 0.0111508\ttotal: 502ms\tremaining: 77.7ms\n",
      "866:\tlearn: 0.0111325\ttotal: 502ms\tremaining: 77.1ms\n",
      "867:\tlearn: 0.0111167\ttotal: 503ms\tremaining: 76.5ms\n",
      "868:\tlearn: 0.0110986\ttotal: 503ms\tremaining: 75.8ms\n",
      "869:\tlearn: 0.0110926\ttotal: 504ms\tremaining: 75.2ms\n",
      "870:\tlearn: 0.0110445\ttotal: 504ms\tremaining: 74.7ms\n",
      "871:\tlearn: 0.0110267\ttotal: 505ms\tremaining: 74.1ms\n",
      "872:\tlearn: 0.0110111\ttotal: 505ms\tremaining: 73.5ms\n",
      "873:\tlearn: 0.0110052\ttotal: 505ms\tremaining: 72.9ms\n",
      "874:\tlearn: 0.0109875\ttotal: 506ms\tremaining: 72.3ms\n",
      "875:\tlearn: 0.0109722\ttotal: 506ms\tremaining: 71.7ms\n",
      "876:\tlearn: 0.0109475\ttotal: 507ms\tremaining: 71.1ms\n",
      "877:\tlearn: 0.0109356\ttotal: 507ms\tremaining: 70.5ms\n",
      "878:\tlearn: 0.0109183\ttotal: 508ms\tremaining: 69.9ms\n",
      "879:\tlearn: 0.0109012\ttotal: 508ms\tremaining: 69.3ms\n",
      "880:\tlearn: 0.0108562\ttotal: 509ms\tremaining: 68.7ms\n",
      "881:\tlearn: 0.0108504\ttotal: 509ms\tremaining: 68.1ms\n",
      "882:\tlearn: 0.0108159\ttotal: 510ms\tremaining: 67.6ms\n",
      "883:\tlearn: 0.0107601\ttotal: 510ms\tremaining: 67ms\n",
      "884:\tlearn: 0.0107029\ttotal: 511ms\tremaining: 66.4ms\n",
      "885:\tlearn: 0.0106783\ttotal: 511ms\tremaining: 65.8ms\n",
      "886:\tlearn: 0.0106615\ttotal: 512ms\tremaining: 65.2ms\n",
      "887:\tlearn: 0.0106445\ttotal: 512ms\tremaining: 64.6ms\n",
      "888:\tlearn: 0.0106279\ttotal: 513ms\tremaining: 64ms\n",
      "889:\tlearn: 0.0105717\ttotal: 513ms\tremaining: 63.4ms\n",
      "890:\tlearn: 0.0105247\ttotal: 514ms\tremaining: 62.8ms\n",
      "891:\tlearn: 0.0105084\ttotal: 514ms\tremaining: 62.3ms\n",
      "892:\tlearn: 0.0104923\ttotal: 515ms\tremaining: 61.7ms\n",
      "893:\tlearn: 0.0104508\ttotal: 515ms\tremaining: 61.1ms\n",
      "894:\tlearn: 0.0104343\ttotal: 516ms\tremaining: 60.5ms\n",
      "895:\tlearn: 0.0104183\ttotal: 516ms\tremaining: 59.9ms\n",
      "896:\tlearn: 0.0103652\ttotal: 517ms\tremaining: 59.4ms\n",
      "897:\tlearn: 0.0103108\ttotal: 517ms\tremaining: 58.8ms\n",
      "898:\tlearn: 0.0102946\ttotal: 518ms\tremaining: 58.2ms\n",
      "899:\tlearn: 0.0102495\ttotal: 519ms\tremaining: 57.6ms\n",
      "900:\tlearn: 0.0102338\ttotal: 519ms\tremaining: 57ms\n",
      "901:\tlearn: 0.0102184\ttotal: 520ms\tremaining: 56.4ms\n",
      "902:\tlearn: 0.0102073\ttotal: 520ms\tremaining: 55.9ms\n",
      "903:\tlearn: 0.0101921\ttotal: 520ms\tremaining: 55.3ms\n",
      "904:\tlearn: 0.0101522\ttotal: 521ms\tremaining: 54.7ms\n",
      "905:\tlearn: 0.0101131\ttotal: 522ms\tremaining: 54.1ms\n",
      "906:\tlearn: 0.0100913\ttotal: 522ms\tremaining: 53.6ms\n",
      "907:\tlearn: 0.0100757\ttotal: 523ms\tremaining: 53ms\n",
      "908:\tlearn: 0.0100704\ttotal: 524ms\tremaining: 52.4ms\n",
      "909:\tlearn: 0.0100387\ttotal: 524ms\tremaining: 51.8ms\n",
      "910:\tlearn: 0.0100173\ttotal: 525ms\tremaining: 51.3ms\n",
      "911:\tlearn: 0.0099862\ttotal: 525ms\tremaining: 50.7ms\n",
      "912:\tlearn: 0.0099338\ttotal: 525ms\tremaining: 50.1ms\n",
      "913:\tlearn: 0.0099186\ttotal: 526ms\tremaining: 49.5ms\n",
      "914:\tlearn: 0.0098716\ttotal: 526ms\tremaining: 48.9ms\n",
      "915:\tlearn: 0.0098665\ttotal: 527ms\tremaining: 48.3ms\n",
      "916:\tlearn: 0.0098456\ttotal: 527ms\tremaining: 47.7ms\n",
      "917:\tlearn: 0.0098405\ttotal: 528ms\tremaining: 47.1ms\n",
      "918:\tlearn: 0.0098095\ttotal: 528ms\tremaining: 46.6ms\n",
      "919:\tlearn: 0.0097793\ttotal: 529ms\tremaining: 46ms\n",
      "920:\tlearn: 0.0097334\ttotal: 529ms\tremaining: 45.4ms\n",
      "921:\tlearn: 0.0097283\ttotal: 530ms\tremaining: 44.8ms\n",
      "922:\tlearn: 0.0097140\ttotal: 530ms\tremaining: 44.3ms\n",
      "923:\tlearn: 0.0096770\ttotal: 531ms\tremaining: 43.7ms\n",
      "924:\tlearn: 0.0096568\ttotal: 532ms\tremaining: 43.1ms\n",
      "925:\tlearn: 0.0096206\ttotal: 532ms\tremaining: 42.5ms\n",
      "926:\tlearn: 0.0095905\ttotal: 533ms\tremaining: 41.9ms\n",
      "927:\tlearn: 0.0095613\ttotal: 533ms\tremaining: 41.4ms\n",
      "928:\tlearn: 0.0095313\ttotal: 534ms\tremaining: 40.8ms\n",
      "929:\tlearn: 0.0094869\ttotal: 534ms\tremaining: 40.2ms\n",
      "930:\tlearn: 0.0094820\ttotal: 535ms\tremaining: 39.6ms\n",
      "931:\tlearn: 0.0094677\ttotal: 535ms\tremaining: 39ms\n",
      "932:\tlearn: 0.0094629\ttotal: 536ms\tremaining: 38.5ms\n",
      "933:\tlearn: 0.0094581\ttotal: 536ms\tremaining: 37.9ms\n",
      "934:\tlearn: 0.0094146\ttotal: 537ms\tremaining: 37.3ms\n",
      "935:\tlearn: 0.0093890\ttotal: 537ms\tremaining: 36.7ms\n",
      "936:\tlearn: 0.0093843\ttotal: 538ms\tremaining: 36.2ms\n",
      "937:\tlearn: 0.0093561\ttotal: 539ms\tremaining: 35.6ms\n"
     ]
    },
    {
     "name": "stdout",
     "output_type": "stream",
     "text": [
      "938:\tlearn: 0.0093371\ttotal: 539ms\tremaining: 35ms\n",
      "939:\tlearn: 0.0093093\ttotal: 540ms\tremaining: 34.5ms\n",
      "940:\tlearn: 0.0092906\ttotal: 541ms\tremaining: 33.9ms\n",
      "941:\tlearn: 0.0092513\ttotal: 541ms\tremaining: 33.3ms\n",
      "942:\tlearn: 0.0092467\ttotal: 542ms\tremaining: 32.7ms\n",
      "943:\tlearn: 0.0092196\ttotal: 542ms\tremaining: 32.2ms\n",
      "944:\tlearn: 0.0091752\ttotal: 544ms\tremaining: 31.7ms\n",
      "945:\tlearn: 0.0091469\ttotal: 545ms\tremaining: 31.1ms\n",
      "946:\tlearn: 0.0091204\ttotal: 546ms\tremaining: 30.5ms\n",
      "947:\tlearn: 0.0090774\ttotal: 546ms\tremaining: 30ms\n",
      "948:\tlearn: 0.0090355\ttotal: 547ms\tremaining: 29.4ms\n",
      "949:\tlearn: 0.0089949\ttotal: 547ms\tremaining: 28.8ms\n",
      "950:\tlearn: 0.0089674\ttotal: 548ms\tremaining: 28.2ms\n",
      "951:\tlearn: 0.0089415\ttotal: 548ms\tremaining: 27.6ms\n",
      "952:\tlearn: 0.0089021\ttotal: 549ms\tremaining: 27.1ms\n",
      "953:\tlearn: 0.0088638\ttotal: 549ms\tremaining: 26.5ms\n",
      "954:\tlearn: 0.0088369\ttotal: 549ms\tremaining: 25.9ms\n",
      "955:\tlearn: 0.0087997\ttotal: 550ms\tremaining: 25.3ms\n",
      "956:\tlearn: 0.0087680\ttotal: 550ms\tremaining: 24.7ms\n",
      "957:\tlearn: 0.0087357\ttotal: 550ms\tremaining: 24.1ms\n",
      "958:\tlearn: 0.0087223\ttotal: 551ms\tremaining: 23.5ms\n",
      "959:\tlearn: 0.0086954\ttotal: 551ms\tremaining: 23ms\n",
      "960:\tlearn: 0.0086635\ttotal: 552ms\tremaining: 22.4ms\n",
      "961:\tlearn: 0.0086485\ttotal: 552ms\tremaining: 21.8ms\n",
      "962:\tlearn: 0.0086177\ttotal: 553ms\tremaining: 21.2ms\n",
      "963:\tlearn: 0.0085881\ttotal: 553ms\tremaining: 20.7ms\n",
      "964:\tlearn: 0.0085579\ttotal: 554ms\tremaining: 20.1ms\n",
      "965:\tlearn: 0.0085291\ttotal: 554ms\tremaining: 19.5ms\n",
      "966:\tlearn: 0.0085009\ttotal: 555ms\tremaining: 18.9ms\n",
      "967:\tlearn: 0.0084705\ttotal: 555ms\tremaining: 18.4ms\n",
      "968:\tlearn: 0.0084414\ttotal: 556ms\tremaining: 17.8ms\n",
      "969:\tlearn: 0.0084251\ttotal: 556ms\tremaining: 17.2ms\n",
      "970:\tlearn: 0.0084090\ttotal: 557ms\tremaining: 16.6ms\n",
      "971:\tlearn: 0.0083815\ttotal: 557ms\tremaining: 16ms\n",
      "972:\tlearn: 0.0083465\ttotal: 557ms\tremaining: 15.5ms\n",
      "973:\tlearn: 0.0083199\ttotal: 558ms\tremaining: 14.9ms\n",
      "974:\tlearn: 0.0082938\ttotal: 558ms\tremaining: 14.3ms\n",
      "975:\tlearn: 0.0082552\ttotal: 559ms\tremaining: 13.7ms\n",
      "976:\tlearn: 0.0082209\ttotal: 559ms\tremaining: 13.2ms\n",
      "977:\tlearn: 0.0081899\ttotal: 560ms\tremaining: 12.6ms\n",
      "978:\tlearn: 0.0081635\ttotal: 561ms\tremaining: 12ms\n",
      "979:\tlearn: 0.0081359\ttotal: 562ms\tremaining: 11.5ms\n",
      "980:\tlearn: 0.0081062\ttotal: 562ms\tremaining: 10.9ms\n",
      "981:\tlearn: 0.0080810\ttotal: 563ms\tremaining: 10.3ms\n",
      "982:\tlearn: 0.0080551\ttotal: 563ms\tremaining: 9.74ms\n",
      "983:\tlearn: 0.0080309\ttotal: 563ms\tremaining: 9.16ms\n",
      "984:\tlearn: 0.0080042\ttotal: 564ms\tremaining: 8.59ms\n",
      "985:\tlearn: 0.0079757\ttotal: 564ms\tremaining: 8.01ms\n",
      "986:\tlearn: 0.0079608\ttotal: 565ms\tremaining: 7.44ms\n",
      "987:\tlearn: 0.0079326\ttotal: 565ms\tremaining: 6.87ms\n",
      "988:\tlearn: 0.0079033\ttotal: 566ms\tremaining: 6.29ms\n",
      "989:\tlearn: 0.0078886\ttotal: 566ms\tremaining: 5.72ms\n",
      "990:\tlearn: 0.0078648\ttotal: 567ms\tremaining: 5.15ms\n",
      "991:\tlearn: 0.0078374\ttotal: 567ms\tremaining: 4.58ms\n",
      "992:\tlearn: 0.0078151\ttotal: 568ms\tremaining: 4ms\n",
      "993:\tlearn: 0.0077870\ttotal: 568ms\tremaining: 3.43ms\n",
      "994:\tlearn: 0.0077665\ttotal: 569ms\tremaining: 2.86ms\n",
      "995:\tlearn: 0.0077416\ttotal: 569ms\tremaining: 2.29ms\n",
      "996:\tlearn: 0.0077274\ttotal: 570ms\tremaining: 1.71ms\n",
      "997:\tlearn: 0.0077060\ttotal: 570ms\tremaining: 1.14ms\n",
      "998:\tlearn: 0.0076831\ttotal: 571ms\tremaining: 571us\n",
      "999:\tlearn: 0.0076561\ttotal: 571ms\tremaining: 0us\n"
     ]
    },
    {
     "data": {
      "text/plain": [
       "<catboost.core.CatBoostRegressor at 0x7fa7b8377e80>"
      ]
     },
     "execution_count": 9,
     "metadata": {},
     "output_type": "execute_result"
    }
   ],
   "source": [
    "#Train the Model \n",
    "prior_model = ctb.CatBoostRegressor()\n",
    "prior_model.fit(X_train,Y_train)"
   ]
  },
  {
   "cell_type": "code",
   "execution_count": 10,
   "id": "af65dcda",
   "metadata": {
    "execution": {
     "iopub.execute_input": "2022-06-07T09:50:52.755489Z",
     "iopub.status.busy": "2022-06-07T09:50:52.755062Z",
     "iopub.status.idle": "2022-06-07T09:50:52.762841Z",
     "shell.execute_reply": "2022-06-07T09:50:52.763132Z"
    },
    "id": "af65dcda",
    "papermill": {
     "duration": 0.021421,
     "end_time": "2022-06-07T09:50:52.763255",
     "exception": false,
     "start_time": "2022-06-07T09:50:52.741834",
     "status": "completed"
    },
    "tags": []
   },
   "outputs": [
    {
     "data": {
      "application/scrapbook.scrap.json+json": {
       "data": 0.18089228539612479,
       "encoder": "json",
       "name": "Prior Model MSE",
       "version": 1
      }
     },
     "metadata": {
      "scrapbook": {
       "data": true,
       "display": false,
       "name": "Prior Model MSE"
      }
     },
     "output_type": "display_data"
    },
    {
     "data": {
      "application/scrapbook.scrap.json+json": {
       "data": 0.18388998628177608,
       "encoder": "json",
       "name": "ABC Pre-generator MSE",
       "version": 1
      }
     },
     "metadata": {
      "scrapbook": {
       "data": true,
       "display": false,
       "name": "ABC Pre-generator MSE"
      }
     },
     "output_type": "display_data"
    },
    {
     "data": {
      "application/scrapbook.scrap.json+json": {
       "data": 0.32289192277569856,
       "encoder": "json",
       "name": "Prior Model MSE",
       "version": 1
      }
     },
     "metadata": {
      "scrapbook": {
       "data": true,
       "display": false,
       "name": "Prior Model MSE"
      }
     },
     "output_type": "display_data"
    },
    {
     "data": {
      "application/scrapbook.scrap.json+json": {
       "data": 0.32798426011081594,
       "encoder": "json",
       "name": "ABC Pre-generator MSE",
       "version": 1
      }
     },
     "metadata": {
      "scrapbook": {
       "data": true,
       "display": false,
       "name": "ABC Pre-generator MSE"
      }
     },
     "output_type": "display_data"
    }
   ],
   "source": [
    "y_pred = prior_model.predict(X_test)\n",
    "y_abc = y_pred + np.random.normal(0,variance, y_pred.shape) + bias \n",
    "mse = mean_squared_error(y_pred,Y_test)\n",
    "sb.glue(\"Prior Model MSE\",mse)\n",
    "mse = mean_squared_error(y_abc,Y_test)\n",
    "sb.glue(\"ABC Pre-generator MSE\",mse)\n",
    "mae = mean_absolute_error(y_pred,Y_test)\n",
    "sb.glue(\"Prior Model MSE\",mae)\n",
    "mae = mean_absolute_error(y_abc,Y_test)\n",
    "sb.glue(\"ABC Pre-generator MSE\",mae)"
   ]
  },
  {
   "cell_type": "markdown",
   "id": "25609da2",
   "metadata": {
    "papermill": {
     "duration": 0.010285,
     "end_time": "2022-06-07T09:50:52.784112",
     "exception": false,
     "start_time": "2022-06-07T09:50:52.773827",
     "status": "completed"
    },
    "tags": []
   },
   "source": [
    "# ABC GAN Model"
   ]
  },
  {
   "cell_type": "code",
   "execution_count": 11,
   "id": "dfc3464d",
   "metadata": {
    "execution": {
     "iopub.execute_input": "2022-06-07T09:50:52.808629Z",
     "iopub.status.busy": "2022-06-07T09:50:52.808243Z",
     "iopub.status.idle": "2022-06-07T09:50:52.810690Z",
     "shell.execute_reply": "2022-06-07T09:50:52.810937Z"
    },
    "papermill": {
     "duration": 0.016327,
     "end_time": "2022-06-07T09:50:52.811050",
     "exception": false,
     "start_time": "2022-06-07T09:50:52.794723",
     "status": "completed"
    },
    "tags": []
   },
   "outputs": [],
   "source": [
    "gen = network.Generator(n_features+1).to(device)\n",
    "disc = network.Discriminator(n_features+1).to(device)\n",
    "\n",
    "criterion = torch.nn.BCELoss()\n",
    "gen_opt = torch.optim.Adam(gen.parameters(), lr=0.001, betas=(0.5, 0.999))\n",
    "disc_opt = torch.optim.Adam(disc.parameters(), lr=0.001, betas=(0.5, 0.999))"
   ]
  },
  {
   "cell_type": "code",
   "execution_count": 12,
   "id": "b75fdd85",
   "metadata": {
    "execution": {
     "iopub.execute_input": "2022-06-07T09:50:52.834899Z",
     "iopub.status.busy": "2022-06-07T09:50:52.834503Z",
     "iopub.status.idle": "2022-06-07T09:51:08.675891Z",
     "shell.execute_reply": "2022-06-07T09:51:08.676271Z"
    },
    "papermill": {
     "duration": 15.854506,
     "end_time": "2022-06-07T09:51:08.676401",
     "exception": false,
     "start_time": "2022-06-07T09:50:52.821895",
     "status": "completed"
    },
    "tags": []
   },
   "outputs": [
    {
     "data": {
      "image/png": "[encoded data removed]",
      "text/plain": [
       "<Figure size 432x288 with 1 Axes>"
      ]
     },
     "metadata": {
      "needs_background": "light"
     },
     "output_type": "display_data"
    },
    {
     "data": {
      "image/png": "[encoded data removed]",
      "text/plain": [
       "<Figure size 432x288 with 1 Axes>"
      ]
     },
     "metadata": {
      "needs_background": "light"
     },
     "output_type": "display_data"
    }
   ],
   "source": [
    "#Training the ABC_GAN \n",
    "ABC_train_test2.training_GAN(disc,gen,disc_opt,gen_opt,train_data,batch_size,n_epochs,criterion,prior_model,variance,bias,device)"
   ]
  },
  {
   "cell_type": "code",
   "execution_count": 13,
   "id": "1fa7c368",
   "metadata": {
    "execution": {
     "iopub.execute_input": "2022-06-07T09:51:08.704123Z",
     "iopub.status.busy": "2022-06-07T09:51:08.703230Z",
     "iopub.status.idle": "2022-06-07T09:51:08.894300Z",
     "shell.execute_reply": "2022-06-07T09:51:08.894541Z"
    },
    "papermill": {
     "duration": 0.20598,
     "end_time": "2022-06-07T09:51:08.894663",
     "exception": false,
     "start_time": "2022-06-07T09:51:08.688683",
     "status": "completed"
    },
    "tags": []
   },
   "outputs": [
    {
     "data": {
      "application/scrapbook.scrap.json+json": {
       "data": 0.1580934598143447,
       "encoder": "json",
       "name": "ABC-GAN Model 1 MSE",
       "version": 1
      }
     },
     "metadata": {
      "scrapbook": {
       "data": true,
       "display": false,
       "name": "ABC-GAN Model 1 MSE"
      }
     },
     "output_type": "display_data"
    },
    {
     "data": {
      "application/scrapbook.scrap.json+json": {
       "data": 0.3040779925831594,
       "encoder": "json",
       "name": "ABC-GAN Model 1 MAE",
       "version": 1
      }
     },
     "metadata": {
      "scrapbook": {
       "data": true,
       "display": false,
       "name": "ABC-GAN Model 1 MAE"
      }
     },
     "output_type": "display_data"
    },
    {
     "data": {
      "application/scrapbook.scrap.json+json": {
       "data": 6.0815598516631875,
       "encoder": "json",
       "name": "ABC-GAN Model 1 Manhattan Distance",
       "version": 1
      }
     },
     "metadata": {
      "scrapbook": {
       "data": true,
       "display": false,
       "name": "ABC-GAN Model 1 Manhattan Distance"
      }
     },
     "output_type": "display_data"
    },
    {
     "data": {
      "application/scrapbook.scrap.json+json": {
       "data": 1.7781280271209183,
       "encoder": "json",
       "name": "ABC-GAN Model 1 Euclidean distance",
       "version": 1
      }
     },
     "metadata": {
      "scrapbook": {
       "data": true,
       "display": false,
       "name": "ABC-GAN Model 1 Euclidean distance"
      }
     },
     "output_type": "display_data"
    },
    {
     "data": {
      "application/scrapbook.scrap.json+json": {
       "data": [
        [
         0.15861975723199723,
         0.1546816859084073,
         0.15902186032624982,
         0.15774416901040897,
         0.15864838269297582,
         0.16015952252387805,
         0.1587993480166822,
         0.1605715131277646,
         0.1551006199880514,
         0.1559167776202403,
         0.1574870999077289,
         0.15367754850382198,
         0.15854339630229125,
         0.16186459036602768,
         0.15171671776549536,
         0.15422628989891582,
         0.15871053558291023,
         0.15581052370788667,
         0.15996173979969552,
         0.15767073333298026,
         0.1579398528542621,
         0.15649259445315494,
         0.16131667124318957,
         0.1574720647481389,
         0.16094874074012094,
         0.15612822279833122,
         0.15790257581674577,
         0.1615460874781715,
         0.16035332114952938,
         0.15904393977886072,
         0.1567236723752376,
         0.1594289158307367,
         0.15745060256088514,
         0.1594666001180419,
         0.1580539821505726,
         0.1548021759122244,
         0.15795402045157664,
         0.15747332193407,
         0.15718088471969235,
         0.15639501662516264,
         0.16134400361052587,
         0.15855307975288305,
         0.1579022716827077,
         0.15776060923027485,
         0.15654957912471415,
         0.15783088809707788,
         0.1586315440204658,
         0.1564062422978428,
         0.16159905454523177,
         0.1572457448720757,
         0.15658231243867346,
         0.15727384855701013,
         0.15964018011223974,
         0.1617206904239495,
         0.15731309856789846,
         0.15521905530679764,
         0.15789990884289398,
         0.15817649215013643,
         0.15577742139653744,
         0.1577050756477547,
         0.158692818632584,
         0.15910653416632697,
         0.16012226654331374,
         0.159864880737421,
         0.1578526903133492,
         0.161447314186394,
         0.1585954028290803,
         0.16104825566035363,
         0.1570312994952098,
         0.16087148928554335,
         0.16238198645910557,
         0.15531532319317037,
         0.1569514223116817,
         0.15505709563538134,
         0.1596480835989631,
         0.15564431931073433,
         0.1586796761494907,
         0.15716408366653392,
         0.15927966346838512,
         0.16190934482618963,
         0.15852425912791426,
         0.15848516540842567,
         0.15566687897168063,
         0.15543852983942835,
         0.15760378194357755,
         0.15617770388266586,
         0.1581845707730709,
         0.15624426875108388,
         0.16066531910713633,
         0.15876664507673147,
         0.15701630176108705,
         0.1586924454232926,
         0.15838247047952314,
         0.1601975930292238,
         0.15598877935457223,
         0.15979834242004184,
         0.15624972446376514,
         0.1586614861891845,
         0.15837312815054347,
         0.15942746078150388
        ],
        [
         0.3041915952344425,
         0.30212408445077016,
         0.3046549799968489,
         0.304191913374234,
         0.3051186020602472,
         0.3071428920258768,
         0.30431291601853444,
         0.3055375124444254,
         0.30183708287077027,
         0.30466263509588315,
         0.3043423525174148,
         0.3007619775016792,
         0.3024043756653555,
         0.3063342987676151,
         0.29779824569122865,
         0.30120510190026833,
         0.3070572941680439,
         0.2999873533030041,
         0.30498843631939965,
         0.30561999186174943,
         0.3069812501897104,
         0.30141223437385634,
         0.3071315436740406,
         0.30260425742017105,
         0.30503358646528794,
         0.3012546333600767,
         0.30184980548219753,
         0.3064734275569208,
         0.3080581012298353,
         0.30565633355872707,
         0.3017110365559347,
         0.30254458739655093,
         0.304534421407152,
         0.3060778285493143,
         0.3044012601603754,
         0.30141161783831194,
         0.3048158335615881,
         0.3048780723591335,
         0.30530354744987565,
         0.3047426867415197,
         0.30563675715820865,
         0.30633862420218066,
         0.3017763915588148,
         0.30557185291545463,
         0.30424982189433647,
         0.3036210253019817,
         0.3047631747205742,
         0.30069742678897454,
         0.3070954657276161,
         0.302757699706126,
         0.3032108585466631,
         0.30009984552161767,
         0.30397958114044743,
         0.3071870993007906,
         0.30413573413388806,
         0.3043663094867952,
         0.3032928823609836,
         0.3045404016156681,
         0.3013735770364292,
         0.3040573950042017,
         0.3068676571478136,
         0.30527272551553325,
         0.30535165435867384,
         0.3077951635350473,
         0.30446768283145503,
         0.30600569091038776,
         0.30125606573419644,
         0.31010861351387575,
         0.3034018988837488,
         0.3059760893811472,
         0.31031459077494217,
         0.3027349303592928,
         0.30257210388081146,
         0.29992985009448603,
         0.304999287344981,
         0.2969425696064718,
         0.30483857869403436,
         0.3047334062983282,
         0.30455615326063706,
         0.305837329023052,
         0.3052843391080387,
         0.30469443603651597,
         0.2995326957781799,
         0.3012613429804333,
         0.3065343971480615,
         0.30108812629478054,
         0.3040871764649637,
         0.3009694784064777,
         0.30434654533164573,
         0.3051772206206806,
         0.30167318201856685,
         0.3059741730918176,
         0.3033489967812784,
         0.3060871559311636,
         0.3004837396671064,
         0.3059749077190645,
         0.3046007252414711,
         0.30296117580728604,
         0.3039634539862163,
         0.3058923180331476
        ],
        [
         6.08383190468885,
         6.042481689015403,
         6.093099599936977,
         6.08383826748468,
         6.102372041204944,
         6.142857840517536,
         6.086258320370689,
         6.1107502488885075,
         6.036741657415405,
         6.093252701917663,
         6.086847050348297,
         6.015239550033584,
         6.0480875133071095,
         6.126685975352302,
         5.955964913824573,
         6.024102038005367,
         6.141145883360878,
         5.999747066060081,
         6.0997687263879925,
         6.112399837234989,
         6.139625003794208,
         6.028244687477127,
         6.142630873480812,
         6.052085148403421,
         6.100671729305759,
         6.025092667201534,
         6.036996109643951,
         6.129468551138416,
         6.161162024596706,
         6.113126671174541,
         6.034220731118694,
         6.0508917479310185,
         6.090688428143039,
         6.121556570986286,
         6.088025203207508,
         6.028232356766239,
         6.096316671231762,
         6.09756144718267,
         6.1060709489975125,
         6.094853734830394,
         6.112735143164173,
         6.126772484043613,
         6.035527831176296,
         6.111437058309093,
         6.08499643788673,
         6.072420506039634,
         6.095263494411483,
         6.013948535779491,
         6.141909314552322,
         6.05515399412252,
         6.0642171709332615,
         6.001996910432354,
         6.079591622808948,
         6.143741986015812,
         6.082714682677761,
         6.087326189735904,
         6.065857647219673,
         6.090808032313362,
         6.027471540728584,
         6.081147900084034,
         6.137353142956272,
         6.105454510310665,
         6.107033087173477,
         6.1559032707009465,
         6.0893536566291,
         6.120113818207756,
         6.025121314683929,
         6.202172270277515,
         6.068037977674976,
         6.1195217876229435,
         6.206291815498844,
         6.0546986071858555,
         6.05144207761623,
         5.998597001889721,
         6.09998574689962,
         5.938851392129436,
         6.096771573880687,
         6.094668125966564,
         6.0911230652127415,
         6.11674658046104,
         6.105686782160774,
         6.09388872073032,
         5.990653915563598,
         6.025226859608665,
         6.130687942961231,
         6.0217625258956105,
         6.081743529299274,
         6.019389568129554,
         6.086930906632915,
         6.103544412413612,
         6.0334636403713375,
         6.119483461836353,
         6.066979935625568,
         6.121743118623272,
         6.009674793342128,
         6.11949815438129,
         6.092014504829422,
         6.059223516145721,
         6.079269079724327,
         6.117846360662952
        ],
        [
         1.7811218780981677,
         1.7588728544633765,
         1.783378032421897,
         1.7761991386689107,
         1.7812825867502091,
         1.7897459178546997,
         1.782129894349355,
         1.7920463896214551,
         1.761253076579578,
         1.7658809564647346,
         1.7747512496557307,
         1.7531545767776553,
         1.780693102711926,
         1.799247566990311,
         1.7419340846627653,
         1.7562818105242441,
         1.781631474704633,
         1.7652791490746536,
         1.788640488190377,
         1.775785647723172,
         1.7773004971262576,
         1.7691387421745925,
         1.7961997174211424,
         1.7746665306368907,
         1.794150165064903,
         1.7670779428102839,
         1.7770907451041764,
         1.7974764948570066,
         1.7908284180765581,
         1.783501835036122,
         1.7704444209024897,
         1.7856590706556317,
         1.7745455900645957,
         1.7858700967205978,
         1.7779425308517292,
         1.759557762122201,
         1.7773802094744762,
         1.774673614691276,
         1.7730250123429865,
         1.7685871006267273,
         1.796351878728251,
         1.7807474821146487,
         1.7770890336880012,
         1.7762916946846024,
         1.769460816885834,
         1.7766872999888184,
         1.7811880530728124,
         1.7686505720341867,
         1.7977711453087224,
         1.773390790954299,
         1.7696457975463535,
         1.7735492581657275,
         1.7868417955277391,
         1.7984476107129141,
         1.77377055206077,
         1.7619253974376874,
         1.7770757375131425,
         1.7786314522696174,
         1.7650916202652907,
         1.7759790294243607,
         1.7815320296451813,
         1.7838527639148192,
         1.7895377422301757,
         1.788098882821758,
         1.7768100084890854,
         1.7969268999399726,
         1.7809851365414608,
         1.7947047426267844,
         1.7721811391345401,
         1.7937195393123382,
         1.8021208974933152,
         1.762471691648807,
         1.7717303537033038,
         1.7610059377263971,
         1.786886026577874,
         1.764337378795418,
         1.781458257436815,
         1.772930250554341,
         1.784823035868739,
         1.7994962896665814,
         1.7805856291002369,
         1.7803660601596834,
         1.7644652389417066,
         1.7631706090984411,
         1.7754085836425235,
         1.767357937049911,
         1.7786768721331647,
         1.7677345318292783,
         1.7925697705090107,
         1.781946380095268,
         1.772096508439013,
         1.7815299347655802,
         1.7797891475089016,
         1.7899586197966912,
         1.7662886477276145,
         1.787726726432437,
         1.767765394297361,
         1.7813561473730317,
         1.779736655522628,
         1.7856509221093795
        ]
       ],
       "encoder": "json",
       "name": "ABC_GAN_1 Metrics",
       "version": 1
      }
     },
     "metadata": {
      "scrapbook": {
       "data": true,
       "display": false,
       "name": "ABC_GAN_1 Metrics"
      }
     },
     "output_type": "display_data"
    },
    {
     "name": "stdout",
     "output_type": "stream",
     "text": [
      "MSE\n",
      "0.1580934598143447\n"
     ]
    }
   ],
   "source": [
    "ABC_GAN1_metrics=ABC_train_test2.test_generator(gen,test_data,prior_model,variance,bias,\"1\",device)\n",
    "sb.glue(\"ABC_GAN_1 Metrics\",ABC_GAN1_metrics)\n",
    "\n",
    "print(\"MSE\")\n",
    "print(mean(ABC_GAN1_metrics[0]))"
   ]
  },
  {
   "cell_type": "code",
   "execution_count": 14,
   "id": "eb22ce5c",
   "metadata": {
    "execution": {
     "iopub.execute_input": "2022-06-07T09:51:08.923721Z",
     "iopub.status.busy": "2022-06-07T09:51:08.923346Z",
     "iopub.status.idle": "2022-06-07T09:51:09.241966Z",
     "shell.execute_reply": "2022-06-07T09:51:09.242270Z"
    },
    "papermill": {
     "duration": 0.334628,
     "end_time": "2022-06-07T09:51:09.242392",
     "exception": false,
     "start_time": "2022-06-07T09:51:08.907764",
     "status": "completed"
    },
    "tags": []
   },
   "outputs": [
    {
     "data": {
      "image/png": "[encoded data removed]",
      "text/plain": [
       "<Figure size 432x288 with 1 Axes>"
      ]
     },
     "metadata": {
      "needs_background": "light"
     },
     "output_type": "display_data"
    },
    {
     "data": {
      "image/png": "[encoded data removed]",
      "text/plain": [
       "<Figure size 432x288 with 1 Axes>"
      ]
     },
     "metadata": {
      "needs_background": "light"
     },
     "output_type": "display_data"
    },
    {
     "data": {
      "image/png": "[encoded data removed]",
      "text/plain": [
       "<Figure size 432x288 with 1 Axes>"
      ]
     },
     "metadata": {
      "needs_background": "light"
     },
     "output_type": "display_data"
    },
    {
     "data": {
      "image/png": "[encoded data removed]",
      "text/plain": [
       "<Figure size 432x288 with 1 Axes>"
      ]
     },
     "metadata": {
      "needs_background": "light"
     },
     "output_type": "display_data"
    }
   ],
   "source": [
    "sanityChecks.discProbVsError(train_data,disc,device)\n",
    "sanityChecks.discProbVsError(test_data,disc,device)"
   ]
  },
  {
   "cell_type": "markdown",
   "id": "130f3a4d",
   "metadata": {
    "id": "130f3a4d",
    "papermill": {
     "duration": 0.042311,
     "end_time": "2022-06-07T09:51:09.299991",
     "exception": false,
     "start_time": "2022-06-07T09:51:09.257680",
     "status": "completed"
    },
    "tags": []
   },
   "source": [
    "# ABC - GAN Model with skip connection"
   ]
  },
  {
   "cell_type": "code",
   "execution_count": 15,
   "id": "4e43dad1",
   "metadata": {
    "execution": {
     "iopub.execute_input": "2022-06-07T09:51:09.334339Z",
     "iopub.status.busy": "2022-06-07T09:51:09.333919Z",
     "iopub.status.idle": "2022-06-07T09:51:09.336582Z",
     "shell.execute_reply": "2022-06-07T09:51:09.336933Z"
    },
    "id": "4e43dad1",
    "papermill": {
     "duration": 0.021822,
     "end_time": "2022-06-07T09:51:09.337086",
     "exception": false,
     "start_time": "2022-06-07T09:51:09.315264",
     "status": "completed"
    },
    "tags": []
   },
   "outputs": [],
   "source": [
    "#Generator\n",
    "gen3 = network.GeneratorWithSkipConnection(n_features+1).to(device)\n",
    "constraints=network.weightConstraint()\n",
    "#Discriminator \n",
    "disc3 = network.Discriminator(n_features+1).to(device)\n",
    "\n",
    "criterion = torch.nn.BCELoss()\n",
    "gen_opt = torch.optim.Adam(gen3.parameters(), lr=0.001, betas=(0.5, 0.999))\n",
    "disc_opt = torch.optim.Adam(disc3.parameters(), lr=0.001, betas=(0.5, 0.999))\n"
   ]
  },
  {
   "cell_type": "code",
   "execution_count": 16,
   "id": "26acbc37",
   "metadata": {
    "execution": {
     "iopub.execute_input": "2022-06-07T09:51:09.371101Z",
     "iopub.status.busy": "2022-06-07T09:51:09.370604Z",
     "iopub.status.idle": "2022-06-07T09:51:48.353190Z",
     "shell.execute_reply": "2022-06-07T09:51:48.353515Z"
    },
    "id": "26acbc37",
    "papermill": {
     "duration": 39.001426,
     "end_time": "2022-06-07T09:51:48.353643",
     "exception": false,
     "start_time": "2022-06-07T09:51:09.352217",
     "status": "completed"
    },
    "tags": []
   },
   "outputs": [
    {
     "data": {
      "image/png": "[encoded data removed]",
      "text/plain": [
       "<Figure size 432x288 with 1 Axes>"
      ]
     },
     "metadata": {
      "needs_background": "light"
     },
     "output_type": "display_data"
    },
    {
     "data": {
      "image/png": "[encoded data removed]",
      "text/plain": [
       "<Figure size 432x288 with 1 Axes>"
      ]
     },
     "metadata": {
      "needs_background": "light"
     },
     "output_type": "display_data"
    }
   ],
   "source": [
    "ABC_train_test2.training_GAN_skip_connection(disc3,gen3,disc_opt,gen_opt,train_data,batch_size,n_epochs,criterion,prior_model,variance,bias,device)"
   ]
  },
  {
   "cell_type": "code",
   "execution_count": 17,
   "id": "c5e0717b",
   "metadata": {
    "execution": {
     "iopub.execute_input": "2022-06-07T09:51:48.387335Z",
     "iopub.status.busy": "2022-06-07T09:51:48.386907Z",
     "iopub.status.idle": "2022-06-07T09:51:48.694977Z",
     "shell.execute_reply": "2022-06-07T09:51:48.695190Z"
    },
    "id": "c5e0717b",
    "papermill": {
     "duration": 0.326112,
     "end_time": "2022-06-07T09:51:48.695316",
     "exception": false,
     "start_time": "2022-06-07T09:51:48.369204",
     "status": "completed"
    },
    "tags": []
   },
   "outputs": [
    {
     "data": {
      "application/scrapbook.scrap.json+json": {
       "data": 0.1798429220811058,
       "encoder": "json",
       "name": "ABC-GAN Model 3 MSE",
       "version": 1
      }
     },
     "metadata": {
      "scrapbook": {
       "data": true,
       "display": false,
       "name": "ABC-GAN Model 3 MSE"
      }
     },
     "output_type": "display_data"
    },
    {
     "data": {
      "application/scrapbook.scrap.json+json": {
       "data": 0.3213631601212546,
       "encoder": "json",
       "name": "ABC-GAN Model 3 MAE",
       "version": 1
      }
     },
     "metadata": {
      "scrapbook": {
       "data": true,
       "display": false,
       "name": "ABC-GAN Model 3 MAE"
      }
     },
     "output_type": "display_data"
    },
    {
     "data": {
      "application/scrapbook.scrap.json+json": {
       "data": 6.427263202425093,
       "encoder": "json",
       "name": "ABC-GAN Model 3 Manhattan Distance",
       "version": 1
      }
     },
     "metadata": {
      "scrapbook": {
       "data": true,
       "display": false,
       "name": "ABC-GAN Model 3 Manhattan Distance"
      }
     },
     "output_type": "display_data"
    },
    {
     "data": {
      "application/scrapbook.scrap.json+json": {
       "data": 1.8965100846254004,
       "encoder": "json",
       "name": "ABC-GAN Model 3 Euclidean distance",
       "version": 1
      }
     },
     "metadata": {
      "scrapbook": {
       "data": true,
       "display": false,
       "name": "ABC-GAN Model 3 Euclidean distance"
      }
     },
     "output_type": "display_data"
    },
    {
     "data": {
      "application/scrapbook.scrap.json+json": {
       "data": [
        [
         0.1786623220231988,
         0.17984177140396154,
         0.17812756385892392,
         0.18036214950056056,
         0.1802500885229303,
         0.17836353223484686,
         0.1806130685213263,
         0.17712336036000526,
         0.18224122333719261,
         0.17793456664364232,
         0.178872230404201,
         0.17841122170124665,
         0.18027246964222896,
         0.1796656523444315,
         0.18017747224175165,
         0.18251296902515288,
         0.18396808717435195,
         0.18213935373845178,
         0.1782198369218802,
         0.17807922248992533,
         0.18146372304189287,
         0.17769085755661546,
         0.17856375116401754,
         0.17643076634887217,
         0.17958425915380843,
         0.17941304238629288,
         0.1761301178661318,
         0.17914320713987214,
         0.18081375580304937,
         0.18334693600382418,
         0.17796501084886868,
         0.17755319131994324,
         0.18338899460260377,
         0.18027475478803395,
         0.1791181621290637,
         0.1799031176242027,
         0.18115419166657798,
         0.18028420114792199,
         0.1838533997956175,
         0.17991380285577518,
         0.1780528083537515,
         0.17870313353088374,
         0.18102801630454607,
         0.18289881324179022,
         0.18179684344394528,
         0.18286518828265413,
         0.18160566784745882,
         0.1781696787045018,
         0.17992221177143147,
         0.17925715377027407,
         0.18357293645493314,
         0.17907560209614065,
         0.181058150595762,
         0.17858835735698583,
         0.17830324009391144,
         0.17566180067302933,
         0.17855553793271878,
         0.1794028269326026,
         0.18148523603468866,
         0.18081846490334944,
         0.18026397890488913,
         0.1787837657921656,
         0.17786489688073384,
         0.18163050652002516,
         0.1780258171249855,
         0.1814760973649472,
         0.17885719550986448,
         0.1753970207361802,
         0.18313239801188805,
         0.17971864138225085,
         0.17955930831636463,
         0.18055676794369496,
         0.1816830009741131,
         0.18173532908040962,
         0.17900390096214408,
         0.17869455684477303,
         0.18108752037930556,
         0.1776968156661623,
         0.17972461009668989,
         0.18100869873847553,
         0.17954018909053754,
         0.18014233239560573,
         0.17762744514180473,
         0.17851419070179825,
         0.18004073275281146,
         0.17827328228937356,
         0.17979955266672518,
         0.17773590035619394,
         0.18374058039992178,
         0.18083246237366407,
         0.17889123185160044,
         0.17982361995688528,
         0.17784267398823744,
         0.17854894181040085,
         0.17484290078999104,
         0.1797372578249751,
         0.18441243813297628,
         0.18160255011972684,
         0.18067817952874013,
         0.18311584504999395
        ],
        [
         0.31965196394594386,
         0.3230741397594102,
         0.3172243907232769,
         0.32043354167835786,
         0.3224485368584283,
         0.3183915703673847,
         0.3192056347732432,
         0.3193762109731324,
         0.3245656878571026,
         0.318379897729028,
         0.32043639180483297,
         0.32110898980172353,
         0.32224959806771947,
         0.31873309606453404,
         0.32220200282754374,
         0.32201318425359204,
         0.32288996420102195,
         0.32107909527840095,
         0.3216081281309016,
         0.31904108767630535,
         0.32339270781958473,
         0.3167375484597869,
         0.3192562001873739,
         0.31812394607113675,
         0.3235765746911056,
         0.32071269928710533,
         0.31699949122266846,
         0.31902573715196925,
         0.3218304108013399,
         0.3222817206871696,
         0.32064916446106506,
         0.31757474757032467,
         0.3264542273362167,
         0.3226824958925135,
         0.3212622149963863,
         0.3195414274116047,
         0.3219463984598406,
         0.3216831390862353,
         0.32480776935117317,
         0.3228709132527001,
         0.31906670696334916,
         0.3224480409291573,
         0.32467893484281374,
         0.3239674736862071,
         0.32248994858236985,
         0.3239286970463581,
         0.3221187803079374,
         0.3190617314656265,
         0.322566740878392,
         0.3205915681202896,
         0.3232463195105083,
         0.3198533865739591,
         0.32462574216770007,
         0.32051807587267833,
         0.31892041146056727,
         0.32049102062592283,
         0.3181905191973783,
         0.32178427606122567,
         0.3249831502442248,
         0.32436760590644553,
         0.3217272206326015,
         0.32078432469861584,
         0.3202658551861532,
         0.32224379006074744,
         0.32104025353910404,
         0.32181771864416076,
         0.3216427678358741,
         0.31537737186299636,
         0.32734736158745364,
         0.3212616666336544,
         0.3232130788383074,
         0.32401224171044307,
         0.32298952668206765,
         0.3231291475822218,
         0.3209182997350581,
         0.32162626247154547,
         0.3221934408997186,
         0.3170191699755378,
         0.3213698728126474,
         0.32218709104927257,
         0.32175976458238437,
         0.32175750761525707,
         0.3203545449418016,
         0.32112838920438663,
         0.3208358639036305,
         0.3200972517137416,
         0.32316190359415486,
         0.3188328174990602,
         0.3270739038591273,
         0.3223105142009445,
         0.3213843203266151,
         0.32094543558778243,
         0.3186028324649669,
         0.3201323971268721,
         0.31544187917606903,
         0.3221013733302243,
         0.3255373754655011,
         0.3238621625234373,
         0.32026719908462836,
         0.3251403360744007
        ],
        [
         6.393039278918877,
         6.4614827951882035,
         6.344487814465538,
         6.408670833567157,
         6.448970737168565,
         6.367831407347694,
         6.384112695464864,
         6.387524219462648,
         6.491313757142052,
         6.36759795458056,
         6.408727836096659,
         6.42217979603447,
         6.44499196135439,
         6.374661921290681,
         6.444040056550875,
         6.440263685071841,
         6.457799284020439,
         6.4215819055680186,
         6.432162562618032,
         6.3808217535261065,
         6.467854156391695,
         6.334750969195738,
         6.385124003747478,
         6.362478921422735,
         6.471531493822113,
         6.414253985742107,
         6.339989824453369,
         6.3805147430393845,
         6.436608216026798,
         6.445634413743392,
         6.412983289221302,
         6.351494951406494,
         6.529084546724334,
         6.453649917850271,
         6.425244299927726,
         6.3908285482320935,
         6.438927969196811,
         6.433662781724706,
         6.496155387023464,
         6.457418265054002,
         6.381334139266983,
         6.448960818583146,
         6.493578696856275,
         6.479349473724142,
         6.449798971647397,
         6.478573940927163,
         6.442375606158748,
         6.38123462931253,
         6.45133481756784,
         6.411831362405792,
         6.464926390210167,
         6.397067731479183,
         6.492514843354002,
         6.410361517453566,
         6.378408229211345,
         6.409820412518457,
         6.363810383947566,
         6.435685521224514,
         6.499663004884496,
         6.487352118128911,
         6.434544412652031,
         6.415686493972316,
         6.405317103723064,
         6.444875801214948,
         6.42080507078208,
         6.4363543728832155,
         6.432855356717482,
         6.307547437259927,
         6.546947231749073,
         6.425233332673088,
         6.464261576766148,
         6.480244834208861,
         6.459790533641353,
         6.4625829516444355,
         6.418365994701162,
         6.43252524943091,
         6.443868817994371,
         6.340383399510756,
         6.4273974562529474,
         6.443741820985451,
         6.4351952916476876,
         6.435150152305141,
         6.407090898836032,
         6.422567784087732,
         6.4167172780726105,
         6.401945034274831,
         6.463238071883097,
         6.376656349981204,
         6.541478077182546,
         6.446210284018889,
         6.4276864065323025,
         6.418908711755648,
         6.3720566492993385,
         6.402647942537442,
         6.308837583521381,
         6.442027466604486,
         6.510747509310022,
         6.477243250468746,
         6.4053439816925675,
         6.502806721488014
        ],
        [
         1.8903032667971496,
         1.8965324748285304,
         1.8874721924252231,
         1.899274332478384,
         1.8986842208378427,
         1.8887219606646546,
         1.9005950043148399,
         1.8821443109390164,
         1.9091423379999335,
         1.8864493984395252,
         1.891413388998825,
         1.8889744397489694,
         1.8988020941753196,
         1.8956036101697606,
         1.8983017265005668,
         1.910565199228505,
         1.918166245007726,
         1.9086086751267364,
         1.8879610002427496,
         1.8872160580597301,
         1.9050654741603652,
         1.885157062722443,
         1.8897817395880274,
         1.8784608931190032,
         1.8951741827800865,
         1.894270531821117,
         1.8768597063506467,
         1.8928455147733116,
         1.901650629337836,
         1.914925251824855,
         1.8866107751673031,
         1.8844266572087292,
         1.9151448749512594,
         1.8988141288079456,
         1.8927131960709933,
         1.8968559124203541,
         1.9034399999294855,
         1.8988638768901895,
         1.9175682506529852,
         1.8969122428608822,
         1.8870760893708103,
         1.8905191537293862,
         1.9027770037739373,
         1.9125836621794623,
         1.9068132758293104,
         1.9124078450092916,
         1.905810419991762,
         1.8876953075351,
         1.896956571835167,
         1.8934474049747148,
         1.9161050934378998,
         1.8924883201549259,
         1.9029353672458873,
         1.8899119416363601,
         1.8884027117853408,
         1.8743628286595384,
         1.8897382778190146,
         1.8942166028868113,
         1.9051783960285118,
         1.9016753924019179,
         1.8987573773649393,
         1.8909456141950016,
         1.8860800453890276,
         1.9059407468230753,
         1.8869330519389687,
         1.9051304278969836,
         1.891333897067699,
         1.8729496562170602,
         1.9138045773374461,
         1.8958831260510278,
         1.8950425236197979,
         1.900298755162961,
         1.906216152350583,
         1.906490645560107,
         1.8921094099556932,
         1.8904737863550134,
         1.9030897003520646,
         1.8851886678322796,
         1.895914608291681,
         1.9026754780491364,
         1.894941630185677,
         1.8981166054571341,
         1.8848206553505547,
         1.8895194664347768,
         1.8975812644143146,
         1.8882440641472893,
         1.896309851615633,
         1.8853959815179089,
         1.9169798141864811,
         1.9017489969691799,
         1.8915138479619993,
         1.8964367638119932,
         1.885962215890008,
         1.8897033725450185,
         1.8699887742443324,
         1.895981317550229,
         1.920481388261684,
         1.9057940608561401,
         1.9009375556747787,
         1.9137180829474016
        ]
       ],
       "encoder": "json",
       "name": "ABC_GAN_3 Metrics",
       "version": 1
      }
     },
     "metadata": {
      "scrapbook": {
       "data": true,
       "display": false,
       "name": "ABC_GAN_3 Metrics"
      }
     },
     "output_type": "display_data"
    },
    {
     "name": "stdout",
     "output_type": "stream",
     "text": [
      "MSE\n",
      "0.1798429220811058\n"
     ]
    }
   ],
   "source": [
    "ABC_GAN3_metrics=ABC_train_test2.test_generator(gen3,test_data,prior_model,variance,bias,\"3\",device)\n",
    "sb.glue(\"ABC_GAN_3 Metrics\",ABC_GAN3_metrics)\n",
    "\n",
    "print(\"MSE\")\n",
    "print(mean(ABC_GAN3_metrics[0]))"
   ]
  },
  {
   "cell_type": "code",
   "execution_count": 18,
   "id": "c8e46b48",
   "metadata": {
    "execution": {
     "iopub.execute_input": "2022-06-07T09:51:48.732369Z",
     "iopub.status.busy": "2022-06-07T09:51:48.731987Z",
     "iopub.status.idle": "2022-06-07T09:51:49.030638Z",
     "shell.execute_reply": "2022-06-07T09:51:49.030931Z"
    },
    "id": "c8e46b48",
    "papermill": {
     "duration": 0.318511,
     "end_time": "2022-06-07T09:51:49.031048",
     "exception": false,
     "start_time": "2022-06-07T09:51:48.712537",
     "status": "completed"
    },
    "tags": []
   },
   "outputs": [
    {
     "data": {
      "image/png": "[encoded data removed]",
      "text/plain": [
       "<Figure size 432x288 with 1 Axes>"
      ]
     },
     "metadata": {
      "needs_background": "light"
     },
     "output_type": "display_data"
    },
    {
     "data": {
      "image/png": "[encoded data removed]",
      "text/plain": [
       "<Figure size 432x288 with 1 Axes>"
      ]
     },
     "metadata": {
      "needs_background": "light"
     },
     "output_type": "display_data"
    },
    {
     "data": {
      "image/png": "[encoded data removed]",
      "text/plain": [
       "<Figure size 432x288 with 1 Axes>"
      ]
     },
     "metadata": {
      "needs_background": "light"
     },
     "output_type": "display_data"
    },
    {
     "data": {
      "image/png": "[encoded data removed]",
      "text/plain": [
       "<Figure size 432x288 with 1 Axes>"
      ]
     },
     "metadata": {
      "needs_background": "light"
     },
     "output_type": "display_data"
    }
   ],
   "source": [
    "sanityChecks.discProbVsError(train_data,disc3,device)\n",
    "sanityChecks.discProbVsError(test_data,disc3,device)"
   ]
  },
  {
   "cell_type": "markdown",
   "id": "a5bd74c3",
   "metadata": {
    "id": "a5bd74c3",
    "papermill": {
     "duration": 0.019287,
     "end_time": "2022-06-07T09:51:49.070065",
     "exception": false,
     "start_time": "2022-06-07T09:51:49.050778",
     "status": "completed"
    },
    "tags": []
   },
   "source": [
    "## Skip Connection Model Analysis - ABC-GAN "
   ]
  },
  {
   "cell_type": "markdown",
   "id": "5744a8bf",
   "metadata": {
    "id": "5744a8bf",
    "papermill": {
     "duration": 0.01917,
     "end_time": "2022-06-07T09:51:49.109257",
     "exception": false,
     "start_time": "2022-06-07T09:51:49.090087",
     "status": "completed"
    },
    "tags": []
   },
   "source": [
    "### Weight Analysis \n",
    "\n",
    "Study the weights of the skip connection layer\n",
    "\n",
    "Equation of the skip connection is \n",
    "\n",
    "$output = y_{gan} * w + y_{abc} * (1-w)$"
   ]
  },
  {
   "cell_type": "code",
   "execution_count": 19,
   "id": "52c31dea",
   "metadata": {
    "execution": {
     "iopub.execute_input": "2022-06-07T09:51:49.153531Z",
     "iopub.status.busy": "2022-06-07T09:51:49.153127Z",
     "iopub.status.idle": "2022-06-07T09:51:49.156597Z",
     "shell.execute_reply": "2022-06-07T09:51:49.156846Z"
    },
    "id": "52c31dea",
    "papermill": {
     "duration": 0.025918,
     "end_time": "2022-06-07T09:51:49.156963",
     "exception": false,
     "start_time": "2022-06-07T09:51:49.131045",
     "status": "completed"
    },
    "tags": []
   },
   "outputs": [
    {
     "name": "stdout",
     "output_type": "stream",
     "text": [
      "Weight of the node at skip connection\n",
      "Parameter containing:\n",
      "tensor([[0.0129]], requires_grad=True)\n"
     ]
    },
    {
     "data": {
      "application/scrapbook.scrap.json+json": {
       "data": 0.012867474928498268,
       "encoder": "json",
       "name": "Skip Connection Weight",
       "version": 1
      }
     },
     "metadata": {
      "scrapbook": {
       "data": true,
       "display": false,
       "name": "Skip Connection Weight"
      }
     },
     "output_type": "display_data"
    }
   ],
   "source": [
    "print(\"Weight of the node at skip connection\")\n",
    "for name,param in gen3.named_parameters():\n",
    "    if(name == \"skipNode.weight\"):\n",
    "        print(param)\n",
    "        sb.glue(\"Skip Connection Weight\",param.item())"
   ]
  }
 ],
 "metadata": {
  "colab": {
   "collapsed_sections": [],
   "name": "ABC_GAN_Model-Catboost_Pre-gen.ipynb",
   "provenance": []
  },
  "interpreter": {
   "hash": "31f2aee4e71d21fbe5cf8b01ff0e069b9275f58929596ceb00d14d90e3e16cd6"
  },
  "kernelspec": {
   "display_name": "Python 3 (ipykernel)",
   "language": "python",
   "name": "python3"
  },
  "language_info": {
   "codemirror_mode": {
    "name": "ipython",
    "version": 3
   },
   "file_extension": ".py",
   "mimetype": "text/x-python",
   "name": "python",
   "nbconvert_exporter": "python",
   "pygments_lexer": "ipython3",
   "version": "3.8.11"
  },
  "papermill": {
   "default_parameters": {},
   "duration": 60.787891,
   "end_time": "2022-06-07T09:51:49.484123",
   "environment_variables": {},
   "exception": null,
   "input_path": "ABC_GAN-Catboost.ipynb",
   "output_path": "./ABC_GAN_Catboost/ABC-GAN_output_10_8.ipynb",
   "parameters": {
    "bias": 0.01,
    "variance": 0.01
   },
   "start_time": "2022-06-07T09:50:48.696232",
   "version": "2.3.3"
  }
 },
 "nbformat": 4,
 "nbformat_minor": 5
}