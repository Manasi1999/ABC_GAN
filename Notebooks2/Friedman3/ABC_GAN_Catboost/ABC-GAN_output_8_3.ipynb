{
 "cells": [
  {
   "cell_type": "markdown",
   "id": "622780e6",
   "metadata": {
    "id": "622780e6",
    "papermill": {
     "duration": 0.035195,
     "end_time": "2022-06-07T06:59:19.958591",
     "exception": false,
     "start_time": "2022-06-07T06:59:19.923396",
     "status": "completed"
    },
    "tags": []
   },
   "source": [
    "## Import Libraries "
   ]
  },
  {
   "cell_type": "code",
   "execution_count": 1,
   "id": "a62397e3",
   "metadata": {
    "execution": {
     "iopub.execute_input": "2022-06-07T06:59:19.993971Z",
     "iopub.status.busy": "2022-06-07T06:59:19.993458Z",
     "iopub.status.idle": "2022-06-07T06:59:19.995794Z",
     "shell.execute_reply": "2022-06-07T06:59:19.996129Z"
    },
    "id": "a62397e3",
    "papermill": {
     "duration": 0.02176,
     "end_time": "2022-06-07T06:59:19.996354",
     "exception": false,
     "start_time": "2022-06-07T06:59:19.974594",
     "status": "completed"
    },
    "tags": []
   },
   "outputs": [],
   "source": [
    "import warnings\n",
    "import sys\n",
    "sys.path.insert(0, '../../src')\n",
    "warnings.filterwarnings('ignore')"
   ]
  },
  {
   "cell_type": "code",
   "execution_count": 2,
   "id": "d6a4e155",
   "metadata": {
    "execution": {
     "iopub.execute_input": "2022-06-07T06:59:20.017207Z",
     "iopub.status.busy": "2022-06-07T06:59:20.016734Z",
     "iopub.status.idle": "2022-06-07T06:59:21.977683Z",
     "shell.execute_reply": "2022-06-07T06:59:21.977969Z"
    },
    "id": "d6a4e155",
    "papermill": {
     "duration": 1.972137,
     "end_time": "2022-06-07T06:59:21.978177",
     "exception": false,
     "start_time": "2022-06-07T06:59:20.006040",
     "status": "completed"
    },
    "tags": []
   },
   "outputs": [],
   "source": [
    "import ABC_train_test2\n",
    "import friedman1Dataset\n",
    "import network\n",
    "import dataset\n",
    "import sanityChecks\n",
    "import torch \n",
    "import scrapbook as sb\n",
    "from statistics import mean \n",
    "import catboost as ctb \n",
    "from sklearn.model_selection import train_test_split\n",
    "from sklearn.metrics import mean_squared_error,mean_absolute_error\n",
    "import numpy as np"
   ]
  },
  {
   "cell_type": "markdown",
   "id": "2fa5b0f7",
   "metadata": {
    "id": "2fa5b0f7",
    "papermill": {
     "duration": 0.006825,
     "end_time": "2022-06-07T06:59:21.992516",
     "exception": false,
     "start_time": "2022-06-07T06:59:21.985691",
     "status": "completed"
    },
    "tags": []
   },
   "source": [
    "## Parameters "
   ]
  },
  {
   "cell_type": "code",
   "execution_count": 3,
   "id": "783186fb",
   "metadata": {
    "execution": {
     "iopub.execute_input": "2022-06-07T06:59:22.008301Z",
     "iopub.status.busy": "2022-06-07T06:59:22.007930Z",
     "iopub.status.idle": "2022-06-07T06:59:22.009249Z",
     "shell.execute_reply": "2022-06-07T06:59:22.009504Z"
    },
    "id": "783186fb",
    "papermill": {
     "duration": 0.010327,
     "end_time": "2022-06-07T06:59:22.009613",
     "exception": false,
     "start_time": "2022-06-07T06:59:21.999286",
     "status": "completed"
    },
    "tags": [
     "parameters"
    ]
   },
   "outputs": [],
   "source": [
    "variance = 1\n",
    "bias = 1 "
   ]
  },
  {
   "cell_type": "code",
   "execution_count": 4,
   "id": "8e9f3426",
   "metadata": {
    "execution": {
     "iopub.execute_input": "2022-06-07T06:59:22.025253Z",
     "iopub.status.busy": "2022-06-07T06:59:22.024881Z",
     "iopub.status.idle": "2022-06-07T06:59:22.026158Z",
     "shell.execute_reply": "2022-06-07T06:59:22.026403Z"
    },
    "papermill": {
     "duration": 0.00997,
     "end_time": "2022-06-07T06:59:22.026506",
     "exception": false,
     "start_time": "2022-06-07T06:59:22.016536",
     "status": "completed"
    },
    "tags": [
     "injected-parameters"
    ]
   },
   "outputs": [],
   "source": [
    "# Parameters\n",
    "variance = 1\n",
    "bias = 0.1\n"
   ]
  },
  {
   "cell_type": "markdown",
   "id": "391cdbfd",
   "metadata": {
    "id": "391cdbfd",
    "papermill": {
     "duration": 0.006786,
     "end_time": "2022-06-07T06:59:22.040232",
     "exception": false,
     "start_time": "2022-06-07T06:59:22.033446",
     "status": "completed"
    },
    "tags": []
   },
   "source": [
    "## Dataset \n"
   ]
  },
  {
   "cell_type": "code",
   "execution_count": 5,
   "id": "5b51f161",
   "metadata": {
    "execution": {
     "iopub.execute_input": "2022-06-07T06:59:22.055944Z",
     "iopub.status.busy": "2022-06-07T06:59:22.055529Z",
     "iopub.status.idle": "2022-06-07T06:59:22.056753Z",
     "shell.execute_reply": "2022-06-07T06:59:22.056986Z"
    },
    "id": "5b51f161",
    "papermill": {
     "duration": 0.00999,
     "end_time": "2022-06-07T06:59:22.057101",
     "exception": false,
     "start_time": "2022-06-07T06:59:22.047111",
     "status": "completed"
    },
    "tags": []
   },
   "outputs": [],
   "source": [
    "#Parameters \n",
    "n_features = 5\n",
    "n_samples= 100\n",
    "n_target = 1 "
   ]
  },
  {
   "cell_type": "code",
   "execution_count": 6,
   "id": "5d6eced4",
   "metadata": {
    "execution": {
     "iopub.execute_input": "2022-06-07T06:59:22.073228Z",
     "iopub.status.busy": "2022-06-07T06:59:22.072863Z",
     "iopub.status.idle": "2022-06-07T06:59:22.079018Z",
     "shell.execute_reply": "2022-06-07T06:59:22.079263Z"
    },
    "id": "5d6eced4",
    "papermill": {
     "duration": 0.015253,
     "end_time": "2022-06-07T06:59:22.079377",
     "exception": false,
     "start_time": "2022-06-07T06:59:22.064124",
     "status": "completed"
    },
    "tags": []
   },
   "outputs": [
    {
     "name": "stdout",
     "output_type": "stream",
     "text": [
      "         X0        X1        X2        X3        X4         Y\n",
      "0  0.113035  1.252588  1.010707 -0.368931  1.179014  1.035234\n",
      "1  1.397497  0.848936 -0.392688  1.192843  1.030434  1.340546\n",
      "2  1.602183  1.525231 -1.693747  0.699898  0.670046  0.757055\n",
      "3 -0.368995 -0.245316  1.175555 -0.498509  0.512116 -0.081864\n",
      "4  1.002333  0.958569  0.517879  0.820215 -0.916125  0.767870\n"
     ]
    }
   ],
   "source": [
    "X,Y = friedman1Dataset.friedman1_data(n_samples,n_features)"
   ]
  },
  {
   "cell_type": "code",
   "execution_count": 7,
   "id": "fe007438",
   "metadata": {
    "execution": {
     "iopub.execute_input": "2022-06-07T06:59:22.096561Z",
     "iopub.status.busy": "2022-06-07T06:59:22.096198Z",
     "iopub.status.idle": "2022-06-07T06:59:22.097633Z",
     "shell.execute_reply": "2022-06-07T06:59:22.097938Z"
    },
    "id": "fe007438",
    "papermill": {
     "duration": 0.011259,
     "end_time": "2022-06-07T06:59:22.098047",
     "exception": false,
     "start_time": "2022-06-07T06:59:22.086788",
     "status": "completed"
    },
    "tags": []
   },
   "outputs": [],
   "source": [
    "#Train test split for dataset \n",
    "X_train,X_test,Y_train,Y_test = train_test_split(X,Y,test_size = 0.2)\n",
    "train_data = dataset.CustomDataset(X_train,Y_train)\n",
    "test_data = dataset.CustomDataset(X_test,Y_test)\n"
   ]
  },
  {
   "cell_type": "markdown",
   "id": "a9a1af34",
   "metadata": {
    "id": "a9a1af34",
    "papermill": {
     "duration": 0.007105,
     "end_time": "2022-06-07T06:59:22.112396",
     "exception": false,
     "start_time": "2022-06-07T06:59:22.105291",
     "status": "completed"
    },
    "tags": []
   },
   "source": [
    "## Training Parameters "
   ]
  },
  {
   "cell_type": "code",
   "execution_count": 8,
   "id": "952b7fc8",
   "metadata": {
    "execution": {
     "iopub.execute_input": "2022-06-07T06:59:22.128946Z",
     "iopub.status.busy": "2022-06-07T06:59:22.128565Z",
     "iopub.status.idle": "2022-06-07T06:59:22.129863Z",
     "shell.execute_reply": "2022-06-07T06:59:22.130116Z"
    },
    "id": "952b7fc8",
    "papermill": {
     "duration": 0.010728,
     "end_time": "2022-06-07T06:59:22.130219",
     "exception": false,
     "start_time": "2022-06-07T06:59:22.119491",
     "status": "completed"
    },
    "tags": []
   },
   "outputs": [],
   "source": [
    "batch_size = 32\n",
    "n_epochs = 1000\n",
    "#Select the device \n",
    "device = torch.device('cuda' if torch.cuda.is_available() else 'cpu')"
   ]
  },
  {
   "cell_type": "markdown",
   "id": "a95e1600",
   "metadata": {
    "id": "a95e1600",
    "papermill": {
     "duration": 0.00706,
     "end_time": "2022-06-07T06:59:22.144471",
     "exception": false,
     "start_time": "2022-06-07T06:59:22.137411",
     "status": "completed"
    },
    "tags": []
   },
   "source": [
    "# ABC Pre-generator Model \n",
    "\n",
    "1. The catboost model is used as a pre-generator model for the ABC-GAN. \n",
    "2. The model is first trained on the entire dataset \n",
    "3. It generats X,Y pairs and we add some Gaussian noise with mean 0 and variance 1 to it which is then feed as input to the generator.\n"
   ]
  },
  {
   "cell_type": "code",
   "execution_count": 9,
   "id": "ff8ce7bd",
   "metadata": {
    "execution": {
     "iopub.execute_input": "2022-06-07T06:59:22.162987Z",
     "iopub.status.busy": "2022-06-07T06:59:22.162601Z",
     "iopub.status.idle": "2022-06-07T06:59:22.844911Z",
     "shell.execute_reply": "2022-06-07T06:59:22.845216Z"
    },
    "id": "ff8ce7bd",
    "papermill": {
     "duration": 0.693696,
     "end_time": "2022-06-07T06:59:22.845337",
     "exception": false,
     "start_time": "2022-06-07T06:59:22.151641",
     "status": "completed"
    },
    "tags": []
   },
   "outputs": [
    {
     "name": "stdout",
     "output_type": "stream",
     "text": [
      "Learning rate set to 0.024897\n",
      "0:\tlearn: 1.0079371\ttotal: 57.3ms\tremaining: 57.3s\n",
      "1:\tlearn: 0.9983413\ttotal: 57.8ms\tremaining: 28.9s\n",
      "2:\tlearn: 0.9880889\ttotal: 58.4ms\tremaining: 19.4s\n",
      "3:\tlearn: 0.9777849\ttotal: 59ms\tremaining: 14.7s\n",
      "4:\tlearn: 0.9683758\ttotal: 59.4ms\tremaining: 11.8s\n",
      "5:\tlearn: 0.9584290\ttotal: 60.4ms\tremaining: 10s\n",
      "6:\tlearn: 0.9465554\ttotal: 61.7ms\tremaining: 8.75s\n",
      "7:\tlearn: 0.9350950\ttotal: 62.2ms\tremaining: 7.71s\n",
      "8:\tlearn: 0.9261482\ttotal: 62.7ms\tremaining: 6.91s\n",
      "9:\tlearn: 0.9171164\ttotal: 63.5ms\tremaining: 6.28s\n",
      "10:\tlearn: 0.9088693\ttotal: 64.2ms\tremaining: 5.77s\n",
      "11:\tlearn: 0.8980408\ttotal: 64.7ms\tremaining: 5.33s\n",
      "12:\tlearn: 0.8886247\ttotal: 65.2ms\tremaining: 4.95s\n",
      "13:\tlearn: 0.8795631\ttotal: 65.7ms\tremaining: 4.63s\n",
      "14:\tlearn: 0.8714184\ttotal: 66.2ms\tremaining: 4.34s\n",
      "15:\tlearn: 0.8624512\ttotal: 66.6ms\tremaining: 4.09s\n",
      "16:\tlearn: 0.8545692\ttotal: 67.2ms\tremaining: 3.89s\n",
      "17:\tlearn: 0.8474490\ttotal: 67.8ms\tremaining: 3.7s\n",
      "18:\tlearn: 0.8375061\ttotal: 68.2ms\tremaining: 3.52s\n",
      "19:\tlearn: 0.8284618\ttotal: 68.7ms\tremaining: 3.36s\n",
      "20:\tlearn: 0.8202753\ttotal: 69.1ms\tremaining: 3.22s\n",
      "21:\tlearn: 0.8110853\ttotal: 69.5ms\tremaining: 3.09s\n",
      "22:\tlearn: 0.8038843\ttotal: 69.9ms\tremaining: 2.97s\n",
      "23:\tlearn: 0.7978916\ttotal: 70.4ms\tremaining: 2.86s\n",
      "24:\tlearn: 0.7913952\ttotal: 70.8ms\tremaining: 2.76s\n",
      "25:\tlearn: 0.7833377\ttotal: 71.5ms\tremaining: 2.68s\n",
      "26:\tlearn: 0.7762772\ttotal: 72ms\tremaining: 2.59s\n",
      "27:\tlearn: 0.7668017\ttotal: 72.5ms\tremaining: 2.52s\n",
      "28:\tlearn: 0.7594491\ttotal: 72.9ms\tremaining: 2.44s\n",
      "29:\tlearn: 0.7530152\ttotal: 73.6ms\tremaining: 2.38s\n",
      "30:\tlearn: 0.7452905\ttotal: 74.1ms\tremaining: 2.31s\n",
      "31:\tlearn: 0.7378594\ttotal: 74.6ms\tremaining: 2.26s\n",
      "32:\tlearn: 0.7308843\ttotal: 75.1ms\tremaining: 2.2s\n",
      "33:\tlearn: 0.7242271\ttotal: 75.6ms\tremaining: 2.15s\n",
      "34:\tlearn: 0.7169374\ttotal: 76ms\tremaining: 2.1s\n",
      "35:\tlearn: 0.7094982\ttotal: 76.5ms\tremaining: 2.05s\n",
      "36:\tlearn: 0.7010204\ttotal: 76.9ms\tremaining: 2s\n",
      "37:\tlearn: 0.6955862\ttotal: 77.5ms\tremaining: 1.96s\n",
      "38:\tlearn: 0.6881118\ttotal: 77.9ms\tremaining: 1.92s\n",
      "39:\tlearn: 0.6820164\ttotal: 78.3ms\tremaining: 1.88s\n",
      "40:\tlearn: 0.6757815\ttotal: 80.3ms\tremaining: 1.88s\n",
      "41:\tlearn: 0.6694012\ttotal: 80.7ms\tremaining: 1.84s\n",
      "42:\tlearn: 0.6634441\ttotal: 81.2ms\tremaining: 1.81s\n",
      "43:\tlearn: 0.6579451\ttotal: 81.8ms\tremaining: 1.78s\n",
      "44:\tlearn: 0.6520514\ttotal: 82.8ms\tremaining: 1.76s\n",
      "45:\tlearn: 0.6459516\ttotal: 83.2ms\tremaining: 1.73s\n",
      "46:\tlearn: 0.6391414\ttotal: 83.6ms\tremaining: 1.7s\n",
      "47:\tlearn: 0.6329794\ttotal: 84.5ms\tremaining: 1.68s\n",
      "48:\tlearn: 0.6276405\ttotal: 84.9ms\tremaining: 1.65s\n",
      "49:\tlearn: 0.6210525\ttotal: 85.7ms\tremaining: 1.63s\n",
      "50:\tlearn: 0.6141515\ttotal: 86.9ms\tremaining: 1.62s\n",
      "51:\tlearn: 0.6082555\ttotal: 87.3ms\tremaining: 1.59s\n",
      "52:\tlearn: 0.6031159\ttotal: 87.7ms\tremaining: 1.57s\n",
      "53:\tlearn: 0.5973028\ttotal: 88.2ms\tremaining: 1.54s\n",
      "54:\tlearn: 0.5918749\ttotal: 88.8ms\tremaining: 1.52s\n",
      "55:\tlearn: 0.5854313\ttotal: 89.1ms\tremaining: 1.5s\n",
      "56:\tlearn: 0.5797687\ttotal: 89.5ms\tremaining: 1.48s\n",
      "57:\tlearn: 0.5738885\ttotal: 90.1ms\tremaining: 1.46s\n",
      "58:\tlearn: 0.5688941\ttotal: 90.5ms\tremaining: 1.44s\n",
      "59:\tlearn: 0.5641036\ttotal: 91ms\tremaining: 1.43s\n",
      "60:\tlearn: 0.5591897\ttotal: 91.4ms\tremaining: 1.41s\n",
      "61:\tlearn: 0.5540180\ttotal: 91.8ms\tremaining: 1.39s\n",
      "62:\tlearn: 0.5492254\ttotal: 92.3ms\tremaining: 1.37s\n",
      "63:\tlearn: 0.5435911\ttotal: 92.7ms\tremaining: 1.36s\n",
      "64:\tlearn: 0.5383838\ttotal: 93.1ms\tremaining: 1.34s\n",
      "65:\tlearn: 0.5335713\ttotal: 93.9ms\tremaining: 1.33s\n",
      "66:\tlearn: 0.5287710\ttotal: 94.3ms\tremaining: 1.31s\n",
      "67:\tlearn: 0.5240513\ttotal: 94.9ms\tremaining: 1.3s\n",
      "68:\tlearn: 0.5200108\ttotal: 96.3ms\tremaining: 1.3s\n",
      "69:\tlearn: 0.5151698\ttotal: 96.8ms\tremaining: 1.28s\n",
      "70:\tlearn: 0.5103447\ttotal: 97.2ms\tremaining: 1.27s\n",
      "71:\tlearn: 0.5057383\ttotal: 97.6ms\tremaining: 1.26s\n",
      "72:\tlearn: 0.5009100\ttotal: 98.1ms\tremaining: 1.25s\n",
      "73:\tlearn: 0.4970237\ttotal: 98.6ms\tremaining: 1.23s\n",
      "74:\tlearn: 0.4926671\ttotal: 99.2ms\tremaining: 1.22s\n",
      "75:\tlearn: 0.4877415\ttotal: 99.8ms\tremaining: 1.21s\n",
      "76:\tlearn: 0.4839502\ttotal: 100ms\tremaining: 1.2s\n",
      "77:\tlearn: 0.4802413\ttotal: 101ms\tremaining: 1.19s\n",
      "78:\tlearn: 0.4760233\ttotal: 102ms\tremaining: 1.19s\n",
      "79:\tlearn: 0.4721121\ttotal: 103ms\tremaining: 1.18s\n",
      "80:\tlearn: 0.4671046\ttotal: 104ms\tremaining: 1.18s\n",
      "81:\tlearn: 0.4632743\ttotal: 104ms\tremaining: 1.17s\n",
      "82:\tlearn: 0.4595834\ttotal: 106ms\tremaining: 1.17s\n",
      "83:\tlearn: 0.4557579\ttotal: 107ms\tremaining: 1.16s\n",
      "84:\tlearn: 0.4517253\ttotal: 107ms\tremaining: 1.15s\n"
     ]
    },
    {
     "name": "stdout",
     "output_type": "stream",
     "text": [
      "85:\tlearn: 0.4479397\ttotal: 108ms\tremaining: 1.15s\n",
      "86:\tlearn: 0.4447761\ttotal: 109ms\tremaining: 1.14s\n",
      "87:\tlearn: 0.4414721\ttotal: 109ms\tremaining: 1.13s\n",
      "88:\tlearn: 0.4380186\ttotal: 110ms\tremaining: 1.12s\n",
      "89:\tlearn: 0.4343157\ttotal: 110ms\tremaining: 1.11s\n",
      "90:\tlearn: 0.4306496\ttotal: 111ms\tremaining: 1.1s\n",
      "91:\tlearn: 0.4270956\ttotal: 111ms\tremaining: 1.1s\n",
      "92:\tlearn: 0.4232350\ttotal: 112ms\tremaining: 1.09s\n",
      "93:\tlearn: 0.4194406\ttotal: 112ms\tremaining: 1.08s\n",
      "94:\tlearn: 0.4158810\ttotal: 112ms\tremaining: 1.07s\n",
      "95:\tlearn: 0.4124539\ttotal: 113ms\tremaining: 1.06s\n",
      "96:\tlearn: 0.4088773\ttotal: 114ms\tremaining: 1.06s\n",
      "97:\tlearn: 0.4056509\ttotal: 115ms\tremaining: 1.05s\n",
      "98:\tlearn: 0.4018269\ttotal: 115ms\tremaining: 1.05s\n",
      "99:\tlearn: 0.3983825\ttotal: 117ms\tremaining: 1.05s\n",
      "100:\tlearn: 0.3956223\ttotal: 117ms\tremaining: 1.04s\n",
      "101:\tlearn: 0.3925671\ttotal: 118ms\tremaining: 1.04s\n",
      "102:\tlearn: 0.3892448\ttotal: 119ms\tremaining: 1.03s\n",
      "103:\tlearn: 0.3858525\ttotal: 121ms\tremaining: 1.04s\n",
      "104:\tlearn: 0.3827206\ttotal: 122ms\tremaining: 1.04s\n",
      "105:\tlearn: 0.3793765\ttotal: 123ms\tremaining: 1.04s\n",
      "106:\tlearn: 0.3761158\ttotal: 124ms\tremaining: 1.03s\n",
      "107:\tlearn: 0.3725051\ttotal: 124ms\tremaining: 1.02s\n",
      "108:\tlearn: 0.3695826\ttotal: 124ms\tremaining: 1.02s\n",
      "109:\tlearn: 0.3665386\ttotal: 125ms\tremaining: 1.01s\n",
      "110:\tlearn: 0.3631806\ttotal: 125ms\tremaining: 1s\n",
      "111:\tlearn: 0.3598000\ttotal: 126ms\tremaining: 998ms\n",
      "112:\tlearn: 0.3572196\ttotal: 126ms\tremaining: 991ms\n",
      "113:\tlearn: 0.3546658\ttotal: 127ms\tremaining: 984ms\n",
      "114:\tlearn: 0.3516315\ttotal: 127ms\tremaining: 977ms\n",
      "115:\tlearn: 0.3486051\ttotal: 127ms\tremaining: 971ms\n",
      "116:\tlearn: 0.3459513\ttotal: 128ms\tremaining: 968ms\n",
      "117:\tlearn: 0.3430797\ttotal: 129ms\tremaining: 962ms\n",
      "118:\tlearn: 0.3404403\ttotal: 129ms\tremaining: 956ms\n",
      "119:\tlearn: 0.3378442\ttotal: 129ms\tremaining: 949ms\n",
      "120:\tlearn: 0.3349907\ttotal: 130ms\tremaining: 943ms\n",
      "121:\tlearn: 0.3322114\ttotal: 130ms\tremaining: 937ms\n",
      "122:\tlearn: 0.3298536\ttotal: 131ms\tremaining: 931ms\n",
      "123:\tlearn: 0.3270442\ttotal: 131ms\tremaining: 924ms\n",
      "124:\tlearn: 0.3245880\ttotal: 131ms\tremaining: 919ms\n",
      "125:\tlearn: 0.3217418\ttotal: 132ms\tremaining: 915ms\n",
      "126:\tlearn: 0.3193898\ttotal: 132ms\tremaining: 909ms\n",
      "127:\tlearn: 0.3168603\ttotal: 133ms\tremaining: 905ms\n",
      "128:\tlearn: 0.3143151\ttotal: 133ms\tremaining: 900ms\n",
      "129:\tlearn: 0.3120907\ttotal: 134ms\tremaining: 896ms\n",
      "130:\tlearn: 0.3099249\ttotal: 135ms\tremaining: 896ms\n",
      "131:\tlearn: 0.3077096\ttotal: 136ms\tremaining: 893ms\n",
      "132:\tlearn: 0.3051661\ttotal: 137ms\tremaining: 891ms\n",
      "133:\tlearn: 0.3030231\ttotal: 138ms\tremaining: 892ms\n",
      "134:\tlearn: 0.3005462\ttotal: 138ms\tremaining: 887ms\n",
      "135:\tlearn: 0.2981516\ttotal: 139ms\tremaining: 883ms\n",
      "136:\tlearn: 0.2958639\ttotal: 140ms\tremaining: 883ms\n",
      "137:\tlearn: 0.2933626\ttotal: 142ms\tremaining: 888ms\n",
      "138:\tlearn: 0.2911577\ttotal: 143ms\tremaining: 887ms\n",
      "139:\tlearn: 0.2890604\ttotal: 144ms\tremaining: 882ms\n",
      "140:\tlearn: 0.2867130\ttotal: 144ms\tremaining: 878ms\n",
      "141:\tlearn: 0.2845678\ttotal: 144ms\tremaining: 873ms\n",
      "142:\tlearn: 0.2820251\ttotal: 145ms\tremaining: 868ms\n",
      "143:\tlearn: 0.2799849\ttotal: 145ms\tremaining: 863ms\n",
      "144:\tlearn: 0.2780119\ttotal: 146ms\tremaining: 858ms\n",
      "145:\tlearn: 0.2756326\ttotal: 146ms\tremaining: 854ms\n",
      "146:\tlearn: 0.2733122\ttotal: 148ms\tremaining: 857ms\n",
      "147:\tlearn: 0.2711442\ttotal: 148ms\tremaining: 853ms\n",
      "148:\tlearn: 0.2689412\ttotal: 149ms\tremaining: 848ms\n",
      "149:\tlearn: 0.2666601\ttotal: 149ms\tremaining: 844ms\n",
      "150:\tlearn: 0.2647176\ttotal: 149ms\tremaining: 840ms\n",
      "151:\tlearn: 0.2624372\ttotal: 150ms\tremaining: 836ms\n",
      "152:\tlearn: 0.2602567\ttotal: 150ms\tremaining: 831ms\n",
      "153:\tlearn: 0.2585632\ttotal: 152ms\tremaining: 837ms\n",
      "154:\tlearn: 0.2567841\ttotal: 153ms\tremaining: 834ms\n",
      "155:\tlearn: 0.2549331\ttotal: 153ms\tremaining: 830ms\n",
      "156:\tlearn: 0.2533770\ttotal: 154ms\tremaining: 826ms\n",
      "157:\tlearn: 0.2514274\ttotal: 154ms\tremaining: 822ms\n",
      "158:\tlearn: 0.2496577\ttotal: 155ms\tremaining: 818ms\n",
      "159:\tlearn: 0.2476321\ttotal: 155ms\tremaining: 815ms\n",
      "160:\tlearn: 0.2459228\ttotal: 156ms\tremaining: 811ms\n",
      "161:\tlearn: 0.2439202\ttotal: 156ms\tremaining: 807ms\n",
      "162:\tlearn: 0.2423142\ttotal: 156ms\tremaining: 804ms\n",
      "163:\tlearn: 0.2405318\ttotal: 157ms\tremaining: 800ms\n",
      "164:\tlearn: 0.2389627\ttotal: 157ms\tremaining: 797ms\n",
      "165:\tlearn: 0.2372287\ttotal: 158ms\tremaining: 793ms\n",
      "166:\tlearn: 0.2358332\ttotal: 159ms\tremaining: 792ms\n",
      "167:\tlearn: 0.2341266\ttotal: 159ms\tremaining: 788ms\n",
      "168:\tlearn: 0.2324827\ttotal: 160ms\tremaining: 785ms\n",
      "169:\tlearn: 0.2303306\ttotal: 160ms\tremaining: 781ms\n",
      "170:\tlearn: 0.2288491\ttotal: 160ms\tremaining: 777ms\n",
      "171:\tlearn: 0.2271461\ttotal: 161ms\tremaining: 774ms\n",
      "172:\tlearn: 0.2254668\ttotal: 161ms\tremaining: 770ms\n",
      "173:\tlearn: 0.2238151\ttotal: 162ms\tremaining: 767ms\n",
      "174:\tlearn: 0.2223289\ttotal: 162ms\tremaining: 763ms\n",
      "175:\tlearn: 0.2206616\ttotal: 162ms\tremaining: 760ms\n",
      "176:\tlearn: 0.2192008\ttotal: 164ms\tremaining: 765ms\n",
      "177:\tlearn: 0.2176657\ttotal: 165ms\tremaining: 762ms\n",
      "178:\tlearn: 0.2161857\ttotal: 166ms\tremaining: 762ms\n",
      "179:\tlearn: 0.2145848\ttotal: 167ms\tremaining: 762ms\n",
      "180:\tlearn: 0.2131185\ttotal: 168ms\tremaining: 759ms\n",
      "181:\tlearn: 0.2116339\ttotal: 168ms\tremaining: 756ms\n",
      "182:\tlearn: 0.2102528\ttotal: 169ms\tremaining: 753ms\n",
      "183:\tlearn: 0.2085159\ttotal: 169ms\tremaining: 749ms\n",
      "184:\tlearn: 0.2069004\ttotal: 169ms\tremaining: 746ms\n",
      "185:\tlearn: 0.2054782\ttotal: 170ms\tremaining: 745ms\n",
      "186:\tlearn: 0.2039361\ttotal: 171ms\tremaining: 742ms\n",
      "187:\tlearn: 0.2024622\ttotal: 172ms\tremaining: 743ms\n",
      "188:\tlearn: 0.2012353\ttotal: 172ms\tremaining: 740ms\n",
      "189:\tlearn: 0.1995106\ttotal: 173ms\tremaining: 737ms\n",
      "190:\tlearn: 0.1979353\ttotal: 174ms\tremaining: 735ms\n",
      "191:\tlearn: 0.1964535\ttotal: 175ms\tremaining: 737ms\n",
      "192:\tlearn: 0.1948051\ttotal: 176ms\tremaining: 734ms\n",
      "193:\tlearn: 0.1935329\ttotal: 176ms\tremaining: 733ms\n",
      "194:\tlearn: 0.1923442\ttotal: 177ms\tremaining: 730ms\n",
      "195:\tlearn: 0.1909011\ttotal: 177ms\tremaining: 728ms\n",
      "196:\tlearn: 0.1895130\ttotal: 180ms\tremaining: 735ms\n",
      "197:\tlearn: 0.1885855\ttotal: 181ms\tremaining: 732ms\n",
      "198:\tlearn: 0.1870562\ttotal: 181ms\tremaining: 729ms\n",
      "199:\tlearn: 0.1856143\ttotal: 181ms\tremaining: 726ms\n",
      "200:\tlearn: 0.1844830\ttotal: 182ms\tremaining: 725ms\n",
      "201:\tlearn: 0.1831664\ttotal: 185ms\tremaining: 731ms\n",
      "202:\tlearn: 0.1817239\ttotal: 185ms\tremaining: 728ms\n",
      "203:\tlearn: 0.1806496\ttotal: 186ms\tremaining: 726ms\n",
      "204:\tlearn: 0.1791952\ttotal: 187ms\tremaining: 724ms\n",
      "205:\tlearn: 0.1780258\ttotal: 187ms\tremaining: 721ms\n",
      "206:\tlearn: 0.1769775\ttotal: 188ms\tremaining: 719ms\n",
      "207:\tlearn: 0.1757779\ttotal: 189ms\tremaining: 719ms\n",
      "208:\tlearn: 0.1745177\ttotal: 189ms\tremaining: 716ms\n"
     ]
    },
    {
     "name": "stdout",
     "output_type": "stream",
     "text": [
      "209:\tlearn: 0.1732973\ttotal: 190ms\tremaining: 714ms\n",
      "210:\tlearn: 0.1722033\ttotal: 190ms\tremaining: 712ms\n",
      "211:\tlearn: 0.1713864\ttotal: 191ms\tremaining: 709ms\n",
      "212:\tlearn: 0.1702889\ttotal: 191ms\tremaining: 707ms\n",
      "213:\tlearn: 0.1688756\ttotal: 192ms\tremaining: 707ms\n",
      "214:\tlearn: 0.1679069\ttotal: 193ms\tremaining: 704ms\n",
      "215:\tlearn: 0.1668542\ttotal: 194ms\tremaining: 705ms\n",
      "216:\tlearn: 0.1659012\ttotal: 195ms\tremaining: 702ms\n",
      "217:\tlearn: 0.1649172\ttotal: 195ms\tremaining: 701ms\n",
      "218:\tlearn: 0.1637257\ttotal: 196ms\tremaining: 699ms\n",
      "219:\tlearn: 0.1626315\ttotal: 198ms\tremaining: 702ms\n",
      "220:\tlearn: 0.1616352\ttotal: 199ms\tremaining: 700ms\n",
      "221:\tlearn: 0.1604104\ttotal: 199ms\tremaining: 698ms\n",
      "222:\tlearn: 0.1594145\ttotal: 200ms\tremaining: 697ms\n",
      "223:\tlearn: 0.1581738\ttotal: 201ms\tremaining: 695ms\n",
      "224:\tlearn: 0.1571260\ttotal: 201ms\tremaining: 693ms\n",
      "225:\tlearn: 0.1561563\ttotal: 201ms\tremaining: 690ms\n",
      "226:\tlearn: 0.1552294\ttotal: 202ms\tremaining: 687ms\n",
      "227:\tlearn: 0.1540725\ttotal: 202ms\tremaining: 684ms\n",
      "228:\tlearn: 0.1530095\ttotal: 203ms\tremaining: 682ms\n",
      "229:\tlearn: 0.1520671\ttotal: 203ms\tremaining: 680ms\n",
      "230:\tlearn: 0.1510754\ttotal: 204ms\tremaining: 678ms\n",
      "231:\tlearn: 0.1499165\ttotal: 204ms\tremaining: 676ms\n",
      "232:\tlearn: 0.1489050\ttotal: 205ms\tremaining: 674ms\n",
      "233:\tlearn: 0.1478348\ttotal: 205ms\tremaining: 671ms\n",
      "234:\tlearn: 0.1469213\ttotal: 206ms\tremaining: 669ms\n",
      "235:\tlearn: 0.1457211\ttotal: 206ms\tremaining: 667ms\n",
      "236:\tlearn: 0.1447970\ttotal: 206ms\tremaining: 665ms\n",
      "237:\tlearn: 0.1437641\ttotal: 207ms\tremaining: 662ms\n",
      "238:\tlearn: 0.1427668\ttotal: 207ms\tremaining: 660ms\n",
      "239:\tlearn: 0.1418590\ttotal: 209ms\tremaining: 662ms\n",
      "240:\tlearn: 0.1407396\ttotal: 213ms\tremaining: 671ms\n",
      "241:\tlearn: 0.1398011\ttotal: 215ms\tremaining: 673ms\n",
      "242:\tlearn: 0.1387785\ttotal: 216ms\tremaining: 671ms\n",
      "243:\tlearn: 0.1376275\ttotal: 216ms\tremaining: 669ms\n",
      "244:\tlearn: 0.1364768\ttotal: 217ms\tremaining: 667ms\n",
      "245:\tlearn: 0.1356554\ttotal: 218ms\tremaining: 669ms\n",
      "246:\tlearn: 0.1347062\ttotal: 221ms\tremaining: 673ms\n",
      "247:\tlearn: 0.1337368\ttotal: 221ms\tremaining: 670ms\n",
      "248:\tlearn: 0.1327795\ttotal: 221ms\tremaining: 668ms\n",
      "249:\tlearn: 0.1318595\ttotal: 222ms\tremaining: 665ms\n",
      "250:\tlearn: 0.1307848\ttotal: 222ms\tremaining: 663ms\n",
      "251:\tlearn: 0.1298342\ttotal: 222ms\tremaining: 660ms\n",
      "252:\tlearn: 0.1288640\ttotal: 225ms\tremaining: 663ms\n",
      "253:\tlearn: 0.1278590\ttotal: 225ms\tremaining: 661ms\n",
      "254:\tlearn: 0.1270752\ttotal: 225ms\tremaining: 659ms\n",
      "255:\tlearn: 0.1262901\ttotal: 226ms\tremaining: 657ms\n",
      "256:\tlearn: 0.1255177\ttotal: 227ms\tremaining: 655ms\n",
      "257:\tlearn: 0.1246534\ttotal: 227ms\tremaining: 653ms\n",
      "258:\tlearn: 0.1239054\ttotal: 228ms\tremaining: 651ms\n",
      "259:\tlearn: 0.1231105\ttotal: 230ms\tremaining: 654ms\n",
      "260:\tlearn: 0.1225076\ttotal: 230ms\tremaining: 652ms\n",
      "261:\tlearn: 0.1217534\ttotal: 231ms\tremaining: 650ms\n",
      "262:\tlearn: 0.1209431\ttotal: 231ms\tremaining: 648ms\n",
      "263:\tlearn: 0.1202520\ttotal: 232ms\tremaining: 646ms\n",
      "264:\tlearn: 0.1194420\ttotal: 234ms\tremaining: 648ms\n",
      "265:\tlearn: 0.1187900\ttotal: 234ms\tremaining: 646ms\n",
      "266:\tlearn: 0.1179746\ttotal: 235ms\tremaining: 644ms\n",
      "267:\tlearn: 0.1171274\ttotal: 236ms\tremaining: 644ms\n",
      "268:\tlearn: 0.1165246\ttotal: 236ms\tremaining: 641ms\n",
      "269:\tlearn: 0.1157650\ttotal: 236ms\tremaining: 639ms\n",
      "270:\tlearn: 0.1148468\ttotal: 237ms\tremaining: 637ms\n",
      "271:\tlearn: 0.1141117\ttotal: 237ms\tremaining: 634ms\n",
      "272:\tlearn: 0.1134403\ttotal: 239ms\tremaining: 637ms\n",
      "273:\tlearn: 0.1128431\ttotal: 240ms\tremaining: 635ms\n",
      "274:\tlearn: 0.1121276\ttotal: 241ms\tremaining: 636ms\n",
      "275:\tlearn: 0.1114120\ttotal: 242ms\tremaining: 634ms\n",
      "276:\tlearn: 0.1106314\ttotal: 242ms\tremaining: 632ms\n",
      "277:\tlearn: 0.1099385\ttotal: 242ms\tremaining: 629ms\n",
      "278:\tlearn: 0.1092691\ttotal: 243ms\tremaining: 627ms\n",
      "279:\tlearn: 0.1086745\ttotal: 243ms\tremaining: 625ms\n",
      "280:\tlearn: 0.1079578\ttotal: 244ms\tremaining: 623ms\n",
      "281:\tlearn: 0.1072567\ttotal: 244ms\tremaining: 621ms\n",
      "282:\tlearn: 0.1063411\ttotal: 245ms\tremaining: 619ms\n",
      "283:\tlearn: 0.1057840\ttotal: 245ms\tremaining: 618ms\n",
      "284:\tlearn: 0.1051203\ttotal: 245ms\tremaining: 616ms\n",
      "285:\tlearn: 0.1046164\ttotal: 246ms\tremaining: 615ms\n",
      "286:\tlearn: 0.1040926\ttotal: 247ms\tremaining: 613ms\n",
      "287:\tlearn: 0.1034629\ttotal: 247ms\tremaining: 611ms\n",
      "288:\tlearn: 0.1026550\ttotal: 248ms\tremaining: 609ms\n",
      "289:\tlearn: 0.1020641\ttotal: 248ms\tremaining: 607ms\n",
      "290:\tlearn: 0.1015001\ttotal: 248ms\tremaining: 605ms\n",
      "291:\tlearn: 0.1008513\ttotal: 249ms\tremaining: 603ms\n",
      "292:\tlearn: 0.1003540\ttotal: 250ms\tremaining: 603ms\n",
      "293:\tlearn: 0.0998169\ttotal: 250ms\tremaining: 601ms\n",
      "294:\tlearn: 0.0992335\ttotal: 251ms\tremaining: 599ms\n",
      "295:\tlearn: 0.0987069\ttotal: 251ms\tremaining: 597ms\n",
      "296:\tlearn: 0.0982250\ttotal: 251ms\tremaining: 595ms\n",
      "297:\tlearn: 0.0975251\ttotal: 253ms\tremaining: 595ms\n",
      "298:\tlearn: 0.0967799\ttotal: 253ms\tremaining: 593ms\n",
      "299:\tlearn: 0.0960186\ttotal: 254ms\tremaining: 594ms\n",
      "300:\tlearn: 0.0955959\ttotal: 255ms\tremaining: 592ms\n",
      "301:\tlearn: 0.0949562\ttotal: 256ms\tremaining: 592ms\n",
      "302:\tlearn: 0.0944696\ttotal: 258ms\tremaining: 593ms\n",
      "303:\tlearn: 0.0939832\ttotal: 260ms\tremaining: 595ms\n",
      "304:\tlearn: 0.0933804\ttotal: 260ms\tremaining: 593ms\n",
      "305:\tlearn: 0.0925529\ttotal: 262ms\tremaining: 593ms\n",
      "306:\tlearn: 0.0920662\ttotal: 262ms\tremaining: 591ms\n",
      "307:\tlearn: 0.0912546\ttotal: 262ms\tremaining: 590ms\n",
      "308:\tlearn: 0.0907731\ttotal: 263ms\tremaining: 588ms\n",
      "309:\tlearn: 0.0900821\ttotal: 265ms\tremaining: 591ms\n",
      "310:\tlearn: 0.0896157\ttotal: 266ms\tremaining: 589ms\n",
      "311:\tlearn: 0.0889423\ttotal: 266ms\tremaining: 587ms\n",
      "312:\tlearn: 0.0883581\ttotal: 267ms\tremaining: 585ms\n",
      "313:\tlearn: 0.0878201\ttotal: 267ms\tremaining: 583ms\n",
      "314:\tlearn: 0.0871429\ttotal: 267ms\tremaining: 581ms\n",
      "315:\tlearn: 0.0867760\ttotal: 268ms\tremaining: 580ms\n",
      "316:\tlearn: 0.0862331\ttotal: 268ms\tremaining: 578ms\n",
      "317:\tlearn: 0.0857215\ttotal: 269ms\tremaining: 576ms\n",
      "318:\tlearn: 0.0852085\ttotal: 269ms\tremaining: 574ms\n",
      "319:\tlearn: 0.0846994\ttotal: 269ms\tremaining: 573ms\n",
      "320:\tlearn: 0.0841950\ttotal: 270ms\tremaining: 571ms\n",
      "321:\tlearn: 0.0837057\ttotal: 270ms\tremaining: 569ms\n",
      "322:\tlearn: 0.0832224\ttotal: 270ms\tremaining: 567ms\n",
      "323:\tlearn: 0.0827661\ttotal: 271ms\tremaining: 565ms\n",
      "324:\tlearn: 0.0824042\ttotal: 271ms\tremaining: 564ms\n",
      "325:\tlearn: 0.0819866\ttotal: 272ms\tremaining: 562ms\n",
      "326:\tlearn: 0.0816561\ttotal: 272ms\tremaining: 561ms\n",
      "327:\tlearn: 0.0811946\ttotal: 273ms\tremaining: 559ms\n",
      "328:\tlearn: 0.0806798\ttotal: 273ms\tremaining: 558ms\n",
      "329:\tlearn: 0.0801699\ttotal: 274ms\tremaining: 556ms\n",
      "330:\tlearn: 0.0796805\ttotal: 274ms\tremaining: 554ms\n",
      "331:\tlearn: 0.0791930\ttotal: 276ms\tremaining: 556ms\n",
      "332:\tlearn: 0.0788217\ttotal: 277ms\tremaining: 554ms\n",
      "333:\tlearn: 0.0783505\ttotal: 277ms\tremaining: 553ms\n",
      "334:\tlearn: 0.0778092\ttotal: 277ms\tremaining: 551ms\n",
      "335:\tlearn: 0.0773524\ttotal: 278ms\tremaining: 549ms\n",
      "336:\tlearn: 0.0770777\ttotal: 278ms\tremaining: 547ms\n",
      "337:\tlearn: 0.0767065\ttotal: 279ms\tremaining: 547ms\n",
      "338:\tlearn: 0.0762541\ttotal: 280ms\tremaining: 545ms\n",
      "339:\tlearn: 0.0757185\ttotal: 280ms\tremaining: 544ms\n",
      "340:\tlearn: 0.0752252\ttotal: 281ms\tremaining: 543ms\n",
      "341:\tlearn: 0.0747680\ttotal: 282ms\tremaining: 542ms\n",
      "342:\tlearn: 0.0743809\ttotal: 282ms\tremaining: 540ms\n",
      "343:\tlearn: 0.0740700\ttotal: 282ms\tremaining: 538ms\n",
      "344:\tlearn: 0.0736749\ttotal: 284ms\tremaining: 539ms\n",
      "345:\tlearn: 0.0731653\ttotal: 284ms\tremaining: 537ms\n",
      "346:\tlearn: 0.0728391\ttotal: 285ms\tremaining: 536ms\n",
      "347:\tlearn: 0.0725134\ttotal: 286ms\tremaining: 535ms\n",
      "348:\tlearn: 0.0721013\ttotal: 286ms\tremaining: 533ms\n",
      "349:\tlearn: 0.0716752\ttotal: 286ms\tremaining: 532ms\n",
      "350:\tlearn: 0.0713464\ttotal: 287ms\tremaining: 530ms\n",
      "351:\tlearn: 0.0709335\ttotal: 287ms\tremaining: 529ms\n",
      "352:\tlearn: 0.0705424\ttotal: 288ms\tremaining: 527ms\n",
      "353:\tlearn: 0.0702024\ttotal: 288ms\tremaining: 525ms\n",
      "354:\tlearn: 0.0697930\ttotal: 289ms\tremaining: 526ms\n",
      "355:\tlearn: 0.0693531\ttotal: 290ms\tremaining: 524ms\n",
      "356:\tlearn: 0.0688744\ttotal: 291ms\tremaining: 524ms\n",
      "357:\tlearn: 0.0686357\ttotal: 291ms\tremaining: 523ms\n",
      "358:\tlearn: 0.0684002\ttotal: 292ms\tremaining: 521ms\n",
      "359:\tlearn: 0.0680059\ttotal: 292ms\tremaining: 520ms\n",
      "360:\tlearn: 0.0676064\ttotal: 293ms\tremaining: 519ms\n",
      "361:\tlearn: 0.0673774\ttotal: 293ms\tremaining: 517ms\n",
      "362:\tlearn: 0.0670562\ttotal: 294ms\tremaining: 516ms\n",
      "363:\tlearn: 0.0666495\ttotal: 295ms\tremaining: 515ms\n",
      "364:\tlearn: 0.0662551\ttotal: 296ms\tremaining: 514ms\n",
      "365:\tlearn: 0.0658701\ttotal: 296ms\tremaining: 513ms\n"
     ]
    },
    {
     "name": "stdout",
     "output_type": "stream",
     "text": [
      "366:\tlearn: 0.0654122\ttotal: 296ms\tremaining: 511ms\n",
      "367:\tlearn: 0.0649694\ttotal: 297ms\tremaining: 510ms\n",
      "368:\tlearn: 0.0647523\ttotal: 297ms\tremaining: 508ms\n",
      "369:\tlearn: 0.0643676\ttotal: 298ms\tremaining: 507ms\n",
      "370:\tlearn: 0.0640078\ttotal: 298ms\tremaining: 506ms\n",
      "371:\tlearn: 0.0636551\ttotal: 299ms\tremaining: 505ms\n",
      "372:\tlearn: 0.0632949\ttotal: 300ms\tremaining: 504ms\n",
      "373:\tlearn: 0.0629521\ttotal: 300ms\tremaining: 503ms\n",
      "374:\tlearn: 0.0627485\ttotal: 301ms\tremaining: 501ms\n",
      "375:\tlearn: 0.0623764\ttotal: 301ms\tremaining: 500ms\n",
      "376:\tlearn: 0.0620121\ttotal: 302ms\tremaining: 498ms\n",
      "377:\tlearn: 0.0616638\ttotal: 302ms\tremaining: 497ms\n",
      "378:\tlearn: 0.0612467\ttotal: 304ms\tremaining: 498ms\n",
      "379:\tlearn: 0.0610514\ttotal: 304ms\tremaining: 496ms\n",
      "380:\tlearn: 0.0607618\ttotal: 305ms\tremaining: 495ms\n",
      "381:\tlearn: 0.0605712\ttotal: 305ms\tremaining: 494ms\n",
      "382:\tlearn: 0.0602879\ttotal: 306ms\tremaining: 492ms\n",
      "383:\tlearn: 0.0601018\ttotal: 306ms\tremaining: 492ms\n",
      "384:\tlearn: 0.0599187\ttotal: 307ms\tremaining: 490ms\n",
      "385:\tlearn: 0.0596419\ttotal: 307ms\tremaining: 489ms\n",
      "386:\tlearn: 0.0591673\ttotal: 308ms\tremaining: 487ms\n",
      "387:\tlearn: 0.0589901\ttotal: 308ms\tremaining: 486ms\n",
      "388:\tlearn: 0.0586588\ttotal: 310ms\tremaining: 487ms\n",
      "389:\tlearn: 0.0582594\ttotal: 310ms\tremaining: 485ms\n",
      "390:\tlearn: 0.0579382\ttotal: 311ms\tremaining: 484ms\n",
      "391:\tlearn: 0.0576226\ttotal: 311ms\tremaining: 482ms\n",
      "392:\tlearn: 0.0573638\ttotal: 311ms\tremaining: 481ms\n",
      "393:\tlearn: 0.0571952\ttotal: 312ms\tremaining: 480ms\n",
      "394:\tlearn: 0.0570473\ttotal: 313ms\tremaining: 479ms\n",
      "395:\tlearn: 0.0567953\ttotal: 313ms\tremaining: 478ms\n",
      "396:\tlearn: 0.0566323\ttotal: 314ms\tremaining: 477ms\n",
      "397:\tlearn: 0.0563609\ttotal: 314ms\tremaining: 475ms\n",
      "398:\tlearn: 0.0560576\ttotal: 315ms\tremaining: 474ms\n",
      "399:\tlearn: 0.0556827\ttotal: 317ms\tremaining: 476ms\n",
      "400:\tlearn: 0.0555258\ttotal: 319ms\tremaining: 477ms\n",
      "401:\tlearn: 0.0552329\ttotal: 320ms\tremaining: 475ms\n",
      "402:\tlearn: 0.0549936\ttotal: 320ms\tremaining: 474ms\n",
      "403:\tlearn: 0.0548571\ttotal: 321ms\tremaining: 473ms\n",
      "404:\tlearn: 0.0546017\ttotal: 321ms\tremaining: 471ms\n",
      "405:\tlearn: 0.0543123\ttotal: 321ms\tremaining: 470ms\n",
      "406:\tlearn: 0.0541799\ttotal: 322ms\tremaining: 469ms\n",
      "407:\tlearn: 0.0539326\ttotal: 322ms\tremaining: 468ms\n",
      "408:\tlearn: 0.0536495\ttotal: 323ms\tremaining: 466ms\n",
      "409:\tlearn: 0.0535046\ttotal: 323ms\tremaining: 465ms\n",
      "410:\tlearn: 0.0532650\ttotal: 324ms\tremaining: 464ms\n",
      "411:\tlearn: 0.0529884\ttotal: 324ms\tremaining: 463ms\n",
      "412:\tlearn: 0.0528634\ttotal: 325ms\tremaining: 461ms\n",
      "413:\tlearn: 0.0525772\ttotal: 325ms\tremaining: 460ms\n",
      "414:\tlearn: 0.0522341\ttotal: 326ms\tremaining: 459ms\n",
      "415:\tlearn: 0.0518954\ttotal: 326ms\tremaining: 458ms\n",
      "416:\tlearn: 0.0516310\ttotal: 327ms\tremaining: 457ms\n",
      "417:\tlearn: 0.0513682\ttotal: 327ms\tremaining: 455ms\n",
      "418:\tlearn: 0.0512248\ttotal: 328ms\tremaining: 454ms\n",
      "419:\tlearn: 0.0509516\ttotal: 328ms\tremaining: 453ms\n",
      "420:\tlearn: 0.0508191\ttotal: 328ms\tremaining: 452ms\n",
      "421:\tlearn: 0.0505957\ttotal: 329ms\tremaining: 450ms\n",
      "422:\tlearn: 0.0503355\ttotal: 329ms\tremaining: 449ms\n",
      "423:\tlearn: 0.0502209\ttotal: 330ms\tremaining: 448ms\n",
      "424:\tlearn: 0.0500936\ttotal: 330ms\tremaining: 447ms\n",
      "425:\tlearn: 0.0498390\ttotal: 331ms\tremaining: 446ms\n",
      "426:\tlearn: 0.0496253\ttotal: 331ms\tremaining: 445ms\n",
      "427:\tlearn: 0.0494928\ttotal: 332ms\tremaining: 443ms\n",
      "428:\tlearn: 0.0491818\ttotal: 332ms\tremaining: 442ms\n",
      "429:\tlearn: 0.0489356\ttotal: 333ms\tremaining: 441ms\n",
      "430:\tlearn: 0.0486950\ttotal: 333ms\tremaining: 440ms\n",
      "431:\tlearn: 0.0485876\ttotal: 334ms\tremaining: 439ms\n",
      "432:\tlearn: 0.0483375\ttotal: 334ms\tremaining: 438ms\n",
      "433:\tlearn: 0.0481833\ttotal: 335ms\tremaining: 437ms\n",
      "434:\tlearn: 0.0479838\ttotal: 335ms\tremaining: 435ms\n",
      "435:\tlearn: 0.0477483\ttotal: 336ms\tremaining: 434ms\n",
      "436:\tlearn: 0.0475954\ttotal: 336ms\tremaining: 433ms\n",
      "437:\tlearn: 0.0474681\ttotal: 337ms\tremaining: 432ms\n",
      "438:\tlearn: 0.0471864\ttotal: 337ms\tremaining: 431ms\n",
      "439:\tlearn: 0.0470732\ttotal: 338ms\tremaining: 430ms\n",
      "440:\tlearn: 0.0467878\ttotal: 338ms\tremaining: 429ms\n",
      "441:\tlearn: 0.0465788\ttotal: 339ms\tremaining: 428ms\n",
      "442:\tlearn: 0.0463817\ttotal: 339ms\tremaining: 427ms\n",
      "443:\tlearn: 0.0461588\ttotal: 340ms\tremaining: 426ms\n",
      "444:\tlearn: 0.0458918\ttotal: 340ms\tremaining: 424ms\n",
      "445:\tlearn: 0.0456306\ttotal: 341ms\tremaining: 423ms\n",
      "446:\tlearn: 0.0454885\ttotal: 341ms\tremaining: 422ms\n",
      "447:\tlearn: 0.0452844\ttotal: 342ms\tremaining: 421ms\n",
      "448:\tlearn: 0.0450313\ttotal: 342ms\tremaining: 420ms\n",
      "449:\tlearn: 0.0448801\ttotal: 342ms\tremaining: 418ms\n",
      "450:\tlearn: 0.0446639\ttotal: 343ms\tremaining: 417ms\n",
      "451:\tlearn: 0.0444986\ttotal: 343ms\tremaining: 416ms\n",
      "452:\tlearn: 0.0443025\ttotal: 343ms\tremaining: 415ms\n",
      "453:\tlearn: 0.0441603\ttotal: 344ms\tremaining: 413ms\n",
      "454:\tlearn: 0.0439074\ttotal: 344ms\tremaining: 412ms\n",
      "455:\tlearn: 0.0437690\ttotal: 345ms\tremaining: 411ms\n",
      "456:\tlearn: 0.0435742\ttotal: 345ms\tremaining: 410ms\n",
      "457:\tlearn: 0.0434215\ttotal: 345ms\tremaining: 409ms\n",
      "458:\tlearn: 0.0432726\ttotal: 346ms\tremaining: 408ms\n",
      "459:\tlearn: 0.0430827\ttotal: 346ms\tremaining: 407ms\n",
      "460:\tlearn: 0.0428410\ttotal: 348ms\tremaining: 407ms\n",
      "461:\tlearn: 0.0426886\ttotal: 348ms\tremaining: 406ms\n",
      "462:\tlearn: 0.0425139\ttotal: 349ms\tremaining: 405ms\n",
      "463:\tlearn: 0.0422834\ttotal: 349ms\tremaining: 404ms\n",
      "464:\tlearn: 0.0421547\ttotal: 350ms\tremaining: 403ms\n",
      "465:\tlearn: 0.0419757\ttotal: 351ms\tremaining: 402ms\n",
      "466:\tlearn: 0.0418212\ttotal: 351ms\tremaining: 401ms\n",
      "467:\tlearn: 0.0415897\ttotal: 352ms\tremaining: 400ms\n",
      "468:\tlearn: 0.0413663\ttotal: 352ms\tremaining: 399ms\n",
      "469:\tlearn: 0.0412473\ttotal: 353ms\tremaining: 398ms\n",
      "470:\tlearn: 0.0411400\ttotal: 354ms\tremaining: 397ms\n",
      "471:\tlearn: 0.0410344\ttotal: 354ms\tremaining: 396ms\n",
      "472:\tlearn: 0.0409324\ttotal: 355ms\tremaining: 395ms\n",
      "473:\tlearn: 0.0407346\ttotal: 355ms\tremaining: 394ms\n",
      "474:\tlearn: 0.0405114\ttotal: 355ms\tremaining: 393ms\n",
      "475:\tlearn: 0.0404121\ttotal: 356ms\tremaining: 392ms\n",
      "476:\tlearn: 0.0403042\ttotal: 356ms\tremaining: 390ms\n",
      "477:\tlearn: 0.0401129\ttotal: 357ms\tremaining: 390ms\n",
      "478:\tlearn: 0.0398955\ttotal: 361ms\tremaining: 392ms\n",
      "479:\tlearn: 0.0397951\ttotal: 361ms\tremaining: 391ms\n",
      "480:\tlearn: 0.0396965\ttotal: 361ms\tremaining: 390ms\n",
      "481:\tlearn: 0.0395592\ttotal: 362ms\tremaining: 389ms\n",
      "482:\tlearn: 0.0393471\ttotal: 362ms\tremaining: 387ms\n",
      "483:\tlearn: 0.0392508\ttotal: 362ms\tremaining: 386ms\n",
      "484:\tlearn: 0.0391563\ttotal: 363ms\tremaining: 385ms\n",
      "485:\tlearn: 0.0390234\ttotal: 363ms\tremaining: 384ms\n",
      "486:\tlearn: 0.0388064\ttotal: 364ms\tremaining: 383ms\n",
      "487:\tlearn: 0.0386272\ttotal: 364ms\tremaining: 382ms\n",
      "488:\tlearn: 0.0384200\ttotal: 365ms\tremaining: 381ms\n",
      "489:\tlearn: 0.0383290\ttotal: 366ms\tremaining: 380ms\n",
      "490:\tlearn: 0.0381549\ttotal: 366ms\tremaining: 379ms\n",
      "491:\tlearn: 0.0379965\ttotal: 368ms\tremaining: 380ms\n",
      "492:\tlearn: 0.0379078\ttotal: 368ms\tremaining: 378ms\n",
      "493:\tlearn: 0.0377358\ttotal: 370ms\tremaining: 379ms\n",
      "494:\tlearn: 0.0375955\ttotal: 370ms\tremaining: 378ms\n",
      "495:\tlearn: 0.0374483\ttotal: 371ms\tremaining: 377ms\n",
      "496:\tlearn: 0.0372378\ttotal: 371ms\tremaining: 376ms\n",
      "497:\tlearn: 0.0370729\ttotal: 373ms\tremaining: 376ms\n",
      "498:\tlearn: 0.0369482\ttotal: 374ms\tremaining: 375ms\n",
      "499:\tlearn: 0.0367985\ttotal: 375ms\tremaining: 375ms\n",
      "500:\tlearn: 0.0366778\ttotal: 376ms\tremaining: 374ms\n",
      "501:\tlearn: 0.0364851\ttotal: 376ms\tremaining: 373ms\n"
     ]
    },
    {
     "name": "stdout",
     "output_type": "stream",
     "text": [
      "502:\tlearn: 0.0362460\ttotal: 377ms\tremaining: 372ms\n",
      "503:\tlearn: 0.0360457\ttotal: 377ms\tremaining: 371ms\n",
      "504:\tlearn: 0.0359022\ttotal: 377ms\tremaining: 370ms\n",
      "505:\tlearn: 0.0356693\ttotal: 378ms\tremaining: 369ms\n",
      "506:\tlearn: 0.0354805\ttotal: 378ms\tremaining: 368ms\n",
      "507:\tlearn: 0.0353285\ttotal: 379ms\tremaining: 367ms\n",
      "508:\tlearn: 0.0352237\ttotal: 380ms\tremaining: 366ms\n",
      "509:\tlearn: 0.0350443\ttotal: 380ms\tremaining: 365ms\n",
      "510:\tlearn: 0.0348200\ttotal: 381ms\tremaining: 365ms\n",
      "511:\tlearn: 0.0346391\ttotal: 382ms\tremaining: 364ms\n",
      "512:\tlearn: 0.0344853\ttotal: 382ms\tremaining: 363ms\n",
      "513:\tlearn: 0.0343250\ttotal: 385ms\tremaining: 364ms\n",
      "514:\tlearn: 0.0341281\ttotal: 386ms\tremaining: 363ms\n",
      "515:\tlearn: 0.0339775\ttotal: 386ms\tremaining: 362ms\n",
      "516:\tlearn: 0.0337626\ttotal: 386ms\tremaining: 361ms\n",
      "517:\tlearn: 0.0336153\ttotal: 387ms\tremaining: 360ms\n",
      "518:\tlearn: 0.0334282\ttotal: 387ms\tremaining: 359ms\n",
      "519:\tlearn: 0.0332851\ttotal: 388ms\tremaining: 358ms\n",
      "520:\tlearn: 0.0330963\ttotal: 389ms\tremaining: 357ms\n",
      "521:\tlearn: 0.0329538\ttotal: 389ms\tremaining: 356ms\n",
      "522:\tlearn: 0.0327478\ttotal: 389ms\tremaining: 355ms\n",
      "523:\tlearn: 0.0325641\ttotal: 390ms\tremaining: 354ms\n",
      "524:\tlearn: 0.0324251\ttotal: 390ms\tremaining: 353ms\n",
      "525:\tlearn: 0.0322468\ttotal: 391ms\tremaining: 352ms\n",
      "526:\tlearn: 0.0321107\ttotal: 391ms\tremaining: 351ms\n",
      "527:\tlearn: 0.0319351\ttotal: 391ms\tremaining: 350ms\n",
      "528:\tlearn: 0.0317587\ttotal: 392ms\tremaining: 349ms\n",
      "529:\tlearn: 0.0316265\ttotal: 392ms\tremaining: 348ms\n",
      "530:\tlearn: 0.0314337\ttotal: 392ms\tremaining: 347ms\n",
      "531:\tlearn: 0.0312999\ttotal: 393ms\tremaining: 346ms\n",
      "532:\tlearn: 0.0311386\ttotal: 393ms\tremaining: 345ms\n",
      "533:\tlearn: 0.0309684\ttotal: 394ms\tremaining: 344ms\n",
      "534:\tlearn: 0.0308112\ttotal: 395ms\tremaining: 343ms\n",
      "535:\tlearn: 0.0306265\ttotal: 395ms\tremaining: 342ms\n",
      "536:\tlearn: 0.0304610\ttotal: 396ms\tremaining: 342ms\n",
      "537:\tlearn: 0.0303330\ttotal: 396ms\tremaining: 340ms\n",
      "538:\tlearn: 0.0302073\ttotal: 397ms\tremaining: 339ms\n",
      "539:\tlearn: 0.0300589\ttotal: 397ms\tremaining: 338ms\n",
      "540:\tlearn: 0.0299437\ttotal: 398ms\tremaining: 337ms\n",
      "541:\tlearn: 0.0298210\ttotal: 398ms\tremaining: 336ms\n",
      "542:\tlearn: 0.0296492\ttotal: 398ms\tremaining: 335ms\n",
      "543:\tlearn: 0.0294750\ttotal: 399ms\tremaining: 335ms\n",
      "544:\tlearn: 0.0293538\ttotal: 400ms\tremaining: 334ms\n",
      "545:\tlearn: 0.0292111\ttotal: 400ms\tremaining: 333ms\n",
      "546:\tlearn: 0.0290926\ttotal: 401ms\tremaining: 332ms\n",
      "547:\tlearn: 0.0289386\ttotal: 402ms\tremaining: 331ms\n",
      "548:\tlearn: 0.0288229\ttotal: 402ms\tremaining: 330ms\n",
      "549:\tlearn: 0.0286839\ttotal: 402ms\tremaining: 329ms\n",
      "550:\tlearn: 0.0285217\ttotal: 403ms\tremaining: 328ms\n",
      "551:\tlearn: 0.0283945\ttotal: 403ms\tremaining: 327ms\n",
      "552:\tlearn: 0.0282591\ttotal: 403ms\tremaining: 326ms\n",
      "553:\tlearn: 0.0281258\ttotal: 404ms\tremaining: 325ms\n",
      "554:\tlearn: 0.0280145\ttotal: 404ms\tremaining: 324ms\n",
      "555:\tlearn: 0.0278849\ttotal: 405ms\tremaining: 323ms\n",
      "556:\tlearn: 0.0277759\ttotal: 406ms\tremaining: 323ms\n",
      "557:\tlearn: 0.0276453\ttotal: 406ms\tremaining: 322ms\n",
      "558:\tlearn: 0.0275202\ttotal: 407ms\tremaining: 321ms\n",
      "559:\tlearn: 0.0273910\ttotal: 407ms\tremaining: 320ms\n",
      "560:\tlearn: 0.0272190\ttotal: 407ms\tremaining: 319ms\n",
      "561:\tlearn: 0.0270502\ttotal: 408ms\tremaining: 318ms\n",
      "562:\tlearn: 0.0269123\ttotal: 408ms\tremaining: 317ms\n",
      "563:\tlearn: 0.0268091\ttotal: 409ms\tremaining: 316ms\n",
      "564:\tlearn: 0.0266672\ttotal: 409ms\tremaining: 315ms\n",
      "565:\tlearn: 0.0265660\ttotal: 410ms\tremaining: 315ms\n",
      "566:\tlearn: 0.0264520\ttotal: 411ms\tremaining: 314ms\n",
      "567:\tlearn: 0.0262962\ttotal: 411ms\tremaining: 313ms\n",
      "568:\tlearn: 0.0261527\ttotal: 412ms\tremaining: 312ms\n",
      "569:\tlearn: 0.0260748\ttotal: 412ms\tremaining: 311ms\n",
      "570:\tlearn: 0.0259339\ttotal: 413ms\tremaining: 310ms\n",
      "571:\tlearn: 0.0258201\ttotal: 414ms\tremaining: 310ms\n",
      "572:\tlearn: 0.0257093\ttotal: 415ms\tremaining: 309ms\n",
      "573:\tlearn: 0.0255782\ttotal: 415ms\tremaining: 308ms\n",
      "574:\tlearn: 0.0254692\ttotal: 417ms\tremaining: 308ms\n",
      "575:\tlearn: 0.0253411\ttotal: 417ms\tremaining: 307ms\n",
      "576:\tlearn: 0.0252479\ttotal: 418ms\tremaining: 306ms\n",
      "577:\tlearn: 0.0250953\ttotal: 418ms\tremaining: 305ms\n",
      "578:\tlearn: 0.0249893\ttotal: 419ms\tremaining: 304ms\n",
      "579:\tlearn: 0.0248985\ttotal: 419ms\tremaining: 303ms\n",
      "580:\tlearn: 0.0247495\ttotal: 419ms\tremaining: 302ms\n",
      "581:\tlearn: 0.0246370\ttotal: 420ms\tremaining: 302ms\n",
      "582:\tlearn: 0.0245167\ttotal: 420ms\tremaining: 301ms\n",
      "583:\tlearn: 0.0244468\ttotal: 421ms\tremaining: 300ms\n",
      "584:\tlearn: 0.0243592\ttotal: 421ms\tremaining: 299ms\n",
      "585:\tlearn: 0.0242568\ttotal: 422ms\tremaining: 298ms\n",
      "586:\tlearn: 0.0240956\ttotal: 422ms\tremaining: 297ms\n",
      "587:\tlearn: 0.0240279\ttotal: 422ms\tremaining: 296ms\n",
      "588:\tlearn: 0.0239211\ttotal: 423ms\tremaining: 295ms\n",
      "589:\tlearn: 0.0238042\ttotal: 423ms\tremaining: 294ms\n",
      "590:\tlearn: 0.0236897\ttotal: 424ms\tremaining: 293ms\n",
      "591:\tlearn: 0.0235748\ttotal: 424ms\tremaining: 292ms\n",
      "592:\tlearn: 0.0234719\ttotal: 424ms\tremaining: 291ms\n",
      "593:\tlearn: 0.0233597\ttotal: 425ms\tremaining: 290ms\n",
      "594:\tlearn: 0.0232598\ttotal: 425ms\tremaining: 289ms\n",
      "595:\tlearn: 0.0231721\ttotal: 426ms\tremaining: 288ms\n",
      "596:\tlearn: 0.0230609\ttotal: 426ms\tremaining: 287ms\n",
      "597:\tlearn: 0.0229638\ttotal: 426ms\tremaining: 287ms\n",
      "598:\tlearn: 0.0228786\ttotal: 427ms\tremaining: 286ms\n",
      "599:\tlearn: 0.0227839\ttotal: 427ms\tremaining: 285ms\n",
      "600:\tlearn: 0.0226791\ttotal: 428ms\tremaining: 284ms\n",
      "601:\tlearn: 0.0225813\ttotal: 430ms\tremaining: 284ms\n",
      "602:\tlearn: 0.0224739\ttotal: 430ms\tremaining: 283ms\n",
      "603:\tlearn: 0.0223688\ttotal: 431ms\tremaining: 283ms\n",
      "604:\tlearn: 0.0222768\ttotal: 431ms\tremaining: 282ms\n",
      "605:\tlearn: 0.0221954\ttotal: 432ms\tremaining: 281ms\n",
      "606:\tlearn: 0.0221026\ttotal: 433ms\tremaining: 280ms\n",
      "607:\tlearn: 0.0220203\ttotal: 433ms\tremaining: 279ms\n",
      "608:\tlearn: 0.0219343\ttotal: 434ms\tremaining: 279ms\n",
      "609:\tlearn: 0.0218994\ttotal: 435ms\tremaining: 278ms\n",
      "610:\tlearn: 0.0218651\ttotal: 435ms\tremaining: 277ms\n",
      "611:\tlearn: 0.0217940\ttotal: 436ms\tremaining: 276ms\n",
      "612:\tlearn: 0.0217040\ttotal: 437ms\tremaining: 276ms\n",
      "613:\tlearn: 0.0216256\ttotal: 437ms\tremaining: 275ms\n",
      "614:\tlearn: 0.0215267\ttotal: 438ms\tremaining: 274ms\n",
      "615:\tlearn: 0.0214297\ttotal: 439ms\tremaining: 273ms\n",
      "616:\tlearn: 0.0213482\ttotal: 439ms\tremaining: 273ms\n",
      "617:\tlearn: 0.0212811\ttotal: 440ms\tremaining: 272ms\n",
      "618:\tlearn: 0.0212153\ttotal: 440ms\tremaining: 271ms\n",
      "619:\tlearn: 0.0211321\ttotal: 441ms\tremaining: 270ms\n",
      "620:\tlearn: 0.0210735\ttotal: 441ms\tremaining: 269ms\n",
      "621:\tlearn: 0.0210099\ttotal: 442ms\tremaining: 268ms\n",
      "622:\tlearn: 0.0208950\ttotal: 442ms\tremaining: 268ms\n",
      "623:\tlearn: 0.0208380\ttotal: 443ms\tremaining: 267ms\n",
      "624:\tlearn: 0.0207640\ttotal: 443ms\tremaining: 266ms\n",
      "625:\tlearn: 0.0206838\ttotal: 444ms\tremaining: 265ms\n",
      "626:\tlearn: 0.0206310\ttotal: 444ms\tremaining: 264ms\n",
      "627:\tlearn: 0.0205349\ttotal: 445ms\tremaining: 263ms\n",
      "628:\tlearn: 0.0204442\ttotal: 445ms\tremaining: 263ms\n",
      "629:\tlearn: 0.0203666\ttotal: 445ms\tremaining: 262ms\n",
      "630:\tlearn: 0.0202964\ttotal: 446ms\tremaining: 261ms\n",
      "631:\tlearn: 0.0202037\ttotal: 447ms\tremaining: 260ms\n",
      "632:\tlearn: 0.0201170\ttotal: 447ms\tremaining: 259ms\n",
      "633:\tlearn: 0.0200417\ttotal: 448ms\tremaining: 258ms\n",
      "634:\tlearn: 0.0199523\ttotal: 448ms\tremaining: 258ms\n",
      "635:\tlearn: 0.0198648\ttotal: 449ms\tremaining: 257ms\n",
      "636:\tlearn: 0.0197718\ttotal: 449ms\tremaining: 256ms\n",
      "637:\tlearn: 0.0197054\ttotal: 451ms\tremaining: 256ms\n",
      "638:\tlearn: 0.0196320\ttotal: 452ms\tremaining: 255ms\n",
      "639:\tlearn: 0.0195468\ttotal: 453ms\tremaining: 255ms\n",
      "640:\tlearn: 0.0194713\ttotal: 453ms\tremaining: 254ms\n",
      "641:\tlearn: 0.0193880\ttotal: 454ms\tremaining: 253ms\n",
      "642:\tlearn: 0.0193058\ttotal: 455ms\tremaining: 253ms\n",
      "643:\tlearn: 0.0192342\ttotal: 456ms\tremaining: 252ms\n",
      "644:\tlearn: 0.0191534\ttotal: 456ms\tremaining: 251ms\n",
      "645:\tlearn: 0.0190799\ttotal: 457ms\tremaining: 250ms\n",
      "646:\tlearn: 0.0190050\ttotal: 459ms\tremaining: 250ms\n",
      "647:\tlearn: 0.0189328\ttotal: 459ms\tremaining: 249ms\n",
      "648:\tlearn: 0.0188545\ttotal: 460ms\tremaining: 249ms\n",
      "649:\tlearn: 0.0187789\ttotal: 461ms\tremaining: 248ms\n",
      "650:\tlearn: 0.0186996\ttotal: 461ms\tremaining: 247ms\n",
      "651:\tlearn: 0.0186294\ttotal: 462ms\tremaining: 247ms\n",
      "652:\tlearn: 0.0185691\ttotal: 463ms\tremaining: 246ms\n",
      "653:\tlearn: 0.0184918\ttotal: 464ms\tremaining: 245ms\n",
      "654:\tlearn: 0.0184171\ttotal: 464ms\tremaining: 245ms\n",
      "655:\tlearn: 0.0183421\ttotal: 465ms\tremaining: 244ms\n",
      "656:\tlearn: 0.0182651\ttotal: 465ms\tremaining: 243ms\n",
      "657:\tlearn: 0.0181687\ttotal: 465ms\tremaining: 242ms\n",
      "658:\tlearn: 0.0180965\ttotal: 466ms\tremaining: 241ms\n",
      "659:\tlearn: 0.0180244\ttotal: 466ms\tremaining: 240ms\n",
      "660:\tlearn: 0.0179827\ttotal: 467ms\tremaining: 239ms\n",
      "661:\tlearn: 0.0178890\ttotal: 467ms\tremaining: 238ms\n",
      "662:\tlearn: 0.0177990\ttotal: 467ms\tremaining: 238ms\n",
      "663:\tlearn: 0.0177295\ttotal: 468ms\tremaining: 237ms\n",
      "664:\tlearn: 0.0176894\ttotal: 468ms\tremaining: 236ms\n",
      "665:\tlearn: 0.0176218\ttotal: 469ms\tremaining: 235ms\n",
      "666:\tlearn: 0.0175743\ttotal: 469ms\tremaining: 234ms\n",
      "667:\tlearn: 0.0174870\ttotal: 470ms\tremaining: 233ms\n",
      "668:\tlearn: 0.0174583\ttotal: 470ms\tremaining: 232ms\n",
      "669:\tlearn: 0.0174200\ttotal: 471ms\tremaining: 232ms\n",
      "670:\tlearn: 0.0173341\ttotal: 472ms\tremaining: 231ms\n",
      "671:\tlearn: 0.0172602\ttotal: 473ms\tremaining: 231ms\n",
      "672:\tlearn: 0.0171716\ttotal: 473ms\tremaining: 230ms\n",
      "673:\tlearn: 0.0170678\ttotal: 473ms\tremaining: 229ms\n",
      "674:\tlearn: 0.0170308\ttotal: 475ms\tremaining: 229ms\n",
      "675:\tlearn: 0.0169295\ttotal: 476ms\tremaining: 228ms\n",
      "676:\tlearn: 0.0169019\ttotal: 477ms\tremaining: 227ms\n",
      "677:\tlearn: 0.0168660\ttotal: 477ms\tremaining: 227ms\n",
      "678:\tlearn: 0.0167904\ttotal: 479ms\tremaining: 226ms\n",
      "679:\tlearn: 0.0167634\ttotal: 479ms\tremaining: 226ms\n",
      "680:\tlearn: 0.0167127\ttotal: 480ms\tremaining: 225ms\n",
      "681:\tlearn: 0.0166324\ttotal: 480ms\tremaining: 224ms\n",
      "682:\tlearn: 0.0165520\ttotal: 480ms\tremaining: 223ms\n",
      "683:\tlearn: 0.0164406\ttotal: 481ms\tremaining: 222ms\n",
      "684:\tlearn: 0.0163439\ttotal: 481ms\tremaining: 221ms\n"
     ]
    },
    {
     "name": "stdout",
     "output_type": "stream",
     "text": [
      "685:\tlearn: 0.0163010\ttotal: 481ms\tremaining: 220ms\n",
      "686:\tlearn: 0.0162229\ttotal: 486ms\tremaining: 221ms\n",
      "687:\tlearn: 0.0161213\ttotal: 489ms\tremaining: 222ms\n",
      "688:\tlearn: 0.0160463\ttotal: 489ms\tremaining: 221ms\n",
      "689:\tlearn: 0.0159817\ttotal: 489ms\tremaining: 220ms\n",
      "690:\tlearn: 0.0159339\ttotal: 490ms\tremaining: 219ms\n",
      "691:\tlearn: 0.0158796\ttotal: 490ms\tremaining: 218ms\n",
      "692:\tlearn: 0.0158069\ttotal: 491ms\tremaining: 217ms\n",
      "693:\tlearn: 0.0157663\ttotal: 491ms\tremaining: 216ms\n",
      "694:\tlearn: 0.0157134\ttotal: 491ms\tremaining: 216ms\n",
      "695:\tlearn: 0.0156670\ttotal: 492ms\tremaining: 215ms\n",
      "696:\tlearn: 0.0155883\ttotal: 492ms\tremaining: 214ms\n",
      "697:\tlearn: 0.0155153\ttotal: 492ms\tremaining: 213ms\n",
      "698:\tlearn: 0.0154290\ttotal: 493ms\tremaining: 212ms\n",
      "699:\tlearn: 0.0153334\ttotal: 493ms\tremaining: 211ms\n",
      "700:\tlearn: 0.0152620\ttotal: 493ms\tremaining: 210ms\n",
      "701:\tlearn: 0.0151783\ttotal: 494ms\tremaining: 210ms\n",
      "702:\tlearn: 0.0151485\ttotal: 494ms\tremaining: 209ms\n",
      "703:\tlearn: 0.0150614\ttotal: 494ms\tremaining: 208ms\n",
      "704:\tlearn: 0.0150089\ttotal: 495ms\tremaining: 207ms\n",
      "705:\tlearn: 0.0149312\ttotal: 495ms\tremaining: 206ms\n",
      "706:\tlearn: 0.0148517\ttotal: 496ms\tremaining: 205ms\n",
      "707:\tlearn: 0.0147830\ttotal: 496ms\tremaining: 205ms\n",
      "708:\tlearn: 0.0147002\ttotal: 496ms\tremaining: 204ms\n",
      "709:\tlearn: 0.0146497\ttotal: 497ms\tremaining: 203ms\n",
      "710:\tlearn: 0.0145761\ttotal: 497ms\tremaining: 202ms\n",
      "711:\tlearn: 0.0145349\ttotal: 497ms\tremaining: 201ms\n",
      "712:\tlearn: 0.0144610\ttotal: 498ms\tremaining: 200ms\n",
      "713:\tlearn: 0.0143810\ttotal: 498ms\tremaining: 199ms\n",
      "714:\tlearn: 0.0143024\ttotal: 498ms\tremaining: 199ms\n",
      "715:\tlearn: 0.0142301\ttotal: 499ms\tremaining: 198ms\n",
      "716:\tlearn: 0.0141651\ttotal: 499ms\tremaining: 197ms\n",
      "717:\tlearn: 0.0140952\ttotal: 499ms\tremaining: 196ms\n",
      "718:\tlearn: 0.0140473\ttotal: 500ms\tremaining: 195ms\n",
      "719:\tlearn: 0.0139636\ttotal: 500ms\tremaining: 194ms\n",
      "720:\tlearn: 0.0139161\ttotal: 500ms\tremaining: 194ms\n",
      "721:\tlearn: 0.0138402\ttotal: 501ms\tremaining: 193ms\n",
      "722:\tlearn: 0.0137660\ttotal: 501ms\tremaining: 192ms\n",
      "723:\tlearn: 0.0137155\ttotal: 502ms\tremaining: 191ms\n",
      "724:\tlearn: 0.0136476\ttotal: 502ms\tremaining: 190ms\n",
      "725:\tlearn: 0.0135788\ttotal: 502ms\tremaining: 190ms\n",
      "726:\tlearn: 0.0135214\ttotal: 503ms\tremaining: 189ms\n",
      "727:\tlearn: 0.0134463\ttotal: 503ms\tremaining: 188ms\n",
      "728:\tlearn: 0.0133739\ttotal: 503ms\tremaining: 187ms\n",
      "729:\tlearn: 0.0133004\ttotal: 504ms\tremaining: 186ms\n",
      "730:\tlearn: 0.0132262\ttotal: 504ms\tremaining: 185ms\n",
      "731:\tlearn: 0.0131542\ttotal: 504ms\tremaining: 185ms\n",
      "732:\tlearn: 0.0130834\ttotal: 505ms\tremaining: 184ms\n",
      "733:\tlearn: 0.0130202\ttotal: 505ms\tremaining: 183ms\n",
      "734:\tlearn: 0.0129529\ttotal: 505ms\tremaining: 182ms\n",
      "735:\tlearn: 0.0128865\ttotal: 506ms\tremaining: 181ms\n",
      "736:\tlearn: 0.0128553\ttotal: 506ms\tremaining: 181ms\n",
      "737:\tlearn: 0.0127900\ttotal: 506ms\tremaining: 180ms\n",
      "738:\tlearn: 0.0127291\ttotal: 507ms\tremaining: 179ms\n",
      "739:\tlearn: 0.0126650\ttotal: 507ms\tremaining: 178ms\n",
      "740:\tlearn: 0.0126019\ttotal: 507ms\tremaining: 177ms\n",
      "741:\tlearn: 0.0125423\ttotal: 508ms\tremaining: 177ms\n",
      "742:\tlearn: 0.0124978\ttotal: 508ms\tremaining: 176ms\n",
      "743:\tlearn: 0.0124240\ttotal: 509ms\tremaining: 175ms\n",
      "744:\tlearn: 0.0123575\ttotal: 509ms\tremaining: 174ms\n",
      "745:\tlearn: 0.0122850\ttotal: 509ms\tremaining: 173ms\n",
      "746:\tlearn: 0.0122138\ttotal: 510ms\tremaining: 173ms\n",
      "747:\tlearn: 0.0121474\ttotal: 510ms\tremaining: 172ms\n",
      "748:\tlearn: 0.0120779\ttotal: 510ms\tremaining: 171ms\n",
      "749:\tlearn: 0.0120130\ttotal: 511ms\tremaining: 170ms\n",
      "750:\tlearn: 0.0119452\ttotal: 511ms\tremaining: 170ms\n",
      "751:\tlearn: 0.0119260\ttotal: 512ms\tremaining: 169ms\n",
      "752:\tlearn: 0.0119072\ttotal: 512ms\tremaining: 168ms\n",
      "753:\tlearn: 0.0118409\ttotal: 512ms\tremaining: 167ms\n",
      "754:\tlearn: 0.0118226\ttotal: 513ms\tremaining: 166ms\n",
      "755:\tlearn: 0.0117899\ttotal: 513ms\tremaining: 166ms\n",
      "756:\tlearn: 0.0117720\ttotal: 513ms\tremaining: 165ms\n",
      "757:\tlearn: 0.0117600\ttotal: 514ms\tremaining: 164ms\n",
      "758:\tlearn: 0.0117279\ttotal: 514ms\tremaining: 163ms\n",
      "759:\tlearn: 0.0117105\ttotal: 514ms\tremaining: 162ms\n",
      "760:\tlearn: 0.0116988\ttotal: 514ms\tremaining: 162ms\n",
      "761:\tlearn: 0.0116672\ttotal: 515ms\tremaining: 161ms\n",
      "762:\tlearn: 0.0116526\ttotal: 515ms\tremaining: 160ms\n",
      "763:\tlearn: 0.0116375\ttotal: 515ms\tremaining: 159ms\n",
      "764:\tlearn: 0.0116064\ttotal: 515ms\tremaining: 158ms\n",
      "765:\tlearn: 0.0115922\ttotal: 516ms\tremaining: 158ms\n",
      "766:\tlearn: 0.0115407\ttotal: 516ms\tremaining: 157ms\n",
      "767:\tlearn: 0.0115267\ttotal: 516ms\tremaining: 156ms\n",
      "768:\tlearn: 0.0114923\ttotal: 516ms\tremaining: 155ms\n",
      "769:\tlearn: 0.0114812\ttotal: 517ms\tremaining: 154ms\n",
      "770:\tlearn: 0.0114677\ttotal: 517ms\tremaining: 154ms\n",
      "771:\tlearn: 0.0114376\ttotal: 517ms\tremaining: 153ms\n",
      "772:\tlearn: 0.0114269\ttotal: 517ms\tremaining: 152ms\n",
      "773:\tlearn: 0.0114157\ttotal: 518ms\tremaining: 151ms\n",
      "774:\tlearn: 0.0113889\ttotal: 518ms\tremaining: 150ms\n",
      "775:\tlearn: 0.0113332\ttotal: 518ms\tremaining: 150ms\n",
      "776:\tlearn: 0.0113223\ttotal: 518ms\tremaining: 149ms\n",
      "777:\tlearn: 0.0113096\ttotal: 518ms\tremaining: 148ms\n",
      "778:\tlearn: 0.0112788\ttotal: 519ms\tremaining: 147ms\n",
      "779:\tlearn: 0.0112650\ttotal: 519ms\tremaining: 146ms\n",
      "780:\tlearn: 0.0112105\ttotal: 519ms\tremaining: 146ms\n",
      "781:\tlearn: 0.0112001\ttotal: 519ms\tremaining: 145ms\n",
      "782:\tlearn: 0.0111898\ttotal: 519ms\tremaining: 144ms\n",
      "783:\tlearn: 0.0111609\ttotal: 520ms\tremaining: 143ms\n",
      "784:\tlearn: 0.0111115\ttotal: 524ms\tremaining: 144ms\n",
      "785:\tlearn: 0.0111014\ttotal: 524ms\tremaining: 143ms\n",
      "786:\tlearn: 0.0110914\ttotal: 525ms\tremaining: 142ms\n",
      "787:\tlearn: 0.0110588\ttotal: 525ms\tremaining: 141ms\n",
      "788:\tlearn: 0.0110490\ttotal: 525ms\tremaining: 141ms\n",
      "789:\tlearn: 0.0109945\ttotal: 526ms\tremaining: 140ms\n",
      "790:\tlearn: 0.0109829\ttotal: 526ms\tremaining: 139ms\n",
      "791:\tlearn: 0.0109732\ttotal: 526ms\tremaining: 138ms\n",
      "792:\tlearn: 0.0109637\ttotal: 527ms\tremaining: 137ms\n",
      "793:\tlearn: 0.0109385\ttotal: 527ms\tremaining: 137ms\n",
      "794:\tlearn: 0.0108906\ttotal: 528ms\tremaining: 136ms\n",
      "795:\tlearn: 0.0108811\ttotal: 528ms\tremaining: 135ms\n",
      "796:\tlearn: 0.0108700\ttotal: 528ms\tremaining: 134ms\n",
      "797:\tlearn: 0.0108090\ttotal: 528ms\tremaining: 134ms\n",
      "798:\tlearn: 0.0107774\ttotal: 529ms\tremaining: 133ms\n",
      "799:\tlearn: 0.0107304\ttotal: 529ms\tremaining: 132ms\n",
      "800:\tlearn: 0.0107213\ttotal: 529ms\tremaining: 132ms\n",
      "801:\tlearn: 0.0107106\ttotal: 530ms\tremaining: 131ms\n",
      "802:\tlearn: 0.0106518\ttotal: 530ms\tremaining: 130ms\n",
      "803:\tlearn: 0.0105944\ttotal: 530ms\tremaining: 129ms\n",
      "804:\tlearn: 0.0105637\ttotal: 531ms\tremaining: 129ms\n",
      "805:\tlearn: 0.0105159\ttotal: 531ms\tremaining: 128ms\n",
      "806:\tlearn: 0.0104929\ttotal: 531ms\tremaining: 127ms\n",
      "807:\tlearn: 0.0104843\ttotal: 532ms\tremaining: 126ms\n",
      "808:\tlearn: 0.0104478\ttotal: 532ms\tremaining: 126ms\n",
      "809:\tlearn: 0.0104023\ttotal: 533ms\tremaining: 125ms\n",
      "810:\tlearn: 0.0103650\ttotal: 533ms\tremaining: 124ms\n",
      "811:\tlearn: 0.0103565\ttotal: 533ms\tremaining: 123ms\n",
      "812:\tlearn: 0.0103075\ttotal: 534ms\tremaining: 123ms\n",
      "813:\tlearn: 0.0102718\ttotal: 534ms\tremaining: 122ms\n",
      "814:\tlearn: 0.0102366\ttotal: 534ms\tremaining: 121ms\n",
      "815:\tlearn: 0.0101984\ttotal: 535ms\tremaining: 121ms\n",
      "816:\tlearn: 0.0101780\ttotal: 535ms\tremaining: 120ms\n",
      "817:\tlearn: 0.0101437\ttotal: 535ms\tremaining: 119ms\n",
      "818:\tlearn: 0.0101045\ttotal: 536ms\tremaining: 118ms\n",
      "819:\tlearn: 0.0100556\ttotal: 536ms\tremaining: 118ms\n",
      "820:\tlearn: 0.0100171\ttotal: 536ms\tremaining: 117ms\n",
      "821:\tlearn: 0.0099886\ttotal: 537ms\tremaining: 116ms\n",
      "822:\tlearn: 0.0099552\ttotal: 537ms\tremaining: 116ms\n",
      "823:\tlearn: 0.0099177\ttotal: 538ms\tremaining: 115ms\n",
      "824:\tlearn: 0.0098848\ttotal: 538ms\tremaining: 114ms\n",
      "825:\tlearn: 0.0098585\ttotal: 538ms\tremaining: 113ms\n",
      "826:\tlearn: 0.0098230\ttotal: 539ms\tremaining: 113ms\n",
      "827:\tlearn: 0.0097952\ttotal: 539ms\tremaining: 112ms\n",
      "828:\tlearn: 0.0097630\ttotal: 539ms\tremaining: 111ms\n",
      "829:\tlearn: 0.0097279\ttotal: 540ms\tremaining: 111ms\n",
      "830:\tlearn: 0.0096888\ttotal: 540ms\tremaining: 110ms\n",
      "831:\tlearn: 0.0096572\ttotal: 540ms\tremaining: 109ms\n",
      "832:\tlearn: 0.0096218\ttotal: 541ms\tremaining: 108ms\n",
      "833:\tlearn: 0.0095958\ttotal: 541ms\tremaining: 108ms\n",
      "834:\tlearn: 0.0095647\ttotal: 541ms\tremaining: 107ms\n",
      "835:\tlearn: 0.0095441\ttotal: 542ms\tremaining: 106ms\n",
      "836:\tlearn: 0.0095135\ttotal: 542ms\tremaining: 106ms\n",
      "837:\tlearn: 0.0094933\ttotal: 542ms\tremaining: 105ms\n",
      "838:\tlearn: 0.0094678\ttotal: 543ms\tremaining: 104ms\n",
      "839:\tlearn: 0.0094376\ttotal: 543ms\tremaining: 103ms\n",
      "840:\tlearn: 0.0093944\ttotal: 543ms\tremaining: 103ms\n",
      "841:\tlearn: 0.0093647\ttotal: 544ms\tremaining: 102ms\n",
      "842:\tlearn: 0.0093312\ttotal: 544ms\tremaining: 101ms\n",
      "843:\tlearn: 0.0092926\ttotal: 545ms\tremaining: 101ms\n",
      "844:\tlearn: 0.0092509\ttotal: 545ms\tremaining: 99.9ms\n",
      "845:\tlearn: 0.0092090\ttotal: 545ms\tremaining: 99.3ms\n",
      "846:\tlearn: 0.0091765\ttotal: 546ms\tremaining: 98.6ms\n",
      "847:\tlearn: 0.0091503\ttotal: 546ms\tremaining: 97.9ms\n",
      "848:\tlearn: 0.0091215\ttotal: 546ms\tremaining: 97.2ms\n",
      "849:\tlearn: 0.0090844\ttotal: 547ms\tremaining: 96.5ms\n",
      "850:\tlearn: 0.0090441\ttotal: 547ms\tremaining: 95.8ms\n",
      "851:\tlearn: 0.0090198\ttotal: 547ms\tremaining: 95.1ms\n",
      "852:\tlearn: 0.0089793\ttotal: 548ms\tremaining: 94.4ms\n",
      "853:\tlearn: 0.0089480\ttotal: 548ms\tremaining: 93.7ms\n",
      "854:\tlearn: 0.0089199\ttotal: 548ms\tremaining: 93ms\n",
      "855:\tlearn: 0.0088893\ttotal: 549ms\tremaining: 92.3ms\n",
      "856:\tlearn: 0.0088465\ttotal: 549ms\tremaining: 91.6ms\n",
      "857:\tlearn: 0.0088167\ttotal: 550ms\tremaining: 90.9ms\n",
      "858:\tlearn: 0.0087737\ttotal: 550ms\tremaining: 90.3ms\n",
      "859:\tlearn: 0.0087505\ttotal: 550ms\tremaining: 89.6ms\n",
      "860:\tlearn: 0.0087278\ttotal: 551ms\tremaining: 88.9ms\n",
      "861:\tlearn: 0.0087004\ttotal: 551ms\tremaining: 88.2ms\n",
      "862:\tlearn: 0.0086579\ttotal: 551ms\tremaining: 87.5ms\n",
      "863:\tlearn: 0.0086208\ttotal: 552ms\tremaining: 86.8ms\n",
      "864:\tlearn: 0.0085860\ttotal: 552ms\tremaining: 86.2ms\n",
      "865:\tlearn: 0.0085639\ttotal: 552ms\tremaining: 85.5ms\n",
      "866:\tlearn: 0.0085226\ttotal: 553ms\tremaining: 84.8ms\n",
      "867:\tlearn: 0.0084943\ttotal: 553ms\tremaining: 84.1ms\n",
      "868:\tlearn: 0.0084604\ttotal: 553ms\tremaining: 83.4ms\n",
      "869:\tlearn: 0.0084325\ttotal: 555ms\tremaining: 82.9ms\n",
      "870:\tlearn: 0.0084110\ttotal: 555ms\tremaining: 82.2ms\n",
      "871:\tlearn: 0.0083726\ttotal: 555ms\tremaining: 81.5ms\n",
      "872:\tlearn: 0.0083516\ttotal: 556ms\tremaining: 80.8ms\n",
      "873:\tlearn: 0.0083120\ttotal: 556ms\tremaining: 80.2ms\n",
      "874:\tlearn: 0.0082857\ttotal: 556ms\tremaining: 79.5ms\n",
      "875:\tlearn: 0.0082509\ttotal: 557ms\tremaining: 78.8ms\n",
      "876:\tlearn: 0.0082138\ttotal: 557ms\tremaining: 78.1ms\n",
      "877:\tlearn: 0.0081934\ttotal: 557ms\tremaining: 77.5ms\n",
      "878:\tlearn: 0.0081569\ttotal: 558ms\tremaining: 76.8ms\n",
      "879:\tlearn: 0.0081370\ttotal: 558ms\tremaining: 76.1ms\n",
      "880:\tlearn: 0.0081065\ttotal: 559ms\tremaining: 75.4ms\n",
      "881:\tlearn: 0.0080870\ttotal: 559ms\tremaining: 74.8ms\n",
      "882:\tlearn: 0.0080551\ttotal: 559ms\tremaining: 74.1ms\n",
      "883:\tlearn: 0.0080217\ttotal: 560ms\tremaining: 73.4ms\n"
     ]
    },
    {
     "name": "stdout",
     "output_type": "stream",
     "text": [
      "884:\tlearn: 0.0079783\ttotal: 561ms\tremaining: 73ms\n",
      "885:\tlearn: 0.0079356\ttotal: 564ms\tremaining: 72.5ms\n",
      "886:\tlearn: 0.0079095\ttotal: 564ms\tremaining: 71.9ms\n",
      "887:\tlearn: 0.0078845\ttotal: 564ms\tremaining: 71.2ms\n",
      "888:\tlearn: 0.0078586\ttotal: 565ms\tremaining: 70.5ms\n",
      "889:\tlearn: 0.0078395\ttotal: 565ms\tremaining: 69.9ms\n",
      "890:\tlearn: 0.0077982\ttotal: 566ms\tremaining: 69.2ms\n",
      "891:\tlearn: 0.0077658\ttotal: 566ms\tremaining: 68.5ms\n",
      "892:\tlearn: 0.0077508\ttotal: 566ms\tremaining: 67.8ms\n",
      "893:\tlearn: 0.0077389\ttotal: 567ms\tremaining: 67.2ms\n",
      "894:\tlearn: 0.0077242\ttotal: 567ms\tremaining: 66.5ms\n",
      "895:\tlearn: 0.0076999\ttotal: 567ms\tremaining: 65.8ms\n",
      "896:\tlearn: 0.0076881\ttotal: 568ms\tremaining: 65.2ms\n",
      "897:\tlearn: 0.0076642\ttotal: 568ms\tremaining: 64.5ms\n",
      "898:\tlearn: 0.0076268\ttotal: 568ms\tremaining: 63.9ms\n",
      "899:\tlearn: 0.0076123\ttotal: 569ms\tremaining: 63.2ms\n",
      "900:\tlearn: 0.0076008\ttotal: 569ms\tremaining: 62.5ms\n",
      "901:\tlearn: 0.0075894\ttotal: 569ms\tremaining: 61.9ms\n",
      "902:\tlearn: 0.0075649\ttotal: 570ms\tremaining: 61.2ms\n",
      "903:\tlearn: 0.0075507\ttotal: 570ms\tremaining: 60.5ms\n",
      "904:\tlearn: 0.0075273\ttotal: 570ms\tremaining: 59.9ms\n",
      "905:\tlearn: 0.0075052\ttotal: 571ms\tremaining: 59.2ms\n",
      "906:\tlearn: 0.0074687\ttotal: 571ms\tremaining: 58.6ms\n",
      "907:\tlearn: 0.0074327\ttotal: 572ms\tremaining: 57.9ms\n",
      "908:\tlearn: 0.0074177\ttotal: 572ms\tremaining: 57.3ms\n",
      "909:\tlearn: 0.0073902\ttotal: 572ms\tremaining: 56.6ms\n",
      "910:\tlearn: 0.0073520\ttotal: 573ms\tremaining: 55.9ms\n",
      "911:\tlearn: 0.0073146\ttotal: 573ms\tremaining: 55.3ms\n",
      "912:\tlearn: 0.0072748\ttotal: 573ms\tremaining: 54.6ms\n",
      "913:\tlearn: 0.0072453\ttotal: 574ms\tremaining: 54ms\n",
      "914:\tlearn: 0.0072192\ttotal: 574ms\tremaining: 53.3ms\n",
      "915:\tlearn: 0.0071820\ttotal: 574ms\tremaining: 52.7ms\n",
      "916:\tlearn: 0.0071460\ttotal: 575ms\tremaining: 52ms\n",
      "917:\tlearn: 0.0071083\ttotal: 575ms\tremaining: 51.4ms\n",
      "918:\tlearn: 0.0070735\ttotal: 575ms\tremaining: 50.7ms\n",
      "919:\tlearn: 0.0070485\ttotal: 576ms\tremaining: 50.1ms\n",
      "920:\tlearn: 0.0070232\ttotal: 576ms\tremaining: 49.4ms\n",
      "921:\tlearn: 0.0069898\ttotal: 577ms\tremaining: 48.8ms\n",
      "922:\tlearn: 0.0069768\ttotal: 577ms\tremaining: 48.1ms\n",
      "923:\tlearn: 0.0069527\ttotal: 577ms\tremaining: 47.5ms\n",
      "924:\tlearn: 0.0069447\ttotal: 578ms\tremaining: 46.8ms\n",
      "925:\tlearn: 0.0069320\ttotal: 578ms\tremaining: 46.2ms\n",
      "926:\tlearn: 0.0069242\ttotal: 578ms\tremaining: 45.5ms\n",
      "927:\tlearn: 0.0069164\ttotal: 579ms\tremaining: 44.9ms\n",
      "928:\tlearn: 0.0068827\ttotal: 579ms\tremaining: 44.2ms\n",
      "929:\tlearn: 0.0068485\ttotal: 579ms\tremaining: 43.6ms\n",
      "930:\tlearn: 0.0068409\ttotal: 580ms\tremaining: 43ms\n",
      "931:\tlearn: 0.0068313\ttotal: 580ms\tremaining: 42.3ms\n",
      "932:\tlearn: 0.0068133\ttotal: 580ms\tremaining: 41.7ms\n",
      "933:\tlearn: 0.0068059\ttotal: 581ms\tremaining: 41ms\n",
      "934:\tlearn: 0.0067966\ttotal: 581ms\tremaining: 40.4ms\n",
      "935:\tlearn: 0.0067757\ttotal: 581ms\tremaining: 39.8ms\n",
      "936:\tlearn: 0.0067685\ttotal: 582ms\tremaining: 39.1ms\n",
      "937:\tlearn: 0.0067561\ttotal: 582ms\tremaining: 38.5ms\n",
      "938:\tlearn: 0.0067490\ttotal: 582ms\tremaining: 37.8ms\n",
      "939:\tlearn: 0.0067285\ttotal: 583ms\tremaining: 37.2ms\n",
      "940:\tlearn: 0.0067065\ttotal: 583ms\tremaining: 36.6ms\n",
      "941:\tlearn: 0.0066773\ttotal: 584ms\tremaining: 35.9ms\n",
      "942:\tlearn: 0.0066451\ttotal: 584ms\tremaining: 35.3ms\n",
      "943:\tlearn: 0.0066382\ttotal: 584ms\tremaining: 34.7ms\n",
      "944:\tlearn: 0.0066077\ttotal: 585ms\tremaining: 34ms\n",
      "945:\tlearn: 0.0066009\ttotal: 585ms\tremaining: 33.4ms\n",
      "946:\tlearn: 0.0065942\ttotal: 585ms\tremaining: 32.8ms\n",
      "947:\tlearn: 0.0065615\ttotal: 586ms\tremaining: 32.1ms\n",
      "948:\tlearn: 0.0065527\ttotal: 586ms\tremaining: 31.5ms\n",
      "949:\tlearn: 0.0065356\ttotal: 586ms\tremaining: 30.9ms\n",
      "950:\tlearn: 0.0065290\ttotal: 587ms\tremaining: 30.2ms\n",
      "951:\tlearn: 0.0065205\ttotal: 587ms\tremaining: 29.6ms\n",
      "952:\tlearn: 0.0065141\ttotal: 587ms\tremaining: 29ms\n",
      "953:\tlearn: 0.0064972\ttotal: 588ms\tremaining: 28.3ms\n",
      "954:\tlearn: 0.0064909\ttotal: 598ms\tremaining: 28.2ms\n",
      "955:\tlearn: 0.0064721\ttotal: 598ms\tremaining: 27.5ms\n",
      "956:\tlearn: 0.0064494\ttotal: 599ms\tremaining: 26.9ms\n",
      "957:\tlearn: 0.0064188\ttotal: 599ms\tremaining: 26.3ms\n",
      "958:\tlearn: 0.0063901\ttotal: 599ms\tremaining: 25.6ms\n",
      "959:\tlearn: 0.0063840\ttotal: 600ms\tremaining: 25ms\n",
      "960:\tlearn: 0.0063527\ttotal: 600ms\tremaining: 24.3ms\n",
      "961:\tlearn: 0.0063468\ttotal: 600ms\tremaining: 23.7ms\n",
      "962:\tlearn: 0.0063276\ttotal: 600ms\tremaining: 23.1ms\n",
      "963:\tlearn: 0.0062997\ttotal: 601ms\tremaining: 22.4ms\n",
      "964:\tlearn: 0.0062938\ttotal: 601ms\tremaining: 21.8ms\n",
      "965:\tlearn: 0.0062777\ttotal: 601ms\tremaining: 21.2ms\n",
      "966:\tlearn: 0.0062719\ttotal: 602ms\tremaining: 20.5ms\n",
      "967:\tlearn: 0.0062671\ttotal: 602ms\tremaining: 19.9ms\n",
      "968:\tlearn: 0.0062499\ttotal: 602ms\tremaining: 19.3ms\n",
      "969:\tlearn: 0.0062452\ttotal: 602ms\tremaining: 18.6ms\n",
      "970:\tlearn: 0.0062405\ttotal: 603ms\tremaining: 18ms\n",
      "971:\tlearn: 0.0062216\ttotal: 603ms\tremaining: 17.4ms\n",
      "972:\tlearn: 0.0062047\ttotal: 603ms\tremaining: 16.7ms\n",
      "973:\tlearn: 0.0062000\ttotal: 604ms\tremaining: 16.1ms\n",
      "974:\tlearn: 0.0061954\ttotal: 604ms\tremaining: 15.5ms\n",
      "975:\tlearn: 0.0061773\ttotal: 604ms\tremaining: 14.9ms\n",
      "976:\tlearn: 0.0061541\ttotal: 605ms\tremaining: 14.2ms\n",
      "977:\tlearn: 0.0061354\ttotal: 605ms\tremaining: 13.6ms\n",
      "978:\tlearn: 0.0061188\ttotal: 605ms\tremaining: 13ms\n",
      "979:\tlearn: 0.0061013\ttotal: 606ms\tremaining: 12.4ms\n",
      "980:\tlearn: 0.0060830\ttotal: 606ms\tremaining: 11.7ms\n",
      "981:\tlearn: 0.0060605\ttotal: 606ms\tremaining: 11.1ms\n",
      "982:\tlearn: 0.0060409\ttotal: 607ms\tremaining: 10.5ms\n",
      "983:\tlearn: 0.0060149\ttotal: 607ms\tremaining: 9.87ms\n",
      "984:\tlearn: 0.0059896\ttotal: 607ms\tremaining: 9.25ms\n",
      "985:\tlearn: 0.0059728\ttotal: 608ms\tremaining: 8.63ms\n",
      "986:\tlearn: 0.0059503\ttotal: 608ms\tremaining: 8.01ms\n",
      "987:\tlearn: 0.0059325\ttotal: 608ms\tremaining: 7.39ms\n",
      "988:\tlearn: 0.0059164\ttotal: 609ms\tremaining: 6.77ms\n",
      "989:\tlearn: 0.0059002\ttotal: 609ms\tremaining: 6.15ms\n",
      "990:\tlearn: 0.0058825\ttotal: 609ms\tremaining: 5.54ms\n",
      "991:\tlearn: 0.0058504\ttotal: 610ms\tremaining: 4.92ms\n",
      "992:\tlearn: 0.0058157\ttotal: 610ms\tremaining: 4.3ms\n",
      "993:\tlearn: 0.0057960\ttotal: 611ms\tremaining: 3.69ms\n",
      "994:\tlearn: 0.0057804\ttotal: 611ms\tremaining: 3.07ms\n",
      "995:\tlearn: 0.0057635\ttotal: 611ms\tremaining: 2.45ms\n",
      "996:\tlearn: 0.0057298\ttotal: 612ms\tremaining: 1.84ms\n",
      "997:\tlearn: 0.0057133\ttotal: 612ms\tremaining: 1.23ms\n",
      "998:\tlearn: 0.0056801\ttotal: 612ms\tremaining: 612us\n",
      "999:\tlearn: 0.0056489\ttotal: 613ms\tremaining: 0us\n"
     ]
    },
    {
     "data": {
      "text/plain": [
       "<catboost.core.CatBoostRegressor at 0x7fbb183f8910>"
      ]
     },
     "execution_count": 9,
     "metadata": {},
     "output_type": "execute_result"
    }
   ],
   "source": [
    "#Train the Model \n",
    "prior_model = ctb.CatBoostRegressor()\n",
    "prior_model.fit(X_train,Y_train)"
   ]
  },
  {
   "cell_type": "code",
   "execution_count": 10,
   "id": "af65dcda",
   "metadata": {
    "execution": {
     "iopub.execute_input": "2022-06-07T06:59:22.871043Z",
     "iopub.status.busy": "2022-06-07T06:59:22.870657Z",
     "iopub.status.idle": "2022-06-07T06:59:22.878115Z",
     "shell.execute_reply": "2022-06-07T06:59:22.878410Z"
    },
    "id": "af65dcda",
    "papermill": {
     "duration": 0.023889,
     "end_time": "2022-06-07T06:59:22.878527",
     "exception": false,
     "start_time": "2022-06-07T06:59:22.854638",
     "status": "completed"
    },
    "tags": []
   },
   "outputs": [
    {
     "data": {
      "application/scrapbook.scrap.json+json": {
       "data": 0.1705903651749881,
       "encoder": "json",
       "name": "Prior Model MSE",
       "version": 1
      }
     },
     "metadata": {
      "scrapbook": {
       "data": true,
       "display": false,
       "name": "Prior Model MSE"
      }
     },
     "output_type": "display_data"
    },
    {
     "data": {
      "application/scrapbook.scrap.json+json": {
       "data": 0.9204029217592702,
       "encoder": "json",
       "name": "ABC Pre-generator MSE",
       "version": 1
      }
     },
     "metadata": {
      "scrapbook": {
       "data": true,
       "display": false,
       "name": "ABC Pre-generator MSE"
      }
     },
     "output_type": "display_data"
    },
    {
     "data": {
      "application/scrapbook.scrap.json+json": {
       "data": 0.30554544637142744,
       "encoder": "json",
       "name": "Prior Model MSE",
       "version": 1
      }
     },
     "metadata": {
      "scrapbook": {
       "data": true,
       "display": false,
       "name": "Prior Model MSE"
      }
     },
     "output_type": "display_data"
    },
    {
     "data": {
      "application/scrapbook.scrap.json+json": {
       "data": 0.7167720131722474,
       "encoder": "json",
       "name": "ABC Pre-generator MSE",
       "version": 1
      }
     },
     "metadata": {
      "scrapbook": {
       "data": true,
       "display": false,
       "name": "ABC Pre-generator MSE"
      }
     },
     "output_type": "display_data"
    }
   ],
   "source": [
    "y_pred = prior_model.predict(X_test)\n",
    "y_abc = y_pred + np.random.normal(0,variance, y_pred.shape) + bias \n",
    "mse = mean_squared_error(y_pred,Y_test)\n",
    "sb.glue(\"Prior Model MSE\",mse)\n",
    "mse = mean_squared_error(y_abc,Y_test)\n",
    "sb.glue(\"ABC Pre-generator MSE\",mse)\n",
    "mae = mean_absolute_error(y_pred,Y_test)\n",
    "sb.glue(\"Prior Model MSE\",mae)\n",
    "mae = mean_absolute_error(y_abc,Y_test)\n",
    "sb.glue(\"ABC Pre-generator MSE\",mae)"
   ]
  },
  {
   "cell_type": "markdown",
   "id": "25609da2",
   "metadata": {
    "papermill": {
     "duration": 0.009386,
     "end_time": "2022-06-07T06:59:22.897737",
     "exception": false,
     "start_time": "2022-06-07T06:59:22.888351",
     "status": "completed"
    },
    "tags": []
   },
   "source": [
    "# ABC GAN Model"
   ]
  },
  {
   "cell_type": "code",
   "execution_count": 11,
   "id": "dfc3464d",
   "metadata": {
    "execution": {
     "iopub.execute_input": "2022-06-07T06:59:22.919564Z",
     "iopub.status.busy": "2022-06-07T06:59:22.919198Z",
     "iopub.status.idle": "2022-06-07T06:59:22.921601Z",
     "shell.execute_reply": "2022-06-07T06:59:22.921849Z"
    },
    "papermill": {
     "duration": 0.014815,
     "end_time": "2022-06-07T06:59:22.921954",
     "exception": false,
     "start_time": "2022-06-07T06:59:22.907139",
     "status": "completed"
    },
    "tags": []
   },
   "outputs": [],
   "source": [
    "gen = network.Generator(n_features+1).to(device)\n",
    "disc = network.Discriminator(n_features+1).to(device)\n",
    "\n",
    "criterion = torch.nn.BCELoss()\n",
    "gen_opt = torch.optim.Adam(gen.parameters(), lr=0.001, betas=(0.5, 0.999))\n",
    "disc_opt = torch.optim.Adam(disc.parameters(), lr=0.001, betas=(0.5, 0.999))"
   ]
  },
  {
   "cell_type": "code",
   "execution_count": 12,
   "id": "b75fdd85",
   "metadata": {
    "execution": {
     "iopub.execute_input": "2022-06-07T06:59:22.943355Z",
     "iopub.status.busy": "2022-06-07T06:59:22.942943Z",
     "iopub.status.idle": "2022-06-07T06:59:37.282260Z",
     "shell.execute_reply": "2022-06-07T06:59:37.282568Z"
    },
    "papermill": {
     "duration": 14.351112,
     "end_time": "2022-06-07T06:59:37.282695",
     "exception": false,
     "start_time": "2022-06-07T06:59:22.931583",
     "status": "completed"
    },
    "tags": []
   },
   "outputs": [
    {
     "data": {
      "image/png": "[encoded data removed]",
      "text/plain": [
       "<Figure size 432x288 with 1 Axes>"
      ]
     },
     "metadata": {
      "needs_background": "light"
     },
     "output_type": "display_data"
    },
    {
     "data": {
      "image/png": "[encoded data removed]",
      "text/plain": [
       "<Figure size 432x288 with 1 Axes>"
      ]
     },
     "metadata": {
      "needs_background": "light"
     },
     "output_type": "display_data"
    }
   ],
   "source": [
    "#Training the ABC_GAN \n",
    "ABC_train_test2.training_GAN(disc,gen,disc_opt,gen_opt,train_data,batch_size,n_epochs,criterion,prior_model,variance,bias,device)"
   ]
  },
  {
   "cell_type": "code",
   "execution_count": 13,
   "id": "1fa7c368",
   "metadata": {
    "execution": {
     "iopub.execute_input": "2022-06-07T06:59:37.307108Z",
     "iopub.status.busy": "2022-06-07T06:59:37.306648Z",
     "iopub.status.idle": "2022-06-07T06:59:37.480185Z",
     "shell.execute_reply": "2022-06-07T06:59:37.480569Z"
    },
    "papermill": {
     "duration": 0.186764,
     "end_time": "2022-06-07T06:59:37.480692",
     "exception": false,
     "start_time": "2022-06-07T06:59:37.293928",
     "status": "completed"
    },
    "tags": []
   },
   "outputs": [
    {
     "data": {
      "application/scrapbook.scrap.json+json": {
       "data": 0.14681954788049353,
       "encoder": "json",
       "name": "ABC-GAN Model 1 MSE",
       "version": 1
      }
     },
     "metadata": {
      "scrapbook": {
       "data": true,
       "display": false,
       "name": "ABC-GAN Model 1 MSE"
      }
     },
     "output_type": "display_data"
    },
    {
     "data": {
      "application/scrapbook.scrap.json+json": {
       "data": 0.2884336842438206,
       "encoder": "json",
       "name": "ABC-GAN Model 1 MAE",
       "version": 1
      }
     },
     "metadata": {
      "scrapbook": {
       "data": true,
       "display": false,
       "name": "ABC-GAN Model 1 MAE"
      }
     },
     "output_type": "display_data"
    },
    {
     "data": {
      "application/scrapbook.scrap.json+json": {
       "data": 5.768673684876412,
       "encoder": "json",
       "name": "ABC-GAN Model 1 Manhattan Distance",
       "version": 1
      }
     },
     "metadata": {
      "scrapbook": {
       "data": true,
       "display": false,
       "name": "ABC-GAN Model 1 Manhattan Distance"
      }
     },
     "output_type": "display_data"
    },
    {
     "data": {
      "application/scrapbook.scrap.json+json": {
       "data": 1.712730076394452,
       "encoder": "json",
       "name": "ABC-GAN Model 1 Euclidean distance",
       "version": 1
      }
     },
     "metadata": {
      "scrapbook": {
       "data": true,
       "display": false,
       "name": "ABC-GAN Model 1 Euclidean distance"
      }
     },
     "output_type": "display_data"
    },
    {
     "data": {
      "application/scrapbook.scrap.json+json": {
       "data": [
        [
         0.13947126712153332,
         0.14219179424363976,
         0.15467863752084648,
         0.14103418430977155,
         0.1409137735972112,
         0.15480207073614788,
         0.14579631441721236,
         0.14493707602917075,
         0.1415229799778032,
         0.1416876349516703,
         0.12792021244144508,
         0.1385109942787422,
         0.1503959453762857,
         0.13315910826692828,
         0.14867608920622052,
         0.14892565806767272,
         0.17701638157457886,
         0.1398307007972032,
         0.14442462411160492,
         0.1464906959944614,
         0.13888974273872137,
         0.14752381591004998,
         0.1409833812474953,
         0.1548312776425688,
         0.15013379153144615,
         0.1432247752129574,
         0.14800599720333912,
         0.15741157370865877,
         0.13836966746774387,
         0.15974979086030974,
         0.1277314283235469,
         0.15263579389837362,
         0.14468726947091137,
         0.14521557896804488,
         0.14631122843645022,
         0.15049110744776661,
         0.14753928424051993,
         0.15090811826678063,
         0.15097516596767108,
         0.13951909191071277,
         0.16845603018467656,
         0.14543817700273423,
         0.1391262261077794,
         0.15081138933309016,
         0.16022211390043486,
         0.15042942357063396,
         0.14730591513942995,
         0.14930085726001754,
         0.14679084724100414,
         0.14833430086796023,
         0.1386807303531174,
         0.15710142509762942,
         0.1485775813834657,
         0.14748752487440978,
         0.1575808187144269,
         0.14019942510978498,
         0.1374499509843894,
         0.13503151552808418,
         0.1465091187866287,
         0.14120928494432766,
         0.14595354016019088,
         0.1366377591117876,
         0.13533497817506043,
         0.1539829829988509,
         0.14380965263185042,
         0.138997444107848,
         0.14734748185569413,
         0.1464842981327715,
         0.1626247208561075,
         0.13899378622044128,
         0.15493917442497496,
         0.14309390465090624,
         0.1397809169503738,
         0.1478553965275002,
         0.15496971944368912,
         0.14092559924819467,
         0.1576043682501314,
         0.14910534319633167,
         0.17789322197536692,
         0.1430119585303403,
         0.13525301267056875,
         0.13973773706607,
         0.12948962244657386,
         0.16262633643890786,
         0.14922699043061427,
         0.13666726985187308,
         0.14494069556626277,
         0.1462383054016593,
         0.155885499246264,
         0.1488720238513875,
         0.1484606111754068,
         0.18114178226885413,
         0.14040570142654446,
         0.1511858453911168,
         0.1358487291346066,
         0.14535634836190114,
         0.15504375836814624,
         0.1324252354338285,
         0.1427972973275257,
         0.1474390588845857
        ],
        [
         0.2833297960460186,
         0.2837666727602482,
         0.30251854062080386,
         0.2914690047502518,
         0.27828587889671325,
         0.2950281273573637,
         0.28839095011353494,
         0.2854615099728107,
         0.28913473933935163,
         0.28679921887814996,
         0.2777662634849548,
         0.27441974766552446,
         0.28740306906402113,
         0.2794209599494934,
         0.28746104836463926,
         0.29835898950695994,
         0.3069611981511116,
         0.27774377577006815,
         0.28682352378964426,
         0.2836074847728014,
         0.2852694943547249,
         0.28290780815295874,
         0.288238250464201,
         0.29553330056369304,
         0.29216339215636256,
         0.29040534794330597,
         0.28836272470653057,
         0.3014594275504351,
         0.28367120400071144,
         0.2978147715330124,
         0.261140565155074,
         0.3024452723562717,
         0.28827407248318193,
         0.29648447781801224,
         0.2865980040282011,
         0.2995472591370344,
         0.29768373295664785,
         0.28564054407179357,
         0.2984579309821129,
         0.2803336441516876,
         0.306391517072916,
         0.2856501929461956,
         0.29093574583530424,
         0.28924900479614735,
         0.302177045866847,
         0.2916393127292395,
         0.29131310507655145,
         0.28802653551101687,
         0.286954727768898,
         0.29279702305793764,
         0.2777583345770836,
         0.30132241658866404,
         0.2824239507317543,
         0.2879653051495552,
         0.3012050472199917,
         0.280540856719017,
         0.29320684149861337,
         0.2741936806589365,
         0.2904904179275036,
         0.29409684166312217,
         0.2871126480400562,
         0.2797954224050045,
         0.28082364834845064,
         0.29388466477394104,
         0.29703927859663964,
         0.28210520148277285,
         0.2840140536427498,
         0.2813282378017902,
         0.3038790687918663,
         0.2827709596604109,
         0.2936120517551899,
         0.2912477567791939,
         0.2761421300470829,
         0.2775815110653639,
         0.2884289067238569,
         0.2773325752466917,
         0.30502301529049874,
         0.2897863253951073,
         0.31721170656383035,
         0.2852853320538998,
         0.28036329448223113,
         0.2872981265187263,
         0.27276352867484094,
         0.29231522902846335,
         0.2870015624910593,
         0.2725544609129429,
         0.27765903174877166,
         0.2805414631962776,
         0.29675203673541545,
         0.2923772566020489,
         0.2890398740768433,
         0.2983260404318571,
         0.28347074463963506,
         0.29232677035033705,
         0.27230989895761015,
         0.2758118398487568,
         0.2999851927161217,
         0.278614092618227,
         0.2883068181574345,
         0.29622704051434995
        ],
        [
         5.666595920920372,
         5.675333455204964,
         6.050370812416077,
         5.829380095005035,
         5.565717577934265,
         5.900562547147274,
         5.7678190022706985,
         5.709230199456215,
         5.782694786787033,
         5.735984377563,
         5.555325269699097,
         5.48839495331049,
         5.748061381280422,
         5.588419198989868,
         5.749220967292786,
         5.967179790139198,
         6.139223963022232,
         5.554875515401363,
         5.736470475792885,
         5.672149695456028,
         5.705389887094498,
         5.658156163059175,
         5.7647650092840195,
         5.910666011273861,
         5.843267843127251,
         5.808106958866119,
         5.767254494130611,
         6.029188551008701,
         5.673424080014229,
         5.956295430660248,
         5.22281130310148,
         6.048905447125435,
         5.765481449663639,
         5.929689556360245,
         5.731960080564022,
         5.990945182740688,
         5.9536746591329575,
         5.712810881435871,
         5.969158619642258,
         5.606672883033752,
         6.127830341458321,
         5.713003858923912,
         5.818714916706085,
         5.784980095922947,
         6.043540917336941,
         5.832786254584789,
         5.826262101531029,
         5.760530710220337,
         5.73909455537796,
         5.855940461158752,
         5.555166691541672,
         6.026448331773281,
         5.648479014635086,
         5.759306102991104,
         6.024100944399834,
         5.610817134380341,
         5.864136829972267,
         5.48387361317873,
         5.809808358550072,
         5.8819368332624435,
         5.742252960801125,
         5.59590844810009,
         5.616472966969013,
         5.877693295478821,
         5.940785571932793,
         5.6421040296554565,
         5.680281072854996,
         5.626564756035805,
         6.077581375837326,
         5.655419193208218,
         5.872241035103798,
         5.824955135583878,
         5.522842600941658,
         5.551630221307278,
         5.7685781344771385,
         5.546651504933834,
         6.100460305809975,
         5.795726507902145,
         6.3442341312766075,
         5.705706641077995,
         5.607265889644623,
         5.745962530374527,
         5.4552705734968185,
         5.846304580569267,
         5.740031249821186,
         5.451089218258858,
         5.553180634975433,
         5.610829263925552,
         5.935040734708309,
         5.8475451320409775,
         5.780797481536865,
         5.966520808637142,
         5.669414892792702,
         5.846535407006741,
         5.446197979152203,
         5.516236796975136,
         5.9997038543224335,
         5.57228185236454,
         5.766136363148689,
         5.924540810286999
        ],
        [
         1.670157280746537,
         1.6863676600530488,
         1.7588555228946263,
         1.6794891146403512,
         1.6787720130929702,
         1.7595571643805603,
         1.7076083533246864,
         1.7025690942171525,
         1.6823969803693966,
         1.683375388626496,
         1.599501250024176,
         1.66439775461722,
         1.734335292706031,
         1.6319259068164111,
         1.7243902644483964,
         1.7258369451815123,
         1.8815758372947866,
         1.6723079907553104,
         1.699556554584783,
         1.7116699214186208,
         1.6666717897577876,
         1.7176950597242224,
         1.679186596227443,
         1.7597231466487493,
         1.7328230811681045,
         1.6924820543388777,
         1.7204999110917683,
         1.774325639270643,
         1.6635484211031781,
         1.7874551231307025,
         1.5983205455949498,
         1.7472023002410089,
         1.7011012284453348,
         1.704204089703137,
         1.710621106127539,
         1.7348839007136276,
         1.7177851101958004,
         1.7372859192820314,
         1.7376718100243846,
         1.6704436052181635,
         1.8355164405947257,
         1.7055097595893975,
         1.6680900821465212,
         1.7367290481424564,
         1.7900956058291124,
         1.734528313811187,
         1.7164260260170257,
         1.7280095905984871,
         1.7134225820912021,
         1.7224070417178412,
         1.6654172471372897,
         1.772576797194578,
         1.7238189080263953,
         1.717483769206625,
         1.775279238398438,
         1.6745114219364703,
         1.65801056078898,
         1.6433594587191456,
         1.7117775485537174,
         1.6805313739667442,
         1.7085288417828415,
         1.6531047100034988,
         1.6452050217225842,
         1.7548959114366351,
         1.6959342713197962,
         1.6673178707603897,
         1.7166681790939922,
         1.711632543116492,
         1.8034673318699592,
         1.6672959318635747,
         1.760336186215434,
         1.6917086312418355,
         1.672010268810415,
         1.7196243573961159,
         1.7605096957625035,
         1.6788424538841915,
         1.7754118860147996,
         1.726877779093423,
         1.8862302191162506,
         1.6912241633227707,
         1.644706737814184,
         1.6717519975526873,
         1.609283209671771,
         1.8034762900515653,
         1.7275820700077564,
         1.653283217430535,
         1.7025903533514029,
         1.7101947573399896,
         1.7657038214053,
         1.7255261449852768,
         1.7231402216616427,
         1.9033748042298664,
         1.6757428288764624,
         1.738883810903516,
         1.6483247807068035,
         1.7050299021536317,
         1.7609301994579243,
         1.6274227197248323,
         1.6899544214417481,
         1.7172015541839327
        ]
       ],
       "encoder": "json",
       "name": "ABC_GAN_1 Metrics",
       "version": 1
      }
     },
     "metadata": {
      "scrapbook": {
       "data": true,
       "display": false,
       "name": "ABC_GAN_1 Metrics"
      }
     },
     "output_type": "display_data"
    },
    {
     "name": "stdout",
     "output_type": "stream",
     "text": [
      "MSE\n",
      "0.14681954788049353\n"
     ]
    }
   ],
   "source": [
    "ABC_GAN1_metrics=ABC_train_test2.test_generator(gen,test_data,prior_model,variance,bias,\"1\",device)\n",
    "sb.glue(\"ABC_GAN_1 Metrics\",ABC_GAN1_metrics)\n",
    "\n",
    "print(\"MSE\")\n",
    "print(mean(ABC_GAN1_metrics[0]))"
   ]
  },
  {
   "cell_type": "code",
   "execution_count": 14,
   "id": "eb22ce5c",
   "metadata": {
    "execution": {
     "iopub.execute_input": "2022-06-07T06:59:37.507236Z",
     "iopub.status.busy": "2022-06-07T06:59:37.506852Z",
     "iopub.status.idle": "2022-06-07T06:59:37.804374Z",
     "shell.execute_reply": "2022-06-07T06:59:37.804686Z"
    },
    "papermill": {
     "duration": 0.311931,
     "end_time": "2022-06-07T06:59:37.804816",
     "exception": false,
     "start_time": "2022-06-07T06:59:37.492885",
     "status": "completed"
    },
    "tags": []
   },
   "outputs": [
    {
     "data": {
      "image/png": "[encoded data removed]",
      "text/plain": [
       "<Figure size 432x288 with 1 Axes>"
      ]
     },
     "metadata": {
      "needs_background": "light"
     },
     "output_type": "display_data"
    },
    {
     "data": {
      "image/png": "[encoded data removed]",
      "text/plain": [
       "<Figure size 432x288 with 1 Axes>"
      ]
     },
     "metadata": {
      "needs_background": "light"
     },
     "output_type": "display_data"
    },
    {
     "data": {
      "image/png": "[encoded data removed]",
      "text/plain": [
       "<Figure size 432x288 with 1 Axes>"
      ]
     },
     "metadata": {
      "needs_background": "light"
     },
     "output_type": "display_data"
    },
    {
     "data": {
      "image/png": "[encoded data removed]",
      "text/plain": [
       "<Figure size 432x288 with 1 Axes>"
      ]
     },
     "metadata": {
      "needs_background": "light"
     },
     "output_type": "display_data"
    }
   ],
   "source": [
    "sanityChecks.discProbVsError(train_data,disc,device)\n",
    "sanityChecks.discProbVsError(test_data,disc,device)"
   ]
  },
  {
   "cell_type": "markdown",
   "id": "130f3a4d",
   "metadata": {
    "id": "130f3a4d",
    "papermill": {
     "duration": 0.038407,
     "end_time": "2022-06-07T06:59:37.857953",
     "exception": false,
     "start_time": "2022-06-07T06:59:37.819546",
     "status": "completed"
    },
    "tags": []
   },
   "source": [
    "# ABC - GAN Model with skip connection"
   ]
  },
  {
   "cell_type": "code",
   "execution_count": 15,
   "id": "4e43dad1",
   "metadata": {
    "execution": {
     "iopub.execute_input": "2022-06-07T06:59:37.890642Z",
     "iopub.status.busy": "2022-06-07T06:59:37.890269Z",
     "iopub.status.idle": "2022-06-07T06:59:37.892461Z",
     "shell.execute_reply": "2022-06-07T06:59:37.892706Z"
    },
    "id": "4e43dad1",
    "papermill": {
     "duration": 0.020211,
     "end_time": "2022-06-07T06:59:37.892821",
     "exception": false,
     "start_time": "2022-06-07T06:59:37.872610",
     "status": "completed"
    },
    "tags": []
   },
   "outputs": [],
   "source": [
    "#Generator\n",
    "gen3 = network.GeneratorWithSkipConnection(n_features+1).to(device)\n",
    "constraints=network.weightConstraint()\n",
    "#Discriminator \n",
    "disc3 = network.Discriminator(n_features+1).to(device)\n",
    "\n",
    "criterion = torch.nn.BCELoss()\n",
    "gen_opt = torch.optim.Adam(gen3.parameters(), lr=0.001, betas=(0.5, 0.999))\n",
    "disc_opt = torch.optim.Adam(disc3.parameters(), lr=0.001, betas=(0.5, 0.999))\n"
   ]
  },
  {
   "cell_type": "code",
   "execution_count": 16,
   "id": "26acbc37",
   "metadata": {
    "execution": {
     "iopub.execute_input": "2022-06-07T06:59:37.924120Z",
     "iopub.status.busy": "2022-06-07T06:59:37.923733Z",
     "iopub.status.idle": "2022-06-07T07:00:15.642991Z",
     "shell.execute_reply": "2022-06-07T07:00:15.643324Z"
    },
    "id": "26acbc37",
    "papermill": {
     "duration": 37.736037,
     "end_time": "2022-06-07T07:00:15.643451",
     "exception": false,
     "start_time": "2022-06-07T06:59:37.907414",
     "status": "completed"
    },
    "tags": []
   },
   "outputs": [
    {
     "data": {
      "image/png": "[encoded data removed]",
      "text/plain": [
       "<Figure size 432x288 with 1 Axes>"
      ]
     },
     "metadata": {
      "needs_background": "light"
     },
     "output_type": "display_data"
    },
    {
     "data": {
      "image/png": "[encoded data removed]",
      "text/plain": [
       "<Figure size 432x288 with 1 Axes>"
      ]
     },
     "metadata": {
      "needs_background": "light"
     },
     "output_type": "display_data"
    }
   ],
   "source": [
    "ABC_train_test2.training_GAN_skip_connection(disc3,gen3,disc_opt,gen_opt,train_data,batch_size,n_epochs,criterion,prior_model,variance,bias,device)"
   ]
  },
  {
   "cell_type": "code",
   "execution_count": 17,
   "id": "c5e0717b",
   "metadata": {
    "execution": {
     "iopub.execute_input": "2022-06-07T07:00:15.677479Z",
     "iopub.status.busy": "2022-06-07T07:00:15.676852Z",
     "iopub.status.idle": "2022-06-07T07:00:15.957943Z",
     "shell.execute_reply": "2022-06-07T07:00:15.958241Z"
    },
    "id": "c5e0717b",
    "papermill": {
     "duration": 0.299381,
     "end_time": "2022-06-07T07:00:15.958364",
     "exception": false,
     "start_time": "2022-06-07T07:00:15.658983",
     "status": "completed"
    },
    "tags": []
   },
   "outputs": [
    {
     "data": {
      "application/scrapbook.scrap.json+json": {
       "data": 0.060298527503335635,
       "encoder": "json",
       "name": "ABC-GAN Model 3 MSE",
       "version": 1
      }
     },
     "metadata": {
      "scrapbook": {
       "data": true,
       "display": false,
       "name": "ABC-GAN Model 3 MSE"
      }
     },
     "output_type": "display_data"
    },
    {
     "data": {
      "application/scrapbook.scrap.json+json": {
       "data": 0.192100171206519,
       "encoder": "json",
       "name": "ABC-GAN Model 3 MAE",
       "version": 1
      }
     },
     "metadata": {
      "scrapbook": {
       "data": true,
       "display": false,
       "name": "ABC-GAN Model 3 MAE"
      }
     },
     "output_type": "display_data"
    },
    {
     "data": {
      "application/scrapbook.scrap.json+json": {
       "data": 3.84200342413038,
       "encoder": "json",
       "name": "ABC-GAN Model 3 Manhattan Distance",
       "version": 1
      }
     },
     "metadata": {
      "scrapbook": {
       "data": true,
       "display": false,
       "name": "ABC-GAN Model 3 Manhattan Distance"
      }
     },
     "output_type": "display_data"
    },
    {
     "data": {
      "application/scrapbook.scrap.json+json": {
       "data": 1.0973951665906305,
       "encoder": "json",
       "name": "ABC-GAN Model 3 Euclidean distance",
       "version": 1
      }
     },
     "metadata": {
      "scrapbook": {
       "data": true,
       "display": false,
       "name": "ABC-GAN Model 3 Euclidean distance"
      }
     },
     "output_type": "display_data"
    },
    {
     "data": {
      "application/scrapbook.scrap.json+json": {
       "data": [
        [
         0.059350217993871836,
         0.05948703176625976,
         0.06373608707337211,
         0.05882039504811727,
         0.06364128664102967,
         0.05970387156587489,
         0.062169393706085874,
         0.06811986061954647,
         0.061552191720767424,
         0.06104449581822646,
         0.06496041633782908,
         0.05681253949458849,
         0.06943676215456344,
         0.06612269744929491,
         0.05618259880208376,
         0.06449113344899193,
         0.06004370530227865,
         0.06488791310531843,
         0.059941508733945416,
         0.059367484132187245,
         0.06275467323318447,
         0.06329043175923454,
         0.07226908746671648,
         0.0628504205951084,
         0.07045284170942119,
         0.0566530009458827,
         0.057596070432856396,
         0.06066635421842268,
         0.061968629067454505,
         0.04625906728676278,
         0.0630311602508425,
         0.05499976006976901,
         0.05045367861920613,
         0.058451385743361485,
         0.05989573360157012,
         0.06163710001254852,
         0.06338374707645619,
         0.06059156219333117,
         0.06237193303803736,
         0.0636870789416109,
         0.05875670850053951,
         0.06190481823726912,
         0.05475534309483521,
         0.062118851770672355,
         0.055539999426086936,
         0.06059690154477861,
         0.0578670942497822,
         0.05550244700944314,
         0.049431397775882166,
         0.05772145857659152,
         0.054041826823476004,
         0.04988614323357677,
         0.06324535239691922,
         0.06146705103368564,
         0.06884590497657753,
         0.055993700830914664,
         0.0623065468444111,
         0.06402480662035755,
         0.06087641262836554,
         0.062298880569230275,
         0.057821692193767316,
         0.06252624983502168,
         0.060148537287732465,
         0.06172405314540632,
         0.07064820408613512,
         0.06034099098166634,
         0.05462160904103621,
         0.06365287805482034,
         0.06487629021646694,
         0.05743301330565662,
         0.06024179001835304,
         0.05513867795625156,
         0.05744615662500533,
         0.0562843736548214,
         0.05647567734749526,
         0.053872473092150416,
         0.0589925486693369,
         0.05547361987124642,
         0.062233937200650735,
         0.05790224749492434,
         0.06004709145224889,
         0.05476779203244504,
         0.06391824093239709,
         0.057901292342890764,
         0.06572489913163784,
         0.06226610491985438,
         0.06298209364770806,
         0.05892740552487978,
         0.0580806547507164,
         0.06082694808520137,
         0.058177125818438036,
         0.060973774402877254,
         0.06453604504179637,
         0.06627099002670848,
         0.06230168041989674,
         0.06557604222350925,
         0.05895176411187193,
         0.053645265381689546,
         0.05824255686078694,
         0.057563009828658626
        ],
        [
         0.1881334513425827,
         0.18965962156653404,
         0.20334450900554657,
         0.18949454575777053,
         0.19655426144599913,
         0.18908984288573266,
         0.19335931465029715,
         0.20886933729052543,
         0.18174113929271699,
         0.1905432716012001,
         0.20204439610242844,
         0.18018038123846053,
         0.20703166872262954,
         0.2026274710893631,
         0.18620983362197877,
         0.195390422642231,
         0.18490753024816514,
         0.20722293704748154,
         0.18926163464784623,
         0.18742999620735645,
         0.1913055256009102,
         0.20545636862516403,
         0.2152465268969536,
         0.19210879504680634,
         0.21350547373294831,
         0.18292202055454254,
         0.1878621131181717,
         0.2073393702507019,
         0.19255025684833527,
         0.17064179629087448,
         0.1969095826148987,
         0.17888838574290275,
         0.1742170549929142,
         0.18485323935747147,
         0.19638426154851912,
         0.19315037056803702,
         0.19852207750082015,
         0.19387180265039206,
         0.19490765035152435,
         0.19906458929181098,
         0.1835869573056698,
         0.19776499941945075,
         0.16970042288303375,
         0.19229655414819719,
         0.18331896960735322,
         0.18663339763879777,
         0.19408852979540825,
         0.17694786097854376,
         0.1720956102013588,
         0.1832790456712246,
         0.18065926879644395,
         0.1777433432638645,
         0.19756720662117006,
         0.20132325552403926,
         0.21103404760360717,
         0.18210959061980247,
         0.19576921463012695,
         0.19815579205751419,
         0.19786721803247928,
         0.2046714797616005,
         0.1881371483206749,
         0.20157689303159715,
         0.18798559233546258,
         0.19873062446713446,
         0.20581382587552072,
         0.19929929897189141,
         0.18155819848179816,
         0.19749388396739959,
         0.2021067298948765,
         0.19160345941781998,
         0.19111885577440263,
         0.18801161423325538,
         0.18454922419041395,
         0.18694744855165482,
         0.18291241265833377,
         0.17959455624222756,
         0.18475095704197883,
         0.18243664354085923,
         0.20262321531772615,
         0.1897642731666565,
         0.1900429479777813,
         0.17647822350263595,
         0.19950101226568223,
         0.18763090670108795,
         0.20491802245378493,
         0.19358085989952087,
         0.1933116614818573,
         0.1821727842092514,
         0.18941668123006822,
         0.1940557226538658,
         0.19234094768762589,
         0.19015900865197183,
         0.20590507760643958,
         0.20036979168653488,
         0.19560446590185165,
         0.2069922588765621,
         0.19291468225419522,
         0.18331822380423546,
         0.18279581815004348,
         0.1920775756239891
        ],
        [
         3.762669026851654,
         3.793192431330681,
         4.066890180110931,
         3.7898909151554108,
         3.931085228919983,
         3.781796857714653,
         3.8671862930059433,
         4.177386745810509,
         3.6348227858543396,
         3.810865432024002,
         4.040887922048569,
         3.603607624769211,
         4.140633374452591,
         4.052549421787262,
         3.724196672439575,
         3.9078084528446198,
         3.6981506049633026,
         4.144458740949631,
         3.7852326929569244,
         3.748599924147129,
         3.8261105120182037,
         4.109127372503281,
         4.304930537939072,
         3.8421759009361267,
         4.270109474658966,
         3.658440411090851,
         3.757242262363434,
         4.146787405014038,
         3.8510051369667053,
         3.4128359258174896,
         3.9381916522979736,
         3.577767714858055,
         3.484341099858284,
         3.6970647871494293,
         3.9276852309703827,
         3.8630074113607407,
         3.970441550016403,
         3.877436053007841,
         3.898153007030487,
         3.98129178583622,
         3.6717391461133957,
         3.955299988389015,
         3.394008457660675,
         3.8459310829639435,
         3.666379392147064,
         3.732667952775955,
         3.881770595908165,
         3.538957219570875,
         3.441912204027176,
         3.665580913424492,
         3.613185375928879,
         3.5548668652772903,
         3.951344132423401,
         4.026465110480785,
         4.2206809520721436,
         3.6421918123960495,
         3.915384292602539,
         3.963115841150284,
         3.9573443606495857,
         4.09342959523201,
         3.762742966413498,
         4.031537860631943,
         3.7597118467092514,
         3.9746124893426895,
         4.116276517510414,
         3.985985979437828,
         3.6311639696359634,
         3.949877679347992,
         4.04213459789753,
         3.8320691883563995,
         3.8223771154880524,
         3.7602322846651077,
         3.690984483808279,
         3.7389489710330963,
         3.6582482531666756,
         3.591891124844551,
         3.6950191408395767,
         3.6487328708171844,
         4.052464306354523,
         3.79528546333313,
         3.800858959555626,
         3.529564470052719,
         3.9900202453136444,
         3.752618134021759,
         4.098360449075699,
         3.8716171979904175,
         3.866233229637146,
         3.643455684185028,
         3.788333624601364,
         3.8811144530773163,
         3.8468189537525177,
         3.8031801730394363,
         4.118101552128792,
         4.007395833730698,
         3.912089318037033,
         4.139845177531242,
         3.8582936450839043,
         3.666364476084709,
         3.6559163630008698,
         3.841551512479782
        ],
        [
         1.0894972968655943,
         1.0907523253815208,
         1.1290357573909882,
         1.084623391303334,
         1.128195786563925,
         1.0927385008855035,
         1.1150730353307434,
         1.1672177227882248,
         1.109524147738727,
         1.104938874492399,
         1.1398282005445302,
         1.0659506507769343,
         1.1784461137834301,
         1.1499799776456536,
         1.0600245167172668,
         1.1357036008483195,
         1.095844015380644,
         1.1391919338313314,
         1.0949110350521216,
         1.089655763369214,
         1.120309539664681,
         1.1250816126773608,
         1.202240304321199,
         1.1211638648753213,
         1.1870369978178539,
         1.0644529200099242,
         1.073276016995222,
         1.1015112729193712,
         1.1132711176299734,
         0.9618634756218034,
         1.1227747792931804,
         1.048806560522664,
         1.0045265414035225,
         1.08121585026637,
         1.094492883499661,
         1.1102891516406752,
         1.1259107164998137,
         1.1008320688763675,
         1.1168879356321955,
         1.1286016032383694,
         1.0840360556784032,
         1.1126977867980965,
         1.0464735361664452,
         1.1146196819603749,
         1.053944964655052,
         1.1008805706776608,
         1.075798254783695,
         1.053588601015056,
         0.9942977197588473,
         1.0744436567507067,
         1.039632885430968,
         0.9988607834285693,
         1.1246808649294182,
         1.108756520014071,
         1.1734215353109685,
         1.0582410011988257,
         1.116302350122144,
         1.1315900902743674,
         1.103416626921722,
         1.1162336723932877,
         1.075376140648167,
         1.1182687497647574,
         1.0968002305591704,
         1.1110720331770243,
         1.1886816570144854,
         1.098553512412266,
         1.0451948052017501,
         1.1282985248135384,
         1.1390899017765626,
         1.0717556932963466,
         1.0976501265736094,
         1.0501302581704002,
         1.0718783198199815,
         1.0609842002105536,
         1.0627857483754217,
         1.038002630942238,
         1.086209451895323,
         1.0533149564232573,
         1.1156517126832257,
         1.0761249694614872,
         1.0958749148716644,
         1.0465924902505754,
         1.1306479640665974,
         1.0761160935781118,
         1.1465155832489835,
         1.115940006629876,
         1.1223376822303353,
         1.0856095571141569,
         1.0777815618270374,
         1.1029682505421574,
         1.078676279691345,
         1.104298640793126,
         1.1360989837315794,
         1.1512687785804712,
         1.1162587551271144,
         1.1452165055002417,
         1.085833910981527,
         1.0358114247457357,
         1.0792826956899377,
         1.0729679382782937
        ]
       ],
       "encoder": "json",
       "name": "ABC_GAN_3 Metrics",
       "version": 1
      }
     },
     "metadata": {
      "scrapbook": {
       "data": true,
       "display": false,
       "name": "ABC_GAN_3 Metrics"
      }
     },
     "output_type": "display_data"
    },
    {
     "name": "stdout",
     "output_type": "stream",
     "text": [
      "MSE\n",
      "0.060298527503335635\n"
     ]
    }
   ],
   "source": [
    "ABC_GAN3_metrics=ABC_train_test2.test_generator(gen3,test_data,prior_model,variance,bias,\"3\",device)\n",
    "sb.glue(\"ABC_GAN_3 Metrics\",ABC_GAN3_metrics)\n",
    "\n",
    "print(\"MSE\")\n",
    "print(mean(ABC_GAN3_metrics[0]))"
   ]
  },
  {
   "cell_type": "code",
   "execution_count": 18,
   "id": "c8e46b48",
   "metadata": {
    "execution": {
     "iopub.execute_input": "2022-06-07T07:00:15.994849Z",
     "iopub.status.busy": "2022-06-07T07:00:15.994454Z",
     "iopub.status.idle": "2022-06-07T07:00:16.287628Z",
     "shell.execute_reply": "2022-06-07T07:00:16.287944Z"
    },
    "id": "c8e46b48",
    "papermill": {
     "duration": 0.312424,
     "end_time": "2022-06-07T07:00:16.288070",
     "exception": false,
     "start_time": "2022-06-07T07:00:15.975646",
     "status": "completed"
    },
    "tags": []
   },
   "outputs": [
    {
     "data": {
      "image/png": "[encoded data removed]",
      "text/plain": [
       "<Figure size 432x288 with 1 Axes>"
      ]
     },
     "metadata": {
      "needs_background": "light"
     },
     "output_type": "display_data"
    },
    {
     "data": {
      "image/png": "[encoded data removed]",
      "text/plain": [
       "<Figure size 432x288 with 1 Axes>"
      ]
     },
     "metadata": {
      "needs_background": "light"
     },
     "output_type": "display_data"
    },
    {
     "data": {
      "image/png": "[encoded data removed]",
      "text/plain": [
       "<Figure size 432x288 with 1 Axes>"
      ]
     },
     "metadata": {
      "needs_background": "light"
     },
     "output_type": "display_data"
    },
    {
     "data": {
      "image/png": "[encoded data removed]",
      "text/plain": [
       "<Figure size 432x288 with 1 Axes>"
      ]
     },
     "metadata": {
      "needs_background": "light"
     },
     "output_type": "display_data"
    }
   ],
   "source": [
    "sanityChecks.discProbVsError(train_data,disc3,device)\n",
    "sanityChecks.discProbVsError(test_data,disc3,device)"
   ]
  },
  {
   "cell_type": "markdown",
   "id": "a5bd74c3",
   "metadata": {
    "id": "a5bd74c3",
    "papermill": {
     "duration": 0.019593,
     "end_time": "2022-06-07T07:00:16.327173",
     "exception": false,
     "start_time": "2022-06-07T07:00:16.307580",
     "status": "completed"
    },
    "tags": []
   },
   "source": [
    "## Skip Connection Model Analysis - ABC-GAN "
   ]
  },
  {
   "cell_type": "markdown",
   "id": "5744a8bf",
   "metadata": {
    "id": "5744a8bf",
    "papermill": {
     "duration": 0.01908,
     "end_time": "2022-06-07T07:00:16.365598",
     "exception": false,
     "start_time": "2022-06-07T07:00:16.346518",
     "status": "completed"
    },
    "tags": []
   },
   "source": [
    "### Weight Analysis \n",
    "\n",
    "Study the weights of the skip connection layer\n",
    "\n",
    "Equation of the skip connection is \n",
    "\n",
    "$output = y_{gan} * w + y_{abc} * (1-w)$"
   ]
  },
  {
   "cell_type": "code",
   "execution_count": 19,
   "id": "52c31dea",
   "metadata": {
    "execution": {
     "iopub.execute_input": "2022-06-07T07:00:16.406795Z",
     "iopub.status.busy": "2022-06-07T07:00:16.406413Z",
     "iopub.status.idle": "2022-06-07T07:00:16.409885Z",
     "shell.execute_reply": "2022-06-07T07:00:16.410125Z"
    },
    "id": "52c31dea",
    "papermill": {
     "duration": 0.025464,
     "end_time": "2022-06-07T07:00:16.410238",
     "exception": false,
     "start_time": "2022-06-07T07:00:16.384774",
     "status": "completed"
    },
    "tags": []
   },
   "outputs": [
    {
     "name": "stdout",
     "output_type": "stream",
     "text": [
      "Weight of the node at skip connection\n",
      "Parameter containing:\n",
      "tensor([[0.2642]], requires_grad=True)\n"
     ]
    },
    {
     "data": {
      "application/scrapbook.scrap.json+json": {
       "data": 0.2642386257648468,
       "encoder": "json",
       "name": "Skip Connection Weight",
       "version": 1
      }
     },
     "metadata": {
      "scrapbook": {
       "data": true,
       "display": false,
       "name": "Skip Connection Weight"
      }
     },
     "output_type": "display_data"
    }
   ],
   "source": [
    "print(\"Weight of the node at skip connection\")\n",
    "for name,param in gen3.named_parameters():\n",
    "    if(name == \"skipNode.weight\"):\n",
    "        print(param)\n",
    "        sb.glue(\"Skip Connection Weight\",param.item())"
   ]
  }
 ],
 "metadata": {
  "colab": {
   "collapsed_sections": [],
   "name": "ABC_GAN_Model-Catboost_Pre-gen.ipynb",
   "provenance": []
  },
  "interpreter": {
   "hash": "31f2aee4e71d21fbe5cf8b01ff0e069b9275f58929596ceb00d14d90e3e16cd6"
  },
  "kernelspec": {
   "display_name": "Python 3 (ipykernel)",
   "language": "python",
   "name": "python3"
  },
  "language_info": {
   "codemirror_mode": {
    "name": "ipython",
    "version": 3
   },
   "file_extension": ".py",
   "mimetype": "text/x-python",
   "name": "python",
   "nbconvert_exporter": "python",
   "pygments_lexer": "ipython3",
   "version": "3.8.11"
  },
  "papermill": {
   "default_parameters": {},
   "duration": 57.735356,
   "end_time": "2022-06-07T07:00:16.737231",
   "environment_variables": {},
   "exception": null,
   "input_path": "ABC_GAN-Catboost.ipynb",
   "output_path": "./ABC_GAN_Catboost/ABC-GAN_output_8_3.ipynb",
   "parameters": {
    "bias": 0.1,
    "variance": 1
   },
   "start_time": "2022-06-07T06:59:19.001875",
   "version": "2.3.3"
  }
 },
 "nbformat": 4,
 "nbformat_minor": 5
}