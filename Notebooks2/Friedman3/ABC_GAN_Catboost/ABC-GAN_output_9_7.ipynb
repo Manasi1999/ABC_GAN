{
 "cells": [
  {
   "cell_type": "markdown",
   "id": "622780e6",
   "metadata": {
    "id": "622780e6",
    "papermill": {
     "duration": 0.03116,
     "end_time": "2022-06-07T07:12:46.360973",
     "exception": false,
     "start_time": "2022-06-07T07:12:46.329813",
     "status": "completed"
    },
    "tags": []
   },
   "source": [
    "## Import Libraries "
   ]
  },
  {
   "cell_type": "code",
   "execution_count": 1,
   "id": "a62397e3",
   "metadata": {
    "execution": {
     "iopub.execute_input": "2022-06-07T07:12:46.398269Z",
     "iopub.status.busy": "2022-06-07T07:12:46.397775Z",
     "iopub.status.idle": "2022-06-07T07:12:46.400246Z",
     "shell.execute_reply": "2022-06-07T07:12:46.400592Z"
    },
    "id": "a62397e3",
    "papermill": {
     "duration": 0.022771,
     "end_time": "2022-06-07T07:12:46.400806",
     "exception": false,
     "start_time": "2022-06-07T07:12:46.378035",
     "status": "completed"
    },
    "tags": []
   },
   "outputs": [],
   "source": [
    "import warnings\n",
    "import sys\n",
    "sys.path.insert(0, '../../src')\n",
    "warnings.filterwarnings('ignore')"
   ]
  },
  {
   "cell_type": "code",
   "execution_count": 2,
   "id": "d6a4e155",
   "metadata": {
    "execution": {
     "iopub.execute_input": "2022-06-07T07:12:46.421611Z",
     "iopub.status.busy": "2022-06-07T07:12:46.421233Z",
     "iopub.status.idle": "2022-06-07T07:12:48.038611Z",
     "shell.execute_reply": "2022-06-07T07:12:48.038850Z"
    },
    "id": "d6a4e155",
    "papermill": {
     "duration": 1.628539,
     "end_time": "2022-06-07T07:12:48.038980",
     "exception": false,
     "start_time": "2022-06-07T07:12:46.410441",
     "status": "completed"
    },
    "tags": []
   },
   "outputs": [],
   "source": [
    "import ABC_train_test2\n",
    "import friedman1Dataset\n",
    "import network\n",
    "import dataset\n",
    "import sanityChecks\n",
    "import torch \n",
    "import scrapbook as sb\n",
    "from statistics import mean \n",
    "import catboost as ctb \n",
    "from sklearn.model_selection import train_test_split\n",
    "from sklearn.metrics import mean_squared_error,mean_absolute_error\n",
    "import numpy as np"
   ]
  },
  {
   "cell_type": "markdown",
   "id": "2fa5b0f7",
   "metadata": {
    "id": "2fa5b0f7",
    "papermill": {
     "duration": 0.006853,
     "end_time": "2022-06-07T07:12:48.053067",
     "exception": false,
     "start_time": "2022-06-07T07:12:48.046214",
     "status": "completed"
    },
    "tags": []
   },
   "source": [
    "## Parameters "
   ]
  },
  {
   "cell_type": "code",
   "execution_count": 3,
   "id": "783186fb",
   "metadata": {
    "execution": {
     "iopub.execute_input": "2022-06-07T07:12:48.069115Z",
     "iopub.status.busy": "2022-06-07T07:12:48.068734Z",
     "iopub.status.idle": "2022-06-07T07:12:48.070074Z",
     "shell.execute_reply": "2022-06-07T07:12:48.070326Z"
    },
    "id": "783186fb",
    "papermill": {
     "duration": 0.010406,
     "end_time": "2022-06-07T07:12:48.070447",
     "exception": false,
     "start_time": "2022-06-07T07:12:48.060041",
     "status": "completed"
    },
    "tags": [
     "parameters"
    ]
   },
   "outputs": [],
   "source": [
    "variance = 1\n",
    "bias = 1 "
   ]
  },
  {
   "cell_type": "code",
   "execution_count": 4,
   "id": "0e176684",
   "metadata": {
    "execution": {
     "iopub.execute_input": "2022-06-07T07:12:48.086374Z",
     "iopub.status.busy": "2022-06-07T07:12:48.085966Z",
     "iopub.status.idle": "2022-06-07T07:12:48.087310Z",
     "shell.execute_reply": "2022-06-07T07:12:48.087543Z"
    },
    "papermill": {
     "duration": 0.010112,
     "end_time": "2022-06-07T07:12:48.087651",
     "exception": false,
     "start_time": "2022-06-07T07:12:48.077539",
     "status": "completed"
    },
    "tags": [
     "injected-parameters"
    ]
   },
   "outputs": [],
   "source": [
    "# Parameters\n",
    "variance = 0.1\n",
    "bias = 0.01\n"
   ]
  },
  {
   "cell_type": "markdown",
   "id": "391cdbfd",
   "metadata": {
    "id": "391cdbfd",
    "papermill": {
     "duration": 0.006922,
     "end_time": "2022-06-07T07:12:48.101544",
     "exception": false,
     "start_time": "2022-06-07T07:12:48.094622",
     "status": "completed"
    },
    "tags": []
   },
   "source": [
    "## Dataset \n"
   ]
  },
  {
   "cell_type": "code",
   "execution_count": 5,
   "id": "5b51f161",
   "metadata": {
    "execution": {
     "iopub.execute_input": "2022-06-07T07:12:48.118289Z",
     "iopub.status.busy": "2022-06-07T07:12:48.117918Z",
     "iopub.status.idle": "2022-06-07T07:12:48.119515Z",
     "shell.execute_reply": "2022-06-07T07:12:48.119785Z"
    },
    "id": "5b51f161",
    "papermill": {
     "duration": 0.011118,
     "end_time": "2022-06-07T07:12:48.119924",
     "exception": false,
     "start_time": "2022-06-07T07:12:48.108806",
     "status": "completed"
    },
    "tags": []
   },
   "outputs": [],
   "source": [
    "#Parameters \n",
    "n_features = 5\n",
    "n_samples= 100\n",
    "n_target = 1 "
   ]
  },
  {
   "cell_type": "code",
   "execution_count": 6,
   "id": "5d6eced4",
   "metadata": {
    "execution": {
     "iopub.execute_input": "2022-06-07T07:12:48.137959Z",
     "iopub.status.busy": "2022-06-07T07:12:48.137567Z",
     "iopub.status.idle": "2022-06-07T07:12:48.142406Z",
     "shell.execute_reply": "2022-06-07T07:12:48.142658Z"
    },
    "id": "5d6eced4",
    "papermill": {
     "duration": 0.015588,
     "end_time": "2022-06-07T07:12:48.142779",
     "exception": false,
     "start_time": "2022-06-07T07:12:48.127191",
     "status": "completed"
    },
    "tags": []
   },
   "outputs": [
    {
     "name": "stdout",
     "output_type": "stream",
     "text": [
      "         X0        X1        X2        X3        X4         Y\n",
      "0 -1.819041  0.275709 -0.549464  1.015602 -0.816695 -0.908781\n",
      "1  0.762977 -0.067346 -0.226005 -1.462150 -0.294303 -0.601839\n",
      "2  0.348260  0.942388  0.983959  1.903997  1.540826  2.657288\n",
      "3 -0.184311  1.695492 -1.466935  1.229406 -1.303120  1.675769\n",
      "4 -0.478562  0.796185  1.194637  1.554910  0.823876  1.904478\n"
     ]
    }
   ],
   "source": [
    "X,Y = friedman1Dataset.friedman1_data(n_samples,n_features)"
   ]
  },
  {
   "cell_type": "code",
   "execution_count": 7,
   "id": "fe007438",
   "metadata": {
    "execution": {
     "iopub.execute_input": "2022-06-07T07:12:48.160227Z",
     "iopub.status.busy": "2022-06-07T07:12:48.159859Z",
     "iopub.status.idle": "2022-06-07T07:12:48.161085Z",
     "shell.execute_reply": "2022-06-07T07:12:48.161335Z"
    },
    "id": "fe007438",
    "papermill": {
     "duration": 0.011176,
     "end_time": "2022-06-07T07:12:48.161443",
     "exception": false,
     "start_time": "2022-06-07T07:12:48.150267",
     "status": "completed"
    },
    "tags": []
   },
   "outputs": [],
   "source": [
    "#Train test split for dataset \n",
    "X_train,X_test,Y_train,Y_test = train_test_split(X,Y,test_size = 0.2)\n",
    "train_data = dataset.CustomDataset(X_train,Y_train)\n",
    "test_data = dataset.CustomDataset(X_test,Y_test)\n"
   ]
  },
  {
   "cell_type": "markdown",
   "id": "a9a1af34",
   "metadata": {
    "id": "a9a1af34",
    "papermill": {
     "duration": 0.007135,
     "end_time": "2022-06-07T07:12:48.175830",
     "exception": false,
     "start_time": "2022-06-07T07:12:48.168695",
     "status": "completed"
    },
    "tags": []
   },
   "source": [
    "## Training Parameters "
   ]
  },
  {
   "cell_type": "code",
   "execution_count": 8,
   "id": "952b7fc8",
   "metadata": {
    "execution": {
     "iopub.execute_input": "2022-06-07T07:12:48.192248Z",
     "iopub.status.busy": "2022-06-07T07:12:48.191881Z",
     "iopub.status.idle": "2022-06-07T07:12:48.193170Z",
     "shell.execute_reply": "2022-06-07T07:12:48.193414Z"
    },
    "id": "952b7fc8",
    "papermill": {
     "duration": 0.010617,
     "end_time": "2022-06-07T07:12:48.193521",
     "exception": false,
     "start_time": "2022-06-07T07:12:48.182904",
     "status": "completed"
    },
    "tags": []
   },
   "outputs": [],
   "source": [
    "batch_size = 32\n",
    "n_epochs = 1000\n",
    "#Select the device \n",
    "device = torch.device('cuda' if torch.cuda.is_available() else 'cpu')"
   ]
  },
  {
   "cell_type": "markdown",
   "id": "a95e1600",
   "metadata": {
    "id": "a95e1600",
    "papermill": {
     "duration": 0.007113,
     "end_time": "2022-06-07T07:12:48.207865",
     "exception": false,
     "start_time": "2022-06-07T07:12:48.200752",
     "status": "completed"
    },
    "tags": []
   },
   "source": [
    "# ABC Pre-generator Model \n",
    "\n",
    "1. The catboost model is used as a pre-generator model for the ABC-GAN. \n",
    "2. The model is first trained on the entire dataset \n",
    "3. It generats X,Y pairs and we add some Gaussian noise with mean 0 and variance 1 to it which is then feed as input to the generator.\n"
   ]
  },
  {
   "cell_type": "code",
   "execution_count": 9,
   "id": "ff8ce7bd",
   "metadata": {
    "execution": {
     "iopub.execute_input": "2022-06-07T07:12:48.227463Z",
     "iopub.status.busy": "2022-06-07T07:12:48.227061Z",
     "iopub.status.idle": "2022-06-07T07:12:48.882368Z",
     "shell.execute_reply": "2022-06-07T07:12:48.882679Z"
    },
    "id": "ff8ce7bd",
    "papermill": {
     "duration": 0.667767,
     "end_time": "2022-06-07T07:12:48.882805",
     "exception": false,
     "start_time": "2022-06-07T07:12:48.215038",
     "status": "completed"
    },
    "tags": []
   },
   "outputs": [
    {
     "name": "stdout",
     "output_type": "stream",
     "text": [
      "Learning rate set to 0.024897\n",
      "0:\tlearn: 0.9607551\ttotal: 60.2ms\tremaining: 1m\n",
      "1:\tlearn: 0.9527942\ttotal: 60.9ms\tremaining: 30.4s\n",
      "2:\tlearn: 0.9450970\ttotal: 61.4ms\tremaining: 20.4s\n",
      "3:\tlearn: 0.9357130\ttotal: 62.1ms\tremaining: 15.5s\n",
      "4:\tlearn: 0.9268217\ttotal: 62.6ms\tremaining: 12.5s\n",
      "5:\tlearn: 0.9162548\ttotal: 63.1ms\tremaining: 10.5s\n",
      "6:\tlearn: 0.9079221\ttotal: 63.7ms\tremaining: 9.04s\n",
      "7:\tlearn: 0.8994270\ttotal: 64.2ms\tremaining: 7.96s\n",
      "8:\tlearn: 0.8908397\ttotal: 64.8ms\tremaining: 7.13s\n",
      "9:\tlearn: 0.8825044\ttotal: 65.3ms\tremaining: 6.47s\n",
      "10:\tlearn: 0.8728355\ttotal: 65.7ms\tremaining: 5.91s\n",
      "11:\tlearn: 0.8658438\ttotal: 66.2ms\tremaining: 5.45s\n",
      "12:\tlearn: 0.8560598\ttotal: 66.7ms\tremaining: 5.07s\n",
      "13:\tlearn: 0.8479186\ttotal: 67.2ms\tremaining: 4.73s\n",
      "14:\tlearn: 0.8409043\ttotal: 67.6ms\tremaining: 4.44s\n",
      "15:\tlearn: 0.8341584\ttotal: 68.1ms\tremaining: 4.18s\n",
      "16:\tlearn: 0.8282323\ttotal: 68.6ms\tremaining: 3.97s\n",
      "17:\tlearn: 0.8215007\ttotal: 69ms\tremaining: 3.77s\n",
      "18:\tlearn: 0.8145415\ttotal: 69.5ms\tremaining: 3.59s\n",
      "19:\tlearn: 0.8077876\ttotal: 70.1ms\tremaining: 3.43s\n",
      "20:\tlearn: 0.8009358\ttotal: 70.6ms\tremaining: 3.29s\n",
      "21:\tlearn: 0.7938774\ttotal: 71ms\tremaining: 3.15s\n",
      "22:\tlearn: 0.7872477\ttotal: 71.3ms\tremaining: 3.03s\n",
      "23:\tlearn: 0.7798513\ttotal: 71.8ms\tremaining: 2.92s\n",
      "24:\tlearn: 0.7730750\ttotal: 72.3ms\tremaining: 2.82s\n",
      "25:\tlearn: 0.7669111\ttotal: 73ms\tremaining: 2.73s\n",
      "26:\tlearn: 0.7607673\ttotal: 73.5ms\tremaining: 2.65s\n",
      "27:\tlearn: 0.7545055\ttotal: 73.9ms\tremaining: 2.57s\n",
      "28:\tlearn: 0.7491498\ttotal: 74.5ms\tremaining: 2.49s\n",
      "29:\tlearn: 0.7408011\ttotal: 74.9ms\tremaining: 2.42s\n",
      "30:\tlearn: 0.7331005\ttotal: 75.4ms\tremaining: 2.36s\n",
      "31:\tlearn: 0.7291530\ttotal: 75.7ms\tremaining: 2.29s\n",
      "32:\tlearn: 0.7231367\ttotal: 76.2ms\tremaining: 2.23s\n",
      "33:\tlearn: 0.7168271\ttotal: 76.6ms\tremaining: 2.18s\n",
      "34:\tlearn: 0.7100030\ttotal: 77ms\tremaining: 2.12s\n",
      "35:\tlearn: 0.7034908\ttotal: 77.4ms\tremaining: 2.07s\n",
      "36:\tlearn: 0.6972371\ttotal: 77.9ms\tremaining: 2.03s\n",
      "37:\tlearn: 0.6918531\ttotal: 78.4ms\tremaining: 1.98s\n",
      "38:\tlearn: 0.6864627\ttotal: 78.8ms\tremaining: 1.94s\n",
      "39:\tlearn: 0.6810879\ttotal: 79.3ms\tremaining: 1.9s\n",
      "40:\tlearn: 0.6754270\ttotal: 79.8ms\tremaining: 1.87s\n",
      "41:\tlearn: 0.6685754\ttotal: 80.3ms\tremaining: 1.83s\n",
      "42:\tlearn: 0.6622716\ttotal: 80.9ms\tremaining: 1.8s\n",
      "43:\tlearn: 0.6572421\ttotal: 81.4ms\tremaining: 1.77s\n",
      "44:\tlearn: 0.6515545\ttotal: 81.9ms\tremaining: 1.74s\n",
      "45:\tlearn: 0.6454754\ttotal: 82.4ms\tremaining: 1.71s\n",
      "46:\tlearn: 0.6398358\ttotal: 82.8ms\tremaining: 1.68s\n",
      "47:\tlearn: 0.6343802\ttotal: 83.3ms\tremaining: 1.65s\n",
      "48:\tlearn: 0.6294116\ttotal: 83.8ms\tremaining: 1.63s\n",
      "49:\tlearn: 0.6244970\ttotal: 84.2ms\tremaining: 1.6s\n",
      "50:\tlearn: 0.6202104\ttotal: 84.7ms\tremaining: 1.57s\n",
      "51:\tlearn: 0.6153010\ttotal: 85.3ms\tremaining: 1.55s\n",
      "52:\tlearn: 0.6102157\ttotal: 86.6ms\tremaining: 1.55s\n",
      "53:\tlearn: 0.6051081\ttotal: 87.2ms\tremaining: 1.53s\n",
      "54:\tlearn: 0.6001680\ttotal: 87.5ms\tremaining: 1.5s\n",
      "55:\tlearn: 0.5951234\ttotal: 88ms\tremaining: 1.48s\n",
      "56:\tlearn: 0.5893246\ttotal: 88.5ms\tremaining: 1.46s\n",
      "57:\tlearn: 0.5843875\ttotal: 89ms\tremaining: 1.45s\n",
      "58:\tlearn: 0.5795154\ttotal: 89.4ms\tremaining: 1.43s\n",
      "59:\tlearn: 0.5741527\ttotal: 90ms\tremaining: 1.41s\n",
      "60:\tlearn: 0.5686811\ttotal: 90.6ms\tremaining: 1.39s\n",
      "61:\tlearn: 0.5639175\ttotal: 91.2ms\tremaining: 1.38s\n",
      "62:\tlearn: 0.5592404\ttotal: 91.7ms\tremaining: 1.36s\n",
      "63:\tlearn: 0.5547454\ttotal: 92.3ms\tremaining: 1.35s\n",
      "64:\tlearn: 0.5500234\ttotal: 92.9ms\tremaining: 1.34s\n",
      "65:\tlearn: 0.5450647\ttotal: 93.5ms\tremaining: 1.32s\n",
      "66:\tlearn: 0.5410377\ttotal: 93.9ms\tremaining: 1.31s\n",
      "67:\tlearn: 0.5367090\ttotal: 94.4ms\tremaining: 1.29s\n",
      "68:\tlearn: 0.5326979\ttotal: 94.9ms\tremaining: 1.28s\n",
      "69:\tlearn: 0.5282586\ttotal: 95.6ms\tremaining: 1.27s\n",
      "70:\tlearn: 0.5241893\ttotal: 96.2ms\tremaining: 1.26s\n",
      "71:\tlearn: 0.5198884\ttotal: 96.6ms\tremaining: 1.25s\n",
      "72:\tlearn: 0.5154896\ttotal: 97.1ms\tremaining: 1.23s\n",
      "73:\tlearn: 0.5108901\ttotal: 97.5ms\tremaining: 1.22s\n",
      "74:\tlearn: 0.5068931\ttotal: 98ms\tremaining: 1.21s\n",
      "75:\tlearn: 0.5037242\ttotal: 98.5ms\tremaining: 1.2s\n",
      "76:\tlearn: 0.4995983\ttotal: 98.8ms\tremaining: 1.18s\n",
      "77:\tlearn: 0.4955384\ttotal: 99.4ms\tremaining: 1.17s\n",
      "78:\tlearn: 0.4922178\ttotal: 99.8ms\tremaining: 1.16s\n",
      "79:\tlearn: 0.4889074\ttotal: 100ms\tremaining: 1.15s\n",
      "80:\tlearn: 0.4851743\ttotal: 101ms\tremaining: 1.14s\n",
      "81:\tlearn: 0.4812757\ttotal: 101ms\tremaining: 1.13s\n",
      "82:\tlearn: 0.4774538\ttotal: 102ms\tremaining: 1.12s\n",
      "83:\tlearn: 0.4733794\ttotal: 102ms\tremaining: 1.11s\n",
      "84:\tlearn: 0.4697369\ttotal: 103ms\tremaining: 1.1s\n",
      "85:\tlearn: 0.4656969\ttotal: 103ms\tremaining: 1.09s\n",
      "86:\tlearn: 0.4624475\ttotal: 103ms\tremaining: 1.08s\n",
      "87:\tlearn: 0.4587197\ttotal: 104ms\tremaining: 1.08s\n",
      "88:\tlearn: 0.4549181\ttotal: 104ms\tremaining: 1.07s\n",
      "89:\tlearn: 0.4505834\ttotal: 105ms\tremaining: 1.06s\n",
      "90:\tlearn: 0.4479637\ttotal: 105ms\tremaining: 1.05s\n",
      "91:\tlearn: 0.4448577\ttotal: 106ms\tremaining: 1.05s\n"
     ]
    },
    {
     "name": "stdout",
     "output_type": "stream",
     "text": [
      "92:\tlearn: 0.4406754\ttotal: 107ms\tremaining: 1.04s\n",
      "93:\tlearn: 0.4367727\ttotal: 107ms\tremaining: 1.03s\n",
      "94:\tlearn: 0.4328869\ttotal: 108ms\tremaining: 1.03s\n",
      "95:\tlearn: 0.4290815\ttotal: 108ms\tremaining: 1.02s\n",
      "96:\tlearn: 0.4252206\ttotal: 109ms\tremaining: 1.01s\n",
      "97:\tlearn: 0.4217496\ttotal: 109ms\tremaining: 1s\n",
      "98:\tlearn: 0.4186487\ttotal: 109ms\tremaining: 995ms\n",
      "99:\tlearn: 0.4156171\ttotal: 110ms\tremaining: 987ms\n",
      "100:\tlearn: 0.4127448\ttotal: 110ms\tremaining: 980ms\n",
      "101:\tlearn: 0.4097179\ttotal: 111ms\tremaining: 974ms\n",
      "102:\tlearn: 0.4062804\ttotal: 111ms\tremaining: 968ms\n",
      "103:\tlearn: 0.4031320\ttotal: 112ms\tremaining: 961ms\n",
      "104:\tlearn: 0.3998067\ttotal: 112ms\tremaining: 955ms\n",
      "105:\tlearn: 0.3968907\ttotal: 113ms\tremaining: 950ms\n",
      "106:\tlearn: 0.3936653\ttotal: 113ms\tremaining: 945ms\n",
      "107:\tlearn: 0.3910692\ttotal: 114ms\tremaining: 941ms\n",
      "108:\tlearn: 0.3880371\ttotal: 114ms\tremaining: 935ms\n",
      "109:\tlearn: 0.3848299\ttotal: 115ms\tremaining: 929ms\n",
      "110:\tlearn: 0.3823695\ttotal: 115ms\tremaining: 923ms\n",
      "111:\tlearn: 0.3797179\ttotal: 116ms\tremaining: 917ms\n",
      "112:\tlearn: 0.3768031\ttotal: 116ms\tremaining: 912ms\n",
      "113:\tlearn: 0.3736391\ttotal: 117ms\tremaining: 907ms\n",
      "114:\tlearn: 0.3707489\ttotal: 117ms\tremaining: 901ms\n",
      "115:\tlearn: 0.3681031\ttotal: 118ms\tremaining: 896ms\n",
      "116:\tlearn: 0.3654618\ttotal: 118ms\tremaining: 890ms\n",
      "117:\tlearn: 0.3629490\ttotal: 118ms\tremaining: 885ms\n",
      "118:\tlearn: 0.3606627\ttotal: 119ms\tremaining: 880ms\n",
      "119:\tlearn: 0.3580790\ttotal: 119ms\tremaining: 875ms\n",
      "120:\tlearn: 0.3549231\ttotal: 120ms\tremaining: 870ms\n",
      "121:\tlearn: 0.3521282\ttotal: 120ms\tremaining: 865ms\n",
      "122:\tlearn: 0.3494560\ttotal: 121ms\tremaining: 862ms\n",
      "123:\tlearn: 0.3472979\ttotal: 121ms\tremaining: 857ms\n",
      "124:\tlearn: 0.3447507\ttotal: 122ms\tremaining: 854ms\n",
      "125:\tlearn: 0.3423477\ttotal: 123ms\tremaining: 850ms\n",
      "126:\tlearn: 0.3402755\ttotal: 123ms\tremaining: 846ms\n",
      "127:\tlearn: 0.3383008\ttotal: 124ms\tremaining: 841ms\n",
      "128:\tlearn: 0.3357696\ttotal: 124ms\tremaining: 837ms\n",
      "129:\tlearn: 0.3337235\ttotal: 125ms\tremaining: 833ms\n",
      "130:\tlearn: 0.3313541\ttotal: 125ms\tremaining: 830ms\n",
      "131:\tlearn: 0.3291671\ttotal: 126ms\tremaining: 826ms\n",
      "132:\tlearn: 0.3269594\ttotal: 126ms\tremaining: 822ms\n",
      "133:\tlearn: 0.3246044\ttotal: 126ms\tremaining: 818ms\n",
      "134:\tlearn: 0.3219684\ttotal: 127ms\tremaining: 813ms\n",
      "135:\tlearn: 0.3199681\ttotal: 127ms\tremaining: 809ms\n",
      "136:\tlearn: 0.3175233\ttotal: 128ms\tremaining: 806ms\n",
      "137:\tlearn: 0.3153686\ttotal: 128ms\tremaining: 801ms\n",
      "138:\tlearn: 0.3132661\ttotal: 129ms\tremaining: 797ms\n",
      "139:\tlearn: 0.3110182\ttotal: 129ms\tremaining: 794ms\n",
      "140:\tlearn: 0.3086919\ttotal: 130ms\tremaining: 791ms\n",
      "141:\tlearn: 0.3063108\ttotal: 130ms\tremaining: 788ms\n",
      "142:\tlearn: 0.3044232\ttotal: 131ms\tremaining: 785ms\n",
      "143:\tlearn: 0.3021117\ttotal: 131ms\tremaining: 782ms\n",
      "144:\tlearn: 0.3002540\ttotal: 132ms\tremaining: 778ms\n",
      "145:\tlearn: 0.2982964\ttotal: 132ms\tremaining: 774ms\n",
      "146:\tlearn: 0.2966315\ttotal: 133ms\tremaining: 770ms\n",
      "147:\tlearn: 0.2946454\ttotal: 133ms\tremaining: 766ms\n",
      "148:\tlearn: 0.2926262\ttotal: 134ms\tremaining: 763ms\n",
      "149:\tlearn: 0.2903131\ttotal: 134ms\tremaining: 759ms\n",
      "150:\tlearn: 0.2886171\ttotal: 134ms\tremaining: 756ms\n",
      "151:\tlearn: 0.2867589\ttotal: 135ms\tremaining: 754ms\n",
      "152:\tlearn: 0.2846637\ttotal: 136ms\tremaining: 751ms\n",
      "153:\tlearn: 0.2824020\ttotal: 136ms\tremaining: 748ms\n",
      "154:\tlearn: 0.2803318\ttotal: 137ms\tremaining: 746ms\n",
      "155:\tlearn: 0.2789018\ttotal: 137ms\tremaining: 743ms\n",
      "156:\tlearn: 0.2769887\ttotal: 138ms\tremaining: 739ms\n",
      "157:\tlearn: 0.2756067\ttotal: 138ms\tremaining: 736ms\n",
      "158:\tlearn: 0.2734256\ttotal: 139ms\tremaining: 733ms\n",
      "159:\tlearn: 0.2712166\ttotal: 139ms\tremaining: 731ms\n",
      "160:\tlearn: 0.2689288\ttotal: 140ms\tremaining: 729ms\n",
      "161:\tlearn: 0.2671153\ttotal: 140ms\tremaining: 725ms\n",
      "162:\tlearn: 0.2653272\ttotal: 141ms\tremaining: 722ms\n",
      "163:\tlearn: 0.2636250\ttotal: 141ms\tremaining: 719ms\n",
      "164:\tlearn: 0.2616523\ttotal: 142ms\tremaining: 716ms\n",
      "165:\tlearn: 0.2603055\ttotal: 142ms\tremaining: 714ms\n",
      "166:\tlearn: 0.2590204\ttotal: 142ms\tremaining: 711ms\n",
      "167:\tlearn: 0.2572879\ttotal: 143ms\tremaining: 708ms\n",
      "168:\tlearn: 0.2555468\ttotal: 143ms\tremaining: 704ms\n",
      "169:\tlearn: 0.2539138\ttotal: 144ms\tremaining: 702ms\n",
      "170:\tlearn: 0.2524236\ttotal: 144ms\tremaining: 699ms\n",
      "171:\tlearn: 0.2503837\ttotal: 145ms\tremaining: 696ms\n",
      "172:\tlearn: 0.2488951\ttotal: 145ms\tremaining: 693ms\n",
      "173:\tlearn: 0.2475011\ttotal: 145ms\tremaining: 690ms\n",
      "174:\tlearn: 0.2461284\ttotal: 146ms\tremaining: 688ms\n",
      "175:\tlearn: 0.2442403\ttotal: 146ms\tremaining: 685ms\n",
      "176:\tlearn: 0.2424029\ttotal: 147ms\tremaining: 683ms\n",
      "177:\tlearn: 0.2406135\ttotal: 147ms\tremaining: 680ms\n",
      "178:\tlearn: 0.2391214\ttotal: 148ms\tremaining: 679ms\n",
      "179:\tlearn: 0.2375639\ttotal: 149ms\tremaining: 677ms\n",
      "180:\tlearn: 0.2361918\ttotal: 149ms\tremaining: 675ms\n",
      "181:\tlearn: 0.2346367\ttotal: 150ms\tremaining: 672ms\n",
      "182:\tlearn: 0.2331869\ttotal: 150ms\tremaining: 670ms\n",
      "183:\tlearn: 0.2314630\ttotal: 150ms\tremaining: 667ms\n",
      "184:\tlearn: 0.2300147\ttotal: 151ms\tremaining: 665ms\n",
      "185:\tlearn: 0.2287816\ttotal: 151ms\tremaining: 662ms\n",
      "186:\tlearn: 0.2272168\ttotal: 152ms\tremaining: 660ms\n",
      "187:\tlearn: 0.2254367\ttotal: 152ms\tremaining: 658ms\n",
      "188:\tlearn: 0.2237941\ttotal: 153ms\tremaining: 655ms\n",
      "189:\tlearn: 0.2219842\ttotal: 153ms\tremaining: 653ms\n",
      "190:\tlearn: 0.2206059\ttotal: 154ms\tremaining: 651ms\n",
      "191:\tlearn: 0.2194042\ttotal: 154ms\tremaining: 648ms\n",
      "192:\tlearn: 0.2178021\ttotal: 155ms\tremaining: 646ms\n",
      "193:\tlearn: 0.2161424\ttotal: 155ms\tremaining: 644ms\n",
      "194:\tlearn: 0.2144996\ttotal: 155ms\tremaining: 642ms\n",
      "195:\tlearn: 0.2128486\ttotal: 156ms\tremaining: 639ms\n",
      "196:\tlearn: 0.2115721\ttotal: 156ms\tremaining: 637ms\n",
      "197:\tlearn: 0.2106757\ttotal: 157ms\tremaining: 635ms\n",
      "198:\tlearn: 0.2091184\ttotal: 157ms\tremaining: 633ms\n",
      "199:\tlearn: 0.2077780\ttotal: 158ms\tremaining: 631ms\n",
      "200:\tlearn: 0.2062950\ttotal: 158ms\tremaining: 628ms\n",
      "201:\tlearn: 0.2049834\ttotal: 159ms\tremaining: 626ms\n",
      "202:\tlearn: 0.2036478\ttotal: 159ms\tremaining: 624ms\n",
      "203:\tlearn: 0.2025189\ttotal: 159ms\tremaining: 622ms\n",
      "204:\tlearn: 0.2010312\ttotal: 160ms\tremaining: 620ms\n",
      "205:\tlearn: 0.1996858\ttotal: 160ms\tremaining: 618ms\n",
      "206:\tlearn: 0.1982626\ttotal: 161ms\tremaining: 616ms\n",
      "207:\tlearn: 0.1973065\ttotal: 161ms\tremaining: 614ms\n",
      "208:\tlearn: 0.1960531\ttotal: 162ms\tremaining: 612ms\n",
      "209:\tlearn: 0.1946952\ttotal: 162ms\tremaining: 610ms\n",
      "210:\tlearn: 0.1933039\ttotal: 163ms\tremaining: 608ms\n",
      "211:\tlearn: 0.1920200\ttotal: 165ms\tremaining: 612ms\n",
      "212:\tlearn: 0.1905757\ttotal: 165ms\tremaining: 610ms\n",
      "213:\tlearn: 0.1888122\ttotal: 166ms\tremaining: 608ms\n",
      "214:\tlearn: 0.1876630\ttotal: 166ms\tremaining: 606ms\n",
      "215:\tlearn: 0.1865956\ttotal: 167ms\tremaining: 605ms\n",
      "216:\tlearn: 0.1855487\ttotal: 167ms\tremaining: 603ms\n",
      "217:\tlearn: 0.1844313\ttotal: 167ms\tremaining: 601ms\n",
      "218:\tlearn: 0.1833312\ttotal: 168ms\tremaining: 599ms\n",
      "219:\tlearn: 0.1821792\ttotal: 169ms\tremaining: 598ms\n",
      "220:\tlearn: 0.1812503\ttotal: 169ms\tremaining: 596ms\n",
      "221:\tlearn: 0.1799831\ttotal: 170ms\tremaining: 595ms\n",
      "222:\tlearn: 0.1786000\ttotal: 170ms\tremaining: 593ms\n",
      "223:\tlearn: 0.1773273\ttotal: 171ms\tremaining: 592ms\n",
      "224:\tlearn: 0.1762439\ttotal: 171ms\tremaining: 590ms\n",
      "225:\tlearn: 0.1750956\ttotal: 172ms\tremaining: 588ms\n",
      "226:\tlearn: 0.1738763\ttotal: 172ms\tremaining: 587ms\n",
      "227:\tlearn: 0.1727477\ttotal: 173ms\tremaining: 586ms\n",
      "228:\tlearn: 0.1714522\ttotal: 174ms\tremaining: 584ms\n",
      "229:\tlearn: 0.1701501\ttotal: 174ms\tremaining: 582ms\n",
      "230:\tlearn: 0.1690625\ttotal: 174ms\tremaining: 581ms\n",
      "231:\tlearn: 0.1677561\ttotal: 175ms\tremaining: 579ms\n",
      "232:\tlearn: 0.1665815\ttotal: 175ms\tremaining: 577ms\n",
      "233:\tlearn: 0.1655794\ttotal: 176ms\tremaining: 576ms\n",
      "234:\tlearn: 0.1644650\ttotal: 177ms\tremaining: 576ms\n",
      "235:\tlearn: 0.1634973\ttotal: 178ms\tremaining: 575ms\n",
      "236:\tlearn: 0.1626525\ttotal: 178ms\tremaining: 573ms\n",
      "237:\tlearn: 0.1617354\ttotal: 178ms\tremaining: 571ms\n",
      "238:\tlearn: 0.1607305\ttotal: 179ms\tremaining: 570ms\n",
      "239:\tlearn: 0.1596698\ttotal: 179ms\tremaining: 568ms\n",
      "240:\tlearn: 0.1580272\ttotal: 180ms\tremaining: 567ms\n",
      "241:\tlearn: 0.1570559\ttotal: 180ms\tremaining: 565ms\n",
      "242:\tlearn: 0.1560388\ttotal: 181ms\tremaining: 563ms\n",
      "243:\tlearn: 0.1550500\ttotal: 181ms\tremaining: 562ms\n",
      "244:\tlearn: 0.1538381\ttotal: 182ms\tremaining: 560ms\n",
      "245:\tlearn: 0.1528078\ttotal: 182ms\tremaining: 558ms\n",
      "246:\tlearn: 0.1518937\ttotal: 183ms\tremaining: 556ms\n",
      "247:\tlearn: 0.1510682\ttotal: 183ms\tremaining: 555ms\n",
      "248:\tlearn: 0.1500783\ttotal: 184ms\tremaining: 553ms\n",
      "249:\tlearn: 0.1493117\ttotal: 184ms\tremaining: 552ms\n",
      "250:\tlearn: 0.1481415\ttotal: 184ms\tremaining: 550ms\n",
      "251:\tlearn: 0.1472842\ttotal: 185ms\tremaining: 549ms\n",
      "252:\tlearn: 0.1462558\ttotal: 185ms\tremaining: 548ms\n",
      "253:\tlearn: 0.1455498\ttotal: 186ms\tremaining: 546ms\n",
      "254:\tlearn: 0.1445953\ttotal: 186ms\tremaining: 545ms\n",
      "255:\tlearn: 0.1437802\ttotal: 187ms\tremaining: 543ms\n",
      "256:\tlearn: 0.1431527\ttotal: 187ms\tremaining: 542ms\n"
     ]
    },
    {
     "name": "stdout",
     "output_type": "stream",
     "text": [
      "257:\tlearn: 0.1421942\ttotal: 188ms\tremaining: 541ms\n",
      "258:\tlearn: 0.1412796\ttotal: 189ms\tremaining: 540ms\n",
      "259:\tlearn: 0.1403095\ttotal: 189ms\tremaining: 539ms\n",
      "260:\tlearn: 0.1392424\ttotal: 190ms\tremaining: 537ms\n",
      "261:\tlearn: 0.1381282\ttotal: 190ms\tremaining: 536ms\n",
      "262:\tlearn: 0.1374168\ttotal: 191ms\tremaining: 534ms\n",
      "263:\tlearn: 0.1363863\ttotal: 191ms\tremaining: 533ms\n",
      "264:\tlearn: 0.1356859\ttotal: 192ms\tremaining: 532ms\n",
      "265:\tlearn: 0.1347437\ttotal: 192ms\tremaining: 531ms\n",
      "266:\tlearn: 0.1337868\ttotal: 193ms\tremaining: 529ms\n",
      "267:\tlearn: 0.1332203\ttotal: 193ms\tremaining: 528ms\n",
      "268:\tlearn: 0.1322749\ttotal: 194ms\tremaining: 527ms\n",
      "269:\tlearn: 0.1315348\ttotal: 197ms\tremaining: 533ms\n",
      "270:\tlearn: 0.1307617\ttotal: 197ms\tremaining: 531ms\n",
      "271:\tlearn: 0.1302155\ttotal: 198ms\tremaining: 530ms\n",
      "272:\tlearn: 0.1294855\ttotal: 199ms\tremaining: 529ms\n",
      "273:\tlearn: 0.1284723\ttotal: 199ms\tremaining: 527ms\n",
      "274:\tlearn: 0.1278733\ttotal: 200ms\tremaining: 526ms\n",
      "275:\tlearn: 0.1270413\ttotal: 200ms\tremaining: 525ms\n",
      "276:\tlearn: 0.1265518\ttotal: 201ms\tremaining: 524ms\n",
      "277:\tlearn: 0.1259325\ttotal: 201ms\tremaining: 522ms\n",
      "278:\tlearn: 0.1249938\ttotal: 202ms\tremaining: 521ms\n",
      "279:\tlearn: 0.1241638\ttotal: 202ms\tremaining: 520ms\n",
      "280:\tlearn: 0.1231934\ttotal: 203ms\tremaining: 519ms\n",
      "281:\tlearn: 0.1225772\ttotal: 203ms\tremaining: 518ms\n",
      "282:\tlearn: 0.1220430\ttotal: 204ms\tremaining: 517ms\n",
      "283:\tlearn: 0.1212050\ttotal: 205ms\tremaining: 516ms\n",
      "284:\tlearn: 0.1206344\ttotal: 205ms\tremaining: 515ms\n",
      "285:\tlearn: 0.1197065\ttotal: 206ms\tremaining: 513ms\n",
      "286:\tlearn: 0.1189629\ttotal: 206ms\tremaining: 512ms\n",
      "287:\tlearn: 0.1183684\ttotal: 207ms\tremaining: 511ms\n",
      "288:\tlearn: 0.1177771\ttotal: 207ms\tremaining: 510ms\n",
      "289:\tlearn: 0.1172174\ttotal: 208ms\tremaining: 509ms\n",
      "290:\tlearn: 0.1163651\ttotal: 208ms\tremaining: 507ms\n",
      "291:\tlearn: 0.1154666\ttotal: 209ms\tremaining: 506ms\n",
      "292:\tlearn: 0.1148429\ttotal: 209ms\tremaining: 505ms\n",
      "293:\tlearn: 0.1140022\ttotal: 210ms\tremaining: 504ms\n",
      "294:\tlearn: 0.1132773\ttotal: 210ms\tremaining: 502ms\n",
      "295:\tlearn: 0.1127337\ttotal: 211ms\tremaining: 502ms\n",
      "296:\tlearn: 0.1122498\ttotal: 212ms\tremaining: 501ms\n",
      "297:\tlearn: 0.1114755\ttotal: 212ms\tremaining: 499ms\n",
      "298:\tlearn: 0.1107719\ttotal: 212ms\tremaining: 498ms\n",
      "299:\tlearn: 0.1102709\ttotal: 213ms\tremaining: 497ms\n",
      "300:\tlearn: 0.1095113\ttotal: 213ms\tremaining: 495ms\n",
      "301:\tlearn: 0.1090262\ttotal: 214ms\tremaining: 494ms\n",
      "302:\tlearn: 0.1085424\ttotal: 214ms\tremaining: 493ms\n",
      "303:\tlearn: 0.1077151\ttotal: 215ms\tremaining: 492ms\n",
      "304:\tlearn: 0.1072297\ttotal: 215ms\tremaining: 491ms\n",
      "305:\tlearn: 0.1065551\ttotal: 216ms\tremaining: 490ms\n",
      "306:\tlearn: 0.1058317\ttotal: 216ms\tremaining: 489ms\n",
      "307:\tlearn: 0.1051101\ttotal: 217ms\tremaining: 488ms\n",
      "308:\tlearn: 0.1042372\ttotal: 218ms\tremaining: 487ms\n",
      "309:\tlearn: 0.1038165\ttotal: 218ms\tremaining: 485ms\n",
      "310:\tlearn: 0.1030300\ttotal: 219ms\tremaining: 484ms\n",
      "311:\tlearn: 0.1023015\ttotal: 219ms\tremaining: 483ms\n",
      "312:\tlearn: 0.1018595\ttotal: 220ms\tremaining: 482ms\n",
      "313:\tlearn: 0.1013983\ttotal: 220ms\tremaining: 481ms\n",
      "314:\tlearn: 0.1009025\ttotal: 221ms\tremaining: 480ms\n",
      "315:\tlearn: 0.1002525\ttotal: 221ms\tremaining: 479ms\n",
      "316:\tlearn: 0.0998288\ttotal: 222ms\tremaining: 479ms\n",
      "317:\tlearn: 0.0990855\ttotal: 223ms\tremaining: 478ms\n",
      "318:\tlearn: 0.0984341\ttotal: 223ms\tremaining: 476ms\n",
      "319:\tlearn: 0.0977999\ttotal: 224ms\tremaining: 475ms\n",
      "320:\tlearn: 0.0973318\ttotal: 224ms\tremaining: 474ms\n",
      "321:\tlearn: 0.0967285\ttotal: 227ms\tremaining: 478ms\n",
      "322:\tlearn: 0.0962835\ttotal: 228ms\tremaining: 477ms\n",
      "323:\tlearn: 0.0956664\ttotal: 228ms\tremaining: 476ms\n",
      "324:\tlearn: 0.0951175\ttotal: 229ms\tremaining: 475ms\n",
      "325:\tlearn: 0.0943912\ttotal: 229ms\tremaining: 474ms\n",
      "326:\tlearn: 0.0937422\ttotal: 230ms\tremaining: 473ms\n",
      "327:\tlearn: 0.0931585\ttotal: 230ms\tremaining: 472ms\n",
      "328:\tlearn: 0.0925366\ttotal: 231ms\tremaining: 471ms\n",
      "329:\tlearn: 0.0921114\ttotal: 231ms\tremaining: 470ms\n",
      "330:\tlearn: 0.0915675\ttotal: 232ms\tremaining: 469ms\n",
      "331:\tlearn: 0.0910300\ttotal: 232ms\tremaining: 468ms\n",
      "332:\tlearn: 0.0904737\ttotal: 233ms\tremaining: 467ms\n",
      "333:\tlearn: 0.0899505\ttotal: 233ms\tremaining: 466ms\n",
      "334:\tlearn: 0.0894482\ttotal: 234ms\tremaining: 465ms\n",
      "335:\tlearn: 0.0888747\ttotal: 235ms\tremaining: 464ms\n",
      "336:\tlearn: 0.0882382\ttotal: 235ms\tremaining: 463ms\n",
      "337:\tlearn: 0.0876116\ttotal: 236ms\tremaining: 462ms\n",
      "338:\tlearn: 0.0871201\ttotal: 236ms\tremaining: 461ms\n",
      "339:\tlearn: 0.0865060\ttotal: 237ms\tremaining: 460ms\n",
      "340:\tlearn: 0.0859633\ttotal: 237ms\tremaining: 459ms\n",
      "341:\tlearn: 0.0855538\ttotal: 238ms\tremaining: 458ms\n",
      "342:\tlearn: 0.0851839\ttotal: 238ms\tremaining: 457ms\n",
      "343:\tlearn: 0.0846192\ttotal: 239ms\tremaining: 456ms\n",
      "344:\tlearn: 0.0841359\ttotal: 240ms\tremaining: 455ms\n",
      "345:\tlearn: 0.0836858\ttotal: 244ms\tremaining: 461ms\n",
      "346:\tlearn: 0.0831881\ttotal: 244ms\tremaining: 459ms\n",
      "347:\tlearn: 0.0826970\ttotal: 244ms\tremaining: 458ms\n",
      "348:\tlearn: 0.0823391\ttotal: 245ms\tremaining: 457ms\n",
      "349:\tlearn: 0.0818474\ttotal: 246ms\tremaining: 456ms\n",
      "350:\tlearn: 0.0813939\ttotal: 246ms\tremaining: 455ms\n",
      "351:\tlearn: 0.0809160\ttotal: 247ms\tremaining: 454ms\n",
      "352:\tlearn: 0.0802657\ttotal: 247ms\tremaining: 453ms\n",
      "353:\tlearn: 0.0799162\ttotal: 247ms\tremaining: 451ms\n",
      "354:\tlearn: 0.0794567\ttotal: 248ms\tremaining: 451ms\n",
      "355:\tlearn: 0.0789311\ttotal: 249ms\tremaining: 450ms\n",
      "356:\tlearn: 0.0785425\ttotal: 249ms\tremaining: 449ms\n",
      "357:\tlearn: 0.0781916\ttotal: 250ms\tremaining: 448ms\n",
      "358:\tlearn: 0.0778694\ttotal: 250ms\tremaining: 447ms\n",
      "359:\tlearn: 0.0775347\ttotal: 251ms\tremaining: 446ms\n",
      "360:\tlearn: 0.0772065\ttotal: 251ms\tremaining: 445ms\n",
      "361:\tlearn: 0.0767925\ttotal: 252ms\tremaining: 444ms\n",
      "362:\tlearn: 0.0764673\ttotal: 252ms\tremaining: 443ms\n",
      "363:\tlearn: 0.0759287\ttotal: 253ms\tremaining: 442ms\n",
      "364:\tlearn: 0.0753422\ttotal: 254ms\tremaining: 441ms\n",
      "365:\tlearn: 0.0747680\ttotal: 254ms\tremaining: 440ms\n",
      "366:\tlearn: 0.0743462\ttotal: 255ms\tremaining: 440ms\n",
      "367:\tlearn: 0.0739716\ttotal: 255ms\tremaining: 438ms\n",
      "368:\tlearn: 0.0736154\ttotal: 256ms\tremaining: 437ms\n",
      "369:\tlearn: 0.0730647\ttotal: 256ms\tremaining: 436ms\n",
      "370:\tlearn: 0.0725221\ttotal: 257ms\tremaining: 435ms\n",
      "371:\tlearn: 0.0721629\ttotal: 257ms\tremaining: 434ms\n",
      "372:\tlearn: 0.0716352\ttotal: 257ms\tremaining: 433ms\n",
      "373:\tlearn: 0.0712713\ttotal: 258ms\tremaining: 432ms\n",
      "374:\tlearn: 0.0709146\ttotal: 258ms\tremaining: 431ms\n",
      "375:\tlearn: 0.0704049\ttotal: 259ms\tremaining: 429ms\n",
      "376:\tlearn: 0.0701052\ttotal: 259ms\tremaining: 428ms\n",
      "377:\tlearn: 0.0698116\ttotal: 260ms\tremaining: 427ms\n",
      "378:\tlearn: 0.0694726\ttotal: 260ms\tremaining: 426ms\n",
      "379:\tlearn: 0.0691851\ttotal: 261ms\tremaining: 425ms\n",
      "380:\tlearn: 0.0686956\ttotal: 261ms\tremaining: 424ms\n",
      "381:\tlearn: 0.0683109\ttotal: 262ms\tremaining: 423ms\n",
      "382:\tlearn: 0.0679846\ttotal: 262ms\tremaining: 422ms\n",
      "383:\tlearn: 0.0677109\ttotal: 263ms\tremaining: 421ms\n",
      "384:\tlearn: 0.0674402\ttotal: 263ms\tremaining: 420ms\n",
      "385:\tlearn: 0.0671402\ttotal: 263ms\tremaining: 419ms\n",
      "386:\tlearn: 0.0667769\ttotal: 264ms\tremaining: 418ms\n",
      "387:\tlearn: 0.0663301\ttotal: 264ms\tremaining: 417ms\n",
      "388:\tlearn: 0.0660221\ttotal: 265ms\tremaining: 416ms\n",
      "389:\tlearn: 0.0657201\ttotal: 265ms\tremaining: 415ms\n",
      "390:\tlearn: 0.0654241\ttotal: 266ms\tremaining: 414ms\n",
      "391:\tlearn: 0.0650762\ttotal: 266ms\tremaining: 413ms\n",
      "392:\tlearn: 0.0648203\ttotal: 267ms\tremaining: 412ms\n",
      "393:\tlearn: 0.0645701\ttotal: 267ms\tremaining: 411ms\n",
      "394:\tlearn: 0.0642225\ttotal: 268ms\tremaining: 410ms\n",
      "395:\tlearn: 0.0639629\ttotal: 268ms\tremaining: 409ms\n",
      "396:\tlearn: 0.0637193\ttotal: 269ms\tremaining: 408ms\n",
      "397:\tlearn: 0.0633814\ttotal: 269ms\tremaining: 407ms\n",
      "398:\tlearn: 0.0629650\ttotal: 270ms\tremaining: 406ms\n",
      "399:\tlearn: 0.0627277\ttotal: 270ms\tremaining: 405ms\n",
      "400:\tlearn: 0.0623251\ttotal: 271ms\tremaining: 405ms\n",
      "401:\tlearn: 0.0619833\ttotal: 271ms\tremaining: 403ms\n",
      "402:\tlearn: 0.0615815\ttotal: 272ms\tremaining: 403ms\n",
      "403:\tlearn: 0.0613536\ttotal: 272ms\tremaining: 402ms\n",
      "404:\tlearn: 0.0611306\ttotal: 273ms\tremaining: 401ms\n",
      "405:\tlearn: 0.0607388\ttotal: 273ms\tremaining: 400ms\n",
      "406:\tlearn: 0.0605390\ttotal: 274ms\tremaining: 399ms\n",
      "407:\tlearn: 0.0601443\ttotal: 274ms\tremaining: 398ms\n",
      "408:\tlearn: 0.0598228\ttotal: 275ms\tremaining: 397ms\n",
      "409:\tlearn: 0.0594673\ttotal: 275ms\tremaining: 396ms\n",
      "410:\tlearn: 0.0591517\ttotal: 276ms\tremaining: 395ms\n",
      "411:\tlearn: 0.0588667\ttotal: 276ms\tremaining: 395ms\n",
      "412:\tlearn: 0.0585224\ttotal: 277ms\tremaining: 394ms\n",
      "413:\tlearn: 0.0581774\ttotal: 277ms\tremaining: 393ms\n",
      "414:\tlearn: 0.0578413\ttotal: 278ms\tremaining: 392ms\n",
      "415:\tlearn: 0.0575337\ttotal: 278ms\tremaining: 391ms\n",
      "416:\tlearn: 0.0572395\ttotal: 279ms\tremaining: 390ms\n",
      "417:\tlearn: 0.0569151\ttotal: 279ms\tremaining: 389ms\n",
      "418:\tlearn: 0.0565848\ttotal: 280ms\tremaining: 388ms\n",
      "419:\tlearn: 0.0562347\ttotal: 281ms\tremaining: 388ms\n",
      "420:\tlearn: 0.0559288\ttotal: 281ms\tremaining: 387ms\n",
      "421:\tlearn: 0.0555889\ttotal: 282ms\tremaining: 386ms\n",
      "422:\tlearn: 0.0552743\ttotal: 282ms\tremaining: 385ms\n",
      "423:\tlearn: 0.0548833\ttotal: 283ms\tremaining: 384ms\n",
      "424:\tlearn: 0.0545960\ttotal: 283ms\tremaining: 383ms\n",
      "425:\tlearn: 0.0542689\ttotal: 284ms\tremaining: 382ms\n",
      "426:\tlearn: 0.0539686\ttotal: 284ms\tremaining: 381ms\n",
      "427:\tlearn: 0.0536464\ttotal: 285ms\tremaining: 380ms\n",
      "428:\tlearn: 0.0533401\ttotal: 285ms\tremaining: 379ms\n",
      "429:\tlearn: 0.0530252\ttotal: 286ms\tremaining: 379ms\n",
      "430:\tlearn: 0.0526568\ttotal: 286ms\tremaining: 378ms\n",
      "431:\tlearn: 0.0523962\ttotal: 286ms\tremaining: 377ms\n",
      "432:\tlearn: 0.0520907\ttotal: 287ms\tremaining: 376ms\n",
      "433:\tlearn: 0.0517344\ttotal: 288ms\tremaining: 376ms\n",
      "434:\tlearn: 0.0514634\ttotal: 289ms\tremaining: 375ms\n",
      "435:\tlearn: 0.0511738\ttotal: 289ms\tremaining: 374ms\n",
      "436:\tlearn: 0.0509958\ttotal: 290ms\tremaining: 373ms\n",
      "437:\tlearn: 0.0506626\ttotal: 290ms\tremaining: 372ms\n",
      "438:\tlearn: 0.0505627\ttotal: 291ms\tremaining: 372ms\n",
      "439:\tlearn: 0.0502712\ttotal: 291ms\tremaining: 371ms\n"
     ]
    },
    {
     "name": "stdout",
     "output_type": "stream",
     "text": [
      "440:\tlearn: 0.0499722\ttotal: 292ms\tremaining: 370ms\n",
      "441:\tlearn: 0.0497161\ttotal: 293ms\tremaining: 369ms\n",
      "442:\tlearn: 0.0494781\ttotal: 293ms\tremaining: 369ms\n",
      "443:\tlearn: 0.0493096\ttotal: 294ms\tremaining: 368ms\n",
      "444:\tlearn: 0.0490231\ttotal: 294ms\tremaining: 367ms\n",
      "445:\tlearn: 0.0488592\ttotal: 294ms\tremaining: 366ms\n",
      "446:\tlearn: 0.0485816\ttotal: 295ms\tremaining: 365ms\n",
      "447:\tlearn: 0.0483062\ttotal: 295ms\tremaining: 364ms\n",
      "448:\tlearn: 0.0479900\ttotal: 296ms\tremaining: 363ms\n",
      "449:\tlearn: 0.0478993\ttotal: 296ms\tremaining: 362ms\n",
      "450:\tlearn: 0.0476741\ttotal: 297ms\tremaining: 362ms\n",
      "451:\tlearn: 0.0474032\ttotal: 297ms\tremaining: 361ms\n",
      "452:\tlearn: 0.0471745\ttotal: 298ms\tremaining: 360ms\n",
      "453:\tlearn: 0.0468333\ttotal: 298ms\tremaining: 359ms\n",
      "454:\tlearn: 0.0466807\ttotal: 299ms\tremaining: 358ms\n",
      "455:\tlearn: 0.0465953\ttotal: 299ms\tremaining: 357ms\n",
      "456:\tlearn: 0.0463367\ttotal: 300ms\tremaining: 356ms\n",
      "457:\tlearn: 0.0459874\ttotal: 300ms\tremaining: 355ms\n",
      "458:\tlearn: 0.0458403\ttotal: 301ms\tremaining: 354ms\n",
      "459:\tlearn: 0.0457584\ttotal: 301ms\tremaining: 353ms\n",
      "460:\tlearn: 0.0455486\ttotal: 302ms\tremaining: 353ms\n",
      "461:\tlearn: 0.0453386\ttotal: 302ms\tremaining: 352ms\n",
      "462:\tlearn: 0.0450589\ttotal: 302ms\tremaining: 351ms\n",
      "463:\tlearn: 0.0448368\ttotal: 303ms\tremaining: 350ms\n",
      "464:\tlearn: 0.0445629\ttotal: 303ms\tremaining: 349ms\n",
      "465:\tlearn: 0.0444241\ttotal: 304ms\tremaining: 348ms\n",
      "466:\tlearn: 0.0442884\ttotal: 304ms\tremaining: 347ms\n",
      "467:\tlearn: 0.0440486\ttotal: 304ms\tremaining: 346ms\n",
      "468:\tlearn: 0.0439728\ttotal: 305ms\tremaining: 345ms\n",
      "469:\tlearn: 0.0437063\ttotal: 306ms\tremaining: 345ms\n",
      "470:\tlearn: 0.0434841\ttotal: 306ms\tremaining: 344ms\n",
      "471:\tlearn: 0.0432780\ttotal: 306ms\tremaining: 343ms\n",
      "472:\tlearn: 0.0429997\ttotal: 307ms\tremaining: 342ms\n",
      "473:\tlearn: 0.0427432\ttotal: 308ms\tremaining: 341ms\n",
      "474:\tlearn: 0.0426702\ttotal: 308ms\tremaining: 340ms\n",
      "475:\tlearn: 0.0423531\ttotal: 309ms\tremaining: 340ms\n",
      "476:\tlearn: 0.0421410\ttotal: 309ms\tremaining: 339ms\n",
      "477:\tlearn: 0.0418827\ttotal: 310ms\tremaining: 338ms\n",
      "478:\tlearn: 0.0415595\ttotal: 310ms\tremaining: 337ms\n",
      "479:\tlearn: 0.0414338\ttotal: 311ms\tremaining: 336ms\n",
      "480:\tlearn: 0.0412288\ttotal: 311ms\tremaining: 336ms\n",
      "481:\tlearn: 0.0410398\ttotal: 312ms\tremaining: 335ms\n",
      "482:\tlearn: 0.0408152\ttotal: 312ms\tremaining: 334ms\n",
      "483:\tlearn: 0.0407471\ttotal: 313ms\tremaining: 333ms\n",
      "484:\tlearn: 0.0405279\ttotal: 313ms\tremaining: 333ms\n",
      "485:\tlearn: 0.0402163\ttotal: 314ms\tremaining: 332ms\n",
      "486:\tlearn: 0.0400973\ttotal: 314ms\tremaining: 331ms\n",
      "487:\tlearn: 0.0398849\ttotal: 315ms\tremaining: 330ms\n",
      "488:\tlearn: 0.0397734\ttotal: 315ms\tremaining: 329ms\n",
      "489:\tlearn: 0.0395400\ttotal: 316ms\tremaining: 328ms\n",
      "490:\tlearn: 0.0394774\ttotal: 316ms\tremaining: 328ms\n",
      "491:\tlearn: 0.0392472\ttotal: 317ms\tremaining: 327ms\n",
      "492:\tlearn: 0.0389471\ttotal: 317ms\tremaining: 326ms\n",
      "493:\tlearn: 0.0387478\ttotal: 319ms\tremaining: 327ms\n",
      "494:\tlearn: 0.0385288\ttotal: 320ms\tremaining: 326ms\n",
      "495:\tlearn: 0.0382869\ttotal: 320ms\tremaining: 325ms\n",
      "496:\tlearn: 0.0381475\ttotal: 321ms\tremaining: 324ms\n",
      "497:\tlearn: 0.0378971\ttotal: 321ms\tremaining: 324ms\n",
      "498:\tlearn: 0.0377196\ttotal: 322ms\tremaining: 323ms\n",
      "499:\tlearn: 0.0375513\ttotal: 322ms\tremaining: 322ms\n",
      "500:\tlearn: 0.0372911\ttotal: 323ms\tremaining: 321ms\n",
      "501:\tlearn: 0.0371584\ttotal: 323ms\tremaining: 321ms\n",
      "502:\tlearn: 0.0370291\ttotal: 324ms\tremaining: 320ms\n",
      "503:\tlearn: 0.0368669\ttotal: 324ms\tremaining: 319ms\n",
      "504:\tlearn: 0.0366135\ttotal: 325ms\tremaining: 318ms\n",
      "505:\tlearn: 0.0364889\ttotal: 325ms\tremaining: 318ms\n",
      "506:\tlearn: 0.0362911\ttotal: 326ms\tremaining: 317ms\n",
      "507:\tlearn: 0.0360444\ttotal: 326ms\tremaining: 316ms\n",
      "508:\tlearn: 0.0358940\ttotal: 328ms\tremaining: 316ms\n",
      "509:\tlearn: 0.0357475\ttotal: 328ms\tremaining: 315ms\n",
      "510:\tlearn: 0.0355832\ttotal: 329ms\tremaining: 314ms\n",
      "511:\tlearn: 0.0354227\ttotal: 329ms\tremaining: 314ms\n",
      "512:\tlearn: 0.0351921\ttotal: 330ms\tremaining: 313ms\n",
      "513:\tlearn: 0.0350341\ttotal: 330ms\tremaining: 312ms\n",
      "514:\tlearn: 0.0348088\ttotal: 331ms\tremaining: 311ms\n",
      "515:\tlearn: 0.0345879\ttotal: 331ms\tremaining: 311ms\n",
      "516:\tlearn: 0.0343644\ttotal: 331ms\tremaining: 310ms\n",
      "517:\tlearn: 0.0341466\ttotal: 332ms\tremaining: 309ms\n",
      "518:\tlearn: 0.0339406\ttotal: 333ms\tremaining: 309ms\n",
      "519:\tlearn: 0.0337305\ttotal: 334ms\tremaining: 308ms\n",
      "520:\tlearn: 0.0335271\ttotal: 334ms\tremaining: 307ms\n",
      "521:\tlearn: 0.0333824\ttotal: 335ms\tremaining: 307ms\n",
      "522:\tlearn: 0.0332513\ttotal: 335ms\tremaining: 306ms\n",
      "523:\tlearn: 0.0331237\ttotal: 336ms\tremaining: 305ms\n",
      "524:\tlearn: 0.0329333\ttotal: 336ms\tremaining: 304ms\n",
      "525:\tlearn: 0.0327375\ttotal: 337ms\tremaining: 304ms\n",
      "526:\tlearn: 0.0326141\ttotal: 337ms\tremaining: 303ms\n",
      "527:\tlearn: 0.0324314\ttotal: 338ms\tremaining: 302ms\n",
      "528:\tlearn: 0.0322820\ttotal: 339ms\tremaining: 301ms\n",
      "529:\tlearn: 0.0321530\ttotal: 339ms\tremaining: 301ms\n",
      "530:\tlearn: 0.0319481\ttotal: 340ms\tremaining: 300ms\n",
      "531:\tlearn: 0.0317879\ttotal: 340ms\tremaining: 299ms\n",
      "532:\tlearn: 0.0317020\ttotal: 341ms\tremaining: 299ms\n",
      "533:\tlearn: 0.0315025\ttotal: 341ms\tremaining: 298ms\n",
      "534:\tlearn: 0.0313619\ttotal: 342ms\tremaining: 297ms\n",
      "535:\tlearn: 0.0312319\ttotal: 343ms\tremaining: 297ms\n",
      "536:\tlearn: 0.0310749\ttotal: 343ms\tremaining: 296ms\n",
      "537:\tlearn: 0.0308904\ttotal: 344ms\tremaining: 295ms\n",
      "538:\tlearn: 0.0307178\ttotal: 344ms\tremaining: 294ms\n",
      "539:\tlearn: 0.0305405\ttotal: 345ms\tremaining: 294ms\n",
      "540:\tlearn: 0.0304602\ttotal: 345ms\tremaining: 293ms\n",
      "541:\tlearn: 0.0302872\ttotal: 346ms\tremaining: 292ms\n",
      "542:\tlearn: 0.0302088\ttotal: 346ms\tremaining: 291ms\n",
      "543:\tlearn: 0.0300400\ttotal: 346ms\tremaining: 290ms\n",
      "544:\tlearn: 0.0299168\ttotal: 347ms\tremaining: 290ms\n",
      "545:\tlearn: 0.0297677\ttotal: 347ms\tremaining: 289ms\n",
      "546:\tlearn: 0.0295948\ttotal: 348ms\tremaining: 288ms\n",
      "547:\tlearn: 0.0294312\ttotal: 348ms\tremaining: 287ms\n",
      "548:\tlearn: 0.0292758\ttotal: 349ms\tremaining: 286ms\n",
      "549:\tlearn: 0.0292017\ttotal: 349ms\tremaining: 286ms\n",
      "550:\tlearn: 0.0290441\ttotal: 349ms\tremaining: 285ms\n",
      "551:\tlearn: 0.0288923\ttotal: 350ms\tremaining: 284ms\n",
      "552:\tlearn: 0.0287656\ttotal: 350ms\tremaining: 283ms\n",
      "553:\tlearn: 0.0286015\ttotal: 351ms\tremaining: 282ms\n",
      "554:\tlearn: 0.0284565\ttotal: 351ms\tremaining: 282ms\n",
      "555:\tlearn: 0.0284090\ttotal: 352ms\tremaining: 281ms\n",
      "556:\tlearn: 0.0282496\ttotal: 352ms\tremaining: 280ms\n",
      "557:\tlearn: 0.0281044\ttotal: 353ms\tremaining: 279ms\n",
      "558:\tlearn: 0.0279463\ttotal: 353ms\tremaining: 279ms\n",
      "559:\tlearn: 0.0278076\ttotal: 354ms\tremaining: 278ms\n",
      "560:\tlearn: 0.0276531\ttotal: 354ms\tremaining: 277ms\n",
      "561:\tlearn: 0.0275070\ttotal: 354ms\tremaining: 276ms\n",
      "562:\tlearn: 0.0273682\ttotal: 355ms\tremaining: 275ms\n",
      "563:\tlearn: 0.0272172\ttotal: 355ms\tremaining: 275ms\n",
      "564:\tlearn: 0.0271069\ttotal: 356ms\tremaining: 274ms\n",
      "565:\tlearn: 0.0269582\ttotal: 356ms\tremaining: 273ms\n",
      "566:\tlearn: 0.0268242\ttotal: 357ms\tremaining: 272ms\n",
      "567:\tlearn: 0.0266792\ttotal: 357ms\tremaining: 272ms\n",
      "568:\tlearn: 0.0265346\ttotal: 358ms\tremaining: 271ms\n",
      "569:\tlearn: 0.0264164\ttotal: 358ms\tremaining: 270ms\n",
      "570:\tlearn: 0.0263103\ttotal: 358ms\tremaining: 269ms\n",
      "571:\tlearn: 0.0261748\ttotal: 359ms\tremaining: 269ms\n",
      "572:\tlearn: 0.0261325\ttotal: 360ms\tremaining: 268ms\n",
      "573:\tlearn: 0.0260079\ttotal: 360ms\tremaining: 267ms\n",
      "574:\tlearn: 0.0258695\ttotal: 361ms\tremaining: 267ms\n",
      "575:\tlearn: 0.0257434\ttotal: 361ms\tremaining: 266ms\n",
      "576:\tlearn: 0.0256077\ttotal: 362ms\tremaining: 265ms\n",
      "577:\tlearn: 0.0254732\ttotal: 366ms\tremaining: 267ms\n",
      "578:\tlearn: 0.0254329\ttotal: 367ms\tremaining: 267ms\n",
      "579:\tlearn: 0.0253933\ttotal: 367ms\tremaining: 266ms\n",
      "580:\tlearn: 0.0252618\ttotal: 368ms\tremaining: 265ms\n",
      "581:\tlearn: 0.0251320\ttotal: 368ms\tremaining: 264ms\n",
      "582:\tlearn: 0.0250935\ttotal: 369ms\tremaining: 264ms\n",
      "583:\tlearn: 0.0250556\ttotal: 369ms\tremaining: 263ms\n",
      "584:\tlearn: 0.0249283\ttotal: 370ms\tremaining: 262ms\n",
      "585:\tlearn: 0.0248095\ttotal: 370ms\tremaining: 262ms\n",
      "586:\tlearn: 0.0247726\ttotal: 371ms\tremaining: 261ms\n",
      "587:\tlearn: 0.0247361\ttotal: 372ms\tremaining: 260ms\n",
      "588:\tlearn: 0.0246200\ttotal: 372ms\tremaining: 260ms\n",
      "589:\tlearn: 0.0245843\ttotal: 373ms\tremaining: 259ms\n"
     ]
    },
    {
     "name": "stdout",
     "output_type": "stream",
     "text": [
      "590:\tlearn: 0.0244347\ttotal: 373ms\tremaining: 258ms\n",
      "591:\tlearn: 0.0243360\ttotal: 374ms\tremaining: 258ms\n",
      "592:\tlearn: 0.0242934\ttotal: 375ms\tremaining: 257ms\n",
      "593:\tlearn: 0.0241733\ttotal: 375ms\tremaining: 256ms\n",
      "594:\tlearn: 0.0240285\ttotal: 375ms\tremaining: 256ms\n",
      "595:\tlearn: 0.0239336\ttotal: 376ms\tremaining: 255ms\n",
      "596:\tlearn: 0.0238926\ttotal: 376ms\tremaining: 254ms\n",
      "597:\tlearn: 0.0237778\ttotal: 377ms\tremaining: 253ms\n",
      "598:\tlearn: 0.0236851\ttotal: 378ms\tremaining: 253ms\n",
      "599:\tlearn: 0.0235455\ttotal: 378ms\tremaining: 252ms\n",
      "600:\tlearn: 0.0235060\ttotal: 379ms\tremaining: 251ms\n",
      "601:\tlearn: 0.0234158\ttotal: 379ms\tremaining: 251ms\n",
      "602:\tlearn: 0.0233770\ttotal: 379ms\tremaining: 250ms\n",
      "603:\tlearn: 0.0232837\ttotal: 380ms\tremaining: 249ms\n",
      "604:\tlearn: 0.0231362\ttotal: 380ms\tremaining: 248ms\n",
      "605:\tlearn: 0.0230480\ttotal: 381ms\tremaining: 248ms\n",
      "606:\tlearn: 0.0229615\ttotal: 381ms\tremaining: 247ms\n",
      "607:\tlearn: 0.0228095\ttotal: 382ms\tremaining: 246ms\n",
      "608:\tlearn: 0.0227197\ttotal: 382ms\tremaining: 245ms\n",
      "609:\tlearn: 0.0226162\ttotal: 382ms\tremaining: 244ms\n",
      "610:\tlearn: 0.0225327\ttotal: 383ms\tremaining: 244ms\n",
      "611:\tlearn: 0.0224301\ttotal: 384ms\tremaining: 243ms\n",
      "612:\tlearn: 0.0224016\ttotal: 384ms\tremaining: 242ms\n",
      "613:\tlearn: 0.0222552\ttotal: 384ms\tremaining: 242ms\n",
      "614:\tlearn: 0.0221691\ttotal: 385ms\tremaining: 241ms\n",
      "615:\tlearn: 0.0220614\ttotal: 385ms\tremaining: 240ms\n",
      "616:\tlearn: 0.0219624\ttotal: 386ms\tremaining: 240ms\n",
      "617:\tlearn: 0.0218360\ttotal: 386ms\tremaining: 239ms\n",
      "618:\tlearn: 0.0217001\ttotal: 387ms\tremaining: 238ms\n",
      "619:\tlearn: 0.0215957\ttotal: 387ms\tremaining: 237ms\n",
      "620:\tlearn: 0.0214633\ttotal: 388ms\tremaining: 237ms\n",
      "621:\tlearn: 0.0213622\ttotal: 388ms\tremaining: 236ms\n",
      "622:\tlearn: 0.0212334\ttotal: 389ms\tremaining: 235ms\n",
      "623:\tlearn: 0.0211073\ttotal: 389ms\tremaining: 235ms\n",
      "624:\tlearn: 0.0210057\ttotal: 390ms\tremaining: 234ms\n",
      "625:\tlearn: 0.0208911\ttotal: 390ms\tremaining: 233ms\n",
      "626:\tlearn: 0.0207690\ttotal: 391ms\tremaining: 232ms\n",
      "627:\tlearn: 0.0206575\ttotal: 391ms\tremaining: 232ms\n",
      "628:\tlearn: 0.0205594\ttotal: 392ms\tremaining: 231ms\n",
      "629:\tlearn: 0.0204536\ttotal: 392ms\tremaining: 230ms\n",
      "630:\tlearn: 0.0203580\ttotal: 393ms\tremaining: 230ms\n",
      "631:\tlearn: 0.0202552\ttotal: 393ms\tremaining: 229ms\n",
      "632:\tlearn: 0.0201783\ttotal: 394ms\tremaining: 228ms\n",
      "633:\tlearn: 0.0200629\ttotal: 394ms\tremaining: 228ms\n",
      "634:\tlearn: 0.0199635\ttotal: 396ms\tremaining: 227ms\n",
      "635:\tlearn: 0.0198514\ttotal: 396ms\tremaining: 227ms\n",
      "636:\tlearn: 0.0197554\ttotal: 396ms\tremaining: 226ms\n",
      "637:\tlearn: 0.0196621\ttotal: 397ms\tremaining: 225ms\n",
      "638:\tlearn: 0.0195527\ttotal: 397ms\tremaining: 225ms\n",
      "639:\tlearn: 0.0194606\ttotal: 398ms\tremaining: 224ms\n",
      "640:\tlearn: 0.0193923\ttotal: 398ms\tremaining: 223ms\n",
      "641:\tlearn: 0.0192981\ttotal: 399ms\tremaining: 222ms\n",
      "642:\tlearn: 0.0192274\ttotal: 399ms\tremaining: 222ms\n",
      "643:\tlearn: 0.0191596\ttotal: 400ms\tremaining: 221ms\n",
      "644:\tlearn: 0.0190537\ttotal: 400ms\tremaining: 220ms\n",
      "645:\tlearn: 0.0189936\ttotal: 401ms\tremaining: 220ms\n",
      "646:\tlearn: 0.0189275\ttotal: 401ms\tremaining: 219ms\n",
      "647:\tlearn: 0.0188372\ttotal: 402ms\tremaining: 219ms\n",
      "648:\tlearn: 0.0187783\ttotal: 403ms\tremaining: 218ms\n",
      "649:\tlearn: 0.0187106\ttotal: 403ms\tremaining: 217ms\n",
      "650:\tlearn: 0.0186778\ttotal: 404ms\tremaining: 216ms\n",
      "651:\tlearn: 0.0185759\ttotal: 404ms\tremaining: 216ms\n",
      "652:\tlearn: 0.0185188\ttotal: 405ms\tremaining: 215ms\n",
      "653:\tlearn: 0.0184868\ttotal: 405ms\tremaining: 214ms\n",
      "654:\tlearn: 0.0183997\ttotal: 406ms\tremaining: 214ms\n",
      "655:\tlearn: 0.0183344\ttotal: 406ms\tremaining: 213ms\n",
      "656:\tlearn: 0.0183032\ttotal: 407ms\tremaining: 212ms\n",
      "657:\tlearn: 0.0182173\ttotal: 407ms\tremaining: 212ms\n",
      "658:\tlearn: 0.0181505\ttotal: 408ms\tremaining: 211ms\n",
      "659:\tlearn: 0.0180400\ttotal: 408ms\tremaining: 210ms\n",
      "660:\tlearn: 0.0179470\ttotal: 409ms\tremaining: 210ms\n",
      "661:\tlearn: 0.0178488\ttotal: 409ms\tremaining: 209ms\n",
      "662:\tlearn: 0.0177586\ttotal: 409ms\tremaining: 208ms\n",
      "663:\tlearn: 0.0176769\ttotal: 410ms\tremaining: 207ms\n",
      "664:\tlearn: 0.0176227\ttotal: 410ms\tremaining: 207ms\n",
      "665:\tlearn: 0.0175600\ttotal: 411ms\tremaining: 206ms\n",
      "666:\tlearn: 0.0174810\ttotal: 411ms\tremaining: 205ms\n",
      "667:\tlearn: 0.0174514\ttotal: 412ms\tremaining: 205ms\n",
      "668:\tlearn: 0.0173627\ttotal: 412ms\tremaining: 204ms\n",
      "669:\tlearn: 0.0172841\ttotal: 413ms\tremaining: 203ms\n",
      "670:\tlearn: 0.0172320\ttotal: 413ms\tremaining: 203ms\n",
      "671:\tlearn: 0.0171706\ttotal: 414ms\tremaining: 202ms\n",
      "672:\tlearn: 0.0170864\ttotal: 414ms\tremaining: 201ms\n",
      "673:\tlearn: 0.0170099\ttotal: 415ms\tremaining: 201ms\n",
      "674:\tlearn: 0.0169458\ttotal: 415ms\tremaining: 200ms\n",
      "675:\tlearn: 0.0168555\ttotal: 416ms\tremaining: 199ms\n",
      "676:\tlearn: 0.0167745\ttotal: 416ms\tremaining: 199ms\n",
      "677:\tlearn: 0.0167127\ttotal: 417ms\tremaining: 198ms\n",
      "678:\tlearn: 0.0166255\ttotal: 417ms\tremaining: 197ms\n",
      "679:\tlearn: 0.0165562\ttotal: 418ms\tremaining: 197ms\n",
      "680:\tlearn: 0.0164716\ttotal: 418ms\tremaining: 196ms\n",
      "681:\tlearn: 0.0164008\ttotal: 419ms\tremaining: 195ms\n",
      "682:\tlearn: 0.0163734\ttotal: 419ms\tremaining: 195ms\n",
      "683:\tlearn: 0.0162876\ttotal: 420ms\tremaining: 194ms\n",
      "684:\tlearn: 0.0162190\ttotal: 420ms\tremaining: 193ms\n",
      "685:\tlearn: 0.0161534\ttotal: 421ms\tremaining: 193ms\n",
      "686:\tlearn: 0.0161269\ttotal: 422ms\tremaining: 192ms\n",
      "687:\tlearn: 0.0160603\ttotal: 422ms\tremaining: 191ms\n",
      "688:\tlearn: 0.0159781\ttotal: 423ms\tremaining: 191ms\n",
      "689:\tlearn: 0.0159150\ttotal: 423ms\tremaining: 190ms\n",
      "690:\tlearn: 0.0158892\ttotal: 424ms\tremaining: 189ms\n",
      "691:\tlearn: 0.0158251\ttotal: 424ms\tremaining: 189ms\n",
      "692:\tlearn: 0.0157586\ttotal: 425ms\tremaining: 188ms\n",
      "693:\tlearn: 0.0156861\ttotal: 425ms\tremaining: 188ms\n",
      "694:\tlearn: 0.0156416\ttotal: 426ms\tremaining: 187ms\n",
      "695:\tlearn: 0.0155947\ttotal: 426ms\tremaining: 186ms\n",
      "696:\tlearn: 0.0155375\ttotal: 426ms\tremaining: 185ms\n",
      "697:\tlearn: 0.0155100\ttotal: 427ms\tremaining: 185ms\n",
      "698:\tlearn: 0.0154491\ttotal: 427ms\tremaining: 184ms\n",
      "699:\tlearn: 0.0154222\ttotal: 428ms\tremaining: 183ms\n",
      "700:\tlearn: 0.0153956\ttotal: 428ms\tremaining: 183ms\n",
      "701:\tlearn: 0.0153227\ttotal: 429ms\tremaining: 182ms\n",
      "702:\tlearn: 0.0152816\ttotal: 429ms\tremaining: 181ms\n",
      "703:\tlearn: 0.0152416\ttotal: 430ms\tremaining: 181ms\n",
      "704:\tlearn: 0.0152017\ttotal: 430ms\tremaining: 180ms\n",
      "705:\tlearn: 0.0151758\ttotal: 431ms\tremaining: 179ms\n",
      "706:\tlearn: 0.0151503\ttotal: 431ms\tremaining: 179ms\n",
      "707:\tlearn: 0.0151081\ttotal: 432ms\tremaining: 178ms\n",
      "708:\tlearn: 0.0150829\ttotal: 432ms\tremaining: 177ms\n",
      "709:\tlearn: 0.0150582\ttotal: 433ms\tremaining: 177ms\n",
      "710:\tlearn: 0.0150201\ttotal: 433ms\tremaining: 176ms\n",
      "711:\tlearn: 0.0149818\ttotal: 434ms\tremaining: 175ms\n",
      "712:\tlearn: 0.0149298\ttotal: 434ms\tremaining: 175ms\n",
      "713:\tlearn: 0.0149056\ttotal: 435ms\tremaining: 174ms\n",
      "714:\tlearn: 0.0148817\ttotal: 435ms\tremaining: 173ms\n",
      "715:\tlearn: 0.0148311\ttotal: 436ms\tremaining: 173ms\n",
      "716:\tlearn: 0.0147944\ttotal: 436ms\tremaining: 172ms\n",
      "717:\tlearn: 0.0147609\ttotal: 437ms\tremaining: 172ms\n",
      "718:\tlearn: 0.0146687\ttotal: 437ms\tremaining: 171ms\n",
      "719:\tlearn: 0.0145783\ttotal: 438ms\tremaining: 170ms\n",
      "720:\tlearn: 0.0145552\ttotal: 438ms\tremaining: 170ms\n",
      "721:\tlearn: 0.0144665\ttotal: 439ms\tremaining: 169ms\n",
      "722:\tlearn: 0.0144343\ttotal: 439ms\tremaining: 168ms\n",
      "723:\tlearn: 0.0143588\ttotal: 440ms\tremaining: 168ms\n",
      "724:\tlearn: 0.0142760\ttotal: 440ms\tremaining: 167ms\n",
      "725:\tlearn: 0.0142031\ttotal: 441ms\tremaining: 166ms\n",
      "726:\tlearn: 0.0141317\ttotal: 441ms\tremaining: 166ms\n",
      "727:\tlearn: 0.0140528\ttotal: 442ms\tremaining: 165ms\n",
      "728:\tlearn: 0.0139968\ttotal: 442ms\tremaining: 164ms\n",
      "729:\tlearn: 0.0139279\ttotal: 443ms\tremaining: 164ms\n",
      "730:\tlearn: 0.0138733\ttotal: 444ms\tremaining: 163ms\n",
      "731:\tlearn: 0.0138092\ttotal: 444ms\tremaining: 163ms\n",
      "732:\tlearn: 0.0137561\ttotal: 445ms\tremaining: 162ms\n",
      "733:\tlearn: 0.0136934\ttotal: 445ms\tremaining: 161ms\n",
      "734:\tlearn: 0.0136416\ttotal: 446ms\tremaining: 161ms\n",
      "735:\tlearn: 0.0135663\ttotal: 446ms\tremaining: 160ms\n",
      "736:\tlearn: 0.0135159\ttotal: 447ms\tremaining: 159ms\n",
      "737:\tlearn: 0.0134550\ttotal: 447ms\tremaining: 159ms\n",
      "738:\tlearn: 0.0133942\ttotal: 448ms\tremaining: 158ms\n",
      "739:\tlearn: 0.0133572\ttotal: 448ms\tremaining: 157ms\n",
      "740:\tlearn: 0.0132978\ttotal: 449ms\tremaining: 157ms\n",
      "741:\tlearn: 0.0132502\ttotal: 449ms\tremaining: 156ms\n",
      "742:\tlearn: 0.0131921\ttotal: 450ms\tremaining: 156ms\n",
      "743:\tlearn: 0.0131352\ttotal: 450ms\tremaining: 155ms\n",
      "744:\tlearn: 0.0131028\ttotal: 451ms\tremaining: 154ms\n",
      "745:\tlearn: 0.0130477\ttotal: 451ms\tremaining: 154ms\n",
      "746:\tlearn: 0.0130270\ttotal: 452ms\tremaining: 153ms\n",
      "747:\tlearn: 0.0129938\ttotal: 452ms\tremaining: 152ms\n",
      "748:\tlearn: 0.0129394\ttotal: 452ms\tremaining: 152ms\n",
      "749:\tlearn: 0.0128796\ttotal: 453ms\tremaining: 151ms\n",
      "750:\tlearn: 0.0128313\ttotal: 453ms\tremaining: 150ms\n",
      "751:\tlearn: 0.0127839\ttotal: 454ms\tremaining: 150ms\n",
      "752:\tlearn: 0.0127259\ttotal: 454ms\tremaining: 149ms\n",
      "753:\tlearn: 0.0126795\ttotal: 455ms\tremaining: 148ms\n",
      "754:\tlearn: 0.0126240\ttotal: 456ms\tremaining: 148ms\n",
      "755:\tlearn: 0.0125744\ttotal: 457ms\tremaining: 147ms\n",
      "756:\tlearn: 0.0125204\ttotal: 457ms\tremaining: 147ms\n",
      "757:\tlearn: 0.0124759\ttotal: 458ms\tremaining: 146ms\n",
      "758:\tlearn: 0.0124222\ttotal: 459ms\tremaining: 146ms\n",
      "759:\tlearn: 0.0123786\ttotal: 459ms\tremaining: 145ms\n",
      "760:\tlearn: 0.0123363\ttotal: 460ms\tremaining: 144ms\n",
      "761:\tlearn: 0.0123130\ttotal: 461ms\tremaining: 144ms\n",
      "762:\tlearn: 0.0122608\ttotal: 461ms\tremaining: 143ms\n",
      "763:\tlearn: 0.0122089\ttotal: 462ms\tremaining: 143ms\n",
      "764:\tlearn: 0.0121576\ttotal: 462ms\tremaining: 142ms\n",
      "765:\tlearn: 0.0121090\ttotal: 462ms\tremaining: 141ms\n",
      "766:\tlearn: 0.0120571\ttotal: 463ms\tremaining: 141ms\n",
      "767:\tlearn: 0.0120097\ttotal: 463ms\tremaining: 140ms\n",
      "768:\tlearn: 0.0119639\ttotal: 464ms\tremaining: 139ms\n",
      "769:\tlearn: 0.0119139\ttotal: 464ms\tremaining: 139ms\n",
      "770:\tlearn: 0.0118631\ttotal: 465ms\tremaining: 138ms\n",
      "771:\tlearn: 0.0118228\ttotal: 465ms\tremaining: 137ms\n",
      "772:\tlearn: 0.0117814\ttotal: 466ms\tremaining: 137ms\n",
      "773:\tlearn: 0.0117355\ttotal: 466ms\tremaining: 136ms\n",
      "774:\tlearn: 0.0116964\ttotal: 467ms\tremaining: 136ms\n",
      "775:\tlearn: 0.0116507\ttotal: 467ms\tremaining: 135ms\n",
      "776:\tlearn: 0.0116029\ttotal: 468ms\tremaining: 134ms\n",
      "777:\tlearn: 0.0115586\ttotal: 469ms\tremaining: 134ms\n",
      "778:\tlearn: 0.0115156\ttotal: 469ms\tremaining: 133ms\n",
      "779:\tlearn: 0.0114668\ttotal: 470ms\tremaining: 132ms\n",
      "780:\tlearn: 0.0114278\ttotal: 470ms\tremaining: 132ms\n",
      "781:\tlearn: 0.0113859\ttotal: 471ms\tremaining: 131ms\n",
      "782:\tlearn: 0.0113487\ttotal: 471ms\tremaining: 131ms\n",
      "783:\tlearn: 0.0113117\ttotal: 472ms\tremaining: 130ms\n",
      "784:\tlearn: 0.0112708\ttotal: 472ms\tremaining: 129ms\n",
      "785:\tlearn: 0.0112348\ttotal: 473ms\tremaining: 129ms\n",
      "786:\tlearn: 0.0111874\ttotal: 473ms\tremaining: 128ms\n",
      "787:\tlearn: 0.0111524\ttotal: 473ms\tremaining: 127ms\n",
      "788:\tlearn: 0.0111073\ttotal: 474ms\tremaining: 127ms\n",
      "789:\tlearn: 0.0110703\ttotal: 474ms\tremaining: 126ms\n",
      "790:\tlearn: 0.0110277\ttotal: 475ms\tremaining: 125ms\n",
      "791:\tlearn: 0.0109935\ttotal: 475ms\tremaining: 125ms\n",
      "792:\tlearn: 0.0109595\ttotal: 476ms\tremaining: 124ms\n",
      "793:\tlearn: 0.0109139\ttotal: 476ms\tremaining: 124ms\n"
     ]
    },
    {
     "name": "stdout",
     "output_type": "stream",
     "text": [
      "794:\tlearn: 0.0108930\ttotal: 477ms\tremaining: 123ms\n",
      "795:\tlearn: 0.0108600\ttotal: 477ms\tremaining: 122ms\n",
      "796:\tlearn: 0.0108321\ttotal: 478ms\tremaining: 122ms\n",
      "797:\tlearn: 0.0107874\ttotal: 478ms\tremaining: 121ms\n",
      "798:\tlearn: 0.0107487\ttotal: 479ms\tremaining: 120ms\n",
      "799:\tlearn: 0.0107168\ttotal: 479ms\tremaining: 120ms\n",
      "800:\tlearn: 0.0106786\ttotal: 480ms\tremaining: 119ms\n",
      "801:\tlearn: 0.0106384\ttotal: 480ms\tremaining: 119ms\n",
      "802:\tlearn: 0.0106229\ttotal: 481ms\tremaining: 118ms\n",
      "803:\tlearn: 0.0105918\ttotal: 481ms\tremaining: 117ms\n",
      "804:\tlearn: 0.0105542\ttotal: 481ms\tremaining: 117ms\n",
      "805:\tlearn: 0.0105115\ttotal: 482ms\tremaining: 116ms\n",
      "806:\tlearn: 0.0104800\ttotal: 482ms\tremaining: 115ms\n",
      "807:\tlearn: 0.0104580\ttotal: 483ms\tremaining: 115ms\n",
      "808:\tlearn: 0.0104279\ttotal: 483ms\tremaining: 114ms\n",
      "809:\tlearn: 0.0104138\ttotal: 484ms\tremaining: 114ms\n",
      "810:\tlearn: 0.0103830\ttotal: 485ms\tremaining: 113ms\n",
      "811:\tlearn: 0.0103691\ttotal: 485ms\tremaining: 112ms\n",
      "812:\tlearn: 0.0103355\ttotal: 486ms\tremaining: 112ms\n",
      "813:\tlearn: 0.0103020\ttotal: 486ms\tremaining: 111ms\n",
      "814:\tlearn: 0.0102685\ttotal: 487ms\tremaining: 110ms\n",
      "815:\tlearn: 0.0102621\ttotal: 487ms\tremaining: 110ms\n",
      "816:\tlearn: 0.0102483\ttotal: 488ms\tremaining: 109ms\n",
      "817:\tlearn: 0.0102420\ttotal: 488ms\tremaining: 109ms\n",
      "818:\tlearn: 0.0102344\ttotal: 488ms\tremaining: 108ms\n",
      "819:\tlearn: 0.0101921\ttotal: 489ms\tremaining: 107ms\n",
      "820:\tlearn: 0.0101860\ttotal: 489ms\tremaining: 107ms\n",
      "821:\tlearn: 0.0101779\ttotal: 490ms\tremaining: 106ms\n",
      "822:\tlearn: 0.0101367\ttotal: 490ms\tremaining: 105ms\n",
      "823:\tlearn: 0.0100840\ttotal: 491ms\tremaining: 105ms\n",
      "824:\tlearn: 0.0100762\ttotal: 491ms\tremaining: 104ms\n",
      "825:\tlearn: 0.0100685\ttotal: 491ms\tremaining: 104ms\n",
      "826:\tlearn: 0.0100371\ttotal: 492ms\tremaining: 103ms\n",
      "827:\tlearn: 0.0100295\ttotal: 492ms\tremaining: 102ms\n",
      "828:\tlearn: 0.0099940\ttotal: 493ms\tremaining: 102ms\n",
      "829:\tlearn: 0.0099633\ttotal: 494ms\tremaining: 101ms\n",
      "830:\tlearn: 0.0099576\ttotal: 494ms\tremaining: 101ms\n",
      "831:\tlearn: 0.0099274\ttotal: 495ms\tremaining: 99.9ms\n",
      "832:\tlearn: 0.0098920\ttotal: 495ms\tremaining: 99.3ms\n",
      "833:\tlearn: 0.0098864\ttotal: 496ms\tremaining: 98.7ms\n",
      "834:\tlearn: 0.0098615\ttotal: 496ms\tremaining: 98ms\n",
      "835:\tlearn: 0.0098275\ttotal: 497ms\tremaining: 97.4ms\n",
      "836:\tlearn: 0.0097974\ttotal: 497ms\tremaining: 96.8ms\n",
      "837:\tlearn: 0.0097730\ttotal: 498ms\tremaining: 96.2ms\n",
      "838:\tlearn: 0.0097599\ttotal: 498ms\tremaining: 95.6ms\n",
      "839:\tlearn: 0.0097304\ttotal: 499ms\tremaining: 95ms\n",
      "840:\tlearn: 0.0096968\ttotal: 499ms\tremaining: 94.4ms\n",
      "841:\tlearn: 0.0096839\ttotal: 500ms\tremaining: 93.7ms\n",
      "842:\tlearn: 0.0096510\ttotal: 500ms\tremaining: 93.1ms\n",
      "843:\tlearn: 0.0096046\ttotal: 502ms\tremaining: 92.9ms\n",
      "844:\tlearn: 0.0095714\ttotal: 504ms\tremaining: 92.4ms\n",
      "845:\tlearn: 0.0095432\ttotal: 504ms\tremaining: 91.7ms\n",
      "846:\tlearn: 0.0095306\ttotal: 504ms\tremaining: 91.1ms\n",
      "847:\tlearn: 0.0095028\ttotal: 505ms\tremaining: 90.5ms\n",
      "848:\tlearn: 0.0094706\ttotal: 505ms\tremaining: 89.9ms\n",
      "849:\tlearn: 0.0094547\ttotal: 506ms\tremaining: 89.2ms\n",
      "850:\tlearn: 0.0094423\ttotal: 506ms\tremaining: 88.6ms\n",
      "851:\tlearn: 0.0094267\ttotal: 507ms\tremaining: 88ms\n",
      "852:\tlearn: 0.0094116\ttotal: 507ms\tremaining: 87.4ms\n",
      "853:\tlearn: 0.0093994\ttotal: 507ms\tremaining: 86.8ms\n",
      "854:\tlearn: 0.0093677\ttotal: 508ms\tremaining: 86.1ms\n",
      "855:\tlearn: 0.0093587\ttotal: 509ms\tremaining: 85.6ms\n",
      "856:\tlearn: 0.0093538\ttotal: 509ms\tremaining: 85ms\n",
      "857:\tlearn: 0.0093418\ttotal: 510ms\tremaining: 84.3ms\n",
      "858:\tlearn: 0.0093370\ttotal: 510ms\tremaining: 83.7ms\n",
      "859:\tlearn: 0.0093041\ttotal: 511ms\tremaining: 83.1ms\n",
      "860:\tlearn: 0.0092993\ttotal: 511ms\tremaining: 82.5ms\n",
      "861:\tlearn: 0.0092876\ttotal: 512ms\tremaining: 81.9ms\n",
      "862:\tlearn: 0.0092828\ttotal: 512ms\tremaining: 81.3ms\n",
      "863:\tlearn: 0.0092386\ttotal: 512ms\tremaining: 80.7ms\n",
      "864:\tlearn: 0.0092240\ttotal: 513ms\tremaining: 80.1ms\n",
      "865:\tlearn: 0.0091934\ttotal: 513ms\tremaining: 79.4ms\n",
      "866:\tlearn: 0.0091846\ttotal: 514ms\tremaining: 78.8ms\n",
      "867:\tlearn: 0.0091641\ttotal: 514ms\tremaining: 78.2ms\n",
      "868:\tlearn: 0.0091383\ttotal: 515ms\tremaining: 77.6ms\n",
      "869:\tlearn: 0.0090975\ttotal: 515ms\tremaining: 77ms\n",
      "870:\tlearn: 0.0090882\ttotal: 516ms\tremaining: 76.5ms\n",
      "871:\tlearn: 0.0090836\ttotal: 517ms\tremaining: 75.8ms\n",
      "872:\tlearn: 0.0090746\ttotal: 517ms\tremaining: 75.2ms\n",
      "873:\tlearn: 0.0090346\ttotal: 518ms\tremaining: 74.6ms\n",
      "874:\tlearn: 0.0090257\ttotal: 518ms\tremaining: 74ms\n",
      "875:\tlearn: 0.0090061\ttotal: 519ms\tremaining: 73.4ms\n",
      "876:\tlearn: 0.0089670\ttotal: 519ms\tremaining: 72.8ms\n",
      "877:\tlearn: 0.0089583\ttotal: 520ms\tremaining: 72.2ms\n",
      "878:\tlearn: 0.0089539\ttotal: 520ms\tremaining: 71.6ms\n",
      "879:\tlearn: 0.0089348\ttotal: 521ms\tremaining: 71ms\n",
      "880:\tlearn: 0.0088965\ttotal: 521ms\tremaining: 70.4ms\n",
      "881:\tlearn: 0.0088728\ttotal: 522ms\tremaining: 69.8ms\n",
      "882:\tlearn: 0.0088496\ttotal: 522ms\tremaining: 69.2ms\n",
      "883:\tlearn: 0.0088271\ttotal: 523ms\tremaining: 68.6ms\n",
      "884:\tlearn: 0.0088051\ttotal: 523ms\tremaining: 68ms\n",
      "885:\tlearn: 0.0087837\ttotal: 524ms\tremaining: 67.4ms\n",
      "886:\tlearn: 0.0087628\ttotal: 524ms\tremaining: 66.8ms\n",
      "887:\tlearn: 0.0087104\ttotal: 525ms\tremaining: 66.2ms\n",
      "888:\tlearn: 0.0086930\ttotal: 525ms\tremaining: 65.6ms\n",
      "889:\tlearn: 0.0086419\ttotal: 526ms\tremaining: 65ms\n",
      "890:\tlearn: 0.0086288\ttotal: 526ms\tremaining: 64.4ms\n",
      "891:\tlearn: 0.0085998\ttotal: 527ms\tremaining: 63.8ms\n",
      "892:\tlearn: 0.0085814\ttotal: 527ms\tremaining: 63.2ms\n",
      "893:\tlearn: 0.0085646\ttotal: 528ms\tremaining: 62.6ms\n",
      "894:\tlearn: 0.0085304\ttotal: 528ms\tremaining: 62ms\n",
      "895:\tlearn: 0.0084971\ttotal: 529ms\tremaining: 61.4ms\n",
      "896:\tlearn: 0.0084643\ttotal: 529ms\tremaining: 60.8ms\n",
      "897:\tlearn: 0.0084517\ttotal: 530ms\tremaining: 60.2ms\n",
      "898:\tlearn: 0.0084046\ttotal: 530ms\tremaining: 59.6ms\n",
      "899:\tlearn: 0.0083922\ttotal: 535ms\tremaining: 59.4ms\n",
      "900:\tlearn: 0.0083761\ttotal: 535ms\tremaining: 58.8ms\n",
      "901:\tlearn: 0.0083257\ttotal: 536ms\tremaining: 58.2ms\n",
      "902:\tlearn: 0.0082799\ttotal: 536ms\tremaining: 57.6ms\n",
      "903:\tlearn: 0.0082349\ttotal: 537ms\tremaining: 57ms\n",
      "904:\tlearn: 0.0082038\ttotal: 537ms\tremaining: 56.4ms\n",
      "905:\tlearn: 0.0081917\ttotal: 538ms\tremaining: 55.8ms\n",
      "906:\tlearn: 0.0081637\ttotal: 538ms\tremaining: 55.2ms\n",
      "907:\tlearn: 0.0081201\ttotal: 539ms\tremaining: 54.6ms\n",
      "908:\tlearn: 0.0081028\ttotal: 539ms\tremaining: 54ms\n",
      "909:\tlearn: 0.0080728\ttotal: 539ms\tremaining: 53.3ms\n",
      "910:\tlearn: 0.0080433\ttotal: 540ms\tremaining: 52.7ms\n",
      "911:\tlearn: 0.0080268\ttotal: 540ms\tremaining: 52.1ms\n",
      "912:\tlearn: 0.0079933\ttotal: 541ms\tremaining: 51.5ms\n",
      "913:\tlearn: 0.0079503\ttotal: 541ms\tremaining: 50.9ms\n",
      "914:\tlearn: 0.0079179\ttotal: 542ms\tremaining: 50.3ms\n",
      "915:\tlearn: 0.0078761\ttotal: 543ms\tremaining: 49.8ms\n",
      "916:\tlearn: 0.0078608\ttotal: 543ms\tremaining: 49.1ms\n",
      "917:\tlearn: 0.0078400\ttotal: 544ms\tremaining: 48.6ms\n",
      "918:\tlearn: 0.0078250\ttotal: 544ms\tremaining: 48ms\n",
      "919:\tlearn: 0.0078103\ttotal: 545ms\tremaining: 47.4ms\n",
      "920:\tlearn: 0.0077959\ttotal: 545ms\tremaining: 46.8ms\n",
      "921:\tlearn: 0.0077755\ttotal: 546ms\tremaining: 46.2ms\n",
      "922:\tlearn: 0.0077614\ttotal: 546ms\tremaining: 45.5ms\n",
      "923:\tlearn: 0.0077475\ttotal: 548ms\tremaining: 45.1ms\n",
      "924:\tlearn: 0.0077276\ttotal: 549ms\tremaining: 44.5ms\n",
      "925:\tlearn: 0.0077140\ttotal: 549ms\tremaining: 43.9ms\n",
      "926:\tlearn: 0.0076808\ttotal: 550ms\tremaining: 43.3ms\n",
      "927:\tlearn: 0.0076646\ttotal: 550ms\tremaining: 42.7ms\n",
      "928:\tlearn: 0.0076488\ttotal: 551ms\tremaining: 42.1ms\n",
      "929:\tlearn: 0.0076189\ttotal: 551ms\tremaining: 41.5ms\n",
      "930:\tlearn: 0.0076071\ttotal: 552ms\tremaining: 40.9ms\n",
      "931:\tlearn: 0.0075748\ttotal: 552ms\tremaining: 40.3ms\n",
      "932:\tlearn: 0.0075455\ttotal: 553ms\tremaining: 39.7ms\n",
      "933:\tlearn: 0.0075297\ttotal: 553ms\tremaining: 39.1ms\n",
      "934:\tlearn: 0.0075105\ttotal: 554ms\tremaining: 38.5ms\n",
      "935:\tlearn: 0.0074820\ttotal: 554ms\tremaining: 37.9ms\n",
      "936:\tlearn: 0.0074376\ttotal: 555ms\tremaining: 37.3ms\n",
      "937:\tlearn: 0.0074189\ttotal: 555ms\tremaining: 36.7ms\n",
      "938:\tlearn: 0.0074059\ttotal: 556ms\tremaining: 36.1ms\n",
      "939:\tlearn: 0.0073627\ttotal: 557ms\tremaining: 35.5ms\n"
     ]
    },
    {
     "name": "stdout",
     "output_type": "stream",
     "text": [
      "940:\tlearn: 0.0073445\ttotal: 558ms\tremaining: 35ms\n",
      "941:\tlearn: 0.0073165\ttotal: 558ms\tremaining: 34.4ms\n",
      "942:\tlearn: 0.0073071\ttotal: 559ms\tremaining: 33.8ms\n",
      "943:\tlearn: 0.0072987\ttotal: 559ms\tremaining: 33.2ms\n",
      "944:\tlearn: 0.0072756\ttotal: 560ms\tremaining: 32.6ms\n",
      "945:\tlearn: 0.0072339\ttotal: 561ms\tremaining: 32ms\n",
      "946:\tlearn: 0.0072217\ttotal: 561ms\tremaining: 31.4ms\n",
      "947:\tlearn: 0.0071889\ttotal: 562ms\tremaining: 30.8ms\n",
      "948:\tlearn: 0.0071594\ttotal: 562ms\tremaining: 30.2ms\n",
      "949:\tlearn: 0.0071512\ttotal: 563ms\tremaining: 29.6ms\n",
      "950:\tlearn: 0.0071290\ttotal: 563ms\tremaining: 29ms\n",
      "951:\tlearn: 0.0070970\ttotal: 564ms\tremaining: 28.4ms\n",
      "952:\tlearn: 0.0070655\ttotal: 564ms\tremaining: 27.8ms\n",
      "953:\tlearn: 0.0070536\ttotal: 565ms\tremaining: 27.2ms\n",
      "954:\tlearn: 0.0070225\ttotal: 566ms\tremaining: 26.7ms\n",
      "955:\tlearn: 0.0069962\ttotal: 566ms\tremaining: 26.1ms\n",
      "956:\tlearn: 0.0069882\ttotal: 567ms\tremaining: 25.5ms\n",
      "957:\tlearn: 0.0069766\ttotal: 567ms\tremaining: 24.9ms\n",
      "958:\tlearn: 0.0069489\ttotal: 568ms\tremaining: 24.3ms\n",
      "959:\tlearn: 0.0069411\ttotal: 568ms\tremaining: 23.7ms\n",
      "960:\tlearn: 0.0069334\ttotal: 569ms\tremaining: 23.1ms\n",
      "961:\tlearn: 0.0069083\ttotal: 570ms\tremaining: 22.5ms\n",
      "962:\tlearn: 0.0068886\ttotal: 570ms\tremaining: 21.9ms\n",
      "963:\tlearn: 0.0068678\ttotal: 571ms\tremaining: 21.3ms\n",
      "964:\tlearn: 0.0068487\ttotal: 571ms\tremaining: 20.7ms\n",
      "965:\tlearn: 0.0068284\ttotal: 572ms\tremaining: 20.1ms\n",
      "966:\tlearn: 0.0067982\ttotal: 572ms\tremaining: 19.5ms\n",
      "967:\tlearn: 0.0067781\ttotal: 573ms\tremaining: 18.9ms\n",
      "968:\tlearn: 0.0067484\ttotal: 573ms\tremaining: 18.3ms\n",
      "969:\tlearn: 0.0067289\ttotal: 574ms\tremaining: 17.8ms\n",
      "970:\tlearn: 0.0067031\ttotal: 575ms\tremaining: 17.2ms\n",
      "971:\tlearn: 0.0066841\ttotal: 575ms\tremaining: 16.6ms\n",
      "972:\tlearn: 0.0066550\ttotal: 576ms\tremaining: 16ms\n",
      "973:\tlearn: 0.0066430\ttotal: 576ms\tremaining: 15.4ms\n",
      "974:\tlearn: 0.0066321\ttotal: 577ms\tremaining: 14.8ms\n",
      "975:\tlearn: 0.0066137\ttotal: 577ms\tremaining: 14.2ms\n",
      "976:\tlearn: 0.0065895\ttotal: 580ms\tremaining: 13.6ms\n",
      "977:\tlearn: 0.0065610\ttotal: 580ms\tremaining: 13.1ms\n",
      "978:\tlearn: 0.0065493\ttotal: 581ms\tremaining: 12.5ms\n",
      "979:\tlearn: 0.0065300\ttotal: 581ms\tremaining: 11.9ms\n",
      "980:\tlearn: 0.0065021\ttotal: 582ms\tremaining: 11.3ms\n",
      "981:\tlearn: 0.0064906\ttotal: 583ms\tremaining: 10.7ms\n",
      "982:\tlearn: 0.0064773\ttotal: 583ms\tremaining: 10.1ms\n",
      "983:\tlearn: 0.0064621\ttotal: 584ms\tremaining: 9.49ms\n",
      "984:\tlearn: 0.0064490\ttotal: 584ms\tremaining: 8.89ms\n",
      "985:\tlearn: 0.0064205\ttotal: 585ms\tremaining: 8.3ms\n",
      "986:\tlearn: 0.0064076\ttotal: 585ms\tremaining: 7.71ms\n",
      "987:\tlearn: 0.0063938\ttotal: 585ms\tremaining: 7.11ms\n",
      "988:\tlearn: 0.0063589\ttotal: 586ms\tremaining: 6.51ms\n",
      "989:\tlearn: 0.0063453\ttotal: 586ms\tremaining: 5.92ms\n",
      "990:\tlearn: 0.0063112\ttotal: 587ms\tremaining: 5.33ms\n",
      "991:\tlearn: 0.0062837\ttotal: 587ms\tremaining: 4.74ms\n",
      "992:\tlearn: 0.0062711\ttotal: 588ms\tremaining: 4.14ms\n",
      "993:\tlearn: 0.0062542\ttotal: 588ms\tremaining: 3.55ms\n",
      "994:\tlearn: 0.0062412\ttotal: 589ms\tremaining: 2.96ms\n",
      "995:\tlearn: 0.0062289\ttotal: 589ms\tremaining: 2.37ms\n",
      "996:\tlearn: 0.0061908\ttotal: 590ms\tremaining: 1.77ms\n",
      "997:\tlearn: 0.0061710\ttotal: 590ms\tremaining: 1.18ms\n",
      "998:\tlearn: 0.0061589\ttotal: 591ms\tremaining: 591us\n",
      "999:\tlearn: 0.0061391\ttotal: 591ms\tremaining: 0us\n"
     ]
    },
    {
     "data": {
      "text/plain": [
       "<catboost.core.CatBoostRegressor at 0x7fa23149f700>"
      ]
     },
     "execution_count": 9,
     "metadata": {},
     "output_type": "execute_result"
    }
   ],
   "source": [
    "#Train the Model \n",
    "prior_model = ctb.CatBoostRegressor()\n",
    "prior_model.fit(X_train,Y_train)"
   ]
  },
  {
   "cell_type": "code",
   "execution_count": 10,
   "id": "af65dcda",
   "metadata": {
    "execution": {
     "iopub.execute_input": "2022-06-07T07:12:48.905054Z",
     "iopub.status.busy": "2022-06-07T07:12:48.904667Z",
     "iopub.status.idle": "2022-06-07T07:12:48.912109Z",
     "shell.execute_reply": "2022-06-07T07:12:48.912408Z"
    },
    "id": "af65dcda",
    "papermill": {
     "duration": 0.020476,
     "end_time": "2022-06-07T07:12:48.912527",
     "exception": false,
     "start_time": "2022-06-07T07:12:48.892051",
     "status": "completed"
    },
    "tags": []
   },
   "outputs": [
    {
     "data": {
      "application/scrapbook.scrap.json+json": {
       "data": 0.2654872215806918,
       "encoder": "json",
       "name": "Prior Model MSE",
       "version": 1
      }
     },
     "metadata": {
      "scrapbook": {
       "data": true,
       "display": false,
       "name": "Prior Model MSE"
      }
     },
     "output_type": "display_data"
    },
    {
     "data": {
      "application/scrapbook.scrap.json+json": {
       "data": 0.2812819094729768,
       "encoder": "json",
       "name": "ABC Pre-generator MSE",
       "version": 1
      }
     },
     "metadata": {
      "scrapbook": {
       "data": true,
       "display": false,
       "name": "ABC Pre-generator MSE"
      }
     },
     "output_type": "display_data"
    },
    {
     "data": {
      "application/scrapbook.scrap.json+json": {
       "data": 0.4133723532078184,
       "encoder": "json",
       "name": "Prior Model MSE",
       "version": 1
      }
     },
     "metadata": {
      "scrapbook": {
       "data": true,
       "display": false,
       "name": "Prior Model MSE"
      }
     },
     "output_type": "display_data"
    },
    {
     "data": {
      "application/scrapbook.scrap.json+json": {
       "data": 0.4280844751766232,
       "encoder": "json",
       "name": "ABC Pre-generator MSE",
       "version": 1
      }
     },
     "metadata": {
      "scrapbook": {
       "data": true,
       "display": false,
       "name": "ABC Pre-generator MSE"
      }
     },
     "output_type": "display_data"
    }
   ],
   "source": [
    "y_pred = prior_model.predict(X_test)\n",
    "y_abc = y_pred + np.random.normal(0,variance, y_pred.shape) + bias \n",
    "mse = mean_squared_error(y_pred,Y_test)\n",
    "sb.glue(\"Prior Model MSE\",mse)\n",
    "mse = mean_squared_error(y_abc,Y_test)\n",
    "sb.glue(\"ABC Pre-generator MSE\",mse)\n",
    "mae = mean_absolute_error(y_pred,Y_test)\n",
    "sb.glue(\"Prior Model MSE\",mae)\n",
    "mae = mean_absolute_error(y_abc,Y_test)\n",
    "sb.glue(\"ABC Pre-generator MSE\",mae)"
   ]
  },
  {
   "cell_type": "markdown",
   "id": "25609da2",
   "metadata": {
    "papermill": {
     "duration": 0.0095,
     "end_time": "2022-06-07T07:12:48.931892",
     "exception": false,
     "start_time": "2022-06-07T07:12:48.922392",
     "status": "completed"
    },
    "tags": []
   },
   "source": [
    "# ABC GAN Model"
   ]
  },
  {
   "cell_type": "code",
   "execution_count": 11,
   "id": "dfc3464d",
   "metadata": {
    "execution": {
     "iopub.execute_input": "2022-06-07T07:12:48.953798Z",
     "iopub.status.busy": "2022-06-07T07:12:48.953423Z",
     "iopub.status.idle": "2022-06-07T07:12:48.955922Z",
     "shell.execute_reply": "2022-06-07T07:12:48.956200Z"
    },
    "papermill": {
     "duration": 0.014958,
     "end_time": "2022-06-07T07:12:48.956312",
     "exception": false,
     "start_time": "2022-06-07T07:12:48.941354",
     "status": "completed"
    },
    "tags": []
   },
   "outputs": [],
   "source": [
    "gen = network.Generator(n_features+1).to(device)\n",
    "disc = network.Discriminator(n_features+1).to(device)\n",
    "\n",
    "criterion = torch.nn.BCELoss()\n",
    "gen_opt = torch.optim.Adam(gen.parameters(), lr=0.001, betas=(0.5, 0.999))\n",
    "disc_opt = torch.optim.Adam(disc.parameters(), lr=0.001, betas=(0.5, 0.999))"
   ]
  },
  {
   "cell_type": "code",
   "execution_count": 12,
   "id": "b75fdd85",
   "metadata": {
    "execution": {
     "iopub.execute_input": "2022-06-07T07:12:48.977939Z",
     "iopub.status.busy": "2022-06-07T07:12:48.977570Z",
     "iopub.status.idle": "2022-06-07T07:13:04.164173Z",
     "shell.execute_reply": "2022-06-07T07:13:04.164432Z"
    },
    "papermill": {
     "duration": 15.198587,
     "end_time": "2022-06-07T07:13:04.164559",
     "exception": false,
     "start_time": "2022-06-07T07:12:48.965972",
     "status": "completed"
    },
    "tags": []
   },
   "outputs": [
    {
     "data": {
      "image/png": "[encoded data removed]",
      "text/plain": [
       "<Figure size 432x288 with 1 Axes>"
      ]
     },
     "metadata": {
      "needs_background": "light"
     },
     "output_type": "display_data"
    },
    {
     "data": {
      "image/png": "[encoded data removed]",
      "text/plain": [
       "<Figure size 432x288 with 1 Axes>"
      ]
     },
     "metadata": {
      "needs_background": "light"
     },
     "output_type": "display_data"
    }
   ],
   "source": [
    "#Training the ABC_GAN \n",
    "ABC_train_test2.training_GAN(disc,gen,disc_opt,gen_opt,train_data,batch_size,n_epochs,criterion,prior_model,variance,bias,device)"
   ]
  },
  {
   "cell_type": "code",
   "execution_count": 13,
   "id": "1fa7c368",
   "metadata": {
    "execution": {
     "iopub.execute_input": "2022-06-07T07:13:04.189512Z",
     "iopub.status.busy": "2022-06-07T07:13:04.189037Z",
     "iopub.status.idle": "2022-06-07T07:13:04.383421Z",
     "shell.execute_reply": "2022-06-07T07:13:04.383758Z"
    },
    "papermill": {
     "duration": 0.208128,
     "end_time": "2022-06-07T07:13:04.383886",
     "exception": false,
     "start_time": "2022-06-07T07:13:04.175758",
     "status": "completed"
    },
    "tags": []
   },
   "outputs": [
    {
     "data": {
      "application/scrapbook.scrap.json+json": {
       "data": 0.12548271649039286,
       "encoder": "json",
       "name": "ABC-GAN Model 1 MSE",
       "version": 1
      }
     },
     "metadata": {
      "scrapbook": {
       "data": true,
       "display": false,
       "name": "ABC-GAN Model 1 MSE"
      }
     },
     "output_type": "display_data"
    },
    {
     "data": {
      "application/scrapbook.scrap.json+json": {
       "data": 0.27727255745604634,
       "encoder": "json",
       "name": "ABC-GAN Model 1 MAE",
       "version": 1
      }
     },
     "metadata": {
      "scrapbook": {
       "data": true,
       "display": false,
       "name": "ABC-GAN Model 1 MAE"
      }
     },
     "output_type": "display_data"
    },
    {
     "data": {
      "application/scrapbook.scrap.json+json": {
       "data": 5.545451149120927,
       "encoder": "json",
       "name": "ABC-GAN Model 1 Manhattan Distance",
       "version": 1
      }
     },
     "metadata": {
      "scrapbook": {
       "data": true,
       "display": false,
       "name": "ABC-GAN Model 1 Manhattan Distance"
      }
     },
     "output_type": "display_data"
    },
    {
     "data": {
      "application/scrapbook.scrap.json+json": {
       "data": 1.5832028475373283,
       "encoder": "json",
       "name": "ABC-GAN Model 1 Euclidean distance",
       "version": 1
      }
     },
     "metadata": {
      "scrapbook": {
       "data": true,
       "display": false,
       "name": "ABC-GAN Model 1 Euclidean distance"
      }
     },
     "output_type": "display_data"
    },
    {
     "data": {
      "application/scrapbook.scrap.json+json": {
       "data": [
        [
         0.13815999171854698,
         0.12032709783173426,
         0.12593239975344309,
         0.12484396070867318,
         0.12345145379462452,
         0.11593549864346189,
         0.1174607803486615,
         0.11008513400436493,
         0.13108957263289178,
         0.12703258179012944,
         0.13773485609150896,
         0.11950541378011348,
         0.11837060889172646,
         0.11965181853608989,
         0.11595400346426162,
         0.1313804130661413,
         0.13113419978116694,
         0.11776446060571835,
         0.11647168539460381,
         0.13725756730153033,
         0.11987781910184929,
         0.11312114785719911,
         0.13219171605569482,
         0.12780544693981066,
         0.1151593213593122,
         0.13249980113361798,
         0.12843953125246768,
         0.11528909039917004,
         0.13047546801045523,
         0.13374649559557397,
         0.12407627053230161,
         0.12665219382627702,
         0.14476003534182497,
         0.1269163900392572,
         0.12373258185097873,
         0.11236660965572516,
         0.13514373767489687,
         0.14327445889479157,
         0.12435052781520488,
         0.13201397208633478,
         0.12751626507192046,
         0.1255574199291561,
         0.1271064623319583,
         0.13363304156859185,
         0.14385321240290314,
         0.12090915067147372,
         0.10604429510375027,
         0.12491332860483921,
         0.13221250854094574,
         0.129748081934429,
         0.13425628334363293,
         0.1246802783063659,
         0.11380215282058344,
         0.1373235432196691,
         0.1321269996766617,
         0.1270789841082566,
         0.12251818224241359,
         0.12260546832230945,
         0.13531924033320514,
         0.10510476701902247,
         0.12725893442572356,
         0.11566697713496646,
         0.12881374337355841,
         0.11419139942859739,
         0.13421386485176295,
         0.12873917107056734,
         0.12136242435172143,
         0.12031733208702819,
         0.1160146177435439,
         0.12574102093573963,
         0.1270065820347174,
         0.14226681616100337,
         0.11420341790234527,
         0.13720534253020986,
         0.12666690795266117,
         0.13364160824696128,
         0.12455514072676674,
         0.12454838092586513,
         0.110836685376651,
         0.12205423172700591,
         0.1317068511787364,
         0.12956281581658408,
         0.11164216272750083,
         0.13587446479012408,
         0.11953685285796975,
         0.12483591668344825,
         0.13305563983153812,
         0.11232112868908857,
         0.12234697097984397,
         0.1487545633605886,
         0.1149551093631008,
         0.12544748620341645,
         0.1189908203581708,
         0.130617092959093,
         0.11261250126411992,
         0.11602923369403766,
         0.13610723741593295,
         0.1230633519413927,
         0.13390874601547537,
         0.12385232480750283
        ],
        [
         0.2878475902602077,
         0.2617822252213955,
         0.28325289823114874,
         0.2749758554622531,
         0.2787954265251756,
         0.2665738618001342,
         0.2578923752531409,
         0.26929359789937735,
         0.27678791861981156,
         0.277433461509645,
         0.29551779981702564,
         0.267157563380897,
         0.2809411885216832,
         0.26737913470715285,
         0.25530335679650307,
         0.28222323302179575,
         0.28968834672123195,
         0.26679736357182265,
         0.2588662257418036,
         0.28812972344458104,
         0.2707527667284012,
         0.2598344000056386,
         0.28364143185317514,
         0.2816006036475301,
         0.26406449526548387,
         0.2863053347915411,
         0.2795992957428098,
         0.2620420390740037,
         0.279906502738595,
         0.28356448616832497,
         0.2763192681595683,
         0.2718930272385478,
         0.30547086279839275,
         0.2681890295818448,
         0.2810557298362255,
         0.27127638198435305,
         0.28595196940004824,
         0.3008534165099263,
         0.2873053954914212,
         0.2896640507504344,
         0.2818450391292572,
         0.28475960455834864,
         0.286103094369173,
         0.30191095154732467,
         0.30978962387889625,
         0.2838305585086346,
         0.2541802443563938,
         0.2649010317400098,
         0.29061849545687435,
         0.2764479683712125,
         0.2834508799016476,
         0.2781908422708511,
         0.26741653978824614,
         0.28715100046247244,
         0.2928915821015835,
         0.2866841576993465,
         0.27126638758927585,
         0.2633261885493994,
         0.2815661752596498,
         0.2568306582048535,
         0.2889642369002104,
         0.26914286371320484,
         0.2842899339273572,
         0.2636122301220894,
         0.2845485594123602,
         0.28081558998674155,
         0.26689060889184474,
         0.27776598036289213,
         0.26040093321353197,
         0.26607079822570084,
         0.26819617226719855,
         0.29305257368832827,
         0.26948825772851703,
         0.28525207862257956,
         0.2734332874417305,
         0.2939009014517069,
         0.2773961877450347,
         0.2768365258350968,
         0.26369080040603876,
         0.27016890067607163,
         0.2813056504353881,
         0.2791248051449656,
         0.2686966102570295,
         0.2858921816572547,
         0.28533404022455217,
         0.27458514235913756,
         0.2806394750252366,
         0.25409457460045815,
         0.2785575581714511,
         0.3009303050115705,
         0.2568252833560109,
         0.27935835607349874,
         0.276065413095057,
         0.2800402170047164,
         0.2520594475790858,
         0.2643349293619394,
         0.30831053107976913,
         0.2658882154151797,
         0.2861336098983884,
         0.27607132121920586
        ],
        [
         5.756951805204153,
         5.23564450442791,
         5.665057964622974,
         5.499517109245062,
         5.575908530503511,
         5.331477236002684,
         5.1578475050628185,
         5.385871957987547,
         5.535758372396231,
         5.5486692301929,
         5.910355996340513,
         5.343151267617941,
         5.618823770433664,
         5.347582694143057,
         5.106067135930061,
         5.644464660435915,
         5.793766934424639,
         5.335947271436453,
         5.177324514836073,
         5.762594468891621,
         5.415055334568024,
         5.196688000112772,
         5.672828637063503,
         5.632012072950602,
         5.281289905309677,
         5.726106695830822,
         5.5919859148561954,
         5.240840781480074,
         5.5981300547719,
         5.671289723366499,
         5.526385363191366,
         5.437860544770956,
         6.1094172559678555,
         5.363780591636896,
         5.62111459672451,
         5.425527639687061,
         5.719039388000965,
         6.017068330198526,
         5.7461079098284245,
         5.793281015008688,
         5.636900782585144,
         5.695192091166973,
         5.722061887383461,
         6.038219030946493,
         6.195792477577925,
         5.676611170172691,
         5.083604887127876,
         5.298020634800196,
         5.812369909137487,
         5.52895936742425,
         5.669017598032951,
         5.563816845417023,
         5.348330795764923,
         5.743020009249449,
         5.85783164203167,
         5.733683153986931,
         5.425327751785517,
         5.2665237709879875,
         5.631323505192995,
         5.136613164097071,
         5.779284738004208,
         5.382857274264097,
         5.685798678547144,
         5.272244602441788,
         5.690971188247204,
         5.616311799734831,
         5.337812177836895,
         5.555319607257843,
         5.208018664270639,
         5.321415964514017,
         5.363923445343971,
         5.861051473766565,
         5.389765154570341,
         5.7050415724515915,
         5.46866574883461,
         5.878018029034138,
         5.547923754900694,
         5.536730516701937,
         5.273816008120775,
         5.403378013521433,
         5.626113008707762,
         5.582496102899313,
         5.373932205140591,
         5.717843633145094,
         5.706680804491043,
         5.491702847182751,
         5.612789500504732,
         5.081891492009163,
         5.571151163429022,
         6.018606100231409,
         5.136505667120218,
         5.5871671214699745,
         5.52130826190114,
         5.600804340094328,
         5.0411889515817165,
         5.286698587238789,
         6.166210621595383,
         5.317764308303595,
         5.722672197967768,
         5.521426424384117
        ],
        [
         1.6622875305947944,
         1.5513033090387853,
         1.587024887980293,
         1.5801516427778264,
         1.5713144420810528,
         1.52273109013681,
         1.5327151095272826,
         1.483813559746405,
         1.6191946926351493,
         1.5939421682741783,
         1.6597280264640286,
         1.545997501809841,
         1.5386397167090577,
         1.5469442041398254,
         1.522852609179638,
         1.6209899016720697,
         1.6194702824143883,
         1.5346951528281982,
         1.526248245827682,
         1.6568498260345161,
         1.5484044633224827,
         1.504135285519219,
         1.6259871835638484,
         1.598783580975303,
         1.5176252591421386,
         1.6278808379830385,
         1.6027447161196176,
         1.5184800979872606,
         1.6153975858001968,
         1.635521296685396,
         1.5752858187154584,
         1.591553918824474,
         1.701528932118552,
         1.5932130431254772,
         1.573102551335918,
         1.4991104672820155,
         1.6440421994273557,
         1.6927755840322813,
         1.577025857842571,
         1.6248936708987132,
         1.5969737948502503,
         1.5846603417083172,
         1.594405609197097,
         1.6348274622637817,
         1.6961911000998864,
         1.555050807346652,
         1.4563261661025684,
         1.5805905769986053,
         1.626115054606812,
         1.6108884625226478,
         1.638635306245004,
         1.5791154378725192,
         1.5086560431097835,
         1.6572479791489811,
         1.625589121990312,
         1.5942332583926142,
         1.5653637420255626,
         1.5659212516746137,
         1.6451093600925448,
         1.4498604554854406,
         1.595361616848817,
         1.5209666474644765,
         1.6050778384462132,
         1.5112339291360382,
         1.6383764210447058,
         1.6046131687766203,
         1.5579629286457455,
         1.5512403558896228,
         1.5232505883376108,
         1.5858185327189214,
         1.5937790438747612,
         1.6868124742306323,
         1.5113134545973266,
         1.656534590826342,
         1.591646367461448,
         1.6348798625401273,
         1.5783227852804176,
         1.5782799556850815,
         1.4888699431223065,
         1.5623970796632072,
         1.6230024718325995,
         1.6097379651147206,
         1.4942701410889585,
         1.648480905501329,
         1.546200846319583,
         1.5801007352915715,
         1.6312917570535206,
         1.4988070502175292,
         1.5642696121822732,
         1.7248452879060694,
         1.5162790598244165,
         1.5839664529491555,
         1.5426653581264524,
         1.6162740668531002,
         1.500749821016947,
         1.523346537686272,
         1.6498923444633165,
         1.5688425793647538,
         1.6365130370117762,
         1.5738635570309316
        ]
       ],
       "encoder": "json",
       "name": "ABC_GAN_1 Metrics",
       "version": 1
      }
     },
     "metadata": {
      "scrapbook": {
       "data": true,
       "display": false,
       "name": "ABC_GAN_1 Metrics"
      }
     },
     "output_type": "display_data"
    },
    {
     "name": "stdout",
     "output_type": "stream",
     "text": [
      "MSE\n",
      "0.12548271649039286\n"
     ]
    }
   ],
   "source": [
    "ABC_GAN1_metrics=ABC_train_test2.test_generator(gen,test_data,prior_model,variance,bias,\"1\",device)\n",
    "sb.glue(\"ABC_GAN_1 Metrics\",ABC_GAN1_metrics)\n",
    "\n",
    "print(\"MSE\")\n",
    "print(mean(ABC_GAN1_metrics[0]))"
   ]
  },
  {
   "cell_type": "code",
   "execution_count": 14,
   "id": "eb22ce5c",
   "metadata": {
    "execution": {
     "iopub.execute_input": "2022-06-07T07:13:04.411128Z",
     "iopub.status.busy": "2022-06-07T07:13:04.410758Z",
     "iopub.status.idle": "2022-06-07T07:13:04.732944Z",
     "shell.execute_reply": "2022-06-07T07:13:04.733242Z"
    },
    "papermill": {
     "duration": 0.337089,
     "end_time": "2022-06-07T07:13:04.733387",
     "exception": false,
     "start_time": "2022-06-07T07:13:04.396298",
     "status": "completed"
    },
    "tags": []
   },
   "outputs": [
    {
     "data": {
      "image/png": "[encoded data removed]",
      "text/plain": [
       "<Figure size 432x288 with 1 Axes>"
      ]
     },
     "metadata": {
      "needs_background": "light"
     },
     "output_type": "display_data"
    },
    {
     "data": {
      "image/png": "[encoded data removed]",
      "text/plain": [
       "<Figure size 432x288 with 1 Axes>"
      ]
     },
     "metadata": {
      "needs_background": "light"
     },
     "output_type": "display_data"
    },
    {
     "data": {
      "image/png": "[encoded data removed]",
      "text/plain": [
       "<Figure size 432x288 with 1 Axes>"
      ]
     },
     "metadata": {
      "needs_background": "light"
     },
     "output_type": "display_data"
    },
    {
     "data": {
      "image/png": "[encoded data removed]",
      "text/plain": [
       "<Figure size 432x288 with 1 Axes>"
      ]
     },
     "metadata": {
      "needs_background": "light"
     },
     "output_type": "display_data"
    }
   ],
   "source": [
    "sanityChecks.discProbVsError(train_data,disc,device)\n",
    "sanityChecks.discProbVsError(test_data,disc,device)"
   ]
  },
  {
   "cell_type": "markdown",
   "id": "130f3a4d",
   "metadata": {
    "id": "130f3a4d",
    "papermill": {
     "duration": 0.036606,
     "end_time": "2022-06-07T07:13:04.784629",
     "exception": false,
     "start_time": "2022-06-07T07:13:04.748023",
     "status": "completed"
    },
    "tags": []
   },
   "source": [
    "# ABC - GAN Model with skip connection"
   ]
  },
  {
   "cell_type": "code",
   "execution_count": 15,
   "id": "4e43dad1",
   "metadata": {
    "execution": {
     "iopub.execute_input": "2022-06-07T07:13:04.817963Z",
     "iopub.status.busy": "2022-06-07T07:13:04.817565Z",
     "iopub.status.idle": "2022-06-07T07:13:04.819850Z",
     "shell.execute_reply": "2022-06-07T07:13:04.820102Z"
    },
    "id": "4e43dad1",
    "papermill": {
     "duration": 0.02093,
     "end_time": "2022-06-07T07:13:04.820218",
     "exception": false,
     "start_time": "2022-06-07T07:13:04.799288",
     "status": "completed"
    },
    "tags": []
   },
   "outputs": [],
   "source": [
    "#Generator\n",
    "gen3 = network.GeneratorWithSkipConnection(n_features+1).to(device)\n",
    "constraints=network.weightConstraint()\n",
    "#Discriminator \n",
    "disc3 = network.Discriminator(n_features+1).to(device)\n",
    "\n",
    "criterion = torch.nn.BCELoss()\n",
    "gen_opt = torch.optim.Adam(gen3.parameters(), lr=0.001, betas=(0.5, 0.999))\n",
    "disc_opt = torch.optim.Adam(disc3.parameters(), lr=0.001, betas=(0.5, 0.999))\n"
   ]
  },
  {
   "cell_type": "code",
   "execution_count": 16,
   "id": "26acbc37",
   "metadata": {
    "execution": {
     "iopub.execute_input": "2022-06-07T07:13:04.851398Z",
     "iopub.status.busy": "2022-06-07T07:13:04.850998Z",
     "iopub.status.idle": "2022-06-07T07:13:47.082006Z",
     "shell.execute_reply": "2022-06-07T07:13:47.082326Z"
    },
    "id": "26acbc37",
    "papermill": {
     "duration": 42.247761,
     "end_time": "2022-06-07T07:13:47.082450",
     "exception": false,
     "start_time": "2022-06-07T07:13:04.834689",
     "status": "completed"
    },
    "tags": []
   },
   "outputs": [
    {
     "data": {
      "image/png": "[encoded data removed]",
      "text/plain": [
       "<Figure size 432x288 with 1 Axes>"
      ]
     },
     "metadata": {
      "needs_background": "light"
     },
     "output_type": "display_data"
    },
    {
     "data": {
      "image/png": "[encoded data removed]",
      "text/plain": [
       "<Figure size 432x288 with 1 Axes>"
      ]
     },
     "metadata": {
      "needs_background": "light"
     },
     "output_type": "display_data"
    }
   ],
   "source": [
    "ABC_train_test2.training_GAN_skip_connection(disc3,gen3,disc_opt,gen_opt,train_data,batch_size,n_epochs,criterion,prior_model,variance,bias,device)"
   ]
  },
  {
   "cell_type": "code",
   "execution_count": 17,
   "id": "c5e0717b",
   "metadata": {
    "execution": {
     "iopub.execute_input": "2022-06-07T07:13:47.116845Z",
     "iopub.status.busy": "2022-06-07T07:13:47.116357Z",
     "iopub.status.idle": "2022-06-07T07:13:47.436818Z",
     "shell.execute_reply": "2022-06-07T07:13:47.437159Z"
    },
    "id": "c5e0717b",
    "papermill": {
     "duration": 0.339115,
     "end_time": "2022-06-07T07:13:47.437290",
     "exception": false,
     "start_time": "2022-06-07T07:13:47.098175",
     "status": "completed"
    },
    "tags": []
   },
   "outputs": [
    {
     "data": {
      "application/scrapbook.scrap.json+json": {
       "data": 0.1241595807990377,
       "encoder": "json",
       "name": "ABC-GAN Model 3 MSE",
       "version": 1
      }
     },
     "metadata": {
      "scrapbook": {
       "data": true,
       "display": false,
       "name": "ABC-GAN Model 3 MSE"
      }
     },
     "output_type": "display_data"
    },
    {
     "data": {
      "application/scrapbook.scrap.json+json": {
       "data": 0.26048701178841294,
       "encoder": "json",
       "name": "ABC-GAN Model 3 MAE",
       "version": 1
      }
     },
     "metadata": {
      "scrapbook": {
       "data": true,
       "display": false,
       "name": "ABC-GAN Model 3 MAE"
      }
     },
     "output_type": "display_data"
    },
    {
     "data": {
      "application/scrapbook.scrap.json+json": {
       "data": 5.209740235768258,
       "encoder": "json",
       "name": "ABC-GAN Model 3 Manhattan Distance",
       "version": 1
      }
     },
     "metadata": {
      "scrapbook": {
       "data": true,
       "display": false,
       "name": "ABC-GAN Model 3 Manhattan Distance"
      }
     },
     "output_type": "display_data"
    },
    {
     "data": {
      "application/scrapbook.scrap.json+json": {
       "data": 1.574385187590813,
       "encoder": "json",
       "name": "ABC-GAN Model 3 Euclidean distance",
       "version": 1
      }
     },
     "metadata": {
      "scrapbook": {
       "data": true,
       "display": false,
       "name": "ABC-GAN Model 3 Euclidean distance"
      }
     },
     "output_type": "display_data"
    },
    {
     "data": {
      "application/scrapbook.scrap.json+json": {
       "data": [
        [
         0.13551597975088553,
         0.12669496319500775,
         0.10897900405359114,
         0.1358674167221694,
         0.12590191722286911,
         0.1293066905882616,
         0.1282279394965776,
         0.12516155921278757,
         0.11377089104586499,
         0.12748800160849902,
         0.11983111407295843,
         0.14909082696967343,
         0.13088091799621887,
         0.10745784276179945,
         0.13880208324629914,
         0.12339931137221516,
         0.11669253058127675,
         0.1333359705169154,
         0.11293083784016282,
         0.12335277438120759,
         0.1340537583095352,
         0.1393373688786553,
         0.13203385114257568,
         0.1091134422997961,
         0.13296175816889258,
         0.11622782616905032,
         0.12715511520455233,
         0.12772899666698154,
         0.11207264882295905,
         0.12382432944990981,
         0.11375600256052794,
         0.11501995722312479,
         0.12825127074880985,
         0.12681471550720053,
         0.11483215172296432,
         0.1404745336768641,
         0.11853939024538565,
         0.12572685228752206,
         0.12612432951731348,
         0.11379748560998104,
         0.12449446735038379,
         0.13572333791865368,
         0.12438094343653452,
         0.11956992195019503,
         0.12380193610770807,
         0.1143235674228388,
         0.12527584775418044,
         0.12255748792391481,
         0.10216876904561208,
         0.09892201411199189,
         0.11586449997327719,
         0.13237436766250044,
         0.11651379050966422,
         0.14455354128875145,
         0.11463367760565464,
         0.11201642093220898,
         0.14432776388486537,
         0.14390515226373068,
         0.11835568704386516,
         0.11636475081331529,
         0.12324768845616689,
         0.11730124020865543,
         0.1381617133928442,
         0.13644805195323673,
         0.12715363217846248,
         0.12870426976544547,
         0.12496536710726827,
         0.11392234608755736,
         0.11989626322279605,
         0.11174936432095524,
         0.14084235993153715,
         0.11674075470616554,
         0.1209039066352752,
         0.12809379365306356,
         0.1144269988790787,
         0.11382839400036011,
         0.10390480076515615,
         0.12757439641765883,
         0.11767383499155279,
         0.12861887577434278,
         0.1297159059273302,
         0.1379117613193765,
         0.12747089142274542,
         0.11978316265397164,
         0.12616341304204154,
         0.12950122917538712,
         0.13500024754090573,
         0.12462728003342324,
         0.10491519212288872,
         0.11607012078676213,
         0.13233447329136228,
         0.15666208632880907,
         0.14189897891589368,
         0.11307164053764832,
         0.12004165316630253,
         0.1316213656960375,
         0.11780046458554456,
         0.11934494142456878,
         0.11390834846097415,
         0.12329456917652899
        ],
        [
         0.266164873726666,
         0.25770878288894894,
         0.23742988537997006,
         0.27483437303453684,
         0.262012174166739,
         0.250130413658917,
         0.2667335471138358,
         0.25023859869688747,
         0.2555626770481467,
         0.26230607088655233,
         0.2590322712436318,
         0.2841021167114377,
         0.2650966865941882,
         0.2553157890215516,
         0.26998808812350034,
         0.2686923278495669,
         0.2535193396732211,
         0.2682188730686903,
         0.24010086376219988,
         0.25944326277822255,
         0.26536222267895937,
         0.2802642522379756,
         0.2686977466568351,
         0.2459814613685012,
         0.2716102169826627,
         0.25818064119666817,
         0.27696465905755757,
         0.27398860957473514,
         0.24983421955257654,
         0.2654191112145782,
         0.24719643872231245,
         0.2509895579889417,
         0.2720839647576213,
         0.2651377459987998,
         0.25914461594074967,
         0.27032438199967146,
         0.24316510912030936,
         0.254876465536654,
         0.2538157833740115,
         0.2544001692906022,
         0.2596583465114236,
         0.26976210083812474,
         0.2623327808454633,
         0.26560186566784977,
         0.2724814569577575,
         0.24624063391238452,
         0.2643599009141326,
         0.26100226361304524,
         0.24349893536418676,
         0.24425732549279927,
         0.25612315963953736,
         0.2653804713860154,
         0.2457884529605508,
         0.27532986318692565,
         0.2521106770262122,
         0.24645555410534142,
         0.2774327779188752,
         0.27425600346177814,
         0.26113619152456524,
         0.25525416862219574,
         0.26111146453768014,
         0.2582789910957217,
         0.26869764905422927,
         0.2668840536847711,
         0.2594245897606015,
         0.2647119859233499,
         0.25330681949853895,
         0.2604065315797925,
         0.2668459443375468,
         0.25514682941138744,
         0.27053025271743536,
         0.2455275719985366,
         0.25948922913521527,
         0.2662936756387353,
         0.2490982675924897,
         0.2549654057249427,
         0.24457778688520193,
         0.2528849085792899,
         0.25184196811169385,
         0.26845646742731333,
         0.26751579772681,
         0.27969289254397156,
         0.2702288882806897,
         0.2595671547576785,
         0.2540908494964242,
         0.2740766702219844,
         0.25717336516827344,
         0.2612780721858144,
         0.2490990838035941,
         0.25706171672791245,
         0.26863532941788437,
         0.28504994194954636,
         0.2648696834221482,
         0.24912920240312814,
         0.2607002405449748,
         0.2643299391493201,
         0.2545072888955474,
         0.24633375834673643,
         0.24867110047489405,
         0.2656784920021892
        ],
        [
         5.3232974745333195,
         5.154175657778978,
         4.7485977075994015,
         5.496687460690737,
         5.24024348333478,
         5.002608273178339,
         5.334670942276716,
         5.00477197393775,
         5.1112535409629345,
         5.246121417731047,
         5.180645424872637,
         5.682042334228754,
         5.301933731883764,
         5.106315780431032,
         5.399761762470007,
         5.373846556991339,
         5.070386793464422,
         5.364377461373806,
         4.802017275243998,
         5.188865255564451,
         5.307244453579187,
         5.605285044759512,
         5.373954933136702,
         4.919629227370024,
         5.4322043396532536,
         5.163612823933363,
         5.539293181151152,
         5.479772191494703,
         4.996684391051531,
         5.308382224291563,
         4.943928774446249,
         5.019791159778833,
         5.441679295152426,
         5.302754919975996,
         5.182892318814993,
         5.406487639993429,
         4.863302182406187,
         5.09752931073308,
         5.07631566748023,
         5.088003385812044,
         5.193166930228472,
         5.395242016762495,
         5.2466556169092655,
         5.312037313356996,
         5.4496291391551495,
         4.92481267824769,
         5.287198018282652,
         5.220045272260904,
         4.869978707283735,
         4.885146509855986,
         5.122463192790747,
         5.307609427720308,
         4.915769059211016,
         5.506597263738513,
         5.042213540524244,
         4.929111082106829,
         5.548655558377504,
         5.485120069235563,
         5.222723830491304,
         5.105083372443914,
         5.222229290753603,
         5.165579821914434,
         5.373952981084585,
         5.337681073695421,
         5.18849179521203,
         5.294239718466997,
         5.066136389970779,
         5.20813063159585,
         5.3369188867509365,
         5.102936588227749,
         5.410605054348707,
         4.910551439970732,
         5.189784582704306,
         5.325873512774706,
         4.981965351849794,
         5.099308114498854,
         4.891555737704039,
         5.057698171585798,
         5.036839362233877,
         5.3691293485462666,
         5.3503159545362,
         5.593857850879431,
         5.404577765613794,
         5.19134309515357,
         5.081816989928484,
         5.481533404439688,
         5.143467303365469,
         5.225561443716288,
         4.981981676071882,
         5.1412343345582485,
         5.372706588357687,
         5.700998838990927,
         5.2973936684429646,
         4.982584048062563,
         5.214004810899496,
         5.2865987829864025,
         5.090145777910948,
         4.926675166934729,
         4.973422009497881,
         5.313569840043783
        ],
        [
         1.6463048305273575,
         1.591822623253029,
         1.4763400966822728,
         1.6484381500206151,
         1.5868328029308514,
         1.608146079112601,
         1.6014239881841261,
         1.5821602903169298,
         1.5084488128263749,
         1.5967968036572406,
         1.548102800675449,
         1.7267937165143579,
         1.6179055472815393,
         1.466000291690281,
         1.6661457514053153,
         1.5709825675176359,
         1.527694541335255,
         1.633009311160934,
         1.5028695075765082,
         1.570686311019534,
         1.6373989025862645,
         1.669355377854909,
         1.6250160069523973,
         1.4772504344206239,
         1.6307161504620757,
         1.5246496395503482,
         1.5947107274020096,
         1.598305331699682,
         1.4971482813867105,
         1.5736856703287974,
         1.5083501089636182,
         1.51670667713388,
         1.6015696722204116,
         1.5925747424042649,
         1.5154679259091188,
         1.676153535192192,
         1.5397362777137236,
         1.5857291842399954,
         1.5882337958708312,
         1.5086251065787089,
         1.5779383216741,
         1.6475638859762232,
         1.5772187130295818,
         1.5464147047295886,
         1.573543365196575,
         1.5121082462762963,
         1.5828824830301234,
         1.565614818043792,
         1.4294668170028437,
         1.406570397185949,
         1.522264759976248,
         1.6271101232707053,
         1.5265240942066012,
         1.7003149195884357,
         1.514157703844977,
         1.4967726676567086,
         1.6989865442955419,
         1.6964972871403636,
         1.5385427328733197,
         1.5255474480547322,
         1.570017123831246,
         1.5316738569855883,
         1.66229788782182,
         1.6519567303851317,
         1.594701427719073,
         1.604395647996126,
         1.5809197772642878,
         1.5094525238480165,
         1.5485235756861828,
         1.4949873867090333,
         1.6783465669017061,
         1.5280101747446941,
         1.5550170843773723,
         1.6005861029826765,
         1.5127921131409874,
         1.5088299705424737,
         1.4415602711309448,
         1.5973377627643992,
         1.5341045270225415,
         1.603863309477106,
         1.6106887093869517,
         1.6607935532110938,
         1.5966896468803535,
         1.5477930265637692,
         1.5884798584939095,
         1.609355331649211,
         1.6431691790007852,
         1.578779782195245,
         1.448552326447952,
         1.5236149171412188,
         1.6268649193547833,
         1.7700965302988934,
         1.6846303981342239,
         1.5038061080980374,
         1.549462185187509,
         1.6224756743694957,
         1.5349297351054514,
         1.5449591672569782,
         1.509359787863544,
         1.5703156954990227
        ]
       ],
       "encoder": "json",
       "name": "ABC_GAN_3 Metrics",
       "version": 1
      }
     },
     "metadata": {
      "scrapbook": {
       "data": true,
       "display": false,
       "name": "ABC_GAN_3 Metrics"
      }
     },
     "output_type": "display_data"
    },
    {
     "name": "stdout",
     "output_type": "stream",
     "text": [
      "MSE\n",
      "0.1241595807990377\n"
     ]
    }
   ],
   "source": [
    "ABC_GAN3_metrics=ABC_train_test2.test_generator(gen3,test_data,prior_model,variance,bias,\"3\",device)\n",
    "sb.glue(\"ABC_GAN_3 Metrics\",ABC_GAN3_metrics)\n",
    "\n",
    "print(\"MSE\")\n",
    "print(mean(ABC_GAN3_metrics[0]))"
   ]
  },
  {
   "cell_type": "code",
   "execution_count": 18,
   "id": "c8e46b48",
   "metadata": {
    "execution": {
     "iopub.execute_input": "2022-06-07T07:13:47.473793Z",
     "iopub.status.busy": "2022-06-07T07:13:47.473422Z",
     "iopub.status.idle": "2022-06-07T07:13:47.772924Z",
     "shell.execute_reply": "2022-06-07T07:13:47.773176Z"
    },
    "id": "c8e46b48",
    "papermill": {
     "duration": 0.318928,
     "end_time": "2022-06-07T07:13:47.773298",
     "exception": false,
     "start_time": "2022-06-07T07:13:47.454370",
     "status": "completed"
    },
    "tags": []
   },
   "outputs": [
    {
     "data": {
      "image/png": "[encoded data removed]",
      "text/plain": [
       "<Figure size 432x288 with 1 Axes>"
      ]
     },
     "metadata": {
      "needs_background": "light"
     },
     "output_type": "display_data"
    },
    {
     "data": {
      "image/png": "[encoded data removed]",
      "text/plain": [
       "<Figure size 432x288 with 1 Axes>"
      ]
     },
     "metadata": {
      "needs_background": "light"
     },
     "output_type": "display_data"
    },
    {
     "data": {
      "image/png": "[encoded data removed]",
      "text/plain": [
       "<Figure size 432x288 with 1 Axes>"
      ]
     },
     "metadata": {
      "needs_background": "light"
     },
     "output_type": "display_data"
    },
    {
     "data": {
      "image/png": "[encoded data removed]",
      "text/plain": [
       "<Figure size 432x288 with 1 Axes>"
      ]
     },
     "metadata": {
      "needs_background": "light"
     },
     "output_type": "display_data"
    }
   ],
   "source": [
    "sanityChecks.discProbVsError(train_data,disc3,device)\n",
    "sanityChecks.discProbVsError(test_data,disc3,device)"
   ]
  },
  {
   "cell_type": "markdown",
   "id": "a5bd74c3",
   "metadata": {
    "id": "a5bd74c3",
    "papermill": {
     "duration": 0.019317,
     "end_time": "2022-06-07T07:13:47.812298",
     "exception": false,
     "start_time": "2022-06-07T07:13:47.792981",
     "status": "completed"
    },
    "tags": []
   },
   "source": [
    "## Skip Connection Model Analysis - ABC-GAN "
   ]
  },
  {
   "cell_type": "markdown",
   "id": "5744a8bf",
   "metadata": {
    "id": "5744a8bf",
    "papermill": {
     "duration": 0.023223,
     "end_time": "2022-06-07T07:13:47.855413",
     "exception": false,
     "start_time": "2022-06-07T07:13:47.832190",
     "status": "completed"
    },
    "tags": []
   },
   "source": [
    "### Weight Analysis \n",
    "\n",
    "Study the weights of the skip connection layer\n",
    "\n",
    "Equation of the skip connection is \n",
    "\n",
    "$output = y_{gan} * w + y_{abc} * (1-w)$"
   ]
  },
  {
   "cell_type": "code",
   "execution_count": 19,
   "id": "52c31dea",
   "metadata": {
    "execution": {
     "iopub.execute_input": "2022-06-07T07:13:47.898259Z",
     "iopub.status.busy": "2022-06-07T07:13:47.897866Z",
     "iopub.status.idle": "2022-06-07T07:13:47.901681Z",
     "shell.execute_reply": "2022-06-07T07:13:47.901382Z"
    },
    "id": "52c31dea",
    "papermill": {
     "duration": 0.025772,
     "end_time": "2022-06-07T07:13:47.901784",
     "exception": false,
     "start_time": "2022-06-07T07:13:47.876012",
     "status": "completed"
    },
    "tags": []
   },
   "outputs": [
    {
     "name": "stdout",
     "output_type": "stream",
     "text": [
      "Weight of the node at skip connection\n",
      "Parameter containing:\n",
      "tensor([[0.0931]], requires_grad=True)\n"
     ]
    },
    {
     "data": {
      "application/scrapbook.scrap.json+json": {
       "data": 0.09309180080890656,
       "encoder": "json",
       "name": "Skip Connection Weight",
       "version": 1
      }
     },
     "metadata": {
      "scrapbook": {
       "data": true,
       "display": false,
       "name": "Skip Connection Weight"
      }
     },
     "output_type": "display_data"
    }
   ],
   "source": [
    "print(\"Weight of the node at skip connection\")\n",
    "for name,param in gen3.named_parameters():\n",
    "    if(name == \"skipNode.weight\"):\n",
    "        print(param)\n",
    "        sb.glue(\"Skip Connection Weight\",param.item())"
   ]
  }
 ],
 "metadata": {
  "colab": {
   "collapsed_sections": [],
   "name": "ABC_GAN_Model-Catboost_Pre-gen.ipynb",
   "provenance": []
  },
  "interpreter": {
   "hash": "31f2aee4e71d21fbe5cf8b01ff0e069b9275f58929596ceb00d14d90e3e16cd6"
  },
  "kernelspec": {
   "display_name": "Python 3 (ipykernel)",
   "language": "python",
   "name": "python3"
  },
  "language_info": {
   "codemirror_mode": {
    "name": "ipython",
    "version": 3
   },
   "file_extension": ".py",
   "mimetype": "text/x-python",
   "name": "python",
   "nbconvert_exporter": "python",
   "pygments_lexer": "ipython3",
   "version": "3.8.11"
  },
  "papermill": {
   "default_parameters": {},
   "duration": 62.756943,
   "end_time": "2022-06-07T07:13:48.229058",
   "environment_variables": {},
   "exception": null,
   "input_path": "ABC_GAN-Catboost.ipynb",
   "output_path": "./ABC_GAN_Catboost/ABC-GAN_output_9_7.ipynb",
   "parameters": {
    "bias": 0.01,
    "variance": 0.1
   },
   "start_time": "2022-06-07T07:12:45.472115",
   "version": "2.3.3"
  }
 },
 "nbformat": 4,
 "nbformat_minor": 5
}