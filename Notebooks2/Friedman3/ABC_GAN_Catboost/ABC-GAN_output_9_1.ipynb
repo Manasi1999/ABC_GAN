{
 "cells": [
  {
   "cell_type": "markdown",
   "id": "622780e6",
   "metadata": {
    "id": "622780e6",
    "papermill": {
     "duration": 0.02551,
     "end_time": "2022-06-07T07:06:30.746355",
     "exception": false,
     "start_time": "2022-06-07T07:06:30.720845",
     "status": "completed"
    },
    "tags": []
   },
   "source": [
    "## Import Libraries "
   ]
  },
  {
   "cell_type": "code",
   "execution_count": 1,
   "id": "a62397e3",
   "metadata": {
    "execution": {
     "iopub.execute_input": "2022-06-07T07:06:30.775680Z",
     "iopub.status.busy": "2022-06-07T07:06:30.774339Z",
     "iopub.status.idle": "2022-06-07T07:06:30.780944Z",
     "shell.execute_reply": "2022-06-07T07:06:30.779202Z"
    },
    "id": "a62397e3",
    "papermill": {
     "duration": 0.025772,
     "end_time": "2022-06-07T07:06:30.781364",
     "exception": false,
     "start_time": "2022-06-07T07:06:30.755592",
     "status": "completed"
    },
    "tags": []
   },
   "outputs": [],
   "source": [
    "import warnings\n",
    "import sys\n",
    "sys.path.insert(0, '../../src')\n",
    "warnings.filterwarnings('ignore')"
   ]
  },
  {
   "cell_type": "code",
   "execution_count": 2,
   "id": "d6a4e155",
   "metadata": {
    "execution": {
     "iopub.execute_input": "2022-06-07T07:06:30.809459Z",
     "iopub.status.busy": "2022-06-07T07:06:30.808153Z",
     "iopub.status.idle": "2022-06-07T07:06:32.748175Z",
     "shell.execute_reply": "2022-06-07T07:06:32.748449Z"
    },
    "id": "d6a4e155",
    "papermill": {
     "duration": 1.958516,
     "end_time": "2022-06-07T07:06:32.748583",
     "exception": false,
     "start_time": "2022-06-07T07:06:30.790067",
     "status": "completed"
    },
    "tags": []
   },
   "outputs": [],
   "source": [
    "import ABC_train_test2\n",
    "import friedman1Dataset\n",
    "import network\n",
    "import dataset\n",
    "import sanityChecks\n",
    "import torch \n",
    "import scrapbook as sb\n",
    "from statistics import mean \n",
    "import catboost as ctb \n",
    "from sklearn.model_selection import train_test_split\n",
    "from sklearn.metrics import mean_squared_error,mean_absolute_error\n",
    "import numpy as np"
   ]
  },
  {
   "cell_type": "markdown",
   "id": "2fa5b0f7",
   "metadata": {
    "id": "2fa5b0f7",
    "papermill": {
     "duration": 0.008269,
     "end_time": "2022-06-07T07:06:32.764249",
     "exception": false,
     "start_time": "2022-06-07T07:06:32.755980",
     "status": "completed"
    },
    "tags": []
   },
   "source": [
    "## Parameters "
   ]
  },
  {
   "cell_type": "code",
   "execution_count": 3,
   "id": "783186fb",
   "metadata": {
    "execution": {
     "iopub.execute_input": "2022-06-07T07:06:32.781310Z",
     "iopub.status.busy": "2022-06-07T07:06:32.780745Z",
     "iopub.status.idle": "2022-06-07T07:06:32.782094Z",
     "shell.execute_reply": "2022-06-07T07:06:32.782351Z"
    },
    "id": "783186fb",
    "papermill": {
     "duration": 0.010822,
     "end_time": "2022-06-07T07:06:32.782485",
     "exception": false,
     "start_time": "2022-06-07T07:06:32.771663",
     "status": "completed"
    },
    "tags": [
     "parameters"
    ]
   },
   "outputs": [],
   "source": [
    "variance = 1\n",
    "bias = 1 "
   ]
  },
  {
   "cell_type": "code",
   "execution_count": 4,
   "id": "a8b51347",
   "metadata": {
    "execution": {
     "iopub.execute_input": "2022-06-07T07:06:32.798952Z",
     "iopub.status.busy": "2022-06-07T07:06:32.798570Z",
     "iopub.status.idle": "2022-06-07T07:06:32.802569Z",
     "shell.execute_reply": "2022-06-07T07:06:32.802888Z"
    },
    "papermill": {
     "duration": 0.013339,
     "end_time": "2022-06-07T07:06:32.803054",
     "exception": false,
     "start_time": "2022-06-07T07:06:32.789715",
     "status": "completed"
    },
    "tags": [
     "injected-parameters"
    ]
   },
   "outputs": [],
   "source": [
    "# Parameters\n",
    "variance = 0.1\n",
    "bias = 1\n"
   ]
  },
  {
   "cell_type": "markdown",
   "id": "391cdbfd",
   "metadata": {
    "id": "391cdbfd",
    "papermill": {
     "duration": 0.007361,
     "end_time": "2022-06-07T07:06:32.817826",
     "exception": false,
     "start_time": "2022-06-07T07:06:32.810465",
     "status": "completed"
    },
    "tags": []
   },
   "source": [
    "## Dataset \n"
   ]
  },
  {
   "cell_type": "code",
   "execution_count": 5,
   "id": "5b51f161",
   "metadata": {
    "execution": {
     "iopub.execute_input": "2022-06-07T07:06:32.838038Z",
     "iopub.status.busy": "2022-06-07T07:06:32.837650Z",
     "iopub.status.idle": "2022-06-07T07:06:32.838957Z",
     "shell.execute_reply": "2022-06-07T07:06:32.839205Z"
    },
    "id": "5b51f161",
    "papermill": {
     "duration": 0.014556,
     "end_time": "2022-06-07T07:06:32.839322",
     "exception": false,
     "start_time": "2022-06-07T07:06:32.824766",
     "status": "completed"
    },
    "tags": []
   },
   "outputs": [],
   "source": [
    "#Parameters \n",
    "n_features = 5\n",
    "n_samples= 100\n",
    "n_target = 1 "
   ]
  },
  {
   "cell_type": "code",
   "execution_count": 6,
   "id": "5d6eced4",
   "metadata": {
    "execution": {
     "iopub.execute_input": "2022-06-07T07:06:32.857284Z",
     "iopub.status.busy": "2022-06-07T07:06:32.856017Z",
     "iopub.status.idle": "2022-06-07T07:06:32.862106Z",
     "shell.execute_reply": "2022-06-07T07:06:32.862401Z"
    },
    "id": "5d6eced4",
    "papermill": {
     "duration": 0.016129,
     "end_time": "2022-06-07T07:06:32.862530",
     "exception": false,
     "start_time": "2022-06-07T07:06:32.846401",
     "status": "completed"
    },
    "tags": []
   },
   "outputs": [
    {
     "name": "stdout",
     "output_type": "stream",
     "text": [
      "         X0        X1        X2        X3        X4         Y\n",
      "0  1.497240  1.194435 -0.740136  0.215834  0.763745  0.775188\n",
      "1  1.609626 -0.576769 -1.396366  1.433783 -0.113016  1.602861\n",
      "2  0.630578 -0.090105  1.268844  1.360167 -0.334913  1.564374\n",
      "3 -0.647488 -0.756350  1.636031  0.515896  0.389899  0.441767\n",
      "4  0.599391  1.703946 -1.544492  0.451113 -0.557801  1.467279\n"
     ]
    }
   ],
   "source": [
    "X,Y = friedman1Dataset.friedman1_data(n_samples,n_features)"
   ]
  },
  {
   "cell_type": "code",
   "execution_count": 7,
   "id": "fe007438",
   "metadata": {
    "execution": {
     "iopub.execute_input": "2022-06-07T07:06:32.880591Z",
     "iopub.status.busy": "2022-06-07T07:06:32.880203Z",
     "iopub.status.idle": "2022-06-07T07:06:32.881495Z",
     "shell.execute_reply": "2022-06-07T07:06:32.881748Z"
    },
    "id": "fe007438",
    "papermill": {
     "duration": 0.011522,
     "end_time": "2022-06-07T07:06:32.881883",
     "exception": false,
     "start_time": "2022-06-07T07:06:32.870361",
     "status": "completed"
    },
    "tags": []
   },
   "outputs": [],
   "source": [
    "#Train test split for dataset \n",
    "X_train,X_test,Y_train,Y_test = train_test_split(X,Y,test_size = 0.2)\n",
    "train_data = dataset.CustomDataset(X_train,Y_train)\n",
    "test_data = dataset.CustomDataset(X_test,Y_test)\n"
   ]
  },
  {
   "cell_type": "markdown",
   "id": "a9a1af34",
   "metadata": {
    "id": "a9a1af34",
    "papermill": {
     "duration": 0.008585,
     "end_time": "2022-06-07T07:06:32.898050",
     "exception": false,
     "start_time": "2022-06-07T07:06:32.889465",
     "status": "completed"
    },
    "tags": []
   },
   "source": [
    "## Training Parameters "
   ]
  },
  {
   "cell_type": "code",
   "execution_count": 8,
   "id": "952b7fc8",
   "metadata": {
    "execution": {
     "iopub.execute_input": "2022-06-07T07:06:32.915809Z",
     "iopub.status.busy": "2022-06-07T07:06:32.915340Z",
     "iopub.status.idle": "2022-06-07T07:06:32.916462Z",
     "shell.execute_reply": "2022-06-07T07:06:32.916710Z"
    },
    "id": "952b7fc8",
    "papermill": {
     "duration": 0.011093,
     "end_time": "2022-06-07T07:06:32.916860",
     "exception": false,
     "start_time": "2022-06-07T07:06:32.905767",
     "status": "completed"
    },
    "tags": []
   },
   "outputs": [],
   "source": [
    "batch_size = 32\n",
    "n_epochs = 1000\n",
    "#Select the device \n",
    "device = torch.device('cuda' if torch.cuda.is_available() else 'cpu')"
   ]
  },
  {
   "cell_type": "markdown",
   "id": "a95e1600",
   "metadata": {
    "id": "a95e1600",
    "papermill": {
     "duration": 0.007352,
     "end_time": "2022-06-07T07:06:32.931726",
     "exception": false,
     "start_time": "2022-06-07T07:06:32.924374",
     "status": "completed"
    },
    "tags": []
   },
   "source": [
    "# ABC Pre-generator Model \n",
    "\n",
    "1. The catboost model is used as a pre-generator model for the ABC-GAN. \n",
    "2. The model is first trained on the entire dataset \n",
    "3. It generats X,Y pairs and we add some Gaussian noise with mean 0 and variance 1 to it which is then feed as input to the generator.\n"
   ]
  },
  {
   "cell_type": "code",
   "execution_count": 9,
   "id": "ff8ce7bd",
   "metadata": {
    "execution": {
     "iopub.execute_input": "2022-06-07T07:06:32.951500Z",
     "iopub.status.busy": "2022-06-07T07:06:32.951097Z",
     "iopub.status.idle": "2022-06-07T07:06:33.640505Z",
     "shell.execute_reply": "2022-06-07T07:06:33.640827Z"
    },
    "id": "ff8ce7bd",
    "papermill": {
     "duration": 0.701496,
     "end_time": "2022-06-07T07:06:33.640952",
     "exception": false,
     "start_time": "2022-06-07T07:06:32.939456",
     "status": "completed"
    },
    "tags": []
   },
   "outputs": [
    {
     "name": "stdout",
     "output_type": "stream",
     "text": [
      "Learning rate set to 0.024897\n",
      "0:\tlearn: 0.9869582\ttotal: 57ms\tremaining: 56.9s\n",
      "1:\tlearn: 0.9782874\ttotal: 57.5ms\tremaining: 28.7s\n",
      "2:\tlearn: 0.9660448\ttotal: 58.1ms\tremaining: 19.3s\n",
      "3:\tlearn: 0.9533555\ttotal: 58.6ms\tremaining: 14.6s\n",
      "4:\tlearn: 0.9435558\ttotal: 59.1ms\tremaining: 11.8s\n",
      "5:\tlearn: 0.9333822\ttotal: 59.5ms\tremaining: 9.86s\n",
      "6:\tlearn: 0.9224690\ttotal: 60ms\tremaining: 8.51s\n",
      "7:\tlearn: 0.9114796\ttotal: 60.8ms\tremaining: 7.54s\n",
      "8:\tlearn: 0.9020705\ttotal: 61.6ms\tremaining: 6.78s\n",
      "9:\tlearn: 0.8924365\ttotal: 62.9ms\tremaining: 6.23s\n",
      "10:\tlearn: 0.8818817\ttotal: 63.6ms\tremaining: 5.71s\n",
      "11:\tlearn: 0.8703924\ttotal: 64.1ms\tremaining: 5.28s\n",
      "12:\tlearn: 0.8591162\ttotal: 64.5ms\tremaining: 4.9s\n",
      "13:\tlearn: 0.8495883\ttotal: 65.1ms\tremaining: 4.58s\n",
      "14:\tlearn: 0.8422514\ttotal: 65.5ms\tremaining: 4.3s\n",
      "15:\tlearn: 0.8343499\ttotal: 66ms\tremaining: 4.06s\n",
      "16:\tlearn: 0.8255071\ttotal: 66.4ms\tremaining: 3.84s\n",
      "17:\tlearn: 0.8186412\ttotal: 66.8ms\tremaining: 3.64s\n",
      "18:\tlearn: 0.8097989\ttotal: 67.2ms\tremaining: 3.47s\n",
      "19:\tlearn: 0.8010033\ttotal: 67.6ms\tremaining: 3.31s\n",
      "20:\tlearn: 0.7910243\ttotal: 68.1ms\tremaining: 3.17s\n",
      "21:\tlearn: 0.7823345\ttotal: 68.6ms\tremaining: 3.05s\n",
      "22:\tlearn: 0.7731276\ttotal: 68.9ms\tremaining: 2.93s\n",
      "23:\tlearn: 0.7633569\ttotal: 69.4ms\tremaining: 2.82s\n",
      "24:\tlearn: 0.7561185\ttotal: 69.7ms\tremaining: 2.72s\n",
      "25:\tlearn: 0.7467699\ttotal: 70.3ms\tremaining: 2.63s\n",
      "26:\tlearn: 0.7400214\ttotal: 70.7ms\tremaining: 2.55s\n",
      "27:\tlearn: 0.7310896\ttotal: 71.4ms\tremaining: 2.48s\n",
      "28:\tlearn: 0.7223305\ttotal: 71.9ms\tremaining: 2.41s\n",
      "29:\tlearn: 0.7141003\ttotal: 72.4ms\tremaining: 2.34s\n",
      "30:\tlearn: 0.7057649\ttotal: 72.7ms\tremaining: 2.27s\n",
      "31:\tlearn: 0.6984222\ttotal: 73.3ms\tremaining: 2.22s\n",
      "32:\tlearn: 0.6912122\ttotal: 73.7ms\tremaining: 2.16s\n",
      "33:\tlearn: 0.6833496\ttotal: 74.2ms\tremaining: 2.11s\n",
      "34:\tlearn: 0.6768735\ttotal: 75.2ms\tremaining: 2.07s\n",
      "35:\tlearn: 0.6722130\ttotal: 76.5ms\tremaining: 2.05s\n",
      "36:\tlearn: 0.6659420\ttotal: 77ms\tremaining: 2s\n",
      "37:\tlearn: 0.6586811\ttotal: 77.5ms\tremaining: 1.96s\n",
      "38:\tlearn: 0.6504880\ttotal: 78ms\tremaining: 1.92s\n",
      "39:\tlearn: 0.6449876\ttotal: 78.5ms\tremaining: 1.88s\n",
      "40:\tlearn: 0.6380900\ttotal: 79ms\tremaining: 1.85s\n",
      "41:\tlearn: 0.6316284\ttotal: 79.5ms\tremaining: 1.81s\n",
      "42:\tlearn: 0.6252045\ttotal: 79.9ms\tremaining: 1.78s\n",
      "43:\tlearn: 0.6179709\ttotal: 80.4ms\tremaining: 1.75s\n",
      "44:\tlearn: 0.6114761\ttotal: 80.8ms\tremaining: 1.72s\n",
      "45:\tlearn: 0.6058850\ttotal: 81.2ms\tremaining: 1.68s\n",
      "46:\tlearn: 0.6009994\ttotal: 81.7ms\tremaining: 1.66s\n",
      "47:\tlearn: 0.5953796\ttotal: 82.1ms\tremaining: 1.63s\n",
      "48:\tlearn: 0.5899228\ttotal: 82.4ms\tremaining: 1.6s\n",
      "49:\tlearn: 0.5838734\ttotal: 82.9ms\tremaining: 1.57s\n",
      "50:\tlearn: 0.5773138\ttotal: 83.4ms\tremaining: 1.55s\n",
      "51:\tlearn: 0.5715418\ttotal: 84ms\tremaining: 1.53s\n",
      "52:\tlearn: 0.5657046\ttotal: 84.7ms\tremaining: 1.51s\n",
      "53:\tlearn: 0.5610083\ttotal: 85.2ms\tremaining: 1.49s\n",
      "54:\tlearn: 0.5545294\ttotal: 85.6ms\tremaining: 1.47s\n",
      "55:\tlearn: 0.5491330\ttotal: 86.2ms\tremaining: 1.45s\n",
      "56:\tlearn: 0.5448611\ttotal: 86.7ms\tremaining: 1.43s\n",
      "57:\tlearn: 0.5404327\ttotal: 87.3ms\tremaining: 1.42s\n",
      "58:\tlearn: 0.5350542\ttotal: 87.8ms\tremaining: 1.4s\n",
      "59:\tlearn: 0.5304540\ttotal: 88.2ms\tremaining: 1.38s\n",
      "60:\tlearn: 0.5251640\ttotal: 88.5ms\tremaining: 1.36s\n",
      "61:\tlearn: 0.5208961\ttotal: 88.9ms\tremaining: 1.34s\n",
      "62:\tlearn: 0.5152076\ttotal: 89.6ms\tremaining: 1.33s\n",
      "63:\tlearn: 0.5096670\ttotal: 90.2ms\tremaining: 1.32s\n",
      "64:\tlearn: 0.5052888\ttotal: 90.8ms\tremaining: 1.3s\n",
      "65:\tlearn: 0.5003269\ttotal: 91.4ms\tremaining: 1.29s\n",
      "66:\tlearn: 0.4948271\ttotal: 91.9ms\tremaining: 1.28s\n",
      "67:\tlearn: 0.4904699\ttotal: 92.6ms\tremaining: 1.27s\n",
      "68:\tlearn: 0.4862804\ttotal: 93.1ms\tremaining: 1.26s\n",
      "69:\tlearn: 0.4812781\ttotal: 93.7ms\tremaining: 1.24s\n",
      "70:\tlearn: 0.4762465\ttotal: 94.1ms\tremaining: 1.23s\n",
      "71:\tlearn: 0.4716178\ttotal: 94.6ms\tremaining: 1.22s\n",
      "72:\tlearn: 0.4671012\ttotal: 95.2ms\tremaining: 1.21s\n",
      "73:\tlearn: 0.4633293\ttotal: 95.6ms\tremaining: 1.2s\n",
      "74:\tlearn: 0.4598173\ttotal: 96.2ms\tremaining: 1.19s\n",
      "75:\tlearn: 0.4555279\ttotal: 96.6ms\tremaining: 1.17s\n",
      "76:\tlearn: 0.4520567\ttotal: 97ms\tremaining: 1.16s\n",
      "77:\tlearn: 0.4490512\ttotal: 97.5ms\tremaining: 1.15s\n",
      "78:\tlearn: 0.4458827\ttotal: 98ms\tremaining: 1.14s\n",
      "79:\tlearn: 0.4421940\ttotal: 98.6ms\tremaining: 1.13s\n",
      "80:\tlearn: 0.4378759\ttotal: 99ms\tremaining: 1.12s\n",
      "81:\tlearn: 0.4336274\ttotal: 99.6ms\tremaining: 1.11s\n",
      "82:\tlearn: 0.4293326\ttotal: 100ms\tremaining: 1.11s\n",
      "83:\tlearn: 0.4264025\ttotal: 101ms\tremaining: 1.1s\n",
      "84:\tlearn: 0.4222301\ttotal: 101ms\tremaining: 1.09s\n"
     ]
    },
    {
     "name": "stdout",
     "output_type": "stream",
     "text": [
      "85:\tlearn: 0.4190105\ttotal: 102ms\tremaining: 1.08s\n",
      "86:\tlearn: 0.4154163\ttotal: 103ms\tremaining: 1.08s\n",
      "87:\tlearn: 0.4114647\ttotal: 103ms\tremaining: 1.07s\n",
      "88:\tlearn: 0.4077448\ttotal: 104ms\tremaining: 1.06s\n",
      "89:\tlearn: 0.4040718\ttotal: 106ms\tremaining: 1.07s\n",
      "90:\tlearn: 0.4000722\ttotal: 106ms\tremaining: 1.06s\n",
      "91:\tlearn: 0.3966529\ttotal: 107ms\tremaining: 1.05s\n",
      "92:\tlearn: 0.3934311\ttotal: 107ms\tremaining: 1.05s\n",
      "93:\tlearn: 0.3896377\ttotal: 108ms\tremaining: 1.04s\n",
      "94:\tlearn: 0.3857343\ttotal: 109ms\tremaining: 1.03s\n",
      "95:\tlearn: 0.3821666\ttotal: 109ms\tremaining: 1.03s\n",
      "96:\tlearn: 0.3790125\ttotal: 110ms\tremaining: 1.02s\n",
      "97:\tlearn: 0.3755982\ttotal: 110ms\tremaining: 1.01s\n",
      "98:\tlearn: 0.3718795\ttotal: 111ms\tremaining: 1.01s\n",
      "99:\tlearn: 0.3686265\ttotal: 111ms\tremaining: 1s\n",
      "100:\tlearn: 0.3655612\ttotal: 112ms\tremaining: 994ms\n",
      "101:\tlearn: 0.3621362\ttotal: 112ms\tremaining: 988ms\n",
      "102:\tlearn: 0.3593825\ttotal: 113ms\tremaining: 981ms\n",
      "103:\tlearn: 0.3564915\ttotal: 113ms\tremaining: 974ms\n",
      "104:\tlearn: 0.3534211\ttotal: 113ms\tremaining: 967ms\n",
      "105:\tlearn: 0.3505488\ttotal: 114ms\tremaining: 960ms\n",
      "106:\tlearn: 0.3478335\ttotal: 114ms\tremaining: 954ms\n",
      "107:\tlearn: 0.3448626\ttotal: 115ms\tremaining: 947ms\n",
      "108:\tlearn: 0.3421196\ttotal: 115ms\tremaining: 941ms\n",
      "109:\tlearn: 0.3393062\ttotal: 116ms\tremaining: 935ms\n",
      "110:\tlearn: 0.3363804\ttotal: 116ms\tremaining: 929ms\n",
      "111:\tlearn: 0.3331374\ttotal: 117ms\tremaining: 924ms\n",
      "112:\tlearn: 0.3308071\ttotal: 117ms\tremaining: 918ms\n",
      "113:\tlearn: 0.3279541\ttotal: 117ms\tremaining: 912ms\n",
      "114:\tlearn: 0.3254891\ttotal: 118ms\tremaining: 907ms\n",
      "115:\tlearn: 0.3226984\ttotal: 118ms\tremaining: 903ms\n",
      "116:\tlearn: 0.3201557\ttotal: 119ms\tremaining: 898ms\n",
      "117:\tlearn: 0.3177656\ttotal: 119ms\tremaining: 893ms\n",
      "118:\tlearn: 0.3151220\ttotal: 120ms\tremaining: 888ms\n",
      "119:\tlearn: 0.3127578\ttotal: 120ms\tremaining: 883ms\n",
      "120:\tlearn: 0.3103662\ttotal: 121ms\tremaining: 879ms\n",
      "121:\tlearn: 0.3081221\ttotal: 122ms\tremaining: 874ms\n",
      "122:\tlearn: 0.3057201\ttotal: 122ms\tremaining: 871ms\n",
      "123:\tlearn: 0.3032630\ttotal: 123ms\tremaining: 866ms\n",
      "124:\tlearn: 0.3009106\ttotal: 123ms\tremaining: 863ms\n",
      "125:\tlearn: 0.2988647\ttotal: 124ms\tremaining: 861ms\n",
      "126:\tlearn: 0.2966540\ttotal: 125ms\tremaining: 856ms\n",
      "127:\tlearn: 0.2943338\ttotal: 125ms\tremaining: 852ms\n",
      "128:\tlearn: 0.2921248\ttotal: 125ms\tremaining: 847ms\n",
      "129:\tlearn: 0.2898095\ttotal: 126ms\tremaining: 843ms\n",
      "130:\tlearn: 0.2879235\ttotal: 126ms\tremaining: 839ms\n",
      "131:\tlearn: 0.2858168\ttotal: 127ms\tremaining: 836ms\n",
      "132:\tlearn: 0.2832227\ttotal: 128ms\tremaining: 832ms\n",
      "133:\tlearn: 0.2808542\ttotal: 128ms\tremaining: 827ms\n",
      "134:\tlearn: 0.2787958\ttotal: 128ms\tremaining: 823ms\n",
      "135:\tlearn: 0.2770713\ttotal: 129ms\tremaining: 819ms\n",
      "136:\tlearn: 0.2751491\ttotal: 129ms\tremaining: 814ms\n",
      "137:\tlearn: 0.2731406\ttotal: 130ms\tremaining: 810ms\n",
      "138:\tlearn: 0.2713937\ttotal: 130ms\tremaining: 807ms\n",
      "139:\tlearn: 0.2692603\ttotal: 131ms\tremaining: 803ms\n",
      "140:\tlearn: 0.2671947\ttotal: 131ms\tremaining: 800ms\n",
      "141:\tlearn: 0.2655316\ttotal: 132ms\tremaining: 796ms\n",
      "142:\tlearn: 0.2636548\ttotal: 132ms\tremaining: 793ms\n",
      "143:\tlearn: 0.2616279\ttotal: 133ms\tremaining: 788ms\n",
      "144:\tlearn: 0.2599294\ttotal: 133ms\tremaining: 785ms\n",
      "145:\tlearn: 0.2579161\ttotal: 134ms\tremaining: 781ms\n",
      "146:\tlearn: 0.2559282\ttotal: 134ms\tremaining: 778ms\n",
      "147:\tlearn: 0.2539314\ttotal: 135ms\tremaining: 775ms\n",
      "148:\tlearn: 0.2523367\ttotal: 135ms\tremaining: 772ms\n",
      "149:\tlearn: 0.2503322\ttotal: 141ms\tremaining: 801ms\n",
      "150:\tlearn: 0.2487638\ttotal: 142ms\tremaining: 798ms\n",
      "151:\tlearn: 0.2473539\ttotal: 142ms\tremaining: 795ms\n",
      "152:\tlearn: 0.2459243\ttotal: 143ms\tremaining: 791ms\n",
      "153:\tlearn: 0.2443701\ttotal: 143ms\tremaining: 787ms\n",
      "154:\tlearn: 0.2427048\ttotal: 144ms\tremaining: 784ms\n",
      "155:\tlearn: 0.2410460\ttotal: 144ms\tremaining: 780ms\n",
      "156:\tlearn: 0.2391956\ttotal: 145ms\tremaining: 776ms\n",
      "157:\tlearn: 0.2376597\ttotal: 145ms\tremaining: 773ms\n",
      "158:\tlearn: 0.2361686\ttotal: 146ms\tremaining: 770ms\n",
      "159:\tlearn: 0.2347106\ttotal: 146ms\tremaining: 766ms\n",
      "160:\tlearn: 0.2327219\ttotal: 146ms\tremaining: 762ms\n",
      "161:\tlearn: 0.2310994\ttotal: 147ms\tremaining: 759ms\n",
      "162:\tlearn: 0.2291425\ttotal: 149ms\tremaining: 763ms\n",
      "163:\tlearn: 0.2278063\ttotal: 149ms\tremaining: 761ms\n",
      "164:\tlearn: 0.2264291\ttotal: 150ms\tremaining: 758ms\n",
      "165:\tlearn: 0.2247062\ttotal: 150ms\tremaining: 755ms\n",
      "166:\tlearn: 0.2229017\ttotal: 151ms\tremaining: 753ms\n",
      "167:\tlearn: 0.2215310\ttotal: 152ms\tremaining: 751ms\n",
      "168:\tlearn: 0.2198268\ttotal: 152ms\tremaining: 749ms\n",
      "169:\tlearn: 0.2181318\ttotal: 153ms\tremaining: 747ms\n",
      "170:\tlearn: 0.2164376\ttotal: 154ms\tremaining: 744ms\n",
      "171:\tlearn: 0.2149725\ttotal: 154ms\tremaining: 742ms\n",
      "172:\tlearn: 0.2135263\ttotal: 155ms\tremaining: 740ms\n",
      "173:\tlearn: 0.2121160\ttotal: 155ms\tremaining: 737ms\n",
      "174:\tlearn: 0.2105585\ttotal: 156ms\tremaining: 734ms\n",
      "175:\tlearn: 0.2090591\ttotal: 156ms\tremaining: 731ms\n",
      "176:\tlearn: 0.2075347\ttotal: 157ms\tremaining: 728ms\n",
      "177:\tlearn: 0.2062022\ttotal: 157ms\tremaining: 725ms\n",
      "178:\tlearn: 0.2049903\ttotal: 157ms\tremaining: 722ms\n",
      "179:\tlearn: 0.2033935\ttotal: 158ms\tremaining: 719ms\n",
      "180:\tlearn: 0.2020919\ttotal: 158ms\tremaining: 716ms\n",
      "181:\tlearn: 0.2008509\ttotal: 159ms\tremaining: 713ms\n",
      "182:\tlearn: 0.1994924\ttotal: 159ms\tremaining: 711ms\n",
      "183:\tlearn: 0.1985200\ttotal: 160ms\tremaining: 708ms\n",
      "184:\tlearn: 0.1972222\ttotal: 160ms\tremaining: 705ms\n",
      "185:\tlearn: 0.1959044\ttotal: 161ms\tremaining: 703ms\n",
      "186:\tlearn: 0.1943141\ttotal: 161ms\tremaining: 700ms\n",
      "187:\tlearn: 0.1927630\ttotal: 161ms\tremaining: 697ms\n",
      "188:\tlearn: 0.1914739\ttotal: 162ms\tremaining: 695ms\n",
      "189:\tlearn: 0.1902469\ttotal: 163ms\tremaining: 693ms\n",
      "190:\tlearn: 0.1889212\ttotal: 163ms\tremaining: 691ms\n",
      "191:\tlearn: 0.1877025\ttotal: 164ms\tremaining: 689ms\n",
      "192:\tlearn: 0.1864195\ttotal: 164ms\tremaining: 686ms\n",
      "193:\tlearn: 0.1850840\ttotal: 165ms\tremaining: 684ms\n",
      "194:\tlearn: 0.1837709\ttotal: 165ms\tremaining: 681ms\n",
      "195:\tlearn: 0.1827429\ttotal: 166ms\tremaining: 679ms\n",
      "196:\tlearn: 0.1814815\ttotal: 166ms\tremaining: 678ms\n",
      "197:\tlearn: 0.1804130\ttotal: 167ms\tremaining: 676ms\n",
      "198:\tlearn: 0.1793413\ttotal: 167ms\tremaining: 674ms\n",
      "199:\tlearn: 0.1782326\ttotal: 168ms\tremaining: 673ms\n",
      "200:\tlearn: 0.1770561\ttotal: 169ms\tremaining: 670ms\n",
      "201:\tlearn: 0.1760865\ttotal: 169ms\tremaining: 668ms\n",
      "202:\tlearn: 0.1749570\ttotal: 169ms\tremaining: 665ms\n",
      "203:\tlearn: 0.1736731\ttotal: 170ms\tremaining: 662ms\n",
      "204:\tlearn: 0.1725001\ttotal: 170ms\tremaining: 660ms\n",
      "205:\tlearn: 0.1712870\ttotal: 171ms\tremaining: 658ms\n",
      "206:\tlearn: 0.1704696\ttotal: 171ms\tremaining: 656ms\n",
      "207:\tlearn: 0.1691592\ttotal: 172ms\tremaining: 653ms\n",
      "208:\tlearn: 0.1679647\ttotal: 172ms\tremaining: 651ms\n",
      "209:\tlearn: 0.1669616\ttotal: 172ms\tremaining: 649ms\n",
      "210:\tlearn: 0.1659028\ttotal: 173ms\tremaining: 646ms\n",
      "211:\tlearn: 0.1647434\ttotal: 173ms\tremaining: 644ms\n",
      "212:\tlearn: 0.1636582\ttotal: 174ms\tremaining: 641ms\n",
      "213:\tlearn: 0.1625391\ttotal: 174ms\tremaining: 639ms\n",
      "214:\tlearn: 0.1613257\ttotal: 175ms\tremaining: 638ms\n",
      "215:\tlearn: 0.1599698\ttotal: 175ms\tremaining: 635ms\n",
      "216:\tlearn: 0.1589617\ttotal: 176ms\tremaining: 633ms\n",
      "217:\tlearn: 0.1579808\ttotal: 176ms\tremaining: 632ms\n",
      "218:\tlearn: 0.1571299\ttotal: 176ms\tremaining: 629ms\n",
      "219:\tlearn: 0.1562453\ttotal: 177ms\tremaining: 627ms\n",
      "220:\tlearn: 0.1552569\ttotal: 178ms\tremaining: 626ms\n",
      "221:\tlearn: 0.1543365\ttotal: 178ms\tremaining: 624ms\n",
      "222:\tlearn: 0.1532059\ttotal: 178ms\tremaining: 622ms\n",
      "223:\tlearn: 0.1521500\ttotal: 179ms\tremaining: 620ms\n",
      "224:\tlearn: 0.1512320\ttotal: 179ms\tremaining: 618ms\n",
      "225:\tlearn: 0.1502534\ttotal: 180ms\tremaining: 615ms\n",
      "226:\tlearn: 0.1493105\ttotal: 180ms\tremaining: 614ms\n",
      "227:\tlearn: 0.1481361\ttotal: 181ms\tremaining: 612ms\n",
      "228:\tlearn: 0.1470827\ttotal: 181ms\tremaining: 611ms\n",
      "229:\tlearn: 0.1460874\ttotal: 182ms\tremaining: 610ms\n",
      "230:\tlearn: 0.1451862\ttotal: 183ms\tremaining: 609ms\n",
      "231:\tlearn: 0.1443181\ttotal: 184ms\tremaining: 607ms\n",
      "232:\tlearn: 0.1432910\ttotal: 184ms\tremaining: 606ms\n",
      "233:\tlearn: 0.1426595\ttotal: 184ms\tremaining: 604ms\n",
      "234:\tlearn: 0.1417981\ttotal: 185ms\tremaining: 602ms\n"
     ]
    },
    {
     "name": "stdout",
     "output_type": "stream",
     "text": [
      "235:\tlearn: 0.1406776\ttotal: 186ms\tremaining: 601ms\n",
      "236:\tlearn: 0.1397696\ttotal: 186ms\tremaining: 600ms\n",
      "237:\tlearn: 0.1390330\ttotal: 187ms\tremaining: 598ms\n",
      "238:\tlearn: 0.1380987\ttotal: 187ms\tremaining: 596ms\n",
      "239:\tlearn: 0.1371966\ttotal: 188ms\tremaining: 594ms\n",
      "240:\tlearn: 0.1363916\ttotal: 188ms\tremaining: 593ms\n",
      "241:\tlearn: 0.1356318\ttotal: 189ms\tremaining: 591ms\n",
      "242:\tlearn: 0.1346752\ttotal: 189ms\tremaining: 589ms\n",
      "243:\tlearn: 0.1339044\ttotal: 189ms\tremaining: 587ms\n",
      "244:\tlearn: 0.1328245\ttotal: 190ms\tremaining: 585ms\n",
      "245:\tlearn: 0.1320427\ttotal: 190ms\tremaining: 583ms\n",
      "246:\tlearn: 0.1311133\ttotal: 191ms\tremaining: 581ms\n",
      "247:\tlearn: 0.1301982\ttotal: 191ms\tremaining: 579ms\n",
      "248:\tlearn: 0.1293780\ttotal: 191ms\tremaining: 578ms\n",
      "249:\tlearn: 0.1283862\ttotal: 192ms\tremaining: 576ms\n",
      "250:\tlearn: 0.1274353\ttotal: 192ms\tremaining: 574ms\n",
      "251:\tlearn: 0.1265504\ttotal: 193ms\tremaining: 572ms\n",
      "252:\tlearn: 0.1256096\ttotal: 193ms\tremaining: 571ms\n",
      "253:\tlearn: 0.1248197\ttotal: 194ms\tremaining: 569ms\n",
      "254:\tlearn: 0.1241525\ttotal: 194ms\tremaining: 568ms\n",
      "255:\tlearn: 0.1233927\ttotal: 195ms\tremaining: 566ms\n",
      "256:\tlearn: 0.1225754\ttotal: 195ms\tremaining: 565ms\n",
      "257:\tlearn: 0.1218503\ttotal: 196ms\tremaining: 563ms\n",
      "258:\tlearn: 0.1209821\ttotal: 196ms\tremaining: 561ms\n",
      "259:\tlearn: 0.1202012\ttotal: 199ms\tremaining: 566ms\n",
      "260:\tlearn: 0.1193268\ttotal: 200ms\tremaining: 565ms\n",
      "261:\tlearn: 0.1184776\ttotal: 200ms\tremaining: 564ms\n",
      "262:\tlearn: 0.1175407\ttotal: 201ms\tremaining: 562ms\n",
      "263:\tlearn: 0.1166943\ttotal: 201ms\tremaining: 561ms\n",
      "264:\tlearn: 0.1159376\ttotal: 202ms\tremaining: 559ms\n",
      "265:\tlearn: 0.1152452\ttotal: 202ms\tremaining: 558ms\n",
      "266:\tlearn: 0.1145074\ttotal: 203ms\tremaining: 557ms\n",
      "267:\tlearn: 0.1138428\ttotal: 203ms\tremaining: 555ms\n",
      "268:\tlearn: 0.1131090\ttotal: 204ms\tremaining: 553ms\n",
      "269:\tlearn: 0.1123408\ttotal: 204ms\tremaining: 552ms\n",
      "270:\tlearn: 0.1115133\ttotal: 205ms\tremaining: 551ms\n",
      "271:\tlearn: 0.1109069\ttotal: 205ms\tremaining: 549ms\n",
      "272:\tlearn: 0.1101695\ttotal: 206ms\tremaining: 548ms\n",
      "273:\tlearn: 0.1094086\ttotal: 206ms\tremaining: 546ms\n",
      "274:\tlearn: 0.1087061\ttotal: 207ms\tremaining: 545ms\n",
      "275:\tlearn: 0.1081420\ttotal: 207ms\tremaining: 544ms\n",
      "276:\tlearn: 0.1075611\ttotal: 208ms\tremaining: 542ms\n",
      "277:\tlearn: 0.1068643\ttotal: 208ms\tremaining: 540ms\n",
      "278:\tlearn: 0.1062281\ttotal: 209ms\tremaining: 539ms\n",
      "279:\tlearn: 0.1055311\ttotal: 209ms\tremaining: 538ms\n",
      "280:\tlearn: 0.1048464\ttotal: 210ms\tremaining: 537ms\n",
      "281:\tlearn: 0.1042358\ttotal: 210ms\tremaining: 535ms\n",
      "282:\tlearn: 0.1036217\ttotal: 211ms\tremaining: 534ms\n",
      "283:\tlearn: 0.1029605\ttotal: 211ms\tremaining: 533ms\n",
      "284:\tlearn: 0.1024122\ttotal: 212ms\tremaining: 532ms\n",
      "285:\tlearn: 0.1017492\ttotal: 213ms\tremaining: 531ms\n",
      "286:\tlearn: 0.1010631\ttotal: 213ms\tremaining: 530ms\n",
      "287:\tlearn: 0.1003580\ttotal: 214ms\tremaining: 529ms\n",
      "288:\tlearn: 0.0997144\ttotal: 214ms\tremaining: 527ms\n",
      "289:\tlearn: 0.0992413\ttotal: 215ms\tremaining: 526ms\n",
      "290:\tlearn: 0.0985412\ttotal: 215ms\tremaining: 524ms\n",
      "291:\tlearn: 0.0978504\ttotal: 216ms\tremaining: 523ms\n",
      "292:\tlearn: 0.0973142\ttotal: 216ms\tremaining: 522ms\n",
      "293:\tlearn: 0.0967828\ttotal: 217ms\tremaining: 522ms\n",
      "294:\tlearn: 0.0961850\ttotal: 218ms\tremaining: 520ms\n",
      "295:\tlearn: 0.0955154\ttotal: 218ms\tremaining: 519ms\n",
      "296:\tlearn: 0.0949389\ttotal: 219ms\tremaining: 517ms\n",
      "297:\tlearn: 0.0943579\ttotal: 219ms\tremaining: 516ms\n",
      "298:\tlearn: 0.0938273\ttotal: 219ms\tremaining: 515ms\n",
      "299:\tlearn: 0.0932690\ttotal: 220ms\tremaining: 513ms\n",
      "300:\tlearn: 0.0927688\ttotal: 220ms\tremaining: 512ms\n",
      "301:\tlearn: 0.0922678\ttotal: 221ms\tremaining: 511ms\n",
      "302:\tlearn: 0.0917224\ttotal: 221ms\tremaining: 509ms\n",
      "303:\tlearn: 0.0911723\ttotal: 222ms\tremaining: 508ms\n",
      "304:\tlearn: 0.0906090\ttotal: 222ms\tremaining: 507ms\n",
      "305:\tlearn: 0.0901389\ttotal: 223ms\tremaining: 505ms\n",
      "306:\tlearn: 0.0897440\ttotal: 223ms\tremaining: 504ms\n",
      "307:\tlearn: 0.0892523\ttotal: 224ms\tremaining: 503ms\n",
      "308:\tlearn: 0.0888068\ttotal: 224ms\tremaining: 501ms\n",
      "309:\tlearn: 0.0882088\ttotal: 225ms\tremaining: 500ms\n",
      "310:\tlearn: 0.0877017\ttotal: 225ms\tremaining: 499ms\n",
      "311:\tlearn: 0.0872741\ttotal: 226ms\tremaining: 499ms\n",
      "312:\tlearn: 0.0868442\ttotal: 227ms\tremaining: 499ms\n",
      "313:\tlearn: 0.0863918\ttotal: 228ms\tremaining: 499ms\n",
      "314:\tlearn: 0.0858752\ttotal: 229ms\tremaining: 498ms\n",
      "315:\tlearn: 0.0853636\ttotal: 229ms\tremaining: 497ms\n",
      "316:\tlearn: 0.0848369\ttotal: 230ms\tremaining: 495ms\n",
      "317:\tlearn: 0.0842966\ttotal: 230ms\tremaining: 494ms\n",
      "318:\tlearn: 0.0839030\ttotal: 231ms\tremaining: 493ms\n",
      "319:\tlearn: 0.0834892\ttotal: 231ms\tremaining: 492ms\n",
      "320:\tlearn: 0.0831359\ttotal: 232ms\tremaining: 490ms\n",
      "321:\tlearn: 0.0827452\ttotal: 232ms\tremaining: 489ms\n",
      "322:\tlearn: 0.0824021\ttotal: 233ms\tremaining: 488ms\n",
      "323:\tlearn: 0.0819006\ttotal: 233ms\tremaining: 486ms\n",
      "324:\tlearn: 0.0814297\ttotal: 233ms\tremaining: 485ms\n",
      "325:\tlearn: 0.0810090\ttotal: 234ms\tremaining: 484ms\n",
      "326:\tlearn: 0.0806377\ttotal: 235ms\tremaining: 483ms\n",
      "327:\tlearn: 0.0801410\ttotal: 235ms\tremaining: 481ms\n",
      "328:\tlearn: 0.0797839\ttotal: 235ms\tremaining: 480ms\n",
      "329:\tlearn: 0.0793078\ttotal: 236ms\tremaining: 479ms\n",
      "330:\tlearn: 0.0787547\ttotal: 236ms\tremaining: 477ms\n",
      "331:\tlearn: 0.0783547\ttotal: 237ms\tremaining: 476ms\n",
      "332:\tlearn: 0.0778869\ttotal: 237ms\tremaining: 475ms\n",
      "333:\tlearn: 0.0774144\ttotal: 238ms\tremaining: 474ms\n",
      "334:\tlearn: 0.0770801\ttotal: 238ms\tremaining: 473ms\n",
      "335:\tlearn: 0.0766912\ttotal: 239ms\tremaining: 471ms\n",
      "336:\tlearn: 0.0761374\ttotal: 239ms\tremaining: 470ms\n",
      "337:\tlearn: 0.0756655\ttotal: 240ms\tremaining: 469ms\n",
      "338:\tlearn: 0.0753437\ttotal: 240ms\tremaining: 468ms\n",
      "339:\tlearn: 0.0748553\ttotal: 241ms\tremaining: 467ms\n",
      "340:\tlearn: 0.0745416\ttotal: 241ms\tremaining: 466ms\n",
      "341:\tlearn: 0.0741216\ttotal: 242ms\tremaining: 466ms\n",
      "342:\tlearn: 0.0736777\ttotal: 243ms\tremaining: 466ms\n",
      "343:\tlearn: 0.0732129\ttotal: 244ms\tremaining: 465ms\n",
      "344:\tlearn: 0.0727686\ttotal: 244ms\tremaining: 464ms\n",
      "345:\tlearn: 0.0723833\ttotal: 245ms\tremaining: 462ms\n",
      "346:\tlearn: 0.0719793\ttotal: 245ms\tremaining: 461ms\n",
      "347:\tlearn: 0.0716037\ttotal: 246ms\tremaining: 460ms\n",
      "348:\tlearn: 0.0712959\ttotal: 246ms\tremaining: 459ms\n",
      "349:\tlearn: 0.0709879\ttotal: 246ms\tremaining: 458ms\n",
      "350:\tlearn: 0.0706018\ttotal: 247ms\tremaining: 457ms\n",
      "351:\tlearn: 0.0702011\ttotal: 247ms\tremaining: 455ms\n",
      "352:\tlearn: 0.0699180\ttotal: 248ms\tremaining: 454ms\n",
      "353:\tlearn: 0.0694839\ttotal: 248ms\tremaining: 453ms\n",
      "354:\tlearn: 0.0690606\ttotal: 249ms\tremaining: 452ms\n",
      "355:\tlearn: 0.0687086\ttotal: 249ms\tremaining: 451ms\n",
      "356:\tlearn: 0.0682882\ttotal: 250ms\tremaining: 450ms\n",
      "357:\tlearn: 0.0680100\ttotal: 250ms\tremaining: 448ms\n",
      "358:\tlearn: 0.0676031\ttotal: 250ms\tremaining: 447ms\n",
      "359:\tlearn: 0.0673439\ttotal: 251ms\tremaining: 446ms\n",
      "360:\tlearn: 0.0669956\ttotal: 251ms\tremaining: 445ms\n",
      "361:\tlearn: 0.0667616\ttotal: 252ms\tremaining: 444ms\n",
      "362:\tlearn: 0.0664302\ttotal: 252ms\tremaining: 443ms\n",
      "363:\tlearn: 0.0660451\ttotal: 253ms\tremaining: 442ms\n",
      "364:\tlearn: 0.0657999\ttotal: 253ms\tremaining: 441ms\n",
      "365:\tlearn: 0.0655588\ttotal: 254ms\tremaining: 440ms\n",
      "366:\tlearn: 0.0651822\ttotal: 254ms\tremaining: 438ms\n",
      "367:\tlearn: 0.0648649\ttotal: 255ms\tremaining: 437ms\n",
      "368:\tlearn: 0.0646412\ttotal: 255ms\tremaining: 436ms\n",
      "369:\tlearn: 0.0642711\ttotal: 256ms\tremaining: 435ms\n",
      "370:\tlearn: 0.0638808\ttotal: 260ms\tremaining: 441ms\n",
      "371:\tlearn: 0.0635868\ttotal: 260ms\tremaining: 440ms\n",
      "372:\tlearn: 0.0632471\ttotal: 261ms\tremaining: 439ms\n",
      "373:\tlearn: 0.0628402\ttotal: 262ms\tremaining: 438ms\n",
      "374:\tlearn: 0.0624937\ttotal: 262ms\tremaining: 437ms\n",
      "375:\tlearn: 0.0621673\ttotal: 263ms\tremaining: 436ms\n",
      "376:\tlearn: 0.0617835\ttotal: 263ms\tremaining: 435ms\n",
      "377:\tlearn: 0.0614519\ttotal: 264ms\tremaining: 434ms\n",
      "378:\tlearn: 0.0610676\ttotal: 264ms\tremaining: 433ms\n",
      "379:\tlearn: 0.0607106\ttotal: 265ms\tremaining: 432ms\n",
      "380:\tlearn: 0.0603440\ttotal: 265ms\tremaining: 431ms\n",
      "381:\tlearn: 0.0600420\ttotal: 266ms\tremaining: 430ms\n",
      "382:\tlearn: 0.0596845\ttotal: 266ms\tremaining: 429ms\n",
      "383:\tlearn: 0.0593354\ttotal: 267ms\tremaining: 428ms\n",
      "384:\tlearn: 0.0589965\ttotal: 267ms\tremaining: 427ms\n",
      "385:\tlearn: 0.0586478\ttotal: 268ms\tremaining: 426ms\n",
      "386:\tlearn: 0.0583053\ttotal: 268ms\tremaining: 425ms\n",
      "387:\tlearn: 0.0580216\ttotal: 269ms\tremaining: 424ms\n",
      "388:\tlearn: 0.0576860\ttotal: 269ms\tremaining: 423ms\n",
      "389:\tlearn: 0.0573144\ttotal: 270ms\tremaining: 422ms\n",
      "390:\tlearn: 0.0570123\ttotal: 270ms\tremaining: 420ms\n",
      "391:\tlearn: 0.0566805\ttotal: 270ms\tremaining: 420ms\n",
      "392:\tlearn: 0.0564217\ttotal: 271ms\tremaining: 418ms\n",
      "393:\tlearn: 0.0561007\ttotal: 272ms\tremaining: 418ms\n",
      "394:\tlearn: 0.0558492\ttotal: 272ms\tremaining: 417ms\n",
      "395:\tlearn: 0.0556098\ttotal: 273ms\tremaining: 417ms\n",
      "396:\tlearn: 0.0553429\ttotal: 274ms\tremaining: 416ms\n",
      "397:\tlearn: 0.0550934\ttotal: 275ms\tremaining: 416ms\n",
      "398:\tlearn: 0.0548356\ttotal: 275ms\tremaining: 414ms\n",
      "399:\tlearn: 0.0545845\ttotal: 276ms\tremaining: 413ms\n",
      "400:\tlearn: 0.0543418\ttotal: 276ms\tremaining: 412ms\n",
      "401:\tlearn: 0.0542062\ttotal: 276ms\tremaining: 411ms\n",
      "402:\tlearn: 0.0540728\ttotal: 277ms\tremaining: 410ms\n",
      "403:\tlearn: 0.0538271\ttotal: 277ms\tremaining: 409ms\n",
      "404:\tlearn: 0.0537066\ttotal: 278ms\tremaining: 408ms\n",
      "405:\tlearn: 0.0534737\ttotal: 278ms\tremaining: 407ms\n",
      "406:\tlearn: 0.0532203\ttotal: 279ms\tremaining: 406ms\n",
      "407:\tlearn: 0.0531034\ttotal: 279ms\tremaining: 405ms\n",
      "408:\tlearn: 0.0528770\ttotal: 279ms\tremaining: 404ms\n",
      "409:\tlearn: 0.0527544\ttotal: 280ms\tremaining: 403ms\n",
      "410:\tlearn: 0.0525195\ttotal: 280ms\tremaining: 402ms\n",
      "411:\tlearn: 0.0524074\ttotal: 281ms\tremaining: 401ms\n",
      "412:\tlearn: 0.0521736\ttotal: 281ms\tremaining: 399ms\n",
      "413:\tlearn: 0.0520563\ttotal: 282ms\tremaining: 398ms\n",
      "414:\tlearn: 0.0519247\ttotal: 282ms\tremaining: 397ms\n",
      "415:\tlearn: 0.0518174\ttotal: 282ms\tremaining: 396ms\n",
      "416:\tlearn: 0.0516883\ttotal: 283ms\tremaining: 395ms\n",
      "417:\tlearn: 0.0514624\ttotal: 283ms\tremaining: 394ms\n"
     ]
    },
    {
     "name": "stdout",
     "output_type": "stream",
     "text": [
      "418:\tlearn: 0.0513582\ttotal: 284ms\tremaining: 393ms\n",
      "419:\tlearn: 0.0511541\ttotal: 285ms\tremaining: 393ms\n",
      "420:\tlearn: 0.0510521\ttotal: 285ms\tremaining: 392ms\n",
      "421:\tlearn: 0.0507952\ttotal: 286ms\tremaining: 392ms\n",
      "422:\tlearn: 0.0506710\ttotal: 287ms\tremaining: 391ms\n",
      "423:\tlearn: 0.0505714\ttotal: 287ms\tremaining: 390ms\n",
      "424:\tlearn: 0.0504733\ttotal: 288ms\tremaining: 389ms\n",
      "425:\tlearn: 0.0502212\ttotal: 288ms\tremaining: 388ms\n",
      "426:\tlearn: 0.0501007\ttotal: 289ms\tremaining: 387ms\n",
      "427:\tlearn: 0.0499044\ttotal: 289ms\tremaining: 387ms\n",
      "428:\tlearn: 0.0498092\ttotal: 290ms\tremaining: 386ms\n",
      "429:\tlearn: 0.0497154\ttotal: 290ms\tremaining: 385ms\n",
      "430:\tlearn: 0.0494720\ttotal: 291ms\tremaining: 384ms\n",
      "431:\tlearn: 0.0493556\ttotal: 291ms\tremaining: 383ms\n",
      "432:\tlearn: 0.0491660\ttotal: 292ms\tremaining: 382ms\n",
      "433:\tlearn: 0.0489686\ttotal: 292ms\tremaining: 381ms\n",
      "434:\tlearn: 0.0488782\ttotal: 293ms\tremaining: 380ms\n",
      "435:\tlearn: 0.0486409\ttotal: 293ms\tremaining: 379ms\n",
      "436:\tlearn: 0.0484568\ttotal: 294ms\tremaining: 378ms\n",
      "437:\tlearn: 0.0483686\ttotal: 294ms\tremaining: 377ms\n",
      "438:\tlearn: 0.0482817\ttotal: 295ms\tremaining: 376ms\n",
      "439:\tlearn: 0.0480508\ttotal: 295ms\tremaining: 375ms\n",
      "440:\tlearn: 0.0478746\ttotal: 295ms\tremaining: 374ms\n",
      "441:\tlearn: 0.0477897\ttotal: 296ms\tremaining: 374ms\n",
      "442:\tlearn: 0.0476066\ttotal: 296ms\tremaining: 373ms\n",
      "443:\tlearn: 0.0474987\ttotal: 297ms\tremaining: 372ms\n",
      "444:\tlearn: 0.0474162\ttotal: 297ms\tremaining: 371ms\n",
      "445:\tlearn: 0.0471807\ttotal: 298ms\tremaining: 370ms\n",
      "446:\tlearn: 0.0470756\ttotal: 298ms\tremaining: 369ms\n",
      "447:\tlearn: 0.0469098\ttotal: 299ms\tremaining: 368ms\n",
      "448:\tlearn: 0.0468297\ttotal: 299ms\tremaining: 367ms\n",
      "449:\tlearn: 0.0467509\ttotal: 300ms\tremaining: 366ms\n",
      "450:\tlearn: 0.0464862\ttotal: 300ms\tremaining: 365ms\n",
      "451:\tlearn: 0.0462868\ttotal: 300ms\tremaining: 364ms\n",
      "452:\tlearn: 0.0462102\ttotal: 301ms\tremaining: 363ms\n",
      "453:\tlearn: 0.0461096\ttotal: 301ms\tremaining: 362ms\n",
      "454:\tlearn: 0.0459175\ttotal: 302ms\tremaining: 361ms\n",
      "455:\tlearn: 0.0458430\ttotal: 302ms\tremaining: 361ms\n",
      "456:\tlearn: 0.0457449\ttotal: 303ms\tremaining: 360ms\n",
      "457:\tlearn: 0.0455943\ttotal: 304ms\tremaining: 359ms\n",
      "458:\tlearn: 0.0454158\ttotal: 304ms\tremaining: 359ms\n",
      "459:\tlearn: 0.0452999\ttotal: 305ms\tremaining: 358ms\n",
      "460:\tlearn: 0.0451860\ttotal: 305ms\tremaining: 357ms\n",
      "461:\tlearn: 0.0451154\ttotal: 306ms\tremaining: 356ms\n",
      "462:\tlearn: 0.0450040\ttotal: 306ms\tremaining: 355ms\n",
      "463:\tlearn: 0.0447797\ttotal: 306ms\tremaining: 354ms\n",
      "464:\tlearn: 0.0446319\ttotal: 307ms\tremaining: 353ms\n",
      "465:\tlearn: 0.0445638\ttotal: 307ms\tremaining: 352ms\n",
      "466:\tlearn: 0.0444995\ttotal: 308ms\tremaining: 351ms\n",
      "467:\tlearn: 0.0444485\ttotal: 308ms\tremaining: 351ms\n",
      "468:\tlearn: 0.0443856\ttotal: 309ms\tremaining: 350ms\n",
      "469:\tlearn: 0.0442579\ttotal: 309ms\tremaining: 349ms\n",
      "470:\tlearn: 0.0441452\ttotal: 310ms\tremaining: 348ms\n",
      "471:\tlearn: 0.0439299\ttotal: 310ms\tremaining: 347ms\n",
      "472:\tlearn: 0.0437528\ttotal: 311ms\tremaining: 346ms\n",
      "473:\tlearn: 0.0436587\ttotal: 311ms\tremaining: 346ms\n",
      "474:\tlearn: 0.0435990\ttotal: 313ms\tremaining: 346ms\n",
      "475:\tlearn: 0.0435077\ttotal: 313ms\tremaining: 345ms\n",
      "476:\tlearn: 0.0434183\ttotal: 314ms\tremaining: 344ms\n",
      "477:\tlearn: 0.0432618\ttotal: 314ms\tremaining: 343ms\n",
      "478:\tlearn: 0.0432128\ttotal: 314ms\tremaining: 342ms\n",
      "479:\tlearn: 0.0431203\ttotal: 315ms\tremaining: 341ms\n",
      "480:\tlearn: 0.0429565\ttotal: 315ms\tremaining: 340ms\n",
      "481:\tlearn: 0.0428722\ttotal: 316ms\tremaining: 339ms\n",
      "482:\tlearn: 0.0428189\ttotal: 316ms\tremaining: 338ms\n",
      "483:\tlearn: 0.0427316\ttotal: 317ms\tremaining: 337ms\n",
      "484:\tlearn: 0.0425856\ttotal: 317ms\tremaining: 336ms\n",
      "485:\tlearn: 0.0425328\ttotal: 317ms\tremaining: 336ms\n",
      "486:\tlearn: 0.0424817\ttotal: 318ms\tremaining: 335ms\n",
      "487:\tlearn: 0.0423461\ttotal: 318ms\tremaining: 334ms\n",
      "488:\tlearn: 0.0421128\ttotal: 318ms\tremaining: 333ms\n",
      "489:\tlearn: 0.0420684\ttotal: 319ms\tremaining: 332ms\n",
      "490:\tlearn: 0.0418398\ttotal: 319ms\tremaining: 331ms\n",
      "491:\tlearn: 0.0416908\ttotal: 319ms\tremaining: 330ms\n",
      "492:\tlearn: 0.0414872\ttotal: 320ms\tremaining: 329ms\n",
      "493:\tlearn: 0.0412651\ttotal: 321ms\tremaining: 329ms\n",
      "494:\tlearn: 0.0410462\ttotal: 321ms\tremaining: 328ms\n",
      "495:\tlearn: 0.0408461\ttotal: 322ms\tremaining: 327ms\n",
      "496:\tlearn: 0.0405539\ttotal: 322ms\tremaining: 326ms\n",
      "497:\tlearn: 0.0403717\ttotal: 323ms\tremaining: 326ms\n",
      "498:\tlearn: 0.0402225\ttotal: 324ms\tremaining: 325ms\n",
      "499:\tlearn: 0.0400581\ttotal: 324ms\tremaining: 324ms\n",
      "500:\tlearn: 0.0399205\ttotal: 325ms\tremaining: 323ms\n",
      "501:\tlearn: 0.0397814\ttotal: 325ms\tremaining: 322ms\n",
      "502:\tlearn: 0.0397346\ttotal: 325ms\tremaining: 321ms\n",
      "503:\tlearn: 0.0396394\ttotal: 326ms\tremaining: 320ms\n",
      "504:\tlearn: 0.0393602\ttotal: 326ms\tremaining: 320ms\n",
      "505:\tlearn: 0.0392641\ttotal: 327ms\tremaining: 319ms\n",
      "506:\tlearn: 0.0391780\ttotal: 327ms\tremaining: 318ms\n",
      "507:\tlearn: 0.0390852\ttotal: 328ms\tremaining: 317ms\n",
      "508:\tlearn: 0.0389950\ttotal: 328ms\tremaining: 317ms\n",
      "509:\tlearn: 0.0387240\ttotal: 329ms\tremaining: 316ms\n",
      "510:\tlearn: 0.0386334\ttotal: 329ms\tremaining: 315ms\n",
      "511:\tlearn: 0.0385503\ttotal: 329ms\tremaining: 314ms\n",
      "512:\tlearn: 0.0384899\ttotal: 330ms\tremaining: 313ms\n",
      "513:\tlearn: 0.0382255\ttotal: 331ms\tremaining: 313ms\n",
      "514:\tlearn: 0.0381407\ttotal: 331ms\tremaining: 312ms\n",
      "515:\tlearn: 0.0380610\ttotal: 332ms\tremaining: 311ms\n",
      "516:\tlearn: 0.0380285\ttotal: 332ms\tremaining: 310ms\n",
      "517:\tlearn: 0.0379964\ttotal: 333ms\tremaining: 310ms\n",
      "518:\tlearn: 0.0379646\ttotal: 333ms\tremaining: 309ms\n",
      "519:\tlearn: 0.0379332\ttotal: 334ms\tremaining: 308ms\n",
      "520:\tlearn: 0.0379022\ttotal: 335ms\tremaining: 308ms\n",
      "521:\tlearn: 0.0376447\ttotal: 335ms\tremaining: 307ms\n",
      "522:\tlearn: 0.0376142\ttotal: 335ms\tremaining: 306ms\n",
      "523:\tlearn: 0.0375840\ttotal: 336ms\tremaining: 305ms\n",
      "524:\tlearn: 0.0375541\ttotal: 336ms\tremaining: 304ms\n",
      "525:\tlearn: 0.0375246\ttotal: 337ms\tremaining: 304ms\n",
      "526:\tlearn: 0.0374955\ttotal: 337ms\tremaining: 303ms\n",
      "527:\tlearn: 0.0373065\ttotal: 338ms\tremaining: 302ms\n",
      "528:\tlearn: 0.0371224\ttotal: 338ms\tremaining: 301ms\n",
      "529:\tlearn: 0.0369780\ttotal: 339ms\tremaining: 300ms\n",
      "530:\tlearn: 0.0367143\ttotal: 339ms\tremaining: 300ms\n",
      "531:\tlearn: 0.0365750\ttotal: 340ms\tremaining: 299ms\n",
      "532:\tlearn: 0.0363314\ttotal: 340ms\tremaining: 298ms\n",
      "533:\tlearn: 0.0362360\ttotal: 341ms\tremaining: 297ms\n",
      "534:\tlearn: 0.0361018\ttotal: 341ms\tremaining: 297ms\n",
      "535:\tlearn: 0.0359972\ttotal: 342ms\tremaining: 296ms\n",
      "536:\tlearn: 0.0359207\ttotal: 342ms\tremaining: 295ms\n",
      "537:\tlearn: 0.0357251\ttotal: 343ms\tremaining: 294ms\n",
      "538:\tlearn: 0.0355505\ttotal: 343ms\tremaining: 293ms\n",
      "539:\tlearn: 0.0353549\ttotal: 344ms\tremaining: 293ms\n",
      "540:\tlearn: 0.0351782\ttotal: 344ms\tremaining: 292ms\n",
      "541:\tlearn: 0.0350135\ttotal: 345ms\tremaining: 291ms\n",
      "542:\tlearn: 0.0349801\ttotal: 345ms\tremaining: 290ms\n",
      "543:\tlearn: 0.0348527\ttotal: 345ms\tremaining: 290ms\n",
      "544:\tlearn: 0.0346597\ttotal: 346ms\tremaining: 289ms\n",
      "545:\tlearn: 0.0344700\ttotal: 347ms\tremaining: 289ms\n",
      "546:\tlearn: 0.0342861\ttotal: 350ms\tremaining: 290ms\n",
      "547:\tlearn: 0.0340776\ttotal: 351ms\tremaining: 290ms\n",
      "548:\tlearn: 0.0338570\ttotal: 352ms\tremaining: 289ms\n",
      "549:\tlearn: 0.0338245\ttotal: 353ms\tremaining: 289ms\n",
      "550:\tlearn: 0.0336441\ttotal: 353ms\tremaining: 288ms\n",
      "551:\tlearn: 0.0334299\ttotal: 354ms\tremaining: 287ms\n",
      "552:\tlearn: 0.0333342\ttotal: 354ms\tremaining: 286ms\n",
      "553:\tlearn: 0.0332534\ttotal: 355ms\tremaining: 285ms\n",
      "554:\tlearn: 0.0331373\ttotal: 355ms\tremaining: 285ms\n",
      "555:\tlearn: 0.0330242\ttotal: 356ms\tremaining: 284ms\n",
      "556:\tlearn: 0.0329088\ttotal: 356ms\tremaining: 283ms\n",
      "557:\tlearn: 0.0327384\ttotal: 356ms\tremaining: 282ms\n",
      "558:\tlearn: 0.0326306\ttotal: 357ms\tremaining: 282ms\n",
      "559:\tlearn: 0.0325641\ttotal: 357ms\tremaining: 281ms\n",
      "560:\tlearn: 0.0324717\ttotal: 358ms\tremaining: 280ms\n",
      "561:\tlearn: 0.0323074\ttotal: 358ms\tremaining: 279ms\n",
      "562:\tlearn: 0.0322244\ttotal: 359ms\tremaining: 279ms\n",
      "563:\tlearn: 0.0321857\ttotal: 360ms\tremaining: 278ms\n",
      "564:\tlearn: 0.0321218\ttotal: 360ms\tremaining: 277ms\n",
      "565:\tlearn: 0.0319933\ttotal: 360ms\tremaining: 276ms\n",
      "566:\tlearn: 0.0318014\ttotal: 361ms\tremaining: 275ms\n",
      "567:\tlearn: 0.0316350\ttotal: 361ms\tremaining: 275ms\n",
      "568:\tlearn: 0.0314720\ttotal: 362ms\tremaining: 274ms\n",
      "569:\tlearn: 0.0313123\ttotal: 362ms\tremaining: 273ms\n",
      "570:\tlearn: 0.0311559\ttotal: 363ms\tremaining: 273ms\n",
      "571:\tlearn: 0.0310026\ttotal: 363ms\tremaining: 272ms\n",
      "572:\tlearn: 0.0308551\ttotal: 364ms\tremaining: 271ms\n",
      "573:\tlearn: 0.0307233\ttotal: 365ms\tremaining: 271ms\n",
      "574:\tlearn: 0.0305795\ttotal: 365ms\tremaining: 270ms\n",
      "575:\tlearn: 0.0304505\ttotal: 366ms\tremaining: 269ms\n",
      "576:\tlearn: 0.0303104\ttotal: 366ms\tremaining: 268ms\n",
      "577:\tlearn: 0.0301842\ttotal: 367ms\tremaining: 268ms\n",
      "578:\tlearn: 0.0300476\ttotal: 367ms\tremaining: 267ms\n"
     ]
    },
    {
     "name": "stdout",
     "output_type": "stream",
     "text": [
      "579:\tlearn: 0.0299152\ttotal: 368ms\tremaining: 266ms\n",
      "580:\tlearn: 0.0297817\ttotal: 368ms\tremaining: 266ms\n",
      "581:\tlearn: 0.0296462\ttotal: 369ms\tremaining: 265ms\n",
      "582:\tlearn: 0.0295152\ttotal: 369ms\tremaining: 264ms\n",
      "583:\tlearn: 0.0293871\ttotal: 370ms\tremaining: 264ms\n",
      "584:\tlearn: 0.0292546\ttotal: 370ms\tremaining: 263ms\n",
      "585:\tlearn: 0.0291302\ttotal: 371ms\tremaining: 262ms\n",
      "586:\tlearn: 0.0289607\ttotal: 371ms\tremaining: 261ms\n",
      "587:\tlearn: 0.0288208\ttotal: 372ms\tremaining: 261ms\n",
      "588:\tlearn: 0.0286847\ttotal: 373ms\tremaining: 260ms\n",
      "589:\tlearn: 0.0285205\ttotal: 373ms\tremaining: 259ms\n",
      "590:\tlearn: 0.0283880\ttotal: 373ms\tremaining: 258ms\n",
      "591:\tlearn: 0.0282642\ttotal: 374ms\tremaining: 258ms\n",
      "592:\tlearn: 0.0281116\ttotal: 374ms\tremaining: 257ms\n",
      "593:\tlearn: 0.0279911\ttotal: 375ms\tremaining: 256ms\n",
      "594:\tlearn: 0.0278642\ttotal: 375ms\tremaining: 255ms\n",
      "595:\tlearn: 0.0277541\ttotal: 376ms\tremaining: 255ms\n",
      "596:\tlearn: 0.0276060\ttotal: 376ms\tremaining: 254ms\n",
      "597:\tlearn: 0.0274987\ttotal: 384ms\tremaining: 258ms\n",
      "598:\tlearn: 0.0273823\ttotal: 385ms\tremaining: 258ms\n",
      "599:\tlearn: 0.0272794\ttotal: 385ms\tremaining: 257ms\n",
      "600:\tlearn: 0.0270806\ttotal: 386ms\tremaining: 256ms\n",
      "601:\tlearn: 0.0269711\ttotal: 387ms\tremaining: 256ms\n",
      "602:\tlearn: 0.0267773\ttotal: 387ms\tremaining: 255ms\n",
      "603:\tlearn: 0.0266711\ttotal: 387ms\tremaining: 254ms\n",
      "604:\tlearn: 0.0265183\ttotal: 388ms\tremaining: 253ms\n",
      "605:\tlearn: 0.0264231\ttotal: 388ms\tremaining: 252ms\n",
      "606:\tlearn: 0.0263133\ttotal: 389ms\tremaining: 252ms\n",
      "607:\tlearn: 0.0262120\ttotal: 389ms\tremaining: 251ms\n",
      "608:\tlearn: 0.0261108\ttotal: 390ms\tremaining: 250ms\n",
      "609:\tlearn: 0.0259736\ttotal: 390ms\tremaining: 249ms\n",
      "610:\tlearn: 0.0258844\ttotal: 391ms\tremaining: 249ms\n",
      "611:\tlearn: 0.0257777\ttotal: 391ms\tremaining: 248ms\n",
      "612:\tlearn: 0.0256830\ttotal: 392ms\tremaining: 247ms\n",
      "613:\tlearn: 0.0255783\ttotal: 392ms\tremaining: 247ms\n",
      "614:\tlearn: 0.0254353\ttotal: 393ms\tremaining: 246ms\n",
      "615:\tlearn: 0.0253429\ttotal: 393ms\tremaining: 245ms\n",
      "616:\tlearn: 0.0252593\ttotal: 394ms\tremaining: 245ms\n",
      "617:\tlearn: 0.0251575\ttotal: 395ms\tremaining: 244ms\n",
      "618:\tlearn: 0.0250844\ttotal: 396ms\tremaining: 244ms\n",
      "619:\tlearn: 0.0249436\ttotal: 396ms\tremaining: 243ms\n",
      "620:\tlearn: 0.0248447\ttotal: 397ms\tremaining: 242ms\n",
      "621:\tlearn: 0.0247178\ttotal: 397ms\tremaining: 241ms\n",
      "622:\tlearn: 0.0246303\ttotal: 398ms\tremaining: 241ms\n",
      "623:\tlearn: 0.0245446\ttotal: 398ms\tremaining: 240ms\n",
      "624:\tlearn: 0.0244322\ttotal: 399ms\tremaining: 239ms\n",
      "625:\tlearn: 0.0243222\ttotal: 399ms\tremaining: 239ms\n",
      "626:\tlearn: 0.0242254\ttotal: 400ms\tremaining: 238ms\n",
      "627:\tlearn: 0.0241302\ttotal: 401ms\tremaining: 237ms\n",
      "628:\tlearn: 0.0240365\ttotal: 401ms\tremaining: 237ms\n",
      "629:\tlearn: 0.0239444\ttotal: 402ms\tremaining: 236ms\n",
      "630:\tlearn: 0.0238501\ttotal: 402ms\tremaining: 235ms\n",
      "631:\tlearn: 0.0237599\ttotal: 403ms\tremaining: 234ms\n",
      "632:\tlearn: 0.0236711\ttotal: 403ms\tremaining: 234ms\n",
      "633:\tlearn: 0.0235837\ttotal: 404ms\tremaining: 233ms\n",
      "634:\tlearn: 0.0234977\ttotal: 404ms\tremaining: 232ms\n",
      "635:\tlearn: 0.0234014\ttotal: 405ms\tremaining: 232ms\n",
      "636:\tlearn: 0.0233003\ttotal: 406ms\tremaining: 231ms\n",
      "637:\tlearn: 0.0232015\ttotal: 407ms\tremaining: 231ms\n",
      "638:\tlearn: 0.0231116\ttotal: 407ms\tremaining: 230ms\n",
      "639:\tlearn: 0.0230151\ttotal: 408ms\tremaining: 229ms\n",
      "640:\tlearn: 0.0229207\ttotal: 409ms\tremaining: 229ms\n",
      "641:\tlearn: 0.0228285\ttotal: 409ms\tremaining: 228ms\n",
      "642:\tlearn: 0.0227403\ttotal: 410ms\tremaining: 227ms\n",
      "643:\tlearn: 0.0226396\ttotal: 410ms\tremaining: 227ms\n",
      "644:\tlearn: 0.0225499\ttotal: 411ms\tremaining: 226ms\n",
      "645:\tlearn: 0.0224384\ttotal: 411ms\tremaining: 225ms\n",
      "646:\tlearn: 0.0223510\ttotal: 412ms\tremaining: 225ms\n",
      "647:\tlearn: 0.0222482\ttotal: 412ms\tremaining: 224ms\n",
      "648:\tlearn: 0.0221700\ttotal: 412ms\tremaining: 223ms\n",
      "649:\tlearn: 0.0220629\ttotal: 413ms\tremaining: 222ms\n",
      "650:\tlearn: 0.0219932\ttotal: 413ms\tremaining: 222ms\n",
      "651:\tlearn: 0.0218944\ttotal: 414ms\tremaining: 221ms\n",
      "652:\tlearn: 0.0218119\ttotal: 414ms\tremaining: 220ms\n",
      "653:\tlearn: 0.0217423\ttotal: 415ms\tremaining: 220ms\n",
      "654:\tlearn: 0.0216697\ttotal: 415ms\tremaining: 219ms\n",
      "655:\tlearn: 0.0215894\ttotal: 416ms\tremaining: 218ms\n",
      "656:\tlearn: 0.0215106\ttotal: 416ms\tremaining: 217ms\n",
      "657:\tlearn: 0.0214356\ttotal: 417ms\tremaining: 217ms\n",
      "658:\tlearn: 0.0213790\ttotal: 417ms\tremaining: 216ms\n",
      "659:\tlearn: 0.0212993\ttotal: 418ms\tremaining: 215ms\n",
      "660:\tlearn: 0.0212328\ttotal: 418ms\tremaining: 215ms\n",
      "661:\tlearn: 0.0211668\ttotal: 419ms\tremaining: 214ms\n",
      "662:\tlearn: 0.0210921\ttotal: 419ms\tremaining: 213ms\n",
      "663:\tlearn: 0.0210200\ttotal: 420ms\tremaining: 212ms\n",
      "664:\tlearn: 0.0209438\ttotal: 420ms\tremaining: 212ms\n",
      "665:\tlearn: 0.0208722\ttotal: 421ms\tremaining: 211ms\n",
      "666:\tlearn: 0.0208078\ttotal: 421ms\tremaining: 210ms\n",
      "667:\tlearn: 0.0207443\ttotal: 421ms\tremaining: 209ms\n",
      "668:\tlearn: 0.0206775\ttotal: 422ms\tremaining: 209ms\n",
      "669:\tlearn: 0.0206104\ttotal: 423ms\tremaining: 208ms\n",
      "670:\tlearn: 0.0205449\ttotal: 423ms\tremaining: 208ms\n",
      "671:\tlearn: 0.0204785\ttotal: 424ms\tremaining: 207ms\n",
      "672:\tlearn: 0.0204097\ttotal: 425ms\tremaining: 206ms\n",
      "673:\tlearn: 0.0203462\ttotal: 426ms\tremaining: 206ms\n",
      "674:\tlearn: 0.0202699\ttotal: 426ms\tremaining: 205ms\n",
      "675:\tlearn: 0.0202055\ttotal: 427ms\tremaining: 205ms\n",
      "676:\tlearn: 0.0201311\ttotal: 427ms\tremaining: 204ms\n",
      "677:\tlearn: 0.0200671\ttotal: 428ms\tremaining: 203ms\n",
      "678:\tlearn: 0.0200039\ttotal: 428ms\tremaining: 202ms\n",
      "679:\tlearn: 0.0199902\ttotal: 429ms\tremaining: 202ms\n",
      "680:\tlearn: 0.0198787\ttotal: 429ms\tremaining: 201ms\n",
      "681:\tlearn: 0.0198168\ttotal: 430ms\tremaining: 200ms\n",
      "682:\tlearn: 0.0198035\ttotal: 431ms\tremaining: 200ms\n",
      "683:\tlearn: 0.0197425\ttotal: 431ms\tremaining: 199ms\n",
      "684:\tlearn: 0.0197294\ttotal: 432ms\tremaining: 198ms\n",
      "685:\tlearn: 0.0197165\ttotal: 432ms\tremaining: 198ms\n",
      "686:\tlearn: 0.0196566\ttotal: 432ms\tremaining: 197ms\n",
      "687:\tlearn: 0.0195376\ttotal: 433ms\tremaining: 196ms\n",
      "688:\tlearn: 0.0195175\ttotal: 434ms\tremaining: 196ms\n",
      "689:\tlearn: 0.0193861\ttotal: 434ms\tremaining: 195ms\n",
      "690:\tlearn: 0.0193737\ttotal: 434ms\tremaining: 194ms\n",
      "691:\tlearn: 0.0193541\ttotal: 435ms\tremaining: 194ms\n",
      "692:\tlearn: 0.0192258\ttotal: 435ms\tremaining: 193ms\n",
      "693:\tlearn: 0.0192137\ttotal: 436ms\tremaining: 192ms\n",
      "694:\tlearn: 0.0191092\ttotal: 436ms\tremaining: 192ms\n",
      "695:\tlearn: 0.0190450\ttotal: 439ms\tremaining: 192ms\n",
      "696:\tlearn: 0.0190262\ttotal: 440ms\tremaining: 191ms\n",
      "697:\tlearn: 0.0190077\ttotal: 441ms\tremaining: 191ms\n",
      "698:\tlearn: 0.0189378\ttotal: 442ms\tremaining: 190ms\n",
      "699:\tlearn: 0.0189263\ttotal: 442ms\tremaining: 190ms\n",
      "700:\tlearn: 0.0189082\ttotal: 443ms\tremaining: 189ms\n",
      "701:\tlearn: 0.0188969\ttotal: 443ms\tremaining: 188ms\n",
      "702:\tlearn: 0.0187739\ttotal: 444ms\tremaining: 188ms\n",
      "703:\tlearn: 0.0186964\ttotal: 444ms\tremaining: 187ms\n",
      "704:\tlearn: 0.0186356\ttotal: 445ms\tremaining: 186ms\n",
      "705:\tlearn: 0.0186178\ttotal: 445ms\tremaining: 185ms\n",
      "706:\tlearn: 0.0185633\ttotal: 446ms\tremaining: 185ms\n",
      "707:\tlearn: 0.0184529\ttotal: 446ms\tremaining: 184ms\n",
      "708:\tlearn: 0.0184357\ttotal: 447ms\tremaining: 183ms\n",
      "709:\tlearn: 0.0183608\ttotal: 447ms\tremaining: 183ms\n",
      "710:\tlearn: 0.0182954\ttotal: 448ms\tremaining: 182ms\n",
      "711:\tlearn: 0.0182785\ttotal: 449ms\tremaining: 182ms\n",
      "712:\tlearn: 0.0182047\ttotal: 450ms\tremaining: 181ms\n",
      "713:\tlearn: 0.0181317\ttotal: 450ms\tremaining: 180ms\n",
      "714:\tlearn: 0.0181152\ttotal: 451ms\tremaining: 180ms\n",
      "715:\tlearn: 0.0180431\ttotal: 451ms\tremaining: 179ms\n",
      "716:\tlearn: 0.0179716\ttotal: 452ms\tremaining: 178ms\n",
      "717:\tlearn: 0.0178663\ttotal: 452ms\tremaining: 178ms\n",
      "718:\tlearn: 0.0177963\ttotal: 453ms\tremaining: 177ms\n",
      "719:\tlearn: 0.0177275\ttotal: 453ms\tremaining: 176ms\n",
      "720:\tlearn: 0.0177115\ttotal: 454ms\tremaining: 176ms\n",
      "721:\tlearn: 0.0176441\ttotal: 455ms\tremaining: 175ms\n",
      "722:\tlearn: 0.0176284\ttotal: 455ms\tremaining: 174ms\n",
      "723:\tlearn: 0.0176129\ttotal: 456ms\tremaining: 174ms\n",
      "724:\tlearn: 0.0175319\ttotal: 456ms\tremaining: 173ms\n",
      "725:\tlearn: 0.0174628\ttotal: 457ms\tremaining: 172ms\n",
      "726:\tlearn: 0.0173971\ttotal: 457ms\tremaining: 172ms\n",
      "727:\tlearn: 0.0173487\ttotal: 458ms\tremaining: 171ms\n",
      "728:\tlearn: 0.0172907\ttotal: 458ms\tremaining: 170ms\n",
      "729:\tlearn: 0.0172221\ttotal: 459ms\tremaining: 170ms\n",
      "730:\tlearn: 0.0171549\ttotal: 459ms\tremaining: 169ms\n",
      "731:\tlearn: 0.0170589\ttotal: 460ms\tremaining: 168ms\n",
      "732:\tlearn: 0.0169943\ttotal: 460ms\tremaining: 168ms\n",
      "733:\tlearn: 0.0169397\ttotal: 461ms\tremaining: 167ms\n",
      "734:\tlearn: 0.0168920\ttotal: 461ms\tremaining: 166ms\n",
      "735:\tlearn: 0.0168773\ttotal: 461ms\tremaining: 165ms\n",
      "736:\tlearn: 0.0167852\ttotal: 462ms\tremaining: 165ms\n",
      "737:\tlearn: 0.0167168\ttotal: 462ms\tremaining: 164ms\n",
      "738:\tlearn: 0.0166593\ttotal: 463ms\tremaining: 163ms\n",
      "739:\tlearn: 0.0165973\ttotal: 463ms\tremaining: 163ms\n",
      "740:\tlearn: 0.0165454\ttotal: 464ms\tremaining: 162ms\n",
      "741:\tlearn: 0.0164845\ttotal: 464ms\tremaining: 161ms\n",
      "742:\tlearn: 0.0164703\ttotal: 465ms\tremaining: 161ms\n",
      "743:\tlearn: 0.0164106\ttotal: 465ms\tremaining: 160ms\n",
      "744:\tlearn: 0.0163964\ttotal: 465ms\tremaining: 159ms\n"
     ]
    },
    {
     "name": "stdout",
     "output_type": "stream",
     "text": [
      "745:\tlearn: 0.0163414\ttotal: 466ms\tremaining: 159ms\n",
      "746:\tlearn: 0.0162797\ttotal: 467ms\tremaining: 158ms\n",
      "747:\tlearn: 0.0162213\ttotal: 467ms\tremaining: 157ms\n",
      "748:\tlearn: 0.0161611\ttotal: 468ms\tremaining: 157ms\n",
      "749:\tlearn: 0.0161473\ttotal: 469ms\tremaining: 156ms\n",
      "750:\tlearn: 0.0160909\ttotal: 469ms\tremaining: 156ms\n",
      "751:\tlearn: 0.0160775\ttotal: 470ms\tremaining: 155ms\n",
      "752:\tlearn: 0.0160198\ttotal: 470ms\tremaining: 154ms\n",
      "753:\tlearn: 0.0159774\ttotal: 471ms\tremaining: 154ms\n",
      "754:\tlearn: 0.0159641\ttotal: 471ms\tremaining: 153ms\n",
      "755:\tlearn: 0.0159176\ttotal: 472ms\tremaining: 152ms\n",
      "756:\tlearn: 0.0158546\ttotal: 472ms\tremaining: 152ms\n",
      "757:\tlearn: 0.0158417\ttotal: 473ms\tremaining: 151ms\n",
      "758:\tlearn: 0.0158289\ttotal: 473ms\tremaining: 150ms\n",
      "759:\tlearn: 0.0157810\ttotal: 474ms\tremaining: 150ms\n",
      "760:\tlearn: 0.0157251\ttotal: 474ms\tremaining: 149ms\n",
      "761:\tlearn: 0.0156746\ttotal: 475ms\tremaining: 148ms\n",
      "762:\tlearn: 0.0156262\ttotal: 475ms\tremaining: 148ms\n",
      "763:\tlearn: 0.0155793\ttotal: 476ms\tremaining: 147ms\n",
      "764:\tlearn: 0.0155163\ttotal: 476ms\tremaining: 146ms\n",
      "765:\tlearn: 0.0154617\ttotal: 477ms\tremaining: 146ms\n",
      "766:\tlearn: 0.0154081\ttotal: 477ms\tremaining: 145ms\n",
      "767:\tlearn: 0.0153512\ttotal: 478ms\tremaining: 144ms\n",
      "768:\tlearn: 0.0152921\ttotal: 479ms\tremaining: 144ms\n",
      "769:\tlearn: 0.0152390\ttotal: 479ms\tremaining: 143ms\n",
      "770:\tlearn: 0.0152268\ttotal: 479ms\tremaining: 142ms\n",
      "771:\tlearn: 0.0151742\ttotal: 480ms\tremaining: 142ms\n",
      "772:\tlearn: 0.0151623\ttotal: 481ms\tremaining: 141ms\n",
      "773:\tlearn: 0.0150963\ttotal: 481ms\tremaining: 140ms\n",
      "774:\tlearn: 0.0150844\ttotal: 481ms\tremaining: 140ms\n",
      "775:\tlearn: 0.0150197\ttotal: 482ms\tremaining: 139ms\n",
      "776:\tlearn: 0.0150082\ttotal: 482ms\tremaining: 138ms\n",
      "777:\tlearn: 0.0149649\ttotal: 483ms\tremaining: 138ms\n",
      "778:\tlearn: 0.0149194\ttotal: 483ms\tremaining: 137ms\n",
      "779:\tlearn: 0.0148720\ttotal: 484ms\tremaining: 137ms\n",
      "780:\tlearn: 0.0148297\ttotal: 484ms\tremaining: 136ms\n",
      "781:\tlearn: 0.0147851\ttotal: 485ms\tremaining: 135ms\n",
      "782:\tlearn: 0.0147390\ttotal: 485ms\tremaining: 135ms\n",
      "783:\tlearn: 0.0146953\ttotal: 486ms\tremaining: 134ms\n",
      "784:\tlearn: 0.0146478\ttotal: 486ms\tremaining: 133ms\n",
      "785:\tlearn: 0.0146108\ttotal: 487ms\tremaining: 133ms\n",
      "786:\tlearn: 0.0145681\ttotal: 487ms\tremaining: 132ms\n",
      "787:\tlearn: 0.0145172\ttotal: 488ms\tremaining: 131ms\n",
      "788:\tlearn: 0.0144881\ttotal: 488ms\tremaining: 131ms\n",
      "789:\tlearn: 0.0144467\ttotal: 488ms\tremaining: 130ms\n",
      "790:\tlearn: 0.0144053\ttotal: 489ms\tremaining: 129ms\n",
      "791:\tlearn: 0.0143630\ttotal: 489ms\tremaining: 129ms\n",
      "792:\tlearn: 0.0143233\ttotal: 490ms\tremaining: 128ms\n",
      "793:\tlearn: 0.0142823\ttotal: 491ms\tremaining: 127ms\n",
      "794:\tlearn: 0.0142670\ttotal: 491ms\tremaining: 127ms\n",
      "795:\tlearn: 0.0142519\ttotal: 492ms\tremaining: 126ms\n",
      "796:\tlearn: 0.0142028\ttotal: 492ms\tremaining: 125ms\n",
      "797:\tlearn: 0.0141628\ttotal: 493ms\tremaining: 125ms\n",
      "798:\tlearn: 0.0141282\ttotal: 493ms\tremaining: 124ms\n",
      "799:\tlearn: 0.0140794\ttotal: 494ms\tremaining: 123ms\n",
      "800:\tlearn: 0.0140313\ttotal: 494ms\tremaining: 123ms\n",
      "801:\tlearn: 0.0139837\ttotal: 495ms\tremaining: 122ms\n",
      "802:\tlearn: 0.0139372\ttotal: 495ms\tremaining: 122ms\n",
      "803:\tlearn: 0.0138894\ttotal: 496ms\tremaining: 121ms\n",
      "804:\tlearn: 0.0138440\ttotal: 497ms\tremaining: 120ms\n",
      "805:\tlearn: 0.0137971\ttotal: 497ms\tremaining: 120ms\n",
      "806:\tlearn: 0.0137666\ttotal: 498ms\tremaining: 119ms\n",
      "807:\tlearn: 0.0137248\ttotal: 498ms\tremaining: 118ms\n",
      "808:\tlearn: 0.0136719\ttotal: 499ms\tremaining: 118ms\n",
      "809:\tlearn: 0.0136268\ttotal: 499ms\tremaining: 117ms\n",
      "810:\tlearn: 0.0135750\ttotal: 500ms\tremaining: 117ms\n",
      "811:\tlearn: 0.0135312\ttotal: 500ms\tremaining: 116ms\n",
      "812:\tlearn: 0.0134806\ttotal: 501ms\tremaining: 115ms\n",
      "813:\tlearn: 0.0134381\ttotal: 501ms\tremaining: 115ms\n",
      "814:\tlearn: 0.0134012\ttotal: 502ms\tremaining: 114ms\n",
      "815:\tlearn: 0.0133598\ttotal: 502ms\tremaining: 113ms\n",
      "816:\tlearn: 0.0133242\ttotal: 503ms\tremaining: 113ms\n",
      "817:\tlearn: 0.0132655\ttotal: 503ms\tremaining: 112ms\n",
      "818:\tlearn: 0.0132255\ttotal: 504ms\tremaining: 111ms\n",
      "819:\tlearn: 0.0131688\ttotal: 504ms\tremaining: 111ms\n",
      "820:\tlearn: 0.0131300\ttotal: 505ms\tremaining: 110ms\n",
      "821:\tlearn: 0.0131148\ttotal: 505ms\tremaining: 109ms\n",
      "822:\tlearn: 0.0130770\ttotal: 506ms\tremaining: 109ms\n",
      "823:\tlearn: 0.0130426\ttotal: 506ms\tremaining: 108ms\n",
      "824:\tlearn: 0.0129925\ttotal: 506ms\tremaining: 107ms\n",
      "825:\tlearn: 0.0129441\ttotal: 507ms\tremaining: 107ms\n",
      "826:\tlearn: 0.0129073\ttotal: 507ms\tremaining: 106ms\n",
      "827:\tlearn: 0.0128592\ttotal: 508ms\tremaining: 105ms\n",
      "828:\tlearn: 0.0128233\ttotal: 508ms\tremaining: 105ms\n",
      "829:\tlearn: 0.0127766\ttotal: 509ms\tremaining: 104ms\n",
      "830:\tlearn: 0.0127411\ttotal: 509ms\tremaining: 104ms\n",
      "831:\tlearn: 0.0126955\ttotal: 509ms\tremaining: 103ms\n",
      "832:\tlearn: 0.0126605\ttotal: 510ms\tremaining: 102ms\n",
      "833:\tlearn: 0.0126164\ttotal: 510ms\tremaining: 102ms\n",
      "834:\tlearn: 0.0125721\ttotal: 511ms\tremaining: 101ms\n",
      "835:\tlearn: 0.0125378\ttotal: 511ms\tremaining: 100ms\n",
      "836:\tlearn: 0.0124951\ttotal: 512ms\tremaining: 99.7ms\n",
      "837:\tlearn: 0.0124520\ttotal: 513ms\tremaining: 99.1ms\n",
      "838:\tlearn: 0.0124182\ttotal: 513ms\tremaining: 98.4ms\n",
      "839:\tlearn: 0.0123848\ttotal: 514ms\tremaining: 97.8ms\n",
      "840:\tlearn: 0.0123328\ttotal: 514ms\tremaining: 97.2ms\n",
      "841:\tlearn: 0.0122742\ttotal: 515ms\tremaining: 96.6ms\n",
      "842:\tlearn: 0.0122166\ttotal: 515ms\tremaining: 96ms\n",
      "843:\tlearn: 0.0121482\ttotal: 516ms\tremaining: 95.3ms\n",
      "844:\tlearn: 0.0121155\ttotal: 516ms\tremaining: 94.7ms\n",
      "845:\tlearn: 0.0120717\ttotal: 517ms\tremaining: 94.1ms\n",
      "846:\tlearn: 0.0120388\ttotal: 517ms\tremaining: 93.4ms\n",
      "847:\tlearn: 0.0119722\ttotal: 518ms\tremaining: 92.8ms\n",
      "848:\tlearn: 0.0119289\ttotal: 518ms\tremaining: 92.2ms\n",
      "849:\tlearn: 0.0118741\ttotal: 519ms\tremaining: 91.5ms\n",
      "850:\tlearn: 0.0118525\ttotal: 519ms\tremaining: 90.9ms\n",
      "851:\tlearn: 0.0118311\ttotal: 519ms\tremaining: 90.2ms\n",
      "852:\tlearn: 0.0117888\ttotal: 520ms\tremaining: 89.6ms\n",
      "853:\tlearn: 0.0117561\ttotal: 520ms\tremaining: 88.9ms\n",
      "854:\tlearn: 0.0116928\ttotal: 521ms\tremaining: 88.3ms\n",
      "855:\tlearn: 0.0116427\ttotal: 521ms\tremaining: 87.7ms\n",
      "856:\tlearn: 0.0115813\ttotal: 521ms\tremaining: 87ms\n",
      "857:\tlearn: 0.0115326\ttotal: 522ms\tremaining: 86.4ms\n",
      "858:\tlearn: 0.0115240\ttotal: 522ms\tremaining: 85.7ms\n",
      "859:\tlearn: 0.0114722\ttotal: 523ms\tremaining: 85.1ms\n",
      "860:\tlearn: 0.0114637\ttotal: 523ms\tremaining: 84.5ms\n",
      "861:\tlearn: 0.0114325\ttotal: 524ms\tremaining: 83.8ms\n",
      "862:\tlearn: 0.0113993\ttotal: 524ms\tremaining: 83.2ms\n",
      "863:\tlearn: 0.0113910\ttotal: 524ms\tremaining: 82.5ms\n",
      "864:\tlearn: 0.0113584\ttotal: 525ms\tremaining: 81.9ms\n",
      "865:\tlearn: 0.0113502\ttotal: 525ms\tremaining: 81.3ms\n",
      "866:\tlearn: 0.0113422\ttotal: 526ms\tremaining: 80.7ms\n",
      "867:\tlearn: 0.0113343\ttotal: 527ms\tremaining: 80.1ms\n",
      "868:\tlearn: 0.0113182\ttotal: 529ms\tremaining: 79.7ms\n",
      "869:\tlearn: 0.0113112\ttotal: 529ms\tremaining: 79.1ms\n",
      "870:\tlearn: 0.0112702\ttotal: 530ms\tremaining: 78.5ms\n",
      "871:\tlearn: 0.0112617\ttotal: 531ms\tremaining: 77.9ms\n",
      "872:\tlearn: 0.0112142\ttotal: 531ms\tremaining: 77.2ms\n",
      "873:\tlearn: 0.0112074\ttotal: 531ms\tremaining: 76.6ms\n",
      "874:\tlearn: 0.0111774\ttotal: 532ms\tremaining: 76ms\n",
      "875:\tlearn: 0.0111497\ttotal: 532ms\tremaining: 75.4ms\n",
      "876:\tlearn: 0.0111431\ttotal: 533ms\tremaining: 74.7ms\n",
      "877:\tlearn: 0.0111159\ttotal: 533ms\tremaining: 74.1ms\n",
      "878:\tlearn: 0.0111077\ttotal: 534ms\tremaining: 73.5ms\n",
      "879:\tlearn: 0.0111005\ttotal: 534ms\tremaining: 72.9ms\n",
      "880:\tlearn: 0.0110462\ttotal: 535ms\tremaining: 72.2ms\n",
      "881:\tlearn: 0.0110286\ttotal: 535ms\tremaining: 71.6ms\n",
      "882:\tlearn: 0.0110217\ttotal: 536ms\tremaining: 71ms\n",
      "883:\tlearn: 0.0110153\ttotal: 536ms\tremaining: 70.3ms\n",
      "884:\tlearn: 0.0109825\ttotal: 536ms\tremaining: 69.7ms\n",
      "885:\tlearn: 0.0109502\ttotal: 537ms\tremaining: 69.1ms\n",
      "886:\tlearn: 0.0109422\ttotal: 537ms\tremaining: 68.4ms\n",
      "887:\tlearn: 0.0109314\ttotal: 538ms\tremaining: 67.8ms\n",
      "888:\tlearn: 0.0108996\ttotal: 538ms\tremaining: 67.2ms\n",
      "889:\tlearn: 0.0108919\ttotal: 539ms\tremaining: 66.6ms\n",
      "890:\tlearn: 0.0108813\ttotal: 539ms\tremaining: 66ms\n",
      "891:\tlearn: 0.0108500\ttotal: 540ms\tremaining: 65.3ms\n",
      "892:\tlearn: 0.0108434\ttotal: 540ms\tremaining: 64.7ms\n",
      "893:\tlearn: 0.0108121\ttotal: 540ms\tremaining: 64.1ms\n",
      "894:\tlearn: 0.0107812\ttotal: 541ms\tremaining: 63.5ms\n",
      "895:\tlearn: 0.0107738\ttotal: 541ms\tremaining: 62.8ms\n",
      "896:\tlearn: 0.0107636\ttotal: 542ms\tremaining: 62.3ms\n",
      "897:\tlearn: 0.0107331\ttotal: 543ms\tremaining: 61.6ms\n",
      "898:\tlearn: 0.0107025\ttotal: 543ms\tremaining: 61ms\n",
      "899:\tlearn: 0.0106853\ttotal: 544ms\tremaining: 60.5ms\n",
      "900:\tlearn: 0.0106552\ttotal: 545ms\tremaining: 59.9ms\n",
      "901:\tlearn: 0.0106110\ttotal: 545ms\tremaining: 59.2ms\n",
      "902:\tlearn: 0.0105988\ttotal: 545ms\tremaining: 58.6ms\n",
      "903:\tlearn: 0.0105925\ttotal: 546ms\tremaining: 58ms\n"
     ]
    },
    {
     "name": "stdout",
     "output_type": "stream",
     "text": [
      "904:\tlearn: 0.0105629\ttotal: 547ms\tremaining: 57.4ms\n",
      "905:\tlearn: 0.0105199\ttotal: 547ms\tremaining: 56.8ms\n",
      "906:\tlearn: 0.0104767\ttotal: 550ms\tremaining: 56.4ms\n",
      "907:\tlearn: 0.0104343\ttotal: 551ms\tremaining: 55.8ms\n",
      "908:\tlearn: 0.0104247\ttotal: 551ms\tremaining: 55.2ms\n",
      "909:\tlearn: 0.0104153\ttotal: 552ms\tremaining: 54.6ms\n",
      "910:\tlearn: 0.0103857\ttotal: 552ms\tremaining: 53.9ms\n",
      "911:\tlearn: 0.0103740\ttotal: 561ms\tremaining: 54.1ms\n",
      "912:\tlearn: 0.0103450\ttotal: 561ms\tremaining: 53.4ms\n",
      "913:\tlearn: 0.0103037\ttotal: 562ms\tremaining: 52.8ms\n",
      "914:\tlearn: 0.0102922\ttotal: 562ms\tremaining: 52.2ms\n",
      "915:\tlearn: 0.0102867\ttotal: 563ms\tremaining: 51.6ms\n",
      "916:\tlearn: 0.0102557\ttotal: 563ms\tremaining: 51ms\n",
      "917:\tlearn: 0.0102398\ttotal: 564ms\tremaining: 50.4ms\n",
      "918:\tlearn: 0.0101972\ttotal: 564ms\tremaining: 49.7ms\n",
      "919:\tlearn: 0.0101918\ttotal: 565ms\tremaining: 49.1ms\n",
      "920:\tlearn: 0.0101631\ttotal: 566ms\tremaining: 48.5ms\n",
      "921:\tlearn: 0.0101211\ttotal: 568ms\tremaining: 48ms\n",
      "922:\tlearn: 0.0101157\ttotal: 569ms\tremaining: 47.5ms\n",
      "923:\tlearn: 0.0101104\ttotal: 570ms\tremaining: 46.9ms\n",
      "924:\tlearn: 0.0101051\ttotal: 570ms\tremaining: 46.2ms\n",
      "925:\tlearn: 0.0100818\ttotal: 571ms\tremaining: 45.6ms\n",
      "926:\tlearn: 0.0100535\ttotal: 571ms\tremaining: 45ms\n",
      "927:\tlearn: 0.0100124\ttotal: 572ms\tremaining: 44.4ms\n",
      "928:\tlearn: 0.0100072\ttotal: 572ms\tremaining: 43.7ms\n",
      "929:\tlearn: 0.0100020\ttotal: 573ms\tremaining: 43.1ms\n",
      "930:\tlearn: 0.0099742\ttotal: 573ms\tremaining: 42.5ms\n",
      "931:\tlearn: 0.0099338\ttotal: 574ms\tremaining: 41.9ms\n",
      "932:\tlearn: 0.0099287\ttotal: 574ms\tremaining: 41.3ms\n",
      "933:\tlearn: 0.0099236\ttotal: 575ms\tremaining: 40.6ms\n",
      "934:\tlearn: 0.0099187\ttotal: 576ms\tremaining: 40ms\n",
      "935:\tlearn: 0.0098789\ttotal: 576ms\tremaining: 39.4ms\n",
      "936:\tlearn: 0.0098490\ttotal: 576ms\tremaining: 38.8ms\n",
      "937:\tlearn: 0.0098441\ttotal: 577ms\tremaining: 38.1ms\n",
      "938:\tlearn: 0.0098392\ttotal: 577ms\tremaining: 37.5ms\n",
      "939:\tlearn: 0.0098339\ttotal: 578ms\tremaining: 36.9ms\n",
      "940:\tlearn: 0.0098047\ttotal: 578ms\tremaining: 36.3ms\n",
      "941:\tlearn: 0.0097656\ttotal: 579ms\tremaining: 35.6ms\n",
      "942:\tlearn: 0.0097608\ttotal: 579ms\tremaining: 35ms\n",
      "943:\tlearn: 0.0097216\ttotal: 580ms\tremaining: 34.4ms\n",
      "944:\tlearn: 0.0096930\ttotal: 580ms\tremaining: 33.8ms\n",
      "945:\tlearn: 0.0096883\ttotal: 581ms\tremaining: 33.2ms\n",
      "946:\tlearn: 0.0096836\ttotal: 581ms\tremaining: 32.5ms\n",
      "947:\tlearn: 0.0096454\ttotal: 582ms\tremaining: 31.9ms\n",
      "948:\tlearn: 0.0096185\ttotal: 582ms\tremaining: 31.3ms\n",
      "949:\tlearn: 0.0096139\ttotal: 583ms\tremaining: 30.7ms\n",
      "950:\tlearn: 0.0095945\ttotal: 584ms\tremaining: 30.1ms\n",
      "951:\tlearn: 0.0095353\ttotal: 584ms\tremaining: 29.5ms\n",
      "952:\tlearn: 0.0094988\ttotal: 585ms\tremaining: 28.8ms\n",
      "953:\tlearn: 0.0094797\ttotal: 585ms\tremaining: 28.2ms\n",
      "954:\tlearn: 0.0094520\ttotal: 586ms\tremaining: 27.6ms\n",
      "955:\tlearn: 0.0093950\ttotal: 586ms\tremaining: 27ms\n",
      "956:\tlearn: 0.0093602\ttotal: 587ms\tremaining: 26.4ms\n",
      "957:\tlearn: 0.0093305\ttotal: 587ms\tremaining: 25.7ms\n",
      "958:\tlearn: 0.0093052\ttotal: 587ms\tremaining: 25.1ms\n",
      "959:\tlearn: 0.0092614\ttotal: 588ms\tremaining: 24.5ms\n",
      "960:\tlearn: 0.0092182\ttotal: 589ms\tremaining: 23.9ms\n",
      "961:\tlearn: 0.0091972\ttotal: 589ms\tremaining: 23.3ms\n",
      "962:\tlearn: 0.0091703\ttotal: 590ms\tremaining: 22.6ms\n",
      "963:\tlearn: 0.0091166\ttotal: 590ms\tremaining: 22ms\n",
      "964:\tlearn: 0.0090642\ttotal: 590ms\tremaining: 21.4ms\n",
      "965:\tlearn: 0.0090573\ttotal: 591ms\tremaining: 20.8ms\n",
      "966:\tlearn: 0.0090505\ttotal: 592ms\tremaining: 20.2ms\n",
      "967:\tlearn: 0.0090030\ttotal: 592ms\tremaining: 19.6ms\n",
      "968:\tlearn: 0.0089826\ttotal: 593ms\tremaining: 19ms\n",
      "969:\tlearn: 0.0089361\ttotal: 593ms\tremaining: 18.3ms\n",
      "970:\tlearn: 0.0089161\ttotal: 594ms\tremaining: 17.7ms\n",
      "971:\tlearn: 0.0088902\ttotal: 594ms\tremaining: 17.1ms\n",
      "972:\tlearn: 0.0088859\ttotal: 595ms\tremaining: 16.5ms\n",
      "973:\tlearn: 0.0088817\ttotal: 595ms\tremaining: 15.9ms\n",
      "974:\tlearn: 0.0088604\ttotal: 595ms\tremaining: 15.3ms\n",
      "975:\tlearn: 0.0088099\ttotal: 596ms\tremaining: 14.7ms\n",
      "976:\tlearn: 0.0087934\ttotal: 596ms\tremaining: 14ms\n",
      "977:\tlearn: 0.0087892\ttotal: 597ms\tremaining: 13.4ms\n",
      "978:\tlearn: 0.0087397\ttotal: 597ms\tremaining: 12.8ms\n",
      "979:\tlearn: 0.0087234\ttotal: 598ms\tremaining: 12.2ms\n",
      "980:\tlearn: 0.0087194\ttotal: 599ms\tremaining: 11.6ms\n",
      "981:\tlearn: 0.0086826\ttotal: 599ms\tremaining: 11ms\n",
      "982:\tlearn: 0.0086785\ttotal: 600ms\tremaining: 10.4ms\n",
      "983:\tlearn: 0.0086302\ttotal: 600ms\tremaining: 9.76ms\n",
      "984:\tlearn: 0.0086142\ttotal: 601ms\tremaining: 9.15ms\n",
      "985:\tlearn: 0.0086102\ttotal: 601ms\tremaining: 8.54ms\n",
      "986:\tlearn: 0.0086062\ttotal: 602ms\tremaining: 7.92ms\n",
      "987:\tlearn: 0.0085777\ttotal: 602ms\tremaining: 7.31ms\n",
      "988:\tlearn: 0.0085738\ttotal: 603ms\tremaining: 6.7ms\n",
      "989:\tlearn: 0.0085547\ttotal: 603ms\tremaining: 6.09ms\n",
      "990:\tlearn: 0.0085109\ttotal: 604ms\tremaining: 5.48ms\n",
      "991:\tlearn: 0.0084730\ttotal: 604ms\tremaining: 4.87ms\n",
      "992:\tlearn: 0.0084376\ttotal: 605ms\tremaining: 4.26ms\n",
      "993:\tlearn: 0.0084337\ttotal: 606ms\tremaining: 3.65ms\n",
      "994:\tlearn: 0.0084300\ttotal: 606ms\tremaining: 3.04ms\n",
      "995:\tlearn: 0.0084028\ttotal: 606ms\tremaining: 2.44ms\n",
      "996:\tlearn: 0.0083991\ttotal: 607ms\tremaining: 1.83ms\n",
      "997:\tlearn: 0.0083955\ttotal: 607ms\tremaining: 1.22ms\n",
      "998:\tlearn: 0.0083919\ttotal: 608ms\tremaining: 608us\n",
      "999:\tlearn: 0.0083716\ttotal: 608ms\tremaining: 0us\n"
     ]
    },
    {
     "data": {
      "text/plain": [
       "<catboost.core.CatBoostRegressor at 0x7fd4e3678c10>"
      ]
     },
     "execution_count": 9,
     "metadata": {},
     "output_type": "execute_result"
    }
   ],
   "source": [
    "#Train the Model \n",
    "prior_model = ctb.CatBoostRegressor()\n",
    "prior_model.fit(X_train,Y_train)"
   ]
  },
  {
   "cell_type": "code",
   "execution_count": 10,
   "id": "af65dcda",
   "metadata": {
    "execution": {
     "iopub.execute_input": "2022-06-07T07:06:33.665561Z",
     "iopub.status.busy": "2022-06-07T07:06:33.665051Z",
     "iopub.status.idle": "2022-06-07T07:06:33.671937Z",
     "shell.execute_reply": "2022-06-07T07:06:33.672300Z"
    },
    "id": "af65dcda",
    "papermill": {
     "duration": 0.021927,
     "end_time": "2022-06-07T07:06:33.672423",
     "exception": false,
     "start_time": "2022-06-07T07:06:33.650496",
     "status": "completed"
    },
    "tags": []
   },
   "outputs": [
    {
     "data": {
      "application/scrapbook.scrap.json+json": {
       "data": 0.07021027334921409,
       "encoder": "json",
       "name": "Prior Model MSE",
       "version": 1
      }
     },
     "metadata": {
      "scrapbook": {
       "data": true,
       "display": false,
       "name": "Prior Model MSE"
      }
     },
     "output_type": "display_data"
    },
    {
     "data": {
      "application/scrapbook.scrap.json+json": {
       "data": 1.2006473033023803,
       "encoder": "json",
       "name": "ABC Pre-generator MSE",
       "version": 1
      }
     },
     "metadata": {
      "scrapbook": {
       "data": true,
       "display": false,
       "name": "ABC Pre-generator MSE"
      }
     },
     "output_type": "display_data"
    },
    {
     "data": {
      "application/scrapbook.scrap.json+json": {
       "data": 0.22332390813400851,
       "encoder": "json",
       "name": "Prior Model MSE",
       "version": 1
      }
     },
     "metadata": {
      "scrapbook": {
       "data": true,
       "display": false,
       "name": "Prior Model MSE"
      }
     },
     "output_type": "display_data"
    },
    {
     "data": {
      "application/scrapbook.scrap.json+json": {
       "data": 1.0655377605999092,
       "encoder": "json",
       "name": "ABC Pre-generator MSE",
       "version": 1
      }
     },
     "metadata": {
      "scrapbook": {
       "data": true,
       "display": false,
       "name": "ABC Pre-generator MSE"
      }
     },
     "output_type": "display_data"
    }
   ],
   "source": [
    "y_pred = prior_model.predict(X_test)\n",
    "y_abc = y_pred + np.random.normal(0,variance, y_pred.shape) + bias \n",
    "mse = mean_squared_error(y_pred,Y_test)\n",
    "sb.glue(\"Prior Model MSE\",mse)\n",
    "mse = mean_squared_error(y_abc,Y_test)\n",
    "sb.glue(\"ABC Pre-generator MSE\",mse)\n",
    "mae = mean_absolute_error(y_pred,Y_test)\n",
    "sb.glue(\"Prior Model MSE\",mae)\n",
    "mae = mean_absolute_error(y_abc,Y_test)\n",
    "sb.glue(\"ABC Pre-generator MSE\",mae)"
   ]
  },
  {
   "cell_type": "markdown",
   "id": "25609da2",
   "metadata": {
    "papermill": {
     "duration": 0.009762,
     "end_time": "2022-06-07T07:06:33.692178",
     "exception": false,
     "start_time": "2022-06-07T07:06:33.682416",
     "status": "completed"
    },
    "tags": []
   },
   "source": [
    "# ABC GAN Model"
   ]
  },
  {
   "cell_type": "code",
   "execution_count": 11,
   "id": "dfc3464d",
   "metadata": {
    "execution": {
     "iopub.execute_input": "2022-06-07T07:06:33.715302Z",
     "iopub.status.busy": "2022-06-07T07:06:33.714881Z",
     "iopub.status.idle": "2022-06-07T07:06:33.717796Z",
     "shell.execute_reply": "2022-06-07T07:06:33.718057Z"
    },
    "papermill": {
     "duration": 0.016119,
     "end_time": "2022-06-07T07:06:33.718208",
     "exception": false,
     "start_time": "2022-06-07T07:06:33.702089",
     "status": "completed"
    },
    "tags": []
   },
   "outputs": [],
   "source": [
    "gen = network.Generator(n_features+1).to(device)\n",
    "disc = network.Discriminator(n_features+1).to(device)\n",
    "\n",
    "criterion = torch.nn.BCELoss()\n",
    "gen_opt = torch.optim.Adam(gen.parameters(), lr=0.001, betas=(0.5, 0.999))\n",
    "disc_opt = torch.optim.Adam(disc.parameters(), lr=0.001, betas=(0.5, 0.999))"
   ]
  },
  {
   "cell_type": "code",
   "execution_count": 12,
   "id": "b75fdd85",
   "metadata": {
    "execution": {
     "iopub.execute_input": "2022-06-07T07:06:33.741024Z",
     "iopub.status.busy": "2022-06-07T07:06:33.740651Z",
     "iopub.status.idle": "2022-06-07T07:06:48.633851Z",
     "shell.execute_reply": "2022-06-07T07:06:48.634232Z"
    },
    "papermill": {
     "duration": 14.906345,
     "end_time": "2022-06-07T07:06:48.634382",
     "exception": false,
     "start_time": "2022-06-07T07:06:33.728037",
     "status": "completed"
    },
    "tags": []
   },
   "outputs": [
    {
     "data": {
      "image/png": "[encoded data removed]",
      "text/plain": [
       "<Figure size 432x288 with 1 Axes>"
      ]
     },
     "metadata": {
      "needs_background": "light"
     },
     "output_type": "display_data"
    },
    {
     "data": {
      "image/png": "[encoded data removed]",
      "text/plain": [
       "<Figure size 432x288 with 1 Axes>"
      ]
     },
     "metadata": {
      "needs_background": "light"
     },
     "output_type": "display_data"
    }
   ],
   "source": [
    "#Training the ABC_GAN \n",
    "ABC_train_test2.training_GAN(disc,gen,disc_opt,gen_opt,train_data,batch_size,n_epochs,criterion,prior_model,variance,bias,device)"
   ]
  },
  {
   "cell_type": "code",
   "execution_count": 13,
   "id": "1fa7c368",
   "metadata": {
    "execution": {
     "iopub.execute_input": "2022-06-07T07:06:48.659924Z",
     "iopub.status.busy": "2022-06-07T07:06:48.659464Z",
     "iopub.status.idle": "2022-06-07T07:06:48.855266Z",
     "shell.execute_reply": "2022-06-07T07:06:48.855572Z"
    },
    "papermill": {
     "duration": 0.209852,
     "end_time": "2022-06-07T07:06:48.855697",
     "exception": false,
     "start_time": "2022-06-07T07:06:48.645845",
     "status": "completed"
    },
    "tags": []
   },
   "outputs": [
    {
     "data": {
      "application/scrapbook.scrap.json+json": {
       "data": 0.05133380843974308,
       "encoder": "json",
       "name": "ABC-GAN Model 1 MSE",
       "version": 1
      }
     },
     "metadata": {
      "scrapbook": {
       "data": true,
       "display": false,
       "name": "ABC-GAN Model 1 MSE"
      }
     },
     "output_type": "display_data"
    },
    {
     "data": {
      "application/scrapbook.scrap.json+json": {
       "data": 0.18723640007525683,
       "encoder": "json",
       "name": "ABC-GAN Model 1 MAE",
       "version": 1
      }
     },
     "metadata": {
      "scrapbook": {
       "data": true,
       "display": false,
       "name": "ABC-GAN Model 1 MAE"
      }
     },
     "output_type": "display_data"
    },
    {
     "data": {
      "application/scrapbook.scrap.json+json": {
       "data": 3.7447280015051363,
       "encoder": "json",
       "name": "ABC-GAN Model 1 Manhattan Distance",
       "version": 1
      }
     },
     "metadata": {
      "scrapbook": {
       "data": true,
       "display": false,
       "name": "ABC-GAN Model 1 Manhattan Distance"
      }
     },
     "output_type": "display_data"
    },
    {
     "data": {
      "application/scrapbook.scrap.json+json": {
       "data": 1.0121538911196741,
       "encoder": "json",
       "name": "ABC-GAN Model 1 Euclidean distance",
       "version": 1
      }
     },
     "metadata": {
      "scrapbook": {
       "data": true,
       "display": false,
       "name": "ABC-GAN Model 1 Euclidean distance"
      }
     },
     "output_type": "display_data"
    },
    {
     "data": {
      "application/scrapbook.scrap.json+json": {
       "data": [
        [
         0.04729456068390481,
         0.049463352241169725,
         0.05046543815791828,
         0.06182583804579824,
         0.05160692612949247,
         0.0492921643167088,
         0.05251899429590702,
         0.04780408709346486,
         0.049757460815106416,
         0.04995121469725447,
         0.05576947389687527,
         0.04674280276917213,
         0.04813339355676845,
         0.05504970158731433,
         0.05403797794873742,
         0.05217044250934692,
         0.05337520577519016,
         0.05190954689507754,
         0.05200434249405378,
         0.04836602995523416,
         0.049798660643847976,
         0.05241312438862694,
         0.04833889580098533,
         0.044770097861115354,
         0.04454790118435924,
         0.048459404735504065,
         0.05465440997498039,
         0.06032518206681449,
         0.040902189731782466,
         0.04887065346713379,
         0.050566849061862575,
         0.045417469900061604,
         0.0556384068636306,
         0.05104404303979502,
         0.04903307838655438,
         0.05144742945309462,
         0.05262198402036448,
         0.053774177625932305,
         0.04575476470889845,
         0.05525246350214876,
         0.0514117501449047,
         0.05098654151095281,
         0.0582552770621755,
         0.04692820986536865,
         0.0512799559776661,
         0.05342104380431255,
         0.05284796690898419,
         0.05090822433326938,
         0.04707491221923223,
         0.04389895714646458,
         0.0518897836256743,
         0.05869991795087688,
         0.059252850733464466,
         0.0564442334164322,
         0.045835541243119414,
         0.05029711700791475,
         0.04280916250468601,
         0.049576262072108704,
         0.04873127345332382,
         0.05971901391841398,
         0.0508838677000487,
         0.05518617694812515,
         0.050652720572044306,
         0.04867627099917358,
         0.04262169216664188,
         0.04585667833830872,
         0.04931445214499603,
         0.050389405206022794,
         0.049980621989473326,
         0.050816271081040976,
         0.0620040607435494,
         0.05530171680086331,
         0.05430348022404312,
         0.04688152000976701,
         0.05700271000461674,
         0.050522890392425565,
         0.04770986822492858,
         0.048875208730502225,
         0.0571686092719406,
         0.05732185623627443,
         0.051971988042924376,
         0.05624097272477606,
         0.05912277045398786,
         0.051978336070451533,
         0.04734715039553177,
         0.0560408460063639,
         0.04115685715918591,
         0.051759507120277035,
         0.04783649616592737,
         0.05115470038388372,
         0.04246968073536285,
         0.053527791676938594,
         0.04975680444461099,
         0.04852855548062218,
         0.05816430306834195,
         0.04448796572202171,
         0.05703917169906299,
         0.06738953764047197,
         0.04872570096716895,
         0.05577349505027605
        ],
        [
         0.17276727864518762,
         0.17939767250791191,
         0.18430868620052934,
         0.20076498994603753,
         0.18573814565315844,
         0.18739883536472918,
         0.1884030752815306,
         0.18286163369193673,
         0.18328749844804407,
         0.18272999310865998,
         0.19819044070318342,
         0.1782365315593779,
         0.17579357484355568,
         0.18360662469640374,
         0.1934067510999739,
         0.19003279516473412,
         0.185824288520962,
         0.193393646273762,
         0.18749828571453692,
         0.18387763360515236,
         0.18536008605733514,
         0.18825155878439545,
         0.18160792300477624,
         0.18002196559682487,
         0.18434281358495355,
         0.18370232889428734,
         0.19526354456320405,
         0.20664417827501894,
         0.1705378764308989,
         0.18048214176669716,
         0.18778667459264398,
         0.1761490368284285,
         0.19654191294685006,
         0.18871341133490205,
         0.1851936005987227,
         0.18127246582880616,
         0.1963043653406203,
         0.1933199898339808,
         0.18346106419339775,
         0.19784331182017922,
         0.19129293048754334,
         0.19249660531058907,
         0.20412139752879738,
         0.18309451499953866,
         0.19104228364303708,
         0.18544484386220575,
         0.19262017542496324,
         0.18408719124272466,
         0.18044532993808388,
         0.1672976047731936,
         0.1879728906787932,
         0.20174874225631356,
         0.19933242248371244,
         0.1962480337359011,
         0.17861941093578934,
         0.17957375580444931,
         0.1714734279550612,
         0.18337911227717996,
         0.17692222008481623,
         0.1965797328390181,
         0.18748510526493192,
         0.1984262608923018,
         0.18563189217820764,
         0.1893514015711844,
         0.17672266298905015,
         0.18060535052791238,
         0.18780365521088244,
         0.18081907564774155,
         0.18528466979041697,
         0.1905007072724402,
         0.20145554998889564,
         0.19097617613151668,
         0.19189308295026422,
         0.18522128919139505,
         0.19741621101275086,
         0.19067629212513565,
         0.1777867586351931,
         0.18395406464114786,
         0.19914820278063416,
         0.19264059150591492,
         0.18153864378109574,
         0.19517757380381226,
         0.19617807203903795,
         0.1934401468373835,
         0.18817589292302728,
         0.1844997272826731,
         0.17934202337637545,
         0.19231758723035455,
         0.1780243211425841,
         0.18142952481284738,
         0.1697770574130118,
         0.18621348896995188,
         0.18711851025000215,
         0.18424861589446664,
         0.20154300527647137,
         0.17110938364639877,
         0.18462449023500085,
         0.21565105253830552,
         0.18593072826042772,
         0.18938990393653513
        ],
        [
         3.4553455729037523,
         3.5879534501582384,
         3.6861737240105867,
         4.015299798920751,
         3.7147629130631685,
         3.7479767072945833,
         3.7680615056306124,
         3.6572326738387346,
         3.6657499689608812,
         3.6545998621731997,
         3.9638088140636683,
         3.564730631187558,
         3.5158714968711138,
         3.672132493928075,
         3.8681350219994783,
         3.8006559032946825,
         3.71648577041924,
         3.8678729254752398,
         3.749965714290738,
         3.6775526721030474,
         3.7072017211467028,
         3.765031175687909,
         3.632158460095525,
         3.6004393119364977,
         3.686856271699071,
         3.674046577885747,
         3.905270891264081,
         4.132883565500379,
         3.410757528617978,
         3.6096428353339434,
         3.7557334918528795,
         3.52298073656857,
         3.9308382589370012,
         3.774268226698041,
         3.703872011974454,
         3.6254493165761232,
         3.9260873068124056,
         3.866399796679616,
         3.669221283867955,
         3.9568662364035845,
         3.825858609750867,
         3.8499321062117815,
         4.082427950575948,
         3.661890299990773,
         3.8208456728607416,
         3.708896877244115,
         3.8524035084992647,
         3.681743824854493,
         3.6089065987616777,
         3.345952095463872,
         3.759457813575864,
         4.034974845126271,
         3.9866484496742487,
         3.9249606747180223,
         3.572388218715787,
         3.5914751160889864,
         3.429468559101224,
         3.667582245543599,
         3.5384444016963243,
         3.931594656780362,
         3.7497021052986383,
         3.968525217846036,
         3.7126378435641527,
         3.787028031423688,
         3.534453259781003,
         3.6121070105582476,
         3.7560731042176485,
         3.616381512954831,
         3.705693395808339,
         3.810014145448804,
         4.029110999777913,
         3.819523522630334,
         3.8378616590052843,
         3.704425783827901,
         3.9483242202550173,
         3.813525842502713,
         3.555735172703862,
         3.679081292822957,
         3.9829640556126833,
         3.8528118301182985,
         3.630772875621915,
         3.9035514760762453,
         3.923561440780759,
         3.86880293674767,
         3.7635178584605455,
         3.6899945456534624,
         3.5868404675275087,
         3.846351744607091,
         3.5604864228516817,
         3.6285904962569475,
         3.395541148260236,
         3.7242697793990374,
         3.742370205000043,
         3.6849723178893328,
         4.0308601055294275,
         3.4221876729279757,
         3.692489804700017,
         4.31302105076611,
         3.7186145652085543,
         3.7877980787307024
        ],
        [
         0.9725693875904671,
         0.994619045073738,
         1.0046436000683852,
         1.1119877521429653,
         1.0159421846689156,
         0.992896412690758,
         1.024880425180489,
         0.9777943249320367,
         0.9975716597328376,
         0.9995120279141664,
         1.0561200111433857,
         0.966879545436474,
         0.9811563948399709,
         1.0492826272012161,
         1.0395958632924376,
         1.0214738617247818,
         1.0332009076185538,
         1.0189165509999094,
         1.0198464834871352,
         0.9835245798172424,
         0.9979845754704626,
         1.0238469064135216,
         0.9832486542170839,
         0.946256813567177,
         0.9439057281779705,
         0.9844735114314053,
         1.0455085841348257,
         1.098409596342043,
         0.9044577351295358,
         0.9886420329637395,
         1.005652515154838,
         0.9530736582243956,
         1.0548782570859123,
         1.0103864908023563,
         0.9902835794514052,
         1.014371031261191,
         1.0258848280422561,
         1.0370552311804064,
         0.9566061332533724,
         1.0512132371897602,
         1.0140192320158894,
         1.0098172261449376,
         1.0794005471758434,
         0.9687952298124578,
         1.0127186773992678,
         1.0336444630946615,
         1.028085277678697,
         1.0090413701456384,
         0.9703083243921206,
         0.9370054124332963,
         1.018722568962466,
         1.0835120483951886,
         1.0886032402437948,
         1.0624898438708221,
         0.9574501683442268,
         1.0029667692193471,
         0.9253017076033743,
         0.9957536047849258,
         0.9872312135799174,
         1.0928770646181023,
         1.008799957375581,
         1.050582476040079,
         1.00650604143288,
         0.9866739177577725,
         0.9232734390920371,
         0.9576709073403945,
         0.993120860167543,
         1.0038864996205776,
         0.9998062011157295,
         1.008129665083227,
         1.113589338522504,
         1.0516816704769871,
         1.042146632907703,
         0.9683131725817532,
         1.0677332064201877,
         1.005215304225175,
         0.9768302639141416,
         0.9886881078530501,
         1.0692858296259293,
         1.0707180416549862,
         1.0195291858787014,
         1.0605750583978115,
         1.087407655426316,
         1.0195914482816295,
         0.9731099670184432,
         1.0586864125543871,
         0.9072690577682666,
         1.0174429430712766,
         0.9781257195874912,
         1.0114810960555192,
         0.9216255284589598,
         1.0346766806779653,
         0.9975650800284761,
         0.9851756744928508,
         1.0785573982718022,
         0.9432705414887259,
         1.0680746387688735,
         1.1609439059702407,
         0.9871747663627647,
         1.0561580852341759
        ]
       ],
       "encoder": "json",
       "name": "ABC_GAN_1 Metrics",
       "version": 1
      }
     },
     "metadata": {
      "scrapbook": {
       "data": true,
       "display": false,
       "name": "ABC_GAN_1 Metrics"
      }
     },
     "output_type": "display_data"
    },
    {
     "name": "stdout",
     "output_type": "stream",
     "text": [
      "MSE\n",
      "0.05133380843974308\n"
     ]
    }
   ],
   "source": [
    "ABC_GAN1_metrics=ABC_train_test2.test_generator(gen,test_data,prior_model,variance,bias,\"1\",device)\n",
    "sb.glue(\"ABC_GAN_1 Metrics\",ABC_GAN1_metrics)\n",
    "\n",
    "print(\"MSE\")\n",
    "print(mean(ABC_GAN1_metrics[0]))"
   ]
  },
  {
   "cell_type": "code",
   "execution_count": 14,
   "id": "eb22ce5c",
   "metadata": {
    "execution": {
     "iopub.execute_input": "2022-06-07T07:06:48.884139Z",
     "iopub.status.busy": "2022-06-07T07:06:48.883665Z",
     "iopub.status.idle": "2022-06-07T07:06:49.212380Z",
     "shell.execute_reply": "2022-06-07T07:06:49.212709Z"
    },
    "papermill": {
     "duration": 0.3441,
     "end_time": "2022-06-07T07:06:49.212881",
     "exception": false,
     "start_time": "2022-06-07T07:06:48.868781",
     "status": "completed"
    },
    "tags": []
   },
   "outputs": [
    {
     "data": {
      "image/png": "[encoded data removed]",
      "text/plain": [
       "<Figure size 432x288 with 1 Axes>"
      ]
     },
     "metadata": {
      "needs_background": "light"
     },
     "output_type": "display_data"
    },
    {
     "data": {
      "image/png": "[encoded data removed]",
      "text/plain": [
       "<Figure size 432x288 with 1 Axes>"
      ]
     },
     "metadata": {
      "needs_background": "light"
     },
     "output_type": "display_data"
    },
    {
     "data": {
      "image/png": "[encoded data removed]",
      "text/plain": [
       "<Figure size 432x288 with 1 Axes>"
      ]
     },
     "metadata": {
      "needs_background": "light"
     },
     "output_type": "display_data"
    },
    {
     "data": {
      "image/png": "[encoded data removed]",
      "text/plain": [
       "<Figure size 432x288 with 1 Axes>"
      ]
     },
     "metadata": {
      "needs_background": "light"
     },
     "output_type": "display_data"
    }
   ],
   "source": [
    "sanityChecks.discProbVsError(train_data,disc,device)\n",
    "sanityChecks.discProbVsError(test_data,disc,device)"
   ]
  },
  {
   "cell_type": "markdown",
   "id": "130f3a4d",
   "metadata": {
    "id": "130f3a4d",
    "papermill": {
     "duration": 0.040761,
     "end_time": "2022-06-07T07:06:49.268411",
     "exception": false,
     "start_time": "2022-06-07T07:06:49.227650",
     "status": "completed"
    },
    "tags": []
   },
   "source": [
    "# ABC - GAN Model with skip connection"
   ]
  },
  {
   "cell_type": "code",
   "execution_count": 15,
   "id": "4e43dad1",
   "metadata": {
    "execution": {
     "iopub.execute_input": "2022-06-07T07:06:49.302445Z",
     "iopub.status.busy": "2022-06-07T07:06:49.301959Z",
     "iopub.status.idle": "2022-06-07T07:06:49.305604Z",
     "shell.execute_reply": "2022-06-07T07:06:49.306552Z"
    },
    "id": "4e43dad1",
    "papermill": {
     "duration": 0.023245,
     "end_time": "2022-06-07T07:06:49.306726",
     "exception": false,
     "start_time": "2022-06-07T07:06:49.283481",
     "status": "completed"
    },
    "tags": []
   },
   "outputs": [],
   "source": [
    "#Generator\n",
    "gen3 = network.GeneratorWithSkipConnection(n_features+1).to(device)\n",
    "constraints=network.weightConstraint()\n",
    "#Discriminator \n",
    "disc3 = network.Discriminator(n_features+1).to(device)\n",
    "\n",
    "criterion = torch.nn.BCELoss()\n",
    "gen_opt = torch.optim.Adam(gen3.parameters(), lr=0.001, betas=(0.5, 0.999))\n",
    "disc_opt = torch.optim.Adam(disc3.parameters(), lr=0.001, betas=(0.5, 0.999))\n"
   ]
  },
  {
   "cell_type": "code",
   "execution_count": 16,
   "id": "26acbc37",
   "metadata": {
    "execution": {
     "iopub.execute_input": "2022-06-07T07:06:49.342723Z",
     "iopub.status.busy": "2022-06-07T07:06:49.342173Z",
     "iopub.status.idle": "2022-06-07T07:07:30.325527Z",
     "shell.execute_reply": "2022-06-07T07:07:30.326046Z"
    },
    "id": "26acbc37",
    "papermill": {
     "duration": 41.002313,
     "end_time": "2022-06-07T07:07:30.326218",
     "exception": false,
     "start_time": "2022-06-07T07:06:49.323905",
     "status": "completed"
    },
    "tags": []
   },
   "outputs": [
    {
     "data": {
      "image/png": "[encoded data removed]",
      "text/plain": [
       "<Figure size 432x288 with 1 Axes>"
      ]
     },
     "metadata": {
      "needs_background": "light"
     },
     "output_type": "display_data"
    },
    {
     "data": {
      "image/png": "[encoded data removed]",
      "text/plain": [
       "<Figure size 432x288 with 1 Axes>"
      ]
     },
     "metadata": {
      "needs_background": "light"
     },
     "output_type": "display_data"
    }
   ],
   "source": [
    "ABC_train_test2.training_GAN_skip_connection(disc3,gen3,disc_opt,gen_opt,train_data,batch_size,n_epochs,criterion,prior_model,variance,bias,device)"
   ]
  },
  {
   "cell_type": "code",
   "execution_count": 17,
   "id": "c5e0717b",
   "metadata": {
    "execution": {
     "iopub.execute_input": "2022-06-07T07:07:30.360839Z",
     "iopub.status.busy": "2022-06-07T07:07:30.360044Z",
     "iopub.status.idle": "2022-06-07T07:07:30.687401Z",
     "shell.execute_reply": "2022-06-07T07:07:30.687773Z"
    },
    "id": "c5e0717b",
    "papermill": {
     "duration": 0.34621,
     "end_time": "2022-06-07T07:07:30.687896",
     "exception": false,
     "start_time": "2022-06-07T07:07:30.341686",
     "status": "completed"
    },
    "tags": []
   },
   "outputs": [
    {
     "data": {
      "application/scrapbook.scrap.json+json": {
       "data": 0.044062914013973,
       "encoder": "json",
       "name": "ABC-GAN Model 3 MSE",
       "version": 1
      }
     },
     "metadata": {
      "scrapbook": {
       "data": true,
       "display": false,
       "name": "ABC-GAN Model 3 MSE"
      }
     },
     "output_type": "display_data"
    },
    {
     "data": {
      "application/scrapbook.scrap.json+json": {
       "data": 0.17234241179004312,
       "encoder": "json",
       "name": "ABC-GAN Model 3 MAE",
       "version": 1
      }
     },
     "metadata": {
      "scrapbook": {
       "data": true,
       "display": false,
       "name": "ABC-GAN Model 3 MAE"
      }
     },
     "output_type": "display_data"
    },
    {
     "data": {
      "application/scrapbook.scrap.json+json": {
       "data": 3.4468482358008625,
       "encoder": "json",
       "name": "ABC-GAN Model 3 Manhattan Distance",
       "version": 1
      }
     },
     "metadata": {
      "scrapbook": {
       "data": true,
       "display": false,
       "name": "ABC-GAN Model 3 Manhattan Distance"
      }
     },
     "output_type": "display_data"
    },
    {
     "data": {
      "application/scrapbook.scrap.json+json": {
       "data": 0.9363174315600377,
       "encoder": "json",
       "name": "ABC-GAN Model 3 Euclidean distance",
       "version": 1
      }
     },
     "metadata": {
      "scrapbook": {
       "data": true,
       "display": false,
       "name": "ABC-GAN Model 3 Euclidean distance"
      }
     },
     "output_type": "display_data"
    },
    {
     "data": {
      "application/scrapbook.scrap.json+json": {
       "data": [
        [
         0.04753544571483296,
         0.04885527455846245,
         0.05366319074488161,
         0.04328442107900975,
         0.04629550960904592,
         0.03603042900945762,
         0.04130624564375927,
         0.04630330873509349,
         0.03656330845567409,
         0.04792090368893019,
         0.0484362448277301,
         0.04704207682137283,
         0.04726720968848243,
         0.050233652442202625,
         0.03969743126626772,
         0.03638203452725708,
         0.04747314593881852,
         0.03934618899146793,
         0.0485048457867294,
         0.03236816631988322,
         0.03970738366674707,
         0.04193137520023578,
         0.05079596218088043,
         0.03979813580515673,
         0.04042467965909793,
         0.044975286486320064,
         0.04742644378012963,
         0.05045537129593106,
         0.03853130043308882,
         0.03680522150659116,
         0.04188675093362913,
         0.041056717948027774,
         0.035954507619606016,
         0.03978672880202812,
         0.052707902334347675,
         0.03760628976175724,
         0.05745138324251051,
         0.04149769602418259,
         0.036762471075641324,
         0.042650657609633415,
         0.05597357828795493,
         0.04949633433314343,
         0.052442027648139156,
         0.0458456100042147,
         0.045149025905623655,
         0.034922781846142927,
         0.042977354839077386,
         0.04960229404245222,
         0.05000938993666516,
         0.04738128549877703,
         0.04729760795640829,
         0.04441274736318955,
         0.04754968982127683,
         0.046535102792257234,
         0.04469947009827213,
         0.05082787748453903,
         0.05247782310357213,
         0.04495398782391693,
         0.04739753262521075,
         0.042712610579636844,
         0.0545632722401506,
         0.03854627721459173,
         0.04282454792872757,
         0.04603886662485242,
         0.04206312542101283,
         0.041713671026439636,
         0.042715939161757255,
         0.04844177530070737,
         0.040761914444928195,
         0.04294552977230383,
         0.057318835507689195,
         0.033150992683476765,
         0.048317206251920965,
         0.05083761455608442,
         0.04915639445768597,
         0.04322866841196239,
         0.04294662284121979,
         0.03603201730413682,
         0.04478026684931322,
         0.03784288804963367,
         0.04378110641486312,
         0.04077419243067787,
         0.03250291317673171,
         0.03858817683814604,
         0.04038543357393247,
         0.03576887480060159,
         0.042644530837014374,
         0.05004993781312189,
         0.060418961354265444,
         0.047665961334462305,
         0.029873900246596606,
         0.02804914816821602,
         0.043677248134198474,
         0.04624554218052428,
         0.049945249325840026,
         0.03103423370086226,
         0.04887019413928256,
         0.03503663572377769,
         0.04807723967910097,
         0.0432900642711172
        ],
        [
         0.18030493082478644,
         0.18068776847794651,
         0.19081167383119463,
         0.17408082308247685,
         0.17477864446118474,
         0.1596834880299866,
         0.17545132311061024,
         0.18474342627450824,
         0.15246409000828862,
         0.17386039616540075,
         0.1698160064406693,
         0.18608405711129308,
         0.1829668772406876,
         0.18102694870904087,
         0.16347357453778386,
         0.15487442435696722,
         0.16247319551184775,
         0.14994011046364902,
         0.19949185671284794,
         0.1609831524081528,
         0.16320673348382114,
         0.1729174773208797,
         0.19076855750754476,
         0.15901734651997684,
         0.16086131455376745,
         0.17505970122292638,
         0.17756162406876683,
         0.1928608668036759,
         0.15992357851937414,
         0.15783398868516088,
         0.16849326891824604,
         0.16859195055440068,
         0.1568922978825867,
         0.16421343209221959,
         0.1896831107325852,
         0.16054130913689732,
         0.20351058961823582,
         0.16377995731309056,
         0.16302738608792425,
         0.16373749477788807,
         0.2006598842330277,
         0.1863871288485825,
         0.1977280599065125,
         0.1732774686999619,
         0.17245742501690983,
         0.14196576001122593,
         0.17473455788567663,
         0.16483125211670996,
         0.176157106179744,
         0.17485524537041783,
         0.1787758302874863,
         0.17617832822725177,
         0.18575926246121527,
         0.1756423738785088,
         0.18436814369633794,
         0.18710733922198414,
         0.19319937797263265,
         0.1787930172868073,
         0.1761564684100449,
         0.1759391483850777,
         0.2051821750588715,
         0.16198830427601935,
         0.15634651305153965,
         0.1895151567645371,
         0.17776616038754584,
         0.17488623829558492,
         0.17085958840325474,
         0.16698272647336126,
         0.15709236385300757,
         0.16818249030038715,
         0.19305344643071293,
         0.15499122561886908,
         0.1677138668484986,
         0.18548694970086216,
         0.1853109878487885,
         0.1792581153102219,
         0.17328126849606634,
         0.16347158970311285,
         0.17154308380559086,
         0.1515097719617188,
         0.16594090284779667,
         0.17157618524506688,
         0.1457768035121262,
         0.1705144596286118,
         0.17239000620320438,
         0.15554883601143957,
         0.17698215963318945,
         0.18223983449861408,
         0.2030335140414536,
         0.17502225758507847,
         0.14330674977973104,
         0.13971367003396154,
         0.16073604049161078,
         0.17042492451146246,
         0.18311351956799626,
         0.145110182184726,
         0.1747689944691956,
         0.15502008022740482,
         0.16764754178002478,
         0.1755005625076592
        ],
        [
         3.6060986164957285,
         3.6137553695589304,
         3.816233476623893,
         3.481616461649537,
         3.495572889223695,
         3.1936697605997324,
         3.509026462212205,
         3.6948685254901648,
         3.0492818001657724,
         3.477207923308015,
         3.396320128813386,
         3.7216811422258615,
         3.659337544813752,
         3.6205389741808176,
         3.2694714907556772,
         3.097488487139344,
         3.2494639102369547,
         2.9988022092729807,
         3.989837134256959,
         3.2196630481630564,
         3.264134669676423,
         3.458349546417594,
         3.815371150150895,
         3.180346930399537,
         3.217226291075349,
         3.5011940244585276,
         3.5512324813753366,
         3.857217336073518,
         3.1984715703874826,
         3.1566797737032175,
         3.3698653783649206,
         3.3718390110880136,
         3.1378459576517344,
         3.284268641844392,
         3.793662214651704,
         3.2108261827379465,
         4.0702117923647165,
         3.2755991462618113,
         3.260547721758485,
         3.274749895557761,
         4.013197684660554,
         3.72774257697165,
         3.95456119813025,
         3.465549373999238,
         3.4491485003381968,
         2.8393152002245188,
         3.4946911577135324,
         3.296625042334199,
         3.52314212359488,
         3.4971049074083567,
         3.5755166057497263,
         3.5235665645450354,
         3.715185249224305,
         3.512847477570176,
         3.6873628739267588,
         3.742146784439683,
         3.863987559452653,
         3.575860345736146,
         3.523129368200898,
         3.5187829677015543,
         4.10364350117743,
         3.2397660855203867,
         3.126930261030793,
         3.790303135290742,
         3.5553232077509165,
         3.4977247659116983,
         3.417191768065095,
         3.339654529467225,
         3.141847277060151,
         3.363649806007743,
         3.8610689286142588,
         3.0998245123773813,
         3.3542773369699717,
         3.7097389940172434,
         3.70621975697577,
         3.585162306204438,
         3.4656253699213266,
         3.269431794062257,
         3.4308616761118174,
         3.030195439234376,
         3.3188180569559336,
         3.4315237049013376,
         2.915536070242524,
         3.410289192572236,
         3.447800124064088,
         3.1109767202287912,
         3.539643192663789,
         3.6447966899722815,
         4.060670280829072,
         3.5004451517015696,
         2.8661349955946207,
         2.7942734006792307,
         3.2147208098322153,
         3.408498490229249,
         3.6622703913599253,
         2.90220364369452,
         3.495379889383912,
         3.1004016045480967,
         3.3529508356004953,
         3.510011250153184
        ],
        [
         0.9750430320230278,
         0.9884864648386689,
         1.0359844665329843,
         0.9304237860137685,
         0.9622422731209217,
         0.8488866709927494,
         0.9089141394406764,
         0.9623233212916902,
         0.8551410229391886,
         0.9789882909302867,
         0.9842382316058454,
         0.9699698636697208,
         0.9722881228163021,
         1.0023338011082197,
         0.8910379483082381,
         0.8530185757327572,
         0.9744038786747363,
         0.8870872447675926,
         0.9849349804604302,
         0.804588917645318,
         0.8911496357710873,
         0.9157660749365613,
         1.0079281936812803,
         0.8921674260491326,
         0.8991627178558721,
         0.9484227589669078,
         0.9739244712002018,
         1.0045433917549909,
         0.877853067809059,
         0.8579652849223115,
         0.9152786562968585,
         0.9061646423032381,
         0.8479918350975558,
         0.8920395596836288,
         1.026721990943485,
         0.8672518637830331,
         1.0719270800060097,
         0.9110180681433556,
         0.8574668632156152,
         0.9235871113179678,
         1.0580508332585437,
         0.9949505950864438,
         1.0241291681046796,
         0.9575553248164275,
         0.9502528706152237,
         0.8357365834536972,
         0.9271176283414893,
         0.9960150003132705,
         1.0000938949585199,
         0.9734606874319787,
         0.9726007192718735,
         0.9424727833013488,
         0.9751891080326608,
         0.9647290064288233,
         0.9455101279020984,
         1.0082447865924131,
         1.0244786293873789,
         0.9481981630853007,
         0.9736275738208192,
         0.9242576543327823,
         1.0446365132442057,
         0.878023658161803,
         0.9254679673411454,
         0.9595714316803352,
         0.9172036351979077,
         0.9133856910028713,
         0.9242936672049339,
         0.9842944203916566,
         0.9029054706327589,
         0.9267742958488201,
         1.0706898291072835,
         0.8142603107542055,
         0.983028038785476,
         1.008341356447155,
         0.9915280576734676,
         0.9298243749435953,
         0.9267860901116265,
         0.8489053811130758,
         0.9463642728813595,
         0.8699757243697512,
         0.935746829167624,
         0.903041443464007,
         0.8062619075304465,
         0.8785007323633377,
         0.8987261381970869,
         0.8457999148806009,
         0.9235207722299955,
         1.0004992535041881,
         1.0992630381693496,
         0.9763806771384028,
         0.7729670141292785,
         0.7489879594254639,
         0.9346362729340059,
         0.9617228517668099,
         0.9994523432944666,
         0.7878354358730287,
         0.9886373869046482,
         0.8370977926595875,
         0.9805839044069709,
         0.9304844358839883
        ]
       ],
       "encoder": "json",
       "name": "ABC_GAN_3 Metrics",
       "version": 1
      }
     },
     "metadata": {
      "scrapbook": {
       "data": true,
       "display": false,
       "name": "ABC_GAN_3 Metrics"
      }
     },
     "output_type": "display_data"
    },
    {
     "name": "stdout",
     "output_type": "stream",
     "text": [
      "MSE\n",
      "0.044062914013973\n"
     ]
    }
   ],
   "source": [
    "ABC_GAN3_metrics=ABC_train_test2.test_generator(gen3,test_data,prior_model,variance,bias,\"3\",device)\n",
    "sb.glue(\"ABC_GAN_3 Metrics\",ABC_GAN3_metrics)\n",
    "\n",
    "print(\"MSE\")\n",
    "print(mean(ABC_GAN3_metrics[0]))"
   ]
  },
  {
   "cell_type": "code",
   "execution_count": 18,
   "id": "c8e46b48",
   "metadata": {
    "execution": {
     "iopub.execute_input": "2022-06-07T07:07:30.724823Z",
     "iopub.status.busy": "2022-06-07T07:07:30.724327Z",
     "iopub.status.idle": "2022-06-07T07:07:31.055458Z",
     "shell.execute_reply": "2022-06-07T07:07:31.055850Z"
    },
    "id": "c8e46b48",
    "papermill": {
     "duration": 0.35101,
     "end_time": "2022-06-07T07:07:31.055974",
     "exception": false,
     "start_time": "2022-06-07T07:07:30.704964",
     "status": "completed"
    },
    "tags": []
   },
   "outputs": [
    {
     "data": {
      "image/png": "[encoded data removed]",
      "text/plain": [
       "<Figure size 432x288 with 1 Axes>"
      ]
     },
     "metadata": {
      "needs_background": "light"
     },
     "output_type": "display_data"
    },
    {
     "data": {
      "image/png": "[encoded data removed]",
      "text/plain": [
       "<Figure size 432x288 with 1 Axes>"
      ]
     },
     "metadata": {
      "needs_background": "light"
     },
     "output_type": "display_data"
    },
    {
     "data": {
      "image/png": "[encoded data removed]",
      "text/plain": [
       "<Figure size 432x288 with 1 Axes>"
      ]
     },
     "metadata": {
      "needs_background": "light"
     },
     "output_type": "display_data"
    },
    {
     "data": {
      "image/png": "[encoded data removed]",
      "text/plain": [
       "<Figure size 432x288 with 1 Axes>"
      ]
     },
     "metadata": {
      "needs_background": "light"
     },
     "output_type": "display_data"
    }
   ],
   "source": [
    "sanityChecks.discProbVsError(train_data,disc3,device)\n",
    "sanityChecks.discProbVsError(test_data,disc3,device)"
   ]
  },
  {
   "cell_type": "markdown",
   "id": "a5bd74c3",
   "metadata": {
    "id": "a5bd74c3",
    "papermill": {
     "duration": 0.019992,
     "end_time": "2022-06-07T07:07:31.096135",
     "exception": false,
     "start_time": "2022-06-07T07:07:31.076143",
     "status": "completed"
    },
    "tags": []
   },
   "source": [
    "## Skip Connection Model Analysis - ABC-GAN "
   ]
  },
  {
   "cell_type": "markdown",
   "id": "5744a8bf",
   "metadata": {
    "id": "5744a8bf",
    "papermill": {
     "duration": 0.020141,
     "end_time": "2022-06-07T07:07:31.136202",
     "exception": false,
     "start_time": "2022-06-07T07:07:31.116061",
     "status": "completed"
    },
    "tags": []
   },
   "source": [
    "### Weight Analysis \n",
    "\n",
    "Study the weights of the skip connection layer\n",
    "\n",
    "Equation of the skip connection is \n",
    "\n",
    "$output = y_{gan} * w + y_{abc} * (1-w)$"
   ]
  },
  {
   "cell_type": "code",
   "execution_count": 19,
   "id": "52c31dea",
   "metadata": {
    "execution": {
     "iopub.execute_input": "2022-06-07T07:07:31.179314Z",
     "iopub.status.busy": "2022-06-07T07:07:31.178844Z",
     "iopub.status.idle": "2022-06-07T07:07:31.182386Z",
     "shell.execute_reply": "2022-06-07T07:07:31.182642Z"
    },
    "id": "52c31dea",
    "papermill": {
     "duration": 0.026644,
     "end_time": "2022-06-07T07:07:31.182766",
     "exception": false,
     "start_time": "2022-06-07T07:07:31.156122",
     "status": "completed"
    },
    "tags": []
   },
   "outputs": [
    {
     "name": "stdout",
     "output_type": "stream",
     "text": [
      "Weight of the node at skip connection\n",
      "Parameter containing:\n",
      "tensor([[0.0858]], requires_grad=True)\n"
     ]
    },
    {
     "data": {
      "application/scrapbook.scrap.json+json": {
       "data": 0.08582071959972382,
       "encoder": "json",
       "name": "Skip Connection Weight",
       "version": 1
      }
     },
     "metadata": {
      "scrapbook": {
       "data": true,
       "display": false,
       "name": "Skip Connection Weight"
      }
     },
     "output_type": "display_data"
    }
   ],
   "source": [
    "print(\"Weight of the node at skip connection\")\n",
    "for name,param in gen3.named_parameters():\n",
    "    if(name == \"skipNode.weight\"):\n",
    "        print(param)\n",
    "        sb.glue(\"Skip Connection Weight\",param.item())"
   ]
  }
 ],
 "metadata": {
  "colab": {
   "collapsed_sections": [],
   "name": "ABC_GAN_Model-Catboost_Pre-gen.ipynb",
   "provenance": []
  },
  "interpreter": {
   "hash": "31f2aee4e71d21fbe5cf8b01ff0e069b9275f58929596ceb00d14d90e3e16cd6"
  },
  "kernelspec": {
   "display_name": "Python 3 (ipykernel)",
   "language": "python",
   "name": "python3"
  },
  "language_info": {
   "codemirror_mode": {
    "name": "ipython",
    "version": 3
   },
   "file_extension": ".py",
   "mimetype": "text/x-python",
   "name": "python",
   "nbconvert_exporter": "python",
   "pygments_lexer": "ipython3",
   "version": "3.8.11"
  },
  "papermill": {
   "default_parameters": {},
   "duration": 61.754431,
   "end_time": "2022-06-07T07:07:31.541244",
   "environment_variables": {},
   "exception": null,
   "input_path": "ABC_GAN-Catboost.ipynb",
   "output_path": "./ABC_GAN_Catboost/ABC-GAN_output_9_1.ipynb",
   "parameters": {
    "bias": 1,
    "variance": 0.1
   },
   "start_time": "2022-06-07T07:06:29.786813",
   "version": "2.3.3"
  }
 },
 "nbformat": 4,
 "nbformat_minor": 5
}