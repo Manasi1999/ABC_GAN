{
 "cells": [
  {
   "cell_type": "markdown",
   "id": "622780e6",
   "metadata": {
    "id": "622780e6",
    "papermill": {
     "duration": 0.027837,
     "end_time": "2022-06-07T07:07:33.614197",
     "exception": false,
     "start_time": "2022-06-07T07:07:33.586360",
     "status": "completed"
    },
    "tags": []
   },
   "source": [
    "## Import Libraries "
   ]
  },
  {
   "cell_type": "code",
   "execution_count": 1,
   "id": "a62397e3",
   "metadata": {
    "execution": {
     "iopub.execute_input": "2022-06-07T07:07:33.643841Z",
     "iopub.status.busy": "2022-06-07T07:07:33.643154Z",
     "iopub.status.idle": "2022-06-07T07:07:33.645915Z",
     "shell.execute_reply": "2022-06-07T07:07:33.646281Z"
    },
    "id": "a62397e3",
    "papermill": {
     "duration": 0.022203,
     "end_time": "2022-06-07T07:07:33.646521",
     "exception": false,
     "start_time": "2022-06-07T07:07:33.624318",
     "status": "completed"
    },
    "tags": []
   },
   "outputs": [],
   "source": [
    "import warnings\n",
    "import sys\n",
    "sys.path.insert(0, '../../src')\n",
    "warnings.filterwarnings('ignore')"
   ]
  },
  {
   "cell_type": "code",
   "execution_count": 2,
   "id": "d6a4e155",
   "metadata": {
    "execution": {
     "iopub.execute_input": "2022-06-07T07:07:33.670627Z",
     "iopub.status.busy": "2022-06-07T07:07:33.670173Z",
     "iopub.status.idle": "2022-06-07T07:07:35.762239Z",
     "shell.execute_reply": "2022-06-07T07:07:35.763444Z"
    },
    "id": "d6a4e155",
    "papermill": {
     "duration": 2.107393,
     "end_time": "2022-06-07T07:07:35.764038",
     "exception": false,
     "start_time": "2022-06-07T07:07:33.656645",
     "status": "completed"
    },
    "tags": []
   },
   "outputs": [],
   "source": [
    "import ABC_train_test2\n",
    "import friedman1Dataset\n",
    "import network\n",
    "import dataset\n",
    "import sanityChecks\n",
    "import torch \n",
    "import scrapbook as sb\n",
    "from statistics import mean \n",
    "import catboost as ctb \n",
    "from sklearn.model_selection import train_test_split\n",
    "from sklearn.metrics import mean_squared_error,mean_absolute_error\n",
    "import numpy as np"
   ]
  },
  {
   "cell_type": "markdown",
   "id": "2fa5b0f7",
   "metadata": {
    "id": "2fa5b0f7",
    "papermill": {
     "duration": 0.007708,
     "end_time": "2022-06-07T07:07:35.779523",
     "exception": false,
     "start_time": "2022-06-07T07:07:35.771815",
     "status": "completed"
    },
    "tags": []
   },
   "source": [
    "## Parameters "
   ]
  },
  {
   "cell_type": "code",
   "execution_count": 3,
   "id": "783186fb",
   "metadata": {
    "execution": {
     "iopub.execute_input": "2022-06-07T07:07:35.799316Z",
     "iopub.status.busy": "2022-06-07T07:07:35.798948Z",
     "iopub.status.idle": "2022-06-07T07:07:35.800218Z",
     "shell.execute_reply": "2022-06-07T07:07:35.800525Z"
    },
    "id": "783186fb",
    "papermill": {
     "duration": 0.011185,
     "end_time": "2022-06-07T07:07:35.800642",
     "exception": false,
     "start_time": "2022-06-07T07:07:35.789457",
     "status": "completed"
    },
    "tags": [
     "parameters"
    ]
   },
   "outputs": [],
   "source": [
    "variance = 1\n",
    "bias = 1 "
   ]
  },
  {
   "cell_type": "code",
   "execution_count": 4,
   "id": "56ff6ca8",
   "metadata": {
    "execution": {
     "iopub.execute_input": "2022-06-07T07:07:35.817003Z",
     "iopub.status.busy": "2022-06-07T07:07:35.816583Z",
     "iopub.status.idle": "2022-06-07T07:07:35.817726Z",
     "shell.execute_reply": "2022-06-07T07:07:35.818042Z"
    },
    "papermill": {
     "duration": 0.010581,
     "end_time": "2022-06-07T07:07:35.818163",
     "exception": false,
     "start_time": "2022-06-07T07:07:35.807582",
     "status": "completed"
    },
    "tags": [
     "injected-parameters"
    ]
   },
   "outputs": [],
   "source": [
    "# Parameters\n",
    "variance = 0.01\n",
    "bias = 1\n"
   ]
  },
  {
   "cell_type": "markdown",
   "id": "391cdbfd",
   "metadata": {
    "id": "391cdbfd",
    "papermill": {
     "duration": 0.007229,
     "end_time": "2022-06-07T07:07:35.832329",
     "exception": false,
     "start_time": "2022-06-07T07:07:35.825100",
     "status": "completed"
    },
    "tags": []
   },
   "source": [
    "## Dataset \n"
   ]
  },
  {
   "cell_type": "code",
   "execution_count": 5,
   "id": "5b51f161",
   "metadata": {
    "execution": {
     "iopub.execute_input": "2022-06-07T07:07:35.848921Z",
     "iopub.status.busy": "2022-06-07T07:07:35.848550Z",
     "iopub.status.idle": "2022-06-07T07:07:35.849821Z",
     "shell.execute_reply": "2022-06-07T07:07:35.850069Z"
    },
    "id": "5b51f161",
    "papermill": {
     "duration": 0.010944,
     "end_time": "2022-06-07T07:07:35.850183",
     "exception": false,
     "start_time": "2022-06-07T07:07:35.839239",
     "status": "completed"
    },
    "tags": []
   },
   "outputs": [],
   "source": [
    "#Parameters \n",
    "n_features = 5\n",
    "n_samples= 100\n",
    "n_target = 1 "
   ]
  },
  {
   "cell_type": "code",
   "execution_count": 6,
   "id": "5d6eced4",
   "metadata": {
    "execution": {
     "iopub.execute_input": "2022-06-07T07:07:35.867827Z",
     "iopub.status.busy": "2022-06-07T07:07:35.866551Z",
     "iopub.status.idle": "2022-06-07T07:07:35.872781Z",
     "shell.execute_reply": "2022-06-07T07:07:35.873030Z"
    },
    "id": "5d6eced4",
    "papermill": {
     "duration": 0.016011,
     "end_time": "2022-06-07T07:07:35.873147",
     "exception": false,
     "start_time": "2022-06-07T07:07:35.857136",
     "status": "completed"
    },
    "tags": []
   },
   "outputs": [
    {
     "name": "stdout",
     "output_type": "stream",
     "text": [
      "         X0        X1        X2        X3        X4         Y\n",
      "0  1.123293  0.683414 -0.943370  0.279252 -1.228577  0.679341\n",
      "1 -1.791279  0.229326  1.613555  0.214001  0.834724 -0.108406\n",
      "2  1.595942  0.033939 -1.715600  0.042124 -1.170287  1.389309\n",
      "3  0.833007  0.016532 -1.083263 -1.678507 -1.379516 -0.558724\n",
      "4 -1.740626  0.903561  0.411019  1.675463 -0.781667 -0.517006\n"
     ]
    }
   ],
   "source": [
    "X,Y = friedman1Dataset.friedman1_data(n_samples,n_features)"
   ]
  },
  {
   "cell_type": "code",
   "execution_count": 7,
   "id": "fe007438",
   "metadata": {
    "execution": {
     "iopub.execute_input": "2022-06-07T07:07:35.891246Z",
     "iopub.status.busy": "2022-06-07T07:07:35.890867Z",
     "iopub.status.idle": "2022-06-07T07:07:35.894483Z",
     "shell.execute_reply": "2022-06-07T07:07:35.894755Z"
    },
    "id": "fe007438",
    "papermill": {
     "duration": 0.01397,
     "end_time": "2022-06-07T07:07:35.894913",
     "exception": false,
     "start_time": "2022-06-07T07:07:35.880943",
     "status": "completed"
    },
    "tags": []
   },
   "outputs": [],
   "source": [
    "#Train test split for dataset \n",
    "X_train,X_test,Y_train,Y_test = train_test_split(X,Y,test_size = 0.2)\n",
    "train_data = dataset.CustomDataset(X_train,Y_train)\n",
    "test_data = dataset.CustomDataset(X_test,Y_test)\n"
   ]
  },
  {
   "cell_type": "markdown",
   "id": "a9a1af34",
   "metadata": {
    "id": "a9a1af34",
    "papermill": {
     "duration": 0.007664,
     "end_time": "2022-06-07T07:07:35.910154",
     "exception": false,
     "start_time": "2022-06-07T07:07:35.902490",
     "status": "completed"
    },
    "tags": []
   },
   "source": [
    "## Training Parameters "
   ]
  },
  {
   "cell_type": "code",
   "execution_count": 8,
   "id": "952b7fc8",
   "metadata": {
    "execution": {
     "iopub.execute_input": "2022-06-07T07:07:35.932475Z",
     "iopub.status.busy": "2022-06-07T07:07:35.932013Z",
     "iopub.status.idle": "2022-06-07T07:07:35.933084Z",
     "shell.execute_reply": "2022-06-07T07:07:35.933325Z"
    },
    "id": "952b7fc8",
    "papermill": {
     "duration": 0.015536,
     "end_time": "2022-06-07T07:07:35.933456",
     "exception": false,
     "start_time": "2022-06-07T07:07:35.917920",
     "status": "completed"
    },
    "tags": []
   },
   "outputs": [],
   "source": [
    "batch_size = 32\n",
    "n_epochs = 1000\n",
    "#Select the device \n",
    "device = torch.device('cuda' if torch.cuda.is_available() else 'cpu')"
   ]
  },
  {
   "cell_type": "markdown",
   "id": "a95e1600",
   "metadata": {
    "id": "a95e1600",
    "papermill": {
     "duration": 0.007786,
     "end_time": "2022-06-07T07:07:35.948789",
     "exception": false,
     "start_time": "2022-06-07T07:07:35.941003",
     "status": "completed"
    },
    "tags": []
   },
   "source": [
    "# ABC Pre-generator Model \n",
    "\n",
    "1. The catboost model is used as a pre-generator model for the ABC-GAN. \n",
    "2. The model is first trained on the entire dataset \n",
    "3. It generats X,Y pairs and we add some Gaussian noise with mean 0 and variance 1 to it which is then feed as input to the generator.\n"
   ]
  },
  {
   "cell_type": "code",
   "execution_count": 9,
   "id": "ff8ce7bd",
   "metadata": {
    "execution": {
     "iopub.execute_input": "2022-06-07T07:07:35.973997Z",
     "iopub.status.busy": "2022-06-07T07:07:35.973475Z",
     "iopub.status.idle": "2022-06-07T07:07:36.654328Z",
     "shell.execute_reply": "2022-06-07T07:07:36.654591Z"
    },
    "id": "ff8ce7bd",
    "papermill": {
     "duration": 0.698606,
     "end_time": "2022-06-07T07:07:36.654716",
     "exception": false,
     "start_time": "2022-06-07T07:07:35.956110",
     "status": "completed"
    },
    "tags": []
   },
   "outputs": [
    {
     "name": "stdout",
     "output_type": "stream",
     "text": [
      "Learning rate set to 0.024897\n",
      "0:\tlearn: 0.9924267\ttotal: 56.3ms\tremaining: 56.3s\n",
      "1:\tlearn: 0.9838534\ttotal: 56.9ms\tremaining: 28.4s\n",
      "2:\tlearn: 0.9750124\ttotal: 57.3ms\tremaining: 19.1s\n",
      "3:\tlearn: 0.9630944\ttotal: 57.7ms\tremaining: 14.4s\n",
      "4:\tlearn: 0.9531922\ttotal: 58.3ms\tremaining: 11.6s\n",
      "5:\tlearn: 0.9443209\ttotal: 58.8ms\tremaining: 9.74s\n",
      "6:\tlearn: 0.9341407\ttotal: 59.4ms\tremaining: 8.42s\n",
      "7:\tlearn: 0.9255877\ttotal: 59.8ms\tremaining: 7.41s\n",
      "8:\tlearn: 0.9162249\ttotal: 60.4ms\tremaining: 6.66s\n",
      "9:\tlearn: 0.9058995\ttotal: 61ms\tremaining: 6.04s\n",
      "10:\tlearn: 0.8969431\ttotal: 61.6ms\tremaining: 5.54s\n",
      "11:\tlearn: 0.8874886\ttotal: 62.2ms\tremaining: 5.12s\n",
      "12:\tlearn: 0.8783967\ttotal: 62.8ms\tremaining: 4.77s\n",
      "13:\tlearn: 0.8684688\ttotal: 63.2ms\tremaining: 4.45s\n",
      "14:\tlearn: 0.8599746\ttotal: 63.6ms\tremaining: 4.18s\n",
      "15:\tlearn: 0.8502860\ttotal: 64.3ms\tremaining: 3.95s\n",
      "16:\tlearn: 0.8426945\ttotal: 64.8ms\tremaining: 3.75s\n",
      "17:\tlearn: 0.8346760\ttotal: 65.2ms\tremaining: 3.56s\n",
      "18:\tlearn: 0.8263978\ttotal: 65.8ms\tremaining: 3.4s\n",
      "19:\tlearn: 0.8180052\ttotal: 66.4ms\tremaining: 3.25s\n",
      "20:\tlearn: 0.8117648\ttotal: 67ms\tremaining: 3.12s\n",
      "21:\tlearn: 0.8034906\ttotal: 67.6ms\tremaining: 3s\n",
      "22:\tlearn: 0.7954545\ttotal: 68.1ms\tremaining: 2.89s\n",
      "23:\tlearn: 0.7882311\ttotal: 68.5ms\tremaining: 2.79s\n",
      "24:\tlearn: 0.7793727\ttotal: 69.2ms\tremaining: 2.7s\n",
      "25:\tlearn: 0.7707166\ttotal: 69.8ms\tremaining: 2.61s\n",
      "26:\tlearn: 0.7642670\ttotal: 70.3ms\tremaining: 2.53s\n",
      "27:\tlearn: 0.7574277\ttotal: 70.8ms\tremaining: 2.46s\n",
      "28:\tlearn: 0.7505693\ttotal: 71.2ms\tremaining: 2.38s\n",
      "29:\tlearn: 0.7450704\ttotal: 71.6ms\tremaining: 2.31s\n",
      "30:\tlearn: 0.7384029\ttotal: 72ms\tremaining: 2.25s\n",
      "31:\tlearn: 0.7312905\ttotal: 72.4ms\tremaining: 2.19s\n",
      "32:\tlearn: 0.7251766\ttotal: 72.8ms\tremaining: 2.13s\n",
      "33:\tlearn: 0.7183429\ttotal: 73.1ms\tremaining: 2.08s\n",
      "34:\tlearn: 0.7117518\ttotal: 73.5ms\tremaining: 2.03s\n",
      "35:\tlearn: 0.7046972\ttotal: 74.1ms\tremaining: 1.98s\n",
      "36:\tlearn: 0.6984861\ttotal: 74.5ms\tremaining: 1.94s\n",
      "37:\tlearn: 0.6918102\ttotal: 75.2ms\tremaining: 1.9s\n",
      "38:\tlearn: 0.6862486\ttotal: 75.6ms\tremaining: 1.86s\n",
      "39:\tlearn: 0.6809988\ttotal: 76.2ms\tremaining: 1.83s\n",
      "40:\tlearn: 0.6733068\ttotal: 76.5ms\tremaining: 1.79s\n",
      "41:\tlearn: 0.6675831\ttotal: 77ms\tremaining: 1.76s\n",
      "42:\tlearn: 0.6617539\ttotal: 77.6ms\tremaining: 1.73s\n",
      "43:\tlearn: 0.6562424\ttotal: 78.8ms\tremaining: 1.71s\n",
      "44:\tlearn: 0.6509613\ttotal: 79.3ms\tremaining: 1.68s\n",
      "45:\tlearn: 0.6445094\ttotal: 79.7ms\tremaining: 1.65s\n",
      "46:\tlearn: 0.6397314\ttotal: 80.8ms\tremaining: 1.64s\n",
      "47:\tlearn: 0.6343682\ttotal: 81.4ms\tremaining: 1.61s\n",
      "48:\tlearn: 0.6300023\ttotal: 82ms\tremaining: 1.59s\n",
      "49:\tlearn: 0.6245331\ttotal: 82.5ms\tremaining: 1.57s\n",
      "50:\tlearn: 0.6188681\ttotal: 83ms\tremaining: 1.54s\n",
      "51:\tlearn: 0.6135211\ttotal: 83.5ms\tremaining: 1.52s\n",
      "52:\tlearn: 0.6086180\ttotal: 84ms\tremaining: 1.5s\n",
      "53:\tlearn: 0.6032502\ttotal: 84.7ms\tremaining: 1.48s\n",
      "54:\tlearn: 0.5987456\ttotal: 85.1ms\tremaining: 1.46s\n",
      "55:\tlearn: 0.5939193\ttotal: 85.8ms\tremaining: 1.45s\n",
      "56:\tlearn: 0.5890788\ttotal: 86.2ms\tremaining: 1.43s\n",
      "57:\tlearn: 0.5850218\ttotal: 86.6ms\tremaining: 1.41s\n",
      "58:\tlearn: 0.5795904\ttotal: 87ms\tremaining: 1.39s\n",
      "59:\tlearn: 0.5755985\ttotal: 87.4ms\tremaining: 1.37s\n",
      "60:\tlearn: 0.5715526\ttotal: 88ms\tremaining: 1.35s\n",
      "61:\tlearn: 0.5669783\ttotal: 88.5ms\tremaining: 1.34s\n",
      "62:\tlearn: 0.5619630\ttotal: 89.2ms\tremaining: 1.33s\n"
     ]
    },
    {
     "name": "stdout",
     "output_type": "stream",
     "text": [
      "63:\tlearn: 0.5584544\ttotal: 90ms\tremaining: 1.31s\n",
      "64:\tlearn: 0.5536962\ttotal: 90.7ms\tremaining: 1.3s\n",
      "65:\tlearn: 0.5492693\ttotal: 91.2ms\tremaining: 1.29s\n",
      "66:\tlearn: 0.5444996\ttotal: 91.8ms\tremaining: 1.28s\n",
      "67:\tlearn: 0.5400245\ttotal: 92.3ms\tremaining: 1.26s\n",
      "68:\tlearn: 0.5358409\ttotal: 92.7ms\tremaining: 1.25s\n",
      "69:\tlearn: 0.5321293\ttotal: 93.1ms\tremaining: 1.24s\n",
      "70:\tlearn: 0.5278438\ttotal: 93.8ms\tremaining: 1.23s\n",
      "71:\tlearn: 0.5239114\ttotal: 94.5ms\tremaining: 1.22s\n",
      "72:\tlearn: 0.5189586\ttotal: 95ms\tremaining: 1.21s\n",
      "73:\tlearn: 0.5148388\ttotal: 95.5ms\tremaining: 1.2s\n",
      "74:\tlearn: 0.5101800\ttotal: 96.2ms\tremaining: 1.19s\n",
      "75:\tlearn: 0.5061817\ttotal: 96.8ms\tremaining: 1.18s\n",
      "76:\tlearn: 0.5028286\ttotal: 97.2ms\tremaining: 1.17s\n",
      "77:\tlearn: 0.4990474\ttotal: 97.7ms\tremaining: 1.15s\n",
      "78:\tlearn: 0.4951774\ttotal: 98.2ms\tremaining: 1.15s\n",
      "79:\tlearn: 0.4914694\ttotal: 98.7ms\tremaining: 1.13s\n",
      "80:\tlearn: 0.4872907\ttotal: 99.1ms\tremaining: 1.12s\n",
      "81:\tlearn: 0.4841071\ttotal: 99.6ms\tremaining: 1.11s\n",
      "82:\tlearn: 0.4801209\ttotal: 100ms\tremaining: 1.11s\n",
      "83:\tlearn: 0.4760555\ttotal: 101ms\tremaining: 1.1s\n",
      "84:\tlearn: 0.4729210\ttotal: 101ms\tremaining: 1.09s\n",
      "85:\tlearn: 0.4690781\ttotal: 102ms\tremaining: 1.08s\n",
      "86:\tlearn: 0.4656019\ttotal: 102ms\tremaining: 1.07s\n",
      "87:\tlearn: 0.4631837\ttotal: 103ms\tremaining: 1.06s\n",
      "88:\tlearn: 0.4601791\ttotal: 103ms\tremaining: 1.05s\n",
      "89:\tlearn: 0.4569915\ttotal: 103ms\tremaining: 1.05s\n",
      "90:\tlearn: 0.4537139\ttotal: 104ms\tremaining: 1.04s\n",
      "91:\tlearn: 0.4504067\ttotal: 104ms\tremaining: 1.03s\n",
      "92:\tlearn: 0.4473929\ttotal: 105ms\tremaining: 1.02s\n",
      "93:\tlearn: 0.4442016\ttotal: 105ms\tremaining: 1.01s\n",
      "94:\tlearn: 0.4414808\ttotal: 106ms\tremaining: 1.01s\n",
      "95:\tlearn: 0.4380654\ttotal: 106ms\tremaining: 1s\n",
      "96:\tlearn: 0.4351072\ttotal: 107ms\tremaining: 994ms\n",
      "97:\tlearn: 0.4317181\ttotal: 107ms\tremaining: 988ms\n",
      "98:\tlearn: 0.4282948\ttotal: 108ms\tremaining: 981ms\n",
      "99:\tlearn: 0.4255014\ttotal: 108ms\tremaining: 976ms\n",
      "100:\tlearn: 0.4229656\ttotal: 110ms\tremaining: 978ms\n",
      "101:\tlearn: 0.4200399\ttotal: 111ms\tremaining: 975ms\n",
      "102:\tlearn: 0.4175685\ttotal: 111ms\tremaining: 970ms\n",
      "103:\tlearn: 0.4144387\ttotal: 112ms\tremaining: 965ms\n",
      "104:\tlearn: 0.4115322\ttotal: 113ms\tremaining: 960ms\n",
      "105:\tlearn: 0.4078490\ttotal: 113ms\tremaining: 955ms\n",
      "106:\tlearn: 0.4043036\ttotal: 114ms\tremaining: 949ms\n",
      "107:\tlearn: 0.4014253\ttotal: 114ms\tremaining: 943ms\n",
      "108:\tlearn: 0.3984854\ttotal: 115ms\tremaining: 937ms\n",
      "109:\tlearn: 0.3960671\ttotal: 115ms\tremaining: 931ms\n",
      "110:\tlearn: 0.3936966\ttotal: 115ms\tremaining: 925ms\n",
      "111:\tlearn: 0.3910799\ttotal: 116ms\tremaining: 919ms\n",
      "112:\tlearn: 0.3884355\ttotal: 116ms\tremaining: 914ms\n",
      "113:\tlearn: 0.3858163\ttotal: 117ms\tremaining: 909ms\n",
      "114:\tlearn: 0.3830958\ttotal: 117ms\tremaining: 904ms\n",
      "115:\tlearn: 0.3803425\ttotal: 118ms\tremaining: 898ms\n",
      "116:\tlearn: 0.3775723\ttotal: 118ms\tremaining: 893ms\n",
      "117:\tlearn: 0.3754261\ttotal: 119ms\tremaining: 887ms\n",
      "118:\tlearn: 0.3730391\ttotal: 119ms\tremaining: 882ms\n",
      "119:\tlearn: 0.3704782\ttotal: 120ms\tremaining: 877ms\n",
      "120:\tlearn: 0.3678251\ttotal: 120ms\tremaining: 872ms\n",
      "121:\tlearn: 0.3652299\ttotal: 120ms\tremaining: 867ms\n",
      "122:\tlearn: 0.3634205\ttotal: 121ms\tremaining: 862ms\n",
      "123:\tlearn: 0.3610973\ttotal: 121ms\tremaining: 857ms\n",
      "124:\tlearn: 0.3588209\ttotal: 122ms\tremaining: 853ms\n",
      "125:\tlearn: 0.3562777\ttotal: 122ms\tremaining: 848ms\n",
      "126:\tlearn: 0.3536727\ttotal: 123ms\tremaining: 842ms\n",
      "127:\tlearn: 0.3509713\ttotal: 123ms\tremaining: 838ms\n",
      "128:\tlearn: 0.3483854\ttotal: 124ms\tremaining: 835ms\n",
      "129:\tlearn: 0.3462160\ttotal: 124ms\tremaining: 832ms\n",
      "130:\tlearn: 0.3441743\ttotal: 125ms\tremaining: 829ms\n",
      "131:\tlearn: 0.3419568\ttotal: 125ms\tremaining: 824ms\n",
      "132:\tlearn: 0.3402342\ttotal: 126ms\tremaining: 821ms\n",
      "133:\tlearn: 0.3379832\ttotal: 127ms\tremaining: 818ms\n",
      "134:\tlearn: 0.3357788\ttotal: 127ms\tremaining: 815ms\n",
      "135:\tlearn: 0.3334356\ttotal: 128ms\tremaining: 812ms\n",
      "136:\tlearn: 0.3311474\ttotal: 128ms\tremaining: 808ms\n",
      "137:\tlearn: 0.3290407\ttotal: 129ms\tremaining: 803ms\n",
      "138:\tlearn: 0.3271688\ttotal: 129ms\tremaining: 799ms\n",
      "139:\tlearn: 0.3250378\ttotal: 130ms\tremaining: 796ms\n",
      "140:\tlearn: 0.3232153\ttotal: 130ms\tremaining: 792ms\n",
      "141:\tlearn: 0.3207933\ttotal: 130ms\tremaining: 788ms\n",
      "142:\tlearn: 0.3188896\ttotal: 131ms\tremaining: 785ms\n",
      "143:\tlearn: 0.3171285\ttotal: 131ms\tremaining: 781ms\n",
      "144:\tlearn: 0.3154557\ttotal: 132ms\tremaining: 778ms\n",
      "145:\tlearn: 0.3134883\ttotal: 132ms\tremaining: 774ms\n",
      "146:\tlearn: 0.3115202\ttotal: 133ms\tremaining: 771ms\n",
      "147:\tlearn: 0.3096968\ttotal: 133ms\tremaining: 767ms\n",
      "148:\tlearn: 0.3078594\ttotal: 134ms\tremaining: 764ms\n",
      "149:\tlearn: 0.3055129\ttotal: 134ms\tremaining: 760ms\n",
      "150:\tlearn: 0.3034359\ttotal: 135ms\tremaining: 758ms\n",
      "151:\tlearn: 0.3012136\ttotal: 135ms\tremaining: 755ms\n",
      "152:\tlearn: 0.2994265\ttotal: 136ms\tremaining: 752ms\n",
      "153:\tlearn: 0.2975537\ttotal: 136ms\tremaining: 749ms\n",
      "154:\tlearn: 0.2958041\ttotal: 137ms\tremaining: 746ms\n",
      "155:\tlearn: 0.2936539\ttotal: 137ms\tremaining: 743ms\n",
      "156:\tlearn: 0.2916881\ttotal: 138ms\tremaining: 740ms\n",
      "157:\tlearn: 0.2896435\ttotal: 138ms\tremaining: 737ms\n",
      "158:\tlearn: 0.2881214\ttotal: 139ms\tremaining: 735ms\n",
      "159:\tlearn: 0.2863431\ttotal: 139ms\tremaining: 732ms\n",
      "160:\tlearn: 0.2845072\ttotal: 140ms\tremaining: 729ms\n",
      "161:\tlearn: 0.2825922\ttotal: 140ms\tremaining: 727ms\n",
      "162:\tlearn: 0.2811614\ttotal: 141ms\tremaining: 724ms\n",
      "163:\tlearn: 0.2791223\ttotal: 142ms\tremaining: 721ms\n",
      "164:\tlearn: 0.2775579\ttotal: 142ms\tremaining: 719ms\n",
      "165:\tlearn: 0.2754770\ttotal: 143ms\tremaining: 716ms\n",
      "166:\tlearn: 0.2740228\ttotal: 143ms\tremaining: 714ms\n",
      "167:\tlearn: 0.2717000\ttotal: 144ms\tremaining: 712ms\n",
      "168:\tlearn: 0.2698356\ttotal: 144ms\tremaining: 709ms\n",
      "169:\tlearn: 0.2678765\ttotal: 145ms\tremaining: 706ms\n",
      "170:\tlearn: 0.2661367\ttotal: 145ms\tremaining: 703ms\n",
      "171:\tlearn: 0.2645000\ttotal: 146ms\tremaining: 701ms\n",
      "172:\tlearn: 0.2631505\ttotal: 146ms\tremaining: 698ms\n",
      "173:\tlearn: 0.2612694\ttotal: 147ms\tremaining: 696ms\n",
      "174:\tlearn: 0.2594766\ttotal: 147ms\tremaining: 694ms\n",
      "175:\tlearn: 0.2571689\ttotal: 148ms\tremaining: 692ms\n",
      "176:\tlearn: 0.2555471\ttotal: 148ms\tremaining: 689ms\n",
      "177:\tlearn: 0.2543432\ttotal: 149ms\tremaining: 686ms\n",
      "178:\tlearn: 0.2525932\ttotal: 149ms\tremaining: 684ms\n",
      "179:\tlearn: 0.2502704\ttotal: 150ms\tremaining: 682ms\n",
      "180:\tlearn: 0.2489146\ttotal: 150ms\tremaining: 679ms\n",
      "181:\tlearn: 0.2469477\ttotal: 151ms\tremaining: 677ms\n",
      "182:\tlearn: 0.2453132\ttotal: 151ms\tremaining: 674ms\n",
      "183:\tlearn: 0.2435549\ttotal: 151ms\tremaining: 671ms\n",
      "184:\tlearn: 0.2420758\ttotal: 152ms\tremaining: 668ms\n",
      "185:\tlearn: 0.2406514\ttotal: 152ms\tremaining: 666ms\n",
      "186:\tlearn: 0.2394278\ttotal: 152ms\tremaining: 663ms\n",
      "187:\tlearn: 0.2379224\ttotal: 153ms\tremaining: 660ms\n",
      "188:\tlearn: 0.2360314\ttotal: 153ms\tremaining: 658ms\n",
      "189:\tlearn: 0.2344220\ttotal: 154ms\tremaining: 657ms\n",
      "190:\tlearn: 0.2330258\ttotal: 154ms\tremaining: 654ms\n",
      "191:\tlearn: 0.2315442\ttotal: 155ms\tremaining: 653ms\n",
      "192:\tlearn: 0.2298934\ttotal: 156ms\tremaining: 651ms\n",
      "193:\tlearn: 0.2284990\ttotal: 156ms\tremaining: 649ms\n",
      "194:\tlearn: 0.2269091\ttotal: 157ms\tremaining: 647ms\n",
      "195:\tlearn: 0.2253018\ttotal: 157ms\tremaining: 645ms\n",
      "196:\tlearn: 0.2240227\ttotal: 158ms\tremaining: 643ms\n",
      "197:\tlearn: 0.2224875\ttotal: 158ms\tremaining: 642ms\n",
      "198:\tlearn: 0.2206324\ttotal: 159ms\tremaining: 640ms\n",
      "199:\tlearn: 0.2194392\ttotal: 159ms\tremaining: 638ms\n",
      "200:\tlearn: 0.2180259\ttotal: 160ms\tremaining: 635ms\n",
      "201:\tlearn: 0.2161589\ttotal: 160ms\tremaining: 633ms\n",
      "202:\tlearn: 0.2145612\ttotal: 161ms\tremaining: 631ms\n",
      "203:\tlearn: 0.2131408\ttotal: 161ms\tremaining: 629ms\n",
      "204:\tlearn: 0.2114873\ttotal: 162ms\tremaining: 627ms\n",
      "205:\tlearn: 0.2097395\ttotal: 162ms\tremaining: 625ms\n",
      "206:\tlearn: 0.2081933\ttotal: 163ms\tremaining: 623ms\n",
      "207:\tlearn: 0.2070007\ttotal: 163ms\tremaining: 622ms\n",
      "208:\tlearn: 0.2061284\ttotal: 164ms\tremaining: 620ms\n",
      "209:\tlearn: 0.2047695\ttotal: 164ms\tremaining: 618ms\n",
      "210:\tlearn: 0.2033738\ttotal: 165ms\tremaining: 616ms\n",
      "211:\tlearn: 0.2021235\ttotal: 165ms\tremaining: 615ms\n",
      "212:\tlearn: 0.2006160\ttotal: 166ms\tremaining: 613ms\n",
      "213:\tlearn: 0.1992963\ttotal: 166ms\tremaining: 611ms\n",
      "214:\tlearn: 0.1977040\ttotal: 167ms\tremaining: 610ms\n",
      "215:\tlearn: 0.1964929\ttotal: 167ms\tremaining: 607ms\n",
      "216:\tlearn: 0.1949813\ttotal: 168ms\tremaining: 606ms\n",
      "217:\tlearn: 0.1936415\ttotal: 168ms\tremaining: 604ms\n",
      "218:\tlearn: 0.1923978\ttotal: 169ms\tremaining: 601ms\n",
      "219:\tlearn: 0.1910943\ttotal: 169ms\tremaining: 599ms\n",
      "220:\tlearn: 0.1898321\ttotal: 171ms\tremaining: 602ms\n",
      "221:\tlearn: 0.1884184\ttotal: 171ms\tremaining: 601ms\n",
      "222:\tlearn: 0.1871466\ttotal: 172ms\tremaining: 600ms\n",
      "223:\tlearn: 0.1858231\ttotal: 173ms\tremaining: 598ms\n",
      "224:\tlearn: 0.1844530\ttotal: 173ms\tremaining: 596ms\n",
      "225:\tlearn: 0.1831411\ttotal: 174ms\tremaining: 594ms\n",
      "226:\tlearn: 0.1817759\ttotal: 174ms\tremaining: 592ms\n",
      "227:\tlearn: 0.1807855\ttotal: 174ms\tremaining: 591ms\n",
      "228:\tlearn: 0.1797495\ttotal: 175ms\tremaining: 589ms\n",
      "229:\tlearn: 0.1785255\ttotal: 175ms\tremaining: 587ms\n",
      "230:\tlearn: 0.1772690\ttotal: 176ms\tremaining: 585ms\n",
      "231:\tlearn: 0.1761348\ttotal: 176ms\tremaining: 583ms\n",
      "232:\tlearn: 0.1748411\ttotal: 177ms\tremaining: 583ms\n",
      "233:\tlearn: 0.1738123\ttotal: 178ms\tremaining: 581ms\n",
      "234:\tlearn: 0.1728695\ttotal: 178ms\tremaining: 579ms\n",
      "235:\tlearn: 0.1715152\ttotal: 179ms\tremaining: 578ms\n",
      "236:\tlearn: 0.1705213\ttotal: 179ms\tremaining: 577ms\n",
      "237:\tlearn: 0.1693780\ttotal: 180ms\tremaining: 575ms\n",
      "238:\tlearn: 0.1681562\ttotal: 180ms\tremaining: 573ms\n",
      "239:\tlearn: 0.1671885\ttotal: 181ms\tremaining: 572ms\n",
      "240:\tlearn: 0.1661170\ttotal: 181ms\tremaining: 571ms\n",
      "241:\tlearn: 0.1647823\ttotal: 182ms\tremaining: 570ms\n",
      "242:\tlearn: 0.1636846\ttotal: 182ms\tremaining: 568ms\n",
      "243:\tlearn: 0.1627384\ttotal: 183ms\tremaining: 567ms\n",
      "244:\tlearn: 0.1614045\ttotal: 183ms\tremaining: 565ms\n"
     ]
    },
    {
     "name": "stdout",
     "output_type": "stream",
     "text": [
      "245:\tlearn: 0.1601506\ttotal: 184ms\tremaining: 564ms\n",
      "246:\tlearn: 0.1591749\ttotal: 185ms\tremaining: 564ms\n",
      "247:\tlearn: 0.1582556\ttotal: 186ms\tremaining: 563ms\n",
      "248:\tlearn: 0.1572967\ttotal: 186ms\tremaining: 562ms\n",
      "249:\tlearn: 0.1561810\ttotal: 187ms\tremaining: 560ms\n",
      "250:\tlearn: 0.1550818\ttotal: 187ms\tremaining: 559ms\n",
      "251:\tlearn: 0.1541359\ttotal: 188ms\tremaining: 558ms\n",
      "252:\tlearn: 0.1532512\ttotal: 188ms\tremaining: 556ms\n",
      "253:\tlearn: 0.1522291\ttotal: 189ms\tremaining: 555ms\n",
      "254:\tlearn: 0.1511618\ttotal: 189ms\tremaining: 553ms\n",
      "255:\tlearn: 0.1503816\ttotal: 190ms\tremaining: 552ms\n",
      "256:\tlearn: 0.1494416\ttotal: 190ms\tremaining: 550ms\n",
      "257:\tlearn: 0.1483234\ttotal: 191ms\tremaining: 549ms\n",
      "258:\tlearn: 0.1472448\ttotal: 191ms\tremaining: 548ms\n",
      "259:\tlearn: 0.1461995\ttotal: 192ms\tremaining: 546ms\n",
      "260:\tlearn: 0.1451983\ttotal: 192ms\tremaining: 544ms\n",
      "261:\tlearn: 0.1443560\ttotal: 193ms\tremaining: 543ms\n",
      "262:\tlearn: 0.1433483\ttotal: 193ms\tremaining: 541ms\n",
      "263:\tlearn: 0.1424179\ttotal: 194ms\tremaining: 540ms\n",
      "264:\tlearn: 0.1416737\ttotal: 194ms\tremaining: 538ms\n",
      "265:\tlearn: 0.1406238\ttotal: 194ms\tremaining: 536ms\n",
      "266:\tlearn: 0.1397126\ttotal: 195ms\tremaining: 535ms\n",
      "267:\tlearn: 0.1388527\ttotal: 195ms\tremaining: 534ms\n",
      "268:\tlearn: 0.1380194\ttotal: 196ms\tremaining: 532ms\n",
      "269:\tlearn: 0.1370084\ttotal: 196ms\tremaining: 531ms\n",
      "270:\tlearn: 0.1358751\ttotal: 197ms\tremaining: 529ms\n",
      "271:\tlearn: 0.1349072\ttotal: 197ms\tremaining: 528ms\n",
      "272:\tlearn: 0.1340348\ttotal: 198ms\tremaining: 526ms\n",
      "273:\tlearn: 0.1332153\ttotal: 198ms\tremaining: 525ms\n",
      "274:\tlearn: 0.1324074\ttotal: 199ms\tremaining: 524ms\n",
      "275:\tlearn: 0.1314553\ttotal: 199ms\tremaining: 522ms\n",
      "276:\tlearn: 0.1305185\ttotal: 199ms\tremaining: 521ms\n",
      "277:\tlearn: 0.1296870\ttotal: 200ms\tremaining: 519ms\n",
      "278:\tlearn: 0.1288021\ttotal: 203ms\tremaining: 525ms\n",
      "279:\tlearn: 0.1278929\ttotal: 204ms\tremaining: 524ms\n",
      "280:\tlearn: 0.1269377\ttotal: 204ms\tremaining: 523ms\n",
      "281:\tlearn: 0.1261478\ttotal: 206ms\tremaining: 524ms\n",
      "282:\tlearn: 0.1252212\ttotal: 206ms\tremaining: 523ms\n",
      "283:\tlearn: 0.1244930\ttotal: 207ms\tremaining: 521ms\n",
      "284:\tlearn: 0.1236948\ttotal: 207ms\tremaining: 520ms\n",
      "285:\tlearn: 0.1227287\ttotal: 208ms\tremaining: 519ms\n",
      "286:\tlearn: 0.1219440\ttotal: 208ms\tremaining: 518ms\n",
      "287:\tlearn: 0.1210859\ttotal: 209ms\tremaining: 517ms\n",
      "288:\tlearn: 0.1203762\ttotal: 209ms\tremaining: 515ms\n",
      "289:\tlearn: 0.1195796\ttotal: 210ms\tremaining: 514ms\n",
      "290:\tlearn: 0.1187139\ttotal: 210ms\tremaining: 512ms\n",
      "291:\tlearn: 0.1179745\ttotal: 211ms\tremaining: 511ms\n",
      "292:\tlearn: 0.1171581\ttotal: 211ms\tremaining: 510ms\n",
      "293:\tlearn: 0.1167092\ttotal: 212ms\tremaining: 508ms\n",
      "294:\tlearn: 0.1159434\ttotal: 212ms\tremaining: 508ms\n",
      "295:\tlearn: 0.1151932\ttotal: 213ms\tremaining: 507ms\n",
      "296:\tlearn: 0.1148212\ttotal: 214ms\tremaining: 506ms\n",
      "297:\tlearn: 0.1140119\ttotal: 214ms\tremaining: 504ms\n",
      "298:\tlearn: 0.1133277\ttotal: 215ms\tremaining: 503ms\n",
      "299:\tlearn: 0.1125583\ttotal: 215ms\tremaining: 502ms\n",
      "300:\tlearn: 0.1118409\ttotal: 216ms\tremaining: 502ms\n",
      "301:\tlearn: 0.1111318\ttotal: 217ms\tremaining: 501ms\n",
      "302:\tlearn: 0.1103592\ttotal: 217ms\tremaining: 500ms\n",
      "303:\tlearn: 0.1096411\ttotal: 218ms\tremaining: 498ms\n",
      "304:\tlearn: 0.1090810\ttotal: 218ms\tremaining: 497ms\n",
      "305:\tlearn: 0.1087323\ttotal: 219ms\tremaining: 496ms\n",
      "306:\tlearn: 0.1080284\ttotal: 219ms\tremaining: 495ms\n",
      "307:\tlearn: 0.1072237\ttotal: 220ms\tremaining: 493ms\n",
      "308:\tlearn: 0.1065588\ttotal: 220ms\tremaining: 492ms\n",
      "309:\tlearn: 0.1061979\ttotal: 220ms\tremaining: 490ms\n",
      "310:\tlearn: 0.1055104\ttotal: 221ms\tremaining: 489ms\n",
      "311:\tlearn: 0.1047414\ttotal: 221ms\tremaining: 488ms\n",
      "312:\tlearn: 0.1041460\ttotal: 222ms\tremaining: 487ms\n",
      "313:\tlearn: 0.1038391\ttotal: 222ms\tremaining: 486ms\n",
      "314:\tlearn: 0.1031599\ttotal: 223ms\tremaining: 485ms\n",
      "315:\tlearn: 0.1025821\ttotal: 223ms\tremaining: 484ms\n",
      "316:\tlearn: 0.1022839\ttotal: 224ms\tremaining: 482ms\n",
      "317:\tlearn: 0.1019911\ttotal: 225ms\tremaining: 482ms\n",
      "318:\tlearn: 0.1016855\ttotal: 225ms\tremaining: 480ms\n",
      "319:\tlearn: 0.1014795\ttotal: 225ms\tremaining: 479ms\n",
      "320:\tlearn: 0.1012598\ttotal: 226ms\tremaining: 478ms\n",
      "321:\tlearn: 0.1006883\ttotal: 226ms\tremaining: 476ms\n",
      "322:\tlearn: 0.0999587\ttotal: 227ms\tremaining: 475ms\n",
      "323:\tlearn: 0.0996837\ttotal: 227ms\tremaining: 474ms\n",
      "324:\tlearn: 0.0990776\ttotal: 228ms\tremaining: 473ms\n",
      "325:\tlearn: 0.0983816\ttotal: 228ms\tremaining: 472ms\n",
      "326:\tlearn: 0.0976889\ttotal: 229ms\tremaining: 471ms\n",
      "327:\tlearn: 0.0970899\ttotal: 229ms\tremaining: 470ms\n",
      "328:\tlearn: 0.0964165\ttotal: 232ms\tremaining: 474ms\n",
      "329:\tlearn: 0.0962245\ttotal: 233ms\tremaining: 473ms\n",
      "330:\tlearn: 0.0960349\ttotal: 234ms\tremaining: 473ms\n",
      "331:\tlearn: 0.0952144\ttotal: 234ms\tremaining: 472ms\n",
      "332:\tlearn: 0.0945610\ttotal: 235ms\tremaining: 471ms\n",
      "333:\tlearn: 0.0943765\ttotal: 235ms\tremaining: 469ms\n",
      "334:\tlearn: 0.0937286\ttotal: 236ms\tremaining: 468ms\n",
      "335:\tlearn: 0.0934173\ttotal: 236ms\tremaining: 467ms\n",
      "336:\tlearn: 0.0932380\ttotal: 237ms\tremaining: 466ms\n",
      "337:\tlearn: 0.0929880\ttotal: 237ms\tremaining: 465ms\n",
      "338:\tlearn: 0.0924337\ttotal: 238ms\tremaining: 464ms\n",
      "339:\tlearn: 0.0921564\ttotal: 238ms\tremaining: 463ms\n",
      "340:\tlearn: 0.0913898\ttotal: 239ms\tremaining: 461ms\n",
      "341:\tlearn: 0.0906488\ttotal: 239ms\tremaining: 460ms\n",
      "342:\tlearn: 0.0904788\ttotal: 239ms\tremaining: 459ms\n",
      "343:\tlearn: 0.0898576\ttotal: 240ms\tremaining: 457ms\n",
      "344:\tlearn: 0.0892556\ttotal: 240ms\tremaining: 456ms\n",
      "345:\tlearn: 0.0890187\ttotal: 241ms\tremaining: 455ms\n",
      "346:\tlearn: 0.0883181\ttotal: 241ms\tremaining: 454ms\n",
      "347:\tlearn: 0.0878132\ttotal: 242ms\tremaining: 453ms\n",
      "348:\tlearn: 0.0871223\ttotal: 242ms\tremaining: 452ms\n",
      "349:\tlearn: 0.0865267\ttotal: 243ms\tremaining: 451ms\n",
      "350:\tlearn: 0.0863667\ttotal: 243ms\tremaining: 450ms\n",
      "351:\tlearn: 0.0862088\ttotal: 244ms\tremaining: 449ms\n",
      "352:\tlearn: 0.0855851\ttotal: 245ms\tremaining: 448ms\n",
      "353:\tlearn: 0.0850029\ttotal: 245ms\tremaining: 448ms\n",
      "354:\tlearn: 0.0848487\ttotal: 246ms\tremaining: 447ms\n",
      "355:\tlearn: 0.0841814\ttotal: 246ms\tremaining: 446ms\n",
      "356:\tlearn: 0.0836437\ttotal: 247ms\tremaining: 445ms\n",
      "357:\tlearn: 0.0834801\ttotal: 247ms\tremaining: 444ms\n",
      "358:\tlearn: 0.0833324\ttotal: 248ms\tremaining: 443ms\n",
      "359:\tlearn: 0.0830928\ttotal: 248ms\tremaining: 441ms\n",
      "360:\tlearn: 0.0825711\ttotal: 249ms\tremaining: 440ms\n",
      "361:\tlearn: 0.0819799\ttotal: 249ms\tremaining: 439ms\n",
      "362:\tlearn: 0.0815049\ttotal: 250ms\tremaining: 438ms\n",
      "363:\tlearn: 0.0813631\ttotal: 250ms\tremaining: 437ms\n",
      "364:\tlearn: 0.0809161\ttotal: 250ms\tremaining: 436ms\n",
      "365:\tlearn: 0.0804008\ttotal: 251ms\tremaining: 435ms\n",
      "366:\tlearn: 0.0798330\ttotal: 251ms\tremaining: 434ms\n",
      "367:\tlearn: 0.0796957\ttotal: 252ms\tremaining: 433ms\n",
      "368:\tlearn: 0.0791939\ttotal: 252ms\tremaining: 432ms\n",
      "369:\tlearn: 0.0786804\ttotal: 253ms\tremaining: 431ms\n",
      "370:\tlearn: 0.0780504\ttotal: 253ms\tremaining: 430ms\n",
      "371:\tlearn: 0.0779177\ttotal: 254ms\tremaining: 429ms\n",
      "372:\tlearn: 0.0774199\ttotal: 254ms\tremaining: 428ms\n",
      "373:\tlearn: 0.0769462\ttotal: 255ms\tremaining: 427ms\n",
      "374:\tlearn: 0.0763462\ttotal: 255ms\tremaining: 426ms\n",
      "375:\tlearn: 0.0762175\ttotal: 256ms\tremaining: 425ms\n",
      "376:\tlearn: 0.0760767\ttotal: 256ms\tremaining: 424ms\n",
      "377:\tlearn: 0.0755684\ttotal: 257ms\tremaining: 423ms\n",
      "378:\tlearn: 0.0750713\ttotal: 257ms\tremaining: 422ms\n",
      "379:\tlearn: 0.0746174\ttotal: 258ms\tremaining: 421ms\n",
      "380:\tlearn: 0.0741536\ttotal: 258ms\tremaining: 419ms\n",
      "381:\tlearn: 0.0740311\ttotal: 259ms\tremaining: 419ms\n",
      "382:\tlearn: 0.0734614\ttotal: 260ms\tremaining: 418ms\n",
      "383:\tlearn: 0.0730267\ttotal: 260ms\tremaining: 418ms\n",
      "384:\tlearn: 0.0724721\ttotal: 261ms\tremaining: 417ms\n",
      "385:\tlearn: 0.0720650\ttotal: 262ms\tremaining: 416ms\n",
      "386:\tlearn: 0.0716757\ttotal: 262ms\tremaining: 415ms\n",
      "387:\tlearn: 0.0712935\ttotal: 263ms\tremaining: 414ms\n",
      "388:\tlearn: 0.0711647\ttotal: 263ms\tremaining: 413ms\n",
      "389:\tlearn: 0.0706288\ttotal: 264ms\tremaining: 412ms\n",
      "390:\tlearn: 0.0702357\ttotal: 264ms\tremaining: 411ms\n",
      "391:\tlearn: 0.0698671\ttotal: 265ms\tremaining: 410ms\n",
      "392:\tlearn: 0.0695033\ttotal: 265ms\tremaining: 410ms\n",
      "393:\tlearn: 0.0689919\ttotal: 266ms\tremaining: 409ms\n",
      "394:\tlearn: 0.0686025\ttotal: 266ms\tremaining: 407ms\n",
      "395:\tlearn: 0.0682519\ttotal: 266ms\tremaining: 406ms\n",
      "396:\tlearn: 0.0679119\ttotal: 267ms\tremaining: 406ms\n",
      "397:\tlearn: 0.0675731\ttotal: 268ms\tremaining: 405ms\n",
      "398:\tlearn: 0.0672146\ttotal: 268ms\tremaining: 404ms\n",
      "399:\tlearn: 0.0668633\ttotal: 269ms\tremaining: 403ms\n",
      "400:\tlearn: 0.0665361\ttotal: 270ms\tremaining: 403ms\n"
     ]
    },
    {
     "name": "stdout",
     "output_type": "stream",
     "text": [
      "401:\tlearn: 0.0660578\ttotal: 271ms\tremaining: 403ms\n",
      "402:\tlearn: 0.0655772\ttotal: 272ms\tremaining: 403ms\n",
      "403:\tlearn: 0.0652608\ttotal: 272ms\tremaining: 402ms\n",
      "404:\tlearn: 0.0649511\ttotal: 273ms\tremaining: 401ms\n",
      "405:\tlearn: 0.0646371\ttotal: 273ms\tremaining: 400ms\n",
      "406:\tlearn: 0.0643288\ttotal: 274ms\tremaining: 399ms\n",
      "407:\tlearn: 0.0640035\ttotal: 275ms\tremaining: 398ms\n",
      "408:\tlearn: 0.0634748\ttotal: 275ms\tremaining: 398ms\n",
      "409:\tlearn: 0.0631427\ttotal: 276ms\tremaining: 397ms\n",
      "410:\tlearn: 0.0628489\ttotal: 277ms\tremaining: 396ms\n",
      "411:\tlearn: 0.0625561\ttotal: 277ms\tremaining: 395ms\n",
      "412:\tlearn: 0.0620823\ttotal: 277ms\tremaining: 394ms\n",
      "413:\tlearn: 0.0617671\ttotal: 278ms\tremaining: 394ms\n",
      "414:\tlearn: 0.0614828\ttotal: 279ms\tremaining: 393ms\n",
      "415:\tlearn: 0.0610229\ttotal: 279ms\tremaining: 392ms\n",
      "416:\tlearn: 0.0607041\ttotal: 280ms\tremaining: 391ms\n",
      "417:\tlearn: 0.0604030\ttotal: 280ms\tremaining: 390ms\n",
      "418:\tlearn: 0.0601046\ttotal: 281ms\tremaining: 389ms\n",
      "419:\tlearn: 0.0596598\ttotal: 281ms\tremaining: 388ms\n",
      "420:\tlearn: 0.0593891\ttotal: 281ms\tremaining: 387ms\n",
      "421:\tlearn: 0.0589546\ttotal: 282ms\tremaining: 386ms\n",
      "422:\tlearn: 0.0587086\ttotal: 283ms\tremaining: 385ms\n",
      "423:\tlearn: 0.0582835\ttotal: 283ms\tremaining: 385ms\n",
      "424:\tlearn: 0.0580191\ttotal: 283ms\tremaining: 383ms\n",
      "425:\tlearn: 0.0577265\ttotal: 284ms\tremaining: 383ms\n",
      "426:\tlearn: 0.0574441\ttotal: 284ms\tremaining: 382ms\n",
      "427:\tlearn: 0.0569565\ttotal: 285ms\tremaining: 381ms\n",
      "428:\tlearn: 0.0566909\ttotal: 285ms\tremaining: 380ms\n",
      "429:\tlearn: 0.0562163\ttotal: 286ms\tremaining: 379ms\n",
      "430:\tlearn: 0.0559945\ttotal: 287ms\tremaining: 378ms\n",
      "431:\tlearn: 0.0557392\ttotal: 287ms\tremaining: 377ms\n",
      "432:\tlearn: 0.0553148\ttotal: 288ms\tremaining: 377ms\n",
      "433:\tlearn: 0.0550636\ttotal: 288ms\tremaining: 376ms\n",
      "434:\tlearn: 0.0546487\ttotal: 289ms\tremaining: 376ms\n",
      "435:\tlearn: 0.0542019\ttotal: 290ms\tremaining: 375ms\n",
      "436:\tlearn: 0.0539654\ttotal: 291ms\tremaining: 375ms\n",
      "437:\tlearn: 0.0537450\ttotal: 292ms\tremaining: 374ms\n",
      "438:\tlearn: 0.0535290\ttotal: 292ms\tremaining: 374ms\n",
      "439:\tlearn: 0.0531308\ttotal: 293ms\tremaining: 373ms\n",
      "440:\tlearn: 0.0527395\ttotal: 293ms\tremaining: 372ms\n",
      "441:\tlearn: 0.0525294\ttotal: 294ms\tremaining: 371ms\n",
      "442:\tlearn: 0.0521457\ttotal: 294ms\tremaining: 370ms\n",
      "443:\tlearn: 0.0517687\ttotal: 294ms\tremaining: 369ms\n",
      "444:\tlearn: 0.0515643\ttotal: 295ms\tremaining: 368ms\n",
      "445:\tlearn: 0.0511946\ttotal: 295ms\tremaining: 367ms\n",
      "446:\tlearn: 0.0507890\ttotal: 296ms\tremaining: 366ms\n",
      "447:\tlearn: 0.0505917\ttotal: 296ms\tremaining: 365ms\n",
      "448:\tlearn: 0.0502345\ttotal: 297ms\tremaining: 364ms\n",
      "449:\tlearn: 0.0500256\ttotal: 297ms\tremaining: 363ms\n",
      "450:\tlearn: 0.0496354\ttotal: 298ms\tremaining: 362ms\n",
      "451:\tlearn: 0.0494428\ttotal: 298ms\tremaining: 361ms\n",
      "452:\tlearn: 0.0490985\ttotal: 299ms\tremaining: 360ms\n",
      "453:\tlearn: 0.0487602\ttotal: 299ms\tremaining: 359ms\n",
      "454:\tlearn: 0.0485670\ttotal: 299ms\tremaining: 358ms\n",
      "455:\tlearn: 0.0482453\ttotal: 300ms\tremaining: 357ms\n",
      "456:\tlearn: 0.0480341\ttotal: 300ms\tremaining: 357ms\n",
      "457:\tlearn: 0.0477189\ttotal: 301ms\tremaining: 356ms\n",
      "458:\tlearn: 0.0475107\ttotal: 301ms\tremaining: 355ms\n",
      "459:\tlearn: 0.0473290\ttotal: 302ms\tremaining: 354ms\n",
      "460:\tlearn: 0.0471507\ttotal: 302ms\tremaining: 353ms\n",
      "461:\tlearn: 0.0468261\ttotal: 303ms\tremaining: 352ms\n",
      "462:\tlearn: 0.0466524\ttotal: 303ms\tremaining: 352ms\n",
      "463:\tlearn: 0.0464529\ttotal: 304ms\tremaining: 351ms\n",
      "464:\tlearn: 0.0461004\ttotal: 304ms\tremaining: 350ms\n",
      "465:\tlearn: 0.0459086\ttotal: 305ms\tremaining: 349ms\n",
      "466:\tlearn: 0.0455517\ttotal: 305ms\tremaining: 348ms\n",
      "467:\tlearn: 0.0453186\ttotal: 306ms\tremaining: 348ms\n",
      "468:\tlearn: 0.0451327\ttotal: 307ms\tremaining: 347ms\n",
      "469:\tlearn: 0.0449508\ttotal: 307ms\tremaining: 346ms\n",
      "470:\tlearn: 0.0446484\ttotal: 308ms\tremaining: 345ms\n",
      "471:\tlearn: 0.0444816\ttotal: 308ms\tremaining: 345ms\n",
      "472:\tlearn: 0.0442172\ttotal: 308ms\tremaining: 344ms\n",
      "473:\tlearn: 0.0440330\ttotal: 309ms\tremaining: 343ms\n",
      "474:\tlearn: 0.0437412\ttotal: 309ms\tremaining: 342ms\n",
      "475:\tlearn: 0.0435070\ttotal: 310ms\tremaining: 341ms\n",
      "476:\tlearn: 0.0433165\ttotal: 311ms\tremaining: 341ms\n",
      "477:\tlearn: 0.0431034\ttotal: 311ms\tremaining: 340ms\n",
      "478:\tlearn: 0.0429077\ttotal: 312ms\tremaining: 339ms\n",
      "479:\tlearn: 0.0427317\ttotal: 312ms\tremaining: 338ms\n",
      "480:\tlearn: 0.0425505\ttotal: 313ms\tremaining: 337ms\n",
      "481:\tlearn: 0.0424004\ttotal: 313ms\tremaining: 336ms\n",
      "482:\tlearn: 0.0420907\ttotal: 314ms\tremaining: 336ms\n",
      "483:\tlearn: 0.0418760\ttotal: 314ms\tremaining: 335ms\n",
      "484:\tlearn: 0.0416663\ttotal: 315ms\tremaining: 334ms\n",
      "485:\tlearn: 0.0414994\ttotal: 315ms\tremaining: 333ms\n",
      "486:\tlearn: 0.0413195\ttotal: 316ms\tremaining: 332ms\n",
      "487:\tlearn: 0.0411398\ttotal: 316ms\tremaining: 332ms\n",
      "488:\tlearn: 0.0408205\ttotal: 317ms\tremaining: 331ms\n",
      "489:\tlearn: 0.0406587\ttotal: 317ms\tremaining: 330ms\n",
      "490:\tlearn: 0.0404536\ttotal: 318ms\tremaining: 329ms\n",
      "491:\tlearn: 0.0402910\ttotal: 318ms\tremaining: 329ms\n",
      "492:\tlearn: 0.0400655\ttotal: 321ms\tremaining: 330ms\n",
      "493:\tlearn: 0.0398575\ttotal: 322ms\tremaining: 329ms\n",
      "494:\tlearn: 0.0396387\ttotal: 322ms\tremaining: 329ms\n",
      "495:\tlearn: 0.0393575\ttotal: 323ms\tremaining: 328ms\n",
      "496:\tlearn: 0.0391527\ttotal: 323ms\tremaining: 327ms\n",
      "497:\tlearn: 0.0388844\ttotal: 323ms\tremaining: 326ms\n",
      "498:\tlearn: 0.0386462\ttotal: 324ms\tremaining: 325ms\n",
      "499:\tlearn: 0.0383862\ttotal: 324ms\tremaining: 324ms\n",
      "500:\tlearn: 0.0381181\ttotal: 325ms\tremaining: 323ms\n",
      "501:\tlearn: 0.0378674\ttotal: 325ms\tremaining: 323ms\n",
      "502:\tlearn: 0.0376352\ttotal: 326ms\tremaining: 322ms\n",
      "503:\tlearn: 0.0373925\ttotal: 326ms\tremaining: 321ms\n",
      "504:\tlearn: 0.0371559\ttotal: 327ms\tremaining: 320ms\n",
      "505:\tlearn: 0.0369632\ttotal: 327ms\tremaining: 320ms\n",
      "506:\tlearn: 0.0367451\ttotal: 328ms\tremaining: 319ms\n",
      "507:\tlearn: 0.0365172\ttotal: 328ms\tremaining: 318ms\n",
      "508:\tlearn: 0.0363038\ttotal: 329ms\tremaining: 317ms\n",
      "509:\tlearn: 0.0361375\ttotal: 329ms\tremaining: 316ms\n",
      "510:\tlearn: 0.0358923\ttotal: 330ms\tremaining: 316ms\n",
      "511:\tlearn: 0.0356844\ttotal: 330ms\tremaining: 315ms\n",
      "512:\tlearn: 0.0355232\ttotal: 331ms\tremaining: 314ms\n",
      "513:\tlearn: 0.0353124\ttotal: 332ms\tremaining: 313ms\n",
      "514:\tlearn: 0.0350995\ttotal: 332ms\tremaining: 313ms\n",
      "515:\tlearn: 0.0349443\ttotal: 333ms\tremaining: 312ms\n",
      "516:\tlearn: 0.0347107\ttotal: 333ms\tremaining: 311ms\n",
      "517:\tlearn: 0.0345165\ttotal: 334ms\tremaining: 311ms\n",
      "518:\tlearn: 0.0343660\ttotal: 334ms\tremaining: 310ms\n",
      "519:\tlearn: 0.0341709\ttotal: 335ms\tremaining: 309ms\n",
      "520:\tlearn: 0.0339706\ttotal: 336ms\tremaining: 309ms\n",
      "521:\tlearn: 0.0337694\ttotal: 336ms\tremaining: 308ms\n",
      "522:\tlearn: 0.0336078\ttotal: 337ms\tremaining: 307ms\n",
      "523:\tlearn: 0.0333887\ttotal: 337ms\tremaining: 307ms\n",
      "524:\tlearn: 0.0331939\ttotal: 338ms\tremaining: 306ms\n",
      "525:\tlearn: 0.0330510\ttotal: 339ms\tremaining: 305ms\n",
      "526:\tlearn: 0.0328976\ttotal: 339ms\tremaining: 304ms\n",
      "527:\tlearn: 0.0327078\ttotal: 340ms\tremaining: 304ms\n",
      "528:\tlearn: 0.0325457\ttotal: 340ms\tremaining: 303ms\n",
      "529:\tlearn: 0.0323931\ttotal: 341ms\tremaining: 302ms\n",
      "530:\tlearn: 0.0321703\ttotal: 341ms\tremaining: 301ms\n",
      "531:\tlearn: 0.0319511\ttotal: 342ms\tremaining: 300ms\n",
      "532:\tlearn: 0.0317972\ttotal: 342ms\tremaining: 300ms\n",
      "533:\tlearn: 0.0316434\ttotal: 343ms\tremaining: 299ms\n",
      "534:\tlearn: 0.0314302\ttotal: 343ms\tremaining: 298ms\n",
      "535:\tlearn: 0.0313001\ttotal: 344ms\tremaining: 298ms\n",
      "536:\tlearn: 0.0310911\ttotal: 345ms\tremaining: 297ms\n",
      "537:\tlearn: 0.0308856\ttotal: 345ms\tremaining: 296ms\n",
      "538:\tlearn: 0.0307406\ttotal: 346ms\tremaining: 296ms\n",
      "539:\tlearn: 0.0305394\ttotal: 346ms\tremaining: 295ms\n",
      "540:\tlearn: 0.0303415\ttotal: 347ms\tremaining: 294ms\n",
      "541:\tlearn: 0.0302095\ttotal: 347ms\tremaining: 293ms\n",
      "542:\tlearn: 0.0300158\ttotal: 348ms\tremaining: 293ms\n",
      "543:\tlearn: 0.0298518\ttotal: 348ms\tremaining: 292ms\n",
      "544:\tlearn: 0.0297240\ttotal: 349ms\tremaining: 292ms\n",
      "545:\tlearn: 0.0295888\ttotal: 351ms\tremaining: 291ms\n",
      "546:\tlearn: 0.0294288\ttotal: 351ms\tremaining: 291ms\n",
      "547:\tlearn: 0.0292657\ttotal: 352ms\tremaining: 290ms\n",
      "548:\tlearn: 0.0291445\ttotal: 353ms\tremaining: 290ms\n",
      "549:\tlearn: 0.0289883\ttotal: 353ms\tremaining: 289ms\n",
      "550:\tlearn: 0.0288303\ttotal: 354ms\tremaining: 288ms\n",
      "551:\tlearn: 0.0287277\ttotal: 354ms\tremaining: 287ms\n",
      "552:\tlearn: 0.0286016\ttotal: 355ms\tremaining: 287ms\n",
      "553:\tlearn: 0.0284376\ttotal: 355ms\tremaining: 286ms\n",
      "554:\tlearn: 0.0282868\ttotal: 356ms\tremaining: 285ms\n",
      "555:\tlearn: 0.0281356\ttotal: 356ms\tremaining: 284ms\n",
      "556:\tlearn: 0.0280138\ttotal: 357ms\tremaining: 284ms\n",
      "557:\tlearn: 0.0278669\ttotal: 357ms\tremaining: 283ms\n",
      "558:\tlearn: 0.0277696\ttotal: 358ms\tremaining: 282ms\n",
      "559:\tlearn: 0.0276120\ttotal: 358ms\tremaining: 281ms\n",
      "560:\tlearn: 0.0274666\ttotal: 359ms\tremaining: 281ms\n",
      "561:\tlearn: 0.0273497\ttotal: 359ms\tremaining: 280ms\n",
      "562:\tlearn: 0.0272089\ttotal: 359ms\tremaining: 279ms\n",
      "563:\tlearn: 0.0270619\ttotal: 360ms\tremaining: 278ms\n",
      "564:\tlearn: 0.0269242\ttotal: 360ms\tremaining: 277ms\n",
      "565:\tlearn: 0.0267878\ttotal: 361ms\tremaining: 277ms\n",
      "566:\tlearn: 0.0267031\ttotal: 361ms\tremaining: 276ms\n",
      "567:\tlearn: 0.0265701\ttotal: 362ms\tremaining: 275ms\n",
      "568:\tlearn: 0.0264875\ttotal: 362ms\tremaining: 274ms\n",
      "569:\tlearn: 0.0263579\ttotal: 363ms\tremaining: 274ms\n"
     ]
    },
    {
     "name": "stdout",
     "output_type": "stream",
     "text": [
      "570:\tlearn: 0.0262458\ttotal: 364ms\tremaining: 273ms\n",
      "571:\tlearn: 0.0261658\ttotal: 365ms\tremaining: 273ms\n",
      "572:\tlearn: 0.0260784\ttotal: 365ms\tremaining: 272ms\n",
      "573:\tlearn: 0.0259382\ttotal: 366ms\tremaining: 271ms\n",
      "574:\tlearn: 0.0258007\ttotal: 366ms\tremaining: 271ms\n",
      "575:\tlearn: 0.0256660\ttotal: 366ms\tremaining: 270ms\n",
      "576:\tlearn: 0.0255592\ttotal: 367ms\tremaining: 269ms\n",
      "577:\tlearn: 0.0254500\ttotal: 367ms\tremaining: 268ms\n",
      "578:\tlearn: 0.0253202\ttotal: 368ms\tremaining: 267ms\n",
      "579:\tlearn: 0.0252243\ttotal: 368ms\tremaining: 267ms\n",
      "580:\tlearn: 0.0251187\ttotal: 369ms\tremaining: 266ms\n",
      "581:\tlearn: 0.0250366\ttotal: 369ms\tremaining: 265ms\n",
      "582:\tlearn: 0.0249341\ttotal: 370ms\tremaining: 265ms\n",
      "583:\tlearn: 0.0248075\ttotal: 370ms\tremaining: 264ms\n",
      "584:\tlearn: 0.0247264\ttotal: 371ms\tremaining: 263ms\n",
      "585:\tlearn: 0.0246266\ttotal: 371ms\tremaining: 262ms\n",
      "586:\tlearn: 0.0245476\ttotal: 372ms\tremaining: 262ms\n",
      "587:\tlearn: 0.0244139\ttotal: 372ms\tremaining: 261ms\n",
      "588:\tlearn: 0.0242907\ttotal: 373ms\tremaining: 260ms\n",
      "589:\tlearn: 0.0241939\ttotal: 373ms\tremaining: 259ms\n",
      "590:\tlearn: 0.0240385\ttotal: 374ms\tremaining: 259ms\n",
      "591:\tlearn: 0.0239624\ttotal: 374ms\tremaining: 258ms\n",
      "592:\tlearn: 0.0238570\ttotal: 374ms\tremaining: 257ms\n",
      "593:\tlearn: 0.0237538\ttotal: 375ms\tremaining: 256ms\n",
      "594:\tlearn: 0.0236296\ttotal: 375ms\tremaining: 256ms\n",
      "595:\tlearn: 0.0235108\ttotal: 376ms\tremaining: 255ms\n",
      "596:\tlearn: 0.0234188\ttotal: 376ms\tremaining: 254ms\n",
      "597:\tlearn: 0.0233290\ttotal: 377ms\tremaining: 253ms\n",
      "598:\tlearn: 0.0232120\ttotal: 377ms\tremaining: 253ms\n",
      "599:\tlearn: 0.0231222\ttotal: 378ms\tremaining: 252ms\n",
      "600:\tlearn: 0.0230250\ttotal: 379ms\tremaining: 252ms\n",
      "601:\tlearn: 0.0229079\ttotal: 379ms\tremaining: 251ms\n",
      "602:\tlearn: 0.0228214\ttotal: 380ms\tremaining: 250ms\n",
      "603:\tlearn: 0.0226764\ttotal: 381ms\tremaining: 250ms\n",
      "604:\tlearn: 0.0225839\ttotal: 381ms\tremaining: 249ms\n",
      "605:\tlearn: 0.0225212\ttotal: 382ms\tremaining: 248ms\n",
      "606:\tlearn: 0.0224228\ttotal: 382ms\tremaining: 248ms\n",
      "607:\tlearn: 0.0223264\ttotal: 383ms\tremaining: 247ms\n",
      "608:\tlearn: 0.0222143\ttotal: 383ms\tremaining: 246ms\n",
      "609:\tlearn: 0.0221201\ttotal: 384ms\tremaining: 245ms\n",
      "610:\tlearn: 0.0220250\ttotal: 384ms\tremaining: 245ms\n",
      "611:\tlearn: 0.0219341\ttotal: 385ms\tremaining: 244ms\n",
      "612:\tlearn: 0.0218245\ttotal: 385ms\tremaining: 243ms\n",
      "613:\tlearn: 0.0217329\ttotal: 386ms\tremaining: 242ms\n",
      "614:\tlearn: 0.0216215\ttotal: 386ms\tremaining: 242ms\n",
      "615:\tlearn: 0.0215327\ttotal: 387ms\tremaining: 241ms\n",
      "616:\tlearn: 0.0214535\ttotal: 387ms\tremaining: 240ms\n",
      "617:\tlearn: 0.0213468\ttotal: 387ms\tremaining: 240ms\n",
      "618:\tlearn: 0.0212484\ttotal: 388ms\tremaining: 239ms\n",
      "619:\tlearn: 0.0211650\ttotal: 388ms\tremaining: 238ms\n",
      "620:\tlearn: 0.0210592\ttotal: 389ms\tremaining: 237ms\n",
      "621:\tlearn: 0.0209773\ttotal: 389ms\tremaining: 237ms\n",
      "622:\tlearn: 0.0208735\ttotal: 390ms\tremaining: 236ms\n",
      "623:\tlearn: 0.0207944\ttotal: 390ms\tremaining: 235ms\n",
      "624:\tlearn: 0.0207021\ttotal: 391ms\tremaining: 234ms\n",
      "625:\tlearn: 0.0206249\ttotal: 391ms\tremaining: 234ms\n",
      "626:\tlearn: 0.0205448\ttotal: 392ms\tremaining: 233ms\n",
      "627:\tlearn: 0.0204549\ttotal: 392ms\tremaining: 232ms\n",
      "628:\tlearn: 0.0203571\ttotal: 393ms\tremaining: 232ms\n",
      "629:\tlearn: 0.0202702\ttotal: 393ms\tremaining: 231ms\n",
      "630:\tlearn: 0.0201743\ttotal: 394ms\tremaining: 230ms\n",
      "631:\tlearn: 0.0200873\ttotal: 395ms\tremaining: 230ms\n",
      "632:\tlearn: 0.0200253\ttotal: 396ms\tremaining: 229ms\n",
      "633:\tlearn: 0.0199695\ttotal: 396ms\tremaining: 229ms\n",
      "634:\tlearn: 0.0198422\ttotal: 397ms\tremaining: 228ms\n",
      "635:\tlearn: 0.0197172\ttotal: 397ms\tremaining: 227ms\n",
      "636:\tlearn: 0.0196016\ttotal: 398ms\tremaining: 227ms\n",
      "637:\tlearn: 0.0195399\ttotal: 398ms\tremaining: 226ms\n",
      "638:\tlearn: 0.0194436\ttotal: 398ms\tremaining: 225ms\n",
      "639:\tlearn: 0.0193833\ttotal: 399ms\tremaining: 224ms\n",
      "640:\tlearn: 0.0193058\ttotal: 399ms\tremaining: 224ms\n",
      "641:\tlearn: 0.0191862\ttotal: 400ms\tremaining: 223ms\n",
      "642:\tlearn: 0.0191276\ttotal: 400ms\tremaining: 222ms\n",
      "643:\tlearn: 0.0190129\ttotal: 401ms\tremaining: 221ms\n",
      "644:\tlearn: 0.0189178\ttotal: 401ms\tremaining: 221ms\n",
      "645:\tlearn: 0.0188201\ttotal: 402ms\tremaining: 220ms\n",
      "646:\tlearn: 0.0187514\ttotal: 402ms\tremaining: 219ms\n",
      "647:\tlearn: 0.0186703\ttotal: 402ms\tremaining: 219ms\n",
      "648:\tlearn: 0.0185932\ttotal: 403ms\tremaining: 218ms\n",
      "649:\tlearn: 0.0184786\ttotal: 403ms\tremaining: 217ms\n",
      "650:\tlearn: 0.0183665\ttotal: 404ms\tremaining: 216ms\n",
      "651:\tlearn: 0.0182877\ttotal: 404ms\tremaining: 216ms\n",
      "652:\tlearn: 0.0182150\ttotal: 405ms\tremaining: 215ms\n",
      "653:\tlearn: 0.0181387\ttotal: 405ms\tremaining: 214ms\n",
      "654:\tlearn: 0.0180618\ttotal: 406ms\tremaining: 214ms\n",
      "655:\tlearn: 0.0179957\ttotal: 406ms\tremaining: 213ms\n",
      "656:\tlearn: 0.0179195\ttotal: 407ms\tremaining: 212ms\n",
      "657:\tlearn: 0.0178682\ttotal: 407ms\tremaining: 212ms\n",
      "658:\tlearn: 0.0177841\ttotal: 408ms\tremaining: 211ms\n",
      "659:\tlearn: 0.0177297\ttotal: 410ms\tremaining: 211ms\n",
      "660:\tlearn: 0.0176569\ttotal: 410ms\tremaining: 210ms\n",
      "661:\tlearn: 0.0175853\ttotal: 411ms\tremaining: 210ms\n",
      "662:\tlearn: 0.0175224\ttotal: 411ms\tremaining: 209ms\n",
      "663:\tlearn: 0.0174421\ttotal: 412ms\tremaining: 208ms\n",
      "664:\tlearn: 0.0173400\ttotal: 413ms\tremaining: 208ms\n",
      "665:\tlearn: 0.0172915\ttotal: 413ms\tremaining: 207ms\n",
      "666:\tlearn: 0.0171919\ttotal: 413ms\tremaining: 206ms\n",
      "667:\tlearn: 0.0170946\ttotal: 414ms\tremaining: 206ms\n",
      "668:\tlearn: 0.0169995\ttotal: 414ms\tremaining: 205ms\n",
      "669:\tlearn: 0.0169067\ttotal: 415ms\tremaining: 204ms\n",
      "670:\tlearn: 0.0168160\ttotal: 415ms\tremaining: 204ms\n",
      "671:\tlearn: 0.0167619\ttotal: 415ms\tremaining: 203ms\n",
      "672:\tlearn: 0.0167125\ttotal: 416ms\tremaining: 202ms\n",
      "673:\tlearn: 0.0166639\ttotal: 417ms\tremaining: 202ms\n",
      "674:\tlearn: 0.0165885\ttotal: 419ms\tremaining: 202ms\n",
      "675:\tlearn: 0.0164986\ttotal: 419ms\tremaining: 201ms\n",
      "676:\tlearn: 0.0164465\ttotal: 420ms\tremaining: 200ms\n",
      "677:\tlearn: 0.0163737\ttotal: 420ms\tremaining: 200ms\n",
      "678:\tlearn: 0.0163211\ttotal: 421ms\tremaining: 199ms\n",
      "679:\tlearn: 0.0162704\ttotal: 421ms\tremaining: 198ms\n",
      "680:\tlearn: 0.0161912\ttotal: 422ms\tremaining: 198ms\n",
      "681:\tlearn: 0.0161117\ttotal: 422ms\tremaining: 197ms\n",
      "682:\tlearn: 0.0160681\ttotal: 423ms\tremaining: 196ms\n",
      "683:\tlearn: 0.0159923\ttotal: 424ms\tremaining: 196ms\n",
      "684:\tlearn: 0.0159390\ttotal: 424ms\tremaining: 195ms\n",
      "685:\tlearn: 0.0158870\ttotal: 425ms\tremaining: 194ms\n",
      "686:\tlearn: 0.0158665\ttotal: 425ms\tremaining: 194ms\n",
      "687:\tlearn: 0.0158128\ttotal: 426ms\tremaining: 193ms\n",
      "688:\tlearn: 0.0157370\ttotal: 427ms\tremaining: 193ms\n",
      "689:\tlearn: 0.0156883\ttotal: 427ms\tremaining: 192ms\n",
      "690:\tlearn: 0.0156389\ttotal: 428ms\tremaining: 191ms\n",
      "691:\tlearn: 0.0155869\ttotal: 428ms\tremaining: 191ms\n",
      "692:\tlearn: 0.0155466\ttotal: 429ms\tremaining: 190ms\n",
      "693:\tlearn: 0.0154965\ttotal: 429ms\tremaining: 189ms\n",
      "694:\tlearn: 0.0154199\ttotal: 430ms\tremaining: 189ms\n",
      "695:\tlearn: 0.0153880\ttotal: 430ms\tremaining: 188ms\n",
      "696:\tlearn: 0.0153575\ttotal: 430ms\tremaining: 187ms\n",
      "697:\tlearn: 0.0152825\ttotal: 431ms\tremaining: 186ms\n",
      "698:\tlearn: 0.0152491\ttotal: 431ms\tremaining: 186ms\n",
      "699:\tlearn: 0.0152032\ttotal: 432ms\tremaining: 185ms\n",
      "700:\tlearn: 0.0151706\ttotal: 432ms\tremaining: 184ms\n",
      "701:\tlearn: 0.0150878\ttotal: 433ms\tremaining: 184ms\n",
      "702:\tlearn: 0.0150557\ttotal: 433ms\tremaining: 183ms\n",
      "703:\tlearn: 0.0150350\ttotal: 434ms\tremaining: 182ms\n",
      "704:\tlearn: 0.0149339\ttotal: 434ms\tremaining: 182ms\n",
      "705:\tlearn: 0.0148625\ttotal: 435ms\tremaining: 181ms\n",
      "706:\tlearn: 0.0148229\ttotal: 435ms\tremaining: 180ms\n",
      "707:\tlearn: 0.0147434\ttotal: 436ms\tremaining: 180ms\n",
      "708:\tlearn: 0.0147124\ttotal: 436ms\tremaining: 179ms\n",
      "709:\tlearn: 0.0146422\ttotal: 437ms\tremaining: 178ms\n",
      "710:\tlearn: 0.0146119\ttotal: 437ms\tremaining: 178ms\n",
      "711:\tlearn: 0.0145922\ttotal: 437ms\tremaining: 177ms\n",
      "712:\tlearn: 0.0144962\ttotal: 438ms\tremaining: 176ms\n",
      "713:\tlearn: 0.0144298\ttotal: 439ms\tremaining: 176ms\n",
      "714:\tlearn: 0.0143621\ttotal: 440ms\tremaining: 176ms\n",
      "715:\tlearn: 0.0143247\ttotal: 441ms\tremaining: 175ms\n",
      "716:\tlearn: 0.0142601\ttotal: 442ms\tremaining: 174ms\n",
      "717:\tlearn: 0.0142192\ttotal: 442ms\tremaining: 174ms\n",
      "718:\tlearn: 0.0141899\ttotal: 443ms\tremaining: 173ms\n",
      "719:\tlearn: 0.0141612\ttotal: 443ms\tremaining: 172ms\n",
      "720:\tlearn: 0.0141174\ttotal: 444ms\tremaining: 172ms\n",
      "721:\tlearn: 0.0140520\ttotal: 444ms\tremaining: 171ms\n",
      "722:\tlearn: 0.0140240\ttotal: 445ms\tremaining: 170ms\n",
      "723:\tlearn: 0.0139342\ttotal: 445ms\tremaining: 170ms\n",
      "724:\tlearn: 0.0138531\ttotal: 445ms\tremaining: 169ms\n",
      "725:\tlearn: 0.0138015\ttotal: 446ms\tremaining: 168ms\n",
      "726:\tlearn: 0.0137835\ttotal: 446ms\tremaining: 168ms\n",
      "727:\tlearn: 0.0137218\ttotal: 447ms\tremaining: 167ms\n",
      "728:\tlearn: 0.0136914\ttotal: 447ms\tremaining: 166ms\n",
      "729:\tlearn: 0.0136309\ttotal: 448ms\tremaining: 166ms\n"
     ]
    },
    {
     "name": "stdout",
     "output_type": "stream",
     "text": [
      "730:\tlearn: 0.0136013\ttotal: 449ms\tremaining: 165ms\n",
      "731:\tlearn: 0.0135420\ttotal: 449ms\tremaining: 164ms\n",
      "732:\tlearn: 0.0135131\ttotal: 449ms\tremaining: 164ms\n",
      "733:\tlearn: 0.0134550\ttotal: 450ms\tremaining: 163ms\n",
      "734:\tlearn: 0.0134145\ttotal: 450ms\tremaining: 162ms\n",
      "735:\tlearn: 0.0133379\ttotal: 451ms\tremaining: 162ms\n",
      "736:\tlearn: 0.0132839\ttotal: 451ms\tremaining: 161ms\n",
      "737:\tlearn: 0.0132310\ttotal: 452ms\tremaining: 161ms\n",
      "738:\tlearn: 0.0132045\ttotal: 453ms\tremaining: 160ms\n",
      "739:\tlearn: 0.0131652\ttotal: 453ms\tremaining: 159ms\n",
      "740:\tlearn: 0.0130841\ttotal: 453ms\tremaining: 159ms\n",
      "741:\tlearn: 0.0130111\ttotal: 454ms\tremaining: 158ms\n",
      "742:\tlearn: 0.0129602\ttotal: 455ms\tremaining: 157ms\n",
      "743:\tlearn: 0.0129102\ttotal: 455ms\tremaining: 157ms\n",
      "744:\tlearn: 0.0128396\ttotal: 456ms\tremaining: 156ms\n",
      "745:\tlearn: 0.0128017\ttotal: 456ms\tremaining: 155ms\n",
      "746:\tlearn: 0.0127318\ttotal: 457ms\tremaining: 155ms\n",
      "747:\tlearn: 0.0126947\ttotal: 458ms\tremaining: 154ms\n",
      "748:\tlearn: 0.0126479\ttotal: 458ms\tremaining: 153ms\n",
      "749:\tlearn: 0.0125710\ttotal: 458ms\tremaining: 153ms\n",
      "750:\tlearn: 0.0125171\ttotal: 459ms\tremaining: 152ms\n",
      "751:\tlearn: 0.0124743\ttotal: 460ms\tremaining: 152ms\n",
      "752:\tlearn: 0.0124322\ttotal: 460ms\tremaining: 151ms\n",
      "753:\tlearn: 0.0123797\ttotal: 461ms\tremaining: 150ms\n",
      "754:\tlearn: 0.0123139\ttotal: 461ms\tremaining: 150ms\n",
      "755:\tlearn: 0.0122562\ttotal: 462ms\tremaining: 149ms\n",
      "756:\tlearn: 0.0121830\ttotal: 462ms\tremaining: 148ms\n",
      "757:\tlearn: 0.0121391\ttotal: 463ms\tremaining: 148ms\n",
      "758:\tlearn: 0.0120676\ttotal: 463ms\tremaining: 147ms\n",
      "759:\tlearn: 0.0120119\ttotal: 464ms\tremaining: 146ms\n",
      "760:\tlearn: 0.0119690\ttotal: 464ms\tremaining: 146ms\n",
      "761:\tlearn: 0.0119194\ttotal: 465ms\tremaining: 145ms\n",
      "762:\tlearn: 0.0118778\ttotal: 465ms\tremaining: 144ms\n",
      "763:\tlearn: 0.0118165\ttotal: 465ms\tremaining: 144ms\n",
      "764:\tlearn: 0.0117567\ttotal: 466ms\tremaining: 143ms\n",
      "765:\tlearn: 0.0117033\ttotal: 478ms\tremaining: 146ms\n",
      "766:\tlearn: 0.0116462\ttotal: 479ms\tremaining: 146ms\n",
      "767:\tlearn: 0.0116048\ttotal: 480ms\tremaining: 145ms\n",
      "768:\tlearn: 0.0115535\ttotal: 480ms\tremaining: 144ms\n",
      "769:\tlearn: 0.0115133\ttotal: 481ms\tremaining: 144ms\n",
      "770:\tlearn: 0.0114914\ttotal: 481ms\tremaining: 143ms\n",
      "771:\tlearn: 0.0114524\ttotal: 482ms\tremaining: 142ms\n",
      "772:\tlearn: 0.0113855\ttotal: 483ms\tremaining: 142ms\n",
      "773:\tlearn: 0.0113475\ttotal: 483ms\tremaining: 141ms\n",
      "774:\tlearn: 0.0113123\ttotal: 485ms\tremaining: 141ms\n",
      "775:\tlearn: 0.0112553\ttotal: 485ms\tremaining: 140ms\n",
      "776:\tlearn: 0.0112209\ttotal: 486ms\tremaining: 139ms\n",
      "777:\tlearn: 0.0111843\ttotal: 486ms\tremaining: 139ms\n",
      "778:\tlearn: 0.0111291\ttotal: 487ms\tremaining: 138ms\n",
      "779:\tlearn: 0.0110947\ttotal: 487ms\tremaining: 137ms\n",
      "780:\tlearn: 0.0110451\ttotal: 488ms\tremaining: 137ms\n",
      "781:\tlearn: 0.0109917\ttotal: 488ms\tremaining: 136ms\n",
      "782:\tlearn: 0.0109395\ttotal: 489ms\tremaining: 135ms\n",
      "783:\tlearn: 0.0108844\ttotal: 490ms\tremaining: 135ms\n",
      "784:\tlearn: 0.0108729\ttotal: 490ms\tremaining: 134ms\n",
      "785:\tlearn: 0.0108402\ttotal: 491ms\tremaining: 134ms\n",
      "786:\tlearn: 0.0107929\ttotal: 491ms\tremaining: 133ms\n",
      "787:\tlearn: 0.0107392\ttotal: 492ms\tremaining: 132ms\n",
      "788:\tlearn: 0.0107022\ttotal: 492ms\tremaining: 132ms\n",
      "789:\tlearn: 0.0106520\ttotal: 493ms\tremaining: 131ms\n",
      "790:\tlearn: 0.0106049\ttotal: 493ms\tremaining: 130ms\n",
      "791:\tlearn: 0.0105526\ttotal: 494ms\tremaining: 130ms\n",
      "792:\tlearn: 0.0105182\ttotal: 495ms\tremaining: 129ms\n",
      "793:\tlearn: 0.0104779\ttotal: 495ms\tremaining: 128ms\n",
      "794:\tlearn: 0.0104423\ttotal: 495ms\tremaining: 128ms\n",
      "795:\tlearn: 0.0104086\ttotal: 496ms\tremaining: 127ms\n",
      "796:\tlearn: 0.0103702\ttotal: 497ms\tremaining: 127ms\n",
      "797:\tlearn: 0.0103143\ttotal: 497ms\tremaining: 126ms\n",
      "798:\tlearn: 0.0102607\ttotal: 498ms\tremaining: 125ms\n",
      "799:\tlearn: 0.0102167\ttotal: 499ms\tremaining: 125ms\n",
      "800:\tlearn: 0.0101736\ttotal: 499ms\tremaining: 124ms\n",
      "801:\tlearn: 0.0101589\ttotal: 500ms\tremaining: 123ms\n",
      "802:\tlearn: 0.0100859\ttotal: 500ms\tremaining: 123ms\n",
      "803:\tlearn: 0.0100329\ttotal: 501ms\tremaining: 122ms\n",
      "804:\tlearn: 0.0099839\ttotal: 501ms\tremaining: 121ms\n",
      "805:\tlearn: 0.0099359\ttotal: 502ms\tremaining: 121ms\n",
      "806:\tlearn: 0.0099227\ttotal: 502ms\tremaining: 120ms\n",
      "807:\tlearn: 0.0098757\ttotal: 503ms\tremaining: 119ms\n",
      "808:\tlearn: 0.0098627\ttotal: 503ms\tremaining: 119ms\n",
      "809:\tlearn: 0.0098119\ttotal: 503ms\tremaining: 118ms\n",
      "810:\tlearn: 0.0097674\ttotal: 504ms\tremaining: 117ms\n",
      "811:\tlearn: 0.0097182\ttotal: 504ms\tremaining: 117ms\n",
      "812:\tlearn: 0.0096750\ttotal: 505ms\tremaining: 116ms\n",
      "813:\tlearn: 0.0096274\ttotal: 505ms\tremaining: 115ms\n",
      "814:\tlearn: 0.0095881\ttotal: 506ms\tremaining: 115ms\n",
      "815:\tlearn: 0.0095433\ttotal: 506ms\tremaining: 114ms\n",
      "816:\tlearn: 0.0095144\ttotal: 507ms\tremaining: 113ms\n",
      "817:\tlearn: 0.0094488\ttotal: 507ms\tremaining: 113ms\n",
      "818:\tlearn: 0.0094088\ttotal: 507ms\tremaining: 112ms\n",
      "819:\tlearn: 0.0093698\ttotal: 508ms\tremaining: 111ms\n",
      "820:\tlearn: 0.0093388\ttotal: 508ms\tremaining: 111ms\n",
      "821:\tlearn: 0.0092987\ttotal: 509ms\tremaining: 110ms\n",
      "822:\tlearn: 0.0092608\ttotal: 509ms\tremaining: 110ms\n",
      "823:\tlearn: 0.0092123\ttotal: 510ms\tremaining: 109ms\n",
      "824:\tlearn: 0.0091747\ttotal: 510ms\tremaining: 108ms\n",
      "825:\tlearn: 0.0091471\ttotal: 510ms\tremaining: 108ms\n",
      "826:\tlearn: 0.0091101\ttotal: 511ms\tremaining: 107ms\n",
      "827:\tlearn: 0.0090921\ttotal: 511ms\tremaining: 106ms\n",
      "828:\tlearn: 0.0090621\ttotal: 512ms\tremaining: 106ms\n",
      "829:\tlearn: 0.0090120\ttotal: 512ms\tremaining: 105ms\n",
      "830:\tlearn: 0.0089851\ttotal: 513ms\tremaining: 104ms\n",
      "831:\tlearn: 0.0089558\ttotal: 514ms\tremaining: 104ms\n",
      "832:\tlearn: 0.0089382\ttotal: 514ms\tremaining: 103ms\n",
      "833:\tlearn: 0.0088894\ttotal: 515ms\tremaining: 102ms\n",
      "834:\tlearn: 0.0088441\ttotal: 515ms\tremaining: 102ms\n",
      "835:\tlearn: 0.0088086\ttotal: 515ms\tremaining: 101ms\n",
      "836:\tlearn: 0.0087674\ttotal: 516ms\tremaining: 100ms\n",
      "837:\tlearn: 0.0087404\ttotal: 516ms\tremaining: 99.8ms\n",
      "838:\tlearn: 0.0086999\ttotal: 517ms\tremaining: 99.2ms\n",
      "839:\tlearn: 0.0086741\ttotal: 517ms\tremaining: 98.5ms\n",
      "840:\tlearn: 0.0086278\ttotal: 518ms\tremaining: 97.9ms\n",
      "841:\tlearn: 0.0085884\ttotal: 518ms\tremaining: 97.3ms\n",
      "842:\tlearn: 0.0085605\ttotal: 519ms\tremaining: 96.6ms\n",
      "843:\tlearn: 0.0085172\ttotal: 519ms\tremaining: 96ms\n",
      "844:\tlearn: 0.0084726\ttotal: 520ms\tremaining: 95.4ms\n",
      "845:\tlearn: 0.0084394\ttotal: 520ms\tremaining: 94.7ms\n",
      "846:\tlearn: 0.0084146\ttotal: 521ms\tremaining: 94.1ms\n",
      "847:\tlearn: 0.0083591\ttotal: 521ms\tremaining: 93.5ms\n",
      "848:\tlearn: 0.0083348\ttotal: 522ms\tremaining: 92.8ms\n",
      "849:\tlearn: 0.0082807\ttotal: 522ms\tremaining: 92.2ms\n",
      "850:\tlearn: 0.0082625\ttotal: 523ms\tremaining: 91.5ms\n",
      "851:\tlearn: 0.0082448\ttotal: 523ms\tremaining: 90.9ms\n",
      "852:\tlearn: 0.0082051\ttotal: 524ms\tremaining: 90.3ms\n",
      "853:\tlearn: 0.0081880\ttotal: 524ms\tremaining: 89.6ms\n",
      "854:\tlearn: 0.0081763\ttotal: 525ms\tremaining: 89ms\n",
      "855:\tlearn: 0.0081279\ttotal: 525ms\tremaining: 88.3ms\n",
      "856:\tlearn: 0.0080912\ttotal: 526ms\tremaining: 87.7ms\n",
      "857:\tlearn: 0.0080807\ttotal: 526ms\tremaining: 87.1ms\n",
      "858:\tlearn: 0.0080694\ttotal: 527ms\tremaining: 86.5ms\n",
      "859:\tlearn: 0.0080183\ttotal: 528ms\tremaining: 85.9ms\n",
      "860:\tlearn: 0.0080082\ttotal: 528ms\tremaining: 85.2ms\n",
      "861:\tlearn: 0.0079981\ttotal: 528ms\tremaining: 84.6ms\n",
      "862:\tlearn: 0.0079882\ttotal: 529ms\tremaining: 83.9ms\n",
      "863:\tlearn: 0.0079754\ttotal: 530ms\tremaining: 83.4ms\n",
      "864:\tlearn: 0.0079658\ttotal: 530ms\tremaining: 82.7ms\n",
      "865:\tlearn: 0.0079364\ttotal: 531ms\tremaining: 82.1ms\n",
      "866:\tlearn: 0.0079050\ttotal: 531ms\tremaining: 81.5ms\n",
      "867:\tlearn: 0.0078743\ttotal: 532ms\tremaining: 80.9ms\n",
      "868:\tlearn: 0.0078357\ttotal: 532ms\tremaining: 80.2ms\n",
      "869:\tlearn: 0.0077868\ttotal: 533ms\tremaining: 79.6ms\n",
      "870:\tlearn: 0.0077734\ttotal: 533ms\tremaining: 78.9ms\n",
      "871:\tlearn: 0.0077399\ttotal: 533ms\tremaining: 78.3ms\n",
      "872:\tlearn: 0.0077306\ttotal: 534ms\tremaining: 77.7ms\n",
      "873:\tlearn: 0.0077174\ttotal: 534ms\tremaining: 77ms\n",
      "874:\tlearn: 0.0076913\ttotal: 535ms\tremaining: 76.4ms\n",
      "875:\tlearn: 0.0076797\ttotal: 536ms\tremaining: 75.8ms\n",
      "876:\tlearn: 0.0076283\ttotal: 536ms\tremaining: 75.1ms\n",
      "877:\tlearn: 0.0076155\ttotal: 536ms\tremaining: 74.5ms\n",
      "878:\tlearn: 0.0075825\ttotal: 537ms\tremaining: 73.9ms\n",
      "879:\tlearn: 0.0075460\ttotal: 537ms\tremaining: 73.3ms\n",
      "880:\tlearn: 0.0075104\ttotal: 538ms\tremaining: 72.6ms\n",
      "881:\tlearn: 0.0074790\ttotal: 538ms\tremaining: 72ms\n",
      "882:\tlearn: 0.0074300\ttotal: 539ms\tremaining: 71.4ms\n",
      "883:\tlearn: 0.0074074\ttotal: 539ms\tremaining: 70.7ms\n",
      "884:\tlearn: 0.0073988\ttotal: 540ms\tremaining: 70.1ms\n",
      "885:\tlearn: 0.0073905\ttotal: 540ms\tremaining: 69.5ms\n",
      "886:\tlearn: 0.0073588\ttotal: 541ms\tremaining: 68.9ms\n",
      "887:\tlearn: 0.0073249\ttotal: 541ms\tremaining: 68.3ms\n",
      "888:\tlearn: 0.0073027\ttotal: 542ms\tremaining: 67.6ms\n",
      "889:\tlearn: 0.0072683\ttotal: 542ms\tremaining: 67ms\n",
      "890:\tlearn: 0.0072358\ttotal: 543ms\tremaining: 66.4ms\n",
      "891:\tlearn: 0.0072275\ttotal: 543ms\tremaining: 65.8ms\n"
     ]
    },
    {
     "name": "stdout",
     "output_type": "stream",
     "text": [
      "892:\tlearn: 0.0071914\ttotal: 544ms\tremaining: 65.2ms\n",
      "893:\tlearn: 0.0071656\ttotal: 545ms\tremaining: 64.6ms\n",
      "894:\tlearn: 0.0071577\ttotal: 545ms\tremaining: 64ms\n",
      "895:\tlearn: 0.0071324\ttotal: 546ms\tremaining: 63.3ms\n",
      "896:\tlearn: 0.0071113\ttotal: 546ms\tremaining: 62.7ms\n",
      "897:\tlearn: 0.0070858\ttotal: 547ms\tremaining: 62.1ms\n",
      "898:\tlearn: 0.0070558\ttotal: 547ms\tremaining: 61.5ms\n",
      "899:\tlearn: 0.0070227\ttotal: 548ms\tremaining: 60.8ms\n",
      "900:\tlearn: 0.0070147\ttotal: 548ms\tremaining: 60.2ms\n",
      "901:\tlearn: 0.0069826\ttotal: 549ms\tremaining: 59.6ms\n",
      "902:\tlearn: 0.0069505\ttotal: 549ms\tremaining: 59ms\n",
      "903:\tlearn: 0.0069193\ttotal: 549ms\tremaining: 58.3ms\n",
      "904:\tlearn: 0.0068904\ttotal: 551ms\tremaining: 57.8ms\n",
      "905:\tlearn: 0.0068594\ttotal: 551ms\tremaining: 57.2ms\n",
      "906:\tlearn: 0.0068291\ttotal: 551ms\tremaining: 56.5ms\n",
      "907:\tlearn: 0.0067994\ttotal: 552ms\tremaining: 55.9ms\n",
      "908:\tlearn: 0.0067694\ttotal: 552ms\tremaining: 55.3ms\n",
      "909:\tlearn: 0.0067396\ttotal: 553ms\tremaining: 54.7ms\n",
      "910:\tlearn: 0.0067139\ttotal: 553ms\tremaining: 54ms\n",
      "911:\tlearn: 0.0066854\ttotal: 554ms\tremaining: 53.4ms\n",
      "912:\tlearn: 0.0066605\ttotal: 554ms\tremaining: 52.8ms\n",
      "913:\tlearn: 0.0066357\ttotal: 555ms\tremaining: 52.2ms\n",
      "914:\tlearn: 0.0066120\ttotal: 555ms\tremaining: 51.6ms\n",
      "915:\tlearn: 0.0065812\ttotal: 556ms\tremaining: 51ms\n",
      "916:\tlearn: 0.0065623\ttotal: 556ms\tremaining: 50.3ms\n",
      "917:\tlearn: 0.0065304\ttotal: 556ms\tremaining: 49.7ms\n",
      "918:\tlearn: 0.0064991\ttotal: 557ms\tremaining: 49.1ms\n",
      "919:\tlearn: 0.0064685\ttotal: 559ms\tremaining: 48.6ms\n",
      "920:\tlearn: 0.0064426\ttotal: 559ms\tremaining: 48ms\n",
      "921:\tlearn: 0.0064351\ttotal: 560ms\tremaining: 47.4ms\n",
      "922:\tlearn: 0.0064277\ttotal: 561ms\tremaining: 46.8ms\n",
      "923:\tlearn: 0.0064022\ttotal: 561ms\tremaining: 46.2ms\n",
      "924:\tlearn: 0.0063949\ttotal: 562ms\tremaining: 45.5ms\n",
      "925:\tlearn: 0.0063714\ttotal: 562ms\tremaining: 44.9ms\n",
      "926:\tlearn: 0.0063642\ttotal: 563ms\tremaining: 44.3ms\n",
      "927:\tlearn: 0.0063412\ttotal: 563ms\tremaining: 43.7ms\n",
      "928:\tlearn: 0.0063340\ttotal: 564ms\tremaining: 43.1ms\n",
      "929:\tlearn: 0.0063114\ttotal: 564ms\tremaining: 42.5ms\n",
      "930:\tlearn: 0.0063044\ttotal: 565ms\tremaining: 41.9ms\n",
      "931:\tlearn: 0.0062975\ttotal: 565ms\tremaining: 41.2ms\n",
      "932:\tlearn: 0.0062907\ttotal: 566ms\tremaining: 40.6ms\n",
      "933:\tlearn: 0.0062683\ttotal: 566ms\tremaining: 40ms\n",
      "934:\tlearn: 0.0062616\ttotal: 567ms\tremaining: 39.4ms\n",
      "935:\tlearn: 0.0062395\ttotal: 567ms\tremaining: 38.8ms\n",
      "936:\tlearn: 0.0062326\ttotal: 568ms\tremaining: 38.2ms\n",
      "937:\tlearn: 0.0062271\ttotal: 568ms\tremaining: 37.6ms\n",
      "938:\tlearn: 0.0062054\ttotal: 569ms\tremaining: 36.9ms\n",
      "939:\tlearn: 0.0062000\ttotal: 569ms\tremaining: 36.3ms\n",
      "940:\tlearn: 0.0061672\ttotal: 570ms\tremaining: 35.7ms\n",
      "941:\tlearn: 0.0061490\ttotal: 570ms\tremaining: 35.1ms\n",
      "942:\tlearn: 0.0061275\ttotal: 571ms\tremaining: 34.5ms\n",
      "943:\tlearn: 0.0060957\ttotal: 571ms\tremaining: 33.9ms\n",
      "944:\tlearn: 0.0060713\ttotal: 572ms\tremaining: 33.3ms\n",
      "945:\tlearn: 0.0060448\ttotal: 573ms\tremaining: 32.7ms\n",
      "946:\tlearn: 0.0060264\ttotal: 573ms\tremaining: 32.1ms\n",
      "947:\tlearn: 0.0060057\ttotal: 574ms\tremaining: 31.5ms\n",
      "948:\tlearn: 0.0059878\ttotal: 574ms\tremaining: 30.9ms\n",
      "949:\tlearn: 0.0059620\ttotal: 575ms\tremaining: 30.2ms\n",
      "950:\tlearn: 0.0059443\ttotal: 575ms\tremaining: 29.6ms\n",
      "951:\tlearn: 0.0059120\ttotal: 576ms\tremaining: 29ms\n",
      "952:\tlearn: 0.0058921\ttotal: 576ms\tremaining: 28.4ms\n",
      "953:\tlearn: 0.0058726\ttotal: 577ms\tremaining: 27.8ms\n",
      "954:\tlearn: 0.0058629\ttotal: 577ms\tremaining: 27.2ms\n",
      "955:\tlearn: 0.0058314\ttotal: 578ms\tremaining: 26.6ms\n",
      "956:\tlearn: 0.0058220\ttotal: 578ms\tremaining: 26ms\n",
      "957:\tlearn: 0.0058051\ttotal: 579ms\tremaining: 25.4ms\n",
      "958:\tlearn: 0.0057757\ttotal: 579ms\tremaining: 24.8ms\n",
      "959:\tlearn: 0.0057591\ttotal: 580ms\tremaining: 24.2ms\n",
      "960:\tlearn: 0.0057285\ttotal: 580ms\tremaining: 23.5ms\n",
      "961:\tlearn: 0.0057194\ttotal: 581ms\tremaining: 22.9ms\n",
      "962:\tlearn: 0.0057137\ttotal: 581ms\tremaining: 22.3ms\n",
      "963:\tlearn: 0.0056975\ttotal: 582ms\tremaining: 21.7ms\n",
      "964:\tlearn: 0.0056675\ttotal: 582ms\tremaining: 21.1ms\n",
      "965:\tlearn: 0.0056488\ttotal: 582ms\tremaining: 20.5ms\n",
      "966:\tlearn: 0.0056415\ttotal: 583ms\tremaining: 19.9ms\n",
      "967:\tlearn: 0.0056343\ttotal: 583ms\tremaining: 19.3ms\n",
      "968:\tlearn: 0.0056059\ttotal: 584ms\tremaining: 18.7ms\n",
      "969:\tlearn: 0.0055804\ttotal: 584ms\tremaining: 18.1ms\n",
      "970:\tlearn: 0.0055647\ttotal: 585ms\tremaining: 17.5ms\n",
      "971:\tlearn: 0.0055320\ttotal: 585ms\tremaining: 16.9ms\n",
      "972:\tlearn: 0.0055072\ttotal: 586ms\tremaining: 16.3ms\n",
      "973:\tlearn: 0.0054755\ttotal: 586ms\tremaining: 15.6ms\n",
      "974:\tlearn: 0.0054457\ttotal: 586ms\tremaining: 15ms\n",
      "975:\tlearn: 0.0054216\ttotal: 587ms\tremaining: 14.4ms\n",
      "976:\tlearn: 0.0053924\ttotal: 589ms\tremaining: 13.9ms\n",
      "977:\tlearn: 0.0053741\ttotal: 590ms\tremaining: 13.3ms\n",
      "978:\tlearn: 0.0053506\ttotal: 591ms\tremaining: 12.7ms\n",
      "979:\tlearn: 0.0053219\ttotal: 591ms\tremaining: 12.1ms\n",
      "980:\tlearn: 0.0053044\ttotal: 592ms\tremaining: 11.5ms\n",
      "981:\tlearn: 0.0052775\ttotal: 592ms\tremaining: 10.9ms\n",
      "982:\tlearn: 0.0052707\ttotal: 592ms\tremaining: 10.2ms\n",
      "983:\tlearn: 0.0052479\ttotal: 593ms\tremaining: 9.64ms\n",
      "984:\tlearn: 0.0052294\ttotal: 593ms\tremaining: 9.04ms\n",
      "985:\tlearn: 0.0052069\ttotal: 594ms\tremaining: 8.43ms\n",
      "986:\tlearn: 0.0051821\ttotal: 594ms\tremaining: 7.83ms\n",
      "987:\tlearn: 0.0051532\ttotal: 595ms\tremaining: 7.23ms\n",
      "988:\tlearn: 0.0051258\ttotal: 596ms\tremaining: 6.63ms\n",
      "989:\tlearn: 0.0051041\ttotal: 596ms\tremaining: 6.02ms\n",
      "990:\tlearn: 0.0050970\ttotal: 597ms\tremaining: 5.42ms\n",
      "991:\tlearn: 0.0050755\ttotal: 597ms\tremaining: 4.82ms\n",
      "992:\tlearn: 0.0050685\ttotal: 598ms\tremaining: 4.21ms\n",
      "993:\tlearn: 0.0050474\ttotal: 598ms\tremaining: 3.61ms\n",
      "994:\tlearn: 0.0050367\ttotal: 599ms\tremaining: 3.01ms\n",
      "995:\tlearn: 0.0050160\ttotal: 599ms\tremaining: 2.41ms\n",
      "996:\tlearn: 0.0050098\ttotal: 600ms\tremaining: 1.8ms\n",
      "997:\tlearn: 0.0049886\ttotal: 600ms\tremaining: 1.2ms\n",
      "998:\tlearn: 0.0049684\ttotal: 601ms\tremaining: 601us\n",
      "999:\tlearn: 0.0049623\ttotal: 601ms\tremaining: 0us\n"
     ]
    },
    {
     "data": {
      "text/plain": [
       "<catboost.core.CatBoostRegressor at 0x7fcec2b30dc0>"
      ]
     },
     "execution_count": 9,
     "metadata": {},
     "output_type": "execute_result"
    }
   ],
   "source": [
    "#Train the Model \n",
    "prior_model = ctb.CatBoostRegressor()\n",
    "prior_model.fit(X_train,Y_train)"
   ]
  },
  {
   "cell_type": "code",
   "execution_count": 10,
   "id": "af65dcda",
   "metadata": {
    "execution": {
     "iopub.execute_input": "2022-06-07T07:07:36.677427Z",
     "iopub.status.busy": "2022-06-07T07:07:36.677037Z",
     "iopub.status.idle": "2022-06-07T07:07:36.684688Z",
     "shell.execute_reply": "2022-06-07T07:07:36.685051Z"
    },
    "id": "af65dcda",
    "papermill": {
     "duration": 0.020955,
     "end_time": "2022-06-07T07:07:36.685170",
     "exception": false,
     "start_time": "2022-06-07T07:07:36.664215",
     "status": "completed"
    },
    "tags": []
   },
   "outputs": [
    {
     "data": {
      "application/scrapbook.scrap.json+json": {
       "data": 0.1898848571192367,
       "encoder": "json",
       "name": "Prior Model MSE",
       "version": 1
      }
     },
     "metadata": {
      "scrapbook": {
       "data": true,
       "display": false,
       "name": "Prior Model MSE"
      }
     },
     "output_type": "display_data"
    },
    {
     "data": {
      "application/scrapbook.scrap.json+json": {
       "data": 1.086537444452468,
       "encoder": "json",
       "name": "ABC Pre-generator MSE",
       "version": 1
      }
     },
     "metadata": {
      "scrapbook": {
       "data": true,
       "display": false,
       "name": "ABC Pre-generator MSE"
      }
     },
     "output_type": "display_data"
    },
    {
     "data": {
      "application/scrapbook.scrap.json+json": {
       "data": 0.3445275865547837,
       "encoder": "json",
       "name": "Prior Model MSE",
       "version": 1
      }
     },
     "metadata": {
      "scrapbook": {
       "data": true,
       "display": false,
       "name": "Prior Model MSE"
      }
     },
     "output_type": "display_data"
    },
    {
     "data": {
      "application/scrapbook.scrap.json+json": {
       "data": 0.9476197411623042,
       "encoder": "json",
       "name": "ABC Pre-generator MSE",
       "version": 1
      }
     },
     "metadata": {
      "scrapbook": {
       "data": true,
       "display": false,
       "name": "ABC Pre-generator MSE"
      }
     },
     "output_type": "display_data"
    }
   ],
   "source": [
    "y_pred = prior_model.predict(X_test)\n",
    "y_abc = y_pred + np.random.normal(0,variance, y_pred.shape) + bias \n",
    "mse = mean_squared_error(y_pred,Y_test)\n",
    "sb.glue(\"Prior Model MSE\",mse)\n",
    "mse = mean_squared_error(y_abc,Y_test)\n",
    "sb.glue(\"ABC Pre-generator MSE\",mse)\n",
    "mae = mean_absolute_error(y_pred,Y_test)\n",
    "sb.glue(\"Prior Model MSE\",mae)\n",
    "mae = mean_absolute_error(y_abc,Y_test)\n",
    "sb.glue(\"ABC Pre-generator MSE\",mae)"
   ]
  },
  {
   "cell_type": "markdown",
   "id": "25609da2",
   "metadata": {
    "papermill": {
     "duration": 0.009848,
     "end_time": "2022-06-07T07:07:36.705167",
     "exception": false,
     "start_time": "2022-06-07T07:07:36.695319",
     "status": "completed"
    },
    "tags": []
   },
   "source": [
    "# ABC GAN Model"
   ]
  },
  {
   "cell_type": "code",
   "execution_count": 11,
   "id": "dfc3464d",
   "metadata": {
    "execution": {
     "iopub.execute_input": "2022-06-07T07:07:36.730953Z",
     "iopub.status.busy": "2022-06-07T07:07:36.730533Z",
     "iopub.status.idle": "2022-06-07T07:07:36.733010Z",
     "shell.execute_reply": "2022-06-07T07:07:36.733254Z"
    },
    "papermill": {
     "duration": 0.018515,
     "end_time": "2022-06-07T07:07:36.733419",
     "exception": false,
     "start_time": "2022-06-07T07:07:36.714904",
     "status": "completed"
    },
    "tags": []
   },
   "outputs": [],
   "source": [
    "gen = network.Generator(n_features+1).to(device)\n",
    "disc = network.Discriminator(n_features+1).to(device)\n",
    "\n",
    "criterion = torch.nn.BCELoss()\n",
    "gen_opt = torch.optim.Adam(gen.parameters(), lr=0.001, betas=(0.5, 0.999))\n",
    "disc_opt = torch.optim.Adam(disc.parameters(), lr=0.001, betas=(0.5, 0.999))"
   ]
  },
  {
   "cell_type": "code",
   "execution_count": 12,
   "id": "b75fdd85",
   "metadata": {
    "execution": {
     "iopub.execute_input": "2022-06-07T07:07:36.755754Z",
     "iopub.status.busy": "2022-06-07T07:07:36.755370Z",
     "iopub.status.idle": "2022-06-07T07:07:53.132896Z",
     "shell.execute_reply": "2022-06-07T07:07:53.133194Z"
    },
    "papermill": {
     "duration": 16.390053,
     "end_time": "2022-06-07T07:07:53.133365",
     "exception": false,
     "start_time": "2022-06-07T07:07:36.743312",
     "status": "completed"
    },
    "tags": []
   },
   "outputs": [
    {
     "data": {
      "image/png": "[encoded data removed]",
      "text/plain": [
       "<Figure size 432x288 with 1 Axes>"
      ]
     },
     "metadata": {
      "needs_background": "light"
     },
     "output_type": "display_data"
    },
    {
     "data": {
      "image/png": "[encoded data removed]",
      "text/plain": [
       "<Figure size 432x288 with 1 Axes>"
      ]
     },
     "metadata": {
      "needs_background": "light"
     },
     "output_type": "display_data"
    }
   ],
   "source": [
    "#Training the ABC_GAN \n",
    "ABC_train_test2.training_GAN(disc,gen,disc_opt,gen_opt,train_data,batch_size,n_epochs,criterion,prior_model,variance,bias,device)"
   ]
  },
  {
   "cell_type": "code",
   "execution_count": 13,
   "id": "1fa7c368",
   "metadata": {
    "execution": {
     "iopub.execute_input": "2022-06-07T07:07:53.160517Z",
     "iopub.status.busy": "2022-06-07T07:07:53.159817Z",
     "iopub.status.idle": "2022-06-07T07:07:53.355096Z",
     "shell.execute_reply": "2022-06-07T07:07:53.355425Z"
    },
    "papermill": {
     "duration": 0.210717,
     "end_time": "2022-06-07T07:07:53.355592",
     "exception": false,
     "start_time": "2022-06-07T07:07:53.144875",
     "status": "completed"
    },
    "tags": []
   },
   "outputs": [
    {
     "data": {
      "application/scrapbook.scrap.json+json": {
       "data": 0.11498384148156253,
       "encoder": "json",
       "name": "ABC-GAN Model 1 MSE",
       "version": 1
      }
     },
     "metadata": {
      "scrapbook": {
       "data": true,
       "display": false,
       "name": "ABC-GAN Model 1 MSE"
      }
     },
     "output_type": "display_data"
    },
    {
     "data": {
      "application/scrapbook.scrap.json+json": {
       "data": 0.2720406455490738,
       "encoder": "json",
       "name": "ABC-GAN Model 1 MAE",
       "version": 1
      }
     },
     "metadata": {
      "scrapbook": {
       "data": true,
       "display": false,
       "name": "ABC-GAN Model 1 MAE"
      }
     },
     "output_type": "display_data"
    },
    {
     "data": {
      "application/scrapbook.scrap.json+json": {
       "data": 5.440812910981476,
       "encoder": "json",
       "name": "ABC-GAN Model 1 Manhattan Distance",
       "version": 1
      }
     },
     "metadata": {
      "scrapbook": {
       "data": true,
       "display": false,
       "name": "ABC-GAN Model 1 Manhattan Distance"
      }
     },
     "output_type": "display_data"
    },
    {
     "data": {
      "application/scrapbook.scrap.json+json": {
       "data": 1.5164556935003484,
       "encoder": "json",
       "name": "ABC-GAN Model 1 Euclidean distance",
       "version": 1
      }
     },
     "metadata": {
      "scrapbook": {
       "data": true,
       "display": false,
       "name": "ABC-GAN Model 1 Euclidean distance"
      }
     },
     "output_type": "display_data"
    },
    {
     "data": {
      "application/scrapbook.scrap.json+json": {
       "data": [
        [
         0.11544076210548963,
         0.11569279176334044,
         0.11435430927206165,
         0.11653722730054428,
         0.11418150834549534,
         0.11492791853277162,
         0.11313569859111686,
         0.11424014454570983,
         0.11458975508225736,
         0.11604429358195083,
         0.11317612448974494,
         0.11577728720755713,
         0.11769859174009886,
         0.11377947953671246,
         0.11606327801718463,
         0.11462098118798467,
         0.11563114799871341,
         0.11295330846176799,
         0.11534688338433666,
         0.1157340167883271,
         0.11631217357375787,
         0.11611510176384932,
         0.11568649645471048,
         0.11552829885608804,
         0.11543693734882228,
         0.11355525977532581,
         0.11442778168305874,
         0.11449635555501288,
         0.11450525291537143,
         0.11416167981793009,
         0.11455261171669333,
         0.11483743097955616,
         0.11473677354594733,
         0.1149503497444336,
         0.11470584568821293,
         0.11320250353970482,
         0.1160686198894075,
         0.11491939184464788,
         0.11453004474172204,
         0.11534919512591313,
         0.11521883595985818,
         0.11372098042273396,
         0.11466940325598252,
         0.1144943953673637,
         0.11475496211166906,
         0.11518443318228697,
         0.11469213239915099,
         0.11384868766394954,
         0.11469298646229815,
         0.11703090022553175,
         0.11446632401154248,
         0.11382753738312146,
         0.11380507508119567,
         0.11389771691498063,
         0.11482672889906431,
         0.11671048867949607,
         0.11572002090166403,
         0.11573620870232534,
         0.11429985443565056,
         0.11500154066212684,
         0.1153490183708874,
         0.11428173663532211,
         0.11710418975886668,
         0.11541212340045023,
         0.11631279533054628,
         0.11427224685663488,
         0.11351002123582354,
         0.11527162561237454,
         0.11551770495040437,
         0.11529338285383628,
         0.113997871052594,
         0.11476740445363998,
         0.11342604727965513,
         0.11646300296819878,
         0.11443531858665268,
         0.11579757689043255,
         0.11554237613440396,
         0.11389793814624123,
         0.11538763855010056,
         0.11572614004960383,
         0.11542150718242188,
         0.11503140700460057,
         0.11405415212612838,
         0.11593473494265756,
         0.11484099966113451,
         0.11375424212619434,
         0.11431506075956696,
         0.1147924968320384,
         0.11455507916428456,
         0.11648445065060724,
         0.11469674978907407,
         0.1141929101863139,
         0.11563429221184851,
         0.11633421542875758,
         0.11632333704624634,
         0.11443441521889541,
         0.11543067700887515,
         0.1148009005236541,
         0.11609161327144091,
         0.1148919226895202
        ],
        [
         0.2732638933695853,
         0.27106035267934203,
         0.2692523471079767,
         0.2738819061778486,
         0.2710121451877058,
         0.2721390060149133,
         0.2690253139473498,
         0.2695878160186112,
         0.2725910780020058,
         0.27413581414148214,
         0.27018088223412634,
         0.2741724683903158,
         0.27519473591819404,
         0.2715040617622435,
         0.27186866803094745,
         0.27282095281407237,
         0.27222174825146794,
         0.26969046527519824,
         0.2723678844980896,
         0.27499133059754965,
         0.27515090433880685,
         0.2727163159288466,
         0.27221253579482435,
         0.27308634081855415,
         0.2739476009272039,
         0.2695673952810466,
         0.27184225553646685,
         0.2701693964190781,
         0.2702478659339249,
         0.2702871079556644,
         0.2708563101477921,
         0.2715945444069803,
         0.27277195351198313,
         0.27212855955585835,
         0.2734060104005039,
         0.2704918154515326,
         0.27457357244566083,
         0.27253898335620763,
         0.27088795593008397,
         0.2720713241957128,
         0.2735188906081021,
         0.2694653349928558,
         0.2708321697078645,
         0.2706745487637818,
         0.27026382545009253,
         0.2733611282892525,
         0.2727294967509806,
         0.2698615233413875,
         0.27047593453899027,
         0.274746338929981,
         0.27156210811808706,
         0.2708920639939606,
         0.2700287914834917,
         0.2703910696320236,
         0.271405013371259,
         0.2736674522049725,
         0.27217434635385873,
         0.2742186659015715,
         0.2708907118998468,
         0.27225124621763824,
         0.272327692527324,
         0.2706497744657099,
         0.2742281938903034,
         0.27149028750136495,
         0.27336570965126156,
         0.27055664053186773,
         0.27102793427184224,
         0.27302424842491746,
         0.2738559520803392,
         0.2726341306231916,
         0.27190861674025657,
         0.2724166034720838,
         0.26924471044912934,
         0.2741309364326298,
         0.272034075204283,
         0.27281017834320664,
         0.2726815934292972,
         0.2720529676415026,
         0.27309871194884183,
         0.2742106721736491,
         0.27215739311650394,
         0.2711939566768706,
         0.27051151627674697,
         0.2724956485442817,
         0.27081571528688075,
         0.27091642981395125,
         0.27072399193421004,
         0.27118433294817806,
         0.2737891565077007,
         0.2739655948244035,
         0.2705367631278932,
         0.27105335919186474,
         0.2723753645084798,
         0.27423798693344,
         0.2726911115460098,
         0.27290585758164526,
         0.2733390283770859,
         0.2711338330991566,
         0.27245936552062633,
         0.27290623998269437
        ],
        [
         5.4652778673917055,
         5.421207053586841,
         5.3850469421595335,
         5.4776381235569715,
         5.420242903754115,
         5.442780120298266,
         5.380506278946996,
         5.391756320372224,
         5.451821560040116,
         5.482716282829642,
         5.403617644682527,
         5.483449367806315,
         5.503894718363881,
         5.43008123524487,
         5.437373360618949,
         5.456419056281447,
         5.444434965029359,
         5.393809305503964,
         5.447357689961791,
         5.4998266119509935,
         5.503018086776137,
         5.454326318576932,
         5.444250715896487,
         5.461726816371083,
         5.478952018544078,
         5.391347905620933,
         5.436845110729337,
         5.403387928381562,
         5.404957318678498,
         5.405742159113288,
         5.417126202955842,
         5.4318908881396055,
         5.455439070239663,
         5.4425711911171675,
         5.4681202080100775,
         5.409836309030652,
         5.491471448913217,
         5.450779667124152,
         5.41775911860168,
         5.441426483914256,
         5.470377812162042,
         5.389306699857116,
         5.4166433941572905,
         5.413490975275636,
         5.405276509001851,
         5.46722256578505,
         5.454589935019612,
         5.39723046682775,
         5.409518690779805,
         5.49492677859962,
         5.431242162361741,
         5.417841279879212,
         5.400575829669833,
         5.4078213926404715,
         5.4281002674251795,
         5.47334904409945,
         5.443486927077174,
         5.48437331803143,
         5.417814237996936,
         5.445024924352765,
         5.446553850546479,
         5.4129954893141985,
         5.4845638778060675,
         5.429805750027299,
         5.467314193025231,
         5.411132810637355,
         5.420558685436845,
         5.460484968498349,
         5.477119041606784,
         5.452682612463832,
         5.438172334805131,
         5.448332069441676,
         5.384894208982587,
         5.4826187286525965,
         5.44068150408566,
         5.456203566864133,
         5.453631868585944,
         5.441059352830052,
         5.461974238976836,
         5.4842134434729815,
         5.443147862330079,
         5.423879133537412,
         5.41023032553494,
         5.449912970885634,
         5.416314305737615,
         5.418328596279025,
         5.414479838684201,
         5.423686658963561,
         5.475783130154014,
         5.4793118964880705,
         5.410735262557864,
         5.421067183837295,
         5.447507290169597,
         5.484759738668799,
         5.453822230920196,
         5.458117151632905,
         5.4667805675417185,
         5.422676661983132,
         5.449187310412526,
         5.458124799653888
        ],
        [
         1.5194786086384344,
         1.5211363631400074,
         1.5123115371646256,
         1.5266776169220815,
         1.5111684773412615,
         1.5160997231895508,
         1.5042320206079702,
         1.511556446486269,
         1.513867597131647,
         1.5234453950302966,
         1.5045007443650198,
         1.5216917375576247,
         1.5342658944270309,
         1.5085057476636439,
         1.5235700050682583,
         1.5140738501670563,
         1.5207310610276454,
         1.5030190182547125,
         1.5188606478827256,
         1.5214073536586254,
         1.5252027640530808,
         1.5239101139099334,
         1.52109497701301,
         1.520054596756893,
         1.519453436922779,
         1.507018644710979,
         1.5127972876962645,
         1.5132505116801571,
         1.5133093068858823,
         1.5110372584283294,
         1.5136222231236782,
         1.5155027613274492,
         1.5148384306317773,
         1.516247669376172,
         1.5146342508223756,
         1.5046760683928273,
         1.5236050662124192,
         1.5160434812013004,
         1.5134731232613419,
         1.5188758680413166,
         1.51801736459013,
         1.5081179027034588,
         1.5143936295163323,
         1.5132375581339745,
         1.5149584952180641,
         1.5177907179995993,
         1.5145437094990095,
         1.508964463888726,
         1.514549348567409,
         1.5299078418357868,
         1.5130520414813398,
         1.5088242931708216,
         1.5086754129447175,
         1.5092893487663697,
         1.515432142321551,
         1.5278120871330745,
         1.5213153578509881,
         1.5214217607377998,
         1.5119514174446913,
         1.5165852476015111,
         1.518874704318216,
         1.5118315821236312,
         1.530386812272418,
         1.5192901197628466,
         1.5252068405993089,
         1.5117688107421379,
         1.5067184291421112,
         1.5183650787104828,
         1.5199849009145079,
         1.5185083658237533,
         1.5099527876896945,
         1.5150406229117421,
         1.50616099590751,
         1.5261913573873942,
         1.512847107850973,
         1.5218250680707854,
         1.5201472042825588,
         1.5092908145631923,
         1.5191289514066972,
         1.521355580064068,
         1.5193518827606847,
         1.5167821663284455,
         1.5103254756914377,
         1.5227260747925582,
         1.5155263089840076,
         1.5083384376604234,
         1.512051988256799,
         1.51520623567908,
         1.5136385246437443,
         1.5263318816732305,
         1.514574196195578,
         1.5112439259518227,
         1.520751736555632,
         1.5253472747460335,
         1.5252759556634095,
         1.512841136530174,
         1.51941223510195,
         1.51526169702566,
         1.5237559730576347,
         1.5158622806147017
        ]
       ],
       "encoder": "json",
       "name": "ABC_GAN_1 Metrics",
       "version": 1
      }
     },
     "metadata": {
      "scrapbook": {
       "data": true,
       "display": false,
       "name": "ABC_GAN_1 Metrics"
      }
     },
     "output_type": "display_data"
    },
    {
     "name": "stdout",
     "output_type": "stream",
     "text": [
      "MSE\n",
      "0.11498384148156253\n"
     ]
    }
   ],
   "source": [
    "ABC_GAN1_metrics=ABC_train_test2.test_generator(gen,test_data,prior_model,variance,bias,\"1\",device)\n",
    "sb.glue(\"ABC_GAN_1 Metrics\",ABC_GAN1_metrics)\n",
    "\n",
    "print(\"MSE\")\n",
    "print(mean(ABC_GAN1_metrics[0]))"
   ]
  },
  {
   "cell_type": "code",
   "execution_count": 14,
   "id": "eb22ce5c",
   "metadata": {
    "execution": {
     "iopub.execute_input": "2022-06-07T07:07:53.383645Z",
     "iopub.status.busy": "2022-06-07T07:07:53.383242Z",
     "iopub.status.idle": "2022-06-07T07:07:53.692352Z",
     "shell.execute_reply": "2022-06-07T07:07:53.692676Z"
    },
    "papermill": {
     "duration": 0.324321,
     "end_time": "2022-06-07T07:07:53.692801",
     "exception": false,
     "start_time": "2022-06-07T07:07:53.368480",
     "status": "completed"
    },
    "tags": []
   },
   "outputs": [
    {
     "data": {
      "image/png": "[encoded data removed]",
      "text/plain": [
       "<Figure size 432x288 with 1 Axes>"
      ]
     },
     "metadata": {
      "needs_background": "light"
     },
     "output_type": "display_data"
    },
    {
     "data": {
      "image/png": "[encoded data removed]",
      "text/plain": [
       "<Figure size 432x288 with 1 Axes>"
      ]
     },
     "metadata": {
      "needs_background": "light"
     },
     "output_type": "display_data"
    },
    {
     "data": {
      "image/png": "[encoded data removed]",
      "text/plain": [
       "<Figure size 432x288 with 1 Axes>"
      ]
     },
     "metadata": {
      "needs_background": "light"
     },
     "output_type": "display_data"
    },
    {
     "data": {
      "image/png": "[encoded data removed]",
      "text/plain": [
       "<Figure size 432x288 with 1 Axes>"
      ]
     },
     "metadata": {
      "needs_background": "light"
     },
     "output_type": "display_data"
    }
   ],
   "source": [
    "sanityChecks.discProbVsError(train_data,disc,device)\n",
    "sanityChecks.discProbVsError(test_data,disc,device)"
   ]
  },
  {
   "cell_type": "markdown",
   "id": "130f3a4d",
   "metadata": {
    "id": "130f3a4d",
    "papermill": {
     "duration": 0.04222,
     "end_time": "2022-06-07T07:07:53.749860",
     "exception": false,
     "start_time": "2022-06-07T07:07:53.707640",
     "status": "completed"
    },
    "tags": []
   },
   "source": [
    "# ABC - GAN Model with skip connection"
   ]
  },
  {
   "cell_type": "code",
   "execution_count": 15,
   "id": "4e43dad1",
   "metadata": {
    "execution": {
     "iopub.execute_input": "2022-06-07T07:07:53.784041Z",
     "iopub.status.busy": "2022-06-07T07:07:53.783646Z",
     "iopub.status.idle": "2022-06-07T07:07:53.786024Z",
     "shell.execute_reply": "2022-06-07T07:07:53.786268Z"
    },
    "id": "4e43dad1",
    "papermill": {
     "duration": 0.020501,
     "end_time": "2022-06-07T07:07:53.786383",
     "exception": false,
     "start_time": "2022-06-07T07:07:53.765882",
     "status": "completed"
    },
    "tags": []
   },
   "outputs": [],
   "source": [
    "#Generator\n",
    "gen3 = network.GeneratorWithSkipConnection(n_features+1).to(device)\n",
    "constraints=network.weightConstraint()\n",
    "#Discriminator \n",
    "disc3 = network.Discriminator(n_features+1).to(device)\n",
    "\n",
    "criterion = torch.nn.BCELoss()\n",
    "gen_opt = torch.optim.Adam(gen3.parameters(), lr=0.001, betas=(0.5, 0.999))\n",
    "disc_opt = torch.optim.Adam(disc3.parameters(), lr=0.001, betas=(0.5, 0.999))\n"
   ]
  },
  {
   "cell_type": "code",
   "execution_count": 16,
   "id": "26acbc37",
   "metadata": {
    "execution": {
     "iopub.execute_input": "2022-06-07T07:07:53.818374Z",
     "iopub.status.busy": "2022-06-07T07:07:53.817990Z",
     "iopub.status.idle": "2022-06-07T07:08:33.387230Z",
     "shell.execute_reply": "2022-06-07T07:08:33.387546Z"
    },
    "id": "26acbc37",
    "papermill": {
     "duration": 39.586558,
     "end_time": "2022-06-07T07:08:33.387675",
     "exception": false,
     "start_time": "2022-06-07T07:07:53.801117",
     "status": "completed"
    },
    "tags": []
   },
   "outputs": [
    {
     "data": {
      "image/png": "[encoded data removed]",
      "text/plain": [
       "<Figure size 432x288 with 1 Axes>"
      ]
     },
     "metadata": {
      "needs_background": "light"
     },
     "output_type": "display_data"
    },
    {
     "data": {
      "image/png": "[encoded data removed]",
      "text/plain": [
       "<Figure size 432x288 with 1 Axes>"
      ]
     },
     "metadata": {
      "needs_background": "light"
     },
     "output_type": "display_data"
    }
   ],
   "source": [
    "ABC_train_test2.training_GAN_skip_connection(disc3,gen3,disc_opt,gen_opt,train_data,batch_size,n_epochs,criterion,prior_model,variance,bias,device)"
   ]
  },
  {
   "cell_type": "code",
   "execution_count": 17,
   "id": "c5e0717b",
   "metadata": {
    "execution": {
     "iopub.execute_input": "2022-06-07T07:08:33.421473Z",
     "iopub.status.busy": "2022-06-07T07:08:33.421011Z",
     "iopub.status.idle": "2022-06-07T07:08:33.738274Z",
     "shell.execute_reply": "2022-06-07T07:08:33.738520Z"
    },
    "id": "c5e0717b",
    "papermill": {
     "duration": 0.33541,
     "end_time": "2022-06-07T07:08:33.738646",
     "exception": false,
     "start_time": "2022-06-07T07:08:33.403236",
     "status": "completed"
    },
    "tags": []
   },
   "outputs": [
    {
     "data": {
      "application/scrapbook.scrap.json+json": {
       "data": 0.1770190662251772,
       "encoder": "json",
       "name": "ABC-GAN Model 3 MSE",
       "version": 1
      }
     },
     "metadata": {
      "scrapbook": {
       "data": true,
       "display": false,
       "name": "ABC-GAN Model 3 MSE"
      }
     },
     "output_type": "display_data"
    },
    {
     "data": {
      "application/scrapbook.scrap.json+json": {
       "data": 0.3368354625534266,
       "encoder": "json",
       "name": "ABC-GAN Model 3 MAE",
       "version": 1
      }
     },
     "metadata": {
      "scrapbook": {
       "data": true,
       "display": false,
       "name": "ABC-GAN Model 3 MAE"
      }
     },
     "output_type": "display_data"
    },
    {
     "data": {
      "application/scrapbook.scrap.json+json": {
       "data": 6.7367092510685325,
       "encoder": "json",
       "name": "ABC-GAN Model 3 Manhattan Distance",
       "version": 1
      }
     },
     "metadata": {
      "scrapbook": {
       "data": true,
       "display": false,
       "name": "ABC-GAN Model 3 Manhattan Distance"
      }
     },
     "output_type": "display_data"
    },
    {
     "data": {
      "application/scrapbook.scrap.json+json": {
       "data": 1.8815671970868044,
       "encoder": "json",
       "name": "ABC-GAN Model 3 Euclidean distance",
       "version": 1
      }
     },
     "metadata": {
      "scrapbook": {
       "data": true,
       "display": false,
       "name": "ABC-GAN Model 3 Euclidean distance"
      }
     },
     "output_type": "display_data"
    },
    {
     "data": {
      "application/scrapbook.scrap.json+json": {
       "data": [
        [
         0.17543180041368384,
         0.17942692868549895,
         0.17509593007093488,
         0.17948999137987287,
         0.1785247391871156,
         0.1777138454050112,
         0.1756208719900026,
         0.1741284959803225,
         0.17835982572823977,
         0.17728367565217934,
         0.1761111351440868,
         0.17706905190448344,
         0.1778186855379952,
         0.17895035719291852,
         0.1750759876526473,
         0.17597396811744037,
         0.17719882289583197,
         0.1762111580598628,
         0.17743849233958855,
         0.17657656419353093,
         0.17689244095605003,
         0.17706378499265313,
         0.1761013518444227,
         0.17751591269744646,
         0.17669141355597873,
         0.17623386439335692,
         0.17687793584151779,
         0.1791526040251168,
         0.17758094090182847,
         0.1798507372558024,
         0.1755195886984135,
         0.17898230674462456,
         0.17592357208801154,
         0.1759490091286787,
         0.17815870461437694,
         0.17522673481346324,
         0.17750059628642348,
         0.1783273739552848,
         0.17649243546986462,
         0.17826654273032366,
         0.17552091227372357,
         0.1765604870810634,
         0.17491012899275363,
         0.17521310028386572,
         0.17530326560361226,
         0.17553231355229765,
         0.175810670863281,
         0.17450210007229558,
         0.17748381228110727,
         0.176587553954328,
         0.17777319543640085,
         0.17862515664807468,
         0.18079613720974558,
         0.17897543171550767,
         0.17608892762114964,
         0.17650536455452498,
         0.17989523363726634,
         0.1757284607281308,
         0.1796461391994292,
         0.17567854625716114,
         0.17543867606366886,
         0.1756150356581995,
         0.17875470665624849,
         0.177182687595257,
         0.1775653969635435,
         0.1721640068990402,
         0.17720139532695872,
         0.1786389387449825,
         0.17945670553668638,
         0.17480423675521783,
         0.17479670255206536,
         0.18030327543162902,
         0.17754747657428105,
         0.17693062969575563,
         0.17824803473526588,
         0.17839197119567585,
         0.17353303584164279,
         0.1783778893191593,
         0.17622529598873915,
         0.17651406192063615,
         0.17855538684295938,
         0.17611604158784835,
         0.180540296695998,
         0.1788176627984351,
         0.1772418474090225,
         0.17519257172770059,
         0.17844381763466818,
         0.17714944124095106,
         0.18071229440644737,
         0.1781432567790485,
         0.17707623958383448,
         0.1751051737726323,
         0.17839864806541264,
         0.18007058679507443,
         0.17408998944720472,
         0.17301940025756388,
         0.1764776070534752,
         0.1773885376940631,
         0.17455751608664904,
         0.17617503069347484
        ],
        [
         0.33599730278365314,
         0.33829290862195194,
         0.3356903567444533,
         0.33888823236338794,
         0.33869264419190587,
         0.3392414420377463,
         0.33402986521832645,
         0.33380448813550173,
         0.3385862677823752,
         0.33849139357917013,
         0.33608137811534106,
         0.33713955129496753,
         0.33757095034234225,
         0.3377196073066443,
         0.3376709699165076,
         0.3373109846841544,
         0.3389628320466727,
         0.3367537453304976,
         0.3385190724860877,
         0.3367905631195754,
         0.3361979215871543,
         0.3350957318674773,
         0.3368369519244879,
         0.3395202055107802,
         0.33503730441443624,
         0.3344350441824645,
         0.3361828565131873,
         0.33848019684664904,
         0.3358375727664679,
         0.3389590546023101,
         0.33465442950837315,
         0.33903101678006353,
         0.33538920725695787,
         0.33528894181363283,
         0.3364388405811042,
         0.33569225068204106,
         0.33481191541068256,
         0.33752986337058244,
         0.33545247609727086,
         0.33608924741856755,
         0.3359623223077506,
         0.33595379288308325,
         0.3366144030820578,
         0.3344120010267943,
         0.3351333871018142,
         0.33564157034270464,
         0.3358172446023673,
         0.33525089914910494,
         0.33846878851763906,
         0.33661890919320286,
         0.33929088260047136,
         0.3364395737182349,
         0.3418252706062049,
         0.3381105243694037,
         0.334689176036045,
         0.33595773871056733,
         0.3407968699466437,
         0.334466542256996,
         0.3398572518955916,
         0.33698354656808077,
         0.33590828026644887,
         0.33695050622336564,
         0.3384179964195937,
         0.3372838407289237,
         0.33759940112940967,
         0.33171745236031713,
         0.3342704742681235,
         0.3360982909332961,
         0.3380767628084868,
         0.33479540939442815,
         0.3356749146711081,
         0.3397068053018302,
         0.3371157124172896,
         0.3377184226643294,
         0.3390676229726523,
         0.33643689448945224,
         0.332182142091915,
         0.33853240753524005,
         0.33503118152730166,
         0.33492405856959523,
         0.3361053302418441,
         0.3361740543972701,
         0.3387659430038184,
         0.3377992599736899,
         0.33905040319077673,
         0.33427485967986287,
         0.3380681454669684,
         0.3378293618094176,
         0.3408097743522376,
         0.3367715447675437,
         0.3369689791928977,
         0.3372074305545539,
         0.3368382229935378,
         0.3419146254193038,
         0.3352574496995658,
         0.33380512143485247,
         0.33762124623171985,
         0.33601682926528154,
         0.33523637349717317,
         0.3380364432465285
        ],
        [
         6.719946055673063,
         6.765858172439039,
         6.713807134889066,
         6.777764647267759,
         6.773852883838117,
         6.784828840754926,
         6.680597304366529,
         6.676089762710035,
         6.771725355647504,
         6.769827871583402,
         6.721627562306821,
         6.742791025899351,
         6.751419006846845,
         6.754392146132886,
         6.753419398330152,
         6.746219693683088,
         6.779256640933454,
         6.7350749066099524,
         6.770381449721754,
         6.735811262391508,
         6.723958431743085,
         6.701914637349546,
         6.736739038489759,
         6.790404110215604,
         6.700746088288724,
         6.68870088364929,
         6.723657130263746,
         6.769603936932981,
         6.716751455329359,
         6.779181092046201,
         6.693088590167463,
         6.78062033560127,
         6.707784145139158,
         6.705778836272657,
         6.728776811622083,
         6.713845013640821,
         6.696238308213651,
         6.750597267411649,
         6.709049521945417,
         6.721784948371351,
         6.719246446155012,
         6.7190758576616645,
         6.732288061641157,
         6.688240020535886,
         6.702667742036283,
         6.712831406854093,
         6.716344892047346,
         6.705017982982099,
         6.769375770352781,
         6.732378183864057,
         6.7858176520094275,
         6.728791474364698,
         6.836505412124097,
         6.762210487388074,
         6.693783520720899,
         6.719154774211347,
         6.815937398932874,
         6.689330845139921,
         6.797145037911832,
         6.739670931361616,
         6.718165605328977,
         6.739010124467313,
         6.768359928391874,
         6.745676814578474,
         6.751988022588193,
         6.634349047206342,
         6.68540948536247,
         6.721965818665922,
         6.761535256169736,
         6.695908187888563,
         6.7134982934221625,
         6.7941361060366035,
         6.742314248345792,
         6.754368453286588,
         6.781352459453046,
         6.728737889789045,
         6.6436428418383,
         6.770648150704801,
         6.700623630546033,
         6.698481171391904,
         6.722106604836881,
         6.723481087945402,
         6.775318860076368,
         6.755985199473798,
         6.781008063815534,
         6.685497193597257,
         6.761362909339368,
         6.756587236188352,
         6.816195487044752,
         6.7354308953508735,
         6.7393795838579535,
         6.744148611091077,
         6.736764459870756,
         6.8382925083860755,
         6.705148993991315,
         6.67610242869705,
         6.752424924634397,
         6.720336585305631,
         6.704727469943464,
         6.76072886493057
        ],
        [
         1.8731353416861465,
         1.894343837245493,
         1.8713413909329046,
         1.894676707936596,
         1.8895752918955921,
         1.8852790000687496,
         1.874144455424942,
         1.8661644942519002,
         1.8887023361463804,
         1.8829958876863186,
         1.8767585627570043,
         1.8818557431667466,
         1.8858350168452978,
         1.891826404260806,
         1.8712348203934606,
         1.8760275483981592,
         1.8825452074031688,
         1.8772914427965774,
         1.8838178910902643,
         1.8792368887052582,
         1.8809170154796837,
         1.8818277550969065,
         1.876706433326335,
         1.8842288220778625,
         1.8798479382970248,
         1.877412391529133,
         1.8808398966499928,
         1.8928951583493299,
         1.8845739088814133,
         1.8965797492106802,
         1.8736039533391977,
         1.8919952787711949,
         1.875758897555928,
         1.87589450198394,
         1.8876371717805143,
         1.872040249639218,
         1.8841475328987562,
         1.8885305078567558,
         1.8787891604427815,
         1.8882083716069247,
         1.8736110176540037,
         1.879151335476009,
         1.8703482509562417,
         1.8719674157627089,
         1.8724490145454549,
         1.873671868563424,
         1.875156904705742,
         1.868165410622387,
         1.884058450691524,
         1.8792953677074182,
         1.8855937814725676,
         1.8901066459227887,
         1.9015579781313297,
         1.8919589409683693,
         1.8766402298850446,
         1.8788579752313634,
         1.8968143485184117,
         1.8747184360758329,
         1.8955006684220885,
         1.8744521666724983,
         1.8731720479639282,
         1.8741133138537782,
         1.8907919327956129,
         1.882459495422183,
         1.884491427221379,
         1.8556077543437903,
         1.8825588719982103,
         1.8901795615495502,
         1.894501018931826,
         1.8697820020270697,
         1.869741707039052,
         1.8989643252659014,
         1.8843963307875604,
         1.8811200370829908,
         1.8881103502457999,
         1.888872527174218,
         1.8629709382684572,
         1.8887979739461778,
         1.8773667515365193,
         1.8789042653665786,
         1.8897374782914127,
         1.876784705755289,
         1.9002120760378196,
         1.8911248652504948,
         1.8827737379144764,
         1.8718577495509672,
         1.8891469907588885,
         1.8822828758767958,
         1.9011170106358386,
         1.887555333117673,
         1.881893937414298,
         1.8713907864079715,
         1.88890787528356,
         1.8977385847111528,
         1.8659581423344134,
         1.860211817280838,
         1.8787102333967056,
         1.8835526947450292,
         1.8684620204149136,
         1.8770989888307694
        ]
       ],
       "encoder": "json",
       "name": "ABC_GAN_3 Metrics",
       "version": 1
      }
     },
     "metadata": {
      "scrapbook": {
       "data": true,
       "display": false,
       "name": "ABC_GAN_3 Metrics"
      }
     },
     "output_type": "display_data"
    },
    {
     "name": "stdout",
     "output_type": "stream",
     "text": [
      "MSE\n",
      "0.1770190662251772\n"
     ]
    }
   ],
   "source": [
    "ABC_GAN3_metrics=ABC_train_test2.test_generator(gen3,test_data,prior_model,variance,bias,\"3\",device)\n",
    "sb.glue(\"ABC_GAN_3 Metrics\",ABC_GAN3_metrics)\n",
    "\n",
    "print(\"MSE\")\n",
    "print(mean(ABC_GAN3_metrics[0]))"
   ]
  },
  {
   "cell_type": "code",
   "execution_count": 18,
   "id": "c8e46b48",
   "metadata": {
    "execution": {
     "iopub.execute_input": "2022-06-07T07:08:33.774640Z",
     "iopub.status.busy": "2022-06-07T07:08:33.774266Z",
     "iopub.status.idle": "2022-06-07T07:08:34.069951Z",
     "shell.execute_reply": "2022-06-07T07:08:34.070247Z"
    },
    "id": "c8e46b48",
    "papermill": {
     "duration": 0.315121,
     "end_time": "2022-06-07T07:08:34.070379",
     "exception": false,
     "start_time": "2022-06-07T07:08:33.755258",
     "status": "completed"
    },
    "tags": []
   },
   "outputs": [
    {
     "data": {
      "image/png": "[encoded data removed]",
      "text/plain": [
       "<Figure size 432x288 with 1 Axes>"
      ]
     },
     "metadata": {
      "needs_background": "light"
     },
     "output_type": "display_data"
    },
    {
     "data": {
      "image/png": "[encoded data removed]",
      "text/plain": [
       "<Figure size 432x288 with 1 Axes>"
      ]
     },
     "metadata": {
      "needs_background": "light"
     },
     "output_type": "display_data"
    },
    {
     "data": {
      "image/png": "[encoded data removed]",
      "text/plain": [
       "<Figure size 432x288 with 1 Axes>"
      ]
     },
     "metadata": {
      "needs_background": "light"
     },
     "output_type": "display_data"
    },
    {
     "data": {
      "image/png": "[encoded data removed]",
      "text/plain": [
       "<Figure size 432x288 with 1 Axes>"
      ]
     },
     "metadata": {
      "needs_background": "light"
     },
     "output_type": "display_data"
    }
   ],
   "source": [
    "sanityChecks.discProbVsError(train_data,disc3,device)\n",
    "sanityChecks.discProbVsError(test_data,disc3,device)"
   ]
  },
  {
   "cell_type": "markdown",
   "id": "a5bd74c3",
   "metadata": {
    "id": "a5bd74c3",
    "papermill": {
     "duration": 0.018775,
     "end_time": "2022-06-07T07:08:34.108499",
     "exception": false,
     "start_time": "2022-06-07T07:08:34.089724",
     "status": "completed"
    },
    "tags": []
   },
   "source": [
    "## Skip Connection Model Analysis - ABC-GAN "
   ]
  },
  {
   "cell_type": "markdown",
   "id": "5744a8bf",
   "metadata": {
    "id": "5744a8bf",
    "papermill": {
     "duration": 0.019171,
     "end_time": "2022-06-07T07:08:34.146431",
     "exception": false,
     "start_time": "2022-06-07T07:08:34.127260",
     "status": "completed"
    },
    "tags": []
   },
   "source": [
    "### Weight Analysis \n",
    "\n",
    "Study the weights of the skip connection layer\n",
    "\n",
    "Equation of the skip connection is \n",
    "\n",
    "$output = y_{gan} * w + y_{abc} * (1-w)$"
   ]
  },
  {
   "cell_type": "code",
   "execution_count": 19,
   "id": "52c31dea",
   "metadata": {
    "execution": {
     "iopub.execute_input": "2022-06-07T07:08:34.186998Z",
     "iopub.status.busy": "2022-06-07T07:08:34.186553Z",
     "iopub.status.idle": "2022-06-07T07:08:34.190020Z",
     "shell.execute_reply": "2022-06-07T07:08:34.190263Z"
    },
    "id": "52c31dea",
    "papermill": {
     "duration": 0.024972,
     "end_time": "2022-06-07T07:08:34.190382",
     "exception": false,
     "start_time": "2022-06-07T07:08:34.165410",
     "status": "completed"
    },
    "tags": []
   },
   "outputs": [
    {
     "name": "stdout",
     "output_type": "stream",
     "text": [
      "Weight of the node at skip connection\n",
      "Parameter containing:\n",
      "tensor([[0.0798]], requires_grad=True)\n"
     ]
    },
    {
     "data": {
      "application/scrapbook.scrap.json+json": {
       "data": 0.07980411499738693,
       "encoder": "json",
       "name": "Skip Connection Weight",
       "version": 1
      }
     },
     "metadata": {
      "scrapbook": {
       "data": true,
       "display": false,
       "name": "Skip Connection Weight"
      }
     },
     "output_type": "display_data"
    }
   ],
   "source": [
    "print(\"Weight of the node at skip connection\")\n",
    "for name,param in gen3.named_parameters():\n",
    "    if(name == \"skipNode.weight\"):\n",
    "        print(param)\n",
    "        sb.glue(\"Skip Connection Weight\",param.item())"
   ]
  }
 ],
 "metadata": {
  "colab": {
   "collapsed_sections": [],
   "name": "ABC_GAN_Model-Catboost_Pre-gen.ipynb",
   "provenance": []
  },
  "interpreter": {
   "hash": "31f2aee4e71d21fbe5cf8b01ff0e069b9275f58929596ceb00d14d90e3e16cd6"
  },
  "kernelspec": {
   "display_name": "Python 3 (ipykernel)",
   "language": "python",
   "name": "python3"
  },
  "language_info": {
   "codemirror_mode": {
    "name": "ipython",
    "version": 3
   },
   "file_extension": ".py",
   "mimetype": "text/x-python",
   "name": "python",
   "nbconvert_exporter": "python",
   "pygments_lexer": "ipython3",
   "version": "3.8.11"
  },
  "papermill": {
   "default_parameters": {},
   "duration": 61.808139,
   "end_time": "2022-06-07T07:08:34.517177",
   "environment_variables": {},
   "exception": null,
   "input_path": "ABC_GAN-Catboost.ipynb",
   "output_path": "./ABC_GAN_Catboost/ABC-GAN_output_9_2.ipynb",
   "parameters": {
    "bias": 1,
    "variance": 0.01
   },
   "start_time": "2022-06-07T07:07:32.709038",
   "version": "2.3.3"
  }
 },
 "nbformat": 4,
 "nbformat_minor": 5
}