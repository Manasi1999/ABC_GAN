{
 "cells": [
  {
   "cell_type": "markdown",
   "id": "622780e6",
   "metadata": {
    "id": "622780e6",
    "papermill": {
     "duration": 0.030835,
     "end_time": "2022-06-07T06:19:27.196562",
     "exception": false,
     "start_time": "2022-06-07T06:19:27.165727",
     "status": "completed"
    },
    "tags": []
   },
   "source": [
    "## Import Libraries "
   ]
  },
  {
   "cell_type": "code",
   "execution_count": 1,
   "id": "a62397e3",
   "metadata": {
    "execution": {
     "iopub.execute_input": "2022-06-07T06:19:27.236487Z",
     "iopub.status.busy": "2022-06-07T06:19:27.235889Z",
     "iopub.status.idle": "2022-06-07T06:19:27.238184Z",
     "shell.execute_reply": "2022-06-07T06:19:27.238510Z"
    },
    "id": "a62397e3",
    "papermill": {
     "duration": 0.023869,
     "end_time": "2022-06-07T06:19:27.238713",
     "exception": false,
     "start_time": "2022-06-07T06:19:27.214844",
     "status": "completed"
    },
    "tags": []
   },
   "outputs": [],
   "source": [
    "import warnings\n",
    "import sys\n",
    "sys.path.insert(0, '../../src')\n",
    "warnings.filterwarnings('ignore')"
   ]
  },
  {
   "cell_type": "code",
   "execution_count": 2,
   "id": "d6a4e155",
   "metadata": {
    "execution": {
     "iopub.execute_input": "2022-06-07T06:19:27.259448Z",
     "iopub.status.busy": "2022-06-07T06:19:27.259035Z",
     "iopub.status.idle": "2022-06-07T06:19:28.943936Z",
     "shell.execute_reply": "2022-06-07T06:19:28.944172Z"
    },
    "id": "d6a4e155",
    "papermill": {
     "duration": 1.695943,
     "end_time": "2022-06-07T06:19:28.944304",
     "exception": false,
     "start_time": "2022-06-07T06:19:27.248361",
     "status": "completed"
    },
    "tags": []
   },
   "outputs": [],
   "source": [
    "import ABC_train_test2\n",
    "import friedman1Dataset\n",
    "import network\n",
    "import dataset\n",
    "import sanityChecks\n",
    "import torch \n",
    "import scrapbook as sb\n",
    "from statistics import mean \n",
    "import catboost as ctb \n",
    "from sklearn.model_selection import train_test_split\n",
    "from sklearn.metrics import mean_squared_error,mean_absolute_error\n",
    "import numpy as np"
   ]
  },
  {
   "cell_type": "markdown",
   "id": "2fa5b0f7",
   "metadata": {
    "id": "2fa5b0f7",
    "papermill": {
     "duration": 0.006918,
     "end_time": "2022-06-07T06:19:28.958580",
     "exception": false,
     "start_time": "2022-06-07T06:19:28.951662",
     "status": "completed"
    },
    "tags": []
   },
   "source": [
    "## Parameters "
   ]
  },
  {
   "cell_type": "code",
   "execution_count": 3,
   "id": "783186fb",
   "metadata": {
    "execution": {
     "iopub.execute_input": "2022-06-07T06:19:28.974727Z",
     "iopub.status.busy": "2022-06-07T06:19:28.974357Z",
     "iopub.status.idle": "2022-06-07T06:19:28.975540Z",
     "shell.execute_reply": "2022-06-07T06:19:28.975829Z"
    },
    "id": "783186fb",
    "papermill": {
     "duration": 0.010492,
     "end_time": "2022-06-07T06:19:28.975952",
     "exception": false,
     "start_time": "2022-06-07T06:19:28.965460",
     "status": "completed"
    },
    "tags": [
     "parameters"
    ]
   },
   "outputs": [],
   "source": [
    "variance = 1\n",
    "bias = 1 "
   ]
  },
  {
   "cell_type": "code",
   "execution_count": 4,
   "id": "53b1654a",
   "metadata": {
    "execution": {
     "iopub.execute_input": "2022-06-07T06:19:28.991994Z",
     "iopub.status.busy": "2022-06-07T06:19:28.991619Z",
     "iopub.status.idle": "2022-06-07T06:19:28.992865Z",
     "shell.execute_reply": "2022-06-07T06:19:28.993121Z"
    },
    "papermill": {
     "duration": 0.010171,
     "end_time": "2022-06-07T06:19:28.993228",
     "exception": false,
     "start_time": "2022-06-07T06:19:28.983057",
     "status": "completed"
    },
    "tags": [
     "injected-parameters"
    ]
   },
   "outputs": [],
   "source": [
    "# Parameters\n",
    "variance = 1\n",
    "bias = 0.01\n"
   ]
  },
  {
   "cell_type": "markdown",
   "id": "391cdbfd",
   "metadata": {
    "id": "391cdbfd",
    "papermill": {
     "duration": 0.007113,
     "end_time": "2022-06-07T06:19:29.007731",
     "exception": false,
     "start_time": "2022-06-07T06:19:29.000618",
     "status": "completed"
    },
    "tags": []
   },
   "source": [
    "## Dataset \n"
   ]
  },
  {
   "cell_type": "code",
   "execution_count": 5,
   "id": "5b51f161",
   "metadata": {
    "execution": {
     "iopub.execute_input": "2022-06-07T06:19:29.024071Z",
     "iopub.status.busy": "2022-06-07T06:19:29.023699Z",
     "iopub.status.idle": "2022-06-07T06:19:29.024930Z",
     "shell.execute_reply": "2022-06-07T06:19:29.025162Z"
    },
    "id": "5b51f161",
    "papermill": {
     "duration": 0.010535,
     "end_time": "2022-06-07T06:19:29.025270",
     "exception": false,
     "start_time": "2022-06-07T06:19:29.014735",
     "status": "completed"
    },
    "tags": []
   },
   "outputs": [],
   "source": [
    "#Parameters \n",
    "n_features = 5\n",
    "n_samples= 100\n",
    "n_target = 1 "
   ]
  },
  {
   "cell_type": "code",
   "execution_count": 6,
   "id": "5d6eced4",
   "metadata": {
    "execution": {
     "iopub.execute_input": "2022-06-07T06:19:29.041776Z",
     "iopub.status.busy": "2022-06-07T06:19:29.041202Z",
     "iopub.status.idle": "2022-06-07T06:19:29.047240Z",
     "shell.execute_reply": "2022-06-07T06:19:29.047493Z"
    },
    "id": "5d6eced4",
    "papermill": {
     "duration": 0.015249,
     "end_time": "2022-06-07T06:19:29.047605",
     "exception": false,
     "start_time": "2022-06-07T06:19:29.032356",
     "status": "completed"
    },
    "tags": []
   },
   "outputs": [
    {
     "name": "stdout",
     "output_type": "stream",
     "text": [
      "         X0        X1        X2        X3        X4         Y\n",
      "0 -1.025723  1.134291  0.859599  1.060963 -1.072915  0.149095\n",
      "1 -0.192470 -0.519498  0.652018  0.970020 -1.527622 -0.133200\n",
      "2  0.136179  0.240814 -1.665474  1.686748  0.062605  2.203839\n",
      "3  0.720373  0.505851 -1.380770 -0.832331 -0.515650  0.575196\n",
      "4  0.375266 -1.326483  0.158044 -1.344587 -0.179121 -1.850018\n"
     ]
    }
   ],
   "source": [
    "X,Y = friedman1Dataset.friedman1_data(n_samples,n_features)"
   ]
  },
  {
   "cell_type": "code",
   "execution_count": 7,
   "id": "fe007438",
   "metadata": {
    "execution": {
     "iopub.execute_input": "2022-06-07T06:19:29.065112Z",
     "iopub.status.busy": "2022-06-07T06:19:29.064742Z",
     "iopub.status.idle": "2022-06-07T06:19:29.066028Z",
     "shell.execute_reply": "2022-06-07T06:19:29.066266Z"
    },
    "id": "fe007438",
    "papermill": {
     "duration": 0.011251,
     "end_time": "2022-06-07T06:19:29.066376",
     "exception": false,
     "start_time": "2022-06-07T06:19:29.055125",
     "status": "completed"
    },
    "tags": []
   },
   "outputs": [],
   "source": [
    "#Train test split for dataset \n",
    "X_train,X_test,Y_train,Y_test = train_test_split(X,Y,test_size = 0.2)\n",
    "train_data = dataset.CustomDataset(X_train,Y_train)\n",
    "test_data = dataset.CustomDataset(X_test,Y_test)\n"
   ]
  },
  {
   "cell_type": "markdown",
   "id": "a9a1af34",
   "metadata": {
    "id": "a9a1af34",
    "papermill": {
     "duration": 0.00722,
     "end_time": "2022-06-07T06:19:29.080975",
     "exception": false,
     "start_time": "2022-06-07T06:19:29.073755",
     "status": "completed"
    },
    "tags": []
   },
   "source": [
    "## Training Parameters "
   ]
  },
  {
   "cell_type": "code",
   "execution_count": 8,
   "id": "952b7fc8",
   "metadata": {
    "execution": {
     "iopub.execute_input": "2022-06-07T06:19:29.097659Z",
     "iopub.status.busy": "2022-06-07T06:19:29.097292Z",
     "iopub.status.idle": "2022-06-07T06:19:29.098523Z",
     "shell.execute_reply": "2022-06-07T06:19:29.098766Z"
    },
    "id": "952b7fc8",
    "papermill": {
     "duration": 0.010719,
     "end_time": "2022-06-07T06:19:29.098875",
     "exception": false,
     "start_time": "2022-06-07T06:19:29.088156",
     "status": "completed"
    },
    "tags": []
   },
   "outputs": [],
   "source": [
    "batch_size = 32\n",
    "n_epochs = 1000\n",
    "#Select the device \n",
    "device = torch.device('cuda' if torch.cuda.is_available() else 'cpu')"
   ]
  },
  {
   "cell_type": "markdown",
   "id": "a95e1600",
   "metadata": {
    "id": "a95e1600",
    "papermill": {
     "duration": 0.007272,
     "end_time": "2022-06-07T06:19:29.113575",
     "exception": false,
     "start_time": "2022-06-07T06:19:29.106303",
     "status": "completed"
    },
    "tags": []
   },
   "source": [
    "# ABC Pre-generator Model \n",
    "\n",
    "1. The catboost model is used as a pre-generator model for the ABC-GAN. \n",
    "2. The model is first trained on the entire dataset \n",
    "3. It generats X,Y pairs and we add some Gaussian noise with mean 0 and variance 1 to it which is then feed as input to the generator.\n"
   ]
  },
  {
   "cell_type": "code",
   "execution_count": 9,
   "id": "ff8ce7bd",
   "metadata": {
    "execution": {
     "iopub.execute_input": "2022-06-07T06:19:29.132105Z",
     "iopub.status.busy": "2022-06-07T06:19:29.131710Z",
     "iopub.status.idle": "2022-06-07T06:19:29.765963Z",
     "shell.execute_reply": "2022-06-07T06:19:29.766279Z"
    },
    "id": "ff8ce7bd",
    "papermill": {
     "duration": 0.64551,
     "end_time": "2022-06-07T06:19:29.766406",
     "exception": false,
     "start_time": "2022-06-07T06:19:29.120896",
     "status": "completed"
    },
    "tags": []
   },
   "outputs": [
    {
     "name": "stdout",
     "output_type": "stream",
     "text": [
      "Learning rate set to 0.024897\n",
      "0:\tlearn: 0.9718483\ttotal: 57.1ms\tremaining: 57s\n",
      "1:\tlearn: 0.9628534\ttotal: 57.6ms\tremaining: 28.7s\n",
      "2:\tlearn: 0.9536688\ttotal: 58.2ms\tremaining: 19.3s\n",
      "3:\tlearn: 0.9437713\ttotal: 58.7ms\tremaining: 14.6s\n",
      "4:\tlearn: 0.9347796\ttotal: 59.3ms\tremaining: 11.8s\n",
      "5:\tlearn: 0.9268482\ttotal: 59.9ms\tremaining: 9.92s\n",
      "6:\tlearn: 0.9174935\ttotal: 61.2ms\tremaining: 8.68s\n",
      "7:\tlearn: 0.9095001\ttotal: 61.9ms\tremaining: 7.67s\n",
      "8:\tlearn: 0.9015275\ttotal: 62.4ms\tremaining: 6.87s\n",
      "9:\tlearn: 0.8916071\ttotal: 63ms\tremaining: 6.24s\n",
      "10:\tlearn: 0.8840248\ttotal: 63.5ms\tremaining: 5.71s\n",
      "11:\tlearn: 0.8740615\ttotal: 64ms\tremaining: 5.27s\n",
      "12:\tlearn: 0.8657746\ttotal: 64.4ms\tremaining: 4.89s\n",
      "13:\tlearn: 0.8581994\ttotal: 64.8ms\tremaining: 4.56s\n",
      "14:\tlearn: 0.8520803\ttotal: 65.2ms\tremaining: 4.28s\n",
      "15:\tlearn: 0.8446203\ttotal: 65.8ms\tremaining: 4.05s\n",
      "16:\tlearn: 0.8364474\ttotal: 66.3ms\tremaining: 3.83s\n",
      "17:\tlearn: 0.8293167\ttotal: 66.8ms\tremaining: 3.64s\n",
      "18:\tlearn: 0.8229950\ttotal: 67.3ms\tremaining: 3.47s\n",
      "19:\tlearn: 0.8164709\ttotal: 67.7ms\tremaining: 3.32s\n",
      "20:\tlearn: 0.8100904\ttotal: 68.3ms\tremaining: 3.18s\n",
      "21:\tlearn: 0.8029859\ttotal: 68.7ms\tremaining: 3.05s\n",
      "22:\tlearn: 0.7962484\ttotal: 69.1ms\tremaining: 2.94s\n",
      "23:\tlearn: 0.7897051\ttotal: 69.7ms\tremaining: 2.83s\n",
      "24:\tlearn: 0.7824325\ttotal: 70ms\tremaining: 2.73s\n",
      "25:\tlearn: 0.7765813\ttotal: 70.5ms\tremaining: 2.64s\n",
      "26:\tlearn: 0.7692952\ttotal: 71.1ms\tremaining: 2.56s\n",
      "27:\tlearn: 0.7615708\ttotal: 71.5ms\tremaining: 2.48s\n",
      "28:\tlearn: 0.7546863\ttotal: 72.1ms\tremaining: 2.41s\n",
      "29:\tlearn: 0.7485477\ttotal: 72.5ms\tremaining: 2.34s\n",
      "30:\tlearn: 0.7413529\ttotal: 72.8ms\tremaining: 2.27s\n",
      "31:\tlearn: 0.7343484\ttotal: 73.2ms\tremaining: 2.21s\n",
      "32:\tlearn: 0.7272635\ttotal: 73.6ms\tremaining: 2.16s\n",
      "33:\tlearn: 0.7204714\ttotal: 74.1ms\tremaining: 2.11s\n",
      "34:\tlearn: 0.7138345\ttotal: 74.6ms\tremaining: 2.06s\n",
      "35:\tlearn: 0.7099983\ttotal: 75.7ms\tremaining: 2.03s\n",
      "36:\tlearn: 0.7028323\ttotal: 76.2ms\tremaining: 1.98s\n",
      "37:\tlearn: 0.6964867\ttotal: 76.6ms\tremaining: 1.94s\n",
      "38:\tlearn: 0.6910980\ttotal: 76.9ms\tremaining: 1.9s\n",
      "39:\tlearn: 0.6855934\ttotal: 77.2ms\tremaining: 1.85s\n",
      "40:\tlearn: 0.6790622\ttotal: 77.6ms\tremaining: 1.81s\n",
      "41:\tlearn: 0.6725963\ttotal: 77.9ms\tremaining: 1.78s\n",
      "42:\tlearn: 0.6665880\ttotal: 78.2ms\tremaining: 1.74s\n",
      "43:\tlearn: 0.6599191\ttotal: 78.6ms\tremaining: 1.71s\n",
      "44:\tlearn: 0.6542160\ttotal: 79.3ms\tremaining: 1.68s\n",
      "45:\tlearn: 0.6494402\ttotal: 79.8ms\tremaining: 1.65s\n",
      "46:\tlearn: 0.6444135\ttotal: 80.3ms\tremaining: 1.63s\n",
      "47:\tlearn: 0.6390170\ttotal: 80.7ms\tremaining: 1.6s\n",
      "48:\tlearn: 0.6342938\ttotal: 81.2ms\tremaining: 1.57s\n",
      "49:\tlearn: 0.6283702\ttotal: 81.6ms\tremaining: 1.55s\n",
      "50:\tlearn: 0.6221208\ttotal: 82.1ms\tremaining: 1.53s\n",
      "51:\tlearn: 0.6166040\ttotal: 82.5ms\tremaining: 1.5s\n",
      "52:\tlearn: 0.6115486\ttotal: 83ms\tremaining: 1.48s\n",
      "53:\tlearn: 0.6069869\ttotal: 83.5ms\tremaining: 1.46s\n",
      "54:\tlearn: 0.6027677\ttotal: 84ms\tremaining: 1.44s\n",
      "55:\tlearn: 0.5972798\ttotal: 84.4ms\tremaining: 1.42s\n",
      "56:\tlearn: 0.5915863\ttotal: 84.9ms\tremaining: 1.4s\n",
      "57:\tlearn: 0.5867835\ttotal: 85.5ms\tremaining: 1.39s\n",
      "58:\tlearn: 0.5829260\ttotal: 86.1ms\tremaining: 1.37s\n",
      "59:\tlearn: 0.5783279\ttotal: 86.6ms\tremaining: 1.36s\n",
      "60:\tlearn: 0.5746414\ttotal: 87ms\tremaining: 1.34s\n",
      "61:\tlearn: 0.5694919\ttotal: 87.5ms\tremaining: 1.32s\n",
      "62:\tlearn: 0.5647423\ttotal: 88ms\tremaining: 1.31s\n",
      "63:\tlearn: 0.5602166\ttotal: 88.6ms\tremaining: 1.3s\n",
      "64:\tlearn: 0.5560733\ttotal: 89.3ms\tremaining: 1.28s\n",
      "65:\tlearn: 0.5523414\ttotal: 89.7ms\tremaining: 1.27s\n",
      "66:\tlearn: 0.5482831\ttotal: 90.2ms\tremaining: 1.25s\n",
      "67:\tlearn: 0.5442312\ttotal: 90.5ms\tremaining: 1.24s\n",
      "68:\tlearn: 0.5394436\ttotal: 90.8ms\tremaining: 1.23s\n",
      "69:\tlearn: 0.5346457\ttotal: 91.2ms\tremaining: 1.21s\n",
      "70:\tlearn: 0.5306513\ttotal: 91.6ms\tremaining: 1.2s\n",
      "71:\tlearn: 0.5267383\ttotal: 91.9ms\tremaining: 1.18s\n",
      "72:\tlearn: 0.5227171\ttotal: 92.3ms\tremaining: 1.17s\n",
      "73:\tlearn: 0.5184090\ttotal: 92.6ms\tremaining: 1.16s\n",
      "74:\tlearn: 0.5141154\ttotal: 93ms\tremaining: 1.15s\n",
      "75:\tlearn: 0.5104851\ttotal: 93.3ms\tremaining: 1.13s\n",
      "76:\tlearn: 0.5061730\ttotal: 93.7ms\tremaining: 1.12s\n",
      "77:\tlearn: 0.5023382\ttotal: 94.1ms\tremaining: 1.11s\n",
      "78:\tlearn: 0.4985581\ttotal: 94.4ms\tremaining: 1.1s\n",
      "79:\tlearn: 0.4939948\ttotal: 94.8ms\tremaining: 1.09s\n",
      "80:\tlearn: 0.4906973\ttotal: 95.3ms\tremaining: 1.08s\n",
      "81:\tlearn: 0.4865558\ttotal: 96ms\tremaining: 1.07s\n",
      "82:\tlearn: 0.4821896\ttotal: 96.5ms\tremaining: 1.06s\n",
      "83:\tlearn: 0.4788826\ttotal: 96.8ms\tremaining: 1.05s\n",
      "84:\tlearn: 0.4750877\ttotal: 97.3ms\tremaining: 1.05s\n",
      "85:\tlearn: 0.4712813\ttotal: 97.8ms\tremaining: 1.04s\n",
      "86:\tlearn: 0.4676132\ttotal: 98.3ms\tremaining: 1.03s\n",
      "87:\tlearn: 0.4644408\ttotal: 98.7ms\tremaining: 1.02s\n",
      "88:\tlearn: 0.4608619\ttotal: 99.3ms\tremaining: 1.02s\n",
      "89:\tlearn: 0.4575428\ttotal: 99.8ms\tremaining: 1.01s\n",
      "90:\tlearn: 0.4537445\ttotal: 100ms\tremaining: 1s\n",
      "91:\tlearn: 0.4500726\ttotal: 101ms\tremaining: 995ms\n",
      "92:\tlearn: 0.4466275\ttotal: 101ms\tremaining: 988ms\n",
      "93:\tlearn: 0.4430040\ttotal: 102ms\tremaining: 980ms\n",
      "94:\tlearn: 0.4398260\ttotal: 102ms\tremaining: 973ms\n"
     ]
    },
    {
     "name": "stdout",
     "output_type": "stream",
     "text": [
      "95:\tlearn: 0.4360538\ttotal: 103ms\tremaining: 968ms\n",
      "96:\tlearn: 0.4331355\ttotal: 103ms\tremaining: 963ms\n",
      "97:\tlearn: 0.4300582\ttotal: 104ms\tremaining: 957ms\n",
      "98:\tlearn: 0.4272844\ttotal: 104ms\tremaining: 950ms\n",
      "99:\tlearn: 0.4236575\ttotal: 105ms\tremaining: 943ms\n",
      "100:\tlearn: 0.4204929\ttotal: 105ms\tremaining: 937ms\n",
      "101:\tlearn: 0.4171149\ttotal: 106ms\tremaining: 930ms\n",
      "102:\tlearn: 0.4141454\ttotal: 106ms\tremaining: 922ms\n",
      "103:\tlearn: 0.4111357\ttotal: 106ms\tremaining: 915ms\n",
      "104:\tlearn: 0.4075813\ttotal: 107ms\tremaining: 910ms\n",
      "105:\tlearn: 0.4040760\ttotal: 107ms\tremaining: 904ms\n",
      "106:\tlearn: 0.4007148\ttotal: 108ms\tremaining: 898ms\n",
      "107:\tlearn: 0.3979005\ttotal: 108ms\tremaining: 894ms\n",
      "108:\tlearn: 0.3945057\ttotal: 109ms\tremaining: 889ms\n",
      "109:\tlearn: 0.3916991\ttotal: 109ms\tremaining: 884ms\n",
      "110:\tlearn: 0.3886695\ttotal: 110ms\tremaining: 880ms\n",
      "111:\tlearn: 0.3864892\ttotal: 110ms\tremaining: 874ms\n",
      "112:\tlearn: 0.3838630\ttotal: 111ms\tremaining: 868ms\n",
      "113:\tlearn: 0.3808400\ttotal: 111ms\tremaining: 864ms\n",
      "114:\tlearn: 0.3781751\ttotal: 112ms\tremaining: 859ms\n",
      "115:\tlearn: 0.3753984\ttotal: 112ms\tremaining: 854ms\n",
      "116:\tlearn: 0.3726895\ttotal: 112ms\tremaining: 849ms\n",
      "117:\tlearn: 0.3704153\ttotal: 113ms\tremaining: 844ms\n",
      "118:\tlearn: 0.3679490\ttotal: 114ms\tremaining: 841ms\n",
      "119:\tlearn: 0.3656925\ttotal: 114ms\tremaining: 836ms\n",
      "120:\tlearn: 0.3632229\ttotal: 115ms\tremaining: 833ms\n",
      "121:\tlearn: 0.3611968\ttotal: 115ms\tremaining: 828ms\n",
      "122:\tlearn: 0.3583188\ttotal: 116ms\tremaining: 824ms\n",
      "123:\tlearn: 0.3556406\ttotal: 116ms\tremaining: 820ms\n",
      "124:\tlearn: 0.3531020\ttotal: 117ms\tremaining: 816ms\n",
      "125:\tlearn: 0.3504799\ttotal: 117ms\tremaining: 813ms\n",
      "126:\tlearn: 0.3478095\ttotal: 118ms\tremaining: 809ms\n",
      "127:\tlearn: 0.3451370\ttotal: 118ms\tremaining: 804ms\n",
      "128:\tlearn: 0.3422583\ttotal: 119ms\tremaining: 800ms\n",
      "129:\tlearn: 0.3403543\ttotal: 119ms\tremaining: 796ms\n",
      "130:\tlearn: 0.3380310\ttotal: 119ms\tremaining: 792ms\n",
      "131:\tlearn: 0.3353966\ttotal: 120ms\tremaining: 788ms\n",
      "132:\tlearn: 0.3333847\ttotal: 120ms\tremaining: 784ms\n",
      "133:\tlearn: 0.3306048\ttotal: 121ms\tremaining: 780ms\n",
      "134:\tlearn: 0.3286373\ttotal: 121ms\tremaining: 775ms\n",
      "135:\tlearn: 0.3265410\ttotal: 121ms\tremaining: 771ms\n",
      "136:\tlearn: 0.3241990\ttotal: 122ms\tremaining: 767ms\n",
      "137:\tlearn: 0.3214764\ttotal: 122ms\tremaining: 763ms\n",
      "138:\tlearn: 0.3189038\ttotal: 122ms\tremaining: 758ms\n",
      "139:\tlearn: 0.3172831\ttotal: 123ms\tremaining: 754ms\n",
      "140:\tlearn: 0.3147723\ttotal: 123ms\tremaining: 750ms\n",
      "141:\tlearn: 0.3124080\ttotal: 123ms\tremaining: 746ms\n",
      "142:\tlearn: 0.3103495\ttotal: 124ms\tremaining: 742ms\n",
      "143:\tlearn: 0.3080094\ttotal: 124ms\tremaining: 738ms\n",
      "144:\tlearn: 0.3059377\ttotal: 125ms\tremaining: 734ms\n",
      "145:\tlearn: 0.3039520\ttotal: 125ms\tremaining: 731ms\n",
      "146:\tlearn: 0.3018493\ttotal: 125ms\tremaining: 727ms\n",
      "147:\tlearn: 0.2999533\ttotal: 126ms\tremaining: 725ms\n",
      "148:\tlearn: 0.2983362\ttotal: 127ms\tremaining: 723ms\n",
      "149:\tlearn: 0.2962048\ttotal: 127ms\tremaining: 720ms\n",
      "150:\tlearn: 0.2947137\ttotal: 128ms\tremaining: 717ms\n",
      "151:\tlearn: 0.2925706\ttotal: 128ms\tremaining: 715ms\n",
      "152:\tlearn: 0.2901160\ttotal: 128ms\tremaining: 711ms\n",
      "153:\tlearn: 0.2881043\ttotal: 129ms\tremaining: 708ms\n",
      "154:\tlearn: 0.2866687\ttotal: 129ms\tremaining: 705ms\n",
      "155:\tlearn: 0.2847491\ttotal: 130ms\tremaining: 703ms\n",
      "156:\tlearn: 0.2821736\ttotal: 130ms\tremaining: 700ms\n",
      "157:\tlearn: 0.2804680\ttotal: 131ms\tremaining: 696ms\n",
      "158:\tlearn: 0.2782950\ttotal: 131ms\tremaining: 694ms\n",
      "159:\tlearn: 0.2764300\ttotal: 132ms\tremaining: 691ms\n",
      "160:\tlearn: 0.2741305\ttotal: 132ms\tremaining: 688ms\n",
      "161:\tlearn: 0.2722501\ttotal: 133ms\tremaining: 685ms\n",
      "162:\tlearn: 0.2703711\ttotal: 133ms\tremaining: 682ms\n",
      "163:\tlearn: 0.2681924\ttotal: 133ms\tremaining: 680ms\n",
      "164:\tlearn: 0.2666794\ttotal: 134ms\tremaining: 677ms\n",
      "165:\tlearn: 0.2651019\ttotal: 134ms\tremaining: 674ms\n",
      "166:\tlearn: 0.2631500\ttotal: 135ms\tremaining: 672ms\n",
      "167:\tlearn: 0.2613735\ttotal: 135ms\tremaining: 670ms\n",
      "168:\tlearn: 0.2591522\ttotal: 136ms\tremaining: 668ms\n",
      "169:\tlearn: 0.2572278\ttotal: 136ms\tremaining: 666ms\n",
      "170:\tlearn: 0.2558504\ttotal: 138ms\tremaining: 667ms\n",
      "171:\tlearn: 0.2538866\ttotal: 138ms\tremaining: 664ms\n",
      "172:\tlearn: 0.2520000\ttotal: 139ms\tremaining: 663ms\n",
      "173:\tlearn: 0.2500853\ttotal: 139ms\tremaining: 660ms\n",
      "174:\tlearn: 0.2486893\ttotal: 140ms\tremaining: 658ms\n",
      "175:\tlearn: 0.2468235\ttotal: 140ms\tremaining: 655ms\n",
      "176:\tlearn: 0.2444908\ttotal: 140ms\tremaining: 652ms\n",
      "177:\tlearn: 0.2430369\ttotal: 141ms\tremaining: 651ms\n",
      "178:\tlearn: 0.2411509\ttotal: 142ms\tremaining: 649ms\n",
      "179:\tlearn: 0.2395781\ttotal: 142ms\tremaining: 648ms\n",
      "180:\tlearn: 0.2380735\ttotal: 143ms\tremaining: 645ms\n",
      "181:\tlearn: 0.2361956\ttotal: 143ms\tremaining: 643ms\n",
      "182:\tlearn: 0.2340511\ttotal: 144ms\tremaining: 641ms\n",
      "183:\tlearn: 0.2326823\ttotal: 144ms\tremaining: 639ms\n",
      "184:\tlearn: 0.2313133\ttotal: 145ms\tremaining: 637ms\n",
      "185:\tlearn: 0.2297533\ttotal: 145ms\tremaining: 635ms\n",
      "186:\tlearn: 0.2281545\ttotal: 145ms\tremaining: 633ms\n",
      "187:\tlearn: 0.2264170\ttotal: 146ms\tremaining: 631ms\n",
      "188:\tlearn: 0.2252963\ttotal: 147ms\tremaining: 629ms\n",
      "189:\tlearn: 0.2236969\ttotal: 147ms\tremaining: 627ms\n",
      "190:\tlearn: 0.2218086\ttotal: 147ms\tremaining: 624ms\n",
      "191:\tlearn: 0.2203201\ttotal: 148ms\tremaining: 622ms\n",
      "192:\tlearn: 0.2187657\ttotal: 148ms\tremaining: 620ms\n",
      "193:\tlearn: 0.2173016\ttotal: 149ms\tremaining: 618ms\n",
      "194:\tlearn: 0.2159689\ttotal: 149ms\tremaining: 616ms\n",
      "195:\tlearn: 0.2145665\ttotal: 150ms\tremaining: 614ms\n",
      "196:\tlearn: 0.2132493\ttotal: 150ms\tremaining: 612ms\n",
      "197:\tlearn: 0.2117897\ttotal: 151ms\tremaining: 610ms\n",
      "198:\tlearn: 0.2104773\ttotal: 157ms\tremaining: 632ms\n",
      "199:\tlearn: 0.2089216\ttotal: 157ms\tremaining: 629ms\n",
      "200:\tlearn: 0.2072267\ttotal: 158ms\tremaining: 627ms\n",
      "201:\tlearn: 0.2058947\ttotal: 158ms\tremaining: 625ms\n",
      "202:\tlearn: 0.2041423\ttotal: 159ms\tremaining: 623ms\n",
      "203:\tlearn: 0.2029586\ttotal: 159ms\tremaining: 621ms\n",
      "204:\tlearn: 0.2015570\ttotal: 160ms\tremaining: 619ms\n",
      "205:\tlearn: 0.2000667\ttotal: 160ms\tremaining: 617ms\n",
      "206:\tlearn: 0.1986674\ttotal: 160ms\tremaining: 615ms\n",
      "207:\tlearn: 0.1973004\ttotal: 161ms\tremaining: 613ms\n",
      "208:\tlearn: 0.1961670\ttotal: 161ms\tremaining: 611ms\n",
      "209:\tlearn: 0.1946455\ttotal: 162ms\tremaining: 609ms\n",
      "210:\tlearn: 0.1930011\ttotal: 163ms\tremaining: 608ms\n",
      "211:\tlearn: 0.1915447\ttotal: 163ms\tremaining: 606ms\n",
      "212:\tlearn: 0.1901207\ttotal: 164ms\tremaining: 605ms\n",
      "213:\tlearn: 0.1885035\ttotal: 164ms\tremaining: 603ms\n",
      "214:\tlearn: 0.1868823\ttotal: 165ms\tremaining: 601ms\n",
      "215:\tlearn: 0.1854004\ttotal: 165ms\tremaining: 599ms\n",
      "216:\tlearn: 0.1839959\ttotal: 166ms\tremaining: 598ms\n",
      "217:\tlearn: 0.1824835\ttotal: 166ms\tremaining: 597ms\n",
      "218:\tlearn: 0.1810426\ttotal: 167ms\tremaining: 595ms\n",
      "219:\tlearn: 0.1799136\ttotal: 167ms\tremaining: 594ms\n",
      "220:\tlearn: 0.1787183\ttotal: 168ms\tremaining: 592ms\n",
      "221:\tlearn: 0.1773832\ttotal: 169ms\tremaining: 591ms\n",
      "222:\tlearn: 0.1760689\ttotal: 169ms\tremaining: 590ms\n",
      "223:\tlearn: 0.1746698\ttotal: 170ms\tremaining: 588ms\n",
      "224:\tlearn: 0.1733503\ttotal: 170ms\tremaining: 587ms\n",
      "225:\tlearn: 0.1722067\ttotal: 171ms\tremaining: 585ms\n",
      "226:\tlearn: 0.1706856\ttotal: 171ms\tremaining: 583ms\n",
      "227:\tlearn: 0.1694692\ttotal: 172ms\tremaining: 582ms\n",
      "228:\tlearn: 0.1683562\ttotal: 172ms\tremaining: 580ms\n",
      "229:\tlearn: 0.1670392\ttotal: 173ms\tremaining: 578ms\n",
      "230:\tlearn: 0.1660227\ttotal: 173ms\tremaining: 576ms\n",
      "231:\tlearn: 0.1646436\ttotal: 174ms\tremaining: 575ms\n",
      "232:\tlearn: 0.1632666\ttotal: 174ms\tremaining: 573ms\n",
      "233:\tlearn: 0.1619910\ttotal: 175ms\tremaining: 572ms\n",
      "234:\tlearn: 0.1608298\ttotal: 175ms\tremaining: 570ms\n",
      "235:\tlearn: 0.1594780\ttotal: 175ms\tremaining: 568ms\n",
      "236:\tlearn: 0.1584694\ttotal: 176ms\tremaining: 566ms\n",
      "237:\tlearn: 0.1572971\ttotal: 176ms\tremaining: 564ms\n",
      "238:\tlearn: 0.1561249\ttotal: 177ms\tremaining: 563ms\n",
      "239:\tlearn: 0.1550536\ttotal: 177ms\tremaining: 561ms\n",
      "240:\tlearn: 0.1540566\ttotal: 178ms\tremaining: 559ms\n",
      "241:\tlearn: 0.1528179\ttotal: 178ms\tremaining: 558ms\n",
      "242:\tlearn: 0.1512657\ttotal: 179ms\tremaining: 556ms\n",
      "243:\tlearn: 0.1500437\ttotal: 179ms\tremaining: 555ms\n",
      "244:\tlearn: 0.1487667\ttotal: 180ms\tremaining: 554ms\n",
      "245:\tlearn: 0.1475075\ttotal: 180ms\tremaining: 553ms\n",
      "246:\tlearn: 0.1464631\ttotal: 181ms\tremaining: 552ms\n",
      "247:\tlearn: 0.1456148\ttotal: 182ms\tremaining: 551ms\n",
      "248:\tlearn: 0.1447167\ttotal: 183ms\tremaining: 551ms\n",
      "249:\tlearn: 0.1435610\ttotal: 183ms\tremaining: 549ms\n",
      "250:\tlearn: 0.1426168\ttotal: 184ms\tremaining: 548ms\n",
      "251:\tlearn: 0.1413749\ttotal: 184ms\tremaining: 546ms\n",
      "252:\tlearn: 0.1405119\ttotal: 185ms\tremaining: 545ms\n",
      "253:\tlearn: 0.1392683\ttotal: 185ms\tremaining: 544ms\n",
      "254:\tlearn: 0.1383853\ttotal: 186ms\tremaining: 542ms\n",
      "255:\tlearn: 0.1372239\ttotal: 186ms\tremaining: 541ms\n",
      "256:\tlearn: 0.1359719\ttotal: 187ms\tremaining: 540ms\n"
     ]
    },
    {
     "name": "stdout",
     "output_type": "stream",
     "text": [
      "257:\tlearn: 0.1350324\ttotal: 187ms\tremaining: 539ms\n",
      "258:\tlearn: 0.1339084\ttotal: 188ms\tremaining: 537ms\n",
      "259:\tlearn: 0.1328265\ttotal: 188ms\tremaining: 536ms\n",
      "260:\tlearn: 0.1317542\ttotal: 189ms\tremaining: 534ms\n",
      "261:\tlearn: 0.1308070\ttotal: 189ms\tremaining: 533ms\n",
      "262:\tlearn: 0.1299348\ttotal: 190ms\tremaining: 532ms\n",
      "263:\tlearn: 0.1291688\ttotal: 190ms\tremaining: 530ms\n",
      "264:\tlearn: 0.1281023\ttotal: 191ms\tremaining: 529ms\n",
      "265:\tlearn: 0.1271663\ttotal: 191ms\tremaining: 528ms\n",
      "266:\tlearn: 0.1265059\ttotal: 192ms\tremaining: 526ms\n",
      "267:\tlearn: 0.1254923\ttotal: 192ms\tremaining: 525ms\n",
      "268:\tlearn: 0.1245253\ttotal: 193ms\tremaining: 523ms\n",
      "269:\tlearn: 0.1235441\ttotal: 193ms\tremaining: 522ms\n",
      "270:\tlearn: 0.1224960\ttotal: 194ms\tremaining: 521ms\n",
      "271:\tlearn: 0.1215338\ttotal: 194ms\tremaining: 519ms\n",
      "272:\tlearn: 0.1209305\ttotal: 194ms\tremaining: 518ms\n",
      "273:\tlearn: 0.1199906\ttotal: 195ms\tremaining: 516ms\n",
      "274:\tlearn: 0.1190184\ttotal: 195ms\tremaining: 515ms\n",
      "275:\tlearn: 0.1179225\ttotal: 196ms\tremaining: 514ms\n",
      "276:\tlearn: 0.1170332\ttotal: 196ms\tremaining: 512ms\n",
      "277:\tlearn: 0.1161691\ttotal: 197ms\tremaining: 511ms\n",
      "278:\tlearn: 0.1151419\ttotal: 197ms\tremaining: 510ms\n",
      "279:\tlearn: 0.1143147\ttotal: 198ms\tremaining: 508ms\n",
      "280:\tlearn: 0.1136518\ttotal: 198ms\tremaining: 507ms\n",
      "281:\tlearn: 0.1127588\ttotal: 199ms\tremaining: 506ms\n",
      "282:\tlearn: 0.1119516\ttotal: 199ms\tremaining: 505ms\n",
      "283:\tlearn: 0.1110559\ttotal: 200ms\tremaining: 504ms\n",
      "284:\tlearn: 0.1102101\ttotal: 200ms\tremaining: 503ms\n",
      "285:\tlearn: 0.1094462\ttotal: 201ms\tremaining: 501ms\n",
      "286:\tlearn: 0.1085686\ttotal: 201ms\tremaining: 500ms\n",
      "287:\tlearn: 0.1079807\ttotal: 202ms\tremaining: 499ms\n",
      "288:\tlearn: 0.1072867\ttotal: 202ms\tremaining: 498ms\n",
      "289:\tlearn: 0.1065929\ttotal: 203ms\tremaining: 496ms\n",
      "290:\tlearn: 0.1057750\ttotal: 203ms\tremaining: 495ms\n",
      "291:\tlearn: 0.1050237\ttotal: 204ms\tremaining: 494ms\n",
      "292:\tlearn: 0.1042008\ttotal: 204ms\tremaining: 492ms\n",
      "293:\tlearn: 0.1033984\ttotal: 205ms\tremaining: 491ms\n",
      "294:\tlearn: 0.1026054\ttotal: 205ms\tremaining: 490ms\n",
      "295:\tlearn: 0.1020416\ttotal: 206ms\tremaining: 489ms\n",
      "296:\tlearn: 0.1012248\ttotal: 206ms\tremaining: 488ms\n",
      "297:\tlearn: 0.1006079\ttotal: 207ms\tremaining: 486ms\n",
      "298:\tlearn: 0.0998219\ttotal: 207ms\tremaining: 485ms\n",
      "299:\tlearn: 0.0991890\ttotal: 207ms\tremaining: 484ms\n",
      "300:\tlearn: 0.0986457\ttotal: 208ms\tremaining: 483ms\n",
      "301:\tlearn: 0.0978757\ttotal: 208ms\tremaining: 481ms\n",
      "302:\tlearn: 0.0972564\ttotal: 209ms\tremaining: 480ms\n",
      "303:\tlearn: 0.0965069\ttotal: 209ms\tremaining: 479ms\n",
      "304:\tlearn: 0.0959591\ttotal: 210ms\tremaining: 478ms\n",
      "305:\tlearn: 0.0952665\ttotal: 210ms\tremaining: 476ms\n",
      "306:\tlearn: 0.0947338\ttotal: 211ms\tremaining: 475ms\n",
      "307:\tlearn: 0.0941658\ttotal: 211ms\tremaining: 474ms\n",
      "308:\tlearn: 0.0935767\ttotal: 212ms\tremaining: 473ms\n",
      "309:\tlearn: 0.0928301\ttotal: 212ms\tremaining: 472ms\n",
      "310:\tlearn: 0.0922814\ttotal: 213ms\tremaining: 471ms\n",
      "311:\tlearn: 0.0914753\ttotal: 213ms\tremaining: 470ms\n",
      "312:\tlearn: 0.0909884\ttotal: 218ms\tremaining: 479ms\n",
      "313:\tlearn: 0.0902010\ttotal: 219ms\tremaining: 478ms\n",
      "314:\tlearn: 0.0895448\ttotal: 219ms\tremaining: 477ms\n",
      "315:\tlearn: 0.0888829\ttotal: 220ms\tremaining: 475ms\n",
      "316:\tlearn: 0.0883432\ttotal: 221ms\tremaining: 476ms\n",
      "317:\tlearn: 0.0877168\ttotal: 221ms\tremaining: 475ms\n",
      "318:\tlearn: 0.0869680\ttotal: 222ms\tremaining: 474ms\n",
      "319:\tlearn: 0.0863608\ttotal: 222ms\tremaining: 472ms\n",
      "320:\tlearn: 0.0858505\ttotal: 223ms\tremaining: 471ms\n",
      "321:\tlearn: 0.0853691\ttotal: 223ms\tremaining: 470ms\n",
      "322:\tlearn: 0.0849190\ttotal: 224ms\tremaining: 469ms\n",
      "323:\tlearn: 0.0844105\ttotal: 224ms\tremaining: 467ms\n",
      "324:\tlearn: 0.0837411\ttotal: 224ms\tremaining: 466ms\n",
      "325:\tlearn: 0.0832458\ttotal: 225ms\tremaining: 465ms\n",
      "326:\tlearn: 0.0826805\ttotal: 225ms\tremaining: 464ms\n",
      "327:\tlearn: 0.0821858\ttotal: 226ms\tremaining: 463ms\n",
      "328:\tlearn: 0.0814998\ttotal: 226ms\tremaining: 462ms\n",
      "329:\tlearn: 0.0808604\ttotal: 227ms\tremaining: 461ms\n",
      "330:\tlearn: 0.0803898\ttotal: 227ms\tremaining: 460ms\n",
      "331:\tlearn: 0.0797320\ttotal: 228ms\tremaining: 458ms\n",
      "332:\tlearn: 0.0792005\ttotal: 228ms\tremaining: 457ms\n",
      "333:\tlearn: 0.0786811\ttotal: 229ms\tremaining: 456ms\n",
      "334:\tlearn: 0.0780957\ttotal: 229ms\tremaining: 455ms\n",
      "335:\tlearn: 0.0774280\ttotal: 230ms\tremaining: 454ms\n",
      "336:\tlearn: 0.0769865\ttotal: 230ms\tremaining: 453ms\n",
      "337:\tlearn: 0.0765531\ttotal: 231ms\tremaining: 452ms\n",
      "338:\tlearn: 0.0761919\ttotal: 231ms\tremaining: 451ms\n",
      "339:\tlearn: 0.0755817\ttotal: 232ms\tremaining: 449ms\n",
      "340:\tlearn: 0.0749152\ttotal: 232ms\tremaining: 448ms\n",
      "341:\tlearn: 0.0745022\ttotal: 233ms\tremaining: 447ms\n",
      "342:\tlearn: 0.0740745\ttotal: 233ms\tremaining: 447ms\n",
      "343:\tlearn: 0.0736351\ttotal: 234ms\tremaining: 446ms\n",
      "344:\tlearn: 0.0732253\ttotal: 234ms\tremaining: 445ms\n",
      "345:\tlearn: 0.0728283\ttotal: 235ms\tremaining: 443ms\n",
      "346:\tlearn: 0.0724518\ttotal: 235ms\tremaining: 442ms\n",
      "347:\tlearn: 0.0719466\ttotal: 235ms\tremaining: 441ms\n",
      "348:\tlearn: 0.0714161\ttotal: 236ms\tremaining: 440ms\n",
      "349:\tlearn: 0.0707956\ttotal: 236ms\tremaining: 439ms\n",
      "350:\tlearn: 0.0704133\ttotal: 237ms\tremaining: 438ms\n",
      "351:\tlearn: 0.0699408\ttotal: 237ms\tremaining: 437ms\n",
      "352:\tlearn: 0.0695153\ttotal: 238ms\tremaining: 436ms\n",
      "353:\tlearn: 0.0690780\ttotal: 238ms\tremaining: 435ms\n",
      "354:\tlearn: 0.0684931\ttotal: 239ms\tremaining: 433ms\n",
      "355:\tlearn: 0.0678755\ttotal: 239ms\tremaining: 432ms\n",
      "356:\tlearn: 0.0675150\ttotal: 239ms\tremaining: 431ms\n",
      "357:\tlearn: 0.0671106\ttotal: 240ms\tremaining: 430ms\n",
      "358:\tlearn: 0.0667301\ttotal: 240ms\tremaining: 429ms\n",
      "359:\tlearn: 0.0663352\ttotal: 241ms\tremaining: 428ms\n",
      "360:\tlearn: 0.0657462\ttotal: 241ms\tremaining: 427ms\n",
      "361:\tlearn: 0.0651718\ttotal: 241ms\tremaining: 426ms\n",
      "362:\tlearn: 0.0648312\ttotal: 242ms\tremaining: 424ms\n",
      "363:\tlearn: 0.0643735\ttotal: 242ms\tremaining: 423ms\n",
      "364:\tlearn: 0.0640004\ttotal: 243ms\tremaining: 422ms\n",
      "365:\tlearn: 0.0636065\ttotal: 243ms\tremaining: 422ms\n",
      "366:\tlearn: 0.0632227\ttotal: 249ms\tremaining: 430ms\n",
      "367:\tlearn: 0.0627789\ttotal: 249ms\tremaining: 428ms\n",
      "368:\tlearn: 0.0625075\ttotal: 250ms\tremaining: 428ms\n",
      "369:\tlearn: 0.0619711\ttotal: 251ms\tremaining: 427ms\n",
      "370:\tlearn: 0.0616717\ttotal: 251ms\tremaining: 426ms\n",
      "371:\tlearn: 0.0613950\ttotal: 251ms\tremaining: 424ms\n",
      "372:\tlearn: 0.0608920\ttotal: 252ms\tremaining: 423ms\n",
      "373:\tlearn: 0.0606384\ttotal: 252ms\tremaining: 422ms\n",
      "374:\tlearn: 0.0603358\ttotal: 253ms\tremaining: 421ms\n",
      "375:\tlearn: 0.0600520\ttotal: 253ms\tremaining: 420ms\n",
      "376:\tlearn: 0.0598076\ttotal: 254ms\tremaining: 419ms\n",
      "377:\tlearn: 0.0594709\ttotal: 254ms\tremaining: 418ms\n",
      "378:\tlearn: 0.0590075\ttotal: 255ms\tremaining: 417ms\n",
      "379:\tlearn: 0.0585536\ttotal: 255ms\tremaining: 416ms\n",
      "380:\tlearn: 0.0580671\ttotal: 256ms\tremaining: 416ms\n",
      "381:\tlearn: 0.0577999\ttotal: 256ms\tremaining: 415ms\n",
      "382:\tlearn: 0.0575025\ttotal: 257ms\tremaining: 414ms\n",
      "383:\tlearn: 0.0572435\ttotal: 257ms\tremaining: 413ms\n",
      "384:\tlearn: 0.0569284\ttotal: 258ms\tremaining: 413ms\n",
      "385:\tlearn: 0.0564666\ttotal: 259ms\tremaining: 412ms\n",
      "386:\tlearn: 0.0561084\ttotal: 260ms\tremaining: 411ms\n",
      "387:\tlearn: 0.0557284\ttotal: 260ms\tremaining: 410ms\n",
      "388:\tlearn: 0.0552906\ttotal: 261ms\tremaining: 410ms\n",
      "389:\tlearn: 0.0549467\ttotal: 261ms\tremaining: 409ms\n",
      "390:\tlearn: 0.0547016\ttotal: 262ms\tremaining: 408ms\n",
      "391:\tlearn: 0.0544616\ttotal: 263ms\tremaining: 407ms\n",
      "392:\tlearn: 0.0541893\ttotal: 263ms\tremaining: 406ms\n",
      "393:\tlearn: 0.0538604\ttotal: 264ms\tremaining: 405ms\n",
      "394:\tlearn: 0.0536520\ttotal: 264ms\tremaining: 404ms\n",
      "395:\tlearn: 0.0533276\ttotal: 264ms\tremaining: 403ms\n",
      "396:\tlearn: 0.0530999\ttotal: 265ms\tremaining: 402ms\n",
      "397:\tlearn: 0.0528448\ttotal: 265ms\tremaining: 401ms\n",
      "398:\tlearn: 0.0525306\ttotal: 266ms\tremaining: 400ms\n",
      "399:\tlearn: 0.0523318\ttotal: 266ms\tremaining: 399ms\n",
      "400:\tlearn: 0.0521139\ttotal: 266ms\tremaining: 398ms\n",
      "401:\tlearn: 0.0517585\ttotal: 267ms\tremaining: 397ms\n",
      "402:\tlearn: 0.0514555\ttotal: 267ms\tremaining: 396ms\n",
      "403:\tlearn: 0.0512064\ttotal: 268ms\tremaining: 395ms\n",
      "404:\tlearn: 0.0508697\ttotal: 268ms\tremaining: 394ms\n",
      "405:\tlearn: 0.0505772\ttotal: 269ms\tremaining: 393ms\n",
      "406:\tlearn: 0.0503125\ttotal: 269ms\tremaining: 392ms\n",
      "407:\tlearn: 0.0500286\ttotal: 270ms\tremaining: 392ms\n",
      "408:\tlearn: 0.0498121\ttotal: 270ms\tremaining: 391ms\n",
      "409:\tlearn: 0.0494894\ttotal: 271ms\tremaining: 390ms\n",
      "410:\tlearn: 0.0492881\ttotal: 272ms\tremaining: 389ms\n",
      "411:\tlearn: 0.0490173\ttotal: 272ms\tremaining: 388ms\n",
      "412:\tlearn: 0.0487429\ttotal: 272ms\tremaining: 387ms\n",
      "413:\tlearn: 0.0484747\ttotal: 273ms\tremaining: 386ms\n",
      "414:\tlearn: 0.0482683\ttotal: 273ms\tremaining: 385ms\n",
      "415:\tlearn: 0.0480081\ttotal: 274ms\tremaining: 384ms\n",
      "416:\tlearn: 0.0478111\ttotal: 274ms\tremaining: 383ms\n",
      "417:\tlearn: 0.0476212\ttotal: 282ms\tremaining: 393ms\n",
      "418:\tlearn: 0.0473554\ttotal: 283ms\tremaining: 392ms\n",
      "419:\tlearn: 0.0470903\ttotal: 283ms\tremaining: 391ms\n",
      "420:\tlearn: 0.0468807\ttotal: 284ms\tremaining: 390ms\n",
      "421:\tlearn: 0.0466453\ttotal: 284ms\tremaining: 389ms\n",
      "422:\tlearn: 0.0463540\ttotal: 284ms\tremaining: 388ms\n",
      "423:\tlearn: 0.0460690\ttotal: 285ms\tremaining: 387ms\n",
      "424:\tlearn: 0.0458781\ttotal: 285ms\tremaining: 386ms\n",
      "425:\tlearn: 0.0456137\ttotal: 286ms\tremaining: 385ms\n",
      "426:\tlearn: 0.0453575\ttotal: 286ms\tremaining: 384ms\n",
      "427:\tlearn: 0.0450828\ttotal: 287ms\tremaining: 383ms\n",
      "428:\tlearn: 0.0448335\ttotal: 287ms\tremaining: 382ms\n",
      "429:\tlearn: 0.0445866\ttotal: 288ms\tremaining: 381ms\n"
     ]
    },
    {
     "name": "stdout",
     "output_type": "stream",
     "text": [
      "430:\tlearn: 0.0444050\ttotal: 288ms\tremaining: 381ms\n",
      "431:\tlearn: 0.0441552\ttotal: 289ms\tremaining: 380ms\n",
      "432:\tlearn: 0.0439412\ttotal: 289ms\tremaining: 379ms\n",
      "433:\tlearn: 0.0436972\ttotal: 290ms\tremaining: 378ms\n",
      "434:\tlearn: 0.0434712\ttotal: 290ms\tremaining: 377ms\n",
      "435:\tlearn: 0.0432339\ttotal: 291ms\tremaining: 376ms\n",
      "436:\tlearn: 0.0430663\ttotal: 291ms\tremaining: 375ms\n",
      "437:\tlearn: 0.0428560\ttotal: 292ms\tremaining: 374ms\n",
      "438:\tlearn: 0.0426958\ttotal: 292ms\tremaining: 373ms\n",
      "439:\tlearn: 0.0424185\ttotal: 293ms\tremaining: 372ms\n",
      "440:\tlearn: 0.0421863\ttotal: 293ms\tremaining: 371ms\n",
      "441:\tlearn: 0.0419341\ttotal: 293ms\tremaining: 370ms\n",
      "442:\tlearn: 0.0416758\ttotal: 294ms\tremaining: 370ms\n",
      "443:\tlearn: 0.0414660\ttotal: 294ms\tremaining: 369ms\n",
      "444:\tlearn: 0.0412604\ttotal: 295ms\tremaining: 368ms\n",
      "445:\tlearn: 0.0410063\ttotal: 295ms\tremaining: 367ms\n",
      "446:\tlearn: 0.0407851\ttotal: 296ms\tremaining: 366ms\n",
      "447:\tlearn: 0.0406481\ttotal: 296ms\tremaining: 365ms\n",
      "448:\tlearn: 0.0405136\ttotal: 297ms\tremaining: 364ms\n",
      "449:\tlearn: 0.0403812\ttotal: 297ms\tremaining: 363ms\n",
      "450:\tlearn: 0.0402304\ttotal: 298ms\tremaining: 362ms\n",
      "451:\tlearn: 0.0400798\ttotal: 298ms\tremaining: 361ms\n",
      "452:\tlearn: 0.0399322\ttotal: 298ms\tremaining: 360ms\n",
      "453:\tlearn: 0.0396809\ttotal: 299ms\tremaining: 360ms\n",
      "454:\tlearn: 0.0395535\ttotal: 299ms\tremaining: 359ms\n",
      "455:\tlearn: 0.0394288\ttotal: 300ms\tremaining: 358ms\n",
      "456:\tlearn: 0.0392014\ttotal: 300ms\tremaining: 357ms\n",
      "457:\tlearn: 0.0389792\ttotal: 301ms\tremaining: 357ms\n",
      "458:\tlearn: 0.0387621\ttotal: 302ms\tremaining: 356ms\n",
      "459:\tlearn: 0.0384896\ttotal: 302ms\tremaining: 355ms\n",
      "460:\tlearn: 0.0382791\ttotal: 303ms\tremaining: 354ms\n",
      "461:\tlearn: 0.0380614\ttotal: 303ms\tremaining: 353ms\n",
      "462:\tlearn: 0.0379277\ttotal: 303ms\tremaining: 352ms\n",
      "463:\tlearn: 0.0377396\ttotal: 304ms\tremaining: 351ms\n",
      "464:\tlearn: 0.0375832\ttotal: 304ms\tremaining: 350ms\n",
      "465:\tlearn: 0.0374290\ttotal: 304ms\tremaining: 349ms\n",
      "466:\tlearn: 0.0372770\ttotal: 305ms\tremaining: 348ms\n",
      "467:\tlearn: 0.0370224\ttotal: 305ms\tremaining: 347ms\n",
      "468:\tlearn: 0.0368417\ttotal: 306ms\tremaining: 346ms\n",
      "469:\tlearn: 0.0366279\ttotal: 306ms\tremaining: 345ms\n",
      "470:\tlearn: 0.0365140\ttotal: 307ms\tremaining: 345ms\n",
      "471:\tlearn: 0.0363264\ttotal: 307ms\tremaining: 344ms\n",
      "472:\tlearn: 0.0361515\ttotal: 308ms\tremaining: 343ms\n",
      "473:\tlearn: 0.0360076\ttotal: 308ms\tremaining: 342ms\n",
      "474:\tlearn: 0.0358015\ttotal: 309ms\tremaining: 341ms\n",
      "475:\tlearn: 0.0356700\ttotal: 309ms\tremaining: 341ms\n",
      "476:\tlearn: 0.0354309\ttotal: 310ms\tremaining: 340ms\n",
      "477:\tlearn: 0.0353227\ttotal: 310ms\tremaining: 339ms\n",
      "478:\tlearn: 0.0351226\ttotal: 311ms\tremaining: 338ms\n",
      "479:\tlearn: 0.0349957\ttotal: 311ms\tremaining: 337ms\n",
      "480:\tlearn: 0.0348054\ttotal: 311ms\tremaining: 336ms\n",
      "481:\tlearn: 0.0346100\ttotal: 312ms\tremaining: 335ms\n",
      "482:\tlearn: 0.0344112\ttotal: 313ms\tremaining: 335ms\n",
      "483:\tlearn: 0.0343075\ttotal: 314ms\tremaining: 335ms\n",
      "484:\tlearn: 0.0341172\ttotal: 314ms\tremaining: 334ms\n",
      "485:\tlearn: 0.0339340\ttotal: 315ms\tremaining: 333ms\n",
      "486:\tlearn: 0.0338130\ttotal: 315ms\tremaining: 332ms\n",
      "487:\tlearn: 0.0337124\ttotal: 316ms\tremaining: 331ms\n",
      "488:\tlearn: 0.0335270\ttotal: 316ms\tremaining: 330ms\n",
      "489:\tlearn: 0.0333028\ttotal: 317ms\tremaining: 330ms\n",
      "490:\tlearn: 0.0330661\ttotal: 317ms\tremaining: 329ms\n",
      "491:\tlearn: 0.0328885\ttotal: 318ms\tremaining: 328ms\n",
      "492:\tlearn: 0.0326882\ttotal: 318ms\tremaining: 327ms\n",
      "493:\tlearn: 0.0325732\ttotal: 319ms\tremaining: 326ms\n",
      "494:\tlearn: 0.0323626\ttotal: 319ms\tremaining: 326ms\n",
      "495:\tlearn: 0.0321715\ttotal: 320ms\tremaining: 325ms\n",
      "496:\tlearn: 0.0320597\ttotal: 320ms\tremaining: 324ms\n",
      "497:\tlearn: 0.0319173\ttotal: 320ms\tremaining: 323ms\n",
      "498:\tlearn: 0.0317159\ttotal: 321ms\tremaining: 322ms\n",
      "499:\tlearn: 0.0316225\ttotal: 321ms\tremaining: 321ms\n",
      "500:\tlearn: 0.0314557\ttotal: 322ms\tremaining: 320ms\n",
      "501:\tlearn: 0.0312567\ttotal: 322ms\tremaining: 320ms\n",
      "502:\tlearn: 0.0310752\ttotal: 323ms\tremaining: 319ms\n",
      "503:\tlearn: 0.0308825\ttotal: 323ms\tremaining: 318ms\n",
      "504:\tlearn: 0.0306924\ttotal: 324ms\tremaining: 317ms\n",
      "505:\tlearn: 0.0305283\ttotal: 324ms\tremaining: 316ms\n",
      "506:\tlearn: 0.0303891\ttotal: 324ms\tremaining: 315ms\n",
      "507:\tlearn: 0.0302245\ttotal: 325ms\tremaining: 314ms\n",
      "508:\tlearn: 0.0300430\ttotal: 325ms\tremaining: 314ms\n",
      "509:\tlearn: 0.0298886\ttotal: 326ms\tremaining: 313ms\n",
      "510:\tlearn: 0.0297552\ttotal: 326ms\tremaining: 312ms\n",
      "511:\tlearn: 0.0295760\ttotal: 327ms\tremaining: 312ms\n",
      "512:\tlearn: 0.0293999\ttotal: 328ms\tremaining: 311ms\n",
      "513:\tlearn: 0.0292255\ttotal: 328ms\tremaining: 310ms\n",
      "514:\tlearn: 0.0290725\ttotal: 329ms\tremaining: 310ms\n",
      "515:\tlearn: 0.0289255\ttotal: 329ms\tremaining: 309ms\n",
      "516:\tlearn: 0.0287558\ttotal: 330ms\tremaining: 308ms\n",
      "517:\tlearn: 0.0285849\ttotal: 330ms\tremaining: 307ms\n",
      "518:\tlearn: 0.0284258\ttotal: 331ms\tremaining: 306ms\n",
      "519:\tlearn: 0.0283526\ttotal: 331ms\tremaining: 306ms\n",
      "520:\tlearn: 0.0281884\ttotal: 332ms\tremaining: 305ms\n",
      "521:\tlearn: 0.0280389\ttotal: 332ms\tremaining: 304ms\n",
      "522:\tlearn: 0.0278761\ttotal: 333ms\tremaining: 303ms\n",
      "523:\tlearn: 0.0277168\ttotal: 333ms\tremaining: 302ms\n",
      "524:\tlearn: 0.0275857\ttotal: 333ms\tremaining: 302ms\n",
      "525:\tlearn: 0.0274273\ttotal: 334ms\tremaining: 301ms\n",
      "526:\tlearn: 0.0272782\ttotal: 334ms\tremaining: 300ms\n",
      "527:\tlearn: 0.0271598\ttotal: 335ms\tremaining: 299ms\n",
      "528:\tlearn: 0.0270127\ttotal: 335ms\tremaining: 299ms\n",
      "529:\tlearn: 0.0268968\ttotal: 336ms\tremaining: 298ms\n",
      "530:\tlearn: 0.0267475\ttotal: 336ms\tremaining: 297ms\n",
      "531:\tlearn: 0.0265903\ttotal: 341ms\tremaining: 300ms\n",
      "532:\tlearn: 0.0264396\ttotal: 341ms\tremaining: 299ms\n",
      "533:\tlearn: 0.0262866\ttotal: 342ms\tremaining: 298ms\n",
      "534:\tlearn: 0.0261286\ttotal: 342ms\tremaining: 297ms\n",
      "535:\tlearn: 0.0259893\ttotal: 343ms\tremaining: 297ms\n",
      "536:\tlearn: 0.0258684\ttotal: 343ms\tremaining: 296ms\n",
      "537:\tlearn: 0.0257144\ttotal: 344ms\tremaining: 295ms\n",
      "538:\tlearn: 0.0255917\ttotal: 344ms\tremaining: 294ms\n",
      "539:\tlearn: 0.0254507\ttotal: 344ms\tremaining: 293ms\n",
      "540:\tlearn: 0.0253303\ttotal: 345ms\tremaining: 293ms\n",
      "541:\tlearn: 0.0251958\ttotal: 345ms\tremaining: 292ms\n",
      "542:\tlearn: 0.0250796\ttotal: 346ms\tremaining: 291ms\n",
      "543:\tlearn: 0.0249326\ttotal: 346ms\tremaining: 290ms\n",
      "544:\tlearn: 0.0248159\ttotal: 347ms\tremaining: 290ms\n",
      "545:\tlearn: 0.0247007\ttotal: 347ms\tremaining: 289ms\n",
      "546:\tlearn: 0.0245888\ttotal: 348ms\tremaining: 288ms\n",
      "547:\tlearn: 0.0244461\ttotal: 348ms\tremaining: 287ms\n",
      "548:\tlearn: 0.0243336\ttotal: 348ms\tremaining: 286ms\n",
      "549:\tlearn: 0.0241940\ttotal: 349ms\tremaining: 286ms\n",
      "550:\tlearn: 0.0240834\ttotal: 349ms\tremaining: 285ms\n",
      "551:\tlearn: 0.0239743\ttotal: 350ms\tremaining: 284ms\n",
      "552:\tlearn: 0.0238667\ttotal: 350ms\tremaining: 283ms\n",
      "553:\tlearn: 0.0237607\ttotal: 351ms\tremaining: 283ms\n",
      "554:\tlearn: 0.0236250\ttotal: 352ms\tremaining: 282ms\n",
      "555:\tlearn: 0.0235207\ttotal: 352ms\tremaining: 281ms\n",
      "556:\tlearn: 0.0234179\ttotal: 352ms\tremaining: 280ms\n",
      "557:\tlearn: 0.0233222\ttotal: 353ms\tremaining: 280ms\n",
      "558:\tlearn: 0.0231842\ttotal: 353ms\tremaining: 279ms\n",
      "559:\tlearn: 0.0230837\ttotal: 354ms\tremaining: 278ms\n",
      "560:\tlearn: 0.0229846\ttotal: 354ms\tremaining: 277ms\n",
      "561:\tlearn: 0.0228646\ttotal: 355ms\tremaining: 277ms\n",
      "562:\tlearn: 0.0227543\ttotal: 355ms\tremaining: 276ms\n",
      "563:\tlearn: 0.0226312\ttotal: 356ms\tremaining: 275ms\n",
      "564:\tlearn: 0.0225029\ttotal: 356ms\tremaining: 274ms\n",
      "565:\tlearn: 0.0224100\ttotal: 357ms\tremaining: 274ms\n",
      "566:\tlearn: 0.0222789\ttotal: 357ms\tremaining: 273ms\n",
      "567:\tlearn: 0.0221845\ttotal: 358ms\tremaining: 272ms\n",
      "568:\tlearn: 0.0220699\ttotal: 358ms\tremaining: 271ms\n",
      "569:\tlearn: 0.0219657\ttotal: 358ms\tremaining: 270ms\n",
      "570:\tlearn: 0.0218763\ttotal: 359ms\tremaining: 270ms\n",
      "571:\tlearn: 0.0217535\ttotal: 360ms\tremaining: 269ms\n",
      "572:\tlearn: 0.0216655\ttotal: 360ms\tremaining: 268ms\n",
      "573:\tlearn: 0.0215403\ttotal: 360ms\tremaining: 267ms\n",
      "574:\tlearn: 0.0214305\ttotal: 361ms\tremaining: 267ms\n",
      "575:\tlearn: 0.0213371\ttotal: 361ms\tremaining: 266ms\n",
      "576:\tlearn: 0.0212275\ttotal: 362ms\tremaining: 265ms\n",
      "577:\tlearn: 0.0211161\ttotal: 362ms\tremaining: 264ms\n",
      "578:\tlearn: 0.0210090\ttotal: 363ms\tremaining: 264ms\n",
      "579:\tlearn: 0.0209008\ttotal: 363ms\tremaining: 263ms\n",
      "580:\tlearn: 0.0207884\ttotal: 364ms\tremaining: 262ms\n",
      "581:\tlearn: 0.0206832\ttotal: 364ms\tremaining: 261ms\n",
      "582:\tlearn: 0.0205807\ttotal: 364ms\tremaining: 261ms\n",
      "583:\tlearn: 0.0204921\ttotal: 365ms\tremaining: 260ms\n",
      "584:\tlearn: 0.0204096\ttotal: 365ms\tremaining: 259ms\n",
      "585:\tlearn: 0.0202947\ttotal: 366ms\tremaining: 258ms\n",
      "586:\tlearn: 0.0202083\ttotal: 366ms\tremaining: 258ms\n",
      "587:\tlearn: 0.0201283\ttotal: 372ms\tremaining: 261ms\n",
      "588:\tlearn: 0.0200294\ttotal: 373ms\tremaining: 260ms\n"
     ]
    },
    {
     "name": "stdout",
     "output_type": "stream",
     "text": [
      "589:\tlearn: 0.0199305\ttotal: 373ms\tremaining: 259ms\n",
      "590:\tlearn: 0.0198258\ttotal: 374ms\tremaining: 259ms\n",
      "591:\tlearn: 0.0197302\ttotal: 374ms\tremaining: 258ms\n",
      "592:\tlearn: 0.0196283\ttotal: 375ms\tremaining: 257ms\n",
      "593:\tlearn: 0.0195208\ttotal: 375ms\tremaining: 256ms\n",
      "594:\tlearn: 0.0194266\ttotal: 376ms\tremaining: 256ms\n",
      "595:\tlearn: 0.0193273\ttotal: 376ms\tremaining: 255ms\n",
      "596:\tlearn: 0.0192456\ttotal: 377ms\tremaining: 254ms\n",
      "597:\tlearn: 0.0191560\ttotal: 377ms\tremaining: 253ms\n",
      "598:\tlearn: 0.0190761\ttotal: 378ms\tremaining: 253ms\n",
      "599:\tlearn: 0.0189744\ttotal: 378ms\tremaining: 252ms\n",
      "600:\tlearn: 0.0188835\ttotal: 378ms\tremaining: 251ms\n",
      "601:\tlearn: 0.0188046\ttotal: 379ms\tremaining: 250ms\n",
      "602:\tlearn: 0.0187282\ttotal: 379ms\tremaining: 250ms\n",
      "603:\tlearn: 0.0186304\ttotal: 380ms\tremaining: 249ms\n",
      "604:\tlearn: 0.0185444\ttotal: 380ms\tremaining: 248ms\n",
      "605:\tlearn: 0.0184679\ttotal: 380ms\tremaining: 247ms\n",
      "606:\tlearn: 0.0183947\ttotal: 381ms\tremaining: 247ms\n",
      "607:\tlearn: 0.0183008\ttotal: 381ms\tremaining: 246ms\n",
      "608:\tlearn: 0.0182244\ttotal: 382ms\tremaining: 245ms\n",
      "609:\tlearn: 0.0181326\ttotal: 383ms\tremaining: 245ms\n",
      "610:\tlearn: 0.0180575\ttotal: 383ms\tremaining: 244ms\n",
      "611:\tlearn: 0.0179642\ttotal: 384ms\tremaining: 243ms\n",
      "612:\tlearn: 0.0178914\ttotal: 384ms\tremaining: 242ms\n",
      "613:\tlearn: 0.0178001\ttotal: 385ms\tremaining: 242ms\n",
      "614:\tlearn: 0.0177170\ttotal: 385ms\tremaining: 241ms\n",
      "615:\tlearn: 0.0176540\ttotal: 386ms\tremaining: 240ms\n",
      "616:\tlearn: 0.0175927\ttotal: 387ms\tremaining: 240ms\n",
      "617:\tlearn: 0.0175321\ttotal: 387ms\tremaining: 239ms\n",
      "618:\tlearn: 0.0174883\ttotal: 388ms\tremaining: 239ms\n",
      "619:\tlearn: 0.0174328\ttotal: 388ms\tremaining: 238ms\n",
      "620:\tlearn: 0.0173291\ttotal: 389ms\tremaining: 237ms\n",
      "621:\tlearn: 0.0172444\ttotal: 389ms\tremaining: 236ms\n",
      "622:\tlearn: 0.0171487\ttotal: 389ms\tremaining: 236ms\n",
      "623:\tlearn: 0.0170485\ttotal: 390ms\tremaining: 235ms\n",
      "624:\tlearn: 0.0169630\ttotal: 391ms\tremaining: 234ms\n",
      "625:\tlearn: 0.0168957\ttotal: 391ms\tremaining: 234ms\n",
      "626:\tlearn: 0.0167979\ttotal: 392ms\tremaining: 233ms\n",
      "627:\tlearn: 0.0167183\ttotal: 392ms\tremaining: 232ms\n",
      "628:\tlearn: 0.0166351\ttotal: 392ms\tremaining: 231ms\n",
      "629:\tlearn: 0.0165401\ttotal: 393ms\tremaining: 231ms\n",
      "630:\tlearn: 0.0164751\ttotal: 394ms\tremaining: 230ms\n",
      "631:\tlearn: 0.0164010\ttotal: 394ms\tremaining: 230ms\n",
      "632:\tlearn: 0.0163371\ttotal: 395ms\tremaining: 229ms\n",
      "633:\tlearn: 0.0162570\ttotal: 395ms\tremaining: 228ms\n",
      "634:\tlearn: 0.0161941\ttotal: 396ms\tremaining: 227ms\n",
      "635:\tlearn: 0.0161022\ttotal: 396ms\tremaining: 227ms\n",
      "636:\tlearn: 0.0160398\ttotal: 396ms\tremaining: 226ms\n",
      "637:\tlearn: 0.0159692\ttotal: 397ms\tremaining: 225ms\n",
      "638:\tlearn: 0.0159079\ttotal: 397ms\tremaining: 224ms\n",
      "639:\tlearn: 0.0158190\ttotal: 398ms\tremaining: 224ms\n",
      "640:\tlearn: 0.0157426\ttotal: 398ms\tremaining: 223ms\n",
      "641:\tlearn: 0.0156826\ttotal: 398ms\tremaining: 222ms\n",
      "642:\tlearn: 0.0155958\ttotal: 399ms\tremaining: 221ms\n",
      "643:\tlearn: 0.0155265\ttotal: 399ms\tremaining: 221ms\n",
      "644:\tlearn: 0.0154807\ttotal: 400ms\tremaining: 220ms\n",
      "645:\tlearn: 0.0154066\ttotal: 400ms\tremaining: 219ms\n",
      "646:\tlearn: 0.0153486\ttotal: 400ms\tremaining: 218ms\n",
      "647:\tlearn: 0.0152832\ttotal: 401ms\tremaining: 218ms\n",
      "648:\tlearn: 0.0152205\ttotal: 401ms\tremaining: 217ms\n",
      "649:\tlearn: 0.0151768\ttotal: 401ms\tremaining: 216ms\n",
      "650:\tlearn: 0.0151117\ttotal: 402ms\tremaining: 215ms\n",
      "651:\tlearn: 0.0150481\ttotal: 402ms\tremaining: 215ms\n",
      "652:\tlearn: 0.0149855\ttotal: 403ms\tremaining: 214ms\n",
      "653:\tlearn: 0.0149251\ttotal: 403ms\tremaining: 213ms\n",
      "654:\tlearn: 0.0148710\ttotal: 404ms\tremaining: 213ms\n",
      "655:\tlearn: 0.0148099\ttotal: 404ms\tremaining: 212ms\n",
      "656:\tlearn: 0.0147513\ttotal: 404ms\tremaining: 211ms\n",
      "657:\tlearn: 0.0147262\ttotal: 405ms\tremaining: 210ms\n",
      "658:\tlearn: 0.0147017\ttotal: 405ms\tremaining: 210ms\n",
      "659:\tlearn: 0.0146286\ttotal: 406ms\tremaining: 209ms\n",
      "660:\tlearn: 0.0145278\ttotal: 406ms\tremaining: 208ms\n",
      "661:\tlearn: 0.0145043\ttotal: 407ms\tremaining: 208ms\n",
      "662:\tlearn: 0.0144343\ttotal: 407ms\tremaining: 207ms\n",
      "663:\tlearn: 0.0144116\ttotal: 407ms\tremaining: 206ms\n",
      "664:\tlearn: 0.0143893\ttotal: 408ms\tremaining: 205ms\n",
      "665:\tlearn: 0.0143677\ttotal: 408ms\tremaining: 205ms\n",
      "666:\tlearn: 0.0143249\ttotal: 409ms\tremaining: 204ms\n",
      "667:\tlearn: 0.0143039\ttotal: 409ms\tremaining: 203ms\n",
      "668:\tlearn: 0.0142623\ttotal: 410ms\tremaining: 203ms\n",
      "669:\tlearn: 0.0142209\ttotal: 410ms\tremaining: 202ms\n",
      "670:\tlearn: 0.0142006\ttotal: 410ms\tremaining: 201ms\n",
      "671:\tlearn: 0.0141808\ttotal: 411ms\tremaining: 201ms\n",
      "672:\tlearn: 0.0141407\ttotal: 411ms\tremaining: 200ms\n",
      "673:\tlearn: 0.0141292\ttotal: 412ms\tremaining: 199ms\n",
      "674:\tlearn: 0.0141179\ttotal: 412ms\tremaining: 198ms\n",
      "675:\tlearn: 0.0140789\ttotal: 413ms\tremaining: 198ms\n",
      "676:\tlearn: 0.0140239\ttotal: 413ms\tremaining: 197ms\n",
      "677:\tlearn: 0.0140128\ttotal: 414ms\tremaining: 196ms\n",
      "678:\tlearn: 0.0139589\ttotal: 414ms\tremaining: 196ms\n",
      "679:\tlearn: 0.0139479\ttotal: 414ms\tremaining: 195ms\n",
      "680:\tlearn: 0.0139371\ttotal: 415ms\tremaining: 194ms\n",
      "681:\tlearn: 0.0138870\ttotal: 415ms\tremaining: 194ms\n",
      "682:\tlearn: 0.0138333\ttotal: 416ms\tremaining: 193ms\n",
      "683:\tlearn: 0.0138227\ttotal: 416ms\tremaining: 192ms\n",
      "684:\tlearn: 0.0138121\ttotal: 417ms\tremaining: 192ms\n",
      "685:\tlearn: 0.0137593\ttotal: 417ms\tremaining: 191ms\n",
      "686:\tlearn: 0.0137073\ttotal: 418ms\tremaining: 190ms\n",
      "687:\tlearn: 0.0136969\ttotal: 418ms\tremaining: 190ms\n",
      "688:\tlearn: 0.0136867\ttotal: 419ms\tremaining: 189ms\n",
      "689:\tlearn: 0.0136215\ttotal: 419ms\tremaining: 188ms\n",
      "690:\tlearn: 0.0135737\ttotal: 420ms\tremaining: 188ms\n",
      "691:\tlearn: 0.0135107\ttotal: 420ms\tremaining: 187ms\n",
      "692:\tlearn: 0.0134728\ttotal: 420ms\tremaining: 186ms\n",
      "693:\tlearn: 0.0134561\ttotal: 421ms\tremaining: 186ms\n",
      "694:\tlearn: 0.0134097\ttotal: 421ms\tremaining: 185ms\n",
      "695:\tlearn: 0.0134000\ttotal: 422ms\tremaining: 184ms\n",
      "696:\tlearn: 0.0133394\ttotal: 422ms\tremaining: 184ms\n",
      "697:\tlearn: 0.0133030\ttotal: 423ms\tremaining: 183ms\n",
      "698:\tlearn: 0.0132869\ttotal: 423ms\tremaining: 182ms\n",
      "699:\tlearn: 0.0132776\ttotal: 424ms\tremaining: 182ms\n",
      "700:\tlearn: 0.0132136\ttotal: 424ms\tremaining: 181ms\n",
      "701:\tlearn: 0.0131593\ttotal: 425ms\tremaining: 180ms\n",
      "702:\tlearn: 0.0131502\ttotal: 425ms\tremaining: 180ms\n",
      "703:\tlearn: 0.0130998\ttotal: 426ms\tremaining: 179ms\n",
      "704:\tlearn: 0.0130422\ttotal: 426ms\tremaining: 178ms\n",
      "705:\tlearn: 0.0129976\ttotal: 427ms\tremaining: 178ms\n",
      "706:\tlearn: 0.0129889\ttotal: 427ms\tremaining: 177ms\n",
      "707:\tlearn: 0.0129444\ttotal: 428ms\tremaining: 176ms\n",
      "708:\tlearn: 0.0128828\ttotal: 428ms\tremaining: 176ms\n",
      "709:\tlearn: 0.0128353\ttotal: 429ms\tremaining: 175ms\n",
      "710:\tlearn: 0.0127902\ttotal: 429ms\tremaining: 174ms\n",
      "711:\tlearn: 0.0127817\ttotal: 429ms\tremaining: 174ms\n",
      "712:\tlearn: 0.0127165\ttotal: 430ms\tremaining: 173ms\n",
      "713:\tlearn: 0.0127081\ttotal: 430ms\tremaining: 172ms\n",
      "714:\tlearn: 0.0126620\ttotal: 431ms\tremaining: 172ms\n",
      "715:\tlearn: 0.0126538\ttotal: 431ms\tremaining: 171ms\n",
      "716:\tlearn: 0.0126456\ttotal: 432ms\tremaining: 170ms\n",
      "717:\tlearn: 0.0126115\ttotal: 432ms\tremaining: 170ms\n",
      "718:\tlearn: 0.0125520\ttotal: 433ms\tremaining: 169ms\n",
      "719:\tlearn: 0.0125441\ttotal: 433ms\tremaining: 168ms\n",
      "720:\tlearn: 0.0125306\ttotal: 434ms\tremaining: 168ms\n",
      "721:\tlearn: 0.0124790\ttotal: 434ms\tremaining: 167ms\n",
      "722:\tlearn: 0.0124712\ttotal: 435ms\tremaining: 167ms\n",
      "723:\tlearn: 0.0124116\ttotal: 435ms\tremaining: 166ms\n",
      "724:\tlearn: 0.0123923\ttotal: 436ms\tremaining: 165ms\n",
      "725:\tlearn: 0.0123846\ttotal: 436ms\tremaining: 165ms\n",
      "726:\tlearn: 0.0123520\ttotal: 437ms\tremaining: 164ms\n",
      "727:\tlearn: 0.0122904\ttotal: 437ms\tremaining: 163ms\n",
      "728:\tlearn: 0.0122414\ttotal: 438ms\tremaining: 163ms\n",
      "729:\tlearn: 0.0122340\ttotal: 439ms\tremaining: 162ms\n",
      "730:\tlearn: 0.0121981\ttotal: 439ms\tremaining: 162ms\n",
      "731:\tlearn: 0.0121462\ttotal: 440ms\tremaining: 161ms\n",
      "732:\tlearn: 0.0121388\ttotal: 440ms\tremaining: 160ms\n",
      "733:\tlearn: 0.0121203\ttotal: 441ms\tremaining: 160ms\n",
      "734:\tlearn: 0.0120920\ttotal: 441ms\tremaining: 159ms\n",
      "735:\tlearn: 0.0120443\ttotal: 442ms\tremaining: 158ms\n",
      "736:\tlearn: 0.0120372\ttotal: 442ms\tremaining: 158ms\n",
      "737:\tlearn: 0.0120065\ttotal: 442ms\tremaining: 157ms\n",
      "738:\tlearn: 0.0119476\ttotal: 443ms\tremaining: 156ms\n",
      "739:\tlearn: 0.0119406\ttotal: 443ms\tremaining: 156ms\n",
      "740:\tlearn: 0.0118938\ttotal: 444ms\tremaining: 155ms\n",
      "741:\tlearn: 0.0118761\ttotal: 444ms\tremaining: 154ms\n",
      "742:\tlearn: 0.0118353\ttotal: 445ms\tremaining: 154ms\n",
      "743:\tlearn: 0.0117938\ttotal: 445ms\tremaining: 153ms\n",
      "744:\tlearn: 0.0117822\ttotal: 445ms\tremaining: 152ms\n",
      "745:\tlearn: 0.0117421\ttotal: 446ms\tremaining: 152ms\n",
      "746:\tlearn: 0.0117276\ttotal: 446ms\tremaining: 151ms\n",
      "747:\tlearn: 0.0116645\ttotal: 447ms\tremaining: 150ms\n",
      "748:\tlearn: 0.0116093\ttotal: 447ms\tremaining: 150ms\n",
      "749:\tlearn: 0.0115831\ttotal: 448ms\tremaining: 149ms\n",
      "750:\tlearn: 0.0115441\ttotal: 448ms\tremaining: 149ms\n",
      "751:\tlearn: 0.0115376\ttotal: 449ms\tremaining: 148ms\n",
      "752:\tlearn: 0.0114747\ttotal: 449ms\tremaining: 147ms\n",
      "753:\tlearn: 0.0114465\ttotal: 450ms\tremaining: 147ms\n",
      "754:\tlearn: 0.0114085\ttotal: 451ms\tremaining: 146ms\n",
      "755:\tlearn: 0.0113951\ttotal: 451ms\tremaining: 146ms\n",
      "756:\tlearn: 0.0113339\ttotal: 451ms\tremaining: 145ms\n",
      "757:\tlearn: 0.0112816\ttotal: 452ms\tremaining: 144ms\n",
      "758:\tlearn: 0.0112575\ttotal: 452ms\tremaining: 144ms\n",
      "759:\tlearn: 0.0111978\ttotal: 453ms\tremaining: 143ms\n",
      "760:\tlearn: 0.0111576\ttotal: 454ms\tremaining: 142ms\n",
      "761:\tlearn: 0.0111181\ttotal: 454ms\tremaining: 142ms\n",
      "762:\tlearn: 0.0110897\ttotal: 455ms\tremaining: 141ms\n",
      "763:\tlearn: 0.0110350\ttotal: 455ms\tremaining: 141ms\n",
      "764:\tlearn: 0.0109747\ttotal: 456ms\tremaining: 140ms\n",
      "765:\tlearn: 0.0109686\ttotal: 456ms\tremaining: 139ms\n",
      "766:\tlearn: 0.0109626\ttotal: 456ms\tremaining: 139ms\n",
      "767:\tlearn: 0.0109245\ttotal: 457ms\tremaining: 138ms\n",
      "768:\tlearn: 0.0109186\ttotal: 457ms\tremaining: 137ms\n",
      "769:\tlearn: 0.0108813\ttotal: 458ms\tremaining: 137ms\n",
      "770:\tlearn: 0.0108247\ttotal: 458ms\tremaining: 136ms\n",
      "771:\tlearn: 0.0108015\ttotal: 459ms\tremaining: 136ms\n",
      "772:\tlearn: 0.0107653\ttotal: 459ms\tremaining: 135ms\n",
      "773:\tlearn: 0.0107137\ttotal: 460ms\tremaining: 134ms\n",
      "774:\tlearn: 0.0107080\ttotal: 460ms\tremaining: 134ms\n",
      "775:\tlearn: 0.0106729\ttotal: 460ms\tremaining: 133ms\n",
      "776:\tlearn: 0.0106379\ttotal: 461ms\tremaining: 132ms\n",
      "777:\tlearn: 0.0106282\ttotal: 461ms\tremaining: 132ms\n",
      "778:\tlearn: 0.0105939\ttotal: 461ms\tremaining: 131ms\n",
      "779:\tlearn: 0.0105601\ttotal: 462ms\tremaining: 130ms\n",
      "780:\tlearn: 0.0105547\ttotal: 462ms\tremaining: 130ms\n",
      "781:\tlearn: 0.0105216\ttotal: 462ms\tremaining: 129ms\n",
      "782:\tlearn: 0.0105162\ttotal: 463ms\tremaining: 128ms\n",
      "783:\tlearn: 0.0104866\ttotal: 463ms\tremaining: 128ms\n",
      "784:\tlearn: 0.0104753\ttotal: 464ms\tremaining: 127ms\n",
      "785:\tlearn: 0.0104227\ttotal: 464ms\tremaining: 126ms\n",
      "786:\tlearn: 0.0103947\ttotal: 465ms\tremaining: 126ms\n",
      "787:\tlearn: 0.0103437\ttotal: 465ms\tremaining: 125ms\n",
      "788:\tlearn: 0.0103168\ttotal: 465ms\tremaining: 124ms\n",
      "789:\tlearn: 0.0102673\ttotal: 466ms\tremaining: 124ms\n",
      "790:\tlearn: 0.0102210\ttotal: 466ms\tremaining: 123ms\n",
      "791:\tlearn: 0.0101949\ttotal: 467ms\tremaining: 123ms\n",
      "792:\tlearn: 0.0101631\ttotal: 467ms\tremaining: 122ms\n",
      "793:\tlearn: 0.0101161\ttotal: 467ms\tremaining: 121ms\n",
      "794:\tlearn: 0.0100845\ttotal: 468ms\tremaining: 121ms\n",
      "795:\tlearn: 0.0100795\ttotal: 468ms\tremaining: 120ms\n",
      "796:\tlearn: 0.0100546\ttotal: 469ms\tremaining: 119ms\n",
      "797:\tlearn: 0.0100091\ttotal: 469ms\tremaining: 119ms\n",
      "798:\tlearn: 0.0099782\ttotal: 469ms\tremaining: 118ms\n",
      "799:\tlearn: 0.0099348\ttotal: 470ms\tremaining: 117ms\n",
      "800:\tlearn: 0.0098877\ttotal: 470ms\tremaining: 117ms\n",
      "801:\tlearn: 0.0098440\ttotal: 471ms\tremaining: 116ms\n",
      "802:\tlearn: 0.0098383\ttotal: 471ms\tremaining: 116ms\n",
      "803:\tlearn: 0.0098199\ttotal: 472ms\tremaining: 115ms\n",
      "804:\tlearn: 0.0097781\ttotal: 472ms\tremaining: 114ms\n"
     ]
    },
    {
     "name": "stdout",
     "output_type": "stream",
     "text": [
      "805:\tlearn: 0.0097478\ttotal: 473ms\tremaining: 114ms\n",
      "806:\tlearn: 0.0097422\ttotal: 473ms\tremaining: 113ms\n",
      "807:\tlearn: 0.0097368\ttotal: 474ms\tremaining: 113ms\n",
      "808:\tlearn: 0.0097191\ttotal: 474ms\tremaining: 112ms\n",
      "809:\tlearn: 0.0096786\ttotal: 475ms\tremaining: 111ms\n",
      "810:\tlearn: 0.0096489\ttotal: 475ms\tremaining: 111ms\n",
      "811:\tlearn: 0.0096436\ttotal: 476ms\tremaining: 110ms\n",
      "812:\tlearn: 0.0095901\ttotal: 476ms\tremaining: 110ms\n",
      "813:\tlearn: 0.0095849\ttotal: 477ms\tremaining: 109ms\n",
      "814:\tlearn: 0.0095559\ttotal: 477ms\tremaining: 108ms\n",
      "815:\tlearn: 0.0095507\ttotal: 478ms\tremaining: 108ms\n",
      "816:\tlearn: 0.0094996\ttotal: 478ms\tremaining: 107ms\n",
      "817:\tlearn: 0.0094836\ttotal: 479ms\tremaining: 106ms\n",
      "818:\tlearn: 0.0094314\ttotal: 479ms\tremaining: 106ms\n",
      "819:\tlearn: 0.0094264\ttotal: 479ms\tremaining: 105ms\n",
      "820:\tlearn: 0.0093998\ttotal: 480ms\tremaining: 105ms\n",
      "821:\tlearn: 0.0093949\ttotal: 480ms\tremaining: 104ms\n",
      "822:\tlearn: 0.0093454\ttotal: 481ms\tremaining: 103ms\n",
      "823:\tlearn: 0.0093299\ttotal: 481ms\tremaining: 103ms\n",
      "824:\tlearn: 0.0092789\ttotal: 482ms\tremaining: 102ms\n",
      "825:\tlearn: 0.0092747\ttotal: 482ms\tremaining: 102ms\n",
      "826:\tlearn: 0.0092490\ttotal: 483ms\tremaining: 101ms\n",
      "827:\tlearn: 0.0092449\ttotal: 483ms\tremaining: 100ms\n",
      "828:\tlearn: 0.0092196\ttotal: 483ms\tremaining: 99.7ms\n",
      "829:\tlearn: 0.0092149\ttotal: 484ms\tremaining: 99.1ms\n",
      "830:\tlearn: 0.0091999\ttotal: 484ms\tremaining: 98.5ms\n",
      "831:\tlearn: 0.0091500\ttotal: 485ms\tremaining: 97.9ms\n",
      "832:\tlearn: 0.0091454\ttotal: 485ms\tremaining: 97.3ms\n",
      "833:\tlearn: 0.0090995\ttotal: 486ms\tremaining: 96.7ms\n",
      "834:\tlearn: 0.0090849\ttotal: 486ms\tremaining: 96.1ms\n",
      "835:\tlearn: 0.0090360\ttotal: 486ms\tremaining: 95.4ms\n",
      "836:\tlearn: 0.0089880\ttotal: 487ms\tremaining: 94.9ms\n",
      "837:\tlearn: 0.0089675\ttotal: 488ms\tremaining: 94.3ms\n",
      "838:\tlearn: 0.0089202\ttotal: 488ms\tremaining: 93.6ms\n",
      "839:\tlearn: 0.0089014\ttotal: 488ms\tremaining: 93ms\n",
      "840:\tlearn: 0.0088968\ttotal: 489ms\tremaining: 92.4ms\n",
      "841:\tlearn: 0.0088503\ttotal: 489ms\tremaining: 91.8ms\n",
      "842:\tlearn: 0.0088459\ttotal: 490ms\tremaining: 91.2ms\n",
      "843:\tlearn: 0.0088319\ttotal: 495ms\tremaining: 91.5ms\n",
      "844:\tlearn: 0.0087887\ttotal: 496ms\tremaining: 90.9ms\n",
      "845:\tlearn: 0.0087650\ttotal: 496ms\tremaining: 90.3ms\n",
      "846:\tlearn: 0.0087605\ttotal: 497ms\tremaining: 89.7ms\n",
      "847:\tlearn: 0.0087373\ttotal: 497ms\tremaining: 89.1ms\n",
      "848:\tlearn: 0.0087329\ttotal: 498ms\tremaining: 88.5ms\n",
      "849:\tlearn: 0.0086826\ttotal: 498ms\tremaining: 87.9ms\n",
      "850:\tlearn: 0.0086783\ttotal: 498ms\tremaining: 87.3ms\n",
      "851:\tlearn: 0.0086289\ttotal: 499ms\tremaining: 86.7ms\n",
      "852:\tlearn: 0.0086253\ttotal: 499ms\tremaining: 86ms\n",
      "853:\tlearn: 0.0086070\ttotal: 500ms\tremaining: 85.4ms\n",
      "854:\tlearn: 0.0085587\ttotal: 500ms\tremaining: 84.8ms\n",
      "855:\tlearn: 0.0085177\ttotal: 501ms\tremaining: 84.2ms\n",
      "856:\tlearn: 0.0085023\ttotal: 501ms\tremaining: 83.6ms\n",
      "857:\tlearn: 0.0084590\ttotal: 502ms\tremaining: 83ms\n",
      "858:\tlearn: 0.0084125\ttotal: 502ms\tremaining: 82.4ms\n",
      "859:\tlearn: 0.0083659\ttotal: 502ms\tremaining: 81.7ms\n",
      "860:\tlearn: 0.0083210\ttotal: 502ms\tremaining: 81.1ms\n",
      "861:\tlearn: 0.0082815\ttotal: 503ms\tremaining: 80.5ms\n",
      "862:\tlearn: 0.0082566\ttotal: 503ms\tremaining: 79.9ms\n",
      "863:\tlearn: 0.0082506\ttotal: 504ms\tremaining: 79.3ms\n",
      "864:\tlearn: 0.0082472\ttotal: 504ms\tremaining: 78.7ms\n",
      "865:\tlearn: 0.0082036\ttotal: 505ms\tremaining: 78.1ms\n",
      "866:\tlearn: 0.0081652\ttotal: 506ms\tremaining: 77.6ms\n",
      "867:\tlearn: 0.0081306\ttotal: 506ms\tremaining: 76.9ms\n",
      "868:\tlearn: 0.0081267\ttotal: 506ms\tremaining: 76.3ms\n",
      "869:\tlearn: 0.0081234\ttotal: 507ms\tremaining: 75.7ms\n",
      "870:\tlearn: 0.0080797\ttotal: 507ms\tremaining: 75.1ms\n",
      "871:\tlearn: 0.0080556\ttotal: 508ms\tremaining: 74.5ms\n",
      "872:\tlearn: 0.0080182\ttotal: 508ms\tremaining: 73.9ms\n",
      "873:\tlearn: 0.0080010\ttotal: 509ms\tremaining: 73.3ms\n",
      "874:\tlearn: 0.0079774\ttotal: 509ms\tremaining: 72.7ms\n",
      "875:\tlearn: 0.0079408\ttotal: 509ms\tremaining: 72.1ms\n",
      "876:\tlearn: 0.0078984\ttotal: 510ms\tremaining: 71.5ms\n",
      "877:\tlearn: 0.0078692\ttotal: 510ms\tremaining: 70.9ms\n",
      "878:\tlearn: 0.0078537\ttotal: 511ms\tremaining: 70.3ms\n",
      "879:\tlearn: 0.0078499\ttotal: 511ms\tremaining: 69.7ms\n",
      "880:\tlearn: 0.0078087\ttotal: 512ms\tremaining: 69.1ms\n",
      "881:\tlearn: 0.0077858\ttotal: 512ms\tremaining: 68.5ms\n",
      "882:\tlearn: 0.0077826\ttotal: 512ms\tremaining: 67.9ms\n",
      "883:\tlearn: 0.0077438\ttotal: 513ms\tremaining: 67.3ms\n",
      "884:\tlearn: 0.0077086\ttotal: 513ms\tremaining: 66.7ms\n",
      "885:\tlearn: 0.0076765\ttotal: 514ms\tremaining: 66.1ms\n",
      "886:\tlearn: 0.0076729\ttotal: 514ms\tremaining: 65.5ms\n",
      "887:\tlearn: 0.0076693\ttotal: 515ms\tremaining: 64.9ms\n",
      "888:\tlearn: 0.0076318\ttotal: 515ms\tremaining: 64.3ms\n",
      "889:\tlearn: 0.0076170\ttotal: 515ms\tremaining: 63.7ms\n",
      "890:\tlearn: 0.0076134\ttotal: 516ms\tremaining: 63.1ms\n",
      "891:\tlearn: 0.0075973\ttotal: 516ms\tremaining: 62.5ms\n",
      "892:\tlearn: 0.0075607\ttotal: 517ms\tremaining: 61.9ms\n",
      "893:\tlearn: 0.0075461\ttotal: 517ms\tremaining: 61.3ms\n",
      "894:\tlearn: 0.0075426\ttotal: 518ms\tremaining: 60.7ms\n",
      "895:\tlearn: 0.0075033\ttotal: 518ms\tremaining: 60.1ms\n",
      "896:\tlearn: 0.0074678\ttotal: 519ms\tremaining: 59.5ms\n",
      "897:\tlearn: 0.0074347\ttotal: 519ms\tremaining: 58.9ms\n",
      "898:\tlearn: 0.0074044\ttotal: 519ms\tremaining: 58.3ms\n",
      "899:\tlearn: 0.0073701\ttotal: 520ms\tremaining: 57.8ms\n",
      "900:\tlearn: 0.0073328\ttotal: 520ms\tremaining: 57.1ms\n",
      "901:\tlearn: 0.0072994\ttotal: 520ms\tremaining: 56.5ms\n",
      "902:\tlearn: 0.0072498\ttotal: 521ms\tremaining: 55.9ms\n",
      "903:\tlearn: 0.0072334\ttotal: 521ms\tremaining: 55.3ms\n",
      "904:\tlearn: 0.0072185\ttotal: 522ms\tremaining: 54.7ms\n",
      "905:\tlearn: 0.0071703\ttotal: 522ms\tremaining: 54.2ms\n",
      "906:\tlearn: 0.0071669\ttotal: 522ms\tremaining: 53.6ms\n",
      "907:\tlearn: 0.0071547\ttotal: 523ms\tremaining: 53ms\n",
      "908:\tlearn: 0.0071499\ttotal: 523ms\tremaining: 52.4ms\n",
      "909:\tlearn: 0.0071177\ttotal: 523ms\tremaining: 51.8ms\n",
      "910:\tlearn: 0.0070862\ttotal: 524ms\tremaining: 51.2ms\n",
      "911:\tlearn: 0.0070729\ttotal: 524ms\tremaining: 50.6ms\n",
      "912:\tlearn: 0.0070587\ttotal: 524ms\tremaining: 50ms\n",
      "913:\tlearn: 0.0070456\ttotal: 525ms\tremaining: 49.4ms\n",
      "914:\tlearn: 0.0070337\ttotal: 525ms\tremaining: 48.8ms\n",
      "915:\tlearn: 0.0070052\ttotal: 525ms\tremaining: 48.2ms\n",
      "916:\tlearn: 0.0069934\ttotal: 526ms\tremaining: 47.6ms\n",
      "917:\tlearn: 0.0069838\ttotal: 526ms\tremaining: 47ms\n",
      "918:\tlearn: 0.0069724\ttotal: 527ms\tremaining: 46.4ms\n",
      "919:\tlearn: 0.0069594\ttotal: 527ms\tremaining: 45.8ms\n",
      "920:\tlearn: 0.0069562\ttotal: 527ms\tremaining: 45.2ms\n",
      "921:\tlearn: 0.0069450\ttotal: 528ms\tremaining: 44.7ms\n",
      "922:\tlearn: 0.0069431\ttotal: 529ms\tremaining: 44.1ms\n",
      "923:\tlearn: 0.0069302\ttotal: 529ms\tremaining: 43.5ms\n",
      "924:\tlearn: 0.0069209\ttotal: 530ms\tremaining: 43ms\n",
      "925:\tlearn: 0.0069109\ttotal: 530ms\tremaining: 42.4ms\n",
      "926:\tlearn: 0.0068803\ttotal: 531ms\tremaining: 41.8ms\n",
      "927:\tlearn: 0.0068705\ttotal: 531ms\tremaining: 41.2ms\n",
      "928:\tlearn: 0.0068406\ttotal: 531ms\tremaining: 40.6ms\n",
      "929:\tlearn: 0.0068130\ttotal: 532ms\tremaining: 40ms\n",
      "930:\tlearn: 0.0067837\ttotal: 532ms\tremaining: 39.5ms\n",
      "931:\tlearn: 0.0067570\ttotal: 533ms\tremaining: 38.9ms\n",
      "932:\tlearn: 0.0067168\ttotal: 533ms\tremaining: 38.3ms\n",
      "933:\tlearn: 0.0066923\ttotal: 534ms\tremaining: 37.7ms\n",
      "934:\tlearn: 0.0066637\ttotal: 535ms\tremaining: 37.2ms\n",
      "935:\tlearn: 0.0066247\ttotal: 536ms\tremaining: 36.6ms\n",
      "936:\tlearn: 0.0066216\ttotal: 536ms\tremaining: 36ms\n",
      "937:\tlearn: 0.0065976\ttotal: 537ms\tremaining: 35.5ms\n",
      "938:\tlearn: 0.0065946\ttotal: 537ms\tremaining: 34.9ms\n",
      "939:\tlearn: 0.0065916\ttotal: 537ms\tremaining: 34.3ms\n",
      "940:\tlearn: 0.0065593\ttotal: 538ms\tremaining: 33.7ms\n",
      "941:\tlearn: 0.0065212\ttotal: 538ms\tremaining: 33.1ms\n",
      "942:\tlearn: 0.0065189\ttotal: 539ms\tremaining: 32.6ms\n",
      "943:\tlearn: 0.0064956\ttotal: 539ms\tremaining: 32ms\n",
      "944:\tlearn: 0.0064936\ttotal: 540ms\tremaining: 31.4ms\n",
      "945:\tlearn: 0.0064914\ttotal: 540ms\tremaining: 30.8ms\n",
      "946:\tlearn: 0.0064542\ttotal: 541ms\tremaining: 30.3ms\n",
      "947:\tlearn: 0.0064417\ttotal: 541ms\tremaining: 29.7ms\n",
      "948:\tlearn: 0.0064398\ttotal: 542ms\tremaining: 29.1ms\n",
      "949:\tlearn: 0.0064170\ttotal: 542ms\tremaining: 28.5ms\n",
      "950:\tlearn: 0.0064147\ttotal: 543ms\tremaining: 28ms\n",
      "951:\tlearn: 0.0064064\ttotal: 543ms\tremaining: 27.4ms\n",
      "952:\tlearn: 0.0063880\ttotal: 544ms\tremaining: 26.8ms\n",
      "953:\tlearn: 0.0063656\ttotal: 544ms\tremaining: 26.2ms\n",
      "954:\tlearn: 0.0063637\ttotal: 545ms\tremaining: 25.7ms\n",
      "955:\tlearn: 0.0063458\ttotal: 545ms\tremaining: 25.1ms\n",
      "956:\tlearn: 0.0063211\ttotal: 545ms\tremaining: 24.5ms\n",
      "957:\tlearn: 0.0062969\ttotal: 546ms\tremaining: 23.9ms\n",
      "958:\tlearn: 0.0062615\ttotal: 547ms\tremaining: 23.4ms\n",
      "959:\tlearn: 0.0062522\ttotal: 547ms\tremaining: 22.8ms\n",
      "960:\tlearn: 0.0062305\ttotal: 548ms\tremaining: 22.2ms\n",
      "961:\tlearn: 0.0062287\ttotal: 548ms\tremaining: 21.7ms\n",
      "962:\tlearn: 0.0061941\ttotal: 549ms\tremaining: 21.1ms\n",
      "963:\tlearn: 0.0061876\ttotal: 550ms\tremaining: 20.5ms\n",
      "964:\tlearn: 0.0061582\ttotal: 550ms\tremaining: 20ms\n",
      "965:\tlearn: 0.0061244\ttotal: 551ms\tremaining: 19.4ms\n",
      "966:\tlearn: 0.0061180\ttotal: 551ms\tremaining: 18.8ms\n",
      "967:\tlearn: 0.0060849\ttotal: 552ms\tremaining: 18.2ms\n",
      "968:\tlearn: 0.0060743\ttotal: 552ms\tremaining: 17.7ms\n",
      "969:\tlearn: 0.0060418\ttotal: 553ms\tremaining: 17.1ms\n",
      "970:\tlearn: 0.0060140\ttotal: 553ms\tremaining: 16.5ms\n",
      "971:\tlearn: 0.0060079\ttotal: 554ms\tremaining: 15.9ms\n",
      "972:\tlearn: 0.0059915\ttotal: 554ms\tremaining: 15.4ms\n"
     ]
    },
    {
     "name": "stdout",
     "output_type": "stream",
     "text": [
      "973:\tlearn: 0.0059709\ttotal: 555ms\tremaining: 14.8ms\n",
      "974:\tlearn: 0.0059440\ttotal: 555ms\tremaining: 14.2ms\n",
      "975:\tlearn: 0.0059332\ttotal: 556ms\tremaining: 13.7ms\n",
      "976:\tlearn: 0.0059246\ttotal: 556ms\tremaining: 13.1ms\n",
      "977:\tlearn: 0.0059087\ttotal: 557ms\tremaining: 12.5ms\n",
      "978:\tlearn: 0.0059071\ttotal: 557ms\tremaining: 11.9ms\n",
      "979:\tlearn: 0.0058965\ttotal: 557ms\tremaining: 11.4ms\n",
      "980:\tlearn: 0.0058897\ttotal: 558ms\tremaining: 10.8ms\n",
      "981:\tlearn: 0.0058546\ttotal: 558ms\tremaining: 10.2ms\n",
      "982:\tlearn: 0.0058394\ttotal: 559ms\tremaining: 9.66ms\n",
      "983:\tlearn: 0.0058193\ttotal: 559ms\tremaining: 9.09ms\n",
      "984:\tlearn: 0.0058116\ttotal: 559ms\tremaining: 8.52ms\n",
      "985:\tlearn: 0.0058012\ttotal: 560ms\tremaining: 7.95ms\n",
      "986:\tlearn: 0.0057910\ttotal: 560ms\tremaining: 7.38ms\n",
      "987:\tlearn: 0.0057894\ttotal: 561ms\tremaining: 6.81ms\n",
      "988:\tlearn: 0.0057793\ttotal: 561ms\tremaining: 6.24ms\n",
      "989:\tlearn: 0.0057646\ttotal: 562ms\tremaining: 5.67ms\n",
      "990:\tlearn: 0.0057306\ttotal: 562ms\tremaining: 5.11ms\n",
      "991:\tlearn: 0.0057097\ttotal: 563ms\tremaining: 4.54ms\n",
      "992:\tlearn: 0.0057081\ttotal: 563ms\tremaining: 3.97ms\n",
      "993:\tlearn: 0.0056982\ttotal: 564ms\tremaining: 3.4ms\n",
      "994:\tlearn: 0.0056966\ttotal: 564ms\tremaining: 2.83ms\n",
      "995:\tlearn: 0.0056762\ttotal: 565ms\tremaining: 2.27ms\n",
      "996:\tlearn: 0.0056665\ttotal: 565ms\tremaining: 1.7ms\n",
      "997:\tlearn: 0.0056417\ttotal: 565ms\tremaining: 1.13ms\n",
      "998:\tlearn: 0.0056302\ttotal: 566ms\tremaining: 566us\n",
      "999:\tlearn: 0.0056160\ttotal: 566ms\tremaining: 0us\n"
     ]
    },
    {
     "data": {
      "text/plain": [
       "<catboost.core.CatBoostRegressor at 0x7fd993a20fa0>"
      ]
     },
     "execution_count": 9,
     "metadata": {},
     "output_type": "execute_result"
    }
   ],
   "source": [
    "#Train the Model \n",
    "prior_model = ctb.CatBoostRegressor()\n",
    "prior_model.fit(X_train,Y_train)"
   ]
  },
  {
   "cell_type": "code",
   "execution_count": 10,
   "id": "af65dcda",
   "metadata": {
    "execution": {
     "iopub.execute_input": "2022-06-07T06:19:29.788592Z",
     "iopub.status.busy": "2022-06-07T06:19:29.788219Z",
     "iopub.status.idle": "2022-06-07T06:19:29.795762Z",
     "shell.execute_reply": "2022-06-07T06:19:29.795996Z"
    },
    "id": "af65dcda",
    "papermill": {
     "duration": 0.020368,
     "end_time": "2022-06-07T06:19:29.796110",
     "exception": false,
     "start_time": "2022-06-07T06:19:29.775742",
     "status": "completed"
    },
    "tags": []
   },
   "outputs": [
    {
     "data": {
      "application/scrapbook.scrap.json+json": {
       "data": 0.17790307973316272,
       "encoder": "json",
       "name": "Prior Model MSE",
       "version": 1
      }
     },
     "metadata": {
      "scrapbook": {
       "data": true,
       "display": false,
       "name": "Prior Model MSE"
      }
     },
     "output_type": "display_data"
    },
    {
     "data": {
      "application/scrapbook.scrap.json+json": {
       "data": 1.1314140187908526,
       "encoder": "json",
       "name": "ABC Pre-generator MSE",
       "version": 1
      }
     },
     "metadata": {
      "scrapbook": {
       "data": true,
       "display": false,
       "name": "ABC Pre-generator MSE"
      }
     },
     "output_type": "display_data"
    },
    {
     "data": {
      "application/scrapbook.scrap.json+json": {
       "data": 0.3323852384974545,
       "encoder": "json",
       "name": "Prior Model MSE",
       "version": 1
      }
     },
     "metadata": {
      "scrapbook": {
       "data": true,
       "display": false,
       "name": "Prior Model MSE"
      }
     },
     "output_type": "display_data"
    },
    {
     "data": {
      "application/scrapbook.scrap.json+json": {
       "data": 0.9096081041219743,
       "encoder": "json",
       "name": "ABC Pre-generator MSE",
       "version": 1
      }
     },
     "metadata": {
      "scrapbook": {
       "data": true,
       "display": false,
       "name": "ABC Pre-generator MSE"
      }
     },
     "output_type": "display_data"
    }
   ],
   "source": [
    "y_pred = prior_model.predict(X_test)\n",
    "y_abc = y_pred + np.random.normal(0,variance, y_pred.shape) + bias \n",
    "mse = mean_squared_error(y_pred,Y_test)\n",
    "sb.glue(\"Prior Model MSE\",mse)\n",
    "mse = mean_squared_error(y_abc,Y_test)\n",
    "sb.glue(\"ABC Pre-generator MSE\",mse)\n",
    "mae = mean_absolute_error(y_pred,Y_test)\n",
    "sb.glue(\"Prior Model MSE\",mae)\n",
    "mae = mean_absolute_error(y_abc,Y_test)\n",
    "sb.glue(\"ABC Pre-generator MSE\",mae)"
   ]
  },
  {
   "cell_type": "markdown",
   "id": "25609da2",
   "metadata": {
    "papermill": {
     "duration": 0.009572,
     "end_time": "2022-06-07T06:19:29.815715",
     "exception": false,
     "start_time": "2022-06-07T06:19:29.806143",
     "status": "completed"
    },
    "tags": []
   },
   "source": [
    "# ABC GAN Model"
   ]
  },
  {
   "cell_type": "code",
   "execution_count": 11,
   "id": "dfc3464d",
   "metadata": {
    "execution": {
     "iopub.execute_input": "2022-06-07T06:19:29.838045Z",
     "iopub.status.busy": "2022-06-07T06:19:29.837643Z",
     "iopub.status.idle": "2022-06-07T06:19:29.840285Z",
     "shell.execute_reply": "2022-06-07T06:19:29.840529Z"
    },
    "papermill": {
     "duration": 0.015373,
     "end_time": "2022-06-07T06:19:29.840646",
     "exception": false,
     "start_time": "2022-06-07T06:19:29.825273",
     "status": "completed"
    },
    "tags": []
   },
   "outputs": [],
   "source": [
    "gen = network.Generator(n_features+1).to(device)\n",
    "disc = network.Discriminator(n_features+1).to(device)\n",
    "\n",
    "criterion = torch.nn.BCELoss()\n",
    "gen_opt = torch.optim.Adam(gen.parameters(), lr=0.001, betas=(0.5, 0.999))\n",
    "disc_opt = torch.optim.Adam(disc.parameters(), lr=0.001, betas=(0.5, 0.999))"
   ]
  },
  {
   "cell_type": "code",
   "execution_count": 12,
   "id": "b75fdd85",
   "metadata": {
    "execution": {
     "iopub.execute_input": "2022-06-07T06:19:29.862250Z",
     "iopub.status.busy": "2022-06-07T06:19:29.861868Z",
     "iopub.status.idle": "2022-06-07T06:19:45.739498Z",
     "shell.execute_reply": "2022-06-07T06:19:45.739800Z"
    },
    "papermill": {
     "duration": 15.889525,
     "end_time": "2022-06-07T06:19:45.739935",
     "exception": false,
     "start_time": "2022-06-07T06:19:29.850410",
     "status": "completed"
    },
    "tags": []
   },
   "outputs": [
    {
     "data": {
      "image/png": "[encoded data removed]",
      "text/plain": [
       "<Figure size 432x288 with 1 Axes>"
      ]
     },
     "metadata": {
      "needs_background": "light"
     },
     "output_type": "display_data"
    },
    {
     "data": {
      "image/png": "[encoded data removed]",
      "text/plain": [
       "<Figure size 432x288 with 1 Axes>"
      ]
     },
     "metadata": {
      "needs_background": "light"
     },
     "output_type": "display_data"
    }
   ],
   "source": [
    "#Training the ABC_GAN \n",
    "ABC_train_test2.training_GAN(disc,gen,disc_opt,gen_opt,train_data,batch_size,n_epochs,criterion,prior_model,variance,bias,device)"
   ]
  },
  {
   "cell_type": "code",
   "execution_count": 13,
   "id": "1fa7c368",
   "metadata": {
    "execution": {
     "iopub.execute_input": "2022-06-07T06:19:45.764954Z",
     "iopub.status.busy": "2022-06-07T06:19:45.764453Z",
     "iopub.status.idle": "2022-06-07T06:19:45.967892Z",
     "shell.execute_reply": "2022-06-07T06:19:45.968144Z"
    },
    "papermill": {
     "duration": 0.216846,
     "end_time": "2022-06-07T06:19:45.968267",
     "exception": false,
     "start_time": "2022-06-07T06:19:45.751421",
     "status": "completed"
    },
    "tags": []
   },
   "outputs": [
    {
     "data": {
      "application/scrapbook.scrap.json+json": {
       "data": 0.05696199648363267,
       "encoder": "json",
       "name": "ABC-GAN Model 1 MSE",
       "version": 1
      }
     },
     "metadata": {
      "scrapbook": {
       "data": true,
       "display": false,
       "name": "ABC-GAN Model 1 MSE"
      }
     },
     "output_type": "display_data"
    },
    {
     "data": {
      "application/scrapbook.scrap.json+json": {
       "data": 0.17478849241137503,
       "encoder": "json",
       "name": "ABC-GAN Model 1 MAE",
       "version": 1
      }
     },
     "metadata": {
      "scrapbook": {
       "data": true,
       "display": false,
       "name": "ABC-GAN Model 1 MAE"
      }
     },
     "output_type": "display_data"
    },
    {
     "data": {
      "application/scrapbook.scrap.json+json": {
       "data": 3.495769848227501,
       "encoder": "json",
       "name": "ABC-GAN Model 1 Manhattan Distance",
       "version": 1
      }
     },
     "metadata": {
      "scrapbook": {
       "data": true,
       "display": false,
       "name": "ABC-GAN Model 1 Manhattan Distance"
      }
     },
     "output_type": "display_data"
    },
    {
     "data": {
      "application/scrapbook.scrap.json+json": {
       "data": 1.0666554193433078,
       "encoder": "json",
       "name": "ABC-GAN Model 1 Euclidean distance",
       "version": 1
      }
     },
     "metadata": {
      "scrapbook": {
       "data": true,
       "display": false,
       "name": "ABC-GAN Model 1 Euclidean distance"
      }
     },
     "output_type": "display_data"
    },
    {
     "data": {
      "application/scrapbook.scrap.json+json": {
       "data": [
        [
         0.05298082051512224,
         0.06454712437507283,
         0.054169463627417,
         0.054109647242360906,
         0.0531014601810159,
         0.05742272580190738,
         0.04383109517335101,
         0.05380386998073533,
         0.05367874596642931,
         0.05678014337193312,
         0.05387824087532232,
         0.05221975331012637,
         0.05948987446179271,
         0.05624835568688512,
         0.055892556916611956,
         0.053369209142216247,
         0.06228447840563879,
         0.05960346194836928,
         0.06238986710093618,
         0.05511770114970703,
         0.05051594740147362,
         0.057712714018148224,
         0.06251383847726183,
         0.05777622935686809,
         0.05974538396542255,
         0.06421865391477853,
         0.06309355795867412,
         0.0609045113622089,
         0.054420252833120894,
         0.05599732447819926,
         0.062366986831396,
         0.05335201744129775,
         0.054248321834098945,
         0.058522493379703465,
         0.05562169511083086,
         0.051843920636023555,
         0.059106485996780554,
         0.054801948126101965,
         0.05767898184986432,
         0.05969127042959423,
         0.053259034055147814,
         0.05643833734020377,
         0.05525777788242786,
         0.051899038582223854,
         0.05440367198249866,
         0.06318074179638394,
         0.05214722596691222,
         0.058408293494962606,
         0.05121817816983808,
         0.064350325739499,
         0.0590595906468646,
         0.06429122322244787,
         0.06464914694379362,
         0.05701388624611566,
         0.05639794693444179,
         0.05765856379898996,
         0.05622188568686909,
         0.049262968056139514,
         0.0540393366852537,
         0.0629600117777615,
         0.05779450793459558,
         0.05944179364672551,
         0.06076940459581032,
         0.05840981366774728,
         0.057201150417251344,
         0.06183135429402044,
         0.06186053501845749,
         0.0543298197139502,
         0.05466909049280716,
         0.061930629714235366,
         0.05223454232135004,
         0.053561588912433136,
         0.05572709557941034,
         0.05838783325134743,
         0.05327415164852135,
         0.04845745670039335,
         0.04948754746791769,
         0.057297965272214924,
         0.056533064476311866,
         0.06139048239401227,
         0.057696164049267286,
         0.05508209469870965,
         0.055502653416794466,
         0.0531945956782963,
         0.05196388203913925,
         0.058656836337068606,
         0.05741683940250562,
         0.05970499391486692,
         0.06413156866773093,
         0.05865847285159448,
         0.05607538068377273,
         0.06259077538744975,
         0.05635609539515276,
         0.06207942522816249,
         0.061537321495007735,
         0.05611404899292068,
         0.06138788520570676,
         0.05367470834128728,
         0.05317249947974987,
         0.05544526393499675
        ],
        [
         0.16255541183054448,
         0.19523136168718339,
         0.17075573094189167,
         0.17082951851189138,
         0.16788108386099337,
         0.17791827470064164,
         0.15041489489376544,
         0.17046686746180056,
         0.16943052411079407,
         0.17563670352101327,
         0.1617790661752224,
         0.16538153029978275,
         0.17606153078377246,
         0.1717365864664316,
         0.1765708614140749,
         0.16286807246506213,
         0.18031432367861272,
         0.1929167214781046,
         0.18265223689377308,
         0.16849270202219485,
         0.16793126203119754,
         0.18566078394651414,
         0.1797812107950449,
         0.18595166690647602,
         0.18082820028066635,
         0.17909762710332872,
         0.1888001848012209,
         0.17336686737835408,
         0.17616154439747334,
         0.17372305728495122,
         0.19798955507576466,
         0.15473769940435886,
         0.17908323295414447,
         0.17535164281725885,
         0.17346056066453458,
         0.16860056556761266,
         0.17770386524498463,
         0.16816697902977468,
         0.17968736924231052,
         0.18112130351364614,
         0.16873361617326738,
         0.17586607970297335,
         0.17620089389383792,
         0.164047147706151,
         0.16916495598852635,
         0.1914342686533928,
         0.16819990910589694,
         0.17511856146156787,
         0.15549577362835407,
         0.18596403636038303,
         0.17631915472447873,
         0.1930590096861124,
         0.17788760736584663,
         0.18303511925041677,
         0.1822827447205782,
         0.17880917228758336,
         0.16894117183983326,
         0.15101593621075154,
         0.16765957213938237,
         0.1886077828705311,
         0.1779108513146639,
         0.1795938778668642,
         0.17500533498823642,
         0.17920106537640096,
         0.17932676896452904,
         0.18633889146149157,
         0.17709560133516788,
         0.1693660754710436,
         0.16653079874813556,
         0.1809189084917307,
         0.16932946480810643,
         0.1628749594092369,
         0.166454416885972,
         0.17927590645849706,
         0.15805123336613178,
         0.16715065129101275,
         0.15319969095289707,
         0.18029106296598912,
         0.1673393789678812,
         0.18063579984009265,
         0.17230396904051304,
         0.17580489106476307,
         0.17487006075680256,
         0.1678198989480734,
         0.16437920965254307,
         0.17440134175121785,
         0.17714396454393863,
         0.17290873378515242,
         0.190179106220603,
         0.17393352128565312,
         0.1794083494693041,
         0.1849162746220827,
         0.18412181697785854,
         0.1846584040671587,
         0.18699563592672347,
         0.1771145887672901,
         0.18596389181911946,
         0.17312781251966952,
         0.1599560048431158,
         0.16800933070480822
        ],
        [
         3.2511082366108894,
         3.9046272337436676,
         3.4151146188378334,
         3.4165903702378273,
         3.3576216772198677,
         3.5583654940128326,
         3.008297897875309,
         3.4093373492360115,
         3.3886104822158813,
         3.512734070420265,
         3.235581323504448,
         3.307630605995655,
         3.5212306156754494,
         3.4347317293286324,
         3.531417228281498,
         3.257361449301243,
         3.606286473572254,
         3.858334429562092,
         3.6530447378754616,
         3.3698540404438972,
         3.358625240623951,
         3.7132156789302826,
         3.595624215900898,
         3.7190333381295204,
         3.616564005613327,
         3.581952542066574,
         3.776003696024418,
         3.4673373475670815,
         3.5232308879494667,
         3.474461145699024,
         3.959791101515293,
         3.0947539880871773,
         3.5816646590828896,
         3.5070328563451767,
         3.4692112132906914,
         3.372011311352253,
         3.5540773048996925,
         3.3633395805954933,
         3.5937473848462105,
         3.6224260702729225,
         3.3746723234653473,
         3.5173215940594673,
         3.5240178778767586,
         3.28094295412302,
         3.383299119770527,
         3.828685373067856,
         3.363998182117939,
         3.5023712292313576,
         3.1099154725670815,
         3.7192807272076607,
         3.5263830944895744,
         3.861180193722248,
         3.5577521473169327,
         3.660702385008335,
         3.645654894411564,
         3.576183445751667,
         3.378823436796665,
         3.0203187242150307,
         3.3531914427876472,
         3.7721556574106216,
         3.5582170262932777,
         3.591877557337284,
         3.5001066997647285,
         3.584021307528019,
         3.5865353792905807,
         3.7267778292298317,
         3.5419120267033577,
         3.3873215094208717,
         3.3306159749627113,
         3.618378169834614,
         3.3865892961621284,
         3.257499188184738,
         3.3290883377194405,
         3.585518129169941,
         3.1610246673226357,
         3.3430130258202553,
         3.0639938190579414,
         3.6058212593197823,
         3.346787579357624,
         3.612715996801853,
         3.4460793808102608,
         3.5160978212952614,
         3.497401215136051,
         3.3563979789614677,
         3.2875841930508614,
         3.488026835024357,
         3.5428792908787727,
         3.4581746757030487,
         3.80358212441206,
         3.4786704257130623,
         3.5881669893860817,
         3.698325492441654,
         3.682436339557171,
         3.693168081343174,
         3.7399127185344696,
         3.5422917753458023,
         3.719277836382389,
         3.4625562503933907,
         3.199120096862316,
         3.3601866140961647
        ],
        [
         1.0293767096172541,
         1.1361965003913084,
         1.0408598717158521,
         1.0402850305792246,
         1.0305480113125822,
         1.0716597016022147,
         0.9362808891924582,
         1.0373415057803803,
         1.0361346048311417,
         1.065646689779808,
         1.0380581956260673,
         1.021956489388138,
         1.0907783868576852,
         1.0606446689338058,
         1.0572847952809306,
         1.0331428666183224,
         1.1161046403060852,
         1.091819233649685,
         1.1170484958222375,
         1.0499304848389444,
         1.0051462321620035,
         1.074362266818304,
         1.1181577570026675,
         1.0749532953283887,
         1.0931183281367352,
         1.1333018478302992,
         1.1233303873631668,
         1.103671249622902,
         1.0432665319382282,
         1.0582752428191757,
         1.1168436491415976,
         1.0329764512446327,
         1.0416172217671802,
         1.0818733140225196,
         1.0547198216666913,
         1.0182722684628465,
         1.0872578902613728,
         1.0469187946168697,
         1.0740482470528436,
         1.0926231777661888,
         1.0320759085953688,
         1.0624343494089765,
         1.0512637907055284,
         1.0188134135573976,
         1.043107587763589,
         1.124106238719312,
         1.0212465516897693,
         1.0808172231692332,
         1.0121084741255562,
         1.1344630953847639,
         1.0868264870425692,
         1.1339420022421596,
         1.1370940765283548,
         1.067837873893932,
         1.0620541128816534,
         1.073858126560394,
         1.0603950743649189,
         0.9926023177097615,
         1.0396089330633294,
         1.1221409160864022,
         1.0751233225504466,
         1.090337504140122,
         1.102446412265107,
         1.0808312881088082,
         1.069590112307059,
         1.1120373581316452,
         1.1122997349496895,
         1.0423993449148958,
         1.0456489897934886,
         1.1129297346574523,
         1.0221011918724099,
         1.0350032745110822,
         1.0557186706638313,
         1.0806279031317618,
         1.032222375736172,
         0.9844537236497545,
         0.9948622765781975,
         1.070494888098163,
         1.0633255802087325,
         1.1080657236284521,
         1.0742082111887554,
         1.0495912985415765,
         1.0535905601019255,
         1.0314513626758781,
         1.019449675453764,
         1.0831143645716144,
         1.0716047723158537,
         1.092748771812322,
         1.1325331665583214,
         1.083129473808136,
         1.0590125654001725,
         1.1188456139025595,
         1.0616599775366193,
         1.1142659038861638,
         1.109390116190042,
         1.0593776379829876,
         1.1080422844432134,
         1.03609563594571,
         1.031237116086789,
         1.0530457153893817
        ]
       ],
       "encoder": "json",
       "name": "ABC_GAN_1 Metrics",
       "version": 1
      }
     },
     "metadata": {
      "scrapbook": {
       "data": true,
       "display": false,
       "name": "ABC_GAN_1 Metrics"
      }
     },
     "output_type": "display_data"
    },
    {
     "name": "stdout",
     "output_type": "stream",
     "text": [
      "MSE\n",
      "0.05696199648363267\n"
     ]
    }
   ],
   "source": [
    "ABC_GAN1_metrics=ABC_train_test2.test_generator(gen,test_data,prior_model,variance,bias,\"1\",device)\n",
    "sb.glue(\"ABC_GAN_1 Metrics\",ABC_GAN1_metrics)\n",
    "\n",
    "print(\"MSE\")\n",
    "print(mean(ABC_GAN1_metrics[0]))"
   ]
  },
  {
   "cell_type": "code",
   "execution_count": 14,
   "id": "eb22ce5c",
   "metadata": {
    "execution": {
     "iopub.execute_input": "2022-06-07T06:19:46.008442Z",
     "iopub.status.busy": "2022-06-07T06:19:46.004316Z",
     "iopub.status.idle": "2022-06-07T06:19:46.309776Z",
     "shell.execute_reply": "2022-06-07T06:19:46.310075Z"
    },
    "papermill": {
     "duration": 0.329427,
     "end_time": "2022-06-07T06:19:46.310200",
     "exception": false,
     "start_time": "2022-06-07T06:19:45.980773",
     "status": "completed"
    },
    "tags": []
   },
   "outputs": [
    {
     "data": {
      "image/png": "[encoded data removed]",
      "text/plain": [
       "<Figure size 432x288 with 1 Axes>"
      ]
     },
     "metadata": {
      "needs_background": "light"
     },
     "output_type": "display_data"
    },
    {
     "data": {
      "image/png": "[encoded data removed]",
      "text/plain": [
       "<Figure size 432x288 with 1 Axes>"
      ]
     },
     "metadata": {
      "needs_background": "light"
     },
     "output_type": "display_data"
    },
    {
     "data": {
      "image/png": "[encoded data removed]",
      "text/plain": [
       "<Figure size 432x288 with 1 Axes>"
      ]
     },
     "metadata": {
      "needs_background": "light"
     },
     "output_type": "display_data"
    },
    {
     "data": {
      "image/png": "[encoded data removed]",
      "text/plain": [
       "<Figure size 432x288 with 1 Axes>"
      ]
     },
     "metadata": {
      "needs_background": "light"
     },
     "output_type": "display_data"
    }
   ],
   "source": [
    "sanityChecks.discProbVsError(train_data,disc,device)\n",
    "sanityChecks.discProbVsError(test_data,disc,device)"
   ]
  },
  {
   "cell_type": "markdown",
   "id": "130f3a4d",
   "metadata": {
    "id": "130f3a4d",
    "papermill": {
     "duration": 0.037716,
     "end_time": "2022-06-07T06:19:46.362677",
     "exception": false,
     "start_time": "2022-06-07T06:19:46.324961",
     "status": "completed"
    },
    "tags": []
   },
   "source": [
    "# ABC - GAN Model with skip connection"
   ]
  },
  {
   "cell_type": "code",
   "execution_count": 15,
   "id": "4e43dad1",
   "metadata": {
    "execution": {
     "iopub.execute_input": "2022-06-07T06:19:46.395372Z",
     "iopub.status.busy": "2022-06-07T06:19:46.394989Z",
     "iopub.status.idle": "2022-06-07T06:19:46.397355Z",
     "shell.execute_reply": "2022-06-07T06:19:46.397619Z"
    },
    "id": "4e43dad1",
    "papermill": {
     "duration": 0.020528,
     "end_time": "2022-06-07T06:19:46.397735",
     "exception": false,
     "start_time": "2022-06-07T06:19:46.377207",
     "status": "completed"
    },
    "tags": []
   },
   "outputs": [],
   "source": [
    "#Generator\n",
    "gen3 = network.GeneratorWithSkipConnection(n_features+1).to(device)\n",
    "constraints=network.weightConstraint()\n",
    "#Discriminator \n",
    "disc3 = network.Discriminator(n_features+1).to(device)\n",
    "\n",
    "criterion = torch.nn.BCELoss()\n",
    "gen_opt = torch.optim.Adam(gen3.parameters(), lr=0.001, betas=(0.5, 0.999))\n",
    "disc_opt = torch.optim.Adam(disc3.parameters(), lr=0.001, betas=(0.5, 0.999))\n"
   ]
  },
  {
   "cell_type": "code",
   "execution_count": 16,
   "id": "26acbc37",
   "metadata": {
    "execution": {
     "iopub.execute_input": "2022-06-07T06:19:46.429619Z",
     "iopub.status.busy": "2022-06-07T06:19:46.429242Z",
     "iopub.status.idle": "2022-06-07T06:20:27.802863Z",
     "shell.execute_reply": "2022-06-07T06:20:27.803181Z"
    },
    "id": "26acbc37",
    "papermill": {
     "duration": 41.390794,
     "end_time": "2022-06-07T06:20:27.803310",
     "exception": false,
     "start_time": "2022-06-07T06:19:46.412516",
     "status": "completed"
    },
    "tags": []
   },
   "outputs": [
    {
     "data": {
      "image/png": "[encoded data removed]",
      "text/plain": [
       "<Figure size 432x288 with 1 Axes>"
      ]
     },
     "metadata": {
      "needs_background": "light"
     },
     "output_type": "display_data"
    },
    {
     "data": {
      "image/png": "[encoded data removed]",
      "text/plain": [
       "<Figure size 432x288 with 1 Axes>"
      ]
     },
     "metadata": {
      "needs_background": "light"
     },
     "output_type": "display_data"
    }
   ],
   "source": [
    "ABC_train_test2.training_GAN_skip_connection(disc3,gen3,disc_opt,gen_opt,train_data,batch_size,n_epochs,criterion,prior_model,variance,bias,device)"
   ]
  },
  {
   "cell_type": "code",
   "execution_count": 17,
   "id": "c5e0717b",
   "metadata": {
    "execution": {
     "iopub.execute_input": "2022-06-07T06:20:27.837153Z",
     "iopub.status.busy": "2022-06-07T06:20:27.836644Z",
     "iopub.status.idle": "2022-06-07T06:20:28.156536Z",
     "shell.execute_reply": "2022-06-07T06:20:28.156970Z"
    },
    "id": "c5e0717b",
    "papermill": {
     "duration": 0.338238,
     "end_time": "2022-06-07T06:20:28.157097",
     "exception": false,
     "start_time": "2022-06-07T06:20:27.818859",
     "status": "completed"
    },
    "tags": []
   },
   "outputs": [
    {
     "data": {
      "application/scrapbook.scrap.json+json": {
       "data": 0.038821944079399845,
       "encoder": "json",
       "name": "ABC-GAN Model 3 MSE",
       "version": 1
      }
     },
     "metadata": {
      "scrapbook": {
       "data": true,
       "display": false,
       "name": "ABC-GAN Model 3 MSE"
      }
     },
     "output_type": "display_data"
    },
    {
     "data": {
      "application/scrapbook.scrap.json+json": {
       "data": 0.14806183424219488,
       "encoder": "json",
       "name": "ABC-GAN Model 3 MAE",
       "version": 1
      }
     },
     "metadata": {
      "scrapbook": {
       "data": true,
       "display": false,
       "name": "ABC-GAN Model 3 MAE"
      }
     },
     "output_type": "display_data"
    },
    {
     "data": {
      "application/scrapbook.scrap.json+json": {
       "data": 2.961236684843898,
       "encoder": "json",
       "name": "ABC-GAN Model 3 Manhattan Distance",
       "version": 1
      }
     },
     "metadata": {
      "scrapbook": {
       "data": true,
       "display": false,
       "name": "ABC-GAN Model 3 Manhattan Distance"
      }
     },
     "output_type": "display_data"
    },
    {
     "data": {
      "application/scrapbook.scrap.json+json": {
       "data": 0.8789363382375244,
       "encoder": "json",
       "name": "ABC-GAN Model 3 Euclidean distance",
       "version": 1
      }
     },
     "metadata": {
      "scrapbook": {
       "data": true,
       "display": false,
       "name": "ABC-GAN Model 3 Euclidean distance"
      }
     },
     "output_type": "display_data"
    },
    {
     "data": {
      "application/scrapbook.scrap.json+json": {
       "data": [
        [
         0.0367704362033799,
         0.043917990064269906,
         0.04591033965055832,
         0.03788546043154334,
         0.04523282347986204,
         0.035061842721948955,
         0.048424124708739955,
         0.04298041691131928,
         0.03249311747004496,
         0.05376275919230007,
         0.03475211964957251,
         0.0318411960526615,
         0.039662897502576976,
         0.039286590743389124,
         0.03388129862097131,
         0.0383290668339909,
         0.04154036255871561,
         0.04353459239737162,
         0.04813642349635096,
         0.041222685420924124,
         0.04929355778350486,
         0.029939522272212325,
         0.03518700543235665,
         0.033551177215796035,
         0.03024553827493861,
         0.03616089090921162,
         0.040696484253504896,
         0.02877302967588522,
         0.04179007230346028,
         0.04844583878959442,
         0.0446995454204668,
         0.0362831809513555,
         0.04544542039182155,
         0.043953323894802464,
         0.04195200410015337,
         0.04644292886381681,
         0.03892327712451828,
         0.04115708072320592,
         0.04113740158035721,
         0.04049563959355112,
         0.043028448199309566,
         0.03382223308903681,
         0.036825868573697476,
         0.04128751067693585,
         0.039819109354087404,
         0.03387629692618207,
         0.04376411285059728,
         0.04547800883219032,
         0.03799471356748393,
         0.03887586233881448,
         0.03959654068224677,
         0.030984784642744824,
         0.03724538646439013,
         0.036456489067252,
         0.03676137265504637,
         0.04074246111966162,
         0.03563163702223414,
         0.04966338009126729,
         0.04019116063864022,
         0.035329809086981814,
         0.03514336943788904,
         0.03512397323259118,
         0.04590065528978288,
         0.03910576433432224,
         0.03550214160091543,
         0.03653241429725533,
         0.03717102666722727,
         0.03551429731083383,
         0.03466083124173114,
         0.041525771837332005,
         0.031843700558129004,
         0.03493228478485054,
         0.033302434615517615,
         0.03879056344678554,
         0.038424070031937665,
         0.02957823600412656,
         0.03855954450117662,
         0.036638805693274865,
         0.04369255328247633,
         0.03890614064135981,
         0.03376927106628487,
         0.03212675200787222,
         0.03733657718167812,
         0.0361015632603253,
         0.04999647916372522,
         0.048190545410836415,
         0.02794752650010742,
         0.04699936671073248,
         0.03320183953560872,
         0.03390692829713991,
         0.03233990912145387,
         0.03085797982008893,
         0.03714762112052196,
         0.051326192764575986,
         0.034696153313415454,
         0.03310074177923404,
         0.04179234865543548,
         0.036501517028705,
         0.03224241892147445,
         0.045189447927448244
        ],
        [
         0.13309100456535816,
         0.16362744010984898,
         0.1681077565997839,
         0.15194578804075717,
         0.16066536344587803,
         0.1434168454259634,
         0.1731770645827055,
         0.1541412003338337,
         0.1284803230315447,
         0.1822591584175825,
         0.13906691037118435,
         0.11620023809373378,
         0.15206960774958134,
         0.15064916722476482,
         0.14360648058354855,
         0.15022063441574574,
         0.14980730079114438,
         0.167131981626153,
         0.1671603076159954,
         0.15505928136408328,
         0.17534324415028096,
         0.12310973815619945,
         0.12870688140392303,
         0.13706638254225254,
         0.13863686583936213,
         0.13900908790528774,
         0.14582565911114215,
         0.11827363632619381,
         0.1550922781229019,
         0.17199865244328977,
         0.16768443025648594,
         0.1468795131891966,
         0.15739256478846073,
         0.16408380195498468,
         0.16088282726705075,
         0.16905720569193364,
         0.14723906852304935,
         0.15522429682314395,
         0.1515433382242918,
         0.1565551497042179,
         0.15754231698811055,
         0.1379279512912035,
         0.13862679414451123,
         0.15788671486079692,
         0.1508824687451124,
         0.13947184942662716,
         0.15614291541278363,
         0.16104657240211964,
         0.14705520011484624,
         0.1454203974455595,
         0.15346743278205394,
         0.1320383746176958,
         0.14849610440433025,
         0.14845289401710032,
         0.1504443846642971,
         0.1585047598928213,
         0.14750712178647518,
         0.17316336818039418,
         0.15672377310693264,
         0.14269873760640622,
         0.14510595388710498,
         0.14549130387604237,
         0.16040765382349492,
         0.15868288837373257,
         0.14148931242525578,
         0.14445930682122707,
         0.13417275287210942,
         0.13556699268519878,
         0.14404899068176746,
         0.14969926439225673,
         0.1215608898550272,
         0.1417026575654745,
         0.11853841207921505,
         0.14460919462144375,
         0.1469409752637148,
         0.12664635628461837,
         0.15573759488761424,
         0.14296995364129544,
         0.16471513472497462,
         0.14097249917685986,
         0.13530525155365467,
         0.13984697498381138,
         0.15020855106413364,
         0.13096323423087597,
         0.17800923027098178,
         0.16964237727224826,
         0.11885521449148655,
         0.1607371274381876,
         0.1261254481971264,
         0.140099810436368,
         0.13006613813340664,
         0.1306459467858076,
         0.13668404929339886,
         0.17621054835617542,
         0.13492861725389957,
         0.13614241369068622,
         0.16017591170966625,
         0.1464884217828512,
         0.12683405466377734,
         0.15170740596950055
        ],
        [
         2.6618200913071632,
         3.2725488021969795,
         3.362155131995678,
         3.0389157608151436,
         3.2133072689175606,
         2.868336908519268,
         3.46354129165411,
         3.082824006676674,
         2.5696064606308937,
         3.6451831683516502,
         2.781338207423687,
         2.3240047618746758,
         3.0413921549916267,
         3.0129833444952965,
         2.872129611670971,
         3.0044126883149147,
         2.9961460158228874,
         3.34263963252306,
         3.343206152319908,
         3.101185627281666,
         3.506864883005619,
         2.462194763123989,
         2.5741376280784607,
         2.741327650845051,
         2.772737316787243,
         2.780181758105755,
         2.916513182222843,
         2.365472726523876,
         3.1018455624580383,
         3.439973048865795,
         3.353688605129719,
         2.9375902637839317,
         3.1478512957692146,
         3.2816760390996933,
         3.217656545341015,
         3.3811441138386726,
         2.944781370460987,
         3.104485936462879,
         3.030866764485836,
         3.131102994084358,
         3.150846339762211,
         2.75855902582407,
         2.7725358828902245,
         3.1577342972159386,
         3.0176493749022484,
         2.789436988532543,
         3.1228583082556725,
         3.2209314480423927,
         2.9411040022969246,
         2.90840794891119,
         3.069348655641079,
         2.640767492353916,
         2.969922088086605,
         2.9690578803420067,
         3.008887693285942,
         3.1700951978564262,
         2.9501424357295036,
         3.4632673636078835,
         3.134475462138653,
         2.8539747521281242,
         2.9021190777420998,
         2.9098260775208473,
         3.2081530764698982,
         3.1736577674746513,
         2.8297862485051155,
         2.8891861364245415,
         2.6834550574421883,
         2.7113398537039757,
         2.8809798136353493,
         2.9939852878451347,
         2.431217797100544,
         2.83405315130949,
         2.370768241584301,
         2.892183892428875,
         2.938819505274296,
         2.5329271256923676,
         3.114751897752285,
         2.8593990728259087,
         3.2943026944994926,
         2.819449983537197,
         2.7061050310730934,
         2.7969394996762276,
         3.004171021282673,
         2.6192646846175194,
         3.5601846054196358,
         3.3928475454449654,
         2.377104289829731,
         3.214742548763752,
         2.5225089639425278,
         2.8019962087273598,
         2.601322762668133,
         2.612918935716152,
         2.733680985867977,
         3.5242109671235085,
         2.6985723450779915,
         2.7228482738137245,
         3.203518234193325,
         2.9297684356570244,
         2.536681093275547,
         3.034148119390011
        ],
        [
         0.8575597495612757,
         0.9372085153717918,
         0.958231074955914,
         0.8704649381973215,
         0.9511343068133127,
         0.8373988622150015,
         0.9841150817738742,
         0.9271506556252794,
         0.8061404030321885,
         1.0369451209422809,
         0.8336920252655954,
         0.7980124817653105,
         0.8906502961609228,
         0.8864151481488697,
         0.8231804008960771,
         0.8755463075587824,
         0.9114862868822067,
         0.9331087010351111,
         0.9811872756650584,
         0.9079943328118752,
         0.9929104469538516,
         0.7738155112455724,
         0.8388921913137188,
         0.8191602677839793,
         0.7777600950799496,
         0.8504221411653347,
         0.9021805168978645,
         0.7585911899816029,
         0.914221770725903,
         0.9843357027924409,
         0.9455109245319887,
         0.851858919673387,
         0.9533668799766598,
         0.937585450983562,
         0.9159913110958354,
         0.963773094289489,
         0.8823069434671618,
         0.9072715219073717,
         0.9070545913048146,
         0.8999515497353301,
         0.9276685636509363,
         0.8224625595008785,
         0.8582059027261171,
         0.9087079913474498,
         0.8924024804323148,
         0.8231196380378987,
         0.9355652072474402,
         0.9537086434775593,
         0.871719147059234,
         0.8817693841227929,
         0.8899049464099722,
         0.7872075284541532,
         0.8630803724380497,
         0.8538909657239852,
         0.8574540530552803,
         0.9026899924078213,
         0.8441757757983125,
         0.9966281161121965,
         0.8965618845193032,
         0.8405927561784221,
         0.8383718678234503,
         0.8381404802608113,
         0.9581300046421976,
         0.8843728210921256,
         0.8426403930611851,
         0.85477967099429,
         0.8622183791502854,
         0.8427846380996017,
         0.8325963156504014,
         0.9113261966752849,
         0.7980438654375962,
         0.8358502830633072,
         0.8161180627276622,
         0.8808014923555199,
         0.8766307093860866,
         0.7691324463852317,
         0.8781747491379677,
         0.8560234306755261,
         0.9348000137192589,
         0.8821126984842674,
         0.8218183627333338,
         0.8015828342457467,
         0.8641362992222711,
         0.8497242289157736,
         0.999964791017416,
         0.9817387168777283,
         0.7476299418844515,
         0.9695294395812072,
         0.8148845259987297,
         0.8234916914837686,
         0.8042376405199382,
         0.7855950587941466,
         0.861946879111723,
         1.0131751355474135,
         0.8330204476891964,
         0.8136429410894442,
         0.914246669727984,
         0.854418129825263,
         0.8030245191957024,
         0.9506781571851564
        ]
       ],
       "encoder": "json",
       "name": "ABC_GAN_3 Metrics",
       "version": 1
      }
     },
     "metadata": {
      "scrapbook": {
       "data": true,
       "display": false,
       "name": "ABC_GAN_3 Metrics"
      }
     },
     "output_type": "display_data"
    },
    {
     "name": "stdout",
     "output_type": "stream",
     "text": [
      "MSE\n",
      "0.038821944079399845\n"
     ]
    }
   ],
   "source": [
    "ABC_GAN3_metrics=ABC_train_test2.test_generator(gen3,test_data,prior_model,variance,bias,\"3\",device)\n",
    "sb.glue(\"ABC_GAN_3 Metrics\",ABC_GAN3_metrics)\n",
    "\n",
    "print(\"MSE\")\n",
    "print(mean(ABC_GAN3_metrics[0]))"
   ]
  },
  {
   "cell_type": "code",
   "execution_count": 18,
   "id": "c8e46b48",
   "metadata": {
    "execution": {
     "iopub.execute_input": "2022-06-07T06:20:28.196058Z",
     "iopub.status.busy": "2022-06-07T06:20:28.195688Z",
     "iopub.status.idle": "2022-06-07T06:20:28.484525Z",
     "shell.execute_reply": "2022-06-07T06:20:28.484750Z"
    },
    "id": "c8e46b48",
    "papermill": {
     "duration": 0.309181,
     "end_time": "2022-06-07T06:20:28.484871",
     "exception": false,
     "start_time": "2022-06-07T06:20:28.175690",
     "status": "completed"
    },
    "tags": []
   },
   "outputs": [
    {
     "data": {
      "image/png": "[encoded data removed]",
      "text/plain": [
       "<Figure size 432x288 with 1 Axes>"
      ]
     },
     "metadata": {
      "needs_background": "light"
     },
     "output_type": "display_data"
    },
    {
     "data": {
      "image/png": "[encoded data removed]",
      "text/plain": [
       "<Figure size 432x288 with 1 Axes>"
      ]
     },
     "metadata": {
      "needs_background": "light"
     },
     "output_type": "display_data"
    },
    {
     "data": {
      "image/png": "[encoded data removed]",
      "text/plain": [
       "<Figure size 432x288 with 1 Axes>"
      ]
     },
     "metadata": {
      "needs_background": "light"
     },
     "output_type": "display_data"
    },
    {
     "data": {
      "image/png": "[encoded data removed]",
      "text/plain": [
       "<Figure size 432x288 with 1 Axes>"
      ]
     },
     "metadata": {
      "needs_background": "light"
     },
     "output_type": "display_data"
    }
   ],
   "source": [
    "sanityChecks.discProbVsError(train_data,disc3,device)\n",
    "sanityChecks.discProbVsError(test_data,disc3,device)"
   ]
  },
  {
   "cell_type": "markdown",
   "id": "a5bd74c3",
   "metadata": {
    "id": "a5bd74c3",
    "papermill": {
     "duration": 0.019419,
     "end_time": "2022-06-07T06:20:28.523842",
     "exception": false,
     "start_time": "2022-06-07T06:20:28.504423",
     "status": "completed"
    },
    "tags": []
   },
   "source": [
    "## Skip Connection Model Analysis - ABC-GAN "
   ]
  },
  {
   "cell_type": "markdown",
   "id": "5744a8bf",
   "metadata": {
    "id": "5744a8bf",
    "papermill": {
     "duration": 0.018999,
     "end_time": "2022-06-07T06:20:28.562079",
     "exception": false,
     "start_time": "2022-06-07T06:20:28.543080",
     "status": "completed"
    },
    "tags": []
   },
   "source": [
    "### Weight Analysis \n",
    "\n",
    "Study the weights of the skip connection layer\n",
    "\n",
    "Equation of the skip connection is \n",
    "\n",
    "$output = y_{gan} * w + y_{abc} * (1-w)$"
   ]
  },
  {
   "cell_type": "code",
   "execution_count": 19,
   "id": "52c31dea",
   "metadata": {
    "execution": {
     "iopub.execute_input": "2022-06-07T06:20:28.602945Z",
     "iopub.status.busy": "2022-06-07T06:20:28.602565Z",
     "iopub.status.idle": "2022-06-07T06:20:28.606975Z",
     "shell.execute_reply": "2022-06-07T06:20:28.607218Z"
    },
    "id": "52c31dea",
    "papermill": {
     "duration": 0.026209,
     "end_time": "2022-06-07T06:20:28.607337",
     "exception": false,
     "start_time": "2022-06-07T06:20:28.581128",
     "status": "completed"
    },
    "tags": []
   },
   "outputs": [
    {
     "name": "stdout",
     "output_type": "stream",
     "text": [
      "Weight of the node at skip connection\n",
      "Parameter containing:\n",
      "tensor([[0.1560]], requires_grad=True)\n"
     ]
    },
    {
     "data": {
      "application/scrapbook.scrap.json+json": {
       "data": 0.15604181587696075,
       "encoder": "json",
       "name": "Skip Connection Weight",
       "version": 1
      }
     },
     "metadata": {
      "scrapbook": {
       "data": true,
       "display": false,
       "name": "Skip Connection Weight"
      }
     },
     "output_type": "display_data"
    }
   ],
   "source": [
    "print(\"Weight of the node at skip connection\")\n",
    "for name,param in gen3.named_parameters():\n",
    "    if(name == \"skipNode.weight\"):\n",
    "        print(param)\n",
    "        sb.glue(\"Skip Connection Weight\",param.item())"
   ]
  }
 ],
 "metadata": {
  "colab": {
   "collapsed_sections": [],
   "name": "ABC_GAN_Model-Catboost_Pre-gen.ipynb",
   "provenance": []
  },
  "interpreter": {
   "hash": "31f2aee4e71d21fbe5cf8b01ff0e069b9275f58929596ceb00d14d90e3e16cd6"
  },
  "kernelspec": {
   "display_name": "Python 3 (ipykernel)",
   "language": "python",
   "name": "python3"
  },
  "language_info": {
   "codemirror_mode": {
    "name": "ipython",
    "version": 3
   },
   "file_extension": ".py",
   "mimetype": "text/x-python",
   "name": "python",
   "nbconvert_exporter": "python",
   "pygments_lexer": "ipython3",
   "version": "3.8.11"
  },
  "papermill": {
   "default_parameters": {},
   "duration": 62.62307,
   "end_time": "2022-06-07T06:20:28.936059",
   "environment_variables": {},
   "exception": null,
   "input_path": "ABC_GAN-Catboost.ipynb",
   "output_path": "./ABC_GAN_Catboost/ABC-GAN_output_3_6.ipynb",
   "parameters": {
    "bias": 0.01,
    "variance": 1
   },
   "start_time": "2022-06-07T06:19:26.312989",
   "version": "2.3.3"
  }
 },
 "nbformat": 4,
 "nbformat_minor": 5
}