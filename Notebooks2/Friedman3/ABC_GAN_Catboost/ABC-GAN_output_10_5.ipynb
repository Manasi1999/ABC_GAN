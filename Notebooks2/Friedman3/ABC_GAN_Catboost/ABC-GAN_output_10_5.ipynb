{
 "cells": [
  {
   "cell_type": "markdown",
   "id": "622780e6",
   "metadata": {
    "id": "622780e6",
    "papermill": {
     "duration": 0.03524,
     "end_time": "2022-06-07T09:47:56.561483",
     "exception": false,
     "start_time": "2022-06-07T09:47:56.526243",
     "status": "completed"
    },
    "tags": []
   },
   "source": [
    "## Import Libraries "
   ]
  },
  {
   "cell_type": "code",
   "execution_count": 1,
   "id": "a62397e3",
   "metadata": {
    "execution": {
     "iopub.execute_input": "2022-06-07T09:47:56.596785Z",
     "iopub.status.busy": "2022-06-07T09:47:56.596276Z",
     "iopub.status.idle": "2022-06-07T09:47:56.598543Z",
     "shell.execute_reply": "2022-06-07T09:47:56.598857Z"
    },
    "id": "a62397e3",
    "papermill": {
     "duration": 0.021743,
     "end_time": "2022-06-07T09:47:56.599069",
     "exception": false,
     "start_time": "2022-06-07T09:47:56.577326",
     "status": "completed"
    },
    "tags": []
   },
   "outputs": [],
   "source": [
    "import warnings\n",
    "import sys\n",
    "sys.path.insert(0, '../../src')\n",
    "warnings.filterwarnings('ignore')"
   ]
  },
  {
   "cell_type": "code",
   "execution_count": 2,
   "id": "d6a4e155",
   "metadata": {
    "execution": {
     "iopub.execute_input": "2022-06-07T09:47:56.619412Z",
     "iopub.status.busy": "2022-06-07T09:47:56.618961Z",
     "iopub.status.idle": "2022-06-07T09:47:58.419645Z",
     "shell.execute_reply": "2022-06-07T09:47:58.419899Z"
    },
    "id": "d6a4e155",
    "papermill": {
     "duration": 1.811239,
     "end_time": "2022-06-07T09:47:58.420022",
     "exception": false,
     "start_time": "2022-06-07T09:47:56.608783",
     "status": "completed"
    },
    "tags": []
   },
   "outputs": [],
   "source": [
    "import ABC_train_test2\n",
    "import friedman1Dataset\n",
    "import network\n",
    "import dataset\n",
    "import sanityChecks\n",
    "import torch \n",
    "import scrapbook as sb\n",
    "from statistics import mean \n",
    "import catboost as ctb \n",
    "from sklearn.model_selection import train_test_split\n",
    "from sklearn.metrics import mean_squared_error,mean_absolute_error\n",
    "import numpy as np"
   ]
  },
  {
   "cell_type": "markdown",
   "id": "2fa5b0f7",
   "metadata": {
    "id": "2fa5b0f7",
    "papermill": {
     "duration": 0.006643,
     "end_time": "2022-06-07T09:47:58.433699",
     "exception": false,
     "start_time": "2022-06-07T09:47:58.427056",
     "status": "completed"
    },
    "tags": []
   },
   "source": [
    "## Parameters "
   ]
  },
  {
   "cell_type": "code",
   "execution_count": 3,
   "id": "783186fb",
   "metadata": {
    "execution": {
     "iopub.execute_input": "2022-06-07T09:47:58.449377Z",
     "iopub.status.busy": "2022-06-07T09:47:58.448924Z",
     "iopub.status.idle": "2022-06-07T09:47:58.450236Z",
     "shell.execute_reply": "2022-06-07T09:47:58.450481Z"
    },
    "id": "783186fb",
    "papermill": {
     "duration": 0.010207,
     "end_time": "2022-06-07T09:47:58.450604",
     "exception": false,
     "start_time": "2022-06-07T09:47:58.440397",
     "status": "completed"
    },
    "tags": [
     "parameters"
    ]
   },
   "outputs": [],
   "source": [
    "variance = 1\n",
    "bias = 1 "
   ]
  },
  {
   "cell_type": "code",
   "execution_count": 4,
   "id": "ec2d5e2e",
   "metadata": {
    "execution": {
     "iopub.execute_input": "2022-06-07T09:47:58.466021Z",
     "iopub.status.busy": "2022-06-07T09:47:58.465652Z",
     "iopub.status.idle": "2022-06-07T09:47:58.466906Z",
     "shell.execute_reply": "2022-06-07T09:47:58.467150Z"
    },
    "papermill": {
     "duration": 0.00983,
     "end_time": "2022-06-07T09:47:58.467253",
     "exception": false,
     "start_time": "2022-06-07T09:47:58.457423",
     "status": "completed"
    },
    "tags": [
     "injected-parameters"
    ]
   },
   "outputs": [],
   "source": [
    "# Parameters\n",
    "variance = 0.01\n",
    "bias = 0.1\n"
   ]
  },
  {
   "cell_type": "markdown",
   "id": "391cdbfd",
   "metadata": {
    "id": "391cdbfd",
    "papermill": {
     "duration": 0.006729,
     "end_time": "2022-06-07T09:47:58.480790",
     "exception": false,
     "start_time": "2022-06-07T09:47:58.474061",
     "status": "completed"
    },
    "tags": []
   },
   "source": [
    "## Dataset \n"
   ]
  },
  {
   "cell_type": "code",
   "execution_count": 5,
   "id": "5b51f161",
   "metadata": {
    "execution": {
     "iopub.execute_input": "2022-06-07T09:47:58.496255Z",
     "iopub.status.busy": "2022-06-07T09:47:58.495894Z",
     "iopub.status.idle": "2022-06-07T09:47:58.497144Z",
     "shell.execute_reply": "2022-06-07T09:47:58.497380Z"
    },
    "id": "5b51f161",
    "papermill": {
     "duration": 0.009904,
     "end_time": "2022-06-07T09:47:58.497485",
     "exception": false,
     "start_time": "2022-06-07T09:47:58.487581",
     "status": "completed"
    },
    "tags": []
   },
   "outputs": [],
   "source": [
    "#Parameters \n",
    "n_features = 5\n",
    "n_samples= 100\n",
    "n_target = 1 "
   ]
  },
  {
   "cell_type": "code",
   "execution_count": 6,
   "id": "5d6eced4",
   "metadata": {
    "execution": {
     "iopub.execute_input": "2022-06-07T09:47:58.514154Z",
     "iopub.status.busy": "2022-06-07T09:47:58.512945Z",
     "iopub.status.idle": "2022-06-07T09:47:58.518915Z",
     "shell.execute_reply": "2022-06-07T09:47:58.519198Z"
    },
    "id": "5d6eced4",
    "papermill": {
     "duration": 0.014889,
     "end_time": "2022-06-07T09:47:58.519307",
     "exception": false,
     "start_time": "2022-06-07T09:47:58.504418",
     "status": "completed"
    },
    "tags": []
   },
   "outputs": [
    {
     "name": "stdout",
     "output_type": "stream",
     "text": [
      "         X0        X1        X2        X3        X4         Y\n",
      "0  0.975589  0.631313  0.421835  0.316116 -0.677404  0.705642\n",
      "1  1.239110 -0.948303 -0.463146  1.462269 -0.260039  0.674245\n",
      "2 -1.292684  1.358506  1.012816 -1.287031  0.423355 -1.081797\n",
      "3  0.426945  0.601200 -0.030991  1.616061  1.426738  2.053942\n",
      "4  0.372113  1.342377  0.733011  0.847997 -0.014102  1.337994\n"
     ]
    }
   ],
   "source": [
    "X,Y = friedman1Dataset.friedman1_data(n_samples,n_features)"
   ]
  },
  {
   "cell_type": "code",
   "execution_count": 7,
   "id": "fe007438",
   "metadata": {
    "execution": {
     "iopub.execute_input": "2022-06-07T09:47:58.535884Z",
     "iopub.status.busy": "2022-06-07T09:47:58.535514Z",
     "iopub.status.idle": "2022-06-07T09:47:58.537189Z",
     "shell.execute_reply": "2022-06-07T09:47:58.536932Z"
    },
    "id": "fe007438",
    "papermill": {
     "duration": 0.010845,
     "end_time": "2022-06-07T09:47:58.537284",
     "exception": false,
     "start_time": "2022-06-07T09:47:58.526439",
     "status": "completed"
    },
    "tags": []
   },
   "outputs": [],
   "source": [
    "#Train test split for dataset \n",
    "X_train,X_test,Y_train,Y_test = train_test_split(X,Y,test_size = 0.2)\n",
    "train_data = dataset.CustomDataset(X_train,Y_train)\n",
    "test_data = dataset.CustomDataset(X_test,Y_test)\n"
   ]
  },
  {
   "cell_type": "markdown",
   "id": "a9a1af34",
   "metadata": {
    "id": "a9a1af34",
    "papermill": {
     "duration": 0.007101,
     "end_time": "2022-06-07T09:47:58.551497",
     "exception": false,
     "start_time": "2022-06-07T09:47:58.544396",
     "status": "completed"
    },
    "tags": []
   },
   "source": [
    "## Training Parameters "
   ]
  },
  {
   "cell_type": "code",
   "execution_count": 8,
   "id": "952b7fc8",
   "metadata": {
    "execution": {
     "iopub.execute_input": "2022-06-07T09:47:58.567850Z",
     "iopub.status.busy": "2022-06-07T09:47:58.567475Z",
     "iopub.status.idle": "2022-06-07T09:47:58.568629Z",
     "shell.execute_reply": "2022-06-07T09:47:58.568868Z"
    },
    "id": "952b7fc8",
    "papermill": {
     "duration": 0.01043,
     "end_time": "2022-06-07T09:47:58.568974",
     "exception": false,
     "start_time": "2022-06-07T09:47:58.558544",
     "status": "completed"
    },
    "tags": []
   },
   "outputs": [],
   "source": [
    "batch_size = 32\n",
    "n_epochs = 1000\n",
    "#Select the device \n",
    "device = torch.device('cuda' if torch.cuda.is_available() else 'cpu')"
   ]
  },
  {
   "cell_type": "markdown",
   "id": "a95e1600",
   "metadata": {
    "id": "a95e1600",
    "papermill": {
     "duration": 0.007024,
     "end_time": "2022-06-07T09:47:58.583155",
     "exception": false,
     "start_time": "2022-06-07T09:47:58.576131",
     "status": "completed"
    },
    "tags": []
   },
   "source": [
    "# ABC Pre-generator Model \n",
    "\n",
    "1. The catboost model is used as a pre-generator model for the ABC-GAN. \n",
    "2. The model is first trained on the entire dataset \n",
    "3. It generats X,Y pairs and we add some Gaussian noise with mean 0 and variance 1 to it which is then feed as input to the generator.\n"
   ]
  },
  {
   "cell_type": "code",
   "execution_count": 9,
   "id": "ff8ce7bd",
   "metadata": {
    "execution": {
     "iopub.execute_input": "2022-06-07T09:47:58.600795Z",
     "iopub.status.busy": "2022-06-07T09:47:58.600331Z",
     "iopub.status.idle": "2022-06-07T09:47:59.263290Z",
     "shell.execute_reply": "2022-06-07T09:47:59.263542Z"
    },
    "id": "ff8ce7bd",
    "papermill": {
     "duration": 0.673367,
     "end_time": "2022-06-07T09:47:59.263668",
     "exception": false,
     "start_time": "2022-06-07T09:47:58.590301",
     "status": "completed"
    },
    "tags": []
   },
   "outputs": [
    {
     "name": "stdout",
     "output_type": "stream",
     "text": [
      "Learning rate set to 0.024897\n",
      "0:\tlearn: 1.0071196\ttotal: 56.7ms\tremaining: 56.6s\n",
      "1:\tlearn: 0.9987241\ttotal: 57.3ms\tremaining: 28.6s\n",
      "2:\tlearn: 0.9879233\ttotal: 57.9ms\tremaining: 19.3s\n",
      "3:\tlearn: 0.9765124\ttotal: 58.5ms\tremaining: 14.6s\n",
      "4:\tlearn: 0.9687207\ttotal: 58.9ms\tremaining: 11.7s\n",
      "5:\tlearn: 0.9604061\ttotal: 59.4ms\tremaining: 9.85s\n",
      "6:\tlearn: 0.9485879\ttotal: 60ms\tremaining: 8.51s\n",
      "7:\tlearn: 0.9397680\ttotal: 60.6ms\tremaining: 7.51s\n",
      "8:\tlearn: 0.9309726\ttotal: 61ms\tremaining: 6.72s\n",
      "9:\tlearn: 0.9215073\ttotal: 61.5ms\tremaining: 6.09s\n",
      "10:\tlearn: 0.9104744\ttotal: 62.1ms\tremaining: 5.58s\n",
      "11:\tlearn: 0.9011747\ttotal: 62.7ms\tremaining: 5.16s\n",
      "12:\tlearn: 0.8929766\ttotal: 63.3ms\tremaining: 4.81s\n",
      "13:\tlearn: 0.8847191\ttotal: 63.8ms\tremaining: 4.49s\n",
      "14:\tlearn: 0.8774604\ttotal: 64.2ms\tremaining: 4.21s\n",
      "15:\tlearn: 0.8688961\ttotal: 64.7ms\tremaining: 3.98s\n",
      "16:\tlearn: 0.8618280\ttotal: 65.1ms\tremaining: 3.76s\n",
      "17:\tlearn: 0.8546468\ttotal: 65.5ms\tremaining: 3.57s\n",
      "18:\tlearn: 0.8477543\ttotal: 66ms\tremaining: 3.41s\n",
      "19:\tlearn: 0.8393384\ttotal: 66.5ms\tremaining: 3.26s\n",
      "20:\tlearn: 0.8316199\ttotal: 66.9ms\tremaining: 3.12s\n",
      "21:\tlearn: 0.8227993\ttotal: 67.3ms\tremaining: 2.99s\n",
      "22:\tlearn: 0.8141317\ttotal: 67.8ms\tremaining: 2.88s\n",
      "23:\tlearn: 0.8073435\ttotal: 68.2ms\tremaining: 2.77s\n",
      "24:\tlearn: 0.7995610\ttotal: 68.6ms\tremaining: 2.67s\n",
      "25:\tlearn: 0.7912437\ttotal: 69.1ms\tremaining: 2.59s\n",
      "26:\tlearn: 0.7838882\ttotal: 69.5ms\tremaining: 2.5s\n",
      "27:\tlearn: 0.7759099\ttotal: 69.8ms\tremaining: 2.42s\n",
      "28:\tlearn: 0.7694392\ttotal: 70.3ms\tremaining: 2.35s\n",
      "29:\tlearn: 0.7640093\ttotal: 70.7ms\tremaining: 2.29s\n",
      "30:\tlearn: 0.7571596\ttotal: 71.2ms\tremaining: 2.23s\n",
      "31:\tlearn: 0.7486941\ttotal: 71.6ms\tremaining: 2.17s\n",
      "32:\tlearn: 0.7426310\ttotal: 72.2ms\tremaining: 2.11s\n",
      "33:\tlearn: 0.7358652\ttotal: 72.6ms\tremaining: 2.06s\n",
      "34:\tlearn: 0.7293401\ttotal: 73.1ms\tremaining: 2.01s\n",
      "35:\tlearn: 0.7237016\ttotal: 73.5ms\tremaining: 1.97s\n",
      "36:\tlearn: 0.7169120\ttotal: 73.9ms\tremaining: 1.92s\n",
      "37:\tlearn: 0.7095323\ttotal: 74.2ms\tremaining: 1.88s\n",
      "38:\tlearn: 0.7044612\ttotal: 74.6ms\tremaining: 1.84s\n",
      "39:\tlearn: 0.6988353\ttotal: 75.2ms\tremaining: 1.8s\n",
      "40:\tlearn: 0.6924610\ttotal: 75.7ms\tremaining: 1.77s\n",
      "41:\tlearn: 0.6861303\ttotal: 76.1ms\tremaining: 1.74s\n",
      "42:\tlearn: 0.6791596\ttotal: 76.4ms\tremaining: 1.7s\n",
      "43:\tlearn: 0.6724140\ttotal: 76.8ms\tremaining: 1.67s\n",
      "44:\tlearn: 0.6672132\ttotal: 77.3ms\tremaining: 1.64s\n",
      "45:\tlearn: 0.6615678\ttotal: 77.8ms\tremaining: 1.61s\n",
      "46:\tlearn: 0.6569512\ttotal: 78.2ms\tremaining: 1.59s\n",
      "47:\tlearn: 0.6510470\ttotal: 78.6ms\tremaining: 1.56s\n",
      "48:\tlearn: 0.6459283\ttotal: 79ms\tremaining: 1.53s\n",
      "49:\tlearn: 0.6397434\ttotal: 79.4ms\tremaining: 1.51s\n",
      "50:\tlearn: 0.6341644\ttotal: 79.9ms\tremaining: 1.49s\n",
      "51:\tlearn: 0.6284410\ttotal: 80.3ms\tremaining: 1.46s\n",
      "52:\tlearn: 0.6234528\ttotal: 81ms\tremaining: 1.45s\n",
      "53:\tlearn: 0.6179566\ttotal: 81.5ms\tremaining: 1.43s\n",
      "54:\tlearn: 0.6131672\ttotal: 82ms\tremaining: 1.41s\n",
      "55:\tlearn: 0.6083846\ttotal: 82.5ms\tremaining: 1.39s\n",
      "56:\tlearn: 0.6031416\ttotal: 82.9ms\tremaining: 1.37s\n",
      "57:\tlearn: 0.5985860\ttotal: 83.3ms\tremaining: 1.35s\n",
      "58:\tlearn: 0.5929705\ttotal: 83.8ms\tremaining: 1.34s\n",
      "59:\tlearn: 0.5873888\ttotal: 84.5ms\tremaining: 1.32s\n",
      "60:\tlearn: 0.5835034\ttotal: 84.9ms\tremaining: 1.31s\n",
      "61:\tlearn: 0.5792221\ttotal: 85.3ms\tremaining: 1.29s\n",
      "62:\tlearn: 0.5742169\ttotal: 85.8ms\tremaining: 1.27s\n",
      "63:\tlearn: 0.5702924\ttotal: 86.3ms\tremaining: 1.26s\n",
      "64:\tlearn: 0.5654936\ttotal: 86.8ms\tremaining: 1.25s\n",
      "65:\tlearn: 0.5605654\ttotal: 87.3ms\tremaining: 1.24s\n",
      "66:\tlearn: 0.5549804\ttotal: 87.8ms\tremaining: 1.22s\n",
      "67:\tlearn: 0.5495412\ttotal: 88.3ms\tremaining: 1.21s\n",
      "68:\tlearn: 0.5446777\ttotal: 88.7ms\tremaining: 1.2s\n",
      "69:\tlearn: 0.5398592\ttotal: 89.4ms\tremaining: 1.19s\n",
      "70:\tlearn: 0.5356251\ttotal: 89.8ms\tremaining: 1.17s\n",
      "71:\tlearn: 0.5311827\ttotal: 90.4ms\tremaining: 1.16s\n",
      "72:\tlearn: 0.5263750\ttotal: 90.9ms\tremaining: 1.15s\n",
      "73:\tlearn: 0.5228301\ttotal: 91.4ms\tremaining: 1.14s\n",
      "74:\tlearn: 0.5184253\ttotal: 91.9ms\tremaining: 1.13s\n",
      "75:\tlearn: 0.5147358\ttotal: 92.5ms\tremaining: 1.12s\n",
      "76:\tlearn: 0.5107625\ttotal: 93ms\tremaining: 1.11s\n",
      "77:\tlearn: 0.5065813\ttotal: 93.4ms\tremaining: 1.1s\n",
      "78:\tlearn: 0.5033137\ttotal: 93.9ms\tremaining: 1.09s\n",
      "79:\tlearn: 0.4997190\ttotal: 94.4ms\tremaining: 1.08s\n",
      "80:\tlearn: 0.4954954\ttotal: 94.9ms\tremaining: 1.08s\n",
      "81:\tlearn: 0.4913455\ttotal: 95.3ms\tremaining: 1.07s\n",
      "82:\tlearn: 0.4872461\ttotal: 95.8ms\tremaining: 1.06s\n",
      "83:\tlearn: 0.4836648\ttotal: 96.3ms\tremaining: 1.05s\n",
      "84:\tlearn: 0.4794801\ttotal: 96.6ms\tremaining: 1.04s\n",
      "85:\tlearn: 0.4761767\ttotal: 97.2ms\tremaining: 1.03s\n",
      "86:\tlearn: 0.4720587\ttotal: 97.5ms\tremaining: 1.02s\n",
      "87:\tlearn: 0.4679323\ttotal: 98.1ms\tremaining: 1.02s\n",
      "88:\tlearn: 0.4643583\ttotal: 98.6ms\tremaining: 1.01s\n",
      "89:\tlearn: 0.4607341\ttotal: 99.1ms\tremaining: 1s\n",
      "90:\tlearn: 0.4570885\ttotal: 99.5ms\tremaining: 994ms\n",
      "91:\tlearn: 0.4532128\ttotal: 99.9ms\tremaining: 986ms\n",
      "92:\tlearn: 0.4494177\ttotal: 100ms\tremaining: 979ms\n",
      "93:\tlearn: 0.4466027\ttotal: 101ms\tremaining: 973ms\n",
      "94:\tlearn: 0.4431863\ttotal: 101ms\tremaining: 967ms\n",
      "95:\tlearn: 0.4394564\ttotal: 102ms\tremaining: 959ms\n",
      "96:\tlearn: 0.4364327\ttotal: 102ms\tremaining: 951ms\n",
      "97:\tlearn: 0.4329658\ttotal: 103ms\tremaining: 944ms\n",
      "98:\tlearn: 0.4297533\ttotal: 103ms\tremaining: 937ms\n",
      "99:\tlearn: 0.4262694\ttotal: 103ms\tremaining: 931ms\n",
      "100:\tlearn: 0.4231647\ttotal: 104ms\tremaining: 925ms\n",
      "101:\tlearn: 0.4201420\ttotal: 104ms\tremaining: 919ms\n",
      "102:\tlearn: 0.4168509\ttotal: 105ms\tremaining: 914ms\n",
      "103:\tlearn: 0.4144843\ttotal: 105ms\tremaining: 908ms\n",
      "104:\tlearn: 0.4116282\ttotal: 106ms\tremaining: 903ms\n",
      "105:\tlearn: 0.4091129\ttotal: 106ms\tremaining: 898ms\n",
      "106:\tlearn: 0.4058560\ttotal: 107ms\tremaining: 891ms\n",
      "107:\tlearn: 0.4026474\ttotal: 107ms\tremaining: 886ms\n",
      "108:\tlearn: 0.3998378\ttotal: 108ms\tremaining: 882ms\n",
      "109:\tlearn: 0.3964993\ttotal: 108ms\tremaining: 877ms\n"
     ]
    },
    {
     "name": "stdout",
     "output_type": "stream",
     "text": [
      "110:\tlearn: 0.3938461\ttotal: 109ms\tremaining: 875ms\n",
      "111:\tlearn: 0.3905499\ttotal: 110ms\tremaining: 871ms\n",
      "112:\tlearn: 0.3877958\ttotal: 110ms\tremaining: 866ms\n",
      "113:\tlearn: 0.3847017\ttotal: 111ms\tremaining: 862ms\n",
      "114:\tlearn: 0.3815945\ttotal: 111ms\tremaining: 857ms\n",
      "115:\tlearn: 0.3791805\ttotal: 112ms\tremaining: 852ms\n",
      "116:\tlearn: 0.3768845\ttotal: 112ms\tremaining: 849ms\n",
      "117:\tlearn: 0.3746625\ttotal: 113ms\tremaining: 844ms\n",
      "118:\tlearn: 0.3720284\ttotal: 113ms\tremaining: 840ms\n",
      "119:\tlearn: 0.3690285\ttotal: 114ms\tremaining: 836ms\n",
      "120:\tlearn: 0.3664452\ttotal: 114ms\tremaining: 831ms\n",
      "121:\tlearn: 0.3639767\ttotal: 115ms\tremaining: 827ms\n",
      "122:\tlearn: 0.3609269\ttotal: 115ms\tremaining: 823ms\n",
      "123:\tlearn: 0.3580618\ttotal: 116ms\tremaining: 819ms\n",
      "124:\tlearn: 0.3555675\ttotal: 116ms\tremaining: 815ms\n",
      "125:\tlearn: 0.3529534\ttotal: 117ms\tremaining: 811ms\n",
      "126:\tlearn: 0.3506984\ttotal: 117ms\tremaining: 807ms\n",
      "127:\tlearn: 0.3478624\ttotal: 118ms\tremaining: 803ms\n",
      "128:\tlearn: 0.3450168\ttotal: 118ms\tremaining: 799ms\n",
      "129:\tlearn: 0.3420821\ttotal: 119ms\tremaining: 795ms\n",
      "130:\tlearn: 0.3398499\ttotal: 119ms\tremaining: 792ms\n",
      "131:\tlearn: 0.3376860\ttotal: 120ms\tremaining: 788ms\n",
      "132:\tlearn: 0.3353927\ttotal: 120ms\tremaining: 784ms\n",
      "133:\tlearn: 0.3333358\ttotal: 121ms\tremaining: 780ms\n",
      "134:\tlearn: 0.3313660\ttotal: 121ms\tremaining: 776ms\n",
      "135:\tlearn: 0.3290512\ttotal: 122ms\tremaining: 773ms\n",
      "136:\tlearn: 0.3265120\ttotal: 122ms\tremaining: 769ms\n",
      "137:\tlearn: 0.3238816\ttotal: 123ms\tremaining: 766ms\n",
      "138:\tlearn: 0.3216863\ttotal: 123ms\tremaining: 762ms\n",
      "139:\tlearn: 0.3195739\ttotal: 124ms\tremaining: 759ms\n",
      "140:\tlearn: 0.3170870\ttotal: 124ms\tremaining: 756ms\n",
      "141:\tlearn: 0.3144739\ttotal: 125ms\tremaining: 752ms\n",
      "142:\tlearn: 0.3120496\ttotal: 125ms\tremaining: 750ms\n",
      "143:\tlearn: 0.3099908\ttotal: 126ms\tremaining: 747ms\n",
      "144:\tlearn: 0.3078138\ttotal: 126ms\tremaining: 743ms\n",
      "145:\tlearn: 0.3055660\ttotal: 127ms\tremaining: 740ms\n",
      "146:\tlearn: 0.3033289\ttotal: 127ms\tremaining: 737ms\n",
      "147:\tlearn: 0.3011386\ttotal: 127ms\tremaining: 734ms\n",
      "148:\tlearn: 0.2992223\ttotal: 128ms\tremaining: 731ms\n",
      "149:\tlearn: 0.2967826\ttotal: 128ms\tremaining: 728ms\n",
      "150:\tlearn: 0.2946763\ttotal: 129ms\tremaining: 725ms\n",
      "151:\tlearn: 0.2927266\ttotal: 130ms\tremaining: 723ms\n",
      "152:\tlearn: 0.2908867\ttotal: 130ms\tremaining: 718ms\n",
      "153:\tlearn: 0.2887878\ttotal: 130ms\tremaining: 716ms\n",
      "154:\tlearn: 0.2864051\ttotal: 131ms\tremaining: 712ms\n",
      "155:\tlearn: 0.2842556\ttotal: 131ms\tremaining: 710ms\n",
      "156:\tlearn: 0.2817628\ttotal: 132ms\tremaining: 707ms\n",
      "157:\tlearn: 0.2797557\ttotal: 132ms\tremaining: 704ms\n",
      "158:\tlearn: 0.2780812\ttotal: 133ms\tremaining: 701ms\n",
      "159:\tlearn: 0.2761849\ttotal: 133ms\tremaining: 699ms\n",
      "160:\tlearn: 0.2744237\ttotal: 133ms\tremaining: 696ms\n",
      "161:\tlearn: 0.2727561\ttotal: 134ms\tremaining: 693ms\n",
      "162:\tlearn: 0.2708357\ttotal: 134ms\tremaining: 690ms\n",
      "163:\tlearn: 0.2687453\ttotal: 135ms\tremaining: 688ms\n",
      "164:\tlearn: 0.2672050\ttotal: 135ms\tremaining: 686ms\n",
      "165:\tlearn: 0.2654278\ttotal: 136ms\tremaining: 683ms\n",
      "166:\tlearn: 0.2634280\ttotal: 136ms\tremaining: 681ms\n",
      "167:\tlearn: 0.2617664\ttotal: 137ms\tremaining: 679ms\n",
      "168:\tlearn: 0.2599534\ttotal: 138ms\tremaining: 676ms\n",
      "169:\tlearn: 0.2581682\ttotal: 138ms\tremaining: 674ms\n",
      "170:\tlearn: 0.2565393\ttotal: 138ms\tremaining: 671ms\n",
      "171:\tlearn: 0.2546745\ttotal: 139ms\tremaining: 668ms\n",
      "172:\tlearn: 0.2529945\ttotal: 139ms\tremaining: 666ms\n",
      "173:\tlearn: 0.2513888\ttotal: 140ms\tremaining: 663ms\n",
      "174:\tlearn: 0.2496366\ttotal: 140ms\tremaining: 661ms\n",
      "175:\tlearn: 0.2479498\ttotal: 141ms\tremaining: 658ms\n",
      "176:\tlearn: 0.2461137\ttotal: 141ms\tremaining: 656ms\n",
      "177:\tlearn: 0.2443837\ttotal: 142ms\tremaining: 653ms\n",
      "178:\tlearn: 0.2428614\ttotal: 142ms\tremaining: 652ms\n",
      "179:\tlearn: 0.2412263\ttotal: 143ms\tremaining: 650ms\n",
      "180:\tlearn: 0.2396602\ttotal: 143ms\tremaining: 647ms\n",
      "181:\tlearn: 0.2380316\ttotal: 143ms\tremaining: 644ms\n",
      "182:\tlearn: 0.2368710\ttotal: 144ms\tremaining: 643ms\n",
      "183:\tlearn: 0.2352039\ttotal: 144ms\tremaining: 641ms\n",
      "184:\tlearn: 0.2334687\ttotal: 145ms\tremaining: 639ms\n",
      "185:\tlearn: 0.2320874\ttotal: 145ms\tremaining: 637ms\n",
      "186:\tlearn: 0.2301865\ttotal: 146ms\tremaining: 635ms\n",
      "187:\tlearn: 0.2288476\ttotal: 147ms\tremaining: 633ms\n",
      "188:\tlearn: 0.2273340\ttotal: 147ms\tremaining: 631ms\n",
      "189:\tlearn: 0.2256148\ttotal: 147ms\tremaining: 628ms\n",
      "190:\tlearn: 0.2241404\ttotal: 148ms\tremaining: 627ms\n",
      "191:\tlearn: 0.2229125\ttotal: 148ms\tremaining: 624ms\n",
      "192:\tlearn: 0.2214112\ttotal: 149ms\tremaining: 623ms\n",
      "193:\tlearn: 0.2197558\ttotal: 149ms\tremaining: 621ms\n",
      "194:\tlearn: 0.2180403\ttotal: 150ms\tremaining: 619ms\n",
      "195:\tlearn: 0.2166283\ttotal: 151ms\tremaining: 618ms\n",
      "196:\tlearn: 0.2151157\ttotal: 151ms\tremaining: 616ms\n",
      "197:\tlearn: 0.2140937\ttotal: 152ms\tremaining: 614ms\n",
      "198:\tlearn: 0.2126093\ttotal: 152ms\tremaining: 612ms\n",
      "199:\tlearn: 0.2113350\ttotal: 153ms\tremaining: 610ms\n",
      "200:\tlearn: 0.2099880\ttotal: 153ms\tremaining: 608ms\n",
      "201:\tlearn: 0.2086512\ttotal: 154ms\tremaining: 607ms\n",
      "202:\tlearn: 0.2074584\ttotal: 154ms\tremaining: 605ms\n",
      "203:\tlearn: 0.2061957\ttotal: 155ms\tremaining: 603ms\n",
      "204:\tlearn: 0.2050149\ttotal: 155ms\tremaining: 601ms\n",
      "205:\tlearn: 0.2036178\ttotal: 155ms\tremaining: 599ms\n",
      "206:\tlearn: 0.2021651\ttotal: 156ms\tremaining: 598ms\n",
      "207:\tlearn: 0.2007528\ttotal: 156ms\tremaining: 596ms\n",
      "208:\tlearn: 0.1995812\ttotal: 157ms\tremaining: 593ms\n",
      "209:\tlearn: 0.1983861\ttotal: 157ms\tremaining: 592ms\n",
      "210:\tlearn: 0.1972280\ttotal: 158ms\tremaining: 590ms\n",
      "211:\tlearn: 0.1959994\ttotal: 158ms\tremaining: 588ms\n",
      "212:\tlearn: 0.1946601\ttotal: 159ms\tremaining: 586ms\n",
      "213:\tlearn: 0.1933806\ttotal: 159ms\tremaining: 584ms\n",
      "214:\tlearn: 0.1921290\ttotal: 160ms\tremaining: 582ms\n",
      "215:\tlearn: 0.1907585\ttotal: 160ms\tremaining: 581ms\n",
      "216:\tlearn: 0.1897385\ttotal: 160ms\tremaining: 579ms\n",
      "217:\tlearn: 0.1885538\ttotal: 161ms\tremaining: 577ms\n",
      "218:\tlearn: 0.1874679\ttotal: 161ms\tremaining: 575ms\n",
      "219:\tlearn: 0.1861056\ttotal: 162ms\tremaining: 574ms\n",
      "220:\tlearn: 0.1847782\ttotal: 162ms\tremaining: 572ms\n",
      "221:\tlearn: 0.1835064\ttotal: 163ms\tremaining: 570ms\n",
      "222:\tlearn: 0.1825411\ttotal: 163ms\tremaining: 569ms\n",
      "223:\tlearn: 0.1813602\ttotal: 164ms\tremaining: 568ms\n",
      "224:\tlearn: 0.1803564\ttotal: 164ms\tremaining: 567ms\n",
      "225:\tlearn: 0.1789639\ttotal: 165ms\tremaining: 565ms\n",
      "226:\tlearn: 0.1777798\ttotal: 165ms\tremaining: 563ms\n",
      "227:\tlearn: 0.1765056\ttotal: 166ms\tremaining: 562ms\n",
      "228:\tlearn: 0.1751775\ttotal: 166ms\tremaining: 560ms\n",
      "229:\tlearn: 0.1741726\ttotal: 167ms\tremaining: 559ms\n",
      "230:\tlearn: 0.1731295\ttotal: 168ms\tremaining: 558ms\n",
      "231:\tlearn: 0.1716640\ttotal: 168ms\tremaining: 556ms\n",
      "232:\tlearn: 0.1705755\ttotal: 169ms\tremaining: 555ms\n",
      "233:\tlearn: 0.1695215\ttotal: 169ms\tremaining: 553ms\n",
      "234:\tlearn: 0.1685590\ttotal: 169ms\tremaining: 551ms\n",
      "235:\tlearn: 0.1676261\ttotal: 170ms\tremaining: 550ms\n",
      "236:\tlearn: 0.1666172\ttotal: 170ms\tremaining: 548ms\n",
      "237:\tlearn: 0.1657519\ttotal: 171ms\tremaining: 547ms\n",
      "238:\tlearn: 0.1647317\ttotal: 171ms\tremaining: 545ms\n",
      "239:\tlearn: 0.1637363\ttotal: 172ms\tremaining: 544ms\n",
      "240:\tlearn: 0.1627633\ttotal: 172ms\tremaining: 542ms\n",
      "241:\tlearn: 0.1617408\ttotal: 173ms\tremaining: 541ms\n",
      "242:\tlearn: 0.1605747\ttotal: 173ms\tremaining: 540ms\n",
      "243:\tlearn: 0.1596546\ttotal: 174ms\tremaining: 538ms\n",
      "244:\tlearn: 0.1583883\ttotal: 174ms\tremaining: 536ms\n",
      "245:\tlearn: 0.1573411\ttotal: 175ms\tremaining: 535ms\n",
      "246:\tlearn: 0.1562804\ttotal: 175ms\tremaining: 534ms\n",
      "247:\tlearn: 0.1552812\ttotal: 175ms\tremaining: 532ms\n",
      "248:\tlearn: 0.1541222\ttotal: 176ms\tremaining: 530ms\n",
      "249:\tlearn: 0.1530489\ttotal: 176ms\tremaining: 529ms\n",
      "250:\tlearn: 0.1520558\ttotal: 177ms\tremaining: 528ms\n",
      "251:\tlearn: 0.1510386\ttotal: 177ms\tremaining: 527ms\n",
      "252:\tlearn: 0.1499917\ttotal: 178ms\tremaining: 525ms\n",
      "253:\tlearn: 0.1489651\ttotal: 178ms\tremaining: 524ms\n",
      "254:\tlearn: 0.1480111\ttotal: 179ms\tremaining: 522ms\n",
      "255:\tlearn: 0.1471196\ttotal: 179ms\tremaining: 521ms\n",
      "256:\tlearn: 0.1460887\ttotal: 180ms\tremaining: 520ms\n",
      "257:\tlearn: 0.1451261\ttotal: 180ms\tremaining: 518ms\n",
      "258:\tlearn: 0.1442938\ttotal: 181ms\tremaining: 517ms\n",
      "259:\tlearn: 0.1434335\ttotal: 181ms\tremaining: 515ms\n",
      "260:\tlearn: 0.1425293\ttotal: 182ms\tremaining: 514ms\n",
      "261:\tlearn: 0.1415384\ttotal: 182ms\tremaining: 513ms\n",
      "262:\tlearn: 0.1406212\ttotal: 182ms\tremaining: 511ms\n",
      "263:\tlearn: 0.1397747\ttotal: 183ms\tremaining: 509ms\n",
      "264:\tlearn: 0.1389245\ttotal: 183ms\tremaining: 508ms\n",
      "265:\tlearn: 0.1379792\ttotal: 184ms\tremaining: 507ms\n",
      "266:\tlearn: 0.1371612\ttotal: 184ms\tremaining: 505ms\n",
      "267:\tlearn: 0.1364252\ttotal: 184ms\tremaining: 504ms\n",
      "268:\tlearn: 0.1355226\ttotal: 185ms\tremaining: 502ms\n",
      "269:\tlearn: 0.1344696\ttotal: 185ms\tremaining: 501ms\n",
      "270:\tlearn: 0.1336330\ttotal: 186ms\tremaining: 500ms\n"
     ]
    },
    {
     "name": "stdout",
     "output_type": "stream",
     "text": [
      "271:\tlearn: 0.1328875\ttotal: 186ms\tremaining: 498ms\n",
      "272:\tlearn: 0.1320302\ttotal: 187ms\tremaining: 498ms\n",
      "273:\tlearn: 0.1312501\ttotal: 188ms\tremaining: 498ms\n",
      "274:\tlearn: 0.1304565\ttotal: 189ms\tremaining: 497ms\n",
      "275:\tlearn: 0.1296505\ttotal: 189ms\tremaining: 496ms\n",
      "276:\tlearn: 0.1288864\ttotal: 190ms\tremaining: 495ms\n",
      "277:\tlearn: 0.1280361\ttotal: 190ms\tremaining: 494ms\n",
      "278:\tlearn: 0.1273262\ttotal: 191ms\tremaining: 492ms\n",
      "279:\tlearn: 0.1265739\ttotal: 191ms\tremaining: 491ms\n",
      "280:\tlearn: 0.1257714\ttotal: 192ms\tremaining: 490ms\n",
      "281:\tlearn: 0.1250603\ttotal: 192ms\tremaining: 489ms\n",
      "282:\tlearn: 0.1242857\ttotal: 192ms\tremaining: 488ms\n",
      "283:\tlearn: 0.1235433\ttotal: 193ms\tremaining: 486ms\n",
      "284:\tlearn: 0.1228175\ttotal: 193ms\tremaining: 485ms\n",
      "285:\tlearn: 0.1220140\ttotal: 194ms\tremaining: 484ms\n",
      "286:\tlearn: 0.1213333\ttotal: 194ms\tremaining: 483ms\n",
      "287:\tlearn: 0.1206164\ttotal: 195ms\tremaining: 481ms\n",
      "288:\tlearn: 0.1199000\ttotal: 195ms\tremaining: 480ms\n",
      "289:\tlearn: 0.1191318\ttotal: 196ms\tremaining: 479ms\n",
      "290:\tlearn: 0.1183585\ttotal: 196ms\tremaining: 478ms\n",
      "291:\tlearn: 0.1176261\ttotal: 196ms\tremaining: 476ms\n",
      "292:\tlearn: 0.1170116\ttotal: 197ms\tremaining: 475ms\n",
      "293:\tlearn: 0.1162676\ttotal: 197ms\tremaining: 474ms\n",
      "294:\tlearn: 0.1156216\ttotal: 198ms\tremaining: 473ms\n",
      "295:\tlearn: 0.1149142\ttotal: 198ms\tremaining: 471ms\n",
      "296:\tlearn: 0.1142183\ttotal: 199ms\tremaining: 470ms\n",
      "297:\tlearn: 0.1135096\ttotal: 199ms\tremaining: 469ms\n",
      "298:\tlearn: 0.1128553\ttotal: 200ms\tremaining: 468ms\n",
      "299:\tlearn: 0.1122317\ttotal: 201ms\tremaining: 468ms\n",
      "300:\tlearn: 0.1115905\ttotal: 201ms\tremaining: 467ms\n",
      "301:\tlearn: 0.1109576\ttotal: 202ms\tremaining: 466ms\n",
      "302:\tlearn: 0.1101717\ttotal: 202ms\tremaining: 465ms\n",
      "303:\tlearn: 0.1094507\ttotal: 203ms\tremaining: 465ms\n",
      "304:\tlearn: 0.1088746\ttotal: 203ms\tremaining: 463ms\n",
      "305:\tlearn: 0.1082759\ttotal: 204ms\tremaining: 462ms\n",
      "306:\tlearn: 0.1077255\ttotal: 204ms\tremaining: 461ms\n",
      "307:\tlearn: 0.1071422\ttotal: 205ms\tremaining: 460ms\n",
      "308:\tlearn: 0.1064835\ttotal: 205ms\tremaining: 459ms\n",
      "309:\tlearn: 0.1058153\ttotal: 206ms\tremaining: 458ms\n",
      "310:\tlearn: 0.1053107\ttotal: 206ms\tremaining: 457ms\n",
      "311:\tlearn: 0.1046685\ttotal: 207ms\tremaining: 456ms\n",
      "312:\tlearn: 0.1040551\ttotal: 207ms\tremaining: 454ms\n",
      "313:\tlearn: 0.1034330\ttotal: 207ms\tremaining: 453ms\n",
      "314:\tlearn: 0.1028325\ttotal: 208ms\tremaining: 452ms\n",
      "315:\tlearn: 0.1023657\ttotal: 209ms\tremaining: 451ms\n",
      "316:\tlearn: 0.1018540\ttotal: 209ms\tremaining: 450ms\n",
      "317:\tlearn: 0.1014930\ttotal: 209ms\tremaining: 449ms\n",
      "318:\tlearn: 0.1010059\ttotal: 210ms\tremaining: 448ms\n",
      "319:\tlearn: 0.1004330\ttotal: 210ms\tremaining: 447ms\n",
      "320:\tlearn: 0.0999748\ttotal: 211ms\tremaining: 446ms\n",
      "321:\tlearn: 0.0993945\ttotal: 211ms\tremaining: 445ms\n",
      "322:\tlearn: 0.0987877\ttotal: 212ms\tremaining: 444ms\n",
      "323:\tlearn: 0.0984412\ttotal: 212ms\tremaining: 443ms\n",
      "324:\tlearn: 0.0978798\ttotal: 213ms\tremaining: 442ms\n",
      "325:\tlearn: 0.0976753\ttotal: 213ms\tremaining: 441ms\n",
      "326:\tlearn: 0.0971066\ttotal: 214ms\tremaining: 440ms\n",
      "327:\tlearn: 0.0969064\ttotal: 214ms\tremaining: 439ms\n",
      "328:\tlearn: 0.0964826\ttotal: 215ms\tremaining: 438ms\n",
      "329:\tlearn: 0.0959191\ttotal: 215ms\tremaining: 437ms\n",
      "330:\tlearn: 0.0954848\ttotal: 216ms\tremaining: 436ms\n",
      "331:\tlearn: 0.0952935\ttotal: 216ms\tremaining: 435ms\n",
      "332:\tlearn: 0.0951047\ttotal: 217ms\tremaining: 434ms\n",
      "333:\tlearn: 0.0947871\ttotal: 217ms\tremaining: 434ms\n",
      "334:\tlearn: 0.0946028\ttotal: 218ms\tremaining: 432ms\n",
      "335:\tlearn: 0.0944210\ttotal: 218ms\tremaining: 431ms\n",
      "336:\tlearn: 0.0942416\ttotal: 219ms\tremaining: 430ms\n",
      "337:\tlearn: 0.0940810\ttotal: 219ms\tremaining: 429ms\n",
      "338:\tlearn: 0.0939057\ttotal: 219ms\tremaining: 428ms\n",
      "339:\tlearn: 0.0937328\ttotal: 220ms\tremaining: 427ms\n",
      "340:\tlearn: 0.0931875\ttotal: 221ms\tremaining: 426ms\n",
      "341:\tlearn: 0.0926340\ttotal: 221ms\tremaining: 425ms\n",
      "342:\tlearn: 0.0921150\ttotal: 221ms\tremaining: 424ms\n",
      "343:\tlearn: 0.0919480\ttotal: 222ms\tremaining: 423ms\n",
      "344:\tlearn: 0.0917832\ttotal: 222ms\tremaining: 422ms\n",
      "345:\tlearn: 0.0916349\ttotal: 223ms\tremaining: 421ms\n",
      "346:\tlearn: 0.0911033\ttotal: 223ms\tremaining: 420ms\n",
      "347:\tlearn: 0.0909430\ttotal: 224ms\tremaining: 420ms\n",
      "348:\tlearn: 0.0904749\ttotal: 224ms\tremaining: 419ms\n",
      "349:\tlearn: 0.0900308\ttotal: 225ms\tremaining: 417ms\n",
      "350:\tlearn: 0.0898748\ttotal: 225ms\tremaining: 417ms\n",
      "351:\tlearn: 0.0892829\ttotal: 226ms\tremaining: 416ms\n",
      "352:\tlearn: 0.0887070\ttotal: 226ms\tremaining: 415ms\n",
      "353:\tlearn: 0.0885559\ttotal: 227ms\tremaining: 413ms\n",
      "354:\tlearn: 0.0880616\ttotal: 227ms\tremaining: 412ms\n",
      "355:\tlearn: 0.0876247\ttotal: 227ms\tremaining: 411ms\n",
      "356:\tlearn: 0.0869811\ttotal: 228ms\tremaining: 410ms\n",
      "357:\tlearn: 0.0865664\ttotal: 228ms\tremaining: 410ms\n",
      "358:\tlearn: 0.0861172\ttotal: 229ms\tremaining: 409ms\n",
      "359:\tlearn: 0.0856157\ttotal: 229ms\tremaining: 408ms\n",
      "360:\tlearn: 0.0851795\ttotal: 230ms\tremaining: 407ms\n",
      "361:\tlearn: 0.0850382\ttotal: 230ms\tremaining: 406ms\n",
      "362:\tlearn: 0.0846048\ttotal: 231ms\tremaining: 405ms\n",
      "363:\tlearn: 0.0844655\ttotal: 231ms\tremaining: 404ms\n",
      "364:\tlearn: 0.0840193\ttotal: 232ms\tremaining: 403ms\n",
      "365:\tlearn: 0.0838821\ttotal: 232ms\tremaining: 402ms\n",
      "366:\tlearn: 0.0837468\ttotal: 233ms\tremaining: 401ms\n",
      "367:\tlearn: 0.0831746\ttotal: 233ms\tremaining: 400ms\n",
      "368:\tlearn: 0.0830420\ttotal: 234ms\tremaining: 399ms\n",
      "369:\tlearn: 0.0829111\ttotal: 234ms\tremaining: 398ms\n",
      "370:\tlearn: 0.0823539\ttotal: 234ms\tremaining: 398ms\n",
      "371:\tlearn: 0.0822258\ttotal: 235ms\tremaining: 396ms\n",
      "372:\tlearn: 0.0820993\ttotal: 235ms\tremaining: 395ms\n",
      "373:\tlearn: 0.0819745\ttotal: 236ms\tremaining: 394ms\n",
      "374:\tlearn: 0.0814164\ttotal: 236ms\tremaining: 393ms\n",
      "375:\tlearn: 0.0810181\ttotal: 236ms\tremaining: 392ms\n",
      "376:\tlearn: 0.0808956\ttotal: 237ms\tremaining: 391ms\n",
      "377:\tlearn: 0.0804957\ttotal: 237ms\tremaining: 390ms\n",
      "378:\tlearn: 0.0803749\ttotal: 238ms\tremaining: 389ms\n",
      "379:\tlearn: 0.0802558\ttotal: 238ms\tremaining: 389ms\n",
      "380:\tlearn: 0.0801382\ttotal: 239ms\tremaining: 387ms\n",
      "381:\tlearn: 0.0800222\ttotal: 239ms\tremaining: 386ms\n",
      "382:\tlearn: 0.0794950\ttotal: 239ms\tremaining: 386ms\n",
      "383:\tlearn: 0.0793814\ttotal: 240ms\tremaining: 384ms\n",
      "384:\tlearn: 0.0788672\ttotal: 240ms\tremaining: 384ms\n",
      "385:\tlearn: 0.0787559\ttotal: 241ms\tremaining: 383ms\n",
      "386:\tlearn: 0.0783451\ttotal: 241ms\tremaining: 382ms\n",
      "387:\tlearn: 0.0778822\ttotal: 242ms\tremaining: 381ms\n",
      "388:\tlearn: 0.0777736\ttotal: 242ms\tremaining: 380ms\n",
      "389:\tlearn: 0.0776665\ttotal: 242ms\tremaining: 379ms\n",
      "390:\tlearn: 0.0775607\ttotal: 243ms\tremaining: 378ms\n",
      "391:\tlearn: 0.0772155\ttotal: 243ms\tremaining: 377ms\n",
      "392:\tlearn: 0.0771118\ttotal: 244ms\tremaining: 377ms\n",
      "393:\tlearn: 0.0765931\ttotal: 244ms\tremaining: 375ms\n",
      "394:\tlearn: 0.0761467\ttotal: 245ms\tremaining: 375ms\n",
      "395:\tlearn: 0.0760451\ttotal: 245ms\tremaining: 374ms\n",
      "396:\tlearn: 0.0759449\ttotal: 245ms\tremaining: 373ms\n",
      "397:\tlearn: 0.0755742\ttotal: 246ms\tremaining: 372ms\n",
      "398:\tlearn: 0.0754758\ttotal: 246ms\tremaining: 371ms\n",
      "399:\tlearn: 0.0750047\ttotal: 247ms\tremaining: 370ms\n",
      "400:\tlearn: 0.0749084\ttotal: 247ms\tremaining: 369ms\n",
      "401:\tlearn: 0.0748113\ttotal: 248ms\tremaining: 368ms\n",
      "402:\tlearn: 0.0744524\ttotal: 248ms\tremaining: 367ms\n",
      "403:\tlearn: 0.0743569\ttotal: 249ms\tremaining: 367ms\n",
      "404:\tlearn: 0.0739344\ttotal: 249ms\tremaining: 366ms\n",
      "405:\tlearn: 0.0738406\ttotal: 249ms\tremaining: 365ms\n",
      "406:\tlearn: 0.0733537\ttotal: 250ms\tremaining: 364ms\n",
      "407:\tlearn: 0.0732541\ttotal: 250ms\tremaining: 363ms\n",
      "408:\tlearn: 0.0728645\ttotal: 251ms\tremaining: 362ms\n",
      "409:\tlearn: 0.0727735\ttotal: 251ms\tremaining: 361ms\n",
      "410:\tlearn: 0.0726837\ttotal: 251ms\tremaining: 360ms\n",
      "411:\tlearn: 0.0725951\ttotal: 252ms\tremaining: 360ms\n",
      "412:\tlearn: 0.0722973\ttotal: 252ms\tremaining: 359ms\n",
      "413:\tlearn: 0.0718284\ttotal: 253ms\tremaining: 358ms\n",
      "414:\tlearn: 0.0717414\ttotal: 253ms\tremaining: 357ms\n",
      "415:\tlearn: 0.0713424\ttotal: 253ms\tremaining: 356ms\n",
      "416:\tlearn: 0.0712490\ttotal: 254ms\tremaining: 355ms\n",
      "417:\tlearn: 0.0711643\ttotal: 254ms\tremaining: 354ms\n",
      "418:\tlearn: 0.0707953\ttotal: 255ms\tremaining: 354ms\n",
      "419:\tlearn: 0.0706852\ttotal: 256ms\tremaining: 353ms\n",
      "420:\tlearn: 0.0705770\ttotal: 256ms\tremaining: 352ms\n",
      "421:\tlearn: 0.0704872\ttotal: 256ms\tremaining: 351ms\n",
      "422:\tlearn: 0.0699898\ttotal: 257ms\tremaining: 350ms\n",
      "423:\tlearn: 0.0699018\ttotal: 257ms\tremaining: 350ms\n",
      "424:\tlearn: 0.0696211\ttotal: 258ms\tremaining: 349ms\n",
      "425:\tlearn: 0.0691362\ttotal: 258ms\tremaining: 348ms\n",
      "426:\tlearn: 0.0689614\ttotal: 258ms\tremaining: 347ms\n",
      "427:\tlearn: 0.0688761\ttotal: 259ms\tremaining: 346ms\n",
      "428:\tlearn: 0.0684432\ttotal: 259ms\tremaining: 345ms\n",
      "429:\tlearn: 0.0680914\ttotal: 260ms\tremaining: 345ms\n",
      "430:\tlearn: 0.0680081\ttotal: 260ms\tremaining: 344ms\n",
      "431:\tlearn: 0.0679380\ttotal: 261ms\tremaining: 343ms\n",
      "432:\tlearn: 0.0678686\ttotal: 261ms\tremaining: 342ms\n",
      "433:\tlearn: 0.0675656\ttotal: 262ms\tremaining: 341ms\n",
      "434:\tlearn: 0.0671036\ttotal: 262ms\tremaining: 340ms\n",
      "435:\tlearn: 0.0670050\ttotal: 263ms\tremaining: 340ms\n",
      "436:\tlearn: 0.0669374\ttotal: 263ms\tremaining: 339ms\n",
      "437:\tlearn: 0.0668707\ttotal: 264ms\tremaining: 338ms\n",
      "438:\tlearn: 0.0664192\ttotal: 264ms\tremaining: 337ms\n",
      "439:\tlearn: 0.0663534\ttotal: 265ms\tremaining: 337ms\n",
      "440:\tlearn: 0.0659937\ttotal: 265ms\tremaining: 336ms\n",
      "441:\tlearn: 0.0658559\ttotal: 265ms\tremaining: 335ms\n",
      "442:\tlearn: 0.0654531\ttotal: 266ms\tremaining: 334ms\n",
      "443:\tlearn: 0.0653890\ttotal: 266ms\tremaining: 333ms\n",
      "444:\tlearn: 0.0650947\ttotal: 266ms\tremaining: 332ms\n",
      "445:\tlearn: 0.0650312\ttotal: 267ms\tremaining: 332ms\n",
      "446:\tlearn: 0.0649684\ttotal: 267ms\tremaining: 331ms\n",
      "447:\tlearn: 0.0646437\ttotal: 268ms\tremaining: 330ms\n",
      "448:\tlearn: 0.0642162\ttotal: 268ms\tremaining: 329ms\n",
      "449:\tlearn: 0.0641547\ttotal: 268ms\tremaining: 328ms\n",
      "450:\tlearn: 0.0640272\ttotal: 269ms\tremaining: 327ms\n",
      "451:\tlearn: 0.0636726\ttotal: 269ms\tremaining: 326ms\n",
      "452:\tlearn: 0.0632307\ttotal: 269ms\tremaining: 325ms\n",
      "453:\tlearn: 0.0627970\ttotal: 270ms\tremaining: 324ms\n",
      "454:\tlearn: 0.0623711\ttotal: 270ms\tremaining: 323ms\n",
      "455:\tlearn: 0.0620335\ttotal: 270ms\tremaining: 323ms\n",
      "456:\tlearn: 0.0617630\ttotal: 271ms\tremaining: 322ms\n",
      "457:\tlearn: 0.0613496\ttotal: 271ms\tremaining: 321ms\n",
      "458:\tlearn: 0.0609437\ttotal: 272ms\tremaining: 320ms\n",
      "459:\tlearn: 0.0605454\ttotal: 272ms\tremaining: 319ms\n",
      "460:\tlearn: 0.0602547\ttotal: 273ms\tremaining: 319ms\n",
      "461:\tlearn: 0.0598429\ttotal: 273ms\tremaining: 318ms\n",
      "462:\tlearn: 0.0595260\ttotal: 273ms\tremaining: 317ms\n",
      "463:\tlearn: 0.0591813\ttotal: 274ms\tremaining: 316ms\n",
      "464:\tlearn: 0.0588448\ttotal: 274ms\tremaining: 316ms\n",
      "465:\tlearn: 0.0587887\ttotal: 275ms\tremaining: 315ms\n",
      "466:\tlearn: 0.0583927\ttotal: 275ms\tremaining: 314ms\n",
      "467:\tlearn: 0.0580663\ttotal: 276ms\tremaining: 313ms\n",
      "468:\tlearn: 0.0576809\ttotal: 276ms\tremaining: 313ms\n",
      "469:\tlearn: 0.0573623\ttotal: 277ms\tremaining: 312ms\n",
      "470:\tlearn: 0.0570517\ttotal: 277ms\tremaining: 311ms\n",
      "471:\tlearn: 0.0566793\ttotal: 278ms\tremaining: 310ms\n",
      "472:\tlearn: 0.0563771\ttotal: 278ms\tremaining: 310ms\n",
      "473:\tlearn: 0.0560157\ttotal: 278ms\tremaining: 309ms\n",
      "474:\tlearn: 0.0557550\ttotal: 279ms\tremaining: 308ms\n",
      "475:\tlearn: 0.0554630\ttotal: 279ms\tremaining: 308ms\n",
      "476:\tlearn: 0.0551368\ttotal: 280ms\tremaining: 307ms\n",
      "477:\tlearn: 0.0550202\ttotal: 280ms\tremaining: 306ms\n",
      "478:\tlearn: 0.0549698\ttotal: 281ms\tremaining: 305ms\n",
      "479:\tlearn: 0.0546203\ttotal: 281ms\tremaining: 305ms\n",
      "480:\tlearn: 0.0543402\ttotal: 281ms\tremaining: 304ms\n",
      "481:\tlearn: 0.0539992\ttotal: 282ms\tremaining: 303ms\n",
      "482:\tlearn: 0.0537581\ttotal: 282ms\tremaining: 302ms\n",
      "483:\tlearn: 0.0534407\ttotal: 283ms\tremaining: 302ms\n",
      "484:\tlearn: 0.0531844\ttotal: 283ms\tremaining: 301ms\n",
      "485:\tlearn: 0.0530747\ttotal: 284ms\tremaining: 300ms\n",
      "486:\tlearn: 0.0528107\ttotal: 284ms\tremaining: 299ms\n",
      "487:\tlearn: 0.0524062\ttotal: 285ms\tremaining: 299ms\n",
      "488:\tlearn: 0.0522896\ttotal: 285ms\tremaining: 298ms\n",
      "489:\tlearn: 0.0522434\ttotal: 286ms\tremaining: 297ms\n",
      "490:\tlearn: 0.0520001\ttotal: 286ms\tremaining: 296ms\n",
      "491:\tlearn: 0.0516820\ttotal: 287ms\tremaining: 296ms\n",
      "492:\tlearn: 0.0514154\ttotal: 287ms\tremaining: 295ms\n",
      "493:\tlearn: 0.0510308\ttotal: 288ms\tremaining: 295ms\n",
      "494:\tlearn: 0.0509210\ttotal: 288ms\tremaining: 294ms\n",
      "495:\tlearn: 0.0508592\ttotal: 288ms\tremaining: 293ms\n",
      "496:\tlearn: 0.0508158\ttotal: 289ms\tremaining: 292ms\n",
      "497:\tlearn: 0.0505778\ttotal: 289ms\tremaining: 292ms\n",
      "498:\tlearn: 0.0503343\ttotal: 290ms\tremaining: 291ms\n",
      "499:\tlearn: 0.0502916\ttotal: 290ms\tremaining: 290ms\n",
      "500:\tlearn: 0.0500610\ttotal: 291ms\tremaining: 290ms\n",
      "501:\tlearn: 0.0498234\ttotal: 291ms\tremaining: 289ms\n",
      "502:\tlearn: 0.0497190\ttotal: 292ms\tremaining: 289ms\n"
     ]
    },
    {
     "name": "stdout",
     "output_type": "stream",
     "text": [
      "503:\tlearn: 0.0493754\ttotal: 293ms\tremaining: 288ms\n",
      "504:\tlearn: 0.0490782\ttotal: 293ms\tremaining: 288ms\n",
      "505:\tlearn: 0.0487448\ttotal: 294ms\tremaining: 287ms\n",
      "506:\tlearn: 0.0485234\ttotal: 294ms\tremaining: 286ms\n",
      "507:\tlearn: 0.0482991\ttotal: 295ms\tremaining: 285ms\n",
      "508:\tlearn: 0.0480827\ttotal: 295ms\tremaining: 285ms\n",
      "509:\tlearn: 0.0478632\ttotal: 296ms\tremaining: 284ms\n",
      "510:\tlearn: 0.0476553\ttotal: 296ms\tremaining: 283ms\n",
      "511:\tlearn: 0.0475563\ttotal: 296ms\tremaining: 283ms\n",
      "512:\tlearn: 0.0473460\ttotal: 297ms\tremaining: 282ms\n",
      "513:\tlearn: 0.0471246\ttotal: 297ms\tremaining: 281ms\n",
      "514:\tlearn: 0.0468747\ttotal: 298ms\tremaining: 280ms\n",
      "515:\tlearn: 0.0466709\ttotal: 298ms\tremaining: 280ms\n",
      "516:\tlearn: 0.0464717\ttotal: 299ms\tremaining: 279ms\n",
      "517:\tlearn: 0.0462686\ttotal: 299ms\tremaining: 279ms\n",
      "518:\tlearn: 0.0460795\ttotal: 300ms\tremaining: 278ms\n",
      "519:\tlearn: 0.0460414\ttotal: 300ms\tremaining: 277ms\n",
      "520:\tlearn: 0.0458313\ttotal: 301ms\tremaining: 276ms\n",
      "521:\tlearn: 0.0455236\ttotal: 301ms\tremaining: 276ms\n",
      "522:\tlearn: 0.0453294\ttotal: 302ms\tremaining: 275ms\n",
      "523:\tlearn: 0.0450988\ttotal: 302ms\tremaining: 274ms\n",
      "524:\tlearn: 0.0448380\ttotal: 303ms\tremaining: 274ms\n",
      "525:\tlearn: 0.0446580\ttotal: 303ms\tremaining: 273ms\n",
      "526:\tlearn: 0.0444580\ttotal: 303ms\tremaining: 272ms\n",
      "527:\tlearn: 0.0442733\ttotal: 304ms\tremaining: 272ms\n",
      "528:\tlearn: 0.0440881\ttotal: 304ms\tremaining: 271ms\n",
      "529:\tlearn: 0.0438979\ttotal: 305ms\tremaining: 270ms\n",
      "530:\tlearn: 0.0437149\ttotal: 305ms\tremaining: 270ms\n",
      "531:\tlearn: 0.0436332\ttotal: 306ms\tremaining: 269ms\n",
      "532:\tlearn: 0.0433450\ttotal: 306ms\tremaining: 268ms\n",
      "533:\tlearn: 0.0431752\ttotal: 307ms\tremaining: 268ms\n",
      "534:\tlearn: 0.0429994\ttotal: 307ms\tremaining: 267ms\n",
      "535:\tlearn: 0.0428286\ttotal: 307ms\tremaining: 266ms\n",
      "536:\tlearn: 0.0427429\ttotal: 308ms\tremaining: 265ms\n",
      "537:\tlearn: 0.0424994\ttotal: 308ms\tremaining: 265ms\n",
      "538:\tlearn: 0.0422926\ttotal: 309ms\tremaining: 264ms\n",
      "539:\tlearn: 0.0420057\ttotal: 309ms\tremaining: 263ms\n",
      "540:\tlearn: 0.0417240\ttotal: 310ms\tremaining: 263ms\n",
      "541:\tlearn: 0.0414478\ttotal: 310ms\tremaining: 262ms\n",
      "542:\tlearn: 0.0412743\ttotal: 310ms\tremaining: 261ms\n",
      "543:\tlearn: 0.0410773\ttotal: 311ms\tremaining: 261ms\n",
      "544:\tlearn: 0.0408083\ttotal: 311ms\tremaining: 260ms\n",
      "545:\tlearn: 0.0405441\ttotal: 312ms\tremaining: 259ms\n",
      "546:\tlearn: 0.0403779\ttotal: 312ms\tremaining: 258ms\n",
      "547:\tlearn: 0.0402212\ttotal: 313ms\tremaining: 258ms\n",
      "548:\tlearn: 0.0400030\ttotal: 313ms\tremaining: 257ms\n",
      "549:\tlearn: 0.0397474\ttotal: 313ms\tremaining: 256ms\n",
      "550:\tlearn: 0.0394964\ttotal: 314ms\tremaining: 256ms\n",
      "551:\tlearn: 0.0393230\ttotal: 314ms\tremaining: 255ms\n",
      "552:\tlearn: 0.0391734\ttotal: 315ms\tremaining: 254ms\n",
      "553:\tlearn: 0.0390386\ttotal: 315ms\tremaining: 254ms\n",
      "554:\tlearn: 0.0388937\ttotal: 316ms\tremaining: 253ms\n",
      "555:\tlearn: 0.0386949\ttotal: 316ms\tremaining: 253ms\n",
      "556:\tlearn: 0.0384823\ttotal: 317ms\tremaining: 252ms\n",
      "557:\tlearn: 0.0382631\ttotal: 317ms\tremaining: 251ms\n",
      "558:\tlearn: 0.0380121\ttotal: 318ms\tremaining: 251ms\n",
      "559:\tlearn: 0.0378222\ttotal: 318ms\tremaining: 250ms\n",
      "560:\tlearn: 0.0376090\ttotal: 319ms\tremaining: 249ms\n",
      "561:\tlearn: 0.0373646\ttotal: 319ms\tremaining: 249ms\n",
      "562:\tlearn: 0.0371812\ttotal: 320ms\tremaining: 248ms\n",
      "563:\tlearn: 0.0369739\ttotal: 320ms\tremaining: 247ms\n",
      "564:\tlearn: 0.0367359\ttotal: 320ms\tremaining: 247ms\n",
      "565:\tlearn: 0.0365018\ttotal: 321ms\tremaining: 246ms\n",
      "566:\tlearn: 0.0363752\ttotal: 321ms\tremaining: 245ms\n",
      "567:\tlearn: 0.0361743\ttotal: 322ms\tremaining: 245ms\n",
      "568:\tlearn: 0.0360510\ttotal: 322ms\tremaining: 244ms\n",
      "569:\tlearn: 0.0358536\ttotal: 323ms\tremaining: 244ms\n",
      "570:\tlearn: 0.0356591\ttotal: 323ms\tremaining: 243ms\n",
      "571:\tlearn: 0.0354330\ttotal: 324ms\tremaining: 242ms\n",
      "572:\tlearn: 0.0352793\ttotal: 324ms\tremaining: 242ms\n",
      "573:\tlearn: 0.0350895\ttotal: 325ms\tremaining: 241ms\n",
      "574:\tlearn: 0.0348688\ttotal: 325ms\tremaining: 240ms\n",
      "575:\tlearn: 0.0347197\ttotal: 326ms\tremaining: 240ms\n",
      "576:\tlearn: 0.0345346\ttotal: 326ms\tremaining: 239ms\n",
      "577:\tlearn: 0.0344089\ttotal: 327ms\tremaining: 239ms\n",
      "578:\tlearn: 0.0342507\ttotal: 327ms\tremaining: 238ms\n",
      "579:\tlearn: 0.0340961\ttotal: 328ms\tremaining: 237ms\n",
      "580:\tlearn: 0.0339451\ttotal: 328ms\tremaining: 237ms\n",
      "581:\tlearn: 0.0337789\ttotal: 329ms\tremaining: 236ms\n",
      "582:\tlearn: 0.0336025\ttotal: 329ms\tremaining: 235ms\n",
      "583:\tlearn: 0.0334806\ttotal: 330ms\tremaining: 235ms\n",
      "584:\tlearn: 0.0333111\ttotal: 330ms\tremaining: 234ms\n",
      "585:\tlearn: 0.0331916\ttotal: 331ms\tremaining: 234ms\n",
      "586:\tlearn: 0.0330492\ttotal: 331ms\tremaining: 233ms\n",
      "587:\tlearn: 0.0329324\ttotal: 332ms\tremaining: 232ms\n",
      "588:\tlearn: 0.0327540\ttotal: 332ms\tremaining: 232ms\n",
      "589:\tlearn: 0.0325951\ttotal: 333ms\tremaining: 231ms\n",
      "590:\tlearn: 0.0324329\ttotal: 333ms\tremaining: 231ms\n",
      "591:\tlearn: 0.0323266\ttotal: 334ms\tremaining: 230ms\n",
      "592:\tlearn: 0.0322123\ttotal: 334ms\tremaining: 230ms\n",
      "593:\tlearn: 0.0320571\ttotal: 335ms\tremaining: 229ms\n",
      "594:\tlearn: 0.0319535\ttotal: 336ms\tremaining: 229ms\n",
      "595:\tlearn: 0.0318009\ttotal: 336ms\tremaining: 228ms\n",
      "596:\tlearn: 0.0316648\ttotal: 337ms\tremaining: 227ms\n",
      "597:\tlearn: 0.0315150\ttotal: 337ms\tremaining: 227ms\n",
      "598:\tlearn: 0.0313487\ttotal: 338ms\tremaining: 226ms\n",
      "599:\tlearn: 0.0311562\ttotal: 338ms\tremaining: 226ms\n",
      "600:\tlearn: 0.0310250\ttotal: 339ms\tremaining: 225ms\n",
      "601:\tlearn: 0.0308368\ttotal: 339ms\tremaining: 224ms\n",
      "602:\tlearn: 0.0307086\ttotal: 340ms\tremaining: 224ms\n",
      "603:\tlearn: 0.0305661\ttotal: 340ms\tremaining: 223ms\n",
      "604:\tlearn: 0.0304278\ttotal: 341ms\tremaining: 223ms\n",
      "605:\tlearn: 0.0302428\ttotal: 341ms\tremaining: 222ms\n",
      "606:\tlearn: 0.0301181\ttotal: 342ms\tremaining: 221ms\n",
      "607:\tlearn: 0.0299626\ttotal: 342ms\tremaining: 221ms\n",
      "608:\tlearn: 0.0297835\ttotal: 343ms\tremaining: 220ms\n",
      "609:\tlearn: 0.0296628\ttotal: 343ms\tremaining: 220ms\n",
      "610:\tlearn: 0.0295272\ttotal: 344ms\tremaining: 219ms\n",
      "611:\tlearn: 0.0293536\ttotal: 344ms\tremaining: 218ms\n",
      "612:\tlearn: 0.0292507\ttotal: 345ms\tremaining: 218ms\n",
      "613:\tlearn: 0.0291346\ttotal: 345ms\tremaining: 217ms\n",
      "614:\tlearn: 0.0289513\ttotal: 346ms\tremaining: 216ms\n",
      "615:\tlearn: 0.0287831\ttotal: 346ms\tremaining: 216ms\n",
      "616:\tlearn: 0.0286491\ttotal: 347ms\tremaining: 215ms\n",
      "617:\tlearn: 0.0285344\ttotal: 347ms\tremaining: 215ms\n",
      "618:\tlearn: 0.0283571\ttotal: 348ms\tremaining: 214ms\n",
      "619:\tlearn: 0.0281855\ttotal: 348ms\tremaining: 213ms\n",
      "620:\tlearn: 0.0280224\ttotal: 348ms\tremaining: 213ms\n",
      "621:\tlearn: 0.0279170\ttotal: 349ms\tremaining: 212ms\n",
      "622:\tlearn: 0.0277568\ttotal: 349ms\tremaining: 211ms\n",
      "623:\tlearn: 0.0276499\ttotal: 350ms\tremaining: 211ms\n",
      "624:\tlearn: 0.0274807\ttotal: 350ms\tremaining: 210ms\n",
      "625:\tlearn: 0.0273562\ttotal: 351ms\tremaining: 210ms\n"
     ]
    },
    {
     "name": "stdout",
     "output_type": "stream",
     "text": [
      "626:\tlearn: 0.0271906\ttotal: 351ms\tremaining: 209ms\n",
      "627:\tlearn: 0.0270254\ttotal: 352ms\tremaining: 209ms\n",
      "628:\tlearn: 0.0268634\ttotal: 353ms\tremaining: 208ms\n",
      "629:\tlearn: 0.0267578\ttotal: 353ms\tremaining: 207ms\n",
      "630:\tlearn: 0.0266056\ttotal: 353ms\tremaining: 207ms\n",
      "631:\tlearn: 0.0265075\ttotal: 354ms\tremaining: 206ms\n",
      "632:\tlearn: 0.0263573\ttotal: 354ms\tremaining: 205ms\n",
      "633:\tlearn: 0.0262617\ttotal: 355ms\tremaining: 205ms\n",
      "634:\tlearn: 0.0261214\ttotal: 355ms\tremaining: 204ms\n",
      "635:\tlearn: 0.0260058\ttotal: 356ms\tremaining: 204ms\n",
      "636:\tlearn: 0.0258601\ttotal: 356ms\tremaining: 203ms\n",
      "637:\tlearn: 0.0257565\ttotal: 357ms\tremaining: 202ms\n",
      "638:\tlearn: 0.0255931\ttotal: 357ms\tremaining: 202ms\n",
      "639:\tlearn: 0.0255309\ttotal: 358ms\tremaining: 201ms\n",
      "640:\tlearn: 0.0254696\ttotal: 358ms\tremaining: 201ms\n",
      "641:\tlearn: 0.0253791\ttotal: 359ms\tremaining: 200ms\n",
      "642:\tlearn: 0.0253030\ttotal: 359ms\tremaining: 199ms\n",
      "643:\tlearn: 0.0251688\ttotal: 360ms\tremaining: 199ms\n",
      "644:\tlearn: 0.0250691\ttotal: 360ms\tremaining: 198ms\n",
      "645:\tlearn: 0.0249861\ttotal: 361ms\tremaining: 198ms\n",
      "646:\tlearn: 0.0249275\ttotal: 361ms\tremaining: 197ms\n",
      "647:\tlearn: 0.0248474\ttotal: 362ms\tremaining: 197ms\n",
      "648:\tlearn: 0.0247392\ttotal: 362ms\tremaining: 196ms\n",
      "649:\tlearn: 0.0246949\ttotal: 363ms\tremaining: 195ms\n",
      "650:\tlearn: 0.0246154\ttotal: 363ms\tremaining: 195ms\n",
      "651:\tlearn: 0.0245095\ttotal: 364ms\tremaining: 194ms\n",
      "652:\tlearn: 0.0244659\ttotal: 364ms\tremaining: 194ms\n",
      "653:\tlearn: 0.0243687\ttotal: 365ms\tremaining: 193ms\n",
      "654:\tlearn: 0.0243284\ttotal: 365ms\tremaining: 192ms\n",
      "655:\tlearn: 0.0242894\ttotal: 365ms\tremaining: 192ms\n",
      "656:\tlearn: 0.0241914\ttotal: 366ms\tremaining: 191ms\n",
      "657:\tlearn: 0.0240457\ttotal: 366ms\tremaining: 190ms\n",
      "658:\tlearn: 0.0239447\ttotal: 367ms\tremaining: 190ms\n",
      "659:\tlearn: 0.0239263\ttotal: 367ms\tremaining: 189ms\n",
      "660:\tlearn: 0.0238343\ttotal: 368ms\tremaining: 189ms\n",
      "661:\tlearn: 0.0238160\ttotal: 368ms\tremaining: 188ms\n",
      "662:\tlearn: 0.0236744\ttotal: 369ms\tremaining: 187ms\n",
      "663:\tlearn: 0.0236564\ttotal: 369ms\tremaining: 187ms\n",
      "664:\tlearn: 0.0235687\ttotal: 369ms\tremaining: 186ms\n",
      "665:\tlearn: 0.0235509\ttotal: 370ms\tremaining: 186ms\n",
      "666:\tlearn: 0.0234649\ttotal: 370ms\tremaining: 185ms\n",
      "667:\tlearn: 0.0234473\ttotal: 371ms\tremaining: 184ms\n",
      "668:\tlearn: 0.0233103\ttotal: 371ms\tremaining: 184ms\n",
      "669:\tlearn: 0.0232929\ttotal: 372ms\tremaining: 183ms\n",
      "670:\tlearn: 0.0231681\ttotal: 372ms\tremaining: 182ms\n",
      "671:\tlearn: 0.0231508\ttotal: 373ms\tremaining: 182ms\n",
      "672:\tlearn: 0.0230700\ttotal: 373ms\tremaining: 181ms\n",
      "673:\tlearn: 0.0230181\ttotal: 373ms\tremaining: 181ms\n",
      "674:\tlearn: 0.0230013\ttotal: 374ms\tremaining: 180ms\n",
      "675:\tlearn: 0.0229074\ttotal: 374ms\tremaining: 179ms\n",
      "676:\tlearn: 0.0227730\ttotal: 375ms\tremaining: 179ms\n",
      "677:\tlearn: 0.0226549\ttotal: 375ms\tremaining: 178ms\n",
      "678:\tlearn: 0.0225341\ttotal: 376ms\tremaining: 178ms\n",
      "679:\tlearn: 0.0224449\ttotal: 376ms\tremaining: 177ms\n",
      "680:\tlearn: 0.0223150\ttotal: 377ms\tremaining: 176ms\n",
      "681:\tlearn: 0.0222279\ttotal: 377ms\tremaining: 176ms\n",
      "682:\tlearn: 0.0221391\ttotal: 378ms\tremaining: 175ms\n",
      "683:\tlearn: 0.0220226\ttotal: 378ms\tremaining: 175ms\n",
      "684:\tlearn: 0.0219379\ttotal: 379ms\tremaining: 174ms\n",
      "685:\tlearn: 0.0218122\ttotal: 379ms\tremaining: 174ms\n",
      "686:\tlearn: 0.0217262\ttotal: 380ms\tremaining: 173ms\n",
      "687:\tlearn: 0.0216504\ttotal: 380ms\tremaining: 172ms\n",
      "688:\tlearn: 0.0216125\ttotal: 381ms\tremaining: 172ms\n",
      "689:\tlearn: 0.0214899\ttotal: 381ms\tremaining: 171ms\n",
      "690:\tlearn: 0.0214526\ttotal: 382ms\tremaining: 171ms\n",
      "691:\tlearn: 0.0214157\ttotal: 382ms\tremaining: 170ms\n",
      "692:\tlearn: 0.0213043\ttotal: 382ms\tremaining: 169ms\n",
      "693:\tlearn: 0.0212323\ttotal: 383ms\tremaining: 169ms\n",
      "694:\tlearn: 0.0211365\ttotal: 384ms\tremaining: 168ms\n",
      "695:\tlearn: 0.0210494\ttotal: 384ms\tremaining: 168ms\n",
      "696:\tlearn: 0.0209564\ttotal: 384ms\tremaining: 167ms\n",
      "697:\tlearn: 0.0209199\ttotal: 385ms\tremaining: 167ms\n",
      "698:\tlearn: 0.0208121\ttotal: 385ms\tremaining: 166ms\n",
      "699:\tlearn: 0.0207968\ttotal: 386ms\tremaining: 165ms\n",
      "700:\tlearn: 0.0206882\ttotal: 386ms\tremaining: 165ms\n",
      "701:\tlearn: 0.0206104\ttotal: 387ms\tremaining: 164ms\n",
      "702:\tlearn: 0.0205072\ttotal: 387ms\tremaining: 164ms\n",
      "703:\tlearn: 0.0204698\ttotal: 388ms\tremaining: 163ms\n",
      "704:\tlearn: 0.0203629\ttotal: 388ms\tremaining: 162ms\n",
      "705:\tlearn: 0.0202877\ttotal: 389ms\tremaining: 162ms\n",
      "706:\tlearn: 0.0202050\ttotal: 389ms\tremaining: 161ms\n",
      "707:\tlearn: 0.0201253\ttotal: 390ms\tremaining: 161ms\n",
      "708:\tlearn: 0.0200369\ttotal: 390ms\tremaining: 160ms\n",
      "709:\tlearn: 0.0199331\ttotal: 391ms\tremaining: 160ms\n",
      "710:\tlearn: 0.0198325\ttotal: 391ms\tremaining: 159ms\n",
      "711:\tlearn: 0.0197529\ttotal: 392ms\tremaining: 158ms\n",
      "712:\tlearn: 0.0196759\ttotal: 392ms\tremaining: 158ms\n",
      "713:\tlearn: 0.0195754\ttotal: 393ms\tremaining: 157ms\n",
      "714:\tlearn: 0.0194798\ttotal: 393ms\tremaining: 157ms\n",
      "715:\tlearn: 0.0194440\ttotal: 394ms\tremaining: 156ms\n",
      "716:\tlearn: 0.0193797\ttotal: 394ms\tremaining: 156ms\n",
      "717:\tlearn: 0.0193122\ttotal: 394ms\tremaining: 155ms\n",
      "718:\tlearn: 0.0192164\ttotal: 395ms\tremaining: 154ms\n",
      "719:\tlearn: 0.0191506\ttotal: 396ms\tremaining: 154ms\n",
      "720:\tlearn: 0.0190771\ttotal: 396ms\tremaining: 153ms\n",
      "721:\tlearn: 0.0190628\ttotal: 397ms\tremaining: 153ms\n",
      "722:\tlearn: 0.0190011\ttotal: 397ms\tremaining: 152ms\n",
      "723:\tlearn: 0.0189869\ttotal: 398ms\tremaining: 152ms\n",
      "724:\tlearn: 0.0189729\ttotal: 398ms\tremaining: 151ms\n",
      "725:\tlearn: 0.0188821\ttotal: 399ms\tremaining: 150ms\n",
      "726:\tlearn: 0.0188683\ttotal: 399ms\tremaining: 150ms\n",
      "727:\tlearn: 0.0188548\ttotal: 400ms\tremaining: 149ms\n",
      "728:\tlearn: 0.0187938\ttotal: 400ms\tremaining: 149ms\n",
      "729:\tlearn: 0.0187802\ttotal: 401ms\tremaining: 148ms\n",
      "730:\tlearn: 0.0187456\ttotal: 401ms\tremaining: 148ms\n",
      "731:\tlearn: 0.0186545\ttotal: 402ms\tremaining: 147ms\n",
      "732:\tlearn: 0.0186059\ttotal: 402ms\tremaining: 147ms\n",
      "733:\tlearn: 0.0185903\ttotal: 403ms\tremaining: 146ms\n",
      "734:\tlearn: 0.0185306\ttotal: 403ms\tremaining: 145ms\n",
      "735:\tlearn: 0.0185153\ttotal: 403ms\tremaining: 145ms\n",
      "736:\tlearn: 0.0185001\ttotal: 404ms\tremaining: 144ms\n",
      "737:\tlearn: 0.0184122\ttotal: 404ms\tremaining: 144ms\n",
      "738:\tlearn: 0.0183993\ttotal: 405ms\tremaining: 143ms\n",
      "739:\tlearn: 0.0183404\ttotal: 405ms\tremaining: 142ms\n",
      "740:\tlearn: 0.0183277\ttotal: 406ms\tremaining: 142ms\n",
      "741:\tlearn: 0.0182942\ttotal: 406ms\tremaining: 141ms\n",
      "742:\tlearn: 0.0182365\ttotal: 406ms\tremaining: 141ms\n",
      "743:\tlearn: 0.0182237\ttotal: 407ms\tremaining: 140ms\n",
      "744:\tlearn: 0.0181906\ttotal: 407ms\tremaining: 139ms\n",
      "745:\tlearn: 0.0181059\ttotal: 408ms\tremaining: 139ms\n",
      "746:\tlearn: 0.0180915\ttotal: 408ms\tremaining: 138ms\n",
      "747:\tlearn: 0.0180348\ttotal: 409ms\tremaining: 138ms\n",
      "748:\tlearn: 0.0180207\ttotal: 409ms\tremaining: 137ms\n",
      "749:\tlearn: 0.0180083\ttotal: 409ms\tremaining: 136ms\n",
      "750:\tlearn: 0.0179773\ttotal: 410ms\tremaining: 136ms\n",
      "751:\tlearn: 0.0179093\ttotal: 410ms\tremaining: 135ms\n",
      "752:\tlearn: 0.0178536\ttotal: 411ms\tremaining: 135ms\n",
      "753:\tlearn: 0.0178215\ttotal: 411ms\tremaining: 134ms\n",
      "754:\tlearn: 0.0177259\ttotal: 412ms\tremaining: 134ms\n"
     ]
    },
    {
     "name": "stdout",
     "output_type": "stream",
     "text": [
      "755:\tlearn: 0.0176943\ttotal: 413ms\tremaining: 133ms\n",
      "756:\tlearn: 0.0176134\ttotal: 413ms\tremaining: 133ms\n",
      "757:\tlearn: 0.0175571\ttotal: 414ms\tremaining: 132ms\n",
      "758:\tlearn: 0.0174932\ttotal: 414ms\tremaining: 131ms\n",
      "759:\tlearn: 0.0174797\ttotal: 415ms\tremaining: 131ms\n",
      "760:\tlearn: 0.0174247\ttotal: 415ms\tremaining: 130ms\n",
      "761:\tlearn: 0.0173712\ttotal: 416ms\tremaining: 130ms\n",
      "762:\tlearn: 0.0173579\ttotal: 416ms\tremaining: 129ms\n",
      "763:\tlearn: 0.0173475\ttotal: 417ms\tremaining: 129ms\n",
      "764:\tlearn: 0.0172941\ttotal: 417ms\tremaining: 128ms\n",
      "765:\tlearn: 0.0172838\ttotal: 418ms\tremaining: 128ms\n",
      "766:\tlearn: 0.0172709\ttotal: 418ms\tremaining: 127ms\n",
      "767:\tlearn: 0.0172608\ttotal: 419ms\tremaining: 127ms\n",
      "768:\tlearn: 0.0172003\ttotal: 419ms\tremaining: 126ms\n",
      "769:\tlearn: 0.0171903\ttotal: 420ms\tremaining: 125ms\n",
      "770:\tlearn: 0.0171369\ttotal: 420ms\tremaining: 125ms\n",
      "771:\tlearn: 0.0170861\ttotal: 421ms\tremaining: 124ms\n",
      "772:\tlearn: 0.0170736\ttotal: 421ms\tremaining: 124ms\n",
      "773:\tlearn: 0.0170638\ttotal: 422ms\tremaining: 123ms\n",
      "774:\tlearn: 0.0169927\ttotal: 422ms\tremaining: 123ms\n",
      "775:\tlearn: 0.0169806\ttotal: 424ms\tremaining: 122ms\n",
      "776:\tlearn: 0.0169687\ttotal: 425ms\tremaining: 122ms\n",
      "777:\tlearn: 0.0169310\ttotal: 425ms\tremaining: 121ms\n",
      "778:\tlearn: 0.0169215\ttotal: 425ms\tremaining: 121ms\n",
      "779:\tlearn: 0.0168720\ttotal: 426ms\tremaining: 120ms\n",
      "780:\tlearn: 0.0168626\ttotal: 426ms\tremaining: 120ms\n",
      "781:\tlearn: 0.0167855\ttotal: 427ms\tremaining: 119ms\n",
      "782:\tlearn: 0.0167738\ttotal: 427ms\tremaining: 118ms\n",
      "783:\tlearn: 0.0167371\ttotal: 428ms\tremaining: 118ms\n",
      "784:\tlearn: 0.0167256\ttotal: 428ms\tremaining: 117ms\n",
      "785:\tlearn: 0.0166641\ttotal: 429ms\tremaining: 117ms\n",
      "786:\tlearn: 0.0166279\ttotal: 430ms\tremaining: 116ms\n",
      "787:\tlearn: 0.0165601\ttotal: 430ms\tremaining: 116ms\n",
      "788:\tlearn: 0.0165510\ttotal: 430ms\tremaining: 115ms\n",
      "789:\tlearn: 0.0165420\ttotal: 431ms\tremaining: 115ms\n",
      "790:\tlearn: 0.0164676\ttotal: 432ms\tremaining: 114ms\n",
      "791:\tlearn: 0.0164263\ttotal: 432ms\tremaining: 113ms\n",
      "792:\tlearn: 0.0163925\ttotal: 432ms\tremaining: 113ms\n",
      "793:\tlearn: 0.0163819\ttotal: 433ms\tremaining: 112ms\n",
      "794:\tlearn: 0.0163471\ttotal: 433ms\tremaining: 112ms\n",
      "795:\tlearn: 0.0162822\ttotal: 434ms\tremaining: 111ms\n",
      "796:\tlearn: 0.0162735\ttotal: 434ms\tremaining: 111ms\n",
      "797:\tlearn: 0.0162145\ttotal: 435ms\tremaining: 110ms\n",
      "798:\tlearn: 0.0161804\ttotal: 435ms\tremaining: 110ms\n",
      "799:\tlearn: 0.0161172\ttotal: 436ms\tremaining: 109ms\n",
      "800:\tlearn: 0.0161086\ttotal: 436ms\tremaining: 108ms\n",
      "801:\tlearn: 0.0160374\ttotal: 437ms\tremaining: 108ms\n",
      "802:\tlearn: 0.0160288\ttotal: 437ms\tremaining: 107ms\n",
      "803:\tlearn: 0.0159894\ttotal: 438ms\tremaining: 107ms\n",
      "804:\tlearn: 0.0159441\ttotal: 438ms\tremaining: 106ms\n",
      "805:\tlearn: 0.0158915\ttotal: 438ms\tremaining: 106ms\n",
      "806:\tlearn: 0.0158439\ttotal: 439ms\tremaining: 105ms\n",
      "807:\tlearn: 0.0158354\ttotal: 439ms\tremaining: 104ms\n",
      "808:\tlearn: 0.0157793\ttotal: 440ms\tremaining: 104ms\n",
      "809:\tlearn: 0.0157185\ttotal: 440ms\tremaining: 103ms\n",
      "810:\tlearn: 0.0156373\ttotal: 441ms\tremaining: 103ms\n",
      "811:\tlearn: 0.0156278\ttotal: 441ms\tremaining: 102ms\n",
      "812:\tlearn: 0.0155453\ttotal: 442ms\tremaining: 102ms\n",
      "813:\tlearn: 0.0154861\ttotal: 442ms\tremaining: 101ms\n",
      "814:\tlearn: 0.0154542\ttotal: 443ms\tremaining: 100ms\n",
      "815:\tlearn: 0.0154042\ttotal: 443ms\tremaining: 99.9ms\n",
      "816:\tlearn: 0.0153455\ttotal: 444ms\tremaining: 99.5ms\n",
      "817:\tlearn: 0.0153143\ttotal: 444ms\tremaining: 98.9ms\n",
      "818:\tlearn: 0.0152707\ttotal: 445ms\tremaining: 98.3ms\n",
      "819:\tlearn: 0.0151931\ttotal: 446ms\tremaining: 97.8ms\n",
      "820:\tlearn: 0.0151627\ttotal: 446ms\tremaining: 97.2ms\n",
      "821:\tlearn: 0.0151329\ttotal: 446ms\tremaining: 96.7ms\n",
      "822:\tlearn: 0.0150573\ttotal: 447ms\tremaining: 96.1ms\n",
      "823:\tlearn: 0.0150293\ttotal: 447ms\tremaining: 95.5ms\n",
      "824:\tlearn: 0.0149811\ttotal: 448ms\tremaining: 95ms\n",
      "825:\tlearn: 0.0149177\ttotal: 448ms\tremaining: 94.4ms\n",
      "826:\tlearn: 0.0148882\ttotal: 449ms\tremaining: 93.8ms\n",
      "827:\tlearn: 0.0148606\ttotal: 449ms\tremaining: 93.3ms\n",
      "828:\tlearn: 0.0147988\ttotal: 449ms\tremaining: 92.7ms\n",
      "829:\tlearn: 0.0147716\ttotal: 450ms\tremaining: 92.1ms\n",
      "830:\tlearn: 0.0147448\ttotal: 450ms\tremaining: 91.6ms\n",
      "831:\tlearn: 0.0146847\ttotal: 451ms\tremaining: 91ms\n",
      "832:\tlearn: 0.0146554\ttotal: 451ms\tremaining: 90.5ms\n",
      "833:\tlearn: 0.0146289\ttotal: 452ms\tremaining: 89.9ms\n",
      "834:\tlearn: 0.0146027\ttotal: 452ms\tremaining: 89.4ms\n",
      "835:\tlearn: 0.0145561\ttotal: 453ms\tremaining: 88.8ms\n",
      "836:\tlearn: 0.0144977\ttotal: 453ms\tremaining: 88.3ms\n",
      "837:\tlearn: 0.0144401\ttotal: 454ms\tremaining: 87.7ms\n",
      "838:\tlearn: 0.0144143\ttotal: 454ms\tremaining: 87.2ms\n",
      "839:\tlearn: 0.0143581\ttotal: 455ms\tremaining: 86.6ms\n",
      "840:\tlearn: 0.0143325\ttotal: 455ms\tremaining: 86.1ms\n",
      "841:\tlearn: 0.0142777\ttotal: 456ms\tremaining: 85.5ms\n",
      "842:\tlearn: 0.0142523\ttotal: 456ms\tremaining: 85ms\n",
      "843:\tlearn: 0.0141986\ttotal: 457ms\tremaining: 84.4ms\n",
      "844:\tlearn: 0.0141736\ttotal: 457ms\tremaining: 83.9ms\n",
      "845:\tlearn: 0.0141488\ttotal: 458ms\tremaining: 83.3ms\n",
      "846:\tlearn: 0.0141046\ttotal: 458ms\tremaining: 82.7ms\n",
      "847:\tlearn: 0.0140725\ttotal: 458ms\tremaining: 82.2ms\n",
      "848:\tlearn: 0.0140168\ttotal: 459ms\tremaining: 81.6ms\n",
      "849:\tlearn: 0.0139806\ttotal: 459ms\tremaining: 81.1ms\n",
      "850:\tlearn: 0.0139561\ttotal: 460ms\tremaining: 80.5ms\n",
      "851:\tlearn: 0.0139319\ttotal: 460ms\tremaining: 80ms\n",
      "852:\tlearn: 0.0138797\ttotal: 461ms\tremaining: 79.4ms\n",
      "853:\tlearn: 0.0138557\ttotal: 461ms\tremaining: 78.9ms\n",
      "854:\tlearn: 0.0138202\ttotal: 462ms\tremaining: 78.3ms\n",
      "855:\tlearn: 0.0137696\ttotal: 462ms\tremaining: 77.8ms\n",
      "856:\tlearn: 0.0137457\ttotal: 463ms\tremaining: 77.2ms\n",
      "857:\tlearn: 0.0137059\ttotal: 463ms\tremaining: 76.6ms\n",
      "858:\tlearn: 0.0136823\ttotal: 464ms\tremaining: 76.1ms\n",
      "859:\tlearn: 0.0136394\ttotal: 464ms\tremaining: 75.5ms\n",
      "860:\tlearn: 0.0135805\ttotal: 464ms\tremaining: 75ms\n",
      "861:\tlearn: 0.0135238\ttotal: 465ms\tremaining: 74.4ms\n",
      "862:\tlearn: 0.0135007\ttotal: 465ms\tremaining: 73.9ms\n",
      "863:\tlearn: 0.0134778\ttotal: 466ms\tremaining: 73.3ms\n",
      "864:\tlearn: 0.0134436\ttotal: 466ms\tremaining: 72.8ms\n",
      "865:\tlearn: 0.0134210\ttotal: 467ms\tremaining: 72.2ms\n",
      "866:\tlearn: 0.0133666\ttotal: 467ms\tremaining: 71.7ms\n",
      "867:\tlearn: 0.0133285\ttotal: 468ms\tremaining: 71.1ms\n",
      "868:\tlearn: 0.0132951\ttotal: 468ms\tremaining: 70.5ms\n",
      "869:\tlearn: 0.0132727\ttotal: 468ms\tremaining: 70ms\n",
      "870:\tlearn: 0.0132250\ttotal: 469ms\tremaining: 69.4ms\n",
      "871:\tlearn: 0.0132028\ttotal: 469ms\tremaining: 68.8ms\n",
      "872:\tlearn: 0.0131623\ttotal: 470ms\tremaining: 68.3ms\n",
      "873:\tlearn: 0.0131308\ttotal: 470ms\tremaining: 67.8ms\n",
      "874:\tlearn: 0.0130941\ttotal: 470ms\tremaining: 67.2ms\n",
      "875:\tlearn: 0.0130366\ttotal: 471ms\tremaining: 66.6ms\n",
      "876:\tlearn: 0.0129803\ttotal: 471ms\tremaining: 66.1ms\n",
      "877:\tlearn: 0.0129586\ttotal: 472ms\tremaining: 65.6ms\n",
      "878:\tlearn: 0.0129225\ttotal: 472ms\tremaining: 65ms\n",
      "879:\tlearn: 0.0128827\ttotal: 473ms\tremaining: 64.5ms\n",
      "880:\tlearn: 0.0128314\ttotal: 473ms\tremaining: 63.9ms\n",
      "881:\tlearn: 0.0128101\ttotal: 474ms\tremaining: 63.4ms\n",
      "882:\tlearn: 0.0127890\ttotal: 474ms\tremaining: 62.8ms\n",
      "883:\tlearn: 0.0127539\ttotal: 475ms\tremaining: 62.3ms\n",
      "884:\tlearn: 0.0127185\ttotal: 475ms\tremaining: 61.7ms\n",
      "885:\tlearn: 0.0126796\ttotal: 476ms\tremaining: 61.2ms\n",
      "886:\tlearn: 0.0126511\ttotal: 476ms\tremaining: 60.6ms\n",
      "887:\tlearn: 0.0126145\ttotal: 476ms\tremaining: 60.1ms\n",
      "888:\tlearn: 0.0125868\ttotal: 477ms\tremaining: 59.5ms\n",
      "889:\tlearn: 0.0125659\ttotal: 477ms\tremaining: 59ms\n",
      "890:\tlearn: 0.0125124\ttotal: 478ms\tremaining: 58.4ms\n",
      "891:\tlearn: 0.0124783\ttotal: 478ms\tremaining: 57.9ms\n",
      "892:\tlearn: 0.0124429\ttotal: 479ms\tremaining: 57.3ms\n",
      "893:\tlearn: 0.0124224\ttotal: 479ms\tremaining: 56.8ms\n",
      "894:\tlearn: 0.0123890\ttotal: 479ms\tremaining: 56.2ms\n",
      "895:\tlearn: 0.0123513\ttotal: 480ms\tremaining: 55.7ms\n",
      "896:\tlearn: 0.0123246\ttotal: 480ms\tremaining: 55.1ms\n",
      "897:\tlearn: 0.0122903\ttotal: 481ms\tremaining: 54.6ms\n",
      "898:\tlearn: 0.0122643\ttotal: 481ms\tremaining: 54.1ms\n",
      "899:\tlearn: 0.0122308\ttotal: 482ms\tremaining: 53.5ms\n",
      "900:\tlearn: 0.0122057\ttotal: 482ms\tremaining: 53ms\n",
      "901:\tlearn: 0.0121853\ttotal: 483ms\tremaining: 52.5ms\n",
      "902:\tlearn: 0.0121340\ttotal: 483ms\tremaining: 51.9ms\n",
      "903:\tlearn: 0.0121140\ttotal: 484ms\tremaining: 51.4ms\n",
      "904:\tlearn: 0.0120942\ttotal: 484ms\tremaining: 50.8ms\n",
      "905:\tlearn: 0.0120469\ttotal: 485ms\tremaining: 50.3ms\n",
      "906:\tlearn: 0.0120274\ttotal: 485ms\tremaining: 49.7ms\n",
      "907:\tlearn: 0.0120080\ttotal: 486ms\tremaining: 49.2ms\n",
      "908:\tlearn: 0.0119531\ttotal: 486ms\tremaining: 48.7ms\n",
      "909:\tlearn: 0.0119215\ttotal: 487ms\tremaining: 48.1ms\n",
      "910:\tlearn: 0.0118897\ttotal: 487ms\tremaining: 47.6ms\n",
      "911:\tlearn: 0.0118585\ttotal: 488ms\tremaining: 47ms\n",
      "912:\tlearn: 0.0118279\ttotal: 488ms\tremaining: 46.5ms\n",
      "913:\tlearn: 0.0117987\ttotal: 489ms\tremaining: 46ms\n",
      "914:\tlearn: 0.0117704\ttotal: 489ms\tremaining: 45.4ms\n",
      "915:\tlearn: 0.0117282\ttotal: 490ms\tremaining: 44.9ms\n",
      "916:\tlearn: 0.0117024\ttotal: 490ms\tremaining: 44.4ms\n",
      "917:\tlearn: 0.0116687\ttotal: 491ms\tremaining: 43.8ms\n",
      "918:\tlearn: 0.0116388\ttotal: 491ms\tremaining: 43.3ms\n",
      "919:\tlearn: 0.0116098\ttotal: 492ms\tremaining: 42.8ms\n",
      "920:\tlearn: 0.0116018\ttotal: 492ms\tremaining: 42.2ms\n",
      "921:\tlearn: 0.0115736\ttotal: 493ms\tremaining: 41.7ms\n",
      "922:\tlearn: 0.0115322\ttotal: 493ms\tremaining: 41.1ms\n",
      "923:\tlearn: 0.0114908\ttotal: 494ms\tremaining: 40.6ms\n",
      "924:\tlearn: 0.0114829\ttotal: 494ms\tremaining: 40.1ms\n",
      "925:\tlearn: 0.0114542\ttotal: 494ms\tremaining: 39.5ms\n",
      "926:\tlearn: 0.0114269\ttotal: 495ms\tremaining: 39ms\n",
      "927:\tlearn: 0.0114192\ttotal: 495ms\tremaining: 38.4ms\n",
      "928:\tlearn: 0.0113790\ttotal: 496ms\tremaining: 37.9ms\n",
      "929:\tlearn: 0.0113478\ttotal: 496ms\tremaining: 37.4ms\n",
      "930:\tlearn: 0.0113172\ttotal: 497ms\tremaining: 36.8ms\n",
      "931:\tlearn: 0.0113097\ttotal: 497ms\tremaining: 36.3ms\n",
      "932:\tlearn: 0.0112947\ttotal: 498ms\tremaining: 35.7ms\n",
      "933:\tlearn: 0.0112712\ttotal: 498ms\tremaining: 35.2ms\n",
      "934:\tlearn: 0.0112470\ttotal: 499ms\tremaining: 34.7ms\n",
      "935:\tlearn: 0.0112199\ttotal: 499ms\tremaining: 34.1ms\n",
      "936:\tlearn: 0.0111960\ttotal: 500ms\tremaining: 33.6ms\n",
      "937:\tlearn: 0.0111725\ttotal: 500ms\tremaining: 33.1ms\n",
      "938:\tlearn: 0.0111544\ttotal: 501ms\tremaining: 32.5ms\n",
      "939:\tlearn: 0.0111156\ttotal: 502ms\tremaining: 32ms\n",
      "940:\tlearn: 0.0110763\ttotal: 502ms\tremaining: 31.5ms\n",
      "941:\tlearn: 0.0110538\ttotal: 503ms\tremaining: 30.9ms\n",
      "942:\tlearn: 0.0110307\ttotal: 503ms\tremaining: 30.4ms\n"
     ]
    },
    {
     "name": "stdout",
     "output_type": "stream",
     "text": [
      "943:\tlearn: 0.0110043\ttotal: 504ms\tremaining: 29.9ms\n",
      "944:\tlearn: 0.0109867\ttotal: 504ms\tremaining: 29.3ms\n",
      "945:\tlearn: 0.0109638\ttotal: 505ms\tremaining: 28.8ms\n",
      "946:\tlearn: 0.0109258\ttotal: 505ms\tremaining: 28.3ms\n",
      "947:\tlearn: 0.0109033\ttotal: 506ms\tremaining: 27.7ms\n",
      "948:\tlearn: 0.0108776\ttotal: 506ms\tremaining: 27.2ms\n",
      "949:\tlearn: 0.0108554\ttotal: 506ms\tremaining: 26.7ms\n",
      "950:\tlearn: 0.0108380\ttotal: 507ms\tremaining: 26.1ms\n",
      "951:\tlearn: 0.0108165\ttotal: 507ms\tremaining: 25.6ms\n",
      "952:\tlearn: 0.0107913\ttotal: 508ms\tremaining: 25ms\n",
      "953:\tlearn: 0.0107742\ttotal: 508ms\tremaining: 24.5ms\n",
      "954:\tlearn: 0.0107523\ttotal: 509ms\tremaining: 24ms\n",
      "955:\tlearn: 0.0107354\ttotal: 510ms\tremaining: 23.4ms\n",
      "956:\tlearn: 0.0107138\ttotal: 510ms\tremaining: 22.9ms\n",
      "957:\tlearn: 0.0106970\ttotal: 510ms\tremaining: 22.4ms\n",
      "958:\tlearn: 0.0106726\ttotal: 511ms\tremaining: 21.8ms\n",
      "959:\tlearn: 0.0106553\ttotal: 511ms\tremaining: 21.3ms\n",
      "960:\tlearn: 0.0106339\ttotal: 512ms\tremaining: 20.8ms\n",
      "961:\tlearn: 0.0106119\ttotal: 512ms\tremaining: 20.2ms\n",
      "962:\tlearn: 0.0105947\ttotal: 513ms\tremaining: 19.7ms\n",
      "963:\tlearn: 0.0105785\ttotal: 513ms\tremaining: 19.2ms\n",
      "964:\tlearn: 0.0105508\ttotal: 514ms\tremaining: 18.6ms\n",
      "965:\tlearn: 0.0105271\ttotal: 514ms\tremaining: 18.1ms\n",
      "966:\tlearn: 0.0105061\ttotal: 514ms\tremaining: 17.6ms\n",
      "967:\tlearn: 0.0104846\ttotal: 515ms\tremaining: 17ms\n",
      "968:\tlearn: 0.0104684\ttotal: 515ms\tremaining: 16.5ms\n",
      "969:\tlearn: 0.0104525\ttotal: 516ms\tremaining: 16ms\n",
      "970:\tlearn: 0.0104313\ttotal: 516ms\tremaining: 15.4ms\n",
      "971:\tlearn: 0.0104155\ttotal: 517ms\tremaining: 14.9ms\n",
      "972:\tlearn: 0.0103998\ttotal: 517ms\tremaining: 14.4ms\n",
      "973:\tlearn: 0.0103844\ttotal: 518ms\tremaining: 13.8ms\n",
      "974:\tlearn: 0.0103635\ttotal: 518ms\tremaining: 13.3ms\n",
      "975:\tlearn: 0.0103481\ttotal: 519ms\tremaining: 12.8ms\n",
      "976:\tlearn: 0.0103200\ttotal: 520ms\tremaining: 12.2ms\n",
      "977:\tlearn: 0.0102740\ttotal: 520ms\tremaining: 11.7ms\n",
      "978:\tlearn: 0.0102572\ttotal: 520ms\tremaining: 11.2ms\n",
      "979:\tlearn: 0.0102045\ttotal: 521ms\tremaining: 10.6ms\n",
      "980:\tlearn: 0.0101786\ttotal: 522ms\tremaining: 10.1ms\n",
      "981:\tlearn: 0.0101521\ttotal: 522ms\tremaining: 9.57ms\n",
      "982:\tlearn: 0.0101357\ttotal: 523ms\tremaining: 9.04ms\n",
      "983:\tlearn: 0.0101206\ttotal: 523ms\tremaining: 8.51ms\n",
      "984:\tlearn: 0.0100934\ttotal: 524ms\tremaining: 7.97ms\n",
      "985:\tlearn: 0.0100683\ttotal: 524ms\tremaining: 7.44ms\n",
      "986:\tlearn: 0.0100536\ttotal: 525ms\tremaining: 6.91ms\n",
      "987:\tlearn: 0.0100005\ttotal: 525ms\tremaining: 6.38ms\n",
      "988:\tlearn: 0.0099667\ttotal: 526ms\tremaining: 5.85ms\n",
      "989:\tlearn: 0.0099429\ttotal: 526ms\tremaining: 5.31ms\n",
      "990:\tlearn: 0.0099043\ttotal: 527ms\tremaining: 4.78ms\n",
      "991:\tlearn: 0.0098793\ttotal: 527ms\tremaining: 4.25ms\n",
      "992:\tlearn: 0.0098591\ttotal: 528ms\tremaining: 3.72ms\n",
      "993:\tlearn: 0.0098090\ttotal: 528ms\tremaining: 3.19ms\n",
      "994:\tlearn: 0.0097685\ttotal: 529ms\tremaining: 2.66ms\n",
      "995:\tlearn: 0.0097426\ttotal: 529ms\tremaining: 2.13ms\n",
      "996:\tlearn: 0.0097198\ttotal: 530ms\tremaining: 1.59ms\n",
      "997:\tlearn: 0.0097002\ttotal: 531ms\tremaining: 1.06ms\n",
      "998:\tlearn: 0.0096495\ttotal: 531ms\tremaining: 531us\n",
      "999:\tlearn: 0.0096181\ttotal: 532ms\tremaining: 0us\n"
     ]
    },
    {
     "data": {
      "text/plain": [
       "<catboost.core.CatBoostRegressor at 0x7f899b5b8e80>"
      ]
     },
     "execution_count": 9,
     "metadata": {},
     "output_type": "execute_result"
    }
   ],
   "source": [
    "#Train the Model \n",
    "prior_model = ctb.CatBoostRegressor()\n",
    "prior_model.fit(X_train,Y_train)"
   ]
  },
  {
   "cell_type": "code",
   "execution_count": 10,
   "id": "af65dcda",
   "metadata": {
    "execution": {
     "iopub.execute_input": "2022-06-07T09:47:59.286300Z",
     "iopub.status.busy": "2022-06-07T09:47:59.285911Z",
     "iopub.status.idle": "2022-06-07T09:47:59.293202Z",
     "shell.execute_reply": "2022-06-07T09:47:59.293493Z"
    },
    "id": "af65dcda",
    "papermill": {
     "duration": 0.020494,
     "end_time": "2022-06-07T09:47:59.293610",
     "exception": false,
     "start_time": "2022-06-07T09:47:59.273116",
     "status": "completed"
    },
    "tags": []
   },
   "outputs": [
    {
     "data": {
      "application/scrapbook.scrap.json+json": {
       "data": 0.13035060456946676,
       "encoder": "json",
       "name": "Prior Model MSE",
       "version": 1
      }
     },
     "metadata": {
      "scrapbook": {
       "data": true,
       "display": false,
       "name": "Prior Model MSE"
      }
     },
     "output_type": "display_data"
    },
    {
     "data": {
      "application/scrapbook.scrap.json+json": {
       "data": 0.1460560819090679,
       "encoder": "json",
       "name": "ABC Pre-generator MSE",
       "version": 1
      }
     },
     "metadata": {
      "scrapbook": {
       "data": true,
       "display": false,
       "name": "ABC Pre-generator MSE"
      }
     },
     "output_type": "display_data"
    },
    {
     "data": {
      "application/scrapbook.scrap.json+json": {
       "data": 0.27113409580594233,
       "encoder": "json",
       "name": "Prior Model MSE",
       "version": 1
      }
     },
     "metadata": {
      "scrapbook": {
       "data": true,
       "display": false,
       "name": "Prior Model MSE"
      }
     },
     "output_type": "display_data"
    },
    {
     "data": {
      "application/scrapbook.scrap.json+json": {
       "data": 0.2916310625512773,
       "encoder": "json",
       "name": "ABC Pre-generator MSE",
       "version": 1
      }
     },
     "metadata": {
      "scrapbook": {
       "data": true,
       "display": false,
       "name": "ABC Pre-generator MSE"
      }
     },
     "output_type": "display_data"
    }
   ],
   "source": [
    "y_pred = prior_model.predict(X_test)\n",
    "y_abc = y_pred + np.random.normal(0,variance, y_pred.shape) + bias \n",
    "mse = mean_squared_error(y_pred,Y_test)\n",
    "sb.glue(\"Prior Model MSE\",mse)\n",
    "mse = mean_squared_error(y_abc,Y_test)\n",
    "sb.glue(\"ABC Pre-generator MSE\",mse)\n",
    "mae = mean_absolute_error(y_pred,Y_test)\n",
    "sb.glue(\"Prior Model MSE\",mae)\n",
    "mae = mean_absolute_error(y_abc,Y_test)\n",
    "sb.glue(\"ABC Pre-generator MSE\",mae)"
   ]
  },
  {
   "cell_type": "markdown",
   "id": "25609da2",
   "metadata": {
    "papermill": {
     "duration": 0.009424,
     "end_time": "2022-06-07T09:47:59.312830",
     "exception": false,
     "start_time": "2022-06-07T09:47:59.303406",
     "status": "completed"
    },
    "tags": []
   },
   "source": [
    "# ABC GAN Model"
   ]
  },
  {
   "cell_type": "code",
   "execution_count": 11,
   "id": "dfc3464d",
   "metadata": {
    "execution": {
     "iopub.execute_input": "2022-06-07T09:47:59.334576Z",
     "iopub.status.busy": "2022-06-07T09:47:59.334195Z",
     "iopub.status.idle": "2022-06-07T09:47:59.336670Z",
     "shell.execute_reply": "2022-06-07T09:47:59.336951Z"
    },
    "papermill": {
     "duration": 0.014786,
     "end_time": "2022-06-07T09:47:59.337059",
     "exception": false,
     "start_time": "2022-06-07T09:47:59.322273",
     "status": "completed"
    },
    "tags": []
   },
   "outputs": [],
   "source": [
    "gen = network.Generator(n_features+1).to(device)\n",
    "disc = network.Discriminator(n_features+1).to(device)\n",
    "\n",
    "criterion = torch.nn.BCELoss()\n",
    "gen_opt = torch.optim.Adam(gen.parameters(), lr=0.001, betas=(0.5, 0.999))\n",
    "disc_opt = torch.optim.Adam(disc.parameters(), lr=0.001, betas=(0.5, 0.999))"
   ]
  },
  {
   "cell_type": "code",
   "execution_count": 12,
   "id": "b75fdd85",
   "metadata": {
    "execution": {
     "iopub.execute_input": "2022-06-07T09:47:59.358436Z",
     "iopub.status.busy": "2022-06-07T09:47:59.358066Z",
     "iopub.status.idle": "2022-06-07T09:48:12.869257Z",
     "shell.execute_reply": "2022-06-07T09:48:12.869555Z"
    },
    "papermill": {
     "duration": 13.522901,
     "end_time": "2022-06-07T09:48:12.869676",
     "exception": false,
     "start_time": "2022-06-07T09:47:59.346775",
     "status": "completed"
    },
    "tags": []
   },
   "outputs": [
    {
     "data": {
      "image/png": "[encoded data removed]",
      "text/plain": [
       "<Figure size 432x288 with 1 Axes>"
      ]
     },
     "metadata": {
      "needs_background": "light"
     },
     "output_type": "display_data"
    },
    {
     "data": {
      "image/png": "[encoded data removed]",
      "text/plain": [
       "<Figure size 432x288 with 1 Axes>"
      ]
     },
     "metadata": {
      "needs_background": "light"
     },
     "output_type": "display_data"
    }
   ],
   "source": [
    "#Training the ABC_GAN \n",
    "ABC_train_test2.training_GAN(disc,gen,disc_opt,gen_opt,train_data,batch_size,n_epochs,criterion,prior_model,variance,bias,device)"
   ]
  },
  {
   "cell_type": "code",
   "execution_count": 13,
   "id": "1fa7c368",
   "metadata": {
    "execution": {
     "iopub.execute_input": "2022-06-07T09:48:12.894058Z",
     "iopub.status.busy": "2022-06-07T09:48:12.893679Z",
     "iopub.status.idle": "2022-06-07T09:48:13.066541Z",
     "shell.execute_reply": "2022-06-07T09:48:13.066944Z"
    },
    "papermill": {
     "duration": 0.186222,
     "end_time": "2022-06-07T09:48:13.067070",
     "exception": false,
     "start_time": "2022-06-07T09:48:12.880848",
     "status": "completed"
    },
    "tags": []
   },
   "outputs": [
    {
     "data": {
      "application/scrapbook.scrap.json+json": {
       "data": 0.11843987539773712,
       "encoder": "json",
       "name": "ABC-GAN Model 1 MSE",
       "version": 1
      }
     },
     "metadata": {
      "scrapbook": {
       "data": true,
       "display": false,
       "name": "ABC-GAN Model 1 MSE"
      }
     },
     "output_type": "display_data"
    },
    {
     "data": {
      "application/scrapbook.scrap.json+json": {
       "data": 0.2617930155470967,
       "encoder": "json",
       "name": "ABC-GAN Model 1 MAE",
       "version": 1
      }
     },
     "metadata": {
      "scrapbook": {
       "data": true,
       "display": false,
       "name": "ABC-GAN Model 1 MAE"
      }
     },
     "output_type": "display_data"
    },
    {
     "data": {
      "application/scrapbook.scrap.json+json": {
       "data": 5.235860310941934,
       "encoder": "json",
       "name": "ABC-GAN Model 1 Manhattan Distance",
       "version": 1
      }
     },
     "metadata": {
      "scrapbook": {
       "data": true,
       "display": false,
       "name": "ABC-GAN Model 1 Manhattan Distance"
      }
     },
     "output_type": "display_data"
    },
    {
     "data": {
      "application/scrapbook.scrap.json+json": {
       "data": 1.5390656125904227,
       "encoder": "json",
       "name": "ABC-GAN Model 1 Euclidean distance",
       "version": 1
      }
     },
     "metadata": {
      "scrapbook": {
       "data": true,
       "display": false,
       "name": "ABC-GAN Model 1 Euclidean distance"
      }
     },
     "output_type": "display_data"
    },
    {
     "data": {
      "application/scrapbook.scrap.json+json": {
       "data": [
        [
         0.11745307636109543,
         0.11858257663096147,
         0.11861335860690776,
         0.11801338340173233,
         0.11718556590830516,
         0.12011737383928267,
         0.11803153976483216,
         0.11962284900682292,
         0.11801778504999665,
         0.11554166073774927,
         0.1191684361755558,
         0.11720539551507836,
         0.11710524094860722,
         0.11626549305985764,
         0.11745606025209883,
         0.11944492267124036,
         0.11906719435386708,
         0.11971085047170087,
         0.11731488339701049,
         0.11770689369073564,
         0.11886647209789629,
         0.12025518594852676,
         0.1180732328794671,
         0.11850289962069724,
         0.11788550727088094,
         0.12006956448791288,
         0.11871518405187906,
         0.1168331767199589,
         0.11911408212431888,
         0.11810516136779885,
         0.11643771268073307,
         0.12005695037274458,
         0.11803842789822117,
         0.1178335844864716,
         0.11969647630507296,
         0.11650842401645219,
         0.12000456764926563,
         0.1178613232790012,
         0.11979916547247807,
         0.11778435767451456,
         0.11691622866625032,
         0.117575148341918,
         0.12166904928715509,
         0.11902335505321804,
         0.11625727593412231,
         0.1191984662942736,
         0.11885981076905013,
         0.11873890776000198,
         0.11661133595136328,
         0.11578485461689628,
         0.11719357890576505,
         0.11745065547784161,
         0.12156320469525679,
         0.11947119606842808,
         0.12018316136922076,
         0.11962131315211186,
         0.11990651673813542,
         0.1179770354659316,
         0.11973658165882106,
         0.118479466637885,
         0.11926659023054302,
         0.11782854297789887,
         0.117319333388166,
         0.11789519318842889,
         0.11775557108704979,
         0.11924658816434705,
         0.12066071496171715,
         0.11771406897702522,
         0.11867917882349288,
         0.11823763215109602,
         0.11854415243096031,
         0.11831711717134026,
         0.11764244701341327,
         0.12010402006954779,
         0.11640661981753486,
         0.11921574829088813,
         0.11682623971405275,
         0.11644370069318119,
         0.11832991284028985,
         0.11713611045613129,
         0.11936079171107786,
         0.11612906421352606,
         0.12034343776249523,
         0.11805362823800696,
         0.12069003887150509,
         0.11957676522684624,
         0.11751391258580073,
         0.11904165089396332,
         0.11770124491902878,
         0.11773778124649273,
         0.11738332036934454,
         0.12150433124512654,
         0.1161477384308716,
         0.11912811048627248,
         0.11916970794608735,
         0.11899126173472079,
         0.11843104667499671,
         0.12055000895003798,
         0.11907630218009073,
         0.11960477454893977
        ],
        [
         0.26017069481313226,
         0.2605157677084208,
         0.26275722719728944,
         0.25943360067904,
         0.26026113964617253,
         0.261078130081296,
         0.2611055340617895,
         0.2671825807541609,
         0.26195430643856527,
         0.25859834142029287,
         0.2613654348999262,
         0.26013794504106047,
         0.26097422651946545,
         0.2613555762916803,
         0.25916066877543925,
         0.2634802121669054,
         0.26464712880551816,
         0.262711001560092,
         0.26113591752946375,
         0.2616511400789022,
         0.26309320889413357,
         0.2660698752850294,
         0.26212544478476046,
         0.2621740508824587,
         0.25928348414599894,
         0.2623696353286505,
         0.2630133930593729,
         0.25964011289179323,
         0.2637440707534552,
         0.26160874031484127,
         0.2587537456303835,
         0.2622467461973429,
         0.2595996122807264,
         0.2611574973911047,
         0.26290219016373156,
         0.259132768586278,
         0.26321954019367694,
         0.26010902784764767,
         0.2641484197229147,
         0.26097613759338856,
         0.26096347980201245,
         0.2606794726103544,
         0.264890967682004,
         0.2634183507412672,
         0.2587333206087351,
         0.261032347753644,
         0.2620473805814981,
         0.2613932903856039,
         0.25904979445040227,
         0.2579977985471487,
         0.2601667080074549,
         0.26165192387998104,
         0.26570947505533693,
         0.262872764095664,
         0.26351616717875004,
         0.2624608512967825,
         0.26423804499208925,
         0.2591266330331564,
         0.26486260406672957,
         0.26167041845619676,
         0.26428331024944784,
         0.2609851356595755,
         0.2608012963086367,
         0.2607240702956915,
         0.2609147671610117,
         0.2630570951849222,
         0.26418135203421117,
         0.26205717884004115,
         0.2616346303373575,
         0.25997618697583674,
         0.2627126481384039,
         0.26143401227891444,
         0.26058107875287534,
         0.26245558448135853,
         0.258935871347785,
         0.2640971358865499,
         0.2593864809721708,
         0.25860173664987085,
         0.261885791644454,
         0.26100670658051967,
         0.2626911919564009,
         0.26112712509930136,
         0.2624613080173731,
         0.2623593393713236,
         0.26353146098554137,
         0.26047642193734644,
         0.26013397611677647,
         0.26387627683579923,
         0.2611218821257353,
         0.2616828102618456,
         0.26206279136240485,
         0.2653023701161146,
         0.25943600945174694,
         0.2647839095443487,
         0.26174535043537617,
         0.2623158570379019,
         0.2636168640106916,
         0.26342624612152576,
         0.26321663446724414,
         0.26269559003412724
        ],
        [
         5.203413896262646,
         5.210315354168415,
         5.255144543945789,
         5.188672013580799,
         5.2052227929234505,
         5.221562601625919,
         5.22211068123579,
         5.343651615083218,
         5.239086128771305,
         5.171966828405857,
         5.227308697998524,
         5.202758900821209,
         5.219484530389309,
         5.227111525833607,
         5.183213375508785,
         5.269604243338108,
         5.292942576110363,
         5.2542200312018394,
         5.222718350589275,
         5.233022801578045,
         5.261864177882671,
         5.321397505700588,
         5.2425088956952095,
         5.243481017649174,
         5.185669682919979,
         5.2473927065730095,
         5.260267861187458,
         5.192802257835865,
         5.274881415069103,
         5.232174806296825,
         5.17507491260767,
         5.2449349239468575,
         5.191992245614529,
         5.223149947822094,
         5.2580438032746315,
         5.182655371725559,
         5.264390803873539,
         5.202180556952953,
         5.282968394458294,
         5.219522751867771,
         5.219269596040249,
         5.2135894522070885,
         5.2978193536400795,
         5.268367014825344,
         5.174666412174702,
         5.22064695507288,
         5.240947611629963,
         5.227865807712078,
         5.180995889008045,
         5.159955970942974,
         5.203334160149097,
         5.233038477599621,
         5.314189501106739,
         5.2574552819132805,
         5.270323343575001,
         5.24921702593565,
         5.284760899841785,
         5.182532660663128,
         5.297252081334591,
         5.233408369123936,
         5.2856662049889565,
         5.219702713191509,
         5.216025926172733,
         5.21448140591383,
         5.218295343220234,
         5.261141903698444,
         5.283627040684223,
         5.241143576800823,
         5.23269260674715,
         5.199523739516735,
         5.254252962768078,
         5.228680245578289,
         5.211621575057507,
         5.249111689627171,
         5.1787174269557,
         5.281942717730999,
         5.187729619443417,
         5.1720347329974174,
         5.23771583288908,
         5.2201341316103935,
         5.253823839128017,
         5.222542501986027,
         5.249226160347462,
         5.247186787426472,
         5.270629219710827,
         5.209528438746929,
         5.202679522335529,
         5.277525536715984,
         5.222437642514706,
         5.233656205236912,
         5.2412558272480965,
         5.306047402322292,
         5.188720189034939,
         5.295678190886974,
         5.234907008707523,
         5.246317140758038,
         5.272337280213833,
         5.268524922430515,
         5.264332689344883,
         5.253911800682545
        ],
        [
         1.5326648450401374,
         1.5400167312789914,
         1.540216599098372,
         1.5363162656284828,
         1.5309184557533113,
         1.5499507981822047,
         1.5364344422384715,
         1.546756923416365,
         1.536344916026324,
         1.5201424981740974,
         1.5438162855440785,
         1.5310479777921941,
         1.530393681041628,
         1.5248966723018162,
         1.5326843135629649,
         1.5456061766908178,
         1.5431603568901522,
         1.547325760605703,
         1.5317629281126404,
         1.5343200037197953,
         1.5418590862844521,
         1.5508396819047852,
         1.5367057810750053,
         1.5394992667792813,
         1.5354836845169078,
         1.5496423102633259,
         1.5408775684776455,
         1.5286149071624213,
         1.5434641694857636,
         1.5369135393235291,
         1.526025639894252,
         1.5495609079526018,
         1.5364792735225632,
         1.5351454946451923,
         1.5472328609816492,
         1.5264889388164735,
         1.5492228222516322,
         1.5353261756317529,
         1.5478964143151057,
         1.534824795698288,
         1.5291581256773303,
         1.5334611070510917,
         1.5599298015433585,
         1.5428762429515728,
         1.5248427849068396,
         1.5440107920236412,
         1.541815882451923,
         1.5410315231039369,
         1.5271629641355455,
         1.521741466983773,
         1.5309707959707464,
         1.5326490497034317,
         1.5592511324046348,
         1.5457761550006397,
         1.5503751892314372,
         1.5467469938688219,
         1.5485897890541278,
         1.5360796559158747,
         1.547492046240116,
         1.5393470475359674,
         1.5444519431212032,
         1.5351126537026452,
         1.5317919792724206,
         1.5355467637843458,
         1.534637228057822,
         1.5443224285384647,
         1.5534523807424363,
         1.5343667682599569,
         1.5406438837284422,
         1.5377752251294468,
         1.5397672059825167,
         1.5382920215052813,
         1.5338999120764905,
         1.5498646396995306,
         1.5258218756954225,
         1.5441227172144585,
         1.5285695254979588,
         1.5260648786547786,
         1.538375200270011,
         1.5305953773360959,
         1.545061757413456,
         1.524001733683568,
         1.5514086358048624,
         1.5365782000146102,
         1.5536411353430695,
         1.5464589566286344,
         1.533061724692132,
         1.5429948210798592,
         1.5342831871530678,
         1.5345213015562391,
         1.5322096486404497,
         1.5588735115148153,
         1.524124262853076,
         1.543555055618506,
         1.5438245233580619,
         1.542668219253387,
         1.5390324666815622,
         1.5527395721758235,
         1.543219376369353,
         1.5466400651020247
        ]
       ],
       "encoder": "json",
       "name": "ABC_GAN_1 Metrics",
       "version": 1
      }
     },
     "metadata": {
      "scrapbook": {
       "data": true,
       "display": false,
       "name": "ABC_GAN_1 Metrics"
      }
     },
     "output_type": "display_data"
    },
    {
     "name": "stdout",
     "output_type": "stream",
     "text": [
      "MSE\n",
      "0.11843987539773712\n"
     ]
    }
   ],
   "source": [
    "ABC_GAN1_metrics=ABC_train_test2.test_generator(gen,test_data,prior_model,variance,bias,\"1\",device)\n",
    "sb.glue(\"ABC_GAN_1 Metrics\",ABC_GAN1_metrics)\n",
    "\n",
    "print(\"MSE\")\n",
    "print(mean(ABC_GAN1_metrics[0]))"
   ]
  },
  {
   "cell_type": "code",
   "execution_count": 14,
   "id": "eb22ce5c",
   "metadata": {
    "execution": {
     "iopub.execute_input": "2022-06-07T09:48:13.093397Z",
     "iopub.status.busy": "2022-06-07T09:48:13.093041Z",
     "iopub.status.idle": "2022-06-07T09:48:13.390776Z",
     "shell.execute_reply": "2022-06-07T09:48:13.391078Z"
    },
    "papermill": {
     "duration": 0.311999,
     "end_time": "2022-06-07T09:48:13.391199",
     "exception": false,
     "start_time": "2022-06-07T09:48:13.079200",
     "status": "completed"
    },
    "tags": []
   },
   "outputs": [
    {
     "data": {
      "image/png": "[encoded data removed]",
      "text/plain": [
       "<Figure size 432x288 with 1 Axes>"
      ]
     },
     "metadata": {
      "needs_background": "light"
     },
     "output_type": "display_data"
    },
    {
     "data": {
      "image/png": "[encoded data removed]",
      "text/plain": [
       "<Figure size 432x288 with 1 Axes>"
      ]
     },
     "metadata": {
      "needs_background": "light"
     },
     "output_type": "display_data"
    },
    {
     "data": {
      "image/png": "[encoded data removed]",
      "text/plain": [
       "<Figure size 432x288 with 1 Axes>"
      ]
     },
     "metadata": {
      "needs_background": "light"
     },
     "output_type": "display_data"
    },
    {
     "data": {
      "image/png": "[encoded data removed]",
      "text/plain": [
       "<Figure size 432x288 with 1 Axes>"
      ]
     },
     "metadata": {
      "needs_background": "light"
     },
     "output_type": "display_data"
    }
   ],
   "source": [
    "sanityChecks.discProbVsError(train_data,disc,device)\n",
    "sanityChecks.discProbVsError(test_data,disc,device)"
   ]
  },
  {
   "cell_type": "markdown",
   "id": "130f3a4d",
   "metadata": {
    "id": "130f3a4d",
    "papermill": {
     "duration": 0.035664,
     "end_time": "2022-06-07T09:48:13.441348",
     "exception": false,
     "start_time": "2022-06-07T09:48:13.405684",
     "status": "completed"
    },
    "tags": []
   },
   "source": [
    "# ABC - GAN Model with skip connection"
   ]
  },
  {
   "cell_type": "code",
   "execution_count": 15,
   "id": "4e43dad1",
   "metadata": {
    "execution": {
     "iopub.execute_input": "2022-06-07T09:48:13.473629Z",
     "iopub.status.busy": "2022-06-07T09:48:13.473238Z",
     "iopub.status.idle": "2022-06-07T09:48:13.475433Z",
     "shell.execute_reply": "2022-06-07T09:48:13.475696Z"
    },
    "id": "4e43dad1",
    "papermill": {
     "duration": 0.019938,
     "end_time": "2022-06-07T09:48:13.475809",
     "exception": false,
     "start_time": "2022-06-07T09:48:13.455871",
     "status": "completed"
    },
    "tags": []
   },
   "outputs": [],
   "source": [
    "#Generator\n",
    "gen3 = network.GeneratorWithSkipConnection(n_features+1).to(device)\n",
    "constraints=network.weightConstraint()\n",
    "#Discriminator \n",
    "disc3 = network.Discriminator(n_features+1).to(device)\n",
    "\n",
    "criterion = torch.nn.BCELoss()\n",
    "gen_opt = torch.optim.Adam(gen3.parameters(), lr=0.001, betas=(0.5, 0.999))\n",
    "disc_opt = torch.optim.Adam(disc3.parameters(), lr=0.001, betas=(0.5, 0.999))\n"
   ]
  },
  {
   "cell_type": "code",
   "execution_count": 16,
   "id": "26acbc37",
   "metadata": {
    "execution": {
     "iopub.execute_input": "2022-06-07T09:48:13.506696Z",
     "iopub.status.busy": "2022-06-07T09:48:13.506331Z",
     "iopub.status.idle": "2022-06-07T09:48:50.671453Z",
     "shell.execute_reply": "2022-06-07T09:48:50.671772Z"
    },
    "id": "26acbc37",
    "papermill": {
     "duration": 37.181605,
     "end_time": "2022-06-07T09:48:50.671908",
     "exception": false,
     "start_time": "2022-06-07T09:48:13.490303",
     "status": "completed"
    },
    "tags": []
   },
   "outputs": [
    {
     "data": {
      "image/png": "[encoded data removed]",
      "text/plain": [
       "<Figure size 432x288 with 1 Axes>"
      ]
     },
     "metadata": {
      "needs_background": "light"
     },
     "output_type": "display_data"
    },
    {
     "data": {
      "image/png": "[encoded data removed]",
      "text/plain": [
       "<Figure size 432x288 with 1 Axes>"
      ]
     },
     "metadata": {
      "needs_background": "light"
     },
     "output_type": "display_data"
    }
   ],
   "source": [
    "ABC_train_test2.training_GAN_skip_connection(disc3,gen3,disc_opt,gen_opt,train_data,batch_size,n_epochs,criterion,prior_model,variance,bias,device)"
   ]
  },
  {
   "cell_type": "code",
   "execution_count": 17,
   "id": "c5e0717b",
   "metadata": {
    "execution": {
     "iopub.execute_input": "2022-06-07T09:48:50.705510Z",
     "iopub.status.busy": "2022-06-07T09:48:50.704988Z",
     "iopub.status.idle": "2022-06-07T09:48:50.984373Z",
     "shell.execute_reply": "2022-06-07T09:48:50.984689Z"
    },
    "id": "c5e0717b",
    "papermill": {
     "duration": 0.297632,
     "end_time": "2022-06-07T09:48:50.984814",
     "exception": false,
     "start_time": "2022-06-07T09:48:50.687182",
     "status": "completed"
    },
    "tags": []
   },
   "outputs": [
    {
     "data": {
      "application/scrapbook.scrap.json+json": {
       "data": 0.117865824386699,
       "encoder": "json",
       "name": "ABC-GAN Model 3 MSE",
       "version": 1
      }
     },
     "metadata": {
      "scrapbook": {
       "data": true,
       "display": false,
       "name": "ABC-GAN Model 3 MSE"
      }
     },
     "output_type": "display_data"
    },
    {
     "data": {
      "application/scrapbook.scrap.json+json": {
       "data": 0.25470128360763195,
       "encoder": "json",
       "name": "ABC-GAN Model 3 MAE",
       "version": 1
      }
     },
     "metadata": {
      "scrapbook": {
       "data": true,
       "display": false,
       "name": "ABC-GAN Model 3 MAE"
      }
     },
     "output_type": "display_data"
    },
    {
     "data": {
      "application/scrapbook.scrap.json+json": {
       "data": 5.094025672152639,
       "encoder": "json",
       "name": "ABC-GAN Model 3 Manhattan Distance",
       "version": 1
      }
     },
     "metadata": {
      "scrapbook": {
       "data": true,
       "display": false,
       "name": "ABC-GAN Model 3 Manhattan Distance"
      }
     },
     "output_type": "display_data"
    },
    {
     "data": {
      "application/scrapbook.scrap.json+json": {
       "data": 1.535315407993484,
       "encoder": "json",
       "name": "ABC-GAN Model 3 Euclidean distance",
       "version": 1
      }
     },
     "metadata": {
      "scrapbook": {
       "data": true,
       "display": false,
       "name": "ABC-GAN Model 3 Euclidean distance"
      }
     },
     "output_type": "display_data"
    },
    {
     "data": {
      "application/scrapbook.scrap.json+json": {
       "data": [
        [
         0.11780925789380756,
         0.11623282952461485,
         0.11457891038464778,
         0.11973087213934455,
         0.11672238075423409,
         0.11695367397102138,
         0.11787844724545041,
         0.11733115344517882,
         0.1181376297775381,
         0.11869098404802805,
         0.11731059671577979,
         0.11770456497920923,
         0.11829539299711671,
         0.12058793997864652,
         0.11729968905206926,
         0.11874343424730263,
         0.11794494204277639,
         0.11656838762445502,
         0.11609890548055515,
         0.11769169166673119,
         0.11428276774792738,
         0.11756847055098334,
         0.11836327334341683,
         0.11488463386009751,
         0.11957366393492555,
         0.11765708466615984,
         0.11857800995916831,
         0.11833283157884258,
         0.11816318681479313,
         0.11989267709840483,
         0.1134281202012144,
         0.11644308594753613,
         0.11711573935180053,
         0.11933256337145934,
         0.11886245857045799,
         0.11746844347838045,
         0.1189290625835739,
         0.11898300728877131,
         0.11778880413113635,
         0.11980493231127402,
         0.11834613204759639,
         0.12023680470542279,
         0.11714788995207341,
         0.12174287762590108,
         0.11603539870926408,
         0.11769241606755113,
         0.12155877892944669,
         0.11773153823095472,
         0.11662501057371259,
         0.11939923137194045,
         0.12027046961316812,
         0.12013875708578606,
         0.11609274898939992,
         0.12124664330494798,
         0.11698092165093199,
         0.11838451530939384,
         0.11537489514263632,
         0.12047674538140188,
         0.11858083454656425,
         0.11534615311665863,
         0.11682488142107794,
         0.11848564798212044,
         0.11762280534156529,
         0.11601546421686666,
         0.1189178791565956,
         0.11991496822160519,
         0.11429241957342336,
         0.11667681134564525,
         0.11675350657492167,
         0.11738870754310633,
         0.11439190392019419,
         0.11580530953091377,
         0.1164428878604716,
         0.11767370180676404,
         0.12000943943317063,
         0.1171190208737547,
         0.11786973137891603,
         0.11966826090268005,
         0.12021432069359057,
         0.11731106623938273,
         0.1163426983570699,
         0.12003733353969008,
         0.11623684796147937,
         0.11895318768436743,
         0.11955622324044772,
         0.11940402093169951,
         0.11892994682613449,
         0.11736542661817025,
         0.11922778488785205,
         0.1189241068926753,
         0.11921382768005166,
         0.11913238194733253,
         0.11614566117326068,
         0.11667558584985693,
         0.11892474201386793,
         0.11596484010055468,
         0.11563214206881582,
         0.11537391848887557,
         0.11922766568770085,
         0.11874209958964779
        ],
        [
         0.25378688126802446,
         0.2523630652576685,
         0.2514332361519337,
         0.2552580825984478,
         0.2525192052125931,
         0.2557117663323879,
         0.253313971683383,
         0.2552696198225021,
         0.2536812052130699,
         0.25531684309244157,
         0.2536734364926815,
         0.25269569605588915,
         0.2560313943773508,
         0.25979589112102985,
         0.2517679937183857,
         0.2538305588066578,
         0.2543330989778042,
         0.2546776745468378,
         0.25443546660244465,
         0.2521973792463541,
         0.25064306817948817,
         0.25452995002269746,
         0.25675697848200796,
         0.2516461756080389,
         0.2563669588416815,
         0.2542730629444122,
         0.25260105468332766,
         0.2556622751057148,
         0.2537739031016827,
         0.2560927875339985,
         0.2499177109450102,
         0.2545859612524509,
         0.25221444219350814,
         0.2524669345468283,
         0.2555056244134903,
         0.2530074942857027,
         0.2582691304385662,
         0.25589304864406587,
         0.2520611651241779,
         0.2561791755259037,
         0.25503749772906303,
         0.2553955018520355,
         0.25319459699094293,
         0.2593562498688698,
         0.2525782011449337,
         0.2529412392526865,
         0.2617910925298929,
         0.25456394739449023,
         0.25627401024103164,
         0.25744586661458013,
         0.2579821091145277,
         0.2591713532805443,
         0.25655710957944394,
         0.25748551450669765,
         0.2580040615051985,
         0.2550406064838171,
         0.25207564048469067,
         0.25734893307089807,
         0.2579095114022493,
         0.2526039682328701,
         0.2527283877134323,
         0.2551989383995533,
         0.2551717609167099,
         0.2525794439017773,
         0.2541646592319012,
         0.2567139808088541,
         0.2502661805599928,
         0.25008405521512034,
         0.2577251404523849,
         0.2534614451229572,
         0.25330547280609605,
         0.25155616030097006,
         0.2564237270504236,
         0.25138246417045595,
         0.25707080215215683,
         0.25283997394144536,
         0.2576850466430187,
         0.255518651753664,
         0.2587845705449581,
         0.2537202686071396,
         0.2521221455186605,
         0.2554533649235964,
         0.2517634410411119,
         0.25539550222456453,
         0.25689161755144596,
         0.25594923831522465,
         0.2569140072911978,
         0.25541563965380193,
         0.25576792024075984,
         0.2540871497243643,
         0.2555773425847292,
         0.25709983222186567,
         0.25174914188683034,
         0.25468528680503366,
         0.25542955510318277,
         0.25334339030086994,
         0.25463781170547006,
         0.2508543185889721,
         0.2579276211559772,
         0.25538652390241623
        ],
        [
         5.075737625360489,
         5.04726130515337,
         5.028664723038673,
         5.105161651968956,
         5.050384104251862,
         5.1142353266477585,
         5.06627943366766,
         5.105392396450043,
         5.073624104261398,
         5.106336861848831,
         5.07346872985363,
         5.053913921117783,
         5.120627887547016,
         5.195917822420597,
         5.035359874367714,
         5.076611176133156,
         5.086661979556084,
         5.093553490936756,
         5.088709332048893,
         5.043947584927082,
         5.012861363589764,
         5.090599000453949,
         5.13513956964016,
         5.032923512160778,
         5.12733917683363,
         5.085461258888245,
         5.0520210936665535,
         5.113245502114296,
         5.075478062033653,
         5.12185575067997,
         4.998354218900204,
         5.091719225049019,
         5.044288843870163,
         5.049338690936565,
         5.110112488269806,
         5.060149885714054,
         5.165382608771324,
         5.117860972881317,
         5.041223302483559,
         5.123583510518074,
         5.100749954581261,
         5.1079100370407104,
         5.063891939818859,
         5.187124997377396,
         5.051564022898674,
         5.05882478505373,
         5.235821850597858,
         5.091278947889805,
         5.125480204820633,
         5.148917332291603,
         5.159642182290554,
         5.183427065610886,
         5.131142191588879,
         5.149710290133953,
         5.16008123010397,
         5.100812129676342,
         5.041512809693813,
         5.146978661417961,
         5.158190228044987,
         5.052079364657402,
         5.054567754268646,
         5.103978767991066,
         5.103435218334198,
         5.051588878035545,
         5.083293184638023,
         5.134279616177082,
         5.005323611199856,
         5.001681104302406,
         5.154502809047699,
         5.069228902459145,
         5.0661094561219215,
         5.0311232060194016,
         5.128474541008472,
         5.027649283409119,
         5.141416043043137,
         5.056799478828907,
         5.1537009328603745,
         5.11037303507328,
         5.175691410899162,
         5.074405372142792,
         5.042442910373211,
         5.109067298471928,
         5.035268820822239,
         5.107910044491291,
         5.137832351028919,
         5.118984766304493,
         5.1382801458239555,
         5.108312793076038,
         5.115358404815197,
         5.081742994487286,
         5.111546851694584,
         5.141996644437313,
         5.034982837736607,
         5.093705736100674,
         5.108591102063656,
         5.066867806017399,
         5.092756234109402,
         5.017086371779442,
         5.158552423119545,
         5.107730478048325
        ],
        [
         1.5349870220546333,
         1.5246824556255303,
         1.513795959729367,
         1.5474551504928635,
         1.5278899224370457,
         1.5294029813690138,
         1.5354377046656786,
         1.5318691422257895,
         1.5371247820365015,
         1.540720507087694,
         1.5317349425783808,
         1.5343048261620584,
         1.5381507923290012,
         1.5529838375118172,
         1.531663729753168,
         1.5410608959239906,
         1.5358707109830332,
         1.5268817087414142,
         1.523803829110264,
         1.5342209206416864,
         1.5118384023957545,
         1.5334175592511214,
         1.5385920404279805,
         1.515814196134193,
         1.5464389023490424,
         1.5339953367996908,
         1.53998707760272,
         1.5383941730183626,
         1.5372910382539353,
         1.5485004171675565,
         1.5061747587927132,
         1.5260608503433677,
         1.530462278867405,
         1.544879046213388,
         1.5418330556221578,
         1.5327651058031069,
         1.5422649745330657,
         1.5426147107348052,
         1.5348537658756702,
         1.5479336698403716,
         1.5384806274217195,
         1.5507211529183627,
         1.5306723356229668,
         1.560403009647835,
         1.5233870073573823,
         1.5342256422544314,
         1.5592227482271204,
         1.5344806172184433,
         1.5272525041636866,
         1.5453105278353632,
         1.5509382296736909,
         1.5500887528511782,
         1.5237634264504443,
         1.5572195946940046,
         1.5295811299236926,
         1.538730095301927,
         1.5190450628117411,
         1.5522676662315804,
         1.5400054191239994,
         1.518855839878549,
         1.5285606394322597,
         1.5393872026369484,
         1.5337718561869969,
         1.5232561453469777,
         1.5421924598220262,
         1.5486443634456892,
         1.5119022426957593,
         1.5275916427216094,
         1.5280936265485938,
         1.5322448077452004,
         1.5125601073689217,
         1.5218758788476396,
         1.526059552314205,
         1.5341036588624906,
         1.5492542685638833,
         1.5304837200947594,
         1.535380938913311,
         1.5470504898204198,
         1.5505761554570003,
         1.5317380078811307,
         1.5254028868274105,
         1.5494343067048055,
         1.5247088112913847,
         1.5424213930334825,
         1.5463261185173567,
         1.5453415216818547,
         1.5422707079247435,
         1.5320928602285844,
         1.5442006662856484,
         1.5422328416466515,
         1.5441102789635957,
         1.54358272824836,
         1.5241106336041401,
         1.5275836202961652,
         1.542236959833786,
         1.5229237676295861,
         1.5207375978045379,
         1.5190386334051913,
         1.5441998943640738,
         1.5410522352577656
        ]
       ],
       "encoder": "json",
       "name": "ABC_GAN_3 Metrics",
       "version": 1
      }
     },
     "metadata": {
      "scrapbook": {
       "data": true,
       "display": false,
       "name": "ABC_GAN_3 Metrics"
      }
     },
     "output_type": "display_data"
    },
    {
     "name": "stdout",
     "output_type": "stream",
     "text": [
      "MSE\n",
      "0.117865824386699\n"
     ]
    }
   ],
   "source": [
    "ABC_GAN3_metrics=ABC_train_test2.test_generator(gen3,test_data,prior_model,variance,bias,\"3\",device)\n",
    "sb.glue(\"ABC_GAN_3 Metrics\",ABC_GAN3_metrics)\n",
    "\n",
    "print(\"MSE\")\n",
    "print(mean(ABC_GAN3_metrics[0]))"
   ]
  },
  {
   "cell_type": "code",
   "execution_count": 18,
   "id": "c8e46b48",
   "metadata": {
    "execution": {
     "iopub.execute_input": "2022-06-07T09:48:51.021143Z",
     "iopub.status.busy": "2022-06-07T09:48:51.020770Z",
     "iopub.status.idle": "2022-06-07T09:48:51.322190Z",
     "shell.execute_reply": "2022-06-07T09:48:51.322500Z"
    },
    "id": "c8e46b48",
    "papermill": {
     "duration": 0.320791,
     "end_time": "2022-06-07T09:48:51.322621",
     "exception": false,
     "start_time": "2022-06-07T09:48:51.001830",
     "status": "completed"
    },
    "tags": []
   },
   "outputs": [
    {
     "data": {
      "image/png": "[encoded data removed]",
      "text/plain": [
       "<Figure size 432x288 with 1 Axes>"
      ]
     },
     "metadata": {
      "needs_background": "light"
     },
     "output_type": "display_data"
    },
    {
     "data": {
      "image/png": "[encoded data removed]",
      "text/plain": [
       "<Figure size 432x288 with 1 Axes>"
      ]
     },
     "metadata": {
      "needs_background": "light"
     },
     "output_type": "display_data"
    },
    {
     "data": {
      "image/png": "[encoded data removed]",
      "text/plain": [
       "<Figure size 432x288 with 1 Axes>"
      ]
     },
     "metadata": {
      "needs_background": "light"
     },
     "output_type": "display_data"
    },
    {
     "data": {
      "image/png": "[encoded data removed]",
      "text/plain": [
       "<Figure size 432x288 with 1 Axes>"
      ]
     },
     "metadata": {
      "needs_background": "light"
     },
     "output_type": "display_data"
    }
   ],
   "source": [
    "sanityChecks.discProbVsError(train_data,disc3,device)\n",
    "sanityChecks.discProbVsError(test_data,disc3,device)"
   ]
  },
  {
   "cell_type": "markdown",
   "id": "a5bd74c3",
   "metadata": {
    "id": "a5bd74c3",
    "papermill": {
     "duration": 0.019146,
     "end_time": "2022-06-07T09:48:51.361245",
     "exception": false,
     "start_time": "2022-06-07T09:48:51.342099",
     "status": "completed"
    },
    "tags": []
   },
   "source": [
    "## Skip Connection Model Analysis - ABC-GAN "
   ]
  },
  {
   "cell_type": "markdown",
   "id": "5744a8bf",
   "metadata": {
    "id": "5744a8bf",
    "papermill": {
     "duration": 0.018642,
     "end_time": "2022-06-07T09:48:51.398663",
     "exception": false,
     "start_time": "2022-06-07T09:48:51.380021",
     "status": "completed"
    },
    "tags": []
   },
   "source": [
    "### Weight Analysis \n",
    "\n",
    "Study the weights of the skip connection layer\n",
    "\n",
    "Equation of the skip connection is \n",
    "\n",
    "$output = y_{gan} * w + y_{abc} * (1-w)$"
   ]
  },
  {
   "cell_type": "code",
   "execution_count": 19,
   "id": "52c31dea",
   "metadata": {
    "execution": {
     "iopub.execute_input": "2022-06-07T09:48:51.438981Z",
     "iopub.status.busy": "2022-06-07T09:48:51.438589Z",
     "iopub.status.idle": "2022-06-07T09:48:51.441878Z",
     "shell.execute_reply": "2022-06-07T09:48:51.442114Z"
    },
    "id": "52c31dea",
    "papermill": {
     "duration": 0.02482,
     "end_time": "2022-06-07T09:48:51.442232",
     "exception": false,
     "start_time": "2022-06-07T09:48:51.417412",
     "status": "completed"
    },
    "tags": []
   },
   "outputs": [
    {
     "name": "stdout",
     "output_type": "stream",
     "text": [
      "Weight of the node at skip connection\n",
      "Parameter containing:\n",
      "tensor([[0.0333]], requires_grad=True)\n"
     ]
    },
    {
     "data": {
      "application/scrapbook.scrap.json+json": {
       "data": 0.03334427997469902,
       "encoder": "json",
       "name": "Skip Connection Weight",
       "version": 1
      }
     },
     "metadata": {
      "scrapbook": {
       "data": true,
       "display": false,
       "name": "Skip Connection Weight"
      }
     },
     "output_type": "display_data"
    }
   ],
   "source": [
    "print(\"Weight of the node at skip connection\")\n",
    "for name,param in gen3.named_parameters():\n",
    "    if(name == \"skipNode.weight\"):\n",
    "        print(param)\n",
    "        sb.glue(\"Skip Connection Weight\",param.item())"
   ]
  }
 ],
 "metadata": {
  "colab": {
   "collapsed_sections": [],
   "name": "ABC_GAN_Model-Catboost_Pre-gen.ipynb",
   "provenance": []
  },
  "interpreter": {
   "hash": "31f2aee4e71d21fbe5cf8b01ff0e069b9275f58929596ceb00d14d90e3e16cd6"
  },
  "kernelspec": {
   "display_name": "Python 3 (ipykernel)",
   "language": "python",
   "name": "python3"
  },
  "language_info": {
   "codemirror_mode": {
    "name": "ipython",
    "version": 3
   },
   "file_extension": ".py",
   "mimetype": "text/x-python",
   "name": "python",
   "nbconvert_exporter": "python",
   "pygments_lexer": "ipython3",
   "version": "3.8.11"
  },
  "papermill": {
   "default_parameters": {},
   "duration": 56.247859,
   "end_time": "2022-06-07T09:48:51.769896",
   "environment_variables": {},
   "exception": null,
   "input_path": "ABC_GAN-Catboost.ipynb",
   "output_path": "./ABC_GAN_Catboost/ABC-GAN_output_10_5.ipynb",
   "parameters": {
    "bias": 0.1,
    "variance": 0.01
   },
   "start_time": "2022-06-07T09:47:55.522037",
   "version": "2.3.3"
  }
 },
 "nbformat": 4,
 "nbformat_minor": 5
}