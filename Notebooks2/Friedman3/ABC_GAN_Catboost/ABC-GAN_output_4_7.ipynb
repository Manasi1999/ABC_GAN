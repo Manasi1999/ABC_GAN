{
 "cells": [
  {
   "cell_type": "markdown",
   "id": "622780e6",
   "metadata": {
    "id": "622780e6",
    "papermill": {
     "duration": 0.035609,
     "end_time": "2022-06-07T06:29:14.992505",
     "exception": false,
     "start_time": "2022-06-07T06:29:14.956896",
     "status": "completed"
    },
    "tags": []
   },
   "source": [
    "## Import Libraries "
   ]
  },
  {
   "cell_type": "code",
   "execution_count": 1,
   "id": "a62397e3",
   "metadata": {
    "execution": {
     "iopub.execute_input": "2022-06-07T06:29:15.029322Z",
     "iopub.status.busy": "2022-06-07T06:29:15.028819Z",
     "iopub.status.idle": "2022-06-07T06:29:15.031236Z",
     "shell.execute_reply": "2022-06-07T06:29:15.031588Z"
    },
    "id": "a62397e3",
    "papermill": {
     "duration": 0.022044,
     "end_time": "2022-06-07T06:29:15.031790",
     "exception": false,
     "start_time": "2022-06-07T06:29:15.009746",
     "status": "completed"
    },
    "tags": []
   },
   "outputs": [],
   "source": [
    "import warnings\n",
    "import sys\n",
    "sys.path.insert(0, '../../src')\n",
    "warnings.filterwarnings('ignore')"
   ]
  },
  {
   "cell_type": "code",
   "execution_count": 2,
   "id": "d6a4e155",
   "metadata": {
    "execution": {
     "iopub.execute_input": "2022-06-07T06:29:15.052098Z",
     "iopub.status.busy": "2022-06-07T06:29:15.051709Z",
     "iopub.status.idle": "2022-06-07T06:29:16.711445Z",
     "shell.execute_reply": "2022-06-07T06:29:16.711678Z"
    },
    "id": "d6a4e155",
    "papermill": {
     "duration": 1.670518,
     "end_time": "2022-06-07T06:29:16.711808",
     "exception": false,
     "start_time": "2022-06-07T06:29:15.041290",
     "status": "completed"
    },
    "tags": []
   },
   "outputs": [],
   "source": [
    "import ABC_train_test2\n",
    "import friedman1Dataset\n",
    "import network\n",
    "import dataset\n",
    "import sanityChecks\n",
    "import torch \n",
    "import scrapbook as sb\n",
    "from statistics import mean \n",
    "import catboost as ctb \n",
    "from sklearn.model_selection import train_test_split\n",
    "from sklearn.metrics import mean_squared_error,mean_absolute_error\n",
    "import numpy as np"
   ]
  },
  {
   "cell_type": "markdown",
   "id": "2fa5b0f7",
   "metadata": {
    "id": "2fa5b0f7",
    "papermill": {
     "duration": 0.006789,
     "end_time": "2022-06-07T06:29:16.725890",
     "exception": false,
     "start_time": "2022-06-07T06:29:16.719101",
     "status": "completed"
    },
    "tags": []
   },
   "source": [
    "## Parameters "
   ]
  },
  {
   "cell_type": "code",
   "execution_count": 3,
   "id": "783186fb",
   "metadata": {
    "execution": {
     "iopub.execute_input": "2022-06-07T06:29:16.741620Z",
     "iopub.status.busy": "2022-06-07T06:29:16.741262Z",
     "iopub.status.idle": "2022-06-07T06:29:16.742616Z",
     "shell.execute_reply": "2022-06-07T06:29:16.742883Z"
    },
    "id": "783186fb",
    "papermill": {
     "duration": 0.010304,
     "end_time": "2022-06-07T06:29:16.742997",
     "exception": false,
     "start_time": "2022-06-07T06:29:16.732693",
     "status": "completed"
    },
    "tags": [
     "parameters"
    ]
   },
   "outputs": [],
   "source": [
    "variance = 1\n",
    "bias = 1 "
   ]
  },
  {
   "cell_type": "code",
   "execution_count": 4,
   "id": "063b14dc",
   "metadata": {
    "execution": {
     "iopub.execute_input": "2022-06-07T06:29:16.758560Z",
     "iopub.status.busy": "2022-06-07T06:29:16.758195Z",
     "iopub.status.idle": "2022-06-07T06:29:16.759546Z",
     "shell.execute_reply": "2022-06-07T06:29:16.759788Z"
    },
    "papermill": {
     "duration": 0.00999,
     "end_time": "2022-06-07T06:29:16.759891",
     "exception": false,
     "start_time": "2022-06-07T06:29:16.749901",
     "status": "completed"
    },
    "tags": [
     "injected-parameters"
    ]
   },
   "outputs": [],
   "source": [
    "# Parameters\n",
    "variance = 0.1\n",
    "bias = 0.01\n"
   ]
  },
  {
   "cell_type": "markdown",
   "id": "391cdbfd",
   "metadata": {
    "id": "391cdbfd",
    "papermill": {
     "duration": 0.006819,
     "end_time": "2022-06-07T06:29:16.773676",
     "exception": false,
     "start_time": "2022-06-07T06:29:16.766857",
     "status": "completed"
    },
    "tags": []
   },
   "source": [
    "## Dataset \n"
   ]
  },
  {
   "cell_type": "code",
   "execution_count": 5,
   "id": "5b51f161",
   "metadata": {
    "execution": {
     "iopub.execute_input": "2022-06-07T06:29:16.789261Z",
     "iopub.status.busy": "2022-06-07T06:29:16.788894Z",
     "iopub.status.idle": "2022-06-07T06:29:16.790269Z",
     "shell.execute_reply": "2022-06-07T06:29:16.790504Z"
    },
    "id": "5b51f161",
    "papermill": {
     "duration": 0.010035,
     "end_time": "2022-06-07T06:29:16.790615",
     "exception": false,
     "start_time": "2022-06-07T06:29:16.780580",
     "status": "completed"
    },
    "tags": []
   },
   "outputs": [],
   "source": [
    "#Parameters \n",
    "n_features = 5\n",
    "n_samples= 100\n",
    "n_target = 1 "
   ]
  },
  {
   "cell_type": "code",
   "execution_count": 6,
   "id": "5d6eced4",
   "metadata": {
    "execution": {
     "iopub.execute_input": "2022-06-07T06:29:16.806577Z",
     "iopub.status.busy": "2022-06-07T06:29:16.806034Z",
     "iopub.status.idle": "2022-06-07T06:29:16.812122Z",
     "shell.execute_reply": "2022-06-07T06:29:16.812378Z"
    },
    "id": "5d6eced4",
    "papermill": {
     "duration": 0.014935,
     "end_time": "2022-06-07T06:29:16.812489",
     "exception": false,
     "start_time": "2022-06-07T06:29:16.797554",
     "status": "completed"
    },
    "tags": []
   },
   "outputs": [
    {
     "name": "stdout",
     "output_type": "stream",
     "text": [
      "         X0        X1        X2        X3        X4         Y\n",
      "0 -0.225704  0.081909  0.878266  0.088276  0.979738  0.362833\n",
      "1 -0.918891  0.955017 -1.002634 -0.680712  1.577216  0.032374\n",
      "2 -1.373735  0.352179  0.328855  0.204453 -0.721401 -1.122405\n",
      "3 -0.518784 -1.518071 -1.592764 -0.150460 -1.579846 -0.880791\n",
      "4 -0.003454  0.470789 -1.607957  1.084207 -0.649306  1.504513\n"
     ]
    }
   ],
   "source": [
    "X,Y = friedman1Dataset.friedman1_data(n_samples,n_features)"
   ]
  },
  {
   "cell_type": "code",
   "execution_count": 7,
   "id": "fe007438",
   "metadata": {
    "execution": {
     "iopub.execute_input": "2022-06-07T06:29:16.829707Z",
     "iopub.status.busy": "2022-06-07T06:29:16.829341Z",
     "iopub.status.idle": "2022-06-07T06:29:16.830726Z",
     "shell.execute_reply": "2022-06-07T06:29:16.830963Z"
    },
    "id": "fe007438",
    "papermill": {
     "duration": 0.011196,
     "end_time": "2022-06-07T06:29:16.831069",
     "exception": false,
     "start_time": "2022-06-07T06:29:16.819873",
     "status": "completed"
    },
    "tags": []
   },
   "outputs": [],
   "source": [
    "#Train test split for dataset \n",
    "X_train,X_test,Y_train,Y_test = train_test_split(X,Y,test_size = 0.2)\n",
    "train_data = dataset.CustomDataset(X_train,Y_train)\n",
    "test_data = dataset.CustomDataset(X_test,Y_test)\n"
   ]
  },
  {
   "cell_type": "markdown",
   "id": "a9a1af34",
   "metadata": {
    "id": "a9a1af34",
    "papermill": {
     "duration": 0.007068,
     "end_time": "2022-06-07T06:29:16.845304",
     "exception": false,
     "start_time": "2022-06-07T06:29:16.838236",
     "status": "completed"
    },
    "tags": []
   },
   "source": [
    "## Training Parameters "
   ]
  },
  {
   "cell_type": "code",
   "execution_count": 8,
   "id": "952b7fc8",
   "metadata": {
    "execution": {
     "iopub.execute_input": "2022-06-07T06:29:16.861639Z",
     "iopub.status.busy": "2022-06-07T06:29:16.861271Z",
     "iopub.status.idle": "2022-06-07T06:29:16.862585Z",
     "shell.execute_reply": "2022-06-07T06:29:16.862827Z"
    },
    "id": "952b7fc8",
    "papermill": {
     "duration": 0.010576,
     "end_time": "2022-06-07T06:29:16.862934",
     "exception": false,
     "start_time": "2022-06-07T06:29:16.852358",
     "status": "completed"
    },
    "tags": []
   },
   "outputs": [],
   "source": [
    "batch_size = 32\n",
    "n_epochs = 1000\n",
    "#Select the device \n",
    "device = torch.device('cuda' if torch.cuda.is_available() else 'cpu')"
   ]
  },
  {
   "cell_type": "markdown",
   "id": "a95e1600",
   "metadata": {
    "id": "a95e1600",
    "papermill": {
     "duration": 0.007145,
     "end_time": "2022-06-07T06:29:16.877248",
     "exception": false,
     "start_time": "2022-06-07T06:29:16.870103",
     "status": "completed"
    },
    "tags": []
   },
   "source": [
    "# ABC Pre-generator Model \n",
    "\n",
    "1. The catboost model is used as a pre-generator model for the ABC-GAN. \n",
    "2. The model is first trained on the entire dataset \n",
    "3. It generats X,Y pairs and we add some Gaussian noise with mean 0 and variance 1 to it which is then feed as input to the generator.\n"
   ]
  },
  {
   "cell_type": "code",
   "execution_count": 9,
   "id": "ff8ce7bd",
   "metadata": {
    "execution": {
     "iopub.execute_input": "2022-06-07T06:29:16.895030Z",
     "iopub.status.busy": "2022-06-07T06:29:16.894661Z",
     "iopub.status.idle": "2022-06-07T06:29:17.533841Z",
     "shell.execute_reply": "2022-06-07T06:29:17.534216Z"
    },
    "id": "ff8ce7bd",
    "papermill": {
     "duration": 0.64994,
     "end_time": "2022-06-07T06:29:17.534337",
     "exception": false,
     "start_time": "2022-06-07T06:29:16.884397",
     "status": "completed"
    },
    "tags": []
   },
   "outputs": [
    {
     "name": "stdout",
     "output_type": "stream",
     "text": [
      "Learning rate set to 0.024897\n",
      "0:\tlearn: 1.0137270\ttotal: 68.6ms\tremaining: 1m 8s\n",
      "1:\tlearn: 1.0020482\ttotal: 69.2ms\tremaining: 34.5s\n",
      "2:\tlearn: 0.9900244\ttotal: 69.9ms\tremaining: 23.2s\n",
      "3:\tlearn: 0.9779002\ttotal: 70.4ms\tremaining: 17.5s\n",
      "4:\tlearn: 0.9670345\ttotal: 70.9ms\tremaining: 14.1s\n",
      "5:\tlearn: 0.9566080\ttotal: 71.4ms\tremaining: 11.8s\n",
      "6:\tlearn: 0.9456062\ttotal: 72ms\tremaining: 10.2s\n",
      "7:\tlearn: 0.9349532\ttotal: 72.5ms\tremaining: 8.99s\n",
      "8:\tlearn: 0.9258377\ttotal: 73.1ms\tremaining: 8.05s\n",
      "9:\tlearn: 0.9146189\ttotal: 73.6ms\tremaining: 7.29s\n",
      "10:\tlearn: 0.9028936\ttotal: 74.1ms\tremaining: 6.66s\n",
      "11:\tlearn: 0.8920515\ttotal: 74.5ms\tremaining: 6.13s\n",
      "12:\tlearn: 0.8816233\ttotal: 75ms\tremaining: 5.69s\n",
      "13:\tlearn: 0.8733043\ttotal: 75.6ms\tremaining: 5.32s\n",
      "14:\tlearn: 0.8644414\ttotal: 76ms\tremaining: 4.99s\n",
      "15:\tlearn: 0.8549089\ttotal: 76.5ms\tremaining: 4.7s\n",
      "16:\tlearn: 0.8460510\ttotal: 77ms\tremaining: 4.45s\n",
      "17:\tlearn: 0.8366345\ttotal: 77.5ms\tremaining: 4.23s\n",
      "18:\tlearn: 0.8275164\ttotal: 78ms\tremaining: 4.03s\n",
      "19:\tlearn: 0.8194128\ttotal: 78.6ms\tremaining: 3.85s\n",
      "20:\tlearn: 0.8097733\ttotal: 79ms\tremaining: 3.68s\n",
      "21:\tlearn: 0.8004282\ttotal: 79.6ms\tremaining: 3.54s\n",
      "22:\tlearn: 0.7912950\ttotal: 80.1ms\tremaining: 3.4s\n",
      "23:\tlearn: 0.7818106\ttotal: 80.5ms\tremaining: 3.27s\n",
      "24:\tlearn: 0.7728261\ttotal: 81.1ms\tremaining: 3.16s\n",
      "25:\tlearn: 0.7652350\ttotal: 81.6ms\tremaining: 3.06s\n",
      "26:\tlearn: 0.7575980\ttotal: 82.2ms\tremaining: 2.96s\n",
      "27:\tlearn: 0.7502889\ttotal: 82.5ms\tremaining: 2.87s\n",
      "28:\tlearn: 0.7419244\ttotal: 83ms\tremaining: 2.78s\n",
      "29:\tlearn: 0.7352783\ttotal: 83.5ms\tremaining: 2.7s\n",
      "30:\tlearn: 0.7283485\ttotal: 84ms\tremaining: 2.62s\n",
      "31:\tlearn: 0.7199451\ttotal: 84.4ms\tremaining: 2.55s\n",
      "32:\tlearn: 0.7126696\ttotal: 84.8ms\tremaining: 2.48s\n",
      "33:\tlearn: 0.7052469\ttotal: 85.3ms\tremaining: 2.42s\n",
      "34:\tlearn: 0.6982043\ttotal: 85.7ms\tremaining: 2.36s\n",
      "35:\tlearn: 0.6919391\ttotal: 86.1ms\tremaining: 2.31s\n",
      "36:\tlearn: 0.6854364\ttotal: 86.6ms\tremaining: 2.25s\n",
      "37:\tlearn: 0.6785501\ttotal: 86.9ms\tremaining: 2.2s\n",
      "38:\tlearn: 0.6718610\ttotal: 87.4ms\tremaining: 2.15s\n",
      "39:\tlearn: 0.6652732\ttotal: 87.8ms\tremaining: 2.11s\n",
      "40:\tlearn: 0.6583633\ttotal: 88.2ms\tremaining: 2.06s\n",
      "41:\tlearn: 0.6520871\ttotal: 88.7ms\tremaining: 2.02s\n",
      "42:\tlearn: 0.6453696\ttotal: 89.1ms\tremaining: 1.98s\n",
      "43:\tlearn: 0.6380755\ttotal: 89.5ms\tremaining: 1.95s\n",
      "44:\tlearn: 0.6319887\ttotal: 90ms\tremaining: 1.91s\n",
      "45:\tlearn: 0.6252451\ttotal: 90.5ms\tremaining: 1.88s\n",
      "46:\tlearn: 0.6202647\ttotal: 91.1ms\tremaining: 1.85s\n",
      "47:\tlearn: 0.6136363\ttotal: 91.5ms\tremaining: 1.81s\n",
      "48:\tlearn: 0.6083011\ttotal: 91.9ms\tremaining: 1.78s\n",
      "49:\tlearn: 0.6030372\ttotal: 92.4ms\tremaining: 1.76s\n",
      "50:\tlearn: 0.5963678\ttotal: 92.8ms\tremaining: 1.73s\n",
      "51:\tlearn: 0.5906408\ttotal: 93.2ms\tremaining: 1.7s\n",
      "52:\tlearn: 0.5842123\ttotal: 93.6ms\tremaining: 1.67s\n",
      "53:\tlearn: 0.5798334\ttotal: 94.1ms\tremaining: 1.65s\n",
      "54:\tlearn: 0.5740268\ttotal: 94.5ms\tremaining: 1.62s\n",
      "55:\tlearn: 0.5682845\ttotal: 94.9ms\tremaining: 1.6s\n",
      "56:\tlearn: 0.5640989\ttotal: 95.2ms\tremaining: 1.57s\n",
      "57:\tlearn: 0.5582499\ttotal: 96.4ms\tremaining: 1.57s\n",
      "58:\tlearn: 0.5524635\ttotal: 97ms\tremaining: 1.55s\n",
      "59:\tlearn: 0.5470474\ttotal: 97.4ms\tremaining: 1.52s\n",
      "60:\tlearn: 0.5408300\ttotal: 97.8ms\tremaining: 1.51s\n",
      "61:\tlearn: 0.5352157\ttotal: 98.4ms\tremaining: 1.49s\n",
      "62:\tlearn: 0.5303756\ttotal: 99ms\tremaining: 1.47s\n",
      "63:\tlearn: 0.5249510\ttotal: 99.5ms\tremaining: 1.46s\n",
      "64:\tlearn: 0.5203822\ttotal: 100ms\tremaining: 1.44s\n",
      "65:\tlearn: 0.5167572\ttotal: 101ms\tremaining: 1.42s\n",
      "66:\tlearn: 0.5120445\ttotal: 101ms\tremaining: 1.41s\n",
      "67:\tlearn: 0.5067998\ttotal: 102ms\tremaining: 1.39s\n",
      "68:\tlearn: 0.5014366\ttotal: 102ms\tremaining: 1.37s\n",
      "69:\tlearn: 0.4967566\ttotal: 102ms\tremaining: 1.36s\n",
      "70:\tlearn: 0.4924726\ttotal: 103ms\tremaining: 1.34s\n",
      "71:\tlearn: 0.4881004\ttotal: 103ms\tremaining: 1.33s\n",
      "72:\tlearn: 0.4830686\ttotal: 104ms\tremaining: 1.32s\n",
      "73:\tlearn: 0.4784225\ttotal: 104ms\tremaining: 1.31s\n",
      "74:\tlearn: 0.4736752\ttotal: 105ms\tremaining: 1.29s\n",
      "75:\tlearn: 0.4688494\ttotal: 105ms\tremaining: 1.28s\n",
      "76:\tlearn: 0.4645386\ttotal: 106ms\tremaining: 1.27s\n",
      "77:\tlearn: 0.4600714\ttotal: 106ms\tremaining: 1.26s\n",
      "78:\tlearn: 0.4557177\ttotal: 107ms\tremaining: 1.24s\n",
      "79:\tlearn: 0.4518662\ttotal: 107ms\tremaining: 1.23s\n",
      "80:\tlearn: 0.4473708\ttotal: 108ms\tremaining: 1.22s\n",
      "81:\tlearn: 0.4435023\ttotal: 108ms\tremaining: 1.21s\n",
      "82:\tlearn: 0.4390349\ttotal: 109ms\tremaining: 1.2s\n"
     ]
    },
    {
     "name": "stdout",
     "output_type": "stream",
     "text": [
      "83:\tlearn: 0.4351009\ttotal: 110ms\tremaining: 1.19s\n",
      "84:\tlearn: 0.4312862\ttotal: 110ms\tremaining: 1.19s\n",
      "85:\tlearn: 0.4271740\ttotal: 111ms\tremaining: 1.18s\n",
      "86:\tlearn: 0.4236138\ttotal: 111ms\tremaining: 1.17s\n",
      "87:\tlearn: 0.4206121\ttotal: 112ms\tremaining: 1.16s\n",
      "88:\tlearn: 0.4174308\ttotal: 112ms\tremaining: 1.15s\n",
      "89:\tlearn: 0.4141860\ttotal: 113ms\tremaining: 1.14s\n",
      "90:\tlearn: 0.4103929\ttotal: 113ms\tremaining: 1.13s\n",
      "91:\tlearn: 0.4067402\ttotal: 114ms\tremaining: 1.12s\n",
      "92:\tlearn: 0.4028314\ttotal: 114ms\tremaining: 1.11s\n",
      "93:\tlearn: 0.3992663\ttotal: 114ms\tremaining: 1.1s\n",
      "94:\tlearn: 0.3957677\ttotal: 115ms\tremaining: 1.09s\n",
      "95:\tlearn: 0.3919609\ttotal: 115ms\tremaining: 1.08s\n",
      "96:\tlearn: 0.3884873\ttotal: 116ms\tremaining: 1.08s\n",
      "97:\tlearn: 0.3852474\ttotal: 116ms\tremaining: 1.07s\n",
      "98:\tlearn: 0.3818089\ttotal: 117ms\tremaining: 1.06s\n",
      "99:\tlearn: 0.3780121\ttotal: 117ms\tremaining: 1.05s\n",
      "100:\tlearn: 0.3752180\ttotal: 117ms\tremaining: 1.04s\n",
      "101:\tlearn: 0.3719235\ttotal: 118ms\tremaining: 1.04s\n",
      "102:\tlearn: 0.3690418\ttotal: 118ms\tremaining: 1.03s\n",
      "103:\tlearn: 0.3661858\ttotal: 119ms\tremaining: 1.02s\n",
      "104:\tlearn: 0.3634470\ttotal: 119ms\tremaining: 1.01s\n",
      "105:\tlearn: 0.3607701\ttotal: 120ms\tremaining: 1.01s\n",
      "106:\tlearn: 0.3578608\ttotal: 120ms\tremaining: 1s\n",
      "107:\tlearn: 0.3549970\ttotal: 121ms\tremaining: 996ms\n",
      "108:\tlearn: 0.3523014\ttotal: 121ms\tremaining: 991ms\n",
      "109:\tlearn: 0.3496807\ttotal: 122ms\tremaining: 984ms\n",
      "110:\tlearn: 0.3464664\ttotal: 122ms\tremaining: 977ms\n",
      "111:\tlearn: 0.3437151\ttotal: 123ms\tremaining: 972ms\n",
      "112:\tlearn: 0.3407047\ttotal: 123ms\tremaining: 965ms\n",
      "113:\tlearn: 0.3379265\ttotal: 123ms\tremaining: 959ms\n",
      "114:\tlearn: 0.3350832\ttotal: 124ms\tremaining: 953ms\n",
      "115:\tlearn: 0.3321760\ttotal: 124ms\tremaining: 948ms\n",
      "116:\tlearn: 0.3292335\ttotal: 125ms\tremaining: 942ms\n",
      "117:\tlearn: 0.3265154\ttotal: 125ms\tremaining: 936ms\n",
      "118:\tlearn: 0.3240385\ttotal: 126ms\tremaining: 931ms\n",
      "119:\tlearn: 0.3213767\ttotal: 126ms\tremaining: 925ms\n",
      "120:\tlearn: 0.3191320\ttotal: 127ms\tremaining: 921ms\n",
      "121:\tlearn: 0.3163795\ttotal: 127ms\tremaining: 916ms\n",
      "122:\tlearn: 0.3140230\ttotal: 128ms\tremaining: 911ms\n",
      "123:\tlearn: 0.3114420\ttotal: 128ms\tremaining: 905ms\n",
      "124:\tlearn: 0.3090529\ttotal: 129ms\tremaining: 901ms\n",
      "125:\tlearn: 0.3068310\ttotal: 129ms\tremaining: 896ms\n",
      "126:\tlearn: 0.3043041\ttotal: 130ms\tremaining: 892ms\n",
      "127:\tlearn: 0.3022191\ttotal: 130ms\tremaining: 888ms\n",
      "128:\tlearn: 0.2997472\ttotal: 131ms\tremaining: 883ms\n",
      "129:\tlearn: 0.2974784\ttotal: 131ms\tremaining: 878ms\n",
      "130:\tlearn: 0.2949703\ttotal: 132ms\tremaining: 874ms\n",
      "131:\tlearn: 0.2924692\ttotal: 132ms\tremaining: 870ms\n",
      "132:\tlearn: 0.2901633\ttotal: 133ms\tremaining: 866ms\n",
      "133:\tlearn: 0.2880379\ttotal: 133ms\tremaining: 861ms\n",
      "134:\tlearn: 0.2858283\ttotal: 134ms\tremaining: 856ms\n",
      "135:\tlearn: 0.2836194\ttotal: 134ms\tremaining: 852ms\n",
      "136:\tlearn: 0.2820020\ttotal: 135ms\tremaining: 848ms\n",
      "137:\tlearn: 0.2797720\ttotal: 135ms\tremaining: 843ms\n",
      "138:\tlearn: 0.2779500\ttotal: 135ms\tremaining: 839ms\n",
      "139:\tlearn: 0.2759189\ttotal: 136ms\tremaining: 835ms\n",
      "140:\tlearn: 0.2741706\ttotal: 136ms\tremaining: 831ms\n",
      "141:\tlearn: 0.2720938\ttotal: 137ms\tremaining: 827ms\n",
      "142:\tlearn: 0.2699997\ttotal: 137ms\tremaining: 822ms\n",
      "143:\tlearn: 0.2677119\ttotal: 138ms\tremaining: 818ms\n",
      "144:\tlearn: 0.2656780\ttotal: 138ms\tremaining: 816ms\n",
      "145:\tlearn: 0.2637765\ttotal: 139ms\tremaining: 811ms\n",
      "146:\tlearn: 0.2616772\ttotal: 139ms\tremaining: 808ms\n",
      "147:\tlearn: 0.2595561\ttotal: 140ms\tremaining: 804ms\n",
      "148:\tlearn: 0.2572775\ttotal: 140ms\tremaining: 801ms\n",
      "149:\tlearn: 0.2555308\ttotal: 141ms\tremaining: 797ms\n",
      "150:\tlearn: 0.2535410\ttotal: 141ms\tremaining: 793ms\n",
      "151:\tlearn: 0.2519305\ttotal: 142ms\tremaining: 790ms\n",
      "152:\tlearn: 0.2500789\ttotal: 142ms\tremaining: 786ms\n",
      "153:\tlearn: 0.2479527\ttotal: 143ms\tremaining: 783ms\n",
      "154:\tlearn: 0.2457778\ttotal: 143ms\tremaining: 781ms\n",
      "155:\tlearn: 0.2440176\ttotal: 144ms\tremaining: 777ms\n",
      "156:\tlearn: 0.2422861\ttotal: 144ms\tremaining: 774ms\n",
      "157:\tlearn: 0.2406207\ttotal: 145ms\tremaining: 770ms\n",
      "158:\tlearn: 0.2390229\ttotal: 145ms\tremaining: 767ms\n",
      "159:\tlearn: 0.2374561\ttotal: 145ms\tremaining: 763ms\n",
      "160:\tlearn: 0.2357422\ttotal: 146ms\tremaining: 760ms\n",
      "161:\tlearn: 0.2342322\ttotal: 146ms\tremaining: 756ms\n",
      "162:\tlearn: 0.2326549\ttotal: 147ms\tremaining: 753ms\n",
      "163:\tlearn: 0.2309889\ttotal: 147ms\tremaining: 750ms\n",
      "164:\tlearn: 0.2291615\ttotal: 148ms\tremaining: 747ms\n",
      "165:\tlearn: 0.2271166\ttotal: 148ms\tremaining: 744ms\n",
      "166:\tlearn: 0.2253803\ttotal: 149ms\tremaining: 741ms\n",
      "167:\tlearn: 0.2238868\ttotal: 149ms\tremaining: 738ms\n",
      "168:\tlearn: 0.2219779\ttotal: 149ms\tremaining: 735ms\n",
      "169:\tlearn: 0.2202694\ttotal: 150ms\tremaining: 732ms\n",
      "170:\tlearn: 0.2187310\ttotal: 151ms\tremaining: 730ms\n",
      "171:\tlearn: 0.2171308\ttotal: 151ms\tremaining: 727ms\n",
      "172:\tlearn: 0.2157880\ttotal: 151ms\tremaining: 724ms\n",
      "173:\tlearn: 0.2141159\ttotal: 152ms\tremaining: 721ms\n",
      "174:\tlearn: 0.2125711\ttotal: 152ms\tremaining: 718ms\n",
      "175:\tlearn: 0.2109856\ttotal: 153ms\tremaining: 716ms\n",
      "176:\tlearn: 0.2098000\ttotal: 153ms\tremaining: 713ms\n",
      "177:\tlearn: 0.2085740\ttotal: 154ms\tremaining: 711ms\n",
      "178:\tlearn: 0.2067327\ttotal: 154ms\tremaining: 708ms\n",
      "179:\tlearn: 0.2052260\ttotal: 155ms\tremaining: 705ms\n",
      "180:\tlearn: 0.2035235\ttotal: 155ms\tremaining: 703ms\n",
      "181:\tlearn: 0.2022390\ttotal: 156ms\tremaining: 700ms\n",
      "182:\tlearn: 0.2010595\ttotal: 156ms\tremaining: 697ms\n",
      "183:\tlearn: 0.1994736\ttotal: 157ms\tremaining: 694ms\n",
      "184:\tlearn: 0.1981235\ttotal: 157ms\tremaining: 692ms\n",
      "185:\tlearn: 0.1964314\ttotal: 158ms\tremaining: 690ms\n",
      "186:\tlearn: 0.1953910\ttotal: 158ms\tremaining: 687ms\n",
      "187:\tlearn: 0.1939640\ttotal: 158ms\tremaining: 684ms\n",
      "188:\tlearn: 0.1926165\ttotal: 159ms\tremaining: 681ms\n",
      "189:\tlearn: 0.1912243\ttotal: 159ms\tremaining: 679ms\n",
      "190:\tlearn: 0.1895630\ttotal: 160ms\tremaining: 677ms\n",
      "191:\tlearn: 0.1878896\ttotal: 160ms\tremaining: 675ms\n",
      "192:\tlearn: 0.1868027\ttotal: 161ms\tremaining: 672ms\n",
      "193:\tlearn: 0.1852832\ttotal: 161ms\tremaining: 670ms\n",
      "194:\tlearn: 0.1840487\ttotal: 162ms\tremaining: 668ms\n",
      "195:\tlearn: 0.1825559\ttotal: 162ms\tremaining: 666ms\n",
      "196:\tlearn: 0.1812228\ttotal: 163ms\tremaining: 663ms\n",
      "197:\tlearn: 0.1801665\ttotal: 163ms\tremaining: 661ms\n",
      "198:\tlearn: 0.1788621\ttotal: 164ms\tremaining: 659ms\n",
      "199:\tlearn: 0.1777052\ttotal: 164ms\tremaining: 657ms\n",
      "200:\tlearn: 0.1765648\ttotal: 165ms\tremaining: 654ms\n",
      "201:\tlearn: 0.1754492\ttotal: 165ms\tremaining: 652ms\n",
      "202:\tlearn: 0.1742213\ttotal: 165ms\tremaining: 650ms\n",
      "203:\tlearn: 0.1730399\ttotal: 166ms\tremaining: 648ms\n",
      "204:\tlearn: 0.1717119\ttotal: 166ms\tremaining: 646ms\n",
      "205:\tlearn: 0.1707570\ttotal: 167ms\tremaining: 644ms\n",
      "206:\tlearn: 0.1698105\ttotal: 168ms\tremaining: 642ms\n",
      "207:\tlearn: 0.1687143\ttotal: 168ms\tremaining: 640ms\n",
      "208:\tlearn: 0.1676522\ttotal: 169ms\tremaining: 639ms\n",
      "209:\tlearn: 0.1665031\ttotal: 169ms\tremaining: 637ms\n",
      "210:\tlearn: 0.1653569\ttotal: 170ms\tremaining: 635ms\n",
      "211:\tlearn: 0.1645010\ttotal: 171ms\tremaining: 634ms\n",
      "212:\tlearn: 0.1634109\ttotal: 171ms\tremaining: 632ms\n",
      "213:\tlearn: 0.1621453\ttotal: 172ms\tremaining: 630ms\n",
      "214:\tlearn: 0.1612653\ttotal: 172ms\tremaining: 629ms\n",
      "215:\tlearn: 0.1600264\ttotal: 173ms\tremaining: 627ms\n",
      "216:\tlearn: 0.1588029\ttotal: 173ms\tremaining: 625ms\n",
      "217:\tlearn: 0.1576086\ttotal: 174ms\tremaining: 623ms\n",
      "218:\tlearn: 0.1567566\ttotal: 174ms\tremaining: 621ms\n",
      "219:\tlearn: 0.1554138\ttotal: 175ms\tremaining: 619ms\n",
      "220:\tlearn: 0.1544218\ttotal: 175ms\tremaining: 617ms\n",
      "221:\tlearn: 0.1532222\ttotal: 175ms\tremaining: 615ms\n",
      "222:\tlearn: 0.1522306\ttotal: 176ms\tremaining: 612ms\n",
      "223:\tlearn: 0.1512517\ttotal: 176ms\tremaining: 610ms\n",
      "224:\tlearn: 0.1502687\ttotal: 177ms\tremaining: 608ms\n",
      "225:\tlearn: 0.1492073\ttotal: 177ms\tremaining: 606ms\n",
      "226:\tlearn: 0.1479222\ttotal: 177ms\tremaining: 604ms\n",
      "227:\tlearn: 0.1469999\ttotal: 178ms\tremaining: 602ms\n",
      "228:\tlearn: 0.1459227\ttotal: 178ms\tremaining: 600ms\n",
      "229:\tlearn: 0.1448939\ttotal: 179ms\tremaining: 598ms\n",
      "230:\tlearn: 0.1440728\ttotal: 179ms\tremaining: 596ms\n",
      "231:\tlearn: 0.1428797\ttotal: 180ms\tremaining: 595ms\n",
      "232:\tlearn: 0.1417420\ttotal: 180ms\tremaining: 593ms\n",
      "233:\tlearn: 0.1407820\ttotal: 180ms\tremaining: 591ms\n",
      "234:\tlearn: 0.1397027\ttotal: 181ms\tremaining: 589ms\n",
      "235:\tlearn: 0.1387278\ttotal: 181ms\tremaining: 587ms\n",
      "236:\tlearn: 0.1375888\ttotal: 182ms\tremaining: 585ms\n",
      "237:\tlearn: 0.1365685\ttotal: 182ms\tremaining: 584ms\n",
      "238:\tlearn: 0.1356096\ttotal: 183ms\tremaining: 582ms\n",
      "239:\tlearn: 0.1347319\ttotal: 183ms\tremaining: 580ms\n",
      "240:\tlearn: 0.1337616\ttotal: 184ms\tremaining: 578ms\n",
      "241:\tlearn: 0.1327272\ttotal: 184ms\tremaining: 576ms\n",
      "242:\tlearn: 0.1317658\ttotal: 184ms\tremaining: 575ms\n",
      "243:\tlearn: 0.1308360\ttotal: 185ms\tremaining: 573ms\n",
      "244:\tlearn: 0.1301904\ttotal: 185ms\tremaining: 571ms\n",
      "245:\tlearn: 0.1291155\ttotal: 186ms\tremaining: 570ms\n",
      "246:\tlearn: 0.1282020\ttotal: 186ms\tremaining: 568ms\n",
      "247:\tlearn: 0.1272980\ttotal: 187ms\tremaining: 567ms\n",
      "248:\tlearn: 0.1264214\ttotal: 187ms\tremaining: 565ms\n"
     ]
    },
    {
     "name": "stdout",
     "output_type": "stream",
     "text": [
      "249:\tlearn: 0.1254723\ttotal: 188ms\tremaining: 564ms\n",
      "250:\tlearn: 0.1246876\ttotal: 189ms\tremaining: 563ms\n",
      "251:\tlearn: 0.1236686\ttotal: 189ms\tremaining: 561ms\n",
      "252:\tlearn: 0.1227619\ttotal: 189ms\tremaining: 559ms\n",
      "253:\tlearn: 0.1217858\ttotal: 190ms\tremaining: 558ms\n",
      "254:\tlearn: 0.1209008\ttotal: 190ms\tremaining: 556ms\n",
      "255:\tlearn: 0.1199653\ttotal: 191ms\tremaining: 554ms\n",
      "256:\tlearn: 0.1190132\ttotal: 191ms\tremaining: 552ms\n",
      "257:\tlearn: 0.1183768\ttotal: 192ms\tremaining: 551ms\n",
      "258:\tlearn: 0.1176236\ttotal: 192ms\tremaining: 549ms\n",
      "259:\tlearn: 0.1170381\ttotal: 192ms\tremaining: 548ms\n",
      "260:\tlearn: 0.1161581\ttotal: 193ms\tremaining: 547ms\n",
      "261:\tlearn: 0.1153253\ttotal: 194ms\tremaining: 545ms\n",
      "262:\tlearn: 0.1147783\ttotal: 194ms\tremaining: 544ms\n",
      "263:\tlearn: 0.1141214\ttotal: 195ms\tremaining: 543ms\n",
      "264:\tlearn: 0.1132974\ttotal: 195ms\tremaining: 542ms\n",
      "265:\tlearn: 0.1126717\ttotal: 196ms\tremaining: 540ms\n",
      "266:\tlearn: 0.1118569\ttotal: 196ms\tremaining: 539ms\n",
      "267:\tlearn: 0.1110075\ttotal: 197ms\tremaining: 537ms\n",
      "268:\tlearn: 0.1100116\ttotal: 197ms\tremaining: 536ms\n",
      "269:\tlearn: 0.1092410\ttotal: 198ms\tremaining: 535ms\n",
      "270:\tlearn: 0.1084467\ttotal: 198ms\tremaining: 533ms\n",
      "271:\tlearn: 0.1075831\ttotal: 199ms\tremaining: 532ms\n",
      "272:\tlearn: 0.1068095\ttotal: 199ms\tremaining: 530ms\n",
      "273:\tlearn: 0.1060944\ttotal: 200ms\tremaining: 529ms\n",
      "274:\tlearn: 0.1052375\ttotal: 200ms\tremaining: 527ms\n",
      "275:\tlearn: 0.1044731\ttotal: 201ms\tremaining: 526ms\n",
      "276:\tlearn: 0.1035950\ttotal: 201ms\tremaining: 525ms\n",
      "277:\tlearn: 0.1029895\ttotal: 202ms\tremaining: 524ms\n",
      "278:\tlearn: 0.1022870\ttotal: 202ms\tremaining: 523ms\n",
      "279:\tlearn: 0.1015543\ttotal: 203ms\tremaining: 521ms\n",
      "280:\tlearn: 0.1010135\ttotal: 203ms\tremaining: 520ms\n",
      "281:\tlearn: 0.1002969\ttotal: 204ms\tremaining: 519ms\n",
      "282:\tlearn: 0.0996546\ttotal: 204ms\tremaining: 518ms\n",
      "283:\tlearn: 0.0988740\ttotal: 205ms\tremaining: 516ms\n",
      "284:\tlearn: 0.0983124\ttotal: 205ms\tremaining: 515ms\n",
      "285:\tlearn: 0.0976769\ttotal: 206ms\tremaining: 514ms\n",
      "286:\tlearn: 0.0970352\ttotal: 206ms\tremaining: 513ms\n",
      "287:\tlearn: 0.0964273\ttotal: 207ms\tremaining: 511ms\n",
      "288:\tlearn: 0.0958125\ttotal: 207ms\tremaining: 510ms\n",
      "289:\tlearn: 0.0951675\ttotal: 208ms\tremaining: 509ms\n",
      "290:\tlearn: 0.0945086\ttotal: 208ms\tremaining: 508ms\n",
      "291:\tlearn: 0.0939115\ttotal: 209ms\tremaining: 507ms\n",
      "292:\tlearn: 0.0931773\ttotal: 209ms\tremaining: 505ms\n",
      "293:\tlearn: 0.0926816\ttotal: 210ms\tremaining: 504ms\n",
      "294:\tlearn: 0.0922565\ttotal: 210ms\tremaining: 503ms\n",
      "295:\tlearn: 0.0917078\ttotal: 211ms\tremaining: 502ms\n",
      "296:\tlearn: 0.0910499\ttotal: 212ms\tremaining: 501ms\n",
      "297:\tlearn: 0.0905307\ttotal: 212ms\tremaining: 499ms\n",
      "298:\tlearn: 0.0899641\ttotal: 212ms\tremaining: 498ms\n",
      "299:\tlearn: 0.0895815\ttotal: 213ms\tremaining: 497ms\n",
      "300:\tlearn: 0.0891787\ttotal: 213ms\tremaining: 496ms\n",
      "301:\tlearn: 0.0886977\ttotal: 214ms\tremaining: 494ms\n",
      "302:\tlearn: 0.0882441\ttotal: 215ms\tremaining: 494ms\n",
      "303:\tlearn: 0.0876949\ttotal: 215ms\tremaining: 492ms\n",
      "304:\tlearn: 0.0871378\ttotal: 216ms\tremaining: 491ms\n",
      "305:\tlearn: 0.0867212\ttotal: 216ms\tremaining: 490ms\n",
      "306:\tlearn: 0.0861743\ttotal: 216ms\tremaining: 488ms\n",
      "307:\tlearn: 0.0855887\ttotal: 217ms\tremaining: 487ms\n",
      "308:\tlearn: 0.0851182\ttotal: 217ms\tremaining: 486ms\n",
      "309:\tlearn: 0.0844724\ttotal: 218ms\tremaining: 484ms\n",
      "310:\tlearn: 0.0838790\ttotal: 218ms\tremaining: 483ms\n",
      "311:\tlearn: 0.0832876\ttotal: 219ms\tremaining: 482ms\n",
      "312:\tlearn: 0.0827120\ttotal: 219ms\tremaining: 481ms\n",
      "313:\tlearn: 0.0820984\ttotal: 220ms\tremaining: 480ms\n",
      "314:\tlearn: 0.0816413\ttotal: 220ms\tremaining: 479ms\n",
      "315:\tlearn: 0.0812383\ttotal: 221ms\tremaining: 478ms\n",
      "316:\tlearn: 0.0807707\ttotal: 221ms\tremaining: 477ms\n",
      "317:\tlearn: 0.0802887\ttotal: 222ms\tremaining: 476ms\n",
      "318:\tlearn: 0.0798938\ttotal: 223ms\tremaining: 475ms\n",
      "319:\tlearn: 0.0793565\ttotal: 223ms\tremaining: 474ms\n",
      "320:\tlearn: 0.0790076\ttotal: 223ms\tremaining: 472ms\n",
      "321:\tlearn: 0.0784898\ttotal: 224ms\tremaining: 471ms\n",
      "322:\tlearn: 0.0780415\ttotal: 224ms\tremaining: 470ms\n",
      "323:\tlearn: 0.0775993\ttotal: 225ms\tremaining: 469ms\n",
      "324:\tlearn: 0.0770968\ttotal: 225ms\tremaining: 467ms\n",
      "325:\tlearn: 0.0767788\ttotal: 226ms\tremaining: 467ms\n",
      "326:\tlearn: 0.0762558\ttotal: 226ms\tremaining: 465ms\n",
      "327:\tlearn: 0.0758929\ttotal: 227ms\tremaining: 464ms\n",
      "328:\tlearn: 0.0753844\ttotal: 227ms\tremaining: 463ms\n",
      "329:\tlearn: 0.0749757\ttotal: 228ms\tremaining: 462ms\n",
      "330:\tlearn: 0.0745566\ttotal: 228ms\tremaining: 461ms\n",
      "331:\tlearn: 0.0741394\ttotal: 229ms\tremaining: 460ms\n",
      "332:\tlearn: 0.0737459\ttotal: 229ms\tremaining: 459ms\n",
      "333:\tlearn: 0.0732178\ttotal: 230ms\tremaining: 458ms\n",
      "334:\tlearn: 0.0728766\ttotal: 230ms\tremaining: 457ms\n",
      "335:\tlearn: 0.0724285\ttotal: 231ms\tremaining: 456ms\n",
      "336:\tlearn: 0.0720261\ttotal: 231ms\tremaining: 455ms\n",
      "337:\tlearn: 0.0715710\ttotal: 232ms\tremaining: 453ms\n",
      "338:\tlearn: 0.0712378\ttotal: 232ms\tremaining: 452ms\n",
      "339:\tlearn: 0.0707636\ttotal: 232ms\tremaining: 451ms\n",
      "340:\tlearn: 0.0704392\ttotal: 233ms\tremaining: 450ms\n",
      "341:\tlearn: 0.0700287\ttotal: 233ms\tremaining: 449ms\n",
      "342:\tlearn: 0.0696319\ttotal: 234ms\tremaining: 448ms\n",
      "343:\tlearn: 0.0692302\ttotal: 234ms\tremaining: 447ms\n",
      "344:\tlearn: 0.0688390\ttotal: 235ms\tremaining: 446ms\n",
      "345:\tlearn: 0.0684446\ttotal: 235ms\tremaining: 444ms\n",
      "346:\tlearn: 0.0681467\ttotal: 236ms\tremaining: 443ms\n",
      "347:\tlearn: 0.0677847\ttotal: 236ms\tremaining: 442ms\n",
      "348:\tlearn: 0.0674942\ttotal: 237ms\tremaining: 441ms\n",
      "349:\tlearn: 0.0671260\ttotal: 237ms\tremaining: 440ms\n",
      "350:\tlearn: 0.0667304\ttotal: 237ms\tremaining: 439ms\n",
      "351:\tlearn: 0.0663345\ttotal: 238ms\tremaining: 438ms\n",
      "352:\tlearn: 0.0660002\ttotal: 238ms\tremaining: 437ms\n",
      "353:\tlearn: 0.0656726\ttotal: 239ms\tremaining: 436ms\n",
      "354:\tlearn: 0.0653333\ttotal: 239ms\tremaining: 435ms\n",
      "355:\tlearn: 0.0650178\ttotal: 240ms\tremaining: 434ms\n",
      "356:\tlearn: 0.0647770\ttotal: 240ms\tremaining: 433ms\n",
      "357:\tlearn: 0.0645035\ttotal: 241ms\tremaining: 432ms\n",
      "358:\tlearn: 0.0641970\ttotal: 241ms\tremaining: 431ms\n",
      "359:\tlearn: 0.0638063\ttotal: 242ms\tremaining: 430ms\n",
      "360:\tlearn: 0.0635432\ttotal: 242ms\tremaining: 429ms\n",
      "361:\tlearn: 0.0632470\ttotal: 243ms\tremaining: 428ms\n",
      "362:\tlearn: 0.0628894\ttotal: 243ms\tremaining: 427ms\n",
      "363:\tlearn: 0.0625402\ttotal: 244ms\tremaining: 426ms\n",
      "364:\tlearn: 0.0622551\ttotal: 244ms\tremaining: 425ms\n",
      "365:\tlearn: 0.0619172\ttotal: 245ms\tremaining: 424ms\n",
      "366:\tlearn: 0.0615504\ttotal: 245ms\tremaining: 423ms\n",
      "367:\tlearn: 0.0612092\ttotal: 246ms\tremaining: 422ms\n",
      "368:\tlearn: 0.0608326\ttotal: 246ms\tremaining: 421ms\n",
      "369:\tlearn: 0.0604652\ttotal: 247ms\tremaining: 420ms\n",
      "370:\tlearn: 0.0602093\ttotal: 247ms\tremaining: 419ms\n",
      "371:\tlearn: 0.0599356\ttotal: 248ms\tremaining: 418ms\n",
      "372:\tlearn: 0.0596704\ttotal: 248ms\tremaining: 417ms\n",
      "373:\tlearn: 0.0593806\ttotal: 248ms\tremaining: 416ms\n",
      "374:\tlearn: 0.0590974\ttotal: 249ms\tremaining: 415ms\n",
      "375:\tlearn: 0.0588039\ttotal: 249ms\tremaining: 414ms\n",
      "376:\tlearn: 0.0584899\ttotal: 250ms\tremaining: 413ms\n",
      "377:\tlearn: 0.0581522\ttotal: 250ms\tremaining: 412ms\n",
      "378:\tlearn: 0.0578159\ttotal: 251ms\tremaining: 411ms\n",
      "379:\tlearn: 0.0575642\ttotal: 251ms\tremaining: 410ms\n",
      "380:\tlearn: 0.0572433\ttotal: 252ms\tremaining: 409ms\n",
      "381:\tlearn: 0.0569573\ttotal: 252ms\tremaining: 408ms\n",
      "382:\tlearn: 0.0566981\ttotal: 253ms\tremaining: 408ms\n",
      "383:\tlearn: 0.0564233\ttotal: 253ms\tremaining: 406ms\n",
      "384:\tlearn: 0.0562259\ttotal: 254ms\tremaining: 405ms\n",
      "385:\tlearn: 0.0559104\ttotal: 254ms\tremaining: 404ms\n",
      "386:\tlearn: 0.0556465\ttotal: 255ms\tremaining: 404ms\n",
      "387:\tlearn: 0.0553915\ttotal: 255ms\tremaining: 403ms\n",
      "388:\tlearn: 0.0551557\ttotal: 256ms\tremaining: 402ms\n",
      "389:\tlearn: 0.0549229\ttotal: 257ms\tremaining: 401ms\n",
      "390:\tlearn: 0.0546757\ttotal: 257ms\tremaining: 400ms\n",
      "391:\tlearn: 0.0544493\ttotal: 257ms\tremaining: 399ms\n",
      "392:\tlearn: 0.0542285\ttotal: 258ms\tremaining: 398ms\n",
      "393:\tlearn: 0.0539803\ttotal: 258ms\tremaining: 398ms\n",
      "394:\tlearn: 0.0537296\ttotal: 259ms\tremaining: 397ms\n",
      "395:\tlearn: 0.0534280\ttotal: 259ms\tremaining: 395ms\n",
      "396:\tlearn: 0.0532519\ttotal: 260ms\tremaining: 395ms\n",
      "397:\tlearn: 0.0530796\ttotal: 260ms\tremaining: 394ms\n",
      "398:\tlearn: 0.0527559\ttotal: 261ms\tremaining: 392ms\n",
      "399:\tlearn: 0.0525878\ttotal: 261ms\tremaining: 391ms\n",
      "400:\tlearn: 0.0524354\ttotal: 262ms\tremaining: 391ms\n",
      "401:\tlearn: 0.0521254\ttotal: 262ms\tremaining: 390ms\n",
      "402:\tlearn: 0.0518529\ttotal: 263ms\tremaining: 389ms\n",
      "403:\tlearn: 0.0516764\ttotal: 263ms\tremaining: 388ms\n",
      "404:\tlearn: 0.0515307\ttotal: 263ms\tremaining: 387ms\n",
      "405:\tlearn: 0.0512783\ttotal: 264ms\tremaining: 386ms\n",
      "406:\tlearn: 0.0511093\ttotal: 264ms\tremaining: 385ms\n",
      "407:\tlearn: 0.0509642\ttotal: 265ms\tremaining: 384ms\n",
      "408:\tlearn: 0.0506835\ttotal: 265ms\tremaining: 383ms\n",
      "409:\tlearn: 0.0505420\ttotal: 266ms\tremaining: 382ms\n",
      "410:\tlearn: 0.0504588\ttotal: 266ms\tremaining: 381ms\n",
      "411:\tlearn: 0.0501568\ttotal: 267ms\tremaining: 381ms\n",
      "412:\tlearn: 0.0498755\ttotal: 267ms\tremaining: 380ms\n",
      "413:\tlearn: 0.0496077\ttotal: 267ms\tremaining: 378ms\n",
      "414:\tlearn: 0.0495269\ttotal: 268ms\tremaining: 378ms\n",
      "415:\tlearn: 0.0492547\ttotal: 268ms\tremaining: 377ms\n",
      "416:\tlearn: 0.0489883\ttotal: 269ms\tremaining: 376ms\n",
      "417:\tlearn: 0.0487335\ttotal: 269ms\tremaining: 375ms\n",
      "418:\tlearn: 0.0484087\ttotal: 270ms\tremaining: 374ms\n",
      "419:\tlearn: 0.0482029\ttotal: 270ms\tremaining: 373ms\n",
      "420:\tlearn: 0.0478849\ttotal: 270ms\tremaining: 372ms\n",
      "421:\tlearn: 0.0478081\ttotal: 271ms\tremaining: 371ms\n",
      "422:\tlearn: 0.0474958\ttotal: 271ms\tremaining: 370ms\n",
      "423:\tlearn: 0.0472967\ttotal: 272ms\tremaining: 369ms\n",
      "424:\tlearn: 0.0472218\ttotal: 272ms\tremaining: 368ms\n",
      "425:\tlearn: 0.0469165\ttotal: 273ms\tremaining: 368ms\n",
      "426:\tlearn: 0.0467226\ttotal: 273ms\tremaining: 367ms\n",
      "427:\tlearn: 0.0466075\ttotal: 274ms\tremaining: 366ms\n",
      "428:\tlearn: 0.0463687\ttotal: 274ms\tremaining: 365ms\n",
      "429:\tlearn: 0.0460721\ttotal: 275ms\tremaining: 364ms\n",
      "430:\tlearn: 0.0459920\ttotal: 276ms\tremaining: 364ms\n",
      "431:\tlearn: 0.0457008\ttotal: 276ms\tremaining: 363ms\n",
      "432:\tlearn: 0.0455900\ttotal: 277ms\tremaining: 362ms\n",
      "433:\tlearn: 0.0453086\ttotal: 277ms\tremaining: 361ms\n",
      "434:\tlearn: 0.0451257\ttotal: 278ms\tremaining: 360ms\n",
      "435:\tlearn: 0.0449698\ttotal: 278ms\tremaining: 360ms\n",
      "436:\tlearn: 0.0449017\ttotal: 278ms\tremaining: 359ms\n",
      "437:\tlearn: 0.0446590\ttotal: 279ms\tremaining: 358ms\n",
      "438:\tlearn: 0.0444835\ttotal: 279ms\tremaining: 357ms\n",
      "439:\tlearn: 0.0443750\ttotal: 280ms\tremaining: 356ms\n",
      "440:\tlearn: 0.0442686\ttotal: 281ms\tremaining: 356ms\n",
      "441:\tlearn: 0.0440375\ttotal: 281ms\tremaining: 355ms\n",
      "442:\tlearn: 0.0439348\ttotal: 281ms\tremaining: 354ms\n",
      "443:\tlearn: 0.0436298\ttotal: 282ms\tremaining: 353ms\n",
      "444:\tlearn: 0.0433627\ttotal: 282ms\tremaining: 352ms\n",
      "445:\tlearn: 0.0431430\ttotal: 283ms\tremaining: 351ms\n",
      "446:\tlearn: 0.0429285\ttotal: 283ms\tremaining: 350ms\n",
      "447:\tlearn: 0.0427284\ttotal: 284ms\tremaining: 350ms\n",
      "448:\tlearn: 0.0426673\ttotal: 284ms\tremaining: 349ms\n",
      "449:\tlearn: 0.0425238\ttotal: 285ms\tremaining: 348ms\n",
      "450:\tlearn: 0.0422882\ttotal: 285ms\tremaining: 347ms\n",
      "451:\tlearn: 0.0421906\ttotal: 286ms\tremaining: 347ms\n",
      "452:\tlearn: 0.0420504\ttotal: 286ms\tremaining: 346ms\n",
      "453:\tlearn: 0.0417941\ttotal: 287ms\tremaining: 345ms\n",
      "454:\tlearn: 0.0416839\ttotal: 288ms\tremaining: 344ms\n",
      "455:\tlearn: 0.0415895\ttotal: 288ms\tremaining: 344ms\n",
      "456:\tlearn: 0.0414539\ttotal: 289ms\tremaining: 343ms\n",
      "457:\tlearn: 0.0412061\ttotal: 289ms\tremaining: 342ms\n",
      "458:\tlearn: 0.0410998\ttotal: 290ms\tremaining: 341ms\n",
      "459:\tlearn: 0.0410345\ttotal: 290ms\tremaining: 341ms\n",
      "460:\tlearn: 0.0409034\ttotal: 291ms\tremaining: 340ms\n",
      "461:\tlearn: 0.0407997\ttotal: 291ms\tremaining: 339ms\n",
      "462:\tlearn: 0.0405789\ttotal: 292ms\tremaining: 338ms\n"
     ]
    },
    {
     "name": "stdout",
     "output_type": "stream",
     "text": [
      "463:\tlearn: 0.0404517\ttotal: 292ms\tremaining: 338ms\n",
      "464:\tlearn: 0.0403266\ttotal: 293ms\tremaining: 337ms\n",
      "465:\tlearn: 0.0400833\ttotal: 294ms\tremaining: 336ms\n",
      "466:\tlearn: 0.0399785\ttotal: 294ms\tremaining: 336ms\n",
      "467:\tlearn: 0.0397497\ttotal: 295ms\tremaining: 335ms\n",
      "468:\tlearn: 0.0394884\ttotal: 295ms\tremaining: 334ms\n",
      "469:\tlearn: 0.0393478\ttotal: 295ms\tremaining: 333ms\n",
      "470:\tlearn: 0.0389778\ttotal: 296ms\tremaining: 332ms\n",
      "471:\tlearn: 0.0388407\ttotal: 296ms\tremaining: 332ms\n",
      "472:\tlearn: 0.0385316\ttotal: 297ms\tremaining: 331ms\n",
      "473:\tlearn: 0.0383968\ttotal: 297ms\tremaining: 330ms\n",
      "474:\tlearn: 0.0382462\ttotal: 298ms\tremaining: 329ms\n",
      "475:\tlearn: 0.0381139\ttotal: 298ms\tremaining: 328ms\n",
      "476:\tlearn: 0.0379837\ttotal: 299ms\tremaining: 327ms\n",
      "477:\tlearn: 0.0377412\ttotal: 299ms\tremaining: 327ms\n",
      "478:\tlearn: 0.0376144\ttotal: 300ms\tremaining: 326ms\n",
      "479:\tlearn: 0.0374044\ttotal: 300ms\tremaining: 325ms\n",
      "480:\tlearn: 0.0372766\ttotal: 301ms\tremaining: 325ms\n",
      "481:\tlearn: 0.0371511\ttotal: 301ms\tremaining: 324ms\n",
      "482:\tlearn: 0.0370430\ttotal: 302ms\tremaining: 323ms\n",
      "483:\tlearn: 0.0368355\ttotal: 302ms\tremaining: 322ms\n",
      "484:\tlearn: 0.0366323\ttotal: 303ms\tremaining: 321ms\n",
      "485:\tlearn: 0.0365193\ttotal: 303ms\tremaining: 321ms\n",
      "486:\tlearn: 0.0362933\ttotal: 303ms\tremaining: 320ms\n",
      "487:\tlearn: 0.0360094\ttotal: 304ms\tremaining: 319ms\n",
      "488:\tlearn: 0.0358154\ttotal: 304ms\tremaining: 318ms\n",
      "489:\tlearn: 0.0354930\ttotal: 305ms\tremaining: 317ms\n",
      "490:\tlearn: 0.0353864\ttotal: 305ms\tremaining: 316ms\n",
      "491:\tlearn: 0.0350737\ttotal: 306ms\tremaining: 316ms\n",
      "492:\tlearn: 0.0349714\ttotal: 306ms\tremaining: 315ms\n",
      "493:\tlearn: 0.0348684\ttotal: 306ms\tremaining: 314ms\n",
      "494:\tlearn: 0.0345659\ttotal: 307ms\tremaining: 313ms\n",
      "495:\tlearn: 0.0344732\ttotal: 307ms\tremaining: 312ms\n",
      "496:\tlearn: 0.0343553\ttotal: 308ms\tremaining: 311ms\n",
      "497:\tlearn: 0.0340699\ttotal: 308ms\tremaining: 311ms\n",
      "498:\tlearn: 0.0339650\ttotal: 308ms\tremaining: 310ms\n",
      "499:\tlearn: 0.0336801\ttotal: 309ms\tremaining: 309ms\n",
      "500:\tlearn: 0.0335775\ttotal: 309ms\tremaining: 308ms\n",
      "501:\tlearn: 0.0333077\ttotal: 310ms\tremaining: 307ms\n",
      "502:\tlearn: 0.0332093\ttotal: 310ms\tremaining: 307ms\n",
      "503:\tlearn: 0.0331099\ttotal: 311ms\tremaining: 306ms\n",
      "504:\tlearn: 0.0329958\ttotal: 311ms\tremaining: 305ms\n",
      "505:\tlearn: 0.0327350\ttotal: 311ms\tremaining: 304ms\n",
      "506:\tlearn: 0.0326395\ttotal: 312ms\tremaining: 303ms\n",
      "507:\tlearn: 0.0325278\ttotal: 312ms\tremaining: 302ms\n",
      "508:\tlearn: 0.0324392\ttotal: 313ms\tremaining: 302ms\n",
      "509:\tlearn: 0.0323295\ttotal: 313ms\tremaining: 301ms\n",
      "510:\tlearn: 0.0322424\ttotal: 314ms\tremaining: 300ms\n",
      "511:\tlearn: 0.0321345\ttotal: 314ms\tremaining: 299ms\n",
      "512:\tlearn: 0.0318845\ttotal: 314ms\tremaining: 298ms\n",
      "513:\tlearn: 0.0317790\ttotal: 315ms\tremaining: 298ms\n",
      "514:\tlearn: 0.0316941\ttotal: 315ms\tremaining: 297ms\n",
      "515:\tlearn: 0.0315668\ttotal: 316ms\tremaining: 296ms\n",
      "516:\tlearn: 0.0313176\ttotal: 316ms\tremaining: 296ms\n",
      "517:\tlearn: 0.0311743\ttotal: 317ms\tremaining: 295ms\n",
      "518:\tlearn: 0.0310412\ttotal: 317ms\tremaining: 294ms\n",
      "519:\tlearn: 0.0309111\ttotal: 318ms\tremaining: 293ms\n",
      "520:\tlearn: 0.0307726\ttotal: 318ms\tremaining: 293ms\n",
      "521:\tlearn: 0.0306463\ttotal: 319ms\tremaining: 292ms\n",
      "522:\tlearn: 0.0304165\ttotal: 319ms\tremaining: 291ms\n",
      "523:\tlearn: 0.0303285\ttotal: 319ms\tremaining: 290ms\n",
      "524:\tlearn: 0.0302432\ttotal: 320ms\tremaining: 289ms\n",
      "525:\tlearn: 0.0300373\ttotal: 320ms\tremaining: 289ms\n",
      "526:\tlearn: 0.0298724\ttotal: 321ms\tremaining: 288ms\n",
      "527:\tlearn: 0.0297874\ttotal: 321ms\tremaining: 287ms\n",
      "528:\tlearn: 0.0296262\ttotal: 322ms\tremaining: 286ms\n",
      "529:\tlearn: 0.0295079\ttotal: 322ms\tremaining: 286ms\n",
      "530:\tlearn: 0.0293689\ttotal: 323ms\tremaining: 285ms\n",
      "531:\tlearn: 0.0292861\ttotal: 323ms\tremaining: 284ms\n",
      "532:\tlearn: 0.0292140\ttotal: 323ms\tremaining: 283ms\n",
      "533:\tlearn: 0.0290163\ttotal: 324ms\tremaining: 282ms\n",
      "534:\tlearn: 0.0288631\ttotal: 324ms\tremaining: 282ms\n",
      "535:\tlearn: 0.0287497\ttotal: 325ms\tremaining: 281ms\n",
      "536:\tlearn: 0.0285502\ttotal: 325ms\tremaining: 280ms\n",
      "537:\tlearn: 0.0284393\ttotal: 326ms\tremaining: 280ms\n",
      "538:\tlearn: 0.0282535\ttotal: 326ms\tremaining: 279ms\n",
      "539:\tlearn: 0.0280824\ttotal: 327ms\tremaining: 278ms\n",
      "540:\tlearn: 0.0279042\ttotal: 327ms\tremaining: 277ms\n",
      "541:\tlearn: 0.0277966\ttotal: 327ms\tremaining: 277ms\n",
      "542:\tlearn: 0.0276323\ttotal: 328ms\tremaining: 276ms\n",
      "543:\tlearn: 0.0275101\ttotal: 328ms\tremaining: 275ms\n",
      "544:\tlearn: 0.0273905\ttotal: 329ms\tremaining: 275ms\n",
      "545:\tlearn: 0.0272517\ttotal: 329ms\tremaining: 274ms\n",
      "546:\tlearn: 0.0271752\ttotal: 330ms\tremaining: 273ms\n",
      "547:\tlearn: 0.0270508\ttotal: 330ms\tremaining: 273ms\n",
      "548:\tlearn: 0.0269757\ttotal: 331ms\tremaining: 272ms\n",
      "549:\tlearn: 0.0269103\ttotal: 332ms\tremaining: 271ms\n",
      "550:\tlearn: 0.0267545\ttotal: 332ms\tremaining: 271ms\n",
      "551:\tlearn: 0.0266185\ttotal: 333ms\tremaining: 270ms\n",
      "552:\tlearn: 0.0264885\ttotal: 333ms\tremaining: 269ms\n",
      "553:\tlearn: 0.0264163\ttotal: 334ms\tremaining: 269ms\n",
      "554:\tlearn: 0.0263075\ttotal: 334ms\tremaining: 268ms\n",
      "555:\tlearn: 0.0262363\ttotal: 335ms\tremaining: 267ms\n",
      "556:\tlearn: 0.0260668\ttotal: 335ms\tremaining: 267ms\n",
      "557:\tlearn: 0.0259969\ttotal: 336ms\tremaining: 266ms\n",
      "558:\tlearn: 0.0258985\ttotal: 336ms\tremaining: 265ms\n",
      "559:\tlearn: 0.0258366\ttotal: 337ms\tremaining: 265ms\n",
      "560:\tlearn: 0.0257053\ttotal: 337ms\tremaining: 264ms\n",
      "561:\tlearn: 0.0255654\ttotal: 338ms\tremaining: 263ms\n",
      "562:\tlearn: 0.0254372\ttotal: 338ms\tremaining: 262ms\n",
      "563:\tlearn: 0.0253692\ttotal: 338ms\tremaining: 262ms\n",
      "564:\tlearn: 0.0252421\ttotal: 339ms\tremaining: 261ms\n",
      "565:\tlearn: 0.0250878\ttotal: 339ms\tremaining: 260ms\n",
      "566:\tlearn: 0.0250215\ttotal: 340ms\tremaining: 260ms\n",
      "567:\tlearn: 0.0249170\ttotal: 341ms\tremaining: 259ms\n",
      "568:\tlearn: 0.0248145\ttotal: 341ms\tremaining: 258ms\n",
      "569:\tlearn: 0.0247558\ttotal: 342ms\tremaining: 258ms\n",
      "570:\tlearn: 0.0246058\ttotal: 342ms\tremaining: 257ms\n",
      "571:\tlearn: 0.0245213\ttotal: 343ms\tremaining: 256ms\n",
      "572:\tlearn: 0.0244476\ttotal: 343ms\tremaining: 256ms\n",
      "573:\tlearn: 0.0243728\ttotal: 344ms\tremaining: 255ms\n",
      "574:\tlearn: 0.0242363\ttotal: 344ms\tremaining: 255ms\n",
      "575:\tlearn: 0.0241059\ttotal: 345ms\tremaining: 254ms\n",
      "576:\tlearn: 0.0240188\ttotal: 346ms\tremaining: 253ms\n",
      "577:\tlearn: 0.0239390\ttotal: 346ms\tremaining: 253ms\n",
      "578:\tlearn: 0.0238540\ttotal: 346ms\tremaining: 252ms\n",
      "579:\tlearn: 0.0237197\ttotal: 347ms\tremaining: 251ms\n",
      "580:\tlearn: 0.0235879\ttotal: 348ms\tremaining: 251ms\n",
      "581:\tlearn: 0.0235182\ttotal: 348ms\tremaining: 250ms\n",
      "582:\tlearn: 0.0233941\ttotal: 349ms\tremaining: 249ms\n",
      "583:\tlearn: 0.0233271\ttotal: 349ms\tremaining: 249ms\n",
      "584:\tlearn: 0.0231976\ttotal: 350ms\tremaining: 248ms\n",
      "585:\tlearn: 0.0230773\ttotal: 350ms\tremaining: 247ms\n",
      "586:\tlearn: 0.0230036\ttotal: 351ms\tremaining: 247ms\n",
      "587:\tlearn: 0.0229247\ttotal: 351ms\tremaining: 246ms\n",
      "588:\tlearn: 0.0228286\ttotal: 352ms\tremaining: 246ms\n",
      "589:\tlearn: 0.0227344\ttotal: 352ms\tremaining: 245ms\n",
      "590:\tlearn: 0.0226109\ttotal: 353ms\tremaining: 244ms\n",
      "591:\tlearn: 0.0224888\ttotal: 354ms\tremaining: 244ms\n",
      "592:\tlearn: 0.0223578\ttotal: 354ms\tremaining: 243ms\n",
      "593:\tlearn: 0.0222445\ttotal: 354ms\tremaining: 242ms\n",
      "594:\tlearn: 0.0221818\ttotal: 355ms\tremaining: 241ms\n",
      "595:\tlearn: 0.0221116\ttotal: 355ms\tremaining: 241ms\n",
      "596:\tlearn: 0.0220211\ttotal: 356ms\tremaining: 240ms\n",
      "597:\tlearn: 0.0219528\ttotal: 356ms\tremaining: 240ms\n",
      "598:\tlearn: 0.0219082\ttotal: 357ms\tremaining: 239ms\n",
      "599:\tlearn: 0.0218765\ttotal: 357ms\tremaining: 238ms\n",
      "600:\tlearn: 0.0218452\ttotal: 358ms\tremaining: 237ms\n",
      "601:\tlearn: 0.0217673\ttotal: 358ms\tremaining: 237ms\n",
      "602:\tlearn: 0.0217368\ttotal: 359ms\tremaining: 236ms\n",
      "603:\tlearn: 0.0217066\ttotal: 359ms\tremaining: 235ms\n",
      "604:\tlearn: 0.0216186\ttotal: 360ms\tremaining: 235ms\n",
      "605:\tlearn: 0.0215941\ttotal: 360ms\tremaining: 234ms\n",
      "606:\tlearn: 0.0215240\ttotal: 360ms\tremaining: 233ms\n",
      "607:\tlearn: 0.0214662\ttotal: 361ms\tremaining: 233ms\n",
      "608:\tlearn: 0.0214373\ttotal: 361ms\tremaining: 232ms\n",
      "609:\tlearn: 0.0213806\ttotal: 362ms\tremaining: 231ms\n",
      "610:\tlearn: 0.0213521\ttotal: 362ms\tremaining: 231ms\n",
      "611:\tlearn: 0.0212785\ttotal: 363ms\tremaining: 230ms\n",
      "612:\tlearn: 0.0212064\ttotal: 363ms\tremaining: 229ms\n",
      "613:\tlearn: 0.0211503\ttotal: 364ms\tremaining: 229ms\n",
      "614:\tlearn: 0.0210787\ttotal: 364ms\tremaining: 228ms\n",
      "615:\tlearn: 0.0210235\ttotal: 365ms\tremaining: 227ms\n",
      "616:\tlearn: 0.0209534\ttotal: 365ms\tremaining: 227ms\n",
      "617:\tlearn: 0.0208991\ttotal: 365ms\tremaining: 226ms\n",
      "618:\tlearn: 0.0208288\ttotal: 366ms\tremaining: 225ms\n",
      "619:\tlearn: 0.0207752\ttotal: 366ms\tremaining: 224ms\n",
      "620:\tlearn: 0.0206960\ttotal: 367ms\tremaining: 224ms\n",
      "621:\tlearn: 0.0205860\ttotal: 367ms\tremaining: 223ms\n",
      "622:\tlearn: 0.0204835\ttotal: 367ms\tremaining: 222ms\n",
      "623:\tlearn: 0.0204314\ttotal: 368ms\tremaining: 222ms\n",
      "624:\tlearn: 0.0203317\ttotal: 369ms\tremaining: 221ms\n",
      "625:\tlearn: 0.0202808\ttotal: 369ms\tremaining: 220ms\n",
      "626:\tlearn: 0.0202483\ttotal: 369ms\tremaining: 220ms\n",
      "627:\tlearn: 0.0201669\ttotal: 370ms\tremaining: 219ms\n"
     ]
    },
    {
     "name": "stdout",
     "output_type": "stream",
     "text": [
      "628:\tlearn: 0.0201350\ttotal: 370ms\tremaining: 218ms\n",
      "629:\tlearn: 0.0201037\ttotal: 371ms\tremaining: 218ms\n",
      "630:\tlearn: 0.0200651\ttotal: 371ms\tremaining: 217ms\n",
      "631:\tlearn: 0.0200343\ttotal: 372ms\tremaining: 216ms\n",
      "632:\tlearn: 0.0199856\ttotal: 372ms\tremaining: 216ms\n",
      "633:\tlearn: 0.0199143\ttotal: 373ms\tremaining: 215ms\n",
      "634:\tlearn: 0.0198124\ttotal: 373ms\tremaining: 214ms\n",
      "635:\tlearn: 0.0197646\ttotal: 374ms\tremaining: 214ms\n",
      "636:\tlearn: 0.0196655\ttotal: 374ms\tremaining: 213ms\n",
      "637:\tlearn: 0.0196290\ttotal: 375ms\tremaining: 212ms\n",
      "638:\tlearn: 0.0195269\ttotal: 375ms\tremaining: 212ms\n",
      "639:\tlearn: 0.0194291\ttotal: 376ms\tremaining: 211ms\n",
      "640:\tlearn: 0.0193933\ttotal: 376ms\tremaining: 211ms\n",
      "641:\tlearn: 0.0193240\ttotal: 376ms\tremaining: 210ms\n",
      "642:\tlearn: 0.0192286\ttotal: 377ms\tremaining: 209ms\n",
      "643:\tlearn: 0.0191609\ttotal: 378ms\tremaining: 209ms\n",
      "644:\tlearn: 0.0190676\ttotal: 378ms\tremaining: 208ms\n",
      "645:\tlearn: 0.0190014\ttotal: 379ms\tremaining: 207ms\n",
      "646:\tlearn: 0.0189196\ttotal: 379ms\tremaining: 207ms\n",
      "647:\tlearn: 0.0188547\ttotal: 379ms\tremaining: 206ms\n",
      "648:\tlearn: 0.0187520\ttotal: 380ms\tremaining: 205ms\n",
      "649:\tlearn: 0.0186675\ttotal: 380ms\tremaining: 205ms\n",
      "650:\tlearn: 0.0186393\ttotal: 381ms\tremaining: 204ms\n",
      "651:\tlearn: 0.0186050\ttotal: 381ms\tremaining: 204ms\n",
      "652:\tlearn: 0.0185345\ttotal: 382ms\tremaining: 203ms\n",
      "653:\tlearn: 0.0185068\ttotal: 382ms\tremaining: 202ms\n",
      "654:\tlearn: 0.0184796\ttotal: 383ms\tremaining: 202ms\n",
      "655:\tlearn: 0.0183891\ttotal: 383ms\tremaining: 201ms\n",
      "656:\tlearn: 0.0183217\ttotal: 383ms\tremaining: 200ms\n",
      "657:\tlearn: 0.0182152\ttotal: 384ms\tremaining: 199ms\n",
      "658:\tlearn: 0.0181223\ttotal: 384ms\tremaining: 199ms\n",
      "659:\tlearn: 0.0180981\ttotal: 385ms\tremaining: 198ms\n",
      "660:\tlearn: 0.0180448\ttotal: 385ms\tremaining: 198ms\n",
      "661:\tlearn: 0.0179799\ttotal: 386ms\tremaining: 197ms\n",
      "662:\tlearn: 0.0178775\ttotal: 386ms\tremaining: 196ms\n",
      "663:\tlearn: 0.0177874\ttotal: 386ms\tremaining: 196ms\n",
      "664:\tlearn: 0.0177187\ttotal: 387ms\tremaining: 195ms\n",
      "665:\tlearn: 0.0176587\ttotal: 387ms\tremaining: 194ms\n",
      "666:\tlearn: 0.0176047\ttotal: 388ms\tremaining: 194ms\n",
      "667:\tlearn: 0.0175173\ttotal: 388ms\tremaining: 193ms\n",
      "668:\tlearn: 0.0174881\ttotal: 389ms\tremaining: 192ms\n",
      "669:\tlearn: 0.0174593\ttotal: 389ms\tremaining: 192ms\n",
      "670:\tlearn: 0.0174015\ttotal: 390ms\tremaining: 191ms\n",
      "671:\tlearn: 0.0173449\ttotal: 390ms\tremaining: 190ms\n",
      "672:\tlearn: 0.0172601\ttotal: 391ms\tremaining: 190ms\n",
      "673:\tlearn: 0.0172320\ttotal: 391ms\tremaining: 189ms\n",
      "674:\tlearn: 0.0172083\ttotal: 392ms\tremaining: 189ms\n",
      "675:\tlearn: 0.0171534\ttotal: 392ms\tremaining: 188ms\n",
      "676:\tlearn: 0.0171290\ttotal: 392ms\tremaining: 187ms\n",
      "677:\tlearn: 0.0170653\ttotal: 393ms\tremaining: 187ms\n",
      "678:\tlearn: 0.0170392\ttotal: 393ms\tremaining: 186ms\n",
      "679:\tlearn: 0.0169573\ttotal: 394ms\tremaining: 185ms\n",
      "680:\tlearn: 0.0169301\ttotal: 394ms\tremaining: 185ms\n",
      "681:\tlearn: 0.0169032\ttotal: 395ms\tremaining: 184ms\n",
      "682:\tlearn: 0.0168527\ttotal: 395ms\tremaining: 183ms\n",
      "683:\tlearn: 0.0168261\ttotal: 395ms\tremaining: 183ms\n",
      "684:\tlearn: 0.0168094\ttotal: 396ms\tremaining: 182ms\n",
      "685:\tlearn: 0.0167562\ttotal: 396ms\tremaining: 181ms\n",
      "686:\tlearn: 0.0167300\ttotal: 397ms\tremaining: 181ms\n",
      "687:\tlearn: 0.0167137\ttotal: 397ms\tremaining: 180ms\n",
      "688:\tlearn: 0.0166929\ttotal: 398ms\tremaining: 179ms\n",
      "689:\tlearn: 0.0166770\ttotal: 398ms\tremaining: 179ms\n",
      "690:\tlearn: 0.0166091\ttotal: 398ms\tremaining: 178ms\n",
      "691:\tlearn: 0.0165610\ttotal: 399ms\tremaining: 178ms\n",
      "692:\tlearn: 0.0165012\ttotal: 399ms\tremaining: 177ms\n",
      "693:\tlearn: 0.0164351\ttotal: 400ms\tremaining: 176ms\n",
      "694:\tlearn: 0.0163774\ttotal: 400ms\tremaining: 176ms\n",
      "695:\tlearn: 0.0163278\ttotal: 401ms\tremaining: 175ms\n",
      "696:\tlearn: 0.0162768\ttotal: 401ms\tremaining: 174ms\n",
      "697:\tlearn: 0.0162193\ttotal: 401ms\tremaining: 174ms\n",
      "698:\tlearn: 0.0161949\ttotal: 402ms\tremaining: 173ms\n",
      "699:\tlearn: 0.0161474\ttotal: 402ms\tremaining: 172ms\n",
      "700:\tlearn: 0.0160821\ttotal: 403ms\tremaining: 172ms\n",
      "701:\tlearn: 0.0160082\ttotal: 403ms\tremaining: 171ms\n",
      "702:\tlearn: 0.0159605\ttotal: 404ms\tremaining: 171ms\n",
      "703:\tlearn: 0.0158886\ttotal: 404ms\tremaining: 170ms\n",
      "704:\tlearn: 0.0158154\ttotal: 404ms\tremaining: 169ms\n",
      "705:\tlearn: 0.0157742\ttotal: 405ms\tremaining: 169ms\n",
      "706:\tlearn: 0.0157018\ttotal: 405ms\tremaining: 168ms\n",
      "707:\tlearn: 0.0156522\ttotal: 406ms\tremaining: 167ms\n",
      "708:\tlearn: 0.0156218\ttotal: 406ms\tremaining: 167ms\n",
      "709:\tlearn: 0.0155814\ttotal: 407ms\tremaining: 166ms\n",
      "710:\tlearn: 0.0155113\ttotal: 407ms\tremaining: 165ms\n",
      "711:\tlearn: 0.0154559\ttotal: 407ms\tremaining: 165ms\n",
      "712:\tlearn: 0.0153729\ttotal: 408ms\tremaining: 164ms\n",
      "713:\tlearn: 0.0153191\ttotal: 408ms\tremaining: 164ms\n",
      "714:\tlearn: 0.0152649\ttotal: 409ms\tremaining: 163ms\n",
      "715:\tlearn: 0.0151845\ttotal: 409ms\tremaining: 162ms\n",
      "716:\tlearn: 0.0151606\ttotal: 410ms\tremaining: 162ms\n",
      "717:\tlearn: 0.0151277\ttotal: 410ms\tremaining: 161ms\n",
      "718:\tlearn: 0.0150491\ttotal: 411ms\tremaining: 161ms\n",
      "719:\tlearn: 0.0149853\ttotal: 411ms\tremaining: 160ms\n",
      "720:\tlearn: 0.0149231\ttotal: 412ms\tremaining: 159ms\n",
      "721:\tlearn: 0.0148622\ttotal: 412ms\tremaining: 159ms\n",
      "722:\tlearn: 0.0148306\ttotal: 412ms\tremaining: 158ms\n",
      "723:\tlearn: 0.0148035\ttotal: 413ms\tremaining: 157ms\n",
      "724:\tlearn: 0.0147444\ttotal: 413ms\tremaining: 157ms\n",
      "725:\tlearn: 0.0146647\ttotal: 414ms\tremaining: 156ms\n",
      "726:\tlearn: 0.0145754\ttotal: 414ms\tremaining: 156ms\n",
      "727:\tlearn: 0.0145610\ttotal: 415ms\tremaining: 155ms\n",
      "728:\tlearn: 0.0145004\ttotal: 415ms\tremaining: 154ms\n",
      "729:\tlearn: 0.0144133\ttotal: 416ms\tremaining: 154ms\n",
      "730:\tlearn: 0.0143991\ttotal: 416ms\tremaining: 153ms\n",
      "731:\tlearn: 0.0143411\ttotal: 416ms\tremaining: 152ms\n",
      "732:\tlearn: 0.0142835\ttotal: 417ms\tremaining: 152ms\n",
      "733:\tlearn: 0.0141987\ttotal: 417ms\tremaining: 151ms\n",
      "734:\tlearn: 0.0141157\ttotal: 418ms\tremaining: 151ms\n",
      "735:\tlearn: 0.0141017\ttotal: 418ms\tremaining: 150ms\n",
      "736:\tlearn: 0.0140505\ttotal: 419ms\tremaining: 149ms\n",
      "737:\tlearn: 0.0140112\ttotal: 419ms\tremaining: 149ms\n",
      "738:\tlearn: 0.0139394\ttotal: 420ms\tremaining: 148ms\n",
      "739:\tlearn: 0.0138686\ttotal: 420ms\tremaining: 148ms\n",
      "740:\tlearn: 0.0137888\ttotal: 420ms\tremaining: 147ms\n",
      "741:\tlearn: 0.0137399\ttotal: 421ms\tremaining: 146ms\n",
      "742:\tlearn: 0.0137282\ttotal: 422ms\tremaining: 146ms\n",
      "743:\tlearn: 0.0136594\ttotal: 423ms\tremaining: 145ms\n",
      "744:\tlearn: 0.0135821\ttotal: 423ms\tremaining: 145ms\n",
      "745:\tlearn: 0.0135347\ttotal: 423ms\tremaining: 144ms\n",
      "746:\tlearn: 0.0135232\ttotal: 424ms\tremaining: 144ms\n",
      "747:\tlearn: 0.0134480\ttotal: 424ms\tremaining: 143ms\n",
      "748:\tlearn: 0.0134181\ttotal: 425ms\tremaining: 142ms\n",
      "749:\tlearn: 0.0133653\ttotal: 425ms\tremaining: 142ms\n",
      "750:\tlearn: 0.0133195\ttotal: 426ms\tremaining: 141ms\n",
      "751:\tlearn: 0.0132536\ttotal: 426ms\tremaining: 141ms\n",
      "752:\tlearn: 0.0131809\ttotal: 427ms\tremaining: 140ms\n",
      "753:\tlearn: 0.0131099\ttotal: 427ms\tremaining: 139ms\n",
      "754:\tlearn: 0.0130812\ttotal: 428ms\tremaining: 139ms\n",
      "755:\tlearn: 0.0130235\ttotal: 428ms\tremaining: 138ms\n",
      "756:\tlearn: 0.0129953\ttotal: 429ms\tremaining: 138ms\n",
      "757:\tlearn: 0.0129441\ttotal: 429ms\tremaining: 137ms\n",
      "758:\tlearn: 0.0128928\ttotal: 430ms\tremaining: 136ms\n",
      "759:\tlearn: 0.0128300\ttotal: 430ms\tremaining: 136ms\n",
      "760:\tlearn: 0.0127617\ttotal: 431ms\tremaining: 135ms\n",
      "761:\tlearn: 0.0127121\ttotal: 431ms\tremaining: 135ms\n",
      "762:\tlearn: 0.0126847\ttotal: 432ms\tremaining: 134ms\n",
      "763:\tlearn: 0.0126238\ttotal: 432ms\tremaining: 133ms\n",
      "764:\tlearn: 0.0125577\ttotal: 433ms\tremaining: 133ms\n",
      "765:\tlearn: 0.0125309\ttotal: 433ms\tremaining: 132ms\n",
      "766:\tlearn: 0.0124764\ttotal: 434ms\tremaining: 132ms\n",
      "767:\tlearn: 0.0124176\ttotal: 434ms\tremaining: 131ms\n",
      "768:\tlearn: 0.0123698\ttotal: 435ms\tremaining: 131ms\n",
      "769:\tlearn: 0.0123269\ttotal: 435ms\tremaining: 130ms\n",
      "770:\tlearn: 0.0122805\ttotal: 436ms\tremaining: 129ms\n",
      "771:\tlearn: 0.0122386\ttotal: 436ms\tremaining: 129ms\n",
      "772:\tlearn: 0.0121776\ttotal: 437ms\tremaining: 128ms\n",
      "773:\tlearn: 0.0121364\ttotal: 437ms\tremaining: 128ms\n",
      "774:\tlearn: 0.0120959\ttotal: 438ms\tremaining: 127ms\n",
      "775:\tlearn: 0.0120690\ttotal: 438ms\tremaining: 127ms\n",
      "776:\tlearn: 0.0120247\ttotal: 439ms\tremaining: 126ms\n",
      "777:\tlearn: 0.0119852\ttotal: 440ms\tremaining: 125ms\n",
      "778:\tlearn: 0.0119212\ttotal: 440ms\tremaining: 125ms\n",
      "779:\tlearn: 0.0118622\ttotal: 441ms\tremaining: 124ms\n",
      "780:\tlearn: 0.0118110\ttotal: 441ms\tremaining: 124ms\n",
      "781:\tlearn: 0.0117728\ttotal: 442ms\tremaining: 123ms\n",
      "782:\tlearn: 0.0117303\ttotal: 442ms\tremaining: 122ms\n",
      "783:\tlearn: 0.0117236\ttotal: 442ms\tremaining: 122ms\n",
      "784:\tlearn: 0.0116670\ttotal: 444ms\tremaining: 122ms\n"
     ]
    },
    {
     "name": "stdout",
     "output_type": "stream",
     "text": [
      "785:\tlearn: 0.0116571\ttotal: 444ms\tremaining: 121ms\n",
      "786:\tlearn: 0.0116506\ttotal: 445ms\tremaining: 120ms\n",
      "787:\tlearn: 0.0116410\ttotal: 445ms\tremaining: 120ms\n",
      "788:\tlearn: 0.0115954\ttotal: 446ms\tremaining: 119ms\n",
      "789:\tlearn: 0.0115504\ttotal: 446ms\tremaining: 119ms\n",
      "790:\tlearn: 0.0115442\ttotal: 446ms\tremaining: 118ms\n",
      "791:\tlearn: 0.0114997\ttotal: 447ms\tremaining: 117ms\n",
      "792:\tlearn: 0.0114398\ttotal: 447ms\tremaining: 117ms\n",
      "793:\tlearn: 0.0114148\ttotal: 448ms\tremaining: 116ms\n",
      "794:\tlearn: 0.0114088\ttotal: 448ms\tremaining: 116ms\n",
      "795:\tlearn: 0.0113655\ttotal: 449ms\tremaining: 115ms\n",
      "796:\tlearn: 0.0113118\ttotal: 449ms\tremaining: 114ms\n",
      "797:\tlearn: 0.0113024\ttotal: 449ms\tremaining: 114ms\n",
      "798:\tlearn: 0.0112689\ttotal: 450ms\tremaining: 113ms\n",
      "799:\tlearn: 0.0112204\ttotal: 450ms\tremaining: 113ms\n",
      "800:\tlearn: 0.0111780\ttotal: 451ms\tremaining: 112ms\n",
      "801:\tlearn: 0.0111679\ttotal: 451ms\tremaining: 111ms\n",
      "802:\tlearn: 0.0111354\ttotal: 452ms\tremaining: 111ms\n",
      "803:\tlearn: 0.0110957\ttotal: 452ms\tremaining: 110ms\n",
      "804:\tlearn: 0.0110541\ttotal: 453ms\tremaining: 110ms\n",
      "805:\tlearn: 0.0110459\ttotal: 453ms\tremaining: 109ms\n",
      "806:\tlearn: 0.0110143\ttotal: 454ms\tremaining: 109ms\n",
      "807:\tlearn: 0.0109728\ttotal: 454ms\tremaining: 108ms\n",
      "808:\tlearn: 0.0109223\ttotal: 455ms\tremaining: 107ms\n",
      "809:\tlearn: 0.0108915\ttotal: 455ms\tremaining: 107ms\n",
      "810:\tlearn: 0.0108416\ttotal: 456ms\tremaining: 106ms\n",
      "811:\tlearn: 0.0108353\ttotal: 456ms\tremaining: 106ms\n",
      "812:\tlearn: 0.0108119\ttotal: 457ms\tremaining: 105ms\n",
      "813:\tlearn: 0.0108042\ttotal: 457ms\tremaining: 104ms\n",
      "814:\tlearn: 0.0107966\ttotal: 458ms\tremaining: 104ms\n",
      "815:\tlearn: 0.0107906\ttotal: 458ms\tremaining: 103ms\n",
      "816:\tlearn: 0.0107676\ttotal: 458ms\tremaining: 103ms\n",
      "817:\tlearn: 0.0107562\ttotal: 459ms\tremaining: 102ms\n",
      "818:\tlearn: 0.0107173\ttotal: 459ms\tremaining: 102ms\n",
      "819:\tlearn: 0.0106548\ttotal: 460ms\tremaining: 101ms\n",
      "820:\tlearn: 0.0106474\ttotal: 460ms\tremaining: 100ms\n",
      "821:\tlearn: 0.0106016\ttotal: 461ms\tremaining: 99.8ms\n",
      "822:\tlearn: 0.0105406\ttotal: 462ms\tremaining: 99.3ms\n",
      "823:\tlearn: 0.0105334\ttotal: 462ms\tremaining: 98.7ms\n",
      "824:\tlearn: 0.0104946\ttotal: 463ms\tremaining: 98.1ms\n",
      "825:\tlearn: 0.0104875\ttotal: 463ms\tremaining: 97.6ms\n",
      "826:\tlearn: 0.0104767\ttotal: 463ms\tremaining: 96.9ms\n",
      "827:\tlearn: 0.0104698\ttotal: 464ms\tremaining: 96.3ms\n",
      "828:\tlearn: 0.0104215\ttotal: 464ms\tremaining: 95.7ms\n",
      "829:\tlearn: 0.0104148\ttotal: 465ms\tremaining: 95.2ms\n",
      "830:\tlearn: 0.0104042\ttotal: 465ms\tremaining: 94.5ms\n",
      "831:\tlearn: 0.0103672\ttotal: 465ms\tremaining: 93.9ms\n",
      "832:\tlearn: 0.0103618\ttotal: 466ms\tremaining: 93.3ms\n",
      "833:\tlearn: 0.0103032\ttotal: 466ms\tremaining: 92.8ms\n",
      "834:\tlearn: 0.0102966\ttotal: 466ms\tremaining: 92.1ms\n",
      "835:\tlearn: 0.0102502\ttotal: 467ms\tremaining: 91.6ms\n",
      "836:\tlearn: 0.0102449\ttotal: 467ms\tremaining: 91ms\n",
      "837:\tlearn: 0.0102275\ttotal: 468ms\tremaining: 90.4ms\n",
      "838:\tlearn: 0.0101706\ttotal: 468ms\tremaining: 89.8ms\n",
      "839:\tlearn: 0.0101643\ttotal: 469ms\tremaining: 89.2ms\n",
      "840:\tlearn: 0.0101473\ttotal: 469ms\tremaining: 88.7ms\n",
      "841:\tlearn: 0.0101410\ttotal: 469ms\tremaining: 88.1ms\n",
      "842:\tlearn: 0.0100866\ttotal: 470ms\tremaining: 87.5ms\n",
      "843:\tlearn: 0.0100742\ttotal: 470ms\tremaining: 86.9ms\n",
      "844:\tlearn: 0.0100576\ttotal: 471ms\tremaining: 86.3ms\n",
      "845:\tlearn: 0.0100472\ttotal: 471ms\tremaining: 85.7ms\n",
      "846:\tlearn: 0.0100412\ttotal: 472ms\tremaining: 85.2ms\n",
      "847:\tlearn: 0.0100124\ttotal: 472ms\tremaining: 84.6ms\n",
      "848:\tlearn: 0.0100069\ttotal: 472ms\tremaining: 84ms\n",
      "849:\tlearn: 0.0100010\ttotal: 473ms\tremaining: 83.4ms\n",
      "850:\tlearn: 0.0099728\ttotal: 473ms\tremaining: 82.8ms\n",
      "851:\tlearn: 0.0099411\ttotal: 474ms\tremaining: 82.3ms\n",
      "852:\tlearn: 0.0099124\ttotal: 474ms\tremaining: 81.7ms\n",
      "853:\tlearn: 0.0099026\ttotal: 474ms\tremaining: 81.1ms\n",
      "854:\tlearn: 0.0098632\ttotal: 475ms\tremaining: 80.5ms\n",
      "855:\tlearn: 0.0098230\ttotal: 475ms\tremaining: 79.9ms\n",
      "856:\tlearn: 0.0097915\ttotal: 476ms\tremaining: 79.4ms\n",
      "857:\tlearn: 0.0097592\ttotal: 476ms\tremaining: 78.8ms\n",
      "858:\tlearn: 0.0097531\ttotal: 477ms\tremaining: 78.2ms\n",
      "859:\tlearn: 0.0097319\ttotal: 477ms\tremaining: 77.7ms\n",
      "860:\tlearn: 0.0097259\ttotal: 478ms\tremaining: 77.1ms\n",
      "861:\tlearn: 0.0097213\ttotal: 478ms\tremaining: 76.5ms\n",
      "862:\tlearn: 0.0096943\ttotal: 479ms\tremaining: 76ms\n",
      "863:\tlearn: 0.0096559\ttotal: 479ms\tremaining: 75.4ms\n",
      "864:\tlearn: 0.0096139\ttotal: 480ms\tremaining: 74.9ms\n",
      "865:\tlearn: 0.0095766\ttotal: 480ms\tremaining: 74.3ms\n",
      "866:\tlearn: 0.0095516\ttotal: 480ms\tremaining: 73.7ms\n",
      "867:\tlearn: 0.0095100\ttotal: 481ms\tremaining: 73.1ms\n",
      "868:\tlearn: 0.0094652\ttotal: 481ms\tremaining: 72.6ms\n",
      "869:\tlearn: 0.0094151\ttotal: 482ms\tremaining: 72ms\n",
      "870:\tlearn: 0.0093661\ttotal: 482ms\tremaining: 71.5ms\n",
      "871:\tlearn: 0.0093304\ttotal: 483ms\tremaining: 70.9ms\n",
      "872:\tlearn: 0.0093248\ttotal: 483ms\tremaining: 70.3ms\n",
      "873:\tlearn: 0.0092776\ttotal: 484ms\tremaining: 69.7ms\n",
      "874:\tlearn: 0.0092662\ttotal: 484ms\tremaining: 69.2ms\n",
      "875:\tlearn: 0.0092315\ttotal: 485ms\tremaining: 68.6ms\n",
      "876:\tlearn: 0.0092203\ttotal: 485ms\tremaining: 68ms\n",
      "877:\tlearn: 0.0091970\ttotal: 486ms\tremaining: 67.5ms\n",
      "878:\tlearn: 0.0091632\ttotal: 486ms\tremaining: 66.9ms\n",
      "879:\tlearn: 0.0091364\ttotal: 487ms\tremaining: 66.4ms\n",
      "880:\tlearn: 0.0091139\ttotal: 487ms\tremaining: 65.8ms\n",
      "881:\tlearn: 0.0090880\ttotal: 488ms\tremaining: 65.3ms\n",
      "882:\tlearn: 0.0090508\ttotal: 488ms\tremaining: 64.7ms\n",
      "883:\tlearn: 0.0090029\ttotal: 489ms\tremaining: 64.1ms\n",
      "884:\tlearn: 0.0089787\ttotal: 489ms\tremaining: 63.6ms\n",
      "885:\tlearn: 0.0089549\ttotal: 490ms\tremaining: 63ms\n",
      "886:\tlearn: 0.0089193\ttotal: 490ms\tremaining: 62.4ms\n",
      "887:\tlearn: 0.0088887\ttotal: 490ms\tremaining: 61.9ms\n",
      "888:\tlearn: 0.0088574\ttotal: 491ms\tremaining: 61.3ms\n",
      "889:\tlearn: 0.0088201\ttotal: 491ms\tremaining: 60.7ms\n",
      "890:\tlearn: 0.0087733\ttotal: 492ms\tremaining: 60.2ms\n",
      "891:\tlearn: 0.0087446\ttotal: 493ms\tremaining: 59.6ms\n",
      "892:\tlearn: 0.0087126\ttotal: 493ms\tremaining: 59.1ms\n",
      "893:\tlearn: 0.0086721\ttotal: 494ms\tremaining: 58.5ms\n",
      "894:\tlearn: 0.0086327\ttotal: 494ms\tremaining: 58ms\n",
      "895:\tlearn: 0.0085989\ttotal: 494ms\tremaining: 57.4ms\n",
      "896:\tlearn: 0.0085607\ttotal: 495ms\tremaining: 56.8ms\n",
      "897:\tlearn: 0.0085526\ttotal: 495ms\tremaining: 56.3ms\n",
      "898:\tlearn: 0.0085447\ttotal: 496ms\tremaining: 55.7ms\n",
      "899:\tlearn: 0.0085227\ttotal: 496ms\tremaining: 55.1ms\n",
      "900:\tlearn: 0.0084857\ttotal: 496ms\tremaining: 54.6ms\n",
      "901:\tlearn: 0.0084780\ttotal: 497ms\tremaining: 54ms\n",
      "902:\tlearn: 0.0084741\ttotal: 497ms\tremaining: 53.4ms\n",
      "903:\tlearn: 0.0084690\ttotal: 498ms\tremaining: 52.8ms\n",
      "904:\tlearn: 0.0084325\ttotal: 498ms\tremaining: 52.3ms\n",
      "905:\tlearn: 0.0084251\ttotal: 498ms\tremaining: 51.7ms\n",
      "906:\tlearn: 0.0083989\ttotal: 499ms\tremaining: 51.2ms\n",
      "907:\tlearn: 0.0083951\ttotal: 499ms\tremaining: 50.6ms\n",
      "908:\tlearn: 0.0083903\ttotal: 500ms\tremaining: 50ms\n",
      "909:\tlearn: 0.0083706\ttotal: 500ms\tremaining: 49.5ms\n",
      "910:\tlearn: 0.0083267\ttotal: 501ms\tremaining: 48.9ms\n",
      "911:\tlearn: 0.0083078\ttotal: 501ms\tremaining: 48.3ms\n",
      "912:\tlearn: 0.0082813\ttotal: 501ms\tremaining: 47.8ms\n",
      "913:\tlearn: 0.0082776\ttotal: 502ms\tremaining: 47.2ms\n",
      "914:\tlearn: 0.0082594\ttotal: 502ms\tremaining: 46.6ms\n",
      "915:\tlearn: 0.0082333\ttotal: 503ms\tremaining: 46.1ms\n",
      "916:\tlearn: 0.0082105\ttotal: 503ms\tremaining: 45.5ms\n",
      "917:\tlearn: 0.0082037\ttotal: 504ms\tremaining: 45ms\n",
      "918:\tlearn: 0.0081772\ttotal: 504ms\tremaining: 44.4ms\n",
      "919:\tlearn: 0.0081406\ttotal: 505ms\tremaining: 43.9ms\n",
      "920:\tlearn: 0.0081182\ttotal: 505ms\tremaining: 43.3ms\n",
      "921:\tlearn: 0.0081147\ttotal: 506ms\tremaining: 42.8ms\n",
      "922:\tlearn: 0.0080875\ttotal: 506ms\tremaining: 42.2ms\n",
      "923:\tlearn: 0.0080624\ttotal: 507ms\tremaining: 41.7ms\n",
      "924:\tlearn: 0.0080407\ttotal: 507ms\tremaining: 41.1ms\n",
      "925:\tlearn: 0.0080068\ttotal: 508ms\tremaining: 40.6ms\n",
      "926:\tlearn: 0.0080022\ttotal: 508ms\tremaining: 40ms\n",
      "927:\tlearn: 0.0079977\ttotal: 509ms\tremaining: 39.5ms\n",
      "928:\tlearn: 0.0079626\ttotal: 509ms\tremaining: 38.9ms\n",
      "929:\tlearn: 0.0079413\ttotal: 510ms\tremaining: 38.4ms\n",
      "930:\tlearn: 0.0079369\ttotal: 510ms\tremaining: 37.8ms\n",
      "931:\tlearn: 0.0079105\ttotal: 511ms\tremaining: 37.3ms\n",
      "932:\tlearn: 0.0078864\ttotal: 511ms\tremaining: 36.7ms\n",
      "933:\tlearn: 0.0078627\ttotal: 512ms\tremaining: 36.2ms\n",
      "934:\tlearn: 0.0078304\ttotal: 512ms\tremaining: 35.6ms\n",
      "935:\tlearn: 0.0078015\ttotal: 513ms\tremaining: 35.1ms\n",
      "936:\tlearn: 0.0077732\ttotal: 513ms\tremaining: 34.5ms\n",
      "937:\tlearn: 0.0077455\ttotal: 514ms\tremaining: 34ms\n",
      "938:\tlearn: 0.0077244\ttotal: 514ms\tremaining: 33.4ms\n",
      "939:\tlearn: 0.0076974\ttotal: 515ms\tremaining: 32.9ms\n",
      "940:\tlearn: 0.0076736\ttotal: 515ms\tremaining: 32.3ms\n",
      "941:\tlearn: 0.0076441\ttotal: 516ms\tremaining: 31.8ms\n",
      "942:\tlearn: 0.0076178\ttotal: 516ms\tremaining: 31.2ms\n",
      "943:\tlearn: 0.0075844\ttotal: 517ms\tremaining: 30.7ms\n",
      "944:\tlearn: 0.0075561\ttotal: 517ms\tremaining: 30.1ms\n",
      "945:\tlearn: 0.0075347\ttotal: 518ms\tremaining: 29.5ms\n",
      "946:\tlearn: 0.0075063\ttotal: 518ms\tremaining: 29ms\n",
      "947:\tlearn: 0.0074786\ttotal: 519ms\tremaining: 28.4ms\n",
      "948:\tlearn: 0.0074541\ttotal: 519ms\tremaining: 27.9ms\n",
      "949:\tlearn: 0.0074331\ttotal: 519ms\tremaining: 27.3ms\n",
      "950:\tlearn: 0.0074028\ttotal: 520ms\tremaining: 26.8ms\n",
      "951:\tlearn: 0.0073732\ttotal: 520ms\tremaining: 26.2ms\n",
      "952:\tlearn: 0.0073436\ttotal: 521ms\tremaining: 25.7ms\n",
      "953:\tlearn: 0.0073148\ttotal: 521ms\tremaining: 25.1ms\n"
     ]
    },
    {
     "name": "stdout",
     "output_type": "stream",
     "text": [
      "954:\tlearn: 0.0072951\ttotal: 522ms\tremaining: 24.6ms\n",
      "955:\tlearn: 0.0072707\ttotal: 523ms\tremaining: 24.1ms\n",
      "956:\tlearn: 0.0072420\ttotal: 523ms\tremaining: 23.5ms\n",
      "957:\tlearn: 0.0072227\ttotal: 524ms\tremaining: 23ms\n",
      "958:\tlearn: 0.0071916\ttotal: 524ms\tremaining: 22.4ms\n",
      "959:\tlearn: 0.0071685\ttotal: 525ms\tremaining: 21.9ms\n",
      "960:\tlearn: 0.0071458\ttotal: 525ms\tremaining: 21.3ms\n",
      "961:\tlearn: 0.0071179\ttotal: 525ms\tremaining: 20.8ms\n",
      "962:\tlearn: 0.0070872\ttotal: 526ms\tremaining: 20.2ms\n",
      "963:\tlearn: 0.0070594\ttotal: 526ms\tremaining: 19.6ms\n",
      "964:\tlearn: 0.0070321\ttotal: 527ms\tremaining: 19.1ms\n",
      "965:\tlearn: 0.0070132\ttotal: 527ms\tremaining: 18.6ms\n",
      "966:\tlearn: 0.0069747\ttotal: 527ms\tremaining: 18ms\n",
      "967:\tlearn: 0.0069524\ttotal: 528ms\tremaining: 17.4ms\n",
      "968:\tlearn: 0.0069282\ttotal: 528ms\tremaining: 16.9ms\n",
      "969:\tlearn: 0.0069066\ttotal: 529ms\tremaining: 16.3ms\n",
      "970:\tlearn: 0.0068846\ttotal: 529ms\tremaining: 15.8ms\n",
      "971:\tlearn: 0.0068633\ttotal: 530ms\tremaining: 15.3ms\n",
      "972:\tlearn: 0.0068375\ttotal: 530ms\tremaining: 14.7ms\n",
      "973:\tlearn: 0.0068154\ttotal: 531ms\tremaining: 14.2ms\n",
      "974:\tlearn: 0.0067901\ttotal: 531ms\tremaining: 13.6ms\n",
      "975:\tlearn: 0.0067762\ttotal: 532ms\tremaining: 13.1ms\n",
      "976:\tlearn: 0.0067476\ttotal: 532ms\tremaining: 12.5ms\n",
      "977:\tlearn: 0.0067277\ttotal: 533ms\tremaining: 12ms\n",
      "978:\tlearn: 0.0067143\ttotal: 533ms\tremaining: 11.4ms\n",
      "979:\tlearn: 0.0066864\ttotal: 534ms\tremaining: 10.9ms\n",
      "980:\tlearn: 0.0066613\ttotal: 534ms\tremaining: 10.3ms\n",
      "981:\tlearn: 0.0066367\ttotal: 534ms\tremaining: 9.79ms\n",
      "982:\tlearn: 0.0066234\ttotal: 535ms\tremaining: 9.25ms\n",
      "983:\tlearn: 0.0065991\ttotal: 535ms\tremaining: 8.7ms\n",
      "984:\tlearn: 0.0065859\ttotal: 536ms\tremaining: 8.16ms\n",
      "985:\tlearn: 0.0065622\ttotal: 536ms\tremaining: 7.61ms\n",
      "986:\tlearn: 0.0065492\ttotal: 536ms\tremaining: 7.07ms\n",
      "987:\tlearn: 0.0065233\ttotal: 537ms\tremaining: 6.52ms\n",
      "988:\tlearn: 0.0065034\ttotal: 537ms\tremaining: 5.98ms\n",
      "989:\tlearn: 0.0064907\ttotal: 538ms\tremaining: 5.43ms\n",
      "990:\tlearn: 0.0064680\ttotal: 538ms\tremaining: 4.89ms\n",
      "991:\tlearn: 0.0064469\ttotal: 539ms\tremaining: 4.34ms\n",
      "992:\tlearn: 0.0064345\ttotal: 539ms\tremaining: 3.8ms\n",
      "993:\tlearn: 0.0064115\ttotal: 540ms\tremaining: 3.26ms\n",
      "994:\tlearn: 0.0063993\ttotal: 540ms\tremaining: 2.71ms\n",
      "995:\tlearn: 0.0063765\ttotal: 540ms\tremaining: 2.17ms\n",
      "996:\tlearn: 0.0063541\ttotal: 541ms\tremaining: 1.63ms\n",
      "997:\tlearn: 0.0063420\ttotal: 541ms\tremaining: 1.08ms\n",
      "998:\tlearn: 0.0063203\ttotal: 542ms\tremaining: 542us\n",
      "999:\tlearn: 0.0062972\ttotal: 542ms\tremaining: 0us\n"
     ]
    },
    {
     "data": {
      "text/plain": [
       "<catboost.core.CatBoostRegressor at 0x7fdd117b2730>"
      ]
     },
     "execution_count": 9,
     "metadata": {},
     "output_type": "execute_result"
    }
   ],
   "source": [
    "#Train the Model \n",
    "prior_model = ctb.CatBoostRegressor()\n",
    "prior_model.fit(X_train,Y_train)"
   ]
  },
  {
   "cell_type": "code",
   "execution_count": 10,
   "id": "af65dcda",
   "metadata": {
    "execution": {
     "iopub.execute_input": "2022-06-07T06:29:17.556063Z",
     "iopub.status.busy": "2022-06-07T06:29:17.555672Z",
     "iopub.status.idle": "2022-06-07T06:29:17.563002Z",
     "shell.execute_reply": "2022-06-07T06:29:17.563308Z"
    },
    "id": "af65dcda",
    "papermill": {
     "duration": 0.019885,
     "end_time": "2022-06-07T06:29:17.563422",
     "exception": false,
     "start_time": "2022-06-07T06:29:17.543537",
     "status": "completed"
    },
    "tags": []
   },
   "outputs": [
    {
     "data": {
      "application/scrapbook.scrap.json+json": {
       "data": 0.08750537775896572,
       "encoder": "json",
       "name": "Prior Model MSE",
       "version": 1
      }
     },
     "metadata": {
      "scrapbook": {
       "data": true,
       "display": false,
       "name": "Prior Model MSE"
      }
     },
     "output_type": "display_data"
    },
    {
     "data": {
      "application/scrapbook.scrap.json+json": {
       "data": 0.1069625640525412,
       "encoder": "json",
       "name": "ABC Pre-generator MSE",
       "version": 1
      }
     },
     "metadata": {
      "scrapbook": {
       "data": true,
       "display": false,
       "name": "ABC Pre-generator MSE"
      }
     },
     "output_type": "display_data"
    },
    {
     "data": {
      "application/scrapbook.scrap.json+json": {
       "data": 0.225370059435582,
       "encoder": "json",
       "name": "Prior Model MSE",
       "version": 1
      }
     },
     "metadata": {
      "scrapbook": {
       "data": true,
       "display": false,
       "name": "Prior Model MSE"
      }
     },
     "output_type": "display_data"
    },
    {
     "data": {
      "application/scrapbook.scrap.json+json": {
       "data": 0.26055953434681445,
       "encoder": "json",
       "name": "ABC Pre-generator MSE",
       "version": 1
      }
     },
     "metadata": {
      "scrapbook": {
       "data": true,
       "display": false,
       "name": "ABC Pre-generator MSE"
      }
     },
     "output_type": "display_data"
    }
   ],
   "source": [
    "y_pred = prior_model.predict(X_test)\n",
    "y_abc = y_pred + np.random.normal(0,variance, y_pred.shape) + bias \n",
    "mse = mean_squared_error(y_pred,Y_test)\n",
    "sb.glue(\"Prior Model MSE\",mse)\n",
    "mse = mean_squared_error(y_abc,Y_test)\n",
    "sb.glue(\"ABC Pre-generator MSE\",mse)\n",
    "mae = mean_absolute_error(y_pred,Y_test)\n",
    "sb.glue(\"Prior Model MSE\",mae)\n",
    "mae = mean_absolute_error(y_abc,Y_test)\n",
    "sb.glue(\"ABC Pre-generator MSE\",mae)"
   ]
  },
  {
   "cell_type": "markdown",
   "id": "25609da2",
   "metadata": {
    "papermill": {
     "duration": 0.00943,
     "end_time": "2022-06-07T06:29:17.582712",
     "exception": false,
     "start_time": "2022-06-07T06:29:17.573282",
     "status": "completed"
    },
    "tags": []
   },
   "source": [
    "# ABC GAN Model"
   ]
  },
  {
   "cell_type": "code",
   "execution_count": 11,
   "id": "dfc3464d",
   "metadata": {
    "execution": {
     "iopub.execute_input": "2022-06-07T06:29:17.604556Z",
     "iopub.status.busy": "2022-06-07T06:29:17.604195Z",
     "iopub.status.idle": "2022-06-07T06:29:17.606884Z",
     "shell.execute_reply": "2022-06-07T06:29:17.607118Z"
    },
    "papermill": {
     "duration": 0.015024,
     "end_time": "2022-06-07T06:29:17.607230",
     "exception": false,
     "start_time": "2022-06-07T06:29:17.592206",
     "status": "completed"
    },
    "tags": []
   },
   "outputs": [],
   "source": [
    "gen = network.Generator(n_features+1).to(device)\n",
    "disc = network.Discriminator(n_features+1).to(device)\n",
    "\n",
    "criterion = torch.nn.BCELoss()\n",
    "gen_opt = torch.optim.Adam(gen.parameters(), lr=0.001, betas=(0.5, 0.999))\n",
    "disc_opt = torch.optim.Adam(disc.parameters(), lr=0.001, betas=(0.5, 0.999))"
   ]
  },
  {
   "cell_type": "code",
   "execution_count": 12,
   "id": "b75fdd85",
   "metadata": {
    "execution": {
     "iopub.execute_input": "2022-06-07T06:29:17.628852Z",
     "iopub.status.busy": "2022-06-07T06:29:17.628488Z",
     "iopub.status.idle": "2022-06-07T06:29:31.164237Z",
     "shell.execute_reply": "2022-06-07T06:29:31.164546Z"
    },
    "papermill": {
     "duration": 13.547606,
     "end_time": "2022-06-07T06:29:31.164680",
     "exception": false,
     "start_time": "2022-06-07T06:29:17.617074",
     "status": "completed"
    },
    "tags": []
   },
   "outputs": [
    {
     "data": {
      "image/png": "[encoded data removed]",
      "text/plain": [
       "<Figure size 432x288 with 1 Axes>"
      ]
     },
     "metadata": {
      "needs_background": "light"
     },
     "output_type": "display_data"
    },
    {
     "data": {
      "image/png": "[encoded data removed]",
      "text/plain": [
       "<Figure size 432x288 with 1 Axes>"
      ]
     },
     "metadata": {
      "needs_background": "light"
     },
     "output_type": "display_data"
    }
   ],
   "source": [
    "#Training the ABC_GAN \n",
    "ABC_train_test2.training_GAN(disc,gen,disc_opt,gen_opt,train_data,batch_size,n_epochs,criterion,prior_model,variance,bias,device)"
   ]
  },
  {
   "cell_type": "code",
   "execution_count": 13,
   "id": "1fa7c368",
   "metadata": {
    "execution": {
     "iopub.execute_input": "2022-06-07T06:29:31.189132Z",
     "iopub.status.busy": "2022-06-07T06:29:31.188763Z",
     "iopub.status.idle": "2022-06-07T06:29:31.360151Z",
     "shell.execute_reply": "2022-06-07T06:29:31.360400Z"
    },
    "papermill": {
     "duration": 0.184509,
     "end_time": "2022-06-07T06:29:31.360525",
     "exception": false,
     "start_time": "2022-06-07T06:29:31.176016",
     "status": "completed"
    },
    "tags": []
   },
   "outputs": [
    {
     "data": {
      "application/scrapbook.scrap.json+json": {
       "data": 0.05094951347915128,
       "encoder": "json",
       "name": "ABC-GAN Model 1 MSE",
       "version": 1
      }
     },
     "metadata": {
      "scrapbook": {
       "data": true,
       "display": false,
       "name": "ABC-GAN Model 1 MSE"
      }
     },
     "output_type": "display_data"
    },
    {
     "data": {
      "application/scrapbook.scrap.json+json": {
       "data": 0.15407800393924118,
       "encoder": "json",
       "name": "ABC-GAN Model 1 MAE",
       "version": 1
      }
     },
     "metadata": {
      "scrapbook": {
       "data": true,
       "display": false,
       "name": "ABC-GAN Model 1 MAE"
      }
     },
     "output_type": "display_data"
    },
    {
     "data": {
      "application/scrapbook.scrap.json+json": {
       "data": 3.0815600787848236,
       "encoder": "json",
       "name": "ABC-GAN Model 1 Manhattan Distance",
       "version": 1
      }
     },
     "metadata": {
      "scrapbook": {
       "data": true,
       "display": false,
       "name": "ABC-GAN Model 1 Manhattan Distance"
      }
     },
     "output_type": "display_data"
    },
    {
     "data": {
      "application/scrapbook.scrap.json+json": {
       "data": 1.0081185729587343,
       "encoder": "json",
       "name": "ABC-GAN Model 1 Euclidean distance",
       "version": 1
      }
     },
     "metadata": {
      "scrapbook": {
       "data": true,
       "display": false,
       "name": "ABC-GAN Model 1 Euclidean distance"
      }
     },
     "output_type": "display_data"
    },
    {
     "data": {
      "application/scrapbook.scrap.json+json": {
       "data": [
        [
         0.04950092733204936,
         0.0582396996670014,
         0.05302510442130172,
         0.05354347455345371,
         0.04758972446086377,
         0.04151460944521886,
         0.049517754725759054,
         0.05612805367181391,
         0.05367237518904118,
         0.05148331634127025,
         0.058085516500519165,
         0.04723518331177283,
         0.050736222364082414,
         0.05735207390149606,
         0.0452779518396604,
         0.057283957136798666,
         0.05183937325891989,
         0.04954611277115515,
         0.04510746393355915,
         0.0501825122350826,
         0.04687817486834941,
         0.04579086362783431,
         0.050441712482421894,
         0.04865985649424818,
         0.05315981129831866,
         0.05052735495200626,
         0.06099054355720003,
         0.035101378349798595,
         0.05047476569660357,
         0.05050244493918521,
         0.051113365027973555,
         0.06031799734382307,
         0.039476794982866846,
         0.05538848194291385,
         0.044695678785102756,
         0.05519326760301575,
         0.05040582138995146,
         0.05694812043021984,
         0.050361026657705456,
         0.05032189576681513,
         0.03945217999441684,
         0.04370900900733613,
         0.04966741766469984,
         0.05235358873391395,
         0.04944306232930238,
         0.04983086906286331,
         0.04556566846810591,
         0.0558597046058098,
         0.0504480425204362,
         0.05464999023860904,
         0.04867982494798745,
         0.05169916338713957,
         0.04597132450332223,
         0.05136540510252509,
         0.056973888888534094,
         0.043089354831390446,
         0.044947175744882974,
         0.05368783598952119,
         0.061481751818813934,
         0.04393179837875492,
         0.05158607283661563,
         0.05075940062009356,
         0.05255638941425851,
         0.0504222427292008,
         0.06027238740709212,
         0.0442888242508192,
         0.04632156567955788,
         0.055188136970107195,
         0.050915352597879285,
         0.04739333847721605,
         0.06088536874193984,
         0.05652683534026444,
         0.049361645877660856,
         0.053245267260465245,
         0.053938424624001544,
         0.052985077730447847,
         0.046847410944728815,
         0.05080643195114578,
         0.052468990957354265,
         0.04874210111893248,
         0.05821875924381305,
         0.046549814705524065,
         0.05048675105991206,
         0.04578609533632254,
         0.05477170047912929,
         0.051981808682418584,
         0.05672918883716852,
         0.05912435329233236,
         0.0533194365777109,
         0.05191389725653437,
         0.04818853863127809,
         0.04771508182022732,
         0.058767387866237863,
         0.045881555241922535,
         0.0592900470712243,
         0.05153122663913984,
         0.04274909139869322,
         0.04175276689455669,
         0.05505530650641884,
         0.05320945536924393
        ],
        [
         0.15472647845745086,
         0.1638641759753227,
         0.15457097105681897,
         0.14887294732034206,
         0.16033267490565778,
         0.14124585315585136,
         0.15797950364649296,
         0.16084172762930393,
         0.15759311206638812,
         0.14975889064371586,
         0.1642244402319193,
         0.15190699100494384,
         0.1525091700255871,
         0.15779402963817118,
         0.14739447347819806,
         0.1660491056740284,
         0.14935803934931755,
         0.15852169170975686,
         0.1494796372950077,
         0.14849895611405373,
         0.1523906398564577,
         0.15014272071421148,
         0.14738278649747372,
         0.15493473932147026,
         0.1594273641705513,
         0.16154729761183262,
         0.16396369077265263,
         0.13390413112938404,
         0.14990923814475537,
         0.15571898072957993,
         0.151495111733675,
         0.16463375613093376,
         0.1407105192542076,
         0.15976917631924153,
         0.15403872355818748,
         0.15764615274965763,
         0.14785378687083722,
         0.1578018765896559,
         0.16232809312641622,
         0.15794307328760623,
         0.14732525311410427,
         0.1562780998647213,
         0.15192283876240253,
         0.1484706152230501,
         0.15492412000894545,
         0.15062556155025958,
         0.14824431464076043,
         0.15848574005067348,
         0.15875418186187745,
         0.16647037789225577,
         0.15264026150107385,
         0.1504701182246208,
         0.14363577626645566,
         0.15872252099215983,
         0.1575438290834427,
         0.14262192733585835,
         0.1404918860644102,
         0.1591314200311899,
         0.1695152424275875,
         0.1458475962281227,
         0.15390076600015162,
         0.16943830251693726,
         0.1450436193495989,
         0.15094525031745434,
         0.1633317269384861,
         0.13659028187394143,
         0.1437206357717514,
         0.15760157890617849,
         0.1525664497166872,
         0.14965458698570727,
         0.16237789765000343,
         0.16164731830358506,
         0.14386107213795185,
         0.16267332956194877,
         0.15286930575966834,
         0.15208626054227353,
         0.1496889263391495,
         0.15468967854976653,
         0.15320276319980622,
         0.14624176695942878,
         0.16351055018603802,
         0.14410546831786633,
         0.15892665088176727,
         0.14323380589485168,
         0.16485533453524112,
         0.15526229590177537,
         0.16420343704521656,
         0.15952608063817025,
         0.1587038952857256,
         0.1587645724415779,
         0.1512492772191763,
         0.1506037011742592,
         0.16345152035355567,
         0.14599066860973836,
         0.1696952361613512,
         0.15260072574019432,
         0.14823403842747213,
         0.1343634694814682,
         0.16651256307959555,
         0.15068917609751226
        ],
        [
         3.0945295691490173,
         3.2772835195064545,
         3.0914194211363792,
         2.9774589464068413,
         3.2066534981131554,
         2.8249170631170273,
         3.159590072929859,
         3.2168345525860786,
         3.1518622413277626,
         2.995177812874317,
         3.2844888046383858,
         3.038139820098877,
         3.0501834005117416,
         3.155880592763424,
         2.947889469563961,
         3.320982113480568,
         2.987160786986351,
         3.170433834195137,
         2.989592745900154,
         2.9699791222810745,
         3.047812797129154,
         3.0028544142842293,
         2.9476557299494743,
         3.098694786429405,
         3.188547283411026,
         3.2309459522366524,
         3.2792738154530525,
         2.678082622587681,
         2.9981847628951073,
         3.1143796145915985,
         3.0299022346735,
         3.2926751226186752,
         2.814210385084152,
         3.1953835263848305,
         3.0807744711637497,
         3.1529230549931526,
         2.9570757374167442,
         3.1560375317931175,
         3.246561862528324,
         3.158861465752125,
         2.9465050622820854,
         3.125561997294426,
         3.0384567752480507,
         2.9694123044610023,
         3.0984824001789093,
         3.012511231005192,
         2.9648862928152084,
         3.1697148010134697,
         3.175083637237549,
         3.3294075578451157,
         3.0528052300214767,
         3.0094023644924164,
         2.872715525329113,
         3.174450419843197,
         3.1508765816688538,
         2.852438546717167,
         2.809837721288204,
         3.1826284006237984,
         3.39030484855175,
         2.9169519245624542,
         3.0780153200030327,
         3.388766050338745,
         2.9008723869919777,
         3.0189050063490868,
         3.266634538769722,
         2.7318056374788284,
         2.874412715435028,
         3.1520315781235695,
         3.051328994333744,
         2.9930917397141457,
         3.2475579530000687,
         3.232946366071701,
         2.877221442759037,
         3.2534665912389755,
         3.057386115193367,
         3.0417252108454704,
         2.9937785267829895,
         3.093793570995331,
         3.0640552639961243,
         2.9248353391885757,
         3.2702110037207603,
         2.8821093663573265,
         3.1785330176353455,
         2.8646761178970337,
         3.2971066907048225,
         3.105245918035507,
         3.284068740904331,
         3.190521612763405,
         3.174077905714512,
         3.1752914488315582,
         3.024985544383526,
         3.0120740234851837,
         3.2690304070711136,
         2.919813372194767,
         3.393904723227024,
         3.0520145148038864,
         2.9646807685494423,
         2.687269389629364,
         3.3302512615919113,
         3.013783521950245
        ],
        [
         0.9949967571007391,
         1.079256222284601,
         1.0298068209261553,
         1.0348282423035593,
         0.9755995537192887,
         0.9112037032982128,
         0.9951658628164358,
         1.0595098269654124,
         1.0360731170051771,
         1.0147247542192932,
         1.077826669743509,
         0.9719586751685777,
         1.0073353201797544,
         1.0710002231698748,
         0.9516086573761338,
         1.0703640234686391,
         1.018227609711305,
         0.9954507800102942,
         0.9498153918900151,
         1.0018234598479174,
         0.9682786258959701,
         0.9569834233447757,
         1.004407412183143,
         0.9865075417273624,
         1.0311140702979342,
         1.005259717207511,
         1.104450483790016,
         0.8378708534111757,
         1.0047364400339382,
         1.0050118898718086,
         1.011072351792626,
         1.0983441841592558,
         0.8885583265364952,
         1.0525063604835254,
         0.9454700289813819,
         1.0506499664780442,
         1.0040500125984908,
         1.0672218179012256,
         1.003603772987183,
         1.003213793434033,
         0.8882812617005589,
         0.9349760318568185,
         0.9966686276260515,
         1.0232652513782918,
         0.9944150273331792,
         0.9983072579407937,
         0.9546273458067909,
         1.056974026225903,
         1.0044704328195648,
         1.0454663097260384,
         0.9867099365871153,
         1.0168496780462644,
         0.9588672953367658,
         1.0135620859377592,
         1.0674632442246814,
         0.9283248874331707,
         0.9481263180070784,
         1.036222331254458,
         1.108889100125111,
         0.9373558382893331,
         1.0157369033033665,
         1.0075653886482363,
         1.025245233241867,
         1.004213550288989,
         1.0979288447535398,
         0.941156992757523,
         0.9625130199592925,
         1.050601132400943,
         1.0091120116010837,
         0.9735844953286392,
         1.1034977910439137,
         1.0632669969510427,
         0.9935959528667662,
         1.0319425106125364,
         1.0386378062058164,
         1.029418066000863,
         0.9679608560755835,
         1.0080320624974761,
         1.024392414627854,
         0.9873408845878153,
         1.0790621784106145,
         0.9648814922623821,
         1.0048557215830745,
         0.9569335957768704,
         1.046629834078212,
         1.019625506570119,
         1.0651684264675565,
         1.087422211400267,
         1.0326609954647352,
         1.0189592460597663,
         0.9817182755890621,
         0.976883635037739,
         1.0841345660593786,
         0.9579306367574068,
         1.0889448752918975,
         1.0151967951007315,
         0.9246522740867857,
         0.9138136231700279,
         1.049336042518495,
         1.0315954184586507
        ]
       ],
       "encoder": "json",
       "name": "ABC_GAN_1 Metrics",
       "version": 1
      }
     },
     "metadata": {
      "scrapbook": {
       "data": true,
       "display": false,
       "name": "ABC_GAN_1 Metrics"
      }
     },
     "output_type": "display_data"
    },
    {
     "name": "stdout",
     "output_type": "stream",
     "text": [
      "MSE\n",
      "0.05094951347915128\n"
     ]
    }
   ],
   "source": [
    "ABC_GAN1_metrics=ABC_train_test2.test_generator(gen,test_data,prior_model,variance,bias,\"1\",device)\n",
    "sb.glue(\"ABC_GAN_1 Metrics\",ABC_GAN1_metrics)\n",
    "\n",
    "print(\"MSE\")\n",
    "print(mean(ABC_GAN1_metrics[0]))"
   ]
  },
  {
   "cell_type": "code",
   "execution_count": 14,
   "id": "eb22ce5c",
   "metadata": {
    "execution": {
     "iopub.execute_input": "2022-06-07T06:29:31.392306Z",
     "iopub.status.busy": "2022-06-07T06:29:31.391916Z",
     "iopub.status.idle": "2022-06-07T06:29:31.678378Z",
     "shell.execute_reply": "2022-06-07T06:29:31.678709Z"
    },
    "papermill": {
     "duration": 0.301042,
     "end_time": "2022-06-07T06:29:31.678834",
     "exception": false,
     "start_time": "2022-06-07T06:29:31.377792",
     "status": "completed"
    },
    "tags": []
   },
   "outputs": [
    {
     "data": {
      "image/png": "[encoded data removed]",
      "text/plain": [
       "<Figure size 432x288 with 1 Axes>"
      ]
     },
     "metadata": {
      "needs_background": "light"
     },
     "output_type": "display_data"
    },
    {
     "data": {
      "image/png": "[encoded data removed]",
      "text/plain": [
       "<Figure size 432x288 with 1 Axes>"
      ]
     },
     "metadata": {
      "needs_background": "light"
     },
     "output_type": "display_data"
    },
    {
     "data": {
      "image/png": "[encoded data removed]",
      "text/plain": [
       "<Figure size 432x288 with 1 Axes>"
      ]
     },
     "metadata": {
      "needs_background": "light"
     },
     "output_type": "display_data"
    },
    {
     "data": {
      "image/png": "[encoded data removed]",
      "text/plain": [
       "<Figure size 432x288 with 1 Axes>"
      ]
     },
     "metadata": {
      "needs_background": "light"
     },
     "output_type": "display_data"
    }
   ],
   "source": [
    "sanityChecks.discProbVsError(train_data,disc,device)\n",
    "sanityChecks.discProbVsError(test_data,disc,device)"
   ]
  },
  {
   "cell_type": "markdown",
   "id": "130f3a4d",
   "metadata": {
    "id": "130f3a4d",
    "papermill": {
     "duration": 0.036973,
     "end_time": "2022-06-07T06:29:31.730321",
     "exception": false,
     "start_time": "2022-06-07T06:29:31.693348",
     "status": "completed"
    },
    "tags": []
   },
   "source": [
    "# ABC - GAN Model with skip connection"
   ]
  },
  {
   "cell_type": "code",
   "execution_count": 15,
   "id": "4e43dad1",
   "metadata": {
    "execution": {
     "iopub.execute_input": "2022-06-07T06:29:31.762393Z",
     "iopub.status.busy": "2022-06-07T06:29:31.762010Z",
     "iopub.status.idle": "2022-06-07T06:29:31.764372Z",
     "shell.execute_reply": "2022-06-07T06:29:31.764614Z"
    },
    "id": "4e43dad1",
    "papermill": {
     "duration": 0.020047,
     "end_time": "2022-06-07T06:29:31.764729",
     "exception": false,
     "start_time": "2022-06-07T06:29:31.744682",
     "status": "completed"
    },
    "tags": []
   },
   "outputs": [],
   "source": [
    "#Generator\n",
    "gen3 = network.GeneratorWithSkipConnection(n_features+1).to(device)\n",
    "constraints=network.weightConstraint()\n",
    "#Discriminator \n",
    "disc3 = network.Discriminator(n_features+1).to(device)\n",
    "\n",
    "criterion = torch.nn.BCELoss()\n",
    "gen_opt = torch.optim.Adam(gen3.parameters(), lr=0.001, betas=(0.5, 0.999))\n",
    "disc_opt = torch.optim.Adam(disc3.parameters(), lr=0.001, betas=(0.5, 0.999))\n"
   ]
  },
  {
   "cell_type": "code",
   "execution_count": 16,
   "id": "26acbc37",
   "metadata": {
    "execution": {
     "iopub.execute_input": "2022-06-07T06:29:31.796527Z",
     "iopub.status.busy": "2022-06-07T06:29:31.796154Z",
     "iopub.status.idle": "2022-06-07T06:30:07.707795Z",
     "shell.execute_reply": "2022-06-07T06:30:07.708173Z"
    },
    "id": "26acbc37",
    "papermill": {
     "duration": 35.928623,
     "end_time": "2022-06-07T06:30:07.708301",
     "exception": false,
     "start_time": "2022-06-07T06:29:31.779678",
     "status": "completed"
    },
    "tags": []
   },
   "outputs": [
    {
     "data": {
      "image/png": "[encoded data removed]",
      "text/plain": [
       "<Figure size 432x288 with 1 Axes>"
      ]
     },
     "metadata": {
      "needs_background": "light"
     },
     "output_type": "display_data"
    },
    {
     "data": {
      "image/png": "[encoded data removed]",
      "text/plain": [
       "<Figure size 432x288 with 1 Axes>"
      ]
     },
     "metadata": {
      "needs_background": "light"
     },
     "output_type": "display_data"
    }
   ],
   "source": [
    "ABC_train_test2.training_GAN_skip_connection(disc3,gen3,disc_opt,gen_opt,train_data,batch_size,n_epochs,criterion,prior_model,variance,bias,device)"
   ]
  },
  {
   "cell_type": "code",
   "execution_count": 17,
   "id": "c5e0717b",
   "metadata": {
    "execution": {
     "iopub.execute_input": "2022-06-07T06:30:07.741582Z",
     "iopub.status.busy": "2022-06-07T06:30:07.741200Z",
     "iopub.status.idle": "2022-06-07T06:30:08.024657Z",
     "shell.execute_reply": "2022-06-07T06:30:08.024964Z"
    },
    "id": "c5e0717b",
    "papermill": {
     "duration": 0.301339,
     "end_time": "2022-06-07T06:30:08.025090",
     "exception": false,
     "start_time": "2022-06-07T06:30:07.723751",
     "status": "completed"
    },
    "tags": []
   },
   "outputs": [
    {
     "data": {
      "application/scrapbook.scrap.json+json": {
       "data": 0.04244699882592454,
       "encoder": "json",
       "name": "ABC-GAN Model 3 MSE",
       "version": 1
      }
     },
     "metadata": {
      "scrapbook": {
       "data": true,
       "display": false,
       "name": "ABC-GAN Model 3 MSE"
      }
     },
     "output_type": "display_data"
    },
    {
     "data": {
      "application/scrapbook.scrap.json+json": {
       "data": 0.14683557676151396,
       "encoder": "json",
       "name": "ABC-GAN Model 3 MAE",
       "version": 1
      }
     },
     "metadata": {
      "scrapbook": {
       "data": true,
       "display": false,
       "name": "ABC-GAN Model 3 MAE"
      }
     },
     "output_type": "display_data"
    },
    {
     "data": {
      "application/scrapbook.scrap.json+json": {
       "data": 2.936711535230279,
       "encoder": "json",
       "name": "ABC-GAN Model 3 Manhattan Distance",
       "version": 1
      }
     },
     "metadata": {
      "scrapbook": {
       "data": true,
       "display": false,
       "name": "ABC-GAN Model 3 Manhattan Distance"
      }
     },
     "output_type": "display_data"
    },
    {
     "data": {
      "application/scrapbook.scrap.json+json": {
       "data": 0.9203792506294065,
       "encoder": "json",
       "name": "ABC-GAN Model 3 Euclidean distance",
       "version": 1
      }
     },
     "metadata": {
      "scrapbook": {
       "data": true,
       "display": false,
       "name": "ABC-GAN Model 3 Euclidean distance"
      }
     },
     "output_type": "display_data"
    },
    {
     "data": {
      "application/scrapbook.scrap.json+json": {
       "data": [
        [
         0.0384618573233126,
         0.04689683033147152,
         0.039914324626259046,
         0.04150027494924156,
         0.0409776826196359,
         0.04390302779706351,
         0.04508920191405398,
         0.045065525996013045,
         0.04658472050588337,
         0.05323331645864411,
         0.039939970687768264,
         0.04531152898112033,
         0.04061987438608966,
         0.037770720273930955,
         0.046677728856674504,
         0.042700141324182615,
         0.04143955509734938,
         0.03891663580494037,
         0.04695685202240191,
         0.045604942132427884,
         0.04935651526911078,
         0.041900937885577194,
         0.0372595347058153,
         0.04425145419235012,
         0.04405535894649428,
         0.04696772095725663,
         0.04281884628515885,
         0.03901302373671458,
         0.041151429343051917,
         0.0441988263499974,
         0.040566905041074276,
         0.041670772477286136,
         0.04523485182844909,
         0.0412209046116489,
         0.03603679519650345,
         0.04163409006769003,
         0.044123908980725345,
         0.03676000631522177,
         0.050761249612995586,
         0.03814893029126678,
         0.038187098992061755,
         0.04694335692816789,
         0.04995625819441174,
         0.05129202560000551,
         0.045590210389032194,
         0.03775150904933054,
         0.03450233166397608,
         0.03700126781959985,
         0.04479321913369294,
         0.042179616835982356,
         0.04344965961640449,
         0.041712195945240324,
         0.04365995987752491,
         0.043827698364808,
         0.04037802581486309,
         0.0443962546265637,
         0.040865192924619084,
         0.04007589583510911,
         0.04875030840192153,
         0.04135135693466728,
         0.041732824478580996,
         0.04150269391669813,
         0.03347698197399714,
         0.04141416117643141,
         0.0409175753536369,
         0.03982997790765038,
         0.04354226840799721,
         0.044030334364029276,
         0.039024468768873055,
         0.0440841088383875,
         0.03781645253289232,
         0.047403328517898614,
         0.04304001415351215,
         0.041641358603894695,
         0.042868725735143186,
         0.04958440826767485,
         0.04840603703827225,
         0.0331551546705253,
         0.042568648170746105,
         0.04243715510950935,
         0.04350957757411935,
         0.04318631281974673,
         0.04189607654145465,
         0.04094637972339865,
         0.03841284147803935,
         0.04369612999478972,
         0.042895507033045975,
         0.04585337805208255,
         0.04817923189602534,
         0.04121048114791372,
         0.041710856270748345,
         0.03483732967407159,
         0.043160111808533574,
         0.03641137525256407,
         0.045430372572518626,
         0.0334071945799995,
         0.03979066564580265,
         0.04375316777504747,
         0.042447050780531584,
         0.04412894685483425
        ],
        [
         0.13494947254657746,
         0.15637046545743943,
         0.145673718303442,
         0.14848476387560366,
         0.14511250257492064,
         0.15193158760666847,
         0.1480580348521471,
         0.14571696594357492,
         0.156530774384737,
         0.16388471871614457,
         0.13868911527097225,
         0.1522974379360676,
         0.14804394617676736,
         0.1416241753846407,
         0.15078950449824333,
         0.15099798366427422,
         0.13929213881492614,
         0.1418758101761341,
         0.1510075695812702,
         0.14715680964291095,
         0.15972495526075364,
         0.14401356503367424,
         0.1377481423318386,
         0.1457259811460972,
         0.14703429639339446,
         0.1553902629762888,
         0.1512020595371723,
         0.1418398767709732,
         0.146626715362072,
         0.14957181885838508,
         0.14743929356336594,
         0.14639152362942695,
         0.1507434993982315,
         0.15000884011387824,
         0.13809560388326644,
         0.14438753575086594,
         0.1524713460355997,
         0.13561483696103097,
         0.1584246788173914,
         0.13815805315971375,
         0.13859066143631935,
         0.15605450719594954,
         0.15680417008697986,
         0.1619165562093258,
         0.1518962413072586,
         0.13549941703677176,
         0.12377215400338173,
         0.14168840683996678,
         0.1526873841881752,
         0.14331703409552574,
         0.14507902786135674,
         0.14226110987365245,
         0.15287483073771,
         0.15118307769298553,
         0.13887249380350114,
         0.14899688586592674,
         0.14103327915072442,
         0.13871247172355652,
         0.1619962178170681,
         0.1465772084891796,
         0.14725903272628785,
         0.144864771515131,
         0.1312044344842434,
         0.13970787152647973,
         0.145082738250494,
         0.13695404157042504,
         0.15524049624800682,
         0.15393223129212857,
         0.14138275012373924,
         0.14962148144841195,
         0.14519704580307008,
         0.1535753533244133,
         0.14738575965166092,
         0.13682656958699227,
         0.1507193885743618,
         0.16070574671030044,
         0.15800093188881875,
         0.12997738569974898,
         0.1482706218957901,
         0.15617280825972557,
         0.14593252688646316,
         0.15080386735498905,
         0.1512996606528759,
         0.1453902918845415,
         0.13849759623408317,
         0.14633685126900672,
         0.15354339703917502,
         0.15299183800816535,
         0.1470440674573183,
         0.13829679489135743,
         0.1385812722146511,
         0.13139926120638848,
         0.1580291949212551,
         0.13652441427111625,
         0.1582659065723419,
         0.12769041657447816,
         0.141882636025548,
         0.1585307851433754,
         0.14349014535546303,
         0.15803177580237388
        ],
        [
         2.698989450931549,
         3.1274093091487885,
         2.91347436606884,
         2.9696952775120735,
         2.902250051498413,
         3.0386317521333694,
         2.961160697042942,
         2.914339318871498,
         3.1306154876947403,
         3.2776943743228912,
         2.773782305419445,
         3.0459487587213516,
         2.960878923535347,
         2.832483507692814,
         3.0157900899648666,
         3.0199596732854843,
         2.785842776298523,
         2.837516203522682,
         3.0201513916254044,
         2.943136192858219,
         3.1944991052150726,
         2.880271300673485,
         2.754962846636772,
         2.9145196229219437,
         2.9406859278678894,
         3.107805259525776,
         3.0240411907434464,
         2.836797535419464,
         2.93253430724144,
         2.9914363771677017,
         2.9487858712673187,
         2.927830472588539,
         3.01486998796463,
         3.000176802277565,
         2.761912077665329,
         2.8877507150173187,
         3.049426920711994,
         2.712296739220619,
         3.168493576347828,
         2.763161063194275,
         2.771813228726387,
         3.121090143918991,
         3.1360834017395973,
         3.238331124186516,
         3.037924826145172,
         2.7099883407354355,
         2.4754430800676346,
         2.8337681367993355,
         3.053747683763504,
         2.866340681910515,
         2.9015805572271347,
         2.845222197473049,
         3.0574966147542,
         3.0236615538597107,
         2.7774498760700226,
         2.979937717318535,
         2.820665583014488,
         2.7742494344711304,
         3.239924356341362,
         2.9315441697835922,
         2.945180654525757,
         2.89729543030262,
         2.624088689684868,
         2.7941574305295944,
         2.90165476500988,
         2.7390808314085007,
         3.1048099249601364,
         3.0786446258425713,
         2.827655002474785,
         2.992429628968239,
         2.9039409160614014,
         3.071507066488266,
         2.9477151930332184,
         2.7365313917398453,
         3.014387771487236,
         3.214114934206009,
         3.160018637776375,
         2.59954771399498,
         2.965412437915802,
         3.1234561651945114,
         2.9186505377292633,
         3.016077347099781,
         3.025993213057518,
         2.9078058376908302,
         2.7699519246816635,
         2.9267370253801346,
         3.0708679407835007,
         3.059836760163307,
         2.940881349146366,
         2.7659358978271484,
         2.771625444293022,
         2.6279852241277695,
         3.1605838984251022,
         2.730488285422325,
         3.1653181314468384,
         2.553808331489563,
         2.8376527205109596,
         3.170615702867508,
         2.8698029071092606,
         3.1606355160474777
        ],
        [
         0.8770616548830829,
         0.9684712730016468,
         0.8934687977345269,
         0.9110463758694346,
         0.9052920260295669,
         0.9370488546181945,
         0.9496231032789164,
         0.9493737514384211,
         0.965243187035095,
         1.0318266953189776,
         0.893755790893332,
         0.9519614380963163,
         0.9013309534914427,
         0.8691457906925737,
         0.9662062808393921,
         0.9241227334524632,
         0.9103796471511144,
         0.882231668043495,
         0.9690908318873098,
         0.9550386602900207,
         0.9935443147551173,
         0.9154336446250727,
         0.8632442841492239,
         0.9407598438746215,
         0.9386730948151681,
         0.9692029813950908,
         0.925406357068708,
         0.8833235391034768,
         0.9072092299249597,
         0.9402002589873861,
         0.9007430825832,
         0.9129159049691942,
         0.9511556321491146,
         0.9079747200406948,
         0.8489616622263156,
         0.9125140006344016,
         0.939403097511663,
         0.8574381180612601,
         1.0075837395769702,
         0.8734864657367827,
         0.8739233260654135,
         0.9689515666757331,
         0.9995624862349701,
         1.0128378507935563,
         0.9548843949822637,
         0.8689247268818001,
         0.8306904557532376,
         0.8602472646814967,
         0.9465011266099258,
         0.9184728285146203,
         0.9321980435122623,
         0.9133695412618085,
         0.9344512815286297,
         0.9362446086873665,
         0.8986437093182491,
         0.9422977727508827,
         0.9040485929928666,
         0.8952753301092252,
         0.9874240062093035,
         0.9094103247123081,
         0.9135953642459117,
         0.9110729270118625,
         0.8182540189207401,
         0.9101006667004635,
         0.9046278279340837,
         0.8925242619408212,
         0.9331909601790751,
         0.9384064616575195,
         0.88345309744064,
         0.9389793271248043,
         0.8696718062912275,
         0.9736871008480971,
         0.927793232929753,
         0.9125936511273207,
         0.9259452007018902,
         0.9958354107750422,
         0.9839312683137197,
         0.8143114228662803,
         0.9226987392507492,
         0.9212725450105343,
         0.9328405820301704,
         0.9293687408100912,
         0.9153805388083652,
         0.9049461831887977,
         0.8765026124095621,
         0.9348382747276635,
         0.9262343875396333,
         0.9576364451302232,
         0.9816234705428079,
         0.9078599137302377,
         0.9133548737566176,
         0.8347134798728435,
         0.9290867753717472,
         0.853362469910226,
         0.9532090282043979,
         0.8174006921944647,
         0.8920836916545739,
         0.9354482110202303,
         0.9213799518171815,
         0.9394567244406126
        ]
       ],
       "encoder": "json",
       "name": "ABC_GAN_3 Metrics",
       "version": 1
      }
     },
     "metadata": {
      "scrapbook": {
       "data": true,
       "display": false,
       "name": "ABC_GAN_3 Metrics"
      }
     },
     "output_type": "display_data"
    },
    {
     "name": "stdout",
     "output_type": "stream",
     "text": [
      "MSE\n",
      "0.04244699882592454\n"
     ]
    }
   ],
   "source": [
    "ABC_GAN3_metrics=ABC_train_test2.test_generator(gen3,test_data,prior_model,variance,bias,\"3\",device)\n",
    "sb.glue(\"ABC_GAN_3 Metrics\",ABC_GAN3_metrics)\n",
    "\n",
    "print(\"MSE\")\n",
    "print(mean(ABC_GAN3_metrics[0]))"
   ]
  },
  {
   "cell_type": "code",
   "execution_count": 18,
   "id": "c8e46b48",
   "metadata": {
    "execution": {
     "iopub.execute_input": "2022-06-07T06:30:08.061039Z",
     "iopub.status.busy": "2022-06-07T06:30:08.060650Z",
     "iopub.status.idle": "2022-06-07T06:30:08.357236Z",
     "shell.execute_reply": "2022-06-07T06:30:08.357549Z"
    },
    "id": "c8e46b48",
    "papermill": {
     "duration": 0.315622,
     "end_time": "2022-06-07T06:30:08.357673",
     "exception": false,
     "start_time": "2022-06-07T06:30:08.042051",
     "status": "completed"
    },
    "tags": []
   },
   "outputs": [
    {
     "data": {
      "image/png": "[encoded data removed]",
      "text/plain": [
       "<Figure size 432x288 with 1 Axes>"
      ]
     },
     "metadata": {
      "needs_background": "light"
     },
     "output_type": "display_data"
    },
    {
     "data": {
      "image/png": "[encoded data removed]",
      "text/plain": [
       "<Figure size 432x288 with 1 Axes>"
      ]
     },
     "metadata": {
      "needs_background": "light"
     },
     "output_type": "display_data"
    },
    {
     "data": {
      "image/png": "[encoded data removed]",
      "text/plain": [
       "<Figure size 432x288 with 1 Axes>"
      ]
     },
     "metadata": {
      "needs_background": "light"
     },
     "output_type": "display_data"
    },
    {
     "data": {
      "image/png": "[encoded data removed]",
      "text/plain": [
       "<Figure size 432x288 with 1 Axes>"
      ]
     },
     "metadata": {
      "needs_background": "light"
     },
     "output_type": "display_data"
    }
   ],
   "source": [
    "sanityChecks.discProbVsError(train_data,disc3,device)\n",
    "sanityChecks.discProbVsError(test_data,disc3,device)"
   ]
  },
  {
   "cell_type": "markdown",
   "id": "a5bd74c3",
   "metadata": {
    "id": "a5bd74c3",
    "papermill": {
     "duration": 0.019325,
     "end_time": "2022-06-07T06:30:08.396351",
     "exception": false,
     "start_time": "2022-06-07T06:30:08.377026",
     "status": "completed"
    },
    "tags": []
   },
   "source": [
    "## Skip Connection Model Analysis - ABC-GAN "
   ]
  },
  {
   "cell_type": "markdown",
   "id": "5744a8bf",
   "metadata": {
    "id": "5744a8bf",
    "papermill": {
     "duration": 0.018774,
     "end_time": "2022-06-07T06:30:08.434072",
     "exception": false,
     "start_time": "2022-06-07T06:30:08.415298",
     "status": "completed"
    },
    "tags": []
   },
   "source": [
    "### Weight Analysis \n",
    "\n",
    "Study the weights of the skip connection layer\n",
    "\n",
    "Equation of the skip connection is \n",
    "\n",
    "$output = y_{gan} * w + y_{abc} * (1-w)$"
   ]
  },
  {
   "cell_type": "code",
   "execution_count": 19,
   "id": "52c31dea",
   "metadata": {
    "execution": {
     "iopub.execute_input": "2022-06-07T06:30:08.475046Z",
     "iopub.status.busy": "2022-06-07T06:30:08.474642Z",
     "iopub.status.idle": "2022-06-07T06:30:08.477977Z",
     "shell.execute_reply": "2022-06-07T06:30:08.478233Z"
    },
    "id": "52c31dea",
    "papermill": {
     "duration": 0.02541,
     "end_time": "2022-06-07T06:30:08.478349",
     "exception": false,
     "start_time": "2022-06-07T06:30:08.452939",
     "status": "completed"
    },
    "tags": []
   },
   "outputs": [
    {
     "name": "stdout",
     "output_type": "stream",
     "text": [
      "Weight of the node at skip connection\n",
      "Parameter containing:\n",
      "tensor([[0.1185]], requires_grad=True)\n"
     ]
    },
    {
     "data": {
      "application/scrapbook.scrap.json+json": {
       "data": 0.1184522733092308,
       "encoder": "json",
       "name": "Skip Connection Weight",
       "version": 1
      }
     },
     "metadata": {
      "scrapbook": {
       "data": true,
       "display": false,
       "name": "Skip Connection Weight"
      }
     },
     "output_type": "display_data"
    }
   ],
   "source": [
    "print(\"Weight of the node at skip connection\")\n",
    "for name,param in gen3.named_parameters():\n",
    "    if(name == \"skipNode.weight\"):\n",
    "        print(param)\n",
    "        sb.glue(\"Skip Connection Weight\",param.item())"
   ]
  }
 ],
 "metadata": {
  "colab": {
   "collapsed_sections": [],
   "name": "ABC_GAN_Model-Catboost_Pre-gen.ipynb",
   "provenance": []
  },
  "interpreter": {
   "hash": "31f2aee4e71d21fbe5cf8b01ff0e069b9275f58929596ceb00d14d90e3e16cd6"
  },
  "kernelspec": {
   "display_name": "Python 3 (ipykernel)",
   "language": "python",
   "name": "python3"
  },
  "language_info": {
   "codemirror_mode": {
    "name": "ipython",
    "version": 3
   },
   "file_extension": ".py",
   "mimetype": "text/x-python",
   "name": "python",
   "nbconvert_exporter": "python",
   "pygments_lexer": "ipython3",
   "version": "3.8.11"
  },
  "papermill": {
   "default_parameters": {},
   "duration": 54.753586,
   "end_time": "2022-06-07T06:30:08.804891",
   "environment_variables": {},
   "exception": null,
   "input_path": "ABC_GAN-Catboost.ipynb",
   "output_path": "./ABC_GAN_Catboost/ABC-GAN_output_4_7.ipynb",
   "parameters": {
    "bias": 0.01,
    "variance": 0.1
   },
   "start_time": "2022-06-07T06:29:14.051305",
   "version": "2.3.3"
  }
 },
 "nbformat": 4,
 "nbformat_minor": 5
}