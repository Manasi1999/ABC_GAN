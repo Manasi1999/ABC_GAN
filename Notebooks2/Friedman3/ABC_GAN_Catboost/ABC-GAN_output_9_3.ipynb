{
 "cells": [
  {
   "cell_type": "markdown",
   "id": "622780e6",
   "metadata": {
    "id": "622780e6",
    "papermill": {
     "duration": 0.027291,
     "end_time": "2022-06-07T07:08:36.447171",
     "exception": false,
     "start_time": "2022-06-07T07:08:36.419880",
     "status": "completed"
    },
    "tags": []
   },
   "source": [
    "## Import Libraries "
   ]
  },
  {
   "cell_type": "code",
   "execution_count": 1,
   "id": "a62397e3",
   "metadata": {
    "execution": {
     "iopub.execute_input": "2022-06-07T07:08:36.477079Z",
     "iopub.status.busy": "2022-06-07T07:08:36.471682Z",
     "iopub.status.idle": "2022-06-07T07:08:36.479305Z",
     "shell.execute_reply": "2022-06-07T07:08:36.479793Z"
    },
    "id": "a62397e3",
    "papermill": {
     "duration": 0.020486,
     "end_time": "2022-06-07T07:08:36.480045",
     "exception": false,
     "start_time": "2022-06-07T07:08:36.459559",
     "status": "completed"
    },
    "tags": []
   },
   "outputs": [],
   "source": [
    "import warnings\n",
    "import sys\n",
    "sys.path.insert(0, '../../src')\n",
    "warnings.filterwarnings('ignore')"
   ]
  },
  {
   "cell_type": "code",
   "execution_count": 2,
   "id": "d6a4e155",
   "metadata": {
    "execution": {
     "iopub.execute_input": "2022-06-07T07:08:36.503976Z",
     "iopub.status.busy": "2022-06-07T07:08:36.503411Z",
     "iopub.status.idle": "2022-06-07T07:08:38.166133Z",
     "shell.execute_reply": "2022-06-07T07:08:38.166396Z"
    },
    "id": "d6a4e155",
    "papermill": {
     "duration": 1.675722,
     "end_time": "2022-06-07T07:08:38.166525",
     "exception": false,
     "start_time": "2022-06-07T07:08:36.490803",
     "status": "completed"
    },
    "tags": []
   },
   "outputs": [],
   "source": [
    "import ABC_train_test2\n",
    "import friedman1Dataset\n",
    "import network\n",
    "import dataset\n",
    "import sanityChecks\n",
    "import torch \n",
    "import scrapbook as sb\n",
    "from statistics import mean \n",
    "import catboost as ctb \n",
    "from sklearn.model_selection import train_test_split\n",
    "from sklearn.metrics import mean_squared_error,mean_absolute_error\n",
    "import numpy as np"
   ]
  },
  {
   "cell_type": "markdown",
   "id": "2fa5b0f7",
   "metadata": {
    "id": "2fa5b0f7",
    "papermill": {
     "duration": 0.007158,
     "end_time": "2022-06-07T07:08:38.181477",
     "exception": false,
     "start_time": "2022-06-07T07:08:38.174319",
     "status": "completed"
    },
    "tags": []
   },
   "source": [
    "## Parameters "
   ]
  },
  {
   "cell_type": "code",
   "execution_count": 3,
   "id": "783186fb",
   "metadata": {
    "execution": {
     "iopub.execute_input": "2022-06-07T07:08:38.198206Z",
     "iopub.status.busy": "2022-06-07T07:08:38.197820Z",
     "iopub.status.idle": "2022-06-07T07:08:38.199107Z",
     "shell.execute_reply": "2022-06-07T07:08:38.199358Z"
    },
    "id": "783186fb",
    "papermill": {
     "duration": 0.010886,
     "end_time": "2022-06-07T07:08:38.199472",
     "exception": false,
     "start_time": "2022-06-07T07:08:38.188586",
     "status": "completed"
    },
    "tags": [
     "parameters"
    ]
   },
   "outputs": [],
   "source": [
    "variance = 1\n",
    "bias = 1 "
   ]
  },
  {
   "cell_type": "code",
   "execution_count": 4,
   "id": "0a1e2c6c",
   "metadata": {
    "execution": {
     "iopub.execute_input": "2022-06-07T07:08:38.215996Z",
     "iopub.status.busy": "2022-06-07T07:08:38.215625Z",
     "iopub.status.idle": "2022-06-07T07:08:38.216910Z",
     "shell.execute_reply": "2022-06-07T07:08:38.217156Z"
    },
    "papermill": {
     "duration": 0.010494,
     "end_time": "2022-06-07T07:08:38.217272",
     "exception": false,
     "start_time": "2022-06-07T07:08:38.206778",
     "status": "completed"
    },
    "tags": [
     "injected-parameters"
    ]
   },
   "outputs": [],
   "source": [
    "# Parameters\n",
    "variance = 1\n",
    "bias = 0.1\n"
   ]
  },
  {
   "cell_type": "markdown",
   "id": "391cdbfd",
   "metadata": {
    "id": "391cdbfd",
    "papermill": {
     "duration": 0.007168,
     "end_time": "2022-06-07T07:08:38.231413",
     "exception": false,
     "start_time": "2022-06-07T07:08:38.224245",
     "status": "completed"
    },
    "tags": []
   },
   "source": [
    "## Dataset \n"
   ]
  },
  {
   "cell_type": "code",
   "execution_count": 5,
   "id": "5b51f161",
   "metadata": {
    "execution": {
     "iopub.execute_input": "2022-06-07T07:08:38.249899Z",
     "iopub.status.busy": "2022-06-07T07:08:38.249520Z",
     "iopub.status.idle": "2022-06-07T07:08:38.250761Z",
     "shell.execute_reply": "2022-06-07T07:08:38.250999Z"
    },
    "id": "5b51f161",
    "papermill": {
     "duration": 0.011795,
     "end_time": "2022-06-07T07:08:38.251111",
     "exception": false,
     "start_time": "2022-06-07T07:08:38.239316",
     "status": "completed"
    },
    "tags": []
   },
   "outputs": [],
   "source": [
    "#Parameters \n",
    "n_features = 5\n",
    "n_samples= 100\n",
    "n_target = 1 "
   ]
  },
  {
   "cell_type": "code",
   "execution_count": 6,
   "id": "5d6eced4",
   "metadata": {
    "execution": {
     "iopub.execute_input": "2022-06-07T07:08:38.268856Z",
     "iopub.status.busy": "2022-06-07T07:08:38.267599Z",
     "iopub.status.idle": "2022-06-07T07:08:38.276823Z",
     "shell.execute_reply": "2022-06-07T07:08:38.277070Z"
    },
    "id": "5d6eced4",
    "papermill": {
     "duration": 0.01866,
     "end_time": "2022-06-07T07:08:38.277192",
     "exception": false,
     "start_time": "2022-06-07T07:08:38.258532",
     "status": "completed"
    },
    "tags": []
   },
   "outputs": [
    {
     "name": "stdout",
     "output_type": "stream",
     "text": [
      "         X0        X1        X2        X3        X4         Y\n",
      "0 -0.219198 -0.635992 -0.505525  0.290048  0.607877 -0.206463\n",
      "1 -0.818843  1.560489 -0.721780  1.275987 -1.541329  0.578312\n",
      "2 -1.532208 -0.720180  0.718331  0.922014 -1.500607 -1.068616\n",
      "3  0.705659 -1.198844 -1.025085 -0.475694  1.347014 -0.297560\n",
      "4  1.145283  1.611903  0.386743  0.342190  0.849897  0.397796\n"
     ]
    }
   ],
   "source": [
    "X,Y = friedman1Dataset.friedman1_data(n_samples,n_features)"
   ]
  },
  {
   "cell_type": "code",
   "execution_count": 7,
   "id": "fe007438",
   "metadata": {
    "execution": {
     "iopub.execute_input": "2022-06-07T07:08:38.295292Z",
     "iopub.status.busy": "2022-06-07T07:08:38.294919Z",
     "iopub.status.idle": "2022-06-07T07:08:38.296349Z",
     "shell.execute_reply": "2022-06-07T07:08:38.296601Z"
    },
    "id": "fe007438",
    "papermill": {
     "duration": 0.012033,
     "end_time": "2022-06-07T07:08:38.296716",
     "exception": false,
     "start_time": "2022-06-07T07:08:38.284683",
     "status": "completed"
    },
    "tags": []
   },
   "outputs": [],
   "source": [
    "#Train test split for dataset \n",
    "X_train,X_test,Y_train,Y_test = train_test_split(X,Y,test_size = 0.2)\n",
    "train_data = dataset.CustomDataset(X_train,Y_train)\n",
    "test_data = dataset.CustomDataset(X_test,Y_test)\n"
   ]
  },
  {
   "cell_type": "markdown",
   "id": "a9a1af34",
   "metadata": {
    "id": "a9a1af34",
    "papermill": {
     "duration": 0.007674,
     "end_time": "2022-06-07T07:08:38.311838",
     "exception": false,
     "start_time": "2022-06-07T07:08:38.304164",
     "status": "completed"
    },
    "tags": []
   },
   "source": [
    "## Training Parameters "
   ]
  },
  {
   "cell_type": "code",
   "execution_count": 8,
   "id": "952b7fc8",
   "metadata": {
    "execution": {
     "iopub.execute_input": "2022-06-07T07:08:38.329447Z",
     "iopub.status.busy": "2022-06-07T07:08:38.328994Z",
     "iopub.status.idle": "2022-06-07T07:08:38.330346Z",
     "shell.execute_reply": "2022-06-07T07:08:38.330600Z"
    },
    "id": "952b7fc8",
    "papermill": {
     "duration": 0.011689,
     "end_time": "2022-06-07T07:08:38.330721",
     "exception": false,
     "start_time": "2022-06-07T07:08:38.319032",
     "status": "completed"
    },
    "tags": []
   },
   "outputs": [],
   "source": [
    "batch_size = 32\n",
    "n_epochs = 1000\n",
    "#Select the device \n",
    "device = torch.device('cuda' if torch.cuda.is_available() else 'cpu')"
   ]
  },
  {
   "cell_type": "markdown",
   "id": "a95e1600",
   "metadata": {
    "id": "a95e1600",
    "papermill": {
     "duration": 0.007775,
     "end_time": "2022-06-07T07:08:38.346073",
     "exception": false,
     "start_time": "2022-06-07T07:08:38.338298",
     "status": "completed"
    },
    "tags": []
   },
   "source": [
    "# ABC Pre-generator Model \n",
    "\n",
    "1. The catboost model is used as a pre-generator model for the ABC-GAN. \n",
    "2. The model is first trained on the entire dataset \n",
    "3. It generats X,Y pairs and we add some Gaussian noise with mean 0 and variance 1 to it which is then feed as input to the generator.\n"
   ]
  },
  {
   "cell_type": "code",
   "execution_count": 9,
   "id": "ff8ce7bd",
   "metadata": {
    "execution": {
     "iopub.execute_input": "2022-06-07T07:08:38.364907Z",
     "iopub.status.busy": "2022-06-07T07:08:38.364505Z",
     "iopub.status.idle": "2022-06-07T07:08:39.012264Z",
     "shell.execute_reply": "2022-06-07T07:08:39.012567Z"
    },
    "id": "ff8ce7bd",
    "papermill": {
     "duration": 0.659422,
     "end_time": "2022-06-07T07:08:39.012696",
     "exception": false,
     "start_time": "2022-06-07T07:08:38.353274",
     "status": "completed"
    },
    "tags": []
   },
   "outputs": [
    {
     "name": "stdout",
     "output_type": "stream",
     "text": [
      "Learning rate set to 0.024897\n",
      "0:\tlearn: 1.0171573\ttotal: 58.8ms\tremaining: 58.7s\n",
      "1:\tlearn: 1.0059700\ttotal: 59.4ms\tremaining: 29.6s\n",
      "2:\tlearn: 0.9966876\ttotal: 60ms\tremaining: 19.9s\n",
      "3:\tlearn: 0.9867695\ttotal: 60.5ms\tremaining: 15.1s\n",
      "4:\tlearn: 0.9776568\ttotal: 61ms\tremaining: 12.1s\n",
      "5:\tlearn: 0.9689876\ttotal: 61.5ms\tremaining: 10.2s\n",
      "6:\tlearn: 0.9581267\ttotal: 62ms\tremaining: 8.8s\n",
      "7:\tlearn: 0.9478749\ttotal: 62.6ms\tremaining: 7.76s\n",
      "8:\tlearn: 0.9389628\ttotal: 63.1ms\tremaining: 6.95s\n",
      "9:\tlearn: 0.9307437\ttotal: 63.5ms\tremaining: 6.29s\n",
      "10:\tlearn: 0.9213544\ttotal: 64ms\tremaining: 5.75s\n",
      "11:\tlearn: 0.9118846\ttotal: 64.5ms\tremaining: 5.31s\n",
      "12:\tlearn: 0.9036265\ttotal: 65ms\tremaining: 4.93s\n",
      "13:\tlearn: 0.8946075\ttotal: 65.5ms\tremaining: 4.61s\n",
      "14:\tlearn: 0.8870926\ttotal: 66ms\tremaining: 4.34s\n",
      "15:\tlearn: 0.8780382\ttotal: 66.6ms\tremaining: 4.09s\n",
      "16:\tlearn: 0.8693905\ttotal: 67.1ms\tremaining: 3.88s\n",
      "17:\tlearn: 0.8612971\ttotal: 67.5ms\tremaining: 3.68s\n",
      "18:\tlearn: 0.8535638\ttotal: 68ms\tremaining: 3.51s\n",
      "19:\tlearn: 0.8447816\ttotal: 68.6ms\tremaining: 3.36s\n",
      "20:\tlearn: 0.8357930\ttotal: 69.2ms\tremaining: 3.22s\n",
      "21:\tlearn: 0.8275730\ttotal: 69.9ms\tremaining: 3.11s\n",
      "22:\tlearn: 0.8191280\ttotal: 70.7ms\tremaining: 3s\n",
      "23:\tlearn: 0.8122854\ttotal: 71.2ms\tremaining: 2.89s\n",
      "24:\tlearn: 0.8035111\ttotal: 71.7ms\tremaining: 2.79s\n",
      "25:\tlearn: 0.7944062\ttotal: 72.1ms\tremaining: 2.7s\n",
      "26:\tlearn: 0.7862352\ttotal: 72.5ms\tremaining: 2.61s\n",
      "27:\tlearn: 0.7783463\ttotal: 73.1ms\tremaining: 2.54s\n",
      "28:\tlearn: 0.7707796\ttotal: 73.6ms\tremaining: 2.46s\n",
      "29:\tlearn: 0.7637729\ttotal: 74.1ms\tremaining: 2.4s\n",
      "30:\tlearn: 0.7552694\ttotal: 74.5ms\tremaining: 2.33s\n",
      "31:\tlearn: 0.7476081\ttotal: 75ms\tremaining: 2.27s\n",
      "32:\tlearn: 0.7414016\ttotal: 75.5ms\tremaining: 2.21s\n",
      "33:\tlearn: 0.7337744\ttotal: 75.9ms\tremaining: 2.16s\n",
      "34:\tlearn: 0.7261874\ttotal: 76.4ms\tremaining: 2.11s\n",
      "35:\tlearn: 0.7217982\ttotal: 76.8ms\tremaining: 2.06s\n",
      "36:\tlearn: 0.7157063\ttotal: 77.4ms\tremaining: 2.01s\n",
      "37:\tlearn: 0.7091421\ttotal: 77.7ms\tremaining: 1.97s\n",
      "38:\tlearn: 0.7035092\ttotal: 78.2ms\tremaining: 1.93s\n",
      "39:\tlearn: 0.6963640\ttotal: 78.7ms\tremaining: 1.89s\n",
      "40:\tlearn: 0.6905730\ttotal: 79ms\tremaining: 1.85s\n",
      "41:\tlearn: 0.6834139\ttotal: 79.4ms\tremaining: 1.81s\n",
      "42:\tlearn: 0.6776709\ttotal: 79.7ms\tremaining: 1.77s\n",
      "43:\tlearn: 0.6707440\ttotal: 80.2ms\tremaining: 1.74s\n",
      "44:\tlearn: 0.6653120\ttotal: 80.6ms\tremaining: 1.71s\n",
      "45:\tlearn: 0.6583288\ttotal: 81ms\tremaining: 1.68s\n",
      "46:\tlearn: 0.6533108\ttotal: 81.5ms\tremaining: 1.65s\n",
      "47:\tlearn: 0.6470711\ttotal: 82.1ms\tremaining: 1.63s\n",
      "48:\tlearn: 0.6402707\ttotal: 82.5ms\tremaining: 1.6s\n",
      "49:\tlearn: 0.6355087\ttotal: 83.1ms\tremaining: 1.58s\n",
      "50:\tlearn: 0.6309523\ttotal: 83.5ms\tremaining: 1.55s\n",
      "51:\tlearn: 0.6250714\ttotal: 83.9ms\tremaining: 1.53s\n",
      "52:\tlearn: 0.6191854\ttotal: 84.5ms\tremaining: 1.51s\n",
      "53:\tlearn: 0.6151818\ttotal: 85ms\tremaining: 1.49s\n",
      "54:\tlearn: 0.6095622\ttotal: 85.7ms\tremaining: 1.47s\n",
      "55:\tlearn: 0.6039718\ttotal: 86.2ms\tremaining: 1.45s\n",
      "56:\tlearn: 0.5980928\ttotal: 86.6ms\tremaining: 1.43s\n",
      "57:\tlearn: 0.5929416\ttotal: 87.2ms\tremaining: 1.42s\n",
      "58:\tlearn: 0.5894486\ttotal: 87.7ms\tremaining: 1.4s\n",
      "59:\tlearn: 0.5848912\ttotal: 88.1ms\tremaining: 1.38s\n",
      "60:\tlearn: 0.5803926\ttotal: 88.7ms\tremaining: 1.36s\n",
      "61:\tlearn: 0.5756574\ttotal: 89.2ms\tremaining: 1.35s\n",
      "62:\tlearn: 0.5715258\ttotal: 89.6ms\tremaining: 1.33s\n",
      "63:\tlearn: 0.5668140\ttotal: 90ms\tremaining: 1.32s\n",
      "64:\tlearn: 0.5616646\ttotal: 90.4ms\tremaining: 1.3s\n",
      "65:\tlearn: 0.5570682\ttotal: 90.8ms\tremaining: 1.28s\n",
      "66:\tlearn: 0.5520128\ttotal: 91.2ms\tremaining: 1.27s\n",
      "67:\tlearn: 0.5475460\ttotal: 91.6ms\tremaining: 1.25s\n",
      "68:\tlearn: 0.5429405\ttotal: 92.1ms\tremaining: 1.24s\n",
      "69:\tlearn: 0.5376859\ttotal: 92.6ms\tremaining: 1.23s\n",
      "70:\tlearn: 0.5327094\ttotal: 93.1ms\tremaining: 1.22s\n",
      "71:\tlearn: 0.5281716\ttotal: 93.6ms\tremaining: 1.21s\n",
      "72:\tlearn: 0.5238638\ttotal: 94ms\tremaining: 1.19s\n",
      "73:\tlearn: 0.5190463\ttotal: 94.5ms\tremaining: 1.18s\n",
      "74:\tlearn: 0.5143952\ttotal: 95ms\tremaining: 1.17s\n",
      "75:\tlearn: 0.5108258\ttotal: 95.5ms\tremaining: 1.16s\n",
      "76:\tlearn: 0.5064432\ttotal: 96.1ms\tremaining: 1.15s\n",
      "77:\tlearn: 0.5018974\ttotal: 96.6ms\tremaining: 1.14s\n",
      "78:\tlearn: 0.4974002\ttotal: 97.7ms\tremaining: 1.14s\n",
      "79:\tlearn: 0.4927816\ttotal: 98.1ms\tremaining: 1.13s\n",
      "80:\tlearn: 0.4882963\ttotal: 98.6ms\tremaining: 1.12s\n",
      "81:\tlearn: 0.4834363\ttotal: 99ms\tremaining: 1.11s\n",
      "82:\tlearn: 0.4794866\ttotal: 99.3ms\tremaining: 1.1s\n",
      "83:\tlearn: 0.4753146\ttotal: 99.7ms\tremaining: 1.09s\n",
      "84:\tlearn: 0.4712420\ttotal: 100ms\tremaining: 1.08s\n",
      "85:\tlearn: 0.4674931\ttotal: 100ms\tremaining: 1.07s\n",
      "86:\tlearn: 0.4640895\ttotal: 101ms\tremaining: 1.06s\n"
     ]
    },
    {
     "name": "stdout",
     "output_type": "stream",
     "text": [
      "87:\tlearn: 0.4602496\ttotal: 104ms\tremaining: 1.07s\n",
      "88:\tlearn: 0.4560959\ttotal: 104ms\tremaining: 1.07s\n",
      "89:\tlearn: 0.4528471\ttotal: 105ms\tremaining: 1.06s\n",
      "90:\tlearn: 0.4492918\ttotal: 106ms\tremaining: 1.05s\n",
      "91:\tlearn: 0.4455765\ttotal: 106ms\tremaining: 1.05s\n",
      "92:\tlearn: 0.4418154\ttotal: 107ms\tremaining: 1.04s\n",
      "93:\tlearn: 0.4379961\ttotal: 107ms\tremaining: 1.03s\n",
      "94:\tlearn: 0.4341764\ttotal: 108ms\tremaining: 1.02s\n",
      "95:\tlearn: 0.4309540\ttotal: 108ms\tremaining: 1.02s\n",
      "96:\tlearn: 0.4274724\ttotal: 108ms\tremaining: 1.01s\n",
      "97:\tlearn: 0.4258900\ttotal: 108ms\tremaining: 998ms\n",
      "98:\tlearn: 0.4226566\ttotal: 109ms\tremaining: 991ms\n",
      "99:\tlearn: 0.4192055\ttotal: 109ms\tremaining: 983ms\n",
      "100:\tlearn: 0.4155212\ttotal: 110ms\tremaining: 977ms\n",
      "101:\tlearn: 0.4126507\ttotal: 110ms\tremaining: 970ms\n",
      "102:\tlearn: 0.4093498\ttotal: 111ms\tremaining: 963ms\n",
      "103:\tlearn: 0.4064885\ttotal: 111ms\tremaining: 956ms\n",
      "104:\tlearn: 0.4030996\ttotal: 111ms\tremaining: 949ms\n",
      "105:\tlearn: 0.4000709\ttotal: 112ms\tremaining: 943ms\n",
      "106:\tlearn: 0.3970088\ttotal: 112ms\tremaining: 938ms\n",
      "107:\tlearn: 0.3943883\ttotal: 113ms\tremaining: 933ms\n",
      "108:\tlearn: 0.3913298\ttotal: 113ms\tremaining: 926ms\n",
      "109:\tlearn: 0.3884280\ttotal: 114ms\tremaining: 921ms\n",
      "110:\tlearn: 0.3859008\ttotal: 114ms\tremaining: 915ms\n",
      "111:\tlearn: 0.3828520\ttotal: 115ms\tremaining: 909ms\n",
      "112:\tlearn: 0.3795769\ttotal: 115ms\tremaining: 904ms\n",
      "113:\tlearn: 0.3765274\ttotal: 116ms\tremaining: 899ms\n",
      "114:\tlearn: 0.3731860\ttotal: 116ms\tremaining: 895ms\n",
      "115:\tlearn: 0.3700159\ttotal: 117ms\tremaining: 890ms\n",
      "116:\tlearn: 0.3671967\ttotal: 117ms\tremaining: 884ms\n",
      "117:\tlearn: 0.3642110\ttotal: 118ms\tremaining: 879ms\n",
      "118:\tlearn: 0.3620612\ttotal: 118ms\tremaining: 874ms\n",
      "119:\tlearn: 0.3598798\ttotal: 118ms\tremaining: 868ms\n",
      "120:\tlearn: 0.3564135\ttotal: 119ms\tremaining: 864ms\n",
      "121:\tlearn: 0.3534769\ttotal: 119ms\tremaining: 859ms\n",
      "122:\tlearn: 0.3507713\ttotal: 120ms\tremaining: 854ms\n",
      "123:\tlearn: 0.3474063\ttotal: 120ms\tremaining: 850ms\n",
      "124:\tlearn: 0.3450489\ttotal: 121ms\tremaining: 845ms\n",
      "125:\tlearn: 0.3427144\ttotal: 121ms\tremaining: 841ms\n",
      "126:\tlearn: 0.3399572\ttotal: 122ms\tremaining: 837ms\n",
      "127:\tlearn: 0.3377991\ttotal: 122ms\tremaining: 832ms\n",
      "128:\tlearn: 0.3345996\ttotal: 123ms\tremaining: 828ms\n",
      "129:\tlearn: 0.3327552\ttotal: 123ms\tremaining: 824ms\n",
      "130:\tlearn: 0.3305379\ttotal: 123ms\tremaining: 819ms\n",
      "131:\tlearn: 0.3282754\ttotal: 124ms\tremaining: 815ms\n",
      "132:\tlearn: 0.3259119\ttotal: 124ms\tremaining: 811ms\n",
      "133:\tlearn: 0.3233254\ttotal: 125ms\tremaining: 807ms\n",
      "134:\tlearn: 0.3204322\ttotal: 125ms\tremaining: 802ms\n",
      "135:\tlearn: 0.3180688\ttotal: 126ms\tremaining: 799ms\n",
      "136:\tlearn: 0.3153981\ttotal: 126ms\tremaining: 795ms\n",
      "137:\tlearn: 0.3131301\ttotal: 127ms\tremaining: 791ms\n",
      "138:\tlearn: 0.3114733\ttotal: 127ms\tremaining: 787ms\n",
      "139:\tlearn: 0.3092474\ttotal: 128ms\tremaining: 783ms\n",
      "140:\tlearn: 0.3070797\ttotal: 128ms\tremaining: 780ms\n",
      "141:\tlearn: 0.3048457\ttotal: 128ms\tremaining: 776ms\n",
      "142:\tlearn: 0.3031161\ttotal: 129ms\tremaining: 773ms\n",
      "143:\tlearn: 0.3009176\ttotal: 130ms\tremaining: 770ms\n",
      "144:\tlearn: 0.2989591\ttotal: 130ms\tremaining: 766ms\n",
      "145:\tlearn: 0.2967585\ttotal: 131ms\tremaining: 764ms\n",
      "146:\tlearn: 0.2945222\ttotal: 131ms\tremaining: 761ms\n",
      "147:\tlearn: 0.2922911\ttotal: 132ms\tremaining: 757ms\n",
      "148:\tlearn: 0.2899753\ttotal: 132ms\tremaining: 754ms\n",
      "149:\tlearn: 0.2881807\ttotal: 133ms\tremaining: 751ms\n",
      "150:\tlearn: 0.2859221\ttotal: 133ms\tremaining: 748ms\n",
      "151:\tlearn: 0.2837874\ttotal: 134ms\tremaining: 746ms\n",
      "152:\tlearn: 0.2818808\ttotal: 134ms\tremaining: 743ms\n",
      "153:\tlearn: 0.2799206\ttotal: 135ms\tremaining: 740ms\n",
      "154:\tlearn: 0.2777768\ttotal: 135ms\tremaining: 736ms\n",
      "155:\tlearn: 0.2758932\ttotal: 135ms\tremaining: 733ms\n",
      "156:\tlearn: 0.2740352\ttotal: 136ms\tremaining: 730ms\n",
      "157:\tlearn: 0.2719589\ttotal: 136ms\tremaining: 727ms\n",
      "158:\tlearn: 0.2701013\ttotal: 137ms\tremaining: 724ms\n",
      "159:\tlearn: 0.2681518\ttotal: 137ms\tremaining: 721ms\n",
      "160:\tlearn: 0.2665481\ttotal: 138ms\tremaining: 718ms\n",
      "161:\tlearn: 0.2643784\ttotal: 138ms\tremaining: 715ms\n",
      "162:\tlearn: 0.2625062\ttotal: 139ms\tremaining: 712ms\n",
      "163:\tlearn: 0.2605708\ttotal: 139ms\tremaining: 710ms\n",
      "164:\tlearn: 0.2586678\ttotal: 140ms\tremaining: 707ms\n",
      "165:\tlearn: 0.2570320\ttotal: 140ms\tremaining: 704ms\n",
      "166:\tlearn: 0.2553587\ttotal: 141ms\tremaining: 702ms\n",
      "167:\tlearn: 0.2533032\ttotal: 141ms\tremaining: 699ms\n",
      "168:\tlearn: 0.2515266\ttotal: 142ms\tremaining: 696ms\n",
      "169:\tlearn: 0.2496167\ttotal: 142ms\tremaining: 694ms\n",
      "170:\tlearn: 0.2480045\ttotal: 143ms\tremaining: 691ms\n",
      "171:\tlearn: 0.2464827\ttotal: 143ms\tremaining: 689ms\n",
      "172:\tlearn: 0.2446762\ttotal: 144ms\tremaining: 687ms\n",
      "173:\tlearn: 0.2430038\ttotal: 144ms\tremaining: 684ms\n",
      "174:\tlearn: 0.2410896\ttotal: 145ms\tremaining: 682ms\n",
      "175:\tlearn: 0.2393128\ttotal: 145ms\tremaining: 680ms\n",
      "176:\tlearn: 0.2377553\ttotal: 146ms\tremaining: 678ms\n",
      "177:\tlearn: 0.2361791\ttotal: 146ms\tremaining: 675ms\n",
      "178:\tlearn: 0.2347015\ttotal: 147ms\tremaining: 673ms\n",
      "179:\tlearn: 0.2330726\ttotal: 147ms\tremaining: 670ms\n",
      "180:\tlearn: 0.2317028\ttotal: 148ms\tremaining: 669ms\n",
      "181:\tlearn: 0.2301415\ttotal: 148ms\tremaining: 667ms\n",
      "182:\tlearn: 0.2287121\ttotal: 149ms\tremaining: 664ms\n",
      "183:\tlearn: 0.2270786\ttotal: 149ms\tremaining: 662ms\n",
      "184:\tlearn: 0.2255735\ttotal: 150ms\tremaining: 660ms\n",
      "185:\tlearn: 0.2237977\ttotal: 150ms\tremaining: 658ms\n",
      "186:\tlearn: 0.2221727\ttotal: 151ms\tremaining: 655ms\n",
      "187:\tlearn: 0.2204001\ttotal: 151ms\tremaining: 653ms\n",
      "188:\tlearn: 0.2186152\ttotal: 152ms\tremaining: 651ms\n",
      "189:\tlearn: 0.2169430\ttotal: 152ms\tremaining: 649ms\n",
      "190:\tlearn: 0.2154818\ttotal: 153ms\tremaining: 647ms\n",
      "191:\tlearn: 0.2138628\ttotal: 153ms\tremaining: 645ms\n",
      "192:\tlearn: 0.2125239\ttotal: 154ms\tremaining: 646ms\n",
      "193:\tlearn: 0.2112474\ttotal: 155ms\tremaining: 644ms\n",
      "194:\tlearn: 0.2101216\ttotal: 156ms\tremaining: 642ms\n",
      "195:\tlearn: 0.2083403\ttotal: 156ms\tremaining: 640ms\n",
      "196:\tlearn: 0.2067379\ttotal: 156ms\tremaining: 638ms\n",
      "197:\tlearn: 0.2051792\ttotal: 157ms\tremaining: 636ms\n",
      "198:\tlearn: 0.2037519\ttotal: 157ms\tremaining: 634ms\n",
      "199:\tlearn: 0.2019978\ttotal: 158ms\tremaining: 631ms\n",
      "200:\tlearn: 0.2006721\ttotal: 158ms\tremaining: 629ms\n",
      "201:\tlearn: 0.1992900\ttotal: 159ms\tremaining: 627ms\n",
      "202:\tlearn: 0.1977042\ttotal: 159ms\tremaining: 625ms\n",
      "203:\tlearn: 0.1962152\ttotal: 160ms\tremaining: 625ms\n",
      "204:\tlearn: 0.1951087\ttotal: 161ms\tremaining: 623ms\n",
      "205:\tlearn: 0.1935563\ttotal: 161ms\tremaining: 620ms\n",
      "206:\tlearn: 0.1925451\ttotal: 162ms\tremaining: 620ms\n",
      "207:\tlearn: 0.1911047\ttotal: 162ms\tremaining: 618ms\n",
      "208:\tlearn: 0.1900382\ttotal: 163ms\tremaining: 616ms\n",
      "209:\tlearn: 0.1888981\ttotal: 163ms\tremaining: 614ms\n",
      "210:\tlearn: 0.1876472\ttotal: 164ms\tremaining: 613ms\n",
      "211:\tlearn: 0.1863035\ttotal: 164ms\tremaining: 611ms\n",
      "212:\tlearn: 0.1852298\ttotal: 165ms\tremaining: 609ms\n",
      "213:\tlearn: 0.1838149\ttotal: 165ms\tremaining: 607ms\n",
      "214:\tlearn: 0.1823132\ttotal: 166ms\tremaining: 605ms\n",
      "215:\tlearn: 0.1813870\ttotal: 166ms\tremaining: 603ms\n",
      "216:\tlearn: 0.1800393\ttotal: 166ms\tremaining: 601ms\n",
      "217:\tlearn: 0.1788888\ttotal: 167ms\tremaining: 600ms\n",
      "218:\tlearn: 0.1779384\ttotal: 168ms\tremaining: 598ms\n",
      "219:\tlearn: 0.1765689\ttotal: 168ms\tremaining: 596ms\n",
      "220:\tlearn: 0.1756005\ttotal: 169ms\tremaining: 594ms\n",
      "221:\tlearn: 0.1743591\ttotal: 169ms\tremaining: 592ms\n",
      "222:\tlearn: 0.1729832\ttotal: 170ms\tremaining: 591ms\n",
      "223:\tlearn: 0.1718211\ttotal: 170ms\tremaining: 589ms\n",
      "224:\tlearn: 0.1707719\ttotal: 171ms\tremaining: 587ms\n",
      "225:\tlearn: 0.1693640\ttotal: 171ms\tremaining: 586ms\n",
      "226:\tlearn: 0.1682948\ttotal: 171ms\tremaining: 584ms\n",
      "227:\tlearn: 0.1671390\ttotal: 172ms\tremaining: 582ms\n",
      "228:\tlearn: 0.1658579\ttotal: 172ms\tremaining: 580ms\n",
      "229:\tlearn: 0.1644296\ttotal: 173ms\tremaining: 579ms\n",
      "230:\tlearn: 0.1634249\ttotal: 174ms\tremaining: 578ms\n",
      "231:\tlearn: 0.1622635\ttotal: 174ms\tremaining: 577ms\n",
      "232:\tlearn: 0.1610980\ttotal: 175ms\tremaining: 575ms\n",
      "233:\tlearn: 0.1599568\ttotal: 175ms\tremaining: 573ms\n",
      "234:\tlearn: 0.1590121\ttotal: 176ms\tremaining: 572ms\n",
      "235:\tlearn: 0.1579972\ttotal: 176ms\tremaining: 571ms\n",
      "236:\tlearn: 0.1571298\ttotal: 177ms\tremaining: 569ms\n",
      "237:\tlearn: 0.1558905\ttotal: 177ms\tremaining: 567ms\n",
      "238:\tlearn: 0.1551013\ttotal: 178ms\tremaining: 565ms\n",
      "239:\tlearn: 0.1541969\ttotal: 178ms\tremaining: 564ms\n",
      "240:\tlearn: 0.1531958\ttotal: 179ms\tremaining: 563ms\n",
      "241:\tlearn: 0.1521783\ttotal: 179ms\tremaining: 561ms\n",
      "242:\tlearn: 0.1509715\ttotal: 180ms\tremaining: 559ms\n",
      "243:\tlearn: 0.1500119\ttotal: 180ms\tremaining: 558ms\n",
      "244:\tlearn: 0.1489332\ttotal: 181ms\tremaining: 557ms\n",
      "245:\tlearn: 0.1480548\ttotal: 181ms\tremaining: 555ms\n",
      "246:\tlearn: 0.1468521\ttotal: 182ms\tremaining: 554ms\n",
      "247:\tlearn: 0.1459162\ttotal: 182ms\tremaining: 553ms\n",
      "248:\tlearn: 0.1449110\ttotal: 183ms\tremaining: 551ms\n"
     ]
    },
    {
     "name": "stdout",
     "output_type": "stream",
     "text": [
      "249:\tlearn: 0.1439664\ttotal: 183ms\tremaining: 550ms\n",
      "250:\tlearn: 0.1431297\ttotal: 184ms\tremaining: 549ms\n",
      "251:\tlearn: 0.1421987\ttotal: 185ms\tremaining: 548ms\n",
      "252:\tlearn: 0.1412943\ttotal: 185ms\tremaining: 546ms\n",
      "253:\tlearn: 0.1403270\ttotal: 185ms\tremaining: 545ms\n",
      "254:\tlearn: 0.1393642\ttotal: 186ms\tremaining: 543ms\n",
      "255:\tlearn: 0.1384544\ttotal: 186ms\tremaining: 542ms\n",
      "256:\tlearn: 0.1375246\ttotal: 187ms\tremaining: 540ms\n",
      "257:\tlearn: 0.1366839\ttotal: 191ms\tremaining: 550ms\n",
      "258:\tlearn: 0.1357769\ttotal: 192ms\tremaining: 548ms\n",
      "259:\tlearn: 0.1349022\ttotal: 192ms\tremaining: 547ms\n",
      "260:\tlearn: 0.1339931\ttotal: 193ms\tremaining: 545ms\n",
      "261:\tlearn: 0.1330579\ttotal: 193ms\tremaining: 544ms\n",
      "262:\tlearn: 0.1321310\ttotal: 194ms\tremaining: 543ms\n",
      "263:\tlearn: 0.1313242\ttotal: 194ms\tremaining: 542ms\n",
      "264:\tlearn: 0.1304169\ttotal: 195ms\tremaining: 540ms\n",
      "265:\tlearn: 0.1295436\ttotal: 195ms\tremaining: 539ms\n",
      "266:\tlearn: 0.1286986\ttotal: 196ms\tremaining: 537ms\n",
      "267:\tlearn: 0.1280289\ttotal: 196ms\tremaining: 536ms\n",
      "268:\tlearn: 0.1270945\ttotal: 197ms\tremaining: 534ms\n",
      "269:\tlearn: 0.1263499\ttotal: 197ms\tremaining: 533ms\n",
      "270:\tlearn: 0.1256280\ttotal: 198ms\tremaining: 532ms\n",
      "271:\tlearn: 0.1247481\ttotal: 198ms\tremaining: 530ms\n",
      "272:\tlearn: 0.1238409\ttotal: 199ms\tremaining: 529ms\n",
      "273:\tlearn: 0.1232014\ttotal: 199ms\tremaining: 528ms\n",
      "274:\tlearn: 0.1224126\ttotal: 200ms\tremaining: 527ms\n",
      "275:\tlearn: 0.1215374\ttotal: 200ms\tremaining: 526ms\n",
      "276:\tlearn: 0.1206913\ttotal: 201ms\tremaining: 525ms\n",
      "277:\tlearn: 0.1197544\ttotal: 202ms\tremaining: 523ms\n",
      "278:\tlearn: 0.1186836\ttotal: 202ms\tremaining: 522ms\n",
      "279:\tlearn: 0.1177567\ttotal: 202ms\tremaining: 520ms\n",
      "280:\tlearn: 0.1169977\ttotal: 203ms\tremaining: 519ms\n",
      "281:\tlearn: 0.1162178\ttotal: 203ms\tremaining: 518ms\n",
      "282:\tlearn: 0.1154748\ttotal: 204ms\tremaining: 516ms\n",
      "283:\tlearn: 0.1144590\ttotal: 204ms\tremaining: 515ms\n",
      "284:\tlearn: 0.1136550\ttotal: 205ms\tremaining: 514ms\n",
      "285:\tlearn: 0.1126469\ttotal: 205ms\tremaining: 512ms\n",
      "286:\tlearn: 0.1118564\ttotal: 206ms\tremaining: 511ms\n",
      "287:\tlearn: 0.1111822\ttotal: 206ms\tremaining: 509ms\n",
      "288:\tlearn: 0.1101925\ttotal: 207ms\tremaining: 508ms\n",
      "289:\tlearn: 0.1093921\ttotal: 207ms\tremaining: 507ms\n",
      "290:\tlearn: 0.1087335\ttotal: 207ms\tremaining: 505ms\n",
      "291:\tlearn: 0.1081113\ttotal: 208ms\tremaining: 504ms\n",
      "292:\tlearn: 0.1074687\ttotal: 208ms\tremaining: 503ms\n",
      "293:\tlearn: 0.1066620\ttotal: 209ms\tremaining: 501ms\n",
      "294:\tlearn: 0.1059952\ttotal: 209ms\tremaining: 500ms\n",
      "295:\tlearn: 0.1052574\ttotal: 210ms\tremaining: 499ms\n",
      "296:\tlearn: 0.1046260\ttotal: 210ms\tremaining: 498ms\n",
      "297:\tlearn: 0.1041178\ttotal: 211ms\tremaining: 497ms\n",
      "298:\tlearn: 0.1034297\ttotal: 211ms\tremaining: 496ms\n",
      "299:\tlearn: 0.1029352\ttotal: 212ms\tremaining: 495ms\n",
      "300:\tlearn: 0.1024154\ttotal: 212ms\tremaining: 493ms\n",
      "301:\tlearn: 0.1015231\ttotal: 213ms\tremaining: 492ms\n",
      "302:\tlearn: 0.1006484\ttotal: 213ms\tremaining: 491ms\n",
      "303:\tlearn: 0.1000430\ttotal: 214ms\tremaining: 490ms\n",
      "304:\tlearn: 0.0991872\ttotal: 214ms\tremaining: 489ms\n",
      "305:\tlearn: 0.0983488\ttotal: 215ms\tremaining: 487ms\n",
      "306:\tlearn: 0.0975636\ttotal: 215ms\tremaining: 486ms\n",
      "307:\tlearn: 0.0970003\ttotal: 216ms\tremaining: 485ms\n",
      "308:\tlearn: 0.0963048\ttotal: 217ms\tremaining: 484ms\n",
      "309:\tlearn: 0.0956660\ttotal: 217ms\tremaining: 483ms\n",
      "310:\tlearn: 0.0950272\ttotal: 217ms\tremaining: 482ms\n",
      "311:\tlearn: 0.0942484\ttotal: 218ms\tremaining: 480ms\n",
      "312:\tlearn: 0.0937077\ttotal: 218ms\tremaining: 479ms\n",
      "313:\tlearn: 0.0929686\ttotal: 219ms\tremaining: 478ms\n",
      "314:\tlearn: 0.0922089\ttotal: 219ms\tremaining: 477ms\n",
      "315:\tlearn: 0.0914824\ttotal: 220ms\tremaining: 475ms\n",
      "316:\tlearn: 0.0907788\ttotal: 220ms\tremaining: 474ms\n",
      "317:\tlearn: 0.0903615\ttotal: 221ms\tremaining: 473ms\n",
      "318:\tlearn: 0.0898730\ttotal: 221ms\tremaining: 472ms\n",
      "319:\tlearn: 0.0893760\ttotal: 221ms\tremaining: 471ms\n",
      "320:\tlearn: 0.0887313\ttotal: 222ms\tremaining: 469ms\n",
      "321:\tlearn: 0.0882281\ttotal: 222ms\tremaining: 468ms\n",
      "322:\tlearn: 0.0877594\ttotal: 223ms\tremaining: 467ms\n",
      "323:\tlearn: 0.0873438\ttotal: 223ms\tremaining: 466ms\n",
      "324:\tlearn: 0.0866883\ttotal: 224ms\tremaining: 465ms\n",
      "325:\tlearn: 0.0860322\ttotal: 224ms\tremaining: 463ms\n",
      "326:\tlearn: 0.0853471\ttotal: 225ms\tremaining: 462ms\n",
      "327:\tlearn: 0.0848699\ttotal: 225ms\tremaining: 461ms\n",
      "328:\tlearn: 0.0841930\ttotal: 225ms\tremaining: 460ms\n",
      "329:\tlearn: 0.0835567\ttotal: 226ms\tremaining: 459ms\n",
      "330:\tlearn: 0.0829552\ttotal: 226ms\tremaining: 458ms\n",
      "331:\tlearn: 0.0823493\ttotal: 227ms\tremaining: 457ms\n",
      "332:\tlearn: 0.0818087\ttotal: 227ms\tremaining: 455ms\n",
      "333:\tlearn: 0.0813142\ttotal: 228ms\tremaining: 455ms\n",
      "334:\tlearn: 0.0807745\ttotal: 229ms\tremaining: 454ms\n",
      "335:\tlearn: 0.0802933\ttotal: 229ms\tremaining: 453ms\n",
      "336:\tlearn: 0.0798204\ttotal: 230ms\tremaining: 452ms\n",
      "337:\tlearn: 0.0792151\ttotal: 230ms\tremaining: 451ms\n",
      "338:\tlearn: 0.0787262\ttotal: 231ms\tremaining: 450ms\n",
      "339:\tlearn: 0.0781916\ttotal: 231ms\tremaining: 449ms\n",
      "340:\tlearn: 0.0776645\ttotal: 232ms\tremaining: 448ms\n",
      "341:\tlearn: 0.0770478\ttotal: 233ms\tremaining: 447ms\n",
      "342:\tlearn: 0.0766066\ttotal: 233ms\tremaining: 446ms\n",
      "343:\tlearn: 0.0760059\ttotal: 234ms\tremaining: 446ms\n",
      "344:\tlearn: 0.0755540\ttotal: 234ms\tremaining: 445ms\n",
      "345:\tlearn: 0.0751845\ttotal: 235ms\tremaining: 444ms\n",
      "346:\tlearn: 0.0747760\ttotal: 235ms\tremaining: 443ms\n",
      "347:\tlearn: 0.0743723\ttotal: 236ms\tremaining: 442ms\n",
      "348:\tlearn: 0.0737880\ttotal: 236ms\tremaining: 440ms\n",
      "349:\tlearn: 0.0732233\ttotal: 236ms\tremaining: 439ms\n",
      "350:\tlearn: 0.0728360\ttotal: 237ms\tremaining: 438ms\n",
      "351:\tlearn: 0.0722656\ttotal: 237ms\tremaining: 437ms\n",
      "352:\tlearn: 0.0717750\ttotal: 238ms\tremaining: 436ms\n",
      "353:\tlearn: 0.0713263\ttotal: 238ms\tremaining: 435ms\n",
      "354:\tlearn: 0.0707921\ttotal: 239ms\tremaining: 434ms\n",
      "355:\tlearn: 0.0701932\ttotal: 239ms\tremaining: 433ms\n",
      "356:\tlearn: 0.0697968\ttotal: 240ms\tremaining: 432ms\n",
      "357:\tlearn: 0.0694325\ttotal: 240ms\tremaining: 431ms\n",
      "358:\tlearn: 0.0690762\ttotal: 241ms\tremaining: 430ms\n",
      "359:\tlearn: 0.0686896\ttotal: 241ms\tremaining: 429ms\n",
      "360:\tlearn: 0.0682370\ttotal: 242ms\tremaining: 428ms\n",
      "361:\tlearn: 0.0676842\ttotal: 242ms\tremaining: 427ms\n",
      "362:\tlearn: 0.0673450\ttotal: 243ms\tremaining: 426ms\n",
      "363:\tlearn: 0.0669063\ttotal: 243ms\tremaining: 425ms\n",
      "364:\tlearn: 0.0664228\ttotal: 246ms\tremaining: 429ms\n",
      "365:\tlearn: 0.0659840\ttotal: 247ms\tremaining: 428ms\n",
      "366:\tlearn: 0.0654733\ttotal: 248ms\tremaining: 427ms\n",
      "367:\tlearn: 0.0651458\ttotal: 248ms\tremaining: 426ms\n",
      "368:\tlearn: 0.0647294\ttotal: 249ms\tremaining: 425ms\n",
      "369:\tlearn: 0.0642121\ttotal: 249ms\tremaining: 424ms\n",
      "370:\tlearn: 0.0637967\ttotal: 250ms\tremaining: 423ms\n",
      "371:\tlearn: 0.0634812\ttotal: 250ms\tremaining: 422ms\n",
      "372:\tlearn: 0.0630593\ttotal: 250ms\tremaining: 421ms\n",
      "373:\tlearn: 0.0627569\ttotal: 251ms\tremaining: 420ms\n",
      "374:\tlearn: 0.0624533\ttotal: 251ms\tremaining: 419ms\n",
      "375:\tlearn: 0.0619465\ttotal: 252ms\tremaining: 418ms\n",
      "376:\tlearn: 0.0615521\ttotal: 252ms\tremaining: 417ms\n",
      "377:\tlearn: 0.0610750\ttotal: 253ms\tremaining: 416ms\n",
      "378:\tlearn: 0.0606764\ttotal: 253ms\tremaining: 415ms\n",
      "379:\tlearn: 0.0602979\ttotal: 254ms\tremaining: 414ms\n",
      "380:\tlearn: 0.0598341\ttotal: 254ms\tremaining: 413ms\n",
      "381:\tlearn: 0.0594658\ttotal: 255ms\tremaining: 412ms\n",
      "382:\tlearn: 0.0591831\ttotal: 255ms\tremaining: 411ms\n",
      "383:\tlearn: 0.0587132\ttotal: 256ms\tremaining: 411ms\n",
      "384:\tlearn: 0.0583564\ttotal: 256ms\tremaining: 410ms\n",
      "385:\tlearn: 0.0579487\ttotal: 257ms\tremaining: 409ms\n",
      "386:\tlearn: 0.0576023\ttotal: 257ms\tremaining: 407ms\n",
      "387:\tlearn: 0.0573088\ttotal: 258ms\tremaining: 406ms\n",
      "388:\tlearn: 0.0569966\ttotal: 258ms\tremaining: 406ms\n",
      "389:\tlearn: 0.0565504\ttotal: 259ms\tremaining: 405ms\n",
      "390:\tlearn: 0.0562189\ttotal: 259ms\tremaining: 404ms\n",
      "391:\tlearn: 0.0557833\ttotal: 260ms\tremaining: 403ms\n",
      "392:\tlearn: 0.0554250\ttotal: 261ms\tremaining: 402ms\n",
      "393:\tlearn: 0.0551295\ttotal: 261ms\tremaining: 402ms\n",
      "394:\tlearn: 0.0548318\ttotal: 262ms\tremaining: 401ms\n",
      "395:\tlearn: 0.0544600\ttotal: 262ms\tremaining: 400ms\n",
      "396:\tlearn: 0.0541712\ttotal: 263ms\tremaining: 399ms\n",
      "397:\tlearn: 0.0539193\ttotal: 263ms\tremaining: 398ms\n",
      "398:\tlearn: 0.0536906\ttotal: 264ms\tremaining: 397ms\n",
      "399:\tlearn: 0.0532741\ttotal: 264ms\tremaining: 396ms\n",
      "400:\tlearn: 0.0528662\ttotal: 265ms\tremaining: 395ms\n",
      "401:\tlearn: 0.0525681\ttotal: 265ms\tremaining: 394ms\n",
      "402:\tlearn: 0.0522402\ttotal: 266ms\tremaining: 393ms\n",
      "403:\tlearn: 0.0520036\ttotal: 266ms\tremaining: 392ms\n",
      "404:\tlearn: 0.0516808\ttotal: 266ms\tremaining: 391ms\n",
      "405:\tlearn: 0.0514514\ttotal: 267ms\tremaining: 391ms\n",
      "406:\tlearn: 0.0512056\ttotal: 268ms\tremaining: 390ms\n",
      "407:\tlearn: 0.0508342\ttotal: 268ms\tremaining: 389ms\n",
      "408:\tlearn: 0.0504401\ttotal: 268ms\tremaining: 388ms\n",
      "409:\tlearn: 0.0501796\ttotal: 269ms\tremaining: 386ms\n",
      "410:\tlearn: 0.0499034\ttotal: 269ms\tremaining: 386ms\n",
      "411:\tlearn: 0.0496863\ttotal: 270ms\tremaining: 385ms\n",
      "412:\tlearn: 0.0493135\ttotal: 270ms\tremaining: 384ms\n",
      "413:\tlearn: 0.0490694\ttotal: 271ms\tremaining: 383ms\n",
      "414:\tlearn: 0.0487580\ttotal: 271ms\tremaining: 382ms\n",
      "415:\tlearn: 0.0485216\ttotal: 271ms\tremaining: 381ms\n",
      "416:\tlearn: 0.0483156\ttotal: 272ms\tremaining: 380ms\n",
      "417:\tlearn: 0.0479852\ttotal: 272ms\tremaining: 379ms\n",
      "418:\tlearn: 0.0476603\ttotal: 273ms\tremaining: 378ms\n",
      "419:\tlearn: 0.0473325\ttotal: 273ms\tremaining: 377ms\n",
      "420:\tlearn: 0.0471314\ttotal: 273ms\tremaining: 376ms\n",
      "421:\tlearn: 0.0468187\ttotal: 274ms\tremaining: 375ms\n",
      "422:\tlearn: 0.0466238\ttotal: 274ms\tremaining: 374ms\n",
      "423:\tlearn: 0.0463185\ttotal: 275ms\tremaining: 373ms\n",
      "424:\tlearn: 0.0461294\ttotal: 275ms\tremaining: 372ms\n",
      "425:\tlearn: 0.0458314\ttotal: 275ms\tremaining: 371ms\n",
      "426:\tlearn: 0.0456481\ttotal: 276ms\tremaining: 370ms\n",
      "427:\tlearn: 0.0453571\ttotal: 276ms\tremaining: 369ms\n",
      "428:\tlearn: 0.0451576\ttotal: 276ms\tremaining: 368ms\n",
      "429:\tlearn: 0.0448494\ttotal: 278ms\tremaining: 368ms\n",
      "430:\tlearn: 0.0446753\ttotal: 278ms\tremaining: 367ms\n"
     ]
    },
    {
     "name": "stdout",
     "output_type": "stream",
     "text": [
      "431:\tlearn: 0.0445369\ttotal: 279ms\tremaining: 367ms\n",
      "432:\tlearn: 0.0443275\ttotal: 280ms\tremaining: 366ms\n",
      "433:\tlearn: 0.0440516\ttotal: 280ms\tremaining: 365ms\n",
      "434:\tlearn: 0.0439173\ttotal: 280ms\tremaining: 364ms\n",
      "435:\tlearn: 0.0437151\ttotal: 281ms\tremaining: 363ms\n",
      "436:\tlearn: 0.0435287\ttotal: 282ms\tremaining: 363ms\n",
      "437:\tlearn: 0.0433463\ttotal: 282ms\tremaining: 362ms\n",
      "438:\tlearn: 0.0430797\ttotal: 283ms\tremaining: 361ms\n",
      "439:\tlearn: 0.0428863\ttotal: 283ms\tremaining: 360ms\n",
      "440:\tlearn: 0.0426028\ttotal: 284ms\tremaining: 359ms\n",
      "441:\tlearn: 0.0423254\ttotal: 284ms\tremaining: 359ms\n",
      "442:\tlearn: 0.0420680\ttotal: 285ms\tremaining: 358ms\n",
      "443:\tlearn: 0.0419059\ttotal: 285ms\tremaining: 357ms\n",
      "444:\tlearn: 0.0417472\ttotal: 285ms\tremaining: 356ms\n",
      "445:\tlearn: 0.0414987\ttotal: 286ms\tremaining: 355ms\n",
      "446:\tlearn: 0.0413644\ttotal: 286ms\tremaining: 354ms\n",
      "447:\tlearn: 0.0412120\ttotal: 287ms\tremaining: 353ms\n",
      "448:\tlearn: 0.0410819\ttotal: 287ms\tremaining: 352ms\n",
      "449:\tlearn: 0.0408984\ttotal: 287ms\tremaining: 351ms\n",
      "450:\tlearn: 0.0407704\ttotal: 288ms\tremaining: 350ms\n",
      "451:\tlearn: 0.0405033\ttotal: 288ms\tremaining: 349ms\n",
      "452:\tlearn: 0.0403293\ttotal: 289ms\tremaining: 349ms\n",
      "453:\tlearn: 0.0401855\ttotal: 289ms\tremaining: 348ms\n",
      "454:\tlearn: 0.0400632\ttotal: 290ms\tremaining: 347ms\n",
      "455:\tlearn: 0.0398893\ttotal: 290ms\tremaining: 346ms\n",
      "456:\tlearn: 0.0395374\ttotal: 291ms\tremaining: 346ms\n",
      "457:\tlearn: 0.0393997\ttotal: 291ms\tremaining: 345ms\n",
      "458:\tlearn: 0.0391459\ttotal: 292ms\tremaining: 344ms\n",
      "459:\tlearn: 0.0390298\ttotal: 292ms\tremaining: 343ms\n",
      "460:\tlearn: 0.0386901\ttotal: 293ms\tremaining: 342ms\n",
      "461:\tlearn: 0.0385698\ttotal: 293ms\tremaining: 342ms\n",
      "462:\tlearn: 0.0384389\ttotal: 294ms\tremaining: 341ms\n",
      "463:\tlearn: 0.0383275\ttotal: 294ms\tremaining: 340ms\n",
      "464:\tlearn: 0.0379966\ttotal: 294ms\tremaining: 339ms\n",
      "465:\tlearn: 0.0377894\ttotal: 295ms\tremaining: 338ms\n",
      "466:\tlearn: 0.0376370\ttotal: 295ms\tremaining: 337ms\n",
      "467:\tlearn: 0.0374347\ttotal: 296ms\tremaining: 336ms\n",
      "468:\tlearn: 0.0372865\ttotal: 296ms\tremaining: 336ms\n",
      "469:\tlearn: 0.0371577\ttotal: 297ms\tremaining: 335ms\n",
      "470:\tlearn: 0.0370133\ttotal: 297ms\tremaining: 334ms\n",
      "471:\tlearn: 0.0367809\ttotal: 298ms\tremaining: 333ms\n",
      "472:\tlearn: 0.0365523\ttotal: 298ms\tremaining: 332ms\n",
      "473:\tlearn: 0.0363276\ttotal: 299ms\tremaining: 331ms\n",
      "474:\tlearn: 0.0361066\ttotal: 299ms\tremaining: 331ms\n",
      "475:\tlearn: 0.0358893\ttotal: 299ms\tremaining: 330ms\n",
      "476:\tlearn: 0.0356756\ttotal: 300ms\tremaining: 329ms\n",
      "477:\tlearn: 0.0354739\ttotal: 300ms\tremaining: 328ms\n",
      "478:\tlearn: 0.0352654\ttotal: 301ms\tremaining: 327ms\n",
      "479:\tlearn: 0.0350688\ttotal: 301ms\tremaining: 326ms\n",
      "480:\tlearn: 0.0348627\ttotal: 302ms\tremaining: 326ms\n",
      "481:\tlearn: 0.0346605\ttotal: 302ms\tremaining: 325ms\n",
      "482:\tlearn: 0.0344684\ttotal: 303ms\tremaining: 324ms\n",
      "483:\tlearn: 0.0342727\ttotal: 303ms\tremaining: 323ms\n",
      "484:\tlearn: 0.0341173\ttotal: 304ms\tremaining: 322ms\n",
      "485:\tlearn: 0.0339313\ttotal: 304ms\tremaining: 322ms\n",
      "486:\tlearn: 0.0337980\ttotal: 305ms\tremaining: 321ms\n",
      "487:\tlearn: 0.0336463\ttotal: 305ms\tremaining: 320ms\n",
      "488:\tlearn: 0.0334982\ttotal: 306ms\tremaining: 319ms\n",
      "489:\tlearn: 0.0333067\ttotal: 306ms\tremaining: 319ms\n",
      "490:\tlearn: 0.0331789\ttotal: 307ms\tremaining: 318ms\n",
      "491:\tlearn: 0.0330434\ttotal: 308ms\tremaining: 318ms\n",
      "492:\tlearn: 0.0329019\ttotal: 308ms\tremaining: 317ms\n",
      "493:\tlearn: 0.0327991\ttotal: 309ms\tremaining: 316ms\n",
      "494:\tlearn: 0.0327187\ttotal: 309ms\tremaining: 315ms\n",
      "495:\tlearn: 0.0326269\ttotal: 309ms\tremaining: 314ms\n",
      "496:\tlearn: 0.0324283\ttotal: 310ms\tremaining: 314ms\n",
      "497:\tlearn: 0.0322733\ttotal: 310ms\tremaining: 313ms\n",
      "498:\tlearn: 0.0321311\ttotal: 311ms\tremaining: 312ms\n",
      "499:\tlearn: 0.0320108\ttotal: 311ms\tremaining: 311ms\n",
      "500:\tlearn: 0.0319229\ttotal: 312ms\tremaining: 310ms\n",
      "501:\tlearn: 0.0317124\ttotal: 312ms\tremaining: 310ms\n",
      "502:\tlearn: 0.0315965\ttotal: 313ms\tremaining: 309ms\n",
      "503:\tlearn: 0.0314301\ttotal: 313ms\tremaining: 308ms\n",
      "504:\tlearn: 0.0312959\ttotal: 313ms\tremaining: 307ms\n",
      "505:\tlearn: 0.0311984\ttotal: 314ms\tremaining: 306ms\n",
      "506:\tlearn: 0.0310679\ttotal: 314ms\tremaining: 305ms\n",
      "507:\tlearn: 0.0308865\ttotal: 315ms\tremaining: 305ms\n",
      "508:\tlearn: 0.0307333\ttotal: 315ms\tremaining: 304ms\n",
      "509:\tlearn: 0.0306516\ttotal: 316ms\tremaining: 303ms\n",
      "510:\tlearn: 0.0304621\ttotal: 316ms\tremaining: 303ms\n",
      "511:\tlearn: 0.0303384\ttotal: 316ms\tremaining: 302ms\n",
      "512:\tlearn: 0.0301887\ttotal: 317ms\tremaining: 301ms\n",
      "513:\tlearn: 0.0301099\ttotal: 317ms\tremaining: 300ms\n",
      "514:\tlearn: 0.0299269\ttotal: 318ms\tremaining: 299ms\n",
      "515:\tlearn: 0.0298220\ttotal: 318ms\tremaining: 298ms\n",
      "516:\tlearn: 0.0297302\ttotal: 319ms\tremaining: 298ms\n",
      "517:\tlearn: 0.0295350\ttotal: 319ms\tremaining: 297ms\n",
      "518:\tlearn: 0.0293616\ttotal: 320ms\tremaining: 297ms\n",
      "519:\tlearn: 0.0292831\ttotal: 321ms\tremaining: 296ms\n",
      "520:\tlearn: 0.0291799\ttotal: 321ms\tremaining: 295ms\n",
      "521:\tlearn: 0.0290389\ttotal: 322ms\tremaining: 295ms\n",
      "522:\tlearn: 0.0289004\ttotal: 322ms\tremaining: 294ms\n",
      "523:\tlearn: 0.0288010\ttotal: 323ms\tremaining: 293ms\n",
      "524:\tlearn: 0.0286361\ttotal: 323ms\tremaining: 293ms\n",
      "525:\tlearn: 0.0284971\ttotal: 324ms\tremaining: 292ms\n",
      "526:\tlearn: 0.0283612\ttotal: 324ms\tremaining: 291ms\n",
      "527:\tlearn: 0.0282853\ttotal: 325ms\tremaining: 290ms\n",
      "528:\tlearn: 0.0282106\ttotal: 325ms\tremaining: 290ms\n",
      "529:\tlearn: 0.0281013\ttotal: 326ms\tremaining: 289ms\n",
      "530:\tlearn: 0.0279446\ttotal: 326ms\tremaining: 288ms\n",
      "531:\tlearn: 0.0278388\ttotal: 327ms\tremaining: 288ms\n",
      "532:\tlearn: 0.0277328\ttotal: 327ms\tremaining: 287ms\n",
      "533:\tlearn: 0.0275532\ttotal: 328ms\tremaining: 286ms\n",
      "534:\tlearn: 0.0274258\ttotal: 329ms\tremaining: 286ms\n",
      "535:\tlearn: 0.0273231\ttotal: 329ms\tremaining: 285ms\n",
      "536:\tlearn: 0.0272223\ttotal: 329ms\tremaining: 284ms\n",
      "537:\tlearn: 0.0271205\ttotal: 330ms\tremaining: 283ms\n",
      "538:\tlearn: 0.0269465\ttotal: 330ms\tremaining: 283ms\n",
      "539:\tlearn: 0.0267755\ttotal: 331ms\tremaining: 282ms\n",
      "540:\tlearn: 0.0266075\ttotal: 331ms\tremaining: 281ms\n",
      "541:\tlearn: 0.0264607\ttotal: 332ms\tremaining: 280ms\n",
      "542:\tlearn: 0.0263637\ttotal: 332ms\tremaining: 279ms\n",
      "543:\tlearn: 0.0262089\ttotal: 333ms\tremaining: 279ms\n",
      "544:\tlearn: 0.0261349\ttotal: 333ms\tremaining: 278ms\n",
      "545:\tlearn: 0.0260408\ttotal: 334ms\tremaining: 278ms\n",
      "546:\tlearn: 0.0259486\ttotal: 334ms\tremaining: 277ms\n",
      "547:\tlearn: 0.0258587\ttotal: 335ms\tremaining: 276ms\n",
      "548:\tlearn: 0.0257685\ttotal: 336ms\tremaining: 276ms\n",
      "549:\tlearn: 0.0256808\ttotal: 336ms\tremaining: 275ms\n",
      "550:\tlearn: 0.0255425\ttotal: 337ms\tremaining: 275ms\n",
      "551:\tlearn: 0.0254250\ttotal: 338ms\tremaining: 274ms\n",
      "552:\tlearn: 0.0253324\ttotal: 338ms\tremaining: 273ms\n",
      "553:\tlearn: 0.0251991\ttotal: 339ms\tremaining: 273ms\n",
      "554:\tlearn: 0.0250892\ttotal: 339ms\tremaining: 272ms\n",
      "555:\tlearn: 0.0250023\ttotal: 339ms\tremaining: 271ms\n",
      "556:\tlearn: 0.0249134\ttotal: 340ms\tremaining: 270ms\n",
      "557:\tlearn: 0.0248284\ttotal: 340ms\tremaining: 270ms\n",
      "558:\tlearn: 0.0247620\ttotal: 341ms\tremaining: 269ms\n",
      "559:\tlearn: 0.0246073\ttotal: 341ms\tremaining: 268ms\n",
      "560:\tlearn: 0.0244804\ttotal: 342ms\tremaining: 267ms\n",
      "561:\tlearn: 0.0243980\ttotal: 342ms\tremaining: 267ms\n",
      "562:\tlearn: 0.0243339\ttotal: 342ms\tremaining: 266ms\n",
      "563:\tlearn: 0.0241758\ttotal: 343ms\tremaining: 265ms\n",
      "564:\tlearn: 0.0240524\ttotal: 343ms\tremaining: 264ms\n",
      "565:\tlearn: 0.0239315\ttotal: 344ms\tremaining: 264ms\n",
      "566:\tlearn: 0.0238631\ttotal: 345ms\tremaining: 263ms\n",
      "567:\tlearn: 0.0237080\ttotal: 345ms\tremaining: 263ms\n",
      "568:\tlearn: 0.0236083\ttotal: 346ms\tremaining: 262ms\n",
      "569:\tlearn: 0.0235302\ttotal: 346ms\tremaining: 261ms\n",
      "570:\tlearn: 0.0234505\ttotal: 347ms\tremaining: 260ms\n",
      "571:\tlearn: 0.0233741\ttotal: 347ms\tremaining: 260ms\n",
      "572:\tlearn: 0.0232992\ttotal: 348ms\tremaining: 259ms\n",
      "573:\tlearn: 0.0232239\ttotal: 348ms\tremaining: 258ms\n",
      "574:\tlearn: 0.0230944\ttotal: 349ms\tremaining: 258ms\n",
      "575:\tlearn: 0.0230184\ttotal: 349ms\tremaining: 257ms\n",
      "576:\tlearn: 0.0229458\ttotal: 350ms\tremaining: 256ms\n",
      "577:\tlearn: 0.0228238\ttotal: 350ms\tremaining: 256ms\n",
      "578:\tlearn: 0.0227151\ttotal: 351ms\tremaining: 255ms\n",
      "579:\tlearn: 0.0226388\ttotal: 351ms\tremaining: 254ms\n",
      "580:\tlearn: 0.0225683\ttotal: 352ms\tremaining: 254ms\n",
      "581:\tlearn: 0.0224624\ttotal: 352ms\tremaining: 253ms\n",
      "582:\tlearn: 0.0223346\ttotal: 353ms\tremaining: 252ms\n",
      "583:\tlearn: 0.0221927\ttotal: 353ms\tremaining: 252ms\n",
      "584:\tlearn: 0.0221050\ttotal: 353ms\tremaining: 251ms\n",
      "585:\tlearn: 0.0220034\ttotal: 354ms\tremaining: 250ms\n",
      "586:\tlearn: 0.0219177\ttotal: 354ms\tremaining: 249ms\n",
      "587:\tlearn: 0.0218687\ttotal: 355ms\tremaining: 249ms\n",
      "588:\tlearn: 0.0218015\ttotal: 355ms\tremaining: 248ms\n",
      "589:\tlearn: 0.0216794\ttotal: 356ms\tremaining: 247ms\n",
      "590:\tlearn: 0.0215963\ttotal: 356ms\tremaining: 247ms\n",
      "591:\tlearn: 0.0214786\ttotal: 357ms\tremaining: 246ms\n",
      "592:\tlearn: 0.0213974\ttotal: 357ms\tremaining: 245ms\n",
      "593:\tlearn: 0.0213509\ttotal: 358ms\tremaining: 245ms\n",
      "594:\tlearn: 0.0212864\ttotal: 358ms\tremaining: 244ms\n",
      "595:\tlearn: 0.0211780\ttotal: 359ms\tremaining: 243ms\n",
      "596:\tlearn: 0.0210460\ttotal: 359ms\tremaining: 242ms\n",
      "597:\tlearn: 0.0209588\ttotal: 360ms\tremaining: 242ms\n",
      "598:\tlearn: 0.0208257\ttotal: 360ms\tremaining: 241ms\n"
     ]
    },
    {
     "name": "stdout",
     "output_type": "stream",
     "text": [
      "599:\tlearn: 0.0207490\ttotal: 361ms\tremaining: 241ms\n",
      "600:\tlearn: 0.0207051\ttotal: 362ms\tremaining: 240ms\n",
      "601:\tlearn: 0.0206431\ttotal: 362ms\tremaining: 240ms\n",
      "602:\tlearn: 0.0205143\ttotal: 363ms\tremaining: 239ms\n",
      "603:\tlearn: 0.0204197\ttotal: 366ms\tremaining: 240ms\n",
      "604:\tlearn: 0.0203236\ttotal: 368ms\tremaining: 240ms\n",
      "605:\tlearn: 0.0202636\ttotal: 368ms\tremaining: 240ms\n",
      "606:\tlearn: 0.0201998\ttotal: 369ms\tremaining: 239ms\n",
      "607:\tlearn: 0.0201268\ttotal: 369ms\tremaining: 238ms\n",
      "608:\tlearn: 0.0200042\ttotal: 370ms\tremaining: 238ms\n",
      "609:\tlearn: 0.0199426\ttotal: 370ms\tremaining: 237ms\n",
      "610:\tlearn: 0.0197900\ttotal: 371ms\tremaining: 236ms\n",
      "611:\tlearn: 0.0196999\ttotal: 371ms\tremaining: 235ms\n",
      "612:\tlearn: 0.0196596\ttotal: 372ms\tremaining: 235ms\n",
      "613:\tlearn: 0.0196001\ttotal: 372ms\tremaining: 234ms\n",
      "614:\tlearn: 0.0194828\ttotal: 373ms\tremaining: 233ms\n",
      "615:\tlearn: 0.0193951\ttotal: 373ms\tremaining: 233ms\n",
      "616:\tlearn: 0.0193286\ttotal: 374ms\tremaining: 232ms\n",
      "617:\tlearn: 0.0192261\ttotal: 374ms\tremaining: 231ms\n",
      "618:\tlearn: 0.0191667\ttotal: 375ms\tremaining: 231ms\n",
      "619:\tlearn: 0.0190445\ttotal: 375ms\tremaining: 230ms\n",
      "620:\tlearn: 0.0189865\ttotal: 375ms\tremaining: 229ms\n",
      "621:\tlearn: 0.0188672\ttotal: 376ms\tremaining: 228ms\n",
      "622:\tlearn: 0.0187508\ttotal: 376ms\tremaining: 228ms\n",
      "623:\tlearn: 0.0187138\ttotal: 377ms\tremaining: 227ms\n",
      "624:\tlearn: 0.0186318\ttotal: 377ms\tremaining: 226ms\n",
      "625:\tlearn: 0.0185187\ttotal: 378ms\tremaining: 226ms\n",
      "626:\tlearn: 0.0184389\ttotal: 378ms\tremaining: 225ms\n",
      "627:\tlearn: 0.0183351\ttotal: 379ms\tremaining: 224ms\n",
      "628:\tlearn: 0.0182334\ttotal: 379ms\tremaining: 224ms\n",
      "629:\tlearn: 0.0181713\ttotal: 380ms\tremaining: 223ms\n",
      "630:\tlearn: 0.0181362\ttotal: 380ms\tremaining: 222ms\n",
      "631:\tlearn: 0.0180372\ttotal: 381ms\tremaining: 222ms\n",
      "632:\tlearn: 0.0179601\ttotal: 381ms\tremaining: 221ms\n",
      "633:\tlearn: 0.0178633\ttotal: 382ms\tremaining: 221ms\n",
      "634:\tlearn: 0.0177685\ttotal: 382ms\tremaining: 220ms\n",
      "635:\tlearn: 0.0177171\ttotal: 383ms\tremaining: 219ms\n",
      "636:\tlearn: 0.0175991\ttotal: 383ms\tremaining: 219ms\n",
      "637:\tlearn: 0.0175319\ttotal: 384ms\tremaining: 218ms\n",
      "638:\tlearn: 0.0174170\ttotal: 384ms\tremaining: 217ms\n",
      "639:\tlearn: 0.0173512\ttotal: 385ms\tremaining: 217ms\n",
      "640:\tlearn: 0.0173180\ttotal: 386ms\tremaining: 216ms\n",
      "641:\tlearn: 0.0172536\ttotal: 386ms\tremaining: 215ms\n",
      "642:\tlearn: 0.0171484\ttotal: 387ms\tremaining: 215ms\n",
      "643:\tlearn: 0.0171115\ttotal: 387ms\tremaining: 214ms\n",
      "644:\tlearn: 0.0170485\ttotal: 388ms\tremaining: 214ms\n",
      "645:\tlearn: 0.0170132\ttotal: 389ms\tremaining: 213ms\n",
      "646:\tlearn: 0.0169442\ttotal: 389ms\tremaining: 212ms\n",
      "647:\tlearn: 0.0168561\ttotal: 390ms\tremaining: 212ms\n",
      "648:\tlearn: 0.0167699\ttotal: 390ms\tremaining: 211ms\n",
      "649:\tlearn: 0.0166856\ttotal: 391ms\tremaining: 210ms\n",
      "650:\tlearn: 0.0166404\ttotal: 391ms\tremaining: 210ms\n",
      "651:\tlearn: 0.0165741\ttotal: 392ms\tremaining: 209ms\n",
      "652:\tlearn: 0.0165148\ttotal: 392ms\tremaining: 208ms\n",
      "653:\tlearn: 0.0164340\ttotal: 393ms\tremaining: 208ms\n",
      "654:\tlearn: 0.0163700\ttotal: 393ms\tremaining: 207ms\n",
      "655:\tlearn: 0.0163051\ttotal: 393ms\tremaining: 206ms\n",
      "656:\tlearn: 0.0162422\ttotal: 394ms\tremaining: 206ms\n",
      "657:\tlearn: 0.0161804\ttotal: 394ms\tremaining: 205ms\n",
      "658:\tlearn: 0.0160918\ttotal: 395ms\tremaining: 204ms\n",
      "659:\tlearn: 0.0160583\ttotal: 399ms\tremaining: 205ms\n",
      "660:\tlearn: 0.0160256\ttotal: 399ms\tremaining: 205ms\n",
      "661:\tlearn: 0.0159655\ttotal: 400ms\tremaining: 204ms\n",
      "662:\tlearn: 0.0159023\ttotal: 400ms\tremaining: 203ms\n",
      "663:\tlearn: 0.0158413\ttotal: 401ms\tremaining: 203ms\n",
      "664:\tlearn: 0.0157823\ttotal: 401ms\tremaining: 202ms\n",
      "665:\tlearn: 0.0157242\ttotal: 402ms\tremaining: 202ms\n",
      "666:\tlearn: 0.0156653\ttotal: 402ms\tremaining: 201ms\n",
      "667:\tlearn: 0.0155921\ttotal: 403ms\tremaining: 200ms\n",
      "668:\tlearn: 0.0155395\ttotal: 403ms\tremaining: 199ms\n",
      "669:\tlearn: 0.0154589\ttotal: 404ms\tremaining: 199ms\n",
      "670:\tlearn: 0.0154276\ttotal: 404ms\tremaining: 198ms\n",
      "671:\tlearn: 0.0153392\ttotal: 404ms\tremaining: 197ms\n",
      "672:\tlearn: 0.0152604\ttotal: 405ms\tremaining: 197ms\n",
      "673:\tlearn: 0.0152101\ttotal: 405ms\tremaining: 196ms\n",
      "674:\tlearn: 0.0151280\ttotal: 406ms\tremaining: 195ms\n",
      "675:\tlearn: 0.0150799\ttotal: 406ms\tremaining: 195ms\n",
      "676:\tlearn: 0.0150112\ttotal: 407ms\tremaining: 194ms\n",
      "677:\tlearn: 0.0149622\ttotal: 407ms\tremaining: 193ms\n",
      "678:\tlearn: 0.0148728\ttotal: 407ms\tremaining: 193ms\n",
      "679:\tlearn: 0.0147891\ttotal: 408ms\tremaining: 192ms\n",
      "680:\tlearn: 0.0147085\ttotal: 409ms\tremaining: 191ms\n",
      "681:\tlearn: 0.0146255\ttotal: 409ms\tremaining: 191ms\n",
      "682:\tlearn: 0.0145398\ttotal: 410ms\tremaining: 190ms\n",
      "683:\tlearn: 0.0144595\ttotal: 411ms\tremaining: 190ms\n",
      "684:\tlearn: 0.0143808\ttotal: 412ms\tremaining: 189ms\n",
      "685:\tlearn: 0.0142989\ttotal: 412ms\tremaining: 189ms\n",
      "686:\tlearn: 0.0142228\ttotal: 413ms\tremaining: 188ms\n",
      "687:\tlearn: 0.0141482\ttotal: 413ms\tremaining: 187ms\n",
      "688:\tlearn: 0.0140697\ttotal: 414ms\tremaining: 187ms\n",
      "689:\tlearn: 0.0139975\ttotal: 415ms\tremaining: 186ms\n",
      "690:\tlearn: 0.0139268\ttotal: 415ms\tremaining: 186ms\n",
      "691:\tlearn: 0.0138574\ttotal: 415ms\tremaining: 185ms\n",
      "692:\tlearn: 0.0138164\ttotal: 416ms\tremaining: 184ms\n",
      "693:\tlearn: 0.0137762\ttotal: 416ms\tremaining: 184ms\n",
      "694:\tlearn: 0.0137370\ttotal: 417ms\tremaining: 183ms\n",
      "695:\tlearn: 0.0136987\ttotal: 417ms\tremaining: 182ms\n",
      "696:\tlearn: 0.0136241\ttotal: 418ms\tremaining: 182ms\n",
      "697:\tlearn: 0.0135616\ttotal: 418ms\tremaining: 181ms\n",
      "698:\tlearn: 0.0135240\ttotal: 419ms\tremaining: 180ms\n",
      "699:\tlearn: 0.0134871\ttotal: 419ms\tremaining: 180ms\n",
      "700:\tlearn: 0.0134499\ttotal: 419ms\tremaining: 179ms\n",
      "701:\tlearn: 0.0134138\ttotal: 420ms\tremaining: 178ms\n",
      "702:\tlearn: 0.0133365\ttotal: 420ms\tremaining: 178ms\n",
      "703:\tlearn: 0.0133005\ttotal: 421ms\tremaining: 177ms\n",
      "704:\tlearn: 0.0132296\ttotal: 421ms\tremaining: 176ms\n",
      "705:\tlearn: 0.0131973\ttotal: 422ms\tremaining: 176ms\n",
      "706:\tlearn: 0.0131656\ttotal: 422ms\tremaining: 175ms\n",
      "707:\tlearn: 0.0131321\ttotal: 422ms\tremaining: 174ms\n",
      "708:\tlearn: 0.0131007\ttotal: 423ms\tremaining: 174ms\n",
      "709:\tlearn: 0.0130660\ttotal: 423ms\tremaining: 173ms\n",
      "710:\tlearn: 0.0130320\ttotal: 424ms\tremaining: 172ms\n",
      "711:\tlearn: 0.0129967\ttotal: 424ms\tremaining: 172ms\n",
      "712:\tlearn: 0.0129643\ttotal: 425ms\tremaining: 171ms\n",
      "713:\tlearn: 0.0129325\ttotal: 425ms\tremaining: 170ms\n",
      "714:\tlearn: 0.0129016\ttotal: 425ms\tremaining: 170ms\n",
      "715:\tlearn: 0.0128685\ttotal: 426ms\tremaining: 169ms\n",
      "716:\tlearn: 0.0128198\ttotal: 427ms\tremaining: 168ms\n",
      "717:\tlearn: 0.0127577\ttotal: 427ms\tremaining: 168ms\n",
      "718:\tlearn: 0.0127105\ttotal: 428ms\tremaining: 167ms\n",
      "719:\tlearn: 0.0126643\ttotal: 429ms\tremaining: 167ms\n",
      "720:\tlearn: 0.0125967\ttotal: 429ms\tremaining: 166ms\n",
      "721:\tlearn: 0.0125519\ttotal: 430ms\tremaining: 165ms\n",
      "722:\tlearn: 0.0125243\ttotal: 430ms\tremaining: 165ms\n",
      "723:\tlearn: 0.0124652\ttotal: 430ms\tremaining: 164ms\n",
      "724:\tlearn: 0.0124003\ttotal: 431ms\tremaining: 163ms\n",
      "725:\tlearn: 0.0123619\ttotal: 432ms\tremaining: 163ms\n",
      "726:\tlearn: 0.0123243\ttotal: 432ms\tremaining: 162ms\n",
      "727:\tlearn: 0.0122674\ttotal: 433ms\tremaining: 162ms\n",
      "728:\tlearn: 0.0122295\ttotal: 433ms\tremaining: 161ms\n",
      "729:\tlearn: 0.0121924\ttotal: 434ms\tremaining: 160ms\n",
      "730:\tlearn: 0.0121561\ttotal: 434ms\tremaining: 160ms\n",
      "731:\tlearn: 0.0121207\ttotal: 435ms\tremaining: 159ms\n",
      "732:\tlearn: 0.0120861\ttotal: 435ms\tremaining: 159ms\n",
      "733:\tlearn: 0.0120218\ttotal: 436ms\tremaining: 158ms\n",
      "734:\tlearn: 0.0119880\ttotal: 436ms\tremaining: 157ms\n",
      "735:\tlearn: 0.0119302\ttotal: 437ms\tremaining: 157ms\n",
      "736:\tlearn: 0.0118681\ttotal: 437ms\tremaining: 156ms\n",
      "737:\tlearn: 0.0118041\ttotal: 438ms\tremaining: 155ms\n",
      "738:\tlearn: 0.0117570\ttotal: 438ms\tremaining: 155ms\n",
      "739:\tlearn: 0.0117018\ttotal: 439ms\tremaining: 154ms\n",
      "740:\tlearn: 0.0116569\ttotal: 440ms\tremaining: 154ms\n",
      "741:\tlearn: 0.0116115\ttotal: 440ms\tremaining: 153ms\n",
      "742:\tlearn: 0.0115676\ttotal: 441ms\tremaining: 152ms\n",
      "743:\tlearn: 0.0115234\ttotal: 441ms\tremaining: 152ms\n",
      "744:\tlearn: 0.0114802\ttotal: 442ms\tremaining: 151ms\n",
      "745:\tlearn: 0.0114225\ttotal: 443ms\tremaining: 151ms\n",
      "746:\tlearn: 0.0113660\ttotal: 443ms\tremaining: 150ms\n",
      "747:\tlearn: 0.0113238\ttotal: 444ms\tremaining: 149ms\n",
      "748:\tlearn: 0.0112826\ttotal: 444ms\tremaining: 149ms\n",
      "749:\tlearn: 0.0112423\ttotal: 445ms\tremaining: 148ms\n",
      "750:\tlearn: 0.0111921\ttotal: 445ms\tremaining: 148ms\n",
      "751:\tlearn: 0.0111513\ttotal: 446ms\tremaining: 147ms\n",
      "752:\tlearn: 0.0110990\ttotal: 446ms\tremaining: 146ms\n",
      "753:\tlearn: 0.0110604\ttotal: 447ms\tremaining: 146ms\n",
      "754:\tlearn: 0.0110074\ttotal: 447ms\tremaining: 145ms\n",
      "755:\tlearn: 0.0109554\ttotal: 447ms\tremaining: 144ms\n",
      "756:\tlearn: 0.0109081\ttotal: 448ms\tremaining: 144ms\n",
      "757:\tlearn: 0.0108606\ttotal: 448ms\tremaining: 143ms\n",
      "758:\tlearn: 0.0108048\ttotal: 449ms\tremaining: 142ms\n",
      "759:\tlearn: 0.0107683\ttotal: 449ms\tremaining: 142ms\n",
      "760:\tlearn: 0.0107346\ttotal: 450ms\tremaining: 141ms\n",
      "761:\tlearn: 0.0107003\ttotal: 450ms\tremaining: 141ms\n",
      "762:\tlearn: 0.0106549\ttotal: 450ms\tremaining: 140ms\n",
      "763:\tlearn: 0.0106080\ttotal: 451ms\tremaining: 139ms\n",
      "764:\tlearn: 0.0105639\ttotal: 452ms\tremaining: 139ms\n",
      "765:\tlearn: 0.0105194\ttotal: 452ms\tremaining: 138ms\n",
      "766:\tlearn: 0.0104759\ttotal: 453ms\tremaining: 137ms\n",
      "767:\tlearn: 0.0104348\ttotal: 453ms\tremaining: 137ms\n",
      "768:\tlearn: 0.0104087\ttotal: 453ms\tremaining: 136ms\n",
      "769:\tlearn: 0.0103831\ttotal: 454ms\tremaining: 136ms\n",
      "770:\tlearn: 0.0103581\ttotal: 454ms\tremaining: 135ms\n",
      "771:\tlearn: 0.0103267\ttotal: 455ms\tremaining: 134ms\n",
      "772:\tlearn: 0.0103023\ttotal: 455ms\tremaining: 134ms\n",
      "773:\tlearn: 0.0102704\ttotal: 458ms\tremaining: 134ms\n",
      "774:\tlearn: 0.0102302\ttotal: 459ms\tremaining: 133ms\n",
      "775:\tlearn: 0.0101997\ttotal: 459ms\tremaining: 133ms\n",
      "776:\tlearn: 0.0101607\ttotal: 460ms\tremaining: 132ms\n",
      "777:\tlearn: 0.0101159\ttotal: 460ms\tremaining: 131ms\n",
      "778:\tlearn: 0.0100864\ttotal: 461ms\tremaining: 131ms\n"
     ]
    },
    {
     "name": "stdout",
     "output_type": "stream",
     "text": [
      "779:\tlearn: 0.0100511\ttotal: 462ms\tremaining: 130ms\n",
      "780:\tlearn: 0.0100276\ttotal: 462ms\tremaining: 130ms\n",
      "781:\tlearn: 0.0100047\ttotal: 463ms\tremaining: 129ms\n",
      "782:\tlearn: 0.0099822\ttotal: 463ms\tremaining: 128ms\n",
      "783:\tlearn: 0.0099530\ttotal: 463ms\tremaining: 128ms\n",
      "784:\tlearn: 0.0099246\ttotal: 464ms\tremaining: 127ms\n",
      "785:\tlearn: 0.0099034\ttotal: 464ms\tremaining: 126ms\n",
      "786:\tlearn: 0.0098948\ttotal: 465ms\tremaining: 126ms\n",
      "787:\tlearn: 0.0098533\ttotal: 465ms\tremaining: 125ms\n",
      "788:\tlearn: 0.0098450\ttotal: 465ms\tremaining: 124ms\n",
      "789:\tlearn: 0.0098069\ttotal: 466ms\tremaining: 124ms\n",
      "790:\tlearn: 0.0097667\ttotal: 466ms\tremaining: 123ms\n",
      "791:\tlearn: 0.0097389\ttotal: 467ms\tremaining: 123ms\n",
      "792:\tlearn: 0.0096926\ttotal: 467ms\tremaining: 122ms\n",
      "793:\tlearn: 0.0096724\ttotal: 467ms\tremaining: 121ms\n",
      "794:\tlearn: 0.0096271\ttotal: 468ms\tremaining: 121ms\n",
      "795:\tlearn: 0.0096000\ttotal: 469ms\tremaining: 120ms\n",
      "796:\tlearn: 0.0095540\ttotal: 469ms\tremaining: 119ms\n",
      "797:\tlearn: 0.0095098\ttotal: 469ms\tremaining: 119ms\n",
      "798:\tlearn: 0.0094649\ttotal: 470ms\tremaining: 118ms\n",
      "799:\tlearn: 0.0094166\ttotal: 470ms\tremaining: 118ms\n",
      "800:\tlearn: 0.0093907\ttotal: 471ms\tremaining: 117ms\n",
      "801:\tlearn: 0.0093483\ttotal: 471ms\tremaining: 116ms\n",
      "802:\tlearn: 0.0093262\ttotal: 472ms\tremaining: 116ms\n",
      "803:\tlearn: 0.0092827\ttotal: 472ms\tremaining: 115ms\n",
      "804:\tlearn: 0.0092413\ttotal: 473ms\tremaining: 115ms\n",
      "805:\tlearn: 0.0091988\ttotal: 473ms\tremaining: 114ms\n",
      "806:\tlearn: 0.0091600\ttotal: 474ms\tremaining: 113ms\n",
      "807:\tlearn: 0.0091218\ttotal: 474ms\tremaining: 113ms\n",
      "808:\tlearn: 0.0090990\ttotal: 475ms\tremaining: 112ms\n",
      "809:\tlearn: 0.0090575\ttotal: 475ms\tremaining: 112ms\n",
      "810:\tlearn: 0.0090235\ttotal: 476ms\tremaining: 111ms\n",
      "811:\tlearn: 0.0089863\ttotal: 476ms\tremaining: 110ms\n",
      "812:\tlearn: 0.0089459\ttotal: 477ms\tremaining: 110ms\n",
      "813:\tlearn: 0.0089096\ttotal: 477ms\tremaining: 109ms\n",
      "814:\tlearn: 0.0088738\ttotal: 478ms\tremaining: 108ms\n",
      "815:\tlearn: 0.0088518\ttotal: 478ms\tremaining: 108ms\n",
      "816:\tlearn: 0.0088124\ttotal: 479ms\tremaining: 107ms\n",
      "817:\tlearn: 0.0087798\ttotal: 479ms\tremaining: 107ms\n",
      "818:\tlearn: 0.0087493\ttotal: 480ms\tremaining: 106ms\n",
      "819:\tlearn: 0.0087145\ttotal: 480ms\tremaining: 105ms\n",
      "820:\tlearn: 0.0086804\ttotal: 481ms\tremaining: 105ms\n",
      "821:\tlearn: 0.0086505\ttotal: 481ms\tremaining: 104ms\n",
      "822:\tlearn: 0.0086170\ttotal: 482ms\tremaining: 104ms\n",
      "823:\tlearn: 0.0085959\ttotal: 482ms\tremaining: 103ms\n",
      "824:\tlearn: 0.0085665\ttotal: 483ms\tremaining: 102ms\n",
      "825:\tlearn: 0.0085337\ttotal: 483ms\tremaining: 102ms\n",
      "826:\tlearn: 0.0085015\ttotal: 483ms\tremaining: 101ms\n",
      "827:\tlearn: 0.0084839\ttotal: 484ms\tremaining: 100ms\n",
      "828:\tlearn: 0.0084552\ttotal: 484ms\tremaining: 99.9ms\n",
      "829:\tlearn: 0.0084236\ttotal: 485ms\tremaining: 99.2ms\n",
      "830:\tlearn: 0.0084129\ttotal: 487ms\tremaining: 99ms\n",
      "831:\tlearn: 0.0083818\ttotal: 487ms\tremaining: 98.4ms\n",
      "832:\tlearn: 0.0083647\ttotal: 488ms\tremaining: 97.8ms\n",
      "833:\tlearn: 0.0083479\ttotal: 488ms\tremaining: 97.2ms\n",
      "834:\tlearn: 0.0083081\ttotal: 489ms\tremaining: 96.6ms\n",
      "835:\tlearn: 0.0082802\ttotal: 489ms\tremaining: 96ms\n",
      "836:\tlearn: 0.0082383\ttotal: 490ms\tremaining: 95.4ms\n",
      "837:\tlearn: 0.0082190\ttotal: 491ms\tremaining: 94.8ms\n",
      "838:\tlearn: 0.0081916\ttotal: 491ms\tremaining: 94.2ms\n",
      "839:\tlearn: 0.0081510\ttotal: 491ms\tremaining: 93.6ms\n",
      "840:\tlearn: 0.0081353\ttotal: 492ms\tremaining: 93ms\n",
      "841:\tlearn: 0.0081169\ttotal: 492ms\tremaining: 92.4ms\n",
      "842:\tlearn: 0.0080901\ttotal: 493ms\tremaining: 91.7ms\n",
      "843:\tlearn: 0.0080434\ttotal: 493ms\tremaining: 91.1ms\n",
      "844:\tlearn: 0.0080284\ttotal: 493ms\tremaining: 90.5ms\n",
      "845:\tlearn: 0.0079825\ttotal: 494ms\tremaining: 89.9ms\n",
      "846:\tlearn: 0.0079677\ttotal: 494ms\tremaining: 89.3ms\n",
      "847:\tlearn: 0.0079225\ttotal: 495ms\tremaining: 88.7ms\n",
      "848:\tlearn: 0.0079080\ttotal: 495ms\tremaining: 88.1ms\n",
      "849:\tlearn: 0.0078909\ttotal: 496ms\tremaining: 87.5ms\n",
      "850:\tlearn: 0.0078528\ttotal: 496ms\tremaining: 86.9ms\n",
      "851:\tlearn: 0.0078271\ttotal: 497ms\tremaining: 86.3ms\n",
      "852:\tlearn: 0.0078102\ttotal: 497ms\tremaining: 85.7ms\n",
      "853:\tlearn: 0.0077847\ttotal: 498ms\tremaining: 85.1ms\n",
      "854:\tlearn: 0.0077561\ttotal: 498ms\tremaining: 84.5ms\n",
      "855:\tlearn: 0.0077310\ttotal: 499ms\tremaining: 83.9ms\n",
      "856:\tlearn: 0.0077236\ttotal: 499ms\tremaining: 83.3ms\n",
      "857:\tlearn: 0.0076802\ttotal: 500ms\tremaining: 82.7ms\n",
      "858:\tlearn: 0.0076375\ttotal: 500ms\tremaining: 82.1ms\n",
      "859:\tlearn: 0.0076132\ttotal: 500ms\tremaining: 81.5ms\n",
      "860:\tlearn: 0.0076060\ttotal: 501ms\tremaining: 80.8ms\n",
      "861:\tlearn: 0.0075989\ttotal: 501ms\tremaining: 80.3ms\n",
      "862:\tlearn: 0.0075918\ttotal: 502ms\tremaining: 79.7ms\n",
      "863:\tlearn: 0.0075676\ttotal: 503ms\tremaining: 79.1ms\n",
      "864:\tlearn: 0.0075256\ttotal: 503ms\tremaining: 78.5ms\n",
      "865:\tlearn: 0.0075096\ttotal: 504ms\tremaining: 78ms\n",
      "866:\tlearn: 0.0074682\ttotal: 504ms\tremaining: 77.4ms\n",
      "867:\tlearn: 0.0074448\ttotal: 505ms\tremaining: 76.8ms\n",
      "868:\tlearn: 0.0074220\ttotal: 506ms\tremaining: 76.2ms\n",
      "869:\tlearn: 0.0073999\ttotal: 506ms\tremaining: 75.6ms\n",
      "870:\tlearn: 0.0073648\ttotal: 506ms\tremaining: 75ms\n",
      "871:\tlearn: 0.0073434\ttotal: 507ms\tremaining: 74.4ms\n",
      "872:\tlearn: 0.0073225\ttotal: 507ms\tremaining: 73.8ms\n",
      "873:\tlearn: 0.0073144\ttotal: 508ms\tremaining: 73.2ms\n",
      "874:\tlearn: 0.0073065\ttotal: 508ms\tremaining: 72.6ms\n",
      "875:\tlearn: 0.0072845\ttotal: 509ms\tremaining: 72ms\n",
      "876:\tlearn: 0.0072642\ttotal: 509ms\tremaining: 71.4ms\n",
      "877:\tlearn: 0.0072438\ttotal: 509ms\tremaining: 70.8ms\n",
      "878:\tlearn: 0.0072360\ttotal: 510ms\tremaining: 70.2ms\n",
      "879:\tlearn: 0.0072284\ttotal: 510ms\tremaining: 69.6ms\n",
      "880:\tlearn: 0.0072069\ttotal: 511ms\tremaining: 69ms\n",
      "881:\tlearn: 0.0071858\ttotal: 511ms\tremaining: 68.4ms\n",
      "882:\tlearn: 0.0071661\ttotal: 512ms\tremaining: 67.8ms\n",
      "883:\tlearn: 0.0071478\ttotal: 512ms\tremaining: 67.2ms\n",
      "884:\tlearn: 0.0071318\ttotal: 513ms\tremaining: 66.6ms\n",
      "885:\tlearn: 0.0071078\ttotal: 513ms\tremaining: 66.1ms\n",
      "886:\tlearn: 0.0070884\ttotal: 514ms\tremaining: 65.5ms\n",
      "887:\tlearn: 0.0070730\ttotal: 514ms\tremaining: 64.9ms\n",
      "888:\tlearn: 0.0070494\ttotal: 515ms\tremaining: 64.3ms\n",
      "889:\tlearn: 0.0070306\ttotal: 515ms\tremaining: 63.7ms\n",
      "890:\tlearn: 0.0070120\ttotal: 516ms\tremaining: 63.1ms\n",
      "891:\tlearn: 0.0069950\ttotal: 516ms\tremaining: 62.5ms\n",
      "892:\tlearn: 0.0069803\ttotal: 517ms\tremaining: 61.9ms\n",
      "893:\tlearn: 0.0069543\ttotal: 517ms\tremaining: 61.3ms\n",
      "894:\tlearn: 0.0069324\ttotal: 518ms\tremaining: 60.7ms\n",
      "895:\tlearn: 0.0069058\ttotal: 518ms\tremaining: 60.2ms\n",
      "896:\tlearn: 0.0068677\ttotal: 519ms\tremaining: 59.6ms\n",
      "897:\tlearn: 0.0068499\ttotal: 519ms\tremaining: 59ms\n",
      "898:\tlearn: 0.0068324\ttotal: 520ms\tremaining: 58.4ms\n",
      "899:\tlearn: 0.0067920\ttotal: 521ms\tremaining: 57.8ms\n",
      "900:\tlearn: 0.0067527\ttotal: 521ms\tremaining: 57.3ms\n",
      "901:\tlearn: 0.0067142\ttotal: 522ms\tremaining: 56.7ms\n",
      "902:\tlearn: 0.0066921\ttotal: 522ms\tremaining: 56.1ms\n",
      "903:\tlearn: 0.0066704\ttotal: 523ms\tremaining: 55.5ms\n",
      "904:\tlearn: 0.0066328\ttotal: 523ms\tremaining: 54.9ms\n",
      "905:\tlearn: 0.0066114\ttotal: 524ms\tremaining: 54.3ms\n",
      "906:\tlearn: 0.0065903\ttotal: 524ms\tremaining: 53.7ms\n",
      "907:\tlearn: 0.0065536\ttotal: 524ms\tremaining: 53.1ms\n",
      "908:\tlearn: 0.0065329\ttotal: 525ms\tremaining: 52.5ms\n",
      "909:\tlearn: 0.0065125\ttotal: 525ms\tremaining: 52ms\n",
      "910:\tlearn: 0.0064766\ttotal: 526ms\tremaining: 51.4ms\n",
      "911:\tlearn: 0.0064566\ttotal: 526ms\tremaining: 50.8ms\n",
      "912:\tlearn: 0.0064215\ttotal: 527ms\tremaining: 50.2ms\n",
      "913:\tlearn: 0.0064069\ttotal: 527ms\tremaining: 49.6ms\n",
      "914:\tlearn: 0.0063925\ttotal: 527ms\tremaining: 49ms\n",
      "915:\tlearn: 0.0063783\ttotal: 528ms\tremaining: 48.4ms\n",
      "916:\tlearn: 0.0063526\ttotal: 529ms\tremaining: 47.8ms\n",
      "917:\tlearn: 0.0063386\ttotal: 529ms\tremaining: 47.3ms\n",
      "918:\tlearn: 0.0063112\ttotal: 529ms\tremaining: 46.7ms\n",
      "919:\tlearn: 0.0062929\ttotal: 530ms\tremaining: 46.1ms\n",
      "920:\tlearn: 0.0062590\ttotal: 530ms\tremaining: 45.5ms\n",
      "921:\tlearn: 0.0062256\ttotal: 531ms\tremaining: 44.9ms\n",
      "922:\tlearn: 0.0062009\ttotal: 531ms\tremaining: 44.3ms\n",
      "923:\tlearn: 0.0061737\ttotal: 532ms\tremaining: 43.7ms\n",
      "924:\tlearn: 0.0061416\ttotal: 532ms\tremaining: 43.2ms\n",
      "925:\tlearn: 0.0061152\ttotal: 533ms\tremaining: 42.6ms\n",
      "926:\tlearn: 0.0060894\ttotal: 534ms\tremaining: 42ms\n",
      "927:\tlearn: 0.0060636\ttotal: 534ms\tremaining: 41.4ms\n",
      "928:\tlearn: 0.0060401\ttotal: 535ms\tremaining: 40.9ms\n",
      "929:\tlearn: 0.0060234\ttotal: 535ms\tremaining: 40.3ms\n",
      "930:\tlearn: 0.0059932\ttotal: 535ms\tremaining: 39.7ms\n",
      "931:\tlearn: 0.0059705\ttotal: 536ms\tremaining: 39.1ms\n",
      "932:\tlearn: 0.0059435\ttotal: 536ms\tremaining: 38.5ms\n",
      "933:\tlearn: 0.0059195\ttotal: 537ms\tremaining: 37.9ms\n",
      "934:\tlearn: 0.0058919\ttotal: 537ms\tremaining: 37.3ms\n",
      "935:\tlearn: 0.0058695\ttotal: 538ms\tremaining: 36.8ms\n",
      "936:\tlearn: 0.0058580\ttotal: 538ms\tremaining: 36.2ms\n",
      "937:\tlearn: 0.0058340\ttotal: 539ms\tremaining: 35.6ms\n",
      "938:\tlearn: 0.0058123\ttotal: 539ms\tremaining: 35ms\n",
      "939:\tlearn: 0.0057970\ttotal: 540ms\tremaining: 34.4ms\n",
      "940:\tlearn: 0.0057858\ttotal: 540ms\tremaining: 33.9ms\n",
      "941:\tlearn: 0.0057749\ttotal: 540ms\tremaining: 33.3ms\n",
      "942:\tlearn: 0.0057514\ttotal: 541ms\tremaining: 32.7ms\n",
      "943:\tlearn: 0.0057306\ttotal: 541ms\tremaining: 32.1ms\n",
      "944:\tlearn: 0.0057206\ttotal: 542ms\tremaining: 31.5ms\n",
      "945:\tlearn: 0.0057060\ttotal: 542ms\tremaining: 30.9ms\n",
      "946:\tlearn: 0.0056956\ttotal: 543ms\tremaining: 30.4ms\n",
      "947:\tlearn: 0.0056755\ttotal: 543ms\tremaining: 29.8ms\n",
      "948:\tlearn: 0.0056658\ttotal: 544ms\tremaining: 29.2ms\n"
     ]
    },
    {
     "name": "stdout",
     "output_type": "stream",
     "text": [
      "949:\tlearn: 0.0056383\ttotal: 544ms\tremaining: 28.6ms\n",
      "950:\tlearn: 0.0056289\ttotal: 545ms\tremaining: 28.1ms\n",
      "951:\tlearn: 0.0056019\ttotal: 545ms\tremaining: 27.5ms\n",
      "952:\tlearn: 0.0055949\ttotal: 546ms\tremaining: 26.9ms\n",
      "953:\tlearn: 0.0055646\ttotal: 546ms\tremaining: 26.3ms\n",
      "954:\tlearn: 0.0055520\ttotal: 547ms\tremaining: 25.8ms\n",
      "955:\tlearn: 0.0055429\ttotal: 547ms\tremaining: 25.2ms\n",
      "956:\tlearn: 0.0055130\ttotal: 548ms\tremaining: 24.6ms\n",
      "957:\tlearn: 0.0055033\ttotal: 548ms\tremaining: 24ms\n",
      "958:\tlearn: 0.0054798\ttotal: 548ms\tremaining: 23.4ms\n",
      "959:\tlearn: 0.0054584\ttotal: 550ms\tremaining: 22.9ms\n",
      "960:\tlearn: 0.0054467\ttotal: 551ms\tremaining: 22.4ms\n",
      "961:\tlearn: 0.0054380\ttotal: 552ms\tremaining: 21.8ms\n",
      "962:\tlearn: 0.0054313\ttotal: 552ms\tremaining: 21.2ms\n",
      "963:\tlearn: 0.0054248\ttotal: 553ms\tremaining: 20.6ms\n",
      "964:\tlearn: 0.0054022\ttotal: 553ms\tremaining: 20.1ms\n",
      "965:\tlearn: 0.0053906\ttotal: 554ms\tremaining: 19.5ms\n",
      "966:\tlearn: 0.0053680\ttotal: 554ms\tremaining: 18.9ms\n",
      "967:\tlearn: 0.0053435\ttotal: 555ms\tremaining: 18.3ms\n",
      "968:\tlearn: 0.0053233\ttotal: 555ms\tremaining: 17.8ms\n",
      "969:\tlearn: 0.0053124\ttotal: 555ms\tremaining: 17.2ms\n",
      "970:\tlearn: 0.0052928\ttotal: 556ms\tremaining: 16.6ms\n",
      "971:\tlearn: 0.0052845\ttotal: 556ms\tremaining: 16ms\n",
      "972:\tlearn: 0.0052653\ttotal: 557ms\tremaining: 15.4ms\n",
      "973:\tlearn: 0.0052497\ttotal: 557ms\tremaining: 14.9ms\n",
      "974:\tlearn: 0.0052394\ttotal: 558ms\tremaining: 14.3ms\n",
      "975:\tlearn: 0.0052210\ttotal: 558ms\tremaining: 13.7ms\n",
      "976:\tlearn: 0.0052122\ttotal: 558ms\tremaining: 13.1ms\n",
      "977:\tlearn: 0.0051972\ttotal: 559ms\tremaining: 12.6ms\n",
      "978:\tlearn: 0.0051892\ttotal: 559ms\tremaining: 12ms\n",
      "979:\tlearn: 0.0051682\ttotal: 560ms\tremaining: 11.4ms\n",
      "980:\tlearn: 0.0051537\ttotal: 560ms\tremaining: 10.9ms\n",
      "981:\tlearn: 0.0051330\ttotal: 561ms\tremaining: 10.3ms\n",
      "982:\tlearn: 0.0051199\ttotal: 561ms\tremaining: 9.71ms\n",
      "983:\tlearn: 0.0051061\ttotal: 562ms\tremaining: 9.13ms\n",
      "984:\tlearn: 0.0050976\ttotal: 562ms\tremaining: 8.56ms\n",
      "985:\tlearn: 0.0050769\ttotal: 562ms\tremaining: 7.99ms\n",
      "986:\tlearn: 0.0050595\ttotal: 563ms\tremaining: 7.42ms\n",
      "987:\tlearn: 0.0050447\ttotal: 564ms\tremaining: 6.84ms\n",
      "988:\tlearn: 0.0050297\ttotal: 564ms\tremaining: 6.27ms\n",
      "989:\tlearn: 0.0050214\ttotal: 565ms\tremaining: 5.7ms\n",
      "990:\tlearn: 0.0050000\ttotal: 565ms\tremaining: 5.13ms\n",
      "991:\tlearn: 0.0049802\ttotal: 566ms\tremaining: 4.56ms\n",
      "992:\tlearn: 0.0049607\ttotal: 566ms\tremaining: 3.99ms\n",
      "993:\tlearn: 0.0049526\ttotal: 567ms\tremaining: 3.42ms\n",
      "994:\tlearn: 0.0049368\ttotal: 567ms\tremaining: 2.85ms\n",
      "995:\tlearn: 0.0049212\ttotal: 568ms\tremaining: 2.28ms\n",
      "996:\tlearn: 0.0049138\ttotal: 568ms\tremaining: 1.71ms\n",
      "997:\tlearn: 0.0048995\ttotal: 568ms\tremaining: 1.14ms\n",
      "998:\tlearn: 0.0048792\ttotal: 570ms\tremaining: 570us\n",
      "999:\tlearn: 0.0048639\ttotal: 570ms\tremaining: 0us\n"
     ]
    },
    {
     "data": {
      "text/plain": [
       "<catboost.core.CatBoostRegressor at 0x7fc7c92d8cd0>"
      ]
     },
     "execution_count": 9,
     "metadata": {},
     "output_type": "execute_result"
    }
   ],
   "source": [
    "#Train the Model \n",
    "prior_model = ctb.CatBoostRegressor()\n",
    "prior_model.fit(X_train,Y_train)"
   ]
  },
  {
   "cell_type": "code",
   "execution_count": 10,
   "id": "af65dcda",
   "metadata": {
    "execution": {
     "iopub.execute_input": "2022-06-07T07:08:39.035401Z",
     "iopub.status.busy": "2022-06-07T07:08:39.035005Z",
     "iopub.status.idle": "2022-06-07T07:08:39.050854Z",
     "shell.execute_reply": "2022-06-07T07:08:39.051165Z"
    },
    "id": "af65dcda",
    "papermill": {
     "duration": 0.029186,
     "end_time": "2022-06-07T07:08:39.051289",
     "exception": false,
     "start_time": "2022-06-07T07:08:39.022103",
     "status": "completed"
    },
    "tags": []
   },
   "outputs": [
    {
     "data": {
      "application/scrapbook.scrap.json+json": {
       "data": 0.12539697261084193,
       "encoder": "json",
       "name": "Prior Model MSE",
       "version": 1
      }
     },
     "metadata": {
      "scrapbook": {
       "data": true,
       "display": false,
       "name": "Prior Model MSE"
      }
     },
     "output_type": "display_data"
    },
    {
     "data": {
      "application/scrapbook.scrap.json+json": {
       "data": 0.7918292833889204,
       "encoder": "json",
       "name": "ABC Pre-generator MSE",
       "version": 1
      }
     },
     "metadata": {
      "scrapbook": {
       "data": true,
       "display": false,
       "name": "ABC Pre-generator MSE"
      }
     },
     "output_type": "display_data"
    },
    {
     "data": {
      "application/scrapbook.scrap.json+json": {
       "data": 0.29074531267195164,
       "encoder": "json",
       "name": "Prior Model MSE",
       "version": 1
      }
     },
     "metadata": {
      "scrapbook": {
       "data": true,
       "display": false,
       "name": "Prior Model MSE"
      }
     },
     "output_type": "display_data"
    },
    {
     "data": {
      "application/scrapbook.scrap.json+json": {
       "data": 0.607573212753706,
       "encoder": "json",
       "name": "ABC Pre-generator MSE",
       "version": 1
      }
     },
     "metadata": {
      "scrapbook": {
       "data": true,
       "display": false,
       "name": "ABC Pre-generator MSE"
      }
     },
     "output_type": "display_data"
    }
   ],
   "source": [
    "y_pred = prior_model.predict(X_test)\n",
    "y_abc = y_pred + np.random.normal(0,variance, y_pred.shape) + bias \n",
    "mse = mean_squared_error(y_pred,Y_test)\n",
    "sb.glue(\"Prior Model MSE\",mse)\n",
    "mse = mean_squared_error(y_abc,Y_test)\n",
    "sb.glue(\"ABC Pre-generator MSE\",mse)\n",
    "mae = mean_absolute_error(y_pred,Y_test)\n",
    "sb.glue(\"Prior Model MSE\",mae)\n",
    "mae = mean_absolute_error(y_abc,Y_test)\n",
    "sb.glue(\"ABC Pre-generator MSE\",mae)"
   ]
  },
  {
   "cell_type": "markdown",
   "id": "25609da2",
   "metadata": {
    "papermill": {
     "duration": 0.009747,
     "end_time": "2022-06-07T07:08:39.071299",
     "exception": false,
     "start_time": "2022-06-07T07:08:39.061552",
     "status": "completed"
    },
    "tags": []
   },
   "source": [
    "# ABC GAN Model"
   ]
  },
  {
   "cell_type": "code",
   "execution_count": 11,
   "id": "dfc3464d",
   "metadata": {
    "execution": {
     "iopub.execute_input": "2022-06-07T07:08:39.094848Z",
     "iopub.status.busy": "2022-06-07T07:08:39.094467Z",
     "iopub.status.idle": "2022-06-07T07:08:39.096920Z",
     "shell.execute_reply": "2022-06-07T07:08:39.097166Z"
    },
    "papermill": {
     "duration": 0.01603,
     "end_time": "2022-06-07T07:08:39.097280",
     "exception": false,
     "start_time": "2022-06-07T07:08:39.081250",
     "status": "completed"
    },
    "tags": []
   },
   "outputs": [],
   "source": [
    "gen = network.Generator(n_features+1).to(device)\n",
    "disc = network.Discriminator(n_features+1).to(device)\n",
    "\n",
    "criterion = torch.nn.BCELoss()\n",
    "gen_opt = torch.optim.Adam(gen.parameters(), lr=0.001, betas=(0.5, 0.999))\n",
    "disc_opt = torch.optim.Adam(disc.parameters(), lr=0.001, betas=(0.5, 0.999))"
   ]
  },
  {
   "cell_type": "code",
   "execution_count": 12,
   "id": "b75fdd85",
   "metadata": {
    "execution": {
     "iopub.execute_input": "2022-06-07T07:08:39.119826Z",
     "iopub.status.busy": "2022-06-07T07:08:39.119450Z",
     "iopub.status.idle": "2022-06-07T07:08:55.604777Z",
     "shell.execute_reply": "2022-06-07T07:08:55.605033Z"
    },
    "papermill": {
     "duration": 16.497977,
     "end_time": "2022-06-07T07:08:55.605154",
     "exception": false,
     "start_time": "2022-06-07T07:08:39.107177",
     "status": "completed"
    },
    "tags": []
   },
   "outputs": [
    {
     "data": {
      "image/png": "[encoded data removed]",
      "text/plain": [
       "<Figure size 432x288 with 1 Axes>"
      ]
     },
     "metadata": {
      "needs_background": "light"
     },
     "output_type": "display_data"
    },
    {
     "data": {
      "image/png": "[encoded data removed]",
      "text/plain": [
       "<Figure size 432x288 with 1 Axes>"
      ]
     },
     "metadata": {
      "needs_background": "light"
     },
     "output_type": "display_data"
    }
   ],
   "source": [
    "#Training the ABC_GAN \n",
    "ABC_train_test2.training_GAN(disc,gen,disc_opt,gen_opt,train_data,batch_size,n_epochs,criterion,prior_model,variance,bias,device)"
   ]
  },
  {
   "cell_type": "code",
   "execution_count": 13,
   "id": "1fa7c368",
   "metadata": {
    "execution": {
     "iopub.execute_input": "2022-06-07T07:08:55.631039Z",
     "iopub.status.busy": "2022-06-07T07:08:55.630524Z",
     "iopub.status.idle": "2022-06-07T07:08:55.829018Z",
     "shell.execute_reply": "2022-06-07T07:08:55.829440Z"
    },
    "papermill": {
     "duration": 0.212697,
     "end_time": "2022-06-07T07:08:55.829568",
     "exception": false,
     "start_time": "2022-06-07T07:08:55.616871",
     "status": "completed"
    },
    "tags": []
   },
   "outputs": [
    {
     "data": {
      "application/scrapbook.scrap.json+json": {
       "data": 0.0664777784523537,
       "encoder": "json",
       "name": "ABC-GAN Model 1 MSE",
       "version": 1
      }
     },
     "metadata": {
      "scrapbook": {
       "data": true,
       "display": false,
       "name": "ABC-GAN Model 1 MSE"
      }
     },
     "output_type": "display_data"
    },
    {
     "data": {
      "application/scrapbook.scrap.json+json": {
       "data": 0.18428027513250708,
       "encoder": "json",
       "name": "ABC-GAN Model 1 MAE",
       "version": 1
      }
     },
     "metadata": {
      "scrapbook": {
       "data": true,
       "display": false,
       "name": "ABC-GAN Model 1 MAE"
      }
     },
     "output_type": "display_data"
    },
    {
     "data": {
      "application/scrapbook.scrap.json+json": {
       "data": 3.6856055026501418,
       "encoder": "json",
       "name": "ABC-GAN Model 1 Manhattan Distance",
       "version": 1
      }
     },
     "metadata": {
      "scrapbook": {
       "data": true,
       "display": false,
       "name": "ABC-GAN Model 1 Manhattan Distance"
      }
     },
     "output_type": "display_data"
    },
    {
     "data": {
      "application/scrapbook.scrap.json+json": {
       "data": 1.1527640177598972,
       "encoder": "json",
       "name": "ABC-GAN Model 1 Euclidean distance",
       "version": 1
      }
     },
     "metadata": {
      "scrapbook": {
       "data": true,
       "display": false,
       "name": "ABC-GAN Model 1 Euclidean distance"
      }
     },
     "output_type": "display_data"
    },
    {
     "data": {
      "application/scrapbook.scrap.json+json": {
       "data": [
        [
         0.06825061000736558,
         0.06541314053389102,
         0.06374640065290192,
         0.067482619557454,
         0.0654607118137799,
         0.07124876164068239,
         0.06663614243834201,
         0.07082210858105087,
         0.06639141042381304,
         0.06440656148762838,
         0.06941042197418627,
         0.06701188188012337,
         0.06538922677653904,
         0.06646560459501163,
         0.06438712019966207,
         0.0662274290160316,
         0.07164049450910993,
         0.06454908938588073,
         0.06600996091166171,
         0.06571146211123602,
         0.06852795341132273,
         0.061305856136025516,
         0.06957984292017591,
         0.0697586975487302,
         0.06555424015161548,
         0.06413175993116463,
         0.06584185435013805,
         0.06443114353369787,
         0.06478763386418798,
         0.06822316126651369,
         0.0686329297549503,
         0.06424968305552022,
         0.06685749558710632,
         0.06850733042868645,
         0.07468663204108394,
         0.06802720393834916,
         0.0687829360889032,
         0.06309769706718418,
         0.06968558178283484,
         0.06819609824248488,
         0.0665880332028435,
         0.06863178201101591,
         0.061712349931022925,
         0.07770614834435588,
         0.06447610693893291,
         0.06832971369543275,
         0.06616875787039264,
         0.06972373579256759,
         0.0673442900851749,
         0.06619566164260762,
         0.06964547839130199,
         0.072271937221857,
         0.0672658661893562,
         0.0619969650323141,
         0.06483401992277546,
         0.06528872385702957,
         0.06477618780427455,
         0.06585816983869963,
         0.06651849718764417,
         0.06451640307032298,
         0.0644883832371226,
         0.07177361814468687,
         0.07181625397740264,
         0.07135104863266398,
         0.06626894287851877,
         0.06631206186431733,
         0.06985190099199692,
         0.06473535936642207,
         0.05980515742236703,
         0.0659932809647453,
         0.0606913732198177,
         0.06603640681662583,
         0.06220840048335659,
         0.061522154635524,
         0.06690132081551527,
         0.06476954495047643,
         0.06576043151653253,
         0.06440232306955776,
         0.06631767536021976,
         0.06317907458049003,
         0.06280779366822484,
         0.06796751413463724,
         0.06451792843031656,
         0.06766011798539971,
         0.06428138937827275,
         0.06633942565827557,
         0.06597276635790622,
         0.06584053335682402,
         0.06532251741531953,
         0.0597314737732226,
         0.06869326788177517,
         0.06908008710091008,
         0.06739158515533207,
         0.06506151030202849,
         0.06960796863372729,
         0.06908894126934215,
         0.06187210698083666,
         0.06135107985783524,
         0.0655885280880638,
         0.06604087925181074
        ],
        [
         0.18564631808549165,
         0.18098267186433076,
         0.18561359215527773,
         0.18473072443157434,
         0.18677777517586946,
         0.19484549034386872,
         0.1833866463974118,
         0.19449972007423638,
         0.17966807205229998,
         0.18379338178783655,
         0.1884314076974988,
         0.18472393583506347,
         0.17394776437431575,
         0.17745485324412585,
         0.18297747243195772,
         0.18300279174000025,
         0.1929813938215375,
         0.18175584953278304,
         0.1725079758092761,
         0.1866788262501359,
         0.18807295206934213,
         0.1718096362426877,
         0.18751341421157122,
         0.19039856288582085,
         0.1858105892315507,
         0.18048972059041263,
         0.18213598150759935,
         0.17641342002898455,
         0.1866340035572648,
         0.18701608795672656,
         0.185499076731503,
         0.1779338652268052,
         0.18869913090020418,
         0.1830462420359254,
         0.20613255817443132,
         0.1834073333069682,
         0.18663180638104676,
         0.1740529065951705,
         0.18625839445739983,
         0.18404591847211121,
         0.19034764710813762,
         0.19798787999898196,
         0.18017971720546483,
         0.20376286823302509,
         0.18490695375949145,
         0.18879841063171626,
         0.18665772695094346,
         0.19732845295220613,
         0.1856903912499547,
         0.18538426030427219,
         0.1904831962659955,
         0.19629860538989305,
         0.18127618301659823,
         0.18060754481703042,
         0.186694841273129,
         0.18092414531856776,
         0.18056913036853076,
         0.1788189610466361,
         0.18570432681590318,
         0.17746982369571923,
         0.1732708031311631,
         0.19053269047290086,
         0.19514885041862726,
         0.19024813938885926,
         0.18250573072582482,
         0.18872850779443978,
         0.18988152164965869,
         0.17826348561793565,
         0.1711743088439107,
         0.1865078302100301,
         0.17049948032945395,
         0.18390078861266373,
         0.178611228056252,
         0.175581213273108,
         0.18304573837667704,
         0.17713664788752795,
         0.18950535748153924,
         0.18231527078896761,
         0.1836731696501374,
         0.17729139383882284,
         0.18177273515611886,
         0.18309370037168265,
         0.1776956206187606,
         0.18862696308642626,
         0.17853902969509364,
         0.18400060404092072,
         0.18394965697079896,
         0.18336756099015475,
         0.18515568543225527,
         0.1790877701714635,
         0.18733935449272393,
         0.1887155370786786,
         0.18428445924073458,
         0.17861317861825227,
         0.18663836885243654,
         0.1865248577669263,
         0.1758481765165925,
         0.17903338242322206,
         0.1863138446584344,
         0.18530554044991732
        ],
        [
         3.712926361709833,
         3.6196534372866154,
         3.7122718431055546,
         3.694614488631487,
         3.7355555035173893,
         3.8969098068773746,
         3.6677329279482365,
         3.889994401484728,
         3.5933614410459995,
         3.675867635756731,
         3.768628153949976,
         3.694478716701269,
         3.4789552874863148,
         3.549097064882517,
         3.6595494486391544,
         3.660055834800005,
         3.85962787643075,
         3.6351169906556606,
         3.450159516185522,
         3.733576525002718,
         3.7614590413868427,
         3.436192724853754,
         3.7502682842314243,
         3.8079712577164173,
         3.716211784631014,
         3.6097944118082523,
         3.642719630151987,
         3.528268400579691,
         3.732680071145296,
         3.740321759134531,
         3.70998153463006,
         3.558677304536104,
         3.7739826180040836,
         3.6609248407185078,
         4.1226511634886265,
         3.6681466661393642,
         3.7326361276209354,
         3.48105813190341,
         3.725167889147997,
         3.6809183694422245,
         3.806952942162752,
         3.959757599979639,
         3.603594344109297,
         4.0752573646605015,
         3.698139075189829,
         3.775968212634325,
         3.7331545390188694,
         3.9465690590441227,
         3.713807824999094,
         3.7076852060854435,
         3.80966392531991,
         3.925972107797861,
         3.6255236603319645,
         3.6121508963406086,
         3.7338968254625797,
         3.618482906371355,
         3.611382607370615,
         3.576379220932722,
         3.7140865363180637,
         3.549396473914385,
         3.4654160626232624,
         3.8106538094580173,
         3.9029770083725452,
         3.8049627877771854,
         3.6501146145164967,
         3.774570155888796,
         3.7976304329931736,
         3.565269712358713,
         3.423486176878214,
         3.7301566042006016,
         3.409989606589079,
         3.678015772253275,
         3.57222456112504,
         3.51162426546216,
         3.6609147675335407,
         3.542732957750559,
         3.790107149630785,
         3.646305415779352,
         3.6734633930027485,
         3.545827876776457,
         3.6354547031223774,
         3.661874007433653,
         3.5539124123752117,
         3.772539261728525,
         3.5707805939018726,
         3.6800120808184147,
         3.6789931394159794,
         3.667351219803095,
         3.7031137086451054,
         3.58175540342927,
         3.746787089854479,
         3.774310741573572,
         3.6856891848146915,
         3.5722635723650455,
         3.732767377048731,
         3.7304971553385258,
         3.51696353033185,
         3.5806676484644413,
         3.726276893168688,
         3.7061108089983463
        ],
        [
         1.168337365724178,
         1.1437931677876996,
         1.1291271022599885,
         1.1617454071994775,
         1.1442090002598293,
         1.1937232647534552,
         1.1544361605419504,
         1.1901437609049663,
         1.1523142837248268,
         1.1349586907692137,
         1.1782225763766903,
         1.1576863295394255,
         1.1435840745353096,
         1.1529579749063852,
         1.1347873827256105,
         1.1508903424395531,
         1.1970003718387887,
         1.136213794898484,
         1.1489992246443137,
         1.1463983784988185,
         1.1707087888225896,
         1.1073017306590422,
         1.1796596366764094,
         1.181174818125837,
         1.1450261145634668,
         1.132534855367945,
         1.1475352225543063,
         1.13517525989336,
         1.1383113270471132,
         1.168102403614629,
         1.171605136169608,
         1.133575608907674,
         1.1563519843638124,
         1.170532617475365,
         1.2221835544719455,
         1.1664236274900226,
         1.1728847862335259,
         1.1233672335188005,
         1.180555646997081,
         1.1678706969736408,
         1.1540193516821413,
         1.1715953397911407,
         1.1109666955496273,
         1.2466446834953084,
         1.1355712830019338,
         1.1690142316963703,
         1.1503804402926245,
         1.180878789652584,
         1.1605540925366202,
         1.150614285002647,
         1.1802158988193812,
         1.2022640077941034,
         1.1598781504050864,
         1.1135256174180646,
         1.1387187530094993,
         1.142704895036593,
         1.138210769622872,
         1.1476773922901822,
         1.1534166392734602,
         1.135926080960579,
         1.135679384660324,
         1.198111999311307,
         1.1984678049693505,
         1.1945798310089115,
         1.1512509967728042,
         1.151625476136381,
         1.1819636288143296,
         1.1378520058990278,
         1.0936650074165035,
         1.1488540461237475,
         1.101738382918719,
         1.149229366285302,
         1.1154227941310557,
         1.109253394274942,
         1.1567309178500873,
         1.138152405879603,
         1.146825457657202,
         1.1349213459051493,
         1.1516742192149632,
         1.1240914071416972,
         1.120783597919106,
         1.165911781693943,
         1.1359395092197169,
         1.1632722637920987,
         1.1338552762876994,
         1.1518630618113905,
         1.148675466421271,
         1.147523710925609,
         1.1430005898101674,
         1.0929910683369979,
         1.1721200269748415,
         1.175415561415707,
         1.160961542475306,
         1.1407147785667413,
         1.1798980348634138,
         1.1754908869858767,
         1.1124037664520618,
         1.1077100690869903,
         1.145325526547486,
         1.1492682824459286
        ]
       ],
       "encoder": "json",
       "name": "ABC_GAN_1 Metrics",
       "version": 1
      }
     },
     "metadata": {
      "scrapbook": {
       "data": true,
       "display": false,
       "name": "ABC_GAN_1 Metrics"
      }
     },
     "output_type": "display_data"
    },
    {
     "name": "stdout",
     "output_type": "stream",
     "text": [
      "MSE\n",
      "0.0664777784523537\n"
     ]
    }
   ],
   "source": [
    "ABC_GAN1_metrics=ABC_train_test2.test_generator(gen,test_data,prior_model,variance,bias,\"1\",device)\n",
    "sb.glue(\"ABC_GAN_1 Metrics\",ABC_GAN1_metrics)\n",
    "\n",
    "print(\"MSE\")\n",
    "print(mean(ABC_GAN1_metrics[0]))"
   ]
  },
  {
   "cell_type": "code",
   "execution_count": 14,
   "id": "eb22ce5c",
   "metadata": {
    "execution": {
     "iopub.execute_input": "2022-06-07T07:08:55.859095Z",
     "iopub.status.busy": "2022-06-07T07:08:55.858715Z",
     "iopub.status.idle": "2022-06-07T07:08:56.160505Z",
     "shell.execute_reply": "2022-06-07T07:08:56.160809Z"
    },
    "papermill": {
     "duration": 0.317116,
     "end_time": "2022-06-07T07:08:56.160935",
     "exception": false,
     "start_time": "2022-06-07T07:08:55.843819",
     "status": "completed"
    },
    "tags": []
   },
   "outputs": [
    {
     "data": {
      "image/png": "[encoded data removed]",
      "text/plain": [
       "<Figure size 432x288 with 1 Axes>"
      ]
     },
     "metadata": {
      "needs_background": "light"
     },
     "output_type": "display_data"
    },
    {
     "data": {
      "image/png": "[encoded data removed]",
      "text/plain": [
       "<Figure size 432x288 with 1 Axes>"
      ]
     },
     "metadata": {
      "needs_background": "light"
     },
     "output_type": "display_data"
    },
    {
     "data": {
      "image/png": "[encoded data removed]",
      "text/plain": [
       "<Figure size 432x288 with 1 Axes>"
      ]
     },
     "metadata": {
      "needs_background": "light"
     },
     "output_type": "display_data"
    },
    {
     "data": {
      "image/png": "[encoded data removed]",
      "text/plain": [
       "<Figure size 432x288 with 1 Axes>"
      ]
     },
     "metadata": {
      "needs_background": "light"
     },
     "output_type": "display_data"
    }
   ],
   "source": [
    "sanityChecks.discProbVsError(train_data,disc,device)\n",
    "sanityChecks.discProbVsError(test_data,disc,device)"
   ]
  },
  {
   "cell_type": "markdown",
   "id": "130f3a4d",
   "metadata": {
    "id": "130f3a4d",
    "papermill": {
     "duration": 0.036988,
     "end_time": "2022-06-07T07:08:56.212401",
     "exception": false,
     "start_time": "2022-06-07T07:08:56.175413",
     "status": "completed"
    },
    "tags": []
   },
   "source": [
    "# ABC - GAN Model with skip connection"
   ]
  },
  {
   "cell_type": "code",
   "execution_count": 15,
   "id": "4e43dad1",
   "metadata": {
    "execution": {
     "iopub.execute_input": "2022-06-07T07:08:56.244317Z",
     "iopub.status.busy": "2022-06-07T07:08:56.243936Z",
     "iopub.status.idle": "2022-06-07T07:08:56.246426Z",
     "shell.execute_reply": "2022-06-07T07:08:56.246679Z"
    },
    "id": "4e43dad1",
    "papermill": {
     "duration": 0.019969,
     "end_time": "2022-06-07T07:08:56.246793",
     "exception": false,
     "start_time": "2022-06-07T07:08:56.226824",
     "status": "completed"
    },
    "tags": []
   },
   "outputs": [],
   "source": [
    "#Generator\n",
    "gen3 = network.GeneratorWithSkipConnection(n_features+1).to(device)\n",
    "constraints=network.weightConstraint()\n",
    "#Discriminator \n",
    "disc3 = network.Discriminator(n_features+1).to(device)\n",
    "\n",
    "criterion = torch.nn.BCELoss()\n",
    "gen_opt = torch.optim.Adam(gen3.parameters(), lr=0.001, betas=(0.5, 0.999))\n",
    "disc_opt = torch.optim.Adam(disc3.parameters(), lr=0.001, betas=(0.5, 0.999))\n"
   ]
  },
  {
   "cell_type": "code",
   "execution_count": 16,
   "id": "26acbc37",
   "metadata": {
    "execution": {
     "iopub.execute_input": "2022-06-07T07:08:56.278242Z",
     "iopub.status.busy": "2022-06-07T07:08:56.277857Z",
     "iopub.status.idle": "2022-06-07T07:09:37.368201Z",
     "shell.execute_reply": "2022-06-07T07:09:37.368521Z"
    },
    "id": "26acbc37",
    "papermill": {
     "duration": 41.107212,
     "end_time": "2022-06-07T07:09:37.368644",
     "exception": false,
     "start_time": "2022-06-07T07:08:56.261432",
     "status": "completed"
    },
    "tags": []
   },
   "outputs": [
    {
     "data": {
      "image/png": "[encoded data removed]",
      "text/plain": [
       "<Figure size 432x288 with 1 Axes>"
      ]
     },
     "metadata": {
      "needs_background": "light"
     },
     "output_type": "display_data"
    },
    {
     "data": {
      "image/png": "[encoded data removed]",
      "text/plain": [
       "<Figure size 432x288 with 1 Axes>"
      ]
     },
     "metadata": {
      "needs_background": "light"
     },
     "output_type": "display_data"
    }
   ],
   "source": [
    "ABC_train_test2.training_GAN_skip_connection(disc3,gen3,disc_opt,gen_opt,train_data,batch_size,n_epochs,criterion,prior_model,variance,bias,device)"
   ]
  },
  {
   "cell_type": "code",
   "execution_count": 17,
   "id": "c5e0717b",
   "metadata": {
    "execution": {
     "iopub.execute_input": "2022-06-07T07:09:37.402195Z",
     "iopub.status.busy": "2022-06-07T07:09:37.401730Z",
     "iopub.status.idle": "2022-06-07T07:09:37.707590Z",
     "shell.execute_reply": "2022-06-07T07:09:37.707920Z"
    },
    "id": "c5e0717b",
    "papermill": {
     "duration": 0.323866,
     "end_time": "2022-06-07T07:09:37.708058",
     "exception": false,
     "start_time": "2022-06-07T07:09:37.384192",
     "status": "completed"
    },
    "tags": []
   },
   "outputs": [
    {
     "data": {
      "application/scrapbook.scrap.json+json": {
       "data": 0.05941230928177281,
       "encoder": "json",
       "name": "ABC-GAN Model 3 MSE",
       "version": 1
      }
     },
     "metadata": {
      "scrapbook": {
       "data": true,
       "display": false,
       "name": "ABC-GAN Model 3 MSE"
      }
     },
     "output_type": "display_data"
    },
    {
     "data": {
      "application/scrapbook.scrap.json+json": {
       "data": 0.1866743625830859,
       "encoder": "json",
       "name": "ABC-GAN Model 3 MAE",
       "version": 1
      }
     },
     "metadata": {
      "scrapbook": {
       "data": true,
       "display": false,
       "name": "ABC-GAN Model 3 MAE"
      }
     },
     "output_type": "display_data"
    },
    {
     "data": {
      "application/scrapbook.scrap.json+json": {
       "data": 3.733487251661718,
       "encoder": "json",
       "name": "ABC-GAN Model 3 Manhattan Distance",
       "version": 1
      }
     },
     "metadata": {
      "scrapbook": {
       "data": true,
       "display": false,
       "name": "ABC-GAN Model 3 Manhattan Distance"
      }
     },
     "output_type": "display_data"
    },
    {
     "data": {
      "application/scrapbook.scrap.json+json": {
       "data": 1.0868240585390112,
       "encoder": "json",
       "name": "ABC-GAN Model 3 Euclidean distance",
       "version": 1
      }
     },
     "metadata": {
      "scrapbook": {
       "data": true,
       "display": false,
       "name": "ABC-GAN Model 3 Euclidean distance"
      }
     },
     "output_type": "display_data"
    },
    {
     "data": {
      "application/scrapbook.scrap.json+json": {
       "data": [
        [
         0.06245859713443016,
         0.053092709111189074,
         0.05263091515333522,
         0.054783170233744335,
         0.06563995497860925,
         0.07420989630428784,
         0.04495006108468761,
         0.05146541717935491,
         0.06161282125279346,
         0.07699179041303608,
         0.053214753630377254,
         0.04922508420217374,
         0.053397259185583947,
         0.050471635576289496,
         0.04859409656975392,
         0.06237277667549394,
         0.05686729033631829,
         0.051524912907677564,
         0.059014938060253264,
         0.05585095139895543,
         0.06350109841461013,
         0.0440264536919198,
         0.05946773710999585,
         0.06138879473983862,
         0.0644572527175007,
         0.047758212017586045,
         0.058852580456271605,
         0.053831470430868625,
         0.05431369874998524,
         0.0638275668752648,
         0.06756600291565502,
         0.05802075170700338,
         0.05959772570750416,
         0.04674615992458422,
         0.07262345723302775,
         0.0612191669746998,
         0.05244351128706008,
         0.06378869258541316,
         0.04975668732799504,
         0.05860269138739934,
         0.05851155904042669,
         0.06004085701110038,
         0.06470091746198092,
         0.06532020318303988,
         0.06283082881706845,
         0.06002246842901129,
         0.05552653434879762,
         0.05537377431985121,
         0.051622988340713605,
         0.05983335515772851,
         0.05400779214877728,
         0.04998308767725192,
         0.06837817623221074,
         0.06679311544870195,
         0.05291372922845515,
         0.060908762934770856,
         0.09177912009335801,
         0.04770241561289627,
         0.061221438195196085,
         0.06764294738676108,
         0.08563143940220949,
         0.05556808173448154,
         0.051251305897798735,
         0.052126344845049036,
         0.050301759545522864,
         0.06240858550822191,
         0.06947226330091863,
         0.0658586033399639,
         0.05244469367238206,
         0.05479009443240076,
         0.06328934881339067,
         0.06536512946862282,
         0.05413638845331453,
         0.042709384136317294,
         0.04885346312435018,
         0.07156818029099514,
         0.056060731702105994,
         0.05126886025334661,
         0.04995605451667329,
         0.06678254789986002,
         0.07928163488718452,
         0.08302031978959115,
         0.05443243575457159,
         0.06583383582623262,
         0.0706555393651653,
         0.05783892597963538,
         0.056836051075580166,
         0.06112222263831455,
         0.04657797284745985,
         0.04367177147835438,
         0.06728127073013167,
         0.0599142073372327,
         0.05341891939677555,
         0.06357843016004881,
         0.06440487518031937,
         0.06680199587904415,
         0.05050678363857053,
         0.08451090792199431,
         0.07069727887132041,
         0.05572947437120281
        ],
        [
         0.19810064546763897,
         0.17963212504982948,
         0.1784656461328268,
         0.1754859523847699,
         0.19695093501359223,
         0.2208559462800622,
         0.15976174790412187,
         0.1739741126075387,
         0.19134599808603525,
         0.20008890461176634,
         0.18369768615812063,
         0.16832823324948548,
         0.1892458165064454,
         0.17135217506438494,
         0.1544498959556222,
         0.1983370767906308,
         0.17750807274132968,
         0.17885891981422902,
         0.17189424876123666,
         0.18450643587857485,
         0.1918840290978551,
         0.16116036269813777,
         0.18976382482796908,
         0.19031020123511552,
         0.1925292642787099,
         0.15570612866431474,
         0.17654649931937455,
         0.18723571840673686,
         0.18555208537727594,
         0.1886310691013932,
         0.2019495854154229,
         0.17922564912587405,
         0.18808415103703738,
         0.16889588572084904,
         0.200442080385983,
         0.20989662799984216,
         0.18770493138581515,
         0.20130655337125064,
         0.17481749448925257,
         0.17233089450746775,
         0.17668860163539649,
         0.18739813957363366,
         0.19313289541751147,
         0.1974534450098872,
         0.19227946158498527,
         0.18319754842668773,
         0.16672831494361162,
         0.18401834275573492,
         0.18672546613961458,
         0.19039934296160937,
         0.18522988427430392,
         0.16869163010269403,
         0.19902067948132754,
         0.20358542446047068,
         0.18120295349508525,
         0.18554750885814428,
         0.2335771957412362,
         0.16721642408519982,
         0.1883991861715913,
         0.204978752322495,
         0.21559738609939813,
         0.17500252444297076,
         0.1832926334813237,
         0.16983799915760756,
         0.16982830706983804,
         0.18688032794743775,
         0.20703499093651773,
         0.19822170604020356,
         0.18103570807725192,
         0.18714206106960773,
         0.20324450749903916,
         0.2004942001774907,
         0.17617060262709855,
         0.14879229087382556,
         0.16195470560342073,
         0.19204612467437981,
         0.19421653542667627,
         0.18994510564953088,
         0.17158638257533312,
         0.19541669953614474,
         0.19459282997995614,
         0.2156492443755269,
         0.17477027419954538,
         0.19415186513215305,
         0.20300625283271073,
         0.19188293386250735,
         0.17943875659257175,
         0.19356880728155373,
         0.16599341351538896,
         0.1629597807303071,
         0.1961590388789773,
         0.18806848023086786,
         0.17817324493080378,
         0.1927442429587245,
         0.2012333868071437,
         0.19666486103087663,
         0.1792822552844882,
         0.22640796173363925,
         0.21006272826343775,
         0.1826002923771739
        ],
        [
         3.9620129093527794,
         3.5926425009965897,
         3.569312922656536,
         3.5097190476953983,
         3.939018700271845,
         4.417118925601244,
         3.1952349580824375,
         3.479482252150774,
         3.826919961720705,
         4.001778092235327,
         3.6739537231624126,
         3.36656466498971,
         3.784916330128908,
         3.4270435012876987,
         3.088997919112444,
         3.9667415358126163,
         3.5501614548265934,
         3.5771783962845802,
         3.4378849752247334,
         3.690128717571497,
         3.837680581957102,
         3.223207253962755,
         3.7952764965593815,
         3.8062040247023106,
         3.8505852855741978,
         3.114122573286295,
         3.5309299863874912,
         3.744714368134737,
         3.711041707545519,
         3.7726213820278645,
         4.038991708308458,
         3.584512982517481,
         3.7616830207407475,
         3.3779177144169807,
         4.00884160771966,
         4.197932559996843,
         3.754098627716303,
         4.026131067425013,
         3.4963498897850513,
         3.446617890149355,
         3.5337720327079296,
         3.7479627914726734,
         3.8626579083502293,
         3.9490689001977444,
         3.845589231699705,
         3.6639509685337543,
         3.3345662988722324,
         3.6803668551146984,
         3.7345093227922916,
         3.8079868592321873,
         3.7045976854860783,
         3.3738326020538807,
         3.9804135896265507,
         4.0717084892094135,
         3.624059069901705,
         3.7109501771628857,
         4.671543914824724,
         3.3443284817039967,
         3.7679837234318256,
         4.0995750464499,
         4.311947721987963,
         3.500050488859415,
         3.6658526696264744,
         3.396759983152151,
         3.396566141396761,
         3.7376065589487553,
         4.140699818730354,
         3.9644341208040714,
         3.6207141615450382,
         3.7428412213921547,
         4.0648901499807835,
         4.009884003549814,
         3.523412052541971,
         2.975845817476511,
         3.2390941120684147,
         3.8409224934875965,
         3.8843307085335255,
         3.7989021129906178,
         3.4317276515066624,
         3.9083339907228947,
         3.891856599599123,
         4.312984887510538,
         3.4954054839909077,
         3.8830373026430607,
         4.060125056654215,
         3.837658677250147,
         3.5887751318514347,
         3.871376145631075,
         3.3198682703077793,
         3.259195614606142,
         3.923180777579546,
         3.7613696046173573,
         3.5634648986160755,
         3.85488485917449,
         4.024667736142874,
         3.9332972206175327,
         3.585645105689764,
         4.528159234672785,
         4.201254565268755,
         3.652005847543478
        ],
        [
         1.117663608913077,
         1.0304630911506638,
         1.0259718822008255,
         1.0467394158408705,
         1.145774454058121,
         1.2182766213326746,
         0.9481567495376237,
         1.0145483446278438,
         1.1100704595005981,
         1.2409012080986632,
         1.0316467770547946,
         0.9922205823522685,
         1.0334143330299221,
         1.0047052859051704,
         0.9858407231368962,
         1.1168954890722225,
         1.0664641610135643,
         1.0151346010030153,
         1.0864155564078901,
         1.0568912091502647,
         1.1269525137698582,
         0.9383651068951765,
         1.0905754179330822,
         1.108050492891354,
         1.1354052379437105,
         0.9773250433462354,
         1.0849200934287428,
         1.0376075407481253,
         1.0422446809649377,
         1.1298457140270506,
         1.1624629277155898,
         1.0772256189582885,
         1.0917666940102557,
         0.966914266360614,
         1.2051842782996114,
         1.1065185671709246,
         1.0241436548361766,
         1.129501594380576,
         0.9975639060029692,
         1.082614348578471,
         1.081772240727471,
         1.0958180233150063,
         1.1375492733238497,
         1.1429803426397138,
         1.1209891062545474,
         1.095650203568742,
         1.0538171980832123,
         1.0523666121637574,
         1.0161002739957667,
         1.0939228049339542,
         1.0393054618232052,
         0.999830862468767,
         1.1694287172137576,
         1.1557950981787555,
         1.0287247370259467,
         1.1037097710428303,
         1.3548366698119594,
         0.9767539671063157,
         1.106539092804191,
         1.1631246484084248,
         1.3086744392873997,
         1.054211380459171,
         1.0124357352227225,
         1.0210420642172293,
         1.0030130562013921,
         1.1172160534849283,
         1.1787473291670156,
         1.147681169488843,
         1.0241551998831238,
         1.0468055639172038,
         1.1250719871491839,
         1.1433733377040312,
         1.0405420554049176,
         0.9242227451898952,
         0.9884681393383419,
         1.1963960906906637,
         1.0588742295674778,
         1.0126091077345354,
         0.9995604485640004,
         1.1557036635734959,
         1.2592190825045855,
         1.2885675751747843,
         1.043383302095367,
         1.147465344367599,
         1.1887433647778254,
         1.0755363869217571,
         1.066171197093414,
         1.1056420997620753,
         0.9651732781988926,
         0.9345776744428939,
         1.1600109545183759,
         1.0946616585706535,
         1.0336239102959601,
         1.1276385073244777,
         1.134943832798076,
         1.1558719295756268,
         1.0050550595720666,
         1.3000839043845924,
         1.1890944358739586,
         1.055741202863683
        ]
       ],
       "encoder": "json",
       "name": "ABC_GAN_3 Metrics",
       "version": 1
      }
     },
     "metadata": {
      "scrapbook": {
       "data": true,
       "display": false,
       "name": "ABC_GAN_3 Metrics"
      }
     },
     "output_type": "display_data"
    },
    {
     "name": "stdout",
     "output_type": "stream",
     "text": [
      "MSE\n",
      "0.05941230928177281\n"
     ]
    }
   ],
   "source": [
    "ABC_GAN3_metrics=ABC_train_test2.test_generator(gen3,test_data,prior_model,variance,bias,\"3\",device)\n",
    "sb.glue(\"ABC_GAN_3 Metrics\",ABC_GAN3_metrics)\n",
    "\n",
    "print(\"MSE\")\n",
    "print(mean(ABC_GAN3_metrics[0]))"
   ]
  },
  {
   "cell_type": "code",
   "execution_count": 18,
   "id": "c8e46b48",
   "metadata": {
    "execution": {
     "iopub.execute_input": "2022-06-07T07:09:37.744309Z",
     "iopub.status.busy": "2022-06-07T07:09:37.743929Z",
     "iopub.status.idle": "2022-06-07T07:09:38.028339Z",
     "shell.execute_reply": "2022-06-07T07:09:38.028640Z"
    },
    "id": "c8e46b48",
    "papermill": {
     "duration": 0.303686,
     "end_time": "2022-06-07T07:09:38.028763",
     "exception": false,
     "start_time": "2022-06-07T07:09:37.725077",
     "status": "completed"
    },
    "tags": []
   },
   "outputs": [
    {
     "data": {
      "image/png": "[encoded data removed]",
      "text/plain": [
       "<Figure size 432x288 with 1 Axes>"
      ]
     },
     "metadata": {
      "needs_background": "light"
     },
     "output_type": "display_data"
    },
    {
     "data": {
      "image/png": "[encoded data removed]",
      "text/plain": [
       "<Figure size 432x288 with 1 Axes>"
      ]
     },
     "metadata": {
      "needs_background": "light"
     },
     "output_type": "display_data"
    },
    {
     "data": {
      "image/png": "[encoded data removed]",
      "text/plain": [
       "<Figure size 432x288 with 1 Axes>"
      ]
     },
     "metadata": {
      "needs_background": "light"
     },
     "output_type": "display_data"
    },
    {
     "data": {
      "image/png": "[encoded data removed]",
      "text/plain": [
       "<Figure size 432x288 with 1 Axes>"
      ]
     },
     "metadata": {
      "needs_background": "light"
     },
     "output_type": "display_data"
    }
   ],
   "source": [
    "sanityChecks.discProbVsError(train_data,disc3,device)\n",
    "sanityChecks.discProbVsError(test_data,disc3,device)"
   ]
  },
  {
   "cell_type": "markdown",
   "id": "a5bd74c3",
   "metadata": {
    "id": "a5bd74c3",
    "papermill": {
     "duration": 0.019681,
     "end_time": "2022-06-07T07:09:38.068487",
     "exception": false,
     "start_time": "2022-06-07T07:09:38.048806",
     "status": "completed"
    },
    "tags": []
   },
   "source": [
    "## Skip Connection Model Analysis - ABC-GAN "
   ]
  },
  {
   "cell_type": "markdown",
   "id": "5744a8bf",
   "metadata": {
    "id": "5744a8bf",
    "papermill": {
     "duration": 0.019511,
     "end_time": "2022-06-07T07:09:38.107484",
     "exception": false,
     "start_time": "2022-06-07T07:09:38.087973",
     "status": "completed"
    },
    "tags": []
   },
   "source": [
    "### Weight Analysis \n",
    "\n",
    "Study the weights of the skip connection layer\n",
    "\n",
    "Equation of the skip connection is \n",
    "\n",
    "$output = y_{gan} * w + y_{abc} * (1-w)$"
   ]
  },
  {
   "cell_type": "code",
   "execution_count": 19,
   "id": "52c31dea",
   "metadata": {
    "execution": {
     "iopub.execute_input": "2022-06-07T07:09:38.149791Z",
     "iopub.status.busy": "2022-06-07T07:09:38.149393Z",
     "iopub.status.idle": "2022-06-07T07:09:38.152808Z",
     "shell.execute_reply": "2022-06-07T07:09:38.153049Z"
    },
    "id": "52c31dea",
    "papermill": {
     "duration": 0.025568,
     "end_time": "2022-06-07T07:09:38.153167",
     "exception": false,
     "start_time": "2022-06-07T07:09:38.127599",
     "status": "completed"
    },
    "tags": []
   },
   "outputs": [
    {
     "name": "stdout",
     "output_type": "stream",
     "text": [
      "Weight of the node at skip connection\n",
      "Parameter containing:\n",
      "tensor([[0.3184]], requires_grad=True)\n"
     ]
    },
    {
     "data": {
      "application/scrapbook.scrap.json+json": {
       "data": 0.3184325695037842,
       "encoder": "json",
       "name": "Skip Connection Weight",
       "version": 1
      }
     },
     "metadata": {
      "scrapbook": {
       "data": true,
       "display": false,
       "name": "Skip Connection Weight"
      }
     },
     "output_type": "display_data"
    }
   ],
   "source": [
    "print(\"Weight of the node at skip connection\")\n",
    "for name,param in gen3.named_parameters():\n",
    "    if(name == \"skipNode.weight\"):\n",
    "        print(param)\n",
    "        sb.glue(\"Skip Connection Weight\",param.item())"
   ]
  }
 ],
 "metadata": {
  "colab": {
   "collapsed_sections": [],
   "name": "ABC_GAN_Model-Catboost_Pre-gen.ipynb",
   "provenance": []
  },
  "interpreter": {
   "hash": "31f2aee4e71d21fbe5cf8b01ff0e069b9275f58929596ceb00d14d90e3e16cd6"
  },
  "kernelspec": {
   "display_name": "Python 3 (ipykernel)",
   "language": "python",
   "name": "python3"
  },
  "language_info": {
   "codemirror_mode": {
    "name": "ipython",
    "version": 3
   },
   "file_extension": ".py",
   "mimetype": "text/x-python",
   "name": "python",
   "nbconvert_exporter": "python",
   "pygments_lexer": "ipython3",
   "version": "3.8.11"
  },
  "papermill": {
   "default_parameters": {},
   "duration": 62.918859,
   "end_time": "2022-06-07T07:09:38.480545",
   "environment_variables": {},
   "exception": null,
   "input_path": "ABC_GAN-Catboost.ipynb",
   "output_path": "./ABC_GAN_Catboost/ABC-GAN_output_9_3.ipynb",
   "parameters": {
    "bias": 0.1,
    "variance": 1
   },
   "start_time": "2022-06-07T07:08:35.561686",
   "version": "2.3.3"
  }
 },
 "nbformat": 4,
 "nbformat_minor": 5
}