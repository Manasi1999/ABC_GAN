{
 "cells": [
  {
   "cell_type": "markdown",
   "id": "622780e6",
   "metadata": {
    "id": "622780e6",
    "papermill": {
     "duration": 0.029815,
     "end_time": "2022-06-07T06:03:27.916729",
     "exception": false,
     "start_time": "2022-06-07T06:03:27.886914",
     "status": "completed"
    },
    "tags": []
   },
   "source": [
    "## Import Libraries "
   ]
  },
  {
   "cell_type": "code",
   "execution_count": 1,
   "id": "a62397e3",
   "metadata": {
    "execution": {
     "iopub.execute_input": "2022-06-07T06:03:27.955754Z",
     "iopub.status.busy": "2022-06-07T06:03:27.955092Z",
     "iopub.status.idle": "2022-06-07T06:03:27.957576Z",
     "shell.execute_reply": "2022-06-07T06:03:27.957968Z"
    },
    "id": "a62397e3",
    "papermill": {
     "duration": 0.025984,
     "end_time": "2022-06-07T06:03:27.958213",
     "exception": false,
     "start_time": "2022-06-07T06:03:27.932229",
     "status": "completed"
    },
    "tags": []
   },
   "outputs": [],
   "source": [
    "import warnings\n",
    "import sys\n",
    "sys.path.insert(0, '../../src')\n",
    "warnings.filterwarnings('ignore')"
   ]
  },
  {
   "cell_type": "code",
   "execution_count": 2,
   "id": "d6a4e155",
   "metadata": {
    "execution": {
     "iopub.execute_input": "2022-06-07T06:03:27.981471Z",
     "iopub.status.busy": "2022-06-07T06:03:27.981036Z",
     "iopub.status.idle": "2022-06-07T06:03:29.880787Z",
     "shell.execute_reply": "2022-06-07T06:03:29.881082Z"
    },
    "id": "d6a4e155",
    "papermill": {
     "duration": 1.912296,
     "end_time": "2022-06-07T06:03:29.881223",
     "exception": false,
     "start_time": "2022-06-07T06:03:27.968927",
     "status": "completed"
    },
    "tags": []
   },
   "outputs": [],
   "source": [
    "import ABC_train_test2\n",
    "import friedman1Dataset\n",
    "import network\n",
    "import dataset\n",
    "import sanityChecks\n",
    "import torch \n",
    "import scrapbook as sb\n",
    "from statistics import mean \n",
    "import catboost as ctb \n",
    "from sklearn.model_selection import train_test_split\n",
    "from sklearn.metrics import mean_squared_error,mean_absolute_error\n",
    "import numpy as np"
   ]
  },
  {
   "cell_type": "markdown",
   "id": "2fa5b0f7",
   "metadata": {
    "id": "2fa5b0f7",
    "papermill": {
     "duration": 0.007153,
     "end_time": "2022-06-07T06:03:29.895695",
     "exception": false,
     "start_time": "2022-06-07T06:03:29.888542",
     "status": "completed"
    },
    "tags": []
   },
   "source": [
    "## Parameters "
   ]
  },
  {
   "cell_type": "code",
   "execution_count": 3,
   "id": "783186fb",
   "metadata": {
    "execution": {
     "iopub.execute_input": "2022-06-07T06:03:29.912847Z",
     "iopub.status.busy": "2022-06-07T06:03:29.912407Z",
     "iopub.status.idle": "2022-06-07T06:03:29.914262Z",
     "shell.execute_reply": "2022-06-07T06:03:29.914538Z"
    },
    "id": "783186fb",
    "papermill": {
     "duration": 0.011704,
     "end_time": "2022-06-07T06:03:29.914690",
     "exception": false,
     "start_time": "2022-06-07T06:03:29.902986",
     "status": "completed"
    },
    "tags": [
     "parameters"
    ]
   },
   "outputs": [],
   "source": [
    "variance = 1\n",
    "bias = 1 "
   ]
  },
  {
   "cell_type": "code",
   "execution_count": 4,
   "id": "5549ade3",
   "metadata": {
    "execution": {
     "iopub.execute_input": "2022-06-07T06:03:29.931650Z",
     "iopub.status.busy": "2022-06-07T06:03:29.931270Z",
     "iopub.status.idle": "2022-06-07T06:03:29.932497Z",
     "shell.execute_reply": "2022-06-07T06:03:29.932731Z"
    },
    "papermill": {
     "duration": 0.010933,
     "end_time": "2022-06-07T06:03:29.932842",
     "exception": false,
     "start_time": "2022-06-07T06:03:29.921909",
     "status": "completed"
    },
    "tags": [
     "injected-parameters"
    ]
   },
   "outputs": [],
   "source": [
    "# Parameters\n",
    "variance = 0.01\n",
    "bias = 1\n"
   ]
  },
  {
   "cell_type": "markdown",
   "id": "391cdbfd",
   "metadata": {
    "id": "391cdbfd",
    "papermill": {
     "duration": 0.007153,
     "end_time": "2022-06-07T06:03:29.946938",
     "exception": false,
     "start_time": "2022-06-07T06:03:29.939785",
     "status": "completed"
    },
    "tags": []
   },
   "source": [
    "## Dataset \n"
   ]
  },
  {
   "cell_type": "code",
   "execution_count": 5,
   "id": "5b51f161",
   "metadata": {
    "execution": {
     "iopub.execute_input": "2022-06-07T06:03:29.964099Z",
     "iopub.status.busy": "2022-06-07T06:03:29.963605Z",
     "iopub.status.idle": "2022-06-07T06:03:29.964767Z",
     "shell.execute_reply": "2022-06-07T06:03:29.965018Z"
    },
    "id": "5b51f161",
    "papermill": {
     "duration": 0.010886,
     "end_time": "2022-06-07T06:03:29.965136",
     "exception": false,
     "start_time": "2022-06-07T06:03:29.954250",
     "status": "completed"
    },
    "tags": []
   },
   "outputs": [],
   "source": [
    "#Parameters \n",
    "n_features = 5\n",
    "n_samples= 100\n",
    "n_target = 1 "
   ]
  },
  {
   "cell_type": "code",
   "execution_count": 6,
   "id": "5d6eced4",
   "metadata": {
    "execution": {
     "iopub.execute_input": "2022-06-07T06:03:29.982347Z",
     "iopub.status.busy": "2022-06-07T06:03:29.981922Z",
     "iopub.status.idle": "2022-06-07T06:03:29.988240Z",
     "shell.execute_reply": "2022-06-07T06:03:29.988562Z"
    },
    "id": "5d6eced4",
    "papermill": {
     "duration": 0.016494,
     "end_time": "2022-06-07T06:03:29.988690",
     "exception": false,
     "start_time": "2022-06-07T06:03:29.972196",
     "status": "completed"
    },
    "tags": []
   },
   "outputs": [
    {
     "name": "stdout",
     "output_type": "stream",
     "text": [
      "         X0        X1        X2        X3        X4         Y\n",
      "0  0.567014  1.118848 -0.888777  1.309617  1.350945  1.977713\n",
      "1 -1.645961  1.623088  0.767472 -0.684829  1.309947 -1.016799\n",
      "2  0.537443  1.396281 -0.693277  1.485743 -0.314005  1.445692\n",
      "3 -1.532876 -0.679096  0.835346  0.474300  0.400277 -0.665133\n",
      "4 -0.422269 -1.050405 -0.465054 -1.523279  1.514037 -1.276566\n"
     ]
    }
   ],
   "source": [
    "X,Y = friedman1Dataset.friedman1_data(n_samples,n_features)"
   ]
  },
  {
   "cell_type": "code",
   "execution_count": 7,
   "id": "fe007438",
   "metadata": {
    "execution": {
     "iopub.execute_input": "2022-06-07T06:03:30.006858Z",
     "iopub.status.busy": "2022-06-07T06:03:30.006505Z",
     "iopub.status.idle": "2022-06-07T06:03:30.007775Z",
     "shell.execute_reply": "2022-06-07T06:03:30.008025Z"
    },
    "id": "fe007438",
    "papermill": {
     "duration": 0.01169,
     "end_time": "2022-06-07T06:03:30.008138",
     "exception": false,
     "start_time": "2022-06-07T06:03:29.996448",
     "status": "completed"
    },
    "tags": []
   },
   "outputs": [],
   "source": [
    "#Train test split for dataset \n",
    "X_train,X_test,Y_train,Y_test = train_test_split(X,Y,test_size = 0.2)\n",
    "train_data = dataset.CustomDataset(X_train,Y_train)\n",
    "test_data = dataset.CustomDataset(X_test,Y_test)\n"
   ]
  },
  {
   "cell_type": "markdown",
   "id": "a9a1af34",
   "metadata": {
    "id": "a9a1af34",
    "papermill": {
     "duration": 0.007343,
     "end_time": "2022-06-07T06:03:30.023094",
     "exception": false,
     "start_time": "2022-06-07T06:03:30.015751",
     "status": "completed"
    },
    "tags": []
   },
   "source": [
    "## Training Parameters "
   ]
  },
  {
   "cell_type": "code",
   "execution_count": 8,
   "id": "952b7fc8",
   "metadata": {
    "execution": {
     "iopub.execute_input": "2022-06-07T06:03:30.040635Z",
     "iopub.status.busy": "2022-06-07T06:03:30.040267Z",
     "iopub.status.idle": "2022-06-07T06:03:30.041528Z",
     "shell.execute_reply": "2022-06-07T06:03:30.041780Z"
    },
    "id": "952b7fc8",
    "papermill": {
     "duration": 0.011118,
     "end_time": "2022-06-07T06:03:30.041890",
     "exception": false,
     "start_time": "2022-06-07T06:03:30.030772",
     "status": "completed"
    },
    "tags": []
   },
   "outputs": [],
   "source": [
    "batch_size = 32\n",
    "n_epochs = 1000\n",
    "#Select the device \n",
    "device = torch.device('cuda' if torch.cuda.is_available() else 'cpu')"
   ]
  },
  {
   "cell_type": "markdown",
   "id": "a95e1600",
   "metadata": {
    "id": "a95e1600",
    "papermill": {
     "duration": 0.007124,
     "end_time": "2022-06-07T06:03:30.056725",
     "exception": false,
     "start_time": "2022-06-07T06:03:30.049601",
     "status": "completed"
    },
    "tags": []
   },
   "source": [
    "# ABC Pre-generator Model \n",
    "\n",
    "1. The catboost model is used as a pre-generator model for the ABC-GAN. \n",
    "2. The model is first trained on the entire dataset \n",
    "3. It generats X,Y pairs and we add some Gaussian noise with mean 0 and variance 1 to it which is then feed as input to the generator.\n"
   ]
  },
  {
   "cell_type": "code",
   "execution_count": 9,
   "id": "ff8ce7bd",
   "metadata": {
    "execution": {
     "iopub.execute_input": "2022-06-07T06:03:30.075733Z",
     "iopub.status.busy": "2022-06-07T06:03:30.075345Z",
     "iopub.status.idle": "2022-06-07T06:03:30.731785Z",
     "shell.execute_reply": "2022-06-07T06:03:30.732088Z"
    },
    "id": "ff8ce7bd",
    "papermill": {
     "duration": 0.66784,
     "end_time": "2022-06-07T06:03:30.732214",
     "exception": false,
     "start_time": "2022-06-07T06:03:30.064374",
     "status": "completed"
    },
    "tags": []
   },
   "outputs": [
    {
     "name": "stdout",
     "output_type": "stream",
     "text": [
      "Learning rate set to 0.024897\n",
      "0:\tlearn: 0.9825489\ttotal: 58.1ms\tremaining: 58s\n",
      "1:\tlearn: 0.9724713\ttotal: 58.8ms\tremaining: 29.3s\n",
      "2:\tlearn: 0.9618552\ttotal: 59.4ms\tremaining: 19.7s\n",
      "3:\tlearn: 0.9524466\ttotal: 60.1ms\tremaining: 15s\n",
      "4:\tlearn: 0.9427011\ttotal: 60.6ms\tremaining: 12.1s\n",
      "5:\tlearn: 0.9335979\ttotal: 61.2ms\tremaining: 10.1s\n",
      "6:\tlearn: 0.9238792\ttotal: 61.6ms\tremaining: 8.74s\n",
      "7:\tlearn: 0.9153520\ttotal: 62.2ms\tremaining: 7.71s\n",
      "8:\tlearn: 0.9058471\ttotal: 62.7ms\tremaining: 6.9s\n",
      "9:\tlearn: 0.8971912\ttotal: 63.2ms\tremaining: 6.25s\n",
      "10:\tlearn: 0.8869906\ttotal: 63.7ms\tremaining: 5.72s\n",
      "11:\tlearn: 0.8779394\ttotal: 64.1ms\tremaining: 5.28s\n",
      "12:\tlearn: 0.8690777\ttotal: 64.7ms\tremaining: 4.91s\n",
      "13:\tlearn: 0.8582549\ttotal: 65.3ms\tremaining: 4.6s\n",
      "14:\tlearn: 0.8514923\ttotal: 66ms\tremaining: 4.33s\n",
      "15:\tlearn: 0.8431329\ttotal: 66.7ms\tremaining: 4.1s\n",
      "16:\tlearn: 0.8335732\ttotal: 67.4ms\tremaining: 3.9s\n",
      "17:\tlearn: 0.8256718\ttotal: 68ms\tremaining: 3.71s\n",
      "18:\tlearn: 0.8172822\ttotal: 68.5ms\tremaining: 3.54s\n",
      "19:\tlearn: 0.8085738\ttotal: 68.9ms\tremaining: 3.38s\n",
      "20:\tlearn: 0.8003216\ttotal: 69.5ms\tremaining: 3.24s\n",
      "21:\tlearn: 0.7921148\ttotal: 69.9ms\tremaining: 3.11s\n",
      "22:\tlearn: 0.7848778\ttotal: 70.5ms\tremaining: 2.99s\n",
      "23:\tlearn: 0.7764548\ttotal: 70.8ms\tremaining: 2.88s\n",
      "24:\tlearn: 0.7686559\ttotal: 71.3ms\tremaining: 2.78s\n",
      "25:\tlearn: 0.7622258\ttotal: 71.9ms\tremaining: 2.69s\n",
      "26:\tlearn: 0.7553602\ttotal: 72.4ms\tremaining: 2.61s\n",
      "27:\tlearn: 0.7484469\ttotal: 72.9ms\tremaining: 2.53s\n",
      "28:\tlearn: 0.7402214\ttotal: 73.3ms\tremaining: 2.45s\n",
      "29:\tlearn: 0.7343955\ttotal: 73.8ms\tremaining: 2.38s\n",
      "30:\tlearn: 0.7271949\ttotal: 74.2ms\tremaining: 2.32s\n",
      "31:\tlearn: 0.7202378\ttotal: 74.5ms\tremaining: 2.25s\n",
      "32:\tlearn: 0.7131791\ttotal: 74.9ms\tremaining: 2.19s\n",
      "33:\tlearn: 0.7068121\ttotal: 75.5ms\tremaining: 2.14s\n",
      "34:\tlearn: 0.6998967\ttotal: 76ms\tremaining: 2.09s\n",
      "35:\tlearn: 0.6934692\ttotal: 76.4ms\tremaining: 2.04s\n",
      "36:\tlearn: 0.6862501\ttotal: 76.8ms\tremaining: 2s\n",
      "37:\tlearn: 0.6809718\ttotal: 77.3ms\tremaining: 1.96s\n",
      "38:\tlearn: 0.6748417\ttotal: 77.8ms\tremaining: 1.92s\n",
      "39:\tlearn: 0.6690646\ttotal: 78.2ms\tremaining: 1.88s\n",
      "40:\tlearn: 0.6626239\ttotal: 78.7ms\tremaining: 1.84s\n",
      "41:\tlearn: 0.6570345\ttotal: 79.1ms\tremaining: 1.8s\n",
      "42:\tlearn: 0.6511806\ttotal: 79.4ms\tremaining: 1.77s\n",
      "43:\tlearn: 0.6450986\ttotal: 79.8ms\tremaining: 1.73s\n",
      "44:\tlearn: 0.6399698\ttotal: 80.3ms\tremaining: 1.7s\n",
      "45:\tlearn: 0.6333134\ttotal: 80.7ms\tremaining: 1.67s\n",
      "46:\tlearn: 0.6278513\ttotal: 81.4ms\tremaining: 1.65s\n",
      "47:\tlearn: 0.6215797\ttotal: 81.9ms\tremaining: 1.62s\n",
      "48:\tlearn: 0.6164244\ttotal: 82.4ms\tremaining: 1.6s\n",
      "49:\tlearn: 0.6110944\ttotal: 83ms\tremaining: 1.58s\n",
      "50:\tlearn: 0.6053951\ttotal: 83.4ms\tremaining: 1.55s\n",
      "51:\tlearn: 0.5992008\ttotal: 83.9ms\tremaining: 1.53s\n",
      "52:\tlearn: 0.5935621\ttotal: 84.4ms\tremaining: 1.51s\n",
      "53:\tlearn: 0.5890662\ttotal: 85ms\tremaining: 1.49s\n",
      "54:\tlearn: 0.5834279\ttotal: 85.5ms\tremaining: 1.47s\n",
      "55:\tlearn: 0.5777988\ttotal: 85.9ms\tremaining: 1.45s\n",
      "56:\tlearn: 0.5721723\ttotal: 86.3ms\tremaining: 1.43s\n",
      "57:\tlearn: 0.5661442\ttotal: 86.8ms\tremaining: 1.41s\n",
      "58:\tlearn: 0.5618741\ttotal: 87.3ms\tremaining: 1.39s\n",
      "59:\tlearn: 0.5571809\ttotal: 87.8ms\tremaining: 1.38s\n",
      "60:\tlearn: 0.5514894\ttotal: 88.2ms\tremaining: 1.36s\n",
      "61:\tlearn: 0.5463174\ttotal: 88.7ms\tremaining: 1.34s\n",
      "62:\tlearn: 0.5414584\ttotal: 89.2ms\tremaining: 1.33s\n",
      "63:\tlearn: 0.5369233\ttotal: 89.7ms\tremaining: 1.31s\n",
      "64:\tlearn: 0.5323122\ttotal: 90.1ms\tremaining: 1.3s\n",
      "65:\tlearn: 0.5279309\ttotal: 90.8ms\tremaining: 1.28s\n",
      "66:\tlearn: 0.5227684\ttotal: 91.4ms\tremaining: 1.27s\n",
      "67:\tlearn: 0.5181639\ttotal: 91.9ms\tremaining: 1.26s\n",
      "68:\tlearn: 0.5130532\ttotal: 92.5ms\tremaining: 1.25s\n",
      "69:\tlearn: 0.5079881\ttotal: 93ms\tremaining: 1.24s\n",
      "70:\tlearn: 0.5040529\ttotal: 93.5ms\tremaining: 1.22s\n",
      "71:\tlearn: 0.5004631\ttotal: 94ms\tremaining: 1.21s\n",
      "72:\tlearn: 0.4956705\ttotal: 94.5ms\tremaining: 1.2s\n",
      "73:\tlearn: 0.4910842\ttotal: 95.1ms\tremaining: 1.19s\n",
      "74:\tlearn: 0.4866599\ttotal: 95.8ms\tremaining: 1.18s\n",
      "75:\tlearn: 0.4829165\ttotal: 96.3ms\tremaining: 1.17s\n",
      "76:\tlearn: 0.4790294\ttotal: 97ms\tremaining: 1.16s\n",
      "77:\tlearn: 0.4751636\ttotal: 97.7ms\tremaining: 1.15s\n",
      "78:\tlearn: 0.4715615\ttotal: 98.5ms\tremaining: 1.15s\n",
      "79:\tlearn: 0.4672279\ttotal: 99ms\tremaining: 1.14s\n",
      "80:\tlearn: 0.4632773\ttotal: 99.6ms\tremaining: 1.13s\n",
      "81:\tlearn: 0.4597053\ttotal: 100ms\tremaining: 1.12s\n",
      "82:\tlearn: 0.4552236\ttotal: 100ms\tremaining: 1.11s\n",
      "83:\tlearn: 0.4510416\ttotal: 101ms\tremaining: 1.1s\n",
      "84:\tlearn: 0.4463567\ttotal: 101ms\tremaining: 1.09s\n",
      "85:\tlearn: 0.4430449\ttotal: 102ms\tremaining: 1.08s\n",
      "86:\tlearn: 0.4398788\ttotal: 102ms\tremaining: 1.07s\n",
      "87:\tlearn: 0.4361821\ttotal: 103ms\tremaining: 1.06s\n",
      "88:\tlearn: 0.4317813\ttotal: 103ms\tremaining: 1.06s\n",
      "89:\tlearn: 0.4285913\ttotal: 104ms\tremaining: 1.05s\n"
     ]
    },
    {
     "name": "stdout",
     "output_type": "stream",
     "text": [
      "90:\tlearn: 0.4248450\ttotal: 104ms\tremaining: 1.04s\n",
      "91:\tlearn: 0.4216303\ttotal: 105ms\tremaining: 1.03s\n",
      "92:\tlearn: 0.4178939\ttotal: 105ms\tremaining: 1.03s\n",
      "93:\tlearn: 0.4136421\ttotal: 106ms\tremaining: 1.02s\n",
      "94:\tlearn: 0.4109527\ttotal: 106ms\tremaining: 1.01s\n",
      "95:\tlearn: 0.4074028\ttotal: 107ms\tremaining: 1s\n",
      "96:\tlearn: 0.4041336\ttotal: 107ms\tremaining: 997ms\n",
      "97:\tlearn: 0.4011189\ttotal: 108ms\tremaining: 991ms\n",
      "98:\tlearn: 0.3977846\ttotal: 108ms\tremaining: 983ms\n",
      "99:\tlearn: 0.3939133\ttotal: 109ms\tremaining: 977ms\n",
      "100:\tlearn: 0.3903107\ttotal: 109ms\tremaining: 969ms\n",
      "101:\tlearn: 0.3876029\ttotal: 109ms\tremaining: 962ms\n",
      "102:\tlearn: 0.3849279\ttotal: 110ms\tremaining: 956ms\n",
      "103:\tlearn: 0.3820088\ttotal: 110ms\tremaining: 949ms\n",
      "104:\tlearn: 0.3786101\ttotal: 111ms\tremaining: 944ms\n",
      "105:\tlearn: 0.3760678\ttotal: 111ms\tremaining: 939ms\n",
      "106:\tlearn: 0.3728829\ttotal: 112ms\tremaining: 932ms\n",
      "107:\tlearn: 0.3701944\ttotal: 112ms\tremaining: 925ms\n",
      "108:\tlearn: 0.3675619\ttotal: 113ms\tremaining: 920ms\n",
      "109:\tlearn: 0.3642711\ttotal: 113ms\tremaining: 915ms\n",
      "110:\tlearn: 0.3607002\ttotal: 114ms\tremaining: 910ms\n",
      "111:\tlearn: 0.3578089\ttotal: 114ms\tremaining: 906ms\n",
      "112:\tlearn: 0.3555143\ttotal: 115ms\tremaining: 901ms\n",
      "113:\tlearn: 0.3528864\ttotal: 115ms\tremaining: 896ms\n",
      "114:\tlearn: 0.3499933\ttotal: 116ms\tremaining: 891ms\n",
      "115:\tlearn: 0.3473291\ttotal: 116ms\tremaining: 886ms\n",
      "116:\tlearn: 0.3441576\ttotal: 117ms\tremaining: 881ms\n",
      "117:\tlearn: 0.3411035\ttotal: 117ms\tremaining: 876ms\n",
      "118:\tlearn: 0.3385596\ttotal: 118ms\tremaining: 871ms\n",
      "119:\tlearn: 0.3360112\ttotal: 118ms\tremaining: 866ms\n",
      "120:\tlearn: 0.3329833\ttotal: 119ms\tremaining: 861ms\n",
      "121:\tlearn: 0.3306088\ttotal: 119ms\tremaining: 856ms\n",
      "122:\tlearn: 0.3285439\ttotal: 119ms\tremaining: 852ms\n",
      "123:\tlearn: 0.3253959\ttotal: 120ms\tremaining: 847ms\n",
      "124:\tlearn: 0.3229219\ttotal: 120ms\tremaining: 843ms\n",
      "125:\tlearn: 0.3205233\ttotal: 121ms\tremaining: 838ms\n",
      "126:\tlearn: 0.3179609\ttotal: 121ms\tremaining: 834ms\n",
      "127:\tlearn: 0.3150078\ttotal: 122ms\tremaining: 829ms\n",
      "128:\tlearn: 0.3121959\ttotal: 122ms\tremaining: 826ms\n",
      "129:\tlearn: 0.3095888\ttotal: 123ms\tremaining: 822ms\n",
      "130:\tlearn: 0.3073987\ttotal: 123ms\tremaining: 818ms\n",
      "131:\tlearn: 0.3048960\ttotal: 124ms\tremaining: 813ms\n",
      "132:\tlearn: 0.3025642\ttotal: 124ms\tremaining: 809ms\n",
      "133:\tlearn: 0.3001921\ttotal: 125ms\tremaining: 806ms\n",
      "134:\tlearn: 0.2977210\ttotal: 125ms\tremaining: 802ms\n",
      "135:\tlearn: 0.2955698\ttotal: 126ms\tremaining: 798ms\n",
      "136:\tlearn: 0.2935119\ttotal: 126ms\tremaining: 795ms\n",
      "137:\tlearn: 0.2911131\ttotal: 127ms\tremaining: 792ms\n",
      "138:\tlearn: 0.2888923\ttotal: 128ms\tremaining: 790ms\n",
      "139:\tlearn: 0.2872098\ttotal: 128ms\tremaining: 788ms\n",
      "140:\tlearn: 0.2849964\ttotal: 129ms\tremaining: 785ms\n",
      "141:\tlearn: 0.2829917\ttotal: 129ms\tremaining: 782ms\n",
      "142:\tlearn: 0.2808380\ttotal: 130ms\tremaining: 778ms\n",
      "143:\tlearn: 0.2787301\ttotal: 130ms\tremaining: 775ms\n",
      "144:\tlearn: 0.2768576\ttotal: 131ms\tremaining: 771ms\n",
      "145:\tlearn: 0.2749784\ttotal: 131ms\tremaining: 768ms\n",
      "146:\tlearn: 0.2729086\ttotal: 132ms\tremaining: 765ms\n",
      "147:\tlearn: 0.2710882\ttotal: 132ms\tremaining: 762ms\n",
      "148:\tlearn: 0.2689202\ttotal: 133ms\tremaining: 758ms\n",
      "149:\tlearn: 0.2671273\ttotal: 133ms\tremaining: 755ms\n",
      "150:\tlearn: 0.2647221\ttotal: 134ms\tremaining: 752ms\n",
      "151:\tlearn: 0.2622210\ttotal: 134ms\tremaining: 749ms\n",
      "152:\tlearn: 0.2599592\ttotal: 135ms\tremaining: 746ms\n",
      "153:\tlearn: 0.2579109\ttotal: 135ms\tremaining: 743ms\n",
      "154:\tlearn: 0.2563183\ttotal: 136ms\tremaining: 739ms\n",
      "155:\tlearn: 0.2549522\ttotal: 136ms\tremaining: 736ms\n",
      "156:\tlearn: 0.2531542\ttotal: 137ms\tremaining: 733ms\n",
      "157:\tlearn: 0.2514677\ttotal: 137ms\tremaining: 730ms\n",
      "158:\tlearn: 0.2496620\ttotal: 138ms\tremaining: 728ms\n",
      "159:\tlearn: 0.2477511\ttotal: 138ms\tremaining: 724ms\n",
      "160:\tlearn: 0.2457575\ttotal: 138ms\tremaining: 721ms\n",
      "161:\tlearn: 0.2436064\ttotal: 139ms\tremaining: 718ms\n",
      "162:\tlearn: 0.2417390\ttotal: 139ms\tremaining: 715ms\n",
      "163:\tlearn: 0.2398016\ttotal: 140ms\tremaining: 712ms\n",
      "164:\tlearn: 0.2378180\ttotal: 141ms\tremaining: 714ms\n",
      "165:\tlearn: 0.2362877\ttotal: 141ms\tremaining: 711ms\n",
      "166:\tlearn: 0.2345273\ttotal: 143ms\tremaining: 712ms\n",
      "167:\tlearn: 0.2329416\ttotal: 143ms\tremaining: 710ms\n",
      "168:\tlearn: 0.2311340\ttotal: 144ms\tremaining: 706ms\n",
      "169:\tlearn: 0.2294327\ttotal: 144ms\tremaining: 704ms\n",
      "170:\tlearn: 0.2279557\ttotal: 145ms\tremaining: 702ms\n",
      "171:\tlearn: 0.2260916\ttotal: 145ms\tremaining: 700ms\n",
      "172:\tlearn: 0.2245574\ttotal: 146ms\tremaining: 698ms\n",
      "173:\tlearn: 0.2230864\ttotal: 146ms\tremaining: 695ms\n",
      "174:\tlearn: 0.2215895\ttotal: 147ms\tremaining: 692ms\n",
      "175:\tlearn: 0.2199133\ttotal: 147ms\tremaining: 690ms\n",
      "176:\tlearn: 0.2184819\ttotal: 148ms\tremaining: 687ms\n",
      "177:\tlearn: 0.2168187\ttotal: 148ms\tremaining: 684ms\n",
      "178:\tlearn: 0.2154487\ttotal: 149ms\tremaining: 682ms\n",
      "179:\tlearn: 0.2136339\ttotal: 149ms\tremaining: 679ms\n",
      "180:\tlearn: 0.2120051\ttotal: 150ms\tremaining: 677ms\n",
      "181:\tlearn: 0.2106921\ttotal: 150ms\tremaining: 674ms\n",
      "182:\tlearn: 0.2091220\ttotal: 150ms\tremaining: 672ms\n",
      "183:\tlearn: 0.2077516\ttotal: 151ms\tremaining: 669ms\n",
      "184:\tlearn: 0.2065178\ttotal: 151ms\tremaining: 667ms\n",
      "185:\tlearn: 0.2050681\ttotal: 152ms\tremaining: 664ms\n",
      "186:\tlearn: 0.2033985\ttotal: 152ms\tremaining: 662ms\n",
      "187:\tlearn: 0.2019065\ttotal: 153ms\tremaining: 659ms\n",
      "188:\tlearn: 0.2003572\ttotal: 153ms\tremaining: 657ms\n",
      "189:\tlearn: 0.1990669\ttotal: 153ms\tremaining: 654ms\n",
      "190:\tlearn: 0.1975237\ttotal: 154ms\tremaining: 652ms\n",
      "191:\tlearn: 0.1957102\ttotal: 154ms\tremaining: 649ms\n",
      "192:\tlearn: 0.1942363\ttotal: 155ms\tremaining: 647ms\n",
      "193:\tlearn: 0.1928479\ttotal: 155ms\tremaining: 645ms\n",
      "194:\tlearn: 0.1914725\ttotal: 156ms\tremaining: 643ms\n",
      "195:\tlearn: 0.1902328\ttotal: 156ms\tremaining: 642ms\n",
      "196:\tlearn: 0.1888933\ttotal: 157ms\tremaining: 640ms\n",
      "197:\tlearn: 0.1877390\ttotal: 158ms\tremaining: 638ms\n",
      "198:\tlearn: 0.1866556\ttotal: 158ms\tremaining: 636ms\n",
      "199:\tlearn: 0.1852103\ttotal: 159ms\tremaining: 636ms\n",
      "200:\tlearn: 0.1838998\ttotal: 160ms\tremaining: 635ms\n",
      "201:\tlearn: 0.1825159\ttotal: 160ms\tremaining: 633ms\n",
      "202:\tlearn: 0.1809589\ttotal: 161ms\tremaining: 631ms\n",
      "203:\tlearn: 0.1797052\ttotal: 161ms\tremaining: 630ms\n",
      "204:\tlearn: 0.1783237\ttotal: 162ms\tremaining: 628ms\n",
      "205:\tlearn: 0.1768481\ttotal: 162ms\tremaining: 626ms\n",
      "206:\tlearn: 0.1756087\ttotal: 163ms\tremaining: 624ms\n",
      "207:\tlearn: 0.1742592\ttotal: 163ms\tremaining: 621ms\n",
      "208:\tlearn: 0.1731302\ttotal: 164ms\tremaining: 620ms\n",
      "209:\tlearn: 0.1718200\ttotal: 164ms\tremaining: 618ms\n",
      "210:\tlearn: 0.1707657\ttotal: 165ms\tremaining: 616ms\n",
      "211:\tlearn: 0.1695421\ttotal: 165ms\tremaining: 614ms\n",
      "212:\tlearn: 0.1681456\ttotal: 166ms\tremaining: 612ms\n",
      "213:\tlearn: 0.1671213\ttotal: 166ms\tremaining: 610ms\n",
      "214:\tlearn: 0.1660417\ttotal: 167ms\tremaining: 608ms\n",
      "215:\tlearn: 0.1649668\ttotal: 167ms\tremaining: 606ms\n",
      "216:\tlearn: 0.1636242\ttotal: 168ms\tremaining: 605ms\n",
      "217:\tlearn: 0.1624568\ttotal: 168ms\tremaining: 603ms\n",
      "218:\tlearn: 0.1613189\ttotal: 168ms\tremaining: 601ms\n",
      "219:\tlearn: 0.1602219\ttotal: 169ms\tremaining: 598ms\n",
      "220:\tlearn: 0.1591077\ttotal: 169ms\tremaining: 596ms\n",
      "221:\tlearn: 0.1578487\ttotal: 170ms\tremaining: 594ms\n",
      "222:\tlearn: 0.1568232\ttotal: 170ms\tremaining: 592ms\n",
      "223:\tlearn: 0.1556924\ttotal: 170ms\tremaining: 591ms\n",
      "224:\tlearn: 0.1544745\ttotal: 171ms\tremaining: 589ms\n",
      "225:\tlearn: 0.1535005\ttotal: 172ms\tremaining: 588ms\n",
      "226:\tlearn: 0.1525306\ttotal: 172ms\tremaining: 586ms\n",
      "227:\tlearn: 0.1516030\ttotal: 174ms\tremaining: 588ms\n",
      "228:\tlearn: 0.1504876\ttotal: 174ms\tremaining: 586ms\n",
      "229:\tlearn: 0.1494435\ttotal: 175ms\tremaining: 585ms\n",
      "230:\tlearn: 0.1485443\ttotal: 175ms\tremaining: 583ms\n",
      "231:\tlearn: 0.1473703\ttotal: 176ms\tremaining: 583ms\n",
      "232:\tlearn: 0.1464428\ttotal: 177ms\tremaining: 581ms\n",
      "233:\tlearn: 0.1454310\ttotal: 177ms\tremaining: 580ms\n",
      "234:\tlearn: 0.1445493\ttotal: 178ms\tremaining: 578ms\n",
      "235:\tlearn: 0.1436096\ttotal: 178ms\tremaining: 576ms\n",
      "236:\tlearn: 0.1426059\ttotal: 179ms\tremaining: 575ms\n",
      "237:\tlearn: 0.1415609\ttotal: 179ms\tremaining: 574ms\n",
      "238:\tlearn: 0.1406059\ttotal: 180ms\tremaining: 572ms\n",
      "239:\tlearn: 0.1394788\ttotal: 180ms\tremaining: 570ms\n",
      "240:\tlearn: 0.1386304\ttotal: 181ms\tremaining: 568ms\n",
      "241:\tlearn: 0.1376069\ttotal: 181ms\tremaining: 566ms\n",
      "242:\tlearn: 0.1366834\ttotal: 181ms\tremaining: 565ms\n",
      "243:\tlearn: 0.1358082\ttotal: 182ms\tremaining: 563ms\n",
      "244:\tlearn: 0.1349161\ttotal: 182ms\tremaining: 561ms\n",
      "245:\tlearn: 0.1338915\ttotal: 183ms\tremaining: 560ms\n",
      "246:\tlearn: 0.1327542\ttotal: 183ms\tremaining: 558ms\n",
      "247:\tlearn: 0.1318026\ttotal: 184ms\tremaining: 556ms\n",
      "248:\tlearn: 0.1308916\ttotal: 184ms\tremaining: 555ms\n",
      "249:\tlearn: 0.1298784\ttotal: 185ms\tremaining: 554ms\n",
      "250:\tlearn: 0.1290181\ttotal: 185ms\tremaining: 552ms\n",
      "251:\tlearn: 0.1282257\ttotal: 186ms\tremaining: 551ms\n",
      "252:\tlearn: 0.1274274\ttotal: 186ms\tremaining: 549ms\n"
     ]
    },
    {
     "name": "stdout",
     "output_type": "stream",
     "text": [
      "253:\tlearn: 0.1266169\ttotal: 187ms\tremaining: 549ms\n",
      "254:\tlearn: 0.1257061\ttotal: 188ms\tremaining: 549ms\n",
      "255:\tlearn: 0.1250375\ttotal: 188ms\tremaining: 548ms\n",
      "256:\tlearn: 0.1242408\ttotal: 189ms\tremaining: 546ms\n",
      "257:\tlearn: 0.1236116\ttotal: 190ms\tremaining: 546ms\n",
      "258:\tlearn: 0.1227151\ttotal: 190ms\tremaining: 544ms\n",
      "259:\tlearn: 0.1220222\ttotal: 191ms\tremaining: 543ms\n",
      "260:\tlearn: 0.1211384\ttotal: 191ms\tremaining: 542ms\n",
      "261:\tlearn: 0.1203433\ttotal: 192ms\tremaining: 540ms\n",
      "262:\tlearn: 0.1195123\ttotal: 192ms\tremaining: 539ms\n",
      "263:\tlearn: 0.1187847\ttotal: 193ms\tremaining: 537ms\n",
      "264:\tlearn: 0.1178133\ttotal: 193ms\tremaining: 535ms\n",
      "265:\tlearn: 0.1169636\ttotal: 194ms\tremaining: 534ms\n",
      "266:\tlearn: 0.1160737\ttotal: 194ms\tremaining: 533ms\n",
      "267:\tlearn: 0.1153164\ttotal: 195ms\tremaining: 532ms\n",
      "268:\tlearn: 0.1145209\ttotal: 195ms\tremaining: 531ms\n",
      "269:\tlearn: 0.1137614\ttotal: 196ms\tremaining: 529ms\n",
      "270:\tlearn: 0.1129610\ttotal: 196ms\tremaining: 528ms\n",
      "271:\tlearn: 0.1122753\ttotal: 197ms\tremaining: 526ms\n",
      "272:\tlearn: 0.1115912\ttotal: 197ms\tremaining: 524ms\n",
      "273:\tlearn: 0.1108586\ttotal: 197ms\tremaining: 523ms\n",
      "274:\tlearn: 0.1101357\ttotal: 198ms\tremaining: 522ms\n",
      "275:\tlearn: 0.1093676\ttotal: 198ms\tremaining: 520ms\n",
      "276:\tlearn: 0.1085830\ttotal: 199ms\tremaining: 519ms\n",
      "277:\tlearn: 0.1079330\ttotal: 199ms\tremaining: 518ms\n",
      "278:\tlearn: 0.1073945\ttotal: 200ms\tremaining: 516ms\n",
      "279:\tlearn: 0.1066876\ttotal: 200ms\tremaining: 515ms\n",
      "280:\tlearn: 0.1059720\ttotal: 201ms\tremaining: 513ms\n",
      "281:\tlearn: 0.1053354\ttotal: 201ms\tremaining: 512ms\n",
      "282:\tlearn: 0.1047200\ttotal: 202ms\tremaining: 511ms\n",
      "283:\tlearn: 0.1039510\ttotal: 202ms\tremaining: 510ms\n",
      "284:\tlearn: 0.1033245\ttotal: 203ms\tremaining: 509ms\n",
      "285:\tlearn: 0.1024864\ttotal: 203ms\tremaining: 508ms\n",
      "286:\tlearn: 0.1017831\ttotal: 204ms\tremaining: 507ms\n",
      "287:\tlearn: 0.1012528\ttotal: 204ms\tremaining: 506ms\n",
      "288:\tlearn: 0.1007297\ttotal: 205ms\tremaining: 504ms\n",
      "289:\tlearn: 0.1001683\ttotal: 206ms\tremaining: 503ms\n",
      "290:\tlearn: 0.0995976\ttotal: 206ms\tremaining: 502ms\n",
      "291:\tlearn: 0.0990684\ttotal: 207ms\tremaining: 501ms\n",
      "292:\tlearn: 0.0984530\ttotal: 207ms\tremaining: 500ms\n",
      "293:\tlearn: 0.0976790\ttotal: 208ms\tremaining: 499ms\n",
      "294:\tlearn: 0.0967747\ttotal: 208ms\tremaining: 498ms\n",
      "295:\tlearn: 0.0960112\ttotal: 209ms\tremaining: 496ms\n",
      "296:\tlearn: 0.0952142\ttotal: 209ms\tremaining: 495ms\n",
      "297:\tlearn: 0.0945966\ttotal: 209ms\tremaining: 494ms\n",
      "298:\tlearn: 0.0939280\ttotal: 210ms\tremaining: 492ms\n",
      "299:\tlearn: 0.0934096\ttotal: 210ms\tremaining: 491ms\n",
      "300:\tlearn: 0.0927960\ttotal: 211ms\tremaining: 490ms\n",
      "301:\tlearn: 0.0922465\ttotal: 211ms\tremaining: 489ms\n",
      "302:\tlearn: 0.0917131\ttotal: 212ms\tremaining: 487ms\n",
      "303:\tlearn: 0.0912226\ttotal: 212ms\tremaining: 486ms\n",
      "304:\tlearn: 0.0903935\ttotal: 213ms\tremaining: 485ms\n",
      "305:\tlearn: 0.0896693\ttotal: 213ms\tremaining: 484ms\n",
      "306:\tlearn: 0.0891166\ttotal: 214ms\tremaining: 483ms\n",
      "307:\tlearn: 0.0885448\ttotal: 214ms\tremaining: 482ms\n",
      "308:\tlearn: 0.0881280\ttotal: 215ms\tremaining: 480ms\n",
      "309:\tlearn: 0.0876892\ttotal: 215ms\tremaining: 479ms\n",
      "310:\tlearn: 0.0869038\ttotal: 216ms\tremaining: 478ms\n",
      "311:\tlearn: 0.0862881\ttotal: 216ms\tremaining: 477ms\n",
      "312:\tlearn: 0.0857964\ttotal: 217ms\tremaining: 476ms\n",
      "313:\tlearn: 0.0852560\ttotal: 217ms\tremaining: 475ms\n",
      "314:\tlearn: 0.0846955\ttotal: 218ms\tremaining: 474ms\n",
      "315:\tlearn: 0.0841921\ttotal: 219ms\tremaining: 473ms\n",
      "316:\tlearn: 0.0836406\ttotal: 219ms\tremaining: 472ms\n",
      "317:\tlearn: 0.0829974\ttotal: 220ms\tremaining: 471ms\n",
      "318:\tlearn: 0.0824133\ttotal: 220ms\tremaining: 470ms\n",
      "319:\tlearn: 0.0819294\ttotal: 221ms\tremaining: 469ms\n",
      "320:\tlearn: 0.0814638\ttotal: 222ms\tremaining: 469ms\n",
      "321:\tlearn: 0.0809901\ttotal: 222ms\tremaining: 468ms\n",
      "322:\tlearn: 0.0804618\ttotal: 223ms\tremaining: 467ms\n",
      "323:\tlearn: 0.0799685\ttotal: 223ms\tremaining: 466ms\n",
      "324:\tlearn: 0.0795895\ttotal: 224ms\tremaining: 465ms\n",
      "325:\tlearn: 0.0790893\ttotal: 224ms\tremaining: 463ms\n",
      "326:\tlearn: 0.0785520\ttotal: 225ms\tremaining: 462ms\n",
      "327:\tlearn: 0.0781175\ttotal: 225ms\tremaining: 461ms\n",
      "328:\tlearn: 0.0776265\ttotal: 226ms\tremaining: 460ms\n",
      "329:\tlearn: 0.0771518\ttotal: 226ms\tremaining: 459ms\n",
      "330:\tlearn: 0.0766754\ttotal: 227ms\tremaining: 458ms\n",
      "331:\tlearn: 0.0761991\ttotal: 227ms\tremaining: 457ms\n",
      "332:\tlearn: 0.0757339\ttotal: 228ms\tremaining: 456ms\n",
      "333:\tlearn: 0.0752990\ttotal: 228ms\tremaining: 455ms\n",
      "334:\tlearn: 0.0750031\ttotal: 228ms\tremaining: 453ms\n",
      "335:\tlearn: 0.0745515\ttotal: 229ms\tremaining: 452ms\n",
      "336:\tlearn: 0.0741034\ttotal: 229ms\tremaining: 451ms\n",
      "337:\tlearn: 0.0736569\ttotal: 230ms\tremaining: 450ms\n",
      "338:\tlearn: 0.0732103\ttotal: 230ms\tremaining: 449ms\n",
      "339:\tlearn: 0.0727016\ttotal: 231ms\tremaining: 448ms\n",
      "340:\tlearn: 0.0722735\ttotal: 231ms\tremaining: 447ms\n",
      "341:\tlearn: 0.0719593\ttotal: 232ms\tremaining: 446ms\n",
      "342:\tlearn: 0.0714168\ttotal: 232ms\tremaining: 445ms\n",
      "343:\tlearn: 0.0709939\ttotal: 233ms\tremaining: 444ms\n",
      "344:\tlearn: 0.0705772\ttotal: 233ms\tremaining: 443ms\n",
      "345:\tlearn: 0.0701604\ttotal: 233ms\tremaining: 441ms\n",
      "346:\tlearn: 0.0697533\ttotal: 234ms\tremaining: 441ms\n",
      "347:\tlearn: 0.0693441\ttotal: 235ms\tremaining: 440ms\n",
      "348:\tlearn: 0.0689464\ttotal: 235ms\tremaining: 439ms\n",
      "349:\tlearn: 0.0685493\ttotal: 236ms\tremaining: 438ms\n",
      "350:\tlearn: 0.0681534\ttotal: 236ms\tremaining: 437ms\n",
      "351:\tlearn: 0.0677600\ttotal: 237ms\tremaining: 436ms\n",
      "352:\tlearn: 0.0673753\ttotal: 237ms\tremaining: 435ms\n",
      "353:\tlearn: 0.0669931\ttotal: 238ms\tremaining: 434ms\n",
      "354:\tlearn: 0.0666221\ttotal: 238ms\tremaining: 433ms\n",
      "355:\tlearn: 0.0662501\ttotal: 239ms\tremaining: 432ms\n",
      "356:\tlearn: 0.0658900\ttotal: 239ms\tremaining: 431ms\n",
      "357:\tlearn: 0.0655142\ttotal: 240ms\tremaining: 430ms\n",
      "358:\tlearn: 0.0652326\ttotal: 240ms\tremaining: 429ms\n",
      "359:\tlearn: 0.0648649\ttotal: 241ms\tremaining: 428ms\n",
      "360:\tlearn: 0.0644996\ttotal: 241ms\tremaining: 426ms\n",
      "361:\tlearn: 0.0640018\ttotal: 241ms\tremaining: 426ms\n",
      "362:\tlearn: 0.0637618\ttotal: 242ms\tremaining: 425ms\n",
      "363:\tlearn: 0.0634079\ttotal: 242ms\tremaining: 424ms\n",
      "364:\tlearn: 0.0630586\ttotal: 243ms\tremaining: 423ms\n",
      "365:\tlearn: 0.0627142\ttotal: 243ms\tremaining: 422ms\n",
      "366:\tlearn: 0.0623702\ttotal: 244ms\tremaining: 422ms\n",
      "367:\tlearn: 0.0620480\ttotal: 245ms\tremaining: 421ms\n",
      "368:\tlearn: 0.0617097\ttotal: 245ms\tremaining: 420ms\n",
      "369:\tlearn: 0.0613754\ttotal: 246ms\tremaining: 419ms\n",
      "370:\tlearn: 0.0610465\ttotal: 246ms\tremaining: 418ms\n",
      "371:\tlearn: 0.0607190\ttotal: 247ms\tremaining: 417ms\n",
      "372:\tlearn: 0.0603932\ttotal: 248ms\tremaining: 416ms\n",
      "373:\tlearn: 0.0600254\ttotal: 248ms\tremaining: 415ms\n",
      "374:\tlearn: 0.0597936\ttotal: 249ms\tremaining: 414ms\n",
      "375:\tlearn: 0.0594774\ttotal: 249ms\tremaining: 413ms\n",
      "376:\tlearn: 0.0591647\ttotal: 250ms\tremaining: 412ms\n",
      "377:\tlearn: 0.0588515\ttotal: 250ms\tremaining: 412ms\n",
      "378:\tlearn: 0.0585580\ttotal: 251ms\tremaining: 411ms\n",
      "379:\tlearn: 0.0583350\ttotal: 254ms\tremaining: 415ms\n",
      "380:\tlearn: 0.0580314\ttotal: 256ms\tremaining: 416ms\n",
      "381:\tlearn: 0.0577335\ttotal: 256ms\tremaining: 415ms\n",
      "382:\tlearn: 0.0573612\ttotal: 258ms\tremaining: 415ms\n",
      "383:\tlearn: 0.0570665\ttotal: 258ms\tremaining: 415ms\n",
      "384:\tlearn: 0.0567721\ttotal: 259ms\tremaining: 413ms\n",
      "385:\tlearn: 0.0564790\ttotal: 259ms\tremaining: 412ms\n",
      "386:\tlearn: 0.0561900\ttotal: 259ms\tremaining: 411ms\n",
      "387:\tlearn: 0.0559024\ttotal: 260ms\tremaining: 410ms\n",
      "388:\tlearn: 0.0556272\ttotal: 260ms\tremaining: 409ms\n",
      "389:\tlearn: 0.0552671\ttotal: 260ms\tremaining: 407ms\n",
      "390:\tlearn: 0.0549884\ttotal: 261ms\tremaining: 406ms\n",
      "391:\tlearn: 0.0546369\ttotal: 261ms\tremaining: 405ms\n",
      "392:\tlearn: 0.0543198\ttotal: 263ms\tremaining: 406ms\n",
      "393:\tlearn: 0.0540631\ttotal: 263ms\tremaining: 405ms\n",
      "394:\tlearn: 0.0537988\ttotal: 264ms\tremaining: 404ms\n",
      "395:\tlearn: 0.0534367\ttotal: 265ms\tremaining: 404ms\n",
      "396:\tlearn: 0.0530815\ttotal: 266ms\tremaining: 404ms\n",
      "397:\tlearn: 0.0529047\ttotal: 267ms\tremaining: 404ms\n",
      "398:\tlearn: 0.0525728\ttotal: 268ms\tremaining: 403ms\n",
      "399:\tlearn: 0.0523286\ttotal: 269ms\tremaining: 403ms\n",
      "400:\tlearn: 0.0521007\ttotal: 269ms\tremaining: 402ms\n",
      "401:\tlearn: 0.0517630\ttotal: 270ms\tremaining: 401ms\n",
      "402:\tlearn: 0.0514461\ttotal: 270ms\tremaining: 400ms\n",
      "403:\tlearn: 0.0511349\ttotal: 271ms\tremaining: 400ms\n",
      "404:\tlearn: 0.0507830\ttotal: 272ms\tremaining: 400ms\n",
      "405:\tlearn: 0.0505885\ttotal: 273ms\tremaining: 399ms\n",
      "406:\tlearn: 0.0503978\ttotal: 273ms\tremaining: 398ms\n",
      "407:\tlearn: 0.0501709\ttotal: 274ms\tremaining: 398ms\n",
      "408:\tlearn: 0.0500147\ttotal: 275ms\tremaining: 398ms\n",
      "409:\tlearn: 0.0498051\ttotal: 276ms\tremaining: 397ms\n",
      "410:\tlearn: 0.0496244\ttotal: 276ms\tremaining: 396ms\n",
      "411:\tlearn: 0.0493497\ttotal: 277ms\tremaining: 395ms\n",
      "412:\tlearn: 0.0491352\ttotal: 277ms\tremaining: 394ms\n",
      "413:\tlearn: 0.0489612\ttotal: 278ms\tremaining: 393ms\n",
      "414:\tlearn: 0.0487302\ttotal: 278ms\tremaining: 392ms\n",
      "415:\tlearn: 0.0485592\ttotal: 279ms\tremaining: 391ms\n",
      "416:\tlearn: 0.0482965\ttotal: 279ms\tremaining: 390ms\n",
      "417:\tlearn: 0.0480723\ttotal: 279ms\tremaining: 389ms\n",
      "418:\tlearn: 0.0479233\ttotal: 280ms\tremaining: 388ms\n",
      "419:\tlearn: 0.0477203\ttotal: 281ms\tremaining: 387ms\n",
      "420:\tlearn: 0.0475567\ttotal: 281ms\tremaining: 386ms\n",
      "421:\tlearn: 0.0473032\ttotal: 281ms\tremaining: 385ms\n"
     ]
    },
    {
     "name": "stdout",
     "output_type": "stream",
     "text": [
      "422:\tlearn: 0.0470546\ttotal: 282ms\tremaining: 385ms\n",
      "423:\tlearn: 0.0467755\ttotal: 283ms\tremaining: 384ms\n",
      "424:\tlearn: 0.0464519\ttotal: 283ms\tremaining: 383ms\n",
      "425:\tlearn: 0.0463171\ttotal: 284ms\tremaining: 382ms\n",
      "426:\tlearn: 0.0460797\ttotal: 284ms\tremaining: 382ms\n",
      "427:\tlearn: 0.0457987\ttotal: 285ms\tremaining: 381ms\n",
      "428:\tlearn: 0.0455354\ttotal: 285ms\tremaining: 380ms\n",
      "429:\tlearn: 0.0452275\ttotal: 286ms\tremaining: 379ms\n",
      "430:\tlearn: 0.0450731\ttotal: 286ms\tremaining: 378ms\n",
      "431:\tlearn: 0.0449238\ttotal: 287ms\tremaining: 377ms\n",
      "432:\tlearn: 0.0447467\ttotal: 287ms\tremaining: 376ms\n",
      "433:\tlearn: 0.0445213\ttotal: 288ms\tremaining: 375ms\n",
      "434:\tlearn: 0.0442704\ttotal: 288ms\tremaining: 374ms\n",
      "435:\tlearn: 0.0439755\ttotal: 289ms\tremaining: 373ms\n",
      "436:\tlearn: 0.0438014\ttotal: 289ms\tremaining: 373ms\n",
      "437:\tlearn: 0.0435127\ttotal: 290ms\tremaining: 372ms\n",
      "438:\tlearn: 0.0433352\ttotal: 290ms\tremaining: 371ms\n",
      "439:\tlearn: 0.0431605\ttotal: 291ms\tremaining: 370ms\n",
      "440:\tlearn: 0.0429900\ttotal: 291ms\tremaining: 369ms\n",
      "441:\tlearn: 0.0427408\ttotal: 292ms\tremaining: 368ms\n",
      "442:\tlearn: 0.0425763\ttotal: 292ms\tremaining: 367ms\n",
      "443:\tlearn: 0.0422982\ttotal: 293ms\tremaining: 366ms\n",
      "444:\tlearn: 0.0420293\ttotal: 293ms\tremaining: 366ms\n",
      "445:\tlearn: 0.0418955\ttotal: 294ms\tremaining: 365ms\n",
      "446:\tlearn: 0.0417778\ttotal: 294ms\tremaining: 364ms\n",
      "447:\tlearn: 0.0416160\ttotal: 294ms\tremaining: 363ms\n",
      "448:\tlearn: 0.0414575\ttotal: 295ms\tremaining: 362ms\n",
      "449:\tlearn: 0.0412787\ttotal: 295ms\tremaining: 361ms\n",
      "450:\tlearn: 0.0411132\ttotal: 296ms\tremaining: 360ms\n",
      "451:\tlearn: 0.0409515\ttotal: 296ms\tremaining: 359ms\n",
      "452:\tlearn: 0.0407829\ttotal: 296ms\tremaining: 358ms\n",
      "453:\tlearn: 0.0405832\ttotal: 297ms\tremaining: 357ms\n",
      "454:\tlearn: 0.0403874\ttotal: 297ms\tremaining: 356ms\n",
      "455:\tlearn: 0.0401654\ttotal: 298ms\tremaining: 355ms\n",
      "456:\tlearn: 0.0399937\ttotal: 298ms\tremaining: 354ms\n",
      "457:\tlearn: 0.0398598\ttotal: 299ms\tremaining: 354ms\n",
      "458:\tlearn: 0.0397340\ttotal: 299ms\tremaining: 353ms\n",
      "459:\tlearn: 0.0395672\ttotal: 300ms\tremaining: 352ms\n",
      "460:\tlearn: 0.0394386\ttotal: 300ms\tremaining: 351ms\n",
      "461:\tlearn: 0.0393327\ttotal: 301ms\tremaining: 350ms\n",
      "462:\tlearn: 0.0391705\ttotal: 301ms\tremaining: 349ms\n",
      "463:\tlearn: 0.0390505\ttotal: 302ms\tremaining: 349ms\n",
      "464:\tlearn: 0.0388978\ttotal: 302ms\tremaining: 348ms\n",
      "465:\tlearn: 0.0387404\ttotal: 303ms\tremaining: 347ms\n",
      "466:\tlearn: 0.0386195\ttotal: 303ms\tremaining: 346ms\n",
      "467:\tlearn: 0.0384886\ttotal: 304ms\tremaining: 346ms\n",
      "468:\tlearn: 0.0383740\ttotal: 305ms\tremaining: 345ms\n",
      "469:\tlearn: 0.0382218\ttotal: 306ms\tremaining: 345ms\n",
      "470:\tlearn: 0.0381058\ttotal: 306ms\tremaining: 344ms\n",
      "471:\tlearn: 0.0379758\ttotal: 307ms\tremaining: 343ms\n",
      "472:\tlearn: 0.0378342\ttotal: 307ms\tremaining: 342ms\n",
      "473:\tlearn: 0.0376866\ttotal: 308ms\tremaining: 341ms\n",
      "474:\tlearn: 0.0375781\ttotal: 308ms\tremaining: 341ms\n",
      "475:\tlearn: 0.0374343\ttotal: 309ms\tremaining: 340ms\n",
      "476:\tlearn: 0.0373247\ttotal: 309ms\tremaining: 339ms\n",
      "477:\tlearn: 0.0371876\ttotal: 310ms\tremaining: 338ms\n",
      "478:\tlearn: 0.0370919\ttotal: 310ms\tremaining: 337ms\n",
      "479:\tlearn: 0.0369521\ttotal: 311ms\tremaining: 336ms\n",
      "480:\tlearn: 0.0368584\ttotal: 311ms\tremaining: 336ms\n",
      "481:\tlearn: 0.0367665\ttotal: 312ms\tremaining: 335ms\n",
      "482:\tlearn: 0.0366300\ttotal: 312ms\tremaining: 334ms\n",
      "483:\tlearn: 0.0364639\ttotal: 313ms\tremaining: 333ms\n",
      "484:\tlearn: 0.0363732\ttotal: 313ms\tremaining: 333ms\n",
      "485:\tlearn: 0.0361956\ttotal: 314ms\tremaining: 332ms\n",
      "486:\tlearn: 0.0360639\ttotal: 314ms\tremaining: 331ms\n",
      "487:\tlearn: 0.0359760\ttotal: 315ms\tremaining: 330ms\n",
      "488:\tlearn: 0.0358001\ttotal: 315ms\tremaining: 329ms\n",
      "489:\tlearn: 0.0356306\ttotal: 316ms\tremaining: 329ms\n",
      "490:\tlearn: 0.0354566\ttotal: 316ms\tremaining: 328ms\n",
      "491:\tlearn: 0.0352943\ttotal: 317ms\tremaining: 327ms\n",
      "492:\tlearn: 0.0351754\ttotal: 317ms\tremaining: 326ms\n",
      "493:\tlearn: 0.0350171\ttotal: 318ms\tremaining: 326ms\n",
      "494:\tlearn: 0.0349000\ttotal: 318ms\tremaining: 325ms\n",
      "495:\tlearn: 0.0347922\ttotal: 319ms\tremaining: 324ms\n",
      "496:\tlearn: 0.0346383\ttotal: 320ms\tremaining: 323ms\n",
      "497:\tlearn: 0.0344842\ttotal: 320ms\tremaining: 323ms\n",
      "498:\tlearn: 0.0343799\ttotal: 321ms\tremaining: 322ms\n",
      "499:\tlearn: 0.0342163\ttotal: 321ms\tremaining: 321ms\n",
      "500:\tlearn: 0.0340903\ttotal: 322ms\tremaining: 321ms\n",
      "501:\tlearn: 0.0339764\ttotal: 323ms\tremaining: 320ms\n",
      "502:\tlearn: 0.0338754\ttotal: 323ms\tremaining: 319ms\n",
      "503:\tlearn: 0.0337261\ttotal: 323ms\tremaining: 318ms\n",
      "504:\tlearn: 0.0336219\ttotal: 324ms\tremaining: 317ms\n",
      "505:\tlearn: 0.0334646\ttotal: 324ms\tremaining: 316ms\n",
      "506:\tlearn: 0.0333117\ttotal: 325ms\tremaining: 316ms\n",
      "507:\tlearn: 0.0332596\ttotal: 325ms\tremaining: 315ms\n",
      "508:\tlearn: 0.0331699\ttotal: 326ms\tremaining: 314ms\n",
      "509:\tlearn: 0.0330283\ttotal: 326ms\tremaining: 313ms\n",
      "510:\tlearn: 0.0328788\ttotal: 327ms\tremaining: 312ms\n",
      "511:\tlearn: 0.0328111\ttotal: 327ms\tremaining: 312ms\n",
      "512:\tlearn: 0.0326665\ttotal: 327ms\tremaining: 311ms\n",
      "513:\tlearn: 0.0326167\ttotal: 328ms\tremaining: 310ms\n",
      "514:\tlearn: 0.0325082\ttotal: 328ms\tremaining: 309ms\n",
      "515:\tlearn: 0.0323678\ttotal: 329ms\tremaining: 308ms\n",
      "516:\tlearn: 0.0323192\ttotal: 329ms\tremaining: 308ms\n",
      "517:\tlearn: 0.0322133\ttotal: 330ms\tremaining: 307ms\n",
      "518:\tlearn: 0.0320316\ttotal: 331ms\tremaining: 306ms\n",
      "519:\tlearn: 0.0319671\ttotal: 331ms\tremaining: 306ms\n",
      "520:\tlearn: 0.0318636\ttotal: 331ms\tremaining: 305ms\n",
      "521:\tlearn: 0.0317281\ttotal: 332ms\tremaining: 304ms\n",
      "522:\tlearn: 0.0316179\ttotal: 332ms\tremaining: 303ms\n",
      "523:\tlearn: 0.0314801\ttotal: 333ms\tremaining: 302ms\n",
      "524:\tlearn: 0.0313555\ttotal: 334ms\tremaining: 302ms\n",
      "525:\tlearn: 0.0312839\ttotal: 334ms\tremaining: 301ms\n",
      "526:\tlearn: 0.0311888\ttotal: 335ms\tremaining: 300ms\n",
      "527:\tlearn: 0.0310552\ttotal: 335ms\tremaining: 300ms\n",
      "528:\tlearn: 0.0309593\ttotal: 336ms\tremaining: 299ms\n",
      "529:\tlearn: 0.0308019\ttotal: 337ms\tremaining: 299ms\n",
      "530:\tlearn: 0.0307035\ttotal: 337ms\tremaining: 298ms\n",
      "531:\tlearn: 0.0305841\ttotal: 338ms\tremaining: 297ms\n",
      "532:\tlearn: 0.0304928\ttotal: 338ms\tremaining: 296ms\n",
      "533:\tlearn: 0.0303381\ttotal: 339ms\tremaining: 296ms\n",
      "534:\tlearn: 0.0302455\ttotal: 339ms\tremaining: 295ms\n",
      "535:\tlearn: 0.0301260\ttotal: 340ms\tremaining: 294ms\n",
      "536:\tlearn: 0.0300357\ttotal: 340ms\tremaining: 293ms\n",
      "537:\tlearn: 0.0299415\ttotal: 341ms\tremaining: 292ms\n",
      "538:\tlearn: 0.0298129\ttotal: 341ms\tremaining: 292ms\n",
      "539:\tlearn: 0.0296867\ttotal: 342ms\tremaining: 291ms\n",
      "540:\tlearn: 0.0295388\ttotal: 342ms\tremaining: 290ms\n",
      "541:\tlearn: 0.0294513\ttotal: 342ms\tremaining: 289ms\n",
      "542:\tlearn: 0.0293080\ttotal: 343ms\tremaining: 289ms\n",
      "543:\tlearn: 0.0292374\ttotal: 343ms\tremaining: 288ms\n",
      "544:\tlearn: 0.0290986\ttotal: 344ms\tremaining: 287ms\n",
      "545:\tlearn: 0.0290323\ttotal: 344ms\tremaining: 286ms\n",
      "546:\tlearn: 0.0289351\ttotal: 345ms\tremaining: 286ms\n",
      "547:\tlearn: 0.0288248\ttotal: 345ms\tremaining: 285ms\n",
      "548:\tlearn: 0.0286388\ttotal: 346ms\tremaining: 284ms\n",
      "549:\tlearn: 0.0285378\ttotal: 346ms\tremaining: 283ms\n",
      "550:\tlearn: 0.0283614\ttotal: 347ms\tremaining: 283ms\n",
      "551:\tlearn: 0.0282802\ttotal: 347ms\tremaining: 282ms\n",
      "552:\tlearn: 0.0281070\ttotal: 348ms\tremaining: 281ms\n",
      "553:\tlearn: 0.0279968\ttotal: 348ms\tremaining: 280ms\n",
      "554:\tlearn: 0.0278888\ttotal: 349ms\tremaining: 280ms\n",
      "555:\tlearn: 0.0277778\ttotal: 349ms\tremaining: 279ms\n",
      "556:\tlearn: 0.0276447\ttotal: 350ms\tremaining: 278ms\n",
      "557:\tlearn: 0.0275507\ttotal: 351ms\tremaining: 278ms\n",
      "558:\tlearn: 0.0274740\ttotal: 351ms\tremaining: 277ms\n",
      "559:\tlearn: 0.0273658\ttotal: 352ms\tremaining: 276ms\n",
      "560:\tlearn: 0.0272588\ttotal: 352ms\tremaining: 275ms\n",
      "561:\tlearn: 0.0271302\ttotal: 352ms\tremaining: 275ms\n",
      "562:\tlearn: 0.0269589\ttotal: 353ms\tremaining: 274ms\n",
      "563:\tlearn: 0.0268370\ttotal: 353ms\tremaining: 273ms\n",
      "564:\tlearn: 0.0267285\ttotal: 354ms\tremaining: 272ms\n",
      "565:\tlearn: 0.0266088\ttotal: 354ms\tremaining: 272ms\n",
      "566:\tlearn: 0.0265082\ttotal: 355ms\tremaining: 271ms\n",
      "567:\tlearn: 0.0264355\ttotal: 355ms\tremaining: 270ms\n",
      "568:\tlearn: 0.0263183\ttotal: 356ms\tremaining: 269ms\n",
      "569:\tlearn: 0.0261956\ttotal: 356ms\tremaining: 269ms\n",
      "570:\tlearn: 0.0261246\ttotal: 357ms\tremaining: 268ms\n",
      "571:\tlearn: 0.0260103\ttotal: 357ms\tremaining: 267ms\n",
      "572:\tlearn: 0.0259063\ttotal: 358ms\tremaining: 267ms\n",
      "573:\tlearn: 0.0257939\ttotal: 358ms\tremaining: 266ms\n",
      "574:\tlearn: 0.0256925\ttotal: 358ms\tremaining: 265ms\n",
      "575:\tlearn: 0.0255938\ttotal: 359ms\tremaining: 264ms\n",
      "576:\tlearn: 0.0254970\ttotal: 359ms\tremaining: 263ms\n",
      "577:\tlearn: 0.0254021\ttotal: 360ms\tremaining: 263ms\n",
      "578:\tlearn: 0.0252425\ttotal: 360ms\tremaining: 262ms\n",
      "579:\tlearn: 0.0251397\ttotal: 361ms\tremaining: 261ms\n",
      "580:\tlearn: 0.0250487\ttotal: 361ms\tremaining: 260ms\n",
      "581:\tlearn: 0.0248936\ttotal: 362ms\tremaining: 260ms\n",
      "582:\tlearn: 0.0248049\ttotal: 363ms\tremaining: 259ms\n",
      "583:\tlearn: 0.0247081\ttotal: 363ms\tremaining: 259ms\n"
     ]
    },
    {
     "name": "stdout",
     "output_type": "stream",
     "text": [
      "584:\tlearn: 0.0246083\ttotal: 364ms\tremaining: 258ms\n",
      "585:\tlearn: 0.0245232\ttotal: 364ms\tremaining: 257ms\n",
      "586:\tlearn: 0.0244257\ttotal: 365ms\tremaining: 257ms\n",
      "587:\tlearn: 0.0243426\ttotal: 366ms\tremaining: 256ms\n",
      "588:\tlearn: 0.0242472\ttotal: 367ms\tremaining: 256ms\n",
      "589:\tlearn: 0.0241537\ttotal: 368ms\tremaining: 255ms\n",
      "590:\tlearn: 0.0240568\ttotal: 368ms\tremaining: 255ms\n",
      "591:\tlearn: 0.0239648\ttotal: 368ms\tremaining: 254ms\n",
      "592:\tlearn: 0.0238734\ttotal: 369ms\tremaining: 253ms\n",
      "593:\tlearn: 0.0237854\ttotal: 369ms\tremaining: 252ms\n",
      "594:\tlearn: 0.0236927\ttotal: 370ms\tremaining: 252ms\n",
      "595:\tlearn: 0.0236165\ttotal: 370ms\tremaining: 251ms\n",
      "596:\tlearn: 0.0234749\ttotal: 371ms\tremaining: 250ms\n",
      "597:\tlearn: 0.0234016\ttotal: 371ms\tremaining: 249ms\n",
      "598:\tlearn: 0.0232923\ttotal: 372ms\tremaining: 249ms\n",
      "599:\tlearn: 0.0231853\ttotal: 372ms\tremaining: 248ms\n",
      "600:\tlearn: 0.0230987\ttotal: 373ms\tremaining: 247ms\n",
      "601:\tlearn: 0.0230138\ttotal: 373ms\tremaining: 247ms\n",
      "602:\tlearn: 0.0229701\ttotal: 373ms\tremaining: 246ms\n",
      "603:\tlearn: 0.0228822\ttotal: 374ms\tremaining: 245ms\n",
      "604:\tlearn: 0.0228552\ttotal: 374ms\tremaining: 244ms\n",
      "605:\tlearn: 0.0227523\ttotal: 375ms\tremaining: 244ms\n",
      "606:\tlearn: 0.0226815\ttotal: 375ms\tremaining: 243ms\n",
      "607:\tlearn: 0.0226079\ttotal: 376ms\tremaining: 242ms\n",
      "608:\tlearn: 0.0225087\ttotal: 376ms\tremaining: 242ms\n",
      "609:\tlearn: 0.0224274\ttotal: 377ms\tremaining: 241ms\n",
      "610:\tlearn: 0.0223506\ttotal: 377ms\tremaining: 240ms\n",
      "611:\tlearn: 0.0222397\ttotal: 378ms\tremaining: 240ms\n",
      "612:\tlearn: 0.0221625\ttotal: 378ms\tremaining: 239ms\n",
      "613:\tlearn: 0.0220697\ttotal: 379ms\tremaining: 238ms\n",
      "614:\tlearn: 0.0219916\ttotal: 379ms\tremaining: 237ms\n",
      "615:\tlearn: 0.0219269\ttotal: 380ms\tremaining: 237ms\n",
      "616:\tlearn: 0.0218211\ttotal: 381ms\tremaining: 237ms\n",
      "617:\tlearn: 0.0217533\ttotal: 382ms\tremaining: 236ms\n",
      "618:\tlearn: 0.0216597\ttotal: 382ms\tremaining: 235ms\n",
      "619:\tlearn: 0.0215564\ttotal: 383ms\tremaining: 235ms\n",
      "620:\tlearn: 0.0214791\ttotal: 383ms\tremaining: 234ms\n",
      "621:\tlearn: 0.0213779\ttotal: 383ms\tremaining: 233ms\n",
      "622:\tlearn: 0.0213067\ttotal: 384ms\tremaining: 232ms\n",
      "623:\tlearn: 0.0212239\ttotal: 384ms\tremaining: 232ms\n",
      "624:\tlearn: 0.0211248\ttotal: 385ms\tremaining: 231ms\n",
      "625:\tlearn: 0.0210240\ttotal: 385ms\tremaining: 230ms\n",
      "626:\tlearn: 0.0209603\ttotal: 386ms\tremaining: 229ms\n",
      "627:\tlearn: 0.0208874\ttotal: 386ms\tremaining: 229ms\n",
      "628:\tlearn: 0.0208119\ttotal: 387ms\tremaining: 228ms\n",
      "629:\tlearn: 0.0207081\ttotal: 387ms\tremaining: 227ms\n",
      "630:\tlearn: 0.0206116\ttotal: 388ms\tremaining: 227ms\n",
      "631:\tlearn: 0.0205454\ttotal: 388ms\tremaining: 226ms\n",
      "632:\tlearn: 0.0204614\ttotal: 389ms\tremaining: 225ms\n",
      "633:\tlearn: 0.0203465\ttotal: 389ms\tremaining: 225ms\n",
      "634:\tlearn: 0.0202638\ttotal: 390ms\tremaining: 224ms\n",
      "635:\tlearn: 0.0201897\ttotal: 390ms\tremaining: 223ms\n",
      "636:\tlearn: 0.0201161\ttotal: 391ms\tremaining: 223ms\n",
      "637:\tlearn: 0.0200043\ttotal: 391ms\tremaining: 222ms\n",
      "638:\tlearn: 0.0199233\ttotal: 392ms\tremaining: 221ms\n",
      "639:\tlearn: 0.0198176\ttotal: 392ms\tremaining: 221ms\n",
      "640:\tlearn: 0.0197858\ttotal: 392ms\tremaining: 220ms\n",
      "641:\tlearn: 0.0197545\ttotal: 393ms\tremaining: 219ms\n",
      "642:\tlearn: 0.0196870\ttotal: 394ms\tremaining: 219ms\n",
      "643:\tlearn: 0.0196596\ttotal: 394ms\tremaining: 218ms\n",
      "644:\tlearn: 0.0195442\ttotal: 395ms\tremaining: 217ms\n",
      "645:\tlearn: 0.0194357\ttotal: 396ms\tremaining: 217ms\n",
      "646:\tlearn: 0.0193841\ttotal: 396ms\tremaining: 216ms\n",
      "647:\tlearn: 0.0192782\ttotal: 397ms\tremaining: 216ms\n",
      "648:\tlearn: 0.0192281\ttotal: 397ms\tremaining: 215ms\n",
      "649:\tlearn: 0.0191247\ttotal: 398ms\tremaining: 214ms\n",
      "650:\tlearn: 0.0190635\ttotal: 398ms\tremaining: 214ms\n",
      "651:\tlearn: 0.0189925\ttotal: 399ms\tremaining: 213ms\n",
      "652:\tlearn: 0.0189326\ttotal: 399ms\tremaining: 212ms\n",
      "653:\tlearn: 0.0188738\ttotal: 400ms\tremaining: 211ms\n",
      "654:\tlearn: 0.0187903\ttotal: 400ms\tremaining: 211ms\n",
      "655:\tlearn: 0.0186852\ttotal: 401ms\tremaining: 210ms\n",
      "656:\tlearn: 0.0186578\ttotal: 401ms\tremaining: 209ms\n",
      "657:\tlearn: 0.0185892\ttotal: 402ms\tremaining: 209ms\n",
      "658:\tlearn: 0.0185333\ttotal: 402ms\tremaining: 208ms\n",
      "659:\tlearn: 0.0184784\ttotal: 402ms\tremaining: 207ms\n",
      "660:\tlearn: 0.0183755\ttotal: 403ms\tremaining: 207ms\n",
      "661:\tlearn: 0.0182800\ttotal: 403ms\tremaining: 206ms\n",
      "662:\tlearn: 0.0181794\ttotal: 404ms\tremaining: 205ms\n",
      "663:\tlearn: 0.0180809\ttotal: 404ms\tremaining: 205ms\n",
      "664:\tlearn: 0.0180609\ttotal: 405ms\tremaining: 204ms\n",
      "665:\tlearn: 0.0180411\ttotal: 405ms\tremaining: 203ms\n",
      "666:\tlearn: 0.0179313\ttotal: 406ms\tremaining: 203ms\n",
      "667:\tlearn: 0.0178662\ttotal: 406ms\tremaining: 202ms\n",
      "668:\tlearn: 0.0178043\ttotal: 407ms\tremaining: 201ms\n",
      "669:\tlearn: 0.0176969\ttotal: 407ms\tremaining: 201ms\n",
      "670:\tlearn: 0.0176032\ttotal: 408ms\tremaining: 200ms\n",
      "671:\tlearn: 0.0175842\ttotal: 408ms\tremaining: 199ms\n",
      "672:\tlearn: 0.0174796\ttotal: 409ms\tremaining: 199ms\n",
      "673:\tlearn: 0.0174562\ttotal: 410ms\tremaining: 198ms\n",
      "674:\tlearn: 0.0173937\ttotal: 410ms\tremaining: 198ms\n",
      "675:\tlearn: 0.0173343\ttotal: 411ms\tremaining: 197ms\n",
      "676:\tlearn: 0.0172322\ttotal: 412ms\tremaining: 196ms\n",
      "677:\tlearn: 0.0172139\ttotal: 412ms\tremaining: 196ms\n",
      "678:\tlearn: 0.0171274\ttotal: 413ms\tremaining: 195ms\n",
      "679:\tlearn: 0.0171095\ttotal: 413ms\tremaining: 195ms\n",
      "680:\tlearn: 0.0170245\ttotal: 414ms\tremaining: 194ms\n",
      "681:\tlearn: 0.0169645\ttotal: 414ms\tremaining: 193ms\n",
      "682:\tlearn: 0.0168814\ttotal: 415ms\tremaining: 193ms\n",
      "683:\tlearn: 0.0168103\ttotal: 415ms\tremaining: 192ms\n",
      "684:\tlearn: 0.0167323\ttotal: 416ms\tremaining: 191ms\n",
      "685:\tlearn: 0.0166384\ttotal: 416ms\tremaining: 190ms\n",
      "686:\tlearn: 0.0165804\ttotal: 416ms\tremaining: 190ms\n",
      "687:\tlearn: 0.0165009\ttotal: 417ms\tremaining: 189ms\n",
      "688:\tlearn: 0.0164459\ttotal: 417ms\tremaining: 188ms\n",
      "689:\tlearn: 0.0163680\ttotal: 418ms\tremaining: 188ms\n",
      "690:\tlearn: 0.0163508\ttotal: 418ms\tremaining: 187ms\n",
      "691:\tlearn: 0.0162744\ttotal: 419ms\tremaining: 186ms\n",
      "692:\tlearn: 0.0162575\ttotal: 419ms\tremaining: 186ms\n",
      "693:\tlearn: 0.0161824\ttotal: 420ms\tremaining: 185ms\n",
      "694:\tlearn: 0.0161116\ttotal: 420ms\tremaining: 184ms\n",
      "695:\tlearn: 0.0160306\ttotal: 420ms\tremaining: 184ms\n",
      "696:\tlearn: 0.0159625\ttotal: 421ms\tremaining: 183ms\n",
      "697:\tlearn: 0.0159461\ttotal: 421ms\tremaining: 182ms\n",
      "698:\tlearn: 0.0158772\ttotal: 422ms\tremaining: 182ms\n",
      "699:\tlearn: 0.0158176\ttotal: 422ms\tremaining: 181ms\n",
      "700:\tlearn: 0.0158015\ttotal: 423ms\tremaining: 180ms\n",
      "701:\tlearn: 0.0157231\ttotal: 423ms\tremaining: 180ms\n",
      "702:\tlearn: 0.0156289\ttotal: 424ms\tremaining: 179ms\n",
      "703:\tlearn: 0.0155636\ttotal: 424ms\tremaining: 178ms\n",
      "704:\tlearn: 0.0155064\ttotal: 425ms\tremaining: 178ms\n",
      "705:\tlearn: 0.0154498\ttotal: 426ms\tremaining: 177ms\n",
      "706:\tlearn: 0.0154341\ttotal: 426ms\tremaining: 177ms\n",
      "707:\tlearn: 0.0153782\ttotal: 427ms\tremaining: 176ms\n",
      "708:\tlearn: 0.0152898\ttotal: 427ms\tremaining: 175ms\n",
      "709:\tlearn: 0.0151946\ttotal: 428ms\tremaining: 175ms\n",
      "710:\tlearn: 0.0151793\ttotal: 428ms\tremaining: 174ms\n",
      "711:\tlearn: 0.0151107\ttotal: 429ms\tremaining: 173ms\n",
      "712:\tlearn: 0.0150179\ttotal: 429ms\tremaining: 173ms\n",
      "713:\tlearn: 0.0149840\ttotal: 430ms\tremaining: 172ms\n",
      "714:\tlearn: 0.0148993\ttotal: 430ms\tremaining: 171ms\n",
      "715:\tlearn: 0.0148090\ttotal: 430ms\tremaining: 171ms\n",
      "716:\tlearn: 0.0147683\ttotal: 431ms\tremaining: 170ms\n",
      "717:\tlearn: 0.0147533\ttotal: 431ms\tremaining: 169ms\n",
      "718:\tlearn: 0.0146883\ttotal: 432ms\tremaining: 169ms\n",
      "719:\tlearn: 0.0146736\ttotal: 432ms\tremaining: 168ms\n",
      "720:\tlearn: 0.0145858\ttotal: 433ms\tremaining: 167ms\n",
      "721:\tlearn: 0.0145712\ttotal: 433ms\tremaining: 167ms\n",
      "722:\tlearn: 0.0145569\ttotal: 434ms\tremaining: 166ms\n",
      "723:\tlearn: 0.0144863\ttotal: 434ms\tremaining: 165ms\n",
      "724:\tlearn: 0.0144234\ttotal: 435ms\tremaining: 165ms\n",
      "725:\tlearn: 0.0143619\ttotal: 435ms\tremaining: 164ms\n",
      "726:\tlearn: 0.0143437\ttotal: 435ms\tremaining: 163ms\n",
      "727:\tlearn: 0.0142835\ttotal: 436ms\tremaining: 163ms\n",
      "728:\tlearn: 0.0142412\ttotal: 437ms\tremaining: 162ms\n",
      "729:\tlearn: 0.0142234\ttotal: 437ms\tremaining: 162ms\n",
      "730:\tlearn: 0.0142099\ttotal: 438ms\tremaining: 161ms\n",
      "731:\tlearn: 0.0141480\ttotal: 438ms\tremaining: 160ms\n",
      "732:\tlearn: 0.0140741\ttotal: 439ms\tremaining: 160ms\n",
      "733:\tlearn: 0.0140124\ttotal: 439ms\tremaining: 159ms\n",
      "734:\tlearn: 0.0139576\ttotal: 440ms\tremaining: 159ms\n",
      "735:\tlearn: 0.0138971\ttotal: 440ms\tremaining: 158ms\n",
      "736:\tlearn: 0.0138538\ttotal: 441ms\tremaining: 157ms\n",
      "737:\tlearn: 0.0137824\ttotal: 441ms\tremaining: 157ms\n",
      "738:\tlearn: 0.0137653\ttotal: 442ms\tremaining: 156ms\n",
      "739:\tlearn: 0.0136955\ttotal: 442ms\tremaining: 155ms\n",
      "740:\tlearn: 0.0136368\ttotal: 443ms\tremaining: 155ms\n",
      "741:\tlearn: 0.0135840\ttotal: 443ms\tremaining: 154ms\n",
      "742:\tlearn: 0.0135253\ttotal: 444ms\tremaining: 153ms\n",
      "743:\tlearn: 0.0134587\ttotal: 444ms\tremaining: 153ms\n",
      "744:\tlearn: 0.0134423\ttotal: 445ms\tremaining: 152ms\n",
      "745:\tlearn: 0.0133751\ttotal: 445ms\tremaining: 152ms\n",
      "746:\tlearn: 0.0133629\ttotal: 446ms\tremaining: 151ms\n",
      "747:\tlearn: 0.0132902\ttotal: 446ms\tremaining: 150ms\n",
      "748:\tlearn: 0.0132374\ttotal: 447ms\tremaining: 150ms\n",
      "749:\tlearn: 0.0131920\ttotal: 447ms\tremaining: 149ms\n",
      "750:\tlearn: 0.0131492\ttotal: 448ms\tremaining: 148ms\n",
      "751:\tlearn: 0.0131143\ttotal: 448ms\tremaining: 148ms\n",
      "752:\tlearn: 0.0131039\ttotal: 449ms\tremaining: 147ms\n",
      "753:\tlearn: 0.0130534\ttotal: 449ms\tremaining: 147ms\n",
      "754:\tlearn: 0.0129790\ttotal: 450ms\tremaining: 146ms\n",
      "755:\tlearn: 0.0129405\ttotal: 450ms\tremaining: 145ms\n",
      "756:\tlearn: 0.0128847\ttotal: 451ms\tremaining: 145ms\n",
      "757:\tlearn: 0.0128120\ttotal: 451ms\tremaining: 144ms\n",
      "758:\tlearn: 0.0127675\ttotal: 452ms\tremaining: 143ms\n",
      "759:\tlearn: 0.0126962\ttotal: 452ms\tremaining: 143ms\n",
      "760:\tlearn: 0.0126528\ttotal: 453ms\tremaining: 142ms\n",
      "761:\tlearn: 0.0125988\ttotal: 454ms\tremaining: 142ms\n",
      "762:\tlearn: 0.0125292\ttotal: 454ms\tremaining: 141ms\n",
      "763:\tlearn: 0.0124927\ttotal: 455ms\tremaining: 140ms\n",
      "764:\tlearn: 0.0124402\ttotal: 455ms\tremaining: 140ms\n",
      "765:\tlearn: 0.0123723\ttotal: 456ms\tremaining: 139ms\n",
      "766:\tlearn: 0.0123307\ttotal: 457ms\tremaining: 139ms\n",
      "767:\tlearn: 0.0122647\ttotal: 457ms\tremaining: 138ms\n",
      "768:\tlearn: 0.0122295\ttotal: 458ms\tremaining: 138ms\n",
      "769:\tlearn: 0.0121694\ttotal: 458ms\tremaining: 137ms\n",
      "770:\tlearn: 0.0121313\ttotal: 459ms\tremaining: 136ms\n",
      "771:\tlearn: 0.0120604\ttotal: 459ms\tremaining: 136ms\n",
      "772:\tlearn: 0.0120231\ttotal: 460ms\tremaining: 135ms\n",
      "773:\tlearn: 0.0119573\ttotal: 460ms\tremaining: 134ms\n",
      "774:\tlearn: 0.0119018\ttotal: 461ms\tremaining: 134ms\n",
      "775:\tlearn: 0.0118390\ttotal: 461ms\tremaining: 133ms\n",
      "776:\tlearn: 0.0117916\ttotal: 462ms\tremaining: 132ms\n",
      "777:\tlearn: 0.0117416\ttotal: 462ms\tremaining: 132ms\n",
      "778:\tlearn: 0.0116927\ttotal: 463ms\tremaining: 131ms\n",
      "779:\tlearn: 0.0116366\ttotal: 463ms\tremaining: 131ms\n",
      "780:\tlearn: 0.0115691\ttotal: 463ms\tremaining: 130ms\n"
     ]
    },
    {
     "name": "stdout",
     "output_type": "stream",
     "text": [
      "781:\tlearn: 0.0115143\ttotal: 464ms\tremaining: 129ms\n",
      "782:\tlearn: 0.0114616\ttotal: 465ms\tremaining: 129ms\n",
      "783:\tlearn: 0.0114141\ttotal: 466ms\tremaining: 128ms\n",
      "784:\tlearn: 0.0113697\ttotal: 466ms\tremaining: 128ms\n",
      "785:\tlearn: 0.0113233\ttotal: 466ms\tremaining: 127ms\n",
      "786:\tlearn: 0.0112798\ttotal: 467ms\tremaining: 126ms\n",
      "787:\tlearn: 0.0112421\ttotal: 467ms\tremaining: 126ms\n",
      "788:\tlearn: 0.0111845\ttotal: 468ms\tremaining: 125ms\n",
      "789:\tlearn: 0.0111501\ttotal: 468ms\tremaining: 125ms\n",
      "790:\tlearn: 0.0111075\ttotal: 469ms\tremaining: 124ms\n",
      "791:\tlearn: 0.0110989\ttotal: 470ms\tremaining: 123ms\n",
      "792:\tlearn: 0.0110541\ttotal: 470ms\tremaining: 123ms\n",
      "793:\tlearn: 0.0109981\ttotal: 471ms\tremaining: 122ms\n",
      "794:\tlearn: 0.0109622\ttotal: 472ms\tremaining: 122ms\n",
      "795:\tlearn: 0.0109537\ttotal: 472ms\tremaining: 121ms\n",
      "796:\tlearn: 0.0108901\ttotal: 473ms\tremaining: 120ms\n",
      "797:\tlearn: 0.0108491\ttotal: 473ms\tremaining: 120ms\n",
      "798:\tlearn: 0.0108408\ttotal: 474ms\tremaining: 119ms\n",
      "799:\tlearn: 0.0108326\ttotal: 474ms\tremaining: 119ms\n",
      "800:\tlearn: 0.0107989\ttotal: 475ms\tremaining: 118ms\n",
      "801:\tlearn: 0.0107919\ttotal: 475ms\tremaining: 117ms\n",
      "802:\tlearn: 0.0107558\ttotal: 475ms\tremaining: 117ms\n",
      "803:\tlearn: 0.0107159\ttotal: 476ms\tremaining: 116ms\n",
      "804:\tlearn: 0.0107070\ttotal: 477ms\tremaining: 115ms\n",
      "805:\tlearn: 0.0106684\ttotal: 477ms\tremaining: 115ms\n",
      "806:\tlearn: 0.0106362\ttotal: 478ms\tremaining: 114ms\n",
      "807:\tlearn: 0.0106193\ttotal: 478ms\tremaining: 114ms\n",
      "808:\tlearn: 0.0105839\ttotal: 479ms\tremaining: 113ms\n",
      "809:\tlearn: 0.0105726\ttotal: 479ms\tremaining: 112ms\n",
      "810:\tlearn: 0.0105271\ttotal: 480ms\tremaining: 112ms\n",
      "811:\tlearn: 0.0104921\ttotal: 480ms\tremaining: 111ms\n",
      "812:\tlearn: 0.0104837\ttotal: 481ms\tremaining: 111ms\n",
      "813:\tlearn: 0.0104497\ttotal: 481ms\tremaining: 110ms\n",
      "814:\tlearn: 0.0104152\ttotal: 482ms\tremaining: 109ms\n",
      "815:\tlearn: 0.0104069\ttotal: 482ms\tremaining: 109ms\n",
      "816:\tlearn: 0.0103737\ttotal: 483ms\tremaining: 108ms\n",
      "817:\tlearn: 0.0103298\ttotal: 483ms\tremaining: 107ms\n",
      "818:\tlearn: 0.0102959\ttotal: 484ms\tremaining: 107ms\n",
      "819:\tlearn: 0.0102658\ttotal: 484ms\tremaining: 106ms\n",
      "820:\tlearn: 0.0102576\ttotal: 485ms\tremaining: 106ms\n",
      "821:\tlearn: 0.0102496\ttotal: 485ms\tremaining: 105ms\n",
      "822:\tlearn: 0.0102162\ttotal: 486ms\tremaining: 104ms\n",
      "823:\tlearn: 0.0101861\ttotal: 486ms\tremaining: 104ms\n",
      "824:\tlearn: 0.0101755\ttotal: 487ms\tremaining: 103ms\n",
      "825:\tlearn: 0.0101677\ttotal: 488ms\tremaining: 103ms\n",
      "826:\tlearn: 0.0101347\ttotal: 488ms\tremaining: 102ms\n",
      "827:\tlearn: 0.0101270\ttotal: 489ms\tremaining: 102ms\n",
      "828:\tlearn: 0.0100974\ttotal: 489ms\tremaining: 101ms\n",
      "829:\tlearn: 0.0100898\ttotal: 490ms\tremaining: 100ms\n",
      "830:\tlearn: 0.0100530\ttotal: 490ms\tremaining: 99.7ms\n",
      "831:\tlearn: 0.0100455\ttotal: 491ms\tremaining: 99.1ms\n",
      "832:\tlearn: 0.0100131\ttotal: 491ms\tremaining: 98.5ms\n",
      "833:\tlearn: 0.0100057\ttotal: 492ms\tremaining: 97.9ms\n",
      "834:\tlearn: 0.0099767\ttotal: 492ms\tremaining: 97.3ms\n",
      "835:\tlearn: 0.0099695\ttotal: 493ms\tremaining: 96.8ms\n",
      "836:\tlearn: 0.0099623\ttotal: 494ms\tremaining: 96.2ms\n",
      "837:\tlearn: 0.0099072\ttotal: 494ms\tremaining: 95.6ms\n",
      "838:\tlearn: 0.0098788\ttotal: 495ms\tremaining: 95ms\n",
      "839:\tlearn: 0.0098470\ttotal: 495ms\tremaining: 94.3ms\n",
      "840:\tlearn: 0.0098399\ttotal: 496ms\tremaining: 93.7ms\n",
      "841:\tlearn: 0.0098329\ttotal: 496ms\tremaining: 93.1ms\n",
      "842:\tlearn: 0.0097997\ttotal: 497ms\tremaining: 92.5ms\n",
      "843:\tlearn: 0.0097683\ttotal: 497ms\tremaining: 91.9ms\n",
      "844:\tlearn: 0.0097407\ttotal: 498ms\tremaining: 91.3ms\n",
      "845:\tlearn: 0.0097264\ttotal: 498ms\tremaining: 90.7ms\n",
      "846:\tlearn: 0.0096730\ttotal: 499ms\tremaining: 90.1ms\n",
      "847:\tlearn: 0.0096421\ttotal: 499ms\tremaining: 89.5ms\n",
      "848:\tlearn: 0.0096326\ttotal: 500ms\tremaining: 89ms\n",
      "849:\tlearn: 0.0095802\ttotal: 501ms\tremaining: 88.4ms\n",
      "850:\tlearn: 0.0095709\ttotal: 502ms\tremaining: 87.8ms\n",
      "851:\tlearn: 0.0095193\ttotal: 502ms\tremaining: 87.2ms\n",
      "852:\tlearn: 0.0094816\ttotal: 503ms\tremaining: 86.7ms\n",
      "853:\tlearn: 0.0094453\ttotal: 503ms\tremaining: 86.1ms\n",
      "854:\tlearn: 0.0094386\ttotal: 505ms\tremaining: 85.6ms\n",
      "855:\tlearn: 0.0094085\ttotal: 505ms\tremaining: 85ms\n",
      "856:\tlearn: 0.0094019\ttotal: 506ms\tremaining: 84.4ms\n",
      "857:\tlearn: 0.0093652\ttotal: 506ms\tremaining: 83.8ms\n",
      "858:\tlearn: 0.0093266\ttotal: 507ms\tremaining: 83.2ms\n",
      "859:\tlearn: 0.0092971\ttotal: 507ms\tremaining: 82.6ms\n",
      "860:\tlearn: 0.0092906\ttotal: 508ms\tremaining: 82ms\n",
      "861:\tlearn: 0.0092615\ttotal: 508ms\tremaining: 81.3ms\n",
      "862:\tlearn: 0.0092267\ttotal: 509ms\tremaining: 80.8ms\n",
      "863:\tlearn: 0.0092203\ttotal: 509ms\tremaining: 80.2ms\n",
      "864:\tlearn: 0.0092140\ttotal: 510ms\tremaining: 79.6ms\n",
      "865:\tlearn: 0.0091882\ttotal: 511ms\tremaining: 79ms\n",
      "866:\tlearn: 0.0091819\ttotal: 511ms\tremaining: 78.4ms\n",
      "867:\tlearn: 0.0091534\ttotal: 512ms\tremaining: 77.8ms\n",
      "868:\tlearn: 0.0091473\ttotal: 512ms\tremaining: 77.2ms\n",
      "869:\tlearn: 0.0091023\ttotal: 513ms\tremaining: 76.6ms\n",
      "870:\tlearn: 0.0090533\ttotal: 513ms\tremaining: 76ms\n",
      "871:\tlearn: 0.0090184\ttotal: 514ms\tremaining: 75.4ms\n",
      "872:\tlearn: 0.0089815\ttotal: 514ms\tremaining: 74.8ms\n",
      "873:\tlearn: 0.0089445\ttotal: 515ms\tremaining: 74.3ms\n",
      "874:\tlearn: 0.0089131\ttotal: 516ms\tremaining: 73.7ms\n",
      "875:\tlearn: 0.0089071\ttotal: 517ms\tremaining: 73.1ms\n",
      "876:\tlearn: 0.0089012\ttotal: 517ms\tremaining: 72.6ms\n",
      "877:\tlearn: 0.0088764\ttotal: 518ms\tremaining: 72ms\n",
      "878:\tlearn: 0.0088706\ttotal: 519ms\tremaining: 71.4ms\n",
      "879:\tlearn: 0.0088300\ttotal: 519ms\tremaining: 70.8ms\n",
      "880:\tlearn: 0.0087865\ttotal: 520ms\tremaining: 70.2ms\n",
      "881:\tlearn: 0.0087531\ttotal: 520ms\tremaining: 69.6ms\n",
      "882:\tlearn: 0.0087011\ttotal: 521ms\tremaining: 69ms\n",
      "883:\tlearn: 0.0086724\ttotal: 521ms\tremaining: 68.4ms\n",
      "884:\tlearn: 0.0086264\ttotal: 522ms\tremaining: 67.8ms\n",
      "885:\tlearn: 0.0085846\ttotal: 523ms\tremaining: 67.2ms\n",
      "886:\tlearn: 0.0085395\ttotal: 523ms\tremaining: 66.6ms\n",
      "887:\tlearn: 0.0084959\ttotal: 524ms\tremaining: 66ms\n",
      "888:\tlearn: 0.0084619\ttotal: 524ms\tremaining: 65.4ms\n",
      "889:\tlearn: 0.0084180\ttotal: 525ms\tremaining: 64.8ms\n",
      "890:\tlearn: 0.0083849\ttotal: 525ms\tremaining: 64.2ms\n",
      "891:\tlearn: 0.0083397\ttotal: 525ms\tremaining: 63.6ms\n",
      "892:\tlearn: 0.0083089\ttotal: 526ms\tremaining: 63ms\n",
      "893:\tlearn: 0.0082752\ttotal: 526ms\tremaining: 62.4ms\n",
      "894:\tlearn: 0.0082420\ttotal: 527ms\tremaining: 61.8ms\n",
      "895:\tlearn: 0.0082049\ttotal: 527ms\tremaining: 61.2ms\n",
      "896:\tlearn: 0.0081736\ttotal: 528ms\tremaining: 60.6ms\n",
      "897:\tlearn: 0.0081316\ttotal: 528ms\tremaining: 60ms\n",
      "898:\tlearn: 0.0081022\ttotal: 529ms\tremaining: 59.4ms\n",
      "899:\tlearn: 0.0080696\ttotal: 529ms\tremaining: 58.8ms\n",
      "900:\tlearn: 0.0080285\ttotal: 530ms\tremaining: 58.3ms\n",
      "901:\tlearn: 0.0080027\ttotal: 531ms\tremaining: 57.7ms\n",
      "902:\tlearn: 0.0079614\ttotal: 531ms\tremaining: 57.1ms\n",
      "903:\tlearn: 0.0079298\ttotal: 532ms\tremaining: 56.5ms\n",
      "904:\tlearn: 0.0079047\ttotal: 532ms\tremaining: 55.9ms\n",
      "905:\tlearn: 0.0078749\ttotal: 533ms\tremaining: 55.3ms\n",
      "906:\tlearn: 0.0078357\ttotal: 534ms\tremaining: 54.7ms\n",
      "907:\tlearn: 0.0078047\ttotal: 534ms\tremaining: 54.1ms\n",
      "908:\tlearn: 0.0077638\ttotal: 535ms\tremaining: 53.5ms\n",
      "909:\tlearn: 0.0077364\ttotal: 535ms\tremaining: 52.9ms\n",
      "910:\tlearn: 0.0077049\ttotal: 535ms\tremaining: 52.3ms\n",
      "911:\tlearn: 0.0076695\ttotal: 536ms\tremaining: 51.7ms\n",
      "912:\tlearn: 0.0076395\ttotal: 536ms\tremaining: 51.1ms\n",
      "913:\tlearn: 0.0076055\ttotal: 537ms\tremaining: 50.5ms\n",
      "914:\tlearn: 0.0075777\ttotal: 537ms\tremaining: 49.9ms\n",
      "915:\tlearn: 0.0075514\ttotal: 537ms\tremaining: 49.3ms\n",
      "916:\tlearn: 0.0075212\ttotal: 538ms\tremaining: 48.7ms\n",
      "917:\tlearn: 0.0074829\ttotal: 539ms\tremaining: 48.1ms\n",
      "918:\tlearn: 0.0074632\ttotal: 539ms\tremaining: 47.5ms\n",
      "919:\tlearn: 0.0074343\ttotal: 539ms\tremaining: 46.9ms\n",
      "920:\tlearn: 0.0074023\ttotal: 540ms\tremaining: 46.3ms\n",
      "921:\tlearn: 0.0073753\ttotal: 540ms\tremaining: 45.7ms\n",
      "922:\tlearn: 0.0073356\ttotal: 541ms\tremaining: 45.1ms\n",
      "923:\tlearn: 0.0073168\ttotal: 542ms\tremaining: 44.5ms\n",
      "924:\tlearn: 0.0072798\ttotal: 542ms\tremaining: 44ms\n",
      "925:\tlearn: 0.0072548\ttotal: 543ms\tremaining: 43.4ms\n",
      "926:\tlearn: 0.0072365\ttotal: 543ms\tremaining: 42.8ms\n",
      "927:\tlearn: 0.0072186\ttotal: 544ms\tremaining: 42.2ms\n",
      "928:\tlearn: 0.0071825\ttotal: 544ms\tremaining: 41.6ms\n",
      "929:\tlearn: 0.0071751\ttotal: 545ms\tremaining: 41ms\n"
     ]
    },
    {
     "name": "stdout",
     "output_type": "stream",
     "text": [
      "930:\tlearn: 0.0071473\ttotal: 546ms\tremaining: 40.5ms\n",
      "931:\tlearn: 0.0071154\ttotal: 547ms\tremaining: 39.9ms\n",
      "932:\tlearn: 0.0070802\ttotal: 547ms\tremaining: 39.3ms\n",
      "933:\tlearn: 0.0070730\ttotal: 548ms\tremaining: 38.7ms\n",
      "934:\tlearn: 0.0070461\ttotal: 549ms\tremaining: 38.1ms\n",
      "935:\tlearn: 0.0070144\ttotal: 549ms\tremaining: 37.5ms\n",
      "936:\tlearn: 0.0070081\ttotal: 550ms\tremaining: 36.9ms\n",
      "937:\tlearn: 0.0069817\ttotal: 550ms\tremaining: 36.4ms\n",
      "938:\tlearn: 0.0069518\ttotal: 551ms\tremaining: 35.8ms\n",
      "939:\tlearn: 0.0069280\ttotal: 551ms\tremaining: 35.2ms\n",
      "940:\tlearn: 0.0068973\ttotal: 551ms\tremaining: 34.6ms\n",
      "941:\tlearn: 0.0068718\ttotal: 552ms\tremaining: 34ms\n",
      "942:\tlearn: 0.0068429\ttotal: 552ms\tremaining: 33.4ms\n",
      "943:\tlearn: 0.0068027\ttotal: 553ms\tremaining: 32.8ms\n",
      "944:\tlearn: 0.0067730\ttotal: 553ms\tremaining: 32.2ms\n",
      "945:\tlearn: 0.0067485\ttotal: 553ms\tremaining: 31.6ms\n",
      "946:\tlearn: 0.0067279\ttotal: 554ms\tremaining: 31ms\n",
      "947:\tlearn: 0.0067075\ttotal: 554ms\tremaining: 30.4ms\n",
      "948:\tlearn: 0.0066902\ttotal: 555ms\tremaining: 29.8ms\n",
      "949:\tlearn: 0.0066660\ttotal: 555ms\tremaining: 29.2ms\n",
      "950:\tlearn: 0.0066373\ttotal: 556ms\tremaining: 28.6ms\n",
      "951:\tlearn: 0.0066160\ttotal: 556ms\tremaining: 28.1ms\n",
      "952:\tlearn: 0.0065936\ttotal: 557ms\tremaining: 27.5ms\n",
      "953:\tlearn: 0.0065631\ttotal: 557ms\tremaining: 26.9ms\n",
      "954:\tlearn: 0.0065464\ttotal: 558ms\tremaining: 26.3ms\n",
      "955:\tlearn: 0.0065259\ttotal: 558ms\tremaining: 25.7ms\n",
      "956:\tlearn: 0.0065099\ttotal: 559ms\tremaining: 25.1ms\n",
      "957:\tlearn: 0.0064802\ttotal: 560ms\tremaining: 24.6ms\n",
      "958:\tlearn: 0.0064568\ttotal: 561ms\tremaining: 24ms\n",
      "959:\tlearn: 0.0064350\ttotal: 561ms\tremaining: 23.4ms\n",
      "960:\tlearn: 0.0064234\ttotal: 562ms\tremaining: 22.8ms\n",
      "961:\tlearn: 0.0063963\ttotal: 562ms\tremaining: 22.2ms\n",
      "962:\tlearn: 0.0063868\ttotal: 563ms\tremaining: 21.6ms\n",
      "963:\tlearn: 0.0063755\ttotal: 563ms\tremaining: 21ms\n",
      "964:\tlearn: 0.0063488\ttotal: 564ms\tremaining: 20.4ms\n",
      "965:\tlearn: 0.0063277\ttotal: 564ms\tremaining: 19.9ms\n",
      "966:\tlearn: 0.0063071\ttotal: 564ms\tremaining: 19.3ms\n",
      "967:\tlearn: 0.0062836\ttotal: 565ms\tremaining: 18.7ms\n",
      "968:\tlearn: 0.0062481\ttotal: 566ms\tremaining: 18.1ms\n",
      "969:\tlearn: 0.0062283\ttotal: 566ms\tremaining: 17.5ms\n",
      "970:\tlearn: 0.0062058\ttotal: 567ms\tremaining: 16.9ms\n",
      "971:\tlearn: 0.0061713\ttotal: 567ms\tremaining: 16.3ms\n",
      "972:\tlearn: 0.0061522\ttotal: 567ms\tremaining: 15.7ms\n",
      "973:\tlearn: 0.0061318\ttotal: 568ms\tremaining: 15.2ms\n",
      "974:\tlearn: 0.0061256\ttotal: 568ms\tremaining: 14.6ms\n",
      "975:\tlearn: 0.0061195\ttotal: 569ms\tremaining: 14ms\n",
      "976:\tlearn: 0.0060997\ttotal: 569ms\tremaining: 13.4ms\n",
      "977:\tlearn: 0.0060936\ttotal: 569ms\tremaining: 12.8ms\n",
      "978:\tlearn: 0.0060743\ttotal: 570ms\tremaining: 12.2ms\n",
      "979:\tlearn: 0.0060404\ttotal: 570ms\tremaining: 11.6ms\n",
      "980:\tlearn: 0.0060078\ttotal: 571ms\tremaining: 11.1ms\n",
      "981:\tlearn: 0.0059824\ttotal: 571ms\tremaining: 10.5ms\n",
      "982:\tlearn: 0.0059711\ttotal: 571ms\tremaining: 9.88ms\n",
      "983:\tlearn: 0.0059497\ttotal: 572ms\tremaining: 9.3ms\n",
      "984:\tlearn: 0.0059388\ttotal: 572ms\tremaining: 8.71ms\n",
      "985:\tlearn: 0.0059282\ttotal: 573ms\tremaining: 8.13ms\n",
      "986:\tlearn: 0.0059032\ttotal: 573ms\tremaining: 7.55ms\n",
      "987:\tlearn: 0.0058929\ttotal: 574ms\tremaining: 6.97ms\n",
      "988:\tlearn: 0.0058721\ttotal: 575ms\tremaining: 6.39ms\n",
      "989:\tlearn: 0.0058646\ttotal: 575ms\tremaining: 5.81ms\n",
      "990:\tlearn: 0.0058546\ttotal: 576ms\tremaining: 5.23ms\n",
      "991:\tlearn: 0.0058302\ttotal: 576ms\tremaining: 4.65ms\n",
      "992:\tlearn: 0.0058205\ttotal: 577ms\tremaining: 4.07ms\n",
      "993:\tlearn: 0.0058003\ttotal: 577ms\tremaining: 3.48ms\n",
      "994:\tlearn: 0.0057930\ttotal: 578ms\tremaining: 2.9ms\n",
      "995:\tlearn: 0.0057878\ttotal: 578ms\tremaining: 2.32ms\n",
      "996:\tlearn: 0.0057730\ttotal: 579ms\tremaining: 1.74ms\n",
      "997:\tlearn: 0.0057550\ttotal: 579ms\tremaining: 1.16ms\n",
      "998:\tlearn: 0.0057404\ttotal: 580ms\tremaining: 580us\n",
      "999:\tlearn: 0.0057207\ttotal: 580ms\tremaining: 0us\n"
     ]
    },
    {
     "data": {
      "text/plain": [
       "<catboost.core.CatBoostRegressor at 0x7fc318cb2730>"
      ]
     },
     "execution_count": 9,
     "metadata": {},
     "output_type": "execute_result"
    }
   ],
   "source": [
    "#Train the Model \n",
    "prior_model = ctb.CatBoostRegressor()\n",
    "prior_model.fit(X_train,Y_train)"
   ]
  },
  {
   "cell_type": "code",
   "execution_count": 10,
   "id": "af65dcda",
   "metadata": {
    "execution": {
     "iopub.execute_input": "2022-06-07T06:03:30.755333Z",
     "iopub.status.busy": "2022-06-07T06:03:30.754927Z",
     "iopub.status.idle": "2022-06-07T06:03:30.763438Z",
     "shell.execute_reply": "2022-06-07T06:03:30.763691Z"
    },
    "id": "af65dcda",
    "papermill": {
     "duration": 0.022209,
     "end_time": "2022-06-07T06:03:30.763842",
     "exception": false,
     "start_time": "2022-06-07T06:03:30.741633",
     "status": "completed"
    },
    "tags": []
   },
   "outputs": [
    {
     "data": {
      "application/scrapbook.scrap.json+json": {
       "data": 0.09547324807703333,
       "encoder": "json",
       "name": "Prior Model MSE",
       "version": 1
      }
     },
     "metadata": {
      "scrapbook": {
       "data": true,
       "display": false,
       "name": "Prior Model MSE"
      }
     },
     "output_type": "display_data"
    },
    {
     "data": {
      "application/scrapbook.scrap.json+json": {
       "data": 1.2391102296852026,
       "encoder": "json",
       "name": "ABC Pre-generator MSE",
       "version": 1
      }
     },
     "metadata": {
      "scrapbook": {
       "data": true,
       "display": false,
       "name": "ABC Pre-generator MSE"
      }
     },
     "output_type": "display_data"
    },
    {
     "data": {
      "application/scrapbook.scrap.json+json": {
       "data": 0.243390238858253,
       "encoder": "json",
       "name": "Prior Model MSE",
       "version": 1
      }
     },
     "metadata": {
      "scrapbook": {
       "data": true,
       "display": false,
       "name": "Prior Model MSE"
      }
     },
     "output_type": "display_data"
    },
    {
     "data": {
      "application/scrapbook.scrap.json+json": {
       "data": 1.0716447457120313,
       "encoder": "json",
       "name": "ABC Pre-generator MSE",
       "version": 1
      }
     },
     "metadata": {
      "scrapbook": {
       "data": true,
       "display": false,
       "name": "ABC Pre-generator MSE"
      }
     },
     "output_type": "display_data"
    }
   ],
   "source": [
    "y_pred = prior_model.predict(X_test)\n",
    "y_abc = y_pred + np.random.normal(0,variance, y_pred.shape) + bias \n",
    "mse = mean_squared_error(y_pred,Y_test)\n",
    "sb.glue(\"Prior Model MSE\",mse)\n",
    "mse = mean_squared_error(y_abc,Y_test)\n",
    "sb.glue(\"ABC Pre-generator MSE\",mse)\n",
    "mae = mean_absolute_error(y_pred,Y_test)\n",
    "sb.glue(\"Prior Model MSE\",mae)\n",
    "mae = mean_absolute_error(y_abc,Y_test)\n",
    "sb.glue(\"ABC Pre-generator MSE\",mae)"
   ]
  },
  {
   "cell_type": "markdown",
   "id": "25609da2",
   "metadata": {
    "papermill": {
     "duration": 0.010548,
     "end_time": "2022-06-07T06:03:30.784347",
     "exception": false,
     "start_time": "2022-06-07T06:03:30.773799",
     "status": "completed"
    },
    "tags": []
   },
   "source": [
    "# ABC GAN Model"
   ]
  },
  {
   "cell_type": "code",
   "execution_count": 11,
   "id": "dfc3464d",
   "metadata": {
    "execution": {
     "iopub.execute_input": "2022-06-07T06:03:30.808910Z",
     "iopub.status.busy": "2022-06-07T06:03:30.808471Z",
     "iopub.status.idle": "2022-06-07T06:03:30.811370Z",
     "shell.execute_reply": "2022-06-07T06:03:30.811770Z"
    },
    "papermill": {
     "duration": 0.017391,
     "end_time": "2022-06-07T06:03:30.811927",
     "exception": false,
     "start_time": "2022-06-07T06:03:30.794536",
     "status": "completed"
    },
    "tags": []
   },
   "outputs": [],
   "source": [
    "gen = network.Generator(n_features+1).to(device)\n",
    "disc = network.Discriminator(n_features+1).to(device)\n",
    "\n",
    "criterion = torch.nn.BCELoss()\n",
    "gen_opt = torch.optim.Adam(gen.parameters(), lr=0.001, betas=(0.5, 0.999))\n",
    "disc_opt = torch.optim.Adam(disc.parameters(), lr=0.001, betas=(0.5, 0.999))"
   ]
  },
  {
   "cell_type": "code",
   "execution_count": 12,
   "id": "b75fdd85",
   "metadata": {
    "execution": {
     "iopub.execute_input": "2022-06-07T06:03:30.835248Z",
     "iopub.status.busy": "2022-06-07T06:03:30.834876Z",
     "iopub.status.idle": "2022-06-07T06:03:45.705883Z",
     "shell.execute_reply": "2022-06-07T06:03:45.706132Z"
    },
    "papermill": {
     "duration": 14.884101,
     "end_time": "2022-06-07T06:03:45.706280",
     "exception": false,
     "start_time": "2022-06-07T06:03:30.822179",
     "status": "completed"
    },
    "tags": []
   },
   "outputs": [
    {
     "data": {
      "image/png": "[encoded data removed]",
      "text/plain": [
       "<Figure size 432x288 with 1 Axes>"
      ]
     },
     "metadata": {
      "needs_background": "light"
     },
     "output_type": "display_data"
    },
    {
     "data": {
      "image/png": "[encoded data removed]",
      "text/plain": [
       "<Figure size 432x288 with 1 Axes>"
      ]
     },
     "metadata": {
      "needs_background": "light"
     },
     "output_type": "display_data"
    }
   ],
   "source": [
    "#Training the ABC_GAN \n",
    "ABC_train_test2.training_GAN(disc,gen,disc_opt,gen_opt,train_data,batch_size,n_epochs,criterion,prior_model,variance,bias,device)"
   ]
  },
  {
   "cell_type": "code",
   "execution_count": 13,
   "id": "1fa7c368",
   "metadata": {
    "execution": {
     "iopub.execute_input": "2022-06-07T06:03:45.732199Z",
     "iopub.status.busy": "2022-06-07T06:03:45.731696Z",
     "iopub.status.idle": "2022-06-07T06:03:45.929962Z",
     "shell.execute_reply": "2022-06-07T06:03:45.930209Z"
    },
    "papermill": {
     "duration": 0.21232,
     "end_time": "2022-06-07T06:03:45.930341",
     "exception": false,
     "start_time": "2022-06-07T06:03:45.718021",
     "status": "completed"
    },
    "tags": []
   },
   "outputs": [
    {
     "data": {
      "application/scrapbook.scrap.json+json": {
       "data": 0.0998925026162863,
       "encoder": "json",
       "name": "ABC-GAN Model 1 MSE",
       "version": 1
      }
     },
     "metadata": {
      "scrapbook": {
       "data": true,
       "display": false,
       "name": "ABC-GAN Model 1 MSE"
      }
     },
     "output_type": "display_data"
    },
    {
     "data": {
      "application/scrapbook.scrap.json+json": {
       "data": 0.26659066903218626,
       "encoder": "json",
       "name": "ABC-GAN Model 1 MAE",
       "version": 1
      }
     },
     "metadata": {
      "scrapbook": {
       "data": true,
       "display": false,
       "name": "ABC-GAN Model 1 MAE"
      }
     },
     "output_type": "display_data"
    },
    {
     "data": {
      "application/scrapbook.scrap.json+json": {
       "data": 5.331813380643726,
       "encoder": "json",
       "name": "ABC-GAN Model 1 Manhattan Distance",
       "version": 1
      }
     },
     "metadata": {
      "scrapbook": {
       "data": true,
       "display": false,
       "name": "ABC-GAN Model 1 Manhattan Distance"
      }
     },
     "output_type": "display_data"
    },
    {
     "data": {
      "application/scrapbook.scrap.json+json": {
       "data": 1.4134347539901422,
       "encoder": "json",
       "name": "ABC-GAN Model 1 Euclidean distance",
       "version": 1
      }
     },
     "metadata": {
      "scrapbook": {
       "data": true,
       "display": false,
       "name": "ABC-GAN Model 1 Euclidean distance"
      }
     },
     "output_type": "display_data"
    },
    {
     "data": {
      "application/scrapbook.scrap.json+json": {
       "data": [
        [
         0.10081665800054433,
         0.09957897867040064,
         0.10243787886977296,
         0.10085367221198475,
         0.100461929131651,
         0.09723335355018896,
         0.09714294569111706,
         0.0988012519268158,
         0.10045373725752374,
         0.10134859342546512,
         0.09848176149281651,
         0.09932890765343787,
         0.10077358481763199,
         0.10024358981445394,
         0.10032934615782026,
         0.09888545418996028,
         0.09948856227103313,
         0.09882512888916298,
         0.09934180383659875,
         0.09881288566773601,
         0.10155105531891542,
         0.10028003988208165,
         0.09904088234138415,
         0.09892740573441713,
         0.09892292639197445,
         0.09982161409035732,
         0.10129532439351838,
         0.10062573025853136,
         0.09946964299142855,
         0.10098279857301126,
         0.10027375254353328,
         0.10001906595425263,
         0.0988115546569596,
         0.09921239710060983,
         0.10120406127600126,
         0.1016892810145277,
         0.10189555593814537,
         0.10032786635253262,
         0.09895657776447006,
         0.09992597130484983,
         0.09941050291651377,
         0.09988448009654308,
         0.09881861200334077,
         0.10056185766492057,
         0.10014384922734802,
         0.0999794246789488,
         0.0982482227933007,
         0.10008598580064762,
         0.10002281389891363,
         0.10081355093747009,
         0.1000109202261027,
         0.09871919561245546,
         0.09920249600745623,
         0.09944845173500513,
         0.10126275907014859,
         0.0993020944773884,
         0.10163700245117088,
         0.10000283156595698,
         0.1011439792975749,
         0.09955009307437554,
         0.09981297282128328,
         0.10005994254567145,
         0.10102918788909021,
         0.10084325416167558,
         0.09786455202100411,
         0.09783169154417733,
         0.0985461861511504,
         0.0997178998440943,
         0.09932419191163144,
         0.10112055797109251,
         0.10058111549513767,
         0.09869214339207262,
         0.10096687552240687,
         0.10093726054436258,
         0.0990376302550748,
         0.10087642278227968,
         0.10074160163172226,
         0.09993452642762232,
         0.09966302628514187,
         0.0999879591959543,
         0.10024932392533918,
         0.10097554009304562,
         0.10021629738715439,
         0.09972051810415804,
         0.0997962516017388,
         0.09985845335572767,
         0.1019727078685305,
         0.09963415721825415,
         0.10020853459575667,
         0.09923247551545508,
         0.09909875208600738,
         0.09969560900764918,
         0.10031473062234988,
         0.100385663809808,
         0.09878803595005989,
         0.0993863647098157,
         0.10039601823826731,
         0.09836406923630141,
         0.09978749093894526,
         0.09847761802842017
        ],
        [
         0.26699796691536903,
         0.26869838312268257,
         0.27038874588906764,
         0.26974418498575686,
         0.26641377322375775,
         0.26373979523777963,
         0.26252457201480867,
         0.2646621145308018,
         0.26628609113395213,
         0.26770151071250436,
         0.26495170295238496,
         0.26586496606469157,
         0.27004938311874865,
         0.26598181538283827,
         0.26599201634526254,
         0.26529073119163515,
         0.26737639904022215,
         0.2649725813418627,
         0.2645509857684374,
         0.2644361309707165,
         0.26946198269724847,
         0.2679651450365782,
         0.2655531518161297,
         0.26655662469565866,
         0.2641304813325405,
         0.26741733849048616,
         0.26804166957736014,
         0.26734490171074865,
         0.26543294116854665,
         0.26820099875330927,
         0.26586070470511913,
         0.26467724442481994,
         0.263806214556098,
         0.26646911054849626,
         0.26905956491827965,
         0.26611346416175363,
         0.267700619995594,
         0.2674646064639091,
         0.26473780162632465,
         0.2676623571664095,
         0.26641072779893876,
         0.2673254027962685,
         0.2648432120680809,
         0.2678054042160511,
         0.2675182014703751,
         0.26705270186066626,
         0.26391955390572547,
         0.26791343577206134,
         0.26747005209326746,
         0.26619691736996176,
         0.2669451035559177,
         0.2651549272239208,
         0.2673070542514324,
         0.26764672845602033,
         0.2689179990440607,
         0.26644974797964094,
         0.27046481855213644,
         0.2673855274915695,
         0.26614716798067095,
         0.2655323654413223,
         0.26521546095609666,
         0.2652945421636105,
         0.2670528434216976,
         0.2673345886170864,
         0.26514618247747423,
         0.2651715651154518,
         0.2663180448114872,
         0.2655551515519619,
         0.26327417194843294,
         0.26891953498125076,
         0.26792927384376525,
         0.2668649233877659,
         0.2693417131900787,
         0.26679502092301843,
         0.26480245068669317,
         0.26916079595685005,
         0.26586915403604505,
         0.26711253449320793,
         0.26391775608062745,
         0.26690520346164703,
         0.2660644330084324,
         0.26682914048433304,
         0.26805987283587457,
         0.26746780835092065,
         0.2663711003959179,
         0.2671343479305506,
         0.2709487020969391,
         0.26661462932825086,
         0.267213586345315,
         0.2659137092530727,
         0.2644937761127949,
         0.26525660157203673,
         0.26860869564116,
         0.2676053177565336,
         0.26528954431414603,
         0.2655832216143608,
         0.26652087159454824,
         0.26493267714977264,
         0.2673087306320667,
         0.26418140158057213
        ],
        [
         5.339959338307381,
         5.373967662453651,
         5.407774917781353,
         5.3948836997151375,
         5.328275464475155,
         5.274795904755592,
         5.250491440296173,
         5.2932422906160355,
         5.325721822679043,
         5.354030214250088,
         5.299034059047699,
         5.317299321293831,
         5.400987662374973,
         5.319636307656765,
         5.3198403269052505,
         5.305814623832703,
         5.347527980804443,
         5.299451626837254,
         5.291019715368748,
         5.2887226194143295,
         5.389239653944969,
         5.359302900731564,
         5.311063036322594,
         5.331132493913174,
         5.28260962665081,
         5.348346769809723,
         5.360833391547203,
         5.3468980342149734,
         5.3086588233709335,
         5.364019975066185,
         5.317214094102383,
         5.293544888496399,
         5.27612429112196,
         5.329382210969925,
         5.381191298365593,
         5.322269283235073,
         5.3540123999118805,
         5.349292129278183,
         5.294756032526493,
         5.35324714332819,
         5.328214555978775,
         5.346508055925369,
         5.296864241361618,
         5.356108084321022,
         5.350364029407501,
         5.3410540372133255,
         5.27839107811451,
         5.358268715441227,
         5.349401041865349,
         5.323938347399235,
         5.338902071118355,
         5.303098544478416,
         5.346141085028648,
         5.352934569120407,
         5.378359980881214,
         5.328994959592819,
         5.409296371042728,
         5.34771054983139,
         5.322943359613419,
         5.3106473088264465,
         5.304309219121933,
         5.305890843272209,
         5.341056868433952,
         5.346691772341728,
         5.302923649549484,
         5.303431302309036,
         5.326360896229744,
         5.311103031039238,
         5.2654834389686584,
         5.378390699625015,
         5.358585476875305,
         5.337298467755318,
         5.386834263801575,
         5.335900418460369,
         5.296049013733864,
         5.383215919137001,
         5.3173830807209015,
         5.342250689864159,
         5.278355121612549,
         5.338104069232941,
         5.321288660168648,
         5.336582809686661,
         5.361197456717491,
         5.3493561670184135,
         5.327422007918358,
         5.3426869586110115,
         5.418974041938782,
         5.332292586565018,
         5.3442717269063,
         5.318274185061455,
         5.2898755222558975,
         5.305132031440735,
         5.3721739128232,
         5.3521063551306725,
         5.305790886282921,
         5.311664432287216,
         5.3304174318909645,
         5.298653542995453,
         5.3461746126413345,
         5.283628031611443
        ],
        [
         1.4199764645975252,
         1.4112333518621265,
         1.4313481677759117,
         1.420237108457491,
         1.41747613123926,
         1.3945132021618796,
         1.3938647401460234,
         1.4057115772932638,
         1.4174183380888208,
         1.4237176224621588,
         1.4034369347627738,
         1.4094602346532368,
         1.4196730948893268,
         1.415934954822812,
         1.4165404770624823,
         1.4063104507181925,
         1.410592515725453,
         1.4058814237990556,
         1.409551729001804,
         1.4057943353686984,
         1.425138977916999,
         1.4161923589829288,
         1.4074152361075545,
         1.4066087283563764,
         1.4065768830175935,
         1.4129516204764927,
         1.4233434188102208,
         1.418631243548029,
         1.4104583864221485,
         1.4211460063836598,
         1.4161479622096929,
         1.4143483726031054,
         1.4057848673033837,
         1.408633359683135,
         1.422702086003962,
         1.4261085583820587,
         1.4275542437199742,
         1.4165300304090458,
         1.4068161057115465,
         1.4136900035357811,
         1.4100390272365781,
         1.4133964772599588,
         1.4058350685862178,
         1.4181809310868663,
         1.4152303644802708,
         1.4140680653981887,
         1.4017718986575576,
         1.4148214431556205,
         1.4143748717996487,
         1.4199545833403975,
         1.4142907779244174,
         1.40512772097383,
         1.4085630692834186,
         1.410308134664231,
         1.4231146058568058,
         1.4092699846189047,
         1.4257419293208073,
         1.4142335844262572,
         1.422279714385148,
         1.4110286536734507,
         1.4128904615806794,
         1.414637356679594,
         1.4214723907912543,
         1.420163752260109,
         1.3990321799086975,
         1.3987972801244455,
         1.4038959088988785,
         1.4122174042554092,
         1.4094267764707142,
         1.4221150303058647,
         1.4183167170638415,
         1.4049351827901002,
         1.4210339582318705,
         1.4208255385117667,
         1.4073921291173601,
         1.4203972879605176,
         1.4194477914437167,
         1.4137505184976755,
         1.4118287876732212,
         1.4141284184680987,
         1.4159754512373381,
         1.421094930629517,
         1.4157421897164355,
         1.4122359441974137,
         1.412772109023524,
         1.4132123220219082,
         1.4280945897840975,
         1.411624292921131,
         1.415687356698199,
         1.4087758907324832,
         1.4078263535394369,
         1.4120595526226871,
         1.4164372956283655,
         1.4169379930667962,
         1.4056175578731214,
         1.4098678286266106,
         1.4170110672698877,
         1.4025980838166108,
         1.412710097217014,
         1.4034074107572623
        ]
       ],
       "encoder": "json",
       "name": "ABC_GAN_1 Metrics",
       "version": 1
      }
     },
     "metadata": {
      "scrapbook": {
       "data": true,
       "display": false,
       "name": "ABC_GAN_1 Metrics"
      }
     },
     "output_type": "display_data"
    },
    {
     "name": "stdout",
     "output_type": "stream",
     "text": [
      "MSE\n",
      "0.0998925026162863\n"
     ]
    }
   ],
   "source": [
    "ABC_GAN1_metrics=ABC_train_test2.test_generator(gen,test_data,prior_model,variance,bias,\"1\",device)\n",
    "sb.glue(\"ABC_GAN_1 Metrics\",ABC_GAN1_metrics)\n",
    "\n",
    "print(\"MSE\")\n",
    "print(mean(ABC_GAN1_metrics[0]))"
   ]
  },
  {
   "cell_type": "code",
   "execution_count": 14,
   "id": "eb22ce5c",
   "metadata": {
    "execution": {
     "iopub.execute_input": "2022-06-07T06:03:45.958082Z",
     "iopub.status.busy": "2022-06-07T06:03:45.957725Z",
     "iopub.status.idle": "2022-06-07T06:03:46.269119Z",
     "shell.execute_reply": "2022-06-07T06:03:46.269425Z"
    },
    "papermill": {
     "duration": 0.326946,
     "end_time": "2022-06-07T06:03:46.269548",
     "exception": false,
     "start_time": "2022-06-07T06:03:45.942602",
     "status": "completed"
    },
    "tags": []
   },
   "outputs": [
    {
     "data": {
      "image/png": "[encoded data removed]",
      "text/plain": [
       "<Figure size 432x288 with 1 Axes>"
      ]
     },
     "metadata": {
      "needs_background": "light"
     },
     "output_type": "display_data"
    },
    {
     "data": {
      "image/png": "[encoded data removed]",
      "text/plain": [
       "<Figure size 432x288 with 1 Axes>"
      ]
     },
     "metadata": {
      "needs_background": "light"
     },
     "output_type": "display_data"
    },
    {
     "data": {
      "image/png": "[encoded data removed]",
      "text/plain": [
       "<Figure size 432x288 with 1 Axes>"
      ]
     },
     "metadata": {
      "needs_background": "light"
     },
     "output_type": "display_data"
    },
    {
     "data": {
      "image/png": "[encoded data removed]",
      "text/plain": [
       "<Figure size 432x288 with 1 Axes>"
      ]
     },
     "metadata": {
      "needs_background": "light"
     },
     "output_type": "display_data"
    }
   ],
   "source": [
    "sanityChecks.discProbVsError(train_data,disc,device)\n",
    "sanityChecks.discProbVsError(test_data,disc,device)"
   ]
  },
  {
   "cell_type": "markdown",
   "id": "130f3a4d",
   "metadata": {
    "id": "130f3a4d",
    "papermill": {
     "duration": 0.040221,
     "end_time": "2022-06-07T06:03:46.324629",
     "exception": false,
     "start_time": "2022-06-07T06:03:46.284408",
     "status": "completed"
    },
    "tags": []
   },
   "source": [
    "# ABC - GAN Model with skip connection"
   ]
  },
  {
   "cell_type": "code",
   "execution_count": 15,
   "id": "4e43dad1",
   "metadata": {
    "execution": {
     "iopub.execute_input": "2022-06-07T06:03:46.357669Z",
     "iopub.status.busy": "2022-06-07T06:03:46.357307Z",
     "iopub.status.idle": "2022-06-07T06:03:46.359889Z",
     "shell.execute_reply": "2022-06-07T06:03:46.360218Z"
    },
    "id": "4e43dad1",
    "papermill": {
     "duration": 0.020582,
     "end_time": "2022-06-07T06:03:46.360365",
     "exception": false,
     "start_time": "2022-06-07T06:03:46.339783",
     "status": "completed"
    },
    "tags": []
   },
   "outputs": [],
   "source": [
    "#Generator\n",
    "gen3 = network.GeneratorWithSkipConnection(n_features+1).to(device)\n",
    "constraints=network.weightConstraint()\n",
    "#Discriminator \n",
    "disc3 = network.Discriminator(n_features+1).to(device)\n",
    "\n",
    "criterion = torch.nn.BCELoss()\n",
    "gen_opt = torch.optim.Adam(gen3.parameters(), lr=0.001, betas=(0.5, 0.999))\n",
    "disc_opt = torch.optim.Adam(disc3.parameters(), lr=0.001, betas=(0.5, 0.999))\n"
   ]
  },
  {
   "cell_type": "code",
   "execution_count": 16,
   "id": "26acbc37",
   "metadata": {
    "execution": {
     "iopub.execute_input": "2022-06-07T06:03:46.392411Z",
     "iopub.status.busy": "2022-06-07T06:03:46.392035Z",
     "iopub.status.idle": "2022-06-07T06:04:27.870738Z",
     "shell.execute_reply": "2022-06-07T06:04:27.871067Z"
    },
    "id": "26acbc37",
    "papermill": {
     "duration": 41.49622,
     "end_time": "2022-06-07T06:04:27.871191",
     "exception": false,
     "start_time": "2022-06-07T06:03:46.374971",
     "status": "completed"
    },
    "tags": []
   },
   "outputs": [
    {
     "data": {
      "image/png": "[encoded data removed]",
      "text/plain": [
       "<Figure size 432x288 with 1 Axes>"
      ]
     },
     "metadata": {
      "needs_background": "light"
     },
     "output_type": "display_data"
    },
    {
     "data": {
      "image/png": "[encoded data removed]",
      "text/plain": [
       "<Figure size 432x288 with 1 Axes>"
      ]
     },
     "metadata": {
      "needs_background": "light"
     },
     "output_type": "display_data"
    }
   ],
   "source": [
    "ABC_train_test2.training_GAN_skip_connection(disc3,gen3,disc_opt,gen_opt,train_data,batch_size,n_epochs,criterion,prior_model,variance,bias,device)"
   ]
  },
  {
   "cell_type": "code",
   "execution_count": 17,
   "id": "c5e0717b",
   "metadata": {
    "execution": {
     "iopub.execute_input": "2022-06-07T06:04:27.905178Z",
     "iopub.status.busy": "2022-06-07T06:04:27.904738Z",
     "iopub.status.idle": "2022-06-07T06:04:28.221991Z",
     "shell.execute_reply": "2022-06-07T06:04:28.222281Z"
    },
    "id": "c5e0717b",
    "papermill": {
     "duration": 0.335749,
     "end_time": "2022-06-07T06:04:28.222408",
     "exception": false,
     "start_time": "2022-06-07T06:04:27.886659",
     "status": "completed"
    },
    "tags": []
   },
   "outputs": [
    {
     "data": {
      "application/scrapbook.scrap.json+json": {
       "data": 0.09824078616532865,
       "encoder": "json",
       "name": "ABC-GAN Model 3 MSE",
       "version": 1
      }
     },
     "metadata": {
      "scrapbook": {
       "data": true,
       "display": false,
       "name": "ABC-GAN Model 3 MSE"
      }
     },
     "output_type": "display_data"
    },
    {
     "data": {
      "application/scrapbook.scrap.json+json": {
       "data": 0.24940338724851607,
       "encoder": "json",
       "name": "ABC-GAN Model 3 MAE",
       "version": 1
      }
     },
     "metadata": {
      "scrapbook": {
       "data": true,
       "display": false,
       "name": "ABC-GAN Model 3 MAE"
      }
     },
     "output_type": "display_data"
    },
    {
     "data": {
      "application/scrapbook.scrap.json+json": {
       "data": 4.988067744970322,
       "encoder": "json",
       "name": "ABC-GAN Model 3 Manhattan Distance",
       "version": 1
      }
     },
     "metadata": {
      "scrapbook": {
       "data": true,
       "display": false,
       "name": "ABC-GAN Model 3 Manhattan Distance"
      }
     },
     "output_type": "display_data"
    },
    {
     "data": {
      "application/scrapbook.scrap.json+json": {
       "data": 1.4016840470622884,
       "encoder": "json",
       "name": "ABC-GAN Model 3 Euclidean distance",
       "version": 1
      }
     },
     "metadata": {
      "scrapbook": {
       "data": true,
       "display": false,
       "name": "ABC-GAN Model 3 Euclidean distance"
      }
     },
     "output_type": "display_data"
    },
    {
     "data": {
      "application/scrapbook.scrap.json+json": {
       "data": [
        [
         0.0961051816461255,
         0.09707095956030076,
         0.09812845448358991,
         0.09828664618807337,
         0.0975390211181455,
         0.09823723840273355,
         0.0953270432424977,
         0.100290034829179,
         0.09851337803512492,
         0.0995806920167881,
         0.09952970470704225,
         0.09759999924001775,
         0.09828538257982689,
         0.09811048780975588,
         0.09893229162417731,
         0.09718268407368487,
         0.09896914149311456,
         0.09902674503610967,
         0.098173092524388,
         0.09667167385620412,
         0.09751896915471306,
         0.09857649550850574,
         0.09683549432159384,
         0.09556648813385311,
         0.09774765530892604,
         0.0957863571705985,
         0.09712508372735314,
         0.09821503904522984,
         0.09861925852076676,
         0.09713951295099324,
         0.10013627617835268,
         0.09626223849841273,
         0.10092651506040222,
         0.09797989527380042,
         0.09715688396674742,
         0.0988794405562213,
         0.09870462191555958,
         0.09801142084616302,
         0.09792517221044483,
         0.0982114308331338,
         0.09785300181211318,
         0.09945234235801528,
         0.10022309100736364,
         0.095517035476627,
         0.09644598807809728,
         0.09880193803569806,
         0.10057730252065719,
         0.09764125258626773,
         0.09976188180661824,
         0.0982269121526698,
         0.10063278684740858,
         0.09921499580552769,
         0.09960102068604662,
         0.09985728444581539,
         0.10056548262952272,
         0.09866512662177658,
         0.09692373345040291,
         0.09841546536016685,
         0.09788256038123584,
         0.09709754763060459,
         0.09885256857203291,
         0.09886188997071002,
         0.09474883689573566,
         0.09626588768165152,
         0.09677189143070275,
         0.0968782812257277,
         0.09811765196479202,
         0.0967877335299526,
         0.09943449073970974,
         0.10176143074662299,
         0.1000272088264278,
         0.09874490875082578,
         0.09922484394252318,
         0.09853247887185748,
         0.09966125302780653,
         0.09954810473305886,
         0.09807746800985088,
         0.09819469844354223,
         0.09989128342460876,
         0.09902116859538998,
         0.09793261808053014,
         0.09831814870760076,
         0.0996180913078811,
         0.09927360956926257,
         0.09643453218125972,
         0.10018479458957166,
         0.09809663584024952,
         0.09790961013238327,
         0.0974998232119972,
         0.0985551075430775,
         0.10029458800224034,
         0.09662802861741926,
         0.09865473279945891,
         0.09892114274718504,
         0.0965863753584301,
         0.09821254992911484,
         0.09501539265886012,
         0.0992630081460724,
         0.09673853098480545,
         0.09829636540064927
        ],
        [
         0.24639198035001755,
         0.2481708988547325,
         0.24922851473093033,
         0.2497236415743828,
         0.24866430908441545,
         0.246809746325016,
         0.244587679207325,
         0.25155364722013474,
         0.24978965371847153,
         0.2524489536881447,
         0.25302490741014483,
         0.2485586628317833,
         0.25099172443151474,
         0.2500190600752831,
         0.2513015136122704,
         0.24562474936246873,
         0.2518356665968895,
         0.2514472767710686,
         0.2496838763356209,
         0.24530558437108993,
         0.24754198938608168,
         0.25048802942037585,
         0.246425499022007,
         0.24436832815408707,
         0.24797786623239518,
         0.24666195958852768,
         0.24619110375642778,
         0.2507841601967812,
         0.25316533595323565,
         0.2466396376490593,
         0.2512495741248131,
         0.24678042382001877,
         0.2529123231768608,
         0.25012556463479996,
         0.24928728193044664,
         0.24941248446702957,
         0.2514983430504799,
         0.2493331328034401,
         0.2504770204424858,
         0.24894937723875046,
         0.24831249564886093,
         0.25093374997377393,
         0.2506987228989601,
         0.2453276202082634,
         0.24589166194200515,
         0.25233439058065416,
         0.25307563692331314,
         0.24870291203260422,
         0.2517688199877739,
         0.2483764335513115,
         0.2517819687724113,
         0.2524640455842018,
         0.25058685690164567,
         0.2512567713856697,
         0.2525299236178398,
         0.2504965618252754,
         0.24894335716962815,
         0.24818036705255508,
         0.24552768915891648,
         0.24965441077947617,
         0.25093153268098833,
         0.25203003734350204,
         0.24347663074731826,
         0.2477837398648262,
         0.24531110376119614,
         0.24860345274209977,
         0.2509588643908501,
         0.24577279537916183,
         0.25221693366765974,
         0.25175996869802475,
         0.2512821272015572,
         0.24882256835699082,
         0.25111260563135146,
         0.2483891949057579,
         0.2507799580693245,
         0.25307233482599256,
         0.25120866149663923,
         0.24927083402872086,
         0.25093444138765336,
         0.2504743173718452,
         0.24999099522829055,
         0.249250827729702,
         0.25292042940855025,
         0.2515865579247475,
         0.24787799268960953,
         0.2516780003905296,
         0.24726484566926957,
         0.24882047027349471,
         0.24671223610639573,
         0.24945373088121414,
         0.24964235574007035,
         0.24685806781053543,
         0.2501333877444267,
         0.25060196667909623,
         0.24737055748701095,
         0.2510948047041893,
         0.24410991817712785,
         0.2507458284497261,
         0.24731283336877824,
         0.25044493824243547
        ],
        [
         4.927839607000351,
         4.96341797709465,
         4.984570294618607,
         4.994472831487656,
         4.973286181688309,
         4.93619492650032,
         4.8917535841465,
         5.031072944402695,
         4.9957930743694305,
         5.048979073762894,
         5.060498148202896,
         4.971173256635666,
         5.019834488630295,
         5.000381201505661,
         5.026030272245407,
         4.912494987249374,
         5.03671333193779,
         5.0289455354213715,
         4.993677526712418,
         4.906111687421799,
         4.950839787721634,
         5.0097605884075165,
         4.92850998044014,
         4.887366563081741,
         4.959557324647903,
         4.933239191770554,
         4.923822075128555,
         5.015683203935623,
         5.0633067190647125,
         4.932792752981186,
         5.024991482496262,
         4.935608476400375,
         5.058246463537216,
         5.002511292695999,
         4.9857456386089325,
         4.988249689340591,
         5.029966861009598,
         4.986662656068802,
         5.009540408849716,
         4.978987544775009,
         4.966249912977219,
         5.018674999475479,
         5.013974457979202,
         4.906552404165268,
         4.917833238840103,
         5.046687811613083,
         5.061512738466263,
         4.974058240652084,
         5.035376399755478,
         4.96752867102623,
         5.035639375448227,
         5.049280911684036,
         5.011737138032913,
         5.025135427713394,
         5.050598472356796,
         5.009931236505508,
         4.978867143392563,
         4.963607341051102,
         4.9105537831783295,
         4.993088215589523,
         5.018630653619766,
         5.040600746870041,
         4.869532614946365,
         4.955674797296524,
         4.906222075223923,
         4.972069054841995,
         5.019177287817001,
         4.915455907583237,
         5.044338673353195,
         5.035199373960495,
         5.025642544031143,
         4.976451367139816,
         5.022252112627029,
         4.967783898115158,
         5.01559916138649,
         5.061446696519852,
         5.024173229932785,
         4.985416680574417,
         5.018688827753067,
         5.009486347436905,
         4.999819904565811,
         4.98501655459404,
         5.058408588171005,
         5.031731158494949,
         4.9575598537921906,
         5.033560007810593,
         4.945296913385391,
         4.976409405469894,
         4.934244722127914,
         4.989074617624283,
         4.992847114801407,
         4.937161356210709,
         5.0026677548885345,
         5.012039333581924,
         4.947411149740219,
         5.021896094083786,
         4.882198363542557,
         5.014916568994522,
         4.946256667375565,
         5.008898764848709
        ],
        [
         1.3863995213943598,
         1.3933481945321546,
         1.4009172315564535,
         1.4020459777630216,
         1.3967034124548097,
         1.4016935357112377,
         1.3807754577953484,
         1.4162629334214674,
         1.4036621960794193,
         1.4112454925829743,
         1.4108841533381984,
         1.3971399302862813,
         1.402036965131996,
         1.400788976325527,
         1.4066434631716547,
         1.3941498059655202,
         1.4069054089960316,
         1.40731478380716,
         1.4012358297188092,
         1.390479585295693,
         1.3965598387087683,
         1.4041117869208686,
         1.3916572445943278,
         1.3825085036545208,
         1.398196376114071,
         1.3840979529686366,
         1.3937365872169183,
         1.4015351515051617,
         1.4044163095091624,
         1.393840112430355,
         1.415176852399393,
         1.3875318987209824,
         1.4207499080443555,
         1.3998563874469439,
         1.393964733892127,
         1.4062676882885514,
         1.405023999194032,
         1.4000815750959872,
         1.399465413723718,
         1.4015094065551883,
         1.3989496189077946,
         1.4103357214366747,
         1.415790175183905,
         1.3821507549947436,
         1.3888555582068085,
         1.405716458150064,
         1.4182898330077474,
         1.397435169059858,
         1.412528808956605,
         1.4016198639621928,
         1.4186809849110447,
         1.4086518079747576,
         1.41138953295004,
         1.4132040507005021,
         1.4182064915203478,
         1.4047428705765093,
         1.3922911581303883,
         1.402964471112272,
         1.3991608941164404,
         1.3935390029030732,
         1.4060765880422936,
         1.4061428801562808,
         1.3765815405978366,
         1.3875581982868432,
         1.3912001396686442,
         1.3919646635294138,
         1.4008401191056175,
         1.391314008626037,
         1.4102091386720605,
         1.4266143890107303,
         1.414405944744491,
         1.4053107040852266,
         1.4087217180303793,
         1.4037982680702914,
         1.4118162276146746,
         1.4110145621719066,
         1.4005532336177078,
         1.4013900131194188,
         1.4134446110450085,
         1.4072751585627452,
         1.3995186178149266,
         1.4022706493940515,
         1.411510476814686,
         1.4090678448482357,
         1.3887730713205793,
         1.4155196543289086,
         1.4006900859237172,
         1.3993542091435125,
         1.3964227383711367,
         1.4039594548495873,
         1.4162950822638645,
         1.3901656636345128,
         1.404668877703631,
         1.4065642022117941,
         1.389866003314205,
         1.4015173914662267,
         1.3785165407702595,
         1.4089926057014805,
         1.3909603228331529,
         1.4021152976888118
        ]
       ],
       "encoder": "json",
       "name": "ABC_GAN_3 Metrics",
       "version": 1
      }
     },
     "metadata": {
      "scrapbook": {
       "data": true,
       "display": false,
       "name": "ABC_GAN_3 Metrics"
      }
     },
     "output_type": "display_data"
    },
    {
     "name": "stdout",
     "output_type": "stream",
     "text": [
      "MSE\n",
      "0.09824078616532865\n"
     ]
    }
   ],
   "source": [
    "ABC_GAN3_metrics=ABC_train_test2.test_generator(gen3,test_data,prior_model,variance,bias,\"3\",device)\n",
    "sb.glue(\"ABC_GAN_3 Metrics\",ABC_GAN3_metrics)\n",
    "\n",
    "print(\"MSE\")\n",
    "print(mean(ABC_GAN3_metrics[0]))"
   ]
  },
  {
   "cell_type": "code",
   "execution_count": 18,
   "id": "c8e46b48",
   "metadata": {
    "execution": {
     "iopub.execute_input": "2022-06-07T06:04:28.259816Z",
     "iopub.status.busy": "2022-06-07T06:04:28.259346Z",
     "iopub.status.idle": "2022-06-07T06:04:28.568076Z",
     "shell.execute_reply": "2022-06-07T06:04:28.568332Z"
    },
    "id": "c8e46b48",
    "papermill": {
     "duration": 0.328808,
     "end_time": "2022-06-07T06:04:28.568459",
     "exception": false,
     "start_time": "2022-06-07T06:04:28.239651",
     "status": "completed"
    },
    "tags": []
   },
   "outputs": [
    {
     "data": {
      "image/png": "[encoded data removed]",
      "text/plain": [
       "<Figure size 432x288 with 1 Axes>"
      ]
     },
     "metadata": {
      "needs_background": "light"
     },
     "output_type": "display_data"
    },
    {
     "data": {
      "image/png": "[encoded data removed]",
      "text/plain": [
       "<Figure size 432x288 with 1 Axes>"
      ]
     },
     "metadata": {
      "needs_background": "light"
     },
     "output_type": "display_data"
    },
    {
     "data": {
      "image/png": "[encoded data removed]",
      "text/plain": [
       "<Figure size 432x288 with 1 Axes>"
      ]
     },
     "metadata": {
      "needs_background": "light"
     },
     "output_type": "display_data"
    },
    {
     "data": {
      "image/png": "[encoded data removed]",
      "text/plain": [
       "<Figure size 432x288 with 1 Axes>"
      ]
     },
     "metadata": {
      "needs_background": "light"
     },
     "output_type": "display_data"
    }
   ],
   "source": [
    "sanityChecks.discProbVsError(train_data,disc3,device)\n",
    "sanityChecks.discProbVsError(test_data,disc3,device)"
   ]
  },
  {
   "cell_type": "markdown",
   "id": "a5bd74c3",
   "metadata": {
    "id": "a5bd74c3",
    "papermill": {
     "duration": 0.019114,
     "end_time": "2022-06-07T06:04:28.607310",
     "exception": false,
     "start_time": "2022-06-07T06:04:28.588196",
     "status": "completed"
    },
    "tags": []
   },
   "source": [
    "## Skip Connection Model Analysis - ABC-GAN "
   ]
  },
  {
   "cell_type": "markdown",
   "id": "5744a8bf",
   "metadata": {
    "id": "5744a8bf",
    "papermill": {
     "duration": 0.019809,
     "end_time": "2022-06-07T06:04:28.646629",
     "exception": false,
     "start_time": "2022-06-07T06:04:28.626820",
     "status": "completed"
    },
    "tags": []
   },
   "source": [
    "### Weight Analysis \n",
    "\n",
    "Study the weights of the skip connection layer\n",
    "\n",
    "Equation of the skip connection is \n",
    "\n",
    "$output = y_{gan} * w + y_{abc} * (1-w)$"
   ]
  },
  {
   "cell_type": "code",
   "execution_count": 19,
   "id": "52c31dea",
   "metadata": {
    "execution": {
     "iopub.execute_input": "2022-06-07T06:04:28.688489Z",
     "iopub.status.busy": "2022-06-07T06:04:28.688105Z",
     "iopub.status.idle": "2022-06-07T06:04:28.691629Z",
     "shell.execute_reply": "2022-06-07T06:04:28.691891Z"
    },
    "id": "52c31dea",
    "papermill": {
     "duration": 0.025837,
     "end_time": "2022-06-07T06:04:28.692031",
     "exception": false,
     "start_time": "2022-06-07T06:04:28.666194",
     "status": "completed"
    },
    "tags": []
   },
   "outputs": [
    {
     "name": "stdout",
     "output_type": "stream",
     "text": [
      "Weight of the node at skip connection\n",
      "Parameter containing:\n",
      "tensor([[0.0820]], requires_grad=True)\n"
     ]
    },
    {
     "data": {
      "application/scrapbook.scrap.json+json": {
       "data": 0.08195823431015015,
       "encoder": "json",
       "name": "Skip Connection Weight",
       "version": 1
      }
     },
     "metadata": {
      "scrapbook": {
       "data": true,
       "display": false,
       "name": "Skip Connection Weight"
      }
     },
     "output_type": "display_data"
    }
   ],
   "source": [
    "print(\"Weight of the node at skip connection\")\n",
    "for name,param in gen3.named_parameters():\n",
    "    if(name == \"skipNode.weight\"):\n",
    "        print(param)\n",
    "        sb.glue(\"Skip Connection Weight\",param.item())"
   ]
  }
 ],
 "metadata": {
  "colab": {
   "collapsed_sections": [],
   "name": "ABC_GAN_Model-Catboost_Pre-gen.ipynb",
   "provenance": []
  },
  "interpreter": {
   "hash": "31f2aee4e71d21fbe5cf8b01ff0e069b9275f58929596ceb00d14d90e3e16cd6"
  },
  "kernelspec": {
   "display_name": "Python 3 (ipykernel)",
   "language": "python",
   "name": "python3"
  },
  "language_info": {
   "codemirror_mode": {
    "name": "ipython",
    "version": 3
   },
   "file_extension": ".py",
   "mimetype": "text/x-python",
   "name": "python",
   "nbconvert_exporter": "python",
   "pygments_lexer": "ipython3",
   "version": "3.8.11"
  },
  "papermill": {
   "default_parameters": {},
   "duration": 62.046556,
   "end_time": "2022-06-07T06:04:29.019697",
   "environment_variables": {},
   "exception": null,
   "input_path": "ABC_GAN-Catboost.ipynb",
   "output_path": "./ABC_GAN_Catboost/ABC-GAN_output_2_2.ipynb",
   "parameters": {
    "bias": 1,
    "variance": 0.01
   },
   "start_time": "2022-06-07T06:03:26.973141",
   "version": "2.3.3"
  }
 },
 "nbformat": 4,
 "nbformat_minor": 5
}