{
 "cells": [
  {
   "cell_type": "markdown",
   "id": "622780e6",
   "metadata": {
    "id": "622780e6",
    "papermill": {
     "duration": 0.029482,
     "end_time": "2022-06-07T06:16:22.573275",
     "exception": false,
     "start_time": "2022-06-07T06:16:22.543793",
     "status": "completed"
    },
    "tags": []
   },
   "source": [
    "## Import Libraries "
   ]
  },
  {
   "cell_type": "code",
   "execution_count": 1,
   "id": "a62397e3",
   "metadata": {
    "execution": {
     "iopub.execute_input": "2022-06-07T06:16:22.611209Z",
     "iopub.status.busy": "2022-06-07T06:16:22.610701Z",
     "iopub.status.idle": "2022-06-07T06:16:22.612998Z",
     "shell.execute_reply": "2022-06-07T06:16:22.613328Z"
    },
    "id": "a62397e3",
    "papermill": {
     "duration": 0.023193,
     "end_time": "2022-06-07T06:16:22.613540",
     "exception": false,
     "start_time": "2022-06-07T06:16:22.590347",
     "status": "completed"
    },
    "tags": []
   },
   "outputs": [],
   "source": [
    "import warnings\n",
    "import sys\n",
    "sys.path.insert(0, '../../src')\n",
    "warnings.filterwarnings('ignore')"
   ]
  },
  {
   "cell_type": "code",
   "execution_count": 2,
   "id": "d6a4e155",
   "metadata": {
    "execution": {
     "iopub.execute_input": "2022-06-07T06:16:22.634214Z",
     "iopub.status.busy": "2022-06-07T06:16:22.633798Z",
     "iopub.status.idle": "2022-06-07T06:16:24.463406Z",
     "shell.execute_reply": "2022-06-07T06:16:24.463660Z"
    },
    "id": "d6a4e155",
    "papermill": {
     "duration": 1.840557,
     "end_time": "2022-06-07T06:16:24.463783",
     "exception": false,
     "start_time": "2022-06-07T06:16:22.623226",
     "status": "completed"
    },
    "tags": []
   },
   "outputs": [],
   "source": [
    "import ABC_train_test2\n",
    "import friedman1Dataset\n",
    "import network\n",
    "import dataset\n",
    "import sanityChecks\n",
    "import torch \n",
    "import scrapbook as sb\n",
    "from statistics import mean \n",
    "import catboost as ctb \n",
    "from sklearn.model_selection import train_test_split\n",
    "from sklearn.metrics import mean_squared_error,mean_absolute_error\n",
    "import numpy as np"
   ]
  },
  {
   "cell_type": "markdown",
   "id": "2fa5b0f7",
   "metadata": {
    "id": "2fa5b0f7",
    "papermill": {
     "duration": 0.006867,
     "end_time": "2022-06-07T06:16:24.477815",
     "exception": false,
     "start_time": "2022-06-07T06:16:24.470948",
     "status": "completed"
    },
    "tags": []
   },
   "source": [
    "## Parameters "
   ]
  },
  {
   "cell_type": "code",
   "execution_count": 3,
   "id": "783186fb",
   "metadata": {
    "execution": {
     "iopub.execute_input": "2022-06-07T06:16:24.493674Z",
     "iopub.status.busy": "2022-06-07T06:16:24.493257Z",
     "iopub.status.idle": "2022-06-07T06:16:24.494684Z",
     "shell.execute_reply": "2022-06-07T06:16:24.494388Z"
    },
    "id": "783186fb",
    "papermill": {
     "duration": 0.010076,
     "end_time": "2022-06-07T06:16:24.494780",
     "exception": false,
     "start_time": "2022-06-07T06:16:24.484704",
     "status": "completed"
    },
    "tags": [
     "parameters"
    ]
   },
   "outputs": [],
   "source": [
    "variance = 1\n",
    "bias = 1 "
   ]
  },
  {
   "cell_type": "code",
   "execution_count": 4,
   "id": "3b42a046",
   "metadata": {
    "execution": {
     "iopub.execute_input": "2022-06-07T06:16:24.510406Z",
     "iopub.status.busy": "2022-06-07T06:16:24.510021Z",
     "iopub.status.idle": "2022-06-07T06:16:24.511359Z",
     "shell.execute_reply": "2022-06-07T06:16:24.511608Z"
    },
    "papermill": {
     "duration": 0.01005,
     "end_time": "2022-06-07T06:16:24.511716",
     "exception": false,
     "start_time": "2022-06-07T06:16:24.501666",
     "status": "completed"
    },
    "tags": [
     "injected-parameters"
    ]
   },
   "outputs": [],
   "source": [
    "# Parameters\n",
    "variance = 1\n",
    "bias = 0.1\n"
   ]
  },
  {
   "cell_type": "markdown",
   "id": "391cdbfd",
   "metadata": {
    "id": "391cdbfd",
    "papermill": {
     "duration": 0.006822,
     "end_time": "2022-06-07T06:16:24.525465",
     "exception": false,
     "start_time": "2022-06-07T06:16:24.518643",
     "status": "completed"
    },
    "tags": []
   },
   "source": [
    "## Dataset \n"
   ]
  },
  {
   "cell_type": "code",
   "execution_count": 5,
   "id": "5b51f161",
   "metadata": {
    "execution": {
     "iopub.execute_input": "2022-06-07T06:16:24.541284Z",
     "iopub.status.busy": "2022-06-07T06:16:24.540912Z",
     "iopub.status.idle": "2022-06-07T06:16:24.542202Z",
     "shell.execute_reply": "2022-06-07T06:16:24.542453Z"
    },
    "id": "5b51f161",
    "papermill": {
     "duration": 0.010204,
     "end_time": "2022-06-07T06:16:24.542566",
     "exception": false,
     "start_time": "2022-06-07T06:16:24.532362",
     "status": "completed"
    },
    "tags": []
   },
   "outputs": [],
   "source": [
    "#Parameters \n",
    "n_features = 5\n",
    "n_samples= 100\n",
    "n_target = 1 "
   ]
  },
  {
   "cell_type": "code",
   "execution_count": 6,
   "id": "5d6eced4",
   "metadata": {
    "execution": {
     "iopub.execute_input": "2022-06-07T06:16:24.559141Z",
     "iopub.status.busy": "2022-06-07T06:16:24.558778Z",
     "iopub.status.idle": "2022-06-07T06:16:24.564809Z",
     "shell.execute_reply": "2022-06-07T06:16:24.565049Z"
    },
    "id": "5d6eced4",
    "papermill": {
     "duration": 0.015305,
     "end_time": "2022-06-07T06:16:24.565170",
     "exception": false,
     "start_time": "2022-06-07T06:16:24.549865",
     "status": "completed"
    },
    "tags": []
   },
   "outputs": [
    {
     "name": "stdout",
     "output_type": "stream",
     "text": [
      "         X0        X1        X2        X3        X4         Y\n",
      "0  1.733375 -0.857913  0.296580  0.588415  0.001413  0.312431\n",
      "1 -0.175131 -1.054611 -0.185784 -1.364635 -1.609006 -2.059373\n",
      "2 -1.425116  1.229024  1.001324 -1.384328  1.452172 -0.845893\n",
      "3 -1.738812  0.253805 -1.576728 -0.167397 -1.172821 -0.845150\n",
      "4  1.306743 -0.274341  0.942868 -1.111226 -1.731988 -0.361945\n"
     ]
    }
   ],
   "source": [
    "X,Y = friedman1Dataset.friedman1_data(n_samples,n_features)"
   ]
  },
  {
   "cell_type": "code",
   "execution_count": 7,
   "id": "fe007438",
   "metadata": {
    "execution": {
     "iopub.execute_input": "2022-06-07T06:16:24.582578Z",
     "iopub.status.busy": "2022-06-07T06:16:24.582205Z",
     "iopub.status.idle": "2022-06-07T06:16:24.583477Z",
     "shell.execute_reply": "2022-06-07T06:16:24.583714Z"
    },
    "id": "fe007438",
    "papermill": {
     "duration": 0.01129,
     "end_time": "2022-06-07T06:16:24.583833",
     "exception": false,
     "start_time": "2022-06-07T06:16:24.572543",
     "status": "completed"
    },
    "tags": []
   },
   "outputs": [],
   "source": [
    "#Train test split for dataset \n",
    "X_train,X_test,Y_train,Y_test = train_test_split(X,Y,test_size = 0.2)\n",
    "train_data = dataset.CustomDataset(X_train,Y_train)\n",
    "test_data = dataset.CustomDataset(X_test,Y_test)\n"
   ]
  },
  {
   "cell_type": "markdown",
   "id": "a9a1af34",
   "metadata": {
    "id": "a9a1af34",
    "papermill": {
     "duration": 0.007081,
     "end_time": "2022-06-07T06:16:24.598152",
     "exception": false,
     "start_time": "2022-06-07T06:16:24.591071",
     "status": "completed"
    },
    "tags": []
   },
   "source": [
    "## Training Parameters "
   ]
  },
  {
   "cell_type": "code",
   "execution_count": 8,
   "id": "952b7fc8",
   "metadata": {
    "execution": {
     "iopub.execute_input": "2022-06-07T06:16:24.614600Z",
     "iopub.status.busy": "2022-06-07T06:16:24.614247Z",
     "iopub.status.idle": "2022-06-07T06:16:24.615532Z",
     "shell.execute_reply": "2022-06-07T06:16:24.615776Z"
    },
    "id": "952b7fc8",
    "papermill": {
     "duration": 0.010636,
     "end_time": "2022-06-07T06:16:24.615886",
     "exception": false,
     "start_time": "2022-06-07T06:16:24.605250",
     "status": "completed"
    },
    "tags": []
   },
   "outputs": [],
   "source": [
    "batch_size = 32\n",
    "n_epochs = 1000\n",
    "#Select the device \n",
    "device = torch.device('cuda' if torch.cuda.is_available() else 'cpu')"
   ]
  },
  {
   "cell_type": "markdown",
   "id": "a95e1600",
   "metadata": {
    "id": "a95e1600",
    "papermill": {
     "duration": 0.007086,
     "end_time": "2022-06-07T06:16:24.630194",
     "exception": false,
     "start_time": "2022-06-07T06:16:24.623108",
     "status": "completed"
    },
    "tags": []
   },
   "source": [
    "# ABC Pre-generator Model \n",
    "\n",
    "1. The catboost model is used as a pre-generator model for the ABC-GAN. \n",
    "2. The model is first trained on the entire dataset \n",
    "3. It generats X,Y pairs and we add some Gaussian noise with mean 0 and variance 1 to it which is then feed as input to the generator.\n"
   ]
  },
  {
   "cell_type": "code",
   "execution_count": 9,
   "id": "ff8ce7bd",
   "metadata": {
    "execution": {
     "iopub.execute_input": "2022-06-07T06:16:24.648163Z",
     "iopub.status.busy": "2022-06-07T06:16:24.647767Z",
     "iopub.status.idle": "2022-06-07T06:16:25.268385Z",
     "shell.execute_reply": "2022-06-07T06:16:25.268679Z"
    },
    "id": "ff8ce7bd",
    "papermill": {
     "duration": 0.631465,
     "end_time": "2022-06-07T06:16:25.268806",
     "exception": false,
     "start_time": "2022-06-07T06:16:24.637341",
     "status": "completed"
    },
    "tags": []
   },
   "outputs": [
    {
     "name": "stdout",
     "output_type": "stream",
     "text": [
      "Learning rate set to 0.024897\n",
      "0:\tlearn: 0.9718741\ttotal: 57.4ms\tremaining: 57.3s\n",
      "1:\tlearn: 0.9619259\ttotal: 57.8ms\tremaining: 28.9s\n",
      "2:\tlearn: 0.9523288\ttotal: 58.3ms\tremaining: 19.4s\n",
      "3:\tlearn: 0.9416415\ttotal: 58.8ms\tremaining: 14.6s\n",
      "4:\tlearn: 0.9329884\ttotal: 59.3ms\tremaining: 11.8s\n",
      "5:\tlearn: 0.9246050\ttotal: 59.8ms\tremaining: 9.91s\n",
      "6:\tlearn: 0.9132882\ttotal: 60.3ms\tremaining: 8.55s\n",
      "7:\tlearn: 0.9061064\ttotal: 60.9ms\tremaining: 7.56s\n",
      "8:\tlearn: 0.8983457\ttotal: 61.4ms\tremaining: 6.75s\n",
      "9:\tlearn: 0.8900401\ttotal: 61.8ms\tremaining: 6.12s\n",
      "10:\tlearn: 0.8814033\ttotal: 63.1ms\tremaining: 5.67s\n",
      "11:\tlearn: 0.8730568\ttotal: 63.7ms\tremaining: 5.25s\n",
      "12:\tlearn: 0.8629282\ttotal: 64.2ms\tremaining: 4.87s\n",
      "13:\tlearn: 0.8545294\ttotal: 64.6ms\tremaining: 4.55s\n",
      "14:\tlearn: 0.8480102\ttotal: 65.1ms\tremaining: 4.28s\n",
      "15:\tlearn: 0.8396594\ttotal: 65.6ms\tremaining: 4.04s\n",
      "16:\tlearn: 0.8320101\ttotal: 66.1ms\tremaining: 3.82s\n",
      "17:\tlearn: 0.8235686\ttotal: 66.8ms\tremaining: 3.64s\n",
      "18:\tlearn: 0.8153293\ttotal: 67.3ms\tremaining: 3.47s\n",
      "19:\tlearn: 0.8072010\ttotal: 67.8ms\tremaining: 3.32s\n",
      "20:\tlearn: 0.7996805\ttotal: 68.3ms\tremaining: 3.18s\n",
      "21:\tlearn: 0.7908292\ttotal: 68.7ms\tremaining: 3.06s\n",
      "22:\tlearn: 0.7832912\ttotal: 69.3ms\tremaining: 2.94s\n",
      "23:\tlearn: 0.7751297\ttotal: 69.8ms\tremaining: 2.84s\n",
      "24:\tlearn: 0.7670375\ttotal: 70.3ms\tremaining: 2.74s\n",
      "25:\tlearn: 0.7603736\ttotal: 70.7ms\tremaining: 2.65s\n",
      "26:\tlearn: 0.7543121\ttotal: 71.2ms\tremaining: 2.56s\n",
      "27:\tlearn: 0.7461049\ttotal: 71.8ms\tremaining: 2.49s\n",
      "28:\tlearn: 0.7390960\ttotal: 72.3ms\tremaining: 2.42s\n",
      "29:\tlearn: 0.7313359\ttotal: 72.9ms\tremaining: 2.36s\n",
      "30:\tlearn: 0.7241720\ttotal: 73.4ms\tremaining: 2.29s\n",
      "31:\tlearn: 0.7166629\ttotal: 73.8ms\tremaining: 2.23s\n",
      "32:\tlearn: 0.7092380\ttotal: 74.2ms\tremaining: 2.17s\n",
      "33:\tlearn: 0.7032449\ttotal: 74.6ms\tremaining: 2.12s\n",
      "34:\tlearn: 0.6958444\ttotal: 75.1ms\tremaining: 2.07s\n",
      "35:\tlearn: 0.6902091\ttotal: 75.6ms\tremaining: 2.02s\n",
      "36:\tlearn: 0.6844355\ttotal: 76ms\tremaining: 1.98s\n",
      "37:\tlearn: 0.6773391\ttotal: 76.4ms\tremaining: 1.93s\n",
      "38:\tlearn: 0.6703080\ttotal: 76.8ms\tremaining: 1.89s\n",
      "39:\tlearn: 0.6652109\ttotal: 77.3ms\tremaining: 1.85s\n",
      "40:\tlearn: 0.6593331\ttotal: 77.8ms\tremaining: 1.82s\n",
      "41:\tlearn: 0.6535290\ttotal: 78.4ms\tremaining: 1.79s\n",
      "42:\tlearn: 0.6481809\ttotal: 78.8ms\tremaining: 1.75s\n",
      "43:\tlearn: 0.6422296\ttotal: 79.2ms\tremaining: 1.72s\n",
      "44:\tlearn: 0.6353385\ttotal: 79.6ms\tremaining: 1.69s\n",
      "45:\tlearn: 0.6299212\ttotal: 80.1ms\tremaining: 1.66s\n",
      "46:\tlearn: 0.6243690\ttotal: 80.4ms\tremaining: 1.63s\n",
      "47:\tlearn: 0.6190464\ttotal: 80.8ms\tremaining: 1.6s\n",
      "48:\tlearn: 0.6135621\ttotal: 81.2ms\tremaining: 1.58s\n",
      "49:\tlearn: 0.6088848\ttotal: 81.6ms\tremaining: 1.55s\n",
      "50:\tlearn: 0.6034556\ttotal: 81.9ms\tremaining: 1.52s\n",
      "51:\tlearn: 0.5985480\ttotal: 82.3ms\tremaining: 1.5s\n",
      "52:\tlearn: 0.5936897\ttotal: 82.8ms\tremaining: 1.48s\n",
      "53:\tlearn: 0.5890800\ttotal: 83.2ms\tremaining: 1.46s\n",
      "54:\tlearn: 0.5836284\ttotal: 83.6ms\tremaining: 1.44s\n",
      "55:\tlearn: 0.5775180\ttotal: 84.7ms\tremaining: 1.43s\n",
      "56:\tlearn: 0.5728824\ttotal: 85.2ms\tremaining: 1.41s\n",
      "57:\tlearn: 0.5685454\ttotal: 88.7ms\tremaining: 1.44s\n",
      "58:\tlearn: 0.5644706\ttotal: 89ms\tremaining: 1.42s\n",
      "59:\tlearn: 0.5595011\ttotal: 89.4ms\tremaining: 1.4s\n",
      "60:\tlearn: 0.5542767\ttotal: 89.9ms\tremaining: 1.38s\n",
      "61:\tlearn: 0.5498919\ttotal: 90.4ms\tremaining: 1.37s\n",
      "62:\tlearn: 0.5451016\ttotal: 90.8ms\tremaining: 1.35s\n",
      "63:\tlearn: 0.5402939\ttotal: 91.2ms\tremaining: 1.33s\n",
      "64:\tlearn: 0.5360174\ttotal: 91.7ms\tremaining: 1.32s\n",
      "65:\tlearn: 0.5320647\ttotal: 92.1ms\tremaining: 1.3s\n",
      "66:\tlearn: 0.5275991\ttotal: 92.5ms\tremaining: 1.29s\n",
      "67:\tlearn: 0.5232278\ttotal: 93ms\tremaining: 1.27s\n",
      "68:\tlearn: 0.5177507\ttotal: 93.5ms\tremaining: 1.26s\n",
      "69:\tlearn: 0.5137603\ttotal: 94.1ms\tremaining: 1.25s\n",
      "70:\tlearn: 0.5100431\ttotal: 94.6ms\tremaining: 1.24s\n",
      "71:\tlearn: 0.5064911\ttotal: 95.1ms\tremaining: 1.23s\n",
      "72:\tlearn: 0.5025033\ttotal: 95.4ms\tremaining: 1.21s\n",
      "73:\tlearn: 0.4980185\ttotal: 95.8ms\tremaining: 1.2s\n",
      "74:\tlearn: 0.4944879\ttotal: 96.3ms\tremaining: 1.19s\n",
      "75:\tlearn: 0.4909131\ttotal: 96.7ms\tremaining: 1.18s\n",
      "76:\tlearn: 0.4874502\ttotal: 97.2ms\tremaining: 1.16s\n",
      "77:\tlearn: 0.4831577\ttotal: 97.5ms\tremaining: 1.15s\n",
      "78:\tlearn: 0.4803083\ttotal: 97.9ms\tremaining: 1.14s\n",
      "79:\tlearn: 0.4764790\ttotal: 98.4ms\tremaining: 1.13s\n",
      "80:\tlearn: 0.4728798\ttotal: 98.8ms\tremaining: 1.12s\n",
      "81:\tlearn: 0.4687681\ttotal: 99.2ms\tremaining: 1.11s\n",
      "82:\tlearn: 0.4646441\ttotal: 99.6ms\tremaining: 1.1s\n",
      "83:\tlearn: 0.4613462\ttotal: 100ms\tremaining: 1.09s\n",
      "84:\tlearn: 0.4582182\ttotal: 101ms\tremaining: 1.09s\n",
      "85:\tlearn: 0.4543294\ttotal: 102ms\tremaining: 1.08s\n",
      "86:\tlearn: 0.4515449\ttotal: 103ms\tremaining: 1.08s\n",
      "87:\tlearn: 0.4484079\ttotal: 103ms\tremaining: 1.07s\n",
      "88:\tlearn: 0.4447328\ttotal: 103ms\tremaining: 1.06s\n",
      "89:\tlearn: 0.4412750\ttotal: 104ms\tremaining: 1.05s\n",
      "90:\tlearn: 0.4378872\ttotal: 104ms\tremaining: 1.04s\n",
      "91:\tlearn: 0.4351009\ttotal: 105ms\tremaining: 1.03s\n",
      "92:\tlearn: 0.4317895\ttotal: 105ms\tremaining: 1.03s\n",
      "93:\tlearn: 0.4275429\ttotal: 106ms\tremaining: 1.02s\n",
      "94:\tlearn: 0.4247395\ttotal: 106ms\tremaining: 1.01s\n",
      "95:\tlearn: 0.4218489\ttotal: 107ms\tremaining: 1s\n",
      "96:\tlearn: 0.4183217\ttotal: 107ms\tremaining: 996ms\n",
      "97:\tlearn: 0.4148307\ttotal: 107ms\tremaining: 988ms\n"
     ]
    },
    {
     "name": "stdout",
     "output_type": "stream",
     "text": [
      "98:\tlearn: 0.4112950\ttotal: 108ms\tremaining: 984ms\n",
      "99:\tlearn: 0.4080601\ttotal: 109ms\tremaining: 980ms\n",
      "100:\tlearn: 0.4052387\ttotal: 109ms\tremaining: 973ms\n",
      "101:\tlearn: 0.4020613\ttotal: 110ms\tremaining: 966ms\n",
      "102:\tlearn: 0.3991434\ttotal: 110ms\tremaining: 960ms\n",
      "103:\tlearn: 0.3959552\ttotal: 111ms\tremaining: 953ms\n",
      "104:\tlearn: 0.3934903\ttotal: 111ms\tremaining: 948ms\n",
      "105:\tlearn: 0.3903128\ttotal: 112ms\tremaining: 941ms\n",
      "106:\tlearn: 0.3872311\ttotal: 112ms\tremaining: 935ms\n",
      "107:\tlearn: 0.3844714\ttotal: 113ms\tremaining: 930ms\n",
      "108:\tlearn: 0.3818532\ttotal: 113ms\tremaining: 926ms\n",
      "109:\tlearn: 0.3789187\ttotal: 114ms\tremaining: 921ms\n",
      "110:\tlearn: 0.3763680\ttotal: 114ms\tremaining: 916ms\n",
      "111:\tlearn: 0.3736132\ttotal: 115ms\tremaining: 911ms\n",
      "112:\tlearn: 0.3710793\ttotal: 115ms\tremaining: 906ms\n",
      "113:\tlearn: 0.3688295\ttotal: 116ms\tremaining: 900ms\n",
      "114:\tlearn: 0.3656632\ttotal: 116ms\tremaining: 894ms\n",
      "115:\tlearn: 0.3628738\ttotal: 117ms\tremaining: 888ms\n",
      "116:\tlearn: 0.3602763\ttotal: 117ms\tremaining: 882ms\n",
      "117:\tlearn: 0.3581308\ttotal: 117ms\tremaining: 876ms\n",
      "118:\tlearn: 0.3562326\ttotal: 118ms\tremaining: 870ms\n",
      "119:\tlearn: 0.3535733\ttotal: 118ms\tremaining: 865ms\n",
      "120:\tlearn: 0.3508551\ttotal: 118ms\tremaining: 859ms\n",
      "121:\tlearn: 0.3483069\ttotal: 119ms\tremaining: 854ms\n",
      "122:\tlearn: 0.3458657\ttotal: 119ms\tremaining: 849ms\n",
      "123:\tlearn: 0.3432874\ttotal: 119ms\tremaining: 843ms\n",
      "124:\tlearn: 0.3411279\ttotal: 120ms\tremaining: 838ms\n",
      "125:\tlearn: 0.3381734\ttotal: 120ms\tremaining: 833ms\n",
      "126:\tlearn: 0.3362812\ttotal: 120ms\tremaining: 828ms\n",
      "127:\tlearn: 0.3343108\ttotal: 121ms\tremaining: 823ms\n",
      "128:\tlearn: 0.3315762\ttotal: 121ms\tremaining: 818ms\n",
      "129:\tlearn: 0.3291699\ttotal: 122ms\tremaining: 813ms\n",
      "130:\tlearn: 0.3270513\ttotal: 122ms\tremaining: 809ms\n",
      "131:\tlearn: 0.3246851\ttotal: 122ms\tremaining: 804ms\n",
      "132:\tlearn: 0.3223959\ttotal: 123ms\tremaining: 799ms\n",
      "133:\tlearn: 0.3197632\ttotal: 123ms\tremaining: 795ms\n",
      "134:\tlearn: 0.3173142\ttotal: 123ms\tremaining: 790ms\n",
      "135:\tlearn: 0.3155074\ttotal: 124ms\tremaining: 786ms\n",
      "136:\tlearn: 0.3132515\ttotal: 124ms\tremaining: 782ms\n",
      "137:\tlearn: 0.3115357\ttotal: 125ms\tremaining: 781ms\n",
      "138:\tlearn: 0.3092338\ttotal: 125ms\tremaining: 776ms\n",
      "139:\tlearn: 0.3071126\ttotal: 126ms\tremaining: 773ms\n",
      "140:\tlearn: 0.3053458\ttotal: 126ms\tremaining: 769ms\n",
      "141:\tlearn: 0.3030248\ttotal: 127ms\tremaining: 766ms\n",
      "142:\tlearn: 0.3007936\ttotal: 127ms\tremaining: 762ms\n",
      "143:\tlearn: 0.2987467\ttotal: 128ms\tremaining: 759ms\n",
      "144:\tlearn: 0.2961064\ttotal: 128ms\tremaining: 755ms\n",
      "145:\tlearn: 0.2944669\ttotal: 129ms\tremaining: 752ms\n",
      "146:\tlearn: 0.2921699\ttotal: 129ms\tremaining: 748ms\n",
      "147:\tlearn: 0.2900500\ttotal: 129ms\tremaining: 745ms\n",
      "148:\tlearn: 0.2879520\ttotal: 130ms\tremaining: 742ms\n",
      "149:\tlearn: 0.2859097\ttotal: 130ms\tremaining: 739ms\n",
      "150:\tlearn: 0.2841140\ttotal: 131ms\tremaining: 737ms\n",
      "151:\tlearn: 0.2820699\ttotal: 132ms\tremaining: 735ms\n",
      "152:\tlearn: 0.2799722\ttotal: 132ms\tremaining: 732ms\n",
      "153:\tlearn: 0.2784824\ttotal: 133ms\tremaining: 730ms\n",
      "154:\tlearn: 0.2767594\ttotal: 133ms\tremaining: 727ms\n",
      "155:\tlearn: 0.2748995\ttotal: 134ms\tremaining: 723ms\n",
      "156:\tlearn: 0.2729193\ttotal: 134ms\tremaining: 720ms\n",
      "157:\tlearn: 0.2709197\ttotal: 135ms\tremaining: 718ms\n",
      "158:\tlearn: 0.2690708\ttotal: 135ms\tremaining: 715ms\n",
      "159:\tlearn: 0.2669952\ttotal: 136ms\tremaining: 712ms\n",
      "160:\tlearn: 0.2646036\ttotal: 136ms\tremaining: 709ms\n",
      "161:\tlearn: 0.2626871\ttotal: 136ms\tremaining: 705ms\n",
      "162:\tlearn: 0.2610401\ttotal: 137ms\tremaining: 703ms\n",
      "163:\tlearn: 0.2591100\ttotal: 137ms\tremaining: 699ms\n",
      "164:\tlearn: 0.2576953\ttotal: 138ms\tremaining: 697ms\n",
      "165:\tlearn: 0.2559845\ttotal: 138ms\tremaining: 694ms\n",
      "166:\tlearn: 0.2543495\ttotal: 139ms\tremaining: 691ms\n",
      "167:\tlearn: 0.2525887\ttotal: 139ms\tremaining: 689ms\n",
      "168:\tlearn: 0.2507973\ttotal: 140ms\tremaining: 686ms\n",
      "169:\tlearn: 0.2489699\ttotal: 140ms\tremaining: 684ms\n",
      "170:\tlearn: 0.2474573\ttotal: 141ms\tremaining: 681ms\n",
      "171:\tlearn: 0.2458573\ttotal: 141ms\tremaining: 678ms\n",
      "172:\tlearn: 0.2442588\ttotal: 142ms\tremaining: 677ms\n",
      "173:\tlearn: 0.2429649\ttotal: 142ms\tremaining: 674ms\n",
      "174:\tlearn: 0.2415371\ttotal: 142ms\tremaining: 672ms\n",
      "175:\tlearn: 0.2401952\ttotal: 143ms\tremaining: 669ms\n",
      "176:\tlearn: 0.2388491\ttotal: 143ms\tremaining: 666ms\n",
      "177:\tlearn: 0.2374717\ttotal: 144ms\tremaining: 664ms\n",
      "178:\tlearn: 0.2361781\ttotal: 144ms\tremaining: 661ms\n",
      "179:\tlearn: 0.2346710\ttotal: 145ms\tremaining: 659ms\n",
      "180:\tlearn: 0.2332666\ttotal: 145ms\tremaining: 656ms\n",
      "181:\tlearn: 0.2320646\ttotal: 145ms\tremaining: 654ms\n",
      "182:\tlearn: 0.2309824\ttotal: 146ms\tremaining: 652ms\n",
      "183:\tlearn: 0.2292847\ttotal: 146ms\tremaining: 649ms\n",
      "184:\tlearn: 0.2281038\ttotal: 147ms\tremaining: 646ms\n",
      "185:\tlearn: 0.2269209\ttotal: 147ms\tremaining: 643ms\n",
      "186:\tlearn: 0.2252729\ttotal: 147ms\tremaining: 641ms\n",
      "187:\tlearn: 0.2237247\ttotal: 148ms\tremaining: 638ms\n",
      "188:\tlearn: 0.2227848\ttotal: 148ms\tremaining: 635ms\n",
      "189:\tlearn: 0.2213977\ttotal: 148ms\tremaining: 633ms\n",
      "190:\tlearn: 0.2197152\ttotal: 149ms\tremaining: 630ms\n",
      "191:\tlearn: 0.2179615\ttotal: 149ms\tremaining: 628ms\n",
      "192:\tlearn: 0.2164360\ttotal: 150ms\tremaining: 625ms\n",
      "193:\tlearn: 0.2152813\ttotal: 150ms\tremaining: 623ms\n",
      "194:\tlearn: 0.2137128\ttotal: 150ms\tremaining: 620ms\n",
      "195:\tlearn: 0.2123821\ttotal: 151ms\tremaining: 618ms\n",
      "196:\tlearn: 0.2105946\ttotal: 152ms\tremaining: 620ms\n",
      "197:\tlearn: 0.2094341\ttotal: 153ms\tremaining: 618ms\n",
      "198:\tlearn: 0.2080079\ttotal: 154ms\tremaining: 619ms\n",
      "199:\tlearn: 0.2067816\ttotal: 154ms\tremaining: 617ms\n",
      "200:\tlearn: 0.2054523\ttotal: 155ms\tremaining: 615ms\n",
      "201:\tlearn: 0.2045332\ttotal: 155ms\tremaining: 613ms\n",
      "202:\tlearn: 0.2034627\ttotal: 156ms\tremaining: 611ms\n",
      "203:\tlearn: 0.2020565\ttotal: 156ms\tremaining: 609ms\n",
      "204:\tlearn: 0.2006819\ttotal: 157ms\tremaining: 607ms\n",
      "205:\tlearn: 0.1992862\ttotal: 157ms\tremaining: 606ms\n",
      "206:\tlearn: 0.1979285\ttotal: 157ms\tremaining: 603ms\n",
      "207:\tlearn: 0.1969296\ttotal: 158ms\tremaining: 601ms\n",
      "208:\tlearn: 0.1957910\ttotal: 158ms\tremaining: 599ms\n",
      "209:\tlearn: 0.1942925\ttotal: 159ms\tremaining: 597ms\n",
      "210:\tlearn: 0.1928206\ttotal: 159ms\tremaining: 595ms\n",
      "211:\tlearn: 0.1916961\ttotal: 160ms\tremaining: 594ms\n",
      "212:\tlearn: 0.1910155\ttotal: 160ms\tremaining: 593ms\n",
      "213:\tlearn: 0.1898251\ttotal: 161ms\tremaining: 591ms\n",
      "214:\tlearn: 0.1885788\ttotal: 161ms\tremaining: 589ms\n",
      "215:\tlearn: 0.1872419\ttotal: 162ms\tremaining: 587ms\n",
      "216:\tlearn: 0.1858847\ttotal: 162ms\tremaining: 585ms\n",
      "217:\tlearn: 0.1845509\ttotal: 163ms\tremaining: 583ms\n",
      "218:\tlearn: 0.1839059\ttotal: 163ms\tremaining: 582ms\n",
      "219:\tlearn: 0.1827253\ttotal: 164ms\tremaining: 580ms\n",
      "220:\tlearn: 0.1817341\ttotal: 164ms\tremaining: 578ms\n",
      "221:\tlearn: 0.1805734\ttotal: 164ms\tremaining: 576ms\n",
      "222:\tlearn: 0.1796352\ttotal: 165ms\tremaining: 574ms\n",
      "223:\tlearn: 0.1786728\ttotal: 165ms\tremaining: 572ms\n",
      "224:\tlearn: 0.1774244\ttotal: 166ms\tremaining: 570ms\n",
      "225:\tlearn: 0.1762397\ttotal: 166ms\tremaining: 569ms\n",
      "226:\tlearn: 0.1751354\ttotal: 167ms\tremaining: 568ms\n",
      "227:\tlearn: 0.1739583\ttotal: 167ms\tremaining: 566ms\n",
      "228:\tlearn: 0.1731230\ttotal: 168ms\tremaining: 564ms\n",
      "229:\tlearn: 0.1721263\ttotal: 168ms\tremaining: 562ms\n",
      "230:\tlearn: 0.1713721\ttotal: 168ms\tremaining: 560ms\n",
      "231:\tlearn: 0.1704303\ttotal: 169ms\tremaining: 559ms\n",
      "232:\tlearn: 0.1692998\ttotal: 169ms\tremaining: 557ms\n",
      "233:\tlearn: 0.1683573\ttotal: 169ms\tremaining: 555ms\n",
      "234:\tlearn: 0.1670732\ttotal: 170ms\tremaining: 553ms\n",
      "235:\tlearn: 0.1658946\ttotal: 170ms\tremaining: 552ms\n",
      "236:\tlearn: 0.1647177\ttotal: 171ms\tremaining: 550ms\n",
      "237:\tlearn: 0.1640058\ttotal: 171ms\tremaining: 549ms\n",
      "238:\tlearn: 0.1631658\ttotal: 172ms\tremaining: 547ms\n",
      "239:\tlearn: 0.1622172\ttotal: 172ms\tremaining: 545ms\n",
      "240:\tlearn: 0.1613451\ttotal: 173ms\tremaining: 544ms\n",
      "241:\tlearn: 0.1606283\ttotal: 173ms\tremaining: 543ms\n",
      "242:\tlearn: 0.1596473\ttotal: 174ms\tremaining: 541ms\n",
      "243:\tlearn: 0.1587838\ttotal: 174ms\tremaining: 540ms\n",
      "244:\tlearn: 0.1578082\ttotal: 175ms\tremaining: 538ms\n",
      "245:\tlearn: 0.1564955\ttotal: 175ms\tremaining: 537ms\n",
      "246:\tlearn: 0.1553200\ttotal: 175ms\tremaining: 535ms\n",
      "247:\tlearn: 0.1541713\ttotal: 176ms\tremaining: 533ms\n",
      "248:\tlearn: 0.1534512\ttotal: 176ms\tremaining: 532ms\n",
      "249:\tlearn: 0.1524811\ttotal: 177ms\tremaining: 531ms\n",
      "250:\tlearn: 0.1520251\ttotal: 178ms\tremaining: 530ms\n",
      "251:\tlearn: 0.1509248\ttotal: 178ms\tremaining: 529ms\n",
      "252:\tlearn: 0.1499871\ttotal: 179ms\tremaining: 528ms\n",
      "253:\tlearn: 0.1488415\ttotal: 179ms\tremaining: 527ms\n",
      "254:\tlearn: 0.1480795\ttotal: 180ms\tremaining: 525ms\n",
      "255:\tlearn: 0.1474818\ttotal: 180ms\tremaining: 524ms\n",
      "256:\tlearn: 0.1463064\ttotal: 181ms\tremaining: 522ms\n",
      "257:\tlearn: 0.1454945\ttotal: 181ms\tremaining: 521ms\n",
      "258:\tlearn: 0.1450099\ttotal: 182ms\tremaining: 519ms\n",
      "259:\tlearn: 0.1445537\ttotal: 182ms\tremaining: 518ms\n",
      "260:\tlearn: 0.1434236\ttotal: 183ms\tremaining: 517ms\n",
      "261:\tlearn: 0.1429205\ttotal: 183ms\tremaining: 516ms\n",
      "262:\tlearn: 0.1425296\ttotal: 184ms\tremaining: 514ms\n",
      "263:\tlearn: 0.1415500\ttotal: 184ms\tremaining: 513ms\n",
      "264:\tlearn: 0.1408153\ttotal: 184ms\tremaining: 511ms\n",
      "265:\tlearn: 0.1398206\ttotal: 185ms\tremaining: 510ms\n",
      "266:\tlearn: 0.1387722\ttotal: 185ms\tremaining: 509ms\n",
      "267:\tlearn: 0.1379505\ttotal: 186ms\tremaining: 508ms\n"
     ]
    },
    {
     "name": "stdout",
     "output_type": "stream",
     "text": [
      "268:\tlearn: 0.1372223\ttotal: 187ms\tremaining: 507ms\n",
      "269:\tlearn: 0.1367723\ttotal: 187ms\tremaining: 506ms\n",
      "270:\tlearn: 0.1362559\ttotal: 188ms\tremaining: 505ms\n",
      "271:\tlearn: 0.1353030\ttotal: 188ms\tremaining: 503ms\n",
      "272:\tlearn: 0.1343168\ttotal: 188ms\tremaining: 502ms\n",
      "273:\tlearn: 0.1332856\ttotal: 189ms\tremaining: 500ms\n",
      "274:\tlearn: 0.1323934\ttotal: 189ms\tremaining: 499ms\n",
      "275:\tlearn: 0.1315090\ttotal: 190ms\tremaining: 497ms\n",
      "276:\tlearn: 0.1308912\ttotal: 190ms\tremaining: 496ms\n",
      "277:\tlearn: 0.1300745\ttotal: 191ms\tremaining: 495ms\n",
      "278:\tlearn: 0.1288625\ttotal: 191ms\tremaining: 493ms\n",
      "279:\tlearn: 0.1284080\ttotal: 191ms\tremaining: 492ms\n",
      "280:\tlearn: 0.1277541\ttotal: 192ms\tremaining: 491ms\n",
      "281:\tlearn: 0.1268873\ttotal: 192ms\tremaining: 490ms\n",
      "282:\tlearn: 0.1261646\ttotal: 193ms\tremaining: 488ms\n",
      "283:\tlearn: 0.1251919\ttotal: 193ms\tremaining: 487ms\n",
      "284:\tlearn: 0.1245308\ttotal: 194ms\tremaining: 486ms\n",
      "285:\tlearn: 0.1236294\ttotal: 194ms\tremaining: 485ms\n",
      "286:\tlearn: 0.1228519\ttotal: 195ms\tremaining: 484ms\n",
      "287:\tlearn: 0.1223956\ttotal: 195ms\tremaining: 482ms\n",
      "288:\tlearn: 0.1219703\ttotal: 195ms\tremaining: 481ms\n",
      "289:\tlearn: 0.1211006\ttotal: 196ms\tremaining: 480ms\n",
      "290:\tlearn: 0.1202476\ttotal: 196ms\tremaining: 478ms\n",
      "291:\tlearn: 0.1197728\ttotal: 197ms\tremaining: 477ms\n",
      "292:\tlearn: 0.1193234\ttotal: 197ms\tremaining: 476ms\n",
      "293:\tlearn: 0.1187682\ttotal: 198ms\tremaining: 475ms\n",
      "294:\tlearn: 0.1181972\ttotal: 198ms\tremaining: 474ms\n",
      "295:\tlearn: 0.1174636\ttotal: 199ms\tremaining: 473ms\n",
      "296:\tlearn: 0.1170147\ttotal: 200ms\tremaining: 472ms\n",
      "297:\tlearn: 0.1164572\ttotal: 200ms\tremaining: 471ms\n",
      "298:\tlearn: 0.1157181\ttotal: 200ms\tremaining: 470ms\n",
      "299:\tlearn: 0.1149496\ttotal: 201ms\tremaining: 469ms\n",
      "300:\tlearn: 0.1144526\ttotal: 202ms\tremaining: 468ms\n",
      "301:\tlearn: 0.1136844\ttotal: 202ms\tremaining: 467ms\n",
      "302:\tlearn: 0.1130115\ttotal: 203ms\tremaining: 466ms\n",
      "303:\tlearn: 0.1125595\ttotal: 203ms\tremaining: 465ms\n",
      "304:\tlearn: 0.1119803\ttotal: 204ms\tremaining: 464ms\n",
      "305:\tlearn: 0.1113979\ttotal: 204ms\tremaining: 463ms\n",
      "306:\tlearn: 0.1106372\ttotal: 205ms\tremaining: 463ms\n",
      "307:\tlearn: 0.1097879\ttotal: 206ms\tremaining: 462ms\n",
      "308:\tlearn: 0.1092742\ttotal: 206ms\tremaining: 461ms\n",
      "309:\tlearn: 0.1086289\ttotal: 207ms\tremaining: 460ms\n",
      "310:\tlearn: 0.1083295\ttotal: 207ms\tremaining: 459ms\n",
      "311:\tlearn: 0.1073728\ttotal: 208ms\tremaining: 458ms\n",
      "312:\tlearn: 0.1066642\ttotal: 212ms\tremaining: 464ms\n",
      "313:\tlearn: 0.1063552\ttotal: 212ms\tremaining: 463ms\n",
      "314:\tlearn: 0.1057109\ttotal: 213ms\tremaining: 463ms\n",
      "315:\tlearn: 0.1051753\ttotal: 213ms\tremaining: 461ms\n",
      "316:\tlearn: 0.1048263\ttotal: 214ms\tremaining: 460ms\n",
      "317:\tlearn: 0.1044546\ttotal: 214ms\tremaining: 459ms\n",
      "318:\tlearn: 0.1039886\ttotal: 214ms\tremaining: 458ms\n",
      "319:\tlearn: 0.1033372\ttotal: 215ms\tremaining: 457ms\n",
      "320:\tlearn: 0.1029985\ttotal: 215ms\tremaining: 456ms\n",
      "321:\tlearn: 0.1023408\ttotal: 216ms\tremaining: 454ms\n",
      "322:\tlearn: 0.1020593\ttotal: 216ms\tremaining: 453ms\n",
      "323:\tlearn: 0.1016159\ttotal: 217ms\tremaining: 452ms\n",
      "324:\tlearn: 0.1011221\ttotal: 217ms\tremaining: 451ms\n",
      "325:\tlearn: 0.1005846\ttotal: 217ms\tremaining: 450ms\n",
      "326:\tlearn: 0.0999695\ttotal: 218ms\tremaining: 449ms\n",
      "327:\tlearn: 0.0991454\ttotal: 219ms\tremaining: 448ms\n",
      "328:\tlearn: 0.0988596\ttotal: 219ms\tremaining: 446ms\n",
      "329:\tlearn: 0.0984387\ttotal: 219ms\tremaining: 446ms\n",
      "330:\tlearn: 0.0979620\ttotal: 220ms\tremaining: 445ms\n",
      "331:\tlearn: 0.0972829\ttotal: 220ms\tremaining: 444ms\n",
      "332:\tlearn: 0.0967157\ttotal: 221ms\tremaining: 442ms\n",
      "333:\tlearn: 0.0961370\ttotal: 221ms\tremaining: 441ms\n",
      "334:\tlearn: 0.0956467\ttotal: 222ms\tremaining: 441ms\n",
      "335:\tlearn: 0.0950803\ttotal: 222ms\tremaining: 440ms\n",
      "336:\tlearn: 0.0948139\ttotal: 223ms\tremaining: 438ms\n",
      "337:\tlearn: 0.0943863\ttotal: 223ms\tremaining: 437ms\n",
      "338:\tlearn: 0.0938378\ttotal: 224ms\tremaining: 436ms\n",
      "339:\tlearn: 0.0932718\ttotal: 224ms\tremaining: 436ms\n",
      "340:\tlearn: 0.0927471\ttotal: 225ms\tremaining: 434ms\n",
      "341:\tlearn: 0.0922698\ttotal: 225ms\tremaining: 433ms\n",
      "342:\tlearn: 0.0918131\ttotal: 226ms\tremaining: 432ms\n",
      "343:\tlearn: 0.0913772\ttotal: 226ms\tremaining: 431ms\n",
      "344:\tlearn: 0.0908437\ttotal: 227ms\tremaining: 430ms\n",
      "345:\tlearn: 0.0905595\ttotal: 227ms\tremaining: 429ms\n",
      "346:\tlearn: 0.0903503\ttotal: 228ms\tremaining: 428ms\n",
      "347:\tlearn: 0.0897799\ttotal: 228ms\tremaining: 427ms\n",
      "348:\tlearn: 0.0892575\ttotal: 228ms\tremaining: 426ms\n",
      "349:\tlearn: 0.0887461\ttotal: 229ms\tremaining: 425ms\n",
      "350:\tlearn: 0.0882454\ttotal: 229ms\tremaining: 424ms\n",
      "351:\tlearn: 0.0878183\ttotal: 230ms\tremaining: 423ms\n",
      "352:\tlearn: 0.0873346\ttotal: 230ms\tremaining: 422ms\n",
      "353:\tlearn: 0.0866335\ttotal: 231ms\tremaining: 421ms\n",
      "354:\tlearn: 0.0861533\ttotal: 231ms\tremaining: 420ms\n",
      "355:\tlearn: 0.0856872\ttotal: 231ms\tremaining: 419ms\n",
      "356:\tlearn: 0.0851456\ttotal: 232ms\tremaining: 418ms\n",
      "357:\tlearn: 0.0846785\ttotal: 233ms\tremaining: 417ms\n",
      "358:\tlearn: 0.0842466\ttotal: 233ms\tremaining: 416ms\n",
      "359:\tlearn: 0.0835844\ttotal: 233ms\tremaining: 415ms\n",
      "360:\tlearn: 0.0830566\ttotal: 234ms\tremaining: 414ms\n",
      "361:\tlearn: 0.0826178\ttotal: 234ms\tremaining: 413ms\n",
      "362:\tlearn: 0.0821787\ttotal: 235ms\tremaining: 412ms\n",
      "363:\tlearn: 0.0817342\ttotal: 235ms\tremaining: 411ms\n",
      "364:\tlearn: 0.0813027\ttotal: 235ms\tremaining: 410ms\n",
      "365:\tlearn: 0.0808771\ttotal: 236ms\tremaining: 409ms\n",
      "366:\tlearn: 0.0804825\ttotal: 236ms\tremaining: 408ms\n",
      "367:\tlearn: 0.0800526\ttotal: 237ms\tremaining: 407ms\n",
      "368:\tlearn: 0.0794433\ttotal: 237ms\tremaining: 406ms\n",
      "369:\tlearn: 0.0790351\ttotal: 242ms\tremaining: 412ms\n",
      "370:\tlearn: 0.0786288\ttotal: 243ms\tremaining: 411ms\n",
      "371:\tlearn: 0.0782555\ttotal: 243ms\tremaining: 411ms\n",
      "372:\tlearn: 0.0778595\ttotal: 244ms\tremaining: 409ms\n",
      "373:\tlearn: 0.0774784\ttotal: 244ms\tremaining: 409ms\n",
      "374:\tlearn: 0.0770896\ttotal: 245ms\tremaining: 408ms\n",
      "375:\tlearn: 0.0767014\ttotal: 245ms\tremaining: 407ms\n",
      "376:\tlearn: 0.0762628\ttotal: 246ms\tremaining: 406ms\n",
      "377:\tlearn: 0.0758595\ttotal: 246ms\tremaining: 405ms\n",
      "378:\tlearn: 0.0754516\ttotal: 247ms\tremaining: 404ms\n",
      "379:\tlearn: 0.0750828\ttotal: 247ms\tremaining: 403ms\n",
      "380:\tlearn: 0.0747356\ttotal: 248ms\tremaining: 402ms\n",
      "381:\tlearn: 0.0743779\ttotal: 248ms\tremaining: 401ms\n",
      "382:\tlearn: 0.0740887\ttotal: 248ms\tremaining: 400ms\n",
      "383:\tlearn: 0.0737038\ttotal: 249ms\tremaining: 399ms\n",
      "384:\tlearn: 0.0734234\ttotal: 249ms\tremaining: 398ms\n",
      "385:\tlearn: 0.0729788\ttotal: 250ms\tremaining: 398ms\n",
      "386:\tlearn: 0.0726086\ttotal: 251ms\tremaining: 397ms\n",
      "387:\tlearn: 0.0722510\ttotal: 251ms\tremaining: 396ms\n",
      "388:\tlearn: 0.0718753\ttotal: 251ms\tremaining: 395ms\n",
      "389:\tlearn: 0.0714463\ttotal: 252ms\tremaining: 394ms\n",
      "390:\tlearn: 0.0710235\ttotal: 253ms\tremaining: 393ms\n",
      "391:\tlearn: 0.0706069\ttotal: 253ms\tremaining: 392ms\n",
      "392:\tlearn: 0.0701964\ttotal: 253ms\tremaining: 391ms\n",
      "393:\tlearn: 0.0697919\ttotal: 254ms\tremaining: 390ms\n",
      "394:\tlearn: 0.0694161\ttotal: 254ms\tremaining: 390ms\n",
      "395:\tlearn: 0.0690758\ttotal: 255ms\tremaining: 389ms\n",
      "396:\tlearn: 0.0687545\ttotal: 255ms\tremaining: 387ms\n",
      "397:\tlearn: 0.0683901\ttotal: 256ms\tremaining: 387ms\n",
      "398:\tlearn: 0.0680314\ttotal: 256ms\tremaining: 386ms\n",
      "399:\tlearn: 0.0676475\ttotal: 257ms\tremaining: 385ms\n",
      "400:\tlearn: 0.0673411\ttotal: 257ms\tremaining: 384ms\n",
      "401:\tlearn: 0.0669656\ttotal: 258ms\tremaining: 383ms\n",
      "402:\tlearn: 0.0666223\ttotal: 258ms\tremaining: 382ms\n",
      "403:\tlearn: 0.0662554\ttotal: 258ms\tremaining: 381ms\n",
      "404:\tlearn: 0.0659620\ttotal: 259ms\tremaining: 380ms\n",
      "405:\tlearn: 0.0655744\ttotal: 259ms\tremaining: 379ms\n",
      "406:\tlearn: 0.0651542\ttotal: 260ms\tremaining: 378ms\n",
      "407:\tlearn: 0.0647415\ttotal: 260ms\tremaining: 377ms\n",
      "408:\tlearn: 0.0642907\ttotal: 260ms\tremaining: 376ms\n",
      "409:\tlearn: 0.0639707\ttotal: 261ms\tremaining: 376ms\n",
      "410:\tlearn: 0.0635723\ttotal: 261ms\tremaining: 375ms\n",
      "411:\tlearn: 0.0631155\ttotal: 262ms\tremaining: 374ms\n",
      "412:\tlearn: 0.0626678\ttotal: 262ms\tremaining: 373ms\n",
      "413:\tlearn: 0.0622399\ttotal: 263ms\tremaining: 372ms\n",
      "414:\tlearn: 0.0619334\ttotal: 263ms\tremaining: 371ms\n",
      "415:\tlearn: 0.0615570\ttotal: 264ms\tremaining: 370ms\n",
      "416:\tlearn: 0.0611443\ttotal: 264ms\tremaining: 369ms\n",
      "417:\tlearn: 0.0607178\ttotal: 265ms\tremaining: 369ms\n",
      "418:\tlearn: 0.0604225\ttotal: 265ms\tremaining: 367ms\n",
      "419:\tlearn: 0.0600363\ttotal: 265ms\tremaining: 367ms\n",
      "420:\tlearn: 0.0596576\ttotal: 266ms\tremaining: 366ms\n",
      "421:\tlearn: 0.0594134\ttotal: 266ms\tremaining: 365ms\n",
      "422:\tlearn: 0.0589944\ttotal: 267ms\tremaining: 364ms\n",
      "423:\tlearn: 0.0586281\ttotal: 267ms\tremaining: 363ms\n",
      "424:\tlearn: 0.0582771\ttotal: 268ms\tremaining: 362ms\n",
      "425:\tlearn: 0.0579202\ttotal: 268ms\tremaining: 361ms\n",
      "426:\tlearn: 0.0575177\ttotal: 269ms\tremaining: 360ms\n",
      "427:\tlearn: 0.0571184\ttotal: 269ms\tremaining: 360ms\n",
      "428:\tlearn: 0.0568280\ttotal: 269ms\tremaining: 359ms\n",
      "429:\tlearn: 0.0564375\ttotal: 270ms\tremaining: 358ms\n",
      "430:\tlearn: 0.0561826\ttotal: 270ms\tremaining: 357ms\n",
      "431:\tlearn: 0.0557935\ttotal: 271ms\tremaining: 356ms\n",
      "432:\tlearn: 0.0554586\ttotal: 271ms\tremaining: 355ms\n",
      "433:\tlearn: 0.0551438\ttotal: 271ms\tremaining: 354ms\n",
      "434:\tlearn: 0.0548180\ttotal: 272ms\tremaining: 353ms\n",
      "435:\tlearn: 0.0544458\ttotal: 272ms\tremaining: 352ms\n",
      "436:\tlearn: 0.0540787\ttotal: 273ms\tremaining: 351ms\n",
      "437:\tlearn: 0.0537608\ttotal: 273ms\tremaining: 350ms\n",
      "438:\tlearn: 0.0534561\ttotal: 274ms\tremaining: 350ms\n",
      "439:\tlearn: 0.0531580\ttotal: 274ms\tremaining: 349ms\n",
      "440:\tlearn: 0.0528376\ttotal: 274ms\tremaining: 348ms\n",
      "441:\tlearn: 0.0524414\ttotal: 275ms\tremaining: 347ms\n",
      "442:\tlearn: 0.0521549\ttotal: 275ms\tremaining: 346ms\n",
      "443:\tlearn: 0.0518534\ttotal: 276ms\tremaining: 345ms\n",
      "444:\tlearn: 0.0515742\ttotal: 276ms\tremaining: 344ms\n",
      "445:\tlearn: 0.0512809\ttotal: 277ms\tremaining: 344ms\n",
      "446:\tlearn: 0.0510089\ttotal: 277ms\tremaining: 343ms\n",
      "447:\tlearn: 0.0506565\ttotal: 278ms\tremaining: 342ms\n",
      "448:\tlearn: 0.0503649\ttotal: 278ms\tremaining: 341ms\n",
      "449:\tlearn: 0.0500222\ttotal: 279ms\tremaining: 340ms\n",
      "450:\tlearn: 0.0497619\ttotal: 279ms\tremaining: 340ms\n",
      "451:\tlearn: 0.0494289\ttotal: 280ms\tremaining: 339ms\n",
      "452:\tlearn: 0.0491761\ttotal: 280ms\tremaining: 338ms\n",
      "453:\tlearn: 0.0488527\ttotal: 281ms\tremaining: 338ms\n",
      "454:\tlearn: 0.0486008\ttotal: 281ms\tremaining: 337ms\n",
      "455:\tlearn: 0.0482870\ttotal: 282ms\tremaining: 336ms\n",
      "456:\tlearn: 0.0480421\ttotal: 282ms\tremaining: 335ms\n",
      "457:\tlearn: 0.0477377\ttotal: 283ms\tremaining: 334ms\n",
      "458:\tlearn: 0.0474996\ttotal: 283ms\tremaining: 334ms\n",
      "459:\tlearn: 0.0471882\ttotal: 284ms\tremaining: 333ms\n",
      "460:\tlearn: 0.0469569\ttotal: 284ms\tremaining: 332ms\n",
      "461:\tlearn: 0.0466692\ttotal: 284ms\tremaining: 331ms\n",
      "462:\tlearn: 0.0464266\ttotal: 285ms\tremaining: 330ms\n",
      "463:\tlearn: 0.0461513\ttotal: 285ms\tremaining: 330ms\n",
      "464:\tlearn: 0.0459157\ttotal: 286ms\tremaining: 329ms\n",
      "465:\tlearn: 0.0456964\ttotal: 286ms\tremaining: 328ms\n",
      "466:\tlearn: 0.0454812\ttotal: 287ms\tremaining: 327ms\n",
      "467:\tlearn: 0.0452663\ttotal: 287ms\tremaining: 327ms\n",
      "468:\tlearn: 0.0450575\ttotal: 288ms\tremaining: 326ms\n",
      "469:\tlearn: 0.0447965\ttotal: 289ms\tremaining: 326ms\n",
      "470:\tlearn: 0.0445900\ttotal: 289ms\tremaining: 325ms\n",
      "471:\tlearn: 0.0443902\ttotal: 290ms\tremaining: 324ms\n",
      "472:\tlearn: 0.0441725\ttotal: 290ms\tremaining: 323ms\n",
      "473:\tlearn: 0.0439237\ttotal: 290ms\tremaining: 322ms\n",
      "474:\tlearn: 0.0437301\ttotal: 291ms\tremaining: 321ms\n",
      "475:\tlearn: 0.0435400\ttotal: 291ms\tremaining: 320ms\n",
      "476:\tlearn: 0.0433314\ttotal: 292ms\tremaining: 320ms\n"
     ]
    },
    {
     "name": "stdout",
     "output_type": "stream",
     "text": [
      "477:\tlearn: 0.0431263\ttotal: 292ms\tremaining: 319ms\n",
      "478:\tlearn: 0.0429165\ttotal: 293ms\tremaining: 319ms\n",
      "479:\tlearn: 0.0427244\ttotal: 294ms\tremaining: 318ms\n",
      "480:\tlearn: 0.0425250\ttotal: 294ms\tremaining: 317ms\n",
      "481:\tlearn: 0.0423372\ttotal: 295ms\tremaining: 317ms\n",
      "482:\tlearn: 0.0421524\ttotal: 295ms\tremaining: 316ms\n",
      "483:\tlearn: 0.0418754\ttotal: 296ms\tremaining: 315ms\n",
      "484:\tlearn: 0.0416451\ttotal: 296ms\tremaining: 314ms\n",
      "485:\tlearn: 0.0413748\ttotal: 297ms\tremaining: 314ms\n",
      "486:\tlearn: 0.0411051\ttotal: 297ms\tremaining: 313ms\n",
      "487:\tlearn: 0.0409539\ttotal: 297ms\tremaining: 312ms\n",
      "488:\tlearn: 0.0408046\ttotal: 298ms\tremaining: 311ms\n",
      "489:\tlearn: 0.0406572\ttotal: 299ms\tremaining: 311ms\n",
      "490:\tlearn: 0.0405116\ttotal: 299ms\tremaining: 310ms\n",
      "491:\tlearn: 0.0403158\ttotal: 299ms\tremaining: 309ms\n",
      "492:\tlearn: 0.0401388\ttotal: 300ms\tremaining: 308ms\n",
      "493:\tlearn: 0.0399963\ttotal: 300ms\tremaining: 307ms\n",
      "494:\tlearn: 0.0398307\ttotal: 301ms\tremaining: 307ms\n",
      "495:\tlearn: 0.0396135\ttotal: 301ms\tremaining: 306ms\n",
      "496:\tlearn: 0.0394322\ttotal: 302ms\tremaining: 305ms\n",
      "497:\tlearn: 0.0392419\ttotal: 302ms\tremaining: 305ms\n",
      "498:\tlearn: 0.0390735\ttotal: 303ms\tremaining: 304ms\n",
      "499:\tlearn: 0.0388957\ttotal: 303ms\tremaining: 303ms\n",
      "500:\tlearn: 0.0386847\ttotal: 304ms\tremaining: 303ms\n",
      "501:\tlearn: 0.0385486\ttotal: 304ms\tremaining: 302ms\n",
      "502:\tlearn: 0.0383413\ttotal: 305ms\tremaining: 301ms\n",
      "503:\tlearn: 0.0381667\ttotal: 305ms\tremaining: 300ms\n",
      "504:\tlearn: 0.0379949\ttotal: 306ms\tremaining: 300ms\n",
      "505:\tlearn: 0.0378257\ttotal: 306ms\tremaining: 299ms\n",
      "506:\tlearn: 0.0376928\ttotal: 307ms\tremaining: 298ms\n",
      "507:\tlearn: 0.0374925\ttotal: 307ms\tremaining: 297ms\n",
      "508:\tlearn: 0.0373338\ttotal: 307ms\tremaining: 297ms\n",
      "509:\tlearn: 0.0372034\ttotal: 308ms\tremaining: 296ms\n",
      "510:\tlearn: 0.0370746\ttotal: 309ms\tremaining: 295ms\n",
      "511:\tlearn: 0.0369738\ttotal: 309ms\tremaining: 294ms\n",
      "512:\tlearn: 0.0368185\ttotal: 309ms\tremaining: 294ms\n",
      "513:\tlearn: 0.0366248\ttotal: 310ms\tremaining: 293ms\n",
      "514:\tlearn: 0.0364505\ttotal: 310ms\tremaining: 292ms\n",
      "515:\tlearn: 0.0362599\ttotal: 311ms\tremaining: 292ms\n",
      "516:\tlearn: 0.0360902\ttotal: 312ms\tremaining: 291ms\n",
      "517:\tlearn: 0.0359247\ttotal: 312ms\tremaining: 290ms\n",
      "518:\tlearn: 0.0357632\ttotal: 312ms\tremaining: 290ms\n",
      "519:\tlearn: 0.0355968\ttotal: 313ms\tremaining: 289ms\n",
      "520:\tlearn: 0.0354330\ttotal: 313ms\tremaining: 288ms\n",
      "521:\tlearn: 0.0352689\ttotal: 314ms\tremaining: 287ms\n",
      "522:\tlearn: 0.0351102\ttotal: 314ms\tremaining: 287ms\n",
      "523:\tlearn: 0.0348987\ttotal: 315ms\tremaining: 286ms\n",
      "524:\tlearn: 0.0347393\ttotal: 315ms\tremaining: 285ms\n",
      "525:\tlearn: 0.0345844\ttotal: 316ms\tremaining: 285ms\n",
      "526:\tlearn: 0.0344937\ttotal: 317ms\tremaining: 284ms\n",
      "527:\tlearn: 0.0343391\ttotal: 317ms\tremaining: 284ms\n",
      "528:\tlearn: 0.0341498\ttotal: 318ms\tremaining: 283ms\n",
      "529:\tlearn: 0.0339655\ttotal: 318ms\tremaining: 282ms\n",
      "530:\tlearn: 0.0337957\ttotal: 319ms\tremaining: 282ms\n",
      "531:\tlearn: 0.0335968\ttotal: 319ms\tremaining: 281ms\n",
      "532:\tlearn: 0.0334198\ttotal: 320ms\tremaining: 280ms\n",
      "533:\tlearn: 0.0332755\ttotal: 320ms\tremaining: 280ms\n",
      "534:\tlearn: 0.0331297\ttotal: 321ms\tremaining: 279ms\n",
      "535:\tlearn: 0.0329747\ttotal: 321ms\tremaining: 278ms\n",
      "536:\tlearn: 0.0328230\ttotal: 322ms\tremaining: 278ms\n",
      "537:\tlearn: 0.0326732\ttotal: 323ms\tremaining: 277ms\n",
      "538:\tlearn: 0.0325229\ttotal: 323ms\tremaining: 276ms\n",
      "539:\tlearn: 0.0323240\ttotal: 324ms\tremaining: 276ms\n",
      "540:\tlearn: 0.0321878\ttotal: 324ms\tremaining: 275ms\n",
      "541:\tlearn: 0.0319944\ttotal: 324ms\tremaining: 274ms\n",
      "542:\tlearn: 0.0318614\ttotal: 325ms\tremaining: 273ms\n",
      "543:\tlearn: 0.0317340\ttotal: 325ms\tremaining: 273ms\n",
      "544:\tlearn: 0.0316094\ttotal: 326ms\tremaining: 272ms\n",
      "545:\tlearn: 0.0314875\ttotal: 326ms\tremaining: 271ms\n",
      "546:\tlearn: 0.0313407\ttotal: 327ms\tremaining: 270ms\n",
      "547:\tlearn: 0.0311767\ttotal: 327ms\tremaining: 270ms\n",
      "548:\tlearn: 0.0310155\ttotal: 327ms\tremaining: 269ms\n",
      "549:\tlearn: 0.0308903\ttotal: 328ms\tremaining: 268ms\n",
      "550:\tlearn: 0.0307334\ttotal: 328ms\tremaining: 268ms\n",
      "551:\tlearn: 0.0305966\ttotal: 329ms\tremaining: 267ms\n",
      "552:\tlearn: 0.0305057\ttotal: 329ms\tremaining: 266ms\n",
      "553:\tlearn: 0.0304082\ttotal: 330ms\tremaining: 266ms\n",
      "554:\tlearn: 0.0302509\ttotal: 330ms\tremaining: 265ms\n",
      "555:\tlearn: 0.0300978\ttotal: 331ms\tremaining: 264ms\n",
      "556:\tlearn: 0.0300102\ttotal: 331ms\tremaining: 263ms\n",
      "557:\tlearn: 0.0298602\ttotal: 331ms\tremaining: 262ms\n",
      "558:\tlearn: 0.0297073\ttotal: 332ms\tremaining: 262ms\n",
      "559:\tlearn: 0.0296218\ttotal: 332ms\tremaining: 261ms\n",
      "560:\tlearn: 0.0294755\ttotal: 332ms\tremaining: 260ms\n",
      "561:\tlearn: 0.0293670\ttotal: 333ms\tremaining: 259ms\n",
      "562:\tlearn: 0.0292609\ttotal: 333ms\tremaining: 259ms\n",
      "563:\tlearn: 0.0291133\ttotal: 334ms\tremaining: 258ms\n",
      "564:\tlearn: 0.0290128\ttotal: 334ms\tremaining: 257ms\n",
      "565:\tlearn: 0.0288804\ttotal: 334ms\tremaining: 256ms\n",
      "566:\tlearn: 0.0287992\ttotal: 335ms\tremaining: 256ms\n",
      "567:\tlearn: 0.0286692\ttotal: 335ms\tremaining: 255ms\n",
      "568:\tlearn: 0.0285234\ttotal: 336ms\tremaining: 254ms\n",
      "569:\tlearn: 0.0283571\ttotal: 336ms\tremaining: 254ms\n",
      "570:\tlearn: 0.0281938\ttotal: 337ms\tremaining: 253ms\n",
      "571:\tlearn: 0.0280732\ttotal: 337ms\tremaining: 252ms\n",
      "572:\tlearn: 0.0279326\ttotal: 338ms\tremaining: 252ms\n",
      "573:\tlearn: 0.0277745\ttotal: 338ms\tremaining: 251ms\n",
      "574:\tlearn: 0.0276194\ttotal: 338ms\tremaining: 250ms\n",
      "575:\tlearn: 0.0274671\ttotal: 339ms\tremaining: 249ms\n",
      "576:\tlearn: 0.0273176\ttotal: 339ms\tremaining: 249ms\n",
      "577:\tlearn: 0.0272018\ttotal: 340ms\tremaining: 248ms\n",
      "578:\tlearn: 0.0270566\ttotal: 340ms\tremaining: 247ms\n",
      "579:\tlearn: 0.0269303\ttotal: 341ms\tremaining: 247ms\n",
      "580:\tlearn: 0.0268319\ttotal: 342ms\tremaining: 247ms\n",
      "581:\tlearn: 0.0267084\ttotal: 342ms\tremaining: 246ms\n",
      "582:\tlearn: 0.0265580\ttotal: 343ms\tremaining: 245ms\n",
      "583:\tlearn: 0.0264113\ttotal: 343ms\tremaining: 244ms\n",
      "584:\tlearn: 0.0262703\ttotal: 344ms\tremaining: 244ms\n",
      "585:\tlearn: 0.0261583\ttotal: 344ms\tremaining: 243ms\n",
      "586:\tlearn: 0.0260605\ttotal: 345ms\tremaining: 243ms\n",
      "587:\tlearn: 0.0259527\ttotal: 345ms\tremaining: 242ms\n",
      "588:\tlearn: 0.0258435\ttotal: 346ms\tremaining: 241ms\n",
      "589:\tlearn: 0.0257379\ttotal: 346ms\tremaining: 240ms\n",
      "590:\tlearn: 0.0256276\ttotal: 346ms\tremaining: 240ms\n",
      "591:\tlearn: 0.0255329\ttotal: 347ms\tremaining: 239ms\n",
      "592:\tlearn: 0.0254172\ttotal: 347ms\tremaining: 238ms\n",
      "593:\tlearn: 0.0253245\ttotal: 348ms\tremaining: 238ms\n",
      "594:\tlearn: 0.0252228\ttotal: 348ms\tremaining: 237ms\n",
      "595:\tlearn: 0.0251159\ttotal: 349ms\tremaining: 236ms\n",
      "596:\tlearn: 0.0250079\ttotal: 349ms\tremaining: 236ms\n",
      "597:\tlearn: 0.0248963\ttotal: 349ms\tremaining: 235ms\n",
      "598:\tlearn: 0.0248065\ttotal: 350ms\tremaining: 234ms\n",
      "599:\tlearn: 0.0247017\ttotal: 350ms\tremaining: 234ms\n",
      "600:\tlearn: 0.0246045\ttotal: 351ms\tremaining: 233ms\n",
      "601:\tlearn: 0.0244957\ttotal: 351ms\tremaining: 232ms\n",
      "602:\tlearn: 0.0244087\ttotal: 352ms\tremaining: 232ms\n",
      "603:\tlearn: 0.0243139\ttotal: 352ms\tremaining: 231ms\n",
      "604:\tlearn: 0.0242289\ttotal: 353ms\tremaining: 230ms\n",
      "605:\tlearn: 0.0241225\ttotal: 353ms\tremaining: 230ms\n",
      "606:\tlearn: 0.0240302\ttotal: 354ms\tremaining: 229ms\n",
      "607:\tlearn: 0.0239308\ttotal: 354ms\tremaining: 228ms\n",
      "608:\tlearn: 0.0238482\ttotal: 355ms\tremaining: 228ms\n",
      "609:\tlearn: 0.0237501\ttotal: 355ms\tremaining: 227ms\n",
      "610:\tlearn: 0.0236472\ttotal: 356ms\tremaining: 226ms\n",
      "611:\tlearn: 0.0235582\ttotal: 356ms\tremaining: 226ms\n",
      "612:\tlearn: 0.0234620\ttotal: 357ms\tremaining: 225ms\n",
      "613:\tlearn: 0.0233867\ttotal: 357ms\tremaining: 224ms\n",
      "614:\tlearn: 0.0232925\ttotal: 358ms\tremaining: 224ms\n",
      "615:\tlearn: 0.0231914\ttotal: 358ms\tremaining: 223ms\n",
      "616:\tlearn: 0.0231181\ttotal: 358ms\tremaining: 222ms\n",
      "617:\tlearn: 0.0230045\ttotal: 359ms\tremaining: 222ms\n",
      "618:\tlearn: 0.0229240\ttotal: 359ms\tremaining: 221ms\n",
      "619:\tlearn: 0.0228337\ttotal: 360ms\tremaining: 221ms\n",
      "620:\tlearn: 0.0227554\ttotal: 360ms\tremaining: 220ms\n",
      "621:\tlearn: 0.0226579\ttotal: 360ms\tremaining: 219ms\n",
      "622:\tlearn: 0.0225746\ttotal: 366ms\tremaining: 221ms\n",
      "623:\tlearn: 0.0224888\ttotal: 366ms\tremaining: 221ms\n",
      "624:\tlearn: 0.0223977\ttotal: 367ms\tremaining: 220ms\n",
      "625:\tlearn: 0.0223240\ttotal: 367ms\tremaining: 219ms\n",
      "626:\tlearn: 0.0222282\ttotal: 368ms\tremaining: 219ms\n",
      "627:\tlearn: 0.0221395\ttotal: 368ms\tremaining: 218ms\n",
      "628:\tlearn: 0.0220717\ttotal: 368ms\tremaining: 217ms\n",
      "629:\tlearn: 0.0219849\ttotal: 369ms\tremaining: 217ms\n",
      "630:\tlearn: 0.0218782\ttotal: 369ms\tremaining: 216ms\n",
      "631:\tlearn: 0.0217999\ttotal: 370ms\tremaining: 215ms\n",
      "632:\tlearn: 0.0217161\ttotal: 370ms\tremaining: 215ms\n"
     ]
    },
    {
     "name": "stdout",
     "output_type": "stream",
     "text": [
      "633:\tlearn: 0.0216424\ttotal: 371ms\tremaining: 214ms\n",
      "634:\tlearn: 0.0215611\ttotal: 371ms\tremaining: 214ms\n",
      "635:\tlearn: 0.0214829\ttotal: 372ms\tremaining: 213ms\n",
      "636:\tlearn: 0.0213949\ttotal: 373ms\tremaining: 212ms\n",
      "637:\tlearn: 0.0213108\ttotal: 373ms\tremaining: 212ms\n",
      "638:\tlearn: 0.0212282\ttotal: 373ms\tremaining: 211ms\n",
      "639:\tlearn: 0.0211505\ttotal: 374ms\tremaining: 210ms\n",
      "640:\tlearn: 0.0210493\ttotal: 374ms\tremaining: 210ms\n",
      "641:\tlearn: 0.0209738\ttotal: 375ms\tremaining: 209ms\n",
      "642:\tlearn: 0.0208999\ttotal: 375ms\tremaining: 208ms\n",
      "643:\tlearn: 0.0208276\ttotal: 376ms\tremaining: 208ms\n",
      "644:\tlearn: 0.0207778\ttotal: 376ms\tremaining: 207ms\n",
      "645:\tlearn: 0.0207460\ttotal: 377ms\tremaining: 206ms\n",
      "646:\tlearn: 0.0206485\ttotal: 377ms\tremaining: 206ms\n",
      "647:\tlearn: 0.0205784\ttotal: 378ms\tremaining: 205ms\n",
      "648:\tlearn: 0.0205472\ttotal: 378ms\tremaining: 204ms\n",
      "649:\tlearn: 0.0205165\ttotal: 378ms\tremaining: 204ms\n",
      "650:\tlearn: 0.0203987\ttotal: 379ms\tremaining: 203ms\n",
      "651:\tlearn: 0.0203502\ttotal: 379ms\tremaining: 202ms\n",
      "652:\tlearn: 0.0202345\ttotal: 380ms\tremaining: 202ms\n",
      "653:\tlearn: 0.0201669\ttotal: 380ms\tremaining: 201ms\n",
      "654:\tlearn: 0.0200559\ttotal: 381ms\tremaining: 200ms\n",
      "655:\tlearn: 0.0199466\ttotal: 381ms\tremaining: 200ms\n",
      "656:\tlearn: 0.0199172\ttotal: 381ms\tremaining: 199ms\n",
      "657:\tlearn: 0.0198097\ttotal: 382ms\tremaining: 198ms\n",
      "658:\tlearn: 0.0197186\ttotal: 382ms\tremaining: 198ms\n",
      "659:\tlearn: 0.0196720\ttotal: 383ms\tremaining: 197ms\n",
      "660:\tlearn: 0.0195666\ttotal: 383ms\tremaining: 197ms\n",
      "661:\tlearn: 0.0195380\ttotal: 384ms\tremaining: 196ms\n",
      "662:\tlearn: 0.0194489\ttotal: 384ms\tremaining: 195ms\n",
      "663:\tlearn: 0.0193455\ttotal: 385ms\tremaining: 195ms\n",
      "664:\tlearn: 0.0192584\ttotal: 385ms\tremaining: 194ms\n",
      "665:\tlearn: 0.0192127\ttotal: 386ms\tremaining: 194ms\n",
      "666:\tlearn: 0.0190952\ttotal: 386ms\tremaining: 193ms\n",
      "667:\tlearn: 0.0190504\ttotal: 387ms\tremaining: 192ms\n",
      "668:\tlearn: 0.0190230\ttotal: 387ms\tremaining: 192ms\n",
      "669:\tlearn: 0.0189374\ttotal: 388ms\tremaining: 191ms\n",
      "670:\tlearn: 0.0188442\ttotal: 388ms\tremaining: 190ms\n",
      "671:\tlearn: 0.0188002\ttotal: 389ms\tremaining: 190ms\n",
      "672:\tlearn: 0.0186860\ttotal: 389ms\tremaining: 189ms\n",
      "673:\tlearn: 0.0186025\ttotal: 389ms\tremaining: 188ms\n",
      "674:\tlearn: 0.0185266\ttotal: 390ms\tremaining: 188ms\n",
      "675:\tlearn: 0.0185002\ttotal: 390ms\tremaining: 187ms\n",
      "676:\tlearn: 0.0184104\ttotal: 390ms\tremaining: 186ms\n",
      "677:\tlearn: 0.0183675\ttotal: 398ms\tremaining: 189ms\n",
      "678:\tlearn: 0.0182936\ttotal: 398ms\tremaining: 188ms\n",
      "679:\tlearn: 0.0182679\ttotal: 399ms\tremaining: 188ms\n",
      "680:\tlearn: 0.0181802\ttotal: 400ms\tremaining: 187ms\n",
      "681:\tlearn: 0.0181384\ttotal: 400ms\tremaining: 186ms\n",
      "682:\tlearn: 0.0180144\ttotal: 400ms\tremaining: 186ms\n",
      "683:\tlearn: 0.0179894\ttotal: 401ms\tremaining: 185ms\n",
      "684:\tlearn: 0.0179095\ttotal: 401ms\tremaining: 185ms\n",
      "685:\tlearn: 0.0178250\ttotal: 402ms\tremaining: 184ms\n",
      "686:\tlearn: 0.0177840\ttotal: 402ms\tremaining: 183ms\n",
      "687:\tlearn: 0.0177130\ttotal: 402ms\tremaining: 183ms\n",
      "688:\tlearn: 0.0176643\ttotal: 403ms\tremaining: 182ms\n",
      "689:\tlearn: 0.0175983\ttotal: 403ms\tremaining: 181ms\n",
      "690:\tlearn: 0.0175338\ttotal: 404ms\tremaining: 181ms\n",
      "691:\tlearn: 0.0174568\ttotal: 404ms\tremaining: 180ms\n",
      "692:\tlearn: 0.0173733\ttotal: 405ms\tremaining: 179ms\n",
      "693:\tlearn: 0.0173334\ttotal: 405ms\tremaining: 179ms\n",
      "694:\tlearn: 0.0172862\ttotal: 405ms\tremaining: 178ms\n",
      "695:\tlearn: 0.0172238\ttotal: 406ms\tremaining: 177ms\n",
      "696:\tlearn: 0.0171496\ttotal: 406ms\tremaining: 177ms\n",
      "697:\tlearn: 0.0170769\ttotal: 406ms\tremaining: 176ms\n",
      "698:\tlearn: 0.0170377\ttotal: 407ms\tremaining: 175ms\n",
      "699:\tlearn: 0.0169433\ttotal: 407ms\tremaining: 175ms\n",
      "700:\tlearn: 0.0168471\ttotal: 408ms\tremaining: 174ms\n",
      "701:\tlearn: 0.0168023\ttotal: 408ms\tremaining: 173ms\n",
      "702:\tlearn: 0.0167089\ttotal: 409ms\tremaining: 173ms\n",
      "703:\tlearn: 0.0166347\ttotal: 409ms\tremaining: 172ms\n",
      "704:\tlearn: 0.0165966\ttotal: 410ms\tremaining: 171ms\n",
      "705:\tlearn: 0.0165066\ttotal: 410ms\tremaining: 171ms\n",
      "706:\tlearn: 0.0164193\ttotal: 411ms\tremaining: 170ms\n",
      "707:\tlearn: 0.0163611\ttotal: 411ms\tremaining: 170ms\n",
      "708:\tlearn: 0.0163179\ttotal: 412ms\tremaining: 169ms\n",
      "709:\tlearn: 0.0162532\ttotal: 412ms\tremaining: 168ms\n",
      "710:\tlearn: 0.0161692\ttotal: 413ms\tremaining: 168ms\n",
      "711:\tlearn: 0.0161127\ttotal: 414ms\tremaining: 167ms\n",
      "712:\tlearn: 0.0160715\ttotal: 414ms\tremaining: 167ms\n",
      "713:\tlearn: 0.0159904\ttotal: 415ms\tremaining: 166ms\n",
      "714:\tlearn: 0.0159356\ttotal: 415ms\tremaining: 165ms\n",
      "715:\tlearn: 0.0158942\ttotal: 416ms\tremaining: 165ms\n",
      "716:\tlearn: 0.0158151\ttotal: 416ms\tremaining: 164ms\n",
      "717:\tlearn: 0.0157528\ttotal: 416ms\tremaining: 164ms\n",
      "718:\tlearn: 0.0156950\ttotal: 417ms\tremaining: 163ms\n",
      "719:\tlearn: 0.0156192\ttotal: 417ms\tremaining: 162ms\n",
      "720:\tlearn: 0.0155800\ttotal: 418ms\tremaining: 162ms\n",
      "721:\tlearn: 0.0155237\ttotal: 418ms\tremaining: 161ms\n",
      "722:\tlearn: 0.0154842\ttotal: 419ms\tremaining: 161ms\n",
      "723:\tlearn: 0.0154235\ttotal: 419ms\tremaining: 160ms\n",
      "724:\tlearn: 0.0153741\ttotal: 420ms\tremaining: 159ms\n",
      "725:\tlearn: 0.0153257\ttotal: 420ms\tremaining: 159ms\n",
      "726:\tlearn: 0.0152785\ttotal: 421ms\tremaining: 158ms\n",
      "727:\tlearn: 0.0152623\ttotal: 421ms\tremaining: 157ms\n",
      "728:\tlearn: 0.0152164\ttotal: 422ms\tremaining: 157ms\n",
      "729:\tlearn: 0.0151569\ttotal: 422ms\tremaining: 156ms\n",
      "730:\tlearn: 0.0151105\ttotal: 423ms\tremaining: 156ms\n",
      "731:\tlearn: 0.0150946\ttotal: 423ms\tremaining: 155ms\n",
      "732:\tlearn: 0.0150618\ttotal: 424ms\tremaining: 154ms\n",
      "733:\tlearn: 0.0150248\ttotal: 424ms\tremaining: 154ms\n",
      "734:\tlearn: 0.0150092\ttotal: 425ms\tremaining: 153ms\n",
      "735:\tlearn: 0.0149551\ttotal: 425ms\tremaining: 152ms\n",
      "736:\tlearn: 0.0149339\ttotal: 426ms\tremaining: 152ms\n",
      "737:\tlearn: 0.0148807\ttotal: 426ms\tremaining: 151ms\n",
      "738:\tlearn: 0.0148364\ttotal: 427ms\tremaining: 151ms\n",
      "739:\tlearn: 0.0147786\ttotal: 427ms\tremaining: 150ms\n",
      "740:\tlearn: 0.0147342\ttotal: 428ms\tremaining: 149ms\n",
      "741:\tlearn: 0.0146636\ttotal: 428ms\tremaining: 149ms\n",
      "742:\tlearn: 0.0146201\ttotal: 428ms\tremaining: 148ms\n",
      "743:\tlearn: 0.0145996\ttotal: 429ms\tremaining: 148ms\n",
      "744:\tlearn: 0.0145293\ttotal: 429ms\tremaining: 147ms\n",
      "745:\tlearn: 0.0144868\ttotal: 430ms\tremaining: 146ms\n",
      "746:\tlearn: 0.0144728\ttotal: 430ms\tremaining: 146ms\n",
      "747:\tlearn: 0.0144528\ttotal: 431ms\tremaining: 145ms\n",
      "748:\tlearn: 0.0144161\ttotal: 431ms\tremaining: 145ms\n",
      "749:\tlearn: 0.0143501\ttotal: 432ms\tremaining: 144ms\n",
      "750:\tlearn: 0.0143086\ttotal: 432ms\tremaining: 143ms\n",
      "751:\tlearn: 0.0142888\ttotal: 433ms\tremaining: 143ms\n",
      "752:\tlearn: 0.0142753\ttotal: 434ms\tremaining: 142ms\n",
      "753:\tlearn: 0.0142300\ttotal: 434ms\tremaining: 142ms\n",
      "754:\tlearn: 0.0142105\ttotal: 434ms\tremaining: 141ms\n",
      "755:\tlearn: 0.0141449\ttotal: 435ms\tremaining: 140ms\n",
      "756:\tlearn: 0.0141005\ttotal: 435ms\tremaining: 140ms\n",
      "757:\tlearn: 0.0140650\ttotal: 436ms\tremaining: 139ms\n",
      "758:\tlearn: 0.0140458\ttotal: 436ms\tremaining: 139ms\n",
      "759:\tlearn: 0.0140058\ttotal: 437ms\tremaining: 138ms\n",
      "760:\tlearn: 0.0139442\ttotal: 437ms\tremaining: 137ms\n",
      "761:\tlearn: 0.0139253\ttotal: 438ms\tremaining: 137ms\n",
      "762:\tlearn: 0.0138969\ttotal: 438ms\tremaining: 136ms\n",
      "763:\tlearn: 0.0138479\ttotal: 439ms\tremaining: 135ms\n",
      "764:\tlearn: 0.0137595\ttotal: 439ms\tremaining: 135ms\n",
      "765:\tlearn: 0.0137410\ttotal: 440ms\tremaining: 134ms\n",
      "766:\tlearn: 0.0136929\ttotal: 441ms\tremaining: 134ms\n",
      "767:\tlearn: 0.0136591\ttotal: 441ms\tremaining: 133ms\n",
      "768:\tlearn: 0.0136177\ttotal: 442ms\tremaining: 133ms\n",
      "769:\tlearn: 0.0135996\ttotal: 442ms\tremaining: 132ms\n",
      "770:\tlearn: 0.0135528\ttotal: 442ms\tremaining: 131ms\n",
      "771:\tlearn: 0.0135093\ttotal: 443ms\tremaining: 131ms\n",
      "772:\tlearn: 0.0134633\ttotal: 443ms\tremaining: 130ms\n",
      "773:\tlearn: 0.0134215\ttotal: 444ms\tremaining: 130ms\n",
      "774:\tlearn: 0.0133764\ttotal: 444ms\tremaining: 129ms\n",
      "775:\tlearn: 0.0133356\ttotal: 445ms\tremaining: 128ms\n",
      "776:\tlearn: 0.0132899\ttotal: 445ms\tremaining: 128ms\n",
      "777:\tlearn: 0.0132518\ttotal: 446ms\tremaining: 127ms\n",
      "778:\tlearn: 0.0132077\ttotal: 446ms\tremaining: 127ms\n",
      "779:\tlearn: 0.0131695\ttotal: 447ms\tremaining: 126ms\n",
      "780:\tlearn: 0.0131263\ttotal: 447ms\tremaining: 125ms\n",
      "781:\tlearn: 0.0130913\ttotal: 447ms\tremaining: 125ms\n",
      "782:\tlearn: 0.0130489\ttotal: 448ms\tremaining: 124ms\n",
      "783:\tlearn: 0.0130120\ttotal: 448ms\tremaining: 124ms\n",
      "784:\tlearn: 0.0129682\ttotal: 449ms\tremaining: 123ms\n",
      "785:\tlearn: 0.0129312\ttotal: 449ms\tremaining: 122ms\n",
      "786:\tlearn: 0.0128952\ttotal: 450ms\tremaining: 122ms\n",
      "787:\tlearn: 0.0128525\ttotal: 450ms\tremaining: 121ms\n",
      "788:\tlearn: 0.0128163\ttotal: 450ms\tremaining: 120ms\n",
      "789:\tlearn: 0.0127811\ttotal: 451ms\tremaining: 120ms\n",
      "790:\tlearn: 0.0127395\ttotal: 451ms\tremaining: 119ms\n",
      "791:\tlearn: 0.0127063\ttotal: 452ms\tremaining: 119ms\n",
      "792:\tlearn: 0.0126650\ttotal: 452ms\tremaining: 118ms\n",
      "793:\tlearn: 0.0126300\ttotal: 453ms\tremaining: 117ms\n",
      "794:\tlearn: 0.0125939\ttotal: 453ms\tremaining: 117ms\n",
      "795:\tlearn: 0.0125595\ttotal: 453ms\tremaining: 116ms\n",
      "796:\tlearn: 0.0125259\ttotal: 454ms\tremaining: 116ms\n",
      "797:\tlearn: 0.0124859\ttotal: 454ms\tremaining: 115ms\n",
      "798:\tlearn: 0.0124530\ttotal: 454ms\tremaining: 114ms\n",
      "799:\tlearn: 0.0124138\ttotal: 455ms\tremaining: 114ms\n",
      "800:\tlearn: 0.0123804\ttotal: 455ms\tremaining: 113ms\n",
      "801:\tlearn: 0.0123483\ttotal: 455ms\tremaining: 112ms\n",
      "802:\tlearn: 0.0123155\ttotal: 456ms\tremaining: 112ms\n",
      "803:\tlearn: 0.0122730\ttotal: 456ms\tremaining: 111ms\n",
      "804:\tlearn: 0.0122416\ttotal: 457ms\tremaining: 111ms\n",
      "805:\tlearn: 0.0122095\ttotal: 457ms\tremaining: 110ms\n",
      "806:\tlearn: 0.0121693\ttotal: 458ms\tremaining: 109ms\n",
      "807:\tlearn: 0.0121386\ttotal: 458ms\tremaining: 109ms\n",
      "808:\tlearn: 0.0120977\ttotal: 459ms\tremaining: 108ms\n",
      "809:\tlearn: 0.0120666\ttotal: 459ms\tremaining: 108ms\n",
      "810:\tlearn: 0.0120367\ttotal: 459ms\tremaining: 107ms\n",
      "811:\tlearn: 0.0119981\ttotal: 460ms\tremaining: 106ms\n",
      "812:\tlearn: 0.0119676\ttotal: 460ms\tremaining: 106ms\n",
      "813:\tlearn: 0.0119385\ttotal: 461ms\tremaining: 105ms\n",
      "814:\tlearn: 0.0119059\ttotal: 461ms\tremaining: 105ms\n",
      "815:\tlearn: 0.0118460\ttotal: 462ms\tremaining: 104ms\n",
      "816:\tlearn: 0.0118074\ttotal: 462ms\tremaining: 104ms\n",
      "817:\tlearn: 0.0117763\ttotal: 463ms\tremaining: 103ms\n",
      "818:\tlearn: 0.0117180\ttotal: 463ms\tremaining: 102ms\n",
      "819:\tlearn: 0.0116559\ttotal: 463ms\tremaining: 102ms\n",
      "820:\tlearn: 0.0115912\ttotal: 464ms\tremaining: 101ms\n",
      "821:\tlearn: 0.0115280\ttotal: 464ms\tremaining: 101ms\n",
      "822:\tlearn: 0.0114664\ttotal: 465ms\tremaining: 99.9ms\n",
      "823:\tlearn: 0.0114062\ttotal: 465ms\tremaining: 99.3ms\n",
      "824:\tlearn: 0.0113444\ttotal: 465ms\tremaining: 98.7ms\n",
      "825:\tlearn: 0.0112845\ttotal: 466ms\tremaining: 98.2ms\n",
      "826:\tlearn: 0.0112545\ttotal: 466ms\tremaining: 97.6ms\n",
      "827:\tlearn: 0.0112325\ttotal: 467ms\tremaining: 97ms\n",
      "828:\tlearn: 0.0111745\ttotal: 467ms\tremaining: 96.4ms\n",
      "829:\tlearn: 0.0111278\ttotal: 468ms\tremaining: 95.8ms\n",
      "830:\tlearn: 0.0110915\ttotal: 468ms\tremaining: 95.2ms\n",
      "831:\tlearn: 0.0110623\ttotal: 469ms\tremaining: 94.7ms\n",
      "832:\tlearn: 0.0110368\ttotal: 469ms\tremaining: 94.1ms\n",
      "833:\tlearn: 0.0110017\ttotal: 470ms\tremaining: 93.5ms\n",
      "834:\tlearn: 0.0109456\ttotal: 470ms\tremaining: 92.9ms\n",
      "835:\tlearn: 0.0109017\ttotal: 471ms\tremaining: 92.3ms\n",
      "836:\tlearn: 0.0108569\ttotal: 471ms\tremaining: 91.8ms\n",
      "837:\tlearn: 0.0108225\ttotal: 472ms\tremaining: 91.2ms\n",
      "838:\tlearn: 0.0107982\ttotal: 472ms\tremaining: 90.6ms\n",
      "839:\tlearn: 0.0107441\ttotal: 472ms\tremaining: 90ms\n",
      "840:\tlearn: 0.0107198\ttotal: 473ms\tremaining: 89.4ms\n",
      "841:\tlearn: 0.0106775\ttotal: 473ms\tremaining: 88.8ms\n",
      "842:\tlearn: 0.0106538\ttotal: 474ms\tremaining: 88.2ms\n",
      "843:\tlearn: 0.0106298\ttotal: 474ms\tremaining: 87.7ms\n",
      "844:\tlearn: 0.0105885\ttotal: 475ms\tremaining: 87.1ms\n",
      "845:\tlearn: 0.0105352\ttotal: 475ms\tremaining: 86.5ms\n",
      "846:\tlearn: 0.0104932\ttotal: 476ms\tremaining: 85.9ms\n"
     ]
    },
    {
     "name": "stdout",
     "output_type": "stream",
     "text": [
      "847:\tlearn: 0.0104512\ttotal: 476ms\tremaining: 85.3ms\n",
      "848:\tlearn: 0.0104136\ttotal: 477ms\tremaining: 84.8ms\n",
      "849:\tlearn: 0.0103742\ttotal: 477ms\tremaining: 84.2ms\n",
      "850:\tlearn: 0.0103414\ttotal: 478ms\tremaining: 83.6ms\n",
      "851:\tlearn: 0.0102917\ttotal: 478ms\tremaining: 83ms\n",
      "852:\tlearn: 0.0102556\ttotal: 478ms\tremaining: 82.4ms\n",
      "853:\tlearn: 0.0102323\ttotal: 479ms\tremaining: 81.8ms\n",
      "854:\tlearn: 0.0101939\ttotal: 479ms\tremaining: 81.3ms\n",
      "855:\tlearn: 0.0101618\ttotal: 480ms\tremaining: 80.7ms\n",
      "856:\tlearn: 0.0101226\ttotal: 480ms\tremaining: 80.1ms\n",
      "857:\tlearn: 0.0100912\ttotal: 480ms\tremaining: 79.5ms\n",
      "858:\tlearn: 0.0100632\ttotal: 481ms\tremaining: 79ms\n",
      "859:\tlearn: 0.0100121\ttotal: 481ms\tremaining: 78.4ms\n",
      "860:\tlearn: 0.0099621\ttotal: 482ms\tremaining: 77.9ms\n",
      "861:\tlearn: 0.0099319\ttotal: 483ms\tremaining: 77.3ms\n",
      "862:\tlearn: 0.0098831\ttotal: 487ms\tremaining: 77.4ms\n",
      "863:\tlearn: 0.0098493\ttotal: 488ms\tremaining: 76.8ms\n",
      "864:\tlearn: 0.0098212\ttotal: 488ms\tremaining: 76.2ms\n",
      "865:\tlearn: 0.0097739\ttotal: 489ms\tremaining: 75.6ms\n",
      "866:\tlearn: 0.0097403\ttotal: 489ms\tremaining: 75ms\n",
      "867:\tlearn: 0.0097079\ttotal: 490ms\tremaining: 74.4ms\n",
      "868:\tlearn: 0.0096976\ttotal: 490ms\tremaining: 73.9ms\n",
      "869:\tlearn: 0.0096425\ttotal: 491ms\tremaining: 73.3ms\n",
      "870:\tlearn: 0.0095975\ttotal: 491ms\tremaining: 72.7ms\n",
      "871:\tlearn: 0.0095652\ttotal: 491ms\tremaining: 72.1ms\n",
      "872:\tlearn: 0.0095198\ttotal: 492ms\tremaining: 71.6ms\n",
      "873:\tlearn: 0.0094754\ttotal: 492ms\tremaining: 71ms\n",
      "874:\tlearn: 0.0094435\ttotal: 493ms\tremaining: 70.4ms\n",
      "875:\tlearn: 0.0094008\ttotal: 493ms\tremaining: 69.8ms\n",
      "876:\tlearn: 0.0093909\ttotal: 494ms\tremaining: 69.3ms\n",
      "877:\tlearn: 0.0093477\ttotal: 495ms\tremaining: 68.7ms\n",
      "878:\tlearn: 0.0093331\ttotal: 495ms\tremaining: 68.1ms\n",
      "879:\tlearn: 0.0092960\ttotal: 495ms\tremaining: 67.5ms\n",
      "880:\tlearn: 0.0092712\ttotal: 496ms\tremaining: 67ms\n",
      "881:\tlearn: 0.0092470\ttotal: 496ms\tremaining: 66.4ms\n",
      "882:\tlearn: 0.0092258\ttotal: 497ms\tremaining: 65.8ms\n",
      "883:\tlearn: 0.0091941\ttotal: 497ms\tremaining: 65.2ms\n",
      "884:\tlearn: 0.0091515\ttotal: 498ms\tremaining: 64.7ms\n",
      "885:\tlearn: 0.0091207\ttotal: 498ms\tremaining: 64.1ms\n",
      "886:\tlearn: 0.0091110\ttotal: 499ms\tremaining: 63.5ms\n",
      "887:\tlearn: 0.0091014\ttotal: 499ms\tremaining: 62.9ms\n",
      "888:\tlearn: 0.0090920\ttotal: 500ms\tremaining: 62.4ms\n",
      "889:\tlearn: 0.0090642\ttotal: 500ms\tremaining: 61.8ms\n",
      "890:\tlearn: 0.0090241\ttotal: 501ms\tremaining: 61.3ms\n",
      "891:\tlearn: 0.0089831\ttotal: 501ms\tremaining: 60.7ms\n",
      "892:\tlearn: 0.0089512\ttotal: 502ms\tremaining: 60.1ms\n",
      "893:\tlearn: 0.0089419\ttotal: 502ms\tremaining: 59.6ms\n",
      "894:\tlearn: 0.0089100\ttotal: 503ms\tremaining: 59ms\n",
      "895:\tlearn: 0.0088802\ttotal: 503ms\tremaining: 58.4ms\n",
      "896:\tlearn: 0.0088534\ttotal: 504ms\tremaining: 57.8ms\n",
      "897:\tlearn: 0.0088274\ttotal: 504ms\tremaining: 57.2ms\n",
      "898:\tlearn: 0.0087956\ttotal: 504ms\tremaining: 56.7ms\n",
      "899:\tlearn: 0.0087883\ttotal: 505ms\tremaining: 56.1ms\n",
      "900:\tlearn: 0.0087812\ttotal: 505ms\tremaining: 55.5ms\n",
      "901:\tlearn: 0.0087741\ttotal: 506ms\tremaining: 55ms\n",
      "902:\tlearn: 0.0087387\ttotal: 506ms\tremaining: 54.4ms\n",
      "903:\tlearn: 0.0087169\ttotal: 507ms\tremaining: 53.8ms\n",
      "904:\tlearn: 0.0086942\ttotal: 507ms\tremaining: 53.2ms\n",
      "905:\tlearn: 0.0086856\ttotal: 508ms\tremaining: 52.7ms\n",
      "906:\tlearn: 0.0086603\ttotal: 508ms\tremaining: 52.1ms\n",
      "907:\tlearn: 0.0086464\ttotal: 509ms\tremaining: 51.5ms\n",
      "908:\tlearn: 0.0086396\ttotal: 509ms\tremaining: 51ms\n",
      "909:\tlearn: 0.0086288\ttotal: 509ms\tremaining: 50.4ms\n",
      "910:\tlearn: 0.0086221\ttotal: 510ms\tremaining: 49.8ms\n",
      "911:\tlearn: 0.0086085\ttotal: 510ms\tremaining: 49.2ms\n",
      "912:\tlearn: 0.0085775\ttotal: 511ms\tremaining: 48.7ms\n",
      "913:\tlearn: 0.0085708\ttotal: 511ms\tremaining: 48.1ms\n",
      "914:\tlearn: 0.0085642\ttotal: 511ms\tremaining: 47.5ms\n",
      "915:\tlearn: 0.0085455\ttotal: 512ms\tremaining: 46.9ms\n",
      "916:\tlearn: 0.0085370\ttotal: 512ms\tremaining: 46.4ms\n",
      "917:\tlearn: 0.0084781\ttotal: 513ms\tremaining: 45.8ms\n",
      "918:\tlearn: 0.0084716\ttotal: 513ms\tremaining: 45.2ms\n",
      "919:\tlearn: 0.0084635\ttotal: 517ms\tremaining: 45ms\n",
      "920:\tlearn: 0.0084167\ttotal: 518ms\tremaining: 44.4ms\n",
      "921:\tlearn: 0.0083800\ttotal: 518ms\tremaining: 43.8ms\n",
      "922:\tlearn: 0.0083345\ttotal: 519ms\tremaining: 43.3ms\n",
      "923:\tlearn: 0.0083243\ttotal: 519ms\tremaining: 42.7ms\n",
      "924:\tlearn: 0.0082798\ttotal: 519ms\tremaining: 42.1ms\n",
      "925:\tlearn: 0.0082491\ttotal: 520ms\tremaining: 41.5ms\n",
      "926:\tlearn: 0.0082391\ttotal: 520ms\tremaining: 41ms\n",
      "927:\tlearn: 0.0082240\ttotal: 521ms\tremaining: 40.4ms\n",
      "928:\tlearn: 0.0082031\ttotal: 521ms\tremaining: 39.8ms\n",
      "929:\tlearn: 0.0081826\ttotal: 522ms\tremaining: 39.3ms\n",
      "930:\tlearn: 0.0081397\ttotal: 522ms\tremaining: 38.7ms\n",
      "931:\tlearn: 0.0081299\ttotal: 522ms\tremaining: 38.1ms\n",
      "932:\tlearn: 0.0080880\ttotal: 523ms\tremaining: 37.6ms\n",
      "933:\tlearn: 0.0080517\ttotal: 523ms\tremaining: 37ms\n",
      "934:\tlearn: 0.0080394\ttotal: 524ms\tremaining: 36.4ms\n",
      "935:\tlearn: 0.0080039\ttotal: 524ms\tremaining: 35.8ms\n",
      "936:\tlearn: 0.0079962\ttotal: 525ms\tremaining: 35.3ms\n",
      "937:\tlearn: 0.0079885\ttotal: 525ms\tremaining: 34.7ms\n",
      "938:\tlearn: 0.0079743\ttotal: 525ms\tremaining: 34.1ms\n",
      "939:\tlearn: 0.0079518\ttotal: 526ms\tremaining: 33.6ms\n",
      "940:\tlearn: 0.0079399\ttotal: 526ms\tremaining: 33ms\n",
      "941:\tlearn: 0.0079324\ttotal: 527ms\tremaining: 32.4ms\n",
      "942:\tlearn: 0.0079186\ttotal: 528ms\tremaining: 31.9ms\n",
      "943:\tlearn: 0.0078995\ttotal: 528ms\tremaining: 31.3ms\n",
      "944:\tlearn: 0.0078921\ttotal: 528ms\tremaining: 30.8ms\n",
      "945:\tlearn: 0.0078807\ttotal: 529ms\tremaining: 30.2ms\n",
      "946:\tlearn: 0.0078674\ttotal: 530ms\tremaining: 29.6ms\n",
      "947:\tlearn: 0.0078459\ttotal: 530ms\tremaining: 29.1ms\n",
      "948:\tlearn: 0.0078368\ttotal: 531ms\tremaining: 28.5ms\n",
      "949:\tlearn: 0.0078153\ttotal: 531ms\tremaining: 28ms\n",
      "950:\tlearn: 0.0078081\ttotal: 532ms\tremaining: 27.4ms\n",
      "951:\tlearn: 0.0077954\ttotal: 532ms\tremaining: 26.8ms\n",
      "952:\tlearn: 0.0077825\ttotal: 533ms\tremaining: 26.3ms\n",
      "953:\tlearn: 0.0077642\ttotal: 533ms\tremaining: 25.7ms\n",
      "954:\tlearn: 0.0077573\ttotal: 534ms\tremaining: 25.1ms\n",
      "955:\tlearn: 0.0077520\ttotal: 534ms\tremaining: 24.6ms\n",
      "956:\tlearn: 0.0077331\ttotal: 535ms\tremaining: 24ms\n",
      "957:\tlearn: 0.0077042\ttotal: 535ms\tremaining: 23.5ms\n",
      "958:\tlearn: 0.0076918\ttotal: 536ms\tremaining: 22.9ms\n",
      "959:\tlearn: 0.0076832\ttotal: 536ms\tremaining: 22.4ms\n",
      "960:\tlearn: 0.0076625\ttotal: 537ms\tremaining: 21.8ms\n",
      "961:\tlearn: 0.0076503\ttotal: 538ms\tremaining: 21.2ms\n",
      "962:\tlearn: 0.0076418\ttotal: 538ms\tremaining: 20.7ms\n",
      "963:\tlearn: 0.0076165\ttotal: 539ms\tremaining: 20.1ms\n",
      "964:\tlearn: 0.0075964\ttotal: 539ms\tremaining: 19.6ms\n",
      "965:\tlearn: 0.0075900\ttotal: 540ms\tremaining: 19ms\n",
      "966:\tlearn: 0.0075651\ttotal: 540ms\tremaining: 18.4ms\n",
      "967:\tlearn: 0.0075588\ttotal: 541ms\tremaining: 17.9ms\n",
      "968:\tlearn: 0.0075190\ttotal: 541ms\tremaining: 17.3ms\n",
      "969:\tlearn: 0.0074947\ttotal: 542ms\tremaining: 16.8ms\n",
      "970:\tlearn: 0.0074556\ttotal: 542ms\tremaining: 16.2ms\n",
      "971:\tlearn: 0.0074402\ttotal: 543ms\tremaining: 15.6ms\n",
      "972:\tlearn: 0.0074102\ttotal: 543ms\tremaining: 15.1ms\n",
      "973:\tlearn: 0.0073951\ttotal: 544ms\tremaining: 14.5ms\n",
      "974:\tlearn: 0.0073726\ttotal: 544ms\tremaining: 14ms\n",
      "975:\tlearn: 0.0073307\ttotal: 545ms\tremaining: 13.4ms\n",
      "976:\tlearn: 0.0073159\ttotal: 545ms\tremaining: 12.8ms\n",
      "977:\tlearn: 0.0073014\ttotal: 546ms\tremaining: 12.3ms\n",
      "978:\tlearn: 0.0072727\ttotal: 546ms\tremaining: 11.7ms\n",
      "979:\tlearn: 0.0072585\ttotal: 547ms\tremaining: 11.2ms\n",
      "980:\tlearn: 0.0072323\ttotal: 548ms\tremaining: 10.6ms\n",
      "981:\tlearn: 0.0072107\ttotal: 548ms\tremaining: 10ms\n",
      "982:\tlearn: 0.0071886\ttotal: 549ms\tremaining: 9.49ms\n",
      "983:\tlearn: 0.0071732\ttotal: 549ms\tremaining: 8.93ms\n",
      "984:\tlearn: 0.0071457\ttotal: 550ms\tremaining: 8.37ms\n",
      "985:\tlearn: 0.0071396\ttotal: 550ms\tremaining: 7.81ms\n",
      "986:\tlearn: 0.0071186\ttotal: 551ms\tremaining: 7.25ms\n",
      "987:\tlearn: 0.0071125\ttotal: 551ms\tremaining: 6.69ms\n",
      "988:\tlearn: 0.0070912\ttotal: 552ms\tremaining: 6.14ms\n",
      "989:\tlearn: 0.0070543\ttotal: 552ms\tremaining: 5.58ms\n",
      "990:\tlearn: 0.0070483\ttotal: 553ms\tremaining: 5.02ms\n",
      "991:\tlearn: 0.0070218\ttotal: 553ms\tremaining: 4.46ms\n",
      "992:\tlearn: 0.0070159\ttotal: 554ms\tremaining: 3.9ms\n",
      "993:\tlearn: 0.0070010\ttotal: 554ms\tremaining: 3.35ms\n",
      "994:\tlearn: 0.0069751\ttotal: 555ms\tremaining: 2.79ms\n"
     ]
    },
    {
     "name": "stdout",
     "output_type": "stream",
     "text": [
      "995:\tlearn: 0.0069693\ttotal: 556ms\tremaining: 2.23ms\n",
      "996:\tlearn: 0.0069636\ttotal: 556ms\tremaining: 1.67ms\n",
      "997:\tlearn: 0.0069433\ttotal: 557ms\tremaining: 1.11ms\n",
      "998:\tlearn: 0.0069218\ttotal: 557ms\tremaining: 557us\n",
      "999:\tlearn: 0.0069105\ttotal: 557ms\tremaining: 0us\n"
     ]
    },
    {
     "data": {
      "text/plain": [
       "<catboost.core.CatBoostRegressor at 0x7fe6b2a08fa0>"
      ]
     },
     "execution_count": 9,
     "metadata": {},
     "output_type": "execute_result"
    }
   ],
   "source": [
    "#Train the Model \n",
    "prior_model = ctb.CatBoostRegressor()\n",
    "prior_model.fit(X_train,Y_train)"
   ]
  },
  {
   "cell_type": "code",
   "execution_count": 10,
   "id": "af65dcda",
   "metadata": {
    "execution": {
     "iopub.execute_input": "2022-06-07T06:16:25.290818Z",
     "iopub.status.busy": "2022-06-07T06:16:25.290432Z",
     "iopub.status.idle": "2022-06-07T06:16:25.297882Z",
     "shell.execute_reply": "2022-06-07T06:16:25.298180Z"
    },
    "id": "af65dcda",
    "papermill": {
     "duration": 0.020146,
     "end_time": "2022-06-07T06:16:25.298301",
     "exception": false,
     "start_time": "2022-06-07T06:16:25.278155",
     "status": "completed"
    },
    "tags": []
   },
   "outputs": [
    {
     "data": {
      "application/scrapbook.scrap.json+json": {
       "data": 0.19055202372749394,
       "encoder": "json",
       "name": "Prior Model MSE",
       "version": 1
      }
     },
     "metadata": {
      "scrapbook": {
       "data": true,
       "display": false,
       "name": "Prior Model MSE"
      }
     },
     "output_type": "display_data"
    },
    {
     "data": {
      "application/scrapbook.scrap.json+json": {
       "data": 0.8605248791552977,
       "encoder": "json",
       "name": "ABC Pre-generator MSE",
       "version": 1
      }
     },
     "metadata": {
      "scrapbook": {
       "data": true,
       "display": false,
       "name": "ABC Pre-generator MSE"
      }
     },
     "output_type": "display_data"
    },
    {
     "data": {
      "application/scrapbook.scrap.json+json": {
       "data": 0.3433012522458077,
       "encoder": "json",
       "name": "Prior Model MSE",
       "version": 1
      }
     },
     "metadata": {
      "scrapbook": {
       "data": true,
       "display": false,
       "name": "Prior Model MSE"
      }
     },
     "output_type": "display_data"
    },
    {
     "data": {
      "application/scrapbook.scrap.json+json": {
       "data": 0.7910292963982208,
       "encoder": "json",
       "name": "ABC Pre-generator MSE",
       "version": 1
      }
     },
     "metadata": {
      "scrapbook": {
       "data": true,
       "display": false,
       "name": "ABC Pre-generator MSE"
      }
     },
     "output_type": "display_data"
    }
   ],
   "source": [
    "y_pred = prior_model.predict(X_test)\n",
    "y_abc = y_pred + np.random.normal(0,variance, y_pred.shape) + bias \n",
    "mse = mean_squared_error(y_pred,Y_test)\n",
    "sb.glue(\"Prior Model MSE\",mse)\n",
    "mse = mean_squared_error(y_abc,Y_test)\n",
    "sb.glue(\"ABC Pre-generator MSE\",mse)\n",
    "mae = mean_absolute_error(y_pred,Y_test)\n",
    "sb.glue(\"Prior Model MSE\",mae)\n",
    "mae = mean_absolute_error(y_abc,Y_test)\n",
    "sb.glue(\"ABC Pre-generator MSE\",mae)"
   ]
  },
  {
   "cell_type": "markdown",
   "id": "25609da2",
   "metadata": {
    "papermill": {
     "duration": 0.009888,
     "end_time": "2022-06-07T06:16:25.318052",
     "exception": false,
     "start_time": "2022-06-07T06:16:25.308164",
     "status": "completed"
    },
    "tags": []
   },
   "source": [
    "# ABC GAN Model"
   ]
  },
  {
   "cell_type": "code",
   "execution_count": 11,
   "id": "dfc3464d",
   "metadata": {
    "execution": {
     "iopub.execute_input": "2022-06-07T06:16:25.340237Z",
     "iopub.status.busy": "2022-06-07T06:16:25.339860Z",
     "iopub.status.idle": "2022-06-07T06:16:25.342439Z",
     "shell.execute_reply": "2022-06-07T06:16:25.342684Z"
    },
    "papermill": {
     "duration": 0.018006,
     "end_time": "2022-06-07T06:16:25.345608",
     "exception": false,
     "start_time": "2022-06-07T06:16:25.327602",
     "status": "completed"
    },
    "tags": []
   },
   "outputs": [],
   "source": [
    "gen = network.Generator(n_features+1).to(device)\n",
    "disc = network.Discriminator(n_features+1).to(device)\n",
    "\n",
    "criterion = torch.nn.BCELoss()\n",
    "gen_opt = torch.optim.Adam(gen.parameters(), lr=0.001, betas=(0.5, 0.999))\n",
    "disc_opt = torch.optim.Adam(disc.parameters(), lr=0.001, betas=(0.5, 0.999))"
   ]
  },
  {
   "cell_type": "code",
   "execution_count": 12,
   "id": "b75fdd85",
   "metadata": {
    "execution": {
     "iopub.execute_input": "2022-06-07T06:16:25.368058Z",
     "iopub.status.busy": "2022-06-07T06:16:25.367680Z",
     "iopub.status.idle": "2022-06-07T06:16:40.478168Z",
     "shell.execute_reply": "2022-06-07T06:16:40.478475Z"
    },
    "papermill": {
     "duration": 15.122806,
     "end_time": "2022-06-07T06:16:40.478600",
     "exception": false,
     "start_time": "2022-06-07T06:16:25.355794",
     "status": "completed"
    },
    "tags": []
   },
   "outputs": [
    {
     "data": {
      "image/png": "[encoded data removed]",
      "text/plain": [
       "<Figure size 432x288 with 1 Axes>"
      ]
     },
     "metadata": {
      "needs_background": "light"
     },
     "output_type": "display_data"
    },
    {
     "data": {
      "image/png": "[encoded data removed]",
      "text/plain": [
       "<Figure size 432x288 with 1 Axes>"
      ]
     },
     "metadata": {
      "needs_background": "light"
     },
     "output_type": "display_data"
    }
   ],
   "source": [
    "#Training the ABC_GAN \n",
    "ABC_train_test2.training_GAN(disc,gen,disc_opt,gen_opt,train_data,batch_size,n_epochs,criterion,prior_model,variance,bias,device)"
   ]
  },
  {
   "cell_type": "code",
   "execution_count": 13,
   "id": "1fa7c368",
   "metadata": {
    "execution": {
     "iopub.execute_input": "2022-06-07T06:16:40.502708Z",
     "iopub.status.busy": "2022-06-07T06:16:40.502311Z",
     "iopub.status.idle": "2022-06-07T06:16:40.829276Z",
     "shell.execute_reply": "2022-06-07T06:16:40.832240Z"
    },
    "papermill": {
     "duration": 0.344645,
     "end_time": "2022-06-07T06:16:40.834300",
     "exception": false,
     "start_time": "2022-06-07T06:16:40.489655",
     "status": "completed"
    },
    "tags": []
   },
   "outputs": [
    {
     "data": {
      "application/scrapbook.scrap.json+json": {
       "data": 0.043326038314607566,
       "encoder": "json",
       "name": "ABC-GAN Model 1 MSE",
       "version": 1
      }
     },
     "metadata": {
      "scrapbook": {
       "data": true,
       "display": false,
       "name": "ABC-GAN Model 1 MSE"
      }
     },
     "output_type": "display_data"
    },
    {
     "data": {
      "application/scrapbook.scrap.json+json": {
       "data": 0.15116206689924003,
       "encoder": "json",
       "name": "ABC-GAN Model 1 MAE",
       "version": 1
      }
     },
     "metadata": {
      "scrapbook": {
       "data": true,
       "display": false,
       "name": "ABC-GAN Model 1 MAE"
      }
     },
     "output_type": "display_data"
    },
    {
     "data": {
      "application/scrapbook.scrap.json+json": {
       "data": 3.0232413379848,
       "encoder": "json",
       "name": "ABC-GAN Model 1 Manhattan Distance",
       "version": 1
      }
     },
     "metadata": {
      "scrapbook": {
       "data": true,
       "display": false,
       "name": "ABC-GAN Model 1 Manhattan Distance"
      }
     },
     "output_type": "display_data"
    },
    {
     "data": {
      "application/scrapbook.scrap.json+json": {
       "data": 0.930028175647892,
       "encoder": "json",
       "name": "ABC-GAN Model 1 Euclidean distance",
       "version": 1
      }
     },
     "metadata": {
      "scrapbook": {
       "data": true,
       "display": false,
       "name": "ABC-GAN Model 1 Euclidean distance"
      }
     },
     "output_type": "display_data"
    },
    {
     "data": {
      "application/scrapbook.scrap.json+json": {
       "data": [
        [
         0.04450287031175935,
         0.045134261674736,
         0.049134970131438596,
         0.04123354597978115,
         0.04103001891970087,
         0.04216162851126891,
         0.04230301252409084,
         0.04845188402028181,
         0.03675362591783145,
         0.03715273621917424,
         0.045053567737569036,
         0.04052143691333463,
         0.04327532551517664,
         0.037430497071691146,
         0.04230258611367706,
         0.04160747491732032,
         0.04301596888298246,
         0.04557608533655457,
         0.043469640053735395,
         0.03836100261520178,
         0.04226758766169293,
         0.04407243087034731,
         0.0429739041668416,
         0.03900626311435753,
         0.04410365454391776,
         0.04067500360132399,
         0.035350696627667474,
         0.042208910087849896,
         0.045878265295221675,
         0.040599612560338706,
         0.03839560859394677,
         0.039283764870146634,
         0.04353627591970187,
         0.040525722800864264,
         0.03768616527998756,
         0.04596342834992535,
         0.04206663931555127,
         0.04752229178014872,
         0.04663073590962814,
         0.04759830252610706,
         0.043197912301452535,
         0.048609878690308216,
         0.04603068547980225,
         0.03993215344158872,
         0.053039815787392475,
         0.05054835332524511,
         0.04079640484306639,
         0.0369934522623702,
         0.03812642143804007,
         0.044863780191080185,
         0.04565989261078969,
         0.04741334967120797,
         0.045364024408003786,
         0.048675171750755974,
         0.05095617453196153,
         0.04148845983525031,
         0.04570467101548879,
         0.043862407406043934,
         0.04110071713221354,
         0.03975837242158333,
         0.04580110172628873,
         0.03858695026637952,
         0.04299918363530304,
         0.04318632644283589,
         0.045688915417517406,
         0.045340946693988624,
         0.033958330190014575,
         0.039733959052342824,
         0.039853947627871665,
         0.041800059492140905,
         0.04444006551579595,
         0.0408572605467312,
         0.04587495834024328,
         0.042031196521502626,
         0.04991753628678046,
         0.04141676639138573,
         0.0439085238688508,
         0.048353988850585804,
         0.048403442865189085,
         0.043039465200975326,
         0.050180854282841636,
         0.044537121100633105,
         0.0436485162932023,
         0.04995344002535853,
         0.04461088558494717,
         0.04027490865572749,
         0.04065636140610544,
         0.039345856421945734,
         0.047218451664779705,
         0.04339483762970072,
         0.04446173478807526,
         0.04732269611798466,
         0.039757573331336706,
         0.04271939237826514,
         0.04191686526596209,
         0.04467708903898502,
         0.04126829183285717,
         0.04329334350412454,
         0.04783715973010214,
         0.0433960256885807
        ],
        [
         0.15421408265829087,
         0.15419597923755646,
         0.15328440070152283,
         0.15354930311441423,
         0.13979263231158257,
         0.15209721103310586,
         0.14401981458067895,
         0.15699051693081856,
         0.13809446394443511,
         0.14338571652770044,
         0.1525830790400505,
         0.14066599160432816,
         0.15093275234103204,
         0.13809975236654282,
         0.15350799709558488,
         0.13922620043158532,
         0.14803198352456093,
         0.15789630264043808,
         0.1565631538629532,
         0.1382964737713337,
         0.1457948677241802,
         0.1477162942290306,
         0.1535477079451084,
         0.142620649933815,
         0.15372347831726074,
         0.14835742563009263,
         0.1497443825006485,
         0.14707961603999137,
         0.14962495416402816,
         0.14663245379924775,
         0.13613087683916092,
         0.1456945024430752,
         0.14750256165862083,
         0.14022586941719056,
         0.1427014708518982,
         0.1641385480761528,
         0.1469265602529049,
         0.1593813680112362,
         0.149941486120224,
         0.1511513352394104,
         0.14893930852413179,
         0.16016794741153717,
         0.15019926726818084,
         0.15230828151106834,
         0.16977842152118683,
         0.1657047800719738,
         0.14766806364059448,
         0.13286543712019921,
         0.14091025963425635,
         0.14510907158255576,
         0.150541952252388,
         0.16508779749274255,
         0.15440382286906243,
         0.1652575686573982,
         0.17403005212545394,
         0.1487965390086174,
         0.16128546074032785,
         0.15707150027155875,
         0.1419191487133503,
         0.14062796384096146,
         0.15844816714525223,
         0.14438083097338678,
         0.1539522036910057,
         0.15189701169729233,
         0.1608771026134491,
         0.15869325548410415,
         0.14323137253522872,
         0.13717008233070374,
         0.14660698771476746,
         0.14709130451083183,
         0.14736682847142218,
         0.14868841767311097,
         0.1557963512837887,
         0.14503708928823472,
         0.16989363729953766,
         0.1377185396850109,
         0.1540166348218918,
         0.15834194347262381,
         0.16687832847237588,
         0.15866022557020187,
         0.17012459859251977,
         0.15206897258758545,
         0.15252136886119844,
         0.166883946955204,
         0.15015580207109452,
         0.14557400941848755,
         0.14601388871669768,
         0.14442253932356836,
         0.15443272218108178,
         0.15169785544276237,
         0.1557709462940693,
         0.1553821988403797,
         0.14421627297997475,
         0.15622481256723403,
         0.14894284233450888,
         0.16082020998001098,
         0.15144906416535378,
         0.14735876843333245,
         0.15434938669204712,
         0.15631330758333206
        ],
        [
         3.0842816531658173,
         3.083919584751129,
         3.0656880140304565,
         3.0709860622882843,
         2.7958526462316513,
         3.041944220662117,
         2.880396291613579,
         3.139810338616371,
         2.7618892788887024,
         2.8677143305540085,
         3.05166158080101,
         2.813319832086563,
         3.0186550468206406,
         2.7619950473308563,
         3.0701599419116974,
         2.7845240086317062,
         2.9606396704912186,
         3.1579260528087616,
         3.1312630772590637,
         2.765929475426674,
         2.9158973544836044,
         2.954325884580612,
         3.0709541589021683,
         2.8524129986763,
         3.074469566345215,
         2.9671485126018524,
         2.99488765001297,
         2.9415923207998276,
         2.9924990832805634,
         2.932649075984955,
         2.7226175367832184,
         2.9138900488615036,
         2.9500512331724167,
         2.804517388343811,
         2.854029417037964,
         3.282770961523056,
         2.938531205058098,
         3.187627360224724,
         2.99882972240448,
         3.023026704788208,
         2.9787861704826355,
         3.2033589482307434,
         3.003985345363617,
         3.046165630221367,
         3.3955684304237366,
         3.314095601439476,
         2.9533612728118896,
         2.657308742403984,
         2.8182051926851273,
         2.9021814316511154,
         3.01083904504776,
         3.3017559498548508,
         3.0880764573812485,
         3.3051513731479645,
         3.480601042509079,
         2.975930780172348,
         3.2257092148065567,
         3.1414300054311752,
         2.838382974267006,
         2.812559276819229,
         3.1689633429050446,
         2.8876166194677353,
         3.079044073820114,
         3.0379402339458466,
         3.217542052268982,
         3.173865109682083,
         2.8646274507045746,
         2.7434016466140747,
         2.932139754295349,
         2.9418260902166367,
         2.947336569428444,
         2.9737683534622192,
         3.1159270256757736,
         2.900741785764694,
         3.397872745990753,
         2.754370793700218,
         3.0803326964378357,
         3.1668388694524765,
         3.3375665694475174,
         3.1732045114040375,
         3.402491971850395,
         3.041379451751709,
         3.0504273772239685,
         3.33767893910408,
         3.0031160414218903,
         2.911480188369751,
         2.920277774333954,
         2.888450786471367,
         3.0886544436216354,
         3.0339571088552475,
         3.115418925881386,
         3.1076439768075943,
         2.884325459599495,
         3.124496251344681,
         2.978856846690178,
         3.2164041996002197,
         3.0289812833070755,
         2.947175368666649,
         3.0869877338409424,
         3.1262661516666412
        ],
        [
         0.9434285379588573,
         0.9500974863111259,
         0.9913119602974494,
         0.9081139353603286,
         0.9058699566681839,
         0.9182769572549331,
         0.9198153349894841,
         0.9843971151957102,
         0.8573637024954047,
         0.8620062206176269,
         0.9492477836431227,
         0.9002381564156746,
         0.9303260236624217,
         0.8652224808879061,
         0.9198106991514836,
         0.912222285600613,
         0.9275340304590711,
         0.9547364593075366,
         0.932412355706802,
         0.8759109842352907,
         0.9194301241714122,
         0.9388549501424308,
         0.9270804082369728,
         0.8832469995913661,
         0.939187463118176,
         0.9019423884187281,
         0.8408412053136725,
         0.9187917074925077,
         0.9578962918314453,
         0.9011061264949729,
         0.876305980738997,
         0.8863832677814562,
         0.9331267429422637,
         0.900285763531383,
         0.8681723939401386,
         0.9587849430391088,
         0.9172419453508575,
         0.9749081164925104,
         0.9657197927932112,
         0.9756874758456937,
         0.9294935427581252,
         0.9860007980758253,
         0.9594861695699657,
         0.893668321488333,
         1.0299496666089316,
         1.005468580565749,
         0.903287383317916,
         0.8601564074326273,
         0.8732287379380053,
         0.9472463268979213,
         0.9556138614606811,
         0.9737900150567161,
         0.9525127233586309,
         0.9866627767454894,
         1.0095164637781944,
         0.9109166793428509,
         0.9560823292529655,
         0.9366152615246448,
         0.9066500662572472,
         0.8917216204801063,
         0.9570904003937009,
         0.8784867701494373,
         0.927353046420866,
         0.9293688873944069,
         0.9559175217299598,
         0.9522704100620645,
         0.8241156495300229,
         0.8914478005171456,
         0.892792782541074,
         0.9143310067162866,
         0.9427625948858593,
         0.9039608459079541,
         0.9578617681089822,
         0.9168554577631375,
         0.9991750225739279,
         0.9101292918194176,
         0.9371075057734923,
         0.9834021440955455,
         0.9839049025712707,
         0.927787316155759,
         1.001806910365881,
         0.9437915140605271,
         0.9343288103574918,
         0.9995342918115269,
         0.9445727667569839,
         0.8974955003310879,
         0.901735675307409,
         0.8870834957538747,
         0.9717865163170325,
         0.9316097641147899,
         0.9429924155376358,
         0.9728586343142015,
         0.8917126592275867,
         0.9243310270489155,
         0.915607615367654,
         0.9452733894380505,
         0.908496470360311,
         0.9305196774289572,
         0.9781325036016556,
         0.9316225167800604
        ]
       ],
       "encoder": "json",
       "name": "ABC_GAN_1 Metrics",
       "version": 1
      }
     },
     "metadata": {
      "scrapbook": {
       "data": true,
       "display": false,
       "name": "ABC_GAN_1 Metrics"
      }
     },
     "output_type": "display_data"
    },
    {
     "name": "stdout",
     "output_type": "stream",
     "text": [
      "MSE\n",
      "0.043326038314607566\n"
     ]
    }
   ],
   "source": [
    "ABC_GAN1_metrics=ABC_train_test2.test_generator(gen,test_data,prior_model,variance,bias,\"1\",device)\n",
    "sb.glue(\"ABC_GAN_1 Metrics\",ABC_GAN1_metrics)\n",
    "\n",
    "print(\"MSE\")\n",
    "print(mean(ABC_GAN1_metrics[0]))"
   ]
  },
  {
   "cell_type": "code",
   "execution_count": 14,
   "id": "eb22ce5c",
   "metadata": {
    "execution": {
     "iopub.execute_input": "2022-06-07T06:16:40.878254Z",
     "iopub.status.busy": "2022-06-07T06:16:40.870866Z",
     "iopub.status.idle": "2022-06-07T06:16:41.211109Z",
     "shell.execute_reply": "2022-06-07T06:16:41.211424Z"
    },
    "papermill": {
     "duration": 0.362712,
     "end_time": "2022-06-07T06:16:41.211573",
     "exception": false,
     "start_time": "2022-06-07T06:16:40.848861",
     "status": "completed"
    },
    "tags": []
   },
   "outputs": [
    {
     "data": {
      "image/png": "[encoded data removed]",
      "text/plain": [
       "<Figure size 432x288 with 1 Axes>"
      ]
     },
     "metadata": {
      "needs_background": "light"
     },
     "output_type": "display_data"
    },
    {
     "data": {
      "image/png": "[encoded data removed]",
      "text/plain": [
       "<Figure size 432x288 with 1 Axes>"
      ]
     },
     "metadata": {
      "needs_background": "light"
     },
     "output_type": "display_data"
    },
    {
     "data": {
      "image/png": "[encoded data removed]",
      "text/plain": [
       "<Figure size 432x288 with 1 Axes>"
      ]
     },
     "metadata": {
      "needs_background": "light"
     },
     "output_type": "display_data"
    },
    {
     "data": {
      "image/png": "[encoded data removed]",
      "text/plain": [
       "<Figure size 432x288 with 1 Axes>"
      ]
     },
     "metadata": {
      "needs_background": "light"
     },
     "output_type": "display_data"
    }
   ],
   "source": [
    "sanityChecks.discProbVsError(train_data,disc,device)\n",
    "sanityChecks.discProbVsError(test_data,disc,device)"
   ]
  },
  {
   "cell_type": "markdown",
   "id": "130f3a4d",
   "metadata": {
    "id": "130f3a4d",
    "papermill": {
     "duration": 0.039412,
     "end_time": "2022-06-07T06:16:41.265864",
     "exception": false,
     "start_time": "2022-06-07T06:16:41.226452",
     "status": "completed"
    },
    "tags": []
   },
   "source": [
    "# ABC - GAN Model with skip connection"
   ]
  },
  {
   "cell_type": "code",
   "execution_count": 15,
   "id": "4e43dad1",
   "metadata": {
    "execution": {
     "iopub.execute_input": "2022-06-07T06:16:41.299496Z",
     "iopub.status.busy": "2022-06-07T06:16:41.299118Z",
     "iopub.status.idle": "2022-06-07T06:16:41.301408Z",
     "shell.execute_reply": "2022-06-07T06:16:41.301653Z"
    },
    "id": "4e43dad1",
    "papermill": {
     "duration": 0.020889,
     "end_time": "2022-06-07T06:16:41.301766",
     "exception": false,
     "start_time": "2022-06-07T06:16:41.280877",
     "status": "completed"
    },
    "tags": []
   },
   "outputs": [],
   "source": [
    "#Generator\n",
    "gen3 = network.GeneratorWithSkipConnection(n_features+1).to(device)\n",
    "constraints=network.weightConstraint()\n",
    "#Discriminator \n",
    "disc3 = network.Discriminator(n_features+1).to(device)\n",
    "\n",
    "criterion = torch.nn.BCELoss()\n",
    "gen_opt = torch.optim.Adam(gen3.parameters(), lr=0.001, betas=(0.5, 0.999))\n",
    "disc_opt = torch.optim.Adam(disc3.parameters(), lr=0.001, betas=(0.5, 0.999))\n"
   ]
  },
  {
   "cell_type": "code",
   "execution_count": 16,
   "id": "26acbc37",
   "metadata": {
    "execution": {
     "iopub.execute_input": "2022-06-07T06:16:41.334547Z",
     "iopub.status.busy": "2022-06-07T06:16:41.334166Z",
     "iopub.status.idle": "2022-06-07T06:17:20.859665Z",
     "shell.execute_reply": "2022-06-07T06:17:20.859983Z"
    },
    "id": "26acbc37",
    "papermill": {
     "duration": 39.543404,
     "end_time": "2022-06-07T06:17:20.860117",
     "exception": false,
     "start_time": "2022-06-07T06:16:41.316713",
     "status": "completed"
    },
    "tags": []
   },
   "outputs": [
    {
     "data": {
      "image/png": "[encoded data removed]",
      "text/plain": [
       "<Figure size 432x288 with 1 Axes>"
      ]
     },
     "metadata": {
      "needs_background": "light"
     },
     "output_type": "display_data"
    },
    {
     "data": {
      "image/png": "[encoded data removed]",
      "text/plain": [
       "<Figure size 432x288 with 1 Axes>"
      ]
     },
     "metadata": {
      "needs_background": "light"
     },
     "output_type": "display_data"
    }
   ],
   "source": [
    "ABC_train_test2.training_GAN_skip_connection(disc3,gen3,disc_opt,gen_opt,train_data,batch_size,n_epochs,criterion,prior_model,variance,bias,device)"
   ]
  },
  {
   "cell_type": "code",
   "execution_count": 17,
   "id": "c5e0717b",
   "metadata": {
    "execution": {
     "iopub.execute_input": "2022-06-07T06:17:20.893406Z",
     "iopub.status.busy": "2022-06-07T06:17:20.893017Z",
     "iopub.status.idle": "2022-06-07T06:17:21.203423Z",
     "shell.execute_reply": "2022-06-07T06:17:21.203726Z"
    },
    "id": "c5e0717b",
    "papermill": {
     "duration": 0.328441,
     "end_time": "2022-06-07T06:17:21.203850",
     "exception": false,
     "start_time": "2022-06-07T06:17:20.875409",
     "status": "completed"
    },
    "tags": []
   },
   "outputs": [
    {
     "data": {
      "application/scrapbook.scrap.json+json": {
       "data": 0.042499698129303085,
       "encoder": "json",
       "name": "ABC-GAN Model 3 MSE",
       "version": 1
      }
     },
     "metadata": {
      "scrapbook": {
       "data": true,
       "display": false,
       "name": "ABC-GAN Model 3 MSE"
      }
     },
     "output_type": "display_data"
    },
    {
     "data": {
      "application/scrapbook.scrap.json+json": {
       "data": 0.1457092523314059,
       "encoder": "json",
       "name": "ABC-GAN Model 3 MAE",
       "version": 1
      }
     },
     "metadata": {
      "scrapbook": {
       "data": true,
       "display": false,
       "name": "ABC-GAN Model 3 MAE"
      }
     },
     "output_type": "display_data"
    },
    {
     "data": {
      "application/scrapbook.scrap.json+json": {
       "data": 2.9141850466281176,
       "encoder": "json",
       "name": "ABC-GAN Model 3 Manhattan Distance",
       "version": 1
      }
     },
     "metadata": {
      "scrapbook": {
       "data": true,
       "display": false,
       "name": "ABC-GAN Model 3 Manhattan Distance"
      }
     },
     "output_type": "display_data"
    },
    {
     "data": {
      "application/scrapbook.scrap.json+json": {
       "data": 0.9204400055756622,
       "encoder": "json",
       "name": "ABC-GAN Model 3 Euclidean distance",
       "version": 1
      }
     },
     "metadata": {
      "scrapbook": {
       "data": true,
       "display": false,
       "name": "ABC-GAN Model 3 Euclidean distance"
      }
     },
     "output_type": "display_data"
    },
    {
     "data": {
      "application/scrapbook.scrap.json+json": {
       "data": [
        [
         0.047713449702952306,
         0.04378536642036257,
         0.039734651574742874,
         0.03291335480722555,
         0.04370936204911428,
         0.04025698153851313,
         0.03857037872182636,
         0.04056501650122304,
         0.04696333199298791,
         0.033194233896817485,
         0.04693768795262584,
         0.04253876886494405,
         0.04381645654589252,
         0.047555763704126994,
         0.04099278925914115,
         0.04086570807678701,
         0.051339620057189415,
         0.050124818089385424,
         0.04734851030028493,
         0.03952681110400528,
         0.04495508055829245,
         0.037030148733691814,
         0.041351589918482846,
         0.043227814040394365,
         0.038401512896919045,
         0.0467018662934531,
         0.034114938512149015,
         0.04161003053955274,
         0.03882226174156418,
         0.03570962121360628,
         0.04934438303440939,
         0.04139973353630786,
         0.04436934691808225,
         0.044408157915032456,
         0.05248286171169847,
         0.03914668151562738,
         0.041578342865583116,
         0.048370982912794847,
         0.046986871414715484,
         0.04144694088509564,
         0.041488422255791524,
         0.043590521297435805,
         0.035606832643995265,
         0.044301343895458145,
         0.04095542976213936,
         0.04808732687869079,
         0.0391265822453595,
         0.043443221238305726,
         0.03178757850980414,
         0.04852058053509173,
         0.045272396663588954,
         0.04143102825612729,
         0.038515499304711584,
         0.047032927804412,
         0.04607512423433161,
         0.050179409527891704,
         0.043237593681783495,
         0.04483730600026574,
         0.039602119044803555,
         0.041561619639242105,
         0.04623715208937036,
         0.036107514591217325,
         0.03767937921289881,
         0.0426781273932197,
         0.04302283032202283,
         0.042669993648416685,
         0.04345710081430709,
         0.03909668080856747,
         0.042726291529446826,
         0.039038989244093734,
         0.05203337324842618,
         0.03394655605706519,
         0.04402306009184429,
         0.038984387354398714,
         0.03685993485100821,
         0.03823233977320417,
         0.045317753936433135,
         0.04655407504547008,
         0.042782668666158916,
         0.04252647030962738,
         0.04448318202583461,
         0.048045766524760024,
         0.0452604533880421,
         0.04008867747894061,
         0.04634512643468695,
         0.042062768430322604,
         0.046372917899823715,
         0.05797602620159894,
         0.045595387049369794,
         0.04027511197525897,
         0.04204816230742977,
         0.03875200564291328,
         0.03355259726301243,
         0.039324447487936565,
         0.05052676455962367,
         0.03915757715915948,
         0.02955008469174738,
         0.042478153002213824,
         0.04132779385374301,
         0.038207038829862525
        ],
        [
         0.15891750156879425,
         0.14521490037441254,
         0.13375954031944276,
         0.12147659212350845,
         0.1475106693804264,
         0.13290206231176854,
         0.14029446393251419,
         0.15270194560289382,
         0.1494225014001131,
         0.1323124125599861,
         0.16314044520258902,
         0.15020591765642166,
         0.15077571123838424,
         0.15396436154842377,
         0.14065647199749948,
         0.15219150111079216,
         0.17133357077836991,
         0.15885132253170015,
         0.1585465282201767,
         0.14759422615170478,
         0.1452659159898758,
         0.13539330810308456,
         0.15180664360523224,
         0.1462221287190914,
         0.1367955133318901,
         0.15647001564502716,
         0.12306289225816727,
         0.14028412699699402,
         0.13942902833223342,
         0.13026251494884492,
         0.16237500980496405,
         0.13673728257417678,
         0.14909107089042664,
         0.1461261600255966,
         0.16417577713727952,
         0.1521187610924244,
         0.13732834234833718,
         0.15925645232200622,
         0.15498749986290933,
         0.15865813791751862,
         0.1322102352976799,
         0.15610759779810907,
         0.13467825055122376,
         0.13966516703367232,
         0.13790506944060327,
         0.16086974292993544,
         0.14924228936433792,
         0.14864006787538528,
         0.12530882507562638,
         0.15870370902121067,
         0.1623555302619934,
         0.13589944168925286,
         0.13525264859199523,
         0.16171035617589952,
         0.15875852033495902,
         0.15967604964971543,
         0.1505039431154728,
         0.14477879256010057,
         0.13611386865377426,
         0.13502194564789533,
         0.1557550013065338,
         0.132301165163517,
         0.1344283863902092,
         0.14433899186551571,
         0.14662011414766313,
         0.14919501394033433,
         0.14367038607597352,
         0.13951598554849626,
         0.14070863872766495,
         0.1425745002925396,
         0.1549489215016365,
         0.12629031911492347,
         0.15366773307323456,
         0.14411986861377954,
         0.13158287033438681,
         0.13093871027231216,
         0.15601726770401,
         0.15931501910090445,
         0.14064247906208038,
         0.13868943527340888,
         0.15464337915182114,
         0.153434881567955,
         0.14286252111196518,
         0.13511693552136422,
         0.1569723092019558,
         0.14615072384476663,
         0.1463869545608759,
         0.1749352842569351,
         0.15950363948941232,
         0.13660551458597184,
         0.14504841938614846,
         0.13751968443393708,
         0.12705700248479843,
         0.14212743267416955,
         0.1530765138566494,
         0.1311170056462288,
         0.11909995526075363,
         0.15137272626161574,
         0.14860416650772096,
         0.13294809684157372
        ],
        [
         3.178350031375885,
         2.9042980074882507,
         2.675190806388855,
         2.429531842470169,
         2.950213387608528,
         2.6580412462353706,
         2.805889278650284,
         3.0540389120578766,
         2.988450028002262,
         2.6462482511997223,
         3.2628089040517807,
         3.0041183531284332,
         3.015514224767685,
         3.0792872309684753,
         2.8131294399499893,
         3.043830022215843,
         3.426671415567398,
         3.1770264506340027,
         3.170930564403534,
         2.9518845230340958,
         2.905318319797516,
         2.7078661620616913,
         3.0361328721046448,
         2.9244425743818283,
         2.735910266637802,
         3.129400312900543,
         2.4612578451633453,
         2.8056825399398804,
         2.7885805666446686,
         2.605250298976898,
         3.2475001960992813,
         2.7347456514835358,
         2.9818214178085327,
         2.9225232005119324,
         3.28351554274559,
         3.042375221848488,
         2.7465668469667435,
         3.1851290464401245,
         3.0997499972581863,
         3.1731627583503723,
         2.644204705953598,
         3.122151955962181,
         2.693565011024475,
         2.7933033406734467,
         2.758101388812065,
         3.217394858598709,
         2.9848457872867584,
         2.9728013575077057,
         2.5061765015125275,
         3.1740741804242134,
         3.247110605239868,
         2.717988833785057,
         2.705052971839905,
         3.23420712351799,
         3.1751704066991806,
         3.1935209929943085,
         3.010078862309456,
         2.895575851202011,
         2.7222773730754852,
         2.7004389129579067,
         3.1151000261306763,
         2.64602330327034,
         2.688567727804184,
         2.886779837310314,
         2.9324022829532623,
         2.9839002788066864,
         2.87340772151947,
         2.790319710969925,
         2.814172774553299,
         2.851490005850792,
         3.09897843003273,
         2.5258063822984695,
         3.073354661464691,
         2.882397372275591,
         2.6316574066877365,
         2.6187742054462433,
         3.1203453540802,
         3.1863003820180893,
         2.8128495812416077,
         2.773788705468178,
         3.0928675830364227,
         3.0686976313591003,
         2.8572504222393036,
         2.7023387104272842,
         3.139446184039116,
         2.9230144768953323,
         2.927739091217518,
         3.4987056851387024,
         3.190072789788246,
         2.7321102917194366,
         2.900968387722969,
         2.7503936886787415,
         2.5411400496959686,
         2.842548653483391,
         3.061530277132988,
         2.622340112924576,
         2.3819991052150726,
         3.027454525232315,
         2.972083330154419,
         2.6589619368314743
        ],
        [
         0.9768669275080645,
         0.9357923532532478,
         0.8914555689964909,
         0.8113366108740016,
         0.9349798077938826,
         0.8972957320584237,
         0.8782981125088037,
         0.9007221158739586,
         0.9691576960741519,
         0.8147911867075819,
         0.9688930586254175,
         0.9223748572564633,
         0.9361245274630136,
         0.9752513901976966,
         0.9054588810005803,
         0.9040542912545353,
         1.013307653747759,
         1.0012474028868732,
         0.9731239417493018,
         0.8891210390492993,
         0.9482096873402259,
         0.860582927249801,
         0.909412886630521,
         0.9298151863719409,
         0.8763733553334337,
         0.9664560651519871,
         0.8260137833250607,
         0.9122503005157383,
         0.881161298986334,
         0.8450990618099902,
         0.9934221965952783,
         0.9099421249322163,
         0.9420121752725095,
         0.9424240862269221,
         1.0245278103760627,
         0.8848353690447436,
         0.9119028771265405,
         0.9835749377937082,
         0.969400551007843,
         0.9104607721928017,
         0.9109162667972455,
         0.9337078911247971,
         0.8438818951013852,
         0.9412900073352329,
         0.9050461840385756,
         0.9806867683281018,
         0.8846081872259548,
         0.9321289743196027,
         0.7973403101537528,
         0.9850947216901705,
         0.9515502788984821,
         0.9102859798560812,
         0.8776730519357603,
         0.9698755363902318,
         0.9599492094307033,
         1.0017924887709202,
         0.9299203587596466,
         0.9469667998432231,
         0.8899676291282009,
         0.9117194704429877,
         0.9616356075912577,
         0.8497942644101256,
         0.8680942254490444,
         0.9238844883774129,
         0.9276080025746094,
         0.9237964456352566,
         0.9322778643119989,
         0.8842701036286083,
         0.9244056634340448,
         0.8836174426084371,
         1.020131101853347,
         0.8239727672328157,
         0.9383289411698255,
         0.8829992905365067,
         0.8586027585677584,
         0.8744408473213516,
         0.9520268266853947,
         0.9649256452750137,
         0.9250153368043031,
         0.9222415118571424,
         0.9432198261893631,
         0.9802628884616619,
         0.9514247567521259,
         0.895418086470679,
         0.9627577725958586,
         0.9171997430257229,
         0.9630463945192227,
         1.0768103472905426,
         0.9549386058733806,
         0.897497765738266,
         0.9170404822845039,
         0.8803636253607174,
         0.8191776030020893,
         0.8868421222284896,
         1.0052538441570236,
         0.8849584980004371,
         0.768766345409935,
         0.9217174513072195,
         0.9091511849383799,
         0.8741514609020856
        ]
       ],
       "encoder": "json",
       "name": "ABC_GAN_3 Metrics",
       "version": 1
      }
     },
     "metadata": {
      "scrapbook": {
       "data": true,
       "display": false,
       "name": "ABC_GAN_3 Metrics"
      }
     },
     "output_type": "display_data"
    },
    {
     "name": "stdout",
     "output_type": "stream",
     "text": [
      "MSE\n",
      "0.042499698129303085\n"
     ]
    }
   ],
   "source": [
    "ABC_GAN3_metrics=ABC_train_test2.test_generator(gen3,test_data,prior_model,variance,bias,\"3\",device)\n",
    "sb.glue(\"ABC_GAN_3 Metrics\",ABC_GAN3_metrics)\n",
    "\n",
    "print(\"MSE\")\n",
    "print(mean(ABC_GAN3_metrics[0]))"
   ]
  },
  {
   "cell_type": "code",
   "execution_count": 18,
   "id": "c8e46b48",
   "metadata": {
    "execution": {
     "iopub.execute_input": "2022-06-07T06:17:21.240240Z",
     "iopub.status.busy": "2022-06-07T06:17:21.239857Z",
     "iopub.status.idle": "2022-06-07T06:17:21.541979Z",
     "shell.execute_reply": "2022-06-07T06:17:21.542283Z"
    },
    "id": "c8e46b48",
    "papermill": {
     "duration": 0.321468,
     "end_time": "2022-06-07T06:17:21.542405",
     "exception": false,
     "start_time": "2022-06-07T06:17:21.220937",
     "status": "completed"
    },
    "tags": []
   },
   "outputs": [
    {
     "data": {
      "image/png": "[encoded data removed]",
      "text/plain": [
       "<Figure size 432x288 with 1 Axes>"
      ]
     },
     "metadata": {
      "needs_background": "light"
     },
     "output_type": "display_data"
    },
    {
     "data": {
      "image/png": "[encoded data removed]",
      "text/plain": [
       "<Figure size 432x288 with 1 Axes>"
      ]
     },
     "metadata": {
      "needs_background": "light"
     },
     "output_type": "display_data"
    },
    {
     "data": {
      "image/png": "[encoded data removed]",
      "text/plain": [
       "<Figure size 432x288 with 1 Axes>"
      ]
     },
     "metadata": {
      "needs_background": "light"
     },
     "output_type": "display_data"
    },
    {
     "data": {
      "image/png": "[encoded data removed]",
      "text/plain": [
       "<Figure size 432x288 with 1 Axes>"
      ]
     },
     "metadata": {
      "needs_background": "light"
     },
     "output_type": "display_data"
    }
   ],
   "source": [
    "sanityChecks.discProbVsError(train_data,disc3,device)\n",
    "sanityChecks.discProbVsError(test_data,disc3,device)"
   ]
  },
  {
   "cell_type": "markdown",
   "id": "a5bd74c3",
   "metadata": {
    "id": "a5bd74c3",
    "papermill": {
     "duration": 0.019034,
     "end_time": "2022-06-07T06:17:21.580733",
     "exception": false,
     "start_time": "2022-06-07T06:17:21.561699",
     "status": "completed"
    },
    "tags": []
   },
   "source": [
    "## Skip Connection Model Analysis - ABC-GAN "
   ]
  },
  {
   "cell_type": "markdown",
   "id": "5744a8bf",
   "metadata": {
    "id": "5744a8bf",
    "papermill": {
     "duration": 0.019201,
     "end_time": "2022-06-07T06:17:21.618815",
     "exception": false,
     "start_time": "2022-06-07T06:17:21.599614",
     "status": "completed"
    },
    "tags": []
   },
   "source": [
    "### Weight Analysis \n",
    "\n",
    "Study the weights of the skip connection layer\n",
    "\n",
    "Equation of the skip connection is \n",
    "\n",
    "$output = y_{gan} * w + y_{abc} * (1-w)$"
   ]
  },
  {
   "cell_type": "code",
   "execution_count": 19,
   "id": "52c31dea",
   "metadata": {
    "execution": {
     "iopub.execute_input": "2022-06-07T06:17:21.659680Z",
     "iopub.status.busy": "2022-06-07T06:17:21.659301Z",
     "iopub.status.idle": "2022-06-07T06:17:21.662674Z",
     "shell.execute_reply": "2022-06-07T06:17:21.662917Z"
    },
    "id": "52c31dea",
    "papermill": {
     "duration": 0.02522,
     "end_time": "2022-06-07T06:17:21.663031",
     "exception": false,
     "start_time": "2022-06-07T06:17:21.637811",
     "status": "completed"
    },
    "tags": []
   },
   "outputs": [
    {
     "name": "stdout",
     "output_type": "stream",
     "text": [
      "Weight of the node at skip connection\n",
      "Parameter containing:\n",
      "tensor([[0.2104]], requires_grad=True)\n"
     ]
    },
    {
     "data": {
      "application/scrapbook.scrap.json+json": {
       "data": 0.21044230461120605,
       "encoder": "json",
       "name": "Skip Connection Weight",
       "version": 1
      }
     },
     "metadata": {
      "scrapbook": {
       "data": true,
       "display": false,
       "name": "Skip Connection Weight"
      }
     },
     "output_type": "display_data"
    }
   ],
   "source": [
    "print(\"Weight of the node at skip connection\")\n",
    "for name,param in gen3.named_parameters():\n",
    "    if(name == \"skipNode.weight\"):\n",
    "        print(param)\n",
    "        sb.glue(\"Skip Connection Weight\",param.item())"
   ]
  }
 ],
 "metadata": {
  "colab": {
   "collapsed_sections": [],
   "name": "ABC_GAN_Model-Catboost_Pre-gen.ipynb",
   "provenance": []
  },
  "interpreter": {
   "hash": "31f2aee4e71d21fbe5cf8b01ff0e069b9275f58929596ceb00d14d90e3e16cd6"
  },
  "kernelspec": {
   "display_name": "Python 3 (ipykernel)",
   "language": "python",
   "name": "python3"
  },
  "language_info": {
   "codemirror_mode": {
    "name": "ipython",
    "version": 3
   },
   "file_extension": ".py",
   "mimetype": "text/x-python",
   "name": "python",
   "nbconvert_exporter": "python",
   "pygments_lexer": "ipython3",
   "version": "3.8.11"
  },
  "papermill": {
   "default_parameters": {},
   "duration": 60.347952,
   "end_time": "2022-06-07T06:17:21.989889",
   "environment_variables": {},
   "exception": null,
   "input_path": "ABC_GAN-Catboost.ipynb",
   "output_path": "./ABC_GAN_Catboost/ABC-GAN_output_3_3.ipynb",
   "parameters": {
    "bias": 0.1,
    "variance": 1
   },
   "start_time": "2022-06-07T06:16:21.641937",
   "version": "2.3.3"
  }
 },
 "nbformat": 4,
 "nbformat_minor": 5
}