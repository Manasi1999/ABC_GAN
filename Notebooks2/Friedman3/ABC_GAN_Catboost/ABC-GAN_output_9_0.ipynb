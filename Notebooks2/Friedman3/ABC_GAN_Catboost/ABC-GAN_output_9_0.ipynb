{
 "cells": [
  {
   "cell_type": "markdown",
   "id": "622780e6",
   "metadata": {
    "id": "622780e6",
    "papermill": {
     "duration": 0.026846,
     "end_time": "2022-06-07T07:05:23.560066",
     "exception": false,
     "start_time": "2022-06-07T07:05:23.533220",
     "status": "completed"
    },
    "tags": []
   },
   "source": [
    "## Import Libraries "
   ]
  },
  {
   "cell_type": "code",
   "execution_count": 1,
   "id": "a62397e3",
   "metadata": {
    "execution": {
     "iopub.execute_input": "2022-06-07T07:05:23.595230Z",
     "iopub.status.busy": "2022-06-07T07:05:23.594668Z",
     "iopub.status.idle": "2022-06-07T07:05:23.597139Z",
     "shell.execute_reply": "2022-06-07T07:05:23.597518Z"
    },
    "id": "a62397e3",
    "papermill": {
     "duration": 0.024018,
     "end_time": "2022-06-07T07:05:23.597757",
     "exception": false,
     "start_time": "2022-06-07T07:05:23.573739",
     "status": "completed"
    },
    "tags": []
   },
   "outputs": [],
   "source": [
    "import warnings\n",
    "import sys\n",
    "sys.path.insert(0, '../../src')\n",
    "warnings.filterwarnings('ignore')"
   ]
  },
  {
   "cell_type": "code",
   "execution_count": 2,
   "id": "d6a4e155",
   "metadata": {
    "execution": {
     "iopub.execute_input": "2022-06-07T07:05:23.621495Z",
     "iopub.status.busy": "2022-06-07T07:05:23.620882Z",
     "iopub.status.idle": "2022-06-07T07:05:25.534075Z",
     "shell.execute_reply": "2022-06-07T07:05:25.534344Z"
    },
    "id": "d6a4e155",
    "papermill": {
     "duration": 1.92548,
     "end_time": "2022-06-07T07:05:25.534472",
     "exception": false,
     "start_time": "2022-06-07T07:05:23.608992",
     "status": "completed"
    },
    "tags": []
   },
   "outputs": [],
   "source": [
    "import ABC_train_test2\n",
    "import friedman1Dataset\n",
    "import network\n",
    "import dataset\n",
    "import sanityChecks\n",
    "import torch \n",
    "import scrapbook as sb\n",
    "from statistics import mean \n",
    "import catboost as ctb \n",
    "from sklearn.model_selection import train_test_split\n",
    "from sklearn.metrics import mean_squared_error,mean_absolute_error\n",
    "import numpy as np"
   ]
  },
  {
   "cell_type": "markdown",
   "id": "2fa5b0f7",
   "metadata": {
    "id": "2fa5b0f7",
    "papermill": {
     "duration": 0.00685,
     "end_time": "2022-06-07T07:05:25.548804",
     "exception": false,
     "start_time": "2022-06-07T07:05:25.541954",
     "status": "completed"
    },
    "tags": []
   },
   "source": [
    "## Parameters "
   ]
  },
  {
   "cell_type": "code",
   "execution_count": 3,
   "id": "783186fb",
   "metadata": {
    "execution": {
     "iopub.execute_input": "2022-06-07T07:05:25.565282Z",
     "iopub.status.busy": "2022-06-07T07:05:25.564924Z",
     "iopub.status.idle": "2022-06-07T07:05:25.566125Z",
     "shell.execute_reply": "2022-06-07T07:05:25.566363Z"
    },
    "id": "783186fb",
    "papermill": {
     "duration": 0.010445,
     "end_time": "2022-06-07T07:05:25.566472",
     "exception": false,
     "start_time": "2022-06-07T07:05:25.556027",
     "status": "completed"
    },
    "tags": [
     "parameters"
    ]
   },
   "outputs": [],
   "source": [
    "variance = 1\n",
    "bias = 1 "
   ]
  },
  {
   "cell_type": "code",
   "execution_count": 4,
   "id": "7a3f83d6",
   "metadata": {
    "execution": {
     "iopub.execute_input": "2022-06-07T07:05:25.583084Z",
     "iopub.status.busy": "2022-06-07T07:05:25.582708Z",
     "iopub.status.idle": "2022-06-07T07:05:25.583954Z",
     "shell.execute_reply": "2022-06-07T07:05:25.584209Z"
    },
    "papermill": {
     "duration": 0.010467,
     "end_time": "2022-06-07T07:05:25.584354",
     "exception": false,
     "start_time": "2022-06-07T07:05:25.573887",
     "status": "completed"
    },
    "tags": [
     "injected-parameters"
    ]
   },
   "outputs": [],
   "source": [
    "# Parameters\n",
    "variance = 1\n",
    "bias = 1\n"
   ]
  },
  {
   "cell_type": "markdown",
   "id": "391cdbfd",
   "metadata": {
    "id": "391cdbfd",
    "papermill": {
     "duration": 0.007453,
     "end_time": "2022-06-07T07:05:25.613041",
     "exception": false,
     "start_time": "2022-06-07T07:05:25.605588",
     "status": "completed"
    },
    "tags": []
   },
   "source": [
    "## Dataset \n"
   ]
  },
  {
   "cell_type": "code",
   "execution_count": 5,
   "id": "5b51f161",
   "metadata": {
    "execution": {
     "iopub.execute_input": "2022-06-07T07:05:25.630411Z",
     "iopub.status.busy": "2022-06-07T07:05:25.630034Z",
     "iopub.status.idle": "2022-06-07T07:05:25.631307Z",
     "shell.execute_reply": "2022-06-07T07:05:25.631547Z"
    },
    "id": "5b51f161",
    "papermill": {
     "duration": 0.011044,
     "end_time": "2022-06-07T07:05:25.631661",
     "exception": false,
     "start_time": "2022-06-07T07:05:25.620617",
     "status": "completed"
    },
    "tags": []
   },
   "outputs": [],
   "source": [
    "#Parameters \n",
    "n_features = 5\n",
    "n_samples= 100\n",
    "n_target = 1 "
   ]
  },
  {
   "cell_type": "code",
   "execution_count": 6,
   "id": "5d6eced4",
   "metadata": {
    "execution": {
     "iopub.execute_input": "2022-06-07T07:05:25.649884Z",
     "iopub.status.busy": "2022-06-07T07:05:25.648374Z",
     "iopub.status.idle": "2022-06-07T07:05:25.655250Z",
     "shell.execute_reply": "2022-06-07T07:05:25.655645Z"
    },
    "id": "5d6eced4",
    "papermill": {
     "duration": 0.016702,
     "end_time": "2022-06-07T07:05:25.655785",
     "exception": false,
     "start_time": "2022-06-07T07:05:25.639083",
     "status": "completed"
    },
    "tags": []
   },
   "outputs": [
    {
     "name": "stdout",
     "output_type": "stream",
     "text": [
      "         X0        X1        X2        X3        X4         Y\n",
      "0  0.713205  1.555291  1.532277  0.339135 -0.460109  1.072056\n",
      "1 -0.517469  0.691279 -0.848249 -1.065126 -0.526559 -0.569003\n",
      "2  1.118971 -1.121301 -1.340507 -1.342711 -0.669122 -0.900846\n",
      "3  1.193961 -1.654498 -0.323128  0.097280 -0.051558 -1.131359\n",
      "4 -0.287560 -1.476087 -0.609706  1.017519  0.402461 -0.275218\n"
     ]
    }
   ],
   "source": [
    "X,Y = friedman1Dataset.friedman1_data(n_samples,n_features)"
   ]
  },
  {
   "cell_type": "code",
   "execution_count": 7,
   "id": "fe007438",
   "metadata": {
    "execution": {
     "iopub.execute_input": "2022-06-07T07:05:25.675177Z",
     "iopub.status.busy": "2022-06-07T07:05:25.674765Z",
     "iopub.status.idle": "2022-06-07T07:05:25.676415Z",
     "shell.execute_reply": "2022-06-07T07:05:25.676661Z"
    },
    "id": "fe007438",
    "papermill": {
     "duration": 0.013146,
     "end_time": "2022-06-07T07:05:25.676780",
     "exception": false,
     "start_time": "2022-06-07T07:05:25.663634",
     "status": "completed"
    },
    "tags": []
   },
   "outputs": [],
   "source": [
    "#Train test split for dataset \n",
    "X_train,X_test,Y_train,Y_test = train_test_split(X,Y,test_size = 0.2)\n",
    "train_data = dataset.CustomDataset(X_train,Y_train)\n",
    "test_data = dataset.CustomDataset(X_test,Y_test)\n"
   ]
  },
  {
   "cell_type": "markdown",
   "id": "a9a1af34",
   "metadata": {
    "id": "a9a1af34",
    "papermill": {
     "duration": 0.007632,
     "end_time": "2022-06-07T07:05:25.691878",
     "exception": false,
     "start_time": "2022-06-07T07:05:25.684246",
     "status": "completed"
    },
    "tags": []
   },
   "source": [
    "## Training Parameters "
   ]
  },
  {
   "cell_type": "code",
   "execution_count": 8,
   "id": "952b7fc8",
   "metadata": {
    "execution": {
     "iopub.execute_input": "2022-06-07T07:05:25.711284Z",
     "iopub.status.busy": "2022-06-07T07:05:25.710912Z",
     "iopub.status.idle": "2022-06-07T07:05:25.712192Z",
     "shell.execute_reply": "2022-06-07T07:05:25.712500Z"
    },
    "id": "952b7fc8",
    "papermill": {
     "duration": 0.013517,
     "end_time": "2022-06-07T07:05:25.712625",
     "exception": false,
     "start_time": "2022-06-07T07:05:25.699108",
     "status": "completed"
    },
    "tags": []
   },
   "outputs": [],
   "source": [
    "batch_size = 32\n",
    "n_epochs = 1000\n",
    "#Select the device \n",
    "device = torch.device('cuda' if torch.cuda.is_available() else 'cpu')"
   ]
  },
  {
   "cell_type": "markdown",
   "id": "a95e1600",
   "metadata": {
    "id": "a95e1600",
    "papermill": {
     "duration": 0.007779,
     "end_time": "2022-06-07T07:05:25.728025",
     "exception": false,
     "start_time": "2022-06-07T07:05:25.720246",
     "status": "completed"
    },
    "tags": []
   },
   "source": [
    "# ABC Pre-generator Model \n",
    "\n",
    "1. The catboost model is used as a pre-generator model for the ABC-GAN. \n",
    "2. The model is first trained on the entire dataset \n",
    "3. It generats X,Y pairs and we add some Gaussian noise with mean 0 and variance 1 to it which is then feed as input to the generator.\n"
   ]
  },
  {
   "cell_type": "code",
   "execution_count": 9,
   "id": "ff8ce7bd",
   "metadata": {
    "execution": {
     "iopub.execute_input": "2022-06-07T07:05:25.752669Z",
     "iopub.status.busy": "2022-06-07T07:05:25.752259Z",
     "iopub.status.idle": "2022-06-07T07:05:26.409281Z",
     "shell.execute_reply": "2022-06-07T07:05:26.409525Z"
    },
    "id": "ff8ce7bd",
    "papermill": {
     "duration": 0.669182,
     "end_time": "2022-06-07T07:05:26.409649",
     "exception": false,
     "start_time": "2022-06-07T07:05:25.740467",
     "status": "completed"
    },
    "tags": []
   },
   "outputs": [
    {
     "name": "stdout",
     "output_type": "stream",
     "text": [
      "Learning rate set to 0.024897\n",
      "0:\tlearn: 1.0628888\ttotal: 57.8ms\tremaining: 57.7s\n",
      "1:\tlearn: 1.0541928\ttotal: 58.4ms\tremaining: 29.1s\n",
      "2:\tlearn: 1.0451572\ttotal: 58.8ms\tremaining: 19.6s\n",
      "3:\tlearn: 1.0342887\ttotal: 60.2ms\tremaining: 15s\n",
      "4:\tlearn: 1.0259222\ttotal: 60.7ms\tremaining: 12.1s\n",
      "5:\tlearn: 1.0147407\ttotal: 61.4ms\tremaining: 10.2s\n",
      "6:\tlearn: 1.0036217\ttotal: 61.9ms\tremaining: 8.78s\n",
      "7:\tlearn: 0.9930884\ttotal: 62.5ms\tremaining: 7.75s\n",
      "8:\tlearn: 0.9844198\ttotal: 63.1ms\tremaining: 6.95s\n",
      "9:\tlearn: 0.9761403\ttotal: 63.6ms\tremaining: 6.3s\n",
      "10:\tlearn: 0.9671112\ttotal: 64.3ms\tremaining: 5.78s\n",
      "11:\tlearn: 0.9569021\ttotal: 64.8ms\tremaining: 5.33s\n",
      "12:\tlearn: 0.9491333\ttotal: 65.3ms\tremaining: 4.96s\n",
      "13:\tlearn: 0.9394842\ttotal: 65.9ms\tremaining: 4.64s\n",
      "14:\tlearn: 0.9302309\ttotal: 66.5ms\tremaining: 4.37s\n",
      "15:\tlearn: 0.9233841\ttotal: 67.2ms\tremaining: 4.13s\n",
      "16:\tlearn: 0.9159761\ttotal: 67.8ms\tremaining: 3.92s\n",
      "17:\tlearn: 0.9073790\ttotal: 68.4ms\tremaining: 3.73s\n",
      "18:\tlearn: 0.8976998\ttotal: 68.8ms\tremaining: 3.55s\n",
      "19:\tlearn: 0.8893548\ttotal: 69.2ms\tremaining: 3.39s\n",
      "20:\tlearn: 0.8819023\ttotal: 69.8ms\tremaining: 3.25s\n",
      "21:\tlearn: 0.8732848\ttotal: 70.2ms\tremaining: 3.12s\n",
      "22:\tlearn: 0.8662349\ttotal: 70.7ms\tremaining: 3s\n",
      "23:\tlearn: 0.8585876\ttotal: 71.2ms\tremaining: 2.89s\n",
      "24:\tlearn: 0.8506208\ttotal: 71.6ms\tremaining: 2.79s\n",
      "25:\tlearn: 0.8431064\ttotal: 71.9ms\tremaining: 2.69s\n",
      "26:\tlearn: 0.8358206\ttotal: 72.3ms\tremaining: 2.6s\n",
      "27:\tlearn: 0.8269890\ttotal: 72.8ms\tremaining: 2.53s\n",
      "28:\tlearn: 0.8192861\ttotal: 73.2ms\tremaining: 2.45s\n",
      "29:\tlearn: 0.8123602\ttotal: 73.6ms\tremaining: 2.38s\n",
      "30:\tlearn: 0.8035419\ttotal: 74.1ms\tremaining: 2.32s\n",
      "31:\tlearn: 0.7954072\ttotal: 74.6ms\tremaining: 2.26s\n",
      "32:\tlearn: 0.7878308\ttotal: 75.1ms\tremaining: 2.2s\n",
      "33:\tlearn: 0.7806444\ttotal: 75.4ms\tremaining: 2.14s\n",
      "34:\tlearn: 0.7731696\ttotal: 75.8ms\tremaining: 2.09s\n",
      "35:\tlearn: 0.7684978\ttotal: 76.2ms\tremaining: 2.04s\n",
      "36:\tlearn: 0.7623544\ttotal: 76.6ms\tremaining: 1.99s\n",
      "37:\tlearn: 0.7562838\ttotal: 76.9ms\tremaining: 1.95s\n",
      "38:\tlearn: 0.7498268\ttotal: 77.3ms\tremaining: 1.91s\n",
      "39:\tlearn: 0.7428417\ttotal: 77.9ms\tremaining: 1.87s\n",
      "40:\tlearn: 0.7366402\ttotal: 80.1ms\tremaining: 1.87s\n",
      "41:\tlearn: 0.7307685\ttotal: 80.7ms\tremaining: 1.84s\n",
      "42:\tlearn: 0.7244029\ttotal: 81.3ms\tremaining: 1.81s\n",
      "43:\tlearn: 0.7171917\ttotal: 82ms\tremaining: 1.78s\n",
      "44:\tlearn: 0.7105770\ttotal: 82.6ms\tremaining: 1.75s\n",
      "45:\tlearn: 0.7046919\ttotal: 82.9ms\tremaining: 1.72s\n",
      "46:\tlearn: 0.6999805\ttotal: 83.3ms\tremaining: 1.69s\n",
      "47:\tlearn: 0.6944997\ttotal: 83.8ms\tremaining: 1.66s\n",
      "48:\tlearn: 0.6890681\ttotal: 84.2ms\tremaining: 1.63s\n",
      "49:\tlearn: 0.6818561\ttotal: 84.6ms\tremaining: 1.61s\n",
      "50:\tlearn: 0.6750324\ttotal: 85.1ms\tremaining: 1.58s\n",
      "51:\tlearn: 0.6696215\ttotal: 85.6ms\tremaining: 1.56s\n",
      "52:\tlearn: 0.6638261\ttotal: 86.1ms\tremaining: 1.54s\n",
      "53:\tlearn: 0.6577820\ttotal: 86.6ms\tremaining: 1.52s\n",
      "54:\tlearn: 0.6528499\ttotal: 87ms\tremaining: 1.49s\n",
      "55:\tlearn: 0.6475290\ttotal: 87.4ms\tremaining: 1.47s\n",
      "56:\tlearn: 0.6419029\ttotal: 87.8ms\tremaining: 1.45s\n",
      "57:\tlearn: 0.6352801\ttotal: 88.3ms\tremaining: 1.43s\n",
      "58:\tlearn: 0.6305533\ttotal: 88.7ms\tremaining: 1.41s\n",
      "59:\tlearn: 0.6258445\ttotal: 89.2ms\tremaining: 1.4s\n",
      "60:\tlearn: 0.6216614\ttotal: 89.7ms\tremaining: 1.38s\n",
      "61:\tlearn: 0.6154553\ttotal: 90.2ms\tremaining: 1.36s\n",
      "62:\tlearn: 0.6106339\ttotal: 90.7ms\tremaining: 1.35s\n",
      "63:\tlearn: 0.6056669\ttotal: 91.3ms\tremaining: 1.33s\n",
      "64:\tlearn: 0.6006008\ttotal: 91.8ms\tremaining: 1.32s\n",
      "65:\tlearn: 0.5957993\ttotal: 92.4ms\tremaining: 1.31s\n",
      "66:\tlearn: 0.5903126\ttotal: 92.9ms\tremaining: 1.29s\n",
      "67:\tlearn: 0.5852149\ttotal: 93.4ms\tremaining: 1.28s\n",
      "68:\tlearn: 0.5808012\ttotal: 94ms\tremaining: 1.27s\n"
     ]
    },
    {
     "name": "stdout",
     "output_type": "stream",
     "text": [
      "69:\tlearn: 0.5755143\ttotal: 94.7ms\tremaining: 1.26s\n",
      "70:\tlearn: 0.5697479\ttotal: 95.1ms\tremaining: 1.24s\n",
      "71:\tlearn: 0.5651011\ttotal: 95.6ms\tremaining: 1.23s\n",
      "72:\tlearn: 0.5604261\ttotal: 96.3ms\tremaining: 1.22s\n",
      "73:\tlearn: 0.5542160\ttotal: 96.8ms\tremaining: 1.21s\n",
      "74:\tlearn: 0.5494314\ttotal: 97.3ms\tremaining: 1.2s\n",
      "75:\tlearn: 0.5451604\ttotal: 97.8ms\tremaining: 1.19s\n",
      "76:\tlearn: 0.5408972\ttotal: 98.2ms\tremaining: 1.18s\n",
      "77:\tlearn: 0.5362074\ttotal: 98.7ms\tremaining: 1.17s\n",
      "78:\tlearn: 0.5313711\ttotal: 99.2ms\tremaining: 1.16s\n",
      "79:\tlearn: 0.5268718\ttotal: 99.9ms\tremaining: 1.15s\n",
      "80:\tlearn: 0.5220145\ttotal: 100ms\tremaining: 1.14s\n",
      "81:\tlearn: 0.5168150\ttotal: 101ms\tremaining: 1.13s\n",
      "82:\tlearn: 0.5128535\ttotal: 101ms\tremaining: 1.12s\n",
      "83:\tlearn: 0.5088744\ttotal: 102ms\tremaining: 1.11s\n",
      "84:\tlearn: 0.5050160\ttotal: 102ms\tremaining: 1.1s\n",
      "85:\tlearn: 0.5008762\ttotal: 103ms\tremaining: 1.09s\n",
      "86:\tlearn: 0.4971167\ttotal: 103ms\tremaining: 1.08s\n",
      "87:\tlearn: 0.4929785\ttotal: 104ms\tremaining: 1.07s\n",
      "88:\tlearn: 0.4893780\ttotal: 104ms\tremaining: 1.06s\n",
      "89:\tlearn: 0.4865170\ttotal: 105ms\tremaining: 1.06s\n",
      "90:\tlearn: 0.4822221\ttotal: 105ms\tremaining: 1.05s\n",
      "91:\tlearn: 0.4783071\ttotal: 105ms\tremaining: 1.04s\n",
      "92:\tlearn: 0.4745914\ttotal: 106ms\tremaining: 1.03s\n",
      "93:\tlearn: 0.4707759\ttotal: 106ms\tremaining: 1.02s\n",
      "94:\tlearn: 0.4677322\ttotal: 107ms\tremaining: 1.02s\n",
      "95:\tlearn: 0.4640530\ttotal: 108ms\tremaining: 1.01s\n",
      "96:\tlearn: 0.4605104\ttotal: 108ms\tremaining: 1.01s\n",
      "97:\tlearn: 0.4566914\ttotal: 109ms\tremaining: 1s\n",
      "98:\tlearn: 0.4529779\ttotal: 109ms\tremaining: 995ms\n",
      "99:\tlearn: 0.4495170\ttotal: 110ms\tremaining: 990ms\n",
      "100:\tlearn: 0.4466497\ttotal: 111ms\tremaining: 985ms\n",
      "101:\tlearn: 0.4428731\ttotal: 111ms\tremaining: 979ms\n",
      "102:\tlearn: 0.4388762\ttotal: 112ms\tremaining: 978ms\n",
      "103:\tlearn: 0.4348919\ttotal: 113ms\tremaining: 971ms\n",
      "104:\tlearn: 0.4312015\ttotal: 113ms\tremaining: 965ms\n",
      "105:\tlearn: 0.4281657\ttotal: 114ms\tremaining: 959ms\n",
      "106:\tlearn: 0.4247812\ttotal: 114ms\tremaining: 954ms\n",
      "107:\tlearn: 0.4213947\ttotal: 115ms\tremaining: 947ms\n",
      "108:\tlearn: 0.4183224\ttotal: 115ms\tremaining: 941ms\n",
      "109:\tlearn: 0.4154727\ttotal: 116ms\tremaining: 936ms\n",
      "110:\tlearn: 0.4121110\ttotal: 116ms\tremaining: 931ms\n",
      "111:\tlearn: 0.4087870\ttotal: 117ms\tremaining: 925ms\n",
      "112:\tlearn: 0.4048323\ttotal: 117ms\tremaining: 920ms\n",
      "113:\tlearn: 0.4022951\ttotal: 118ms\tremaining: 915ms\n",
      "114:\tlearn: 0.3989311\ttotal: 118ms\tremaining: 910ms\n",
      "115:\tlearn: 0.3960269\ttotal: 119ms\tremaining: 906ms\n",
      "116:\tlearn: 0.3933097\ttotal: 119ms\tremaining: 900ms\n",
      "117:\tlearn: 0.3908606\ttotal: 120ms\tremaining: 896ms\n",
      "118:\tlearn: 0.3886144\ttotal: 120ms\tremaining: 891ms\n",
      "119:\tlearn: 0.3859636\ttotal: 121ms\tremaining: 887ms\n",
      "120:\tlearn: 0.3830241\ttotal: 121ms\tremaining: 882ms\n",
      "121:\tlearn: 0.3800110\ttotal: 122ms\tremaining: 877ms\n",
      "122:\tlearn: 0.3769431\ttotal: 122ms\tremaining: 872ms\n",
      "123:\tlearn: 0.3737708\ttotal: 123ms\tremaining: 868ms\n",
      "124:\tlearn: 0.3707390\ttotal: 123ms\tremaining: 864ms\n",
      "125:\tlearn: 0.3684053\ttotal: 124ms\tremaining: 860ms\n",
      "126:\tlearn: 0.3659171\ttotal: 124ms\tremaining: 855ms\n",
      "127:\tlearn: 0.3626402\ttotal: 125ms\tremaining: 852ms\n",
      "128:\tlearn: 0.3597348\ttotal: 126ms\tremaining: 849ms\n",
      "129:\tlearn: 0.3572013\ttotal: 126ms\tremaining: 846ms\n",
      "130:\tlearn: 0.3544803\ttotal: 127ms\tremaining: 841ms\n",
      "131:\tlearn: 0.3516346\ttotal: 127ms\tremaining: 837ms\n",
      "132:\tlearn: 0.3490838\ttotal: 128ms\tremaining: 834ms\n",
      "133:\tlearn: 0.3465221\ttotal: 128ms\tremaining: 830ms\n",
      "134:\tlearn: 0.3437999\ttotal: 129ms\tremaining: 825ms\n",
      "135:\tlearn: 0.3416105\ttotal: 129ms\tremaining: 820ms\n",
      "136:\tlearn: 0.3392959\ttotal: 129ms\tremaining: 816ms\n",
      "137:\tlearn: 0.3366436\ttotal: 130ms\tremaining: 812ms\n",
      "138:\tlearn: 0.3343010\ttotal: 130ms\tremaining: 808ms\n",
      "139:\tlearn: 0.3318707\ttotal: 131ms\tremaining: 804ms\n",
      "140:\tlearn: 0.3294473\ttotal: 131ms\tremaining: 800ms\n",
      "141:\tlearn: 0.3268872\ttotal: 132ms\tremaining: 796ms\n",
      "142:\tlearn: 0.3250411\ttotal: 132ms\tremaining: 792ms\n",
      "143:\tlearn: 0.3223255\ttotal: 133ms\tremaining: 788ms\n",
      "144:\tlearn: 0.3201661\ttotal: 133ms\tremaining: 784ms\n",
      "145:\tlearn: 0.3178117\ttotal: 134ms\tremaining: 781ms\n",
      "146:\tlearn: 0.3156192\ttotal: 134ms\tremaining: 777ms\n",
      "147:\tlearn: 0.3130729\ttotal: 134ms\tremaining: 774ms\n",
      "148:\tlearn: 0.3105257\ttotal: 135ms\tremaining: 771ms\n",
      "149:\tlearn: 0.3080590\ttotal: 135ms\tremaining: 767ms\n",
      "150:\tlearn: 0.3055568\ttotal: 136ms\tremaining: 763ms\n",
      "151:\tlearn: 0.3038579\ttotal: 136ms\tremaining: 761ms\n",
      "152:\tlearn: 0.3013681\ttotal: 137ms\tremaining: 758ms\n",
      "153:\tlearn: 0.2991735\ttotal: 137ms\tremaining: 754ms\n",
      "154:\tlearn: 0.2968900\ttotal: 138ms\tremaining: 750ms\n",
      "155:\tlearn: 0.2946867\ttotal: 138ms\tremaining: 747ms\n",
      "156:\tlearn: 0.2921020\ttotal: 139ms\tremaining: 744ms\n",
      "157:\tlearn: 0.2902351\ttotal: 140ms\tremaining: 747ms\n",
      "158:\tlearn: 0.2883484\ttotal: 141ms\tremaining: 746ms\n",
      "159:\tlearn: 0.2864068\ttotal: 142ms\tremaining: 744ms\n",
      "160:\tlearn: 0.2844257\ttotal: 142ms\tremaining: 742ms\n",
      "161:\tlearn: 0.2822590\ttotal: 143ms\tremaining: 740ms\n",
      "162:\tlearn: 0.2802945\ttotal: 144ms\tremaining: 737ms\n",
      "163:\tlearn: 0.2781010\ttotal: 144ms\tremaining: 735ms\n",
      "164:\tlearn: 0.2758628\ttotal: 145ms\tremaining: 732ms\n",
      "165:\tlearn: 0.2739425\ttotal: 145ms\tremaining: 728ms\n",
      "166:\tlearn: 0.2720153\ttotal: 145ms\tremaining: 725ms\n",
      "167:\tlearn: 0.2697489\ttotal: 146ms\tremaining: 722ms\n",
      "168:\tlearn: 0.2673252\ttotal: 146ms\tremaining: 720ms\n",
      "169:\tlearn: 0.2653837\ttotal: 147ms\tremaining: 717ms\n",
      "170:\tlearn: 0.2636054\ttotal: 147ms\tremaining: 715ms\n",
      "171:\tlearn: 0.2620382\ttotal: 148ms\tremaining: 712ms\n",
      "172:\tlearn: 0.2600905\ttotal: 148ms\tremaining: 709ms\n",
      "173:\tlearn: 0.2582024\ttotal: 149ms\tremaining: 706ms\n",
      "174:\tlearn: 0.2560555\ttotal: 149ms\tremaining: 704ms\n",
      "175:\tlearn: 0.2548877\ttotal: 150ms\tremaining: 701ms\n",
      "176:\tlearn: 0.2533773\ttotal: 150ms\tremaining: 699ms\n",
      "177:\tlearn: 0.2513627\ttotal: 151ms\tremaining: 696ms\n",
      "178:\tlearn: 0.2502501\ttotal: 151ms\tremaining: 694ms\n",
      "179:\tlearn: 0.2483425\ttotal: 152ms\tremaining: 691ms\n",
      "180:\tlearn: 0.2465548\ttotal: 152ms\tremaining: 689ms\n",
      "181:\tlearn: 0.2450194\ttotal: 153ms\tremaining: 686ms\n",
      "182:\tlearn: 0.2435176\ttotal: 153ms\tremaining: 684ms\n",
      "183:\tlearn: 0.2419223\ttotal: 154ms\tremaining: 681ms\n",
      "184:\tlearn: 0.2409902\ttotal: 154ms\tremaining: 678ms\n",
      "185:\tlearn: 0.2398627\ttotal: 154ms\tremaining: 675ms\n",
      "186:\tlearn: 0.2381402\ttotal: 155ms\tremaining: 673ms\n",
      "187:\tlearn: 0.2363373\ttotal: 155ms\tremaining: 671ms\n",
      "188:\tlearn: 0.2345179\ttotal: 156ms\tremaining: 669ms\n",
      "189:\tlearn: 0.2327877\ttotal: 157ms\tremaining: 668ms\n",
      "190:\tlearn: 0.2309632\ttotal: 157ms\tremaining: 666ms\n",
      "191:\tlearn: 0.2293293\ttotal: 158ms\tremaining: 664ms\n",
      "192:\tlearn: 0.2273282\ttotal: 158ms\tremaining: 662ms\n",
      "193:\tlearn: 0.2255522\ttotal: 159ms\tremaining: 661ms\n",
      "194:\tlearn: 0.2241274\ttotal: 159ms\tremaining: 658ms\n",
      "195:\tlearn: 0.2224020\ttotal: 160ms\tremaining: 657ms\n",
      "196:\tlearn: 0.2209481\ttotal: 161ms\tremaining: 654ms\n",
      "197:\tlearn: 0.2198725\ttotal: 161ms\tremaining: 652ms\n",
      "198:\tlearn: 0.2180930\ttotal: 162ms\tremaining: 651ms\n",
      "199:\tlearn: 0.2165890\ttotal: 162ms\tremaining: 649ms\n",
      "200:\tlearn: 0.2157447\ttotal: 163ms\tremaining: 646ms\n",
      "201:\tlearn: 0.2143478\ttotal: 163ms\tremaining: 644ms\n",
      "202:\tlearn: 0.2127929\ttotal: 164ms\tremaining: 642ms\n",
      "203:\tlearn: 0.2116718\ttotal: 164ms\tremaining: 640ms\n",
      "204:\tlearn: 0.2104356\ttotal: 165ms\tremaining: 639ms\n",
      "205:\tlearn: 0.2089307\ttotal: 165ms\tremaining: 637ms\n",
      "206:\tlearn: 0.2072765\ttotal: 166ms\tremaining: 634ms\n",
      "207:\tlearn: 0.2059893\ttotal: 166ms\tremaining: 633ms\n",
      "208:\tlearn: 0.2045858\ttotal: 167ms\tremaining: 631ms\n",
      "209:\tlearn: 0.2033940\ttotal: 167ms\tremaining: 629ms\n",
      "210:\tlearn: 0.2018959\ttotal: 168ms\tremaining: 627ms\n",
      "211:\tlearn: 0.2006700\ttotal: 168ms\tremaining: 625ms\n",
      "212:\tlearn: 0.1995721\ttotal: 171ms\tremaining: 632ms\n",
      "213:\tlearn: 0.1978379\ttotal: 172ms\tremaining: 632ms\n",
      "214:\tlearn: 0.1967218\ttotal: 172ms\tremaining: 630ms\n",
      "215:\tlearn: 0.1949926\ttotal: 173ms\tremaining: 628ms\n",
      "216:\tlearn: 0.1935482\ttotal: 174ms\tremaining: 626ms\n",
      "217:\tlearn: 0.1920443\ttotal: 174ms\tremaining: 624ms\n",
      "218:\tlearn: 0.1907331\ttotal: 174ms\tremaining: 622ms\n",
      "219:\tlearn: 0.1895854\ttotal: 175ms\tremaining: 620ms\n",
      "220:\tlearn: 0.1882058\ttotal: 175ms\tremaining: 619ms\n",
      "221:\tlearn: 0.1869785\ttotal: 176ms\tremaining: 617ms\n",
      "222:\tlearn: 0.1858301\ttotal: 176ms\tremaining: 615ms\n",
      "223:\tlearn: 0.1845577\ttotal: 177ms\tremaining: 613ms\n",
      "224:\tlearn: 0.1833734\ttotal: 178ms\tremaining: 612ms\n",
      "225:\tlearn: 0.1821788\ttotal: 178ms\tremaining: 610ms\n",
      "226:\tlearn: 0.1810412\ttotal: 179ms\tremaining: 608ms\n",
      "227:\tlearn: 0.1800990\ttotal: 179ms\tremaining: 607ms\n",
      "228:\tlearn: 0.1786915\ttotal: 180ms\tremaining: 605ms\n",
      "229:\tlearn: 0.1776625\ttotal: 180ms\tremaining: 603ms\n",
      "230:\tlearn: 0.1765030\ttotal: 181ms\tremaining: 601ms\n",
      "231:\tlearn: 0.1756100\ttotal: 181ms\tremaining: 600ms\n",
      "232:\tlearn: 0.1744476\ttotal: 182ms\tremaining: 598ms\n",
      "233:\tlearn: 0.1733403\ttotal: 182ms\tremaining: 596ms\n",
      "234:\tlearn: 0.1720034\ttotal: 183ms\tremaining: 594ms\n",
      "235:\tlearn: 0.1708450\ttotal: 183ms\tremaining: 592ms\n",
      "236:\tlearn: 0.1699117\ttotal: 183ms\tremaining: 591ms\n",
      "237:\tlearn: 0.1687178\ttotal: 184ms\tremaining: 589ms\n",
      "238:\tlearn: 0.1676246\ttotal: 184ms\tremaining: 587ms\n",
      "239:\tlearn: 0.1664531\ttotal: 185ms\tremaining: 586ms\n",
      "240:\tlearn: 0.1655454\ttotal: 185ms\tremaining: 584ms\n",
      "241:\tlearn: 0.1641645\ttotal: 186ms\tremaining: 583ms\n"
     ]
    },
    {
     "name": "stdout",
     "output_type": "stream",
     "text": [
      "242:\tlearn: 0.1631343\ttotal: 187ms\tremaining: 582ms\n",
      "243:\tlearn: 0.1622499\ttotal: 187ms\tremaining: 581ms\n",
      "244:\tlearn: 0.1611362\ttotal: 188ms\tremaining: 580ms\n",
      "245:\tlearn: 0.1599381\ttotal: 189ms\tremaining: 578ms\n",
      "246:\tlearn: 0.1585983\ttotal: 189ms\tremaining: 577ms\n",
      "247:\tlearn: 0.1576155\ttotal: 190ms\tremaining: 575ms\n",
      "248:\tlearn: 0.1567415\ttotal: 190ms\tremaining: 573ms\n",
      "249:\tlearn: 0.1556059\ttotal: 191ms\tremaining: 572ms\n",
      "250:\tlearn: 0.1546283\ttotal: 191ms\tremaining: 570ms\n",
      "251:\tlearn: 0.1536883\ttotal: 192ms\tremaining: 569ms\n",
      "252:\tlearn: 0.1527038\ttotal: 192ms\tremaining: 567ms\n",
      "253:\tlearn: 0.1516270\ttotal: 193ms\tremaining: 565ms\n",
      "254:\tlearn: 0.1507508\ttotal: 193ms\tremaining: 564ms\n",
      "255:\tlearn: 0.1498090\ttotal: 193ms\tremaining: 562ms\n",
      "256:\tlearn: 0.1487611\ttotal: 194ms\tremaining: 561ms\n",
      "257:\tlearn: 0.1478073\ttotal: 194ms\tremaining: 559ms\n",
      "258:\tlearn: 0.1470791\ttotal: 195ms\tremaining: 557ms\n",
      "259:\tlearn: 0.1461081\ttotal: 195ms\tremaining: 556ms\n",
      "260:\tlearn: 0.1452025\ttotal: 196ms\tremaining: 554ms\n",
      "261:\tlearn: 0.1440491\ttotal: 196ms\tremaining: 553ms\n",
      "262:\tlearn: 0.1430632\ttotal: 197ms\tremaining: 551ms\n",
      "263:\tlearn: 0.1419576\ttotal: 197ms\tremaining: 550ms\n",
      "264:\tlearn: 0.1409718\ttotal: 198ms\tremaining: 548ms\n",
      "265:\tlearn: 0.1397749\ttotal: 198ms\tremaining: 547ms\n",
      "266:\tlearn: 0.1387581\ttotal: 199ms\tremaining: 545ms\n",
      "267:\tlearn: 0.1379546\ttotal: 202ms\tremaining: 551ms\n",
      "268:\tlearn: 0.1371316\ttotal: 202ms\tremaining: 550ms\n",
      "269:\tlearn: 0.1362820\ttotal: 203ms\tremaining: 549ms\n",
      "270:\tlearn: 0.1354303\ttotal: 203ms\tremaining: 547ms\n",
      "271:\tlearn: 0.1344692\ttotal: 204ms\tremaining: 546ms\n",
      "272:\tlearn: 0.1336744\ttotal: 204ms\tremaining: 544ms\n",
      "273:\tlearn: 0.1326867\ttotal: 205ms\tremaining: 543ms\n",
      "274:\tlearn: 0.1319096\ttotal: 206ms\tremaining: 542ms\n",
      "275:\tlearn: 0.1310624\ttotal: 206ms\tremaining: 541ms\n",
      "276:\tlearn: 0.1302006\ttotal: 207ms\tremaining: 540ms\n",
      "277:\tlearn: 0.1294274\ttotal: 207ms\tremaining: 538ms\n",
      "278:\tlearn: 0.1286939\ttotal: 208ms\tremaining: 537ms\n",
      "279:\tlearn: 0.1279443\ttotal: 208ms\tremaining: 535ms\n",
      "280:\tlearn: 0.1270831\ttotal: 209ms\tremaining: 534ms\n",
      "281:\tlearn: 0.1262110\ttotal: 209ms\tremaining: 533ms\n",
      "282:\tlearn: 0.1252595\ttotal: 210ms\tremaining: 531ms\n",
      "283:\tlearn: 0.1246137\ttotal: 210ms\tremaining: 530ms\n",
      "284:\tlearn: 0.1236997\ttotal: 211ms\tremaining: 529ms\n",
      "285:\tlearn: 0.1231035\ttotal: 211ms\tremaining: 528ms\n",
      "286:\tlearn: 0.1222654\ttotal: 212ms\tremaining: 526ms\n",
      "287:\tlearn: 0.1213946\ttotal: 212ms\tremaining: 525ms\n",
      "288:\tlearn: 0.1205607\ttotal: 213ms\tremaining: 523ms\n",
      "289:\tlearn: 0.1199985\ttotal: 213ms\tremaining: 522ms\n",
      "290:\tlearn: 0.1190274\ttotal: 214ms\tremaining: 521ms\n",
      "291:\tlearn: 0.1182495\ttotal: 214ms\tremaining: 520ms\n",
      "292:\tlearn: 0.1174066\ttotal: 215ms\tremaining: 518ms\n",
      "293:\tlearn: 0.1167513\ttotal: 216ms\tremaining: 518ms\n",
      "294:\tlearn: 0.1159809\ttotal: 216ms\tremaining: 517ms\n",
      "295:\tlearn: 0.1151839\ttotal: 217ms\tremaining: 516ms\n",
      "296:\tlearn: 0.1144196\ttotal: 218ms\tremaining: 515ms\n",
      "297:\tlearn: 0.1137677\ttotal: 218ms\tremaining: 513ms\n",
      "298:\tlearn: 0.1129394\ttotal: 218ms\tremaining: 512ms\n",
      "299:\tlearn: 0.1121571\ttotal: 219ms\tremaining: 511ms\n",
      "300:\tlearn: 0.1115358\ttotal: 219ms\tremaining: 509ms\n",
      "301:\tlearn: 0.1109050\ttotal: 220ms\tremaining: 508ms\n",
      "302:\tlearn: 0.1103099\ttotal: 220ms\tremaining: 507ms\n",
      "303:\tlearn: 0.1095989\ttotal: 221ms\tremaining: 506ms\n",
      "304:\tlearn: 0.1087662\ttotal: 221ms\tremaining: 504ms\n",
      "305:\tlearn: 0.1080227\ttotal: 222ms\tremaining: 503ms\n",
      "306:\tlearn: 0.1074558\ttotal: 222ms\tremaining: 501ms\n",
      "307:\tlearn: 0.1068900\ttotal: 223ms\tremaining: 500ms\n",
      "308:\tlearn: 0.1062870\ttotal: 223ms\tremaining: 499ms\n",
      "309:\tlearn: 0.1056650\ttotal: 223ms\tremaining: 497ms\n",
      "310:\tlearn: 0.1049552\ttotal: 224ms\tremaining: 496ms\n",
      "311:\tlearn: 0.1042536\ttotal: 224ms\tremaining: 495ms\n",
      "312:\tlearn: 0.1036906\ttotal: 225ms\tremaining: 494ms\n",
      "313:\tlearn: 0.1030081\ttotal: 225ms\tremaining: 492ms\n",
      "314:\tlearn: 0.1023049\ttotal: 226ms\tremaining: 491ms\n",
      "315:\tlearn: 0.1015327\ttotal: 226ms\tremaining: 490ms\n",
      "316:\tlearn: 0.1010665\ttotal: 227ms\tremaining: 488ms\n",
      "317:\tlearn: 0.1004545\ttotal: 227ms\tremaining: 487ms\n",
      "318:\tlearn: 0.0999576\ttotal: 228ms\tremaining: 486ms\n",
      "319:\tlearn: 0.0993603\ttotal: 228ms\tremaining: 485ms\n",
      "320:\tlearn: 0.0986436\ttotal: 229ms\tremaining: 484ms\n",
      "321:\tlearn: 0.0980448\ttotal: 230ms\tremaining: 483ms\n",
      "322:\tlearn: 0.0973330\ttotal: 230ms\tremaining: 482ms\n",
      "323:\tlearn: 0.0968262\ttotal: 230ms\tremaining: 480ms\n",
      "324:\tlearn: 0.0963984\ttotal: 231ms\tremaining: 480ms\n",
      "325:\tlearn: 0.0959020\ttotal: 232ms\tremaining: 479ms\n",
      "326:\tlearn: 0.0954625\ttotal: 232ms\tremaining: 478ms\n",
      "327:\tlearn: 0.0947908\ttotal: 233ms\tremaining: 477ms\n",
      "328:\tlearn: 0.0943779\ttotal: 233ms\tremaining: 476ms\n",
      "329:\tlearn: 0.0938748\ttotal: 235ms\tremaining: 476ms\n",
      "330:\tlearn: 0.0934020\ttotal: 235ms\tremaining: 475ms\n",
      "331:\tlearn: 0.0928590\ttotal: 235ms\tremaining: 474ms\n",
      "332:\tlearn: 0.0923115\ttotal: 236ms\tremaining: 473ms\n",
      "333:\tlearn: 0.0919174\ttotal: 236ms\tremaining: 471ms\n",
      "334:\tlearn: 0.0915000\ttotal: 237ms\tremaining: 470ms\n",
      "335:\tlearn: 0.0908746\ttotal: 237ms\tremaining: 469ms\n",
      "336:\tlearn: 0.0902917\ttotal: 238ms\tremaining: 468ms\n",
      "337:\tlearn: 0.0898311\ttotal: 238ms\tremaining: 467ms\n",
      "338:\tlearn: 0.0892424\ttotal: 239ms\tremaining: 466ms\n",
      "339:\tlearn: 0.0887896\ttotal: 239ms\tremaining: 465ms\n",
      "340:\tlearn: 0.0884226\ttotal: 240ms\tremaining: 463ms\n",
      "341:\tlearn: 0.0880818\ttotal: 240ms\tremaining: 462ms\n",
      "342:\tlearn: 0.0874644\ttotal: 241ms\tremaining: 461ms\n",
      "343:\tlearn: 0.0871440\ttotal: 241ms\tremaining: 460ms\n",
      "344:\tlearn: 0.0865570\ttotal: 242ms\tremaining: 459ms\n",
      "345:\tlearn: 0.0860070\ttotal: 242ms\tremaining: 458ms\n",
      "346:\tlearn: 0.0854366\ttotal: 243ms\tremaining: 457ms\n",
      "347:\tlearn: 0.0851041\ttotal: 243ms\tremaining: 455ms\n",
      "348:\tlearn: 0.0845982\ttotal: 244ms\tremaining: 455ms\n",
      "349:\tlearn: 0.0841057\ttotal: 244ms\tremaining: 454ms\n",
      "350:\tlearn: 0.0837964\ttotal: 245ms\tremaining: 453ms\n",
      "351:\tlearn: 0.0832535\ttotal: 246ms\tremaining: 453ms\n",
      "352:\tlearn: 0.0827458\ttotal: 247ms\tremaining: 452ms\n",
      "353:\tlearn: 0.0822737\ttotal: 247ms\tremaining: 451ms\n",
      "354:\tlearn: 0.0818122\ttotal: 248ms\tremaining: 450ms\n",
      "355:\tlearn: 0.0813606\ttotal: 248ms\tremaining: 449ms\n",
      "356:\tlearn: 0.0810244\ttotal: 249ms\tremaining: 448ms\n",
      "357:\tlearn: 0.0805861\ttotal: 249ms\tremaining: 447ms\n",
      "358:\tlearn: 0.0801569\ttotal: 250ms\tremaining: 446ms\n",
      "359:\tlearn: 0.0796493\ttotal: 250ms\tremaining: 445ms\n",
      "360:\tlearn: 0.0791852\ttotal: 251ms\tremaining: 444ms\n",
      "361:\tlearn: 0.0787490\ttotal: 252ms\tremaining: 444ms\n",
      "362:\tlearn: 0.0782575\ttotal: 252ms\tremaining: 442ms\n",
      "363:\tlearn: 0.0778170\ttotal: 253ms\tremaining: 441ms\n",
      "364:\tlearn: 0.0773515\ttotal: 253ms\tremaining: 440ms\n",
      "365:\tlearn: 0.0769417\ttotal: 254ms\tremaining: 439ms\n",
      "366:\tlearn: 0.0765283\ttotal: 254ms\tremaining: 438ms\n",
      "367:\tlearn: 0.0761680\ttotal: 254ms\tremaining: 437ms\n",
      "368:\tlearn: 0.0758310\ttotal: 255ms\tremaining: 436ms\n",
      "369:\tlearn: 0.0754036\ttotal: 255ms\tremaining: 435ms\n",
      "370:\tlearn: 0.0750114\ttotal: 256ms\tremaining: 434ms\n",
      "371:\tlearn: 0.0745505\ttotal: 256ms\tremaining: 433ms\n",
      "372:\tlearn: 0.0740998\ttotal: 257ms\tremaining: 431ms\n",
      "373:\tlearn: 0.0737822\ttotal: 257ms\tremaining: 430ms\n",
      "374:\tlearn: 0.0734699\ttotal: 258ms\tremaining: 429ms\n",
      "375:\tlearn: 0.0731627\ttotal: 258ms\tremaining: 428ms\n",
      "376:\tlearn: 0.0728265\ttotal: 258ms\tremaining: 427ms\n",
      "377:\tlearn: 0.0724045\ttotal: 259ms\tremaining: 426ms\n",
      "378:\tlearn: 0.0719875\ttotal: 259ms\tremaining: 425ms\n",
      "379:\tlearn: 0.0715639\ttotal: 261ms\tremaining: 425ms\n",
      "380:\tlearn: 0.0712684\ttotal: 261ms\tremaining: 425ms\n",
      "381:\tlearn: 0.0709781\ttotal: 262ms\tremaining: 424ms\n",
      "382:\tlearn: 0.0705745\ttotal: 263ms\tremaining: 423ms\n",
      "383:\tlearn: 0.0701358\ttotal: 264ms\tremaining: 424ms\n",
      "384:\tlearn: 0.0697727\ttotal: 265ms\tremaining: 423ms\n",
      "385:\tlearn: 0.0693553\ttotal: 265ms\tremaining: 422ms\n",
      "386:\tlearn: 0.0691318\ttotal: 266ms\tremaining: 421ms\n",
      "387:\tlearn: 0.0687017\ttotal: 266ms\tremaining: 420ms\n",
      "388:\tlearn: 0.0684344\ttotal: 267ms\tremaining: 419ms\n",
      "389:\tlearn: 0.0681645\ttotal: 267ms\tremaining: 418ms\n",
      "390:\tlearn: 0.0677810\ttotal: 268ms\tremaining: 417ms\n",
      "391:\tlearn: 0.0674225\ttotal: 268ms\tremaining: 416ms\n",
      "392:\tlearn: 0.0671605\ttotal: 269ms\tremaining: 415ms\n",
      "393:\tlearn: 0.0667882\ttotal: 269ms\tremaining: 414ms\n",
      "394:\tlearn: 0.0663764\ttotal: 269ms\tremaining: 413ms\n",
      "395:\tlearn: 0.0660043\ttotal: 270ms\tremaining: 412ms\n",
      "396:\tlearn: 0.0656077\ttotal: 270ms\tremaining: 411ms\n",
      "397:\tlearn: 0.0652489\ttotal: 271ms\tremaining: 410ms\n",
      "398:\tlearn: 0.0648426\ttotal: 271ms\tremaining: 409ms\n",
      "399:\tlearn: 0.0646116\ttotal: 273ms\tremaining: 409ms\n",
      "400:\tlearn: 0.0643509\ttotal: 273ms\tremaining: 408ms\n",
      "401:\tlearn: 0.0640682\ttotal: 274ms\tremaining: 407ms\n",
      "402:\tlearn: 0.0638467\ttotal: 274ms\tremaining: 406ms\n",
      "403:\tlearn: 0.0634338\ttotal: 274ms\tremaining: 405ms\n",
      "404:\tlearn: 0.0632792\ttotal: 275ms\tremaining: 404ms\n",
      "405:\tlearn: 0.0628752\ttotal: 275ms\tremaining: 403ms\n",
      "406:\tlearn: 0.0624788\ttotal: 276ms\tremaining: 402ms\n"
     ]
    },
    {
     "name": "stdout",
     "output_type": "stream",
     "text": [
      "407:\tlearn: 0.0621001\ttotal: 277ms\tremaining: 402ms\n",
      "408:\tlearn: 0.0617162\ttotal: 277ms\tremaining: 401ms\n",
      "409:\tlearn: 0.0613504\ttotal: 278ms\tremaining: 400ms\n",
      "410:\tlearn: 0.0609800\ttotal: 279ms\tremaining: 400ms\n",
      "411:\tlearn: 0.0606276\ttotal: 279ms\tremaining: 399ms\n",
      "412:\tlearn: 0.0602680\ttotal: 280ms\tremaining: 398ms\n",
      "413:\tlearn: 0.0599237\ttotal: 280ms\tremaining: 397ms\n",
      "414:\tlearn: 0.0597094\ttotal: 281ms\tremaining: 396ms\n",
      "415:\tlearn: 0.0593559\ttotal: 281ms\tremaining: 395ms\n",
      "416:\tlearn: 0.0590079\ttotal: 282ms\tremaining: 394ms\n",
      "417:\tlearn: 0.0587766\ttotal: 282ms\tremaining: 393ms\n",
      "418:\tlearn: 0.0585501\ttotal: 283ms\tremaining: 392ms\n",
      "419:\tlearn: 0.0582068\ttotal: 283ms\tremaining: 391ms\n",
      "420:\tlearn: 0.0578777\ttotal: 284ms\tremaining: 391ms\n",
      "421:\tlearn: 0.0575429\ttotal: 284ms\tremaining: 390ms\n",
      "422:\tlearn: 0.0573281\ttotal: 285ms\tremaining: 389ms\n",
      "423:\tlearn: 0.0570010\ttotal: 285ms\tremaining: 388ms\n",
      "424:\tlearn: 0.0567119\ttotal: 286ms\tremaining: 387ms\n",
      "425:\tlearn: 0.0563945\ttotal: 286ms\tremaining: 386ms\n",
      "426:\tlearn: 0.0561098\ttotal: 287ms\tremaining: 385ms\n",
      "427:\tlearn: 0.0559051\ttotal: 287ms\tremaining: 384ms\n",
      "428:\tlearn: 0.0555976\ttotal: 288ms\tremaining: 383ms\n",
      "429:\tlearn: 0.0552963\ttotal: 288ms\tremaining: 382ms\n",
      "430:\tlearn: 0.0550991\ttotal: 289ms\tremaining: 381ms\n",
      "431:\tlearn: 0.0547974\ttotal: 289ms\tremaining: 380ms\n",
      "432:\tlearn: 0.0545037\ttotal: 291ms\tremaining: 381ms\n",
      "433:\tlearn: 0.0542146\ttotal: 292ms\tremaining: 381ms\n",
      "434:\tlearn: 0.0539946\ttotal: 293ms\tremaining: 380ms\n",
      "435:\tlearn: 0.0538063\ttotal: 293ms\tremaining: 380ms\n",
      "436:\tlearn: 0.0535232\ttotal: 294ms\tremaining: 379ms\n",
      "437:\tlearn: 0.0533394\ttotal: 294ms\tremaining: 378ms\n",
      "438:\tlearn: 0.0530618\ttotal: 295ms\tremaining: 377ms\n",
      "439:\tlearn: 0.0528020\ttotal: 295ms\tremaining: 376ms\n",
      "440:\tlearn: 0.0525655\ttotal: 296ms\tremaining: 375ms\n",
      "441:\tlearn: 0.0523087\ttotal: 297ms\tremaining: 374ms\n",
      "442:\tlearn: 0.0520748\ttotal: 297ms\tremaining: 373ms\n",
      "443:\tlearn: 0.0518343\ttotal: 297ms\tremaining: 373ms\n",
      "444:\tlearn: 0.0515351\ttotal: 298ms\tremaining: 372ms\n",
      "445:\tlearn: 0.0513268\ttotal: 298ms\tremaining: 371ms\n",
      "446:\tlearn: 0.0510942\ttotal: 299ms\tremaining: 370ms\n",
      "447:\tlearn: 0.0507783\ttotal: 299ms\tremaining: 369ms\n",
      "448:\tlearn: 0.0504684\ttotal: 300ms\tremaining: 368ms\n",
      "449:\tlearn: 0.0503159\ttotal: 300ms\tremaining: 367ms\n",
      "450:\tlearn: 0.0501165\ttotal: 301ms\tremaining: 366ms\n",
      "451:\tlearn: 0.0498148\ttotal: 301ms\tremaining: 365ms\n",
      "452:\tlearn: 0.0494615\ttotal: 302ms\tremaining: 364ms\n",
      "453:\tlearn: 0.0491702\ttotal: 302ms\tremaining: 363ms\n",
      "454:\tlearn: 0.0488294\ttotal: 303ms\tremaining: 363ms\n",
      "455:\tlearn: 0.0485191\ttotal: 303ms\tremaining: 362ms\n",
      "456:\tlearn: 0.0483146\ttotal: 304ms\tremaining: 361ms\n",
      "457:\tlearn: 0.0480117\ttotal: 304ms\tremaining: 360ms\n",
      "458:\tlearn: 0.0477481\ttotal: 305ms\tremaining: 359ms\n",
      "459:\tlearn: 0.0475505\ttotal: 305ms\tremaining: 358ms\n",
      "460:\tlearn: 0.0473697\ttotal: 306ms\tremaining: 358ms\n",
      "461:\tlearn: 0.0470992\ttotal: 306ms\tremaining: 357ms\n",
      "462:\tlearn: 0.0468090\ttotal: 307ms\tremaining: 356ms\n",
      "463:\tlearn: 0.0465598\ttotal: 307ms\tremaining: 355ms\n",
      "464:\tlearn: 0.0464164\ttotal: 308ms\tremaining: 354ms\n",
      "465:\tlearn: 0.0461566\ttotal: 309ms\tremaining: 354ms\n",
      "466:\tlearn: 0.0458637\ttotal: 309ms\tremaining: 353ms\n",
      "467:\tlearn: 0.0456774\ttotal: 310ms\tremaining: 352ms\n",
      "468:\tlearn: 0.0454090\ttotal: 310ms\tremaining: 351ms\n",
      "469:\tlearn: 0.0451968\ttotal: 310ms\tremaining: 350ms\n",
      "470:\tlearn: 0.0450164\ttotal: 311ms\tremaining: 349ms\n",
      "471:\tlearn: 0.0448089\ttotal: 311ms\tremaining: 348ms\n",
      "472:\tlearn: 0.0446755\ttotal: 312ms\tremaining: 347ms\n",
      "473:\tlearn: 0.0445002\ttotal: 312ms\tremaining: 346ms\n",
      "474:\tlearn: 0.0442812\ttotal: 313ms\tremaining: 346ms\n",
      "475:\tlearn: 0.0441179\ttotal: 313ms\tremaining: 345ms\n",
      "476:\tlearn: 0.0439184\ttotal: 314ms\tremaining: 344ms\n",
      "477:\tlearn: 0.0437058\ttotal: 314ms\tremaining: 343ms\n",
      "478:\tlearn: 0.0435793\ttotal: 315ms\tremaining: 342ms\n",
      "479:\tlearn: 0.0434201\ttotal: 315ms\tremaining: 342ms\n",
      "480:\tlearn: 0.0433376\ttotal: 316ms\tremaining: 341ms\n",
      "481:\tlearn: 0.0429742\ttotal: 316ms\tremaining: 340ms\n",
      "482:\tlearn: 0.0428622\ttotal: 317ms\tremaining: 339ms\n",
      "483:\tlearn: 0.0426714\ttotal: 317ms\tremaining: 338ms\n",
      "484:\tlearn: 0.0425916\ttotal: 318ms\tremaining: 337ms\n",
      "485:\tlearn: 0.0424284\ttotal: 318ms\tremaining: 337ms\n",
      "486:\tlearn: 0.0422051\ttotal: 319ms\tremaining: 336ms\n",
      "487:\tlearn: 0.0420028\ttotal: 319ms\tremaining: 335ms\n",
      "488:\tlearn: 0.0419253\ttotal: 320ms\tremaining: 334ms\n",
      "489:\tlearn: 0.0417426\ttotal: 320ms\tremaining: 333ms\n",
      "490:\tlearn: 0.0416665\ttotal: 321ms\tremaining: 333ms\n",
      "491:\tlearn: 0.0415592\ttotal: 322ms\tremaining: 332ms\n",
      "492:\tlearn: 0.0413661\ttotal: 323ms\tremaining: 332ms\n",
      "493:\tlearn: 0.0412092\ttotal: 323ms\tremaining: 331ms\n",
      "494:\tlearn: 0.0410197\ttotal: 324ms\tremaining: 330ms\n",
      "495:\tlearn: 0.0409459\ttotal: 324ms\tremaining: 329ms\n",
      "496:\tlearn: 0.0408386\ttotal: 325ms\tremaining: 329ms\n",
      "497:\tlearn: 0.0407328\ttotal: 325ms\tremaining: 328ms\n",
      "498:\tlearn: 0.0406284\ttotal: 326ms\tremaining: 327ms\n",
      "499:\tlearn: 0.0404342\ttotal: 326ms\tremaining: 326ms\n",
      "500:\tlearn: 0.0402455\ttotal: 327ms\tremaining: 325ms\n",
      "501:\tlearn: 0.0400958\ttotal: 327ms\tremaining: 325ms\n",
      "502:\tlearn: 0.0398926\ttotal: 328ms\tremaining: 324ms\n",
      "503:\tlearn: 0.0398159\ttotal: 328ms\tremaining: 323ms\n",
      "504:\tlearn: 0.0396324\ttotal: 329ms\tremaining: 322ms\n",
      "505:\tlearn: 0.0395572\ttotal: 329ms\tremaining: 321ms\n",
      "506:\tlearn: 0.0393928\ttotal: 329ms\tremaining: 320ms\n",
      "507:\tlearn: 0.0392478\ttotal: 330ms\tremaining: 319ms\n",
      "508:\tlearn: 0.0391728\ttotal: 330ms\tremaining: 319ms\n",
      "509:\tlearn: 0.0389890\ttotal: 331ms\tremaining: 318ms\n",
      "510:\tlearn: 0.0388507\ttotal: 331ms\tremaining: 317ms\n",
      "511:\tlearn: 0.0386763\ttotal: 332ms\tremaining: 316ms\n",
      "512:\tlearn: 0.0386078\ttotal: 332ms\tremaining: 315ms\n",
      "513:\tlearn: 0.0385356\ttotal: 332ms\tremaining: 314ms\n",
      "514:\tlearn: 0.0383584\ttotal: 333ms\tremaining: 313ms\n",
      "515:\tlearn: 0.0382273\ttotal: 333ms\tremaining: 312ms\n",
      "516:\tlearn: 0.0381611\ttotal: 334ms\tremaining: 312ms\n",
      "517:\tlearn: 0.0379912\ttotal: 334ms\tremaining: 311ms\n",
      "518:\tlearn: 0.0379263\ttotal: 335ms\tremaining: 310ms\n",
      "519:\tlearn: 0.0378376\ttotal: 335ms\tremaining: 309ms\n",
      "520:\tlearn: 0.0376833\ttotal: 336ms\tremaining: 309ms\n",
      "521:\tlearn: 0.0375088\ttotal: 336ms\tremaining: 308ms\n",
      "522:\tlearn: 0.0374085\ttotal: 337ms\tremaining: 307ms\n",
      "523:\tlearn: 0.0372635\ttotal: 338ms\tremaining: 307ms\n",
      "524:\tlearn: 0.0370989\ttotal: 338ms\tremaining: 306ms\n",
      "525:\tlearn: 0.0370016\ttotal: 339ms\tremaining: 305ms\n",
      "526:\tlearn: 0.0368614\ttotal: 339ms\tremaining: 304ms\n",
      "527:\tlearn: 0.0367246\ttotal: 340ms\tremaining: 304ms\n",
      "528:\tlearn: 0.0366447\ttotal: 340ms\tremaining: 303ms\n",
      "529:\tlearn: 0.0365115\ttotal: 341ms\tremaining: 302ms\n",
      "530:\tlearn: 0.0364407\ttotal: 341ms\tremaining: 301ms\n",
      "531:\tlearn: 0.0363708\ttotal: 342ms\tremaining: 301ms\n",
      "532:\tlearn: 0.0362104\ttotal: 342ms\tremaining: 300ms\n",
      "533:\tlearn: 0.0360930\ttotal: 343ms\tremaining: 299ms\n",
      "534:\tlearn: 0.0359669\ttotal: 343ms\tremaining: 298ms\n",
      "535:\tlearn: 0.0357732\ttotal: 343ms\tremaining: 297ms\n",
      "536:\tlearn: 0.0356604\ttotal: 344ms\tremaining: 296ms\n",
      "537:\tlearn: 0.0355500\ttotal: 344ms\tremaining: 296ms\n",
      "538:\tlearn: 0.0354149\ttotal: 345ms\tremaining: 295ms\n",
      "539:\tlearn: 0.0353294\ttotal: 345ms\tremaining: 294ms\n",
      "540:\tlearn: 0.0351224\ttotal: 346ms\tremaining: 293ms\n",
      "541:\tlearn: 0.0349147\ttotal: 346ms\tremaining: 293ms\n",
      "542:\tlearn: 0.0347991\ttotal: 347ms\tremaining: 292ms\n",
      "543:\tlearn: 0.0346166\ttotal: 347ms\tremaining: 291ms\n",
      "544:\tlearn: 0.0345136\ttotal: 348ms\tremaining: 290ms\n",
      "545:\tlearn: 0.0343591\ttotal: 348ms\tremaining: 289ms\n",
      "546:\tlearn: 0.0342584\ttotal: 348ms\tremaining: 289ms\n",
      "547:\tlearn: 0.0340826\ttotal: 349ms\tremaining: 288ms\n",
      "548:\tlearn: 0.0339785\ttotal: 349ms\tremaining: 287ms\n",
      "549:\tlearn: 0.0338767\ttotal: 351ms\tremaining: 287ms\n",
      "550:\tlearn: 0.0336785\ttotal: 351ms\tremaining: 286ms\n",
      "551:\tlearn: 0.0335796\ttotal: 352ms\tremaining: 285ms\n",
      "552:\tlearn: 0.0334188\ttotal: 352ms\tremaining: 285ms\n",
      "553:\tlearn: 0.0332598\ttotal: 353ms\tremaining: 284ms\n",
      "554:\tlearn: 0.0331634\ttotal: 354ms\tremaining: 283ms\n",
      "555:\tlearn: 0.0329726\ttotal: 354ms\tremaining: 283ms\n",
      "556:\tlearn: 0.0329239\ttotal: 355ms\tremaining: 282ms\n",
      "557:\tlearn: 0.0327690\ttotal: 355ms\tremaining: 281ms\n",
      "558:\tlearn: 0.0326935\ttotal: 356ms\tremaining: 281ms\n",
      "559:\tlearn: 0.0325407\ttotal: 356ms\tremaining: 280ms\n",
      "560:\tlearn: 0.0324481\ttotal: 356ms\tremaining: 279ms\n",
      "561:\tlearn: 0.0323158\ttotal: 357ms\tremaining: 278ms\n",
      "562:\tlearn: 0.0321712\ttotal: 357ms\tremaining: 277ms\n",
      "563:\tlearn: 0.0319823\ttotal: 358ms\tremaining: 276ms\n",
      "564:\tlearn: 0.0318916\ttotal: 358ms\tremaining: 276ms\n",
      "565:\tlearn: 0.0318151\ttotal: 359ms\tremaining: 275ms\n",
      "566:\tlearn: 0.0317266\ttotal: 359ms\tremaining: 274ms\n",
      "567:\tlearn: 0.0315423\ttotal: 360ms\tremaining: 274ms\n",
      "568:\tlearn: 0.0314717\ttotal: 360ms\tremaining: 273ms\n",
      "569:\tlearn: 0.0313973\ttotal: 361ms\tremaining: 272ms\n",
      "570:\tlearn: 0.0313285\ttotal: 361ms\tremaining: 271ms\n",
      "571:\tlearn: 0.0311828\ttotal: 362ms\tremaining: 271ms\n",
      "572:\tlearn: 0.0311100\ttotal: 362ms\tremaining: 270ms\n",
      "573:\tlearn: 0.0309740\ttotal: 363ms\tremaining: 269ms\n",
      "574:\tlearn: 0.0309072\ttotal: 363ms\tremaining: 269ms\n",
      "575:\tlearn: 0.0308362\ttotal: 364ms\tremaining: 268ms\n",
      "576:\tlearn: 0.0306931\ttotal: 364ms\tremaining: 267ms\n",
      "577:\tlearn: 0.0306457\ttotal: 365ms\tremaining: 266ms\n",
      "578:\tlearn: 0.0305991\ttotal: 365ms\tremaining: 266ms\n",
      "579:\tlearn: 0.0304600\ttotal: 366ms\tremaining: 265ms\n",
      "580:\tlearn: 0.0303964\ttotal: 366ms\tremaining: 264ms\n",
      "581:\tlearn: 0.0302509\ttotal: 367ms\tremaining: 264ms\n",
      "582:\tlearn: 0.0301780\ttotal: 368ms\tremaining: 263ms\n"
     ]
    },
    {
     "name": "stdout",
     "output_type": "stream",
     "text": [
      "583:\tlearn: 0.0300396\ttotal: 368ms\tremaining: 262ms\n",
      "584:\tlearn: 0.0299018\ttotal: 369ms\tremaining: 262ms\n",
      "585:\tlearn: 0.0298340\ttotal: 369ms\tremaining: 261ms\n",
      "586:\tlearn: 0.0296530\ttotal: 370ms\tremaining: 260ms\n",
      "587:\tlearn: 0.0295744\ttotal: 370ms\tremaining: 259ms\n",
      "588:\tlearn: 0.0295305\ttotal: 371ms\tremaining: 259ms\n",
      "589:\tlearn: 0.0294646\ttotal: 371ms\tremaining: 258ms\n",
      "590:\tlearn: 0.0294052\ttotal: 372ms\tremaining: 257ms\n",
      "591:\tlearn: 0.0292367\ttotal: 372ms\tremaining: 257ms\n",
      "592:\tlearn: 0.0291637\ttotal: 373ms\tremaining: 256ms\n",
      "593:\tlearn: 0.0290867\ttotal: 374ms\tremaining: 255ms\n",
      "594:\tlearn: 0.0289454\ttotal: 374ms\tremaining: 255ms\n",
      "595:\tlearn: 0.0288014\ttotal: 375ms\tremaining: 254ms\n",
      "596:\tlearn: 0.0287259\ttotal: 375ms\tremaining: 253ms\n",
      "597:\tlearn: 0.0286712\ttotal: 376ms\tremaining: 252ms\n",
      "598:\tlearn: 0.0286301\ttotal: 376ms\tremaining: 252ms\n",
      "599:\tlearn: 0.0284930\ttotal: 377ms\tremaining: 251ms\n",
      "600:\tlearn: 0.0284557\ttotal: 377ms\tremaining: 250ms\n",
      "601:\tlearn: 0.0284141\ttotal: 377ms\tremaining: 250ms\n",
      "602:\tlearn: 0.0282861\ttotal: 378ms\tremaining: 249ms\n",
      "603:\tlearn: 0.0281099\ttotal: 378ms\tremaining: 248ms\n",
      "604:\tlearn: 0.0279869\ttotal: 379ms\tremaining: 247ms\n",
      "605:\tlearn: 0.0278665\ttotal: 379ms\tremaining: 247ms\n",
      "606:\tlearn: 0.0278265\ttotal: 380ms\tremaining: 246ms\n",
      "607:\tlearn: 0.0277088\ttotal: 380ms\tremaining: 245ms\n",
      "608:\tlearn: 0.0276695\ttotal: 381ms\tremaining: 244ms\n",
      "609:\tlearn: 0.0275212\ttotal: 381ms\tremaining: 244ms\n",
      "610:\tlearn: 0.0274720\ttotal: 381ms\tremaining: 243ms\n",
      "611:\tlearn: 0.0273418\ttotal: 383ms\tremaining: 243ms\n",
      "612:\tlearn: 0.0273039\ttotal: 383ms\tremaining: 242ms\n",
      "613:\tlearn: 0.0272112\ttotal: 384ms\tremaining: 241ms\n",
      "614:\tlearn: 0.0271175\ttotal: 384ms\tremaining: 241ms\n",
      "615:\tlearn: 0.0270650\ttotal: 385ms\tremaining: 240ms\n",
      "616:\tlearn: 0.0270137\ttotal: 385ms\tremaining: 239ms\n",
      "617:\tlearn: 0.0268414\ttotal: 386ms\tremaining: 239ms\n",
      "618:\tlearn: 0.0267047\ttotal: 387ms\tremaining: 238ms\n",
      "619:\tlearn: 0.0265368\ttotal: 387ms\tremaining: 237ms\n",
      "620:\tlearn: 0.0264259\ttotal: 387ms\tremaining: 236ms\n",
      "621:\tlearn: 0.0263174\ttotal: 388ms\tremaining: 236ms\n",
      "622:\tlearn: 0.0261834\ttotal: 388ms\tremaining: 235ms\n",
      "623:\tlearn: 0.0261023\ttotal: 389ms\tremaining: 234ms\n",
      "624:\tlearn: 0.0259719\ttotal: 389ms\tremaining: 233ms\n",
      "625:\tlearn: 0.0258922\ttotal: 390ms\tremaining: 233ms\n",
      "626:\tlearn: 0.0258050\ttotal: 390ms\tremaining: 232ms\n",
      "627:\tlearn: 0.0256864\ttotal: 390ms\tremaining: 231ms\n",
      "628:\tlearn: 0.0256488\ttotal: 391ms\tremaining: 231ms\n",
      "629:\tlearn: 0.0255657\ttotal: 391ms\tremaining: 230ms\n",
      "630:\tlearn: 0.0254877\ttotal: 392ms\tremaining: 229ms\n",
      "631:\tlearn: 0.0254070\ttotal: 392ms\tremaining: 228ms\n",
      "632:\tlearn: 0.0253303\ttotal: 393ms\tremaining: 228ms\n",
      "633:\tlearn: 0.0252111\ttotal: 393ms\tremaining: 227ms\n",
      "634:\tlearn: 0.0250679\ttotal: 393ms\tremaining: 226ms\n",
      "635:\tlearn: 0.0249804\ttotal: 394ms\tremaining: 225ms\n",
      "636:\tlearn: 0.0248944\ttotal: 394ms\tremaining: 225ms\n",
      "637:\tlearn: 0.0248203\ttotal: 395ms\tremaining: 224ms\n",
      "638:\tlearn: 0.0247474\ttotal: 395ms\tremaining: 223ms\n",
      "639:\tlearn: 0.0246630\ttotal: 396ms\tremaining: 223ms\n",
      "640:\tlearn: 0.0245913\ttotal: 396ms\tremaining: 222ms\n",
      "641:\tlearn: 0.0245084\ttotal: 397ms\tremaining: 221ms\n",
      "642:\tlearn: 0.0244380\ttotal: 397ms\tremaining: 221ms\n",
      "643:\tlearn: 0.0243579\ttotal: 398ms\tremaining: 220ms\n",
      "644:\tlearn: 0.0242887\ttotal: 399ms\tremaining: 219ms\n",
      "645:\tlearn: 0.0242058\ttotal: 399ms\tremaining: 219ms\n",
      "646:\tlearn: 0.0240923\ttotal: 400ms\tremaining: 218ms\n",
      "647:\tlearn: 0.0240246\ttotal: 400ms\tremaining: 217ms\n",
      "648:\tlearn: 0.0239072\ttotal: 401ms\tremaining: 217ms\n",
      "649:\tlearn: 0.0238299\ttotal: 401ms\tremaining: 216ms\n",
      "650:\tlearn: 0.0237199\ttotal: 402ms\tremaining: 215ms\n",
      "651:\tlearn: 0.0236542\ttotal: 402ms\tremaining: 215ms\n",
      "652:\tlearn: 0.0235896\ttotal: 403ms\tremaining: 214ms\n",
      "653:\tlearn: 0.0234766\ttotal: 403ms\tremaining: 213ms\n",
      "654:\tlearn: 0.0233943\ttotal: 404ms\tremaining: 213ms\n",
      "655:\tlearn: 0.0233148\ttotal: 404ms\tremaining: 212ms\n",
      "656:\tlearn: 0.0232088\ttotal: 405ms\tremaining: 211ms\n",
      "657:\tlearn: 0.0230988\ttotal: 405ms\tremaining: 211ms\n",
      "658:\tlearn: 0.0230184\ttotal: 406ms\tremaining: 210ms\n",
      "659:\tlearn: 0.0229395\ttotal: 407ms\tremaining: 209ms\n",
      "660:\tlearn: 0.0229039\ttotal: 407ms\tremaining: 209ms\n",
      "661:\tlearn: 0.0228715\ttotal: 408ms\tremaining: 208ms\n",
      "662:\tlearn: 0.0228396\ttotal: 408ms\tremaining: 208ms\n",
      "663:\tlearn: 0.0227937\ttotal: 415ms\tremaining: 210ms\n",
      "664:\tlearn: 0.0227628\ttotal: 416ms\tremaining: 210ms\n",
      "665:\tlearn: 0.0227183\ttotal: 417ms\tremaining: 209ms\n",
      "666:\tlearn: 0.0226967\ttotal: 417ms\tremaining: 208ms\n",
      "667:\tlearn: 0.0225954\ttotal: 418ms\tremaining: 208ms\n",
      "668:\tlearn: 0.0225548\ttotal: 418ms\tremaining: 207ms\n",
      "669:\tlearn: 0.0225125\ttotal: 419ms\tremaining: 206ms\n",
      "670:\tlearn: 0.0224920\ttotal: 419ms\tremaining: 206ms\n",
      "671:\tlearn: 0.0224509\ttotal: 420ms\tremaining: 205ms\n",
      "672:\tlearn: 0.0224309\ttotal: 420ms\tremaining: 204ms\n",
      "673:\tlearn: 0.0224059\ttotal: 421ms\tremaining: 204ms\n",
      "674:\tlearn: 0.0223404\ttotal: 421ms\tremaining: 203ms\n",
      "675:\tlearn: 0.0223150\ttotal: 422ms\tremaining: 202ms\n",
      "676:\tlearn: 0.0222166\ttotal: 422ms\tremaining: 201ms\n",
      "677:\tlearn: 0.0221923\ttotal: 422ms\tremaining: 201ms\n",
      "678:\tlearn: 0.0221676\ttotal: 423ms\tremaining: 200ms\n",
      "679:\tlearn: 0.0221438\ttotal: 423ms\tremaining: 199ms\n",
      "680:\tlearn: 0.0220473\ttotal: 424ms\tremaining: 198ms\n",
      "681:\tlearn: 0.0220239\ttotal: 424ms\tremaining: 198ms\n",
      "682:\tlearn: 0.0220009\ttotal: 425ms\tremaining: 197ms\n",
      "683:\tlearn: 0.0218942\ttotal: 425ms\tremaining: 196ms\n",
      "684:\tlearn: 0.0218703\ttotal: 426ms\tremaining: 196ms\n",
      "685:\tlearn: 0.0217758\ttotal: 426ms\tremaining: 195ms\n",
      "686:\tlearn: 0.0217547\ttotal: 427ms\tremaining: 195ms\n",
      "687:\tlearn: 0.0217256\ttotal: 428ms\tremaining: 194ms\n",
      "688:\tlearn: 0.0216635\ttotal: 428ms\tremaining: 193ms\n",
      "689:\tlearn: 0.0215602\ttotal: 428ms\tremaining: 192ms\n",
      "690:\tlearn: 0.0215415\ttotal: 429ms\tremaining: 192ms\n",
      "691:\tlearn: 0.0214745\ttotal: 429ms\tremaining: 191ms\n",
      "692:\tlearn: 0.0213628\ttotal: 430ms\tremaining: 190ms\n",
      "693:\tlearn: 0.0212535\ttotal: 430ms\tremaining: 190ms\n",
      "694:\tlearn: 0.0212304\ttotal: 431ms\tremaining: 189ms\n",
      "695:\tlearn: 0.0211409\ttotal: 431ms\tremaining: 188ms\n",
      "696:\tlearn: 0.0211059\ttotal: 432ms\tremaining: 188ms\n",
      "697:\tlearn: 0.0210833\ttotal: 432ms\tremaining: 187ms\n",
      "698:\tlearn: 0.0210241\ttotal: 433ms\tremaining: 186ms\n",
      "699:\tlearn: 0.0209898\ttotal: 433ms\tremaining: 186ms\n",
      "700:\tlearn: 0.0209676\ttotal: 433ms\tremaining: 185ms\n",
      "701:\tlearn: 0.0208684\ttotal: 434ms\tremaining: 184ms\n",
      "702:\tlearn: 0.0208509\ttotal: 434ms\tremaining: 183ms\n",
      "703:\tlearn: 0.0207934\ttotal: 435ms\tremaining: 183ms\n",
      "704:\tlearn: 0.0206892\ttotal: 435ms\tremaining: 182ms\n",
      "705:\tlearn: 0.0206675\ttotal: 436ms\tremaining: 181ms\n",
      "706:\tlearn: 0.0206344\ttotal: 436ms\tremaining: 181ms\n",
      "707:\tlearn: 0.0205297\ttotal: 437ms\tremaining: 180ms\n",
      "708:\tlearn: 0.0204336\ttotal: 437ms\tremaining: 179ms\n",
      "709:\tlearn: 0.0203784\ttotal: 438ms\tremaining: 179ms\n",
      "710:\tlearn: 0.0202776\ttotal: 438ms\tremaining: 178ms\n",
      "711:\tlearn: 0.0202456\ttotal: 438ms\tremaining: 177ms\n",
      "712:\tlearn: 0.0202287\ttotal: 439ms\tremaining: 177ms\n",
      "713:\tlearn: 0.0201748\ttotal: 439ms\tremaining: 176ms\n",
      "714:\tlearn: 0.0200813\ttotal: 440ms\tremaining: 175ms\n",
      "715:\tlearn: 0.0200499\ttotal: 440ms\tremaining: 175ms\n",
      "716:\tlearn: 0.0200332\ttotal: 441ms\tremaining: 174ms\n",
      "717:\tlearn: 0.0200113\ttotal: 441ms\tremaining: 173ms\n",
      "718:\tlearn: 0.0199201\ttotal: 442ms\tremaining: 173ms\n",
      "719:\tlearn: 0.0198115\ttotal: 442ms\tremaining: 172ms\n",
      "720:\tlearn: 0.0197903\ttotal: 443ms\tremaining: 171ms\n",
      "721:\tlearn: 0.0197599\ttotal: 443ms\tremaining: 171ms\n",
      "722:\tlearn: 0.0196540\ttotal: 444ms\tremaining: 170ms\n",
      "723:\tlearn: 0.0196242\ttotal: 444ms\tremaining: 169ms\n",
      "724:\tlearn: 0.0195467\ttotal: 445ms\tremaining: 169ms\n",
      "725:\tlearn: 0.0194581\ttotal: 446ms\tremaining: 168ms\n",
      "726:\tlearn: 0.0193387\ttotal: 446ms\tremaining: 168ms\n",
      "727:\tlearn: 0.0192810\ttotal: 447ms\tremaining: 167ms\n",
      "728:\tlearn: 0.0192136\ttotal: 447ms\tremaining: 166ms\n",
      "729:\tlearn: 0.0191398\ttotal: 447ms\tremaining: 165ms\n",
      "730:\tlearn: 0.0190736\ttotal: 448ms\tremaining: 165ms\n",
      "731:\tlearn: 0.0190418\ttotal: 449ms\tremaining: 164ms\n",
      "732:\tlearn: 0.0190105\ttotal: 449ms\tremaining: 164ms\n",
      "733:\tlearn: 0.0189098\ttotal: 450ms\tremaining: 163ms\n",
      "734:\tlearn: 0.0188452\ttotal: 450ms\tremaining: 162ms\n",
      "735:\tlearn: 0.0187907\ttotal: 451ms\tremaining: 162ms\n",
      "736:\tlearn: 0.0187597\ttotal: 451ms\tremaining: 161ms\n",
      "737:\tlearn: 0.0186772\ttotal: 452ms\tremaining: 160ms\n",
      "738:\tlearn: 0.0186117\ttotal: 452ms\tremaining: 160ms\n",
      "739:\tlearn: 0.0185144\ttotal: 453ms\tremaining: 159ms\n",
      "740:\tlearn: 0.0184605\ttotal: 453ms\tremaining: 158ms\n",
      "741:\tlearn: 0.0183963\ttotal: 454ms\tremaining: 158ms\n",
      "742:\tlearn: 0.0182860\ttotal: 454ms\tremaining: 157ms\n",
      "743:\tlearn: 0.0182242\ttotal: 455ms\tremaining: 156ms\n",
      "744:\tlearn: 0.0181943\ttotal: 455ms\tremaining: 156ms\n",
      "745:\tlearn: 0.0181790\ttotal: 456ms\tremaining: 155ms\n",
      "746:\tlearn: 0.0181181\ttotal: 456ms\tremaining: 155ms\n"
     ]
    },
    {
     "name": "stdout",
     "output_type": "stream",
     "text": [
      "747:\tlearn: 0.0180885\ttotal: 457ms\tremaining: 154ms\n",
      "748:\tlearn: 0.0180332\ttotal: 458ms\tremaining: 153ms\n",
      "749:\tlearn: 0.0179425\ttotal: 458ms\tremaining: 153ms\n",
      "750:\tlearn: 0.0179135\ttotal: 459ms\tremaining: 152ms\n",
      "751:\tlearn: 0.0178984\ttotal: 459ms\tremaining: 151ms\n",
      "752:\tlearn: 0.0178835\ttotal: 460ms\tremaining: 151ms\n",
      "753:\tlearn: 0.0178236\ttotal: 460ms\tremaining: 150ms\n",
      "754:\tlearn: 0.0177948\ttotal: 461ms\tremaining: 150ms\n",
      "755:\tlearn: 0.0177665\ttotal: 461ms\tremaining: 149ms\n",
      "756:\tlearn: 0.0176567\ttotal: 462ms\tremaining: 148ms\n",
      "757:\tlearn: 0.0176421\ttotal: 462ms\tremaining: 148ms\n",
      "758:\tlearn: 0.0176142\ttotal: 463ms\tremaining: 147ms\n",
      "759:\tlearn: 0.0175056\ttotal: 463ms\tremaining: 146ms\n",
      "760:\tlearn: 0.0174824\ttotal: 464ms\tremaining: 146ms\n",
      "761:\tlearn: 0.0174157\ttotal: 464ms\tremaining: 145ms\n",
      "762:\tlearn: 0.0173931\ttotal: 465ms\tremaining: 144ms\n",
      "763:\tlearn: 0.0173708\ttotal: 465ms\tremaining: 144ms\n",
      "764:\tlearn: 0.0173055\ttotal: 465ms\tremaining: 143ms\n",
      "765:\tlearn: 0.0172359\ttotal: 466ms\tremaining: 142ms\n",
      "766:\tlearn: 0.0172219\ttotal: 466ms\tremaining: 142ms\n",
      "767:\tlearn: 0.0171576\ttotal: 467ms\tremaining: 141ms\n",
      "768:\tlearn: 0.0171408\ttotal: 467ms\tremaining: 140ms\n",
      "769:\tlearn: 0.0171185\ttotal: 468ms\tremaining: 140ms\n",
      "770:\tlearn: 0.0170915\ttotal: 468ms\tremaining: 139ms\n",
      "771:\tlearn: 0.0170781\ttotal: 469ms\tremaining: 138ms\n",
      "772:\tlearn: 0.0170648\ttotal: 469ms\tremaining: 138ms\n",
      "773:\tlearn: 0.0170381\ttotal: 470ms\tremaining: 137ms\n",
      "774:\tlearn: 0.0169451\ttotal: 470ms\tremaining: 136ms\n",
      "775:\tlearn: 0.0168375\ttotal: 470ms\tremaining: 136ms\n",
      "776:\tlearn: 0.0167755\ttotal: 471ms\tremaining: 135ms\n",
      "777:\tlearn: 0.0167595\ttotal: 471ms\tremaining: 134ms\n",
      "778:\tlearn: 0.0167383\ttotal: 471ms\tremaining: 134ms\n",
      "779:\tlearn: 0.0167216\ttotal: 472ms\tremaining: 133ms\n",
      "780:\tlearn: 0.0166612\ttotal: 472ms\tremaining: 132ms\n",
      "781:\tlearn: 0.0166405\ttotal: 472ms\tremaining: 132ms\n",
      "782:\tlearn: 0.0165587\ttotal: 473ms\tremaining: 131ms\n",
      "783:\tlearn: 0.0165422\ttotal: 474ms\tremaining: 131ms\n",
      "784:\tlearn: 0.0164835\ttotal: 474ms\tremaining: 130ms\n",
      "785:\tlearn: 0.0164674\ttotal: 475ms\tremaining: 129ms\n",
      "786:\tlearn: 0.0164110\ttotal: 475ms\tremaining: 129ms\n",
      "787:\tlearn: 0.0163313\ttotal: 476ms\tremaining: 128ms\n",
      "788:\tlearn: 0.0162760\ttotal: 476ms\tremaining: 127ms\n",
      "789:\tlearn: 0.0162103\ttotal: 477ms\tremaining: 127ms\n",
      "790:\tlearn: 0.0161551\ttotal: 477ms\tremaining: 126ms\n",
      "791:\tlearn: 0.0161393\ttotal: 477ms\tremaining: 125ms\n",
      "792:\tlearn: 0.0160849\ttotal: 478ms\tremaining: 125ms\n",
      "793:\tlearn: 0.0160594\ttotal: 478ms\tremaining: 124ms\n",
      "794:\tlearn: 0.0159706\ttotal: 479ms\tremaining: 124ms\n",
      "795:\tlearn: 0.0159457\ttotal: 479ms\tremaining: 123ms\n",
      "796:\tlearn: 0.0158571\ttotal: 480ms\tremaining: 122ms\n",
      "797:\tlearn: 0.0158304\ttotal: 480ms\tremaining: 122ms\n",
      "798:\tlearn: 0.0157776\ttotal: 481ms\tremaining: 121ms\n",
      "799:\tlearn: 0.0157530\ttotal: 481ms\tremaining: 120ms\n",
      "800:\tlearn: 0.0157288\ttotal: 482ms\tremaining: 120ms\n",
      "801:\tlearn: 0.0156587\ttotal: 483ms\tremaining: 119ms\n",
      "802:\tlearn: 0.0155749\ttotal: 483ms\tremaining: 119ms\n",
      "803:\tlearn: 0.0155234\ttotal: 484ms\tremaining: 118ms\n",
      "804:\tlearn: 0.0154555\ttotal: 484ms\tremaining: 117ms\n",
      "805:\tlearn: 0.0154052\ttotal: 484ms\tremaining: 117ms\n",
      "806:\tlearn: 0.0153245\ttotal: 485ms\tremaining: 116ms\n",
      "807:\tlearn: 0.0152753\ttotal: 486ms\tremaining: 115ms\n",
      "808:\tlearn: 0.0152108\ttotal: 487ms\tremaining: 115ms\n",
      "809:\tlearn: 0.0151477\ttotal: 487ms\tremaining: 114ms\n",
      "810:\tlearn: 0.0150861\ttotal: 488ms\tremaining: 114ms\n",
      "811:\tlearn: 0.0150706\ttotal: 489ms\tremaining: 113ms\n",
      "812:\tlearn: 0.0150229\ttotal: 489ms\tremaining: 113ms\n",
      "813:\tlearn: 0.0149629\ttotal: 490ms\tremaining: 112ms\n",
      "814:\tlearn: 0.0149043\ttotal: 490ms\tremaining: 111ms\n",
      "815:\tlearn: 0.0148891\ttotal: 491ms\tremaining: 111ms\n",
      "816:\tlearn: 0.0148748\ttotal: 491ms\tremaining: 110ms\n",
      "817:\tlearn: 0.0148008\ttotal: 492ms\tremaining: 109ms\n",
      "818:\tlearn: 0.0147418\ttotal: 492ms\tremaining: 109ms\n",
      "819:\tlearn: 0.0146592\ttotal: 493ms\tremaining: 108ms\n",
      "820:\tlearn: 0.0145918\ttotal: 493ms\tremaining: 107ms\n",
      "821:\tlearn: 0.0145352\ttotal: 493ms\tremaining: 107ms\n",
      "822:\tlearn: 0.0145182\ttotal: 494ms\tremaining: 106ms\n",
      "823:\tlearn: 0.0145036\ttotal: 494ms\tremaining: 106ms\n",
      "824:\tlearn: 0.0144589\ttotal: 495ms\tremaining: 105ms\n",
      "825:\tlearn: 0.0144149\ttotal: 495ms\tremaining: 104ms\n",
      "826:\tlearn: 0.0143982\ttotal: 496ms\tremaining: 104ms\n",
      "827:\tlearn: 0.0143435\ttotal: 496ms\tremaining: 103ms\n",
      "828:\tlearn: 0.0142868\ttotal: 497ms\tremaining: 102ms\n",
      "829:\tlearn: 0.0142068\ttotal: 497ms\tremaining: 102ms\n",
      "830:\tlearn: 0.0141906\ttotal: 498ms\tremaining: 101ms\n",
      "831:\tlearn: 0.0141120\ttotal: 498ms\tremaining: 101ms\n",
      "832:\tlearn: 0.0140960\ttotal: 498ms\tremaining: 99.9ms\n",
      "833:\tlearn: 0.0140193\ttotal: 499ms\tremaining: 99.3ms\n",
      "834:\tlearn: 0.0139571\ttotal: 500ms\tremaining: 98.7ms\n",
      "835:\tlearn: 0.0139149\ttotal: 500ms\tremaining: 98.1ms\n",
      "836:\tlearn: 0.0138546\ttotal: 501ms\tremaining: 97.5ms\n",
      "837:\tlearn: 0.0138348\ttotal: 502ms\tremaining: 97ms\n",
      "838:\tlearn: 0.0137675\ttotal: 502ms\tremaining: 96.3ms\n",
      "839:\tlearn: 0.0137102\ttotal: 503ms\tremaining: 95.7ms\n",
      "840:\tlearn: 0.0136592\ttotal: 503ms\tremaining: 95.1ms\n",
      "841:\tlearn: 0.0136400\ttotal: 504ms\tremaining: 94.5ms\n",
      "842:\tlearn: 0.0136211\ttotal: 504ms\tremaining: 93.9ms\n",
      "843:\tlearn: 0.0135674\ttotal: 505ms\tremaining: 93.3ms\n",
      "844:\tlearn: 0.0135483\ttotal: 505ms\tremaining: 92.7ms\n",
      "845:\tlearn: 0.0135293\ttotal: 506ms\tremaining: 92.1ms\n",
      "846:\tlearn: 0.0134615\ttotal: 506ms\tremaining: 91.5ms\n",
      "847:\tlearn: 0.0134435\ttotal: 507ms\tremaining: 90.9ms\n",
      "848:\tlearn: 0.0134025\ttotal: 508ms\tremaining: 90.3ms\n",
      "849:\tlearn: 0.0133623\ttotal: 508ms\tremaining: 89.6ms\n",
      "850:\tlearn: 0.0133061\ttotal: 509ms\tremaining: 89.2ms\n",
      "851:\tlearn: 0.0132884\ttotal: 510ms\tremaining: 88.5ms\n",
      "852:\tlearn: 0.0132363\ttotal: 510ms\tremaining: 87.9ms\n",
      "853:\tlearn: 0.0132189\ttotal: 511ms\tremaining: 87.3ms\n",
      "854:\tlearn: 0.0132019\ttotal: 511ms\tremaining: 86.7ms\n",
      "855:\tlearn: 0.0131401\ttotal: 512ms\tremaining: 86.1ms\n",
      "856:\tlearn: 0.0130957\ttotal: 512ms\tremaining: 85.4ms\n",
      "857:\tlearn: 0.0130776\ttotal: 513ms\tremaining: 84.8ms\n",
      "858:\tlearn: 0.0130640\ttotal: 513ms\tremaining: 84.2ms\n",
      "859:\tlearn: 0.0130248\ttotal: 513ms\tremaining: 83.6ms\n",
      "860:\tlearn: 0.0130069\ttotal: 514ms\tremaining: 82.9ms\n",
      "861:\tlearn: 0.0129683\ttotal: 514ms\tremaining: 82.3ms\n",
      "862:\tlearn: 0.0129506\ttotal: 515ms\tremaining: 81.7ms\n",
      "863:\tlearn: 0.0129076\ttotal: 515ms\tremaining: 81.1ms\n",
      "864:\tlearn: 0.0128928\ttotal: 516ms\tremaining: 80.5ms\n",
      "865:\tlearn: 0.0128291\ttotal: 516ms\tremaining: 79.9ms\n",
      "866:\tlearn: 0.0128128\ttotal: 517ms\tremaining: 79.3ms\n",
      "867:\tlearn: 0.0127531\ttotal: 517ms\tremaining: 78.7ms\n",
      "868:\tlearn: 0.0127042\ttotal: 518ms\tremaining: 78.1ms\n",
      "869:\tlearn: 0.0126458\ttotal: 518ms\tremaining: 77.5ms\n",
      "870:\tlearn: 0.0126338\ttotal: 519ms\tremaining: 76.9ms\n",
      "871:\tlearn: 0.0125966\ttotal: 519ms\tremaining: 76.2ms\n",
      "872:\tlearn: 0.0125844\ttotal: 520ms\tremaining: 75.6ms\n",
      "873:\tlearn: 0.0125434\ttotal: 520ms\tremaining: 75ms\n",
      "874:\tlearn: 0.0124825\ttotal: 521ms\tremaining: 74.4ms\n",
      "875:\tlearn: 0.0124386\ttotal: 521ms\tremaining: 73.8ms\n",
      "876:\tlearn: 0.0124270\ttotal: 522ms\tremaining: 73.2ms\n",
      "877:\tlearn: 0.0124156\ttotal: 522ms\tremaining: 72.6ms\n",
      "878:\tlearn: 0.0123731\ttotal: 523ms\tremaining: 72ms\n",
      "879:\tlearn: 0.0123619\ttotal: 523ms\tremaining: 71.4ms\n",
      "880:\tlearn: 0.0123490\ttotal: 524ms\tremaining: 70.7ms\n",
      "881:\tlearn: 0.0123095\ttotal: 524ms\tremaining: 70.1ms\n",
      "882:\tlearn: 0.0122986\ttotal: 525ms\tremaining: 69.5ms\n",
      "883:\tlearn: 0.0122430\ttotal: 525ms\tremaining: 68.9ms\n",
      "884:\tlearn: 0.0122147\ttotal: 525ms\tremaining: 68.3ms\n",
      "885:\tlearn: 0.0122021\ttotal: 526ms\tremaining: 67.7ms\n",
      "886:\tlearn: 0.0121637\ttotal: 526ms\tremaining: 67.1ms\n",
      "887:\tlearn: 0.0121477\ttotal: 527ms\tremaining: 66.5ms\n",
      "888:\tlearn: 0.0120918\ttotal: 527ms\tremaining: 65.8ms\n",
      "889:\tlearn: 0.0120544\ttotal: 528ms\tremaining: 65.2ms\n",
      "890:\tlearn: 0.0119999\ttotal: 528ms\tremaining: 64.6ms\n",
      "891:\tlearn: 0.0119902\ttotal: 529ms\tremaining: 64ms\n",
      "892:\tlearn: 0.0119431\ttotal: 529ms\tremaining: 63.4ms\n",
      "893:\tlearn: 0.0119292\ttotal: 530ms\tremaining: 62.8ms\n",
      "894:\tlearn: 0.0118562\ttotal: 531ms\tremaining: 62.3ms\n",
      "895:\tlearn: 0.0118468\ttotal: 531ms\tremaining: 61.7ms\n",
      "896:\tlearn: 0.0117904\ttotal: 532ms\tremaining: 61.1ms\n",
      "897:\tlearn: 0.0117434\ttotal: 532ms\tremaining: 60.5ms\n",
      "898:\tlearn: 0.0117073\ttotal: 533ms\tremaining: 59.9ms\n",
      "899:\tlearn: 0.0116613\ttotal: 533ms\tremaining: 59.3ms\n",
      "900:\tlearn: 0.0116166\ttotal: 534ms\tremaining: 58.7ms\n",
      "901:\tlearn: 0.0115718\ttotal: 534ms\tremaining: 58ms\n",
      "902:\tlearn: 0.0115281\ttotal: 535ms\tremaining: 57.4ms\n",
      "903:\tlearn: 0.0115141\ttotal: 535ms\tremaining: 56.8ms\n",
      "904:\tlearn: 0.0114707\ttotal: 535ms\tremaining: 56.2ms\n",
      "905:\tlearn: 0.0114245\ttotal: 536ms\tremaining: 55.6ms\n",
      "906:\tlearn: 0.0113624\ttotal: 536ms\tremaining: 55ms\n",
      "907:\tlearn: 0.0113314\ttotal: 537ms\tremaining: 54.4ms\n",
      "908:\tlearn: 0.0112779\ttotal: 537ms\tremaining: 53.8ms\n",
      "909:\tlearn: 0.0112367\ttotal: 537ms\tremaining: 53.1ms\n",
      "910:\tlearn: 0.0112124\ttotal: 538ms\tremaining: 52.5ms\n",
      "911:\tlearn: 0.0111522\ttotal: 538ms\tremaining: 51.9ms\n",
      "912:\tlearn: 0.0111117\ttotal: 539ms\tremaining: 51.3ms\n",
      "913:\tlearn: 0.0110702\ttotal: 539ms\tremaining: 50.7ms\n",
      "914:\tlearn: 0.0110466\ttotal: 540ms\tremaining: 50.2ms\n",
      "915:\tlearn: 0.0110059\ttotal: 541ms\tremaining: 49.6ms\n",
      "916:\tlearn: 0.0109827\ttotal: 541ms\tremaining: 49ms\n",
      "917:\tlearn: 0.0109586\ttotal: 542ms\tremaining: 48.4ms\n",
      "918:\tlearn: 0.0108787\ttotal: 542ms\tremaining: 47.8ms\n",
      "919:\tlearn: 0.0108176\ttotal: 543ms\tremaining: 47.2ms\n",
      "920:\tlearn: 0.0107546\ttotal: 543ms\tremaining: 46.6ms\n",
      "921:\tlearn: 0.0106949\ttotal: 544ms\tremaining: 46ms\n",
      "922:\tlearn: 0.0106444\ttotal: 544ms\tremaining: 45.4ms\n",
      "923:\tlearn: 0.0105880\ttotal: 545ms\tremaining: 44.8ms\n",
      "924:\tlearn: 0.0105299\ttotal: 545ms\tremaining: 44.2ms\n",
      "925:\tlearn: 0.0104811\ttotal: 546ms\tremaining: 43.6ms\n"
     ]
    },
    {
     "name": "stdout",
     "output_type": "stream",
     "text": [
      "926:\tlearn: 0.0104332\ttotal: 547ms\tremaining: 43ms\n",
      "927:\tlearn: 0.0103788\ttotal: 547ms\tremaining: 42.5ms\n",
      "928:\tlearn: 0.0103320\ttotal: 548ms\tremaining: 41.9ms\n",
      "929:\tlearn: 0.0102711\ttotal: 548ms\tremaining: 41.3ms\n",
      "930:\tlearn: 0.0102260\ttotal: 549ms\tremaining: 40.7ms\n",
      "931:\tlearn: 0.0102033\ttotal: 549ms\tremaining: 40.1ms\n",
      "932:\tlearn: 0.0101811\ttotal: 550ms\tremaining: 39.5ms\n",
      "933:\tlearn: 0.0101649\ttotal: 550ms\tremaining: 38.9ms\n",
      "934:\tlearn: 0.0101507\ttotal: 551ms\tremaining: 38.3ms\n",
      "935:\tlearn: 0.0101349\ttotal: 551ms\tremaining: 37.7ms\n",
      "936:\tlearn: 0.0100914\ttotal: 552ms\tremaining: 37.1ms\n",
      "937:\tlearn: 0.0100696\ttotal: 552ms\tremaining: 36.5ms\n",
      "938:\tlearn: 0.0100082\ttotal: 553ms\tremaining: 35.9ms\n",
      "939:\tlearn: 0.0099855\ttotal: 554ms\tremaining: 35.3ms\n",
      "940:\tlearn: 0.0099384\ttotal: 554ms\tremaining: 34.8ms\n",
      "941:\tlearn: 0.0099249\ttotal: 555ms\tremaining: 34.2ms\n",
      "942:\tlearn: 0.0098798\ttotal: 555ms\tremaining: 33.6ms\n",
      "943:\tlearn: 0.0098360\ttotal: 556ms\tremaining: 33ms\n",
      "944:\tlearn: 0.0098150\ttotal: 556ms\tremaining: 32.4ms\n",
      "945:\tlearn: 0.0097998\ttotal: 557ms\tremaining: 31.8ms\n",
      "946:\tlearn: 0.0097932\ttotal: 557ms\tremaining: 31.2ms\n",
      "947:\tlearn: 0.0097851\ttotal: 558ms\tremaining: 30.6ms\n",
      "948:\tlearn: 0.0097260\ttotal: 558ms\tremaining: 30ms\n",
      "949:\tlearn: 0.0097112\ttotal: 558ms\tremaining: 29.4ms\n",
      "950:\tlearn: 0.0097050\ttotal: 559ms\tremaining: 28.8ms\n",
      "951:\tlearn: 0.0096643\ttotal: 559ms\tremaining: 28.2ms\n",
      "952:\tlearn: 0.0096439\ttotal: 559ms\tremaining: 27.6ms\n",
      "953:\tlearn: 0.0096015\ttotal: 560ms\tremaining: 27ms\n",
      "954:\tlearn: 0.0095499\ttotal: 560ms\tremaining: 26.4ms\n",
      "955:\tlearn: 0.0095074\ttotal: 561ms\tremaining: 25.8ms\n",
      "956:\tlearn: 0.0094661\ttotal: 561ms\tremaining: 25.2ms\n",
      "957:\tlearn: 0.0094254\ttotal: 562ms\tremaining: 24.6ms\n",
      "958:\tlearn: 0.0094075\ttotal: 562ms\tremaining: 24ms\n",
      "959:\tlearn: 0.0093976\ttotal: 563ms\tremaining: 23.5ms\n",
      "960:\tlearn: 0.0093568\ttotal: 563ms\tremaining: 22.9ms\n",
      "961:\tlearn: 0.0093470\ttotal: 564ms\tremaining: 22.3ms\n",
      "962:\tlearn: 0.0093059\ttotal: 564ms\tremaining: 21.7ms\n",
      "963:\tlearn: 0.0092963\ttotal: 565ms\tremaining: 21.1ms\n",
      "964:\tlearn: 0.0092473\ttotal: 565ms\tremaining: 20.5ms\n",
      "965:\tlearn: 0.0092199\ttotal: 566ms\tremaining: 19.9ms\n",
      "966:\tlearn: 0.0092104\ttotal: 566ms\tremaining: 19.3ms\n",
      "967:\tlearn: 0.0091835\ttotal: 567ms\tremaining: 18.7ms\n",
      "968:\tlearn: 0.0091742\ttotal: 567ms\tremaining: 18.1ms\n",
      "969:\tlearn: 0.0091341\ttotal: 568ms\tremaining: 17.6ms\n",
      "970:\tlearn: 0.0090794\ttotal: 568ms\tremaining: 17ms\n",
      "971:\tlearn: 0.0090420\ttotal: 569ms\tremaining: 16.4ms\n",
      "972:\tlearn: 0.0089914\ttotal: 569ms\tremaining: 15.8ms\n",
      "973:\tlearn: 0.0089717\ttotal: 570ms\tremaining: 15.2ms\n",
      "974:\tlearn: 0.0089184\ttotal: 570ms\tremaining: 14.6ms\n",
      "975:\tlearn: 0.0088797\ttotal: 570ms\tremaining: 14ms\n",
      "976:\tlearn: 0.0088435\ttotal: 571ms\tremaining: 13.4ms\n",
      "977:\tlearn: 0.0088243\ttotal: 571ms\tremaining: 12.8ms\n",
      "978:\tlearn: 0.0088058\ttotal: 572ms\tremaining: 12.3ms\n",
      "979:\tlearn: 0.0088001\ttotal: 572ms\tremaining: 11.7ms\n",
      "980:\tlearn: 0.0087859\ttotal: 572ms\tremaining: 11.1ms\n",
      "981:\tlearn: 0.0087804\ttotal: 573ms\tremaining: 10.5ms\n",
      "982:\tlearn: 0.0087318\ttotal: 574ms\tremaining: 9.92ms\n",
      "983:\tlearn: 0.0087259\ttotal: 574ms\tremaining: 9.33ms\n",
      "984:\tlearn: 0.0087205\ttotal: 575ms\tremaining: 8.75ms\n",
      "985:\tlearn: 0.0087152\ttotal: 575ms\tremaining: 8.17ms\n",
      "986:\tlearn: 0.0086772\ttotal: 576ms\tremaining: 7.58ms\n",
      "987:\tlearn: 0.0086585\ttotal: 576ms\tremaining: 7ms\n",
      "988:\tlearn: 0.0086231\ttotal: 577ms\tremaining: 6.42ms\n",
      "989:\tlearn: 0.0086046\ttotal: 577ms\tremaining: 5.83ms\n",
      "990:\tlearn: 0.0085683\ttotal: 578ms\tremaining: 5.25ms\n",
      "991:\tlearn: 0.0085549\ttotal: 578ms\tremaining: 4.66ms\n",
      "992:\tlearn: 0.0085402\ttotal: 579ms\tremaining: 4.08ms\n",
      "993:\tlearn: 0.0085350\ttotal: 579ms\tremaining: 3.5ms\n",
      "994:\tlearn: 0.0085299\ttotal: 580ms\tremaining: 2.91ms\n",
      "995:\tlearn: 0.0085154\ttotal: 580ms\tremaining: 2.33ms\n",
      "996:\tlearn: 0.0085104\ttotal: 581ms\tremaining: 1.75ms\n",
      "997:\tlearn: 0.0085038\ttotal: 581ms\tremaining: 1.16ms\n",
      "998:\tlearn: 0.0084896\ttotal: 582ms\tremaining: 582us\n",
      "999:\tlearn: 0.0084720\ttotal: 582ms\tremaining: 0us\n"
     ]
    },
    {
     "data": {
      "text/plain": [
       "<catboost.core.CatBoostRegressor at 0x7fbfe0898a90>"
      ]
     },
     "execution_count": 9,
     "metadata": {},
     "output_type": "execute_result"
    }
   ],
   "source": [
    "#Train the Model \n",
    "prior_model = ctb.CatBoostRegressor()\n",
    "prior_model.fit(X_train,Y_train)"
   ]
  },
  {
   "cell_type": "code",
   "execution_count": 10,
   "id": "af65dcda",
   "metadata": {
    "execution": {
     "iopub.execute_input": "2022-06-07T07:05:26.432510Z",
     "iopub.status.busy": "2022-06-07T07:05:26.432103Z",
     "iopub.status.idle": "2022-06-07T07:05:26.443273Z",
     "shell.execute_reply": "2022-06-07T07:05:26.443519Z"
    },
    "id": "af65dcda",
    "papermill": {
     "duration": 0.02469,
     "end_time": "2022-06-07T07:05:26.443648",
     "exception": false,
     "start_time": "2022-06-07T07:05:26.418958",
     "status": "completed"
    },
    "tags": []
   },
   "outputs": [
    {
     "data": {
      "application/scrapbook.scrap.json+json": {
       "data": 0.06176398787696662,
       "encoder": "json",
       "name": "Prior Model MSE",
       "version": 1
      }
     },
     "metadata": {
      "scrapbook": {
       "data": true,
       "display": false,
       "name": "Prior Model MSE"
      }
     },
     "output_type": "display_data"
    },
    {
     "data": {
      "application/scrapbook.scrap.json+json": {
       "data": 1.5795021976813608,
       "encoder": "json",
       "name": "ABC Pre-generator MSE",
       "version": 1
      }
     },
     "metadata": {
      "scrapbook": {
       "data": true,
       "display": false,
       "name": "ABC Pre-generator MSE"
      }
     },
     "output_type": "display_data"
    },
    {
     "data": {
      "application/scrapbook.scrap.json+json": {
       "data": 0.2190430844125264,
       "encoder": "json",
       "name": "Prior Model MSE",
       "version": 1
      }
     },
     "metadata": {
      "scrapbook": {
       "data": true,
       "display": false,
       "name": "Prior Model MSE"
      }
     },
     "output_type": "display_data"
    },
    {
     "data": {
      "application/scrapbook.scrap.json+json": {
       "data": 1.0751528223245592,
       "encoder": "json",
       "name": "ABC Pre-generator MSE",
       "version": 1
      }
     },
     "metadata": {
      "scrapbook": {
       "data": true,
       "display": false,
       "name": "ABC Pre-generator MSE"
      }
     },
     "output_type": "display_data"
    }
   ],
   "source": [
    "y_pred = prior_model.predict(X_test)\n",
    "y_abc = y_pred + np.random.normal(0,variance, y_pred.shape) + bias \n",
    "mse = mean_squared_error(y_pred,Y_test)\n",
    "sb.glue(\"Prior Model MSE\",mse)\n",
    "mse = mean_squared_error(y_abc,Y_test)\n",
    "sb.glue(\"ABC Pre-generator MSE\",mse)\n",
    "mae = mean_absolute_error(y_pred,Y_test)\n",
    "sb.glue(\"Prior Model MSE\",mae)\n",
    "mae = mean_absolute_error(y_abc,Y_test)\n",
    "sb.glue(\"ABC Pre-generator MSE\",mae)"
   ]
  },
  {
   "cell_type": "markdown",
   "id": "25609da2",
   "metadata": {
    "papermill": {
     "duration": 0.020305,
     "end_time": "2022-06-07T07:05:26.474183",
     "exception": false,
     "start_time": "2022-06-07T07:05:26.453878",
     "status": "completed"
    },
    "tags": []
   },
   "source": [
    "# ABC GAN Model"
   ]
  },
  {
   "cell_type": "code",
   "execution_count": 11,
   "id": "dfc3464d",
   "metadata": {
    "execution": {
     "iopub.execute_input": "2022-06-07T07:05:26.497997Z",
     "iopub.status.busy": "2022-06-07T07:05:26.497596Z",
     "iopub.status.idle": "2022-06-07T07:05:26.500135Z",
     "shell.execute_reply": "2022-06-07T07:05:26.500389Z"
    },
    "papermill": {
     "duration": 0.016263,
     "end_time": "2022-06-07T07:05:26.500502",
     "exception": false,
     "start_time": "2022-06-07T07:05:26.484239",
     "status": "completed"
    },
    "tags": []
   },
   "outputs": [],
   "source": [
    "gen = network.Generator(n_features+1).to(device)\n",
    "disc = network.Discriminator(n_features+1).to(device)\n",
    "\n",
    "criterion = torch.nn.BCELoss()\n",
    "gen_opt = torch.optim.Adam(gen.parameters(), lr=0.001, betas=(0.5, 0.999))\n",
    "disc_opt = torch.optim.Adam(disc.parameters(), lr=0.001, betas=(0.5, 0.999))"
   ]
  },
  {
   "cell_type": "code",
   "execution_count": 12,
   "id": "b75fdd85",
   "metadata": {
    "execution": {
     "iopub.execute_input": "2022-06-07T07:05:26.523951Z",
     "iopub.status.busy": "2022-06-07T07:05:26.523571Z",
     "iopub.status.idle": "2022-06-07T07:05:43.173293Z",
     "shell.execute_reply": "2022-06-07T07:05:43.173592Z"
    },
    "papermill": {
     "duration": 16.662975,
     "end_time": "2022-06-07T07:05:43.173716",
     "exception": false,
     "start_time": "2022-06-07T07:05:26.510741",
     "status": "completed"
    },
    "tags": []
   },
   "outputs": [
    {
     "data": {
      "image/png": "[encoded data removed]",
      "text/plain": [
       "<Figure size 432x288 with 1 Axes>"
      ]
     },
     "metadata": {
      "needs_background": "light"
     },
     "output_type": "display_data"
    },
    {
     "data": {
      "image/png": "[encoded data removed]",
      "text/plain": [
       "<Figure size 432x288 with 1 Axes>"
      ]
     },
     "metadata": {
      "needs_background": "light"
     },
     "output_type": "display_data"
    }
   ],
   "source": [
    "#Training the ABC_GAN \n",
    "ABC_train_test2.training_GAN(disc,gen,disc_opt,gen_opt,train_data,batch_size,n_epochs,criterion,prior_model,variance,bias,device)"
   ]
  },
  {
   "cell_type": "code",
   "execution_count": 13,
   "id": "1fa7c368",
   "metadata": {
    "execution": {
     "iopub.execute_input": "2022-06-07T07:05:43.198835Z",
     "iopub.status.busy": "2022-06-07T07:05:43.198375Z",
     "iopub.status.idle": "2022-06-07T07:05:43.495341Z",
     "shell.execute_reply": "2022-06-07T07:05:43.495695Z"
    },
    "papermill": {
     "duration": 0.310939,
     "end_time": "2022-06-07T07:05:43.495824",
     "exception": false,
     "start_time": "2022-06-07T07:05:43.184885",
     "status": "completed"
    },
    "tags": []
   },
   "outputs": [
    {
     "data": {
      "application/scrapbook.scrap.json+json": {
       "data": 0.05064004881832448,
       "encoder": "json",
       "name": "ABC-GAN Model 1 MSE",
       "version": 1
      }
     },
     "metadata": {
      "scrapbook": {
       "data": true,
       "display": false,
       "name": "ABC-GAN Model 1 MSE"
      }
     },
     "output_type": "display_data"
    },
    {
     "data": {
      "application/scrapbook.scrap.json+json": {
       "data": 0.16205817009322346,
       "encoder": "json",
       "name": "ABC-GAN Model 1 MAE",
       "version": 1
      }
     },
     "metadata": {
      "scrapbook": {
       "data": true,
       "display": false,
       "name": "ABC-GAN Model 1 MAE"
      }
     },
     "output_type": "display_data"
    },
    {
     "data": {
      "application/scrapbook.scrap.json+json": {
       "data": 3.241163401864469,
       "encoder": "json",
       "name": "ABC-GAN Model 1 Manhattan Distance",
       "version": 1
      }
     },
     "metadata": {
      "scrapbook": {
       "data": true,
       "display": false,
       "name": "ABC-GAN Model 1 Manhattan Distance"
      }
     },
     "output_type": "display_data"
    },
    {
     "data": {
      "application/scrapbook.scrap.json+json": {
       "data": 1.0044811927519124,
       "encoder": "json",
       "name": "ABC-GAN Model 1 Euclidean distance",
       "version": 1
      }
     },
     "metadata": {
      "scrapbook": {
       "data": true,
       "display": false,
       "name": "ABC-GAN Model 1 Euclidean distance"
      }
     },
     "output_type": "display_data"
    },
    {
     "data": {
      "application/scrapbook.scrap.json+json": {
       "data": [
        [
         0.042309442139006656,
         0.044371029251653746,
         0.05339926659934645,
         0.04404648136644561,
         0.05410322703429284,
         0.04381290544958556,
         0.046225763078524794,
         0.056026638831848365,
         0.057446686366612876,
         0.04967976051073055,
         0.05051357088357674,
         0.05160326663392023,
         0.06016765492874916,
         0.046617880957694334,
         0.04282213947640343,
         0.05099313092731718,
         0.05101118661305848,
         0.04683022669383665,
         0.0492162535803116,
         0.056953704622879034,
         0.05295625707856575,
         0.04892529813787665,
         0.04549433836576864,
         0.04865700384476883,
         0.05523816240131403,
         0.041560913844265635,
         0.05437783620163097,
         0.03983804501499517,
         0.05767902198591659,
         0.04770888476016448,
         0.038842847368296456,
         0.052653038861104375,
         0.043999578642523865,
         0.0566629326611147,
         0.057052182911065306,
         0.04958433583066252,
         0.04196275514976355,
         0.055302502371517306,
         0.05510914976843177,
         0.058620650705202906,
         0.04712496369962646,
         0.05596226699709887,
         0.04904634699821435,
         0.05530007555032455,
         0.05470977308310824,
         0.04611506084907406,
         0.06178893220062491,
         0.04155597327511081,
         0.05913601452462299,
         0.03727558714755915,
         0.04606784982364863,
         0.049028528381877746,
         0.053485117308319265,
         0.0537113698484904,
         0.06653886043776398,
         0.056589057214383454,
         0.05180509606482366,
         0.06526153891087111,
         0.051883443659264894,
         0.052450508996258846,
         0.056480777901087034,
         0.05992040590666727,
         0.05310898720742422,
         0.05112574083020188,
         0.05275992512112245,
         0.04987606225483693,
         0.04276422510111062,
         0.049218168905485804,
         0.04890674125676794,
         0.05449758736079209,
         0.04105738539429015,
         0.04985686592359364,
         0.04882008127985064,
         0.048868480119486066,
         0.05153152613344605,
         0.043489392256089165,
         0.054088721613344534,
         0.04236126754518062,
         0.038577634251763276,
         0.058343438629388046,
         0.051359837935836226,
         0.04220410430693655,
         0.049083755263197325,
         0.04164542728092729,
         0.05128443981950509,
         0.053370818938096684,
         0.042908783355524296,
         0.04726991068392194,
         0.0565966924316598,
         0.039136081836510836,
         0.04629146652811682,
         0.049761006007850155,
         0.05777783628820536,
         0.05412718415273088,
         0.055530588431798436,
         0.05842129930414297,
         0.0552943753783828,
         0.06222942561595168,
         0.04639554172484435,
         0.05245057473456971
        ],
        [
         0.14117282163351774,
         0.1382009582594037,
         0.16467316653579472,
         0.15170844364911318,
         0.16852820944041014,
         0.15124928895384074,
         0.16411521155387163,
         0.16109713781625032,
         0.16245838440954685,
         0.15903643071651458,
         0.16356162820011377,
         0.15870260782539844,
         0.17194326389580966,
         0.149291249550879,
         0.14498810302466153,
         0.16861454974859952,
         0.16666295509785414,
         0.1536602580919862,
         0.16644689161330462,
         0.15596122499555348,
         0.1544224750250578,
         0.1575184365734458,
         0.15577304195612668,
         0.16092829760164024,
         0.16992881912738084,
         0.1442071046680212,
         0.17583407890051603,
         0.13887790646404027,
         0.16857311856001617,
         0.16655830349773168,
         0.14282459560781718,
         0.15788125786930324,
         0.15127348322421313,
         0.18749116472899913,
         0.17099943216890096,
         0.16914226356893777,
         0.1509450538083911,
         0.16020525749772788,
         0.1764190411195159,
         0.17492851596325637,
         0.15839088018983602,
         0.1734712490811944,
         0.15462126899510623,
         0.16457195915281772,
         0.15897544119507073,
         0.15952134020626546,
         0.17641958985477685,
         0.15362471919506787,
         0.17755584064871072,
         0.14451906867325306,
         0.15269776694476606,
         0.1531004996970296,
         0.16195176132023334,
         0.18490341473370792,
         0.19527919087558984,
         0.1699994860216975,
         0.16327270921319723,
         0.18657053355127573,
         0.1570898300036788,
         0.16448476146906615,
         0.17597947735339403,
         0.1821751380339265,
         0.1626782851293683,
         0.1602827051654458,
         0.16645516585558653,
         0.16326807904988527,
         0.14588013831526042,
         0.1661736374720931,
         0.16163066253066063,
         0.16177061591297387,
         0.1517868936061859,
         0.15871193427592517,
         0.16578030269593,
         0.15064321663230656,
         0.17085428182035683,
         0.1528599001467228,
         0.16972880754619837,
         0.1423876194283366,
         0.14012865368276833,
         0.17482797112315893,
         0.17481430042535068,
         0.15127326790243387,
         0.16905563604086637,
         0.14255746472626923,
         0.1653063243255019,
         0.17129130456596614,
         0.1451629323884845,
         0.1666036032140255,
         0.1738309470936656,
         0.1453112630173564,
         0.15727566983550786,
         0.15872247088700533,
         0.17903517317026854,
         0.16043978165835143,
         0.17630660831928252,
         0.16784992795437575,
         0.16701076030731202,
         0.18551521934568882,
         0.14736043084412814,
         0.1692646935582161
        ],
        [
         2.823456432670355,
         2.764019165188074,
         3.2934633307158947,
         3.0341688729822636,
         3.3705641888082027,
         3.0249857790768147,
         3.2823042310774326,
         3.2219427563250065,
         3.249167688190937,
         3.1807286143302917,
         3.2712325640022755,
         3.174052156507969,
         3.438865277916193,
         2.98582499101758,
         2.899762060493231,
         3.3722909949719906,
         3.3332591019570827,
         3.0732051618397236,
         3.3289378322660923,
         3.11922449991107,
         3.088449500501156,
         3.150368731468916,
         3.115460839122534,
         3.2185659520328045,
         3.398576382547617,
         2.884142093360424,
         3.5166815780103207,
         2.7775581292808056,
         3.371462371200323,
         3.3311660699546337,
         2.8564919121563435,
         3.1576251573860645,
         3.0254696644842625,
         3.7498232945799828,
         3.4199886433780193,
         3.3828452713787556,
         3.018901076167822,
         3.2041051499545574,
         3.528380822390318,
         3.498570319265127,
         3.1678176037967205,
         3.469424981623888,
         3.0924253799021244,
         3.2914391830563545,
         3.179508823901415,
         3.190426804125309,
         3.528391797095537,
         3.0724943839013577,
         3.5511168129742146,
         2.890381373465061,
         3.053955338895321,
         3.062009993940592,
         3.239035226404667,
         3.698068294674158,
         3.905583817511797,
         3.3999897204339504,
         3.2654541842639446,
         3.7314106710255146,
         3.141796600073576,
         3.289695229381323,
         3.5195895470678806,
         3.6435027606785297,
         3.253565702587366,
         3.205654103308916,
         3.3291033171117306,
         3.2653615809977055,
         2.917602766305208,
         3.323472749441862,
         3.2326132506132126,
         3.2354123182594776,
         3.0357378721237183,
         3.174238685518503,
         3.3156060539186,
         3.0128643326461315,
         3.417085636407137,
         3.057198002934456,
         3.3945761509239674,
         2.8477523885667324,
         2.802573073655367,
         3.4965594224631786,
         3.4962860085070133,
         3.0254653580486774,
         3.3811127208173275,
         2.851149294525385,
         3.3061264865100384,
         3.4258260913193226,
         2.9032586477696896,
         3.33207206428051,
         3.476618941873312,
         2.906225260347128,
         3.1455133967101574,
         3.1744494177401066,
         3.5807034634053707,
         3.2087956331670284,
         3.5261321663856506,
         3.356998559087515,
         3.3402152061462402,
         3.7103043869137764,
         2.9472086168825626,
         3.385293871164322
        ],
        [
         0.9198852334830323,
         0.9420300340398255,
         1.0334337579094894,
         0.9385785142058773,
         1.0402233128928888,
         0.9360865926781086,
         0.9615171665500808,
         1.058552207799392,
         1.0718832619890366,
         0.9967924609539394,
         1.0051225883799124,
         1.0159061633233675,
         1.0969745204766532,
         0.9655866709694613,
         0.9254419428187101,
         1.0098824775914985,
         1.010061251737324,
         0.9677833093604854,
         0.9921315797847743,
         1.0672741411922153,
         1.029138057585723,
         0.9891946030774394,
         0.9538798495174183,
         0.986478624652038,
         1.0510771846188465,
         0.9117117290488878,
         1.0428598774680227,
         0.892614642664965,
         1.074048620742251,
         0.9768201959435983,
         0.8813948873041693,
         1.0261874961341555,
         0.9380786602681447,
         1.064546219392232,
         1.0681964511368245,
         0.9958346833753333,
         0.9161086742277201,
         1.0516891401123936,
         1.0498490345609865,
         1.0827802242856388,
         0.9708240180344372,
         1.0579439209816264,
         0.9904175583885247,
         1.0516660643980535,
         1.0460379828964934,
         0.9603651477336531,
         1.1116558118466786,
         0.9116575374021848,
         1.0875294435059952,
         0.8634302189240212,
         0.9598734273189213,
         0.9902376319033502,
         1.0342641568605115,
         1.0364494184328572,
         1.153593172983994,
         1.0638520311996726,
         1.017890918171723,
         1.1424669702960442,
         1.018660332586529,
         1.0242119799754235,
         1.0628337395951168,
         1.0947182825427488,
         1.0306210477903526,
         1.0111947471204732,
         1.027228554131187,
         0.9987598535667813,
         0.9248159287243124,
         0.9921508847497522,
         0.9890069894269498,
         1.0440075417427988,
         0.906172007891329,
         0.9985676333988964,
         0.9881303687252064,
         0.9886200495588391,
         1.0151997452072774,
         0.9326241714226494,
         1.0400838582859033,
         0.9204484509757254,
         0.878380717590764,
         1.0802170025452111,
         1.0135071577037453,
         0.9187394005585756,
         0.9907951883532471,
         0.9126382337041036,
         1.0127629517266623,
         1.0331584480426677,
         0.9263777129823914,
         0.9723159022038252,
         1.0639237983207237,
         0.8847155682648615,
         0.9622002549169981,
         0.9976071973261837,
         1.074968244072404,
         1.0404535948588085,
         1.0538556678388027,
         1.080937549575765,
         1.0516118616522239,
         1.115611272943687,
         0.9632812852416925,
         1.0242126218180452
        ]
       ],
       "encoder": "json",
       "name": "ABC_GAN_1 Metrics",
       "version": 1
      }
     },
     "metadata": {
      "scrapbook": {
       "data": true,
       "display": false,
       "name": "ABC_GAN_1 Metrics"
      }
     },
     "output_type": "display_data"
    },
    {
     "name": "stdout",
     "output_type": "stream",
     "text": [
      "MSE\n",
      "0.05064004881832448\n"
     ]
    }
   ],
   "source": [
    "ABC_GAN1_metrics=ABC_train_test2.test_generator(gen,test_data,prior_model,variance,bias,\"1\",device)\n",
    "sb.glue(\"ABC_GAN_1 Metrics\",ABC_GAN1_metrics)\n",
    "\n",
    "print(\"MSE\")\n",
    "print(mean(ABC_GAN1_metrics[0]))"
   ]
  },
  {
   "cell_type": "code",
   "execution_count": 14,
   "id": "eb22ce5c",
   "metadata": {
    "execution": {
     "iopub.execute_input": "2022-06-07T07:05:43.523562Z",
     "iopub.status.busy": "2022-06-07T07:05:43.523170Z",
     "iopub.status.idle": "2022-06-07T07:05:43.875622Z",
     "shell.execute_reply": "2022-06-07T07:05:43.878270Z"
    },
    "papermill": {
     "duration": 0.370583,
     "end_time": "2022-06-07T07:05:43.879202",
     "exception": false,
     "start_time": "2022-06-07T07:05:43.508619",
     "status": "completed"
    },
    "tags": []
   },
   "outputs": [
    {
     "data": {
      "image/png": "[encoded data removed]",
      "text/plain": [
       "<Figure size 432x288 with 1 Axes>"
      ]
     },
     "metadata": {
      "needs_background": "light"
     },
     "output_type": "display_data"
    },
    {
     "data": {
      "image/png": "[encoded data removed]",
      "text/plain": [
       "<Figure size 432x288 with 1 Axes>"
      ]
     },
     "metadata": {
      "needs_background": "light"
     },
     "output_type": "display_data"
    },
    {
     "data": {
      "image/png": "[encoded data removed]",
      "text/plain": [
       "<Figure size 432x288 with 1 Axes>"
      ]
     },
     "metadata": {
      "needs_background": "light"
     },
     "output_type": "display_data"
    },
    {
     "data": {
      "image/png": "[encoded data removed]",
      "text/plain": [
       "<Figure size 432x288 with 1 Axes>"
      ]
     },
     "metadata": {
      "needs_background": "light"
     },
     "output_type": "display_data"
    }
   ],
   "source": [
    "sanityChecks.discProbVsError(train_data,disc,device)\n",
    "sanityChecks.discProbVsError(test_data,disc,device)"
   ]
  },
  {
   "cell_type": "markdown",
   "id": "130f3a4d",
   "metadata": {
    "id": "130f3a4d",
    "papermill": {
     "duration": 0.04418,
     "end_time": "2022-06-07T07:05:43.940717",
     "exception": false,
     "start_time": "2022-06-07T07:05:43.896537",
     "status": "completed"
    },
    "tags": []
   },
   "source": [
    "# ABC - GAN Model with skip connection"
   ]
  },
  {
   "cell_type": "code",
   "execution_count": 15,
   "id": "4e43dad1",
   "metadata": {
    "execution": {
     "iopub.execute_input": "2022-06-07T07:05:43.974542Z",
     "iopub.status.busy": "2022-06-07T07:05:43.974153Z",
     "iopub.status.idle": "2022-06-07T07:05:43.976655Z",
     "shell.execute_reply": "2022-06-07T07:05:43.976904Z"
    },
    "id": "4e43dad1",
    "papermill": {
     "duration": 0.02108,
     "end_time": "2022-06-07T07:05:43.977033",
     "exception": false,
     "start_time": "2022-06-07T07:05:43.955953",
     "status": "completed"
    },
    "tags": []
   },
   "outputs": [],
   "source": [
    "#Generator\n",
    "gen3 = network.GeneratorWithSkipConnection(n_features+1).to(device)\n",
    "constraints=network.weightConstraint()\n",
    "#Discriminator \n",
    "disc3 = network.Discriminator(n_features+1).to(device)\n",
    "\n",
    "criterion = torch.nn.BCELoss()\n",
    "gen_opt = torch.optim.Adam(gen3.parameters(), lr=0.001, betas=(0.5, 0.999))\n",
    "disc_opt = torch.optim.Adam(disc3.parameters(), lr=0.001, betas=(0.5, 0.999))\n"
   ]
  },
  {
   "cell_type": "code",
   "execution_count": 16,
   "id": "26acbc37",
   "metadata": {
    "execution": {
     "iopub.execute_input": "2022-06-07T07:05:44.012505Z",
     "iopub.status.busy": "2022-06-07T07:05:44.012113Z",
     "iopub.status.idle": "2022-06-07T07:06:27.396583Z",
     "shell.execute_reply": "2022-06-07T07:06:27.396889Z"
    },
    "id": "26acbc37",
    "papermill": {
     "duration": 43.402552,
     "end_time": "2022-06-07T07:06:27.397030",
     "exception": false,
     "start_time": "2022-06-07T07:05:43.994478",
     "status": "completed"
    },
    "tags": []
   },
   "outputs": [
    {
     "data": {
      "image/png": "[encoded data removed]",
      "text/plain": [
       "<Figure size 432x288 with 1 Axes>"
      ]
     },
     "metadata": {
      "needs_background": "light"
     },
     "output_type": "display_data"
    },
    {
     "data": {
      "image/png": "[encoded data removed]",
      "text/plain": [
       "<Figure size 432x288 with 1 Axes>"
      ]
     },
     "metadata": {
      "needs_background": "light"
     },
     "output_type": "display_data"
    }
   ],
   "source": [
    "ABC_train_test2.training_GAN_skip_connection(disc3,gen3,disc_opt,gen_opt,train_data,batch_size,n_epochs,criterion,prior_model,variance,bias,device)"
   ]
  },
  {
   "cell_type": "code",
   "execution_count": 17,
   "id": "c5e0717b",
   "metadata": {
    "execution": {
     "iopub.execute_input": "2022-06-07T07:06:27.432916Z",
     "iopub.status.busy": "2022-06-07T07:06:27.432137Z",
     "iopub.status.idle": "2022-06-07T07:06:27.752405Z",
     "shell.execute_reply": "2022-06-07T07:06:27.752712Z"
    },
    "id": "c5e0717b",
    "papermill": {
     "duration": 0.339647,
     "end_time": "2022-06-07T07:06:27.752851",
     "exception": false,
     "start_time": "2022-06-07T07:06:27.413204",
     "status": "completed"
    },
    "tags": []
   },
   "outputs": [
    {
     "data": {
      "application/scrapbook.scrap.json+json": {
       "data": 0.03744913347069888,
       "encoder": "json",
       "name": "ABC-GAN Model 3 MSE",
       "version": 1
      }
     },
     "metadata": {
      "scrapbook": {
       "data": true,
       "display": false,
       "name": "ABC-GAN Model 3 MSE"
      }
     },
     "output_type": "display_data"
    },
    {
     "data": {
      "application/scrapbook.scrap.json+json": {
       "data": 0.1626864210255444,
       "encoder": "json",
       "name": "ABC-GAN Model 3 MAE",
       "version": 1
      }
     },
     "metadata": {
      "scrapbook": {
       "data": true,
       "display": false,
       "name": "ABC-GAN Model 3 MAE"
      }
     },
     "output_type": "display_data"
    },
    {
     "data": {
      "application/scrapbook.scrap.json+json": {
       "data": 3.253728420510888,
       "encoder": "json",
       "name": "ABC-GAN Model 3 Manhattan Distance",
       "version": 1
      }
     },
     "metadata": {
      "scrapbook": {
       "data": true,
       "display": false,
       "name": "ABC-GAN Model 3 Manhattan Distance"
      }
     },
     "output_type": "display_data"
    },
    {
     "data": {
      "application/scrapbook.scrap.json+json": {
       "data": 0.8642104601829443,
       "encoder": "json",
       "name": "ABC-GAN Model 3 Euclidean distance",
       "version": 1
      }
     },
     "metadata": {
      "scrapbook": {
       "data": true,
       "display": false,
       "name": "ABC-GAN Model 3 Euclidean distance"
      }
     },
     "output_type": "display_data"
    },
    {
     "data": {
      "application/scrapbook.scrap.json+json": {
       "data": [
        [
         0.03404282424858002,
         0.04894753483936691,
         0.03988088691330186,
         0.03540339745678075,
         0.045595026343900044,
         0.037743510112507705,
         0.0395099588556974,
         0.04258824088843941,
         0.03556208071449055,
         0.03114080866304717,
         0.04001423331799059,
         0.037370110981343074,
         0.03854856353292678,
         0.029296668319331077,
         0.03841152661266946,
         0.03731752830109797,
         0.03996537755062949,
         0.0420770200175594,
         0.0330373081204823,
         0.05196910056957406,
         0.03281869571470199,
         0.03686164799886497,
         0.03621199578714694,
         0.0357937915537731,
         0.046120970993717515,
         0.03858019956796962,
         0.03522943135748439,
         0.03694966858444371,
         0.04611055476596627,
         0.03579060956498078,
         0.03805042894205736,
         0.040726350905561245,
         0.03863509912097729,
         0.04154434555179979,
         0.03696024447891416,
         0.03981045571293196,
         0.03578381094486086,
         0.03371467165209321,
         0.03683599958056831,
         0.02959059548544547,
         0.033695047641272416,
         0.032983163771423574,
         0.036641588922405474,
         0.03632564775962742,
         0.04528395013837523,
         0.034126362199841484,
         0.03485960709788888,
         0.03472227679650701,
         0.039601063964597574,
         0.033137927208360674,
         0.0315281437909534,
         0.03520011528508733,
         0.03725583305031085,
         0.03726114599359962,
         0.04435817549187158,
         0.036257864119108286,
         0.037561283552338176,
         0.03438416627462938,
         0.03088942998057605,
         0.03587329563937273,
         0.035981900502492156,
         0.03947209916018522,
         0.03581473841596331,
         0.0379211016433465,
         0.03901966498633939,
         0.033962960990014314,
         0.038276509470962006,
         0.03803646076498056,
         0.03653577938394091,
         0.03648792060691981,
         0.034482122605266084,
         0.03901847035175582,
         0.03289147208138218,
         0.04047251364979596,
         0.038590589487767266,
         0.0381670697211499,
         0.032561925417266116,
         0.03646018993623694,
         0.04048825649096498,
         0.035085380369127984,
         0.0360363941467441,
         0.0395644161916333,
         0.04155500617216148,
         0.03735668476162716,
         0.035005243514159436,
         0.03814939843145748,
         0.04307279118347455,
         0.04160517521522848,
         0.03339154940840024,
         0.03529647574429173,
         0.03609068239770543,
         0.03983578587289212,
         0.04342762352152431,
         0.04264096322335992,
         0.03361297194836791,
         0.03392142243221378,
         0.03447126568812701,
         0.04329024721115261,
         0.029387471829654767,
         0.0349872888377328
        ],
        [
         0.15694919619709252,
         0.1843619393184781,
         0.1697809973731637,
         0.16006332132965326,
         0.1776440916582942,
         0.17047666553407909,
         0.17034806106239558,
         0.16846306417137386,
         0.1502388658002019,
         0.14241456668823957,
         0.16977732433006168,
         0.16199556682258845,
         0.1681390369310975,
         0.1409408265724778,
         0.16801418904215099,
         0.1564937511458993,
         0.16628359574824572,
         0.17432986926287414,
         0.1549308205023408,
         0.18758187387138606,
         0.15130476746708155,
         0.16435381416231393,
         0.15473881606012582,
         0.1620343217626214,
         0.1842727864161134,
         0.16799810025840997,
         0.15555996242910625,
         0.16741195935755968,
         0.17995547857135535,
         0.15761346463114023,
         0.15893349442631005,
         0.1740063050761819,
         0.16375903356820345,
         0.1687366021797061,
         0.16659936923533677,
         0.16839573476463557,
         0.15619634818285705,
         0.15848979074507952,
         0.16168801011517644,
         0.14229247588664293,
         0.15434125009924174,
         0.1462156841531396,
         0.1685796005651355,
         0.15829401258379222,
         0.18224303591996432,
         0.15785068590193987,
         0.15301566366106273,
         0.16781134251505136,
         0.158881495334208,
         0.1514606738463044,
         0.15770190451294183,
         0.15981349740177392,
         0.1666195685043931,
         0.16912458930164576,
         0.18528299052268266,
         0.15938850585371256,
         0.1659968366846442,
         0.1565145069733262,
         0.1499233993701637,
         0.15784938130527734,
         0.16478152815252542,
         0.16462092120200394,
         0.15654785204678773,
         0.16528069656342267,
         0.1697270544245839,
         0.14869080279022456,
         0.16234892401844264,
         0.16434710416942835,
         0.15546349603682758,
         0.159873035736382,
         0.15251758936792612,
         0.16533851269632577,
         0.15507236812263728,
         0.16631777081638574,
         0.16784510854631662,
         0.16807200405746697,
         0.15240328703075648,
         0.15927466098219156,
         0.17275427524000406,
         0.15719198454171418,
         0.16002429220825434,
         0.1631427386775613,
         0.18134163450449706,
         0.1675923803821206,
         0.16035390980541706,
         0.16256391061469913,
         0.16595123689621688,
         0.1664955647662282,
         0.15832970682531594,
         0.15902855340391397,
         0.16466371957212686,
         0.1630972998216748,
         0.1647083619609475,
         0.1757707441225648,
         0.15091820005327464,
         0.1543728956952691,
         0.15475177261978387,
         0.18190189693123102,
         0.13933784309774638,
         0.1553495803847909
        ],
        [
         3.1389839239418507,
         3.687238786369562,
         3.395619947463274,
         3.2012664265930653,
         3.552881833165884,
         3.4095333106815815,
         3.4069612212479115,
         3.369261283427477,
         3.004777316004038,
         2.8482913337647915,
         3.3955464866012335,
         3.239911336451769,
         3.36278073862195,
         2.8188165314495564,
         3.3602837808430195,
         3.129875022917986,
         3.3256719149649143,
         3.4865973852574825,
         3.098616410046816,
         3.751637477427721,
         3.026095349341631,
         3.2870762832462788,
         3.0947763212025166,
         3.240686435252428,
         3.6854557283222675,
         3.3599620051681995,
         3.1111992485821247,
         3.3482391871511936,
         3.599109571427107,
         3.1522692926228046,
         3.1786698885262012,
         3.4801261015236378,
         3.275180671364069,
         3.374732043594122,
         3.3319873847067356,
         3.3679146952927113,
         3.1239269636571407,
         3.1697958149015903,
         3.233760202303529,
         2.8458495177328587,
         3.0868250019848347,
         2.924313683062792,
         3.3715920113027096,
         3.165880251675844,
         3.6448607183992863,
         3.1570137180387974,
         3.0603132732212543,
         3.3562268503010273,
         3.1776299066841602,
         3.0292134769260883,
         3.1540380902588367,
         3.1962699480354786,
         3.332391370087862,
         3.382491786032915,
         3.7056598104536533,
         3.187770117074251,
         3.3199367336928844,
         3.130290139466524,
         2.9984679874032736,
         3.156987626105547,
         3.2956305630505085,
         3.292418424040079,
         3.1309570409357548,
         3.3056139312684536,
         3.3945410884916782,
         2.973816055804491,
         3.2469784803688526,
         3.286942083388567,
         3.1092699207365513,
         3.19746071472764,
         3.0503517873585224,
         3.3067702539265156,
         3.1014473624527454,
         3.326355416327715,
         3.3569021709263325,
         3.3614400811493397,
         3.0480657406151295,
         3.1854932196438313,
         3.4550855048000813,
         3.143839690834284,
         3.2004858441650867,
         3.2628547735512257,
         3.626832690089941,
         3.351847607642412,
         3.207078196108341,
         3.2512782122939825,
         3.3190247379243374,
         3.329911295324564,
         3.166594136506319,
         3.1805710680782795,
         3.2932743914425373,
         3.2619459964334965,
         3.2941672392189503,
         3.515414882451296,
         3.0183640010654926,
         3.087457913905382,
         3.0950354523956776,
         3.6380379386246204,
         2.7867568619549274,
         3.106991607695818
        ],
        [
         0.8251402819954922,
         0.989419373565799,
         0.8930944733151344,
         0.8414677350532312,
         0.9549348286024555,
         0.8688326664267142,
         0.8889314805506373,
         0.9229110562609965,
         0.8433514180279837,
         0.7891870331302608,
         0.8945863101790748,
         0.8645242735903148,
         0.8780496971462012,
         0.7654628445500288,
         0.8764876110096418,
         0.8639158327186506,
         0.8940400164492581,
         0.9173551113670146,
         0.8128629419586343,
         1.019500863850287,
         0.8101690652536911,
         0.8586227110770477,
         0.8510228644066732,
         0.8460944575373733,
         0.9604266863609894,
         0.8784099221658374,
         0.8393977764741146,
         0.8596472367714992,
         0.9603182260684868,
         0.846056848739856,
         0.8723580565577114,
         0.9025115058054523,
         0.879034687836348,
         0.9115299836187484,
         0.8597702539506024,
         0.892305505002989,
         0.8459764883832276,
         0.8211537207136458,
         0.8583239432821189,
         0.7692931233989483,
         0.8209147049635841,
         0.812196574376223,
         0.8560559435271211,
         0.8523572931538442,
         0.9516716885394377,
         0.82615207074535,
         0.8349803242937989,
         0.8333339882244934,
         0.8899557737842659,
         0.8140998367320887,
         0.7940798925920918,
         0.8390484525352195,
         0.8632014023425918,
         0.8632629494377668,
         0.941893576704625,
         0.8515616726827046,
         0.866732756417319,
         0.8292667396517164,
         0.7859952923596432,
         0.8470335960205206,
         0.8483148059829223,
         0.8885054773065298,
         0.8463419925297729,
         0.8708742922299004,
         0.8833987206956934,
         0.8241718387571164,
         0.8749458208479197,
         0.8721979220908584,
         0.854819037971674,
         0.8542589842304242,
         0.8304471398622081,
         0.8833851974281187,
         0.8110668539816207,
         0.8996945442737324,
         0.8785281951965715,
         0.8736941080395346,
         0.806993499568195,
         0.8539343058600812,
         0.899869507106058,
         0.8376798955344217,
         0.8489569382099907,
         0.8895438852764185,
         0.9116469291580099,
         0.8643689578140478,
         0.8367226961683235,
         0.8734918251644659,
         0.9281464451634187,
         0.9121970753650605,
         0.8172092682832254,
         0.840196116919041,
         0.8495961675726349,
         0.8925893330405883,
         0.9319616249773839,
         0.923482140849079,
         0.8199142875736208,
         0.8236676809516539,
         0.830316393769592,
         0.9304864019549411,
         0.766648183062541,
         0.8365080852894705
        ]
       ],
       "encoder": "json",
       "name": "ABC_GAN_3 Metrics",
       "version": 1
      }
     },
     "metadata": {
      "scrapbook": {
       "data": true,
       "display": false,
       "name": "ABC_GAN_3 Metrics"
      }
     },
     "output_type": "display_data"
    },
    {
     "name": "stdout",
     "output_type": "stream",
     "text": [
      "MSE\n",
      "0.03744913347069888\n"
     ]
    }
   ],
   "source": [
    "ABC_GAN3_metrics=ABC_train_test2.test_generator(gen3,test_data,prior_model,variance,bias,\"3\",device)\n",
    "sb.glue(\"ABC_GAN_3 Metrics\",ABC_GAN3_metrics)\n",
    "\n",
    "print(\"MSE\")\n",
    "print(mean(ABC_GAN3_metrics[0]))"
   ]
  },
  {
   "cell_type": "code",
   "execution_count": 18,
   "id": "c8e46b48",
   "metadata": {
    "execution": {
     "iopub.execute_input": "2022-06-07T07:06:27.793721Z",
     "iopub.status.busy": "2022-06-07T07:06:27.793314Z",
     "iopub.status.idle": "2022-06-07T07:06:28.108965Z",
     "shell.execute_reply": "2022-06-07T07:06:28.109254Z"
    },
    "id": "c8e46b48",
    "papermill": {
     "duration": 0.338314,
     "end_time": "2022-06-07T07:06:28.109374",
     "exception": false,
     "start_time": "2022-06-07T07:06:27.771060",
     "status": "completed"
    },
    "tags": []
   },
   "outputs": [
    {
     "data": {
      "image/png": "[encoded data removed]",
      "text/plain": [
       "<Figure size 432x288 with 1 Axes>"
      ]
     },
     "metadata": {
      "needs_background": "light"
     },
     "output_type": "display_data"
    },
    {
     "data": {
      "image/png": "[encoded data removed]",
      "text/plain": [
       "<Figure size 432x288 with 1 Axes>"
      ]
     },
     "metadata": {
      "needs_background": "light"
     },
     "output_type": "display_data"
    },
    {
     "data": {
      "image/png": "[encoded data removed]",
      "text/plain": [
       "<Figure size 432x288 with 1 Axes>"
      ]
     },
     "metadata": {
      "needs_background": "light"
     },
     "output_type": "display_data"
    },
    {
     "data": {
      "image/png": "[encoded data removed]",
      "text/plain": [
       "<Figure size 432x288 with 1 Axes>"
      ]
     },
     "metadata": {
      "needs_background": "light"
     },
     "output_type": "display_data"
    }
   ],
   "source": [
    "sanityChecks.discProbVsError(train_data,disc3,device)\n",
    "sanityChecks.discProbVsError(test_data,disc3,device)"
   ]
  },
  {
   "cell_type": "markdown",
   "id": "a5bd74c3",
   "metadata": {
    "id": "a5bd74c3",
    "papermill": {
     "duration": 0.020479,
     "end_time": "2022-06-07T07:06:28.150380",
     "exception": false,
     "start_time": "2022-06-07T07:06:28.129901",
     "status": "completed"
    },
    "tags": []
   },
   "source": [
    "## Skip Connection Model Analysis - ABC-GAN "
   ]
  },
  {
   "cell_type": "markdown",
   "id": "5744a8bf",
   "metadata": {
    "id": "5744a8bf",
    "papermill": {
     "duration": 0.020187,
     "end_time": "2022-06-07T07:06:28.190046",
     "exception": false,
     "start_time": "2022-06-07T07:06:28.169859",
     "status": "completed"
    },
    "tags": []
   },
   "source": [
    "### Weight Analysis \n",
    "\n",
    "Study the weights of the skip connection layer\n",
    "\n",
    "Equation of the skip connection is \n",
    "\n",
    "$output = y_{gan} * w + y_{abc} * (1-w)$"
   ]
  },
  {
   "cell_type": "code",
   "execution_count": 19,
   "id": "52c31dea",
   "metadata": {
    "execution": {
     "iopub.execute_input": "2022-06-07T07:06:28.233339Z",
     "iopub.status.busy": "2022-06-07T07:06:28.232879Z",
     "iopub.status.idle": "2022-06-07T07:06:28.236473Z",
     "shell.execute_reply": "2022-06-07T07:06:28.236715Z"
    },
    "id": "52c31dea",
    "papermill": {
     "duration": 0.027057,
     "end_time": "2022-06-07T07:06:28.236839",
     "exception": false,
     "start_time": "2022-06-07T07:06:28.209782",
     "status": "completed"
    },
    "tags": []
   },
   "outputs": [
    {
     "name": "stdout",
     "output_type": "stream",
     "text": [
      "Weight of the node at skip connection\n",
      "Parameter containing:\n",
      "tensor([[0.1599]], requires_grad=True)\n"
     ]
    },
    {
     "data": {
      "application/scrapbook.scrap.json+json": {
       "data": 0.15994983911514282,
       "encoder": "json",
       "name": "Skip Connection Weight",
       "version": 1
      }
     },
     "metadata": {
      "scrapbook": {
       "data": true,
       "display": false,
       "name": "Skip Connection Weight"
      }
     },
     "output_type": "display_data"
    }
   ],
   "source": [
    "print(\"Weight of the node at skip connection\")\n",
    "for name,param in gen3.named_parameters():\n",
    "    if(name == \"skipNode.weight\"):\n",
    "        print(param)\n",
    "        sb.glue(\"Skip Connection Weight\",param.item())"
   ]
  }
 ],
 "metadata": {
  "colab": {
   "collapsed_sections": [],
   "name": "ABC_GAN_Model-Catboost_Pre-gen.ipynb",
   "provenance": []
  },
  "interpreter": {
   "hash": "31f2aee4e71d21fbe5cf8b01ff0e069b9275f58929596ceb00d14d90e3e16cd6"
  },
  "kernelspec": {
   "display_name": "Python 3 (ipykernel)",
   "language": "python",
   "name": "python3"
  },
  "language_info": {
   "codemirror_mode": {
    "name": "ipython",
    "version": 3
   },
   "file_extension": ".py",
   "mimetype": "text/x-python",
   "name": "python",
   "nbconvert_exporter": "python",
   "pygments_lexer": "ipython3",
   "version": "3.8.11"
  },
  "papermill": {
   "default_parameters": {},
   "duration": 65.950831,
   "end_time": "2022-06-07T07:06:28.567400",
   "environment_variables": {},
   "exception": null,
   "input_path": "ABC_GAN-Catboost.ipynb",
   "output_path": "./ABC_GAN_Catboost/ABC-GAN_output_9_0.ipynb",
   "parameters": {
    "bias": 1,
    "variance": 1
   },
   "start_time": "2022-06-07T07:05:22.616569",
   "version": "2.3.3"
  }
 },
 "nbformat": 4,
 "nbformat_minor": 5
}