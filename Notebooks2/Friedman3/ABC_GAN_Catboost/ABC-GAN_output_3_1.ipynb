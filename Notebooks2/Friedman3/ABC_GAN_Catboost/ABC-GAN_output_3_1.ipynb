{
 "cells": [
  {
   "cell_type": "markdown",
   "id": "622780e6",
   "metadata": {
    "id": "622780e6",
    "papermill": {
     "duration": 0.031237,
     "end_time": "2022-06-07T06:14:18.414693",
     "exception": false,
     "start_time": "2022-06-07T06:14:18.383456",
     "status": "completed"
    },
    "tags": []
   },
   "source": [
    "## Import Libraries "
   ]
  },
  {
   "cell_type": "code",
   "execution_count": 1,
   "id": "a62397e3",
   "metadata": {
    "execution": {
     "iopub.execute_input": "2022-06-07T06:14:18.453801Z",
     "iopub.status.busy": "2022-06-07T06:14:18.453149Z",
     "iopub.status.idle": "2022-06-07T06:14:18.455525Z",
     "shell.execute_reply": "2022-06-07T06:14:18.455850Z"
    },
    "id": "a62397e3",
    "papermill": {
     "duration": 0.023566,
     "end_time": "2022-06-07T06:14:18.456064",
     "exception": false,
     "start_time": "2022-06-07T06:14:18.432498",
     "status": "completed"
    },
    "tags": []
   },
   "outputs": [],
   "source": [
    "import warnings\n",
    "import sys\n",
    "sys.path.insert(0, '../../src')\n",
    "warnings.filterwarnings('ignore')"
   ]
  },
  {
   "cell_type": "code",
   "execution_count": 2,
   "id": "d6a4e155",
   "metadata": {
    "execution": {
     "iopub.execute_input": "2022-06-07T06:14:18.476576Z",
     "iopub.status.busy": "2022-06-07T06:14:18.476120Z",
     "iopub.status.idle": "2022-06-07T06:14:20.304201Z",
     "shell.execute_reply": "2022-06-07T06:14:20.304496Z"
    },
    "id": "d6a4e155",
    "papermill": {
     "duration": 1.838999,
     "end_time": "2022-06-07T06:14:20.304621",
     "exception": false,
     "start_time": "2022-06-07T06:14:18.465622",
     "status": "completed"
    },
    "tags": []
   },
   "outputs": [],
   "source": [
    "import ABC_train_test2\n",
    "import friedman1Dataset\n",
    "import network\n",
    "import dataset\n",
    "import sanityChecks\n",
    "import torch \n",
    "import scrapbook as sb\n",
    "from statistics import mean \n",
    "import catboost as ctb \n",
    "from sklearn.model_selection import train_test_split\n",
    "from sklearn.metrics import mean_squared_error,mean_absolute_error\n",
    "import numpy as np"
   ]
  },
  {
   "cell_type": "markdown",
   "id": "2fa5b0f7",
   "metadata": {
    "id": "2fa5b0f7",
    "papermill": {
     "duration": 0.006762,
     "end_time": "2022-06-07T06:14:20.318638",
     "exception": false,
     "start_time": "2022-06-07T06:14:20.311876",
     "status": "completed"
    },
    "tags": []
   },
   "source": [
    "## Parameters "
   ]
  },
  {
   "cell_type": "code",
   "execution_count": 3,
   "id": "783186fb",
   "metadata": {
    "execution": {
     "iopub.execute_input": "2022-06-07T06:14:20.334502Z",
     "iopub.status.busy": "2022-06-07T06:14:20.334132Z",
     "iopub.status.idle": "2022-06-07T06:14:20.335426Z",
     "shell.execute_reply": "2022-06-07T06:14:20.335671Z"
    },
    "id": "783186fb",
    "papermill": {
     "duration": 0.010369,
     "end_time": "2022-06-07T06:14:20.335779",
     "exception": false,
     "start_time": "2022-06-07T06:14:20.325410",
     "status": "completed"
    },
    "tags": [
     "parameters"
    ]
   },
   "outputs": [],
   "source": [
    "variance = 1\n",
    "bias = 1 "
   ]
  },
  {
   "cell_type": "code",
   "execution_count": 4,
   "id": "26c3ba36",
   "metadata": {
    "execution": {
     "iopub.execute_input": "2022-06-07T06:14:20.351251Z",
     "iopub.status.busy": "2022-06-07T06:14:20.350895Z",
     "iopub.status.idle": "2022-06-07T06:14:20.352484Z",
     "shell.execute_reply": "2022-06-07T06:14:20.352227Z"
    },
    "papermill": {
     "duration": 0.009991,
     "end_time": "2022-06-07T06:14:20.352582",
     "exception": false,
     "start_time": "2022-06-07T06:14:20.342591",
     "status": "completed"
    },
    "tags": [
     "injected-parameters"
    ]
   },
   "outputs": [],
   "source": [
    "# Parameters\n",
    "variance = 0.1\n",
    "bias = 1\n"
   ]
  },
  {
   "cell_type": "markdown",
   "id": "391cdbfd",
   "metadata": {
    "id": "391cdbfd",
    "papermill": {
     "duration": 0.00672,
     "end_time": "2022-06-07T06:14:20.366181",
     "exception": false,
     "start_time": "2022-06-07T06:14:20.359461",
     "status": "completed"
    },
    "tags": []
   },
   "source": [
    "## Dataset \n"
   ]
  },
  {
   "cell_type": "code",
   "execution_count": 5,
   "id": "5b51f161",
   "metadata": {
    "execution": {
     "iopub.execute_input": "2022-06-07T06:14:20.381735Z",
     "iopub.status.busy": "2022-06-07T06:14:20.381366Z",
     "iopub.status.idle": "2022-06-07T06:14:20.382673Z",
     "shell.execute_reply": "2022-06-07T06:14:20.382905Z"
    },
    "id": "5b51f161",
    "papermill": {
     "duration": 0.010015,
     "end_time": "2022-06-07T06:14:20.383017",
     "exception": false,
     "start_time": "2022-06-07T06:14:20.373002",
     "status": "completed"
    },
    "tags": []
   },
   "outputs": [],
   "source": [
    "#Parameters \n",
    "n_features = 5\n",
    "n_samples= 100\n",
    "n_target = 1 "
   ]
  },
  {
   "cell_type": "code",
   "execution_count": 6,
   "id": "5d6eced4",
   "metadata": {
    "execution": {
     "iopub.execute_input": "2022-06-07T06:14:20.399956Z",
     "iopub.status.busy": "2022-06-07T06:14:20.398422Z",
     "iopub.status.idle": "2022-06-07T06:14:20.404973Z",
     "shell.execute_reply": "2022-06-07T06:14:20.405213Z"
    },
    "id": "5d6eced4",
    "papermill": {
     "duration": 0.015449,
     "end_time": "2022-06-07T06:14:20.405328",
     "exception": false,
     "start_time": "2022-06-07T06:14:20.389879",
     "status": "completed"
    },
    "tags": []
   },
   "outputs": [
    {
     "name": "stdout",
     "output_type": "stream",
     "text": [
      "         X0        X1        X2        X3        X4         Y\n",
      "0  1.055812 -0.026036 -0.158892  0.772813 -0.009035  0.959863\n",
      "1  0.368251 -1.273754  0.235294 -0.711072  0.316239 -1.250706\n",
      "2  0.351719 -0.559919 -0.967303 -0.260721  1.201047  0.313469\n",
      "3  1.627348  0.083467 -0.835476 -1.340553  0.414073  0.338383\n",
      "4  0.299802  0.177045 -0.270291 -0.300482 -0.737366 -0.040262\n"
     ]
    }
   ],
   "source": [
    "X,Y = friedman1Dataset.friedman1_data(n_samples,n_features)"
   ]
  },
  {
   "cell_type": "code",
   "execution_count": 7,
   "id": "fe007438",
   "metadata": {
    "execution": {
     "iopub.execute_input": "2022-06-07T06:14:20.422209Z",
     "iopub.status.busy": "2022-06-07T06:14:20.421775Z",
     "iopub.status.idle": "2022-06-07T06:14:20.423295Z",
     "shell.execute_reply": "2022-06-07T06:14:20.423602Z"
    },
    "id": "fe007438",
    "papermill": {
     "duration": 0.011052,
     "end_time": "2022-06-07T06:14:20.423710",
     "exception": false,
     "start_time": "2022-06-07T06:14:20.412658",
     "status": "completed"
    },
    "tags": []
   },
   "outputs": [],
   "source": [
    "#Train test split for dataset \n",
    "X_train,X_test,Y_train,Y_test = train_test_split(X,Y,test_size = 0.2)\n",
    "train_data = dataset.CustomDataset(X_train,Y_train)\n",
    "test_data = dataset.CustomDataset(X_test,Y_test)\n"
   ]
  },
  {
   "cell_type": "markdown",
   "id": "a9a1af34",
   "metadata": {
    "id": "a9a1af34",
    "papermill": {
     "duration": 0.007015,
     "end_time": "2022-06-07T06:14:20.437777",
     "exception": false,
     "start_time": "2022-06-07T06:14:20.430762",
     "status": "completed"
    },
    "tags": []
   },
   "source": [
    "## Training Parameters "
   ]
  },
  {
   "cell_type": "code",
   "execution_count": 8,
   "id": "952b7fc8",
   "metadata": {
    "execution": {
     "iopub.execute_input": "2022-06-07T06:14:20.454129Z",
     "iopub.status.busy": "2022-06-07T06:14:20.453726Z",
     "iopub.status.idle": "2022-06-07T06:14:20.454997Z",
     "shell.execute_reply": "2022-06-07T06:14:20.455241Z"
    },
    "id": "952b7fc8",
    "papermill": {
     "duration": 0.010566,
     "end_time": "2022-06-07T06:14:20.455347",
     "exception": false,
     "start_time": "2022-06-07T06:14:20.444781",
     "status": "completed"
    },
    "tags": []
   },
   "outputs": [],
   "source": [
    "batch_size = 32\n",
    "n_epochs = 1000\n",
    "#Select the device \n",
    "device = torch.device('cuda' if torch.cuda.is_available() else 'cpu')"
   ]
  },
  {
   "cell_type": "markdown",
   "id": "a95e1600",
   "metadata": {
    "id": "a95e1600",
    "papermill": {
     "duration": 0.007,
     "end_time": "2022-06-07T06:14:20.469490",
     "exception": false,
     "start_time": "2022-06-07T06:14:20.462490",
     "status": "completed"
    },
    "tags": []
   },
   "source": [
    "# ABC Pre-generator Model \n",
    "\n",
    "1. The catboost model is used as a pre-generator model for the ABC-GAN. \n",
    "2. The model is first trained on the entire dataset \n",
    "3. It generats X,Y pairs and we add some Gaussian noise with mean 0 and variance 1 to it which is then feed as input to the generator.\n"
   ]
  },
  {
   "cell_type": "code",
   "execution_count": 9,
   "id": "ff8ce7bd",
   "metadata": {
    "execution": {
     "iopub.execute_input": "2022-06-07T06:14:20.487051Z",
     "iopub.status.busy": "2022-06-07T06:14:20.486678Z",
     "iopub.status.idle": "2022-06-07T06:14:21.114349Z",
     "shell.execute_reply": "2022-06-07T06:14:21.114715Z"
    },
    "id": "ff8ce7bd",
    "papermill": {
     "duration": 0.638286,
     "end_time": "2022-06-07T06:14:21.114841",
     "exception": false,
     "start_time": "2022-06-07T06:14:20.476555",
     "status": "completed"
    },
    "tags": []
   },
   "outputs": [
    {
     "name": "stdout",
     "output_type": "stream",
     "text": [
      "Learning rate set to 0.024897\n",
      "0:\tlearn: 0.9962349\ttotal: 57.1ms\tremaining: 57.1s\n",
      "1:\tlearn: 0.9840443\ttotal: 57.8ms\tremaining: 28.8s\n",
      "2:\tlearn: 0.9743232\ttotal: 58.3ms\tremaining: 19.4s\n",
      "3:\tlearn: 0.9621815\ttotal: 58.8ms\tremaining: 14.7s\n",
      "4:\tlearn: 0.9534604\ttotal: 59.4ms\tremaining: 11.8s\n",
      "5:\tlearn: 0.9426959\ttotal: 59.8ms\tremaining: 9.91s\n",
      "6:\tlearn: 0.9319860\ttotal: 60.2ms\tremaining: 8.54s\n",
      "7:\tlearn: 0.9226578\ttotal: 60.8ms\tremaining: 7.54s\n",
      "8:\tlearn: 0.9123617\ttotal: 61.3ms\tremaining: 6.75s\n",
      "9:\tlearn: 0.9040262\ttotal: 61.9ms\tremaining: 6.12s\n",
      "10:\tlearn: 0.8965664\ttotal: 62.4ms\tremaining: 5.61s\n",
      "11:\tlearn: 0.8864079\ttotal: 63ms\tremaining: 5.18s\n",
      "12:\tlearn: 0.8765373\ttotal: 63.5ms\tremaining: 4.82s\n",
      "13:\tlearn: 0.8689918\ttotal: 63.9ms\tremaining: 4.5s\n",
      "14:\tlearn: 0.8618747\ttotal: 64.4ms\tremaining: 4.23s\n",
      "15:\tlearn: 0.8550931\ttotal: 64.9ms\tremaining: 3.99s\n",
      "16:\tlearn: 0.8463813\ttotal: 65.4ms\tremaining: 3.78s\n",
      "17:\tlearn: 0.8379753\ttotal: 66ms\tremaining: 3.6s\n",
      "18:\tlearn: 0.8307176\ttotal: 66.5ms\tremaining: 3.44s\n",
      "19:\tlearn: 0.8236217\ttotal: 67ms\tremaining: 3.28s\n",
      "20:\tlearn: 0.8158734\ttotal: 67.5ms\tremaining: 3.14s\n",
      "21:\tlearn: 0.8081297\ttotal: 67.9ms\tremaining: 3.02s\n",
      "22:\tlearn: 0.8011133\ttotal: 68.4ms\tremaining: 2.9s\n",
      "23:\tlearn: 0.7932415\ttotal: 68.8ms\tremaining: 2.8s\n",
      "24:\tlearn: 0.7860373\ttotal: 69.1ms\tremaining: 2.69s\n",
      "25:\tlearn: 0.7790603\ttotal: 69.4ms\tremaining: 2.6s\n",
      "26:\tlearn: 0.7731974\ttotal: 69.7ms\tremaining: 2.51s\n",
      "27:\tlearn: 0.7654390\ttotal: 70.1ms\tremaining: 2.43s\n",
      "28:\tlearn: 0.7574635\ttotal: 70.5ms\tremaining: 2.36s\n",
      "29:\tlearn: 0.7510705\ttotal: 71.7ms\tremaining: 2.32s\n",
      "30:\tlearn: 0.7449981\ttotal: 73ms\tremaining: 2.28s\n",
      "31:\tlearn: 0.7378147\ttotal: 73.4ms\tremaining: 2.22s\n",
      "32:\tlearn: 0.7298907\ttotal: 73.8ms\tremaining: 2.16s\n",
      "33:\tlearn: 0.7241168\ttotal: 74.2ms\tremaining: 2.11s\n",
      "34:\tlearn: 0.7181511\ttotal: 74.8ms\tremaining: 2.06s\n",
      "35:\tlearn: 0.7128312\ttotal: 75.3ms\tremaining: 2.02s\n",
      "36:\tlearn: 0.7060367\ttotal: 75.8ms\tremaining: 1.97s\n",
      "37:\tlearn: 0.6999341\ttotal: 76.3ms\tremaining: 1.93s\n",
      "38:\tlearn: 0.6943804\ttotal: 76.7ms\tremaining: 1.89s\n",
      "39:\tlearn: 0.6881182\ttotal: 77.2ms\tremaining: 1.85s\n",
      "40:\tlearn: 0.6821828\ttotal: 77.6ms\tremaining: 1.82s\n",
      "41:\tlearn: 0.6757388\ttotal: 78ms\tremaining: 1.78s\n",
      "42:\tlearn: 0.6685947\ttotal: 78.4ms\tremaining: 1.74s\n",
      "43:\tlearn: 0.6621136\ttotal: 78.8ms\tremaining: 1.71s\n",
      "44:\tlearn: 0.6565154\ttotal: 79.2ms\tremaining: 1.68s\n",
      "45:\tlearn: 0.6513204\ttotal: 79.8ms\tremaining: 1.65s\n",
      "46:\tlearn: 0.6458803\ttotal: 80.3ms\tremaining: 1.63s\n",
      "47:\tlearn: 0.6390734\ttotal: 80.7ms\tremaining: 1.6s\n",
      "48:\tlearn: 0.6331168\ttotal: 81.2ms\tremaining: 1.57s\n",
      "49:\tlearn: 0.6272661\ttotal: 81.7ms\tremaining: 1.55s\n",
      "50:\tlearn: 0.6213797\ttotal: 82.3ms\tremaining: 1.53s\n",
      "51:\tlearn: 0.6158416\ttotal: 82.7ms\tremaining: 1.51s\n",
      "52:\tlearn: 0.6098043\ttotal: 83.3ms\tremaining: 1.49s\n",
      "53:\tlearn: 0.6052024\ttotal: 83.8ms\tremaining: 1.47s\n",
      "54:\tlearn: 0.6004628\ttotal: 84.5ms\tremaining: 1.45s\n",
      "55:\tlearn: 0.5950274\ttotal: 84.8ms\tremaining: 1.43s\n",
      "56:\tlearn: 0.5910994\ttotal: 85.2ms\tremaining: 1.41s\n",
      "57:\tlearn: 0.5868763\ttotal: 85.6ms\tremaining: 1.39s\n",
      "58:\tlearn: 0.5820129\ttotal: 86.2ms\tremaining: 1.37s\n",
      "59:\tlearn: 0.5766323\ttotal: 86.6ms\tremaining: 1.36s\n",
      "60:\tlearn: 0.5724369\ttotal: 87ms\tremaining: 1.34s\n",
      "61:\tlearn: 0.5667885\ttotal: 87.6ms\tremaining: 1.32s\n",
      "62:\tlearn: 0.5621407\ttotal: 88.1ms\tremaining: 1.31s\n",
      "63:\tlearn: 0.5565646\ttotal: 88.4ms\tremaining: 1.29s\n",
      "64:\tlearn: 0.5522247\ttotal: 88.8ms\tremaining: 1.28s\n",
      "65:\tlearn: 0.5468218\ttotal: 89.4ms\tremaining: 1.26s\n",
      "66:\tlearn: 0.5420376\ttotal: 89.9ms\tremaining: 1.25s\n",
      "67:\tlearn: 0.5374961\ttotal: 90.4ms\tremaining: 1.24s\n",
      "68:\tlearn: 0.5332632\ttotal: 90.8ms\tremaining: 1.23s\n",
      "69:\tlearn: 0.5288341\ttotal: 91.4ms\tremaining: 1.21s\n",
      "70:\tlearn: 0.5247218\ttotal: 92ms\tremaining: 1.2s\n",
      "71:\tlearn: 0.5203293\ttotal: 92.4ms\tremaining: 1.19s\n",
      "72:\tlearn: 0.5159806\ttotal: 92.8ms\tremaining: 1.18s\n",
      "73:\tlearn: 0.5108379\ttotal: 93.2ms\tremaining: 1.17s\n",
      "74:\tlearn: 0.5063461\ttotal: 93.7ms\tremaining: 1.16s\n",
      "75:\tlearn: 0.5018074\ttotal: 94ms\tremaining: 1.14s\n",
      "76:\tlearn: 0.4980811\ttotal: 94.5ms\tremaining: 1.13s\n",
      "77:\tlearn: 0.4943377\ttotal: 94.9ms\tremaining: 1.12s\n",
      "78:\tlearn: 0.4910092\ttotal: 95.3ms\tremaining: 1.11s\n",
      "79:\tlearn: 0.4869615\ttotal: 95.8ms\tremaining: 1.1s\n",
      "80:\tlearn: 0.4825670\ttotal: 96.2ms\tremaining: 1.09s\n",
      "81:\tlearn: 0.4782669\ttotal: 96.7ms\tremaining: 1.08s\n",
      "82:\tlearn: 0.4749441\ttotal: 97.1ms\tremaining: 1.07s\n",
      "83:\tlearn: 0.4711798\ttotal: 97.6ms\tremaining: 1.06s\n",
      "84:\tlearn: 0.4669882\ttotal: 98.1ms\tremaining: 1.05s\n",
      "85:\tlearn: 0.4629551\ttotal: 98.5ms\tremaining: 1.05s\n",
      "86:\tlearn: 0.4597362\ttotal: 98.8ms\tremaining: 1.04s\n",
      "87:\tlearn: 0.4566665\ttotal: 99.4ms\tremaining: 1.03s\n",
      "88:\tlearn: 0.4531839\ttotal: 99.7ms\tremaining: 1.02s\n",
      "89:\tlearn: 0.4501805\ttotal: 100ms\tremaining: 1.01s\n",
      "90:\tlearn: 0.4474760\ttotal: 101ms\tremaining: 1s\n",
      "91:\tlearn: 0.4438377\ttotal: 101ms\tremaining: 997ms\n",
      "92:\tlearn: 0.4404855\ttotal: 102ms\tremaining: 990ms\n",
      "93:\tlearn: 0.4366031\ttotal: 102ms\tremaining: 983ms\n",
      "94:\tlearn: 0.4329038\ttotal: 102ms\tremaining: 975ms\n",
      "95:\tlearn: 0.4298435\ttotal: 103ms\tremaining: 968ms\n",
      "96:\tlearn: 0.4265056\ttotal: 103ms\tremaining: 960ms\n",
      "97:\tlearn: 0.4236797\ttotal: 104ms\tremaining: 954ms\n",
      "98:\tlearn: 0.4209392\ttotal: 104ms\tremaining: 947ms\n",
      "99:\tlearn: 0.4173828\ttotal: 104ms\tremaining: 939ms\n",
      "100:\tlearn: 0.4149964\ttotal: 105ms\tremaining: 932ms\n",
      "101:\tlearn: 0.4116593\ttotal: 105ms\tremaining: 926ms\n",
      "102:\tlearn: 0.4083230\ttotal: 106ms\tremaining: 922ms\n",
      "103:\tlearn: 0.4052973\ttotal: 106ms\tremaining: 916ms\n",
      "104:\tlearn: 0.4027088\ttotal: 107ms\tremaining: 911ms\n",
      "105:\tlearn: 0.3990833\ttotal: 107ms\tremaining: 905ms\n",
      "106:\tlearn: 0.3958756\ttotal: 108ms\tremaining: 900ms\n",
      "107:\tlearn: 0.3927220\ttotal: 108ms\tremaining: 895ms\n"
     ]
    },
    {
     "name": "stdout",
     "output_type": "stream",
     "text": [
      "108:\tlearn: 0.3900694\ttotal: 109ms\tremaining: 891ms\n",
      "109:\tlearn: 0.3869718\ttotal: 110ms\tremaining: 887ms\n",
      "110:\tlearn: 0.3840205\ttotal: 110ms\tremaining: 881ms\n",
      "111:\tlearn: 0.3813311\ttotal: 110ms\tremaining: 876ms\n",
      "112:\tlearn: 0.3783375\ttotal: 111ms\tremaining: 871ms\n",
      "113:\tlearn: 0.3756332\ttotal: 111ms\tremaining: 866ms\n",
      "114:\tlearn: 0.3724716\ttotal: 112ms\tremaining: 861ms\n",
      "115:\tlearn: 0.3693122\ttotal: 112ms\tremaining: 857ms\n",
      "116:\tlearn: 0.3666995\ttotal: 113ms\tremaining: 852ms\n",
      "117:\tlearn: 0.3645586\ttotal: 113ms\tremaining: 847ms\n",
      "118:\tlearn: 0.3625479\ttotal: 114ms\tremaining: 841ms\n",
      "119:\tlearn: 0.3603301\ttotal: 114ms\tremaining: 836ms\n",
      "120:\tlearn: 0.3580419\ttotal: 114ms\tremaining: 832ms\n",
      "121:\tlearn: 0.3555265\ttotal: 115ms\tremaining: 827ms\n",
      "122:\tlearn: 0.3528508\ttotal: 115ms\tremaining: 823ms\n",
      "123:\tlearn: 0.3496039\ttotal: 116ms\tremaining: 820ms\n",
      "124:\tlearn: 0.3470648\ttotal: 117ms\tremaining: 817ms\n",
      "125:\tlearn: 0.3441342\ttotal: 117ms\tremaining: 814ms\n",
      "126:\tlearn: 0.3410881\ttotal: 118ms\tremaining: 810ms\n",
      "127:\tlearn: 0.3383574\ttotal: 118ms\tremaining: 805ms\n",
      "128:\tlearn: 0.3355231\ttotal: 119ms\tremaining: 801ms\n",
      "129:\tlearn: 0.3327807\ttotal: 119ms\tremaining: 797ms\n",
      "130:\tlearn: 0.3309423\ttotal: 120ms\tremaining: 793ms\n",
      "131:\tlearn: 0.3289823\ttotal: 120ms\tremaining: 788ms\n",
      "132:\tlearn: 0.3270514\ttotal: 120ms\tremaining: 785ms\n",
      "133:\tlearn: 0.3248843\ttotal: 121ms\tremaining: 782ms\n",
      "134:\tlearn: 0.3228503\ttotal: 121ms\tremaining: 778ms\n",
      "135:\tlearn: 0.3208486\ttotal: 122ms\tremaining: 774ms\n",
      "136:\tlearn: 0.3187395\ttotal: 122ms\tremaining: 770ms\n",
      "137:\tlearn: 0.3163050\ttotal: 123ms\tremaining: 767ms\n",
      "138:\tlearn: 0.3136828\ttotal: 123ms\tremaining: 763ms\n",
      "139:\tlearn: 0.3114930\ttotal: 124ms\tremaining: 759ms\n",
      "140:\tlearn: 0.3094414\ttotal: 124ms\tremaining: 755ms\n",
      "141:\tlearn: 0.3070027\ttotal: 124ms\tremaining: 752ms\n",
      "142:\tlearn: 0.3046416\ttotal: 125ms\tremaining: 749ms\n",
      "143:\tlearn: 0.3022886\ttotal: 126ms\tremaining: 746ms\n",
      "144:\tlearn: 0.3003692\ttotal: 126ms\tremaining: 743ms\n",
      "145:\tlearn: 0.2979097\ttotal: 127ms\tremaining: 740ms\n",
      "146:\tlearn: 0.2956111\ttotal: 127ms\tremaining: 737ms\n",
      "147:\tlearn: 0.2931397\ttotal: 128ms\tremaining: 734ms\n",
      "148:\tlearn: 0.2906501\ttotal: 128ms\tremaining: 732ms\n",
      "149:\tlearn: 0.2889319\ttotal: 129ms\tremaining: 729ms\n",
      "150:\tlearn: 0.2866281\ttotal: 129ms\tremaining: 726ms\n",
      "151:\tlearn: 0.2845062\ttotal: 130ms\tremaining: 723ms\n",
      "152:\tlearn: 0.2824341\ttotal: 130ms\tremaining: 721ms\n",
      "153:\tlearn: 0.2806877\ttotal: 131ms\tremaining: 717ms\n",
      "154:\tlearn: 0.2784672\ttotal: 131ms\tremaining: 713ms\n",
      "155:\tlearn: 0.2764497\ttotal: 131ms\tremaining: 710ms\n",
      "156:\tlearn: 0.2742873\ttotal: 132ms\tremaining: 706ms\n",
      "157:\tlearn: 0.2725716\ttotal: 132ms\tremaining: 703ms\n",
      "158:\tlearn: 0.2706508\ttotal: 132ms\tremaining: 700ms\n",
      "159:\tlearn: 0.2685811\ttotal: 133ms\tremaining: 696ms\n",
      "160:\tlearn: 0.2664628\ttotal: 133ms\tremaining: 693ms\n",
      "161:\tlearn: 0.2645018\ttotal: 133ms\tremaining: 690ms\n",
      "162:\tlearn: 0.2625624\ttotal: 134ms\tremaining: 686ms\n",
      "163:\tlearn: 0.2603492\ttotal: 134ms\tremaining: 683ms\n",
      "164:\tlearn: 0.2584410\ttotal: 134ms\tremaining: 680ms\n",
      "165:\tlearn: 0.2568634\ttotal: 135ms\tremaining: 678ms\n",
      "166:\tlearn: 0.2552307\ttotal: 136ms\tremaining: 676ms\n",
      "167:\tlearn: 0.2532537\ttotal: 136ms\tremaining: 674ms\n",
      "168:\tlearn: 0.2516349\ttotal: 137ms\tremaining: 671ms\n",
      "169:\tlearn: 0.2493655\ttotal: 137ms\tremaining: 670ms\n",
      "170:\tlearn: 0.2471786\ttotal: 138ms\tremaining: 667ms\n",
      "171:\tlearn: 0.2457015\ttotal: 138ms\tremaining: 665ms\n",
      "172:\tlearn: 0.2439741\ttotal: 139ms\tremaining: 663ms\n",
      "173:\tlearn: 0.2416666\ttotal: 139ms\tremaining: 660ms\n",
      "174:\tlearn: 0.2395531\ttotal: 140ms\tremaining: 658ms\n",
      "175:\tlearn: 0.2376915\ttotal: 140ms\tremaining: 656ms\n",
      "176:\tlearn: 0.2361213\ttotal: 141ms\tremaining: 653ms\n",
      "177:\tlearn: 0.2344030\ttotal: 141ms\tremaining: 651ms\n",
      "178:\tlearn: 0.2321862\ttotal: 141ms\tremaining: 649ms\n",
      "179:\tlearn: 0.2303880\ttotal: 142ms\tremaining: 647ms\n",
      "180:\tlearn: 0.2286538\ttotal: 143ms\tremaining: 645ms\n",
      "181:\tlearn: 0.2270628\ttotal: 143ms\tremaining: 642ms\n",
      "182:\tlearn: 0.2250654\ttotal: 143ms\tremaining: 640ms\n",
      "183:\tlearn: 0.2233264\ttotal: 144ms\tremaining: 637ms\n",
      "184:\tlearn: 0.2217890\ttotal: 144ms\tremaining: 635ms\n",
      "185:\tlearn: 0.2202193\ttotal: 145ms\tremaining: 634ms\n",
      "186:\tlearn: 0.2187858\ttotal: 145ms\tremaining: 631ms\n",
      "187:\tlearn: 0.2175307\ttotal: 146ms\tremaining: 630ms\n",
      "188:\tlearn: 0.2153207\ttotal: 146ms\tremaining: 627ms\n",
      "189:\tlearn: 0.2138085\ttotal: 147ms\tremaining: 625ms\n",
      "190:\tlearn: 0.2122229\ttotal: 147ms\tremaining: 622ms\n",
      "191:\tlearn: 0.2106645\ttotal: 147ms\tremaining: 620ms\n",
      "192:\tlearn: 0.2091284\ttotal: 148ms\tremaining: 618ms\n",
      "193:\tlearn: 0.2075398\ttotal: 148ms\tremaining: 616ms\n",
      "194:\tlearn: 0.2056910\ttotal: 149ms\tremaining: 614ms\n",
      "195:\tlearn: 0.2038301\ttotal: 149ms\tremaining: 612ms\n",
      "196:\tlearn: 0.2022320\ttotal: 150ms\tremaining: 610ms\n",
      "197:\tlearn: 0.2010038\ttotal: 150ms\tremaining: 608ms\n",
      "198:\tlearn: 0.1992118\ttotal: 151ms\tremaining: 606ms\n",
      "199:\tlearn: 0.1975742\ttotal: 151ms\tremaining: 604ms\n",
      "200:\tlearn: 0.1962425\ttotal: 151ms\tremaining: 602ms\n",
      "201:\tlearn: 0.1948021\ttotal: 152ms\tremaining: 600ms\n",
      "202:\tlearn: 0.1936062\ttotal: 152ms\tremaining: 598ms\n",
      "203:\tlearn: 0.1920197\ttotal: 153ms\tremaining: 597ms\n",
      "204:\tlearn: 0.1908498\ttotal: 153ms\tremaining: 595ms\n",
      "205:\tlearn: 0.1894359\ttotal: 154ms\tremaining: 593ms\n",
      "206:\tlearn: 0.1881584\ttotal: 154ms\tremaining: 591ms\n",
      "207:\tlearn: 0.1867944\ttotal: 155ms\tremaining: 590ms\n",
      "208:\tlearn: 0.1852399\ttotal: 155ms\tremaining: 588ms\n",
      "209:\tlearn: 0.1841382\ttotal: 156ms\tremaining: 587ms\n",
      "210:\tlearn: 0.1829267\ttotal: 156ms\tremaining: 585ms\n",
      "211:\tlearn: 0.1816768\ttotal: 157ms\tremaining: 583ms\n",
      "212:\tlearn: 0.1801612\ttotal: 157ms\tremaining: 582ms\n",
      "213:\tlearn: 0.1786981\ttotal: 158ms\tremaining: 580ms\n",
      "214:\tlearn: 0.1771558\ttotal: 159ms\tremaining: 579ms\n",
      "215:\tlearn: 0.1757583\ttotal: 159ms\tremaining: 577ms\n",
      "216:\tlearn: 0.1746633\ttotal: 159ms\tremaining: 575ms\n",
      "217:\tlearn: 0.1733441\ttotal: 160ms\tremaining: 574ms\n",
      "218:\tlearn: 0.1720038\ttotal: 160ms\tremaining: 572ms\n",
      "219:\tlearn: 0.1705863\ttotal: 165ms\tremaining: 587ms\n",
      "220:\tlearn: 0.1692567\ttotal: 166ms\tremaining: 585ms\n",
      "221:\tlearn: 0.1679898\ttotal: 166ms\tremaining: 583ms\n",
      "222:\tlearn: 0.1670132\ttotal: 167ms\tremaining: 581ms\n",
      "223:\tlearn: 0.1658144\ttotal: 167ms\tremaining: 580ms\n",
      "224:\tlearn: 0.1644243\ttotal: 168ms\tremaining: 578ms\n",
      "225:\tlearn: 0.1632136\ttotal: 168ms\tremaining: 576ms\n",
      "226:\tlearn: 0.1617753\ttotal: 169ms\tremaining: 574ms\n",
      "227:\tlearn: 0.1603971\ttotal: 169ms\tremaining: 573ms\n",
      "228:\tlearn: 0.1596080\ttotal: 170ms\tremaining: 572ms\n",
      "229:\tlearn: 0.1585835\ttotal: 170ms\tremaining: 570ms\n",
      "230:\tlearn: 0.1574970\ttotal: 171ms\tremaining: 569ms\n",
      "231:\tlearn: 0.1563739\ttotal: 171ms\tremaining: 567ms\n",
      "232:\tlearn: 0.1550782\ttotal: 172ms\tremaining: 565ms\n",
      "233:\tlearn: 0.1540127\ttotal: 172ms\tremaining: 564ms\n",
      "234:\tlearn: 0.1528978\ttotal: 173ms\tremaining: 562ms\n",
      "235:\tlearn: 0.1518952\ttotal: 173ms\tremaining: 561ms\n",
      "236:\tlearn: 0.1508337\ttotal: 174ms\tremaining: 559ms\n",
      "237:\tlearn: 0.1499465\ttotal: 174ms\tremaining: 557ms\n",
      "238:\tlearn: 0.1487885\ttotal: 175ms\tremaining: 556ms\n",
      "239:\tlearn: 0.1477174\ttotal: 175ms\tremaining: 554ms\n",
      "240:\tlearn: 0.1468644\ttotal: 175ms\tremaining: 552ms\n",
      "241:\tlearn: 0.1456976\ttotal: 176ms\tremaining: 551ms\n",
      "242:\tlearn: 0.1447180\ttotal: 176ms\tremaining: 550ms\n",
      "243:\tlearn: 0.1438634\ttotal: 177ms\tremaining: 548ms\n",
      "244:\tlearn: 0.1430520\ttotal: 177ms\tremaining: 546ms\n",
      "245:\tlearn: 0.1420710\ttotal: 178ms\tremaining: 545ms\n",
      "246:\tlearn: 0.1411089\ttotal: 178ms\tremaining: 544ms\n",
      "247:\tlearn: 0.1401439\ttotal: 179ms\tremaining: 542ms\n",
      "248:\tlearn: 0.1398888\ttotal: 179ms\tremaining: 541ms\n",
      "249:\tlearn: 0.1388685\ttotal: 180ms\tremaining: 540ms\n",
      "250:\tlearn: 0.1380040\ttotal: 180ms\tremaining: 539ms\n",
      "251:\tlearn: 0.1371343\ttotal: 181ms\tremaining: 537ms\n",
      "252:\tlearn: 0.1361776\ttotal: 182ms\tremaining: 536ms\n",
      "253:\tlearn: 0.1350896\ttotal: 182ms\tremaining: 535ms\n",
      "254:\tlearn: 0.1341130\ttotal: 183ms\tremaining: 533ms\n",
      "255:\tlearn: 0.1332275\ttotal: 183ms\tremaining: 532ms\n",
      "256:\tlearn: 0.1324785\ttotal: 184ms\tremaining: 531ms\n",
      "257:\tlearn: 0.1322103\ttotal: 184ms\tremaining: 529ms\n",
      "258:\tlearn: 0.1312867\ttotal: 184ms\tremaining: 527ms\n",
      "259:\tlearn: 0.1302741\ttotal: 185ms\tremaining: 526ms\n",
      "260:\tlearn: 0.1300039\ttotal: 185ms\tremaining: 524ms\n",
      "261:\tlearn: 0.1296998\ttotal: 186ms\tremaining: 523ms\n",
      "262:\tlearn: 0.1295412\ttotal: 186ms\tremaining: 520ms\n",
      "263:\tlearn: 0.1287768\ttotal: 186ms\tremaining: 519ms\n"
     ]
    },
    {
     "name": "stdout",
     "output_type": "stream",
     "text": [
      "264:\tlearn: 0.1281256\ttotal: 187ms\tremaining: 518ms\n",
      "265:\tlearn: 0.1277952\ttotal: 187ms\tremaining: 517ms\n",
      "266:\tlearn: 0.1268331\ttotal: 188ms\tremaining: 515ms\n",
      "267:\tlearn: 0.1265832\ttotal: 188ms\tremaining: 514ms\n",
      "268:\tlearn: 0.1257603\ttotal: 188ms\tremaining: 512ms\n",
      "269:\tlearn: 0.1255367\ttotal: 189ms\tremaining: 511ms\n",
      "270:\tlearn: 0.1247635\ttotal: 189ms\tremaining: 509ms\n",
      "271:\tlearn: 0.1245348\ttotal: 190ms\tremaining: 508ms\n",
      "272:\tlearn: 0.1237091\ttotal: 190ms\tremaining: 506ms\n",
      "273:\tlearn: 0.1227504\ttotal: 196ms\tremaining: 518ms\n",
      "274:\tlearn: 0.1218366\ttotal: 196ms\tremaining: 517ms\n",
      "275:\tlearn: 0.1209566\ttotal: 197ms\tremaining: 516ms\n",
      "276:\tlearn: 0.1202874\ttotal: 197ms\tremaining: 514ms\n",
      "277:\tlearn: 0.1194178\ttotal: 197ms\tremaining: 512ms\n",
      "278:\tlearn: 0.1191845\ttotal: 198ms\tremaining: 511ms\n",
      "279:\tlearn: 0.1184758\ttotal: 198ms\tremaining: 510ms\n",
      "280:\tlearn: 0.1182469\ttotal: 199ms\tremaining: 509ms\n",
      "281:\tlearn: 0.1175469\ttotal: 199ms\tremaining: 508ms\n",
      "282:\tlearn: 0.1173578\ttotal: 200ms\tremaining: 507ms\n",
      "283:\tlearn: 0.1169179\ttotal: 201ms\tremaining: 506ms\n",
      "284:\tlearn: 0.1166934\ttotal: 201ms\tremaining: 504ms\n",
      "285:\tlearn: 0.1159036\ttotal: 202ms\tremaining: 503ms\n",
      "286:\tlearn: 0.1151390\ttotal: 202ms\tremaining: 502ms\n",
      "287:\tlearn: 0.1143466\ttotal: 203ms\tremaining: 501ms\n",
      "288:\tlearn: 0.1141334\ttotal: 203ms\tremaining: 499ms\n",
      "289:\tlearn: 0.1134581\ttotal: 204ms\tremaining: 498ms\n",
      "290:\tlearn: 0.1126952\ttotal: 204ms\tremaining: 497ms\n",
      "291:\tlearn: 0.1118474\ttotal: 205ms\tremaining: 496ms\n",
      "292:\tlearn: 0.1111864\ttotal: 205ms\tremaining: 495ms\n",
      "293:\tlearn: 0.1109669\ttotal: 206ms\tremaining: 494ms\n",
      "294:\tlearn: 0.1102150\ttotal: 206ms\tremaining: 493ms\n",
      "295:\tlearn: 0.1094424\ttotal: 207ms\tremaining: 492ms\n",
      "296:\tlearn: 0.1092461\ttotal: 207ms\tremaining: 491ms\n",
      "297:\tlearn: 0.1090356\ttotal: 208ms\tremaining: 489ms\n",
      "298:\tlearn: 0.1082646\ttotal: 208ms\tremaining: 489ms\n",
      "299:\tlearn: 0.1080726\ttotal: 209ms\tremaining: 487ms\n",
      "300:\tlearn: 0.1073442\ttotal: 209ms\tremaining: 486ms\n",
      "301:\tlearn: 0.1071600\ttotal: 210ms\tremaining: 484ms\n",
      "302:\tlearn: 0.1064127\ttotal: 210ms\tremaining: 483ms\n",
      "303:\tlearn: 0.1062472\ttotal: 210ms\tremaining: 482ms\n",
      "304:\tlearn: 0.1055536\ttotal: 211ms\tremaining: 481ms\n",
      "305:\tlearn: 0.1048985\ttotal: 211ms\tremaining: 479ms\n",
      "306:\tlearn: 0.1047207\ttotal: 212ms\tremaining: 478ms\n",
      "307:\tlearn: 0.1040089\ttotal: 212ms\tremaining: 477ms\n",
      "308:\tlearn: 0.1038345\ttotal: 213ms\tremaining: 475ms\n",
      "309:\tlearn: 0.1031855\ttotal: 213ms\tremaining: 474ms\n",
      "310:\tlearn: 0.1024716\ttotal: 213ms\tremaining: 473ms\n",
      "311:\tlearn: 0.1018114\ttotal: 214ms\tremaining: 472ms\n",
      "312:\tlearn: 0.1010618\ttotal: 214ms\tremaining: 470ms\n",
      "313:\tlearn: 0.1008565\ttotal: 215ms\tremaining: 469ms\n",
      "314:\tlearn: 0.1001246\ttotal: 215ms\tremaining: 468ms\n",
      "315:\tlearn: 0.0994806\ttotal: 216ms\tremaining: 467ms\n",
      "316:\tlearn: 0.0992622\ttotal: 216ms\tremaining: 466ms\n",
      "317:\tlearn: 0.0986323\ttotal: 217ms\tremaining: 465ms\n",
      "318:\tlearn: 0.0980457\ttotal: 217ms\tremaining: 464ms\n",
      "319:\tlearn: 0.0974253\ttotal: 218ms\tremaining: 463ms\n",
      "320:\tlearn: 0.0972507\ttotal: 218ms\tremaining: 462ms\n",
      "321:\tlearn: 0.0966345\ttotal: 219ms\tremaining: 461ms\n",
      "322:\tlearn: 0.0959337\ttotal: 219ms\tremaining: 460ms\n",
      "323:\tlearn: 0.0957636\ttotal: 220ms\tremaining: 459ms\n",
      "324:\tlearn: 0.0955758\ttotal: 220ms\tremaining: 458ms\n",
      "325:\tlearn: 0.0949662\ttotal: 221ms\tremaining: 457ms\n",
      "326:\tlearn: 0.0942162\ttotal: 221ms\tremaining: 455ms\n",
      "327:\tlearn: 0.0940515\ttotal: 222ms\tremaining: 454ms\n",
      "328:\tlearn: 0.0934500\ttotal: 222ms\tremaining: 453ms\n",
      "329:\tlearn: 0.0928380\ttotal: 223ms\tremaining: 452ms\n",
      "330:\tlearn: 0.0922320\ttotal: 223ms\tremaining: 451ms\n",
      "331:\tlearn: 0.0916111\ttotal: 224ms\tremaining: 450ms\n",
      "332:\tlearn: 0.0909537\ttotal: 224ms\tremaining: 449ms\n",
      "333:\tlearn: 0.0906735\ttotal: 225ms\tremaining: 448ms\n",
      "334:\tlearn: 0.0905174\ttotal: 225ms\tremaining: 447ms\n",
      "335:\tlearn: 0.0899502\ttotal: 225ms\tremaining: 445ms\n",
      "336:\tlearn: 0.0897965\ttotal: 226ms\tremaining: 444ms\n",
      "337:\tlearn: 0.0891339\ttotal: 226ms\tremaining: 443ms\n",
      "338:\tlearn: 0.0884503\ttotal: 227ms\tremaining: 442ms\n",
      "339:\tlearn: 0.0878338\ttotal: 227ms\tremaining: 442ms\n",
      "340:\tlearn: 0.0876848\ttotal: 228ms\tremaining: 441ms\n",
      "341:\tlearn: 0.0870422\ttotal: 228ms\tremaining: 439ms\n",
      "342:\tlearn: 0.0864771\ttotal: 229ms\tremaining: 438ms\n",
      "343:\tlearn: 0.0858578\ttotal: 229ms\tremaining: 437ms\n",
      "344:\tlearn: 0.0857244\ttotal: 230ms\tremaining: 436ms\n",
      "345:\tlearn: 0.0855535\ttotal: 230ms\tremaining: 435ms\n",
      "346:\tlearn: 0.0854228\ttotal: 231ms\tremaining: 434ms\n",
      "347:\tlearn: 0.0849032\ttotal: 231ms\tremaining: 433ms\n",
      "348:\tlearn: 0.0847645\ttotal: 232ms\tremaining: 432ms\n",
      "349:\tlearn: 0.0842378\ttotal: 232ms\tremaining: 431ms\n",
      "350:\tlearn: 0.0836636\ttotal: 232ms\tremaining: 429ms\n",
      "351:\tlearn: 0.0831025\ttotal: 233ms\tremaining: 428ms\n",
      "352:\tlearn: 0.0825521\ttotal: 233ms\tremaining: 428ms\n",
      "353:\tlearn: 0.0819880\ttotal: 234ms\tremaining: 426ms\n",
      "354:\tlearn: 0.0815385\ttotal: 234ms\tremaining: 425ms\n",
      "355:\tlearn: 0.0814155\ttotal: 235ms\tremaining: 424ms\n",
      "356:\tlearn: 0.0812939\ttotal: 235ms\tremaining: 423ms\n",
      "357:\tlearn: 0.0808738\ttotal: 236ms\tremaining: 422ms\n",
      "358:\tlearn: 0.0804292\ttotal: 236ms\tremaining: 421ms\n",
      "359:\tlearn: 0.0797928\ttotal: 236ms\tremaining: 420ms\n",
      "360:\tlearn: 0.0793259\ttotal: 237ms\tremaining: 419ms\n",
      "361:\tlearn: 0.0787084\ttotal: 237ms\tremaining: 418ms\n",
      "362:\tlearn: 0.0785835\ttotal: 238ms\tremaining: 417ms\n",
      "363:\tlearn: 0.0781606\ttotal: 238ms\tremaining: 416ms\n",
      "364:\tlearn: 0.0775620\ttotal: 239ms\tremaining: 415ms\n",
      "365:\tlearn: 0.0774477\ttotal: 239ms\tremaining: 414ms\n",
      "366:\tlearn: 0.0770133\ttotal: 239ms\tremaining: 413ms\n",
      "367:\tlearn: 0.0765926\ttotal: 240ms\tremaining: 412ms\n",
      "368:\tlearn: 0.0760129\ttotal: 240ms\tremaining: 411ms\n",
      "369:\tlearn: 0.0754340\ttotal: 241ms\tremaining: 410ms\n",
      "370:\tlearn: 0.0750125\ttotal: 242ms\tremaining: 410ms\n",
      "371:\tlearn: 0.0745569\ttotal: 242ms\tremaining: 409ms\n",
      "372:\tlearn: 0.0741100\ttotal: 242ms\tremaining: 407ms\n",
      "373:\tlearn: 0.0737205\ttotal: 243ms\tremaining: 406ms\n",
      "374:\tlearn: 0.0733611\ttotal: 243ms\tremaining: 405ms\n",
      "375:\tlearn: 0.0730312\ttotal: 244ms\tremaining: 405ms\n",
      "376:\tlearn: 0.0724925\ttotal: 244ms\tremaining: 404ms\n",
      "377:\tlearn: 0.0721257\ttotal: 245ms\tremaining: 403ms\n",
      "378:\tlearn: 0.0717622\ttotal: 245ms\tremaining: 402ms\n",
      "379:\tlearn: 0.0716460\ttotal: 245ms\tremaining: 401ms\n",
      "380:\tlearn: 0.0712465\ttotal: 246ms\tremaining: 399ms\n",
      "381:\tlearn: 0.0708170\ttotal: 246ms\tremaining: 398ms\n",
      "382:\tlearn: 0.0704053\ttotal: 247ms\tremaining: 397ms\n",
      "383:\tlearn: 0.0699762\ttotal: 247ms\tremaining: 396ms\n",
      "384:\tlearn: 0.0695535\ttotal: 248ms\tremaining: 395ms\n",
      "385:\tlearn: 0.0690752\ttotal: 248ms\tremaining: 395ms\n",
      "386:\tlearn: 0.0686083\ttotal: 248ms\tremaining: 394ms\n",
      "387:\tlearn: 0.0682084\ttotal: 249ms\tremaining: 393ms\n",
      "388:\tlearn: 0.0677325\ttotal: 249ms\tremaining: 392ms\n",
      "389:\tlearn: 0.0673790\ttotal: 250ms\tremaining: 391ms\n",
      "390:\tlearn: 0.0670324\ttotal: 250ms\tremaining: 390ms\n",
      "391:\tlearn: 0.0666588\ttotal: 251ms\tremaining: 389ms\n",
      "392:\tlearn: 0.0662057\ttotal: 251ms\tremaining: 388ms\n",
      "393:\tlearn: 0.0658123\ttotal: 251ms\tremaining: 387ms\n",
      "394:\tlearn: 0.0654644\ttotal: 252ms\tremaining: 386ms\n",
      "395:\tlearn: 0.0651061\ttotal: 252ms\tremaining: 385ms\n",
      "396:\tlearn: 0.0647497\ttotal: 252ms\tremaining: 383ms\n",
      "397:\tlearn: 0.0643878\ttotal: 253ms\tremaining: 382ms\n",
      "398:\tlearn: 0.0639497\ttotal: 253ms\tremaining: 381ms\n",
      "399:\tlearn: 0.0635139\ttotal: 254ms\tremaining: 380ms\n",
      "400:\tlearn: 0.0631768\ttotal: 254ms\tremaining: 379ms\n",
      "401:\tlearn: 0.0628200\ttotal: 254ms\tremaining: 378ms\n",
      "402:\tlearn: 0.0625058\ttotal: 255ms\tremaining: 377ms\n",
      "403:\tlearn: 0.0621284\ttotal: 255ms\tremaining: 376ms\n",
      "404:\tlearn: 0.0618194\ttotal: 255ms\tremaining: 375ms\n",
      "405:\tlearn: 0.0614391\ttotal: 256ms\tremaining: 374ms\n",
      "406:\tlearn: 0.0610419\ttotal: 256ms\tremaining: 373ms\n",
      "407:\tlearn: 0.0606352\ttotal: 257ms\tremaining: 373ms\n",
      "408:\tlearn: 0.0603043\ttotal: 257ms\tremaining: 372ms\n",
      "409:\tlearn: 0.0599521\ttotal: 258ms\tremaining: 371ms\n",
      "410:\tlearn: 0.0596037\ttotal: 258ms\tremaining: 370ms\n",
      "411:\tlearn: 0.0592651\ttotal: 259ms\tremaining: 370ms\n",
      "412:\tlearn: 0.0589339\ttotal: 259ms\tremaining: 369ms\n",
      "413:\tlearn: 0.0585479\ttotal: 260ms\tremaining: 368ms\n",
      "414:\tlearn: 0.0581718\ttotal: 260ms\tremaining: 367ms\n",
      "415:\tlearn: 0.0580851\ttotal: 261ms\tremaining: 366ms\n",
      "416:\tlearn: 0.0577716\ttotal: 261ms\tremaining: 365ms\n",
      "417:\tlearn: 0.0576863\ttotal: 262ms\tremaining: 364ms\n",
      "418:\tlearn: 0.0576021\ttotal: 262ms\tremaining: 364ms\n",
      "419:\tlearn: 0.0572426\ttotal: 263ms\tremaining: 363ms\n",
      "420:\tlearn: 0.0571599\ttotal: 263ms\tremaining: 362ms\n",
      "421:\tlearn: 0.0568309\ttotal: 263ms\tremaining: 361ms\n",
      "422:\tlearn: 0.0564914\ttotal: 264ms\tremaining: 360ms\n",
      "423:\tlearn: 0.0564106\ttotal: 264ms\tremaining: 359ms\n",
      "424:\tlearn: 0.0563308\ttotal: 265ms\tremaining: 358ms\n",
      "425:\tlearn: 0.0560094\ttotal: 265ms\tremaining: 357ms\n",
      "426:\tlearn: 0.0559307\ttotal: 266ms\tremaining: 356ms\n",
      "427:\tlearn: 0.0558531\ttotal: 266ms\tremaining: 356ms\n",
      "428:\tlearn: 0.0555362\ttotal: 267ms\tremaining: 355ms\n",
      "429:\tlearn: 0.0551932\ttotal: 267ms\tremaining: 354ms\n",
      "430:\tlearn: 0.0548841\ttotal: 268ms\tremaining: 353ms\n",
      "431:\tlearn: 0.0545512\ttotal: 268ms\tremaining: 352ms\n",
      "432:\tlearn: 0.0542471\ttotal: 269ms\tremaining: 352ms\n",
      "433:\tlearn: 0.0539544\ttotal: 269ms\tremaining: 351ms\n",
      "434:\tlearn: 0.0538794\ttotal: 269ms\tremaining: 350ms\n",
      "435:\tlearn: 0.0535831\ttotal: 270ms\tremaining: 349ms\n",
      "436:\tlearn: 0.0535092\ttotal: 270ms\tremaining: 348ms\n",
      "437:\tlearn: 0.0534363\ttotal: 271ms\tremaining: 348ms\n",
      "438:\tlearn: 0.0531394\ttotal: 271ms\tremaining: 347ms\n",
      "439:\tlearn: 0.0528333\ttotal: 272ms\tremaining: 346ms\n",
      "440:\tlearn: 0.0525456\ttotal: 272ms\tremaining: 345ms\n",
      "441:\tlearn: 0.0522615\ttotal: 273ms\tremaining: 344ms\n",
      "442:\tlearn: 0.0521910\ttotal: 273ms\tremaining: 343ms\n",
      "443:\tlearn: 0.0519072\ttotal: 273ms\tremaining: 342ms\n",
      "444:\tlearn: 0.0516318\ttotal: 274ms\tremaining: 342ms\n",
      "445:\tlearn: 0.0513303\ttotal: 274ms\tremaining: 341ms\n",
      "446:\tlearn: 0.0510555\ttotal: 275ms\tremaining: 340ms\n",
      "447:\tlearn: 0.0509097\ttotal: 275ms\tremaining: 339ms\n",
      "448:\tlearn: 0.0508420\ttotal: 276ms\tremaining: 338ms\n",
      "449:\tlearn: 0.0505703\ttotal: 276ms\tremaining: 337ms\n",
      "450:\tlearn: 0.0502798\ttotal: 277ms\tremaining: 337ms\n",
      "451:\tlearn: 0.0500141\ttotal: 277ms\tremaining: 336ms\n",
      "452:\tlearn: 0.0499479\ttotal: 277ms\tremaining: 335ms\n",
      "453:\tlearn: 0.0498088\ttotal: 278ms\tremaining: 334ms\n",
      "454:\tlearn: 0.0495216\ttotal: 278ms\tremaining: 333ms\n",
      "455:\tlearn: 0.0494572\ttotal: 279ms\tremaining: 333ms\n",
      "456:\tlearn: 0.0493935\ttotal: 279ms\tremaining: 332ms\n",
      "457:\tlearn: 0.0491344\ttotal: 280ms\tremaining: 331ms\n",
      "458:\tlearn: 0.0488898\ttotal: 280ms\tremaining: 330ms\n",
      "459:\tlearn: 0.0488275\ttotal: 281ms\tremaining: 329ms\n",
      "460:\tlearn: 0.0485741\ttotal: 281ms\tremaining: 328ms\n",
      "461:\tlearn: 0.0483150\ttotal: 281ms\tremaining: 328ms\n",
      "462:\tlearn: 0.0482539\ttotal: 282ms\tremaining: 327ms\n",
      "463:\tlearn: 0.0481935\ttotal: 282ms\tremaining: 326ms\n",
      "464:\tlearn: 0.0479467\ttotal: 282ms\tremaining: 325ms\n",
      "465:\tlearn: 0.0477133\ttotal: 283ms\tremaining: 324ms\n",
      "466:\tlearn: 0.0474708\ttotal: 283ms\tremaining: 323ms\n",
      "467:\tlearn: 0.0474119\ttotal: 283ms\tremaining: 322ms\n",
      "468:\tlearn: 0.0471851\ttotal: 284ms\tremaining: 321ms\n",
      "469:\tlearn: 0.0470300\ttotal: 284ms\tremaining: 320ms\n",
      "470:\tlearn: 0.0469616\ttotal: 284ms\tremaining: 319ms\n",
      "471:\tlearn: 0.0467265\ttotal: 285ms\tremaining: 319ms\n",
      "472:\tlearn: 0.0466048\ttotal: 285ms\tremaining: 317ms\n",
      "473:\tlearn: 0.0464549\ttotal: 285ms\tremaining: 317ms\n",
      "474:\tlearn: 0.0463994\ttotal: 286ms\tremaining: 316ms\n",
      "475:\tlearn: 0.0461694\ttotal: 286ms\tremaining: 315ms\n",
      "476:\tlearn: 0.0461040\ttotal: 286ms\tremaining: 314ms\n",
      "477:\tlearn: 0.0459667\ttotal: 287ms\tremaining: 313ms\n",
      "478:\tlearn: 0.0457136\ttotal: 287ms\tremaining: 312ms\n",
      "479:\tlearn: 0.0456604\ttotal: 287ms\tremaining: 311ms\n",
      "480:\tlearn: 0.0455242\ttotal: 288ms\tremaining: 310ms\n",
      "481:\tlearn: 0.0454720\ttotal: 288ms\tremaining: 310ms\n",
      "482:\tlearn: 0.0451863\ttotal: 289ms\tremaining: 309ms\n",
      "483:\tlearn: 0.0450471\ttotal: 289ms\tremaining: 308ms\n",
      "484:\tlearn: 0.0447594\ttotal: 290ms\tremaining: 308ms\n",
      "485:\tlearn: 0.0444830\ttotal: 290ms\tremaining: 307ms\n",
      "486:\tlearn: 0.0442783\ttotal: 291ms\tremaining: 306ms\n",
      "487:\tlearn: 0.0440307\ttotal: 291ms\tremaining: 305ms\n"
     ]
    },
    {
     "name": "stdout",
     "output_type": "stream",
     "text": [
      "488:\tlearn: 0.0439715\ttotal: 292ms\tremaining: 305ms\n",
      "489:\tlearn: 0.0437052\ttotal: 292ms\tremaining: 304ms\n",
      "490:\tlearn: 0.0434648\ttotal: 293ms\tremaining: 303ms\n",
      "491:\tlearn: 0.0432004\ttotal: 293ms\tremaining: 303ms\n",
      "492:\tlearn: 0.0429780\ttotal: 294ms\tremaining: 302ms\n",
      "493:\tlearn: 0.0427734\ttotal: 294ms\tremaining: 302ms\n",
      "494:\tlearn: 0.0426846\ttotal: 295ms\tremaining: 301ms\n",
      "495:\tlearn: 0.0425060\ttotal: 295ms\tremaining: 300ms\n",
      "496:\tlearn: 0.0422790\ttotal: 296ms\tremaining: 299ms\n",
      "497:\tlearn: 0.0421932\ttotal: 296ms\tremaining: 298ms\n",
      "498:\tlearn: 0.0420194\ttotal: 297ms\tremaining: 298ms\n",
      "499:\tlearn: 0.0418197\ttotal: 297ms\tremaining: 297ms\n",
      "500:\tlearn: 0.0417365\ttotal: 297ms\tremaining: 296ms\n",
      "501:\tlearn: 0.0416549\ttotal: 298ms\tremaining: 296ms\n",
      "502:\tlearn: 0.0414251\ttotal: 298ms\tremaining: 295ms\n",
      "503:\tlearn: 0.0411957\ttotal: 299ms\tremaining: 294ms\n",
      "504:\tlearn: 0.0411166\ttotal: 300ms\tremaining: 294ms\n",
      "505:\tlearn: 0.0410643\ttotal: 300ms\tremaining: 293ms\n",
      "506:\tlearn: 0.0408758\ttotal: 301ms\tremaining: 293ms\n",
      "507:\tlearn: 0.0406357\ttotal: 301ms\tremaining: 292ms\n",
      "508:\tlearn: 0.0405928\ttotal: 302ms\tremaining: 291ms\n",
      "509:\tlearn: 0.0403936\ttotal: 302ms\tremaining: 290ms\n",
      "510:\tlearn: 0.0401599\ttotal: 303ms\tremaining: 290ms\n",
      "511:\tlearn: 0.0400448\ttotal: 303ms\tremaining: 289ms\n",
      "512:\tlearn: 0.0398423\ttotal: 304ms\tremaining: 288ms\n",
      "513:\tlearn: 0.0398011\ttotal: 304ms\tremaining: 288ms\n",
      "514:\tlearn: 0.0395882\ttotal: 305ms\tremaining: 287ms\n",
      "515:\tlearn: 0.0395380\ttotal: 305ms\tremaining: 286ms\n",
      "516:\tlearn: 0.0394563\ttotal: 305ms\tremaining: 285ms\n",
      "517:\tlearn: 0.0392486\ttotal: 306ms\tremaining: 285ms\n",
      "518:\tlearn: 0.0391765\ttotal: 306ms\tremaining: 284ms\n",
      "519:\tlearn: 0.0389887\ttotal: 307ms\tremaining: 283ms\n",
      "520:\tlearn: 0.0389181\ttotal: 307ms\tremaining: 282ms\n",
      "521:\tlearn: 0.0387257\ttotal: 308ms\tremaining: 282ms\n",
      "522:\tlearn: 0.0385257\ttotal: 308ms\tremaining: 281ms\n",
      "523:\tlearn: 0.0384569\ttotal: 309ms\tremaining: 280ms\n",
      "524:\tlearn: 0.0383800\ttotal: 309ms\tremaining: 279ms\n",
      "525:\tlearn: 0.0381851\ttotal: 309ms\tremaining: 279ms\n",
      "526:\tlearn: 0.0381181\ttotal: 310ms\tremaining: 278ms\n",
      "527:\tlearn: 0.0379399\ttotal: 310ms\tremaining: 277ms\n",
      "528:\tlearn: 0.0378978\ttotal: 311ms\tremaining: 277ms\n",
      "529:\tlearn: 0.0377369\ttotal: 311ms\tremaining: 276ms\n",
      "530:\tlearn: 0.0375418\ttotal: 311ms\tremaining: 275ms\n",
      "531:\tlearn: 0.0373835\ttotal: 317ms\tremaining: 279ms\n",
      "532:\tlearn: 0.0371978\ttotal: 317ms\tremaining: 278ms\n",
      "533:\tlearn: 0.0371342\ttotal: 318ms\tremaining: 277ms\n",
      "534:\tlearn: 0.0369653\ttotal: 318ms\tremaining: 277ms\n",
      "535:\tlearn: 0.0368133\ttotal: 319ms\tremaining: 276ms\n",
      "536:\tlearn: 0.0366380\ttotal: 319ms\tremaining: 275ms\n",
      "537:\tlearn: 0.0365766\ttotal: 320ms\tremaining: 274ms\n",
      "538:\tlearn: 0.0363923\ttotal: 320ms\tremaining: 274ms\n",
      "539:\tlearn: 0.0363322\ttotal: 321ms\tremaining: 273ms\n",
      "540:\tlearn: 0.0361834\ttotal: 321ms\tremaining: 272ms\n",
      "541:\tlearn: 0.0360012\ttotal: 321ms\tremaining: 272ms\n",
      "542:\tlearn: 0.0358427\ttotal: 322ms\tremaining: 271ms\n",
      "543:\tlearn: 0.0356496\ttotal: 322ms\tremaining: 270ms\n",
      "544:\tlearn: 0.0354616\ttotal: 323ms\tremaining: 269ms\n",
      "545:\tlearn: 0.0353084\ttotal: 323ms\tremaining: 269ms\n",
      "546:\tlearn: 0.0351509\ttotal: 323ms\tremaining: 268ms\n",
      "547:\tlearn: 0.0350437\ttotal: 324ms\tremaining: 267ms\n",
      "548:\tlearn: 0.0349869\ttotal: 324ms\tremaining: 266ms\n",
      "549:\tlearn: 0.0349310\ttotal: 325ms\tremaining: 266ms\n",
      "550:\tlearn: 0.0347829\ttotal: 325ms\tremaining: 265ms\n",
      "551:\tlearn: 0.0346054\ttotal: 326ms\tremaining: 264ms\n",
      "552:\tlearn: 0.0344567\ttotal: 326ms\tremaining: 263ms\n",
      "553:\tlearn: 0.0343134\ttotal: 327ms\tremaining: 263ms\n",
      "554:\tlearn: 0.0341472\ttotal: 327ms\tremaining: 262ms\n",
      "555:\tlearn: 0.0340932\ttotal: 327ms\tremaining: 261ms\n",
      "556:\tlearn: 0.0339739\ttotal: 328ms\tremaining: 261ms\n",
      "557:\tlearn: 0.0338209\ttotal: 328ms\tremaining: 260ms\n",
      "558:\tlearn: 0.0336696\ttotal: 329ms\tremaining: 260ms\n",
      "559:\tlearn: 0.0335218\ttotal: 330ms\tremaining: 259ms\n",
      "560:\tlearn: 0.0333774\ttotal: 331ms\tremaining: 259ms\n",
      "561:\tlearn: 0.0332530\ttotal: 331ms\tremaining: 258ms\n",
      "562:\tlearn: 0.0331578\ttotal: 331ms\tremaining: 257ms\n",
      "563:\tlearn: 0.0331121\ttotal: 332ms\tremaining: 256ms\n",
      "564:\tlearn: 0.0329723\ttotal: 332ms\tremaining: 256ms\n",
      "565:\tlearn: 0.0328323\ttotal: 333ms\tremaining: 255ms\n",
      "566:\tlearn: 0.0327011\ttotal: 333ms\tremaining: 254ms\n",
      "567:\tlearn: 0.0325672\ttotal: 334ms\tremaining: 254ms\n",
      "568:\tlearn: 0.0324477\ttotal: 334ms\tremaining: 253ms\n",
      "569:\tlearn: 0.0323039\ttotal: 335ms\tremaining: 252ms\n",
      "570:\tlearn: 0.0322752\ttotal: 335ms\tremaining: 252ms\n",
      "571:\tlearn: 0.0321438\ttotal: 335ms\tremaining: 251ms\n",
      "572:\tlearn: 0.0320637\ttotal: 336ms\tremaining: 250ms\n",
      "573:\tlearn: 0.0319081\ttotal: 336ms\tremaining: 250ms\n",
      "574:\tlearn: 0.0317797\ttotal: 337ms\tremaining: 249ms\n",
      "575:\tlearn: 0.0317322\ttotal: 337ms\tremaining: 248ms\n",
      "576:\tlearn: 0.0315744\ttotal: 338ms\tremaining: 247ms\n",
      "577:\tlearn: 0.0314471\ttotal: 338ms\tremaining: 247ms\n",
      "578:\tlearn: 0.0313599\ttotal: 338ms\tremaining: 246ms\n",
      "579:\tlearn: 0.0312071\ttotal: 339ms\tremaining: 245ms\n",
      "580:\tlearn: 0.0310843\ttotal: 339ms\tremaining: 245ms\n",
      "581:\tlearn: 0.0309497\ttotal: 340ms\tremaining: 244ms\n",
      "582:\tlearn: 0.0308649\ttotal: 340ms\tremaining: 243ms\n",
      "583:\tlearn: 0.0307897\ttotal: 341ms\tremaining: 243ms\n",
      "584:\tlearn: 0.0306425\ttotal: 341ms\tremaining: 242ms\n",
      "585:\tlearn: 0.0304985\ttotal: 342ms\tremaining: 241ms\n",
      "586:\tlearn: 0.0303556\ttotal: 342ms\tremaining: 241ms\n",
      "587:\tlearn: 0.0302848\ttotal: 343ms\tremaining: 240ms\n",
      "588:\tlearn: 0.0302124\ttotal: 343ms\tremaining: 240ms\n",
      "589:\tlearn: 0.0301426\ttotal: 344ms\tremaining: 239ms\n",
      "590:\tlearn: 0.0300273\ttotal: 344ms\tremaining: 238ms\n",
      "591:\tlearn: 0.0298923\ttotal: 345ms\tremaining: 238ms\n",
      "592:\tlearn: 0.0297512\ttotal: 345ms\tremaining: 237ms\n",
      "593:\tlearn: 0.0296135\ttotal: 346ms\tremaining: 236ms\n",
      "594:\tlearn: 0.0295454\ttotal: 346ms\tremaining: 236ms\n",
      "595:\tlearn: 0.0294784\ttotal: 347ms\tremaining: 235ms\n",
      "596:\tlearn: 0.0294531\ttotal: 347ms\tremaining: 234ms\n",
      "597:\tlearn: 0.0294280\ttotal: 348ms\tremaining: 234ms\n",
      "598:\tlearn: 0.0292562\ttotal: 348ms\tremaining: 233ms\n",
      "599:\tlearn: 0.0291234\ttotal: 349ms\tremaining: 233ms\n",
      "600:\tlearn: 0.0289713\ttotal: 349ms\tremaining: 232ms\n",
      "601:\tlearn: 0.0288050\ttotal: 350ms\tremaining: 231ms\n",
      "602:\tlearn: 0.0286394\ttotal: 350ms\tremaining: 231ms\n",
      "603:\tlearn: 0.0285166\ttotal: 351ms\tremaining: 230ms\n",
      "604:\tlearn: 0.0283548\ttotal: 351ms\tremaining: 229ms\n",
      "605:\tlearn: 0.0282556\ttotal: 352ms\tremaining: 229ms\n",
      "606:\tlearn: 0.0280973\ttotal: 352ms\tremaining: 228ms\n",
      "607:\tlearn: 0.0279998\ttotal: 353ms\tremaining: 227ms\n",
      "608:\tlearn: 0.0278741\ttotal: 353ms\tremaining: 227ms\n",
      "609:\tlearn: 0.0277307\ttotal: 354ms\tremaining: 226ms\n",
      "610:\tlearn: 0.0275773\ttotal: 354ms\tremaining: 225ms\n",
      "611:\tlearn: 0.0274866\ttotal: 355ms\tremaining: 225ms\n",
      "612:\tlearn: 0.0273364\ttotal: 355ms\tremaining: 224ms\n",
      "613:\tlearn: 0.0272154\ttotal: 356ms\tremaining: 224ms\n",
      "614:\tlearn: 0.0270526\ttotal: 356ms\tremaining: 223ms\n",
      "615:\tlearn: 0.0269647\ttotal: 357ms\tremaining: 222ms\n",
      "616:\tlearn: 0.0268064\ttotal: 357ms\tremaining: 222ms\n",
      "617:\tlearn: 0.0266891\ttotal: 358ms\tremaining: 221ms\n",
      "618:\tlearn: 0.0265513\ttotal: 358ms\tremaining: 221ms\n",
      "619:\tlearn: 0.0264466\ttotal: 359ms\tremaining: 220ms\n",
      "620:\tlearn: 0.0263046\ttotal: 359ms\tremaining: 219ms\n",
      "621:\tlearn: 0.0261980\ttotal: 360ms\tremaining: 219ms\n",
      "622:\tlearn: 0.0260546\ttotal: 360ms\tremaining: 218ms\n",
      "623:\tlearn: 0.0259062\ttotal: 361ms\tremaining: 217ms\n",
      "624:\tlearn: 0.0258057\ttotal: 361ms\tremaining: 217ms\n",
      "625:\tlearn: 0.0257023\ttotal: 362ms\tremaining: 216ms\n",
      "626:\tlearn: 0.0255735\ttotal: 362ms\tremaining: 215ms\n",
      "627:\tlearn: 0.0254761\ttotal: 362ms\tremaining: 215ms\n",
      "628:\tlearn: 0.0253742\ttotal: 363ms\tremaining: 214ms\n",
      "629:\tlearn: 0.0252803\ttotal: 364ms\tremaining: 213ms\n",
      "630:\tlearn: 0.0251849\ttotal: 364ms\tremaining: 213ms\n",
      "631:\tlearn: 0.0250379\ttotal: 364ms\tremaining: 212ms\n",
      "632:\tlearn: 0.0249489\ttotal: 365ms\tremaining: 211ms\n",
      "633:\tlearn: 0.0248521\ttotal: 365ms\tremaining: 211ms\n",
      "634:\tlearn: 0.0247197\ttotal: 366ms\tremaining: 210ms\n",
      "635:\tlearn: 0.0246587\ttotal: 366ms\tremaining: 209ms\n",
      "636:\tlearn: 0.0245290\ttotal: 367ms\tremaining: 209ms\n",
      "637:\tlearn: 0.0243941\ttotal: 367ms\tremaining: 208ms\n",
      "638:\tlearn: 0.0243088\ttotal: 367ms\tremaining: 208ms\n",
      "639:\tlearn: 0.0242490\ttotal: 368ms\tremaining: 207ms\n",
      "640:\tlearn: 0.0241606\ttotal: 368ms\tremaining: 206ms\n",
      "641:\tlearn: 0.0240688\ttotal: 369ms\tremaining: 206ms\n",
      "642:\tlearn: 0.0239449\ttotal: 369ms\tremaining: 205ms\n",
      "643:\tlearn: 0.0238162\ttotal: 369ms\tremaining: 204ms\n"
     ]
    },
    {
     "name": "stdout",
     "output_type": "stream",
     "text": [
      "644:\tlearn: 0.0237600\ttotal: 370ms\tremaining: 204ms\n",
      "645:\tlearn: 0.0236718\ttotal: 371ms\tremaining: 203ms\n",
      "646:\tlearn: 0.0236125\ttotal: 371ms\tremaining: 202ms\n",
      "647:\tlearn: 0.0235005\ttotal: 371ms\tremaining: 202ms\n",
      "648:\tlearn: 0.0234480\ttotal: 372ms\tremaining: 201ms\n",
      "649:\tlearn: 0.0233238\ttotal: 372ms\tremaining: 201ms\n",
      "650:\tlearn: 0.0232380\ttotal: 373ms\tremaining: 200ms\n",
      "651:\tlearn: 0.0231864\ttotal: 373ms\tremaining: 199ms\n",
      "652:\tlearn: 0.0231021\ttotal: 381ms\tremaining: 202ms\n",
      "653:\tlearn: 0.0230758\ttotal: 381ms\tremaining: 202ms\n",
      "654:\tlearn: 0.0229927\ttotal: 382ms\tremaining: 201ms\n",
      "655:\tlearn: 0.0229099\ttotal: 382ms\tremaining: 200ms\n",
      "656:\tlearn: 0.0228842\ttotal: 383ms\tremaining: 200ms\n",
      "657:\tlearn: 0.0227961\ttotal: 383ms\tremaining: 199ms\n",
      "658:\tlearn: 0.0227152\ttotal: 384ms\tremaining: 198ms\n",
      "659:\tlearn: 0.0226901\ttotal: 384ms\tremaining: 198ms\n",
      "660:\tlearn: 0.0226165\ttotal: 384ms\tremaining: 197ms\n",
      "661:\tlearn: 0.0225220\ttotal: 385ms\tremaining: 196ms\n",
      "662:\tlearn: 0.0224972\ttotal: 385ms\tremaining: 196ms\n",
      "663:\tlearn: 0.0223802\ttotal: 386ms\tremaining: 195ms\n",
      "664:\tlearn: 0.0223004\ttotal: 386ms\tremaining: 194ms\n",
      "665:\tlearn: 0.0222762\ttotal: 386ms\tremaining: 194ms\n",
      "666:\tlearn: 0.0222041\ttotal: 387ms\tremaining: 193ms\n",
      "667:\tlearn: 0.0221257\ttotal: 387ms\tremaining: 193ms\n",
      "668:\tlearn: 0.0221017\ttotal: 388ms\tremaining: 192ms\n",
      "669:\tlearn: 0.0220260\ttotal: 388ms\tremaining: 191ms\n",
      "670:\tlearn: 0.0220026\ttotal: 388ms\tremaining: 190ms\n",
      "671:\tlearn: 0.0219252\ttotal: 389ms\tremaining: 190ms\n",
      "672:\tlearn: 0.0217993\ttotal: 389ms\tremaining: 189ms\n",
      "673:\tlearn: 0.0216761\ttotal: 390ms\tremaining: 189ms\n",
      "674:\tlearn: 0.0215557\ttotal: 390ms\tremaining: 188ms\n",
      "675:\tlearn: 0.0214380\ttotal: 391ms\tremaining: 187ms\n",
      "676:\tlearn: 0.0213488\ttotal: 392ms\tremaining: 187ms\n",
      "677:\tlearn: 0.0212337\ttotal: 392ms\tremaining: 186ms\n",
      "678:\tlearn: 0.0211379\ttotal: 392ms\tremaining: 185ms\n",
      "679:\tlearn: 0.0210192\ttotal: 393ms\tremaining: 185ms\n",
      "680:\tlearn: 0.0209030\ttotal: 393ms\tremaining: 184ms\n",
      "681:\tlearn: 0.0208154\ttotal: 394ms\tremaining: 184ms\n",
      "682:\tlearn: 0.0207022\ttotal: 395ms\tremaining: 183ms\n",
      "683:\tlearn: 0.0205899\ttotal: 395ms\tremaining: 182ms\n",
      "684:\tlearn: 0.0204810\ttotal: 396ms\tremaining: 182ms\n",
      "685:\tlearn: 0.0204122\ttotal: 396ms\tremaining: 181ms\n",
      "686:\tlearn: 0.0203064\ttotal: 397ms\tremaining: 181ms\n",
      "687:\tlearn: 0.0201997\ttotal: 397ms\tremaining: 180ms\n",
      "688:\tlearn: 0.0200916\ttotal: 398ms\tremaining: 179ms\n",
      "689:\tlearn: 0.0200470\ttotal: 398ms\tremaining: 179ms\n",
      "690:\tlearn: 0.0199813\ttotal: 399ms\tremaining: 178ms\n",
      "691:\tlearn: 0.0199376\ttotal: 399ms\tremaining: 178ms\n",
      "692:\tlearn: 0.0199160\ttotal: 400ms\tremaining: 177ms\n",
      "693:\tlearn: 0.0198947\ttotal: 400ms\tremaining: 176ms\n",
      "694:\tlearn: 0.0198249\ttotal: 401ms\tremaining: 176ms\n",
      "695:\tlearn: 0.0197208\ttotal: 401ms\tremaining: 175ms\n",
      "696:\tlearn: 0.0196572\ttotal: 401ms\tremaining: 174ms\n",
      "697:\tlearn: 0.0195936\ttotal: 402ms\tremaining: 174ms\n",
      "698:\tlearn: 0.0195259\ttotal: 402ms\tremaining: 173ms\n",
      "699:\tlearn: 0.0194264\ttotal: 403ms\tremaining: 173ms\n",
      "700:\tlearn: 0.0193262\ttotal: 403ms\tremaining: 172ms\n",
      "701:\tlearn: 0.0192576\ttotal: 404ms\tremaining: 171ms\n",
      "702:\tlearn: 0.0192064\ttotal: 406ms\tremaining: 171ms\n",
      "703:\tlearn: 0.0191179\ttotal: 406ms\tremaining: 171ms\n",
      "704:\tlearn: 0.0190570\ttotal: 406ms\tremaining: 170ms\n",
      "705:\tlearn: 0.0189924\ttotal: 407ms\tremaining: 169ms\n",
      "706:\tlearn: 0.0188959\ttotal: 407ms\tremaining: 169ms\n",
      "707:\tlearn: 0.0188363\ttotal: 408ms\tremaining: 168ms\n",
      "708:\tlearn: 0.0187511\ttotal: 408ms\tremaining: 168ms\n",
      "709:\tlearn: 0.0186848\ttotal: 409ms\tremaining: 167ms\n",
      "710:\tlearn: 0.0186266\ttotal: 409ms\tremaining: 166ms\n",
      "711:\tlearn: 0.0185649\ttotal: 410ms\tremaining: 166ms\n",
      "712:\tlearn: 0.0184420\ttotal: 410ms\tremaining: 165ms\n",
      "713:\tlearn: 0.0183618\ttotal: 410ms\tremaining: 164ms\n",
      "714:\tlearn: 0.0182769\ttotal: 411ms\tremaining: 164ms\n",
      "715:\tlearn: 0.0182069\ttotal: 412ms\tremaining: 163ms\n",
      "716:\tlearn: 0.0181292\ttotal: 412ms\tremaining: 163ms\n",
      "717:\tlearn: 0.0180621\ttotal: 413ms\tremaining: 162ms\n",
      "718:\tlearn: 0.0179664\ttotal: 413ms\tremaining: 161ms\n",
      "719:\tlearn: 0.0179089\ttotal: 413ms\tremaining: 161ms\n",
      "720:\tlearn: 0.0178218\ttotal: 414ms\tremaining: 160ms\n",
      "721:\tlearn: 0.0178022\ttotal: 415ms\tremaining: 160ms\n",
      "722:\tlearn: 0.0177218\ttotal: 415ms\tremaining: 159ms\n",
      "723:\tlearn: 0.0176548\ttotal: 416ms\tremaining: 158ms\n",
      "724:\tlearn: 0.0176356\ttotal: 416ms\tremaining: 158ms\n",
      "725:\tlearn: 0.0175618\ttotal: 417ms\tremaining: 157ms\n",
      "726:\tlearn: 0.0175429\ttotal: 417ms\tremaining: 157ms\n",
      "727:\tlearn: 0.0174886\ttotal: 417ms\tremaining: 156ms\n",
      "728:\tlearn: 0.0174109\ttotal: 418ms\tremaining: 155ms\n",
      "729:\tlearn: 0.0173924\ttotal: 419ms\tremaining: 155ms\n",
      "730:\tlearn: 0.0173130\ttotal: 419ms\tremaining: 154ms\n",
      "731:\tlearn: 0.0172415\ttotal: 420ms\tremaining: 154ms\n",
      "732:\tlearn: 0.0172233\ttotal: 420ms\tremaining: 153ms\n",
      "733:\tlearn: 0.0171595\ttotal: 421ms\tremaining: 152ms\n",
      "734:\tlearn: 0.0171260\ttotal: 421ms\tremaining: 152ms\n",
      "735:\tlearn: 0.0170475\ttotal: 422ms\tremaining: 151ms\n",
      "736:\tlearn: 0.0170148\ttotal: 422ms\tremaining: 151ms\n",
      "737:\tlearn: 0.0169475\ttotal: 423ms\tremaining: 150ms\n",
      "738:\tlearn: 0.0168911\ttotal: 423ms\tremaining: 149ms\n",
      "739:\tlearn: 0.0168358\ttotal: 424ms\tremaining: 149ms\n",
      "740:\tlearn: 0.0167749\ttotal: 424ms\tremaining: 148ms\n",
      "741:\tlearn: 0.0167135\ttotal: 425ms\tremaining: 148ms\n",
      "742:\tlearn: 0.0166260\ttotal: 425ms\tremaining: 147ms\n",
      "743:\tlearn: 0.0165944\ttotal: 426ms\tremaining: 147ms\n",
      "744:\tlearn: 0.0165267\ttotal: 426ms\tremaining: 146ms\n",
      "745:\tlearn: 0.0164632\ttotal: 427ms\tremaining: 145ms\n",
      "746:\tlearn: 0.0164324\ttotal: 427ms\tremaining: 145ms\n",
      "747:\tlearn: 0.0163743\ttotal: 428ms\tremaining: 144ms\n",
      "748:\tlearn: 0.0163440\ttotal: 428ms\tremaining: 144ms\n",
      "749:\tlearn: 0.0163238\ttotal: 429ms\tremaining: 143ms\n",
      "750:\tlearn: 0.0162573\ttotal: 429ms\tremaining: 142ms\n",
      "751:\tlearn: 0.0161738\ttotal: 430ms\tremaining: 142ms\n",
      "752:\tlearn: 0.0161085\ttotal: 430ms\tremaining: 141ms\n",
      "753:\tlearn: 0.0160609\ttotal: 431ms\tremaining: 141ms\n",
      "754:\tlearn: 0.0160412\ttotal: 431ms\tremaining: 140ms\n",
      "755:\tlearn: 0.0159788\ttotal: 432ms\tremaining: 139ms\n",
      "756:\tlearn: 0.0159039\ttotal: 432ms\tremaining: 139ms\n",
      "757:\tlearn: 0.0158573\ttotal: 432ms\tremaining: 138ms\n",
      "758:\tlearn: 0.0158115\ttotal: 433ms\tremaining: 137ms\n",
      "759:\tlearn: 0.0157921\ttotal: 433ms\tremaining: 137ms\n",
      "760:\tlearn: 0.0157469\ttotal: 434ms\tremaining: 136ms\n",
      "761:\tlearn: 0.0157182\ttotal: 443ms\tremaining: 138ms\n",
      "762:\tlearn: 0.0156738\ttotal: 443ms\tremaining: 138ms\n",
      "763:\tlearn: 0.0156546\ttotal: 444ms\tremaining: 137ms\n",
      "764:\tlearn: 0.0155806\ttotal: 444ms\tremaining: 136ms\n",
      "765:\tlearn: 0.0155371\ttotal: 445ms\tremaining: 136ms\n",
      "766:\tlearn: 0.0155090\ttotal: 445ms\tremaining: 135ms\n",
      "767:\tlearn: 0.0154662\ttotal: 445ms\tremaining: 135ms\n",
      "768:\tlearn: 0.0154387\ttotal: 446ms\tremaining: 134ms\n",
      "769:\tlearn: 0.0153966\ttotal: 446ms\tremaining: 133ms\n",
      "770:\tlearn: 0.0153796\ttotal: 447ms\tremaining: 133ms\n",
      "771:\tlearn: 0.0153051\ttotal: 447ms\tremaining: 132ms\n",
      "772:\tlearn: 0.0152534\ttotal: 448ms\tremaining: 131ms\n",
      "773:\tlearn: 0.0152326\ttotal: 448ms\tremaining: 131ms\n",
      "774:\tlearn: 0.0151919\ttotal: 449ms\tremaining: 130ms\n",
      "775:\tlearn: 0.0151744\ttotal: 449ms\tremaining: 130ms\n",
      "776:\tlearn: 0.0151307\ttotal: 450ms\tremaining: 129ms\n",
      "777:\tlearn: 0.0151146\ttotal: 450ms\tremaining: 128ms\n",
      "778:\tlearn: 0.0150807\ttotal: 450ms\tremaining: 128ms\n",
      "779:\tlearn: 0.0150395\ttotal: 451ms\tremaining: 127ms\n",
      "780:\tlearn: 0.0150135\ttotal: 451ms\tremaining: 127ms\n",
      "781:\tlearn: 0.0149952\ttotal: 452ms\tremaining: 126ms\n",
      "782:\tlearn: 0.0149030\ttotal: 452ms\tremaining: 125ms\n",
      "783:\tlearn: 0.0148704\ttotal: 453ms\tremaining: 125ms\n",
      "784:\tlearn: 0.0148524\ttotal: 453ms\tremaining: 124ms\n",
      "785:\tlearn: 0.0148271\ttotal: 454ms\tremaining: 124ms\n",
      "786:\tlearn: 0.0147872\ttotal: 454ms\tremaining: 123ms\n",
      "787:\tlearn: 0.0147164\ttotal: 455ms\tremaining: 122ms\n",
      "788:\tlearn: 0.0146988\ttotal: 455ms\tremaining: 122ms\n",
      "789:\tlearn: 0.0146740\ttotal: 455ms\tremaining: 121ms\n",
      "790:\tlearn: 0.0146049\ttotal: 456ms\tremaining: 120ms\n",
      "791:\tlearn: 0.0145382\ttotal: 457ms\tremaining: 120ms\n",
      "792:\tlearn: 0.0144860\ttotal: 457ms\tremaining: 119ms\n",
      "793:\tlearn: 0.0144616\ttotal: 457ms\tremaining: 119ms\n",
      "794:\tlearn: 0.0144468\ttotal: 458ms\tremaining: 118ms\n",
      "795:\tlearn: 0.0143724\ttotal: 458ms\tremaining: 117ms\n",
      "796:\tlearn: 0.0143577\ttotal: 459ms\tremaining: 117ms\n",
      "797:\tlearn: 0.0142958\ttotal: 459ms\tremaining: 116ms\n",
      "798:\tlearn: 0.0142814\ttotal: 460ms\tremaining: 116ms\n",
      "799:\tlearn: 0.0142423\ttotal: 460ms\tremaining: 115ms\n",
      "800:\tlearn: 0.0141763\ttotal: 460ms\tremaining: 114ms\n",
      "801:\tlearn: 0.0141263\ttotal: 461ms\tremaining: 114ms\n",
      "802:\tlearn: 0.0141122\ttotal: 461ms\tremaining: 113ms\n",
      "803:\tlearn: 0.0140631\ttotal: 462ms\tremaining: 113ms\n",
      "804:\tlearn: 0.0139998\ttotal: 462ms\tremaining: 112ms\n",
      "805:\tlearn: 0.0139803\ttotal: 462ms\tremaining: 111ms\n",
      "806:\tlearn: 0.0139665\ttotal: 463ms\tremaining: 111ms\n",
      "807:\tlearn: 0.0139071\ttotal: 463ms\tremaining: 110ms\n",
      "808:\tlearn: 0.0138362\ttotal: 464ms\tremaining: 110ms\n",
      "809:\tlearn: 0.0138215\ttotal: 464ms\tremaining: 109ms\n",
      "810:\tlearn: 0.0138081\ttotal: 465ms\tremaining: 108ms\n",
      "811:\tlearn: 0.0137483\ttotal: 465ms\tremaining: 108ms\n",
      "812:\tlearn: 0.0136927\ttotal: 465ms\tremaining: 107ms\n",
      "813:\tlearn: 0.0136794\ttotal: 466ms\tremaining: 106ms\n",
      "814:\tlearn: 0.0136325\ttotal: 466ms\tremaining: 106ms\n",
      "815:\tlearn: 0.0136194\ttotal: 466ms\tremaining: 105ms\n",
      "816:\tlearn: 0.0135626\ttotal: 467ms\tremaining: 105ms\n",
      "817:\tlearn: 0.0135264\ttotal: 467ms\tremaining: 104ms\n",
      "818:\tlearn: 0.0134586\ttotal: 468ms\tremaining: 103ms\n",
      "819:\tlearn: 0.0134393\ttotal: 468ms\tremaining: 103ms\n",
      "820:\tlearn: 0.0133856\ttotal: 468ms\tremaining: 102ms\n",
      "821:\tlearn: 0.0133700\ttotal: 469ms\tremaining: 101ms\n",
      "822:\tlearn: 0.0133546\ttotal: 469ms\tremaining: 101ms\n",
      "823:\tlearn: 0.0133073\ttotal: 469ms\tremaining: 100ms\n",
      "824:\tlearn: 0.0132921\ttotal: 470ms\tremaining: 99.7ms\n",
      "825:\tlearn: 0.0132735\ttotal: 471ms\tremaining: 99.1ms\n",
      "826:\tlearn: 0.0132271\ttotal: 471ms\tremaining: 98.6ms\n",
      "827:\tlearn: 0.0132148\ttotal: 472ms\tremaining: 98ms\n",
      "828:\tlearn: 0.0131634\ttotal: 472ms\tremaining: 97.4ms\n",
      "829:\tlearn: 0.0131513\ttotal: 472ms\tremaining: 96.8ms\n",
      "830:\tlearn: 0.0130857\ttotal: 473ms\tremaining: 96.2ms\n",
      "831:\tlearn: 0.0130711\ttotal: 473ms\tremaining: 95.6ms\n",
      "832:\tlearn: 0.0130025\ttotal: 474ms\tremaining: 95ms\n",
      "833:\tlearn: 0.0129846\ttotal: 474ms\tremaining: 94.4ms\n",
      "834:\tlearn: 0.0129463\ttotal: 475ms\tremaining: 93.8ms\n",
      "835:\tlearn: 0.0129016\ttotal: 475ms\tremaining: 93.2ms\n",
      "836:\tlearn: 0.0128840\ttotal: 475ms\tremaining: 92.6ms\n"
     ]
    },
    {
     "name": "stdout",
     "output_type": "stream",
     "text": [
      "837:\tlearn: 0.0128401\ttotal: 476ms\tremaining: 92ms\n",
      "838:\tlearn: 0.0128259\ttotal: 477ms\tremaining: 91.4ms\n",
      "839:\tlearn: 0.0127774\ttotal: 477ms\tremaining: 90.8ms\n",
      "840:\tlearn: 0.0127634\ttotal: 477ms\tremaining: 90.2ms\n",
      "841:\tlearn: 0.0127520\ttotal: 478ms\tremaining: 89.6ms\n",
      "842:\tlearn: 0.0127094\ttotal: 478ms\tremaining: 89.1ms\n",
      "843:\tlearn: 0.0126440\ttotal: 479ms\tremaining: 88.5ms\n",
      "844:\tlearn: 0.0126270\ttotal: 479ms\tremaining: 87.9ms\n",
      "845:\tlearn: 0.0125854\ttotal: 479ms\tremaining: 87.3ms\n",
      "846:\tlearn: 0.0125688\ttotal: 480ms\tremaining: 86.7ms\n",
      "847:\tlearn: 0.0125091\ttotal: 480ms\tremaining: 86.1ms\n",
      "848:\tlearn: 0.0124534\ttotal: 481ms\tremaining: 85.5ms\n",
      "849:\tlearn: 0.0124400\ttotal: 481ms\tremaining: 84.9ms\n",
      "850:\tlearn: 0.0123997\ttotal: 481ms\tremaining: 84.3ms\n",
      "851:\tlearn: 0.0123834\ttotal: 482ms\tremaining: 83.7ms\n",
      "852:\tlearn: 0.0123725\ttotal: 482ms\tremaining: 83.1ms\n",
      "853:\tlearn: 0.0123282\ttotal: 483ms\tremaining: 82.5ms\n",
      "854:\tlearn: 0.0122888\ttotal: 483ms\tremaining: 81.9ms\n",
      "855:\tlearn: 0.0122346\ttotal: 484ms\tremaining: 81.3ms\n",
      "856:\tlearn: 0.0121907\ttotal: 484ms\tremaining: 80.8ms\n",
      "857:\tlearn: 0.0121749\ttotal: 484ms\tremaining: 80.2ms\n",
      "858:\tlearn: 0.0121634\ttotal: 485ms\tremaining: 79.6ms\n",
      "859:\tlearn: 0.0121078\ttotal: 485ms\tremaining: 79ms\n",
      "860:\tlearn: 0.0120973\ttotal: 486ms\tremaining: 78.4ms\n",
      "861:\tlearn: 0.0120444\ttotal: 486ms\tremaining: 77.8ms\n",
      "862:\tlearn: 0.0120068\ttotal: 487ms\tremaining: 77.2ms\n",
      "863:\tlearn: 0.0119814\ttotal: 487ms\tremaining: 76.7ms\n",
      "864:\tlearn: 0.0119661\ttotal: 487ms\tremaining: 76.1ms\n",
      "865:\tlearn: 0.0119296\ttotal: 488ms\tremaining: 75.5ms\n",
      "866:\tlearn: 0.0119194\ttotal: 488ms\tremaining: 74.9ms\n",
      "867:\tlearn: 0.0118825\ttotal: 488ms\tremaining: 74.3ms\n",
      "868:\tlearn: 0.0118724\ttotal: 490ms\tremaining: 73.8ms\n",
      "869:\tlearn: 0.0118362\ttotal: 490ms\tremaining: 73.2ms\n",
      "870:\tlearn: 0.0117771\ttotal: 491ms\tremaining: 72.7ms\n",
      "871:\tlearn: 0.0117415\ttotal: 491ms\tremaining: 72.1ms\n",
      "872:\tlearn: 0.0117018\ttotal: 492ms\tremaining: 71.5ms\n",
      "873:\tlearn: 0.0116919\ttotal: 492ms\tremaining: 70.9ms\n",
      "874:\tlearn: 0.0116774\ttotal: 493ms\tremaining: 70.4ms\n",
      "875:\tlearn: 0.0116370\ttotal: 493ms\tremaining: 69.8ms\n",
      "876:\tlearn: 0.0115863\ttotal: 493ms\tremaining: 69.2ms\n",
      "877:\tlearn: 0.0115766\ttotal: 494ms\tremaining: 68.6ms\n",
      "878:\tlearn: 0.0115523\ttotal: 494ms\tremaining: 68.1ms\n",
      "879:\tlearn: 0.0115427\ttotal: 495ms\tremaining: 67.5ms\n",
      "880:\tlearn: 0.0114920\ttotal: 495ms\tremaining: 66.9ms\n",
      "881:\tlearn: 0.0114803\ttotal: 496ms\tremaining: 66.3ms\n",
      "882:\tlearn: 0.0114315\ttotal: 496ms\tremaining: 65.7ms\n",
      "883:\tlearn: 0.0114079\ttotal: 504ms\tremaining: 66.1ms\n",
      "884:\tlearn: 0.0113985\ttotal: 505ms\tremaining: 65.6ms\n",
      "885:\tlearn: 0.0113489\ttotal: 505ms\tremaining: 65ms\n",
      "886:\tlearn: 0.0113257\ttotal: 506ms\tremaining: 64.5ms\n",
      "887:\tlearn: 0.0113165\ttotal: 507ms\tremaining: 63.9ms\n",
      "888:\tlearn: 0.0112832\ttotal: 507ms\tremaining: 63.3ms\n",
      "889:\tlearn: 0.0112358\ttotal: 508ms\tremaining: 62.8ms\n",
      "890:\tlearn: 0.0112220\ttotal: 508ms\tremaining: 62.2ms\n",
      "891:\tlearn: 0.0111994\ttotal: 509ms\tremaining: 61.6ms\n",
      "892:\tlearn: 0.0111611\ttotal: 509ms\tremaining: 61ms\n",
      "893:\tlearn: 0.0111455\ttotal: 510ms\tremaining: 60.4ms\n",
      "894:\tlearn: 0.0111228\ttotal: 510ms\tremaining: 59.8ms\n",
      "895:\tlearn: 0.0110757\ttotal: 511ms\tremaining: 59.3ms\n",
      "896:\tlearn: 0.0110533\ttotal: 511ms\tremaining: 58.7ms\n",
      "897:\tlearn: 0.0110444\ttotal: 512ms\tremaining: 58.1ms\n",
      "898:\tlearn: 0.0110312\ttotal: 512ms\tremaining: 57.5ms\n",
      "899:\tlearn: 0.0110093\ttotal: 513ms\tremaining: 57ms\n",
      "900:\tlearn: 0.0109557\ttotal: 513ms\tremaining: 56.4ms\n",
      "901:\tlearn: 0.0109341\ttotal: 514ms\tremaining: 55.8ms\n",
      "902:\tlearn: 0.0109040\ttotal: 514ms\tremaining: 55.2ms\n",
      "903:\tlearn: 0.0108910\ttotal: 514ms\tremaining: 54.6ms\n",
      "904:\tlearn: 0.0108823\ttotal: 515ms\tremaining: 54.1ms\n",
      "905:\tlearn: 0.0108488\ttotal: 515ms\tremaining: 53.5ms\n",
      "906:\tlearn: 0.0108293\ttotal: 516ms\tremaining: 52.9ms\n",
      "907:\tlearn: 0.0108165\ttotal: 516ms\tremaining: 52.3ms\n",
      "908:\tlearn: 0.0107844\ttotal: 517ms\tremaining: 51.7ms\n",
      "909:\tlearn: 0.0107760\ttotal: 517ms\tremaining: 51.2ms\n",
      "910:\tlearn: 0.0107434\ttotal: 518ms\tremaining: 50.6ms\n",
      "911:\tlearn: 0.0106915\ttotal: 518ms\tremaining: 50ms\n",
      "912:\tlearn: 0.0106735\ttotal: 519ms\tremaining: 49.4ms\n",
      "913:\tlearn: 0.0106590\ttotal: 519ms\tremaining: 48.9ms\n",
      "914:\tlearn: 0.0106401\ttotal: 520ms\tremaining: 48.3ms\n",
      "915:\tlearn: 0.0106260\ttotal: 520ms\tremaining: 47.7ms\n",
      "916:\tlearn: 0.0105971\ttotal: 521ms\tremaining: 47.1ms\n",
      "917:\tlearn: 0.0105785\ttotal: 521ms\tremaining: 46.5ms\n",
      "918:\tlearn: 0.0105683\ttotal: 521ms\tremaining: 46ms\n",
      "919:\tlearn: 0.0105500\ttotal: 522ms\tremaining: 45.4ms\n",
      "920:\tlearn: 0.0104996\ttotal: 522ms\tremaining: 44.8ms\n",
      "921:\tlearn: 0.0104815\ttotal: 523ms\tremaining: 44.2ms\n",
      "922:\tlearn: 0.0104646\ttotal: 523ms\tremaining: 43.7ms\n",
      "923:\tlearn: 0.0104523\ttotal: 524ms\tremaining: 43.1ms\n",
      "924:\tlearn: 0.0104356\ttotal: 524ms\tremaining: 42.5ms\n",
      "925:\tlearn: 0.0104072\ttotal: 525ms\tremaining: 41.9ms\n",
      "926:\tlearn: 0.0103935\ttotal: 525ms\tremaining: 41.4ms\n",
      "927:\tlearn: 0.0103761\ttotal: 526ms\tremaining: 40.8ms\n",
      "928:\tlearn: 0.0103643\ttotal: 526ms\tremaining: 40.2ms\n",
      "929:\tlearn: 0.0103332\ttotal: 527ms\tremaining: 39.6ms\n",
      "930:\tlearn: 0.0103193\ttotal: 527ms\tremaining: 39.1ms\n",
      "931:\tlearn: 0.0103060\ttotal: 527ms\tremaining: 38.5ms\n",
      "932:\tlearn: 0.0102568\ttotal: 528ms\tremaining: 37.9ms\n",
      "933:\tlearn: 0.0102398\ttotal: 528ms\tremaining: 37.3ms\n",
      "934:\tlearn: 0.0102110\ttotal: 529ms\tremaining: 36.8ms\n",
      "935:\tlearn: 0.0101962\ttotal: 529ms\tremaining: 36.2ms\n",
      "936:\tlearn: 0.0101657\ttotal: 530ms\tremaining: 35.6ms\n",
      "937:\tlearn: 0.0101520\ttotal: 530ms\tremaining: 35ms\n",
      "938:\tlearn: 0.0101386\ttotal: 531ms\tremaining: 34.5ms\n",
      "939:\tlearn: 0.0101086\ttotal: 531ms\tremaining: 33.9ms\n",
      "940:\tlearn: 0.0100983\ttotal: 531ms\tremaining: 33.3ms\n",
      "941:\tlearn: 0.0100507\ttotal: 532ms\tremaining: 32.8ms\n",
      "942:\tlearn: 0.0100342\ttotal: 533ms\tremaining: 32.2ms\n",
      "943:\tlearn: 0.0100179\ttotal: 533ms\tremaining: 31.6ms\n",
      "944:\tlearn: 0.0100035\ttotal: 534ms\tremaining: 31.1ms\n",
      "945:\tlearn: 0.0099875\ttotal: 534ms\tremaining: 30.5ms\n",
      "946:\tlearn: 0.0099716\ttotal: 534ms\tremaining: 29.9ms\n",
      "947:\tlearn: 0.0099586\ttotal: 535ms\tremaining: 29.3ms\n",
      "948:\tlearn: 0.0099291\ttotal: 535ms\tremaining: 28.8ms\n",
      "949:\tlearn: 0.0099163\ttotal: 536ms\tremaining: 28.2ms\n",
      "950:\tlearn: 0.0099063\ttotal: 536ms\tremaining: 27.6ms\n",
      "951:\tlearn: 0.0098771\ttotal: 537ms\tremaining: 27.1ms\n",
      "952:\tlearn: 0.0098633\ttotal: 537ms\tremaining: 26.5ms\n",
      "953:\tlearn: 0.0098481\ttotal: 538ms\tremaining: 25.9ms\n",
      "954:\tlearn: 0.0098014\ttotal: 539ms\tremaining: 25.4ms\n",
      "955:\tlearn: 0.0097555\ttotal: 539ms\tremaining: 24.8ms\n",
      "956:\tlearn: 0.0097304\ttotal: 540ms\tremaining: 24.3ms\n",
      "957:\tlearn: 0.0097210\ttotal: 540ms\tremaining: 23.7ms\n",
      "958:\tlearn: 0.0097025\ttotal: 541ms\tremaining: 23.1ms\n",
      "959:\tlearn: 0.0096877\ttotal: 541ms\tremaining: 22.6ms\n",
      "960:\tlearn: 0.0096742\ttotal: 542ms\tremaining: 22ms\n",
      "961:\tlearn: 0.0096377\ttotal: 542ms\tremaining: 21.4ms\n",
      "962:\tlearn: 0.0096195\ttotal: 543ms\tremaining: 20.9ms\n",
      "963:\tlearn: 0.0096020\ttotal: 544ms\tremaining: 20.3ms\n",
      "964:\tlearn: 0.0095928\ttotal: 544ms\tremaining: 19.7ms\n",
      "965:\tlearn: 0.0095836\ttotal: 545ms\tremaining: 19.2ms\n",
      "966:\tlearn: 0.0095480\ttotal: 545ms\tremaining: 18.6ms\n",
      "967:\tlearn: 0.0095101\ttotal: 546ms\tremaining: 18ms\n",
      "968:\tlearn: 0.0094859\ttotal: 546ms\tremaining: 17.5ms\n",
      "969:\tlearn: 0.0094727\ttotal: 547ms\tremaining: 16.9ms\n",
      "970:\tlearn: 0.0094378\ttotal: 547ms\tremaining: 16.3ms\n",
      "971:\tlearn: 0.0094199\ttotal: 548ms\tremaining: 15.8ms\n",
      "972:\tlearn: 0.0094110\ttotal: 548ms\tremaining: 15.2ms\n",
      "973:\tlearn: 0.0093941\ttotal: 548ms\tremaining: 14.6ms\n",
      "974:\tlearn: 0.0093853\ttotal: 549ms\tremaining: 14.1ms\n",
      "975:\tlearn: 0.0093511\ttotal: 549ms\tremaining: 13.5ms\n",
      "976:\tlearn: 0.0093335\ttotal: 550ms\tremaining: 12.9ms\n",
      "977:\tlearn: 0.0093248\ttotal: 550ms\tremaining: 12.4ms\n",
      "978:\tlearn: 0.0092928\ttotal: 551ms\tremaining: 11.8ms\n",
      "979:\tlearn: 0.0092692\ttotal: 551ms\tremaining: 11.2ms\n",
      "980:\tlearn: 0.0092563\ttotal: 552ms\tremaining: 10.7ms\n",
      "981:\tlearn: 0.0092424\ttotal: 552ms\tremaining: 10.1ms\n",
      "982:\tlearn: 0.0092006\ttotal: 553ms\tremaining: 9.55ms\n",
      "983:\tlearn: 0.0091833\ttotal: 553ms\tremaining: 8.99ms\n",
      "984:\tlearn: 0.0091718\ttotal: 554ms\tremaining: 8.43ms\n"
     ]
    },
    {
     "name": "stdout",
     "output_type": "stream",
     "text": [
      "985:\tlearn: 0.0091225\ttotal: 554ms\tremaining: 7.87ms\n",
      "986:\tlearn: 0.0090963\ttotal: 555ms\tremaining: 7.31ms\n",
      "987:\tlearn: 0.0090826\ttotal: 555ms\tremaining: 6.75ms\n",
      "988:\tlearn: 0.0090713\ttotal: 556ms\tremaining: 6.18ms\n",
      "989:\tlearn: 0.0090578\ttotal: 556ms\tremaining: 5.62ms\n",
      "990:\tlearn: 0.0090321\ttotal: 557ms\tremaining: 5.05ms\n",
      "991:\tlearn: 0.0090237\ttotal: 561ms\tremaining: 4.52ms\n",
      "992:\tlearn: 0.0089955\ttotal: 561ms\tremaining: 3.96ms\n",
      "993:\tlearn: 0.0089875\ttotal: 562ms\tremaining: 3.39ms\n",
      "994:\tlearn: 0.0089552\ttotal: 562ms\tremaining: 2.83ms\n",
      "995:\tlearn: 0.0089160\ttotal: 563ms\tremaining: 2.26ms\n",
      "996:\tlearn: 0.0088731\ttotal: 563ms\tremaining: 1.69ms\n",
      "997:\tlearn: 0.0088431\ttotal: 564ms\tremaining: 1.13ms\n",
      "998:\tlearn: 0.0088157\ttotal: 564ms\tremaining: 564us\n",
      "999:\tlearn: 0.0087933\ttotal: 564ms\tremaining: 0us\n"
     ]
    },
    {
     "data": {
      "text/plain": [
       "<catboost.core.CatBoostRegressor at 0x7fc7705c0a60>"
      ]
     },
     "execution_count": 9,
     "metadata": {},
     "output_type": "execute_result"
    }
   ],
   "source": [
    "#Train the Model \n",
    "prior_model = ctb.CatBoostRegressor()\n",
    "prior_model.fit(X_train,Y_train)"
   ]
  },
  {
   "cell_type": "code",
   "execution_count": 10,
   "id": "af65dcda",
   "metadata": {
    "execution": {
     "iopub.execute_input": "2022-06-07T06:14:21.136278Z",
     "iopub.status.busy": "2022-06-07T06:14:21.135894Z",
     "iopub.status.idle": "2022-06-07T06:14:21.143059Z",
     "shell.execute_reply": "2022-06-07T06:14:21.143350Z"
    },
    "id": "af65dcda",
    "papermill": {
     "duration": 0.0196,
     "end_time": "2022-06-07T06:14:21.143471",
     "exception": false,
     "start_time": "2022-06-07T06:14:21.123871",
     "status": "completed"
    },
    "tags": []
   },
   "outputs": [
    {
     "data": {
      "application/scrapbook.scrap.json+json": {
       "data": 0.17306270110221172,
       "encoder": "json",
       "name": "Prior Model MSE",
       "version": 1
      }
     },
     "metadata": {
      "scrapbook": {
       "data": true,
       "display": false,
       "name": "Prior Model MSE"
      }
     },
     "output_type": "display_data"
    },
    {
     "data": {
      "application/scrapbook.scrap.json+json": {
       "data": 0.9785948673977293,
       "encoder": "json",
       "name": "ABC Pre-generator MSE",
       "version": 1
      }
     },
     "metadata": {
      "scrapbook": {
       "data": true,
       "display": false,
       "name": "ABC Pre-generator MSE"
      }
     },
     "output_type": "display_data"
    },
    {
     "data": {
      "application/scrapbook.scrap.json+json": {
       "data": 0.290951476514976,
       "encoder": "json",
       "name": "Prior Model MSE",
       "version": 1
      }
     },
     "metadata": {
      "scrapbook": {
       "data": true,
       "display": false,
       "name": "Prior Model MSE"
      }
     },
     "output_type": "display_data"
    },
    {
     "data": {
      "application/scrapbook.scrap.json+json": {
       "data": 0.913576492675109,
       "encoder": "json",
       "name": "ABC Pre-generator MSE",
       "version": 1
      }
     },
     "metadata": {
      "scrapbook": {
       "data": true,
       "display": false,
       "name": "ABC Pre-generator MSE"
      }
     },
     "output_type": "display_data"
    }
   ],
   "source": [
    "y_pred = prior_model.predict(X_test)\n",
    "y_abc = y_pred + np.random.normal(0,variance, y_pred.shape) + bias \n",
    "mse = mean_squared_error(y_pred,Y_test)\n",
    "sb.glue(\"Prior Model MSE\",mse)\n",
    "mse = mean_squared_error(y_abc,Y_test)\n",
    "sb.glue(\"ABC Pre-generator MSE\",mse)\n",
    "mae = mean_absolute_error(y_pred,Y_test)\n",
    "sb.glue(\"Prior Model MSE\",mae)\n",
    "mae = mean_absolute_error(y_abc,Y_test)\n",
    "sb.glue(\"ABC Pre-generator MSE\",mae)"
   ]
  },
  {
   "cell_type": "markdown",
   "id": "25609da2",
   "metadata": {
    "papermill": {
     "duration": 0.00931,
     "end_time": "2022-06-07T06:14:21.162446",
     "exception": false,
     "start_time": "2022-06-07T06:14:21.153136",
     "status": "completed"
    },
    "tags": []
   },
   "source": [
    "# ABC GAN Model"
   ]
  },
  {
   "cell_type": "code",
   "execution_count": 11,
   "id": "dfc3464d",
   "metadata": {
    "execution": {
     "iopub.execute_input": "2022-06-07T06:14:21.184073Z",
     "iopub.status.busy": "2022-06-07T06:14:21.183707Z",
     "iopub.status.idle": "2022-06-07T06:14:21.186050Z",
     "shell.execute_reply": "2022-06-07T06:14:21.186291Z"
    },
    "papermill": {
     "duration": 0.014645,
     "end_time": "2022-06-07T06:14:21.186396",
     "exception": false,
     "start_time": "2022-06-07T06:14:21.171751",
     "status": "completed"
    },
    "tags": []
   },
   "outputs": [],
   "source": [
    "gen = network.Generator(n_features+1).to(device)\n",
    "disc = network.Discriminator(n_features+1).to(device)\n",
    "\n",
    "criterion = torch.nn.BCELoss()\n",
    "gen_opt = torch.optim.Adam(gen.parameters(), lr=0.001, betas=(0.5, 0.999))\n",
    "disc_opt = torch.optim.Adam(disc.parameters(), lr=0.001, betas=(0.5, 0.999))"
   ]
  },
  {
   "cell_type": "code",
   "execution_count": 12,
   "id": "b75fdd85",
   "metadata": {
    "execution": {
     "iopub.execute_input": "2022-06-07T06:14:21.207398Z",
     "iopub.status.busy": "2022-06-07T06:14:21.207046Z",
     "iopub.status.idle": "2022-06-07T06:14:36.303932Z",
     "shell.execute_reply": "2022-06-07T06:14:36.304622Z"
    },
    "papermill": {
     "duration": 15.109119,
     "end_time": "2022-06-07T06:14:36.304967",
     "exception": false,
     "start_time": "2022-06-07T06:14:21.195848",
     "status": "completed"
    },
    "tags": []
   },
   "outputs": [
    {
     "data": {
      "image/png": "[encoded data removed]",
      "text/plain": [
       "<Figure size 432x288 with 1 Axes>"
      ]
     },
     "metadata": {
      "needs_background": "light"
     },
     "output_type": "display_data"
    },
    {
     "data": {
      "image/png": "[encoded data removed]",
      "text/plain": [
       "<Figure size 432x288 with 1 Axes>"
      ]
     },
     "metadata": {
      "needs_background": "light"
     },
     "output_type": "display_data"
    }
   ],
   "source": [
    "#Training the ABC_GAN \n",
    "ABC_train_test2.training_GAN(disc,gen,disc_opt,gen_opt,train_data,batch_size,n_epochs,criterion,prior_model,variance,bias,device)"
   ]
  },
  {
   "cell_type": "code",
   "execution_count": 13,
   "id": "1fa7c368",
   "metadata": {
    "execution": {
     "iopub.execute_input": "2022-06-07T06:14:36.334863Z",
     "iopub.status.busy": "2022-06-07T06:14:36.334124Z",
     "iopub.status.idle": "2022-06-07T06:14:36.512781Z",
     "shell.execute_reply": "2022-06-07T06:14:36.513087Z"
    },
    "papermill": {
     "duration": 0.196081,
     "end_time": "2022-06-07T06:14:36.513211",
     "exception": false,
     "start_time": "2022-06-07T06:14:36.317130",
     "status": "completed"
    },
    "tags": []
   },
   "outputs": [
    {
     "data": {
      "application/scrapbook.scrap.json+json": {
       "data": 0.1064792821849437,
       "encoder": "json",
       "name": "ABC-GAN Model 1 MSE",
       "version": 1
      }
     },
     "metadata": {
      "scrapbook": {
       "data": true,
       "display": false,
       "name": "ABC-GAN Model 1 MSE"
      }
     },
     "output_type": "display_data"
    },
    {
     "data": {
      "application/scrapbook.scrap.json+json": {
       "data": 0.20712826066464185,
       "encoder": "json",
       "name": "ABC-GAN Model 1 MAE",
       "version": 1
      }
     },
     "metadata": {
      "scrapbook": {
       "data": true,
       "display": false,
       "name": "ABC-GAN Model 1 MAE"
      }
     },
     "output_type": "display_data"
    },
    {
     "data": {
      "application/scrapbook.scrap.json+json": {
       "data": 4.142565213292837,
       "encoder": "json",
       "name": "ABC-GAN Model 1 Manhattan Distance",
       "version": 1
      }
     },
     "metadata": {
      "scrapbook": {
       "data": true,
       "display": false,
       "name": "ABC-GAN Model 1 Manhattan Distance"
      }
     },
     "output_type": "display_data"
    },
    {
     "data": {
      "application/scrapbook.scrap.json+json": {
       "data": 1.458294862720409,
       "encoder": "json",
       "name": "ABC-GAN Model 1 Euclidean distance",
       "version": 1
      }
     },
     "metadata": {
      "scrapbook": {
       "data": true,
       "display": false,
       "name": "ABC-GAN Model 1 Euclidean distance"
      }
     },
     "output_type": "display_data"
    },
    {
     "data": {
      "application/scrapbook.scrap.json+json": {
       "data": [
        [
         0.09602299541132142,
         0.10513245000809053,
         0.09736298585719497,
         0.10517991023024278,
         0.10623305861693585,
         0.1055215089491623,
         0.10690695233605521,
         0.11295181172867921,
         0.11554787559777882,
         0.10907598394347903,
         0.11386156880589478,
         0.10491499945565952,
         0.10075360748666237,
         0.10219094506686903,
         0.11354547195307681,
         0.11013596344350658,
         0.1100199599001647,
         0.10628337065044309,
         0.1088984794420224,
         0.1110194260380338,
         0.10661394291363471,
         0.11467622788159523,
         0.08732612403203398,
         0.10329648451901555,
         0.10053245071978249,
         0.10824759742707486,
         0.10296442301727349,
         0.08327885471380621,
         0.11021631698038306,
         0.10681960543677711,
         0.10709756168092284,
         0.09921357053633072,
         0.1061688036142208,
         0.11631963632465539,
         0.10622434964194549,
         0.09847772305237244,
         0.10770193067212785,
         0.11358023497132001,
         0.09966373269394771,
         0.1147979291387271,
         0.09962739999085574,
         0.11847392796196976,
         0.10233151385380675,
         0.10952880826757974,
         0.10902067174227263,
         0.08367571924690767,
         0.10039264318946564,
         0.10887737884394721,
         0.11182530018563559,
         0.09916295836456848,
         0.10134587389892838,
         0.12040725625651479,
         0.10078835548105695,
         0.1042058688279405,
         0.1034904255951408,
         0.11869136702938884,
         0.10573809121425111,
         0.10968004312402227,
         0.1099055180197395,
         0.10294539364878505,
         0.10940699874351678,
         0.10678805099258834,
         0.09352645553033104,
         0.11021292302713555,
         0.10660038426868032,
         0.11761939601930319,
         0.1157750277320884,
         0.10897786752540065,
         0.1034026100539966,
         0.09697690239416172,
         0.11396976194460566,
         0.10943397281704433,
         0.11017542215167717,
         0.10403036124799095,
         0.12721715294594266,
         0.1051976415979575,
         0.11530577294254392,
         0.0918601553494903,
         0.1057071764244157,
         0.09775761073453651,
         0.10323685295532978,
         0.10923826297552189,
         0.11720887862475071,
         0.11103421752570572,
         0.10828741454595843,
         0.1009568128038176,
         0.10303127253128821,
         0.12320961140614453,
         0.10314239988655896,
         0.09427145272552302,
         0.08910793837890678,
         0.10041014926897059,
         0.10705931713936331,
         0.11042105106550137,
         0.10169896508436174,
         0.1018812326766314,
         0.11301190004871317,
         0.12080647763135095,
         0.12141577124496934,
         0.1036652558995971
        ],
        [
         0.1979688923805952,
         0.199834056571126,
         0.19102121479809284,
         0.19863743893802166,
         0.20599862076342107,
         0.2020310413092375,
         0.20267327092587947,
         0.21526852212846279,
         0.21687162183225156,
         0.20850640051066877,
         0.21079505942761897,
         0.20577037371695042,
         0.20289031080901623,
         0.2064788106828928,
         0.22400890924036504,
         0.2087060283869505,
         0.21005928330123425,
         0.21058527640998365,
         0.20774163566529752,
         0.21030949838459492,
         0.20708954967558385,
         0.21877075396478177,
         0.18647679574787618,
         0.20878242887556553,
         0.1983713086694479,
         0.21456742100417614,
         0.21117218621075154,
         0.18863983936607837,
         0.2001721803098917,
         0.20669323541224002,
         0.20618691705167294,
         0.21155964620411397,
         0.21498681642115117,
         0.21659653522074224,
         0.20538306422531605,
         0.2054226163774729,
         0.22100948579609395,
         0.20058525837957858,
         0.19926356784999372,
         0.2080851662904024,
         0.1977508205920458,
         0.21021394841372967,
         0.19978370405733586,
         0.2109118852764368,
         0.2092607919126749,
         0.19358602054417134,
         0.20800961889326572,
         0.21399991698563098,
         0.20330221466720105,
         0.19934301562607287,
         0.20787039957940578,
         0.2206725399941206,
         0.2063861209899187,
         0.2030747625976801,
         0.2020981427282095,
         0.22373058535158635,
         0.21056596674025058,
         0.2149743426591158,
         0.20993590913712978,
         0.21001051552593708,
         0.20613419003784655,
         0.20804546736180782,
         0.2030686017125845,
         0.20407934822142124,
         0.2157332632690668,
         0.22440850250422956,
         0.20490676499903202,
         0.2153752911835909,
         0.21386459805071353,
         0.20083931870758534,
         0.20556864477694034,
         0.20667863748967646,
         0.20627051256597043,
         0.20883185528218745,
         0.218624022975564,
         0.21420053131878375,
         0.20294439904391764,
         0.1953935030847788,
         0.19347378574311733,
         0.2037811879068613,
         0.206987788900733,
         0.20776895247399807,
         0.20940338484942914,
         0.2124203320592642,
         0.2048049908131361,
         0.21183248050510883,
         0.20231196694076062,
         0.2232408981770277,
         0.2074033919721842,
         0.1957456823438406,
         0.19139229021966458,
         0.20864015258848667,
         0.20231279470026492,
         0.21154593788087367,
         0.19950101487338542,
         0.20510822124779224,
         0.20637997873127462,
         0.22235717363655566,
         0.2093458604067564,
         0.20064808540046214
        ],
        [
         3.959377847611904,
         3.9966811314225197,
         3.820424295961857,
         3.972748778760433,
         4.119972415268421,
         4.04062082618475,
         4.05346541851759,
         4.305370442569256,
         4.337432436645031,
         4.170128010213375,
         4.21590118855238,
         4.115407474339008,
         4.0578062161803246,
         4.129576213657856,
         4.480178184807301,
         4.17412056773901,
         4.201185666024685,
         4.211705528199673,
         4.15483271330595,
         4.206189967691898,
         4.141790993511677,
         4.375415079295635,
         3.7295359149575233,
         4.175648577511311,
         3.967426173388958,
         4.291348420083523,
         4.223443724215031,
         3.7727967873215675,
         4.003443606197834,
         4.133864708244801,
         4.123738341033459,
         4.231192924082279,
         4.299736328423023,
         4.3319307044148445,
         4.107661284506321,
         4.1084523275494576,
         4.420189715921879,
         4.011705167591572,
         3.985271356999874,
         4.161703325808048,
         3.9550164118409157,
         4.204278968274593,
         3.995674081146717,
         4.218237705528736,
         4.185215838253498,
         3.8717204108834267,
         4.1601923778653145,
         4.27999833971262,
         4.066044293344021,
         3.9868603125214577,
         4.157407991588116,
         4.413450799882412,
         4.127722419798374,
         4.061495251953602,
         4.04196285456419,
         4.474611707031727,
         4.211319334805012,
         4.299486853182316,
         4.198718182742596,
         4.200210310518742,
         4.122683800756931,
         4.1609093472361565,
         4.06137203425169,
         4.081586964428425,
         4.314665265381336,
         4.488170050084591,
         4.09813529998064,
         4.307505823671818,
         4.277291961014271,
         4.016786374151707,
         4.111372895538807,
         4.1335727497935295,
         4.125410251319408,
         4.176637105643749,
         4.37248045951128,
         4.284010626375675,
         4.058887980878353,
         3.9078700616955757,
         3.8694757148623466,
         4.075623758137226,
         4.13975577801466,
         4.155379049479961,
         4.188067696988583,
         4.248406641185284,
         4.096099816262722,
         4.236649610102177,
         4.046239338815212,
         4.464817963540554,
         4.148067839443684,
         3.914913646876812,
         3.8278458043932915,
         4.172803051769733,
         4.046255894005299,
         4.230918757617474,
         3.9900202974677086,
         4.102164424955845,
         4.127599574625492,
         4.447143472731113,
         4.186917208135128,
         4.012961708009243
        ],
        [
         1.3858065912047137,
         1.4500513784558844,
         1.3954424807722816,
         1.4503786418052549,
         1.4576217521492731,
         1.452731970799585,
         1.4622376847561767,
         1.5030090600437458,
         1.52018338102861,
         1.4769968445699473,
         1.5090498255915528,
         1.4485509963798964,
         1.41953237008997,
         1.429621943500232,
         1.5069536950621727,
         1.4841560796864095,
         1.4833742609346077,
         1.4579668765129274,
         1.4757945618684356,
         1.4900968159017978,
         1.4602324672026348,
         1.514438693916629,
         1.321560623142457,
         1.4373342305741943,
         1.4179735591313576,
         1.4713775683153176,
         1.4350221114482766,
         1.2905723901727186,
         1.4846973899107054,
         1.461640211794798,
         1.4635406498004955,
         1.408641689971802,
         1.4571808646439248,
         1.525251692834041,
         1.4575620030856011,
         1.4034081591067684,
         1.467664339500881,
         1.5071843614589424,
         1.411833791166281,
         1.5152420871842698,
         1.4115764236544597,
         1.539311066431797,
         1.4306048640613993,
         1.4800595141248865,
         1.476622306090983,
         1.2936438400650132,
         1.4169872489861413,
         1.4756515770597558,
         1.4954952369408308,
         1.40828234643887,
         1.4236985207474817,
         1.5518199396612664,
         1.4197771337858414,
         1.4436472479656552,
         1.4386829087407744,
         1.5407229928146646,
         1.454222068421815,
         1.4810809776917822,
         1.4826025631958113,
         1.4348894985244338,
         1.4792362809471433,
         1.4614243120503254,
         1.3676728814327719,
         1.484674530172425,
         1.4601396116034955,
         1.5337496276726732,
         1.5216768890410894,
         1.4763323983805317,
         1.4380723907647808,
         1.3926729866997616,
         1.5097666173591577,
         1.4794186210606133,
         1.48442192217494,
         1.442431012201214,
         1.5950997018741033,
         1.4505008900235636,
         1.5185899574443653,
         1.355434656112129,
         1.4540094664369672,
         1.3982675762137697,
         1.4369192945696692,
         1.478095145621701,
         1.531070727463305,
         1.4901960778750274,
         1.4716481545937428,
         1.4209631438135024,
         1.4354878789546655,
         1.569774578760559,
         1.4362618137829812,
         1.3731092653210306,
         1.3349751936190184,
         1.4171107879694558,
         1.4632793112687907,
         1.486075711836388,
         1.4261764623240825,
         1.427453905922229,
         1.503408793699925,
         1.5543904119065515,
         1.5583053054197649,
         1.4398976067734615
        ]
       ],
       "encoder": "json",
       "name": "ABC_GAN_1 Metrics",
       "version": 1
      }
     },
     "metadata": {
      "scrapbook": {
       "data": true,
       "display": false,
       "name": "ABC_GAN_1 Metrics"
      }
     },
     "output_type": "display_data"
    },
    {
     "name": "stdout",
     "output_type": "stream",
     "text": [
      "MSE\n",
      "0.1064792821849437\n"
     ]
    }
   ],
   "source": [
    "ABC_GAN1_metrics=ABC_train_test2.test_generator(gen,test_data,prior_model,variance,bias,\"1\",device)\n",
    "sb.glue(\"ABC_GAN_1 Metrics\",ABC_GAN1_metrics)\n",
    "\n",
    "print(\"MSE\")\n",
    "print(mean(ABC_GAN1_metrics[0]))"
   ]
  },
  {
   "cell_type": "code",
   "execution_count": 14,
   "id": "eb22ce5c",
   "metadata": {
    "execution": {
     "iopub.execute_input": "2022-06-07T06:14:36.539487Z",
     "iopub.status.busy": "2022-06-07T06:14:36.539125Z",
     "iopub.status.idle": "2022-06-07T06:14:36.852348Z",
     "shell.execute_reply": "2022-06-07T06:14:36.852590Z"
    },
    "papermill": {
     "duration": 0.327406,
     "end_time": "2022-06-07T06:14:36.852715",
     "exception": false,
     "start_time": "2022-06-07T06:14:36.525309",
     "status": "completed"
    },
    "tags": []
   },
   "outputs": [
    {
     "data": {
      "image/png": "[encoded data removed]",
      "text/plain": [
       "<Figure size 432x288 with 1 Axes>"
      ]
     },
     "metadata": {
      "needs_background": "light"
     },
     "output_type": "display_data"
    },
    {
     "data": {
      "image/png": "[encoded data removed]",
      "text/plain": [
       "<Figure size 432x288 with 1 Axes>"
      ]
     },
     "metadata": {
      "needs_background": "light"
     },
     "output_type": "display_data"
    },
    {
     "data": {
      "image/png": "[encoded data removed]",
      "text/plain": [
       "<Figure size 432x288 with 1 Axes>"
      ]
     },
     "metadata": {
      "needs_background": "light"
     },
     "output_type": "display_data"
    },
    {
     "data": {
      "image/png": "[encoded data removed]",
      "text/plain": [
       "<Figure size 432x288 with 1 Axes>"
      ]
     },
     "metadata": {
      "needs_background": "light"
     },
     "output_type": "display_data"
    }
   ],
   "source": [
    "sanityChecks.discProbVsError(train_data,disc,device)\n",
    "sanityChecks.discProbVsError(test_data,disc,device)"
   ]
  },
  {
   "cell_type": "markdown",
   "id": "130f3a4d",
   "metadata": {
    "id": "130f3a4d",
    "papermill": {
     "duration": 0.036085,
     "end_time": "2022-06-07T06:14:36.903155",
     "exception": false,
     "start_time": "2022-06-07T06:14:36.867070",
     "status": "completed"
    },
    "tags": []
   },
   "source": [
    "# ABC - GAN Model with skip connection"
   ]
  },
  {
   "cell_type": "code",
   "execution_count": 15,
   "id": "4e43dad1",
   "metadata": {
    "execution": {
     "iopub.execute_input": "2022-06-07T06:14:36.934728Z",
     "iopub.status.busy": "2022-06-07T06:14:36.934347Z",
     "iopub.status.idle": "2022-06-07T06:14:36.936620Z",
     "shell.execute_reply": "2022-06-07T06:14:36.936850Z"
    },
    "id": "4e43dad1",
    "papermill": {
     "duration": 0.019595,
     "end_time": "2022-06-07T06:14:36.936961",
     "exception": false,
     "start_time": "2022-06-07T06:14:36.917366",
     "status": "completed"
    },
    "tags": []
   },
   "outputs": [],
   "source": [
    "#Generator\n",
    "gen3 = network.GeneratorWithSkipConnection(n_features+1).to(device)\n",
    "constraints=network.weightConstraint()\n",
    "#Discriminator \n",
    "disc3 = network.Discriminator(n_features+1).to(device)\n",
    "\n",
    "criterion = torch.nn.BCELoss()\n",
    "gen_opt = torch.optim.Adam(gen3.parameters(), lr=0.001, betas=(0.5, 0.999))\n",
    "disc_opt = torch.optim.Adam(disc3.parameters(), lr=0.001, betas=(0.5, 0.999))\n"
   ]
  },
  {
   "cell_type": "code",
   "execution_count": 16,
   "id": "26acbc37",
   "metadata": {
    "execution": {
     "iopub.execute_input": "2022-06-07T06:14:36.967705Z",
     "iopub.status.busy": "2022-06-07T06:14:36.967335Z",
     "iopub.status.idle": "2022-06-07T06:15:17.548295Z",
     "shell.execute_reply": "2022-06-07T06:15:17.548611Z"
    },
    "id": "26acbc37",
    "papermill": {
     "duration": 40.597471,
     "end_time": "2022-06-07T06:15:17.548753",
     "exception": false,
     "start_time": "2022-06-07T06:14:36.951282",
     "status": "completed"
    },
    "tags": []
   },
   "outputs": [
    {
     "data": {
      "image/png": "[encoded data removed]",
      "text/plain": [
       "<Figure size 432x288 with 1 Axes>"
      ]
     },
     "metadata": {
      "needs_background": "light"
     },
     "output_type": "display_data"
    },
    {
     "data": {
      "image/png": "[encoded data removed]",
      "text/plain": [
       "<Figure size 432x288 with 1 Axes>"
      ]
     },
     "metadata": {
      "needs_background": "light"
     },
     "output_type": "display_data"
    }
   ],
   "source": [
    "ABC_train_test2.training_GAN_skip_connection(disc3,gen3,disc_opt,gen_opt,train_data,batch_size,n_epochs,criterion,prior_model,variance,bias,device)"
   ]
  },
  {
   "cell_type": "code",
   "execution_count": 17,
   "id": "c5e0717b",
   "metadata": {
    "execution": {
     "iopub.execute_input": "2022-06-07T06:15:17.584912Z",
     "iopub.status.busy": "2022-06-07T06:15:17.584429Z",
     "iopub.status.idle": "2022-06-07T06:15:17.920326Z",
     "shell.execute_reply": "2022-06-07T06:15:17.920628Z"
    },
    "id": "c5e0717b",
    "papermill": {
     "duration": 0.35484,
     "end_time": "2022-06-07T06:15:17.920754",
     "exception": false,
     "start_time": "2022-06-07T06:15:17.565914",
     "status": "completed"
    },
    "tags": []
   },
   "outputs": [
    {
     "data": {
      "application/scrapbook.scrap.json+json": {
       "data": 0.16636691540829762,
       "encoder": "json",
       "name": "ABC-GAN Model 3 MSE",
       "version": 1
      }
     },
     "metadata": {
      "scrapbook": {
       "data": true,
       "display": false,
       "name": "ABC-GAN Model 3 MSE"
      }
     },
     "output_type": "display_data"
    },
    {
     "data": {
      "application/scrapbook.scrap.json+json": {
       "data": 0.27911776294559243,
       "encoder": "json",
       "name": "ABC-GAN Model 3 MAE",
       "version": 1
      }
     },
     "metadata": {
      "scrapbook": {
       "data": true,
       "display": false,
       "name": "ABC-GAN Model 3 MAE"
      }
     },
     "output_type": "display_data"
    },
    {
     "data": {
      "application/scrapbook.scrap.json+json": {
       "data": 5.582355258911848,
       "encoder": "json",
       "name": "ABC-GAN Model 3 Manhattan Distance",
       "version": 1
      }
     },
     "metadata": {
      "scrapbook": {
       "data": true,
       "display": false,
       "name": "ABC-GAN Model 3 Manhattan Distance"
      }
     },
     "output_type": "display_data"
    },
    {
     "data": {
      "application/scrapbook.scrap.json+json": {
       "data": 1.8221661970837835,
       "encoder": "json",
       "name": "ABC-GAN Model 3 Euclidean distance",
       "version": 1
      }
     },
     "metadata": {
      "scrapbook": {
       "data": true,
       "display": false,
       "name": "ABC-GAN Model 3 Euclidean distance"
      }
     },
     "output_type": "display_data"
    },
    {
     "data": {
      "application/scrapbook.scrap.json+json": {
       "data": [
        [
         0.1747194864988821,
         0.16974372935064455,
         0.15083288799131347,
         0.17052008479533004,
         0.19363537810089754,
         0.18419835123738418,
         0.14959168714508628,
         0.16944061430860308,
         0.2070052796785485,
         0.17086406850392583,
         0.17441578908258254,
         0.14198279993928203,
         0.16206776780108567,
         0.16057274613288233,
         0.18142969368599243,
         0.1562838345261012,
         0.16725992963314826,
         0.16515037486254242,
         0.15865984367391892,
         0.19243315567700045,
         0.14328708538648086,
         0.15367102098743432,
         0.16510574337356304,
         0.18834936178058487,
         0.14561060601973455,
         0.1456570558022309,
         0.15062094212059887,
         0.17241182683024048,
         0.1846139471871607,
         0.1817760207816295,
         0.1515091086759479,
         0.1504227239052029,
         0.15657103591402366,
         0.17308448979148905,
         0.1720599591310306,
         0.16399900999700529,
         0.18146512534589532,
         0.16297041975323606,
         0.17626183264058495,
         0.16629582566510076,
         0.1593830325423551,
         0.17000330352706022,
         0.17318811524537658,
         0.13030072727462808,
         0.16605321051777452,
         0.16659515466564237,
         0.1493017678348229,
         0.1567808621158826,
         0.18031140683743396,
         0.18321559526390913,
         0.1559701754955593,
         0.1659056779969556,
         0.17577206950442423,
         0.18491363188238738,
         0.16185245698752423,
         0.16414274125041298,
         0.182926501820675,
         0.1710234818687864,
         0.1655831333310373,
         0.1800169812257502,
         0.16636139908307607,
         0.1746230363032562,
         0.1644753466429791,
         0.16654622842934563,
         0.16644865799216538,
         0.18426436908295502,
         0.17347671053564478,
         0.18935256360756722,
         0.15763795798114952,
         0.1698039999464212,
         0.1488693055772673,
         0.16011301580797616,
         0.17815980660924063,
         0.1867094845894936,
         0.1814235811289386,
         0.1549058588639526,
         0.1416706565443529,
         0.18172674375281248,
         0.1472188235567287,
         0.16372773584664105,
         0.14775598506015952,
         0.1393767963123814,
         0.16258504763012754,
         0.16304433108067434,
         0.15937800266654437,
         0.17483301818289015,
         0.14587489981075802,
         0.14222632414601621,
         0.18344521165381178,
         0.18941010090768076,
         0.1408010397561945,
         0.13977444985373344,
         0.16377553407610984,
         0.16874272606921806,
         0.16165598759348312,
         0.17284865639705788,
         0.17044254668317713,
         0.13421349916534395,
         0.18163197083028304,
         0.20756946016942815
        ],
        [
         0.2900170389562845,
         0.2885544400662184,
         0.24075117595493795,
         0.2943813938647509,
         0.3055305238813162,
         0.2875884208828211,
         0.2815774459391832,
         0.28705428130924704,
         0.29725014977157116,
         0.25173143558204175,
         0.2843686420470476,
         0.2723987903445959,
         0.2847047884017229,
         0.26178890727460385,
         0.2849273655563593,
         0.2731843661516905,
         0.2820849698036909,
         0.28394703678786753,
         0.26279262714087964,
         0.29544979222118856,
         0.26326666958630085,
         0.25631162635982035,
         0.2711160253733397,
         0.2773929078131914,
         0.27991646640002726,
         0.26112320013344287,
         0.2508196700364351,
         0.2901136752218008,
         0.3067489515990019,
         0.29722007401287553,
         0.250686751678586,
         0.27244791127741336,
         0.25911719612777234,
         0.29889882989227773,
         0.2848053898662329,
         0.2770163346081972,
         0.29349493198096754,
         0.27166336961090565,
         0.28921527676284314,
         0.2950663972645998,
         0.2473080050200224,
         0.2922030154615641,
         0.272368973121047,
         0.2576507020741701,
         0.26344658620655537,
         0.3026057790964842,
         0.26927689723670484,
         0.2871100027114153,
         0.30986307971179483,
         0.2900844145566225,
         0.2850515227764845,
         0.2651406217366457,
         0.301517828181386,
         0.3088355239480734,
         0.2792472649365664,
         0.27719723992049694,
         0.2909082483500242,
         0.27929014153778553,
         0.28566517420113086,
         0.2869318503886461,
         0.26755931712687014,
         0.27846937365829944,
         0.26834625415503977,
         0.28281795270740984,
         0.26637506000697614,
         0.3132401030510664,
         0.27469537071883676,
         0.2920147191733122,
         0.2869405996054411,
         0.2790246564894915,
         0.26875390522181986,
         0.2876676071435213,
         0.29039059244096277,
         0.31752224154770375,
         0.2947087924927473,
         0.24879126362502574,
         0.24536874629557132,
         0.26794940046966076,
         0.25280910916626453,
         0.29016780816018584,
         0.2676612388342619,
         0.24477923102676868,
         0.2911292392760515,
         0.2944084655493498,
         0.28079419322311877,
         0.25480805672705176,
         0.26512097902596,
         0.2704028356820345,
         0.2923543740063906,
         0.31251349560916425,
         0.24950965009629728,
         0.24800670929253102,
         0.28354958482086656,
         0.2650467623025179,
         0.25674235038459303,
         0.28417752496898174,
         0.29867014177143575,
         0.2614248234778643,
         0.2923226375132799,
         0.3165130089968443
        ],
        [
         5.8003407791256905,
         5.7710888013243675,
         4.815023519098759,
         5.887627877295017,
         6.110610477626324,
         5.751768417656422,
         5.631548918783665,
         5.74108562618494,
         5.945002995431423,
         5.034628711640835,
         5.687372840940952,
         5.447975806891918,
         5.694095768034458,
         5.235778145492077,
         5.698547311127186,
         5.46368732303381,
         5.641699396073818,
         5.678940735757351,
         5.255852542817593,
         5.908995844423771,
         5.265333391726017,
         5.126232527196407,
         5.422320507466793,
         5.547858156263828,
         5.5983293280005455,
         5.222464002668858,
         5.0163934007287025,
         5.802273504436016,
         6.134979031980038,
         5.944401480257511,
         5.01373503357172,
         5.448958225548267,
         5.182343922555447,
         5.977976597845554,
         5.696107797324657,
         5.540326692163944,
         5.86989863961935,
         5.433267392218113,
         5.784305535256863,
         5.901327945291996,
         4.946160100400448,
         5.844060309231281,
         5.44737946242094,
         5.153014041483402,
         5.268931724131107,
         6.052115581929684,
         5.3855379447340965,
         5.742200054228306,
         6.197261594235897,
         5.80168829113245,
         5.70103045552969,
         5.302812434732914,
         6.03035656362772,
         6.176710478961468,
         5.584945298731327,
         5.543944798409939,
         5.8181649670004845,
         5.585802830755711,
         5.713303484022617,
         5.7386370077729225,
         5.351186342537403,
         5.569387473165989,
         5.366925083100796,
         5.656359054148197,
         5.3275012001395226,
         6.264802061021328,
         5.493907414376736,
         5.840294383466244,
         5.738811992108822,
         5.580493129789829,
         5.3750781044363976,
         5.753352142870426,
         5.807811848819256,
         6.350444830954075,
         5.894175849854946,
         4.975825272500515,
         4.9073749259114265,
         5.358988009393215,
         5.056182183325291,
         5.803356163203716,
         5.353224776685238,
         4.895584620535374,
         5.82258478552103,
         5.888169310986996,
         5.615883864462376,
         5.096161134541035,
         5.302419580519199,
         5.40805671364069,
         5.847087480127811,
         6.250269912183285,
         4.990193001925945,
         4.96013418585062,
         5.670991696417332,
         5.300935246050358,
         5.13484700769186,
         5.683550499379635,
         5.973402835428715,
         5.228496469557285,
         5.846452750265598,
         6.330260179936886
        ],
        [
         1.869328684308258,
         1.842518544550608,
         1.7368528319423813,
         1.846727293323679,
         1.9679196025290138,
         1.9193663081203869,
         1.7296918057566573,
         1.8408726968946174,
         2.0347249429765615,
         1.8485890214102532,
         1.867703344123914,
         1.6851278879615164,
         1.8003764484189726,
         1.7920532700390486,
         1.9048868401350902,
         1.7679583395889236,
         1.828988406924157,
         1.8174178103151868,
         1.7813469267603037,
         1.961800987241063,
         1.69285017285335,
         1.7531173434053657,
         1.817172217339694,
         1.9408728025328443,
         1.7065204717186053,
         1.7067926400253248,
         1.7356321160925716,
         1.8569427930350493,
         1.9215303650328335,
         1.906704071331624,
         1.7407418457424864,
         1.7344896880938954,
         1.769582074468566,
         1.8605616882623863,
         1.8550469488993027,
         1.8110715612421577,
         1.9050728350690183,
         1.8053831712588666,
         1.8775613579352606,
         1.823709547406608,
         1.7854020978051701,
         1.8439268072624804,
         1.8611185628292284,
         1.614315503701975,
         1.8223787230857067,
         1.8253501289650838,
         1.7280148600913299,
         1.7707674162118672,
         1.8990071449967427,
         1.914239249748626,
         1.766183317187428,
         1.821568983030594,
         1.8749510367176219,
         1.9230893472867423,
         1.7991801298787413,
         1.8118650129102498,
         1.9127284272508476,
         1.849451171936077,
         1.8197974246109774,
         1.8974560929083455,
         1.8240690726125262,
         1.8688126514086758,
         1.8136997912718584,
         1.8250820717400391,
         1.8245473849268228,
         1.9197102337746446,
         1.8626685724285188,
         1.946034756151941,
         1.7756010699543383,
         1.8428456253654089,
         1.7255103916074648,
         1.7894860480483001,
         1.8876430097306038,
         1.932405157256074,
         1.9048547510450167,
         1.7601469192311907,
         1.6832745262989808,
         1.906445612929005,
         1.7159185502623877,
         1.8095730758753072,
         1.7190461602886615,
         1.669591544734109,
         1.8032473353931653,
         1.8057925189825899,
         1.7853739253531422,
         1.8699359250139571,
         1.708068498689429,
         1.6865724066639785,
         1.9154383918769708,
         1.9463303979935205,
         1.6781003531147625,
         1.6719715897929213,
         1.80983719751866,
         1.83707771239661,
         1.798087804271433,
         1.859293717501664,
         1.846307377893384,
         1.6383741890382915,
         1.905948429681575,
         2.037495816778175
        ]
       ],
       "encoder": "json",
       "name": "ABC_GAN_3 Metrics",
       "version": 1
      }
     },
     "metadata": {
      "scrapbook": {
       "data": true,
       "display": false,
       "name": "ABC_GAN_3 Metrics"
      }
     },
     "output_type": "display_data"
    },
    {
     "name": "stdout",
     "output_type": "stream",
     "text": [
      "MSE\n",
      "0.16636691540829762\n"
     ]
    }
   ],
   "source": [
    "ABC_GAN3_metrics=ABC_train_test2.test_generator(gen3,test_data,prior_model,variance,bias,\"3\",device)\n",
    "sb.glue(\"ABC_GAN_3 Metrics\",ABC_GAN3_metrics)\n",
    "\n",
    "print(\"MSE\")\n",
    "print(mean(ABC_GAN3_metrics[0]))"
   ]
  },
  {
   "cell_type": "code",
   "execution_count": 18,
   "id": "c8e46b48",
   "metadata": {
    "execution": {
     "iopub.execute_input": "2022-06-07T06:15:17.983521Z",
     "iopub.status.busy": "2022-06-07T06:15:17.971926Z",
     "iopub.status.idle": "2022-06-07T06:15:18.261900Z",
     "shell.execute_reply": "2022-06-07T06:15:18.262350Z"
    },
    "id": "c8e46b48",
    "papermill": {
     "duration": 0.324254,
     "end_time": "2022-06-07T06:15:18.262475",
     "exception": false,
     "start_time": "2022-06-07T06:15:17.938221",
     "status": "completed"
    },
    "tags": []
   },
   "outputs": [
    {
     "data": {
      "image/png": "[encoded data removed]",
      "text/plain": [
       "<Figure size 432x288 with 1 Axes>"
      ]
     },
     "metadata": {
      "needs_background": "light"
     },
     "output_type": "display_data"
    },
    {
     "data": {
      "image/png": "[encoded data removed]",
      "text/plain": [
       "<Figure size 432x288 with 1 Axes>"
      ]
     },
     "metadata": {
      "needs_background": "light"
     },
     "output_type": "display_data"
    },
    {
     "data": {
      "image/png": "[encoded data removed]",
      "text/plain": [
       "<Figure size 432x288 with 1 Axes>"
      ]
     },
     "metadata": {
      "needs_background": "light"
     },
     "output_type": "display_data"
    },
    {
     "data": {
      "image/png": "[encoded data removed]",
      "text/plain": [
       "<Figure size 432x288 with 1 Axes>"
      ]
     },
     "metadata": {
      "needs_background": "light"
     },
     "output_type": "display_data"
    }
   ],
   "source": [
    "sanityChecks.discProbVsError(train_data,disc3,device)\n",
    "sanityChecks.discProbVsError(test_data,disc3,device)"
   ]
  },
  {
   "cell_type": "markdown",
   "id": "a5bd74c3",
   "metadata": {
    "id": "a5bd74c3",
    "papermill": {
     "duration": 0.019473,
     "end_time": "2022-06-07T06:15:18.301628",
     "exception": false,
     "start_time": "2022-06-07T06:15:18.282155",
     "status": "completed"
    },
    "tags": []
   },
   "source": [
    "## Skip Connection Model Analysis - ABC-GAN "
   ]
  },
  {
   "cell_type": "markdown",
   "id": "5744a8bf",
   "metadata": {
    "id": "5744a8bf",
    "papermill": {
     "duration": 0.019746,
     "end_time": "2022-06-07T06:15:18.340799",
     "exception": false,
     "start_time": "2022-06-07T06:15:18.321053",
     "status": "completed"
    },
    "tags": []
   },
   "source": [
    "### Weight Analysis \n",
    "\n",
    "Study the weights of the skip connection layer\n",
    "\n",
    "Equation of the skip connection is \n",
    "\n",
    "$output = y_{gan} * w + y_{abc} * (1-w)$"
   ]
  },
  {
   "cell_type": "code",
   "execution_count": 19,
   "id": "52c31dea",
   "metadata": {
    "execution": {
     "iopub.execute_input": "2022-06-07T06:15:18.383542Z",
     "iopub.status.busy": "2022-06-07T06:15:18.383147Z",
     "iopub.status.idle": "2022-06-07T06:15:18.386638Z",
     "shell.execute_reply": "2022-06-07T06:15:18.386886Z"
    },
    "id": "52c31dea",
    "papermill": {
     "duration": 0.026379,
     "end_time": "2022-06-07T06:15:18.387005",
     "exception": false,
     "start_time": "2022-06-07T06:15:18.360626",
     "status": "completed"
    },
    "tags": []
   },
   "outputs": [
    {
     "name": "stdout",
     "output_type": "stream",
     "text": [
      "Weight of the node at skip connection\n",
      "Parameter containing:\n",
      "tensor([[0.0839]], requires_grad=True)\n"
     ]
    },
    {
     "data": {
      "application/scrapbook.scrap.json+json": {
       "data": 0.08386994898319244,
       "encoder": "json",
       "name": "Skip Connection Weight",
       "version": 1
      }
     },
     "metadata": {
      "scrapbook": {
       "data": true,
       "display": false,
       "name": "Skip Connection Weight"
      }
     },
     "output_type": "display_data"
    }
   ],
   "source": [
    "print(\"Weight of the node at skip connection\")\n",
    "for name,param in gen3.named_parameters():\n",
    "    if(name == \"skipNode.weight\"):\n",
    "        print(param)\n",
    "        sb.glue(\"Skip Connection Weight\",param.item())"
   ]
  }
 ],
 "metadata": {
  "colab": {
   "collapsed_sections": [],
   "name": "ABC_GAN_Model-Catboost_Pre-gen.ipynb",
   "provenance": []
  },
  "interpreter": {
   "hash": "31f2aee4e71d21fbe5cf8b01ff0e069b9275f58929596ceb00d14d90e3e16cd6"
  },
  "kernelspec": {
   "display_name": "Python 3 (ipykernel)",
   "language": "python",
   "name": "python3"
  },
  "language_info": {
   "codemirror_mode": {
    "name": "ipython",
    "version": 3
   },
   "file_extension": ".py",
   "mimetype": "text/x-python",
   "name": "python",
   "nbconvert_exporter": "python",
   "pygments_lexer": "ipython3",
   "version": "3.8.11"
  },
  "papermill": {
   "default_parameters": {},
   "duration": 61.34575,
   "end_time": "2022-06-07T06:15:18.815961",
   "environment_variables": {},
   "exception": null,
   "input_path": "ABC_GAN-Catboost.ipynb",
   "output_path": "./ABC_GAN_Catboost/ABC-GAN_output_3_1.ipynb",
   "parameters": {
    "bias": 1,
    "variance": 0.1
   },
   "start_time": "2022-06-07T06:14:17.470211",
   "version": "2.3.3"
  }
 },
 "nbformat": 4,
 "nbformat_minor": 5
}