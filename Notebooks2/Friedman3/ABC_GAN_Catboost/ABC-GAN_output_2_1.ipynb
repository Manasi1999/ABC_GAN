{
 "cells": [
  {
   "cell_type": "markdown",
   "id": "622780e6",
   "metadata": {
    "id": "622780e6",
    "papermill": {
     "duration": 0.029554,
     "end_time": "2022-06-07T06:02:25.336937",
     "exception": false,
     "start_time": "2022-06-07T06:02:25.307383",
     "status": "completed"
    },
    "tags": []
   },
   "source": [
    "## Import Libraries "
   ]
  },
  {
   "cell_type": "code",
   "execution_count": 1,
   "id": "a62397e3",
   "metadata": {
    "execution": {
     "iopub.execute_input": "2022-06-07T06:02:25.373077Z",
     "iopub.status.busy": "2022-06-07T06:02:25.372521Z",
     "iopub.status.idle": "2022-06-07T06:02:25.375033Z",
     "shell.execute_reply": "2022-06-07T06:02:25.375503Z"
    },
    "id": "a62397e3",
    "papermill": {
     "duration": 0.024071,
     "end_time": "2022-06-07T06:02:25.375742",
     "exception": false,
     "start_time": "2022-06-07T06:02:25.351671",
     "status": "completed"
    },
    "tags": []
   },
   "outputs": [],
   "source": [
    "import warnings\n",
    "import sys\n",
    "sys.path.insert(0, '../../src')\n",
    "warnings.filterwarnings('ignore')"
   ]
  },
  {
   "cell_type": "code",
   "execution_count": 2,
   "id": "d6a4e155",
   "metadata": {
    "execution": {
     "iopub.execute_input": "2022-06-07T06:02:25.399288Z",
     "iopub.status.busy": "2022-06-07T06:02:25.398762Z",
     "iopub.status.idle": "2022-06-07T06:02:27.324080Z",
     "shell.execute_reply": "2022-06-07T06:02:27.324363Z"
    },
    "id": "d6a4e155",
    "papermill": {
     "duration": 1.938084,
     "end_time": "2022-06-07T06:02:27.324568",
     "exception": false,
     "start_time": "2022-06-07T06:02:25.386484",
     "status": "completed"
    },
    "tags": []
   },
   "outputs": [],
   "source": [
    "import ABC_train_test2\n",
    "import friedman1Dataset\n",
    "import network\n",
    "import dataset\n",
    "import sanityChecks\n",
    "import torch \n",
    "import scrapbook as sb\n",
    "from statistics import mean \n",
    "import catboost as ctb \n",
    "from sklearn.model_selection import train_test_split\n",
    "from sklearn.metrics import mean_squared_error,mean_absolute_error\n",
    "import numpy as np"
   ]
  },
  {
   "cell_type": "markdown",
   "id": "2fa5b0f7",
   "metadata": {
    "id": "2fa5b0f7",
    "papermill": {
     "duration": 0.007207,
     "end_time": "2022-06-07T06:02:27.339737",
     "exception": false,
     "start_time": "2022-06-07T06:02:27.332530",
     "status": "completed"
    },
    "tags": []
   },
   "source": [
    "## Parameters "
   ]
  },
  {
   "cell_type": "code",
   "execution_count": 3,
   "id": "783186fb",
   "metadata": {
    "execution": {
     "iopub.execute_input": "2022-06-07T06:02:27.356492Z",
     "iopub.status.busy": "2022-06-07T06:02:27.356114Z",
     "iopub.status.idle": "2022-06-07T06:02:27.357355Z",
     "shell.execute_reply": "2022-06-07T06:02:27.357602Z"
    },
    "id": "783186fb",
    "papermill": {
     "duration": 0.011084,
     "end_time": "2022-06-07T06:02:27.357715",
     "exception": false,
     "start_time": "2022-06-07T06:02:27.346631",
     "status": "completed"
    },
    "tags": [
     "parameters"
    ]
   },
   "outputs": [],
   "source": [
    "variance = 1\n",
    "bias = 1 "
   ]
  },
  {
   "cell_type": "code",
   "execution_count": 4,
   "id": "53d1eab8",
   "metadata": {
    "execution": {
     "iopub.execute_input": "2022-06-07T06:02:27.374524Z",
     "iopub.status.busy": "2022-06-07T06:02:27.374146Z",
     "iopub.status.idle": "2022-06-07T06:02:27.375370Z",
     "shell.execute_reply": "2022-06-07T06:02:27.375658Z"
    },
    "papermill": {
     "duration": 0.010653,
     "end_time": "2022-06-07T06:02:27.375771",
     "exception": false,
     "start_time": "2022-06-07T06:02:27.365118",
     "status": "completed"
    },
    "tags": [
     "injected-parameters"
    ]
   },
   "outputs": [],
   "source": [
    "# Parameters\n",
    "variance = 0.1\n",
    "bias = 1\n"
   ]
  },
  {
   "cell_type": "markdown",
   "id": "391cdbfd",
   "metadata": {
    "id": "391cdbfd",
    "papermill": {
     "duration": 0.007262,
     "end_time": "2022-06-07T06:02:27.390165",
     "exception": false,
     "start_time": "2022-06-07T06:02:27.382903",
     "status": "completed"
    },
    "tags": []
   },
   "source": [
    "## Dataset \n"
   ]
  },
  {
   "cell_type": "code",
   "execution_count": 5,
   "id": "5b51f161",
   "metadata": {
    "execution": {
     "iopub.execute_input": "2022-06-07T06:02:27.407090Z",
     "iopub.status.busy": "2022-06-07T06:02:27.406721Z",
     "iopub.status.idle": "2022-06-07T06:02:27.407980Z",
     "shell.execute_reply": "2022-06-07T06:02:27.408227Z"
    },
    "id": "5b51f161",
    "papermill": {
     "duration": 0.01082,
     "end_time": "2022-06-07T06:02:27.408345",
     "exception": false,
     "start_time": "2022-06-07T06:02:27.397525",
     "status": "completed"
    },
    "tags": []
   },
   "outputs": [],
   "source": [
    "#Parameters \n",
    "n_features = 5\n",
    "n_samples= 100\n",
    "n_target = 1 "
   ]
  },
  {
   "cell_type": "code",
   "execution_count": 6,
   "id": "5d6eced4",
   "metadata": {
    "execution": {
     "iopub.execute_input": "2022-06-07T06:02:27.425313Z",
     "iopub.status.busy": "2022-06-07T06:02:27.424877Z",
     "iopub.status.idle": "2022-06-07T06:02:27.431654Z",
     "shell.execute_reply": "2022-06-07T06:02:27.431974Z"
    },
    "id": "5d6eced4",
    "papermill": {
     "duration": 0.016674,
     "end_time": "2022-06-07T06:02:27.432113",
     "exception": false,
     "start_time": "2022-06-07T06:02:27.415439",
     "status": "completed"
    },
    "tags": []
   },
   "outputs": [
    {
     "name": "stdout",
     "output_type": "stream",
     "text": [
      "         X0        X1        X2        X3        X4         Y\n",
      "0  1.591806 -1.265358  0.289815 -0.557562 -1.238539 -1.032070\n",
      "1  0.895332  0.772733 -0.313628  1.304777 -0.955088  0.968435\n",
      "2  1.500837  1.152551  1.170998  0.317384 -1.695932 -0.248289\n",
      "3 -1.498522  1.554226  0.856266 -1.500895  0.273138 -1.453255\n",
      "4 -0.382291 -0.693999 -0.604342 -0.351183 -0.548216 -0.826959\n"
     ]
    }
   ],
   "source": [
    "X,Y = friedman1Dataset.friedman1_data(n_samples,n_features)"
   ]
  },
  {
   "cell_type": "code",
   "execution_count": 7,
   "id": "fe007438",
   "metadata": {
    "execution": {
     "iopub.execute_input": "2022-06-07T06:02:27.450545Z",
     "iopub.status.busy": "2022-06-07T06:02:27.450100Z",
     "iopub.status.idle": "2022-06-07T06:02:27.451714Z",
     "shell.execute_reply": "2022-06-07T06:02:27.451958Z"
    },
    "id": "fe007438",
    "papermill": {
     "duration": 0.012333,
     "end_time": "2022-06-07T06:02:27.452078",
     "exception": false,
     "start_time": "2022-06-07T06:02:27.439745",
     "status": "completed"
    },
    "tags": []
   },
   "outputs": [],
   "source": [
    "#Train test split for dataset \n",
    "X_train,X_test,Y_train,Y_test = train_test_split(X,Y,test_size = 0.2)\n",
    "train_data = dataset.CustomDataset(X_train,Y_train)\n",
    "test_data = dataset.CustomDataset(X_test,Y_test)\n"
   ]
  },
  {
   "cell_type": "markdown",
   "id": "a9a1af34",
   "metadata": {
    "id": "a9a1af34",
    "papermill": {
     "duration": 0.007784,
     "end_time": "2022-06-07T06:02:27.467299",
     "exception": false,
     "start_time": "2022-06-07T06:02:27.459515",
     "status": "completed"
    },
    "tags": []
   },
   "source": [
    "## Training Parameters "
   ]
  },
  {
   "cell_type": "code",
   "execution_count": 8,
   "id": "952b7fc8",
   "metadata": {
    "execution": {
     "iopub.execute_input": "2022-06-07T06:02:27.485132Z",
     "iopub.status.busy": "2022-06-07T06:02:27.484631Z",
     "iopub.status.idle": "2022-06-07T06:02:27.485774Z",
     "shell.execute_reply": "2022-06-07T06:02:27.486015Z"
    },
    "id": "952b7fc8",
    "papermill": {
     "duration": 0.011631,
     "end_time": "2022-06-07T06:02:27.486135",
     "exception": false,
     "start_time": "2022-06-07T06:02:27.474504",
     "status": "completed"
    },
    "tags": []
   },
   "outputs": [],
   "source": [
    "batch_size = 32\n",
    "n_epochs = 1000\n",
    "#Select the device \n",
    "device = torch.device('cuda' if torch.cuda.is_available() else 'cpu')"
   ]
  },
  {
   "cell_type": "markdown",
   "id": "a95e1600",
   "metadata": {
    "id": "a95e1600",
    "papermill": {
     "duration": 0.007427,
     "end_time": "2022-06-07T06:02:27.500989",
     "exception": false,
     "start_time": "2022-06-07T06:02:27.493562",
     "status": "completed"
    },
    "tags": []
   },
   "source": [
    "# ABC Pre-generator Model \n",
    "\n",
    "1. The catboost model is used as a pre-generator model for the ABC-GAN. \n",
    "2. The model is first trained on the entire dataset \n",
    "3. It generats X,Y pairs and we add some Gaussian noise with mean 0 and variance 1 to it which is then feed as input to the generator.\n"
   ]
  },
  {
   "cell_type": "code",
   "execution_count": 9,
   "id": "ff8ce7bd",
   "metadata": {
    "execution": {
     "iopub.execute_input": "2022-06-07T06:02:27.520579Z",
     "iopub.status.busy": "2022-06-07T06:02:27.520205Z",
     "iopub.status.idle": "2022-06-07T06:02:28.143956Z",
     "shell.execute_reply": "2022-06-07T06:02:28.144238Z"
    },
    "id": "ff8ce7bd",
    "papermill": {
     "duration": 0.636018,
     "end_time": "2022-06-07T06:02:28.144382",
     "exception": false,
     "start_time": "2022-06-07T06:02:27.508364",
     "status": "completed"
    },
    "tags": []
   },
   "outputs": [
    {
     "name": "stdout",
     "output_type": "stream",
     "text": [
      "Learning rate set to 0.024897\n",
      "0:\tlearn: 1.0013623\ttotal: 57.3ms\tremaining: 57.3s\n",
      "1:\tlearn: 0.9909642\ttotal: 57.9ms\tremaining: 28.9s\n",
      "2:\tlearn: 0.9806793\ttotal: 58.3ms\tremaining: 19.4s\n",
      "3:\tlearn: 0.9706236\ttotal: 58.8ms\tremaining: 14.6s\n",
      "4:\tlearn: 0.9623910\ttotal: 59.4ms\tremaining: 11.8s\n",
      "5:\tlearn: 0.9522334\ttotal: 59.9ms\tremaining: 9.92s\n",
      "6:\tlearn: 0.9411898\ttotal: 60.6ms\tremaining: 8.6s\n",
      "7:\tlearn: 0.9302638\ttotal: 61.4ms\tremaining: 7.62s\n",
      "8:\tlearn: 0.9210049\ttotal: 61.9ms\tremaining: 6.82s\n",
      "9:\tlearn: 0.9120716\ttotal: 62.5ms\tremaining: 6.18s\n",
      "10:\tlearn: 0.9021248\ttotal: 63ms\tremaining: 5.66s\n",
      "11:\tlearn: 0.8924511\ttotal: 63.5ms\tremaining: 5.23s\n",
      "12:\tlearn: 0.8832506\ttotal: 64ms\tremaining: 4.86s\n",
      "13:\tlearn: 0.8731120\ttotal: 64.5ms\tremaining: 4.54s\n",
      "14:\tlearn: 0.8655920\ttotal: 65ms\tremaining: 4.27s\n",
      "15:\tlearn: 0.8591725\ttotal: 65.5ms\tremaining: 4.03s\n",
      "16:\tlearn: 0.8508998\ttotal: 66ms\tremaining: 3.82s\n",
      "17:\tlearn: 0.8427964\ttotal: 66.5ms\tremaining: 3.63s\n",
      "18:\tlearn: 0.8343146\ttotal: 66.9ms\tremaining: 3.46s\n",
      "19:\tlearn: 0.8258438\ttotal: 67.3ms\tremaining: 3.3s\n",
      "20:\tlearn: 0.8168908\ttotal: 67.8ms\tremaining: 3.16s\n",
      "21:\tlearn: 0.8074498\ttotal: 68.1ms\tremaining: 3.03s\n",
      "22:\tlearn: 0.8004039\ttotal: 68.6ms\tremaining: 2.91s\n",
      "23:\tlearn: 0.7923678\ttotal: 69.1ms\tremaining: 2.81s\n",
      "24:\tlearn: 0.7845686\ttotal: 69.5ms\tremaining: 2.71s\n",
      "25:\tlearn: 0.7764212\ttotal: 69.9ms\tremaining: 2.62s\n",
      "26:\tlearn: 0.7694767\ttotal: 70.3ms\tremaining: 2.53s\n",
      "27:\tlearn: 0.7611380\ttotal: 70.7ms\tremaining: 2.45s\n",
      "28:\tlearn: 0.7545799\ttotal: 71.3ms\tremaining: 2.39s\n",
      "29:\tlearn: 0.7485875\ttotal: 72ms\tremaining: 2.33s\n",
      "30:\tlearn: 0.7404424\ttotal: 72.9ms\tremaining: 2.28s\n",
      "31:\tlearn: 0.7329424\ttotal: 73.6ms\tremaining: 2.23s\n",
      "32:\tlearn: 0.7258364\ttotal: 73.9ms\tremaining: 2.17s\n",
      "33:\tlearn: 0.7183060\ttotal: 74.5ms\tremaining: 2.12s\n",
      "34:\tlearn: 0.7117756\ttotal: 74.9ms\tremaining: 2.06s\n",
      "35:\tlearn: 0.7054864\ttotal: 75.3ms\tremaining: 2.02s\n",
      "36:\tlearn: 0.6986420\ttotal: 75.8ms\tremaining: 1.97s\n",
      "37:\tlearn: 0.6923011\ttotal: 76.3ms\tremaining: 1.93s\n",
      "38:\tlearn: 0.6864762\ttotal: 77.3ms\tremaining: 1.91s\n",
      "39:\tlearn: 0.6797875\ttotal: 77.8ms\tremaining: 1.87s\n",
      "40:\tlearn: 0.6732794\ttotal: 78.1ms\tremaining: 1.83s\n",
      "41:\tlearn: 0.6672367\ttotal: 78.5ms\tremaining: 1.79s\n",
      "42:\tlearn: 0.6616434\ttotal: 78.9ms\tremaining: 1.76s\n",
      "43:\tlearn: 0.6543934\ttotal: 79.4ms\tremaining: 1.73s\n",
      "44:\tlearn: 0.6477130\ttotal: 79.8ms\tremaining: 1.69s\n",
      "45:\tlearn: 0.6415772\ttotal: 80.1ms\tremaining: 1.66s\n",
      "46:\tlearn: 0.6365716\ttotal: 80.5ms\tremaining: 1.63s\n",
      "47:\tlearn: 0.6307006\ttotal: 80.9ms\tremaining: 1.6s\n",
      "48:\tlearn: 0.6255945\ttotal: 81.3ms\tremaining: 1.58s\n",
      "49:\tlearn: 0.6206572\ttotal: 82ms\tremaining: 1.56s\n",
      "50:\tlearn: 0.6146469\ttotal: 82.5ms\tremaining: 1.53s\n",
      "51:\tlearn: 0.6085063\ttotal: 83ms\tremaining: 1.51s\n",
      "52:\tlearn: 0.6028822\ttotal: 83.5ms\tremaining: 1.49s\n",
      "53:\tlearn: 0.5979714\ttotal: 84.1ms\tremaining: 1.47s\n",
      "54:\tlearn: 0.5924119\ttotal: 84.5ms\tremaining: 1.45s\n",
      "55:\tlearn: 0.5862831\ttotal: 85.1ms\tremaining: 1.44s\n",
      "56:\tlearn: 0.5804471\ttotal: 85.6ms\tremaining: 1.42s\n",
      "57:\tlearn: 0.5748032\ttotal: 86.1ms\tremaining: 1.4s\n",
      "58:\tlearn: 0.5692965\ttotal: 87.4ms\tremaining: 1.39s\n",
      "59:\tlearn: 0.5651985\ttotal: 88.2ms\tremaining: 1.38s\n",
      "60:\tlearn: 0.5607099\ttotal: 88.8ms\tremaining: 1.37s\n",
      "61:\tlearn: 0.5556124\ttotal: 89.2ms\tremaining: 1.35s\n",
      "62:\tlearn: 0.5498587\ttotal: 89.9ms\tremaining: 1.34s\n",
      "63:\tlearn: 0.5453344\ttotal: 90.6ms\tremaining: 1.32s\n",
      "64:\tlearn: 0.5396788\ttotal: 91ms\tremaining: 1.31s\n",
      "65:\tlearn: 0.5345744\ttotal: 91.5ms\tremaining: 1.29s\n",
      "66:\tlearn: 0.5300258\ttotal: 92ms\tremaining: 1.28s\n",
      "67:\tlearn: 0.5251182\ttotal: 92.4ms\tremaining: 1.26s\n",
      "68:\tlearn: 0.5203679\ttotal: 92.9ms\tremaining: 1.25s\n",
      "69:\tlearn: 0.5164409\ttotal: 93.4ms\tremaining: 1.24s\n",
      "70:\tlearn: 0.5123181\ttotal: 94ms\tremaining: 1.23s\n",
      "71:\tlearn: 0.5078302\ttotal: 94.6ms\tremaining: 1.22s\n",
      "72:\tlearn: 0.5032146\ttotal: 94.9ms\tremaining: 1.21s\n",
      "73:\tlearn: 0.4991078\ttotal: 95.6ms\tremaining: 1.2s\n",
      "74:\tlearn: 0.4949901\ttotal: 96.1ms\tremaining: 1.18s\n",
      "75:\tlearn: 0.4902292\ttotal: 96.6ms\tremaining: 1.17s\n",
      "76:\tlearn: 0.4859766\ttotal: 97.1ms\tremaining: 1.16s\n",
      "77:\tlearn: 0.4820110\ttotal: 97.5ms\tremaining: 1.15s\n",
      "78:\tlearn: 0.4771354\ttotal: 98ms\tremaining: 1.14s\n",
      "79:\tlearn: 0.4733244\ttotal: 98.6ms\tremaining: 1.13s\n",
      "80:\tlearn: 0.4687999\ttotal: 99ms\tremaining: 1.12s\n",
      "81:\tlearn: 0.4644711\ttotal: 99.5ms\tremaining: 1.11s\n",
      "82:\tlearn: 0.4607389\ttotal: 100ms\tremaining: 1.1s\n",
      "83:\tlearn: 0.4573751\ttotal: 100ms\tremaining: 1.09s\n",
      "84:\tlearn: 0.4532175\ttotal: 101ms\tremaining: 1.09s\n",
      "85:\tlearn: 0.4493794\ttotal: 101ms\tremaining: 1.08s\n",
      "86:\tlearn: 0.4463936\ttotal: 102ms\tremaining: 1.07s\n"
     ]
    },
    {
     "name": "stdout",
     "output_type": "stream",
     "text": [
      "87:\tlearn: 0.4421813\ttotal: 103ms\tremaining: 1.06s\n",
      "88:\tlearn: 0.4387339\ttotal: 103ms\tremaining: 1.06s\n",
      "89:\tlearn: 0.4353644\ttotal: 104ms\tremaining: 1.05s\n",
      "90:\tlearn: 0.4321063\ttotal: 105ms\tremaining: 1.04s\n",
      "91:\tlearn: 0.4281537\ttotal: 105ms\tremaining: 1.04s\n",
      "92:\tlearn: 0.4245700\ttotal: 106ms\tremaining: 1.03s\n",
      "93:\tlearn: 0.4208265\ttotal: 106ms\tremaining: 1.02s\n",
      "94:\tlearn: 0.4180065\ttotal: 107ms\tremaining: 1.01s\n",
      "95:\tlearn: 0.4142778\ttotal: 107ms\tremaining: 1.01s\n",
      "96:\tlearn: 0.4112983\ttotal: 107ms\tremaining: 999ms\n",
      "97:\tlearn: 0.4075287\ttotal: 108ms\tremaining: 992ms\n",
      "98:\tlearn: 0.4042287\ttotal: 108ms\tremaining: 984ms\n",
      "99:\tlearn: 0.4008161\ttotal: 109ms\tremaining: 978ms\n",
      "100:\tlearn: 0.3976473\ttotal: 109ms\tremaining: 970ms\n",
      "101:\tlearn: 0.3946184\ttotal: 110ms\tremaining: 965ms\n",
      "102:\tlearn: 0.3915927\ttotal: 110ms\tremaining: 958ms\n",
      "103:\tlearn: 0.3887229\ttotal: 110ms\tremaining: 951ms\n",
      "104:\tlearn: 0.3859688\ttotal: 111ms\tremaining: 945ms\n",
      "105:\tlearn: 0.3827103\ttotal: 111ms\tremaining: 940ms\n",
      "106:\tlearn: 0.3795668\ttotal: 112ms\tremaining: 934ms\n",
      "107:\tlearn: 0.3768765\ttotal: 112ms\tremaining: 928ms\n",
      "108:\tlearn: 0.3732203\ttotal: 113ms\tremaining: 921ms\n",
      "109:\tlearn: 0.3702713\ttotal: 113ms\tremaining: 915ms\n",
      "110:\tlearn: 0.3673046\ttotal: 114ms\tremaining: 909ms\n",
      "111:\tlearn: 0.3644739\ttotal: 114ms\tremaining: 904ms\n",
      "112:\tlearn: 0.3614052\ttotal: 114ms\tremaining: 897ms\n",
      "113:\tlearn: 0.3590559\ttotal: 115ms\tremaining: 892ms\n",
      "114:\tlearn: 0.3561103\ttotal: 115ms\tremaining: 886ms\n",
      "115:\tlearn: 0.3531695\ttotal: 116ms\tremaining: 880ms\n",
      "116:\tlearn: 0.3506811\ttotal: 116ms\tremaining: 875ms\n",
      "117:\tlearn: 0.3479283\ttotal: 117ms\tremaining: 873ms\n",
      "118:\tlearn: 0.3457253\ttotal: 117ms\tremaining: 869ms\n",
      "119:\tlearn: 0.3429350\ttotal: 118ms\tremaining: 866ms\n",
      "120:\tlearn: 0.3403355\ttotal: 119ms\tremaining: 862ms\n",
      "121:\tlearn: 0.3379740\ttotal: 119ms\tremaining: 858ms\n",
      "122:\tlearn: 0.3357685\ttotal: 120ms\tremaining: 854ms\n",
      "123:\tlearn: 0.3335803\ttotal: 120ms\tremaining: 850ms\n",
      "124:\tlearn: 0.3309866\ttotal: 121ms\tremaining: 846ms\n",
      "125:\tlearn: 0.3286767\ttotal: 121ms\tremaining: 841ms\n",
      "126:\tlearn: 0.3262877\ttotal: 122ms\tremaining: 837ms\n",
      "127:\tlearn: 0.3237670\ttotal: 122ms\tremaining: 832ms\n",
      "128:\tlearn: 0.3213286\ttotal: 123ms\tremaining: 827ms\n",
      "129:\tlearn: 0.3188455\ttotal: 123ms\tremaining: 824ms\n",
      "130:\tlearn: 0.3164492\ttotal: 124ms\tremaining: 820ms\n",
      "131:\tlearn: 0.3145611\ttotal: 124ms\tremaining: 816ms\n",
      "132:\tlearn: 0.3124339\ttotal: 124ms\tremaining: 812ms\n",
      "133:\tlearn: 0.3100637\ttotal: 125ms\tremaining: 807ms\n",
      "134:\tlearn: 0.3075251\ttotal: 125ms\tremaining: 804ms\n",
      "135:\tlearn: 0.3055122\ttotal: 126ms\tremaining: 799ms\n",
      "136:\tlearn: 0.3036707\ttotal: 126ms\tremaining: 795ms\n",
      "137:\tlearn: 0.3013885\ttotal: 127ms\tremaining: 792ms\n",
      "138:\tlearn: 0.2992250\ttotal: 127ms\tremaining: 788ms\n",
      "139:\tlearn: 0.2967014\ttotal: 128ms\tremaining: 785ms\n",
      "140:\tlearn: 0.2943204\ttotal: 128ms\tremaining: 781ms\n",
      "141:\tlearn: 0.2919940\ttotal: 129ms\tremaining: 777ms\n",
      "142:\tlearn: 0.2893126\ttotal: 129ms\tremaining: 774ms\n",
      "143:\tlearn: 0.2870208\ttotal: 129ms\tremaining: 770ms\n",
      "144:\tlearn: 0.2847876\ttotal: 130ms\tremaining: 765ms\n",
      "145:\tlearn: 0.2824710\ttotal: 130ms\tremaining: 763ms\n",
      "146:\tlearn: 0.2805442\ttotal: 131ms\tremaining: 760ms\n",
      "147:\tlearn: 0.2783949\ttotal: 131ms\tremaining: 756ms\n",
      "148:\tlearn: 0.2762993\ttotal: 132ms\tremaining: 755ms\n",
      "149:\tlearn: 0.2740673\ttotal: 133ms\tremaining: 752ms\n",
      "150:\tlearn: 0.2720848\ttotal: 133ms\tremaining: 749ms\n",
      "151:\tlearn: 0.2700935\ttotal: 134ms\tremaining: 746ms\n",
      "152:\tlearn: 0.2682295\ttotal: 134ms\tremaining: 743ms\n",
      "153:\tlearn: 0.2663957\ttotal: 135ms\tremaining: 740ms\n",
      "154:\tlearn: 0.2642299\ttotal: 135ms\tremaining: 737ms\n",
      "155:\tlearn: 0.2622512\ttotal: 136ms\tremaining: 734ms\n",
      "156:\tlearn: 0.2602618\ttotal: 136ms\tremaining: 730ms\n",
      "157:\tlearn: 0.2582657\ttotal: 137ms\tremaining: 728ms\n",
      "158:\tlearn: 0.2564083\ttotal: 137ms\tremaining: 724ms\n",
      "159:\tlearn: 0.2544637\ttotal: 137ms\tremaining: 721ms\n",
      "160:\tlearn: 0.2526136\ttotal: 138ms\tremaining: 718ms\n",
      "161:\tlearn: 0.2510537\ttotal: 138ms\tremaining: 715ms\n",
      "162:\tlearn: 0.2491752\ttotal: 139ms\tremaining: 712ms\n",
      "163:\tlearn: 0.2474923\ttotal: 139ms\tremaining: 709ms\n",
      "164:\tlearn: 0.2455781\ttotal: 140ms\tremaining: 707ms\n",
      "165:\tlearn: 0.2440575\ttotal: 140ms\tremaining: 704ms\n",
      "166:\tlearn: 0.2426981\ttotal: 141ms\tremaining: 702ms\n",
      "167:\tlearn: 0.2408083\ttotal: 141ms\tremaining: 700ms\n",
      "168:\tlearn: 0.2391329\ttotal: 142ms\tremaining: 698ms\n",
      "169:\tlearn: 0.2373580\ttotal: 142ms\tremaining: 695ms\n",
      "170:\tlearn: 0.2359034\ttotal: 143ms\tremaining: 693ms\n",
      "171:\tlearn: 0.2344633\ttotal: 143ms\tremaining: 691ms\n",
      "172:\tlearn: 0.2325176\ttotal: 144ms\tremaining: 689ms\n",
      "173:\tlearn: 0.2307352\ttotal: 145ms\tremaining: 686ms\n",
      "174:\tlearn: 0.2291226\ttotal: 145ms\tremaining: 683ms\n",
      "175:\tlearn: 0.2272732\ttotal: 146ms\tremaining: 681ms\n",
      "176:\tlearn: 0.2258230\ttotal: 146ms\tremaining: 679ms\n",
      "177:\tlearn: 0.2243862\ttotal: 147ms\tremaining: 678ms\n",
      "178:\tlearn: 0.2227679\ttotal: 147ms\tremaining: 675ms\n",
      "179:\tlearn: 0.2211472\ttotal: 148ms\tremaining: 673ms\n",
      "180:\tlearn: 0.2194742\ttotal: 148ms\tremaining: 670ms\n",
      "181:\tlearn: 0.2179282\ttotal: 149ms\tremaining: 670ms\n",
      "182:\tlearn: 0.2165166\ttotal: 149ms\tremaining: 667ms\n",
      "183:\tlearn: 0.2146317\ttotal: 150ms\tremaining: 666ms\n",
      "184:\tlearn: 0.2131287\ttotal: 151ms\tremaining: 664ms\n",
      "185:\tlearn: 0.2118907\ttotal: 151ms\tremaining: 662ms\n",
      "186:\tlearn: 0.2106640\ttotal: 152ms\tremaining: 660ms\n",
      "187:\tlearn: 0.2091152\ttotal: 152ms\tremaining: 658ms\n",
      "188:\tlearn: 0.2078020\ttotal: 153ms\tremaining: 656ms\n",
      "189:\tlearn: 0.2062223\ttotal: 153ms\tremaining: 654ms\n",
      "190:\tlearn: 0.2046641\ttotal: 154ms\tremaining: 652ms\n",
      "191:\tlearn: 0.2030906\ttotal: 154ms\tremaining: 650ms\n",
      "192:\tlearn: 0.2015923\ttotal: 155ms\tremaining: 648ms\n",
      "193:\tlearn: 0.2001956\ttotal: 155ms\tremaining: 646ms\n",
      "194:\tlearn: 0.1988484\ttotal: 156ms\tremaining: 643ms\n",
      "195:\tlearn: 0.1975953\ttotal: 156ms\tremaining: 641ms\n",
      "196:\tlearn: 0.1964426\ttotal: 157ms\tremaining: 639ms\n",
      "197:\tlearn: 0.1950501\ttotal: 157ms\tremaining: 637ms\n",
      "198:\tlearn: 0.1935087\ttotal: 158ms\tremaining: 634ms\n",
      "199:\tlearn: 0.1922092\ttotal: 158ms\tremaining: 632ms\n",
      "200:\tlearn: 0.1911493\ttotal: 158ms\tremaining: 630ms\n",
      "201:\tlearn: 0.1897138\ttotal: 159ms\tremaining: 628ms\n",
      "202:\tlearn: 0.1884885\ttotal: 159ms\tremaining: 626ms\n",
      "203:\tlearn: 0.1870559\ttotal: 160ms\tremaining: 624ms\n",
      "204:\tlearn: 0.1856363\ttotal: 160ms\tremaining: 622ms\n",
      "205:\tlearn: 0.1844209\ttotal: 161ms\tremaining: 620ms\n",
      "206:\tlearn: 0.1834519\ttotal: 161ms\tremaining: 619ms\n",
      "207:\tlearn: 0.1823765\ttotal: 162ms\tremaining: 616ms\n",
      "208:\tlearn: 0.1814301\ttotal: 162ms\tremaining: 615ms\n",
      "209:\tlearn: 0.1802131\ttotal: 163ms\tremaining: 612ms\n",
      "210:\tlearn: 0.1789103\ttotal: 163ms\tremaining: 611ms\n",
      "211:\tlearn: 0.1777762\ttotal: 164ms\tremaining: 610ms\n",
      "212:\tlearn: 0.1765272\ttotal: 165ms\tremaining: 608ms\n",
      "213:\tlearn: 0.1750290\ttotal: 165ms\tremaining: 606ms\n",
      "214:\tlearn: 0.1735483\ttotal: 165ms\tremaining: 604ms\n",
      "215:\tlearn: 0.1723954\ttotal: 166ms\tremaining: 602ms\n",
      "216:\tlearn: 0.1713385\ttotal: 166ms\tremaining: 600ms\n",
      "217:\tlearn: 0.1701464\ttotal: 167ms\tremaining: 598ms\n",
      "218:\tlearn: 0.1689942\ttotal: 167ms\tremaining: 596ms\n",
      "219:\tlearn: 0.1676487\ttotal: 168ms\tremaining: 595ms\n",
      "220:\tlearn: 0.1664013\ttotal: 168ms\tremaining: 592ms\n",
      "221:\tlearn: 0.1652877\ttotal: 168ms\tremaining: 590ms\n",
      "222:\tlearn: 0.1640642\ttotal: 169ms\tremaining: 589ms\n",
      "223:\tlearn: 0.1629679\ttotal: 170ms\tremaining: 587ms\n",
      "224:\tlearn: 0.1619829\ttotal: 170ms\tremaining: 585ms\n",
      "225:\tlearn: 0.1608070\ttotal: 170ms\tremaining: 583ms\n",
      "226:\tlearn: 0.1597157\ttotal: 171ms\tremaining: 582ms\n",
      "227:\tlearn: 0.1585753\ttotal: 171ms\tremaining: 580ms\n",
      "228:\tlearn: 0.1574941\ttotal: 172ms\tremaining: 578ms\n",
      "229:\tlearn: 0.1563193\ttotal: 172ms\tremaining: 576ms\n",
      "230:\tlearn: 0.1552394\ttotal: 173ms\tremaining: 575ms\n",
      "231:\tlearn: 0.1541535\ttotal: 173ms\tremaining: 574ms\n",
      "232:\tlearn: 0.1530164\ttotal: 174ms\tremaining: 572ms\n",
      "233:\tlearn: 0.1519950\ttotal: 174ms\tremaining: 570ms\n",
      "234:\tlearn: 0.1509951\ttotal: 175ms\tremaining: 569ms\n",
      "235:\tlearn: 0.1500381\ttotal: 175ms\tremaining: 567ms\n",
      "236:\tlearn: 0.1489362\ttotal: 176ms\tremaining: 565ms\n",
      "237:\tlearn: 0.1479512\ttotal: 176ms\tremaining: 564ms\n",
      "238:\tlearn: 0.1469613\ttotal: 177ms\tremaining: 563ms\n",
      "239:\tlearn: 0.1459493\ttotal: 177ms\tremaining: 561ms\n",
      "240:\tlearn: 0.1450395\ttotal: 178ms\tremaining: 561ms\n",
      "241:\tlearn: 0.1441360\ttotal: 179ms\tremaining: 559ms\n",
      "242:\tlearn: 0.1431357\ttotal: 179ms\tremaining: 558ms\n",
      "243:\tlearn: 0.1422215\ttotal: 180ms\tremaining: 556ms\n",
      "244:\tlearn: 0.1412315\ttotal: 180ms\tremaining: 555ms\n",
      "245:\tlearn: 0.1403175\ttotal: 181ms\tremaining: 554ms\n",
      "246:\tlearn: 0.1393374\ttotal: 181ms\tremaining: 552ms\n",
      "247:\tlearn: 0.1384517\ttotal: 182ms\tremaining: 551ms\n",
      "248:\tlearn: 0.1374070\ttotal: 182ms\tremaining: 550ms\n",
      "249:\tlearn: 0.1363940\ttotal: 183ms\tremaining: 548ms\n",
      "250:\tlearn: 0.1355616\ttotal: 183ms\tremaining: 547ms\n",
      "251:\tlearn: 0.1347276\ttotal: 184ms\tremaining: 545ms\n",
      "252:\tlearn: 0.1337562\ttotal: 184ms\tremaining: 544ms\n",
      "253:\tlearn: 0.1329059\ttotal: 185ms\tremaining: 542ms\n",
      "254:\tlearn: 0.1320161\ttotal: 185ms\tremaining: 540ms\n",
      "255:\tlearn: 0.1311292\ttotal: 185ms\tremaining: 539ms\n"
     ]
    },
    {
     "name": "stdout",
     "output_type": "stream",
     "text": [
      "256:\tlearn: 0.1301861\ttotal: 186ms\tremaining: 538ms\n",
      "257:\tlearn: 0.1293840\ttotal: 187ms\tremaining: 537ms\n",
      "258:\tlearn: 0.1284633\ttotal: 187ms\tremaining: 535ms\n",
      "259:\tlearn: 0.1276600\ttotal: 188ms\tremaining: 534ms\n",
      "260:\tlearn: 0.1267938\ttotal: 188ms\tremaining: 532ms\n",
      "261:\tlearn: 0.1259123\ttotal: 188ms\tremaining: 531ms\n",
      "262:\tlearn: 0.1250423\ttotal: 189ms\tremaining: 529ms\n",
      "263:\tlearn: 0.1241917\ttotal: 189ms\tremaining: 527ms\n",
      "264:\tlearn: 0.1234275\ttotal: 190ms\tremaining: 526ms\n",
      "265:\tlearn: 0.1224535\ttotal: 190ms\tremaining: 524ms\n",
      "266:\tlearn: 0.1215630\ttotal: 190ms\tremaining: 523ms\n",
      "267:\tlearn: 0.1206426\ttotal: 191ms\tremaining: 522ms\n",
      "268:\tlearn: 0.1196747\ttotal: 191ms\tremaining: 520ms\n",
      "269:\tlearn: 0.1188883\ttotal: 192ms\tremaining: 519ms\n",
      "270:\tlearn: 0.1181375\ttotal: 193ms\tremaining: 519ms\n",
      "271:\tlearn: 0.1173213\ttotal: 193ms\tremaining: 518ms\n",
      "272:\tlearn: 0.1164355\ttotal: 194ms\tremaining: 516ms\n",
      "273:\tlearn: 0.1156936\ttotal: 194ms\tremaining: 515ms\n",
      "274:\tlearn: 0.1149505\ttotal: 195ms\tremaining: 514ms\n",
      "275:\tlearn: 0.1139798\ttotal: 196ms\tremaining: 514ms\n",
      "276:\tlearn: 0.1132090\ttotal: 196ms\tremaining: 513ms\n",
      "277:\tlearn: 0.1125075\ttotal: 197ms\tremaining: 511ms\n",
      "278:\tlearn: 0.1117485\ttotal: 197ms\tremaining: 510ms\n",
      "279:\tlearn: 0.1109886\ttotal: 198ms\tremaining: 509ms\n",
      "280:\tlearn: 0.1101604\ttotal: 198ms\tremaining: 507ms\n",
      "281:\tlearn: 0.1093524\ttotal: 199ms\tremaining: 506ms\n",
      "282:\tlearn: 0.1085186\ttotal: 199ms\tremaining: 505ms\n",
      "283:\tlearn: 0.1076513\ttotal: 200ms\tremaining: 504ms\n",
      "284:\tlearn: 0.1069816\ttotal: 200ms\tremaining: 502ms\n",
      "285:\tlearn: 0.1062678\ttotal: 201ms\tremaining: 501ms\n",
      "286:\tlearn: 0.1055713\ttotal: 201ms\tremaining: 500ms\n",
      "287:\tlearn: 0.1048511\ttotal: 201ms\tremaining: 498ms\n",
      "288:\tlearn: 0.1041972\ttotal: 202ms\tremaining: 497ms\n",
      "289:\tlearn: 0.1036390\ttotal: 203ms\tremaining: 496ms\n",
      "290:\tlearn: 0.1030293\ttotal: 203ms\tremaining: 495ms\n",
      "291:\tlearn: 0.1023433\ttotal: 204ms\tremaining: 494ms\n",
      "292:\tlearn: 0.1016898\ttotal: 204ms\tremaining: 493ms\n",
      "293:\tlearn: 0.1009406\ttotal: 205ms\tremaining: 492ms\n",
      "294:\tlearn: 0.1002912\ttotal: 205ms\tremaining: 491ms\n",
      "295:\tlearn: 0.0995320\ttotal: 206ms\tremaining: 490ms\n",
      "296:\tlearn: 0.0989463\ttotal: 207ms\tremaining: 489ms\n",
      "297:\tlearn: 0.0982861\ttotal: 207ms\tremaining: 487ms\n",
      "298:\tlearn: 0.0977308\ttotal: 207ms\tremaining: 486ms\n",
      "299:\tlearn: 0.0970275\ttotal: 208ms\tremaining: 485ms\n",
      "300:\tlearn: 0.0963217\ttotal: 208ms\tremaining: 483ms\n",
      "301:\tlearn: 0.0956849\ttotal: 208ms\tremaining: 482ms\n",
      "302:\tlearn: 0.0951622\ttotal: 209ms\tremaining: 481ms\n",
      "303:\tlearn: 0.0946169\ttotal: 210ms\tremaining: 480ms\n",
      "304:\tlearn: 0.0940196\ttotal: 210ms\tremaining: 479ms\n",
      "305:\tlearn: 0.0934149\ttotal: 211ms\tremaining: 478ms\n",
      "306:\tlearn: 0.0928062\ttotal: 211ms\tremaining: 477ms\n",
      "307:\tlearn: 0.0922247\ttotal: 212ms\tremaining: 476ms\n",
      "308:\tlearn: 0.0917524\ttotal: 213ms\tremaining: 475ms\n",
      "309:\tlearn: 0.0912415\ttotal: 213ms\tremaining: 474ms\n",
      "310:\tlearn: 0.0905788\ttotal: 213ms\tremaining: 473ms\n",
      "311:\tlearn: 0.0899830\ttotal: 214ms\tremaining: 472ms\n",
      "312:\tlearn: 0.0894977\ttotal: 214ms\tremaining: 470ms\n",
      "313:\tlearn: 0.0889644\ttotal: 215ms\tremaining: 469ms\n",
      "314:\tlearn: 0.0885068\ttotal: 215ms\tremaining: 468ms\n",
      "315:\tlearn: 0.0879190\ttotal: 216ms\tremaining: 467ms\n",
      "316:\tlearn: 0.0874895\ttotal: 216ms\tremaining: 466ms\n",
      "317:\tlearn: 0.0869835\ttotal: 217ms\tremaining: 464ms\n",
      "318:\tlearn: 0.0864296\ttotal: 217ms\tremaining: 464ms\n",
      "319:\tlearn: 0.0858019\ttotal: 218ms\tremaining: 463ms\n",
      "320:\tlearn: 0.0853482\ttotal: 218ms\tremaining: 461ms\n",
      "321:\tlearn: 0.0848810\ttotal: 219ms\tremaining: 461ms\n",
      "322:\tlearn: 0.0842546\ttotal: 219ms\tremaining: 460ms\n",
      "323:\tlearn: 0.0838304\ttotal: 220ms\tremaining: 459ms\n",
      "324:\tlearn: 0.0833550\ttotal: 220ms\tremaining: 457ms\n",
      "325:\tlearn: 0.0828618\ttotal: 221ms\tremaining: 456ms\n",
      "326:\tlearn: 0.0823590\ttotal: 221ms\tremaining: 455ms\n",
      "327:\tlearn: 0.0820633\ttotal: 222ms\tremaining: 454ms\n",
      "328:\tlearn: 0.0814832\ttotal: 222ms\tremaining: 453ms\n",
      "329:\tlearn: 0.0809574\ttotal: 223ms\tremaining: 453ms\n",
      "330:\tlearn: 0.0804440\ttotal: 224ms\tremaining: 452ms\n",
      "331:\tlearn: 0.0799417\ttotal: 224ms\tremaining: 451ms\n",
      "332:\tlearn: 0.0796415\ttotal: 225ms\tremaining: 450ms\n",
      "333:\tlearn: 0.0793235\ttotal: 225ms\tremaining: 449ms\n",
      "334:\tlearn: 0.0788783\ttotal: 226ms\tremaining: 448ms\n",
      "335:\tlearn: 0.0784444\ttotal: 226ms\tremaining: 447ms\n",
      "336:\tlearn: 0.0781374\ttotal: 227ms\tremaining: 446ms\n",
      "337:\tlearn: 0.0776446\ttotal: 227ms\tremaining: 445ms\n",
      "338:\tlearn: 0.0770913\ttotal: 228ms\tremaining: 444ms\n",
      "339:\tlearn: 0.0767696\ttotal: 228ms\tremaining: 443ms\n",
      "340:\tlearn: 0.0762555\ttotal: 228ms\tremaining: 441ms\n",
      "341:\tlearn: 0.0757219\ttotal: 229ms\tremaining: 440ms\n",
      "342:\tlearn: 0.0751837\ttotal: 230ms\tremaining: 440ms\n",
      "343:\tlearn: 0.0748797\ttotal: 230ms\tremaining: 438ms\n",
      "344:\tlearn: 0.0744264\ttotal: 230ms\tremaining: 437ms\n",
      "345:\tlearn: 0.0739770\ttotal: 231ms\tremaining: 436ms\n",
      "346:\tlearn: 0.0736817\ttotal: 231ms\tremaining: 435ms\n",
      "347:\tlearn: 0.0731701\ttotal: 232ms\tremaining: 434ms\n",
      "348:\tlearn: 0.0727186\ttotal: 232ms\tremaining: 433ms\n",
      "349:\tlearn: 0.0721259\ttotal: 233ms\tremaining: 432ms\n",
      "350:\tlearn: 0.0718463\ttotal: 233ms\tremaining: 431ms\n",
      "351:\tlearn: 0.0712818\ttotal: 234ms\tremaining: 430ms\n",
      "352:\tlearn: 0.0709365\ttotal: 234ms\tremaining: 430ms\n",
      "353:\tlearn: 0.0705565\ttotal: 235ms\tremaining: 429ms\n",
      "354:\tlearn: 0.0699983\ttotal: 235ms\tremaining: 428ms\n",
      "355:\tlearn: 0.0696508\ttotal: 236ms\tremaining: 427ms\n",
      "356:\tlearn: 0.0692853\ttotal: 236ms\tremaining: 426ms\n",
      "357:\tlearn: 0.0688829\ttotal: 237ms\tremaining: 425ms\n",
      "358:\tlearn: 0.0686218\ttotal: 237ms\tremaining: 424ms\n",
      "359:\tlearn: 0.0683632\ttotal: 238ms\tremaining: 423ms\n",
      "360:\tlearn: 0.0679618\ttotal: 239ms\tremaining: 422ms\n",
      "361:\tlearn: 0.0676116\ttotal: 239ms\tremaining: 422ms\n",
      "362:\tlearn: 0.0671564\ttotal: 240ms\tremaining: 421ms\n",
      "363:\tlearn: 0.0666321\ttotal: 240ms\tremaining: 420ms\n",
      "364:\tlearn: 0.0661507\ttotal: 241ms\tremaining: 419ms\n",
      "365:\tlearn: 0.0657480\ttotal: 241ms\tremaining: 418ms\n",
      "366:\tlearn: 0.0652542\ttotal: 242ms\tremaining: 418ms\n",
      "367:\tlearn: 0.0649190\ttotal: 243ms\tremaining: 417ms\n",
      "368:\tlearn: 0.0645319\ttotal: 243ms\tremaining: 416ms\n",
      "369:\tlearn: 0.0642837\ttotal: 244ms\tremaining: 415ms\n",
      "370:\tlearn: 0.0639099\ttotal: 244ms\tremaining: 414ms\n",
      "371:\tlearn: 0.0635927\ttotal: 245ms\tremaining: 413ms\n",
      "372:\tlearn: 0.0632128\ttotal: 245ms\tremaining: 412ms\n",
      "373:\tlearn: 0.0629044\ttotal: 246ms\tremaining: 411ms\n",
      "374:\tlearn: 0.0626692\ttotal: 246ms\tremaining: 410ms\n",
      "375:\tlearn: 0.0623167\ttotal: 247ms\tremaining: 409ms\n",
      "376:\tlearn: 0.0620866\ttotal: 247ms\tremaining: 408ms\n",
      "377:\tlearn: 0.0617500\ttotal: 248ms\tremaining: 408ms\n",
      "378:\tlearn: 0.0613000\ttotal: 248ms\tremaining: 407ms\n",
      "379:\tlearn: 0.0610778\ttotal: 249ms\tremaining: 406ms\n",
      "380:\tlearn: 0.0607261\ttotal: 249ms\tremaining: 405ms\n",
      "381:\tlearn: 0.0603031\ttotal: 250ms\tremaining: 404ms\n",
      "382:\tlearn: 0.0600873\ttotal: 250ms\tremaining: 403ms\n",
      "383:\tlearn: 0.0597480\ttotal: 250ms\tremaining: 402ms\n",
      "384:\tlearn: 0.0594259\ttotal: 251ms\tremaining: 401ms\n",
      "385:\tlearn: 0.0591502\ttotal: 251ms\tremaining: 400ms\n",
      "386:\tlearn: 0.0588340\ttotal: 252ms\tremaining: 399ms\n",
      "387:\tlearn: 0.0586276\ttotal: 253ms\tremaining: 398ms\n",
      "388:\tlearn: 0.0583486\ttotal: 253ms\tremaining: 398ms\n",
      "389:\tlearn: 0.0580857\ttotal: 254ms\tremaining: 397ms\n",
      "390:\tlearn: 0.0578881\ttotal: 254ms\tremaining: 396ms\n",
      "391:\tlearn: 0.0576201\ttotal: 255ms\tremaining: 395ms\n",
      "392:\tlearn: 0.0573840\ttotal: 255ms\tremaining: 394ms\n",
      "393:\tlearn: 0.0571932\ttotal: 256ms\tremaining: 393ms\n",
      "394:\tlearn: 0.0568950\ttotal: 256ms\tremaining: 392ms\n",
      "395:\tlearn: 0.0565834\ttotal: 257ms\tremaining: 391ms\n",
      "396:\tlearn: 0.0562080\ttotal: 257ms\tremaining: 390ms\n",
      "397:\tlearn: 0.0559674\ttotal: 258ms\tremaining: 390ms\n",
      "398:\tlearn: 0.0556011\ttotal: 258ms\tremaining: 389ms\n",
      "399:\tlearn: 0.0552860\ttotal: 259ms\tremaining: 389ms\n",
      "400:\tlearn: 0.0549914\ttotal: 259ms\tremaining: 388ms\n",
      "401:\tlearn: 0.0547116\ttotal: 260ms\tremaining: 387ms\n",
      "402:\tlearn: 0.0545483\ttotal: 260ms\tremaining: 386ms\n",
      "403:\tlearn: 0.0542647\ttotal: 261ms\tremaining: 385ms\n",
      "404:\tlearn: 0.0539860\ttotal: 261ms\tremaining: 384ms\n",
      "405:\tlearn: 0.0538277\ttotal: 262ms\tremaining: 383ms\n",
      "406:\tlearn: 0.0536720\ttotal: 262ms\tremaining: 382ms\n",
      "407:\tlearn: 0.0533671\ttotal: 262ms\tremaining: 381ms\n",
      "408:\tlearn: 0.0530973\ttotal: 263ms\tremaining: 380ms\n",
      "409:\tlearn: 0.0527909\ttotal: 263ms\tremaining: 379ms\n",
      "410:\tlearn: 0.0526406\ttotal: 264ms\tremaining: 378ms\n",
      "411:\tlearn: 0.0523417\ttotal: 264ms\tremaining: 377ms\n",
      "412:\tlearn: 0.0520558\ttotal: 265ms\tremaining: 376ms\n",
      "413:\tlearn: 0.0518155\ttotal: 265ms\tremaining: 375ms\n",
      "414:\tlearn: 0.0515600\ttotal: 266ms\tremaining: 374ms\n",
      "415:\tlearn: 0.0514172\ttotal: 266ms\tremaining: 373ms\n",
      "416:\tlearn: 0.0511320\ttotal: 266ms\tremaining: 372ms\n",
      "417:\tlearn: 0.0508593\ttotal: 267ms\tremaining: 371ms\n",
      "418:\tlearn: 0.0507208\ttotal: 267ms\tremaining: 370ms\n",
      "419:\tlearn: 0.0504588\ttotal: 267ms\tremaining: 369ms\n",
      "420:\tlearn: 0.0501947\ttotal: 268ms\tremaining: 368ms\n",
      "421:\tlearn: 0.0499546\ttotal: 269ms\tremaining: 368ms\n",
      "422:\tlearn: 0.0496845\ttotal: 269ms\tremaining: 367ms\n",
      "423:\tlearn: 0.0495521\ttotal: 270ms\tremaining: 367ms\n",
      "424:\tlearn: 0.0492983\ttotal: 270ms\tremaining: 366ms\n",
      "425:\tlearn: 0.0491118\ttotal: 271ms\tremaining: 365ms\n",
      "426:\tlearn: 0.0488647\ttotal: 272ms\tremaining: 364ms\n",
      "427:\tlearn: 0.0487243\ttotal: 272ms\tremaining: 364ms\n",
      "428:\tlearn: 0.0485984\ttotal: 273ms\tremaining: 363ms\n",
      "429:\tlearn: 0.0483642\ttotal: 273ms\tremaining: 362ms\n",
      "430:\tlearn: 0.0481243\ttotal: 274ms\tremaining: 361ms\n",
      "431:\tlearn: 0.0479441\ttotal: 274ms\tremaining: 360ms\n",
      "432:\tlearn: 0.0478079\ttotal: 274ms\tremaining: 359ms\n",
      "433:\tlearn: 0.0476312\ttotal: 275ms\tremaining: 359ms\n",
      "434:\tlearn: 0.0473974\ttotal: 275ms\tremaining: 358ms\n",
      "435:\tlearn: 0.0472234\ttotal: 276ms\tremaining: 357ms\n",
      "436:\tlearn: 0.0469992\ttotal: 276ms\tremaining: 356ms\n",
      "437:\tlearn: 0.0468814\ttotal: 277ms\tremaining: 355ms\n",
      "438:\tlearn: 0.0466551\ttotal: 277ms\tremaining: 354ms\n",
      "439:\tlearn: 0.0464854\ttotal: 278ms\tremaining: 353ms\n",
      "440:\tlearn: 0.0462637\ttotal: 278ms\tremaining: 353ms\n",
      "441:\tlearn: 0.0460967\ttotal: 279ms\tremaining: 352ms\n",
      "442:\tlearn: 0.0459844\ttotal: 279ms\tremaining: 351ms\n",
      "443:\tlearn: 0.0458202\ttotal: 280ms\tremaining: 350ms\n",
      "444:\tlearn: 0.0455354\ttotal: 280ms\tremaining: 349ms\n",
      "445:\tlearn: 0.0454115\ttotal: 280ms\tremaining: 348ms\n",
      "446:\tlearn: 0.0452038\ttotal: 281ms\tremaining: 347ms\n",
      "447:\tlearn: 0.0450823\ttotal: 281ms\tremaining: 346ms\n",
      "448:\tlearn: 0.0448598\ttotal: 282ms\tremaining: 346ms\n",
      "449:\tlearn: 0.0446215\ttotal: 282ms\tremaining: 345ms\n",
      "450:\tlearn: 0.0445163\ttotal: 283ms\tremaining: 344ms\n",
      "451:\tlearn: 0.0443272\ttotal: 283ms\tremaining: 343ms\n"
     ]
    },
    {
     "name": "stdout",
     "output_type": "stream",
     "text": [
      "452:\tlearn: 0.0441189\ttotal: 284ms\tremaining: 343ms\n",
      "453:\tlearn: 0.0438547\ttotal: 285ms\tremaining: 342ms\n",
      "454:\tlearn: 0.0436445\ttotal: 285ms\tremaining: 342ms\n",
      "455:\tlearn: 0.0434698\ttotal: 286ms\tremaining: 341ms\n",
      "456:\tlearn: 0.0433600\ttotal: 286ms\tremaining: 340ms\n",
      "457:\tlearn: 0.0431844\ttotal: 287ms\tremaining: 339ms\n",
      "458:\tlearn: 0.0430703\ttotal: 287ms\tremaining: 339ms\n",
      "459:\tlearn: 0.0428872\ttotal: 288ms\tremaining: 338ms\n",
      "460:\tlearn: 0.0426828\ttotal: 288ms\tremaining: 337ms\n",
      "461:\tlearn: 0.0425147\ttotal: 288ms\tremaining: 336ms\n",
      "462:\tlearn: 0.0423695\ttotal: 289ms\tremaining: 335ms\n",
      "463:\tlearn: 0.0422157\ttotal: 289ms\tremaining: 334ms\n",
      "464:\tlearn: 0.0420269\ttotal: 290ms\tremaining: 333ms\n",
      "465:\tlearn: 0.0418774\ttotal: 290ms\tremaining: 333ms\n",
      "466:\tlearn: 0.0417641\ttotal: 291ms\tremaining: 332ms\n",
      "467:\tlearn: 0.0416529\ttotal: 291ms\tremaining: 331ms\n",
      "468:\tlearn: 0.0415108\ttotal: 292ms\tremaining: 330ms\n",
      "469:\tlearn: 0.0413808\ttotal: 292ms\tremaining: 329ms\n",
      "470:\tlearn: 0.0412733\ttotal: 293ms\tremaining: 329ms\n",
      "471:\tlearn: 0.0410569\ttotal: 293ms\tremaining: 328ms\n",
      "472:\tlearn: 0.0409209\ttotal: 293ms\tremaining: 327ms\n",
      "473:\tlearn: 0.0407761\ttotal: 294ms\tremaining: 326ms\n",
      "474:\tlearn: 0.0405659\ttotal: 294ms\tremaining: 325ms\n",
      "475:\tlearn: 0.0404902\ttotal: 295ms\tremaining: 324ms\n",
      "476:\tlearn: 0.0403061\ttotal: 295ms\tremaining: 324ms\n",
      "477:\tlearn: 0.0402147\ttotal: 296ms\tremaining: 323ms\n",
      "478:\tlearn: 0.0401088\ttotal: 296ms\tremaining: 322ms\n",
      "479:\tlearn: 0.0399075\ttotal: 296ms\tremaining: 321ms\n",
      "480:\tlearn: 0.0397739\ttotal: 297ms\tremaining: 320ms\n",
      "481:\tlearn: 0.0395979\ttotal: 298ms\tremaining: 320ms\n",
      "482:\tlearn: 0.0393634\ttotal: 298ms\tremaining: 319ms\n",
      "483:\tlearn: 0.0391342\ttotal: 299ms\tremaining: 319ms\n",
      "484:\tlearn: 0.0389072\ttotal: 300ms\tremaining: 318ms\n",
      "485:\tlearn: 0.0386842\ttotal: 300ms\tremaining: 318ms\n",
      "486:\tlearn: 0.0384653\ttotal: 301ms\tremaining: 317ms\n",
      "487:\tlearn: 0.0382501\ttotal: 302ms\tremaining: 316ms\n",
      "488:\tlearn: 0.0380372\ttotal: 302ms\tremaining: 316ms\n",
      "489:\tlearn: 0.0378398\ttotal: 303ms\tremaining: 315ms\n",
      "490:\tlearn: 0.0376348\ttotal: 303ms\tremaining: 314ms\n",
      "491:\tlearn: 0.0374594\ttotal: 303ms\tremaining: 313ms\n",
      "492:\tlearn: 0.0372505\ttotal: 304ms\tremaining: 313ms\n",
      "493:\tlearn: 0.0370800\ttotal: 304ms\tremaining: 312ms\n",
      "494:\tlearn: 0.0368757\ttotal: 305ms\tremaining: 311ms\n",
      "495:\tlearn: 0.0366900\ttotal: 305ms\tremaining: 310ms\n",
      "496:\tlearn: 0.0364912\ttotal: 306ms\tremaining: 309ms\n",
      "497:\tlearn: 0.0363266\ttotal: 306ms\tremaining: 309ms\n",
      "498:\tlearn: 0.0361427\ttotal: 307ms\tremaining: 308ms\n",
      "499:\tlearn: 0.0359433\ttotal: 307ms\tremaining: 307ms\n",
      "500:\tlearn: 0.0357797\ttotal: 307ms\tremaining: 306ms\n",
      "501:\tlearn: 0.0356315\ttotal: 308ms\tremaining: 306ms\n",
      "502:\tlearn: 0.0354711\ttotal: 309ms\tremaining: 305ms\n",
      "503:\tlearn: 0.0351974\ttotal: 309ms\tremaining: 304ms\n",
      "504:\tlearn: 0.0350165\ttotal: 310ms\tremaining: 304ms\n",
      "505:\tlearn: 0.0348305\ttotal: 310ms\tremaining: 303ms\n",
      "506:\tlearn: 0.0345662\ttotal: 311ms\tremaining: 302ms\n",
      "507:\tlearn: 0.0343801\ttotal: 311ms\tremaining: 301ms\n",
      "508:\tlearn: 0.0342165\ttotal: 312ms\tremaining: 301ms\n",
      "509:\tlearn: 0.0339613\ttotal: 312ms\tremaining: 300ms\n",
      "510:\tlearn: 0.0338078\ttotal: 313ms\tremaining: 299ms\n",
      "511:\tlearn: 0.0336483\ttotal: 313ms\tremaining: 298ms\n",
      "512:\tlearn: 0.0334987\ttotal: 314ms\tremaining: 298ms\n",
      "513:\tlearn: 0.0333486\ttotal: 314ms\tremaining: 297ms\n",
      "514:\tlearn: 0.0331882\ttotal: 315ms\tremaining: 297ms\n",
      "515:\tlearn: 0.0330336\ttotal: 316ms\tremaining: 296ms\n",
      "516:\tlearn: 0.0328776\ttotal: 316ms\tremaining: 296ms\n",
      "517:\tlearn: 0.0327577\ttotal: 317ms\tremaining: 295ms\n",
      "518:\tlearn: 0.0326052\ttotal: 317ms\tremaining: 294ms\n",
      "519:\tlearn: 0.0324879\ttotal: 318ms\tremaining: 293ms\n",
      "520:\tlearn: 0.0323476\ttotal: 318ms\tremaining: 293ms\n",
      "521:\tlearn: 0.0322187\ttotal: 319ms\tremaining: 292ms\n",
      "522:\tlearn: 0.0320922\ttotal: 319ms\tremaining: 291ms\n",
      "523:\tlearn: 0.0319780\ttotal: 320ms\tremaining: 291ms\n",
      "524:\tlearn: 0.0318323\ttotal: 321ms\tremaining: 290ms\n",
      "525:\tlearn: 0.0316626\ttotal: 321ms\tremaining: 289ms\n",
      "526:\tlearn: 0.0315250\ttotal: 322ms\tremaining: 289ms\n",
      "527:\tlearn: 0.0313627\ttotal: 322ms\tremaining: 288ms\n",
      "528:\tlearn: 0.0312314\ttotal: 322ms\tremaining: 287ms\n",
      "529:\tlearn: 0.0311108\ttotal: 323ms\tremaining: 286ms\n",
      "530:\tlearn: 0.0309788\ttotal: 323ms\tremaining: 285ms\n",
      "531:\tlearn: 0.0308513\ttotal: 324ms\tremaining: 285ms\n",
      "532:\tlearn: 0.0307338\ttotal: 324ms\tremaining: 284ms\n",
      "533:\tlearn: 0.0306051\ttotal: 325ms\tremaining: 283ms\n",
      "534:\tlearn: 0.0304520\ttotal: 325ms\tremaining: 283ms\n",
      "535:\tlearn: 0.0303016\ttotal: 326ms\tremaining: 282ms\n",
      "536:\tlearn: 0.0301481\ttotal: 326ms\tremaining: 281ms\n",
      "537:\tlearn: 0.0300485\ttotal: 327ms\tremaining: 280ms\n",
      "538:\tlearn: 0.0299509\ttotal: 327ms\tremaining: 280ms\n",
      "539:\tlearn: 0.0298057\ttotal: 328ms\tremaining: 279ms\n",
      "540:\tlearn: 0.0297328\ttotal: 328ms\tremaining: 278ms\n",
      "541:\tlearn: 0.0295910\ttotal: 329ms\tremaining: 278ms\n",
      "542:\tlearn: 0.0295310\ttotal: 330ms\tremaining: 277ms\n",
      "543:\tlearn: 0.0293813\ttotal: 330ms\tremaining: 277ms\n",
      "544:\tlearn: 0.0292255\ttotal: 331ms\tremaining: 276ms\n",
      "545:\tlearn: 0.0291674\ttotal: 332ms\tremaining: 276ms\n",
      "546:\tlearn: 0.0290255\ttotal: 332ms\tremaining: 275ms\n",
      "547:\tlearn: 0.0289155\ttotal: 332ms\tremaining: 274ms\n",
      "548:\tlearn: 0.0287237\ttotal: 333ms\tremaining: 273ms\n",
      "549:\tlearn: 0.0285732\ttotal: 333ms\tremaining: 272ms\n",
      "550:\tlearn: 0.0284371\ttotal: 333ms\tremaining: 272ms\n",
      "551:\tlearn: 0.0283305\ttotal: 334ms\tremaining: 271ms\n",
      "552:\tlearn: 0.0281383\ttotal: 334ms\tremaining: 270ms\n",
      "553:\tlearn: 0.0279928\ttotal: 335ms\tremaining: 270ms\n",
      "554:\tlearn: 0.0278498\ttotal: 335ms\tremaining: 269ms\n",
      "555:\tlearn: 0.0277204\ttotal: 336ms\tremaining: 268ms\n",
      "556:\tlearn: 0.0276674\ttotal: 336ms\tremaining: 267ms\n",
      "557:\tlearn: 0.0275580\ttotal: 337ms\tremaining: 267ms\n",
      "558:\tlearn: 0.0274193\ttotal: 337ms\tremaining: 266ms\n",
      "559:\tlearn: 0.0272946\ttotal: 338ms\tremaining: 265ms\n",
      "560:\tlearn: 0.0271880\ttotal: 338ms\tremaining: 265ms\n",
      "561:\tlearn: 0.0270663\ttotal: 339ms\tremaining: 264ms\n",
      "562:\tlearn: 0.0269624\ttotal: 339ms\tremaining: 263ms\n",
      "563:\tlearn: 0.0268609\ttotal: 340ms\tremaining: 262ms\n",
      "564:\tlearn: 0.0267431\ttotal: 340ms\tremaining: 262ms\n",
      "565:\tlearn: 0.0266092\ttotal: 341ms\tremaining: 261ms\n",
      "566:\tlearn: 0.0265104\ttotal: 341ms\tremaining: 260ms\n",
      "567:\tlearn: 0.0263955\ttotal: 341ms\tremaining: 260ms\n",
      "568:\tlearn: 0.0262780\ttotal: 342ms\tremaining: 259ms\n",
      "569:\tlearn: 0.0261659\ttotal: 342ms\tremaining: 258ms\n",
      "570:\tlearn: 0.0260711\ttotal: 343ms\tremaining: 258ms\n",
      "571:\tlearn: 0.0259429\ttotal: 343ms\tremaining: 257ms\n",
      "572:\tlearn: 0.0258158\ttotal: 344ms\tremaining: 256ms\n",
      "573:\tlearn: 0.0256910\ttotal: 344ms\tremaining: 255ms\n",
      "574:\tlearn: 0.0255654\ttotal: 345ms\tremaining: 255ms\n",
      "575:\tlearn: 0.0254429\ttotal: 345ms\tremaining: 254ms\n",
      "576:\tlearn: 0.0253322\ttotal: 346ms\tremaining: 253ms\n",
      "577:\tlearn: 0.0252134\ttotal: 346ms\tremaining: 253ms\n",
      "578:\tlearn: 0.0250966\ttotal: 347ms\tremaining: 252ms\n",
      "579:\tlearn: 0.0249779\ttotal: 347ms\tremaining: 251ms\n",
      "580:\tlearn: 0.0248578\ttotal: 347ms\tremaining: 251ms\n",
      "581:\tlearn: 0.0247444\ttotal: 348ms\tremaining: 250ms\n",
      "582:\tlearn: 0.0246284\ttotal: 348ms\tremaining: 249ms\n",
      "583:\tlearn: 0.0245175\ttotal: 349ms\tremaining: 248ms\n",
      "584:\tlearn: 0.0244084\ttotal: 349ms\tremaining: 248ms\n",
      "585:\tlearn: 0.0243052\ttotal: 350ms\tremaining: 247ms\n",
      "586:\tlearn: 0.0242164\ttotal: 350ms\tremaining: 246ms\n",
      "587:\tlearn: 0.0241252\ttotal: 351ms\tremaining: 246ms\n",
      "588:\tlearn: 0.0240243\ttotal: 351ms\tremaining: 245ms\n",
      "589:\tlearn: 0.0239405\ttotal: 351ms\tremaining: 244ms\n",
      "590:\tlearn: 0.0238287\ttotal: 352ms\tremaining: 243ms\n",
      "591:\tlearn: 0.0237181\ttotal: 352ms\tremaining: 243ms\n",
      "592:\tlearn: 0.0236306\ttotal: 353ms\tremaining: 242ms\n",
      "593:\tlearn: 0.0235145\ttotal: 353ms\tremaining: 241ms\n",
      "594:\tlearn: 0.0234006\ttotal: 354ms\tremaining: 241ms\n",
      "595:\tlearn: 0.0233342\ttotal: 354ms\tremaining: 240ms\n",
      "596:\tlearn: 0.0232273\ttotal: 354ms\tremaining: 239ms\n",
      "597:\tlearn: 0.0231162\ttotal: 355ms\tremaining: 239ms\n",
      "598:\tlearn: 0.0230115\ttotal: 356ms\tremaining: 238ms\n",
      "599:\tlearn: 0.0229047\ttotal: 356ms\tremaining: 237ms\n",
      "600:\tlearn: 0.0228408\ttotal: 356ms\tremaining: 237ms\n",
      "601:\tlearn: 0.0227385\ttotal: 357ms\tremaining: 236ms\n",
      "602:\tlearn: 0.0226380\ttotal: 357ms\tremaining: 235ms\n",
      "603:\tlearn: 0.0224784\ttotal: 358ms\tremaining: 234ms\n",
      "604:\tlearn: 0.0223962\ttotal: 358ms\tremaining: 234ms\n",
      "605:\tlearn: 0.0223156\ttotal: 359ms\tremaining: 233ms\n",
      "606:\tlearn: 0.0222103\ttotal: 359ms\tremaining: 233ms\n",
      "607:\tlearn: 0.0221496\ttotal: 360ms\tremaining: 232ms\n",
      "608:\tlearn: 0.0219966\ttotal: 361ms\tremaining: 232ms\n",
      "609:\tlearn: 0.0219373\ttotal: 361ms\tremaining: 231ms\n",
      "610:\tlearn: 0.0218697\ttotal: 362ms\tremaining: 230ms\n",
      "611:\tlearn: 0.0217286\ttotal: 362ms\tremaining: 230ms\n",
      "612:\tlearn: 0.0216567\ttotal: 363ms\tremaining: 229ms\n",
      "613:\tlearn: 0.0215997\ttotal: 363ms\tremaining: 228ms\n",
      "614:\tlearn: 0.0215241\ttotal: 364ms\tremaining: 228ms\n",
      "615:\tlearn: 0.0213969\ttotal: 364ms\tremaining: 227ms\n",
      "616:\tlearn: 0.0213416\ttotal: 365ms\tremaining: 226ms\n",
      "617:\tlearn: 0.0212065\ttotal: 365ms\tremaining: 226ms\n",
      "618:\tlearn: 0.0211420\ttotal: 365ms\tremaining: 225ms\n",
      "619:\tlearn: 0.0210886\ttotal: 366ms\tremaining: 224ms\n",
      "620:\tlearn: 0.0210355\ttotal: 366ms\tremaining: 223ms\n",
      "621:\tlearn: 0.0209587\ttotal: 366ms\tremaining: 223ms\n",
      "622:\tlearn: 0.0209011\ttotal: 367ms\tremaining: 222ms\n"
     ]
    },
    {
     "name": "stdout",
     "output_type": "stream",
     "text": [
      "623:\tlearn: 0.0207711\ttotal: 367ms\tremaining: 221ms\n",
      "624:\tlearn: 0.0207195\ttotal: 368ms\tremaining: 221ms\n",
      "625:\tlearn: 0.0206687\ttotal: 368ms\tremaining: 220ms\n",
      "626:\tlearn: 0.0206029\ttotal: 369ms\tremaining: 219ms\n",
      "627:\tlearn: 0.0205383\ttotal: 369ms\tremaining: 219ms\n",
      "628:\tlearn: 0.0204245\ttotal: 370ms\tremaining: 218ms\n",
      "629:\tlearn: 0.0203598\ttotal: 370ms\tremaining: 217ms\n",
      "630:\tlearn: 0.0202358\ttotal: 371ms\tremaining: 217ms\n",
      "631:\tlearn: 0.0201866\ttotal: 372ms\tremaining: 217ms\n",
      "632:\tlearn: 0.0201199\ttotal: 372ms\tremaining: 216ms\n",
      "633:\tlearn: 0.0200101\ttotal: 373ms\tremaining: 215ms\n",
      "634:\tlearn: 0.0199623\ttotal: 373ms\tremaining: 215ms\n",
      "635:\tlearn: 0.0198614\ttotal: 374ms\tremaining: 214ms\n",
      "636:\tlearn: 0.0198135\ttotal: 375ms\tremaining: 214ms\n",
      "637:\tlearn: 0.0197144\ttotal: 375ms\tremaining: 213ms\n",
      "638:\tlearn: 0.0196676\ttotal: 376ms\tremaining: 212ms\n",
      "639:\tlearn: 0.0196215\ttotal: 376ms\tremaining: 212ms\n",
      "640:\tlearn: 0.0195398\ttotal: 377ms\tremaining: 211ms\n",
      "641:\tlearn: 0.0194773\ttotal: 377ms\tremaining: 211ms\n",
      "642:\tlearn: 0.0193971\ttotal: 378ms\tremaining: 210ms\n",
      "643:\tlearn: 0.0193525\ttotal: 379ms\tremaining: 209ms\n",
      "644:\tlearn: 0.0192737\ttotal: 379ms\tremaining: 209ms\n",
      "645:\tlearn: 0.0192133\ttotal: 380ms\tremaining: 208ms\n",
      "646:\tlearn: 0.0191441\ttotal: 380ms\tremaining: 207ms\n",
      "647:\tlearn: 0.0191011\ttotal: 381ms\tremaining: 207ms\n",
      "648:\tlearn: 0.0190439\ttotal: 381ms\tremaining: 206ms\n",
      "649:\tlearn: 0.0190017\ttotal: 382ms\tremaining: 205ms\n",
      "650:\tlearn: 0.0189565\ttotal: 383ms\tremaining: 205ms\n",
      "651:\tlearn: 0.0189150\ttotal: 383ms\tremaining: 205ms\n",
      "652:\tlearn: 0.0188582\ttotal: 384ms\tremaining: 204ms\n",
      "653:\tlearn: 0.0188024\ttotal: 384ms\tremaining: 203ms\n",
      "654:\tlearn: 0.0187200\ttotal: 384ms\tremaining: 202ms\n",
      "655:\tlearn: 0.0186030\ttotal: 385ms\tremaining: 202ms\n",
      "656:\tlearn: 0.0185596\ttotal: 385ms\tremaining: 201ms\n",
      "657:\tlearn: 0.0185200\ttotal: 386ms\tremaining: 201ms\n",
      "658:\tlearn: 0.0184774\ttotal: 386ms\tremaining: 200ms\n",
      "659:\tlearn: 0.0184384\ttotal: 387ms\tremaining: 199ms\n",
      "660:\tlearn: 0.0184001\ttotal: 387ms\tremaining: 199ms\n",
      "661:\tlearn: 0.0183583\ttotal: 388ms\tremaining: 198ms\n",
      "662:\tlearn: 0.0182665\ttotal: 388ms\tremaining: 197ms\n",
      "663:\tlearn: 0.0182291\ttotal: 389ms\tremaining: 197ms\n",
      "664:\tlearn: 0.0181773\ttotal: 389ms\tremaining: 196ms\n",
      "665:\tlearn: 0.0181196\ttotal: 390ms\tremaining: 195ms\n",
      "666:\tlearn: 0.0180833\ttotal: 390ms\tremaining: 195ms\n",
      "667:\tlearn: 0.0180476\ttotal: 391ms\tremaining: 194ms\n",
      "668:\tlearn: 0.0179593\ttotal: 391ms\tremaining: 194ms\n",
      "669:\tlearn: 0.0179070\ttotal: 392ms\tremaining: 193ms\n",
      "670:\tlearn: 0.0178183\ttotal: 392ms\tremaining: 192ms\n",
      "671:\tlearn: 0.0177311\ttotal: 393ms\tremaining: 192ms\n",
      "672:\tlearn: 0.0176821\ttotal: 393ms\tremaining: 191ms\n",
      "673:\tlearn: 0.0176010\ttotal: 394ms\tremaining: 190ms\n",
      "674:\tlearn: 0.0175157\ttotal: 394ms\tremaining: 190ms\n",
      "675:\tlearn: 0.0174799\ttotal: 395ms\tremaining: 189ms\n",
      "676:\tlearn: 0.0173960\ttotal: 395ms\tremaining: 189ms\n",
      "677:\tlearn: 0.0173609\ttotal: 396ms\tremaining: 188ms\n",
      "678:\tlearn: 0.0173137\ttotal: 396ms\tremaining: 187ms\n",
      "679:\tlearn: 0.0172347\ttotal: 396ms\tremaining: 187ms\n",
      "680:\tlearn: 0.0171303\ttotal: 397ms\tremaining: 186ms\n",
      "681:\tlearn: 0.0170894\ttotal: 398ms\tremaining: 185ms\n",
      "682:\tlearn: 0.0170511\ttotal: 398ms\tremaining: 185ms\n",
      "683:\tlearn: 0.0170183\ttotal: 398ms\tremaining: 184ms\n",
      "684:\tlearn: 0.0169845\ttotal: 399ms\tremaining: 184ms\n",
      "685:\tlearn: 0.0169035\ttotal: 400ms\tremaining: 183ms\n",
      "686:\tlearn: 0.0168548\ttotal: 400ms\tremaining: 182ms\n",
      "687:\tlearn: 0.0168073\ttotal: 401ms\tremaining: 182ms\n",
      "688:\tlearn: 0.0167698\ttotal: 401ms\tremaining: 181ms\n",
      "689:\tlearn: 0.0166903\ttotal: 402ms\tremaining: 181ms\n",
      "690:\tlearn: 0.0166440\ttotal: 402ms\tremaining: 180ms\n",
      "691:\tlearn: 0.0165545\ttotal: 403ms\tremaining: 179ms\n",
      "692:\tlearn: 0.0164771\ttotal: 403ms\tremaining: 179ms\n",
      "693:\tlearn: 0.0164321\ttotal: 405ms\tremaining: 179ms\n",
      "694:\tlearn: 0.0164028\ttotal: 405ms\tremaining: 178ms\n",
      "695:\tlearn: 0.0163223\ttotal: 406ms\tremaining: 177ms\n",
      "696:\tlearn: 0.0162370\ttotal: 407ms\tremaining: 177ms\n",
      "697:\tlearn: 0.0161620\ttotal: 407ms\tremaining: 176ms\n",
      "698:\tlearn: 0.0161189\ttotal: 408ms\tremaining: 175ms\n",
      "699:\tlearn: 0.0160869\ttotal: 408ms\tremaining: 175ms\n",
      "700:\tlearn: 0.0159938\ttotal: 409ms\tremaining: 174ms\n",
      "701:\tlearn: 0.0159207\ttotal: 409ms\tremaining: 174ms\n",
      "702:\tlearn: 0.0158896\ttotal: 410ms\tremaining: 173ms\n",
      "703:\tlearn: 0.0157992\ttotal: 410ms\tremaining: 172ms\n",
      "704:\tlearn: 0.0157279\ttotal: 410ms\tremaining: 172ms\n",
      "705:\tlearn: 0.0156976\ttotal: 411ms\tremaining: 171ms\n",
      "706:\tlearn: 0.0156099\ttotal: 411ms\tremaining: 170ms\n",
      "707:\tlearn: 0.0155403\ttotal: 412ms\tremaining: 170ms\n",
      "708:\tlearn: 0.0155108\ttotal: 412ms\tremaining: 169ms\n",
      "709:\tlearn: 0.0154257\ttotal: 413ms\tremaining: 169ms\n",
      "710:\tlearn: 0.0153577\ttotal: 413ms\tremaining: 168ms\n",
      "711:\tlearn: 0.0153401\ttotal: 414ms\tremaining: 167ms\n",
      "712:\tlearn: 0.0152574\ttotal: 414ms\tremaining: 167ms\n",
      "713:\tlearn: 0.0151909\ttotal: 415ms\tremaining: 166ms\n",
      "714:\tlearn: 0.0151736\ttotal: 415ms\tremaining: 166ms\n",
      "715:\tlearn: 0.0151081\ttotal: 416ms\tremaining: 165ms\n",
      "716:\tlearn: 0.0150797\ttotal: 416ms\tremaining: 164ms\n",
      "717:\tlearn: 0.0150519\ttotal: 417ms\tremaining: 164ms\n",
      "718:\tlearn: 0.0149724\ttotal: 417ms\tremaining: 163ms\n",
      "719:\tlearn: 0.0149084\ttotal: 418ms\tremaining: 162ms\n",
      "720:\tlearn: 0.0148814\ttotal: 418ms\tremaining: 162ms\n",
      "721:\tlearn: 0.0147996\ttotal: 418ms\tremaining: 161ms\n",
      "722:\tlearn: 0.0147370\ttotal: 419ms\tremaining: 161ms\n",
      "723:\tlearn: 0.0147201\ttotal: 420ms\tremaining: 160ms\n",
      "724:\tlearn: 0.0146579\ttotal: 420ms\tremaining: 159ms\n",
      "725:\tlearn: 0.0145964\ttotal: 421ms\tremaining: 159ms\n",
      "726:\tlearn: 0.0145798\ttotal: 422ms\tremaining: 158ms\n",
      "727:\tlearn: 0.0145192\ttotal: 422ms\tremaining: 158ms\n",
      "728:\tlearn: 0.0144931\ttotal: 423ms\tremaining: 157ms\n",
      "729:\tlearn: 0.0144302\ttotal: 423ms\tremaining: 157ms\n",
      "730:\tlearn: 0.0143710\ttotal: 424ms\tremaining: 156ms\n",
      "731:\tlearn: 0.0143135\ttotal: 424ms\tremaining: 155ms\n",
      "732:\tlearn: 0.0142535\ttotal: 425ms\tremaining: 155ms\n",
      "733:\tlearn: 0.0141945\ttotal: 425ms\tremaining: 154ms\n",
      "734:\tlearn: 0.0141365\ttotal: 426ms\tremaining: 153ms\n",
      "735:\tlearn: 0.0140809\ttotal: 426ms\tremaining: 153ms\n",
      "736:\tlearn: 0.0140241\ttotal: 427ms\tremaining: 152ms\n",
      "737:\tlearn: 0.0139726\ttotal: 427ms\tremaining: 152ms\n",
      "738:\tlearn: 0.0139170\ttotal: 428ms\tremaining: 151ms\n",
      "739:\tlearn: 0.0138623\ttotal: 428ms\tremaining: 150ms\n",
      "740:\tlearn: 0.0138355\ttotal: 429ms\tremaining: 150ms\n",
      "741:\tlearn: 0.0137818\ttotal: 429ms\tremaining: 149ms\n",
      "742:\tlearn: 0.0137554\ttotal: 430ms\tremaining: 149ms\n",
      "743:\tlearn: 0.0136991\ttotal: 430ms\tremaining: 148ms\n",
      "744:\tlearn: 0.0136733\ttotal: 431ms\tremaining: 147ms\n",
      "745:\tlearn: 0.0136547\ttotal: 431ms\tremaining: 147ms\n",
      "746:\tlearn: 0.0136364\ttotal: 432ms\tremaining: 146ms\n",
      "747:\tlearn: 0.0136183\ttotal: 432ms\tremaining: 146ms\n",
      "748:\tlearn: 0.0135912\ttotal: 433ms\tremaining: 145ms\n",
      "749:\tlearn: 0.0135358\ttotal: 433ms\tremaining: 144ms\n",
      "750:\tlearn: 0.0134812\ttotal: 434ms\tremaining: 144ms\n",
      "751:\tlearn: 0.0134633\ttotal: 434ms\tremaining: 143ms\n",
      "752:\tlearn: 0.0134369\ttotal: 435ms\tremaining: 143ms\n",
      "753:\tlearn: 0.0133831\ttotal: 435ms\tremaining: 142ms\n",
      "754:\tlearn: 0.0133655\ttotal: 436ms\tremaining: 141ms\n",
      "755:\tlearn: 0.0133143\ttotal: 436ms\tremaining: 141ms\n",
      "756:\tlearn: 0.0132734\ttotal: 437ms\tremaining: 140ms\n",
      "757:\tlearn: 0.0132490\ttotal: 437ms\tremaining: 140ms\n",
      "758:\tlearn: 0.0132092\ttotal: 438ms\tremaining: 139ms\n",
      "759:\tlearn: 0.0131338\ttotal: 438ms\tremaining: 138ms\n",
      "760:\tlearn: 0.0130952\ttotal: 439ms\tremaining: 138ms\n",
      "761:\tlearn: 0.0130714\ttotal: 439ms\tremaining: 137ms\n",
      "762:\tlearn: 0.0130339\ttotal: 440ms\tremaining: 137ms\n",
      "763:\tlearn: 0.0130140\ttotal: 440ms\tremaining: 136ms\n",
      "764:\tlearn: 0.0130005\ttotal: 440ms\tremaining: 135ms\n",
      "765:\tlearn: 0.0129431\ttotal: 441ms\tremaining: 135ms\n",
      "766:\tlearn: 0.0129124\ttotal: 441ms\tremaining: 134ms\n",
      "767:\tlearn: 0.0128966\ttotal: 442ms\tremaining: 133ms\n",
      "768:\tlearn: 0.0128534\ttotal: 442ms\tremaining: 133ms\n",
      "769:\tlearn: 0.0127817\ttotal: 443ms\tremaining: 132ms\n",
      "770:\tlearn: 0.0127588\ttotal: 443ms\tremaining: 132ms\n",
      "771:\tlearn: 0.0127292\ttotal: 444ms\tremaining: 131ms\n",
      "772:\tlearn: 0.0126588\ttotal: 444ms\tremaining: 130ms\n",
      "773:\tlearn: 0.0126363\ttotal: 445ms\tremaining: 130ms\n",
      "774:\tlearn: 0.0126215\ttotal: 445ms\tremaining: 129ms\n",
      "775:\tlearn: 0.0125738\ttotal: 446ms\tremaining: 129ms\n",
      "776:\tlearn: 0.0125585\ttotal: 446ms\tremaining: 128ms\n",
      "777:\tlearn: 0.0125097\ttotal: 447ms\tremaining: 127ms\n",
      "778:\tlearn: 0.0124878\ttotal: 447ms\tremaining: 127ms\n",
      "779:\tlearn: 0.0124400\ttotal: 448ms\tremaining: 126ms\n",
      "780:\tlearn: 0.0124250\ttotal: 448ms\tremaining: 126ms\n",
      "781:\tlearn: 0.0123780\ttotal: 448ms\tremaining: 125ms\n",
      "782:\tlearn: 0.0123564\ttotal: 449ms\tremaining: 124ms\n",
      "783:\tlearn: 0.0123103\ttotal: 450ms\tremaining: 124ms\n",
      "784:\tlearn: 0.0122775\ttotal: 450ms\tremaining: 123ms\n",
      "785:\tlearn: 0.0122627\ttotal: 451ms\tremaining: 123ms\n",
      "786:\tlearn: 0.0122175\ttotal: 451ms\tremaining: 122ms\n",
      "787:\tlearn: 0.0121873\ttotal: 452ms\tremaining: 122ms\n",
      "788:\tlearn: 0.0121288\ttotal: 453ms\tremaining: 121ms\n",
      "789:\tlearn: 0.0120845\ttotal: 453ms\tremaining: 120ms\n",
      "790:\tlearn: 0.0120529\ttotal: 454ms\tremaining: 120ms\n",
      "791:\tlearn: 0.0120094\ttotal: 454ms\tremaining: 119ms\n",
      "792:\tlearn: 0.0119801\ttotal: 454ms\tremaining: 119ms\n",
      "793:\tlearn: 0.0119374\ttotal: 455ms\tremaining: 118ms\n",
      "794:\tlearn: 0.0119092\ttotal: 455ms\tremaining: 117ms\n",
      "795:\tlearn: 0.0118671\ttotal: 456ms\tremaining: 117ms\n",
      "796:\tlearn: 0.0118397\ttotal: 456ms\tremaining: 116ms\n",
      "797:\tlearn: 0.0118128\ttotal: 457ms\tremaining: 116ms\n",
      "798:\tlearn: 0.0117392\ttotal: 457ms\tremaining: 115ms\n",
      "799:\tlearn: 0.0117127\ttotal: 457ms\tremaining: 114ms\n",
      "800:\tlearn: 0.0116867\ttotal: 458ms\tremaining: 114ms\n",
      "801:\tlearn: 0.0116310\ttotal: 458ms\tremaining: 113ms\n",
      "802:\tlearn: 0.0116117\ttotal: 459ms\tremaining: 113ms\n",
      "803:\tlearn: 0.0115598\ttotal: 459ms\tremaining: 112ms\n",
      "804:\tlearn: 0.0115090\ttotal: 460ms\tremaining: 111ms\n",
      "805:\tlearn: 0.0114571\ttotal: 460ms\tremaining: 111ms\n",
      "806:\tlearn: 0.0114065\ttotal: 461ms\tremaining: 110ms\n",
      "807:\tlearn: 0.0113364\ttotal: 461ms\tremaining: 110ms\n",
      "808:\tlearn: 0.0113111\ttotal: 462ms\tremaining: 109ms\n",
      "809:\tlearn: 0.0112864\ttotal: 462ms\tremaining: 108ms\n",
      "810:\tlearn: 0.0112163\ttotal: 462ms\tremaining: 108ms\n",
      "811:\tlearn: 0.0111785\ttotal: 463ms\tremaining: 107ms\n",
      "812:\tlearn: 0.0111294\ttotal: 463ms\tremaining: 107ms\n",
      "813:\tlearn: 0.0110926\ttotal: 464ms\tremaining: 106ms\n",
      "814:\tlearn: 0.0110445\ttotal: 464ms\tremaining: 105ms\n",
      "815:\tlearn: 0.0110081\ttotal: 465ms\tremaining: 105ms\n",
      "816:\tlearn: 0.0109801\ttotal: 466ms\tremaining: 104ms\n",
      "817:\tlearn: 0.0109527\ttotal: 466ms\tremaining: 104ms\n"
     ]
    },
    {
     "name": "stdout",
     "output_type": "stream",
     "text": [
      "818:\tlearn: 0.0109142\ttotal: 467ms\tremaining: 103ms\n",
      "819:\tlearn: 0.0108763\ttotal: 468ms\tremaining: 103ms\n",
      "820:\tlearn: 0.0108527\ttotal: 468ms\tremaining: 102ms\n",
      "821:\tlearn: 0.0107868\ttotal: 469ms\tremaining: 102ms\n",
      "822:\tlearn: 0.0107519\ttotal: 469ms\tremaining: 101ms\n",
      "823:\tlearn: 0.0107179\ttotal: 470ms\tremaining: 100ms\n",
      "824:\tlearn: 0.0106795\ttotal: 470ms\tremaining: 99.7ms\n",
      "825:\tlearn: 0.0106568\ttotal: 471ms\tremaining: 99.1ms\n",
      "826:\tlearn: 0.0106112\ttotal: 471ms\tremaining: 98.5ms\n",
      "827:\tlearn: 0.0105784\ttotal: 472ms\tremaining: 98ms\n",
      "828:\tlearn: 0.0105145\ttotal: 472ms\tremaining: 97.4ms\n",
      "829:\tlearn: 0.0104859\ttotal: 473ms\tremaining: 96.8ms\n",
      "830:\tlearn: 0.0104546\ttotal: 473ms\tremaining: 96.2ms\n",
      "831:\tlearn: 0.0104188\ttotal: 473ms\tremaining: 95.6ms\n",
      "832:\tlearn: 0.0103969\ttotal: 474ms\tremaining: 95ms\n",
      "833:\tlearn: 0.0103530\ttotal: 474ms\tremaining: 94.4ms\n",
      "834:\tlearn: 0.0103099\ttotal: 475ms\tremaining: 93.8ms\n",
      "835:\tlearn: 0.0102574\ttotal: 475ms\tremaining: 93.2ms\n",
      "836:\tlearn: 0.0102387\ttotal: 476ms\tremaining: 92.7ms\n",
      "837:\tlearn: 0.0102174\ttotal: 476ms\tremaining: 92.1ms\n",
      "838:\tlearn: 0.0101565\ttotal: 477ms\tremaining: 91.5ms\n",
      "839:\tlearn: 0.0101383\ttotal: 477ms\tremaining: 90.9ms\n",
      "840:\tlearn: 0.0101204\ttotal: 478ms\tremaining: 90.3ms\n",
      "841:\tlearn: 0.0100765\ttotal: 478ms\tremaining: 89.7ms\n",
      "842:\tlearn: 0.0100352\ttotal: 479ms\tremaining: 89.1ms\n",
      "843:\tlearn: 0.0099847\ttotal: 479ms\tremaining: 88.5ms\n",
      "844:\tlearn: 0.0099703\ttotal: 480ms\tremaining: 88.1ms\n",
      "845:\tlearn: 0.0099560\ttotal: 481ms\tremaining: 87.5ms\n",
      "846:\tlearn: 0.0099389\ttotal: 481ms\tremaining: 86.9ms\n",
      "847:\tlearn: 0.0099249\ttotal: 481ms\tremaining: 86.3ms\n",
      "848:\tlearn: 0.0099042\ttotal: 482ms\tremaining: 85.7ms\n",
      "849:\tlearn: 0.0098458\ttotal: 483ms\tremaining: 85.2ms\n",
      "850:\tlearn: 0.0098297\ttotal: 483ms\tremaining: 84.6ms\n",
      "851:\tlearn: 0.0097968\ttotal: 484ms\tremaining: 84.1ms\n",
      "852:\tlearn: 0.0097805\ttotal: 485ms\tremaining: 83.5ms\n",
      "853:\tlearn: 0.0097563\ttotal: 485ms\tremaining: 82.9ms\n",
      "854:\tlearn: 0.0097275\ttotal: 486ms\tremaining: 82.3ms\n",
      "855:\tlearn: 0.0097140\ttotal: 486ms\tremaining: 81.7ms\n",
      "856:\tlearn: 0.0096701\ttotal: 486ms\tremaining: 81.2ms\n",
      "857:\tlearn: 0.0096309\ttotal: 487ms\tremaining: 80.6ms\n",
      "858:\tlearn: 0.0096176\ttotal: 487ms\tremaining: 80ms\n",
      "859:\tlearn: 0.0096046\ttotal: 488ms\tremaining: 79.4ms\n",
      "860:\tlearn: 0.0095732\ttotal: 488ms\tremaining: 78.8ms\n",
      "861:\tlearn: 0.0095160\ttotal: 489ms\tremaining: 78.2ms\n",
      "862:\tlearn: 0.0095032\ttotal: 489ms\tremaining: 77.6ms\n",
      "863:\tlearn: 0.0094598\ttotal: 489ms\tremaining: 77ms\n",
      "864:\tlearn: 0.0094056\ttotal: 490ms\tremaining: 76.4ms\n",
      "865:\tlearn: 0.0093579\ttotal: 490ms\tremaining: 75.8ms\n",
      "866:\tlearn: 0.0093454\ttotal: 491ms\tremaining: 75.3ms\n",
      "867:\tlearn: 0.0093112\ttotal: 491ms\tremaining: 74.7ms\n",
      "868:\tlearn: 0.0092598\ttotal: 492ms\tremaining: 74.1ms\n",
      "869:\tlearn: 0.0092474\ttotal: 492ms\tremaining: 73.5ms\n",
      "870:\tlearn: 0.0092351\ttotal: 493ms\tremaining: 72.9ms\n",
      "871:\tlearn: 0.0091893\ttotal: 493ms\tremaining: 72.4ms\n",
      "872:\tlearn: 0.0091662\ttotal: 493ms\tremaining: 71.8ms\n",
      "873:\tlearn: 0.0091316\ttotal: 494ms\tremaining: 71.2ms\n",
      "874:\tlearn: 0.0090944\ttotal: 494ms\tremaining: 70.6ms\n",
      "875:\tlearn: 0.0090846\ttotal: 495ms\tremaining: 70.1ms\n",
      "876:\tlearn: 0.0090750\ttotal: 496ms\tremaining: 69.5ms\n",
      "877:\tlearn: 0.0090655\ttotal: 496ms\tremaining: 69ms\n",
      "878:\tlearn: 0.0090201\ttotal: 497ms\tremaining: 68.4ms\n",
      "879:\tlearn: 0.0090081\ttotal: 498ms\tremaining: 67.9ms\n",
      "880:\tlearn: 0.0089745\ttotal: 498ms\tremaining: 67.3ms\n",
      "881:\tlearn: 0.0089383\ttotal: 499ms\tremaining: 66.7ms\n",
      "882:\tlearn: 0.0089271\ttotal: 499ms\tremaining: 66.1ms\n",
      "883:\tlearn: 0.0089179\ttotal: 499ms\tremaining: 65.5ms\n",
      "884:\tlearn: 0.0088742\ttotal: 500ms\tremaining: 65ms\n",
      "885:\tlearn: 0.0088167\ttotal: 501ms\tremaining: 64.4ms\n",
      "886:\tlearn: 0.0088050\ttotal: 501ms\tremaining: 63.8ms\n",
      "887:\tlearn: 0.0087934\ttotal: 501ms\tremaining: 63.2ms\n",
      "888:\tlearn: 0.0087610\ttotal: 502ms\tremaining: 62.7ms\n",
      "889:\tlearn: 0.0087177\ttotal: 502ms\tremaining: 62.1ms\n",
      "890:\tlearn: 0.0087063\ttotal: 503ms\tremaining: 61.5ms\n",
      "891:\tlearn: 0.0086950\ttotal: 503ms\tremaining: 60.9ms\n",
      "892:\tlearn: 0.0086460\ttotal: 504ms\tremaining: 60.3ms\n",
      "893:\tlearn: 0.0086349\ttotal: 504ms\tremaining: 59.7ms\n",
      "894:\tlearn: 0.0085871\ttotal: 504ms\tremaining: 59.2ms\n",
      "895:\tlearn: 0.0085497\ttotal: 505ms\tremaining: 58.6ms\n",
      "896:\tlearn: 0.0085388\ttotal: 505ms\tremaining: 58ms\n",
      "897:\tlearn: 0.0084965\ttotal: 506ms\tremaining: 57.4ms\n",
      "898:\tlearn: 0.0084656\ttotal: 506ms\tremaining: 56.8ms\n",
      "899:\tlearn: 0.0084549\ttotal: 506ms\tremaining: 56.3ms\n",
      "900:\tlearn: 0.0084298\ttotal: 507ms\tremaining: 55.7ms\n",
      "901:\tlearn: 0.0084193\ttotal: 507ms\tremaining: 55.1ms\n",
      "902:\tlearn: 0.0083737\ttotal: 508ms\tremaining: 54.5ms\n",
      "903:\tlearn: 0.0083358\ttotal: 508ms\tremaining: 54ms\n",
      "904:\tlearn: 0.0083026\ttotal: 509ms\tremaining: 53.4ms\n",
      "905:\tlearn: 0.0082954\ttotal: 509ms\tremaining: 52.8ms\n",
      "906:\tlearn: 0.0082883\ttotal: 510ms\tremaining: 52.2ms\n",
      "907:\tlearn: 0.0082473\ttotal: 510ms\tremaining: 51.7ms\n",
      "908:\tlearn: 0.0082371\ttotal: 510ms\tremaining: 51.1ms\n",
      "909:\tlearn: 0.0082270\ttotal: 511ms\tremaining: 50.5ms\n",
      "910:\tlearn: 0.0081945\ttotal: 511ms\tremaining: 49.9ms\n",
      "911:\tlearn: 0.0081875\ttotal: 511ms\tremaining: 49.3ms\n",
      "912:\tlearn: 0.0081775\ttotal: 512ms\tremaining: 48.8ms\n",
      "913:\tlearn: 0.0081705\ttotal: 513ms\tremaining: 48.2ms\n",
      "914:\tlearn: 0.0081269\ttotal: 513ms\tremaining: 47.7ms\n",
      "915:\tlearn: 0.0081170\ttotal: 513ms\tremaining: 47.1ms\n",
      "916:\tlearn: 0.0080826\ttotal: 514ms\tremaining: 46.5ms\n",
      "917:\tlearn: 0.0080432\ttotal: 515ms\tremaining: 46ms\n",
      "918:\tlearn: 0.0080335\ttotal: 515ms\tremaining: 45.4ms\n",
      "919:\tlearn: 0.0080162\ttotal: 516ms\tremaining: 44.9ms\n",
      "920:\tlearn: 0.0080094\ttotal: 516ms\tremaining: 44.3ms\n",
      "921:\tlearn: 0.0079999\ttotal: 517ms\tremaining: 43.7ms\n",
      "922:\tlearn: 0.0079596\ttotal: 517ms\tremaining: 43.1ms\n",
      "923:\tlearn: 0.0079529\ttotal: 518ms\tremaining: 42.6ms\n",
      "924:\tlearn: 0.0079435\ttotal: 518ms\tremaining: 42ms\n",
      "925:\tlearn: 0.0079267\ttotal: 519ms\tremaining: 41.4ms\n",
      "926:\tlearn: 0.0079201\ttotal: 519ms\tremaining: 40.9ms\n",
      "927:\tlearn: 0.0079108\ttotal: 519ms\tremaining: 40.3ms\n",
      "928:\tlearn: 0.0078735\ttotal: 520ms\tremaining: 39.7ms\n",
      "929:\tlearn: 0.0078670\ttotal: 520ms\tremaining: 39.2ms\n",
      "930:\tlearn: 0.0078373\ttotal: 521ms\tremaining: 38.6ms\n",
      "931:\tlearn: 0.0078281\ttotal: 521ms\tremaining: 38ms\n",
      "932:\tlearn: 0.0078190\ttotal: 522ms\tremaining: 37.5ms\n",
      "933:\tlearn: 0.0077842\ttotal: 522ms\tremaining: 36.9ms\n",
      "934:\tlearn: 0.0077535\ttotal: 523ms\tremaining: 36.3ms\n",
      "935:\tlearn: 0.0077471\ttotal: 523ms\tremaining: 35.8ms\n",
      "936:\tlearn: 0.0077111\ttotal: 524ms\tremaining: 35.2ms\n",
      "937:\tlearn: 0.0077048\ttotal: 524ms\tremaining: 34.6ms\n",
      "938:\tlearn: 0.0076664\ttotal: 524ms\tremaining: 34.1ms\n",
      "939:\tlearn: 0.0076574\ttotal: 525ms\tremaining: 33.5ms\n",
      "940:\tlearn: 0.0076486\ttotal: 525ms\tremaining: 32.9ms\n",
      "941:\tlearn: 0.0076187\ttotal: 527ms\tremaining: 32.4ms\n",
      "942:\tlearn: 0.0076092\ttotal: 527ms\tremaining: 31.9ms\n",
      "943:\tlearn: 0.0076030\ttotal: 527ms\tremaining: 31.3ms\n",
      "944:\tlearn: 0.0075969\ttotal: 528ms\tremaining: 30.7ms\n",
      "945:\tlearn: 0.0075676\ttotal: 529ms\tremaining: 30.2ms\n",
      "946:\tlearn: 0.0075477\ttotal: 529ms\tremaining: 29.6ms\n",
      "947:\tlearn: 0.0075106\ttotal: 530ms\tremaining: 29.1ms\n",
      "948:\tlearn: 0.0075019\ttotal: 530ms\tremaining: 28.5ms\n",
      "949:\tlearn: 0.0074934\ttotal: 531ms\tremaining: 28ms\n",
      "950:\tlearn: 0.0074647\ttotal: 532ms\tremaining: 27.4ms\n",
      "951:\tlearn: 0.0074555\ttotal: 532ms\tremaining: 26.8ms\n",
      "952:\tlearn: 0.0074496\ttotal: 533ms\tremaining: 26.3ms\n",
      "953:\tlearn: 0.0074150\ttotal: 533ms\tremaining: 25.7ms\n",
      "954:\tlearn: 0.0074075\ttotal: 534ms\tremaining: 25.1ms\n",
      "955:\tlearn: 0.0074017\ttotal: 534ms\tremaining: 24.6ms\n",
      "956:\tlearn: 0.0073736\ttotal: 535ms\tremaining: 24ms\n",
      "957:\tlearn: 0.0073504\ttotal: 535ms\tremaining: 23.5ms\n",
      "958:\tlearn: 0.0073206\ttotal: 536ms\tremaining: 22.9ms\n",
      "959:\tlearn: 0.0073148\ttotal: 536ms\tremaining: 22.3ms\n",
      "960:\tlearn: 0.0073065\ttotal: 537ms\tremaining: 21.8ms\n",
      "961:\tlearn: 0.0072982\ttotal: 537ms\tremaining: 21.2ms\n",
      "962:\tlearn: 0.0072901\ttotal: 537ms\tremaining: 20.6ms\n",
      "963:\tlearn: 0.0072561\ttotal: 538ms\tremaining: 20.1ms\n",
      "964:\tlearn: 0.0072489\ttotal: 538ms\tremaining: 19.5ms\n",
      "965:\tlearn: 0.0072409\ttotal: 539ms\tremaining: 19ms\n",
      "966:\tlearn: 0.0072075\ttotal: 540ms\tremaining: 18.4ms\n",
      "967:\tlearn: 0.0071990\ttotal: 540ms\tremaining: 17.9ms\n",
      "968:\tlearn: 0.0071658\ttotal: 541ms\tremaining: 17.3ms\n",
      "969:\tlearn: 0.0071437\ttotal: 541ms\tremaining: 16.7ms\n",
      "970:\tlearn: 0.0071357\ttotal: 542ms\tremaining: 16.2ms\n",
      "971:\tlearn: 0.0070985\ttotal: 542ms\tremaining: 15.6ms\n",
      "972:\tlearn: 0.0070715\ttotal: 543ms\tremaining: 15.1ms\n",
      "973:\tlearn: 0.0070309\ttotal: 544ms\tremaining: 14.5ms\n",
      "974:\tlearn: 0.0069949\ttotal: 544ms\tremaining: 14ms\n",
      "975:\tlearn: 0.0069895\ttotal: 545ms\tremaining: 13.4ms\n",
      "976:\tlearn: 0.0069818\ttotal: 545ms\tremaining: 12.8ms\n",
      "977:\tlearn: 0.0069503\ttotal: 546ms\tremaining: 12.3ms\n",
      "978:\tlearn: 0.0069450\ttotal: 546ms\tremaining: 11.7ms\n",
      "979:\tlearn: 0.0069141\ttotal: 547ms\tremaining: 11.2ms\n",
      "980:\tlearn: 0.0069065\ttotal: 547ms\tremaining: 10.6ms\n",
      "981:\tlearn: 0.0068713\ttotal: 548ms\tremaining: 10ms\n",
      "982:\tlearn: 0.0068448\ttotal: 548ms\tremaining: 9.48ms\n",
      "983:\tlearn: 0.0068064\ttotal: 549ms\tremaining: 8.92ms\n",
      "984:\tlearn: 0.0067723\ttotal: 549ms\tremaining: 8.36ms\n",
      "985:\tlearn: 0.0067648\ttotal: 550ms\tremaining: 7.8ms\n",
      "986:\tlearn: 0.0067354\ttotal: 550ms\tremaining: 7.24ms\n"
     ]
    },
    {
     "name": "stdout",
     "output_type": "stream",
     "text": [
      "987:\tlearn: 0.0067280\ttotal: 551ms\tremaining: 6.69ms\n",
      "988:\tlearn: 0.0066991\ttotal: 551ms\tremaining: 6.13ms\n",
      "989:\tlearn: 0.0066939\ttotal: 552ms\tremaining: 5.57ms\n",
      "990:\tlearn: 0.0066689\ttotal: 552ms\tremaining: 5.01ms\n",
      "991:\tlearn: 0.0066616\ttotal: 553ms\tremaining: 4.46ms\n",
      "992:\tlearn: 0.0066285\ttotal: 553ms\tremaining: 3.9ms\n",
      "993:\tlearn: 0.0066062\ttotal: 553ms\tremaining: 3.34ms\n",
      "994:\tlearn: 0.0065737\ttotal: 554ms\tremaining: 2.78ms\n",
      "995:\tlearn: 0.0065393\ttotal: 554ms\tremaining: 2.23ms\n",
      "996:\tlearn: 0.0065241\ttotal: 555ms\tremaining: 1.67ms\n",
      "997:\tlearn: 0.0065093\ttotal: 555ms\tremaining: 1.11ms\n",
      "998:\tlearn: 0.0064740\ttotal: 556ms\tremaining: 556us\n",
      "999:\tlearn: 0.0064428\ttotal: 556ms\tremaining: 0us\n"
     ]
    },
    {
     "data": {
      "text/plain": [
       "<catboost.core.CatBoostRegressor at 0x7f8e3893a370>"
      ]
     },
     "execution_count": 9,
     "metadata": {},
     "output_type": "execute_result"
    }
   ],
   "source": [
    "#Train the Model \n",
    "prior_model = ctb.CatBoostRegressor()\n",
    "prior_model.fit(X_train,Y_train)"
   ]
  },
  {
   "cell_type": "code",
   "execution_count": 10,
   "id": "af65dcda",
   "metadata": {
    "execution": {
     "iopub.execute_input": "2022-06-07T06:02:28.169144Z",
     "iopub.status.busy": "2022-06-07T06:02:28.168731Z",
     "iopub.status.idle": "2022-06-07T06:02:28.176337Z",
     "shell.execute_reply": "2022-06-07T06:02:28.176626Z"
    },
    "id": "af65dcda",
    "papermill": {
     "duration": 0.022113,
     "end_time": "2022-06-07T06:02:28.176751",
     "exception": false,
     "start_time": "2022-06-07T06:02:28.154638",
     "status": "completed"
    },
    "tags": []
   },
   "outputs": [
    {
     "data": {
      "application/scrapbook.scrap.json+json": {
       "data": 0.058419629851253305,
       "encoder": "json",
       "name": "Prior Model MSE",
       "version": 1
      }
     },
     "metadata": {
      "scrapbook": {
       "data": true,
       "display": false,
       "name": "Prior Model MSE"
      }
     },
     "output_type": "display_data"
    },
    {
     "data": {
      "application/scrapbook.scrap.json+json": {
       "data": 1.2035107296245733,
       "encoder": "json",
       "name": "ABC Pre-generator MSE",
       "version": 1
      }
     },
     "metadata": {
      "scrapbook": {
       "data": true,
       "display": false,
       "name": "ABC Pre-generator MSE"
      }
     },
     "output_type": "display_data"
    },
    {
     "data": {
      "application/scrapbook.scrap.json+json": {
       "data": 0.22063981342643008,
       "encoder": "json",
       "name": "Prior Model MSE",
       "version": 1
      }
     },
     "metadata": {
      "scrapbook": {
       "data": true,
       "display": false,
       "name": "Prior Model MSE"
      }
     },
     "output_type": "display_data"
    },
    {
     "data": {
      "application/scrapbook.scrap.json+json": {
       "data": 1.0709256925934902,
       "encoder": "json",
       "name": "ABC Pre-generator MSE",
       "version": 1
      }
     },
     "metadata": {
      "scrapbook": {
       "data": true,
       "display": false,
       "name": "ABC Pre-generator MSE"
      }
     },
     "output_type": "display_data"
    }
   ],
   "source": [
    "y_pred = prior_model.predict(X_test)\n",
    "y_abc = y_pred + np.random.normal(0,variance, y_pred.shape) + bias \n",
    "mse = mean_squared_error(y_pred,Y_test)\n",
    "sb.glue(\"Prior Model MSE\",mse)\n",
    "mse = mean_squared_error(y_abc,Y_test)\n",
    "sb.glue(\"ABC Pre-generator MSE\",mse)\n",
    "mae = mean_absolute_error(y_pred,Y_test)\n",
    "sb.glue(\"Prior Model MSE\",mae)\n",
    "mae = mean_absolute_error(y_abc,Y_test)\n",
    "sb.glue(\"ABC Pre-generator MSE\",mae)"
   ]
  },
  {
   "cell_type": "markdown",
   "id": "25609da2",
   "metadata": {
    "papermill": {
     "duration": 0.009853,
     "end_time": "2022-06-07T06:02:28.197036",
     "exception": false,
     "start_time": "2022-06-07T06:02:28.187183",
     "status": "completed"
    },
    "tags": []
   },
   "source": [
    "# ABC GAN Model"
   ]
  },
  {
   "cell_type": "code",
   "execution_count": 11,
   "id": "dfc3464d",
   "metadata": {
    "execution": {
     "iopub.execute_input": "2022-06-07T06:02:28.220571Z",
     "iopub.status.busy": "2022-06-07T06:02:28.220176Z",
     "iopub.status.idle": "2022-06-07T06:02:28.222832Z",
     "shell.execute_reply": "2022-06-07T06:02:28.223084Z"
    },
    "papermill": {
     "duration": 0.016232,
     "end_time": "2022-06-07T06:02:28.223200",
     "exception": false,
     "start_time": "2022-06-07T06:02:28.206968",
     "status": "completed"
    },
    "tags": []
   },
   "outputs": [],
   "source": [
    "gen = network.Generator(n_features+1).to(device)\n",
    "disc = network.Discriminator(n_features+1).to(device)\n",
    "\n",
    "criterion = torch.nn.BCELoss()\n",
    "gen_opt = torch.optim.Adam(gen.parameters(), lr=0.001, betas=(0.5, 0.999))\n",
    "disc_opt = torch.optim.Adam(disc.parameters(), lr=0.001, betas=(0.5, 0.999))"
   ]
  },
  {
   "cell_type": "code",
   "execution_count": 12,
   "id": "b75fdd85",
   "metadata": {
    "execution": {
     "iopub.execute_input": "2022-06-07T06:02:28.246207Z",
     "iopub.status.busy": "2022-06-07T06:02:28.245707Z",
     "iopub.status.idle": "2022-06-07T06:02:42.208671Z",
     "shell.execute_reply": "2022-06-07T06:02:42.208971Z"
    },
    "papermill": {
     "duration": 13.97586,
     "end_time": "2022-06-07T06:02:42.209115",
     "exception": false,
     "start_time": "2022-06-07T06:02:28.233255",
     "status": "completed"
    },
    "tags": []
   },
   "outputs": [
    {
     "data": {
      "image/png": "[encoded data removed]",
      "text/plain": [
       "<Figure size 432x288 with 1 Axes>"
      ]
     },
     "metadata": {
      "needs_background": "light"
     },
     "output_type": "display_data"
    },
    {
     "data": {
      "image/png": "[encoded data removed]",
      "text/plain": [
       "<Figure size 432x288 with 1 Axes>"
      ]
     },
     "metadata": {
      "needs_background": "light"
     },
     "output_type": "display_data"
    }
   ],
   "source": [
    "#Training the ABC_GAN \n",
    "ABC_train_test2.training_GAN(disc,gen,disc_opt,gen_opt,train_data,batch_size,n_epochs,criterion,prior_model,variance,bias,device)"
   ]
  },
  {
   "cell_type": "code",
   "execution_count": 13,
   "id": "1fa7c368",
   "metadata": {
    "execution": {
     "iopub.execute_input": "2022-06-07T06:02:42.234240Z",
     "iopub.status.busy": "2022-06-07T06:02:42.233730Z",
     "iopub.status.idle": "2022-06-07T06:02:42.406113Z",
     "shell.execute_reply": "2022-06-07T06:02:42.406361Z"
    },
    "papermill": {
     "duration": 0.185905,
     "end_time": "2022-06-07T06:02:42.406487",
     "exception": false,
     "start_time": "2022-06-07T06:02:42.220582",
     "status": "completed"
    },
    "tags": []
   },
   "outputs": [
    {
     "data": {
      "application/scrapbook.scrap.json+json": {
       "data": 0.038690601364936204,
       "encoder": "json",
       "name": "ABC-GAN Model 1 MSE",
       "version": 1
      }
     },
     "metadata": {
      "scrapbook": {
       "data": true,
       "display": false,
       "name": "ABC-GAN Model 1 MSE"
      }
     },
     "output_type": "display_data"
    },
    {
     "data": {
      "application/scrapbook.scrap.json+json": {
       "data": 0.1640746343396604,
       "encoder": "json",
       "name": "ABC-GAN Model 1 MAE",
       "version": 1
      }
     },
     "metadata": {
      "scrapbook": {
       "data": true,
       "display": false,
       "name": "ABC-GAN Model 1 MAE"
      }
     },
     "output_type": "display_data"
    },
    {
     "data": {
      "application/scrapbook.scrap.json+json": {
       "data": 3.281492686793208,
       "encoder": "json",
       "name": "ABC-GAN Model 1 Manhattan Distance",
       "version": 1
      }
     },
     "metadata": {
      "scrapbook": {
       "data": true,
       "display": false,
       "name": "ABC-GAN Model 1 Manhattan Distance"
      }
     },
     "output_type": "display_data"
    },
    {
     "data": {
      "application/scrapbook.scrap.json+json": {
       "data": 0.8781671281805434,
       "encoder": "json",
       "name": "ABC-GAN Model 1 Euclidean distance",
       "version": 1
      }
     },
     "metadata": {
      "scrapbook": {
       "data": true,
       "display": false,
       "name": "ABC-GAN Model 1 Euclidean distance"
      }
     },
     "output_type": "display_data"
    },
    {
     "data": {
      "application/scrapbook.scrap.json+json": {
       "data": [
        [
         0.0440572069010456,
         0.035727391169972526,
         0.0441667885068329,
         0.0381851440244481,
         0.04411021323282658,
         0.04008844954948089,
         0.03693982329211748,
         0.04166889024131234,
         0.04219166397874373,
         0.04078022555286903,
         0.03295573409087345,
         0.03907246700153042,
         0.03765193949082441,
         0.04279910205833449,
         0.0328378619724489,
         0.03343090769251468,
         0.03956278641400217,
         0.03690212432421097,
         0.041156847938880595,
         0.04027400608246389,
         0.03678214198572517,
         0.045099471936178095,
         0.04283991485519366,
         0.03127548553526846,
         0.0424273231735696,
         0.02327697856421338,
         0.04747542599925601,
         0.041133560416919575,
         0.04254743447710358,
         0.03611887951340881,
         0.03692261837476833,
         0.03801642582777534,
         0.03483798557185174,
         0.04248691808530437,
         0.031365940502316156,
         0.0390767567562839,
         0.0339401963805954,
         0.03739340401903306,
         0.03966473174084785,
         0.04041295558311493,
         0.03217509034946232,
         0.03120871793739402,
         0.03464530803916793,
         0.03578172414130741,
         0.03913034531374948,
         0.03956488684816163,
         0.04519210688836045,
         0.04521868998301992,
         0.040216328863467134,
         0.03387709043562227,
         0.043147728416529356,
         0.040079477128587754,
         0.03672978811717204,
         0.04493769559809733,
         0.04531015427311053,
         0.04001964573593687,
         0.033667348768295406,
         0.039561967499661205,
         0.04082582180872929,
         0.037631843460829116,
         0.030796439917547123,
         0.03273653266120176,
         0.04592292222940787,
         0.035906067886399905,
         0.0383025593709827,
         0.04415995776693696,
         0.04348521939413868,
         0.03289662666376374,
         0.03341408827823434,
         0.038275035359436216,
         0.03964314519777077,
         0.042226008449411524,
         0.03818992801440728,
         0.0448583748723048,
         0.04332229949607599,
         0.04167176706284658,
         0.042081584203644704,
         0.03619194709891973,
         0.03961531875667038,
         0.044679522214726625,
         0.03722674198456476,
         0.036734636050820245,
         0.034336783194326384,
         0.03188877173949604,
         0.038782644096870725,
         0.03161917316109687,
         0.045435653308072636,
         0.04176057805971688,
         0.041138881819837395,
         0.03786718311441602,
         0.0312114979821429,
         0.036765956555941656,
         0.03577825973815389,
         0.042655457688478816,
         0.04047146454477709,
         0.03808895246378745,
         0.03493451981322176,
         0.0366582846556442,
         0.045013282538619005,
         0.03574018666768593
        ],
        [
         0.1838057733140886,
         0.16506437910720706,
         0.1813481773249805,
         0.15780464811250566,
         0.17755545293912292,
         0.16685933312401174,
         0.15346516137942673,
         0.16117528034374118,
         0.16991530088707804,
         0.1721982873044908,
         0.1523537146858871,
         0.16543426020070912,
         0.1617728921584785,
         0.17382521098479628,
         0.1552906117402017,
         0.15718832677230238,
         0.16840938394889235,
         0.16002609385177494,
         0.16851292876526713,
         0.1766769933514297,
         0.1585750541649759,
         0.1783484215848148,
         0.1743080179207027,
         0.14914566865190865,
         0.1706636025570333,
         0.13403589418157935,
         0.17991488641127945,
         0.1712586293928325,
         0.16856255223974587,
         0.17027700198814272,
         0.1622089228592813,
         0.1641147437505424,
         0.151709411945194,
         0.16532066939398646,
         0.15679128235206008,
         0.16086509255692363,
         0.1619767147116363,
         0.1591189711354673,
         0.16289960471913217,
         0.16525367563590407,
         0.14891457511112094,
         0.14830412408336996,
         0.15191741837188602,
         0.1666981223039329,
         0.1514280959032476,
         0.16855077212676406,
         0.17361750369891524,
         0.18166141835972666,
         0.16331798275932669,
         0.15142226507887244,
         0.17303669890388845,
         0.16454437701031566,
         0.15506265005096792,
         0.16746403416618705,
         0.17566674118861555,
         0.16199313467368484,
         0.1515948790125549,
         0.16661956934258343,
         0.1737946561537683,
         0.16606532102450727,
         0.15058844266459345,
         0.1544384147040546,
         0.18479767246171833,
         0.15356445452198386,
         0.15921225352212787,
         0.1766210745088756,
         0.1785380898974836,
         0.1446966531686485,
         0.154848591145128,
         0.16857026619836687,
         0.16860207011923195,
         0.17356445183977484,
         0.16323117194697262,
         0.1716649460606277,
         0.18052761880680918,
         0.17402840284630655,
         0.16600163681432606,
         0.1606965928338468,
         0.16692139944061637,
         0.17093091113492848,
         0.168622016441077,
         0.16245777932927014,
         0.14821769623085856,
         0.15465026265010237,
         0.16733070900663732,
         0.1449903572909534,
         0.1726078107021749,
         0.16576030245050788,
         0.16945241494104266,
         0.1714529070071876,
         0.14812381444498895,
         0.16352006746456027,
         0.16365765994414688,
         0.17183329416438936,
         0.15913394307717682,
         0.16405468648299576,
         0.15179595788940786,
         0.15313061317428947,
         0.17283522812649607,
         0.15608543073758482
        ],
        [
         3.6761154662817717,
         3.301287582144141,
         3.62696354649961,
         3.1560929622501135,
         3.5511090587824583,
         3.337186662480235,
         3.0693032275885344,
         3.2235056068748236,
         3.398306017741561,
         3.443965746089816,
         3.047074293717742,
         3.308685204014182,
         3.23545784316957,
         3.4765042196959257,
         3.1058122348040342,
         3.143766535446048,
         3.368187678977847,
         3.2005218770354986,
         3.3702585753053427,
         3.533539867028594,
         3.1715010832995176,
         3.5669684316962957,
         3.486160358414054,
         2.9829133730381727,
         3.413272051140666,
         2.680717883631587,
         3.598297728225589,
         3.4251725878566504,
         3.371251044794917,
         3.4055400397628546,
         3.244178457185626,
         3.282294875010848,
         3.03418823890388,
         3.3064133878797293,
         3.1358256470412016,
         3.2173018511384726,
         3.239534294232726,
         3.182379422709346,
         3.2579920943826437,
         3.3050735127180815,
         2.978291502222419,
         2.9660824816673994,
         3.0383483674377203,
         3.333962446078658,
         3.028561918064952,
         3.371015442535281,
         3.472350073978305,
         3.6332283671945333,
         3.266359655186534,
         3.028445301577449,
         3.4607339780777693,
         3.290887540206313,
         3.1012530010193586,
         3.349280683323741,
         3.513334823772311,
         3.2398626934736967,
         3.0318975802510977,
         3.3323913868516684,
         3.475893123075366,
         3.3213064204901457,
         3.011768853291869,
         3.088768294081092,
         3.6959534492343664,
         3.0712890904396772,
         3.1842450704425573,
         3.532421490177512,
         3.5707617979496717,
         2.8939330633729696,
         3.0969718229025602,
         3.3714053239673376,
         3.372041402384639,
         3.471289036795497,
         3.264623438939452,
         3.433298921212554,
         3.6105523761361837,
         3.4805680569261312,
         3.320032736286521,
         3.213931856676936,
         3.3384279888123274,
         3.4186182226985693,
         3.37244032882154,
         3.2491555865854025,
         2.9643539246171713,
         3.0930052530020475,
         3.3466141801327467,
         2.899807145819068,
         3.452156214043498,
         3.3152060490101576,
         3.3890482988208532,
         3.429058140143752,
         2.9624762888997793,
         3.2704013492912054,
         3.2731531988829374,
         3.4366658832877874,
         3.182678861543536,
         3.281093729659915,
         3.0359191577881575,
         3.0626122634857893,
         3.4567045625299215,
         3.1217086147516966
        ],
        [
         0.9386927814897225,
         0.8453093063485404,
         0.9398594416914999,
         0.8739009557661338,
         0.9392572941726519,
         0.8954155409582848,
         0.8595327020203185,
         0.9128952868901486,
         0.918603984083933,
         0.9031082499110396,
         0.8118587819426903,
         0.8839962330409606,
         0.8677780763631265,
         0.925192975095839,
         0.8104056018124369,
         0.8176907446280003,
         0.8895255635899642,
         0.8590939916471418,
         0.9072689561412381,
         0.8974854436977113,
         0.8576962397693623,
         0.9497312455234701,
         0.9256339973790252,
         0.7908917186981851,
         0.9211658175765056,
         0.6823046030068005,
         0.9744272779356703,
         0.9070122426618019,
         0.9224688013922593,
         0.8499279912252427,
         0.8593325127652082,
         0.8719681855179734,
         0.8347213375953887,
         0.9218125415213699,
         0.7920346015461214,
         0.8840447585533654,
         0.8238955805269913,
         0.8647936634716175,
         0.890670890293916,
         0.8990323195871763,
         0.8021856437192368,
         0.79004706109692,
         0.8324098514454035,
         0.8459518206293714,
         0.8846507255832605,
         0.8895491762478522,
         0.9507061258702444,
         0.9509856989778545,
         0.8968425599119071,
         0.8231292782500483,
         0.9289534801757229,
         0.8953153313619482,
         0.8570856213608071,
         0.9480263245089486,
         0.951946997191656,
         0.8946468100422297,
         0.8205772208426871,
         0.8895163573500063,
         0.9036129902644083,
         0.8675464651628652,
         0.7848113138525352,
         0.8091542827075904,
         0.9583623764464867,
         0.8474204138017907,
         0.8752435017865908,
         0.9397867605679169,
         0.9325794271174834,
         0.8111304046053722,
         0.8174850246730436,
         0.874928972653623,
         0.8904284945774226,
         0.9189777848175822,
         0.8739556969824875,
         0.9471892616822131,
         0.9308308062808835,
         0.9129267995063632,
         0.9174048637722029,
         0.8507872483637696,
         0.8901159335352938,
         0.9452991295323044,
         0.8628643228754421,
         0.8571421824973993,
         0.8286951573929509,
         0.798608436463027,
         0.8807115770429128,
         0.7952254166096161,
         0.9532644261491419,
         0.9138990979283969,
         0.9070709103464557,
         0.8702549409732302,
         0.7900822486569724,
         0.8575075108235689,
         0.8459108669139307,
         0.92363908198472,
         0.8996828835181548,
         0.8727995470185288,
         0.8358770222134565,
         0.8562509521821765,
         0.9488232979709025,
         0.8454606633981965
        ]
       ],
       "encoder": "json",
       "name": "ABC_GAN_1 Metrics",
       "version": 1
      }
     },
     "metadata": {
      "scrapbook": {
       "data": true,
       "display": false,
       "name": "ABC_GAN_1 Metrics"
      }
     },
     "output_type": "display_data"
    },
    {
     "name": "stdout",
     "output_type": "stream",
     "text": [
      "MSE\n",
      "0.038690601364936204\n"
     ]
    }
   ],
   "source": [
    "ABC_GAN1_metrics=ABC_train_test2.test_generator(gen,test_data,prior_model,variance,bias,\"1\",device)\n",
    "sb.glue(\"ABC_GAN_1 Metrics\",ABC_GAN1_metrics)\n",
    "\n",
    "print(\"MSE\")\n",
    "print(mean(ABC_GAN1_metrics[0]))"
   ]
  },
  {
   "cell_type": "code",
   "execution_count": 14,
   "id": "eb22ce5c",
   "metadata": {
    "execution": {
     "iopub.execute_input": "2022-06-07T06:02:42.433532Z",
     "iopub.status.busy": "2022-06-07T06:02:42.433149Z",
     "iopub.status.idle": "2022-06-07T06:02:42.721865Z",
     "shell.execute_reply": "2022-06-07T06:02:42.722160Z"
    },
    "papermill": {
     "duration": 0.30337,
     "end_time": "2022-06-07T06:02:42.722283",
     "exception": false,
     "start_time": "2022-06-07T06:02:42.418913",
     "status": "completed"
    },
    "tags": []
   },
   "outputs": [
    {
     "data": {
      "image/png": "[encoded data removed]",
      "text/plain": [
       "<Figure size 432x288 with 1 Axes>"
      ]
     },
     "metadata": {
      "needs_background": "light"
     },
     "output_type": "display_data"
    },
    {
     "data": {
      "image/png": "[encoded data removed]",
      "text/plain": [
       "<Figure size 432x288 with 1 Axes>"
      ]
     },
     "metadata": {
      "needs_background": "light"
     },
     "output_type": "display_data"
    },
    {
     "data": {
      "image/png": "[encoded data removed]",
      "text/plain": [
       "<Figure size 432x288 with 1 Axes>"
      ]
     },
     "metadata": {
      "needs_background": "light"
     },
     "output_type": "display_data"
    },
    {
     "data": {
      "image/png": "[encoded data removed]",
      "text/plain": [
       "<Figure size 432x288 with 1 Axes>"
      ]
     },
     "metadata": {
      "needs_background": "light"
     },
     "output_type": "display_data"
    }
   ],
   "source": [
    "sanityChecks.discProbVsError(train_data,disc,device)\n",
    "sanityChecks.discProbVsError(test_data,disc,device)"
   ]
  },
  {
   "cell_type": "markdown",
   "id": "130f3a4d",
   "metadata": {
    "id": "130f3a4d",
    "papermill": {
     "duration": 0.038162,
     "end_time": "2022-06-07T06:02:42.775053",
     "exception": false,
     "start_time": "2022-06-07T06:02:42.736891",
     "status": "completed"
    },
    "tags": []
   },
   "source": [
    "# ABC - GAN Model with skip connection"
   ]
  },
  {
   "cell_type": "code",
   "execution_count": 15,
   "id": "4e43dad1",
   "metadata": {
    "execution": {
     "iopub.execute_input": "2022-06-07T06:02:42.807061Z",
     "iopub.status.busy": "2022-06-07T06:02:42.806686Z",
     "iopub.status.idle": "2022-06-07T06:02:42.808977Z",
     "shell.execute_reply": "2022-06-07T06:02:42.809223Z"
    },
    "id": "4e43dad1",
    "papermill": {
     "duration": 0.019803,
     "end_time": "2022-06-07T06:02:42.809338",
     "exception": false,
     "start_time": "2022-06-07T06:02:42.789535",
     "status": "completed"
    },
    "tags": []
   },
   "outputs": [],
   "source": [
    "#Generator\n",
    "gen3 = network.GeneratorWithSkipConnection(n_features+1).to(device)\n",
    "constraints=network.weightConstraint()\n",
    "#Discriminator \n",
    "disc3 = network.Discriminator(n_features+1).to(device)\n",
    "\n",
    "criterion = torch.nn.BCELoss()\n",
    "gen_opt = torch.optim.Adam(gen3.parameters(), lr=0.001, betas=(0.5, 0.999))\n",
    "disc_opt = torch.optim.Adam(disc3.parameters(), lr=0.001, betas=(0.5, 0.999))\n"
   ]
  },
  {
   "cell_type": "code",
   "execution_count": 16,
   "id": "26acbc37",
   "metadata": {
    "execution": {
     "iopub.execute_input": "2022-06-07T06:02:42.840680Z",
     "iopub.status.busy": "2022-06-07T06:02:42.840311Z",
     "iopub.status.idle": "2022-06-07T06:03:24.604774Z",
     "shell.execute_reply": "2022-06-07T06:03:24.605181Z"
    },
    "id": "26acbc37",
    "papermill": {
     "duration": 41.781378,
     "end_time": "2022-06-07T06:03:24.605309",
     "exception": false,
     "start_time": "2022-06-07T06:02:42.823931",
     "status": "completed"
    },
    "tags": []
   },
   "outputs": [
    {
     "data": {
      "image/png": "[encoded data removed]",
      "text/plain": [
       "<Figure size 432x288 with 1 Axes>"
      ]
     },
     "metadata": {
      "needs_background": "light"
     },
     "output_type": "display_data"
    },
    {
     "data": {
      "image/png": "[encoded data removed]",
      "text/plain": [
       "<Figure size 432x288 with 1 Axes>"
      ]
     },
     "metadata": {
      "needs_background": "light"
     },
     "output_type": "display_data"
    }
   ],
   "source": [
    "ABC_train_test2.training_GAN_skip_connection(disc3,gen3,disc_opt,gen_opt,train_data,batch_size,n_epochs,criterion,prior_model,variance,bias,device)"
   ]
  },
  {
   "cell_type": "code",
   "execution_count": 17,
   "id": "c5e0717b",
   "metadata": {
    "execution": {
     "iopub.execute_input": "2022-06-07T06:03:24.640032Z",
     "iopub.status.busy": "2022-06-07T06:03:24.639638Z",
     "iopub.status.idle": "2022-06-07T06:03:24.954383Z",
     "shell.execute_reply": "2022-06-07T06:03:24.954628Z"
    },
    "id": "c5e0717b",
    "papermill": {
     "duration": 0.333374,
     "end_time": "2022-06-07T06:03:24.954752",
     "exception": false,
     "start_time": "2022-06-07T06:03:24.621378",
     "status": "completed"
    },
    "tags": []
   },
   "outputs": [
    {
     "data": {
      "application/scrapbook.scrap.json+json": {
       "data": 0.04959491733755176,
       "encoder": "json",
       "name": "ABC-GAN Model 3 MSE",
       "version": 1
      }
     },
     "metadata": {
      "scrapbook": {
       "data": true,
       "display": false,
       "name": "ABC-GAN Model 3 MSE"
      }
     },
     "output_type": "display_data"
    },
    {
     "data": {
      "application/scrapbook.scrap.json+json": {
       "data": 0.187020492894575,
       "encoder": "json",
       "name": "ABC-GAN Model 3 MAE",
       "version": 1
      }
     },
     "metadata": {
      "scrapbook": {
       "data": true,
       "display": false,
       "name": "ABC-GAN Model 3 MAE"
      }
     },
     "output_type": "display_data"
    },
    {
     "data": {
      "application/scrapbook.scrap.json+json": {
       "data": 3.7404098578915,
       "encoder": "json",
       "name": "ABC-GAN Model 3 Manhattan Distance",
       "version": 1
      }
     },
     "metadata": {
      "scrapbook": {
       "data": true,
       "display": false,
       "name": "ABC-GAN Model 3 Manhattan Distance"
      }
     },
     "output_type": "display_data"
    },
    {
     "data": {
      "application/scrapbook.scrap.json+json": {
       "data": 0.993889574422098,
       "encoder": "json",
       "name": "ABC-GAN Model 3 Euclidean distance",
       "version": 1
      }
     },
     "metadata": {
      "scrapbook": {
       "data": true,
       "display": false,
       "name": "ABC-GAN Model 3 Euclidean distance"
      }
     },
     "output_type": "display_data"
    },
    {
     "data": {
      "application/scrapbook.scrap.json+json": {
       "data": [
        [
         0.07026143708839469,
         0.04348986083880563,
         0.042732451871348144,
         0.05662042068205044,
         0.040522421293957486,
         0.04881007955681432,
         0.05146068371246489,
         0.05077077451808574,
         0.04906480756454947,
         0.04949875653914458,
         0.03943431124467049,
         0.05467581511359092,
         0.0476344321260296,
         0.05750837057032195,
         0.05347897665556208,
         0.05134521786735511,
         0.04448191724646557,
         0.04924064214221675,
         0.05658893610393515,
         0.05331622188147507,
         0.050685456216987626,
         0.046514555442695546,
         0.043023071224699116,
         0.04589754302768127,
         0.05311844609388661,
         0.05887406498213201,
         0.04515224850043592,
         0.05007124674906268,
         0.052472376825973444,
         0.049913398107915195,
         0.05141419580181875,
         0.04971054882703502,
         0.05256854962050126,
         0.053867956720568676,
         0.061256170010271706,
         0.04821186861021528,
         0.04368577596931118,
         0.04530004292487144,
         0.04711049470876375,
         0.04610382465740235,
         0.053326330549910726,
         0.0479217278041962,
         0.04095557189992126,
         0.057377029391859194,
         0.03800443275029475,
         0.05350451825966118,
         0.058265622906076044,
         0.05169756650910738,
         0.04195766271402294,
         0.04329368092143945,
         0.04960376059677701,
         0.06344753495834865,
         0.05302614350181615,
         0.03411230203252036,
         0.043853558599823525,
         0.03902043749522947,
         0.04952284277305826,
         0.04599441869986787,
         0.06080218663152683,
         0.04517497753813586,
         0.05636619185898374,
         0.0451773257684989,
         0.040623780395306106,
         0.048643020024602204,
         0.05180536920986588,
         0.047770152349855224,
         0.053207590025692975,
         0.05492171670342273,
         0.0484924026399031,
         0.031147092270688227,
         0.04790588229882129,
         0.04924953355625326,
         0.05572830520869858,
         0.05002475214423859,
         0.05324448631001342,
         0.0465281559424062,
         0.052925510372515486,
         0.06199544611871549,
         0.04447683949738901,
         0.06156707017042826,
         0.037076637632217926,
         0.04796928541436311,
         0.05062596940504023,
         0.0482035318406868,
         0.0518400827166275,
         0.048562702615441475,
         0.05878944661921929,
         0.04634667998483114,
         0.04503993048681776,
         0.04971027496859397,
         0.042401420947762045,
         0.052552682824122884,
         0.052309600194311745,
         0.05669683472598869,
         0.050440597178638615,
         0.05032650273051352,
         0.04383662587660141,
         0.04873386942195358,
         0.052258129121220576,
         0.04721963001086511
        ],
        [
         0.2335291332565248,
         0.1800860202871263,
         0.17670310949906706,
         0.19827111577615142,
         0.17645152723416685,
         0.17909424221143128,
         0.19413574552163482,
         0.19163929140195252,
         0.186179833766073,
         0.19320497727021574,
         0.16913854097947478,
         0.19082688903436065,
         0.19051303034648298,
         0.19852222418412566,
         0.19451866960152983,
         0.19399073040112852,
         0.183001225348562,
         0.19300460433587432,
         0.19158850824460388,
         0.1878678089939058,
         0.19167480235919357,
         0.1944363704882562,
         0.17519564246758818,
         0.17716240948066114,
         0.19101706957444547,
         0.19190302109345794,
         0.17059694891795515,
         0.19100446617230774,
         0.1946566647849977,
         0.18758083945140241,
         0.20268199061974884,
         0.18968717074021696,
         0.1929868540726602,
         0.18926278268918395,
         0.20125630414113402,
         0.1684554777108133,
         0.1769396207295358,
         0.1692681453190744,
         0.18001535153016449,
         0.18202618276700377,
         0.18210132187232375,
         0.18531988775357605,
         0.16125398790463805,
         0.19531114315614104,
         0.1582388690672815,
         0.1934993407689035,
         0.20757282292470336,
         0.19261033749207854,
         0.16095933830365539,
         0.18225595569238068,
         0.18993261074647308,
         0.21501491582021118,
         0.18978864764794706,
         0.15544813191518186,
         0.16923251962289215,
         0.17017725920304655,
         0.1867177954874933,
         0.17844915902242064,
         0.2093994758091867,
         0.17847396647557617,
         0.20282516246661544,
         0.17348465835675597,
         0.17524579083546996,
         0.18586442684754728,
         0.19582683062180878,
         0.1931050500832498,
         0.18783031022176147,
         0.19276760732755066,
         0.19407825088128447,
         0.15007158303633333,
         0.18496047174558045,
         0.18846878027543426,
         0.19761893367394806,
         0.1886477700434625,
         0.19782117819413542,
         0.17372422432526946,
         0.18676026528701187,
         0.21370496666058897,
         0.17493410324677824,
         0.22400338863953947,
         0.16512004351243376,
         0.18704664027318357,
         0.19253300642594695,
         0.17569667613133788,
         0.18776184534654022,
         0.18111652648076415,
         0.19600020414218305,
         0.17805060958489777,
         0.1828752658329904,
         0.18899758970364927,
         0.1739340833388269,
         0.19619042640551926,
         0.1922926596365869,
         0.20538499569520355,
         0.19417876517400146,
         0.19660126781091095,
         0.1753231636248529,
         0.18819604432210327,
         0.19860877906903623,
         0.18256411468610168
        ],
        [
         4.670582665130496,
         3.601720405742526,
         3.5340621899813414,
         3.9654223155230284,
         3.529030544683337,
         3.5818848442286253,
         3.8827149104326963,
         3.83278582803905,
         3.7235966753214598,
         3.864099545404315,
         3.3827708195894957,
         3.816537780687213,
         3.81026060692966,
         3.9704444836825132,
         3.8903733920305967,
         3.8798146080225706,
         3.66002450697124,
         3.8600920867174864,
         3.8317701648920774,
         3.7573561798781157,
         3.8334960471838713,
         3.8887274097651243,
         3.5039128493517637,
         3.543248189613223,
         3.8203413914889097,
         3.8380604218691587,
         3.411938978359103,
         3.8200893234461546,
         3.893133295699954,
         3.7516167890280485,
         4.053639812394977,
         3.7937434148043394,
         3.859737081453204,
         3.785255653783679,
         4.0251260828226805,
         3.3691095542162657,
         3.5387924145907164,
         3.385362906381488,
         3.6003070306032896,
         3.6405236553400755,
         3.642026437446475,
         3.706397755071521,
         3.225079758092761,
         3.906222863122821,
         3.1647773813456297,
         3.86998681537807,
         4.151456458494067,
         3.852206749841571,
         3.2191867660731077,
         3.6451191138476133,
         3.7986522149294615,
         4.300298316404223,
         3.7957729529589415,
         3.1089626383036375,
         3.384650392457843,
         3.403545184060931,
         3.7343559097498655,
         3.568983180448413,
         4.187989516183734,
         3.5694793295115232,
         4.056503249332309,
         3.4696931671351194,
         3.5049158167093992,
         3.717288536950946,
         3.9165366124361753,
         3.862101001664996,
         3.7566062044352293,
         3.855352146551013,
         3.8815650176256895,
         3.0014316607266665,
         3.6992094349116087,
         3.769375605508685,
         3.952378673478961,
         3.7729554008692503,
         3.9564235638827085,
         3.474484486505389,
         3.7352053057402372,
         4.27409933321178,
         3.498682064935565,
         4.48006777279079,
         3.3024008702486753,
         3.7409328054636717,
         3.850660128518939,
         3.5139335226267576,
         3.7552369069308043,
         3.622330529615283,
         3.9200040828436613,
         3.561012191697955,
         3.657505316659808,
         3.7799517940729856,
         3.478681666776538,
         3.923808528110385,
         3.845853192731738,
         4.107699913904071,
         3.883575303480029,
         3.932025356218219,
         3.506463272497058,
         3.7639208864420652,
         3.972175581380725,
         3.6512822937220335
        ],
        [
         1.1854234440772182,
         0.9326291957558012,
         0.9244723021415855,
         1.0641468007944246,
         0.9002490910182303,
         0.9880291448820153,
         1.014501687652267,
         1.0076782672865952,
         0.990603932604242,
         0.99497493977632,
         0.8880800779734955,
         1.0457132983145134,
         0.9760577045034745,
         1.0724585826065447,
         1.0342047829667207,
         1.0133628951896265,
         0.9432064169254318,
         0.992377369171796,
         1.0638508927846528,
         1.032629864777066,
         1.0068312293228456,
         0.9645159971995856,
         0.9276105996020002,
         0.9580975214212932,
         1.030712822214671,
         1.0851181040064903,
         0.9502867830337947,
         1.0007122138663311,
         1.0244254665516026,
         0.9991336057596621,
         1.0140433501761033,
         0.9971012870018273,
         1.0253638341632814,
         1.0379591198170444,
         1.1068529261855136,
         0.981955891170426,
         0.9347275107678299,
         0.9518407737103033,
         0.9706749683469101,
         0.9602481414447241,
         1.0327277526038576,
         0.9789967089239494,
         0.9050477545402923,
         1.071233208893929,
         0.8718306343584715,
         1.0344517220214888,
         1.0794963909719757,
         1.0168339737548837,
         0.9160530848594195,
         0.9305233035388146,
         0.9960297244236942,
         1.1264771187942404,
         1.0298169109294735,
         0.825981864601401,
         0.9365207803335015,
         0.8834074653887578,
         0.995216989134111,
         0.9591081138210422,
         1.1027437293544393,
         0.9505259337665213,
         1.0617550740070305,
         0.9505506379830472,
         0.901374288465187,
         0.9863368595424405,
         1.0178936016093811,
         0.9774472093147049,
         1.0315773361769147,
         1.0480621804399082,
         0.9848086376540683,
         0.7892666503874115,
         0.9788348410106915,
         0.992466962233537,
         1.0557301284769567,
         1.0002474908165337,
         1.0319349428138715,
         0.9646569954383393,
         1.0288392524832584,
         1.1135119767538695,
         0.9431525804172833,
         1.1096582372102526,
         0.8611229602352724,
         0.9794823675223878,
         1.0062402238535313,
         0.9818709878663978,
         1.0182345772623074,
         0.985522223143055,
         1.0843380157425015,
         0.962773908919754,
         0.9491041090082558,
         0.9970985404521859,
         0.9208845850350852,
         1.0252090793991524,
         1.022835277005166,
         1.0648646367119972,
         1.004396308024264,
         1.003259714436033,
         0.9363399583121657,
         0.9872575086769771,
         1.0223319335834187,
         0.9717986418066771
        ]
       ],
       "encoder": "json",
       "name": "ABC_GAN_3 Metrics",
       "version": 1
      }
     },
     "metadata": {
      "scrapbook": {
       "data": true,
       "display": false,
       "name": "ABC_GAN_3 Metrics"
      }
     },
     "output_type": "display_data"
    },
    {
     "name": "stdout",
     "output_type": "stream",
     "text": [
      "MSE\n",
      "0.04959491733755176\n"
     ]
    }
   ],
   "source": [
    "ABC_GAN3_metrics=ABC_train_test2.test_generator(gen3,test_data,prior_model,variance,bias,\"3\",device)\n",
    "sb.glue(\"ABC_GAN_3 Metrics\",ABC_GAN3_metrics)\n",
    "\n",
    "print(\"MSE\")\n",
    "print(mean(ABC_GAN3_metrics[0]))"
   ]
  },
  {
   "cell_type": "code",
   "execution_count": 18,
   "id": "c8e46b48",
   "metadata": {
    "execution": {
     "iopub.execute_input": "2022-06-07T06:03:24.992649Z",
     "iopub.status.busy": "2022-06-07T06:03:24.992265Z",
     "iopub.status.idle": "2022-06-07T06:03:25.298489Z",
     "shell.execute_reply": "2022-06-07T06:03:25.298807Z"
    },
    "id": "c8e46b48",
    "papermill": {
     "duration": 0.326555,
     "end_time": "2022-06-07T06:03:25.298935",
     "exception": false,
     "start_time": "2022-06-07T06:03:24.972380",
     "status": "completed"
    },
    "tags": []
   },
   "outputs": [
    {
     "data": {
      "image/png": "[encoded data removed]",
      "text/plain": [
       "<Figure size 432x288 with 1 Axes>"
      ]
     },
     "metadata": {
      "needs_background": "light"
     },
     "output_type": "display_data"
    },
    {
     "data": {
      "image/png": "[encoded data removed]",
      "text/plain": [
       "<Figure size 432x288 with 1 Axes>"
      ]
     },
     "metadata": {
      "needs_background": "light"
     },
     "output_type": "display_data"
    },
    {
     "data": {
      "image/png": "[encoded data removed]",
      "text/plain": [
       "<Figure size 432x288 with 1 Axes>"
      ]
     },
     "metadata": {
      "needs_background": "light"
     },
     "output_type": "display_data"
    },
    {
     "data": {
      "image/png": "[encoded data removed]",
      "text/plain": [
       "<Figure size 432x288 with 1 Axes>"
      ]
     },
     "metadata": {
      "needs_background": "light"
     },
     "output_type": "display_data"
    }
   ],
   "source": [
    "sanityChecks.discProbVsError(train_data,disc3,device)\n",
    "sanityChecks.discProbVsError(test_data,disc3,device)"
   ]
  },
  {
   "cell_type": "markdown",
   "id": "a5bd74c3",
   "metadata": {
    "id": "a5bd74c3",
    "papermill": {
     "duration": 0.020164,
     "end_time": "2022-06-07T06:03:25.338912",
     "exception": false,
     "start_time": "2022-06-07T06:03:25.318748",
     "status": "completed"
    },
    "tags": []
   },
   "source": [
    "## Skip Connection Model Analysis - ABC-GAN "
   ]
  },
  {
   "cell_type": "markdown",
   "id": "5744a8bf",
   "metadata": {
    "id": "5744a8bf",
    "papermill": {
     "duration": 0.01966,
     "end_time": "2022-06-07T06:03:25.378683",
     "exception": false,
     "start_time": "2022-06-07T06:03:25.359023",
     "status": "completed"
    },
    "tags": []
   },
   "source": [
    "### Weight Analysis \n",
    "\n",
    "Study the weights of the skip connection layer\n",
    "\n",
    "Equation of the skip connection is \n",
    "\n",
    "$output = y_{gan} * w + y_{abc} * (1-w)$"
   ]
  },
  {
   "cell_type": "code",
   "execution_count": 19,
   "id": "52c31dea",
   "metadata": {
    "execution": {
     "iopub.execute_input": "2022-06-07T06:03:25.421684Z",
     "iopub.status.busy": "2022-06-07T06:03:25.421289Z",
     "iopub.status.idle": "2022-06-07T06:03:25.424771Z",
     "shell.execute_reply": "2022-06-07T06:03:25.425007Z"
    },
    "id": "52c31dea",
    "papermill": {
     "duration": 0.026392,
     "end_time": "2022-06-07T06:03:25.425125",
     "exception": false,
     "start_time": "2022-06-07T06:03:25.398733",
     "status": "completed"
    },
    "tags": []
   },
   "outputs": [
    {
     "name": "stdout",
     "output_type": "stream",
     "text": [
      "Weight of the node at skip connection\n",
      "Parameter containing:\n",
      "tensor([[0.0777]], requires_grad=True)\n"
     ]
    },
    {
     "data": {
      "application/scrapbook.scrap.json+json": {
       "data": 0.07774009555578232,
       "encoder": "json",
       "name": "Skip Connection Weight",
       "version": 1
      }
     },
     "metadata": {
      "scrapbook": {
       "data": true,
       "display": false,
       "name": "Skip Connection Weight"
      }
     },
     "output_type": "display_data"
    }
   ],
   "source": [
    "print(\"Weight of the node at skip connection\")\n",
    "for name,param in gen3.named_parameters():\n",
    "    if(name == \"skipNode.weight\"):\n",
    "        print(param)\n",
    "        sb.glue(\"Skip Connection Weight\",param.item())"
   ]
  }
 ],
 "metadata": {
  "colab": {
   "collapsed_sections": [],
   "name": "ABC_GAN_Model-Catboost_Pre-gen.ipynb",
   "provenance": []
  },
  "interpreter": {
   "hash": "31f2aee4e71d21fbe5cf8b01ff0e069b9275f58929596ceb00d14d90e3e16cd6"
  },
  "kernelspec": {
   "display_name": "Python 3 (ipykernel)",
   "language": "python",
   "name": "python3"
  },
  "language_info": {
   "codemirror_mode": {
    "name": "ipython",
    "version": 3
   },
   "file_extension": ".py",
   "mimetype": "text/x-python",
   "name": "python",
   "nbconvert_exporter": "python",
   "pygments_lexer": "ipython3",
   "version": "3.8.11"
  },
  "papermill": {
   "default_parameters": {},
   "duration": 61.364303,
   "end_time": "2022-06-07T06:03:25.753423",
   "environment_variables": {},
   "exception": null,
   "input_path": "ABC_GAN-Catboost.ipynb",
   "output_path": "./ABC_GAN_Catboost/ABC-GAN_output_2_1.ipynb",
   "parameters": {
    "bias": 1,
    "variance": 0.1
   },
   "start_time": "2022-06-07T06:02:24.389120",
   "version": "2.3.3"
  }
 },
 "nbformat": 4,
 "nbformat_minor": 5
}