{
 "cells": [
  {
   "cell_type": "markdown",
   "id": "622780e6",
   "metadata": {
    "id": "622780e6",
    "papermill": {
     "duration": 0.034886,
     "end_time": "2022-06-07T06:53:36.477533",
     "exception": false,
     "start_time": "2022-06-07T06:53:36.442647",
     "status": "completed"
    },
    "tags": []
   },
   "source": [
    "## Import Libraries "
   ]
  },
  {
   "cell_type": "code",
   "execution_count": 1,
   "id": "a62397e3",
   "metadata": {
    "execution": {
     "iopub.execute_input": "2022-06-07T06:53:36.513350Z",
     "iopub.status.busy": "2022-06-07T06:53:36.512882Z",
     "iopub.status.idle": "2022-06-07T06:53:36.515497Z",
     "shell.execute_reply": "2022-06-07T06:53:36.515836Z"
    },
    "id": "a62397e3",
    "papermill": {
     "duration": 0.021898,
     "end_time": "2022-06-07T06:53:36.516032",
     "exception": false,
     "start_time": "2022-06-07T06:53:36.494134",
     "status": "completed"
    },
    "tags": []
   },
   "outputs": [],
   "source": [
    "import warnings\n",
    "import sys\n",
    "sys.path.insert(0, '../../src')\n",
    "warnings.filterwarnings('ignore')"
   ]
  },
  {
   "cell_type": "code",
   "execution_count": 2,
   "id": "d6a4e155",
   "metadata": {
    "execution": {
     "iopub.execute_input": "2022-06-07T06:53:36.536348Z",
     "iopub.status.busy": "2022-06-07T06:53:36.535896Z",
     "iopub.status.idle": "2022-06-07T06:53:38.326188Z",
     "shell.execute_reply": "2022-06-07T06:53:38.326441Z"
    },
    "id": "d6a4e155",
    "papermill": {
     "duration": 1.800904,
     "end_time": "2022-06-07T06:53:38.326564",
     "exception": false,
     "start_time": "2022-06-07T06:53:36.525660",
     "status": "completed"
    },
    "tags": []
   },
   "outputs": [],
   "source": [
    "import ABC_train_test2\n",
    "import friedman1Dataset\n",
    "import network\n",
    "import dataset\n",
    "import sanityChecks\n",
    "import torch \n",
    "import scrapbook as sb\n",
    "from statistics import mean \n",
    "import catboost as ctb \n",
    "from sklearn.model_selection import train_test_split\n",
    "from sklearn.metrics import mean_squared_error,mean_absolute_error\n",
    "import numpy as np"
   ]
  },
  {
   "cell_type": "markdown",
   "id": "2fa5b0f7",
   "metadata": {
    "id": "2fa5b0f7",
    "papermill": {
     "duration": 0.006763,
     "end_time": "2022-06-07T06:53:38.340459",
     "exception": false,
     "start_time": "2022-06-07T06:53:38.333696",
     "status": "completed"
    },
    "tags": []
   },
   "source": [
    "## Parameters "
   ]
  },
  {
   "cell_type": "code",
   "execution_count": 3,
   "id": "783186fb",
   "metadata": {
    "execution": {
     "iopub.execute_input": "2022-06-07T06:53:38.356179Z",
     "iopub.status.busy": "2022-06-07T06:53:38.355810Z",
     "iopub.status.idle": "2022-06-07T06:53:38.357180Z",
     "shell.execute_reply": "2022-06-07T06:53:38.357421Z"
    },
    "id": "783186fb",
    "papermill": {
     "duration": 0.010297,
     "end_time": "2022-06-07T06:53:38.357529",
     "exception": false,
     "start_time": "2022-06-07T06:53:38.347232",
     "status": "completed"
    },
    "tags": [
     "parameters"
    ]
   },
   "outputs": [],
   "source": [
    "variance = 1\n",
    "bias = 1 "
   ]
  },
  {
   "cell_type": "code",
   "execution_count": 4,
   "id": "fb72865e",
   "metadata": {
    "execution": {
     "iopub.execute_input": "2022-06-07T06:53:38.373094Z",
     "iopub.status.busy": "2022-06-07T06:53:38.372724Z",
     "iopub.status.idle": "2022-06-07T06:53:38.374047Z",
     "shell.execute_reply": "2022-06-07T06:53:38.374337Z"
    },
    "papermill": {
     "duration": 0.010067,
     "end_time": "2022-06-07T06:53:38.374456",
     "exception": false,
     "start_time": "2022-06-07T06:53:38.364389",
     "status": "completed"
    },
    "tags": [
     "injected-parameters"
    ]
   },
   "outputs": [],
   "source": [
    "# Parameters\n",
    "variance = 1\n",
    "bias = 0.01\n"
   ]
  },
  {
   "cell_type": "markdown",
   "id": "391cdbfd",
   "metadata": {
    "id": "391cdbfd",
    "papermill": {
     "duration": 0.006721,
     "end_time": "2022-06-07T06:53:38.387997",
     "exception": false,
     "start_time": "2022-06-07T06:53:38.381276",
     "status": "completed"
    },
    "tags": []
   },
   "source": [
    "## Dataset \n"
   ]
  },
  {
   "cell_type": "code",
   "execution_count": 5,
   "id": "5b51f161",
   "metadata": {
    "execution": {
     "iopub.execute_input": "2022-06-07T06:53:38.403497Z",
     "iopub.status.busy": "2022-06-07T06:53:38.403132Z",
     "iopub.status.idle": "2022-06-07T06:53:38.404476Z",
     "shell.execute_reply": "2022-06-07T06:53:38.404708Z"
    },
    "id": "5b51f161",
    "papermill": {
     "duration": 0.009971,
     "end_time": "2022-06-07T06:53:38.404809",
     "exception": false,
     "start_time": "2022-06-07T06:53:38.394838",
     "status": "completed"
    },
    "tags": []
   },
   "outputs": [],
   "source": [
    "#Parameters \n",
    "n_features = 5\n",
    "n_samples= 100\n",
    "n_target = 1 "
   ]
  },
  {
   "cell_type": "code",
   "execution_count": 6,
   "id": "5d6eced4",
   "metadata": {
    "execution": {
     "iopub.execute_input": "2022-06-07T06:53:38.421800Z",
     "iopub.status.busy": "2022-06-07T06:53:38.421431Z",
     "iopub.status.idle": "2022-06-07T06:53:38.426464Z",
     "shell.execute_reply": "2022-06-07T06:53:38.426764Z"
    },
    "id": "5d6eced4",
    "papermill": {
     "duration": 0.01516,
     "end_time": "2022-06-07T06:53:38.426875",
     "exception": false,
     "start_time": "2022-06-07T06:53:38.411715",
     "status": "completed"
    },
    "tags": []
   },
   "outputs": [
    {
     "name": "stdout",
     "output_type": "stream",
     "text": [
      "         X0        X1        X2        X3        X4         Y\n",
      "0  1.131329  1.172135  1.155710 -0.777716  0.553262  0.575491\n",
      "1  0.428244  1.833275  0.432252  0.169399  0.462256  0.786099\n",
      "2 -1.526648 -1.186517 -1.579507  0.068488 -0.626468 -0.593965\n",
      "3 -1.008219 -0.816743  0.273100 -0.298225  1.410386 -0.866618\n",
      "4 -1.190211  1.776664 -0.853460 -0.609706  1.163076 -0.284941\n"
     ]
    }
   ],
   "source": [
    "X,Y = friedman1Dataset.friedman1_data(n_samples,n_features)"
   ]
  },
  {
   "cell_type": "code",
   "execution_count": 7,
   "id": "fe007438",
   "metadata": {
    "execution": {
     "iopub.execute_input": "2022-06-07T06:53:38.443769Z",
     "iopub.status.busy": "2022-06-07T06:53:38.443405Z",
     "iopub.status.idle": "2022-06-07T06:53:38.444956Z",
     "shell.execute_reply": "2022-06-07T06:53:38.445209Z"
    },
    "id": "fe007438",
    "papermill": {
     "duration": 0.0111,
     "end_time": "2022-06-07T06:53:38.445318",
     "exception": false,
     "start_time": "2022-06-07T06:53:38.434218",
     "status": "completed"
    },
    "tags": []
   },
   "outputs": [],
   "source": [
    "#Train test split for dataset \n",
    "X_train,X_test,Y_train,Y_test = train_test_split(X,Y,test_size = 0.2)\n",
    "train_data = dataset.CustomDataset(X_train,Y_train)\n",
    "test_data = dataset.CustomDataset(X_test,Y_test)\n"
   ]
  },
  {
   "cell_type": "markdown",
   "id": "a9a1af34",
   "metadata": {
    "id": "a9a1af34",
    "papermill": {
     "duration": 0.007029,
     "end_time": "2022-06-07T06:53:38.459492",
     "exception": false,
     "start_time": "2022-06-07T06:53:38.452463",
     "status": "completed"
    },
    "tags": []
   },
   "source": [
    "## Training Parameters "
   ]
  },
  {
   "cell_type": "code",
   "execution_count": 8,
   "id": "952b7fc8",
   "metadata": {
    "execution": {
     "iopub.execute_input": "2022-06-07T06:53:38.475658Z",
     "iopub.status.busy": "2022-06-07T06:53:38.475307Z",
     "iopub.status.idle": "2022-06-07T06:53:38.476676Z",
     "shell.execute_reply": "2022-06-07T06:53:38.476910Z"
    },
    "id": "952b7fc8",
    "papermill": {
     "duration": 0.010547,
     "end_time": "2022-06-07T06:53:38.477017",
     "exception": false,
     "start_time": "2022-06-07T06:53:38.466470",
     "status": "completed"
    },
    "tags": []
   },
   "outputs": [],
   "source": [
    "batch_size = 32\n",
    "n_epochs = 1000\n",
    "#Select the device \n",
    "device = torch.device('cuda' if torch.cuda.is_available() else 'cpu')"
   ]
  },
  {
   "cell_type": "markdown",
   "id": "a95e1600",
   "metadata": {
    "id": "a95e1600",
    "papermill": {
     "duration": 0.007046,
     "end_time": "2022-06-07T06:53:38.491161",
     "exception": false,
     "start_time": "2022-06-07T06:53:38.484115",
     "status": "completed"
    },
    "tags": []
   },
   "source": [
    "# ABC Pre-generator Model \n",
    "\n",
    "1. The catboost model is used as a pre-generator model for the ABC-GAN. \n",
    "2. The model is first trained on the entire dataset \n",
    "3. It generats X,Y pairs and we add some Gaussian noise with mean 0 and variance 1 to it which is then feed as input to the generator.\n"
   ]
  },
  {
   "cell_type": "code",
   "execution_count": 9,
   "id": "ff8ce7bd",
   "metadata": {
    "execution": {
     "iopub.execute_input": "2022-06-07T06:53:38.508983Z",
     "iopub.status.busy": "2022-06-07T06:53:38.508600Z",
     "iopub.status.idle": "2022-06-07T06:53:39.126642Z",
     "shell.execute_reply": "2022-06-07T06:53:39.126887Z"
    },
    "id": "ff8ce7bd",
    "papermill": {
     "duration": 0.628654,
     "end_time": "2022-06-07T06:53:39.127009",
     "exception": false,
     "start_time": "2022-06-07T06:53:38.498355",
     "status": "completed"
    },
    "tags": []
   },
   "outputs": [
    {
     "name": "stdout",
     "output_type": "stream",
     "text": [
      "Learning rate set to 0.024897\n",
      "0:\tlearn: 1.0203022\ttotal: 68.1ms\tremaining: 1m 8s\n",
      "1:\tlearn: 1.0095834\ttotal: 68.7ms\tremaining: 34.3s\n",
      "2:\tlearn: 0.9988002\ttotal: 69.5ms\tremaining: 23.1s\n",
      "3:\tlearn: 0.9874874\ttotal: 70.1ms\tremaining: 17.4s\n",
      "4:\tlearn: 0.9784948\ttotal: 70.6ms\tremaining: 14.1s\n",
      "5:\tlearn: 0.9696525\ttotal: 71.1ms\tremaining: 11.8s\n",
      "6:\tlearn: 0.9595238\ttotal: 72.5ms\tremaining: 10.3s\n",
      "7:\tlearn: 0.9504840\ttotal: 73.1ms\tremaining: 9.06s\n",
      "8:\tlearn: 0.9410519\ttotal: 73.5ms\tremaining: 8.1s\n",
      "9:\tlearn: 0.9314794\ttotal: 74ms\tremaining: 7.32s\n",
      "10:\tlearn: 0.9247857\ttotal: 74.5ms\tremaining: 6.7s\n",
      "11:\tlearn: 0.9146084\ttotal: 75ms\tremaining: 6.17s\n",
      "12:\tlearn: 0.9056042\ttotal: 75.5ms\tremaining: 5.73s\n",
      "13:\tlearn: 0.8960662\ttotal: 76.1ms\tremaining: 5.36s\n",
      "14:\tlearn: 0.8872238\ttotal: 76.7ms\tremaining: 5.03s\n",
      "15:\tlearn: 0.8791564\ttotal: 77.2ms\tremaining: 4.75s\n",
      "16:\tlearn: 0.8713803\ttotal: 77.7ms\tremaining: 4.49s\n",
      "17:\tlearn: 0.8636106\ttotal: 78.2ms\tremaining: 4.27s\n",
      "18:\tlearn: 0.8550457\ttotal: 78.7ms\tremaining: 4.06s\n",
      "19:\tlearn: 0.8471819\ttotal: 79.1ms\tremaining: 3.88s\n",
      "20:\tlearn: 0.8385227\ttotal: 79.6ms\tremaining: 3.71s\n",
      "21:\tlearn: 0.8305222\ttotal: 80.3ms\tremaining: 3.57s\n",
      "22:\tlearn: 0.8235076\ttotal: 80.7ms\tremaining: 3.43s\n",
      "23:\tlearn: 0.8159110\ttotal: 81.2ms\tremaining: 3.3s\n",
      "24:\tlearn: 0.8083939\ttotal: 81.8ms\tremaining: 3.19s\n",
      "25:\tlearn: 0.8004368\ttotal: 82.2ms\tremaining: 3.08s\n",
      "26:\tlearn: 0.7931447\ttotal: 82.7ms\tremaining: 2.98s\n",
      "27:\tlearn: 0.7844327\ttotal: 83.2ms\tremaining: 2.89s\n",
      "28:\tlearn: 0.7771858\ttotal: 83.6ms\tremaining: 2.8s\n",
      "29:\tlearn: 0.7693357\ttotal: 84ms\tremaining: 2.72s\n",
      "30:\tlearn: 0.7616310\ttotal: 84.4ms\tremaining: 2.64s\n",
      "31:\tlearn: 0.7536576\ttotal: 84.9ms\tremaining: 2.57s\n",
      "32:\tlearn: 0.7472412\ttotal: 85.3ms\tremaining: 2.5s\n",
      "33:\tlearn: 0.7392343\ttotal: 85.8ms\tremaining: 2.44s\n",
      "34:\tlearn: 0.7324577\ttotal: 86.2ms\tremaining: 2.38s\n",
      "35:\tlearn: 0.7260990\ttotal: 86.6ms\tremaining: 2.32s\n",
      "36:\tlearn: 0.7197716\ttotal: 87ms\tremaining: 2.27s\n",
      "37:\tlearn: 0.7125705\ttotal: 87.6ms\tremaining: 2.22s\n",
      "38:\tlearn: 0.7076751\ttotal: 88ms\tremaining: 2.17s\n",
      "39:\tlearn: 0.7017226\ttotal: 88.4ms\tremaining: 2.12s\n",
      "40:\tlearn: 0.6956001\ttotal: 88.8ms\tremaining: 2.08s\n",
      "41:\tlearn: 0.6894297\ttotal: 89.2ms\tremaining: 2.03s\n",
      "42:\tlearn: 0.6841372\ttotal: 89.6ms\tremaining: 1.99s\n",
      "43:\tlearn: 0.6780647\ttotal: 90ms\tremaining: 1.96s\n",
      "44:\tlearn: 0.6719616\ttotal: 90.4ms\tremaining: 1.92s\n",
      "45:\tlearn: 0.6658948\ttotal: 90.8ms\tremaining: 1.88s\n",
      "46:\tlearn: 0.6607184\ttotal: 91.2ms\tremaining: 1.85s\n",
      "47:\tlearn: 0.6544956\ttotal: 91.7ms\tremaining: 1.82s\n",
      "48:\tlearn: 0.6491778\ttotal: 92.2ms\tremaining: 1.79s\n",
      "49:\tlearn: 0.6431618\ttotal: 92.6ms\tremaining: 1.76s\n",
      "50:\tlearn: 0.6370030\ttotal: 93.1ms\tremaining: 1.73s\n",
      "51:\tlearn: 0.6316922\ttotal: 93.6ms\tremaining: 1.71s\n",
      "52:\tlearn: 0.6256516\ttotal: 94.4ms\tremaining: 1.69s\n",
      "53:\tlearn: 0.6196270\ttotal: 94.7ms\tremaining: 1.66s\n",
      "54:\tlearn: 0.6144344\ttotal: 95.2ms\tremaining: 1.64s\n",
      "55:\tlearn: 0.6094856\ttotal: 95.7ms\tremaining: 1.61s\n",
      "56:\tlearn: 0.6043535\ttotal: 96ms\tremaining: 1.59s\n",
      "57:\tlearn: 0.5993310\ttotal: 96.5ms\tremaining: 1.57s\n",
      "58:\tlearn: 0.5937647\ttotal: 97ms\tremaining: 1.55s\n",
      "59:\tlearn: 0.5880154\ttotal: 97.5ms\tremaining: 1.53s\n",
      "60:\tlearn: 0.5831328\ttotal: 97.9ms\tremaining: 1.51s\n",
      "61:\tlearn: 0.5786777\ttotal: 98.2ms\tremaining: 1.49s\n",
      "62:\tlearn: 0.5739222\ttotal: 98.7ms\tremaining: 1.47s\n",
      "63:\tlearn: 0.5689832\ttotal: 99.1ms\tremaining: 1.45s\n",
      "64:\tlearn: 0.5643573\ttotal: 99.6ms\tremaining: 1.43s\n",
      "65:\tlearn: 0.5584281\ttotal: 100ms\tremaining: 1.41s\n",
      "66:\tlearn: 0.5530015\ttotal: 100ms\tremaining: 1.4s\n",
      "67:\tlearn: 0.5479578\ttotal: 101ms\tremaining: 1.38s\n",
      "68:\tlearn: 0.5432829\ttotal: 101ms\tremaining: 1.36s\n",
      "69:\tlearn: 0.5375878\ttotal: 101ms\tremaining: 1.35s\n",
      "70:\tlearn: 0.5329817\ttotal: 102ms\tremaining: 1.33s\n",
      "71:\tlearn: 0.5283107\ttotal: 102ms\tremaining: 1.32s\n",
      "72:\tlearn: 0.5238886\ttotal: 103ms\tremaining: 1.31s\n",
      "73:\tlearn: 0.5197665\ttotal: 103ms\tremaining: 1.29s\n",
      "74:\tlearn: 0.5156332\ttotal: 104ms\tremaining: 1.28s\n",
      "75:\tlearn: 0.5110029\ttotal: 104ms\tremaining: 1.27s\n",
      "76:\tlearn: 0.5076683\ttotal: 105ms\tremaining: 1.25s\n",
      "77:\tlearn: 0.5030146\ttotal: 105ms\tremaining: 1.24s\n",
      "78:\tlearn: 0.4998570\ttotal: 106ms\tremaining: 1.23s\n",
      "79:\tlearn: 0.4963732\ttotal: 106ms\tremaining: 1.22s\n",
      "80:\tlearn: 0.4921133\ttotal: 107ms\tremaining: 1.21s\n",
      "81:\tlearn: 0.4889642\ttotal: 107ms\tremaining: 1.2s\n",
      "82:\tlearn: 0.4852821\ttotal: 108ms\tremaining: 1.19s\n",
      "83:\tlearn: 0.4812181\ttotal: 108ms\tremaining: 1.18s\n",
      "84:\tlearn: 0.4769667\ttotal: 109ms\tremaining: 1.17s\n"
     ]
    },
    {
     "name": "stdout",
     "output_type": "stream",
     "text": [
      "85:\tlearn: 0.4739656\ttotal: 109ms\tremaining: 1.16s\n",
      "86:\tlearn: 0.4700371\ttotal: 110ms\tremaining: 1.15s\n",
      "87:\tlearn: 0.4670211\ttotal: 110ms\tremaining: 1.14s\n",
      "88:\tlearn: 0.4633286\ttotal: 111ms\tremaining: 1.14s\n",
      "89:\tlearn: 0.4595577\ttotal: 111ms\tremaining: 1.13s\n",
      "90:\tlearn: 0.4552184\ttotal: 112ms\tremaining: 1.12s\n",
      "91:\tlearn: 0.4509429\ttotal: 113ms\tremaining: 1.11s\n",
      "92:\tlearn: 0.4479439\ttotal: 113ms\tremaining: 1.1s\n",
      "93:\tlearn: 0.4442841\ttotal: 113ms\tremaining: 1.09s\n",
      "94:\tlearn: 0.4412925\ttotal: 114ms\tremaining: 1.09s\n",
      "95:\tlearn: 0.4376588\ttotal: 115ms\tremaining: 1.08s\n",
      "96:\tlearn: 0.4342284\ttotal: 115ms\tremaining: 1.07s\n",
      "97:\tlearn: 0.4311761\ttotal: 116ms\tremaining: 1.06s\n",
      "98:\tlearn: 0.4277187\ttotal: 116ms\tremaining: 1.05s\n",
      "99:\tlearn: 0.4244895\ttotal: 117ms\tremaining: 1.05s\n",
      "100:\tlearn: 0.4209903\ttotal: 117ms\tremaining: 1.04s\n",
      "101:\tlearn: 0.4179375\ttotal: 117ms\tremaining: 1.03s\n",
      "102:\tlearn: 0.4148370\ttotal: 118ms\tremaining: 1.03s\n",
      "103:\tlearn: 0.4116704\ttotal: 118ms\tremaining: 1.02s\n",
      "104:\tlearn: 0.4083980\ttotal: 119ms\tremaining: 1.01s\n",
      "105:\tlearn: 0.4046867\ttotal: 119ms\tremaining: 1.01s\n",
      "106:\tlearn: 0.4016772\ttotal: 120ms\tremaining: 1s\n",
      "107:\tlearn: 0.3990787\ttotal: 120ms\tremaining: 994ms\n",
      "108:\tlearn: 0.3964748\ttotal: 121ms\tremaining: 988ms\n",
      "109:\tlearn: 0.3935919\ttotal: 121ms\tremaining: 982ms\n",
      "110:\tlearn: 0.3906884\ttotal: 122ms\tremaining: 975ms\n",
      "111:\tlearn: 0.3871110\ttotal: 122ms\tremaining: 969ms\n",
      "112:\tlearn: 0.3833964\ttotal: 123ms\tremaining: 962ms\n",
      "113:\tlearn: 0.3808072\ttotal: 123ms\tremaining: 956ms\n",
      "114:\tlearn: 0.3776149\ttotal: 123ms\tremaining: 950ms\n",
      "115:\tlearn: 0.3751360\ttotal: 124ms\tremaining: 945ms\n",
      "116:\tlearn: 0.3721141\ttotal: 125ms\tremaining: 940ms\n",
      "117:\tlearn: 0.3689797\ttotal: 125ms\tremaining: 936ms\n",
      "118:\tlearn: 0.3665961\ttotal: 126ms\tremaining: 931ms\n",
      "119:\tlearn: 0.3639211\ttotal: 126ms\tremaining: 925ms\n",
      "120:\tlearn: 0.3611692\ttotal: 127ms\tremaining: 920ms\n",
      "121:\tlearn: 0.3582246\ttotal: 127ms\tremaining: 914ms\n",
      "122:\tlearn: 0.3560680\ttotal: 127ms\tremaining: 909ms\n",
      "123:\tlearn: 0.3532560\ttotal: 128ms\tremaining: 904ms\n",
      "124:\tlearn: 0.3506189\ttotal: 128ms\tremaining: 899ms\n",
      "125:\tlearn: 0.3478392\ttotal: 129ms\tremaining: 895ms\n",
      "126:\tlearn: 0.3449745\ttotal: 129ms\tremaining: 890ms\n",
      "127:\tlearn: 0.3420131\ttotal: 130ms\tremaining: 885ms\n",
      "128:\tlearn: 0.3390582\ttotal: 131ms\tremaining: 881ms\n",
      "129:\tlearn: 0.3367325\ttotal: 131ms\tremaining: 877ms\n",
      "130:\tlearn: 0.3339353\ttotal: 132ms\tremaining: 873ms\n",
      "131:\tlearn: 0.3315750\ttotal: 132ms\tremaining: 869ms\n",
      "132:\tlearn: 0.3293713\ttotal: 133ms\tremaining: 865ms\n",
      "133:\tlearn: 0.3267962\ttotal: 133ms\tremaining: 861ms\n",
      "134:\tlearn: 0.3239088\ttotal: 134ms\tremaining: 858ms\n",
      "135:\tlearn: 0.3218911\ttotal: 134ms\tremaining: 853ms\n",
      "136:\tlearn: 0.3196908\ttotal: 135ms\tremaining: 849ms\n",
      "137:\tlearn: 0.3171352\ttotal: 135ms\tremaining: 846ms\n",
      "138:\tlearn: 0.3149175\ttotal: 136ms\tremaining: 842ms\n",
      "139:\tlearn: 0.3127641\ttotal: 136ms\tremaining: 838ms\n",
      "140:\tlearn: 0.3103708\ttotal: 137ms\tremaining: 835ms\n",
      "141:\tlearn: 0.3085747\ttotal: 138ms\tremaining: 831ms\n",
      "142:\tlearn: 0.3062890\ttotal: 138ms\tremaining: 828ms\n",
      "143:\tlearn: 0.3039645\ttotal: 138ms\tremaining: 823ms\n",
      "144:\tlearn: 0.3019183\ttotal: 139ms\tremaining: 820ms\n",
      "145:\tlearn: 0.2994060\ttotal: 140ms\tremaining: 817ms\n",
      "146:\tlearn: 0.2975536\ttotal: 140ms\tremaining: 813ms\n",
      "147:\tlearn: 0.2957113\ttotal: 141ms\tremaining: 809ms\n",
      "148:\tlearn: 0.2934561\ttotal: 142ms\tremaining: 810ms\n",
      "149:\tlearn: 0.2914292\ttotal: 142ms\tremaining: 806ms\n",
      "150:\tlearn: 0.2894909\ttotal: 143ms\tremaining: 802ms\n",
      "151:\tlearn: 0.2872985\ttotal: 143ms\tremaining: 798ms\n",
      "152:\tlearn: 0.2850746\ttotal: 144ms\tremaining: 796ms\n",
      "153:\tlearn: 0.2829306\ttotal: 144ms\tremaining: 792ms\n",
      "154:\tlearn: 0.2805296\ttotal: 145ms\tremaining: 789ms\n",
      "155:\tlearn: 0.2787295\ttotal: 145ms\tremaining: 785ms\n",
      "156:\tlearn: 0.2767099\ttotal: 146ms\tremaining: 782ms\n",
      "157:\tlearn: 0.2745130\ttotal: 146ms\tremaining: 779ms\n",
      "158:\tlearn: 0.2721978\ttotal: 147ms\tremaining: 777ms\n",
      "159:\tlearn: 0.2701649\ttotal: 147ms\tremaining: 774ms\n",
      "160:\tlearn: 0.2683658\ttotal: 148ms\tremaining: 770ms\n",
      "161:\tlearn: 0.2663546\ttotal: 148ms\tremaining: 767ms\n",
      "162:\tlearn: 0.2642759\ttotal: 149ms\tremaining: 765ms\n",
      "163:\tlearn: 0.2622965\ttotal: 149ms\tremaining: 762ms\n",
      "164:\tlearn: 0.2605950\ttotal: 150ms\tremaining: 759ms\n",
      "165:\tlearn: 0.2586983\ttotal: 151ms\tremaining: 756ms\n",
      "166:\tlearn: 0.2567679\ttotal: 151ms\tremaining: 754ms\n",
      "167:\tlearn: 0.2548544\ttotal: 152ms\tremaining: 751ms\n",
      "168:\tlearn: 0.2531416\ttotal: 152ms\tremaining: 747ms\n",
      "169:\tlearn: 0.2511352\ttotal: 152ms\tremaining: 744ms\n",
      "170:\tlearn: 0.2492716\ttotal: 153ms\tremaining: 742ms\n",
      "171:\tlearn: 0.2476392\ttotal: 153ms\tremaining: 739ms\n",
      "172:\tlearn: 0.2455490\ttotal: 154ms\tremaining: 737ms\n",
      "173:\tlearn: 0.2437269\ttotal: 155ms\tremaining: 734ms\n",
      "174:\tlearn: 0.2421310\ttotal: 155ms\tremaining: 731ms\n",
      "175:\tlearn: 0.2405064\ttotal: 156ms\tremaining: 728ms\n",
      "176:\tlearn: 0.2386934\ttotal: 156ms\tremaining: 725ms\n",
      "177:\tlearn: 0.2370786\ttotal: 156ms\tremaining: 722ms\n",
      "178:\tlearn: 0.2351868\ttotal: 157ms\tremaining: 719ms\n",
      "179:\tlearn: 0.2332854\ttotal: 157ms\tremaining: 716ms\n",
      "180:\tlearn: 0.2317208\ttotal: 157ms\tremaining: 713ms\n",
      "181:\tlearn: 0.2300164\ttotal: 158ms\tremaining: 710ms\n",
      "182:\tlearn: 0.2282773\ttotal: 158ms\tremaining: 707ms\n",
      "183:\tlearn: 0.2264688\ttotal: 159ms\tremaining: 704ms\n",
      "184:\tlearn: 0.2248147\ttotal: 159ms\tremaining: 701ms\n",
      "185:\tlearn: 0.2234556\ttotal: 160ms\tremaining: 698ms\n",
      "186:\tlearn: 0.2216735\ttotal: 160ms\tremaining: 696ms\n",
      "187:\tlearn: 0.2199844\ttotal: 160ms\tremaining: 693ms\n",
      "188:\tlearn: 0.2184113\ttotal: 161ms\tremaining: 691ms\n",
      "189:\tlearn: 0.2166339\ttotal: 161ms\tremaining: 688ms\n",
      "190:\tlearn: 0.2151235\ttotal: 162ms\tremaining: 686ms\n",
      "191:\tlearn: 0.2136475\ttotal: 162ms\tremaining: 683ms\n",
      "192:\tlearn: 0.2121074\ttotal: 163ms\tremaining: 680ms\n",
      "193:\tlearn: 0.2107197\ttotal: 163ms\tremaining: 678ms\n",
      "194:\tlearn: 0.2093683\ttotal: 164ms\tremaining: 675ms\n",
      "195:\tlearn: 0.2074658\ttotal: 164ms\tremaining: 674ms\n",
      "196:\tlearn: 0.2058334\ttotal: 165ms\tremaining: 671ms\n",
      "197:\tlearn: 0.2046466\ttotal: 165ms\tremaining: 669ms\n",
      "198:\tlearn: 0.2032637\ttotal: 166ms\tremaining: 667ms\n",
      "199:\tlearn: 0.2018056\ttotal: 166ms\tremaining: 665ms\n",
      "200:\tlearn: 0.2005964\ttotal: 167ms\tremaining: 663ms\n",
      "201:\tlearn: 0.1990080\ttotal: 167ms\tremaining: 661ms\n",
      "202:\tlearn: 0.1977687\ttotal: 168ms\tremaining: 659ms\n",
      "203:\tlearn: 0.1964495\ttotal: 168ms\tremaining: 657ms\n",
      "204:\tlearn: 0.1951488\ttotal: 169ms\tremaining: 655ms\n",
      "205:\tlearn: 0.1940264\ttotal: 169ms\tremaining: 652ms\n",
      "206:\tlearn: 0.1928021\ttotal: 170ms\tremaining: 650ms\n",
      "207:\tlearn: 0.1914065\ttotal: 170ms\tremaining: 648ms\n",
      "208:\tlearn: 0.1900005\ttotal: 171ms\tremaining: 646ms\n",
      "209:\tlearn: 0.1887103\ttotal: 171ms\tremaining: 643ms\n",
      "210:\tlearn: 0.1874654\ttotal: 171ms\tremaining: 641ms\n",
      "211:\tlearn: 0.1858960\ttotal: 173ms\tremaining: 642ms\n",
      "212:\tlearn: 0.1846443\ttotal: 173ms\tremaining: 639ms\n",
      "213:\tlearn: 0.1835586\ttotal: 174ms\tremaining: 638ms\n",
      "214:\tlearn: 0.1822460\ttotal: 174ms\tremaining: 636ms\n",
      "215:\tlearn: 0.1811292\ttotal: 175ms\tremaining: 633ms\n",
      "216:\tlearn: 0.1800335\ttotal: 175ms\tremaining: 631ms\n",
      "217:\tlearn: 0.1786384\ttotal: 175ms\tremaining: 629ms\n",
      "218:\tlearn: 0.1773055\ttotal: 176ms\tremaining: 627ms\n",
      "219:\tlearn: 0.1760349\ttotal: 176ms\tremaining: 625ms\n",
      "220:\tlearn: 0.1748994\ttotal: 177ms\tremaining: 623ms\n",
      "221:\tlearn: 0.1738377\ttotal: 177ms\tremaining: 621ms\n",
      "222:\tlearn: 0.1724564\ttotal: 178ms\tremaining: 620ms\n",
      "223:\tlearn: 0.1713110\ttotal: 178ms\tremaining: 618ms\n",
      "224:\tlearn: 0.1704201\ttotal: 179ms\tremaining: 617ms\n",
      "225:\tlearn: 0.1693050\ttotal: 180ms\tremaining: 615ms\n",
      "226:\tlearn: 0.1683318\ttotal: 180ms\tremaining: 614ms\n",
      "227:\tlearn: 0.1672611\ttotal: 181ms\tremaining: 612ms\n",
      "228:\tlearn: 0.1659765\ttotal: 181ms\tremaining: 611ms\n",
      "229:\tlearn: 0.1647454\ttotal: 182ms\tremaining: 609ms\n",
      "230:\tlearn: 0.1637587\ttotal: 182ms\tremaining: 607ms\n",
      "231:\tlearn: 0.1625997\ttotal: 183ms\tremaining: 606ms\n",
      "232:\tlearn: 0.1616803\ttotal: 184ms\tremaining: 604ms\n",
      "233:\tlearn: 0.1606603\ttotal: 184ms\tremaining: 603ms\n",
      "234:\tlearn: 0.1594994\ttotal: 185ms\tremaining: 601ms\n",
      "235:\tlearn: 0.1582076\ttotal: 185ms\tremaining: 600ms\n",
      "236:\tlearn: 0.1574269\ttotal: 186ms\tremaining: 598ms\n",
      "237:\tlearn: 0.1566433\ttotal: 186ms\tremaining: 596ms\n",
      "238:\tlearn: 0.1556388\ttotal: 187ms\tremaining: 595ms\n",
      "239:\tlearn: 0.1548310\ttotal: 187ms\tremaining: 593ms\n"
     ]
    },
    {
     "name": "stdout",
     "output_type": "stream",
     "text": [
      "240:\tlearn: 0.1538219\ttotal: 188ms\tremaining: 592ms\n",
      "241:\tlearn: 0.1527402\ttotal: 189ms\tremaining: 591ms\n",
      "242:\tlearn: 0.1516287\ttotal: 189ms\tremaining: 589ms\n",
      "243:\tlearn: 0.1505813\ttotal: 190ms\tremaining: 587ms\n",
      "244:\tlearn: 0.1495826\ttotal: 190ms\tremaining: 585ms\n",
      "245:\tlearn: 0.1483974\ttotal: 190ms\tremaining: 584ms\n",
      "246:\tlearn: 0.1474339\ttotal: 191ms\tremaining: 582ms\n",
      "247:\tlearn: 0.1465618\ttotal: 191ms\tremaining: 580ms\n",
      "248:\tlearn: 0.1455863\ttotal: 192ms\tremaining: 578ms\n",
      "249:\tlearn: 0.1448438\ttotal: 192ms\tremaining: 577ms\n",
      "250:\tlearn: 0.1439695\ttotal: 193ms\tremaining: 575ms\n",
      "251:\tlearn: 0.1428251\ttotal: 193ms\tremaining: 574ms\n",
      "252:\tlearn: 0.1418699\ttotal: 194ms\tremaining: 573ms\n",
      "253:\tlearn: 0.1407978\ttotal: 194ms\tremaining: 571ms\n",
      "254:\tlearn: 0.1398942\ttotal: 195ms\tremaining: 570ms\n",
      "255:\tlearn: 0.1390538\ttotal: 195ms\tremaining: 568ms\n",
      "256:\tlearn: 0.1381720\ttotal: 196ms\tremaining: 567ms\n",
      "257:\tlearn: 0.1373221\ttotal: 197ms\tremaining: 565ms\n",
      "258:\tlearn: 0.1363527\ttotal: 197ms\tremaining: 564ms\n",
      "259:\tlearn: 0.1355344\ttotal: 197ms\tremaining: 562ms\n",
      "260:\tlearn: 0.1347133\ttotal: 198ms\tremaining: 560ms\n",
      "261:\tlearn: 0.1341942\ttotal: 198ms\tremaining: 559ms\n",
      "262:\tlearn: 0.1331114\ttotal: 199ms\tremaining: 557ms\n",
      "263:\tlearn: 0.1322137\ttotal: 199ms\tremaining: 555ms\n",
      "264:\tlearn: 0.1317081\ttotal: 200ms\tremaining: 554ms\n",
      "265:\tlearn: 0.1306905\ttotal: 200ms\tremaining: 552ms\n",
      "266:\tlearn: 0.1301723\ttotal: 201ms\tremaining: 550ms\n",
      "267:\tlearn: 0.1295211\ttotal: 201ms\tremaining: 549ms\n",
      "268:\tlearn: 0.1286142\ttotal: 201ms\tremaining: 547ms\n",
      "269:\tlearn: 0.1281120\ttotal: 202ms\tremaining: 545ms\n",
      "270:\tlearn: 0.1271989\ttotal: 202ms\tremaining: 544ms\n",
      "271:\tlearn: 0.1261474\ttotal: 203ms\tremaining: 542ms\n",
      "272:\tlearn: 0.1252357\ttotal: 203ms\tremaining: 541ms\n",
      "273:\tlearn: 0.1244329\ttotal: 204ms\tremaining: 540ms\n",
      "274:\tlearn: 0.1235957\ttotal: 204ms\tremaining: 538ms\n",
      "275:\tlearn: 0.1228025\ttotal: 205ms\tremaining: 537ms\n",
      "276:\tlearn: 0.1220937\ttotal: 205ms\tremaining: 535ms\n",
      "277:\tlearn: 0.1212633\ttotal: 206ms\tremaining: 534ms\n",
      "278:\tlearn: 0.1203250\ttotal: 206ms\tremaining: 533ms\n",
      "279:\tlearn: 0.1197974\ttotal: 207ms\tremaining: 532ms\n",
      "280:\tlearn: 0.1189008\ttotal: 207ms\tremaining: 530ms\n",
      "281:\tlearn: 0.1180253\ttotal: 208ms\tremaining: 529ms\n",
      "282:\tlearn: 0.1170511\ttotal: 208ms\tremaining: 527ms\n",
      "283:\tlearn: 0.1162437\ttotal: 209ms\tremaining: 526ms\n",
      "284:\tlearn: 0.1153207\ttotal: 209ms\tremaining: 525ms\n",
      "285:\tlearn: 0.1144144\ttotal: 210ms\tremaining: 524ms\n",
      "286:\tlearn: 0.1135709\ttotal: 210ms\tremaining: 522ms\n",
      "287:\tlearn: 0.1127885\ttotal: 211ms\tremaining: 521ms\n",
      "288:\tlearn: 0.1120662\ttotal: 211ms\tremaining: 519ms\n",
      "289:\tlearn: 0.1116475\ttotal: 212ms\tremaining: 518ms\n",
      "290:\tlearn: 0.1109048\ttotal: 212ms\tremaining: 517ms\n",
      "291:\tlearn: 0.1099997\ttotal: 213ms\tremaining: 516ms\n",
      "292:\tlearn: 0.1093485\ttotal: 213ms\tremaining: 514ms\n",
      "293:\tlearn: 0.1084996\ttotal: 214ms\tremaining: 513ms\n",
      "294:\tlearn: 0.1078413\ttotal: 214ms\tremaining: 512ms\n",
      "295:\tlearn: 0.1070372\ttotal: 214ms\tremaining: 510ms\n",
      "296:\tlearn: 0.1063762\ttotal: 215ms\tremaining: 509ms\n",
      "297:\tlearn: 0.1057342\ttotal: 216ms\tremaining: 508ms\n",
      "298:\tlearn: 0.1049890\ttotal: 216ms\tremaining: 506ms\n",
      "299:\tlearn: 0.1042468\ttotal: 217ms\tremaining: 505ms\n",
      "300:\tlearn: 0.1034522\ttotal: 217ms\tremaining: 504ms\n",
      "301:\tlearn: 0.1030442\ttotal: 218ms\tremaining: 503ms\n",
      "302:\tlearn: 0.1024201\ttotal: 218ms\tremaining: 502ms\n",
      "303:\tlearn: 0.1016567\ttotal: 219ms\tremaining: 500ms\n",
      "304:\tlearn: 0.1010113\ttotal: 219ms\tremaining: 499ms\n",
      "305:\tlearn: 0.1002306\ttotal: 220ms\tremaining: 498ms\n",
      "306:\tlearn: 0.0995251\ttotal: 220ms\tremaining: 497ms\n",
      "307:\tlearn: 0.0990900\ttotal: 221ms\tremaining: 496ms\n",
      "308:\tlearn: 0.0983864\ttotal: 221ms\tremaining: 494ms\n",
      "309:\tlearn: 0.0977044\ttotal: 222ms\tremaining: 493ms\n",
      "310:\tlearn: 0.0971620\ttotal: 222ms\tremaining: 492ms\n",
      "311:\tlearn: 0.0965094\ttotal: 222ms\tremaining: 490ms\n",
      "312:\tlearn: 0.0958505\ttotal: 223ms\tremaining: 489ms\n",
      "313:\tlearn: 0.0954856\ttotal: 223ms\tremaining: 488ms\n",
      "314:\tlearn: 0.0947215\ttotal: 224ms\tremaining: 487ms\n",
      "315:\tlearn: 0.0939732\ttotal: 224ms\tremaining: 486ms\n",
      "316:\tlearn: 0.0932315\ttotal: 225ms\tremaining: 484ms\n",
      "317:\tlearn: 0.0925804\ttotal: 225ms\tremaining: 483ms\n",
      "318:\tlearn: 0.0918183\ttotal: 226ms\tremaining: 482ms\n",
      "319:\tlearn: 0.0912223\ttotal: 226ms\tremaining: 481ms\n",
      "320:\tlearn: 0.0908950\ttotal: 227ms\tremaining: 480ms\n",
      "321:\tlearn: 0.0902516\ttotal: 227ms\tremaining: 479ms\n",
      "322:\tlearn: 0.0896868\ttotal: 228ms\tremaining: 478ms\n",
      "323:\tlearn: 0.0891032\ttotal: 228ms\tremaining: 476ms\n",
      "324:\tlearn: 0.0884392\ttotal: 229ms\tremaining: 475ms\n",
      "325:\tlearn: 0.0881111\ttotal: 229ms\tremaining: 474ms\n",
      "326:\tlearn: 0.0876380\ttotal: 230ms\tremaining: 473ms\n",
      "327:\tlearn: 0.0870511\ttotal: 230ms\tremaining: 472ms\n",
      "328:\tlearn: 0.0865802\ttotal: 231ms\tremaining: 470ms\n",
      "329:\tlearn: 0.0862655\ttotal: 231ms\tremaining: 469ms\n",
      "330:\tlearn: 0.0857275\ttotal: 232ms\tremaining: 468ms\n",
      "331:\tlearn: 0.0854219\ttotal: 232ms\tremaining: 467ms\n",
      "332:\tlearn: 0.0849965\ttotal: 232ms\tremaining: 466ms\n",
      "333:\tlearn: 0.0844677\ttotal: 233ms\tremaining: 465ms\n",
      "334:\tlearn: 0.0839694\ttotal: 233ms\tremaining: 463ms\n",
      "335:\tlearn: 0.0835156\ttotal: 234ms\tremaining: 462ms\n",
      "336:\tlearn: 0.0830255\ttotal: 234ms\tremaining: 461ms\n",
      "337:\tlearn: 0.0825317\ttotal: 235ms\tremaining: 460ms\n",
      "338:\tlearn: 0.0820624\ttotal: 235ms\tremaining: 459ms\n",
      "339:\tlearn: 0.0816583\ttotal: 236ms\tremaining: 458ms\n",
      "340:\tlearn: 0.0812698\ttotal: 236ms\tremaining: 456ms\n",
      "341:\tlearn: 0.0808183\ttotal: 237ms\tremaining: 455ms\n",
      "342:\tlearn: 0.0803314\ttotal: 237ms\tremaining: 454ms\n",
      "343:\tlearn: 0.0798804\ttotal: 238ms\tremaining: 453ms\n",
      "344:\tlearn: 0.0794992\ttotal: 238ms\tremaining: 452ms\n",
      "345:\tlearn: 0.0792930\ttotal: 239ms\tremaining: 451ms\n",
      "346:\tlearn: 0.0790250\ttotal: 239ms\tremaining: 450ms\n",
      "347:\tlearn: 0.0786758\ttotal: 239ms\tremaining: 449ms\n",
      "348:\tlearn: 0.0784039\ttotal: 240ms\tremaining: 448ms\n",
      "349:\tlearn: 0.0781370\ttotal: 240ms\tremaining: 446ms\n",
      "350:\tlearn: 0.0778749\ttotal: 241ms\tremaining: 445ms\n",
      "351:\tlearn: 0.0774252\ttotal: 241ms\tremaining: 444ms\n",
      "352:\tlearn: 0.0772351\ttotal: 242ms\tremaining: 443ms\n",
      "353:\tlearn: 0.0769856\ttotal: 242ms\tremaining: 442ms\n",
      "354:\tlearn: 0.0767408\ttotal: 243ms\tremaining: 441ms\n",
      "355:\tlearn: 0.0762993\ttotal: 243ms\tremaining: 440ms\n",
      "356:\tlearn: 0.0759752\ttotal: 244ms\tremaining: 439ms\n",
      "357:\tlearn: 0.0754717\ttotal: 244ms\tremaining: 438ms\n",
      "358:\tlearn: 0.0752354\ttotal: 245ms\tremaining: 437ms\n",
      "359:\tlearn: 0.0747554\ttotal: 245ms\tremaining: 436ms\n",
      "360:\tlearn: 0.0745249\ttotal: 246ms\tremaining: 435ms\n",
      "361:\tlearn: 0.0740310\ttotal: 246ms\tremaining: 434ms\n",
      "362:\tlearn: 0.0735999\ttotal: 247ms\tremaining: 433ms\n",
      "363:\tlearn: 0.0732966\ttotal: 247ms\tremaining: 432ms\n",
      "364:\tlearn: 0.0728711\ttotal: 248ms\tremaining: 431ms\n",
      "365:\tlearn: 0.0726397\ttotal: 248ms\tremaining: 430ms\n",
      "366:\tlearn: 0.0722333\ttotal: 249ms\tremaining: 429ms\n",
      "367:\tlearn: 0.0716605\ttotal: 249ms\tremaining: 428ms\n",
      "368:\tlearn: 0.0714448\ttotal: 250ms\tremaining: 427ms\n",
      "369:\tlearn: 0.0708878\ttotal: 250ms\tremaining: 426ms\n",
      "370:\tlearn: 0.0706035\ttotal: 251ms\tremaining: 425ms\n",
      "371:\tlearn: 0.0701604\ttotal: 251ms\tremaining: 424ms\n",
      "372:\tlearn: 0.0699430\ttotal: 252ms\tremaining: 423ms\n",
      "373:\tlearn: 0.0696711\ttotal: 252ms\tremaining: 422ms\n",
      "374:\tlearn: 0.0692059\ttotal: 253ms\tremaining: 421ms\n",
      "375:\tlearn: 0.0689957\ttotal: 253ms\tremaining: 420ms\n",
      "376:\tlearn: 0.0684664\ttotal: 254ms\tremaining: 419ms\n",
      "377:\tlearn: 0.0682618\ttotal: 254ms\tremaining: 418ms\n",
      "378:\tlearn: 0.0678504\ttotal: 255ms\tremaining: 417ms\n",
      "379:\tlearn: 0.0676501\ttotal: 255ms\tremaining: 416ms\n",
      "380:\tlearn: 0.0673978\ttotal: 256ms\tremaining: 416ms\n",
      "381:\tlearn: 0.0669929\ttotal: 256ms\tremaining: 415ms\n",
      "382:\tlearn: 0.0668021\ttotal: 257ms\tremaining: 414ms\n",
      "383:\tlearn: 0.0666634\ttotal: 257ms\tremaining: 413ms\n",
      "384:\tlearn: 0.0660994\ttotal: 258ms\tremaining: 412ms\n",
      "385:\tlearn: 0.0655473\ttotal: 259ms\tremaining: 411ms\n",
      "386:\tlearn: 0.0650575\ttotal: 259ms\tremaining: 410ms\n",
      "387:\tlearn: 0.0649121\ttotal: 260ms\tremaining: 409ms\n",
      "388:\tlearn: 0.0645415\ttotal: 260ms\tremaining: 409ms\n",
      "389:\tlearn: 0.0640929\ttotal: 261ms\tremaining: 408ms\n",
      "390:\tlearn: 0.0639640\ttotal: 261ms\tremaining: 407ms\n",
      "391:\tlearn: 0.0636080\ttotal: 262ms\tremaining: 406ms\n",
      "392:\tlearn: 0.0632319\ttotal: 262ms\tremaining: 405ms\n",
      "393:\tlearn: 0.0630571\ttotal: 263ms\tremaining: 404ms\n",
      "394:\tlearn: 0.0625626\ttotal: 263ms\tremaining: 403ms\n",
      "395:\tlearn: 0.0624408\ttotal: 264ms\tremaining: 402ms\n",
      "396:\tlearn: 0.0621612\ttotal: 264ms\tremaining: 401ms\n",
      "397:\tlearn: 0.0619936\ttotal: 265ms\tremaining: 400ms\n",
      "398:\tlearn: 0.0615699\ttotal: 265ms\tremaining: 400ms\n",
      "399:\tlearn: 0.0611536\ttotal: 266ms\tremaining: 398ms\n",
      "400:\tlearn: 0.0607700\ttotal: 266ms\tremaining: 397ms\n",
      "401:\tlearn: 0.0603261\ttotal: 267ms\tremaining: 397ms\n",
      "402:\tlearn: 0.0600606\ttotal: 267ms\tremaining: 396ms\n",
      "403:\tlearn: 0.0596586\ttotal: 268ms\tremaining: 395ms\n",
      "404:\tlearn: 0.0592312\ttotal: 268ms\tremaining: 394ms\n",
      "405:\tlearn: 0.0589738\ttotal: 269ms\tremaining: 393ms\n",
      "406:\tlearn: 0.0585586\ttotal: 269ms\tremaining: 392ms\n",
      "407:\tlearn: 0.0582010\ttotal: 269ms\tremaining: 391ms\n",
      "408:\tlearn: 0.0579487\ttotal: 270ms\tremaining: 390ms\n",
      "409:\tlearn: 0.0575473\ttotal: 270ms\tremaining: 389ms\n",
      "410:\tlearn: 0.0572941\ttotal: 271ms\tremaining: 388ms\n",
      "411:\tlearn: 0.0570689\ttotal: 271ms\tremaining: 387ms\n",
      "412:\tlearn: 0.0567172\ttotal: 271ms\tremaining: 386ms\n",
      "413:\tlearn: 0.0564106\ttotal: 272ms\tremaining: 385ms\n",
      "414:\tlearn: 0.0561714\ttotal: 272ms\tremaining: 384ms\n",
      "415:\tlearn: 0.0560402\ttotal: 273ms\tremaining: 383ms\n",
      "416:\tlearn: 0.0558265\ttotal: 273ms\tremaining: 382ms\n",
      "417:\tlearn: 0.0553891\ttotal: 274ms\tremaining: 381ms\n",
      "418:\tlearn: 0.0550476\ttotal: 274ms\tremaining: 380ms\n",
      "419:\tlearn: 0.0548171\ttotal: 275ms\tremaining: 379ms\n",
      "420:\tlearn: 0.0544545\ttotal: 275ms\tremaining: 378ms\n",
      "421:\tlearn: 0.0540313\ttotal: 275ms\tremaining: 377ms\n",
      "422:\tlearn: 0.0536143\ttotal: 276ms\tremaining: 377ms\n",
      "423:\tlearn: 0.0532580\ttotal: 276ms\tremaining: 376ms\n",
      "424:\tlearn: 0.0529707\ttotal: 277ms\tremaining: 374ms\n",
      "425:\tlearn: 0.0526515\ttotal: 277ms\tremaining: 374ms\n",
      "426:\tlearn: 0.0522982\ttotal: 278ms\tremaining: 373ms\n",
      "427:\tlearn: 0.0520205\ttotal: 278ms\tremaining: 372ms\n",
      "428:\tlearn: 0.0518415\ttotal: 279ms\tremaining: 371ms\n",
      "429:\tlearn: 0.0515015\ttotal: 279ms\tremaining: 370ms\n",
      "430:\tlearn: 0.0511596\ttotal: 280ms\tremaining: 369ms\n",
      "431:\tlearn: 0.0508314\ttotal: 280ms\tremaining: 368ms\n",
      "432:\tlearn: 0.0505047\ttotal: 281ms\tremaining: 367ms\n",
      "433:\tlearn: 0.0501812\ttotal: 281ms\tremaining: 366ms\n",
      "434:\tlearn: 0.0498904\ttotal: 281ms\tremaining: 365ms\n",
      "435:\tlearn: 0.0495552\ttotal: 282ms\tremaining: 364ms\n",
      "436:\tlearn: 0.0492418\ttotal: 282ms\tremaining: 363ms\n",
      "437:\tlearn: 0.0489492\ttotal: 283ms\tremaining: 363ms\n",
      "438:\tlearn: 0.0486854\ttotal: 283ms\tremaining: 362ms\n",
      "439:\tlearn: 0.0484114\ttotal: 284ms\tremaining: 361ms\n",
      "440:\tlearn: 0.0481399\ttotal: 284ms\tremaining: 360ms\n",
      "441:\tlearn: 0.0478335\ttotal: 285ms\tremaining: 359ms\n",
      "442:\tlearn: 0.0475647\ttotal: 285ms\tremaining: 358ms\n",
      "443:\tlearn: 0.0473020\ttotal: 286ms\tremaining: 359ms\n",
      "444:\tlearn: 0.0470413\ttotal: 287ms\tremaining: 358ms\n",
      "445:\tlearn: 0.0467592\ttotal: 287ms\tremaining: 357ms\n",
      "446:\tlearn: 0.0465290\ttotal: 288ms\tremaining: 356ms\n",
      "447:\tlearn: 0.0462671\ttotal: 288ms\tremaining: 355ms\n",
      "448:\tlearn: 0.0460229\ttotal: 289ms\tremaining: 354ms\n",
      "449:\tlearn: 0.0457664\ttotal: 289ms\tremaining: 353ms\n",
      "450:\tlearn: 0.0455135\ttotal: 289ms\tremaining: 352ms\n",
      "451:\tlearn: 0.0452795\ttotal: 290ms\tremaining: 352ms\n",
      "452:\tlearn: 0.0450345\ttotal: 290ms\tremaining: 351ms\n",
      "453:\tlearn: 0.0448015\ttotal: 291ms\tremaining: 350ms\n",
      "454:\tlearn: 0.0445821\ttotal: 291ms\tremaining: 349ms\n",
      "455:\tlearn: 0.0443580\ttotal: 292ms\tremaining: 348ms\n",
      "456:\tlearn: 0.0441551\ttotal: 292ms\tremaining: 347ms\n",
      "457:\tlearn: 0.0438689\ttotal: 292ms\tremaining: 346ms\n",
      "458:\tlearn: 0.0436325\ttotal: 293ms\tremaining: 345ms\n"
     ]
    },
    {
     "name": "stdout",
     "output_type": "stream",
     "text": [
      "459:\tlearn: 0.0434010\ttotal: 294ms\tremaining: 345ms\n",
      "460:\tlearn: 0.0431005\ttotal: 294ms\tremaining: 344ms\n",
      "461:\tlearn: 0.0428885\ttotal: 295ms\tremaining: 343ms\n",
      "462:\tlearn: 0.0426847\ttotal: 295ms\tremaining: 342ms\n",
      "463:\tlearn: 0.0424115\ttotal: 296ms\tremaining: 341ms\n",
      "464:\tlearn: 0.0422069\ttotal: 296ms\tremaining: 341ms\n",
      "465:\tlearn: 0.0419893\ttotal: 297ms\tremaining: 340ms\n",
      "466:\tlearn: 0.0417918\ttotal: 297ms\tremaining: 339ms\n",
      "467:\tlearn: 0.0415134\ttotal: 297ms\tremaining: 338ms\n",
      "468:\tlearn: 0.0413175\ttotal: 298ms\tremaining: 337ms\n",
      "469:\tlearn: 0.0411260\ttotal: 298ms\tremaining: 336ms\n",
      "470:\tlearn: 0.0408557\ttotal: 299ms\tremaining: 336ms\n",
      "471:\tlearn: 0.0406766\ttotal: 300ms\tremaining: 335ms\n",
      "472:\tlearn: 0.0404885\ttotal: 300ms\tremaining: 335ms\n",
      "473:\tlearn: 0.0403007\ttotal: 301ms\tremaining: 334ms\n",
      "474:\tlearn: 0.0400848\ttotal: 301ms\tremaining: 333ms\n",
      "475:\tlearn: 0.0398724\ttotal: 301ms\tremaining: 332ms\n",
      "476:\tlearn: 0.0396629\ttotal: 302ms\tremaining: 331ms\n",
      "477:\tlearn: 0.0394399\ttotal: 302ms\tremaining: 330ms\n",
      "478:\tlearn: 0.0392371\ttotal: 303ms\tremaining: 329ms\n",
      "479:\tlearn: 0.0390374\ttotal: 303ms\tremaining: 328ms\n",
      "480:\tlearn: 0.0388410\ttotal: 304ms\tremaining: 328ms\n",
      "481:\tlearn: 0.0386477\ttotal: 304ms\tremaining: 327ms\n",
      "482:\tlearn: 0.0384596\ttotal: 305ms\tremaining: 326ms\n",
      "483:\tlearn: 0.0382985\ttotal: 305ms\tremaining: 325ms\n",
      "484:\tlearn: 0.0381454\ttotal: 306ms\tremaining: 324ms\n",
      "485:\tlearn: 0.0379403\ttotal: 306ms\tremaining: 324ms\n",
      "486:\tlearn: 0.0377640\ttotal: 306ms\tremaining: 323ms\n",
      "487:\tlearn: 0.0376075\ttotal: 307ms\tremaining: 322ms\n",
      "488:\tlearn: 0.0374605\ttotal: 307ms\tremaining: 321ms\n",
      "489:\tlearn: 0.0373171\ttotal: 308ms\tremaining: 320ms\n",
      "490:\tlearn: 0.0371449\ttotal: 308ms\tremaining: 319ms\n",
      "491:\tlearn: 0.0368743\ttotal: 309ms\tremaining: 319ms\n",
      "492:\tlearn: 0.0367351\ttotal: 309ms\tremaining: 318ms\n",
      "493:\tlearn: 0.0365907\ttotal: 310ms\tremaining: 317ms\n",
      "494:\tlearn: 0.0364390\ttotal: 310ms\tremaining: 316ms\n",
      "495:\tlearn: 0.0362988\ttotal: 311ms\tremaining: 316ms\n",
      "496:\tlearn: 0.0361337\ttotal: 311ms\tremaining: 315ms\n",
      "497:\tlearn: 0.0360035\ttotal: 312ms\tremaining: 314ms\n",
      "498:\tlearn: 0.0358420\ttotal: 312ms\tremaining: 313ms\n",
      "499:\tlearn: 0.0355817\ttotal: 312ms\tremaining: 312ms\n",
      "500:\tlearn: 0.0354374\ttotal: 313ms\tremaining: 312ms\n",
      "501:\tlearn: 0.0353046\ttotal: 313ms\tremaining: 311ms\n",
      "502:\tlearn: 0.0351474\ttotal: 314ms\tremaining: 310ms\n",
      "503:\tlearn: 0.0350076\ttotal: 314ms\tremaining: 309ms\n",
      "504:\tlearn: 0.0348551\ttotal: 314ms\tremaining: 308ms\n",
      "505:\tlearn: 0.0347548\ttotal: 315ms\tremaining: 307ms\n",
      "506:\tlearn: 0.0345733\ttotal: 315ms\tremaining: 307ms\n",
      "507:\tlearn: 0.0344753\ttotal: 316ms\tremaining: 306ms\n",
      "508:\tlearn: 0.0343792\ttotal: 316ms\tremaining: 305ms\n",
      "509:\tlearn: 0.0342325\ttotal: 317ms\tremaining: 304ms\n",
      "510:\tlearn: 0.0340891\ttotal: 317ms\tremaining: 304ms\n",
      "511:\tlearn: 0.0338412\ttotal: 318ms\tremaining: 303ms\n",
      "512:\tlearn: 0.0337488\ttotal: 318ms\tremaining: 302ms\n",
      "513:\tlearn: 0.0335747\ttotal: 318ms\tremaining: 301ms\n",
      "514:\tlearn: 0.0334844\ttotal: 319ms\tremaining: 300ms\n",
      "515:\tlearn: 0.0333923\ttotal: 319ms\tremaining: 299ms\n",
      "516:\tlearn: 0.0331511\ttotal: 320ms\tremaining: 299ms\n",
      "517:\tlearn: 0.0330637\ttotal: 320ms\tremaining: 298ms\n",
      "518:\tlearn: 0.0329277\ttotal: 321ms\tremaining: 297ms\n",
      "519:\tlearn: 0.0327733\ttotal: 321ms\tremaining: 297ms\n",
      "520:\tlearn: 0.0326847\ttotal: 322ms\tremaining: 296ms\n",
      "521:\tlearn: 0.0324606\ttotal: 322ms\tremaining: 295ms\n",
      "522:\tlearn: 0.0323743\ttotal: 323ms\tremaining: 294ms\n",
      "523:\tlearn: 0.0321547\ttotal: 323ms\tremaining: 293ms\n",
      "524:\tlearn: 0.0320721\ttotal: 324ms\tremaining: 293ms\n",
      "525:\tlearn: 0.0319886\ttotal: 324ms\tremaining: 292ms\n",
      "526:\tlearn: 0.0318664\ttotal: 324ms\tremaining: 291ms\n",
      "527:\tlearn: 0.0317847\ttotal: 325ms\tremaining: 290ms\n",
      "528:\tlearn: 0.0315708\ttotal: 325ms\tremaining: 290ms\n",
      "529:\tlearn: 0.0314910\ttotal: 326ms\tremaining: 289ms\n",
      "530:\tlearn: 0.0313280\ttotal: 326ms\tremaining: 288ms\n",
      "531:\tlearn: 0.0312101\ttotal: 327ms\tremaining: 287ms\n",
      "532:\tlearn: 0.0310616\ttotal: 327ms\tremaining: 287ms\n",
      "533:\tlearn: 0.0309893\ttotal: 328ms\tremaining: 286ms\n",
      "534:\tlearn: 0.0308460\ttotal: 328ms\tremaining: 285ms\n",
      "535:\tlearn: 0.0307006\ttotal: 329ms\tremaining: 285ms\n",
      "536:\tlearn: 0.0306233\ttotal: 329ms\tremaining: 284ms\n",
      "537:\tlearn: 0.0304185\ttotal: 330ms\tremaining: 283ms\n",
      "538:\tlearn: 0.0303490\ttotal: 330ms\tremaining: 282ms\n",
      "539:\tlearn: 0.0302369\ttotal: 331ms\tremaining: 282ms\n",
      "540:\tlearn: 0.0301622\ttotal: 331ms\tremaining: 281ms\n",
      "541:\tlearn: 0.0300205\ttotal: 332ms\tremaining: 280ms\n",
      "542:\tlearn: 0.0298842\ttotal: 332ms\tremaining: 280ms\n",
      "543:\tlearn: 0.0297453\ttotal: 333ms\tremaining: 279ms\n",
      "544:\tlearn: 0.0296633\ttotal: 333ms\tremaining: 278ms\n",
      "545:\tlearn: 0.0296315\ttotal: 334ms\tremaining: 277ms\n",
      "546:\tlearn: 0.0296000\ttotal: 334ms\tremaining: 277ms\n",
      "547:\tlearn: 0.0295691\ttotal: 335ms\tremaining: 276ms\n",
      "548:\tlearn: 0.0295385\ttotal: 335ms\tremaining: 275ms\n",
      "549:\tlearn: 0.0293424\ttotal: 336ms\tremaining: 275ms\n",
      "550:\tlearn: 0.0293125\ttotal: 336ms\tremaining: 274ms\n",
      "551:\tlearn: 0.0292830\ttotal: 337ms\tremaining: 273ms\n",
      "552:\tlearn: 0.0291124\ttotal: 337ms\tremaining: 273ms\n",
      "553:\tlearn: 0.0289964\ttotal: 338ms\tremaining: 272ms\n",
      "554:\tlearn: 0.0289018\ttotal: 338ms\tremaining: 271ms\n",
      "555:\tlearn: 0.0287134\ttotal: 339ms\tremaining: 271ms\n",
      "556:\tlearn: 0.0285989\ttotal: 339ms\tremaining: 270ms\n",
      "557:\tlearn: 0.0284917\ttotal: 340ms\tremaining: 269ms\n",
      "558:\tlearn: 0.0283574\ttotal: 341ms\tremaining: 269ms\n",
      "559:\tlearn: 0.0282697\ttotal: 341ms\tremaining: 268ms\n",
      "560:\tlearn: 0.0281672\ttotal: 341ms\tremaining: 267ms\n",
      "561:\tlearn: 0.0280980\ttotal: 342ms\tremaining: 267ms\n",
      "562:\tlearn: 0.0279659\ttotal: 342ms\tremaining: 266ms\n",
      "563:\tlearn: 0.0278823\ttotal: 343ms\tremaining: 265ms\n",
      "564:\tlearn: 0.0278150\ttotal: 343ms\tremaining: 264ms\n",
      "565:\tlearn: 0.0276853\ttotal: 344ms\tremaining: 264ms\n",
      "566:\tlearn: 0.0275871\ttotal: 344ms\tremaining: 263ms\n",
      "567:\tlearn: 0.0274592\ttotal: 345ms\tremaining: 262ms\n",
      "568:\tlearn: 0.0273939\ttotal: 345ms\tremaining: 262ms\n",
      "569:\tlearn: 0.0272680\ttotal: 346ms\tremaining: 261ms\n",
      "570:\tlearn: 0.0271333\ttotal: 346ms\tremaining: 260ms\n",
      "571:\tlearn: 0.0270697\ttotal: 347ms\tremaining: 260ms\n",
      "572:\tlearn: 0.0269459\ttotal: 347ms\tremaining: 259ms\n",
      "573:\tlearn: 0.0268844\ttotal: 348ms\tremaining: 258ms\n",
      "574:\tlearn: 0.0268241\ttotal: 348ms\tremaining: 257ms\n",
      "575:\tlearn: 0.0266942\ttotal: 349ms\tremaining: 257ms\n",
      "576:\tlearn: 0.0265679\ttotal: 350ms\tremaining: 256ms\n",
      "577:\tlearn: 0.0265096\ttotal: 350ms\tremaining: 256ms\n",
      "578:\tlearn: 0.0263845\ttotal: 350ms\tremaining: 255ms\n",
      "579:\tlearn: 0.0262635\ttotal: 351ms\tremaining: 254ms\n",
      "580:\tlearn: 0.0261427\ttotal: 351ms\tremaining: 253ms\n",
      "581:\tlearn: 0.0260146\ttotal: 352ms\tremaining: 253ms\n",
      "582:\tlearn: 0.0258946\ttotal: 352ms\tremaining: 252ms\n",
      "583:\tlearn: 0.0258010\ttotal: 353ms\tremaining: 251ms\n",
      "584:\tlearn: 0.0257787\ttotal: 353ms\tremaining: 251ms\n",
      "585:\tlearn: 0.0256881\ttotal: 354ms\tremaining: 250ms\n",
      "586:\tlearn: 0.0256653\ttotal: 354ms\tremaining: 249ms\n",
      "587:\tlearn: 0.0255776\ttotal: 355ms\tremaining: 249ms\n",
      "588:\tlearn: 0.0255554\ttotal: 355ms\tremaining: 248ms\n",
      "589:\tlearn: 0.0254706\ttotal: 356ms\tremaining: 247ms\n",
      "590:\tlearn: 0.0254491\ttotal: 356ms\tremaining: 246ms\n",
      "591:\tlearn: 0.0254278\ttotal: 357ms\tremaining: 246ms\n",
      "592:\tlearn: 0.0253461\ttotal: 357ms\tremaining: 245ms\n",
      "593:\tlearn: 0.0253255\ttotal: 357ms\tremaining: 244ms\n",
      "594:\tlearn: 0.0252464\ttotal: 358ms\tremaining: 244ms\n",
      "595:\tlearn: 0.0251898\ttotal: 358ms\tremaining: 243ms\n",
      "596:\tlearn: 0.0251347\ttotal: 359ms\tremaining: 242ms\n",
      "597:\tlearn: 0.0251152\ttotal: 359ms\tremaining: 241ms\n",
      "598:\tlearn: 0.0250572\ttotal: 360ms\tremaining: 241ms\n",
      "599:\tlearn: 0.0249710\ttotal: 360ms\tremaining: 240ms\n",
      "600:\tlearn: 0.0248691\ttotal: 361ms\tremaining: 239ms\n",
      "601:\tlearn: 0.0247689\ttotal: 361ms\tremaining: 239ms\n",
      "602:\tlearn: 0.0246529\ttotal: 362ms\tremaining: 238ms\n",
      "603:\tlearn: 0.0245465\ttotal: 362ms\tremaining: 237ms\n",
      "604:\tlearn: 0.0244895\ttotal: 363ms\tremaining: 237ms\n",
      "605:\tlearn: 0.0243782\ttotal: 363ms\tremaining: 236ms\n",
      "606:\tlearn: 0.0243192\ttotal: 364ms\tremaining: 235ms\n",
      "607:\tlearn: 0.0242048\ttotal: 364ms\tremaining: 235ms\n",
      "608:\tlearn: 0.0241228\ttotal: 365ms\tremaining: 234ms\n",
      "609:\tlearn: 0.0240722\ttotal: 365ms\tremaining: 234ms\n",
      "610:\tlearn: 0.0240147\ttotal: 366ms\tremaining: 233ms\n",
      "611:\tlearn: 0.0238728\ttotal: 366ms\tremaining: 232ms\n",
      "612:\tlearn: 0.0237338\ttotal: 367ms\tremaining: 231ms\n",
      "613:\tlearn: 0.0236275\ttotal: 367ms\tremaining: 231ms\n",
      "614:\tlearn: 0.0235181\ttotal: 367ms\tremaining: 230ms\n",
      "615:\tlearn: 0.0234212\ttotal: 368ms\tremaining: 229ms\n",
      "616:\tlearn: 0.0233189\ttotal: 368ms\tremaining: 229ms\n",
      "617:\tlearn: 0.0232163\ttotal: 369ms\tremaining: 228ms\n",
      "618:\tlearn: 0.0231823\ttotal: 369ms\tremaining: 227ms\n",
      "619:\tlearn: 0.0230757\ttotal: 370ms\tremaining: 227ms\n",
      "620:\tlearn: 0.0230071\ttotal: 370ms\tremaining: 226ms\n",
      "621:\tlearn: 0.0229092\ttotal: 371ms\tremaining: 225ms\n"
     ]
    },
    {
     "name": "stdout",
     "output_type": "stream",
     "text": [
      "622:\tlearn: 0.0228143\ttotal: 372ms\tremaining: 225ms\n",
      "623:\tlearn: 0.0227301\ttotal: 372ms\tremaining: 224ms\n",
      "624:\tlearn: 0.0226787\ttotal: 372ms\tremaining: 223ms\n",
      "625:\tlearn: 0.0226071\ttotal: 373ms\tremaining: 223ms\n",
      "626:\tlearn: 0.0225038\ttotal: 373ms\tremaining: 222ms\n",
      "627:\tlearn: 0.0223879\ttotal: 374ms\tremaining: 221ms\n",
      "628:\tlearn: 0.0223556\ttotal: 374ms\tremaining: 221ms\n",
      "629:\tlearn: 0.0222551\ttotal: 375ms\tremaining: 220ms\n",
      "630:\tlearn: 0.0222234\ttotal: 375ms\tremaining: 219ms\n",
      "631:\tlearn: 0.0221247\ttotal: 376ms\tremaining: 219ms\n",
      "632:\tlearn: 0.0220936\ttotal: 376ms\tremaining: 218ms\n",
      "633:\tlearn: 0.0219967\ttotal: 377ms\tremaining: 217ms\n",
      "634:\tlearn: 0.0219346\ttotal: 377ms\tremaining: 217ms\n",
      "635:\tlearn: 0.0218005\ttotal: 377ms\tremaining: 216ms\n",
      "636:\tlearn: 0.0217705\ttotal: 378ms\tremaining: 215ms\n",
      "637:\tlearn: 0.0216761\ttotal: 378ms\tremaining: 215ms\n",
      "638:\tlearn: 0.0216371\ttotal: 379ms\tremaining: 214ms\n",
      "639:\tlearn: 0.0215489\ttotal: 380ms\tremaining: 213ms\n",
      "640:\tlearn: 0.0214396\ttotal: 380ms\tremaining: 213ms\n",
      "641:\tlearn: 0.0213324\ttotal: 381ms\tremaining: 212ms\n",
      "642:\tlearn: 0.0212273\ttotal: 381ms\tremaining: 212ms\n",
      "643:\tlearn: 0.0210773\ttotal: 382ms\tremaining: 211ms\n",
      "644:\tlearn: 0.0210048\ttotal: 382ms\tremaining: 210ms\n",
      "645:\tlearn: 0.0209333\ttotal: 383ms\tremaining: 210ms\n",
      "646:\tlearn: 0.0208487\ttotal: 383ms\tremaining: 209ms\n",
      "647:\tlearn: 0.0207787\ttotal: 383ms\tremaining: 208ms\n",
      "648:\tlearn: 0.0206591\ttotal: 384ms\tremaining: 208ms\n",
      "649:\tlearn: 0.0205788\ttotal: 385ms\tremaining: 207ms\n",
      "650:\tlearn: 0.0204785\ttotal: 385ms\tremaining: 206ms\n",
      "651:\tlearn: 0.0203803\ttotal: 386ms\tremaining: 206ms\n",
      "652:\tlearn: 0.0202447\ttotal: 386ms\tremaining: 205ms\n",
      "653:\tlearn: 0.0201542\ttotal: 387ms\tremaining: 205ms\n",
      "654:\tlearn: 0.0200941\ttotal: 387ms\tremaining: 204ms\n",
      "655:\tlearn: 0.0200048\ttotal: 388ms\tremaining: 203ms\n",
      "656:\tlearn: 0.0199045\ttotal: 388ms\tremaining: 203ms\n",
      "657:\tlearn: 0.0198450\ttotal: 389ms\tremaining: 202ms\n",
      "658:\tlearn: 0.0197685\ttotal: 389ms\tremaining: 201ms\n",
      "659:\tlearn: 0.0196813\ttotal: 390ms\tremaining: 201ms\n",
      "660:\tlearn: 0.0195731\ttotal: 390ms\tremaining: 200ms\n",
      "661:\tlearn: 0.0195161\ttotal: 391ms\tremaining: 199ms\n",
      "662:\tlearn: 0.0194192\ttotal: 391ms\tremaining: 199ms\n",
      "663:\tlearn: 0.0193149\ttotal: 392ms\tremaining: 198ms\n",
      "664:\tlearn: 0.0192595\ttotal: 392ms\tremaining: 198ms\n",
      "665:\tlearn: 0.0191649\ttotal: 393ms\tremaining: 197ms\n",
      "666:\tlearn: 0.0190945\ttotal: 393ms\tremaining: 196ms\n",
      "667:\tlearn: 0.0190398\ttotal: 394ms\tremaining: 196ms\n",
      "668:\tlearn: 0.0189471\ttotal: 394ms\tremaining: 195ms\n",
      "669:\tlearn: 0.0188536\ttotal: 395ms\tremaining: 194ms\n",
      "670:\tlearn: 0.0188266\ttotal: 395ms\tremaining: 194ms\n",
      "671:\tlearn: 0.0188001\ttotal: 396ms\tremaining: 193ms\n",
      "672:\tlearn: 0.0187742\ttotal: 396ms\tremaining: 192ms\n",
      "673:\tlearn: 0.0186764\ttotal: 397ms\tremaining: 192ms\n",
      "674:\tlearn: 0.0185852\ttotal: 397ms\tremaining: 191ms\n",
      "675:\tlearn: 0.0185189\ttotal: 398ms\tremaining: 191ms\n",
      "676:\tlearn: 0.0184285\ttotal: 398ms\tremaining: 190ms\n",
      "677:\tlearn: 0.0184034\ttotal: 398ms\tremaining: 189ms\n",
      "678:\tlearn: 0.0183034\ttotal: 399ms\tremaining: 189ms\n",
      "679:\tlearn: 0.0182152\ttotal: 399ms\tremaining: 188ms\n",
      "680:\tlearn: 0.0181715\ttotal: 400ms\tremaining: 187ms\n",
      "681:\tlearn: 0.0181604\ttotal: 400ms\tremaining: 187ms\n",
      "682:\tlearn: 0.0181494\ttotal: 401ms\tremaining: 186ms\n",
      "683:\tlearn: 0.0180536\ttotal: 401ms\tremaining: 185ms\n",
      "684:\tlearn: 0.0179709\ttotal: 402ms\tremaining: 185ms\n",
      "685:\tlearn: 0.0179601\ttotal: 402ms\tremaining: 184ms\n",
      "686:\tlearn: 0.0178694\ttotal: 403ms\tremaining: 183ms\n",
      "687:\tlearn: 0.0177836\ttotal: 403ms\tremaining: 183ms\n",
      "688:\tlearn: 0.0177542\ttotal: 404ms\tremaining: 182ms\n",
      "689:\tlearn: 0.0177437\ttotal: 405ms\tremaining: 182ms\n",
      "690:\tlearn: 0.0176510\ttotal: 405ms\tremaining: 181ms\n",
      "691:\tlearn: 0.0175672\ttotal: 406ms\tremaining: 181ms\n",
      "692:\tlearn: 0.0175386\ttotal: 406ms\tremaining: 180ms\n",
      "693:\tlearn: 0.0175283\ttotal: 407ms\tremaining: 179ms\n",
      "694:\tlearn: 0.0174384\ttotal: 407ms\tremaining: 179ms\n",
      "695:\tlearn: 0.0173583\ttotal: 408ms\tremaining: 178ms\n",
      "696:\tlearn: 0.0173482\ttotal: 408ms\tremaining: 178ms\n",
      "697:\tlearn: 0.0173382\ttotal: 409ms\tremaining: 177ms\n",
      "698:\tlearn: 0.0172566\ttotal: 409ms\tremaining: 176ms\n",
      "699:\tlearn: 0.0172467\ttotal: 410ms\tremaining: 176ms\n",
      "700:\tlearn: 0.0172189\ttotal: 410ms\tremaining: 175ms\n",
      "701:\tlearn: 0.0172091\ttotal: 411ms\tremaining: 174ms\n",
      "702:\tlearn: 0.0171223\ttotal: 411ms\tremaining: 174ms\n",
      "703:\tlearn: 0.0170426\ttotal: 412ms\tremaining: 173ms\n",
      "704:\tlearn: 0.0169655\ttotal: 412ms\tremaining: 173ms\n",
      "705:\tlearn: 0.0168806\ttotal: 413ms\tremaining: 172ms\n",
      "706:\tlearn: 0.0168032\ttotal: 413ms\tremaining: 171ms\n",
      "707:\tlearn: 0.0167288\ttotal: 414ms\tremaining: 171ms\n",
      "708:\tlearn: 0.0166513\ttotal: 414ms\tremaining: 170ms\n",
      "709:\tlearn: 0.0166104\ttotal: 415ms\tremaining: 169ms\n",
      "710:\tlearn: 0.0166014\ttotal: 415ms\tremaining: 169ms\n",
      "711:\tlearn: 0.0165925\ttotal: 416ms\tremaining: 168ms\n",
      "712:\tlearn: 0.0165836\ttotal: 416ms\tremaining: 167ms\n",
      "713:\tlearn: 0.0165114\ttotal: 416ms\tremaining: 167ms\n",
      "714:\tlearn: 0.0164408\ttotal: 417ms\tremaining: 166ms\n",
      "715:\tlearn: 0.0163615\ttotal: 417ms\tremaining: 166ms\n",
      "716:\tlearn: 0.0162926\ttotal: 418ms\tremaining: 165ms\n",
      "717:\tlearn: 0.0162252\ttotal: 419ms\tremaining: 164ms\n",
      "718:\tlearn: 0.0161533\ttotal: 419ms\tremaining: 164ms\n",
      "719:\tlearn: 0.0160891\ttotal: 420ms\tremaining: 163ms\n",
      "720:\tlearn: 0.0160119\ttotal: 420ms\tremaining: 163ms\n",
      "721:\tlearn: 0.0159395\ttotal: 421ms\tremaining: 162ms\n",
      "722:\tlearn: 0.0158754\ttotal: 421ms\tremaining: 161ms\n",
      "723:\tlearn: 0.0158317\ttotal: 422ms\tremaining: 161ms\n",
      "724:\tlearn: 0.0157894\ttotal: 422ms\tremaining: 160ms\n",
      "725:\tlearn: 0.0157484\ttotal: 423ms\tremaining: 160ms\n",
      "726:\tlearn: 0.0157087\ttotal: 424ms\tremaining: 159ms\n",
      "727:\tlearn: 0.0156669\ttotal: 424ms\tremaining: 158ms\n",
      "728:\tlearn: 0.0156334\ttotal: 424ms\tremaining: 158ms\n",
      "729:\tlearn: 0.0155967\ttotal: 425ms\tremaining: 157ms\n",
      "730:\tlearn: 0.0155434\ttotal: 425ms\tremaining: 157ms\n",
      "731:\tlearn: 0.0154903\ttotal: 426ms\tremaining: 156ms\n",
      "732:\tlearn: 0.0154584\ttotal: 427ms\tremaining: 155ms\n",
      "733:\tlearn: 0.0154101\ttotal: 427ms\tremaining: 155ms\n",
      "734:\tlearn: 0.0153699\ttotal: 428ms\tremaining: 154ms\n",
      "735:\tlearn: 0.0153239\ttotal: 428ms\tremaining: 154ms\n",
      "736:\tlearn: 0.0152864\ttotal: 429ms\tremaining: 153ms\n",
      "737:\tlearn: 0.0152511\ttotal: 429ms\tremaining: 152ms\n",
      "738:\tlearn: 0.0151691\ttotal: 430ms\tremaining: 152ms\n",
      "739:\tlearn: 0.0151624\ttotal: 430ms\tremaining: 151ms\n",
      "740:\tlearn: 0.0150917\ttotal: 431ms\tremaining: 151ms\n",
      "741:\tlearn: 0.0150586\ttotal: 431ms\tremaining: 150ms\n",
      "742:\tlearn: 0.0149675\ttotal: 432ms\tremaining: 149ms\n",
      "743:\tlearn: 0.0149209\ttotal: 432ms\tremaining: 149ms\n",
      "744:\tlearn: 0.0148891\ttotal: 433ms\tremaining: 148ms\n",
      "745:\tlearn: 0.0148435\ttotal: 433ms\tremaining: 147ms\n",
      "746:\tlearn: 0.0148079\ttotal: 434ms\tremaining: 147ms\n",
      "747:\tlearn: 0.0147195\ttotal: 434ms\tremaining: 146ms\n",
      "748:\tlearn: 0.0146890\ttotal: 435ms\tremaining: 146ms\n",
      "749:\tlearn: 0.0146445\ttotal: 435ms\tremaining: 145ms\n",
      "750:\tlearn: 0.0146105\ttotal: 436ms\tremaining: 144ms\n",
      "751:\tlearn: 0.0145514\ttotal: 436ms\tremaining: 144ms\n",
      "752:\tlearn: 0.0145122\ttotal: 437ms\tremaining: 143ms\n",
      "753:\tlearn: 0.0144803\ttotal: 437ms\tremaining: 143ms\n",
      "754:\tlearn: 0.0144467\ttotal: 438ms\tremaining: 142ms\n",
      "755:\tlearn: 0.0144152\ttotal: 438ms\tremaining: 141ms\n",
      "756:\tlearn: 0.0143826\ttotal: 439ms\tremaining: 141ms\n",
      "757:\tlearn: 0.0143515\ttotal: 439ms\tremaining: 140ms\n",
      "758:\tlearn: 0.0143139\ttotal: 440ms\tremaining: 140ms\n",
      "759:\tlearn: 0.0142633\ttotal: 440ms\tremaining: 139ms\n",
      "760:\tlearn: 0.0142138\ttotal: 441ms\tremaining: 138ms\n",
      "761:\tlearn: 0.0141654\ttotal: 441ms\tremaining: 138ms\n",
      "762:\tlearn: 0.0141186\ttotal: 442ms\tremaining: 137ms\n",
      "763:\tlearn: 0.0140713\ttotal: 442ms\tremaining: 137ms\n",
      "764:\tlearn: 0.0140025\ttotal: 443ms\tremaining: 136ms\n",
      "765:\tlearn: 0.0139566\ttotal: 443ms\tremaining: 135ms\n",
      "766:\tlearn: 0.0138888\ttotal: 444ms\tremaining: 135ms\n",
      "767:\tlearn: 0.0138514\ttotal: 444ms\tremaining: 134ms\n",
      "768:\tlearn: 0.0137897\ttotal: 445ms\tremaining: 134ms\n",
      "769:\tlearn: 0.0137400\ttotal: 445ms\tremaining: 133ms\n",
      "770:\tlearn: 0.0136915\ttotal: 446ms\tremaining: 133ms\n",
      "771:\tlearn: 0.0136533\ttotal: 447ms\tremaining: 132ms\n",
      "772:\tlearn: 0.0135934\ttotal: 447ms\tremaining: 131ms\n",
      "773:\tlearn: 0.0135565\ttotal: 448ms\tremaining: 131ms\n",
      "774:\tlearn: 0.0135126\ttotal: 448ms\tremaining: 130ms\n",
      "775:\tlearn: 0.0134769\ttotal: 449ms\tremaining: 130ms\n",
      "776:\tlearn: 0.0134207\ttotal: 449ms\tremaining: 129ms\n",
      "777:\tlearn: 0.0133796\ttotal: 449ms\tremaining: 128ms\n",
      "778:\tlearn: 0.0133215\ttotal: 450ms\tremaining: 128ms\n",
      "779:\tlearn: 0.0132667\ttotal: 450ms\tremaining: 127ms\n",
      "780:\tlearn: 0.0131931\ttotal: 451ms\tremaining: 126ms\n",
      "781:\tlearn: 0.0131597\ttotal: 452ms\tremaining: 126ms\n",
      "782:\tlearn: 0.0131036\ttotal: 452ms\tremaining: 125ms\n",
      "783:\tlearn: 0.0130503\ttotal: 453ms\tremaining: 125ms\n",
      "784:\tlearn: 0.0130083\ttotal: 453ms\tremaining: 124ms\n",
      "785:\tlearn: 0.0129386\ttotal: 454ms\tremaining: 124ms\n",
      "786:\tlearn: 0.0128776\ttotal: 454ms\tremaining: 123ms\n",
      "787:\tlearn: 0.0128351\ttotal: 455ms\tremaining: 122ms\n",
      "788:\tlearn: 0.0127934\ttotal: 455ms\tremaining: 122ms\n",
      "789:\tlearn: 0.0127401\ttotal: 456ms\tremaining: 121ms\n",
      "790:\tlearn: 0.0126806\ttotal: 456ms\tremaining: 121ms\n",
      "791:\tlearn: 0.0126237\ttotal: 457ms\tremaining: 120ms\n",
      "792:\tlearn: 0.0125687\ttotal: 457ms\tremaining: 119ms\n",
      "793:\tlearn: 0.0125111\ttotal: 458ms\tremaining: 119ms\n",
      "794:\tlearn: 0.0124533\ttotal: 458ms\tremaining: 118ms\n",
      "795:\tlearn: 0.0124220\ttotal: 459ms\tremaining: 118ms\n",
      "796:\tlearn: 0.0123660\ttotal: 459ms\tremaining: 117ms\n",
      "797:\tlearn: 0.0123208\ttotal: 460ms\tremaining: 116ms\n",
      "798:\tlearn: 0.0122649\ttotal: 460ms\tremaining: 116ms\n",
      "799:\tlearn: 0.0122199\ttotal: 461ms\tremaining: 115ms\n",
      "800:\tlearn: 0.0121906\ttotal: 462ms\tremaining: 115ms\n",
      "801:\tlearn: 0.0121629\ttotal: 462ms\tremaining: 114ms\n",
      "802:\tlearn: 0.0121001\ttotal: 462ms\tremaining: 113ms\n",
      "803:\tlearn: 0.0120464\ttotal: 463ms\tremaining: 113ms\n",
      "804:\tlearn: 0.0119936\ttotal: 463ms\tremaining: 112ms\n",
      "805:\tlearn: 0.0119619\ttotal: 464ms\tremaining: 112ms\n",
      "806:\tlearn: 0.0119277\ttotal: 464ms\tremaining: 111ms\n",
      "807:\tlearn: 0.0118976\ttotal: 464ms\tremaining: 110ms\n",
      "808:\tlearn: 0.0118380\ttotal: 465ms\tremaining: 110ms\n",
      "809:\tlearn: 0.0118083\ttotal: 465ms\tremaining: 109ms\n",
      "810:\tlearn: 0.0117890\ttotal: 466ms\tremaining: 109ms\n",
      "811:\tlearn: 0.0117568\ttotal: 467ms\tremaining: 108ms\n",
      "812:\tlearn: 0.0117091\ttotal: 467ms\tremaining: 107ms\n",
      "813:\tlearn: 0.0116800\ttotal: 467ms\tremaining: 107ms\n",
      "814:\tlearn: 0.0116667\ttotal: 468ms\tremaining: 106ms\n",
      "815:\tlearn: 0.0116395\ttotal: 468ms\tremaining: 106ms\n",
      "816:\tlearn: 0.0116132\ttotal: 469ms\tremaining: 105ms\n",
      "817:\tlearn: 0.0115949\ttotal: 469ms\tremaining: 104ms\n",
      "818:\tlearn: 0.0115663\ttotal: 470ms\tremaining: 104ms\n",
      "819:\tlearn: 0.0115371\ttotal: 470ms\tremaining: 103ms\n",
      "820:\tlearn: 0.0115158\ttotal: 470ms\tremaining: 103ms\n",
      "821:\tlearn: 0.0115031\ttotal: 471ms\tremaining: 102ms\n",
      "822:\tlearn: 0.0114918\ttotal: 471ms\tremaining: 101ms\n",
      "823:\tlearn: 0.0114708\ttotal: 472ms\tremaining: 101ms\n",
      "824:\tlearn: 0.0114598\ttotal: 472ms\tremaining: 100ms\n",
      "825:\tlearn: 0.0114319\ttotal: 473ms\tremaining: 99.6ms\n",
      "826:\tlearn: 0.0114195\ttotal: 473ms\tremaining: 99ms\n",
      "827:\tlearn: 0.0114088\ttotal: 474ms\tremaining: 98.4ms\n",
      "828:\tlearn: 0.0113881\ttotal: 474ms\tremaining: 97.8ms\n",
      "829:\tlearn: 0.0113704\ttotal: 475ms\tremaining: 97.3ms\n",
      "830:\tlearn: 0.0113397\ttotal: 475ms\tremaining: 96.7ms\n",
      "831:\tlearn: 0.0113086\ttotal: 476ms\tremaining: 96.1ms\n",
      "832:\tlearn: 0.0112685\ttotal: 476ms\tremaining: 95.5ms\n",
      "833:\tlearn: 0.0112298\ttotal: 477ms\tremaining: 94.9ms\n",
      "834:\tlearn: 0.0111963\ttotal: 477ms\tremaining: 94.3ms\n"
     ]
    },
    {
     "name": "stdout",
     "output_type": "stream",
     "text": [
      "835:\tlearn: 0.0111578\ttotal: 478ms\tremaining: 93.8ms\n",
      "836:\tlearn: 0.0111433\ttotal: 479ms\tremaining: 93.2ms\n",
      "837:\tlearn: 0.0111058\ttotal: 479ms\tremaining: 92.6ms\n",
      "838:\tlearn: 0.0110611\ttotal: 480ms\tremaining: 92ms\n",
      "839:\tlearn: 0.0110210\ttotal: 480ms\tremaining: 91.4ms\n",
      "840:\tlearn: 0.0110077\ttotal: 480ms\tremaining: 90.8ms\n",
      "841:\tlearn: 0.0109683\ttotal: 481ms\tremaining: 90.2ms\n",
      "842:\tlearn: 0.0109316\ttotal: 481ms\tremaining: 89.6ms\n",
      "843:\tlearn: 0.0108987\ttotal: 482ms\tremaining: 89ms\n",
      "844:\tlearn: 0.0108850\ttotal: 482ms\tremaining: 88.5ms\n",
      "845:\tlearn: 0.0108466\ttotal: 483ms\tremaining: 87.9ms\n",
      "846:\tlearn: 0.0108146\ttotal: 483ms\tremaining: 87.3ms\n",
      "847:\tlearn: 0.0107906\ttotal: 483ms\tremaining: 86.7ms\n",
      "848:\tlearn: 0.0107631\ttotal: 484ms\tremaining: 86.1ms\n",
      "849:\tlearn: 0.0107505\ttotal: 484ms\tremaining: 85.5ms\n",
      "850:\tlearn: 0.0107118\ttotal: 485ms\tremaining: 84.9ms\n",
      "851:\tlearn: 0.0106885\ttotal: 485ms\tremaining: 84.3ms\n",
      "852:\tlearn: 0.0106511\ttotal: 486ms\tremaining: 83.7ms\n",
      "853:\tlearn: 0.0106284\ttotal: 486ms\tremaining: 83.1ms\n",
      "854:\tlearn: 0.0106159\ttotal: 486ms\tremaining: 82.5ms\n",
      "855:\tlearn: 0.0105791\ttotal: 487ms\tremaining: 81.9ms\n",
      "856:\tlearn: 0.0105444\ttotal: 487ms\tremaining: 81.3ms\n",
      "857:\tlearn: 0.0104908\ttotal: 488ms\tremaining: 80.7ms\n",
      "858:\tlearn: 0.0104603\ttotal: 488ms\tremaining: 80.1ms\n",
      "859:\tlearn: 0.0104078\ttotal: 489ms\tremaining: 79.5ms\n",
      "860:\tlearn: 0.0103952\ttotal: 489ms\tremaining: 78.9ms\n",
      "861:\tlearn: 0.0103432\ttotal: 489ms\tremaining: 78.3ms\n",
      "862:\tlearn: 0.0102922\ttotal: 490ms\tremaining: 77.8ms\n",
      "863:\tlearn: 0.0102370\ttotal: 490ms\tremaining: 77.2ms\n",
      "864:\tlearn: 0.0101866\ttotal: 491ms\tremaining: 76.6ms\n",
      "865:\tlearn: 0.0101281\ttotal: 491ms\tremaining: 76ms\n",
      "866:\tlearn: 0.0100791\ttotal: 492ms\tremaining: 75.5ms\n",
      "867:\tlearn: 0.0100317\ttotal: 492ms\tremaining: 74.9ms\n",
      "868:\tlearn: 0.0099752\ttotal: 493ms\tremaining: 74.3ms\n",
      "869:\tlearn: 0.0099226\ttotal: 493ms\tremaining: 73.7ms\n",
      "870:\tlearn: 0.0098761\ttotal: 494ms\tremaining: 73.2ms\n",
      "871:\tlearn: 0.0098354\ttotal: 494ms\tremaining: 72.6ms\n",
      "872:\tlearn: 0.0097899\ttotal: 495ms\tremaining: 72ms\n",
      "873:\tlearn: 0.0097357\ttotal: 495ms\tremaining: 71.4ms\n",
      "874:\tlearn: 0.0096919\ttotal: 496ms\tremaining: 70.8ms\n",
      "875:\tlearn: 0.0096490\ttotal: 496ms\tremaining: 70.2ms\n",
      "876:\tlearn: 0.0096070\ttotal: 497ms\tremaining: 69.7ms\n",
      "877:\tlearn: 0.0095682\ttotal: 497ms\tremaining: 69.1ms\n",
      "878:\tlearn: 0.0095272\ttotal: 498ms\tremaining: 68.5ms\n",
      "879:\tlearn: 0.0094892\ttotal: 498ms\tremaining: 67.9ms\n",
      "880:\tlearn: 0.0094595\ttotal: 499ms\tremaining: 67.3ms\n",
      "881:\tlearn: 0.0094169\ttotal: 499ms\tremaining: 66.8ms\n",
      "882:\tlearn: 0.0093798\ttotal: 499ms\tremaining: 66.2ms\n",
      "883:\tlearn: 0.0093522\ttotal: 500ms\tremaining: 65.6ms\n",
      "884:\tlearn: 0.0093129\ttotal: 500ms\tremaining: 65ms\n",
      "885:\tlearn: 0.0092620\ttotal: 501ms\tremaining: 64.4ms\n",
      "886:\tlearn: 0.0092192\ttotal: 501ms\tremaining: 63.9ms\n",
      "887:\tlearn: 0.0091560\ttotal: 502ms\tremaining: 63.3ms\n",
      "888:\tlearn: 0.0091143\ttotal: 502ms\tremaining: 62.7ms\n",
      "889:\tlearn: 0.0090530\ttotal: 503ms\tremaining: 62.1ms\n",
      "890:\tlearn: 0.0090178\ttotal: 503ms\tremaining: 61.6ms\n",
      "891:\tlearn: 0.0089775\ttotal: 504ms\tremaining: 61ms\n",
      "892:\tlearn: 0.0089181\ttotal: 504ms\tremaining: 60.4ms\n",
      "893:\tlearn: 0.0088838\ttotal: 505ms\tremaining: 59.9ms\n",
      "894:\tlearn: 0.0088449\ttotal: 506ms\tremaining: 59.3ms\n",
      "895:\tlearn: 0.0088151\ttotal: 506ms\tremaining: 58.7ms\n",
      "896:\tlearn: 0.0087805\ttotal: 506ms\tremaining: 58.1ms\n",
      "897:\tlearn: 0.0087637\ttotal: 507ms\tremaining: 57.6ms\n",
      "898:\tlearn: 0.0087273\ttotal: 507ms\tremaining: 57ms\n",
      "899:\tlearn: 0.0086941\ttotal: 508ms\tremaining: 56.4ms\n",
      "900:\tlearn: 0.0086614\ttotal: 508ms\tremaining: 55.8ms\n",
      "901:\tlearn: 0.0086047\ttotal: 508ms\tremaining: 55.2ms\n",
      "902:\tlearn: 0.0085586\ttotal: 509ms\tremaining: 54.7ms\n",
      "903:\tlearn: 0.0085262\ttotal: 510ms\tremaining: 54.1ms\n",
      "904:\tlearn: 0.0084798\ttotal: 510ms\tremaining: 53.6ms\n",
      "905:\tlearn: 0.0084343\ttotal: 511ms\tremaining: 53ms\n",
      "906:\tlearn: 0.0083857\ttotal: 511ms\tremaining: 52.4ms\n",
      "907:\tlearn: 0.0083467\ttotal: 512ms\tremaining: 51.8ms\n",
      "908:\tlearn: 0.0083025\ttotal: 512ms\tremaining: 51.2ms\n",
      "909:\tlearn: 0.0082592\ttotal: 512ms\tremaining: 50.7ms\n",
      "910:\tlearn: 0.0082091\ttotal: 513ms\tremaining: 50.1ms\n",
      "911:\tlearn: 0.0081711\ttotal: 513ms\tremaining: 49.5ms\n",
      "912:\tlearn: 0.0081297\ttotal: 514ms\tremaining: 48.9ms\n",
      "913:\tlearn: 0.0080922\ttotal: 514ms\tremaining: 48.4ms\n",
      "914:\tlearn: 0.0080504\ttotal: 514ms\tremaining: 47.8ms\n",
      "915:\tlearn: 0.0080102\ttotal: 515ms\tremaining: 47.2ms\n",
      "916:\tlearn: 0.0079737\ttotal: 515ms\tremaining: 46.6ms\n",
      "917:\tlearn: 0.0079345\ttotal: 516ms\tremaining: 46.1ms\n",
      "918:\tlearn: 0.0078991\ttotal: 516ms\tremaining: 45.5ms\n",
      "919:\tlearn: 0.0078703\ttotal: 517ms\tremaining: 45ms\n",
      "920:\tlearn: 0.0078421\ttotal: 518ms\tremaining: 44.4ms\n",
      "921:\tlearn: 0.0078040\ttotal: 518ms\tremaining: 43.8ms\n",
      "922:\tlearn: 0.0077697\ttotal: 519ms\tremaining: 43.3ms\n",
      "923:\tlearn: 0.0077421\ttotal: 519ms\tremaining: 42.7ms\n",
      "924:\tlearn: 0.0077077\ttotal: 519ms\tremaining: 42.1ms\n",
      "925:\tlearn: 0.0076806\ttotal: 520ms\tremaining: 41.5ms\n",
      "926:\tlearn: 0.0076541\ttotal: 520ms\tremaining: 41ms\n",
      "927:\tlearn: 0.0076203\ttotal: 521ms\tremaining: 40.4ms\n",
      "928:\tlearn: 0.0075943\ttotal: 521ms\tremaining: 39.8ms\n",
      "929:\tlearn: 0.0075613\ttotal: 522ms\tremaining: 39.3ms\n",
      "930:\tlearn: 0.0075316\ttotal: 522ms\tremaining: 38.7ms\n",
      "931:\tlearn: 0.0074988\ttotal: 523ms\tremaining: 38.1ms\n",
      "932:\tlearn: 0.0074735\ttotal: 523ms\tremaining: 37.6ms\n",
      "933:\tlearn: 0.0074383\ttotal: 523ms\tremaining: 37ms\n",
      "934:\tlearn: 0.0074017\ttotal: 524ms\tremaining: 36.4ms\n",
      "935:\tlearn: 0.0073699\ttotal: 525ms\tremaining: 35.9ms\n",
      "936:\tlearn: 0.0073455\ttotal: 525ms\tremaining: 35.3ms\n",
      "937:\tlearn: 0.0073215\ttotal: 526ms\tremaining: 34.7ms\n",
      "938:\tlearn: 0.0072899\ttotal: 526ms\tremaining: 34.2ms\n",
      "939:\tlearn: 0.0072594\ttotal: 527ms\tremaining: 33.6ms\n",
      "940:\tlearn: 0.0072279\ttotal: 527ms\tremaining: 33.1ms\n",
      "941:\tlearn: 0.0072051\ttotal: 528ms\tremaining: 32.5ms\n",
      "942:\tlearn: 0.0071759\ttotal: 528ms\tremaining: 31.9ms\n",
      "943:\tlearn: 0.0071427\ttotal: 529ms\tremaining: 31.4ms\n",
      "944:\tlearn: 0.0071135\ttotal: 529ms\tremaining: 30.8ms\n",
      "945:\tlearn: 0.0070988\ttotal: 530ms\tremaining: 30.2ms\n",
      "946:\tlearn: 0.0070689\ttotal: 530ms\tremaining: 29.7ms\n",
      "947:\tlearn: 0.0070366\ttotal: 531ms\tremaining: 29.1ms\n",
      "948:\tlearn: 0.0070093\ttotal: 532ms\tremaining: 28.6ms\n",
      "949:\tlearn: 0.0069805\ttotal: 532ms\tremaining: 28ms\n",
      "950:\tlearn: 0.0069662\ttotal: 532ms\tremaining: 27.4ms\n",
      "951:\tlearn: 0.0069336\ttotal: 533ms\tremaining: 26.9ms\n",
      "952:\tlearn: 0.0069050\ttotal: 533ms\tremaining: 26.3ms\n",
      "953:\tlearn: 0.0068841\ttotal: 534ms\tremaining: 25.7ms\n",
      "954:\tlearn: 0.0068702\ttotal: 534ms\tremaining: 25.2ms\n",
      "955:\tlearn: 0.0068427\ttotal: 535ms\tremaining: 24.6ms\n",
      "956:\tlearn: 0.0068170\ttotal: 535ms\tremaining: 24ms\n",
      "957:\tlearn: 0.0067789\ttotal: 536ms\tremaining: 23.5ms\n",
      "958:\tlearn: 0.0067509\ttotal: 536ms\tremaining: 22.9ms\n",
      "959:\tlearn: 0.0067242\ttotal: 536ms\tremaining: 22.4ms\n",
      "960:\tlearn: 0.0067107\ttotal: 537ms\tremaining: 21.8ms\n",
      "961:\tlearn: 0.0066738\ttotal: 538ms\tremaining: 21.2ms\n",
      "962:\tlearn: 0.0066413\ttotal: 538ms\tremaining: 20.7ms\n",
      "963:\tlearn: 0.0066031\ttotal: 538ms\tremaining: 20.1ms\n",
      "964:\tlearn: 0.0065781\ttotal: 539ms\tremaining: 19.5ms\n",
      "965:\tlearn: 0.0065651\ttotal: 539ms\tremaining: 19ms\n",
      "966:\tlearn: 0.0065394\ttotal: 540ms\tremaining: 18.4ms\n",
      "967:\tlearn: 0.0065145\ttotal: 540ms\tremaining: 17.9ms\n",
      "968:\tlearn: 0.0064932\ttotal: 541ms\tremaining: 17.3ms\n",
      "969:\tlearn: 0.0064805\ttotal: 541ms\tremaining: 16.7ms\n",
      "970:\tlearn: 0.0064563\ttotal: 542ms\tremaining: 16.2ms\n",
      "971:\tlearn: 0.0064356\ttotal: 542ms\tremaining: 15.6ms\n",
      "972:\tlearn: 0.0064012\ttotal: 543ms\tremaining: 15.1ms\n",
      "973:\tlearn: 0.0063729\ttotal: 543ms\tremaining: 14.5ms\n",
      "974:\tlearn: 0.0063410\ttotal: 544ms\tremaining: 13.9ms\n",
      "975:\tlearn: 0.0063175\ttotal: 544ms\tremaining: 13.4ms\n",
      "976:\tlearn: 0.0062945\ttotal: 545ms\tremaining: 12.8ms\n",
      "977:\tlearn: 0.0062824\ttotal: 545ms\tremaining: 12.3ms\n",
      "978:\tlearn: 0.0062593\ttotal: 546ms\tremaining: 11.7ms\n",
      "979:\tlearn: 0.0062267\ttotal: 546ms\tremaining: 11.1ms\n",
      "980:\tlearn: 0.0061960\ttotal: 547ms\tremaining: 10.6ms\n",
      "981:\tlearn: 0.0061739\ttotal: 547ms\tremaining: 10ms\n",
      "982:\tlearn: 0.0061590\ttotal: 547ms\tremaining: 9.47ms\n",
      "983:\tlearn: 0.0061473\ttotal: 548ms\tremaining: 8.91ms\n",
      "984:\tlearn: 0.0061299\ttotal: 549ms\tremaining: 8.36ms\n",
      "985:\tlearn: 0.0061009\ttotal: 549ms\tremaining: 7.8ms\n",
      "986:\tlearn: 0.0060724\ttotal: 550ms\tremaining: 7.24ms\n",
      "987:\tlearn: 0.0060610\ttotal: 550ms\tremaining: 6.68ms\n",
      "988:\tlearn: 0.0060344\ttotal: 551ms\tremaining: 6.13ms\n",
      "989:\tlearn: 0.0060065\ttotal: 551ms\tremaining: 5.57ms\n",
      "990:\tlearn: 0.0059791\ttotal: 552ms\tremaining: 5.01ms\n",
      "991:\tlearn: 0.0059508\ttotal: 552ms\tremaining: 4.45ms\n",
      "992:\tlearn: 0.0059229\ttotal: 552ms\tremaining: 3.89ms\n",
      "993:\tlearn: 0.0059035\ttotal: 553ms\tremaining: 3.34ms\n",
      "994:\tlearn: 0.0058790\ttotal: 553ms\tremaining: 2.78ms\n",
      "995:\tlearn: 0.0058650\ttotal: 554ms\tremaining: 2.22ms\n",
      "996:\tlearn: 0.0058541\ttotal: 554ms\tremaining: 1.67ms\n",
      "997:\tlearn: 0.0058326\ttotal: 555ms\tremaining: 1.11ms\n"
     ]
    },
    {
     "name": "stdout",
     "output_type": "stream",
     "text": [
      "998:\tlearn: 0.0058076\ttotal: 555ms\tremaining: 556us\n",
      "999:\tlearn: 0.0057807\ttotal: 556ms\tremaining: 0us\n"
     ]
    },
    {
     "data": {
      "text/plain": [
       "<catboost.core.CatBoostRegressor at 0x7f7d2b220f10>"
      ]
     },
     "execution_count": 9,
     "metadata": {},
     "output_type": "execute_result"
    }
   ],
   "source": [
    "#Train the Model \n",
    "prior_model = ctb.CatBoostRegressor()\n",
    "prior_model.fit(X_train,Y_train)"
   ]
  },
  {
   "cell_type": "code",
   "execution_count": 10,
   "id": "af65dcda",
   "metadata": {
    "execution": {
     "iopub.execute_input": "2022-06-07T06:53:39.148749Z",
     "iopub.status.busy": "2022-06-07T06:53:39.148364Z",
     "iopub.status.idle": "2022-06-07T06:53:39.155577Z",
     "shell.execute_reply": "2022-06-07T06:53:39.155869Z"
    },
    "id": "af65dcda",
    "papermill": {
     "duration": 0.019714,
     "end_time": "2022-06-07T06:53:39.155980",
     "exception": false,
     "start_time": "2022-06-07T06:53:39.136266",
     "status": "completed"
    },
    "tags": []
   },
   "outputs": [
    {
     "data": {
      "application/scrapbook.scrap.json+json": {
       "data": 0.09488131389213912,
       "encoder": "json",
       "name": "Prior Model MSE",
       "version": 1
      }
     },
     "metadata": {
      "scrapbook": {
       "data": true,
       "display": false,
       "name": "Prior Model MSE"
      }
     },
     "output_type": "display_data"
    },
    {
     "data": {
      "application/scrapbook.scrap.json+json": {
       "data": 1.267916272335175,
       "encoder": "json",
       "name": "ABC Pre-generator MSE",
       "version": 1
      }
     },
     "metadata": {
      "scrapbook": {
       "data": true,
       "display": false,
       "name": "ABC Pre-generator MSE"
      }
     },
     "output_type": "display_data"
    },
    {
     "data": {
      "application/scrapbook.scrap.json+json": {
       "data": 0.23758342078491798,
       "encoder": "json",
       "name": "Prior Model MSE",
       "version": 1
      }
     },
     "metadata": {
      "scrapbook": {
       "data": true,
       "display": false,
       "name": "Prior Model MSE"
      }
     },
     "output_type": "display_data"
    },
    {
     "data": {
      "application/scrapbook.scrap.json+json": {
       "data": 0.9255075914237795,
       "encoder": "json",
       "name": "ABC Pre-generator MSE",
       "version": 1
      }
     },
     "metadata": {
      "scrapbook": {
       "data": true,
       "display": false,
       "name": "ABC Pre-generator MSE"
      }
     },
     "output_type": "display_data"
    }
   ],
   "source": [
    "y_pred = prior_model.predict(X_test)\n",
    "y_abc = y_pred + np.random.normal(0,variance, y_pred.shape) + bias \n",
    "mse = mean_squared_error(y_pred,Y_test)\n",
    "sb.glue(\"Prior Model MSE\",mse)\n",
    "mse = mean_squared_error(y_abc,Y_test)\n",
    "sb.glue(\"ABC Pre-generator MSE\",mse)\n",
    "mae = mean_absolute_error(y_pred,Y_test)\n",
    "sb.glue(\"Prior Model MSE\",mae)\n",
    "mae = mean_absolute_error(y_abc,Y_test)\n",
    "sb.glue(\"ABC Pre-generator MSE\",mae)"
   ]
  },
  {
   "cell_type": "markdown",
   "id": "25609da2",
   "metadata": {
    "papermill": {
     "duration": 0.009437,
     "end_time": "2022-06-07T06:53:39.175095",
     "exception": false,
     "start_time": "2022-06-07T06:53:39.165658",
     "status": "completed"
    },
    "tags": []
   },
   "source": [
    "# ABC GAN Model"
   ]
  },
  {
   "cell_type": "code",
   "execution_count": 11,
   "id": "dfc3464d",
   "metadata": {
    "execution": {
     "iopub.execute_input": "2022-06-07T06:53:39.196921Z",
     "iopub.status.busy": "2022-06-07T06:53:39.196472Z",
     "iopub.status.idle": "2022-06-07T06:53:39.199101Z",
     "shell.execute_reply": "2022-06-07T06:53:39.199340Z"
    },
    "papermill": {
     "duration": 0.01497,
     "end_time": "2022-06-07T06:53:39.199448",
     "exception": false,
     "start_time": "2022-06-07T06:53:39.184478",
     "status": "completed"
    },
    "tags": []
   },
   "outputs": [],
   "source": [
    "gen = network.Generator(n_features+1).to(device)\n",
    "disc = network.Discriminator(n_features+1).to(device)\n",
    "\n",
    "criterion = torch.nn.BCELoss()\n",
    "gen_opt = torch.optim.Adam(gen.parameters(), lr=0.001, betas=(0.5, 0.999))\n",
    "disc_opt = torch.optim.Adam(disc.parameters(), lr=0.001, betas=(0.5, 0.999))"
   ]
  },
  {
   "cell_type": "code",
   "execution_count": 12,
   "id": "b75fdd85",
   "metadata": {
    "execution": {
     "iopub.execute_input": "2022-06-07T06:53:39.220784Z",
     "iopub.status.busy": "2022-06-07T06:53:39.220413Z",
     "iopub.status.idle": "2022-06-07T06:53:52.859730Z",
     "shell.execute_reply": "2022-06-07T06:53:52.860039Z"
    },
    "papermill": {
     "duration": 13.651103,
     "end_time": "2022-06-07T06:53:52.860162",
     "exception": false,
     "start_time": "2022-06-07T06:53:39.209059",
     "status": "completed"
    },
    "tags": []
   },
   "outputs": [
    {
     "data": {
      "image/png": "[encoded data removed]",
      "text/plain": [
       "<Figure size 432x288 with 1 Axes>"
      ]
     },
     "metadata": {
      "needs_background": "light"
     },
     "output_type": "display_data"
    },
    {
     "data": {
      "image/png": "[encoded data removed]",
      "text/plain": [
       "<Figure size 432x288 with 1 Axes>"
      ]
     },
     "metadata": {
      "needs_background": "light"
     },
     "output_type": "display_data"
    }
   ],
   "source": [
    "#Training the ABC_GAN \n",
    "ABC_train_test2.training_GAN(disc,gen,disc_opt,gen_opt,train_data,batch_size,n_epochs,criterion,prior_model,variance,bias,device)"
   ]
  },
  {
   "cell_type": "code",
   "execution_count": 13,
   "id": "1fa7c368",
   "metadata": {
    "execution": {
     "iopub.execute_input": "2022-06-07T06:53:52.884503Z",
     "iopub.status.busy": "2022-06-07T06:53:52.884049Z",
     "iopub.status.idle": "2022-06-07T06:53:53.054394Z",
     "shell.execute_reply": "2022-06-07T06:53:53.054762Z"
    },
    "papermill": {
     "duration": 0.183581,
     "end_time": "2022-06-07T06:53:53.054883",
     "exception": false,
     "start_time": "2022-06-07T06:53:52.871302",
     "status": "completed"
    },
    "tags": []
   },
   "outputs": [
    {
     "data": {
      "application/scrapbook.scrap.json+json": {
       "data": 0.1206357017569149,
       "encoder": "json",
       "name": "ABC-GAN Model 1 MSE",
       "version": 1
      }
     },
     "metadata": {
      "scrapbook": {
       "data": true,
       "display": false,
       "name": "ABC-GAN Model 1 MSE"
      }
     },
     "output_type": "display_data"
    },
    {
     "data": {
      "application/scrapbook.scrap.json+json": {
       "data": 0.19827237463369965,
       "encoder": "json",
       "name": "ABC-GAN Model 1 MAE",
       "version": 1
      }
     },
     "metadata": {
      "scrapbook": {
       "data": true,
       "display": false,
       "name": "ABC-GAN Model 1 MAE"
      }
     },
     "output_type": "display_data"
    },
    {
     "data": {
      "application/scrapbook.scrap.json+json": {
       "data": 3.9654474926739933,
       "encoder": "json",
       "name": "ABC-GAN Model 1 Manhattan Distance",
       "version": 1
      }
     },
     "metadata": {
      "scrapbook": {
       "data": true,
       "display": false,
       "name": "ABC-GAN Model 1 Manhattan Distance"
      }
     },
     "output_type": "display_data"
    },
    {
     "data": {
      "application/scrapbook.scrap.json+json": {
       "data": 1.5527843884956716,
       "encoder": "json",
       "name": "ABC-GAN Model 1 Euclidean distance",
       "version": 1
      }
     },
     "metadata": {
      "scrapbook": {
       "data": true,
       "display": false,
       "name": "ABC-GAN Model 1 Euclidean distance"
      }
     },
     "output_type": "display_data"
    },
    {
     "data": {
      "application/scrapbook.scrap.json+json": {
       "data": [
        [
         0.11696585635299343,
         0.13260730586015895,
         0.11989745136857462,
         0.12339614036982591,
         0.11308724013661794,
         0.11517293534492837,
         0.1202267938840352,
         0.11497342378274995,
         0.11546723369465028,
         0.11962211622815837,
         0.13016379744768983,
         0.13943273636715248,
         0.12252612635393226,
         0.12965235724294916,
         0.12828808236918487,
         0.11448753510950112,
         0.1190197958812916,
         0.1148776696325438,
         0.11719065612531207,
         0.13271952325023578,
         0.1257862987285995,
         0.11876093865075636,
         0.11662937617983449,
         0.1310873068779954,
         0.11511311222150677,
         0.12176503599399942,
         0.12117899069229168,
         0.11866997818071426,
         0.11971913025536489,
         0.11792684960460117,
         0.11459757369256492,
         0.13164055781369546,
         0.11673890810672463,
         0.12580234799616724,
         0.11571172178834746,
         0.11963832091009334,
         0.11702032072133825,
         0.11374813840700679,
         0.11646143598170969,
         0.12170178883255969,
         0.11640448872669902,
         0.12149630405574943,
         0.11867315302854964,
         0.11550246556394413,
         0.11594082561504582,
         0.11163482318970616,
         0.11896470511373662,
         0.12208393246635048,
         0.11695873235585721,
         0.12692490662813644,
         0.11462809879683937,
         0.11538765639185448,
         0.11492838100883948,
         0.11606085293195367,
         0.11349295494999365,
         0.12527609017480165,
         0.11447396570730599,
         0.11778329755683155,
         0.11933769514210964,
         0.12762686214232805,
         0.11962207143257705,
         0.12710479668114077,
         0.12575590129043987,
         0.11873167225060159,
         0.12073339629091946,
         0.12180241054330962,
         0.12528785663044353,
         0.12922311908070613,
         0.11762101489460708,
         0.11826355301134048,
         0.12150260017829866,
         0.11386681477073826,
         0.13731524818614502,
         0.1155840159924945,
         0.12593563986504414,
         0.11362205171636486,
         0.11408413650800084,
         0.11555864446374231,
         0.13887596349782455,
         0.13108474594521052,
         0.11826936081110209,
         0.1304142720204779,
         0.1202134277626655,
         0.12540763369868735,
         0.1182588219626973,
         0.12142691761814713,
         0.11470140250655683,
         0.11928237806631636,
         0.1151174163731796,
         0.11683192471134943,
         0.12204464769701326,
         0.13018026761913237,
         0.11790157057611546,
         0.11806038503942484,
         0.1348946979032969,
         0.12290204239195035,
         0.11745763028459281,
         0.11848025768178402,
         0.11258531461559387,
         0.11451105313646837
        ],
        [
         0.19436272755265235,
         0.20480807796120643,
         0.19568133875727653,
         0.19748829305171967,
         0.1897561252117157,
         0.19640985503792763,
         0.2018487799912691,
         0.1934352323412895,
         0.18773755207657813,
         0.20487552173435689,
         0.19757111445069314,
         0.20239867866039277,
         0.1957041174173355,
         0.19357909634709358,
         0.20089037343859673,
         0.19596102386713027,
         0.19476645328104497,
         0.1942547682672739,
         0.19842794239521028,
         0.20291273929178716,
         0.19126248136162757,
         0.19655981697142125,
         0.19216484799981118,
         0.20216867327690125,
         0.19406588114798068,
         0.20365248024463653,
         0.2030887484550476,
         0.2040097028017044,
         0.21018909253180026,
         0.19745950549840927,
         0.19204785898327828,
         0.20509266033768653,
         0.20066995276138186,
         0.20298634730279447,
         0.19325885437428952,
         0.20324615612626076,
         0.19747710414230824,
         0.18775073178112506,
         0.20005425289273263,
         0.2044568620622158,
         0.19923397563397885,
         0.19586083702743054,
         0.20601181052625178,
         0.19468959420919418,
         0.19293868057429792,
         0.19041618146002293,
         0.20496444515883921,
         0.20505912862718106,
         0.19676920473575593,
         0.20176946893334388,
         0.19528653770685195,
         0.1913898054510355,
         0.18970937430858612,
         0.19669829793274402,
         0.18682473972439767,
         0.205352833122015,
         0.18813690021634102,
         0.19752033837139607,
         0.20705350562930108,
         0.19890761896967887,
         0.20119849583134056,
         0.20239408686757088,
         0.20642100721597673,
         0.20118421837687492,
         0.20113853476941584,
         0.20154760256409646,
         0.19650730900466443,
         0.21131307147443296,
         0.20317412689328193,
         0.20279796235263348,
         0.20855856500566006,
         0.18452549614012242,
         0.22047302378341554,
         0.1880982629954815,
         0.19346840307116508,
         0.18684109896421433,
         0.195135011151433,
         0.19013599529862404,
         0.21275278702378272,
         0.20303448289632797,
         0.20097009614109992,
         0.20085301920771598,
         0.20861015655100346,
         0.19790856614708902,
         0.20512966960668563,
         0.20477154664695263,
         0.19938711673021317,
         0.19157849177718161,
         0.1954678427428007,
         0.19773648381233216,
         0.19122629016637802,
         0.19209352768957616,
         0.19610082572326065,
         0.19446370489895343,
         0.190457347035408,
         0.2045432932674885,
         0.19693425260484218,
         0.19748183898627758,
         0.18536782413721084,
         0.19633092731237411
        ],
        [
         3.887254551053047,
         4.096161559224129,
         3.9136267751455307,
         3.9497658610343933,
         3.795122504234314,
         3.9281971007585526,
         4.036975599825382,
         3.8687046468257904,
         3.754751041531563,
         4.097510434687138,
         3.9514222890138626,
         4.047973573207855,
         3.91408234834671,
         3.8715819269418716,
         4.0178074687719345,
         3.9192204773426056,
         3.895329065620899,
         3.885095365345478,
         3.9685588479042053,
         4.058254785835743,
         3.8252496272325516,
         3.931196339428425,
         3.8432969599962234,
         4.043373465538025,
         3.881317622959614,
         4.073049604892731,
         4.061774969100952,
         4.080194056034088,
         4.203781850636005,
         3.9491901099681854,
         3.8409571796655655,
         4.101853206753731,
         4.013399055227637,
         4.059726946055889,
         3.8651770874857903,
         4.064923122525215,
         3.9495420828461647,
         3.7550146356225014,
         4.001085057854652,
         4.089137241244316,
         3.984679512679577,
         3.9172167405486107,
         4.120236210525036,
         3.8937918841838837,
         3.858773611485958,
         3.8083236292004585,
         4.0992889031767845,
         4.101182572543621,
         3.9353840947151184,
         4.035389378666878,
         3.905730754137039,
         3.82779610902071,
         3.7941874861717224,
         3.9339659586548805,
         3.736494794487953,
         4.1070566624403,
         3.7627380043268204,
         3.9504067674279213,
         4.141070112586021,
         3.9781523793935776,
         4.023969916626811,
         4.0478817373514175,
         4.128420144319534,
         4.0236843675374985,
         4.022770695388317,
         4.030952051281929,
         3.9301461800932884,
         4.226261429488659,
         4.063482537865639,
         4.0559592470526695,
         4.171171300113201,
         3.6905099228024483,
         4.409460475668311,
         3.76196525990963,
         3.8693680614233017,
         3.7368219792842865,
         3.90270022302866,
         3.8027199059724808,
         4.255055740475655,
         4.0606896579265594,
         4.019401922821999,
         4.01706038415432,
         4.172203131020069,
         3.95817132294178,
         4.102593392133713,
         4.095430932939053,
         3.9877423346042633,
         3.8315698355436325,
         3.9093568548560143,
         3.954729676246643,
         3.8245258033275604,
         3.841870553791523,
         3.922016514465213,
         3.8892740979790688,
         3.8091469407081604,
         4.09086586534977,
         3.9386850520968437,
         3.9496367797255516,
         3.707356482744217,
         3.9266185462474823
        ],
        [
         1.5294826337882588,
         1.628541100863954,
         1.548531248432363,
         1.5709623825529746,
         1.5039098386314118,
         1.5177149623360005,
         1.550656595665431,
         1.5163998402977357,
         1.5196528136034908,
         1.5467521858924809,
         1.6134670585276278,
         1.669926563458121,
         1.5654144905036,
         1.6102941175012044,
         1.6017995028666032,
         1.513192222485307,
         1.5428531743577651,
         1.5157682516304647,
         1.5309517048248915,
         1.6292300221284644,
         1.5861040238811546,
         1.5411744784465928,
         1.5272810886004873,
         1.619180699477334,
         1.5173207454029407,
         1.5605450073227585,
         1.5567850891647934,
         1.5405841631064123,
         1.5473792699617304,
         1.5357529072386689,
         1.5139192428433224,
         1.6225939591511827,
         1.527998089702501,
         1.5862052073812343,
         1.5212608046508491,
         1.5468569482023433,
         1.529838689021416,
         1.508297970607975,
         1.5261810900526167,
         1.5601396657514972,
         1.5258079087925782,
         1.5588220171382583,
         1.5406047710464201,
         1.5198846374902544,
         1.52276607274424,
         1.494221022404023,
         1.5424960623206572,
         1.5625871653533474,
         1.529436055256036,
         1.5932664976590478,
         1.514120859091766,
         1.5191290688539567,
         1.516102773619516,
         1.523554087861364,
         1.5066051569671042,
         1.582884014543085,
         1.5131025458131118,
         1.5348178885902493,
         1.544912263800826,
         1.5976661863000545,
         1.5467518962818638,
         1.5943951623179293,
         1.5859123638488974,
         1.5409845700110147,
         1.5539201800023026,
         1.560784485720624,
         1.5829583483493401,
         1.6076263190225901,
         1.533760182653123,
         1.5379437766793718,
         1.558862406874312,
         1.5090845885551827,
         1.6571979253314615,
         1.5204210995148317,
         1.5870453041110335,
         1.5074617853621688,
         1.510523991918042,
         1.5202542186341224,
         1.6665891125158867,
         1.6191648831741043,
         1.5379815396232952,
         1.6150187120926984,
         1.550570396742215,
         1.5837148335397213,
         1.5379130142026711,
         1.5583768325931127,
         1.5146049155245525,
         1.54455416263928,
         1.5173491119263198,
         1.5286067166629187,
         1.562335736626499,
         1.613569134677113,
         1.5355882949287902,
         1.5366221724251206,
         1.6425266993464482,
         1.5678140348392748,
         1.5326945572069655,
         1.5393521863549224,
         1.500568656313958,
         1.513347634461219
        ]
       ],
       "encoder": "json",
       "name": "ABC_GAN_1 Metrics",
       "version": 1
      }
     },
     "metadata": {
      "scrapbook": {
       "data": true,
       "display": false,
       "name": "ABC_GAN_1 Metrics"
      }
     },
     "output_type": "display_data"
    },
    {
     "name": "stdout",
     "output_type": "stream",
     "text": [
      "MSE\n",
      "0.1206357017569149\n"
     ]
    }
   ],
   "source": [
    "ABC_GAN1_metrics=ABC_train_test2.test_generator(gen,test_data,prior_model,variance,bias,\"1\",device)\n",
    "sb.glue(\"ABC_GAN_1 Metrics\",ABC_GAN1_metrics)\n",
    "\n",
    "print(\"MSE\")\n",
    "print(mean(ABC_GAN1_metrics[0]))"
   ]
  },
  {
   "cell_type": "code",
   "execution_count": 14,
   "id": "eb22ce5c",
   "metadata": {
    "execution": {
     "iopub.execute_input": "2022-06-07T06:53:53.081294Z",
     "iopub.status.busy": "2022-06-07T06:53:53.080914Z",
     "iopub.status.idle": "2022-06-07T06:53:53.373064Z",
     "shell.execute_reply": "2022-06-07T06:53:53.373484Z"
    },
    "papermill": {
     "duration": 0.306445,
     "end_time": "2022-06-07T06:53:53.373613",
     "exception": false,
     "start_time": "2022-06-07T06:53:53.067168",
     "status": "completed"
    },
    "tags": []
   },
   "outputs": [
    {
     "data": {
      "image/png": "[encoded data removed]",
      "text/plain": [
       "<Figure size 432x288 with 1 Axes>"
      ]
     },
     "metadata": {
      "needs_background": "light"
     },
     "output_type": "display_data"
    },
    {
     "data": {
      "image/png": "[encoded data removed]",
      "text/plain": [
       "<Figure size 432x288 with 1 Axes>"
      ]
     },
     "metadata": {
      "needs_background": "light"
     },
     "output_type": "display_data"
    },
    {
     "data": {
      "image/png": "[encoded data removed]",
      "text/plain": [
       "<Figure size 432x288 with 1 Axes>"
      ]
     },
     "metadata": {
      "needs_background": "light"
     },
     "output_type": "display_data"
    },
    {
     "data": {
      "image/png": "[encoded data removed]",
      "text/plain": [
       "<Figure size 432x288 with 1 Axes>"
      ]
     },
     "metadata": {
      "needs_background": "light"
     },
     "output_type": "display_data"
    }
   ],
   "source": [
    "sanityChecks.discProbVsError(train_data,disc,device)\n",
    "sanityChecks.discProbVsError(test_data,disc,device)"
   ]
  },
  {
   "cell_type": "markdown",
   "id": "130f3a4d",
   "metadata": {
    "id": "130f3a4d",
    "papermill": {
     "duration": 0.035538,
     "end_time": "2022-06-07T06:53:53.423575",
     "exception": false,
     "start_time": "2022-06-07T06:53:53.388037",
     "status": "completed"
    },
    "tags": []
   },
   "source": [
    "# ABC - GAN Model with skip connection"
   ]
  },
  {
   "cell_type": "code",
   "execution_count": 15,
   "id": "4e43dad1",
   "metadata": {
    "execution": {
     "iopub.execute_input": "2022-06-07T06:53:53.455209Z",
     "iopub.status.busy": "2022-06-07T06:53:53.454844Z",
     "iopub.status.idle": "2022-06-07T06:53:53.457334Z",
     "shell.execute_reply": "2022-06-07T06:53:53.457584Z"
    },
    "id": "4e43dad1",
    "papermill": {
     "duration": 0.019846,
     "end_time": "2022-06-07T06:53:53.457697",
     "exception": false,
     "start_time": "2022-06-07T06:53:53.437851",
     "status": "completed"
    },
    "tags": []
   },
   "outputs": [],
   "source": [
    "#Generator\n",
    "gen3 = network.GeneratorWithSkipConnection(n_features+1).to(device)\n",
    "constraints=network.weightConstraint()\n",
    "#Discriminator \n",
    "disc3 = network.Discriminator(n_features+1).to(device)\n",
    "\n",
    "criterion = torch.nn.BCELoss()\n",
    "gen_opt = torch.optim.Adam(gen3.parameters(), lr=0.001, betas=(0.5, 0.999))\n",
    "disc_opt = torch.optim.Adam(disc3.parameters(), lr=0.001, betas=(0.5, 0.999))\n"
   ]
  },
  {
   "cell_type": "code",
   "execution_count": 16,
   "id": "26acbc37",
   "metadata": {
    "execution": {
     "iopub.execute_input": "2022-06-07T06:53:53.488794Z",
     "iopub.status.busy": "2022-06-07T06:53:53.488424Z",
     "iopub.status.idle": "2022-06-07T06:54:30.597387Z",
     "shell.execute_reply": "2022-06-07T06:54:30.597714Z"
    },
    "id": "26acbc37",
    "papermill": {
     "duration": 37.12571,
     "end_time": "2022-06-07T06:54:30.597838",
     "exception": false,
     "start_time": "2022-06-07T06:53:53.472128",
     "status": "completed"
    },
    "tags": []
   },
   "outputs": [
    {
     "data": {
      "image/png": "[encoded data removed]",
      "text/plain": [
       "<Figure size 432x288 with 1 Axes>"
      ]
     },
     "metadata": {
      "needs_background": "light"
     },
     "output_type": "display_data"
    },
    {
     "data": {
      "image/png": "[encoded data removed]",
      "text/plain": [
       "<Figure size 432x288 with 1 Axes>"
      ]
     },
     "metadata": {
      "needs_background": "light"
     },
     "output_type": "display_data"
    }
   ],
   "source": [
    "ABC_train_test2.training_GAN_skip_connection(disc3,gen3,disc_opt,gen_opt,train_data,batch_size,n_epochs,criterion,prior_model,variance,bias,device)"
   ]
  },
  {
   "cell_type": "code",
   "execution_count": 17,
   "id": "c5e0717b",
   "metadata": {
    "execution": {
     "iopub.execute_input": "2022-06-07T06:54:30.631678Z",
     "iopub.status.busy": "2022-06-07T06:54:30.631298Z",
     "iopub.status.idle": "2022-06-07T06:54:30.913235Z",
     "shell.execute_reply": "2022-06-07T06:54:30.913535Z"
    },
    "id": "c5e0717b",
    "papermill": {
     "duration": 0.300116,
     "end_time": "2022-06-07T06:54:30.913658",
     "exception": false,
     "start_time": "2022-06-07T06:54:30.613542",
     "status": "completed"
    },
    "tags": []
   },
   "outputs": [
    {
     "data": {
      "application/scrapbook.scrap.json+json": {
       "data": 0.06079643823768716,
       "encoder": "json",
       "name": "ABC-GAN Model 3 MSE",
       "version": 1
      }
     },
     "metadata": {
      "scrapbook": {
       "data": true,
       "display": false,
       "name": "ABC-GAN Model 3 MSE"
      }
     },
     "output_type": "display_data"
    },
    {
     "data": {
      "application/scrapbook.scrap.json+json": {
       "data": 0.1465659518316388,
       "encoder": "json",
       "name": "ABC-GAN Model 3 MAE",
       "version": 1
      }
     },
     "metadata": {
      "scrapbook": {
       "data": true,
       "display": false,
       "name": "ABC-GAN Model 3 MAE"
      }
     },
     "output_type": "display_data"
    },
    {
     "data": {
      "application/scrapbook.scrap.json+json": {
       "data": 2.931319036632776,
       "encoder": "json",
       "name": "ABC-GAN Model 3 Manhattan Distance",
       "version": 1
      }
     },
     "metadata": {
      "scrapbook": {
       "data": true,
       "display": false,
       "name": "ABC-GAN Model 3 Manhattan Distance"
      }
     },
     "output_type": "display_data"
    },
    {
     "data": {
      "application/scrapbook.scrap.json+json": {
       "data": 1.1012590978869476,
       "encoder": "json",
       "name": "ABC-GAN Model 3 Euclidean distance",
       "version": 1
      }
     },
     "metadata": {
      "scrapbook": {
       "data": true,
       "display": false,
       "name": "ABC-GAN Model 3 Euclidean distance"
      }
     },
     "output_type": "display_data"
    },
    {
     "data": {
      "application/scrapbook.scrap.json+json": {
       "data": [
        [
         0.08800951673593546,
         0.053331076448126145,
         0.06669621661195815,
         0.06062983909721752,
         0.053630813740653004,
         0.06833268383819222,
         0.05694533199337391,
         0.05897367256099771,
         0.054530725534160794,
         0.06009127625493654,
         0.05341584017672592,
         0.0630007974906137,
         0.056964450293408256,
         0.07080245093219716,
         0.0703198422221192,
         0.05978637791642133,
         0.05558407629423708,
         0.060765204997324296,
         0.06018043967683732,
         0.057429470089393184,
         0.055399954475187696,
         0.06061994824095544,
         0.06670255119443333,
         0.06293871507346463,
         0.06434483976348691,
         0.05608072806138161,
         0.05071118160233022,
         0.05482463270747652,
         0.0729858592429382,
         0.052321531259079845,
         0.059534655992370775,
         0.056762760855906425,
         0.058116181365259964,
         0.06453939405780813,
         0.05409634359125518,
         0.058908089645175674,
         0.06075636779615791,
         0.05580979044488517,
         0.059206123299921906,
         0.05335737720062309,
         0.06132485807533169,
         0.06732152908112224,
         0.06409460891081131,
         0.06800096260344357,
         0.06245279434029184,
         0.05298265938361959,
         0.06488679548446646,
         0.05819510741762855,
         0.060000050034038285,
         0.06550052182826768,
         0.05985788963769205,
         0.05636890476640238,
         0.06938905869189806,
         0.06785397029456294,
         0.05717024934814406,
         0.05454066164086292,
         0.06084586521992373,
         0.05874750887237642,
         0.060989593571891966,
         0.05930274717447633,
         0.05208965153102557,
         0.057752315780674114,
         0.07530869776159949,
         0.06290981205698296,
         0.053457234325501826,
         0.053797724708773476,
         0.05004363331486824,
         0.0568128981580898,
         0.056706706300623765,
         0.05589313727055924,
         0.05931816515796469,
         0.06670732888815183,
         0.05495199996395471,
         0.06113851017507067,
         0.06893192560808545,
         0.060340567009780334,
         0.07338792974868288,
         0.07022123002368622,
         0.053695061723839276,
         0.06283440899664358,
         0.06029122921092178,
         0.07054520225940827,
         0.05615832412980384,
         0.05686114987812688,
         0.0612234980999223,
         0.05391685662717059,
         0.060952223745348255,
         0.05805014144694309,
         0.060922404288377606,
         0.06100984206879796,
         0.07464605857436023,
         0.06370711351110331,
         0.057842304543140675,
         0.07429085885947,
         0.06890202380498492,
         0.05841506140637235,
         0.061295946863897985,
         0.05833404794499921,
         0.06057109023431105,
         0.058146042614518376
        ],
        [
         0.1565929226577282,
         0.1325836457312107,
         0.15197853036224843,
         0.14264550879597665,
         0.13426582887768745,
         0.15320211872458459,
         0.14401391074061393,
         0.14357394948601723,
         0.13339218124747276,
         0.15796246007084846,
         0.13403259105980397,
         0.1440417505800724,
         0.1519318364560604,
         0.15624069347977637,
         0.15697722062468528,
         0.15454674735665322,
         0.14001710787415506,
         0.1407884582877159,
         0.15562597438693046,
         0.14996015690267087,
         0.13905215933918952,
         0.15974369011819362,
         0.1482360117137432,
         0.12842624709010125,
         0.16370019391179086,
         0.14728292152285577,
         0.12741166576743126,
         0.12781544849276544,
         0.1712918646633625,
         0.13112999573349954,
         0.15334677435457705,
         0.1425718553364277,
         0.1490160621702671,
         0.15024119317531587,
         0.1384592555463314,
         0.14548437669873238,
         0.12829974815249442,
         0.1446999803185463,
         0.134214199334383,
         0.13194244131445884,
         0.16471003815531732,
         0.15828122422099114,
         0.1426421120762825,
         0.16082136780023576,
         0.14046999886631967,
         0.13035029619932176,
         0.147238177806139,
         0.14036800637841224,
         0.14985733106732368,
         0.14046818837523461,
         0.16025593765079976,
         0.1394732691347599,
         0.16035863682627677,
         0.1644184894859791,
         0.15203722789883614,
         0.1297701694071293,
         0.14906822815537452,
         0.14878683760762215,
         0.15655951127409934,
         0.14660105481743813,
         0.1284404493868351,
         0.14988158121705056,
         0.16770387217402458,
         0.1456401538103819,
         0.13424838967621328,
         0.1324898324906826,
         0.1184029720723629,
         0.14307517036795617,
         0.14484598115086555,
         0.14902802780270577,
         0.1364828646183014,
         0.15344992876052857,
         0.13828211650252342,
         0.1424061708152294,
         0.17125596329569817,
         0.14744697585701944,
         0.1656757526099682,
         0.1607463054358959,
         0.1361218847334385,
         0.15573872700333596,
         0.14438338875770568,
         0.1499250315129757,
         0.14982378035783767,
         0.1400025852024555,
         0.1299040697515011,
         0.12852645590901374,
         0.15241780132055283,
         0.14701723195612432,
         0.14732333086431026,
         0.1494657427072525,
         0.1648660995066166,
         0.14074805453419686,
         0.13838473707437515,
         0.18555199690163135,
         0.15409881323575975,
         0.14553250148892402,
         0.13995678573846818,
         0.1572631124407053,
         0.1570299245417118,
         0.13373483791947366
        ],
        [
         3.131858453154564,
         2.651672914624214,
         3.0395706072449684,
         2.8529101759195328,
         2.685316577553749,
         3.0640423744916916,
         2.8802782148122787,
         2.8714789897203445,
         2.6678436249494553,
         3.1592492014169693,
         2.6806518211960793,
         2.880835011601448,
         3.038636729121208,
         3.1248138695955276,
         3.1395444124937057,
         3.0909349471330643,
         2.800342157483101,
         2.8157691657543182,
         3.1125194877386093,
         2.999203138053417,
         2.7810431867837906,
         3.1948738023638725,
         2.964720234274864,
         2.568524941802025,
         3.274003878235817,
         2.945658430457115,
         2.548233315348625,
         2.5563089698553085,
         3.42583729326725,
         2.6225999146699905,
         3.0669354870915413,
         2.8514371067285538,
         2.980321243405342,
         3.004823863506317,
         2.769185110926628,
         2.9096875339746475,
         2.5659949630498886,
         2.893999606370926,
         2.68428398668766,
         2.638848826289177,
         3.294200763106346,
         3.1656244844198227,
         2.85284224152565,
         3.216427356004715,
         2.809399977326393,
         2.607005923986435,
         2.94476355612278,
         2.807360127568245,
         2.9971466213464737,
         2.809363767504692,
         3.205118753015995,
         2.789465382695198,
         3.2071727365255356,
         3.2883697897195816,
         3.0407445579767227,
         2.5954033881425858,
         2.9813645631074905,
         2.975736752152443,
         3.131190225481987,
         2.9320210963487625,
         2.568808987736702,
         2.997631624341011,
         3.3540774434804916,
         2.912803076207638,
         2.6849677935242653,
         2.649796649813652,
         2.368059441447258,
         2.8615034073591232,
         2.896919623017311,
         2.9805605560541153,
         2.729657292366028,
         3.0689985752105713,
         2.7656423300504684,
         2.8481234163045883,
         3.4251192659139633,
         2.9489395171403885,
         3.3135150521993637,
         3.2149261087179184,
         2.72243769466877,
         3.114774540066719,
         2.8876677751541138,
         2.998500630259514,
         2.9964756071567535,
         2.8000517040491104,
         2.5980813950300217,
         2.570529118180275,
         3.0483560264110565,
         2.940344639122486,
         2.9464666172862053,
         2.98931485414505,
         3.297321990132332,
         2.814961090683937,
         2.767694741487503,
         3.711039938032627,
         3.0819762647151947,
         2.9106500297784805,
         2.7991357147693634,
         3.145262248814106,
         3.140598490834236,
         2.674696758389473
        ],
        [
         1.326721649299019,
         1.0327737065604077,
         1.1549564200605853,
         1.1011797228174656,
         1.035671895347682,
         1.1690396386623698,
         1.067195689584379,
         1.0860356583556334,
         1.0443249066661275,
         1.0962780327538861,
         1.0335941193401395,
         1.12250432062076,
         1.0673748197649058,
         1.1899785790693642,
         1.1859160360001817,
         1.0934932822511654,
         1.0543630901566792,
         1.1024083181591502,
         1.0970910598198977,
         1.0717226328616298,
         1.0526153568629681,
         1.1010898986091504,
         1.1550112656977276,
         1.1219511136717557,
         1.1344147368884707,
         1.0590630581923024,
         1.0070867053271055,
         1.0471354516725764,
         1.2081875619533433,
         1.022951917336097,
         1.0911888561781666,
         1.0654835602289359,
         1.0781111386611304,
         1.136128461555366,
         1.0401571380445858,
         1.085431615949855,
         1.1023281525585555,
         1.056501684285313,
         1.0881739134892172,
         1.0330283365002442,
         1.1074733231580045,
         1.1603579540910833,
         1.1322067736134713,
         1.16619863319628,
         1.1176116887389094,
         1.0293945733645538,
         1.139182123143323,
         1.078842967420454,
         1.0954455717564273,
         1.1445568734516225,
         1.0941470617580806,
         1.061780624859979,
         1.1780412445402584,
         1.16493751158217,
         1.0693011675682773,
         1.0444200461582775,
         1.1031397483539764,
         1.0839511877605599,
         1.1044418823269242,
         1.0890614966518313,
         1.0206826297241036,
         1.0747308107677394,
         1.2272627898017563,
         1.1216934702224397,
         1.0339945292456998,
         1.037282263501825,
         1.0004362379968874,
         1.0659540155005731,
         1.0649573353015018,
         1.05729028436432,
         1.0892030587357409,
         1.1550526298671575,
         1.0483510858863525,
         1.105789402870824,
         1.1741543817410507,
         1.0985496530405927,
         1.2115108728251915,
         1.1850842166165763,
         1.0362920604138515,
         1.1210210434835162,
         1.0981004435926778,
         1.1878148194008042,
         1.0597954909302438,
         1.0664065817325667,
         1.1065577083905052,
         1.0384301288692523,
         1.1041034711053874,
         1.0774984124994624,
         1.1038333596007832,
         1.1046252040289317,
         1.221851534142837,
         1.1287791060353953,
         1.075567799286876,
         1.218941006443462,
         1.1738996874093195,
         1.0808798398191388,
         1.1072122367811692,
         1.0801300657328192,
         1.1006460851182913,
         1.078388080558371
        ]
       ],
       "encoder": "json",
       "name": "ABC_GAN_3 Metrics",
       "version": 1
      }
     },
     "metadata": {
      "scrapbook": {
       "data": true,
       "display": false,
       "name": "ABC_GAN_3 Metrics"
      }
     },
     "output_type": "display_data"
    },
    {
     "name": "stdout",
     "output_type": "stream",
     "text": [
      "MSE\n",
      "0.06079643823768716\n"
     ]
    }
   ],
   "source": [
    "ABC_GAN3_metrics=ABC_train_test2.test_generator(gen3,test_data,prior_model,variance,bias,\"3\",device)\n",
    "sb.glue(\"ABC_GAN_3 Metrics\",ABC_GAN3_metrics)\n",
    "\n",
    "print(\"MSE\")\n",
    "print(mean(ABC_GAN3_metrics[0]))"
   ]
  },
  {
   "cell_type": "code",
   "execution_count": 18,
   "id": "c8e46b48",
   "metadata": {
    "execution": {
     "iopub.execute_input": "2022-06-07T06:54:30.949731Z",
     "iopub.status.busy": "2022-06-07T06:54:30.949366Z",
     "iopub.status.idle": "2022-06-07T06:54:31.230731Z",
     "shell.execute_reply": "2022-06-07T06:54:31.231025Z"
    },
    "id": "c8e46b48",
    "papermill": {
     "duration": 0.300443,
     "end_time": "2022-06-07T06:54:31.231146",
     "exception": false,
     "start_time": "2022-06-07T06:54:30.930703",
     "status": "completed"
    },
    "tags": []
   },
   "outputs": [
    {
     "data": {
      "image/png": "[encoded data removed]",
      "text/plain": [
       "<Figure size 432x288 with 1 Axes>"
      ]
     },
     "metadata": {
      "needs_background": "light"
     },
     "output_type": "display_data"
    },
    {
     "data": {
      "image/png": "[encoded data removed]",
      "text/plain": [
       "<Figure size 432x288 with 1 Axes>"
      ]
     },
     "metadata": {
      "needs_background": "light"
     },
     "output_type": "display_data"
    },
    {
     "data": {
      "image/png": "[encoded data removed]",
      "text/plain": [
       "<Figure size 432x288 with 1 Axes>"
      ]
     },
     "metadata": {
      "needs_background": "light"
     },
     "output_type": "display_data"
    },
    {
     "data": {
      "image/png": "[encoded data removed]",
      "text/plain": [
       "<Figure size 432x288 with 1 Axes>"
      ]
     },
     "metadata": {
      "needs_background": "light"
     },
     "output_type": "display_data"
    }
   ],
   "source": [
    "sanityChecks.discProbVsError(train_data,disc3,device)\n",
    "sanityChecks.discProbVsError(test_data,disc3,device)"
   ]
  },
  {
   "cell_type": "markdown",
   "id": "a5bd74c3",
   "metadata": {
    "id": "a5bd74c3",
    "papermill": {
     "duration": 0.019548,
     "end_time": "2022-06-07T06:54:31.270088",
     "exception": false,
     "start_time": "2022-06-07T06:54:31.250540",
     "status": "completed"
    },
    "tags": []
   },
   "source": [
    "## Skip Connection Model Analysis - ABC-GAN "
   ]
  },
  {
   "cell_type": "markdown",
   "id": "5744a8bf",
   "metadata": {
    "id": "5744a8bf",
    "papermill": {
     "duration": 0.018665,
     "end_time": "2022-06-07T06:54:31.307617",
     "exception": false,
     "start_time": "2022-06-07T06:54:31.288952",
     "status": "completed"
    },
    "tags": []
   },
   "source": [
    "### Weight Analysis \n",
    "\n",
    "Study the weights of the skip connection layer\n",
    "\n",
    "Equation of the skip connection is \n",
    "\n",
    "$output = y_{gan} * w + y_{abc} * (1-w)$"
   ]
  },
  {
   "cell_type": "code",
   "execution_count": 19,
   "id": "52c31dea",
   "metadata": {
    "execution": {
     "iopub.execute_input": "2022-06-07T06:54:31.348029Z",
     "iopub.status.busy": "2022-06-07T06:54:31.347640Z",
     "iopub.status.idle": "2022-06-07T06:54:31.351098Z",
     "shell.execute_reply": "2022-06-07T06:54:31.351341Z"
    },
    "id": "52c31dea",
    "papermill": {
     "duration": 0.025106,
     "end_time": "2022-06-07T06:54:31.351452",
     "exception": false,
     "start_time": "2022-06-07T06:54:31.326346",
     "status": "completed"
    },
    "tags": []
   },
   "outputs": [
    {
     "name": "stdout",
     "output_type": "stream",
     "text": [
      "Weight of the node at skip connection\n",
      "Parameter containing:\n",
      "tensor([[0.1376]], requires_grad=True)\n"
     ]
    },
    {
     "data": {
      "application/scrapbook.scrap.json+json": {
       "data": 0.1376115083694458,
       "encoder": "json",
       "name": "Skip Connection Weight",
       "version": 1
      }
     },
     "metadata": {
      "scrapbook": {
       "data": true,
       "display": false,
       "name": "Skip Connection Weight"
      }
     },
     "output_type": "display_data"
    }
   ],
   "source": [
    "print(\"Weight of the node at skip connection\")\n",
    "for name,param in gen3.named_parameters():\n",
    "    if(name == \"skipNode.weight\"):\n",
    "        print(param)\n",
    "        sb.glue(\"Skip Connection Weight\",param.item())"
   ]
  }
 ],
 "metadata": {
  "colab": {
   "collapsed_sections": [],
   "name": "ABC_GAN_Model-Catboost_Pre-gen.ipynb",
   "provenance": []
  },
  "interpreter": {
   "hash": "31f2aee4e71d21fbe5cf8b01ff0e069b9275f58929596ceb00d14d90e3e16cd6"
  },
  "kernelspec": {
   "display_name": "Python 3 (ipykernel)",
   "language": "python",
   "name": "python3"
  },
  "language_info": {
   "codemirror_mode": {
    "name": "ipython",
    "version": 3
   },
   "file_extension": ".py",
   "mimetype": "text/x-python",
   "name": "python",
   "nbconvert_exporter": "python",
   "pygments_lexer": "ipython3",
   "version": "3.8.11"
  },
  "papermill": {
   "default_parameters": {},
   "duration": 56.106571,
   "end_time": "2022-06-07T06:54:31.680066",
   "environment_variables": {},
   "exception": null,
   "input_path": "ABC_GAN-Catboost.ipynb",
   "output_path": "./ABC_GAN_Catboost/ABC-GAN_output_7_6.ipynb",
   "parameters": {
    "bias": 0.01,
    "variance": 1
   },
   "start_time": "2022-06-07T06:53:35.573495",
   "version": "2.3.3"
  }
 },
 "nbformat": 4,
 "nbformat_minor": 5
}