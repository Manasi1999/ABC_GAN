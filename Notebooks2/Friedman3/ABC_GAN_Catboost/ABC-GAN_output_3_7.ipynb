{
 "cells": [
  {
   "cell_type": "markdown",
   "id": "622780e6",
   "metadata": {
    "id": "622780e6",
    "papermill": {
     "duration": 0.029994,
     "end_time": "2022-06-07T06:20:31.045697",
     "exception": false,
     "start_time": "2022-06-07T06:20:31.015703",
     "status": "completed"
    },
    "tags": []
   },
   "source": [
    "## Import Libraries "
   ]
  },
  {
   "cell_type": "code",
   "execution_count": 1,
   "id": "a62397e3",
   "metadata": {
    "execution": {
     "iopub.execute_input": "2022-06-07T06:20:31.086090Z",
     "iopub.status.busy": "2022-06-07T06:20:31.085459Z",
     "iopub.status.idle": "2022-06-07T06:20:31.087883Z",
     "shell.execute_reply": "2022-06-07T06:20:31.088253Z"
    },
    "id": "a62397e3",
    "papermill": {
     "duration": 0.02433,
     "end_time": "2022-06-07T06:20:31.088478",
     "exception": false,
     "start_time": "2022-06-07T06:20:31.064148",
     "status": "completed"
    },
    "tags": []
   },
   "outputs": [],
   "source": [
    "import warnings\n",
    "import sys\n",
    "sys.path.insert(0, '../../src')\n",
    "warnings.filterwarnings('ignore')"
   ]
  },
  {
   "cell_type": "code",
   "execution_count": 2,
   "id": "d6a4e155",
   "metadata": {
    "execution": {
     "iopub.execute_input": "2022-06-07T06:20:31.110025Z",
     "iopub.status.busy": "2022-06-07T06:20:31.109612Z",
     "iopub.status.idle": "2022-06-07T06:20:33.014065Z",
     "shell.execute_reply": "2022-06-07T06:20:33.014315Z"
    },
    "id": "d6a4e155",
    "papermill": {
     "duration": 1.916012,
     "end_time": "2022-06-07T06:20:33.014437",
     "exception": false,
     "start_time": "2022-06-07T06:20:31.098425",
     "status": "completed"
    },
    "tags": []
   },
   "outputs": [],
   "source": [
    "import ABC_train_test2\n",
    "import friedman1Dataset\n",
    "import network\n",
    "import dataset\n",
    "import sanityChecks\n",
    "import torch \n",
    "import scrapbook as sb\n",
    "from statistics import mean \n",
    "import catboost as ctb \n",
    "from sklearn.model_selection import train_test_split\n",
    "from sklearn.metrics import mean_squared_error,mean_absolute_error\n",
    "import numpy as np"
   ]
  },
  {
   "cell_type": "markdown",
   "id": "2fa5b0f7",
   "metadata": {
    "id": "2fa5b0f7",
    "papermill": {
     "duration": 0.006887,
     "end_time": "2022-06-07T06:20:33.028610",
     "exception": false,
     "start_time": "2022-06-07T06:20:33.021723",
     "status": "completed"
    },
    "tags": []
   },
   "source": [
    "## Parameters "
   ]
  },
  {
   "cell_type": "code",
   "execution_count": 3,
   "id": "783186fb",
   "metadata": {
    "execution": {
     "iopub.execute_input": "2022-06-07T06:20:33.045088Z",
     "iopub.status.busy": "2022-06-07T06:20:33.044673Z",
     "iopub.status.idle": "2022-06-07T06:20:33.045998Z",
     "shell.execute_reply": "2022-06-07T06:20:33.046249Z"
    },
    "id": "783186fb",
    "papermill": {
     "duration": 0.010634,
     "end_time": "2022-06-07T06:20:33.046362",
     "exception": false,
     "start_time": "2022-06-07T06:20:33.035728",
     "status": "completed"
    },
    "tags": [
     "parameters"
    ]
   },
   "outputs": [],
   "source": [
    "variance = 1\n",
    "bias = 1 "
   ]
  },
  {
   "cell_type": "code",
   "execution_count": 4,
   "id": "15a8d6ff",
   "metadata": {
    "execution": {
     "iopub.execute_input": "2022-06-07T06:20:33.062277Z",
     "iopub.status.busy": "2022-06-07T06:20:33.061905Z",
     "iopub.status.idle": "2022-06-07T06:20:33.063149Z",
     "shell.execute_reply": "2022-06-07T06:20:33.063379Z"
    },
    "papermill": {
     "duration": 0.010035,
     "end_time": "2022-06-07T06:20:33.063489",
     "exception": false,
     "start_time": "2022-06-07T06:20:33.053454",
     "status": "completed"
    },
    "tags": [
     "injected-parameters"
    ]
   },
   "outputs": [],
   "source": [
    "# Parameters\n",
    "variance = 0.1\n",
    "bias = 0.01\n"
   ]
  },
  {
   "cell_type": "markdown",
   "id": "391cdbfd",
   "metadata": {
    "id": "391cdbfd",
    "papermill": {
     "duration": 0.007343,
     "end_time": "2022-06-07T06:20:33.083411",
     "exception": false,
     "start_time": "2022-06-07T06:20:33.076068",
     "status": "completed"
    },
    "tags": []
   },
   "source": [
    "## Dataset \n"
   ]
  },
  {
   "cell_type": "code",
   "execution_count": 5,
   "id": "5b51f161",
   "metadata": {
    "execution": {
     "iopub.execute_input": "2022-06-07T06:20:33.100142Z",
     "iopub.status.busy": "2022-06-07T06:20:33.099778Z",
     "iopub.status.idle": "2022-06-07T06:20:33.101115Z",
     "shell.execute_reply": "2022-06-07T06:20:33.101359Z"
    },
    "id": "5b51f161",
    "papermill": {
     "duration": 0.010909,
     "end_time": "2022-06-07T06:20:33.101470",
     "exception": false,
     "start_time": "2022-06-07T06:20:33.090561",
     "status": "completed"
    },
    "tags": []
   },
   "outputs": [],
   "source": [
    "#Parameters \n",
    "n_features = 5\n",
    "n_samples= 100\n",
    "n_target = 1 "
   ]
  },
  {
   "cell_type": "code",
   "execution_count": 6,
   "id": "5d6eced4",
   "metadata": {
    "execution": {
     "iopub.execute_input": "2022-06-07T06:20:33.118787Z",
     "iopub.status.busy": "2022-06-07T06:20:33.118407Z",
     "iopub.status.idle": "2022-06-07T06:20:33.123381Z",
     "shell.execute_reply": "2022-06-07T06:20:33.123628Z"
    },
    "id": "5d6eced4",
    "papermill": {
     "duration": 0.015281,
     "end_time": "2022-06-07T06:20:33.123737",
     "exception": false,
     "start_time": "2022-06-07T06:20:33.108456",
     "status": "completed"
    },
    "tags": []
   },
   "outputs": [
    {
     "name": "stdout",
     "output_type": "stream",
     "text": [
      "         X0        X1        X2        X3        X4         Y\n",
      "0 -1.348538  1.869589 -1.206351 -0.536609 -0.737280 -0.843670\n",
      "1 -0.899305  1.846355 -1.619912 -0.382441  0.217385  0.825101\n",
      "2  0.024590 -0.240432  0.334762  1.967942  1.608903  1.593435\n",
      "3 -1.364908 -1.319143 -1.053596 -1.034386  0.848537 -1.301190\n",
      "4  1.513892 -1.257404 -1.603299 -0.436899  1.521373  0.856862\n"
     ]
    }
   ],
   "source": [
    "X,Y = friedman1Dataset.friedman1_data(n_samples,n_features)"
   ]
  },
  {
   "cell_type": "code",
   "execution_count": 7,
   "id": "fe007438",
   "metadata": {
    "execution": {
     "iopub.execute_input": "2022-06-07T06:20:33.141683Z",
     "iopub.status.busy": "2022-06-07T06:20:33.141307Z",
     "iopub.status.idle": "2022-06-07T06:20:33.142566Z",
     "shell.execute_reply": "2022-06-07T06:20:33.142803Z"
    },
    "id": "fe007438",
    "papermill": {
     "duration": 0.011736,
     "end_time": "2022-06-07T06:20:33.142915",
     "exception": false,
     "start_time": "2022-06-07T06:20:33.131179",
     "status": "completed"
    },
    "tags": []
   },
   "outputs": [],
   "source": [
    "#Train test split for dataset \n",
    "X_train,X_test,Y_train,Y_test = train_test_split(X,Y,test_size = 0.2)\n",
    "train_data = dataset.CustomDataset(X_train,Y_train)\n",
    "test_data = dataset.CustomDataset(X_test,Y_test)\n"
   ]
  },
  {
   "cell_type": "markdown",
   "id": "a9a1af34",
   "metadata": {
    "id": "a9a1af34",
    "papermill": {
     "duration": 0.00713,
     "end_time": "2022-06-07T06:20:33.157363",
     "exception": false,
     "start_time": "2022-06-07T06:20:33.150233",
     "status": "completed"
    },
    "tags": []
   },
   "source": [
    "## Training Parameters "
   ]
  },
  {
   "cell_type": "code",
   "execution_count": 8,
   "id": "952b7fc8",
   "metadata": {
    "execution": {
     "iopub.execute_input": "2022-06-07T06:20:33.174384Z",
     "iopub.status.busy": "2022-06-07T06:20:33.174028Z",
     "iopub.status.idle": "2022-06-07T06:20:33.175278Z",
     "shell.execute_reply": "2022-06-07T06:20:33.175522Z"
    },
    "id": "952b7fc8",
    "papermill": {
     "duration": 0.011134,
     "end_time": "2022-06-07T06:20:33.175634",
     "exception": false,
     "start_time": "2022-06-07T06:20:33.164500",
     "status": "completed"
    },
    "tags": []
   },
   "outputs": [],
   "source": [
    "batch_size = 32\n",
    "n_epochs = 1000\n",
    "#Select the device \n",
    "device = torch.device('cuda' if torch.cuda.is_available() else 'cpu')"
   ]
  },
  {
   "cell_type": "markdown",
   "id": "a95e1600",
   "metadata": {
    "id": "a95e1600",
    "papermill": {
     "duration": 0.007127,
     "end_time": "2022-06-07T06:20:33.190142",
     "exception": false,
     "start_time": "2022-06-07T06:20:33.183015",
     "status": "completed"
    },
    "tags": []
   },
   "source": [
    "# ABC Pre-generator Model \n",
    "\n",
    "1. The catboost model is used as a pre-generator model for the ABC-GAN. \n",
    "2. The model is first trained on the entire dataset \n",
    "3. It generats X,Y pairs and we add some Gaussian noise with mean 0 and variance 1 to it which is then feed as input to the generator.\n"
   ]
  },
  {
   "cell_type": "code",
   "execution_count": 9,
   "id": "ff8ce7bd",
   "metadata": {
    "execution": {
     "iopub.execute_input": "2022-06-07T06:20:33.208452Z",
     "iopub.status.busy": "2022-06-07T06:20:33.208082Z",
     "iopub.status.idle": "2022-06-07T06:20:33.826811Z",
     "shell.execute_reply": "2022-06-07T06:20:33.827072Z"
    },
    "id": "ff8ce7bd",
    "papermill": {
     "duration": 0.62977,
     "end_time": "2022-06-07T06:20:33.827199",
     "exception": false,
     "start_time": "2022-06-07T06:20:33.197429",
     "status": "completed"
    },
    "tags": []
   },
   "outputs": [
    {
     "name": "stdout",
     "output_type": "stream",
     "text": [
      "Learning rate set to 0.024897\n",
      "0:\tlearn: 0.9302710\ttotal: 60.5ms\tremaining: 1m\n",
      "1:\tlearn: 0.9221105\ttotal: 61.1ms\tremaining: 30.5s\n",
      "2:\tlearn: 0.9147472\ttotal: 61.6ms\tremaining: 20.5s\n",
      "3:\tlearn: 0.9043454\ttotal: 62.1ms\tremaining: 15.5s\n",
      "4:\tlearn: 0.8970276\ttotal: 62.7ms\tremaining: 12.5s\n",
      "5:\tlearn: 0.8890783\ttotal: 63.2ms\tremaining: 10.5s\n",
      "6:\tlearn: 0.8795051\ttotal: 63.6ms\tremaining: 9.03s\n",
      "7:\tlearn: 0.8716698\ttotal: 64ms\tremaining: 7.94s\n",
      "8:\tlearn: 0.8638503\ttotal: 64.5ms\tremaining: 7.1s\n",
      "9:\tlearn: 0.8561397\ttotal: 64.9ms\tremaining: 6.42s\n",
      "10:\tlearn: 0.8482674\ttotal: 65.5ms\tremaining: 5.88s\n",
      "11:\tlearn: 0.8412315\ttotal: 66ms\tremaining: 5.43s\n",
      "12:\tlearn: 0.8335388\ttotal: 66.5ms\tremaining: 5.05s\n",
      "13:\tlearn: 0.8256090\ttotal: 66.9ms\tremaining: 4.71s\n",
      "14:\tlearn: 0.8183793\ttotal: 67.3ms\tremaining: 4.42s\n",
      "15:\tlearn: 0.8090223\ttotal: 67.8ms\tremaining: 4.17s\n",
      "16:\tlearn: 0.8012312\ttotal: 68.2ms\tremaining: 3.94s\n",
      "17:\tlearn: 0.7938723\ttotal: 68.9ms\tremaining: 3.76s\n",
      "18:\tlearn: 0.7876657\ttotal: 69.4ms\tremaining: 3.58s\n",
      "19:\tlearn: 0.7797186\ttotal: 69.9ms\tremaining: 3.42s\n",
      "20:\tlearn: 0.7722034\ttotal: 70.4ms\tremaining: 3.28s\n",
      "21:\tlearn: 0.7650955\ttotal: 70.8ms\tremaining: 3.15s\n",
      "22:\tlearn: 0.7565541\ttotal: 71.2ms\tremaining: 3.02s\n",
      "23:\tlearn: 0.7501107\ttotal: 71.7ms\tremaining: 2.92s\n",
      "24:\tlearn: 0.7431091\ttotal: 72.2ms\tremaining: 2.81s\n",
      "25:\tlearn: 0.7367320\ttotal: 72.6ms\tremaining: 2.72s\n",
      "26:\tlearn: 0.7297083\ttotal: 73ms\tremaining: 2.63s\n",
      "27:\tlearn: 0.7222254\ttotal: 73.3ms\tremaining: 2.55s\n",
      "28:\tlearn: 0.7152777\ttotal: 73.8ms\tremaining: 2.47s\n",
      "29:\tlearn: 0.7102064\ttotal: 74.2ms\tremaining: 2.4s\n",
      "30:\tlearn: 0.7044070\ttotal: 74.6ms\tremaining: 2.33s\n",
      "31:\tlearn: 0.6966991\ttotal: 75ms\tremaining: 2.27s\n",
      "32:\tlearn: 0.6906730\ttotal: 75.5ms\tremaining: 2.21s\n",
      "33:\tlearn: 0.6848913\ttotal: 76ms\tremaining: 2.16s\n",
      "34:\tlearn: 0.6789251\ttotal: 76.4ms\tremaining: 2.11s\n",
      "35:\tlearn: 0.6739106\ttotal: 76.9ms\tremaining: 2.06s\n",
      "36:\tlearn: 0.6684862\ttotal: 77.4ms\tremaining: 2.01s\n",
      "37:\tlearn: 0.6629666\ttotal: 77.9ms\tremaining: 1.97s\n",
      "38:\tlearn: 0.6572798\ttotal: 78.3ms\tremaining: 1.93s\n",
      "39:\tlearn: 0.6507302\ttotal: 78.7ms\tremaining: 1.89s\n",
      "40:\tlearn: 0.6464265\ttotal: 79.1ms\tremaining: 1.85s\n",
      "41:\tlearn: 0.6425637\ttotal: 79.5ms\tremaining: 1.81s\n",
      "42:\tlearn: 0.6379098\ttotal: 80ms\tremaining: 1.78s\n",
      "43:\tlearn: 0.6325148\ttotal: 80.4ms\tremaining: 1.75s\n",
      "44:\tlearn: 0.6270021\ttotal: 80.8ms\tremaining: 1.72s\n",
      "45:\tlearn: 0.6224470\ttotal: 81.5ms\tremaining: 1.69s\n",
      "46:\tlearn: 0.6176382\ttotal: 81.9ms\tremaining: 1.66s\n",
      "47:\tlearn: 0.6130924\ttotal: 82.4ms\tremaining: 1.63s\n",
      "48:\tlearn: 0.6087187\ttotal: 82.8ms\tremaining: 1.61s\n",
      "49:\tlearn: 0.6035920\ttotal: 83.2ms\tremaining: 1.58s\n",
      "50:\tlearn: 0.5984409\ttotal: 83.7ms\tremaining: 1.56s\n",
      "51:\tlearn: 0.5928491\ttotal: 88.8ms\tremaining: 1.62s\n",
      "52:\tlearn: 0.5879432\ttotal: 89.3ms\tremaining: 1.59s\n",
      "53:\tlearn: 0.5834838\ttotal: 89.7ms\tremaining: 1.57s\n",
      "54:\tlearn: 0.5785402\ttotal: 90.2ms\tremaining: 1.55s\n",
      "55:\tlearn: 0.5740579\ttotal: 90.6ms\tremaining: 1.53s\n",
      "56:\tlearn: 0.5698085\ttotal: 91ms\tremaining: 1.5s\n",
      "57:\tlearn: 0.5660319\ttotal: 91.5ms\tremaining: 1.49s\n",
      "58:\tlearn: 0.5604353\ttotal: 91.9ms\tremaining: 1.47s\n",
      "59:\tlearn: 0.5559570\ttotal: 92.4ms\tremaining: 1.45s\n",
      "60:\tlearn: 0.5514517\ttotal: 92.9ms\tremaining: 1.43s\n",
      "61:\tlearn: 0.5469296\ttotal: 93.3ms\tremaining: 1.41s\n",
      "62:\tlearn: 0.5430439\ttotal: 93.7ms\tremaining: 1.39s\n",
      "63:\tlearn: 0.5385780\ttotal: 94.1ms\tremaining: 1.38s\n",
      "64:\tlearn: 0.5343719\ttotal: 94.7ms\tremaining: 1.36s\n",
      "65:\tlearn: 0.5303325\ttotal: 95.1ms\tremaining: 1.35s\n",
      "66:\tlearn: 0.5248101\ttotal: 95.6ms\tremaining: 1.33s\n",
      "67:\tlearn: 0.5215862\ttotal: 96ms\tremaining: 1.31s\n",
      "68:\tlearn: 0.5180800\ttotal: 96.4ms\tremaining: 1.3s\n",
      "69:\tlearn: 0.5134771\ttotal: 96.7ms\tremaining: 1.28s\n",
      "70:\tlearn: 0.5091007\ttotal: 97.1ms\tremaining: 1.27s\n",
      "71:\tlearn: 0.5055228\ttotal: 97.6ms\tremaining: 1.26s\n",
      "72:\tlearn: 0.5010837\ttotal: 98.1ms\tremaining: 1.25s\n",
      "73:\tlearn: 0.4966746\ttotal: 98.7ms\tremaining: 1.24s\n",
      "74:\tlearn: 0.4927958\ttotal: 99ms\tremaining: 1.22s\n",
      "75:\tlearn: 0.4896326\ttotal: 99.5ms\tremaining: 1.21s\n",
      "76:\tlearn: 0.4862617\ttotal: 99.8ms\tremaining: 1.2s\n",
      "77:\tlearn: 0.4829675\ttotal: 100ms\tremaining: 1.18s\n",
      "78:\tlearn: 0.4795947\ttotal: 101ms\tremaining: 1.17s\n",
      "79:\tlearn: 0.4755318\ttotal: 101ms\tremaining: 1.16s\n",
      "80:\tlearn: 0.4716165\ttotal: 102ms\tremaining: 1.15s\n",
      "81:\tlearn: 0.4674475\ttotal: 102ms\tremaining: 1.14s\n",
      "82:\tlearn: 0.4636469\ttotal: 102ms\tremaining: 1.13s\n",
      "83:\tlearn: 0.4605491\ttotal: 103ms\tremaining: 1.12s\n",
      "84:\tlearn: 0.4565666\ttotal: 103ms\tremaining: 1.11s\n",
      "85:\tlearn: 0.4534216\ttotal: 104ms\tremaining: 1.1s\n",
      "86:\tlearn: 0.4498681\ttotal: 104ms\tremaining: 1.09s\n",
      "87:\tlearn: 0.4460837\ttotal: 105ms\tremaining: 1.08s\n",
      "88:\tlearn: 0.4423759\ttotal: 105ms\tremaining: 1.07s\n",
      "89:\tlearn: 0.4387247\ttotal: 106ms\tremaining: 1.07s\n",
      "90:\tlearn: 0.4352066\ttotal: 106ms\tremaining: 1.06s\n",
      "91:\tlearn: 0.4322712\ttotal: 106ms\tremaining: 1.05s\n"
     ]
    },
    {
     "name": "stdout",
     "output_type": "stream",
     "text": [
      "92:\tlearn: 0.4291517\ttotal: 107ms\tremaining: 1.04s\n",
      "93:\tlearn: 0.4262260\ttotal: 108ms\tremaining: 1.04s\n",
      "94:\tlearn: 0.4231317\ttotal: 108ms\tremaining: 1.03s\n",
      "95:\tlearn: 0.4207085\ttotal: 109ms\tremaining: 1.02s\n",
      "96:\tlearn: 0.4177478\ttotal: 109ms\tremaining: 1.02s\n",
      "97:\tlearn: 0.4146190\ttotal: 110ms\tremaining: 1.01s\n",
      "98:\tlearn: 0.4121386\ttotal: 110ms\tremaining: 1s\n",
      "99:\tlearn: 0.4089358\ttotal: 111ms\tremaining: 996ms\n",
      "100:\tlearn: 0.4058848\ttotal: 111ms\tremaining: 988ms\n",
      "101:\tlearn: 0.4030650\ttotal: 111ms\tremaining: 980ms\n",
      "102:\tlearn: 0.4003500\ttotal: 112ms\tremaining: 974ms\n",
      "103:\tlearn: 0.3975702\ttotal: 112ms\tremaining: 967ms\n",
      "104:\tlearn: 0.3941156\ttotal: 113ms\tremaining: 960ms\n",
      "105:\tlearn: 0.3912086\ttotal: 113ms\tremaining: 954ms\n",
      "106:\tlearn: 0.3884549\ttotal: 118ms\tremaining: 984ms\n",
      "107:\tlearn: 0.3856284\ttotal: 119ms\tremaining: 982ms\n",
      "108:\tlearn: 0.3827531\ttotal: 120ms\tremaining: 977ms\n",
      "109:\tlearn: 0.3798744\ttotal: 120ms\tremaining: 972ms\n",
      "110:\tlearn: 0.3771505\ttotal: 121ms\tremaining: 967ms\n",
      "111:\tlearn: 0.3738922\ttotal: 121ms\tremaining: 961ms\n",
      "112:\tlearn: 0.3714170\ttotal: 122ms\tremaining: 955ms\n",
      "113:\tlearn: 0.3686714\ttotal: 122ms\tremaining: 949ms\n",
      "114:\tlearn: 0.3653666\ttotal: 122ms\tremaining: 943ms\n",
      "115:\tlearn: 0.3635341\ttotal: 123ms\tremaining: 936ms\n",
      "116:\tlearn: 0.3611572\ttotal: 123ms\tremaining: 931ms\n",
      "117:\tlearn: 0.3589276\ttotal: 124ms\tremaining: 925ms\n",
      "118:\tlearn: 0.3561610\ttotal: 124ms\tremaining: 920ms\n",
      "119:\tlearn: 0.3540673\ttotal: 125ms\tremaining: 915ms\n",
      "120:\tlearn: 0.3518140\ttotal: 125ms\tremaining: 910ms\n",
      "121:\tlearn: 0.3496578\ttotal: 126ms\tremaining: 906ms\n",
      "122:\tlearn: 0.3470002\ttotal: 126ms\tremaining: 900ms\n",
      "123:\tlearn: 0.3444935\ttotal: 127ms\tremaining: 895ms\n",
      "124:\tlearn: 0.3424062\ttotal: 127ms\tremaining: 891ms\n",
      "125:\tlearn: 0.3398737\ttotal: 128ms\tremaining: 885ms\n",
      "126:\tlearn: 0.3371308\ttotal: 128ms\tremaining: 881ms\n",
      "127:\tlearn: 0.3339564\ttotal: 129ms\tremaining: 876ms\n",
      "128:\tlearn: 0.3314612\ttotal: 129ms\tremaining: 872ms\n",
      "129:\tlearn: 0.3292945\ttotal: 130ms\tremaining: 867ms\n",
      "130:\tlearn: 0.3274033\ttotal: 130ms\tremaining: 863ms\n",
      "131:\tlearn: 0.3250839\ttotal: 131ms\tremaining: 859ms\n",
      "132:\tlearn: 0.3232380\ttotal: 131ms\tremaining: 854ms\n",
      "133:\tlearn: 0.3211671\ttotal: 132ms\tremaining: 851ms\n",
      "134:\tlearn: 0.3191896\ttotal: 132ms\tremaining: 847ms\n",
      "135:\tlearn: 0.3171729\ttotal: 133ms\tremaining: 843ms\n",
      "136:\tlearn: 0.3147829\ttotal: 133ms\tremaining: 839ms\n",
      "137:\tlearn: 0.3127839\ttotal: 133ms\tremaining: 834ms\n",
      "138:\tlearn: 0.3109104\ttotal: 134ms\tremaining: 829ms\n",
      "139:\tlearn: 0.3088431\ttotal: 135ms\tremaining: 829ms\n",
      "140:\tlearn: 0.3066532\ttotal: 136ms\tremaining: 826ms\n",
      "141:\tlearn: 0.3046257\ttotal: 136ms\tremaining: 822ms\n",
      "142:\tlearn: 0.3026172\ttotal: 137ms\tremaining: 819ms\n",
      "143:\tlearn: 0.3003466\ttotal: 137ms\tremaining: 815ms\n",
      "144:\tlearn: 0.2982505\ttotal: 138ms\tremaining: 811ms\n",
      "145:\tlearn: 0.2962121\ttotal: 138ms\tremaining: 807ms\n",
      "146:\tlearn: 0.2940902\ttotal: 138ms\tremaining: 803ms\n",
      "147:\tlearn: 0.2919751\ttotal: 139ms\tremaining: 800ms\n",
      "148:\tlearn: 0.2897902\ttotal: 139ms\tremaining: 796ms\n",
      "149:\tlearn: 0.2878885\ttotal: 140ms\tremaining: 793ms\n",
      "150:\tlearn: 0.2855000\ttotal: 140ms\tremaining: 789ms\n",
      "151:\tlearn: 0.2839322\ttotal: 141ms\tremaining: 786ms\n",
      "152:\tlearn: 0.2817739\ttotal: 141ms\tremaining: 783ms\n",
      "153:\tlearn: 0.2799667\ttotal: 142ms\tremaining: 780ms\n",
      "154:\tlearn: 0.2784327\ttotal: 142ms\tremaining: 775ms\n",
      "155:\tlearn: 0.2765805\ttotal: 143ms\tremaining: 772ms\n",
      "156:\tlearn: 0.2745651\ttotal: 143ms\tremaining: 768ms\n",
      "157:\tlearn: 0.2725365\ttotal: 144ms\tremaining: 765ms\n",
      "158:\tlearn: 0.2712161\ttotal: 144ms\tremaining: 761ms\n",
      "159:\tlearn: 0.2696320\ttotal: 144ms\tremaining: 757ms\n",
      "160:\tlearn: 0.2677963\ttotal: 145ms\tremaining: 754ms\n",
      "161:\tlearn: 0.2659455\ttotal: 145ms\tremaining: 751ms\n",
      "162:\tlearn: 0.2639356\ttotal: 146ms\tremaining: 747ms\n",
      "163:\tlearn: 0.2623152\ttotal: 146ms\tremaining: 743ms\n",
      "164:\tlearn: 0.2604516\ttotal: 146ms\tremaining: 741ms\n",
      "165:\tlearn: 0.2591229\ttotal: 147ms\tremaining: 738ms\n",
      "166:\tlearn: 0.2576407\ttotal: 147ms\tremaining: 735ms\n",
      "167:\tlearn: 0.2560368\ttotal: 148ms\tremaining: 733ms\n",
      "168:\tlearn: 0.2540891\ttotal: 149ms\tremaining: 731ms\n",
      "169:\tlearn: 0.2525745\ttotal: 149ms\tremaining: 728ms\n",
      "170:\tlearn: 0.2506421\ttotal: 150ms\tremaining: 725ms\n",
      "171:\tlearn: 0.2489218\ttotal: 150ms\tremaining: 723ms\n",
      "172:\tlearn: 0.2472781\ttotal: 150ms\tremaining: 719ms\n",
      "173:\tlearn: 0.2456022\ttotal: 151ms\tremaining: 717ms\n",
      "174:\tlearn: 0.2439353\ttotal: 151ms\tremaining: 714ms\n",
      "175:\tlearn: 0.2424244\ttotal: 152ms\tremaining: 712ms\n",
      "176:\tlearn: 0.2403793\ttotal: 152ms\tremaining: 709ms\n",
      "177:\tlearn: 0.2388703\ttotal: 153ms\tremaining: 705ms\n",
      "178:\tlearn: 0.2370983\ttotal: 153ms\tremaining: 703ms\n",
      "179:\tlearn: 0.2359032\ttotal: 154ms\tremaining: 702ms\n",
      "180:\tlearn: 0.2345582\ttotal: 155ms\tremaining: 700ms\n",
      "181:\tlearn: 0.2333326\ttotal: 155ms\tremaining: 698ms\n",
      "182:\tlearn: 0.2322056\ttotal: 156ms\tremaining: 695ms\n",
      "183:\tlearn: 0.2307481\ttotal: 156ms\tremaining: 693ms\n",
      "184:\tlearn: 0.2294091\ttotal: 157ms\tremaining: 690ms\n",
      "185:\tlearn: 0.2278060\ttotal: 157ms\tremaining: 687ms\n",
      "186:\tlearn: 0.2260023\ttotal: 158ms\tremaining: 685ms\n",
      "187:\tlearn: 0.2244831\ttotal: 158ms\tremaining: 683ms\n",
      "188:\tlearn: 0.2230385\ttotal: 158ms\tremaining: 680ms\n",
      "189:\tlearn: 0.2215207\ttotal: 159ms\tremaining: 678ms\n",
      "190:\tlearn: 0.2203231\ttotal: 159ms\tremaining: 675ms\n",
      "191:\tlearn: 0.2188500\ttotal: 160ms\tremaining: 673ms\n",
      "192:\tlearn: 0.2173512\ttotal: 160ms\tremaining: 671ms\n",
      "193:\tlearn: 0.2158816\ttotal: 162ms\tremaining: 672ms\n",
      "194:\tlearn: 0.2143119\ttotal: 162ms\tremaining: 669ms\n",
      "195:\tlearn: 0.2129527\ttotal: 162ms\tremaining: 666ms\n",
      "196:\tlearn: 0.2117732\ttotal: 163ms\tremaining: 664ms\n",
      "197:\tlearn: 0.2097933\ttotal: 163ms\tremaining: 661ms\n",
      "198:\tlearn: 0.2086448\ttotal: 164ms\tremaining: 660ms\n",
      "199:\tlearn: 0.2072162\ttotal: 164ms\tremaining: 657ms\n",
      "200:\tlearn: 0.2057351\ttotal: 165ms\tremaining: 655ms\n",
      "201:\tlearn: 0.2044002\ttotal: 165ms\tremaining: 653ms\n",
      "202:\tlearn: 0.2032666\ttotal: 166ms\tremaining: 651ms\n",
      "203:\tlearn: 0.2021065\ttotal: 166ms\tremaining: 648ms\n",
      "204:\tlearn: 0.2010939\ttotal: 167ms\tremaining: 646ms\n",
      "205:\tlearn: 0.1999137\ttotal: 167ms\tremaining: 644ms\n",
      "206:\tlearn: 0.1987831\ttotal: 168ms\tremaining: 642ms\n",
      "207:\tlearn: 0.1976042\ttotal: 168ms\tremaining: 640ms\n",
      "208:\tlearn: 0.1963715\ttotal: 169ms\tremaining: 638ms\n",
      "209:\tlearn: 0.1949587\ttotal: 169ms\tremaining: 636ms\n",
      "210:\tlearn: 0.1936995\ttotal: 169ms\tremaining: 634ms\n",
      "211:\tlearn: 0.1923761\ttotal: 170ms\tremaining: 631ms\n",
      "212:\tlearn: 0.1911185\ttotal: 170ms\tremaining: 630ms\n",
      "213:\tlearn: 0.1899597\ttotal: 171ms\tremaining: 628ms\n",
      "214:\tlearn: 0.1887973\ttotal: 172ms\tremaining: 627ms\n",
      "215:\tlearn: 0.1874592\ttotal: 172ms\tremaining: 625ms\n",
      "216:\tlearn: 0.1858933\ttotal: 173ms\tremaining: 624ms\n",
      "217:\tlearn: 0.1846782\ttotal: 173ms\tremaining: 622ms\n",
      "218:\tlearn: 0.1835770\ttotal: 174ms\tremaining: 620ms\n",
      "219:\tlearn: 0.1821316\ttotal: 174ms\tremaining: 618ms\n",
      "220:\tlearn: 0.1811249\ttotal: 175ms\tremaining: 616ms\n",
      "221:\tlearn: 0.1799047\ttotal: 181ms\tremaining: 634ms\n",
      "222:\tlearn: 0.1788592\ttotal: 182ms\tremaining: 632ms\n",
      "223:\tlearn: 0.1779061\ttotal: 182ms\tremaining: 630ms\n",
      "224:\tlearn: 0.1767000\ttotal: 182ms\tremaining: 628ms\n",
      "225:\tlearn: 0.1755285\ttotal: 183ms\tremaining: 626ms\n",
      "226:\tlearn: 0.1741302\ttotal: 183ms\tremaining: 624ms\n",
      "227:\tlearn: 0.1729529\ttotal: 184ms\tremaining: 622ms\n",
      "228:\tlearn: 0.1717155\ttotal: 184ms\tremaining: 620ms\n",
      "229:\tlearn: 0.1705034\ttotal: 185ms\tremaining: 618ms\n",
      "230:\tlearn: 0.1694425\ttotal: 185ms\tremaining: 616ms\n",
      "231:\tlearn: 0.1684774\ttotal: 185ms\tremaining: 614ms\n",
      "232:\tlearn: 0.1674999\ttotal: 186ms\tremaining: 613ms\n",
      "233:\tlearn: 0.1667737\ttotal: 186ms\tremaining: 610ms\n",
      "234:\tlearn: 0.1658994\ttotal: 187ms\tremaining: 608ms\n",
      "235:\tlearn: 0.1647807\ttotal: 187ms\tremaining: 606ms\n"
     ]
    },
    {
     "name": "stdout",
     "output_type": "stream",
     "text": [
      "236:\tlearn: 0.1633384\ttotal: 188ms\tremaining: 605ms\n",
      "237:\tlearn: 0.1622473\ttotal: 189ms\tremaining: 604ms\n",
      "238:\tlearn: 0.1614406\ttotal: 189ms\tremaining: 602ms\n",
      "239:\tlearn: 0.1604394\ttotal: 190ms\tremaining: 600ms\n",
      "240:\tlearn: 0.1592013\ttotal: 190ms\tremaining: 598ms\n",
      "241:\tlearn: 0.1583515\ttotal: 190ms\tremaining: 596ms\n",
      "242:\tlearn: 0.1572305\ttotal: 191ms\tremaining: 594ms\n",
      "243:\tlearn: 0.1562579\ttotal: 191ms\tremaining: 592ms\n",
      "244:\tlearn: 0.1555127\ttotal: 192ms\tremaining: 590ms\n",
      "245:\tlearn: 0.1541150\ttotal: 192ms\tremaining: 588ms\n",
      "246:\tlearn: 0.1535413\ttotal: 192ms\tremaining: 587ms\n",
      "247:\tlearn: 0.1523951\ttotal: 193ms\tremaining: 585ms\n",
      "248:\tlearn: 0.1512159\ttotal: 193ms\tremaining: 583ms\n",
      "249:\tlearn: 0.1501737\ttotal: 194ms\tremaining: 582ms\n",
      "250:\tlearn: 0.1493891\ttotal: 194ms\tremaining: 580ms\n",
      "251:\tlearn: 0.1485461\ttotal: 195ms\tremaining: 578ms\n",
      "252:\tlearn: 0.1477166\ttotal: 195ms\tremaining: 576ms\n",
      "253:\tlearn: 0.1466119\ttotal: 196ms\tremaining: 575ms\n",
      "254:\tlearn: 0.1458119\ttotal: 196ms\tremaining: 573ms\n",
      "255:\tlearn: 0.1448651\ttotal: 197ms\tremaining: 572ms\n",
      "256:\tlearn: 0.1440260\ttotal: 197ms\tremaining: 570ms\n",
      "257:\tlearn: 0.1428947\ttotal: 198ms\tremaining: 569ms\n",
      "258:\tlearn: 0.1417658\ttotal: 198ms\tremaining: 567ms\n",
      "259:\tlearn: 0.1407210\ttotal: 199ms\tremaining: 565ms\n",
      "260:\tlearn: 0.1398271\ttotal: 199ms\tremaining: 564ms\n",
      "261:\tlearn: 0.1392351\ttotal: 200ms\tremaining: 563ms\n",
      "262:\tlearn: 0.1384048\ttotal: 200ms\tremaining: 561ms\n",
      "263:\tlearn: 0.1378843\ttotal: 201ms\tremaining: 560ms\n",
      "264:\tlearn: 0.1371125\ttotal: 201ms\tremaining: 558ms\n",
      "265:\tlearn: 0.1366265\ttotal: 202ms\tremaining: 557ms\n",
      "266:\tlearn: 0.1360952\ttotal: 202ms\tremaining: 555ms\n",
      "267:\tlearn: 0.1355479\ttotal: 203ms\tremaining: 554ms\n",
      "268:\tlearn: 0.1348007\ttotal: 203ms\tremaining: 552ms\n",
      "269:\tlearn: 0.1342219\ttotal: 204ms\tremaining: 551ms\n",
      "270:\tlearn: 0.1336378\ttotal: 204ms\tremaining: 550ms\n",
      "271:\tlearn: 0.1326703\ttotal: 205ms\tremaining: 549ms\n",
      "272:\tlearn: 0.1320148\ttotal: 205ms\tremaining: 547ms\n",
      "273:\tlearn: 0.1312192\ttotal: 206ms\tremaining: 545ms\n",
      "274:\tlearn: 0.1302052\ttotal: 206ms\tremaining: 543ms\n",
      "275:\tlearn: 0.1297908\ttotal: 206ms\tremaining: 541ms\n",
      "276:\tlearn: 0.1290912\ttotal: 207ms\tremaining: 539ms\n",
      "277:\tlearn: 0.1285828\ttotal: 207ms\tremaining: 538ms\n",
      "278:\tlearn: 0.1275818\ttotal: 207ms\tremaining: 536ms\n",
      "279:\tlearn: 0.1266746\ttotal: 208ms\tremaining: 534ms\n",
      "280:\tlearn: 0.1260576\ttotal: 208ms\tremaining: 532ms\n",
      "281:\tlearn: 0.1254431\ttotal: 208ms\tremaining: 530ms\n",
      "282:\tlearn: 0.1247327\ttotal: 209ms\tremaining: 529ms\n",
      "283:\tlearn: 0.1240498\ttotal: 209ms\tremaining: 527ms\n",
      "284:\tlearn: 0.1232162\ttotal: 209ms\tremaining: 525ms\n",
      "285:\tlearn: 0.1223468\ttotal: 210ms\tremaining: 524ms\n",
      "286:\tlearn: 0.1218919\ttotal: 210ms\tremaining: 522ms\n",
      "287:\tlearn: 0.1215355\ttotal: 210ms\tremaining: 520ms\n",
      "288:\tlearn: 0.1209955\ttotal: 211ms\tremaining: 519ms\n",
      "289:\tlearn: 0.1201619\ttotal: 211ms\tremaining: 517ms\n",
      "290:\tlearn: 0.1194529\ttotal: 212ms\tremaining: 516ms\n",
      "291:\tlearn: 0.1188812\ttotal: 212ms\tremaining: 514ms\n",
      "292:\tlearn: 0.1183113\ttotal: 213ms\tremaining: 513ms\n",
      "293:\tlearn: 0.1178247\ttotal: 213ms\tremaining: 511ms\n",
      "294:\tlearn: 0.1174521\ttotal: 213ms\tremaining: 510ms\n",
      "295:\tlearn: 0.1169386\ttotal: 214ms\tremaining: 508ms\n",
      "296:\tlearn: 0.1162929\ttotal: 214ms\tremaining: 507ms\n",
      "297:\tlearn: 0.1159379\ttotal: 215ms\tremaining: 506ms\n",
      "298:\tlearn: 0.1153674\ttotal: 215ms\tremaining: 504ms\n",
      "299:\tlearn: 0.1146411\ttotal: 216ms\tremaining: 503ms\n",
      "300:\tlearn: 0.1141128\ttotal: 216ms\tremaining: 502ms\n",
      "301:\tlearn: 0.1135016\ttotal: 216ms\tremaining: 500ms\n",
      "302:\tlearn: 0.1126484\ttotal: 217ms\tremaining: 499ms\n",
      "303:\tlearn: 0.1120578\ttotal: 217ms\tremaining: 497ms\n",
      "304:\tlearn: 0.1114243\ttotal: 218ms\tremaining: 497ms\n",
      "305:\tlearn: 0.1109063\ttotal: 218ms\tremaining: 495ms\n",
      "306:\tlearn: 0.1104681\ttotal: 219ms\tremaining: 494ms\n",
      "307:\tlearn: 0.1100828\ttotal: 219ms\tremaining: 493ms\n",
      "308:\tlearn: 0.1092761\ttotal: 220ms\tremaining: 491ms\n",
      "309:\tlearn: 0.1088338\ttotal: 220ms\tremaining: 490ms\n",
      "310:\tlearn: 0.1083768\ttotal: 221ms\tremaining: 489ms\n",
      "311:\tlearn: 0.1079513\ttotal: 221ms\tremaining: 488ms\n",
      "312:\tlearn: 0.1075670\ttotal: 222ms\tremaining: 486ms\n",
      "313:\tlearn: 0.1070984\ttotal: 222ms\tremaining: 485ms\n",
      "314:\tlearn: 0.1067111\ttotal: 222ms\tremaining: 484ms\n",
      "315:\tlearn: 0.1063413\ttotal: 223ms\tremaining: 482ms\n",
      "316:\tlearn: 0.1057754\ttotal: 223ms\tremaining: 482ms\n",
      "317:\tlearn: 0.1053467\ttotal: 224ms\tremaining: 481ms\n",
      "318:\tlearn: 0.1049276\ttotal: 225ms\tremaining: 480ms\n",
      "319:\tlearn: 0.1047143\ttotal: 225ms\tremaining: 479ms\n",
      "320:\tlearn: 0.1043531\ttotal: 226ms\tremaining: 477ms\n",
      "321:\tlearn: 0.1037890\ttotal: 226ms\tremaining: 477ms\n",
      "322:\tlearn: 0.1036064\ttotal: 227ms\tremaining: 475ms\n",
      "323:\tlearn: 0.1032626\ttotal: 227ms\tremaining: 474ms\n",
      "324:\tlearn: 0.1027092\ttotal: 228ms\tremaining: 473ms\n",
      "325:\tlearn: 0.1022096\ttotal: 228ms\tremaining: 472ms\n",
      "326:\tlearn: 0.1018438\ttotal: 229ms\tremaining: 471ms\n",
      "327:\tlearn: 0.1013144\ttotal: 229ms\tremaining: 470ms\n",
      "328:\tlearn: 0.1008289\ttotal: 230ms\tremaining: 468ms\n",
      "329:\tlearn: 0.1005681\ttotal: 230ms\tremaining: 468ms\n",
      "330:\tlearn: 0.1000469\ttotal: 231ms\tremaining: 466ms\n",
      "331:\tlearn: 0.0995780\ttotal: 231ms\tremaining: 465ms\n",
      "332:\tlearn: 0.0990802\ttotal: 232ms\tremaining: 464ms\n",
      "333:\tlearn: 0.0985927\ttotal: 232ms\tremaining: 462ms\n",
      "334:\tlearn: 0.0984014\ttotal: 233ms\tremaining: 462ms\n",
      "335:\tlearn: 0.0980918\ttotal: 233ms\tremaining: 460ms\n",
      "336:\tlearn: 0.0977313\ttotal: 234ms\tremaining: 460ms\n",
      "337:\tlearn: 0.0975808\ttotal: 234ms\tremaining: 458ms\n",
      "338:\tlearn: 0.0974322\ttotal: 235ms\tremaining: 457ms\n",
      "339:\tlearn: 0.0970212\ttotal: 235ms\tremaining: 456ms\n",
      "340:\tlearn: 0.0968588\ttotal: 236ms\tremaining: 455ms\n",
      "341:\tlearn: 0.0966988\ttotal: 236ms\tremaining: 454ms\n",
      "342:\tlearn: 0.0962522\ttotal: 236ms\tremaining: 453ms\n",
      "343:\tlearn: 0.0957958\ttotal: 237ms\tremaining: 451ms\n",
      "344:\tlearn: 0.0956546\ttotal: 237ms\tremaining: 450ms\n",
      "345:\tlearn: 0.0951980\ttotal: 237ms\tremaining: 449ms\n",
      "346:\tlearn: 0.0950593\ttotal: 238ms\tremaining: 447ms\n",
      "347:\tlearn: 0.0946153\ttotal: 238ms\tremaining: 446ms\n",
      "348:\tlearn: 0.0944940\ttotal: 238ms\tremaining: 445ms\n",
      "349:\tlearn: 0.0942124\ttotal: 239ms\tremaining: 443ms\n",
      "350:\tlearn: 0.0938812\ttotal: 239ms\tremaining: 442ms\n",
      "351:\tlearn: 0.0934104\ttotal: 239ms\tremaining: 441ms\n",
      "352:\tlearn: 0.0929689\ttotal: 240ms\tremaining: 439ms\n",
      "353:\tlearn: 0.0928195\ttotal: 240ms\tremaining: 438ms\n",
      "354:\tlearn: 0.0923852\ttotal: 241ms\tremaining: 437ms\n",
      "355:\tlearn: 0.0919784\ttotal: 241ms\tremaining: 436ms\n",
      "356:\tlearn: 0.0918636\ttotal: 241ms\tremaining: 435ms\n",
      "357:\tlearn: 0.0914392\ttotal: 242ms\tremaining: 434ms\n",
      "358:\tlearn: 0.0908178\ttotal: 242ms\tremaining: 433ms\n",
      "359:\tlearn: 0.0906922\ttotal: 243ms\tremaining: 432ms\n",
      "360:\tlearn: 0.0903341\ttotal: 243ms\tremaining: 430ms\n",
      "361:\tlearn: 0.0896355\ttotal: 243ms\tremaining: 429ms\n",
      "362:\tlearn: 0.0893328\ttotal: 244ms\tremaining: 428ms\n",
      "363:\tlearn: 0.0890370\ttotal: 245ms\tremaining: 427ms\n",
      "364:\tlearn: 0.0887871\ttotal: 245ms\tremaining: 426ms\n",
      "365:\tlearn: 0.0881621\ttotal: 245ms\tremaining: 425ms\n",
      "366:\tlearn: 0.0878755\ttotal: 246ms\tremaining: 424ms\n",
      "367:\tlearn: 0.0874780\ttotal: 247ms\tremaining: 424ms\n",
      "368:\tlearn: 0.0871456\ttotal: 247ms\tremaining: 423ms\n",
      "369:\tlearn: 0.0867622\ttotal: 247ms\tremaining: 421ms\n",
      "370:\tlearn: 0.0866240\ttotal: 248ms\tremaining: 420ms\n",
      "371:\tlearn: 0.0862182\ttotal: 248ms\tremaining: 419ms\n",
      "372:\tlearn: 0.0858237\ttotal: 249ms\tremaining: 418ms\n",
      "373:\tlearn: 0.0855496\ttotal: 249ms\tremaining: 417ms\n",
      "374:\tlearn: 0.0854488\ttotal: 250ms\tremaining: 416ms\n",
      "375:\tlearn: 0.0853132\ttotal: 250ms\tremaining: 415ms\n",
      "376:\tlearn: 0.0847800\ttotal: 251ms\tremaining: 414ms\n",
      "377:\tlearn: 0.0841904\ttotal: 251ms\tremaining: 413ms\n",
      "378:\tlearn: 0.0838813\ttotal: 251ms\tremaining: 412ms\n",
      "379:\tlearn: 0.0835757\ttotal: 252ms\tremaining: 411ms\n",
      "380:\tlearn: 0.0834462\ttotal: 252ms\tremaining: 410ms\n",
      "381:\tlearn: 0.0831085\ttotal: 253ms\tremaining: 409ms\n",
      "382:\tlearn: 0.0829813\ttotal: 253ms\tremaining: 408ms\n",
      "383:\tlearn: 0.0828554\ttotal: 254ms\tremaining: 407ms\n",
      "384:\tlearn: 0.0827312\ttotal: 254ms\tremaining: 406ms\n",
      "385:\tlearn: 0.0821924\ttotal: 255ms\tremaining: 405ms\n",
      "386:\tlearn: 0.0818978\ttotal: 255ms\tremaining: 404ms\n",
      "387:\tlearn: 0.0815409\ttotal: 256ms\tremaining: 403ms\n",
      "388:\tlearn: 0.0810160\ttotal: 256ms\tremaining: 403ms\n",
      "389:\tlearn: 0.0807656\ttotal: 257ms\tremaining: 402ms\n",
      "390:\tlearn: 0.0804135\ttotal: 258ms\tremaining: 401ms\n",
      "391:\tlearn: 0.0800726\ttotal: 258ms\tremaining: 400ms\n",
      "392:\tlearn: 0.0797419\ttotal: 259ms\tremaining: 399ms\n",
      "393:\tlearn: 0.0794217\ttotal: 259ms\tremaining: 398ms\n",
      "394:\tlearn: 0.0791093\ttotal: 259ms\tremaining: 397ms\n",
      "395:\tlearn: 0.0785893\ttotal: 260ms\tremaining: 397ms\n",
      "396:\tlearn: 0.0783288\ttotal: 261ms\tremaining: 396ms\n",
      "397:\tlearn: 0.0782212\ttotal: 261ms\tremaining: 395ms\n",
      "398:\tlearn: 0.0779269\ttotal: 261ms\tremaining: 394ms\n",
      "399:\tlearn: 0.0774526\ttotal: 262ms\tremaining: 393ms\n",
      "400:\tlearn: 0.0771578\ttotal: 262ms\tremaining: 392ms\n",
      "401:\tlearn: 0.0768260\ttotal: 263ms\tremaining: 391ms\n",
      "402:\tlearn: 0.0765329\ttotal: 263ms\tremaining: 390ms\n",
      "403:\tlearn: 0.0762359\ttotal: 264ms\tremaining: 389ms\n",
      "404:\tlearn: 0.0759486\ttotal: 264ms\tremaining: 388ms\n",
      "405:\tlearn: 0.0756627\ttotal: 265ms\tremaining: 387ms\n",
      "406:\tlearn: 0.0753281\ttotal: 265ms\tremaining: 386ms\n",
      "407:\tlearn: 0.0750525\ttotal: 266ms\tremaining: 386ms\n",
      "408:\tlearn: 0.0748127\ttotal: 266ms\tremaining: 385ms\n",
      "409:\tlearn: 0.0745412\ttotal: 267ms\tremaining: 384ms\n",
      "410:\tlearn: 0.0743049\ttotal: 267ms\tremaining: 383ms\n",
      "411:\tlearn: 0.0740441\ttotal: 267ms\tremaining: 382ms\n",
      "412:\tlearn: 0.0738119\ttotal: 268ms\tremaining: 381ms\n",
      "413:\tlearn: 0.0735643\ttotal: 268ms\tremaining: 380ms\n",
      "414:\tlearn: 0.0734302\ttotal: 269ms\tremaining: 379ms\n",
      "415:\tlearn: 0.0730779\ttotal: 269ms\tremaining: 378ms\n",
      "416:\tlearn: 0.0729453\ttotal: 270ms\tremaining: 377ms\n",
      "417:\tlearn: 0.0727048\ttotal: 270ms\tremaining: 376ms\n",
      "418:\tlearn: 0.0725740\ttotal: 271ms\tremaining: 375ms\n",
      "419:\tlearn: 0.0723372\ttotal: 271ms\tremaining: 375ms\n",
      "420:\tlearn: 0.0722117\ttotal: 272ms\tremaining: 374ms\n",
      "421:\tlearn: 0.0719785\ttotal: 272ms\tremaining: 373ms\n",
      "422:\tlearn: 0.0718512\ttotal: 273ms\tremaining: 372ms\n",
      "423:\tlearn: 0.0714422\ttotal: 273ms\tremaining: 371ms\n",
      "424:\tlearn: 0.0713688\ttotal: 274ms\tremaining: 370ms\n",
      "425:\tlearn: 0.0711237\ttotal: 274ms\tremaining: 370ms\n",
      "426:\tlearn: 0.0707254\ttotal: 275ms\tremaining: 369ms\n",
      "427:\tlearn: 0.0703938\ttotal: 275ms\tremaining: 368ms\n",
      "428:\tlearn: 0.0702719\ttotal: 276ms\tremaining: 367ms\n",
      "429:\tlearn: 0.0701723\ttotal: 277ms\tremaining: 367ms\n",
      "430:\tlearn: 0.0697854\ttotal: 277ms\tremaining: 366ms\n",
      "431:\tlearn: 0.0696877\ttotal: 278ms\tremaining: 365ms\n",
      "432:\tlearn: 0.0693098\ttotal: 278ms\tremaining: 364ms\n",
      "433:\tlearn: 0.0692416\ttotal: 279ms\tremaining: 363ms\n",
      "434:\tlearn: 0.0690185\ttotal: 279ms\tremaining: 363ms\n",
      "435:\tlearn: 0.0689512\ttotal: 280ms\tremaining: 362ms\n",
      "436:\tlearn: 0.0688566\ttotal: 280ms\tremaining: 361ms\n",
      "437:\tlearn: 0.0684893\ttotal: 281ms\tremaining: 360ms\n",
      "438:\tlearn: 0.0680729\ttotal: 281ms\tremaining: 359ms\n",
      "439:\tlearn: 0.0678518\ttotal: 282ms\tremaining: 359ms\n",
      "440:\tlearn: 0.0674479\ttotal: 282ms\tremaining: 358ms\n",
      "441:\tlearn: 0.0671615\ttotal: 283ms\tremaining: 357ms\n",
      "442:\tlearn: 0.0668245\ttotal: 283ms\tremaining: 356ms\n",
      "443:\tlearn: 0.0667608\ttotal: 284ms\tremaining: 355ms\n",
      "444:\tlearn: 0.0663806\ttotal: 284ms\tremaining: 354ms\n",
      "445:\tlearn: 0.0660403\ttotal: 284ms\tremaining: 353ms\n",
      "446:\tlearn: 0.0657802\ttotal: 285ms\tremaining: 352ms\n",
      "447:\tlearn: 0.0657181\ttotal: 285ms\tremaining: 351ms\n",
      "448:\tlearn: 0.0653762\ttotal: 285ms\tremaining: 350ms\n",
      "449:\tlearn: 0.0649920\ttotal: 286ms\tremaining: 349ms\n",
      "450:\tlearn: 0.0646273\ttotal: 286ms\tremaining: 349ms\n",
      "451:\tlearn: 0.0644063\ttotal: 287ms\tremaining: 348ms\n",
      "452:\tlearn: 0.0640779\ttotal: 287ms\tremaining: 347ms\n",
      "453:\tlearn: 0.0638609\ttotal: 288ms\tremaining: 346ms\n",
      "454:\tlearn: 0.0635458\ttotal: 288ms\tremaining: 345ms\n",
      "455:\tlearn: 0.0633268\ttotal: 288ms\tremaining: 344ms\n",
      "456:\tlearn: 0.0630209\ttotal: 289ms\tremaining: 343ms\n",
      "457:\tlearn: 0.0628211\ttotal: 290ms\tremaining: 343ms\n",
      "458:\tlearn: 0.0626171\ttotal: 290ms\tremaining: 342ms\n"
     ]
    },
    {
     "name": "stdout",
     "output_type": "stream",
     "text": [
      "459:\tlearn: 0.0623198\ttotal: 291ms\tremaining: 341ms\n",
      "460:\tlearn: 0.0621260\ttotal: 291ms\tremaining: 340ms\n",
      "461:\tlearn: 0.0617610\ttotal: 292ms\tremaining: 339ms\n",
      "462:\tlearn: 0.0615635\ttotal: 292ms\tremaining: 339ms\n",
      "463:\tlearn: 0.0612436\ttotal: 292ms\tremaining: 338ms\n",
      "464:\tlearn: 0.0609518\ttotal: 293ms\tremaining: 337ms\n",
      "465:\tlearn: 0.0607584\ttotal: 294ms\tremaining: 337ms\n",
      "466:\tlearn: 0.0604727\ttotal: 294ms\tremaining: 336ms\n",
      "467:\tlearn: 0.0602894\ttotal: 295ms\tremaining: 335ms\n",
      "468:\tlearn: 0.0602152\ttotal: 295ms\tremaining: 334ms\n",
      "469:\tlearn: 0.0599336\ttotal: 296ms\tremaining: 333ms\n",
      "470:\tlearn: 0.0598632\ttotal: 296ms\tremaining: 333ms\n",
      "471:\tlearn: 0.0595858\ttotal: 297ms\tremaining: 332ms\n",
      "472:\tlearn: 0.0593994\ttotal: 297ms\tremaining: 331ms\n",
      "473:\tlearn: 0.0590792\ttotal: 297ms\tremaining: 330ms\n",
      "474:\tlearn: 0.0589028\ttotal: 298ms\tremaining: 329ms\n",
      "475:\tlearn: 0.0585980\ttotal: 298ms\tremaining: 328ms\n",
      "476:\tlearn: 0.0583252\ttotal: 298ms\tremaining: 327ms\n",
      "477:\tlearn: 0.0580588\ttotal: 299ms\tremaining: 326ms\n",
      "478:\tlearn: 0.0578147\ttotal: 299ms\tremaining: 325ms\n",
      "479:\tlearn: 0.0575339\ttotal: 299ms\tremaining: 324ms\n",
      "480:\tlearn: 0.0572975\ttotal: 300ms\tremaining: 323ms\n",
      "481:\tlearn: 0.0569473\ttotal: 300ms\tremaining: 323ms\n",
      "482:\tlearn: 0.0566553\ttotal: 300ms\tremaining: 322ms\n",
      "483:\tlearn: 0.0564238\ttotal: 301ms\tremaining: 321ms\n",
      "484:\tlearn: 0.0563637\ttotal: 302ms\tremaining: 321ms\n",
      "485:\tlearn: 0.0561114\ttotal: 302ms\tremaining: 320ms\n",
      "486:\tlearn: 0.0558305\ttotal: 303ms\tremaining: 319ms\n",
      "487:\tlearn: 0.0555634\ttotal: 303ms\tremaining: 318ms\n",
      "488:\tlearn: 0.0553408\ttotal: 304ms\tremaining: 317ms\n",
      "489:\tlearn: 0.0550580\ttotal: 304ms\tremaining: 317ms\n",
      "490:\tlearn: 0.0548172\ttotal: 305ms\tremaining: 316ms\n",
      "491:\tlearn: 0.0546008\ttotal: 306ms\tremaining: 316ms\n",
      "492:\tlearn: 0.0543124\ttotal: 306ms\tremaining: 315ms\n",
      "493:\tlearn: 0.0542558\ttotal: 307ms\tremaining: 314ms\n",
      "494:\tlearn: 0.0540080\ttotal: 307ms\tremaining: 313ms\n",
      "495:\tlearn: 0.0538481\ttotal: 308ms\tremaining: 313ms\n",
      "496:\tlearn: 0.0535836\ttotal: 308ms\tremaining: 312ms\n",
      "497:\tlearn: 0.0533636\ttotal: 309ms\tremaining: 311ms\n",
      "498:\tlearn: 0.0531427\ttotal: 309ms\tremaining: 310ms\n",
      "499:\tlearn: 0.0529272\ttotal: 310ms\tremaining: 310ms\n",
      "500:\tlearn: 0.0527154\ttotal: 310ms\tremaining: 309ms\n",
      "501:\tlearn: 0.0524997\ttotal: 311ms\tremaining: 308ms\n",
      "502:\tlearn: 0.0523624\ttotal: 311ms\tremaining: 307ms\n",
      "503:\tlearn: 0.0521350\ttotal: 312ms\tremaining: 307ms\n",
      "504:\tlearn: 0.0519291\ttotal: 312ms\tremaining: 306ms\n",
      "505:\tlearn: 0.0517665\ttotal: 313ms\tremaining: 305ms\n",
      "506:\tlearn: 0.0514721\ttotal: 313ms\tremaining: 304ms\n",
      "507:\tlearn: 0.0513123\ttotal: 313ms\tremaining: 304ms\n",
      "508:\tlearn: 0.0511812\ttotal: 314ms\tremaining: 303ms\n",
      "509:\tlearn: 0.0507765\ttotal: 314ms\tremaining: 302ms\n",
      "510:\tlearn: 0.0505560\ttotal: 315ms\tremaining: 301ms\n",
      "511:\tlearn: 0.0503370\ttotal: 315ms\tremaining: 300ms\n",
      "512:\tlearn: 0.0501208\ttotal: 316ms\tremaining: 300ms\n",
      "513:\tlearn: 0.0497289\ttotal: 316ms\tremaining: 299ms\n",
      "514:\tlearn: 0.0495182\ttotal: 317ms\tremaining: 299ms\n",
      "515:\tlearn: 0.0492633\ttotal: 318ms\tremaining: 298ms\n",
      "516:\tlearn: 0.0490984\ttotal: 318ms\tremaining: 297ms\n",
      "517:\tlearn: 0.0488932\ttotal: 319ms\tremaining: 296ms\n",
      "518:\tlearn: 0.0486804\ttotal: 319ms\tremaining: 296ms\n",
      "519:\tlearn: 0.0484381\ttotal: 319ms\tremaining: 295ms\n",
      "520:\tlearn: 0.0482793\ttotal: 320ms\tremaining: 294ms\n",
      "521:\tlearn: 0.0480422\ttotal: 320ms\tremaining: 293ms\n",
      "522:\tlearn: 0.0476712\ttotal: 320ms\tremaining: 292ms\n",
      "523:\tlearn: 0.0475166\ttotal: 321ms\tremaining: 291ms\n",
      "524:\tlearn: 0.0473188\ttotal: 321ms\tremaining: 291ms\n",
      "525:\tlearn: 0.0471674\ttotal: 322ms\tremaining: 290ms\n",
      "526:\tlearn: 0.0469398\ttotal: 322ms\tremaining: 289ms\n",
      "527:\tlearn: 0.0467911\ttotal: 323ms\tremaining: 289ms\n",
      "528:\tlearn: 0.0465685\ttotal: 323ms\tremaining: 288ms\n",
      "529:\tlearn: 0.0464138\ttotal: 324ms\tremaining: 287ms\n",
      "530:\tlearn: 0.0460582\ttotal: 324ms\tremaining: 287ms\n",
      "531:\tlearn: 0.0459081\ttotal: 325ms\tremaining: 286ms\n",
      "532:\tlearn: 0.0455608\ttotal: 325ms\tremaining: 285ms\n",
      "533:\tlearn: 0.0453723\ttotal: 326ms\tremaining: 285ms\n",
      "534:\tlearn: 0.0451796\ttotal: 327ms\tremaining: 284ms\n",
      "535:\tlearn: 0.0450372\ttotal: 327ms\tremaining: 283ms\n",
      "536:\tlearn: 0.0448930\ttotal: 327ms\tremaining: 282ms\n",
      "537:\tlearn: 0.0445896\ttotal: 328ms\tremaining: 281ms\n",
      "538:\tlearn: 0.0444072\ttotal: 328ms\tremaining: 281ms\n",
      "539:\tlearn: 0.0442209\ttotal: 328ms\tremaining: 280ms\n",
      "540:\tlearn: 0.0438928\ttotal: 329ms\tremaining: 279ms\n",
      "541:\tlearn: 0.0436564\ttotal: 329ms\tremaining: 278ms\n",
      "542:\tlearn: 0.0434720\ttotal: 330ms\tremaining: 277ms\n",
      "543:\tlearn: 0.0433378\ttotal: 330ms\tremaining: 277ms\n",
      "544:\tlearn: 0.0430171\ttotal: 330ms\tremaining: 276ms\n",
      "545:\tlearn: 0.0428873\ttotal: 331ms\tremaining: 275ms\n",
      "546:\tlearn: 0.0426525\ttotal: 331ms\tremaining: 274ms\n",
      "547:\tlearn: 0.0425219\ttotal: 331ms\tremaining: 273ms\n",
      "548:\tlearn: 0.0423507\ttotal: 332ms\tremaining: 272ms\n",
      "549:\tlearn: 0.0420414\ttotal: 332ms\tremaining: 272ms\n",
      "550:\tlearn: 0.0419197\ttotal: 332ms\tremaining: 271ms\n",
      "551:\tlearn: 0.0416948\ttotal: 333ms\tremaining: 270ms\n",
      "552:\tlearn: 0.0415578\ttotal: 333ms\tremaining: 269ms\n",
      "553:\tlearn: 0.0414361\ttotal: 333ms\tremaining: 268ms\n",
      "554:\tlearn: 0.0411374\ttotal: 334ms\tremaining: 268ms\n",
      "555:\tlearn: 0.0409751\ttotal: 334ms\tremaining: 267ms\n",
      "556:\tlearn: 0.0408433\ttotal: 335ms\tremaining: 266ms\n",
      "557:\tlearn: 0.0407318\ttotal: 335ms\tremaining: 265ms\n",
      "558:\tlearn: 0.0405449\ttotal: 336ms\tremaining: 265ms\n",
      "559:\tlearn: 0.0403853\ttotal: 336ms\tremaining: 264ms\n",
      "560:\tlearn: 0.0402583\ttotal: 336ms\tremaining: 263ms\n",
      "561:\tlearn: 0.0399714\ttotal: 337ms\tremaining: 263ms\n",
      "562:\tlearn: 0.0398474\ttotal: 337ms\tremaining: 262ms\n",
      "563:\tlearn: 0.0396823\ttotal: 338ms\tremaining: 261ms\n",
      "564:\tlearn: 0.0394029\ttotal: 338ms\tremaining: 261ms\n",
      "565:\tlearn: 0.0392566\ttotal: 339ms\tremaining: 260ms\n",
      "566:\tlearn: 0.0389751\ttotal: 339ms\tremaining: 259ms\n",
      "567:\tlearn: 0.0387907\ttotal: 340ms\tremaining: 258ms\n",
      "568:\tlearn: 0.0385763\ttotal: 340ms\tremaining: 258ms\n",
      "569:\tlearn: 0.0384276\ttotal: 341ms\tremaining: 257ms\n",
      "570:\tlearn: 0.0382498\ttotal: 341ms\tremaining: 256ms\n",
      "571:\tlearn: 0.0380421\ttotal: 341ms\tremaining: 255ms\n",
      "572:\tlearn: 0.0379041\ttotal: 342ms\tremaining: 255ms\n",
      "573:\tlearn: 0.0377328\ttotal: 342ms\tremaining: 254ms\n",
      "574:\tlearn: 0.0375904\ttotal: 343ms\tremaining: 253ms\n",
      "575:\tlearn: 0.0374810\ttotal: 343ms\tremaining: 253ms\n",
      "576:\tlearn: 0.0373137\ttotal: 344ms\tremaining: 252ms\n",
      "577:\tlearn: 0.0372182\ttotal: 344ms\tremaining: 251ms\n",
      "578:\tlearn: 0.0370808\ttotal: 345ms\tremaining: 251ms\n",
      "579:\tlearn: 0.0369430\ttotal: 345ms\tremaining: 250ms\n",
      "580:\tlearn: 0.0367799\ttotal: 346ms\tremaining: 249ms\n",
      "581:\tlearn: 0.0366932\ttotal: 346ms\tremaining: 249ms\n",
      "582:\tlearn: 0.0365666\ttotal: 347ms\tremaining: 248ms\n",
      "583:\tlearn: 0.0364329\ttotal: 348ms\tremaining: 248ms\n",
      "584:\tlearn: 0.0363023\ttotal: 348ms\tremaining: 247ms\n",
      "585:\tlearn: 0.0361711\ttotal: 349ms\tremaining: 246ms\n",
      "586:\tlearn: 0.0359878\ttotal: 349ms\tremaining: 246ms\n",
      "587:\tlearn: 0.0358993\ttotal: 349ms\tremaining: 245ms\n",
      "588:\tlearn: 0.0357713\ttotal: 350ms\tremaining: 244ms\n",
      "589:\tlearn: 0.0355924\ttotal: 350ms\tremaining: 244ms\n",
      "590:\tlearn: 0.0354748\ttotal: 351ms\tremaining: 243ms\n",
      "591:\tlearn: 0.0352877\ttotal: 352ms\tremaining: 242ms\n",
      "592:\tlearn: 0.0351885\ttotal: 352ms\tremaining: 242ms\n",
      "593:\tlearn: 0.0350694\ttotal: 353ms\tremaining: 241ms\n",
      "594:\tlearn: 0.0349260\ttotal: 353ms\tremaining: 240ms\n",
      "595:\tlearn: 0.0347444\ttotal: 353ms\tremaining: 239ms\n",
      "596:\tlearn: 0.0345667\ttotal: 354ms\tremaining: 239ms\n",
      "597:\tlearn: 0.0344724\ttotal: 354ms\tremaining: 238ms\n",
      "598:\tlearn: 0.0343232\ttotal: 355ms\tremaining: 237ms\n",
      "599:\tlearn: 0.0342040\ttotal: 355ms\tremaining: 237ms\n",
      "600:\tlearn: 0.0341123\ttotal: 356ms\tremaining: 237ms\n",
      "601:\tlearn: 0.0339479\ttotal: 357ms\tremaining: 236ms\n",
      "602:\tlearn: 0.0337972\ttotal: 357ms\tremaining: 235ms\n",
      "603:\tlearn: 0.0337306\ttotal: 358ms\tremaining: 234ms\n",
      "604:\tlearn: 0.0336654\ttotal: 358ms\tremaining: 234ms\n",
      "605:\tlearn: 0.0335784\ttotal: 358ms\tremaining: 233ms\n",
      "606:\tlearn: 0.0334183\ttotal: 359ms\tremaining: 232ms\n",
      "607:\tlearn: 0.0332794\ttotal: 359ms\tremaining: 231ms\n",
      "608:\tlearn: 0.0331112\ttotal: 359ms\tremaining: 231ms\n",
      "609:\tlearn: 0.0330266\ttotal: 360ms\tremaining: 230ms\n",
      "610:\tlearn: 0.0329459\ttotal: 360ms\tremaining: 229ms\n",
      "611:\tlearn: 0.0328112\ttotal: 360ms\tremaining: 228ms\n",
      "612:\tlearn: 0.0326606\ttotal: 361ms\tremaining: 228ms\n",
      "613:\tlearn: 0.0325003\ttotal: 365ms\tremaining: 229ms\n",
      "614:\tlearn: 0.0324392\ttotal: 365ms\tremaining: 229ms\n",
      "615:\tlearn: 0.0322783\ttotal: 366ms\tremaining: 228ms\n",
      "616:\tlearn: 0.0321973\ttotal: 366ms\tremaining: 227ms\n",
      "617:\tlearn: 0.0320845\ttotal: 367ms\tremaining: 227ms\n",
      "618:\tlearn: 0.0320046\ttotal: 368ms\tremaining: 226ms\n",
      "619:\tlearn: 0.0319533\ttotal: 368ms\tremaining: 226ms\n",
      "620:\tlearn: 0.0317471\ttotal: 369ms\tremaining: 225ms\n",
      "621:\tlearn: 0.0316012\ttotal: 369ms\tremaining: 224ms\n",
      "622:\tlearn: 0.0314924\ttotal: 370ms\tremaining: 224ms\n"
     ]
    },
    {
     "name": "stdout",
     "output_type": "stream",
     "text": [
      "623:\tlearn: 0.0313496\ttotal: 370ms\tremaining: 223ms\n",
      "624:\tlearn: 0.0312723\ttotal: 371ms\tremaining: 223ms\n",
      "625:\tlearn: 0.0311665\ttotal: 372ms\tremaining: 222ms\n",
      "626:\tlearn: 0.0310166\ttotal: 372ms\tremaining: 221ms\n",
      "627:\tlearn: 0.0308070\ttotal: 372ms\tremaining: 221ms\n",
      "628:\tlearn: 0.0307317\ttotal: 373ms\tremaining: 220ms\n",
      "629:\tlearn: 0.0305508\ttotal: 374ms\tremaining: 219ms\n",
      "630:\tlearn: 0.0304736\ttotal: 374ms\tremaining: 219ms\n",
      "631:\tlearn: 0.0303288\ttotal: 374ms\tremaining: 218ms\n",
      "632:\tlearn: 0.0302547\ttotal: 375ms\tremaining: 217ms\n",
      "633:\tlearn: 0.0301009\ttotal: 375ms\tremaining: 217ms\n",
      "634:\tlearn: 0.0299241\ttotal: 376ms\tremaining: 216ms\n",
      "635:\tlearn: 0.0298511\ttotal: 376ms\tremaining: 215ms\n",
      "636:\tlearn: 0.0297022\ttotal: 377ms\tremaining: 215ms\n",
      "637:\tlearn: 0.0295289\ttotal: 377ms\tremaining: 214ms\n",
      "638:\tlearn: 0.0293760\ttotal: 378ms\tremaining: 213ms\n",
      "639:\tlearn: 0.0291822\ttotal: 378ms\tremaining: 213ms\n",
      "640:\tlearn: 0.0290483\ttotal: 378ms\tremaining: 212ms\n",
      "641:\tlearn: 0.0288928\ttotal: 379ms\tremaining: 211ms\n",
      "642:\tlearn: 0.0287288\ttotal: 379ms\tremaining: 211ms\n",
      "643:\tlearn: 0.0286581\ttotal: 380ms\tremaining: 210ms\n",
      "644:\tlearn: 0.0285075\ttotal: 380ms\tremaining: 209ms\n",
      "645:\tlearn: 0.0284362\ttotal: 381ms\tremaining: 209ms\n",
      "646:\tlearn: 0.0282775\ttotal: 381ms\tremaining: 208ms\n",
      "647:\tlearn: 0.0281315\ttotal: 382ms\tremaining: 208ms\n",
      "648:\tlearn: 0.0280667\ttotal: 383ms\tremaining: 207ms\n",
      "649:\tlearn: 0.0279236\ttotal: 384ms\tremaining: 207ms\n",
      "650:\tlearn: 0.0277719\ttotal: 384ms\tremaining: 206ms\n",
      "651:\tlearn: 0.0276701\ttotal: 384ms\tremaining: 205ms\n",
      "652:\tlearn: 0.0275216\ttotal: 385ms\tremaining: 205ms\n",
      "653:\tlearn: 0.0274525\ttotal: 385ms\tremaining: 204ms\n",
      "654:\tlearn: 0.0273536\ttotal: 386ms\tremaining: 203ms\n",
      "655:\tlearn: 0.0272179\ttotal: 386ms\tremaining: 203ms\n",
      "656:\tlearn: 0.0270699\ttotal: 387ms\tremaining: 202ms\n",
      "657:\tlearn: 0.0269364\ttotal: 388ms\tremaining: 202ms\n",
      "658:\tlearn: 0.0268471\ttotal: 388ms\tremaining: 201ms\n",
      "659:\tlearn: 0.0267799\ttotal: 389ms\tremaining: 200ms\n",
      "660:\tlearn: 0.0266499\ttotal: 389ms\tremaining: 200ms\n",
      "661:\tlearn: 0.0265627\ttotal: 390ms\tremaining: 199ms\n",
      "662:\tlearn: 0.0263595\ttotal: 391ms\tremaining: 199ms\n",
      "663:\tlearn: 0.0261604\ttotal: 391ms\tremaining: 198ms\n",
      "664:\tlearn: 0.0260955\ttotal: 392ms\tremaining: 197ms\n",
      "665:\tlearn: 0.0259695\ttotal: 392ms\tremaining: 197ms\n",
      "666:\tlearn: 0.0259056\ttotal: 393ms\tremaining: 196ms\n",
      "667:\tlearn: 0.0258425\ttotal: 393ms\tremaining: 195ms\n",
      "668:\tlearn: 0.0257191\ttotal: 394ms\tremaining: 195ms\n",
      "669:\tlearn: 0.0256365\ttotal: 394ms\tremaining: 194ms\n",
      "670:\tlearn: 0.0255552\ttotal: 395ms\tremaining: 193ms\n",
      "671:\tlearn: 0.0254332\ttotal: 395ms\tremaining: 193ms\n",
      "672:\tlearn: 0.0253719\ttotal: 396ms\tremaining: 192ms\n",
      "673:\tlearn: 0.0252471\ttotal: 396ms\tremaining: 192ms\n",
      "674:\tlearn: 0.0251680\ttotal: 397ms\tremaining: 191ms\n",
      "675:\tlearn: 0.0250185\ttotal: 397ms\tremaining: 190ms\n",
      "676:\tlearn: 0.0249591\ttotal: 397ms\tremaining: 190ms\n",
      "677:\tlearn: 0.0248025\ttotal: 398ms\tremaining: 189ms\n",
      "678:\tlearn: 0.0247566\ttotal: 398ms\tremaining: 188ms\n",
      "679:\tlearn: 0.0247115\ttotal: 399ms\tremaining: 188ms\n",
      "680:\tlearn: 0.0246533\ttotal: 399ms\tremaining: 187ms\n",
      "681:\tlearn: 0.0246248\ttotal: 400ms\tremaining: 186ms\n",
      "682:\tlearn: 0.0245495\ttotal: 400ms\tremaining: 186ms\n",
      "683:\tlearn: 0.0244065\ttotal: 401ms\tremaining: 185ms\n",
      "684:\tlearn: 0.0242554\ttotal: 401ms\tremaining: 184ms\n",
      "685:\tlearn: 0.0242120\ttotal: 401ms\tremaining: 184ms\n",
      "686:\tlearn: 0.0241559\ttotal: 402ms\tremaining: 183ms\n",
      "687:\tlearn: 0.0241285\ttotal: 403ms\tremaining: 183ms\n",
      "688:\tlearn: 0.0239998\ttotal: 403ms\tremaining: 182ms\n",
      "689:\tlearn: 0.0239576\ttotal: 403ms\tremaining: 181ms\n",
      "690:\tlearn: 0.0239023\ttotal: 404ms\tremaining: 181ms\n",
      "691:\tlearn: 0.0238757\ttotal: 404ms\tremaining: 180ms\n",
      "692:\tlearn: 0.0237392\ttotal: 405ms\tremaining: 179ms\n",
      "693:\tlearn: 0.0235939\ttotal: 405ms\tremaining: 179ms\n",
      "694:\tlearn: 0.0234690\ttotal: 406ms\tremaining: 178ms\n",
      "695:\tlearn: 0.0234284\ttotal: 406ms\tremaining: 177ms\n",
      "696:\tlearn: 0.0233884\ttotal: 407ms\tremaining: 177ms\n",
      "697:\tlearn: 0.0233348\ttotal: 407ms\tremaining: 176ms\n",
      "698:\tlearn: 0.0233093\ttotal: 408ms\tremaining: 175ms\n",
      "699:\tlearn: 0.0231877\ttotal: 408ms\tremaining: 175ms\n",
      "700:\tlearn: 0.0231488\ttotal: 408ms\tremaining: 174ms\n",
      "701:\tlearn: 0.0230185\ttotal: 409ms\tremaining: 174ms\n",
      "702:\tlearn: 0.0229661\ttotal: 409ms\tremaining: 173ms\n",
      "703:\tlearn: 0.0228488\ttotal: 410ms\tremaining: 172ms\n",
      "704:\tlearn: 0.0227971\ttotal: 410ms\tremaining: 172ms\n",
      "705:\tlearn: 0.0227593\ttotal: 411ms\tremaining: 171ms\n",
      "706:\tlearn: 0.0226110\ttotal: 411ms\tremaining: 170ms\n",
      "707:\tlearn: 0.0225868\ttotal: 412ms\tremaining: 170ms\n",
      "708:\tlearn: 0.0224686\ttotal: 412ms\tremaining: 169ms\n",
      "709:\tlearn: 0.0224320\ttotal: 413ms\tremaining: 169ms\n",
      "710:\tlearn: 0.0224084\ttotal: 413ms\tremaining: 168ms\n",
      "711:\tlearn: 0.0222846\ttotal: 414ms\tremaining: 167ms\n",
      "712:\tlearn: 0.0222345\ttotal: 414ms\tremaining: 167ms\n",
      "713:\tlearn: 0.0221228\ttotal: 415ms\tremaining: 166ms\n",
      "714:\tlearn: 0.0220874\ttotal: 415ms\tremaining: 165ms\n",
      "715:\tlearn: 0.0219537\ttotal: 416ms\tremaining: 165ms\n",
      "716:\tlearn: 0.0219156\ttotal: 416ms\tremaining: 164ms\n",
      "717:\tlearn: 0.0218666\ttotal: 416ms\tremaining: 163ms\n",
      "718:\tlearn: 0.0218441\ttotal: 417ms\tremaining: 163ms\n",
      "719:\tlearn: 0.0217354\ttotal: 417ms\tremaining: 162ms\n",
      "720:\tlearn: 0.0215959\ttotal: 417ms\tremaining: 162ms\n",
      "721:\tlearn: 0.0215592\ttotal: 418ms\tremaining: 161ms\n",
      "722:\tlearn: 0.0215373\ttotal: 418ms\tremaining: 160ms\n",
      "723:\tlearn: 0.0214314\ttotal: 419ms\tremaining: 160ms\n",
      "724:\tlearn: 0.0213835\ttotal: 424ms\tremaining: 161ms\n",
      "725:\tlearn: 0.0212798\ttotal: 424ms\tremaining: 160ms\n",
      "726:\tlearn: 0.0211445\ttotal: 425ms\tremaining: 160ms\n",
      "727:\tlearn: 0.0211093\ttotal: 425ms\tremaining: 159ms\n",
      "728:\tlearn: 0.0210881\ttotal: 426ms\tremaining: 158ms\n",
      "729:\tlearn: 0.0209821\ttotal: 426ms\tremaining: 158ms\n",
      "730:\tlearn: 0.0208916\ttotal: 427ms\tremaining: 157ms\n",
      "731:\tlearn: 0.0207986\ttotal: 427ms\tremaining: 156ms\n",
      "732:\tlearn: 0.0207647\ttotal: 428ms\tremaining: 156ms\n",
      "733:\tlearn: 0.0206682\ttotal: 428ms\tremaining: 155ms\n",
      "734:\tlearn: 0.0206351\ttotal: 428ms\tremaining: 154ms\n",
      "735:\tlearn: 0.0205177\ttotal: 429ms\tremaining: 154ms\n",
      "736:\tlearn: 0.0204714\ttotal: 429ms\tremaining: 153ms\n",
      "737:\tlearn: 0.0204388\ttotal: 430ms\tremaining: 153ms\n",
      "738:\tlearn: 0.0203931\ttotal: 430ms\tremaining: 152ms\n",
      "739:\tlearn: 0.0203087\ttotal: 431ms\tremaining: 151ms\n",
      "740:\tlearn: 0.0202164\ttotal: 431ms\tremaining: 151ms\n",
      "741:\tlearn: 0.0201845\ttotal: 431ms\tremaining: 150ms\n",
      "742:\tlearn: 0.0201398\ttotal: 432ms\tremaining: 149ms\n",
      "743:\tlearn: 0.0200494\ttotal: 432ms\tremaining: 149ms\n",
      "744:\tlearn: 0.0200183\ttotal: 433ms\tremaining: 148ms\n",
      "745:\tlearn: 0.0199069\ttotal: 433ms\tremaining: 148ms\n",
      "746:\tlearn: 0.0197889\ttotal: 434ms\tremaining: 147ms\n",
      "747:\tlearn: 0.0197654\ttotal: 434ms\tremaining: 146ms\n",
      "748:\tlearn: 0.0197280\ttotal: 435ms\tremaining: 146ms\n",
      "749:\tlearn: 0.0196439\ttotal: 436ms\tremaining: 145ms\n",
      "750:\tlearn: 0.0195336\ttotal: 436ms\tremaining: 145ms\n",
      "751:\tlearn: 0.0195038\ttotal: 436ms\tremaining: 144ms\n",
      "752:\tlearn: 0.0194241\ttotal: 437ms\tremaining: 143ms\n",
      "753:\tlearn: 0.0193453\ttotal: 437ms\tremaining: 143ms\n",
      "754:\tlearn: 0.0192643\ttotal: 438ms\tremaining: 142ms\n",
      "755:\tlearn: 0.0191599\ttotal: 438ms\tremaining: 141ms\n",
      "756:\tlearn: 0.0191309\ttotal: 439ms\tremaining: 141ms\n",
      "757:\tlearn: 0.0190361\ttotal: 439ms\tremaining: 140ms\n",
      "758:\tlearn: 0.0190104\ttotal: 439ms\tremaining: 140ms\n",
      "759:\tlearn: 0.0189089\ttotal: 440ms\tremaining: 139ms\n",
      "760:\tlearn: 0.0188837\ttotal: 440ms\tremaining: 138ms\n",
      "761:\tlearn: 0.0187953\ttotal: 441ms\tremaining: 138ms\n",
      "762:\tlearn: 0.0187535\ttotal: 441ms\tremaining: 137ms\n",
      "763:\tlearn: 0.0187287\ttotal: 442ms\tremaining: 137ms\n",
      "764:\tlearn: 0.0186876\ttotal: 443ms\tremaining: 136ms\n",
      "765:\tlearn: 0.0186632\ttotal: 443ms\tremaining: 135ms\n",
      "766:\tlearn: 0.0185389\ttotal: 443ms\tremaining: 135ms\n",
      "767:\tlearn: 0.0184332\ttotal: 444ms\tremaining: 134ms\n",
      "768:\tlearn: 0.0183929\ttotal: 444ms\tremaining: 134ms\n",
      "769:\tlearn: 0.0183509\ttotal: 445ms\tremaining: 133ms\n",
      "770:\tlearn: 0.0182475\ttotal: 445ms\tremaining: 132ms\n",
      "771:\tlearn: 0.0181445\ttotal: 446ms\tremaining: 132ms\n",
      "772:\tlearn: 0.0181036\ttotal: 446ms\tremaining: 131ms\n",
      "773:\tlearn: 0.0180264\ttotal: 447ms\tremaining: 131ms\n",
      "774:\tlearn: 0.0179509\ttotal: 448ms\tremaining: 130ms\n",
      "775:\tlearn: 0.0178522\ttotal: 448ms\tremaining: 129ms\n",
      "776:\tlearn: 0.0178125\ttotal: 449ms\tremaining: 129ms\n",
      "777:\tlearn: 0.0177130\ttotal: 449ms\tremaining: 128ms\n",
      "778:\tlearn: 0.0176592\ttotal: 449ms\tremaining: 127ms\n",
      "779:\tlearn: 0.0175615\ttotal: 450ms\tremaining: 127ms\n",
      "780:\tlearn: 0.0175233\ttotal: 450ms\tremaining: 126ms\n",
      "781:\tlearn: 0.0174493\ttotal: 451ms\tremaining: 126ms\n",
      "782:\tlearn: 0.0174108\ttotal: 451ms\tremaining: 125ms\n",
      "783:\tlearn: 0.0173382\ttotal: 451ms\tremaining: 124ms\n",
      "784:\tlearn: 0.0172670\ttotal: 452ms\tremaining: 124ms\n",
      "785:\tlearn: 0.0171725\ttotal: 452ms\tremaining: 123ms\n",
      "786:\tlearn: 0.0171360\ttotal: 452ms\tremaining: 122ms\n",
      "787:\tlearn: 0.0170667\ttotal: 453ms\tremaining: 122ms\n",
      "788:\tlearn: 0.0169987\ttotal: 453ms\tremaining: 121ms\n",
      "789:\tlearn: 0.0169572\ttotal: 453ms\tremaining: 121ms\n",
      "790:\tlearn: 0.0169208\ttotal: 454ms\tremaining: 120ms\n",
      "791:\tlearn: 0.0168849\ttotal: 454ms\tremaining: 119ms\n",
      "792:\tlearn: 0.0168398\ttotal: 455ms\tremaining: 119ms\n",
      "793:\tlearn: 0.0167739\ttotal: 455ms\tremaining: 118ms\n",
      "794:\tlearn: 0.0166632\ttotal: 455ms\tremaining: 117ms\n",
      "795:\tlearn: 0.0165726\ttotal: 456ms\tremaining: 117ms\n",
      "796:\tlearn: 0.0165378\ttotal: 456ms\tremaining: 116ms\n",
      "797:\tlearn: 0.0164944\ttotal: 456ms\tremaining: 116ms\n",
      "798:\tlearn: 0.0164307\ttotal: 457ms\tremaining: 115ms\n",
      "799:\tlearn: 0.0163625\ttotal: 457ms\tremaining: 114ms\n",
      "800:\tlearn: 0.0163009\ttotal: 457ms\tremaining: 114ms\n",
      "801:\tlearn: 0.0162132\ttotal: 458ms\tremaining: 113ms\n",
      "802:\tlearn: 0.0161690\ttotal: 458ms\tremaining: 112ms\n",
      "803:\tlearn: 0.0161356\ttotal: 459ms\tremaining: 112ms\n",
      "804:\tlearn: 0.0160925\ttotal: 459ms\tremaining: 111ms\n",
      "805:\tlearn: 0.0159942\ttotal: 460ms\tremaining: 111ms\n",
      "806:\tlearn: 0.0159522\ttotal: 460ms\tremaining: 110ms\n",
      "807:\tlearn: 0.0158557\ttotal: 461ms\tremaining: 109ms\n",
      "808:\tlearn: 0.0158147\ttotal: 461ms\tremaining: 109ms\n",
      "809:\tlearn: 0.0157773\ttotal: 462ms\tremaining: 108ms\n",
      "810:\tlearn: 0.0157012\ttotal: 462ms\tremaining: 108ms\n",
      "811:\tlearn: 0.0156072\ttotal: 462ms\tremaining: 107ms\n",
      "812:\tlearn: 0.0155676\ttotal: 463ms\tremaining: 107ms\n",
      "813:\tlearn: 0.0155314\ttotal: 464ms\tremaining: 106ms\n",
      "814:\tlearn: 0.0154624\ttotal: 464ms\tremaining: 105ms\n",
      "815:\tlearn: 0.0153707\ttotal: 465ms\tremaining: 105ms\n",
      "816:\tlearn: 0.0153104\ttotal: 465ms\tremaining: 104ms\n",
      "817:\tlearn: 0.0152789\ttotal: 466ms\tremaining: 104ms\n",
      "818:\tlearn: 0.0152439\ttotal: 466ms\tremaining: 103ms\n",
      "819:\tlearn: 0.0152129\ttotal: 467ms\tremaining: 102ms\n",
      "820:\tlearn: 0.0151573\ttotal: 467ms\tremaining: 102ms\n",
      "821:\tlearn: 0.0151266\ttotal: 468ms\tremaining: 101ms\n",
      "822:\tlearn: 0.0150684\ttotal: 468ms\tremaining: 101ms\n",
      "823:\tlearn: 0.0150382\ttotal: 469ms\tremaining: 100ms\n",
      "824:\tlearn: 0.0149494\ttotal: 469ms\tremaining: 99.5ms\n",
      "825:\tlearn: 0.0148933\ttotal: 470ms\tremaining: 99ms\n",
      "826:\tlearn: 0.0148102\ttotal: 470ms\tremaining: 98.4ms\n",
      "827:\tlearn: 0.0147740\ttotal: 471ms\tremaining: 97.8ms\n",
      "828:\tlearn: 0.0147278\ttotal: 471ms\tremaining: 97.2ms\n",
      "829:\tlearn: 0.0146943\ttotal: 472ms\tremaining: 96.6ms\n",
      "830:\tlearn: 0.0146491\ttotal: 472ms\tremaining: 96ms\n",
      "831:\tlearn: 0.0146212\ttotal: 473ms\tremaining: 95.5ms\n",
      "832:\tlearn: 0.0145666\ttotal: 473ms\tremaining: 94.9ms\n"
     ]
    },
    {
     "name": "stdout",
     "output_type": "stream",
     "text": [
      "833:\tlearn: 0.0145195\ttotal: 474ms\tremaining: 94.4ms\n",
      "834:\tlearn: 0.0144645\ttotal: 475ms\tremaining: 93.8ms\n",
      "835:\tlearn: 0.0144239\ttotal: 475ms\tremaining: 93.2ms\n",
      "836:\tlearn: 0.0143490\ttotal: 475ms\tremaining: 92.6ms\n",
      "837:\tlearn: 0.0142712\ttotal: 476ms\tremaining: 92ms\n",
      "838:\tlearn: 0.0142181\ttotal: 476ms\tremaining: 91.4ms\n",
      "839:\tlearn: 0.0141779\ttotal: 477ms\tremaining: 90.8ms\n",
      "840:\tlearn: 0.0141514\ttotal: 477ms\tremaining: 90.2ms\n",
      "841:\tlearn: 0.0141126\ttotal: 478ms\tremaining: 89.6ms\n",
      "842:\tlearn: 0.0140746\ttotal: 478ms\tremaining: 89ms\n",
      "843:\tlearn: 0.0140201\ttotal: 479ms\tremaining: 88.5ms\n",
      "844:\tlearn: 0.0139475\ttotal: 479ms\tremaining: 87.9ms\n",
      "845:\tlearn: 0.0139099\ttotal: 480ms\tremaining: 87.3ms\n",
      "846:\tlearn: 0.0138277\ttotal: 480ms\tremaining: 86.7ms\n",
      "847:\tlearn: 0.0137501\ttotal: 480ms\tremaining: 86.1ms\n",
      "848:\tlearn: 0.0137209\ttotal: 481ms\tremaining: 85.5ms\n",
      "849:\tlearn: 0.0136521\ttotal: 481ms\tremaining: 84.9ms\n",
      "850:\tlearn: 0.0135764\ttotal: 481ms\tremaining: 84.3ms\n",
      "851:\tlearn: 0.0135109\ttotal: 482ms\tremaining: 83.7ms\n",
      "852:\tlearn: 0.0134425\ttotal: 482ms\tremaining: 83.1ms\n",
      "853:\tlearn: 0.0133787\ttotal: 482ms\tremaining: 82.5ms\n",
      "854:\tlearn: 0.0133429\ttotal: 483ms\tremaining: 81.9ms\n",
      "855:\tlearn: 0.0132805\ttotal: 483ms\tremaining: 81.3ms\n",
      "856:\tlearn: 0.0132541\ttotal: 483ms\tremaining: 80.7ms\n",
      "857:\tlearn: 0.0131822\ttotal: 484ms\tremaining: 80.1ms\n",
      "858:\tlearn: 0.0131214\ttotal: 484ms\tremaining: 79.5ms\n",
      "859:\tlearn: 0.0130716\ttotal: 485ms\tremaining: 78.9ms\n",
      "860:\tlearn: 0.0130369\ttotal: 485ms\tremaining: 78.4ms\n",
      "861:\tlearn: 0.0130110\ttotal: 486ms\tremaining: 77.8ms\n",
      "862:\tlearn: 0.0129465\ttotal: 486ms\tremaining: 77.2ms\n",
      "863:\tlearn: 0.0128876\ttotal: 487ms\tremaining: 76.6ms\n",
      "864:\tlearn: 0.0128618\ttotal: 487ms\tremaining: 76ms\n",
      "865:\tlearn: 0.0128041\ttotal: 488ms\tremaining: 75.4ms\n",
      "866:\tlearn: 0.0127414\ttotal: 488ms\tremaining: 74.9ms\n",
      "867:\tlearn: 0.0126872\ttotal: 488ms\tremaining: 74.3ms\n",
      "868:\tlearn: 0.0126618\ttotal: 489ms\tremaining: 73.7ms\n",
      "869:\tlearn: 0.0126063\ttotal: 490ms\tremaining: 73.2ms\n",
      "870:\tlearn: 0.0125812\ttotal: 490ms\tremaining: 72.6ms\n",
      "871:\tlearn: 0.0125287\ttotal: 491ms\tremaining: 72ms\n",
      "872:\tlearn: 0.0125039\ttotal: 491ms\tremaining: 71.5ms\n",
      "873:\tlearn: 0.0124502\ttotal: 492ms\tremaining: 70.9ms\n",
      "874:\tlearn: 0.0124257\ttotal: 492ms\tremaining: 70.3ms\n",
      "875:\tlearn: 0.0123806\ttotal: 493ms\tremaining: 69.8ms\n",
      "876:\tlearn: 0.0123564\ttotal: 493ms\tremaining: 69.2ms\n",
      "877:\tlearn: 0.0122948\ttotal: 494ms\tremaining: 68.6ms\n",
      "878:\tlearn: 0.0122630\ttotal: 494ms\tremaining: 68ms\n",
      "879:\tlearn: 0.0122395\ttotal: 495ms\tremaining: 67.5ms\n",
      "880:\tlearn: 0.0122085\ttotal: 495ms\tremaining: 66.9ms\n",
      "881:\tlearn: 0.0121852\ttotal: 496ms\tremaining: 66.3ms\n",
      "882:\tlearn: 0.0121349\ttotal: 496ms\tremaining: 65.7ms\n",
      "883:\tlearn: 0.0121119\ttotal: 497ms\tremaining: 65.2ms\n",
      "884:\tlearn: 0.0120603\ttotal: 497ms\tremaining: 64.6ms\n",
      "885:\tlearn: 0.0120377\ttotal: 498ms\tremaining: 64ms\n",
      "886:\tlearn: 0.0119785\ttotal: 498ms\tremaining: 63.5ms\n",
      "887:\tlearn: 0.0119300\ttotal: 499ms\tremaining: 62.9ms\n",
      "888:\tlearn: 0.0118772\ttotal: 499ms\tremaining: 62.3ms\n",
      "889:\tlearn: 0.0118274\ttotal: 500ms\tremaining: 61.8ms\n",
      "890:\tlearn: 0.0118048\ttotal: 500ms\tremaining: 61.2ms\n",
      "891:\tlearn: 0.0117578\ttotal: 501ms\tremaining: 60.6ms\n",
      "892:\tlearn: 0.0117059\ttotal: 501ms\tremaining: 60ms\n",
      "893:\tlearn: 0.0116640\ttotal: 502ms\tremaining: 59.5ms\n",
      "894:\tlearn: 0.0116132\ttotal: 502ms\tremaining: 58.9ms\n",
      "895:\tlearn: 0.0115610\ttotal: 503ms\tremaining: 58.3ms\n",
      "896:\tlearn: 0.0115098\ttotal: 503ms\tremaining: 57.8ms\n",
      "897:\tlearn: 0.0114694\ttotal: 504ms\tremaining: 57.2ms\n",
      "898:\tlearn: 0.0114192\ttotal: 504ms\tremaining: 56.6ms\n",
      "899:\tlearn: 0.0113797\ttotal: 505ms\tremaining: 56.1ms\n",
      "900:\tlearn: 0.0113190\ttotal: 505ms\tremaining: 55.5ms\n",
      "901:\tlearn: 0.0112729\ttotal: 505ms\tremaining: 54.9ms\n",
      "902:\tlearn: 0.0112137\ttotal: 506ms\tremaining: 54.3ms\n",
      "903:\tlearn: 0.0111685\ttotal: 506ms\tremaining: 53.7ms\n",
      "904:\tlearn: 0.0111204\ttotal: 507ms\tremaining: 53.2ms\n",
      "905:\tlearn: 0.0110629\ttotal: 507ms\tremaining: 52.6ms\n",
      "906:\tlearn: 0.0110161\ttotal: 508ms\tremaining: 52ms\n",
      "907:\tlearn: 0.0109889\ttotal: 508ms\tremaining: 51.5ms\n",
      "908:\tlearn: 0.0109446\ttotal: 508ms\tremaining: 50.9ms\n",
      "909:\tlearn: 0.0109181\ttotal: 509ms\tremaining: 50.3ms\n",
      "910:\tlearn: 0.0108681\ttotal: 509ms\tremaining: 49.8ms\n",
      "911:\tlearn: 0.0108242\ttotal: 510ms\tremaining: 49.2ms\n",
      "912:\tlearn: 0.0107984\ttotal: 510ms\tremaining: 48.6ms\n",
      "913:\tlearn: 0.0107552\ttotal: 511ms\tremaining: 48ms\n",
      "914:\tlearn: 0.0107127\ttotal: 511ms\tremaining: 47.5ms\n",
      "915:\tlearn: 0.0106614\ttotal: 512ms\tremaining: 46.9ms\n",
      "916:\tlearn: 0.0105932\ttotal: 512ms\tremaining: 46.4ms\n",
      "917:\tlearn: 0.0105613\ttotal: 513ms\tremaining: 45.8ms\n",
      "918:\tlearn: 0.0104946\ttotal: 513ms\tremaining: 45.2ms\n",
      "919:\tlearn: 0.0104699\ttotal: 514ms\tremaining: 44.7ms\n",
      "920:\tlearn: 0.0104044\ttotal: 514ms\tremaining: 44.1ms\n",
      "921:\tlearn: 0.0103592\ttotal: 515ms\tremaining: 43.5ms\n",
      "922:\tlearn: 0.0103288\ttotal: 515ms\tremaining: 43ms\n",
      "923:\tlearn: 0.0102653\ttotal: 516ms\tremaining: 42.4ms\n",
      "924:\tlearn: 0.0102359\ttotal: 516ms\tremaining: 41.8ms\n",
      "925:\tlearn: 0.0101737\ttotal: 516ms\tremaining: 41.3ms\n",
      "926:\tlearn: 0.0101205\ttotal: 517ms\tremaining: 40.7ms\n",
      "927:\tlearn: 0.0100970\ttotal: 517ms\tremaining: 40.1ms\n",
      "928:\tlearn: 0.0100536\ttotal: 518ms\tremaining: 39.6ms\n",
      "929:\tlearn: 0.0100018\ttotal: 518ms\tremaining: 39ms\n",
      "930:\tlearn: 0.0099740\ttotal: 519ms\tremaining: 38.4ms\n",
      "931:\tlearn: 0.0099231\ttotal: 519ms\tremaining: 37.9ms\n",
      "932:\tlearn: 0.0098637\ttotal: 519ms\tremaining: 37.3ms\n",
      "933:\tlearn: 0.0098368\ttotal: 520ms\tremaining: 36.7ms\n",
      "934:\tlearn: 0.0097787\ttotal: 520ms\tremaining: 36.2ms\n",
      "935:\tlearn: 0.0097628\ttotal: 521ms\tremaining: 35.6ms\n",
      "936:\tlearn: 0.0097133\ttotal: 521ms\tremaining: 35ms\n",
      "937:\tlearn: 0.0097054\ttotal: 522ms\tremaining: 34.5ms\n",
      "938:\tlearn: 0.0096900\ttotal: 522ms\tremaining: 33.9ms\n",
      "939:\tlearn: 0.0096434\ttotal: 523ms\tremaining: 33.4ms\n",
      "940:\tlearn: 0.0095955\ttotal: 523ms\tremaining: 32.8ms\n",
      "941:\tlearn: 0.0095878\ttotal: 524ms\tremaining: 32.2ms\n",
      "942:\tlearn: 0.0095802\ttotal: 524ms\tremaining: 31.7ms\n",
      "943:\tlearn: 0.0095351\ttotal: 525ms\tremaining: 31.1ms\n",
      "944:\tlearn: 0.0094943\ttotal: 525ms\tremaining: 30.6ms\n",
      "945:\tlearn: 0.0094728\ttotal: 526ms\tremaining: 30ms\n",
      "946:\tlearn: 0.0094325\ttotal: 526ms\tremaining: 29.4ms\n",
      "947:\tlearn: 0.0094078\ttotal: 527ms\tremaining: 28.9ms\n",
      "948:\tlearn: 0.0093618\ttotal: 527ms\tremaining: 28.3ms\n",
      "949:\tlearn: 0.0093149\ttotal: 528ms\tremaining: 27.8ms\n",
      "950:\tlearn: 0.0092718\ttotal: 528ms\tremaining: 27.2ms\n",
      "951:\tlearn: 0.0092327\ttotal: 529ms\tremaining: 26.7ms\n",
      "952:\tlearn: 0.0092183\ttotal: 529ms\tremaining: 26.1ms\n",
      "953:\tlearn: 0.0091733\ttotal: 530ms\tremaining: 25.5ms\n",
      "954:\tlearn: 0.0091387\ttotal: 530ms\tremaining: 25ms\n",
      "955:\tlearn: 0.0090947\ttotal: 531ms\tremaining: 24.4ms\n",
      "956:\tlearn: 0.0090608\ttotal: 531ms\tremaining: 23.9ms\n",
      "957:\tlearn: 0.0090178\ttotal: 532ms\tremaining: 23.3ms\n",
      "958:\tlearn: 0.0089748\ttotal: 532ms\tremaining: 22.7ms\n",
      "959:\tlearn: 0.0089329\ttotal: 532ms\tremaining: 22.2ms\n",
      "960:\tlearn: 0.0088954\ttotal: 533ms\tremaining: 21.6ms\n",
      "961:\tlearn: 0.0088624\ttotal: 533ms\tremaining: 21.1ms\n",
      "962:\tlearn: 0.0088430\ttotal: 534ms\tremaining: 20.5ms\n",
      "963:\tlearn: 0.0088239\ttotal: 534ms\tremaining: 19.9ms\n",
      "964:\tlearn: 0.0087842\ttotal: 534ms\tremaining: 19.4ms\n",
      "965:\tlearn: 0.0087520\ttotal: 535ms\tremaining: 18.8ms\n",
      "966:\tlearn: 0.0087194\ttotal: 535ms\tremaining: 18.3ms\n",
      "967:\tlearn: 0.0087006\ttotal: 536ms\tremaining: 17.7ms\n",
      "968:\tlearn: 0.0086864\ttotal: 536ms\tremaining: 17.2ms\n",
      "969:\tlearn: 0.0086478\ttotal: 537ms\tremaining: 16.6ms\n",
      "970:\tlearn: 0.0086141\ttotal: 537ms\tremaining: 16ms\n",
      "971:\tlearn: 0.0085787\ttotal: 538ms\tremaining: 15.5ms\n",
      "972:\tlearn: 0.0085480\ttotal: 538ms\tremaining: 14.9ms\n",
      "973:\tlearn: 0.0085180\ttotal: 538ms\tremaining: 14.4ms\n",
      "974:\tlearn: 0.0084998\ttotal: 539ms\tremaining: 13.8ms\n",
      "975:\tlearn: 0.0084819\ttotal: 539ms\tremaining: 13.3ms\n",
      "976:\tlearn: 0.0084610\ttotal: 540ms\tremaining: 12.7ms\n",
      "977:\tlearn: 0.0084238\ttotal: 546ms\tremaining: 12.3ms\n",
      "978:\tlearn: 0.0083962\ttotal: 546ms\tremaining: 11.7ms\n",
      "979:\tlearn: 0.0083664\ttotal: 547ms\tremaining: 11.2ms\n",
      "980:\tlearn: 0.0083326\ttotal: 547ms\tremaining: 10.6ms\n",
      "981:\tlearn: 0.0083034\ttotal: 547ms\tremaining: 10ms\n",
      "982:\tlearn: 0.0082671\ttotal: 548ms\tremaining: 9.47ms\n",
      "983:\tlearn: 0.0082461\ttotal: 548ms\tremaining: 8.92ms\n",
      "984:\tlearn: 0.0082221\ttotal: 549ms\tremaining: 8.36ms\n",
      "985:\tlearn: 0.0081853\ttotal: 549ms\tremaining: 7.8ms\n",
      "986:\tlearn: 0.0081658\ttotal: 550ms\tremaining: 7.24ms\n",
      "987:\tlearn: 0.0081307\ttotal: 550ms\tremaining: 6.68ms\n",
      "988:\tlearn: 0.0081165\ttotal: 551ms\tremaining: 6.12ms\n",
      "989:\tlearn: 0.0080822\ttotal: 551ms\tremaining: 5.56ms\n",
      "990:\tlearn: 0.0080683\ttotal: 551ms\tremaining: 5.01ms\n",
      "991:\tlearn: 0.0080547\ttotal: 552ms\tremaining: 4.45ms\n",
      "992:\tlearn: 0.0080211\ttotal: 552ms\tremaining: 3.89ms\n",
      "993:\tlearn: 0.0080015\ttotal: 553ms\tremaining: 3.34ms\n",
      "994:\tlearn: 0.0079695\ttotal: 553ms\tremaining: 2.78ms\n",
      "995:\tlearn: 0.0079420\ttotal: 554ms\tremaining: 2.22ms\n",
      "996:\tlearn: 0.0079119\ttotal: 554ms\tremaining: 1.67ms\n"
     ]
    },
    {
     "name": "stdout",
     "output_type": "stream",
     "text": [
      "997:\tlearn: 0.0078808\ttotal: 555ms\tremaining: 1.11ms\n",
      "998:\tlearn: 0.0078361\ttotal: 555ms\tremaining: 555us\n",
      "999:\tlearn: 0.0078094\ttotal: 556ms\tremaining: 0us\n"
     ]
    },
    {
     "data": {
      "text/plain": [
       "<catboost.core.CatBoostRegressor at 0x7fb8f8802280>"
      ]
     },
     "execution_count": 9,
     "metadata": {},
     "output_type": "execute_result"
    }
   ],
   "source": [
    "#Train the Model \n",
    "prior_model = ctb.CatBoostRegressor()\n",
    "prior_model.fit(X_train,Y_train)"
   ]
  },
  {
   "cell_type": "code",
   "execution_count": 10,
   "id": "af65dcda",
   "metadata": {
    "execution": {
     "iopub.execute_input": "2022-06-07T06:20:33.850201Z",
     "iopub.status.busy": "2022-06-07T06:20:33.849829Z",
     "iopub.status.idle": "2022-06-07T06:20:33.857080Z",
     "shell.execute_reply": "2022-06-07T06:20:33.857319Z"
    },
    "id": "af65dcda",
    "papermill": {
     "duration": 0.020656,
     "end_time": "2022-06-07T06:20:33.857432",
     "exception": false,
     "start_time": "2022-06-07T06:20:33.836776",
     "status": "completed"
    },
    "tags": []
   },
   "outputs": [
    {
     "data": {
      "application/scrapbook.scrap.json+json": {
       "data": 0.2634074303448316,
       "encoder": "json",
       "name": "Prior Model MSE",
       "version": 1
      }
     },
     "metadata": {
      "scrapbook": {
       "data": true,
       "display": false,
       "name": "Prior Model MSE"
      }
     },
     "output_type": "display_data"
    },
    {
     "data": {
      "application/scrapbook.scrap.json+json": {
       "data": 0.27730306203457694,
       "encoder": "json",
       "name": "ABC Pre-generator MSE",
       "version": 1
      }
     },
     "metadata": {
      "scrapbook": {
       "data": true,
       "display": false,
       "name": "ABC Pre-generator MSE"
      }
     },
     "output_type": "display_data"
    },
    {
     "data": {
      "application/scrapbook.scrap.json+json": {
       "data": 0.3788667181060631,
       "encoder": "json",
       "name": "Prior Model MSE",
       "version": 1
      }
     },
     "metadata": {
      "scrapbook": {
       "data": true,
       "display": false,
       "name": "Prior Model MSE"
      }
     },
     "output_type": "display_data"
    },
    {
     "data": {
      "application/scrapbook.scrap.json+json": {
       "data": 0.3819793241525048,
       "encoder": "json",
       "name": "ABC Pre-generator MSE",
       "version": 1
      }
     },
     "metadata": {
      "scrapbook": {
       "data": true,
       "display": false,
       "name": "ABC Pre-generator MSE"
      }
     },
     "output_type": "display_data"
    }
   ],
   "source": [
    "y_pred = prior_model.predict(X_test)\n",
    "y_abc = y_pred + np.random.normal(0,variance, y_pred.shape) + bias \n",
    "mse = mean_squared_error(y_pred,Y_test)\n",
    "sb.glue(\"Prior Model MSE\",mse)\n",
    "mse = mean_squared_error(y_abc,Y_test)\n",
    "sb.glue(\"ABC Pre-generator MSE\",mse)\n",
    "mae = mean_absolute_error(y_pred,Y_test)\n",
    "sb.glue(\"Prior Model MSE\",mae)\n",
    "mae = mean_absolute_error(y_abc,Y_test)\n",
    "sb.glue(\"ABC Pre-generator MSE\",mae)"
   ]
  },
  {
   "cell_type": "markdown",
   "id": "25609da2",
   "metadata": {
    "papermill": {
     "duration": 0.00991,
     "end_time": "2022-06-07T06:20:33.877115",
     "exception": false,
     "start_time": "2022-06-07T06:20:33.867205",
     "status": "completed"
    },
    "tags": []
   },
   "source": [
    "# ABC GAN Model"
   ]
  },
  {
   "cell_type": "code",
   "execution_count": 11,
   "id": "dfc3464d",
   "metadata": {
    "execution": {
     "iopub.execute_input": "2022-06-07T06:20:33.899696Z",
     "iopub.status.busy": "2022-06-07T06:20:33.899327Z",
     "iopub.status.idle": "2022-06-07T06:20:33.902074Z",
     "shell.execute_reply": "2022-06-07T06:20:33.902324Z"
    },
    "papermill": {
     "duration": 0.015499,
     "end_time": "2022-06-07T06:20:33.902436",
     "exception": false,
     "start_time": "2022-06-07T06:20:33.886937",
     "status": "completed"
    },
    "tags": []
   },
   "outputs": [],
   "source": [
    "gen = network.Generator(n_features+1).to(device)\n",
    "disc = network.Discriminator(n_features+1).to(device)\n",
    "\n",
    "criterion = torch.nn.BCELoss()\n",
    "gen_opt = torch.optim.Adam(gen.parameters(), lr=0.001, betas=(0.5, 0.999))\n",
    "disc_opt = torch.optim.Adam(disc.parameters(), lr=0.001, betas=(0.5, 0.999))"
   ]
  },
  {
   "cell_type": "code",
   "execution_count": 12,
   "id": "b75fdd85",
   "metadata": {
    "execution": {
     "iopub.execute_input": "2022-06-07T06:20:33.924248Z",
     "iopub.status.busy": "2022-06-07T06:20:33.923887Z",
     "iopub.status.idle": "2022-06-07T06:20:49.609112Z",
     "shell.execute_reply": "2022-06-07T06:20:49.609415Z"
    },
    "papermill": {
     "duration": 15.69728,
     "end_time": "2022-06-07T06:20:49.609539",
     "exception": false,
     "start_time": "2022-06-07T06:20:33.912259",
     "status": "completed"
    },
    "tags": []
   },
   "outputs": [
    {
     "data": {
      "image/png": "[encoded data removed]",
      "text/plain": [
       "<Figure size 432x288 with 1 Axes>"
      ]
     },
     "metadata": {
      "needs_background": "light"
     },
     "output_type": "display_data"
    },
    {
     "data": {
      "image/png": "[encoded data removed]",
      "text/plain": [
       "<Figure size 432x288 with 1 Axes>"
      ]
     },
     "metadata": {
      "needs_background": "light"
     },
     "output_type": "display_data"
    }
   ],
   "source": [
    "#Training the ABC_GAN \n",
    "ABC_train_test2.training_GAN(disc,gen,disc_opt,gen_opt,train_data,batch_size,n_epochs,criterion,prior_model,variance,bias,device)"
   ]
  },
  {
   "cell_type": "code",
   "execution_count": 13,
   "id": "1fa7c368",
   "metadata": {
    "execution": {
     "iopub.execute_input": "2022-06-07T06:20:49.634177Z",
     "iopub.status.busy": "2022-06-07T06:20:49.633798Z",
     "iopub.status.idle": "2022-06-07T06:20:49.823078Z",
     "shell.execute_reply": "2022-06-07T06:20:49.823382Z"
    },
    "papermill": {
     "duration": 0.202616,
     "end_time": "2022-06-07T06:20:49.823510",
     "exception": false,
     "start_time": "2022-06-07T06:20:49.620894",
     "status": "completed"
    },
    "tags": []
   },
   "outputs": [
    {
     "data": {
      "application/scrapbook.scrap.json+json": {
       "data": 0.13350676144426177,
       "encoder": "json",
       "name": "ABC-GAN Model 1 MSE",
       "version": 1
      }
     },
     "metadata": {
      "scrapbook": {
       "data": true,
       "display": false,
       "name": "ABC-GAN Model 1 MSE"
      }
     },
     "output_type": "display_data"
    },
    {
     "data": {
      "application/scrapbook.scrap.json+json": {
       "data": 0.24459875525161623,
       "encoder": "json",
       "name": "ABC-GAN Model 1 MAE",
       "version": 1
      }
     },
     "metadata": {
      "scrapbook": {
       "data": true,
       "display": false,
       "name": "ABC-GAN Model 1 MAE"
      }
     },
     "output_type": "display_data"
    },
    {
     "data": {
      "application/scrapbook.scrap.json+json": {
       "data": 4.891975105032325,
       "encoder": "json",
       "name": "ABC-GAN Model 1 Manhattan Distance",
       "version": 1
      }
     },
     "metadata": {
      "scrapbook": {
       "data": true,
       "display": false,
       "name": "ABC-GAN Model 1 Manhattan Distance"
      }
     },
     "output_type": "display_data"
    },
    {
     "data": {
      "application/scrapbook.scrap.json+json": {
       "data": 1.6336078525677524,
       "encoder": "json",
       "name": "ABC-GAN Model 1 Euclidean distance",
       "version": 1
      }
     },
     "metadata": {
      "scrapbook": {
       "data": true,
       "display": false,
       "name": "ABC-GAN Model 1 Euclidean distance"
      }
     },
     "output_type": "display_data"
    },
    {
     "data": {
      "application/scrapbook.scrap.json+json": {
       "data": [
        [
         0.1316961892736543,
         0.1298666997839369,
         0.14151826115823474,
         0.131682429945694,
         0.13466320299694656,
         0.1285344808733338,
         0.12610729052515618,
         0.13508562528518947,
         0.12744447427342737,
         0.12680656423422007,
         0.1358286683086949,
         0.13474548865820513,
         0.13117058371049364,
         0.139426791314401,
         0.1369154141457281,
         0.13192984483965225,
         0.13001686704420448,
         0.12410948375704674,
         0.14495643573073422,
         0.13012077778202516,
         0.13658022172611847,
         0.13583806072847307,
         0.1239371615338554,
         0.13391327912876724,
         0.14222342493386023,
         0.13259541614166953,
         0.12525583874929655,
         0.12392183175852992,
         0.1314819066039367,
         0.13964247009614036,
         0.13755213514879588,
         0.12535500734835742,
         0.13700268726515513,
         0.12418422298474012,
         0.14091024537408087,
         0.13090564404949603,
         0.148072690830319,
         0.1348210607518697,
         0.1342475781901627,
         0.13236012433174824,
         0.12045208754612169,
         0.13646914178171182,
         0.1425011148191749,
         0.1386051405118084,
         0.13860861608515185,
         0.13325293296528756,
         0.129844954309188,
         0.12949759987010995,
         0.12845378331628549,
         0.12242017536507896,
         0.12979166470878725,
         0.14151911179280363,
         0.13322353398333886,
         0.13614841679526254,
         0.13539980602697127,
         0.13427171983575914,
         0.13710589486586264,
         0.1291975690652448,
         0.12341282453230265,
         0.13482540906790183,
         0.12188073362860971,
         0.13379205571901656,
         0.13880297931851246,
         0.1334126783872855,
         0.1261066258748556,
         0.13878767049810425,
         0.1169065510434973,
         0.13241416162964978,
         0.13382319542097845,
         0.1364189309171033,
         0.1376575151005939,
         0.14688347008639424,
         0.1287593490895697,
         0.14493087299853555,
         0.1294091711016902,
         0.13313327375862397,
         0.12934782533869651,
         0.1261584740075256,
         0.13170935823554228,
         0.13181188333602453,
         0.12496787674593157,
         0.13217481738117037,
         0.14395559222504103,
         0.15056270391512577,
         0.14323829190714515,
         0.1360175269970284,
         0.1276432893931387,
         0.13139426975055882,
         0.13865630071082075,
         0.13071220124547983,
         0.14189243326743028,
         0.13248928680196123,
         0.13426550075396243,
         0.1323318238692225,
         0.13351741540004008,
         0.13760594114188757,
         0.13962555749056857,
         0.13693065100094956,
         0.1336274090698914,
         0.13849240130750803
        ],
        [
         0.24173694681376218,
         0.239505466632545,
         0.25601474959403275,
         0.24461545813828706,
         0.24529658276587724,
         0.24585448298603296,
         0.238896687887609,
         0.24850983154028655,
         0.225733464024961,
         0.24081882257014514,
         0.2551987523213029,
         0.24230431411415337,
         0.24790771026164293,
         0.2519996205344796,
         0.25561992060393096,
         0.24096479434520007,
         0.24299859423190356,
         0.2299276577308774,
         0.25322526823729274,
         0.23553251903504133,
         0.2527368200942874,
         0.25697441939264537,
         0.23548877630382775,
         0.24640540722757578,
         0.24132517520338298,
         0.2375894570723176,
         0.2339274162426591,
         0.23253902699798346,
         0.23837796952575446,
         0.24073944110423326,
         0.25657112505286933,
         0.23708279225975276,
         0.2427576718851924,
         0.2311704156920314,
         0.2566474063321948,
         0.24580869022756816,
         0.2569503402337432,
         0.2571571977809072,
         0.24986201021820306,
         0.252021443285048,
         0.22048157397657633,
         0.24641761872917414,
         0.24976526629179716,
         0.2521496186032891,
         0.23976085390895605,
         0.24567627515643836,
         0.22826896365731955,
         0.2421849312260747,
         0.22962612193077803,
         0.22030260618776082,
         0.23081167358905078,
         0.2433402666822076,
         0.24641740527004002,
         0.2597525158897042,
         0.24565404746681452,
         0.23978452552109958,
         0.24858807306736708,
         0.2430548032745719,
         0.23751558270305395,
         0.25400962550193074,
         0.22292519975453615,
         0.2525181954726577,
         0.25541037451475856,
         0.2530097672715783,
         0.23118998315185307,
         0.25189357381314037,
         0.22671757023781539,
         0.2503072896972299,
         0.23827830273658038,
         0.2603484923020005,
         0.2480602039024234,
         0.2707985991612077,
         0.23143727649003268,
         0.25629294756799936,
         0.25071143414825203,
         0.2402855956926942,
         0.2465681517496705,
         0.228958379663527,
         0.24812423381954432,
         0.24398001302033662,
         0.24466928075999023,
         0.23409584257751703,
         0.26201208848506213,
         0.2743971461430192,
         0.25147526506334544,
         0.2511201104149222,
         0.2359915604814887,
         0.23930387180298568,
         0.248803530074656,
         0.2350359445437789,
         0.24543433506041765,
         0.2442242631688714,
         0.2410637179389596,
         0.25327048543840647,
         0.24176273513585328,
         0.2330787880346179,
         0.2548489490523934,
         0.2564625570550561,
         0.2448378985747695,
         0.25181457605212926
        ],
        [
         4.834738936275244,
         4.7901093326509,
         5.120294991880655,
         4.892309162765741,
         4.905931655317545,
         4.917089659720659,
         4.77793375775218,
         4.970196630805731,
         4.51466928049922,
         4.816376451402903,
         5.103975046426058,
         4.846086282283068,
         4.958154205232859,
         5.039992410689592,
         5.112398412078619,
         4.819295886904001,
         4.859971884638071,
         4.598553154617548,
         5.064505364745855,
         4.710650380700827,
         5.054736401885748,
         5.139488387852907,
         4.709775526076555,
         4.928108144551516,
         4.826503504067659,
         4.751789141446352,
         4.678548324853182,
         4.650780539959669,
         4.767559390515089,
         4.814788822084665,
         5.131422501057386,
         4.741655845195055,
         4.855153437703848,
         4.623408313840628,
         5.132948126643896,
         4.916173804551363,
         5.139006804674864,
         5.143143955618143,
         4.997240204364061,
         5.04042886570096,
         4.409631479531527,
         4.928352374583483,
         4.995305325835943,
         5.0429923720657825,
         4.795217078179121,
         4.913525503128767,
         4.565379273146391,
         4.843698624521494,
         4.5925224386155605,
         4.406052123755217,
         4.616233471781015,
         4.866805333644152,
         4.928348105400801,
         5.1950503177940845,
         4.91308094933629,
         4.795690510421991,
         4.9717614613473415,
         4.861096065491438,
         4.750311654061079,
         5.080192510038614,
         4.458503995090723,
         5.050363909453154,
         5.108207490295172,
         5.060195345431566,
         4.623799663037062,
         5.037871476262808,
         4.534351404756308,
         5.006145793944597,
         4.765566054731607,
         5.2069698460400105,
         4.961204078048468,
         5.4159719832241535,
         4.6287455298006535,
         5.125858951359987,
         5.01422868296504,
         4.805711913853884,
         4.93136303499341,
         4.57916759327054,
         4.962484676390886,
         4.879600260406733,
         4.893385615199804,
         4.681916851550341,
         5.2402417697012424,
         5.487942922860384,
         5.029505301266909,
         5.022402208298445,
         4.719831209629774,
         4.786077436059713,
         4.97607060149312,
         4.700718890875578,
         4.908686701208353,
         4.884485263377428,
         4.821274358779192,
         5.065409708768129,
         4.835254702717066,
         4.661575760692358,
         5.096978981047869,
         5.129251141101122,
         4.89675797149539,
         5.036291521042585
        ],
        [
         1.6229367780271313,
         1.6116246447851117,
         1.6823689319423059,
         1.6228519953815506,
         1.6411167112484508,
         1.6033370255397572,
         1.5881265096027846,
         1.6436886888044795,
         1.5965241888141086,
         1.592523558596356,
         1.6482030718858334,
         1.6416180350995486,
         1.619694932451748,
         1.6698909623948566,
         1.654783454991789,
         1.6243758483777837,
         1.6125561512344584,
         1.5754966439637168,
         1.702682799177429,
         1.613200407773474,
         1.6527566168442254,
         1.6482600567172225,
         1.57440249957789,
         1.6365407366073552,
         1.6865552166108302,
         1.6284680908244382,
         1.582756069325255,
         1.5743051277216238,
         1.6216159015249985,
         1.6711820373384845,
         1.6586267521585192,
         1.5833825017875967,
         1.6553107700075846,
         1.5759709577574081,
         1.678750996271221,
         1.6180583676091294,
         1.7208875084113953,
         1.6420783218340695,
         1.6385821809733114,
         1.6270225833205159,
         1.5521088076943683,
         1.6520843911962357,
         1.6882009052193694,
         1.6649633059728877,
         1.6649841806164516,
         1.6325007379188996,
         1.611489710232045,
         1.6093327801925241,
         1.6028336365093259,
         1.5647375202574965,
         1.6111589909676032,
         1.6823739881061144,
         1.6323206424188776,
         1.6501419138683955,
         1.6455990157202407,
         1.6387295068787842,
         1.6559341464313286,
         1.6074673811013696,
         1.5710685824132735,
         1.6421048021846951,
         1.561286223782236,
         1.6357998393386433,
         1.6661511295108404,
         1.6334789768300386,
         1.5881223244753888,
         1.6660592456338654,
         1.5290948371078708,
         1.6273546732636361,
         1.6359901920303705,
         1.6517804389028423,
         1.6592619750997364,
         1.7139630689509866,
         1.6047389139020074,
         1.7025326604710733,
         1.6087832116335015,
         1.6317675922668888,
         1.6084018486603184,
         1.5884487653526984,
         1.623017918789206,
         1.6236494901056973,
         1.5809356517324262,
         1.6258832515354253,
         1.6967945793468404,
         1.7352965390107005,
         1.692561915600993,
         1.6493485198527835,
         1.597769003286387,
         1.6210753822728838,
         1.6652705528581278,
         1.6168624013531878,
         1.6845915425849096,
         1.627816247627239,
         1.638691555808856,
         1.6268486338268997,
         1.6341200408785157,
         1.6589511212925327,
         1.6710808328179017,
         1.6548755300683466,
         1.6347930087316338,
         1.6642860409647617
        ]
       ],
       "encoder": "json",
       "name": "ABC_GAN_1 Metrics",
       "version": 1
      }
     },
     "metadata": {
      "scrapbook": {
       "data": true,
       "display": false,
       "name": "ABC_GAN_1 Metrics"
      }
     },
     "output_type": "display_data"
    },
    {
     "name": "stdout",
     "output_type": "stream",
     "text": [
      "MSE\n",
      "0.13350676144426177\n"
     ]
    }
   ],
   "source": [
    "ABC_GAN1_metrics=ABC_train_test2.test_generator(gen,test_data,prior_model,variance,bias,\"1\",device)\n",
    "sb.glue(\"ABC_GAN_1 Metrics\",ABC_GAN1_metrics)\n",
    "\n",
    "print(\"MSE\")\n",
    "print(mean(ABC_GAN1_metrics[0]))"
   ]
  },
  {
   "cell_type": "code",
   "execution_count": 14,
   "id": "eb22ce5c",
   "metadata": {
    "execution": {
     "iopub.execute_input": "2022-06-07T06:20:49.850320Z",
     "iopub.status.busy": "2022-06-07T06:20:49.849962Z",
     "iopub.status.idle": "2022-06-07T06:20:50.141839Z",
     "shell.execute_reply": "2022-06-07T06:20:50.142082Z"
    },
    "papermill": {
     "duration": 0.306333,
     "end_time": "2022-06-07T06:20:50.142206",
     "exception": false,
     "start_time": "2022-06-07T06:20:49.835873",
     "status": "completed"
    },
    "tags": []
   },
   "outputs": [
    {
     "data": {
      "image/png": "[encoded data removed]",
      "text/plain": [
       "<Figure size 432x288 with 1 Axes>"
      ]
     },
     "metadata": {
      "needs_background": "light"
     },
     "output_type": "display_data"
    },
    {
     "data": {
      "image/png": "[encoded data removed]",
      "text/plain": [
       "<Figure size 432x288 with 1 Axes>"
      ]
     },
     "metadata": {
      "needs_background": "light"
     },
     "output_type": "display_data"
    },
    {
     "data": {
      "image/png": "[encoded data removed]",
      "text/plain": [
       "<Figure size 432x288 with 1 Axes>"
      ]
     },
     "metadata": {
      "needs_background": "light"
     },
     "output_type": "display_data"
    },
    {
     "data": {
      "image/png": "[encoded data removed]",
      "text/plain": [
       "<Figure size 432x288 with 1 Axes>"
      ]
     },
     "metadata": {
      "needs_background": "light"
     },
     "output_type": "display_data"
    }
   ],
   "source": [
    "sanityChecks.discProbVsError(train_data,disc,device)\n",
    "sanityChecks.discProbVsError(test_data,disc,device)"
   ]
  },
  {
   "cell_type": "markdown",
   "id": "130f3a4d",
   "metadata": {
    "id": "130f3a4d",
    "papermill": {
     "duration": 0.036912,
     "end_time": "2022-06-07T06:20:50.194085",
     "exception": false,
     "start_time": "2022-06-07T06:20:50.157173",
     "status": "completed"
    },
    "tags": []
   },
   "source": [
    "# ABC - GAN Model with skip connection"
   ]
  },
  {
   "cell_type": "code",
   "execution_count": 15,
   "id": "4e43dad1",
   "metadata": {
    "execution": {
     "iopub.execute_input": "2022-06-07T06:20:50.226540Z",
     "iopub.status.busy": "2022-06-07T06:20:50.226163Z",
     "iopub.status.idle": "2022-06-07T06:20:50.228583Z",
     "shell.execute_reply": "2022-06-07T06:20:50.228827Z"
    },
    "id": "4e43dad1",
    "papermill": {
     "duration": 0.020314,
     "end_time": "2022-06-07T06:20:50.228942",
     "exception": false,
     "start_time": "2022-06-07T06:20:50.208628",
     "status": "completed"
    },
    "tags": []
   },
   "outputs": [],
   "source": [
    "#Generator\n",
    "gen3 = network.GeneratorWithSkipConnection(n_features+1).to(device)\n",
    "constraints=network.weightConstraint()\n",
    "#Discriminator \n",
    "disc3 = network.Discriminator(n_features+1).to(device)\n",
    "\n",
    "criterion = torch.nn.BCELoss()\n",
    "gen_opt = torch.optim.Adam(gen3.parameters(), lr=0.001, betas=(0.5, 0.999))\n",
    "disc_opt = torch.optim.Adam(disc3.parameters(), lr=0.001, betas=(0.5, 0.999))\n"
   ]
  },
  {
   "cell_type": "code",
   "execution_count": 16,
   "id": "26acbc37",
   "metadata": {
    "execution": {
     "iopub.execute_input": "2022-06-07T06:20:50.260122Z",
     "iopub.status.busy": "2022-06-07T06:20:50.259776Z",
     "iopub.status.idle": "2022-06-07T06:21:30.967911Z",
     "shell.execute_reply": "2022-06-07T06:21:30.968236Z"
    },
    "id": "26acbc37",
    "papermill": {
     "duration": 40.724981,
     "end_time": "2022-06-07T06:21:30.968362",
     "exception": false,
     "start_time": "2022-06-07T06:20:50.243381",
     "status": "completed"
    },
    "tags": []
   },
   "outputs": [
    {
     "data": {
      "image/png": "[encoded data removed]",
      "text/plain": [
       "<Figure size 432x288 with 1 Axes>"
      ]
     },
     "metadata": {
      "needs_background": "light"
     },
     "output_type": "display_data"
    },
    {
     "data": {
      "image/png": "[encoded data removed]",
      "text/plain": [
       "<Figure size 432x288 with 1 Axes>"
      ]
     },
     "metadata": {
      "needs_background": "light"
     },
     "output_type": "display_data"
    }
   ],
   "source": [
    "ABC_train_test2.training_GAN_skip_connection(disc3,gen3,disc_opt,gen_opt,train_data,batch_size,n_epochs,criterion,prior_model,variance,bias,device)"
   ]
  },
  {
   "cell_type": "code",
   "execution_count": 17,
   "id": "c5e0717b",
   "metadata": {
    "execution": {
     "iopub.execute_input": "2022-06-07T06:21:31.002239Z",
     "iopub.status.busy": "2022-06-07T06:21:31.001673Z",
     "iopub.status.idle": "2022-06-07T06:21:31.326684Z",
     "shell.execute_reply": "2022-06-07T06:21:31.327008Z"
    },
    "id": "c5e0717b",
    "papermill": {
     "duration": 0.343145,
     "end_time": "2022-06-07T06:21:31.327134",
     "exception": false,
     "start_time": "2022-06-07T06:21:30.983989",
     "status": "completed"
    },
    "tags": []
   },
   "outputs": [
    {
     "data": {
      "application/scrapbook.scrap.json+json": {
       "data": 0.14634918186622461,
       "encoder": "json",
       "name": "ABC-GAN Model 3 MSE",
       "version": 1
      }
     },
     "metadata": {
      "scrapbook": {
       "data": true,
       "display": false,
       "name": "ABC-GAN Model 3 MSE"
      }
     },
     "output_type": "display_data"
    },
    {
     "data": {
      "application/scrapbook.scrap.json+json": {
       "data": 0.2299847101937048,
       "encoder": "json",
       "name": "ABC-GAN Model 3 MAE",
       "version": 1
      }
     },
     "metadata": {
      "scrapbook": {
       "data": true,
       "display": false,
       "name": "ABC-GAN Model 3 MAE"
      }
     },
     "output_type": "display_data"
    },
    {
     "data": {
      "application/scrapbook.scrap.json+json": {
       "data": 4.599694203874097,
       "encoder": "json",
       "name": "ABC-GAN Model 3 Manhattan Distance",
       "version": 1
      }
     },
     "metadata": {
      "scrapbook": {
       "data": true,
       "display": false,
       "name": "ABC-GAN Model 3 Manhattan Distance"
      }
     },
     "output_type": "display_data"
    },
    {
     "data": {
      "application/scrapbook.scrap.json+json": {
       "data": 1.7106012935766668,
       "encoder": "json",
       "name": "ABC-GAN Model 3 Euclidean distance",
       "version": 1
      }
     },
     "metadata": {
      "scrapbook": {
       "data": true,
       "display": false,
       "name": "ABC-GAN Model 3 Euclidean distance"
      }
     },
     "output_type": "display_data"
    },
    {
     "data": {
      "application/scrapbook.scrap.json+json": {
       "data": [
        [
         0.14693844498320843,
         0.14781163916330034,
         0.14333010259723777,
         0.14965194349712999,
         0.14078161409022577,
         0.141600554032124,
         0.15055363345574657,
         0.14220280748288816,
         0.1490711767292018,
         0.1439094104696858,
         0.14151757979188326,
         0.14567920554498998,
         0.1536298881011398,
         0.1438011286521932,
         0.14165451344088426,
         0.15182684462923754,
         0.14231576047488118,
         0.15217570271195197,
         0.14325655962321376,
         0.15483365199395402,
         0.14555195080432645,
         0.14104343291615437,
         0.1446141137922737,
         0.14162188693631772,
         0.1472386954165144,
         0.1396527268672598,
         0.1477229349563101,
         0.1481722277578355,
         0.14392246058326108,
         0.15609726245859926,
         0.1563273382709841,
         0.14868271083584025,
         0.1420154587123313,
         0.14923506576405415,
         0.14528814487813305,
         0.1407861113445547,
         0.1384420638354294,
         0.14776898868094013,
         0.14803950154257156,
         0.14606318738329044,
         0.15220043629068145,
         0.1426727134895596,
         0.14642278883977633,
         0.13943967447942107,
         0.13941965475400137,
         0.14297473217382042,
         0.14615384069155882,
         0.1465451415380232,
         0.1610534377464148,
         0.14062441729905562,
         0.14151225124656736,
         0.15286332273362255,
         0.1494686356058767,
         0.14434678439773488,
         0.13497360805679592,
         0.14123851322379644,
         0.1478024194546206,
         0.14859478731382264,
         0.14466694898985571,
         0.14042868463853467,
         0.15133335913844104,
         0.15097584564386704,
         0.14672597911540275,
         0.14663520303937003,
         0.14570327551088952,
         0.14150751531361913,
         0.1424886421035067,
         0.1449964558501675,
         0.1477967828981877,
         0.1513120066703361,
         0.14861922919315357,
         0.1529477144308981,
         0.1500931600790602,
         0.13487392434808507,
         0.15692385698956454,
         0.14959589062783182,
         0.14803349033114935,
         0.1443126831942388,
         0.14548928690726526,
         0.14676078204375276,
         0.14498499449193328,
         0.14769635764548722,
         0.14410141773100033,
         0.14106083309009812,
         0.14124612883653948,
         0.14756954633898228,
         0.145237600708066,
         0.14304167083729127,
         0.1452842473029741,
         0.1555655777956796,
         0.1447253247617889,
         0.15971040250281654,
         0.1490989579122473,
         0.14752221553946468,
         0.14405064916460536,
         0.15398937337265814,
         0.14915186016588058,
         0.13981075319781947,
         0.14524048206189874,
         0.15047349157084486
        ],
        [
         0.23110113376751543,
         0.22710370207205416,
         0.2238303003832698,
         0.23047485519200564,
         0.21893933657556772,
         0.23116580601781606,
         0.24107230436056853,
         0.22164214234799146,
         0.2322445210069418,
         0.23037455547600985,
         0.23185496125370264,
         0.23142468482255935,
         0.2422349438071251,
         0.2281052153557539,
         0.22457951921969652,
         0.24342271108180286,
         0.22828160701319575,
         0.23460080493241547,
         0.22819254640489817,
         0.22882183268666267,
         0.23010232169181108,
         0.2205376798287034,
         0.2360599709674716,
         0.22168352492153645,
         0.23624553754925728,
         0.2142655484378338,
         0.23728261701762676,
         0.2457810016348958,
         0.23448705268092454,
         0.23931860756129025,
         0.24566036127507687,
         0.22978116031736134,
         0.22330515142530202,
         0.22880662716925143,
         0.22977229710668326,
         0.22528385035693646,
         0.22147154975682498,
         0.2307910479605198,
         0.22701960122212766,
         0.22426056060940028,
         0.24243273232132195,
         0.2209559040144086,
         0.23769881743937732,
         0.21818567719310522,
         0.23474408481270076,
         0.22661284897476436,
         0.23095533195883036,
         0.23171610701829196,
         0.2571028916165233,
         0.21902571935206652,
         0.23432745384052395,
         0.23876875806599857,
         0.2284386558458209,
         0.23106403201818465,
         0.22325400058180095,
         0.21559831146150826,
         0.2236575296148658,
         0.2265570228919387,
         0.22791237179189922,
         0.2204797625541687,
         0.2315937103703618,
         0.22926992177963257,
         0.23015833403915167,
         0.2222033968195319,
         0.23715955596417188,
         0.22431558091193438,
         0.22388003189116717,
         0.22475685309618712,
         0.23507274519652127,
         0.2402357893064618,
         0.22835600841790438,
         0.23841286357492208,
         0.2347025703638792,
         0.2178369013592601,
         0.23673727158457042,
         0.23561988417059182,
         0.22594675924628974,
         0.23811406102031468,
         0.21508125979453324,
         0.23681584196165203,
         0.22333216350525617,
         0.23307504076510668,
         0.22126019853167236,
         0.23261529449373483,
         0.22406736630946397,
         0.23591677416116,
         0.2246286773122847,
         0.2187567612156272,
         0.22582836505025625,
         0.24360008910298347,
         0.2183445831760764,
         0.24633728475309907,
         0.22769767586141826,
         0.22601460376754404,
         0.23576277773827314,
         0.2407335864380002,
         0.23030586671084166,
         0.22598424116149546,
         0.22667217310518026,
         0.2303965887054801
        ],
        [
         4.622022675350308,
         4.542074041441083,
         4.476606007665396,
         4.609497103840113,
         4.3787867315113544,
         4.623316120356321,
         4.8214460872113705,
         4.432842846959829,
         4.644890420138836,
         4.607491109520197,
         4.637099225074053,
         4.628493696451187,
         4.844698876142502,
         4.562104307115078,
         4.49159038439393,
         4.868454221636057,
         4.565632140263915,
         4.69201609864831,
         4.563850928097963,
         4.5764366537332535,
         4.602046433836222,
         4.410753596574068,
         4.721199419349432,
         4.433670498430729,
         4.724910750985146,
         4.285310968756676,
         4.745652340352535,
         4.915620032697916,
         4.689741053618491,
         4.786372151225805,
         4.913207225501537,
         4.595623206347227,
         4.466103028506041,
         4.576132543385029,
         4.595445942133665,
         4.505677007138729,
         4.429430995136499,
         4.615820959210396,
         4.5403920244425535,
         4.4852112121880054,
         4.848654646426439,
         4.419118080288172,
         4.753976348787546,
         4.363713543862104,
         4.694881696254015,
         4.532256979495287,
         4.619106639176607,
         4.634322140365839,
         5.142057832330465,
         4.38051438704133,
         4.686549076810479,
         4.775375161319971,
         4.568773116916418,
         4.621280640363693,
         4.465080011636019,
         4.3119662292301655,
         4.473150592297316,
         4.531140457838774,
         4.558247435837984,
         4.409595251083374,
         4.631874207407236,
         4.585398435592651,
         4.603166680783033,
         4.444067936390638,
         4.743191119283438,
         4.4863116182386875,
         4.477600637823343,
         4.495137061923742,
         4.701454903930426,
         4.804715786129236,
         4.5671201683580875,
         4.768257271498442,
         4.694051407277584,
         4.356738027185202,
         4.734745431691408,
         4.712397683411837,
         4.518935184925795,
         4.762281220406294,
         4.301625195890665,
         4.736316839233041,
         4.4666432701051235,
         4.661500815302134,
         4.425203970633447,
         4.652305889874697,
         4.48134732618928,
         4.7183354832232,
         4.492573546245694,
         4.375135224312544,
         4.516567301005125,
         4.8720017820596695,
         4.366891663521528,
         4.926745695061982,
         4.553953517228365,
         4.520292075350881,
         4.715255554765463,
         4.814671728760004,
         4.606117334216833,
         4.519684823229909,
         4.533443462103605,
         4.607931774109602
        ],
        [
         1.7142837862104887,
         1.7193698797134975,
         1.6931042649360835,
         1.730040135355998,
         1.6779845892631182,
         1.682858009649798,
         1.7352442678524922,
         1.6864329662508863,
         1.7266799166562505,
         1.6965223869415094,
         1.682364881896215,
         1.7069224091621154,
         1.7528827005886036,
         1.6958840093130967,
         1.6831786205919101,
         1.7425661802596626,
         1.687102607874703,
         1.7445670105327107,
         1.692669841541544,
         1.7597366393523437,
         1.7061767247523127,
         1.6795441817121357,
         1.700671125128393,
         1.6829847707945411,
         1.7160343552301882,
         1.6712434105614886,
         1.7188538911513689,
         1.7214658158548226,
         1.6965993079290176,
         1.7669027277051743,
         1.7682043901709106,
         1.724428663852699,
         1.6853216827201345,
         1.727628812934388,
         1.7046298418022199,
         1.6780113905725118,
         1.6639835566220562,
         1.7191218030200195,
         1.7206946361430406,
         1.7091704852547065,
         1.7447087796574043,
         1.6892170582228891,
         1.7112731449992216,
         1.66996811035074,
         1.669848225163002,
         1.691004034139602,
         1.70970079658143,
         1.711987976231277,
         1.794733616704244,
         1.677047508564117,
         1.6823332086514096,
         1.7485040619548047,
         1.7289802520900965,
         1.6990984927174462,
         1.643007048413341,
         1.6807052878110216,
         1.7193162562752706,
         1.7239187180016502,
         1.700981769389994,
         1.6758799756458376,
         1.7397319284213935,
         1.7376757214386522,
         1.7130439522405883,
         1.7125139592970915,
         1.7070634171634604,
         1.6823050574352985,
         1.6881270219003468,
         1.7029178245010386,
         1.7192834722534136,
         1.739609189848893,
         1.7240604930985082,
         1.7489866462091592,
         1.7325885840502369,
         1.6424002213107807,
         1.7715747626875054,
         1.7297161075033778,
         1.7206597009934843,
         1.6988977791158524,
         1.7058094085053304,
         1.7132471044408788,
         1.7028505189354306,
         1.7186992619157502,
         1.6976537793731696,
         1.679647779089998,
         1.6807505992058398,
         1.7179612704539198,
         1.7043333048911882,
         1.691399839406941,
         1.7046069770065715,
         1.7638910272218042,
         1.7013249234745778,
         1.7872347495660246,
         1.7268408028086857,
         1.7176857427333132,
         1.697354701673197,
         1.7549323256049398,
         1.7271471284513116,
         1.6721887046492059,
         1.7043502108539708,
         1.7347823585155855
        ]
       ],
       "encoder": "json",
       "name": "ABC_GAN_3 Metrics",
       "version": 1
      }
     },
     "metadata": {
      "scrapbook": {
       "data": true,
       "display": false,
       "name": "ABC_GAN_3 Metrics"
      }
     },
     "output_type": "display_data"
    },
    {
     "name": "stdout",
     "output_type": "stream",
     "text": [
      "MSE\n",
      "0.14634918186622461\n"
     ]
    }
   ],
   "source": [
    "ABC_GAN3_metrics=ABC_train_test2.test_generator(gen3,test_data,prior_model,variance,bias,\"3\",device)\n",
    "sb.glue(\"ABC_GAN_3 Metrics\",ABC_GAN3_metrics)\n",
    "\n",
    "print(\"MSE\")\n",
    "print(mean(ABC_GAN3_metrics[0]))"
   ]
  },
  {
   "cell_type": "code",
   "execution_count": 18,
   "id": "c8e46b48",
   "metadata": {
    "execution": {
     "iopub.execute_input": "2022-06-07T06:21:31.363968Z",
     "iopub.status.busy": "2022-06-07T06:21:31.363601Z",
     "iopub.status.idle": "2022-06-07T06:21:31.655846Z",
     "shell.execute_reply": "2022-06-07T06:21:31.656219Z"
    },
    "id": "c8e46b48",
    "papermill": {
     "duration": 0.312125,
     "end_time": "2022-06-07T06:21:31.656343",
     "exception": false,
     "start_time": "2022-06-07T06:21:31.344218",
     "status": "completed"
    },
    "tags": []
   },
   "outputs": [
    {
     "data": {
      "image/png": "[encoded data removed]",
      "text/plain": [
       "<Figure size 432x288 with 1 Axes>"
      ]
     },
     "metadata": {
      "needs_background": "light"
     },
     "output_type": "display_data"
    },
    {
     "data": {
      "image/png": "[encoded data removed]",
      "text/plain": [
       "<Figure size 432x288 with 1 Axes>"
      ]
     },
     "metadata": {
      "needs_background": "light"
     },
     "output_type": "display_data"
    },
    {
     "data": {
      "image/png": "[encoded data removed]",
      "text/plain": [
       "<Figure size 432x288 with 1 Axes>"
      ]
     },
     "metadata": {
      "needs_background": "light"
     },
     "output_type": "display_data"
    },
    {
     "data": {
      "image/png": "[encoded data removed]",
      "text/plain": [
       "<Figure size 432x288 with 1 Axes>"
      ]
     },
     "metadata": {
      "needs_background": "light"
     },
     "output_type": "display_data"
    }
   ],
   "source": [
    "sanityChecks.discProbVsError(train_data,disc3,device)\n",
    "sanityChecks.discProbVsError(test_data,disc3,device)"
   ]
  },
  {
   "cell_type": "markdown",
   "id": "a5bd74c3",
   "metadata": {
    "id": "a5bd74c3",
    "papermill": {
     "duration": 0.019022,
     "end_time": "2022-06-07T06:21:31.694766",
     "exception": false,
     "start_time": "2022-06-07T06:21:31.675744",
     "status": "completed"
    },
    "tags": []
   },
   "source": [
    "## Skip Connection Model Analysis - ABC-GAN "
   ]
  },
  {
   "cell_type": "markdown",
   "id": "5744a8bf",
   "metadata": {
    "id": "5744a8bf",
    "papermill": {
     "duration": 0.018995,
     "end_time": "2022-06-07T06:21:31.732646",
     "exception": false,
     "start_time": "2022-06-07T06:21:31.713651",
     "status": "completed"
    },
    "tags": []
   },
   "source": [
    "### Weight Analysis \n",
    "\n",
    "Study the weights of the skip connection layer\n",
    "\n",
    "Equation of the skip connection is \n",
    "\n",
    "$output = y_{gan} * w + y_{abc} * (1-w)$"
   ]
  },
  {
   "cell_type": "code",
   "execution_count": 19,
   "id": "52c31dea",
   "metadata": {
    "execution": {
     "iopub.execute_input": "2022-06-07T06:21:31.774993Z",
     "iopub.status.busy": "2022-06-07T06:21:31.774611Z",
     "iopub.status.idle": "2022-06-07T06:21:31.778155Z",
     "shell.execute_reply": "2022-06-07T06:21:31.778419Z"
    },
    "id": "52c31dea",
    "papermill": {
     "duration": 0.02668,
     "end_time": "2022-06-07T06:21:31.778564",
     "exception": false,
     "start_time": "2022-06-07T06:21:31.751884",
     "status": "completed"
    },
    "tags": []
   },
   "outputs": [
    {
     "name": "stdout",
     "output_type": "stream",
     "text": [
      "Weight of the node at skip connection\n",
      "Parameter containing:\n",
      "tensor([[0.7300]], requires_grad=True)\n"
     ]
    },
    {
     "data": {
      "application/scrapbook.scrap.json+json": {
       "data": 0.7299714684486389,
       "encoder": "json",
       "name": "Skip Connection Weight",
       "version": 1
      }
     },
     "metadata": {
      "scrapbook": {
       "data": true,
       "display": false,
       "name": "Skip Connection Weight"
      }
     },
     "output_type": "display_data"
    }
   ],
   "source": [
    "print(\"Weight of the node at skip connection\")\n",
    "for name,param in gen3.named_parameters():\n",
    "    if(name == \"skipNode.weight\"):\n",
    "        print(param)\n",
    "        sb.glue(\"Skip Connection Weight\",param.item())"
   ]
  }
 ],
 "metadata": {
  "colab": {
   "collapsed_sections": [],
   "name": "ABC_GAN_Model-Catboost_Pre-gen.ipynb",
   "provenance": []
  },
  "interpreter": {
   "hash": "31f2aee4e71d21fbe5cf8b01ff0e069b9275f58929596ceb00d14d90e3e16cd6"
  },
  "kernelspec": {
   "display_name": "Python 3 (ipykernel)",
   "language": "python",
   "name": "python3"
  },
  "language_info": {
   "codemirror_mode": {
    "name": "ipython",
    "version": 3
   },
   "file_extension": ".py",
   "mimetype": "text/x-python",
   "name": "python",
   "nbconvert_exporter": "python",
   "pygments_lexer": "ipython3",
   "version": "3.8.11"
  },
  "papermill": {
   "default_parameters": {},
   "duration": 62.010136,
   "end_time": "2022-06-07T06:21:32.106539",
   "environment_variables": {},
   "exception": null,
   "input_path": "ABC_GAN-Catboost.ipynb",
   "output_path": "./ABC_GAN_Catboost/ABC-GAN_output_3_7.ipynb",
   "parameters": {
    "bias": 0.01,
    "variance": 0.1
   },
   "start_time": "2022-06-07T06:20:30.096403",
   "version": "2.3.3"
  }
 },
 "nbformat": 4,
 "nbformat_minor": 5
}