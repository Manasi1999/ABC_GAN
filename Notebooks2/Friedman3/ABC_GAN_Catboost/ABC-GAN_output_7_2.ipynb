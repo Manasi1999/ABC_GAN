{
 "cells": [
  {
   "cell_type": "markdown",
   "id": "622780e6",
   "metadata": {
    "id": "622780e6",
    "papermill": {
     "duration": 0.035848,
     "end_time": "2022-06-07T06:49:51.423493",
     "exception": false,
     "start_time": "2022-06-07T06:49:51.387645",
     "status": "completed"
    },
    "tags": []
   },
   "source": [
    "## Import Libraries "
   ]
  },
  {
   "cell_type": "code",
   "execution_count": 1,
   "id": "a62397e3",
   "metadata": {
    "execution": {
     "iopub.execute_input": "2022-06-07T06:49:51.467332Z",
     "iopub.status.busy": "2022-06-07T06:49:51.466719Z",
     "iopub.status.idle": "2022-06-07T06:49:51.469427Z",
     "shell.execute_reply": "2022-06-07T06:49:51.469768Z"
    },
    "id": "a62397e3",
    "papermill": {
     "duration": 0.025782,
     "end_time": "2022-06-07T06:49:51.470092",
     "exception": false,
     "start_time": "2022-06-07T06:49:51.444310",
     "status": "completed"
    },
    "tags": []
   },
   "outputs": [],
   "source": [
    "import warnings\n",
    "import sys\n",
    "sys.path.insert(0, '../../src')\n",
    "warnings.filterwarnings('ignore')"
   ]
  },
  {
   "cell_type": "code",
   "execution_count": 2,
   "id": "d6a4e155",
   "metadata": {
    "execution": {
     "iopub.execute_input": "2022-06-07T06:49:51.497444Z",
     "iopub.status.busy": "2022-06-07T06:49:51.497040Z",
     "iopub.status.idle": "2022-06-07T06:49:53.351954Z",
     "shell.execute_reply": "2022-06-07T06:49:53.352208Z"
    },
    "id": "d6a4e155",
    "papermill": {
     "duration": 1.872892,
     "end_time": "2022-06-07T06:49:53.352390",
     "exception": false,
     "start_time": "2022-06-07T06:49:51.479498",
     "status": "completed"
    },
    "tags": []
   },
   "outputs": [],
   "source": [
    "import ABC_train_test2\n",
    "import friedman1Dataset\n",
    "import network\n",
    "import dataset\n",
    "import sanityChecks\n",
    "import torch \n",
    "import scrapbook as sb\n",
    "from statistics import mean \n",
    "import catboost as ctb \n",
    "from sklearn.model_selection import train_test_split\n",
    "from sklearn.metrics import mean_squared_error,mean_absolute_error\n",
    "import numpy as np"
   ]
  },
  {
   "cell_type": "markdown",
   "id": "2fa5b0f7",
   "metadata": {
    "id": "2fa5b0f7",
    "papermill": {
     "duration": 0.006834,
     "end_time": "2022-06-07T06:49:53.366625",
     "exception": false,
     "start_time": "2022-06-07T06:49:53.359791",
     "status": "completed"
    },
    "tags": []
   },
   "source": [
    "## Parameters "
   ]
  },
  {
   "cell_type": "code",
   "execution_count": 3,
   "id": "783186fb",
   "metadata": {
    "execution": {
     "iopub.execute_input": "2022-06-07T06:49:53.382472Z",
     "iopub.status.busy": "2022-06-07T06:49:53.382089Z",
     "iopub.status.idle": "2022-06-07T06:49:53.383471Z",
     "shell.execute_reply": "2022-06-07T06:49:53.383725Z"
    },
    "id": "783186fb",
    "papermill": {
     "duration": 0.010437,
     "end_time": "2022-06-07T06:49:53.383833",
     "exception": false,
     "start_time": "2022-06-07T06:49:53.373396",
     "status": "completed"
    },
    "tags": [
     "parameters"
    ]
   },
   "outputs": [],
   "source": [
    "variance = 1\n",
    "bias = 1 "
   ]
  },
  {
   "cell_type": "code",
   "execution_count": 4,
   "id": "bb1bedb1",
   "metadata": {
    "execution": {
     "iopub.execute_input": "2022-06-07T06:49:53.399397Z",
     "iopub.status.busy": "2022-06-07T06:49:53.399055Z",
     "iopub.status.idle": "2022-06-07T06:49:53.400485Z",
     "shell.execute_reply": "2022-06-07T06:49:53.400737Z"
    },
    "papermill": {
     "duration": 0.010074,
     "end_time": "2022-06-07T06:49:53.400845",
     "exception": false,
     "start_time": "2022-06-07T06:49:53.390771",
     "status": "completed"
    },
    "tags": [
     "injected-parameters"
    ]
   },
   "outputs": [],
   "source": [
    "# Parameters\n",
    "variance = 0.01\n",
    "bias = 1\n"
   ]
  },
  {
   "cell_type": "markdown",
   "id": "391cdbfd",
   "metadata": {
    "id": "391cdbfd",
    "papermill": {
     "duration": 0.006877,
     "end_time": "2022-06-07T06:49:53.414733",
     "exception": false,
     "start_time": "2022-06-07T06:49:53.407856",
     "status": "completed"
    },
    "tags": []
   },
   "source": [
    "## Dataset \n"
   ]
  },
  {
   "cell_type": "code",
   "execution_count": 5,
   "id": "5b51f161",
   "metadata": {
    "execution": {
     "iopub.execute_input": "2022-06-07T06:49:53.430651Z",
     "iopub.status.busy": "2022-06-07T06:49:53.430268Z",
     "iopub.status.idle": "2022-06-07T06:49:53.431609Z",
     "shell.execute_reply": "2022-06-07T06:49:53.431857Z"
    },
    "id": "5b51f161",
    "papermill": {
     "duration": 0.010341,
     "end_time": "2022-06-07T06:49:53.431968",
     "exception": false,
     "start_time": "2022-06-07T06:49:53.421627",
     "status": "completed"
    },
    "tags": []
   },
   "outputs": [],
   "source": [
    "#Parameters \n",
    "n_features = 5\n",
    "n_samples= 100\n",
    "n_target = 1 "
   ]
  },
  {
   "cell_type": "code",
   "execution_count": 6,
   "id": "5d6eced4",
   "metadata": {
    "execution": {
     "iopub.execute_input": "2022-06-07T06:49:53.450640Z",
     "iopub.status.busy": "2022-06-07T06:49:53.449269Z",
     "iopub.status.idle": "2022-06-07T06:49:53.455691Z",
     "shell.execute_reply": "2022-06-07T06:49:53.455942Z"
    },
    "id": "5d6eced4",
    "papermill": {
     "duration": 0.016823,
     "end_time": "2022-06-07T06:49:53.456059",
     "exception": false,
     "start_time": "2022-06-07T06:49:53.439236",
     "status": "completed"
    },
    "tags": []
   },
   "outputs": [
    {
     "name": "stdout",
     "output_type": "stream",
     "text": [
      "         X0        X1        X2        X3        X4         Y\n",
      "0 -0.926577 -1.384998 -0.575490  0.882951  0.796789 -0.393832\n",
      "1 -1.633050  0.625195 -0.049495  1.374092  1.315924  0.157384\n",
      "2 -0.865124  0.568136 -0.304428 -0.321051  0.573327 -0.286308\n",
      "3  0.887624 -0.266074  0.129396  0.846212  0.547146  0.923144\n",
      "4 -0.818440 -1.100134  0.077847  1.332024 -0.222558 -0.376160\n"
     ]
    }
   ],
   "source": [
    "X,Y = friedman1Dataset.friedman1_data(n_samples,n_features)"
   ]
  },
  {
   "cell_type": "code",
   "execution_count": 7,
   "id": "fe007438",
   "metadata": {
    "execution": {
     "iopub.execute_input": "2022-06-07T06:49:53.473199Z",
     "iopub.status.busy": "2022-06-07T06:49:53.472792Z",
     "iopub.status.idle": "2022-06-07T06:49:53.474339Z",
     "shell.execute_reply": "2022-06-07T06:49:53.474577Z"
    },
    "id": "fe007438",
    "papermill": {
     "duration": 0.011257,
     "end_time": "2022-06-07T06:49:53.474683",
     "exception": false,
     "start_time": "2022-06-07T06:49:53.463426",
     "status": "completed"
    },
    "tags": []
   },
   "outputs": [],
   "source": [
    "#Train test split for dataset \n",
    "X_train,X_test,Y_train,Y_test = train_test_split(X,Y,test_size = 0.2)\n",
    "train_data = dataset.CustomDataset(X_train,Y_train)\n",
    "test_data = dataset.CustomDataset(X_test,Y_test)\n"
   ]
  },
  {
   "cell_type": "markdown",
   "id": "a9a1af34",
   "metadata": {
    "id": "a9a1af34",
    "papermill": {
     "duration": 0.007106,
     "end_time": "2022-06-07T06:49:53.488993",
     "exception": false,
     "start_time": "2022-06-07T06:49:53.481887",
     "status": "completed"
    },
    "tags": []
   },
   "source": [
    "## Training Parameters "
   ]
  },
  {
   "cell_type": "code",
   "execution_count": 8,
   "id": "952b7fc8",
   "metadata": {
    "execution": {
     "iopub.execute_input": "2022-06-07T06:49:53.505674Z",
     "iopub.status.busy": "2022-06-07T06:49:53.505312Z",
     "iopub.status.idle": "2022-06-07T06:49:53.506690Z",
     "shell.execute_reply": "2022-06-07T06:49:53.506927Z"
    },
    "id": "952b7fc8",
    "papermill": {
     "duration": 0.010805,
     "end_time": "2022-06-07T06:49:53.507034",
     "exception": false,
     "start_time": "2022-06-07T06:49:53.496229",
     "status": "completed"
    },
    "tags": []
   },
   "outputs": [],
   "source": [
    "batch_size = 32\n",
    "n_epochs = 1000\n",
    "#Select the device \n",
    "device = torch.device('cuda' if torch.cuda.is_available() else 'cpu')"
   ]
  },
  {
   "cell_type": "markdown",
   "id": "a95e1600",
   "metadata": {
    "id": "a95e1600",
    "papermill": {
     "duration": 0.007142,
     "end_time": "2022-06-07T06:49:53.521451",
     "exception": false,
     "start_time": "2022-06-07T06:49:53.514309",
     "status": "completed"
    },
    "tags": []
   },
   "source": [
    "# ABC Pre-generator Model \n",
    "\n",
    "1. The catboost model is used as a pre-generator model for the ABC-GAN. \n",
    "2. The model is first trained on the entire dataset \n",
    "3. It generats X,Y pairs and we add some Gaussian noise with mean 0 and variance 1 to it which is then feed as input to the generator.\n"
   ]
  },
  {
   "cell_type": "code",
   "execution_count": 9,
   "id": "ff8ce7bd",
   "metadata": {
    "execution": {
     "iopub.execute_input": "2022-06-07T06:49:53.539338Z",
     "iopub.status.busy": "2022-06-07T06:49:53.538954Z",
     "iopub.status.idle": "2022-06-07T06:49:54.168210Z",
     "shell.execute_reply": "2022-06-07T06:49:54.168456Z"
    },
    "id": "ff8ce7bd",
    "papermill": {
     "duration": 0.639926,
     "end_time": "2022-06-07T06:49:54.168578",
     "exception": false,
     "start_time": "2022-06-07T06:49:53.528652",
     "status": "completed"
    },
    "tags": []
   },
   "outputs": [
    {
     "name": "stdout",
     "output_type": "stream",
     "text": [
      "Learning rate set to 0.024897\n",
      "0:\tlearn: 1.0466724\ttotal: 67ms\tremaining: 1m 6s\n",
      "1:\tlearn: 1.0372011\ttotal: 67.7ms\tremaining: 33.8s\n",
      "2:\tlearn: 1.0254515\ttotal: 68.2ms\tremaining: 22.7s\n",
      "3:\tlearn: 1.0142200\ttotal: 68.7ms\tremaining: 17.1s\n",
      "4:\tlearn: 1.0045016\ttotal: 69.2ms\tremaining: 13.8s\n",
      "5:\tlearn: 0.9941014\ttotal: 69.7ms\tremaining: 11.6s\n",
      "6:\tlearn: 0.9828613\ttotal: 70.2ms\tremaining: 9.96s\n",
      "7:\tlearn: 0.9724352\ttotal: 71.7ms\tremaining: 8.89s\n",
      "8:\tlearn: 0.9618133\ttotal: 73ms\tremaining: 8.04s\n",
      "9:\tlearn: 0.9504003\ttotal: 73.5ms\tremaining: 7.28s\n",
      "10:\tlearn: 0.9410415\ttotal: 74.1ms\tremaining: 6.66s\n",
      "11:\tlearn: 0.9306353\ttotal: 74.5ms\tremaining: 6.14s\n",
      "12:\tlearn: 0.9212673\ttotal: 75ms\tremaining: 5.7s\n",
      "13:\tlearn: 0.9104457\ttotal: 75.4ms\tremaining: 5.31s\n",
      "14:\tlearn: 0.9032553\ttotal: 76.1ms\tremaining: 5s\n",
      "15:\tlearn: 0.8947798\ttotal: 76.5ms\tremaining: 4.71s\n",
      "16:\tlearn: 0.8861208\ttotal: 77ms\tremaining: 4.45s\n",
      "17:\tlearn: 0.8772636\ttotal: 77.5ms\tremaining: 4.23s\n",
      "18:\tlearn: 0.8695237\ttotal: 78ms\tremaining: 4.03s\n",
      "19:\tlearn: 0.8602352\ttotal: 78.5ms\tremaining: 3.85s\n",
      "20:\tlearn: 0.8511453\ttotal: 79.1ms\tremaining: 3.69s\n",
      "21:\tlearn: 0.8423320\ttotal: 79.6ms\tremaining: 3.54s\n",
      "22:\tlearn: 0.8324571\ttotal: 80.1ms\tremaining: 3.4s\n",
      "23:\tlearn: 0.8231464\ttotal: 80.6ms\tremaining: 3.28s\n",
      "24:\tlearn: 0.8157673\ttotal: 81.1ms\tremaining: 3.16s\n",
      "25:\tlearn: 0.8080899\ttotal: 81.5ms\tremaining: 3.05s\n",
      "26:\tlearn: 0.8007029\ttotal: 81.9ms\tremaining: 2.95s\n",
      "27:\tlearn: 0.7928749\ttotal: 82.3ms\tremaining: 2.86s\n",
      "28:\tlearn: 0.7857211\ttotal: 82.8ms\tremaining: 2.77s\n",
      "29:\tlearn: 0.7782043\ttotal: 83.3ms\tremaining: 2.69s\n",
      "30:\tlearn: 0.7697748\ttotal: 83.8ms\tremaining: 2.62s\n",
      "31:\tlearn: 0.7617837\ttotal: 84.3ms\tremaining: 2.55s\n",
      "32:\tlearn: 0.7545749\ttotal: 84.8ms\tremaining: 2.48s\n",
      "33:\tlearn: 0.7474131\ttotal: 85.2ms\tremaining: 2.42s\n",
      "34:\tlearn: 0.7410230\ttotal: 85.7ms\tremaining: 2.36s\n",
      "35:\tlearn: 0.7360015\ttotal: 86.1ms\tremaining: 2.3s\n",
      "36:\tlearn: 0.7288757\ttotal: 86.5ms\tremaining: 2.25s\n",
      "37:\tlearn: 0.7219436\ttotal: 86.9ms\tremaining: 2.2s\n",
      "38:\tlearn: 0.7148159\ttotal: 87.4ms\tremaining: 2.15s\n",
      "39:\tlearn: 0.7091867\ttotal: 87.8ms\tremaining: 2.11s\n",
      "40:\tlearn: 0.7018971\ttotal: 88.1ms\tremaining: 2.06s\n",
      "41:\tlearn: 0.6956874\ttotal: 88.5ms\tremaining: 2.02s\n",
      "42:\tlearn: 0.6885277\ttotal: 88.9ms\tremaining: 1.98s\n",
      "43:\tlearn: 0.6821706\ttotal: 89.3ms\tremaining: 1.94s\n",
      "44:\tlearn: 0.6764934\ttotal: 89.8ms\tremaining: 1.91s\n",
      "45:\tlearn: 0.6705109\ttotal: 90.2ms\tremaining: 1.87s\n",
      "46:\tlearn: 0.6655678\ttotal: 90.6ms\tremaining: 1.84s\n",
      "47:\tlearn: 0.6584115\ttotal: 91ms\tremaining: 1.8s\n",
      "48:\tlearn: 0.6519580\ttotal: 91.5ms\tremaining: 1.77s\n",
      "49:\tlearn: 0.6451920\ttotal: 91.9ms\tremaining: 1.75s\n",
      "50:\tlearn: 0.6393425\ttotal: 92.3ms\tremaining: 1.72s\n",
      "51:\tlearn: 0.6332940\ttotal: 92.8ms\tremaining: 1.69s\n",
      "52:\tlearn: 0.6288363\ttotal: 93.4ms\tremaining: 1.67s\n",
      "53:\tlearn: 0.6236499\ttotal: 93.8ms\tremaining: 1.64s\n",
      "54:\tlearn: 0.6185574\ttotal: 94.2ms\tremaining: 1.62s\n",
      "55:\tlearn: 0.6135566\ttotal: 94.7ms\tremaining: 1.59s\n",
      "56:\tlearn: 0.6087900\ttotal: 95.1ms\tremaining: 1.57s\n",
      "57:\tlearn: 0.6031841\ttotal: 95.6ms\tremaining: 1.55s\n",
      "58:\tlearn: 0.5977238\ttotal: 96.1ms\tremaining: 1.53s\n",
      "59:\tlearn: 0.5925717\ttotal: 96.6ms\tremaining: 1.51s\n",
      "60:\tlearn: 0.5875917\ttotal: 97ms\tremaining: 1.49s\n",
      "61:\tlearn: 0.5815792\ttotal: 97.3ms\tremaining: 1.47s\n",
      "62:\tlearn: 0.5765182\ttotal: 97.8ms\tremaining: 1.45s\n",
      "63:\tlearn: 0.5716477\ttotal: 98.2ms\tremaining: 1.44s\n",
      "64:\tlearn: 0.5669882\ttotal: 98.6ms\tremaining: 1.42s\n",
      "65:\tlearn: 0.5622879\ttotal: 99.1ms\tremaining: 1.4s\n",
      "66:\tlearn: 0.5571181\ttotal: 99.5ms\tremaining: 1.39s\n",
      "67:\tlearn: 0.5522230\ttotal: 100ms\tremaining: 1.37s\n",
      "68:\tlearn: 0.5477404\ttotal: 100ms\tremaining: 1.35s\n",
      "69:\tlearn: 0.5430036\ttotal: 101ms\tremaining: 1.34s\n",
      "70:\tlearn: 0.5382452\ttotal: 102ms\tremaining: 1.33s\n",
      "71:\tlearn: 0.5337213\ttotal: 102ms\tremaining: 1.31s\n",
      "72:\tlearn: 0.5295822\ttotal: 103ms\tremaining: 1.3s\n",
      "73:\tlearn: 0.5254983\ttotal: 103ms\tremaining: 1.29s\n",
      "74:\tlearn: 0.5217443\ttotal: 103ms\tremaining: 1.27s\n",
      "75:\tlearn: 0.5178123\ttotal: 104ms\tremaining: 1.26s\n",
      "76:\tlearn: 0.5138242\ttotal: 105ms\tremaining: 1.25s\n",
      "77:\tlearn: 0.5102062\ttotal: 105ms\tremaining: 1.24s\n",
      "78:\tlearn: 0.5070794\ttotal: 105ms\tremaining: 1.23s\n",
      "79:\tlearn: 0.5022661\ttotal: 106ms\tremaining: 1.22s\n",
      "80:\tlearn: 0.4979308\ttotal: 107ms\tremaining: 1.21s\n",
      "81:\tlearn: 0.4934694\ttotal: 107ms\tremaining: 1.2s\n",
      "82:\tlearn: 0.4892485\ttotal: 107ms\tremaining: 1.19s\n"
     ]
    },
    {
     "name": "stdout",
     "output_type": "stream",
     "text": [
      "83:\tlearn: 0.4851664\ttotal: 108ms\tremaining: 1.18s\n",
      "84:\tlearn: 0.4811233\ttotal: 109ms\tremaining: 1.17s\n",
      "85:\tlearn: 0.4772408\ttotal: 109ms\tremaining: 1.16s\n",
      "86:\tlearn: 0.4739966\ttotal: 110ms\tremaining: 1.15s\n",
      "87:\tlearn: 0.4702818\ttotal: 110ms\tremaining: 1.14s\n",
      "88:\tlearn: 0.4669165\ttotal: 111ms\tremaining: 1.13s\n",
      "89:\tlearn: 0.4640290\ttotal: 111ms\tremaining: 1.13s\n",
      "90:\tlearn: 0.4602308\ttotal: 112ms\tremaining: 1.12s\n",
      "91:\tlearn: 0.4558240\ttotal: 112ms\tremaining: 1.11s\n",
      "92:\tlearn: 0.4525965\ttotal: 113ms\tremaining: 1.1s\n",
      "93:\tlearn: 0.4493113\ttotal: 113ms\tremaining: 1.09s\n",
      "94:\tlearn: 0.4462569\ttotal: 114ms\tremaining: 1.08s\n",
      "95:\tlearn: 0.4426594\ttotal: 114ms\tremaining: 1.08s\n",
      "96:\tlearn: 0.4397056\ttotal: 115ms\tremaining: 1.07s\n",
      "97:\tlearn: 0.4362930\ttotal: 115ms\tremaining: 1.06s\n",
      "98:\tlearn: 0.4326612\ttotal: 116ms\tremaining: 1.06s\n",
      "99:\tlearn: 0.4298330\ttotal: 117ms\tremaining: 1.05s\n",
      "100:\tlearn: 0.4267460\ttotal: 117ms\tremaining: 1.04s\n",
      "101:\tlearn: 0.4241105\ttotal: 118ms\tremaining: 1.03s\n",
      "102:\tlearn: 0.4210246\ttotal: 118ms\tremaining: 1.03s\n",
      "103:\tlearn: 0.4180470\ttotal: 119ms\tremaining: 1.02s\n",
      "104:\tlearn: 0.4147740\ttotal: 119ms\tremaining: 1.01s\n",
      "105:\tlearn: 0.4113431\ttotal: 119ms\tremaining: 1.01s\n",
      "106:\tlearn: 0.4084642\ttotal: 120ms\tremaining: 1s\n",
      "107:\tlearn: 0.4056776\ttotal: 121ms\tremaining: 996ms\n",
      "108:\tlearn: 0.4025563\ttotal: 121ms\tremaining: 991ms\n",
      "109:\tlearn: 0.3986505\ttotal: 122ms\tremaining: 984ms\n",
      "110:\tlearn: 0.3961668\ttotal: 122ms\tremaining: 978ms\n",
      "111:\tlearn: 0.3930607\ttotal: 123ms\tremaining: 971ms\n",
      "112:\tlearn: 0.3907029\ttotal: 123ms\tremaining: 965ms\n",
      "113:\tlearn: 0.3876693\ttotal: 124ms\tremaining: 960ms\n",
      "114:\tlearn: 0.3849938\ttotal: 124ms\tremaining: 954ms\n",
      "115:\tlearn: 0.3824852\ttotal: 124ms\tremaining: 948ms\n",
      "116:\tlearn: 0.3797515\ttotal: 125ms\tremaining: 942ms\n",
      "117:\tlearn: 0.3773485\ttotal: 125ms\tremaining: 936ms\n",
      "118:\tlearn: 0.3744616\ttotal: 126ms\tremaining: 931ms\n",
      "119:\tlearn: 0.3720203\ttotal: 126ms\tremaining: 925ms\n",
      "120:\tlearn: 0.3692577\ttotal: 127ms\tremaining: 921ms\n",
      "121:\tlearn: 0.3667343\ttotal: 127ms\tremaining: 915ms\n",
      "122:\tlearn: 0.3645253\ttotal: 128ms\tremaining: 910ms\n",
      "123:\tlearn: 0.3616901\ttotal: 129ms\tremaining: 911ms\n",
      "124:\tlearn: 0.3593296\ttotal: 130ms\tremaining: 907ms\n",
      "125:\tlearn: 0.3568141\ttotal: 130ms\tremaining: 902ms\n",
      "126:\tlearn: 0.3548595\ttotal: 130ms\tremaining: 897ms\n",
      "127:\tlearn: 0.3519664\ttotal: 131ms\tremaining: 892ms\n",
      "128:\tlearn: 0.3494055\ttotal: 131ms\tremaining: 887ms\n",
      "129:\tlearn: 0.3471410\ttotal: 132ms\tremaining: 882ms\n",
      "130:\tlearn: 0.3450416\ttotal: 132ms\tremaining: 877ms\n",
      "131:\tlearn: 0.3428012\ttotal: 133ms\tremaining: 873ms\n",
      "132:\tlearn: 0.3404197\ttotal: 133ms\tremaining: 868ms\n",
      "133:\tlearn: 0.3385639\ttotal: 134ms\tremaining: 863ms\n",
      "134:\tlearn: 0.3359638\ttotal: 134ms\tremaining: 859ms\n",
      "135:\tlearn: 0.3341587\ttotal: 135ms\tremaining: 855ms\n",
      "136:\tlearn: 0.3316107\ttotal: 135ms\tremaining: 852ms\n",
      "137:\tlearn: 0.3287342\ttotal: 136ms\tremaining: 847ms\n",
      "138:\tlearn: 0.3266848\ttotal: 136ms\tremaining: 844ms\n",
      "139:\tlearn: 0.3247330\ttotal: 137ms\tremaining: 839ms\n",
      "140:\tlearn: 0.3223528\ttotal: 137ms\tremaining: 835ms\n",
      "141:\tlearn: 0.3196545\ttotal: 138ms\tremaining: 831ms\n",
      "142:\tlearn: 0.3174010\ttotal: 138ms\tremaining: 827ms\n",
      "143:\tlearn: 0.3152638\ttotal: 139ms\tremaining: 824ms\n",
      "144:\tlearn: 0.3133040\ttotal: 139ms\tremaining: 820ms\n",
      "145:\tlearn: 0.3108286\ttotal: 140ms\tremaining: 817ms\n",
      "146:\tlearn: 0.3088574\ttotal: 140ms\tremaining: 814ms\n",
      "147:\tlearn: 0.3066078\ttotal: 141ms\tremaining: 811ms\n",
      "148:\tlearn: 0.3043283\ttotal: 141ms\tremaining: 808ms\n",
      "149:\tlearn: 0.3020933\ttotal: 142ms\tremaining: 804ms\n",
      "150:\tlearn: 0.3001751\ttotal: 142ms\tremaining: 800ms\n",
      "151:\tlearn: 0.2984633\ttotal: 143ms\tremaining: 796ms\n",
      "152:\tlearn: 0.2967333\ttotal: 143ms\tremaining: 793ms\n",
      "153:\tlearn: 0.2946417\ttotal: 144ms\tremaining: 790ms\n",
      "154:\tlearn: 0.2927863\ttotal: 144ms\tremaining: 786ms\n",
      "155:\tlearn: 0.2907401\ttotal: 145ms\tremaining: 783ms\n",
      "156:\tlearn: 0.2886327\ttotal: 145ms\tremaining: 780ms\n",
      "157:\tlearn: 0.2866504\ttotal: 146ms\tremaining: 776ms\n",
      "158:\tlearn: 0.2845662\ttotal: 146ms\tremaining: 773ms\n",
      "159:\tlearn: 0.2818839\ttotal: 146ms\tremaining: 769ms\n",
      "160:\tlearn: 0.2800449\ttotal: 147ms\tremaining: 765ms\n",
      "161:\tlearn: 0.2783280\ttotal: 147ms\tremaining: 762ms\n",
      "162:\tlearn: 0.2763640\ttotal: 148ms\tremaining: 759ms\n",
      "163:\tlearn: 0.2747950\ttotal: 149ms\tremaining: 759ms\n",
      "164:\tlearn: 0.2726575\ttotal: 149ms\tremaining: 756ms\n",
      "165:\tlearn: 0.2712312\ttotal: 150ms\tremaining: 752ms\n",
      "166:\tlearn: 0.2692902\ttotal: 150ms\tremaining: 749ms\n",
      "167:\tlearn: 0.2676592\ttotal: 151ms\tremaining: 746ms\n",
      "168:\tlearn: 0.2656713\ttotal: 151ms\tremaining: 743ms\n",
      "169:\tlearn: 0.2639093\ttotal: 151ms\tremaining: 739ms\n",
      "170:\tlearn: 0.2624291\ttotal: 152ms\tremaining: 736ms\n",
      "171:\tlearn: 0.2605194\ttotal: 152ms\tremaining: 733ms\n",
      "172:\tlearn: 0.2587526\ttotal: 153ms\tremaining: 730ms\n",
      "173:\tlearn: 0.2570724\ttotal: 153ms\tremaining: 728ms\n",
      "174:\tlearn: 0.2556899\ttotal: 154ms\tremaining: 725ms\n",
      "175:\tlearn: 0.2539864\ttotal: 154ms\tremaining: 721ms\n",
      "176:\tlearn: 0.2518575\ttotal: 155ms\tremaining: 719ms\n",
      "177:\tlearn: 0.2499418\ttotal: 155ms\tremaining: 717ms\n",
      "178:\tlearn: 0.2484678\ttotal: 156ms\tremaining: 714ms\n",
      "179:\tlearn: 0.2467702\ttotal: 156ms\tremaining: 711ms\n",
      "180:\tlearn: 0.2453327\ttotal: 157ms\tremaining: 709ms\n",
      "181:\tlearn: 0.2435321\ttotal: 157ms\tremaining: 706ms\n",
      "182:\tlearn: 0.2416827\ttotal: 158ms\tremaining: 707ms\n",
      "183:\tlearn: 0.2399755\ttotal: 159ms\tremaining: 704ms\n",
      "184:\tlearn: 0.2384705\ttotal: 159ms\tremaining: 701ms\n",
      "185:\tlearn: 0.2368739\ttotal: 160ms\tremaining: 699ms\n",
      "186:\tlearn: 0.2354456\ttotal: 160ms\tremaining: 696ms\n",
      "187:\tlearn: 0.2339533\ttotal: 161ms\tremaining: 694ms\n",
      "188:\tlearn: 0.2325477\ttotal: 161ms\tremaining: 691ms\n",
      "189:\tlearn: 0.2308264\ttotal: 161ms\tremaining: 688ms\n",
      "190:\tlearn: 0.2294568\ttotal: 162ms\tremaining: 685ms\n",
      "191:\tlearn: 0.2276484\ttotal: 162ms\tremaining: 683ms\n",
      "192:\tlearn: 0.2261515\ttotal: 163ms\tremaining: 681ms\n",
      "193:\tlearn: 0.2245240\ttotal: 163ms\tremaining: 678ms\n",
      "194:\tlearn: 0.2228125\ttotal: 164ms\tremaining: 676ms\n",
      "195:\tlearn: 0.2215698\ttotal: 164ms\tremaining: 673ms\n",
      "196:\tlearn: 0.2200982\ttotal: 165ms\tremaining: 671ms\n",
      "197:\tlearn: 0.2185537\ttotal: 165ms\tremaining: 668ms\n",
      "198:\tlearn: 0.2173837\ttotal: 165ms\tremaining: 666ms\n",
      "199:\tlearn: 0.2164151\ttotal: 166ms\tremaining: 664ms\n",
      "200:\tlearn: 0.2149786\ttotal: 166ms\tremaining: 662ms\n",
      "201:\tlearn: 0.2135154\ttotal: 167ms\tremaining: 660ms\n",
      "202:\tlearn: 0.2123731\ttotal: 167ms\tremaining: 658ms\n",
      "203:\tlearn: 0.2111982\ttotal: 168ms\tremaining: 656ms\n",
      "204:\tlearn: 0.2099730\ttotal: 168ms\tremaining: 653ms\n",
      "205:\tlearn: 0.2088315\ttotal: 169ms\tremaining: 651ms\n",
      "206:\tlearn: 0.2072922\ttotal: 169ms\tremaining: 649ms\n",
      "207:\tlearn: 0.2058247\ttotal: 170ms\tremaining: 647ms\n",
      "208:\tlearn: 0.2041972\ttotal: 170ms\tremaining: 645ms\n",
      "209:\tlearn: 0.2028602\ttotal: 171ms\tremaining: 643ms\n",
      "210:\tlearn: 0.2017912\ttotal: 171ms\tremaining: 641ms\n",
      "211:\tlearn: 0.2001835\ttotal: 172ms\tremaining: 639ms\n",
      "212:\tlearn: 0.1990946\ttotal: 173ms\tremaining: 638ms\n",
      "213:\tlearn: 0.1977878\ttotal: 173ms\tremaining: 635ms\n",
      "214:\tlearn: 0.1960304\ttotal: 173ms\tremaining: 633ms\n",
      "215:\tlearn: 0.1947388\ttotal: 174ms\tremaining: 631ms\n",
      "216:\tlearn: 0.1932540\ttotal: 174ms\tremaining: 629ms\n",
      "217:\tlearn: 0.1921364\ttotal: 175ms\tremaining: 627ms\n",
      "218:\tlearn: 0.1908024\ttotal: 175ms\tremaining: 625ms\n",
      "219:\tlearn: 0.1894636\ttotal: 176ms\tremaining: 623ms\n",
      "220:\tlearn: 0.1880452\ttotal: 176ms\tremaining: 620ms\n",
      "221:\tlearn: 0.1867263\ttotal: 176ms\tremaining: 618ms\n",
      "222:\tlearn: 0.1853882\ttotal: 177ms\tremaining: 616ms\n",
      "223:\tlearn: 0.1839468\ttotal: 177ms\tremaining: 614ms\n",
      "224:\tlearn: 0.1826419\ttotal: 178ms\tremaining: 612ms\n",
      "225:\tlearn: 0.1813677\ttotal: 178ms\tremaining: 609ms\n",
      "226:\tlearn: 0.1802799\ttotal: 178ms\tremaining: 607ms\n",
      "227:\tlearn: 0.1788772\ttotal: 179ms\tremaining: 605ms\n",
      "228:\tlearn: 0.1775853\ttotal: 179ms\tremaining: 603ms\n",
      "229:\tlearn: 0.1763414\ttotal: 180ms\tremaining: 601ms\n",
      "230:\tlearn: 0.1750487\ttotal: 180ms\tremaining: 599ms\n",
      "231:\tlearn: 0.1737522\ttotal: 180ms\tremaining: 597ms\n",
      "232:\tlearn: 0.1726877\ttotal: 181ms\tremaining: 595ms\n",
      "233:\tlearn: 0.1716989\ttotal: 181ms\tremaining: 594ms\n",
      "234:\tlearn: 0.1709874\ttotal: 182ms\tremaining: 592ms\n",
      "235:\tlearn: 0.1696512\ttotal: 182ms\tremaining: 591ms\n",
      "236:\tlearn: 0.1682063\ttotal: 183ms\tremaining: 589ms\n",
      "237:\tlearn: 0.1670865\ttotal: 183ms\tremaining: 587ms\n",
      "238:\tlearn: 0.1658790\ttotal: 184ms\tremaining: 585ms\n",
      "239:\tlearn: 0.1647362\ttotal: 184ms\tremaining: 583ms\n",
      "240:\tlearn: 0.1635612\ttotal: 185ms\tremaining: 581ms\n",
      "241:\tlearn: 0.1624132\ttotal: 185ms\tremaining: 580ms\n",
      "242:\tlearn: 0.1612465\ttotal: 186ms\tremaining: 579ms\n",
      "243:\tlearn: 0.1601510\ttotal: 186ms\tremaining: 578ms\n",
      "244:\tlearn: 0.1589374\ttotal: 187ms\tremaining: 576ms\n",
      "245:\tlearn: 0.1577963\ttotal: 187ms\tremaining: 574ms\n"
     ]
    },
    {
     "name": "stdout",
     "output_type": "stream",
     "text": [
      "246:\tlearn: 0.1568395\ttotal: 188ms\tremaining: 573ms\n",
      "247:\tlearn: 0.1556796\ttotal: 189ms\tremaining: 572ms\n",
      "248:\tlearn: 0.1547459\ttotal: 189ms\tremaining: 570ms\n",
      "249:\tlearn: 0.1534666\ttotal: 190ms\tremaining: 569ms\n",
      "250:\tlearn: 0.1531103\ttotal: 190ms\tremaining: 567ms\n",
      "251:\tlearn: 0.1521364\ttotal: 191ms\tremaining: 566ms\n",
      "252:\tlearn: 0.1511351\ttotal: 191ms\tremaining: 564ms\n",
      "253:\tlearn: 0.1500583\ttotal: 191ms\tremaining: 562ms\n",
      "254:\tlearn: 0.1488889\ttotal: 192ms\tremaining: 561ms\n",
      "255:\tlearn: 0.1478166\ttotal: 192ms\tremaining: 559ms\n",
      "256:\tlearn: 0.1475657\ttotal: 193ms\tremaining: 558ms\n",
      "257:\tlearn: 0.1472873\ttotal: 194ms\tremaining: 557ms\n",
      "258:\tlearn: 0.1462679\ttotal: 194ms\tremaining: 555ms\n",
      "259:\tlearn: 0.1451096\ttotal: 194ms\tremaining: 553ms\n",
      "260:\tlearn: 0.1441188\ttotal: 195ms\tremaining: 552ms\n",
      "261:\tlearn: 0.1432379\ttotal: 195ms\tremaining: 550ms\n",
      "262:\tlearn: 0.1424741\ttotal: 196ms\tremaining: 549ms\n",
      "263:\tlearn: 0.1415979\ttotal: 196ms\tremaining: 547ms\n",
      "264:\tlearn: 0.1406271\ttotal: 197ms\tremaining: 546ms\n",
      "265:\tlearn: 0.1396218\ttotal: 197ms\tremaining: 545ms\n",
      "266:\tlearn: 0.1391289\ttotal: 198ms\tremaining: 543ms\n",
      "267:\tlearn: 0.1388939\ttotal: 198ms\tremaining: 542ms\n",
      "268:\tlearn: 0.1379937\ttotal: 199ms\tremaining: 541ms\n",
      "269:\tlearn: 0.1369945\ttotal: 199ms\tremaining: 539ms\n",
      "270:\tlearn: 0.1364034\ttotal: 200ms\tremaining: 538ms\n",
      "271:\tlearn: 0.1355742\ttotal: 200ms\tremaining: 536ms\n",
      "272:\tlearn: 0.1345051\ttotal: 201ms\tremaining: 535ms\n",
      "273:\tlearn: 0.1342190\ttotal: 201ms\tremaining: 534ms\n",
      "274:\tlearn: 0.1333629\ttotal: 202ms\tremaining: 532ms\n",
      "275:\tlearn: 0.1331555\ttotal: 202ms\tremaining: 531ms\n",
      "276:\tlearn: 0.1329263\ttotal: 203ms\tremaining: 529ms\n",
      "277:\tlearn: 0.1327149\ttotal: 203ms\tremaining: 528ms\n",
      "278:\tlearn: 0.1324903\ttotal: 204ms\tremaining: 526ms\n",
      "279:\tlearn: 0.1318896\ttotal: 204ms\tremaining: 525ms\n",
      "280:\tlearn: 0.1316691\ttotal: 205ms\tremaining: 524ms\n",
      "281:\tlearn: 0.1306968\ttotal: 205ms\tremaining: 523ms\n",
      "282:\tlearn: 0.1297670\ttotal: 206ms\tremaining: 522ms\n",
      "283:\tlearn: 0.1288904\ttotal: 206ms\tremaining: 521ms\n",
      "284:\tlearn: 0.1286775\ttotal: 207ms\tremaining: 519ms\n",
      "285:\tlearn: 0.1283831\ttotal: 207ms\tremaining: 518ms\n",
      "286:\tlearn: 0.1281740\ttotal: 208ms\tremaining: 517ms\n",
      "287:\tlearn: 0.1272974\ttotal: 208ms\tremaining: 515ms\n",
      "288:\tlearn: 0.1264822\ttotal: 209ms\tremaining: 514ms\n",
      "289:\tlearn: 0.1262783\ttotal: 209ms\tremaining: 512ms\n",
      "290:\tlearn: 0.1260801\ttotal: 210ms\tremaining: 511ms\n",
      "291:\tlearn: 0.1252390\ttotal: 210ms\tremaining: 510ms\n",
      "292:\tlearn: 0.1243778\ttotal: 211ms\tremaining: 508ms\n",
      "293:\tlearn: 0.1234674\ttotal: 211ms\tremaining: 507ms\n",
      "294:\tlearn: 0.1226028\ttotal: 212ms\tremaining: 506ms\n",
      "295:\tlearn: 0.1216823\ttotal: 212ms\tremaining: 505ms\n",
      "296:\tlearn: 0.1210494\ttotal: 213ms\tremaining: 503ms\n",
      "297:\tlearn: 0.1208594\ttotal: 213ms\tremaining: 502ms\n",
      "298:\tlearn: 0.1206717\ttotal: 214ms\tremaining: 501ms\n",
      "299:\tlearn: 0.1204863\ttotal: 215ms\tremaining: 501ms\n",
      "300:\tlearn: 0.1203073\ttotal: 215ms\tremaining: 499ms\n",
      "301:\tlearn: 0.1195116\ttotal: 216ms\tremaining: 498ms\n",
      "302:\tlearn: 0.1186778\ttotal: 216ms\tremaining: 497ms\n",
      "303:\tlearn: 0.1179998\ttotal: 216ms\tremaining: 496ms\n",
      "304:\tlearn: 0.1172648\ttotal: 217ms\tremaining: 494ms\n",
      "305:\tlearn: 0.1164513\ttotal: 217ms\tremaining: 493ms\n",
      "306:\tlearn: 0.1156455\ttotal: 218ms\tremaining: 492ms\n",
      "307:\tlearn: 0.1149164\ttotal: 218ms\tremaining: 491ms\n",
      "308:\tlearn: 0.1147495\ttotal: 219ms\tremaining: 489ms\n",
      "309:\tlearn: 0.1140188\ttotal: 219ms\tremaining: 488ms\n",
      "310:\tlearn: 0.1138512\ttotal: 220ms\tremaining: 487ms\n",
      "311:\tlearn: 0.1136965\ttotal: 220ms\tremaining: 486ms\n",
      "312:\tlearn: 0.1135327\ttotal: 221ms\tremaining: 484ms\n",
      "313:\tlearn: 0.1127727\ttotal: 221ms\tremaining: 483ms\n",
      "314:\tlearn: 0.1126117\ttotal: 221ms\tremaining: 482ms\n",
      "315:\tlearn: 0.1118430\ttotal: 222ms\tremaining: 480ms\n",
      "316:\tlearn: 0.1111542\ttotal: 222ms\tremaining: 479ms\n",
      "317:\tlearn: 0.1110005\ttotal: 223ms\tremaining: 478ms\n",
      "318:\tlearn: 0.1103159\ttotal: 223ms\tremaining: 476ms\n",
      "319:\tlearn: 0.1095728\ttotal: 224ms\tremaining: 475ms\n",
      "320:\tlearn: 0.1094205\ttotal: 224ms\tremaining: 474ms\n",
      "321:\tlearn: 0.1092700\ttotal: 225ms\tremaining: 473ms\n",
      "322:\tlearn: 0.1091213\ttotal: 225ms\tremaining: 472ms\n",
      "323:\tlearn: 0.1089752\ttotal: 226ms\tremaining: 471ms\n",
      "324:\tlearn: 0.1083189\ttotal: 226ms\tremaining: 469ms\n",
      "325:\tlearn: 0.1075892\ttotal: 227ms\tremaining: 469ms\n",
      "326:\tlearn: 0.1069121\ttotal: 227ms\tremaining: 467ms\n",
      "327:\tlearn: 0.1065539\ttotal: 228ms\tremaining: 466ms\n",
      "328:\tlearn: 0.1058240\ttotal: 228ms\tremaining: 465ms\n",
      "329:\tlearn: 0.1052062\ttotal: 229ms\tremaining: 464ms\n",
      "330:\tlearn: 0.1045365\ttotal: 229ms\tremaining: 463ms\n",
      "331:\tlearn: 0.1043981\ttotal: 229ms\tremaining: 462ms\n",
      "332:\tlearn: 0.1038174\ttotal: 230ms\tremaining: 460ms\n",
      "333:\tlearn: 0.1031825\ttotal: 230ms\tremaining: 459ms\n",
      "334:\tlearn: 0.1030478\ttotal: 231ms\tremaining: 458ms\n",
      "335:\tlearn: 0.1029143\ttotal: 231ms\tremaining: 457ms\n",
      "336:\tlearn: 0.1022471\ttotal: 232ms\tremaining: 456ms\n",
      "337:\tlearn: 0.1016082\ttotal: 232ms\tremaining: 455ms\n",
      "338:\tlearn: 0.1008533\ttotal: 233ms\tremaining: 454ms\n",
      "339:\tlearn: 0.1007233\ttotal: 233ms\tremaining: 453ms\n",
      "340:\tlearn: 0.1005949\ttotal: 234ms\tremaining: 452ms\n",
      "341:\tlearn: 0.0999101\ttotal: 234ms\tremaining: 451ms\n",
      "342:\tlearn: 0.0992085\ttotal: 235ms\tremaining: 450ms\n",
      "343:\tlearn: 0.0990830\ttotal: 235ms\tremaining: 449ms\n",
      "344:\tlearn: 0.0987745\ttotal: 236ms\tremaining: 448ms\n",
      "345:\tlearn: 0.0986518\ttotal: 236ms\tremaining: 447ms\n",
      "346:\tlearn: 0.0985301\ttotal: 237ms\tremaining: 445ms\n",
      "347:\tlearn: 0.0978139\ttotal: 237ms\tremaining: 444ms\n",
      "348:\tlearn: 0.0972873\ttotal: 237ms\tremaining: 443ms\n",
      "349:\tlearn: 0.0966961\ttotal: 238ms\tremaining: 441ms\n",
      "350:\tlearn: 0.0965778\ttotal: 238ms\tremaining: 440ms\n",
      "351:\tlearn: 0.0960665\ttotal: 238ms\tremaining: 439ms\n",
      "352:\tlearn: 0.0955685\ttotal: 239ms\tremaining: 437ms\n",
      "353:\tlearn: 0.0949042\ttotal: 239ms\tremaining: 436ms\n",
      "354:\tlearn: 0.0943250\ttotal: 240ms\tremaining: 435ms\n",
      "355:\tlearn: 0.0936847\ttotal: 240ms\tremaining: 434ms\n",
      "356:\tlearn: 0.0935702\ttotal: 240ms\tremaining: 433ms\n",
      "357:\tlearn: 0.0930220\ttotal: 241ms\tremaining: 432ms\n",
      "358:\tlearn: 0.0924016\ttotal: 241ms\tremaining: 431ms\n",
      "359:\tlearn: 0.0917314\ttotal: 242ms\tremaining: 430ms\n",
      "360:\tlearn: 0.0910739\ttotal: 242ms\tremaining: 428ms\n",
      "361:\tlearn: 0.0909634\ttotal: 242ms\tremaining: 427ms\n",
      "362:\tlearn: 0.0908533\ttotal: 243ms\tremaining: 426ms\n",
      "363:\tlearn: 0.0902089\ttotal: 243ms\tremaining: 425ms\n",
      "364:\tlearn: 0.0896863\ttotal: 244ms\tremaining: 424ms\n",
      "365:\tlearn: 0.0892378\ttotal: 244ms\tremaining: 423ms\n",
      "366:\tlearn: 0.0887287\ttotal: 245ms\tremaining: 422ms\n",
      "367:\tlearn: 0.0882192\ttotal: 245ms\tremaining: 421ms\n",
      "368:\tlearn: 0.0877304\ttotal: 245ms\tremaining: 420ms\n",
      "369:\tlearn: 0.0871594\ttotal: 246ms\tremaining: 419ms\n",
      "370:\tlearn: 0.0869040\ttotal: 246ms\tremaining: 418ms\n",
      "371:\tlearn: 0.0868016\ttotal: 247ms\tremaining: 417ms\n",
      "372:\tlearn: 0.0863761\ttotal: 247ms\tremaining: 416ms\n",
      "373:\tlearn: 0.0859031\ttotal: 248ms\tremaining: 415ms\n",
      "374:\tlearn: 0.0856571\ttotal: 248ms\tremaining: 413ms\n",
      "375:\tlearn: 0.0852447\ttotal: 248ms\tremaining: 412ms\n",
      "376:\tlearn: 0.0847841\ttotal: 249ms\tremaining: 411ms\n",
      "377:\tlearn: 0.0842273\ttotal: 249ms\tremaining: 410ms\n",
      "378:\tlearn: 0.0837297\ttotal: 250ms\tremaining: 409ms\n",
      "379:\tlearn: 0.0833318\ttotal: 250ms\tremaining: 408ms\n",
      "380:\tlearn: 0.0828960\ttotal: 251ms\tremaining: 408ms\n",
      "381:\tlearn: 0.0825098\ttotal: 251ms\tremaining: 407ms\n",
      "382:\tlearn: 0.0820741\ttotal: 252ms\tremaining: 406ms\n",
      "383:\tlearn: 0.0816498\ttotal: 252ms\tremaining: 405ms\n",
      "384:\tlearn: 0.0812007\ttotal: 253ms\tremaining: 404ms\n",
      "385:\tlearn: 0.0807926\ttotal: 253ms\tremaining: 403ms\n",
      "386:\tlearn: 0.0806598\ttotal: 254ms\tremaining: 402ms\n",
      "387:\tlearn: 0.0802624\ttotal: 254ms\tremaining: 401ms\n",
      "388:\tlearn: 0.0797493\ttotal: 255ms\tremaining: 400ms\n",
      "389:\tlearn: 0.0796188\ttotal: 255ms\tremaining: 400ms\n",
      "390:\tlearn: 0.0791991\ttotal: 256ms\tremaining: 399ms\n",
      "391:\tlearn: 0.0787820\ttotal: 256ms\tremaining: 397ms\n",
      "392:\tlearn: 0.0782007\ttotal: 257ms\tremaining: 396ms\n",
      "393:\tlearn: 0.0780734\ttotal: 257ms\tremaining: 396ms\n",
      "394:\tlearn: 0.0774874\ttotal: 258ms\tremaining: 395ms\n",
      "395:\tlearn: 0.0771156\ttotal: 258ms\tremaining: 394ms\n",
      "396:\tlearn: 0.0769910\ttotal: 259ms\tremaining: 393ms\n",
      "397:\tlearn: 0.0764972\ttotal: 259ms\tremaining: 392ms\n",
      "398:\tlearn: 0.0763746\ttotal: 260ms\tremaining: 391ms\n",
      "399:\tlearn: 0.0758012\ttotal: 260ms\tremaining: 390ms\n",
      "400:\tlearn: 0.0754432\ttotal: 261ms\tremaining: 389ms\n",
      "401:\tlearn: 0.0751780\ttotal: 261ms\tremaining: 388ms\n",
      "402:\tlearn: 0.0747090\ttotal: 261ms\tremaining: 387ms\n",
      "403:\tlearn: 0.0743238\ttotal: 262ms\tremaining: 386ms\n",
      "404:\tlearn: 0.0739436\ttotal: 262ms\tremaining: 385ms\n",
      "405:\tlearn: 0.0736181\ttotal: 263ms\tremaining: 384ms\n",
      "406:\tlearn: 0.0732594\ttotal: 263ms\tremaining: 383ms\n",
      "407:\tlearn: 0.0731430\ttotal: 263ms\tremaining: 382ms\n",
      "408:\tlearn: 0.0727705\ttotal: 264ms\tremaining: 381ms\n",
      "409:\tlearn: 0.0726562\ttotal: 264ms\tremaining: 380ms\n",
      "410:\tlearn: 0.0721436\ttotal: 265ms\tremaining: 379ms\n",
      "411:\tlearn: 0.0720314\ttotal: 265ms\tremaining: 379ms\n",
      "412:\tlearn: 0.0715415\ttotal: 266ms\tremaining: 378ms\n",
      "413:\tlearn: 0.0712157\ttotal: 266ms\tremaining: 377ms\n",
      "414:\tlearn: 0.0711057\ttotal: 267ms\tremaining: 376ms\n",
      "415:\tlearn: 0.0706137\ttotal: 267ms\tremaining: 375ms\n",
      "416:\tlearn: 0.0702816\ttotal: 268ms\tremaining: 374ms\n",
      "417:\tlearn: 0.0701739\ttotal: 268ms\tremaining: 373ms\n",
      "418:\tlearn: 0.0697806\ttotal: 269ms\tremaining: 372ms\n",
      "419:\tlearn: 0.0694692\ttotal: 269ms\tremaining: 372ms\n",
      "420:\tlearn: 0.0689970\ttotal: 269ms\tremaining: 370ms\n",
      "421:\tlearn: 0.0688922\ttotal: 270ms\tremaining: 369ms\n",
      "422:\tlearn: 0.0684666\ttotal: 270ms\tremaining: 369ms\n",
      "423:\tlearn: 0.0680493\ttotal: 271ms\tremaining: 368ms\n",
      "424:\tlearn: 0.0676404\ttotal: 271ms\tremaining: 367ms\n",
      "425:\tlearn: 0.0673087\ttotal: 271ms\tremaining: 366ms\n",
      "426:\tlearn: 0.0669822\ttotal: 272ms\tremaining: 365ms\n",
      "427:\tlearn: 0.0665900\ttotal: 272ms\tremaining: 364ms\n",
      "428:\tlearn: 0.0661340\ttotal: 273ms\tremaining: 363ms\n",
      "429:\tlearn: 0.0657534\ttotal: 273ms\tremaining: 362ms\n",
      "430:\tlearn: 0.0654198\ttotal: 274ms\tremaining: 362ms\n",
      "431:\tlearn: 0.0649798\ttotal: 274ms\tremaining: 361ms\n",
      "432:\tlearn: 0.0646491\ttotal: 275ms\tremaining: 360ms\n",
      "433:\tlearn: 0.0643034\ttotal: 275ms\tremaining: 359ms\n",
      "434:\tlearn: 0.0639415\ttotal: 276ms\tremaining: 358ms\n",
      "435:\tlearn: 0.0636282\ttotal: 276ms\tremaining: 358ms\n",
      "436:\tlearn: 0.0633149\ttotal: 277ms\tremaining: 357ms\n",
      "437:\tlearn: 0.0628483\ttotal: 277ms\tremaining: 356ms\n",
      "438:\tlearn: 0.0625434\ttotal: 278ms\tremaining: 355ms\n",
      "439:\tlearn: 0.0622046\ttotal: 278ms\tremaining: 354ms\n",
      "440:\tlearn: 0.0617514\ttotal: 279ms\tremaining: 353ms\n",
      "441:\tlearn: 0.0613092\ttotal: 279ms\tremaining: 352ms\n",
      "442:\tlearn: 0.0610590\ttotal: 280ms\tremaining: 352ms\n",
      "443:\tlearn: 0.0608139\ttotal: 280ms\tremaining: 351ms\n",
      "444:\tlearn: 0.0604771\ttotal: 281ms\tremaining: 350ms\n",
      "445:\tlearn: 0.0602536\ttotal: 281ms\tremaining: 349ms\n",
      "446:\tlearn: 0.0599790\ttotal: 281ms\tremaining: 348ms\n",
      "447:\tlearn: 0.0596635\ttotal: 282ms\tremaining: 347ms\n",
      "448:\tlearn: 0.0593856\ttotal: 282ms\tremaining: 346ms\n",
      "449:\tlearn: 0.0591561\ttotal: 283ms\tremaining: 346ms\n",
      "450:\tlearn: 0.0587991\ttotal: 283ms\tremaining: 345ms\n",
      "451:\tlearn: 0.0584370\ttotal: 284ms\tremaining: 344ms\n",
      "452:\tlearn: 0.0580928\ttotal: 284ms\tremaining: 343ms\n",
      "453:\tlearn: 0.0577433\ttotal: 285ms\tremaining: 343ms\n",
      "454:\tlearn: 0.0573624\ttotal: 285ms\tremaining: 342ms\n",
      "455:\tlearn: 0.0570226\ttotal: 286ms\tremaining: 341ms\n",
      "456:\tlearn: 0.0569332\ttotal: 286ms\tremaining: 340ms\n",
      "457:\tlearn: 0.0565648\ttotal: 287ms\tremaining: 339ms\n",
      "458:\tlearn: 0.0564771\ttotal: 287ms\tremaining: 338ms\n",
      "459:\tlearn: 0.0560397\ttotal: 288ms\tremaining: 338ms\n",
      "460:\tlearn: 0.0556835\ttotal: 288ms\tremaining: 337ms\n",
      "461:\tlearn: 0.0555982\ttotal: 289ms\tremaining: 336ms\n",
      "462:\tlearn: 0.0551750\ttotal: 289ms\tremaining: 336ms\n",
      "463:\tlearn: 0.0548633\ttotal: 290ms\tremaining: 335ms\n",
      "464:\tlearn: 0.0547801\ttotal: 290ms\tremaining: 334ms\n",
      "465:\tlearn: 0.0546979\ttotal: 291ms\tremaining: 333ms\n"
     ]
    },
    {
     "name": "stdout",
     "output_type": "stream",
     "text": [
      "466:\tlearn: 0.0543580\ttotal: 291ms\tremaining: 333ms\n",
      "467:\tlearn: 0.0542774\ttotal: 292ms\tremaining: 332ms\n",
      "468:\tlearn: 0.0539643\ttotal: 293ms\tremaining: 331ms\n",
      "469:\tlearn: 0.0536262\ttotal: 293ms\tremaining: 331ms\n",
      "470:\tlearn: 0.0532954\ttotal: 294ms\tremaining: 330ms\n",
      "471:\tlearn: 0.0530080\ttotal: 294ms\tremaining: 329ms\n",
      "472:\tlearn: 0.0526864\ttotal: 294ms\tremaining: 328ms\n",
      "473:\tlearn: 0.0523734\ttotal: 295ms\tremaining: 327ms\n",
      "474:\tlearn: 0.0520620\ttotal: 295ms\tremaining: 326ms\n",
      "475:\tlearn: 0.0517363\ttotal: 296ms\tremaining: 326ms\n",
      "476:\tlearn: 0.0514342\ttotal: 296ms\tremaining: 325ms\n",
      "477:\tlearn: 0.0510580\ttotal: 297ms\tremaining: 324ms\n",
      "478:\tlearn: 0.0507616\ttotal: 297ms\tremaining: 323ms\n",
      "479:\tlearn: 0.0504033\ttotal: 298ms\tremaining: 322ms\n",
      "480:\tlearn: 0.0501397\ttotal: 298ms\tremaining: 322ms\n",
      "481:\tlearn: 0.0498539\ttotal: 299ms\tremaining: 321ms\n",
      "482:\tlearn: 0.0495504\ttotal: 299ms\tremaining: 320ms\n",
      "483:\tlearn: 0.0491930\ttotal: 300ms\tremaining: 320ms\n",
      "484:\tlearn: 0.0488439\ttotal: 300ms\tremaining: 319ms\n",
      "485:\tlearn: 0.0485701\ttotal: 301ms\tremaining: 318ms\n",
      "486:\tlearn: 0.0482926\ttotal: 301ms\tremaining: 317ms\n",
      "487:\tlearn: 0.0479643\ttotal: 309ms\tremaining: 324ms\n",
      "488:\tlearn: 0.0476961\ttotal: 310ms\tremaining: 324ms\n",
      "489:\tlearn: 0.0474590\ttotal: 310ms\tremaining: 323ms\n",
      "490:\tlearn: 0.0471993\ttotal: 310ms\tremaining: 322ms\n",
      "491:\tlearn: 0.0468937\ttotal: 311ms\tremaining: 321ms\n",
      "492:\tlearn: 0.0466146\ttotal: 311ms\tremaining: 320ms\n",
      "493:\tlearn: 0.0462988\ttotal: 312ms\tremaining: 319ms\n",
      "494:\tlearn: 0.0460278\ttotal: 317ms\tremaining: 323ms\n",
      "495:\tlearn: 0.0457407\ttotal: 317ms\tremaining: 322ms\n",
      "496:\tlearn: 0.0454549\ttotal: 317ms\tremaining: 321ms\n",
      "497:\tlearn: 0.0451922\ttotal: 318ms\tremaining: 320ms\n",
      "498:\tlearn: 0.0449139\ttotal: 318ms\tremaining: 319ms\n",
      "499:\tlearn: 0.0446442\ttotal: 318ms\tremaining: 318ms\n",
      "500:\tlearn: 0.0443739\ttotal: 319ms\tremaining: 318ms\n",
      "501:\tlearn: 0.0441529\ttotal: 319ms\tremaining: 317ms\n",
      "502:\tlearn: 0.0440035\ttotal: 321ms\tremaining: 317ms\n",
      "503:\tlearn: 0.0437879\ttotal: 322ms\tremaining: 317ms\n",
      "504:\tlearn: 0.0435650\ttotal: 322ms\tremaining: 316ms\n",
      "505:\tlearn: 0.0433170\ttotal: 323ms\tremaining: 315ms\n",
      "506:\tlearn: 0.0431020\ttotal: 323ms\tremaining: 314ms\n",
      "507:\tlearn: 0.0428289\ttotal: 324ms\tremaining: 314ms\n",
      "508:\tlearn: 0.0425797\ttotal: 324ms\tremaining: 313ms\n",
      "509:\tlearn: 0.0424073\ttotal: 325ms\tremaining: 312ms\n",
      "510:\tlearn: 0.0421938\ttotal: 326ms\tremaining: 312ms\n",
      "511:\tlearn: 0.0419884\ttotal: 327ms\tremaining: 311ms\n",
      "512:\tlearn: 0.0417881\ttotal: 327ms\tremaining: 311ms\n",
      "513:\tlearn: 0.0416539\ttotal: 328ms\tremaining: 310ms\n",
      "514:\tlearn: 0.0415199\ttotal: 328ms\tremaining: 309ms\n",
      "515:\tlearn: 0.0412829\ttotal: 329ms\tremaining: 308ms\n",
      "516:\tlearn: 0.0411521\ttotal: 329ms\tremaining: 307ms\n",
      "517:\tlearn: 0.0409310\ttotal: 329ms\tremaining: 306ms\n",
      "518:\tlearn: 0.0408028\ttotal: 330ms\tremaining: 306ms\n",
      "519:\tlearn: 0.0405965\ttotal: 330ms\tremaining: 305ms\n",
      "520:\tlearn: 0.0404080\ttotal: 331ms\tremaining: 304ms\n",
      "521:\tlearn: 0.0402662\ttotal: 331ms\tremaining: 303ms\n",
      "522:\tlearn: 0.0400655\ttotal: 331ms\tremaining: 302ms\n",
      "523:\tlearn: 0.0400172\ttotal: 332ms\tremaining: 301ms\n",
      "524:\tlearn: 0.0398945\ttotal: 332ms\tremaining: 301ms\n",
      "525:\tlearn: 0.0396853\ttotal: 333ms\tremaining: 300ms\n",
      "526:\tlearn: 0.0395060\ttotal: 333ms\tremaining: 299ms\n",
      "527:\tlearn: 0.0392589\ttotal: 333ms\tremaining: 298ms\n",
      "528:\tlearn: 0.0389942\ttotal: 334ms\tremaining: 297ms\n",
      "529:\tlearn: 0.0387559\ttotal: 334ms\tremaining: 297ms\n",
      "530:\tlearn: 0.0385008\ttotal: 335ms\tremaining: 296ms\n",
      "531:\tlearn: 0.0382711\ttotal: 335ms\tremaining: 295ms\n",
      "532:\tlearn: 0.0380432\ttotal: 336ms\tremaining: 294ms\n",
      "533:\tlearn: 0.0378199\ttotal: 336ms\tremaining: 294ms\n",
      "534:\tlearn: 0.0376042\ttotal: 337ms\tremaining: 293ms\n",
      "535:\tlearn: 0.0373925\ttotal: 337ms\tremaining: 292ms\n",
      "536:\tlearn: 0.0371849\ttotal: 338ms\tremaining: 291ms\n",
      "537:\tlearn: 0.0369208\ttotal: 338ms\tremaining: 291ms\n",
      "538:\tlearn: 0.0367202\ttotal: 339ms\tremaining: 290ms\n",
      "539:\tlearn: 0.0364652\ttotal: 339ms\tremaining: 289ms\n",
      "540:\tlearn: 0.0362538\ttotal: 340ms\tremaining: 288ms\n",
      "541:\tlearn: 0.0360464\ttotal: 340ms\tremaining: 288ms\n",
      "542:\tlearn: 0.0358430\ttotal: 341ms\tremaining: 287ms\n",
      "543:\tlearn: 0.0356579\ttotal: 341ms\tremaining: 286ms\n",
      "544:\tlearn: 0.0354761\ttotal: 342ms\tremaining: 285ms\n",
      "545:\tlearn: 0.0352974\ttotal: 342ms\tremaining: 285ms\n",
      "546:\tlearn: 0.0351219\ttotal: 343ms\tremaining: 284ms\n",
      "547:\tlearn: 0.0349616\ttotal: 343ms\tremaining: 283ms\n",
      "548:\tlearn: 0.0347992\ttotal: 344ms\tremaining: 282ms\n",
      "549:\tlearn: 0.0346300\ttotal: 344ms\tremaining: 282ms\n",
      "550:\tlearn: 0.0344719\ttotal: 345ms\tremaining: 281ms\n",
      "551:\tlearn: 0.0342496\ttotal: 345ms\tremaining: 280ms\n",
      "552:\tlearn: 0.0340872\ttotal: 346ms\tremaining: 279ms\n",
      "553:\tlearn: 0.0339349\ttotal: 346ms\tremaining: 279ms\n",
      "554:\tlearn: 0.0337531\ttotal: 347ms\tremaining: 278ms\n",
      "555:\tlearn: 0.0336060\ttotal: 347ms\tremaining: 277ms\n",
      "556:\tlearn: 0.0333855\ttotal: 348ms\tremaining: 276ms\n",
      "557:\tlearn: 0.0332402\ttotal: 348ms\tremaining: 276ms\n",
      "558:\tlearn: 0.0330269\ttotal: 348ms\tremaining: 275ms\n",
      "559:\tlearn: 0.0328188\ttotal: 349ms\tremaining: 274ms\n",
      "560:\tlearn: 0.0326225\ttotal: 349ms\tremaining: 273ms\n",
      "561:\tlearn: 0.0324030\ttotal: 350ms\tremaining: 273ms\n",
      "562:\tlearn: 0.0321873\ttotal: 350ms\tremaining: 272ms\n",
      "563:\tlearn: 0.0320506\ttotal: 351ms\tremaining: 271ms\n",
      "564:\tlearn: 0.0318554\ttotal: 351ms\tremaining: 270ms\n",
      "565:\tlearn: 0.0316934\ttotal: 352ms\tremaining: 270ms\n",
      "566:\tlearn: 0.0314887\ttotal: 352ms\tremaining: 269ms\n",
      "567:\tlearn: 0.0313576\ttotal: 353ms\tremaining: 268ms\n",
      "568:\tlearn: 0.0311733\ttotal: 353ms\tremaining: 268ms\n",
      "569:\tlearn: 0.0309948\ttotal: 354ms\tremaining: 267ms\n",
      "570:\tlearn: 0.0307995\ttotal: 354ms\tremaining: 266ms\n",
      "571:\tlearn: 0.0306701\ttotal: 355ms\tremaining: 265ms\n",
      "572:\tlearn: 0.0305430\ttotal: 355ms\tremaining: 265ms\n",
      "573:\tlearn: 0.0304070\ttotal: 356ms\tremaining: 264ms\n",
      "574:\tlearn: 0.0302828\ttotal: 356ms\tremaining: 263ms\n",
      "575:\tlearn: 0.0301608\ttotal: 357ms\tremaining: 263ms\n",
      "576:\tlearn: 0.0300281\ttotal: 357ms\tremaining: 262ms\n",
      "577:\tlearn: 0.0299089\ttotal: 358ms\tremaining: 261ms\n",
      "578:\tlearn: 0.0297710\ttotal: 359ms\tremaining: 261ms\n",
      "579:\tlearn: 0.0296391\ttotal: 359ms\tremaining: 260ms\n",
      "580:\tlearn: 0.0295237\ttotal: 360ms\tremaining: 259ms\n",
      "581:\tlearn: 0.0293965\ttotal: 360ms\tremaining: 259ms\n",
      "582:\tlearn: 0.0292560\ttotal: 361ms\tremaining: 258ms\n",
      "583:\tlearn: 0.0291314\ttotal: 361ms\tremaining: 257ms\n",
      "584:\tlearn: 0.0290202\ttotal: 362ms\tremaining: 256ms\n",
      "585:\tlearn: 0.0288373\ttotal: 362ms\tremaining: 256ms\n",
      "586:\tlearn: 0.0287288\ttotal: 362ms\tremaining: 255ms\n",
      "587:\tlearn: 0.0285974\ttotal: 363ms\tremaining: 254ms\n",
      "588:\tlearn: 0.0284948\ttotal: 363ms\tremaining: 254ms\n",
      "589:\tlearn: 0.0283755\ttotal: 364ms\tremaining: 253ms\n",
      "590:\tlearn: 0.0282719\ttotal: 364ms\tremaining: 252ms\n",
      "591:\tlearn: 0.0280972\ttotal: 365ms\tremaining: 251ms\n",
      "592:\tlearn: 0.0279961\ttotal: 365ms\tremaining: 251ms\n",
      "593:\tlearn: 0.0278687\ttotal: 366ms\tremaining: 250ms\n",
      "594:\tlearn: 0.0277043\ttotal: 366ms\tremaining: 249ms\n",
      "595:\tlearn: 0.0275902\ttotal: 367ms\tremaining: 249ms\n",
      "596:\tlearn: 0.0275046\ttotal: 367ms\tremaining: 248ms\n",
      "597:\tlearn: 0.0273853\ttotal: 368ms\tremaining: 247ms\n",
      "598:\tlearn: 0.0272680\ttotal: 368ms\tremaining: 246ms\n",
      "599:\tlearn: 0.0271739\ttotal: 369ms\tremaining: 246ms\n",
      "600:\tlearn: 0.0270906\ttotal: 369ms\tremaining: 245ms\n",
      "601:\tlearn: 0.0269757\ttotal: 370ms\tremaining: 244ms\n",
      "602:\tlearn: 0.0268872\ttotal: 370ms\tremaining: 244ms\n"
     ]
    },
    {
     "name": "stdout",
     "output_type": "stream",
     "text": [
      "603:\tlearn: 0.0267464\ttotal: 371ms\tremaining: 243ms\n",
      "604:\tlearn: 0.0266347\ttotal: 372ms\tremaining: 243ms\n",
      "605:\tlearn: 0.0265214\ttotal: 372ms\tremaining: 242ms\n",
      "606:\tlearn: 0.0264118\ttotal: 373ms\tremaining: 241ms\n",
      "607:\tlearn: 0.0263215\ttotal: 373ms\tremaining: 241ms\n",
      "608:\tlearn: 0.0261630\ttotal: 374ms\tremaining: 240ms\n",
      "609:\tlearn: 0.0260559\ttotal: 374ms\tremaining: 239ms\n",
      "610:\tlearn: 0.0259686\ttotal: 374ms\tremaining: 238ms\n",
      "611:\tlearn: 0.0258142\ttotal: 375ms\tremaining: 238ms\n",
      "612:\tlearn: 0.0256703\ttotal: 376ms\tremaining: 237ms\n",
      "613:\tlearn: 0.0255671\ttotal: 376ms\tremaining: 237ms\n",
      "614:\tlearn: 0.0254792\ttotal: 377ms\tremaining: 236ms\n",
      "615:\tlearn: 0.0254044\ttotal: 377ms\tremaining: 235ms\n",
      "616:\tlearn: 0.0252934\ttotal: 378ms\tremaining: 234ms\n",
      "617:\tlearn: 0.0252061\ttotal: 378ms\tremaining: 234ms\n",
      "618:\tlearn: 0.0251331\ttotal: 379ms\tremaining: 233ms\n",
      "619:\tlearn: 0.0250317\ttotal: 379ms\tremaining: 232ms\n",
      "620:\tlearn: 0.0248684\ttotal: 380ms\tremaining: 232ms\n",
      "621:\tlearn: 0.0247720\ttotal: 380ms\tremaining: 231ms\n",
      "622:\tlearn: 0.0247010\ttotal: 381ms\tremaining: 230ms\n",
      "623:\tlearn: 0.0245421\ttotal: 381ms\tremaining: 230ms\n",
      "624:\tlearn: 0.0244129\ttotal: 381ms\tremaining: 229ms\n",
      "625:\tlearn: 0.0243188\ttotal: 382ms\tremaining: 228ms\n",
      "626:\tlearn: 0.0242498\ttotal: 382ms\tremaining: 228ms\n",
      "627:\tlearn: 0.0241605\ttotal: 383ms\tremaining: 227ms\n",
      "628:\tlearn: 0.0240589\ttotal: 384ms\tremaining: 226ms\n",
      "629:\tlearn: 0.0239779\ttotal: 384ms\tremaining: 225ms\n",
      "630:\tlearn: 0.0238755\ttotal: 384ms\tremaining: 225ms\n",
      "631:\tlearn: 0.0237895\ttotal: 385ms\tremaining: 224ms\n",
      "632:\tlearn: 0.0236643\ttotal: 385ms\tremaining: 223ms\n",
      "633:\tlearn: 0.0235744\ttotal: 386ms\tremaining: 223ms\n",
      "634:\tlearn: 0.0234738\ttotal: 387ms\tremaining: 222ms\n",
      "635:\tlearn: 0.0233912\ttotal: 387ms\tremaining: 221ms\n",
      "636:\tlearn: 0.0233060\ttotal: 387ms\tremaining: 221ms\n",
      "637:\tlearn: 0.0231426\ttotal: 388ms\tremaining: 220ms\n",
      "638:\tlearn: 0.0230227\ttotal: 389ms\tremaining: 220ms\n",
      "639:\tlearn: 0.0229152\ttotal: 389ms\tremaining: 219ms\n",
      "640:\tlearn: 0.0227983\ttotal: 389ms\tremaining: 218ms\n",
      "641:\tlearn: 0.0227055\ttotal: 390ms\tremaining: 217ms\n",
      "642:\tlearn: 0.0226097\ttotal: 390ms\tremaining: 217ms\n",
      "643:\tlearn: 0.0225267\ttotal: 391ms\tremaining: 216ms\n",
      "644:\tlearn: 0.0224454\ttotal: 391ms\tremaining: 215ms\n",
      "645:\tlearn: 0.0223375\ttotal: 392ms\tremaining: 215ms\n",
      "646:\tlearn: 0.0222736\ttotal: 393ms\tremaining: 214ms\n",
      "647:\tlearn: 0.0222107\ttotal: 393ms\tremaining: 213ms\n",
      "648:\tlearn: 0.0221324\ttotal: 393ms\tremaining: 213ms\n",
      "649:\tlearn: 0.0219996\ttotal: 394ms\tremaining: 212ms\n",
      "650:\tlearn: 0.0219236\ttotal: 395ms\tremaining: 212ms\n",
      "651:\tlearn: 0.0217941\ttotal: 395ms\tremaining: 211ms\n",
      "652:\tlearn: 0.0216823\ttotal: 395ms\tremaining: 210ms\n",
      "653:\tlearn: 0.0215883\ttotal: 396ms\tremaining: 209ms\n",
      "654:\tlearn: 0.0215165\ttotal: 396ms\tremaining: 209ms\n",
      "655:\tlearn: 0.0213832\ttotal: 397ms\tremaining: 208ms\n",
      "656:\tlearn: 0.0213001\ttotal: 397ms\tremaining: 207ms\n",
      "657:\tlearn: 0.0212075\ttotal: 398ms\tremaining: 207ms\n",
      "658:\tlearn: 0.0211494\ttotal: 399ms\tremaining: 206ms\n",
      "659:\tlearn: 0.0210921\ttotal: 399ms\tremaining: 206ms\n",
      "660:\tlearn: 0.0210254\ttotal: 400ms\tremaining: 205ms\n",
      "661:\tlearn: 0.0208974\ttotal: 400ms\tremaining: 204ms\n",
      "662:\tlearn: 0.0208016\ttotal: 401ms\tremaining: 204ms\n",
      "663:\tlearn: 0.0207244\ttotal: 401ms\tremaining: 203ms\n",
      "664:\tlearn: 0.0206601\ttotal: 402ms\tremaining: 202ms\n",
      "665:\tlearn: 0.0206243\ttotal: 402ms\tremaining: 202ms\n",
      "666:\tlearn: 0.0205460\ttotal: 403ms\tremaining: 201ms\n",
      "667:\tlearn: 0.0204583\ttotal: 403ms\tremaining: 200ms\n",
      "668:\tlearn: 0.0204232\ttotal: 404ms\tremaining: 200ms\n",
      "669:\tlearn: 0.0202775\ttotal: 404ms\tremaining: 199ms\n",
      "670:\tlearn: 0.0202159\ttotal: 405ms\tremaining: 199ms\n",
      "671:\tlearn: 0.0201555\ttotal: 406ms\tremaining: 198ms\n",
      "672:\tlearn: 0.0201214\ttotal: 406ms\tremaining: 197ms\n",
      "673:\tlearn: 0.0200462\ttotal: 407ms\tremaining: 197ms\n",
      "674:\tlearn: 0.0199048\ttotal: 407ms\tremaining: 196ms\n",
      "675:\tlearn: 0.0198427\ttotal: 408ms\tremaining: 195ms\n",
      "676:\tlearn: 0.0197048\ttotal: 408ms\tremaining: 195ms\n",
      "677:\tlearn: 0.0196474\ttotal: 409ms\tremaining: 194ms\n",
      "678:\tlearn: 0.0195764\ttotal: 410ms\tremaining: 194ms\n",
      "679:\tlearn: 0.0195067\ttotal: 410ms\tremaining: 193ms\n",
      "680:\tlearn: 0.0193865\ttotal: 411ms\tremaining: 192ms\n",
      "681:\tlearn: 0.0192692\ttotal: 411ms\tremaining: 192ms\n",
      "682:\tlearn: 0.0192216\ttotal: 412ms\tremaining: 191ms\n",
      "683:\tlearn: 0.0191568\ttotal: 412ms\tremaining: 190ms\n",
      "684:\tlearn: 0.0190462\ttotal: 413ms\tremaining: 190ms\n",
      "685:\tlearn: 0.0189303\ttotal: 413ms\tremaining: 189ms\n",
      "686:\tlearn: 0.0188841\ttotal: 414ms\tremaining: 189ms\n",
      "687:\tlearn: 0.0188210\ttotal: 414ms\tremaining: 188ms\n",
      "688:\tlearn: 0.0187228\ttotal: 415ms\tremaining: 187ms\n",
      "689:\tlearn: 0.0186099\ttotal: 415ms\tremaining: 187ms\n",
      "690:\tlearn: 0.0184992\ttotal: 416ms\tremaining: 186ms\n",
      "691:\tlearn: 0.0184685\ttotal: 416ms\tremaining: 185ms\n",
      "692:\tlearn: 0.0183602\ttotal: 417ms\tremaining: 185ms\n",
      "693:\tlearn: 0.0182957\ttotal: 417ms\tremaining: 184ms\n",
      "694:\tlearn: 0.0182657\ttotal: 418ms\tremaining: 183ms\n",
      "695:\tlearn: 0.0181534\ttotal: 418ms\tremaining: 183ms\n",
      "696:\tlearn: 0.0180905\ttotal: 419ms\tremaining: 182ms\n",
      "697:\tlearn: 0.0180648\ttotal: 419ms\tremaining: 181ms\n",
      "698:\tlearn: 0.0179612\ttotal: 420ms\tremaining: 181ms\n",
      "699:\tlearn: 0.0178963\ttotal: 420ms\tremaining: 180ms\n",
      "700:\tlearn: 0.0178534\ttotal: 421ms\tremaining: 179ms\n",
      "701:\tlearn: 0.0178114\ttotal: 421ms\tremaining: 179ms\n",
      "702:\tlearn: 0.0177505\ttotal: 422ms\tremaining: 178ms\n",
      "703:\tlearn: 0.0176493\ttotal: 422ms\tremaining: 178ms\n",
      "704:\tlearn: 0.0176101\ttotal: 423ms\tremaining: 177ms\n",
      "705:\tlearn: 0.0175504\ttotal: 423ms\tremaining: 176ms\n",
      "706:\tlearn: 0.0175261\ttotal: 424ms\tremaining: 176ms\n",
      "707:\tlearn: 0.0174091\ttotal: 424ms\tremaining: 175ms\n",
      "708:\tlearn: 0.0173478\ttotal: 425ms\tremaining: 174ms\n",
      "709:\tlearn: 0.0172579\ttotal: 425ms\tremaining: 174ms\n",
      "710:\tlearn: 0.0172059\ttotal: 426ms\tremaining: 173ms\n",
      "711:\tlearn: 0.0171183\ttotal: 426ms\tremaining: 172ms\n",
      "712:\tlearn: 0.0170321\ttotal: 427ms\tremaining: 172ms\n",
      "713:\tlearn: 0.0170089\ttotal: 427ms\tremaining: 171ms\n",
      "714:\tlearn: 0.0169495\ttotal: 428ms\tremaining: 171ms\n",
      "715:\tlearn: 0.0169126\ttotal: 428ms\tremaining: 170ms\n",
      "716:\tlearn: 0.0168284\ttotal: 429ms\tremaining: 169ms\n",
      "717:\tlearn: 0.0167739\ttotal: 429ms\tremaining: 169ms\n",
      "718:\tlearn: 0.0167246\ttotal: 430ms\tremaining: 168ms\n",
      "719:\tlearn: 0.0166421\ttotal: 430ms\tremaining: 167ms\n",
      "720:\tlearn: 0.0165454\ttotal: 431ms\tremaining: 167ms\n",
      "721:\tlearn: 0.0165234\ttotal: 431ms\tremaining: 166ms\n",
      "722:\tlearn: 0.0164640\ttotal: 432ms\tremaining: 165ms\n",
      "723:\tlearn: 0.0164055\ttotal: 432ms\tremaining: 165ms\n",
      "724:\tlearn: 0.0163063\ttotal: 433ms\tremaining: 164ms\n",
      "725:\tlearn: 0.0162716\ttotal: 433ms\tremaining: 163ms\n",
      "726:\tlearn: 0.0161842\ttotal: 434ms\tremaining: 163ms\n",
      "727:\tlearn: 0.0161275\ttotal: 434ms\tremaining: 162ms\n",
      "728:\tlearn: 0.0160203\ttotal: 435ms\tremaining: 162ms\n",
      "729:\tlearn: 0.0159258\ttotal: 435ms\tremaining: 161ms\n",
      "730:\tlearn: 0.0158815\ttotal: 436ms\tremaining: 160ms\n",
      "731:\tlearn: 0.0157840\ttotal: 436ms\tremaining: 160ms\n",
      "732:\tlearn: 0.0156986\ttotal: 437ms\tremaining: 159ms\n",
      "733:\tlearn: 0.0155976\ttotal: 437ms\tremaining: 158ms\n",
      "734:\tlearn: 0.0155148\ttotal: 438ms\tremaining: 158ms\n",
      "735:\tlearn: 0.0154781\ttotal: 438ms\tremaining: 157ms\n",
      "736:\tlearn: 0.0153985\ttotal: 439ms\tremaining: 157ms\n",
      "737:\tlearn: 0.0153205\ttotal: 439ms\tremaining: 156ms\n",
      "738:\tlearn: 0.0152237\ttotal: 440ms\tremaining: 155ms\n",
      "739:\tlearn: 0.0151486\ttotal: 440ms\tremaining: 155ms\n",
      "740:\tlearn: 0.0151007\ttotal: 441ms\tremaining: 154ms\n",
      "741:\tlearn: 0.0150593\ttotal: 441ms\tremaining: 153ms\n",
      "742:\tlearn: 0.0149862\ttotal: 441ms\tremaining: 153ms\n",
      "743:\tlearn: 0.0149397\ttotal: 442ms\tremaining: 152ms\n",
      "744:\tlearn: 0.0148455\ttotal: 443ms\tremaining: 151ms\n",
      "745:\tlearn: 0.0148107\ttotal: 443ms\tremaining: 151ms\n",
      "746:\tlearn: 0.0147513\ttotal: 444ms\tremaining: 150ms\n",
      "747:\tlearn: 0.0146735\ttotal: 444ms\tremaining: 150ms\n",
      "748:\tlearn: 0.0146248\ttotal: 445ms\tremaining: 149ms\n",
      "749:\tlearn: 0.0145490\ttotal: 445ms\tremaining: 148ms\n",
      "750:\tlearn: 0.0144529\ttotal: 446ms\tremaining: 148ms\n",
      "751:\tlearn: 0.0143745\ttotal: 446ms\tremaining: 147ms\n",
      "752:\tlearn: 0.0143263\ttotal: 447ms\tremaining: 147ms\n",
      "753:\tlearn: 0.0142775\ttotal: 447ms\tremaining: 146ms\n",
      "754:\tlearn: 0.0142384\ttotal: 448ms\tremaining: 145ms\n",
      "755:\tlearn: 0.0141925\ttotal: 448ms\tremaining: 145ms\n",
      "756:\tlearn: 0.0141453\ttotal: 449ms\tremaining: 144ms\n",
      "757:\tlearn: 0.0140710\ttotal: 449ms\tremaining: 143ms\n",
      "758:\tlearn: 0.0139979\ttotal: 450ms\tremaining: 143ms\n",
      "759:\tlearn: 0.0139191\ttotal: 450ms\tremaining: 142ms\n",
      "760:\tlearn: 0.0138744\ttotal: 450ms\tremaining: 141ms\n",
      "761:\tlearn: 0.0138370\ttotal: 451ms\tremaining: 141ms\n",
      "762:\tlearn: 0.0137473\ttotal: 451ms\tremaining: 140ms\n",
      "763:\tlearn: 0.0136942\ttotal: 452ms\tremaining: 140ms\n",
      "764:\tlearn: 0.0136182\ttotal: 452ms\tremaining: 139ms\n",
      "765:\tlearn: 0.0135745\ttotal: 453ms\tremaining: 138ms\n",
      "766:\tlearn: 0.0135223\ttotal: 453ms\tremaining: 138ms\n",
      "767:\tlearn: 0.0134526\ttotal: 454ms\tremaining: 137ms\n",
      "768:\tlearn: 0.0133781\ttotal: 454ms\tremaining: 136ms\n",
      "769:\tlearn: 0.0133454\ttotal: 454ms\tremaining: 136ms\n",
      "770:\tlearn: 0.0132992\ttotal: 455ms\tremaining: 135ms\n",
      "771:\tlearn: 0.0132569\ttotal: 455ms\tremaining: 134ms\n",
      "772:\tlearn: 0.0132128\ttotal: 456ms\tremaining: 134ms\n",
      "773:\tlearn: 0.0131776\ttotal: 456ms\tremaining: 133ms\n",
      "774:\tlearn: 0.0131463\ttotal: 457ms\tremaining: 133ms\n",
      "775:\tlearn: 0.0131031\ttotal: 457ms\tremaining: 132ms\n",
      "776:\tlearn: 0.0130861\ttotal: 457ms\tremaining: 131ms\n",
      "777:\tlearn: 0.0130344\ttotal: 458ms\tremaining: 131ms\n",
      "778:\tlearn: 0.0129836\ttotal: 458ms\tremaining: 130ms\n",
      "779:\tlearn: 0.0129333\ttotal: 459ms\tremaining: 129ms\n",
      "780:\tlearn: 0.0128897\ttotal: 459ms\tremaining: 129ms\n",
      "781:\tlearn: 0.0128594\ttotal: 460ms\tremaining: 128ms\n",
      "782:\tlearn: 0.0128180\ttotal: 460ms\tremaining: 127ms\n",
      "783:\tlearn: 0.0128015\ttotal: 460ms\tremaining: 127ms\n",
      "784:\tlearn: 0.0127515\ttotal: 461ms\tremaining: 126ms\n",
      "785:\tlearn: 0.0127026\ttotal: 461ms\tremaining: 126ms\n",
      "786:\tlearn: 0.0126373\ttotal: 462ms\tremaining: 125ms\n",
      "787:\tlearn: 0.0126213\ttotal: 462ms\tremaining: 124ms\n",
      "788:\tlearn: 0.0125739\ttotal: 463ms\tremaining: 124ms\n",
      "789:\tlearn: 0.0125265\ttotal: 463ms\tremaining: 123ms\n",
      "790:\tlearn: 0.0124798\ttotal: 464ms\tremaining: 123ms\n",
      "791:\tlearn: 0.0124153\ttotal: 464ms\tremaining: 122ms\n",
      "792:\tlearn: 0.0123997\ttotal: 465ms\tremaining: 121ms\n",
      "793:\tlearn: 0.0123368\ttotal: 465ms\tremaining: 121ms\n",
      "794:\tlearn: 0.0123215\ttotal: 466ms\tremaining: 120ms\n",
      "795:\tlearn: 0.0122746\ttotal: 466ms\tremaining: 120ms\n",
      "796:\tlearn: 0.0121952\ttotal: 467ms\tremaining: 119ms\n",
      "797:\tlearn: 0.0121565\ttotal: 467ms\tremaining: 118ms\n",
      "798:\tlearn: 0.0120873\ttotal: 468ms\tremaining: 118ms\n",
      "799:\tlearn: 0.0120252\ttotal: 469ms\tremaining: 117ms\n",
      "800:\tlearn: 0.0119619\ttotal: 469ms\tremaining: 117ms\n",
      "801:\tlearn: 0.0119223\ttotal: 470ms\tremaining: 116ms\n",
      "802:\tlearn: 0.0118618\ttotal: 470ms\tremaining: 115ms\n",
      "803:\tlearn: 0.0118470\ttotal: 471ms\tremaining: 115ms\n",
      "804:\tlearn: 0.0118083\ttotal: 471ms\tremaining: 114ms\n",
      "805:\tlearn: 0.0117494\ttotal: 471ms\tremaining: 113ms\n",
      "806:\tlearn: 0.0117349\ttotal: 472ms\tremaining: 113ms\n",
      "807:\tlearn: 0.0116745\ttotal: 472ms\tremaining: 112ms\n",
      "808:\tlearn: 0.0115992\ttotal: 473ms\tremaining: 112ms\n",
      "809:\tlearn: 0.0115418\ttotal: 473ms\tremaining: 111ms\n",
      "810:\tlearn: 0.0114818\ttotal: 474ms\tremaining: 110ms\n",
      "811:\tlearn: 0.0114446\ttotal: 474ms\tremaining: 110ms\n"
     ]
    },
    {
     "name": "stdout",
     "output_type": "stream",
     "text": [
      "812:\tlearn: 0.0114046\ttotal: 476ms\tremaining: 109ms\n",
      "813:\tlearn: 0.0113779\ttotal: 476ms\tremaining: 109ms\n",
      "814:\tlearn: 0.0113205\ttotal: 477ms\tremaining: 108ms\n",
      "815:\tlearn: 0.0112655\ttotal: 477ms\tremaining: 108ms\n",
      "816:\tlearn: 0.0112394\ttotal: 478ms\tremaining: 107ms\n",
      "817:\tlearn: 0.0111841\ttotal: 478ms\tremaining: 106ms\n",
      "818:\tlearn: 0.0111198\ttotal: 478ms\tremaining: 106ms\n",
      "819:\tlearn: 0.0110670\ttotal: 479ms\tremaining: 105ms\n",
      "820:\tlearn: 0.0110108\ttotal: 479ms\tremaining: 105ms\n",
      "821:\tlearn: 0.0109556\ttotal: 480ms\tremaining: 104ms\n",
      "822:\tlearn: 0.0109058\ttotal: 480ms\tremaining: 103ms\n",
      "823:\tlearn: 0.0108921\ttotal: 481ms\tremaining: 103ms\n",
      "824:\tlearn: 0.0108366\ttotal: 481ms\tremaining: 102ms\n",
      "825:\tlearn: 0.0107859\ttotal: 482ms\tremaining: 101ms\n",
      "826:\tlearn: 0.0107376\ttotal: 482ms\tremaining: 101ms\n",
      "827:\tlearn: 0.0106835\ttotal: 482ms\tremaining: 100ms\n",
      "828:\tlearn: 0.0106589\ttotal: 483ms\tremaining: 99.6ms\n",
      "829:\tlearn: 0.0106118\ttotal: 483ms\tremaining: 99ms\n",
      "830:\tlearn: 0.0105626\ttotal: 484ms\tremaining: 98.4ms\n",
      "831:\tlearn: 0.0105111\ttotal: 484ms\tremaining: 97.8ms\n",
      "832:\tlearn: 0.0104652\ttotal: 485ms\tremaining: 97.2ms\n",
      "833:\tlearn: 0.0104190\ttotal: 485ms\tremaining: 96.6ms\n",
      "834:\tlearn: 0.0103674\ttotal: 486ms\tremaining: 96ms\n",
      "835:\tlearn: 0.0103117\ttotal: 486ms\tremaining: 95.4ms\n",
      "836:\tlearn: 0.0102571\ttotal: 487ms\tremaining: 94.8ms\n",
      "837:\tlearn: 0.0102049\ttotal: 487ms\tremaining: 94.2ms\n",
      "838:\tlearn: 0.0101538\ttotal: 488ms\tremaining: 93.6ms\n",
      "839:\tlearn: 0.0101304\ttotal: 488ms\tremaining: 93ms\n",
      "840:\tlearn: 0.0100842\ttotal: 489ms\tremaining: 92.4ms\n",
      "841:\tlearn: 0.0100346\ttotal: 489ms\tremaining: 91.8ms\n",
      "842:\tlearn: 0.0099897\ttotal: 490ms\tremaining: 91.2ms\n",
      "843:\tlearn: 0.0099413\ttotal: 490ms\tremaining: 90.6ms\n",
      "844:\tlearn: 0.0098885\ttotal: 491ms\tremaining: 90.1ms\n",
      "845:\tlearn: 0.0098452\ttotal: 491ms\tremaining: 89.5ms\n",
      "846:\tlearn: 0.0097872\ttotal: 492ms\tremaining: 88.9ms\n",
      "847:\tlearn: 0.0097302\ttotal: 493ms\tremaining: 88.3ms\n",
      "848:\tlearn: 0.0096797\ttotal: 493ms\tremaining: 87.7ms\n",
      "849:\tlearn: 0.0096377\ttotal: 494ms\tremaining: 87.1ms\n",
      "850:\tlearn: 0.0095823\ttotal: 494ms\tremaining: 86.5ms\n",
      "851:\tlearn: 0.0095336\ttotal: 495ms\tremaining: 86ms\n",
      "852:\tlearn: 0.0094909\ttotal: 495ms\tremaining: 85.3ms\n",
      "853:\tlearn: 0.0094371\ttotal: 496ms\tremaining: 84.8ms\n",
      "854:\tlearn: 0.0093901\ttotal: 496ms\tremaining: 84.2ms\n",
      "855:\tlearn: 0.0093501\ttotal: 497ms\tremaining: 83.6ms\n",
      "856:\tlearn: 0.0093063\ttotal: 497ms\tremaining: 83ms\n",
      "857:\tlearn: 0.0092675\ttotal: 498ms\tremaining: 82.4ms\n",
      "858:\tlearn: 0.0092223\ttotal: 498ms\tremaining: 81.7ms\n",
      "859:\tlearn: 0.0091845\ttotal: 498ms\tremaining: 81.1ms\n",
      "860:\tlearn: 0.0091406\ttotal: 499ms\tremaining: 80.5ms\n",
      "861:\tlearn: 0.0091024\ttotal: 499ms\tremaining: 79.9ms\n",
      "862:\tlearn: 0.0090443\ttotal: 499ms\tremaining: 79.3ms\n",
      "863:\tlearn: 0.0090081\ttotal: 500ms\tremaining: 78.7ms\n",
      "864:\tlearn: 0.0089659\ttotal: 500ms\tremaining: 78.1ms\n",
      "865:\tlearn: 0.0089276\ttotal: 501ms\tremaining: 77.5ms\n",
      "866:\tlearn: 0.0088711\ttotal: 501ms\tremaining: 76.9ms\n",
      "867:\tlearn: 0.0088381\ttotal: 502ms\tremaining: 76.3ms\n",
      "868:\tlearn: 0.0088036\ttotal: 502ms\tremaining: 75.7ms\n",
      "869:\tlearn: 0.0087582\ttotal: 503ms\tremaining: 75.1ms\n",
      "870:\tlearn: 0.0087088\ttotal: 503ms\tremaining: 74.5ms\n",
      "871:\tlearn: 0.0086746\ttotal: 503ms\tremaining: 73.9ms\n",
      "872:\tlearn: 0.0086386\ttotal: 504ms\tremaining: 73.3ms\n",
      "873:\tlearn: 0.0086076\ttotal: 504ms\tremaining: 72.7ms\n",
      "874:\tlearn: 0.0085685\ttotal: 505ms\tremaining: 72.1ms\n",
      "875:\tlearn: 0.0085304\ttotal: 505ms\tremaining: 71.5ms\n",
      "876:\tlearn: 0.0085031\ttotal: 506ms\tremaining: 70.9ms\n",
      "877:\tlearn: 0.0084660\ttotal: 506ms\tremaining: 70.3ms\n",
      "878:\tlearn: 0.0084035\ttotal: 507ms\tremaining: 69.7ms\n",
      "879:\tlearn: 0.0083659\ttotal: 507ms\tremaining: 69.1ms\n",
      "880:\tlearn: 0.0083367\ttotal: 507ms\tremaining: 68.5ms\n",
      "881:\tlearn: 0.0082892\ttotal: 508ms\tremaining: 67.9ms\n",
      "882:\tlearn: 0.0082523\ttotal: 508ms\tremaining: 67.4ms\n",
      "883:\tlearn: 0.0082160\ttotal: 509ms\tremaining: 66.8ms\n",
      "884:\tlearn: 0.0081751\ttotal: 509ms\tremaining: 66.2ms\n",
      "885:\tlearn: 0.0081397\ttotal: 510ms\tremaining: 65.6ms\n",
      "886:\tlearn: 0.0081149\ttotal: 510ms\tremaining: 65ms\n",
      "887:\tlearn: 0.0080845\ttotal: 511ms\tremaining: 64.4ms\n",
      "888:\tlearn: 0.0080274\ttotal: 511ms\tremaining: 63.8ms\n",
      "889:\tlearn: 0.0079783\ttotal: 512ms\tremaining: 63.2ms\n",
      "890:\tlearn: 0.0079490\ttotal: 512ms\tremaining: 62.7ms\n",
      "891:\tlearn: 0.0078942\ttotal: 513ms\tremaining: 62.1ms\n",
      "892:\tlearn: 0.0078471\ttotal: 513ms\tremaining: 61.5ms\n",
      "893:\tlearn: 0.0078109\ttotal: 514ms\tremaining: 60.9ms\n",
      "894:\tlearn: 0.0077579\ttotal: 514ms\tremaining: 60.3ms\n",
      "895:\tlearn: 0.0077125\ttotal: 514ms\tremaining: 59.7ms\n",
      "896:\tlearn: 0.0076679\ttotal: 515ms\tremaining: 59.1ms\n",
      "897:\tlearn: 0.0076176\ttotal: 515ms\tremaining: 58.5ms\n",
      "898:\tlearn: 0.0075862\ttotal: 516ms\tremaining: 57.9ms\n",
      "899:\tlearn: 0.0075433\ttotal: 516ms\tremaining: 57.4ms\n",
      "900:\tlearn: 0.0075091\ttotal: 517ms\tremaining: 56.8ms\n",
      "901:\tlearn: 0.0074672\ttotal: 517ms\tremaining: 56.2ms\n",
      "902:\tlearn: 0.0074400\ttotal: 517ms\tremaining: 55.6ms\n",
      "903:\tlearn: 0.0074022\ttotal: 518ms\tremaining: 55ms\n",
      "904:\tlearn: 0.0073551\ttotal: 518ms\tremaining: 54.4ms\n",
      "905:\tlearn: 0.0073251\ttotal: 519ms\tremaining: 53.8ms\n",
      "906:\tlearn: 0.0072980\ttotal: 519ms\tremaining: 53.2ms\n",
      "907:\tlearn: 0.0072713\ttotal: 520ms\tremaining: 52.7ms\n",
      "908:\tlearn: 0.0072450\ttotal: 520ms\tremaining: 52.1ms\n",
      "909:\tlearn: 0.0072097\ttotal: 521ms\tremaining: 51.5ms\n",
      "910:\tlearn: 0.0071807\ttotal: 521ms\tremaining: 50.9ms\n",
      "911:\tlearn: 0.0071462\ttotal: 522ms\tremaining: 50.3ms\n",
      "912:\tlearn: 0.0071024\ttotal: 522ms\tremaining: 49.7ms\n",
      "913:\tlearn: 0.0070708\ttotal: 523ms\tremaining: 49.2ms\n",
      "914:\tlearn: 0.0070458\ttotal: 523ms\tremaining: 48.6ms\n",
      "915:\tlearn: 0.0070212\ttotal: 523ms\tremaining: 48ms\n",
      "916:\tlearn: 0.0069859\ttotal: 524ms\tremaining: 47.4ms\n",
      "917:\tlearn: 0.0069495\ttotal: 524ms\tremaining: 46.8ms\n",
      "918:\tlearn: 0.0069255\ttotal: 525ms\tremaining: 46.3ms\n",
      "919:\tlearn: 0.0069126\ttotal: 525ms\tremaining: 45.7ms\n",
      "920:\tlearn: 0.0068890\ttotal: 526ms\tremaining: 45.1ms\n",
      "921:\tlearn: 0.0068617\ttotal: 526ms\tremaining: 44.5ms\n",
      "922:\tlearn: 0.0068292\ttotal: 527ms\tremaining: 44ms\n",
      "923:\tlearn: 0.0068166\ttotal: 528ms\tremaining: 43.4ms\n",
      "924:\tlearn: 0.0068043\ttotal: 528ms\tremaining: 42.8ms\n",
      "925:\tlearn: 0.0067814\ttotal: 529ms\tremaining: 42.2ms\n",
      "926:\tlearn: 0.0067589\ttotal: 529ms\tremaining: 41.7ms\n",
      "927:\tlearn: 0.0067283\ttotal: 530ms\tremaining: 41.1ms\n",
      "928:\tlearn: 0.0067065\ttotal: 530ms\tremaining: 40.5ms\n",
      "929:\tlearn: 0.0066946\ttotal: 531ms\tremaining: 39.9ms\n",
      "930:\tlearn: 0.0066648\ttotal: 531ms\tremaining: 39.4ms\n",
      "931:\tlearn: 0.0066371\ttotal: 532ms\tremaining: 38.8ms\n",
      "932:\tlearn: 0.0066255\ttotal: 532ms\tremaining: 38.2ms\n",
      "933:\tlearn: 0.0066025\ttotal: 533ms\tremaining: 37.6ms\n",
      "934:\tlearn: 0.0065811\ttotal: 533ms\tremaining: 37ms\n",
      "935:\tlearn: 0.0065697\ttotal: 533ms\tremaining: 36.5ms\n",
      "936:\tlearn: 0.0065487\ttotal: 534ms\tremaining: 35.9ms\n",
      "937:\tlearn: 0.0065209\ttotal: 535ms\tremaining: 35.3ms\n",
      "938:\tlearn: 0.0065003\ttotal: 535ms\tremaining: 34.8ms\n",
      "939:\tlearn: 0.0064860\ttotal: 536ms\tremaining: 34.2ms\n",
      "940:\tlearn: 0.0064658\ttotal: 536ms\tremaining: 33.6ms\n",
      "941:\tlearn: 0.0064518\ttotal: 536ms\tremaining: 33ms\n",
      "942:\tlearn: 0.0064319\ttotal: 537ms\tremaining: 32.4ms\n",
      "943:\tlearn: 0.0063949\ttotal: 537ms\tremaining: 31.9ms\n",
      "944:\tlearn: 0.0063773\ttotal: 537ms\tremaining: 31.3ms\n",
      "945:\tlearn: 0.0063625\ttotal: 538ms\tremaining: 30.7ms\n",
      "946:\tlearn: 0.0063411\ttotal: 538ms\tremaining: 30.1ms\n",
      "947:\tlearn: 0.0063267\ttotal: 539ms\tremaining: 29.6ms\n",
      "948:\tlearn: 0.0062907\ttotal: 539ms\tremaining: 29ms\n",
      "949:\tlearn: 0.0062767\ttotal: 540ms\tremaining: 28.4ms\n",
      "950:\tlearn: 0.0062416\ttotal: 540ms\tremaining: 27.8ms\n",
      "951:\tlearn: 0.0062280\ttotal: 541ms\tremaining: 27.3ms\n",
      "952:\tlearn: 0.0061936\ttotal: 541ms\tremaining: 26.7ms\n",
      "953:\tlearn: 0.0061871\ttotal: 542ms\tremaining: 26.1ms\n",
      "954:\tlearn: 0.0061613\ttotal: 542ms\tremaining: 25.5ms\n",
      "955:\tlearn: 0.0061447\ttotal: 543ms\tremaining: 25ms\n",
      "956:\tlearn: 0.0061283\ttotal: 543ms\tremaining: 24.4ms\n",
      "957:\tlearn: 0.0061152\ttotal: 544ms\tremaining: 23.8ms\n",
      "958:\tlearn: 0.0060950\ttotal: 544ms\tremaining: 23.3ms\n",
      "959:\tlearn: 0.0060822\ttotal: 544ms\tremaining: 22.7ms\n",
      "960:\tlearn: 0.0060760\ttotal: 545ms\tremaining: 22.1ms\n",
      "961:\tlearn: 0.0060562\ttotal: 545ms\tremaining: 21.5ms\n",
      "962:\tlearn: 0.0060500\ttotal: 546ms\tremaining: 21ms\n",
      "963:\tlearn: 0.0060181\ttotal: 546ms\tremaining: 20.4ms\n",
      "964:\tlearn: 0.0060058\ttotal: 547ms\tremaining: 19.8ms\n",
      "965:\tlearn: 0.0059865\ttotal: 547ms\tremaining: 19.3ms\n",
      "966:\tlearn: 0.0059805\ttotal: 548ms\tremaining: 18.7ms\n",
      "967:\tlearn: 0.0059745\ttotal: 548ms\tremaining: 18.1ms\n",
      "968:\tlearn: 0.0059521\ttotal: 549ms\tremaining: 17.6ms\n",
      "969:\tlearn: 0.0059463\ttotal: 549ms\tremaining: 17ms\n",
      "970:\tlearn: 0.0059308\ttotal: 550ms\tremaining: 16.4ms\n",
      "971:\tlearn: 0.0059190\ttotal: 550ms\tremaining: 15.9ms\n",
      "972:\tlearn: 0.0058960\ttotal: 551ms\tremaining: 15.3ms\n",
      "973:\tlearn: 0.0058772\ttotal: 551ms\tremaining: 14.7ms\n",
      "974:\tlearn: 0.0058554\ttotal: 552ms\tremaining: 14.2ms\n",
      "975:\tlearn: 0.0058498\ttotal: 552ms\tremaining: 13.6ms\n",
      "976:\tlearn: 0.0058384\ttotal: 553ms\tremaining: 13ms\n",
      "977:\tlearn: 0.0058158\ttotal: 553ms\tremaining: 12.4ms\n",
      "978:\tlearn: 0.0057937\ttotal: 554ms\tremaining: 11.9ms\n"
     ]
    },
    {
     "name": "stdout",
     "output_type": "stream",
     "text": [
      "979:\tlearn: 0.0057754\ttotal: 554ms\tremaining: 11.3ms\n",
      "980:\tlearn: 0.0057574\ttotal: 555ms\tremaining: 10.7ms\n",
      "981:\tlearn: 0.0057518\ttotal: 555ms\tremaining: 10.2ms\n",
      "982:\tlearn: 0.0057300\ttotal: 555ms\tremaining: 9.61ms\n",
      "983:\tlearn: 0.0057091\ttotal: 556ms\tremaining: 9.04ms\n",
      "984:\tlearn: 0.0056780\ttotal: 556ms\tremaining: 8.47ms\n",
      "985:\tlearn: 0.0056671\ttotal: 557ms\tremaining: 7.91ms\n",
      "986:\tlearn: 0.0056390\ttotal: 558ms\tremaining: 7.34ms\n",
      "987:\tlearn: 0.0056336\ttotal: 558ms\tremaining: 6.78ms\n",
      "988:\tlearn: 0.0056103\ttotal: 559ms\tremaining: 6.21ms\n",
      "989:\tlearn: 0.0056043\ttotal: 559ms\tremaining: 5.65ms\n",
      "990:\tlearn: 0.0055944\ttotal: 560ms\tremaining: 5.08ms\n",
      "991:\tlearn: 0.0055741\ttotal: 560ms\tremaining: 4.52ms\n",
      "992:\tlearn: 0.0055442\ttotal: 560ms\tremaining: 3.95ms\n",
      "993:\tlearn: 0.0055190\ttotal: 561ms\tremaining: 3.38ms\n",
      "994:\tlearn: 0.0054992\ttotal: 561ms\tremaining: 2.82ms\n",
      "995:\tlearn: 0.0054896\ttotal: 562ms\tremaining: 2.26ms\n",
      "996:\tlearn: 0.0054626\ttotal: 562ms\tremaining: 1.69ms\n",
      "997:\tlearn: 0.0054532\ttotal: 563ms\tremaining: 1.13ms\n",
      "998:\tlearn: 0.0054368\ttotal: 563ms\tremaining: 563us\n",
      "999:\tlearn: 0.0054057\ttotal: 564ms\tremaining: 0us\n"
     ]
    },
    {
     "data": {
      "text/plain": [
       "<catboost.core.CatBoostRegressor at 0x7fbdd82f21f0>"
      ]
     },
     "execution_count": 9,
     "metadata": {},
     "output_type": "execute_result"
    }
   ],
   "source": [
    "#Train the Model \n",
    "prior_model = ctb.CatBoostRegressor()\n",
    "prior_model.fit(X_train,Y_train)"
   ]
  },
  {
   "cell_type": "code",
   "execution_count": 10,
   "id": "af65dcda",
   "metadata": {
    "execution": {
     "iopub.execute_input": "2022-06-07T06:49:54.203614Z",
     "iopub.status.busy": "2022-06-07T06:49:54.203223Z",
     "iopub.status.idle": "2022-06-07T06:49:54.210795Z",
     "shell.execute_reply": "2022-06-07T06:49:54.211096Z"
    },
    "id": "af65dcda",
    "papermill": {
     "duration": 0.020551,
     "end_time": "2022-06-07T06:49:54.211212",
     "exception": false,
     "start_time": "2022-06-07T06:49:54.190661",
     "status": "completed"
    },
    "tags": []
   },
   "outputs": [
    {
     "data": {
      "application/scrapbook.scrap.json+json": {
       "data": 0.08622855516464523,
       "encoder": "json",
       "name": "Prior Model MSE",
       "version": 1
      }
     },
     "metadata": {
      "scrapbook": {
       "data": true,
       "display": false,
       "name": "Prior Model MSE"
      }
     },
     "output_type": "display_data"
    },
    {
     "data": {
      "application/scrapbook.scrap.json+json": {
       "data": 0.9728161817465482,
       "encoder": "json",
       "name": "ABC Pre-generator MSE",
       "version": 1
      }
     },
     "metadata": {
      "scrapbook": {
       "data": true,
       "display": false,
       "name": "ABC Pre-generator MSE"
      }
     },
     "output_type": "display_data"
    },
    {
     "data": {
      "application/scrapbook.scrap.json+json": {
       "data": 0.232368051954986,
       "encoder": "json",
       "name": "Prior Model MSE",
       "version": 1
      }
     },
     "metadata": {
      "scrapbook": {
       "data": true,
       "display": false,
       "name": "Prior Model MSE"
      }
     },
     "output_type": "display_data"
    },
    {
     "data": {
      "application/scrapbook.scrap.json+json": {
       "data": 0.9436610666121679,
       "encoder": "json",
       "name": "ABC Pre-generator MSE",
       "version": 1
      }
     },
     "metadata": {
      "scrapbook": {
       "data": true,
       "display": false,
       "name": "ABC Pre-generator MSE"
      }
     },
     "output_type": "display_data"
    }
   ],
   "source": [
    "y_pred = prior_model.predict(X_test)\n",
    "y_abc = y_pred + np.random.normal(0,variance, y_pred.shape) + bias \n",
    "mse = mean_squared_error(y_pred,Y_test)\n",
    "sb.glue(\"Prior Model MSE\",mse)\n",
    "mse = mean_squared_error(y_abc,Y_test)\n",
    "sb.glue(\"ABC Pre-generator MSE\",mse)\n",
    "mae = mean_absolute_error(y_pred,Y_test)\n",
    "sb.glue(\"Prior Model MSE\",mae)\n",
    "mae = mean_absolute_error(y_abc,Y_test)\n",
    "sb.glue(\"ABC Pre-generator MSE\",mae)"
   ]
  },
  {
   "cell_type": "markdown",
   "id": "25609da2",
   "metadata": {
    "papermill": {
     "duration": 0.009506,
     "end_time": "2022-06-07T06:49:54.230496",
     "exception": false,
     "start_time": "2022-06-07T06:49:54.220990",
     "status": "completed"
    },
    "tags": []
   },
   "source": [
    "# ABC GAN Model"
   ]
  },
  {
   "cell_type": "code",
   "execution_count": 11,
   "id": "dfc3464d",
   "metadata": {
    "execution": {
     "iopub.execute_input": "2022-06-07T06:49:54.253461Z",
     "iopub.status.busy": "2022-06-07T06:49:54.253068Z",
     "iopub.status.idle": "2022-06-07T06:49:54.255625Z",
     "shell.execute_reply": "2022-06-07T06:49:54.255881Z"
    },
    "papermill": {
     "duration": 0.015956,
     "end_time": "2022-06-07T06:49:54.256017",
     "exception": false,
     "start_time": "2022-06-07T06:49:54.240061",
     "status": "completed"
    },
    "tags": []
   },
   "outputs": [],
   "source": [
    "gen = network.Generator(n_features+1).to(device)\n",
    "disc = network.Discriminator(n_features+1).to(device)\n",
    "\n",
    "criterion = torch.nn.BCELoss()\n",
    "gen_opt = torch.optim.Adam(gen.parameters(), lr=0.001, betas=(0.5, 0.999))\n",
    "disc_opt = torch.optim.Adam(disc.parameters(), lr=0.001, betas=(0.5, 0.999))"
   ]
  },
  {
   "cell_type": "code",
   "execution_count": 12,
   "id": "b75fdd85",
   "metadata": {
    "execution": {
     "iopub.execute_input": "2022-06-07T06:49:54.278641Z",
     "iopub.status.busy": "2022-06-07T06:49:54.278246Z",
     "iopub.status.idle": "2022-06-07T06:50:07.747623Z",
     "shell.execute_reply": "2022-06-07T06:50:07.747878Z"
    },
    "papermill": {
     "duration": 13.481837,
     "end_time": "2022-06-07T06:50:07.748004",
     "exception": false,
     "start_time": "2022-06-07T06:49:54.266167",
     "status": "completed"
    },
    "tags": []
   },
   "outputs": [
    {
     "data": {
      "image/png": "[encoded data removed]",
      "text/plain": [
       "<Figure size 432x288 with 1 Axes>"
      ]
     },
     "metadata": {
      "needs_background": "light"
     },
     "output_type": "display_data"
    },
    {
     "data": {
      "image/png": "[encoded data removed]",
      "text/plain": [
       "<Figure size 432x288 with 1 Axes>"
      ]
     },
     "metadata": {
      "needs_background": "light"
     },
     "output_type": "display_data"
    }
   ],
   "source": [
    "#Training the ABC_GAN \n",
    "ABC_train_test2.training_GAN(disc,gen,disc_opt,gen_opt,train_data,batch_size,n_epochs,criterion,prior_model,variance,bias,device)"
   ]
  },
  {
   "cell_type": "code",
   "execution_count": 13,
   "id": "1fa7c368",
   "metadata": {
    "execution": {
     "iopub.execute_input": "2022-06-07T06:50:07.772300Z",
     "iopub.status.busy": "2022-06-07T06:50:07.771844Z",
     "iopub.status.idle": "2022-06-07T06:50:07.958105Z",
     "shell.execute_reply": "2022-06-07T06:50:07.958451Z"
    },
    "papermill": {
     "duration": 0.199324,
     "end_time": "2022-06-07T06:50:07.958576",
     "exception": false,
     "start_time": "2022-06-07T06:50:07.759252",
     "status": "completed"
    },
    "tags": []
   },
   "outputs": [
    {
     "data": {
      "application/scrapbook.scrap.json+json": {
       "data": 0.10144078776529318,
       "encoder": "json",
       "name": "ABC-GAN Model 1 MSE",
       "version": 1
      }
     },
     "metadata": {
      "scrapbook": {
       "data": true,
       "display": false,
       "name": "ABC-GAN Model 1 MSE"
      }
     },
     "output_type": "display_data"
    },
    {
     "data": {
      "application/scrapbook.scrap.json+json": {
       "data": 0.24522212858125567,
       "encoder": "json",
       "name": "ABC-GAN Model 1 MAE",
       "version": 1
      }
     },
     "metadata": {
      "scrapbook": {
       "data": true,
       "display": false,
       "name": "ABC-GAN Model 1 MAE"
      }
     },
     "output_type": "display_data"
    },
    {
     "data": {
      "application/scrapbook.scrap.json+json": {
       "data": 4.904442571625114,
       "encoder": "json",
       "name": "ABC-GAN Model 1 Manhattan Distance",
       "version": 1
      }
     },
     "metadata": {
      "scrapbook": {
       "data": true,
       "display": false,
       "name": "ABC-GAN Model 1 Manhattan Distance"
      }
     },
     "output_type": "display_data"
    },
    {
     "data": {
      "application/scrapbook.scrap.json+json": {
       "data": 1.4243254387884794,
       "encoder": "json",
       "name": "ABC-GAN Model 1 Euclidean distance",
       "version": 1
      }
     },
     "metadata": {
      "scrapbook": {
       "data": true,
       "display": false,
       "name": "ABC-GAN Model 1 Euclidean distance"
      }
     },
     "output_type": "display_data"
    },
    {
     "data": {
      "application/scrapbook.scrap.json+json": {
       "data": [
        [
         0.10164895282061477,
         0.10206783526090993,
         0.10241786902257052,
         0.10134737022181764,
         0.09949414195307388,
         0.10235007146022723,
         0.10006815493403969,
         0.09997450513212638,
         0.10172340196680137,
         0.10177734202871887,
         0.10424905036919455,
         0.10194965913422024,
         0.10343764078611795,
         0.10058792717994289,
         0.0997375124185588,
         0.09893068779011906,
         0.10247391034183291,
         0.10440754486530121,
         0.10028634297042296,
         0.09983299270014914,
         0.09847039535159487,
         0.10309748342457796,
         0.10272087002505428,
         0.10213181572543695,
         0.10353720020788185,
         0.10141416871620146,
         0.10121134917367622,
         0.1018826076109054,
         0.10211028529684438,
         0.10240212175048398,
         0.10151886652483018,
         0.10042103721052524,
         0.100876177342752,
         0.1015186994734941,
         0.10135523121183732,
         0.1000199165765574,
         0.10485125447227235,
         0.10244138873724999,
         0.10271751948924605,
         0.10270473295684686,
         0.10320510483520047,
         0.10322840217350442,
         0.10237158022074104,
         0.10037557274338194,
         0.09940994566955934,
         0.10218693297189389,
         0.10122073469532578,
         0.09961597139069496,
         0.10233364848803173,
         0.10507167414795551,
         0.10144728262666587,
         0.10029194019558477,
         0.10052292342629991,
         0.0998048172070893,
         0.09930702453763104,
         0.10099821594037248,
         0.10124699725857529,
         0.09999557190045098,
         0.09865324425954461,
         0.09938094869076791,
         0.10447612316954336,
         0.10127714791562277,
         0.10259302545216471,
         0.10135047040197949,
         0.10323572981499603,
         0.10221121058714396,
         0.10325289622130125,
         0.1027013035565506,
         0.10048144305823588,
         0.10152422282753086,
         0.09936896215761098,
         0.09883865261103304,
         0.09978648257610785,
         0.10162230046684587,
         0.09999678438340528,
         0.1035257202551713,
         0.10248925351406064,
         0.10226535596174528,
         0.10213550396081042,
         0.10096613244356112,
         0.10089561584952289,
         0.10062361605408446,
         0.10193622311199531,
         0.1015081900910769,
         0.0995893149654827,
         0.09969400637868266,
         0.10254258652817638,
         0.10277199471052452,
         0.10025239828238122,
         0.10212496072594672,
         0.10352405685278065,
         0.0984695541112356,
         0.09878153419132492,
         0.102653917177051,
         0.10232124461369722,
         0.10182627335560071,
         0.10325169905619469,
         0.10154560670091965,
         0.09917170755095317,
         0.09966098687196581
        ],
        [
         0.24405036065727473,
         0.24631691519171,
         0.24768750686198474,
         0.24440588150173426,
         0.24228104446083307,
         0.24710570443421603,
         0.2445612633600831,
         0.24462587404996156,
         0.247191902436316,
         0.24444477055221797,
         0.2485569531098008,
         0.24575110990554094,
         0.24634884912520646,
         0.24326198194175958,
         0.24191361088305713,
         0.24438148979097604,
         0.24867248851805926,
         0.2509645948186517,
         0.24370643813163043,
         0.24494634363800288,
         0.2402245270088315,
         0.24465764183551073,
         0.24735917393118143,
         0.24613667819648982,
         0.24960591439157725,
         0.24583668876439332,
         0.24722073059529065,
         0.245992280356586,
         0.24598894212394953,
         0.24696150738745928,
         0.2439169416204095,
         0.24279073383659125,
         0.24192125741392373,
         0.24708979818969964,
         0.24466084968298674,
         0.24206814039498567,
         0.24964257273823023,
         0.24566650595515965,
         0.24608245063573123,
         0.2471004853025079,
         0.24594628009945155,
         0.24734698329120874,
         0.24763963278383017,
         0.2442185753956437,
         0.24200821314007043,
         0.24489062149077653,
         0.24663714040070772,
         0.2423405723646283,
         0.246620430983603,
         0.2500801162794232,
         0.2463253939524293,
         0.24452918190509082,
         0.24363269601017237,
         0.24359256122261286,
         0.2433095643296838,
         0.24408312942832708,
         0.2442168029025197,
         0.24326246995478867,
         0.242834541387856,
         0.24166917745023966,
         0.24877246599644423,
         0.2442246178165078,
         0.24889274258166552,
         0.24492487628012896,
         0.24844063315540552,
         0.2464602017775178,
         0.24805352929979563,
         0.24536075871437787,
         0.24416632521897555,
         0.2455088274553418,
         0.24134697560220958,
         0.24305088985711337,
         0.24427722115069628,
         0.2431274915114045,
         0.24276373889297248,
         0.2469435790553689,
         0.2459537798538804,
         0.24407436419278383,
         0.24641274008899927,
         0.24482174981385468,
         0.24659934137016534,
         0.2447058217599988,
         0.24585542622953654,
         0.24601553250104188,
         0.24369332287460566,
         0.24157478827983142,
         0.24606395605951548,
         0.24638581704348325,
         0.24167474899441005,
         0.24445795323699712,
         0.24816060457378625,
         0.24257141072303057,
         0.24414377380162477,
         0.24823393505066632,
         0.2436686461791396,
         0.24459894616156816,
         0.24871638808399438,
         0.24509422685950993,
         0.24138638768345116,
         0.24375133384019138
        ],
        [
         4.8810072131454945,
         4.9263383038342,
         4.953750137239695,
         4.888117630034685,
         4.8456208892166615,
         4.9421140886843204,
         4.891225267201662,
         4.892517480999231,
         4.94383804872632,
         4.888895411044359,
         4.971139062196016,
         4.915022198110819,
         4.926976982504129,
         4.865239638835192,
         4.838272217661142,
         4.887629795819521,
         4.973449770361185,
         5.0192918963730335,
         4.874128762632608,
         4.8989268727600574,
         4.80449054017663,
         4.893152836710215,
         4.947183478623629,
         4.922733563929796,
         4.992118287831545,
         4.916733775287867,
         4.944414611905813,
         4.91984560713172,
         4.9197788424789906,
         4.939230147749186,
         4.87833883240819,
         4.855814676731825,
         4.838425148278475,
         4.941795963793993,
         4.893216993659735,
         4.8413628078997135,
         4.992851454764605,
         4.913330119103193,
         4.921649012714624,
         4.9420097060501575,
         4.918925601989031,
         4.946939665824175,
         4.952792655676603,
         4.884371507912874,
         4.840164262801409,
         4.897812429815531,
         4.932742808014154,
         4.846811447292566,
         4.93240861967206,
         5.001602325588465,
         4.926507879048586,
         4.890583638101816,
         4.872653920203447,
         4.871851224452257,
         4.866191286593676,
         4.881662588566542,
         4.884336058050394,
         4.865249399095774,
         4.85669082775712,
         4.833383549004793,
         4.9754493199288845,
         4.884492356330156,
         4.97785485163331,
         4.898497525602579,
         4.96881266310811,
         4.929204035550356,
         4.9610705859959126,
         4.907215174287558,
         4.883326504379511,
         4.910176549106836,
         4.826939512044191,
         4.861017797142267,
         4.8855444230139256,
         4.86254983022809,
         4.855274777859449,
         4.938871581107378,
         4.919075597077608,
         4.881487283855677,
         4.928254801779985,
         4.896434996277094,
         4.931986827403307,
         4.894116435199976,
         4.917108524590731,
         4.920310650020838,
         4.873866457492113,
         4.831495765596628,
         4.9212791211903095,
         4.927716340869665,
         4.833494979888201,
         4.8891590647399426,
         4.963212091475725,
         4.851428214460611,
         4.8828754760324955,
         4.964678701013327,
         4.873372923582792,
         4.891978923231363,
         4.974327761679888,
         4.901884537190199,
         4.8277277536690235,
         4.875026676803827
        ],
        [
         1.4258257454585028,
         1.42876054859385,
         1.4312083637442212,
         1.4237090308192726,
         1.4106320707617126,
         1.430734576783739,
         1.4146954084469185,
         1.414033274941763,
         1.4263477974659713,
         1.4267259164164563,
         1.4439463311992904,
         1.4279331856513473,
         1.4383159651906665,
         1.4183647427932131,
         1.4123562752971277,
         1.406632061273445,
         1.4315998766543179,
         1.4450435624250308,
         1.4162368655731494,
         1.4130321489629962,
         1.4033559445243737,
         1.4359490480137376,
         1.433323899368557,
         1.429208282409789,
         1.4390079930833037,
         1.424178139954419,
         1.4227533108285233,
         1.427463537964493,
         1.429057628626952,
         1.4310983317052954,
         1.4249130957699154,
         1.4171876178581666,
         1.4203955599955387,
         1.4249119234078582,
         1.42376424461241,
         1.4143543868250092,
         1.4481108691828284,
         1.4313726889755163,
         1.4333005231928582,
         1.433211310008729,
         1.4366983318372752,
         1.4368604815604362,
         1.430884902574215,
         1.4168667738597156,
         1.4100350752343669,
         1.4295938791971228,
         1.4228192766147483,
         1.4114954579501484,
         1.4306197851842517,
         1.4496321888531276,
         1.424410633396605,
         1.4162763868368684,
         1.4179063680391588,
         1.412832737496476,
         1.4093049672631617,
         1.4212544877000213,
         1.423003845803484,
         1.4141822506342738,
         1.4046582805760595,
         1.4098294130196598,
         1.445518060555062,
         1.4232157103940553,
         1.4324316769198084,
         1.4237308060302658,
         1.4369114782407162,
         1.4297636908744322,
         1.4370309406641268,
         1.4331873817233434,
         1.4176137912579425,
         1.4249506856556886,
         1.409744389296237,
         1.4059776144095115,
         1.4127029594087206,
         1.425638807460332,
         1.4141908243473034,
         1.4389282140202222,
         1.431707047646694,
         1.4301423422984532,
         1.4292340883201073,
         1.4210287290801769,
         1.4205324061739872,
         1.418616340340717,
         1.427839088356915,
         1.4248381668882744,
         1.4113065929519546,
         1.4120482029922539,
         1.432079512654073,
         1.4336805411982443,
         1.415997163008325,
         1.4291603179905796,
         1.438916653964229,
         1.403349950021274,
         1.4055713015804279,
         1.4328567072603666,
         1.4305330797552165,
         1.427068837551999,
         1.437022609816524,
         1.4251007452171207,
         1.408344471718146,
         1.4118143424116771
        ]
       ],
       "encoder": "json",
       "name": "ABC_GAN_1 Metrics",
       "version": 1
      }
     },
     "metadata": {
      "scrapbook": {
       "data": true,
       "display": false,
       "name": "ABC_GAN_1 Metrics"
      }
     },
     "output_type": "display_data"
    },
    {
     "name": "stdout",
     "output_type": "stream",
     "text": [
      "MSE\n",
      "0.10144078776529318\n"
     ]
    }
   ],
   "source": [
    "ABC_GAN1_metrics=ABC_train_test2.test_generator(gen,test_data,prior_model,variance,bias,\"1\",device)\n",
    "sb.glue(\"ABC_GAN_1 Metrics\",ABC_GAN1_metrics)\n",
    "\n",
    "print(\"MSE\")\n",
    "print(mean(ABC_GAN1_metrics[0]))"
   ]
  },
  {
   "cell_type": "code",
   "execution_count": 14,
   "id": "eb22ce5c",
   "metadata": {
    "execution": {
     "iopub.execute_input": "2022-06-07T06:50:07.985215Z",
     "iopub.status.busy": "2022-06-07T06:50:07.984843Z",
     "iopub.status.idle": "2022-06-07T06:50:08.270927Z",
     "shell.execute_reply": "2022-06-07T06:50:08.271223Z"
    },
    "papermill": {
     "duration": 0.300434,
     "end_time": "2022-06-07T06:50:08.271347",
     "exception": false,
     "start_time": "2022-06-07T06:50:07.970913",
     "status": "completed"
    },
    "tags": []
   },
   "outputs": [
    {
     "data": {
      "image/png": "[encoded data removed]",
      "text/plain": [
       "<Figure size 432x288 with 1 Axes>"
      ]
     },
     "metadata": {
      "needs_background": "light"
     },
     "output_type": "display_data"
    },
    {
     "data": {
      "image/png": "[encoded data removed]",
      "text/plain": [
       "<Figure size 432x288 with 1 Axes>"
      ]
     },
     "metadata": {
      "needs_background": "light"
     },
     "output_type": "display_data"
    },
    {
     "data": {
      "image/png": "[encoded data removed]",
      "text/plain": [
       "<Figure size 432x288 with 1 Axes>"
      ]
     },
     "metadata": {
      "needs_background": "light"
     },
     "output_type": "display_data"
    },
    {
     "data": {
      "image/png": "[encoded data removed]",
      "text/plain": [
       "<Figure size 432x288 with 1 Axes>"
      ]
     },
     "metadata": {
      "needs_background": "light"
     },
     "output_type": "display_data"
    }
   ],
   "source": [
    "sanityChecks.discProbVsError(train_data,disc,device)\n",
    "sanityChecks.discProbVsError(test_data,disc,device)"
   ]
  },
  {
   "cell_type": "markdown",
   "id": "130f3a4d",
   "metadata": {
    "id": "130f3a4d",
    "papermill": {
     "duration": 0.037884,
     "end_time": "2022-06-07T06:50:08.323837",
     "exception": false,
     "start_time": "2022-06-07T06:50:08.285953",
     "status": "completed"
    },
    "tags": []
   },
   "source": [
    "# ABC - GAN Model with skip connection"
   ]
  },
  {
   "cell_type": "code",
   "execution_count": 15,
   "id": "4e43dad1",
   "metadata": {
    "execution": {
     "iopub.execute_input": "2022-06-07T06:50:08.355893Z",
     "iopub.status.busy": "2022-06-07T06:50:08.355521Z",
     "iopub.status.idle": "2022-06-07T06:50:08.357889Z",
     "shell.execute_reply": "2022-06-07T06:50:08.358174Z"
    },
    "id": "4e43dad1",
    "papermill": {
     "duration": 0.020012,
     "end_time": "2022-06-07T06:50:08.358285",
     "exception": false,
     "start_time": "2022-06-07T06:50:08.338273",
     "status": "completed"
    },
    "tags": []
   },
   "outputs": [],
   "source": [
    "#Generator\n",
    "gen3 = network.GeneratorWithSkipConnection(n_features+1).to(device)\n",
    "constraints=network.weightConstraint()\n",
    "#Discriminator \n",
    "disc3 = network.Discriminator(n_features+1).to(device)\n",
    "\n",
    "criterion = torch.nn.BCELoss()\n",
    "gen_opt = torch.optim.Adam(gen3.parameters(), lr=0.001, betas=(0.5, 0.999))\n",
    "disc_opt = torch.optim.Adam(disc3.parameters(), lr=0.001, betas=(0.5, 0.999))\n"
   ]
  },
  {
   "cell_type": "code",
   "execution_count": 16,
   "id": "26acbc37",
   "metadata": {
    "execution": {
     "iopub.execute_input": "2022-06-07T06:50:08.389176Z",
     "iopub.status.busy": "2022-06-07T06:50:08.388827Z",
     "iopub.status.idle": "2022-06-07T06:50:44.268696Z",
     "shell.execute_reply": "2022-06-07T06:50:44.269010Z"
    },
    "id": "26acbc37",
    "papermill": {
     "duration": 35.896529,
     "end_time": "2022-06-07T06:50:44.269131",
     "exception": false,
     "start_time": "2022-06-07T06:50:08.372602",
     "status": "completed"
    },
    "tags": []
   },
   "outputs": [
    {
     "data": {
      "image/png": "[encoded data removed]",
      "text/plain": [
       "<Figure size 432x288 with 1 Axes>"
      ]
     },
     "metadata": {
      "needs_background": "light"
     },
     "output_type": "display_data"
    },
    {
     "data": {
      "image/png": "[encoded data removed]",
      "text/plain": [
       "<Figure size 432x288 with 1 Axes>"
      ]
     },
     "metadata": {
      "needs_background": "light"
     },
     "output_type": "display_data"
    }
   ],
   "source": [
    "ABC_train_test2.training_GAN_skip_connection(disc3,gen3,disc_opt,gen_opt,train_data,batch_size,n_epochs,criterion,prior_model,variance,bias,device)"
   ]
  },
  {
   "cell_type": "code",
   "execution_count": 17,
   "id": "c5e0717b",
   "metadata": {
    "execution": {
     "iopub.execute_input": "2022-06-07T06:50:44.302979Z",
     "iopub.status.busy": "2022-06-07T06:50:44.302408Z",
     "iopub.status.idle": "2022-06-07T06:50:44.577383Z",
     "shell.execute_reply": "2022-06-07T06:50:44.577628Z"
    },
    "id": "c5e0717b",
    "papermill": {
     "duration": 0.293219,
     "end_time": "2022-06-07T06:50:44.577750",
     "exception": false,
     "start_time": "2022-06-07T06:50:44.284531",
     "status": "completed"
    },
    "tags": []
   },
   "outputs": [
    {
     "data": {
      "application/scrapbook.scrap.json+json": {
       "data": 0.07682493708728198,
       "encoder": "json",
       "name": "ABC-GAN Model 3 MSE",
       "version": 1
      }
     },
     "metadata": {
      "scrapbook": {
       "data": true,
       "display": false,
       "name": "ABC-GAN Model 3 MSE"
      }
     },
     "output_type": "display_data"
    },
    {
     "data": {
      "application/scrapbook.scrap.json+json": {
       "data": 0.21321452351659537,
       "encoder": "json",
       "name": "ABC-GAN Model 3 MAE",
       "version": 1
      }
     },
     "metadata": {
      "scrapbook": {
       "data": true,
       "display": false,
       "name": "ABC-GAN Model 3 MAE"
      }
     },
     "output_type": "display_data"
    },
    {
     "data": {
      "application/scrapbook.scrap.json+json": {
       "data": 4.264290470331908,
       "encoder": "json",
       "name": "ABC-GAN Model 3 Manhattan Distance",
       "version": 1
      }
     },
     "metadata": {
      "scrapbook": {
       "data": true,
       "display": false,
       "name": "ABC-GAN Model 3 Manhattan Distance"
      }
     },
     "output_type": "display_data"
    },
    {
     "data": {
      "application/scrapbook.scrap.json+json": {
       "data": 1.239521361765927,
       "encoder": "json",
       "name": "ABC-GAN Model 3 Euclidean distance",
       "version": 1
      }
     },
     "metadata": {
      "scrapbook": {
       "data": true,
       "display": false,
       "name": "ABC-GAN Model 3 Euclidean distance"
      }
     },
     "output_type": "display_data"
    },
    {
     "data": {
      "application/scrapbook.scrap.json+json": {
       "data": [
        [
         0.0779998452647577,
         0.0786406665040502,
         0.07667723412782995,
         0.07712955353970669,
         0.07673821959770546,
         0.07516502265458908,
         0.07727124838233118,
         0.0793833647844888,
         0.07669276820991554,
         0.07514543778238433,
         0.07626157555006016,
         0.07636228039169993,
         0.07751248554341218,
         0.07629637933260239,
         0.07523532149855308,
         0.07805374098492993,
         0.07566678335438332,
         0.07704725256988411,
         0.07867200303111904,
         0.07635692793616294,
         0.07430730690393042,
         0.076758644494269,
         0.07717048958076517,
         0.07657678514287197,
         0.07570603964371123,
         0.07849835999417029,
         0.07703556756313684,
         0.07663218582085438,
         0.07984291836178305,
         0.07760520780364172,
         0.07733502292939219,
         0.07554964201103088,
         0.07586380207242543,
         0.07875207077665095,
         0.07628139657791998,
         0.07583451818565862,
         0.07531005605111712,
         0.07659818899567675,
         0.07692858311080865,
         0.07684582748204515,
         0.07659495413892153,
         0.07772921790575235,
         0.07639643728983478,
         0.07570144505610049,
         0.07768296176300157,
         0.07759966337976906,
         0.07532491610972705,
         0.07618951858939658,
         0.07529023170947167,
         0.0770762800203389,
         0.0749009915360492,
         0.0775632057827064,
         0.07526169224904557,
         0.0768342022745332,
         0.07676957420581693,
         0.0777092306473952,
         0.07654598536984122,
         0.07610987620357469,
         0.07682671737418154,
         0.07528160045231055,
         0.07701191917174763,
         0.07833551332600702,
         0.0778815177608305,
         0.07827680399796501,
         0.07681651504320487,
         0.07473292692521473,
         0.07686537799575767,
         0.07587503745857199,
         0.07606307569076062,
         0.0759510134318421,
         0.07672141773403827,
         0.076480537146535,
         0.0746197945795354,
         0.07571076366688657,
         0.07801733971361238,
         0.07890456330144471,
         0.07585392009031763,
         0.07907039778525958,
         0.07851038153260735,
         0.07816775025609245,
         0.0753500501979675,
         0.07681666521589961,
         0.07661105509535973,
         0.07698072478954979,
         0.078333485897059,
         0.07607698471957944,
         0.07608830524691654,
         0.07718282721857145,
         0.07910232539975345,
         0.07728058567224019,
         0.07569219746873496,
         0.07773482381182842,
         0.07648023726941798,
         0.07883208747090778,
         0.07572046031028677,
         0.07743010460375513,
         0.07638834833952148,
         0.0768898728894619,
         0.07754314683309113,
         0.07696342706987022
        ],
        [
         0.21523975003510715,
         0.21567225586622954,
         0.2141701417043805,
         0.21296189855784178,
         0.2136732531711459,
         0.2114348875358701,
         0.21398578714579344,
         0.21839131135493517,
         0.21408816147595644,
         0.20926165599375962,
         0.2129064904525876,
         0.2135490955784917,
         0.2138017313554883,
         0.21251095104962586,
         0.20927206445485352,
         0.21526474077254534,
         0.2101609779521823,
         0.2147153215482831,
         0.21387751568108798,
         0.2117367224767804,
         0.21084482837468385,
         0.21490420680493116,
         0.21698358487337827,
         0.21323092747479677,
         0.21090984176844357,
         0.21582564245909452,
         0.2112295063212514,
         0.21436522919684647,
         0.21342271100729704,
         0.21566051263362168,
         0.21387948524206876,
         0.21026024390012027,
         0.2126613723114133,
         0.21797700691968203,
         0.21281703878194094,
         0.21193532068282367,
         0.21284336168318987,
         0.21203456837683915,
         0.21406599897891282,
         0.21479979287832976,
         0.21359925735741853,
         0.21474708784371616,
         0.21232638824731112,
         0.20928424764424564,
         0.2132191015407443,
         0.2157254947349429,
         0.2111559199169278,
         0.21116186697036027,
         0.21207918394356967,
         0.21323489416390656,
         0.21164505500346423,
         0.2140906197950244,
         0.21356090474873782,
         0.21465843189507722,
         0.21399103123694657,
         0.2146805940195918,
         0.21183976996690035,
         0.2123020039871335,
         0.21329615283757447,
         0.2088999582454562,
         0.21462093759328127,
         0.21667195726186037,
         0.21458152700215577,
         0.21302870493382214,
         0.2136500732973218,
         0.21137278843671084,
         0.21553210001438855,
         0.21160804945975542,
         0.21411112863570453,
         0.21199374925345182,
         0.21161768902093173,
         0.21303185392171145,
         0.208730317465961,
         0.2110668199136853,
         0.21147417444735767,
         0.21676206011325122,
         0.2127285348251462,
         0.21584702599793673,
         0.21713651437312365,
         0.2139862732961774,
         0.21216366160660982,
         0.213413873501122,
         0.2119460703805089,
         0.21081178318709135,
         0.21334172654896974,
         0.21040004212409258,
         0.21084459852427245,
         0.2153740691021085,
         0.21701093744486571,
         0.21598915625363588,
         0.2131188852712512,
         0.2144765244796872,
         0.21254525650292636,
         0.21629319060593843,
         0.21092731971293688,
         0.21090203654021025,
         0.21453677546232938,
         0.21128575075417758,
         0.2123259799554944,
         0.21136857550591232
        ],
        [
         4.304795000702143,
         4.313445117324591,
         4.28340283408761,
         4.259237971156836,
         4.273465063422918,
         4.2286977507174015,
         4.279715742915869,
         4.367826227098703,
         4.281763229519129,
         4.185233119875193,
         4.258129809051752,
         4.270981911569834,
         4.276034627109766,
         4.2502190209925175,
         4.185441289097071,
         4.305294815450907,
         4.203219559043646,
         4.294306430965662,
         4.277550313621759,
         4.234734449535608,
         4.216896567493677,
         4.298084136098623,
         4.3396716974675655,
         4.264618549495935,
         4.218196835368872,
         4.3165128491818905,
         4.224590126425028,
         4.28730458393693,
         4.268454220145941,
         4.313210252672434,
         4.277589704841375,
         4.205204878002405,
         4.253227446228266,
         4.3595401383936405,
         4.256340775638819,
         4.238706413656473,
         4.256867233663797,
         4.240691367536783,
         4.281319979578257,
         4.295995857566595,
         4.271985147148371,
         4.294941756874323,
         4.246527764946222,
         4.1856849528849125,
         4.264382030814886,
         4.314509894698858,
         4.223118398338556,
         4.223237339407206,
         4.241583678871393,
         4.2646978832781315,
         4.232901100069284,
         4.281812395900488,
         4.271218094974756,
         4.293168637901545,
         4.279820624738932,
         4.293611880391836,
         4.236795399338007,
         4.24604007974267,
         4.26592305675149,
         4.177999164909124,
         4.292418751865625,
         4.333439145237207,
         4.291630540043116,
         4.260574098676443,
         4.273001465946436,
         4.227455768734217,
         4.310642000287771,
         4.232160989195108,
         4.28222257271409,
         4.2398749850690365,
         4.232353780418634,
         4.260637078434229,
         4.17460634931922,
         4.221336398273706,
         4.229483488947153,
         4.335241202265024,
         4.254570696502924,
         4.3169405199587345,
         4.342730287462473,
         4.279725465923548,
         4.243273232132196,
         4.26827747002244,
         4.238921407610178,
         4.216235663741827,
         4.266834530979395,
         4.208000842481852,
         4.216891970485449,
         4.30748138204217,
         4.340218748897314,
         4.319783125072718,
         4.262377705425024,
         4.289530489593744,
         4.250905130058527,
         4.325863812118769,
         4.218546394258738,
         4.218040730804205,
         4.290735509246588,
         4.225715015083551,
         4.246519599109888,
         4.227371510118246
        ],
        [
         1.2489983608056314,
         1.254118547060446,
         1.2383637117408597,
         1.2420108980174585,
         1.238856082018452,
         1.2260915353642163,
         1.2431512247697878,
         1.2600267043558149,
         1.2384891457733131,
         1.2259317907810723,
         1.2350026360300626,
         1.2358177890910935,
         1.245090242058078,
         1.2352844152874463,
         1.226664758591793,
         1.2494297978272324,
         1.2301770876941525,
         1.2413480782591488,
         1.2543683911125874,
         1.235774477290763,
         1.219075936141227,
         1.2390209400512084,
         1.2423404491584837,
         1.2375523030795261,
         1.230496157196041,
         1.2529833198743732,
         1.2412539431005796,
         1.237999885467316,
         1.2636686144854832,
         1.2458347226148556,
         1.243664126115988,
         1.2292244873173563,
         1.23177759414941,
         1.255006540035955,
         1.2351631194131403,
         1.2315398343996724,
         1.2272738573856865,
         1.2377252441125757,
         1.2403917374024114,
         1.2397243845471875,
         1.2376991083370912,
         1.2468297229834742,
         1.2360941492445854,
         1.2304588173206001,
         1.2464586777186122,
         1.2457902181328047,
         1.2273949332609049,
         1.2344190422169985,
         1.2271123152301233,
         1.241581894361696,
         1.2239362036973103,
         1.2454975373938433,
         1.2268797190356158,
         1.2396306084841016,
         1.239109149395782,
         1.2466694080420455,
         1.2373034015134785,
         1.2337736924053349,
         1.2395702269269098,
         1.2270419752584714,
         1.2410634083055356,
         1.2516829736479362,
         1.2480506220568979,
         1.2512138426181594,
         1.2394879188052208,
         1.2225622841001986,
         1.239882075003568,
         1.2318688035547616,
         1.2333943058954069,
         1.2324854030116714,
         1.238720450578243,
         1.2367743298317198,
         1.221636562808558,
         1.2305345478034053,
         1.2491384207813991,
         1.2562210259460294,
         1.2316973661603539,
         1.257540438993988,
         1.2530792595251694,
         1.2503419552753754,
         1.2275996920655161,
         1.2394891303750881,
         1.2378291893097346,
         1.2408120308052286,
         1.2516667759196856,
         1.233507071074823,
         1.2335988427922306,
         1.2424397548257335,
         1.2577943027359717,
         1.2432263323485406,
         1.2303836594228237,
         1.2468746834532203,
         1.2367719051580852,
         1.255643958062219,
         1.2306133455337365,
         1.2444284198277948,
         1.236028707915164,
         1.2400796175202777,
         1.245336475279602,
         1.2406726165259732
        ]
       ],
       "encoder": "json",
       "name": "ABC_GAN_3 Metrics",
       "version": 1
      }
     },
     "metadata": {
      "scrapbook": {
       "data": true,
       "display": false,
       "name": "ABC_GAN_3 Metrics"
      }
     },
     "output_type": "display_data"
    },
    {
     "name": "stdout",
     "output_type": "stream",
     "text": [
      "MSE\n",
      "0.07682493708728198\n"
     ]
    }
   ],
   "source": [
    "ABC_GAN3_metrics=ABC_train_test2.test_generator(gen3,test_data,prior_model,variance,bias,\"3\",device)\n",
    "sb.glue(\"ABC_GAN_3 Metrics\",ABC_GAN3_metrics)\n",
    "\n",
    "print(\"MSE\")\n",
    "print(mean(ABC_GAN3_metrics[0]))"
   ]
  },
  {
   "cell_type": "code",
   "execution_count": 18,
   "id": "c8e46b48",
   "metadata": {
    "execution": {
     "iopub.execute_input": "2022-06-07T06:50:44.613817Z",
     "iopub.status.busy": "2022-06-07T06:50:44.613450Z",
     "iopub.status.idle": "2022-06-07T06:50:44.906328Z",
     "shell.execute_reply": "2022-06-07T06:50:44.906664Z"
    },
    "id": "c8e46b48",
    "papermill": {
     "duration": 0.31216,
     "end_time": "2022-06-07T06:50:44.906790",
     "exception": false,
     "start_time": "2022-06-07T06:50:44.594630",
     "status": "completed"
    },
    "tags": []
   },
   "outputs": [
    {
     "data": {
      "image/png": "[encoded data removed]",
      "text/plain": [
       "<Figure size 432x288 with 1 Axes>"
      ]
     },
     "metadata": {
      "needs_background": "light"
     },
     "output_type": "display_data"
    },
    {
     "data": {
      "image/png": "[encoded data removed]",
      "text/plain": [
       "<Figure size 432x288 with 1 Axes>"
      ]
     },
     "metadata": {
      "needs_background": "light"
     },
     "output_type": "display_data"
    },
    {
     "data": {
      "image/png": "[encoded data removed]",
      "text/plain": [
       "<Figure size 432x288 with 1 Axes>"
      ]
     },
     "metadata": {
      "needs_background": "light"
     },
     "output_type": "display_data"
    },
    {
     "data": {
      "image/png": "[encoded data removed]",
      "text/plain": [
       "<Figure size 432x288 with 1 Axes>"
      ]
     },
     "metadata": {
      "needs_background": "light"
     },
     "output_type": "display_data"
    }
   ],
   "source": [
    "sanityChecks.discProbVsError(train_data,disc3,device)\n",
    "sanityChecks.discProbVsError(test_data,disc3,device)"
   ]
  },
  {
   "cell_type": "markdown",
   "id": "a5bd74c3",
   "metadata": {
    "id": "a5bd74c3",
    "papermill": {
     "duration": 0.019081,
     "end_time": "2022-06-07T06:50:44.945123",
     "exception": false,
     "start_time": "2022-06-07T06:50:44.926042",
     "status": "completed"
    },
    "tags": []
   },
   "source": [
    "## Skip Connection Model Analysis - ABC-GAN "
   ]
  },
  {
   "cell_type": "markdown",
   "id": "5744a8bf",
   "metadata": {
    "id": "5744a8bf",
    "papermill": {
     "duration": 0.018707,
     "end_time": "2022-06-07T06:50:44.982637",
     "exception": false,
     "start_time": "2022-06-07T06:50:44.963930",
     "status": "completed"
    },
    "tags": []
   },
   "source": [
    "### Weight Analysis \n",
    "\n",
    "Study the weights of the skip connection layer\n",
    "\n",
    "Equation of the skip connection is \n",
    "\n",
    "$output = y_{gan} * w + y_{abc} * (1-w)$"
   ]
  },
  {
   "cell_type": "code",
   "execution_count": 19,
   "id": "52c31dea",
   "metadata": {
    "execution": {
     "iopub.execute_input": "2022-06-07T06:50:45.022974Z",
     "iopub.status.busy": "2022-06-07T06:50:45.022585Z",
     "iopub.status.idle": "2022-06-07T06:50:45.026087Z",
     "shell.execute_reply": "2022-06-07T06:50:45.026338Z"
    },
    "id": "52c31dea",
    "papermill": {
     "duration": 0.025101,
     "end_time": "2022-06-07T06:50:45.026451",
     "exception": false,
     "start_time": "2022-06-07T06:50:45.001350",
     "status": "completed"
    },
    "tags": []
   },
   "outputs": [
    {
     "name": "stdout",
     "output_type": "stream",
     "text": [
      "Weight of the node at skip connection\n",
      "Parameter containing:\n",
      "tensor([[0.0672]], requires_grad=True)\n"
     ]
    },
    {
     "data": {
      "application/scrapbook.scrap.json+json": {
       "data": 0.06718284636735916,
       "encoder": "json",
       "name": "Skip Connection Weight",
       "version": 1
      }
     },
     "metadata": {
      "scrapbook": {
       "data": true,
       "display": false,
       "name": "Skip Connection Weight"
      }
     },
     "output_type": "display_data"
    }
   ],
   "source": [
    "print(\"Weight of the node at skip connection\")\n",
    "for name,param in gen3.named_parameters():\n",
    "    if(name == \"skipNode.weight\"):\n",
    "        print(param)\n",
    "        sb.glue(\"Skip Connection Weight\",param.item())"
   ]
  }
 ],
 "metadata": {
  "colab": {
   "collapsed_sections": [],
   "name": "ABC_GAN_Model-Catboost_Pre-gen.ipynb",
   "provenance": []
  },
  "interpreter": {
   "hash": "31f2aee4e71d21fbe5cf8b01ff0e069b9275f58929596ceb00d14d90e3e16cd6"
  },
  "kernelspec": {
   "display_name": "Python 3 (ipykernel)",
   "language": "python",
   "name": "python3"
  },
  "language_info": {
   "codemirror_mode": {
    "name": "ipython",
    "version": 3
   },
   "file_extension": ".py",
   "mimetype": "text/x-python",
   "name": "python",
   "nbconvert_exporter": "python",
   "pygments_lexer": "ipython3",
   "version": "3.8.11"
  },
  "papermill": {
   "default_parameters": {},
   "duration": 54.884786,
   "end_time": "2022-06-07T06:50:45.356414",
   "environment_variables": {},
   "exception": null,
   "input_path": "ABC_GAN-Catboost.ipynb",
   "output_path": "./ABC_GAN_Catboost/ABC-GAN_output_7_2.ipynb",
   "parameters": {
    "bias": 1,
    "variance": 0.01
   },
   "start_time": "2022-06-07T06:49:50.471628",
   "version": "2.3.3"
  }
 },
 "nbformat": 4,
 "nbformat_minor": 5
}