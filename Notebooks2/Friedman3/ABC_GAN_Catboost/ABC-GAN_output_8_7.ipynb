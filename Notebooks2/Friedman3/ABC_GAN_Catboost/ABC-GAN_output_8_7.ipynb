{
 "cells": [
  {
   "cell_type": "markdown",
   "id": "622780e6",
   "metadata": {
    "id": "622780e6",
    "papermill": {
     "duration": 0.029175,
     "end_time": "2022-06-07T07:03:20.762930",
     "exception": false,
     "start_time": "2022-06-07T07:03:20.733755",
     "status": "completed"
    },
    "tags": []
   },
   "source": [
    "## Import Libraries "
   ]
  },
  {
   "cell_type": "code",
   "execution_count": 1,
   "id": "a62397e3",
   "metadata": {
    "execution": {
     "iopub.execute_input": "2022-06-07T07:03:20.791407Z",
     "iopub.status.busy": "2022-06-07T07:03:20.790824Z",
     "iopub.status.idle": "2022-06-07T07:03:20.793152Z",
     "shell.execute_reply": "2022-06-07T07:03:20.793689Z"
    },
    "id": "a62397e3",
    "papermill": {
     "duration": 0.020329,
     "end_time": "2022-06-07T07:03:20.793969",
     "exception": false,
     "start_time": "2022-06-07T07:03:20.773640",
     "status": "completed"
    },
    "tags": []
   },
   "outputs": [],
   "source": [
    "import warnings\n",
    "import sys\n",
    "sys.path.insert(0, '../../src')\n",
    "warnings.filterwarnings('ignore')"
   ]
  },
  {
   "cell_type": "code",
   "execution_count": 2,
   "id": "d6a4e155",
   "metadata": {
    "execution": {
     "iopub.execute_input": "2022-06-07T07:03:20.818363Z",
     "iopub.status.busy": "2022-06-07T07:03:20.817882Z",
     "iopub.status.idle": "2022-06-07T07:03:22.728400Z",
     "shell.execute_reply": "2022-06-07T07:03:22.728673Z"
    },
    "id": "d6a4e155",
    "papermill": {
     "duration": 1.924526,
     "end_time": "2022-06-07T07:03:22.728801",
     "exception": false,
     "start_time": "2022-06-07T07:03:20.804275",
     "status": "completed"
    },
    "tags": []
   },
   "outputs": [],
   "source": [
    "import ABC_train_test2\n",
    "import friedman1Dataset\n",
    "import network\n",
    "import dataset\n",
    "import sanityChecks\n",
    "import torch \n",
    "import scrapbook as sb\n",
    "from statistics import mean \n",
    "import catboost as ctb \n",
    "from sklearn.model_selection import train_test_split\n",
    "from sklearn.metrics import mean_squared_error,mean_absolute_error\n",
    "import numpy as np"
   ]
  },
  {
   "cell_type": "markdown",
   "id": "2fa5b0f7",
   "metadata": {
    "id": "2fa5b0f7",
    "papermill": {
     "duration": 0.006917,
     "end_time": "2022-06-07T07:03:22.743216",
     "exception": false,
     "start_time": "2022-06-07T07:03:22.736299",
     "status": "completed"
    },
    "tags": []
   },
   "source": [
    "## Parameters "
   ]
  },
  {
   "cell_type": "code",
   "execution_count": 3,
   "id": "783186fb",
   "metadata": {
    "execution": {
     "iopub.execute_input": "2022-06-07T07:03:22.760595Z",
     "iopub.status.busy": "2022-06-07T07:03:22.760101Z",
     "iopub.status.idle": "2022-06-07T07:03:22.761642Z",
     "shell.execute_reply": "2022-06-07T07:03:22.761911Z"
    },
    "id": "783186fb",
    "papermill": {
     "duration": 0.011004,
     "end_time": "2022-06-07T07:03:22.762039",
     "exception": false,
     "start_time": "2022-06-07T07:03:22.751035",
     "status": "completed"
    },
    "tags": [
     "parameters"
    ]
   },
   "outputs": [],
   "source": [
    "variance = 1\n",
    "bias = 1 "
   ]
  },
  {
   "cell_type": "code",
   "execution_count": 4,
   "id": "05c4620f",
   "metadata": {
    "execution": {
     "iopub.execute_input": "2022-06-07T07:03:22.779347Z",
     "iopub.status.busy": "2022-06-07T07:03:22.778883Z",
     "iopub.status.idle": "2022-06-07T07:03:22.779909Z",
     "shell.execute_reply": "2022-06-07T07:03:22.780165Z"
    },
    "papermill": {
     "duration": 0.010801,
     "end_time": "2022-06-07T07:03:22.780302",
     "exception": false,
     "start_time": "2022-06-07T07:03:22.769501",
     "status": "completed"
    },
    "tags": [
     "injected-parameters"
    ]
   },
   "outputs": [],
   "source": [
    "# Parameters\n",
    "variance = 0.1\n",
    "bias = 0.01\n"
   ]
  },
  {
   "cell_type": "markdown",
   "id": "391cdbfd",
   "metadata": {
    "id": "391cdbfd",
    "papermill": {
     "duration": 0.007148,
     "end_time": "2022-06-07T07:03:22.794713",
     "exception": false,
     "start_time": "2022-06-07T07:03:22.787565",
     "status": "completed"
    },
    "tags": []
   },
   "source": [
    "## Dataset \n"
   ]
  },
  {
   "cell_type": "code",
   "execution_count": 5,
   "id": "5b51f161",
   "metadata": {
    "execution": {
     "iopub.execute_input": "2022-06-07T07:03:22.812178Z",
     "iopub.status.busy": "2022-06-07T07:03:22.811738Z",
     "iopub.status.idle": "2022-06-07T07:03:22.813050Z",
     "shell.execute_reply": "2022-06-07T07:03:22.813315Z"
    },
    "id": "5b51f161",
    "papermill": {
     "duration": 0.011365,
     "end_time": "2022-06-07T07:03:22.813445",
     "exception": false,
     "start_time": "2022-06-07T07:03:22.802080",
     "status": "completed"
    },
    "tags": []
   },
   "outputs": [],
   "source": [
    "#Parameters \n",
    "n_features = 5\n",
    "n_samples= 100\n",
    "n_target = 1 "
   ]
  },
  {
   "cell_type": "code",
   "execution_count": 6,
   "id": "5d6eced4",
   "metadata": {
    "execution": {
     "iopub.execute_input": "2022-06-07T07:03:22.832955Z",
     "iopub.status.busy": "2022-06-07T07:03:22.832471Z",
     "iopub.status.idle": "2022-06-07T07:03:22.837544Z",
     "shell.execute_reply": "2022-06-07T07:03:22.837795Z"
    },
    "id": "5d6eced4",
    "papermill": {
     "duration": 0.017015,
     "end_time": "2022-06-07T07:03:22.837914",
     "exception": false,
     "start_time": "2022-06-07T07:03:22.820899",
     "status": "completed"
    },
    "tags": []
   },
   "outputs": [
    {
     "name": "stdout",
     "output_type": "stream",
     "text": [
      "         X0        X1        X2        X3        X4         Y\n",
      "0  0.380240  1.444294 -0.352592  1.278575 -0.618545  1.429939\n",
      "1  0.099127 -0.144190  0.853941  1.558314  0.933798  1.584533\n",
      "2 -0.611466 -1.315957 -0.184805  0.073915 -0.933689 -1.492558\n",
      "3  1.252047  0.094788  1.422225 -0.011597 -1.133359  1.033795\n",
      "4  1.102230  1.418755 -1.587564 -1.339896  0.675577  0.494418\n"
     ]
    }
   ],
   "source": [
    "X,Y = friedman1Dataset.friedman1_data(n_samples,n_features)"
   ]
  },
  {
   "cell_type": "code",
   "execution_count": 7,
   "id": "fe007438",
   "metadata": {
    "execution": {
     "iopub.execute_input": "2022-06-07T07:03:22.856471Z",
     "iopub.status.busy": "2022-06-07T07:03:22.856097Z",
     "iopub.status.idle": "2022-06-07T07:03:22.857407Z",
     "shell.execute_reply": "2022-06-07T07:03:22.857641Z"
    },
    "id": "fe007438",
    "papermill": {
     "duration": 0.012036,
     "end_time": "2022-06-07T07:03:22.857752",
     "exception": false,
     "start_time": "2022-06-07T07:03:22.845716",
     "status": "completed"
    },
    "tags": []
   },
   "outputs": [],
   "source": [
    "#Train test split for dataset \n",
    "X_train,X_test,Y_train,Y_test = train_test_split(X,Y,test_size = 0.2)\n",
    "train_data = dataset.CustomDataset(X_train,Y_train)\n",
    "test_data = dataset.CustomDataset(X_test,Y_test)\n"
   ]
  },
  {
   "cell_type": "markdown",
   "id": "a9a1af34",
   "metadata": {
    "id": "a9a1af34",
    "papermill": {
     "duration": 0.007246,
     "end_time": "2022-06-07T07:03:22.872783",
     "exception": false,
     "start_time": "2022-06-07T07:03:22.865537",
     "status": "completed"
    },
    "tags": []
   },
   "source": [
    "## Training Parameters "
   ]
  },
  {
   "cell_type": "code",
   "execution_count": 8,
   "id": "952b7fc8",
   "metadata": {
    "execution": {
     "iopub.execute_input": "2022-06-07T07:03:22.890901Z",
     "iopub.status.busy": "2022-06-07T07:03:22.890475Z",
     "iopub.status.idle": "2022-06-07T07:03:22.891649Z",
     "shell.execute_reply": "2022-06-07T07:03:22.891885Z"
    },
    "id": "952b7fc8",
    "papermill": {
     "duration": 0.011491,
     "end_time": "2022-06-07T07:03:22.891996",
     "exception": false,
     "start_time": "2022-06-07T07:03:22.880505",
     "status": "completed"
    },
    "tags": []
   },
   "outputs": [],
   "source": [
    "batch_size = 32\n",
    "n_epochs = 1000\n",
    "#Select the device \n",
    "device = torch.device('cuda' if torch.cuda.is_available() else 'cpu')"
   ]
  },
  {
   "cell_type": "markdown",
   "id": "a95e1600",
   "metadata": {
    "id": "a95e1600",
    "papermill": {
     "duration": 0.007207,
     "end_time": "2022-06-07T07:03:22.907016",
     "exception": false,
     "start_time": "2022-06-07T07:03:22.899809",
     "status": "completed"
    },
    "tags": []
   },
   "source": [
    "# ABC Pre-generator Model \n",
    "\n",
    "1. The catboost model is used as a pre-generator model for the ABC-GAN. \n",
    "2. The model is first trained on the entire dataset \n",
    "3. It generats X,Y pairs and we add some Gaussian noise with mean 0 and variance 1 to it which is then feed as input to the generator.\n"
   ]
  },
  {
   "cell_type": "code",
   "execution_count": 9,
   "id": "ff8ce7bd",
   "metadata": {
    "execution": {
     "iopub.execute_input": "2022-06-07T07:03:22.926296Z",
     "iopub.status.busy": "2022-06-07T07:03:22.925893Z",
     "iopub.status.idle": "2022-06-07T07:03:23.705939Z",
     "shell.execute_reply": "2022-06-07T07:03:23.706252Z"
    },
    "id": "ff8ce7bd",
    "papermill": {
     "duration": 0.791739,
     "end_time": "2022-06-07T07:03:23.706377",
     "exception": false,
     "start_time": "2022-06-07T07:03:22.914638",
     "status": "completed"
    },
    "tags": []
   },
   "outputs": [
    {
     "name": "stdout",
     "output_type": "stream",
     "text": [
      "Learning rate set to 0.024897\n",
      "0:\tlearn: 0.9978927\ttotal: 57ms\tremaining: 57s\n",
      "1:\tlearn: 0.9881065\ttotal: 57.7ms\tremaining: 28.8s\n",
      "2:\tlearn: 0.9785861\ttotal: 58.3ms\tremaining: 19.4s\n",
      "3:\tlearn: 0.9701948\ttotal: 58.8ms\tremaining: 14.6s\n",
      "4:\tlearn: 0.9610302\ttotal: 59.3ms\tremaining: 11.8s\n",
      "5:\tlearn: 0.9516231\ttotal: 60.6ms\tremaining: 10s\n",
      "6:\tlearn: 0.9423811\ttotal: 61.1ms\tremaining: 8.67s\n",
      "7:\tlearn: 0.9329205\ttotal: 61.7ms\tremaining: 7.65s\n",
      "8:\tlearn: 0.9253541\ttotal: 62.4ms\tremaining: 6.87s\n",
      "9:\tlearn: 0.9155074\ttotal: 62.9ms\tremaining: 6.23s\n",
      "10:\tlearn: 0.9061829\ttotal: 63.4ms\tremaining: 5.7s\n",
      "11:\tlearn: 0.8974066\ttotal: 63.9ms\tremaining: 5.26s\n",
      "12:\tlearn: 0.8877260\ttotal: 64.5ms\tremaining: 4.89s\n",
      "13:\tlearn: 0.8787208\ttotal: 65.3ms\tremaining: 4.6s\n",
      "14:\tlearn: 0.8708662\ttotal: 66.1ms\tremaining: 4.34s\n",
      "15:\tlearn: 0.8631258\ttotal: 66.6ms\tremaining: 4.09s\n",
      "16:\tlearn: 0.8574430\ttotal: 67.1ms\tremaining: 3.88s\n",
      "17:\tlearn: 0.8503216\ttotal: 67.7ms\tremaining: 3.69s\n",
      "18:\tlearn: 0.8436385\ttotal: 68.1ms\tremaining: 3.52s\n",
      "19:\tlearn: 0.8362659\ttotal: 68.9ms\tremaining: 3.38s\n",
      "20:\tlearn: 0.8288587\ttotal: 69.4ms\tremaining: 3.24s\n",
      "21:\tlearn: 0.8193680\ttotal: 69.9ms\tremaining: 3.1s\n",
      "22:\tlearn: 0.8123601\ttotal: 70.3ms\tremaining: 2.99s\n",
      "23:\tlearn: 0.8051328\ttotal: 70.8ms\tremaining: 2.88s\n",
      "24:\tlearn: 0.7966768\ttotal: 71.2ms\tremaining: 2.78s\n",
      "25:\tlearn: 0.7892281\ttotal: 71.7ms\tremaining: 2.69s\n",
      "26:\tlearn: 0.7829112\ttotal: 72.2ms\tremaining: 2.6s\n",
      "27:\tlearn: 0.7755403\ttotal: 72.6ms\tremaining: 2.52s\n",
      "28:\tlearn: 0.7680747\ttotal: 73ms\tremaining: 2.44s\n",
      "29:\tlearn: 0.7622530\ttotal: 73.5ms\tremaining: 2.38s\n",
      "30:\tlearn: 0.7542223\ttotal: 74ms\tremaining: 2.31s\n",
      "31:\tlearn: 0.7480822\ttotal: 74.7ms\tremaining: 2.26s\n",
      "32:\tlearn: 0.7418912\ttotal: 75.3ms\tremaining: 2.21s\n",
      "33:\tlearn: 0.7350494\ttotal: 75.8ms\tremaining: 2.15s\n",
      "34:\tlearn: 0.7297908\ttotal: 76.3ms\tremaining: 2.1s\n",
      "35:\tlearn: 0.7243562\ttotal: 76.8ms\tremaining: 2.06s\n",
      "36:\tlearn: 0.7187500\ttotal: 77.4ms\tremaining: 2.01s\n",
      "37:\tlearn: 0.7132356\ttotal: 77.9ms\tremaining: 1.97s\n",
      "38:\tlearn: 0.7065774\ttotal: 78.4ms\tremaining: 1.93s\n",
      "39:\tlearn: 0.7000006\ttotal: 79ms\tremaining: 1.9s\n",
      "40:\tlearn: 0.6939424\ttotal: 79.3ms\tremaining: 1.85s\n",
      "41:\tlearn: 0.6881625\ttotal: 80ms\tremaining: 1.82s\n",
      "42:\tlearn: 0.6819133\ttotal: 80.5ms\tremaining: 1.79s\n",
      "43:\tlearn: 0.6765373\ttotal: 81.3ms\tremaining: 1.76s\n",
      "44:\tlearn: 0.6700484\ttotal: 82ms\tremaining: 1.74s\n",
      "45:\tlearn: 0.6651623\ttotal: 82.5ms\tremaining: 1.71s\n",
      "46:\tlearn: 0.6601193\ttotal: 83.1ms\tremaining: 1.69s\n",
      "47:\tlearn: 0.6545643\ttotal: 83.9ms\tremaining: 1.66s\n",
      "48:\tlearn: 0.6491058\ttotal: 84.3ms\tremaining: 1.64s\n",
      "49:\tlearn: 0.6421122\ttotal: 84.7ms\tremaining: 1.61s\n",
      "50:\tlearn: 0.6358865\ttotal: 85.1ms\tremaining: 1.58s\n",
      "51:\tlearn: 0.6307414\ttotal: 85.5ms\tremaining: 1.56s\n",
      "52:\tlearn: 0.6260635\ttotal: 86.1ms\tremaining: 1.54s\n",
      "53:\tlearn: 0.6208434\ttotal: 86.6ms\tremaining: 1.52s\n",
      "54:\tlearn: 0.6157421\ttotal: 87ms\tremaining: 1.49s\n",
      "55:\tlearn: 0.6104532\ttotal: 87.5ms\tremaining: 1.47s\n",
      "56:\tlearn: 0.6053884\ttotal: 87.9ms\tremaining: 1.45s\n",
      "57:\tlearn: 0.6009952\ttotal: 88.3ms\tremaining: 1.43s\n",
      "58:\tlearn: 0.5967097\ttotal: 88.9ms\tremaining: 1.42s\n",
      "59:\tlearn: 0.5923343\ttotal: 89.5ms\tremaining: 1.4s\n",
      "60:\tlearn: 0.5871381\ttotal: 90.1ms\tremaining: 1.39s\n",
      "61:\tlearn: 0.5818847\ttotal: 90.5ms\tremaining: 1.37s\n",
      "62:\tlearn: 0.5769582\ttotal: 91.1ms\tremaining: 1.35s\n",
      "63:\tlearn: 0.5725707\ttotal: 91.5ms\tremaining: 1.34s\n",
      "64:\tlearn: 0.5674036\ttotal: 92ms\tremaining: 1.32s\n",
      "65:\tlearn: 0.5629419\ttotal: 92.5ms\tremaining: 1.31s\n",
      "66:\tlearn: 0.5581167\ttotal: 92.9ms\tremaining: 1.29s\n",
      "67:\tlearn: 0.5534843\ttotal: 93.3ms\tremaining: 1.28s\n",
      "68:\tlearn: 0.5491246\ttotal: 93.8ms\tremaining: 1.26s\n",
      "69:\tlearn: 0.5441486\ttotal: 94.3ms\tremaining: 1.25s\n",
      "70:\tlearn: 0.5389280\ttotal: 94.8ms\tremaining: 1.24s\n",
      "71:\tlearn: 0.5348452\ttotal: 95.4ms\tremaining: 1.23s\n",
      "72:\tlearn: 0.5299295\ttotal: 96ms\tremaining: 1.22s\n",
      "73:\tlearn: 0.5260641\ttotal: 96.6ms\tremaining: 1.21s\n",
      "74:\tlearn: 0.5217273\ttotal: 97.1ms\tremaining: 1.2s\n",
      "75:\tlearn: 0.5175337\ttotal: 97.6ms\tremaining: 1.19s\n",
      "76:\tlearn: 0.5138361\ttotal: 98.2ms\tremaining: 1.18s\n",
      "77:\tlearn: 0.5094564\ttotal: 98.7ms\tremaining: 1.17s\n",
      "78:\tlearn: 0.5066723\ttotal: 99.3ms\tremaining: 1.16s\n",
      "79:\tlearn: 0.5035914\ttotal: 99.7ms\tremaining: 1.15s\n",
      "80:\tlearn: 0.4996282\ttotal: 100ms\tremaining: 1.14s\n",
      "81:\tlearn: 0.4955738\ttotal: 101ms\tremaining: 1.13s\n",
      "82:\tlearn: 0.4915895\ttotal: 101ms\tremaining: 1.11s\n",
      "83:\tlearn: 0.4873740\ttotal: 101ms\tremaining: 1.11s\n",
      "84:\tlearn: 0.4837810\ttotal: 102ms\tremaining: 1.1s\n"
     ]
    },
    {
     "name": "stdout",
     "output_type": "stream",
     "text": [
      "85:\tlearn: 0.4808934\ttotal: 102ms\tremaining: 1.09s\n",
      "86:\tlearn: 0.4768498\ttotal: 103ms\tremaining: 1.08s\n",
      "87:\tlearn: 0.4727835\ttotal: 104ms\tremaining: 1.07s\n",
      "88:\tlearn: 0.4695290\ttotal: 104ms\tremaining: 1.06s\n",
      "89:\tlearn: 0.4660632\ttotal: 104ms\tremaining: 1.06s\n",
      "90:\tlearn: 0.4622147\ttotal: 105ms\tremaining: 1.05s\n",
      "91:\tlearn: 0.4587538\ttotal: 105ms\tremaining: 1.04s\n",
      "92:\tlearn: 0.4550826\ttotal: 106ms\tremaining: 1.03s\n",
      "93:\tlearn: 0.4508745\ttotal: 106ms\tremaining: 1.02s\n",
      "94:\tlearn: 0.4468287\ttotal: 107ms\tremaining: 1.01s\n",
      "95:\tlearn: 0.4431851\ttotal: 107ms\tremaining: 1.01s\n",
      "96:\tlearn: 0.4400557\ttotal: 108ms\tremaining: 1s\n",
      "97:\tlearn: 0.4368276\ttotal: 108ms\tremaining: 996ms\n",
      "98:\tlearn: 0.4334207\ttotal: 109ms\tremaining: 990ms\n",
      "99:\tlearn: 0.4301867\ttotal: 109ms\tremaining: 985ms\n",
      "100:\tlearn: 0.4264686\ttotal: 110ms\tremaining: 979ms\n",
      "101:\tlearn: 0.4231015\ttotal: 111ms\tremaining: 973ms\n",
      "102:\tlearn: 0.4207833\ttotal: 111ms\tremaining: 967ms\n",
      "103:\tlearn: 0.4178727\ttotal: 112ms\tremaining: 961ms\n",
      "104:\tlearn: 0.4147281\ttotal: 112ms\tremaining: 955ms\n",
      "105:\tlearn: 0.4113476\ttotal: 112ms\tremaining: 948ms\n",
      "106:\tlearn: 0.4088627\ttotal: 113ms\tremaining: 944ms\n",
      "107:\tlearn: 0.4063801\ttotal: 114ms\tremaining: 938ms\n",
      "108:\tlearn: 0.4032654\ttotal: 114ms\tremaining: 933ms\n",
      "109:\tlearn: 0.3998204\ttotal: 115ms\tremaining: 927ms\n",
      "110:\tlearn: 0.3972518\ttotal: 115ms\tremaining: 921ms\n",
      "111:\tlearn: 0.3945427\ttotal: 115ms\tremaining: 916ms\n",
      "112:\tlearn: 0.3920123\ttotal: 116ms\tremaining: 909ms\n",
      "113:\tlearn: 0.3893290\ttotal: 116ms\tremaining: 904ms\n",
      "114:\tlearn: 0.3862128\ttotal: 117ms\tremaining: 898ms\n",
      "115:\tlearn: 0.3830160\ttotal: 117ms\tremaining: 892ms\n",
      "116:\tlearn: 0.3800026\ttotal: 118ms\tremaining: 888ms\n",
      "117:\tlearn: 0.3773397\ttotal: 118ms\tremaining: 882ms\n",
      "118:\tlearn: 0.3748034\ttotal: 118ms\tremaining: 877ms\n",
      "119:\tlearn: 0.3726486\ttotal: 119ms\tremaining: 872ms\n",
      "120:\tlearn: 0.3702855\ttotal: 119ms\tremaining: 867ms\n",
      "121:\tlearn: 0.3678585\ttotal: 120ms\tremaining: 863ms\n",
      "122:\tlearn: 0.3654513\ttotal: 120ms\tremaining: 857ms\n",
      "123:\tlearn: 0.3630479\ttotal: 121ms\tremaining: 852ms\n",
      "124:\tlearn: 0.3600816\ttotal: 121ms\tremaining: 848ms\n",
      "125:\tlearn: 0.3576997\ttotal: 122ms\tremaining: 843ms\n",
      "126:\tlearn: 0.3549295\ttotal: 122ms\tremaining: 838ms\n",
      "127:\tlearn: 0.3521525\ttotal: 123ms\tremaining: 835ms\n",
      "128:\tlearn: 0.3497795\ttotal: 123ms\tremaining: 831ms\n",
      "129:\tlearn: 0.3471807\ttotal: 124ms\tremaining: 827ms\n",
      "130:\tlearn: 0.3451118\ttotal: 124ms\tremaining: 823ms\n",
      "131:\tlearn: 0.3425660\ttotal: 125ms\tremaining: 820ms\n",
      "132:\tlearn: 0.3403183\ttotal: 125ms\tremaining: 815ms\n",
      "133:\tlearn: 0.3382500\ttotal: 126ms\tremaining: 812ms\n",
      "134:\tlearn: 0.3355107\ttotal: 126ms\tremaining: 808ms\n",
      "135:\tlearn: 0.3332577\ttotal: 127ms\tremaining: 804ms\n",
      "136:\tlearn: 0.3307955\ttotal: 127ms\tremaining: 800ms\n",
      "137:\tlearn: 0.3291384\ttotal: 128ms\tremaining: 797ms\n",
      "138:\tlearn: 0.3268069\ttotal: 128ms\tremaining: 794ms\n",
      "139:\tlearn: 0.3246555\ttotal: 129ms\tremaining: 791ms\n",
      "140:\tlearn: 0.3226431\ttotal: 129ms\tremaining: 787ms\n",
      "141:\tlearn: 0.3205988\ttotal: 130ms\tremaining: 784ms\n",
      "142:\tlearn: 0.3181747\ttotal: 130ms\tremaining: 780ms\n",
      "143:\tlearn: 0.3160523\ttotal: 131ms\tremaining: 777ms\n",
      "144:\tlearn: 0.3143404\ttotal: 131ms\tremaining: 773ms\n",
      "145:\tlearn: 0.3122254\ttotal: 131ms\tremaining: 769ms\n",
      "146:\tlearn: 0.3104135\ttotal: 132ms\tremaining: 766ms\n",
      "147:\tlearn: 0.3082134\ttotal: 133ms\tremaining: 763ms\n",
      "148:\tlearn: 0.3056326\ttotal: 133ms\tremaining: 759ms\n",
      "149:\tlearn: 0.3036899\ttotal: 133ms\tremaining: 756ms\n",
      "150:\tlearn: 0.3014897\ttotal: 134ms\tremaining: 752ms\n",
      "151:\tlearn: 0.2992768\ttotal: 134ms\tremaining: 748ms\n",
      "152:\tlearn: 0.2967478\ttotal: 135ms\tremaining: 745ms\n",
      "153:\tlearn: 0.2946192\ttotal: 135ms\tremaining: 742ms\n",
      "154:\tlearn: 0.2926478\ttotal: 135ms\tremaining: 739ms\n",
      "155:\tlearn: 0.2908443\ttotal: 136ms\tremaining: 737ms\n",
      "156:\tlearn: 0.2886299\ttotal: 137ms\tremaining: 733ms\n",
      "157:\tlearn: 0.2867437\ttotal: 137ms\tremaining: 729ms\n",
      "158:\tlearn: 0.2845947\ttotal: 137ms\tremaining: 726ms\n",
      "159:\tlearn: 0.2828729\ttotal: 138ms\tremaining: 723ms\n",
      "160:\tlearn: 0.2812016\ttotal: 138ms\tremaining: 720ms\n",
      "161:\tlearn: 0.2792774\ttotal: 138ms\tremaining: 716ms\n",
      "162:\tlearn: 0.2771635\ttotal: 139ms\tremaining: 713ms\n",
      "163:\tlearn: 0.2752509\ttotal: 139ms\tremaining: 710ms\n",
      "164:\tlearn: 0.2737562\ttotal: 140ms\tremaining: 708ms\n",
      "165:\tlearn: 0.2719681\ttotal: 141ms\tremaining: 706ms\n",
      "166:\tlearn: 0.2703112\ttotal: 141ms\tremaining: 705ms\n",
      "167:\tlearn: 0.2686273\ttotal: 142ms\tremaining: 703ms\n",
      "168:\tlearn: 0.2671288\ttotal: 143ms\tremaining: 701ms\n",
      "169:\tlearn: 0.2655546\ttotal: 143ms\tremaining: 698ms\n",
      "170:\tlearn: 0.2638072\ttotal: 143ms\tremaining: 695ms\n",
      "171:\tlearn: 0.2615581\ttotal: 144ms\tremaining: 693ms\n",
      "172:\tlearn: 0.2596905\ttotal: 145ms\tremaining: 691ms\n",
      "173:\tlearn: 0.2580707\ttotal: 145ms\tremaining: 688ms\n",
      "174:\tlearn: 0.2561777\ttotal: 145ms\tremaining: 686ms\n",
      "175:\tlearn: 0.2544504\ttotal: 146ms\tremaining: 683ms\n",
      "176:\tlearn: 0.2528642\ttotal: 146ms\tremaining: 680ms\n",
      "177:\tlearn: 0.2514933\ttotal: 147ms\tremaining: 677ms\n",
      "178:\tlearn: 0.2496537\ttotal: 147ms\tremaining: 675ms\n",
      "179:\tlearn: 0.2480246\ttotal: 148ms\tremaining: 673ms\n",
      "180:\tlearn: 0.2462526\ttotal: 148ms\tremaining: 670ms\n",
      "181:\tlearn: 0.2443687\ttotal: 149ms\tremaining: 668ms\n",
      "182:\tlearn: 0.2428775\ttotal: 149ms\tremaining: 666ms\n",
      "183:\tlearn: 0.2415165\ttotal: 150ms\tremaining: 664ms\n",
      "184:\tlearn: 0.2398230\ttotal: 150ms\tremaining: 662ms\n",
      "185:\tlearn: 0.2383588\ttotal: 151ms\tremaining: 659ms\n",
      "186:\tlearn: 0.2365468\ttotal: 151ms\tremaining: 657ms\n",
      "187:\tlearn: 0.2348874\ttotal: 152ms\tremaining: 655ms\n",
      "188:\tlearn: 0.2335254\ttotal: 152ms\tremaining: 652ms\n",
      "189:\tlearn: 0.2321435\ttotal: 152ms\tremaining: 650ms\n",
      "190:\tlearn: 0.2304823\ttotal: 153ms\tremaining: 647ms\n",
      "191:\tlearn: 0.2289652\ttotal: 153ms\tremaining: 646ms\n",
      "192:\tlearn: 0.2272500\ttotal: 154ms\tremaining: 644ms\n",
      "193:\tlearn: 0.2259458\ttotal: 155ms\tremaining: 642ms\n",
      "194:\tlearn: 0.2244916\ttotal: 155ms\tremaining: 641ms\n",
      "195:\tlearn: 0.2227441\ttotal: 156ms\tremaining: 640ms\n",
      "196:\tlearn: 0.2211700\ttotal: 157ms\tremaining: 638ms\n",
      "197:\tlearn: 0.2198374\ttotal: 157ms\tremaining: 637ms\n",
      "198:\tlearn: 0.2186827\ttotal: 158ms\tremaining: 635ms\n",
      "199:\tlearn: 0.2177258\ttotal: 158ms\tremaining: 634ms\n",
      "200:\tlearn: 0.2164324\ttotal: 159ms\tremaining: 632ms\n",
      "201:\tlearn: 0.2150558\ttotal: 159ms\tremaining: 629ms\n",
      "202:\tlearn: 0.2136835\ttotal: 160ms\tremaining: 627ms\n",
      "203:\tlearn: 0.2126358\ttotal: 160ms\tremaining: 625ms\n",
      "204:\tlearn: 0.2113349\ttotal: 161ms\tremaining: 623ms\n",
      "205:\tlearn: 0.2099901\ttotal: 161ms\tremaining: 621ms\n",
      "206:\tlearn: 0.2089656\ttotal: 162ms\tremaining: 619ms\n",
      "207:\tlearn: 0.2077765\ttotal: 162ms\tremaining: 617ms\n",
      "208:\tlearn: 0.2060949\ttotal: 163ms\tremaining: 615ms\n",
      "209:\tlearn: 0.2044698\ttotal: 163ms\tremaining: 613ms\n",
      "210:\tlearn: 0.2032904\ttotal: 163ms\tremaining: 611ms\n",
      "211:\tlearn: 0.2022268\ttotal: 164ms\tremaining: 609ms\n",
      "212:\tlearn: 0.2006861\ttotal: 164ms\tremaining: 607ms\n",
      "213:\tlearn: 0.1993665\ttotal: 165ms\tremaining: 605ms\n",
      "214:\tlearn: 0.1978706\ttotal: 165ms\tremaining: 604ms\n",
      "215:\tlearn: 0.1967099\ttotal: 166ms\tremaining: 602ms\n",
      "216:\tlearn: 0.1952153\ttotal: 166ms\tremaining: 600ms\n",
      "217:\tlearn: 0.1939772\ttotal: 167ms\tremaining: 598ms\n",
      "218:\tlearn: 0.1926916\ttotal: 167ms\tremaining: 596ms\n",
      "219:\tlearn: 0.1917519\ttotal: 168ms\tremaining: 594ms\n",
      "220:\tlearn: 0.1904222\ttotal: 168ms\tremaining: 593ms\n",
      "221:\tlearn: 0.1893296\ttotal: 169ms\tremaining: 591ms\n",
      "222:\tlearn: 0.1881963\ttotal: 169ms\tremaining: 589ms\n",
      "223:\tlearn: 0.1868748\ttotal: 170ms\tremaining: 588ms\n",
      "224:\tlearn: 0.1855623\ttotal: 170ms\tremaining: 586ms\n",
      "225:\tlearn: 0.1843066\ttotal: 171ms\tremaining: 585ms\n",
      "226:\tlearn: 0.1831611\ttotal: 171ms\tremaining: 583ms\n",
      "227:\tlearn: 0.1816496\ttotal: 172ms\tremaining: 581ms\n",
      "228:\tlearn: 0.1806986\ttotal: 172ms\tremaining: 580ms\n",
      "229:\tlearn: 0.1798588\ttotal: 173ms\tremaining: 578ms\n",
      "230:\tlearn: 0.1787040\ttotal: 173ms\tremaining: 577ms\n",
      "231:\tlearn: 0.1774949\ttotal: 174ms\tremaining: 575ms\n",
      "232:\tlearn: 0.1765184\ttotal: 174ms\tremaining: 574ms\n",
      "233:\tlearn: 0.1752547\ttotal: 175ms\tremaining: 573ms\n",
      "234:\tlearn: 0.1738803\ttotal: 175ms\tremaining: 571ms\n",
      "235:\tlearn: 0.1728881\ttotal: 176ms\tremaining: 569ms\n",
      "236:\tlearn: 0.1715009\ttotal: 176ms\tremaining: 567ms\n",
      "237:\tlearn: 0.1704970\ttotal: 177ms\tremaining: 565ms\n",
      "238:\tlearn: 0.1692219\ttotal: 177ms\tremaining: 564ms\n",
      "239:\tlearn: 0.1683691\ttotal: 177ms\tremaining: 562ms\n",
      "240:\tlearn: 0.1672632\ttotal: 178ms\tremaining: 560ms\n",
      "241:\tlearn: 0.1662977\ttotal: 178ms\tremaining: 558ms\n",
      "242:\tlearn: 0.1653952\ttotal: 179ms\tremaining: 556ms\n",
      "243:\tlearn: 0.1642127\ttotal: 179ms\tremaining: 555ms\n",
      "244:\tlearn: 0.1630429\ttotal: 179ms\tremaining: 553ms\n",
      "245:\tlearn: 0.1617190\ttotal: 180ms\tremaining: 551ms\n",
      "246:\tlearn: 0.1606724\ttotal: 180ms\tremaining: 550ms\n",
      "247:\tlearn: 0.1596793\ttotal: 181ms\tremaining: 548ms\n",
      "248:\tlearn: 0.1583606\ttotal: 181ms\tremaining: 547ms\n",
      "249:\tlearn: 0.1572255\ttotal: 182ms\tremaining: 545ms\n",
      "250:\tlearn: 0.1561001\ttotal: 182ms\tremaining: 543ms\n",
      "251:\tlearn: 0.1551271\ttotal: 183ms\tremaining: 542ms\n",
      "252:\tlearn: 0.1540357\ttotal: 183ms\tremaining: 540ms\n",
      "253:\tlearn: 0.1530835\ttotal: 183ms\tremaining: 539ms\n",
      "254:\tlearn: 0.1521701\ttotal: 184ms\tremaining: 537ms\n",
      "255:\tlearn: 0.1510083\ttotal: 185ms\tremaining: 536ms\n",
      "256:\tlearn: 0.1499432\ttotal: 185ms\tremaining: 535ms\n"
     ]
    },
    {
     "name": "stdout",
     "output_type": "stream",
     "text": [
      "257:\tlearn: 0.1489164\ttotal: 186ms\tremaining: 535ms\n",
      "258:\tlearn: 0.1480137\ttotal: 187ms\tremaining: 535ms\n",
      "259:\tlearn: 0.1469980\ttotal: 187ms\tremaining: 533ms\n",
      "260:\tlearn: 0.1461253\ttotal: 188ms\tremaining: 532ms\n",
      "261:\tlearn: 0.1451285\ttotal: 189ms\tremaining: 531ms\n",
      "262:\tlearn: 0.1443103\ttotal: 189ms\tremaining: 530ms\n",
      "263:\tlearn: 0.1435324\ttotal: 190ms\tremaining: 529ms\n",
      "264:\tlearn: 0.1426522\ttotal: 190ms\tremaining: 527ms\n",
      "265:\tlearn: 0.1415653\ttotal: 191ms\tremaining: 526ms\n",
      "266:\tlearn: 0.1408305\ttotal: 191ms\tremaining: 525ms\n",
      "267:\tlearn: 0.1400422\ttotal: 192ms\tremaining: 523ms\n",
      "268:\tlearn: 0.1390900\ttotal: 192ms\tremaining: 522ms\n",
      "269:\tlearn: 0.1380854\ttotal: 193ms\tremaining: 521ms\n",
      "270:\tlearn: 0.1371409\ttotal: 193ms\tremaining: 519ms\n",
      "271:\tlearn: 0.1361227\ttotal: 194ms\tremaining: 518ms\n",
      "272:\tlearn: 0.1354592\ttotal: 194ms\tremaining: 517ms\n",
      "273:\tlearn: 0.1345673\ttotal: 194ms\tremaining: 515ms\n",
      "274:\tlearn: 0.1336786\ttotal: 195ms\tremaining: 514ms\n",
      "275:\tlearn: 0.1328625\ttotal: 195ms\tremaining: 512ms\n",
      "276:\tlearn: 0.1319980\ttotal: 196ms\tremaining: 511ms\n",
      "277:\tlearn: 0.1311117\ttotal: 196ms\tremaining: 509ms\n",
      "278:\tlearn: 0.1302362\ttotal: 197ms\tremaining: 508ms\n",
      "279:\tlearn: 0.1293915\ttotal: 197ms\tremaining: 507ms\n",
      "280:\tlearn: 0.1287959\ttotal: 198ms\tremaining: 506ms\n",
      "281:\tlearn: 0.1279235\ttotal: 198ms\tremaining: 504ms\n",
      "282:\tlearn: 0.1269406\ttotal: 198ms\tremaining: 503ms\n",
      "283:\tlearn: 0.1260777\ttotal: 199ms\tremaining: 502ms\n",
      "284:\tlearn: 0.1253975\ttotal: 199ms\tremaining: 500ms\n",
      "285:\tlearn: 0.1246136\ttotal: 200ms\tremaining: 500ms\n",
      "286:\tlearn: 0.1237698\ttotal: 200ms\tremaining: 498ms\n",
      "287:\tlearn: 0.1231062\ttotal: 201ms\tremaining: 497ms\n",
      "288:\tlearn: 0.1223295\ttotal: 202ms\tremaining: 496ms\n",
      "289:\tlearn: 0.1215882\ttotal: 203ms\tremaining: 496ms\n",
      "290:\tlearn: 0.1207219\ttotal: 203ms\tremaining: 495ms\n",
      "291:\tlearn: 0.1199302\ttotal: 204ms\tremaining: 494ms\n",
      "292:\tlearn: 0.1191958\ttotal: 204ms\tremaining: 493ms\n",
      "293:\tlearn: 0.1184998\ttotal: 205ms\tremaining: 492ms\n",
      "294:\tlearn: 0.1177268\ttotal: 206ms\tremaining: 491ms\n",
      "295:\tlearn: 0.1169530\ttotal: 206ms\tremaining: 490ms\n",
      "296:\tlearn: 0.1161824\ttotal: 207ms\tremaining: 489ms\n",
      "297:\tlearn: 0.1154372\ttotal: 207ms\tremaining: 487ms\n",
      "298:\tlearn: 0.1147010\ttotal: 207ms\tremaining: 486ms\n",
      "299:\tlearn: 0.1140205\ttotal: 208ms\tremaining: 485ms\n",
      "300:\tlearn: 0.1133488\ttotal: 208ms\tremaining: 484ms\n",
      "301:\tlearn: 0.1128164\ttotal: 209ms\tremaining: 482ms\n",
      "302:\tlearn: 0.1123479\ttotal: 209ms\tremaining: 481ms\n",
      "303:\tlearn: 0.1118191\ttotal: 209ms\tremaining: 480ms\n",
      "304:\tlearn: 0.1111703\ttotal: 210ms\tremaining: 478ms\n",
      "305:\tlearn: 0.1105189\ttotal: 210ms\tremaining: 477ms\n",
      "306:\tlearn: 0.1097967\ttotal: 211ms\tremaining: 476ms\n",
      "307:\tlearn: 0.1091772\ttotal: 212ms\tremaining: 475ms\n",
      "308:\tlearn: 0.1085981\ttotal: 212ms\tremaining: 474ms\n",
      "309:\tlearn: 0.1079761\ttotal: 213ms\tremaining: 473ms\n",
      "310:\tlearn: 0.1074300\ttotal: 213ms\tremaining: 472ms\n",
      "311:\tlearn: 0.1067825\ttotal: 214ms\tremaining: 471ms\n",
      "312:\tlearn: 0.1061961\ttotal: 214ms\tremaining: 470ms\n",
      "313:\tlearn: 0.1056597\ttotal: 215ms\tremaining: 469ms\n",
      "314:\tlearn: 0.1050334\ttotal: 215ms\tremaining: 468ms\n",
      "315:\tlearn: 0.1044196\ttotal: 216ms\tremaining: 467ms\n",
      "316:\tlearn: 0.1037367\ttotal: 216ms\tremaining: 466ms\n",
      "317:\tlearn: 0.1031403\ttotal: 217ms\tremaining: 466ms\n",
      "318:\tlearn: 0.1026105\ttotal: 218ms\tremaining: 465ms\n",
      "319:\tlearn: 0.1020470\ttotal: 218ms\tremaining: 464ms\n",
      "320:\tlearn: 0.1014990\ttotal: 219ms\tremaining: 463ms\n",
      "321:\tlearn: 0.1009331\ttotal: 220ms\tremaining: 462ms\n",
      "322:\tlearn: 0.1003598\ttotal: 220ms\tremaining: 461ms\n",
      "323:\tlearn: 0.0998154\ttotal: 220ms\tremaining: 460ms\n",
      "324:\tlearn: 0.0993297\ttotal: 221ms\tremaining: 459ms\n",
      "325:\tlearn: 0.0989080\ttotal: 221ms\tremaining: 458ms\n",
      "326:\tlearn: 0.0983823\ttotal: 222ms\tremaining: 457ms\n",
      "327:\tlearn: 0.0977475\ttotal: 222ms\tremaining: 455ms\n",
      "328:\tlearn: 0.0971550\ttotal: 223ms\tremaining: 455ms\n",
      "329:\tlearn: 0.0965167\ttotal: 223ms\tremaining: 453ms\n",
      "330:\tlearn: 0.0960562\ttotal: 224ms\tremaining: 453ms\n",
      "331:\tlearn: 0.0953804\ttotal: 224ms\tremaining: 452ms\n",
      "332:\tlearn: 0.0947474\ttotal: 225ms\tremaining: 451ms\n",
      "333:\tlearn: 0.0941461\ttotal: 225ms\tremaining: 449ms\n",
      "334:\tlearn: 0.0936581\ttotal: 226ms\tremaining: 448ms\n",
      "335:\tlearn: 0.0931420\ttotal: 226ms\tremaining: 447ms\n",
      "336:\tlearn: 0.0926399\ttotal: 227ms\tremaining: 446ms\n",
      "337:\tlearn: 0.0920476\ttotal: 227ms\tremaining: 445ms\n",
      "338:\tlearn: 0.0917014\ttotal: 228ms\tremaining: 444ms\n",
      "339:\tlearn: 0.0912072\ttotal: 228ms\tremaining: 443ms\n",
      "340:\tlearn: 0.0907458\ttotal: 229ms\tremaining: 442ms\n",
      "341:\tlearn: 0.0904139\ttotal: 229ms\tremaining: 441ms\n",
      "342:\tlearn: 0.0899629\ttotal: 229ms\tremaining: 440ms\n",
      "343:\tlearn: 0.0894802\ttotal: 230ms\tremaining: 439ms\n",
      "344:\tlearn: 0.0890350\ttotal: 231ms\tremaining: 438ms\n",
      "345:\tlearn: 0.0887167\ttotal: 231ms\tremaining: 437ms\n",
      "346:\tlearn: 0.0882213\ttotal: 232ms\tremaining: 436ms\n",
      "347:\tlearn: 0.0879970\ttotal: 232ms\tremaining: 435ms\n",
      "348:\tlearn: 0.0875183\ttotal: 233ms\tremaining: 435ms\n",
      "349:\tlearn: 0.0872993\ttotal: 234ms\tremaining: 434ms\n",
      "350:\tlearn: 0.0868191\ttotal: 234ms\tremaining: 433ms\n",
      "351:\tlearn: 0.0866057\ttotal: 235ms\tremaining: 432ms\n",
      "352:\tlearn: 0.0861402\ttotal: 235ms\tremaining: 431ms\n",
      "353:\tlearn: 0.0859729\ttotal: 236ms\tremaining: 431ms\n",
      "354:\tlearn: 0.0854967\ttotal: 237ms\tremaining: 430ms\n",
      "355:\tlearn: 0.0853324\ttotal: 237ms\tremaining: 428ms\n",
      "356:\tlearn: 0.0849039\ttotal: 237ms\tremaining: 427ms\n",
      "357:\tlearn: 0.0847108\ttotal: 238ms\tremaining: 426ms\n",
      "358:\tlearn: 0.0843248\ttotal: 238ms\tremaining: 425ms\n",
      "359:\tlearn: 0.0841668\ttotal: 239ms\tremaining: 424ms\n",
      "360:\tlearn: 0.0837318\ttotal: 239ms\tremaining: 423ms\n",
      "361:\tlearn: 0.0832807\ttotal: 240ms\tremaining: 422ms\n",
      "362:\tlearn: 0.0831268\ttotal: 240ms\tremaining: 421ms\n",
      "363:\tlearn: 0.0829777\ttotal: 240ms\tremaining: 420ms\n",
      "364:\tlearn: 0.0825597\ttotal: 241ms\tremaining: 419ms\n",
      "365:\tlearn: 0.0824133\ttotal: 241ms\tremaining: 418ms\n",
      "366:\tlearn: 0.0822657\ttotal: 242ms\tremaining: 417ms\n",
      "367:\tlearn: 0.0821184\ttotal: 242ms\tremaining: 416ms\n",
      "368:\tlearn: 0.0817194\ttotal: 243ms\tremaining: 415ms\n",
      "369:\tlearn: 0.0812154\ttotal: 243ms\tremaining: 414ms\n",
      "370:\tlearn: 0.0808276\ttotal: 244ms\tremaining: 413ms\n",
      "371:\tlearn: 0.0802883\ttotal: 244ms\tremaining: 412ms\n",
      "372:\tlearn: 0.0801463\ttotal: 245ms\tremaining: 411ms\n",
      "373:\tlearn: 0.0800191\ttotal: 245ms\tremaining: 410ms\n",
      "374:\tlearn: 0.0796419\ttotal: 246ms\tremaining: 409ms\n",
      "375:\tlearn: 0.0795041\ttotal: 246ms\tremaining: 409ms\n",
      "376:\tlearn: 0.0793685\ttotal: 247ms\tremaining: 408ms\n",
      "377:\tlearn: 0.0789986\ttotal: 247ms\tremaining: 407ms\n",
      "378:\tlearn: 0.0786927\ttotal: 248ms\tremaining: 406ms\n",
      "379:\tlearn: 0.0782127\ttotal: 249ms\tremaining: 405ms\n",
      "380:\tlearn: 0.0779086\ttotal: 249ms\tremaining: 405ms\n",
      "381:\tlearn: 0.0774960\ttotal: 250ms\tremaining: 404ms\n",
      "382:\tlearn: 0.0773660\ttotal: 250ms\tremaining: 403ms\n",
      "383:\tlearn: 0.0772379\ttotal: 251ms\tremaining: 402ms\n",
      "384:\tlearn: 0.0771126\ttotal: 251ms\tremaining: 401ms\n",
      "385:\tlearn: 0.0767137\ttotal: 252ms\tremaining: 400ms\n",
      "386:\tlearn: 0.0763492\ttotal: 252ms\tremaining: 399ms\n",
      "387:\tlearn: 0.0762255\ttotal: 253ms\tremaining: 398ms\n",
      "388:\tlearn: 0.0758334\ttotal: 253ms\tremaining: 397ms\n",
      "389:\tlearn: 0.0757132\ttotal: 254ms\tremaining: 397ms\n",
      "390:\tlearn: 0.0752553\ttotal: 254ms\tremaining: 396ms\n",
      "391:\tlearn: 0.0751365\ttotal: 254ms\tremaining: 394ms\n",
      "392:\tlearn: 0.0747557\ttotal: 255ms\tremaining: 393ms\n",
      "393:\tlearn: 0.0746507\ttotal: 255ms\tremaining: 393ms\n",
      "394:\tlearn: 0.0742072\ttotal: 256ms\tremaining: 392ms\n",
      "395:\tlearn: 0.0741047\ttotal: 256ms\tremaining: 391ms\n",
      "396:\tlearn: 0.0737368\ttotal: 257ms\tremaining: 390ms\n",
      "397:\tlearn: 0.0736239\ttotal: 257ms\tremaining: 389ms\n",
      "398:\tlearn: 0.0732655\ttotal: 257ms\tremaining: 388ms\n",
      "399:\tlearn: 0.0729381\ttotal: 258ms\tremaining: 387ms\n",
      "400:\tlearn: 0.0725352\ttotal: 258ms\tremaining: 386ms\n",
      "401:\tlearn: 0.0721773\ttotal: 259ms\tremaining: 385ms\n",
      "402:\tlearn: 0.0717541\ttotal: 259ms\tremaining: 384ms\n",
      "403:\tlearn: 0.0716663\ttotal: 260ms\tremaining: 383ms\n",
      "404:\tlearn: 0.0715594\ttotal: 261ms\tremaining: 383ms\n",
      "405:\tlearn: 0.0710897\ttotal: 261ms\tremaining: 382ms\n",
      "406:\tlearn: 0.0710044\ttotal: 262ms\tremaining: 381ms\n",
      "407:\tlearn: 0.0709201\ttotal: 262ms\tremaining: 381ms\n",
      "408:\tlearn: 0.0704313\ttotal: 263ms\tremaining: 380ms\n",
      "409:\tlearn: 0.0703484\ttotal: 264ms\tremaining: 379ms\n",
      "410:\tlearn: 0.0700234\ttotal: 264ms\tremaining: 379ms\n",
      "411:\tlearn: 0.0699139\ttotal: 265ms\tremaining: 378ms\n",
      "412:\tlearn: 0.0694927\ttotal: 265ms\tremaining: 377ms\n",
      "413:\tlearn: 0.0694121\ttotal: 266ms\tremaining: 377ms\n",
      "414:\tlearn: 0.0689448\ttotal: 267ms\tremaining: 376ms\n",
      "415:\tlearn: 0.0688655\ttotal: 267ms\tremaining: 375ms\n",
      "416:\tlearn: 0.0687873\ttotal: 267ms\tremaining: 374ms\n",
      "417:\tlearn: 0.0683825\ttotal: 268ms\tremaining: 373ms\n",
      "418:\tlearn: 0.0679854\ttotal: 268ms\tremaining: 372ms\n",
      "419:\tlearn: 0.0674947\ttotal: 269ms\tremaining: 371ms\n",
      "420:\tlearn: 0.0671545\ttotal: 269ms\tremaining: 370ms\n",
      "421:\tlearn: 0.0670597\ttotal: 270ms\tremaining: 369ms\n",
      "422:\tlearn: 0.0669662\ttotal: 270ms\tremaining: 368ms\n",
      "423:\tlearn: 0.0666343\ttotal: 271ms\tremaining: 367ms\n",
      "424:\tlearn: 0.0665429\ttotal: 271ms\tremaining: 367ms\n",
      "425:\tlearn: 0.0662615\ttotal: 271ms\tremaining: 366ms\n",
      "426:\tlearn: 0.0659482\ttotal: 272ms\tremaining: 365ms\n",
      "427:\tlearn: 0.0655671\ttotal: 272ms\tremaining: 364ms\n",
      "428:\tlearn: 0.0654965\ttotal: 273ms\tremaining: 363ms\n",
      "429:\tlearn: 0.0652004\ttotal: 273ms\tremaining: 362ms\n",
      "430:\tlearn: 0.0649097\ttotal: 274ms\tremaining: 361ms\n",
      "431:\tlearn: 0.0644504\ttotal: 274ms\tremaining: 361ms\n",
      "432:\tlearn: 0.0640783\ttotal: 275ms\tremaining: 360ms\n",
      "433:\tlearn: 0.0639917\ttotal: 275ms\tremaining: 359ms\n",
      "434:\tlearn: 0.0636276\ttotal: 276ms\tremaining: 358ms\n",
      "435:\tlearn: 0.0635602\ttotal: 276ms\tremaining: 357ms\n",
      "436:\tlearn: 0.0632040\ttotal: 277ms\tremaining: 357ms\n",
      "437:\tlearn: 0.0631378\ttotal: 277ms\tremaining: 356ms\n",
      "438:\tlearn: 0.0630546\ttotal: 278ms\tremaining: 355ms\n",
      "439:\tlearn: 0.0627063\ttotal: 278ms\tremaining: 354ms\n",
      "440:\tlearn: 0.0624262\ttotal: 279ms\tremaining: 353ms\n",
      "441:\tlearn: 0.0620700\ttotal: 279ms\tremaining: 353ms\n",
      "442:\tlearn: 0.0617964\ttotal: 280ms\tremaining: 352ms\n",
      "443:\tlearn: 0.0614484\ttotal: 280ms\tremaining: 351ms\n",
      "444:\tlearn: 0.0613847\ttotal: 281ms\tremaining: 350ms\n",
      "445:\tlearn: 0.0610542\ttotal: 281ms\tremaining: 350ms\n",
      "446:\tlearn: 0.0607878\ttotal: 282ms\tremaining: 349ms\n",
      "447:\tlearn: 0.0606188\ttotal: 282ms\tremaining: 348ms\n",
      "448:\tlearn: 0.0602841\ttotal: 283ms\tremaining: 347ms\n",
      "449:\tlearn: 0.0599632\ttotal: 283ms\tremaining: 346ms\n",
      "450:\tlearn: 0.0597983\ttotal: 283ms\tremaining: 345ms\n"
     ]
    },
    {
     "name": "stdout",
     "output_type": "stream",
     "text": [
      "451:\tlearn: 0.0594855\ttotal: 284ms\tremaining: 344ms\n",
      "452:\tlearn: 0.0593236\ttotal: 285ms\tremaining: 344ms\n",
      "453:\tlearn: 0.0591638\ttotal: 285ms\tremaining: 343ms\n",
      "454:\tlearn: 0.0588338\ttotal: 286ms\tremaining: 342ms\n",
      "455:\tlearn: 0.0585810\ttotal: 286ms\tremaining: 341ms\n",
      "456:\tlearn: 0.0583334\ttotal: 286ms\tremaining: 340ms\n",
      "457:\tlearn: 0.0580428\ttotal: 287ms\tremaining: 340ms\n",
      "458:\tlearn: 0.0577589\ttotal: 287ms\tremaining: 339ms\n",
      "459:\tlearn: 0.0576058\ttotal: 288ms\tremaining: 338ms\n",
      "460:\tlearn: 0.0574546\ttotal: 288ms\tremaining: 337ms\n",
      "461:\tlearn: 0.0571077\ttotal: 289ms\tremaining: 336ms\n",
      "462:\tlearn: 0.0567669\ttotal: 289ms\tremaining: 335ms\n",
      "463:\tlearn: 0.0563752\ttotal: 289ms\tremaining: 334ms\n",
      "464:\tlearn: 0.0560852\ttotal: 290ms\tremaining: 334ms\n",
      "465:\tlearn: 0.0557640\ttotal: 290ms\tremaining: 333ms\n",
      "466:\tlearn: 0.0554535\ttotal: 291ms\tremaining: 332ms\n",
      "467:\tlearn: 0.0550741\ttotal: 292ms\tremaining: 332ms\n",
      "468:\tlearn: 0.0547009\ttotal: 292ms\tremaining: 331ms\n",
      "469:\tlearn: 0.0544669\ttotal: 293ms\tremaining: 330ms\n",
      "470:\tlearn: 0.0541011\ttotal: 293ms\tremaining: 329ms\n",
      "471:\tlearn: 0.0538737\ttotal: 294ms\tremaining: 329ms\n",
      "472:\tlearn: 0.0535150\ttotal: 294ms\tremaining: 328ms\n",
      "473:\tlearn: 0.0533120\ttotal: 295ms\tremaining: 327ms\n",
      "474:\tlearn: 0.0529598\ttotal: 296ms\tremaining: 327ms\n",
      "475:\tlearn: 0.0526134\ttotal: 296ms\tremaining: 326ms\n",
      "476:\tlearn: 0.0523955\ttotal: 296ms\tremaining: 325ms\n",
      "477:\tlearn: 0.0520559\ttotal: 297ms\tremaining: 324ms\n",
      "478:\tlearn: 0.0518442\ttotal: 297ms\tremaining: 323ms\n",
      "479:\tlearn: 0.0515112\ttotal: 298ms\tremaining: 323ms\n",
      "480:\tlearn: 0.0512871\ttotal: 298ms\tremaining: 322ms\n",
      "481:\tlearn: 0.0509425\ttotal: 299ms\tremaining: 321ms\n",
      "482:\tlearn: 0.0506042\ttotal: 299ms\tremaining: 320ms\n",
      "483:\tlearn: 0.0502605\ttotal: 300ms\tremaining: 320ms\n",
      "484:\tlearn: 0.0499218\ttotal: 300ms\tremaining: 319ms\n",
      "485:\tlearn: 0.0495960\ttotal: 301ms\tremaining: 318ms\n",
      "486:\tlearn: 0.0492664\ttotal: 301ms\tremaining: 317ms\n",
      "487:\tlearn: 0.0489497\ttotal: 302ms\tremaining: 316ms\n",
      "488:\tlearn: 0.0486799\ttotal: 302ms\tremaining: 316ms\n",
      "489:\tlearn: 0.0483633\ttotal: 303ms\tremaining: 315ms\n",
      "490:\tlearn: 0.0480596\ttotal: 303ms\tremaining: 314ms\n",
      "491:\tlearn: 0.0476683\ttotal: 303ms\tremaining: 313ms\n",
      "492:\tlearn: 0.0473637\ttotal: 304ms\tremaining: 313ms\n",
      "493:\tlearn: 0.0470656\ttotal: 305ms\tremaining: 312ms\n",
      "494:\tlearn: 0.0467939\ttotal: 305ms\tremaining: 311ms\n",
      "495:\tlearn: 0.0464976\ttotal: 306ms\tremaining: 311ms\n",
      "496:\tlearn: 0.0462120\ttotal: 306ms\tremaining: 310ms\n",
      "497:\tlearn: 0.0459285\ttotal: 307ms\tremaining: 309ms\n",
      "498:\tlearn: 0.0456705\ttotal: 307ms\tremaining: 309ms\n",
      "499:\tlearn: 0.0453784\ttotal: 308ms\tremaining: 308ms\n",
      "500:\tlearn: 0.0451129\ttotal: 308ms\tremaining: 307ms\n",
      "501:\tlearn: 0.0448273\ttotal: 309ms\tremaining: 306ms\n",
      "502:\tlearn: 0.0445688\ttotal: 309ms\tremaining: 306ms\n",
      "503:\tlearn: 0.0443154\ttotal: 310ms\tremaining: 305ms\n",
      "504:\tlearn: 0.0440380\ttotal: 311ms\tremaining: 304ms\n",
      "505:\tlearn: 0.0437912\ttotal: 311ms\tremaining: 304ms\n",
      "506:\tlearn: 0.0435086\ttotal: 311ms\tremaining: 303ms\n",
      "507:\tlearn: 0.0432398\ttotal: 312ms\tremaining: 302ms\n",
      "508:\tlearn: 0.0429661\ttotal: 312ms\tremaining: 301ms\n",
      "509:\tlearn: 0.0427053\ttotal: 313ms\tremaining: 300ms\n",
      "510:\tlearn: 0.0424391\ttotal: 313ms\tremaining: 300ms\n",
      "511:\tlearn: 0.0421393\ttotal: 313ms\tremaining: 299ms\n",
      "512:\tlearn: 0.0418803\ttotal: 314ms\tremaining: 298ms\n",
      "513:\tlearn: 0.0416301\ttotal: 315ms\tremaining: 297ms\n",
      "514:\tlearn: 0.0413782\ttotal: 315ms\tremaining: 297ms\n",
      "515:\tlearn: 0.0410902\ttotal: 316ms\tremaining: 296ms\n",
      "516:\tlearn: 0.0408563\ttotal: 316ms\tremaining: 295ms\n",
      "517:\tlearn: 0.0406442\ttotal: 317ms\tremaining: 295ms\n",
      "518:\tlearn: 0.0404414\ttotal: 317ms\tremaining: 294ms\n",
      "519:\tlearn: 0.0402423\ttotal: 318ms\tremaining: 293ms\n",
      "520:\tlearn: 0.0400053\ttotal: 318ms\tremaining: 293ms\n",
      "521:\tlearn: 0.0397896\ttotal: 319ms\tremaining: 292ms\n",
      "522:\tlearn: 0.0395973\ttotal: 319ms\tremaining: 291ms\n",
      "523:\tlearn: 0.0393705\ttotal: 320ms\tremaining: 290ms\n",
      "524:\tlearn: 0.0391750\ttotal: 320ms\tremaining: 290ms\n",
      "525:\tlearn: 0.0389696\ttotal: 321ms\tremaining: 289ms\n",
      "526:\tlearn: 0.0387522\ttotal: 321ms\tremaining: 288ms\n",
      "527:\tlearn: 0.0385341\ttotal: 322ms\tremaining: 288ms\n",
      "528:\tlearn: 0.0383369\ttotal: 323ms\tremaining: 287ms\n",
      "529:\tlearn: 0.0381280\ttotal: 323ms\tremaining: 287ms\n",
      "530:\tlearn: 0.0379162\ttotal: 324ms\tremaining: 286ms\n",
      "531:\tlearn: 0.0377267\ttotal: 325ms\tremaining: 285ms\n",
      "532:\tlearn: 0.0375197\ttotal: 325ms\tremaining: 285ms\n",
      "533:\tlearn: 0.0373204\ttotal: 325ms\tremaining: 284ms\n",
      "534:\tlearn: 0.0371181\ttotal: 326ms\tremaining: 283ms\n",
      "535:\tlearn: 0.0369061\ttotal: 326ms\tremaining: 283ms\n",
      "536:\tlearn: 0.0366542\ttotal: 327ms\tremaining: 282ms\n",
      "537:\tlearn: 0.0364576\ttotal: 327ms\tremaining: 281ms\n",
      "538:\tlearn: 0.0362606\ttotal: 328ms\tremaining: 280ms\n",
      "539:\tlearn: 0.0360851\ttotal: 328ms\tremaining: 280ms\n",
      "540:\tlearn: 0.0358942\ttotal: 329ms\tremaining: 279ms\n",
      "541:\tlearn: 0.0357098\ttotal: 329ms\tremaining: 278ms\n",
      "542:\tlearn: 0.0355204\ttotal: 330ms\tremaining: 278ms\n",
      "543:\tlearn: 0.0353462\ttotal: 330ms\tremaining: 277ms\n",
      "544:\tlearn: 0.0351509\ttotal: 331ms\tremaining: 276ms\n",
      "545:\tlearn: 0.0349806\ttotal: 331ms\tremaining: 276ms\n",
      "546:\tlearn: 0.0348109\ttotal: 332ms\tremaining: 275ms\n",
      "547:\tlearn: 0.0346449\ttotal: 332ms\tremaining: 274ms\n",
      "548:\tlearn: 0.0344687\ttotal: 333ms\tremaining: 273ms\n",
      "549:\tlearn: 0.0342785\ttotal: 333ms\tremaining: 273ms\n",
      "550:\tlearn: 0.0341095\ttotal: 334ms\tremaining: 272ms\n",
      "551:\tlearn: 0.0339356\ttotal: 334ms\tremaining: 271ms\n",
      "552:\tlearn: 0.0337516\ttotal: 335ms\tremaining: 270ms\n",
      "553:\tlearn: 0.0335981\ttotal: 335ms\tremaining: 270ms\n",
      "554:\tlearn: 0.0334358\ttotal: 336ms\tremaining: 269ms\n",
      "555:\tlearn: 0.0332665\ttotal: 336ms\tremaining: 269ms\n",
      "556:\tlearn: 0.0331079\ttotal: 337ms\tremaining: 268ms\n",
      "557:\tlearn: 0.0329420\ttotal: 337ms\tremaining: 267ms\n",
      "558:\tlearn: 0.0327310\ttotal: 338ms\tremaining: 267ms\n",
      "559:\tlearn: 0.0325953\ttotal: 338ms\tremaining: 266ms\n",
      "560:\tlearn: 0.0324505\ttotal: 339ms\tremaining: 265ms\n",
      "561:\tlearn: 0.0322902\ttotal: 340ms\tremaining: 265ms\n",
      "562:\tlearn: 0.0321589\ttotal: 340ms\tremaining: 264ms\n",
      "563:\tlearn: 0.0320202\ttotal: 341ms\tremaining: 263ms\n",
      "564:\tlearn: 0.0318357\ttotal: 341ms\tremaining: 262ms\n",
      "565:\tlearn: 0.0317070\ttotal: 341ms\tremaining: 262ms\n",
      "566:\tlearn: 0.0315815\ttotal: 342ms\tremaining: 261ms\n",
      "567:\tlearn: 0.0313903\ttotal: 342ms\tremaining: 260ms\n",
      "568:\tlearn: 0.0312130\ttotal: 343ms\tremaining: 260ms\n",
      "569:\tlearn: 0.0310635\ttotal: 343ms\tremaining: 259ms\n",
      "570:\tlearn: 0.0309436\ttotal: 344ms\tremaining: 258ms\n",
      "571:\tlearn: 0.0308515\ttotal: 344ms\tremaining: 257ms\n",
      "572:\tlearn: 0.0306689\ttotal: 345ms\tremaining: 257ms\n",
      "573:\tlearn: 0.0304999\ttotal: 345ms\tremaining: 256ms\n",
      "574:\tlearn: 0.0303571\ttotal: 345ms\tremaining: 255ms\n",
      "575:\tlearn: 0.0301875\ttotal: 346ms\tremaining: 255ms\n",
      "576:\tlearn: 0.0300113\ttotal: 346ms\tremaining: 254ms\n",
      "577:\tlearn: 0.0298338\ttotal: 347ms\tremaining: 253ms\n",
      "578:\tlearn: 0.0296656\ttotal: 347ms\tremaining: 252ms\n",
      "579:\tlearn: 0.0295603\ttotal: 348ms\tremaining: 252ms\n",
      "580:\tlearn: 0.0294568\ttotal: 348ms\tremaining: 251ms\n",
      "581:\tlearn: 0.0292930\ttotal: 349ms\tremaining: 250ms\n",
      "582:\tlearn: 0.0291862\ttotal: 349ms\tremaining: 250ms\n",
      "583:\tlearn: 0.0290203\ttotal: 350ms\tremaining: 249ms\n",
      "584:\tlearn: 0.0288396\ttotal: 350ms\tremaining: 248ms\n",
      "585:\tlearn: 0.0287358\ttotal: 351ms\tremaining: 248ms\n",
      "586:\tlearn: 0.0285602\ttotal: 352ms\tremaining: 247ms\n",
      "587:\tlearn: 0.0283882\ttotal: 352ms\tremaining: 247ms\n",
      "588:\tlearn: 0.0282267\ttotal: 353ms\tremaining: 246ms\n",
      "589:\tlearn: 0.0281405\ttotal: 353ms\tremaining: 245ms\n",
      "590:\tlearn: 0.0279831\ttotal: 354ms\tremaining: 245ms\n",
      "591:\tlearn: 0.0278986\ttotal: 354ms\tremaining: 244ms\n",
      "592:\tlearn: 0.0277453\ttotal: 355ms\tremaining: 243ms\n",
      "593:\tlearn: 0.0276508\ttotal: 355ms\tremaining: 243ms\n",
      "594:\tlearn: 0.0275015\ttotal: 356ms\tremaining: 242ms\n"
     ]
    },
    {
     "name": "stdout",
     "output_type": "stream",
     "text": [
      "595:\tlearn: 0.0273803\ttotal: 356ms\tremaining: 241ms\n",
      "596:\tlearn: 0.0272992\ttotal: 357ms\tremaining: 241ms\n",
      "597:\tlearn: 0.0272194\ttotal: 358ms\tremaining: 240ms\n",
      "598:\tlearn: 0.0270657\ttotal: 358ms\tremaining: 240ms\n",
      "599:\tlearn: 0.0269237\ttotal: 359ms\tremaining: 239ms\n",
      "600:\tlearn: 0.0268080\ttotal: 360ms\tremaining: 239ms\n",
      "601:\tlearn: 0.0267310\ttotal: 361ms\tremaining: 238ms\n"
     ]
    },
    {
     "name": "stdout",
     "output_type": "stream",
     "text": [
      "602:\tlearn: 0.0266184\ttotal: 363ms\tremaining: 239ms\n",
      "603:\tlearn: 0.0265047\ttotal: 365ms\tremaining: 239ms\n",
      "604:\tlearn: 0.0263684\ttotal: 366ms\tremaining: 239ms\n",
      "605:\tlearn: 0.0261897\ttotal: 366ms\tremaining: 238ms\n",
      "606:\tlearn: 0.0261156\ttotal: 367ms\tremaining: 238ms\n",
      "607:\tlearn: 0.0259784\ttotal: 368ms\tremaining: 237ms\n",
      "608:\tlearn: 0.0258054\ttotal: 368ms\tremaining: 236ms\n",
      "609:\tlearn: 0.0256775\ttotal: 369ms\tremaining: 236ms\n",
      "610:\tlearn: 0.0255124\ttotal: 370ms\tremaining: 235ms\n",
      "611:\tlearn: 0.0253457\ttotal: 370ms\tremaining: 235ms\n",
      "612:\tlearn: 0.0251851\ttotal: 371ms\tremaining: 234ms\n",
      "613:\tlearn: 0.0250567\ttotal: 372ms\tremaining: 234ms\n",
      "614:\tlearn: 0.0249545\ttotal: 372ms\tremaining: 233ms\n",
      "615:\tlearn: 0.0247988\ttotal: 373ms\tremaining: 232ms\n",
      "616:\tlearn: 0.0246401\ttotal: 373ms\tremaining: 232ms\n",
      "617:\tlearn: 0.0245118\ttotal: 374ms\tremaining: 231ms\n",
      "618:\tlearn: 0.0243607\ttotal: 374ms\tremaining: 230ms\n",
      "619:\tlearn: 0.0243265\ttotal: 375ms\tremaining: 230ms\n",
      "620:\tlearn: 0.0241738\ttotal: 375ms\tremaining: 229ms\n",
      "621:\tlearn: 0.0240268\ttotal: 376ms\tremaining: 228ms\n",
      "622:\tlearn: 0.0240003\ttotal: 376ms\tremaining: 228ms\n",
      "623:\tlearn: 0.0239741\ttotal: 377ms\tremaining: 227ms\n",
      "624:\tlearn: 0.0239484\ttotal: 378ms\tremaining: 227ms\n",
      "625:\tlearn: 0.0239231\ttotal: 378ms\tremaining: 226ms\n",
      "626:\tlearn: 0.0237794\ttotal: 379ms\tremaining: 225ms\n",
      "627:\tlearn: 0.0237545\ttotal: 380ms\tremaining: 225ms\n",
      "628:\tlearn: 0.0237300\ttotal: 380ms\tremaining: 224ms\n",
      "629:\tlearn: 0.0237059\ttotal: 381ms\tremaining: 224ms\n",
      "630:\tlearn: 0.0235654\ttotal: 381ms\tremaining: 223ms\n",
      "631:\tlearn: 0.0235417\ttotal: 382ms\tremaining: 222ms\n",
      "632:\tlearn: 0.0235184\ttotal: 383ms\tremaining: 222ms\n",
      "633:\tlearn: 0.0234955\ttotal: 383ms\tremaining: 221ms\n",
      "634:\tlearn: 0.0233622\ttotal: 384ms\tremaining: 221ms\n",
      "635:\tlearn: 0.0233396\ttotal: 384ms\tremaining: 220ms\n",
      "636:\tlearn: 0.0233174\ttotal: 385ms\tremaining: 219ms\n",
      "637:\tlearn: 0.0232935\ttotal: 385ms\tremaining: 219ms\n",
      "638:\tlearn: 0.0231630\ttotal: 386ms\tremaining: 218ms\n",
      "639:\tlearn: 0.0231392\ttotal: 386ms\tremaining: 217ms\n",
      "640:\tlearn: 0.0231158\ttotal: 387ms\tremaining: 217ms\n",
      "641:\tlearn: 0.0229961\ttotal: 387ms\tremaining: 216ms\n",
      "642:\tlearn: 0.0229294\ttotal: 388ms\tremaining: 215ms\n",
      "643:\tlearn: 0.0228168\ttotal: 388ms\tremaining: 215ms\n",
      "644:\tlearn: 0.0227382\ttotal: 389ms\tremaining: 214ms\n",
      "645:\tlearn: 0.0227171\ttotal: 389ms\tremaining: 213ms\n",
      "646:\tlearn: 0.0225999\ttotal: 389ms\tremaining: 212ms\n",
      "647:\tlearn: 0.0225235\ttotal: 390ms\tremaining: 212ms\n",
      "648:\tlearn: 0.0224100\ttotal: 391ms\tremaining: 211ms\n",
      "649:\tlearn: 0.0222961\ttotal: 391ms\tremaining: 211ms\n",
      "650:\tlearn: 0.0222222\ttotal: 391ms\tremaining: 210ms\n",
      "651:\tlearn: 0.0221111\ttotal: 392ms\tremaining: 209ms\n",
      "652:\tlearn: 0.0220391\ttotal: 392ms\tremaining: 208ms\n",
      "653:\tlearn: 0.0219307\ttotal: 393ms\tremaining: 208ms\n",
      "654:\tlearn: 0.0218054\ttotal: 393ms\tremaining: 207ms\n",
      "655:\tlearn: 0.0216977\ttotal: 394ms\tremaining: 207ms\n",
      "656:\tlearn: 0.0215941\ttotal: 395ms\tremaining: 206ms\n",
      "657:\tlearn: 0.0214889\ttotal: 395ms\tremaining: 206ms\n",
      "658:\tlearn: 0.0213857\ttotal: 396ms\tremaining: 205ms\n",
      "659:\tlearn: 0.0213178\ttotal: 397ms\tremaining: 204ms\n",
      "660:\tlearn: 0.0212172\ttotal: 397ms\tremaining: 204ms\n",
      "661:\tlearn: 0.0211510\ttotal: 398ms\tremaining: 203ms\n",
      "662:\tlearn: 0.0210528\ttotal: 398ms\tremaining: 203ms\n",
      "663:\tlearn: 0.0209883\ttotal: 399ms\tremaining: 202ms\n",
      "664:\tlearn: 0.0209175\ttotal: 400ms\tremaining: 201ms\n",
      "665:\tlearn: 0.0208190\ttotal: 400ms\tremaining: 201ms\n",
      "666:\tlearn: 0.0207124\ttotal: 400ms\tremaining: 200ms\n",
      "667:\tlearn: 0.0206403\ttotal: 401ms\tremaining: 199ms\n",
      "668:\tlearn: 0.0205057\ttotal: 401ms\tremaining: 198ms\n",
      "669:\tlearn: 0.0204029\ttotal: 402ms\tremaining: 198ms\n",
      "670:\tlearn: 0.0202854\ttotal: 402ms\tremaining: 197ms\n",
      "671:\tlearn: 0.0202105\ttotal: 402ms\tremaining: 196ms\n",
      "672:\tlearn: 0.0201369\ttotal: 403ms\tremaining: 196ms\n",
      "673:\tlearn: 0.0200645\ttotal: 404ms\tremaining: 195ms\n",
      "674:\tlearn: 0.0199603\ttotal: 404ms\tremaining: 195ms\n",
      "675:\tlearn: 0.0198341\ttotal: 405ms\tremaining: 194ms\n",
      "676:\tlearn: 0.0197342\ttotal: 405ms\tremaining: 193ms\n",
      "677:\tlearn: 0.0196149\ttotal: 406ms\tremaining: 193ms\n",
      "678:\tlearn: 0.0195093\ttotal: 406ms\tremaining: 192ms\n",
      "679:\tlearn: 0.0193978\ttotal: 407ms\tremaining: 191ms\n",
      "680:\tlearn: 0.0193291\ttotal: 407ms\tremaining: 191ms\n",
      "681:\tlearn: 0.0192616\ttotal: 408ms\tremaining: 190ms\n",
      "682:\tlearn: 0.0191635\ttotal: 408ms\tremaining: 189ms\n",
      "683:\tlearn: 0.0190624\ttotal: 409ms\tremaining: 189ms\n",
      "684:\tlearn: 0.0189968\ttotal: 410ms\tremaining: 188ms\n",
      "685:\tlearn: 0.0189015\ttotal: 410ms\tremaining: 188ms\n",
      "686:\tlearn: 0.0187895\ttotal: 411ms\tremaining: 187ms\n",
      "687:\tlearn: 0.0186801\ttotal: 412ms\tremaining: 187ms\n",
      "688:\tlearn: 0.0185901\ttotal: 412ms\tremaining: 186ms\n",
      "689:\tlearn: 0.0185026\ttotal: 413ms\tremaining: 186ms\n",
      "690:\tlearn: 0.0184176\ttotal: 414ms\tremaining: 185ms\n",
      "691:\tlearn: 0.0183309\ttotal: 414ms\tremaining: 184ms\n",
      "692:\tlearn: 0.0182462\ttotal: 415ms\tremaining: 184ms\n",
      "693:\tlearn: 0.0181635\ttotal: 415ms\tremaining: 183ms\n",
      "694:\tlearn: 0.0180844\ttotal: 416ms\tremaining: 182ms\n",
      "695:\tlearn: 0.0180071\ttotal: 416ms\tremaining: 182ms\n",
      "696:\tlearn: 0.0179266\ttotal: 417ms\tremaining: 181ms\n",
      "697:\tlearn: 0.0178514\ttotal: 417ms\tremaining: 181ms\n",
      "698:\tlearn: 0.0177482\ttotal: 418ms\tremaining: 180ms\n",
      "699:\tlearn: 0.0176733\ttotal: 418ms\tremaining: 179ms\n",
      "700:\tlearn: 0.0176002\ttotal: 419ms\tremaining: 179ms\n",
      "701:\tlearn: 0.0175280\ttotal: 419ms\tremaining: 178ms\n",
      "702:\tlearn: 0.0174284\ttotal: 420ms\tremaining: 177ms\n",
      "703:\tlearn: 0.0173525\ttotal: 420ms\tremaining: 177ms\n",
      "704:\tlearn: 0.0172823\ttotal: 421ms\tremaining: 176ms\n",
      "705:\tlearn: 0.0171840\ttotal: 421ms\tremaining: 176ms\n",
      "706:\tlearn: 0.0171105\ttotal: 422ms\tremaining: 175ms\n",
      "707:\tlearn: 0.0170151\ttotal: 423ms\tremaining: 174ms\n",
      "708:\tlearn: 0.0169382\ttotal: 423ms\tremaining: 174ms\n",
      "709:\tlearn: 0.0168709\ttotal: 424ms\tremaining: 173ms\n",
      "710:\tlearn: 0.0167791\ttotal: 425ms\tremaining: 173ms\n",
      "711:\tlearn: 0.0167051\ttotal: 426ms\tremaining: 172ms\n",
      "712:\tlearn: 0.0166159\ttotal: 426ms\tremaining: 172ms\n",
      "713:\tlearn: 0.0165484\ttotal: 427ms\tremaining: 171ms\n",
      "714:\tlearn: 0.0164616\ttotal: 427ms\tremaining: 170ms\n",
      "715:\tlearn: 0.0163979\ttotal: 428ms\tremaining: 170ms\n",
      "716:\tlearn: 0.0163292\ttotal: 428ms\tremaining: 169ms\n",
      "717:\tlearn: 0.0162767\ttotal: 429ms\tremaining: 168ms\n",
      "718:\tlearn: 0.0162252\ttotal: 429ms\tremaining: 168ms\n",
      "719:\tlearn: 0.0161587\ttotal: 429ms\tremaining: 167ms\n",
      "720:\tlearn: 0.0161085\ttotal: 430ms\tremaining: 166ms\n",
      "721:\tlearn: 0.0160491\ttotal: 431ms\tremaining: 166ms\n",
      "722:\tlearn: 0.0160005\ttotal: 431ms\tremaining: 165ms\n"
     ]
    },
    {
     "name": "stdout",
     "output_type": "stream",
     "text": [
      "723:\tlearn: 0.0159390\ttotal: 432ms\tremaining: 165ms\n",
      "724:\tlearn: 0.0158815\ttotal: 432ms\tremaining: 164ms\n",
      "725:\tlearn: 0.0158182\ttotal: 433ms\tremaining: 163ms\n",
      "726:\tlearn: 0.0157718\ttotal: 433ms\tremaining: 163ms\n",
      "727:\tlearn: 0.0157505\ttotal: 434ms\tremaining: 162ms\n",
      "728:\tlearn: 0.0156923\ttotal: 434ms\tremaining: 161ms\n",
      "729:\tlearn: 0.0156291\ttotal: 435ms\tremaining: 161ms\n",
      "730:\tlearn: 0.0155654\ttotal: 435ms\tremaining: 160ms\n",
      "731:\tlearn: 0.0155049\ttotal: 436ms\tremaining: 160ms\n",
      "732:\tlearn: 0.0154400\ttotal: 436ms\tremaining: 159ms\n",
      "733:\tlearn: 0.0153847\ttotal: 437ms\tremaining: 158ms\n",
      "734:\tlearn: 0.0153631\ttotal: 437ms\tremaining: 158ms\n",
      "735:\tlearn: 0.0153120\ttotal: 437ms\tremaining: 157ms\n",
      "736:\tlearn: 0.0152920\ttotal: 438ms\tremaining: 156ms\n",
      "737:\tlearn: 0.0152314\ttotal: 439ms\tremaining: 156ms\n",
      "738:\tlearn: 0.0151737\ttotal: 439ms\tremaining: 155ms\n",
      "739:\tlearn: 0.0151168\ttotal: 440ms\tremaining: 155ms\n",
      "740:\tlearn: 0.0150610\ttotal: 441ms\tremaining: 154ms\n",
      "741:\tlearn: 0.0150076\ttotal: 441ms\tremaining: 153ms\n",
      "742:\tlearn: 0.0149516\ttotal: 442ms\tremaining: 153ms\n",
      "743:\tlearn: 0.0149078\ttotal: 442ms\tremaining: 152ms\n",
      "744:\tlearn: 0.0148898\ttotal: 443ms\tremaining: 152ms\n",
      "745:\tlearn: 0.0148376\ttotal: 444ms\tremaining: 151ms\n",
      "746:\tlearn: 0.0148198\ttotal: 444ms\tremaining: 150ms\n",
      "747:\tlearn: 0.0147685\ttotal: 445ms\tremaining: 150ms\n",
      "748:\tlearn: 0.0147095\ttotal: 445ms\tremaining: 149ms\n",
      "749:\tlearn: 0.0146901\ttotal: 446ms\tremaining: 149ms\n",
      "750:\tlearn: 0.0146365\ttotal: 446ms\tremaining: 148ms\n",
      "751:\tlearn: 0.0145859\ttotal: 446ms\tremaining: 147ms\n",
      "752:\tlearn: 0.0145690\ttotal: 447ms\tremaining: 147ms\n",
      "753:\tlearn: 0.0145502\ttotal: 447ms\tremaining: 146ms\n",
      "754:\tlearn: 0.0144979\ttotal: 448ms\tremaining: 145ms\n",
      "755:\tlearn: 0.0144405\ttotal: 448ms\tremaining: 145ms\n",
      "756:\tlearn: 0.0143798\ttotal: 449ms\tremaining: 144ms\n",
      "757:\tlearn: 0.0143244\ttotal: 449ms\tremaining: 144ms\n",
      "758:\tlearn: 0.0142651\ttotal: 450ms\tremaining: 143ms\n",
      "759:\tlearn: 0.0141971\ttotal: 451ms\tremaining: 142ms\n",
      "760:\tlearn: 0.0141455\ttotal: 451ms\tremaining: 142ms\n",
      "761:\tlearn: 0.0140797\ttotal: 452ms\tremaining: 141ms\n",
      "762:\tlearn: 0.0140290\ttotal: 452ms\tremaining: 140ms\n",
      "763:\tlearn: 0.0139734\ttotal: 452ms\tremaining: 140ms\n",
      "764:\tlearn: 0.0139059\ttotal: 453ms\tremaining: 139ms\n",
      "765:\tlearn: 0.0138903\ttotal: 453ms\tremaining: 138ms\n",
      "766:\tlearn: 0.0138541\ttotal: 454ms\tremaining: 138ms\n",
      "767:\tlearn: 0.0137990\ttotal: 455ms\tremaining: 137ms\n",
      "768:\tlearn: 0.0137838\ttotal: 455ms\tremaining: 137ms\n",
      "769:\tlearn: 0.0137266\ttotal: 456ms\tremaining: 136ms\n",
      "770:\tlearn: 0.0137126\ttotal: 456ms\tremaining: 135ms\n",
      "771:\tlearn: 0.0136989\ttotal: 457ms\tremaining: 135ms\n",
      "772:\tlearn: 0.0136638\ttotal: 457ms\tremaining: 134ms\n",
      "773:\tlearn: 0.0136179\ttotal: 458ms\tremaining: 134ms\n",
      "774:\tlearn: 0.0135585\ttotal: 458ms\tremaining: 133ms\n",
      "775:\tlearn: 0.0134944\ttotal: 459ms\tremaining: 132ms\n",
      "776:\tlearn: 0.0134493\ttotal: 459ms\tremaining: 132ms\n",
      "777:\tlearn: 0.0133956\ttotal: 460ms\tremaining: 131ms\n",
      "778:\tlearn: 0.0133437\ttotal: 460ms\tremaining: 131ms\n",
      "779:\tlearn: 0.0133310\ttotal: 461ms\tremaining: 130ms\n",
      "780:\tlearn: 0.0132913\ttotal: 461ms\tremaining: 129ms\n",
      "781:\tlearn: 0.0132787\ttotal: 461ms\tremaining: 129ms\n",
      "782:\tlearn: 0.0132664\ttotal: 462ms\tremaining: 128ms\n",
      "783:\tlearn: 0.0132542\ttotal: 462ms\tremaining: 127ms\n",
      "784:\tlearn: 0.0132422\ttotal: 463ms\tremaining: 127ms\n",
      "785:\tlearn: 0.0132276\ttotal: 463ms\tremaining: 126ms\n",
      "786:\tlearn: 0.0131845\ttotal: 464ms\tremaining: 125ms\n",
      "787:\tlearn: 0.0131729\ttotal: 464ms\tremaining: 125ms\n",
      "788:\tlearn: 0.0131302\ttotal: 465ms\tremaining: 124ms\n",
      "789:\tlearn: 0.0130916\ttotal: 465ms\tremaining: 124ms\n",
      "790:\tlearn: 0.0130434\ttotal: 465ms\tremaining: 123ms\n",
      "791:\tlearn: 0.0129967\ttotal: 466ms\tremaining: 122ms\n",
      "792:\tlearn: 0.0129554\ttotal: 466ms\tremaining: 122ms\n",
      "793:\tlearn: 0.0129035\ttotal: 467ms\tremaining: 121ms\n",
      "794:\tlearn: 0.0128529\ttotal: 467ms\tremaining: 121ms\n",
      "795:\tlearn: 0.0128080\ttotal: 468ms\tremaining: 120ms\n",
      "796:\tlearn: 0.0127585\ttotal: 468ms\tremaining: 119ms\n",
      "797:\tlearn: 0.0127152\ttotal: 469ms\tremaining: 119ms\n",
      "798:\tlearn: 0.0126668\ttotal: 469ms\tremaining: 118ms\n",
      "799:\tlearn: 0.0126349\ttotal: 470ms\tremaining: 117ms\n",
      "800:\tlearn: 0.0125639\ttotal: 470ms\tremaining: 117ms\n",
      "801:\tlearn: 0.0125190\ttotal: 471ms\tremaining: 116ms\n",
      "802:\tlearn: 0.0124755\ttotal: 471ms\tremaining: 116ms\n",
      "803:\tlearn: 0.0124634\ttotal: 472ms\tremaining: 115ms\n",
      "804:\tlearn: 0.0124497\ttotal: 472ms\tremaining: 114ms\n",
      "805:\tlearn: 0.0124379\ttotal: 473ms\tremaining: 114ms\n",
      "806:\tlearn: 0.0123968\ttotal: 474ms\tremaining: 113ms\n",
      "807:\tlearn: 0.0123569\ttotal: 474ms\tremaining: 113ms\n",
      "808:\tlearn: 0.0123483\ttotal: 474ms\tremaining: 112ms\n",
      "809:\tlearn: 0.0123094\ttotal: 475ms\tremaining: 111ms\n",
      "810:\tlearn: 0.0123009\ttotal: 475ms\tremaining: 111ms\n",
      "811:\tlearn: 0.0122612\ttotal: 476ms\tremaining: 110ms\n",
      "812:\tlearn: 0.0122209\ttotal: 476ms\tremaining: 109ms\n",
      "813:\tlearn: 0.0121976\ttotal: 477ms\tremaining: 109ms\n",
      "814:\tlearn: 0.0121749\ttotal: 478ms\tremaining: 108ms\n",
      "815:\tlearn: 0.0121380\ttotal: 478ms\tremaining: 108ms\n",
      "816:\tlearn: 0.0121159\ttotal: 478ms\tremaining: 107ms\n",
      "817:\tlearn: 0.0120944\ttotal: 479ms\tremaining: 107ms\n",
      "818:\tlearn: 0.0120734\ttotal: 480ms\tremaining: 106ms\n",
      "819:\tlearn: 0.0120362\ttotal: 480ms\tremaining: 105ms\n",
      "820:\tlearn: 0.0120157\ttotal: 481ms\tremaining: 105ms\n",
      "821:\tlearn: 0.0119958\ttotal: 481ms\tremaining: 104ms\n",
      "822:\tlearn: 0.0119597\ttotal: 481ms\tremaining: 104ms\n",
      "823:\tlearn: 0.0119518\ttotal: 482ms\tremaining: 103ms\n",
      "824:\tlearn: 0.0119324\ttotal: 483ms\tremaining: 102ms\n",
      "825:\tlearn: 0.0118975\ttotal: 483ms\tremaining: 102ms\n",
      "826:\tlearn: 0.0118812\ttotal: 483ms\tremaining: 101ms\n",
      "827:\tlearn: 0.0118474\ttotal: 484ms\tremaining: 101ms\n",
      "828:\tlearn: 0.0118288\ttotal: 485ms\tremaining: 99.9ms\n",
      "829:\tlearn: 0.0118131\ttotal: 485ms\tremaining: 99.3ms\n",
      "830:\tlearn: 0.0117828\ttotal: 485ms\tremaining: 98.7ms\n",
      "831:\tlearn: 0.0117650\ttotal: 486ms\tremaining: 98.1ms\n",
      "832:\tlearn: 0.0117355\ttotal: 487ms\tremaining: 97.6ms\n",
      "833:\tlearn: 0.0117205\ttotal: 487ms\tremaining: 97ms\n",
      "834:\tlearn: 0.0116991\ttotal: 488ms\tremaining: 96.4ms\n",
      "835:\tlearn: 0.0116532\ttotal: 488ms\tremaining: 95.8ms\n",
      "836:\tlearn: 0.0116361\ttotal: 489ms\tremaining: 95.2ms\n",
      "837:\tlearn: 0.0115980\ttotal: 489ms\tremaining: 94.6ms\n",
      "838:\tlearn: 0.0115684\ttotal: 490ms\tremaining: 94ms\n",
      "839:\tlearn: 0.0115248\ttotal: 490ms\tremaining: 93.3ms\n",
      "840:\tlearn: 0.0114936\ttotal: 491ms\tremaining: 92.7ms\n",
      "841:\tlearn: 0.0114727\ttotal: 491ms\tremaining: 92.1ms\n",
      "842:\tlearn: 0.0114450\ttotal: 491ms\tremaining: 91.5ms\n",
      "843:\tlearn: 0.0114025\ttotal: 492ms\tremaining: 90.9ms\n",
      "844:\tlearn: 0.0113359\ttotal: 492ms\tremaining: 90.3ms\n",
      "845:\tlearn: 0.0113001\ttotal: 493ms\tremaining: 89.7ms\n",
      "846:\tlearn: 0.0112724\ttotal: 493ms\tremaining: 89.1ms\n",
      "847:\tlearn: 0.0112071\ttotal: 494ms\tremaining: 88.5ms\n",
      "848:\tlearn: 0.0111662\ttotal: 494ms\tremaining: 87.9ms\n",
      "849:\tlearn: 0.0111020\ttotal: 495ms\tremaining: 87.3ms\n",
      "850:\tlearn: 0.0110929\ttotal: 495ms\tremaining: 86.7ms\n",
      "851:\tlearn: 0.0110695\ttotal: 495ms\tremaining: 86ms\n",
      "852:\tlearn: 0.0110068\ttotal: 496ms\tremaining: 85.4ms\n",
      "853:\tlearn: 0.0109673\ttotal: 496ms\tremaining: 84.8ms\n",
      "854:\tlearn: 0.0109285\ttotal: 497ms\tremaining: 84.2ms\n",
      "855:\tlearn: 0.0109057\ttotal: 497ms\tremaining: 83.6ms\n",
      "856:\tlearn: 0.0108745\ttotal: 498ms\tremaining: 83.1ms\n",
      "857:\tlearn: 0.0108521\ttotal: 498ms\tremaining: 82.4ms\n",
      "858:\tlearn: 0.0108300\ttotal: 499ms\tremaining: 81.9ms\n",
      "859:\tlearn: 0.0107998\ttotal: 500ms\tremaining: 81.3ms\n",
      "860:\tlearn: 0.0107781\ttotal: 500ms\tremaining: 80.7ms\n",
      "861:\tlearn: 0.0107489\ttotal: 501ms\tremaining: 80.2ms\n",
      "862:\tlearn: 0.0107273\ttotal: 501ms\tremaining: 79.6ms\n",
      "863:\tlearn: 0.0107059\ttotal: 502ms\tremaining: 79ms\n",
      "864:\tlearn: 0.0106848\ttotal: 503ms\tremaining: 78.5ms\n",
      "865:\tlearn: 0.0106564\ttotal: 503ms\tremaining: 77.9ms\n",
      "866:\tlearn: 0.0106355\ttotal: 504ms\tremaining: 77.3ms\n",
      "867:\tlearn: 0.0106149\ttotal: 505ms\tremaining: 76.7ms\n",
      "868:\tlearn: 0.0105946\ttotal: 505ms\tremaining: 76.1ms\n",
      "869:\tlearn: 0.0105669\ttotal: 506ms\tremaining: 75.6ms\n",
      "870:\tlearn: 0.0105468\ttotal: 506ms\tremaining: 75ms\n",
      "871:\tlearn: 0.0105270\ttotal: 507ms\tremaining: 74.4ms\n",
      "872:\tlearn: 0.0105189\ttotal: 507ms\tremaining: 73.8ms\n",
      "873:\tlearn: 0.0104994\ttotal: 508ms\tremaining: 73.2ms\n",
      "874:\tlearn: 0.0104399\ttotal: 508ms\tremaining: 72.6ms\n",
      "875:\tlearn: 0.0103821\ttotal: 508ms\tremaining: 72ms\n",
      "876:\tlearn: 0.0103630\ttotal: 509ms\tremaining: 71.3ms\n",
      "877:\tlearn: 0.0103153\ttotal: 509ms\tremaining: 70.8ms\n",
      "878:\tlearn: 0.0103026\ttotal: 510ms\tremaining: 70.1ms\n",
      "879:\tlearn: 0.0102527\ttotal: 510ms\tremaining: 69.6ms\n",
      "880:\tlearn: 0.0102042\ttotal: 510ms\tremaining: 68.9ms\n",
      "881:\tlearn: 0.0101490\ttotal: 511ms\tremaining: 68.3ms\n",
      "882:\tlearn: 0.0101254\ttotal: 511ms\tremaining: 67.8ms\n",
      "883:\tlearn: 0.0100945\ttotal: 512ms\tremaining: 67.2ms\n",
      "884:\tlearn: 0.0100480\ttotal: 512ms\tremaining: 66.6ms\n",
      "885:\tlearn: 0.0100029\ttotal: 513ms\tremaining: 66ms\n",
      "886:\tlearn: 0.0099732\ttotal: 513ms\tremaining: 65.4ms\n",
      "887:\tlearn: 0.0099512\ttotal: 514ms\tremaining: 64.8ms\n",
      "888:\tlearn: 0.0099023\ttotal: 514ms\tremaining: 64.2ms\n",
      "889:\tlearn: 0.0098799\ttotal: 515ms\tremaining: 63.6ms\n",
      "890:\tlearn: 0.0098581\ttotal: 515ms\tremaining: 63ms\n",
      "891:\tlearn: 0.0098294\ttotal: 516ms\tremaining: 62.5ms\n",
      "892:\tlearn: 0.0097863\ttotal: 516ms\tremaining: 61.9ms\n",
      "893:\tlearn: 0.0097251\ttotal: 517ms\tremaining: 61.3ms\n",
      "894:\tlearn: 0.0096997\ttotal: 517ms\tremaining: 60.7ms\n",
      "895:\tlearn: 0.0096527\ttotal: 518ms\tremaining: 60.1ms\n",
      "896:\tlearn: 0.0096339\ttotal: 518ms\tremaining: 59.5ms\n",
      "897:\tlearn: 0.0096156\ttotal: 519ms\tremaining: 58.9ms\n",
      "898:\tlearn: 0.0095946\ttotal: 519ms\tremaining: 58.3ms\n",
      "899:\tlearn: 0.0095674\ttotal: 520ms\tremaining: 57.8ms\n",
      "900:\tlearn: 0.0095196\ttotal: 520ms\tremaining: 57.2ms\n",
      "901:\tlearn: 0.0094605\ttotal: 521ms\tremaining: 56.6ms\n",
      "902:\tlearn: 0.0094361\ttotal: 521ms\tremaining: 56ms\n",
      "903:\tlearn: 0.0093932\ttotal: 522ms\tremaining: 55.4ms\n",
      "904:\tlearn: 0.0093754\ttotal: 522ms\tremaining: 54.8ms\n",
      "905:\tlearn: 0.0093177\ttotal: 522ms\tremaining: 54.2ms\n",
      "906:\tlearn: 0.0092938\ttotal: 523ms\tremaining: 53.6ms\n",
      "907:\tlearn: 0.0092372\ttotal: 523ms\tremaining: 53ms\n",
      "908:\tlearn: 0.0092137\ttotal: 524ms\tremaining: 52.4ms\n",
      "909:\tlearn: 0.0091753\ttotal: 524ms\tremaining: 51.8ms\n",
      "910:\tlearn: 0.0091292\ttotal: 525ms\tremaining: 51.3ms\n",
      "911:\tlearn: 0.0090744\ttotal: 525ms\tremaining: 50.7ms\n",
      "912:\tlearn: 0.0090336\ttotal: 526ms\tremaining: 50.1ms\n",
      "913:\tlearn: 0.0090108\ttotal: 526ms\tremaining: 49.5ms\n",
      "914:\tlearn: 0.0089572\ttotal: 527ms\tremaining: 48.9ms\n",
      "915:\tlearn: 0.0089391\ttotal: 527ms\tremaining: 48.3ms\n",
      "916:\tlearn: 0.0089151\ttotal: 528ms\tremaining: 47.8ms\n",
      "917:\tlearn: 0.0088916\ttotal: 528ms\tremaining: 47.2ms\n",
      "918:\tlearn: 0.0088394\ttotal: 529ms\tremaining: 46.6ms\n"
     ]
    },
    {
     "name": "stdout",
     "output_type": "stream",
     "text": [
      "919:\tlearn: 0.0088005\ttotal: 530ms\tremaining: 46.1ms\n",
      "920:\tlearn: 0.0087777\ttotal: 530ms\tremaining: 45.5ms\n",
      "921:\tlearn: 0.0087606\ttotal: 531ms\tremaining: 44.9ms\n",
      "922:\tlearn: 0.0087382\ttotal: 532ms\tremaining: 44.4ms\n",
      "923:\tlearn: 0.0086877\ttotal: 532ms\tremaining: 43.8ms\n",
      "924:\tlearn: 0.0086655\ttotal: 533ms\tremaining: 43.2ms\n",
      "925:\tlearn: 0.0086437\ttotal: 533ms\tremaining: 42.6ms\n",
      "926:\tlearn: 0.0086012\ttotal: 534ms\tremaining: 42ms\n",
      "927:\tlearn: 0.0085636\ttotal: 534ms\tremaining: 41.4ms\n",
      "928:\tlearn: 0.0085471\ttotal: 535ms\tremaining: 40.9ms\n",
      "929:\tlearn: 0.0085105\ttotal: 535ms\tremaining: 40.3ms\n",
      "930:\tlearn: 0.0084945\ttotal: 536ms\tremaining: 39.7ms\n",
      "931:\tlearn: 0.0084733\ttotal: 536ms\tremaining: 39.1ms\n",
      "932:\tlearn: 0.0084575\ttotal: 537ms\tremaining: 38.5ms\n",
      "933:\tlearn: 0.0084367\ttotal: 537ms\tremaining: 37.9ms\n",
      "934:\tlearn: 0.0084162\ttotal: 537ms\tremaining: 37.4ms\n",
      "935:\tlearn: 0.0084008\ttotal: 538ms\tremaining: 36.8ms\n",
      "936:\tlearn: 0.0083806\ttotal: 538ms\tremaining: 36.2ms\n",
      "937:\tlearn: 0.0083655\ttotal: 539ms\tremaining: 35.6ms\n",
      "938:\tlearn: 0.0083457\ttotal: 539ms\tremaining: 35ms\n",
      "939:\tlearn: 0.0082958\ttotal: 540ms\tremaining: 34.5ms\n",
      "940:\tlearn: 0.0082811\ttotal: 540ms\tremaining: 33.9ms\n",
      "941:\tlearn: 0.0082632\ttotal: 541ms\tremaining: 33.3ms\n",
      "942:\tlearn: 0.0082487\ttotal: 541ms\tremaining: 32.7ms\n",
      "943:\tlearn: 0.0082001\ttotal: 542ms\tremaining: 32.1ms\n",
      "944:\tlearn: 0.0081837\ttotal: 542ms\tremaining: 31.6ms\n",
      "945:\tlearn: 0.0081497\ttotal: 543ms\tremaining: 31ms\n",
      "946:\tlearn: 0.0081212\ttotal: 544ms\tremaining: 30.4ms\n",
      "947:\tlearn: 0.0080935\ttotal: 544ms\tremaining: 29.8ms\n",
      "948:\tlearn: 0.0080604\ttotal: 545ms\tremaining: 29.3ms\n",
      "949:\tlearn: 0.0080469\ttotal: 545ms\tremaining: 28.7ms\n",
      "950:\tlearn: 0.0080337\ttotal: 546ms\tremaining: 28.1ms\n",
      "951:\tlearn: 0.0080016\ttotal: 546ms\tremaining: 27.5ms\n",
      "952:\tlearn: 0.0079822\ttotal: 547ms\tremaining: 27ms\n",
      "953:\tlearn: 0.0079648\ttotal: 547ms\tremaining: 26.4ms\n",
      "954:\tlearn: 0.0079520\ttotal: 548ms\tremaining: 25.8ms\n",
      "955:\tlearn: 0.0079394\ttotal: 549ms\tremaining: 25.2ms\n",
      "956:\tlearn: 0.0079245\ttotal: 549ms\tremaining: 24.7ms\n",
      "957:\tlearn: 0.0078933\ttotal: 550ms\tremaining: 24.1ms\n",
      "958:\tlearn: 0.0078781\ttotal: 550ms\tremaining: 23.5ms\n",
      "959:\tlearn: 0.0078611\ttotal: 551ms\tremaining: 22.9ms\n",
      "960:\tlearn: 0.0078307\ttotal: 551ms\tremaining: 22.4ms\n",
      "961:\tlearn: 0.0078220\ttotal: 552ms\tremaining: 21.8ms\n",
      "962:\tlearn: 0.0077957\ttotal: 552ms\tremaining: 21.2ms\n",
      "963:\tlearn: 0.0077874\ttotal: 552ms\tremaining: 20.6ms\n",
      "964:\tlearn: 0.0077794\ttotal: 553ms\tremaining: 20.1ms\n",
      "965:\tlearn: 0.0077461\ttotal: 553ms\tremaining: 19.5ms\n",
      "966:\tlearn: 0.0077168\ttotal: 554ms\tremaining: 18.9ms\n",
      "967:\tlearn: 0.0077089\ttotal: 554ms\tremaining: 18.3ms\n",
      "968:\tlearn: 0.0076765\ttotal: 555ms\tremaining: 17.7ms\n",
      "969:\tlearn: 0.0076543\ttotal: 555ms\tremaining: 17.2ms\n",
      "970:\tlearn: 0.0076227\ttotal: 556ms\tremaining: 16.6ms\n",
      "971:\tlearn: 0.0075941\ttotal: 556ms\tremaining: 16ms\n",
      "972:\tlearn: 0.0075754\ttotal: 557ms\tremaining: 15.5ms\n",
      "973:\tlearn: 0.0075476\ttotal: 557ms\tremaining: 14.9ms\n",
      "974:\tlearn: 0.0075167\ttotal: 558ms\tremaining: 14.3ms\n",
      "975:\tlearn: 0.0074895\ttotal: 558ms\tremaining: 13.7ms\n",
      "976:\tlearn: 0.0074713\ttotal: 559ms\tremaining: 13.2ms\n",
      "977:\tlearn: 0.0074620\ttotal: 559ms\tremaining: 12.6ms\n",
      "978:\tlearn: 0.0074318\ttotal: 560ms\tremaining: 12ms\n",
      "979:\tlearn: 0.0074052\ttotal: 560ms\tremaining: 11.4ms\n",
      "980:\tlearn: 0.0073790\ttotal: 561ms\tremaining: 10.9ms\n",
      "981:\tlearn: 0.0073545\ttotal: 562ms\tremaining: 10.3ms\n",
      "982:\tlearn: 0.0073455\ttotal: 562ms\tremaining: 9.72ms\n",
      "983:\tlearn: 0.0073367\ttotal: 563ms\tremaining: 9.15ms\n",
      "984:\tlearn: 0.0073118\ttotal: 564ms\tremaining: 8.58ms\n",
      "985:\tlearn: 0.0072864\ttotal: 564ms\tremaining: 8.01ms\n",
      "986:\tlearn: 0.0072777\ttotal: 565ms\tremaining: 7.44ms\n",
      "987:\tlearn: 0.0072486\ttotal: 565ms\tremaining: 6.87ms\n",
      "988:\tlearn: 0.0072401\ttotal: 566ms\tremaining: 6.29ms\n",
      "989:\tlearn: 0.0072318\ttotal: 566ms\tremaining: 5.72ms\n",
      "990:\tlearn: 0.0072276\ttotal: 567ms\tremaining: 5.14ms\n",
      "991:\tlearn: 0.0072036\ttotal: 567ms\tremaining: 4.57ms\n",
      "992:\tlearn: 0.0071746\ttotal: 568ms\tremaining: 4ms\n",
      "993:\tlearn: 0.0071494\ttotal: 568ms\tremaining: 3.43ms\n",
      "994:\tlearn: 0.0071251\ttotal: 569ms\tremaining: 2.86ms\n",
      "995:\tlearn: 0.0071170\ttotal: 569ms\tremaining: 2.28ms\n",
      "996:\tlearn: 0.0071130\ttotal: 569ms\tremaining: 1.71ms\n",
      "997:\tlearn: 0.0070783\ttotal: 570ms\tremaining: 1.14ms\n",
      "998:\tlearn: 0.0070558\ttotal: 570ms\tremaining: 570us\n",
      "999:\tlearn: 0.0070329\ttotal: 571ms\tremaining: 0us\n"
     ]
    },
    {
     "data": {
      "text/plain": [
       "<catboost.core.CatBoostRegressor at 0x7fcae2e19c10>"
      ]
     },
     "execution_count": 9,
     "metadata": {},
     "output_type": "execute_result"
    }
   ],
   "source": [
    "#Train the Model \n",
    "prior_model = ctb.CatBoostRegressor()\n",
    "prior_model.fit(X_train,Y_train)"
   ]
  },
  {
   "cell_type": "code",
   "execution_count": 10,
   "id": "af65dcda",
   "metadata": {
    "execution": {
     "iopub.execute_input": "2022-06-07T07:03:23.729850Z",
     "iopub.status.busy": "2022-06-07T07:03:23.729441Z",
     "iopub.status.idle": "2022-06-07T07:03:23.737407Z",
     "shell.execute_reply": "2022-06-07T07:03:23.737711Z"
    },
    "id": "af65dcda",
    "papermill": {
     "duration": 0.021608,
     "end_time": "2022-06-07T07:03:23.737833",
     "exception": false,
     "start_time": "2022-06-07T07:03:23.716225",
     "status": "completed"
    },
    "tags": []
   },
   "outputs": [
    {
     "data": {
      "application/scrapbook.scrap.json+json": {
       "data": 0.18545394032504794,
       "encoder": "json",
       "name": "Prior Model MSE",
       "version": 1
      }
     },
     "metadata": {
      "scrapbook": {
       "data": true,
       "display": false,
       "name": "Prior Model MSE"
      }
     },
     "output_type": "display_data"
    },
    {
     "data": {
      "application/scrapbook.scrap.json+json": {
       "data": 0.1643630366586619,
       "encoder": "json",
       "name": "ABC Pre-generator MSE",
       "version": 1
      }
     },
     "metadata": {
      "scrapbook": {
       "data": true,
       "display": false,
       "name": "ABC Pre-generator MSE"
      }
     },
     "output_type": "display_data"
    },
    {
     "data": {
      "application/scrapbook.scrap.json+json": {
       "data": 0.33576495044365745,
       "encoder": "json",
       "name": "Prior Model MSE",
       "version": 1
      }
     },
     "metadata": {
      "scrapbook": {
       "data": true,
       "display": false,
       "name": "Prior Model MSE"
      }
     },
     "output_type": "display_data"
    },
    {
     "data": {
      "application/scrapbook.scrap.json+json": {
       "data": 0.3319025075040968,
       "encoder": "json",
       "name": "ABC Pre-generator MSE",
       "version": 1
      }
     },
     "metadata": {
      "scrapbook": {
       "data": true,
       "display": false,
       "name": "ABC Pre-generator MSE"
      }
     },
     "output_type": "display_data"
    }
   ],
   "source": [
    "y_pred = prior_model.predict(X_test)\n",
    "y_abc = y_pred + np.random.normal(0,variance, y_pred.shape) + bias \n",
    "mse = mean_squared_error(y_pred,Y_test)\n",
    "sb.glue(\"Prior Model MSE\",mse)\n",
    "mse = mean_squared_error(y_abc,Y_test)\n",
    "sb.glue(\"ABC Pre-generator MSE\",mse)\n",
    "mae = mean_absolute_error(y_pred,Y_test)\n",
    "sb.glue(\"Prior Model MSE\",mae)\n",
    "mae = mean_absolute_error(y_abc,Y_test)\n",
    "sb.glue(\"ABC Pre-generator MSE\",mae)"
   ]
  },
  {
   "cell_type": "markdown",
   "id": "25609da2",
   "metadata": {
    "papermill": {
     "duration": 0.010077,
     "end_time": "2022-06-07T07:03:23.758958",
     "exception": false,
     "start_time": "2022-06-07T07:03:23.748881",
     "status": "completed"
    },
    "tags": []
   },
   "source": [
    "# ABC GAN Model"
   ]
  },
  {
   "cell_type": "code",
   "execution_count": 11,
   "id": "dfc3464d",
   "metadata": {
    "execution": {
     "iopub.execute_input": "2022-06-07T07:03:23.783419Z",
     "iopub.status.busy": "2022-06-07T07:03:23.783008Z",
     "iopub.status.idle": "2022-06-07T07:03:23.785425Z",
     "shell.execute_reply": "2022-06-07T07:03:23.785670Z"
    },
    "papermill": {
     "duration": 0.016494,
     "end_time": "2022-06-07T07:03:23.785794",
     "exception": false,
     "start_time": "2022-06-07T07:03:23.769300",
     "status": "completed"
    },
    "tags": []
   },
   "outputs": [],
   "source": [
    "gen = network.Generator(n_features+1).to(device)\n",
    "disc = network.Discriminator(n_features+1).to(device)\n",
    "\n",
    "criterion = torch.nn.BCELoss()\n",
    "gen_opt = torch.optim.Adam(gen.parameters(), lr=0.001, betas=(0.5, 0.999))\n",
    "disc_opt = torch.optim.Adam(disc.parameters(), lr=0.001, betas=(0.5, 0.999))"
   ]
  },
  {
   "cell_type": "code",
   "execution_count": 12,
   "id": "b75fdd85",
   "metadata": {
    "execution": {
     "iopub.execute_input": "2022-06-07T07:03:23.809276Z",
     "iopub.status.busy": "2022-06-07T07:03:23.808901Z",
     "iopub.status.idle": "2022-06-07T07:03:38.740601Z",
     "shell.execute_reply": "2022-06-07T07:03:38.740914Z"
    },
    "papermill": {
     "duration": 14.945084,
     "end_time": "2022-06-07T07:03:38.741055",
     "exception": false,
     "start_time": "2022-06-07T07:03:23.795971",
     "status": "completed"
    },
    "tags": []
   },
   "outputs": [
    {
     "data": {
      "image/png": "[encoded data removed]",
      "text/plain": [
       "<Figure size 432x288 with 1 Axes>"
      ]
     },
     "metadata": {
      "needs_background": "light"
     },
     "output_type": "display_data"
    },
    {
     "data": {
      "image/png": "[encoded data removed]",
      "text/plain": [
       "<Figure size 432x288 with 1 Axes>"
      ]
     },
     "metadata": {
      "needs_background": "light"
     },
     "output_type": "display_data"
    }
   ],
   "source": [
    "#Training the ABC_GAN \n",
    "ABC_train_test2.training_GAN(disc,gen,disc_opt,gen_opt,train_data,batch_size,n_epochs,criterion,prior_model,variance,bias,device)"
   ]
  },
  {
   "cell_type": "code",
   "execution_count": 13,
   "id": "1fa7c368",
   "metadata": {
    "execution": {
     "iopub.execute_input": "2022-06-07T07:03:38.766243Z",
     "iopub.status.busy": "2022-06-07T07:03:38.765765Z",
     "iopub.status.idle": "2022-06-07T07:03:38.944665Z",
     "shell.execute_reply": "2022-06-07T07:03:38.944917Z"
    },
    "papermill": {
     "duration": 0.192363,
     "end_time": "2022-06-07T07:03:38.945045",
     "exception": false,
     "start_time": "2022-06-07T07:03:38.752682",
     "status": "completed"
    },
    "tags": []
   },
   "outputs": [
    {
     "data": {
      "application/scrapbook.scrap.json+json": {
       "data": 0.10533518703429808,
       "encoder": "json",
       "name": "ABC-GAN Model 1 MSE",
       "version": 1
      }
     },
     "metadata": {
      "scrapbook": {
       "data": true,
       "display": false,
       "name": "ABC-GAN Model 1 MSE"
      }
     },
     "output_type": "display_data"
    },
    {
     "data": {
      "application/scrapbook.scrap.json+json": {
       "data": 0.2536076802123571,
       "encoder": "json",
       "name": "ABC-GAN Model 1 MAE",
       "version": 1
      }
     },
     "metadata": {
      "scrapbook": {
       "data": true,
       "display": false,
       "name": "ABC-GAN Model 1 MAE"
      }
     },
     "output_type": "display_data"
    },
    {
     "data": {
      "application/scrapbook.scrap.json+json": {
       "data": 5.072153604247141,
       "encoder": "json",
       "name": "ABC-GAN Model 1 Manhattan Distance",
       "version": 1
      }
     },
     "metadata": {
      "scrapbook": {
       "data": true,
       "display": false,
       "name": "ABC-GAN Model 1 Manhattan Distance"
      }
     },
     "output_type": "display_data"
    },
    {
     "data": {
      "application/scrapbook.scrap.json+json": {
       "data": 1.4499235932899963,
       "encoder": "json",
       "name": "ABC-GAN Model 1 Euclidean distance",
       "version": 1
      }
     },
     "metadata": {
      "scrapbook": {
       "data": true,
       "display": false,
       "name": "ABC-GAN Model 1 Euclidean distance"
      }
     },
     "output_type": "display_data"
    },
    {
     "data": {
      "application/scrapbook.scrap.json+json": {
       "data": [
        [
         0.11424913994983998,
         0.10899655506456662,
         0.08984582679145933,
         0.10004953174740847,
         0.09641957356026942,
         0.1130256874739993,
         0.12318140586811463,
         0.11285820062532112,
         0.09401892584516991,
         0.10995652940817355,
         0.1099661041430362,
         0.12095320219586611,
         0.10699520158001874,
         0.09396854217832944,
         0.0846474954559727,
         0.09078919241190635,
         0.08781204773688246,
         0.10372057206929508,
         0.11272574315275223,
         0.09425893610172266,
         0.10877282536152735,
         0.09770383493997539,
         0.1002223721809175,
         0.1015553236669438,
         0.11904349885005353,
         0.11326671233621984,
         0.10528523309490219,
         0.09061460300751387,
         0.11362418324123698,
         0.09579948561210969,
         0.10895611228917841,
         0.09693679778197022,
         0.09871307895009218,
         0.11649131843192354,
         0.10910340932973721,
         0.09600656946692496,
         0.10728845916995042,
         0.10886866280405746,
         0.1005854490477116,
         0.1049482390421614,
         0.10540597185528133,
         0.12351531604420714,
         0.12276479860925726,
         0.1036350269012611,
         0.09377697631977455,
         0.11920319470592973,
         0.10566416809841575,
         0.10802110769566098,
         0.10289128159039466,
         0.10264451637256329,
         0.10308920182847561,
         0.09873849930878893,
         0.10923500116420173,
         0.09642868354968291,
         0.10002388101336865,
         0.1079431653186905,
         0.10835003332715076,
         0.10259791021098344,
         0.11312060005607572,
         0.09720868935840303,
         0.10226249504875429,
         0.10849668361548528,
         0.09243515172477618,
         0.09738938119174698,
         0.09963703263397891,
         0.09049506658916094,
         0.1094991769316119,
         0.11326995333860504,
         0.12181741683242153,
         0.11211460482855987,
         0.09393993407986748,
         0.0943772370214188,
         0.13699513288091936,
         0.11010914947743486,
         0.10518065813045094,
         0.10034110398467422,
         0.09391792482516902,
         0.12326530907070013,
         0.10163282874997315,
         0.11267023640975546,
         0.10437425005506551,
         0.11644720427745817,
         0.10020930972487183,
         0.10855674136459839,
         0.09223765271196101,
         0.10291275689753224,
         0.0951083893728675,
         0.09900229457168414,
         0.09872003775833912,
         0.11969027133485466,
         0.11516764638437396,
         0.11300786131019058,
         0.09331486708703332,
         0.1079099248891299,
         0.1277882419107556,
         0.10786007706047163,
         0.09551683900203597,
         0.11363357136617244,
         0.10527143934058751,
         0.11046024435058129
        ],
        [
         0.2632458422333002,
         0.256540172919631,
         0.25201053246855737,
         0.2481221629306674,
         0.23741157203912736,
         0.254333312343806,
         0.2695534544996917,
         0.2598989576101303,
         0.23450376419350505,
         0.2758535148575902,
         0.2588897687382996,
         0.26818994134664537,
         0.2504741785116494,
         0.24254829911515116,
         0.22732020829571412,
         0.24482228411361576,
         0.23399047860875727,
         0.24966408060863615,
         0.2542217687703669,
         0.24896442824974657,
         0.26527212020009755,
         0.2542930967058055,
         0.2543189050629735,
         0.25753123937174677,
         0.26903244042769076,
         0.25717899603769184,
         0.25185823142528535,
         0.23925231089815496,
         0.26777978483587506,
         0.24928160272538663,
         0.26160056330263615,
         0.24218296706676484,
         0.25073649995028974,
         0.2542452283203602,
         0.2630151160992682,
         0.2499624860472977,
         0.25815025679767134,
         0.2605402459274046,
         0.2597384873777628,
         0.2562252071686089,
         0.2533571424894035,
         0.2705206853337586,
         0.26451578363776207,
         0.24934057779610158,
         0.2486249728128314,
         0.26561237759888173,
         0.24711591731756927,
         0.24221323393285274,
         0.249419017881155,
         0.24773920429870486,
         0.2669375162571669,
         0.24660154273733498,
         0.25656641330569985,
         0.24367922572419048,
         0.2455385684967041,
         0.2531675766222179,
         0.2528337262570858,
         0.25531147243455055,
         0.2610201444476843,
         0.23476456999778747,
         0.2512026601471007,
         0.26340162307024,
         0.22857647323980929,
         0.2516904938034713,
         0.24673226522281766,
         0.23809850933030247,
         0.2637210410088301,
         0.25637619495391845,
         0.27754503656178714,
         0.26397519186139107,
         0.2449323046952486,
         0.24511778652667998,
         0.28598136408254504,
         0.2655464710667729,
         0.24509550705552102,
         0.24770910684019326,
         0.2453403095714748,
         0.26146937320008873,
         0.2655949518084526,
         0.2573518008925021,
         0.2555394903756678,
         0.2587917236611247,
         0.25662785628810525,
         0.25085414983332155,
         0.23003286449238658,
         0.2555609825998545,
         0.2381769630126655,
         0.2403590302914381,
         0.2582171123474836,
         0.2562958036549389,
         0.253243922162801,
         0.2581516061909497,
         0.24690570775419474,
         0.26514193043112755,
         0.27573460452258586,
         0.25353133752942086,
         0.24418183444067837,
         0.2452665327116847,
         0.24968994492664934,
         0.2553719814866781
        ],
        [
         5.264916844666004,
         5.13080345839262,
         5.040210649371147,
         4.962443258613348,
         4.748231440782547,
         5.086666246876121,
         5.3910690899938345,
         5.197979152202606,
         4.690075283870101,
         5.517070297151804,
         5.177795374765992,
         5.363798826932907,
         5.009483570232987,
         4.850965982303023,
         4.546404165914282,
         4.896445682272315,
         4.679809572175145,
         4.993281612172723,
         5.084435375407338,
         4.979288564994931,
         5.305442404001951,
         5.08586193411611,
         5.08637810125947,
         5.150624787434936,
         5.380648808553815,
         5.143579920753837,
         5.037164628505707,
         4.7850462179630995,
         5.355595696717501,
         4.985632054507732,
         5.232011266052723,
         4.843659341335297,
         5.0147299990057945,
         5.084904566407204,
         5.260302321985364,
         4.999249720945954,
         5.163005135953426,
         5.210804918548092,
         5.194769747555256,
         5.124504143372178,
         5.06714284978807,
         5.410413706675172,
         5.290315672755241,
         4.986811555922031,
         4.972499456256628,
         5.312247551977634,
         4.942318346351385,
         4.844264678657055,
         4.9883803576231,
         4.954784085974097,
         5.338750325143337,
         4.932030854746699,
         5.1313282661139965,
         4.8735845144838095,
         4.910771369934082,
         5.063351532444358,
         5.056674525141716,
         5.1062294486910105,
         5.220402888953686,
         4.6952913999557495,
         5.024053202942014,
         5.2680324614048,
         4.5715294647961855,
         5.0338098760694265,
         4.934645304456353,
         4.7619701866060495,
         5.274420820176601,
         5.127523899078369,
         5.550900731235743,
         5.279503837227821,
         4.898646093904972,
         4.9023557305336,
         5.719627281650901,
         5.310929421335459,
         4.90191014111042,
         4.954182136803865,
         4.906806191429496,
         5.229387464001775,
         5.311899036169052,
         5.147036017850041,
         5.110789807513356,
         5.175834473222494,
         5.132557125762105,
         5.017082996666431,
         4.600657289847732,
         5.111219651997089,
         4.76353926025331,
         4.807180605828762,
         5.164342246949673,
         5.125916073098779,
         5.0648784432560205,
         5.163032123818994,
         4.938114155083895,
         5.302838608622551,
         5.514692090451717,
         5.070626750588417,
         4.883636688813567,
         4.905330654233694,
         4.993798898532987,
         5.1074396297335625
        ],
        [
         1.5116159561862264,
         1.4764589737921376,
         1.3404911547000922,
         1.41456376135831,
         1.388665356090296,
         1.503500498663032,
         1.5695948895693732,
         1.502386106334328,
         1.3712689440454042,
         1.4829465897878693,
         1.483011153990665,
         1.5553340618392315,
         1.4628410821413154,
         1.370901471137364,
         1.3011340857572882,
         1.3475102404947157,
         1.3252324153663195,
         1.44028172292295,
         1.5015042001456556,
         1.373018106957972,
         1.4749428827010715,
         1.3978829345834034,
         1.4157850979645004,
         1.4251689280007742,
         1.5430067974578305,
         1.5051027362689886,
         1.4511046350618704,
         1.3462139726470963,
         1.507475925122766,
         1.3841928016870315,
         1.4761850310118878,
         1.39238498829864,
         1.4050841892932409,
         1.5263768763442633,
         1.4771825163447962,
         1.3856880562877414,
         1.4648444229333737,
         1.4755925101738452,
         1.4183472709298777,
         1.4487804460453033,
         1.451936443893336,
         1.5717208151844724,
         1.5669384072723296,
         1.4396876529390747,
         1.3695033867776636,
         1.544041415933716,
         1.453713645106324,
         1.4698374583310971,
         1.4345123324000715,
         1.432791096933278,
         1.4358913735270897,
         1.4052650946265544,
         1.4780730777887927,
         1.3887309570228707,
         1.41438241655762,
         1.469307083755404,
         1.472073594132785,
         1.43246577767836,
         1.504131643547703,
         1.3943363249833451,
         1.4301223377652297,
         1.4730694730085563,
         1.3596701932805335,
         1.3956316218239466,
         1.4116446623281578,
         1.3453257344536373,
         1.4798592969036746,
         1.5051242695445783,
         1.560880628571074,
         1.4974284946438001,
         1.3706927743288608,
         1.373879449015952,
         1.6552651321218566,
         1.4839754005874548,
         1.4503837983820071,
         1.4166234784491907,
         1.370532194624913,
         1.5701293518095898,
         1.4257126551305712,
         1.5011344803831232,
         1.4448131370877377,
         1.5260878367738744,
         1.415692831972189,
         1.4734771214009288,
         1.3582168656879579,
         1.4346620291729493,
         1.3791909902030792,
         1.4071410346634352,
         1.4051337143371025,
         1.5471927568008754,
         1.5176801137550295,
         1.5033819295853639,
         1.3661249363585553,
         1.4690808343255308,
         1.598675964107521,
         1.4687414820891498,
         1.3821493334805468,
         1.5075382009499623,
         1.4510095750241452,
         1.4863394252362498
        ]
       ],
       "encoder": "json",
       "name": "ABC_GAN_1 Metrics",
       "version": 1
      }
     },
     "metadata": {
      "scrapbook": {
       "data": true,
       "display": false,
       "name": "ABC_GAN_1 Metrics"
      }
     },
     "output_type": "display_data"
    },
    {
     "name": "stdout",
     "output_type": "stream",
     "text": [
      "MSE\n",
      "0.10533518703429808\n"
     ]
    }
   ],
   "source": [
    "ABC_GAN1_metrics=ABC_train_test2.test_generator(gen,test_data,prior_model,variance,bias,\"1\",device)\n",
    "sb.glue(\"ABC_GAN_1 Metrics\",ABC_GAN1_metrics)\n",
    "\n",
    "print(\"MSE\")\n",
    "print(mean(ABC_GAN1_metrics[0]))"
   ]
  },
  {
   "cell_type": "code",
   "execution_count": 14,
   "id": "eb22ce5c",
   "metadata": {
    "execution": {
     "iopub.execute_input": "2022-06-07T07:03:38.973091Z",
     "iopub.status.busy": "2022-06-07T07:03:38.972728Z",
     "iopub.status.idle": "2022-06-07T07:03:39.260504Z",
     "shell.execute_reply": "2022-06-07T07:03:39.260818Z"
    },
    "papermill": {
     "duration": 0.30313,
     "end_time": "2022-06-07T07:03:39.260946",
     "exception": false,
     "start_time": "2022-06-07T07:03:38.957816",
     "status": "completed"
    },
    "tags": []
   },
   "outputs": [
    {
     "data": {
      "image/png": "[encoded data removed]",
      "text/plain": [
       "<Figure size 432x288 with 1 Axes>"
      ]
     },
     "metadata": {
      "needs_background": "light"
     },
     "output_type": "display_data"
    },
    {
     "data": {
      "image/png": "[encoded data removed]",
      "text/plain": [
       "<Figure size 432x288 with 1 Axes>"
      ]
     },
     "metadata": {
      "needs_background": "light"
     },
     "output_type": "display_data"
    },
    {
     "data": {
      "image/png": "[encoded data removed]",
      "text/plain": [
       "<Figure size 432x288 with 1 Axes>"
      ]
     },
     "metadata": {
      "needs_background": "light"
     },
     "output_type": "display_data"
    },
    {
     "data": {
      "image/png": "[encoded data removed]",
      "text/plain": [
       "<Figure size 432x288 with 1 Axes>"
      ]
     },
     "metadata": {
      "needs_background": "light"
     },
     "output_type": "display_data"
    }
   ],
   "source": [
    "sanityChecks.discProbVsError(train_data,disc,device)\n",
    "sanityChecks.discProbVsError(test_data,disc,device)"
   ]
  },
  {
   "cell_type": "markdown",
   "id": "130f3a4d",
   "metadata": {
    "id": "130f3a4d",
    "papermill": {
     "duration": 0.038128,
     "end_time": "2022-06-07T07:03:39.313739",
     "exception": false,
     "start_time": "2022-06-07T07:03:39.275611",
     "status": "completed"
    },
    "tags": []
   },
   "source": [
    "# ABC - GAN Model with skip connection"
   ]
  },
  {
   "cell_type": "code",
   "execution_count": 15,
   "id": "4e43dad1",
   "metadata": {
    "execution": {
     "iopub.execute_input": "2022-06-07T07:03:39.346096Z",
     "iopub.status.busy": "2022-06-07T07:03:39.345708Z",
     "iopub.status.idle": "2022-06-07T07:03:39.348025Z",
     "shell.execute_reply": "2022-06-07T07:03:39.348277Z"
    },
    "id": "4e43dad1",
    "papermill": {
     "duration": 0.020053,
     "end_time": "2022-06-07T07:03:39.348391",
     "exception": false,
     "start_time": "2022-06-07T07:03:39.328338",
     "status": "completed"
    },
    "tags": []
   },
   "outputs": [],
   "source": [
    "#Generator\n",
    "gen3 = network.GeneratorWithSkipConnection(n_features+1).to(device)\n",
    "constraints=network.weightConstraint()\n",
    "#Discriminator \n",
    "disc3 = network.Discriminator(n_features+1).to(device)\n",
    "\n",
    "criterion = torch.nn.BCELoss()\n",
    "gen_opt = torch.optim.Adam(gen3.parameters(), lr=0.001, betas=(0.5, 0.999))\n",
    "disc_opt = torch.optim.Adam(disc3.parameters(), lr=0.001, betas=(0.5, 0.999))\n"
   ]
  },
  {
   "cell_type": "code",
   "execution_count": 16,
   "id": "26acbc37",
   "metadata": {
    "execution": {
     "iopub.execute_input": "2022-06-07T07:03:39.379828Z",
     "iopub.status.busy": "2022-06-07T07:03:39.379453Z",
     "iopub.status.idle": "2022-06-07T07:04:18.718022Z",
     "shell.execute_reply": "2022-06-07T07:04:18.718412Z"
    },
    "id": "26acbc37",
    "papermill": {
     "duration": 39.35546,
     "end_time": "2022-06-07T07:04:18.718538",
     "exception": false,
     "start_time": "2022-06-07T07:03:39.363078",
     "status": "completed"
    },
    "tags": []
   },
   "outputs": [
    {
     "data": {
      "image/png": "[encoded data removed]",
      "text/plain": [
       "<Figure size 432x288 with 1 Axes>"
      ]
     },
     "metadata": {
      "needs_background": "light"
     },
     "output_type": "display_data"
    },
    {
     "data": {
      "image/png": "[encoded data removed]",
      "text/plain": [
       "<Figure size 432x288 with 1 Axes>"
      ]
     },
     "metadata": {
      "needs_background": "light"
     },
     "output_type": "display_data"
    }
   ],
   "source": [
    "ABC_train_test2.training_GAN_skip_connection(disc3,gen3,disc_opt,gen_opt,train_data,batch_size,n_epochs,criterion,prior_model,variance,bias,device)"
   ]
  },
  {
   "cell_type": "code",
   "execution_count": 17,
   "id": "c5e0717b",
   "metadata": {
    "execution": {
     "iopub.execute_input": "2022-06-07T07:04:18.753609Z",
     "iopub.status.busy": "2022-06-07T07:04:18.753111Z",
     "iopub.status.idle": "2022-06-07T07:04:19.028078Z",
     "shell.execute_reply": "2022-06-07T07:04:19.028406Z"
    },
    "id": "c5e0717b",
    "papermill": {
     "duration": 0.294091,
     "end_time": "2022-06-07T07:04:19.028533",
     "exception": false,
     "start_time": "2022-06-07T07:04:18.734442",
     "status": "completed"
    },
    "tags": []
   },
   "outputs": [
    {
     "data": {
      "application/scrapbook.scrap.json+json": {
       "data": 0.08948055221759772,
       "encoder": "json",
       "name": "ABC-GAN Model 3 MSE",
       "version": 1
      }
     },
     "metadata": {
      "scrapbook": {
       "data": true,
       "display": false,
       "name": "ABC-GAN Model 3 MSE"
      }
     },
     "output_type": "display_data"
    },
    {
     "data": {
      "application/scrapbook.scrap.json+json": {
       "data": 0.23231903230026366,
       "encoder": "json",
       "name": "ABC-GAN Model 3 MAE",
       "version": 1
      }
     },
     "metadata": {
      "scrapbook": {
       "data": true,
       "display": false,
       "name": "ABC-GAN Model 3 MAE"
      }
     },
     "output_type": "display_data"
    },
    {
     "data": {
      "application/scrapbook.scrap.json+json": {
       "data": 4.646380646005273,
       "encoder": "json",
       "name": "ABC-GAN Model 3 Manhattan Distance",
       "version": 1
      }
     },
     "metadata": {
      "scrapbook": {
       "data": true,
       "display": false,
       "name": "ABC-GAN Model 3 Manhattan Distance"
      }
     },
     "output_type": "display_data"
    },
    {
     "data": {
      "application/scrapbook.scrap.json+json": {
       "data": 1.3368769754483891,
       "encoder": "json",
       "name": "ABC-GAN Model 3 Euclidean distance",
       "version": 1
      }
     },
     "metadata": {
      "scrapbook": {
       "data": true,
       "display": false,
       "name": "ABC-GAN Model 3 Euclidean distance"
      }
     },
     "output_type": "display_data"
    },
    {
     "data": {
      "application/scrapbook.scrap.json+json": {
       "data": [
        [
         0.09881013232420659,
         0.08810624593827487,
         0.09307596494911854,
         0.09395383917391789,
         0.07879532253122094,
         0.09308693369702477,
         0.0884269088173851,
         0.09739757049695552,
         0.07300029308996717,
         0.09212694862696368,
         0.0859025087264902,
         0.08404155064647359,
         0.09008377039091633,
         0.09620975791852807,
         0.09737902966417204,
         0.09331427125029612,
         0.09399133731477707,
         0.08217579630364027,
         0.08587999066638477,
         0.10219621856336278,
         0.08920140766746344,
         0.08936749136482426,
         0.09721695798721927,
         0.07752763050216827,
         0.0911051198216826,
         0.07322450535560991,
         0.08446355975470658,
         0.09413420311425573,
         0.08646375229795351,
         0.09011587641157091,
         0.09404669689603365,
         0.09249247481011522,
         0.09364400611072811,
         0.08695553705290483,
         0.10333955666793752,
         0.0868326631935507,
         0.08679638269617616,
         0.0952388384803455,
         0.08919483887753417,
         0.09655045798054798,
         0.09309598157189478,
         0.0801983900582621,
         0.08205864588945705,
         0.07932201308341022,
         0.08498287999270719,
         0.08291277322846044,
         0.08482416867918054,
         0.0908053428373774,
         0.09506796310965014,
         0.09097523149251033,
         0.07529265578417542,
         0.08550869828444277,
         0.09095995583334576,
         0.08523171447254944,
         0.09242411456995613,
         0.09307811494355274,
         0.08701066546810311,
         0.09475840358902013,
         0.08689874203930541,
         0.09869949831138042,
         0.0867127913947143,
         0.09192470265265892,
         0.09154334877882805,
         0.08973099985227642,
         0.09703358082235489,
         0.0862755803578347,
         0.0797440127182289,
         0.09700451152469076,
         0.08660971997201056,
         0.08646538481002336,
         0.11100636217215296,
         0.088529594989518,
         0.08929814022833107,
         0.08609331118103039,
         0.09518273043506188,
         0.08773067557264466,
         0.09673882380310614,
         0.08909142864937979,
         0.09753493192209553,
         0.09104042334392415,
         0.09662978971464134,
         0.07570953049266872,
         0.08957036933754228,
         0.0837996016817397,
         0.08642027794410387,
         0.08804903163672424,
         0.08768883798273393,
         0.09791084223892492,
         0.09641015109720244,
         0.07832776946407145,
         0.09165999432074305,
         0.08622854883288954,
         0.09189847525513643,
         0.08804864267850324,
         0.08160899652036425,
         0.08821314723931176,
         0.09266420826206848,
         0.09274831702949121,
         0.08332606334233338,
         0.0858792701355662
        ],
        [
         0.245441922172904,
         0.2307125125080347,
         0.23474959023296832,
         0.23903976641595365,
         0.21969436705112458,
         0.2339297641068697,
         0.23487812355160714,
         0.24678904339671134,
         0.2051600769162178,
         0.2337651841342449,
         0.22773091569542886,
         0.22929542735219002,
         0.22475290670990944,
         0.23537287600338458,
         0.249172942340374,
         0.234626030549407,
         0.2276039317250252,
         0.22054907232522963,
         0.233843332529068,
         0.25312673263251784,
         0.22340360470116138,
         0.23211373314261435,
         0.23529064431786537,
         0.21347995288670063,
         0.23048591203987598,
         0.215543432533741,
         0.22483233064413072,
         0.2332346709445119,
         0.23253407180309296,
         0.2290186695754528,
         0.2354627087712288,
         0.23533757515251635,
         0.2377222128212452,
         0.23269226048141717,
         0.24970355182886123,
         0.2355945184826851,
         0.2342807028442621,
         0.2326472144573927,
         0.22867097593843938,
         0.23016337528824807,
         0.23762690871953965,
         0.2215280279517174,
         0.21999292746186255,
         0.21710762605071068,
         0.21408212333917617,
         0.22803386747837068,
         0.2222298439592123,
         0.24328396767377852,
         0.2462581641972065,
         0.2409581497311592,
         0.22215631492435933,
         0.22985050901770593,
         0.22497248277068138,
         0.21918727345764638,
         0.2380503948777914,
         0.2304799694567919,
         0.23584427908062935,
         0.24954959638416768,
         0.22447656840085983,
         0.24858889691531658,
         0.23353269398212434,
         0.24095104001462458,
         0.233192465826869,
         0.22694073468446732,
         0.2450777918100357,
         0.22809584811329842,
         0.22170183807611465,
         0.2416962582617998,
         0.2212734717875719,
         0.2358716420829296,
         0.25619823969900607,
         0.22886179573833942,
         0.22768915109336377,
         0.22432345561683179,
         0.2327420450747013,
         0.21757634580135346,
         0.2345057860016823,
         0.23700860664248466,
         0.24733952935785056,
         0.23715671636164187,
         0.2527092255651951,
         0.20940284356474875,
         0.24479303658008575,
         0.23499428741633893,
         0.230324899405241,
         0.23187522701919078,
         0.22700731605291366,
         0.23719266504049302,
         0.2548623725771904,
         0.2199032261967659,
         0.24248690754175187,
         0.22984193749725818,
         0.24256314970552922,
         0.22768202275037766,
         0.23446963373571633,
         0.2209411844611168,
         0.23743123263120652,
         0.24406144060194493,
         0.21351452954113484,
         0.22740610726177693
        ],
        [
         4.90883844345808,
         4.614250250160694,
         4.694991804659367,
         4.780795328319073,
         4.3938873410224915,
         4.678595282137394,
         4.697562471032143,
         4.935780867934227,
         4.103201538324356,
         4.675303682684898,
         4.554618313908577,
         4.5859085470438,
         4.495058134198189,
         4.707457520067692,
         4.98345884680748,
         4.69252061098814,
         4.5520786345005035,
         4.410981446504593,
         4.67686665058136,
         5.062534652650356,
         4.468072094023228,
         4.642274662852287,
         4.705812886357307,
         4.269599057734013,
         4.60971824079752,
         4.31086865067482,
         4.496646612882614,
         4.664693418890238,
         4.650681436061859,
         4.580373391509056,
         4.709254175424576,
         4.706751503050327,
         4.754444256424904,
         4.653845209628344,
         4.994071036577225,
         4.711890369653702,
         4.6856140568852425,
         4.652944289147854,
         4.573419518768787,
         4.603267505764961,
         4.752538174390793,
         4.4305605590343475,
         4.399858549237251,
         4.342152521014214,
         4.281642466783524,
         4.560677349567413,
         4.444596879184246,
         4.865679353475571,
         4.92516328394413,
         4.819162994623184,
         4.443126298487186,
         4.597010180354118,
         4.499449655413628,
         4.383745469152927,
         4.761007897555828,
         4.6095993891358376,
         4.716885581612587,
         4.990991927683353,
         4.489531368017197,
         4.971777938306332,
         4.670653879642487,
         4.819020800292492,
         4.66384931653738,
         4.538814693689346,
         4.901555836200714,
         4.561916962265968,
         4.434036761522293,
         4.833925165235996,
         4.425469435751438,
         4.717432841658592,
         5.123964793980122,
         4.5772359147667885,
         4.553783021867275,
         4.486469112336636,
         4.654840901494026,
         4.351526916027069,
         4.690115720033646,
         4.740172132849693,
         4.946790587157011,
         4.743134327232838,
         5.054184511303902,
         4.188056871294975,
         4.895860731601715,
         4.699885748326778,
         4.60649798810482,
         4.637504540383816,
         4.540146321058273,
         4.74385330080986,
         5.097247451543808,
         4.398064523935318,
         4.849738150835037,
         4.596838749945164,
         4.851262994110584,
         4.553640455007553,
         4.689392674714327,
         4.418823689222336,
         4.74862465262413,
         4.8812288120388985,
         4.270290590822697,
         4.5481221452355385
        ],
        [
         1.405774749554185,
         1.3274505334533175,
         1.3643750580329337,
         1.3707942163134326,
         1.2553511264281476,
         1.3644554495990315,
         1.3298639691140226,
         1.395690298719279,
         1.2083070229868496,
         1.3574015516932614,
         1.3107441300764249,
         1.2964686702460155,
         1.3422650289038773,
         1.3871536174377233,
         1.3955574489369618,
         1.3661205748417387,
         1.3710677394992348,
         1.2819968510385684,
         1.3105723228146149,
         1.4296588303743154,
         1.335675167602239,
         1.3369180331256232,
         1.394395625260057,
         1.2452118735554063,
         1.3498527313872621,
         1.2101611905495062,
         1.2997196601937402,
         1.3721093477872361,
         1.3150190287440977,
         1.3425042004520575,
         1.3714714499108878,
         1.3600917234518797,
         1.368532104926502,
         1.3187534800174354,
         1.4376338662395063,
         1.3178214081851205,
         1.3175460727896855,
         1.3801365039759328,
         1.3356259871501015,
         1.389607555970735,
         1.3645217592394399,
         1.2664785040280953,
         1.2810827130943345,
         1.259539702299298,
         1.3037091699662713,
         1.2877326836611738,
         1.302491218236657,
         1.3476300889886468,
         1.378897843276652,
         1.3488901474361086,
         1.2271320693729377,
         1.3077361988141398,
         1.3487768965499503,
         1.3056164404031487,
         1.3595890156216777,
         1.3643908160314826,
         1.3191714480544454,
         1.3766510348597434,
         1.3183227377186924,
         1.404987532410024,
         1.3169114730665408,
         1.3559107835890896,
         1.353095331296565,
         1.3396342773479366,
         1.393079903109329,
         1.3135873047333755,
         1.2628856853906365,
         1.3928712182013867,
         1.3161285649358923,
         1.3150314430463126,
         1.4900091420669401,
         1.330635900534162,
         1.336399193567035,
         1.3121990030557895,
         1.379729904257075,
         1.3246182512153806,
         1.3909624279836328,
         1.3348515172061632,
         1.396674134664887,
         1.3493733608154872,
         1.3901783318311456,
         1.2305245263111884,
         1.3384346778049518,
         1.2946011098538397,
         1.3146883885096412,
         1.3270194545425793,
         1.3243023671558842,
         1.3993630139383055,
         1.3885975017779806,
         1.251621104520625,
         1.3539571213354067,
         1.3132292171048399,
         1.355717339677681,
         1.327016523472886,
         1.2775679748675939,
         1.3282556022039715,
         1.3613537987023687,
         1.3619714903733573,
         1.2909381343994248,
         1.3105668249697626
        ]
       ],
       "encoder": "json",
       "name": "ABC_GAN_3 Metrics",
       "version": 1
      }
     },
     "metadata": {
      "scrapbook": {
       "data": true,
       "display": false,
       "name": "ABC_GAN_3 Metrics"
      }
     },
     "output_type": "display_data"
    },
    {
     "name": "stdout",
     "output_type": "stream",
     "text": [
      "MSE\n",
      "0.08948055221759772\n"
     ]
    }
   ],
   "source": [
    "ABC_GAN3_metrics=ABC_train_test2.test_generator(gen3,test_data,prior_model,variance,bias,\"3\",device)\n",
    "sb.glue(\"ABC_GAN_3 Metrics\",ABC_GAN3_metrics)\n",
    "\n",
    "print(\"MSE\")\n",
    "print(mean(ABC_GAN3_metrics[0]))"
   ]
  },
  {
   "cell_type": "code",
   "execution_count": 18,
   "id": "c8e46b48",
   "metadata": {
    "execution": {
     "iopub.execute_input": "2022-06-07T07:04:19.065729Z",
     "iopub.status.busy": "2022-06-07T07:04:19.065349Z",
     "iopub.status.idle": "2022-06-07T07:04:19.354014Z",
     "shell.execute_reply": "2022-06-07T07:04:19.354346Z"
    },
    "id": "c8e46b48",
    "papermill": {
     "duration": 0.308771,
     "end_time": "2022-06-07T07:04:19.354470",
     "exception": false,
     "start_time": "2022-06-07T07:04:19.045699",
     "status": "completed"
    },
    "tags": []
   },
   "outputs": [
    {
     "data": {
      "image/png": "[encoded data removed]",
      "text/plain": [
       "<Figure size 432x288 with 1 Axes>"
      ]
     },
     "metadata": {
      "needs_background": "light"
     },
     "output_type": "display_data"
    },
    {
     "data": {
      "image/png": "[encoded data removed]",
      "text/plain": [
       "<Figure size 432x288 with 1 Axes>"
      ]
     },
     "metadata": {
      "needs_background": "light"
     },
     "output_type": "display_data"
    },
    {
     "data": {
      "image/png": "[encoded data removed]",
      "text/plain": [
       "<Figure size 432x288 with 1 Axes>"
      ]
     },
     "metadata": {
      "needs_background": "light"
     },
     "output_type": "display_data"
    },
    {
     "data": {
      "image/png": "[encoded data removed]",
      "text/plain": [
       "<Figure size 432x288 with 1 Axes>"
      ]
     },
     "metadata": {
      "needs_background": "light"
     },
     "output_type": "display_data"
    }
   ],
   "source": [
    "sanityChecks.discProbVsError(train_data,disc3,device)\n",
    "sanityChecks.discProbVsError(test_data,disc3,device)"
   ]
  },
  {
   "cell_type": "markdown",
   "id": "a5bd74c3",
   "metadata": {
    "id": "a5bd74c3",
    "papermill": {
     "duration": 0.019287,
     "end_time": "2022-06-07T07:04:19.393222",
     "exception": false,
     "start_time": "2022-06-07T07:04:19.373935",
     "status": "completed"
    },
    "tags": []
   },
   "source": [
    "## Skip Connection Model Analysis - ABC-GAN "
   ]
  },
  {
   "cell_type": "markdown",
   "id": "5744a8bf",
   "metadata": {
    "id": "5744a8bf",
    "papermill": {
     "duration": 0.018877,
     "end_time": "2022-06-07T07:04:19.431110",
     "exception": false,
     "start_time": "2022-06-07T07:04:19.412233",
     "status": "completed"
    },
    "tags": []
   },
   "source": [
    "### Weight Analysis \n",
    "\n",
    "Study the weights of the skip connection layer\n",
    "\n",
    "Equation of the skip connection is \n",
    "\n",
    "$output = y_{gan} * w + y_{abc} * (1-w)$"
   ]
  },
  {
   "cell_type": "code",
   "execution_count": 19,
   "id": "52c31dea",
   "metadata": {
    "execution": {
     "iopub.execute_input": "2022-06-07T07:04:19.471895Z",
     "iopub.status.busy": "2022-06-07T07:04:19.471487Z",
     "iopub.status.idle": "2022-06-07T07:04:19.474835Z",
     "shell.execute_reply": "2022-06-07T07:04:19.475112Z"
    },
    "id": "52c31dea",
    "papermill": {
     "duration": 0.025179,
     "end_time": "2022-06-07T07:04:19.475228",
     "exception": false,
     "start_time": "2022-06-07T07:04:19.450049",
     "status": "completed"
    },
    "tags": []
   },
   "outputs": [
    {
     "name": "stdout",
     "output_type": "stream",
     "text": [
      "Weight of the node at skip connection\n",
      "Parameter containing:\n",
      "tensor([[0.3262]], requires_grad=True)\n"
     ]
    },
    {
     "data": {
      "application/scrapbook.scrap.json+json": {
       "data": 0.32616499066352844,
       "encoder": "json",
       "name": "Skip Connection Weight",
       "version": 1
      }
     },
     "metadata": {
      "scrapbook": {
       "data": true,
       "display": false,
       "name": "Skip Connection Weight"
      }
     },
     "output_type": "display_data"
    }
   ],
   "source": [
    "print(\"Weight of the node at skip connection\")\n",
    "for name,param in gen3.named_parameters():\n",
    "    if(name == \"skipNode.weight\"):\n",
    "        print(param)\n",
    "        sb.glue(\"Skip Connection Weight\",param.item())"
   ]
  }
 ],
 "metadata": {
  "colab": {
   "collapsed_sections": [],
   "name": "ABC_GAN_Model-Catboost_Pre-gen.ipynb",
   "provenance": []
  },
  "interpreter": {
   "hash": "31f2aee4e71d21fbe5cf8b01ff0e069b9275f58929596ceb00d14d90e3e16cd6"
  },
  "kernelspec": {
   "display_name": "Python 3 (ipykernel)",
   "language": "python",
   "name": "python3"
  },
  "language_info": {
   "codemirror_mode": {
    "name": "ipython",
    "version": 3
   },
   "file_extension": ".py",
   "mimetype": "text/x-python",
   "name": "python",
   "nbconvert_exporter": "python",
   "pygments_lexer": "ipython3",
   "version": "3.8.11"
  },
  "papermill": {
   "default_parameters": {},
   "duration": 59.988112,
   "end_time": "2022-06-07T07:04:19.801842",
   "environment_variables": {},
   "exception": null,
   "input_path": "ABC_GAN-Catboost.ipynb",
   "output_path": "./ABC_GAN_Catboost/ABC-GAN_output_8_7.ipynb",
   "parameters": {
    "bias": 0.01,
    "variance": 0.1
   },
   "start_time": "2022-06-07T07:03:19.813730",
   "version": "2.3.3"
  }
 },
 "nbformat": 4,
 "nbformat_minor": 5
}