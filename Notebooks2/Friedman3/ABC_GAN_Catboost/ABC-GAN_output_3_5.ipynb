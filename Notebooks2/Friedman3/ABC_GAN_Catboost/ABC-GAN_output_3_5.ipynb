{
 "cells": [
  {
   "cell_type": "markdown",
   "id": "622780e6",
   "metadata": {
    "id": "622780e6",
    "papermill": {
     "duration": 0.028698,
     "end_time": "2022-06-07T06:18:25.400661",
     "exception": false,
     "start_time": "2022-06-07T06:18:25.371963",
     "status": "completed"
    },
    "tags": []
   },
   "source": [
    "## Import Libraries "
   ]
  },
  {
   "cell_type": "code",
   "execution_count": 1,
   "id": "a62397e3",
   "metadata": {
    "execution": {
     "iopub.execute_input": "2022-06-07T06:18:25.442536Z",
     "iopub.status.busy": "2022-06-07T06:18:25.441855Z",
     "iopub.status.idle": "2022-06-07T06:18:25.444309Z",
     "shell.execute_reply": "2022-06-07T06:18:25.444685Z"
    },
    "id": "a62397e3",
    "papermill": {
     "duration": 0.02481,
     "end_time": "2022-06-07T06:18:25.444928",
     "exception": false,
     "start_time": "2022-06-07T06:18:25.420118",
     "status": "completed"
    },
    "tags": []
   },
   "outputs": [],
   "source": [
    "import warnings\n",
    "import sys\n",
    "sys.path.insert(0, '../../src')\n",
    "warnings.filterwarnings('ignore')"
   ]
  },
  {
   "cell_type": "code",
   "execution_count": 2,
   "id": "d6a4e155",
   "metadata": {
    "execution": {
     "iopub.execute_input": "2022-06-07T06:18:25.466385Z",
     "iopub.status.busy": "2022-06-07T06:18:25.465970Z",
     "iopub.status.idle": "2022-06-07T06:18:27.154368Z",
     "shell.execute_reply": "2022-06-07T06:18:27.154598Z"
    },
    "id": "d6a4e155",
    "papermill": {
     "duration": 1.699509,
     "end_time": "2022-06-07T06:18:27.154729",
     "exception": false,
     "start_time": "2022-06-07T06:18:25.455220",
     "status": "completed"
    },
    "tags": []
   },
   "outputs": [],
   "source": [
    "import ABC_train_test2\n",
    "import friedman1Dataset\n",
    "import network\n",
    "import dataset\n",
    "import sanityChecks\n",
    "import torch \n",
    "import scrapbook as sb\n",
    "from statistics import mean \n",
    "import catboost as ctb \n",
    "from sklearn.model_selection import train_test_split\n",
    "from sklearn.metrics import mean_squared_error,mean_absolute_error\n",
    "import numpy as np"
   ]
  },
  {
   "cell_type": "markdown",
   "id": "2fa5b0f7",
   "metadata": {
    "id": "2fa5b0f7",
    "papermill": {
     "duration": 0.006779,
     "end_time": "2022-06-07T06:18:27.168672",
     "exception": false,
     "start_time": "2022-06-07T06:18:27.161893",
     "status": "completed"
    },
    "tags": []
   },
   "source": [
    "## Parameters "
   ]
  },
  {
   "cell_type": "code",
   "execution_count": 3,
   "id": "783186fb",
   "metadata": {
    "execution": {
     "iopub.execute_input": "2022-06-07T06:18:27.184385Z",
     "iopub.status.busy": "2022-06-07T06:18:27.184024Z",
     "iopub.status.idle": "2022-06-07T06:18:27.185346Z",
     "shell.execute_reply": "2022-06-07T06:18:27.185598Z"
    },
    "id": "783186fb",
    "papermill": {
     "duration": 0.010286,
     "end_time": "2022-06-07T06:18:27.185710",
     "exception": false,
     "start_time": "2022-06-07T06:18:27.175424",
     "status": "completed"
    },
    "tags": [
     "parameters"
    ]
   },
   "outputs": [],
   "source": [
    "variance = 1\n",
    "bias = 1 "
   ]
  },
  {
   "cell_type": "code",
   "execution_count": 4,
   "id": "c229069a",
   "metadata": {
    "execution": {
     "iopub.execute_input": "2022-06-07T06:18:27.201429Z",
     "iopub.status.busy": "2022-06-07T06:18:27.201055Z",
     "iopub.status.idle": "2022-06-07T06:18:27.202330Z",
     "shell.execute_reply": "2022-06-07T06:18:27.202577Z"
    },
    "papermill": {
     "duration": 0.009995,
     "end_time": "2022-06-07T06:18:27.202685",
     "exception": false,
     "start_time": "2022-06-07T06:18:27.192690",
     "status": "completed"
    },
    "tags": [
     "injected-parameters"
    ]
   },
   "outputs": [],
   "source": [
    "# Parameters\n",
    "variance = 0.01\n",
    "bias = 0.1\n"
   ]
  },
  {
   "cell_type": "markdown",
   "id": "391cdbfd",
   "metadata": {
    "id": "391cdbfd",
    "papermill": {
     "duration": 0.006798,
     "end_time": "2022-06-07T06:18:27.216462",
     "exception": false,
     "start_time": "2022-06-07T06:18:27.209664",
     "status": "completed"
    },
    "tags": []
   },
   "source": [
    "## Dataset \n"
   ]
  },
  {
   "cell_type": "code",
   "execution_count": 5,
   "id": "5b51f161",
   "metadata": {
    "execution": {
     "iopub.execute_input": "2022-06-07T06:18:27.232250Z",
     "iopub.status.busy": "2022-06-07T06:18:27.231887Z",
     "iopub.status.idle": "2022-06-07T06:18:27.233106Z",
     "shell.execute_reply": "2022-06-07T06:18:27.233340Z"
    },
    "id": "5b51f161",
    "papermill": {
     "duration": 0.010064,
     "end_time": "2022-06-07T06:18:27.233446",
     "exception": false,
     "start_time": "2022-06-07T06:18:27.223382",
     "status": "completed"
    },
    "tags": []
   },
   "outputs": [],
   "source": [
    "#Parameters \n",
    "n_features = 5\n",
    "n_samples= 100\n",
    "n_target = 1 "
   ]
  },
  {
   "cell_type": "code",
   "execution_count": 6,
   "id": "5d6eced4",
   "metadata": {
    "execution": {
     "iopub.execute_input": "2022-06-07T06:18:27.250815Z",
     "iopub.status.busy": "2022-06-07T06:18:27.249360Z",
     "iopub.status.idle": "2022-06-07T06:18:27.255879Z",
     "shell.execute_reply": "2022-06-07T06:18:27.256135Z"
    },
    "id": "5d6eced4",
    "papermill": {
     "duration": 0.015758,
     "end_time": "2022-06-07T06:18:27.256259",
     "exception": false,
     "start_time": "2022-06-07T06:18:27.240501",
     "status": "completed"
    },
    "tags": []
   },
   "outputs": [
    {
     "name": "stdout",
     "output_type": "stream",
     "text": [
      "         X0        X1        X2        X3        X4         Y\n",
      "0 -0.273303  1.225161  1.386999  0.169983  1.195215  1.410958\n",
      "1  1.440161 -1.262570  1.239129 -1.526443  1.211796 -0.747666\n",
      "2  0.902343 -0.846963 -0.892046 -1.509378 -1.683176 -1.285940\n",
      "3  0.537128 -1.746468 -0.958492 -1.417272 -1.429539 -2.233928\n",
      "4  1.114160  0.334826 -1.200869 -1.060132  0.124081  0.579918\n"
     ]
    }
   ],
   "source": [
    "X,Y = friedman1Dataset.friedman1_data(n_samples,n_features)"
   ]
  },
  {
   "cell_type": "code",
   "execution_count": 7,
   "id": "fe007438",
   "metadata": {
    "execution": {
     "iopub.execute_input": "2022-06-07T06:18:27.277351Z",
     "iopub.status.busy": "2022-06-07T06:18:27.276966Z",
     "iopub.status.idle": "2022-06-07T06:18:27.278272Z",
     "shell.execute_reply": "2022-06-07T06:18:27.278583Z"
    },
    "id": "fe007438",
    "papermill": {
     "duration": 0.014982,
     "end_time": "2022-06-07T06:18:27.278705",
     "exception": false,
     "start_time": "2022-06-07T06:18:27.263723",
     "status": "completed"
    },
    "tags": []
   },
   "outputs": [],
   "source": [
    "#Train test split for dataset \n",
    "X_train,X_test,Y_train,Y_test = train_test_split(X,Y,test_size = 0.2)\n",
    "train_data = dataset.CustomDataset(X_train,Y_train)\n",
    "test_data = dataset.CustomDataset(X_test,Y_test)\n"
   ]
  },
  {
   "cell_type": "markdown",
   "id": "a9a1af34",
   "metadata": {
    "id": "a9a1af34",
    "papermill": {
     "duration": 0.007186,
     "end_time": "2022-06-07T06:18:27.293356",
     "exception": false,
     "start_time": "2022-06-07T06:18:27.286170",
     "status": "completed"
    },
    "tags": []
   },
   "source": [
    "## Training Parameters "
   ]
  },
  {
   "cell_type": "code",
   "execution_count": 8,
   "id": "952b7fc8",
   "metadata": {
    "execution": {
     "iopub.execute_input": "2022-06-07T06:18:27.310105Z",
     "iopub.status.busy": "2022-06-07T06:18:27.309725Z",
     "iopub.status.idle": "2022-06-07T06:18:27.311100Z",
     "shell.execute_reply": "2022-06-07T06:18:27.311348Z"
    },
    "id": "952b7fc8",
    "papermill": {
     "duration": 0.011046,
     "end_time": "2022-06-07T06:18:27.311470",
     "exception": false,
     "start_time": "2022-06-07T06:18:27.300424",
     "status": "completed"
    },
    "tags": []
   },
   "outputs": [],
   "source": [
    "batch_size = 32\n",
    "n_epochs = 1000\n",
    "#Select the device \n",
    "device = torch.device('cuda' if torch.cuda.is_available() else 'cpu')"
   ]
  },
  {
   "cell_type": "markdown",
   "id": "a95e1600",
   "metadata": {
    "id": "a95e1600",
    "papermill": {
     "duration": 0.007066,
     "end_time": "2022-06-07T06:18:27.325756",
     "exception": false,
     "start_time": "2022-06-07T06:18:27.318690",
     "status": "completed"
    },
    "tags": []
   },
   "source": [
    "# ABC Pre-generator Model \n",
    "\n",
    "1. The catboost model is used as a pre-generator model for the ABC-GAN. \n",
    "2. The model is first trained on the entire dataset \n",
    "3. It generats X,Y pairs and we add some Gaussian noise with mean 0 and variance 1 to it which is then feed as input to the generator.\n"
   ]
  },
  {
   "cell_type": "code",
   "execution_count": 9,
   "id": "ff8ce7bd",
   "metadata": {
    "execution": {
     "iopub.execute_input": "2022-06-07T06:18:27.343777Z",
     "iopub.status.busy": "2022-06-07T06:18:27.343387Z",
     "iopub.status.idle": "2022-06-07T06:18:27.967142Z",
     "shell.execute_reply": "2022-06-07T06:18:27.967431Z"
    },
    "id": "ff8ce7bd",
    "papermill": {
     "duration": 0.634689,
     "end_time": "2022-06-07T06:18:27.967561",
     "exception": false,
     "start_time": "2022-06-07T06:18:27.332872",
     "status": "completed"
    },
    "tags": []
   },
   "outputs": [
    {
     "name": "stdout",
     "output_type": "stream",
     "text": [
      "Learning rate set to 0.024897\n",
      "0:\tlearn: 0.9859833\ttotal: 61ms\tremaining: 1m\n",
      "1:\tlearn: 0.9769743\ttotal: 61.7ms\tremaining: 30.8s\n",
      "2:\tlearn: 0.9662700\ttotal: 62.2ms\tremaining: 20.7s\n",
      "3:\tlearn: 0.9553464\ttotal: 62.7ms\tremaining: 15.6s\n",
      "4:\tlearn: 0.9457971\ttotal: 63.3ms\tremaining: 12.6s\n",
      "5:\tlearn: 0.9371633\ttotal: 63.8ms\tremaining: 10.6s\n",
      "6:\tlearn: 0.9266371\ttotal: 64.2ms\tremaining: 9.11s\n",
      "7:\tlearn: 0.9169058\ttotal: 64.7ms\tremaining: 8.03s\n",
      "8:\tlearn: 0.9081759\ttotal: 65.3ms\tremaining: 7.19s\n",
      "9:\tlearn: 0.8989625\ttotal: 65.8ms\tremaining: 6.51s\n",
      "10:\tlearn: 0.8900617\ttotal: 66.2ms\tremaining: 5.95s\n",
      "11:\tlearn: 0.8799659\ttotal: 67.4ms\tremaining: 5.55s\n",
      "12:\tlearn: 0.8698721\ttotal: 67.8ms\tremaining: 5.14s\n",
      "13:\tlearn: 0.8618407\ttotal: 68.1ms\tremaining: 4.8s\n",
      "14:\tlearn: 0.8535385\ttotal: 68.6ms\tremaining: 4.5s\n",
      "15:\tlearn: 0.8459955\ttotal: 69.1ms\tremaining: 4.25s\n",
      "16:\tlearn: 0.8381176\ttotal: 69.5ms\tremaining: 4.02s\n",
      "17:\tlearn: 0.8294645\ttotal: 70ms\tremaining: 3.82s\n",
      "18:\tlearn: 0.8220347\ttotal: 70.5ms\tremaining: 3.64s\n",
      "19:\tlearn: 0.8140634\ttotal: 70.9ms\tremaining: 3.48s\n",
      "20:\tlearn: 0.8050075\ttotal: 71.4ms\tremaining: 3.33s\n",
      "21:\tlearn: 0.7971480\ttotal: 71.8ms\tremaining: 3.19s\n",
      "22:\tlearn: 0.7895935\ttotal: 72.4ms\tremaining: 3.07s\n",
      "23:\tlearn: 0.7805545\ttotal: 72.9ms\tremaining: 2.97s\n",
      "24:\tlearn: 0.7725741\ttotal: 73.4ms\tremaining: 2.86s\n",
      "25:\tlearn: 0.7661032\ttotal: 73.9ms\tremaining: 2.77s\n",
      "26:\tlearn: 0.7584909\ttotal: 74.3ms\tremaining: 2.68s\n",
      "27:\tlearn: 0.7520162\ttotal: 74.7ms\tremaining: 2.59s\n",
      "28:\tlearn: 0.7451798\ttotal: 75.1ms\tremaining: 2.52s\n",
      "29:\tlearn: 0.7381770\ttotal: 75.7ms\tremaining: 2.45s\n",
      "30:\tlearn: 0.7298760\ttotal: 76ms\tremaining: 2.38s\n",
      "31:\tlearn: 0.7231618\ttotal: 76.5ms\tremaining: 2.31s\n",
      "32:\tlearn: 0.7169891\ttotal: 77ms\tremaining: 2.26s\n",
      "33:\tlearn: 0.7100040\ttotal: 77.4ms\tremaining: 2.2s\n",
      "34:\tlearn: 0.7041460\ttotal: 77.8ms\tremaining: 2.15s\n",
      "35:\tlearn: 0.6987249\ttotal: 78.4ms\tremaining: 2.1s\n",
      "36:\tlearn: 0.6918482\ttotal: 78.8ms\tremaining: 2.05s\n",
      "37:\tlearn: 0.6865355\ttotal: 79.2ms\tremaining: 2s\n",
      "38:\tlearn: 0.6800716\ttotal: 79.7ms\tremaining: 1.96s\n",
      "39:\tlearn: 0.6731208\ttotal: 80.1ms\tremaining: 1.92s\n",
      "40:\tlearn: 0.6662966\ttotal: 80.5ms\tremaining: 1.88s\n",
      "41:\tlearn: 0.6608664\ttotal: 80.9ms\tremaining: 1.84s\n",
      "42:\tlearn: 0.6552351\ttotal: 81.2ms\tremaining: 1.81s\n",
      "43:\tlearn: 0.6485809\ttotal: 81.6ms\tremaining: 1.77s\n",
      "44:\tlearn: 0.6426934\ttotal: 82ms\tremaining: 1.74s\n",
      "45:\tlearn: 0.6366629\ttotal: 82.4ms\tremaining: 1.71s\n",
      "46:\tlearn: 0.6305861\ttotal: 82.8ms\tremaining: 1.68s\n",
      "47:\tlearn: 0.6252533\ttotal: 83.2ms\tremaining: 1.65s\n",
      "48:\tlearn: 0.6201822\ttotal: 83.6ms\tremaining: 1.62s\n",
      "49:\tlearn: 0.6146994\ttotal: 84ms\tremaining: 1.6s\n",
      "50:\tlearn: 0.6083074\ttotal: 84.5ms\tremaining: 1.57s\n",
      "51:\tlearn: 0.6028791\ttotal: 84.9ms\tremaining: 1.55s\n",
      "52:\tlearn: 0.5965964\ttotal: 85.3ms\tremaining: 1.52s\n",
      "53:\tlearn: 0.5919729\ttotal: 85.8ms\tremaining: 1.5s\n",
      "54:\tlearn: 0.5861190\ttotal: 86.2ms\tremaining: 1.48s\n",
      "55:\tlearn: 0.5808635\ttotal: 86.7ms\tremaining: 1.46s\n",
      "56:\tlearn: 0.5758292\ttotal: 87.2ms\tremaining: 1.44s\n",
      "57:\tlearn: 0.5714659\ttotal: 87.7ms\tremaining: 1.42s\n",
      "58:\tlearn: 0.5674748\ttotal: 89ms\tremaining: 1.42s\n",
      "59:\tlearn: 0.5626453\ttotal: 89.6ms\tremaining: 1.4s\n",
      "60:\tlearn: 0.5577832\ttotal: 90.1ms\tremaining: 1.39s\n",
      "61:\tlearn: 0.5527844\ttotal: 90.7ms\tremaining: 1.37s\n",
      "62:\tlearn: 0.5473983\ttotal: 91.2ms\tremaining: 1.36s\n",
      "63:\tlearn: 0.5426552\ttotal: 91.6ms\tremaining: 1.34s\n",
      "64:\tlearn: 0.5370119\ttotal: 92ms\tremaining: 1.32s\n",
      "65:\tlearn: 0.5322440\ttotal: 92.5ms\tremaining: 1.31s\n",
      "66:\tlearn: 0.5273099\ttotal: 92.9ms\tremaining: 1.29s\n",
      "67:\tlearn: 0.5228560\ttotal: 93.5ms\tremaining: 1.28s\n",
      "68:\tlearn: 0.5186619\ttotal: 94ms\tremaining: 1.27s\n",
      "69:\tlearn: 0.5146340\ttotal: 94.5ms\tremaining: 1.26s\n",
      "70:\tlearn: 0.5094994\ttotal: 95.2ms\tremaining: 1.25s\n",
      "71:\tlearn: 0.5045919\ttotal: 95.6ms\tremaining: 1.23s\n",
      "72:\tlearn: 0.4997317\ttotal: 96.1ms\tremaining: 1.22s\n",
      "73:\tlearn: 0.4950923\ttotal: 96.7ms\tremaining: 1.21s\n",
      "74:\tlearn: 0.4908931\ttotal: 97.2ms\tremaining: 1.2s\n",
      "75:\tlearn: 0.4869294\ttotal: 97.7ms\tremaining: 1.19s\n",
      "76:\tlearn: 0.4825764\ttotal: 98.3ms\tremaining: 1.18s\n",
      "77:\tlearn: 0.4792064\ttotal: 98.6ms\tremaining: 1.17s\n",
      "78:\tlearn: 0.4754188\ttotal: 99.1ms\tremaining: 1.16s\n",
      "79:\tlearn: 0.4715965\ttotal: 99.6ms\tremaining: 1.15s\n",
      "80:\tlearn: 0.4672469\ttotal: 100ms\tremaining: 1.14s\n",
      "81:\tlearn: 0.4640355\ttotal: 101ms\tremaining: 1.13s\n",
      "82:\tlearn: 0.4601451\ttotal: 101ms\tremaining: 1.12s\n",
      "83:\tlearn: 0.4560655\ttotal: 102ms\tremaining: 1.11s\n",
      "84:\tlearn: 0.4520250\ttotal: 102ms\tremaining: 1.1s\n",
      "85:\tlearn: 0.4483706\ttotal: 103ms\tremaining: 1.09s\n",
      "86:\tlearn: 0.4442539\ttotal: 103ms\tremaining: 1.08s\n",
      "87:\tlearn: 0.4412798\ttotal: 103ms\tremaining: 1.07s\n"
     ]
    },
    {
     "name": "stdout",
     "output_type": "stream",
     "text": [
      "88:\tlearn: 0.4379087\ttotal: 104ms\tremaining: 1.07s\n",
      "89:\tlearn: 0.4342045\ttotal: 105ms\tremaining: 1.06s\n",
      "90:\tlearn: 0.4308149\ttotal: 105ms\tremaining: 1.05s\n",
      "91:\tlearn: 0.4274838\ttotal: 106ms\tremaining: 1.04s\n",
      "92:\tlearn: 0.4240352\ttotal: 106ms\tremaining: 1.03s\n",
      "93:\tlearn: 0.4200817\ttotal: 107ms\tremaining: 1.03s\n",
      "94:\tlearn: 0.4168797\ttotal: 108ms\tremaining: 1.02s\n",
      "95:\tlearn: 0.4130140\ttotal: 108ms\tremaining: 1.02s\n",
      "96:\tlearn: 0.4098587\ttotal: 109ms\tremaining: 1.01s\n",
      "97:\tlearn: 0.4064406\ttotal: 109ms\tremaining: 1s\n",
      "98:\tlearn: 0.4035720\ttotal: 109ms\tremaining: 996ms\n",
      "99:\tlearn: 0.4000288\ttotal: 110ms\tremaining: 989ms\n",
      "100:\tlearn: 0.3968232\ttotal: 110ms\tremaining: 980ms\n",
      "101:\tlearn: 0.3934175\ttotal: 110ms\tremaining: 973ms\n",
      "102:\tlearn: 0.3907467\ttotal: 111ms\tremaining: 966ms\n",
      "103:\tlearn: 0.3873764\ttotal: 111ms\tremaining: 959ms\n",
      "104:\tlearn: 0.3841500\ttotal: 112ms\tremaining: 952ms\n",
      "105:\tlearn: 0.3807599\ttotal: 112ms\tremaining: 947ms\n",
      "106:\tlearn: 0.3774342\ttotal: 113ms\tremaining: 939ms\n",
      "107:\tlearn: 0.3746705\ttotal: 113ms\tremaining: 935ms\n",
      "108:\tlearn: 0.3719913\ttotal: 114ms\tremaining: 929ms\n",
      "109:\tlearn: 0.3687649\ttotal: 114ms\tremaining: 923ms\n",
      "110:\tlearn: 0.3659754\ttotal: 114ms\tremaining: 917ms\n",
      "111:\tlearn: 0.3636971\ttotal: 115ms\tremaining: 911ms\n",
      "112:\tlearn: 0.3608696\ttotal: 115ms\tremaining: 905ms\n",
      "113:\tlearn: 0.3584688\ttotal: 116ms\tremaining: 899ms\n",
      "114:\tlearn: 0.3556383\ttotal: 116ms\tremaining: 895ms\n",
      "115:\tlearn: 0.3522045\ttotal: 117ms\tremaining: 889ms\n",
      "116:\tlearn: 0.3496097\ttotal: 117ms\tremaining: 883ms\n",
      "117:\tlearn: 0.3468430\ttotal: 117ms\tremaining: 877ms\n",
      "118:\tlearn: 0.3448212\ttotal: 118ms\tremaining: 871ms\n",
      "119:\tlearn: 0.3421011\ttotal: 118ms\tremaining: 866ms\n",
      "120:\tlearn: 0.3385667\ttotal: 118ms\tremaining: 860ms\n",
      "121:\tlearn: 0.3360552\ttotal: 119ms\tremaining: 855ms\n",
      "122:\tlearn: 0.3335085\ttotal: 119ms\tremaining: 850ms\n",
      "123:\tlearn: 0.3308537\ttotal: 120ms\tremaining: 844ms\n",
      "124:\tlearn: 0.3280448\ttotal: 120ms\tremaining: 839ms\n",
      "125:\tlearn: 0.3256202\ttotal: 120ms\tremaining: 834ms\n",
      "126:\tlearn: 0.3230450\ttotal: 121ms\tremaining: 829ms\n",
      "127:\tlearn: 0.3202573\ttotal: 121ms\tremaining: 824ms\n",
      "128:\tlearn: 0.3174874\ttotal: 121ms\tremaining: 819ms\n",
      "129:\tlearn: 0.3152104\ttotal: 122ms\tremaining: 815ms\n",
      "130:\tlearn: 0.3131288\ttotal: 122ms\tremaining: 810ms\n",
      "131:\tlearn: 0.3107305\ttotal: 123ms\tremaining: 806ms\n",
      "132:\tlearn: 0.3091054\ttotal: 123ms\tremaining: 801ms\n",
      "133:\tlearn: 0.3067433\ttotal: 123ms\tremaining: 798ms\n",
      "134:\tlearn: 0.3043459\ttotal: 124ms\tremaining: 794ms\n",
      "135:\tlearn: 0.3023598\ttotal: 124ms\tremaining: 789ms\n",
      "136:\tlearn: 0.2996623\ttotal: 125ms\tremaining: 785ms\n",
      "137:\tlearn: 0.2974243\ttotal: 126ms\tremaining: 785ms\n",
      "138:\tlearn: 0.2951831\ttotal: 126ms\tremaining: 780ms\n",
      "139:\tlearn: 0.2930077\ttotal: 126ms\tremaining: 776ms\n",
      "140:\tlearn: 0.2911361\ttotal: 127ms\tremaining: 772ms\n",
      "141:\tlearn: 0.2888285\ttotal: 127ms\tremaining: 769ms\n",
      "142:\tlearn: 0.2866151\ttotal: 128ms\tremaining: 765ms\n",
      "143:\tlearn: 0.2845347\ttotal: 128ms\tremaining: 761ms\n",
      "144:\tlearn: 0.2826419\ttotal: 129ms\tremaining: 758ms\n",
      "145:\tlearn: 0.2803791\ttotal: 129ms\tremaining: 755ms\n",
      "146:\tlearn: 0.2784142\ttotal: 129ms\tremaining: 751ms\n",
      "147:\tlearn: 0.2764965\ttotal: 130ms\tremaining: 748ms\n",
      "148:\tlearn: 0.2745821\ttotal: 130ms\tremaining: 745ms\n",
      "149:\tlearn: 0.2725636\ttotal: 131ms\tremaining: 741ms\n",
      "150:\tlearn: 0.2705119\ttotal: 131ms\tremaining: 738ms\n",
      "151:\tlearn: 0.2686317\ttotal: 132ms\tremaining: 735ms\n",
      "152:\tlearn: 0.2664564\ttotal: 132ms\tremaining: 733ms\n",
      "153:\tlearn: 0.2644182\ttotal: 133ms\tremaining: 730ms\n",
      "154:\tlearn: 0.2621585\ttotal: 133ms\tremaining: 727ms\n",
      "155:\tlearn: 0.2601887\ttotal: 134ms\tremaining: 725ms\n",
      "156:\tlearn: 0.2581484\ttotal: 134ms\tremaining: 721ms\n",
      "157:\tlearn: 0.2562745\ttotal: 135ms\tremaining: 718ms\n",
      "158:\tlearn: 0.2544753\ttotal: 135ms\tremaining: 715ms\n",
      "159:\tlearn: 0.2526317\ttotal: 136ms\tremaining: 712ms\n",
      "160:\tlearn: 0.2508806\ttotal: 136ms\tremaining: 709ms\n",
      "161:\tlearn: 0.2493297\ttotal: 137ms\tremaining: 707ms\n",
      "162:\tlearn: 0.2469618\ttotal: 137ms\tremaining: 704ms\n",
      "163:\tlearn: 0.2453479\ttotal: 137ms\tremaining: 701ms\n",
      "164:\tlearn: 0.2433511\ttotal: 138ms\tremaining: 698ms\n",
      "165:\tlearn: 0.2417872\ttotal: 138ms\tremaining: 695ms\n",
      "166:\tlearn: 0.2401758\ttotal: 139ms\tremaining: 693ms\n",
      "167:\tlearn: 0.2388512\ttotal: 139ms\tremaining: 690ms\n",
      "168:\tlearn: 0.2371355\ttotal: 140ms\tremaining: 688ms\n",
      "169:\tlearn: 0.2354342\ttotal: 140ms\tremaining: 685ms\n",
      "170:\tlearn: 0.2336194\ttotal: 141ms\tremaining: 683ms\n",
      "171:\tlearn: 0.2322064\ttotal: 141ms\tremaining: 680ms\n",
      "172:\tlearn: 0.2301806\ttotal: 142ms\tremaining: 678ms\n",
      "173:\tlearn: 0.2284407\ttotal: 142ms\tremaining: 675ms\n",
      "174:\tlearn: 0.2265928\ttotal: 143ms\tremaining: 673ms\n",
      "175:\tlearn: 0.2246359\ttotal: 143ms\tremaining: 671ms\n",
      "176:\tlearn: 0.2231894\ttotal: 144ms\tremaining: 668ms\n",
      "177:\tlearn: 0.2213984\ttotal: 144ms\tremaining: 665ms\n",
      "178:\tlearn: 0.2194277\ttotal: 145ms\tremaining: 663ms\n",
      "179:\tlearn: 0.2179644\ttotal: 145ms\tremaining: 661ms\n",
      "180:\tlearn: 0.2160940\ttotal: 146ms\tremaining: 659ms\n",
      "181:\tlearn: 0.2142572\ttotal: 146ms\tremaining: 656ms\n",
      "182:\tlearn: 0.2129451\ttotal: 147ms\tremaining: 654ms\n",
      "183:\tlearn: 0.2114210\ttotal: 147ms\tremaining: 652ms\n",
      "184:\tlearn: 0.2095715\ttotal: 147ms\tremaining: 649ms\n",
      "185:\tlearn: 0.2083170\ttotal: 148ms\tremaining: 646ms\n",
      "186:\tlearn: 0.2070011\ttotal: 148ms\tremaining: 643ms\n",
      "187:\tlearn: 0.2053316\ttotal: 148ms\tremaining: 641ms\n",
      "188:\tlearn: 0.2038939\ttotal: 149ms\tremaining: 638ms\n",
      "189:\tlearn: 0.2019225\ttotal: 149ms\tremaining: 635ms\n",
      "190:\tlearn: 0.2002346\ttotal: 149ms\tremaining: 633ms\n",
      "191:\tlearn: 0.1984556\ttotal: 150ms\tremaining: 630ms\n",
      "192:\tlearn: 0.1970632\ttotal: 150ms\tremaining: 628ms\n",
      "193:\tlearn: 0.1960294\ttotal: 150ms\tremaining: 625ms\n",
      "194:\tlearn: 0.1946401\ttotal: 151ms\tremaining: 623ms\n",
      "195:\tlearn: 0.1931845\ttotal: 151ms\tremaining: 620ms\n",
      "196:\tlearn: 0.1918473\ttotal: 152ms\tremaining: 618ms\n",
      "197:\tlearn: 0.1903161\ttotal: 152ms\tremaining: 616ms\n",
      "198:\tlearn: 0.1887335\ttotal: 152ms\tremaining: 614ms\n",
      "199:\tlearn: 0.1875233\ttotal: 153ms\tremaining: 611ms\n",
      "200:\tlearn: 0.1862396\ttotal: 153ms\tremaining: 609ms\n",
      "201:\tlearn: 0.1850456\ttotal: 154ms\tremaining: 607ms\n",
      "202:\tlearn: 0.1836800\ttotal: 154ms\tremaining: 605ms\n",
      "203:\tlearn: 0.1824686\ttotal: 155ms\tremaining: 603ms\n",
      "204:\tlearn: 0.1809993\ttotal: 155ms\tremaining: 601ms\n",
      "205:\tlearn: 0.1796536\ttotal: 155ms\tremaining: 599ms\n",
      "206:\tlearn: 0.1781659\ttotal: 156ms\tremaining: 597ms\n",
      "207:\tlearn: 0.1770417\ttotal: 156ms\tremaining: 595ms\n",
      "208:\tlearn: 0.1759283\ttotal: 157ms\tremaining: 593ms\n",
      "209:\tlearn: 0.1743941\ttotal: 157ms\tremaining: 591ms\n",
      "210:\tlearn: 0.1729272\ttotal: 158ms\tremaining: 590ms\n",
      "211:\tlearn: 0.1716439\ttotal: 158ms\tremaining: 588ms\n",
      "212:\tlearn: 0.1703555\ttotal: 159ms\tremaining: 586ms\n",
      "213:\tlearn: 0.1693582\ttotal: 159ms\tremaining: 584ms\n",
      "214:\tlearn: 0.1681818\ttotal: 159ms\tremaining: 582ms\n",
      "215:\tlearn: 0.1670383\ttotal: 160ms\tremaining: 580ms\n",
      "216:\tlearn: 0.1660127\ttotal: 160ms\tremaining: 578ms\n",
      "217:\tlearn: 0.1649002\ttotal: 161ms\tremaining: 577ms\n",
      "218:\tlearn: 0.1638647\ttotal: 161ms\tremaining: 575ms\n",
      "219:\tlearn: 0.1627511\ttotal: 162ms\tremaining: 573ms\n",
      "220:\tlearn: 0.1618063\ttotal: 162ms\tremaining: 572ms\n",
      "221:\tlearn: 0.1609480\ttotal: 163ms\tremaining: 570ms\n",
      "222:\tlearn: 0.1597683\ttotal: 163ms\tremaining: 568ms\n",
      "223:\tlearn: 0.1586595\ttotal: 163ms\tremaining: 566ms\n",
      "224:\tlearn: 0.1578689\ttotal: 164ms\tremaining: 565ms\n",
      "225:\tlearn: 0.1567131\ttotal: 165ms\tremaining: 564ms\n",
      "226:\tlearn: 0.1557901\ttotal: 165ms\tremaining: 562ms\n",
      "227:\tlearn: 0.1550548\ttotal: 166ms\tremaining: 561ms\n",
      "228:\tlearn: 0.1539037\ttotal: 166ms\tremaining: 559ms\n",
      "229:\tlearn: 0.1531697\ttotal: 166ms\tremaining: 557ms\n",
      "230:\tlearn: 0.1521481\ttotal: 167ms\tremaining: 555ms\n",
      "231:\tlearn: 0.1512291\ttotal: 167ms\tremaining: 553ms\n",
      "232:\tlearn: 0.1501827\ttotal: 168ms\tremaining: 551ms\n",
      "233:\tlearn: 0.1495203\ttotal: 168ms\tremaining: 550ms\n",
      "234:\tlearn: 0.1487719\ttotal: 168ms\tremaining: 548ms\n",
      "235:\tlearn: 0.1477853\ttotal: 169ms\tremaining: 547ms\n",
      "236:\tlearn: 0.1467188\ttotal: 169ms\tremaining: 545ms\n",
      "237:\tlearn: 0.1455672\ttotal: 170ms\tremaining: 544ms\n",
      "238:\tlearn: 0.1448333\ttotal: 170ms\tremaining: 542ms\n",
      "239:\tlearn: 0.1438803\ttotal: 171ms\tremaining: 540ms\n",
      "240:\tlearn: 0.1429893\ttotal: 171ms\tremaining: 538ms\n",
      "241:\tlearn: 0.1420188\ttotal: 172ms\tremaining: 537ms\n",
      "242:\tlearn: 0.1409901\ttotal: 172ms\tremaining: 536ms\n",
      "243:\tlearn: 0.1399941\ttotal: 172ms\tremaining: 534ms\n",
      "244:\tlearn: 0.1391061\ttotal: 173ms\tremaining: 532ms\n",
      "245:\tlearn: 0.1379581\ttotal: 173ms\tremaining: 531ms\n",
      "246:\tlearn: 0.1369472\ttotal: 174ms\tremaining: 530ms\n",
      "247:\tlearn: 0.1362124\ttotal: 174ms\tremaining: 528ms\n",
      "248:\tlearn: 0.1353639\ttotal: 175ms\tremaining: 527ms\n",
      "249:\tlearn: 0.1344054\ttotal: 175ms\tremaining: 525ms\n",
      "250:\tlearn: 0.1336482\ttotal: 176ms\tremaining: 524ms\n",
      "251:\tlearn: 0.1325741\ttotal: 176ms\tremaining: 523ms\n",
      "252:\tlearn: 0.1317558\ttotal: 176ms\tremaining: 521ms\n",
      "253:\tlearn: 0.1308747\ttotal: 177ms\tremaining: 520ms\n",
      "254:\tlearn: 0.1300860\ttotal: 185ms\tremaining: 540ms\n",
      "255:\tlearn: 0.1295031\ttotal: 186ms\tremaining: 540ms\n",
      "256:\tlearn: 0.1289339\ttotal: 186ms\tremaining: 538ms\n",
      "257:\tlearn: 0.1281145\ttotal: 187ms\tremaining: 537ms\n",
      "258:\tlearn: 0.1271408\ttotal: 187ms\tremaining: 535ms\n"
     ]
    },
    {
     "name": "stdout",
     "output_type": "stream",
     "text": [
      "259:\tlearn: 0.1264955\ttotal: 188ms\tremaining: 535ms\n",
      "260:\tlearn: 0.1258251\ttotal: 188ms\tremaining: 533ms\n",
      "261:\tlearn: 0.1251735\ttotal: 189ms\tremaining: 532ms\n",
      "262:\tlearn: 0.1246094\ttotal: 189ms\tremaining: 531ms\n",
      "263:\tlearn: 0.1238999\ttotal: 190ms\tremaining: 529ms\n",
      "264:\tlearn: 0.1233289\ttotal: 190ms\tremaining: 528ms\n",
      "265:\tlearn: 0.1226511\ttotal: 191ms\tremaining: 526ms\n",
      "266:\tlearn: 0.1218972\ttotal: 191ms\tremaining: 525ms\n",
      "267:\tlearn: 0.1211066\ttotal: 192ms\tremaining: 523ms\n",
      "268:\tlearn: 0.1205136\ttotal: 192ms\tremaining: 522ms\n",
      "269:\tlearn: 0.1199926\ttotal: 192ms\tremaining: 520ms\n",
      "270:\tlearn: 0.1189464\ttotal: 193ms\tremaining: 520ms\n",
      "271:\tlearn: 0.1182863\ttotal: 194ms\tremaining: 518ms\n",
      "272:\tlearn: 0.1177983\ttotal: 194ms\tremaining: 517ms\n",
      "273:\tlearn: 0.1172995\ttotal: 195ms\tremaining: 516ms\n",
      "274:\tlearn: 0.1165297\ttotal: 195ms\tremaining: 514ms\n",
      "275:\tlearn: 0.1160283\ttotal: 196ms\tremaining: 513ms\n",
      "276:\tlearn: 0.1152038\ttotal: 196ms\tremaining: 512ms\n",
      "277:\tlearn: 0.1147332\ttotal: 196ms\tremaining: 510ms\n",
      "278:\tlearn: 0.1138721\ttotal: 197ms\tremaining: 509ms\n",
      "279:\tlearn: 0.1131925\ttotal: 197ms\tremaining: 508ms\n",
      "280:\tlearn: 0.1127196\ttotal: 198ms\tremaining: 506ms\n",
      "281:\tlearn: 0.1123081\ttotal: 198ms\tremaining: 505ms\n",
      "282:\tlearn: 0.1114477\ttotal: 199ms\tremaining: 504ms\n",
      "283:\tlearn: 0.1108102\ttotal: 200ms\tremaining: 503ms\n",
      "284:\tlearn: 0.1103501\ttotal: 200ms\tremaining: 502ms\n",
      "285:\tlearn: 0.1099368\ttotal: 200ms\tremaining: 500ms\n",
      "286:\tlearn: 0.1094403\ttotal: 201ms\tremaining: 499ms\n",
      "287:\tlearn: 0.1090347\ttotal: 201ms\tremaining: 497ms\n",
      "288:\tlearn: 0.1082511\ttotal: 202ms\tremaining: 496ms\n",
      "289:\tlearn: 0.1078298\ttotal: 202ms\tremaining: 495ms\n",
      "290:\tlearn: 0.1069568\ttotal: 203ms\tremaining: 494ms\n",
      "291:\tlearn: 0.1064215\ttotal: 203ms\tremaining: 493ms\n",
      "292:\tlearn: 0.1060420\ttotal: 204ms\tremaining: 493ms\n",
      "293:\tlearn: 0.1056371\ttotal: 205ms\tremaining: 491ms\n",
      "294:\tlearn: 0.1052378\ttotal: 205ms\tremaining: 490ms\n",
      "295:\tlearn: 0.1048478\ttotal: 206ms\tremaining: 489ms\n",
      "296:\tlearn: 0.1041485\ttotal: 206ms\tremaining: 488ms\n",
      "297:\tlearn: 0.1034711\ttotal: 206ms\tremaining: 486ms\n",
      "298:\tlearn: 0.1027117\ttotal: 207ms\tremaining: 485ms\n",
      "299:\tlearn: 0.1023283\ttotal: 207ms\tremaining: 484ms\n",
      "300:\tlearn: 0.1019384\ttotal: 208ms\tremaining: 482ms\n",
      "301:\tlearn: 0.1011327\ttotal: 208ms\tremaining: 481ms\n",
      "302:\tlearn: 0.1008009\ttotal: 209ms\tremaining: 480ms\n",
      "303:\tlearn: 0.1003938\ttotal: 209ms\tremaining: 479ms\n",
      "304:\tlearn: 0.1000415\ttotal: 210ms\tremaining: 478ms\n",
      "305:\tlearn: 0.0992784\ttotal: 210ms\tremaining: 477ms\n",
      "306:\tlearn: 0.0986209\ttotal: 211ms\tremaining: 475ms\n",
      "307:\tlearn: 0.0979992\ttotal: 211ms\tremaining: 474ms\n",
      "308:\tlearn: 0.0976561\ttotal: 212ms\tremaining: 473ms\n",
      "309:\tlearn: 0.0968872\ttotal: 212ms\tremaining: 472ms\n",
      "310:\tlearn: 0.0961728\ttotal: 213ms\tremaining: 471ms\n",
      "311:\tlearn: 0.0958393\ttotal: 213ms\tremaining: 470ms\n",
      "312:\tlearn: 0.0951510\ttotal: 213ms\tremaining: 468ms\n",
      "313:\tlearn: 0.0946870\ttotal: 214ms\tremaining: 467ms\n",
      "314:\tlearn: 0.0943654\ttotal: 214ms\tremaining: 466ms\n",
      "315:\tlearn: 0.0937052\ttotal: 215ms\tremaining: 465ms\n",
      "316:\tlearn: 0.0930215\ttotal: 215ms\tremaining: 463ms\n",
      "317:\tlearn: 0.0926499\ttotal: 216ms\tremaining: 462ms\n",
      "318:\tlearn: 0.0923681\ttotal: 216ms\tremaining: 461ms\n",
      "319:\tlearn: 0.0920759\ttotal: 217ms\tremaining: 460ms\n",
      "320:\tlearn: 0.0917954\ttotal: 217ms\tremaining: 459ms\n",
      "321:\tlearn: 0.0913997\ttotal: 218ms\tremaining: 458ms\n",
      "322:\tlearn: 0.0911319\ttotal: 218ms\tremaining: 458ms\n",
      "323:\tlearn: 0.0908831\ttotal: 219ms\tremaining: 457ms\n",
      "324:\tlearn: 0.0905389\ttotal: 219ms\tremaining: 455ms\n",
      "325:\tlearn: 0.0901582\ttotal: 220ms\tremaining: 455ms\n",
      "326:\tlearn: 0.0896108\ttotal: 220ms\tremaining: 454ms\n",
      "327:\tlearn: 0.0892443\ttotal: 221ms\tremaining: 452ms\n",
      "328:\tlearn: 0.0890062\ttotal: 221ms\tremaining: 451ms\n",
      "329:\tlearn: 0.0883755\ttotal: 222ms\tremaining: 450ms\n",
      "330:\tlearn: 0.0877421\ttotal: 222ms\tremaining: 450ms\n",
      "331:\tlearn: 0.0871488\ttotal: 223ms\tremaining: 449ms\n",
      "332:\tlearn: 0.0865308\ttotal: 223ms\tremaining: 448ms\n",
      "333:\tlearn: 0.0860473\ttotal: 224ms\tremaining: 447ms\n",
      "334:\tlearn: 0.0855479\ttotal: 224ms\tremaining: 445ms\n",
      "335:\tlearn: 0.0849135\ttotal: 225ms\tremaining: 445ms\n",
      "336:\tlearn: 0.0843159\ttotal: 225ms\tremaining: 443ms\n",
      "337:\tlearn: 0.0840808\ttotal: 226ms\tremaining: 442ms\n",
      "338:\tlearn: 0.0836011\ttotal: 226ms\tremaining: 441ms\n",
      "339:\tlearn: 0.0830319\ttotal: 227ms\tremaining: 440ms\n",
      "340:\tlearn: 0.0824557\ttotal: 227ms\tremaining: 439ms\n",
      "341:\tlearn: 0.0822275\ttotal: 227ms\tremaining: 438ms\n",
      "342:\tlearn: 0.0817655\ttotal: 228ms\tremaining: 437ms\n",
      "343:\tlearn: 0.0812407\ttotal: 228ms\tremaining: 435ms\n",
      "344:\tlearn: 0.0806968\ttotal: 229ms\tremaining: 434ms\n",
      "345:\tlearn: 0.0801885\ttotal: 229ms\tremaining: 433ms\n",
      "346:\tlearn: 0.0796587\ttotal: 230ms\tremaining: 432ms\n",
      "347:\tlearn: 0.0793654\ttotal: 230ms\tremaining: 431ms\n",
      "348:\tlearn: 0.0788569\ttotal: 231ms\tremaining: 430ms\n",
      "349:\tlearn: 0.0783546\ttotal: 231ms\tremaining: 429ms\n",
      "350:\tlearn: 0.0778361\ttotal: 231ms\tremaining: 428ms\n",
      "351:\tlearn: 0.0776378\ttotal: 232ms\tremaining: 427ms\n",
      "352:\tlearn: 0.0773587\ttotal: 232ms\tremaining: 425ms\n",
      "353:\tlearn: 0.0771538\ttotal: 232ms\tremaining: 424ms\n",
      "354:\tlearn: 0.0766616\ttotal: 233ms\tremaining: 423ms\n",
      "355:\tlearn: 0.0761786\ttotal: 233ms\tremaining: 422ms\n",
      "356:\tlearn: 0.0756753\ttotal: 234ms\tremaining: 421ms\n",
      "357:\tlearn: 0.0752063\ttotal: 234ms\tremaining: 420ms\n",
      "358:\tlearn: 0.0749400\ttotal: 235ms\tremaining: 419ms\n",
      "359:\tlearn: 0.0744812\ttotal: 235ms\tremaining: 418ms\n",
      "360:\tlearn: 0.0740801\ttotal: 236ms\tremaining: 417ms\n",
      "361:\tlearn: 0.0736392\ttotal: 236ms\tremaining: 416ms\n",
      "362:\tlearn: 0.0731983\ttotal: 236ms\tremaining: 415ms\n",
      "363:\tlearn: 0.0727699\ttotal: 237ms\tremaining: 414ms\n",
      "364:\tlearn: 0.0725149\ttotal: 238ms\tremaining: 413ms\n",
      "365:\tlearn: 0.0720289\ttotal: 238ms\tremaining: 412ms\n",
      "366:\tlearn: 0.0717819\ttotal: 238ms\tremaining: 411ms\n",
      "367:\tlearn: 0.0715399\ttotal: 239ms\tremaining: 410ms\n",
      "368:\tlearn: 0.0713030\ttotal: 239ms\tremaining: 409ms\n",
      "369:\tlearn: 0.0707445\ttotal: 239ms\tremaining: 408ms\n",
      "370:\tlearn: 0.0705149\ttotal: 240ms\tremaining: 407ms\n",
      "371:\tlearn: 0.0702900\ttotal: 240ms\tremaining: 405ms\n",
      "372:\tlearn: 0.0700697\ttotal: 241ms\tremaining: 404ms\n",
      "373:\tlearn: 0.0696912\ttotal: 241ms\tremaining: 403ms\n",
      "374:\tlearn: 0.0693211\ttotal: 241ms\tremaining: 402ms\n",
      "375:\tlearn: 0.0689591\ttotal: 242ms\tremaining: 401ms\n",
      "376:\tlearn: 0.0686051\ttotal: 242ms\tremaining: 400ms\n",
      "377:\tlearn: 0.0681553\ttotal: 242ms\tremaining: 399ms\n",
      "378:\tlearn: 0.0680441\ttotal: 243ms\tremaining: 398ms\n",
      "379:\tlearn: 0.0679343\ttotal: 243ms\tremaining: 397ms\n",
      "380:\tlearn: 0.0678258\ttotal: 244ms\tremaining: 396ms\n",
      "381:\tlearn: 0.0677185\ttotal: 244ms\tremaining: 395ms\n",
      "382:\tlearn: 0.0676126\ttotal: 244ms\tremaining: 394ms\n",
      "383:\tlearn: 0.0672098\ttotal: 245ms\tremaining: 393ms\n",
      "384:\tlearn: 0.0670098\ttotal: 245ms\tremaining: 392ms\n",
      "385:\tlearn: 0.0668139\ttotal: 246ms\tremaining: 391ms\n",
      "386:\tlearn: 0.0664312\ttotal: 246ms\tremaining: 390ms\n",
      "387:\tlearn: 0.0660516\ttotal: 247ms\tremaining: 389ms\n",
      "388:\tlearn: 0.0658646\ttotal: 247ms\tremaining: 388ms\n",
      "389:\tlearn: 0.0657637\ttotal: 247ms\tremaining: 387ms\n",
      "390:\tlearn: 0.0652812\ttotal: 248ms\tremaining: 386ms\n",
      "391:\tlearn: 0.0647319\ttotal: 248ms\tremaining: 385ms\n",
      "392:\tlearn: 0.0643198\ttotal: 249ms\tremaining: 384ms\n",
      "393:\tlearn: 0.0639132\ttotal: 249ms\tremaining: 383ms\n",
      "394:\tlearn: 0.0635564\ttotal: 249ms\tremaining: 382ms\n",
      "395:\tlearn: 0.0630296\ttotal: 250ms\tremaining: 381ms\n",
      "396:\tlearn: 0.0624918\ttotal: 250ms\tremaining: 380ms\n",
      "397:\tlearn: 0.0619635\ttotal: 251ms\tremaining: 379ms\n",
      "398:\tlearn: 0.0614446\ttotal: 251ms\tremaining: 378ms\n",
      "399:\tlearn: 0.0610891\ttotal: 251ms\tremaining: 377ms\n",
      "400:\tlearn: 0.0605824\ttotal: 252ms\tremaining: 376ms\n",
      "401:\tlearn: 0.0604386\ttotal: 252ms\tremaining: 375ms\n",
      "402:\tlearn: 0.0599419\ttotal: 253ms\tremaining: 374ms\n",
      "403:\tlearn: 0.0598018\ttotal: 253ms\tremaining: 374ms\n",
      "404:\tlearn: 0.0594148\ttotal: 254ms\tremaining: 373ms\n",
      "405:\tlearn: 0.0593276\ttotal: 254ms\tremaining: 372ms\n",
      "406:\tlearn: 0.0588637\ttotal: 255ms\tremaining: 371ms\n",
      "407:\tlearn: 0.0584913\ttotal: 255ms\tremaining: 371ms\n",
      "408:\tlearn: 0.0579902\ttotal: 256ms\tremaining: 370ms\n",
      "409:\tlearn: 0.0576314\ttotal: 256ms\tremaining: 369ms\n",
      "410:\tlearn: 0.0572828\ttotal: 257ms\tremaining: 368ms\n",
      "411:\tlearn: 0.0569753\ttotal: 257ms\tremaining: 367ms\n",
      "412:\tlearn: 0.0564554\ttotal: 257ms\tremaining: 366ms\n",
      "413:\tlearn: 0.0561530\ttotal: 258ms\tremaining: 365ms\n",
      "414:\tlearn: 0.0558262\ttotal: 258ms\tremaining: 364ms\n",
      "415:\tlearn: 0.0556887\ttotal: 259ms\tremaining: 363ms\n",
      "416:\tlearn: 0.0551892\ttotal: 259ms\tremaining: 362ms\n",
      "417:\tlearn: 0.0548967\ttotal: 260ms\tremaining: 361ms\n",
      "418:\tlearn: 0.0545884\ttotal: 260ms\tremaining: 360ms\n",
      "419:\tlearn: 0.0543050\ttotal: 260ms\tremaining: 360ms\n",
      "420:\tlearn: 0.0540036\ttotal: 261ms\tremaining: 359ms\n",
      "421:\tlearn: 0.0537290\ttotal: 261ms\tremaining: 358ms\n",
      "422:\tlearn: 0.0536133\ttotal: 262ms\tremaining: 357ms\n",
      "423:\tlearn: 0.0533196\ttotal: 262ms\tremaining: 356ms\n",
      "424:\tlearn: 0.0530313\ttotal: 263ms\tremaining: 356ms\n",
      "425:\tlearn: 0.0527677\ttotal: 263ms\tremaining: 355ms\n",
      "426:\tlearn: 0.0524858\ttotal: 264ms\tremaining: 354ms\n",
      "427:\tlearn: 0.0521922\ttotal: 265ms\tremaining: 354ms\n",
      "428:\tlearn: 0.0520833\ttotal: 265ms\tremaining: 353ms\n",
      "429:\tlearn: 0.0519762\ttotal: 266ms\tremaining: 352ms\n",
      "430:\tlearn: 0.0517026\ttotal: 266ms\tremaining: 351ms\n",
      "431:\tlearn: 0.0514564\ttotal: 266ms\tremaining: 350ms\n",
      "432:\tlearn: 0.0511889\ttotal: 267ms\tremaining: 350ms\n",
      "433:\tlearn: 0.0509342\ttotal: 267ms\tremaining: 349ms\n",
      "434:\tlearn: 0.0506858\ttotal: 268ms\tremaining: 348ms\n",
      "435:\tlearn: 0.0504124\ttotal: 273ms\tremaining: 353ms\n",
      "436:\tlearn: 0.0501821\ttotal: 274ms\tremaining: 353ms\n",
      "437:\tlearn: 0.0500330\ttotal: 274ms\tremaining: 352ms\n",
      "438:\tlearn: 0.0498874\ttotal: 275ms\tremaining: 351ms\n",
      "439:\tlearn: 0.0497670\ttotal: 275ms\tremaining: 350ms\n",
      "440:\tlearn: 0.0496256\ttotal: 276ms\tremaining: 350ms\n",
      "441:\tlearn: 0.0495083\ttotal: 276ms\tremaining: 349ms\n",
      "442:\tlearn: 0.0493189\ttotal: 277ms\tremaining: 348ms\n",
      "443:\tlearn: 0.0491348\ttotal: 277ms\tremaining: 347ms\n",
      "444:\tlearn: 0.0489557\ttotal: 277ms\tremaining: 346ms\n",
      "445:\tlearn: 0.0487022\ttotal: 278ms\tremaining: 345ms\n",
      "446:\tlearn: 0.0485674\ttotal: 278ms\tremaining: 344ms\n",
      "447:\tlearn: 0.0483948\ttotal: 279ms\tremaining: 344ms\n",
      "448:\tlearn: 0.0482268\ttotal: 279ms\tremaining: 343ms\n",
      "449:\tlearn: 0.0481155\ttotal: 280ms\tremaining: 342ms\n",
      "450:\tlearn: 0.0478794\ttotal: 280ms\tremaining: 341ms\n",
      "451:\tlearn: 0.0477062\ttotal: 281ms\tremaining: 341ms\n",
      "452:\tlearn: 0.0474543\ttotal: 281ms\tremaining: 340ms\n",
      "453:\tlearn: 0.0473462\ttotal: 282ms\tremaining: 339ms\n",
      "454:\tlearn: 0.0472198\ttotal: 282ms\tremaining: 338ms\n",
      "455:\tlearn: 0.0470888\ttotal: 283ms\tremaining: 337ms\n",
      "456:\tlearn: 0.0468618\ttotal: 283ms\tremaining: 336ms\n",
      "457:\tlearn: 0.0467339\ttotal: 284ms\tremaining: 336ms\n",
      "458:\tlearn: 0.0465754\ttotal: 284ms\tremaining: 335ms\n",
      "459:\tlearn: 0.0463398\ttotal: 285ms\tremaining: 334ms\n",
      "460:\tlearn: 0.0461856\ttotal: 285ms\tremaining: 333ms\n",
      "461:\tlearn: 0.0459616\ttotal: 286ms\tremaining: 333ms\n",
      "462:\tlearn: 0.0458126\ttotal: 286ms\tremaining: 332ms\n",
      "463:\tlearn: 0.0456224\ttotal: 287ms\tremaining: 331ms\n",
      "464:\tlearn: 0.0455048\ttotal: 287ms\tremaining: 330ms\n"
     ]
    },
    {
     "name": "stdout",
     "output_type": "stream",
     "text": [
      "465:\tlearn: 0.0453900\ttotal: 288ms\tremaining: 330ms\n",
      "466:\tlearn: 0.0452224\ttotal: 288ms\tremaining: 329ms\n",
      "467:\tlearn: 0.0449829\ttotal: 289ms\tremaining: 328ms\n",
      "468:\tlearn: 0.0448622\ttotal: 289ms\tremaining: 327ms\n",
      "469:\tlearn: 0.0447440\ttotal: 290ms\tremaining: 327ms\n",
      "470:\tlearn: 0.0445244\ttotal: 290ms\tremaining: 326ms\n",
      "471:\tlearn: 0.0444093\ttotal: 291ms\tremaining: 325ms\n",
      "472:\tlearn: 0.0441943\ttotal: 291ms\tremaining: 324ms\n",
      "473:\tlearn: 0.0439831\ttotal: 291ms\tremaining: 323ms\n",
      "474:\tlearn: 0.0437768\ttotal: 292ms\tremaining: 323ms\n",
      "475:\tlearn: 0.0435703\ttotal: 292ms\tremaining: 322ms\n",
      "476:\tlearn: 0.0433674\ttotal: 293ms\tremaining: 321ms\n",
      "477:\tlearn: 0.0430638\ttotal: 293ms\tremaining: 320ms\n",
      "478:\tlearn: 0.0428624\ttotal: 294ms\tremaining: 320ms\n",
      "479:\tlearn: 0.0426804\ttotal: 294ms\tremaining: 319ms\n",
      "480:\tlearn: 0.0425574\ttotal: 295ms\tremaining: 318ms\n",
      "481:\tlearn: 0.0424068\ttotal: 295ms\tremaining: 317ms\n",
      "482:\tlearn: 0.0422544\ttotal: 295ms\tremaining: 316ms\n",
      "483:\tlearn: 0.0421672\ttotal: 296ms\tremaining: 315ms\n",
      "484:\tlearn: 0.0420220\ttotal: 296ms\tremaining: 314ms\n",
      "485:\tlearn: 0.0419569\ttotal: 297ms\tremaining: 314ms\n",
      "486:\tlearn: 0.0417848\ttotal: 297ms\tremaining: 313ms\n",
      "487:\tlearn: 0.0416363\ttotal: 297ms\tremaining: 312ms\n",
      "488:\tlearn: 0.0415219\ttotal: 298ms\tremaining: 311ms\n",
      "489:\tlearn: 0.0414144\ttotal: 298ms\tremaining: 311ms\n",
      "490:\tlearn: 0.0413096\ttotal: 299ms\tremaining: 310ms\n",
      "491:\tlearn: 0.0411654\ttotal: 299ms\tremaining: 309ms\n",
      "492:\tlearn: 0.0411010\ttotal: 300ms\tremaining: 308ms\n",
      "493:\tlearn: 0.0410377\ttotal: 300ms\tremaining: 307ms\n",
      "494:\tlearn: 0.0409725\ttotal: 300ms\tremaining: 306ms\n",
      "495:\tlearn: 0.0406741\ttotal: 301ms\tremaining: 306ms\n",
      "496:\tlearn: 0.0405361\ttotal: 301ms\tremaining: 305ms\n",
      "497:\tlearn: 0.0402460\ttotal: 301ms\tremaining: 304ms\n",
      "498:\tlearn: 0.0401822\ttotal: 302ms\tremaining: 303ms\n",
      "499:\tlearn: 0.0399492\ttotal: 302ms\tremaining: 302ms\n",
      "500:\tlearn: 0.0397434\ttotal: 302ms\tremaining: 301ms\n",
      "501:\tlearn: 0.0395745\ttotal: 303ms\tremaining: 300ms\n",
      "502:\tlearn: 0.0393976\ttotal: 303ms\tremaining: 300ms\n",
      "503:\tlearn: 0.0392355\ttotal: 304ms\tremaining: 299ms\n",
      "504:\tlearn: 0.0390659\ttotal: 304ms\tremaining: 298ms\n",
      "505:\tlearn: 0.0389103\ttotal: 304ms\tremaining: 297ms\n",
      "506:\tlearn: 0.0387475\ttotal: 305ms\tremaining: 296ms\n",
      "507:\tlearn: 0.0385982\ttotal: 305ms\tremaining: 296ms\n",
      "508:\tlearn: 0.0384421\ttotal: 306ms\tremaining: 295ms\n",
      "509:\tlearn: 0.0382986\ttotal: 306ms\tremaining: 294ms\n",
      "510:\tlearn: 0.0381489\ttotal: 307ms\tremaining: 294ms\n",
      "511:\tlearn: 0.0380112\ttotal: 307ms\tremaining: 293ms\n",
      "512:\tlearn: 0.0378498\ttotal: 308ms\tremaining: 292ms\n",
      "513:\tlearn: 0.0377125\ttotal: 308ms\tremaining: 291ms\n",
      "514:\tlearn: 0.0374566\ttotal: 309ms\tremaining: 291ms\n",
      "515:\tlearn: 0.0372885\ttotal: 309ms\tremaining: 290ms\n",
      "516:\tlearn: 0.0372236\ttotal: 310ms\tremaining: 289ms\n",
      "517:\tlearn: 0.0370912\ttotal: 310ms\tremaining: 288ms\n",
      "518:\tlearn: 0.0368439\ttotal: 310ms\tremaining: 288ms\n",
      "519:\tlearn: 0.0367805\ttotal: 311ms\tremaining: 287ms\n",
      "520:\tlearn: 0.0367182\ttotal: 311ms\tremaining: 286ms\n",
      "521:\tlearn: 0.0365733\ttotal: 312ms\tremaining: 285ms\n",
      "522:\tlearn: 0.0365126\ttotal: 312ms\tremaining: 285ms\n",
      "523:\tlearn: 0.0363861\ttotal: 313ms\tremaining: 284ms\n",
      "524:\tlearn: 0.0361474\ttotal: 313ms\tremaining: 283ms\n",
      "525:\tlearn: 0.0360881\ttotal: 314ms\tremaining: 283ms\n",
      "526:\tlearn: 0.0360298\ttotal: 314ms\tremaining: 282ms\n",
      "527:\tlearn: 0.0358909\ttotal: 315ms\tremaining: 281ms\n",
      "528:\tlearn: 0.0356589\ttotal: 315ms\tremaining: 281ms\n",
      "529:\tlearn: 0.0356022\ttotal: 316ms\tremaining: 280ms\n",
      "530:\tlearn: 0.0354786\ttotal: 316ms\tremaining: 279ms\n",
      "531:\tlearn: 0.0354232\ttotal: 317ms\tremaining: 279ms\n",
      "532:\tlearn: 0.0353407\ttotal: 317ms\tremaining: 278ms\n",
      "533:\tlearn: 0.0352203\ttotal: 318ms\tremaining: 277ms\n",
      "534:\tlearn: 0.0351664\ttotal: 318ms\tremaining: 276ms\n",
      "535:\tlearn: 0.0350863\ttotal: 318ms\tremaining: 276ms\n",
      "536:\tlearn: 0.0348637\ttotal: 319ms\tremaining: 275ms\n",
      "537:\tlearn: 0.0348112\ttotal: 320ms\tremaining: 274ms\n",
      "538:\tlearn: 0.0346954\ttotal: 320ms\tremaining: 274ms\n",
      "539:\tlearn: 0.0346441\ttotal: 320ms\tremaining: 273ms\n",
      "540:\tlearn: 0.0345671\ttotal: 321ms\tremaining: 272ms\n",
      "541:\tlearn: 0.0343516\ttotal: 321ms\tremaining: 271ms\n",
      "542:\tlearn: 0.0342399\ttotal: 322ms\tremaining: 271ms\n",
      "543:\tlearn: 0.0341902\ttotal: 322ms\tremaining: 270ms\n",
      "544:\tlearn: 0.0340811\ttotal: 322ms\tremaining: 269ms\n",
      "545:\tlearn: 0.0340325\ttotal: 323ms\tremaining: 268ms\n",
      "546:\tlearn: 0.0339588\ttotal: 323ms\tremaining: 268ms\n",
      "547:\tlearn: 0.0339137\ttotal: 324ms\tremaining: 267ms\n",
      "548:\tlearn: 0.0337881\ttotal: 324ms\tremaining: 266ms\n",
      "549:\tlearn: 0.0335817\ttotal: 325ms\tremaining: 266ms\n",
      "550:\tlearn: 0.0335379\ttotal: 325ms\tremaining: 265ms\n",
      "551:\tlearn: 0.0334948\ttotal: 326ms\tremaining: 264ms\n",
      "552:\tlearn: 0.0334303\ttotal: 326ms\tremaining: 264ms\n",
      "553:\tlearn: 0.0332295\ttotal: 327ms\tremaining: 263ms\n",
      "554:\tlearn: 0.0331876\ttotal: 327ms\tremaining: 262ms\n",
      "555:\tlearn: 0.0331464\ttotal: 328ms\tremaining: 262ms\n",
      "556:\tlearn: 0.0330004\ttotal: 328ms\tremaining: 261ms\n",
      "557:\tlearn: 0.0328615\ttotal: 329ms\tremaining: 260ms\n",
      "558:\tlearn: 0.0328215\ttotal: 330ms\tremaining: 260ms\n",
      "559:\tlearn: 0.0327820\ttotal: 330ms\tremaining: 259ms\n",
      "560:\tlearn: 0.0326612\ttotal: 330ms\tremaining: 259ms\n",
      "561:\tlearn: 0.0326225\ttotal: 331ms\tremaining: 258ms\n",
      "562:\tlearn: 0.0323848\ttotal: 331ms\tremaining: 257ms\n",
      "563:\tlearn: 0.0323463\ttotal: 332ms\tremaining: 257ms\n",
      "564:\tlearn: 0.0323088\ttotal: 332ms\tremaining: 256ms\n",
      "565:\tlearn: 0.0320766\ttotal: 333ms\tremaining: 255ms\n",
      "566:\tlearn: 0.0320389\ttotal: 334ms\tremaining: 255ms\n",
      "567:\tlearn: 0.0318116\ttotal: 334ms\tremaining: 254ms\n",
      "568:\tlearn: 0.0317857\ttotal: 334ms\tremaining: 253ms\n",
      "569:\tlearn: 0.0317602\ttotal: 335ms\tremaining: 253ms\n",
      "570:\tlearn: 0.0317350\ttotal: 335ms\tremaining: 252ms\n",
      "571:\tlearn: 0.0316675\ttotal: 336ms\tremaining: 251ms\n",
      "572:\tlearn: 0.0314457\ttotal: 336ms\tremaining: 251ms\n",
      "573:\tlearn: 0.0314211\ttotal: 337ms\tremaining: 250ms\n",
      "574:\tlearn: 0.0312705\ttotal: 337ms\tremaining: 249ms\n",
      "575:\tlearn: 0.0311249\ttotal: 338ms\tremaining: 248ms\n",
      "576:\tlearn: 0.0309107\ttotal: 338ms\tremaining: 248ms\n",
      "577:\tlearn: 0.0307023\ttotal: 339ms\tremaining: 247ms\n",
      "578:\tlearn: 0.0306784\ttotal: 339ms\tremaining: 247ms\n",
      "579:\tlearn: 0.0306548\ttotal: 339ms\tremaining: 246ms\n",
      "580:\tlearn: 0.0306316\ttotal: 340ms\tremaining: 245ms\n",
      "581:\tlearn: 0.0305192\ttotal: 340ms\tremaining: 244ms\n",
      "582:\tlearn: 0.0303761\ttotal: 341ms\tremaining: 244ms\n",
      "583:\tlearn: 0.0302353\ttotal: 341ms\tremaining: 243ms\n",
      "584:\tlearn: 0.0300870\ttotal: 341ms\tremaining: 242ms\n",
      "585:\tlearn: 0.0298869\ttotal: 342ms\tremaining: 241ms\n",
      "586:\tlearn: 0.0297508\ttotal: 342ms\tremaining: 241ms\n",
      "587:\tlearn: 0.0297285\ttotal: 343ms\tremaining: 240ms\n",
      "588:\tlearn: 0.0296758\ttotal: 343ms\tremaining: 239ms\n",
      "589:\tlearn: 0.0295422\ttotal: 344ms\tremaining: 239ms\n",
      "590:\tlearn: 0.0295205\ttotal: 344ms\tremaining: 238ms\n",
      "591:\tlearn: 0.0294691\ttotal: 345ms\tremaining: 238ms\n",
      "592:\tlearn: 0.0293118\ttotal: 345ms\tremaining: 237ms\n",
      "593:\tlearn: 0.0291697\ttotal: 346ms\tremaining: 236ms\n",
      "594:\tlearn: 0.0290408\ttotal: 346ms\tremaining: 236ms\n",
      "595:\tlearn: 0.0289435\ttotal: 347ms\tremaining: 235ms\n",
      "596:\tlearn: 0.0288057\ttotal: 347ms\tremaining: 235ms\n",
      "597:\tlearn: 0.0286193\ttotal: 348ms\tremaining: 234ms\n",
      "598:\tlearn: 0.0284555\ttotal: 348ms\tremaining: 233ms\n",
      "599:\tlearn: 0.0284261\ttotal: 349ms\tremaining: 232ms\n",
      "600:\tlearn: 0.0283895\ttotal: 349ms\tremaining: 232ms\n",
      "601:\tlearn: 0.0282104\ttotal: 350ms\tremaining: 231ms\n",
      "602:\tlearn: 0.0281208\ttotal: 350ms\tremaining: 230ms\n",
      "603:\tlearn: 0.0280327\ttotal: 350ms\tremaining: 230ms\n",
      "604:\tlearn: 0.0278982\ttotal: 351ms\tremaining: 229ms\n",
      "605:\tlearn: 0.0277870\ttotal: 351ms\tremaining: 228ms\n",
      "606:\tlearn: 0.0277389\ttotal: 352ms\tremaining: 228ms\n",
      "607:\tlearn: 0.0276077\ttotal: 352ms\tremaining: 227ms\n",
      "608:\tlearn: 0.0275010\ttotal: 352ms\tremaining: 226ms\n",
      "609:\tlearn: 0.0274163\ttotal: 353ms\tremaining: 226ms\n",
      "610:\tlearn: 0.0272885\ttotal: 353ms\tremaining: 225ms\n",
      "611:\tlearn: 0.0271846\ttotal: 354ms\tremaining: 224ms\n",
      "612:\tlearn: 0.0271380\ttotal: 354ms\tremaining: 224ms\n",
      "613:\tlearn: 0.0270134\ttotal: 355ms\tremaining: 223ms\n",
      "614:\tlearn: 0.0268434\ttotal: 355ms\tremaining: 222ms\n",
      "615:\tlearn: 0.0266771\ttotal: 356ms\tremaining: 222ms\n",
      "616:\tlearn: 0.0266317\ttotal: 356ms\tremaining: 221ms\n",
      "617:\tlearn: 0.0264690\ttotal: 357ms\tremaining: 220ms\n",
      "618:\tlearn: 0.0263395\ttotal: 357ms\tremaining: 220ms\n",
      "619:\tlearn: 0.0262162\ttotal: 358ms\tremaining: 219ms\n",
      "620:\tlearn: 0.0261737\ttotal: 358ms\tremaining: 218ms\n",
      "621:\tlearn: 0.0261319\ttotal: 359ms\tremaining: 218ms\n",
      "622:\tlearn: 0.0259750\ttotal: 359ms\tremaining: 217ms\n",
      "623:\tlearn: 0.0259340\ttotal: 360ms\tremaining: 217ms\n",
      "624:\tlearn: 0.0258936\ttotal: 360ms\tremaining: 216ms\n",
      "625:\tlearn: 0.0257402\ttotal: 367ms\tremaining: 219ms\n",
      "626:\tlearn: 0.0257006\ttotal: 367ms\tremaining: 218ms\n",
      "627:\tlearn: 0.0255507\ttotal: 368ms\tremaining: 218ms\n",
      "628:\tlearn: 0.0255118\ttotal: 368ms\tremaining: 217ms\n",
      "629:\tlearn: 0.0253809\ttotal: 369ms\tremaining: 217ms\n",
      "630:\tlearn: 0.0252658\ttotal: 369ms\tremaining: 216ms\n",
      "631:\tlearn: 0.0251841\ttotal: 369ms\tremaining: 215ms\n",
      "632:\tlearn: 0.0251035\ttotal: 370ms\tremaining: 215ms\n",
      "633:\tlearn: 0.0250659\ttotal: 370ms\tremaining: 214ms\n"
     ]
    },
    {
     "name": "stdout",
     "output_type": "stream",
     "text": [
      "634:\tlearn: 0.0249909\ttotal: 371ms\tremaining: 213ms\n",
      "635:\tlearn: 0.0249500\ttotal: 372ms\tremaining: 213ms\n",
      "636:\tlearn: 0.0248761\ttotal: 372ms\tremaining: 212ms\n",
      "637:\tlearn: 0.0247337\ttotal: 373ms\tremaining: 211ms\n",
      "638:\tlearn: 0.0246612\ttotal: 373ms\tremaining: 211ms\n",
      "639:\tlearn: 0.0245897\ttotal: 373ms\tremaining: 210ms\n",
      "640:\tlearn: 0.0245193\ttotal: 374ms\tremaining: 209ms\n",
      "641:\tlearn: 0.0244831\ttotal: 374ms\tremaining: 209ms\n",
      "642:\tlearn: 0.0244137\ttotal: 375ms\tremaining: 208ms\n",
      "643:\tlearn: 0.0242761\ttotal: 375ms\tremaining: 207ms\n",
      "644:\tlearn: 0.0241796\ttotal: 376ms\tremaining: 207ms\n",
      "645:\tlearn: 0.0241404\ttotal: 376ms\tremaining: 206ms\n",
      "646:\tlearn: 0.0240733\ttotal: 377ms\tremaining: 206ms\n",
      "647:\tlearn: 0.0239397\ttotal: 377ms\tremaining: 205ms\n",
      "648:\tlearn: 0.0238559\ttotal: 378ms\tremaining: 204ms\n",
      "649:\tlearn: 0.0237736\ttotal: 378ms\tremaining: 204ms\n",
      "650:\tlearn: 0.0236927\ttotal: 378ms\tremaining: 203ms\n",
      "651:\tlearn: 0.0236199\ttotal: 379ms\tremaining: 202ms\n",
      "652:\tlearn: 0.0235484\ttotal: 379ms\tremaining: 202ms\n",
      "653:\tlearn: 0.0234398\ttotal: 380ms\tremaining: 201ms\n",
      "654:\tlearn: 0.0233076\ttotal: 380ms\tremaining: 200ms\n",
      "655:\tlearn: 0.0232182\ttotal: 381ms\tremaining: 200ms\n",
      "656:\tlearn: 0.0230895\ttotal: 381ms\tremaining: 199ms\n",
      "657:\tlearn: 0.0230121\ttotal: 382ms\tremaining: 198ms\n",
      "658:\tlearn: 0.0229438\ttotal: 382ms\tremaining: 198ms\n",
      "659:\tlearn: 0.0228766\ttotal: 383ms\tremaining: 197ms\n",
      "660:\tlearn: 0.0227741\ttotal: 384ms\tremaining: 197ms\n",
      "661:\tlearn: 0.0226495\ttotal: 384ms\tremaining: 196ms\n",
      "662:\tlearn: 0.0225770\ttotal: 385ms\tremaining: 195ms\n",
      "663:\tlearn: 0.0225130\ttotal: 385ms\tremaining: 195ms\n",
      "664:\tlearn: 0.0224297\ttotal: 385ms\tremaining: 194ms\n",
      "665:\tlearn: 0.0223623\ttotal: 386ms\tremaining: 194ms\n",
      "666:\tlearn: 0.0222808\ttotal: 386ms\tremaining: 193ms\n",
      "667:\tlearn: 0.0222319\ttotal: 387ms\tremaining: 192ms\n",
      "668:\tlearn: 0.0221153\ttotal: 387ms\tremaining: 192ms\n",
      "669:\tlearn: 0.0220502\ttotal: 388ms\tremaining: 191ms\n",
      "670:\tlearn: 0.0219829\ttotal: 388ms\tremaining: 190ms\n",
      "671:\tlearn: 0.0219061\ttotal: 389ms\tremaining: 190ms\n",
      "672:\tlearn: 0.0218464\ttotal: 389ms\tremaining: 189ms\n",
      "673:\tlearn: 0.0217694\ttotal: 390ms\tremaining: 188ms\n",
      "674:\tlearn: 0.0217076\ttotal: 390ms\tremaining: 188ms\n",
      "675:\tlearn: 0.0216383\ttotal: 391ms\tremaining: 187ms\n",
      "676:\tlearn: 0.0215506\ttotal: 391ms\tremaining: 187ms\n",
      "677:\tlearn: 0.0214767\ttotal: 397ms\tremaining: 188ms\n",
      "678:\tlearn: 0.0213907\ttotal: 397ms\tremaining: 188ms\n",
      "679:\tlearn: 0.0213187\ttotal: 398ms\tremaining: 187ms\n",
      "680:\tlearn: 0.0212344\ttotal: 398ms\tremaining: 187ms\n",
      "681:\tlearn: 0.0211516\ttotal: 399ms\tremaining: 186ms\n",
      "682:\tlearn: 0.0210894\ttotal: 399ms\tremaining: 185ms\n",
      "683:\tlearn: 0.0210081\ttotal: 400ms\tremaining: 185ms\n",
      "684:\tlearn: 0.0209569\ttotal: 400ms\tremaining: 184ms\n",
      "685:\tlearn: 0.0208803\ttotal: 401ms\tremaining: 183ms\n",
      "686:\tlearn: 0.0208302\ttotal: 401ms\tremaining: 183ms\n",
      "687:\tlearn: 0.0207647\ttotal: 402ms\tremaining: 182ms\n",
      "688:\tlearn: 0.0206895\ttotal: 402ms\tremaining: 181ms\n",
      "689:\tlearn: 0.0206257\ttotal: 402ms\tremaining: 181ms\n",
      "690:\tlearn: 0.0205483\ttotal: 403ms\tremaining: 180ms\n",
      "691:\tlearn: 0.0204859\ttotal: 403ms\tremaining: 179ms\n",
      "692:\tlearn: 0.0204099\ttotal: 404ms\tremaining: 179ms\n",
      "693:\tlearn: 0.0203340\ttotal: 404ms\tremaining: 178ms\n",
      "694:\tlearn: 0.0202570\ttotal: 405ms\tremaining: 178ms\n",
      "695:\tlearn: 0.0201795\ttotal: 405ms\tremaining: 177ms\n",
      "696:\tlearn: 0.0201196\ttotal: 406ms\tremaining: 176ms\n",
      "697:\tlearn: 0.0200450\ttotal: 406ms\tremaining: 176ms\n",
      "698:\tlearn: 0.0199625\ttotal: 407ms\tremaining: 175ms\n",
      "699:\tlearn: 0.0198885\ttotal: 407ms\tremaining: 175ms\n",
      "700:\tlearn: 0.0198129\ttotal: 408ms\tremaining: 174ms\n",
      "701:\tlearn: 0.0197493\ttotal: 408ms\tremaining: 173ms\n",
      "702:\tlearn: 0.0196871\ttotal: 409ms\tremaining: 173ms\n",
      "703:\tlearn: 0.0196261\ttotal: 409ms\tremaining: 172ms\n",
      "704:\tlearn: 0.0195594\ttotal: 409ms\tremaining: 171ms\n",
      "705:\tlearn: 0.0195002\ttotal: 410ms\tremaining: 171ms\n",
      "706:\tlearn: 0.0194356\ttotal: 411ms\tremaining: 170ms\n",
      "707:\tlearn: 0.0193781\ttotal: 411ms\tremaining: 170ms\n",
      "708:\tlearn: 0.0193201\ttotal: 412ms\tremaining: 169ms\n",
      "709:\tlearn: 0.0192637\ttotal: 412ms\tremaining: 168ms\n",
      "710:\tlearn: 0.0192015\ttotal: 413ms\tremaining: 168ms\n",
      "711:\tlearn: 0.0190816\ttotal: 413ms\tremaining: 167ms\n",
      "712:\tlearn: 0.0189846\ttotal: 414ms\tremaining: 167ms\n",
      "713:\tlearn: 0.0189301\ttotal: 414ms\tremaining: 166ms\n",
      "714:\tlearn: 0.0188767\ttotal: 415ms\tremaining: 165ms\n",
      "715:\tlearn: 0.0187605\ttotal: 415ms\tremaining: 165ms\n",
      "716:\tlearn: 0.0186835\ttotal: 416ms\tremaining: 164ms\n",
      "717:\tlearn: 0.0186086\ttotal: 416ms\tremaining: 164ms\n",
      "718:\tlearn: 0.0185356\ttotal: 417ms\tremaining: 163ms\n",
      "719:\tlearn: 0.0184646\ttotal: 417ms\tremaining: 162ms\n",
      "720:\tlearn: 0.0183955\ttotal: 418ms\tremaining: 162ms\n",
      "721:\tlearn: 0.0183250\ttotal: 418ms\tremaining: 161ms\n",
      "722:\tlearn: 0.0182585\ttotal: 419ms\tremaining: 160ms\n",
      "723:\tlearn: 0.0181949\ttotal: 419ms\tremaining: 160ms\n",
      "724:\tlearn: 0.0181304\ttotal: 420ms\tremaining: 159ms\n",
      "725:\tlearn: 0.0180701\ttotal: 420ms\tremaining: 159ms\n",
      "726:\tlearn: 0.0180080\ttotal: 421ms\tremaining: 158ms\n",
      "727:\tlearn: 0.0179472\ttotal: 421ms\tremaining: 157ms\n",
      "728:\tlearn: 0.0179070\ttotal: 421ms\tremaining: 157ms\n",
      "729:\tlearn: 0.0178447\ttotal: 422ms\tremaining: 156ms\n",
      "730:\tlearn: 0.0177864\ttotal: 422ms\tremaining: 155ms\n",
      "731:\tlearn: 0.0177474\ttotal: 432ms\tremaining: 158ms\n",
      "732:\tlearn: 0.0177122\ttotal: 433ms\tremaining: 158ms\n",
      "733:\tlearn: 0.0176532\ttotal: 434ms\tremaining: 157ms\n",
      "734:\tlearn: 0.0176189\ttotal: 434ms\tremaining: 157ms\n",
      "735:\tlearn: 0.0175734\ttotal: 434ms\tremaining: 156ms\n",
      "736:\tlearn: 0.0174690\ttotal: 435ms\tremaining: 155ms\n",
      "737:\tlearn: 0.0174339\ttotal: 435ms\tremaining: 155ms\n",
      "738:\tlearn: 0.0173991\ttotal: 436ms\tremaining: 154ms\n",
      "739:\tlearn: 0.0173649\ttotal: 436ms\tremaining: 153ms\n",
      "740:\tlearn: 0.0172604\ttotal: 437ms\tremaining: 153ms\n",
      "741:\tlearn: 0.0171827\ttotal: 437ms\tremaining: 152ms\n",
      "742:\tlearn: 0.0171083\ttotal: 438ms\tremaining: 151ms\n",
      "743:\tlearn: 0.0170690\ttotal: 438ms\tremaining: 151ms\n",
      "744:\tlearn: 0.0169669\ttotal: 439ms\tremaining: 150ms\n",
      "745:\tlearn: 0.0169284\ttotal: 439ms\tremaining: 150ms\n",
      "746:\tlearn: 0.0168288\ttotal: 440ms\tremaining: 149ms\n",
      "747:\tlearn: 0.0167910\ttotal: 440ms\tremaining: 148ms\n",
      "748:\tlearn: 0.0166878\ttotal: 440ms\tremaining: 148ms\n",
      "749:\tlearn: 0.0166460\ttotal: 441ms\tremaining: 147ms\n",
      "750:\tlearn: 0.0165748\ttotal: 441ms\tremaining: 146ms\n",
      "751:\tlearn: 0.0165097\ttotal: 442ms\tremaining: 146ms\n",
      "752:\tlearn: 0.0164147\ttotal: 442ms\tremaining: 145ms\n",
      "753:\tlearn: 0.0163512\ttotal: 443ms\tremaining: 144ms\n",
      "754:\tlearn: 0.0163156\ttotal: 443ms\tremaining: 144ms\n",
      "755:\tlearn: 0.0162230\ttotal: 444ms\tremaining: 143ms\n",
      "756:\tlearn: 0.0161614\ttotal: 444ms\tremaining: 143ms\n",
      "757:\tlearn: 0.0160991\ttotal: 444ms\tremaining: 142ms\n",
      "758:\tlearn: 0.0160309\ttotal: 445ms\tremaining: 141ms\n",
      "759:\tlearn: 0.0159710\ttotal: 445ms\tremaining: 141ms\n",
      "760:\tlearn: 0.0158757\ttotal: 446ms\tremaining: 140ms\n",
      "761:\tlearn: 0.0158154\ttotal: 446ms\tremaining: 139ms\n",
      "762:\tlearn: 0.0157225\ttotal: 447ms\tremaining: 139ms\n",
      "763:\tlearn: 0.0156887\ttotal: 447ms\tremaining: 138ms\n",
      "764:\tlearn: 0.0156233\ttotal: 448ms\tremaining: 138ms\n",
      "765:\tlearn: 0.0155658\ttotal: 448ms\tremaining: 137ms\n",
      "766:\tlearn: 0.0154757\ttotal: 449ms\tremaining: 136ms\n",
      "767:\tlearn: 0.0153997\ttotal: 449ms\tremaining: 136ms\n",
      "768:\tlearn: 0.0153362\ttotal: 450ms\tremaining: 135ms\n",
      "769:\tlearn: 0.0152805\ttotal: 450ms\tremaining: 134ms\n",
      "770:\tlearn: 0.0152184\ttotal: 451ms\tremaining: 134ms\n",
      "771:\tlearn: 0.0151284\ttotal: 451ms\tremaining: 133ms\n",
      "772:\tlearn: 0.0150427\ttotal: 452ms\tremaining: 133ms\n",
      "773:\tlearn: 0.0149825\ttotal: 452ms\tremaining: 132ms\n",
      "774:\tlearn: 0.0149291\ttotal: 453ms\tremaining: 131ms\n",
      "775:\tlearn: 0.0148651\ttotal: 453ms\tremaining: 131ms\n",
      "776:\tlearn: 0.0147900\ttotal: 454ms\tremaining: 130ms\n",
      "777:\tlearn: 0.0147587\ttotal: 454ms\tremaining: 130ms\n",
      "778:\tlearn: 0.0147279\ttotal: 454ms\tremaining: 129ms\n",
      "779:\tlearn: 0.0146428\ttotal: 455ms\tremaining: 128ms\n",
      "780:\tlearn: 0.0145656\ttotal: 455ms\tremaining: 128ms\n",
      "781:\tlearn: 0.0145046\ttotal: 456ms\tremaining: 127ms\n",
      "782:\tlearn: 0.0144349\ttotal: 456ms\tremaining: 126ms\n",
      "783:\tlearn: 0.0143775\ttotal: 457ms\tremaining: 126ms\n",
      "784:\tlearn: 0.0143476\ttotal: 457ms\tremaining: 125ms\n",
      "785:\tlearn: 0.0142970\ttotal: 458ms\tremaining: 125ms\n",
      "786:\tlearn: 0.0142676\ttotal: 459ms\tremaining: 124ms\n",
      "787:\tlearn: 0.0142091\ttotal: 459ms\tremaining: 124ms\n",
      "788:\tlearn: 0.0141537\ttotal: 460ms\tremaining: 123ms\n",
      "789:\tlearn: 0.0141250\ttotal: 460ms\tremaining: 122ms\n",
      "790:\tlearn: 0.0140688\ttotal: 460ms\tremaining: 122ms\n",
      "791:\tlearn: 0.0140167\ttotal: 461ms\tremaining: 121ms\n",
      "792:\tlearn: 0.0139684\ttotal: 461ms\tremaining: 120ms\n",
      "793:\tlearn: 0.0139046\ttotal: 462ms\tremaining: 120ms\n",
      "794:\tlearn: 0.0138598\ttotal: 462ms\tremaining: 119ms\n",
      "795:\tlearn: 0.0138092\ttotal: 463ms\tremaining: 119ms\n",
      "796:\tlearn: 0.0137296\ttotal: 464ms\tremaining: 118ms\n",
      "797:\tlearn: 0.0136683\ttotal: 464ms\tremaining: 117ms\n",
      "798:\tlearn: 0.0136097\ttotal: 464ms\tremaining: 117ms\n",
      "799:\tlearn: 0.0135569\ttotal: 465ms\tremaining: 116ms\n",
      "800:\tlearn: 0.0134799\ttotal: 465ms\tremaining: 116ms\n",
      "801:\tlearn: 0.0134212\ttotal: 466ms\tremaining: 115ms\n",
      "802:\tlearn: 0.0133948\ttotal: 466ms\tremaining: 114ms\n",
      "803:\tlearn: 0.0133414\ttotal: 467ms\tremaining: 114ms\n",
      "804:\tlearn: 0.0132955\ttotal: 467ms\tremaining: 113ms\n",
      "805:\tlearn: 0.0132695\ttotal: 468ms\tremaining: 113ms\n",
      "806:\tlearn: 0.0132246\ttotal: 468ms\tremaining: 112ms\n",
      "807:\tlearn: 0.0131680\ttotal: 469ms\tremaining: 111ms\n",
      "808:\tlearn: 0.0131168\ttotal: 469ms\tremaining: 111ms\n",
      "809:\tlearn: 0.0130672\ttotal: 470ms\tremaining: 110ms\n",
      "810:\tlearn: 0.0130420\ttotal: 470ms\tremaining: 110ms\n",
      "811:\tlearn: 0.0129988\ttotal: 471ms\tremaining: 109ms\n",
      "812:\tlearn: 0.0129740\ttotal: 471ms\tremaining: 108ms\n",
      "813:\tlearn: 0.0129262\ttotal: 472ms\tremaining: 108ms\n"
     ]
    },
    {
     "name": "stdout",
     "output_type": "stream",
     "text": [
      "814:\tlearn: 0.0128503\ttotal: 472ms\tremaining: 107ms\n",
      "815:\tlearn: 0.0128304\ttotal: 473ms\tremaining: 107ms\n",
      "816:\tlearn: 0.0127604\ttotal: 473ms\tremaining: 106ms\n",
      "817:\tlearn: 0.0127075\ttotal: 474ms\tremaining: 105ms\n",
      "818:\tlearn: 0.0126547\ttotal: 474ms\tremaining: 105ms\n",
      "819:\tlearn: 0.0125844\ttotal: 475ms\tremaining: 104ms\n",
      "820:\tlearn: 0.0125333\ttotal: 475ms\tremaining: 104ms\n",
      "821:\tlearn: 0.0124663\ttotal: 476ms\tremaining: 103ms\n",
      "822:\tlearn: 0.0124362\ttotal: 476ms\tremaining: 102ms\n",
      "823:\tlearn: 0.0124132\ttotal: 476ms\tremaining: 102ms\n",
      "824:\tlearn: 0.0123677\ttotal: 477ms\tremaining: 101ms\n",
      "825:\tlearn: 0.0122972\ttotal: 477ms\tremaining: 101ms\n",
      "826:\tlearn: 0.0122283\ttotal: 478ms\tremaining: 100ms\n",
      "827:\tlearn: 0.0121648\ttotal: 478ms\tremaining: 99.4ms\n",
      "828:\tlearn: 0.0121162\ttotal: 479ms\tremaining: 98.8ms\n",
      "829:\tlearn: 0.0120874\ttotal: 479ms\tremaining: 98.2ms\n",
      "830:\tlearn: 0.0120402\ttotal: 480ms\tremaining: 97.6ms\n",
      "831:\tlearn: 0.0120121\ttotal: 480ms\tremaining: 97ms\n",
      "832:\tlearn: 0.0119461\ttotal: 481ms\tremaining: 96.4ms\n",
      "833:\tlearn: 0.0119185\ttotal: 481ms\tremaining: 95.8ms\n",
      "834:\tlearn: 0.0118816\ttotal: 482ms\tremaining: 95.2ms\n",
      "835:\tlearn: 0.0118355\ttotal: 482ms\tremaining: 94.6ms\n",
      "836:\tlearn: 0.0117903\ttotal: 483ms\tremaining: 94ms\n",
      "837:\tlearn: 0.0117462\ttotal: 490ms\tremaining: 94.7ms\n",
      "838:\tlearn: 0.0117015\ttotal: 490ms\tremaining: 94ms\n",
      "839:\tlearn: 0.0116373\ttotal: 491ms\tremaining: 93.4ms\n",
      "840:\tlearn: 0.0115746\ttotal: 491ms\tremaining: 92.8ms\n",
      "841:\tlearn: 0.0115371\ttotal: 491ms\tremaining: 92.2ms\n",
      "842:\tlearn: 0.0114947\ttotal: 492ms\tremaining: 91.6ms\n",
      "843:\tlearn: 0.0114473\ttotal: 492ms\tremaining: 91ms\n",
      "844:\tlearn: 0.0114010\ttotal: 493ms\tremaining: 90.4ms\n",
      "845:\tlearn: 0.0113747\ttotal: 493ms\tremaining: 89.8ms\n",
      "846:\tlearn: 0.0113392\ttotal: 494ms\tremaining: 89.2ms\n",
      "847:\tlearn: 0.0112798\ttotal: 494ms\tremaining: 88.5ms\n",
      "848:\tlearn: 0.0112550\ttotal: 495ms\tremaining: 88ms\n",
      "849:\tlearn: 0.0112349\ttotal: 495ms\tremaining: 87.4ms\n",
      "850:\tlearn: 0.0112005\ttotal: 495ms\tremaining: 86.8ms\n",
      "851:\tlearn: 0.0111561\ttotal: 496ms\tremaining: 86.2ms\n",
      "852:\tlearn: 0.0111255\ttotal: 496ms\tremaining: 85.6ms\n",
      "853:\tlearn: 0.0110680\ttotal: 497ms\tremaining: 85ms\n",
      "854:\tlearn: 0.0110380\ttotal: 497ms\tremaining: 84.3ms\n",
      "855:\tlearn: 0.0109656\ttotal: 498ms\tremaining: 83.8ms\n",
      "856:\tlearn: 0.0109086\ttotal: 498ms\tremaining: 83.1ms\n",
      "857:\tlearn: 0.0108379\ttotal: 499ms\tremaining: 82.6ms\n",
      "858:\tlearn: 0.0108089\ttotal: 499ms\tremaining: 82ms\n",
      "859:\tlearn: 0.0107396\ttotal: 500ms\tremaining: 81.4ms\n",
      "860:\tlearn: 0.0106843\ttotal: 500ms\tremaining: 80.8ms\n",
      "861:\tlearn: 0.0106182\ttotal: 501ms\tremaining: 80.2ms\n",
      "862:\tlearn: 0.0105509\ttotal: 501ms\tremaining: 79.6ms\n",
      "863:\tlearn: 0.0105232\ttotal: 502ms\tremaining: 79ms\n",
      "864:\tlearn: 0.0104454\ttotal: 502ms\tremaining: 78.4ms\n",
      "865:\tlearn: 0.0104063\ttotal: 503ms\tremaining: 77.8ms\n",
      "866:\tlearn: 0.0103681\ttotal: 503ms\tremaining: 77.2ms\n",
      "867:\tlearn: 0.0103190\ttotal: 504ms\tremaining: 76.6ms\n",
      "868:\tlearn: 0.0102567\ttotal: 504ms\tremaining: 76ms\n",
      "869:\tlearn: 0.0102199\ttotal: 505ms\tremaining: 75.4ms\n",
      "870:\tlearn: 0.0101972\ttotal: 506ms\tremaining: 74.9ms\n",
      "871:\tlearn: 0.0101612\ttotal: 506ms\tremaining: 74.3ms\n",
      "872:\tlearn: 0.0101352\ttotal: 507ms\tremaining: 73.7ms\n",
      "873:\tlearn: 0.0101001\ttotal: 507ms\tremaining: 73.1ms\n",
      "874:\tlearn: 0.0100778\ttotal: 508ms\tremaining: 72.5ms\n",
      "875:\tlearn: 0.0100434\ttotal: 508ms\tremaining: 71.9ms\n",
      "876:\tlearn: 0.0100118\ttotal: 509ms\tremaining: 71.4ms\n",
      "877:\tlearn: 0.0099632\ttotal: 509ms\tremaining: 70.8ms\n",
      "878:\tlearn: 0.0099134\ttotal: 510ms\tremaining: 70.2ms\n",
      "879:\tlearn: 0.0098486\ttotal: 510ms\tremaining: 69.6ms\n",
      "880:\tlearn: 0.0098183\ttotal: 511ms\tremaining: 69ms\n",
      "881:\tlearn: 0.0097886\ttotal: 511ms\tremaining: 68.4ms\n",
      "882:\tlearn: 0.0097421\ttotal: 512ms\tremaining: 67.8ms\n",
      "883:\tlearn: 0.0097127\ttotal: 512ms\tremaining: 67.2ms\n",
      "884:\tlearn: 0.0096646\ttotal: 513ms\tremaining: 66.6ms\n",
      "885:\tlearn: 0.0096178\ttotal: 513ms\tremaining: 66ms\n",
      "886:\tlearn: 0.0095557\ttotal: 514ms\tremaining: 65.4ms\n",
      "887:\tlearn: 0.0095082\ttotal: 514ms\tremaining: 64.8ms\n",
      "888:\tlearn: 0.0094685\ttotal: 514ms\tremaining: 64.2ms\n",
      "889:\tlearn: 0.0094297\ttotal: 515ms\tremaining: 63.6ms\n",
      "890:\tlearn: 0.0093838\ttotal: 515ms\tremaining: 63ms\n",
      "891:\tlearn: 0.0093462\ttotal: 515ms\tremaining: 62.4ms\n",
      "892:\tlearn: 0.0093006\ttotal: 516ms\tremaining: 61.8ms\n",
      "893:\tlearn: 0.0092563\ttotal: 516ms\tremaining: 61.2ms\n",
      "894:\tlearn: 0.0092198\ttotal: 516ms\tremaining: 60.6ms\n",
      "895:\tlearn: 0.0091647\ttotal: 517ms\tremaining: 60ms\n",
      "896:\tlearn: 0.0091206\ttotal: 517ms\tremaining: 59.4ms\n",
      "897:\tlearn: 0.0091008\ttotal: 517ms\tremaining: 58.8ms\n",
      "898:\tlearn: 0.0090379\ttotal: 518ms\tremaining: 58.2ms\n",
      "899:\tlearn: 0.0090120\ttotal: 518ms\tremaining: 57.6ms\n",
      "900:\tlearn: 0.0089866\ttotal: 518ms\tremaining: 57ms\n",
      "901:\tlearn: 0.0089617\ttotal: 519ms\tremaining: 56.4ms\n",
      "902:\tlearn: 0.0089456\ttotal: 519ms\tremaining: 55.8ms\n",
      "903:\tlearn: 0.0089213\ttotal: 520ms\tremaining: 55.2ms\n",
      "904:\tlearn: 0.0088974\ttotal: 520ms\tremaining: 54.6ms\n",
      "905:\tlearn: 0.0088537\ttotal: 520ms\tremaining: 54ms\n",
      "906:\tlearn: 0.0088120\ttotal: 521ms\tremaining: 53.4ms\n",
      "907:\tlearn: 0.0087648\ttotal: 521ms\tremaining: 52.8ms\n",
      "908:\tlearn: 0.0087241\ttotal: 522ms\tremaining: 52.2ms\n",
      "909:\tlearn: 0.0086975\ttotal: 522ms\tremaining: 51.6ms\n",
      "910:\tlearn: 0.0086821\ttotal: 522ms\tremaining: 51ms\n",
      "911:\tlearn: 0.0086481\ttotal: 524ms\tremaining: 50.5ms\n",
      "912:\tlearn: 0.0086250\ttotal: 524ms\tremaining: 49.9ms\n",
      "913:\tlearn: 0.0086052\ttotal: 524ms\tremaining: 49.4ms\n",
      "914:\tlearn: 0.0085827\ttotal: 525ms\tremaining: 48.8ms\n",
      "915:\tlearn: 0.0085432\ttotal: 525ms\tremaining: 48.2ms\n",
      "916:\tlearn: 0.0085177\ttotal: 526ms\tremaining: 47.6ms\n",
      "917:\tlearn: 0.0084663\ttotal: 526ms\tremaining: 47ms\n",
      "918:\tlearn: 0.0084516\ttotal: 527ms\tremaining: 46.4ms\n",
      "919:\tlearn: 0.0084013\ttotal: 527ms\tremaining: 45.8ms\n",
      "920:\tlearn: 0.0083606\ttotal: 527ms\tremaining: 45.2ms\n",
      "921:\tlearn: 0.0083217\ttotal: 528ms\tremaining: 44.6ms\n",
      "922:\tlearn: 0.0082648\ttotal: 528ms\tremaining: 44ms\n",
      "923:\tlearn: 0.0082270\ttotal: 529ms\tremaining: 43.5ms\n",
      "924:\tlearn: 0.0081901\ttotal: 529ms\tremaining: 42.9ms\n",
      "925:\tlearn: 0.0081546\ttotal: 529ms\tremaining: 42.3ms\n",
      "926:\tlearn: 0.0081303\ttotal: 530ms\tremaining: 41.7ms\n",
      "927:\tlearn: 0.0080896\ttotal: 530ms\tremaining: 41.2ms\n",
      "928:\tlearn: 0.0080552\ttotal: 531ms\tremaining: 40.6ms\n",
      "929:\tlearn: 0.0080369\ttotal: 531ms\tremaining: 40ms\n",
      "930:\tlearn: 0.0080131\ttotal: 532ms\tremaining: 39.4ms\n",
      "931:\tlearn: 0.0079783\ttotal: 532ms\tremaining: 38.8ms\n",
      "932:\tlearn: 0.0079536\ttotal: 533ms\tremaining: 38.2ms\n",
      "933:\tlearn: 0.0079305\ttotal: 533ms\tremaining: 37.7ms\n",
      "934:\tlearn: 0.0078977\ttotal: 533ms\tremaining: 37.1ms\n",
      "935:\tlearn: 0.0078770\ttotal: 534ms\tremaining: 36.5ms\n",
      "936:\tlearn: 0.0078603\ttotal: 534ms\tremaining: 35.9ms\n",
      "937:\tlearn: 0.0078378\ttotal: 535ms\tremaining: 35.3ms\n",
      "938:\tlearn: 0.0077860\ttotal: 535ms\tremaining: 34.8ms\n",
      "939:\tlearn: 0.0077502\ttotal: 536ms\tremaining: 34.2ms\n",
      "940:\tlearn: 0.0076997\ttotal: 536ms\tremaining: 33.6ms\n",
      "941:\tlearn: 0.0076676\ttotal: 536ms\tremaining: 33ms\n",
      "942:\tlearn: 0.0076330\ttotal: 537ms\tremaining: 32.5ms\n",
      "943:\tlearn: 0.0076017\ttotal: 538ms\tremaining: 31.9ms\n",
      "944:\tlearn: 0.0075699\ttotal: 538ms\tremaining: 31.3ms\n",
      "945:\tlearn: 0.0075215\ttotal: 538ms\tremaining: 30.7ms\n",
      "946:\tlearn: 0.0074847\ttotal: 539ms\tremaining: 30.2ms\n",
      "947:\tlearn: 0.0074553\ttotal: 539ms\tremaining: 29.6ms\n",
      "948:\tlearn: 0.0074253\ttotal: 540ms\tremaining: 29ms\n",
      "949:\tlearn: 0.0074023\ttotal: 540ms\tremaining: 28.4ms\n",
      "950:\tlearn: 0.0073830\ttotal: 541ms\tremaining: 27.9ms\n",
      "951:\tlearn: 0.0073532\ttotal: 541ms\tremaining: 27.3ms\n",
      "952:\tlearn: 0.0073270\ttotal: 542ms\tremaining: 26.7ms\n",
      "953:\tlearn: 0.0073010\ttotal: 542ms\tremaining: 26.1ms\n",
      "954:\tlearn: 0.0072731\ttotal: 543ms\tremaining: 25.6ms\n",
      "955:\tlearn: 0.0072477\ttotal: 543ms\tremaining: 25ms\n",
      "956:\tlearn: 0.0072071\ttotal: 543ms\tremaining: 24.4ms\n",
      "957:\tlearn: 0.0071628\ttotal: 544ms\tremaining: 23.8ms\n",
      "958:\tlearn: 0.0071549\ttotal: 544ms\tremaining: 23.3ms\n",
      "959:\tlearn: 0.0071207\ttotal: 545ms\tremaining: 22.7ms\n",
      "960:\tlearn: 0.0071129\ttotal: 545ms\tremaining: 22.1ms\n",
      "961:\tlearn: 0.0070983\ttotal: 545ms\tremaining: 21.5ms\n",
      "962:\tlearn: 0.0070717\ttotal: 546ms\tremaining: 21ms\n",
      "963:\tlearn: 0.0070618\ttotal: 546ms\tremaining: 20.4ms\n",
      "964:\tlearn: 0.0070477\ttotal: 546ms\tremaining: 19.8ms\n",
      "965:\tlearn: 0.0070382\ttotal: 547ms\tremaining: 19.2ms\n",
      "966:\tlearn: 0.0069996\ttotal: 547ms\tremaining: 18.7ms\n",
      "967:\tlearn: 0.0069752\ttotal: 547ms\tremaining: 18.1ms\n",
      "968:\tlearn: 0.0069659\ttotal: 548ms\tremaining: 17.5ms\n",
      "969:\tlearn: 0.0069282\ttotal: 548ms\tremaining: 16.9ms\n",
      "970:\tlearn: 0.0069011\ttotal: 548ms\tremaining: 16.4ms\n",
      "971:\tlearn: 0.0068744\ttotal: 549ms\tremaining: 15.8ms\n",
      "972:\tlearn: 0.0068417\ttotal: 549ms\tremaining: 15.2ms\n",
      "973:\tlearn: 0.0068342\ttotal: 549ms\tremaining: 14.7ms\n",
      "974:\tlearn: 0.0068268\ttotal: 550ms\tremaining: 14.1ms\n",
      "975:\tlearn: 0.0068127\ttotal: 550ms\tremaining: 13.5ms\n",
      "976:\tlearn: 0.0067874\ttotal: 551ms\tremaining: 13ms\n",
      "977:\tlearn: 0.0067697\ttotal: 551ms\tremaining: 12.4ms\n",
      "978:\tlearn: 0.0067576\ttotal: 552ms\tremaining: 11.8ms\n",
      "979:\tlearn: 0.0067319\ttotal: 552ms\tremaining: 11.3ms\n",
      "980:\tlearn: 0.0067200\ttotal: 553ms\tremaining: 10.7ms\n",
      "981:\tlearn: 0.0067128\ttotal: 553ms\tremaining: 10.1ms\n",
      "982:\tlearn: 0.0067011\ttotal: 554ms\tremaining: 9.58ms\n",
      "983:\tlearn: 0.0066877\ttotal: 554ms\tremaining: 9.01ms\n",
      "984:\tlearn: 0.0066626\ttotal: 555ms\tremaining: 8.44ms\n",
      "985:\tlearn: 0.0066511\ttotal: 555ms\tremaining: 7.88ms\n"
     ]
    },
    {
     "name": "stdout",
     "output_type": "stream",
     "text": [
      "986:\tlearn: 0.0066195\ttotal: 556ms\tremaining: 7.32ms\n",
      "987:\tlearn: 0.0065950\ttotal: 556ms\tremaining: 6.76ms\n",
      "988:\tlearn: 0.0065839\ttotal: 557ms\tremaining: 6.2ms\n",
      "989:\tlearn: 0.0065769\ttotal: 557ms\tremaining: 5.63ms\n",
      "990:\tlearn: 0.0065532\ttotal: 558ms\tremaining: 5.07ms\n",
      "991:\tlearn: 0.0065332\ttotal: 558ms\tremaining: 4.5ms\n",
      "992:\tlearn: 0.0065197\ttotal: 559ms\tremaining: 3.94ms\n",
      "993:\tlearn: 0.0064859\ttotal: 559ms\tremaining: 3.38ms\n",
      "994:\tlearn: 0.0064702\ttotal: 560ms\tremaining: 2.81ms\n",
      "995:\tlearn: 0.0064411\ttotal: 560ms\tremaining: 2.25ms\n",
      "996:\tlearn: 0.0064184\ttotal: 561ms\tremaining: 1.69ms\n",
      "997:\tlearn: 0.0063955\ttotal: 561ms\tremaining: 1.12ms\n",
      "998:\tlearn: 0.0063723\ttotal: 561ms\tremaining: 562us\n",
      "999:\tlearn: 0.0063432\ttotal: 562ms\tremaining: 0us\n"
     ]
    },
    {
     "data": {
      "text/plain": [
       "<catboost.core.CatBoostRegressor at 0x7f8408528a90>"
      ]
     },
     "execution_count": 9,
     "metadata": {},
     "output_type": "execute_result"
    }
   ],
   "source": [
    "#Train the Model \n",
    "prior_model = ctb.CatBoostRegressor()\n",
    "prior_model.fit(X_train,Y_train)"
   ]
  },
  {
   "cell_type": "code",
   "execution_count": 10,
   "id": "af65dcda",
   "metadata": {
    "execution": {
     "iopub.execute_input": "2022-06-07T06:18:27.989477Z",
     "iopub.status.busy": "2022-06-07T06:18:27.989103Z",
     "iopub.status.idle": "2022-06-07T06:18:27.996613Z",
     "shell.execute_reply": "2022-06-07T06:18:27.996859Z"
    },
    "id": "af65dcda",
    "papermill": {
     "duration": 0.020173,
     "end_time": "2022-06-07T06:18:27.996975",
     "exception": false,
     "start_time": "2022-06-07T06:18:27.976802",
     "status": "completed"
    },
    "tags": []
   },
   "outputs": [
    {
     "data": {
      "application/scrapbook.scrap.json+json": {
       "data": 0.11056825960187562,
       "encoder": "json",
       "name": "Prior Model MSE",
       "version": 1
      }
     },
     "metadata": {
      "scrapbook": {
       "data": true,
       "display": false,
       "name": "Prior Model MSE"
      }
     },
     "output_type": "display_data"
    },
    {
     "data": {
      "application/scrapbook.scrap.json+json": {
       "data": 0.1175631322852786,
       "encoder": "json",
       "name": "ABC Pre-generator MSE",
       "version": 1
      }
     },
     "metadata": {
      "scrapbook": {
       "data": true,
       "display": false,
       "name": "ABC Pre-generator MSE"
      }
     },
     "output_type": "display_data"
    },
    {
     "data": {
      "application/scrapbook.scrap.json+json": {
       "data": 0.2688902899722893,
       "encoder": "json",
       "name": "Prior Model MSE",
       "version": 1
      }
     },
     "metadata": {
      "scrapbook": {
       "data": true,
       "display": false,
       "name": "Prior Model MSE"
      }
     },
     "output_type": "display_data"
    },
    {
     "data": {
      "application/scrapbook.scrap.json+json": {
       "data": 0.27521053887382846,
       "encoder": "json",
       "name": "ABC Pre-generator MSE",
       "version": 1
      }
     },
     "metadata": {
      "scrapbook": {
       "data": true,
       "display": false,
       "name": "ABC Pre-generator MSE"
      }
     },
     "output_type": "display_data"
    }
   ],
   "source": [
    "y_pred = prior_model.predict(X_test)\n",
    "y_abc = y_pred + np.random.normal(0,variance, y_pred.shape) + bias \n",
    "mse = mean_squared_error(y_pred,Y_test)\n",
    "sb.glue(\"Prior Model MSE\",mse)\n",
    "mse = mean_squared_error(y_abc,Y_test)\n",
    "sb.glue(\"ABC Pre-generator MSE\",mse)\n",
    "mae = mean_absolute_error(y_pred,Y_test)\n",
    "sb.glue(\"Prior Model MSE\",mae)\n",
    "mae = mean_absolute_error(y_abc,Y_test)\n",
    "sb.glue(\"ABC Pre-generator MSE\",mae)"
   ]
  },
  {
   "cell_type": "markdown",
   "id": "25609da2",
   "metadata": {
    "papermill": {
     "duration": 0.010102,
     "end_time": "2022-06-07T06:18:28.016880",
     "exception": false,
     "start_time": "2022-06-07T06:18:28.006778",
     "status": "completed"
    },
    "tags": []
   },
   "source": [
    "# ABC GAN Model"
   ]
  },
  {
   "cell_type": "code",
   "execution_count": 11,
   "id": "dfc3464d",
   "metadata": {
    "execution": {
     "iopub.execute_input": "2022-06-07T06:18:28.040441Z",
     "iopub.status.busy": "2022-06-07T06:18:28.040048Z",
     "iopub.status.idle": "2022-06-07T06:18:28.042137Z",
     "shell.execute_reply": "2022-06-07T06:18:28.042383Z"
    },
    "papermill": {
     "duration": 0.016078,
     "end_time": "2022-06-07T06:18:28.042501",
     "exception": false,
     "start_time": "2022-06-07T06:18:28.026423",
     "status": "completed"
    },
    "tags": []
   },
   "outputs": [],
   "source": [
    "gen = network.Generator(n_features+1).to(device)\n",
    "disc = network.Discriminator(n_features+1).to(device)\n",
    "\n",
    "criterion = torch.nn.BCELoss()\n",
    "gen_opt = torch.optim.Adam(gen.parameters(), lr=0.001, betas=(0.5, 0.999))\n",
    "disc_opt = torch.optim.Adam(disc.parameters(), lr=0.001, betas=(0.5, 0.999))"
   ]
  },
  {
   "cell_type": "code",
   "execution_count": 12,
   "id": "b75fdd85",
   "metadata": {
    "execution": {
     "iopub.execute_input": "2022-06-07T06:18:28.063946Z",
     "iopub.status.busy": "2022-06-07T06:18:28.063574Z",
     "iopub.status.idle": "2022-06-07T06:18:43.505161Z",
     "shell.execute_reply": "2022-06-07T06:18:43.505409Z"
    },
    "papermill": {
     "duration": 15.453293,
     "end_time": "2022-06-07T06:18:43.505529",
     "exception": false,
     "start_time": "2022-06-07T06:18:28.052236",
     "status": "completed"
    },
    "tags": []
   },
   "outputs": [
    {
     "data": {
      "image/png": "[encoded data removed]",
      "text/plain": [
       "<Figure size 432x288 with 1 Axes>"
      ]
     },
     "metadata": {
      "needs_background": "light"
     },
     "output_type": "display_data"
    },
    {
     "data": {
      "image/png": "[encoded data removed]",
      "text/plain": [
       "<Figure size 432x288 with 1 Axes>"
      ]
     },
     "metadata": {
      "needs_background": "light"
     },
     "output_type": "display_data"
    }
   ],
   "source": [
    "#Training the ABC_GAN \n",
    "ABC_train_test2.training_GAN(disc,gen,disc_opt,gen_opt,train_data,batch_size,n_epochs,criterion,prior_model,variance,bias,device)"
   ]
  },
  {
   "cell_type": "code",
   "execution_count": 13,
   "id": "1fa7c368",
   "metadata": {
    "execution": {
     "iopub.execute_input": "2022-06-07T06:18:43.530187Z",
     "iopub.status.busy": "2022-06-07T06:18:43.529729Z",
     "iopub.status.idle": "2022-06-07T06:18:43.728113Z",
     "shell.execute_reply": "2022-06-07T06:18:43.728419Z"
    },
    "papermill": {
     "duration": 0.211931,
     "end_time": "2022-06-07T06:18:43.728547",
     "exception": false,
     "start_time": "2022-06-07T06:18:43.516616",
     "status": "completed"
    },
    "tags": []
   },
   "outputs": [
    {
     "data": {
      "application/scrapbook.scrap.json+json": {
       "data": 0.075593114479371,
       "encoder": "json",
       "name": "ABC-GAN Model 1 MSE",
       "version": 1
      }
     },
     "metadata": {
      "scrapbook": {
       "data": true,
       "display": false,
       "name": "ABC-GAN Model 1 MSE"
      }
     },
     "output_type": "display_data"
    },
    {
     "data": {
      "application/scrapbook.scrap.json+json": {
       "data": 0.23602233838289977,
       "encoder": "json",
       "name": "ABC-GAN Model 1 MAE",
       "version": 1
      }
     },
     "metadata": {
      "scrapbook": {
       "data": true,
       "display": false,
       "name": "ABC-GAN Model 1 MAE"
      }
     },
     "output_type": "display_data"
    },
    {
     "data": {
      "application/scrapbook.scrap.json+json": {
       "data": 4.720446767657995,
       "encoder": "json",
       "name": "ABC-GAN Model 1 Manhattan Distance",
       "version": 1
      }
     },
     "metadata": {
      "scrapbook": {
       "data": true,
       "display": false,
       "name": "ABC-GAN Model 1 Manhattan Distance"
      }
     },
     "output_type": "display_data"
    },
    {
     "data": {
      "application/scrapbook.scrap.json+json": {
       "data": 1.2295542518153573,
       "encoder": "json",
       "name": "ABC-GAN Model 1 Euclidean distance",
       "version": 1
      }
     },
     "metadata": {
      "scrapbook": {
       "data": true,
       "display": false,
       "name": "ABC-GAN Model 1 Euclidean distance"
      }
     },
     "output_type": "display_data"
    },
    {
     "data": {
      "application/scrapbook.scrap.json+json": {
       "data": [
        [
         0.07576239877079843,
         0.07439842826634777,
         0.07566456949308685,
         0.07785885815800184,
         0.07605085821615673,
         0.07527351141231095,
         0.07675748791049657,
         0.07536524092346278,
         0.07541472616161009,
         0.0759410242762972,
         0.07511597560466698,
         0.07710771523623552,
         0.0751070078288025,
         0.07557452320832067,
         0.07506508588920972,
         0.07661099020772114,
         0.07543193294022416,
         0.0738825099877454,
         0.0765566105334438,
         0.07631171226762093,
         0.07514137329325742,
         0.07591307276699853,
         0.07668385193592675,
         0.07524662168044674,
         0.07303073333089616,
         0.07421182589477897,
         0.07508062189512983,
         0.07597418452717332,
         0.07605565903992947,
         0.07544574337325444,
         0.07596509500448162,
         0.07388737533546486,
         0.0745838389035854,
         0.07663741054882985,
         0.07629734498406812,
         0.07671782491064763,
         0.07678161574069539,
         0.07389648825134701,
         0.07536185514776693,
         0.07360923048392133,
         0.07556641103089494,
         0.07716169664384973,
         0.07712590978817105,
         0.07622201763125258,
         0.07457249054243922,
         0.07427058619303142,
         0.07610947259120036,
         0.07518603582541401,
         0.0752247671719063,
         0.07478409420430454,
         0.07466230524606332,
         0.07618990688141801,
         0.07512799607563042,
         0.0751163807034689,
         0.07543967891268043,
         0.0760273994716631,
         0.0755794372428884,
         0.07522308761850242,
         0.0765639635135693,
         0.07470606594975139,
         0.07596916723920108,
         0.07720848463598613,
         0.07552406552970028,
         0.074594649691828,
         0.07505319839165579,
         0.07727720146302128,
         0.07589045966449345,
         0.076259293356005,
         0.07622840053805045,
         0.07647346177175156,
         0.07579647661717342,
         0.07430591143889351,
         0.07760979491236361,
         0.07605188261034548,
         0.07662151477207234,
         0.07609756765144775,
         0.07554713618426541,
         0.07367334255299415,
         0.07560637092958652,
         0.07467371165521679,
         0.07484215513854095,
         0.0742418091813006,
         0.07552830608935504,
         0.07517538101312397,
         0.07597865702611431,
         0.07628387257290684,
         0.07659562345881593,
         0.07603666641806024,
         0.07528111741837341,
         0.07541580294362049,
         0.07555984554091516,
         0.0759471391595572,
         0.07557666177058735,
         0.07591961269679533,
         0.07615024133468432,
         0.07428505753825868,
         0.07657538338399247,
         0.07517719974060623,
         0.07356696337638233,
         0.07607922294979753
        ],
        [
         0.23598602451384068,
         0.2350073229521513,
         0.2360430907458067,
         0.23980958051979542,
         0.2364758040755987,
         0.23518805764615536,
         0.23696341700851917,
         0.23409819640219212,
         0.2365937691181898,
         0.23656128011643887,
         0.23541043214499952,
         0.2375896256417036,
         0.2343027103692293,
         0.23598635084927083,
         0.23530202470719813,
         0.23785388879477978,
         0.23553204871714115,
         0.23285416401922704,
         0.2372527364641428,
         0.2375872414559126,
         0.2340688083320856,
         0.23811560235917567,
         0.2386074226349592,
         0.23513949252665042,
         0.23200078271329402,
         0.23335651941597463,
         0.23483666144311427,
         0.23625745214521884,
         0.2387192066758871,
         0.23490072824060917,
         0.23787041194736958,
         0.23459416441619396,
         0.23583749644458293,
         0.23704641722142697,
         0.236965686455369,
         0.23705040700733662,
         0.2370650228112936,
         0.23539125062525273,
         0.23536669947206973,
         0.23310667164623738,
         0.23696210123598577,
         0.23820763342082502,
         0.23816453032195567,
         0.235429373010993,
         0.23502819053828716,
         0.23310209698975087,
         0.23656322844326497,
         0.2350196223706007,
         0.23546604849398137,
         0.23377258591353894,
         0.234507342800498,
         0.23823811300098896,
         0.2365983549505472,
         0.23503099717199802,
         0.23449021391570568,
         0.23681007586419583,
         0.23592450357973577,
         0.23555195145308971,
         0.23738342337310314,
         0.23551744110882283,
         0.23727723769843578,
         0.23822384439408778,
         0.23621286861598492,
         0.2341142002493143,
         0.23502862118184567,
         0.2394790079444647,
         0.23474658243358135,
         0.23814570344984531,
         0.23679395727813243,
         0.23696901984512805,
         0.23686326779425143,
         0.2355000849813223,
         0.2375508200377226,
         0.23658942393958568,
         0.23644897155463696,
         0.2373267900198698,
         0.23667039386928082,
         0.23394286595284938,
         0.23721113242208958,
         0.23574016354978083,
         0.23598326481878756,
         0.23375221528112888,
         0.2368034739047289,
         0.23415112011134626,
         0.23629771880805492,
         0.23494467996060847,
         0.238695302978158,
         0.23533575497567655,
         0.23512395657598972,
         0.23575292490422725,
         0.23598497547209263,
         0.2365994405001402,
         0.23605258651077748,
         0.23602123223245144,
         0.23651362545788288,
         0.23392778895795346,
         0.23735764436423779,
         0.23606117777526378,
         0.23339341320097445,
         0.2361840855330229
        ],
        [
         4.7197204902768135,
         4.700146459043026,
         4.720861814916134,
         4.796191610395908,
         4.729516081511974,
         4.703761152923107,
         4.7392683401703835,
         4.681963928043842,
         4.731875382363796,
         4.731225602328777,
         4.70820864289999,
         4.751792512834072,
         4.686054207384586,
         4.719727016985416,
         4.706040494143963,
         4.7570777758955956,
         4.710640974342823,
         4.657083280384541,
         4.745054729282856,
         4.751744829118252,
         4.681376166641712,
         4.762312047183514,
         4.772148452699184,
         4.702789850533009,
         4.640015654265881,
         4.667130388319492,
         4.696733228862286,
         4.725149042904377,
         4.774384133517742,
         4.698014564812183,
         4.7574082389473915,
         4.691883288323879,
         4.716749928891659,
         4.740928344428539,
         4.73931372910738,
         4.741008140146732,
         4.741300456225872,
         4.7078250125050545,
         4.707333989441395,
         4.6621334329247475,
         4.739242024719715,
         4.7641526684165,
         4.763290606439114,
         4.70858746021986,
         4.700563810765743,
         4.662041939795017,
         4.731264568865299,
         4.700392447412014,
         4.709320969879627,
         4.675451718270779,
         4.69014685600996,
         4.764762260019779,
         4.731967099010944,
         4.7006199434399605,
         4.689804278314114,
         4.7362015172839165,
         4.718490071594715,
         4.711039029061794,
         4.747668467462063,
         4.7103488221764565,
         4.745544753968716,
         4.764476887881756,
         4.724257372319698,
         4.682284004986286,
         4.700572423636913,
         4.789580158889294,
         4.694931648671627,
         4.762914068996906,
         4.735879145562649,
         4.739380396902561,
         4.737265355885029,
         4.710001699626446,
         4.751016400754452,
         4.731788478791714,
         4.728979431092739,
         4.746535800397396,
         4.733407877385616,
         4.678857319056988,
         4.7442226484417915,
         4.714803270995617,
         4.7196652963757515,
         4.675044305622578,
         4.736069478094578,
         4.683022402226925,
         4.7259543761610985,
         4.69889359921217,
         4.77390605956316,
         4.706715099513531,
         4.7024791315197945,
         4.715058498084545,
         4.719699509441853,
         4.731988810002804,
         4.7210517302155495,
         4.720424644649029,
         4.730272509157658,
         4.678555779159069,
         4.747152887284756,
         4.721223555505276,
         4.667868264019489,
         4.723681710660458
        ],
        [
         1.2309540915143702,
         1.2198231696959012,
         1.2301590912811793,
         1.2478690488829494,
         1.2332952462095743,
         1.226976050396347,
         1.2390116053572426,
         1.2277234291440624,
         1.228126428032636,
         1.2324043514715226,
         1.2256914424492567,
         1.2418350553615043,
         1.2256182752293023,
         1.2294268844329106,
         1.2252761802076275,
         1.2378286651045138,
         1.2282665259643295,
         1.2155863604676171,
         1.237389272084123,
         1.235408533786463,
         1.225898636048327,
         1.2321775259028103,
         1.238417150526645,
         1.2267568763242922,
         1.2085589214506354,
         1.2182924599190375,
         1.225402969599224,
         1.2326733916749668,
         1.233334172395539,
         1.2283789592243466,
         1.232599651180233,
         1.2156263845068915,
         1.2213422035087906,
         1.2380420877242408,
         1.2352922325026423,
         1.2386914459270932,
         1.239206324553707,
         1.2157013469709328,
         1.2276958511599436,
         1.213336148673741,
         1.2293608992553402,
         1.2422696699497233,
         1.2419815601543451,
         1.2346822881312631,
         1.221249282844737,
         1.2187746813339324,
         1.233770421036267,
         1.2262629067652173,
         1.226578714733843,
         1.2229807374141635,
         1.221984494550265,
         1.234422187757641,
         1.2257895094642508,
         1.2256947475082767,
         1.2283295886095102,
         1.2331050196286049,
         1.2294668539077287,
         1.2265650216641792,
         1.2374486939955878,
         1.2223425538673796,
         1.2326326885102559,
         1.2426462460087837,
         1.2290163996440429,
         1.2214307159378954,
         1.2251791574431536,
         1.2431991108669704,
         1.2319939907685709,
         1.2349841566271609,
         1.2347339838042075,
         1.2367171202158687,
         1.2312309013111506,
         1.219064489179252,
         1.2458715416315087,
         1.2333035523369378,
         1.2379136865878198,
         1.2336739249205826,
         1.2292041017200146,
         1.2138644286162616,
         1.2296859024123723,
         1.222077834306938,
         1.223455394679683,
         1.2185385441692076,
         1.2290509028462169,
         1.226176015204375,
         1.2327096740604764,
         1.235183165145209,
         1.2377045161008013,
         1.233180168653877,
         1.2270380386799213,
         1.228135195681815,
         1.2293074923786576,
         1.2324539679806075,
         1.2294442791000115,
         1.2322306009574289,
         1.2341008170703422,
         1.2188934123889477,
         1.237540976161941,
         1.226190847630223,
         1.2129877441786652,
         1.2335252161978492
        ]
       ],
       "encoder": "json",
       "name": "ABC_GAN_1 Metrics",
       "version": 1
      }
     },
     "metadata": {
      "scrapbook": {
       "data": true,
       "display": false,
       "name": "ABC_GAN_1 Metrics"
      }
     },
     "output_type": "display_data"
    },
    {
     "name": "stdout",
     "output_type": "stream",
     "text": [
      "MSE\n",
      "0.075593114479371\n"
     ]
    }
   ],
   "source": [
    "ABC_GAN1_metrics=ABC_train_test2.test_generator(gen,test_data,prior_model,variance,bias,\"1\",device)\n",
    "sb.glue(\"ABC_GAN_1 Metrics\",ABC_GAN1_metrics)\n",
    "\n",
    "print(\"MSE\")\n",
    "print(mean(ABC_GAN1_metrics[0]))"
   ]
  },
  {
   "cell_type": "code",
   "execution_count": 14,
   "id": "eb22ce5c",
   "metadata": {
    "execution": {
     "iopub.execute_input": "2022-06-07T06:18:43.755244Z",
     "iopub.status.busy": "2022-06-07T06:18:43.754884Z",
     "iopub.status.idle": "2022-06-07T06:18:44.054581Z",
     "shell.execute_reply": "2022-06-07T06:18:44.054886Z"
    },
    "papermill": {
     "duration": 0.31416,
     "end_time": "2022-06-07T06:18:44.055008",
     "exception": false,
     "start_time": "2022-06-07T06:18:43.740848",
     "status": "completed"
    },
    "tags": []
   },
   "outputs": [
    {
     "data": {
      "image/png": "[encoded data removed]",
      "text/plain": [
       "<Figure size 432x288 with 1 Axes>"
      ]
     },
     "metadata": {
      "needs_background": "light"
     },
     "output_type": "display_data"
    },
    {
     "data": {
      "image/png": "[encoded data removed]",
      "text/plain": [
       "<Figure size 432x288 with 1 Axes>"
      ]
     },
     "metadata": {
      "needs_background": "light"
     },
     "output_type": "display_data"
    },
    {
     "data": {
      "image/png": "[encoded data removed]",
      "text/plain": [
       "<Figure size 432x288 with 1 Axes>"
      ]
     },
     "metadata": {
      "needs_background": "light"
     },
     "output_type": "display_data"
    },
    {
     "data": {
      "image/png": "[encoded data removed]",
      "text/plain": [
       "<Figure size 432x288 with 1 Axes>"
      ]
     },
     "metadata": {
      "needs_background": "light"
     },
     "output_type": "display_data"
    }
   ],
   "source": [
    "sanityChecks.discProbVsError(train_data,disc,device)\n",
    "sanityChecks.discProbVsError(test_data,disc,device)"
   ]
  },
  {
   "cell_type": "markdown",
   "id": "130f3a4d",
   "metadata": {
    "id": "130f3a4d",
    "papermill": {
     "duration": 0.036762,
     "end_time": "2022-06-07T06:18:44.106314",
     "exception": false,
     "start_time": "2022-06-07T06:18:44.069552",
     "status": "completed"
    },
    "tags": []
   },
   "source": [
    "# ABC - GAN Model with skip connection"
   ]
  },
  {
   "cell_type": "code",
   "execution_count": 15,
   "id": "4e43dad1",
   "metadata": {
    "execution": {
     "iopub.execute_input": "2022-06-07T06:18:44.137998Z",
     "iopub.status.busy": "2022-06-07T06:18:44.137612Z",
     "iopub.status.idle": "2022-06-07T06:18:44.139941Z",
     "shell.execute_reply": "2022-06-07T06:18:44.140181Z"
    },
    "id": "4e43dad1",
    "papermill": {
     "duration": 0.01963,
     "end_time": "2022-06-07T06:18:44.140291",
     "exception": false,
     "start_time": "2022-06-07T06:18:44.120661",
     "status": "completed"
    },
    "tags": []
   },
   "outputs": [],
   "source": [
    "#Generator\n",
    "gen3 = network.GeneratorWithSkipConnection(n_features+1).to(device)\n",
    "constraints=network.weightConstraint()\n",
    "#Discriminator \n",
    "disc3 = network.Discriminator(n_features+1).to(device)\n",
    "\n",
    "criterion = torch.nn.BCELoss()\n",
    "gen_opt = torch.optim.Adam(gen3.parameters(), lr=0.001, betas=(0.5, 0.999))\n",
    "disc_opt = torch.optim.Adam(disc3.parameters(), lr=0.001, betas=(0.5, 0.999))\n"
   ]
  },
  {
   "cell_type": "code",
   "execution_count": 16,
   "id": "26acbc37",
   "metadata": {
    "execution": {
     "iopub.execute_input": "2022-06-07T06:18:44.171673Z",
     "iopub.status.busy": "2022-06-07T06:18:44.171305Z",
     "iopub.status.idle": "2022-06-07T06:19:24.104444Z",
     "shell.execute_reply": "2022-06-07T06:19:24.104773Z"
    },
    "id": "26acbc37",
    "papermill": {
     "duration": 39.949916,
     "end_time": "2022-06-07T06:19:24.104897",
     "exception": false,
     "start_time": "2022-06-07T06:18:44.154981",
     "status": "completed"
    },
    "tags": []
   },
   "outputs": [
    {
     "data": {
      "image/png": "[encoded data removed]",
      "text/plain": [
       "<Figure size 432x288 with 1 Axes>"
      ]
     },
     "metadata": {
      "needs_background": "light"
     },
     "output_type": "display_data"
    },
    {
     "data": {
      "image/png": "[encoded data removed]",
      "text/plain": [
       "<Figure size 432x288 with 1 Axes>"
      ]
     },
     "metadata": {
      "needs_background": "light"
     },
     "output_type": "display_data"
    }
   ],
   "source": [
    "ABC_train_test2.training_GAN_skip_connection(disc3,gen3,disc_opt,gen_opt,train_data,batch_size,n_epochs,criterion,prior_model,variance,bias,device)"
   ]
  },
  {
   "cell_type": "code",
   "execution_count": 17,
   "id": "c5e0717b",
   "metadata": {
    "execution": {
     "iopub.execute_input": "2022-06-07T06:19:24.138104Z",
     "iopub.status.busy": "2022-06-07T06:19:24.137662Z",
     "iopub.status.idle": "2022-06-07T06:19:24.452458Z",
     "shell.execute_reply": "2022-06-07T06:19:24.452856Z"
    },
    "id": "c5e0717b",
    "papermill": {
     "duration": 0.33281,
     "end_time": "2022-06-07T06:19:24.452978",
     "exception": false,
     "start_time": "2022-06-07T06:19:24.120168",
     "status": "completed"
    },
    "tags": []
   },
   "outputs": [
    {
     "data": {
      "application/scrapbook.scrap.json+json": {
       "data": 0.10044202870330037,
       "encoder": "json",
       "name": "ABC-GAN Model 3 MSE",
       "version": 1
      }
     },
     "metadata": {
      "scrapbook": {
       "data": true,
       "display": false,
       "name": "ABC-GAN Model 3 MSE"
      }
     },
     "output_type": "display_data"
    },
    {
     "data": {
      "application/scrapbook.scrap.json+json": {
       "data": 0.25760210732370614,
       "encoder": "json",
       "name": "ABC-GAN Model 3 MAE",
       "version": 1
      }
     },
     "metadata": {
      "scrapbook": {
       "data": true,
       "display": false,
       "name": "ABC-GAN Model 3 MAE"
      }
     },
     "output_type": "display_data"
    },
    {
     "data": {
      "application/scrapbook.scrap.json+json": {
       "data": 5.152042146474123,
       "encoder": "json",
       "name": "ABC-GAN Model 3 Manhattan Distance",
       "version": 1
      }
     },
     "metadata": {
      "scrapbook": {
       "data": true,
       "display": false,
       "name": "ABC-GAN Model 3 Manhattan Distance"
      }
     },
     "output_type": "display_data"
    },
    {
     "data": {
      "application/scrapbook.scrap.json+json": {
       "data": 1.4173097418181253,
       "encoder": "json",
       "name": "ABC-GAN Model 3 Euclidean distance",
       "version": 1
      }
     },
     "metadata": {
      "scrapbook": {
       "data": true,
       "display": false,
       "name": "ABC-GAN Model 3 Euclidean distance"
      }
     },
     "output_type": "display_data"
    },
    {
     "data": {
      "application/scrapbook.scrap.json+json": {
       "data": [
        [
         0.10052975915331634,
         0.1037964302036114,
         0.10080522834113803,
         0.10057736481200767,
         0.09885016491182272,
         0.10081320250908399,
         0.10037854534482768,
         0.09845405445210181,
         0.10094401875226726,
         0.10046176161874616,
         0.10088664083231377,
         0.10125524676407463,
         0.10213609593217117,
         0.09915552579374551,
         0.09966721025733746,
         0.09884370554143403,
         0.09969447894154324,
         0.09988413625895397,
         0.09893151320806082,
         0.10127005308220494,
         0.101243903415034,
         0.10044563136164467,
         0.1005281602771946,
         0.1009997009812,
         0.10216301440534344,
         0.10017574884712879,
         0.09830745575294937,
         0.10117918063822265,
         0.10120499932911613,
         0.10120611946224127,
         0.1000139845463073,
         0.10089443271704479,
         0.10230068585657523,
         0.1016952184402677,
         0.10295841475869616,
         0.09955174047821543,
         0.10144013642532976,
         0.10053575011837598,
         0.10278523049935888,
         0.10040600596153655,
         0.09843756200199817,
         0.10008261233845166,
         0.09737979569708569,
         0.10006545912041051,
         0.10141798032395251,
         0.10059226665396144,
         0.09935496672467052,
         0.10030579473984261,
         0.09901511209504249,
         0.10133029984496596,
         0.10206709173030289,
         0.10019319050719991,
         0.09920557697497379,
         0.09959426374774169,
         0.10087842013770824,
         0.10118060835597054,
         0.09885021833633721,
         0.10105954700757742,
         0.09806953148380385,
         0.10025111616853839,
         0.09992857207847304,
         0.1000979373029928,
         0.10112905013446376,
         0.09992823993226314,
         0.10100434177579458,
         0.10162167194443272,
         0.09803093881944051,
         0.10130919405504893,
         0.10179054674422838,
         0.10038178202460583,
         0.09946188663923748,
         0.10095237209975275,
         0.09924108454508418,
         0.09964197765796207,
         0.09857051616061517,
         0.10085519613910701,
         0.100366717595058,
         0.09967764752986574,
         0.10043970881142472,
         0.10024530588650755,
         0.10288741881774585,
         0.10136354415166673,
         0.1018057769811909,
         0.1004003988331759,
         0.10060536020786692,
         0.0990372656552387,
         0.10284569577848587,
         0.0997280862270248,
         0.10046098607071689,
         0.102744518783081,
         0.09895275397734146,
         0.09837120625144366,
         0.10078383557372854,
         0.1025180587880317,
         0.099489891007436,
         0.09904541413074838,
         0.10028201097937864,
         0.10054035297052599,
         0.10013875193656722,
         0.10082479035920197
        ],
        [
         0.2564772736281157,
         0.2603832226246595,
         0.2577438812702894,
         0.25703169740736487,
         0.25744015984237195,
         0.2595342811197042,
         0.25675463639199736,
         0.25546402744948865,
         0.2590679030865431,
         0.2583158206194639,
         0.25868357382714746,
         0.26170100905001165,
         0.2582446921616793,
         0.25729879178106785,
         0.25793275870382787,
         0.25631313808262346,
         0.2566738028079271,
         0.25605709962546824,
         0.25550953932106496,
         0.2591583114117384,
         0.2591983634978533,
         0.2576970409601927,
         0.25516841746866703,
         0.2597056765109301,
         0.25944888181984427,
         0.2555964719504118,
         0.25394907109439374,
         0.25772347711026666,
         0.2571518037468195,
         0.2593932207673788,
         0.25935813449323175,
         0.2553402017802,
         0.26238499246537683,
         0.2563805837184191,
         0.2597671184688807,
         0.25726870484650133,
         0.2576010052114725,
         0.2580403830856085,
         0.26049381829798224,
         0.2582572247833014,
         0.25425706841051576,
         0.2587039079517126,
         0.2533192541450262,
         0.2569136839359999,
         0.2594162981957197,
         0.2560797404497862,
         0.2570369068533182,
         0.2582102444022894,
         0.2567933011800051,
         0.2607294600456953,
         0.25834187753498555,
         0.25794681124389174,
         0.2546360533684492,
         0.2568437892943621,
         0.25873873494565486,
         0.25835338048636913,
         0.2543496388942003,
         0.2586928982287645,
         0.2540214221924543,
         0.25634013302624226,
         0.25846726857125757,
         0.257317129150033,
         0.2570015978068113,
         0.25763959176838397,
         0.2574487779289484,
         0.25825336910784247,
         0.25525329522788526,
         0.25767593197524546,
         0.2587333623319864,
         0.25849751718342306,
         0.25709395818412306,
         0.2579040195792913,
         0.2567963916808367,
         0.25604018159210684,
         0.25558718107640743,
         0.25831286795437336,
         0.25699064396321775,
         0.2567522134631872,
         0.2572755854576826,
         0.25858023054897783,
         0.2607422236353159,
         0.25740546397864816,
         0.25881392769515515,
         0.25932212807238103,
         0.25741254799067975,
         0.2563589084893465,
         0.2605281684547663,
         0.25581486113369467,
         0.25707090757787227,
         0.26059355922043326,
         0.2538817960768938,
         0.25442267023026943,
         0.25745130218565465,
         0.26122140772640706,
         0.2578466136008501,
         0.2575078088790178,
         0.25764717198908327,
         0.25875824727118013,
         0.25817134864628316,
         0.25618373788893223
        ],
        [
         5.129545472562313,
         5.207664452493191,
         5.154877625405788,
         5.140633948147297,
         5.148803196847439,
         5.190685622394085,
         5.135092727839947,
         5.109280548989773,
         5.181358061730862,
         5.166316412389278,
         5.17367147654295,
         5.234020181000233,
         5.164893843233585,
         5.145975835621357,
         5.158655174076557,
         5.12626276165247,
         5.133476056158543,
         5.121141992509365,
         5.110190786421299,
         5.183166228234768,
         5.183967269957066,
         5.153940819203854,
         5.103368349373341,
         5.194113530218601,
         5.188977636396885,
         5.111929439008236,
         5.078981421887875,
         5.154469542205334,
         5.14303607493639,
         5.187864415347576,
         5.1871626898646355,
         5.106804035604,
         5.247699849307537,
         5.1276116743683815,
         5.195342369377613,
         5.145374096930027,
         5.15202010422945,
         5.16080766171217,
         5.209876365959644,
         5.165144495666027,
         5.085141368210316,
         5.174078159034252,
         5.066385082900524,
         5.138273678719997,
         5.188325963914394,
         5.121594808995724,
         5.140738137066364,
         5.164204888045788,
         5.1358660236001015,
         5.214589200913906,
         5.166837550699711,
         5.158936224877834,
         5.092721067368984,
         5.136875785887241,
         5.174774698913097,
         5.167067609727383,
         5.0869927778840065,
         5.173857964575291,
         5.080428443849087,
         5.126802660524845,
         5.169345371425152,
         5.14634258300066,
         5.140031956136227,
         5.15279183536768,
         5.148975558578968,
         5.165067382156849,
         5.105065904557705,
         5.1535186395049095,
         5.1746672466397285,
         5.169950343668461,
         5.141879163682461,
         5.158080391585827,
         5.1359278336167336,
         5.120803631842136,
         5.111743621528149,
         5.166257359087467,
         5.139812879264355,
         5.135044269263744,
         5.145511709153652,
         5.171604610979557,
         5.214844472706318,
         5.148109279572964,
         5.176278553903103,
         5.18644256144762,
         5.148250959813595,
         5.12717816978693,
         5.2105633690953255,
         5.116297222673893,
         5.1414181515574455,
         5.211871184408665,
         5.077635921537876,
         5.088453404605389,
         5.149026043713093,
         5.224428154528141,
         5.156932272017002,
         5.150156177580357,
         5.152943439781666,
         5.175164945423603,
         5.163426972925663,
         5.123674757778645
        ],
        [
         1.417954577222531,
         1.4408083162142797,
         1.4198959704227492,
         1.4182902722081097,
         1.4060594931354982,
         1.4199521295387671,
         1.4168877538099318,
         1.4032394981050227,
         1.4208731030761843,
         1.4174749494699803,
         1.4204692241109187,
         1.4230618170977298,
         1.4292382301923718,
         1.408229567888315,
         1.4118584224867412,
         1.4060135528609532,
         1.4120515496365085,
         1.4133940445534217,
         1.406637929305625,
         1.423165858796542,
         1.4229821039987396,
         1.4173611491898928,
         1.4179433012444087,
         1.4212649364646972,
         1.4294265591861894,
         1.4154557488464894,
         1.4021943927498024,
         1.4225271922759342,
         1.422708679449986,
         1.422716552671271,
         1.4143124445914157,
         1.4205240773534589,
         1.4303893585774137,
         1.426150191531507,
         1.4349802420848599,
         1.4110403288227833,
         1.4243604629821045,
         1.4179968273474803,
         1.4337728585752967,
         1.4170815499577754,
         1.4031219619263193,
         1.4147975992236603,
         1.3955629380080692,
         1.414676352530221,
         1.4242049032632385,
         1.4183953373722111,
         1.4096451094135043,
         1.4163742071913241,
         1.40723212083183,
         1.423589125028468,
         1.4287553445590528,
         1.4155789664105631,
         1.4085849422379453,
         1.4113416577692426,
         1.4204113498399558,
         1.4225372287287987,
         1.4060598730945792,
         1.4216859499029835,
         1.40049656539246,
         1.4159881084849433,
         1.413708400473542,
         1.4149059142076748,
         1.4221747440765762,
         1.4137060510039783,
         1.4212975886547798,
         1.4256343987462754,
         1.4002209741283018,
         1.4234408597131736,
         1.4268184659880765,
         1.416910597212159,
         1.4104033936377032,
         1.4209318921028744,
         1.408836999408265,
         1.411679692125392,
         1.4040692017177443,
         1.4202478385064137,
         1.4168042743799019,
         1.411932346324467,
         1.4173193628214125,
         1.4159470744805933,
         1.434485404720075,
         1.4238226304681825,
         1.426925204635414,
         1.4170419812636175,
         1.4184876468116803,
         1.4073895385090702,
         1.434194518037814,
         1.412289532829758,
         1.417469478124428,
         1.43348888229439,
         1.4067889250157002,
         1.402648967143552,
         1.419745298099124,
         1.4319082288193732,
         1.4106019353980483,
         1.4074474351161281,
         1.4162062772024324,
         1.4180292872188924,
         1.415194346629234,
         1.420033734523247
        ]
       ],
       "encoder": "json",
       "name": "ABC_GAN_3 Metrics",
       "version": 1
      }
     },
     "metadata": {
      "scrapbook": {
       "data": true,
       "display": false,
       "name": "ABC_GAN_3 Metrics"
      }
     },
     "output_type": "display_data"
    },
    {
     "name": "stdout",
     "output_type": "stream",
     "text": [
      "MSE\n",
      "0.10044202870330037\n"
     ]
    }
   ],
   "source": [
    "ABC_GAN3_metrics=ABC_train_test2.test_generator(gen3,test_data,prior_model,variance,bias,\"3\",device)\n",
    "sb.glue(\"ABC_GAN_3 Metrics\",ABC_GAN3_metrics)\n",
    "\n",
    "print(\"MSE\")\n",
    "print(mean(ABC_GAN3_metrics[0]))"
   ]
  },
  {
   "cell_type": "code",
   "execution_count": 18,
   "id": "c8e46b48",
   "metadata": {
    "execution": {
     "iopub.execute_input": "2022-06-07T06:19:24.489125Z",
     "iopub.status.busy": "2022-06-07T06:19:24.488754Z",
     "iopub.status.idle": "2022-06-07T06:19:24.781500Z",
     "shell.execute_reply": "2022-06-07T06:19:24.781759Z"
    },
    "id": "c8e46b48",
    "papermill": {
     "duration": 0.312107,
     "end_time": "2022-06-07T06:19:24.781888",
     "exception": false,
     "start_time": "2022-06-07T06:19:24.469781",
     "status": "completed"
    },
    "tags": []
   },
   "outputs": [
    {
     "data": {
      "image/png": "[encoded data removed]",
      "text/plain": [
       "<Figure size 432x288 with 1 Axes>"
      ]
     },
     "metadata": {
      "needs_background": "light"
     },
     "output_type": "display_data"
    },
    {
     "data": {
      "image/png": "[encoded data removed]",
      "text/plain": [
       "<Figure size 432x288 with 1 Axes>"
      ]
     },
     "metadata": {
      "needs_background": "light"
     },
     "output_type": "display_data"
    },
    {
     "data": {
      "image/png": "[encoded data removed]",
      "text/plain": [
       "<Figure size 432x288 with 1 Axes>"
      ]
     },
     "metadata": {
      "needs_background": "light"
     },
     "output_type": "display_data"
    },
    {
     "data": {
      "image/png": "[encoded data removed]",
      "text/plain": [
       "<Figure size 432x288 with 1 Axes>"
      ]
     },
     "metadata": {
      "needs_background": "light"
     },
     "output_type": "display_data"
    }
   ],
   "source": [
    "sanityChecks.discProbVsError(train_data,disc3,device)\n",
    "sanityChecks.discProbVsError(test_data,disc3,device)"
   ]
  },
  {
   "cell_type": "markdown",
   "id": "a5bd74c3",
   "metadata": {
    "id": "a5bd74c3",
    "papermill": {
     "duration": 0.018853,
     "end_time": "2022-06-07T06:19:24.820246",
     "exception": false,
     "start_time": "2022-06-07T06:19:24.801393",
     "status": "completed"
    },
    "tags": []
   },
   "source": [
    "## Skip Connection Model Analysis - ABC-GAN "
   ]
  },
  {
   "cell_type": "markdown",
   "id": "5744a8bf",
   "metadata": {
    "id": "5744a8bf",
    "papermill": {
     "duration": 0.019461,
     "end_time": "2022-06-07T06:19:24.858522",
     "exception": false,
     "start_time": "2022-06-07T06:19:24.839061",
     "status": "completed"
    },
    "tags": []
   },
   "source": [
    "### Weight Analysis \n",
    "\n",
    "Study the weights of the skip connection layer\n",
    "\n",
    "Equation of the skip connection is \n",
    "\n",
    "$output = y_{gan} * w + y_{abc} * (1-w)$"
   ]
  },
  {
   "cell_type": "code",
   "execution_count": 19,
   "id": "52c31dea",
   "metadata": {
    "execution": {
     "iopub.execute_input": "2022-06-07T06:19:24.899090Z",
     "iopub.status.busy": "2022-06-07T06:19:24.898704Z",
     "iopub.status.idle": "2022-06-07T06:19:24.902129Z",
     "shell.execute_reply": "2022-06-07T06:19:24.902386Z"
    },
    "id": "52c31dea",
    "papermill": {
     "duration": 0.025025,
     "end_time": "2022-06-07T06:19:24.902508",
     "exception": false,
     "start_time": "2022-06-07T06:19:24.877483",
     "status": "completed"
    },
    "tags": []
   },
   "outputs": [
    {
     "name": "stdout",
     "output_type": "stream",
     "text": [
      "Weight of the node at skip connection\n",
      "Parameter containing:\n",
      "tensor([[0.3829]], requires_grad=True)\n"
     ]
    },
    {
     "data": {
      "application/scrapbook.scrap.json+json": {
       "data": 0.3828924596309662,
       "encoder": "json",
       "name": "Skip Connection Weight",
       "version": 1
      }
     },
     "metadata": {
      "scrapbook": {
       "data": true,
       "display": false,
       "name": "Skip Connection Weight"
      }
     },
     "output_type": "display_data"
    }
   ],
   "source": [
    "print(\"Weight of the node at skip connection\")\n",
    "for name,param in gen3.named_parameters():\n",
    "    if(name == \"skipNode.weight\"):\n",
    "        print(param)\n",
    "        sb.glue(\"Skip Connection Weight\",param.item())"
   ]
  }
 ],
 "metadata": {
  "colab": {
   "collapsed_sections": [],
   "name": "ABC_GAN_Model-Catboost_Pre-gen.ipynb",
   "provenance": []
  },
  "interpreter": {
   "hash": "31f2aee4e71d21fbe5cf8b01ff0e069b9275f58929596ceb00d14d90e3e16cd6"
  },
  "kernelspec": {
   "display_name": "Python 3 (ipykernel)",
   "language": "python",
   "name": "python3"
  },
  "language_info": {
   "codemirror_mode": {
    "name": "ipython",
    "version": 3
   },
   "file_extension": ".py",
   "mimetype": "text/x-python",
   "name": "python",
   "nbconvert_exporter": "python",
   "pygments_lexer": "ipython3",
   "version": "3.8.11"
  },
  "papermill": {
   "default_parameters": {},
   "duration": 60.711925,
   "end_time": "2022-06-07T06:19:25.231204",
   "environment_variables": {},
   "exception": null,
   "input_path": "ABC_GAN-Catboost.ipynb",
   "output_path": "./ABC_GAN_Catboost/ABC-GAN_output_3_5.ipynb",
   "parameters": {
    "bias": 0.1,
    "variance": 0.01
   },
   "start_time": "2022-06-07T06:18:24.519279",
   "version": "2.3.3"
  }
 },
 "nbformat": 4,
 "nbformat_minor": 5
}