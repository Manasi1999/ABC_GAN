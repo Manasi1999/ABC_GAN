{
 "cells": [
  {
   "cell_type": "markdown",
   "id": "622780e6",
   "metadata": {
    "id": "622780e6",
    "papermill": {
     "duration": 0.034828,
     "end_time": "2022-06-07T07:02:17.565047",
     "exception": false,
     "start_time": "2022-06-07T07:02:17.530219",
     "status": "completed"
    },
    "tags": []
   },
   "source": [
    "## Import Libraries "
   ]
  },
  {
   "cell_type": "code",
   "execution_count": 1,
   "id": "a62397e3",
   "metadata": {
    "execution": {
     "iopub.execute_input": "2022-06-07T07:02:17.601424Z",
     "iopub.status.busy": "2022-06-07T07:02:17.600889Z",
     "iopub.status.idle": "2022-06-07T07:02:17.603195Z",
     "shell.execute_reply": "2022-06-07T07:02:17.603521Z"
    },
    "id": "a62397e3",
    "papermill": {
     "duration": 0.022767,
     "end_time": "2022-06-07T07:02:17.603721",
     "exception": false,
     "start_time": "2022-06-07T07:02:17.580954",
     "status": "completed"
    },
    "tags": []
   },
   "outputs": [],
   "source": [
    "import warnings\n",
    "import sys\n",
    "sys.path.insert(0, '../../src')\n",
    "warnings.filterwarnings('ignore')"
   ]
  },
  {
   "cell_type": "code",
   "execution_count": 2,
   "id": "d6a4e155",
   "metadata": {
    "execution": {
     "iopub.execute_input": "2022-06-07T07:02:17.624170Z",
     "iopub.status.busy": "2022-06-07T07:02:17.623767Z",
     "iopub.status.idle": "2022-06-07T07:02:19.684157Z",
     "shell.execute_reply": "2022-06-07T07:02:19.684447Z"
    },
    "id": "d6a4e155",
    "papermill": {
     "duration": 2.071354,
     "end_time": "2022-06-07T07:02:19.684611",
     "exception": false,
     "start_time": "2022-06-07T07:02:17.613257",
     "status": "completed"
    },
    "tags": []
   },
   "outputs": [],
   "source": [
    "import ABC_train_test2\n",
    "import friedman1Dataset\n",
    "import network\n",
    "import dataset\n",
    "import sanityChecks\n",
    "import torch \n",
    "import scrapbook as sb\n",
    "from statistics import mean \n",
    "import catboost as ctb \n",
    "from sklearn.model_selection import train_test_split\n",
    "from sklearn.metrics import mean_squared_error,mean_absolute_error\n",
    "import numpy as np"
   ]
  },
  {
   "cell_type": "markdown",
   "id": "2fa5b0f7",
   "metadata": {
    "id": "2fa5b0f7",
    "papermill": {
     "duration": 0.007555,
     "end_time": "2022-06-07T07:02:19.699872",
     "exception": false,
     "start_time": "2022-06-07T07:02:19.692317",
     "status": "completed"
    },
    "tags": []
   },
   "source": [
    "## Parameters "
   ]
  },
  {
   "cell_type": "code",
   "execution_count": 3,
   "id": "783186fb",
   "metadata": {
    "execution": {
     "iopub.execute_input": "2022-06-07T07:02:19.717296Z",
     "iopub.status.busy": "2022-06-07T07:02:19.716897Z",
     "iopub.status.idle": "2022-06-07T07:02:19.718375Z",
     "shell.execute_reply": "2022-06-07T07:02:19.718851Z"
    },
    "id": "783186fb",
    "papermill": {
     "duration": 0.01158,
     "end_time": "2022-06-07T07:02:19.718987",
     "exception": false,
     "start_time": "2022-06-07T07:02:19.707407",
     "status": "completed"
    },
    "tags": [
     "parameters"
    ]
   },
   "outputs": [],
   "source": [
    "variance = 1\n",
    "bias = 1 "
   ]
  },
  {
   "cell_type": "code",
   "execution_count": 4,
   "id": "a3f37d6e",
   "metadata": {
    "execution": {
     "iopub.execute_input": "2022-06-07T07:02:19.736188Z",
     "iopub.status.busy": "2022-06-07T07:02:19.735708Z",
     "iopub.status.idle": "2022-06-07T07:02:19.737058Z",
     "shell.execute_reply": "2022-06-07T07:02:19.737311Z"
    },
    "papermill": {
     "duration": 0.011245,
     "end_time": "2022-06-07T07:02:19.737435",
     "exception": false,
     "start_time": "2022-06-07T07:02:19.726190",
     "status": "completed"
    },
    "tags": [
     "injected-parameters"
    ]
   },
   "outputs": [],
   "source": [
    "# Parameters\n",
    "variance = 1\n",
    "bias = 0.01\n"
   ]
  },
  {
   "cell_type": "markdown",
   "id": "391cdbfd",
   "metadata": {
    "id": "391cdbfd",
    "papermill": {
     "duration": 0.007553,
     "end_time": "2022-06-07T07:02:19.752145",
     "exception": false,
     "start_time": "2022-06-07T07:02:19.744592",
     "status": "completed"
    },
    "tags": []
   },
   "source": [
    "## Dataset \n"
   ]
  },
  {
   "cell_type": "code",
   "execution_count": 5,
   "id": "5b51f161",
   "metadata": {
    "execution": {
     "iopub.execute_input": "2022-06-07T07:02:19.769708Z",
     "iopub.status.busy": "2022-06-07T07:02:19.769240Z",
     "iopub.status.idle": "2022-06-07T07:02:19.770480Z",
     "shell.execute_reply": "2022-06-07T07:02:19.770741Z"
    },
    "id": "5b51f161",
    "papermill": {
     "duration": 0.01145,
     "end_time": "2022-06-07T07:02:19.770870",
     "exception": false,
     "start_time": "2022-06-07T07:02:19.759420",
     "status": "completed"
    },
    "tags": []
   },
   "outputs": [],
   "source": [
    "#Parameters \n",
    "n_features = 5\n",
    "n_samples= 100\n",
    "n_target = 1 "
   ]
  },
  {
   "cell_type": "code",
   "execution_count": 6,
   "id": "5d6eced4",
   "metadata": {
    "execution": {
     "iopub.execute_input": "2022-06-07T07:02:19.789713Z",
     "iopub.status.busy": "2022-06-07T07:02:19.789325Z",
     "iopub.status.idle": "2022-06-07T07:02:19.794283Z",
     "shell.execute_reply": "2022-06-07T07:02:19.794525Z"
    },
    "id": "5d6eced4",
    "papermill": {
     "duration": 0.016538,
     "end_time": "2022-06-07T07:02:19.794643",
     "exception": false,
     "start_time": "2022-06-07T07:02:19.778105",
     "status": "completed"
    },
    "tags": []
   },
   "outputs": [
    {
     "name": "stdout",
     "output_type": "stream",
     "text": [
      "         X0        X1        X2        X3        X4         Y\n",
      "0 -0.070220 -0.343220 -1.556535 -1.056155 -0.525881 -0.248178\n",
      "1  1.063329  1.999469 -1.027367  1.717187 -1.267685  1.113581\n",
      "2 -1.312223  1.043816 -0.983817  1.481716 -0.792281  0.029316\n",
      "3 -1.116930 -0.647024  1.558959  1.694709 -1.655278  0.193644\n",
      "4  1.272428 -1.300068  0.705234 -1.794603 -1.600679 -2.176141\n"
     ]
    }
   ],
   "source": [
    "X,Y = friedman1Dataset.friedman1_data(n_samples,n_features)"
   ]
  },
  {
   "cell_type": "code",
   "execution_count": 7,
   "id": "fe007438",
   "metadata": {
    "execution": {
     "iopub.execute_input": "2022-06-07T07:02:19.813134Z",
     "iopub.status.busy": "2022-06-07T07:02:19.812757Z",
     "iopub.status.idle": "2022-06-07T07:02:19.813879Z",
     "shell.execute_reply": "2022-06-07T07:02:19.814108Z"
    },
    "id": "fe007438",
    "papermill": {
     "duration": 0.011632,
     "end_time": "2022-06-07T07:02:19.814224",
     "exception": false,
     "start_time": "2022-06-07T07:02:19.802592",
     "status": "completed"
    },
    "tags": []
   },
   "outputs": [],
   "source": [
    "#Train test split for dataset \n",
    "X_train,X_test,Y_train,Y_test = train_test_split(X,Y,test_size = 0.2)\n",
    "train_data = dataset.CustomDataset(X_train,Y_train)\n",
    "test_data = dataset.CustomDataset(X_test,Y_test)\n"
   ]
  },
  {
   "cell_type": "markdown",
   "id": "a9a1af34",
   "metadata": {
    "id": "a9a1af34",
    "papermill": {
     "duration": 0.007315,
     "end_time": "2022-06-07T07:02:19.829581",
     "exception": false,
     "start_time": "2022-06-07T07:02:19.822266",
     "status": "completed"
    },
    "tags": []
   },
   "source": [
    "## Training Parameters "
   ]
  },
  {
   "cell_type": "code",
   "execution_count": 8,
   "id": "952b7fc8",
   "metadata": {
    "execution": {
     "iopub.execute_input": "2022-06-07T07:02:19.847346Z",
     "iopub.status.busy": "2022-06-07T07:02:19.846972Z",
     "iopub.status.idle": "2022-06-07T07:02:19.848657Z",
     "shell.execute_reply": "2022-06-07T07:02:19.848948Z"
    },
    "id": "952b7fc8",
    "papermill": {
     "duration": 0.01179,
     "end_time": "2022-06-07T07:02:19.849089",
     "exception": false,
     "start_time": "2022-06-07T07:02:19.837299",
     "status": "completed"
    },
    "tags": []
   },
   "outputs": [],
   "source": [
    "batch_size = 32\n",
    "n_epochs = 1000\n",
    "#Select the device \n",
    "device = torch.device('cuda' if torch.cuda.is_available() else 'cpu')"
   ]
  },
  {
   "cell_type": "markdown",
   "id": "a95e1600",
   "metadata": {
    "id": "a95e1600",
    "papermill": {
     "duration": 0.007468,
     "end_time": "2022-06-07T07:02:19.864365",
     "exception": false,
     "start_time": "2022-06-07T07:02:19.856897",
     "status": "completed"
    },
    "tags": []
   },
   "source": [
    "# ABC Pre-generator Model \n",
    "\n",
    "1. The catboost model is used as a pre-generator model for the ABC-GAN. \n",
    "2. The model is first trained on the entire dataset \n",
    "3. It generats X,Y pairs and we add some Gaussian noise with mean 0 and variance 1 to it which is then feed as input to the generator.\n"
   ]
  },
  {
   "cell_type": "code",
   "execution_count": 9,
   "id": "ff8ce7bd",
   "metadata": {
    "execution": {
     "iopub.execute_input": "2022-06-07T07:02:19.885053Z",
     "iopub.status.busy": "2022-06-07T07:02:19.884234Z",
     "iopub.status.idle": "2022-06-07T07:02:20.507736Z",
     "shell.execute_reply": "2022-06-07T07:02:20.508039Z"
    },
    "id": "ff8ce7bd",
    "papermill": {
     "duration": 0.635827,
     "end_time": "2022-06-07T07:02:20.508163",
     "exception": false,
     "start_time": "2022-06-07T07:02:19.872336",
     "status": "completed"
    },
    "tags": []
   },
   "outputs": [
    {
     "name": "stdout",
     "output_type": "stream",
     "text": [
      "Learning rate set to 0.024897\n",
      "0:\tlearn: 0.9449442\ttotal: 56.5ms\tremaining: 56.4s\n",
      "1:\tlearn: 0.9346377\ttotal: 57.2ms\tremaining: 28.5s\n",
      "2:\tlearn: 0.9256700\ttotal: 57.7ms\tremaining: 19.2s\n",
      "3:\tlearn: 0.9167633\ttotal: 58.2ms\tremaining: 14.5s\n",
      "4:\tlearn: 0.9075275\ttotal: 58.8ms\tremaining: 11.7s\n",
      "5:\tlearn: 0.8989786\ttotal: 59.3ms\tremaining: 9.83s\n",
      "6:\tlearn: 0.8893601\ttotal: 60.1ms\tremaining: 8.53s\n",
      "7:\tlearn: 0.8811554\ttotal: 60.8ms\tremaining: 7.54s\n",
      "8:\tlearn: 0.8724342\ttotal: 61.5ms\tremaining: 6.78s\n",
      "9:\tlearn: 0.8645933\ttotal: 62.1ms\tremaining: 6.15s\n",
      "10:\tlearn: 0.8560028\ttotal: 62.7ms\tremaining: 5.63s\n",
      "11:\tlearn: 0.8472960\ttotal: 63.3ms\tremaining: 5.21s\n",
      "12:\tlearn: 0.8384390\ttotal: 63.9ms\tremaining: 4.85s\n",
      "13:\tlearn: 0.8297234\ttotal: 64.5ms\tremaining: 4.54s\n",
      "14:\tlearn: 0.8212729\ttotal: 65.1ms\tremaining: 4.28s\n",
      "15:\tlearn: 0.8127712\ttotal: 65.5ms\tremaining: 4.03s\n",
      "16:\tlearn: 0.8050923\ttotal: 66ms\tremaining: 3.82s\n",
      "17:\tlearn: 0.7982472\ttotal: 66.5ms\tremaining: 3.63s\n",
      "18:\tlearn: 0.7908791\ttotal: 66.9ms\tremaining: 3.46s\n",
      "19:\tlearn: 0.7839652\ttotal: 67.6ms\tremaining: 3.31s\n",
      "20:\tlearn: 0.7761707\ttotal: 68.3ms\tremaining: 3.18s\n",
      "21:\tlearn: 0.7692475\ttotal: 68.8ms\tremaining: 3.06s\n",
      "22:\tlearn: 0.7619381\ttotal: 69.2ms\tremaining: 2.94s\n",
      "23:\tlearn: 0.7551075\ttotal: 69.6ms\tremaining: 2.83s\n",
      "24:\tlearn: 0.7483507\ttotal: 70.2ms\tremaining: 2.74s\n",
      "25:\tlearn: 0.7406993\ttotal: 70.7ms\tremaining: 2.65s\n",
      "26:\tlearn: 0.7339555\ttotal: 71.2ms\tremaining: 2.56s\n",
      "27:\tlearn: 0.7267569\ttotal: 71.7ms\tremaining: 2.49s\n",
      "28:\tlearn: 0.7204176\ttotal: 72.2ms\tremaining: 2.42s\n",
      "29:\tlearn: 0.7136923\ttotal: 73.4ms\tremaining: 2.37s\n",
      "30:\tlearn: 0.7064815\ttotal: 73.8ms\tremaining: 2.31s\n",
      "31:\tlearn: 0.6988419\ttotal: 74.3ms\tremaining: 2.25s\n",
      "32:\tlearn: 0.6929947\ttotal: 74.7ms\tremaining: 2.19s\n",
      "33:\tlearn: 0.6860561\ttotal: 75.1ms\tremaining: 2.13s\n",
      "34:\tlearn: 0.6796982\ttotal: 75.7ms\tremaining: 2.09s\n",
      "35:\tlearn: 0.6743002\ttotal: 76.2ms\tremaining: 2.04s\n",
      "36:\tlearn: 0.6681328\ttotal: 76.7ms\tremaining: 2s\n",
      "37:\tlearn: 0.6627304\ttotal: 77.2ms\tremaining: 1.96s\n",
      "38:\tlearn: 0.6564438\ttotal: 77.7ms\tremaining: 1.91s\n",
      "39:\tlearn: 0.6512507\ttotal: 78.1ms\tremaining: 1.88s\n",
      "40:\tlearn: 0.6451688\ttotal: 78.6ms\tremaining: 1.84s\n",
      "41:\tlearn: 0.6402107\ttotal: 79.3ms\tremaining: 1.81s\n",
      "42:\tlearn: 0.6347952\ttotal: 79.7ms\tremaining: 1.77s\n",
      "43:\tlearn: 0.6296875\ttotal: 80.2ms\tremaining: 1.74s\n",
      "44:\tlearn: 0.6243400\ttotal: 80.6ms\tremaining: 1.71s\n",
      "45:\tlearn: 0.6194742\ttotal: 81.3ms\tremaining: 1.69s\n",
      "46:\tlearn: 0.6143335\ttotal: 81.6ms\tremaining: 1.66s\n",
      "47:\tlearn: 0.6085837\ttotal: 82.1ms\tremaining: 1.63s\n",
      "48:\tlearn: 0.6028045\ttotal: 82.7ms\tremaining: 1.6s\n",
      "49:\tlearn: 0.5969593\ttotal: 83.1ms\tremaining: 1.58s\n",
      "50:\tlearn: 0.5907883\ttotal: 83.7ms\tremaining: 1.56s\n",
      "51:\tlearn: 0.5859850\ttotal: 84.1ms\tremaining: 1.53s\n",
      "52:\tlearn: 0.5810849\ttotal: 84.6ms\tremaining: 1.51s\n",
      "53:\tlearn: 0.5750714\ttotal: 85ms\tremaining: 1.49s\n",
      "54:\tlearn: 0.5701656\ttotal: 85.5ms\tremaining: 1.47s\n",
      "55:\tlearn: 0.5651122\ttotal: 85.9ms\tremaining: 1.45s\n",
      "56:\tlearn: 0.5594067\ttotal: 86.5ms\tremaining: 1.43s\n",
      "57:\tlearn: 0.5539189\ttotal: 87ms\tremaining: 1.41s\n",
      "58:\tlearn: 0.5491190\ttotal: 87.5ms\tremaining: 1.4s\n",
      "59:\tlearn: 0.5444059\ttotal: 88ms\tremaining: 1.38s\n",
      "60:\tlearn: 0.5394428\ttotal: 88.5ms\tremaining: 1.36s\n",
      "61:\tlearn: 0.5348784\ttotal: 89ms\tremaining: 1.35s\n",
      "62:\tlearn: 0.5306397\ttotal: 89.6ms\tremaining: 1.33s\n",
      "63:\tlearn: 0.5259294\ttotal: 90ms\tremaining: 1.32s\n",
      "64:\tlearn: 0.5226314\ttotal: 90.5ms\tremaining: 1.3s\n",
      "65:\tlearn: 0.5181398\ttotal: 90.9ms\tremaining: 1.29s\n",
      "66:\tlearn: 0.5132667\ttotal: 92.1ms\tremaining: 1.28s\n",
      "67:\tlearn: 0.5092710\ttotal: 92.8ms\tremaining: 1.27s\n",
      "68:\tlearn: 0.5052046\ttotal: 93.3ms\tremaining: 1.26s\n",
      "69:\tlearn: 0.5006781\ttotal: 93.9ms\tremaining: 1.25s\n",
      "70:\tlearn: 0.4971160\ttotal: 94.7ms\tremaining: 1.24s\n",
      "71:\tlearn: 0.4929631\ttotal: 95.2ms\tremaining: 1.23s\n",
      "72:\tlearn: 0.4888305\ttotal: 95.6ms\tremaining: 1.21s\n",
      "73:\tlearn: 0.4849838\ttotal: 96.3ms\tremaining: 1.2s\n",
      "74:\tlearn: 0.4816655\ttotal: 96.7ms\tremaining: 1.19s\n",
      "75:\tlearn: 0.4781836\ttotal: 97.1ms\tremaining: 1.18s\n",
      "76:\tlearn: 0.4738986\ttotal: 97.5ms\tremaining: 1.17s\n",
      "77:\tlearn: 0.4701529\ttotal: 98ms\tremaining: 1.16s\n",
      "78:\tlearn: 0.4667325\ttotal: 98.5ms\tremaining: 1.15s\n",
      "79:\tlearn: 0.4628407\ttotal: 99.1ms\tremaining: 1.14s\n",
      "80:\tlearn: 0.4586942\ttotal: 99.6ms\tremaining: 1.13s\n",
      "81:\tlearn: 0.4551723\ttotal: 100ms\tremaining: 1.12s\n",
      "82:\tlearn: 0.4511066\ttotal: 100ms\tremaining: 1.11s\n",
      "83:\tlearn: 0.4475581\ttotal: 101ms\tremaining: 1.1s\n"
     ]
    },
    {
     "name": "stdout",
     "output_type": "stream",
     "text": [
      "84:\tlearn: 0.4440515\ttotal: 102ms\tremaining: 1.09s\n",
      "85:\tlearn: 0.4403595\ttotal: 102ms\tremaining: 1.08s\n",
      "86:\tlearn: 0.4366232\ttotal: 102ms\tremaining: 1.07s\n",
      "87:\tlearn: 0.4328474\ttotal: 103ms\tremaining: 1.07s\n",
      "88:\tlearn: 0.4294769\ttotal: 103ms\tremaining: 1.06s\n",
      "89:\tlearn: 0.4268444\ttotal: 104ms\tremaining: 1.05s\n",
      "90:\tlearn: 0.4231575\ttotal: 104ms\tremaining: 1.04s\n",
      "91:\tlearn: 0.4195228\ttotal: 105ms\tremaining: 1.03s\n",
      "92:\tlearn: 0.4163833\ttotal: 105ms\tremaining: 1.03s\n",
      "93:\tlearn: 0.4132388\ttotal: 106ms\tremaining: 1.02s\n",
      "94:\tlearn: 0.4106109\ttotal: 107ms\tremaining: 1.01s\n",
      "95:\tlearn: 0.4076096\ttotal: 107ms\tremaining: 1.01s\n",
      "96:\tlearn: 0.4049692\ttotal: 107ms\tremaining: 1s\n",
      "97:\tlearn: 0.4022402\ttotal: 108ms\tremaining: 994ms\n",
      "98:\tlearn: 0.3991563\ttotal: 109ms\tremaining: 989ms\n",
      "99:\tlearn: 0.3962119\ttotal: 109ms\tremaining: 983ms\n",
      "100:\tlearn: 0.3932675\ttotal: 110ms\tremaining: 978ms\n",
      "101:\tlearn: 0.3903423\ttotal: 110ms\tremaining: 970ms\n",
      "102:\tlearn: 0.3873837\ttotal: 111ms\tremaining: 963ms\n",
      "103:\tlearn: 0.3846911\ttotal: 111ms\tremaining: 956ms\n",
      "104:\tlearn: 0.3818344\ttotal: 112ms\tremaining: 951ms\n",
      "105:\tlearn: 0.3788132\ttotal: 112ms\tremaining: 944ms\n",
      "106:\tlearn: 0.3756179\ttotal: 113ms\tremaining: 941ms\n",
      "107:\tlearn: 0.3728871\ttotal: 113ms\tremaining: 935ms\n",
      "108:\tlearn: 0.3701524\ttotal: 114ms\tremaining: 929ms\n",
      "109:\tlearn: 0.3673780\ttotal: 114ms\tremaining: 923ms\n",
      "110:\tlearn: 0.3645411\ttotal: 114ms\tremaining: 917ms\n",
      "111:\tlearn: 0.3621844\ttotal: 115ms\tremaining: 912ms\n",
      "112:\tlearn: 0.3593699\ttotal: 115ms\tremaining: 906ms\n",
      "113:\tlearn: 0.3562160\ttotal: 116ms\tremaining: 901ms\n",
      "114:\tlearn: 0.3536824\ttotal: 116ms\tremaining: 896ms\n",
      "115:\tlearn: 0.3512966\ttotal: 117ms\tremaining: 891ms\n",
      "116:\tlearn: 0.3489693\ttotal: 117ms\tremaining: 886ms\n",
      "117:\tlearn: 0.3465518\ttotal: 118ms\tremaining: 882ms\n",
      "118:\tlearn: 0.3444452\ttotal: 118ms\tremaining: 877ms\n",
      "119:\tlearn: 0.3420651\ttotal: 119ms\tremaining: 873ms\n",
      "120:\tlearn: 0.3398090\ttotal: 120ms\tremaining: 868ms\n",
      "121:\tlearn: 0.3380066\ttotal: 120ms\tremaining: 863ms\n",
      "122:\tlearn: 0.3350196\ttotal: 120ms\tremaining: 858ms\n",
      "123:\tlearn: 0.3323102\ttotal: 121ms\tremaining: 855ms\n",
      "124:\tlearn: 0.3301381\ttotal: 121ms\tremaining: 850ms\n",
      "125:\tlearn: 0.3278341\ttotal: 122ms\tremaining: 846ms\n",
      "126:\tlearn: 0.3261091\ttotal: 122ms\tremaining: 842ms\n",
      "127:\tlearn: 0.3239209\ttotal: 123ms\tremaining: 839ms\n",
      "128:\tlearn: 0.3215622\ttotal: 124ms\tremaining: 836ms\n",
      "129:\tlearn: 0.3195034\ttotal: 124ms\tremaining: 833ms\n",
      "130:\tlearn: 0.3176812\ttotal: 125ms\tremaining: 828ms\n",
      "131:\tlearn: 0.3159147\ttotal: 125ms\tremaining: 825ms\n",
      "132:\tlearn: 0.3139053\ttotal: 126ms\tremaining: 821ms\n",
      "133:\tlearn: 0.3117031\ttotal: 126ms\tremaining: 817ms\n",
      "134:\tlearn: 0.3097953\ttotal: 127ms\tremaining: 813ms\n",
      "135:\tlearn: 0.3077358\ttotal: 127ms\tremaining: 809ms\n",
      "136:\tlearn: 0.3056348\ttotal: 128ms\tremaining: 805ms\n",
      "137:\tlearn: 0.3036827\ttotal: 128ms\tremaining: 801ms\n",
      "138:\tlearn: 0.3018542\ttotal: 129ms\tremaining: 797ms\n",
      "139:\tlearn: 0.2999782\ttotal: 129ms\tremaining: 793ms\n",
      "140:\tlearn: 0.2982069\ttotal: 130ms\tremaining: 789ms\n",
      "141:\tlearn: 0.2962716\ttotal: 130ms\tremaining: 785ms\n",
      "142:\tlearn: 0.2941920\ttotal: 131ms\tremaining: 782ms\n",
      "143:\tlearn: 0.2922996\ttotal: 131ms\tremaining: 779ms\n",
      "144:\tlearn: 0.2902803\ttotal: 131ms\tremaining: 775ms\n",
      "145:\tlearn: 0.2881623\ttotal: 132ms\tremaining: 772ms\n",
      "146:\tlearn: 0.2858316\ttotal: 132ms\tremaining: 768ms\n",
      "147:\tlearn: 0.2841373\ttotal: 133ms\tremaining: 765ms\n",
      "148:\tlearn: 0.2822749\ttotal: 133ms\tremaining: 762ms\n",
      "149:\tlearn: 0.2802635\ttotal: 134ms\tremaining: 758ms\n",
      "150:\tlearn: 0.2784279\ttotal: 134ms\tremaining: 754ms\n",
      "151:\tlearn: 0.2769147\ttotal: 135ms\tremaining: 751ms\n",
      "152:\tlearn: 0.2750946\ttotal: 135ms\tremaining: 747ms\n",
      "153:\tlearn: 0.2732194\ttotal: 136ms\tremaining: 745ms\n",
      "154:\tlearn: 0.2717856\ttotal: 136ms\tremaining: 743ms\n",
      "155:\tlearn: 0.2701229\ttotal: 137ms\tremaining: 740ms\n",
      "156:\tlearn: 0.2684997\ttotal: 137ms\tremaining: 737ms\n",
      "157:\tlearn: 0.2669859\ttotal: 138ms\tremaining: 734ms\n",
      "158:\tlearn: 0.2652665\ttotal: 138ms\tremaining: 730ms\n",
      "159:\tlearn: 0.2637761\ttotal: 138ms\tremaining: 727ms\n",
      "160:\tlearn: 0.2622030\ttotal: 139ms\tremaining: 725ms\n",
      "161:\tlearn: 0.2605356\ttotal: 140ms\tremaining: 722ms\n",
      "162:\tlearn: 0.2585849\ttotal: 140ms\tremaining: 720ms\n",
      "163:\tlearn: 0.2573195\ttotal: 141ms\tremaining: 717ms\n",
      "164:\tlearn: 0.2558934\ttotal: 141ms\tremaining: 714ms\n",
      "165:\tlearn: 0.2547113\ttotal: 141ms\tremaining: 711ms\n",
      "166:\tlearn: 0.2531758\ttotal: 142ms\tremaining: 708ms\n",
      "167:\tlearn: 0.2518468\ttotal: 142ms\tremaining: 705ms\n",
      "168:\tlearn: 0.2498107\ttotal: 143ms\tremaining: 702ms\n",
      "169:\tlearn: 0.2484649\ttotal: 143ms\tremaining: 700ms\n",
      "170:\tlearn: 0.2468190\ttotal: 144ms\tremaining: 697ms\n",
      "171:\tlearn: 0.2450738\ttotal: 144ms\tremaining: 694ms\n",
      "172:\tlearn: 0.2437415\ttotal: 144ms\tremaining: 691ms\n",
      "173:\tlearn: 0.2422289\ttotal: 145ms\tremaining: 688ms\n",
      "174:\tlearn: 0.2407911\ttotal: 145ms\tremaining: 685ms\n",
      "175:\tlearn: 0.2392521\ttotal: 146ms\tremaining: 682ms\n",
      "176:\tlearn: 0.2378242\ttotal: 146ms\tremaining: 681ms\n",
      "177:\tlearn: 0.2364705\ttotal: 147ms\tremaining: 678ms\n",
      "178:\tlearn: 0.2350065\ttotal: 147ms\tremaining: 676ms\n",
      "179:\tlearn: 0.2335045\ttotal: 148ms\tremaining: 674ms\n",
      "180:\tlearn: 0.2320262\ttotal: 148ms\tremaining: 671ms\n",
      "181:\tlearn: 0.2309054\ttotal: 149ms\tremaining: 669ms\n",
      "182:\tlearn: 0.2294688\ttotal: 149ms\tremaining: 666ms\n",
      "183:\tlearn: 0.2277345\ttotal: 150ms\tremaining: 663ms\n",
      "184:\tlearn: 0.2265139\ttotal: 150ms\tremaining: 661ms\n",
      "185:\tlearn: 0.2252284\ttotal: 151ms\tremaining: 659ms\n",
      "186:\tlearn: 0.2236479\ttotal: 151ms\tremaining: 658ms\n",
      "187:\tlearn: 0.2218161\ttotal: 152ms\tremaining: 656ms\n",
      "188:\tlearn: 0.2204084\ttotal: 152ms\tremaining: 653ms\n",
      "189:\tlearn: 0.2189671\ttotal: 153ms\tremaining: 651ms\n",
      "190:\tlearn: 0.2173353\ttotal: 153ms\tremaining: 649ms\n",
      "191:\tlearn: 0.2156024\ttotal: 154ms\tremaining: 648ms\n",
      "192:\tlearn: 0.2142363\ttotal: 155ms\tremaining: 647ms\n",
      "193:\tlearn: 0.2127006\ttotal: 155ms\tremaining: 645ms\n",
      "194:\tlearn: 0.2114066\ttotal: 156ms\tremaining: 642ms\n",
      "195:\tlearn: 0.2102770\ttotal: 156ms\tremaining: 640ms\n",
      "196:\tlearn: 0.2091231\ttotal: 156ms\tremaining: 638ms\n",
      "197:\tlearn: 0.2079563\ttotal: 157ms\tremaining: 635ms\n",
      "198:\tlearn: 0.2066220\ttotal: 157ms\tremaining: 633ms\n",
      "199:\tlearn: 0.2053889\ttotal: 158ms\tremaining: 631ms\n",
      "200:\tlearn: 0.2040942\ttotal: 158ms\tremaining: 629ms\n",
      "201:\tlearn: 0.2027302\ttotal: 159ms\tremaining: 627ms\n",
      "202:\tlearn: 0.2017009\ttotal: 159ms\tremaining: 624ms\n",
      "203:\tlearn: 0.2007676\ttotal: 159ms\tremaining: 622ms\n",
      "204:\tlearn: 0.1994983\ttotal: 160ms\tremaining: 621ms\n",
      "205:\tlearn: 0.1981398\ttotal: 161ms\tremaining: 619ms\n",
      "206:\tlearn: 0.1970496\ttotal: 161ms\tremaining: 617ms\n",
      "207:\tlearn: 0.1959367\ttotal: 162ms\tremaining: 615ms\n",
      "208:\tlearn: 0.1946705\ttotal: 162ms\tremaining: 613ms\n",
      "209:\tlearn: 0.1938914\ttotal: 162ms\tremaining: 611ms\n",
      "210:\tlearn: 0.1926783\ttotal: 163ms\tremaining: 609ms\n",
      "211:\tlearn: 0.1917441\ttotal: 163ms\tremaining: 607ms\n",
      "212:\tlearn: 0.1908001\ttotal: 164ms\tremaining: 604ms\n",
      "213:\tlearn: 0.1898297\ttotal: 164ms\tremaining: 602ms\n",
      "214:\tlearn: 0.1882235\ttotal: 164ms\tremaining: 601ms\n",
      "215:\tlearn: 0.1873347\ttotal: 165ms\tremaining: 599ms\n",
      "216:\tlearn: 0.1861362\ttotal: 165ms\tremaining: 597ms\n",
      "217:\tlearn: 0.1853037\ttotal: 166ms\tremaining: 595ms\n",
      "218:\tlearn: 0.1841177\ttotal: 166ms\tremaining: 594ms\n",
      "219:\tlearn: 0.1827880\ttotal: 167ms\tremaining: 592ms\n",
      "220:\tlearn: 0.1816614\ttotal: 167ms\tremaining: 590ms\n",
      "221:\tlearn: 0.1804579\ttotal: 168ms\tremaining: 588ms\n",
      "222:\tlearn: 0.1791009\ttotal: 168ms\tremaining: 587ms\n",
      "223:\tlearn: 0.1779867\ttotal: 169ms\tremaining: 585ms\n",
      "224:\tlearn: 0.1769200\ttotal: 169ms\tremaining: 584ms\n",
      "225:\tlearn: 0.1757768\ttotal: 170ms\tremaining: 582ms\n",
      "226:\tlearn: 0.1744823\ttotal: 170ms\tremaining: 580ms\n",
      "227:\tlearn: 0.1735760\ttotal: 171ms\tremaining: 579ms\n",
      "228:\tlearn: 0.1727359\ttotal: 172ms\tremaining: 578ms\n",
      "229:\tlearn: 0.1717453\ttotal: 172ms\tremaining: 576ms\n",
      "230:\tlearn: 0.1704940\ttotal: 173ms\tremaining: 575ms\n",
      "231:\tlearn: 0.1694227\ttotal: 173ms\tremaining: 573ms\n",
      "232:\tlearn: 0.1682600\ttotal: 174ms\tremaining: 572ms\n",
      "233:\tlearn: 0.1670664\ttotal: 174ms\tremaining: 570ms\n",
      "234:\tlearn: 0.1662383\ttotal: 174ms\tremaining: 568ms\n",
      "235:\tlearn: 0.1653251\ttotal: 175ms\tremaining: 566ms\n",
      "236:\tlearn: 0.1641234\ttotal: 175ms\tremaining: 565ms\n",
      "237:\tlearn: 0.1629295\ttotal: 176ms\tremaining: 563ms\n",
      "238:\tlearn: 0.1618923\ttotal: 176ms\tremaining: 561ms\n",
      "239:\tlearn: 0.1605881\ttotal: 177ms\tremaining: 559ms\n",
      "240:\tlearn: 0.1595039\ttotal: 177ms\tremaining: 557ms\n",
      "241:\tlearn: 0.1585565\ttotal: 178ms\tremaining: 556ms\n",
      "242:\tlearn: 0.1575072\ttotal: 178ms\tremaining: 554ms\n",
      "243:\tlearn: 0.1566241\ttotal: 178ms\tremaining: 552ms\n",
      "244:\tlearn: 0.1558981\ttotal: 179ms\tremaining: 550ms\n",
      "245:\tlearn: 0.1552307\ttotal: 179ms\tremaining: 549ms\n",
      "246:\tlearn: 0.1543446\ttotal: 179ms\tremaining: 547ms\n",
      "247:\tlearn: 0.1532132\ttotal: 180ms\tremaining: 546ms\n",
      "248:\tlearn: 0.1519775\ttotal: 180ms\tremaining: 544ms\n",
      "249:\tlearn: 0.1511038\ttotal: 181ms\tremaining: 543ms\n",
      "250:\tlearn: 0.1498869\ttotal: 182ms\tremaining: 542ms\n",
      "251:\tlearn: 0.1490801\ttotal: 182ms\tremaining: 541ms\n",
      "252:\tlearn: 0.1484403\ttotal: 183ms\tremaining: 539ms\n",
      "253:\tlearn: 0.1473941\ttotal: 183ms\tremaining: 538ms\n",
      "254:\tlearn: 0.1465259\ttotal: 184ms\tremaining: 537ms\n",
      "255:\tlearn: 0.1457581\ttotal: 185ms\tremaining: 536ms\n"
     ]
    },
    {
     "name": "stdout",
     "output_type": "stream",
     "text": [
      "256:\tlearn: 0.1449805\ttotal: 185ms\tremaining: 536ms\n",
      "257:\tlearn: 0.1441451\ttotal: 186ms\tremaining: 536ms\n",
      "258:\tlearn: 0.1432709\ttotal: 187ms\tremaining: 535ms\n",
      "259:\tlearn: 0.1423131\ttotal: 187ms\tremaining: 533ms\n",
      "260:\tlearn: 0.1416424\ttotal: 188ms\tremaining: 532ms\n",
      "261:\tlearn: 0.1405465\ttotal: 188ms\tremaining: 530ms\n",
      "262:\tlearn: 0.1394738\ttotal: 189ms\tremaining: 529ms\n",
      "263:\tlearn: 0.1385012\ttotal: 189ms\tremaining: 527ms\n",
      "264:\tlearn: 0.1378531\ttotal: 190ms\tremaining: 526ms\n",
      "265:\tlearn: 0.1371168\ttotal: 190ms\tremaining: 525ms\n",
      "266:\tlearn: 0.1364149\ttotal: 191ms\tremaining: 523ms\n",
      "267:\tlearn: 0.1357603\ttotal: 191ms\tremaining: 522ms\n",
      "268:\tlearn: 0.1350381\ttotal: 191ms\tremaining: 520ms\n",
      "269:\tlearn: 0.1339887\ttotal: 192ms\tremaining: 519ms\n",
      "270:\tlearn: 0.1334195\ttotal: 193ms\tremaining: 518ms\n",
      "271:\tlearn: 0.1325111\ttotal: 193ms\tremaining: 517ms\n",
      "272:\tlearn: 0.1315614\ttotal: 193ms\tremaining: 515ms\n",
      "273:\tlearn: 0.1308270\ttotal: 194ms\tremaining: 514ms\n",
      "274:\tlearn: 0.1299709\ttotal: 194ms\tremaining: 512ms\n",
      "275:\tlearn: 0.1293046\ttotal: 195ms\tremaining: 511ms\n",
      "276:\tlearn: 0.1285209\ttotal: 195ms\tremaining: 510ms\n",
      "277:\tlearn: 0.1278761\ttotal: 196ms\tremaining: 508ms\n",
      "278:\tlearn: 0.1272434\ttotal: 196ms\tremaining: 507ms\n",
      "279:\tlearn: 0.1266571\ttotal: 197ms\tremaining: 506ms\n",
      "280:\tlearn: 0.1261354\ttotal: 197ms\tremaining: 505ms\n",
      "281:\tlearn: 0.1252347\ttotal: 198ms\tremaining: 504ms\n",
      "282:\tlearn: 0.1243124\ttotal: 198ms\tremaining: 502ms\n",
      "283:\tlearn: 0.1236232\ttotal: 199ms\tremaining: 501ms\n",
      "284:\tlearn: 0.1231008\ttotal: 199ms\tremaining: 500ms\n",
      "285:\tlearn: 0.1224338\ttotal: 200ms\tremaining: 499ms\n",
      "286:\tlearn: 0.1218731\ttotal: 201ms\tremaining: 498ms\n",
      "287:\tlearn: 0.1209783\ttotal: 201ms\tremaining: 497ms\n",
      "288:\tlearn: 0.1203730\ttotal: 202ms\tremaining: 496ms\n",
      "289:\tlearn: 0.1196991\ttotal: 202ms\tremaining: 494ms\n",
      "290:\tlearn: 0.1187715\ttotal: 202ms\tremaining: 493ms\n",
      "291:\tlearn: 0.1177731\ttotal: 203ms\tremaining: 492ms\n",
      "292:\tlearn: 0.1172981\ttotal: 203ms\tremaining: 490ms\n",
      "293:\tlearn: 0.1164302\ttotal: 204ms\tremaining: 489ms\n",
      "294:\tlearn: 0.1155736\ttotal: 204ms\tremaining: 488ms\n",
      "295:\tlearn: 0.1147136\ttotal: 204ms\tremaining: 486ms\n",
      "296:\tlearn: 0.1138854\ttotal: 205ms\tremaining: 486ms\n",
      "297:\tlearn: 0.1133902\ttotal: 206ms\tremaining: 484ms\n",
      "298:\tlearn: 0.1127480\ttotal: 206ms\tremaining: 483ms\n",
      "299:\tlearn: 0.1120619\ttotal: 207ms\tremaining: 482ms\n",
      "300:\tlearn: 0.1113275\ttotal: 207ms\tremaining: 481ms\n",
      "301:\tlearn: 0.1106872\ttotal: 208ms\tremaining: 480ms\n",
      "302:\tlearn: 0.1099995\ttotal: 208ms\tremaining: 479ms\n",
      "303:\tlearn: 0.1094454\ttotal: 209ms\tremaining: 477ms\n",
      "304:\tlearn: 0.1087922\ttotal: 209ms\tremaining: 476ms\n",
      "305:\tlearn: 0.1079419\ttotal: 209ms\tremaining: 475ms\n",
      "306:\tlearn: 0.1072027\ttotal: 210ms\tremaining: 474ms\n",
      "307:\tlearn: 0.1065823\ttotal: 210ms\tremaining: 473ms\n",
      "308:\tlearn: 0.1059754\ttotal: 211ms\tremaining: 471ms\n",
      "309:\tlearn: 0.1052030\ttotal: 211ms\tremaining: 471ms\n",
      "310:\tlearn: 0.1044331\ttotal: 212ms\tremaining: 470ms\n",
      "311:\tlearn: 0.1040066\ttotal: 213ms\tremaining: 469ms\n",
      "312:\tlearn: 0.1035517\ttotal: 213ms\tremaining: 468ms\n",
      "313:\tlearn: 0.1028464\ttotal: 214ms\tremaining: 467ms\n",
      "314:\tlearn: 0.1020887\ttotal: 214ms\tremaining: 466ms\n",
      "315:\tlearn: 0.1013089\ttotal: 215ms\tremaining: 465ms\n",
      "316:\tlearn: 0.1008931\ttotal: 215ms\tremaining: 464ms\n",
      "317:\tlearn: 0.1000294\ttotal: 216ms\tremaining: 463ms\n",
      "318:\tlearn: 0.0992795\ttotal: 216ms\tremaining: 462ms\n",
      "319:\tlearn: 0.0985180\ttotal: 217ms\tremaining: 461ms\n",
      "320:\tlearn: 0.0976967\ttotal: 218ms\tremaining: 460ms\n",
      "321:\tlearn: 0.0969541\ttotal: 218ms\tremaining: 459ms\n",
      "322:\tlearn: 0.0965732\ttotal: 218ms\tremaining: 458ms\n",
      "323:\tlearn: 0.0958354\ttotal: 219ms\tremaining: 457ms\n",
      "324:\tlearn: 0.0951197\ttotal: 219ms\tremaining: 456ms\n",
      "325:\tlearn: 0.0945100\ttotal: 220ms\tremaining: 455ms\n",
      "326:\tlearn: 0.0938450\ttotal: 221ms\tremaining: 454ms\n",
      "327:\tlearn: 0.0932569\ttotal: 221ms\tremaining: 453ms\n",
      "328:\tlearn: 0.0926808\ttotal: 222ms\tremaining: 452ms\n",
      "329:\tlearn: 0.0920297\ttotal: 222ms\tremaining: 451ms\n",
      "330:\tlearn: 0.0914121\ttotal: 223ms\tremaining: 450ms\n",
      "331:\tlearn: 0.0907067\ttotal: 223ms\tremaining: 449ms\n",
      "332:\tlearn: 0.0900916\ttotal: 224ms\tremaining: 448ms\n",
      "333:\tlearn: 0.0897930\ttotal: 224ms\tremaining: 447ms\n",
      "334:\tlearn: 0.0891691\ttotal: 225ms\tremaining: 446ms\n",
      "335:\tlearn: 0.0885812\ttotal: 225ms\tremaining: 445ms\n",
      "336:\tlearn: 0.0879472\ttotal: 226ms\tremaining: 444ms\n",
      "337:\tlearn: 0.0877300\ttotal: 226ms\tremaining: 443ms\n",
      "338:\tlearn: 0.0872004\ttotal: 227ms\tremaining: 442ms\n",
      "339:\tlearn: 0.0869163\ttotal: 227ms\tremaining: 441ms\n",
      "340:\tlearn: 0.0863017\ttotal: 228ms\tremaining: 440ms\n",
      "341:\tlearn: 0.0858670\ttotal: 228ms\tremaining: 439ms\n",
      "342:\tlearn: 0.0855275\ttotal: 229ms\tremaining: 438ms\n",
      "343:\tlearn: 0.0849262\ttotal: 229ms\tremaining: 437ms\n",
      "344:\tlearn: 0.0844892\ttotal: 230ms\tremaining: 436ms\n",
      "345:\tlearn: 0.0842118\ttotal: 230ms\tremaining: 435ms\n",
      "346:\tlearn: 0.0839396\ttotal: 231ms\tremaining: 434ms\n",
      "347:\tlearn: 0.0836725\ttotal: 231ms\tremaining: 433ms\n",
      "348:\tlearn: 0.0834419\ttotal: 232ms\tremaining: 432ms\n",
      "349:\tlearn: 0.0832825\ttotal: 233ms\tremaining: 433ms\n",
      "350:\tlearn: 0.0828933\ttotal: 233ms\tremaining: 431ms\n",
      "351:\tlearn: 0.0826392\ttotal: 234ms\tremaining: 431ms\n",
      "352:\tlearn: 0.0821573\ttotal: 234ms\tremaining: 430ms\n",
      "353:\tlearn: 0.0816305\ttotal: 235ms\tremaining: 429ms\n",
      "354:\tlearn: 0.0810846\ttotal: 235ms\tremaining: 428ms\n",
      "355:\tlearn: 0.0808705\ttotal: 236ms\tremaining: 426ms\n",
      "356:\tlearn: 0.0803166\ttotal: 236ms\tremaining: 425ms\n",
      "357:\tlearn: 0.0801153\ttotal: 237ms\tremaining: 424ms\n",
      "358:\tlearn: 0.0799688\ttotal: 237ms\tremaining: 423ms\n",
      "359:\tlearn: 0.0797403\ttotal: 238ms\tremaining: 422ms\n",
      "360:\tlearn: 0.0795053\ttotal: 238ms\tremaining: 421ms\n",
      "361:\tlearn: 0.0793633\ttotal: 238ms\tremaining: 420ms\n",
      "362:\tlearn: 0.0791790\ttotal: 239ms\tremaining: 419ms\n",
      "363:\tlearn: 0.0790403\ttotal: 239ms\tremaining: 418ms\n",
      "364:\tlearn: 0.0785314\ttotal: 240ms\tremaining: 417ms\n",
      "365:\tlearn: 0.0779127\ttotal: 240ms\tremaining: 416ms\n",
      "366:\tlearn: 0.0777346\ttotal: 241ms\tremaining: 416ms\n",
      "367:\tlearn: 0.0776031\ttotal: 241ms\tremaining: 414ms\n",
      "368:\tlearn: 0.0771632\ttotal: 242ms\tremaining: 414ms\n",
      "369:\tlearn: 0.0767953\ttotal: 243ms\tremaining: 413ms\n",
      "370:\tlearn: 0.0766650\ttotal: 243ms\tremaining: 412ms\n",
      "371:\tlearn: 0.0765366\ttotal: 244ms\tremaining: 411ms\n",
      "372:\tlearn: 0.0760404\ttotal: 244ms\tremaining: 410ms\n",
      "373:\tlearn: 0.0755573\ttotal: 245ms\tremaining: 409ms\n",
      "374:\tlearn: 0.0751562\ttotal: 245ms\tremaining: 409ms\n",
      "375:\tlearn: 0.0746822\ttotal: 246ms\tremaining: 408ms\n",
      "376:\tlearn: 0.0742867\ttotal: 246ms\tremaining: 407ms\n",
      "377:\tlearn: 0.0738156\ttotal: 247ms\tremaining: 406ms\n",
      "378:\tlearn: 0.0734319\ttotal: 247ms\tremaining: 405ms\n",
      "379:\tlearn: 0.0730971\ttotal: 248ms\tremaining: 404ms\n",
      "380:\tlearn: 0.0726406\ttotal: 248ms\tremaining: 403ms\n",
      "381:\tlearn: 0.0723811\ttotal: 248ms\tremaining: 402ms\n",
      "382:\tlearn: 0.0719996\ttotal: 249ms\tremaining: 401ms\n",
      "383:\tlearn: 0.0715474\ttotal: 249ms\tremaining: 400ms\n",
      "384:\tlearn: 0.0712189\ttotal: 250ms\tremaining: 399ms\n",
      "385:\tlearn: 0.0707762\ttotal: 250ms\tremaining: 398ms\n",
      "386:\tlearn: 0.0703522\ttotal: 250ms\tremaining: 397ms\n",
      "387:\tlearn: 0.0699772\ttotal: 251ms\tremaining: 396ms\n",
      "388:\tlearn: 0.0695490\ttotal: 251ms\tremaining: 395ms\n",
      "389:\tlearn: 0.0691300\ttotal: 252ms\tremaining: 394ms\n",
      "390:\tlearn: 0.0687264\ttotal: 252ms\tremaining: 393ms\n",
      "391:\tlearn: 0.0683181\ttotal: 253ms\tremaining: 392ms\n",
      "392:\tlearn: 0.0679267\ttotal: 253ms\tremaining: 391ms\n",
      "393:\tlearn: 0.0675287\ttotal: 253ms\tremaining: 390ms\n",
      "394:\tlearn: 0.0671981\ttotal: 254ms\tremaining: 389ms\n",
      "395:\tlearn: 0.0669001\ttotal: 254ms\tremaining: 388ms\n",
      "396:\tlearn: 0.0665071\ttotal: 255ms\tremaining: 387ms\n",
      "397:\tlearn: 0.0661222\ttotal: 255ms\tremaining: 386ms\n",
      "398:\tlearn: 0.0657415\ttotal: 256ms\tremaining: 385ms\n",
      "399:\tlearn: 0.0653789\ttotal: 256ms\tremaining: 384ms\n",
      "400:\tlearn: 0.0651918\ttotal: 257ms\tremaining: 384ms\n",
      "401:\tlearn: 0.0648235\ttotal: 257ms\tremaining: 383ms\n",
      "402:\tlearn: 0.0643742\ttotal: 258ms\tremaining: 382ms\n",
      "403:\tlearn: 0.0640139\ttotal: 258ms\tremaining: 381ms\n",
      "404:\tlearn: 0.0636607\ttotal: 259ms\tremaining: 380ms\n",
      "405:\tlearn: 0.0632785\ttotal: 260ms\tremaining: 380ms\n",
      "406:\tlearn: 0.0628788\ttotal: 260ms\tremaining: 379ms\n",
      "407:\tlearn: 0.0624903\ttotal: 261ms\tremaining: 378ms\n",
      "408:\tlearn: 0.0621614\ttotal: 261ms\tremaining: 378ms\n",
      "409:\tlearn: 0.0618414\ttotal: 262ms\tremaining: 377ms\n",
      "410:\tlearn: 0.0614777\ttotal: 262ms\tremaining: 376ms\n",
      "411:\tlearn: 0.0611252\ttotal: 263ms\tremaining: 375ms\n",
      "412:\tlearn: 0.0607834\ttotal: 263ms\tremaining: 374ms\n",
      "413:\tlearn: 0.0606065\ttotal: 264ms\tremaining: 373ms\n",
      "414:\tlearn: 0.0602714\ttotal: 264ms\tremaining: 372ms\n",
      "415:\tlearn: 0.0599669\ttotal: 264ms\tremaining: 371ms\n",
      "416:\tlearn: 0.0596481\ttotal: 265ms\tremaining: 370ms\n",
      "417:\tlearn: 0.0594565\ttotal: 265ms\tremaining: 369ms\n",
      "418:\tlearn: 0.0591889\ttotal: 266ms\tremaining: 368ms\n",
      "419:\tlearn: 0.0589865\ttotal: 266ms\tremaining: 367ms\n",
      "420:\tlearn: 0.0587893\ttotal: 267ms\tremaining: 367ms\n",
      "421:\tlearn: 0.0585289\ttotal: 267ms\tremaining: 366ms\n",
      "422:\tlearn: 0.0582812\ttotal: 267ms\tremaining: 365ms\n",
      "423:\tlearn: 0.0581487\ttotal: 268ms\tremaining: 364ms\n",
      "424:\tlearn: 0.0578195\ttotal: 268ms\tremaining: 363ms\n",
      "425:\tlearn: 0.0575224\ttotal: 269ms\tremaining: 362ms\n",
      "426:\tlearn: 0.0572725\ttotal: 269ms\tremaining: 361ms\n",
      "427:\tlearn: 0.0571444\ttotal: 270ms\tremaining: 360ms\n",
      "428:\tlearn: 0.0568548\ttotal: 270ms\tremaining: 360ms\n",
      "429:\tlearn: 0.0565792\ttotal: 271ms\tremaining: 359ms\n",
      "430:\tlearn: 0.0562963\ttotal: 271ms\tremaining: 358ms\n",
      "431:\tlearn: 0.0560114\ttotal: 272ms\tremaining: 358ms\n",
      "432:\tlearn: 0.0558291\ttotal: 272ms\tremaining: 357ms\n",
      "433:\tlearn: 0.0555979\ttotal: 273ms\tremaining: 356ms\n",
      "434:\tlearn: 0.0553286\ttotal: 274ms\tremaining: 356ms\n",
      "435:\tlearn: 0.0552088\ttotal: 274ms\tremaining: 355ms\n",
      "436:\tlearn: 0.0549740\ttotal: 275ms\tremaining: 354ms\n",
      "437:\tlearn: 0.0548568\ttotal: 275ms\tremaining: 353ms\n",
      "438:\tlearn: 0.0547237\ttotal: 276ms\tremaining: 352ms\n",
      "439:\tlearn: 0.0544561\ttotal: 276ms\tremaining: 352ms\n",
      "440:\tlearn: 0.0541968\ttotal: 277ms\tremaining: 351ms\n",
      "441:\tlearn: 0.0540127\ttotal: 277ms\tremaining: 350ms\n",
      "442:\tlearn: 0.0537517\ttotal: 278ms\tremaining: 350ms\n",
      "443:\tlearn: 0.0536403\ttotal: 279ms\tremaining: 349ms\n",
      "444:\tlearn: 0.0533898\ttotal: 279ms\tremaining: 348ms\n",
      "445:\tlearn: 0.0531106\ttotal: 279ms\tremaining: 347ms\n",
      "446:\tlearn: 0.0528603\ttotal: 280ms\tremaining: 346ms\n",
      "447:\tlearn: 0.0525987\ttotal: 280ms\tremaining: 345ms\n",
      "448:\tlearn: 0.0523535\ttotal: 281ms\tremaining: 345ms\n",
      "449:\tlearn: 0.0520992\ttotal: 281ms\tremaining: 344ms\n",
      "450:\tlearn: 0.0518338\ttotal: 282ms\tremaining: 343ms\n",
      "451:\tlearn: 0.0516223\ttotal: 282ms\tremaining: 342ms\n",
      "452:\tlearn: 0.0514489\ttotal: 282ms\tremaining: 341ms\n"
     ]
    },
    {
     "name": "stdout",
     "output_type": "stream",
     "text": [
      "453:\tlearn: 0.0512454\ttotal: 283ms\tremaining: 341ms\n",
      "454:\tlearn: 0.0511438\ttotal: 284ms\tremaining: 340ms\n",
      "455:\tlearn: 0.0508575\ttotal: 284ms\tremaining: 339ms\n",
      "456:\tlearn: 0.0506029\ttotal: 285ms\tremaining: 339ms\n",
      "457:\tlearn: 0.0504012\ttotal: 285ms\tremaining: 338ms\n",
      "458:\tlearn: 0.0502054\ttotal: 286ms\tremaining: 337ms\n",
      "459:\tlearn: 0.0500104\ttotal: 286ms\tremaining: 336ms\n",
      "460:\tlearn: 0.0499057\ttotal: 286ms\tremaining: 335ms\n",
      "461:\tlearn: 0.0498182\ttotal: 287ms\tremaining: 334ms\n",
      "462:\tlearn: 0.0497320\ttotal: 288ms\tremaining: 334ms\n",
      "463:\tlearn: 0.0495653\ttotal: 288ms\tremaining: 333ms\n",
      "464:\tlearn: 0.0494810\ttotal: 289ms\tremaining: 332ms\n",
      "465:\tlearn: 0.0492449\ttotal: 289ms\tremaining: 332ms\n",
      "466:\tlearn: 0.0491216\ttotal: 290ms\tremaining: 331ms\n",
      "467:\tlearn: 0.0489347\ttotal: 291ms\tremaining: 330ms\n",
      "468:\tlearn: 0.0487040\ttotal: 291ms\tremaining: 329ms\n",
      "469:\tlearn: 0.0486059\ttotal: 291ms\tremaining: 329ms\n",
      "470:\tlearn: 0.0485158\ttotal: 292ms\tremaining: 328ms\n",
      "471:\tlearn: 0.0482898\ttotal: 292ms\tremaining: 327ms\n",
      "472:\tlearn: 0.0482020\ttotal: 293ms\tremaining: 326ms\n",
      "473:\tlearn: 0.0479804\ttotal: 293ms\tremaining: 325ms\n",
      "474:\tlearn: 0.0478880\ttotal: 293ms\tremaining: 324ms\n",
      "475:\tlearn: 0.0476702\ttotal: 294ms\tremaining: 323ms\n",
      "476:\tlearn: 0.0475859\ttotal: 294ms\tremaining: 322ms\n",
      "477:\tlearn: 0.0474963\ttotal: 294ms\tremaining: 322ms\n",
      "478:\tlearn: 0.0472792\ttotal: 295ms\tremaining: 321ms\n",
      "479:\tlearn: 0.0471973\ttotal: 295ms\tremaining: 320ms\n",
      "480:\tlearn: 0.0469870\ttotal: 296ms\tremaining: 319ms\n",
      "481:\tlearn: 0.0467977\ttotal: 296ms\tremaining: 318ms\n",
      "482:\tlearn: 0.0466121\ttotal: 297ms\tremaining: 318ms\n",
      "483:\tlearn: 0.0464084\ttotal: 297ms\tremaining: 317ms\n",
      "484:\tlearn: 0.0462276\ttotal: 298ms\tremaining: 316ms\n",
      "485:\tlearn: 0.0461420\ttotal: 298ms\tremaining: 315ms\n",
      "486:\tlearn: 0.0458912\ttotal: 298ms\tremaining: 314ms\n",
      "487:\tlearn: 0.0458135\ttotal: 299ms\tremaining: 314ms\n",
      "488:\tlearn: 0.0455953\ttotal: 299ms\tremaining: 313ms\n",
      "489:\tlearn: 0.0455193\ttotal: 300ms\tremaining: 312ms\n",
      "490:\tlearn: 0.0452788\ttotal: 300ms\tremaining: 311ms\n",
      "491:\tlearn: 0.0451977\ttotal: 301ms\tremaining: 311ms\n",
      "492:\tlearn: 0.0451240\ttotal: 302ms\tremaining: 310ms\n",
      "493:\tlearn: 0.0448564\ttotal: 302ms\tremaining: 310ms\n",
      "494:\tlearn: 0.0447780\ttotal: 303ms\tremaining: 309ms\n",
      "495:\tlearn: 0.0445575\ttotal: 303ms\tremaining: 308ms\n",
      "496:\tlearn: 0.0444806\ttotal: 304ms\tremaining: 308ms\n",
      "497:\tlearn: 0.0444103\ttotal: 304ms\tremaining: 307ms\n",
      "498:\tlearn: 0.0441940\ttotal: 305ms\tremaining: 306ms\n",
      "499:\tlearn: 0.0441192\ttotal: 306ms\tremaining: 306ms\n",
      "500:\tlearn: 0.0440509\ttotal: 306ms\tremaining: 305ms\n",
      "501:\tlearn: 0.0438389\ttotal: 307ms\tremaining: 304ms\n",
      "502:\tlearn: 0.0437661\ttotal: 307ms\tremaining: 303ms\n",
      "503:\tlearn: 0.0436999\ttotal: 307ms\tremaining: 302ms\n",
      "504:\tlearn: 0.0434450\ttotal: 308ms\tremaining: 302ms\n",
      "505:\tlearn: 0.0432381\ttotal: 308ms\tremaining: 301ms\n",
      "506:\tlearn: 0.0431677\ttotal: 309ms\tremaining: 300ms\n",
      "507:\tlearn: 0.0431038\ttotal: 309ms\tremaining: 299ms\n",
      "508:\tlearn: 0.0429010\ttotal: 309ms\tremaining: 298ms\n",
      "509:\tlearn: 0.0428325\ttotal: 310ms\tremaining: 298ms\n",
      "510:\tlearn: 0.0427654\ttotal: 310ms\tremaining: 297ms\n",
      "511:\tlearn: 0.0427040\ttotal: 311ms\tremaining: 296ms\n",
      "512:\tlearn: 0.0424594\ttotal: 311ms\tremaining: 295ms\n",
      "513:\tlearn: 0.0423945\ttotal: 312ms\tremaining: 295ms\n",
      "514:\tlearn: 0.0421964\ttotal: 312ms\tremaining: 294ms\n",
      "515:\tlearn: 0.0421373\ttotal: 312ms\tremaining: 293ms\n",
      "516:\tlearn: 0.0420742\ttotal: 313ms\tremaining: 292ms\n",
      "517:\tlearn: 0.0418800\ttotal: 313ms\tremaining: 292ms\n",
      "518:\tlearn: 0.0418226\ttotal: 314ms\tremaining: 291ms\n",
      "519:\tlearn: 0.0417612\ttotal: 314ms\tremaining: 290ms\n",
      "520:\tlearn: 0.0415418\ttotal: 315ms\tremaining: 289ms\n",
      "521:\tlearn: 0.0414859\ttotal: 315ms\tremaining: 288ms\n",
      "522:\tlearn: 0.0413353\ttotal: 316ms\tremaining: 288ms\n",
      "523:\tlearn: 0.0411467\ttotal: 316ms\tremaining: 287ms\n",
      "524:\tlearn: 0.0410871\ttotal: 317ms\tremaining: 286ms\n",
      "525:\tlearn: 0.0410330\ttotal: 317ms\tremaining: 286ms\n",
      "526:\tlearn: 0.0407786\ttotal: 318ms\tremaining: 285ms\n",
      "527:\tlearn: 0.0407264\ttotal: 318ms\tremaining: 285ms\n",
      "528:\tlearn: 0.0406439\ttotal: 319ms\tremaining: 284ms\n",
      "529:\tlearn: 0.0405871\ttotal: 319ms\tremaining: 283ms\n",
      "530:\tlearn: 0.0404424\ttotal: 320ms\tremaining: 282ms\n",
      "531:\tlearn: 0.0403910\ttotal: 320ms\tremaining: 282ms\n",
      "532:\tlearn: 0.0401844\ttotal: 321ms\tremaining: 281ms\n",
      "533:\tlearn: 0.0401047\ttotal: 321ms\tremaining: 280ms\n",
      "534:\tlearn: 0.0399903\ttotal: 322ms\tremaining: 280ms\n",
      "535:\tlearn: 0.0399361\ttotal: 322ms\tremaining: 279ms\n",
      "536:\tlearn: 0.0398868\ttotal: 323ms\tremaining: 278ms\n",
      "537:\tlearn: 0.0397160\ttotal: 323ms\tremaining: 278ms\n",
      "538:\tlearn: 0.0395161\ttotal: 324ms\tremaining: 277ms\n",
      "539:\tlearn: 0.0394395\ttotal: 324ms\tremaining: 276ms\n",
      "540:\tlearn: 0.0392735\ttotal: 325ms\tremaining: 276ms\n",
      "541:\tlearn: 0.0390088\ttotal: 325ms\tremaining: 275ms\n",
      "542:\tlearn: 0.0389004\ttotal: 326ms\tremaining: 274ms\n",
      "543:\tlearn: 0.0387483\ttotal: 326ms\tremaining: 273ms\n",
      "544:\tlearn: 0.0385888\ttotal: 327ms\tremaining: 273ms\n",
      "545:\tlearn: 0.0383332\ttotal: 327ms\tremaining: 272ms\n",
      "546:\tlearn: 0.0382598\ttotal: 327ms\tremaining: 271ms\n",
      "547:\tlearn: 0.0380761\ttotal: 328ms\tremaining: 270ms\n",
      "548:\tlearn: 0.0379182\ttotal: 328ms\tremaining: 270ms\n",
      "549:\tlearn: 0.0378462\ttotal: 329ms\tremaining: 269ms\n",
      "550:\tlearn: 0.0377436\ttotal: 329ms\tremaining: 268ms\n",
      "551:\tlearn: 0.0376861\ttotal: 329ms\tremaining: 267ms\n",
      "552:\tlearn: 0.0376002\ttotal: 330ms\tremaining: 267ms\n",
      "553:\tlearn: 0.0375436\ttotal: 330ms\tremaining: 266ms\n",
      "554:\tlearn: 0.0374739\ttotal: 331ms\tremaining: 265ms\n",
      "555:\tlearn: 0.0374189\ttotal: 331ms\tremaining: 264ms\n",
      "556:\tlearn: 0.0371768\ttotal: 331ms\tremaining: 264ms\n",
      "557:\tlearn: 0.0369607\ttotal: 332ms\tremaining: 263ms\n",
      "558:\tlearn: 0.0368783\ttotal: 332ms\tremaining: 262ms\n",
      "559:\tlearn: 0.0367967\ttotal: 333ms\tremaining: 262ms\n",
      "560:\tlearn: 0.0366133\ttotal: 334ms\tremaining: 261ms\n",
      "561:\tlearn: 0.0364033\ttotal: 334ms\tremaining: 260ms\n",
      "562:\tlearn: 0.0361735\ttotal: 335ms\tremaining: 260ms\n",
      "563:\tlearn: 0.0361204\ttotal: 335ms\tremaining: 259ms\n",
      "564:\tlearn: 0.0360784\ttotal: 336ms\tremaining: 258ms\n",
      "565:\tlearn: 0.0358546\ttotal: 336ms\tremaining: 258ms\n",
      "566:\tlearn: 0.0356783\ttotal: 337ms\tremaining: 257ms\n",
      "567:\tlearn: 0.0354802\ttotal: 337ms\tremaining: 256ms\n",
      "568:\tlearn: 0.0353078\ttotal: 338ms\tremaining: 256ms\n",
      "569:\tlearn: 0.0352338\ttotal: 338ms\tremaining: 255ms\n",
      "570:\tlearn: 0.0350644\ttotal: 338ms\tremaining: 254ms\n",
      "571:\tlearn: 0.0348729\ttotal: 339ms\tremaining: 254ms\n",
      "572:\tlearn: 0.0346601\ttotal: 339ms\tremaining: 253ms\n",
      "573:\tlearn: 0.0344488\ttotal: 340ms\tremaining: 252ms\n",
      "574:\tlearn: 0.0342541\ttotal: 340ms\tremaining: 251ms\n",
      "575:\tlearn: 0.0340276\ttotal: 340ms\tremaining: 251ms\n",
      "576:\tlearn: 0.0338436\ttotal: 341ms\tremaining: 250ms\n",
      "577:\tlearn: 0.0336230\ttotal: 341ms\tremaining: 249ms\n",
      "578:\tlearn: 0.0334526\ttotal: 342ms\tremaining: 249ms\n",
      "579:\tlearn: 0.0332541\ttotal: 342ms\tremaining: 248ms\n",
      "580:\tlearn: 0.0330749\ttotal: 343ms\tremaining: 247ms\n",
      "581:\tlearn: 0.0328894\ttotal: 343ms\tremaining: 247ms\n",
      "582:\tlearn: 0.0327069\ttotal: 344ms\tremaining: 246ms\n",
      "583:\tlearn: 0.0325660\ttotal: 344ms\tremaining: 245ms\n",
      "584:\tlearn: 0.0324092\ttotal: 345ms\tremaining: 245ms\n",
      "585:\tlearn: 0.0322557\ttotal: 345ms\tremaining: 244ms\n",
      "586:\tlearn: 0.0321054\ttotal: 346ms\tremaining: 243ms\n",
      "587:\tlearn: 0.0320254\ttotal: 346ms\tremaining: 243ms\n",
      "588:\tlearn: 0.0318856\ttotal: 347ms\tremaining: 242ms\n",
      "589:\tlearn: 0.0317124\ttotal: 347ms\tremaining: 241ms\n",
      "590:\tlearn: 0.0316449\ttotal: 348ms\tremaining: 241ms\n",
      "591:\tlearn: 0.0314610\ttotal: 348ms\tremaining: 240ms\n",
      "592:\tlearn: 0.0312698\ttotal: 349ms\tremaining: 239ms\n",
      "593:\tlearn: 0.0311401\ttotal: 349ms\tremaining: 239ms\n",
      "594:\tlearn: 0.0310754\ttotal: 350ms\tremaining: 238ms\n",
      "595:\tlearn: 0.0309348\ttotal: 350ms\tremaining: 238ms\n",
      "596:\tlearn: 0.0308477\ttotal: 351ms\tremaining: 237ms\n",
      "597:\tlearn: 0.0307257\ttotal: 352ms\tremaining: 237ms\n",
      "598:\tlearn: 0.0305892\ttotal: 352ms\tremaining: 236ms\n",
      "599:\tlearn: 0.0304597\ttotal: 353ms\tremaining: 235ms\n",
      "600:\tlearn: 0.0303474\ttotal: 353ms\tremaining: 235ms\n",
      "601:\tlearn: 0.0302216\ttotal: 354ms\tremaining: 234ms\n",
      "602:\tlearn: 0.0300427\ttotal: 354ms\tremaining: 233ms\n",
      "603:\tlearn: 0.0299205\ttotal: 355ms\tremaining: 233ms\n",
      "604:\tlearn: 0.0297469\ttotal: 355ms\tremaining: 232ms\n",
      "605:\tlearn: 0.0296274\ttotal: 356ms\tremaining: 231ms\n",
      "606:\tlearn: 0.0295301\ttotal: 356ms\tremaining: 231ms\n",
      "607:\tlearn: 0.0294127\ttotal: 356ms\tremaining: 230ms\n",
      "608:\tlearn: 0.0293183\ttotal: 357ms\tremaining: 229ms\n",
      "609:\tlearn: 0.0292596\ttotal: 357ms\tremaining: 228ms\n",
      "610:\tlearn: 0.0291460\ttotal: 358ms\tremaining: 228ms\n",
      "611:\tlearn: 0.0290364\ttotal: 358ms\tremaining: 227ms\n",
      "612:\tlearn: 0.0289238\ttotal: 359ms\tremaining: 227ms\n",
      "613:\tlearn: 0.0288324\ttotal: 359ms\tremaining: 226ms\n",
      "614:\tlearn: 0.0287759\ttotal: 360ms\tremaining: 225ms\n",
      "615:\tlearn: 0.0286656\ttotal: 360ms\tremaining: 224ms\n",
      "616:\tlearn: 0.0286101\ttotal: 361ms\tremaining: 224ms\n",
      "617:\tlearn: 0.0285217\ttotal: 361ms\tremaining: 223ms\n",
      "618:\tlearn: 0.0284150\ttotal: 362ms\tremaining: 223ms\n",
      "619:\tlearn: 0.0283606\ttotal: 363ms\tremaining: 222ms\n",
      "620:\tlearn: 0.0281912\ttotal: 364ms\tremaining: 222ms\n",
      "621:\tlearn: 0.0281083\ttotal: 364ms\tremaining: 221ms\n",
      "622:\tlearn: 0.0279747\ttotal: 365ms\tremaining: 221ms\n",
      "623:\tlearn: 0.0279223\ttotal: 366ms\tremaining: 220ms\n",
      "624:\tlearn: 0.0277603\ttotal: 366ms\tremaining: 220ms\n",
      "625:\tlearn: 0.0276521\ttotal: 367ms\tremaining: 219ms\n",
      "626:\tlearn: 0.0275395\ttotal: 367ms\tremaining: 218ms\n"
     ]
    },
    {
     "name": "stdout",
     "output_type": "stream",
     "text": [
      "627:\tlearn: 0.0274895\ttotal: 368ms\tremaining: 218ms\n",
      "628:\tlearn: 0.0274126\ttotal: 368ms\tremaining: 217ms\n",
      "629:\tlearn: 0.0273083\ttotal: 369ms\tremaining: 217ms\n",
      "630:\tlearn: 0.0271594\ttotal: 370ms\tremaining: 216ms\n",
      "631:\tlearn: 0.0270692\ttotal: 370ms\tremaining: 215ms\n",
      "632:\tlearn: 0.0269606\ttotal: 371ms\tremaining: 215ms\n",
      "633:\tlearn: 0.0268792\ttotal: 371ms\tremaining: 214ms\n",
      "634:\tlearn: 0.0267484\ttotal: 371ms\tremaining: 214ms\n",
      "635:\tlearn: 0.0266059\ttotal: 372ms\tremaining: 213ms\n",
      "636:\tlearn: 0.0265007\ttotal: 372ms\tremaining: 212ms\n",
      "637:\tlearn: 0.0263907\ttotal: 373ms\tremaining: 212ms\n",
      "638:\tlearn: 0.0263043\ttotal: 373ms\tremaining: 211ms\n",
      "639:\tlearn: 0.0262008\ttotal: 374ms\tremaining: 210ms\n",
      "640:\tlearn: 0.0261272\ttotal: 374ms\tremaining: 210ms\n",
      "641:\tlearn: 0.0260884\ttotal: 375ms\tremaining: 209ms\n",
      "642:\tlearn: 0.0260105\ttotal: 375ms\tremaining: 208ms\n",
      "643:\tlearn: 0.0258846\ttotal: 375ms\tremaining: 208ms\n",
      "644:\tlearn: 0.0257796\ttotal: 376ms\tremaining: 207ms\n",
      "645:\tlearn: 0.0257080\ttotal: 376ms\tremaining: 206ms\n",
      "646:\tlearn: 0.0255970\ttotal: 377ms\tremaining: 206ms\n",
      "647:\tlearn: 0.0254364\ttotal: 377ms\tremaining: 205ms\n",
      "648:\tlearn: 0.0253990\ttotal: 378ms\tremaining: 204ms\n",
      "649:\tlearn: 0.0253241\ttotal: 379ms\tremaining: 204ms\n",
      "650:\tlearn: 0.0251892\ttotal: 379ms\tremaining: 203ms\n",
      "651:\tlearn: 0.0250780\ttotal: 380ms\tremaining: 203ms\n",
      "652:\tlearn: 0.0249695\ttotal: 381ms\tremaining: 202ms\n",
      "653:\tlearn: 0.0248115\ttotal: 381ms\tremaining: 202ms\n",
      "654:\tlearn: 0.0246581\ttotal: 382ms\tremaining: 201ms\n",
      "655:\tlearn: 0.0245654\ttotal: 382ms\tremaining: 200ms\n",
      "656:\tlearn: 0.0244747\ttotal: 383ms\tremaining: 200ms\n",
      "657:\tlearn: 0.0243475\ttotal: 383ms\tremaining: 199ms\n",
      "658:\tlearn: 0.0242534\ttotal: 383ms\tremaining: 198ms\n",
      "659:\tlearn: 0.0241292\ttotal: 384ms\tremaining: 198ms\n",
      "660:\tlearn: 0.0240074\ttotal: 384ms\tremaining: 197ms\n",
      "661:\tlearn: 0.0239360\ttotal: 385ms\tremaining: 196ms\n",
      "662:\tlearn: 0.0238661\ttotal: 385ms\tremaining: 196ms\n",
      "663:\tlearn: 0.0237657\ttotal: 386ms\tremaining: 195ms\n",
      "664:\tlearn: 0.0236173\ttotal: 386ms\tremaining: 195ms\n",
      "665:\tlearn: 0.0235302\ttotal: 387ms\tremaining: 194ms\n",
      "666:\tlearn: 0.0234127\ttotal: 387ms\tremaining: 193ms\n",
      "667:\tlearn: 0.0232943\ttotal: 388ms\tremaining: 193ms\n",
      "668:\tlearn: 0.0232276\ttotal: 388ms\tremaining: 192ms\n",
      "669:\tlearn: 0.0231290\ttotal: 389ms\tremaining: 191ms\n",
      "670:\tlearn: 0.0230154\ttotal: 389ms\tremaining: 191ms\n",
      "671:\tlearn: 0.0229173\ttotal: 390ms\tremaining: 190ms\n",
      "672:\tlearn: 0.0228686\ttotal: 390ms\tremaining: 190ms\n",
      "673:\tlearn: 0.0227855\ttotal: 391ms\tremaining: 189ms\n",
      "674:\tlearn: 0.0227379\ttotal: 391ms\tremaining: 188ms\n",
      "675:\tlearn: 0.0226267\ttotal: 392ms\tremaining: 188ms\n",
      "676:\tlearn: 0.0225311\ttotal: 393ms\tremaining: 187ms\n",
      "677:\tlearn: 0.0224844\ttotal: 393ms\tremaining: 187ms\n",
      "678:\tlearn: 0.0223905\ttotal: 394ms\tremaining: 186ms\n",
      "679:\tlearn: 0.0223617\ttotal: 395ms\tremaining: 186ms\n",
      "680:\tlearn: 0.0223053\ttotal: 395ms\tremaining: 185ms\n",
      "681:\tlearn: 0.0222073\ttotal: 396ms\tremaining: 185ms\n",
      "682:\tlearn: 0.0221618\ttotal: 396ms\tremaining: 184ms\n",
      "683:\tlearn: 0.0220828\ttotal: 397ms\tremaining: 183ms\n",
      "684:\tlearn: 0.0220546\ttotal: 397ms\tremaining: 183ms\n",
      "685:\tlearn: 0.0219456\ttotal: 398ms\tremaining: 182ms\n",
      "686:\tlearn: 0.0218510\ttotal: 398ms\tremaining: 182ms\n",
      "687:\tlearn: 0.0218233\ttotal: 399ms\tremaining: 181ms\n",
      "688:\tlearn: 0.0217217\ttotal: 399ms\tremaining: 180ms\n",
      "689:\tlearn: 0.0216180\ttotal: 400ms\tremaining: 180ms\n",
      "690:\tlearn: 0.0215267\ttotal: 400ms\tremaining: 179ms\n",
      "691:\tlearn: 0.0214664\ttotal: 401ms\tremaining: 178ms\n",
      "692:\tlearn: 0.0213697\ttotal: 402ms\tremaining: 178ms\n",
      "693:\tlearn: 0.0212809\ttotal: 402ms\tremaining: 177ms\n",
      "694:\tlearn: 0.0212266\ttotal: 403ms\tremaining: 177ms\n",
      "695:\tlearn: 0.0211863\ttotal: 403ms\tremaining: 176ms\n",
      "696:\tlearn: 0.0210922\ttotal: 404ms\tremaining: 176ms\n",
      "697:\tlearn: 0.0209638\ttotal: 404ms\tremaining: 175ms\n",
      "698:\tlearn: 0.0208674\ttotal: 405ms\tremaining: 174ms\n",
      "699:\tlearn: 0.0207949\ttotal: 405ms\tremaining: 174ms\n",
      "700:\tlearn: 0.0206963\ttotal: 406ms\tremaining: 173ms\n",
      "701:\tlearn: 0.0206467\ttotal: 407ms\tremaining: 173ms\n",
      "702:\tlearn: 0.0205818\ttotal: 407ms\tremaining: 172ms\n",
      "703:\tlearn: 0.0204603\ttotal: 408ms\tremaining: 172ms\n",
      "704:\tlearn: 0.0203678\ttotal: 408ms\tremaining: 171ms\n",
      "705:\tlearn: 0.0203149\ttotal: 409ms\tremaining: 170ms\n",
      "706:\tlearn: 0.0202241\ttotal: 410ms\tremaining: 170ms\n",
      "707:\tlearn: 0.0201531\ttotal: 410ms\tremaining: 169ms\n",
      "708:\tlearn: 0.0200660\ttotal: 411ms\tremaining: 169ms\n",
      "709:\tlearn: 0.0199947\ttotal: 411ms\tremaining: 168ms\n",
      "710:\tlearn: 0.0199439\ttotal: 412ms\tremaining: 167ms\n",
      "711:\tlearn: 0.0198470\ttotal: 412ms\tremaining: 167ms\n",
      "712:\tlearn: 0.0198178\ttotal: 413ms\tremaining: 166ms\n",
      "713:\tlearn: 0.0197506\ttotal: 413ms\tremaining: 166ms\n",
      "714:\tlearn: 0.0196667\ttotal: 414ms\tremaining: 165ms\n",
      "715:\tlearn: 0.0195894\ttotal: 414ms\tremaining: 164ms\n",
      "716:\tlearn: 0.0195608\ttotal: 415ms\tremaining: 164ms\n",
      "717:\tlearn: 0.0195010\ttotal: 415ms\tremaining: 163ms\n",
      "718:\tlearn: 0.0194427\ttotal: 416ms\tremaining: 162ms\n",
      "719:\tlearn: 0.0193741\ttotal: 416ms\tremaining: 162ms\n",
      "720:\tlearn: 0.0192924\ttotal: 416ms\tremaining: 161ms\n",
      "721:\tlearn: 0.0192295\ttotal: 417ms\tremaining: 160ms\n",
      "722:\tlearn: 0.0191727\ttotal: 417ms\tremaining: 160ms\n",
      "723:\tlearn: 0.0191058\ttotal: 418ms\tremaining: 159ms\n",
      "724:\tlearn: 0.0190376\ttotal: 418ms\tremaining: 159ms\n",
      "725:\tlearn: 0.0189721\ttotal: 419ms\tremaining: 158ms\n",
      "726:\tlearn: 0.0188932\ttotal: 419ms\tremaining: 157ms\n",
      "727:\tlearn: 0.0188292\ttotal: 420ms\tremaining: 157ms\n",
      "728:\tlearn: 0.0187690\ttotal: 420ms\tremaining: 156ms\n",
      "729:\tlearn: 0.0187064\ttotal: 420ms\tremaining: 155ms\n",
      "730:\tlearn: 0.0186301\ttotal: 421ms\tremaining: 155ms\n",
      "731:\tlearn: 0.0185751\ttotal: 421ms\tremaining: 154ms\n",
      "732:\tlearn: 0.0184645\ttotal: 422ms\tremaining: 154ms\n",
      "733:\tlearn: 0.0183693\ttotal: 422ms\tremaining: 153ms\n",
      "734:\tlearn: 0.0183042\ttotal: 423ms\tremaining: 152ms\n",
      "735:\tlearn: 0.0182478\ttotal: 423ms\tremaining: 152ms\n",
      "736:\tlearn: 0.0181845\ttotal: 424ms\tremaining: 151ms\n",
      "737:\tlearn: 0.0181312\ttotal: 424ms\tremaining: 151ms\n",
      "738:\tlearn: 0.0180311\ttotal: 425ms\tremaining: 150ms\n",
      "739:\tlearn: 0.0179479\ttotal: 425ms\tremaining: 149ms\n",
      "740:\tlearn: 0.0178957\ttotal: 426ms\tremaining: 149ms\n",
      "741:\tlearn: 0.0178045\ttotal: 427ms\tremaining: 148ms\n",
      "742:\tlearn: 0.0177241\ttotal: 427ms\tremaining: 148ms\n",
      "743:\tlearn: 0.0176458\ttotal: 428ms\tremaining: 147ms\n",
      "744:\tlearn: 0.0175694\ttotal: 428ms\tremaining: 147ms\n",
      "745:\tlearn: 0.0174981\ttotal: 429ms\tremaining: 146ms\n",
      "746:\tlearn: 0.0174511\ttotal: 429ms\tremaining: 145ms\n",
      "747:\tlearn: 0.0174002\ttotal: 429ms\tremaining: 145ms\n",
      "748:\tlearn: 0.0173541\ttotal: 430ms\tremaining: 144ms\n",
      "749:\tlearn: 0.0172806\ttotal: 430ms\tremaining: 143ms\n",
      "750:\tlearn: 0.0172035\ttotal: 431ms\tremaining: 143ms\n",
      "751:\tlearn: 0.0171335\ttotal: 431ms\tremaining: 142ms\n",
      "752:\tlearn: 0.0170836\ttotal: 431ms\tremaining: 142ms\n",
      "753:\tlearn: 0.0170344\ttotal: 432ms\tremaining: 141ms\n",
      "754:\tlearn: 0.0169665\ttotal: 432ms\tremaining: 140ms\n",
      "755:\tlearn: 0.0169152\ttotal: 433ms\tremaining: 140ms\n",
      "756:\tlearn: 0.0168670\ttotal: 433ms\tremaining: 139ms\n",
      "757:\tlearn: 0.0167979\ttotal: 434ms\tremaining: 139ms\n",
      "758:\tlearn: 0.0167505\ttotal: 434ms\tremaining: 138ms\n",
      "759:\tlearn: 0.0166844\ttotal: 435ms\tremaining: 137ms\n",
      "760:\tlearn: 0.0166292\ttotal: 435ms\tremaining: 137ms\n",
      "761:\tlearn: 0.0165827\ttotal: 436ms\tremaining: 136ms\n",
      "762:\tlearn: 0.0165420\ttotal: 437ms\tremaining: 136ms\n",
      "763:\tlearn: 0.0164824\ttotal: 437ms\tremaining: 135ms\n",
      "764:\tlearn: 0.0164240\ttotal: 438ms\tremaining: 135ms\n",
      "765:\tlearn: 0.0163782\ttotal: 438ms\tremaining: 134ms\n",
      "766:\tlearn: 0.0163330\ttotal: 439ms\tremaining: 133ms\n",
      "767:\tlearn: 0.0162316\ttotal: 440ms\tremaining: 133ms\n",
      "768:\tlearn: 0.0161835\ttotal: 440ms\tremaining: 132ms\n",
      "769:\tlearn: 0.0161127\ttotal: 441ms\tremaining: 132ms\n",
      "770:\tlearn: 0.0160439\ttotal: 441ms\tremaining: 131ms\n",
      "771:\tlearn: 0.0159859\ttotal: 442ms\tremaining: 130ms\n",
      "772:\tlearn: 0.0159302\ttotal: 442ms\tremaining: 130ms\n",
      "773:\tlearn: 0.0158862\ttotal: 442ms\tremaining: 129ms\n",
      "774:\tlearn: 0.0157895\ttotal: 443ms\tremaining: 129ms\n",
      "775:\tlearn: 0.0157442\ttotal: 443ms\tremaining: 128ms\n",
      "776:\tlearn: 0.0156923\ttotal: 444ms\tremaining: 127ms\n",
      "777:\tlearn: 0.0156303\ttotal: 444ms\tremaining: 127ms\n",
      "778:\tlearn: 0.0155763\ttotal: 445ms\tremaining: 126ms\n",
      "779:\tlearn: 0.0155243\ttotal: 445ms\tremaining: 126ms\n",
      "780:\tlearn: 0.0154817\ttotal: 446ms\tremaining: 125ms\n",
      "781:\tlearn: 0.0154211\ttotal: 446ms\tremaining: 124ms\n",
      "782:\tlearn: 0.0153704\ttotal: 447ms\tremaining: 124ms\n",
      "783:\tlearn: 0.0153285\ttotal: 447ms\tremaining: 123ms\n",
      "784:\tlearn: 0.0152788\ttotal: 448ms\tremaining: 123ms\n",
      "785:\tlearn: 0.0151880\ttotal: 448ms\tremaining: 122ms\n",
      "786:\tlearn: 0.0151443\ttotal: 449ms\tremaining: 121ms\n",
      "787:\tlearn: 0.0150858\ttotal: 449ms\tremaining: 121ms\n",
      "788:\tlearn: 0.0149978\ttotal: 449ms\tremaining: 120ms\n",
      "789:\tlearn: 0.0149535\ttotal: 450ms\tremaining: 120ms\n",
      "790:\tlearn: 0.0149048\ttotal: 450ms\tremaining: 119ms\n",
      "791:\tlearn: 0.0148479\ttotal: 451ms\tremaining: 118ms\n",
      "792:\tlearn: 0.0147989\ttotal: 451ms\tremaining: 118ms\n",
      "793:\tlearn: 0.0147569\ttotal: 452ms\tremaining: 117ms\n",
      "794:\tlearn: 0.0147144\ttotal: 453ms\tremaining: 117ms\n",
      "795:\tlearn: 0.0146970\ttotal: 453ms\tremaining: 116ms\n",
      "796:\tlearn: 0.0146126\ttotal: 454ms\tremaining: 116ms\n",
      "797:\tlearn: 0.0145691\ttotal: 454ms\tremaining: 115ms\n",
      "798:\tlearn: 0.0145187\ttotal: 455ms\tremaining: 114ms\n",
      "799:\tlearn: 0.0144852\ttotal: 455ms\tremaining: 114ms\n",
      "800:\tlearn: 0.0144335\ttotal: 456ms\tremaining: 113ms\n",
      "801:\tlearn: 0.0143929\ttotal: 456ms\tremaining: 113ms\n",
      "802:\tlearn: 0.0143759\ttotal: 457ms\tremaining: 112ms\n",
      "803:\tlearn: 0.0143436\ttotal: 457ms\tremaining: 111ms\n",
      "804:\tlearn: 0.0143269\ttotal: 458ms\tremaining: 111ms\n",
      "805:\tlearn: 0.0142454\ttotal: 458ms\tremaining: 110ms\n",
      "806:\tlearn: 0.0141890\ttotal: 459ms\tremaining: 110ms\n",
      "807:\tlearn: 0.0141725\ttotal: 459ms\tremaining: 109ms\n",
      "808:\tlearn: 0.0141263\ttotal: 460ms\tremaining: 108ms\n",
      "809:\tlearn: 0.0141087\ttotal: 460ms\tremaining: 108ms\n",
      "810:\tlearn: 0.0140912\ttotal: 460ms\tremaining: 107ms\n",
      "811:\tlearn: 0.0140459\ttotal: 461ms\tremaining: 107ms\n",
      "812:\tlearn: 0.0139935\ttotal: 461ms\tremaining: 106ms\n",
      "813:\tlearn: 0.0139619\ttotal: 462ms\tremaining: 105ms\n",
      "814:\tlearn: 0.0138979\ttotal: 462ms\tremaining: 105ms\n",
      "815:\tlearn: 0.0138139\ttotal: 463ms\tremaining: 104ms\n",
      "816:\tlearn: 0.0137489\ttotal: 463ms\tremaining: 104ms\n",
      "817:\tlearn: 0.0137177\ttotal: 464ms\tremaining: 103ms\n"
     ]
    },
    {
     "name": "stdout",
     "output_type": "stream",
     "text": [
      "818:\tlearn: 0.0137009\ttotal: 464ms\tremaining: 103ms\n",
      "819:\tlearn: 0.0136507\ttotal: 465ms\tremaining: 102ms\n",
      "820:\tlearn: 0.0136201\ttotal: 465ms\tremaining: 101ms\n",
      "821:\tlearn: 0.0135590\ttotal: 466ms\tremaining: 101ms\n",
      "822:\tlearn: 0.0134803\ttotal: 466ms\tremaining: 100ms\n",
      "823:\tlearn: 0.0134504\ttotal: 467ms\tremaining: 99.8ms\n",
      "824:\tlearn: 0.0134339\ttotal: 468ms\tremaining: 99.2ms\n",
      "825:\tlearn: 0.0134044\ttotal: 468ms\tremaining: 98.6ms\n",
      "826:\tlearn: 0.0133882\ttotal: 469ms\tremaining: 98.1ms\n",
      "827:\tlearn: 0.0133099\ttotal: 469ms\tremaining: 97.5ms\n",
      "828:\tlearn: 0.0132518\ttotal: 470ms\tremaining: 96.9ms\n",
      "829:\tlearn: 0.0131774\ttotal: 471ms\tremaining: 96.4ms\n",
      "830:\tlearn: 0.0131426\ttotal: 471ms\tremaining: 95.8ms\n",
      "831:\tlearn: 0.0130715\ttotal: 472ms\tremaining: 95.2ms\n",
      "832:\tlearn: 0.0130368\ttotal: 472ms\tremaining: 94.7ms\n",
      "833:\tlearn: 0.0129673\ttotal: 473ms\tremaining: 94.1ms\n",
      "834:\tlearn: 0.0129119\ttotal: 473ms\tremaining: 93.5ms\n",
      "835:\tlearn: 0.0128366\ttotal: 473ms\tremaining: 92.9ms\n",
      "836:\tlearn: 0.0127632\ttotal: 474ms\tremaining: 92.3ms\n",
      "837:\tlearn: 0.0127042\ttotal: 474ms\tremaining: 91.7ms\n",
      "838:\tlearn: 0.0126514\ttotal: 475ms\tremaining: 91.1ms\n",
      "839:\tlearn: 0.0125935\ttotal: 475ms\tremaining: 90.5ms\n",
      "840:\tlearn: 0.0125608\ttotal: 476ms\tremaining: 90ms\n",
      "841:\tlearn: 0.0124982\ttotal: 476ms\tremaining: 89.4ms\n",
      "842:\tlearn: 0.0124469\ttotal: 477ms\tremaining: 88.8ms\n",
      "843:\tlearn: 0.0123769\ttotal: 477ms\tremaining: 88.2ms\n",
      "844:\tlearn: 0.0123123\ttotal: 478ms\tremaining: 87.6ms\n",
      "845:\tlearn: 0.0122860\ttotal: 478ms\tremaining: 87ms\n",
      "846:\tlearn: 0.0122368\ttotal: 478ms\tremaining: 86.4ms\n",
      "847:\tlearn: 0.0121694\ttotal: 479ms\tremaining: 85.9ms\n",
      "848:\tlearn: 0.0121036\ttotal: 480ms\tremaining: 85.3ms\n",
      "849:\tlearn: 0.0120436\ttotal: 480ms\tremaining: 84.7ms\n",
      "850:\tlearn: 0.0119967\ttotal: 480ms\tremaining: 84.1ms\n",
      "851:\tlearn: 0.0119423\ttotal: 481ms\tremaining: 83.5ms\n",
      "852:\tlearn: 0.0118927\ttotal: 481ms\tremaining: 83ms\n",
      "853:\tlearn: 0.0118471\ttotal: 482ms\tremaining: 82.3ms\n",
      "854:\tlearn: 0.0117845\ttotal: 482ms\tremaining: 81.8ms\n",
      "855:\tlearn: 0.0117266\ttotal: 483ms\tremaining: 81.3ms\n",
      "856:\tlearn: 0.0116826\ttotal: 484ms\tremaining: 80.8ms\n",
      "857:\tlearn: 0.0116223\ttotal: 485ms\tremaining: 80.2ms\n",
      "858:\tlearn: 0.0115697\ttotal: 485ms\tremaining: 79.6ms\n",
      "859:\tlearn: 0.0115273\ttotal: 486ms\tremaining: 79.1ms\n",
      "860:\tlearn: 0.0114690\ttotal: 486ms\tremaining: 78.5ms\n",
      "861:\tlearn: 0.0114131\ttotal: 487ms\tremaining: 77.9ms\n",
      "862:\tlearn: 0.0113722\ttotal: 487ms\tremaining: 77.4ms\n",
      "863:\tlearn: 0.0113431\ttotal: 488ms\tremaining: 76.8ms\n",
      "864:\tlearn: 0.0113054\ttotal: 489ms\tremaining: 76.3ms\n",
      "865:\tlearn: 0.0112630\ttotal: 489ms\tremaining: 75.7ms\n",
      "866:\tlearn: 0.0112232\ttotal: 489ms\tremaining: 75.1ms\n",
      "867:\tlearn: 0.0111949\ttotal: 490ms\tremaining: 74.5ms\n",
      "868:\tlearn: 0.0111660\ttotal: 490ms\tremaining: 73.9ms\n",
      "869:\tlearn: 0.0111103\ttotal: 491ms\tremaining: 73.3ms\n",
      "870:\tlearn: 0.0110720\ttotal: 491ms\tremaining: 72.8ms\n",
      "871:\tlearn: 0.0110250\ttotal: 492ms\tremaining: 72.2ms\n",
      "872:\tlearn: 0.0110000\ttotal: 492ms\tremaining: 71.6ms\n",
      "873:\tlearn: 0.0109719\ttotal: 493ms\tremaining: 71ms\n",
      "874:\tlearn: 0.0109188\ttotal: 493ms\tremaining: 70.5ms\n",
      "875:\tlearn: 0.0108906\ttotal: 494ms\tremaining: 69.9ms\n",
      "876:\tlearn: 0.0108400\ttotal: 494ms\tremaining: 69.3ms\n",
      "877:\tlearn: 0.0108124\ttotal: 495ms\tremaining: 68.7ms\n",
      "878:\tlearn: 0.0107880\ttotal: 495ms\tremaining: 68.1ms\n",
      "879:\tlearn: 0.0107367\ttotal: 496ms\tremaining: 67.6ms\n",
      "880:\tlearn: 0.0107101\ttotal: 496ms\tremaining: 67ms\n",
      "881:\tlearn: 0.0106534\ttotal: 497ms\tremaining: 66.4ms\n",
      "882:\tlearn: 0.0106296\ttotal: 497ms\tremaining: 65.9ms\n",
      "883:\tlearn: 0.0106011\ttotal: 497ms\tremaining: 65.3ms\n",
      "884:\tlearn: 0.0105794\ttotal: 498ms\tremaining: 64.7ms\n",
      "885:\tlearn: 0.0105299\ttotal: 499ms\tremaining: 64.2ms\n",
      "886:\tlearn: 0.0104848\ttotal: 499ms\tremaining: 63.6ms\n",
      "887:\tlearn: 0.0104587\ttotal: 500ms\tremaining: 63ms\n",
      "888:\tlearn: 0.0104359\ttotal: 500ms\tremaining: 62.5ms\n",
      "889:\tlearn: 0.0103878\ttotal: 501ms\tremaining: 61.9ms\n",
      "890:\tlearn: 0.0103626\ttotal: 501ms\tremaining: 61.3ms\n",
      "891:\tlearn: 0.0103186\ttotal: 502ms\tremaining: 60.8ms\n",
      "892:\tlearn: 0.0102762\ttotal: 502ms\tremaining: 60.2ms\n",
      "893:\tlearn: 0.0102539\ttotal: 503ms\tremaining: 59.6ms\n",
      "894:\tlearn: 0.0102288\ttotal: 503ms\tremaining: 59ms\n",
      "895:\tlearn: 0.0101764\ttotal: 504ms\tremaining: 58.5ms\n",
      "896:\tlearn: 0.0101547\ttotal: 504ms\tremaining: 57.9ms\n",
      "897:\tlearn: 0.0101303\ttotal: 504ms\tremaining: 57.3ms\n",
      "898:\tlearn: 0.0101042\ttotal: 505ms\tremaining: 56.7ms\n",
      "899:\tlearn: 0.0100617\ttotal: 505ms\tremaining: 56.1ms\n",
      "900:\tlearn: 0.0100166\ttotal: 506ms\tremaining: 55.6ms\n",
      "901:\tlearn: 0.0099924\ttotal: 506ms\tremaining: 55ms\n",
      "902:\tlearn: 0.0099414\ttotal: 507ms\tremaining: 54.4ms\n",
      "903:\tlearn: 0.0099207\ttotal: 507ms\tremaining: 53.9ms\n",
      "904:\tlearn: 0.0099004\ttotal: 508ms\tremaining: 53.3ms\n",
      "905:\tlearn: 0.0098769\ttotal: 508ms\tremaining: 52.7ms\n",
      "906:\tlearn: 0.0098660\ttotal: 508ms\tremaining: 52.1ms\n",
      "907:\tlearn: 0.0098468\ttotal: 509ms\tremaining: 51.5ms\n",
      "908:\tlearn: 0.0098237\ttotal: 509ms\tremaining: 51ms\n",
      "909:\tlearn: 0.0097978\ttotal: 510ms\tremaining: 50.4ms\n",
      "910:\tlearn: 0.0097872\ttotal: 510ms\tremaining: 49.8ms\n",
      "911:\tlearn: 0.0097440\ttotal: 510ms\tremaining: 49.3ms\n",
      "912:\tlearn: 0.0097311\ttotal: 511ms\tremaining: 48.7ms\n",
      "913:\tlearn: 0.0097082\ttotal: 511ms\tremaining: 48.1ms\n",
      "914:\tlearn: 0.0096978\ttotal: 512ms\tremaining: 47.5ms\n",
      "915:\tlearn: 0.0096558\ttotal: 512ms\tremaining: 47ms\n",
      "916:\tlearn: 0.0096333\ttotal: 513ms\tremaining: 46.4ms\n",
      "917:\tlearn: 0.0096207\ttotal: 513ms\tremaining: 45.8ms\n",
      "918:\tlearn: 0.0096106\ttotal: 514ms\tremaining: 45.3ms\n",
      "919:\tlearn: 0.0095625\ttotal: 515ms\tremaining: 44.8ms\n",
      "920:\tlearn: 0.0095378\ttotal: 515ms\tremaining: 44.2ms\n",
      "921:\tlearn: 0.0095256\ttotal: 516ms\tremaining: 43.6ms\n",
      "922:\tlearn: 0.0094872\ttotal: 516ms\tremaining: 43ms\n",
      "923:\tlearn: 0.0094559\ttotal: 516ms\tremaining: 42.5ms\n",
      "924:\tlearn: 0.0094339\ttotal: 517ms\tremaining: 41.9ms\n",
      "925:\tlearn: 0.0094097\ttotal: 517ms\tremaining: 41.3ms\n",
      "926:\tlearn: 0.0093977\ttotal: 518ms\tremaining: 40.8ms\n",
      "927:\tlearn: 0.0093860\ttotal: 518ms\tremaining: 40.2ms\n",
      "928:\tlearn: 0.0093487\ttotal: 519ms\tremaining: 39.7ms\n",
      "929:\tlearn: 0.0093182\ttotal: 519ms\tremaining: 39.1ms\n",
      "930:\tlearn: 0.0092974\ttotal: 520ms\tremaining: 38.5ms\n",
      "931:\tlearn: 0.0092544\ttotal: 520ms\tremaining: 38ms\n",
      "932:\tlearn: 0.0092449\ttotal: 521ms\tremaining: 37.4ms\n",
      "933:\tlearn: 0.0092235\ttotal: 521ms\tremaining: 36.8ms\n",
      "934:\tlearn: 0.0092141\ttotal: 522ms\tremaining: 36.3ms\n",
      "935:\tlearn: 0.0091844\ttotal: 522ms\tremaining: 35.7ms\n",
      "936:\tlearn: 0.0091398\ttotal: 523ms\tremaining: 35.1ms\n",
      "937:\tlearn: 0.0090941\ttotal: 523ms\tremaining: 34.6ms\n",
      "938:\tlearn: 0.0090626\ttotal: 524ms\tremaining: 34ms\n",
      "939:\tlearn: 0.0090394\ttotal: 524ms\tremaining: 33.5ms\n",
      "940:\tlearn: 0.0090185\ttotal: 525ms\tremaining: 32.9ms\n",
      "941:\tlearn: 0.0090095\ttotal: 525ms\tremaining: 32.3ms\n",
      "942:\tlearn: 0.0089809\ttotal: 525ms\tremaining: 31.7ms\n",
      "943:\tlearn: 0.0089348\ttotal: 526ms\tremaining: 31.2ms\n",
      "944:\tlearn: 0.0089144\ttotal: 526ms\tremaining: 30.6ms\n",
      "945:\tlearn: 0.0088917\ttotal: 526ms\tremaining: 30ms\n",
      "946:\tlearn: 0.0088828\ttotal: 527ms\tremaining: 29.5ms\n",
      "947:\tlearn: 0.0088378\ttotal: 527ms\tremaining: 28.9ms\n",
      "948:\tlearn: 0.0088008\ttotal: 528ms\tremaining: 28.4ms\n",
      "949:\tlearn: 0.0087922\ttotal: 528ms\tremaining: 27.8ms\n",
      "950:\tlearn: 0.0087498\ttotal: 529ms\tremaining: 27.2ms\n",
      "951:\tlearn: 0.0087298\ttotal: 529ms\tremaining: 26.7ms\n",
      "952:\tlearn: 0.0087024\ttotal: 530ms\tremaining: 26.1ms\n",
      "953:\tlearn: 0.0086919\ttotal: 530ms\tremaining: 25.6ms\n",
      "954:\tlearn: 0.0086840\ttotal: 531ms\tremaining: 25ms\n",
      "955:\tlearn: 0.0086489\ttotal: 531ms\tremaining: 24.5ms\n",
      "956:\tlearn: 0.0086271\ttotal: 532ms\tremaining: 23.9ms\n",
      "957:\tlearn: 0.0086169\ttotal: 532ms\tremaining: 23.3ms\n",
      "958:\tlearn: 0.0086092\ttotal: 533ms\tremaining: 22.8ms\n",
      "959:\tlearn: 0.0085780\ttotal: 533ms\tremaining: 22.2ms\n",
      "960:\tlearn: 0.0085680\ttotal: 534ms\tremaining: 21.7ms\n",
      "961:\tlearn: 0.0085605\ttotal: 534ms\tremaining: 21.1ms\n",
      "962:\tlearn: 0.0085252\ttotal: 534ms\tremaining: 20.5ms\n",
      "963:\tlearn: 0.0084857\ttotal: 535ms\tremaining: 20ms\n",
      "964:\tlearn: 0.0084783\ttotal: 535ms\tremaining: 19.4ms\n",
      "965:\tlearn: 0.0084604\ttotal: 536ms\tremaining: 18.9ms\n",
      "966:\tlearn: 0.0084306\ttotal: 536ms\tremaining: 18.3ms\n",
      "967:\tlearn: 0.0084014\ttotal: 537ms\tremaining: 17.7ms\n",
      "968:\tlearn: 0.0083805\ttotal: 537ms\tremaining: 17.2ms\n",
      "969:\tlearn: 0.0083727\ttotal: 538ms\tremaining: 16.6ms\n",
      "970:\tlearn: 0.0083467\ttotal: 538ms\tremaining: 16.1ms\n",
      "971:\tlearn: 0.0083395\ttotal: 538ms\tremaining: 15.5ms\n",
      "972:\tlearn: 0.0083325\ttotal: 539ms\tremaining: 15ms\n",
      "973:\tlearn: 0.0083034\ttotal: 539ms\tremaining: 14.4ms\n",
      "974:\tlearn: 0.0082733\ttotal: 540ms\tremaining: 13.8ms\n",
      "975:\tlearn: 0.0082657\ttotal: 540ms\tremaining: 13.3ms\n",
      "976:\tlearn: 0.0082342\ttotal: 541ms\tremaining: 12.7ms\n",
      "977:\tlearn: 0.0082249\ttotal: 541ms\tremaining: 12.2ms\n",
      "978:\tlearn: 0.0082175\ttotal: 542ms\tremaining: 11.6ms\n",
      "979:\tlearn: 0.0081932\ttotal: 542ms\tremaining: 11.1ms\n",
      "980:\tlearn: 0.0081652\ttotal: 543ms\tremaining: 10.5ms\n",
      "981:\tlearn: 0.0081370\ttotal: 543ms\tremaining: 9.96ms\n",
      "982:\tlearn: 0.0081163\ttotal: 544ms\tremaining: 9.41ms\n",
      "983:\tlearn: 0.0081090\ttotal: 545ms\tremaining: 8.86ms\n",
      "984:\tlearn: 0.0081018\ttotal: 545ms\tremaining: 8.3ms\n",
      "985:\tlearn: 0.0080770\ttotal: 546ms\tremaining: 7.75ms\n",
      "986:\tlearn: 0.0080699\ttotal: 546ms\tremaining: 7.2ms\n",
      "987:\tlearn: 0.0080635\ttotal: 548ms\tremaining: 6.65ms\n",
      "988:\tlearn: 0.0080397\ttotal: 548ms\tremaining: 6.1ms\n",
      "989:\tlearn: 0.0080162\ttotal: 549ms\tremaining: 5.54ms\n",
      "990:\tlearn: 0.0080075\ttotal: 549ms\tremaining: 4.99ms\n"
     ]
    },
    {
     "name": "stdout",
     "output_type": "stream",
     "text": [
      "991:\tlearn: 0.0079843\ttotal: 550ms\tremaining: 4.44ms\n",
      "992:\tlearn: 0.0079572\ttotal: 551ms\tremaining: 3.88ms\n",
      "993:\tlearn: 0.0079503\ttotal: 551ms\tremaining: 3.33ms\n",
      "994:\tlearn: 0.0079440\ttotal: 552ms\tremaining: 2.77ms\n",
      "995:\tlearn: 0.0079212\ttotal: 552ms\tremaining: 2.22ms\n",
      "996:\tlearn: 0.0078948\ttotal: 553ms\tremaining: 1.66ms\n",
      "997:\tlearn: 0.0078673\ttotal: 553ms\tremaining: 1.11ms\n",
      "998:\tlearn: 0.0078448\ttotal: 553ms\tremaining: 554us\n",
      "999:\tlearn: 0.0078364\ttotal: 554ms\tremaining: 0us\n"
     ]
    },
    {
     "data": {
      "text/plain": [
       "<catboost.core.CatBoostRegressor at 0x7fbae0288610>"
      ]
     },
     "execution_count": 9,
     "metadata": {},
     "output_type": "execute_result"
    }
   ],
   "source": [
    "#Train the Model \n",
    "prior_model = ctb.CatBoostRegressor()\n",
    "prior_model.fit(X_train,Y_train)"
   ]
  },
  {
   "cell_type": "code",
   "execution_count": 10,
   "id": "af65dcda",
   "metadata": {
    "execution": {
     "iopub.execute_input": "2022-06-07T07:02:20.532280Z",
     "iopub.status.busy": "2022-06-07T07:02:20.531836Z",
     "iopub.status.idle": "2022-06-07T07:02:20.539584Z",
     "shell.execute_reply": "2022-06-07T07:02:20.539881Z"
    },
    "id": "af65dcda",
    "papermill": {
     "duration": 0.02224,
     "end_time": "2022-06-07T07:02:20.540002",
     "exception": false,
     "start_time": "2022-06-07T07:02:20.517762",
     "status": "completed"
    },
    "tags": []
   },
   "outputs": [
    {
     "data": {
      "application/scrapbook.scrap.json+json": {
       "data": 0.1808237577605543,
       "encoder": "json",
       "name": "Prior Model MSE",
       "version": 1
      }
     },
     "metadata": {
      "scrapbook": {
       "data": true,
       "display": false,
       "name": "Prior Model MSE"
      }
     },
     "output_type": "display_data"
    },
    {
     "data": {
      "application/scrapbook.scrap.json+json": {
       "data": 0.9188755121182364,
       "encoder": "json",
       "name": "ABC Pre-generator MSE",
       "version": 1
      }
     },
     "metadata": {
      "scrapbook": {
       "data": true,
       "display": false,
       "name": "ABC Pre-generator MSE"
      }
     },
     "output_type": "display_data"
    },
    {
     "data": {
      "application/scrapbook.scrap.json+json": {
       "data": 0.3448275632547503,
       "encoder": "json",
       "name": "Prior Model MSE",
       "version": 1
      }
     },
     "metadata": {
      "scrapbook": {
       "data": true,
       "display": false,
       "name": "Prior Model MSE"
      }
     },
     "output_type": "display_data"
    },
    {
     "data": {
      "application/scrapbook.scrap.json+json": {
       "data": 0.7837902896836569,
       "encoder": "json",
       "name": "ABC Pre-generator MSE",
       "version": 1
      }
     },
     "metadata": {
      "scrapbook": {
       "data": true,
       "display": false,
       "name": "ABC Pre-generator MSE"
      }
     },
     "output_type": "display_data"
    }
   ],
   "source": [
    "y_pred = prior_model.predict(X_test)\n",
    "y_abc = y_pred + np.random.normal(0,variance, y_pred.shape) + bias \n",
    "mse = mean_squared_error(y_pred,Y_test)\n",
    "sb.glue(\"Prior Model MSE\",mse)\n",
    "mse = mean_squared_error(y_abc,Y_test)\n",
    "sb.glue(\"ABC Pre-generator MSE\",mse)\n",
    "mae = mean_absolute_error(y_pred,Y_test)\n",
    "sb.glue(\"Prior Model MSE\",mae)\n",
    "mae = mean_absolute_error(y_abc,Y_test)\n",
    "sb.glue(\"ABC Pre-generator MSE\",mae)"
   ]
  },
  {
   "cell_type": "markdown",
   "id": "25609da2",
   "metadata": {
    "papermill": {
     "duration": 0.010075,
     "end_time": "2022-06-07T07:02:20.560269",
     "exception": false,
     "start_time": "2022-06-07T07:02:20.550194",
     "status": "completed"
    },
    "tags": []
   },
   "source": [
    "# ABC GAN Model"
   ]
  },
  {
   "cell_type": "code",
   "execution_count": 11,
   "id": "dfc3464d",
   "metadata": {
    "execution": {
     "iopub.execute_input": "2022-06-07T07:02:20.583961Z",
     "iopub.status.busy": "2022-06-07T07:02:20.583565Z",
     "iopub.status.idle": "2022-06-07T07:02:20.586160Z",
     "shell.execute_reply": "2022-06-07T07:02:20.586455Z"
    },
    "papermill": {
     "duration": 0.016208,
     "end_time": "2022-06-07T07:02:20.586582",
     "exception": false,
     "start_time": "2022-06-07T07:02:20.570374",
     "status": "completed"
    },
    "tags": []
   },
   "outputs": [],
   "source": [
    "gen = network.Generator(n_features+1).to(device)\n",
    "disc = network.Discriminator(n_features+1).to(device)\n",
    "\n",
    "criterion = torch.nn.BCELoss()\n",
    "gen_opt = torch.optim.Adam(gen.parameters(), lr=0.001, betas=(0.5, 0.999))\n",
    "disc_opt = torch.optim.Adam(disc.parameters(), lr=0.001, betas=(0.5, 0.999))"
   ]
  },
  {
   "cell_type": "code",
   "execution_count": 12,
   "id": "b75fdd85",
   "metadata": {
    "execution": {
     "iopub.execute_input": "2022-06-07T07:02:20.610507Z",
     "iopub.status.busy": "2022-06-07T07:02:20.609701Z",
     "iopub.status.idle": "2022-06-07T07:02:35.330600Z",
     "shell.execute_reply": "2022-06-07T07:02:35.330924Z"
    },
    "papermill": {
     "duration": 14.734618,
     "end_time": "2022-06-07T07:02:35.331081",
     "exception": false,
     "start_time": "2022-06-07T07:02:20.596463",
     "status": "completed"
    },
    "tags": []
   },
   "outputs": [
    {
     "data": {
      "image/png": "[encoded data removed]",
      "text/plain": [
       "<Figure size 432x288 with 1 Axes>"
      ]
     },
     "metadata": {
      "needs_background": "light"
     },
     "output_type": "display_data"
    },
    {
     "data": {
      "image/png": "[encoded data removed]",
      "text/plain": [
       "<Figure size 432x288 with 1 Axes>"
      ]
     },
     "metadata": {
      "needs_background": "light"
     },
     "output_type": "display_data"
    }
   ],
   "source": [
    "#Training the ABC_GAN \n",
    "ABC_train_test2.training_GAN(disc,gen,disc_opt,gen_opt,train_data,batch_size,n_epochs,criterion,prior_model,variance,bias,device)"
   ]
  },
  {
   "cell_type": "code",
   "execution_count": 13,
   "id": "1fa7c368",
   "metadata": {
    "execution": {
     "iopub.execute_input": "2022-06-07T07:02:35.356832Z",
     "iopub.status.busy": "2022-06-07T07:02:35.356371Z",
     "iopub.status.idle": "2022-06-07T07:02:35.559960Z",
     "shell.execute_reply": "2022-06-07T07:02:35.560216Z"
    },
    "papermill": {
     "duration": 0.2176,
     "end_time": "2022-06-07T07:02:35.560357",
     "exception": false,
     "start_time": "2022-06-07T07:02:35.342757",
     "status": "completed"
    },
    "tags": []
   },
   "outputs": [
    {
     "data": {
      "application/scrapbook.scrap.json+json": {
       "data": 0.032100831233547955,
       "encoder": "json",
       "name": "ABC-GAN Model 1 MSE",
       "version": 1
      }
     },
     "metadata": {
      "scrapbook": {
       "data": true,
       "display": false,
       "name": "ABC-GAN Model 1 MSE"
      }
     },
     "output_type": "display_data"
    },
    {
     "data": {
      "application/scrapbook.scrap.json+json": {
       "data": 0.13424505582917481,
       "encoder": "json",
       "name": "ABC-GAN Model 1 MAE",
       "version": 1
      }
     },
     "metadata": {
      "scrapbook": {
       "data": true,
       "display": false,
       "name": "ABC-GAN Model 1 MAE"
      }
     },
     "output_type": "display_data"
    },
    {
     "data": {
      "application/scrapbook.scrap.json+json": {
       "data": 2.684901116583496,
       "encoder": "json",
       "name": "ABC-GAN Model 1 Manhattan Distance",
       "version": 1
      }
     },
     "metadata": {
      "scrapbook": {
       "data": true,
       "display": false,
       "name": "ABC-GAN Model 1 Manhattan Distance"
      }
     },
     "output_type": "display_data"
    },
    {
     "data": {
      "application/scrapbook.scrap.json+json": {
       "data": 0.8005938189920828,
       "encoder": "json",
       "name": "ABC-GAN Model 1 Euclidean distance",
       "version": 1
      }
     },
     "metadata": {
      "scrapbook": {
       "data": true,
       "display": false,
       "name": "ABC-GAN Model 1 Euclidean distance"
      }
     },
     "output_type": "display_data"
    },
    {
     "data": {
      "application/scrapbook.scrap.json+json": {
       "data": [
        [
         0.02669665596653334,
         0.029835966956029737,
         0.03471640344560328,
         0.02921147102171213,
         0.03108213207866582,
         0.030715994627426402,
         0.028799916083144084,
         0.0350757999292348,
         0.031219205761049362,
         0.034410470587750375,
         0.031121978916701813,
         0.03582812015467958,
         0.03217714269333455,
         0.033460057734238866,
         0.031065153008756518,
         0.025717150741288296,
         0.03258695447712369,
         0.034469269617424934,
         0.03279688074681324,
         0.03347823680801605,
         0.034295916474777866,
         0.035959728551394746,
         0.03219188334862892,
         0.02974031023538474,
         0.036470081178407665,
         0.03288103729661669,
         0.03437350935717688,
         0.03541897490258759,
         0.03429507117823925,
         0.03337679519944489,
         0.03651389828995412,
         0.03485615829991469,
         0.03110045466324769,
         0.02955098666757845,
         0.03708975709832921,
         0.032816892289808865,
         0.03393309720038007,
         0.03795407090591786,
         0.033810897616279215,
         0.025526879643571237,
         0.034035015429526375,
         0.03038411325874476,
         0.030584992819302447,
         0.03380747985575805,
         0.028666483320435886,
         0.03091165279401515,
         0.031318881179935545,
         0.029913522531254344,
         0.030451039532931146,
         0.033286707519998404,
         0.03410676874480892,
         0.03128750204567722,
         0.031165826904744363,
         0.02941507065019695,
         0.032060681097640556,
         0.025168776343761835,
         0.03347161206418448,
         0.030123624962423344,
         0.03196310636183777,
         0.02900230152988039,
         0.03267658965870764,
         0.03024901640147245,
         0.03766203371197426,
         0.02826509615314075,
         0.033335827307142706,
         0.030826991366734825,
         0.033642222007789734,
         0.02799843902589093,
         0.03292193202560647,
         0.03023992745171362,
         0.03447245988112622,
         0.03459181361433291,
         0.032950110625959414,
         0.03185144112703445,
         0.027089619289652516,
         0.02993908517972064,
         0.03447189594040828,
         0.033710246486424275,
         0.03566675629604716,
         0.0340110362287903,
         0.02930318438682718,
         0.033158279002988934,
         0.02997720821756424,
         0.031155451896809426,
         0.03110319172612134,
         0.03226932986379682,
         0.034205708390147596,
         0.031332669979104034,
         0.03202829062895285,
         0.031397914524181086,
         0.030215365092150892,
         0.029926437525206795,
         0.029633599748416894,
         0.0346790750684752,
         0.029775748213936238,
         0.03532640307895642,
         0.03332301483723731,
         0.03334557309637248,
         0.03083098550667927,
         0.032776632090975276
        ],
        [
         0.11831909967586399,
         0.1333276264369488,
         0.13987521156668664,
         0.1280993982218206,
         0.133502674754709,
         0.12434609150514006,
         0.12931934893131256,
         0.1422291576862335,
         0.13537004217505455,
         0.13533150106668473,
         0.12599329352378846,
         0.14215495586395263,
         0.13075990928336978,
         0.13944708183407784,
         0.13038188368082046,
         0.11936747906729579,
         0.1364268391393125,
         0.1383211523294449,
         0.1342483703047037,
         0.13956088721752166,
         0.13552284417673946,
         0.14638938382267952,
         0.13387620002031325,
         0.1310176696628332,
         0.1380670715123415,
         0.136163233127445,
         0.1367273843847215,
         0.15069865249097347,
         0.13546925773844123,
         0.14353294260799884,
         0.13822281286120414,
         0.1349645722657442,
         0.12683343850076198,
         0.12573733842000365,
         0.1408504127524793,
         0.13995155245065688,
         0.13992819786071778,
         0.14567046836018563,
         0.13628612821921707,
         0.12124142562970519,
         0.1393231965601444,
         0.1338491640985012,
         0.12972996970638634,
         0.13747391551733018,
         0.12636149665340782,
         0.13620766019448638,
         0.13151272712275386,
         0.12764592869207264,
         0.13262395933270454,
         0.1358486889861524,
         0.13580024717375636,
         0.13550513051450253,
         0.12720051323994994,
         0.1365556067787111,
         0.13312799483537674,
         0.12009269557893276,
         0.13980732327327133,
         0.1320740076713264,
         0.13302434971556068,
         0.12205840451642871,
         0.12629745826125144,
         0.12639790615066887,
         0.14477059617638588,
         0.12804423039779067,
         0.13910266607999802,
         0.12490779086947441,
         0.1365847922861576,
         0.1312131740152836,
         0.13751889318227767,
         0.12931813215836882,
         0.14094702564179898,
         0.14200710132718086,
         0.13243794664740563,
         0.13365879571065306,
         0.12162441154941916,
         0.134256277885288,
         0.14451638041064144,
         0.14236345551908017,
         0.13786472072824835,
         0.13666821792721748,
         0.12859566174447537,
         0.1301871850155294,
         0.13339454485103489,
         0.1341272510588169,
         0.13474075272679328,
         0.1345749362371862,
         0.1383924546651542,
         0.13138034781441094,
         0.13308474756777286,
         0.13303551254794002,
         0.14293556436896324,
         0.1294383518397808,
         0.13470660680904983,
         0.14191752187907697,
         0.12163028791546822,
         0.14539495818316936,
         0.13866067370399832,
         0.14074829146265982,
         0.12335911421105265,
         0.14434487409889699
        ],
        [
         2.3663819935172796,
         2.6665525287389755,
         2.7975042313337326,
         2.561987964436412,
         2.67005349509418,
         2.4869218301028013,
         2.586386978626251,
         2.8445831537246704,
         2.707400843501091,
         2.7066300213336945,
         2.519865870475769,
         2.8430991172790527,
         2.6151981856673956,
         2.7889416366815567,
         2.6076376736164093,
         2.387349581345916,
         2.72853678278625,
         2.7664230465888977,
         2.6849674060940742,
         2.7912177443504333,
         2.710456883534789,
         2.9277876764535904,
         2.6775240004062653,
         2.6203533932566643,
         2.76134143024683,
         2.7232646625488997,
         2.7345476876944304,
         3.0139730498194695,
         2.7093851547688246,
         2.870658852159977,
         2.764456257224083,
         2.699291445314884,
         2.5366687700152397,
         2.514746768400073,
         2.8170082550495863,
         2.799031049013138,
         2.7985639572143555,
         2.9134093672037125,
         2.7257225643843412,
         2.424828512594104,
         2.7864639312028885,
         2.676983281970024,
         2.5945993941277266,
         2.7494783103466034,
         2.5272299330681562,
         2.7241532038897276,
         2.630254542455077,
         2.5529185738414526,
         2.652479186654091,
         2.716973779723048,
         2.716004943475127,
         2.7101026102900505,
         2.544010264798999,
         2.7311121355742216,
         2.662559896707535,
         2.4018539115786552,
         2.7961464654654264,
         2.641480153426528,
         2.6604869943112135,
         2.441168090328574,
         2.525949165225029,
         2.527958123013377,
         2.8954119235277176,
         2.5608846079558134,
         2.7820533215999603,
         2.498155817389488,
         2.731695845723152,
         2.6242634803056717,
         2.7503778636455536,
         2.5863626431673765,
         2.8189405128359795,
         2.8401420265436172,
         2.6487589329481125,
         2.6731759142130613,
         2.4324882309883833,
         2.68512555770576,
         2.8903276082128286,
         2.8472691103816032,
         2.757294414564967,
         2.7333643585443497,
         2.5719132348895073,
         2.603743700310588,
         2.6678908970206976,
         2.682545021176338,
         2.694815054535866,
         2.691498724743724,
         2.7678490933030844,
         2.6276069562882185,
         2.6616949513554573,
         2.6607102509588003,
         2.858711287379265,
         2.588767036795616,
         2.694132136180997,
         2.838350437581539,
         2.4326057583093643,
         2.9078991636633873,
         2.7732134740799665,
         2.8149658292531967,
         2.467182284221053,
         2.8868974819779396
        ],
        [
         0.7307072733527886,
         0.7724761090937342,
         0.8332635050883158,
         0.7643490174221739,
         0.788443175868316,
         0.783785616446569,
         0.7589455327379441,
         0.8375655189802741,
         0.7901797992994931,
         0.8295838786735236,
         0.7889484002988004,
         0.8465000904273972,
         0.8022112277116863,
         0.8180471592058598,
         0.7882277971342614,
         0.7171771153806888,
         0.8073035919296246,
         0.8302923535409071,
         0.8098997561033494,
         0.8182693542839796,
         0.8282018651847853,
         0.8480534010473013,
         0.8023949569710533,
         0.7712368019666169,
         0.8540501294234158,
         0.8109381887248459,
         0.829138219565072,
         0.8416528370128338,
         0.828191658714808,
         0.8170287045073128,
         0.8545630262298284,
         0.8349390193291326,
         0.7886755310423633,
         0.7687780780898796,
         0.8612752997541403,
         0.8101468050891624,
         0.8238094100018531,
         0.8712527865770974,
         0.8223247243793562,
         0.714519134013516,
         0.8250456403075695,
         0.7795397778015534,
         0.7821124320620718,
         0.8222831611526293,
         0.7571853580258389,
         0.7862779762147118,
         0.7914402211150953,
         0.7734794442162551,
         0.7803978412698378,
         0.8159253338388066,
         0.8259148714584199,
         0.7910436403344283,
         0.7895039823173075,
         0.767008091876441,
         0.8007581544716301,
         0.7094896242195771,
         0.8181883898489942,
         0.7761910198195203,
         0.7995386965224106,
         0.7616075305546866,
         0.8084131327323628,
         0.777804813580791,
         0.8678943911787225,
         0.7518656283291683,
         0.8165271251727367,
         0.7852005013591729,
         0.8202709553286613,
         0.7483106176701081,
         0.8114423211246314,
         0.7776879509380819,
         0.8303307760299653,
         0.8317669579194994,
         0.8117895124471542,
         0.7981408538226126,
         0.7360654765664875,
         0.7738098626887698,
         0.8303239842423954,
         0.8210998293316627,
         0.8445916918375075,
         0.8247549481972242,
         0.765547965666779,
         0.8143497897462605,
         0.7743023726886575,
         0.7893725596549379,
         0.7887102348279923,
         0.8033595691070944,
         0.827111943936824,
         0.7916144260825978,
         0.8003535547363159,
         0.7924381934785966,
         0.7773720485346883,
         0.7736463988826782,
         0.769851930547906,
         0.8328154065394708,
         0.771696160596076,
         0.8405522360800239,
         0.8163701958944523,
         0.816646473039252,
         0.785251367482786,
         0.8096497031553248
        ]
       ],
       "encoder": "json",
       "name": "ABC_GAN_1 Metrics",
       "version": 1
      }
     },
     "metadata": {
      "scrapbook": {
       "data": true,
       "display": false,
       "name": "ABC_GAN_1 Metrics"
      }
     },
     "output_type": "display_data"
    },
    {
     "name": "stdout",
     "output_type": "stream",
     "text": [
      "MSE\n",
      "0.032100831233547955\n"
     ]
    }
   ],
   "source": [
    "ABC_GAN1_metrics=ABC_train_test2.test_generator(gen,test_data,prior_model,variance,bias,\"1\",device)\n",
    "sb.glue(\"ABC_GAN_1 Metrics\",ABC_GAN1_metrics)\n",
    "\n",
    "print(\"MSE\")\n",
    "print(mean(ABC_GAN1_metrics[0]))"
   ]
  },
  {
   "cell_type": "code",
   "execution_count": 14,
   "id": "eb22ce5c",
   "metadata": {
    "execution": {
     "iopub.execute_input": "2022-06-07T07:02:35.589207Z",
     "iopub.status.busy": "2022-06-07T07:02:35.588810Z",
     "iopub.status.idle": "2022-06-07T07:02:35.921252Z",
     "shell.execute_reply": "2022-06-07T07:02:35.921638Z"
    },
    "papermill": {
     "duration": 0.348245,
     "end_time": "2022-06-07T07:02:35.921798",
     "exception": false,
     "start_time": "2022-06-07T07:02:35.573553",
     "status": "completed"
    },
    "tags": []
   },
   "outputs": [
    {
     "data": {
      "image/png": "[encoded data removed]",
      "text/plain": [
       "<Figure size 432x288 with 1 Axes>"
      ]
     },
     "metadata": {
      "needs_background": "light"
     },
     "output_type": "display_data"
    },
    {
     "data": {
      "image/png": "[encoded data removed]",
      "text/plain": [
       "<Figure size 432x288 with 1 Axes>"
      ]
     },
     "metadata": {
      "needs_background": "light"
     },
     "output_type": "display_data"
    },
    {
     "data": {
      "image/png": "[encoded data removed]",
      "text/plain": [
       "<Figure size 432x288 with 1 Axes>"
      ]
     },
     "metadata": {
      "needs_background": "light"
     },
     "output_type": "display_data"
    },
    {
     "data": {
      "image/png": "[encoded data removed]",
      "text/plain": [
       "<Figure size 432x288 with 1 Axes>"
      ]
     },
     "metadata": {
      "needs_background": "light"
     },
     "output_type": "display_data"
    }
   ],
   "source": [
    "sanityChecks.discProbVsError(train_data,disc,device)\n",
    "sanityChecks.discProbVsError(test_data,disc,device)"
   ]
  },
  {
   "cell_type": "markdown",
   "id": "130f3a4d",
   "metadata": {
    "id": "130f3a4d",
    "papermill": {
     "duration": 0.041336,
     "end_time": "2022-06-07T07:02:35.978800",
     "exception": false,
     "start_time": "2022-06-07T07:02:35.937464",
     "status": "completed"
    },
    "tags": []
   },
   "source": [
    "# ABC - GAN Model with skip connection"
   ]
  },
  {
   "cell_type": "code",
   "execution_count": 15,
   "id": "4e43dad1",
   "metadata": {
    "execution": {
     "iopub.execute_input": "2022-06-07T07:02:36.013289Z",
     "iopub.status.busy": "2022-06-07T07:02:36.012864Z",
     "iopub.status.idle": "2022-06-07T07:02:36.015731Z",
     "shell.execute_reply": "2022-06-07T07:02:36.016013Z"
    },
    "id": "4e43dad1",
    "papermill": {
     "duration": 0.021815,
     "end_time": "2022-06-07T07:02:36.016138",
     "exception": false,
     "start_time": "2022-06-07T07:02:35.994323",
     "status": "completed"
    },
    "tags": []
   },
   "outputs": [],
   "source": [
    "#Generator\n",
    "gen3 = network.GeneratorWithSkipConnection(n_features+1).to(device)\n",
    "constraints=network.weightConstraint()\n",
    "#Discriminator \n",
    "disc3 = network.Discriminator(n_features+1).to(device)\n",
    "\n",
    "criterion = torch.nn.BCELoss()\n",
    "gen_opt = torch.optim.Adam(gen3.parameters(), lr=0.001, betas=(0.5, 0.999))\n",
    "disc_opt = torch.optim.Adam(disc3.parameters(), lr=0.001, betas=(0.5, 0.999))\n"
   ]
  },
  {
   "cell_type": "code",
   "execution_count": 16,
   "id": "26acbc37",
   "metadata": {
    "execution": {
     "iopub.execute_input": "2022-06-07T07:02:36.050597Z",
     "iopub.status.busy": "2022-06-07T07:02:36.050185Z",
     "iopub.status.idle": "2022-06-07T07:03:17.484449Z",
     "shell.execute_reply": "2022-06-07T07:03:17.484869Z"
    },
    "id": "26acbc37",
    "papermill": {
     "duration": 41.453169,
     "end_time": "2022-06-07T07:03:17.484996",
     "exception": false,
     "start_time": "2022-06-07T07:02:36.031827",
     "status": "completed"
    },
    "tags": []
   },
   "outputs": [
    {
     "data": {
      "image/png": "[encoded data removed]",
      "text/plain": [
       "<Figure size 432x288 with 1 Axes>"
      ]
     },
     "metadata": {
      "needs_background": "light"
     },
     "output_type": "display_data"
    },
    {
     "data": {
      "image/png": "[encoded data removed]",
      "text/plain": [
       "<Figure size 432x288 with 1 Axes>"
      ]
     },
     "metadata": {
      "needs_background": "light"
     },
     "output_type": "display_data"
    }
   ],
   "source": [
    "ABC_train_test2.training_GAN_skip_connection(disc3,gen3,disc_opt,gen_opt,train_data,batch_size,n_epochs,criterion,prior_model,variance,bias,device)"
   ]
  },
  {
   "cell_type": "code",
   "execution_count": 17,
   "id": "c5e0717b",
   "metadata": {
    "execution": {
     "iopub.execute_input": "2022-06-07T07:03:17.519894Z",
     "iopub.status.busy": "2022-06-07T07:03:17.519444Z",
     "iopub.status.idle": "2022-06-07T07:03:17.848954Z",
     "shell.execute_reply": "2022-06-07T07:03:17.848661Z"
    },
    "id": "c5e0717b",
    "papermill": {
     "duration": 0.348079,
     "end_time": "2022-06-07T07:03:17.849082",
     "exception": false,
     "start_time": "2022-06-07T07:03:17.501003",
     "status": "completed"
    },
    "tags": []
   },
   "outputs": [
    {
     "data": {
      "application/scrapbook.scrap.json+json": {
       "data": 0.03545723787749238,
       "encoder": "json",
       "name": "ABC-GAN Model 3 MSE",
       "version": 1
      }
     },
     "metadata": {
      "scrapbook": {
       "data": true,
       "display": false,
       "name": "ABC-GAN Model 3 MSE"
      }
     },
     "output_type": "display_data"
    },
    {
     "data": {
      "application/scrapbook.scrap.json+json": {
       "data": 0.15148878941964358,
       "encoder": "json",
       "name": "ABC-GAN Model 3 MAE",
       "version": 1
      }
     },
     "metadata": {
      "scrapbook": {
       "data": true,
       "display": false,
       "name": "ABC-GAN Model 3 MAE"
      }
     },
     "output_type": "display_data"
    },
    {
     "data": {
      "application/scrapbook.scrap.json+json": {
       "data": 3.0297757883928718,
       "encoder": "json",
       "name": "ABC-GAN Model 3 Manhattan Distance",
       "version": 1
      }
     },
     "metadata": {
      "scrapbook": {
       "data": true,
       "display": false,
       "name": "ABC-GAN Model 3 Manhattan Distance"
      }
     },
     "output_type": "display_data"
    },
    {
     "data": {
      "application/scrapbook.scrap.json+json": {
       "data": 0.8380340361376825,
       "encoder": "json",
       "name": "ABC-GAN Model 3 Euclidean distance",
       "version": 1
      }
     },
     "metadata": {
      "scrapbook": {
       "data": true,
       "display": false,
       "name": "ABC-GAN Model 3 Euclidean distance"
      }
     },
     "output_type": "display_data"
    },
    {
     "data": {
      "application/scrapbook.scrap.json+json": {
       "data": [
        [
         0.04191071608553293,
         0.03252035206299044,
         0.019845035748034125,
         0.03594843834438344,
         0.041987803041296096,
         0.04326898642168823,
         0.03693291384401256,
         0.037600586543061185,
         0.03973015765308304,
         0.02806825658046651,
         0.028499222719520444,
         0.03339703181315844,
         0.04135936565324618,
         0.030243731619917967,
         0.033827262932109525,
         0.03681198561010862,
         0.036935393123598795,
         0.04292886541789592,
         0.03759902272644154,
         0.031092729438364684,
         0.030875105619392617,
         0.03531229808494503,
         0.030869865803128484,
         0.030368153172018318,
         0.03855430510782153,
         0.03173909453016732,
         0.03701413018513381,
         0.026691652767297503,
         0.03856996390791162,
         0.03686065848035699,
         0.03077334170838385,
         0.025316880849809063,
         0.029880803320015626,
         0.032736740958703256,
         0.03456621608320074,
         0.03438838205597757,
         0.03998375497846869,
         0.02388921136122387,
         0.025940956775823476,
         0.03825115843422024,
         0.048723765366557016,
         0.04548748581403302,
         0.036506576829584345,
         0.03555776730007372,
         0.02729055581262215,
         0.03471476812373654,
         0.040085036345238044,
         0.03557599914751093,
         0.03769066885868135,
         0.029988595699733556,
         0.046010594553700025,
         0.04558740653899261,
         0.03338962755649024,
         0.05558773972396961,
         0.04662336882406506,
         0.03916584892898097,
         0.03650068435784243,
         0.03307886794482172,
         0.041457561289794664,
         0.0347870441055811,
         0.029659856175146847,
         0.036036410509518536,
         0.036076215652947066,
         0.02672312625898089,
         0.04978703568161301,
         0.03353497119727676,
         0.030035784322990988,
         0.03024299862403096,
         0.04247511689315756,
         0.029115856170542964,
         0.030518014482669963,
         0.023513197955338475,
         0.033036737219248755,
         0.03725710904453751,
         0.030565228538930234,
         0.02327814692669978,
         0.03710236785013486,
         0.04089414484586899,
         0.022953394432677965,
         0.0439925388386954,
         0.0475662633351143,
         0.03477572401989067,
         0.04588297471851856,
         0.04112732011456738,
         0.06317446454125428,
         0.03826436544533533,
         0.027846535031404263,
         0.0331660404777108,
         0.03610279285880892,
         0.042104629718999774,
         0.040270806937225026,
         0.026742746082457802,
         0.033158800757918105,
         0.034270000771945586,
         0.028498100967641195,
         0.027463145249663756,
         0.029700268803544337,
         0.03607210204884348,
         0.03521436122449072,
         0.03062359833797672
        ],
        [
         0.15718110390007495,
         0.15100620239973067,
         0.10729553624987602,
         0.15088634938001633,
         0.16314210817217828,
         0.15379198901355268,
         0.14206726169213652,
         0.1562589429318905,
         0.16580258533358574,
         0.1381598763167858,
         0.13745617344975472,
         0.15104420855641365,
         0.1713184118270874,
         0.14114354364573956,
         0.1601551178842783,
         0.15081930682063102,
         0.14889852851629257,
         0.16148701533675194,
         0.16011128313839434,
         0.14772889390587807,
         0.1462432038038969,
         0.15262286961078644,
         0.14978039786219596,
         0.14656132087111473,
         0.15012374743819237,
         0.1535109594464302,
         0.1534080483019352,
         0.12679163813591005,
         0.15116164311766625,
         0.1621732570230961,
         0.1472120113670826,
         0.1284631934016943,
         0.14738285019993783,
         0.1422763504087925,
         0.16223884820938111,
         0.14806398674845694,
         0.15240253806114196,
         0.1223007746040821,
         0.1369844026863575,
         0.16242996528744696,
         0.1871780313551426,
         0.17788995131850244,
         0.1532150276005268,
         0.1460506722331047,
         0.14280749931931497,
         0.1532410465180874,
         0.1514094091951847,
         0.15092153549194337,
         0.1638122212141752,
         0.14351973831653594,
         0.16245732307434083,
         0.18447133228182794,
         0.15106451213359834,
         0.18974681273102761,
         0.17439292520284652,
         0.1583033286035061,
         0.14831086322665216,
         0.15076343193650246,
         0.16465590223670007,
         0.1448710434138775,
         0.14718353375792503,
         0.1523551657795906,
         0.15437665954232216,
         0.13045000806450843,
         0.1796099878847599,
         0.1444914687424898,
         0.13576513137668372,
         0.14274572357535362,
         0.16037607602775097,
         0.13920681551098824,
         0.14581602141261102,
         0.12157048173248768,
         0.15298490673303605,
         0.15775348469614983,
         0.1405566357076168,
         0.11787101924419403,
         0.15234178230166434,
         0.16300855111330748,
         0.11853881925344467,
         0.172538660466671,
         0.17131533846259117,
         0.14655957296490668,
         0.17341261282563208,
         0.17153321877121924,
         0.19873220100998878,
         0.15791767984628677,
         0.1397753983736038,
         0.15064236037433149,
         0.156304419785738,
         0.1632866933941841,
         0.1626955971121788,
         0.13395276442170143,
         0.15483909100294113,
         0.15079052560031414,
         0.1281516171991825,
         0.12815093491226434,
         0.1413527736440301,
         0.15185632109642028,
         0.1433546043932438,
         0.1377452313899994
        ],
        [
         3.143622078001499,
         3.0201240479946136,
         2.1459107249975204,
         3.0177269876003265,
         3.2628421634435654,
         3.0758397802710533,
         2.8413452338427305,
         3.1251788586378098,
         3.316051706671715,
         2.7631975263357162,
         2.7491234689950943,
         3.020884171128273,
         3.426368236541748,
         2.822870872914791,
         3.203102357685566,
         3.0163861364126205,
         2.9779705703258514,
         3.2297403067350388,
         3.202225662767887,
         2.9545778781175613,
         2.924864076077938,
         3.0524573922157288,
         2.9956079572439194,
         2.9312264174222946,
         3.0024749487638474,
         3.070219188928604,
         3.068160966038704,
         2.5358327627182007,
         3.023232862353325,
         3.2434651404619217,
         2.944240227341652,
         2.569263868033886,
         2.9476570039987564,
         2.84552700817585,
         3.244776964187622,
         2.961279734969139,
         3.0480507612228394,
         2.446015492081642,
         2.73968805372715,
         3.2485993057489395,
         3.743560627102852,
         3.5577990263700485,
         3.064300552010536,
         2.921013444662094,
         2.856149986386299,
         3.0648209303617477,
         3.028188183903694,
         3.018430709838867,
         3.2762444242835045,
         2.870394766330719,
         3.2491464614868164,
         3.6894266456365585,
         3.0212902426719666,
         3.794936254620552,
         3.4878585040569305,
         3.1660665720701218,
         2.966217264533043,
         3.015268638730049,
         3.293118044734001,
         2.8974208682775497,
         2.9436706751585007,
         3.047103315591812,
         3.087533190846443,
         2.6090001612901688,
         3.592199757695198,
         2.8898293748497963,
         2.7153026275336742,
         2.8549144715070724,
         3.2075215205550194,
         2.7841363102197647,
         2.91632042825222,
         2.4314096346497536,
         3.059698134660721,
         3.1550696939229965,
         2.811132714152336,
         2.3574203848838806,
         3.046835646033287,
         3.2601710222661495,
         2.3707763850688934,
         3.45077320933342,
         3.4263067692518234,
         2.931191459298134,
         3.468252256512642,
         3.430664375424385,
         3.9746440201997757,
         3.1583535969257355,
         2.7955079674720764,
         3.0128472074866295,
         3.12608839571476,
         3.2657338678836823,
         3.253911942243576,
         2.6790552884340286,
         3.0967818200588226,
         3.015810512006283,
         2.56303234398365,
         2.563018698245287,
         2.827055472880602,
         3.0371264219284058,
         2.867092087864876,
         2.754904627799988
        ],
        [
         0.9155404533447217,
         0.8064781715953686,
         0.6300005674288576,
         0.8479202597459674,
         0.9163820495982676,
         0.9302578827581977,
         0.8594523121617925,
         0.867186099324259,
         0.8914051565150725,
         0.7492430390796635,
         0.754973148125421,
         0.8172763524433879,
         0.9094983854108394,
         0.7777368657832541,
         0.8225237131184672,
         0.8580441201955599,
         0.8594811588813194,
         0.9265944681239568,
         0.8671680659069676,
         0.7885775730816175,
         0.78581302635414,
         0.840384413050897,
         0.7857463433338838,
         0.7793350136111982,
         0.8781150848017761,
         0.7967320067647254,
         0.8603967710903361,
         0.7306387995076296,
         0.8782933895676504,
         0.8586111865140937,
         0.7845169431998757,
         0.7115740418229022,
         0.7730563151545381,
         0.8091568569653632,
         0.8314591521319702,
         0.8293175755520629,
         0.8942455476933467,
         0.6912193770609136,
         0.7202910075215916,
         0.8746560287818319,
         0.9871551586914492,
         0.9538080080816372,
         0.8544773470324927,
         0.8433002703672484,
         0.7387903060087098,
         0.8332438793502961,
         0.8953774214847954,
         0.8435164390515567,
         0.8682242666348523,
         0.7744494263634464,
         0.9592767541611755,
         0.9548550312900133,
         0.817185750689404,
         1.0543978350126637,
         0.9656435038259726,
         0.8850519637736642,
         0.8544083842969055,
         0.8133740584112789,
         0.9105774134009108,
         0.8341108332299862,
         0.7701929131736652,
         0.8489571309497145,
         0.8494258726098124,
         0.7310694393692146,
         0.9978680842838197,
         0.8189624069183733,
         0.7750585051851374,
         0.7777274409975639,
         0.9216845110248686,
         0.763097060281888,
         0.7812555853582099,
         0.6857579449826079,
         0.812855918588882,
         0.8632161843308721,
         0.7818596873983238,
         0.6823217265586635,
         0.8614217068327784,
         0.9043687836924602,
         0.6775454882541535,
         0.9380036123458737,
         0.9753590450199793,
         0.83397510778069,
         0.9579454547991608,
         0.9069434394113822,
         1.1240503951447576,
         0.8748070123785626,
         0.7462778977218106,
         0.814445093026053,
         0.8497386993518528,
         0.9176560327159603,
         0.8974497973393835,
         0.731337761673193,
         0.8143561967335683,
         0.8278888907570338,
         0.7549582898099894,
         0.7411227327462538,
         0.7707174424332739,
         0.8493774431763947,
         0.8392182222102987,
         0.782605882139621
        ]
       ],
       "encoder": "json",
       "name": "ABC_GAN_3 Metrics",
       "version": 1
      }
     },
     "metadata": {
      "scrapbook": {
       "data": true,
       "display": false,
       "name": "ABC_GAN_3 Metrics"
      }
     },
     "output_type": "display_data"
    },
    {
     "name": "stdout",
     "output_type": "stream",
     "text": [
      "MSE\n",
      "0.03545723787749238\n"
     ]
    }
   ],
   "source": [
    "ABC_GAN3_metrics=ABC_train_test2.test_generator(gen3,test_data,prior_model,variance,bias,\"3\",device)\n",
    "sb.glue(\"ABC_GAN_3 Metrics\",ABC_GAN3_metrics)\n",
    "\n",
    "print(\"MSE\")\n",
    "print(mean(ABC_GAN3_metrics[0]))"
   ]
  },
  {
   "cell_type": "code",
   "execution_count": 18,
   "id": "c8e46b48",
   "metadata": {
    "execution": {
     "iopub.execute_input": "2022-06-07T07:03:17.887633Z",
     "iopub.status.busy": "2022-06-07T07:03:17.887244Z",
     "iopub.status.idle": "2022-06-07T07:03:18.197180Z",
     "shell.execute_reply": "2022-06-07T07:03:18.197653Z"
    },
    "id": "c8e46b48",
    "papermill": {
     "duration": 0.330582,
     "end_time": "2022-06-07T07:03:18.197791",
     "exception": false,
     "start_time": "2022-06-07T07:03:17.867209",
     "status": "completed"
    },
    "tags": []
   },
   "outputs": [
    {
     "data": {
      "image/png": "[encoded data removed]",
      "text/plain": [
       "<Figure size 432x288 with 1 Axes>"
      ]
     },
     "metadata": {
      "needs_background": "light"
     },
     "output_type": "display_data"
    },
    {
     "data": {
      "image/png": "[encoded data removed]",
      "text/plain": [
       "<Figure size 432x288 with 1 Axes>"
      ]
     },
     "metadata": {
      "needs_background": "light"
     },
     "output_type": "display_data"
    },
    {
     "data": {
      "image/png": "[encoded data removed]",
      "text/plain": [
       "<Figure size 432x288 with 1 Axes>"
      ]
     },
     "metadata": {
      "needs_background": "light"
     },
     "output_type": "display_data"
    },
    {
     "data": {
      "image/png": "[encoded data removed]",
      "text/plain": [
       "<Figure size 432x288 with 1 Axes>"
      ]
     },
     "metadata": {
      "needs_background": "light"
     },
     "output_type": "display_data"
    }
   ],
   "source": [
    "sanityChecks.discProbVsError(train_data,disc3,device)\n",
    "sanityChecks.discProbVsError(test_data,disc3,device)"
   ]
  },
  {
   "cell_type": "markdown",
   "id": "a5bd74c3",
   "metadata": {
    "id": "a5bd74c3",
    "papermill": {
     "duration": 0.0199,
     "end_time": "2022-06-07T07:03:18.237736",
     "exception": false,
     "start_time": "2022-06-07T07:03:18.217836",
     "status": "completed"
    },
    "tags": []
   },
   "source": [
    "## Skip Connection Model Analysis - ABC-GAN "
   ]
  },
  {
   "cell_type": "markdown",
   "id": "5744a8bf",
   "metadata": {
    "id": "5744a8bf",
    "papermill": {
     "duration": 0.020426,
     "end_time": "2022-06-07T07:03:18.278068",
     "exception": false,
     "start_time": "2022-06-07T07:03:18.257642",
     "status": "completed"
    },
    "tags": []
   },
   "source": [
    "### Weight Analysis \n",
    "\n",
    "Study the weights of the skip connection layer\n",
    "\n",
    "Equation of the skip connection is \n",
    "\n",
    "$output = y_{gan} * w + y_{abc} * (1-w)$"
   ]
  },
  {
   "cell_type": "code",
   "execution_count": 19,
   "id": "52c31dea",
   "metadata": {
    "execution": {
     "iopub.execute_input": "2022-06-07T07:03:18.321440Z",
     "iopub.status.busy": "2022-06-07T07:03:18.321052Z",
     "iopub.status.idle": "2022-06-07T07:03:18.324482Z",
     "shell.execute_reply": "2022-06-07T07:03:18.324767Z"
    },
    "id": "52c31dea",
    "papermill": {
     "duration": 0.026547,
     "end_time": "2022-06-07T07:03:18.324882",
     "exception": false,
     "start_time": "2022-06-07T07:03:18.298335",
     "status": "completed"
    },
    "tags": []
   },
   "outputs": [
    {
     "name": "stdout",
     "output_type": "stream",
     "text": [
      "Weight of the node at skip connection\n",
      "Parameter containing:\n",
      "tensor([[0.1211]], requires_grad=True)\n"
     ]
    },
    {
     "data": {
      "application/scrapbook.scrap.json+json": {
       "data": 0.12109153717756271,
       "encoder": "json",
       "name": "Skip Connection Weight",
       "version": 1
      }
     },
     "metadata": {
      "scrapbook": {
       "data": true,
       "display": false,
       "name": "Skip Connection Weight"
      }
     },
     "output_type": "display_data"
    }
   ],
   "source": [
    "print(\"Weight of the node at skip connection\")\n",
    "for name,param in gen3.named_parameters():\n",
    "    if(name == \"skipNode.weight\"):\n",
    "        print(param)\n",
    "        sb.glue(\"Skip Connection Weight\",param.item())"
   ]
  }
 ],
 "metadata": {
  "colab": {
   "collapsed_sections": [],
   "name": "ABC_GAN_Model-Catboost_Pre-gen.ipynb",
   "provenance": []
  },
  "interpreter": {
   "hash": "31f2aee4e71d21fbe5cf8b01ff0e069b9275f58929596ceb00d14d90e3e16cd6"
  },
  "kernelspec": {
   "display_name": "Python 3 (ipykernel)",
   "language": "python",
   "name": "python3"
  },
  "language_info": {
   "codemirror_mode": {
    "name": "ipython",
    "version": 3
   },
   "file_extension": ".py",
   "mimetype": "text/x-python",
   "name": "python",
   "nbconvert_exporter": "python",
   "pygments_lexer": "ipython3",
   "version": "3.8.11"
  },
  "papermill": {
   "default_parameters": {},
   "duration": 62.031801,
   "end_time": "2022-06-07T07:03:18.653674",
   "environment_variables": {},
   "exception": null,
   "input_path": "ABC_GAN-Catboost.ipynb",
   "output_path": "./ABC_GAN_Catboost/ABC-GAN_output_8_6.ipynb",
   "parameters": {
    "bias": 0.01,
    "variance": 1
   },
   "start_time": "2022-06-07T07:02:16.621873",
   "version": "2.3.3"
  }
 },
 "nbformat": 4,
 "nbformat_minor": 5
}