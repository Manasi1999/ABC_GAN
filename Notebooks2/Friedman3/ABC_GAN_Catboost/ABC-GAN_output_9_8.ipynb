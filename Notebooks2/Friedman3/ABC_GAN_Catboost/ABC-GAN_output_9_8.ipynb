{
 "cells": [
  {
   "cell_type": "markdown",
   "id": "622780e6",
   "metadata": {
    "id": "622780e6",
    "papermill": {
     "duration": 0.031287,
     "end_time": "2022-06-07T07:13:50.177665",
     "exception": false,
     "start_time": "2022-06-07T07:13:50.146378",
     "status": "completed"
    },
    "tags": []
   },
   "source": [
    "## Import Libraries "
   ]
  },
  {
   "cell_type": "code",
   "execution_count": 1,
   "id": "a62397e3",
   "metadata": {
    "execution": {
     "iopub.execute_input": "2022-06-07T07:13:50.216698Z",
     "iopub.status.busy": "2022-06-07T07:13:50.215070Z",
     "iopub.status.idle": "2022-06-07T07:13:50.219933Z",
     "shell.execute_reply": "2022-06-07T07:13:50.220769Z"
    },
    "id": "a62397e3",
    "papermill": {
     "duration": 0.027322,
     "end_time": "2022-06-07T07:13:50.221273",
     "exception": false,
     "start_time": "2022-06-07T07:13:50.193951",
     "status": "completed"
    },
    "tags": []
   },
   "outputs": [],
   "source": [
    "import warnings\n",
    "import sys\n",
    "sys.path.insert(0, '../../src')\n",
    "warnings.filterwarnings('ignore')"
   ]
  },
  {
   "cell_type": "code",
   "execution_count": 2,
   "id": "d6a4e155",
   "metadata": {
    "execution": {
     "iopub.execute_input": "2022-06-07T07:13:50.241305Z",
     "iopub.status.busy": "2022-06-07T07:13:50.240924Z",
     "iopub.status.idle": "2022-06-07T07:13:52.057869Z",
     "shell.execute_reply": "2022-06-07T07:13:52.058125Z"
    },
    "id": "d6a4e155",
    "papermill": {
     "duration": 1.827362,
     "end_time": "2022-06-07T07:13:52.058271",
     "exception": false,
     "start_time": "2022-06-07T07:13:50.230909",
     "status": "completed"
    },
    "tags": []
   },
   "outputs": [],
   "source": [
    "import ABC_train_test2\n",
    "import friedman1Dataset\n",
    "import network\n",
    "import dataset\n",
    "import sanityChecks\n",
    "import torch \n",
    "import scrapbook as sb\n",
    "from statistics import mean \n",
    "import catboost as ctb \n",
    "from sklearn.model_selection import train_test_split\n",
    "from sklearn.metrics import mean_squared_error,mean_absolute_error\n",
    "import numpy as np"
   ]
  },
  {
   "cell_type": "markdown",
   "id": "2fa5b0f7",
   "metadata": {
    "id": "2fa5b0f7",
    "papermill": {
     "duration": 0.007329,
     "end_time": "2022-06-07T07:13:52.073152",
     "exception": false,
     "start_time": "2022-06-07T07:13:52.065823",
     "status": "completed"
    },
    "tags": []
   },
   "source": [
    "## Parameters "
   ]
  },
  {
   "cell_type": "code",
   "execution_count": 3,
   "id": "783186fb",
   "metadata": {
    "execution": {
     "iopub.execute_input": "2022-06-07T07:13:52.089461Z",
     "iopub.status.busy": "2022-06-07T07:13:52.089079Z",
     "iopub.status.idle": "2022-06-07T07:13:52.090363Z",
     "shell.execute_reply": "2022-06-07T07:13:52.090620Z"
    },
    "id": "783186fb",
    "papermill": {
     "duration": 0.010845,
     "end_time": "2022-06-07T07:13:52.090734",
     "exception": false,
     "start_time": "2022-06-07T07:13:52.079889",
     "status": "completed"
    },
    "tags": [
     "parameters"
    ]
   },
   "outputs": [],
   "source": [
    "variance = 1\n",
    "bias = 1 "
   ]
  },
  {
   "cell_type": "code",
   "execution_count": 4,
   "id": "bdd4019a",
   "metadata": {
    "execution": {
     "iopub.execute_input": "2022-06-07T07:13:52.107835Z",
     "iopub.status.busy": "2022-06-07T07:13:52.107461Z",
     "iopub.status.idle": "2022-06-07T07:13:52.108665Z",
     "shell.execute_reply": "2022-06-07T07:13:52.108969Z"
    },
    "papermill": {
     "duration": 0.011051,
     "end_time": "2022-06-07T07:13:52.109089",
     "exception": false,
     "start_time": "2022-06-07T07:13:52.098038",
     "status": "completed"
    },
    "tags": [
     "injected-parameters"
    ]
   },
   "outputs": [],
   "source": [
    "# Parameters\n",
    "variance = 0.01\n",
    "bias = 0.01\n"
   ]
  },
  {
   "cell_type": "markdown",
   "id": "391cdbfd",
   "metadata": {
    "id": "391cdbfd",
    "papermill": {
     "duration": 0.007116,
     "end_time": "2022-06-07T07:13:52.123518",
     "exception": false,
     "start_time": "2022-06-07T07:13:52.116402",
     "status": "completed"
    },
    "tags": []
   },
   "source": [
    "## Dataset \n"
   ]
  },
  {
   "cell_type": "code",
   "execution_count": 5,
   "id": "5b51f161",
   "metadata": {
    "execution": {
     "iopub.execute_input": "2022-06-07T07:13:52.140670Z",
     "iopub.status.busy": "2022-06-07T07:13:52.140289Z",
     "iopub.status.idle": "2022-06-07T07:13:52.141587Z",
     "shell.execute_reply": "2022-06-07T07:13:52.141889Z"
    },
    "id": "5b51f161",
    "papermill": {
     "duration": 0.011124,
     "end_time": "2022-06-07T07:13:52.142014",
     "exception": false,
     "start_time": "2022-06-07T07:13:52.130890",
     "status": "completed"
    },
    "tags": []
   },
   "outputs": [],
   "source": [
    "#Parameters \n",
    "n_features = 5\n",
    "n_samples= 100\n",
    "n_target = 1 "
   ]
  },
  {
   "cell_type": "code",
   "execution_count": 6,
   "id": "5d6eced4",
   "metadata": {
    "execution": {
     "iopub.execute_input": "2022-06-07T07:13:52.160320Z",
     "iopub.status.busy": "2022-06-07T07:13:52.159935Z",
     "iopub.status.idle": "2022-06-07T07:13:52.165096Z",
     "shell.execute_reply": "2022-06-07T07:13:52.165387Z"
    },
    "id": "5d6eced4",
    "papermill": {
     "duration": 0.016202,
     "end_time": "2022-06-07T07:13:52.165519",
     "exception": false,
     "start_time": "2022-06-07T07:13:52.149317",
     "status": "completed"
    },
    "tags": []
   },
   "outputs": [
    {
     "name": "stdout",
     "output_type": "stream",
     "text": [
      "         X0        X1        X2        X3        X4         Y\n",
      "0 -0.645339  0.523830 -1.150453 -0.145548  0.517455  0.391591\n",
      "1 -0.141798  1.579772 -0.105998 -0.553252  0.039936  0.302522\n",
      "2 -1.640225 -0.542374 -0.329001 -1.527776  0.411052 -2.109372\n",
      "3  1.206289 -1.691811  0.519645  0.584962  0.136134 -0.925949\n",
      "4  0.331785 -1.361171  0.704031  1.286352  1.577121  0.417263\n"
     ]
    }
   ],
   "source": [
    "X,Y = friedman1Dataset.friedman1_data(n_samples,n_features)"
   ]
  },
  {
   "cell_type": "code",
   "execution_count": 7,
   "id": "fe007438",
   "metadata": {
    "execution": {
     "iopub.execute_input": "2022-06-07T07:13:52.183595Z",
     "iopub.status.busy": "2022-06-07T07:13:52.183191Z",
     "iopub.status.idle": "2022-06-07T07:13:52.184921Z",
     "shell.execute_reply": "2022-06-07T07:13:52.185236Z"
    },
    "id": "fe007438",
    "papermill": {
     "duration": 0.012141,
     "end_time": "2022-06-07T07:13:52.185391",
     "exception": false,
     "start_time": "2022-06-07T07:13:52.173250",
     "status": "completed"
    },
    "tags": []
   },
   "outputs": [],
   "source": [
    "#Train test split for dataset \n",
    "X_train,X_test,Y_train,Y_test = train_test_split(X,Y,test_size = 0.2)\n",
    "train_data = dataset.CustomDataset(X_train,Y_train)\n",
    "test_data = dataset.CustomDataset(X_test,Y_test)\n"
   ]
  },
  {
   "cell_type": "markdown",
   "id": "a9a1af34",
   "metadata": {
    "id": "a9a1af34",
    "papermill": {
     "duration": 0.007653,
     "end_time": "2022-06-07T07:13:52.200507",
     "exception": false,
     "start_time": "2022-06-07T07:13:52.192854",
     "status": "completed"
    },
    "tags": []
   },
   "source": [
    "## Training Parameters "
   ]
  },
  {
   "cell_type": "code",
   "execution_count": 8,
   "id": "952b7fc8",
   "metadata": {
    "execution": {
     "iopub.execute_input": "2022-06-07T07:13:52.218127Z",
     "iopub.status.busy": "2022-06-07T07:13:52.217727Z",
     "iopub.status.idle": "2022-06-07T07:13:52.219042Z",
     "shell.execute_reply": "2022-06-07T07:13:52.219273Z"
    },
    "id": "952b7fc8",
    "papermill": {
     "duration": 0.011568,
     "end_time": "2022-06-07T07:13:52.219393",
     "exception": false,
     "start_time": "2022-06-07T07:13:52.207825",
     "status": "completed"
    },
    "tags": []
   },
   "outputs": [],
   "source": [
    "batch_size = 32\n",
    "n_epochs = 1000\n",
    "#Select the device \n",
    "device = torch.device('cuda' if torch.cuda.is_available() else 'cpu')"
   ]
  },
  {
   "cell_type": "markdown",
   "id": "a95e1600",
   "metadata": {
    "id": "a95e1600",
    "papermill": {
     "duration": 0.007874,
     "end_time": "2022-06-07T07:13:52.234631",
     "exception": false,
     "start_time": "2022-06-07T07:13:52.226757",
     "status": "completed"
    },
    "tags": []
   },
   "source": [
    "# ABC Pre-generator Model \n",
    "\n",
    "1. The catboost model is used as a pre-generator model for the ABC-GAN. \n",
    "2. The model is first trained on the entire dataset \n",
    "3. It generats X,Y pairs and we add some Gaussian noise with mean 0 and variance 1 to it which is then feed as input to the generator.\n"
   ]
  },
  {
   "cell_type": "code",
   "execution_count": 9,
   "id": "ff8ce7bd",
   "metadata": {
    "execution": {
     "iopub.execute_input": "2022-06-07T07:13:52.254248Z",
     "iopub.status.busy": "2022-06-07T07:13:52.253831Z",
     "iopub.status.idle": "2022-06-07T07:13:52.902801Z",
     "shell.execute_reply": "2022-06-07T07:13:52.903130Z"
    },
    "id": "ff8ce7bd",
    "papermill": {
     "duration": 0.661006,
     "end_time": "2022-06-07T07:13:52.903254",
     "exception": false,
     "start_time": "2022-06-07T07:13:52.242248",
     "status": "completed"
    },
    "tags": []
   },
   "outputs": [
    {
     "name": "stdout",
     "output_type": "stream",
     "text": [
      "Learning rate set to 0.024897\n",
      "0:\tlearn: 0.9896580\ttotal: 56.8ms\tremaining: 56.8s\n",
      "1:\tlearn: 0.9816217\ttotal: 57.5ms\tremaining: 28.7s\n",
      "2:\tlearn: 0.9728647\ttotal: 58.1ms\tremaining: 19.3s\n",
      "3:\tlearn: 0.9624844\ttotal: 58.6ms\tremaining: 14.6s\n",
      "4:\tlearn: 0.9548034\ttotal: 59.2ms\tremaining: 11.8s\n",
      "5:\tlearn: 0.9468802\ttotal: 59.8ms\tremaining: 9.9s\n",
      "6:\tlearn: 0.9367338\ttotal: 60.2ms\tremaining: 8.55s\n",
      "7:\tlearn: 0.9306024\ttotal: 60.9ms\tremaining: 7.55s\n",
      "8:\tlearn: 0.9225159\ttotal: 61.4ms\tremaining: 6.76s\n",
      "9:\tlearn: 0.9145305\ttotal: 61.9ms\tremaining: 6.13s\n",
      "10:\tlearn: 0.9050646\ttotal: 62.4ms\tremaining: 5.61s\n",
      "11:\tlearn: 0.8960954\ttotal: 62.9ms\tremaining: 5.18s\n",
      "12:\tlearn: 0.8881114\ttotal: 63.4ms\tremaining: 4.81s\n",
      "13:\tlearn: 0.8803510\ttotal: 64ms\tremaining: 4.5s\n",
      "14:\tlearn: 0.8734904\ttotal: 64.5ms\tremaining: 4.23s\n",
      "15:\tlearn: 0.8651539\ttotal: 65ms\tremaining: 4s\n",
      "16:\tlearn: 0.8577099\ttotal: 65.5ms\tremaining: 3.79s\n",
      "17:\tlearn: 0.8505250\ttotal: 66ms\tremaining: 3.6s\n",
      "18:\tlearn: 0.8433858\ttotal: 66.5ms\tremaining: 3.43s\n",
      "19:\tlearn: 0.8365526\ttotal: 66.9ms\tremaining: 3.28s\n",
      "20:\tlearn: 0.8305476\ttotal: 67.4ms\tremaining: 3.14s\n",
      "21:\tlearn: 0.8226382\ttotal: 67.8ms\tremaining: 3.02s\n",
      "22:\tlearn: 0.8158580\ttotal: 68.4ms\tremaining: 2.9s\n",
      "23:\tlearn: 0.8087182\ttotal: 68.7ms\tremaining: 2.79s\n",
      "24:\tlearn: 0.8010045\ttotal: 69.1ms\tremaining: 2.69s\n",
      "25:\tlearn: 0.7942325\ttotal: 69.6ms\tremaining: 2.61s\n",
      "26:\tlearn: 0.7874800\ttotal: 70ms\tremaining: 2.52s\n",
      "27:\tlearn: 0.7803963\ttotal: 70.4ms\tremaining: 2.44s\n",
      "28:\tlearn: 0.7739119\ttotal: 70.8ms\tremaining: 2.37s\n",
      "29:\tlearn: 0.7683969\ttotal: 71.2ms\tremaining: 2.3s\n",
      "30:\tlearn: 0.7615371\ttotal: 71.7ms\tremaining: 2.24s\n",
      "31:\tlearn: 0.7548642\ttotal: 72.3ms\tremaining: 2.19s\n",
      "32:\tlearn: 0.7477460\ttotal: 74.5ms\tremaining: 2.18s\n",
      "33:\tlearn: 0.7407319\ttotal: 75.6ms\tremaining: 2.15s\n",
      "34:\tlearn: 0.7353743\ttotal: 76.2ms\tremaining: 2.1s\n",
      "35:\tlearn: 0.7291630\ttotal: 76.8ms\tremaining: 2.06s\n",
      "36:\tlearn: 0.7222777\ttotal: 77.4ms\tremaining: 2.01s\n",
      "37:\tlearn: 0.7165225\ttotal: 77.7ms\tremaining: 1.97s\n",
      "38:\tlearn: 0.7110341\ttotal: 78.1ms\tremaining: 1.93s\n",
      "39:\tlearn: 0.7043999\ttotal: 78.6ms\tremaining: 1.89s\n",
      "40:\tlearn: 0.6988213\ttotal: 79.2ms\tremaining: 1.85s\n",
      "41:\tlearn: 0.6924634\ttotal: 79.6ms\tremaining: 1.81s\n",
      "42:\tlearn: 0.6862668\ttotal: 80.1ms\tremaining: 1.78s\n",
      "43:\tlearn: 0.6805244\ttotal: 80.5ms\tremaining: 1.75s\n",
      "44:\tlearn: 0.6736686\ttotal: 81.2ms\tremaining: 1.72s\n",
      "45:\tlearn: 0.6688927\ttotal: 81.6ms\tremaining: 1.69s\n",
      "46:\tlearn: 0.6635268\ttotal: 82.1ms\tremaining: 1.66s\n",
      "47:\tlearn: 0.6578452\ttotal: 83.1ms\tremaining: 1.65s\n",
      "48:\tlearn: 0.6529772\ttotal: 83.6ms\tremaining: 1.62s\n",
      "49:\tlearn: 0.6469979\ttotal: 84ms\tremaining: 1.59s\n",
      "50:\tlearn: 0.6410633\ttotal: 84.3ms\tremaining: 1.57s\n",
      "51:\tlearn: 0.6354523\ttotal: 84.8ms\tremaining: 1.54s\n",
      "52:\tlearn: 0.6299374\ttotal: 85.2ms\tremaining: 1.52s\n",
      "53:\tlearn: 0.6243076\ttotal: 85.7ms\tremaining: 1.5s\n",
      "54:\tlearn: 0.6207327\ttotal: 86.2ms\tremaining: 1.48s\n",
      "55:\tlearn: 0.6155303\ttotal: 86.7ms\tremaining: 1.46s\n",
      "56:\tlearn: 0.6102960\ttotal: 87.1ms\tremaining: 1.44s\n",
      "57:\tlearn: 0.6049477\ttotal: 87.4ms\tremaining: 1.42s\n",
      "58:\tlearn: 0.5996358\ttotal: 87.8ms\tremaining: 1.4s\n",
      "59:\tlearn: 0.5948050\ttotal: 88.4ms\tremaining: 1.38s\n",
      "60:\tlearn: 0.5904940\ttotal: 88.9ms\tremaining: 1.37s\n",
      "61:\tlearn: 0.5854069\ttotal: 89.4ms\tremaining: 1.35s\n",
      "62:\tlearn: 0.5796339\ttotal: 89.9ms\tremaining: 1.34s\n",
      "63:\tlearn: 0.5744812\ttotal: 90.4ms\tremaining: 1.32s\n",
      "64:\tlearn: 0.5691534\ttotal: 91ms\tremaining: 1.31s\n",
      "65:\tlearn: 0.5642326\ttotal: 91.5ms\tremaining: 1.29s\n",
      "66:\tlearn: 0.5588345\ttotal: 92ms\tremaining: 1.28s\n",
      "67:\tlearn: 0.5547376\ttotal: 92.5ms\tremaining: 1.27s\n",
      "68:\tlearn: 0.5506956\ttotal: 93ms\tremaining: 1.25s\n",
      "69:\tlearn: 0.5459973\ttotal: 93.5ms\tremaining: 1.24s\n",
      "70:\tlearn: 0.5410755\ttotal: 94ms\tremaining: 1.23s\n",
      "71:\tlearn: 0.5363423\ttotal: 94.4ms\tremaining: 1.22s\n",
      "72:\tlearn: 0.5322262\ttotal: 94.8ms\tremaining: 1.2s\n",
      "73:\tlearn: 0.5274226\ttotal: 95.2ms\tremaining: 1.19s\n",
      "74:\tlearn: 0.5235915\ttotal: 95.7ms\tremaining: 1.18s\n",
      "75:\tlearn: 0.5194912\ttotal: 96.2ms\tremaining: 1.17s\n",
      "76:\tlearn: 0.5148991\ttotal: 96.7ms\tremaining: 1.16s\n",
      "77:\tlearn: 0.5111905\ttotal: 97.1ms\tremaining: 1.15s\n",
      "78:\tlearn: 0.5082758\ttotal: 97.6ms\tremaining: 1.14s\n",
      "79:\tlearn: 0.5039168\ttotal: 98ms\tremaining: 1.13s\n",
      "80:\tlearn: 0.4987208\ttotal: 98.4ms\tremaining: 1.12s\n",
      "81:\tlearn: 0.4943048\ttotal: 99ms\tremaining: 1.11s\n",
      "82:\tlearn: 0.4897072\ttotal: 99.4ms\tremaining: 1.1s\n",
      "83:\tlearn: 0.4860536\ttotal: 99.8ms\tremaining: 1.09s\n",
      "84:\tlearn: 0.4823016\ttotal: 100ms\tremaining: 1.08s\n",
      "85:\tlearn: 0.4790620\ttotal: 101ms\tremaining: 1.07s\n",
      "86:\tlearn: 0.4747592\ttotal: 101ms\tremaining: 1.06s\n"
     ]
    },
    {
     "name": "stdout",
     "output_type": "stream",
     "text": [
      "87:\tlearn: 0.4708898\ttotal: 102ms\tremaining: 1.06s\n",
      "88:\tlearn: 0.4671067\ttotal: 103ms\tremaining: 1.05s\n",
      "89:\tlearn: 0.4639293\ttotal: 103ms\tremaining: 1.04s\n",
      "90:\tlearn: 0.4608809\ttotal: 103ms\tremaining: 1.03s\n",
      "91:\tlearn: 0.4561181\ttotal: 105ms\tremaining: 1.03s\n",
      "92:\tlearn: 0.4529107\ttotal: 105ms\tremaining: 1.02s\n",
      "93:\tlearn: 0.4487648\ttotal: 106ms\tremaining: 1.02s\n",
      "94:\tlearn: 0.4452549\ttotal: 106ms\tremaining: 1.01s\n",
      "95:\tlearn: 0.4418724\ttotal: 107ms\tremaining: 1s\n",
      "96:\tlearn: 0.4404607\ttotal: 107ms\tremaining: 995ms\n",
      "97:\tlearn: 0.4372365\ttotal: 107ms\tremaining: 987ms\n",
      "98:\tlearn: 0.4333166\ttotal: 108ms\tremaining: 981ms\n",
      "99:\tlearn: 0.4292079\ttotal: 108ms\tremaining: 975ms\n",
      "100:\tlearn: 0.4266461\ttotal: 109ms\tremaining: 969ms\n",
      "101:\tlearn: 0.4234830\ttotal: 109ms\tremaining: 962ms\n",
      "102:\tlearn: 0.4200859\ttotal: 110ms\tremaining: 957ms\n",
      "103:\tlearn: 0.4166285\ttotal: 110ms\tremaining: 951ms\n",
      "104:\tlearn: 0.4134803\ttotal: 111ms\tremaining: 945ms\n",
      "105:\tlearn: 0.4108028\ttotal: 111ms\tremaining: 938ms\n",
      "106:\tlearn: 0.4075775\ttotal: 112ms\tremaining: 932ms\n",
      "107:\tlearn: 0.4042527\ttotal: 112ms\tremaining: 927ms\n",
      "108:\tlearn: 0.4006526\ttotal: 113ms\tremaining: 921ms\n",
      "109:\tlearn: 0.3965848\ttotal: 113ms\tremaining: 916ms\n",
      "110:\tlearn: 0.3934223\ttotal: 114ms\tremaining: 910ms\n",
      "111:\tlearn: 0.3905444\ttotal: 114ms\tremaining: 903ms\n",
      "112:\tlearn: 0.3867397\ttotal: 114ms\tremaining: 898ms\n",
      "113:\tlearn: 0.3838116\ttotal: 115ms\tremaining: 893ms\n",
      "114:\tlearn: 0.3814807\ttotal: 115ms\tremaining: 886ms\n",
      "115:\tlearn: 0.3784224\ttotal: 116ms\tremaining: 880ms\n",
      "116:\tlearn: 0.3755107\ttotal: 116ms\tremaining: 876ms\n",
      "117:\tlearn: 0.3726603\ttotal: 117ms\tremaining: 872ms\n",
      "118:\tlearn: 0.3700053\ttotal: 117ms\tremaining: 868ms\n",
      "119:\tlearn: 0.3662283\ttotal: 118ms\tremaining: 868ms\n",
      "120:\tlearn: 0.3634409\ttotal: 119ms\tremaining: 864ms\n",
      "121:\tlearn: 0.3610138\ttotal: 119ms\tremaining: 860ms\n",
      "122:\tlearn: 0.3580501\ttotal: 120ms\tremaining: 855ms\n",
      "123:\tlearn: 0.3548059\ttotal: 121ms\tremaining: 851ms\n",
      "124:\tlearn: 0.3523016\ttotal: 121ms\tremaining: 847ms\n",
      "125:\tlearn: 0.3499305\ttotal: 122ms\tremaining: 843ms\n",
      "126:\tlearn: 0.3471055\ttotal: 122ms\tremaining: 839ms\n",
      "127:\tlearn: 0.3451094\ttotal: 122ms\tremaining: 834ms\n",
      "128:\tlearn: 0.3417190\ttotal: 123ms\tremaining: 829ms\n",
      "129:\tlearn: 0.3391324\ttotal: 123ms\tremaining: 825ms\n",
      "130:\tlearn: 0.3362631\ttotal: 124ms\tremaining: 820ms\n",
      "131:\tlearn: 0.3338752\ttotal: 124ms\tremaining: 816ms\n",
      "132:\tlearn: 0.3306133\ttotal: 125ms\tremaining: 812ms\n",
      "133:\tlearn: 0.3280270\ttotal: 125ms\tremaining: 808ms\n",
      "134:\tlearn: 0.3254026\ttotal: 125ms\tremaining: 803ms\n",
      "135:\tlearn: 0.3234041\ttotal: 126ms\tremaining: 799ms\n",
      "136:\tlearn: 0.3208676\ttotal: 126ms\tremaining: 795ms\n",
      "137:\tlearn: 0.3181461\ttotal: 127ms\tremaining: 792ms\n",
      "138:\tlearn: 0.3160539\ttotal: 127ms\tremaining: 788ms\n",
      "139:\tlearn: 0.3138842\ttotal: 128ms\tremaining: 784ms\n",
      "140:\tlearn: 0.3114982\ttotal: 128ms\tremaining: 782ms\n",
      "141:\tlearn: 0.3090515\ttotal: 129ms\tremaining: 778ms\n",
      "142:\tlearn: 0.3061881\ttotal: 129ms\tremaining: 775ms\n",
      "143:\tlearn: 0.3032438\ttotal: 130ms\tremaining: 772ms\n",
      "144:\tlearn: 0.3010729\ttotal: 131ms\tremaining: 770ms\n",
      "145:\tlearn: 0.2986489\ttotal: 131ms\tremaining: 766ms\n",
      "146:\tlearn: 0.2968132\ttotal: 132ms\tremaining: 763ms\n",
      "147:\tlearn: 0.2941811\ttotal: 132ms\tremaining: 761ms\n",
      "148:\tlearn: 0.2920831\ttotal: 133ms\tremaining: 757ms\n",
      "149:\tlearn: 0.2898904\ttotal: 133ms\tremaining: 754ms\n",
      "150:\tlearn: 0.2874738\ttotal: 134ms\tremaining: 751ms\n",
      "151:\tlearn: 0.2853014\ttotal: 134ms\tremaining: 749ms\n",
      "152:\tlearn: 0.2830614\ttotal: 136ms\tremaining: 751ms\n",
      "153:\tlearn: 0.2810007\ttotal: 136ms\tremaining: 747ms\n",
      "154:\tlearn: 0.2786378\ttotal: 136ms\tremaining: 744ms\n",
      "155:\tlearn: 0.2766736\ttotal: 137ms\tremaining: 741ms\n",
      "156:\tlearn: 0.2743842\ttotal: 137ms\tremaining: 738ms\n",
      "157:\tlearn: 0.2721598\ttotal: 138ms\tremaining: 735ms\n",
      "158:\tlearn: 0.2701040\ttotal: 138ms\tremaining: 732ms\n",
      "159:\tlearn: 0.2677164\ttotal: 139ms\tremaining: 728ms\n",
      "160:\tlearn: 0.2658254\ttotal: 139ms\tremaining: 725ms\n",
      "161:\tlearn: 0.2636055\ttotal: 140ms\tremaining: 723ms\n",
      "162:\tlearn: 0.2618326\ttotal: 140ms\tremaining: 720ms\n",
      "163:\tlearn: 0.2597750\ttotal: 141ms\tremaining: 717ms\n",
      "164:\tlearn: 0.2581780\ttotal: 141ms\tremaining: 714ms\n",
      "165:\tlearn: 0.2565484\ttotal: 142ms\tremaining: 712ms\n",
      "166:\tlearn: 0.2546763\ttotal: 142ms\tremaining: 709ms\n",
      "167:\tlearn: 0.2530990\ttotal: 143ms\tremaining: 707ms\n",
      "168:\tlearn: 0.2512265\ttotal: 143ms\tremaining: 704ms\n",
      "169:\tlearn: 0.2493527\ttotal: 144ms\tremaining: 701ms\n",
      "170:\tlearn: 0.2476232\ttotal: 144ms\tremaining: 699ms\n",
      "171:\tlearn: 0.2460860\ttotal: 145ms\tremaining: 697ms\n",
      "172:\tlearn: 0.2440328\ttotal: 145ms\tremaining: 694ms\n",
      "173:\tlearn: 0.2421730\ttotal: 146ms\tremaining: 691ms\n",
      "174:\tlearn: 0.2404015\ttotal: 146ms\tremaining: 688ms\n",
      "175:\tlearn: 0.2384620\ttotal: 146ms\tremaining: 686ms\n",
      "176:\tlearn: 0.2365951\ttotal: 147ms\tremaining: 683ms\n",
      "177:\tlearn: 0.2348205\ttotal: 147ms\tremaining: 680ms\n",
      "178:\tlearn: 0.2332061\ttotal: 148ms\tremaining: 678ms\n",
      "179:\tlearn: 0.2312848\ttotal: 148ms\tremaining: 675ms\n",
      "180:\tlearn: 0.2295614\ttotal: 149ms\tremaining: 673ms\n",
      "181:\tlearn: 0.2279662\ttotal: 149ms\tremaining: 671ms\n",
      "182:\tlearn: 0.2262771\ttotal: 150ms\tremaining: 670ms\n",
      "183:\tlearn: 0.2249246\ttotal: 151ms\tremaining: 668ms\n",
      "184:\tlearn: 0.2233071\ttotal: 151ms\tremaining: 666ms\n",
      "185:\tlearn: 0.2216286\ttotal: 152ms\tremaining: 663ms\n",
      "186:\tlearn: 0.2201326\ttotal: 152ms\tremaining: 661ms\n",
      "187:\tlearn: 0.2185586\ttotal: 153ms\tremaining: 659ms\n",
      "188:\tlearn: 0.2171853\ttotal: 153ms\tremaining: 657ms\n",
      "189:\tlearn: 0.2153951\ttotal: 154ms\tremaining: 655ms\n",
      "190:\tlearn: 0.2135742\ttotal: 154ms\tremaining: 652ms\n",
      "191:\tlearn: 0.2119636\ttotal: 155ms\tremaining: 651ms\n",
      "192:\tlearn: 0.2106446\ttotal: 155ms\tremaining: 648ms\n",
      "193:\tlearn: 0.2089090\ttotal: 155ms\tremaining: 646ms\n",
      "194:\tlearn: 0.2070647\ttotal: 156ms\tremaining: 644ms\n",
      "195:\tlearn: 0.2054086\ttotal: 156ms\tremaining: 642ms\n",
      "196:\tlearn: 0.2038900\ttotal: 157ms\tremaining: 639ms\n",
      "197:\tlearn: 0.2024314\ttotal: 157ms\tremaining: 637ms\n",
      "198:\tlearn: 0.2010422\ttotal: 158ms\tremaining: 635ms\n",
      "199:\tlearn: 0.1993078\ttotal: 158ms\tremaining: 633ms\n",
      "200:\tlearn: 0.1979083\ttotal: 159ms\tremaining: 631ms\n",
      "201:\tlearn: 0.1968562\ttotal: 159ms\tremaining: 628ms\n",
      "202:\tlearn: 0.1953472\ttotal: 159ms\tremaining: 626ms\n",
      "203:\tlearn: 0.1937643\ttotal: 160ms\tremaining: 624ms\n",
      "204:\tlearn: 0.1924425\ttotal: 160ms\tremaining: 621ms\n",
      "205:\tlearn: 0.1909346\ttotal: 161ms\tremaining: 619ms\n",
      "206:\tlearn: 0.1895262\ttotal: 161ms\tremaining: 617ms\n",
      "207:\tlearn: 0.1881649\ttotal: 162ms\tremaining: 615ms\n",
      "208:\tlearn: 0.1871668\ttotal: 162ms\tremaining: 613ms\n",
      "209:\tlearn: 0.1856451\ttotal: 163ms\tremaining: 612ms\n",
      "210:\tlearn: 0.1846072\ttotal: 164ms\tremaining: 614ms\n",
      "211:\tlearn: 0.1831327\ttotal: 165ms\tremaining: 612ms\n",
      "212:\tlearn: 0.1816407\ttotal: 165ms\tremaining: 610ms\n",
      "213:\tlearn: 0.1809840\ttotal: 166ms\tremaining: 609ms\n",
      "214:\tlearn: 0.1797160\ttotal: 167ms\tremaining: 608ms\n",
      "215:\tlearn: 0.1784088\ttotal: 167ms\tremaining: 606ms\n",
      "216:\tlearn: 0.1771337\ttotal: 168ms\tremaining: 604ms\n",
      "217:\tlearn: 0.1761681\ttotal: 168ms\tremaining: 602ms\n",
      "218:\tlearn: 0.1747904\ttotal: 168ms\tremaining: 600ms\n",
      "219:\tlearn: 0.1734869\ttotal: 169ms\tremaining: 599ms\n",
      "220:\tlearn: 0.1721854\ttotal: 169ms\tremaining: 597ms\n",
      "221:\tlearn: 0.1708892\ttotal: 170ms\tremaining: 595ms\n",
      "222:\tlearn: 0.1696882\ttotal: 170ms\tremaining: 593ms\n",
      "223:\tlearn: 0.1683516\ttotal: 172ms\tremaining: 596ms\n",
      "224:\tlearn: 0.1672788\ttotal: 172ms\tremaining: 594ms\n",
      "225:\tlearn: 0.1659169\ttotal: 173ms\tremaining: 592ms\n",
      "226:\tlearn: 0.1646657\ttotal: 173ms\tremaining: 590ms\n",
      "227:\tlearn: 0.1635713\ttotal: 174ms\tremaining: 588ms\n",
      "228:\tlearn: 0.1627298\ttotal: 174ms\tremaining: 586ms\n",
      "229:\tlearn: 0.1614055\ttotal: 174ms\tremaining: 584ms\n",
      "230:\tlearn: 0.1603795\ttotal: 175ms\tremaining: 582ms\n",
      "231:\tlearn: 0.1592499\ttotal: 175ms\tremaining: 581ms\n",
      "232:\tlearn: 0.1580765\ttotal: 176ms\tremaining: 579ms\n",
      "233:\tlearn: 0.1569896\ttotal: 176ms\tremaining: 577ms\n",
      "234:\tlearn: 0.1558878\ttotal: 177ms\tremaining: 575ms\n",
      "235:\tlearn: 0.1545532\ttotal: 177ms\tremaining: 574ms\n",
      "236:\tlearn: 0.1534341\ttotal: 178ms\tremaining: 573ms\n",
      "237:\tlearn: 0.1521921\ttotal: 178ms\tremaining: 571ms\n",
      "238:\tlearn: 0.1511704\ttotal: 179ms\tremaining: 570ms\n",
      "239:\tlearn: 0.1500824\ttotal: 180ms\tremaining: 568ms\n",
      "240:\tlearn: 0.1489925\ttotal: 180ms\tremaining: 567ms\n",
      "241:\tlearn: 0.1477252\ttotal: 181ms\tremaining: 566ms\n",
      "242:\tlearn: 0.1465962\ttotal: 181ms\tremaining: 565ms\n",
      "243:\tlearn: 0.1455909\ttotal: 182ms\tremaining: 563ms\n",
      "244:\tlearn: 0.1443579\ttotal: 182ms\tremaining: 561ms\n",
      "245:\tlearn: 0.1432820\ttotal: 183ms\tremaining: 560ms\n",
      "246:\tlearn: 0.1420522\ttotal: 183ms\tremaining: 558ms\n",
      "247:\tlearn: 0.1410658\ttotal: 183ms\tremaining: 556ms\n",
      "248:\tlearn: 0.1399777\ttotal: 184ms\tremaining: 554ms\n"
     ]
    },
    {
     "name": "stdout",
     "output_type": "stream",
     "text": [
      "249:\tlearn: 0.1390037\ttotal: 185ms\tremaining: 554ms\n",
      "250:\tlearn: 0.1380662\ttotal: 185ms\tremaining: 553ms\n",
      "251:\tlearn: 0.1369221\ttotal: 186ms\tremaining: 551ms\n",
      "252:\tlearn: 0.1360147\ttotal: 186ms\tremaining: 550ms\n",
      "253:\tlearn: 0.1351791\ttotal: 187ms\tremaining: 548ms\n",
      "254:\tlearn: 0.1342280\ttotal: 187ms\tremaining: 547ms\n",
      "255:\tlearn: 0.1332485\ttotal: 188ms\tremaining: 545ms\n",
      "256:\tlearn: 0.1321459\ttotal: 188ms\tremaining: 544ms\n",
      "257:\tlearn: 0.1313712\ttotal: 189ms\tremaining: 542ms\n",
      "258:\tlearn: 0.1305926\ttotal: 189ms\tremaining: 541ms\n",
      "259:\tlearn: 0.1296012\ttotal: 189ms\tremaining: 539ms\n",
      "260:\tlearn: 0.1287371\ttotal: 190ms\tremaining: 537ms\n",
      "261:\tlearn: 0.1276981\ttotal: 190ms\tremaining: 536ms\n",
      "262:\tlearn: 0.1268050\ttotal: 191ms\tremaining: 534ms\n",
      "263:\tlearn: 0.1260396\ttotal: 191ms\tremaining: 533ms\n",
      "264:\tlearn: 0.1253129\ttotal: 192ms\tremaining: 531ms\n",
      "265:\tlearn: 0.1242759\ttotal: 192ms\tremaining: 529ms\n",
      "266:\tlearn: 0.1233913\ttotal: 192ms\tremaining: 528ms\n",
      "267:\tlearn: 0.1223357\ttotal: 193ms\tremaining: 526ms\n",
      "268:\tlearn: 0.1215517\ttotal: 195ms\tremaining: 530ms\n",
      "269:\tlearn: 0.1208781\ttotal: 196ms\tremaining: 529ms\n",
      "270:\tlearn: 0.1201254\ttotal: 196ms\tremaining: 528ms\n",
      "271:\tlearn: 0.1191271\ttotal: 197ms\tremaining: 527ms\n",
      "272:\tlearn: 0.1182581\ttotal: 198ms\tremaining: 526ms\n",
      "273:\tlearn: 0.1174629\ttotal: 198ms\tremaining: 525ms\n",
      "274:\tlearn: 0.1166968\ttotal: 199ms\tremaining: 524ms\n",
      "275:\tlearn: 0.1159653\ttotal: 199ms\tremaining: 522ms\n",
      "276:\tlearn: 0.1149850\ttotal: 200ms\tremaining: 521ms\n",
      "277:\tlearn: 0.1140611\ttotal: 200ms\tremaining: 520ms\n",
      "278:\tlearn: 0.1132294\ttotal: 200ms\tremaining: 518ms\n",
      "279:\tlearn: 0.1123137\ttotal: 201ms\tremaining: 517ms\n",
      "280:\tlearn: 0.1116025\ttotal: 201ms\tremaining: 515ms\n",
      "281:\tlearn: 0.1108121\ttotal: 202ms\tremaining: 514ms\n",
      "282:\tlearn: 0.1099183\ttotal: 203ms\tremaining: 513ms\n",
      "283:\tlearn: 0.1091240\ttotal: 203ms\tremaining: 512ms\n",
      "284:\tlearn: 0.1082609\ttotal: 203ms\tremaining: 510ms\n",
      "285:\tlearn: 0.1074728\ttotal: 204ms\tremaining: 509ms\n",
      "286:\tlearn: 0.1067178\ttotal: 204ms\tremaining: 508ms\n",
      "287:\tlearn: 0.1059331\ttotal: 205ms\tremaining: 506ms\n",
      "288:\tlearn: 0.1052158\ttotal: 205ms\tremaining: 505ms\n",
      "289:\tlearn: 0.1045454\ttotal: 206ms\tremaining: 504ms\n",
      "290:\tlearn: 0.1036771\ttotal: 206ms\tremaining: 503ms\n",
      "291:\tlearn: 0.1028098\ttotal: 207ms\tremaining: 501ms\n",
      "292:\tlearn: 0.1019637\ttotal: 207ms\tremaining: 500ms\n",
      "293:\tlearn: 0.1012449\ttotal: 208ms\tremaining: 499ms\n",
      "294:\tlearn: 0.1005297\ttotal: 208ms\tremaining: 497ms\n",
      "295:\tlearn: 0.0998820\ttotal: 209ms\tremaining: 497ms\n",
      "296:\tlearn: 0.0992487\ttotal: 209ms\tremaining: 495ms\n",
      "297:\tlearn: 0.0985303\ttotal: 210ms\tremaining: 494ms\n",
      "298:\tlearn: 0.0978499\ttotal: 210ms\tremaining: 493ms\n",
      "299:\tlearn: 0.0971857\ttotal: 211ms\tremaining: 492ms\n",
      "300:\tlearn: 0.0965451\ttotal: 211ms\tremaining: 491ms\n",
      "301:\tlearn: 0.0959166\ttotal: 212ms\tremaining: 490ms\n",
      "302:\tlearn: 0.0952819\ttotal: 213ms\tremaining: 489ms\n",
      "303:\tlearn: 0.0945287\ttotal: 213ms\tremaining: 488ms\n",
      "304:\tlearn: 0.0936955\ttotal: 213ms\tremaining: 486ms\n",
      "305:\tlearn: 0.0930368\ttotal: 214ms\tremaining: 485ms\n",
      "306:\tlearn: 0.0925310\ttotal: 214ms\tremaining: 484ms\n",
      "307:\tlearn: 0.0919008\ttotal: 215ms\tremaining: 482ms\n",
      "308:\tlearn: 0.0911964\ttotal: 215ms\tremaining: 481ms\n",
      "309:\tlearn: 0.0908001\ttotal: 216ms\tremaining: 480ms\n",
      "310:\tlearn: 0.0903250\ttotal: 216ms\tremaining: 479ms\n",
      "311:\tlearn: 0.0898279\ttotal: 217ms\tremaining: 478ms\n",
      "312:\tlearn: 0.0893019\ttotal: 217ms\tremaining: 477ms\n",
      "313:\tlearn: 0.0886334\ttotal: 218ms\tremaining: 476ms\n",
      "314:\tlearn: 0.0881373\ttotal: 218ms\tremaining: 475ms\n",
      "315:\tlearn: 0.0875119\ttotal: 219ms\tremaining: 473ms\n",
      "316:\tlearn: 0.0869115\ttotal: 219ms\tremaining: 472ms\n",
      "317:\tlearn: 0.0862642\ttotal: 220ms\tremaining: 471ms\n",
      "318:\tlearn: 0.0857574\ttotal: 220ms\tremaining: 470ms\n",
      "319:\tlearn: 0.0851761\ttotal: 221ms\tremaining: 469ms\n",
      "320:\tlearn: 0.0844453\ttotal: 221ms\tremaining: 468ms\n",
      "321:\tlearn: 0.0840359\ttotal: 221ms\tremaining: 466ms\n",
      "322:\tlearn: 0.0833234\ttotal: 222ms\tremaining: 465ms\n",
      "323:\tlearn: 0.0828493\ttotal: 222ms\tremaining: 464ms\n",
      "324:\tlearn: 0.0824456\ttotal: 223ms\tremaining: 463ms\n",
      "325:\tlearn: 0.0817530\ttotal: 226ms\tremaining: 468ms\n",
      "326:\tlearn: 0.0812038\ttotal: 227ms\tremaining: 467ms\n",
      "327:\tlearn: 0.0807523\ttotal: 228ms\tremaining: 466ms\n",
      "328:\tlearn: 0.0801795\ttotal: 228ms\tremaining: 465ms\n",
      "329:\tlearn: 0.0798007\ttotal: 228ms\tremaining: 464ms\n",
      "330:\tlearn: 0.0792744\ttotal: 229ms\tremaining: 462ms\n",
      "331:\tlearn: 0.0786194\ttotal: 229ms\tremaining: 461ms\n",
      "332:\tlearn: 0.0781089\ttotal: 230ms\tremaining: 461ms\n",
      "333:\tlearn: 0.0777400\ttotal: 231ms\tremaining: 460ms\n",
      "334:\tlearn: 0.0773209\ttotal: 231ms\tremaining: 459ms\n",
      "335:\tlearn: 0.0768225\ttotal: 231ms\tremaining: 457ms\n",
      "336:\tlearn: 0.0763472\ttotal: 233ms\tremaining: 458ms\n",
      "337:\tlearn: 0.0758685\ttotal: 233ms\tremaining: 457ms\n",
      "338:\tlearn: 0.0752991\ttotal: 234ms\tremaining: 456ms\n",
      "339:\tlearn: 0.0748260\ttotal: 234ms\tremaining: 454ms\n",
      "340:\tlearn: 0.0744819\ttotal: 235ms\tremaining: 453ms\n",
      "341:\tlearn: 0.0740232\ttotal: 235ms\tremaining: 452ms\n",
      "342:\tlearn: 0.0736805\ttotal: 235ms\tremaining: 451ms\n",
      "343:\tlearn: 0.0731606\ttotal: 236ms\tremaining: 450ms\n",
      "344:\tlearn: 0.0726480\ttotal: 236ms\tremaining: 449ms\n",
      "345:\tlearn: 0.0722038\ttotal: 237ms\tremaining: 448ms\n",
      "346:\tlearn: 0.0717499\ttotal: 237ms\tremaining: 446ms\n",
      "347:\tlearn: 0.0713148\ttotal: 238ms\tremaining: 445ms\n",
      "348:\tlearn: 0.0709938\ttotal: 238ms\tremaining: 444ms\n",
      "349:\tlearn: 0.0705396\ttotal: 239ms\tremaining: 443ms\n",
      "350:\tlearn: 0.0700557\ttotal: 239ms\tremaining: 443ms\n",
      "351:\tlearn: 0.0696203\ttotal: 240ms\tremaining: 442ms\n",
      "352:\tlearn: 0.0693053\ttotal: 241ms\tremaining: 441ms\n",
      "353:\tlearn: 0.0688361\ttotal: 241ms\tremaining: 440ms\n",
      "354:\tlearn: 0.0683742\ttotal: 242ms\tremaining: 439ms\n",
      "355:\tlearn: 0.0678931\ttotal: 242ms\tremaining: 438ms\n",
      "356:\tlearn: 0.0674325\ttotal: 243ms\tremaining: 437ms\n",
      "357:\tlearn: 0.0669907\ttotal: 243ms\tremaining: 436ms\n",
      "358:\tlearn: 0.0665156\ttotal: 243ms\tremaining: 435ms\n",
      "359:\tlearn: 0.0661584\ttotal: 244ms\tremaining: 434ms\n",
      "360:\tlearn: 0.0657254\ttotal: 244ms\tremaining: 433ms\n",
      "361:\tlearn: 0.0652999\ttotal: 245ms\tremaining: 431ms\n",
      "362:\tlearn: 0.0649074\ttotal: 245ms\tremaining: 430ms\n",
      "363:\tlearn: 0.0645195\ttotal: 246ms\tremaining: 429ms\n",
      "364:\tlearn: 0.0641407\ttotal: 246ms\tremaining: 428ms\n",
      "365:\tlearn: 0.0636280\ttotal: 247ms\tremaining: 427ms\n",
      "366:\tlearn: 0.0632323\ttotal: 247ms\tremaining: 426ms\n",
      "367:\tlearn: 0.0628586\ttotal: 248ms\tremaining: 426ms\n",
      "368:\tlearn: 0.0624574\ttotal: 248ms\tremaining: 425ms\n",
      "369:\tlearn: 0.0620649\ttotal: 249ms\tremaining: 424ms\n",
      "370:\tlearn: 0.0616512\ttotal: 249ms\tremaining: 423ms\n",
      "371:\tlearn: 0.0612609\ttotal: 250ms\tremaining: 422ms\n",
      "372:\tlearn: 0.0608573\ttotal: 250ms\tremaining: 421ms\n",
      "373:\tlearn: 0.0604853\ttotal: 251ms\tremaining: 420ms\n",
      "374:\tlearn: 0.0601043\ttotal: 251ms\tremaining: 419ms\n",
      "375:\tlearn: 0.0597080\ttotal: 252ms\tremaining: 418ms\n",
      "376:\tlearn: 0.0593011\ttotal: 252ms\tremaining: 417ms\n",
      "377:\tlearn: 0.0589186\ttotal: 253ms\tremaining: 416ms\n",
      "378:\tlearn: 0.0585659\ttotal: 253ms\tremaining: 415ms\n",
      "379:\tlearn: 0.0581707\ttotal: 254ms\tremaining: 414ms\n",
      "380:\tlearn: 0.0578259\ttotal: 254ms\tremaining: 413ms\n",
      "381:\tlearn: 0.0574371\ttotal: 255ms\tremaining: 412ms\n",
      "382:\tlearn: 0.0570609\ttotal: 256ms\tremaining: 412ms\n",
      "383:\tlearn: 0.0567209\ttotal: 256ms\tremaining: 411ms\n",
      "384:\tlearn: 0.0563887\ttotal: 257ms\tremaining: 410ms\n",
      "385:\tlearn: 0.0560337\ttotal: 257ms\tremaining: 409ms\n",
      "386:\tlearn: 0.0557146\ttotal: 257ms\tremaining: 408ms\n",
      "387:\tlearn: 0.0553685\ttotal: 258ms\tremaining: 407ms\n",
      "388:\tlearn: 0.0550416\ttotal: 259ms\tremaining: 406ms\n",
      "389:\tlearn: 0.0547310\ttotal: 259ms\tremaining: 405ms\n",
      "390:\tlearn: 0.0543935\ttotal: 259ms\tremaining: 404ms\n",
      "391:\tlearn: 0.0540700\ttotal: 260ms\tremaining: 403ms\n",
      "392:\tlearn: 0.0537767\ttotal: 260ms\tremaining: 402ms\n",
      "393:\tlearn: 0.0534535\ttotal: 260ms\tremaining: 401ms\n",
      "394:\tlearn: 0.0531001\ttotal: 261ms\tremaining: 399ms\n",
      "395:\tlearn: 0.0528515\ttotal: 261ms\tremaining: 398ms\n",
      "396:\tlearn: 0.0526081\ttotal: 261ms\tremaining: 397ms\n",
      "397:\tlearn: 0.0522634\ttotal: 262ms\tremaining: 396ms\n",
      "398:\tlearn: 0.0519462\ttotal: 262ms\tremaining: 394ms\n",
      "399:\tlearn: 0.0516424\ttotal: 262ms\tremaining: 393ms\n",
      "400:\tlearn: 0.0513528\ttotal: 262ms\tremaining: 392ms\n",
      "401:\tlearn: 0.0510233\ttotal: 263ms\tremaining: 391ms\n",
      "402:\tlearn: 0.0507181\ttotal: 263ms\tremaining: 389ms\n",
      "403:\tlearn: 0.0504879\ttotal: 263ms\tremaining: 388ms\n",
      "404:\tlearn: 0.0502430\ttotal: 263ms\tremaining: 387ms\n",
      "405:\tlearn: 0.0499338\ttotal: 264ms\tremaining: 386ms\n",
      "406:\tlearn: 0.0496965\ttotal: 264ms\tremaining: 385ms\n",
      "407:\tlearn: 0.0494112\ttotal: 265ms\tremaining: 384ms\n",
      "408:\tlearn: 0.0491807\ttotal: 265ms\tremaining: 383ms\n",
      "409:\tlearn: 0.0490123\ttotal: 266ms\tremaining: 382ms\n",
      "410:\tlearn: 0.0487059\ttotal: 266ms\tremaining: 381ms\n",
      "411:\tlearn: 0.0485414\ttotal: 267ms\tremaining: 381ms\n",
      "412:\tlearn: 0.0482589\ttotal: 267ms\tremaining: 380ms\n",
      "413:\tlearn: 0.0480413\ttotal: 268ms\tremaining: 379ms\n",
      "414:\tlearn: 0.0477546\ttotal: 268ms\tremaining: 378ms\n",
      "415:\tlearn: 0.0475970\ttotal: 269ms\tremaining: 377ms\n",
      "416:\tlearn: 0.0474423\ttotal: 269ms\tremaining: 377ms\n",
      "417:\tlearn: 0.0471530\ttotal: 270ms\tremaining: 376ms\n",
      "418:\tlearn: 0.0469520\ttotal: 270ms\tremaining: 375ms\n",
      "419:\tlearn: 0.0466837\ttotal: 271ms\tremaining: 374ms\n",
      "420:\tlearn: 0.0464201\ttotal: 272ms\tremaining: 373ms\n",
      "421:\tlearn: 0.0461085\ttotal: 272ms\tremaining: 373ms\n",
      "422:\tlearn: 0.0459140\ttotal: 272ms\tremaining: 372ms\n",
      "423:\tlearn: 0.0456132\ttotal: 273ms\tremaining: 371ms\n",
      "424:\tlearn: 0.0454237\ttotal: 273ms\tremaining: 370ms\n",
      "425:\tlearn: 0.0451677\ttotal: 274ms\tremaining: 369ms\n",
      "426:\tlearn: 0.0449959\ttotal: 274ms\tremaining: 368ms\n",
      "427:\tlearn: 0.0447449\ttotal: 275ms\tremaining: 367ms\n",
      "428:\tlearn: 0.0445727\ttotal: 275ms\tremaining: 367ms\n",
      "429:\tlearn: 0.0443265\ttotal: 276ms\tremaining: 366ms\n",
      "430:\tlearn: 0.0440389\ttotal: 276ms\tremaining: 365ms\n",
      "431:\tlearn: 0.0438678\ttotal: 277ms\tremaining: 364ms\n",
      "432:\tlearn: 0.0436230\ttotal: 277ms\tremaining: 363ms\n",
      "433:\tlearn: 0.0433770\ttotal: 278ms\tremaining: 363ms\n",
      "434:\tlearn: 0.0432190\ttotal: 278ms\tremaining: 362ms\n",
      "435:\tlearn: 0.0429840\ttotal: 279ms\tremaining: 361ms\n",
      "436:\tlearn: 0.0427393\ttotal: 279ms\tremaining: 360ms\n",
      "437:\tlearn: 0.0425819\ttotal: 280ms\tremaining: 359ms\n",
      "438:\tlearn: 0.0423428\ttotal: 281ms\tremaining: 359ms\n",
      "439:\tlearn: 0.0421269\ttotal: 281ms\tremaining: 358ms\n",
      "440:\tlearn: 0.0419462\ttotal: 282ms\tremaining: 357ms\n",
      "441:\tlearn: 0.0417156\ttotal: 282ms\tremaining: 356ms\n",
      "442:\tlearn: 0.0415265\ttotal: 282ms\tremaining: 355ms\n"
     ]
    },
    {
     "name": "stdout",
     "output_type": "stream",
     "text": [
      "443:\tlearn: 0.0413028\ttotal: 285ms\tremaining: 356ms\n",
      "444:\tlearn: 0.0410827\ttotal: 286ms\tremaining: 356ms\n",
      "445:\tlearn: 0.0408777\ttotal: 286ms\tremaining: 355ms\n",
      "446:\tlearn: 0.0407356\ttotal: 287ms\tremaining: 355ms\n",
      "447:\tlearn: 0.0405212\ttotal: 287ms\tremaining: 354ms\n",
      "448:\tlearn: 0.0402921\ttotal: 288ms\tremaining: 353ms\n",
      "449:\tlearn: 0.0401140\ttotal: 289ms\tremaining: 353ms\n",
      "450:\tlearn: 0.0398975\ttotal: 289ms\tremaining: 352ms\n",
      "451:\tlearn: 0.0396858\ttotal: 289ms\tremaining: 351ms\n",
      "452:\tlearn: 0.0395202\ttotal: 290ms\tremaining: 350ms\n",
      "453:\tlearn: 0.0393861\ttotal: 290ms\tremaining: 349ms\n",
      "454:\tlearn: 0.0391945\ttotal: 291ms\tremaining: 348ms\n",
      "455:\tlearn: 0.0389831\ttotal: 291ms\tremaining: 348ms\n",
      "456:\tlearn: 0.0388243\ttotal: 292ms\tremaining: 347ms\n",
      "457:\tlearn: 0.0386956\ttotal: 292ms\tremaining: 346ms\n",
      "458:\tlearn: 0.0384903\ttotal: 293ms\tremaining: 345ms\n",
      "459:\tlearn: 0.0382889\ttotal: 293ms\tremaining: 344ms\n",
      "460:\tlearn: 0.0380873\ttotal: 294ms\tremaining: 343ms\n",
      "461:\tlearn: 0.0378916\ttotal: 294ms\tremaining: 342ms\n",
      "462:\tlearn: 0.0376703\ttotal: 294ms\tremaining: 341ms\n",
      "463:\tlearn: 0.0374585\ttotal: 295ms\tremaining: 341ms\n",
      "464:\tlearn: 0.0372513\ttotal: 295ms\tremaining: 340ms\n",
      "465:\tlearn: 0.0370438\ttotal: 296ms\tremaining: 339ms\n",
      "466:\tlearn: 0.0368408\ttotal: 296ms\tremaining: 338ms\n",
      "467:\tlearn: 0.0366582\ttotal: 297ms\tremaining: 337ms\n",
      "468:\tlearn: 0.0364625\ttotal: 297ms\tremaining: 337ms\n",
      "469:\tlearn: 0.0362903\ttotal: 298ms\tremaining: 336ms\n",
      "470:\tlearn: 0.0361361\ttotal: 298ms\tremaining: 335ms\n",
      "471:\tlearn: 0.0359885\ttotal: 299ms\tremaining: 334ms\n",
      "472:\tlearn: 0.0357859\ttotal: 299ms\tremaining: 333ms\n",
      "473:\tlearn: 0.0356421\ttotal: 300ms\tremaining: 333ms\n",
      "474:\tlearn: 0.0354447\ttotal: 300ms\tremaining: 332ms\n",
      "475:\tlearn: 0.0352285\ttotal: 301ms\tremaining: 331ms\n",
      "476:\tlearn: 0.0350794\ttotal: 301ms\tremaining: 330ms\n",
      "477:\tlearn: 0.0348666\ttotal: 302ms\tremaining: 330ms\n",
      "478:\tlearn: 0.0347235\ttotal: 302ms\tremaining: 329ms\n",
      "479:\tlearn: 0.0345144\ttotal: 303ms\tremaining: 328ms\n",
      "480:\tlearn: 0.0343081\ttotal: 303ms\tremaining: 327ms\n",
      "481:\tlearn: 0.0341397\ttotal: 304ms\tremaining: 327ms\n",
      "482:\tlearn: 0.0339373\ttotal: 304ms\tremaining: 326ms\n",
      "483:\tlearn: 0.0337377\ttotal: 305ms\tremaining: 325ms\n",
      "484:\tlearn: 0.0335266\ttotal: 305ms\tremaining: 324ms\n",
      "485:\tlearn: 0.0333309\ttotal: 306ms\tremaining: 323ms\n",
      "486:\tlearn: 0.0331251\ttotal: 306ms\tremaining: 322ms\n",
      "487:\tlearn: 0.0328943\ttotal: 307ms\tremaining: 322ms\n",
      "488:\tlearn: 0.0327028\ttotal: 307ms\tremaining: 321ms\n",
      "489:\tlearn: 0.0324825\ttotal: 308ms\tremaining: 320ms\n",
      "490:\tlearn: 0.0322799\ttotal: 308ms\tremaining: 319ms\n",
      "491:\tlearn: 0.0320870\ttotal: 308ms\tremaining: 318ms\n",
      "492:\tlearn: 0.0318754\ttotal: 309ms\tremaining: 318ms\n",
      "493:\tlearn: 0.0316870\ttotal: 309ms\tremaining: 317ms\n",
      "494:\tlearn: 0.0315022\ttotal: 310ms\tremaining: 316ms\n",
      "495:\tlearn: 0.0313210\ttotal: 310ms\tremaining: 315ms\n",
      "496:\tlearn: 0.0311128\ttotal: 311ms\tremaining: 314ms\n",
      "497:\tlearn: 0.0309305\ttotal: 311ms\tremaining: 314ms\n",
      "498:\tlearn: 0.0307542\ttotal: 312ms\tremaining: 313ms\n",
      "499:\tlearn: 0.0305717\ttotal: 312ms\tremaining: 312ms\n",
      "500:\tlearn: 0.0303742\ttotal: 313ms\tremaining: 311ms\n",
      "501:\tlearn: 0.0301991\ttotal: 315ms\tremaining: 312ms\n",
      "502:\tlearn: 0.0300277\ttotal: 316ms\tremaining: 312ms\n",
      "503:\tlearn: 0.0298836\ttotal: 316ms\tremaining: 311ms\n",
      "504:\tlearn: 0.0297429\ttotal: 317ms\tremaining: 311ms\n",
      "505:\tlearn: 0.0295506\ttotal: 317ms\tremaining: 310ms\n",
      "506:\tlearn: 0.0293612\ttotal: 318ms\tremaining: 309ms\n",
      "507:\tlearn: 0.0292405\ttotal: 318ms\tremaining: 308ms\n",
      "508:\tlearn: 0.0290543\ttotal: 319ms\tremaining: 308ms\n",
      "509:\tlearn: 0.0288906\ttotal: 319ms\tremaining: 307ms\n",
      "510:\tlearn: 0.0287736\ttotal: 320ms\tremaining: 306ms\n",
      "511:\tlearn: 0.0285913\ttotal: 320ms\tremaining: 305ms\n",
      "512:\tlearn: 0.0284775\ttotal: 321ms\tremaining: 305ms\n",
      "513:\tlearn: 0.0283656\ttotal: 321ms\tremaining: 304ms\n",
      "514:\tlearn: 0.0282370\ttotal: 322ms\tremaining: 303ms\n",
      "515:\tlearn: 0.0280600\ttotal: 322ms\tremaining: 302ms\n",
      "516:\tlearn: 0.0279514\ttotal: 323ms\tremaining: 301ms\n",
      "517:\tlearn: 0.0278117\ttotal: 323ms\tremaining: 301ms\n",
      "518:\tlearn: 0.0276395\ttotal: 323ms\tremaining: 300ms\n",
      "519:\tlearn: 0.0275339\ttotal: 324ms\tremaining: 299ms\n",
      "520:\tlearn: 0.0273973\ttotal: 325ms\tremaining: 298ms\n",
      "521:\tlearn: 0.0272629\ttotal: 325ms\tremaining: 298ms\n",
      "522:\tlearn: 0.0271620\ttotal: 326ms\tremaining: 297ms\n",
      "523:\tlearn: 0.0269954\ttotal: 326ms\tremaining: 296ms\n",
      "524:\tlearn: 0.0268309\ttotal: 327ms\tremaining: 295ms\n",
      "525:\tlearn: 0.0267334\ttotal: 327ms\tremaining: 295ms\n",
      "526:\tlearn: 0.0265832\ttotal: 327ms\tremaining: 294ms\n",
      "527:\tlearn: 0.0264880\ttotal: 328ms\tremaining: 293ms\n",
      "528:\tlearn: 0.0263406\ttotal: 328ms\tremaining: 292ms\n",
      "529:\tlearn: 0.0262149\ttotal: 329ms\tremaining: 292ms\n",
      "530:\tlearn: 0.0260715\ttotal: 329ms\tremaining: 291ms\n",
      "531:\tlearn: 0.0259400\ttotal: 330ms\tremaining: 290ms\n",
      "532:\tlearn: 0.0258105\ttotal: 331ms\tremaining: 290ms\n",
      "533:\tlearn: 0.0256506\ttotal: 331ms\tremaining: 289ms\n",
      "534:\tlearn: 0.0255242\ttotal: 332ms\tremaining: 288ms\n",
      "535:\tlearn: 0.0253999\ttotal: 332ms\tremaining: 287ms\n",
      "536:\tlearn: 0.0252542\ttotal: 333ms\tremaining: 287ms\n",
      "537:\tlearn: 0.0251665\ttotal: 333ms\tremaining: 286ms\n",
      "538:\tlearn: 0.0250455\ttotal: 334ms\tremaining: 286ms\n",
      "539:\tlearn: 0.0249265\ttotal: 335ms\tremaining: 285ms\n",
      "540:\tlearn: 0.0247997\ttotal: 335ms\tremaining: 284ms\n",
      "541:\tlearn: 0.0246830\ttotal: 336ms\tremaining: 284ms\n",
      "542:\tlearn: 0.0245499\ttotal: 336ms\tremaining: 283ms\n",
      "543:\tlearn: 0.0244668\ttotal: 336ms\tremaining: 282ms\n",
      "544:\tlearn: 0.0243321\ttotal: 337ms\tremaining: 281ms\n",
      "545:\tlearn: 0.0242219\ttotal: 337ms\tremaining: 281ms\n",
      "546:\tlearn: 0.0241136\ttotal: 338ms\tremaining: 280ms\n",
      "547:\tlearn: 0.0240320\ttotal: 338ms\tremaining: 279ms\n",
      "548:\tlearn: 0.0239096\ttotal: 339ms\tremaining: 278ms\n",
      "549:\tlearn: 0.0237991\ttotal: 339ms\tremaining: 278ms\n",
      "550:\tlearn: 0.0237218\ttotal: 340ms\tremaining: 277ms\n",
      "551:\tlearn: 0.0235934\ttotal: 340ms\tremaining: 276ms\n",
      "552:\tlearn: 0.0234670\ttotal: 341ms\tremaining: 275ms\n",
      "553:\tlearn: 0.0233920\ttotal: 341ms\tremaining: 275ms\n",
      "554:\tlearn: 0.0232602\ttotal: 342ms\tremaining: 274ms\n",
      "555:\tlearn: 0.0231586\ttotal: 342ms\tremaining: 273ms\n",
      "556:\tlearn: 0.0230293\ttotal: 343ms\tremaining: 272ms\n",
      "557:\tlearn: 0.0229659\ttotal: 343ms\tremaining: 272ms\n",
      "558:\tlearn: 0.0228457\ttotal: 343ms\tremaining: 271ms\n",
      "559:\tlearn: 0.0227478\ttotal: 344ms\tremaining: 270ms\n",
      "560:\tlearn: 0.0226235\ttotal: 344ms\tremaining: 269ms\n",
      "561:\tlearn: 0.0225620\ttotal: 347ms\tremaining: 271ms\n",
      "562:\tlearn: 0.0224380\ttotal: 348ms\tremaining: 270ms\n",
      "563:\tlearn: 0.0223777\ttotal: 349ms\tremaining: 269ms\n",
      "564:\tlearn: 0.0222521\ttotal: 349ms\tremaining: 269ms\n",
      "565:\tlearn: 0.0221232\ttotal: 349ms\tremaining: 268ms\n",
      "566:\tlearn: 0.0220046\ttotal: 350ms\tremaining: 267ms\n",
      "567:\tlearn: 0.0218855\ttotal: 350ms\tremaining: 266ms\n",
      "568:\tlearn: 0.0217703\ttotal: 351ms\tremaining: 266ms\n",
      "569:\tlearn: 0.0216977\ttotal: 351ms\tremaining: 265ms\n",
      "570:\tlearn: 0.0215848\ttotal: 352ms\tremaining: 264ms\n",
      "571:\tlearn: 0.0214932\ttotal: 352ms\tremaining: 263ms\n",
      "572:\tlearn: 0.0213376\ttotal: 353ms\tremaining: 263ms\n",
      "573:\tlearn: 0.0212209\ttotal: 353ms\tremaining: 262ms\n",
      "574:\tlearn: 0.0211641\ttotal: 353ms\tremaining: 261ms\n",
      "575:\tlearn: 0.0210123\ttotal: 354ms\tremaining: 261ms\n",
      "576:\tlearn: 0.0208942\ttotal: 354ms\tremaining: 260ms\n",
      "577:\tlearn: 0.0207874\ttotal: 355ms\tremaining: 259ms\n",
      "578:\tlearn: 0.0206759\ttotal: 355ms\tremaining: 258ms\n",
      "579:\tlearn: 0.0206210\ttotal: 356ms\tremaining: 258ms\n",
      "580:\tlearn: 0.0204739\ttotal: 356ms\tremaining: 257ms\n",
      "581:\tlearn: 0.0203708\ttotal: 357ms\tremaining: 256ms\n",
      "582:\tlearn: 0.0203171\ttotal: 357ms\tremaining: 255ms\n",
      "583:\tlearn: 0.0201803\ttotal: 358ms\tremaining: 255ms\n",
      "584:\tlearn: 0.0200810\ttotal: 358ms\tremaining: 254ms\n",
      "585:\tlearn: 0.0199755\ttotal: 359ms\tremaining: 254ms\n",
      "586:\tlearn: 0.0198789\ttotal: 359ms\tremaining: 253ms\n",
      "587:\tlearn: 0.0198168\ttotal: 360ms\tremaining: 252ms\n",
      "588:\tlearn: 0.0197211\ttotal: 360ms\tremaining: 251ms\n",
      "589:\tlearn: 0.0196244\ttotal: 361ms\tremaining: 251ms\n",
      "590:\tlearn: 0.0195309\ttotal: 362ms\tremaining: 250ms\n",
      "591:\tlearn: 0.0194309\ttotal: 362ms\tremaining: 250ms\n",
      "592:\tlearn: 0.0193400\ttotal: 363ms\tremaining: 249ms\n",
      "593:\tlearn: 0.0192486\ttotal: 363ms\tremaining: 248ms\n",
      "594:\tlearn: 0.0191599\ttotal: 363ms\tremaining: 247ms\n",
      "595:\tlearn: 0.0190729\ttotal: 364ms\tremaining: 247ms\n",
      "596:\tlearn: 0.0189867\ttotal: 364ms\tremaining: 246ms\n",
      "597:\tlearn: 0.0189088\ttotal: 365ms\tremaining: 245ms\n",
      "598:\tlearn: 0.0188147\ttotal: 365ms\tremaining: 244ms\n",
      "599:\tlearn: 0.0187367\ttotal: 365ms\tremaining: 244ms\n",
      "600:\tlearn: 0.0186597\ttotal: 366ms\tremaining: 243ms\n"
     ]
    },
    {
     "name": "stdout",
     "output_type": "stream",
     "text": [
      "601:\tlearn: 0.0185770\ttotal: 367ms\tremaining: 242ms\n",
      "602:\tlearn: 0.0184903\ttotal: 367ms\tremaining: 242ms\n",
      "603:\tlearn: 0.0184151\ttotal: 368ms\tremaining: 241ms\n",
      "604:\tlearn: 0.0183351\ttotal: 368ms\tremaining: 240ms\n",
      "605:\tlearn: 0.0182330\ttotal: 369ms\tremaining: 240ms\n",
      "606:\tlearn: 0.0181598\ttotal: 369ms\tremaining: 239ms\n",
      "607:\tlearn: 0.0180811\ttotal: 370ms\tremaining: 238ms\n",
      "608:\tlearn: 0.0180092\ttotal: 370ms\tremaining: 238ms\n",
      "609:\tlearn: 0.0179383\ttotal: 370ms\tremaining: 237ms\n",
      "610:\tlearn: 0.0178524\ttotal: 371ms\tremaining: 236ms\n",
      "611:\tlearn: 0.0177827\ttotal: 371ms\tremaining: 235ms\n",
      "612:\tlearn: 0.0177045\ttotal: 372ms\tremaining: 235ms\n",
      "613:\tlearn: 0.0176415\ttotal: 372ms\tremaining: 234ms\n",
      "614:\tlearn: 0.0175667\ttotal: 373ms\tremaining: 233ms\n",
      "615:\tlearn: 0.0174910\ttotal: 373ms\tremaining: 232ms\n",
      "616:\tlearn: 0.0174182\ttotal: 373ms\tremaining: 232ms\n",
      "617:\tlearn: 0.0173378\ttotal: 374ms\tremaining: 231ms\n",
      "618:\tlearn: 0.0172626\ttotal: 374ms\tremaining: 230ms\n",
      "619:\tlearn: 0.0172003\ttotal: 375ms\tremaining: 230ms\n",
      "620:\tlearn: 0.0171304\ttotal: 375ms\tremaining: 229ms\n",
      "621:\tlearn: 0.0170527\ttotal: 376ms\tremaining: 228ms\n",
      "622:\tlearn: 0.0169732\ttotal: 376ms\tremaining: 228ms\n",
      "623:\tlearn: 0.0169028\ttotal: 377ms\tremaining: 227ms\n",
      "624:\tlearn: 0.0168270\ttotal: 377ms\tremaining: 226ms\n",
      "625:\tlearn: 0.0167584\ttotal: 378ms\tremaining: 226ms\n",
      "626:\tlearn: 0.0166923\ttotal: 378ms\tremaining: 225ms\n",
      "627:\tlearn: 0.0166052\ttotal: 379ms\tremaining: 224ms\n",
      "628:\tlearn: 0.0165473\ttotal: 379ms\tremaining: 224ms\n",
      "629:\tlearn: 0.0164731\ttotal: 380ms\tremaining: 223ms\n",
      "630:\tlearn: 0.0164053\ttotal: 380ms\tremaining: 222ms\n",
      "631:\tlearn: 0.0163402\ttotal: 381ms\tremaining: 222ms\n",
      "632:\tlearn: 0.0162624\ttotal: 381ms\tremaining: 221ms\n",
      "633:\tlearn: 0.0161909\ttotal: 382ms\tremaining: 220ms\n",
      "634:\tlearn: 0.0161267\ttotal: 382ms\tremaining: 220ms\n",
      "635:\tlearn: 0.0160639\ttotal: 383ms\tremaining: 219ms\n",
      "636:\tlearn: 0.0160012\ttotal: 383ms\tremaining: 218ms\n",
      "637:\tlearn: 0.0159389\ttotal: 384ms\tremaining: 218ms\n",
      "638:\tlearn: 0.0158773\ttotal: 384ms\tremaining: 217ms\n",
      "639:\tlearn: 0.0158038\ttotal: 385ms\tremaining: 216ms\n",
      "640:\tlearn: 0.0157434\ttotal: 385ms\tremaining: 216ms\n",
      "641:\tlearn: 0.0156818\ttotal: 386ms\tremaining: 215ms\n",
      "642:\tlearn: 0.0156212\ttotal: 386ms\tremaining: 214ms\n",
      "643:\tlearn: 0.0155544\ttotal: 387ms\tremaining: 214ms\n",
      "644:\tlearn: 0.0154870\ttotal: 387ms\tremaining: 213ms\n",
      "645:\tlearn: 0.0154160\ttotal: 388ms\tremaining: 212ms\n",
      "646:\tlearn: 0.0153386\ttotal: 388ms\tremaining: 212ms\n",
      "647:\tlearn: 0.0152630\ttotal: 388ms\tremaining: 211ms\n",
      "648:\tlearn: 0.0152119\ttotal: 389ms\tremaining: 210ms\n",
      "649:\tlearn: 0.0151544\ttotal: 389ms\tremaining: 210ms\n",
      "650:\tlearn: 0.0150999\ttotal: 390ms\tremaining: 209ms\n",
      "651:\tlearn: 0.0150557\ttotal: 390ms\tremaining: 208ms\n",
      "652:\tlearn: 0.0149833\ttotal: 391ms\tremaining: 208ms\n",
      "653:\tlearn: 0.0149125\ttotal: 391ms\tremaining: 207ms\n",
      "654:\tlearn: 0.0148443\ttotal: 392ms\tremaining: 206ms\n",
      "655:\tlearn: 0.0147774\ttotal: 392ms\tremaining: 206ms\n",
      "656:\tlearn: 0.0147271\ttotal: 393ms\tremaining: 205ms\n",
      "657:\tlearn: 0.0146524\ttotal: 393ms\tremaining: 204ms\n",
      "658:\tlearn: 0.0145847\ttotal: 394ms\tremaining: 204ms\n",
      "659:\tlearn: 0.0145037\ttotal: 394ms\tremaining: 203ms\n",
      "660:\tlearn: 0.0144405\ttotal: 395ms\tremaining: 203ms\n",
      "661:\tlearn: 0.0143866\ttotal: 395ms\tremaining: 202ms\n",
      "662:\tlearn: 0.0143245\ttotal: 396ms\tremaining: 201ms\n",
      "663:\tlearn: 0.0142746\ttotal: 396ms\tremaining: 201ms\n",
      "664:\tlearn: 0.0142139\ttotal: 397ms\tremaining: 200ms\n",
      "665:\tlearn: 0.0141746\ttotal: 397ms\tremaining: 199ms\n",
      "666:\tlearn: 0.0141361\ttotal: 398ms\tremaining: 199ms\n",
      "667:\tlearn: 0.0140767\ttotal: 398ms\tremaining: 198ms\n",
      "668:\tlearn: 0.0140334\ttotal: 399ms\tremaining: 197ms\n",
      "669:\tlearn: 0.0139910\ttotal: 399ms\tremaining: 197ms\n",
      "670:\tlearn: 0.0139332\ttotal: 399ms\tremaining: 196ms\n",
      "671:\tlearn: 0.0138829\ttotal: 400ms\tremaining: 195ms\n",
      "672:\tlearn: 0.0138135\ttotal: 400ms\tremaining: 195ms\n",
      "673:\tlearn: 0.0137772\ttotal: 401ms\tremaining: 194ms\n",
      "674:\tlearn: 0.0137207\ttotal: 401ms\tremaining: 193ms\n",
      "675:\tlearn: 0.0136812\ttotal: 402ms\tremaining: 193ms\n",
      "676:\tlearn: 0.0136260\ttotal: 402ms\tremaining: 192ms\n",
      "677:\tlearn: 0.0135826\ttotal: 403ms\tremaining: 191ms\n",
      "678:\tlearn: 0.0135156\ttotal: 403ms\tremaining: 191ms\n",
      "679:\tlearn: 0.0134489\ttotal: 404ms\tremaining: 190ms\n",
      "680:\tlearn: 0.0133951\ttotal: 404ms\tremaining: 189ms\n",
      "681:\tlearn: 0.0133342\ttotal: 406ms\tremaining: 189ms\n",
      "682:\tlearn: 0.0132778\ttotal: 407ms\tremaining: 189ms\n",
      "683:\tlearn: 0.0132304\ttotal: 407ms\tremaining: 188ms\n",
      "684:\tlearn: 0.0131753\ttotal: 408ms\tremaining: 188ms\n",
      "685:\tlearn: 0.0131213\ttotal: 409ms\tremaining: 187ms\n",
      "686:\tlearn: 0.0130693\ttotal: 409ms\tremaining: 186ms\n",
      "687:\tlearn: 0.0130156\ttotal: 410ms\tremaining: 186ms\n",
      "688:\tlearn: 0.0129470\ttotal: 410ms\tremaining: 185ms\n",
      "689:\tlearn: 0.0128950\ttotal: 411ms\tremaining: 184ms\n",
      "690:\tlearn: 0.0128419\ttotal: 411ms\tremaining: 184ms\n",
      "691:\tlearn: 0.0127818\ttotal: 412ms\tremaining: 183ms\n",
      "692:\tlearn: 0.0127315\ttotal: 412ms\tremaining: 183ms\n",
      "693:\tlearn: 0.0126729\ttotal: 413ms\tremaining: 182ms\n",
      "694:\tlearn: 0.0126184\ttotal: 413ms\tremaining: 181ms\n",
      "695:\tlearn: 0.0125613\ttotal: 414ms\tremaining: 181ms\n",
      "696:\tlearn: 0.0125163\ttotal: 414ms\tremaining: 180ms\n",
      "697:\tlearn: 0.0124626\ttotal: 415ms\tremaining: 180ms\n",
      "698:\tlearn: 0.0124069\ttotal: 416ms\tremaining: 179ms\n",
      "699:\tlearn: 0.0123633\ttotal: 416ms\tremaining: 178ms\n",
      "700:\tlearn: 0.0123112\ttotal: 417ms\tremaining: 178ms\n",
      "701:\tlearn: 0.0122651\ttotal: 417ms\tremaining: 177ms\n",
      "702:\tlearn: 0.0122236\ttotal: 418ms\tremaining: 176ms\n",
      "703:\tlearn: 0.0121973\ttotal: 418ms\tremaining: 176ms\n",
      "704:\tlearn: 0.0121540\ttotal: 419ms\tremaining: 175ms\n",
      "705:\tlearn: 0.0121001\ttotal: 419ms\tremaining: 175ms\n",
      "706:\tlearn: 0.0120410\ttotal: 420ms\tremaining: 174ms\n",
      "707:\tlearn: 0.0120154\ttotal: 420ms\tremaining: 173ms\n",
      "708:\tlearn: 0.0119750\ttotal: 421ms\tremaining: 173ms\n",
      "709:\tlearn: 0.0119246\ttotal: 422ms\tremaining: 172ms\n",
      "710:\tlearn: 0.0118994\ttotal: 422ms\tremaining: 172ms\n",
      "711:\tlearn: 0.0118600\ttotal: 423ms\tremaining: 171ms\n",
      "712:\tlearn: 0.0118350\ttotal: 423ms\tremaining: 170ms\n",
      "713:\tlearn: 0.0117834\ttotal: 424ms\tremaining: 170ms\n",
      "714:\tlearn: 0.0117411\ttotal: 424ms\tremaining: 169ms\n",
      "715:\tlearn: 0.0116848\ttotal: 425ms\tremaining: 169ms\n",
      "716:\tlearn: 0.0116439\ttotal: 425ms\tremaining: 168ms\n",
      "717:\tlearn: 0.0115886\ttotal: 426ms\tremaining: 167ms\n",
      "718:\tlearn: 0.0115485\ttotal: 426ms\tremaining: 167ms\n",
      "719:\tlearn: 0.0115086\ttotal: 427ms\tremaining: 166ms\n",
      "720:\tlearn: 0.0114705\ttotal: 427ms\tremaining: 165ms\n",
      "721:\tlearn: 0.0114163\ttotal: 428ms\tremaining: 165ms\n",
      "722:\tlearn: 0.0113927\ttotal: 428ms\tremaining: 164ms\n",
      "723:\tlearn: 0.0113541\ttotal: 429ms\tremaining: 164ms\n",
      "724:\tlearn: 0.0113044\ttotal: 430ms\tremaining: 163ms\n",
      "725:\tlearn: 0.0112672\ttotal: 430ms\tremaining: 162ms\n",
      "726:\tlearn: 0.0112441\ttotal: 430ms\tremaining: 162ms\n",
      "727:\tlearn: 0.0112115\ttotal: 431ms\tremaining: 161ms\n",
      "728:\tlearn: 0.0111596\ttotal: 431ms\tremaining: 160ms\n",
      "729:\tlearn: 0.0111292\ttotal: 432ms\tremaining: 160ms\n",
      "730:\tlearn: 0.0110783\ttotal: 432ms\tremaining: 159ms\n",
      "731:\tlearn: 0.0110412\ttotal: 433ms\tremaining: 158ms\n",
      "732:\tlearn: 0.0110052\ttotal: 433ms\tremaining: 158ms\n",
      "733:\tlearn: 0.0109554\ttotal: 434ms\tremaining: 157ms\n",
      "734:\tlearn: 0.0109243\ttotal: 434ms\tremaining: 157ms\n",
      "735:\tlearn: 0.0108755\ttotal: 435ms\tremaining: 156ms\n",
      "736:\tlearn: 0.0108448\ttotal: 438ms\tremaining: 156ms\n",
      "737:\tlearn: 0.0107969\ttotal: 439ms\tremaining: 156ms\n",
      "738:\tlearn: 0.0107667\ttotal: 440ms\tremaining: 155ms\n",
      "739:\tlearn: 0.0107209\ttotal: 440ms\tremaining: 155ms\n",
      "740:\tlearn: 0.0106912\ttotal: 440ms\tremaining: 154ms\n",
      "741:\tlearn: 0.0106564\ttotal: 441ms\tremaining: 153ms\n",
      "742:\tlearn: 0.0106242\ttotal: 441ms\tremaining: 153ms\n",
      "743:\tlearn: 0.0105779\ttotal: 442ms\tremaining: 152ms\n",
      "744:\tlearn: 0.0105487\ttotal: 442ms\tremaining: 151ms\n",
      "745:\tlearn: 0.0105149\ttotal: 443ms\tremaining: 151ms\n",
      "746:\tlearn: 0.0104918\ttotal: 443ms\tremaining: 150ms\n",
      "747:\tlearn: 0.0104631\ttotal: 444ms\tremaining: 149ms\n",
      "748:\tlearn: 0.0104300\ttotal: 444ms\tremaining: 149ms\n",
      "749:\tlearn: 0.0103982\ttotal: 445ms\tremaining: 148ms\n",
      "750:\tlearn: 0.0103758\ttotal: 445ms\tremaining: 148ms\n",
      "751:\tlearn: 0.0103436\ttotal: 445ms\tremaining: 147ms\n",
      "752:\tlearn: 0.0102991\ttotal: 446ms\tremaining: 146ms\n",
      "753:\tlearn: 0.0102709\ttotal: 446ms\tremaining: 146ms\n",
      "754:\tlearn: 0.0102360\ttotal: 447ms\tremaining: 145ms\n",
      "755:\tlearn: 0.0101923\ttotal: 447ms\tremaining: 144ms\n",
      "756:\tlearn: 0.0101647\ttotal: 448ms\tremaining: 144ms\n",
      "757:\tlearn: 0.0101347\ttotal: 448ms\tremaining: 143ms\n",
      "758:\tlearn: 0.0101009\ttotal: 449ms\tremaining: 142ms\n",
      "759:\tlearn: 0.0100709\ttotal: 449ms\tremaining: 142ms\n",
      "760:\tlearn: 0.0100494\ttotal: 450ms\tremaining: 141ms\n",
      "761:\tlearn: 0.0100170\ttotal: 450ms\tremaining: 141ms\n",
      "762:\tlearn: 0.0099796\ttotal: 451ms\tremaining: 140ms\n",
      "763:\tlearn: 0.0099374\ttotal: 451ms\tremaining: 139ms\n",
      "764:\tlearn: 0.0099058\ttotal: 452ms\tremaining: 139ms\n",
      "765:\tlearn: 0.0098668\ttotal: 452ms\tremaining: 138ms\n",
      "766:\tlearn: 0.0098344\ttotal: 453ms\tremaining: 138ms\n",
      "767:\tlearn: 0.0097935\ttotal: 453ms\tremaining: 137ms\n",
      "768:\tlearn: 0.0097619\ttotal: 454ms\tremaining: 136ms\n",
      "769:\tlearn: 0.0097269\ttotal: 454ms\tremaining: 136ms\n",
      "770:\tlearn: 0.0096989\ttotal: 455ms\tremaining: 135ms\n",
      "771:\tlearn: 0.0096640\ttotal: 456ms\tremaining: 135ms\n",
      "772:\tlearn: 0.0096284\ttotal: 456ms\tremaining: 134ms\n",
      "773:\tlearn: 0.0095787\ttotal: 457ms\tremaining: 133ms\n",
      "774:\tlearn: 0.0095485\ttotal: 457ms\tremaining: 133ms\n",
      "775:\tlearn: 0.0095000\ttotal: 458ms\tremaining: 132ms\n",
      "776:\tlearn: 0.0094648\ttotal: 458ms\tremaining: 132ms\n",
      "777:\tlearn: 0.0094304\ttotal: 459ms\tremaining: 131ms\n",
      "778:\tlearn: 0.0093967\ttotal: 459ms\tremaining: 130ms\n",
      "779:\tlearn: 0.0093652\ttotal: 460ms\tremaining: 130ms\n",
      "780:\tlearn: 0.0093272\ttotal: 460ms\tremaining: 129ms\n",
      "781:\tlearn: 0.0092921\ttotal: 461ms\tremaining: 128ms\n",
      "782:\tlearn: 0.0092550\ttotal: 461ms\tremaining: 128ms\n",
      "783:\tlearn: 0.0092185\ttotal: 462ms\tremaining: 127ms\n",
      "784:\tlearn: 0.0091828\ttotal: 462ms\tremaining: 127ms\n",
      "785:\tlearn: 0.0091551\ttotal: 463ms\tremaining: 126ms\n",
      "786:\tlearn: 0.0091183\ttotal: 463ms\tremaining: 125ms\n",
      "787:\tlearn: 0.0090847\ttotal: 464ms\tremaining: 125ms\n",
      "788:\tlearn: 0.0090509\ttotal: 464ms\tremaining: 124ms\n",
      "789:\tlearn: 0.0090180\ttotal: 465ms\tremaining: 123ms\n",
      "790:\tlearn: 0.0089914\ttotal: 465ms\tremaining: 123ms\n",
      "791:\tlearn: 0.0089591\ttotal: 466ms\tremaining: 122ms\n",
      "792:\tlearn: 0.0089269\ttotal: 466ms\tremaining: 122ms\n",
      "793:\tlearn: 0.0088944\ttotal: 466ms\tremaining: 121ms\n",
      "794:\tlearn: 0.0088652\ttotal: 467ms\tremaining: 120ms\n"
     ]
    },
    {
     "name": "stdout",
     "output_type": "stream",
     "text": [
      "795:\tlearn: 0.0088357\ttotal: 467ms\tremaining: 120ms\n",
      "796:\tlearn: 0.0088031\ttotal: 468ms\tremaining: 119ms\n",
      "797:\tlearn: 0.0087660\ttotal: 468ms\tremaining: 118ms\n",
      "798:\tlearn: 0.0087298\ttotal: 468ms\tremaining: 118ms\n",
      "799:\tlearn: 0.0087014\ttotal: 469ms\tremaining: 117ms\n",
      "800:\tlearn: 0.0086661\ttotal: 469ms\tremaining: 117ms\n",
      "801:\tlearn: 0.0086342\ttotal: 469ms\tremaining: 116ms\n",
      "802:\tlearn: 0.0086065\ttotal: 470ms\tremaining: 115ms\n",
      "803:\tlearn: 0.0085689\ttotal: 470ms\tremaining: 115ms\n",
      "804:\tlearn: 0.0085416\ttotal: 475ms\tremaining: 115ms\n",
      "805:\tlearn: 0.0084951\ttotal: 476ms\tremaining: 115ms\n",
      "806:\tlearn: 0.0084708\ttotal: 477ms\tremaining: 114ms\n",
      "807:\tlearn: 0.0084472\ttotal: 477ms\tremaining: 113ms\n",
      "808:\tlearn: 0.0084183\ttotal: 478ms\tremaining: 113ms\n",
      "809:\tlearn: 0.0083827\ttotal: 478ms\tremaining: 112ms\n",
      "810:\tlearn: 0.0083435\ttotal: 479ms\tremaining: 112ms\n",
      "811:\tlearn: 0.0083108\ttotal: 479ms\tremaining: 111ms\n",
      "812:\tlearn: 0.0082756\ttotal: 480ms\tremaining: 110ms\n",
      "813:\tlearn: 0.0082372\ttotal: 480ms\tremaining: 110ms\n",
      "814:\tlearn: 0.0082063\ttotal: 481ms\tremaining: 109ms\n",
      "815:\tlearn: 0.0081686\ttotal: 481ms\tremaining: 109ms\n",
      "816:\tlearn: 0.0081357\ttotal: 482ms\tremaining: 108ms\n",
      "817:\tlearn: 0.0080988\ttotal: 482ms\tremaining: 107ms\n",
      "818:\tlearn: 0.0080668\ttotal: 483ms\tremaining: 107ms\n",
      "819:\tlearn: 0.0080237\ttotal: 483ms\tremaining: 106ms\n",
      "820:\tlearn: 0.0080019\ttotal: 484ms\tremaining: 106ms\n",
      "821:\tlearn: 0.0079660\ttotal: 484ms\tremaining: 105ms\n",
      "822:\tlearn: 0.0079469\ttotal: 485ms\tremaining: 104ms\n",
      "823:\tlearn: 0.0079281\ttotal: 486ms\tremaining: 104ms\n",
      "824:\tlearn: 0.0078979\ttotal: 486ms\tremaining: 103ms\n",
      "825:\tlearn: 0.0078665\ttotal: 486ms\tremaining: 102ms\n",
      "826:\tlearn: 0.0078471\ttotal: 487ms\tremaining: 102ms\n",
      "827:\tlearn: 0.0078280\ttotal: 487ms\tremaining: 101ms\n",
      "828:\tlearn: 0.0077950\ttotal: 488ms\tremaining: 101ms\n",
      "829:\tlearn: 0.0077718\ttotal: 489ms\tremaining: 100ms\n",
      "830:\tlearn: 0.0077532\ttotal: 489ms\tremaining: 99.5ms\n",
      "831:\tlearn: 0.0077304\ttotal: 490ms\tremaining: 98.9ms\n",
      "832:\tlearn: 0.0077002\ttotal: 490ms\tremaining: 98.3ms\n",
      "833:\tlearn: 0.0076752\ttotal: 491ms\tremaining: 97.7ms\n",
      "834:\tlearn: 0.0076528\ttotal: 491ms\tremaining: 97.1ms\n",
      "835:\tlearn: 0.0076307\ttotal: 492ms\tremaining: 96.4ms\n",
      "836:\tlearn: 0.0076065\ttotal: 492ms\tremaining: 95.8ms\n",
      "837:\tlearn: 0.0075849\ttotal: 493ms\tremaining: 95.2ms\n",
      "838:\tlearn: 0.0075448\ttotal: 493ms\tremaining: 94.6ms\n",
      "839:\tlearn: 0.0075236\ttotal: 493ms\tremaining: 94ms\n",
      "840:\tlearn: 0.0075042\ttotal: 494ms\tremaining: 93.4ms\n",
      "841:\tlearn: 0.0074847\ttotal: 494ms\tremaining: 92.8ms\n",
      "842:\tlearn: 0.0074669\ttotal: 495ms\tremaining: 92.2ms\n",
      "843:\tlearn: 0.0074439\ttotal: 495ms\tremaining: 91.6ms\n",
      "844:\tlearn: 0.0074051\ttotal: 496ms\tremaining: 91ms\n",
      "845:\tlearn: 0.0073846\ttotal: 497ms\tremaining: 90.4ms\n",
      "846:\tlearn: 0.0073466\ttotal: 497ms\tremaining: 89.8ms\n",
      "847:\tlearn: 0.0073102\ttotal: 498ms\tremaining: 89.3ms\n",
      "848:\tlearn: 0.0072816\ttotal: 498ms\tremaining: 88.7ms\n",
      "849:\tlearn: 0.0072449\ttotal: 499ms\tremaining: 88ms\n",
      "850:\tlearn: 0.0072394\ttotal: 499ms\tremaining: 87.4ms\n",
      "851:\tlearn: 0.0072196\ttotal: 500ms\tremaining: 86.8ms\n",
      "852:\tlearn: 0.0071831\ttotal: 500ms\tremaining: 86.2ms\n",
      "853:\tlearn: 0.0071577\ttotal: 501ms\tremaining: 85.6ms\n",
      "854:\tlearn: 0.0071184\ttotal: 501ms\tremaining: 85ms\n",
      "855:\tlearn: 0.0070874\ttotal: 502ms\tremaining: 84.4ms\n",
      "856:\tlearn: 0.0070648\ttotal: 502ms\tremaining: 83.8ms\n",
      "857:\tlearn: 0.0070483\ttotal: 503ms\tremaining: 83.2ms\n",
      "858:\tlearn: 0.0070270\ttotal: 503ms\tremaining: 82.6ms\n",
      "859:\tlearn: 0.0070041\ttotal: 504ms\tremaining: 82ms\n",
      "860:\tlearn: 0.0069880\ttotal: 504ms\tremaining: 81.4ms\n",
      "861:\tlearn: 0.0069660\ttotal: 504ms\tremaining: 80.8ms\n",
      "862:\tlearn: 0.0069359\ttotal: 505ms\tremaining: 80.2ms\n",
      "863:\tlearn: 0.0069173\ttotal: 505ms\tremaining: 79.5ms\n",
      "864:\tlearn: 0.0068959\ttotal: 506ms\tremaining: 78.9ms\n",
      "865:\tlearn: 0.0068801\ttotal: 506ms\tremaining: 78.3ms\n",
      "866:\tlearn: 0.0068514\ttotal: 507ms\tremaining: 77.7ms\n",
      "867:\tlearn: 0.0068353\ttotal: 507ms\tremaining: 77.1ms\n",
      "868:\tlearn: 0.0068302\ttotal: 508ms\tremaining: 76.5ms\n",
      "869:\tlearn: 0.0068095\ttotal: 508ms\tremaining: 75.9ms\n",
      "870:\tlearn: 0.0068045\ttotal: 509ms\tremaining: 75.3ms\n",
      "871:\tlearn: 0.0067891\ttotal: 509ms\tremaining: 74.7ms\n",
      "872:\tlearn: 0.0067840\ttotal: 509ms\tremaining: 74.1ms\n",
      "873:\tlearn: 0.0067790\ttotal: 510ms\tremaining: 73.5ms\n",
      "874:\tlearn: 0.0067638\ttotal: 510ms\tremaining: 72.9ms\n",
      "875:\tlearn: 0.0067482\ttotal: 511ms\tremaining: 72.3ms\n",
      "876:\tlearn: 0.0067433\ttotal: 511ms\tremaining: 71.7ms\n",
      "877:\tlearn: 0.0067098\ttotal: 512ms\tremaining: 71.2ms\n",
      "878:\tlearn: 0.0066761\ttotal: 513ms\tremaining: 70.6ms\n",
      "879:\tlearn: 0.0066712\ttotal: 513ms\tremaining: 70ms\n",
      "880:\tlearn: 0.0066387\ttotal: 514ms\tremaining: 69.4ms\n",
      "881:\tlearn: 0.0066147\ttotal: 514ms\tremaining: 68.8ms\n",
      "882:\tlearn: 0.0065973\ttotal: 515ms\tremaining: 68.2ms\n",
      "883:\tlearn: 0.0065698\ttotal: 516ms\tremaining: 67.7ms\n",
      "884:\tlearn: 0.0065503\ttotal: 516ms\tremaining: 67.1ms\n",
      "885:\tlearn: 0.0065272\ttotal: 517ms\tremaining: 66.5ms\n",
      "886:\tlearn: 0.0065085\ttotal: 517ms\tremaining: 65.9ms\n",
      "887:\tlearn: 0.0064858\ttotal: 518ms\tremaining: 65.3ms\n",
      "888:\tlearn: 0.0064599\ttotal: 518ms\tremaining: 64.7ms\n",
      "889:\tlearn: 0.0064332\ttotal: 519ms\tremaining: 64.1ms\n",
      "890:\tlearn: 0.0064094\ttotal: 519ms\tremaining: 63.5ms\n",
      "891:\tlearn: 0.0063910\ttotal: 520ms\tremaining: 62.9ms\n",
      "892:\tlearn: 0.0063639\ttotal: 520ms\tremaining: 62.3ms\n",
      "893:\tlearn: 0.0063459\ttotal: 521ms\tremaining: 61.7ms\n",
      "894:\tlearn: 0.0063315\ttotal: 521ms\tremaining: 61.2ms\n",
      "895:\tlearn: 0.0063051\ttotal: 522ms\tremaining: 60.6ms\n",
      "896:\tlearn: 0.0062874\ttotal: 522ms\tremaining: 60ms\n",
      "897:\tlearn: 0.0062542\ttotal: 523ms\tremaining: 59.4ms\n",
      "898:\tlearn: 0.0062307\ttotal: 523ms\tremaining: 58.8ms\n",
      "899:\tlearn: 0.0062094\ttotal: 524ms\tremaining: 58.2ms\n",
      "900:\tlearn: 0.0061769\ttotal: 524ms\tremaining: 57.6ms\n",
      "901:\tlearn: 0.0061452\ttotal: 526ms\tremaining: 57.1ms\n",
      "902:\tlearn: 0.0061181\ttotal: 527ms\tremaining: 56.6ms\n",
      "903:\tlearn: 0.0060973\ttotal: 527ms\tremaining: 56ms\n",
      "904:\tlearn: 0.0060663\ttotal: 528ms\tremaining: 55.4ms\n",
      "905:\tlearn: 0.0060399\ttotal: 528ms\tremaining: 54.8ms\n",
      "906:\tlearn: 0.0060197\ttotal: 529ms\tremaining: 54.2ms\n",
      "907:\tlearn: 0.0059893\ttotal: 529ms\tremaining: 53.6ms\n",
      "908:\tlearn: 0.0059637\ttotal: 530ms\tremaining: 53ms\n",
      "909:\tlearn: 0.0059329\ttotal: 530ms\tremaining: 52.5ms\n",
      "910:\tlearn: 0.0059139\ttotal: 531ms\tremaining: 51.9ms\n",
      "911:\tlearn: 0.0058918\ttotal: 531ms\tremaining: 51.3ms\n",
      "912:\tlearn: 0.0058734\ttotal: 532ms\tremaining: 50.7ms\n",
      "913:\tlearn: 0.0058530\ttotal: 532ms\tremaining: 50.1ms\n",
      "914:\tlearn: 0.0058376\ttotal: 533ms\tremaining: 49.5ms\n",
      "915:\tlearn: 0.0058247\ttotal: 533ms\tremaining: 48.9ms\n",
      "916:\tlearn: 0.0058084\ttotal: 533ms\tremaining: 48.3ms\n",
      "917:\tlearn: 0.0057770\ttotal: 534ms\tremaining: 47.7ms\n",
      "918:\tlearn: 0.0057536\ttotal: 535ms\tremaining: 47.1ms\n",
      "919:\tlearn: 0.0057373\ttotal: 535ms\tremaining: 46.5ms\n",
      "920:\tlearn: 0.0057086\ttotal: 536ms\tremaining: 45.9ms\n",
      "921:\tlearn: 0.0056887\ttotal: 536ms\tremaining: 45.4ms\n",
      "922:\tlearn: 0.0056731\ttotal: 537ms\tremaining: 44.8ms\n",
      "923:\tlearn: 0.0056452\ttotal: 537ms\tremaining: 44.2ms\n",
      "924:\tlearn: 0.0056239\ttotal: 538ms\tremaining: 43.6ms\n",
      "925:\tlearn: 0.0056069\ttotal: 538ms\tremaining: 43ms\n",
      "926:\tlearn: 0.0055865\ttotal: 539ms\tremaining: 42.4ms\n",
      "927:\tlearn: 0.0055725\ttotal: 539ms\tremaining: 41.8ms\n",
      "928:\tlearn: 0.0055573\ttotal: 540ms\tremaining: 41.3ms\n",
      "929:\tlearn: 0.0055366\ttotal: 540ms\tremaining: 40.7ms\n",
      "930:\tlearn: 0.0055151\ttotal: 541ms\tremaining: 40.1ms\n",
      "931:\tlearn: 0.0054856\ttotal: 541ms\tremaining: 39.5ms\n",
      "932:\tlearn: 0.0054660\ttotal: 542ms\tremaining: 38.9ms\n",
      "933:\tlearn: 0.0054454\ttotal: 543ms\tremaining: 38.3ms\n",
      "934:\tlearn: 0.0054300\ttotal: 543ms\tremaining: 37.8ms\n",
      "935:\tlearn: 0.0054148\ttotal: 544ms\tremaining: 37.2ms\n",
      "936:\tlearn: 0.0053953\ttotal: 544ms\tremaining: 36.6ms\n",
      "937:\tlearn: 0.0053723\ttotal: 545ms\tremaining: 36ms\n",
      "938:\tlearn: 0.0053574\ttotal: 545ms\tremaining: 35.4ms\n",
      "939:\tlearn: 0.0053312\ttotal: 546ms\tremaining: 34.8ms\n",
      "940:\tlearn: 0.0053087\ttotal: 546ms\tremaining: 34.2ms\n",
      "941:\tlearn: 0.0052909\ttotal: 546ms\tremaining: 33.6ms\n",
      "942:\tlearn: 0.0052704\ttotal: 547ms\tremaining: 33.1ms\n",
      "943:\tlearn: 0.0052514\ttotal: 548ms\tremaining: 32.5ms\n",
      "944:\tlearn: 0.0052332\ttotal: 548ms\tremaining: 31.9ms\n"
     ]
    },
    {
     "name": "stdout",
     "output_type": "stream",
     "text": [
      "945:\tlearn: 0.0052076\ttotal: 549ms\tremaining: 31.3ms\n",
      "946:\tlearn: 0.0051880\ttotal: 549ms\tremaining: 30.7ms\n",
      "947:\tlearn: 0.0051693\ttotal: 550ms\tremaining: 30.2ms\n",
      "948:\tlearn: 0.0051447\ttotal: 550ms\tremaining: 29.6ms\n",
      "949:\tlearn: 0.0051200\ttotal: 551ms\tremaining: 29ms\n",
      "950:\tlearn: 0.0051022\ttotal: 551ms\tremaining: 28.4ms\n",
      "951:\tlearn: 0.0050989\ttotal: 552ms\tremaining: 27.8ms\n",
      "952:\tlearn: 0.0050956\ttotal: 552ms\tremaining: 27.2ms\n",
      "953:\tlearn: 0.0050758\ttotal: 553ms\tremaining: 26.7ms\n",
      "954:\tlearn: 0.0050560\ttotal: 553ms\tremaining: 26.1ms\n",
      "955:\tlearn: 0.0050368\ttotal: 554ms\tremaining: 25.5ms\n",
      "956:\tlearn: 0.0050198\ttotal: 555ms\tremaining: 24.9ms\n",
      "957:\tlearn: 0.0050030\ttotal: 555ms\tremaining: 24.3ms\n",
      "958:\tlearn: 0.0049791\ttotal: 556ms\tremaining: 23.7ms\n",
      "959:\tlearn: 0.0049762\ttotal: 556ms\tremaining: 23.2ms\n",
      "960:\tlearn: 0.0049598\ttotal: 556ms\tremaining: 22.6ms\n",
      "961:\tlearn: 0.0049430\ttotal: 557ms\tremaining: 22ms\n",
      "962:\tlearn: 0.0049197\ttotal: 557ms\tremaining: 21.4ms\n",
      "963:\tlearn: 0.0049167\ttotal: 557ms\tremaining: 20.8ms\n",
      "964:\tlearn: 0.0049137\ttotal: 558ms\tremaining: 20.2ms\n",
      "965:\tlearn: 0.0048972\ttotal: 558ms\tremaining: 19.6ms\n",
      "966:\tlearn: 0.0048942\ttotal: 558ms\tremaining: 19ms\n",
      "967:\tlearn: 0.0048913\ttotal: 559ms\tremaining: 18.5ms\n",
      "968:\tlearn: 0.0048751\ttotal: 560ms\tremaining: 17.9ms\n",
      "969:\tlearn: 0.0048723\ttotal: 560ms\tremaining: 17.3ms\n",
      "970:\tlearn: 0.0048562\ttotal: 561ms\tremaining: 16.8ms\n",
      "971:\tlearn: 0.0048533\ttotal: 562ms\tremaining: 16.2ms\n",
      "972:\tlearn: 0.0048506\ttotal: 562ms\tremaining: 15.6ms\n",
      "973:\tlearn: 0.0048332\ttotal: 562ms\tremaining: 15ms\n",
      "974:\tlearn: 0.0048305\ttotal: 563ms\tremaining: 14.4ms\n",
      "975:\tlearn: 0.0048278\ttotal: 563ms\tremaining: 13.9ms\n",
      "976:\tlearn: 0.0048212\ttotal: 564ms\tremaining: 13.3ms\n",
      "977:\tlearn: 0.0048185\ttotal: 564ms\tremaining: 12.7ms\n",
      "978:\tlearn: 0.0048119\ttotal: 565ms\tremaining: 12.1ms\n",
      "979:\tlearn: 0.0048096\ttotal: 565ms\tremaining: 11.5ms\n",
      "980:\tlearn: 0.0047926\ttotal: 566ms\tremaining: 11ms\n",
      "981:\tlearn: 0.0047903\ttotal: 566ms\tremaining: 10.4ms\n",
      "982:\tlearn: 0.0047726\ttotal: 567ms\tremaining: 9.8ms\n",
      "983:\tlearn: 0.0047661\ttotal: 567ms\tremaining: 9.22ms\n",
      "984:\tlearn: 0.0047475\ttotal: 567ms\tremaining: 8.64ms\n",
      "985:\tlearn: 0.0047411\ttotal: 568ms\tremaining: 8.06ms\n",
      "986:\tlearn: 0.0047385\ttotal: 568ms\tremaining: 7.48ms\n",
      "987:\tlearn: 0.0047212\ttotal: 569ms\tremaining: 6.91ms\n",
      "988:\tlearn: 0.0047149\ttotal: 569ms\tremaining: 6.33ms\n",
      "989:\tlearn: 0.0047086\ttotal: 570ms\tremaining: 5.75ms\n",
      "990:\tlearn: 0.0047063\ttotal: 570ms\tremaining: 5.18ms\n",
      "991:\tlearn: 0.0046882\ttotal: 571ms\tremaining: 4.6ms\n",
      "992:\tlearn: 0.0046820\ttotal: 571ms\tremaining: 4.03ms\n",
      "993:\tlearn: 0.0046795\ttotal: 572ms\tremaining: 3.45ms\n",
      "994:\tlearn: 0.0046624\ttotal: 572ms\tremaining: 2.88ms\n",
      "995:\tlearn: 0.0046563\ttotal: 573ms\tremaining: 2.3ms\n",
      "996:\tlearn: 0.0046315\ttotal: 573ms\tremaining: 1.73ms\n",
      "997:\tlearn: 0.0046293\ttotal: 574ms\tremaining: 1.15ms\n",
      "998:\tlearn: 0.0046102\ttotal: 574ms\tremaining: 574us\n",
      "999:\tlearn: 0.0046077\ttotal: 575ms\tremaining: 0us\n"
     ]
    },
    {
     "data": {
      "text/plain": [
       "<catboost.core.CatBoostRegressor at 0x7f80c9397f40>"
      ]
     },
     "execution_count": 9,
     "metadata": {},
     "output_type": "execute_result"
    }
   ],
   "source": [
    "#Train the Model \n",
    "prior_model = ctb.CatBoostRegressor()\n",
    "prior_model.fit(X_train,Y_train)"
   ]
  },
  {
   "cell_type": "code",
   "execution_count": 10,
   "id": "af65dcda",
   "metadata": {
    "execution": {
     "iopub.execute_input": "2022-06-07T07:13:52.926048Z",
     "iopub.status.busy": "2022-06-07T07:13:52.925664Z",
     "iopub.status.idle": "2022-06-07T07:13:52.932952Z",
     "shell.execute_reply": "2022-06-07T07:13:52.933187Z"
    },
    "id": "af65dcda",
    "papermill": {
     "duration": 0.020805,
     "end_time": "2022-06-07T07:13:52.933360",
     "exception": false,
     "start_time": "2022-06-07T07:13:52.912555",
     "status": "completed"
    },
    "tags": []
   },
   "outputs": [
    {
     "data": {
      "application/scrapbook.scrap.json+json": {
       "data": 0.23257677033707297,
       "encoder": "json",
       "name": "Prior Model MSE",
       "version": 1
      }
     },
     "metadata": {
      "scrapbook": {
       "data": true,
       "display": false,
       "name": "Prior Model MSE"
      }
     },
     "output_type": "display_data"
    },
    {
     "data": {
      "application/scrapbook.scrap.json+json": {
       "data": 0.2286415754630282,
       "encoder": "json",
       "name": "ABC Pre-generator MSE",
       "version": 1
      }
     },
     "metadata": {
      "scrapbook": {
       "data": true,
       "display": false,
       "name": "ABC Pre-generator MSE"
      }
     },
     "output_type": "display_data"
    },
    {
     "data": {
      "application/scrapbook.scrap.json+json": {
       "data": 0.31986352043966526,
       "encoder": "json",
       "name": "Prior Model MSE",
       "version": 1
      }
     },
     "metadata": {
      "scrapbook": {
       "data": true,
       "display": false,
       "name": "Prior Model MSE"
      }
     },
     "output_type": "display_data"
    },
    {
     "data": {
      "application/scrapbook.scrap.json+json": {
       "data": 0.3190625773523637,
       "encoder": "json",
       "name": "ABC Pre-generator MSE",
       "version": 1
      }
     },
     "metadata": {
      "scrapbook": {
       "data": true,
       "display": false,
       "name": "ABC Pre-generator MSE"
      }
     },
     "output_type": "display_data"
    }
   ],
   "source": [
    "y_pred = prior_model.predict(X_test)\n",
    "y_abc = y_pred + np.random.normal(0,variance, y_pred.shape) + bias \n",
    "mse = mean_squared_error(y_pred,Y_test)\n",
    "sb.glue(\"Prior Model MSE\",mse)\n",
    "mse = mean_squared_error(y_abc,Y_test)\n",
    "sb.glue(\"ABC Pre-generator MSE\",mse)\n",
    "mae = mean_absolute_error(y_pred,Y_test)\n",
    "sb.glue(\"Prior Model MSE\",mae)\n",
    "mae = mean_absolute_error(y_abc,Y_test)\n",
    "sb.glue(\"ABC Pre-generator MSE\",mae)"
   ]
  },
  {
   "cell_type": "markdown",
   "id": "25609da2",
   "metadata": {
    "papermill": {
     "duration": 0.009937,
     "end_time": "2022-06-07T07:13:52.953253",
     "exception": false,
     "start_time": "2022-06-07T07:13:52.943316",
     "status": "completed"
    },
    "tags": []
   },
   "source": [
    "# ABC GAN Model"
   ]
  },
  {
   "cell_type": "code",
   "execution_count": 11,
   "id": "dfc3464d",
   "metadata": {
    "execution": {
     "iopub.execute_input": "2022-06-07T07:13:52.976295Z",
     "iopub.status.busy": "2022-06-07T07:13:52.975921Z",
     "iopub.status.idle": "2022-06-07T07:13:52.978387Z",
     "shell.execute_reply": "2022-06-07T07:13:52.978625Z"
    },
    "papermill": {
     "duration": 0.015963,
     "end_time": "2022-06-07T07:13:52.978740",
     "exception": false,
     "start_time": "2022-06-07T07:13:52.962777",
     "status": "completed"
    },
    "tags": []
   },
   "outputs": [],
   "source": [
    "gen = network.Generator(n_features+1).to(device)\n",
    "disc = network.Discriminator(n_features+1).to(device)\n",
    "\n",
    "criterion = torch.nn.BCELoss()\n",
    "gen_opt = torch.optim.Adam(gen.parameters(), lr=0.001, betas=(0.5, 0.999))\n",
    "disc_opt = torch.optim.Adam(disc.parameters(), lr=0.001, betas=(0.5, 0.999))"
   ]
  },
  {
   "cell_type": "code",
   "execution_count": 12,
   "id": "b75fdd85",
   "metadata": {
    "execution": {
     "iopub.execute_input": "2022-06-07T07:13:53.003891Z",
     "iopub.status.busy": "2022-06-07T07:13:53.003499Z",
     "iopub.status.idle": "2022-06-07T07:14:09.458732Z",
     "shell.execute_reply": "2022-06-07T07:14:09.459040Z"
    },
    "papermill": {
     "duration": 16.470526,
     "end_time": "2022-06-07T07:14:09.459163",
     "exception": false,
     "start_time": "2022-06-07T07:13:52.988637",
     "status": "completed"
    },
    "tags": []
   },
   "outputs": [
    {
     "data": {
      "image/png": "[encoded data removed]",
      "text/plain": [
       "<Figure size 432x288 with 1 Axes>"
      ]
     },
     "metadata": {
      "needs_background": "light"
     },
     "output_type": "display_data"
    },
    {
     "data": {
      "image/png": "[encoded data removed]",
      "text/plain": [
       "<Figure size 432x288 with 1 Axes>"
      ]
     },
     "metadata": {
      "needs_background": "light"
     },
     "output_type": "display_data"
    }
   ],
   "source": [
    "#Training the ABC_GAN \n",
    "ABC_train_test2.training_GAN(disc,gen,disc_opt,gen_opt,train_data,batch_size,n_epochs,criterion,prior_model,variance,bias,device)"
   ]
  },
  {
   "cell_type": "code",
   "execution_count": 13,
   "id": "1fa7c368",
   "metadata": {
    "execution": {
     "iopub.execute_input": "2022-06-07T07:14:09.484275Z",
     "iopub.status.busy": "2022-06-07T07:14:09.483872Z",
     "iopub.status.idle": "2022-06-07T07:14:09.658806Z",
     "shell.execute_reply": "2022-06-07T07:14:09.659190Z"
    },
    "papermill": {
     "duration": 0.189125,
     "end_time": "2022-06-07T07:14:09.659313",
     "exception": false,
     "start_time": "2022-06-07T07:14:09.470188",
     "status": "completed"
    },
    "tags": []
   },
   "outputs": [
    {
     "data": {
      "application/scrapbook.scrap.json+json": {
       "data": 0.23530636280012854,
       "encoder": "json",
       "name": "ABC-GAN Model 1 MSE",
       "version": 1
      }
     },
     "metadata": {
      "scrapbook": {
       "data": true,
       "display": false,
       "name": "ABC-GAN Model 1 MSE"
      }
     },
     "output_type": "display_data"
    },
    {
     "data": {
      "application/scrapbook.scrap.json+json": {
       "data": 0.35149491871893407,
       "encoder": "json",
       "name": "ABC-GAN Model 1 MAE",
       "version": 1
      }
     },
     "metadata": {
      "scrapbook": {
       "data": true,
       "display": false,
       "name": "ABC-GAN Model 1 MAE"
      }
     },
     "output_type": "display_data"
    },
    {
     "data": {
      "application/scrapbook.scrap.json+json": {
       "data": 7.029898374378681,
       "encoder": "json",
       "name": "ABC-GAN Model 1 Manhattan Distance",
       "version": 1
      }
     },
     "metadata": {
      "scrapbook": {
       "data": true,
       "display": false,
       "name": "ABC-GAN Model 1 Manhattan Distance"
      }
     },
     "output_type": "display_data"
    },
    {
     "data": {
      "application/scrapbook.scrap.json+json": {
       "data": 2.169350275516932,
       "encoder": "json",
       "name": "ABC-GAN Model 1 Euclidean distance",
       "version": 1
      }
     },
     "metadata": {
      "scrapbook": {
       "data": true,
       "display": false,
       "name": "ABC-GAN Model 1 Euclidean distance"
      }
     },
     "output_type": "display_data"
    },
    {
     "data": {
      "application/scrapbook.scrap.json+json": {
       "data": [
        [
         0.23478600578722633,
         0.23518706068797424,
         0.23534320842096715,
         0.23365448516993093,
         0.23371146716885863,
         0.23586305864658802,
         0.23271176493319784,
         0.2339353648765988,
         0.23422219718213041,
         0.23476681768887642,
         0.23463377188773654,
         0.23386581760926273,
         0.23619918535157272,
         0.23631494950107873,
         0.23604742751313004,
         0.23171199877298787,
         0.23675125840723893,
         0.23520244010466568,
         0.23705575176244262,
         0.2375324061451553,
         0.23739196317730857,
         0.2346144611867901,
         0.23351769257878646,
         0.2328028637143542,
         0.23471690076313836,
         0.23577658399092566,
         0.23405069358353242,
         0.23385879809833168,
         0.2353082761720371,
         0.2353643093809017,
         0.23525560903081075,
         0.235863859689783,
         0.23359669827076815,
         0.235685606827297,
         0.23586112149916846,
         0.23713569606675455,
         0.23729547373473858,
         0.23587269637726785,
         0.2353237753833794,
         0.23450483358308954,
         0.23611071555666158,
         0.2360993631678042,
         0.2341970415775522,
         0.23576328949758713,
         0.23553486710453825,
         0.23304016085878815,
         0.23515949552566978,
         0.23508652025877202,
         0.2346890646111098,
         0.23508606934037388,
         0.23539082701337302,
         0.2370499909136216,
         0.23263701791433972,
         0.2348976329566513,
         0.23373290103357588,
         0.2348811287999346,
         0.2371012339153195,
         0.23779648273606657,
         0.23734802017945128,
         0.23593837991132743,
         0.23678968839308703,
         0.2352805635020045,
         0.23595575481919875,
         0.23487063773967654,
         0.23438384471184798,
         0.23546558919319566,
         0.2335687679399824,
         0.23719431233699034,
         0.2349194855903162,
         0.23362576495314863,
         0.2355597664337971,
         0.23527884422509535,
         0.23599196008055628,
         0.23645711286193608,
         0.23686140243319237,
         0.2366127751374,
         0.23465963617698002,
         0.23602370309010617,
         0.23873032325083074,
         0.2341418218952104,
         0.2340081252827527,
         0.23456519006847185,
         0.2362387855756582,
         0.23807400052406544,
         0.23675254281854627,
         0.2348136421458605,
         0.23374851625379495,
         0.23287391348750766,
         0.23483741485906315,
         0.23537481751667189,
         0.23507325728080178,
         0.2378083360302691,
         0.237294663258354,
         0.23004183810326184,
         0.23598796014276263,
         0.23707790187561315,
         0.23815109534974632,
         0.2333301847132315,
         0.2362746355663528,
         0.23510315079621483
        ],
        [
         0.3508051371201873,
         0.3521810518577695,
         0.35041994918137787,
         0.3479605304077268,
         0.3473014527931809,
         0.3496350819244981,
         0.34747525993734596,
         0.34933126661926506,
         0.349685045145452,
         0.35160213205963375,
         0.3506383551284671,
         0.3486263336613774,
         0.35370348338037727,
         0.35084628257900474,
         0.3522772850468755,
         0.3496725270524621,
         0.35316550824791193,
         0.3495280848816037,
         0.3519743261858821,
         0.35468148421496154,
         0.35332870576530695,
         0.3497184386476874,
         0.3486473673954606,
         0.3511559532955289,
         0.35016902480274437,
         0.3529433088377118,
         0.34934229869395494,
         0.35191558543592694,
         0.35054234582930804,
         0.35029578786343335,
         0.3511092184111476,
         0.3534141706302762,
         0.34949936289340255,
         0.35267282035201786,
         0.3528689039871097,
         0.3542218880727887,
         0.3515629069879651,
         0.3513203112408519,
         0.35530389528721573,
         0.352244727127254,
         0.35224884692579506,
         0.3511562874540687,
         0.35134140457957985,
         0.35117356572300196,
         0.3501540968194604,
         0.3495019355788827,
         0.3504450974985957,
         0.3528352020308375,
         0.3499801507219672,
         0.35053913835436107,
         0.35159263368695975,
         0.352580857090652,
         0.3506675558164716,
         0.3525524796918035,
         0.34969301130622626,
         0.34995221439749,
         0.3542809007689357,
         0.35305587742477657,
         0.35455666985362766,
         0.35119109097868206,
         0.3551992693915963,
         0.35025987271219494,
         0.3512615704908967,
         0.34949597511440517,
         0.3492951957508922,
         0.35211907755583527,
         0.35303900968283414,
         0.35074132923036816,
         0.3519397685304284,
         0.34797038454562423,
         0.348478957824409,
         0.35247424226254226,
         0.3523820312693715,
         0.3532016994431615,
         0.3550859237089753,
         0.3529465900734067,
         0.350379198230803,
         0.35309722032397983,
         0.3555337691679597,
         0.35050469171255827,
         0.3506256273016334,
         0.3487196618691087,
         0.35229584779590367,
         0.3542628215625882,
         0.3539527839049697,
         0.35297267269343136,
         0.35134822186082604,
         0.3491331646218896,
         0.3519223487004638,
         0.35249695722013713,
         0.3518089657649398,
         0.35480586159974337,
         0.3518198782578111,
         0.3479167202487588,
         0.3520754164084792,
         0.3518138604238629,
         0.3541170636191964,
         0.3509970808401704,
         0.3556215090677142,
         0.35209301542490723
        ],
        [
         7.016102742403746,
         7.04362103715539,
         7.008398983627558,
         6.959210608154535,
         6.946029055863619,
         6.992701638489962,
         6.94950519874692,
         6.986625332385302,
         6.9937009029090405,
         7.032042641192675,
         7.012767102569342,
         6.972526673227549,
         7.074069667607546,
         7.016925651580095,
         7.0455457009375095,
         6.993450541049242,
         7.063310164958239,
         6.990561697632074,
         7.039486523717642,
         7.093629684299231,
         7.066574115306139,
         6.994368772953749,
         6.972947347909212,
         7.023119065910578,
         7.003380496054888,
         7.058866176754236,
         6.986845973879099,
         7.038311708718538,
         7.010846916586161,
         7.005915757268667,
         7.022184368222952,
         7.068283412605524,
         6.9899872578680515,
         7.053456407040358,
         7.057378079742193,
         7.084437761455774,
         7.031258139759302,
         7.026406224817038,
         7.106077905744314,
         7.04489454254508,
         7.044976938515902,
         7.023125749081373,
         7.026828091591597,
         7.023471314460039,
         7.003081936389208,
         6.990038711577654,
         7.008901949971914,
         7.056704040616751,
         6.999603014439344,
         7.010782767087221,
         7.031852673739195,
         7.05161714181304,
         7.0133511163294315,
         7.051049593836069,
         6.993860226124525,
         6.9990442879498005,
         7.085618015378714,
         7.061117548495531,
         7.091133397072554,
         7.023821819573641,
         7.103985387831926,
         7.005197454243898,
         7.025231409817934,
         6.989919502288103,
         6.985903915017843,
         7.042381551116705,
         7.060780193656683,
         7.014826584607363,
         7.038795370608568,
         6.959407690912485,
         6.96957915648818,
         7.049484845250845,
         7.04764062538743,
         7.06403398886323,
         7.101718474179506,
         7.058931801468134,
         7.00758396461606,
         7.061944406479597,
         7.110675383359194,
         7.010093834251165,
         7.012512546032667,
         6.9743932373821735,
         7.045916955918074,
         7.085256431251764,
         7.079055678099394,
         7.0594534538686275,
         7.02696443721652,
         6.982663292437792,
         7.038446974009275,
         7.049939144402742,
         7.036179315298796,
         7.096117231994867,
         7.036397565156221,
         6.958334404975176,
         7.041508328169584,
         7.036277208477259,
         7.082341272383928,
         7.019941616803408,
         7.112430181354284,
         7.041860308498144
        ],
        [
         2.16696103235488,
         2.1688110138413363,
         2.16953086367061,
         2.161733032406781,
         2.161996610399094,
         2.171925683105147,
         2.1573676781355458,
         2.163031968680069,
         2.164357628406777,
         2.166872482121993,
         2.16625839588788,
         2.1627104180137606,
         2.1734727297648466,
         2.174005287487032,
         2.1727743900972785,
         2.152728495528351,
         2.1760112977980555,
         2.1688819244240367,
         2.1774101669756325,
         2.1795981562900777,
         2.1789537084449893,
         2.1661692509441184,
         2.1611001484373022,
         2.1577899050387375,
         2.166642105947073,
         2.1715274992084517,
         2.1635650837612093,
         2.16267796076222,
         2.169369844779986,
         2.1696281219642306,
         2.1691270549730866,
         2.1719293712723853,
         2.161465698412853,
         2.171108504093229,
         2.171916764055052,
         2.17777728919536,
         2.178510838782945,
         2.1719700567791804,
         2.169441289288002,
         2.165663102068692,
         2.1730656481416366,
         2.17301340616115,
         2.1642413986316416,
         2.171466276494236,
         2.170414094612078,
         2.1588893480620452,
         2.1686839120797194,
         2.168347390335654,
         2.166513626133516,
         2.1683453107859636,
         2.1697503405386205,
         2.1773837094716293,
         2.1570211770603445,
         2.1674761034745056,
         2.1620957473413425,
         2.1673999575525262,
         2.177619038837232,
         2.1808094035750423,
         2.1787520289351483,
         2.172272450275644,
         2.176187898105708,
         2.1692420957652674,
         2.1723524337418123,
         2.167351553115814,
         2.1651043610498224,
         2.170094879000435,
         2.16133647514672,
         2.178046428967897,
         2.1675769217737866,
         2.1616001709527533,
         2.170528813141153,
         2.1692341700475555,
         2.1725190911960075,
         2.174659112881539,
         2.176517412901594,
         2.1753747959255203,
         2.16637778873852,
         2.1726651978162956,
         2.1850872900222122,
         2.1639862379193193,
         2.1633683240851647,
         2.165941781620512,
         2.1736549200627877,
         2.1820815774121067,
         2.176017200384897,
         2.167088563699511,
         2.162167968747086,
         2.15811915096228,
         2.167198259777186,
         2.169676554312517,
         2.168286223176275,
         2.180863755626514,
         2.17850711845683,
         2.14495612124473,
         2.1725006795983406,
         2.177511891474364,
         2.1824348574459047,
         2.1602323241412322,
         2.1738198433465126,
         2.1684240858107753
        ]
       ],
       "encoder": "json",
       "name": "ABC_GAN_1 Metrics",
       "version": 1
      }
     },
     "metadata": {
      "scrapbook": {
       "data": true,
       "display": false,
       "name": "ABC_GAN_1 Metrics"
      }
     },
     "output_type": "display_data"
    },
    {
     "name": "stdout",
     "output_type": "stream",
     "text": [
      "MSE\n",
      "0.23530636280012854\n"
     ]
    }
   ],
   "source": [
    "ABC_GAN1_metrics=ABC_train_test2.test_generator(gen,test_data,prior_model,variance,bias,\"1\",device)\n",
    "sb.glue(\"ABC_GAN_1 Metrics\",ABC_GAN1_metrics)\n",
    "\n",
    "print(\"MSE\")\n",
    "print(mean(ABC_GAN1_metrics[0]))"
   ]
  },
  {
   "cell_type": "code",
   "execution_count": 14,
   "id": "eb22ce5c",
   "metadata": {
    "execution": {
     "iopub.execute_input": "2022-06-07T07:14:09.685577Z",
     "iopub.status.busy": "2022-06-07T07:14:09.685190Z",
     "iopub.status.idle": "2022-06-07T07:14:09.978971Z",
     "shell.execute_reply": "2022-06-07T07:14:09.979287Z"
    },
    "papermill": {
     "duration": 0.307963,
     "end_time": "2022-06-07T07:14:09.979416",
     "exception": false,
     "start_time": "2022-06-07T07:14:09.671453",
     "status": "completed"
    },
    "tags": []
   },
   "outputs": [
    {
     "data": {
      "image/png": "[encoded data removed]",
      "text/plain": [
       "<Figure size 432x288 with 1 Axes>"
      ]
     },
     "metadata": {
      "needs_background": "light"
     },
     "output_type": "display_data"
    },
    {
     "data": {
      "image/png": "[encoded data removed]",
      "text/plain": [
       "<Figure size 432x288 with 1 Axes>"
      ]
     },
     "metadata": {
      "needs_background": "light"
     },
     "output_type": "display_data"
    },
    {
     "data": {
      "image/png": "[encoded data removed]",
      "text/plain": [
       "<Figure size 432x288 with 1 Axes>"
      ]
     },
     "metadata": {
      "needs_background": "light"
     },
     "output_type": "display_data"
    },
    {
     "data": {
      "image/png": "[encoded data removed]",
      "text/plain": [
       "<Figure size 432x288 with 1 Axes>"
      ]
     },
     "metadata": {
      "needs_background": "light"
     },
     "output_type": "display_data"
    }
   ],
   "source": [
    "sanityChecks.discProbVsError(train_data,disc,device)\n",
    "sanityChecks.discProbVsError(test_data,disc,device)"
   ]
  },
  {
   "cell_type": "markdown",
   "id": "130f3a4d",
   "metadata": {
    "id": "130f3a4d",
    "papermill": {
     "duration": 0.039017,
     "end_time": "2022-06-07T07:14:10.033353",
     "exception": false,
     "start_time": "2022-06-07T07:14:09.994336",
     "status": "completed"
    },
    "tags": []
   },
   "source": [
    "# ABC - GAN Model with skip connection"
   ]
  },
  {
   "cell_type": "code",
   "execution_count": 15,
   "id": "4e43dad1",
   "metadata": {
    "execution": {
     "iopub.execute_input": "2022-06-07T07:14:10.067078Z",
     "iopub.status.busy": "2022-06-07T07:14:10.066676Z",
     "iopub.status.idle": "2022-06-07T07:14:10.069196Z",
     "shell.execute_reply": "2022-06-07T07:14:10.069522Z"
    },
    "id": "4e43dad1",
    "papermill": {
     "duration": 0.021069,
     "end_time": "2022-06-07T07:14:10.069689",
     "exception": false,
     "start_time": "2022-06-07T07:14:10.048620",
     "status": "completed"
    },
    "tags": []
   },
   "outputs": [],
   "source": [
    "#Generator\n",
    "gen3 = network.GeneratorWithSkipConnection(n_features+1).to(device)\n",
    "constraints=network.weightConstraint()\n",
    "#Discriminator \n",
    "disc3 = network.Discriminator(n_features+1).to(device)\n",
    "\n",
    "criterion = torch.nn.BCELoss()\n",
    "gen_opt = torch.optim.Adam(gen3.parameters(), lr=0.001, betas=(0.5, 0.999))\n",
    "disc_opt = torch.optim.Adam(disc3.parameters(), lr=0.001, betas=(0.5, 0.999))\n"
   ]
  },
  {
   "cell_type": "code",
   "execution_count": 16,
   "id": "26acbc37",
   "metadata": {
    "execution": {
     "iopub.execute_input": "2022-06-07T07:14:10.102428Z",
     "iopub.status.busy": "2022-06-07T07:14:10.101967Z",
     "iopub.status.idle": "2022-06-07T07:14:48.533722Z",
     "shell.execute_reply": "2022-06-07T07:14:48.534042Z"
    },
    "id": "26acbc37",
    "papermill": {
     "duration": 38.449744,
     "end_time": "2022-06-07T07:14:48.534178",
     "exception": false,
     "start_time": "2022-06-07T07:14:10.084434",
     "status": "completed"
    },
    "tags": []
   },
   "outputs": [
    {
     "data": {
      "image/png": "[encoded data removed]",
      "text/plain": [
       "<Figure size 432x288 with 1 Axes>"
      ]
     },
     "metadata": {
      "needs_background": "light"
     },
     "output_type": "display_data"
    },
    {
     "data": {
      "image/png": "[encoded data removed]",
      "text/plain": [
       "<Figure size 432x288 with 1 Axes>"
      ]
     },
     "metadata": {
      "needs_background": "light"
     },
     "output_type": "display_data"
    }
   ],
   "source": [
    "ABC_train_test2.training_GAN_skip_connection(disc3,gen3,disc_opt,gen_opt,train_data,batch_size,n_epochs,criterion,prior_model,variance,bias,device)"
   ]
  },
  {
   "cell_type": "code",
   "execution_count": 17,
   "id": "c5e0717b",
   "metadata": {
    "execution": {
     "iopub.execute_input": "2022-06-07T07:14:48.568399Z",
     "iopub.status.busy": "2022-06-07T07:14:48.568002Z",
     "iopub.status.idle": "2022-06-07T07:14:48.852181Z",
     "shell.execute_reply": "2022-06-07T07:14:48.852491Z"
    },
    "id": "c5e0717b",
    "papermill": {
     "duration": 0.303049,
     "end_time": "2022-06-07T07:14:48.852614",
     "exception": false,
     "start_time": "2022-06-07T07:14:48.549565",
     "status": "completed"
    },
    "tags": []
   },
   "outputs": [
    {
     "data": {
      "application/scrapbook.scrap.json+json": {
       "data": 0.2361924314821992,
       "encoder": "json",
       "name": "ABC-GAN Model 3 MSE",
       "version": 1
      }
     },
     "metadata": {
      "scrapbook": {
       "data": true,
       "display": false,
       "name": "ABC-GAN Model 3 MSE"
      }
     },
     "output_type": "display_data"
    },
    {
     "data": {
      "application/scrapbook.scrap.json+json": {
       "data": 0.3242103337943554,
       "encoder": "json",
       "name": "ABC-GAN Model 3 MAE",
       "version": 1
      }
     },
     "metadata": {
      "scrapbook": {
       "data": true,
       "display": false,
       "name": "ABC-GAN Model 3 MAE"
      }
     },
     "output_type": "display_data"
    },
    {
     "data": {
      "application/scrapbook.scrap.json+json": {
       "data": 6.4842066758871075,
       "encoder": "json",
       "name": "ABC-GAN Model 3 Manhattan Distance",
       "version": 1
      }
     },
     "metadata": {
      "scrapbook": {
       "data": true,
       "display": false,
       "name": "ABC-GAN Model 3 Manhattan Distance"
      }
     },
     "output_type": "display_data"
    },
    {
     "data": {
      "application/scrapbook.scrap.json+json": {
       "data": 2.173420768035946,
       "encoder": "json",
       "name": "ABC-GAN Model 3 Euclidean distance",
       "version": 1
      }
     },
     "metadata": {
      "scrapbook": {
       "data": true,
       "display": false,
       "name": "ABC-GAN Model 3 Euclidean distance"
      }
     },
     "output_type": "display_data"
    },
    {
     "data": {
      "application/scrapbook.scrap.json+json": {
       "data": [
        [
         0.23423222386362091,
         0.23273258077128825,
         0.23669422082572478,
         0.23562201721439893,
         0.23380864529379625,
         0.23358285860307068,
         0.23859784861137162,
         0.23937000058333502,
         0.23232757946578203,
         0.23608079111171865,
         0.23630456312780995,
         0.23655398681932366,
         0.23551198971446916,
         0.23997480843092434,
         0.23477469957371627,
         0.23282661089842924,
         0.23211551534359617,
         0.23862368015537622,
         0.2365171678262537,
         0.23485360245078124,
         0.23496163323296965,
         0.23597946614614823,
         0.23603080961013823,
         0.23562202297950022,
         0.23765120544009818,
         0.2373700259136688,
         0.2398805862946515,
         0.23587136886594623,
         0.23729362244228538,
         0.2326873080423327,
         0.23377346714727523,
         0.23493823297045546,
         0.2373034820131993,
         0.23595628219801507,
         0.23823058805577108,
         0.2388757883825773,
         0.23964619528798697,
         0.2382839103740348,
         0.23749761913170228,
         0.23543632291561717,
         0.23648613412136138,
         0.2376690814838896,
         0.23703926526768448,
         0.23545710335224374,
         0.23438841057877796,
         0.23669398315811696,
         0.24168991047617067,
         0.23663164849161547,
         0.23431011464664256,
         0.23149918747295098,
         0.2384591867812734,
         0.2368821464321545,
         0.23557924353326457,
         0.23681271404783635,
         0.2334867072466728,
         0.23622950063017698,
         0.2366528192761658,
         0.23718006396601404,
         0.23637901661445676,
         0.2361586229404351,
         0.23918472842079352,
         0.2389219703024755,
         0.23539623485605174,
         0.23709020343246784,
         0.2377618492987738,
         0.23587668841541926,
         0.2335291099763313,
         0.2405164421327807,
         0.2401630832438751,
         0.2336028038199572,
         0.2376442615996041,
         0.2391207503521639,
         0.2366726652671777,
         0.23457366932850002,
         0.23478483101341102,
         0.23705605669346932,
         0.2369579434526709,
         0.23503313190512146,
         0.23454990591189268,
         0.23273791410816402,
         0.23598367929433897,
         0.23605163187545758,
         0.23752266648290976,
         0.23468844309702655,
         0.23806543815324704,
         0.23505518520738894,
         0.23539876769117868,
         0.23518702068322667,
         0.23607743518034194,
         0.23861388951038873,
         0.23262984841638662,
         0.23412420938307377,
         0.2324938107623494,
         0.2360494605999261,
         0.2373945637568479,
         0.23643926455293401,
         0.23605662048753945,
         0.23363328505456069,
         0.23722322575627036,
         0.2393002700963621
        ],
        [
         0.3227956754155457,
         0.3201211519073695,
         0.326017452031374,
         0.32240944346413014,
         0.3218591785058379,
         0.32080702781677245,
         0.3240213703829795,
         0.3257835778407753,
         0.32122891005128623,
         0.32349795224145056,
         0.32301934203132987,
         0.32412866335362195,
         0.3246063723228872,
         0.3248948220163584,
         0.3259647725149989,
         0.3198947025462985,
         0.32256371397525074,
         0.32232700726017355,
         0.32503148103132845,
         0.3252814310602844,
         0.32180696446448565,
         0.32444441989064216,
         0.32180907083675264,
         0.3223386215046048,
         0.32452459875494244,
         0.325580501742661,
         0.32613764158450065,
         0.32279318701475856,
         0.32393247466534375,
         0.3220945273526013,
         0.3229986851103604,
         0.3248115399852395,
         0.32361399913206695,
         0.32500706976279614,
         0.3275808756239712,
         0.32446593972854315,
         0.3273928379639983,
         0.3253959519788623,
         0.3265936364419758,
         0.3220273496583104,
         0.3245967417024076,
         0.32362555526196957,
         0.3243666412308812,
         0.32365115024149416,
         0.3249522973783314,
         0.32352641061879694,
         0.32782338801771405,
         0.32667857902124525,
         0.32174636693671343,
         0.3210390583612025,
         0.325632731243968,
         0.3241161677055061,
         0.32440593363717196,
         0.3247170708142221,
         0.32312697349116204,
         0.3262068578973413,
         0.324941592477262,
         0.32633200427517295,
         0.3236753713805228,
         0.3245106132235378,
         0.32722860416397453,
         0.3274526664987206,
         0.3225975130684674,
         0.3232824389822781,
         0.3271430453285575,
         0.3234285834711045,
         0.3203184555284679,
         0.3302847732789814,
         0.32643250105902555,
         0.32541818055324256,
         0.32775966823101044,
         0.325281035900116,
         0.3236313525121659,
         0.3229743945412338,
         0.3220757429488003,
         0.3232262901961803,
         0.32356309620663526,
         0.32501730415970087,
         0.3222057862207294,
         0.32184150805696843,
         0.32655445151031015,
         0.32578414436429737,
         0.32500834995880723,
         0.3245001138653606,
         0.32531158775091173,
         0.3241792475804687,
         0.32411670600995424,
         0.3230484051629901,
         0.3255114020779729,
         0.32509128134697673,
         0.32259380612522365,
         0.3243471425026655,
         0.3201110018417239,
         0.3262347015552223,
         0.3233065905049443,
         0.3244719559326768,
         0.32619509100914,
         0.32477775430306793,
         0.32291200435720385,
         0.3245392548851669
        ],
        [
         6.455913508310914,
         6.40242303814739,
         6.5203490406274796,
         6.448188869282603,
         6.437183570116758,
         6.416140556335449,
         6.48042740765959,
         6.515671556815505,
         6.424578201025724,
         6.469959044829011,
         6.460386840626597,
         6.482573267072439,
         6.492127446457744,
         6.4978964403271675,
         6.519295450299978,
         6.39789405092597,
         6.451274279505014,
         6.446540145203471,
         6.500629620626569,
         6.5056286212056875,
         6.436139289289713,
         6.488888397812843,
         6.436181416735053,
         6.446772430092096,
         6.490491975098848,
         6.51161003485322,
         6.522752831690013,
         6.455863740295172,
         6.478649493306875,
         6.441890547052026,
         6.459973702207208,
         6.49623079970479,
         6.472279982641339,
         6.500141395255923,
         6.5516175124794245,
         6.489318794570863,
         6.547856759279966,
         6.507919039577246,
         6.531872728839517,
         6.440546993166208,
         6.491934834048152,
         6.472511105239391,
         6.487332824617624,
         6.473023004829884,
         6.4990459475666285,
         6.470528212375939,
         6.5564677603542805,
         6.533571580424905,
         6.434927338734269,
         6.42078116722405,
         6.51265462487936,
         6.482323354110122,
         6.48811867274344,
         6.494341416284442,
         6.462539469823241,
         6.524137157946825,
         6.49883184954524,
         6.526640085503459,
         6.473507427610457,
         6.490212264470756,
         6.5445720832794905,
         6.549053329974413,
         6.451950261369348,
         6.465648779645562,
         6.54286090657115,
         6.46857166942209,
         6.406369110569358,
         6.605695465579629,
         6.5286500211805105,
         6.508363611064851,
         6.555193364620209,
         6.505620718002319,
         6.472627050243318,
         6.459487890824676,
         6.4415148589760065,
         6.464525803923607,
         6.471261924132705,
         6.500346083194017,
         6.444115724414587,
         6.436830161139369,
         6.5310890302062035,
         6.515682887285948,
         6.500166999176145,
         6.490002277307212,
         6.506231755018234,
         6.483584951609373,
         6.482334120199084,
         6.460968103259802,
         6.510228041559458,
         6.501825626939535,
         6.451876122504473,
         6.48694285005331,
         6.402220036834478,
         6.5246940311044455,
         6.4661318100988865,
         6.489439118653536,
         6.5239018201828,
         6.4955550860613585,
         6.458240087144077,
         6.490785097703338
        ],
        [
         2.1644039542729585,
         2.157464163184586,
         2.1757491621311718,
         2.1708155942612857,
         2.1624460469283218,
         2.1614016683766613,
         2.1844809388565127,
         2.1880127997035803,
         2.155586135907271,
         2.172927937653334,
         2.1739575116722496,
         2.1751045345882742,
         2.1703086864060106,
         2.190775243747858,
         2.1669088562914514,
         2.157899955505024,
         2.1546021226370136,
         2.184599185916612,
         2.174935253409874,
         2.167272952125695,
         2.1677713589443406,
         2.172461581460755,
         2.1726979063373637,
         2.170815620818591,
         2.1801431395213395,
         2.1788530281488416,
         2.190345115705064,
         2.171963944755742,
         2.178502340794177,
         2.1572543106566395,
         2.162283363240235,
         2.1676634100821808,
         2.178547598806137,
         2.1723548614257986,
         2.182799065675863,
         2.1857529063577945,
         2.189274744238315,
         2.1830433361435353,
         2.1794385475700033,
         2.169960013067601,
         2.1747925607807352,
         2.180225132796563,
         2.177334449585936,
         2.170055775100003,
         2.1651254493852217,
         2.175748069782515,
         2.198590050355776,
         2.1754615532875565,
         2.1647637961063677,
         2.1517397029982552,
         2.1838460878975576,
         2.1766127190299818,
         2.170618545637462,
         2.1762937028252245,
         2.1609567660953926,
         2.17361220382191,
         2.175558867400125,
         2.17798100986218,
         2.1742999637329565,
         2.1732860968608576,
         2.1871658758347228,
         2.1859641822430462,
         2.169775264196971,
         2.1775683843795486,
         2.1806505877777567,
         2.1719884365042983,
         2.161152979204995,
         2.1932461883371905,
         2.1916344733731266,
         2.1614939454921323,
         2.180111288900657,
         2.1868733404208114,
         2.175650087983717,
         2.165980929410506,
         2.1669556110516477,
         2.177411567405066,
         2.176960925017585,
         2.168101159563923,
         2.1658712146011485,
         2.157488883439097,
         2.1724809748043317,
         2.1727937402130815,
         2.1795534702452692,
         2.1665107574024485,
         2.1820423375968074,
         2.1682028743057646,
         2.169786937425786,
         2.168810829386586,
         2.172912493315559,
         2.1845543687918996,
         2.156987938846143,
         2.1639048471828595,
         2.156357163191429,
         2.17278374717746,
         2.1789656434044473,
         2.1745770372784405,
         2.1728166995286986,
         2.161634960184354,
         2.178179174247474,
         2.187694083259184
        ]
       ],
       "encoder": "json",
       "name": "ABC_GAN_3 Metrics",
       "version": 1
      }
     },
     "metadata": {
      "scrapbook": {
       "data": true,
       "display": false,
       "name": "ABC_GAN_3 Metrics"
      }
     },
     "output_type": "display_data"
    },
    {
     "name": "stdout",
     "output_type": "stream",
     "text": [
      "MSE\n",
      "0.2361924314821992\n"
     ]
    }
   ],
   "source": [
    "ABC_GAN3_metrics=ABC_train_test2.test_generator(gen3,test_data,prior_model,variance,bias,\"3\",device)\n",
    "sb.glue(\"ABC_GAN_3 Metrics\",ABC_GAN3_metrics)\n",
    "\n",
    "print(\"MSE\")\n",
    "print(mean(ABC_GAN3_metrics[0]))"
   ]
  },
  {
   "cell_type": "code",
   "execution_count": 18,
   "id": "c8e46b48",
   "metadata": {
    "execution": {
     "iopub.execute_input": "2022-06-07T07:14:48.889383Z",
     "iopub.status.busy": "2022-06-07T07:14:48.889004Z",
     "iopub.status.idle": "2022-06-07T07:14:49.171743Z",
     "shell.execute_reply": "2022-06-07T07:14:49.171991Z"
    },
    "id": "c8e46b48",
    "papermill": {
     "duration": 0.302708,
     "end_time": "2022-06-07T07:14:49.172127",
     "exception": false,
     "start_time": "2022-06-07T07:14:48.869419",
     "status": "completed"
    },
    "tags": []
   },
   "outputs": [
    {
     "data": {
      "image/png": "[encoded data removed]",
      "text/plain": [
       "<Figure size 432x288 with 1 Axes>"
      ]
     },
     "metadata": {
      "needs_background": "light"
     },
     "output_type": "display_data"
    },
    {
     "data": {
      "image/png": "[encoded data removed]",
      "text/plain": [
       "<Figure size 432x288 with 1 Axes>"
      ]
     },
     "metadata": {
      "needs_background": "light"
     },
     "output_type": "display_data"
    },
    {
     "data": {
      "image/png": "[encoded data removed]",
      "text/plain": [
       "<Figure size 432x288 with 1 Axes>"
      ]
     },
     "metadata": {
      "needs_background": "light"
     },
     "output_type": "display_data"
    },
    {
     "data": {
      "image/png": "[encoded data removed]",
      "text/plain": [
       "<Figure size 432x288 with 1 Axes>"
      ]
     },
     "metadata": {
      "needs_background": "light"
     },
     "output_type": "display_data"
    }
   ],
   "source": [
    "sanityChecks.discProbVsError(train_data,disc3,device)\n",
    "sanityChecks.discProbVsError(test_data,disc3,device)"
   ]
  },
  {
   "cell_type": "markdown",
   "id": "a5bd74c3",
   "metadata": {
    "id": "a5bd74c3",
    "papermill": {
     "duration": 0.019487,
     "end_time": "2022-06-07T07:14:49.211543",
     "exception": false,
     "start_time": "2022-06-07T07:14:49.192056",
     "status": "completed"
    },
    "tags": []
   },
   "source": [
    "## Skip Connection Model Analysis - ABC-GAN "
   ]
  },
  {
   "cell_type": "markdown",
   "id": "5744a8bf",
   "metadata": {
    "id": "5744a8bf",
    "papermill": {
     "duration": 0.019508,
     "end_time": "2022-06-07T07:14:49.251154",
     "exception": false,
     "start_time": "2022-06-07T07:14:49.231646",
     "status": "completed"
    },
    "tags": []
   },
   "source": [
    "### Weight Analysis \n",
    "\n",
    "Study the weights of the skip connection layer\n",
    "\n",
    "Equation of the skip connection is \n",
    "\n",
    "$output = y_{gan} * w + y_{abc} * (1-w)$"
   ]
  },
  {
   "cell_type": "code",
   "execution_count": 19,
   "id": "52c31dea",
   "metadata": {
    "execution": {
     "iopub.execute_input": "2022-06-07T07:14:49.292504Z",
     "iopub.status.busy": "2022-06-07T07:14:49.292123Z",
     "iopub.status.idle": "2022-06-07T07:14:49.295793Z",
     "shell.execute_reply": "2022-06-07T07:14:49.296030Z"
    },
    "id": "52c31dea",
    "papermill": {
     "duration": 0.025732,
     "end_time": "2022-06-07T07:14:49.296150",
     "exception": false,
     "start_time": "2022-06-07T07:14:49.270418",
     "status": "completed"
    },
    "tags": []
   },
   "outputs": [
    {
     "name": "stdout",
     "output_type": "stream",
     "text": [
      "Weight of the node at skip connection\n",
      "Parameter containing:\n",
      "tensor([[0.0239]], requires_grad=True)\n"
     ]
    },
    {
     "data": {
      "application/scrapbook.scrap.json+json": {
       "data": 0.02385139651596546,
       "encoder": "json",
       "name": "Skip Connection Weight",
       "version": 1
      }
     },
     "metadata": {
      "scrapbook": {
       "data": true,
       "display": false,
       "name": "Skip Connection Weight"
      }
     },
     "output_type": "display_data"
    }
   ],
   "source": [
    "print(\"Weight of the node at skip connection\")\n",
    "for name,param in gen3.named_parameters():\n",
    "    if(name == \"skipNode.weight\"):\n",
    "        print(param)\n",
    "        sb.glue(\"Skip Connection Weight\",param.item())"
   ]
  }
 ],
 "metadata": {
  "colab": {
   "collapsed_sections": [],
   "name": "ABC_GAN_Model-Catboost_Pre-gen.ipynb",
   "provenance": []
  },
  "interpreter": {
   "hash": "31f2aee4e71d21fbe5cf8b01ff0e069b9275f58929596ceb00d14d90e3e16cd6"
  },
  "kernelspec": {
   "display_name": "Python 3 (ipykernel)",
   "language": "python",
   "name": "python3"
  },
  "language_info": {
   "codemirror_mode": {
    "name": "ipython",
    "version": 3
   },
   "file_extension": ".py",
   "mimetype": "text/x-python",
   "name": "python",
   "nbconvert_exporter": "python",
   "pygments_lexer": "ipython3",
   "version": "3.8.11"
  },
  "papermill": {
   "default_parameters": {},
   "duration": 60.334924,
   "end_time": "2022-06-07T07:14:49.623607",
   "environment_variables": {},
   "exception": null,
   "input_path": "ABC_GAN-Catboost.ipynb",
   "output_path": "./ABC_GAN_Catboost/ABC-GAN_output_9_8.ipynb",
   "parameters": {
    "bias": 0.01,
    "variance": 0.01
   },
   "start_time": "2022-06-07T07:13:49.288683",
   "version": "2.3.3"
  }
 },
 "nbformat": 4,
 "nbformat_minor": 5
}