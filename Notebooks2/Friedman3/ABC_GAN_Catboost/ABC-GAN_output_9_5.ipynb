{
 "cells": [
  {
   "cell_type": "markdown",
   "id": "622780e6",
   "metadata": {
    "id": "622780e6",
    "papermill": {
     "duration": 0.030468,
     "end_time": "2022-06-07T07:10:43.328175",
     "exception": false,
     "start_time": "2022-06-07T07:10:43.297707",
     "status": "completed"
    },
    "tags": []
   },
   "source": [
    "## Import Libraries "
   ]
  },
  {
   "cell_type": "code",
   "execution_count": 1,
   "id": "a62397e3",
   "metadata": {
    "execution": {
     "iopub.execute_input": "2022-06-07T07:10:43.367403Z",
     "iopub.status.busy": "2022-06-07T07:10:43.366785Z",
     "iopub.status.idle": "2022-06-07T07:10:43.368926Z",
     "shell.execute_reply": "2022-06-07T07:10:43.369314Z"
    },
    "id": "a62397e3",
    "papermill": {
     "duration": 0.023399,
     "end_time": "2022-06-07T07:10:43.369528",
     "exception": false,
     "start_time": "2022-06-07T07:10:43.346129",
     "status": "completed"
    },
    "tags": []
   },
   "outputs": [],
   "source": [
    "import warnings\n",
    "import sys\n",
    "sys.path.insert(0, '../../src')\n",
    "warnings.filterwarnings('ignore')"
   ]
  },
  {
   "cell_type": "code",
   "execution_count": 2,
   "id": "d6a4e155",
   "metadata": {
    "execution": {
     "iopub.execute_input": "2022-06-07T07:10:43.390243Z",
     "iopub.status.busy": "2022-06-07T07:10:43.389828Z",
     "iopub.status.idle": "2022-06-07T07:10:45.020501Z",
     "shell.execute_reply": "2022-06-07T07:10:45.020737Z"
    },
    "id": "d6a4e155",
    "papermill": {
     "duration": 1.641632,
     "end_time": "2022-06-07T07:10:45.020868",
     "exception": false,
     "start_time": "2022-06-07T07:10:43.379236",
     "status": "completed"
    },
    "tags": []
   },
   "outputs": [],
   "source": [
    "import ABC_train_test2\n",
    "import friedman1Dataset\n",
    "import network\n",
    "import dataset\n",
    "import sanityChecks\n",
    "import torch \n",
    "import scrapbook as sb\n",
    "from statistics import mean \n",
    "import catboost as ctb \n",
    "from sklearn.model_selection import train_test_split\n",
    "from sklearn.metrics import mean_squared_error,mean_absolute_error\n",
    "import numpy as np"
   ]
  },
  {
   "cell_type": "markdown",
   "id": "2fa5b0f7",
   "metadata": {
    "id": "2fa5b0f7",
    "papermill": {
     "duration": 0.007103,
     "end_time": "2022-06-07T07:10:45.035200",
     "exception": false,
     "start_time": "2022-06-07T07:10:45.028097",
     "status": "completed"
    },
    "tags": []
   },
   "source": [
    "## Parameters "
   ]
  },
  {
   "cell_type": "code",
   "execution_count": 3,
   "id": "783186fb",
   "metadata": {
    "execution": {
     "iopub.execute_input": "2022-06-07T07:10:45.051213Z",
     "iopub.status.busy": "2022-06-07T07:10:45.050841Z",
     "iopub.status.idle": "2022-06-07T07:10:45.052088Z",
     "shell.execute_reply": "2022-06-07T07:10:45.052320Z"
    },
    "id": "783186fb",
    "papermill": {
     "duration": 0.010349,
     "end_time": "2022-06-07T07:10:45.052430",
     "exception": false,
     "start_time": "2022-06-07T07:10:45.042081",
     "status": "completed"
    },
    "tags": [
     "parameters"
    ]
   },
   "outputs": [],
   "source": [
    "variance = 1\n",
    "bias = 1 "
   ]
  },
  {
   "cell_type": "code",
   "execution_count": 4,
   "id": "fed92485",
   "metadata": {
    "execution": {
     "iopub.execute_input": "2022-06-07T07:10:45.068129Z",
     "iopub.status.busy": "2022-06-07T07:10:45.067765Z",
     "iopub.status.idle": "2022-06-07T07:10:45.069010Z",
     "shell.execute_reply": "2022-06-07T07:10:45.069265Z"
    },
    "papermill": {
     "duration": 0.010004,
     "end_time": "2022-06-07T07:10:45.069379",
     "exception": false,
     "start_time": "2022-06-07T07:10:45.059375",
     "status": "completed"
    },
    "tags": [
     "injected-parameters"
    ]
   },
   "outputs": [],
   "source": [
    "# Parameters\n",
    "variance = 0.01\n",
    "bias = 0.1\n"
   ]
  },
  {
   "cell_type": "markdown",
   "id": "391cdbfd",
   "metadata": {
    "id": "391cdbfd",
    "papermill": {
     "duration": 0.006979,
     "end_time": "2022-06-07T07:10:45.083345",
     "exception": false,
     "start_time": "2022-06-07T07:10:45.076366",
     "status": "completed"
    },
    "tags": []
   },
   "source": [
    "## Dataset \n"
   ]
  },
  {
   "cell_type": "code",
   "execution_count": 5,
   "id": "5b51f161",
   "metadata": {
    "execution": {
     "iopub.execute_input": "2022-06-07T07:10:45.099188Z",
     "iopub.status.busy": "2022-06-07T07:10:45.098783Z",
     "iopub.status.idle": "2022-06-07T07:10:45.099872Z",
     "shell.execute_reply": "2022-06-07T07:10:45.100108Z"
    },
    "id": "5b51f161",
    "papermill": {
     "duration": 0.00992,
     "end_time": "2022-06-07T07:10:45.100215",
     "exception": false,
     "start_time": "2022-06-07T07:10:45.090295",
     "status": "completed"
    },
    "tags": []
   },
   "outputs": [],
   "source": [
    "#Parameters \n",
    "n_features = 5\n",
    "n_samples= 100\n",
    "n_target = 1 "
   ]
  },
  {
   "cell_type": "code",
   "execution_count": 6,
   "id": "5d6eced4",
   "metadata": {
    "execution": {
     "iopub.execute_input": "2022-06-07T07:10:45.117806Z",
     "iopub.status.busy": "2022-06-07T07:10:45.117448Z",
     "iopub.status.idle": "2022-06-07T07:10:45.122228Z",
     "shell.execute_reply": "2022-06-07T07:10:45.122479Z"
    },
    "id": "5d6eced4",
    "papermill": {
     "duration": 0.015278,
     "end_time": "2022-06-07T07:10:45.122596",
     "exception": false,
     "start_time": "2022-06-07T07:10:45.107318",
     "status": "completed"
    },
    "tags": []
   },
   "outputs": [
    {
     "name": "stdout",
     "output_type": "stream",
     "text": [
      "         X0        X1        X2        X3        X4         Y\n",
      "0  1.031200 -0.795507 -0.003658 -0.797936 -1.051797 -0.882386\n",
      "1 -0.081114  0.632485  0.853908  0.400307  1.410320  1.064356\n",
      "2 -1.495118 -1.418808 -1.224123 -1.651995 -1.309652 -2.075015\n",
      "3 -1.459460  0.220651 -0.977123 -0.842320  1.299608 -0.831805\n",
      "4  0.519497 -0.648208 -0.094163  0.621553  0.742181  0.488864\n"
     ]
    }
   ],
   "source": [
    "X,Y = friedman1Dataset.friedman1_data(n_samples,n_features)"
   ]
  },
  {
   "cell_type": "code",
   "execution_count": 7,
   "id": "fe007438",
   "metadata": {
    "execution": {
     "iopub.execute_input": "2022-06-07T07:10:45.139985Z",
     "iopub.status.busy": "2022-06-07T07:10:45.139609Z",
     "iopub.status.idle": "2022-06-07T07:10:45.140957Z",
     "shell.execute_reply": "2022-06-07T07:10:45.141203Z"
    },
    "id": "fe007438",
    "papermill": {
     "duration": 0.011282,
     "end_time": "2022-06-07T07:10:45.141312",
     "exception": false,
     "start_time": "2022-06-07T07:10:45.130030",
     "status": "completed"
    },
    "tags": []
   },
   "outputs": [],
   "source": [
    "#Train test split for dataset \n",
    "X_train,X_test,Y_train,Y_test = train_test_split(X,Y,test_size = 0.2)\n",
    "train_data = dataset.CustomDataset(X_train,Y_train)\n",
    "test_data = dataset.CustomDataset(X_test,Y_test)\n"
   ]
  },
  {
   "cell_type": "markdown",
   "id": "a9a1af34",
   "metadata": {
    "id": "a9a1af34",
    "papermill": {
     "duration": 0.007176,
     "end_time": "2022-06-07T07:10:45.155835",
     "exception": false,
     "start_time": "2022-06-07T07:10:45.148659",
     "status": "completed"
    },
    "tags": []
   },
   "source": [
    "## Training Parameters "
   ]
  },
  {
   "cell_type": "code",
   "execution_count": 8,
   "id": "952b7fc8",
   "metadata": {
    "execution": {
     "iopub.execute_input": "2022-06-07T07:10:45.172543Z",
     "iopub.status.busy": "2022-06-07T07:10:45.172166Z",
     "iopub.status.idle": "2022-06-07T07:10:45.173388Z",
     "shell.execute_reply": "2022-06-07T07:10:45.173622Z"
    },
    "id": "952b7fc8",
    "papermill": {
     "duration": 0.010693,
     "end_time": "2022-06-07T07:10:45.173729",
     "exception": false,
     "start_time": "2022-06-07T07:10:45.163036",
     "status": "completed"
    },
    "tags": []
   },
   "outputs": [],
   "source": [
    "batch_size = 32\n",
    "n_epochs = 1000\n",
    "#Select the device \n",
    "device = torch.device('cuda' if torch.cuda.is_available() else 'cpu')"
   ]
  },
  {
   "cell_type": "markdown",
   "id": "a95e1600",
   "metadata": {
    "id": "a95e1600",
    "papermill": {
     "duration": 0.00717,
     "end_time": "2022-06-07T07:10:45.188229",
     "exception": false,
     "start_time": "2022-06-07T07:10:45.181059",
     "status": "completed"
    },
    "tags": []
   },
   "source": [
    "# ABC Pre-generator Model \n",
    "\n",
    "1. The catboost model is used as a pre-generator model for the ABC-GAN. \n",
    "2. The model is first trained on the entire dataset \n",
    "3. It generats X,Y pairs and we add some Gaussian noise with mean 0 and variance 1 to it which is then feed as input to the generator.\n"
   ]
  },
  {
   "cell_type": "code",
   "execution_count": 9,
   "id": "ff8ce7bd",
   "metadata": {
    "execution": {
     "iopub.execute_input": "2022-06-07T07:10:45.206379Z",
     "iopub.status.busy": "2022-06-07T07:10:45.205983Z",
     "iopub.status.idle": "2022-06-07T07:10:45.825128Z",
     "shell.execute_reply": "2022-06-07T07:10:45.825436Z"
    },
    "id": "ff8ce7bd",
    "papermill": {
     "duration": 0.630117,
     "end_time": "2022-06-07T07:10:45.825561",
     "exception": false,
     "start_time": "2022-06-07T07:10:45.195444",
     "status": "completed"
    },
    "tags": []
   },
   "outputs": [
    {
     "name": "stdout",
     "output_type": "stream",
     "text": [
      "Learning rate set to 0.024897\n",
      "0:\tlearn: 1.0066314\ttotal: 60ms\tremaining: 59.9s\n",
      "1:\tlearn: 0.9970385\ttotal: 60.7ms\tremaining: 30.3s\n",
      "2:\tlearn: 0.9853426\ttotal: 61.2ms\tremaining: 20.3s\n",
      "3:\tlearn: 0.9741382\ttotal: 61.7ms\tremaining: 15.4s\n",
      "4:\tlearn: 0.9644556\ttotal: 62.2ms\tremaining: 12.4s\n",
      "5:\tlearn: 0.9552842\ttotal: 62.6ms\tremaining: 10.4s\n",
      "6:\tlearn: 0.9444192\ttotal: 63.1ms\tremaining: 8.96s\n",
      "7:\tlearn: 0.9332525\ttotal: 63.7ms\tremaining: 7.9s\n",
      "8:\tlearn: 0.9222370\ttotal: 64.2ms\tremaining: 7.07s\n",
      "9:\tlearn: 0.9127697\ttotal: 64.7ms\tremaining: 6.4s\n",
      "10:\tlearn: 0.9013906\ttotal: 65.1ms\tremaining: 5.86s\n",
      "11:\tlearn: 0.8918534\ttotal: 65.6ms\tremaining: 5.4s\n",
      "12:\tlearn: 0.8817693\ttotal: 66.1ms\tremaining: 5.02s\n",
      "13:\tlearn: 0.8724290\ttotal: 66.7ms\tremaining: 4.69s\n",
      "14:\tlearn: 0.8651684\ttotal: 67.1ms\tremaining: 4.41s\n",
      "15:\tlearn: 0.8566355\ttotal: 67.6ms\tremaining: 4.15s\n",
      "16:\tlearn: 0.8461068\ttotal: 68ms\tremaining: 3.93s\n",
      "17:\tlearn: 0.8368181\ttotal: 68.4ms\tremaining: 3.73s\n",
      "18:\tlearn: 0.8288972\ttotal: 69ms\tremaining: 3.56s\n",
      "19:\tlearn: 0.8201030\ttotal: 69.5ms\tremaining: 3.4s\n",
      "20:\tlearn: 0.8129993\ttotal: 70ms\tremaining: 3.26s\n",
      "21:\tlearn: 0.8035181\ttotal: 70.6ms\tremaining: 3.14s\n",
      "22:\tlearn: 0.7966512\ttotal: 70.9ms\tremaining: 3.01s\n",
      "23:\tlearn: 0.7883359\ttotal: 71.3ms\tremaining: 2.9s\n",
      "24:\tlearn: 0.7804815\ttotal: 71.8ms\tremaining: 2.8s\n",
      "25:\tlearn: 0.7742300\ttotal: 72.2ms\tremaining: 2.7s\n",
      "26:\tlearn: 0.7656513\ttotal: 72.6ms\tremaining: 2.61s\n",
      "27:\tlearn: 0.7574605\ttotal: 72.9ms\tremaining: 2.53s\n",
      "28:\tlearn: 0.7506104\ttotal: 73.4ms\tremaining: 2.46s\n",
      "29:\tlearn: 0.7429146\ttotal: 73.9ms\tremaining: 2.39s\n",
      "30:\tlearn: 0.7359336\ttotal: 74.3ms\tremaining: 2.32s\n",
      "31:\tlearn: 0.7291008\ttotal: 74.7ms\tremaining: 2.26s\n",
      "32:\tlearn: 0.7232114\ttotal: 75.3ms\tremaining: 2.21s\n",
      "33:\tlearn: 0.7162879\ttotal: 75.8ms\tremaining: 2.15s\n",
      "34:\tlearn: 0.7070575\ttotal: 76.1ms\tremaining: 2.1s\n",
      "35:\tlearn: 0.7003324\ttotal: 76.5ms\tremaining: 2.05s\n",
      "36:\tlearn: 0.6938697\ttotal: 76.9ms\tremaining: 2s\n",
      "37:\tlearn: 0.6871308\ttotal: 77.4ms\tremaining: 1.96s\n",
      "38:\tlearn: 0.6798735\ttotal: 77.9ms\tremaining: 1.92s\n",
      "39:\tlearn: 0.6746279\ttotal: 78.4ms\tremaining: 1.88s\n",
      "40:\tlearn: 0.6672326\ttotal: 78.9ms\tremaining: 1.84s\n",
      "41:\tlearn: 0.6612963\ttotal: 80ms\tremaining: 1.82s\n",
      "42:\tlearn: 0.6549370\ttotal: 80.3ms\tremaining: 1.79s\n",
      "43:\tlearn: 0.6476827\ttotal: 80.7ms\tremaining: 1.75s\n",
      "44:\tlearn: 0.6413657\ttotal: 81.1ms\tremaining: 1.72s\n",
      "45:\tlearn: 0.6349965\ttotal: 81.5ms\tremaining: 1.69s\n",
      "46:\tlearn: 0.6295329\ttotal: 81.9ms\tremaining: 1.66s\n",
      "47:\tlearn: 0.6240544\ttotal: 82.4ms\tremaining: 1.63s\n",
      "48:\tlearn: 0.6195028\ttotal: 82.7ms\tremaining: 1.6s\n",
      "49:\tlearn: 0.6157436\ttotal: 83.1ms\tremaining: 1.58s\n",
      "50:\tlearn: 0.6098187\ttotal: 83.4ms\tremaining: 1.55s\n",
      "51:\tlearn: 0.6029423\ttotal: 84ms\tremaining: 1.53s\n",
      "52:\tlearn: 0.5966432\ttotal: 84.5ms\tremaining: 1.51s\n",
      "53:\tlearn: 0.5910816\ttotal: 84.9ms\tremaining: 1.49s\n",
      "54:\tlearn: 0.5847383\ttotal: 85.3ms\tremaining: 1.47s\n",
      "55:\tlearn: 0.5790170\ttotal: 85.7ms\tremaining: 1.45s\n",
      "56:\tlearn: 0.5734007\ttotal: 86.1ms\tremaining: 1.42s\n",
      "57:\tlearn: 0.5689084\ttotal: 86.5ms\tremaining: 1.4s\n",
      "58:\tlearn: 0.5645212\ttotal: 87ms\tremaining: 1.39s\n",
      "59:\tlearn: 0.5603104\ttotal: 87.5ms\tremaining: 1.37s\n",
      "60:\tlearn: 0.5555921\ttotal: 87.9ms\tremaining: 1.35s\n",
      "61:\tlearn: 0.5505335\ttotal: 88.4ms\tremaining: 1.34s\n",
      "62:\tlearn: 0.5459458\ttotal: 88.8ms\tremaining: 1.32s\n",
      "63:\tlearn: 0.5407094\ttotal: 89.4ms\tremaining: 1.31s\n",
      "64:\tlearn: 0.5352178\ttotal: 89.8ms\tremaining: 1.29s\n",
      "65:\tlearn: 0.5319775\ttotal: 90.2ms\tremaining: 1.28s\n",
      "66:\tlearn: 0.5269824\ttotal: 90.6ms\tremaining: 1.26s\n",
      "67:\tlearn: 0.5231198\ttotal: 91ms\tremaining: 1.25s\n",
      "68:\tlearn: 0.5184315\ttotal: 91.5ms\tremaining: 1.23s\n",
      "69:\tlearn: 0.5142647\ttotal: 92ms\tremaining: 1.22s\n",
      "70:\tlearn: 0.5108654\ttotal: 92.4ms\tremaining: 1.21s\n",
      "71:\tlearn: 0.5070242\ttotal: 92.8ms\tremaining: 1.2s\n",
      "72:\tlearn: 0.5032485\ttotal: 93.3ms\tremaining: 1.18s\n",
      "73:\tlearn: 0.4987493\ttotal: 93.7ms\tremaining: 1.17s\n",
      "74:\tlearn: 0.4939743\ttotal: 94.1ms\tremaining: 1.16s\n",
      "75:\tlearn: 0.4908913\ttotal: 94.6ms\tremaining: 1.15s\n",
      "76:\tlearn: 0.4874995\ttotal: 95ms\tremaining: 1.14s\n",
      "77:\tlearn: 0.4836779\ttotal: 95.4ms\tremaining: 1.13s\n",
      "78:\tlearn: 0.4799972\ttotal: 95.8ms\tremaining: 1.12s\n",
      "79:\tlearn: 0.4762267\ttotal: 96.1ms\tremaining: 1.1s\n",
      "80:\tlearn: 0.4731069\ttotal: 96.6ms\tremaining: 1.09s\n",
      "81:\tlearn: 0.4682728\ttotal: 97.1ms\tremaining: 1.09s\n",
      "82:\tlearn: 0.4646061\ttotal: 97.5ms\tremaining: 1.08s\n",
      "83:\tlearn: 0.4594944\ttotal: 98ms\tremaining: 1.07s\n",
      "84:\tlearn: 0.4555182\ttotal: 98.5ms\tremaining: 1.06s\n",
      "85:\tlearn: 0.4521760\ttotal: 98.9ms\tremaining: 1.05s\n",
      "86:\tlearn: 0.4488993\ttotal: 99.4ms\tremaining: 1.04s\n",
      "87:\tlearn: 0.4453699\ttotal: 99.9ms\tremaining: 1.03s\n",
      "88:\tlearn: 0.4419890\ttotal: 100ms\tremaining: 1.03s\n",
      "89:\tlearn: 0.4381399\ttotal: 101ms\tremaining: 1.02s\n",
      "90:\tlearn: 0.4350159\ttotal: 101ms\tremaining: 1.01s\n",
      "91:\tlearn: 0.4309636\ttotal: 102ms\tremaining: 1s\n",
      "92:\tlearn: 0.4268623\ttotal: 102ms\tremaining: 996ms\n",
      "93:\tlearn: 0.4236250\ttotal: 103ms\tremaining: 988ms\n",
      "94:\tlearn: 0.4199030\ttotal: 103ms\tremaining: 981ms\n",
      "95:\tlearn: 0.4169255\ttotal: 103ms\tremaining: 973ms\n",
      "96:\tlearn: 0.4140169\ttotal: 104ms\tremaining: 967ms\n",
      "97:\tlearn: 0.4109708\ttotal: 104ms\tremaining: 960ms\n",
      "98:\tlearn: 0.4080084\ttotal: 105ms\tremaining: 953ms\n",
      "99:\tlearn: 0.4046255\ttotal: 105ms\tremaining: 946ms\n",
      "100:\tlearn: 0.4014027\ttotal: 106ms\tremaining: 939ms\n",
      "101:\tlearn: 0.3982017\ttotal: 106ms\tremaining: 934ms\n",
      "102:\tlearn: 0.3949248\ttotal: 107ms\tremaining: 928ms\n",
      "103:\tlearn: 0.3917780\ttotal: 107ms\tremaining: 923ms\n"
     ]
    },
    {
     "name": "stdout",
     "output_type": "stream",
     "text": [
      "104:\tlearn: 0.3889905\ttotal: 108ms\tremaining: 919ms\n",
      "105:\tlearn: 0.3860646\ttotal: 108ms\tremaining: 915ms\n",
      "106:\tlearn: 0.3828483\ttotal: 110ms\tremaining: 914ms\n",
      "107:\tlearn: 0.3801849\ttotal: 110ms\tremaining: 909ms\n",
      "108:\tlearn: 0.3771960\ttotal: 110ms\tremaining: 903ms\n",
      "109:\tlearn: 0.3738841\ttotal: 111ms\tremaining: 898ms\n",
      "110:\tlearn: 0.3708609\ttotal: 111ms\tremaining: 891ms\n",
      "111:\tlearn: 0.3682794\ttotal: 112ms\tremaining: 887ms\n",
      "112:\tlearn: 0.3649702\ttotal: 112ms\tremaining: 882ms\n",
      "113:\tlearn: 0.3621096\ttotal: 113ms\tremaining: 877ms\n",
      "114:\tlearn: 0.3593493\ttotal: 113ms\tremaining: 872ms\n",
      "115:\tlearn: 0.3568131\ttotal: 114ms\tremaining: 868ms\n",
      "116:\tlearn: 0.3547948\ttotal: 119ms\tremaining: 896ms\n",
      "117:\tlearn: 0.3517711\ttotal: 119ms\tremaining: 891ms\n",
      "118:\tlearn: 0.3491900\ttotal: 120ms\tremaining: 887ms\n",
      "119:\tlearn: 0.3464713\ttotal: 120ms\tremaining: 881ms\n",
      "120:\tlearn: 0.3438483\ttotal: 121ms\tremaining: 876ms\n",
      "121:\tlearn: 0.3413938\ttotal: 121ms\tremaining: 871ms\n",
      "122:\tlearn: 0.3389600\ttotal: 122ms\tremaining: 867ms\n",
      "123:\tlearn: 0.3361982\ttotal: 122ms\tremaining: 863ms\n",
      "124:\tlearn: 0.3337989\ttotal: 122ms\tremaining: 857ms\n",
      "125:\tlearn: 0.3316640\ttotal: 123ms\tremaining: 853ms\n",
      "126:\tlearn: 0.3295006\ttotal: 124ms\tremaining: 849ms\n",
      "127:\tlearn: 0.3273509\ttotal: 124ms\tremaining: 846ms\n",
      "128:\tlearn: 0.3254457\ttotal: 125ms\tremaining: 841ms\n",
      "129:\tlearn: 0.3235198\ttotal: 125ms\tremaining: 837ms\n",
      "130:\tlearn: 0.3214885\ttotal: 125ms\tremaining: 832ms\n",
      "131:\tlearn: 0.3189077\ttotal: 126ms\tremaining: 829ms\n",
      "132:\tlearn: 0.3165089\ttotal: 127ms\tremaining: 826ms\n",
      "133:\tlearn: 0.3145515\ttotal: 127ms\tremaining: 822ms\n",
      "134:\tlearn: 0.3120975\ttotal: 128ms\tremaining: 818ms\n",
      "135:\tlearn: 0.3097383\ttotal: 128ms\tremaining: 815ms\n",
      "136:\tlearn: 0.3070715\ttotal: 129ms\tremaining: 812ms\n",
      "137:\tlearn: 0.3049761\ttotal: 129ms\tremaining: 807ms\n",
      "138:\tlearn: 0.3028021\ttotal: 130ms\tremaining: 804ms\n",
      "139:\tlearn: 0.3008068\ttotal: 130ms\tremaining: 800ms\n",
      "140:\tlearn: 0.2989682\ttotal: 131ms\tremaining: 798ms\n",
      "141:\tlearn: 0.2969824\ttotal: 131ms\tremaining: 794ms\n",
      "142:\tlearn: 0.2950426\ttotal: 132ms\tremaining: 790ms\n",
      "143:\tlearn: 0.2929551\ttotal: 132ms\tremaining: 787ms\n",
      "144:\tlearn: 0.2906766\ttotal: 133ms\tremaining: 784ms\n",
      "145:\tlearn: 0.2886788\ttotal: 134ms\tremaining: 781ms\n",
      "146:\tlearn: 0.2868852\ttotal: 134ms\tremaining: 778ms\n",
      "147:\tlearn: 0.2851715\ttotal: 135ms\tremaining: 775ms\n",
      "148:\tlearn: 0.2831581\ttotal: 135ms\tremaining: 772ms\n",
      "149:\tlearn: 0.2812594\ttotal: 136ms\tremaining: 769ms\n",
      "150:\tlearn: 0.2793982\ttotal: 136ms\tremaining: 765ms\n",
      "151:\tlearn: 0.2768691\ttotal: 136ms\tremaining: 761ms\n",
      "152:\tlearn: 0.2749591\ttotal: 137ms\tremaining: 758ms\n",
      "153:\tlearn: 0.2736430\ttotal: 137ms\tremaining: 754ms\n",
      "154:\tlearn: 0.2715780\ttotal: 138ms\tremaining: 751ms\n",
      "155:\tlearn: 0.2700450\ttotal: 138ms\tremaining: 747ms\n",
      "156:\tlearn: 0.2680683\ttotal: 139ms\tremaining: 744ms\n",
      "157:\tlearn: 0.2661963\ttotal: 139ms\tremaining: 740ms\n",
      "158:\tlearn: 0.2647171\ttotal: 139ms\tremaining: 737ms\n",
      "159:\tlearn: 0.2627717\ttotal: 140ms\tremaining: 734ms\n",
      "160:\tlearn: 0.2611111\ttotal: 140ms\tremaining: 731ms\n",
      "161:\tlearn: 0.2597038\ttotal: 141ms\tremaining: 728ms\n",
      "162:\tlearn: 0.2582354\ttotal: 141ms\tremaining: 725ms\n",
      "163:\tlearn: 0.2566756\ttotal: 142ms\tremaining: 722ms\n",
      "164:\tlearn: 0.2550798\ttotal: 142ms\tremaining: 719ms\n",
      "165:\tlearn: 0.2533094\ttotal: 143ms\tremaining: 716ms\n",
      "166:\tlearn: 0.2518363\ttotal: 143ms\tremaining: 714ms\n",
      "167:\tlearn: 0.2504859\ttotal: 144ms\tremaining: 712ms\n",
      "168:\tlearn: 0.2488783\ttotal: 144ms\tremaining: 709ms\n",
      "169:\tlearn: 0.2472332\ttotal: 145ms\tremaining: 707ms\n",
      "170:\tlearn: 0.2453776\ttotal: 145ms\tremaining: 705ms\n",
      "171:\tlearn: 0.2438963\ttotal: 150ms\tremaining: 724ms\n",
      "172:\tlearn: 0.2425327\ttotal: 151ms\tremaining: 721ms\n",
      "173:\tlearn: 0.2409177\ttotal: 151ms\tremaining: 719ms\n",
      "174:\tlearn: 0.2394767\ttotal: 152ms\tremaining: 716ms\n",
      "175:\tlearn: 0.2378866\ttotal: 152ms\tremaining: 714ms\n",
      "176:\tlearn: 0.2365065\ttotal: 153ms\tremaining: 711ms\n",
      "177:\tlearn: 0.2349982\ttotal: 153ms\tremaining: 708ms\n",
      "178:\tlearn: 0.2337191\ttotal: 154ms\tremaining: 706ms\n",
      "179:\tlearn: 0.2325004\ttotal: 154ms\tremaining: 703ms\n",
      "180:\tlearn: 0.2309637\ttotal: 155ms\tremaining: 700ms\n",
      "181:\tlearn: 0.2297198\ttotal: 155ms\tremaining: 698ms\n",
      "182:\tlearn: 0.2283862\ttotal: 156ms\tremaining: 696ms\n",
      "183:\tlearn: 0.2275044\ttotal: 156ms\tremaining: 693ms\n",
      "184:\tlearn: 0.2261102\ttotal: 157ms\tremaining: 690ms\n",
      "185:\tlearn: 0.2247104\ttotal: 157ms\tremaining: 689ms\n",
      "186:\tlearn: 0.2234447\ttotal: 158ms\tremaining: 686ms\n",
      "187:\tlearn: 0.2220043\ttotal: 159ms\tremaining: 685ms\n",
      "188:\tlearn: 0.2206333\ttotal: 159ms\tremaining: 682ms\n",
      "189:\tlearn: 0.2194372\ttotal: 159ms\tremaining: 679ms\n",
      "190:\tlearn: 0.2185858\ttotal: 160ms\tremaining: 678ms\n",
      "191:\tlearn: 0.2169119\ttotal: 161ms\tremaining: 676ms\n",
      "192:\tlearn: 0.2158491\ttotal: 161ms\tremaining: 673ms\n",
      "193:\tlearn: 0.2149034\ttotal: 161ms\tremaining: 670ms\n",
      "194:\tlearn: 0.2133071\ttotal: 162ms\tremaining: 668ms\n",
      "195:\tlearn: 0.2121603\ttotal: 162ms\tremaining: 665ms\n",
      "196:\tlearn: 0.2107900\ttotal: 163ms\tremaining: 663ms\n",
      "197:\tlearn: 0.2096569\ttotal: 163ms\tremaining: 661ms\n",
      "198:\tlearn: 0.2082324\ttotal: 164ms\tremaining: 659ms\n",
      "199:\tlearn: 0.2072023\ttotal: 164ms\tremaining: 657ms\n",
      "200:\tlearn: 0.2061958\ttotal: 165ms\tremaining: 655ms\n",
      "201:\tlearn: 0.2048176\ttotal: 165ms\tremaining: 652ms\n",
      "202:\tlearn: 0.2035673\ttotal: 166ms\tremaining: 650ms\n",
      "203:\tlearn: 0.2026264\ttotal: 166ms\tremaining: 648ms\n",
      "204:\tlearn: 0.2013603\ttotal: 167ms\tremaining: 647ms\n",
      "205:\tlearn: 0.2000243\ttotal: 167ms\tremaining: 644ms\n",
      "206:\tlearn: 0.1987722\ttotal: 168ms\tremaining: 643ms\n",
      "207:\tlearn: 0.1978642\ttotal: 168ms\tremaining: 641ms\n",
      "208:\tlearn: 0.1966101\ttotal: 169ms\tremaining: 638ms\n",
      "209:\tlearn: 0.1957614\ttotal: 169ms\tremaining: 636ms\n",
      "210:\tlearn: 0.1947589\ttotal: 170ms\tremaining: 635ms\n",
      "211:\tlearn: 0.1935927\ttotal: 170ms\tremaining: 633ms\n",
      "212:\tlearn: 0.1924023\ttotal: 171ms\tremaining: 631ms\n",
      "213:\tlearn: 0.1911293\ttotal: 171ms\tremaining: 629ms\n",
      "214:\tlearn: 0.1900587\ttotal: 172ms\tremaining: 627ms\n",
      "215:\tlearn: 0.1889182\ttotal: 172ms\tremaining: 626ms\n",
      "216:\tlearn: 0.1878343\ttotal: 173ms\tremaining: 624ms\n",
      "217:\tlearn: 0.1869779\ttotal: 173ms\tremaining: 622ms\n",
      "218:\tlearn: 0.1860903\ttotal: 174ms\tremaining: 620ms\n",
      "219:\tlearn: 0.1850410\ttotal: 174ms\tremaining: 618ms\n",
      "220:\tlearn: 0.1839729\ttotal: 175ms\tremaining: 616ms\n",
      "221:\tlearn: 0.1829347\ttotal: 175ms\tremaining: 614ms\n",
      "222:\tlearn: 0.1817591\ttotal: 181ms\tremaining: 630ms\n",
      "223:\tlearn: 0.1810084\ttotal: 181ms\tremaining: 627ms\n",
      "224:\tlearn: 0.1799267\ttotal: 182ms\tremaining: 626ms\n",
      "225:\tlearn: 0.1787258\ttotal: 182ms\tremaining: 624ms\n",
      "226:\tlearn: 0.1775260\ttotal: 183ms\tremaining: 622ms\n",
      "227:\tlearn: 0.1762162\ttotal: 183ms\tremaining: 620ms\n",
      "228:\tlearn: 0.1751818\ttotal: 184ms\tremaining: 618ms\n",
      "229:\tlearn: 0.1741742\ttotal: 184ms\tremaining: 616ms\n",
      "230:\tlearn: 0.1733277\ttotal: 184ms\tremaining: 614ms\n",
      "231:\tlearn: 0.1720421\ttotal: 185ms\tremaining: 612ms\n",
      "232:\tlearn: 0.1709553\ttotal: 185ms\tremaining: 610ms\n",
      "233:\tlearn: 0.1698541\ttotal: 186ms\tremaining: 608ms\n",
      "234:\tlearn: 0.1688397\ttotal: 186ms\tremaining: 606ms\n",
      "235:\tlearn: 0.1677429\ttotal: 187ms\tremaining: 604ms\n",
      "236:\tlearn: 0.1666049\ttotal: 187ms\tremaining: 603ms\n",
      "237:\tlearn: 0.1654888\ttotal: 188ms\tremaining: 601ms\n"
     ]
    },
    {
     "name": "stdout",
     "output_type": "stream",
     "text": [
      "238:\tlearn: 0.1643050\ttotal: 188ms\tremaining: 600ms\n",
      "239:\tlearn: 0.1633509\ttotal: 189ms\tremaining: 599ms\n",
      "240:\tlearn: 0.1621730\ttotal: 190ms\tremaining: 597ms\n",
      "241:\tlearn: 0.1612247\ttotal: 190ms\tremaining: 595ms\n",
      "242:\tlearn: 0.1603110\ttotal: 190ms\tremaining: 593ms\n",
      "243:\tlearn: 0.1593647\ttotal: 191ms\tremaining: 592ms\n",
      "244:\tlearn: 0.1581090\ttotal: 191ms\tremaining: 589ms\n",
      "245:\tlearn: 0.1568052\ttotal: 192ms\tremaining: 588ms\n",
      "246:\tlearn: 0.1558919\ttotal: 192ms\tremaining: 586ms\n",
      "247:\tlearn: 0.1551011\ttotal: 193ms\tremaining: 584ms\n",
      "248:\tlearn: 0.1538894\ttotal: 193ms\tremaining: 582ms\n",
      "249:\tlearn: 0.1530369\ttotal: 194ms\tremaining: 581ms\n",
      "250:\tlearn: 0.1518349\ttotal: 194ms\tremaining: 579ms\n",
      "251:\tlearn: 0.1508547\ttotal: 195ms\tremaining: 578ms\n",
      "252:\tlearn: 0.1498030\ttotal: 195ms\tremaining: 576ms\n",
      "253:\tlearn: 0.1487072\ttotal: 196ms\tremaining: 574ms\n",
      "254:\tlearn: 0.1476567\ttotal: 196ms\tremaining: 572ms\n",
      "255:\tlearn: 0.1467756\ttotal: 197ms\tremaining: 571ms\n",
      "256:\tlearn: 0.1458948\ttotal: 197ms\tremaining: 570ms\n",
      "257:\tlearn: 0.1449601\ttotal: 197ms\tremaining: 568ms\n",
      "258:\tlearn: 0.1442561\ttotal: 198ms\tremaining: 566ms\n",
      "259:\tlearn: 0.1431298\ttotal: 198ms\tremaining: 565ms\n",
      "260:\tlearn: 0.1419782\ttotal: 199ms\tremaining: 563ms\n",
      "261:\tlearn: 0.1409709\ttotal: 199ms\tremaining: 562ms\n",
      "262:\tlearn: 0.1399313\ttotal: 200ms\tremaining: 560ms\n",
      "263:\tlearn: 0.1391892\ttotal: 200ms\tremaining: 558ms\n",
      "264:\tlearn: 0.1383631\ttotal: 201ms\tremaining: 557ms\n",
      "265:\tlearn: 0.1374136\ttotal: 201ms\tremaining: 556ms\n",
      "266:\tlearn: 0.1366517\ttotal: 202ms\tremaining: 554ms\n",
      "267:\tlearn: 0.1357761\ttotal: 202ms\tremaining: 553ms\n",
      "268:\tlearn: 0.1347608\ttotal: 203ms\tremaining: 551ms\n",
      "269:\tlearn: 0.1337571\ttotal: 203ms\tremaining: 549ms\n",
      "270:\tlearn: 0.1328771\ttotal: 204ms\tremaining: 548ms\n",
      "271:\tlearn: 0.1319715\ttotal: 204ms\tremaining: 547ms\n",
      "272:\tlearn: 0.1310850\ttotal: 205ms\tremaining: 545ms\n",
      "273:\tlearn: 0.1301259\ttotal: 205ms\tremaining: 543ms\n",
      "274:\tlearn: 0.1291778\ttotal: 206ms\tremaining: 542ms\n",
      "275:\tlearn: 0.1282904\ttotal: 206ms\tremaining: 540ms\n",
      "276:\tlearn: 0.1275939\ttotal: 206ms\tremaining: 539ms\n",
      "277:\tlearn: 0.1268999\ttotal: 207ms\tremaining: 537ms\n",
      "278:\tlearn: 0.1261677\ttotal: 207ms\tremaining: 536ms\n",
      "279:\tlearn: 0.1253803\ttotal: 208ms\tremaining: 534ms\n",
      "280:\tlearn: 0.1247194\ttotal: 208ms\tremaining: 533ms\n",
      "281:\tlearn: 0.1240460\ttotal: 209ms\tremaining: 532ms\n",
      "282:\tlearn: 0.1233558\ttotal: 209ms\tremaining: 530ms\n",
      "283:\tlearn: 0.1226541\ttotal: 210ms\tremaining: 528ms\n",
      "284:\tlearn: 0.1218859\ttotal: 210ms\tremaining: 527ms\n",
      "285:\tlearn: 0.1211629\ttotal: 211ms\tremaining: 526ms\n",
      "286:\tlearn: 0.1202979\ttotal: 211ms\tremaining: 524ms\n",
      "287:\tlearn: 0.1195913\ttotal: 211ms\tremaining: 522ms\n",
      "288:\tlearn: 0.1189077\ttotal: 212ms\tremaining: 521ms\n",
      "289:\tlearn: 0.1180787\ttotal: 212ms\tremaining: 520ms\n",
      "290:\tlearn: 0.1174503\ttotal: 213ms\tremaining: 518ms\n",
      "291:\tlearn: 0.1166853\ttotal: 213ms\tremaining: 517ms\n",
      "292:\tlearn: 0.1160447\ttotal: 214ms\tremaining: 516ms\n",
      "293:\tlearn: 0.1153476\ttotal: 214ms\tremaining: 515ms\n",
      "294:\tlearn: 0.1146847\ttotal: 215ms\tremaining: 513ms\n",
      "295:\tlearn: 0.1139222\ttotal: 215ms\tremaining: 512ms\n",
      "296:\tlearn: 0.1132248\ttotal: 216ms\tremaining: 510ms\n",
      "297:\tlearn: 0.1125067\ttotal: 216ms\tremaining: 509ms\n",
      "298:\tlearn: 0.1119292\ttotal: 216ms\tremaining: 507ms\n",
      "299:\tlearn: 0.1114085\ttotal: 217ms\tremaining: 506ms\n",
      "300:\tlearn: 0.1107053\ttotal: 217ms\tremaining: 504ms\n",
      "301:\tlearn: 0.1099159\ttotal: 218ms\tremaining: 503ms\n",
      "302:\tlearn: 0.1094129\ttotal: 218ms\tremaining: 502ms\n",
      "303:\tlearn: 0.1087907\ttotal: 219ms\tremaining: 500ms\n",
      "304:\tlearn: 0.1081844\ttotal: 219ms\tremaining: 499ms\n",
      "305:\tlearn: 0.1074565\ttotal: 220ms\tremaining: 498ms\n",
      "306:\tlearn: 0.1067963\ttotal: 220ms\tremaining: 497ms\n",
      "307:\tlearn: 0.1060298\ttotal: 221ms\tremaining: 495ms\n",
      "308:\tlearn: 0.1053265\ttotal: 221ms\tremaining: 494ms\n",
      "309:\tlearn: 0.1047933\ttotal: 221ms\tremaining: 493ms\n",
      "310:\tlearn: 0.1042291\ttotal: 222ms\tremaining: 492ms\n",
      "311:\tlearn: 0.1035957\ttotal: 223ms\tremaining: 491ms\n",
      "312:\tlearn: 0.1028709\ttotal: 223ms\tremaining: 489ms\n",
      "313:\tlearn: 0.1021627\ttotal: 223ms\tremaining: 488ms\n",
      "314:\tlearn: 0.1017106\ttotal: 224ms\tremaining: 487ms\n",
      "315:\tlearn: 0.1011724\ttotal: 224ms\tremaining: 486ms\n",
      "316:\tlearn: 0.1006645\ttotal: 225ms\tremaining: 484ms\n",
      "317:\tlearn: 0.1000725\ttotal: 225ms\tremaining: 483ms\n",
      "318:\tlearn: 0.0995761\ttotal: 226ms\tremaining: 482ms\n",
      "319:\tlearn: 0.0990949\ttotal: 227ms\tremaining: 481ms\n",
      "320:\tlearn: 0.0985504\ttotal: 227ms\tremaining: 480ms\n",
      "321:\tlearn: 0.0981445\ttotal: 228ms\tremaining: 479ms\n",
      "322:\tlearn: 0.0974757\ttotal: 228ms\tremaining: 478ms\n",
      "323:\tlearn: 0.0969944\ttotal: 229ms\tremaining: 477ms\n",
      "324:\tlearn: 0.0965342\ttotal: 229ms\tremaining: 476ms\n",
      "325:\tlearn: 0.0961123\ttotal: 230ms\tremaining: 475ms\n",
      "326:\tlearn: 0.0955429\ttotal: 230ms\tremaining: 474ms\n",
      "327:\tlearn: 0.0951115\ttotal: 231ms\tremaining: 473ms\n",
      "328:\tlearn: 0.0945356\ttotal: 231ms\tremaining: 472ms\n",
      "329:\tlearn: 0.0940481\ttotal: 232ms\tremaining: 470ms\n",
      "330:\tlearn: 0.0936353\ttotal: 232ms\tremaining: 470ms\n",
      "331:\tlearn: 0.0929881\ttotal: 233ms\tremaining: 469ms\n",
      "332:\tlearn: 0.0926092\ttotal: 233ms\tremaining: 467ms\n",
      "333:\tlearn: 0.0922211\ttotal: 234ms\tremaining: 466ms\n",
      "334:\tlearn: 0.0917143\ttotal: 234ms\tremaining: 465ms\n",
      "335:\tlearn: 0.0913175\ttotal: 235ms\tremaining: 464ms\n",
      "336:\tlearn: 0.0909295\ttotal: 235ms\tremaining: 463ms\n",
      "337:\tlearn: 0.0905357\ttotal: 236ms\tremaining: 462ms\n",
      "338:\tlearn: 0.0901490\ttotal: 236ms\tremaining: 461ms\n",
      "339:\tlearn: 0.0896197\ttotal: 237ms\tremaining: 459ms\n",
      "340:\tlearn: 0.0891881\ttotal: 237ms\tremaining: 458ms\n",
      "341:\tlearn: 0.0887148\ttotal: 237ms\tremaining: 457ms\n",
      "342:\tlearn: 0.0883056\ttotal: 238ms\tremaining: 455ms\n",
      "343:\tlearn: 0.0879030\ttotal: 238ms\tremaining: 454ms\n",
      "344:\tlearn: 0.0874205\ttotal: 238ms\tremaining: 453ms\n",
      "345:\tlearn: 0.0869546\ttotal: 239ms\tremaining: 451ms\n",
      "346:\tlearn: 0.0865061\ttotal: 239ms\tremaining: 450ms\n",
      "347:\tlearn: 0.0859216\ttotal: 240ms\tremaining: 449ms\n",
      "348:\tlearn: 0.0854872\ttotal: 240ms\tremaining: 447ms\n",
      "349:\tlearn: 0.0849205\ttotal: 240ms\tremaining: 446ms\n",
      "350:\tlearn: 0.0845141\ttotal: 241ms\tremaining: 445ms\n",
      "351:\tlearn: 0.0839616\ttotal: 241ms\tremaining: 444ms\n",
      "352:\tlearn: 0.0834813\ttotal: 242ms\tremaining: 443ms\n",
      "353:\tlearn: 0.0830694\ttotal: 242ms\tremaining: 442ms\n",
      "354:\tlearn: 0.0825373\ttotal: 242ms\tremaining: 441ms\n",
      "355:\tlearn: 0.0820751\ttotal: 243ms\tremaining: 439ms\n",
      "356:\tlearn: 0.0817376\ttotal: 243ms\tremaining: 438ms\n",
      "357:\tlearn: 0.0813770\ttotal: 244ms\tremaining: 437ms\n",
      "358:\tlearn: 0.0809795\ttotal: 244ms\tremaining: 436ms\n",
      "359:\tlearn: 0.0806289\ttotal: 245ms\tremaining: 435ms\n",
      "360:\tlearn: 0.0802121\ttotal: 245ms\tremaining: 434ms\n",
      "361:\tlearn: 0.0798259\ttotal: 246ms\tremaining: 433ms\n",
      "362:\tlearn: 0.0793882\ttotal: 246ms\tremaining: 432ms\n",
      "363:\tlearn: 0.0790002\ttotal: 247ms\tremaining: 431ms\n",
      "364:\tlearn: 0.0785263\ttotal: 247ms\tremaining: 430ms\n",
      "365:\tlearn: 0.0780624\ttotal: 247ms\tremaining: 428ms\n",
      "366:\tlearn: 0.0776958\ttotal: 248ms\tremaining: 427ms\n",
      "367:\tlearn: 0.0773369\ttotal: 248ms\tremaining: 426ms\n",
      "368:\tlearn: 0.0769732\ttotal: 249ms\tremaining: 425ms\n",
      "369:\tlearn: 0.0765765\ttotal: 249ms\tremaining: 424ms\n",
      "370:\tlearn: 0.0762114\ttotal: 250ms\tremaining: 423ms\n",
      "371:\tlearn: 0.0757589\ttotal: 250ms\tremaining: 422ms\n",
      "372:\tlearn: 0.0753886\ttotal: 250ms\tremaining: 421ms\n",
      "373:\tlearn: 0.0750383\ttotal: 251ms\tremaining: 420ms\n",
      "374:\tlearn: 0.0745948\ttotal: 251ms\tremaining: 419ms\n",
      "375:\tlearn: 0.0741694\ttotal: 252ms\tremaining: 418ms\n",
      "376:\tlearn: 0.0738334\ttotal: 252ms\tremaining: 417ms\n",
      "377:\tlearn: 0.0734369\ttotal: 253ms\tremaining: 416ms\n",
      "378:\tlearn: 0.0730256\ttotal: 253ms\tremaining: 415ms\n",
      "379:\tlearn: 0.0727017\ttotal: 254ms\tremaining: 414ms\n",
      "380:\tlearn: 0.0723195\ttotal: 254ms\tremaining: 413ms\n",
      "381:\tlearn: 0.0720188\ttotal: 255ms\tremaining: 412ms\n",
      "382:\tlearn: 0.0717241\ttotal: 255ms\tremaining: 411ms\n",
      "383:\tlearn: 0.0713051\ttotal: 256ms\tremaining: 410ms\n",
      "384:\tlearn: 0.0709976\ttotal: 256ms\tremaining: 409ms\n",
      "385:\tlearn: 0.0706072\ttotal: 256ms\tremaining: 408ms\n",
      "386:\tlearn: 0.0703073\ttotal: 257ms\tremaining: 407ms\n",
      "387:\tlearn: 0.0697744\ttotal: 257ms\tremaining: 406ms\n",
      "388:\tlearn: 0.0694713\ttotal: 258ms\tremaining: 405ms\n",
      "389:\tlearn: 0.0692107\ttotal: 258ms\tremaining: 404ms\n",
      "390:\tlearn: 0.0689074\ttotal: 259ms\tremaining: 403ms\n",
      "391:\tlearn: 0.0685934\ttotal: 259ms\tremaining: 402ms\n",
      "392:\tlearn: 0.0682539\ttotal: 259ms\tremaining: 401ms\n",
      "393:\tlearn: 0.0677448\ttotal: 260ms\tremaining: 400ms\n",
      "394:\tlearn: 0.0674246\ttotal: 260ms\tremaining: 399ms\n",
      "395:\tlearn: 0.0671371\ttotal: 261ms\tremaining: 398ms\n",
      "396:\tlearn: 0.0667796\ttotal: 261ms\tremaining: 397ms\n",
      "397:\tlearn: 0.0665356\ttotal: 262ms\tremaining: 396ms\n",
      "398:\tlearn: 0.0662636\ttotal: 262ms\tremaining: 395ms\n",
      "399:\tlearn: 0.0659819\ttotal: 263ms\tremaining: 394ms\n",
      "400:\tlearn: 0.0657013\ttotal: 263ms\tremaining: 393ms\n",
      "401:\tlearn: 0.0653791\ttotal: 264ms\tremaining: 392ms\n",
      "402:\tlearn: 0.0648544\ttotal: 264ms\tremaining: 392ms\n",
      "403:\tlearn: 0.0645917\ttotal: 265ms\tremaining: 391ms\n",
      "404:\tlearn: 0.0640797\ttotal: 266ms\tremaining: 390ms\n",
      "405:\tlearn: 0.0637684\ttotal: 266ms\tremaining: 389ms\n",
      "406:\tlearn: 0.0635392\ttotal: 267ms\tremaining: 388ms\n",
      "407:\tlearn: 0.0633225\ttotal: 267ms\tremaining: 388ms\n",
      "408:\tlearn: 0.0630710\ttotal: 268ms\tremaining: 387ms\n",
      "409:\tlearn: 0.0628601\ttotal: 268ms\tremaining: 386ms\n",
      "410:\tlearn: 0.0623666\ttotal: 268ms\tremaining: 385ms\n",
      "411:\tlearn: 0.0621220\ttotal: 269ms\tremaining: 383ms\n",
      "412:\tlearn: 0.0616407\ttotal: 269ms\tremaining: 382ms\n",
      "413:\tlearn: 0.0613598\ttotal: 269ms\tremaining: 381ms\n",
      "414:\tlearn: 0.0611462\ttotal: 270ms\tremaining: 380ms\n",
      "415:\tlearn: 0.0609365\ttotal: 270ms\tremaining: 379ms\n",
      "416:\tlearn: 0.0606634\ttotal: 270ms\tremaining: 378ms\n",
      "417:\tlearn: 0.0604582\ttotal: 271ms\tremaining: 377ms\n",
      "418:\tlearn: 0.0602255\ttotal: 271ms\tremaining: 376ms\n",
      "419:\tlearn: 0.0600247\ttotal: 272ms\tremaining: 375ms\n",
      "420:\tlearn: 0.0598276\ttotal: 272ms\tremaining: 374ms\n",
      "421:\tlearn: 0.0595570\ttotal: 272ms\tremaining: 373ms\n",
      "422:\tlearn: 0.0592848\ttotal: 273ms\tremaining: 372ms\n",
      "423:\tlearn: 0.0590136\ttotal: 273ms\tremaining: 371ms\n",
      "424:\tlearn: 0.0587674\ttotal: 273ms\tremaining: 370ms\n",
      "425:\tlearn: 0.0583175\ttotal: 274ms\tremaining: 369ms\n",
      "426:\tlearn: 0.0579281\ttotal: 274ms\tremaining: 368ms\n",
      "427:\tlearn: 0.0577412\ttotal: 275ms\tremaining: 367ms\n",
      "428:\tlearn: 0.0575579\ttotal: 275ms\tremaining: 366ms\n",
      "429:\tlearn: 0.0573493\ttotal: 276ms\tremaining: 365ms\n",
      "430:\tlearn: 0.0570571\ttotal: 276ms\tremaining: 364ms\n",
      "431:\tlearn: 0.0568044\ttotal: 276ms\tremaining: 363ms\n",
      "432:\tlearn: 0.0564529\ttotal: 277ms\tremaining: 363ms\n",
      "433:\tlearn: 0.0561750\ttotal: 277ms\tremaining: 362ms\n",
      "434:\tlearn: 0.0558313\ttotal: 278ms\tremaining: 361ms\n",
      "435:\tlearn: 0.0554108\ttotal: 278ms\tremaining: 360ms\n",
      "436:\tlearn: 0.0550738\ttotal: 279ms\tremaining: 359ms\n",
      "437:\tlearn: 0.0548016\ttotal: 279ms\tremaining: 358ms\n",
      "438:\tlearn: 0.0546322\ttotal: 280ms\tremaining: 357ms\n",
      "439:\tlearn: 0.0543556\ttotal: 280ms\tremaining: 357ms\n",
      "440:\tlearn: 0.0540374\ttotal: 281ms\tremaining: 356ms\n",
      "441:\tlearn: 0.0537056\ttotal: 281ms\tremaining: 355ms\n",
      "442:\tlearn: 0.0534361\ttotal: 281ms\tremaining: 354ms\n",
      "443:\tlearn: 0.0531768\ttotal: 282ms\tremaining: 353ms\n",
      "444:\tlearn: 0.0529143\ttotal: 282ms\tremaining: 352ms\n",
      "445:\tlearn: 0.0525996\ttotal: 283ms\tremaining: 351ms\n",
      "446:\tlearn: 0.0522705\ttotal: 284ms\tremaining: 351ms\n",
      "447:\tlearn: 0.0519673\ttotal: 284ms\tremaining: 350ms\n",
      "448:\tlearn: 0.0517127\ttotal: 285ms\tremaining: 349ms\n",
      "449:\tlearn: 0.0514678\ttotal: 285ms\tremaining: 349ms\n",
      "450:\tlearn: 0.0512191\ttotal: 286ms\tremaining: 348ms\n",
      "451:\tlearn: 0.0509275\ttotal: 286ms\tremaining: 347ms\n",
      "452:\tlearn: 0.0506845\ttotal: 286ms\tremaining: 346ms\n",
      "453:\tlearn: 0.0503866\ttotal: 287ms\tremaining: 345ms\n",
      "454:\tlearn: 0.0501494\ttotal: 287ms\tremaining: 344ms\n",
      "455:\tlearn: 0.0499161\ttotal: 288ms\tremaining: 343ms\n",
      "456:\tlearn: 0.0496845\ttotal: 288ms\tremaining: 343ms\n",
      "457:\tlearn: 0.0494052\ttotal: 289ms\tremaining: 342ms\n",
      "458:\tlearn: 0.0491790\ttotal: 289ms\tremaining: 341ms\n",
      "459:\tlearn: 0.0489054\ttotal: 290ms\tremaining: 340ms\n",
      "460:\tlearn: 0.0486844\ttotal: 290ms\tremaining: 339ms\n",
      "461:\tlearn: 0.0484330\ttotal: 291ms\tremaining: 338ms\n",
      "462:\tlearn: 0.0482171\ttotal: 291ms\tremaining: 337ms\n",
      "463:\tlearn: 0.0479970\ttotal: 291ms\tremaining: 337ms\n",
      "464:\tlearn: 0.0478141\ttotal: 292ms\tremaining: 336ms\n"
     ]
    },
    {
     "name": "stdout",
     "output_type": "stream",
     "text": [
      "465:\tlearn: 0.0476037\ttotal: 293ms\tremaining: 335ms\n",
      "466:\tlearn: 0.0473896\ttotal: 293ms\tremaining: 335ms\n",
      "467:\tlearn: 0.0471566\ttotal: 294ms\tremaining: 334ms\n",
      "468:\tlearn: 0.0468743\ttotal: 294ms\tremaining: 333ms\n",
      "469:\tlearn: 0.0466196\ttotal: 295ms\tremaining: 333ms\n",
      "470:\tlearn: 0.0463941\ttotal: 295ms\tremaining: 332ms\n",
      "471:\tlearn: 0.0461412\ttotal: 296ms\tremaining: 331ms\n",
      "472:\tlearn: 0.0459882\ttotal: 296ms\tremaining: 330ms\n",
      "473:\tlearn: 0.0457872\ttotal: 297ms\tremaining: 329ms\n",
      "474:\tlearn: 0.0456378\ttotal: 297ms\tremaining: 328ms\n",
      "475:\tlearn: 0.0454682\ttotal: 297ms\tremaining: 327ms\n",
      "476:\tlearn: 0.0453226\ttotal: 298ms\tremaining: 327ms\n",
      "477:\tlearn: 0.0450861\ttotal: 298ms\tremaining: 326ms\n",
      "478:\tlearn: 0.0448549\ttotal: 304ms\tremaining: 331ms\n",
      "479:\tlearn: 0.0446661\ttotal: 305ms\tremaining: 331ms\n",
      "480:\tlearn: 0.0445053\ttotal: 306ms\tremaining: 330ms\n",
      "481:\tlearn: 0.0443663\ttotal: 306ms\tremaining: 329ms\n",
      "482:\tlearn: 0.0441412\ttotal: 307ms\tremaining: 328ms\n",
      "483:\tlearn: 0.0440052\ttotal: 307ms\tremaining: 328ms\n",
      "484:\tlearn: 0.0438238\ttotal: 308ms\tremaining: 327ms\n",
      "485:\tlearn: 0.0436621\ttotal: 308ms\tremaining: 326ms\n",
      "486:\tlearn: 0.0433894\ttotal: 309ms\tremaining: 325ms\n",
      "487:\tlearn: 0.0432142\ttotal: 309ms\tremaining: 325ms\n",
      "488:\tlearn: 0.0430571\ttotal: 310ms\tremaining: 324ms\n",
      "489:\tlearn: 0.0427943\ttotal: 310ms\tremaining: 323ms\n",
      "490:\tlearn: 0.0426059\ttotal: 311ms\tremaining: 322ms\n",
      "491:\tlearn: 0.0424528\ttotal: 311ms\tremaining: 321ms\n",
      "492:\tlearn: 0.0423472\ttotal: 312ms\tremaining: 321ms\n",
      "493:\tlearn: 0.0422429\ttotal: 312ms\tremaining: 320ms\n",
      "494:\tlearn: 0.0419915\ttotal: 312ms\tremaining: 319ms\n",
      "495:\tlearn: 0.0418442\ttotal: 313ms\tremaining: 318ms\n",
      "496:\tlearn: 0.0415956\ttotal: 313ms\tremaining: 317ms\n",
      "497:\tlearn: 0.0414950\ttotal: 314ms\tremaining: 317ms\n",
      "498:\tlearn: 0.0413470\ttotal: 314ms\tremaining: 316ms\n",
      "499:\tlearn: 0.0412481\ttotal: 315ms\tremaining: 315ms\n",
      "500:\tlearn: 0.0411068\ttotal: 316ms\tremaining: 314ms\n",
      "501:\tlearn: 0.0408687\ttotal: 316ms\tremaining: 313ms\n",
      "502:\tlearn: 0.0407724\ttotal: 316ms\tremaining: 313ms\n",
      "503:\tlearn: 0.0406356\ttotal: 317ms\tremaining: 312ms\n",
      "504:\tlearn: 0.0405393\ttotal: 317ms\tremaining: 311ms\n",
      "505:\tlearn: 0.0403099\ttotal: 318ms\tremaining: 310ms\n",
      "506:\tlearn: 0.0400962\ttotal: 318ms\tremaining: 309ms\n",
      "507:\tlearn: 0.0398900\ttotal: 318ms\tremaining: 308ms\n",
      "508:\tlearn: 0.0396895\ttotal: 319ms\tremaining: 308ms\n",
      "509:\tlearn: 0.0394995\ttotal: 319ms\tremaining: 307ms\n",
      "510:\tlearn: 0.0393138\ttotal: 320ms\tremaining: 306ms\n",
      "511:\tlearn: 0.0390916\ttotal: 320ms\tremaining: 305ms\n",
      "512:\tlearn: 0.0389442\ttotal: 321ms\tremaining: 304ms\n",
      "513:\tlearn: 0.0387646\ttotal: 321ms\tremaining: 304ms\n",
      "514:\tlearn: 0.0386275\ttotal: 321ms\tremaining: 303ms\n",
      "515:\tlearn: 0.0384376\ttotal: 322ms\tremaining: 302ms\n",
      "516:\tlearn: 0.0382649\ttotal: 322ms\tremaining: 301ms\n",
      "517:\tlearn: 0.0380690\ttotal: 323ms\tremaining: 301ms\n",
      "518:\tlearn: 0.0378867\ttotal: 324ms\tremaining: 300ms\n",
      "519:\tlearn: 0.0377558\ttotal: 324ms\tremaining: 299ms\n",
      "520:\tlearn: 0.0375740\ttotal: 324ms\tremaining: 298ms\n",
      "521:\tlearn: 0.0374099\ttotal: 325ms\tremaining: 298ms\n",
      "522:\tlearn: 0.0372836\ttotal: 325ms\tremaining: 297ms\n",
      "523:\tlearn: 0.0371502\ttotal: 326ms\tremaining: 296ms\n",
      "524:\tlearn: 0.0369920\ttotal: 326ms\tremaining: 295ms\n",
      "525:\tlearn: 0.0368181\ttotal: 327ms\tremaining: 294ms\n",
      "526:\tlearn: 0.0366554\ttotal: 327ms\tremaining: 294ms\n",
      "527:\tlearn: 0.0364804\ttotal: 328ms\tremaining: 293ms\n",
      "528:\tlearn: 0.0363624\ttotal: 328ms\tremaining: 292ms\n",
      "529:\tlearn: 0.0362419\ttotal: 328ms\tremaining: 291ms\n",
      "530:\tlearn: 0.0360963\ttotal: 329ms\tremaining: 291ms\n",
      "531:\tlearn: 0.0359187\ttotal: 329ms\tremaining: 290ms\n",
      "532:\tlearn: 0.0357649\ttotal: 330ms\tremaining: 289ms\n",
      "533:\tlearn: 0.0356054\ttotal: 330ms\tremaining: 288ms\n",
      "534:\tlearn: 0.0354896\ttotal: 331ms\tremaining: 288ms\n",
      "535:\tlearn: 0.0353455\ttotal: 331ms\tremaining: 287ms\n",
      "536:\tlearn: 0.0352085\ttotal: 332ms\tremaining: 286ms\n",
      "537:\tlearn: 0.0350993\ttotal: 333ms\tremaining: 286ms\n",
      "538:\tlearn: 0.0349694\ttotal: 333ms\tremaining: 285ms\n",
      "539:\tlearn: 0.0348036\ttotal: 334ms\tremaining: 284ms\n",
      "540:\tlearn: 0.0346296\ttotal: 334ms\tremaining: 283ms\n",
      "541:\tlearn: 0.0345251\ttotal: 335ms\tremaining: 283ms\n",
      "542:\tlearn: 0.0343567\ttotal: 335ms\tremaining: 282ms\n",
      "543:\tlearn: 0.0342113\ttotal: 336ms\tremaining: 281ms\n",
      "544:\tlearn: 0.0340944\ttotal: 336ms\tremaining: 281ms\n",
      "545:\tlearn: 0.0339555\ttotal: 337ms\tremaining: 280ms\n",
      "546:\tlearn: 0.0338151\ttotal: 337ms\tremaining: 279ms\n",
      "547:\tlearn: 0.0336782\ttotal: 338ms\tremaining: 278ms\n",
      "548:\tlearn: 0.0335638\ttotal: 338ms\tremaining: 278ms\n",
      "549:\tlearn: 0.0334316\ttotal: 339ms\tremaining: 277ms\n",
      "550:\tlearn: 0.0332994\ttotal: 339ms\tremaining: 276ms\n",
      "551:\tlearn: 0.0331876\ttotal: 340ms\tremaining: 276ms\n",
      "552:\tlearn: 0.0330586\ttotal: 340ms\tremaining: 275ms\n",
      "553:\tlearn: 0.0329328\ttotal: 341ms\tremaining: 274ms\n",
      "554:\tlearn: 0.0327828\ttotal: 341ms\tremaining: 273ms\n",
      "555:\tlearn: 0.0326610\ttotal: 342ms\tremaining: 273ms\n",
      "556:\tlearn: 0.0325794\ttotal: 342ms\tremaining: 272ms\n",
      "557:\tlearn: 0.0324609\ttotal: 342ms\tremaining: 271ms\n",
      "558:\tlearn: 0.0323171\ttotal: 343ms\tremaining: 270ms\n",
      "559:\tlearn: 0.0321949\ttotal: 343ms\tremaining: 270ms\n",
      "560:\tlearn: 0.0321226\ttotal: 344ms\tremaining: 269ms\n",
      "561:\tlearn: 0.0320090\ttotal: 344ms\tremaining: 268ms\n",
      "562:\tlearn: 0.0319150\ttotal: 345ms\tremaining: 268ms\n",
      "563:\tlearn: 0.0317960\ttotal: 345ms\tremaining: 267ms\n",
      "564:\tlearn: 0.0317263\ttotal: 346ms\tremaining: 266ms\n",
      "565:\tlearn: 0.0316350\ttotal: 346ms\tremaining: 266ms\n",
      "566:\tlearn: 0.0315610\ttotal: 347ms\tremaining: 265ms\n",
      "567:\tlearn: 0.0314448\ttotal: 347ms\tremaining: 264ms\n",
      "568:\tlearn: 0.0313725\ttotal: 348ms\tremaining: 263ms\n",
      "569:\tlearn: 0.0312921\ttotal: 348ms\tremaining: 263ms\n",
      "570:\tlearn: 0.0311782\ttotal: 349ms\tremaining: 262ms\n",
      "571:\tlearn: 0.0311115\ttotal: 349ms\tremaining: 261ms\n",
      "572:\tlearn: 0.0310419\ttotal: 350ms\tremaining: 260ms\n",
      "573:\tlearn: 0.0309738\ttotal: 350ms\tremaining: 260ms\n",
      "574:\tlearn: 0.0308086\ttotal: 350ms\tremaining: 259ms\n",
      "575:\tlearn: 0.0306913\ttotal: 351ms\tremaining: 258ms\n",
      "576:\tlearn: 0.0306118\ttotal: 351ms\tremaining: 258ms\n",
      "577:\tlearn: 0.0305025\ttotal: 352ms\tremaining: 257ms\n",
      "578:\tlearn: 0.0304372\ttotal: 353ms\tremaining: 256ms\n",
      "579:\tlearn: 0.0302775\ttotal: 353ms\tremaining: 256ms\n",
      "580:\tlearn: 0.0301647\ttotal: 354ms\tremaining: 255ms\n",
      "581:\tlearn: 0.0300672\ttotal: 354ms\tremaining: 254ms\n",
      "582:\tlearn: 0.0299913\ttotal: 355ms\tremaining: 254ms\n",
      "583:\tlearn: 0.0298452\ttotal: 355ms\tremaining: 253ms\n",
      "584:\tlearn: 0.0297415\ttotal: 356ms\tremaining: 252ms\n",
      "585:\tlearn: 0.0296868\ttotal: 356ms\tremaining: 251ms\n",
      "586:\tlearn: 0.0295792\ttotal: 357ms\tremaining: 251ms\n",
      "587:\tlearn: 0.0295192\ttotal: 357ms\tremaining: 250ms\n",
      "588:\tlearn: 0.0294264\ttotal: 358ms\tremaining: 250ms\n",
      "589:\tlearn: 0.0293541\ttotal: 358ms\tremaining: 249ms\n",
      "590:\tlearn: 0.0291607\ttotal: 359ms\tremaining: 248ms\n",
      "591:\tlearn: 0.0290538\ttotal: 359ms\tremaining: 247ms\n",
      "592:\tlearn: 0.0289155\ttotal: 359ms\tremaining: 247ms\n",
      "593:\tlearn: 0.0288260\ttotal: 360ms\tremaining: 246ms\n",
      "594:\tlearn: 0.0286450\ttotal: 360ms\tremaining: 245ms\n",
      "595:\tlearn: 0.0285025\ttotal: 360ms\tremaining: 244ms\n",
      "596:\tlearn: 0.0284020\ttotal: 361ms\tremaining: 244ms\n",
      "597:\tlearn: 0.0283084\ttotal: 361ms\tremaining: 243ms\n",
      "598:\tlearn: 0.0282069\ttotal: 361ms\tremaining: 242ms\n",
      "599:\tlearn: 0.0280774\ttotal: 362ms\tremaining: 241ms\n",
      "600:\tlearn: 0.0279921\ttotal: 362ms\tremaining: 240ms\n",
      "601:\tlearn: 0.0279012\ttotal: 363ms\tremaining: 240ms\n",
      "602:\tlearn: 0.0277260\ttotal: 363ms\tremaining: 239ms\n",
      "603:\tlearn: 0.0276391\ttotal: 364ms\tremaining: 239ms\n",
      "604:\tlearn: 0.0275423\ttotal: 364ms\tremaining: 238ms\n",
      "605:\tlearn: 0.0274074\ttotal: 365ms\tremaining: 237ms\n",
      "606:\tlearn: 0.0272437\ttotal: 365ms\tremaining: 237ms\n",
      "607:\tlearn: 0.0271413\ttotal: 366ms\tremaining: 236ms\n",
      "608:\tlearn: 0.0270115\ttotal: 366ms\tremaining: 235ms\n",
      "609:\tlearn: 0.0268846\ttotal: 367ms\tremaining: 234ms\n",
      "610:\tlearn: 0.0268005\ttotal: 367ms\tremaining: 234ms\n",
      "611:\tlearn: 0.0266606\ttotal: 368ms\tremaining: 233ms\n",
      "612:\tlearn: 0.0265705\ttotal: 368ms\tremaining: 232ms\n",
      "613:\tlearn: 0.0264583\ttotal: 369ms\tremaining: 232ms\n",
      "614:\tlearn: 0.0263788\ttotal: 369ms\tremaining: 231ms\n",
      "615:\tlearn: 0.0262561\ttotal: 369ms\tremaining: 230ms\n",
      "616:\tlearn: 0.0261363\ttotal: 370ms\tremaining: 230ms\n",
      "617:\tlearn: 0.0260495\ttotal: 370ms\tremaining: 229ms\n",
      "618:\tlearn: 0.0259685\ttotal: 371ms\tremaining: 228ms\n"
     ]
    },
    {
     "name": "stdout",
     "output_type": "stream",
     "text": [
      "619:\tlearn: 0.0258840\ttotal: 371ms\tremaining: 228ms\n",
      "620:\tlearn: 0.0258047\ttotal: 372ms\tremaining: 227ms\n",
      "621:\tlearn: 0.0257289\ttotal: 372ms\tremaining: 226ms\n",
      "622:\tlearn: 0.0255832\ttotal: 373ms\tremaining: 226ms\n",
      "623:\tlearn: 0.0255019\ttotal: 373ms\tremaining: 225ms\n",
      "624:\tlearn: 0.0254208\ttotal: 374ms\tremaining: 224ms\n",
      "625:\tlearn: 0.0253439\ttotal: 374ms\tremaining: 224ms\n",
      "626:\tlearn: 0.0252783\ttotal: 375ms\tremaining: 223ms\n",
      "627:\tlearn: 0.0251648\ttotal: 376ms\tremaining: 223ms\n",
      "628:\tlearn: 0.0251095\ttotal: 376ms\tremaining: 222ms\n",
      "629:\tlearn: 0.0249216\ttotal: 377ms\tremaining: 221ms\n",
      "630:\tlearn: 0.0248309\ttotal: 377ms\tremaining: 221ms\n",
      "631:\tlearn: 0.0247532\ttotal: 378ms\tremaining: 220ms\n",
      "632:\tlearn: 0.0246769\ttotal: 378ms\tremaining: 219ms\n",
      "633:\tlearn: 0.0245684\ttotal: 379ms\tremaining: 219ms\n",
      "634:\tlearn: 0.0243897\ttotal: 379ms\tremaining: 218ms\n",
      "635:\tlearn: 0.0243151\ttotal: 380ms\tremaining: 217ms\n",
      "636:\tlearn: 0.0242362\ttotal: 380ms\tremaining: 217ms\n",
      "637:\tlearn: 0.0241594\ttotal: 381ms\tremaining: 216ms\n",
      "638:\tlearn: 0.0240749\ttotal: 381ms\tremaining: 215ms\n",
      "639:\tlearn: 0.0240084\ttotal: 382ms\tremaining: 215ms\n",
      "640:\tlearn: 0.0239238\ttotal: 382ms\tremaining: 214ms\n",
      "641:\tlearn: 0.0238212\ttotal: 383ms\tremaining: 213ms\n",
      "642:\tlearn: 0.0237394\ttotal: 383ms\tremaining: 213ms\n",
      "643:\tlearn: 0.0236003\ttotal: 384ms\tremaining: 212ms\n",
      "644:\tlearn: 0.0235356\ttotal: 384ms\tremaining: 212ms\n",
      "645:\tlearn: 0.0233992\ttotal: 385ms\tremaining: 211ms\n",
      "646:\tlearn: 0.0232650\ttotal: 385ms\tremaining: 210ms\n",
      "647:\tlearn: 0.0231375\ttotal: 386ms\tremaining: 210ms\n",
      "648:\tlearn: 0.0230749\ttotal: 386ms\tremaining: 209ms\n",
      "649:\tlearn: 0.0229501\ttotal: 387ms\tremaining: 208ms\n",
      "650:\tlearn: 0.0229192\ttotal: 387ms\tremaining: 208ms\n",
      "651:\tlearn: 0.0228283\ttotal: 388ms\tremaining: 207ms\n",
      "652:\tlearn: 0.0227063\ttotal: 388ms\tremaining: 206ms\n",
      "653:\tlearn: 0.0226763\ttotal: 389ms\tremaining: 206ms\n",
      "654:\tlearn: 0.0226189\ttotal: 389ms\tremaining: 205ms\n",
      "655:\tlearn: 0.0225893\ttotal: 390ms\tremaining: 204ms\n",
      "656:\tlearn: 0.0225253\ttotal: 390ms\tremaining: 204ms\n",
      "657:\tlearn: 0.0224490\ttotal: 390ms\tremaining: 203ms\n",
      "658:\tlearn: 0.0224200\ttotal: 391ms\tremaining: 202ms\n",
      "659:\tlearn: 0.0223021\ttotal: 391ms\tremaining: 201ms\n",
      "660:\tlearn: 0.0222515\ttotal: 391ms\tremaining: 201ms\n",
      "661:\tlearn: 0.0222084\ttotal: 392ms\tremaining: 200ms\n",
      "662:\tlearn: 0.0221243\ttotal: 392ms\tremaining: 199ms\n",
      "663:\tlearn: 0.0220960\ttotal: 392ms\tremaining: 199ms\n",
      "664:\tlearn: 0.0220229\ttotal: 393ms\tremaining: 198ms\n",
      "665:\tlearn: 0.0219952\ttotal: 393ms\tremaining: 197ms\n",
      "666:\tlearn: 0.0218916\ttotal: 394ms\tremaining: 196ms\n",
      "667:\tlearn: 0.0218497\ttotal: 394ms\tremaining: 196ms\n",
      "668:\tlearn: 0.0217855\ttotal: 394ms\tremaining: 195ms\n",
      "669:\tlearn: 0.0217044\ttotal: 395ms\tremaining: 195ms\n",
      "670:\tlearn: 0.0216037\ttotal: 395ms\tremaining: 194ms\n",
      "671:\tlearn: 0.0214843\ttotal: 396ms\tremaining: 193ms\n",
      "672:\tlearn: 0.0214435\ttotal: 396ms\tremaining: 192ms\n",
      "673:\tlearn: 0.0213642\ttotal: 397ms\tremaining: 192ms\n",
      "674:\tlearn: 0.0212830\ttotal: 397ms\tremaining: 191ms\n",
      "675:\tlearn: 0.0212148\ttotal: 398ms\tremaining: 191ms\n",
      "676:\tlearn: 0.0210983\ttotal: 398ms\tremaining: 190ms\n",
      "677:\tlearn: 0.0210194\ttotal: 398ms\tremaining: 189ms\n",
      "678:\tlearn: 0.0209425\ttotal: 399ms\tremaining: 188ms\n",
      "679:\tlearn: 0.0208764\ttotal: 399ms\tremaining: 188ms\n",
      "680:\tlearn: 0.0207819\ttotal: 400ms\tremaining: 187ms\n",
      "681:\tlearn: 0.0206894\ttotal: 400ms\tremaining: 186ms\n",
      "682:\tlearn: 0.0206502\ttotal: 400ms\tremaining: 186ms\n",
      "683:\tlearn: 0.0206115\ttotal: 401ms\tremaining: 185ms\n",
      "684:\tlearn: 0.0205688\ttotal: 401ms\tremaining: 184ms\n",
      "685:\tlearn: 0.0205221\ttotal: 402ms\tremaining: 184ms\n",
      "686:\tlearn: 0.0204745\ttotal: 402ms\tremaining: 183ms\n",
      "687:\tlearn: 0.0203636\ttotal: 403ms\tremaining: 183ms\n",
      "688:\tlearn: 0.0203228\ttotal: 403ms\tremaining: 182ms\n",
      "689:\tlearn: 0.0202830\ttotal: 404ms\tremaining: 181ms\n",
      "690:\tlearn: 0.0202403\ttotal: 404ms\tremaining: 181ms\n",
      "691:\tlearn: 0.0201969\ttotal: 405ms\tremaining: 180ms\n",
      "692:\tlearn: 0.0201712\ttotal: 405ms\tremaining: 179ms\n",
      "693:\tlearn: 0.0201333\ttotal: 406ms\tremaining: 179ms\n",
      "694:\tlearn: 0.0201082\ttotal: 406ms\tremaining: 178ms\n",
      "695:\tlearn: 0.0200669\ttotal: 406ms\tremaining: 177ms\n",
      "696:\tlearn: 0.0200259\ttotal: 407ms\tremaining: 177ms\n",
      "697:\tlearn: 0.0199177\ttotal: 407ms\tremaining: 176ms\n",
      "698:\tlearn: 0.0198772\ttotal: 407ms\tremaining: 175ms\n",
      "699:\tlearn: 0.0198331\ttotal: 408ms\tremaining: 175ms\n",
      "700:\tlearn: 0.0197949\ttotal: 408ms\tremaining: 174ms\n",
      "701:\tlearn: 0.0197516\ttotal: 409ms\tremaining: 173ms\n",
      "702:\tlearn: 0.0197147\ttotal: 409ms\tremaining: 173ms\n",
      "703:\tlearn: 0.0196721\ttotal: 409ms\tremaining: 172ms\n",
      "704:\tlearn: 0.0196362\ttotal: 410ms\tremaining: 171ms\n",
      "705:\tlearn: 0.0195943\ttotal: 410ms\tremaining: 171ms\n",
      "706:\tlearn: 0.0195775\ttotal: 411ms\tremaining: 170ms\n",
      "707:\tlearn: 0.0195362\ttotal: 411ms\tremaining: 170ms\n",
      "708:\tlearn: 0.0195201\ttotal: 411ms\tremaining: 169ms\n",
      "709:\tlearn: 0.0194795\ttotal: 412ms\tremaining: 168ms\n",
      "710:\tlearn: 0.0194636\ttotal: 412ms\tremaining: 168ms\n",
      "711:\tlearn: 0.0194236\ttotal: 413ms\tremaining: 167ms\n",
      "712:\tlearn: 0.0194080\ttotal: 413ms\tremaining: 166ms\n",
      "713:\tlearn: 0.0193686\ttotal: 414ms\tremaining: 166ms\n",
      "714:\tlearn: 0.0193553\ttotal: 414ms\tremaining: 165ms\n",
      "715:\tlearn: 0.0193166\ttotal: 414ms\tremaining: 164ms\n",
      "716:\tlearn: 0.0192106\ttotal: 415ms\tremaining: 164ms\n",
      "717:\tlearn: 0.0191766\ttotal: 415ms\tremaining: 163ms\n",
      "718:\tlearn: 0.0191386\ttotal: 416ms\tremaining: 163ms\n",
      "719:\tlearn: 0.0190459\ttotal: 416ms\tremaining: 162ms\n",
      "720:\tlearn: 0.0189979\ttotal: 417ms\tremaining: 161ms\n",
      "721:\tlearn: 0.0189511\ttotal: 417ms\tremaining: 161ms\n",
      "722:\tlearn: 0.0189412\ttotal: 418ms\tremaining: 160ms\n",
      "723:\tlearn: 0.0189039\ttotal: 418ms\tremaining: 159ms\n",
      "724:\tlearn: 0.0188606\ttotal: 419ms\tremaining: 159ms\n",
      "725:\tlearn: 0.0187731\ttotal: 419ms\tremaining: 158ms\n",
      "726:\tlearn: 0.0186778\ttotal: 420ms\tremaining: 158ms\n",
      "727:\tlearn: 0.0186335\ttotal: 424ms\tremaining: 158ms\n",
      "728:\tlearn: 0.0186240\ttotal: 425ms\tremaining: 158ms\n",
      "729:\tlearn: 0.0185401\ttotal: 425ms\tremaining: 157ms\n",
      "730:\tlearn: 0.0184488\ttotal: 425ms\tremaining: 157ms\n",
      "731:\tlearn: 0.0184024\ttotal: 426ms\tremaining: 156ms\n",
      "732:\tlearn: 0.0183603\ttotal: 426ms\tremaining: 155ms\n",
      "733:\tlearn: 0.0183147\ttotal: 427ms\tremaining: 155ms\n",
      "734:\tlearn: 0.0182736\ttotal: 428ms\tremaining: 154ms\n",
      "735:\tlearn: 0.0182289\ttotal: 428ms\tremaining: 154ms\n",
      "736:\tlearn: 0.0181899\ttotal: 429ms\tremaining: 153ms\n",
      "737:\tlearn: 0.0181576\ttotal: 429ms\tremaining: 152ms\n",
      "738:\tlearn: 0.0180860\ttotal: 429ms\tremaining: 152ms\n",
      "739:\tlearn: 0.0179877\ttotal: 430ms\tremaining: 151ms\n",
      "740:\tlearn: 0.0179363\ttotal: 430ms\tremaining: 150ms\n",
      "741:\tlearn: 0.0178860\ttotal: 431ms\tremaining: 150ms\n",
      "742:\tlearn: 0.0178194\ttotal: 432ms\tremaining: 149ms\n",
      "743:\tlearn: 0.0177566\ttotal: 432ms\tremaining: 149ms\n",
      "744:\tlearn: 0.0176789\ttotal: 433ms\tremaining: 148ms\n",
      "745:\tlearn: 0.0176178\ttotal: 433ms\tremaining: 147ms\n",
      "746:\tlearn: 0.0175692\ttotal: 434ms\tremaining: 147ms\n",
      "747:\tlearn: 0.0175124\ttotal: 434ms\tremaining: 146ms\n",
      "748:\tlearn: 0.0174647\ttotal: 435ms\tremaining: 146ms\n",
      "749:\tlearn: 0.0174182\ttotal: 436ms\tremaining: 145ms\n",
      "750:\tlearn: 0.0173724\ttotal: 436ms\tremaining: 145ms\n",
      "751:\tlearn: 0.0172990\ttotal: 437ms\tremaining: 144ms\n",
      "752:\tlearn: 0.0172643\ttotal: 437ms\tremaining: 143ms\n",
      "753:\tlearn: 0.0172200\ttotal: 438ms\tremaining: 143ms\n",
      "754:\tlearn: 0.0171649\ttotal: 438ms\tremaining: 142ms\n",
      "755:\tlearn: 0.0171215\ttotal: 439ms\tremaining: 142ms\n",
      "756:\tlearn: 0.0170786\ttotal: 439ms\tremaining: 141ms\n",
      "757:\tlearn: 0.0170369\ttotal: 440ms\tremaining: 140ms\n",
      "758:\tlearn: 0.0169988\ttotal: 440ms\tremaining: 140ms\n",
      "759:\tlearn: 0.0169882\ttotal: 441ms\tremaining: 139ms\n",
      "760:\tlearn: 0.0169341\ttotal: 441ms\tremaining: 139ms\n",
      "761:\tlearn: 0.0168936\ttotal: 442ms\tremaining: 138ms\n",
      "762:\tlearn: 0.0168860\ttotal: 442ms\tremaining: 137ms\n",
      "763:\tlearn: 0.0168785\ttotal: 443ms\tremaining: 137ms\n",
      "764:\tlearn: 0.0168328\ttotal: 443ms\tremaining: 136ms\n",
      "765:\tlearn: 0.0167905\ttotal: 444ms\tremaining: 136ms\n",
      "766:\tlearn: 0.0167377\ttotal: 444ms\tremaining: 135ms\n",
      "767:\tlearn: 0.0166753\ttotal: 444ms\tremaining: 134ms\n",
      "768:\tlearn: 0.0166343\ttotal: 445ms\tremaining: 134ms\n",
      "769:\tlearn: 0.0166020\ttotal: 445ms\tremaining: 133ms\n",
      "770:\tlearn: 0.0165701\ttotal: 446ms\tremaining: 132ms\n",
      "771:\tlearn: 0.0165220\ttotal: 446ms\tremaining: 132ms\n",
      "772:\tlearn: 0.0164829\ttotal: 447ms\tremaining: 131ms\n",
      "773:\tlearn: 0.0164445\ttotal: 447ms\tremaining: 131ms\n",
      "774:\tlearn: 0.0164047\ttotal: 448ms\tremaining: 130ms\n",
      "775:\tlearn: 0.0163977\ttotal: 448ms\tremaining: 129ms\n",
      "776:\tlearn: 0.0163379\ttotal: 449ms\tremaining: 129ms\n",
      "777:\tlearn: 0.0162906\ttotal: 449ms\tremaining: 128ms\n",
      "778:\tlearn: 0.0162531\ttotal: 450ms\tremaining: 128ms\n",
      "779:\tlearn: 0.0162099\ttotal: 450ms\tremaining: 127ms\n",
      "780:\tlearn: 0.0161715\ttotal: 450ms\tremaining: 126ms\n",
      "781:\tlearn: 0.0161223\ttotal: 451ms\tremaining: 126ms\n",
      "782:\tlearn: 0.0160854\ttotal: 452ms\tremaining: 125ms\n",
      "783:\tlearn: 0.0160489\ttotal: 452ms\tremaining: 125ms\n",
      "784:\tlearn: 0.0160116\ttotal: 453ms\tremaining: 124ms\n",
      "785:\tlearn: 0.0159637\ttotal: 453ms\tremaining: 123ms\n",
      "786:\tlearn: 0.0159278\ttotal: 454ms\tremaining: 123ms\n",
      "787:\tlearn: 0.0159214\ttotal: 454ms\tremaining: 122ms\n",
      "788:\tlearn: 0.0158800\ttotal: 454ms\tremaining: 122ms\n",
      "789:\tlearn: 0.0158735\ttotal: 455ms\tremaining: 121ms\n",
      "790:\tlearn: 0.0158672\ttotal: 455ms\tremaining: 120ms\n",
      "791:\tlearn: 0.0158102\ttotal: 456ms\tremaining: 120ms\n",
      "792:\tlearn: 0.0157633\ttotal: 456ms\tremaining: 119ms\n",
      "793:\tlearn: 0.0157311\ttotal: 457ms\tremaining: 118ms\n",
      "794:\tlearn: 0.0156952\ttotal: 457ms\tremaining: 118ms\n",
      "795:\tlearn: 0.0156611\ttotal: 457ms\tremaining: 117ms\n",
      "796:\tlearn: 0.0156252\ttotal: 458ms\tremaining: 117ms\n",
      "797:\tlearn: 0.0155902\ttotal: 458ms\tremaining: 116ms\n",
      "798:\tlearn: 0.0155561\ttotal: 459ms\tremaining: 115ms\n",
      "799:\tlearn: 0.0155229\ttotal: 459ms\tremaining: 115ms\n",
      "800:\tlearn: 0.0154790\ttotal: 460ms\tremaining: 114ms\n",
      "801:\tlearn: 0.0154473\ttotal: 460ms\tremaining: 114ms\n",
      "802:\tlearn: 0.0154277\ttotal: 460ms\tremaining: 113ms\n",
      "803:\tlearn: 0.0154218\ttotal: 461ms\tremaining: 112ms\n",
      "804:\tlearn: 0.0153883\ttotal: 461ms\tremaining: 112ms\n",
      "805:\tlearn: 0.0153822\ttotal: 462ms\tremaining: 111ms\n",
      "806:\tlearn: 0.0153583\ttotal: 462ms\tremaining: 110ms\n",
      "807:\tlearn: 0.0153255\ttotal: 462ms\tremaining: 110ms\n",
      "808:\tlearn: 0.0153023\ttotal: 463ms\tremaining: 109ms\n",
      "809:\tlearn: 0.0152869\ttotal: 463ms\tremaining: 109ms\n",
      "810:\tlearn: 0.0152814\ttotal: 464ms\tremaining: 108ms\n",
      "811:\tlearn: 0.0152739\ttotal: 465ms\tremaining: 108ms\n",
      "812:\tlearn: 0.0152096\ttotal: 465ms\tremaining: 107ms\n",
      "813:\tlearn: 0.0152039\ttotal: 466ms\tremaining: 106ms\n",
      "814:\tlearn: 0.0151716\ttotal: 466ms\tremaining: 106ms\n",
      "815:\tlearn: 0.0151397\ttotal: 467ms\tremaining: 105ms\n",
      "816:\tlearn: 0.0151173\ttotal: 467ms\tremaining: 105ms\n",
      "817:\tlearn: 0.0150872\ttotal: 468ms\tremaining: 104ms\n",
      "818:\tlearn: 0.0150723\ttotal: 468ms\tremaining: 103ms\n",
      "819:\tlearn: 0.0150611\ttotal: 468ms\tremaining: 103ms\n",
      "820:\tlearn: 0.0150501\ttotal: 469ms\tremaining: 102ms\n",
      "821:\tlearn: 0.0150383\ttotal: 469ms\tremaining: 102ms\n",
      "822:\tlearn: 0.0150089\ttotal: 470ms\tremaining: 101ms\n",
      "823:\tlearn: 0.0150037\ttotal: 470ms\tremaining: 100ms\n",
      "824:\tlearn: 0.0149395\ttotal: 471ms\tremaining: 99.9ms\n",
      "825:\tlearn: 0.0148764\ttotal: 471ms\tremaining: 99.3ms\n",
      "826:\tlearn: 0.0148476\ttotal: 472ms\tremaining: 98.7ms\n",
      "827:\tlearn: 0.0148425\ttotal: 472ms\tremaining: 98.1ms\n",
      "828:\tlearn: 0.0147807\ttotal: 473ms\tremaining: 97.5ms\n",
      "829:\tlearn: 0.0147757\ttotal: 473ms\tremaining: 96.9ms\n",
      "830:\tlearn: 0.0147150\ttotal: 474ms\tremaining: 96.3ms\n",
      "831:\tlearn: 0.0146882\ttotal: 474ms\tremaining: 95.8ms\n",
      "832:\tlearn: 0.0145958\ttotal: 475ms\tremaining: 95.2ms\n",
      "833:\tlearn: 0.0145696\ttotal: 475ms\tremaining: 94.6ms\n"
     ]
    },
    {
     "name": "stdout",
     "output_type": "stream",
     "text": [
      "834:\tlearn: 0.0145416\ttotal: 476ms\tremaining: 94.1ms\n",
      "835:\tlearn: 0.0144572\ttotal: 477ms\tremaining: 93.5ms\n",
      "836:\tlearn: 0.0144117\ttotal: 477ms\tremaining: 92.9ms\n",
      "837:\tlearn: 0.0143224\ttotal: 478ms\tremaining: 92.3ms\n",
      "838:\tlearn: 0.0142833\ttotal: 478ms\tremaining: 91.7ms\n",
      "839:\tlearn: 0.0142237\ttotal: 478ms\tremaining: 91.1ms\n",
      "840:\tlearn: 0.0141931\ttotal: 479ms\tremaining: 90.5ms\n",
      "841:\tlearn: 0.0141782\ttotal: 479ms\tremaining: 89.9ms\n",
      "842:\tlearn: 0.0141582\ttotal: 480ms\tremaining: 89.3ms\n",
      "843:\tlearn: 0.0141280\ttotal: 480ms\tremaining: 88.7ms\n",
      "844:\tlearn: 0.0141100\ttotal: 480ms\tremaining: 88.1ms\n",
      "845:\tlearn: 0.0140834\ttotal: 481ms\tremaining: 87.5ms\n",
      "846:\tlearn: 0.0140390\ttotal: 481ms\tremaining: 86.9ms\n",
      "847:\tlearn: 0.0140214\ttotal: 482ms\tremaining: 86.3ms\n",
      "848:\tlearn: 0.0140022\ttotal: 482ms\tremaining: 85.7ms\n",
      "849:\tlearn: 0.0139753\ttotal: 482ms\tremaining: 85.1ms\n",
      "850:\tlearn: 0.0139579\ttotal: 483ms\tremaining: 84.5ms\n",
      "851:\tlearn: 0.0139409\ttotal: 483ms\tremaining: 83.9ms\n",
      "852:\tlearn: 0.0138832\ttotal: 483ms\tremaining: 83.3ms\n",
      "853:\tlearn: 0.0138645\ttotal: 484ms\tremaining: 82.7ms\n",
      "854:\tlearn: 0.0138537\ttotal: 484ms\tremaining: 82.1ms\n",
      "855:\tlearn: 0.0137933\ttotal: 484ms\tremaining: 81.5ms\n",
      "856:\tlearn: 0.0137881\ttotal: 485ms\tremaining: 80.9ms\n",
      "857:\tlearn: 0.0137488\ttotal: 485ms\tremaining: 80.3ms\n",
      "858:\tlearn: 0.0137063\ttotal: 486ms\tremaining: 79.7ms\n",
      "859:\tlearn: 0.0136966\ttotal: 486ms\tremaining: 79.1ms\n",
      "860:\tlearn: 0.0136755\ttotal: 487ms\tremaining: 78.5ms\n",
      "861:\tlearn: 0.0136199\ttotal: 487ms\tremaining: 78ms\n",
      "862:\tlearn: 0.0135925\ttotal: 487ms\tremaining: 77.4ms\n",
      "863:\tlearn: 0.0135283\ttotal: 488ms\tremaining: 76.8ms\n",
      "864:\tlearn: 0.0134655\ttotal: 488ms\tremaining: 76.2ms\n",
      "865:\tlearn: 0.0134359\ttotal: 489ms\tremaining: 75.6ms\n",
      "866:\tlearn: 0.0134101\ttotal: 489ms\tremaining: 75ms\n",
      "867:\tlearn: 0.0133626\ttotal: 490ms\tremaining: 74.4ms\n",
      "868:\tlearn: 0.0133422\ttotal: 490ms\tremaining: 73.9ms\n",
      "869:\tlearn: 0.0132958\ttotal: 490ms\tremaining: 73.3ms\n",
      "870:\tlearn: 0.0132208\ttotal: 491ms\tremaining: 72.7ms\n",
      "871:\tlearn: 0.0132032\ttotal: 491ms\tremaining: 72.1ms\n",
      "872:\tlearn: 0.0131683\ttotal: 492ms\tremaining: 71.6ms\n",
      "873:\tlearn: 0.0130982\ttotal: 492ms\tremaining: 71ms\n",
      "874:\tlearn: 0.0130253\ttotal: 493ms\tremaining: 70.4ms\n",
      "875:\tlearn: 0.0129658\ttotal: 493ms\tremaining: 69.8ms\n",
      "876:\tlearn: 0.0129050\ttotal: 494ms\tremaining: 69.3ms\n",
      "877:\tlearn: 0.0128510\ttotal: 494ms\tremaining: 68.7ms\n",
      "878:\tlearn: 0.0127923\ttotal: 495ms\tremaining: 68.1ms\n",
      "879:\tlearn: 0.0127350\ttotal: 495ms\tremaining: 67.5ms\n",
      "880:\tlearn: 0.0126776\ttotal: 495ms\tremaining: 66.9ms\n",
      "881:\tlearn: 0.0126226\ttotal: 496ms\tremaining: 66.3ms\n",
      "882:\tlearn: 0.0125665\ttotal: 496ms\tremaining: 65.7ms\n",
      "883:\tlearn: 0.0125129\ttotal: 497ms\tremaining: 65.2ms\n",
      "884:\tlearn: 0.0124575\ttotal: 497ms\tremaining: 64.6ms\n",
      "885:\tlearn: 0.0124044\ttotal: 498ms\tremaining: 64ms\n",
      "886:\tlearn: 0.0123476\ttotal: 498ms\tremaining: 63.4ms\n",
      "887:\tlearn: 0.0123250\ttotal: 498ms\tremaining: 62.9ms\n",
      "888:\tlearn: 0.0122754\ttotal: 499ms\tremaining: 62.3ms\n",
      "889:\tlearn: 0.0122121\ttotal: 499ms\tremaining: 61.7ms\n",
      "890:\tlearn: 0.0121862\ttotal: 500ms\tremaining: 61.1ms\n",
      "891:\tlearn: 0.0121642\ttotal: 500ms\tremaining: 60.6ms\n",
      "892:\tlearn: 0.0121387\ttotal: 501ms\tremaining: 60ms\n",
      "893:\tlearn: 0.0121065\ttotal: 501ms\tremaining: 59.4ms\n",
      "894:\tlearn: 0.0120446\ttotal: 501ms\tremaining: 58.8ms\n",
      "895:\tlearn: 0.0120196\ttotal: 502ms\tremaining: 58.3ms\n",
      "896:\tlearn: 0.0119882\ttotal: 503ms\tremaining: 57.7ms\n",
      "897:\tlearn: 0.0119276\ttotal: 503ms\tremaining: 57.2ms\n",
      "898:\tlearn: 0.0119060\ttotal: 504ms\tremaining: 56.6ms\n",
      "899:\tlearn: 0.0118449\ttotal: 504ms\tremaining: 56ms\n",
      "900:\tlearn: 0.0118207\ttotal: 505ms\tremaining: 55.5ms\n",
      "901:\tlearn: 0.0117607\ttotal: 505ms\tremaining: 54.9ms\n",
      "902:\tlearn: 0.0117369\ttotal: 506ms\tremaining: 54.3ms\n",
      "903:\tlearn: 0.0116779\ttotal: 506ms\tremaining: 53.8ms\n",
      "904:\tlearn: 0.0116198\ttotal: 507ms\tremaining: 53.2ms\n",
      "905:\tlearn: 0.0115697\ttotal: 508ms\tremaining: 52.7ms\n",
      "906:\tlearn: 0.0115129\ttotal: 508ms\tremaining: 52.1ms\n",
      "907:\tlearn: 0.0114713\ttotal: 508ms\tremaining: 51.5ms\n",
      "908:\tlearn: 0.0114225\ttotal: 509ms\tremaining: 50.9ms\n",
      "909:\tlearn: 0.0113739\ttotal: 509ms\tremaining: 50.4ms\n",
      "910:\tlearn: 0.0113263\ttotal: 510ms\tremaining: 49.8ms\n",
      "911:\tlearn: 0.0112989\ttotal: 510ms\tremaining: 49.2ms\n",
      "912:\tlearn: 0.0112438\ttotal: 511ms\tremaining: 48.7ms\n",
      "913:\tlearn: 0.0112285\ttotal: 511ms\tremaining: 48.1ms\n",
      "914:\tlearn: 0.0111878\ttotal: 511ms\tremaining: 47.5ms\n",
      "915:\tlearn: 0.0111730\ttotal: 512ms\tremaining: 46.9ms\n",
      "916:\tlearn: 0.0111463\ttotal: 512ms\tremaining: 46.4ms\n",
      "917:\tlearn: 0.0111377\ttotal: 512ms\tremaining: 45.8ms\n",
      "918:\tlearn: 0.0111219\ttotal: 513ms\tremaining: 45.2ms\n",
      "919:\tlearn: 0.0110552\ttotal: 513ms\tremaining: 44.6ms\n",
      "920:\tlearn: 0.0110332\ttotal: 514ms\tremaining: 44.1ms\n",
      "921:\tlearn: 0.0109683\ttotal: 514ms\tremaining: 43.5ms\n",
      "922:\tlearn: 0.0109050\ttotal: 514ms\tremaining: 42.9ms\n",
      "923:\tlearn: 0.0108651\ttotal: 515ms\tremaining: 42.3ms\n",
      "924:\tlearn: 0.0108516\ttotal: 515ms\tremaining: 41.8ms\n",
      "925:\tlearn: 0.0108412\ttotal: 515ms\tremaining: 41.2ms\n",
      "926:\tlearn: 0.0107942\ttotal: 516ms\tremaining: 40.6ms\n",
      "927:\tlearn: 0.0107612\ttotal: 516ms\tremaining: 40.1ms\n",
      "928:\tlearn: 0.0107187\ttotal: 517ms\tremaining: 39.5ms\n",
      "929:\tlearn: 0.0106801\ttotal: 517ms\tremaining: 38.9ms\n",
      "930:\tlearn: 0.0106350\ttotal: 518ms\tremaining: 38.4ms\n",
      "931:\tlearn: 0.0106045\ttotal: 518ms\tremaining: 37.8ms\n",
      "932:\tlearn: 0.0105819\ttotal: 519ms\tremaining: 37.2ms\n",
      "933:\tlearn: 0.0105553\ttotal: 519ms\tremaining: 36.7ms\n",
      "934:\tlearn: 0.0105293\ttotal: 519ms\tremaining: 36.1ms\n",
      "935:\tlearn: 0.0105227\ttotal: 520ms\tremaining: 35.6ms\n",
      "936:\tlearn: 0.0105162\ttotal: 520ms\tremaining: 35ms\n",
      "937:\tlearn: 0.0104718\ttotal: 521ms\tremaining: 34.4ms\n",
      "938:\tlearn: 0.0104350\ttotal: 521ms\tremaining: 33.9ms\n",
      "939:\tlearn: 0.0104134\ttotal: 522ms\tremaining: 33.3ms\n",
      "940:\tlearn: 0.0103881\ttotal: 522ms\tremaining: 32.8ms\n",
      "941:\tlearn: 0.0103561\ttotal: 523ms\tremaining: 32.2ms\n",
      "942:\tlearn: 0.0102995\ttotal: 523ms\tremaining: 31.6ms\n",
      "943:\tlearn: 0.0102500\ttotal: 524ms\tremaining: 31.1ms\n",
      "944:\tlearn: 0.0102118\ttotal: 524ms\tremaining: 30.5ms\n",
      "945:\tlearn: 0.0101965\ttotal: 524ms\tremaining: 29.9ms\n",
      "946:\tlearn: 0.0101814\ttotal: 525ms\tremaining: 29.4ms\n",
      "947:\tlearn: 0.0101664\ttotal: 525ms\tremaining: 28.8ms\n",
      "948:\tlearn: 0.0101259\ttotal: 526ms\tremaining: 28.3ms\n",
      "949:\tlearn: 0.0100848\ttotal: 526ms\tremaining: 27.7ms\n",
      "950:\tlearn: 0.0100460\ttotal: 527ms\tremaining: 27.1ms\n",
      "951:\tlearn: 0.0100059\ttotal: 527ms\tremaining: 26.6ms\n",
      "952:\tlearn: 0.0099680\ttotal: 527ms\tremaining: 26ms\n",
      "953:\tlearn: 0.0099288\ttotal: 528ms\tremaining: 25.5ms\n",
      "954:\tlearn: 0.0098920\ttotal: 529ms\tremaining: 24.9ms\n",
      "955:\tlearn: 0.0098537\ttotal: 529ms\tremaining: 24.4ms\n",
      "956:\tlearn: 0.0098178\ttotal: 530ms\tremaining: 23.8ms\n",
      "957:\tlearn: 0.0097814\ttotal: 530ms\tremaining: 23.2ms\n",
      "958:\tlearn: 0.0097463\ttotal: 531ms\tremaining: 22.7ms\n",
      "959:\tlearn: 0.0097095\ttotal: 531ms\tremaining: 22.1ms\n",
      "960:\tlearn: 0.0096753\ttotal: 532ms\tremaining: 21.6ms\n",
      "961:\tlearn: 0.0096450\ttotal: 532ms\tremaining: 21ms\n",
      "962:\tlearn: 0.0096068\ttotal: 532ms\tremaining: 20.5ms\n",
      "963:\tlearn: 0.0095603\ttotal: 533ms\tremaining: 19.9ms\n",
      "964:\tlearn: 0.0095252\ttotal: 533ms\tremaining: 19.3ms\n",
      "965:\tlearn: 0.0094790\ttotal: 534ms\tremaining: 18.8ms\n",
      "966:\tlearn: 0.0094462\ttotal: 534ms\tremaining: 18.2ms\n",
      "967:\tlearn: 0.0094142\ttotal: 535ms\tremaining: 17.7ms\n",
      "968:\tlearn: 0.0093840\ttotal: 535ms\tremaining: 17.1ms\n",
      "969:\tlearn: 0.0093574\ttotal: 536ms\tremaining: 16.6ms\n",
      "970:\tlearn: 0.0093381\ttotal: 536ms\tremaining: 16ms\n",
      "971:\tlearn: 0.0093023\ttotal: 536ms\tremaining: 15.5ms\n",
      "972:\tlearn: 0.0092741\ttotal: 537ms\tremaining: 14.9ms\n",
      "973:\tlearn: 0.0092394\ttotal: 537ms\tremaining: 14.3ms\n",
      "974:\tlearn: 0.0092130\ttotal: 538ms\tremaining: 13.8ms\n",
      "975:\tlearn: 0.0091791\ttotal: 538ms\tremaining: 13.2ms\n",
      "976:\tlearn: 0.0091533\ttotal: 539ms\tremaining: 12.7ms\n",
      "977:\tlearn: 0.0091492\ttotal: 539ms\tremaining: 12.1ms\n",
      "978:\tlearn: 0.0091453\ttotal: 539ms\tremaining: 11.6ms\n",
      "979:\tlearn: 0.0091413\ttotal: 540ms\tremaining: 11ms\n",
      "980:\tlearn: 0.0091373\ttotal: 540ms\tremaining: 10.5ms\n",
      "981:\tlearn: 0.0091084\ttotal: 541ms\tremaining: 9.91ms\n",
      "982:\tlearn: 0.0091045\ttotal: 541ms\tremaining: 9.35ms\n",
      "983:\tlearn: 0.0091007\ttotal: 548ms\tremaining: 8.91ms\n",
      "984:\tlearn: 0.0090588\ttotal: 548ms\tremaining: 8.35ms\n",
      "985:\tlearn: 0.0090502\ttotal: 549ms\tremaining: 7.79ms\n",
      "986:\tlearn: 0.0090184\ttotal: 549ms\tremaining: 7.24ms\n",
      "987:\tlearn: 0.0089939\ttotal: 550ms\tremaining: 6.68ms\n",
      "988:\tlearn: 0.0089898\ttotal: 550ms\tremaining: 6.12ms\n",
      "989:\tlearn: 0.0089646\ttotal: 551ms\tremaining: 5.56ms\n",
      "990:\tlearn: 0.0089605\ttotal: 551ms\tremaining: 5.01ms\n",
      "991:\tlearn: 0.0089567\ttotal: 552ms\tremaining: 4.45ms\n",
      "992:\tlearn: 0.0089510\ttotal: 552ms\tremaining: 3.89ms\n",
      "993:\tlearn: 0.0089473\ttotal: 553ms\tremaining: 3.34ms\n",
      "994:\tlearn: 0.0089434\ttotal: 553ms\tremaining: 2.78ms\n",
      "995:\tlearn: 0.0089394\ttotal: 554ms\tremaining: 2.22ms\n"
     ]
    },
    {
     "name": "stdout",
     "output_type": "stream",
     "text": [
      "996:\tlearn: 0.0089083\ttotal: 554ms\tremaining: 1.67ms\n",
      "997:\tlearn: 0.0089046\ttotal: 555ms\tremaining: 1.11ms\n",
      "998:\tlearn: 0.0088799\ttotal: 556ms\tremaining: 556us\n",
      "999:\tlearn: 0.0088656\ttotal: 556ms\tremaining: 0us\n"
     ]
    },
    {
     "data": {
      "text/plain": [
       "<catboost.core.CatBoostRegressor at 0x7fac781484c0>"
      ]
     },
     "execution_count": 9,
     "metadata": {},
     "output_type": "execute_result"
    }
   ],
   "source": [
    "#Train the Model \n",
    "prior_model = ctb.CatBoostRegressor()\n",
    "prior_model.fit(X_train,Y_train)"
   ]
  },
  {
   "cell_type": "code",
   "execution_count": 10,
   "id": "af65dcda",
   "metadata": {
    "execution": {
     "iopub.execute_input": "2022-06-07T07:10:45.847981Z",
     "iopub.status.busy": "2022-06-07T07:10:45.847570Z",
     "iopub.status.idle": "2022-06-07T07:10:45.854969Z",
     "shell.execute_reply": "2022-06-07T07:10:45.855266Z"
    },
    "id": "af65dcda",
    "papermill": {
     "duration": 0.020379,
     "end_time": "2022-06-07T07:10:45.855385",
     "exception": false,
     "start_time": "2022-06-07T07:10:45.835006",
     "status": "completed"
    },
    "tags": []
   },
   "outputs": [
    {
     "data": {
      "application/scrapbook.scrap.json+json": {
       "data": 0.2538179987624839,
       "encoder": "json",
       "name": "Prior Model MSE",
       "version": 1
      }
     },
     "metadata": {
      "scrapbook": {
       "data": true,
       "display": false,
       "name": "Prior Model MSE"
      }
     },
     "output_type": "display_data"
    },
    {
     "data": {
      "application/scrapbook.scrap.json+json": {
       "data": 0.2943045452221568,
       "encoder": "json",
       "name": "ABC Pre-generator MSE",
       "version": 1
      }
     },
     "metadata": {
      "scrapbook": {
       "data": true,
       "display": false,
       "name": "ABC Pre-generator MSE"
      }
     },
     "output_type": "display_data"
    },
    {
     "data": {
      "application/scrapbook.scrap.json+json": {
       "data": 0.3958906438910608,
       "encoder": "json",
       "name": "Prior Model MSE",
       "version": 1
      }
     },
     "metadata": {
      "scrapbook": {
       "data": true,
       "display": false,
       "name": "Prior Model MSE"
      }
     },
     "output_type": "display_data"
    },
    {
     "data": {
      "application/scrapbook.scrap.json+json": {
       "data": 0.4092686867000124,
       "encoder": "json",
       "name": "ABC Pre-generator MSE",
       "version": 1
      }
     },
     "metadata": {
      "scrapbook": {
       "data": true,
       "display": false,
       "name": "ABC Pre-generator MSE"
      }
     },
     "output_type": "display_data"
    }
   ],
   "source": [
    "y_pred = prior_model.predict(X_test)\n",
    "y_abc = y_pred + np.random.normal(0,variance, y_pred.shape) + bias \n",
    "mse = mean_squared_error(y_pred,Y_test)\n",
    "sb.glue(\"Prior Model MSE\",mse)\n",
    "mse = mean_squared_error(y_abc,Y_test)\n",
    "sb.glue(\"ABC Pre-generator MSE\",mse)\n",
    "mae = mean_absolute_error(y_pred,Y_test)\n",
    "sb.glue(\"Prior Model MSE\",mae)\n",
    "mae = mean_absolute_error(y_abc,Y_test)\n",
    "sb.glue(\"ABC Pre-generator MSE\",mae)"
   ]
  },
  {
   "cell_type": "markdown",
   "id": "25609da2",
   "metadata": {
    "papermill": {
     "duration": 0.009559,
     "end_time": "2022-06-07T07:10:45.874798",
     "exception": false,
     "start_time": "2022-06-07T07:10:45.865239",
     "status": "completed"
    },
    "tags": []
   },
   "source": [
    "# ABC GAN Model"
   ]
  },
  {
   "cell_type": "code",
   "execution_count": 11,
   "id": "dfc3464d",
   "metadata": {
    "execution": {
     "iopub.execute_input": "2022-06-07T07:10:45.896837Z",
     "iopub.status.busy": "2022-06-07T07:10:45.896469Z",
     "iopub.status.idle": "2022-06-07T07:10:45.898938Z",
     "shell.execute_reply": "2022-06-07T07:10:45.899166Z"
    },
    "papermill": {
     "duration": 0.014929,
     "end_time": "2022-06-07T07:10:45.899280",
     "exception": false,
     "start_time": "2022-06-07T07:10:45.884351",
     "status": "completed"
    },
    "tags": []
   },
   "outputs": [],
   "source": [
    "gen = network.Generator(n_features+1).to(device)\n",
    "disc = network.Discriminator(n_features+1).to(device)\n",
    "\n",
    "criterion = torch.nn.BCELoss()\n",
    "gen_opt = torch.optim.Adam(gen.parameters(), lr=0.001, betas=(0.5, 0.999))\n",
    "disc_opt = torch.optim.Adam(disc.parameters(), lr=0.001, betas=(0.5, 0.999))"
   ]
  },
  {
   "cell_type": "code",
   "execution_count": 12,
   "id": "b75fdd85",
   "metadata": {
    "execution": {
     "iopub.execute_input": "2022-06-07T07:10:45.921150Z",
     "iopub.status.busy": "2022-06-07T07:10:45.920771Z",
     "iopub.status.idle": "2022-06-07T07:11:01.254591Z",
     "shell.execute_reply": "2022-06-07T07:11:01.254925Z"
    },
    "papermill": {
     "duration": 15.345924,
     "end_time": "2022-06-07T07:11:01.255090",
     "exception": false,
     "start_time": "2022-06-07T07:10:45.909166",
     "status": "completed"
    },
    "tags": []
   },
   "outputs": [
    {
     "data": {
      "image/png": "[encoded data removed]",
      "text/plain": [
       "<Figure size 432x288 with 1 Axes>"
      ]
     },
     "metadata": {
      "needs_background": "light"
     },
     "output_type": "display_data"
    },
    {
     "data": {
      "image/png": "[encoded data removed]",
      "text/plain": [
       "<Figure size 432x288 with 1 Axes>"
      ]
     },
     "metadata": {
      "needs_background": "light"
     },
     "output_type": "display_data"
    }
   ],
   "source": [
    "#Training the ABC_GAN \n",
    "ABC_train_test2.training_GAN(disc,gen,disc_opt,gen_opt,train_data,batch_size,n_epochs,criterion,prior_model,variance,bias,device)"
   ]
  },
  {
   "cell_type": "code",
   "execution_count": 13,
   "id": "1fa7c368",
   "metadata": {
    "execution": {
     "iopub.execute_input": "2022-06-07T07:11:01.281707Z",
     "iopub.status.busy": "2022-06-07T07:11:01.281306Z",
     "iopub.status.idle": "2022-06-07T07:11:01.468148Z",
     "shell.execute_reply": "2022-06-07T07:11:01.468402Z"
    },
    "papermill": {
     "duration": 0.201006,
     "end_time": "2022-06-07T07:11:01.468532",
     "exception": false,
     "start_time": "2022-06-07T07:11:01.267526",
     "status": "completed"
    },
    "tags": []
   },
   "outputs": [
    {
     "data": {
      "application/scrapbook.scrap.json+json": {
       "data": 0.21701873763370313,
       "encoder": "json",
       "name": "ABC-GAN Model 1 MSE",
       "version": 1
      }
     },
     "metadata": {
      "scrapbook": {
       "data": true,
       "display": false,
       "name": "ABC-GAN Model 1 MSE"
      }
     },
     "output_type": "display_data"
    },
    {
     "data": {
      "application/scrapbook.scrap.json+json": {
       "data": 0.35725770322047173,
       "encoder": "json",
       "name": "ABC-GAN Model 1 MAE",
       "version": 1
      }
     },
     "metadata": {
      "scrapbook": {
       "data": true,
       "display": false,
       "name": "ABC-GAN Model 1 MAE"
      }
     },
     "output_type": "display_data"
    },
    {
     "data": {
      "application/scrapbook.scrap.json+json": {
       "data": 7.145154064409435,
       "encoder": "json",
       "name": "ABC-GAN Model 1 Manhattan Distance",
       "version": 1
      }
     },
     "metadata": {
      "scrapbook": {
       "data": true,
       "display": false,
       "name": "ABC-GAN Model 1 Manhattan Distance"
      }
     },
     "output_type": "display_data"
    },
    {
     "data": {
      "application/scrapbook.scrap.json+json": {
       "data": 2.0833430123228895,
       "encoder": "json",
       "name": "ABC-GAN Model 1 Euclidean distance",
       "version": 1
      }
     },
     "metadata": {
      "scrapbook": {
       "data": true,
       "display": false,
       "name": "ABC-GAN Model 1 Euclidean distance"
      }
     },
     "output_type": "display_data"
    },
    {
     "data": {
      "application/scrapbook.scrap.json+json": {
       "data": [
        [
         0.2186667889899058,
         0.21767416584853488,
         0.21759003674167826,
         0.21658449024069718,
         0.2147844367164545,
         0.2175038640679004,
         0.21707147314947872,
         0.21596423960428188,
         0.21494415433906605,
         0.21761001537352617,
         0.2145123444773212,
         0.21609885715949578,
         0.21622559215917705,
         0.217857019351483,
         0.2160643186683946,
         0.2185033146916068,
         0.21918971088738942,
         0.21485268600986474,
         0.21843969160388582,
         0.21621392424141997,
         0.21638342514396572,
         0.21937599575119693,
         0.21462086624409166,
         0.2174613701869495,
         0.21313605828751275,
         0.215468844289943,
         0.21841433772759994,
         0.2173675995562782,
         0.21563287356967842,
         0.21807349210940705,
         0.21867501773254333,
         0.21760904069531736,
         0.2153340915280236,
         0.21690698040986608,
         0.21779210259408152,
         0.2173745730618329,
         0.21767674148379706,
         0.21649569073046226,
         0.21881598890880052,
         0.2163582784955591,
         0.21830481278101982,
         0.2190881361190713,
         0.21740526799239374,
         0.21507416769161702,
         0.21776781231358036,
         0.2168526628601989,
         0.21556898668279087,
         0.21455991529842972,
         0.21657796522587436,
         0.21578320882724347,
         0.21560720212299608,
         0.21513023862086297,
         0.21534385336114886,
         0.21613491348628494,
         0.2149213422269951,
         0.21305267200822367,
         0.21679143211266486,
         0.21679278689230697,
         0.21757381491883065,
         0.21480078136013403,
         0.21954116885579542,
         0.2154704459022479,
         0.21831833736993933,
         0.21856251160466633,
         0.214718264412173,
         0.21770991927043734,
         0.21669652619490795,
         0.21892433196362684,
         0.21681980814920818,
         0.2184455504663152,
         0.2173460581409572,
         0.2196806423831717,
         0.21842736035732888,
         0.2186314696507865,
         0.21955334162258047,
         0.21727724480307672,
         0.22005414505204005,
         0.21742077253646303,
         0.2184153055639492,
         0.21506009603695736,
         0.2195612801080426,
         0.22141077318931573,
         0.21793807408576793,
         0.21629626486406867,
         0.21509799023294263,
         0.21596655767486778,
         0.21898429406011033,
         0.21710959861028373,
         0.21518961684925264,
         0.2161037112915624,
         0.21621112821422983,
         0.21704400566637724,
         0.21666710754622223,
         0.21733753972022657,
         0.21708956734059245,
         0.21645753077675195,
         0.21914394286481215,
         0.2173897725165718,
         0.21880353853414633,
         0.21654170315640392
        ],
        [
         0.3591383326798677,
         0.3581134907901287,
         0.35606146790087223,
         0.35734936855733396,
         0.3568460976704955,
         0.35920561514794824,
         0.35829747915267945,
         0.35666994024068116,
         0.3557983964681625,
         0.35623367317020893,
         0.3553016986697912,
         0.3583728838711977,
         0.3540450241416693,
         0.3590110095217824,
         0.3574138294905424,
         0.3612569270655513,
         0.35872675441205504,
         0.35718954987823964,
         0.3577607735991478,
         0.35776144806295634,
         0.3548607563599944,
         0.3597996525466442,
         0.3562162214890122,
         0.3590584624558687,
         0.3537283090874553,
         0.3569416292011738,
         0.35754347816109655,
         0.35655654557049277,
         0.3568129753693938,
         0.35885205697268246,
         0.35720218773931267,
         0.35927923806011675,
         0.3584584504365921,
         0.3588934076949954,
         0.3583620827645063,
         0.3546730909496546,
         0.3568322403356433,
         0.3564964059740305,
         0.35813658125698566,
         0.3587122198194265,
         0.3597699077799916,
         0.36057859361171724,
         0.35856702253222467,
         0.35602406971156597,
         0.3583247909322381,
         0.3565953690558672,
         0.35412305146455764,
         0.3557200076058507,
         0.35700356476008893,
         0.35822423566132783,
         0.35665396191179755,
         0.3550650803372264,
         0.3528633590787649,
         0.35453110933303833,
         0.3562013119459152,
         0.3549616724252701,
         0.3562249135226011,
         0.35864874850958584,
         0.35869100484997035,
         0.3540723938494921,
         0.3589604636654258,
         0.3554971992969513,
         0.3595572207123041,
         0.3580379294231534,
         0.35280351880937816,
         0.3572206752374768,
         0.3560007633641362,
         0.35975450202822684,
         0.3556348655372858,
         0.35598235204815865,
         0.3582329671829939,
         0.35919913128018377,
         0.3584250297397375,
         0.3588082417845726,
         0.3566746462136507,
         0.35554398912936447,
         0.36071280874311923,
         0.3592018116265535,
         0.36163171343505385,
         0.3560907248407602,
         0.35774572659283876,
         0.36099475920200347,
         0.3566026173532009,
         0.35709227100014684,
         0.3542008871212602,
         0.3558737451210618,
         0.3574238054454327,
         0.3561625938862562,
         0.35632445514202116,
         0.35602556355297565,
         0.3543667171150446,
         0.3584736563265324,
         0.35691076666116717,
         0.35812342409044506,
         0.3560163125395775,
         0.3560373816639185,
         0.3579724382609129,
         0.3584583686664701,
         0.3609644386917353,
         0.3552159179002047
        ],
        [
         7.182766653597355,
         7.162269815802574,
         7.121229358017445,
         7.146987371146679,
         7.13692195340991,
         7.184112302958965,
         7.165949583053589,
         7.133398804813623,
         7.115967929363251,
         7.124673463404179,
         7.106033973395824,
         7.167457677423954,
         7.0809004828333855,
         7.180220190435648,
         7.148276589810848,
         7.225138541311026,
         7.1745350882411,
         7.143790997564793,
         7.155215471982956,
         7.155228961259127,
         7.097215127199888,
         7.195993050932884,
         7.124324429780245,
         7.181169249117374,
         7.0745661817491055,
         7.138832584023476,
         7.1508695632219315,
         7.131130911409855,
         7.1362595073878765,
         7.1770411394536495,
         7.144043754786253,
         7.185584761202335,
         7.169169008731842,
         7.177868153899908,
         7.167241655290127,
         7.093461818993092,
         7.136644806712866,
         7.12992811948061,
         7.162731625139713,
         7.174244396388531,
         7.1953981555998325,
         7.2115718722343445,
         7.171340450644493,
         7.120481394231319,
         7.166495818644762,
         7.131907381117344,
         7.082461029291153,
         7.114400152117014,
         7.140071295201778,
         7.164484713226557,
         7.1330792382359505,
         7.101301606744528,
         7.057267181575298,
         7.090622186660767,
         7.124026238918304,
         7.099233448505402,
         7.1244982704520226,
         7.172974970191717,
         7.173820096999407,
         7.0814478769898415,
         7.1792092733085155,
         7.109943985939026,
         7.191144414246082,
         7.160758588463068,
         7.056070376187563,
         7.1444135047495365,
         7.120015267282724,
         7.195090040564537,
         7.112697310745716,
         7.119647040963173,
         7.164659343659878,
         7.183982625603676,
         7.16850059479475,
         7.176164835691452,
         7.133492924273014,
         7.11087978258729,
         7.214256174862385,
         7.184036232531071,
         7.2326342687010765,
         7.121814496815205,
         7.154914531856775,
         7.21989518404007,
         7.132052347064018,
         7.141845420002937,
         7.084017742425203,
         7.117474902421236,
         7.148476108908653,
         7.123251877725124,
         7.126489102840424,
         7.120511271059513,
         7.087334342300892,
         7.169473126530647,
         7.138215333223343,
         7.162468481808901,
         7.12032625079155,
         7.12074763327837,
         7.159448765218258,
         7.169167373329401,
         7.219288773834705,
         7.104318358004093
        ],
        [
         2.0912522037760333,
         2.0865002556843115,
         2.0860970099287246,
         2.081271199246735,
         2.07260433617444,
         2.085683888166663,
         2.083609719450736,
         2.078288909676813,
         2.0733748061509094,
         2.0861927781177183,
         2.071291116561461,
         2.0789365414052243,
         2.0795460666173136,
         2.0873764363501044,
         2.078770399387073,
         2.0904703522968546,
         2.0937512311035875,
         2.072933602457468,
         2.0901659819444283,
         2.0794899578570702,
         2.0803049062287275,
         2.0946407603748995,
         2.071814983265116,
         2.0854801374597143,
         2.0646358433753527,
         2.0759038720034364,
         2.0900446776449537,
         2.0850304532849306,
         2.0766938800395134,
         2.088413235494389,
         2.0912915518049764,
         2.0861881060696197,
         2.0752546423416267,
         2.082820109418315,
         2.0870654162918876,
         2.085063898597992,
         2.086512599932227,
         2.0808444955376277,
         2.091965529872806,
         2.0801840230881457,
         2.089520580329468,
         2.0932660419500975,
         2.085211106782207,
         2.0740017728614264,
         2.0869490281920178,
         2.0825593046067086,
         2.0763862197712197,
         2.071520771309956,
         2.081239847907369,
         2.07741767022062,
         2.0765702594566653,
         2.074272106647838,
         2.0753016810148295,
         2.079109970570508,
         2.0732647791683294,
         2.0642319249940093,
         2.082265267023704,
         2.082271773291407,
         2.0860192468854675,
         2.072683195088598,
         2.095429162991655,
         2.0759115872418454,
         2.089585305126064,
         2.090753508210216,
         2.072285040298139,
         2.0866716045915674,
         2.081809435058396,
         2.092483366546204,
         2.0824015374043894,
         2.090194012364954,
         2.084927136093524,
         2.0960946657208575,
         2.090106984617433,
         2.09108330609178,
         2.0954872541849565,
         2.0845970584411595,
         2.0978758068676995,
         2.0852854602498097,
         2.0900493083367637,
         2.0739339239086543,
         2.0955251375635777,
         2.104332545912436,
         2.0877647093758815,
         2.0798858856392513,
         2.0741166323663798,
         2.0783000633925206,
         2.092769906416424,
         2.08379268935412,
         2.0745583474525495,
         2.0789598903853936,
         2.079476512078123,
         2.083477888850166,
         2.0816681173819336,
         2.0848862785304454,
         2.083696558237751,
         2.080661100596404,
         2.093532626279381,
         2.0851367941531884,
         2.0919060138263683,
         2.081065607598203
        ]
       ],
       "encoder": "json",
       "name": "ABC_GAN_1 Metrics",
       "version": 1
      }
     },
     "metadata": {
      "scrapbook": {
       "data": true,
       "display": false,
       "name": "ABC_GAN_1 Metrics"
      }
     },
     "output_type": "display_data"
    },
    {
     "name": "stdout",
     "output_type": "stream",
     "text": [
      "MSE\n",
      "0.21701873763370313\n"
     ]
    }
   ],
   "source": [
    "ABC_GAN1_metrics=ABC_train_test2.test_generator(gen,test_data,prior_model,variance,bias,\"1\",device)\n",
    "sb.glue(\"ABC_GAN_1 Metrics\",ABC_GAN1_metrics)\n",
    "\n",
    "print(\"MSE\")\n",
    "print(mean(ABC_GAN1_metrics[0]))"
   ]
  },
  {
   "cell_type": "code",
   "execution_count": 14,
   "id": "eb22ce5c",
   "metadata": {
    "execution": {
     "iopub.execute_input": "2022-06-07T07:11:01.497407Z",
     "iopub.status.busy": "2022-06-07T07:11:01.496969Z",
     "iopub.status.idle": "2022-06-07T07:11:01.806805Z",
     "shell.execute_reply": "2022-06-07T07:11:01.807068Z"
    },
    "papermill": {
     "duration": 0.325445,
     "end_time": "2022-06-07T07:11:01.807198",
     "exception": false,
     "start_time": "2022-06-07T07:11:01.481753",
     "status": "completed"
    },
    "tags": []
   },
   "outputs": [
    {
     "data": {
      "image/png": "[encoded data removed]",
      "text/plain": [
       "<Figure size 432x288 with 1 Axes>"
      ]
     },
     "metadata": {
      "needs_background": "light"
     },
     "output_type": "display_data"
    },
    {
     "data": {
      "image/png": "[encoded data removed]",
      "text/plain": [
       "<Figure size 432x288 with 1 Axes>"
      ]
     },
     "metadata": {
      "needs_background": "light"
     },
     "output_type": "display_data"
    },
    {
     "data": {
      "image/png": "[encoded data removed]",
      "text/plain": [
       "<Figure size 432x288 with 1 Axes>"
      ]
     },
     "metadata": {
      "needs_background": "light"
     },
     "output_type": "display_data"
    },
    {
     "data": {
      "image/png": "[encoded data removed]",
      "text/plain": [
       "<Figure size 432x288 with 1 Axes>"
      ]
     },
     "metadata": {
      "needs_background": "light"
     },
     "output_type": "display_data"
    }
   ],
   "source": [
    "sanityChecks.discProbVsError(train_data,disc,device)\n",
    "sanityChecks.discProbVsError(test_data,disc,device)"
   ]
  },
  {
   "cell_type": "markdown",
   "id": "130f3a4d",
   "metadata": {
    "id": "130f3a4d",
    "papermill": {
     "duration": 0.04196,
     "end_time": "2022-06-07T07:11:01.864352",
     "exception": false,
     "start_time": "2022-06-07T07:11:01.822392",
     "status": "completed"
    },
    "tags": []
   },
   "source": [
    "# ABC - GAN Model with skip connection"
   ]
  },
  {
   "cell_type": "code",
   "execution_count": 15,
   "id": "4e43dad1",
   "metadata": {
    "execution": {
     "iopub.execute_input": "2022-06-07T07:11:01.899232Z",
     "iopub.status.busy": "2022-06-07T07:11:01.898816Z",
     "iopub.status.idle": "2022-06-07T07:11:01.901384Z",
     "shell.execute_reply": "2022-06-07T07:11:01.901706Z"
    },
    "id": "4e43dad1",
    "papermill": {
     "duration": 0.021681,
     "end_time": "2022-06-07T07:11:01.901836",
     "exception": false,
     "start_time": "2022-06-07T07:11:01.880155",
     "status": "completed"
    },
    "tags": []
   },
   "outputs": [],
   "source": [
    "#Generator\n",
    "gen3 = network.GeneratorWithSkipConnection(n_features+1).to(device)\n",
    "constraints=network.weightConstraint()\n",
    "#Discriminator \n",
    "disc3 = network.Discriminator(n_features+1).to(device)\n",
    "\n",
    "criterion = torch.nn.BCELoss()\n",
    "gen_opt = torch.optim.Adam(gen3.parameters(), lr=0.001, betas=(0.5, 0.999))\n",
    "disc_opt = torch.optim.Adam(disc3.parameters(), lr=0.001, betas=(0.5, 0.999))\n"
   ]
  },
  {
   "cell_type": "code",
   "execution_count": 16,
   "id": "26acbc37",
   "metadata": {
    "execution": {
     "iopub.execute_input": "2022-06-07T07:11:01.935920Z",
     "iopub.status.busy": "2022-06-07T07:11:01.935539Z",
     "iopub.status.idle": "2022-06-07T07:11:41.620077Z",
     "shell.execute_reply": "2022-06-07T07:11:41.620408Z"
    },
    "id": "26acbc37",
    "papermill": {
     "duration": 39.70314,
     "end_time": "2022-06-07T07:11:41.620535",
     "exception": false,
     "start_time": "2022-06-07T07:11:01.917395",
     "status": "completed"
    },
    "tags": []
   },
   "outputs": [
    {
     "data": {
      "image/png": "[encoded data removed]",
      "text/plain": [
       "<Figure size 432x288 with 1 Axes>"
      ]
     },
     "metadata": {
      "needs_background": "light"
     },
     "output_type": "display_data"
    },
    {
     "data": {
      "image/png": "[encoded data removed]",
      "text/plain": [
       "<Figure size 432x288 with 1 Axes>"
      ]
     },
     "metadata": {
      "needs_background": "light"
     },
     "output_type": "display_data"
    }
   ],
   "source": [
    "ABC_train_test2.training_GAN_skip_connection(disc3,gen3,disc_opt,gen_opt,train_data,batch_size,n_epochs,criterion,prior_model,variance,bias,device)"
   ]
  },
  {
   "cell_type": "code",
   "execution_count": 17,
   "id": "c5e0717b",
   "metadata": {
    "execution": {
     "iopub.execute_input": "2022-06-07T07:11:41.655793Z",
     "iopub.status.busy": "2022-06-07T07:11:41.655238Z",
     "iopub.status.idle": "2022-06-07T07:11:41.983600Z",
     "shell.execute_reply": "2022-06-07T07:11:41.984632Z"
    },
    "id": "c5e0717b",
    "papermill": {
     "duration": 0.348344,
     "end_time": "2022-06-07T07:11:41.984966",
     "exception": false,
     "start_time": "2022-06-07T07:11:41.636622",
     "status": "completed"
    },
    "tags": []
   },
   "outputs": [
    {
     "data": {
      "application/scrapbook.scrap.json+json": {
       "data": 0.2241003488904106,
       "encoder": "json",
       "name": "ABC-GAN Model 3 MSE",
       "version": 1
      }
     },
     "metadata": {
      "scrapbook": {
       "data": true,
       "display": false,
       "name": "ABC-GAN Model 3 MSE"
      }
     },
     "output_type": "display_data"
    },
    {
     "data": {
      "application/scrapbook.scrap.json+json": {
       "data": 0.3776112709492445,
       "encoder": "json",
       "name": "ABC-GAN Model 3 MAE",
       "version": 1
      }
     },
     "metadata": {
      "scrapbook": {
       "data": true,
       "display": false,
       "name": "ABC-GAN Model 3 MAE"
      }
     },
     "output_type": "display_data"
    },
    {
     "data": {
      "application/scrapbook.scrap.json+json": {
       "data": 7.55222541898489,
       "encoder": "json",
       "name": "ABC-GAN Model 3 Manhattan Distance",
       "version": 1
      }
     },
     "metadata": {
      "scrapbook": {
       "data": true,
       "display": false,
       "name": "ABC-GAN Model 3 Manhattan Distance"
      }
     },
     "output_type": "display_data"
    },
    {
     "data": {
      "application/scrapbook.scrap.json+json": {
       "data": 2.117042811368489,
       "encoder": "json",
       "name": "ABC-GAN Model 3 Euclidean distance",
       "version": 1
      }
     },
     "metadata": {
      "scrapbook": {
       "data": true,
       "display": false,
       "name": "ABC-GAN Model 3 Euclidean distance"
      }
     },
     "output_type": "display_data"
    },
    {
     "data": {
      "application/scrapbook.scrap.json+json": {
       "data": [
        [
         0.2242782631112222,
         0.22224071023756586,
         0.22439294111256944,
         0.21938801973746863,
         0.2197306200755748,
         0.2210798943636308,
         0.21879744330932552,
         0.22529630726551209,
         0.22727918905967698,
         0.22461602264652186,
         0.22369458525885913,
         0.22375889577104613,
         0.2250420435167375,
         0.2281114094532492,
         0.2231124438367043,
         0.22756516781774166,
         0.22317098010170672,
         0.22421816369605008,
         0.22675659935864764,
         0.22317851343844075,
         0.22589075370790823,
         0.2262325073783527,
         0.22290320176574724,
         0.22435083552979335,
         0.2239717870239196,
         0.22490930462608122,
         0.22883847419383088,
         0.22646712720334777,
         0.2260087574022028,
         0.22552868066503257,
         0.22216013198329235,
         0.225525346180042,
         0.22484290174093044,
         0.2229249667343713,
         0.22244956922738068,
         0.2219141774600208,
         0.223265652480415,
         0.22476979012322484,
         0.22819168763778394,
         0.2267456128242505,
         0.22969669703427148,
         0.22228995598924084,
         0.2244781016813851,
         0.2241620365953541,
         0.2200746022053436,
         0.22020460704548994,
         0.2252608525647002,
         0.2215652234128283,
         0.22192720314503295,
         0.22196604564277847,
         0.22537183479164447,
         0.22953594995176335,
         0.22456112057544125,
         0.22270713862569788,
         0.22099267883596724,
         0.2226720228854921,
         0.22602892839566685,
         0.2225484454772821,
         0.22512654457924802,
         0.22601615512762474,
         0.22160671915484328,
         0.22680505749729085,
         0.22613353339150932,
         0.22456947353504844,
         0.22403494132673102,
         0.2245493491810639,
         0.2247757176498649,
         0.22323274582022737,
         0.22679767326719685,
         0.2216598839320571,
         0.22505097721512315,
         0.2210558767746169,
         0.22368449746252939,
         0.22595086536906567,
         0.22969298618386147,
         0.22401977439266543,
         0.22803005803587229,
         0.22304853190765153,
         0.22270971749522941,
         0.22240503767197933,
         0.22218377693707345,
         0.21672835844297467,
         0.22573871148994681,
         0.2257211024872973,
         0.2234614300870525,
         0.22221050754784769,
         0.22287026085302103,
         0.22469912780289136,
         0.22564221060227965,
         0.21893593562511277,
         0.2247238207332666,
         0.2199866819718145,
         0.22320050232888328,
         0.22455090901412283,
         0.2241632972614131,
         0.227892511340071,
         0.22434517032705684,
         0.22346854092627572,
         0.2280599904343763,
         0.22085300194542407
        ],
        [
         0.38018333055078984,
         0.3765092143788934,
         0.37778011392802,
         0.3746607473120093,
         0.3743379954248667,
         0.3766817137598991,
         0.3746941339224577,
         0.375935434922576,
         0.3779898205772042,
         0.37595626413822175,
         0.37640083115547895,
         0.376015205681324,
         0.378490693308413,
         0.3807554068043828,
         0.3813550014048815,
         0.38013146482408045,
         0.37883828990161417,
         0.3788773689419031,
         0.3790534036234021,
         0.3762994773685932,
         0.3778885051608086,
         0.38308125771582124,
         0.3764928594231606,
         0.37630300261080263,
         0.37480698749423025,
         0.3777214899659157,
         0.3814147051423788,
         0.3788816828280687,
         0.3788035072386265,
         0.3780460136011243,
         0.3768581341952085,
         0.37931278720498085,
         0.3765920739620924,
         0.37593315578997133,
         0.3763272173702717,
         0.37699802555143835,
         0.3773830238729715,
         0.3775475315749645,
         0.3800793644040823,
         0.3808521248400211,
         0.3798881217837334,
         0.37559988535940647,
         0.38009508736431596,
         0.37696586064994336,
         0.3759886799380183,
         0.37414847798645495,
         0.37791244611144065,
         0.37548689879477026,
         0.3734538100659847,
         0.3755161426961422,
         0.37890378683805465,
         0.3823112592101097,
         0.38092526942491534,
         0.3777041405439377,
         0.37619995698332787,
         0.37488098368048667,
         0.3783135022968054,
         0.3760502304881811,
         0.377770210057497,
         0.3790580065920949,
         0.37694963403046133,
         0.37925905305892227,
         0.3779139993712306,
         0.3777242165058851,
         0.37721763756126164,
         0.3779527943581343,
         0.3755483064800501,
         0.3746226463466883,
         0.3792075004428625,
         0.374014250934124,
         0.3785321334376931,
         0.37595666125416755,
         0.37429473996162416,
         0.3782443176954985,
         0.3823711607605219,
         0.3801473584026098,
         0.3830387255176902,
         0.3772076841443777,
         0.37819238789379594,
         0.3786565586924553,
         0.3765955869108438,
         0.3714043704792857,
         0.37848820108920334,
         0.37766115330159666,
         0.37527401447296144,
         0.3769592396914959,
         0.3750468034297228,
         0.37979750744998453,
         0.3801578260958195,
         0.37180868312716486,
         0.3763916067779064,
         0.37470713555812835,
         0.37683618664741514,
         0.3776745330542326,
         0.3787047663703561,
         0.383307708799839,
         0.37947954013943674,
         0.3771515142172575,
         0.3821257080882788,
         0.3750611236318946
        ],
        [
         7.603666611015797,
         7.5301842875778675,
         7.5556022785604,
         7.493214946240187,
         7.4867599084973335,
         7.533634275197983,
         7.493882678449154,
         7.518708698451519,
         7.5597964115440845,
         7.519125282764435,
         7.528016623109579,
         7.52030411362648,
         7.569813866168261,
         7.615108136087656,
         7.6271000280976295,
         7.602629296481609,
         7.576765798032284,
         7.577547378838062,
         7.581068072468042,
         7.525989547371864,
         7.557770103216171,
         7.661625154316425,
         7.529857188463211,
         7.526060052216053,
         7.496139749884605,
         7.554429799318314,
         7.628294102847576,
         7.577633656561375,
         7.57607014477253,
         7.560920272022486,
         7.537162683904171,
         7.586255744099617,
         7.531841479241848,
         7.518663115799427,
         7.526544347405434,
         7.539960511028767,
         7.547660477459431,
         7.5509506314992905,
         7.601587288081646,
         7.617042496800423,
         7.597762435674667,
         7.511997707188129,
         7.60190174728632,
         7.539317212998867,
         7.519773598760366,
         7.482969559729099,
         7.558248922228813,
         7.509737975895405,
         7.4690762013196945,
         7.510322853922844,
         7.578075736761093,
         7.646225184202194,
         7.618505388498306,
         7.554082810878754,
         7.523999139666557,
         7.497619673609734,
         7.566270045936108,
         7.521004609763622,
         7.5554042011499405,
         7.581160131841898,
         7.538992680609226,
         7.585181061178446,
         7.558279987424612,
         7.5544843301177025,
         7.544352751225233,
         7.559055887162685,
         7.510966129601002,
         7.492452926933765,
         7.58415000885725,
         7.48028501868248,
         7.570642668753862,
         7.519133225083351,
         7.485894799232483,
         7.564886353909969,
         7.647423215210438,
         7.6029471680521965,
         7.660774510353804,
         7.544153682887554,
         7.563847757875919,
         7.573131173849106,
         7.531911738216877,
         7.428087409585714,
         7.569764021784067,
         7.553223066031933,
         7.5054802894592285,
         7.539184793829918,
         7.500936068594456,
         7.595950148999691,
         7.6031565219163895,
         7.436173662543297,
         7.527832135558128,
         7.494142711162567,
         7.536723732948303,
         7.553490661084652,
         7.574095327407122,
         7.66615417599678,
         7.589590802788734,
         7.54303028434515,
         7.642514161765575,
         7.501222472637892
        ],
        [
         2.117915310446677,
         2.1082728013118506,
         2.1184567076651315,
         2.0946981631608343,
         2.0963330845816217,
         2.1027595885580013,
         2.0918768764405113,
         2.122716689836456,
         2.1320374718080215,
         2.119509484038804,
         2.115157607644684,
         2.115461631753439,
         2.1215185293404226,
         2.1359373092544134,
         2.112403578091574,
         2.133378390336518,
         2.112680667312061,
         2.1176315245861357,
         2.129584933073333,
         2.112716324727202,
         2.12551524910036,
         2.127122504127831,
         2.111412805520262,
         2.118257942413026,
         2.1164677508713408,
         2.120892758373611,
         2.1393385622375476,
         2.1282252099030674,
         2.126070353502926,
         2.123811105842667,
         2.1078905663401617,
         2.123795405306462,
         2.1205796459502784,
         2.111515885492559,
         2.109263232635418,
         2.1067234154488377,
         2.1131287347457794,
         2.1202348460641094,
         2.136313121421033,
         2.1295333424215293,
         2.143346435060238,
         2.1085063717676586,
         2.118858662966386,
         2.11736646141075,
         2.097973318254279,
         2.0985928954682467,
         2.1225496581456,
         2.105066380962027,
         2.1067852436593193,
         2.1069696041603376,
         2.123072465987181,
         2.142596321997045,
         2.1192504362412725,
         2.1104840138020373,
         2.102344780648347,
         2.110317620101259,
         2.126165225920445,
         2.1097319520606503,
         2.1219167965744936,
         2.1261051485174702,
         2.105263494932847,
         2.129812468257667,
         2.1266571580370415,
         2.1192898505633835,
         2.116766124666261,
         2.1191948904292115,
         2.120262802814146,
         2.112973004182625,
         2.1297777971760192,
         2.105516012439977,
         2.121560638846428,
         2.1026453660787254,
         2.1151099142244565,
         2.1257980401207717,
         2.143329121641665,
         2.116694472013689,
         2.135556405416969,
         2.1121010009355685,
         2.1104962330941475,
         2.109052098322748,
         2.108002736891361,
         2.081962336080913,
         2.124799809346503,
         2.1247169340281413,
         2.114055013887068,
         2.1081295384669687,
         2.111256786149051,
         2.1199015439538287,
         2.1243455961885283,
         2.0925388198316073,
         2.1200180222501253,
         2.097554204171203,
         2.112820400928026,
         2.119202250914824,
         2.11737241533658,
         2.1349122292968907,
         2.118231197613031,
         2.1140886496373597,
         2.1356965628776776,
         2.101680289413326
        ]
       ],
       "encoder": "json",
       "name": "ABC_GAN_3 Metrics",
       "version": 1
      }
     },
     "metadata": {
      "scrapbook": {
       "data": true,
       "display": false,
       "name": "ABC_GAN_3 Metrics"
      }
     },
     "output_type": "display_data"
    },
    {
     "name": "stdout",
     "output_type": "stream",
     "text": [
      "MSE\n",
      "0.2241003488904106\n"
     ]
    }
   ],
   "source": [
    "ABC_GAN3_metrics=ABC_train_test2.test_generator(gen3,test_data,prior_model,variance,bias,\"3\",device)\n",
    "sb.glue(\"ABC_GAN_3 Metrics\",ABC_GAN3_metrics)\n",
    "\n",
    "print(\"MSE\")\n",
    "print(mean(ABC_GAN3_metrics[0]))"
   ]
  },
  {
   "cell_type": "code",
   "execution_count": 18,
   "id": "c8e46b48",
   "metadata": {
    "execution": {
     "iopub.execute_input": "2022-06-07T07:11:42.023556Z",
     "iopub.status.busy": "2022-06-07T07:11:42.023162Z",
     "iopub.status.idle": "2022-06-07T07:11:42.312864Z",
     "shell.execute_reply": "2022-06-07T07:11:42.313171Z"
    },
    "id": "c8e46b48",
    "papermill": {
     "duration": 0.310306,
     "end_time": "2022-06-07T07:11:42.313293",
     "exception": false,
     "start_time": "2022-06-07T07:11:42.002987",
     "status": "completed"
    },
    "tags": []
   },
   "outputs": [
    {
     "data": {
      "image/png": "[encoded data removed]",
      "text/plain": [
       "<Figure size 432x288 with 1 Axes>"
      ]
     },
     "metadata": {
      "needs_background": "light"
     },
     "output_type": "display_data"
    },
    {
     "data": {
      "image/png": "[encoded data removed]",
      "text/plain": [
       "<Figure size 432x288 with 1 Axes>"
      ]
     },
     "metadata": {
      "needs_background": "light"
     },
     "output_type": "display_data"
    },
    {
     "data": {
      "image/png": "[encoded data removed]",
      "text/plain": [
       "<Figure size 432x288 with 1 Axes>"
      ]
     },
     "metadata": {
      "needs_background": "light"
     },
     "output_type": "display_data"
    },
    {
     "data": {
      "image/png": "[encoded data removed]",
      "text/plain": [
       "<Figure size 432x288 with 1 Axes>"
      ]
     },
     "metadata": {
      "needs_background": "light"
     },
     "output_type": "display_data"
    }
   ],
   "source": [
    "sanityChecks.discProbVsError(train_data,disc3,device)\n",
    "sanityChecks.discProbVsError(test_data,disc3,device)"
   ]
  },
  {
   "cell_type": "markdown",
   "id": "a5bd74c3",
   "metadata": {
    "id": "a5bd74c3",
    "papermill": {
     "duration": 0.02069,
     "end_time": "2022-06-07T07:11:42.354198",
     "exception": false,
     "start_time": "2022-06-07T07:11:42.333508",
     "status": "completed"
    },
    "tags": []
   },
   "source": [
    "## Skip Connection Model Analysis - ABC-GAN "
   ]
  },
  {
   "cell_type": "markdown",
   "id": "5744a8bf",
   "metadata": {
    "id": "5744a8bf",
    "papermill": {
     "duration": 0.019952,
     "end_time": "2022-06-07T07:11:42.394336",
     "exception": false,
     "start_time": "2022-06-07T07:11:42.374384",
     "status": "completed"
    },
    "tags": []
   },
   "source": [
    "### Weight Analysis \n",
    "\n",
    "Study the weights of the skip connection layer\n",
    "\n",
    "Equation of the skip connection is \n",
    "\n",
    "$output = y_{gan} * w + y_{abc} * (1-w)$"
   ]
  },
  {
   "cell_type": "code",
   "execution_count": 19,
   "id": "52c31dea",
   "metadata": {
    "execution": {
     "iopub.execute_input": "2022-06-07T07:11:42.437391Z",
     "iopub.status.busy": "2022-06-07T07:11:42.436995Z",
     "iopub.status.idle": "2022-06-07T07:11:42.440737Z",
     "shell.execute_reply": "2022-06-07T07:11:42.441042Z"
    },
    "id": "52c31dea",
    "papermill": {
     "duration": 0.027093,
     "end_time": "2022-06-07T07:11:42.441199",
     "exception": false,
     "start_time": "2022-06-07T07:11:42.414106",
     "status": "completed"
    },
    "tags": []
   },
   "outputs": [
    {
     "name": "stdout",
     "output_type": "stream",
     "text": [
      "Weight of the node at skip connection\n",
      "Parameter containing:\n",
      "tensor([[0.0606]], requires_grad=True)\n"
     ]
    },
    {
     "data": {
      "application/scrapbook.scrap.json+json": {
       "data": 0.06059988960623741,
       "encoder": "json",
       "name": "Skip Connection Weight",
       "version": 1
      }
     },
     "metadata": {
      "scrapbook": {
       "data": true,
       "display": false,
       "name": "Skip Connection Weight"
      }
     },
     "output_type": "display_data"
    }
   ],
   "source": [
    "print(\"Weight of the node at skip connection\")\n",
    "for name,param in gen3.named_parameters():\n",
    "    if(name == \"skipNode.weight\"):\n",
    "        print(param)\n",
    "        sb.glue(\"Skip Connection Weight\",param.item())"
   ]
  }
 ],
 "metadata": {
  "colab": {
   "collapsed_sections": [],
   "name": "ABC_GAN_Model-Catboost_Pre-gen.ipynb",
   "provenance": []
  },
  "interpreter": {
   "hash": "31f2aee4e71d21fbe5cf8b01ff0e069b9275f58929596ceb00d14d90e3e16cd6"
  },
  "kernelspec": {
   "display_name": "Python 3 (ipykernel)",
   "language": "python",
   "name": "python3"
  },
  "language_info": {
   "codemirror_mode": {
    "name": "ipython",
    "version": 3
   },
   "file_extension": ".py",
   "mimetype": "text/x-python",
   "name": "python",
   "nbconvert_exporter": "python",
   "pygments_lexer": "ipython3",
   "version": "3.8.11"
  },
  "papermill": {
   "default_parameters": {},
   "duration": 60.48003,
   "end_time": "2022-06-07T07:11:42.870520",
   "environment_variables": {},
   "exception": null,
   "input_path": "ABC_GAN-Catboost.ipynb",
   "output_path": "./ABC_GAN_Catboost/ABC-GAN_output_9_5.ipynb",
   "parameters": {
    "bias": 0.1,
    "variance": 0.01
   },
   "start_time": "2022-06-07T07:10:42.390490",
   "version": "2.3.3"
  }
 },
 "nbformat": 4,
 "nbformat_minor": 5
}