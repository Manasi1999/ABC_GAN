{
 "cells": [
  {
   "cell_type": "markdown",
   "id": "622780e6",
   "metadata": {
    "id": "622780e6",
    "papermill": {
     "duration": 0.031622,
     "end_time": "2022-06-07T06:01:26.023071",
     "exception": false,
     "start_time": "2022-06-07T06:01:25.991449",
     "status": "completed"
    },
    "tags": []
   },
   "source": [
    "## Import Libraries "
   ]
  },
  {
   "cell_type": "code",
   "execution_count": 1,
   "id": "a62397e3",
   "metadata": {
    "execution": {
     "iopub.execute_input": "2022-06-07T06:01:26.061543Z",
     "iopub.status.busy": "2022-06-07T06:01:26.060950Z",
     "iopub.status.idle": "2022-06-07T06:01:26.063429Z",
     "shell.execute_reply": "2022-06-07T06:01:26.063812Z"
    },
    "id": "a62397e3",
    "papermill": {
     "duration": 0.025516,
     "end_time": "2022-06-07T06:01:26.064206",
     "exception": false,
     "start_time": "2022-06-07T06:01:26.038690",
     "status": "completed"
    },
    "tags": []
   },
   "outputs": [],
   "source": [
    "import warnings\n",
    "import sys\n",
    "sys.path.insert(0, '../../src')\n",
    "warnings.filterwarnings('ignore')"
   ]
  },
  {
   "cell_type": "code",
   "execution_count": 2,
   "id": "d6a4e155",
   "metadata": {
    "execution": {
     "iopub.execute_input": "2022-06-07T06:01:26.087003Z",
     "iopub.status.busy": "2022-06-07T06:01:26.086588Z",
     "iopub.status.idle": "2022-06-07T06:01:27.963687Z",
     "shell.execute_reply": "2022-06-07T06:01:27.963951Z"
    },
    "id": "d6a4e155",
    "papermill": {
     "duration": 1.88953,
     "end_time": "2022-06-07T06:01:27.964075",
     "exception": false,
     "start_time": "2022-06-07T06:01:26.074545",
     "status": "completed"
    },
    "tags": []
   },
   "outputs": [],
   "source": [
    "import ABC_train_test2\n",
    "import friedman1Dataset\n",
    "import network\n",
    "import dataset\n",
    "import sanityChecks\n",
    "import torch \n",
    "import scrapbook as sb\n",
    "from statistics import mean \n",
    "import catboost as ctb \n",
    "from sklearn.model_selection import train_test_split\n",
    "from sklearn.metrics import mean_squared_error,mean_absolute_error\n",
    "import numpy as np"
   ]
  },
  {
   "cell_type": "markdown",
   "id": "2fa5b0f7",
   "metadata": {
    "id": "2fa5b0f7",
    "papermill": {
     "duration": 0.006867,
     "end_time": "2022-06-07T06:01:27.978374",
     "exception": false,
     "start_time": "2022-06-07T06:01:27.971507",
     "status": "completed"
    },
    "tags": []
   },
   "source": [
    "## Parameters "
   ]
  },
  {
   "cell_type": "code",
   "execution_count": 3,
   "id": "783186fb",
   "metadata": {
    "execution": {
     "iopub.execute_input": "2022-06-07T06:01:27.995253Z",
     "iopub.status.busy": "2022-06-07T06:01:27.994825Z",
     "iopub.status.idle": "2022-06-07T06:01:27.996008Z",
     "shell.execute_reply": "2022-06-07T06:01:27.996265Z"
    },
    "id": "783186fb",
    "papermill": {
     "duration": 0.010515,
     "end_time": "2022-06-07T06:01:27.996401",
     "exception": false,
     "start_time": "2022-06-07T06:01:27.985886",
     "status": "completed"
    },
    "tags": [
     "parameters"
    ]
   },
   "outputs": [],
   "source": [
    "variance = 1\n",
    "bias = 1 "
   ]
  },
  {
   "cell_type": "code",
   "execution_count": 4,
   "id": "09eae95f",
   "metadata": {
    "execution": {
     "iopub.execute_input": "2022-06-07T06:01:28.013080Z",
     "iopub.status.busy": "2022-06-07T06:01:28.012695Z",
     "iopub.status.idle": "2022-06-07T06:01:28.014242Z",
     "shell.execute_reply": "2022-06-07T06:01:28.014610Z"
    },
    "papermill": {
     "duration": 0.010973,
     "end_time": "2022-06-07T06:01:28.014753",
     "exception": false,
     "start_time": "2022-06-07T06:01:28.003780",
     "status": "completed"
    },
    "tags": [
     "injected-parameters"
    ]
   },
   "outputs": [],
   "source": [
    "# Parameters\n",
    "variance = 1\n",
    "bias = 1\n"
   ]
  },
  {
   "cell_type": "markdown",
   "id": "391cdbfd",
   "metadata": {
    "id": "391cdbfd",
    "papermill": {
     "duration": 0.006834,
     "end_time": "2022-06-07T06:01:28.028955",
     "exception": false,
     "start_time": "2022-06-07T06:01:28.022121",
     "status": "completed"
    },
    "tags": []
   },
   "source": [
    "## Dataset \n"
   ]
  },
  {
   "cell_type": "code",
   "execution_count": 5,
   "id": "5b51f161",
   "metadata": {
    "execution": {
     "iopub.execute_input": "2022-06-07T06:01:28.045404Z",
     "iopub.status.busy": "2022-06-07T06:01:28.045021Z",
     "iopub.status.idle": "2022-06-07T06:01:28.046270Z",
     "shell.execute_reply": "2022-06-07T06:01:28.046522Z"
    },
    "id": "5b51f161",
    "papermill": {
     "duration": 0.010522,
     "end_time": "2022-06-07T06:01:28.046664",
     "exception": false,
     "start_time": "2022-06-07T06:01:28.036142",
     "status": "completed"
    },
    "tags": []
   },
   "outputs": [],
   "source": [
    "#Parameters \n",
    "n_features = 5\n",
    "n_samples= 100\n",
    "n_target = 1 "
   ]
  },
  {
   "cell_type": "code",
   "execution_count": 6,
   "id": "5d6eced4",
   "metadata": {
    "execution": {
     "iopub.execute_input": "2022-06-07T06:01:28.064555Z",
     "iopub.status.busy": "2022-06-07T06:01:28.063171Z",
     "iopub.status.idle": "2022-06-07T06:01:28.070119Z",
     "shell.execute_reply": "2022-06-07T06:01:28.070372Z"
    },
    "id": "5d6eced4",
    "papermill": {
     "duration": 0.016384,
     "end_time": "2022-06-07T06:01:28.070491",
     "exception": false,
     "start_time": "2022-06-07T06:01:28.054107",
     "status": "completed"
    },
    "tags": []
   },
   "outputs": [
    {
     "name": "stdout",
     "output_type": "stream",
     "text": [
      "         X0        X1        X2        X3        X4         Y\n",
      "0 -1.302464  0.460920  0.442796  0.464118  1.307222 -0.265226\n",
      "1  1.723181 -1.151735  0.856168 -1.214004 -0.034151 -0.784907\n",
      "2  1.718252 -0.555455  1.007742  1.217498 -1.327445  1.057396\n",
      "3 -1.388716  0.702638  0.543153  0.360041  1.625870 -0.320507\n",
      "4  1.601030 -1.611453 -0.456554 -0.449416 -0.047645 -1.304701\n"
     ]
    }
   ],
   "source": [
    "X,Y = friedman1Dataset.friedman1_data(n_samples,n_features)"
   ]
  },
  {
   "cell_type": "code",
   "execution_count": 7,
   "id": "fe007438",
   "metadata": {
    "execution": {
     "iopub.execute_input": "2022-06-07T06:01:28.088754Z",
     "iopub.status.busy": "2022-06-07T06:01:28.088399Z",
     "iopub.status.idle": "2022-06-07T06:01:28.089690Z",
     "shell.execute_reply": "2022-06-07T06:01:28.089934Z"
    },
    "id": "fe007438",
    "papermill": {
     "duration": 0.012078,
     "end_time": "2022-06-07T06:01:28.090046",
     "exception": false,
     "start_time": "2022-06-07T06:01:28.077968",
     "status": "completed"
    },
    "tags": []
   },
   "outputs": [],
   "source": [
    "#Train test split for dataset \n",
    "X_train,X_test,Y_train,Y_test = train_test_split(X,Y,test_size = 0.2)\n",
    "train_data = dataset.CustomDataset(X_train,Y_train)\n",
    "test_data = dataset.CustomDataset(X_test,Y_test)\n"
   ]
  },
  {
   "cell_type": "markdown",
   "id": "a9a1af34",
   "metadata": {
    "id": "a9a1af34",
    "papermill": {
     "duration": 0.00759,
     "end_time": "2022-06-07T06:01:28.105011",
     "exception": false,
     "start_time": "2022-06-07T06:01:28.097421",
     "status": "completed"
    },
    "tags": []
   },
   "source": [
    "## Training Parameters "
   ]
  },
  {
   "cell_type": "code",
   "execution_count": 8,
   "id": "952b7fc8",
   "metadata": {
    "execution": {
     "iopub.execute_input": "2022-06-07T06:01:28.122655Z",
     "iopub.status.busy": "2022-06-07T06:01:28.122284Z",
     "iopub.status.idle": "2022-06-07T06:01:28.123666Z",
     "shell.execute_reply": "2022-06-07T06:01:28.123914Z"
    },
    "id": "952b7fc8",
    "papermill": {
     "duration": 0.011932,
     "end_time": "2022-06-07T06:01:28.124026",
     "exception": false,
     "start_time": "2022-06-07T06:01:28.112094",
     "status": "completed"
    },
    "tags": []
   },
   "outputs": [],
   "source": [
    "batch_size = 32\n",
    "n_epochs = 1000\n",
    "#Select the device \n",
    "device = torch.device('cuda' if torch.cuda.is_available() else 'cpu')"
   ]
  },
  {
   "cell_type": "markdown",
   "id": "a95e1600",
   "metadata": {
    "id": "a95e1600",
    "papermill": {
     "duration": 0.007452,
     "end_time": "2022-06-07T06:01:28.138908",
     "exception": false,
     "start_time": "2022-06-07T06:01:28.131456",
     "status": "completed"
    },
    "tags": []
   },
   "source": [
    "# ABC Pre-generator Model \n",
    "\n",
    "1. The catboost model is used as a pre-generator model for the ABC-GAN. \n",
    "2. The model is first trained on the entire dataset \n",
    "3. It generats X,Y pairs and we add some Gaussian noise with mean 0 and variance 1 to it which is then feed as input to the generator.\n"
   ]
  },
  {
   "cell_type": "code",
   "execution_count": 9,
   "id": "ff8ce7bd",
   "metadata": {
    "execution": {
     "iopub.execute_input": "2022-06-07T06:01:28.157919Z",
     "iopub.status.busy": "2022-06-07T06:01:28.157529Z",
     "iopub.status.idle": "2022-06-07T06:01:28.840068Z",
     "shell.execute_reply": "2022-06-07T06:01:28.840454Z"
    },
    "id": "ff8ce7bd",
    "papermill": {
     "duration": 0.694486,
     "end_time": "2022-06-07T06:01:28.840578",
     "exception": false,
     "start_time": "2022-06-07T06:01:28.146092",
     "status": "completed"
    },
    "tags": []
   },
   "outputs": [
    {
     "name": "stdout",
     "output_type": "stream",
     "text": [
      "Learning rate set to 0.024897\n",
      "0:\tlearn: 0.9743042\ttotal: 58.1ms\tremaining: 58.1s\n",
      "1:\tlearn: 0.9658023\ttotal: 58.8ms\tremaining: 29.3s\n",
      "2:\tlearn: 0.9550159\ttotal: 59.5ms\tremaining: 19.8s\n",
      "3:\tlearn: 0.9441623\ttotal: 60ms\tremaining: 14.9s\n",
      "4:\tlearn: 0.9347855\ttotal: 60.5ms\tremaining: 12s\n",
      "5:\tlearn: 0.9265161\ttotal: 60.9ms\tremaining: 10.1s\n",
      "6:\tlearn: 0.9154020\ttotal: 61.4ms\tremaining: 8.71s\n",
      "7:\tlearn: 0.9074638\ttotal: 61.9ms\tremaining: 7.68s\n",
      "8:\tlearn: 0.8995429\ttotal: 62.4ms\tremaining: 6.88s\n",
      "9:\tlearn: 0.8906878\ttotal: 63ms\tremaining: 6.23s\n",
      "10:\tlearn: 0.8806725\ttotal: 63.4ms\tremaining: 5.7s\n",
      "11:\tlearn: 0.8724652\ttotal: 63.9ms\tremaining: 5.26s\n",
      "12:\tlearn: 0.8636109\ttotal: 64.3ms\tremaining: 4.88s\n",
      "13:\tlearn: 0.8562464\ttotal: 64.8ms\tremaining: 4.57s\n",
      "14:\tlearn: 0.8483797\ttotal: 65.3ms\tremaining: 4.29s\n",
      "15:\tlearn: 0.8400329\ttotal: 65.8ms\tremaining: 4.04s\n",
      "16:\tlearn: 0.8322347\ttotal: 66.3ms\tremaining: 3.83s\n",
      "17:\tlearn: 0.8248925\ttotal: 66.7ms\tremaining: 3.64s\n",
      "18:\tlearn: 0.8165612\ttotal: 67.2ms\tremaining: 3.47s\n",
      "19:\tlearn: 0.8090410\ttotal: 67.6ms\tremaining: 3.31s\n",
      "20:\tlearn: 0.8021424\ttotal: 68.3ms\tremaining: 3.19s\n",
      "21:\tlearn: 0.7940605\ttotal: 69ms\tremaining: 3.07s\n",
      "22:\tlearn: 0.7856796\ttotal: 69.7ms\tremaining: 2.96s\n",
      "23:\tlearn: 0.7776639\ttotal: 70.4ms\tremaining: 2.86s\n",
      "24:\tlearn: 0.7702932\ttotal: 71ms\tremaining: 2.77s\n",
      "25:\tlearn: 0.7629584\ttotal: 71.5ms\tremaining: 2.68s\n",
      "26:\tlearn: 0.7551142\ttotal: 72ms\tremaining: 2.59s\n",
      "27:\tlearn: 0.7480337\ttotal: 72.4ms\tremaining: 2.51s\n",
      "28:\tlearn: 0.7401294\ttotal: 72.8ms\tremaining: 2.44s\n",
      "29:\tlearn: 0.7329591\ttotal: 73.2ms\tremaining: 2.37s\n",
      "30:\tlearn: 0.7248674\ttotal: 73.6ms\tremaining: 2.3s\n",
      "31:\tlearn: 0.7177073\ttotal: 74.1ms\tremaining: 2.24s\n",
      "32:\tlearn: 0.7125053\ttotal: 74.9ms\tremaining: 2.19s\n",
      "33:\tlearn: 0.7059691\ttotal: 75.3ms\tremaining: 2.14s\n",
      "34:\tlearn: 0.7000590\ttotal: 75.8ms\tremaining: 2.09s\n",
      "35:\tlearn: 0.6949772\ttotal: 76.2ms\tremaining: 2.04s\n",
      "36:\tlearn: 0.6886355\ttotal: 76.7ms\tremaining: 2s\n",
      "37:\tlearn: 0.6820532\ttotal: 77.1ms\tremaining: 1.95s\n",
      "38:\tlearn: 0.6758425\ttotal: 77.6ms\tremaining: 1.91s\n",
      "39:\tlearn: 0.6700006\ttotal: 77.9ms\tremaining: 1.87s\n",
      "40:\tlearn: 0.6638743\ttotal: 78.3ms\tremaining: 1.83s\n",
      "41:\tlearn: 0.6569591\ttotal: 78.7ms\tremaining: 1.79s\n",
      "42:\tlearn: 0.6519575\ttotal: 79.1ms\tremaining: 1.76s\n",
      "43:\tlearn: 0.6442864\ttotal: 79.5ms\tremaining: 1.73s\n",
      "44:\tlearn: 0.6379975\ttotal: 80ms\tremaining: 1.7s\n",
      "45:\tlearn: 0.6319049\ttotal: 80.4ms\tremaining: 1.67s\n",
      "46:\tlearn: 0.6264460\ttotal: 80.9ms\tremaining: 1.64s\n",
      "47:\tlearn: 0.6205525\ttotal: 81.5ms\tremaining: 1.61s\n",
      "48:\tlearn: 0.6148413\ttotal: 81.9ms\tremaining: 1.59s\n",
      "49:\tlearn: 0.6085284\ttotal: 82.4ms\tremaining: 1.57s\n",
      "50:\tlearn: 0.6042103\ttotal: 83ms\tremaining: 1.54s\n",
      "51:\tlearn: 0.5990203\ttotal: 83.9ms\tremaining: 1.53s\n",
      "52:\tlearn: 0.5941800\ttotal: 84.5ms\tremaining: 1.51s\n",
      "53:\tlearn: 0.5889307\ttotal: 85ms\tremaining: 1.49s\n",
      "54:\tlearn: 0.5846987\ttotal: 85.6ms\tremaining: 1.47s\n",
      "55:\tlearn: 0.5801204\ttotal: 86.2ms\tremaining: 1.45s\n",
      "56:\tlearn: 0.5756653\ttotal: 86.8ms\tremaining: 1.44s\n",
      "57:\tlearn: 0.5705817\ttotal: 87.6ms\tremaining: 1.42s\n",
      "58:\tlearn: 0.5658772\ttotal: 88.1ms\tremaining: 1.4s\n",
      "59:\tlearn: 0.5611535\ttotal: 88.7ms\tremaining: 1.39s\n",
      "60:\tlearn: 0.5558437\ttotal: 89ms\tremaining: 1.37s\n",
      "61:\tlearn: 0.5514020\ttotal: 89.5ms\tremaining: 1.35s\n",
      "62:\tlearn: 0.5466038\ttotal: 89.9ms\tremaining: 1.34s\n",
      "63:\tlearn: 0.5417716\ttotal: 90.2ms\tremaining: 1.32s\n",
      "64:\tlearn: 0.5378839\ttotal: 90.6ms\tremaining: 1.3s\n",
      "65:\tlearn: 0.5330428\ttotal: 91.1ms\tremaining: 1.29s\n",
      "66:\tlearn: 0.5278419\ttotal: 91.5ms\tremaining: 1.27s\n",
      "67:\tlearn: 0.5238031\ttotal: 91.8ms\tremaining: 1.26s\n",
      "68:\tlearn: 0.5202761\ttotal: 92.3ms\tremaining: 1.25s\n",
      "69:\tlearn: 0.5163683\ttotal: 92.8ms\tremaining: 1.23s\n",
      "70:\tlearn: 0.5122997\ttotal: 93.3ms\tremaining: 1.22s\n",
      "71:\tlearn: 0.5072917\ttotal: 93.8ms\tremaining: 1.21s\n",
      "72:\tlearn: 0.5028583\ttotal: 94.3ms\tremaining: 1.2s\n",
      "73:\tlearn: 0.4990881\ttotal: 94.8ms\tremaining: 1.19s\n",
      "74:\tlearn: 0.4958935\ttotal: 95.3ms\tremaining: 1.18s\n",
      "75:\tlearn: 0.4925795\ttotal: 95.7ms\tremaining: 1.16s\n",
      "76:\tlearn: 0.4888126\ttotal: 96.1ms\tremaining: 1.15s\n",
      "77:\tlearn: 0.4857351\ttotal: 96.7ms\tremaining: 1.14s\n",
      "78:\tlearn: 0.4813910\ttotal: 97.2ms\tremaining: 1.13s\n",
      "79:\tlearn: 0.4770897\ttotal: 97.7ms\tremaining: 1.12s\n",
      "80:\tlearn: 0.4731656\ttotal: 98.2ms\tremaining: 1.11s\n",
      "81:\tlearn: 0.4692937\ttotal: 98.6ms\tremaining: 1.1s\n",
      "82:\tlearn: 0.4659673\ttotal: 98.9ms\tremaining: 1.09s\n",
      "83:\tlearn: 0.4621822\ttotal: 99.3ms\tremaining: 1.08s\n",
      "84:\tlearn: 0.4590026\ttotal: 99.7ms\tremaining: 1.07s\n",
      "85:\tlearn: 0.4554918\ttotal: 100ms\tremaining: 1.06s\n",
      "86:\tlearn: 0.4515351\ttotal: 100ms\tremaining: 1.05s\n",
      "87:\tlearn: 0.4478032\ttotal: 101ms\tremaining: 1.04s\n",
      "88:\tlearn: 0.4442614\ttotal: 101ms\tremaining: 1.04s\n",
      "89:\tlearn: 0.4411629\ttotal: 102ms\tremaining: 1.03s\n",
      "90:\tlearn: 0.4374344\ttotal: 102ms\tremaining: 1.02s\n"
     ]
    },
    {
     "name": "stdout",
     "output_type": "stream",
     "text": [
      "91:\tlearn: 0.4340481\ttotal: 103ms\tremaining: 1.01s\n",
      "92:\tlearn: 0.4307424\ttotal: 104ms\tremaining: 1.01s\n",
      "93:\tlearn: 0.4275595\ttotal: 104ms\tremaining: 1s\n",
      "94:\tlearn: 0.4244968\ttotal: 105ms\tremaining: 996ms\n",
      "95:\tlearn: 0.4207581\ttotal: 105ms\tremaining: 990ms\n",
      "96:\tlearn: 0.4179196\ttotal: 106ms\tremaining: 984ms\n",
      "97:\tlearn: 0.4151974\ttotal: 106ms\tremaining: 978ms\n",
      "98:\tlearn: 0.4115906\ttotal: 107ms\tremaining: 974ms\n",
      "99:\tlearn: 0.4081226\ttotal: 107ms\tremaining: 967ms\n",
      "100:\tlearn: 0.4053115\ttotal: 108ms\tremaining: 961ms\n",
      "101:\tlearn: 0.4021360\ttotal: 108ms\tremaining: 954ms\n",
      "102:\tlearn: 0.3987916\ttotal: 109ms\tremaining: 949ms\n",
      "103:\tlearn: 0.3953006\ttotal: 109ms\tremaining: 942ms\n",
      "104:\tlearn: 0.3923121\ttotal: 110ms\tremaining: 937ms\n",
      "105:\tlearn: 0.3892820\ttotal: 110ms\tremaining: 931ms\n",
      "106:\tlearn: 0.3867963\ttotal: 111ms\tremaining: 926ms\n",
      "107:\tlearn: 0.3840400\ttotal: 111ms\tremaining: 921ms\n",
      "108:\tlearn: 0.3812833\ttotal: 112ms\tremaining: 916ms\n",
      "109:\tlearn: 0.3789206\ttotal: 113ms\tremaining: 911ms\n",
      "110:\tlearn: 0.3763810\ttotal: 113ms\tremaining: 905ms\n",
      "111:\tlearn: 0.3729944\ttotal: 114ms\tremaining: 900ms\n",
      "112:\tlearn: 0.3700196\ttotal: 114ms\tremaining: 896ms\n",
      "113:\tlearn: 0.3674817\ttotal: 115ms\tremaining: 891ms\n",
      "114:\tlearn: 0.3648709\ttotal: 115ms\tremaining: 888ms\n",
      "115:\tlearn: 0.3625012\ttotal: 116ms\tremaining: 884ms\n",
      "116:\tlearn: 0.3600741\ttotal: 117ms\tremaining: 880ms\n",
      "117:\tlearn: 0.3580146\ttotal: 117ms\tremaining: 876ms\n",
      "118:\tlearn: 0.3548793\ttotal: 118ms\tremaining: 872ms\n",
      "119:\tlearn: 0.3523561\ttotal: 118ms\tremaining: 867ms\n",
      "120:\tlearn: 0.3495469\ttotal: 119ms\tremaining: 862ms\n",
      "121:\tlearn: 0.3469745\ttotal: 119ms\tremaining: 858ms\n",
      "122:\tlearn: 0.3443253\ttotal: 120ms\tremaining: 853ms\n",
      "123:\tlearn: 0.3421474\ttotal: 120ms\tremaining: 848ms\n",
      "124:\tlearn: 0.3399297\ttotal: 121ms\tremaining: 844ms\n",
      "125:\tlearn: 0.3375302\ttotal: 121ms\tremaining: 839ms\n",
      "126:\tlearn: 0.3353901\ttotal: 121ms\tremaining: 834ms\n",
      "127:\tlearn: 0.3329494\ttotal: 122ms\tremaining: 830ms\n",
      "128:\tlearn: 0.3307637\ttotal: 122ms\tremaining: 825ms\n",
      "129:\tlearn: 0.3282640\ttotal: 123ms\tremaining: 821ms\n",
      "130:\tlearn: 0.3263121\ttotal: 123ms\tremaining: 816ms\n",
      "131:\tlearn: 0.3239170\ttotal: 123ms\tremaining: 812ms\n",
      "132:\tlearn: 0.3217987\ttotal: 124ms\tremaining: 807ms\n",
      "133:\tlearn: 0.3192465\ttotal: 124ms\tremaining: 802ms\n",
      "134:\tlearn: 0.3172430\ttotal: 125ms\tremaining: 798ms\n",
      "135:\tlearn: 0.3151165\ttotal: 125ms\tremaining: 794ms\n",
      "136:\tlearn: 0.3128149\ttotal: 125ms\tremaining: 790ms\n",
      "137:\tlearn: 0.3108736\ttotal: 126ms\tremaining: 786ms\n",
      "138:\tlearn: 0.3089546\ttotal: 126ms\tremaining: 782ms\n",
      "139:\tlearn: 0.3069518\ttotal: 127ms\tremaining: 779ms\n",
      "140:\tlearn: 0.3048899\ttotal: 127ms\tremaining: 775ms\n",
      "141:\tlearn: 0.3024025\ttotal: 128ms\tremaining: 771ms\n",
      "142:\tlearn: 0.3000584\ttotal: 128ms\tremaining: 768ms\n",
      "143:\tlearn: 0.2977272\ttotal: 129ms\tremaining: 765ms\n",
      "144:\tlearn: 0.2956101\ttotal: 129ms\tremaining: 761ms\n",
      "145:\tlearn: 0.2939309\ttotal: 130ms\tremaining: 761ms\n",
      "146:\tlearn: 0.2914602\ttotal: 131ms\tremaining: 759ms\n",
      "147:\tlearn: 0.2892841\ttotal: 131ms\tremaining: 756ms\n",
      "148:\tlearn: 0.2875071\ttotal: 132ms\tremaining: 753ms\n",
      "149:\tlearn: 0.2853323\ttotal: 132ms\tremaining: 749ms\n",
      "150:\tlearn: 0.2831923\ttotal: 133ms\tremaining: 746ms\n",
      "151:\tlearn: 0.2813508\ttotal: 133ms\tremaining: 744ms\n",
      "152:\tlearn: 0.2793829\ttotal: 134ms\tremaining: 741ms\n",
      "153:\tlearn: 0.2773466\ttotal: 134ms\tremaining: 738ms\n",
      "154:\tlearn: 0.2757751\ttotal: 135ms\tremaining: 735ms\n",
      "155:\tlearn: 0.2739636\ttotal: 135ms\tremaining: 731ms\n",
      "156:\tlearn: 0.2721383\ttotal: 136ms\tremaining: 729ms\n",
      "157:\tlearn: 0.2705707\ttotal: 136ms\tremaining: 725ms\n",
      "158:\tlearn: 0.2691538\ttotal: 137ms\tremaining: 722ms\n",
      "159:\tlearn: 0.2673533\ttotal: 137ms\tremaining: 721ms\n",
      "160:\tlearn: 0.2656446\ttotal: 138ms\tremaining: 717ms\n",
      "161:\tlearn: 0.2639025\ttotal: 138ms\tremaining: 714ms\n",
      "162:\tlearn: 0.2620368\ttotal: 138ms\tremaining: 711ms\n",
      "163:\tlearn: 0.2600831\ttotal: 139ms\tremaining: 708ms\n",
      "164:\tlearn: 0.2585446\ttotal: 139ms\tremaining: 706ms\n",
      "165:\tlearn: 0.2571620\ttotal: 140ms\tremaining: 703ms\n",
      "166:\tlearn: 0.2555099\ttotal: 140ms\tremaining: 700ms\n",
      "167:\tlearn: 0.2536721\ttotal: 141ms\tremaining: 697ms\n",
      "168:\tlearn: 0.2520565\ttotal: 141ms\tremaining: 695ms\n",
      "169:\tlearn: 0.2500391\ttotal: 142ms\tremaining: 692ms\n",
      "170:\tlearn: 0.2478982\ttotal: 142ms\tremaining: 690ms\n",
      "171:\tlearn: 0.2461305\ttotal: 143ms\tremaining: 687ms\n",
      "172:\tlearn: 0.2443312\ttotal: 143ms\tremaining: 685ms\n",
      "173:\tlearn: 0.2424100\ttotal: 144ms\tremaining: 684ms\n",
      "174:\tlearn: 0.2407980\ttotal: 145ms\tremaining: 682ms\n",
      "175:\tlearn: 0.2394486\ttotal: 145ms\tremaining: 681ms\n",
      "176:\tlearn: 0.2377875\ttotal: 146ms\tremaining: 679ms\n",
      "177:\tlearn: 0.2360353\ttotal: 147ms\tremaining: 677ms\n",
      "178:\tlearn: 0.2345827\ttotal: 147ms\tremaining: 675ms\n",
      "179:\tlearn: 0.2326832\ttotal: 148ms\tremaining: 672ms\n",
      "180:\tlearn: 0.2309949\ttotal: 148ms\tremaining: 670ms\n",
      "181:\tlearn: 0.2297418\ttotal: 148ms\tremaining: 667ms\n",
      "182:\tlearn: 0.2283128\ttotal: 149ms\tremaining: 665ms\n",
      "183:\tlearn: 0.2268927\ttotal: 149ms\tremaining: 663ms\n",
      "184:\tlearn: 0.2254359\ttotal: 150ms\tremaining: 661ms\n",
      "185:\tlearn: 0.2236849\ttotal: 151ms\tremaining: 659ms\n",
      "186:\tlearn: 0.2220248\ttotal: 151ms\tremaining: 656ms\n",
      "187:\tlearn: 0.2205198\ttotal: 152ms\tremaining: 654ms\n",
      "188:\tlearn: 0.2190110\ttotal: 152ms\tremaining: 652ms\n",
      "189:\tlearn: 0.2175234\ttotal: 152ms\tremaining: 649ms\n",
      "190:\tlearn: 0.2161746\ttotal: 153ms\tremaining: 647ms\n",
      "191:\tlearn: 0.2144862\ttotal: 153ms\tremaining: 644ms\n",
      "192:\tlearn: 0.2132667\ttotal: 154ms\tremaining: 642ms\n",
      "193:\tlearn: 0.2120137\ttotal: 154ms\tremaining: 640ms\n",
      "194:\tlearn: 0.2104446\ttotal: 155ms\tremaining: 638ms\n",
      "195:\tlearn: 0.2091220\ttotal: 155ms\tremaining: 636ms\n",
      "196:\tlearn: 0.2079244\ttotal: 155ms\tremaining: 634ms\n",
      "197:\tlearn: 0.2064939\ttotal: 156ms\tremaining: 631ms\n",
      "198:\tlearn: 0.2053257\ttotal: 157ms\tremaining: 632ms\n",
      "199:\tlearn: 0.2040288\ttotal: 158ms\tremaining: 630ms\n",
      "200:\tlearn: 0.2028184\ttotal: 158ms\tremaining: 628ms\n",
      "201:\tlearn: 0.2015046\ttotal: 159ms\tremaining: 626ms\n",
      "202:\tlearn: 0.2003362\ttotal: 159ms\tremaining: 625ms\n",
      "203:\tlearn: 0.1991114\ttotal: 160ms\tremaining: 623ms\n",
      "204:\tlearn: 0.1979373\ttotal: 160ms\tremaining: 621ms\n",
      "205:\tlearn: 0.1968983\ttotal: 161ms\tremaining: 620ms\n",
      "206:\tlearn: 0.1954153\ttotal: 161ms\tremaining: 618ms\n",
      "207:\tlearn: 0.1940652\ttotal: 162ms\tremaining: 617ms\n",
      "208:\tlearn: 0.1926169\ttotal: 162ms\tremaining: 615ms\n",
      "209:\tlearn: 0.1913742\ttotal: 163ms\tremaining: 613ms\n",
      "210:\tlearn: 0.1902131\ttotal: 164ms\tremaining: 611ms\n",
      "211:\tlearn: 0.1890215\ttotal: 164ms\tremaining: 610ms\n",
      "212:\tlearn: 0.1876559\ttotal: 165ms\tremaining: 608ms\n",
      "213:\tlearn: 0.1861951\ttotal: 165ms\tremaining: 606ms\n",
      "214:\tlearn: 0.1848027\ttotal: 165ms\tremaining: 604ms\n",
      "215:\tlearn: 0.1834264\ttotal: 166ms\tremaining: 601ms\n",
      "216:\tlearn: 0.1825013\ttotal: 166ms\tremaining: 599ms\n",
      "217:\tlearn: 0.1809713\ttotal: 166ms\tremaining: 597ms\n",
      "218:\tlearn: 0.1795210\ttotal: 167ms\tremaining: 595ms\n",
      "219:\tlearn: 0.1784051\ttotal: 167ms\tremaining: 593ms\n",
      "220:\tlearn: 0.1769752\ttotal: 168ms\tremaining: 591ms\n",
      "221:\tlearn: 0.1759485\ttotal: 168ms\tremaining: 590ms\n",
      "222:\tlearn: 0.1748037\ttotal: 169ms\tremaining: 588ms\n",
      "223:\tlearn: 0.1736827\ttotal: 169ms\tremaining: 586ms\n",
      "224:\tlearn: 0.1724228\ttotal: 170ms\tremaining: 584ms\n",
      "225:\tlearn: 0.1710594\ttotal: 170ms\tremaining: 582ms\n",
      "226:\tlearn: 0.1697846\ttotal: 170ms\tremaining: 580ms\n",
      "227:\tlearn: 0.1684786\ttotal: 171ms\tremaining: 579ms\n",
      "228:\tlearn: 0.1672283\ttotal: 171ms\tremaining: 577ms\n",
      "229:\tlearn: 0.1660660\ttotal: 172ms\tremaining: 575ms\n",
      "230:\tlearn: 0.1649607\ttotal: 172ms\tremaining: 573ms\n",
      "231:\tlearn: 0.1637703\ttotal: 173ms\tremaining: 571ms\n",
      "232:\tlearn: 0.1626290\ttotal: 173ms\tremaining: 570ms\n",
      "233:\tlearn: 0.1615882\ttotal: 173ms\tremaining: 568ms\n",
      "234:\tlearn: 0.1604387\ttotal: 174ms\tremaining: 566ms\n",
      "235:\tlearn: 0.1595059\ttotal: 174ms\tremaining: 564ms\n",
      "236:\tlearn: 0.1583486\ttotal: 175ms\tremaining: 562ms\n",
      "237:\tlearn: 0.1572638\ttotal: 175ms\tremaining: 562ms\n",
      "238:\tlearn: 0.1563303\ttotal: 176ms\tremaining: 560ms\n",
      "239:\tlearn: 0.1556158\ttotal: 177ms\tremaining: 559ms\n",
      "240:\tlearn: 0.1545914\ttotal: 177ms\tremaining: 558ms\n",
      "241:\tlearn: 0.1534210\ttotal: 178ms\tremaining: 557ms\n",
      "242:\tlearn: 0.1522709\ttotal: 178ms\tremaining: 556ms\n",
      "243:\tlearn: 0.1513791\ttotal: 179ms\tremaining: 554ms\n",
      "244:\tlearn: 0.1503419\ttotal: 179ms\tremaining: 553ms\n",
      "245:\tlearn: 0.1492866\ttotal: 180ms\tremaining: 552ms\n",
      "246:\tlearn: 0.1482484\ttotal: 180ms\tremaining: 550ms\n",
      "247:\tlearn: 0.1471786\ttotal: 181ms\tremaining: 548ms\n",
      "248:\tlearn: 0.1461685\ttotal: 181ms\tremaining: 546ms\n",
      "249:\tlearn: 0.1450539\ttotal: 182ms\tremaining: 545ms\n",
      "250:\tlearn: 0.1440565\ttotal: 182ms\tremaining: 544ms\n",
      "251:\tlearn: 0.1431764\ttotal: 183ms\tremaining: 542ms\n",
      "252:\tlearn: 0.1423147\ttotal: 183ms\tremaining: 541ms\n",
      "253:\tlearn: 0.1414852\ttotal: 184ms\tremaining: 539ms\n",
      "254:\tlearn: 0.1405590\ttotal: 184ms\tremaining: 538ms\n",
      "255:\tlearn: 0.1395651\ttotal: 184ms\tremaining: 536ms\n",
      "256:\tlearn: 0.1387113\ttotal: 185ms\tremaining: 534ms\n",
      "257:\tlearn: 0.1379237\ttotal: 185ms\tremaining: 533ms\n"
     ]
    },
    {
     "name": "stdout",
     "output_type": "stream",
     "text": [
      "258:\tlearn: 0.1373163\ttotal: 186ms\tremaining: 532ms\n",
      "259:\tlearn: 0.1363821\ttotal: 187ms\tremaining: 531ms\n",
      "260:\tlearn: 0.1356257\ttotal: 187ms\tremaining: 529ms\n",
      "261:\tlearn: 0.1347398\ttotal: 187ms\tremaining: 528ms\n",
      "262:\tlearn: 0.1340458\ttotal: 188ms\tremaining: 527ms\n",
      "263:\tlearn: 0.1334270\ttotal: 188ms\tremaining: 525ms\n",
      "264:\tlearn: 0.1327018\ttotal: 189ms\tremaining: 523ms\n",
      "265:\tlearn: 0.1321072\ttotal: 189ms\tremaining: 522ms\n",
      "266:\tlearn: 0.1313375\ttotal: 190ms\tremaining: 522ms\n",
      "267:\tlearn: 0.1305158\ttotal: 190ms\tremaining: 520ms\n",
      "268:\tlearn: 0.1296580\ttotal: 191ms\tremaining: 518ms\n",
      "269:\tlearn: 0.1286777\ttotal: 191ms\tremaining: 518ms\n",
      "270:\tlearn: 0.1277413\ttotal: 192ms\tremaining: 516ms\n",
      "271:\tlearn: 0.1268919\ttotal: 193ms\tremaining: 515ms\n",
      "272:\tlearn: 0.1262684\ttotal: 193ms\tremaining: 514ms\n",
      "273:\tlearn: 0.1254856\ttotal: 193ms\tremaining: 513ms\n",
      "274:\tlearn: 0.1246498\ttotal: 194ms\tremaining: 511ms\n",
      "275:\tlearn: 0.1236791\ttotal: 194ms\tremaining: 510ms\n",
      "276:\tlearn: 0.1230110\ttotal: 195ms\tremaining: 508ms\n",
      "277:\tlearn: 0.1224135\ttotal: 195ms\tremaining: 507ms\n",
      "278:\tlearn: 0.1216446\ttotal: 196ms\tremaining: 506ms\n",
      "279:\tlearn: 0.1208561\ttotal: 196ms\tremaining: 505ms\n",
      "280:\tlearn: 0.1202386\ttotal: 197ms\tremaining: 504ms\n",
      "281:\tlearn: 0.1193327\ttotal: 197ms\tremaining: 502ms\n",
      "282:\tlearn: 0.1185718\ttotal: 198ms\tremaining: 501ms\n",
      "283:\tlearn: 0.1178275\ttotal: 198ms\tremaining: 499ms\n",
      "284:\tlearn: 0.1172161\ttotal: 199ms\tremaining: 498ms\n",
      "285:\tlearn: 0.1167425\ttotal: 199ms\tremaining: 497ms\n",
      "286:\tlearn: 0.1162413\ttotal: 200ms\tremaining: 496ms\n",
      "287:\tlearn: 0.1154865\ttotal: 200ms\tremaining: 494ms\n",
      "288:\tlearn: 0.1146846\ttotal: 201ms\tremaining: 493ms\n",
      "289:\tlearn: 0.1140752\ttotal: 201ms\tremaining: 492ms\n",
      "290:\tlearn: 0.1135009\ttotal: 202ms\tremaining: 491ms\n",
      "291:\tlearn: 0.1127694\ttotal: 202ms\tremaining: 490ms\n",
      "292:\tlearn: 0.1119988\ttotal: 203ms\tremaining: 489ms\n",
      "293:\tlearn: 0.1114102\ttotal: 203ms\tremaining: 488ms\n",
      "294:\tlearn: 0.1106538\ttotal: 204ms\tremaining: 487ms\n",
      "295:\tlearn: 0.1098932\ttotal: 204ms\tremaining: 486ms\n",
      "296:\tlearn: 0.1093219\ttotal: 205ms\tremaining: 485ms\n",
      "297:\tlearn: 0.1086653\ttotal: 206ms\tremaining: 484ms\n",
      "298:\tlearn: 0.1080227\ttotal: 206ms\tremaining: 483ms\n",
      "299:\tlearn: 0.1074968\ttotal: 207ms\tremaining: 483ms\n",
      "300:\tlearn: 0.1066520\ttotal: 207ms\tremaining: 482ms\n",
      "301:\tlearn: 0.1060268\ttotal: 208ms\tremaining: 481ms\n",
      "302:\tlearn: 0.1054309\ttotal: 209ms\tremaining: 481ms\n",
      "303:\tlearn: 0.1048368\ttotal: 209ms\tremaining: 480ms\n",
      "304:\tlearn: 0.1042104\ttotal: 210ms\tremaining: 479ms\n",
      "305:\tlearn: 0.1035612\ttotal: 211ms\tremaining: 477ms\n",
      "306:\tlearn: 0.1029714\ttotal: 211ms\tremaining: 476ms\n",
      "307:\tlearn: 0.1024808\ttotal: 211ms\tremaining: 475ms\n",
      "308:\tlearn: 0.1019639\ttotal: 212ms\tremaining: 474ms\n",
      "309:\tlearn: 0.1012254\ttotal: 212ms\tremaining: 472ms\n",
      "310:\tlearn: 0.1006857\ttotal: 212ms\tremaining: 471ms\n",
      "311:\tlearn: 0.1002850\ttotal: 213ms\tremaining: 470ms\n",
      "312:\tlearn: 0.0995827\ttotal: 213ms\tremaining: 468ms\n",
      "313:\tlearn: 0.0989589\ttotal: 214ms\tremaining: 467ms\n",
      "314:\tlearn: 0.0981362\ttotal: 214ms\tremaining: 466ms\n",
      "315:\tlearn: 0.0975997\ttotal: 215ms\tremaining: 465ms\n",
      "316:\tlearn: 0.0972201\ttotal: 215ms\tremaining: 464ms\n",
      "317:\tlearn: 0.0965154\ttotal: 216ms\tremaining: 463ms\n",
      "318:\tlearn: 0.0958184\ttotal: 216ms\tremaining: 461ms\n",
      "319:\tlearn: 0.0951124\ttotal: 217ms\tremaining: 461ms\n",
      "320:\tlearn: 0.0946705\ttotal: 217ms\tremaining: 459ms\n",
      "321:\tlearn: 0.0941774\ttotal: 218ms\tremaining: 458ms\n",
      "322:\tlearn: 0.0935085\ttotal: 218ms\tremaining: 457ms\n",
      "323:\tlearn: 0.0927245\ttotal: 218ms\tremaining: 456ms\n",
      "324:\tlearn: 0.0922860\ttotal: 219ms\tremaining: 455ms\n",
      "325:\tlearn: 0.0919939\ttotal: 220ms\tremaining: 454ms\n",
      "326:\tlearn: 0.0913582\ttotal: 220ms\tremaining: 453ms\n",
      "327:\tlearn: 0.0910385\ttotal: 221ms\tremaining: 453ms\n",
      "328:\tlearn: 0.0903845\ttotal: 221ms\tremaining: 452ms\n",
      "329:\tlearn: 0.0900454\ttotal: 222ms\tremaining: 450ms\n",
      "330:\tlearn: 0.0896211\ttotal: 222ms\tremaining: 449ms\n",
      "331:\tlearn: 0.0890155\ttotal: 223ms\tremaining: 448ms\n",
      "332:\tlearn: 0.0884083\ttotal: 223ms\tremaining: 447ms\n",
      "333:\tlearn: 0.0879153\ttotal: 224ms\tremaining: 446ms\n",
      "334:\tlearn: 0.0871902\ttotal: 224ms\tremaining: 445ms\n",
      "335:\tlearn: 0.0867406\ttotal: 225ms\tremaining: 444ms\n",
      "336:\tlearn: 0.0860265\ttotal: 225ms\tremaining: 443ms\n",
      "337:\tlearn: 0.0854838\ttotal: 226ms\tremaining: 442ms\n",
      "338:\tlearn: 0.0850109\ttotal: 226ms\tremaining: 441ms\n",
      "339:\tlearn: 0.0845503\ttotal: 227ms\tremaining: 440ms\n",
      "340:\tlearn: 0.0839887\ttotal: 227ms\tremaining: 439ms\n",
      "341:\tlearn: 0.0836861\ttotal: 227ms\tremaining: 438ms\n",
      "342:\tlearn: 0.0831110\ttotal: 228ms\tremaining: 436ms\n",
      "343:\tlearn: 0.0825462\ttotal: 228ms\tremaining: 435ms\n",
      "344:\tlearn: 0.0819863\ttotal: 229ms\tremaining: 434ms\n",
      "345:\tlearn: 0.0816140\ttotal: 229ms\tremaining: 433ms\n",
      "346:\tlearn: 0.0810983\ttotal: 230ms\tremaining: 432ms\n",
      "347:\tlearn: 0.0805770\ttotal: 230ms\tremaining: 431ms\n",
      "348:\tlearn: 0.0800725\ttotal: 231ms\tremaining: 430ms\n",
      "349:\tlearn: 0.0795151\ttotal: 231ms\tremaining: 429ms\n",
      "350:\tlearn: 0.0789813\ttotal: 232ms\tremaining: 428ms\n",
      "351:\tlearn: 0.0785564\ttotal: 232ms\tremaining: 427ms\n",
      "352:\tlearn: 0.0779754\ttotal: 232ms\tremaining: 426ms\n",
      "353:\tlearn: 0.0773989\ttotal: 233ms\tremaining: 425ms\n",
      "354:\tlearn: 0.0769228\ttotal: 233ms\tremaining: 424ms\n",
      "355:\tlearn: 0.0764506\ttotal: 234ms\tremaining: 423ms\n",
      "356:\tlearn: 0.0760221\ttotal: 235ms\tremaining: 424ms\n",
      "357:\tlearn: 0.0757968\ttotal: 236ms\tremaining: 423ms\n",
      "358:\tlearn: 0.0753424\ttotal: 237ms\tremaining: 422ms\n",
      "359:\tlearn: 0.0748768\ttotal: 238ms\tremaining: 423ms\n",
      "360:\tlearn: 0.0743719\ttotal: 239ms\tremaining: 423ms\n",
      "361:\tlearn: 0.0739353\ttotal: 239ms\tremaining: 422ms\n",
      "362:\tlearn: 0.0734522\ttotal: 240ms\tremaining: 421ms\n",
      "363:\tlearn: 0.0730958\ttotal: 241ms\tremaining: 420ms\n",
      "364:\tlearn: 0.0726377\ttotal: 241ms\tremaining: 419ms\n",
      "365:\tlearn: 0.0723379\ttotal: 242ms\tremaining: 418ms\n",
      "366:\tlearn: 0.0719581\ttotal: 242ms\tremaining: 418ms\n",
      "367:\tlearn: 0.0714824\ttotal: 243ms\tremaining: 417ms\n",
      "368:\tlearn: 0.0712192\ttotal: 243ms\tremaining: 415ms\n",
      "369:\tlearn: 0.0708210\ttotal: 243ms\tremaining: 414ms\n",
      "370:\tlearn: 0.0703575\ttotal: 244ms\tremaining: 413ms\n",
      "371:\tlearn: 0.0700737\ttotal: 244ms\tremaining: 412ms\n",
      "372:\tlearn: 0.0696118\ttotal: 245ms\tremaining: 411ms\n",
      "373:\tlearn: 0.0691742\ttotal: 245ms\tremaining: 410ms\n",
      "374:\tlearn: 0.0687800\ttotal: 246ms\tremaining: 409ms\n",
      "375:\tlearn: 0.0683953\ttotal: 246ms\tremaining: 408ms\n",
      "376:\tlearn: 0.0679484\ttotal: 246ms\tremaining: 407ms\n",
      "377:\tlearn: 0.0675150\ttotal: 247ms\tremaining: 406ms\n",
      "378:\tlearn: 0.0672476\ttotal: 247ms\tremaining: 405ms\n",
      "379:\tlearn: 0.0668770\ttotal: 248ms\tremaining: 404ms\n",
      "380:\tlearn: 0.0666155\ttotal: 248ms\tremaining: 403ms\n",
      "381:\tlearn: 0.0663582\ttotal: 249ms\tremaining: 402ms\n",
      "382:\tlearn: 0.0661049\ttotal: 249ms\tremaining: 401ms\n",
      "383:\tlearn: 0.0657525\ttotal: 249ms\tremaining: 400ms\n",
      "384:\tlearn: 0.0653300\ttotal: 250ms\tremaining: 399ms\n",
      "385:\tlearn: 0.0648728\ttotal: 251ms\tremaining: 399ms\n",
      "386:\tlearn: 0.0645250\ttotal: 251ms\tremaining: 398ms\n",
      "387:\tlearn: 0.0641769\ttotal: 252ms\tremaining: 397ms\n",
      "388:\tlearn: 0.0639367\ttotal: 252ms\tremaining: 396ms\n",
      "389:\tlearn: 0.0637002\ttotal: 253ms\tremaining: 395ms\n",
      "390:\tlearn: 0.0633683\ttotal: 253ms\tremaining: 394ms\n",
      "391:\tlearn: 0.0629284\ttotal: 254ms\tremaining: 393ms\n",
      "392:\tlearn: 0.0626980\ttotal: 254ms\tremaining: 393ms\n",
      "393:\tlearn: 0.0623035\ttotal: 255ms\tremaining: 392ms\n",
      "394:\tlearn: 0.0620150\ttotal: 255ms\tremaining: 391ms\n",
      "395:\tlearn: 0.0617026\ttotal: 256ms\tremaining: 390ms\n",
      "396:\tlearn: 0.0612476\ttotal: 256ms\tremaining: 389ms\n",
      "397:\tlearn: 0.0608279\ttotal: 257ms\tremaining: 388ms\n",
      "398:\tlearn: 0.0604159\ttotal: 257ms\tremaining: 387ms\n",
      "399:\tlearn: 0.0601965\ttotal: 257ms\tremaining: 386ms\n",
      "400:\tlearn: 0.0597664\ttotal: 258ms\tremaining: 385ms\n",
      "401:\tlearn: 0.0593629\ttotal: 258ms\tremaining: 384ms\n",
      "402:\tlearn: 0.0591675\ttotal: 259ms\tremaining: 383ms\n",
      "403:\tlearn: 0.0589294\ttotal: 259ms\tremaining: 382ms\n",
      "404:\tlearn: 0.0587370\ttotal: 260ms\tremaining: 381ms\n",
      "405:\tlearn: 0.0584719\ttotal: 260ms\tremaining: 380ms\n",
      "406:\tlearn: 0.0581221\ttotal: 261ms\tremaining: 380ms\n",
      "407:\tlearn: 0.0577359\ttotal: 261ms\tremaining: 379ms\n",
      "408:\tlearn: 0.0574911\ttotal: 261ms\tremaining: 378ms\n",
      "409:\tlearn: 0.0572661\ttotal: 262ms\tremaining: 377ms\n",
      "410:\tlearn: 0.0568670\ttotal: 262ms\tremaining: 376ms\n",
      "411:\tlearn: 0.0564976\ttotal: 263ms\tremaining: 375ms\n",
      "412:\tlearn: 0.0562185\ttotal: 264ms\tremaining: 375ms\n",
      "413:\tlearn: 0.0559718\ttotal: 264ms\tremaining: 374ms\n",
      "414:\tlearn: 0.0555862\ttotal: 264ms\tremaining: 373ms\n",
      "415:\tlearn: 0.0553465\ttotal: 265ms\tremaining: 372ms\n",
      "416:\tlearn: 0.0551397\ttotal: 266ms\tremaining: 372ms\n",
      "417:\tlearn: 0.0547865\ttotal: 267ms\tremaining: 371ms\n",
      "418:\tlearn: 0.0545634\ttotal: 267ms\tremaining: 371ms\n",
      "419:\tlearn: 0.0543635\ttotal: 268ms\tremaining: 370ms\n",
      "420:\tlearn: 0.0540009\ttotal: 268ms\tremaining: 369ms\n",
      "421:\tlearn: 0.0537273\ttotal: 269ms\tremaining: 368ms\n",
      "422:\tlearn: 0.0535141\ttotal: 270ms\tremaining: 368ms\n",
      "423:\tlearn: 0.0532469\ttotal: 270ms\tremaining: 367ms\n",
      "424:\tlearn: 0.0530217\ttotal: 271ms\tremaining: 366ms\n",
      "425:\tlearn: 0.0526697\ttotal: 271ms\tremaining: 365ms\n",
      "426:\tlearn: 0.0524572\ttotal: 272ms\tremaining: 365ms\n",
      "427:\tlearn: 0.0522790\ttotal: 272ms\tremaining: 364ms\n",
      "428:\tlearn: 0.0519370\ttotal: 273ms\tremaining: 363ms\n",
      "429:\tlearn: 0.0518434\ttotal: 273ms\tremaining: 362ms\n",
      "430:\tlearn: 0.0514941\ttotal: 274ms\tremaining: 361ms\n",
      "431:\tlearn: 0.0512404\ttotal: 274ms\tremaining: 361ms\n",
      "432:\tlearn: 0.0509071\ttotal: 275ms\tremaining: 360ms\n",
      "433:\tlearn: 0.0507404\ttotal: 275ms\tremaining: 359ms\n",
      "434:\tlearn: 0.0504131\ttotal: 276ms\tremaining: 359ms\n",
      "435:\tlearn: 0.0503227\ttotal: 277ms\tremaining: 358ms\n",
      "436:\tlearn: 0.0502334\ttotal: 277ms\tremaining: 357ms\n",
      "437:\tlearn: 0.0499234\ttotal: 278ms\tremaining: 356ms\n",
      "438:\tlearn: 0.0496396\ttotal: 278ms\tremaining: 355ms\n",
      "439:\tlearn: 0.0493605\ttotal: 279ms\tremaining: 355ms\n",
      "440:\tlearn: 0.0491877\ttotal: 279ms\tremaining: 354ms\n",
      "441:\tlearn: 0.0488914\ttotal: 280ms\tremaining: 353ms\n",
      "442:\tlearn: 0.0486326\ttotal: 280ms\tremaining: 352ms\n",
      "443:\tlearn: 0.0483806\ttotal: 281ms\tremaining: 352ms\n",
      "444:\tlearn: 0.0481090\ttotal: 281ms\tremaining: 351ms\n",
      "445:\tlearn: 0.0478223\ttotal: 282ms\tremaining: 350ms\n",
      "446:\tlearn: 0.0476564\ttotal: 283ms\tremaining: 350ms\n",
      "447:\tlearn: 0.0475016\ttotal: 283ms\tremaining: 349ms\n",
      "448:\tlearn: 0.0472005\ttotal: 283ms\tremaining: 348ms\n",
      "449:\tlearn: 0.0470394\ttotal: 284ms\tremaining: 347ms\n",
      "450:\tlearn: 0.0467373\ttotal: 284ms\tremaining: 346ms\n"
     ]
    },
    {
     "name": "stdout",
     "output_type": "stream",
     "text": [
      "451:\tlearn: 0.0464669\ttotal: 285ms\tremaining: 346ms\n",
      "452:\tlearn: 0.0461752\ttotal: 286ms\tremaining: 345ms\n",
      "453:\tlearn: 0.0459141\ttotal: 286ms\tremaining: 344ms\n",
      "454:\tlearn: 0.0456423\ttotal: 287ms\tremaining: 343ms\n",
      "455:\tlearn: 0.0455018\ttotal: 287ms\tremaining: 342ms\n",
      "456:\tlearn: 0.0453838\ttotal: 287ms\tremaining: 342ms\n",
      "457:\tlearn: 0.0452474\ttotal: 288ms\tremaining: 341ms\n",
      "458:\tlearn: 0.0451318\ttotal: 288ms\tremaining: 340ms\n",
      "459:\tlearn: 0.0448664\ttotal: 289ms\tremaining: 339ms\n",
      "460:\tlearn: 0.0445810\ttotal: 289ms\tremaining: 338ms\n",
      "461:\tlearn: 0.0445022\ttotal: 290ms\tremaining: 337ms\n",
      "462:\tlearn: 0.0444243\ttotal: 290ms\tremaining: 337ms\n",
      "463:\tlearn: 0.0441652\ttotal: 291ms\tremaining: 336ms\n",
      "464:\tlearn: 0.0440632\ttotal: 291ms\tremaining: 335ms\n",
      "465:\tlearn: 0.0439531\ttotal: 292ms\tremaining: 334ms\n",
      "466:\tlearn: 0.0437352\ttotal: 292ms\tremaining: 334ms\n",
      "467:\tlearn: 0.0434602\ttotal: 293ms\tremaining: 333ms\n",
      "468:\tlearn: 0.0433852\ttotal: 293ms\tremaining: 332ms\n",
      "469:\tlearn: 0.0433111\ttotal: 294ms\tremaining: 331ms\n",
      "470:\tlearn: 0.0430622\ttotal: 294ms\tremaining: 330ms\n",
      "471:\tlearn: 0.0429890\ttotal: 295ms\tremaining: 330ms\n",
      "472:\tlearn: 0.0426996\ttotal: 296ms\tremaining: 330ms\n",
      "473:\tlearn: 0.0425341\ttotal: 297ms\tremaining: 330ms\n",
      "474:\tlearn: 0.0422775\ttotal: 297ms\tremaining: 329ms\n",
      "475:\tlearn: 0.0421155\ttotal: 298ms\tremaining: 328ms\n",
      "476:\tlearn: 0.0418781\ttotal: 299ms\tremaining: 327ms\n",
      "477:\tlearn: 0.0417850\ttotal: 299ms\tremaining: 327ms\n",
      "478:\tlearn: 0.0415266\ttotal: 300ms\tremaining: 326ms\n",
      "479:\tlearn: 0.0413020\ttotal: 300ms\tremaining: 325ms\n",
      "480:\tlearn: 0.0412330\ttotal: 301ms\tremaining: 324ms\n",
      "481:\tlearn: 0.0411649\ttotal: 301ms\tremaining: 324ms\n",
      "482:\tlearn: 0.0408607\ttotal: 302ms\tremaining: 323ms\n",
      "483:\tlearn: 0.0405882\ttotal: 302ms\tremaining: 322ms\n",
      "484:\tlearn: 0.0403636\ttotal: 303ms\tremaining: 321ms\n",
      "485:\tlearn: 0.0402759\ttotal: 303ms\tremaining: 321ms\n",
      "486:\tlearn: 0.0400309\ttotal: 304ms\tremaining: 320ms\n",
      "487:\tlearn: 0.0398836\ttotal: 304ms\tremaining: 319ms\n",
      "488:\tlearn: 0.0398188\ttotal: 305ms\tremaining: 318ms\n",
      "489:\tlearn: 0.0396744\ttotal: 305ms\tremaining: 318ms\n",
      "490:\tlearn: 0.0393845\ttotal: 306ms\tremaining: 317ms\n",
      "491:\tlearn: 0.0393212\ttotal: 306ms\tremaining: 316ms\n",
      "492:\tlearn: 0.0390616\ttotal: 306ms\tremaining: 315ms\n",
      "493:\tlearn: 0.0388501\ttotal: 307ms\tremaining: 314ms\n",
      "494:\tlearn: 0.0387113\ttotal: 307ms\tremaining: 314ms\n",
      "495:\tlearn: 0.0385991\ttotal: 308ms\tremaining: 313ms\n",
      "496:\tlearn: 0.0383693\ttotal: 308ms\tremaining: 312ms\n",
      "497:\tlearn: 0.0382594\ttotal: 309ms\tremaining: 311ms\n",
      "498:\tlearn: 0.0381510\ttotal: 309ms\tremaining: 311ms\n",
      "499:\tlearn: 0.0380361\ttotal: 310ms\tremaining: 310ms\n",
      "500:\tlearn: 0.0377614\ttotal: 310ms\tremaining: 309ms\n",
      "501:\tlearn: 0.0375140\ttotal: 311ms\tremaining: 309ms\n",
      "502:\tlearn: 0.0374082\ttotal: 312ms\tremaining: 308ms\n",
      "503:\tlearn: 0.0371661\ttotal: 312ms\tremaining: 307ms\n",
      "504:\tlearn: 0.0370621\ttotal: 313ms\tremaining: 307ms\n",
      "505:\tlearn: 0.0367981\ttotal: 313ms\tremaining: 306ms\n",
      "506:\tlearn: 0.0365602\ttotal: 314ms\tremaining: 305ms\n",
      "507:\tlearn: 0.0364585\ttotal: 315ms\tremaining: 305ms\n",
      "508:\tlearn: 0.0362588\ttotal: 315ms\tremaining: 304ms\n",
      "509:\tlearn: 0.0360278\ttotal: 315ms\tremaining: 303ms\n",
      "510:\tlearn: 0.0359284\ttotal: 316ms\tremaining: 302ms\n",
      "511:\tlearn: 0.0356764\ttotal: 317ms\tremaining: 302ms\n",
      "512:\tlearn: 0.0354849\ttotal: 317ms\tremaining: 301ms\n",
      "513:\tlearn: 0.0352450\ttotal: 317ms\tremaining: 300ms\n",
      "514:\tlearn: 0.0351488\ttotal: 318ms\tremaining: 299ms\n",
      "515:\tlearn: 0.0350289\ttotal: 318ms\tremaining: 298ms\n",
      "516:\tlearn: 0.0349341\ttotal: 319ms\tremaining: 298ms\n",
      "517:\tlearn: 0.0348168\ttotal: 319ms\tremaining: 297ms\n",
      "518:\tlearn: 0.0347234\ttotal: 319ms\tremaining: 296ms\n",
      "519:\tlearn: 0.0346313\ttotal: 320ms\tremaining: 295ms\n",
      "520:\tlearn: 0.0344098\ttotal: 320ms\tremaining: 295ms\n",
      "521:\tlearn: 0.0342124\ttotal: 321ms\tremaining: 294ms\n",
      "522:\tlearn: 0.0341226\ttotal: 321ms\tremaining: 293ms\n",
      "523:\tlearn: 0.0340342\ttotal: 322ms\tremaining: 292ms\n",
      "524:\tlearn: 0.0339217\ttotal: 322ms\tremaining: 291ms\n",
      "525:\tlearn: 0.0337244\ttotal: 323ms\tremaining: 291ms\n",
      "526:\tlearn: 0.0336378\ttotal: 323ms\tremaining: 290ms\n",
      "527:\tlearn: 0.0334443\ttotal: 324ms\tremaining: 289ms\n",
      "528:\tlearn: 0.0333595\ttotal: 324ms\tremaining: 288ms\n",
      "529:\tlearn: 0.0331503\ttotal: 324ms\tremaining: 288ms\n",
      "530:\tlearn: 0.0330671\ttotal: 325ms\tremaining: 287ms\n",
      "531:\tlearn: 0.0328793\ttotal: 326ms\tremaining: 286ms\n",
      "532:\tlearn: 0.0327029\ttotal: 326ms\tremaining: 286ms\n",
      "533:\tlearn: 0.0325301\ttotal: 327ms\tremaining: 285ms\n",
      "534:\tlearn: 0.0324490\ttotal: 327ms\tremaining: 284ms\n",
      "535:\tlearn: 0.0322798\ttotal: 328ms\tremaining: 284ms\n",
      "536:\tlearn: 0.0322145\ttotal: 328ms\tremaining: 283ms\n",
      "537:\tlearn: 0.0320488\ttotal: 329ms\tremaining: 282ms\n",
      "538:\tlearn: 0.0319695\ttotal: 329ms\tremaining: 282ms\n",
      "539:\tlearn: 0.0317366\ttotal: 330ms\tremaining: 281ms\n",
      "540:\tlearn: 0.0315372\ttotal: 330ms\tremaining: 280ms\n",
      "541:\tlearn: 0.0313425\ttotal: 331ms\tremaining: 279ms\n",
      "542:\tlearn: 0.0312656\ttotal: 331ms\tremaining: 279ms\n",
      "543:\tlearn: 0.0310760\ttotal: 332ms\tremaining: 278ms\n",
      "544:\tlearn: 0.0309075\ttotal: 332ms\tremaining: 277ms\n",
      "545:\tlearn: 0.0308323\ttotal: 332ms\tremaining: 276ms\n",
      "546:\tlearn: 0.0306549\ttotal: 333ms\tremaining: 276ms\n",
      "547:\tlearn: 0.0305054\ttotal: 333ms\tremaining: 275ms\n",
      "548:\tlearn: 0.0302955\ttotal: 334ms\tremaining: 274ms\n",
      "549:\tlearn: 0.0301258\ttotal: 334ms\tremaining: 273ms\n",
      "550:\tlearn: 0.0299055\ttotal: 335ms\tremaining: 273ms\n",
      "551:\tlearn: 0.0297399\ttotal: 335ms\tremaining: 272ms\n",
      "552:\tlearn: 0.0295625\ttotal: 335ms\tremaining: 271ms\n",
      "553:\tlearn: 0.0294001\ttotal: 336ms\tremaining: 270ms\n",
      "554:\tlearn: 0.0293292\ttotal: 336ms\tremaining: 270ms\n",
      "555:\tlearn: 0.0291569\ttotal: 337ms\tremaining: 269ms\n",
      "556:\tlearn: 0.0289978\ttotal: 337ms\tremaining: 268ms\n",
      "557:\tlearn: 0.0289286\ttotal: 338ms\tremaining: 267ms\n",
      "558:\tlearn: 0.0287612\ttotal: 338ms\tremaining: 267ms\n",
      "559:\tlearn: 0.0285977\ttotal: 339ms\tremaining: 266ms\n",
      "560:\tlearn: 0.0284538\ttotal: 339ms\tremaining: 265ms\n",
      "561:\tlearn: 0.0282984\ttotal: 340ms\tremaining: 265ms\n",
      "562:\tlearn: 0.0281450\ttotal: 340ms\tremaining: 264ms\n",
      "563:\tlearn: 0.0279774\ttotal: 341ms\tremaining: 263ms\n",
      "564:\tlearn: 0.0278268\ttotal: 341ms\tremaining: 263ms\n",
      "565:\tlearn: 0.0276790\ttotal: 342ms\tremaining: 262ms\n",
      "566:\tlearn: 0.0276138\ttotal: 343ms\tremaining: 262ms\n",
      "567:\tlearn: 0.0274701\ttotal: 343ms\tremaining: 261ms\n",
      "568:\tlearn: 0.0274062\ttotal: 344ms\tremaining: 261ms\n",
      "569:\tlearn: 0.0272800\ttotal: 345ms\tremaining: 260ms\n",
      "570:\tlearn: 0.0271002\ttotal: 345ms\tremaining: 259ms\n",
      "571:\tlearn: 0.0269578\ttotal: 346ms\tremaining: 259ms\n",
      "572:\tlearn: 0.0268960\ttotal: 346ms\tremaining: 258ms\n",
      "573:\tlearn: 0.0268029\ttotal: 347ms\tremaining: 257ms\n",
      "574:\tlearn: 0.0266784\ttotal: 347ms\tremaining: 257ms\n",
      "575:\tlearn: 0.0265116\ttotal: 348ms\tremaining: 256ms\n",
      "576:\tlearn: 0.0263900\ttotal: 348ms\tremaining: 255ms\n",
      "577:\tlearn: 0.0262216\ttotal: 348ms\tremaining: 254ms\n",
      "578:\tlearn: 0.0261139\ttotal: 349ms\tremaining: 254ms\n",
      "579:\tlearn: 0.0260191\ttotal: 349ms\tremaining: 253ms\n",
      "580:\tlearn: 0.0259005\ttotal: 350ms\tremaining: 252ms\n",
      "581:\tlearn: 0.0258078\ttotal: 350ms\tremaining: 251ms\n",
      "582:\tlearn: 0.0256948\ttotal: 350ms\tremaining: 251ms\n",
      "583:\tlearn: 0.0255969\ttotal: 351ms\tremaining: 250ms\n",
      "584:\tlearn: 0.0254851\ttotal: 351ms\tremaining: 249ms\n",
      "585:\tlearn: 0.0253271\ttotal: 352ms\tremaining: 248ms\n",
      "586:\tlearn: 0.0251603\ttotal: 352ms\tremaining: 248ms\n",
      "587:\tlearn: 0.0250206\ttotal: 353ms\tremaining: 247ms\n",
      "588:\tlearn: 0.0249123\ttotal: 353ms\tremaining: 246ms\n",
      "589:\tlearn: 0.0247500\ttotal: 354ms\tremaining: 246ms\n",
      "590:\tlearn: 0.0246485\ttotal: 354ms\tremaining: 245ms\n",
      "591:\tlearn: 0.0244904\ttotal: 354ms\tremaining: 244ms\n",
      "592:\tlearn: 0.0243604\ttotal: 355ms\tremaining: 244ms\n",
      "593:\tlearn: 0.0242570\ttotal: 355ms\tremaining: 243ms\n",
      "594:\tlearn: 0.0241031\ttotal: 356ms\tremaining: 242ms\n",
      "595:\tlearn: 0.0239736\ttotal: 356ms\tremaining: 241ms\n",
      "596:\tlearn: 0.0238190\ttotal: 357ms\tremaining: 241ms\n",
      "597:\tlearn: 0.0237200\ttotal: 357ms\tremaining: 240ms\n",
      "598:\tlearn: 0.0235713\ttotal: 357ms\tremaining: 239ms\n",
      "599:\tlearn: 0.0234848\ttotal: 358ms\tremaining: 239ms\n",
      "600:\tlearn: 0.0233590\ttotal: 359ms\tremaining: 238ms\n",
      "601:\tlearn: 0.0232759\ttotal: 359ms\tremaining: 238ms\n",
      "602:\tlearn: 0.0231747\ttotal: 360ms\tremaining: 237ms\n",
      "603:\tlearn: 0.0230950\ttotal: 361ms\tremaining: 236ms\n",
      "604:\tlearn: 0.0229763\ttotal: 362ms\tremaining: 236ms\n",
      "605:\tlearn: 0.0228798\ttotal: 362ms\tremaining: 236ms\n",
      "606:\tlearn: 0.0227587\ttotal: 363ms\tremaining: 235ms\n",
      "607:\tlearn: 0.0226408\ttotal: 363ms\tremaining: 234ms\n",
      "608:\tlearn: 0.0225261\ttotal: 364ms\tremaining: 234ms\n",
      "609:\tlearn: 0.0224145\ttotal: 364ms\tremaining: 233ms\n",
      "610:\tlearn: 0.0223059\ttotal: 365ms\tremaining: 232ms\n",
      "611:\tlearn: 0.0221614\ttotal: 365ms\tremaining: 232ms\n",
      "612:\tlearn: 0.0220207\ttotal: 366ms\tremaining: 231ms\n",
      "613:\tlearn: 0.0219459\ttotal: 366ms\tremaining: 230ms\n",
      "614:\tlearn: 0.0219029\ttotal: 366ms\tremaining: 229ms\n",
      "615:\tlearn: 0.0218304\ttotal: 367ms\tremaining: 229ms\n",
      "616:\tlearn: 0.0218054\ttotal: 367ms\tremaining: 228ms\n"
     ]
    },
    {
     "name": "stdout",
     "output_type": "stream",
     "text": [
      "617:\tlearn: 0.0216662\ttotal: 368ms\tremaining: 228ms\n",
      "618:\tlearn: 0.0215323\ttotal: 369ms\tremaining: 227ms\n",
      "619:\tlearn: 0.0213964\ttotal: 369ms\tremaining: 226ms\n",
      "620:\tlearn: 0.0213557\ttotal: 370ms\tremaining: 226ms\n",
      "621:\tlearn: 0.0212873\ttotal: 371ms\tremaining: 225ms\n",
      "622:\tlearn: 0.0211688\ttotal: 372ms\tremaining: 225ms\n",
      "623:\tlearn: 0.0211453\ttotal: 372ms\tremaining: 224ms\n",
      "624:\tlearn: 0.0210129\ttotal: 373ms\tremaining: 224ms\n",
      "625:\tlearn: 0.0209737\ttotal: 373ms\tremaining: 223ms\n",
      "626:\tlearn: 0.0209507\ttotal: 374ms\tremaining: 222ms\n",
      "627:\tlearn: 0.0208349\ttotal: 374ms\tremaining: 222ms\n",
      "628:\tlearn: 0.0207966\ttotal: 375ms\tremaining: 221ms\n",
      "629:\tlearn: 0.0206678\ttotal: 375ms\tremaining: 220ms\n",
      "630:\tlearn: 0.0206455\ttotal: 376ms\tremaining: 220ms\n",
      "631:\tlearn: 0.0205811\ttotal: 376ms\tremaining: 219ms\n",
      "632:\tlearn: 0.0204680\ttotal: 376ms\tremaining: 218ms\n",
      "633:\tlearn: 0.0204464\ttotal: 377ms\tremaining: 218ms\n",
      "634:\tlearn: 0.0203222\ttotal: 377ms\tremaining: 217ms\n",
      "635:\tlearn: 0.0202186\ttotal: 378ms\tremaining: 216ms\n",
      "636:\tlearn: 0.0201974\ttotal: 378ms\tremaining: 216ms\n",
      "637:\tlearn: 0.0200956\ttotal: 379ms\tremaining: 215ms\n",
      "638:\tlearn: 0.0200634\ttotal: 379ms\tremaining: 214ms\n",
      "639:\tlearn: 0.0200317\ttotal: 379ms\tremaining: 213ms\n",
      "640:\tlearn: 0.0199468\ttotal: 380ms\tremaining: 213ms\n",
      "641:\tlearn: 0.0198637\ttotal: 380ms\tremaining: 212ms\n",
      "642:\tlearn: 0.0198327\ttotal: 381ms\tremaining: 211ms\n",
      "643:\tlearn: 0.0197515\ttotal: 381ms\tremaining: 211ms\n",
      "644:\tlearn: 0.0197283\ttotal: 382ms\tremaining: 210ms\n",
      "645:\tlearn: 0.0196374\ttotal: 382ms\tremaining: 209ms\n",
      "646:\tlearn: 0.0196025\ttotal: 382ms\tremaining: 209ms\n",
      "647:\tlearn: 0.0195824\ttotal: 383ms\tremaining: 208ms\n",
      "648:\tlearn: 0.0195040\ttotal: 383ms\tremaining: 207ms\n",
      "649:\tlearn: 0.0193743\ttotal: 384ms\tremaining: 207ms\n",
      "650:\tlearn: 0.0192978\ttotal: 384ms\tremaining: 206ms\n",
      "651:\tlearn: 0.0191709\ttotal: 385ms\tremaining: 205ms\n",
      "652:\tlearn: 0.0190851\ttotal: 385ms\tremaining: 205ms\n",
      "653:\tlearn: 0.0189612\ttotal: 385ms\tremaining: 204ms\n",
      "654:\tlearn: 0.0188876\ttotal: 386ms\tremaining: 203ms\n",
      "655:\tlearn: 0.0187664\ttotal: 386ms\tremaining: 202ms\n",
      "656:\tlearn: 0.0186946\ttotal: 387ms\tremaining: 202ms\n",
      "657:\tlearn: 0.0186229\ttotal: 387ms\tremaining: 201ms\n",
      "658:\tlearn: 0.0185052\ttotal: 388ms\tremaining: 201ms\n",
      "659:\tlearn: 0.0184387\ttotal: 389ms\tremaining: 200ms\n",
      "660:\tlearn: 0.0183718\ttotal: 389ms\tremaining: 200ms\n",
      "661:\tlearn: 0.0183113\ttotal: 390ms\tremaining: 199ms\n",
      "662:\tlearn: 0.0181973\ttotal: 390ms\tremaining: 198ms\n",
      "663:\tlearn: 0.0181331\ttotal: 391ms\tremaining: 198ms\n",
      "664:\tlearn: 0.0180520\ttotal: 391ms\tremaining: 197ms\n",
      "665:\tlearn: 0.0179671\ttotal: 392ms\tremaining: 196ms\n",
      "666:\tlearn: 0.0178889\ttotal: 392ms\tremaining: 196ms\n",
      "667:\tlearn: 0.0178072\ttotal: 393ms\tremaining: 195ms\n",
      "668:\tlearn: 0.0177362\ttotal: 393ms\tremaining: 194ms\n",
      "669:\tlearn: 0.0176718\ttotal: 393ms\tremaining: 194ms\n",
      "670:\tlearn: 0.0176077\ttotal: 394ms\tremaining: 193ms\n",
      "671:\tlearn: 0.0175203\ttotal: 395ms\tremaining: 193ms\n",
      "672:\tlearn: 0.0174571\ttotal: 395ms\tremaining: 192ms\n",
      "673:\tlearn: 0.0174317\ttotal: 395ms\tremaining: 191ms\n",
      "674:\tlearn: 0.0173247\ttotal: 396ms\tremaining: 191ms\n",
      "675:\tlearn: 0.0172631\ttotal: 396ms\tremaining: 190ms\n",
      "676:\tlearn: 0.0172212\ttotal: 397ms\tremaining: 189ms\n",
      "677:\tlearn: 0.0171368\ttotal: 397ms\tremaining: 189ms\n",
      "678:\tlearn: 0.0170540\ttotal: 398ms\tremaining: 188ms\n",
      "679:\tlearn: 0.0169943\ttotal: 399ms\tremaining: 188ms\n",
      "680:\tlearn: 0.0169696\ttotal: 399ms\tremaining: 187ms\n",
      "681:\tlearn: 0.0169461\ttotal: 400ms\tremaining: 186ms\n",
      "682:\tlearn: 0.0168866\ttotal: 400ms\tremaining: 186ms\n",
      "683:\tlearn: 0.0168460\ttotal: 401ms\tremaining: 185ms\n",
      "684:\tlearn: 0.0167881\ttotal: 401ms\tremaining: 185ms\n",
      "685:\tlearn: 0.0166919\ttotal: 402ms\tremaining: 184ms\n",
      "686:\tlearn: 0.0166690\ttotal: 402ms\tremaining: 183ms\n",
      "687:\tlearn: 0.0165904\ttotal: 403ms\tremaining: 183ms\n",
      "688:\tlearn: 0.0165678\ttotal: 403ms\tremaining: 182ms\n",
      "689:\tlearn: 0.0164914\ttotal: 404ms\tremaining: 181ms\n",
      "690:\tlearn: 0.0163924\ttotal: 404ms\tremaining: 181ms\n",
      "691:\tlearn: 0.0163739\ttotal: 405ms\tremaining: 180ms\n",
      "692:\tlearn: 0.0163519\ttotal: 405ms\tremaining: 180ms\n",
      "693:\tlearn: 0.0162586\ttotal: 406ms\tremaining: 179ms\n",
      "694:\tlearn: 0.0161678\ttotal: 406ms\tremaining: 178ms\n",
      "695:\tlearn: 0.0161300\ttotal: 407ms\tremaining: 178ms\n",
      "696:\tlearn: 0.0160419\ttotal: 407ms\tremaining: 177ms\n",
      "697:\tlearn: 0.0159578\ttotal: 408ms\tremaining: 176ms\n",
      "698:\tlearn: 0.0158749\ttotal: 408ms\tremaining: 176ms\n",
      "699:\tlearn: 0.0157924\ttotal: 409ms\tremaining: 175ms\n",
      "700:\tlearn: 0.0157120\ttotal: 410ms\tremaining: 175ms\n",
      "701:\tlearn: 0.0156310\ttotal: 411ms\tremaining: 174ms\n",
      "702:\tlearn: 0.0155519\ttotal: 411ms\tremaining: 174ms\n",
      "703:\tlearn: 0.0154622\ttotal: 412ms\tremaining: 173ms\n",
      "704:\tlearn: 0.0153853\ttotal: 412ms\tremaining: 173ms\n",
      "705:\tlearn: 0.0152963\ttotal: 413ms\tremaining: 172ms\n",
      "706:\tlearn: 0.0152295\ttotal: 413ms\tremaining: 171ms\n",
      "707:\tlearn: 0.0151432\ttotal: 414ms\tremaining: 171ms\n",
      "708:\tlearn: 0.0150782\ttotal: 414ms\tremaining: 170ms\n",
      "709:\tlearn: 0.0150034\ttotal: 415ms\tremaining: 169ms\n",
      "710:\tlearn: 0.0149456\ttotal: 415ms\tremaining: 169ms\n",
      "711:\tlearn: 0.0148825\ttotal: 416ms\tremaining: 168ms\n",
      "712:\tlearn: 0.0147970\ttotal: 416ms\tremaining: 168ms\n",
      "713:\tlearn: 0.0147354\ttotal: 417ms\tremaining: 167ms\n",
      "714:\tlearn: 0.0146752\ttotal: 418ms\tremaining: 167ms\n",
      "715:\tlearn: 0.0145734\ttotal: 418ms\tremaining: 166ms\n",
      "716:\tlearn: 0.0144736\ttotal: 419ms\tremaining: 165ms\n",
      "717:\tlearn: 0.0143756\ttotal: 419ms\tremaining: 165ms\n",
      "718:\tlearn: 0.0142796\ttotal: 420ms\tremaining: 164ms\n",
      "719:\tlearn: 0.0141854\ttotal: 420ms\tremaining: 163ms\n",
      "720:\tlearn: 0.0140931\ttotal: 421ms\tremaining: 163ms\n",
      "721:\tlearn: 0.0140025\ttotal: 421ms\tremaining: 162ms\n",
      "722:\tlearn: 0.0139137\ttotal: 421ms\tremaining: 161ms\n",
      "723:\tlearn: 0.0138339\ttotal: 422ms\tremaining: 161ms\n",
      "724:\tlearn: 0.0137475\ttotal: 422ms\tremaining: 160ms\n",
      "725:\tlearn: 0.0136699\ttotal: 423ms\tremaining: 160ms\n",
      "726:\tlearn: 0.0135936\ttotal: 423ms\tremaining: 159ms\n",
      "727:\tlearn: 0.0135489\ttotal: 424ms\tremaining: 158ms\n",
      "728:\tlearn: 0.0134942\ttotal: 424ms\tremaining: 158ms\n",
      "729:\tlearn: 0.0134406\ttotal: 425ms\tremaining: 157ms\n",
      "730:\tlearn: 0.0133880\ttotal: 425ms\tremaining: 156ms\n",
      "731:\tlearn: 0.0133364\ttotal: 426ms\tremaining: 156ms\n",
      "732:\tlearn: 0.0132938\ttotal: 426ms\tremaining: 155ms\n",
      "733:\tlearn: 0.0132577\ttotal: 427ms\tremaining: 155ms\n",
      "734:\tlearn: 0.0132077\ttotal: 427ms\tremaining: 154ms\n",
      "735:\tlearn: 0.0131725\ttotal: 428ms\tremaining: 153ms\n",
      "736:\tlearn: 0.0131132\ttotal: 428ms\tremaining: 153ms\n",
      "737:\tlearn: 0.0130787\ttotal: 429ms\tremaining: 152ms\n",
      "738:\tlearn: 0.0130209\ttotal: 429ms\tremaining: 152ms\n",
      "739:\tlearn: 0.0129880\ttotal: 430ms\tremaining: 151ms\n",
      "740:\tlearn: 0.0129317\ttotal: 430ms\tremaining: 150ms\n",
      "741:\tlearn: 0.0128915\ttotal: 430ms\tremaining: 150ms\n",
      "742:\tlearn: 0.0128442\ttotal: 431ms\tremaining: 149ms\n",
      "743:\tlearn: 0.0127953\ttotal: 432ms\tremaining: 149ms\n",
      "744:\tlearn: 0.0127473\ttotal: 432ms\tremaining: 148ms\n",
      "745:\tlearn: 0.0126755\ttotal: 433ms\tremaining: 147ms\n",
      "746:\tlearn: 0.0126285\ttotal: 433ms\tremaining: 147ms\n",
      "747:\tlearn: 0.0125581\ttotal: 434ms\tremaining: 146ms\n",
      "748:\tlearn: 0.0125122\ttotal: 435ms\tremaining: 146ms\n"
     ]
    },
    {
     "name": "stdout",
     "output_type": "stream",
     "text": [
      "749:\tlearn: 0.0124413\ttotal: 436ms\tremaining: 145ms\n",
      "750:\tlearn: 0.0123716\ttotal: 436ms\tremaining: 145ms\n",
      "751:\tlearn: 0.0123194\ttotal: 437ms\tremaining: 144ms\n",
      "752:\tlearn: 0.0122539\ttotal: 437ms\tremaining: 143ms\n",
      "753:\tlearn: 0.0121895\ttotal: 438ms\tremaining: 143ms\n",
      "754:\tlearn: 0.0121388\ttotal: 438ms\tremaining: 142ms\n",
      "755:\tlearn: 0.0120719\ttotal: 439ms\tremaining: 142ms\n",
      "756:\tlearn: 0.0120315\ttotal: 439ms\tremaining: 141ms\n",
      "757:\tlearn: 0.0119945\ttotal: 440ms\tremaining: 140ms\n",
      "758:\tlearn: 0.0119179\ttotal: 440ms\tremaining: 140ms\n",
      "759:\tlearn: 0.0118432\ttotal: 441ms\tremaining: 139ms\n",
      "760:\tlearn: 0.0117892\ttotal: 441ms\tremaining: 139ms\n",
      "761:\tlearn: 0.0117164\ttotal: 442ms\tremaining: 138ms\n",
      "762:\tlearn: 0.0116948\ttotal: 442ms\tremaining: 137ms\n",
      "763:\tlearn: 0.0116735\ttotal: 443ms\tremaining: 137ms\n",
      "764:\tlearn: 0.0116527\ttotal: 443ms\tremaining: 136ms\n",
      "765:\tlearn: 0.0116322\ttotal: 444ms\tremaining: 136ms\n",
      "766:\tlearn: 0.0115828\ttotal: 444ms\tremaining: 135ms\n",
      "767:\tlearn: 0.0115628\ttotal: 445ms\tremaining: 134ms\n",
      "768:\tlearn: 0.0114989\ttotal: 445ms\tremaining: 134ms\n",
      "769:\tlearn: 0.0114793\ttotal: 446ms\tremaining: 133ms\n",
      "770:\tlearn: 0.0114314\ttotal: 447ms\tremaining: 133ms\n",
      "771:\tlearn: 0.0113740\ttotal: 447ms\tremaining: 132ms\n",
      "772:\tlearn: 0.0113549\ttotal: 448ms\tremaining: 132ms\n",
      "773:\tlearn: 0.0113008\ttotal: 448ms\tremaining: 131ms\n",
      "774:\tlearn: 0.0112451\ttotal: 449ms\tremaining: 130ms\n",
      "775:\tlearn: 0.0111752\ttotal: 450ms\tremaining: 130ms\n",
      "776:\tlearn: 0.0111198\ttotal: 450ms\tremaining: 129ms\n",
      "777:\tlearn: 0.0110588\ttotal: 451ms\tremaining: 129ms\n",
      "778:\tlearn: 0.0110138\ttotal: 451ms\tremaining: 128ms\n",
      "779:\tlearn: 0.0109956\ttotal: 452ms\tremaining: 127ms\n",
      "780:\tlearn: 0.0109530\ttotal: 452ms\tremaining: 127ms\n",
      "781:\tlearn: 0.0109278\ttotal: 453ms\tremaining: 126ms\n",
      "782:\tlearn: 0.0108685\ttotal: 453ms\tremaining: 126ms\n",
      "783:\tlearn: 0.0108440\ttotal: 454ms\tremaining: 125ms\n",
      "784:\tlearn: 0.0107858\ttotal: 454ms\tremaining: 124ms\n",
      "785:\tlearn: 0.0107619\ttotal: 455ms\tremaining: 124ms\n",
      "786:\tlearn: 0.0107047\ttotal: 455ms\tremaining: 123ms\n",
      "787:\tlearn: 0.0106832\ttotal: 456ms\tremaining: 123ms\n",
      "788:\tlearn: 0.0106309\ttotal: 456ms\tremaining: 122ms\n",
      "789:\tlearn: 0.0106104\ttotal: 457ms\tremaining: 122ms\n",
      "790:\tlearn: 0.0105874\ttotal: 458ms\tremaining: 121ms\n",
      "791:\tlearn: 0.0105364\ttotal: 458ms\tremaining: 120ms\n",
      "792:\tlearn: 0.0104792\ttotal: 459ms\tremaining: 120ms\n",
      "793:\tlearn: 0.0104231\ttotal: 459ms\tremaining: 119ms\n",
      "794:\tlearn: 0.0103684\ttotal: 460ms\tremaining: 119ms\n",
      "795:\tlearn: 0.0103118\ttotal: 460ms\tremaining: 118ms\n",
      "796:\tlearn: 0.0102584\ttotal: 461ms\tremaining: 117ms\n",
      "797:\tlearn: 0.0102209\ttotal: 462ms\tremaining: 117ms\n",
      "798:\tlearn: 0.0101841\ttotal: 462ms\tremaining: 116ms\n",
      "799:\tlearn: 0.0101299\ttotal: 463ms\tremaining: 116ms\n",
      "800:\tlearn: 0.0101055\ttotal: 463ms\tremaining: 115ms\n",
      "801:\tlearn: 0.0100904\ttotal: 463ms\tremaining: 114ms\n",
      "802:\tlearn: 0.0100376\ttotal: 464ms\tremaining: 114ms\n",
      "803:\tlearn: 0.0100268\ttotal: 464ms\tremaining: 113ms\n",
      "804:\tlearn: 0.0100029\ttotal: 465ms\tremaining: 113ms\n",
      "805:\tlearn: 0.0099395\ttotal: 465ms\tremaining: 112ms\n",
      "806:\tlearn: 0.0098832\ttotal: 466ms\tremaining: 111ms\n",
      "807:\tlearn: 0.0098419\ttotal: 466ms\tremaining: 111ms\n",
      "808:\tlearn: 0.0097855\ttotal: 467ms\tremaining: 110ms\n",
      "809:\tlearn: 0.0097391\ttotal: 467ms\tremaining: 110ms\n",
      "810:\tlearn: 0.0096709\ttotal: 468ms\tremaining: 109ms\n",
      "811:\tlearn: 0.0096106\ttotal: 468ms\tremaining: 108ms\n",
      "812:\tlearn: 0.0095566\ttotal: 469ms\tremaining: 108ms\n",
      "813:\tlearn: 0.0094980\ttotal: 469ms\tremaining: 107ms\n",
      "814:\tlearn: 0.0094406\ttotal: 470ms\tremaining: 107ms\n",
      "815:\tlearn: 0.0093874\ttotal: 471ms\tremaining: 106ms\n",
      "816:\tlearn: 0.0093366\ttotal: 471ms\tremaining: 106ms\n",
      "817:\tlearn: 0.0092813\ttotal: 472ms\tremaining: 105ms\n",
      "818:\tlearn: 0.0092319\ttotal: 472ms\tremaining: 104ms\n",
      "819:\tlearn: 0.0091759\ttotal: 473ms\tremaining: 104ms\n",
      "820:\tlearn: 0.0091277\ttotal: 473ms\tremaining: 103ms\n",
      "821:\tlearn: 0.0090770\ttotal: 474ms\tremaining: 103ms\n",
      "822:\tlearn: 0.0090293\ttotal: 474ms\tremaining: 102ms\n",
      "823:\tlearn: 0.0089823\ttotal: 475ms\tremaining: 101ms\n",
      "824:\tlearn: 0.0089328\ttotal: 475ms\tremaining: 101ms\n",
      "825:\tlearn: 0.0088818\ttotal: 476ms\tremaining: 100ms\n",
      "826:\tlearn: 0.0088363\ttotal: 477ms\tremaining: 99.7ms\n",
      "827:\tlearn: 0.0087916\ttotal: 477ms\tremaining: 99.1ms\n",
      "828:\tlearn: 0.0087435\ttotal: 478ms\tremaining: 98.6ms\n",
      "829:\tlearn: 0.0087041\ttotal: 478ms\tremaining: 97.9ms\n",
      "830:\tlearn: 0.0086623\ttotal: 479ms\tremaining: 97.4ms\n",
      "831:\tlearn: 0.0086155\ttotal: 479ms\tremaining: 96.8ms\n",
      "832:\tlearn: 0.0085710\ttotal: 480ms\tremaining: 96.3ms\n",
      "833:\tlearn: 0.0085331\ttotal: 481ms\tremaining: 95.7ms\n",
      "834:\tlearn: 0.0084761\ttotal: 481ms\tremaining: 95.1ms\n",
      "835:\tlearn: 0.0084205\ttotal: 482ms\tremaining: 94.5ms\n",
      "836:\tlearn: 0.0083710\ttotal: 482ms\tremaining: 93.9ms\n",
      "837:\tlearn: 0.0083171\ttotal: 483ms\tremaining: 93.3ms\n",
      "838:\tlearn: 0.0082665\ttotal: 483ms\tremaining: 92.7ms\n",
      "839:\tlearn: 0.0082261\ttotal: 484ms\tremaining: 92.1ms\n",
      "840:\tlearn: 0.0081865\ttotal: 484ms\tremaining: 91.5ms\n",
      "841:\tlearn: 0.0081679\ttotal: 485ms\tremaining: 90.9ms\n",
      "842:\tlearn: 0.0081196\ttotal: 485ms\tremaining: 90.4ms\n",
      "843:\tlearn: 0.0080684\ttotal: 486ms\tremaining: 89.7ms\n",
      "844:\tlearn: 0.0080514\ttotal: 486ms\tremaining: 89.1ms\n",
      "845:\tlearn: 0.0080143\ttotal: 486ms\tremaining: 88.5ms\n",
      "846:\tlearn: 0.0079965\ttotal: 487ms\tremaining: 87.9ms\n",
      "847:\tlearn: 0.0079463\ttotal: 487ms\tremaining: 87.3ms\n",
      "848:\tlearn: 0.0079293\ttotal: 488ms\tremaining: 86.7ms\n",
      "849:\tlearn: 0.0078821\ttotal: 488ms\tremaining: 86.1ms\n",
      "850:\tlearn: 0.0078655\ttotal: 488ms\tremaining: 85.5ms\n",
      "851:\tlearn: 0.0078492\ttotal: 489ms\tremaining: 84.9ms\n",
      "852:\tlearn: 0.0078032\ttotal: 489ms\tremaining: 84.3ms\n",
      "853:\tlearn: 0.0077873\ttotal: 490ms\tremaining: 83.7ms\n",
      "854:\tlearn: 0.0077717\ttotal: 490ms\tremaining: 83.1ms\n",
      "855:\tlearn: 0.0077353\ttotal: 491ms\tremaining: 82.5ms\n",
      "856:\tlearn: 0.0077200\ttotal: 491ms\tremaining: 81.9ms\n",
      "857:\tlearn: 0.0076996\ttotal: 492ms\tremaining: 81.4ms\n",
      "858:\tlearn: 0.0076576\ttotal: 492ms\tremaining: 80.8ms\n",
      "859:\tlearn: 0.0076276\ttotal: 493ms\tremaining: 80.2ms\n",
      "860:\tlearn: 0.0076017\ttotal: 493ms\tremaining: 79.6ms\n",
      "861:\tlearn: 0.0075818\ttotal: 494ms\tremaining: 79.1ms\n",
      "862:\tlearn: 0.0075395\ttotal: 494ms\tremaining: 78.5ms\n",
      "863:\tlearn: 0.0074982\ttotal: 495ms\tremaining: 77.9ms\n",
      "864:\tlearn: 0.0074600\ttotal: 496ms\tremaining: 77.3ms\n",
      "865:\tlearn: 0.0074231\ttotal: 496ms\tremaining: 76.7ms\n",
      "866:\tlearn: 0.0073858\ttotal: 496ms\tremaining: 76.2ms\n",
      "867:\tlearn: 0.0073772\ttotal: 497ms\tremaining: 75.6ms\n",
      "868:\tlearn: 0.0073687\ttotal: 498ms\tremaining: 75ms\n",
      "869:\tlearn: 0.0073604\ttotal: 498ms\tremaining: 74.4ms\n",
      "870:\tlearn: 0.0073523\ttotal: 499ms\tremaining: 73.8ms\n",
      "871:\tlearn: 0.0073443\ttotal: 499ms\tremaining: 73.3ms\n",
      "872:\tlearn: 0.0073365\ttotal: 499ms\tremaining: 72.6ms\n",
      "873:\tlearn: 0.0073288\ttotal: 500ms\tremaining: 72ms\n",
      "874:\tlearn: 0.0073213\ttotal: 500ms\tremaining: 71.4ms\n",
      "875:\tlearn: 0.0073138\ttotal: 500ms\tremaining: 70.8ms\n",
      "876:\tlearn: 0.0072779\ttotal: 501ms\tremaining: 70.2ms\n",
      "877:\tlearn: 0.0072706\ttotal: 501ms\tremaining: 69.6ms\n",
      "878:\tlearn: 0.0072641\ttotal: 501ms\tremaining: 69ms\n",
      "879:\tlearn: 0.0072511\ttotal: 501ms\tremaining: 68.4ms\n",
      "880:\tlearn: 0.0072159\ttotal: 502ms\tremaining: 67.8ms\n",
      "881:\tlearn: 0.0071916\ttotal: 502ms\tremaining: 67.2ms\n"
     ]
    },
    {
     "name": "stdout",
     "output_type": "stream",
     "text": [
      "882:\tlearn: 0.0071570\ttotal: 503ms\tremaining: 66.6ms\n",
      "883:\tlearn: 0.0071229\ttotal: 503ms\tremaining: 66ms\n",
      "884:\tlearn: 0.0071049\ttotal: 503ms\tremaining: 65.4ms\n",
      "885:\tlearn: 0.0070670\ttotal: 504ms\tremaining: 64.8ms\n",
      "886:\tlearn: 0.0070239\ttotal: 504ms\tremaining: 64.2ms\n",
      "887:\tlearn: 0.0070169\ttotal: 505ms\tremaining: 63.6ms\n",
      "888:\tlearn: 0.0070108\ttotal: 505ms\tremaining: 63ms\n",
      "889:\tlearn: 0.0070048\ttotal: 505ms\tremaining: 62.5ms\n",
      "890:\tlearn: 0.0069628\ttotal: 506ms\tremaining: 61.9ms\n",
      "891:\tlearn: 0.0069455\ttotal: 506ms\tremaining: 61.3ms\n",
      "892:\tlearn: 0.0069397\ttotal: 507ms\tremaining: 60.7ms\n",
      "893:\tlearn: 0.0069031\ttotal: 508ms\tremaining: 60.2ms\n",
      "894:\tlearn: 0.0068623\ttotal: 508ms\tremaining: 59.6ms\n",
      "895:\tlearn: 0.0068557\ttotal: 509ms\tremaining: 59ms\n",
      "896:\tlearn: 0.0068500\ttotal: 509ms\tremaining: 58.5ms\n",
      "897:\tlearn: 0.0068444\ttotal: 510ms\tremaining: 57.9ms\n",
      "898:\tlearn: 0.0068277\ttotal: 510ms\tremaining: 57.3ms\n",
      "899:\tlearn: 0.0067922\ttotal: 511ms\tremaining: 56.7ms\n",
      "900:\tlearn: 0.0067527\ttotal: 511ms\tremaining: 56.2ms\n",
      "901:\tlearn: 0.0067473\ttotal: 512ms\tremaining: 55.6ms\n",
      "902:\tlearn: 0.0067194\ttotal: 512ms\tremaining: 55ms\n",
      "903:\tlearn: 0.0067130\ttotal: 513ms\tremaining: 54.4ms\n",
      "904:\tlearn: 0.0066856\ttotal: 513ms\tremaining: 53.9ms\n",
      "905:\tlearn: 0.0066698\ttotal: 513ms\tremaining: 53.3ms\n",
      "906:\tlearn: 0.0066548\ttotal: 514ms\tremaining: 52.7ms\n",
      "907:\tlearn: 0.0066207\ttotal: 514ms\tremaining: 52.1ms\n",
      "908:\tlearn: 0.0066154\ttotal: 515ms\tremaining: 51.5ms\n",
      "909:\tlearn: 0.0065999\ttotal: 515ms\tremaining: 50.9ms\n",
      "910:\tlearn: 0.0065667\ttotal: 516ms\tremaining: 50.4ms\n",
      "911:\tlearn: 0.0065292\ttotal: 516ms\tremaining: 49.8ms\n",
      "912:\tlearn: 0.0065092\ttotal: 517ms\tremaining: 49.2ms\n",
      "913:\tlearn: 0.0064963\ttotal: 517ms\tremaining: 48.7ms\n",
      "914:\tlearn: 0.0064895\ttotal: 517ms\tremaining: 48.1ms\n",
      "915:\tlearn: 0.0064525\ttotal: 518ms\tremaining: 47.5ms\n",
      "916:\tlearn: 0.0064381\ttotal: 519ms\tremaining: 46.9ms\n",
      "917:\tlearn: 0.0064233\ttotal: 520ms\tremaining: 46.4ms\n",
      "918:\tlearn: 0.0064092\ttotal: 520ms\tremaining: 45.9ms\n",
      "919:\tlearn: 0.0063898\ttotal: 521ms\tremaining: 45.3ms\n",
      "920:\tlearn: 0.0063777\ttotal: 522ms\tremaining: 44.7ms\n",
      "921:\tlearn: 0.0063638\ttotal: 522ms\tremaining: 44.2ms\n",
      "922:\tlearn: 0.0063284\ttotal: 523ms\tremaining: 43.6ms\n",
      "923:\tlearn: 0.0063148\ttotal: 523ms\tremaining: 43ms\n",
      "924:\tlearn: 0.0063005\ttotal: 524ms\tremaining: 42.5ms\n",
      "925:\tlearn: 0.0062677\ttotal: 524ms\tremaining: 41.9ms\n",
      "926:\tlearn: 0.0062543\ttotal: 525ms\tremaining: 41.3ms\n",
      "927:\tlearn: 0.0062428\ttotal: 526ms\tremaining: 40.8ms\n",
      "928:\tlearn: 0.0062296\ttotal: 526ms\tremaining: 40.2ms\n",
      "929:\tlearn: 0.0061984\ttotal: 527ms\tremaining: 39.6ms\n",
      "930:\tlearn: 0.0061799\ttotal: 527ms\tremaining: 39.1ms\n",
      "931:\tlearn: 0.0061685\ttotal: 528ms\tremaining: 38.5ms\n",
      "932:\tlearn: 0.0061329\ttotal: 528ms\tremaining: 37.9ms\n",
      "933:\tlearn: 0.0061148\ttotal: 529ms\tremaining: 37.4ms\n",
      "934:\tlearn: 0.0060969\ttotal: 529ms\tremaining: 36.8ms\n",
      "935:\tlearn: 0.0060834\ttotal: 529ms\tremaining: 36.2ms\n",
      "936:\tlearn: 0.0060520\ttotal: 530ms\tremaining: 35.6ms\n",
      "937:\tlearn: 0.0060394\ttotal: 530ms\tremaining: 35.1ms\n",
      "938:\tlearn: 0.0060285\ttotal: 531ms\tremaining: 34.5ms\n",
      "939:\tlearn: 0.0060160\ttotal: 531ms\tremaining: 33.9ms\n",
      "940:\tlearn: 0.0059818\ttotal: 532ms\tremaining: 33.3ms\n",
      "941:\tlearn: 0.0059514\ttotal: 532ms\tremaining: 32.8ms\n",
      "942:\tlearn: 0.0059407\ttotal: 533ms\tremaining: 32.2ms\n",
      "943:\tlearn: 0.0059286\ttotal: 533ms\tremaining: 31.6ms\n",
      "944:\tlearn: 0.0058934\ttotal: 534ms\tremaining: 31.1ms\n",
      "945:\tlearn: 0.0058829\ttotal: 534ms\tremaining: 30.5ms\n",
      "946:\tlearn: 0.0058711\ttotal: 535ms\tremaining: 29.9ms\n",
      "947:\tlearn: 0.0058382\ttotal: 535ms\tremaining: 29.4ms\n",
      "948:\tlearn: 0.0058278\ttotal: 536ms\tremaining: 28.8ms\n",
      "949:\tlearn: 0.0057987\ttotal: 536ms\tremaining: 28.2ms\n",
      "950:\tlearn: 0.0057647\ttotal: 537ms\tremaining: 27.7ms\n",
      "951:\tlearn: 0.0057315\ttotal: 537ms\tremaining: 27.1ms\n",
      "952:\tlearn: 0.0057213\ttotal: 538ms\tremaining: 26.5ms\n",
      "953:\tlearn: 0.0056896\ttotal: 538ms\tremaining: 26ms\n",
      "954:\tlearn: 0.0056784\ttotal: 539ms\tremaining: 25.4ms\n",
      "955:\tlearn: 0.0056684\ttotal: 539ms\tremaining: 24.8ms\n",
      "956:\tlearn: 0.0056573\ttotal: 540ms\tremaining: 24.2ms\n",
      "957:\tlearn: 0.0056450\ttotal: 540ms\tremaining: 23.7ms\n",
      "958:\tlearn: 0.0056175\ttotal: 540ms\tremaining: 23.1ms\n",
      "959:\tlearn: 0.0056066\ttotal: 541ms\tremaining: 22.5ms\n",
      "960:\tlearn: 0.0055804\ttotal: 541ms\tremaining: 22ms\n",
      "961:\tlearn: 0.0055697\ttotal: 542ms\tremaining: 21.4ms\n",
      "962:\tlearn: 0.0055437\ttotal: 542ms\tremaining: 20.8ms\n",
      "963:\tlearn: 0.0055035\ttotal: 543ms\tremaining: 20.3ms\n",
      "964:\tlearn: 0.0054938\ttotal: 543ms\tremaining: 19.7ms\n",
      "965:\tlearn: 0.0054648\ttotal: 544ms\tremaining: 19.1ms\n",
      "966:\tlearn: 0.0054457\ttotal: 544ms\tremaining: 18.6ms\n",
      "967:\tlearn: 0.0054355\ttotal: 545ms\tremaining: 18ms\n",
      "968:\tlearn: 0.0054263\ttotal: 545ms\tremaining: 17.4ms\n",
      "969:\tlearn: 0.0053972\ttotal: 545ms\tremaining: 16.9ms\n",
      "970:\tlearn: 0.0053871\ttotal: 546ms\tremaining: 16.3ms\n",
      "971:\tlearn: 0.0053781\ttotal: 546ms\tremaining: 15.7ms\n",
      "972:\tlearn: 0.0053525\ttotal: 547ms\tremaining: 15.2ms\n",
      "973:\tlearn: 0.0053426\ttotal: 547ms\tremaining: 14.6ms\n",
      "974:\tlearn: 0.0053336\ttotal: 548ms\tremaining: 14.1ms\n",
      "975:\tlearn: 0.0053097\ttotal: 548ms\tremaining: 13.5ms\n",
      "976:\tlearn: 0.0053000\ttotal: 549ms\tremaining: 12.9ms\n",
      "977:\tlearn: 0.0052723\ttotal: 550ms\tremaining: 12.4ms\n",
      "978:\tlearn: 0.0052635\ttotal: 550ms\tremaining: 11.8ms\n",
      "979:\tlearn: 0.0052539\ttotal: 551ms\tremaining: 11.2ms\n",
      "980:\tlearn: 0.0052295\ttotal: 551ms\tremaining: 10.7ms\n",
      "981:\tlearn: 0.0052208\ttotal: 551ms\tremaining: 10.1ms\n",
      "982:\tlearn: 0.0052126\ttotal: 552ms\tremaining: 9.54ms\n",
      "983:\tlearn: 0.0051830\ttotal: 552ms\tremaining: 8.98ms\n",
      "984:\tlearn: 0.0051624\ttotal: 553ms\tremaining: 8.42ms\n",
      "985:\tlearn: 0.0051538\ttotal: 553ms\tremaining: 7.86ms\n",
      "986:\tlearn: 0.0051312\ttotal: 554ms\tremaining: 7.29ms\n",
      "987:\tlearn: 0.0051024\ttotal: 555ms\tremaining: 6.74ms\n",
      "988:\tlearn: 0.0050940\ttotal: 555ms\tremaining: 6.18ms\n",
      "989:\tlearn: 0.0050647\ttotal: 556ms\tremaining: 5.62ms\n",
      "990:\tlearn: 0.0050387\ttotal: 557ms\tremaining: 5.05ms\n",
      "991:\tlearn: 0.0050199\ttotal: 557ms\tremaining: 4.49ms\n",
      "992:\tlearn: 0.0049910\ttotal: 558ms\tremaining: 3.93ms\n",
      "993:\tlearn: 0.0049828\ttotal: 558ms\tremaining: 3.37ms\n",
      "994:\tlearn: 0.0049549\ttotal: 558ms\tremaining: 2.81ms\n",
      "995:\tlearn: 0.0049468\ttotal: 559ms\tremaining: 2.24ms\n",
      "996:\tlearn: 0.0049187\ttotal: 559ms\tremaining: 1.68ms\n",
      "997:\tlearn: 0.0049100\ttotal: 560ms\tremaining: 1.12ms\n",
      "998:\tlearn: 0.0048824\ttotal: 560ms\tremaining: 560us\n",
      "999:\tlearn: 0.0048739\ttotal: 561ms\tremaining: 0us\n"
     ]
    },
    {
     "data": {
      "text/plain": [
       "<catboost.core.CatBoostRegressor at 0x7fe65863b160>"
      ]
     },
     "execution_count": 9,
     "metadata": {},
     "output_type": "execute_result"
    }
   ],
   "source": [
    "#Train the Model \n",
    "prior_model = ctb.CatBoostRegressor()\n",
    "prior_model.fit(X_train,Y_train)"
   ]
  },
  {
   "cell_type": "code",
   "execution_count": 10,
   "id": "af65dcda",
   "metadata": {
    "execution": {
     "iopub.execute_input": "2022-06-07T06:01:28.863693Z",
     "iopub.status.busy": "2022-06-07T06:01:28.863313Z",
     "iopub.status.idle": "2022-06-07T06:01:28.871147Z",
     "shell.execute_reply": "2022-06-07T06:01:28.871399Z"
    },
    "id": "af65dcda",
    "papermill": {
     "duration": 0.021082,
     "end_time": "2022-06-07T06:01:28.871524",
     "exception": false,
     "start_time": "2022-06-07T06:01:28.850442",
     "status": "completed"
    },
    "tags": []
   },
   "outputs": [
    {
     "data": {
      "application/scrapbook.scrap.json+json": {
       "data": 0.15592861106408068,
       "encoder": "json",
       "name": "Prior Model MSE",
       "version": 1
      }
     },
     "metadata": {
      "scrapbook": {
       "data": true,
       "display": false,
       "name": "Prior Model MSE"
      }
     },
     "output_type": "display_data"
    },
    {
     "data": {
      "application/scrapbook.scrap.json+json": {
       "data": 2.8803005564654893,
       "encoder": "json",
       "name": "ABC Pre-generator MSE",
       "version": 1
      }
     },
     "metadata": {
      "scrapbook": {
       "data": true,
       "display": false,
       "name": "ABC Pre-generator MSE"
      }
     },
     "output_type": "display_data"
    },
    {
     "data": {
      "application/scrapbook.scrap.json+json": {
       "data": 0.3293856980673669,
       "encoder": "json",
       "name": "Prior Model MSE",
       "version": 1
      }
     },
     "metadata": {
      "scrapbook": {
       "data": true,
       "display": false,
       "name": "Prior Model MSE"
      }
     },
     "output_type": "display_data"
    },
    {
     "data": {
      "application/scrapbook.scrap.json+json": {
       "data": 1.4990025443350823,
       "encoder": "json",
       "name": "ABC Pre-generator MSE",
       "version": 1
      }
     },
     "metadata": {
      "scrapbook": {
       "data": true,
       "display": false,
       "name": "ABC Pre-generator MSE"
      }
     },
     "output_type": "display_data"
    }
   ],
   "source": [
    "y_pred = prior_model.predict(X_test)\n",
    "y_abc = y_pred + np.random.normal(0,variance, y_pred.shape) + bias \n",
    "mse = mean_squared_error(y_pred,Y_test)\n",
    "sb.glue(\"Prior Model MSE\",mse)\n",
    "mse = mean_squared_error(y_abc,Y_test)\n",
    "sb.glue(\"ABC Pre-generator MSE\",mse)\n",
    "mae = mean_absolute_error(y_pred,Y_test)\n",
    "sb.glue(\"Prior Model MSE\",mae)\n",
    "mae = mean_absolute_error(y_abc,Y_test)\n",
    "sb.glue(\"ABC Pre-generator MSE\",mae)"
   ]
  },
  {
   "cell_type": "markdown",
   "id": "25609da2",
   "metadata": {
    "papermill": {
     "duration": 0.010064,
     "end_time": "2022-06-07T06:01:28.891785",
     "exception": false,
     "start_time": "2022-06-07T06:01:28.881721",
     "status": "completed"
    },
    "tags": []
   },
   "source": [
    "# ABC GAN Model"
   ]
  },
  {
   "cell_type": "code",
   "execution_count": 11,
   "id": "dfc3464d",
   "metadata": {
    "execution": {
     "iopub.execute_input": "2022-06-07T06:01:28.916194Z",
     "iopub.status.busy": "2022-06-07T06:01:28.915115Z",
     "iopub.status.idle": "2022-06-07T06:01:28.918458Z",
     "shell.execute_reply": "2022-06-07T06:01:28.918679Z"
    },
    "papermill": {
     "duration": 0.017018,
     "end_time": "2022-06-07T06:01:28.918843",
     "exception": false,
     "start_time": "2022-06-07T06:01:28.901825",
     "status": "completed"
    },
    "tags": []
   },
   "outputs": [],
   "source": [
    "gen = network.Generator(n_features+1).to(device)\n",
    "disc = network.Discriminator(n_features+1).to(device)\n",
    "\n",
    "criterion = torch.nn.BCELoss()\n",
    "gen_opt = torch.optim.Adam(gen.parameters(), lr=0.001, betas=(0.5, 0.999))\n",
    "disc_opt = torch.optim.Adam(disc.parameters(), lr=0.001, betas=(0.5, 0.999))"
   ]
  },
  {
   "cell_type": "code",
   "execution_count": 12,
   "id": "b75fdd85",
   "metadata": {
    "execution": {
     "iopub.execute_input": "2022-06-07T06:01:28.941302Z",
     "iopub.status.busy": "2022-06-07T06:01:28.940928Z",
     "iopub.status.idle": "2022-06-07T06:01:43.882952Z",
     "shell.execute_reply": "2022-06-07T06:01:43.883413Z"
    },
    "papermill": {
     "duration": 14.955075,
     "end_time": "2022-06-07T06:01:43.883600",
     "exception": false,
     "start_time": "2022-06-07T06:01:28.928525",
     "status": "completed"
    },
    "tags": []
   },
   "outputs": [
    {
     "data": {
      "image/png": "[encoded data removed]",
      "text/plain": [
       "<Figure size 432x288 with 1 Axes>"
      ]
     },
     "metadata": {
      "needs_background": "light"
     },
     "output_type": "display_data"
    },
    {
     "data": {
      "image/png": "[encoded data removed]",
      "text/plain": [
       "<Figure size 432x288 with 1 Axes>"
      ]
     },
     "metadata": {
      "needs_background": "light"
     },
     "output_type": "display_data"
    }
   ],
   "source": [
    "#Training the ABC_GAN \n",
    "ABC_train_test2.training_GAN(disc,gen,disc_opt,gen_opt,train_data,batch_size,n_epochs,criterion,prior_model,variance,bias,device)"
   ]
  },
  {
   "cell_type": "code",
   "execution_count": 13,
   "id": "1fa7c368",
   "metadata": {
    "execution": {
     "iopub.execute_input": "2022-06-07T06:01:43.909380Z",
     "iopub.status.busy": "2022-06-07T06:01:43.908992Z",
     "iopub.status.idle": "2022-06-07T06:01:44.101366Z",
     "shell.execute_reply": "2022-06-07T06:01:44.101663Z"
    },
    "papermill": {
     "duration": 0.206168,
     "end_time": "2022-06-07T06:01:44.101782",
     "exception": false,
     "start_time": "2022-06-07T06:01:43.895614",
     "status": "completed"
    },
    "tags": []
   },
   "outputs": [
    {
     "data": {
      "application/scrapbook.scrap.json+json": {
       "data": 0.0391936530626045,
       "encoder": "json",
       "name": "ABC-GAN Model 1 MSE",
       "version": 1
      }
     },
     "metadata": {
      "scrapbook": {
       "data": true,
       "display": false,
       "name": "ABC-GAN Model 1 MSE"
      }
     },
     "output_type": "display_data"
    },
    {
     "data": {
      "application/scrapbook.scrap.json+json": {
       "data": 0.1498486785851419,
       "encoder": "json",
       "name": "ABC-GAN Model 1 MAE",
       "version": 1
      }
     },
     "metadata": {
      "scrapbook": {
       "data": true,
       "display": false,
       "name": "ABC-GAN Model 1 MAE"
      }
     },
     "output_type": "display_data"
    },
    {
     "data": {
      "application/scrapbook.scrap.json+json": {
       "data": 2.996973571702838,
       "encoder": "json",
       "name": "ABC-GAN Model 1 Manhattan Distance",
       "version": 1
      }
     },
     "metadata": {
      "scrapbook": {
       "data": true,
       "display": false,
       "name": "ABC-GAN Model 1 Manhattan Distance"
      }
     },
     "output_type": "display_data"
    },
    {
     "data": {
      "application/scrapbook.scrap.json+json": {
       "data": 0.8847406213526701,
       "encoder": "json",
       "name": "ABC-GAN Model 1 Euclidean distance",
       "version": 1
      }
     },
     "metadata": {
      "scrapbook": {
       "data": true,
       "display": false,
       "name": "ABC-GAN Model 1 Euclidean distance"
      }
     },
     "output_type": "display_data"
    },
    {
     "data": {
      "application/scrapbook.scrap.json+json": {
       "data": [
        [
         0.044884105748553116,
         0.030871164456485738,
         0.04004384210919824,
         0.04004753601384972,
         0.04516491064878767,
         0.0361194635544553,
         0.03760067454775158,
         0.03864884431317679,
         0.0407980693016754,
         0.04104897924552162,
         0.04129239467185264,
         0.04010677896612949,
         0.03737972644038245,
         0.040927376998699895,
         0.043348928149456054,
         0.03407488935750992,
         0.038732922063184495,
         0.042114790270447997,
         0.03573881541622888,
         0.041538458457150984,
         0.03960548215833726,
         0.039525724523213346,
         0.0406354085821229,
         0.04126487906328978,
         0.036681324890204946,
         0.03798845476074554,
         0.04217199288676945,
         0.03559773295966725,
         0.035566613566839864,
         0.037017448976467096,
         0.03868008591475207,
         0.03766902100076408,
         0.038811527924549526,
         0.03836700325616196,
         0.04414261604866385,
         0.03967644454951091,
         0.03988517826949719,
         0.03794657606369549,
         0.04178434705971072,
         0.03703278325148204,
         0.03304186734311341,
         0.04050528997337113,
         0.042148894343124174,
         0.03756471615443428,
         0.03816029760263438,
         0.035586243574469746,
         0.036793427439774415,
         0.03965045091037713,
         0.04055376099522445,
         0.04021225140713566,
         0.0409798597391259,
         0.034885229685925376,
         0.04152466746870111,
         0.036382513132109,
         0.04075805400580573,
         0.041209002645140866,
         0.04238539679881237,
         0.03178734877934416,
         0.04161324884591712,
         0.039757350244996145,
         0.04018737757699087,
         0.03753936710074944,
         0.04317125798449583,
         0.03981284945322895,
         0.03537497902129809,
         0.03390534845610367,
         0.04254295114235039,
         0.04303590654515064,
         0.0362163541389285,
         0.04245845252474967,
         0.03392264317007269,
         0.03938579915936826,
         0.04054584015265182,
         0.04032514917660386,
         0.03767474183201339,
         0.03823535898363374,
         0.03899891272555882,
         0.03879765316850908,
         0.039408495481418296,
         0.03773763439950404,
         0.034346916927138225,
         0.03915603897314242,
         0.03918077131225103,
         0.03561566595187527,
         0.04301327744397678,
         0.03243718817658571,
         0.041449857653546585,
         0.040080667970911664,
         0.04384289956018001,
         0.04104057124530437,
         0.041250632353533066,
         0.03645536285811079,
         0.03931508767865594,
         0.04482421585507932,
         0.040860880587140436,
         0.04063326226770453,
         0.04037478510867614,
         0.03945220007307386,
         0.03918773090841252,
         0.04153703363529178
        ],
        [
         0.16021135179325938,
         0.13630375554785132,
         0.15151095828041433,
         0.15215526772662996,
         0.16325882067903877,
         0.13954758206382395,
         0.1442426615394652,
         0.15334850987419485,
         0.15495766019448637,
         0.14947381829842926,
         0.15289159445092082,
         0.14877651138231157,
         0.14731696499511598,
         0.15352507615461947,
         0.15989495282992722,
         0.14117817869409918,
         0.15148546239361166,
         0.1547405960969627,
         0.14667127868160607,
         0.15295805847272276,
         0.15294703310355545,
         0.1492346587590873,
         0.15149099742993713,
         0.15248776925727725,
         0.14682611944153906,
         0.14657305786386132,
         0.16174849485978485,
         0.14296297198161484,
         0.1407965854741633,
         0.14710100730881095,
         0.15013239784166216,
         0.149861706700176,
         0.14985523289069533,
         0.14554906683042645,
         0.16079283198341726,
         0.14896117700263858,
         0.1564381285570562,
         0.14115313356742262,
         0.15223614489659668,
         0.14834031937643885,
         0.13421560516580938,
         0.15489040790125727,
         0.15492377011105418,
         0.14645074317231774,
         0.1406040729023516,
         0.1465389966033399,
         0.14636751292273403,
         0.15000079488381743,
         0.15505687734112145,
         0.15737164793536068,
         0.1493609375320375,
         0.13445828212425112,
         0.1536684631370008,
         0.14866702510043978,
         0.15106747010722757,
         0.15251995278522373,
         0.16353429490700364,
         0.13773692874237894,
         0.14910695692524314,
         0.14529866045340895,
         0.15026056142523886,
         0.14705817094072698,
         0.1576555953361094,
         0.1478186988271773,
         0.14732053419575095,
         0.1423960450105369,
         0.1604466292075813,
         0.15610529454424976,
         0.14746696883812546,
         0.1555263920687139,
         0.1360188658349216,
         0.15107232546433808,
         0.1609579727984965,
         0.15428057527169586,
         0.147542676422745,
         0.14419256737455727,
         0.15182601576671004,
         0.1513227197341621,
         0.14765080800279975,
         0.15020098043605684,
         0.1373112783767283,
         0.14933548672124744,
         0.15210205828770995,
         0.13737444719299674,
         0.15843964153900741,
         0.1356111138127744,
         0.15355648314580322,
         0.1518763973377645,
         0.15793743981048464,
         0.1508462334983051,
         0.15944838104769588,
         0.14294908093288541,
         0.14607619931921362,
         0.15323264142498375,
         0.15491630723699928,
         0.15026011606678366,
         0.15173530736938118,
         0.15250287121161818,
         0.14960606237873436,
         0.15085261827334762
        ],
        [
         3.2042270358651876,
         2.7260751109570265,
         3.030219165608287,
         3.0431053545325994,
         3.2651764135807753,
         2.7909516412764788,
         2.884853230789304,
         3.066970197483897,
         3.0991532038897276,
         2.989476365968585,
         3.0578318890184164,
         2.9755302276462317,
         2.94633929990232,
         3.070501523092389,
         3.197899056598544,
         2.8235635738819838,
         3.0297092478722334,
         3.094811921939254,
         2.933425573632121,
         3.0591611694544554,
         3.058940662071109,
         2.9846931751817465,
         3.0298199485987425,
         3.049755385145545,
         2.936522388830781,
         2.9314611572772264,
         3.234969897195697,
         2.8592594396322966,
         2.815931709483266,
         2.942020146176219,
         3.0026479568332434,
         2.99723413400352,
         2.9971046578139067,
         2.910981336608529,
         3.2158566396683455,
         2.9792235400527716,
         3.1287625711411238,
         2.8230626713484526,
         3.0447228979319334,
         2.966806387528777,
         2.684312103316188,
         3.0978081580251455,
         3.0984754022210836,
         2.929014863446355,
         2.8120814580470324,
         2.930779932066798,
         2.9273502584546804,
         3.0000158976763487,
         3.1011375468224287,
         3.1474329587072134,
         2.98721875064075,
         2.6891656424850225,
         3.073369262740016,
         2.9733405020087957,
         3.0213494021445513,
         3.0503990557044744,
         3.270685898140073,
         2.754738574847579,
         2.982139138504863,
         2.905973209068179,
         3.005211228504777,
         2.94116341881454,
         3.153111906722188,
         2.9563739765435457,
         2.946410683915019,
         2.847920900210738,
         3.2089325841516256,
         3.1221058908849955,
         2.9493393767625093,
         3.110527841374278,
         2.720377316698432,
         3.0214465092867613,
         3.2191594559699297,
         3.085611505433917,
         2.9508535284549,
         2.883851347491145,
         3.036520315334201,
         3.026454394683242,
         2.953016160055995,
         3.004019608721137,
         2.746225567534566,
         2.9867097344249487,
         3.042041165754199,
         2.747488943859935,
         3.1687928307801485,
         2.7122222762554884,
         3.0711296629160643,
         3.03752794675529,
         3.158748796209693,
         3.0169246699661016,
         3.1889676209539175,
         2.858981618657708,
         2.9215239863842726,
         3.064652828499675,
         3.0983261447399855,
         3.0052023213356733,
         3.034706147387624,
         3.0500574242323637,
         2.992121247574687,
         3.0170523654669523
        ],
        [
         0.9474608778050218,
         0.7857628708011818,
         0.8949172264427391,
         0.8949585019859828,
         0.9504200192418893,
         0.8499348628507398,
         0.8671871141541666,
         0.8791910408230601,
         0.903305809808344,
         0.9060792376555333,
         0.9087617363407489,
         0.8956202204743872,
         0.864635488982293,
         0.9047361714743132,
         0.9311168363793672,
         0.8255287924416679,
         0.8801468293777407,
         0.9177667489122494,
         0.8454444442567338,
         0.9114653965691839,
         0.8900054174929191,
         0.8891088181231063,
         0.9015032843215037,
         0.9084589045552889,
         0.8565199926470479,
         0.8716473456707768,
         0.9183898179615173,
         0.8437740569568046,
         0.8434051644001223,
         0.8604353430266227,
         0.8795463138999795,
         0.867974895959141,
         0.8810394761252134,
         0.8759794889854666,
         0.9396022142232728,
         0.8908023860487904,
         0.8931425224396965,
         0.8711667585909771,
         0.9141591443475334,
         0.8606135398828215,
         0.8129190284784015,
         0.9000587755626976,
         0.9181382721913315,
         0.8667723594397122,
         0.8736165932791614,
         0.8436378793590262,
         0.8578278083598644,
         0.890510537954236,
         0.9005971462893323,
         0.89679709418726,
         0.9053160745190146,
         0.8352871324990632,
         0.9113140783363451,
         0.8530241864344645,
         0.9028627138807509,
         0.9078436280014401,
         0.9207105603696785,
         0.7973374289388924,
         0.9122855785982493,
         0.8917101574502351,
         0.896519688316892,
         0.8664798566700722,
         0.9292067367867695,
         0.8923323310653822,
         0.8411299426521219,
         0.823472506597563,
         0.9224201986334687,
         0.9277489589878356,
         0.8510740759643487,
         0.921503689897655,
         0.8236825015753666,
         0.8875336518619253,
         0.9005091909875415,
         0.8980551116340674,
         0.8680408035572221,
         0.8744753739658281,
         0.8831637755881842,
         0.8808819803868062,
         0.8877893385417319,
         0.868765036123163,
         0.8288174337830766,
         0.8849411163816767,
         0.8852205523173423,
         0.8439865633038866,
         0.9275050128595186,
         0.805446313252295,
         0.9104928078084591,
         0.8953286320777603,
         0.9364069581136185,
         0.9059864374846278,
         0.9083020681858328,
         0.853877776477533,
         0.8867365750735214,
         0.9468285573965259,
         0.904000891450229,
         0.9014794758363002,
         0.8986076464027684,
         0.8882814877399378,
         0.8852991687380319,
         0.911449764225015
        ]
       ],
       "encoder": "json",
       "name": "ABC_GAN_1 Metrics",
       "version": 1
      }
     },
     "metadata": {
      "scrapbook": {
       "data": true,
       "display": false,
       "name": "ABC_GAN_1 Metrics"
      }
     },
     "output_type": "display_data"
    },
    {
     "name": "stdout",
     "output_type": "stream",
     "text": [
      "MSE\n",
      "0.0391936530626045\n"
     ]
    }
   ],
   "source": [
    "ABC_GAN1_metrics=ABC_train_test2.test_generator(gen,test_data,prior_model,variance,bias,\"1\",device)\n",
    "sb.glue(\"ABC_GAN_1 Metrics\",ABC_GAN1_metrics)\n",
    "\n",
    "print(\"MSE\")\n",
    "print(mean(ABC_GAN1_metrics[0]))"
   ]
  },
  {
   "cell_type": "code",
   "execution_count": 14,
   "id": "eb22ce5c",
   "metadata": {
    "execution": {
     "iopub.execute_input": "2022-06-07T06:01:44.130615Z",
     "iopub.status.busy": "2022-06-07T06:01:44.129970Z",
     "iopub.status.idle": "2022-06-07T06:01:44.462694Z",
     "shell.execute_reply": "2022-06-07T06:01:44.463021Z"
    },
    "papermill": {
     "duration": 0.348586,
     "end_time": "2022-06-07T06:01:44.463243",
     "exception": false,
     "start_time": "2022-06-07T06:01:44.114657",
     "status": "completed"
    },
    "tags": []
   },
   "outputs": [
    {
     "data": {
      "image/png": "[encoded data removed]",
      "text/plain": [
       "<Figure size 432x288 with 1 Axes>"
      ]
     },
     "metadata": {
      "needs_background": "light"
     },
     "output_type": "display_data"
    },
    {
     "data": {
      "image/png": "[encoded data removed]",
      "text/plain": [
       "<Figure size 432x288 with 1 Axes>"
      ]
     },
     "metadata": {
      "needs_background": "light"
     },
     "output_type": "display_data"
    },
    {
     "data": {
      "image/png": "[encoded data removed]",
      "text/plain": [
       "<Figure size 432x288 with 1 Axes>"
      ]
     },
     "metadata": {
      "needs_background": "light"
     },
     "output_type": "display_data"
    },
    {
     "data": {
      "image/png": "[encoded data removed]",
      "text/plain": [
       "<Figure size 432x288 with 1 Axes>"
      ]
     },
     "metadata": {
      "needs_background": "light"
     },
     "output_type": "display_data"
    }
   ],
   "source": [
    "sanityChecks.discProbVsError(train_data,disc,device)\n",
    "sanityChecks.discProbVsError(test_data,disc,device)"
   ]
  },
  {
   "cell_type": "markdown",
   "id": "130f3a4d",
   "metadata": {
    "id": "130f3a4d",
    "papermill": {
     "duration": 0.043067,
     "end_time": "2022-06-07T06:01:44.521157",
     "exception": false,
     "start_time": "2022-06-07T06:01:44.478090",
     "status": "completed"
    },
    "tags": []
   },
   "source": [
    "# ABC - GAN Model with skip connection"
   ]
  },
  {
   "cell_type": "code",
   "execution_count": 15,
   "id": "4e43dad1",
   "metadata": {
    "execution": {
     "iopub.execute_input": "2022-06-07T06:01:44.555151Z",
     "iopub.status.busy": "2022-06-07T06:01:44.554766Z",
     "iopub.status.idle": "2022-06-07T06:01:44.557201Z",
     "shell.execute_reply": "2022-06-07T06:01:44.557435Z"
    },
    "id": "4e43dad1",
    "papermill": {
     "duration": 0.021252,
     "end_time": "2022-06-07T06:01:44.557549",
     "exception": false,
     "start_time": "2022-06-07T06:01:44.536297",
     "status": "completed"
    },
    "tags": []
   },
   "outputs": [],
   "source": [
    "#Generator\n",
    "gen3 = network.GeneratorWithSkipConnection(n_features+1).to(device)\n",
    "constraints=network.weightConstraint()\n",
    "#Discriminator \n",
    "disc3 = network.Discriminator(n_features+1).to(device)\n",
    "\n",
    "criterion = torch.nn.BCELoss()\n",
    "gen_opt = torch.optim.Adam(gen3.parameters(), lr=0.001, betas=(0.5, 0.999))\n",
    "disc_opt = torch.optim.Adam(disc3.parameters(), lr=0.001, betas=(0.5, 0.999))\n"
   ]
  },
  {
   "cell_type": "code",
   "execution_count": 16,
   "id": "26acbc37",
   "metadata": {
    "execution": {
     "iopub.execute_input": "2022-06-07T06:01:44.590743Z",
     "iopub.status.busy": "2022-06-07T06:01:44.590343Z",
     "iopub.status.idle": "2022-06-07T06:02:22.123956Z",
     "shell.execute_reply": "2022-06-07T06:02:22.124334Z"
    },
    "id": "26acbc37",
    "papermill": {
     "duration": 37.551887,
     "end_time": "2022-06-07T06:02:22.124458",
     "exception": false,
     "start_time": "2022-06-07T06:01:44.572571",
     "status": "completed"
    },
    "tags": []
   },
   "outputs": [
    {
     "data": {
      "image/png": "[encoded data removed]",
      "text/plain": [
       "<Figure size 432x288 with 1 Axes>"
      ]
     },
     "metadata": {
      "needs_background": "light"
     },
     "output_type": "display_data"
    },
    {
     "data": {
      "image/png": "[encoded data removed]",
      "text/plain": [
       "<Figure size 432x288 with 1 Axes>"
      ]
     },
     "metadata": {
      "needs_background": "light"
     },
     "output_type": "display_data"
    }
   ],
   "source": [
    "ABC_train_test2.training_GAN_skip_connection(disc3,gen3,disc_opt,gen_opt,train_data,batch_size,n_epochs,criterion,prior_model,variance,bias,device)"
   ]
  },
  {
   "cell_type": "code",
   "execution_count": 17,
   "id": "c5e0717b",
   "metadata": {
    "execution": {
     "iopub.execute_input": "2022-06-07T06:02:22.157715Z",
     "iopub.status.busy": "2022-06-07T06:02:22.157203Z",
     "iopub.status.idle": "2022-06-07T06:02:22.435480Z",
     "shell.execute_reply": "2022-06-07T06:02:22.435789Z"
    },
    "id": "c5e0717b",
    "papermill": {
     "duration": 0.296225,
     "end_time": "2022-06-07T06:02:22.435915",
     "exception": false,
     "start_time": "2022-06-07T06:02:22.139690",
     "status": "completed"
    },
    "tags": []
   },
   "outputs": [
    {
     "data": {
      "application/scrapbook.scrap.json+json": {
       "data": 0.03659050139194411,
       "encoder": "json",
       "name": "ABC-GAN Model 3 MSE",
       "version": 1
      }
     },
     "metadata": {
      "scrapbook": {
       "data": true,
       "display": false,
       "name": "ABC-GAN Model 3 MSE"
      }
     },
     "output_type": "display_data"
    },
    {
     "data": {
      "application/scrapbook.scrap.json+json": {
       "data": 0.14433196617662908,
       "encoder": "json",
       "name": "ABC-GAN Model 3 MAE",
       "version": 1
      }
     },
     "metadata": {
      "scrapbook": {
       "data": true,
       "display": false,
       "name": "ABC-GAN Model 3 MAE"
      }
     },
     "output_type": "display_data"
    },
    {
     "data": {
      "application/scrapbook.scrap.json+json": {
       "data": 2.8866393235325813,
       "encoder": "json",
       "name": "ABC-GAN Model 3 Manhattan Distance",
       "version": 1
      }
     },
     "metadata": {
      "scrapbook": {
       "data": true,
       "display": false,
       "name": "ABC-GAN Model 3 Manhattan Distance"
      }
     },
     "output_type": "display_data"
    },
    {
     "data": {
      "application/scrapbook.scrap.json+json": {
       "data": 0.8411668731299141,
       "encoder": "json",
       "name": "ABC-GAN Model 3 Euclidean distance",
       "version": 1
      }
     },
     "metadata": {
      "scrapbook": {
       "data": true,
       "display": false,
       "name": "ABC-GAN Model 3 Euclidean distance"
      }
     },
     "output_type": "display_data"
    },
    {
     "data": {
      "application/scrapbook.scrap.json+json": {
       "data": [
        [
         0.029748145305499286,
         0.027965380204990863,
         0.025980773069346576,
         0.01899084519795722,
         0.026348645247836432,
         0.023504443451964185,
         0.045414411067304705,
         0.06310546925630638,
         0.03833709164504831,
         0.04855543128448966,
         0.027660954767907142,
         0.052821254331331266,
         0.03589416325121484,
         0.03309063757815699,
         0.040223771500231306,
         0.02337421867263182,
         0.03163398716012035,
         0.042454255516473104,
         0.019533726027278202,
         0.028267529002512816,
         0.04497128492861049,
         0.01933721163811429,
         0.06848691159184109,
         0.025146656722322545,
         0.03302941825162557,
         0.025996430868454733,
         0.02289986138882576,
         0.028364749902709117,
         0.040631619228554225,
         0.038415335989324374,
         0.022422649920351666,
         0.017489151458438056,
         0.0395076119189914,
         0.03457880642235942,
         0.02606392403293014,
         0.026675187379243393,
         0.032586004487473355,
         0.02173240700631267,
         0.04768288750264751,
         0.0317855439495862,
         0.03475198874802086,
         0.047873612945312796,
         0.04841437415357437,
         0.031049417540552637,
         0.020095968508133156,
         0.037532465691670014,
         0.02518591365465491,
         0.04195503994244706,
         0.06964992111852827,
         0.020553630474877804,
         0.020823429598480603,
         0.0509356885461522,
         0.053518959140377007,
         0.1113379550796491,
         0.03000319409481783,
         0.03287458843230133,
         0.028813452291073793,
         0.054495775184078984,
         0.0299048984135316,
         0.02060140968549999,
         0.025678422594047467,
         0.04778031875751922,
         0.03215009448809294,
         0.029523793828802446,
         0.03686826012197568,
         0.0649769455795319,
         0.03398180284894549,
         0.0287058702487756,
         0.04749295401258894,
         0.041961195182531295,
         0.035455067487615205,
         0.07396929236188947,
         0.023828890041122548,
         0.027180472692500058,
         0.04140054702382183,
         0.04714900342723853,
         0.024956307942769596,
         0.02413938647249352,
         0.017402865903579444,
         0.04019388819643578,
         0.04255069632847926,
         0.02189030166685868,
         0.04531667024124373,
         0.05746592217366049,
         0.028043052416826187,
         0.0527658440464379,
         0.0265379308235139,
         0.04082657263561649,
         0.03149053558025067,
         0.05128060314250591,
         0.04104406048658497,
         0.04553805442521582,
         0.035303267572372274,
         0.03729784867314578,
         0.054832429159020715,
         0.026358867829763023,
         0.03570874453098762,
         0.031456452921703626,
         0.04156036365257454,
         0.025906070304320527
        ],
        [
         0.1389422678388655,
         0.14196263188496233,
         0.12549517014995218,
         0.11389357587322593,
         0.13677367577329277,
         0.1245808838866651,
         0.15473335972055793,
         0.16591420462355017,
         0.1497115165926516,
         0.16283514061942697,
         0.12654246473684908,
         0.17595763793215155,
         0.15673076352104545,
         0.14475137153640388,
         0.1532809897325933,
         0.1241936550475657,
         0.14256826201453804,
         0.16251410981640219,
         0.11137373642995954,
         0.13643589159473776,
         0.15326317092403768,
         0.11452045375481248,
         0.17201758781448007,
         0.1232501314021647,
         0.14536147406324745,
         0.1339226038195193,
         0.12318747779354453,
         0.12785460194572806,
         0.14082021871581674,
         0.15341541944071652,
         0.12474214592948556,
         0.11140871932730079,
         0.15424600997939705,
         0.13973018368706108,
         0.12543639549985527,
         0.12202707966789603,
         0.13767232438549398,
         0.12181385299190879,
         0.16700872303918005,
         0.14276830283924938,
         0.14448489984497428,
         0.16547699039801955,
         0.15383939137682318,
         0.14941212674602866,
         0.1192486627958715,
         0.14989132741466166,
         0.12591028967872261,
         0.15459684347733854,
         0.18818487534299494,
         0.11792802968993783,
         0.11575253745540977,
         0.17373349955305456,
         0.18063024720177054,
         0.20633826991543175,
         0.14067655364051462,
         0.13773979106917977,
         0.1401602759025991,
         0.16963678309693933,
         0.1371331081725657,
         0.11833317065611482,
         0.1260377391241491,
         0.15967232147231697,
         0.1401268512941897,
         0.13254777053371072,
         0.14527087351307272,
         0.17593443980440499,
         0.14913461217656732,
         0.13788091680034995,
         0.16247740210965275,
         0.14256173325702548,
         0.13808928290382028,
         0.1854913949035108,
         0.12285391492769122,
         0.12789324084296821,
         0.1541907145641744,
         0.16128180464729666,
         0.13043826213106513,
         0.12936388989910483,
         0.10832378724589944,
         0.15480494732037187,
         0.15769611606374384,
         0.10878536393865942,
         0.14862893680110573,
         0.16594631830230355,
         0.13133750995621085,
         0.16561175817623736,
         0.13393076052889227,
         0.16022966662421823,
         0.13969187950715423,
         0.17252344926819205,
         0.15313209155574442,
         0.17792180860415102,
         0.14763709595426916,
         0.1502100200392306,
         0.17673388412222266,
         0.1308683960698545,
         0.13501516720280052,
         0.14716322282329203,
         0.14784721294417977,
         0.12514419993385673
        ],
        [
         2.7788453567773104,
         2.8392526376992464,
         2.5099034029990435,
         2.2778715174645185,
         2.7354735154658556,
         2.491617677733302,
         3.0946671944111586,
         3.3182840924710035,
         2.994230331853032,
         3.2567028123885393,
         2.5308492947369814,
         3.519152758643031,
         3.134615270420909,
         2.895027430728078,
         3.065619794651866,
         2.483873100951314,
         2.851365240290761,
         3.250282196328044,
         2.2274747285991907,
         2.7287178318947554,
         3.065263418480754,
         2.2904090750962496,
         3.4403517562896013,
         2.465002628043294,
         2.907229481264949,
         2.6784520763903856,
         2.4637495558708906,
         2.5570920389145613,
         2.8164043743163347,
         3.06830838881433,
         2.494842918589711,
         2.2281743865460157,
         3.084920199587941,
         2.7946036737412214,
         2.5087279099971056,
         2.4405415933579206,
         2.75344648770988,
         2.4362770598381758,
         3.340174460783601,
         2.8553660567849874,
         2.8896979968994856,
         3.309539807960391,
         3.0767878275364637,
         2.9882425349205732,
         2.38497325591743,
         2.997826548293233,
         2.5182057935744524,
         3.091936869546771,
         3.7636975068598986,
         2.3585605937987566,
         2.3150507491081953,
         3.4746699910610914,
         3.612604944035411,
         4.126765398308635,
         2.8135310728102922,
         2.7547958213835955,
         2.803205518051982,
         3.3927356619387865,
         2.742662163451314,
         2.3666634131222963,
         2.5207547824829817,
         3.1934464294463396,
         2.802537025883794,
         2.6509554106742144,
         2.9054174702614546,
         3.5186887960880995,
         2.9826922435313463,
         2.757618336006999,
         3.249548042193055,
         2.8512346651405096,
         2.7617856580764055,
         3.709827898070216,
         2.4570782985538244,
         2.5578648168593645,
         3.0838142912834883,
         3.2256360929459333,
         2.6087652426213026,
         2.5872777979820967,
         2.1664757449179888,
         3.0960989464074373,
         3.1539223212748766,
         2.1757072787731886,
         2.9725787360221148,
         3.318926366046071,
         2.626750199124217,
         3.312235163524747,
         2.6786152105778456,
         3.2045933324843645,
         2.7938375901430845,
         3.450468985363841,
         3.062641831114888,
         3.55843617208302,
         2.9527419190853834,
         3.0042004007846117,
         3.5346776824444532,
         2.61736792139709,
         2.7003033440560102,
         2.9432644564658403,
         2.9569442588835955,
         2.5028839986771345
        ],
        [
         0.7713383862546876,
         0.7478687077955711,
         0.7208435762264456,
         0.6162928719035653,
         0.7259289944317754,
         0.6856302713848651,
         0.9530415632836241,
         1.1234364179276581,
         0.8756379576634205,
         0.985448438879373,
         0.7437869959592887,
         1.0278254164140062,
         0.8472799212918342,
         0.8135187469033149,
         0.8969255431777078,
         0.683728289200203,
         0.7954116815853328,
         0.9214581435580577,
         0.6250396151809612,
         0.7518979851351221,
         0.9483805663193493,
         0.6218876367659079,
         1.1703581639125784,
         0.7091777876149612,
         0.8127658734423533,
         0.7210607584448724,
         0.6767549244567898,
         0.7531898818054995,
         0.9014612496225695,
         0.8765310717746904,
         0.669666333637158,
         0.5914245760608542,
         0.8889050783856666,
         0.8316105629723497,
         0.7219961777312972,
         0.7304134086836495,
         0.8072918244039555,
         0.659278499669338,
         0.9765540179902749,
         0.797314792909127,
         0.8336904551213341,
         0.9785051143996417,
         0.984015997365636,
         0.7880281408750913,
         0.6339711114575041,
         0.8664002041974599,
         0.709731127324354,
         0.9160244531937677,
         1.1802535415623905,
         0.6411494439657233,
         0.6453437781288451,
         1.0093135146836407,
         1.0345913119718047,
         1.4922329247114814,
         0.7746379037307409,
         0.8108586613251576,
         0.7591238672453106,
         1.0439901837093966,
         0.7733679384811811,
         0.6418942231473966,
         0.7166369037950455,
         0.9775512135690818,
         0.8018739862109624,
         0.7684242816153384,
         0.8586997161054111,
         1.139973206523135,
         0.824400422718784,
         0.757705354986694,
         0.9746071414943452,
         0.9160916458797264,
         0.8420815576607198,
         1.2163000646377478,
         0.6903461456562576,
         0.7372987548138143,
         0.9099510648801048,
         0.9710716083506771,
         0.7064886119785597,
         0.694829280794837,
         0.5899638277653885,
         0.8965923064184276,
         0.9225041607329395,
         0.6616691267825435,
         0.9520154435852785,
         1.0720627050099307,
         0.7489065684960466,
         1.0272861728499796,
         0.7285318225515465,
         0.9036212993905852,
         0.793606143880586,
         1.0127250677504325,
         0.906024949839517,
         0.9543380368110225,
         0.8402769492539025,
         0.8636880070157947,
         1.0472099040691003,
         0.7260698014621324,
         0.8450886880202293,
         0.7931765619545704,
         0.911705694317794,
         0.7198065060045029
        ]
       ],
       "encoder": "json",
       "name": "ABC_GAN_3 Metrics",
       "version": 1
      }
     },
     "metadata": {
      "scrapbook": {
       "data": true,
       "display": false,
       "name": "ABC_GAN_3 Metrics"
      }
     },
     "output_type": "display_data"
    },
    {
     "name": "stdout",
     "output_type": "stream",
     "text": [
      "MSE\n",
      "0.03659050139194411\n"
     ]
    }
   ],
   "source": [
    "ABC_GAN3_metrics=ABC_train_test2.test_generator(gen3,test_data,prior_model,variance,bias,\"3\",device)\n",
    "sb.glue(\"ABC_GAN_3 Metrics\",ABC_GAN3_metrics)\n",
    "\n",
    "print(\"MSE\")\n",
    "print(mean(ABC_GAN3_metrics[0]))"
   ]
  },
  {
   "cell_type": "code",
   "execution_count": 18,
   "id": "c8e46b48",
   "metadata": {
    "execution": {
     "iopub.execute_input": "2022-06-07T06:02:22.472697Z",
     "iopub.status.busy": "2022-06-07T06:02:22.472324Z",
     "iopub.status.idle": "2022-06-07T06:02:22.758929Z",
     "shell.execute_reply": "2022-06-07T06:02:22.759225Z"
    },
    "id": "c8e46b48",
    "papermill": {
     "duration": 0.305944,
     "end_time": "2022-06-07T06:02:22.759345",
     "exception": false,
     "start_time": "2022-06-07T06:02:22.453401",
     "status": "completed"
    },
    "tags": []
   },
   "outputs": [
    {
     "data": {
      "image/png": "[encoded data removed]",
      "text/plain": [
       "<Figure size 432x288 with 1 Axes>"
      ]
     },
     "metadata": {
      "needs_background": "light"
     },
     "output_type": "display_data"
    },
    {
     "data": {
      "image/png": "[encoded data removed]",
      "text/plain": [
       "<Figure size 432x288 with 1 Axes>"
      ]
     },
     "metadata": {
      "needs_background": "light"
     },
     "output_type": "display_data"
    },
    {
     "data": {
      "image/png": "[encoded data removed]",
      "text/plain": [
       "<Figure size 432x288 with 1 Axes>"
      ]
     },
     "metadata": {
      "needs_background": "light"
     },
     "output_type": "display_data"
    },
    {
     "data": {
      "image/png": "[encoded data removed]",
      "text/plain": [
       "<Figure size 432x288 with 1 Axes>"
      ]
     },
     "metadata": {
      "needs_background": "light"
     },
     "output_type": "display_data"
    }
   ],
   "source": [
    "sanityChecks.discProbVsError(train_data,disc3,device)\n",
    "sanityChecks.discProbVsError(test_data,disc3,device)"
   ]
  },
  {
   "cell_type": "markdown",
   "id": "a5bd74c3",
   "metadata": {
    "id": "a5bd74c3",
    "papermill": {
     "duration": 0.019118,
     "end_time": "2022-06-07T06:02:22.797900",
     "exception": false,
     "start_time": "2022-06-07T06:02:22.778782",
     "status": "completed"
    },
    "tags": []
   },
   "source": [
    "## Skip Connection Model Analysis - ABC-GAN "
   ]
  },
  {
   "cell_type": "markdown",
   "id": "5744a8bf",
   "metadata": {
    "id": "5744a8bf",
    "papermill": {
     "duration": 0.018764,
     "end_time": "2022-06-07T06:02:22.835606",
     "exception": false,
     "start_time": "2022-06-07T06:02:22.816842",
     "status": "completed"
    },
    "tags": []
   },
   "source": [
    "### Weight Analysis \n",
    "\n",
    "Study the weights of the skip connection layer\n",
    "\n",
    "Equation of the skip connection is \n",
    "\n",
    "$output = y_{gan} * w + y_{abc} * (1-w)$"
   ]
  },
  {
   "cell_type": "code",
   "execution_count": 19,
   "id": "52c31dea",
   "metadata": {
    "execution": {
     "iopub.execute_input": "2022-06-07T06:02:22.876107Z",
     "iopub.status.busy": "2022-06-07T06:02:22.875710Z",
     "iopub.status.idle": "2022-06-07T06:02:22.879097Z",
     "shell.execute_reply": "2022-06-07T06:02:22.879325Z"
    },
    "id": "52c31dea",
    "papermill": {
     "duration": 0.025069,
     "end_time": "2022-06-07T06:02:22.879442",
     "exception": false,
     "start_time": "2022-06-07T06:02:22.854373",
     "status": "completed"
    },
    "tags": []
   },
   "outputs": [
    {
     "name": "stdout",
     "output_type": "stream",
     "text": [
      "Weight of the node at skip connection\n",
      "Parameter containing:\n",
      "tensor([[0.1900]], requires_grad=True)\n"
     ]
    },
    {
     "data": {
      "application/scrapbook.scrap.json+json": {
       "data": 0.1899535357952118,
       "encoder": "json",
       "name": "Skip Connection Weight",
       "version": 1
      }
     },
     "metadata": {
      "scrapbook": {
       "data": true,
       "display": false,
       "name": "Skip Connection Weight"
      }
     },
     "output_type": "display_data"
    }
   ],
   "source": [
    "print(\"Weight of the node at skip connection\")\n",
    "for name,param in gen3.named_parameters():\n",
    "    if(name == \"skipNode.weight\"):\n",
    "        print(param)\n",
    "        sb.glue(\"Skip Connection Weight\",param.item())"
   ]
  }
 ],
 "metadata": {
  "colab": {
   "collapsed_sections": [],
   "name": "ABC_GAN_Model-Catboost_Pre-gen.ipynb",
   "provenance": []
  },
  "interpreter": {
   "hash": "31f2aee4e71d21fbe5cf8b01ff0e069b9275f58929596ceb00d14d90e3e16cd6"
  },
  "kernelspec": {
   "display_name": "Python 3 (ipykernel)",
   "language": "python",
   "name": "python3"
  },
  "language_info": {
   "codemirror_mode": {
    "name": "ipython",
    "version": 3
   },
   "file_extension": ".py",
   "mimetype": "text/x-python",
   "name": "python",
   "nbconvert_exporter": "python",
   "pygments_lexer": "ipython3",
   "version": "3.8.11"
  },
  "papermill": {
   "default_parameters": {},
   "duration": 58.13079,
   "end_time": "2022-06-07T06:02:23.206122",
   "environment_variables": {},
   "exception": null,
   "input_path": "ABC_GAN-Catboost.ipynb",
   "output_path": "./ABC_GAN_Catboost/ABC-GAN_output_2_0.ipynb",
   "parameters": {
    "bias": 1,
    "variance": 1
   },
   "start_time": "2022-06-07T06:01:25.075332",
   "version": "2.3.3"
  }
 },
 "nbformat": 4,
 "nbformat_minor": 5
}