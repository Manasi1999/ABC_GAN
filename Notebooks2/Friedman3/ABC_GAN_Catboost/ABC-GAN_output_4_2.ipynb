{
 "cells": [
  {
   "cell_type": "markdown",
   "id": "622780e6",
   "metadata": {
    "id": "622780e6",
    "papermill": {
     "duration": 0.033324,
     "end_time": "2022-06-07T06:24:33.658171",
     "exception": false,
     "start_time": "2022-06-07T06:24:33.624847",
     "status": "completed"
    },
    "tags": []
   },
   "source": [
    "## Import Libraries "
   ]
  },
  {
   "cell_type": "code",
   "execution_count": 1,
   "id": "a62397e3",
   "metadata": {
    "execution": {
     "iopub.execute_input": "2022-06-07T06:24:33.697315Z",
     "iopub.status.busy": "2022-06-07T06:24:33.696683Z",
     "iopub.status.idle": "2022-06-07T06:24:33.699026Z",
     "shell.execute_reply": "2022-06-07T06:24:33.699385Z"
    },
    "id": "a62397e3",
    "papermill": {
     "duration": 0.02364,
     "end_time": "2022-06-07T06:24:33.699593",
     "exception": false,
     "start_time": "2022-06-07T06:24:33.675953",
     "status": "completed"
    },
    "tags": []
   },
   "outputs": [],
   "source": [
    "import warnings\n",
    "import sys\n",
    "sys.path.insert(0, '../../src')\n",
    "warnings.filterwarnings('ignore')"
   ]
  },
  {
   "cell_type": "code",
   "execution_count": 2,
   "id": "d6a4e155",
   "metadata": {
    "execution": {
     "iopub.execute_input": "2022-06-07T06:24:33.720298Z",
     "iopub.status.busy": "2022-06-07T06:24:33.719892Z",
     "iopub.status.idle": "2022-06-07T06:24:35.528450Z",
     "shell.execute_reply": "2022-06-07T06:24:35.528714Z"
    },
    "id": "d6a4e155",
    "papermill": {
     "duration": 1.819557,
     "end_time": "2022-06-07T06:24:35.528838",
     "exception": false,
     "start_time": "2022-06-07T06:24:33.709281",
     "status": "completed"
    },
    "tags": []
   },
   "outputs": [],
   "source": [
    "import ABC_train_test2\n",
    "import friedman1Dataset\n",
    "import network\n",
    "import dataset\n",
    "import sanityChecks\n",
    "import torch \n",
    "import scrapbook as sb\n",
    "from statistics import mean \n",
    "import catboost as ctb \n",
    "from sklearn.model_selection import train_test_split\n",
    "from sklearn.metrics import mean_squared_error,mean_absolute_error\n",
    "import numpy as np"
   ]
  },
  {
   "cell_type": "markdown",
   "id": "2fa5b0f7",
   "metadata": {
    "id": "2fa5b0f7",
    "papermill": {
     "duration": 0.006846,
     "end_time": "2022-06-07T06:24:35.542828",
     "exception": false,
     "start_time": "2022-06-07T06:24:35.535982",
     "status": "completed"
    },
    "tags": []
   },
   "source": [
    "## Parameters "
   ]
  },
  {
   "cell_type": "code",
   "execution_count": 3,
   "id": "783186fb",
   "metadata": {
    "execution": {
     "iopub.execute_input": "2022-06-07T06:24:35.558664Z",
     "iopub.status.busy": "2022-06-07T06:24:35.558275Z",
     "iopub.status.idle": "2022-06-07T06:24:35.559591Z",
     "shell.execute_reply": "2022-06-07T06:24:35.559838Z"
    },
    "id": "783186fb",
    "papermill": {
     "duration": 0.010325,
     "end_time": "2022-06-07T06:24:35.559945",
     "exception": false,
     "start_time": "2022-06-07T06:24:35.549620",
     "status": "completed"
    },
    "tags": [
     "parameters"
    ]
   },
   "outputs": [],
   "source": [
    "variance = 1\n",
    "bias = 1 "
   ]
  },
  {
   "cell_type": "code",
   "execution_count": 4,
   "id": "95380861",
   "metadata": {
    "execution": {
     "iopub.execute_input": "2022-06-07T06:24:35.575475Z",
     "iopub.status.busy": "2022-06-07T06:24:35.575099Z",
     "iopub.status.idle": "2022-06-07T06:24:35.576278Z",
     "shell.execute_reply": "2022-06-07T06:24:35.576516Z"
    },
    "papermill": {
     "duration": 0.009819,
     "end_time": "2022-06-07T06:24:35.576626",
     "exception": false,
     "start_time": "2022-06-07T06:24:35.566807",
     "status": "completed"
    },
    "tags": [
     "injected-parameters"
    ]
   },
   "outputs": [],
   "source": [
    "# Parameters\n",
    "variance = 0.01\n",
    "bias = 1\n"
   ]
  },
  {
   "cell_type": "markdown",
   "id": "391cdbfd",
   "metadata": {
    "id": "391cdbfd",
    "papermill": {
     "duration": 0.006803,
     "end_time": "2022-06-07T06:24:35.590355",
     "exception": false,
     "start_time": "2022-06-07T06:24:35.583552",
     "status": "completed"
    },
    "tags": []
   },
   "source": [
    "## Dataset \n"
   ]
  },
  {
   "cell_type": "code",
   "execution_count": 5,
   "id": "5b51f161",
   "metadata": {
    "execution": {
     "iopub.execute_input": "2022-06-07T06:24:35.606055Z",
     "iopub.status.busy": "2022-06-07T06:24:35.605696Z",
     "iopub.status.idle": "2022-06-07T06:24:35.606939Z",
     "shell.execute_reply": "2022-06-07T06:24:35.607185Z"
    },
    "id": "5b51f161",
    "papermill": {
     "duration": 0.010085,
     "end_time": "2022-06-07T06:24:35.607301",
     "exception": false,
     "start_time": "2022-06-07T06:24:35.597216",
     "status": "completed"
    },
    "tags": []
   },
   "outputs": [],
   "source": [
    "#Parameters \n",
    "n_features = 5\n",
    "n_samples= 100\n",
    "n_target = 1 "
   ]
  },
  {
   "cell_type": "code",
   "execution_count": 6,
   "id": "5d6eced4",
   "metadata": {
    "execution": {
     "iopub.execute_input": "2022-06-07T06:24:35.624204Z",
     "iopub.status.busy": "2022-06-07T06:24:35.623041Z",
     "iopub.status.idle": "2022-06-07T06:24:35.629131Z",
     "shell.execute_reply": "2022-06-07T06:24:35.629367Z"
    },
    "id": "5d6eced4",
    "papermill": {
     "duration": 0.015199,
     "end_time": "2022-06-07T06:24:35.629482",
     "exception": false,
     "start_time": "2022-06-07T06:24:35.614283",
     "status": "completed"
    },
    "tags": []
   },
   "outputs": [
    {
     "name": "stdout",
     "output_type": "stream",
     "text": [
      "         X0        X1        X2        X3        X4         Y\n",
      "0 -1.752373  0.449003 -0.885347  0.068309 -1.304633 -1.482616\n",
      "1  1.099353  1.153214 -1.369435  1.221743 -1.085567  1.222756\n",
      "2  0.141056  0.467776  0.442885  0.209637  0.386213  0.881620\n",
      "3 -1.035733 -0.949986  0.404500  0.902457  0.020604 -0.489427\n",
      "4 -1.338408 -0.263781 -1.793146  0.996271  1.889588  1.109957\n"
     ]
    }
   ],
   "source": [
    "X,Y = friedman1Dataset.friedman1_data(n_samples,n_features)"
   ]
  },
  {
   "cell_type": "code",
   "execution_count": 7,
   "id": "fe007438",
   "metadata": {
    "execution": {
     "iopub.execute_input": "2022-06-07T06:24:35.646742Z",
     "iopub.status.busy": "2022-06-07T06:24:35.646377Z",
     "iopub.status.idle": "2022-06-07T06:24:35.647629Z",
     "shell.execute_reply": "2022-06-07T06:24:35.647864Z"
    },
    "id": "fe007438",
    "papermill": {
     "duration": 0.011104,
     "end_time": "2022-06-07T06:24:35.647972",
     "exception": false,
     "start_time": "2022-06-07T06:24:35.636868",
     "status": "completed"
    },
    "tags": []
   },
   "outputs": [],
   "source": [
    "#Train test split for dataset \n",
    "X_train,X_test,Y_train,Y_test = train_test_split(X,Y,test_size = 0.2)\n",
    "train_data = dataset.CustomDataset(X_train,Y_train)\n",
    "test_data = dataset.CustomDataset(X_test,Y_test)\n"
   ]
  },
  {
   "cell_type": "markdown",
   "id": "a9a1af34",
   "metadata": {
    "id": "a9a1af34",
    "papermill": {
     "duration": 0.007089,
     "end_time": "2022-06-07T06:24:35.662215",
     "exception": false,
     "start_time": "2022-06-07T06:24:35.655126",
     "status": "completed"
    },
    "tags": []
   },
   "source": [
    "## Training Parameters "
   ]
  },
  {
   "cell_type": "code",
   "execution_count": 8,
   "id": "952b7fc8",
   "metadata": {
    "execution": {
     "iopub.execute_input": "2022-06-07T06:24:35.678797Z",
     "iopub.status.busy": "2022-06-07T06:24:35.678428Z",
     "iopub.status.idle": "2022-06-07T06:24:35.679672Z",
     "shell.execute_reply": "2022-06-07T06:24:35.679913Z"
    },
    "id": "952b7fc8",
    "papermill": {
     "duration": 0.01068,
     "end_time": "2022-06-07T06:24:35.680019",
     "exception": false,
     "start_time": "2022-06-07T06:24:35.669339",
     "status": "completed"
    },
    "tags": []
   },
   "outputs": [],
   "source": [
    "batch_size = 32\n",
    "n_epochs = 1000\n",
    "#Select the device \n",
    "device = torch.device('cuda' if torch.cuda.is_available() else 'cpu')"
   ]
  },
  {
   "cell_type": "markdown",
   "id": "a95e1600",
   "metadata": {
    "id": "a95e1600",
    "papermill": {
     "duration": 0.007036,
     "end_time": "2022-06-07T06:24:35.694180",
     "exception": false,
     "start_time": "2022-06-07T06:24:35.687144",
     "status": "completed"
    },
    "tags": []
   },
   "source": [
    "# ABC Pre-generator Model \n",
    "\n",
    "1. The catboost model is used as a pre-generator model for the ABC-GAN. \n",
    "2. The model is first trained on the entire dataset \n",
    "3. It generats X,Y pairs and we add some Gaussian noise with mean 0 and variance 1 to it which is then feed as input to the generator.\n"
   ]
  },
  {
   "cell_type": "code",
   "execution_count": 9,
   "id": "ff8ce7bd",
   "metadata": {
    "execution": {
     "iopub.execute_input": "2022-06-07T06:24:35.711962Z",
     "iopub.status.busy": "2022-06-07T06:24:35.711568Z",
     "iopub.status.idle": "2022-06-07T06:24:36.375694Z",
     "shell.execute_reply": "2022-06-07T06:24:36.375991Z"
    },
    "id": "ff8ce7bd",
    "papermill": {
     "duration": 0.674817,
     "end_time": "2022-06-07T06:24:36.376116",
     "exception": false,
     "start_time": "2022-06-07T06:24:35.701299",
     "status": "completed"
    },
    "tags": []
   },
   "outputs": [
    {
     "name": "stdout",
     "output_type": "stream",
     "text": [
      "Learning rate set to 0.024897\n",
      "0:\tlearn: 0.9470272\ttotal: 57.4ms\tremaining: 57.4s\n",
      "1:\tlearn: 0.9395391\ttotal: 58.2ms\tremaining: 29s\n",
      "2:\tlearn: 0.9300108\ttotal: 58.8ms\tremaining: 19.5s\n",
      "3:\tlearn: 0.9209718\ttotal: 59.3ms\tremaining: 14.8s\n",
      "4:\tlearn: 0.9121712\ttotal: 59.8ms\tremaining: 11.9s\n",
      "5:\tlearn: 0.9031162\ttotal: 60.3ms\tremaining: 9.99s\n",
      "6:\tlearn: 0.8947530\ttotal: 60.9ms\tremaining: 8.63s\n",
      "7:\tlearn: 0.8878404\ttotal: 61.4ms\tremaining: 7.62s\n",
      "8:\tlearn: 0.8800491\ttotal: 61.9ms\tremaining: 6.81s\n",
      "9:\tlearn: 0.8718836\ttotal: 62.6ms\tremaining: 6.2s\n",
      "10:\tlearn: 0.8629491\ttotal: 63.2ms\tremaining: 5.68s\n",
      "11:\tlearn: 0.8543278\ttotal: 63.7ms\tremaining: 5.25s\n",
      "12:\tlearn: 0.8465327\ttotal: 64.2ms\tremaining: 4.88s\n",
      "13:\tlearn: 0.8397504\ttotal: 64.7ms\tremaining: 4.55s\n",
      "14:\tlearn: 0.8315746\ttotal: 65.1ms\tremaining: 4.28s\n",
      "15:\tlearn: 0.8238400\ttotal: 65.7ms\tremaining: 4.04s\n",
      "16:\tlearn: 0.8162662\ttotal: 66.3ms\tremaining: 3.83s\n",
      "17:\tlearn: 0.8099050\ttotal: 66.8ms\tremaining: 3.64s\n",
      "18:\tlearn: 0.8025886\ttotal: 67.3ms\tremaining: 3.48s\n",
      "19:\tlearn: 0.7950756\ttotal: 67.7ms\tremaining: 3.32s\n",
      "20:\tlearn: 0.7872367\ttotal: 68.1ms\tremaining: 3.17s\n",
      "21:\tlearn: 0.7789266\ttotal: 68.5ms\tremaining: 3.04s\n",
      "22:\tlearn: 0.7726247\ttotal: 69ms\tremaining: 2.93s\n",
      "23:\tlearn: 0.7661052\ttotal: 69.5ms\tremaining: 2.83s\n",
      "24:\tlearn: 0.7595872\ttotal: 69.9ms\tremaining: 2.73s\n",
      "25:\tlearn: 0.7525145\ttotal: 70.3ms\tremaining: 2.63s\n",
      "26:\tlearn: 0.7457666\ttotal: 70.9ms\tremaining: 2.55s\n",
      "27:\tlearn: 0.7393030\ttotal: 71.3ms\tremaining: 2.47s\n",
      "28:\tlearn: 0.7323116\ttotal: 71.7ms\tremaining: 2.4s\n",
      "29:\tlearn: 0.7269749\ttotal: 72.2ms\tremaining: 2.33s\n",
      "30:\tlearn: 0.7206498\ttotal: 72.6ms\tremaining: 2.27s\n",
      "31:\tlearn: 0.7132102\ttotal: 72.9ms\tremaining: 2.21s\n",
      "32:\tlearn: 0.7060765\ttotal: 73.4ms\tremaining: 2.15s\n",
      "33:\tlearn: 0.7006879\ttotal: 73.9ms\tremaining: 2.1s\n",
      "34:\tlearn: 0.6940223\ttotal: 74.3ms\tremaining: 2.05s\n",
      "35:\tlearn: 0.6898983\ttotal: 74.7ms\tremaining: 2s\n",
      "36:\tlearn: 0.6838347\ttotal: 75.1ms\tremaining: 1.95s\n",
      "37:\tlearn: 0.6783582\ttotal: 75.5ms\tremaining: 1.91s\n",
      "38:\tlearn: 0.6734797\ttotal: 75.9ms\tremaining: 1.87s\n",
      "39:\tlearn: 0.6681025\ttotal: 76.3ms\tremaining: 1.83s\n",
      "40:\tlearn: 0.6621227\ttotal: 76.8ms\tremaining: 1.8s\n",
      "41:\tlearn: 0.6573943\ttotal: 77.3ms\tremaining: 1.76s\n",
      "42:\tlearn: 0.6529269\ttotal: 77.7ms\tremaining: 1.73s\n",
      "43:\tlearn: 0.6475855\ttotal: 78.2ms\tremaining: 1.7s\n",
      "44:\tlearn: 0.6431731\ttotal: 78.5ms\tremaining: 1.67s\n",
      "45:\tlearn: 0.6373832\ttotal: 78.9ms\tremaining: 1.64s\n",
      "46:\tlearn: 0.6325894\ttotal: 79.3ms\tremaining: 1.61s\n",
      "47:\tlearn: 0.6258046\ttotal: 79.8ms\tremaining: 1.58s\n",
      "48:\tlearn: 0.6207176\ttotal: 80.3ms\tremaining: 1.56s\n",
      "49:\tlearn: 0.6156646\ttotal: 80.6ms\tremaining: 1.53s\n",
      "50:\tlearn: 0.6097013\ttotal: 81.3ms\tremaining: 1.51s\n",
      "51:\tlearn: 0.6047784\ttotal: 82ms\tremaining: 1.49s\n",
      "52:\tlearn: 0.5990308\ttotal: 82.6ms\tremaining: 1.48s\n",
      "53:\tlearn: 0.5951935\ttotal: 83.2ms\tremaining: 1.46s\n",
      "54:\tlearn: 0.5905707\ttotal: 83.8ms\tremaining: 1.44s\n",
      "55:\tlearn: 0.5853226\ttotal: 84.3ms\tremaining: 1.42s\n",
      "56:\tlearn: 0.5806167\ttotal: 84.8ms\tremaining: 1.4s\n",
      "57:\tlearn: 0.5766026\ttotal: 85.3ms\tremaining: 1.39s\n",
      "58:\tlearn: 0.5729292\ttotal: 85.7ms\tremaining: 1.37s\n",
      "59:\tlearn: 0.5692782\ttotal: 86.2ms\tremaining: 1.35s\n",
      "60:\tlearn: 0.5657910\ttotal: 86.7ms\tremaining: 1.33s\n",
      "61:\tlearn: 0.5613119\ttotal: 87.1ms\tremaining: 1.32s\n",
      "62:\tlearn: 0.5570022\ttotal: 87.7ms\tremaining: 1.3s\n",
      "63:\tlearn: 0.5521672\ttotal: 88.2ms\tremaining: 1.29s\n",
      "64:\tlearn: 0.5475518\ttotal: 88.8ms\tremaining: 1.28s\n",
      "65:\tlearn: 0.5428951\ttotal: 89.3ms\tremaining: 1.26s\n",
      "66:\tlearn: 0.5381335\ttotal: 89.9ms\tremaining: 1.25s\n",
      "67:\tlearn: 0.5342140\ttotal: 90.4ms\tremaining: 1.24s\n",
      "68:\tlearn: 0.5299345\ttotal: 90.8ms\tremaining: 1.23s\n",
      "69:\tlearn: 0.5260559\ttotal: 91.4ms\tremaining: 1.21s\n",
      "70:\tlearn: 0.5229881\ttotal: 91.7ms\tremaining: 1.2s\n",
      "71:\tlearn: 0.5191660\ttotal: 92.2ms\tremaining: 1.19s\n",
      "72:\tlearn: 0.5154937\ttotal: 92.9ms\tremaining: 1.18s\n",
      "73:\tlearn: 0.5121602\ttotal: 93.5ms\tremaining: 1.17s\n",
      "74:\tlearn: 0.5078231\ttotal: 94ms\tremaining: 1.16s\n",
      "75:\tlearn: 0.5046804\ttotal: 94.5ms\tremaining: 1.15s\n",
      "76:\tlearn: 0.5011647\ttotal: 95.1ms\tremaining: 1.14s\n",
      "77:\tlearn: 0.4979142\ttotal: 95.5ms\tremaining: 1.13s\n",
      "78:\tlearn: 0.4952286\ttotal: 96ms\tremaining: 1.12s\n",
      "79:\tlearn: 0.4913716\ttotal: 96.4ms\tremaining: 1.11s\n",
      "80:\tlearn: 0.4883751\ttotal: 96.9ms\tremaining: 1.1s\n",
      "81:\tlearn: 0.4848269\ttotal: 97.4ms\tremaining: 1.09s\n",
      "82:\tlearn: 0.4806326\ttotal: 97.8ms\tremaining: 1.08s\n",
      "83:\tlearn: 0.4773910\ttotal: 98.2ms\tremaining: 1.07s\n",
      "84:\tlearn: 0.4740519\ttotal: 98.6ms\tremaining: 1.06s\n",
      "85:\tlearn: 0.4707583\ttotal: 99.2ms\tremaining: 1.05s\n",
      "86:\tlearn: 0.4681746\ttotal: 99.7ms\tremaining: 1.04s\n",
      "87:\tlearn: 0.4643262\ttotal: 100ms\tremaining: 1.04s\n",
      "88:\tlearn: 0.4613358\ttotal: 101ms\tremaining: 1.03s\n",
      "89:\tlearn: 0.4577788\ttotal: 101ms\tremaining: 1.02s\n",
      "90:\tlearn: 0.4545876\ttotal: 102ms\tremaining: 1.02s\n",
      "91:\tlearn: 0.4511282\ttotal: 102ms\tremaining: 1.01s\n",
      "92:\tlearn: 0.4476798\ttotal: 103ms\tremaining: 1s\n",
      "93:\tlearn: 0.4442548\ttotal: 103ms\tremaining: 995ms\n",
      "94:\tlearn: 0.4412283\ttotal: 104ms\tremaining: 987ms\n",
      "95:\tlearn: 0.4379266\ttotal: 104ms\tremaining: 981ms\n",
      "96:\tlearn: 0.4356472\ttotal: 105ms\tremaining: 973ms\n",
      "97:\tlearn: 0.4326883\ttotal: 105ms\tremaining: 967ms\n",
      "98:\tlearn: 0.4297254\ttotal: 105ms\tremaining: 960ms\n",
      "99:\tlearn: 0.4265247\ttotal: 106ms\tremaining: 953ms\n",
      "100:\tlearn: 0.4239873\ttotal: 106ms\tremaining: 947ms\n",
      "101:\tlearn: 0.4207251\ttotal: 107ms\tremaining: 940ms\n",
      "102:\tlearn: 0.4181167\ttotal: 107ms\tremaining: 933ms\n",
      "103:\tlearn: 0.4149209\ttotal: 108ms\tremaining: 928ms\n",
      "104:\tlearn: 0.4121776\ttotal: 108ms\tremaining: 921ms\n"
     ]
    },
    {
     "name": "stdout",
     "output_type": "stream",
     "text": [
      "105:\tlearn: 0.4097686\ttotal: 109ms\tremaining: 917ms\n",
      "106:\tlearn: 0.4072294\ttotal: 109ms\tremaining: 912ms\n",
      "107:\tlearn: 0.4042582\ttotal: 110ms\tremaining: 907ms\n",
      "108:\tlearn: 0.4017093\ttotal: 110ms\tremaining: 901ms\n",
      "109:\tlearn: 0.3987512\ttotal: 111ms\tremaining: 894ms\n",
      "110:\tlearn: 0.3958510\ttotal: 111ms\tremaining: 889ms\n",
      "111:\tlearn: 0.3930340\ttotal: 111ms\tremaining: 883ms\n",
      "112:\tlearn: 0.3901595\ttotal: 112ms\tremaining: 878ms\n",
      "113:\tlearn: 0.3878892\ttotal: 112ms\tremaining: 873ms\n",
      "114:\tlearn: 0.3848634\ttotal: 113ms\tremaining: 868ms\n",
      "115:\tlearn: 0.3825952\ttotal: 113ms\tremaining: 862ms\n",
      "116:\tlearn: 0.3799041\ttotal: 114ms\tremaining: 857ms\n",
      "117:\tlearn: 0.3772427\ttotal: 114ms\tremaining: 854ms\n",
      "118:\tlearn: 0.3742613\ttotal: 115ms\tremaining: 849ms\n",
      "119:\tlearn: 0.3718829\ttotal: 115ms\tremaining: 844ms\n",
      "120:\tlearn: 0.3701635\ttotal: 116ms\tremaining: 840ms\n",
      "121:\tlearn: 0.3679163\ttotal: 116ms\tremaining: 835ms\n",
      "122:\tlearn: 0.3657064\ttotal: 116ms\tremaining: 830ms\n",
      "123:\tlearn: 0.3632522\ttotal: 117ms\tremaining: 825ms\n",
      "124:\tlearn: 0.3614389\ttotal: 117ms\tremaining: 820ms\n",
      "125:\tlearn: 0.3588396\ttotal: 118ms\tremaining: 815ms\n",
      "126:\tlearn: 0.3567032\ttotal: 118ms\tremaining: 811ms\n",
      "127:\tlearn: 0.3544138\ttotal: 118ms\tremaining: 807ms\n",
      "128:\tlearn: 0.3514971\ttotal: 119ms\tremaining: 803ms\n",
      "129:\tlearn: 0.3493207\ttotal: 120ms\tremaining: 800ms\n",
      "130:\tlearn: 0.3475292\ttotal: 120ms\tremaining: 796ms\n",
      "131:\tlearn: 0.3459109\ttotal: 120ms\tremaining: 792ms\n",
      "132:\tlearn: 0.3442314\ttotal: 121ms\tremaining: 789ms\n",
      "133:\tlearn: 0.3426685\ttotal: 121ms\tremaining: 785ms\n",
      "134:\tlearn: 0.3406584\ttotal: 122ms\tremaining: 780ms\n",
      "135:\tlearn: 0.3381925\ttotal: 122ms\tremaining: 777ms\n",
      "136:\tlearn: 0.3360312\ttotal: 123ms\tremaining: 773ms\n",
      "137:\tlearn: 0.3342371\ttotal: 123ms\tremaining: 769ms\n",
      "138:\tlearn: 0.3320741\ttotal: 124ms\tremaining: 766ms\n",
      "139:\tlearn: 0.3305562\ttotal: 124ms\tremaining: 763ms\n",
      "140:\tlearn: 0.3285427\ttotal: 125ms\tremaining: 760ms\n",
      "141:\tlearn: 0.3263645\ttotal: 125ms\tremaining: 757ms\n",
      "142:\tlearn: 0.3247322\ttotal: 126ms\tremaining: 754ms\n",
      "143:\tlearn: 0.3227688\ttotal: 126ms\tremaining: 750ms\n",
      "144:\tlearn: 0.3209247\ttotal: 127ms\tremaining: 746ms\n",
      "145:\tlearn: 0.3188978\ttotal: 127ms\tremaining: 743ms\n",
      "146:\tlearn: 0.3171309\ttotal: 127ms\tremaining: 739ms\n",
      "147:\tlearn: 0.3153707\ttotal: 128ms\tremaining: 735ms\n",
      "148:\tlearn: 0.3139674\ttotal: 128ms\tremaining: 733ms\n",
      "149:\tlearn: 0.3124280\ttotal: 129ms\tremaining: 730ms\n",
      "150:\tlearn: 0.3108154\ttotal: 129ms\tremaining: 727ms\n",
      "151:\tlearn: 0.3089544\ttotal: 130ms\tremaining: 723ms\n",
      "152:\tlearn: 0.3069689\ttotal: 130ms\tremaining: 721ms\n",
      "153:\tlearn: 0.3051841\ttotal: 131ms\tremaining: 718ms\n",
      "154:\tlearn: 0.3035084\ttotal: 131ms\tremaining: 715ms\n",
      "155:\tlearn: 0.3009650\ttotal: 132ms\tremaining: 712ms\n",
      "156:\tlearn: 0.2989813\ttotal: 132ms\tremaining: 710ms\n",
      "157:\tlearn: 0.2969387\ttotal: 133ms\tremaining: 707ms\n",
      "158:\tlearn: 0.2956870\ttotal: 133ms\tremaining: 703ms\n",
      "159:\tlearn: 0.2941269\ttotal: 133ms\tremaining: 700ms\n",
      "160:\tlearn: 0.2924360\ttotal: 134ms\tremaining: 699ms\n",
      "161:\tlearn: 0.2906768\ttotal: 135ms\tremaining: 696ms\n",
      "162:\tlearn: 0.2886269\ttotal: 135ms\tremaining: 693ms\n",
      "163:\tlearn: 0.2867836\ttotal: 135ms\tremaining: 690ms\n",
      "164:\tlearn: 0.2853147\ttotal: 136ms\tremaining: 688ms\n",
      "165:\tlearn: 0.2840000\ttotal: 136ms\tremaining: 685ms\n",
      "166:\tlearn: 0.2824625\ttotal: 137ms\tremaining: 683ms\n",
      "167:\tlearn: 0.2805668\ttotal: 137ms\tremaining: 680ms\n",
      "168:\tlearn: 0.2792054\ttotal: 138ms\tremaining: 678ms\n",
      "169:\tlearn: 0.2774217\ttotal: 138ms\tremaining: 675ms\n",
      "170:\tlearn: 0.2757298\ttotal: 139ms\tremaining: 672ms\n",
      "171:\tlearn: 0.2740030\ttotal: 139ms\tremaining: 669ms\n",
      "172:\tlearn: 0.2724841\ttotal: 139ms\tremaining: 666ms\n",
      "173:\tlearn: 0.2711031\ttotal: 140ms\tremaining: 663ms\n",
      "174:\tlearn: 0.2692862\ttotal: 140ms\tremaining: 661ms\n",
      "175:\tlearn: 0.2678533\ttotal: 141ms\tremaining: 658ms\n",
      "176:\tlearn: 0.2669064\ttotal: 141ms\tremaining: 656ms\n",
      "177:\tlearn: 0.2653102\ttotal: 141ms\tremaining: 653ms\n",
      "178:\tlearn: 0.2639211\ttotal: 142ms\tremaining: 650ms\n",
      "179:\tlearn: 0.2622759\ttotal: 142ms\tremaining: 648ms\n",
      "180:\tlearn: 0.2607692\ttotal: 143ms\tremaining: 645ms\n",
      "181:\tlearn: 0.2595123\ttotal: 143ms\tremaining: 643ms\n",
      "182:\tlearn: 0.2580612\ttotal: 143ms\tremaining: 640ms\n",
      "183:\tlearn: 0.2564181\ttotal: 144ms\tremaining: 638ms\n",
      "184:\tlearn: 0.2551120\ttotal: 144ms\tremaining: 636ms\n",
      "185:\tlearn: 0.2537799\ttotal: 145ms\tremaining: 634ms\n",
      "186:\tlearn: 0.2522352\ttotal: 145ms\tremaining: 631ms\n",
      "187:\tlearn: 0.2504156\ttotal: 146ms\tremaining: 629ms\n",
      "188:\tlearn: 0.2487503\ttotal: 146ms\tremaining: 627ms\n",
      "189:\tlearn: 0.2467184\ttotal: 147ms\tremaining: 625ms\n",
      "190:\tlearn: 0.2450965\ttotal: 147ms\tremaining: 623ms\n",
      "191:\tlearn: 0.2436437\ttotal: 147ms\tremaining: 620ms\n",
      "192:\tlearn: 0.2419389\ttotal: 148ms\tremaining: 618ms\n",
      "193:\tlearn: 0.2409214\ttotal: 148ms\tremaining: 617ms\n",
      "194:\tlearn: 0.2397136\ttotal: 149ms\tremaining: 615ms\n",
      "195:\tlearn: 0.2387520\ttotal: 149ms\tremaining: 613ms\n",
      "196:\tlearn: 0.2370607\ttotal: 150ms\tremaining: 611ms\n",
      "197:\tlearn: 0.2358083\ttotal: 150ms\tremaining: 610ms\n",
      "198:\tlearn: 0.2342151\ttotal: 151ms\tremaining: 607ms\n",
      "199:\tlearn: 0.2335668\ttotal: 151ms\tremaining: 605ms\n",
      "200:\tlearn: 0.2322651\ttotal: 152ms\tremaining: 604ms\n"
     ]
    },
    {
     "name": "stdout",
     "output_type": "stream",
     "text": [
      "201:\tlearn: 0.2316422\ttotal: 152ms\tremaining: 602ms\n",
      "202:\tlearn: 0.2304972\ttotal: 153ms\tremaining: 600ms\n",
      "203:\tlearn: 0.2290903\ttotal: 153ms\tremaining: 599ms\n",
      "204:\tlearn: 0.2277665\ttotal: 154ms\tremaining: 597ms\n",
      "205:\tlearn: 0.2263254\ttotal: 154ms\tremaining: 595ms\n",
      "206:\tlearn: 0.2251209\ttotal: 155ms\tremaining: 593ms\n",
      "207:\tlearn: 0.2244822\ttotal: 155ms\tremaining: 592ms\n",
      "208:\tlearn: 0.2233888\ttotal: 156ms\tremaining: 589ms\n",
      "209:\tlearn: 0.2226581\ttotal: 156ms\tremaining: 588ms\n",
      "210:\tlearn: 0.2212111\ttotal: 157ms\tremaining: 586ms\n",
      "211:\tlearn: 0.2206427\ttotal: 157ms\tremaining: 585ms\n",
      "212:\tlearn: 0.2192880\ttotal: 158ms\tremaining: 583ms\n",
      "213:\tlearn: 0.2186713\ttotal: 158ms\tremaining: 581ms\n",
      "214:\tlearn: 0.2174149\ttotal: 159ms\tremaining: 579ms\n",
      "215:\tlearn: 0.2160121\ttotal: 159ms\tremaining: 577ms\n",
      "216:\tlearn: 0.2148622\ttotal: 160ms\tremaining: 576ms\n",
      "217:\tlearn: 0.2135751\ttotal: 160ms\tremaining: 574ms\n",
      "218:\tlearn: 0.2125276\ttotal: 160ms\tremaining: 572ms\n",
      "219:\tlearn: 0.2114007\ttotal: 161ms\tremaining: 571ms\n",
      "220:\tlearn: 0.2105367\ttotal: 162ms\tremaining: 570ms\n",
      "221:\tlearn: 0.2095691\ttotal: 162ms\tremaining: 568ms\n",
      "222:\tlearn: 0.2084695\ttotal: 163ms\tremaining: 566ms\n",
      "223:\tlearn: 0.2066384\ttotal: 163ms\tremaining: 565ms\n",
      "224:\tlearn: 0.2054045\ttotal: 164ms\tremaining: 563ms\n",
      "225:\tlearn: 0.2047779\ttotal: 164ms\tremaining: 561ms\n",
      "226:\tlearn: 0.2039115\ttotal: 164ms\tremaining: 559ms\n",
      "227:\tlearn: 0.2031926\ttotal: 165ms\tremaining: 558ms\n",
      "228:\tlearn: 0.2018930\ttotal: 165ms\tremaining: 556ms\n",
      "229:\tlearn: 0.2008466\ttotal: 166ms\tremaining: 554ms\n",
      "230:\tlearn: 0.1998376\ttotal: 166ms\tremaining: 553ms\n",
      "231:\tlearn: 0.1983541\ttotal: 166ms\tremaining: 551ms\n",
      "232:\tlearn: 0.1975336\ttotal: 167ms\tremaining: 549ms\n",
      "233:\tlearn: 0.1964956\ttotal: 167ms\tremaining: 548ms\n",
      "234:\tlearn: 0.1953674\ttotal: 168ms\tremaining: 546ms\n",
      "235:\tlearn: 0.1942130\ttotal: 168ms\tremaining: 545ms\n",
      "236:\tlearn: 0.1934682\ttotal: 169ms\tremaining: 543ms\n",
      "237:\tlearn: 0.1928048\ttotal: 169ms\tremaining: 541ms\n",
      "238:\tlearn: 0.1913814\ttotal: 169ms\tremaining: 539ms\n",
      "239:\tlearn: 0.1909155\ttotal: 170ms\tremaining: 538ms\n",
      "240:\tlearn: 0.1898970\ttotal: 170ms\tremaining: 536ms\n",
      "241:\tlearn: 0.1891963\ttotal: 171ms\tremaining: 535ms\n",
      "242:\tlearn: 0.1884675\ttotal: 171ms\tremaining: 533ms\n",
      "243:\tlearn: 0.1872705\ttotal: 171ms\tremaining: 531ms\n",
      "244:\tlearn: 0.1863333\ttotal: 172ms\tremaining: 530ms\n",
      "245:\tlearn: 0.1859076\ttotal: 172ms\tremaining: 528ms\n",
      "246:\tlearn: 0.1848418\ttotal: 173ms\tremaining: 526ms\n",
      "247:\tlearn: 0.1840312\ttotal: 173ms\tremaining: 525ms\n",
      "248:\tlearn: 0.1826849\ttotal: 174ms\tremaining: 523ms\n",
      "249:\tlearn: 0.1814220\ttotal: 174ms\tremaining: 522ms\n",
      "250:\tlearn: 0.1810033\ttotal: 174ms\tremaining: 520ms\n",
      "251:\tlearn: 0.1801104\ttotal: 175ms\tremaining: 518ms\n",
      "252:\tlearn: 0.1796370\ttotal: 175ms\tremaining: 517ms\n",
      "253:\tlearn: 0.1787484\ttotal: 176ms\tremaining: 516ms\n",
      "254:\tlearn: 0.1773863\ttotal: 176ms\tremaining: 515ms\n",
      "255:\tlearn: 0.1767487\ttotal: 177ms\tremaining: 514ms\n",
      "256:\tlearn: 0.1754202\ttotal: 177ms\tremaining: 512ms\n",
      "257:\tlearn: 0.1745239\ttotal: 178ms\tremaining: 511ms\n",
      "258:\tlearn: 0.1733435\ttotal: 178ms\tremaining: 510ms\n",
      "259:\tlearn: 0.1729077\ttotal: 179ms\tremaining: 508ms\n",
      "260:\tlearn: 0.1717841\ttotal: 179ms\tremaining: 507ms\n",
      "261:\tlearn: 0.1713061\ttotal: 179ms\tremaining: 505ms\n",
      "262:\tlearn: 0.1708845\ttotal: 180ms\tremaining: 504ms\n",
      "263:\tlearn: 0.1704085\ttotal: 180ms\tremaining: 503ms\n",
      "264:\tlearn: 0.1695436\ttotal: 181ms\tremaining: 501ms\n",
      "265:\tlearn: 0.1689734\ttotal: 181ms\tremaining: 500ms\n",
      "266:\tlearn: 0.1685256\ttotal: 182ms\tremaining: 499ms\n",
      "267:\tlearn: 0.1673550\ttotal: 182ms\tremaining: 497ms\n",
      "268:\tlearn: 0.1668978\ttotal: 182ms\tremaining: 496ms\n",
      "269:\tlearn: 0.1661126\ttotal: 183ms\tremaining: 495ms\n",
      "270:\tlearn: 0.1651982\ttotal: 184ms\tremaining: 494ms\n",
      "271:\tlearn: 0.1646710\ttotal: 184ms\tremaining: 492ms\n",
      "272:\tlearn: 0.1642777\ttotal: 184ms\tremaining: 491ms\n",
      "273:\tlearn: 0.1630686\ttotal: 185ms\tremaining: 489ms\n",
      "274:\tlearn: 0.1620226\ttotal: 185ms\tremaining: 488ms\n",
      "275:\tlearn: 0.1607674\ttotal: 186ms\tremaining: 487ms\n",
      "276:\tlearn: 0.1603485\ttotal: 186ms\tremaining: 486ms\n",
      "277:\tlearn: 0.1594820\ttotal: 187ms\tremaining: 485ms\n",
      "278:\tlearn: 0.1584747\ttotal: 187ms\tremaining: 484ms\n",
      "279:\tlearn: 0.1578267\ttotal: 188ms\tremaining: 483ms\n",
      "280:\tlearn: 0.1568358\ttotal: 188ms\tremaining: 482ms\n",
      "281:\tlearn: 0.1558896\ttotal: 189ms\tremaining: 480ms\n",
      "282:\tlearn: 0.1554743\ttotal: 189ms\tremaining: 479ms\n",
      "283:\tlearn: 0.1542765\ttotal: 190ms\tremaining: 478ms\n",
      "284:\tlearn: 0.1535082\ttotal: 190ms\tremaining: 477ms\n",
      "285:\tlearn: 0.1526758\ttotal: 191ms\tremaining: 477ms\n",
      "286:\tlearn: 0.1522633\ttotal: 191ms\tremaining: 475ms\n",
      "287:\tlearn: 0.1513088\ttotal: 192ms\tremaining: 475ms\n",
      "288:\tlearn: 0.1508064\ttotal: 192ms\tremaining: 473ms\n",
      "289:\tlearn: 0.1498492\ttotal: 193ms\tremaining: 472ms\n",
      "290:\tlearn: 0.1490983\ttotal: 193ms\tremaining: 471ms\n",
      "291:\tlearn: 0.1486303\ttotal: 194ms\tremaining: 470ms\n",
      "292:\tlearn: 0.1477073\ttotal: 194ms\tremaining: 469ms\n",
      "293:\tlearn: 0.1466652\ttotal: 195ms\tremaining: 468ms\n",
      "294:\tlearn: 0.1463374\ttotal: 195ms\tremaining: 467ms\n",
      "295:\tlearn: 0.1456596\ttotal: 196ms\tremaining: 466ms\n",
      "296:\tlearn: 0.1449328\ttotal: 196ms\tremaining: 464ms\n",
      "297:\tlearn: 0.1440481\ttotal: 197ms\tremaining: 463ms\n",
      "298:\tlearn: 0.1431975\ttotal: 197ms\tremaining: 462ms\n",
      "299:\tlearn: 0.1421155\ttotal: 198ms\tremaining: 461ms\n",
      "300:\tlearn: 0.1411778\ttotal: 198ms\tremaining: 460ms\n",
      "301:\tlearn: 0.1403219\ttotal: 198ms\tremaining: 459ms\n",
      "302:\tlearn: 0.1395137\ttotal: 199ms\tremaining: 457ms\n",
      "303:\tlearn: 0.1385803\ttotal: 199ms\tremaining: 456ms\n",
      "304:\tlearn: 0.1376450\ttotal: 200ms\tremaining: 455ms\n",
      "305:\tlearn: 0.1372363\ttotal: 200ms\tremaining: 454ms\n",
      "306:\tlearn: 0.1364155\ttotal: 201ms\tremaining: 453ms\n",
      "307:\tlearn: 0.1353161\ttotal: 201ms\tremaining: 453ms\n",
      "308:\tlearn: 0.1345198\ttotal: 202ms\tremaining: 452ms\n",
      "309:\tlearn: 0.1337514\ttotal: 202ms\tremaining: 450ms\n",
      "310:\tlearn: 0.1333515\ttotal: 203ms\tremaining: 450ms\n",
      "311:\tlearn: 0.1326840\ttotal: 203ms\tremaining: 449ms\n",
      "312:\tlearn: 0.1320244\ttotal: 204ms\tremaining: 448ms\n",
      "313:\tlearn: 0.1309328\ttotal: 204ms\tremaining: 447ms\n",
      "314:\tlearn: 0.1305912\ttotal: 205ms\tremaining: 446ms\n",
      "315:\tlearn: 0.1302299\ttotal: 205ms\tremaining: 444ms\n",
      "316:\tlearn: 0.1295929\ttotal: 206ms\tremaining: 443ms\n",
      "317:\tlearn: 0.1293165\ttotal: 206ms\tremaining: 442ms\n",
      "318:\tlearn: 0.1290117\ttotal: 207ms\tremaining: 441ms\n",
      "319:\tlearn: 0.1282469\ttotal: 207ms\tremaining: 440ms\n",
      "320:\tlearn: 0.1276044\ttotal: 207ms\tremaining: 439ms\n",
      "321:\tlearn: 0.1268295\ttotal: 208ms\tremaining: 438ms\n",
      "322:\tlearn: 0.1265534\ttotal: 208ms\tremaining: 437ms\n",
      "323:\tlearn: 0.1258505\ttotal: 209ms\tremaining: 436ms\n",
      "324:\tlearn: 0.1250952\ttotal: 209ms\tremaining: 434ms\n",
      "325:\tlearn: 0.1241052\ttotal: 210ms\tremaining: 434ms\n",
      "326:\tlearn: 0.1234925\ttotal: 210ms\tremaining: 432ms\n",
      "327:\tlearn: 0.1227058\ttotal: 211ms\tremaining: 431ms\n",
      "328:\tlearn: 0.1224479\ttotal: 211ms\tremaining: 431ms\n",
      "329:\tlearn: 0.1216578\ttotal: 212ms\tremaining: 430ms\n",
      "330:\tlearn: 0.1210744\ttotal: 212ms\tremaining: 429ms\n",
      "331:\tlearn: 0.1205119\ttotal: 213ms\tremaining: 428ms\n",
      "332:\tlearn: 0.1198598\ttotal: 213ms\tremaining: 427ms\n",
      "333:\tlearn: 0.1190811\ttotal: 213ms\tremaining: 426ms\n",
      "334:\tlearn: 0.1188324\ttotal: 214ms\tremaining: 424ms\n",
      "335:\tlearn: 0.1181224\ttotal: 214ms\tremaining: 423ms\n",
      "336:\tlearn: 0.1178776\ttotal: 215ms\tremaining: 422ms\n",
      "337:\tlearn: 0.1169666\ttotal: 215ms\tremaining: 422ms\n",
      "338:\tlearn: 0.1162848\ttotal: 216ms\tremaining: 421ms\n",
      "339:\tlearn: 0.1156553\ttotal: 216ms\tremaining: 419ms\n",
      "340:\tlearn: 0.1151059\ttotal: 217ms\tremaining: 418ms\n",
      "341:\tlearn: 0.1142290\ttotal: 217ms\tremaining: 417ms\n",
      "342:\tlearn: 0.1136263\ttotal: 217ms\tremaining: 416ms\n",
      "343:\tlearn: 0.1130495\ttotal: 218ms\tremaining: 415ms\n",
      "344:\tlearn: 0.1124214\ttotal: 218ms\tremaining: 415ms\n",
      "345:\tlearn: 0.1118857\ttotal: 219ms\tremaining: 414ms\n",
      "346:\tlearn: 0.1113609\ttotal: 219ms\tremaining: 413ms\n",
      "347:\tlearn: 0.1108464\ttotal: 220ms\tremaining: 412ms\n",
      "348:\tlearn: 0.1105784\ttotal: 220ms\tremaining: 411ms\n",
      "349:\tlearn: 0.1099337\ttotal: 221ms\tremaining: 410ms\n",
      "350:\tlearn: 0.1090558\ttotal: 222ms\tremaining: 410ms\n",
      "351:\tlearn: 0.1083919\ttotal: 222ms\tremaining: 409ms\n",
      "352:\tlearn: 0.1077452\ttotal: 222ms\tremaining: 408ms\n",
      "353:\tlearn: 0.1072556\ttotal: 223ms\tremaining: 407ms\n",
      "354:\tlearn: 0.1067770\ttotal: 223ms\tremaining: 406ms\n",
      "355:\tlearn: 0.1063091\ttotal: 224ms\tremaining: 405ms\n",
      "356:\tlearn: 0.1056941\ttotal: 224ms\tremaining: 404ms\n",
      "357:\tlearn: 0.1051214\ttotal: 225ms\tremaining: 403ms\n",
      "358:\tlearn: 0.1048642\ttotal: 225ms\tremaining: 403ms\n",
      "359:\tlearn: 0.1042187\ttotal: 226ms\tremaining: 401ms\n",
      "360:\tlearn: 0.1034399\ttotal: 226ms\tremaining: 400ms\n",
      "361:\tlearn: 0.1027134\ttotal: 227ms\tremaining: 400ms\n",
      "362:\tlearn: 0.1019145\ttotal: 227ms\tremaining: 399ms\n"
     ]
    },
    {
     "name": "stdout",
     "output_type": "stream",
     "text": [
      "363:\tlearn: 0.1011834\ttotal: 228ms\tremaining: 398ms\n",
      "364:\tlearn: 0.1007334\ttotal: 229ms\tremaining: 398ms\n",
      "365:\tlearn: 0.1000227\ttotal: 229ms\tremaining: 397ms\n",
      "366:\tlearn: 0.0993269\ttotal: 230ms\tremaining: 396ms\n",
      "367:\tlearn: 0.0989291\ttotal: 230ms\tremaining: 395ms\n",
      "368:\tlearn: 0.0984981\ttotal: 231ms\tremaining: 394ms\n",
      "369:\tlearn: 0.0977297\ttotal: 231ms\tremaining: 394ms\n",
      "370:\tlearn: 0.0975102\ttotal: 232ms\tremaining: 393ms\n",
      "371:\tlearn: 0.0968063\ttotal: 232ms\tremaining: 392ms\n",
      "372:\tlearn: 0.0960588\ttotal: 233ms\tremaining: 391ms\n",
      "373:\tlearn: 0.0953954\ttotal: 233ms\tremaining: 390ms\n",
      "374:\tlearn: 0.0951756\ttotal: 234ms\tremaining: 389ms\n",
      "375:\tlearn: 0.0946623\ttotal: 234ms\tremaining: 389ms\n",
      "376:\tlearn: 0.0941309\ttotal: 235ms\tremaining: 388ms\n",
      "377:\tlearn: 0.0937362\ttotal: 235ms\tremaining: 387ms\n",
      "378:\tlearn: 0.0930384\ttotal: 236ms\tremaining: 386ms\n",
      "379:\tlearn: 0.0924665\ttotal: 236ms\tremaining: 385ms\n",
      "380:\tlearn: 0.0918371\ttotal: 236ms\tremaining: 384ms\n",
      "381:\tlearn: 0.0911693\ttotal: 237ms\tremaining: 383ms\n",
      "382:\tlearn: 0.0908292\ttotal: 237ms\tremaining: 382ms\n",
      "383:\tlearn: 0.0906537\ttotal: 238ms\tremaining: 381ms\n",
      "384:\tlearn: 0.0904108\ttotal: 238ms\tremaining: 380ms\n",
      "385:\tlearn: 0.0897644\ttotal: 238ms\tremaining: 379ms\n",
      "386:\tlearn: 0.0891426\ttotal: 239ms\tremaining: 378ms\n",
      "387:\tlearn: 0.0885189\ttotal: 239ms\tremaining: 378ms\n",
      "388:\tlearn: 0.0879050\ttotal: 240ms\tremaining: 377ms\n",
      "389:\tlearn: 0.0873050\ttotal: 240ms\tremaining: 376ms\n",
      "390:\tlearn: 0.0869666\ttotal: 241ms\tremaining: 375ms\n",
      "391:\tlearn: 0.0863757\ttotal: 241ms\tremaining: 374ms\n",
      "392:\tlearn: 0.0861493\ttotal: 242ms\tremaining: 373ms\n",
      "393:\tlearn: 0.0855552\ttotal: 242ms\tremaining: 372ms\n",
      "394:\tlearn: 0.0849763\ttotal: 243ms\tremaining: 371ms\n",
      "395:\tlearn: 0.0846344\ttotal: 243ms\tremaining: 370ms\n",
      "396:\tlearn: 0.0839940\ttotal: 243ms\tremaining: 370ms\n",
      "397:\tlearn: 0.0834090\ttotal: 244ms\tremaining: 369ms\n",
      "398:\tlearn: 0.0831933\ttotal: 244ms\tremaining: 368ms\n",
      "399:\tlearn: 0.0826208\ttotal: 245ms\tremaining: 367ms\n",
      "400:\tlearn: 0.0824088\ttotal: 245ms\tremaining: 366ms\n",
      "401:\tlearn: 0.0819585\ttotal: 246ms\tremaining: 365ms\n",
      "402:\tlearn: 0.0815163\ttotal: 246ms\tremaining: 365ms\n",
      "403:\tlearn: 0.0808763\ttotal: 247ms\tremaining: 364ms\n",
      "404:\tlearn: 0.0804451\ttotal: 247ms\tremaining: 363ms\n",
      "405:\tlearn: 0.0797738\ttotal: 247ms\tremaining: 362ms\n",
      "406:\tlearn: 0.0794301\ttotal: 248ms\tremaining: 361ms\n",
      "407:\tlearn: 0.0788399\ttotal: 248ms\tremaining: 360ms\n",
      "408:\tlearn: 0.0783178\ttotal: 249ms\tremaining: 359ms\n",
      "409:\tlearn: 0.0781205\ttotal: 249ms\tremaining: 358ms\n",
      "410:\tlearn: 0.0775418\ttotal: 250ms\tremaining: 358ms\n",
      "411:\tlearn: 0.0771333\ttotal: 250ms\tremaining: 357ms\n",
      "412:\tlearn: 0.0766974\ttotal: 251ms\tremaining: 356ms\n",
      "413:\tlearn: 0.0760494\ttotal: 251ms\tremaining: 355ms\n",
      "414:\tlearn: 0.0755351\ttotal: 251ms\tremaining: 354ms\n",
      "415:\tlearn: 0.0751122\ttotal: 252ms\tremaining: 354ms\n",
      "416:\tlearn: 0.0747272\ttotal: 253ms\tremaining: 353ms\n",
      "417:\tlearn: 0.0742254\ttotal: 253ms\tremaining: 352ms\n",
      "418:\tlearn: 0.0737432\ttotal: 253ms\tremaining: 351ms\n",
      "419:\tlearn: 0.0733684\ttotal: 254ms\tremaining: 351ms\n",
      "420:\tlearn: 0.0729262\ttotal: 254ms\tremaining: 350ms\n",
      "421:\tlearn: 0.0725300\ttotal: 255ms\tremaining: 349ms\n",
      "422:\tlearn: 0.0721002\ttotal: 255ms\tremaining: 348ms\n",
      "423:\tlearn: 0.0716004\ttotal: 256ms\tremaining: 347ms\n",
      "424:\tlearn: 0.0712174\ttotal: 256ms\tremaining: 346ms\n",
      "425:\tlearn: 0.0707552\ttotal: 257ms\tremaining: 346ms\n",
      "426:\tlearn: 0.0703813\ttotal: 257ms\tremaining: 345ms\n",
      "427:\tlearn: 0.0698779\ttotal: 257ms\tremaining: 344ms\n",
      "428:\tlearn: 0.0695632\ttotal: 258ms\tremaining: 343ms\n",
      "429:\tlearn: 0.0691266\ttotal: 258ms\tremaining: 342ms\n",
      "430:\tlearn: 0.0687227\ttotal: 259ms\tremaining: 341ms\n",
      "431:\tlearn: 0.0683265\ttotal: 259ms\tremaining: 341ms\n",
      "432:\tlearn: 0.0679727\ttotal: 260ms\tremaining: 340ms\n",
      "433:\tlearn: 0.0674411\ttotal: 260ms\tremaining: 339ms\n",
      "434:\tlearn: 0.0670095\ttotal: 260ms\tremaining: 338ms\n",
      "435:\tlearn: 0.0666299\ttotal: 261ms\tremaining: 337ms\n",
      "436:\tlearn: 0.0662866\ttotal: 261ms\tremaining: 337ms\n",
      "437:\tlearn: 0.0660049\ttotal: 262ms\tremaining: 336ms\n",
      "438:\tlearn: 0.0656114\ttotal: 262ms\tremaining: 335ms\n",
      "439:\tlearn: 0.0652988\ttotal: 263ms\tremaining: 334ms\n",
      "440:\tlearn: 0.0649135\ttotal: 263ms\tremaining: 334ms\n",
      "441:\tlearn: 0.0645104\ttotal: 264ms\tremaining: 333ms\n",
      "442:\tlearn: 0.0642110\ttotal: 264ms\tremaining: 332ms\n",
      "443:\tlearn: 0.0638188\ttotal: 265ms\tremaining: 331ms\n",
      "444:\tlearn: 0.0634921\ttotal: 265ms\tremaining: 331ms\n",
      "445:\tlearn: 0.0632060\ttotal: 266ms\tremaining: 330ms\n",
      "446:\tlearn: 0.0628263\ttotal: 266ms\tremaining: 329ms\n",
      "447:\tlearn: 0.0623666\ttotal: 267ms\tremaining: 328ms\n",
      "448:\tlearn: 0.0619952\ttotal: 267ms\tremaining: 328ms\n",
      "449:\tlearn: 0.0617104\ttotal: 267ms\tremaining: 327ms\n",
      "450:\tlearn: 0.0615665\ttotal: 268ms\tremaining: 326ms\n",
      "451:\tlearn: 0.0614247\ttotal: 268ms\tremaining: 325ms\n",
      "452:\tlearn: 0.0611507\ttotal: 269ms\tremaining: 324ms\n",
      "453:\tlearn: 0.0607854\ttotal: 269ms\tremaining: 324ms\n",
      "454:\tlearn: 0.0604504\ttotal: 270ms\tremaining: 323ms\n",
      "455:\tlearn: 0.0601217\ttotal: 270ms\tremaining: 322ms\n",
      "456:\tlearn: 0.0597963\ttotal: 271ms\tremaining: 321ms\n",
      "457:\tlearn: 0.0594971\ttotal: 271ms\tremaining: 321ms\n",
      "458:\tlearn: 0.0592038\ttotal: 272ms\tremaining: 320ms\n",
      "459:\tlearn: 0.0589659\ttotal: 272ms\tremaining: 319ms\n",
      "460:\tlearn: 0.0588341\ttotal: 273ms\tremaining: 319ms\n",
      "461:\tlearn: 0.0585461\ttotal: 273ms\tremaining: 318ms\n",
      "462:\tlearn: 0.0582275\ttotal: 274ms\tremaining: 317ms\n",
      "463:\tlearn: 0.0579198\ttotal: 274ms\tremaining: 317ms\n",
      "464:\tlearn: 0.0576531\ttotal: 275ms\tremaining: 316ms\n",
      "465:\tlearn: 0.0573930\ttotal: 275ms\tremaining: 315ms\n",
      "466:\tlearn: 0.0570984\ttotal: 275ms\tremaining: 314ms\n",
      "467:\tlearn: 0.0567178\ttotal: 276ms\tremaining: 313ms\n",
      "468:\tlearn: 0.0565898\ttotal: 276ms\tremaining: 313ms\n",
      "469:\tlearn: 0.0562198\ttotal: 277ms\tremaining: 312ms\n",
      "470:\tlearn: 0.0558630\ttotal: 277ms\tremaining: 311ms\n",
      "471:\tlearn: 0.0555147\ttotal: 278ms\tremaining: 311ms\n",
      "472:\tlearn: 0.0551747\ttotal: 278ms\tremaining: 310ms\n",
      "473:\tlearn: 0.0548640\ttotal: 279ms\tremaining: 310ms\n",
      "474:\tlearn: 0.0546409\ttotal: 279ms\tremaining: 309ms\n",
      "475:\tlearn: 0.0543296\ttotal: 280ms\tremaining: 308ms\n",
      "476:\tlearn: 0.0541696\ttotal: 280ms\tremaining: 308ms\n",
      "477:\tlearn: 0.0540375\ttotal: 281ms\tremaining: 307ms\n",
      "478:\tlearn: 0.0537264\ttotal: 281ms\tremaining: 306ms\n",
      "479:\tlearn: 0.0536103\ttotal: 282ms\tremaining: 305ms\n",
      "480:\tlearn: 0.0533056\ttotal: 282ms\tremaining: 305ms\n",
      "481:\tlearn: 0.0529908\ttotal: 283ms\tremaining: 304ms\n",
      "482:\tlearn: 0.0527759\ttotal: 283ms\tremaining: 303ms\n",
      "483:\tlearn: 0.0524707\ttotal: 284ms\tremaining: 303ms\n",
      "484:\tlearn: 0.0521884\ttotal: 284ms\tremaining: 302ms\n",
      "485:\tlearn: 0.0519527\ttotal: 285ms\tremaining: 301ms\n",
      "486:\tlearn: 0.0516281\ttotal: 285ms\tremaining: 301ms\n",
      "487:\tlearn: 0.0514245\ttotal: 286ms\tremaining: 300ms\n",
      "488:\tlearn: 0.0511965\ttotal: 286ms\tremaining: 299ms\n",
      "489:\tlearn: 0.0509092\ttotal: 287ms\tremaining: 299ms\n",
      "490:\tlearn: 0.0506027\ttotal: 287ms\tremaining: 298ms\n",
      "491:\tlearn: 0.0503410\ttotal: 288ms\tremaining: 297ms\n",
      "492:\tlearn: 0.0500862\ttotal: 288ms\tremaining: 297ms\n",
      "493:\tlearn: 0.0498355\ttotal: 289ms\tremaining: 296ms\n",
      "494:\tlearn: 0.0495724\ttotal: 289ms\tremaining: 295ms\n",
      "495:\tlearn: 0.0493245\ttotal: 290ms\tremaining: 294ms\n",
      "496:\tlearn: 0.0490674\ttotal: 290ms\tremaining: 294ms\n",
      "497:\tlearn: 0.0489068\ttotal: 291ms\tremaining: 293ms\n",
      "498:\tlearn: 0.0486556\ttotal: 291ms\tremaining: 292ms\n",
      "499:\tlearn: 0.0484002\ttotal: 291ms\tremaining: 291ms\n",
      "500:\tlearn: 0.0482695\ttotal: 292ms\tremaining: 291ms\n",
      "501:\tlearn: 0.0481618\ttotal: 292ms\tremaining: 290ms\n",
      "502:\tlearn: 0.0479178\ttotal: 293ms\tremaining: 289ms\n",
      "503:\tlearn: 0.0477848\ttotal: 293ms\tremaining: 288ms\n",
      "504:\tlearn: 0.0475458\ttotal: 294ms\tremaining: 288ms\n",
      "505:\tlearn: 0.0474425\ttotal: 294ms\tremaining: 287ms\n",
      "506:\tlearn: 0.0473414\ttotal: 295ms\tremaining: 287ms\n",
      "507:\tlearn: 0.0470952\ttotal: 295ms\tremaining: 286ms\n",
      "508:\tlearn: 0.0469680\ttotal: 296ms\tremaining: 285ms\n",
      "509:\tlearn: 0.0467135\ttotal: 296ms\tremaining: 285ms\n",
      "510:\tlearn: 0.0464753\ttotal: 297ms\tremaining: 284ms\n",
      "511:\tlearn: 0.0464056\ttotal: 297ms\tremaining: 283ms\n",
      "512:\tlearn: 0.0462010\ttotal: 298ms\tremaining: 283ms\n",
      "513:\tlearn: 0.0460257\ttotal: 299ms\tremaining: 282ms\n",
      "514:\tlearn: 0.0458544\ttotal: 299ms\tremaining: 282ms\n",
      "515:\tlearn: 0.0456869\ttotal: 300ms\tremaining: 281ms\n",
      "516:\tlearn: 0.0454431\ttotal: 300ms\tremaining: 280ms\n",
      "517:\tlearn: 0.0452867\ttotal: 300ms\tremaining: 280ms\n",
      "518:\tlearn: 0.0451219\ttotal: 301ms\tremaining: 279ms\n",
      "519:\tlearn: 0.0448836\ttotal: 301ms\tremaining: 278ms\n",
      "520:\tlearn: 0.0447116\ttotal: 302ms\tremaining: 277ms\n",
      "521:\tlearn: 0.0445539\ttotal: 302ms\tremaining: 277ms\n",
      "522:\tlearn: 0.0443205\ttotal: 303ms\tremaining: 276ms\n",
      "523:\tlearn: 0.0441557\ttotal: 303ms\tremaining: 275ms\n",
      "524:\tlearn: 0.0440049\ttotal: 303ms\tremaining: 275ms\n",
      "525:\tlearn: 0.0437762\ttotal: 304ms\tremaining: 274ms\n",
      "526:\tlearn: 0.0436060\ttotal: 304ms\tremaining: 273ms\n",
      "527:\tlearn: 0.0434504\ttotal: 305ms\tremaining: 272ms\n",
      "528:\tlearn: 0.0433079\ttotal: 305ms\tremaining: 272ms\n",
      "529:\tlearn: 0.0430978\ttotal: 306ms\tremaining: 271ms\n",
      "530:\tlearn: 0.0429372\ttotal: 306ms\tremaining: 270ms\n",
      "531:\tlearn: 0.0428005\ttotal: 307ms\tremaining: 270ms\n",
      "532:\tlearn: 0.0426269\ttotal: 307ms\tremaining: 269ms\n",
      "533:\tlearn: 0.0424071\ttotal: 308ms\tremaining: 268ms\n",
      "534:\tlearn: 0.0421916\ttotal: 308ms\tremaining: 268ms\n",
      "535:\tlearn: 0.0419929\ttotal: 309ms\tremaining: 267ms\n",
      "536:\tlearn: 0.0418258\ttotal: 309ms\tremaining: 267ms\n",
      "537:\tlearn: 0.0416010\ttotal: 310ms\tremaining: 266ms\n",
      "538:\tlearn: 0.0414386\ttotal: 310ms\tremaining: 265ms\n",
      "539:\tlearn: 0.0412181\ttotal: 310ms\tremaining: 264ms\n",
      "540:\tlearn: 0.0410602\ttotal: 311ms\tremaining: 264ms\n",
      "541:\tlearn: 0.0408438\ttotal: 311ms\tremaining: 263ms\n",
      "542:\tlearn: 0.0407117\ttotal: 312ms\tremaining: 262ms\n",
      "543:\tlearn: 0.0404995\ttotal: 312ms\tremaining: 262ms\n",
      "544:\tlearn: 0.0403485\ttotal: 313ms\tremaining: 261ms\n",
      "545:\tlearn: 0.0401403\ttotal: 313ms\tremaining: 260ms\n",
      "546:\tlearn: 0.0399935\ttotal: 314ms\tremaining: 260ms\n",
      "547:\tlearn: 0.0397891\ttotal: 314ms\tremaining: 259ms\n",
      "548:\tlearn: 0.0396590\ttotal: 315ms\tremaining: 258ms\n",
      "549:\tlearn: 0.0394586\ttotal: 315ms\tremaining: 258ms\n",
      "550:\tlearn: 0.0393172\ttotal: 315ms\tremaining: 257ms\n",
      "551:\tlearn: 0.0391206\ttotal: 316ms\tremaining: 257ms\n",
      "552:\tlearn: 0.0389467\ttotal: 317ms\tremaining: 256ms\n",
      "553:\tlearn: 0.0388244\ttotal: 317ms\tremaining: 255ms\n",
      "554:\tlearn: 0.0387050\ttotal: 318ms\tremaining: 255ms\n",
      "555:\tlearn: 0.0385926\ttotal: 318ms\tremaining: 254ms\n",
      "556:\tlearn: 0.0384010\ttotal: 319ms\tremaining: 253ms\n"
     ]
    },
    {
     "name": "stdout",
     "output_type": "stream",
     "text": [
      "557:\tlearn: 0.0382718\ttotal: 319ms\tremaining: 253ms\n",
      "558:\tlearn: 0.0380945\ttotal: 320ms\tremaining: 252ms\n",
      "559:\tlearn: 0.0379688\ttotal: 320ms\tremaining: 252ms\n",
      "560:\tlearn: 0.0377964\ttotal: 321ms\tremaining: 251ms\n",
      "561:\tlearn: 0.0376880\ttotal: 321ms\tremaining: 250ms\n",
      "562:\tlearn: 0.0375687\ttotal: 322ms\tremaining: 250ms\n",
      "563:\tlearn: 0.0373859\ttotal: 322ms\tremaining: 249ms\n",
      "564:\tlearn: 0.0372818\ttotal: 322ms\tremaining: 248ms\n",
      "565:\tlearn: 0.0371682\ttotal: 323ms\tremaining: 247ms\n",
      "566:\tlearn: 0.0369901\ttotal: 323ms\tremaining: 247ms\n",
      "567:\tlearn: 0.0368847\ttotal: 324ms\tremaining: 246ms\n",
      "568:\tlearn: 0.0367101\ttotal: 324ms\tremaining: 246ms\n",
      "569:\tlearn: 0.0365842\ttotal: 325ms\tremaining: 245ms\n",
      "570:\tlearn: 0.0365010\ttotal: 325ms\tremaining: 244ms\n",
      "571:\tlearn: 0.0363791\ttotal: 326ms\tremaining: 244ms\n",
      "572:\tlearn: 0.0362811\ttotal: 326ms\tremaining: 243ms\n",
      "573:\tlearn: 0.0361628\ttotal: 326ms\tremaining: 242ms\n",
      "574:\tlearn: 0.0360828\ttotal: 327ms\tremaining: 242ms\n",
      "575:\tlearn: 0.0359683\ttotal: 327ms\tremaining: 241ms\n",
      "576:\tlearn: 0.0358737\ttotal: 328ms\tremaining: 241ms\n",
      "577:\tlearn: 0.0357560\ttotal: 329ms\tremaining: 240ms\n",
      "578:\tlearn: 0.0356453\ttotal: 329ms\tremaining: 239ms\n",
      "579:\tlearn: 0.0355305\ttotal: 329ms\tremaining: 238ms\n",
      "580:\tlearn: 0.0354408\ttotal: 330ms\tremaining: 238ms\n",
      "581:\tlearn: 0.0353293\ttotal: 330ms\tremaining: 237ms\n",
      "582:\tlearn: 0.0352433\ttotal: 331ms\tremaining: 236ms\n",
      "583:\tlearn: 0.0351524\ttotal: 331ms\tremaining: 236ms\n",
      "584:\tlearn: 0.0350775\ttotal: 332ms\tremaining: 235ms\n",
      "585:\tlearn: 0.0349581\ttotal: 332ms\tremaining: 235ms\n",
      "586:\tlearn: 0.0348476\ttotal: 333ms\tremaining: 234ms\n",
      "587:\tlearn: 0.0347592\ttotal: 333ms\tremaining: 233ms\n",
      "588:\tlearn: 0.0346745\ttotal: 334ms\tremaining: 233ms\n",
      "589:\tlearn: 0.0345668\ttotal: 334ms\tremaining: 232ms\n",
      "590:\tlearn: 0.0343301\ttotal: 334ms\tremaining: 231ms\n",
      "591:\tlearn: 0.0342383\ttotal: 335ms\tremaining: 231ms\n",
      "592:\tlearn: 0.0340082\ttotal: 335ms\tremaining: 230ms\n",
      "593:\tlearn: 0.0339048\ttotal: 336ms\tremaining: 229ms\n",
      "594:\tlearn: 0.0336812\ttotal: 336ms\tremaining: 229ms\n",
      "595:\tlearn: 0.0335929\ttotal: 336ms\tremaining: 228ms\n",
      "596:\tlearn: 0.0333756\ttotal: 337ms\tremaining: 227ms\n",
      "597:\tlearn: 0.0332776\ttotal: 337ms\tremaining: 227ms\n",
      "598:\tlearn: 0.0330592\ttotal: 338ms\tremaining: 226ms\n",
      "599:\tlearn: 0.0329449\ttotal: 338ms\tremaining: 225ms\n",
      "600:\tlearn: 0.0327385\ttotal: 338ms\tremaining: 225ms\n",
      "601:\tlearn: 0.0326351\ttotal: 339ms\tremaining: 224ms\n",
      "602:\tlearn: 0.0325595\ttotal: 339ms\tremaining: 223ms\n",
      "603:\tlearn: 0.0324666\ttotal: 340ms\tremaining: 223ms\n",
      "604:\tlearn: 0.0323762\ttotal: 341ms\tremaining: 222ms\n",
      "605:\tlearn: 0.0323025\ttotal: 341ms\tremaining: 222ms\n",
      "606:\tlearn: 0.0321872\ttotal: 342ms\tremaining: 221ms\n",
      "607:\tlearn: 0.0321001\ttotal: 342ms\tremaining: 221ms\n",
      "608:\tlearn: 0.0320153\ttotal: 343ms\tremaining: 220ms\n",
      "609:\tlearn: 0.0318143\ttotal: 343ms\tremaining: 219ms\n",
      "610:\tlearn: 0.0317180\ttotal: 343ms\tremaining: 219ms\n",
      "611:\tlearn: 0.0315217\ttotal: 344ms\tremaining: 218ms\n",
      "612:\tlearn: 0.0313208\ttotal: 344ms\tremaining: 217ms\n",
      "613:\tlearn: 0.0312051\ttotal: 345ms\tremaining: 217ms\n",
      "614:\tlearn: 0.0310912\ttotal: 345ms\tremaining: 216ms\n",
      "615:\tlearn: 0.0309560\ttotal: 345ms\tremaining: 215ms\n",
      "616:\tlearn: 0.0308468\ttotal: 346ms\tremaining: 215ms\n",
      "617:\tlearn: 0.0306605\ttotal: 346ms\tremaining: 214ms\n",
      "618:\tlearn: 0.0304819\ttotal: 347ms\tremaining: 213ms\n",
      "619:\tlearn: 0.0303075\ttotal: 347ms\tremaining: 213ms\n",
      "620:\tlearn: 0.0301270\ttotal: 348ms\tremaining: 212ms\n",
      "621:\tlearn: 0.0299574\ttotal: 349ms\tremaining: 212ms\n",
      "622:\tlearn: 0.0297816\ttotal: 349ms\tremaining: 211ms\n",
      "623:\tlearn: 0.0296168\ttotal: 350ms\tremaining: 211ms\n",
      "624:\tlearn: 0.0294559\ttotal: 350ms\tremaining: 210ms\n",
      "625:\tlearn: 0.0292800\ttotal: 351ms\tremaining: 210ms\n",
      "626:\tlearn: 0.0291085\ttotal: 351ms\tremaining: 209ms\n",
      "627:\tlearn: 0.0289525\ttotal: 352ms\tremaining: 208ms\n",
      "628:\tlearn: 0.0287859\ttotal: 352ms\tremaining: 208ms\n",
      "629:\tlearn: 0.0286339\ttotal: 353ms\tremaining: 207ms\n",
      "630:\tlearn: 0.0285069\ttotal: 353ms\tremaining: 206ms\n",
      "631:\tlearn: 0.0283400\ttotal: 353ms\tremaining: 206ms\n",
      "632:\tlearn: 0.0282580\ttotal: 354ms\tremaining: 205ms\n",
      "633:\tlearn: 0.0280906\ttotal: 354ms\tremaining: 205ms\n",
      "634:\tlearn: 0.0279554\ttotal: 355ms\tremaining: 204ms\n",
      "635:\tlearn: 0.0278750\ttotal: 356ms\tremaining: 204ms\n",
      "636:\tlearn: 0.0277425\ttotal: 356ms\tremaining: 203ms\n",
      "637:\tlearn: 0.0276126\ttotal: 357ms\tremaining: 202ms\n",
      "638:\tlearn: 0.0274853\ttotal: 357ms\tremaining: 202ms\n",
      "639:\tlearn: 0.0274066\ttotal: 357ms\tremaining: 201ms\n",
      "640:\tlearn: 0.0272673\ttotal: 358ms\tremaining: 200ms\n",
      "641:\tlearn: 0.0271859\ttotal: 358ms\tremaining: 200ms\n",
      "642:\tlearn: 0.0271091\ttotal: 359ms\tremaining: 199ms\n",
      "643:\tlearn: 0.0269926\ttotal: 359ms\tremaining: 199ms\n",
      "644:\tlearn: 0.0269605\ttotal: 360ms\tremaining: 198ms\n",
      "645:\tlearn: 0.0269288\ttotal: 360ms\tremaining: 197ms\n",
      "646:\tlearn: 0.0267937\ttotal: 361ms\tremaining: 197ms\n",
      "647:\tlearn: 0.0266629\ttotal: 361ms\tremaining: 196ms\n",
      "648:\tlearn: 0.0266318\ttotal: 362ms\tremaining: 196ms\n",
      "649:\tlearn: 0.0266012\ttotal: 362ms\tremaining: 195ms\n",
      "650:\tlearn: 0.0264676\ttotal: 363ms\tremaining: 194ms\n",
      "651:\tlearn: 0.0263480\ttotal: 363ms\tremaining: 194ms\n",
      "652:\tlearn: 0.0262308\ttotal: 364ms\tremaining: 193ms\n",
      "653:\tlearn: 0.0261159\ttotal: 364ms\tremaining: 193ms\n",
      "654:\tlearn: 0.0259806\ttotal: 365ms\tremaining: 192ms\n",
      "655:\tlearn: 0.0258552\ttotal: 365ms\tremaining: 192ms\n",
      "656:\tlearn: 0.0257056\ttotal: 366ms\tremaining: 191ms\n",
      "657:\tlearn: 0.0255946\ttotal: 366ms\tremaining: 190ms\n",
      "658:\tlearn: 0.0254919\ttotal: 367ms\tremaining: 190ms\n",
      "659:\tlearn: 0.0253836\ttotal: 367ms\tremaining: 189ms\n",
      "660:\tlearn: 0.0253555\ttotal: 367ms\tremaining: 188ms\n",
      "661:\tlearn: 0.0252266\ttotal: 368ms\tremaining: 188ms\n",
      "662:\tlearn: 0.0250828\ttotal: 368ms\tremaining: 187ms\n",
      "663:\tlearn: 0.0249841\ttotal: 369ms\tremaining: 186ms\n",
      "664:\tlearn: 0.0248631\ttotal: 369ms\tremaining: 186ms\n",
      "665:\tlearn: 0.0247675\ttotal: 369ms\tremaining: 185ms\n",
      "666:\tlearn: 0.0246430\ttotal: 370ms\tremaining: 185ms\n",
      "667:\tlearn: 0.0245526\ttotal: 370ms\tremaining: 184ms\n",
      "668:\tlearn: 0.0244392\ttotal: 371ms\tremaining: 183ms\n",
      "669:\tlearn: 0.0243360\ttotal: 371ms\tremaining: 183ms\n",
      "670:\tlearn: 0.0242294\ttotal: 372ms\tremaining: 182ms\n",
      "671:\tlearn: 0.0241291\ttotal: 372ms\tremaining: 182ms\n",
      "672:\tlearn: 0.0240252\ttotal: 373ms\tremaining: 181ms\n",
      "673:\tlearn: 0.0239278\ttotal: 373ms\tremaining: 180ms\n",
      "674:\tlearn: 0.0238266\ttotal: 373ms\tremaining: 180ms\n",
      "675:\tlearn: 0.0238008\ttotal: 374ms\tremaining: 179ms\n",
      "676:\tlearn: 0.0237755\ttotal: 374ms\tremaining: 179ms\n",
      "677:\tlearn: 0.0237505\ttotal: 375ms\tremaining: 178ms\n",
      "678:\tlearn: 0.0236356\ttotal: 375ms\tremaining: 177ms\n",
      "679:\tlearn: 0.0235373\ttotal: 376ms\tremaining: 177ms\n",
      "680:\tlearn: 0.0234564\ttotal: 377ms\tremaining: 176ms\n",
      "681:\tlearn: 0.0233644\ttotal: 377ms\tremaining: 176ms\n",
      "682:\tlearn: 0.0232749\ttotal: 377ms\tremaining: 175ms\n",
      "683:\tlearn: 0.0231651\ttotal: 378ms\tremaining: 175ms\n",
      "684:\tlearn: 0.0230630\ttotal: 378ms\tremaining: 174ms\n",
      "685:\tlearn: 0.0229760\ttotal: 379ms\tremaining: 173ms\n",
      "686:\tlearn: 0.0228764\ttotal: 379ms\tremaining: 173ms\n",
      "687:\tlearn: 0.0228457\ttotal: 379ms\tremaining: 172ms\n",
      "688:\tlearn: 0.0227342\ttotal: 380ms\tremaining: 172ms\n",
      "689:\tlearn: 0.0226271\ttotal: 380ms\tremaining: 171ms\n",
      "690:\tlearn: 0.0225239\ttotal: 381ms\tremaining: 170ms\n",
      "691:\tlearn: 0.0224075\ttotal: 381ms\tremaining: 170ms\n",
      "692:\tlearn: 0.0223784\ttotal: 383ms\tremaining: 169ms\n",
      "693:\tlearn: 0.0222793\ttotal: 383ms\tremaining: 169ms\n",
      "694:\tlearn: 0.0222509\ttotal: 384ms\tremaining: 168ms\n",
      "695:\tlearn: 0.0221514\ttotal: 384ms\tremaining: 168ms\n",
      "696:\tlearn: 0.0220797\ttotal: 385ms\tremaining: 167ms\n",
      "697:\tlearn: 0.0219729\ttotal: 385ms\tremaining: 167ms\n",
      "698:\tlearn: 0.0219454\ttotal: 386ms\tremaining: 166ms\n",
      "699:\tlearn: 0.0218310\ttotal: 386ms\tremaining: 165ms\n",
      "700:\tlearn: 0.0218041\ttotal: 387ms\tremaining: 165ms\n",
      "701:\tlearn: 0.0217089\ttotal: 387ms\tremaining: 164ms\n",
      "702:\tlearn: 0.0216394\ttotal: 387ms\tremaining: 164ms\n",
      "703:\tlearn: 0.0215355\ttotal: 388ms\tremaining: 163ms\n",
      "704:\tlearn: 0.0214912\ttotal: 389ms\tremaining: 163ms\n",
      "705:\tlearn: 0.0213983\ttotal: 389ms\tremaining: 162ms\n",
      "706:\tlearn: 0.0213306\ttotal: 389ms\tremaining: 161ms\n",
      "707:\tlearn: 0.0212297\ttotal: 390ms\tremaining: 161ms\n",
      "708:\tlearn: 0.0211698\ttotal: 390ms\tremaining: 160ms\n",
      "709:\tlearn: 0.0211447\ttotal: 391ms\tremaining: 160ms\n",
      "710:\tlearn: 0.0210399\ttotal: 391ms\tremaining: 159ms\n",
      "711:\tlearn: 0.0209978\ttotal: 392ms\tremaining: 159ms\n",
      "712:\tlearn: 0.0209036\ttotal: 392ms\tremaining: 158ms\n",
      "713:\tlearn: 0.0208779\ttotal: 393ms\tremaining: 157ms\n",
      "714:\tlearn: 0.0207893\ttotal: 393ms\tremaining: 157ms\n",
      "715:\tlearn: 0.0207243\ttotal: 394ms\tremaining: 156ms\n",
      "716:\tlearn: 0.0206667\ttotal: 394ms\tremaining: 156ms\n",
      "717:\tlearn: 0.0205652\ttotal: 395ms\tremaining: 155ms\n",
      "718:\tlearn: 0.0205403\ttotal: 395ms\tremaining: 154ms\n",
      "719:\tlearn: 0.0204590\ttotal: 396ms\tremaining: 154ms\n",
      "720:\tlearn: 0.0203607\ttotal: 396ms\tremaining: 153ms\n",
      "721:\tlearn: 0.0202817\ttotal: 397ms\tremaining: 153ms\n",
      "722:\tlearn: 0.0202515\ttotal: 397ms\tremaining: 152ms\n",
      "723:\tlearn: 0.0202238\ttotal: 398ms\tremaining: 152ms\n",
      "724:\tlearn: 0.0201946\ttotal: 398ms\tremaining: 151ms\n",
      "725:\tlearn: 0.0201317\ttotal: 399ms\tremaining: 151ms\n",
      "726:\tlearn: 0.0200552\ttotal: 399ms\tremaining: 150ms\n",
      "727:\tlearn: 0.0200284\ttotal: 400ms\tremaining: 149ms\n",
      "728:\tlearn: 0.0200022\ttotal: 400ms\tremaining: 149ms\n",
      "729:\tlearn: 0.0199744\ttotal: 401ms\tremaining: 148ms\n",
      "730:\tlearn: 0.0199000\ttotal: 401ms\tremaining: 148ms\n",
      "731:\tlearn: 0.0197933\ttotal: 402ms\tremaining: 147ms\n",
      "732:\tlearn: 0.0197294\ttotal: 402ms\tremaining: 147ms\n",
      "733:\tlearn: 0.0196684\ttotal: 403ms\tremaining: 146ms\n",
      "734:\tlearn: 0.0195639\ttotal: 403ms\tremaining: 145ms\n",
      "735:\tlearn: 0.0195009\ttotal: 404ms\tremaining: 145ms\n",
      "736:\tlearn: 0.0194038\ttotal: 404ms\tremaining: 144ms\n",
      "737:\tlearn: 0.0193226\ttotal: 405ms\tremaining: 144ms\n",
      "738:\tlearn: 0.0192639\ttotal: 405ms\tremaining: 143ms\n",
      "739:\tlearn: 0.0192023\ttotal: 406ms\tremaining: 143ms\n",
      "740:\tlearn: 0.0191418\ttotal: 406ms\tremaining: 142ms\n",
      "741:\tlearn: 0.0190840\ttotal: 407ms\tremaining: 141ms\n",
      "742:\tlearn: 0.0189833\ttotal: 407ms\tremaining: 141ms\n",
      "743:\tlearn: 0.0189053\ttotal: 408ms\tremaining: 140ms\n",
      "744:\tlearn: 0.0188123\ttotal: 408ms\tremaining: 140ms\n",
      "745:\tlearn: 0.0187564\ttotal: 409ms\tremaining: 139ms\n",
      "746:\tlearn: 0.0186975\ttotal: 409ms\tremaining: 139ms\n",
      "747:\tlearn: 0.0186424\ttotal: 410ms\tremaining: 138ms\n",
      "748:\tlearn: 0.0185670\ttotal: 410ms\tremaining: 138ms\n",
      "749:\tlearn: 0.0185396\ttotal: 411ms\tremaining: 137ms\n",
      "750:\tlearn: 0.0184427\ttotal: 411ms\tremaining: 136ms\n"
     ]
    },
    {
     "name": "stdout",
     "output_type": "stream",
     "text": [
      "751:\tlearn: 0.0183481\ttotal: 412ms\tremaining: 136ms\n",
      "752:\tlearn: 0.0182624\ttotal: 413ms\tremaining: 135ms\n",
      "753:\tlearn: 0.0182093\ttotal: 413ms\tremaining: 135ms\n",
      "754:\tlearn: 0.0181531\ttotal: 414ms\tremaining: 134ms\n",
      "755:\tlearn: 0.0180578\ttotal: 414ms\tremaining: 134ms\n",
      "756:\tlearn: 0.0179749\ttotal: 414ms\tremaining: 133ms\n",
      "757:\tlearn: 0.0179235\ttotal: 415ms\tremaining: 132ms\n",
      "758:\tlearn: 0.0178523\ttotal: 415ms\tremaining: 132ms\n",
      "759:\tlearn: 0.0178246\ttotal: 416ms\tremaining: 131ms\n",
      "760:\tlearn: 0.0177741\ttotal: 416ms\tremaining: 131ms\n",
      "761:\tlearn: 0.0177025\ttotal: 417ms\tremaining: 130ms\n",
      "762:\tlearn: 0.0176323\ttotal: 417ms\tremaining: 130ms\n",
      "763:\tlearn: 0.0176065\ttotal: 418ms\tremaining: 129ms\n",
      "764:\tlearn: 0.0175379\ttotal: 418ms\tremaining: 129ms\n",
      "765:\tlearn: 0.0175127\ttotal: 419ms\tremaining: 128ms\n",
      "766:\tlearn: 0.0174379\ttotal: 419ms\tremaining: 127ms\n",
      "767:\tlearn: 0.0174113\ttotal: 420ms\tremaining: 127ms\n",
      "768:\tlearn: 0.0173618\ttotal: 420ms\tremaining: 126ms\n",
      "769:\tlearn: 0.0172795\ttotal: 421ms\tremaining: 126ms\n",
      "770:\tlearn: 0.0172550\ttotal: 421ms\tremaining: 125ms\n",
      "771:\tlearn: 0.0171713\ttotal: 422ms\tremaining: 125ms\n",
      "772:\tlearn: 0.0170915\ttotal: 422ms\tremaining: 124ms\n",
      "773:\tlearn: 0.0170663\ttotal: 423ms\tremaining: 123ms\n",
      "774:\tlearn: 0.0169884\ttotal: 423ms\tremaining: 123ms\n",
      "775:\tlearn: 0.0169259\ttotal: 423ms\tremaining: 122ms\n",
      "776:\tlearn: 0.0169016\ttotal: 424ms\tremaining: 122ms\n",
      "777:\tlearn: 0.0168776\ttotal: 424ms\tremaining: 121ms\n",
      "778:\tlearn: 0.0168147\ttotal: 425ms\tremaining: 121ms\n",
      "779:\tlearn: 0.0167541\ttotal: 426ms\tremaining: 120ms\n",
      "780:\tlearn: 0.0167307\ttotal: 426ms\tremaining: 120ms\n",
      "781:\tlearn: 0.0167078\ttotal: 427ms\tremaining: 119ms\n",
      "782:\tlearn: 0.0166452\ttotal: 427ms\tremaining: 118ms\n",
      "783:\tlearn: 0.0165839\ttotal: 428ms\tremaining: 118ms\n",
      "784:\tlearn: 0.0165239\ttotal: 428ms\tremaining: 117ms\n",
      "785:\tlearn: 0.0165013\ttotal: 429ms\tremaining: 117ms\n",
      "786:\tlearn: 0.0164401\ttotal: 429ms\tremaining: 116ms\n",
      "787:\tlearn: 0.0163814\ttotal: 430ms\tremaining: 116ms\n",
      "788:\tlearn: 0.0163591\ttotal: 430ms\tremaining: 115ms\n",
      "789:\tlearn: 0.0162841\ttotal: 431ms\tremaining: 114ms\n",
      "790:\tlearn: 0.0162132\ttotal: 431ms\tremaining: 114ms\n",
      "791:\tlearn: 0.0161917\ttotal: 432ms\tremaining: 113ms\n",
      "792:\tlearn: 0.0161321\ttotal: 432ms\tremaining: 113ms\n",
      "793:\tlearn: 0.0160631\ttotal: 433ms\tremaining: 112ms\n",
      "794:\tlearn: 0.0160421\ttotal: 433ms\tremaining: 112ms\n",
      "795:\tlearn: 0.0160215\ttotal: 434ms\tremaining: 111ms\n",
      "796:\tlearn: 0.0159752\ttotal: 434ms\tremaining: 111ms\n",
      "797:\tlearn: 0.0159198\ttotal: 435ms\tremaining: 110ms\n",
      "798:\tlearn: 0.0158656\ttotal: 435ms\tremaining: 109ms\n",
      "799:\tlearn: 0.0158454\ttotal: 436ms\tremaining: 109ms\n",
      "800:\tlearn: 0.0157875\ttotal: 436ms\tremaining: 108ms\n",
      "801:\tlearn: 0.0157220\ttotal: 437ms\tremaining: 108ms\n",
      "802:\tlearn: 0.0157022\ttotal: 437ms\tremaining: 107ms\n",
      "803:\tlearn: 0.0156447\ttotal: 438ms\tremaining: 107ms\n",
      "804:\tlearn: 0.0155749\ttotal: 438ms\tremaining: 106ms\n",
      "805:\tlearn: 0.0155116\ttotal: 439ms\tremaining: 106ms\n",
      "806:\tlearn: 0.0154496\ttotal: 439ms\tremaining: 105ms\n",
      "807:\tlearn: 0.0153890\ttotal: 439ms\tremaining: 104ms\n",
      "808:\tlearn: 0.0153042\ttotal: 440ms\tremaining: 104ms\n",
      "809:\tlearn: 0.0152659\ttotal: 440ms\tremaining: 103ms\n",
      "810:\tlearn: 0.0152447\ttotal: 440ms\tremaining: 103ms\n",
      "811:\tlearn: 0.0152237\ttotal: 441ms\tremaining: 102ms\n",
      "812:\tlearn: 0.0151484\ttotal: 441ms\tremaining: 102ms\n",
      "813:\tlearn: 0.0150689\ttotal: 442ms\tremaining: 101ms\n",
      "814:\tlearn: 0.0150218\ttotal: 442ms\tremaining: 100ms\n",
      "815:\tlearn: 0.0149453\ttotal: 443ms\tremaining: 99.9ms\n",
      "816:\tlearn: 0.0148916\ttotal: 443ms\tremaining: 99.3ms\n",
      "817:\tlearn: 0.0148555\ttotal: 444ms\tremaining: 98.8ms\n",
      "818:\tlearn: 0.0148370\ttotal: 445ms\tremaining: 98.3ms\n",
      "819:\tlearn: 0.0147763\ttotal: 445ms\tremaining: 97.7ms\n",
      "820:\tlearn: 0.0146992\ttotal: 446ms\tremaining: 97.2ms\n",
      "821:\tlearn: 0.0146811\ttotal: 446ms\tremaining: 96.6ms\n",
      "822:\tlearn: 0.0146059\ttotal: 447ms\tremaining: 96.1ms\n",
      "823:\tlearn: 0.0145707\ttotal: 447ms\tremaining: 95.5ms\n",
      "824:\tlearn: 0.0145335\ttotal: 448ms\tremaining: 94.9ms\n",
      "825:\tlearn: 0.0145160\ttotal: 448ms\tremaining: 94.4ms\n",
      "826:\tlearn: 0.0144815\ttotal: 449ms\tremaining: 93.8ms\n",
      "827:\tlearn: 0.0144641\ttotal: 449ms\tremaining: 93.3ms\n",
      "828:\tlearn: 0.0144049\ttotal: 450ms\tremaining: 92.7ms\n",
      "829:\tlearn: 0.0143691\ttotal: 450ms\tremaining: 92.2ms\n",
      "830:\tlearn: 0.0142956\ttotal: 451ms\tremaining: 91.6ms\n",
      "831:\tlearn: 0.0142785\ttotal: 451ms\tremaining: 91.1ms\n",
      "832:\tlearn: 0.0142617\ttotal: 451ms\tremaining: 90.5ms\n",
      "833:\tlearn: 0.0142062\ttotal: 452ms\tremaining: 90ms\n",
      "834:\tlearn: 0.0141873\ttotal: 453ms\tremaining: 89.4ms\n",
      "835:\tlearn: 0.0141688\ttotal: 453ms\tremaining: 88.9ms\n",
      "836:\tlearn: 0.0140893\ttotal: 454ms\tremaining: 88.3ms\n",
      "837:\tlearn: 0.0140671\ttotal: 454ms\tremaining: 87.8ms\n",
      "838:\tlearn: 0.0140510\ttotal: 455ms\tremaining: 87.2ms\n",
      "839:\tlearn: 0.0139800\ttotal: 455ms\tremaining: 86.7ms\n",
      "840:\tlearn: 0.0139620\ttotal: 456ms\tremaining: 86.1ms\n",
      "841:\tlearn: 0.0139444\ttotal: 456ms\tremaining: 85.6ms\n",
      "842:\tlearn: 0.0139271\ttotal: 457ms\tremaining: 85.1ms\n",
      "843:\tlearn: 0.0138498\ttotal: 457ms\tremaining: 84.5ms\n",
      "844:\tlearn: 0.0138282\ttotal: 458ms\tremaining: 84ms\n",
      "845:\tlearn: 0.0138113\ttotal: 458ms\tremaining: 83.4ms\n",
      "846:\tlearn: 0.0137928\ttotal: 459ms\tremaining: 82.9ms\n",
      "847:\tlearn: 0.0137174\ttotal: 459ms\tremaining: 82.3ms\n",
      "848:\tlearn: 0.0137008\ttotal: 460ms\tremaining: 81.8ms\n",
      "849:\tlearn: 0.0136799\ttotal: 461ms\tremaining: 81.3ms\n",
      "850:\tlearn: 0.0136636\ttotal: 461ms\tremaining: 80.7ms\n",
      "851:\tlearn: 0.0135753\ttotal: 462ms\tremaining: 80.2ms\n",
      "852:\tlearn: 0.0135369\ttotal: 462ms\tremaining: 79.6ms\n",
      "853:\tlearn: 0.0134644\ttotal: 463ms\tremaining: 79.1ms\n",
      "854:\tlearn: 0.0133969\ttotal: 463ms\tremaining: 78.6ms\n",
      "855:\tlearn: 0.0133244\ttotal: 464ms\tremaining: 78ms\n",
      "856:\tlearn: 0.0133043\ttotal: 464ms\tremaining: 77.5ms\n",
      "857:\tlearn: 0.0132336\ttotal: 464ms\tremaining: 76.9ms\n",
      "858:\tlearn: 0.0132045\ttotal: 465ms\tremaining: 76.3ms\n",
      "859:\tlearn: 0.0131393\ttotal: 465ms\tremaining: 75.8ms\n",
      "860:\tlearn: 0.0131089\ttotal: 466ms\tremaining: 75.2ms\n",
      "861:\tlearn: 0.0130543\ttotal: 466ms\tremaining: 74.7ms\n",
      "862:\tlearn: 0.0129833\ttotal: 467ms\tremaining: 74.1ms\n",
      "863:\tlearn: 0.0129149\ttotal: 467ms\tremaining: 73.6ms\n",
      "864:\tlearn: 0.0128531\ttotal: 468ms\tremaining: 73ms\n",
      "865:\tlearn: 0.0127710\ttotal: 468ms\tremaining: 72.5ms\n",
      "866:\tlearn: 0.0126905\ttotal: 469ms\tremaining: 71.9ms\n",
      "867:\tlearn: 0.0126116\ttotal: 469ms\tremaining: 71.3ms\n",
      "868:\tlearn: 0.0125341\ttotal: 470ms\tremaining: 70.8ms\n",
      "869:\tlearn: 0.0124582\ttotal: 470ms\tremaining: 70.3ms\n",
      "870:\tlearn: 0.0123838\ttotal: 471ms\tremaining: 69.7ms\n",
      "871:\tlearn: 0.0123107\ttotal: 471ms\tremaining: 69.2ms\n",
      "872:\tlearn: 0.0122391\ttotal: 472ms\tremaining: 68.6ms\n",
      "873:\tlearn: 0.0121689\ttotal: 472ms\tremaining: 68.1ms\n",
      "874:\tlearn: 0.0121150\ttotal: 473ms\tremaining: 67.5ms\n",
      "875:\tlearn: 0.0120448\ttotal: 473ms\tremaining: 67ms\n",
      "876:\tlearn: 0.0119758\ttotal: 474ms\tremaining: 66.4ms\n",
      "877:\tlearn: 0.0119230\ttotal: 474ms\tremaining: 65.9ms\n",
      "878:\tlearn: 0.0118867\ttotal: 475ms\tremaining: 65.3ms\n",
      "879:\tlearn: 0.0118253\ttotal: 475ms\tremaining: 64.8ms\n",
      "880:\tlearn: 0.0117587\ttotal: 475ms\tremaining: 64.2ms\n",
      "881:\tlearn: 0.0116986\ttotal: 476ms\tremaining: 63.7ms\n",
      "882:\tlearn: 0.0116708\ttotal: 476ms\tremaining: 63.1ms\n",
      "883:\tlearn: 0.0116042\ttotal: 477ms\tremaining: 62.6ms\n",
      "884:\tlearn: 0.0115384\ttotal: 477ms\tremaining: 62ms\n",
      "885:\tlearn: 0.0114730\ttotal: 478ms\tremaining: 61.5ms\n",
      "886:\tlearn: 0.0114259\ttotal: 478ms\tremaining: 60.9ms\n",
      "887:\tlearn: 0.0113625\ttotal: 479ms\tremaining: 60.4ms\n",
      "888:\tlearn: 0.0113282\ttotal: 479ms\tremaining: 59.8ms\n",
      "889:\tlearn: 0.0112709\ttotal: 479ms\tremaining: 59.3ms\n",
      "890:\tlearn: 0.0112090\ttotal: 480ms\tremaining: 58.7ms\n",
      "891:\tlearn: 0.0111392\ttotal: 480ms\tremaining: 58.1ms\n",
      "892:\tlearn: 0.0110773\ttotal: 481ms\tremaining: 57.6ms\n",
      "893:\tlearn: 0.0110293\ttotal: 481ms\tremaining: 57ms\n",
      "894:\tlearn: 0.0109672\ttotal: 482ms\tremaining: 56.5ms\n",
      "895:\tlearn: 0.0109344\ttotal: 482ms\tremaining: 56ms\n",
      "896:\tlearn: 0.0108736\ttotal: 483ms\tremaining: 55.5ms\n",
      "897:\tlearn: 0.0108145\ttotal: 483ms\tremaining: 54.9ms\n",
      "898:\tlearn: 0.0107809\ttotal: 484ms\tremaining: 54.3ms\n",
      "899:\tlearn: 0.0107554\ttotal: 484ms\tremaining: 53.8ms\n",
      "900:\tlearn: 0.0107089\ttotal: 485ms\tremaining: 53.2ms\n",
      "901:\tlearn: 0.0106442\ttotal: 485ms\tremaining: 52.7ms\n",
      "902:\tlearn: 0.0106130\ttotal: 486ms\tremaining: 52.2ms\n",
      "903:\tlearn: 0.0105674\ttotal: 486ms\tremaining: 51.6ms\n",
      "904:\tlearn: 0.0105371\ttotal: 487ms\tremaining: 51.1ms\n",
      "905:\tlearn: 0.0104787\ttotal: 487ms\tremaining: 50.5ms\n",
      "906:\tlearn: 0.0104261\ttotal: 488ms\tremaining: 50ms\n",
      "907:\tlearn: 0.0103606\ttotal: 488ms\tremaining: 49.5ms\n",
      "908:\tlearn: 0.0103290\ttotal: 489ms\tremaining: 48.9ms\n",
      "909:\tlearn: 0.0103049\ttotal: 489ms\tremaining: 48.4ms\n",
      "910:\tlearn: 0.0102430\ttotal: 490ms\tremaining: 47.8ms\n",
      "911:\tlearn: 0.0102195\ttotal: 490ms\tremaining: 47.3ms\n",
      "912:\tlearn: 0.0101836\ttotal: 490ms\tremaining: 46.7ms\n",
      "913:\tlearn: 0.0101482\ttotal: 491ms\tremaining: 46.2ms\n",
      "914:\tlearn: 0.0101134\ttotal: 491ms\tremaining: 45.7ms\n",
      "915:\tlearn: 0.0100856\ttotal: 492ms\tremaining: 45.1ms\n",
      "916:\tlearn: 0.0100258\ttotal: 492ms\tremaining: 44.6ms\n",
      "917:\tlearn: 0.0099981\ttotal: 493ms\tremaining: 44ms\n",
      "918:\tlearn: 0.0099641\ttotal: 493ms\tremaining: 43.5ms\n",
      "919:\tlearn: 0.0099411\ttotal: 494ms\tremaining: 42.9ms\n",
      "920:\tlearn: 0.0099077\ttotal: 494ms\tremaining: 42.4ms\n",
      "921:\tlearn: 0.0098579\ttotal: 495ms\tremaining: 41.9ms\n",
      "922:\tlearn: 0.0097985\ttotal: 495ms\tremaining: 41.3ms\n",
      "923:\tlearn: 0.0097664\ttotal: 496ms\tremaining: 40.8ms\n",
      "924:\tlearn: 0.0097531\ttotal: 496ms\tremaining: 40.2ms\n",
      "925:\tlearn: 0.0097215\ttotal: 497ms\tremaining: 39.7ms\n",
      "926:\tlearn: 0.0097083\ttotal: 497ms\tremaining: 39.2ms\n",
      "927:\tlearn: 0.0096772\ttotal: 498ms\tremaining: 38.6ms\n",
      "928:\tlearn: 0.0096642\ttotal: 498ms\tremaining: 38.1ms\n",
      "929:\tlearn: 0.0096514\ttotal: 499ms\tremaining: 37.5ms\n",
      "930:\tlearn: 0.0096207\ttotal: 499ms\tremaining: 37ms\n",
      "931:\tlearn: 0.0096080\ttotal: 500ms\tremaining: 36.5ms\n",
      "932:\tlearn: 0.0095525\ttotal: 500ms\tremaining: 35.9ms\n",
      "933:\tlearn: 0.0095015\ttotal: 501ms\tremaining: 35.4ms\n",
      "934:\tlearn: 0.0094890\ttotal: 501ms\tremaining: 34.8ms\n",
      "935:\tlearn: 0.0094392\ttotal: 501ms\tremaining: 34.3ms\n",
      "936:\tlearn: 0.0094132\ttotal: 502ms\tremaining: 33.7ms\n",
      "937:\tlearn: 0.0093910\ttotal: 502ms\tremaining: 33.2ms\n"
     ]
    },
    {
     "name": "stdout",
     "output_type": "stream",
     "text": [
      "938:\tlearn: 0.0093615\ttotal: 503ms\tremaining: 32.7ms\n",
      "939:\tlearn: 0.0093344\ttotal: 504ms\tremaining: 32.1ms\n",
      "940:\tlearn: 0.0092828\ttotal: 504ms\tremaining: 31.6ms\n",
      "941:\tlearn: 0.0092611\ttotal: 504ms\tremaining: 31.1ms\n",
      "942:\tlearn: 0.0092324\ttotal: 505ms\tremaining: 30.5ms\n",
      "943:\tlearn: 0.0091982\ttotal: 505ms\tremaining: 30ms\n",
      "944:\tlearn: 0.0091860\ttotal: 506ms\tremaining: 29.4ms\n",
      "945:\tlearn: 0.0091349\ttotal: 506ms\tremaining: 28.9ms\n",
      "946:\tlearn: 0.0091229\ttotal: 506ms\tremaining: 28.3ms\n",
      "947:\tlearn: 0.0090719\ttotal: 507ms\tremaining: 27.8ms\n",
      "948:\tlearn: 0.0090601\ttotal: 507ms\tremaining: 27.3ms\n",
      "949:\tlearn: 0.0090109\ttotal: 508ms\tremaining: 26.7ms\n",
      "950:\tlearn: 0.0089644\ttotal: 508ms\tremaining: 26.2ms\n",
      "951:\tlearn: 0.0089260\ttotal: 509ms\tremaining: 25.6ms\n",
      "952:\tlearn: 0.0088807\ttotal: 509ms\tremaining: 25.1ms\n",
      "953:\tlearn: 0.0088432\ttotal: 510ms\tremaining: 24.6ms\n",
      "954:\tlearn: 0.0088183\ttotal: 510ms\tremaining: 24ms\n",
      "955:\tlearn: 0.0087976\ttotal: 511ms\tremaining: 23.5ms\n",
      "956:\tlearn: 0.0087530\ttotal: 511ms\tremaining: 23ms\n",
      "957:\tlearn: 0.0086972\ttotal: 512ms\tremaining: 22.4ms\n",
      "958:\tlearn: 0.0086536\ttotal: 512ms\tremaining: 21.9ms\n",
      "959:\tlearn: 0.0086110\ttotal: 512ms\tremaining: 21.3ms\n",
      "960:\tlearn: 0.0085805\ttotal: 513ms\tremaining: 20.8ms\n",
      "961:\tlearn: 0.0085268\ttotal: 513ms\tremaining: 20.3ms\n",
      "962:\tlearn: 0.0084855\ttotal: 514ms\tremaining: 19.7ms\n",
      "963:\tlearn: 0.0084457\ttotal: 514ms\tremaining: 19.2ms\n",
      "964:\tlearn: 0.0084161\ttotal: 515ms\tremaining: 18.7ms\n",
      "965:\tlearn: 0.0083642\ttotal: 515ms\tremaining: 18.1ms\n",
      "966:\tlearn: 0.0083255\ttotal: 516ms\tremaining: 17.6ms\n",
      "967:\tlearn: 0.0082968\ttotal: 517ms\tremaining: 17.1ms\n",
      "968:\tlearn: 0.0082713\ttotal: 517ms\tremaining: 16.5ms\n",
      "969:\tlearn: 0.0082532\ttotal: 518ms\tremaining: 16ms\n",
      "970:\tlearn: 0.0082030\ttotal: 518ms\tremaining: 15.5ms\n",
      "971:\tlearn: 0.0081648\ttotal: 519ms\tremaining: 14.9ms\n",
      "972:\tlearn: 0.0081193\ttotal: 519ms\tremaining: 14.4ms\n",
      "973:\tlearn: 0.0080924\ttotal: 520ms\tremaining: 13.9ms\n",
      "974:\tlearn: 0.0080671\ttotal: 520ms\tremaining: 13.3ms\n",
      "975:\tlearn: 0.0080496\ttotal: 521ms\tremaining: 12.8ms\n",
      "976:\tlearn: 0.0080248\ttotal: 521ms\tremaining: 12.3ms\n",
      "977:\tlearn: 0.0079988\ttotal: 522ms\tremaining: 11.7ms\n",
      "978:\tlearn: 0.0079754\ttotal: 522ms\tremaining: 11.2ms\n",
      "979:\tlearn: 0.0079585\ttotal: 523ms\tremaining: 10.7ms\n",
      "980:\tlearn: 0.0079219\ttotal: 523ms\tremaining: 10.1ms\n",
      "981:\tlearn: 0.0078864\ttotal: 524ms\tremaining: 9.6ms\n",
      "982:\tlearn: 0.0078519\ttotal: 524ms\tremaining: 9.07ms\n",
      "983:\tlearn: 0.0078185\ttotal: 525ms\tremaining: 8.53ms\n",
      "984:\tlearn: 0.0077861\ttotal: 525ms\tremaining: 8ms\n",
      "985:\tlearn: 0.0077547\ttotal: 526ms\tremaining: 7.47ms\n",
      "986:\tlearn: 0.0077240\ttotal: 526ms\tremaining: 6.93ms\n",
      "987:\tlearn: 0.0076944\ttotal: 527ms\tremaining: 6.4ms\n",
      "988:\tlearn: 0.0076655\ttotal: 527ms\tremaining: 5.86ms\n",
      "989:\tlearn: 0.0076424\ttotal: 528ms\tremaining: 5.33ms\n",
      "990:\tlearn: 0.0076198\ttotal: 528ms\tremaining: 4.8ms\n",
      "991:\tlearn: 0.0075849\ttotal: 529ms\tremaining: 4.26ms\n",
      "992:\tlearn: 0.0075651\ttotal: 529ms\tremaining: 3.73ms\n",
      "993:\tlearn: 0.0075311\ttotal: 530ms\tremaining: 3.2ms\n",
      "994:\tlearn: 0.0075153\ttotal: 531ms\tremaining: 2.67ms\n",
      "995:\tlearn: 0.0074997\ttotal: 531ms\tremaining: 2.13ms\n",
      "996:\tlearn: 0.0074722\ttotal: 531ms\tremaining: 1.6ms\n",
      "997:\tlearn: 0.0074434\ttotal: 532ms\tremaining: 1.07ms\n",
      "998:\tlearn: 0.0074105\ttotal: 532ms\tremaining: 532us\n",
      "999:\tlearn: 0.0073952\ttotal: 533ms\tremaining: 0us\n"
     ]
    },
    {
     "data": {
      "text/plain": [
       "<catboost.core.CatBoostRegressor at 0x7fb5c8289550>"
      ]
     },
     "execution_count": 9,
     "metadata": {},
     "output_type": "execute_result"
    }
   ],
   "source": [
    "#Train the Model \n",
    "prior_model = ctb.CatBoostRegressor()\n",
    "prior_model.fit(X_train,Y_train)"
   ]
  },
  {
   "cell_type": "code",
   "execution_count": 10,
   "id": "af65dcda",
   "metadata": {
    "execution": {
     "iopub.execute_input": "2022-06-07T06:24:36.397874Z",
     "iopub.status.busy": "2022-06-07T06:24:36.397491Z",
     "iopub.status.idle": "2022-06-07T06:24:36.405107Z",
     "shell.execute_reply": "2022-06-07T06:24:36.405411Z"
    },
    "id": "af65dcda",
    "papermill": {
     "duration": 0.020274,
     "end_time": "2022-06-07T06:24:36.405536",
     "exception": false,
     "start_time": "2022-06-07T06:24:36.385262",
     "status": "completed"
    },
    "tags": []
   },
   "outputs": [
    {
     "data": {
      "application/scrapbook.scrap.json+json": {
       "data": 0.3041774971080874,
       "encoder": "json",
       "name": "Prior Model MSE",
       "version": 1
      }
     },
     "metadata": {
      "scrapbook": {
       "data": true,
       "display": false,
       "name": "Prior Model MSE"
      }
     },
     "output_type": "display_data"
    },
    {
     "data": {
      "application/scrapbook.scrap.json+json": {
       "data": 1.6898688241081037,
       "encoder": "json",
       "name": "ABC Pre-generator MSE",
       "version": 1
      }
     },
     "metadata": {
      "scrapbook": {
       "data": true,
       "display": false,
       "name": "ABC Pre-generator MSE"
      }
     },
     "output_type": "display_data"
    },
    {
     "data": {
      "application/scrapbook.scrap.json+json": {
       "data": 0.46407523554484015,
       "encoder": "json",
       "name": "Prior Model MSE",
       "version": 1
      }
     },
     "metadata": {
      "scrapbook": {
       "data": true,
       "display": false,
       "name": "Prior Model MSE"
      }
     },
     "output_type": "display_data"
    },
    {
     "data": {
      "application/scrapbook.scrap.json+json": {
       "data": 1.1932572321870905,
       "encoder": "json",
       "name": "ABC Pre-generator MSE",
       "version": 1
      }
     },
     "metadata": {
      "scrapbook": {
       "data": true,
       "display": false,
       "name": "ABC Pre-generator MSE"
      }
     },
     "output_type": "display_data"
    }
   ],
   "source": [
    "y_pred = prior_model.predict(X_test)\n",
    "y_abc = y_pred + np.random.normal(0,variance, y_pred.shape) + bias \n",
    "mse = mean_squared_error(y_pred,Y_test)\n",
    "sb.glue(\"Prior Model MSE\",mse)\n",
    "mse = mean_squared_error(y_abc,Y_test)\n",
    "sb.glue(\"ABC Pre-generator MSE\",mse)\n",
    "mae = mean_absolute_error(y_pred,Y_test)\n",
    "sb.glue(\"Prior Model MSE\",mae)\n",
    "mae = mean_absolute_error(y_abc,Y_test)\n",
    "sb.glue(\"ABC Pre-generator MSE\",mae)"
   ]
  },
  {
   "cell_type": "markdown",
   "id": "25609da2",
   "metadata": {
    "papermill": {
     "duration": 0.00946,
     "end_time": "2022-06-07T06:24:36.424782",
     "exception": false,
     "start_time": "2022-06-07T06:24:36.415322",
     "status": "completed"
    },
    "tags": []
   },
   "source": [
    "# ABC GAN Model"
   ]
  },
  {
   "cell_type": "code",
   "execution_count": 11,
   "id": "dfc3464d",
   "metadata": {
    "execution": {
     "iopub.execute_input": "2022-06-07T06:24:36.446600Z",
     "iopub.status.busy": "2022-06-07T06:24:36.446227Z",
     "iopub.status.idle": "2022-06-07T06:24:36.448770Z",
     "shell.execute_reply": "2022-06-07T06:24:36.448998Z"
    },
    "papermill": {
     "duration": 0.014893,
     "end_time": "2022-06-07T06:24:36.449105",
     "exception": false,
     "start_time": "2022-06-07T06:24:36.434212",
     "status": "completed"
    },
    "tags": []
   },
   "outputs": [],
   "source": [
    "gen = network.Generator(n_features+1).to(device)\n",
    "disc = network.Discriminator(n_features+1).to(device)\n",
    "\n",
    "criterion = torch.nn.BCELoss()\n",
    "gen_opt = torch.optim.Adam(gen.parameters(), lr=0.001, betas=(0.5, 0.999))\n",
    "disc_opt = torch.optim.Adam(disc.parameters(), lr=0.001, betas=(0.5, 0.999))"
   ]
  },
  {
   "cell_type": "code",
   "execution_count": 12,
   "id": "b75fdd85",
   "metadata": {
    "execution": {
     "iopub.execute_input": "2022-06-07T06:24:36.471058Z",
     "iopub.status.busy": "2022-06-07T06:24:36.470553Z",
     "iopub.status.idle": "2022-06-07T06:24:50.095392Z",
     "shell.execute_reply": "2022-06-07T06:24:50.095686Z"
    },
    "papermill": {
     "duration": 13.637088,
     "end_time": "2022-06-07T06:24:50.095810",
     "exception": false,
     "start_time": "2022-06-07T06:24:36.458722",
     "status": "completed"
    },
    "tags": []
   },
   "outputs": [
    {
     "data": {
      "image/png": "[encoded data removed]",
      "text/plain": [
       "<Figure size 432x288 with 1 Axes>"
      ]
     },
     "metadata": {
      "needs_background": "light"
     },
     "output_type": "display_data"
    },
    {
     "data": {
      "image/png": "[encoded data removed]",
      "text/plain": [
       "<Figure size 432x288 with 1 Axes>"
      ]
     },
     "metadata": {
      "needs_background": "light"
     },
     "output_type": "display_data"
    }
   ],
   "source": [
    "#Training the ABC_GAN \n",
    "ABC_train_test2.training_GAN(disc,gen,disc_opt,gen_opt,train_data,batch_size,n_epochs,criterion,prior_model,variance,bias,device)"
   ]
  },
  {
   "cell_type": "code",
   "execution_count": 13,
   "id": "1fa7c368",
   "metadata": {
    "execution": {
     "iopub.execute_input": "2022-06-07T06:24:50.119992Z",
     "iopub.status.busy": "2022-06-07T06:24:50.119537Z",
     "iopub.status.idle": "2022-06-07T06:24:50.301667Z",
     "shell.execute_reply": "2022-06-07T06:24:50.301996Z"
    },
    "papermill": {
     "duration": 0.195213,
     "end_time": "2022-06-07T06:24:50.302123",
     "exception": false,
     "start_time": "2022-06-07T06:24:50.106910",
     "status": "completed"
    },
    "tags": []
   },
   "outputs": [
    {
     "data": {
      "application/scrapbook.scrap.json+json": {
       "data": 0.15706017154270707,
       "encoder": "json",
       "name": "ABC-GAN Model 1 MSE",
       "version": 1
      }
     },
     "metadata": {
      "scrapbook": {
       "data": true,
       "display": false,
       "name": "ABC-GAN Model 1 MSE"
      }
     },
     "output_type": "display_data"
    },
    {
     "data": {
      "application/scrapbook.scrap.json+json": {
       "data": 0.3190782281160355,
       "encoder": "json",
       "name": "ABC-GAN Model 1 MAE",
       "version": 1
      }
     },
     "metadata": {
      "scrapbook": {
       "data": true,
       "display": false,
       "name": "ABC-GAN Model 1 MAE"
      }
     },
     "output_type": "display_data"
    },
    {
     "data": {
      "application/scrapbook.scrap.json+json": {
       "data": 6.381564562320709,
       "encoder": "json",
       "name": "ABC-GAN Model 1 Manhattan Distance",
       "version": 1
      }
     },
     "metadata": {
      "scrapbook": {
       "data": true,
       "display": false,
       "name": "ABC-GAN Model 1 Manhattan Distance"
      }
     },
     "output_type": "display_data"
    },
    {
     "data": {
      "application/scrapbook.scrap.json+json": {
       "data": 1.772324834210929,
       "encoder": "json",
       "name": "ABC-GAN Model 1 Euclidean distance",
       "version": 1
      }
     },
     "metadata": {
      "scrapbook": {
       "data": true,
       "display": false,
       "name": "ABC-GAN Model 1 Euclidean distance"
      }
     },
     "output_type": "display_data"
    },
    {
     "data": {
      "application/scrapbook.scrap.json+json": {
       "data": [
        [
         0.15818738266786608,
         0.16050689996879677,
         0.15895974483370542,
         0.15790002885535134,
         0.15551698337918324,
         0.1556265402771258,
         0.15630332230031468,
         0.15712403409116543,
         0.15784585170513818,
         0.15589155580563913,
         0.15768268419771375,
         0.15534340125143403,
         0.16009111875636706,
         0.15611712652230517,
         0.1562648335162354,
         0.1570186932879386,
         0.15947766236719416,
         0.1575219098652304,
         0.15695168041307517,
         0.15558085316509987,
         0.1554561865287993,
         0.15576202497914826,
         0.1581269841381424,
         0.1561158227744322,
         0.1557180011008506,
         0.15577925744550028,
         0.15671879230426305,
         0.1567141268123802,
         0.15697218804033553,
         0.15666600037360043,
         0.15554228374325038,
         0.15836023850184813,
         0.15531260148419918,
         0.15662392884241066,
         0.1571518532187632,
         0.1560574470114743,
         0.1573324373580465,
         0.155283593218194,
         0.15929585404481608,
         0.1562374381456602,
         0.15799372179022814,
         0.1577748920086248,
         0.15569063653605628,
         0.1586272578152576,
         0.15504828317859246,
         0.15729830336618342,
         0.15903235925494272,
         0.1600830597875394,
         0.15672377484597783,
         0.1564491213029938,
         0.15614149158656968,
         0.1568474309776372,
         0.1600283151503316,
         0.1559016176668832,
         0.15825229691973403,
         0.157066789650719,
         0.1558115247757531,
         0.1581631129122119,
         0.15721242805379101,
         0.1574521905346261,
         0.15707583911368744,
         0.15712006369067846,
         0.15874341162945813,
         0.15774057257292012,
         0.15686025495496186,
         0.15543759053413736,
         0.1560790514354488,
         0.15581663445573127,
         0.1554236620880377,
         0.15852746102033072,
         0.16034624664196592,
         0.15679270473618695,
         0.15661699543162863,
         0.15817164317228563,
         0.15608591327292382,
         0.15587973054727738,
         0.1554137296171849,
         0.15882877960269495,
         0.15580155816412697,
         0.1565519708288627,
         0.15943100682483033,
         0.15545380102526835,
         0.15271059093856387,
         0.15740179800720483,
         0.15429842119409548,
         0.15705882225340057,
         0.16066153529262125,
         0.1566891287059326,
         0.15650079767949726,
         0.15706088188888928,
         0.15716433842160182,
         0.1569465386906683,
         0.158982574388464,
         0.15653031739844264,
         0.15688036610142292,
         0.15636202373598818,
         0.15539203013171737,
         0.1596209349960474,
         0.1581826341749693,
         0.15863682350290514
        ],
        [
         0.31983554512262347,
         0.32338856533169746,
         0.32144139558076856,
         0.3191105410456657,
         0.3159592144191265,
         0.3168479546904564,
         0.3171981893479824,
         0.32032504081726076,
         0.3192589595913887,
         0.31787075400352477,
         0.32206315696239474,
         0.3180136203765869,
         0.32063216865062716,
         0.31741275638341904,
         0.31872284784913063,
         0.32088817954063414,
         0.32265899106860163,
         0.31920421719551084,
         0.31624307483434677,
         0.3162075750529766,
         0.31762599796056745,
         0.3174001775681973,
         0.3207440972328186,
         0.31776193231344224,
         0.3165951445698738,
         0.3196517162024975,
         0.31963826194405554,
         0.31919937431812284,
         0.32004381716251373,
         0.3186802536249161,
         0.31733707562088964,
         0.32275745272636414,
         0.3163372799754143,
         0.3198000490665436,
         0.31982047110795975,
         0.31724607571959496,
         0.31694994419813155,
         0.31567330956459044,
         0.31983943209052085,
         0.3159971825778484,
         0.3188396587967873,
         0.31922543942928316,
         0.3170832984149456,
         0.3203070357441902,
         0.3164382174611092,
         0.31927741318941116,
         0.320826019346714,
         0.3238330379128456,
         0.31972624361515045,
         0.3195391230285168,
         0.3184931181371212,
         0.3166148230433464,
         0.32156786397099496,
         0.3171285353600979,
         0.3208040207624435,
         0.3189191624522209,
         0.31711609214544295,
         0.3204456940293312,
         0.3204268768429756,
         0.3203175202012062,
         0.3188310943543911,
         0.31759717166423795,
         0.3206372246146202,
         0.32090429663658143,
         0.31967299357056617,
         0.3157673917710781,
         0.3185189917683601,
         0.317264461517334,
         0.3178519070148468,
         0.3194850333034992,
         0.3227070041000843,
         0.3198340512812138,
         0.31990778669714925,
         0.32201977595686915,
         0.31750513836741445,
         0.3162954978644848,
         0.3192846208810806,
         0.3218971885740757,
         0.3181484118103981,
         0.31924865394830704,
         0.3213880300521851,
         0.3167211443185806,
         0.3165902942419052,
         0.3198600932955742,
         0.3157129041850567,
         0.3195584870874882,
         0.322826212644577,
         0.31835715770721434,
         0.31889198422431947,
         0.32059847116470336,
         0.31967800110578537,
         0.3182991907000542,
         0.32262430265545844,
         0.31780293881893157,
         0.3194037705659866,
         0.3176138959825039,
         0.3153014093637466,
         0.3222574397921562,
         0.32077236026525496,
         0.32087504044175147
        ],
        [
         6.396710902452469,
         6.467771306633949,
         6.428827911615372,
         6.382210820913315,
         6.31918428838253,
         6.336959093809128,
         6.343963786959648,
         6.406500816345215,
         6.385179191827774,
         6.357415080070496,
         6.441263139247894,
         6.360272407531738,
         6.412643373012543,
         6.348255127668381,
         6.374456956982613,
         6.417763590812683,
         6.453179821372032,
         6.384084343910217,
         6.324861496686935,
         6.324151501059532,
         6.3525199592113495,
         6.348003551363945,
         6.414881944656372,
         6.355238646268845,
         6.331902891397476,
         6.39303432404995,
         6.392765238881111,
         6.383987486362457,
         6.400876343250275,
         6.3736050724983215,
         6.346741512417793,
         6.455149054527283,
         6.3267455995082855,
         6.396000981330872,
         6.396409422159195,
         6.344921514391899,
         6.338998883962631,
         6.313466191291809,
         6.396788641810417,
         6.319943651556969,
         6.376793175935745,
         6.384508788585663,
         6.341665968298912,
         6.406140714883804,
         6.328764349222183,
         6.385548263788223,
         6.41652038693428,
         6.476660758256912,
         6.394524872303009,
         6.390782460570335,
         6.369862362742424,
         6.332296460866928,
         6.431357279419899,
         6.342570707201958,
         6.416080415248871,
         6.378383249044418,
         6.342321842908859,
         6.408913880586624,
         6.408537536859512,
         6.406350404024124,
         6.376621887087822,
         6.3519434332847595,
         6.412744492292404,
         6.418085932731628,
         6.3934598714113235,
         6.315347835421562,
         6.370379835367203,
         6.34528923034668,
         6.357038140296936,
         6.389700666069984,
         6.454140082001686,
         6.396681025624275,
         6.3981557339429855,
         6.4403955191373825,
         6.3501027673482895,
         6.325909957289696,
         6.3856924176216125,
         6.437943771481514,
         6.362968236207962,
         6.384973078966141,
         6.427760601043701,
         6.3344228863716125,
         6.331805884838104,
         6.397201865911484,
         6.314258083701134,
         6.3911697417497635,
         6.4565242528915405,
         6.367143154144287,
         6.377839684486389,
         6.411969423294067,
         6.393560022115707,
         6.365983814001083,
         6.452486053109169,
         6.356058776378632,
         6.388075411319733,
         6.352277919650078,
         6.306028187274933,
         6.445148795843124,
         6.4154472053050995,
         6.41750080883503
        ],
        [
         1.7786926809759243,
         1.7916857981733112,
         1.783029695959691,
         1.7770764128497758,
         1.7636155101335622,
         1.764236607018037,
         1.7680685637175653,
         1.7727043413449712,
         1.7767715199492486,
         1.7657381221780262,
         1.7758529454755747,
         1.7626309951401287,
         1.7893636788331602,
         1.7670151472033573,
         1.7678508620143014,
         1.772110003853816,
         1.7859320388368318,
         1.7749473787424257,
         1.7717318104785225,
         1.763977625510595,
         1.7632707479499528,
         1.7650043908112425,
         1.7783530815793718,
         1.767007768938395,
         1.7647549467325518,
         1.7651020222383762,
         1.7704168565863976,
         1.7703905038854009,
         1.771847555747026,
         1.77011864220227,
         1.7637589616682343,
         1.7796642295772993,
         1.762456249012719,
         1.7698809499082735,
         1.7728612648414608,
         1.7666773729884826,
         1.7738795751574934,
         1.7622916513346703,
         1.784913746066269,
         1.7676958909589635,
         1.7776035654230002,
         1.776372100707646,
         1.7645998783636831,
         1.781163989166958,
         1.7609558948400295,
         1.7736871390760176,
         1.783436902471981,
         1.7893186400836458,
         1.7704449996878062,
         1.7688929945194187,
         1.7671530300829619,
         1.7711433085870674,
         1.7890126614998096,
         1.7657951051403626,
         1.7790575983915418,
         1.7723813903938337,
         1.7652848199412643,
         1.7785562285866134,
         1.7732029102941997,
         1.7745545386638648,
         1.77243244787319,
         1.7726819437828008,
         1.7818159929098072,
         1.7761788906127676,
         1.7712157121873204,
         1.763165281725666,
         1.7667996572076234,
         1.7653137650612214,
         1.7630862831298852,
         1.7806036112528285,
         1.7907889135348471,
         1.7708342934119328,
         1.7698417750275228,
         1.778604189651456,
         1.7668384944466418,
         1.7656711502840918,
         1.76302994652493,
         1.7822950350752536,
         1.7652283600946759,
         1.7694743334044871,
         1.7856707805462366,
         1.7632572190424647,
         1.7476303438574408,
         1.774270543108941,
         1.7566924670760984,
         1.7723364367602477,
         1.7925486620598128,
         1.7702492971665464,
         1.7691851100407625,
         1.7723480577408561,
         1.7729316874691015,
         1.7717027893564332,
         1.7831577293580285,
         1.7693519570647476,
         1.7713292528574291,
         1.7684005413705808,
         1.7629068615880839,
         1.7867340876361395,
         1.7786659842419503,
         1.7812176930566637
        ]
       ],
       "encoder": "json",
       "name": "ABC_GAN_1 Metrics",
       "version": 1
      }
     },
     "metadata": {
      "scrapbook": {
       "data": true,
       "display": false,
       "name": "ABC_GAN_1 Metrics"
      }
     },
     "output_type": "display_data"
    },
    {
     "name": "stdout",
     "output_type": "stream",
     "text": [
      "MSE\n",
      "0.15706017154270707\n"
     ]
    }
   ],
   "source": [
    "ABC_GAN1_metrics=ABC_train_test2.test_generator(gen,test_data,prior_model,variance,bias,\"1\",device)\n",
    "sb.glue(\"ABC_GAN_1 Metrics\",ABC_GAN1_metrics)\n",
    "\n",
    "print(\"MSE\")\n",
    "print(mean(ABC_GAN1_metrics[0]))"
   ]
  },
  {
   "cell_type": "code",
   "execution_count": 14,
   "id": "eb22ce5c",
   "metadata": {
    "execution": {
     "iopub.execute_input": "2022-06-07T06:24:50.328924Z",
     "iopub.status.busy": "2022-06-07T06:24:50.328558Z",
     "iopub.status.idle": "2022-06-07T06:24:50.623696Z",
     "shell.execute_reply": "2022-06-07T06:24:50.623912Z"
    },
    "papermill": {
     "duration": 0.309616,
     "end_time": "2022-06-07T06:24:50.624037",
     "exception": false,
     "start_time": "2022-06-07T06:24:50.314421",
     "status": "completed"
    },
    "tags": []
   },
   "outputs": [
    {
     "data": {
      "image/png": "[encoded data removed]",
      "text/plain": [
       "<Figure size 432x288 with 1 Axes>"
      ]
     },
     "metadata": {
      "needs_background": "light"
     },
     "output_type": "display_data"
    },
    {
     "data": {
      "image/png": "[encoded data removed]",
      "text/plain": [
       "<Figure size 432x288 with 1 Axes>"
      ]
     },
     "metadata": {
      "needs_background": "light"
     },
     "output_type": "display_data"
    },
    {
     "data": {
      "image/png": "[encoded data removed]",
      "text/plain": [
       "<Figure size 432x288 with 1 Axes>"
      ]
     },
     "metadata": {
      "needs_background": "light"
     },
     "output_type": "display_data"
    },
    {
     "data": {
      "image/png": "[encoded data removed]",
      "text/plain": [
       "<Figure size 432x288 with 1 Axes>"
      ]
     },
     "metadata": {
      "needs_background": "light"
     },
     "output_type": "display_data"
    }
   ],
   "source": [
    "sanityChecks.discProbVsError(train_data,disc,device)\n",
    "sanityChecks.discProbVsError(test_data,disc,device)"
   ]
  },
  {
   "cell_type": "markdown",
   "id": "130f3a4d",
   "metadata": {
    "id": "130f3a4d",
    "papermill": {
     "duration": 0.037196,
     "end_time": "2022-06-07T06:24:50.675757",
     "exception": false,
     "start_time": "2022-06-07T06:24:50.638561",
     "status": "completed"
    },
    "tags": []
   },
   "source": [
    "# ABC - GAN Model with skip connection"
   ]
  },
  {
   "cell_type": "code",
   "execution_count": 15,
   "id": "4e43dad1",
   "metadata": {
    "execution": {
     "iopub.execute_input": "2022-06-07T06:24:50.707677Z",
     "iopub.status.busy": "2022-06-07T06:24:50.707303Z",
     "iopub.status.idle": "2022-06-07T06:24:50.709468Z",
     "shell.execute_reply": "2022-06-07T06:24:50.709708Z"
    },
    "id": "4e43dad1",
    "papermill": {
     "duration": 0.019699,
     "end_time": "2022-06-07T06:24:50.709823",
     "exception": false,
     "start_time": "2022-06-07T06:24:50.690124",
     "status": "completed"
    },
    "tags": []
   },
   "outputs": [],
   "source": [
    "#Generator\n",
    "gen3 = network.GeneratorWithSkipConnection(n_features+1).to(device)\n",
    "constraints=network.weightConstraint()\n",
    "#Discriminator \n",
    "disc3 = network.Discriminator(n_features+1).to(device)\n",
    "\n",
    "criterion = torch.nn.BCELoss()\n",
    "gen_opt = torch.optim.Adam(gen3.parameters(), lr=0.001, betas=(0.5, 0.999))\n",
    "disc_opt = torch.optim.Adam(disc3.parameters(), lr=0.001, betas=(0.5, 0.999))\n"
   ]
  },
  {
   "cell_type": "code",
   "execution_count": 16,
   "id": "26acbc37",
   "metadata": {
    "execution": {
     "iopub.execute_input": "2022-06-07T06:24:50.741105Z",
     "iopub.status.busy": "2022-06-07T06:24:50.740727Z",
     "iopub.status.idle": "2022-06-07T06:25:27.543893Z",
     "shell.execute_reply": "2022-06-07T06:25:27.544199Z"
    },
    "id": "26acbc37",
    "papermill": {
     "duration": 36.819949,
     "end_time": "2022-06-07T06:25:27.544321",
     "exception": false,
     "start_time": "2022-06-07T06:24:50.724372",
     "status": "completed"
    },
    "tags": []
   },
   "outputs": [
    {
     "data": {
      "image/png": "[encoded data removed]",
      "text/plain": [
       "<Figure size 432x288 with 1 Axes>"
      ]
     },
     "metadata": {
      "needs_background": "light"
     },
     "output_type": "display_data"
    },
    {
     "data": {
      "image/png": "[encoded data removed]",
      "text/plain": [
       "<Figure size 432x288 with 1 Axes>"
      ]
     },
     "metadata": {
      "needs_background": "light"
     },
     "output_type": "display_data"
    }
   ],
   "source": [
    "ABC_train_test2.training_GAN_skip_connection(disc3,gen3,disc_opt,gen_opt,train_data,batch_size,n_epochs,criterion,prior_model,variance,bias,device)"
   ]
  },
  {
   "cell_type": "code",
   "execution_count": 17,
   "id": "c5e0717b",
   "metadata": {
    "execution": {
     "iopub.execute_input": "2022-06-07T06:25:27.577537Z",
     "iopub.status.busy": "2022-06-07T06:25:27.577024Z",
     "iopub.status.idle": "2022-06-07T06:25:27.855161Z",
     "shell.execute_reply": "2022-06-07T06:25:27.855475Z"
    },
    "id": "c5e0717b",
    "papermill": {
     "duration": 0.295972,
     "end_time": "2022-06-07T06:25:27.855598",
     "exception": false,
     "start_time": "2022-06-07T06:25:27.559626",
     "status": "completed"
    },
    "tags": []
   },
   "outputs": [
    {
     "data": {
      "application/scrapbook.scrap.json+json": {
       "data": 0.2689462496547022,
       "encoder": "json",
       "name": "ABC-GAN Model 3 MSE",
       "version": 1
      }
     },
     "metadata": {
      "scrapbook": {
       "data": true,
       "display": false,
       "name": "ABC-GAN Model 3 MSE"
      }
     },
     "output_type": "display_data"
    },
    {
     "data": {
      "application/scrapbook.scrap.json+json": {
       "data": 0.43010080316662785,
       "encoder": "json",
       "name": "ABC-GAN Model 3 MAE",
       "version": 1
      }
     },
     "metadata": {
      "scrapbook": {
       "data": true,
       "display": false,
       "name": "ABC-GAN Model 3 MAE"
      }
     },
     "output_type": "display_data"
    },
    {
     "data": {
      "application/scrapbook.scrap.json+json": {
       "data": 8.602016063332558,
       "encoder": "json",
       "name": "ABC-GAN Model 3 Manhattan Distance",
       "version": 1
      }
     },
     "metadata": {
      "scrapbook": {
       "data": true,
       "display": false,
       "name": "ABC-GAN Model 3 Manhattan Distance"
      }
     },
     "output_type": "display_data"
    },
    {
     "data": {
      "application/scrapbook.scrap.json+json": {
       "data": 2.319229817553397,
       "encoder": "json",
       "name": "ABC-GAN Model 3 Euclidean distance",
       "version": 1
      }
     },
     "metadata": {
      "scrapbook": {
       "data": true,
       "display": false,
       "name": "ABC-GAN Model 3 Euclidean distance"
      }
     },
     "output_type": "display_data"
    },
    {
     "data": {
      "application/scrapbook.scrap.json+json": {
       "data": [
        [
         0.2683322700212045,
         0.26771697077649337,
         0.270530115260282,
         0.26773774771294506,
         0.27046363190880884,
         0.27201087619057845,
         0.2721250200129596,
         0.2664778688281668,
         0.2707157979688695,
         0.2655805225990349,
         0.2668730624806777,
         0.2715948962362459,
         0.2704163778685368,
         0.2678503518659065,
         0.26642045334804754,
         0.26820501432088373,
         0.26880777743132034,
         0.26974780098328865,
         0.2683337365323986,
         0.2705779581708775,
         0.27053128153123734,
         0.26827526414881897,
         0.2715609772142596,
         0.2664237092957512,
         0.2681220142159688,
         0.26787790284731655,
         0.2710229269513835,
         0.2688810399891516,
         0.26531242084507467,
         0.2685278781445156,
         0.2753430270841742,
         0.26965138656501286,
         0.27143878440342223,
         0.27109423513782804,
         0.2724171102384467,
         0.26571857825949063,
         0.27121762167104657,
         0.2703664406246308,
         0.2685811452674997,
         0.2693704775268527,
         0.2656664088935788,
         0.2683871260872023,
         0.2681257081417369,
         0.2697642260263516,
         0.27006609446415963,
         0.2691404157431599,
         0.26659444106543295,
         0.2699632684042184,
         0.271166074855274,
         0.26861407105372875,
         0.271845925167406,
         0.2679471688344185,
         0.26894213014615626,
         0.26684263793579477,
         0.2693577307681121,
         0.2722698604153274,
         0.26832045371464464,
         0.2699874150485121,
         0.2657684707450791,
         0.2679724190421906,
         0.2711177149239024,
         0.27113972446992707,
         0.2632162114376236,
         0.27000097063382605,
         0.2719704948142308,
         0.2705828396706577,
         0.27051394166630977,
         0.2683989628019905,
         0.2682705789341181,
         0.2672908514160282,
         0.26608951799419334,
         0.27043758922887784,
         0.2659831081645702,
         0.2689079931203606,
         0.2684255114310604,
         0.26252630560803053,
         0.2697412934388955,
         0.26611227941538473,
         0.27164360448024477,
         0.2672788794742177,
         0.26645327379256545,
         0.2684166393404327,
         0.27141184875696,
         0.26778440706866746,
         0.2704983175089353,
         0.27097665006871274,
         0.26945278337159345,
         0.26859045382478736,
         0.2716794888947689,
         0.26417390532786345,
         0.26890840222010104,
         0.27003411935842825,
         0.2649842379228298,
         0.26811582786245847,
         0.2665539966635693,
         0.26756455822126773,
         0.2693416609703432,
         0.2709947828412874,
         0.26506398653949326,
         0.2749827327588129
        ],
        [
         0.4303979158401489,
         0.42860403954982756,
         0.4307543605566025,
         0.4301470935344696,
         0.4314420223236084,
         0.4344637393951416,
         0.4326945960521698,
         0.4269075095653534,
         0.4308073282241821,
         0.4288501262664795,
         0.42843617796897887,
         0.43114103376865387,
         0.4330857187509537,
         0.427672877907753,
         0.42878992557525636,
         0.4289874851703644,
         0.42922685146331785,
         0.42992435991764066,
         0.42933970093727114,
         0.43138648867607116,
         0.43170298635959625,
         0.4298738658428192,
         0.43117077350616456,
         0.42834373414516447,
         0.42929151058197024,
         0.42932467460632323,
         0.43191192150115965,
         0.4317302107810974,
         0.43024665415287017,
         0.43124804496765134,
         0.4354736000299454,
         0.4306152641773224,
         0.4322766810655594,
         0.4289809077978134,
         0.43555102944374086,
         0.4280072242021561,
         0.43330919444561006,
         0.4296748697757721,
         0.4279408514499664,
         0.4312128394842148,
         0.426155149936676,
         0.4288111299276352,
         0.42923167645931243,
         0.4308771640062332,
         0.42987127006053927,
         0.42972790598869326,
         0.4298738420009613,
         0.42991643846035005,
         0.4312192291021347,
         0.42943274974823,
         0.43084496557712554,
         0.42832161486148834,
         0.4297322601079941,
         0.42796354591846464,
         0.42792956829071044,
         0.4322209030389786,
         0.43173198997974394,
         0.4325316399335861,
         0.42687890529632566,
         0.4286211997270584,
         0.4324315845966339,
         0.43161414861679076,
         0.425580358505249,
         0.4301104128360748,
         0.4330786943435669,
         0.4314839273691177,
         0.43059433102607725,
         0.42905943393707274,
         0.4303420543670654,
         0.42915219962596896,
         0.4278198331594467,
         0.4324432760477066,
         0.42921003699302673,
         0.4319822698831558,
         0.4297562152147293,
         0.4247939854860306,
         0.430535814166069,
         0.4264047920703888,
         0.43184845745563505,
         0.42792275846004485,
         0.42992855310440065,
         0.43050425350666044,
         0.43292954564094543,
         0.4296920895576477,
         0.4311451494693756,
         0.42964368462562563,
         0.42956926226615905,
         0.42968426644802094,
         0.4322845220565796,
         0.42792198061943054,
         0.42978229820728303,
         0.4306138575077057,
         0.4250940054655075,
         0.42915908992290497,
         0.42923825085163114,
         0.4290377736091614,
         0.4314457982778549,
         0.43076892793178556,
         0.42935548424720765,
         0.4332776010036469
        ],
        [
         8.607958316802979,
         8.572080790996552,
         8.61508721113205,
         8.602941870689392,
         8.628840446472168,
         8.689274787902832,
         8.653891921043396,
         8.538150191307068,
         8.616146564483643,
         8.57700252532959,
         8.568723559379578,
         8.622820675373077,
         8.661714375019073,
         8.55345755815506,
         8.575798511505127,
         8.579749703407288,
         8.584537029266357,
         8.598487198352814,
         8.586794018745422,
         8.627729773521423,
         8.634059727191925,
         8.597477316856384,
         8.623415470123291,
         8.56687468290329,
         8.585830211639404,
         8.586493492126465,
         8.638238430023193,
         8.634604215621948,
         8.604933083057404,
         8.624960899353027,
         8.709472000598907,
         8.612305283546448,
         8.645533621311188,
         8.579618155956268,
         8.711020588874817,
         8.560144484043121,
         8.666183888912201,
         8.593497395515442,
         8.558817028999329,
         8.624256789684296,
         8.52310299873352,
         8.576222598552704,
         8.584633529186249,
         8.617543280124664,
         8.597425401210785,
         8.594558119773865,
         8.597476840019226,
         8.598328769207,
         8.624384582042694,
         8.5886549949646,
         8.616899311542511,
         8.566432297229767,
         8.594645202159882,
         8.559270918369293,
         8.558591365814209,
         8.644418060779572,
         8.63463979959488,
         8.650632798671722,
         8.537578105926514,
         8.572423994541168,
         8.648631691932678,
         8.632282972335815,
         8.51160717010498,
         8.602208256721497,
         8.661573886871338,
         8.629678547382355,
         8.611886620521545,
         8.581188678741455,
         8.606841087341309,
         8.583043992519379,
         8.556396663188934,
         8.648865520954132,
         8.584200739860535,
         8.639645397663116,
         8.595124304294586,
         8.495879709720612,
         8.61071628332138,
         8.528095841407776,
         8.636969149112701,
         8.558455169200897,
         8.598571062088013,
         8.61008507013321,
         8.658590912818909,
         8.593841791152954,
         8.622902989387512,
         8.592873692512512,
         8.591385245323181,
         8.593685328960419,
         8.645690441131592,
         8.55843961238861,
         8.59564596414566,
         8.612277150154114,
         8.50188010931015,
         8.5831817984581,
         8.584765017032623,
         8.580755472183228,
         8.628915965557098,
         8.615378558635712,
         8.587109684944153,
         8.665552020072937
        ],
        [
         2.3166021238926833,
         2.3139445575747635,
         2.3260701419358876,
         2.3140343459548953,
         2.3257843060301564,
         2.3324273887543785,
         2.3329167152427863,
         2.3085834133865157,
         2.32686827288899,
         2.3046931361855307,
         2.310294623984905,
         2.3306432426960844,
         2.325581122509111,
         2.3145209088098837,
         2.308334695610875,
         2.3160527382634606,
         2.3186538225070183,
         2.322704462402777,
         2.316608454324548,
         2.326275814132441,
         2.326075155841863,
         2.316356035452318,
         2.3304977031280663,
         2.3083488007480635,
         2.315694341729792,
         2.314639941102359,
         2.328187822970404,
         2.3189697712094115,
         2.3035295563333875,
         2.317446345202044,
         2.3466700964736145,
         2.322289329799424,
         2.3299733234671263,
         2.3284940847587654,
         2.3341684182528333,
         2.305292078065123,
         2.329023922895798,
         2.3253663824207607,
         2.317676186474287,
         2.3210793934152822,
         2.3050657643268178,
         2.316838907162957,
         2.3157102933732316,
         2.322775176491912,
         2.324074415607898,
         2.3200879972240704,
         2.309088309551772,
         2.323631934727264,
         2.3288025886934856,
         2.317818245910273,
         2.3317200739685973,
         2.314939173431641,
         2.319233192872835,
         2.3101629290411307,
         2.321024475390607,
         2.3335374880868205,
         2.3165511162702397,
         2.3237358500849967,
         2.305508493782138,
         2.315048245899815,
         2.328594919361899,
         2.3286894360129993,
         2.294411521229893,
         2.3237941846636336,
         2.332254252067003,
         2.326296798220974,
         2.326000609055422,
         2.316889996534106,
         2.316335808703557,
         2.3121022962491438,
         2.306900596012725,
         2.325672329580751,
         2.306439282376929,
         2.319085997199589,
         2.317004581053134,
         2.2914026516875228,
         2.3226764451334825,
         2.3069992605780554,
         2.3308522238882703,
         2.3120505162051184,
         2.308476873579484,
         2.3169662895278935,
         2.3298577156425666,
         2.314235973571699,
         2.3259334363172792,
         2.3279890466611426,
         2.3214339679241083,
         2.3177163494473922,
         2.331006172856558,
         2.298581759815663,
         2.3190877612548473,
         2.32393682942729,
         2.3021044195380442,
         2.3156676266790037,
         2.308913149789612,
         2.3132857939358367,
         2.320955238561671,
         2.3280669356411874,
         2.3024508096352165,
         2.345134250992096
        ]
       ],
       "encoder": "json",
       "name": "ABC_GAN_3 Metrics",
       "version": 1
      }
     },
     "metadata": {
      "scrapbook": {
       "data": true,
       "display": false,
       "name": "ABC_GAN_3 Metrics"
      }
     },
     "output_type": "display_data"
    },
    {
     "name": "stdout",
     "output_type": "stream",
     "text": [
      "MSE\n",
      "0.2689462496547022\n"
     ]
    }
   ],
   "source": [
    "ABC_GAN3_metrics=ABC_train_test2.test_generator(gen3,test_data,prior_model,variance,bias,\"3\",device)\n",
    "sb.glue(\"ABC_GAN_3 Metrics\",ABC_GAN3_metrics)\n",
    "\n",
    "print(\"MSE\")\n",
    "print(mean(ABC_GAN3_metrics[0]))"
   ]
  },
  {
   "cell_type": "code",
   "execution_count": 18,
   "id": "c8e46b48",
   "metadata": {
    "execution": {
     "iopub.execute_input": "2022-06-07T06:25:27.891571Z",
     "iopub.status.busy": "2022-06-07T06:25:27.891208Z",
     "iopub.status.idle": "2022-06-07T06:25:28.184625Z",
     "shell.execute_reply": "2022-06-07T06:25:28.184944Z"
    },
    "id": "c8e46b48",
    "papermill": {
     "duration": 0.312396,
     "end_time": "2022-06-07T06:25:28.185069",
     "exception": false,
     "start_time": "2022-06-07T06:25:27.872673",
     "status": "completed"
    },
    "tags": []
   },
   "outputs": [
    {
     "data": {
      "image/png": "[encoded data removed]",
      "text/plain": [
       "<Figure size 432x288 with 1 Axes>"
      ]
     },
     "metadata": {
      "needs_background": "light"
     },
     "output_type": "display_data"
    },
    {
     "data": {
      "image/png": "[encoded data removed]",
      "text/plain": [
       "<Figure size 432x288 with 1 Axes>"
      ]
     },
     "metadata": {
      "needs_background": "light"
     },
     "output_type": "display_data"
    },
    {
     "data": {
      "image/png": "[encoded data removed]",
      "text/plain": [
       "<Figure size 432x288 with 1 Axes>"
      ]
     },
     "metadata": {
      "needs_background": "light"
     },
     "output_type": "display_data"
    },
    {
     "data": {
      "image/png": "[encoded data removed]",
      "text/plain": [
       "<Figure size 432x288 with 1 Axes>"
      ]
     },
     "metadata": {
      "needs_background": "light"
     },
     "output_type": "display_data"
    }
   ],
   "source": [
    "sanityChecks.discProbVsError(train_data,disc3,device)\n",
    "sanityChecks.discProbVsError(test_data,disc3,device)"
   ]
  },
  {
   "cell_type": "markdown",
   "id": "a5bd74c3",
   "metadata": {
    "id": "a5bd74c3",
    "papermill": {
     "duration": 0.019129,
     "end_time": "2022-06-07T06:25:28.223502",
     "exception": false,
     "start_time": "2022-06-07T06:25:28.204373",
     "status": "completed"
    },
    "tags": []
   },
   "source": [
    "## Skip Connection Model Analysis - ABC-GAN "
   ]
  },
  {
   "cell_type": "markdown",
   "id": "5744a8bf",
   "metadata": {
    "id": "5744a8bf",
    "papermill": {
     "duration": 0.018722,
     "end_time": "2022-06-07T06:25:28.261033",
     "exception": false,
     "start_time": "2022-06-07T06:25:28.242311",
     "status": "completed"
    },
    "tags": []
   },
   "source": [
    "### Weight Analysis \n",
    "\n",
    "Study the weights of the skip connection layer\n",
    "\n",
    "Equation of the skip connection is \n",
    "\n",
    "$output = y_{gan} * w + y_{abc} * (1-w)$"
   ]
  },
  {
   "cell_type": "code",
   "execution_count": 19,
   "id": "52c31dea",
   "metadata": {
    "execution": {
     "iopub.execute_input": "2022-06-07T06:25:28.301294Z",
     "iopub.status.busy": "2022-06-07T06:25:28.300905Z",
     "iopub.status.idle": "2022-06-07T06:25:28.304652Z",
     "shell.execute_reply": "2022-06-07T06:25:28.304284Z"
    },
    "id": "52c31dea",
    "papermill": {
     "duration": 0.025023,
     "end_time": "2022-06-07T06:25:28.304756",
     "exception": false,
     "start_time": "2022-06-07T06:25:28.279733",
     "status": "completed"
    },
    "tags": []
   },
   "outputs": [
    {
     "name": "stdout",
     "output_type": "stream",
     "text": [
      "Weight of the node at skip connection\n",
      "Parameter containing:\n",
      "tensor([[0.0693]], requires_grad=True)\n"
     ]
    },
    {
     "data": {
      "application/scrapbook.scrap.json+json": {
       "data": 0.06925182789564133,
       "encoder": "json",
       "name": "Skip Connection Weight",
       "version": 1
      }
     },
     "metadata": {
      "scrapbook": {
       "data": true,
       "display": false,
       "name": "Skip Connection Weight"
      }
     },
     "output_type": "display_data"
    }
   ],
   "source": [
    "print(\"Weight of the node at skip connection\")\n",
    "for name,param in gen3.named_parameters():\n",
    "    if(name == \"skipNode.weight\"):\n",
    "        print(param)\n",
    "        sb.glue(\"Skip Connection Weight\",param.item())"
   ]
  }
 ],
 "metadata": {
  "colab": {
   "collapsed_sections": [],
   "name": "ABC_GAN_Model-Catboost_Pre-gen.ipynb",
   "provenance": []
  },
  "interpreter": {
   "hash": "31f2aee4e71d21fbe5cf8b01ff0e069b9275f58929596ceb00d14d90e3e16cd6"
  },
  "kernelspec": {
   "display_name": "Python 3 (ipykernel)",
   "language": "python",
   "name": "python3"
  },
  "language_info": {
   "codemirror_mode": {
    "name": "ipython",
    "version": 3
   },
   "file_extension": ".py",
   "mimetype": "text/x-python",
   "name": "python",
   "nbconvert_exporter": "python",
   "pygments_lexer": "ipython3",
   "version": "3.8.11"
  },
  "papermill": {
   "default_parameters": {},
   "duration": 55.910408,
   "end_time": "2022-06-07T06:25:28.631465",
   "environment_variables": {},
   "exception": null,
   "input_path": "ABC_GAN-Catboost.ipynb",
   "output_path": "./ABC_GAN_Catboost/ABC-GAN_output_4_2.ipynb",
   "parameters": {
    "bias": 1,
    "variance": 0.01
   },
   "start_time": "2022-06-07T06:24:32.721057",
   "version": "2.3.3"
  }
 },
 "nbformat": 4,
 "nbformat_minor": 5
}