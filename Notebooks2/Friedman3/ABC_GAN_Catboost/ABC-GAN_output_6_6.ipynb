{
 "cells": [
  {
   "cell_type": "markdown",
   "id": "622780e6",
   "metadata": {
    "id": "622780e6",
    "papermill": {
     "duration": 0.035398,
     "end_time": "2022-06-07T06:45:07.598627",
     "exception": false,
     "start_time": "2022-06-07T06:45:07.563229",
     "status": "completed"
    },
    "tags": []
   },
   "source": [
    "## Import Libraries "
   ]
  },
  {
   "cell_type": "code",
   "execution_count": 1,
   "id": "a62397e3",
   "metadata": {
    "execution": {
     "iopub.execute_input": "2022-06-07T06:45:07.634062Z",
     "iopub.status.busy": "2022-06-07T06:45:07.633558Z",
     "iopub.status.idle": "2022-06-07T06:45:07.635730Z",
     "shell.execute_reply": "2022-06-07T06:45:07.636125Z"
    },
    "id": "a62397e3",
    "papermill": {
     "duration": 0.022095,
     "end_time": "2022-06-07T06:45:07.636348",
     "exception": false,
     "start_time": "2022-06-07T06:45:07.614253",
     "status": "completed"
    },
    "tags": []
   },
   "outputs": [],
   "source": [
    "import warnings\n",
    "import sys\n",
    "sys.path.insert(0, '../../src')\n",
    "warnings.filterwarnings('ignore')"
   ]
  },
  {
   "cell_type": "code",
   "execution_count": 2,
   "id": "d6a4e155",
   "metadata": {
    "execution": {
     "iopub.execute_input": "2022-06-07T06:45:07.656578Z",
     "iopub.status.busy": "2022-06-07T06:45:07.656184Z",
     "iopub.status.idle": "2022-06-07T06:45:09.438765Z",
     "shell.execute_reply": "2022-06-07T06:45:09.439018Z"
    },
    "id": "d6a4e155",
    "papermill": {
     "duration": 1.793337,
     "end_time": "2022-06-07T06:45:09.439142",
     "exception": false,
     "start_time": "2022-06-07T06:45:07.645805",
     "status": "completed"
    },
    "tags": []
   },
   "outputs": [],
   "source": [
    "import ABC_train_test2\n",
    "import friedman1Dataset\n",
    "import network\n",
    "import dataset\n",
    "import sanityChecks\n",
    "import torch \n",
    "import scrapbook as sb\n",
    "from statistics import mean \n",
    "import catboost as ctb \n",
    "from sklearn.model_selection import train_test_split\n",
    "from sklearn.metrics import mean_squared_error,mean_absolute_error\n",
    "import numpy as np"
   ]
  },
  {
   "cell_type": "markdown",
   "id": "2fa5b0f7",
   "metadata": {
    "id": "2fa5b0f7",
    "papermill": {
     "duration": 0.006779,
     "end_time": "2022-06-07T06:45:09.453043",
     "exception": false,
     "start_time": "2022-06-07T06:45:09.446264",
     "status": "completed"
    },
    "tags": []
   },
   "source": [
    "## Parameters "
   ]
  },
  {
   "cell_type": "code",
   "execution_count": 3,
   "id": "783186fb",
   "metadata": {
    "execution": {
     "iopub.execute_input": "2022-06-07T06:45:09.468799Z",
     "iopub.status.busy": "2022-06-07T06:45:09.468423Z",
     "iopub.status.idle": "2022-06-07T06:45:09.469684Z",
     "shell.execute_reply": "2022-06-07T06:45:09.469931Z"
    },
    "id": "783186fb",
    "papermill": {
     "duration": 0.010244,
     "end_time": "2022-06-07T06:45:09.470039",
     "exception": false,
     "start_time": "2022-06-07T06:45:09.459795",
     "status": "completed"
    },
    "tags": [
     "parameters"
    ]
   },
   "outputs": [],
   "source": [
    "variance = 1\n",
    "bias = 1 "
   ]
  },
  {
   "cell_type": "code",
   "execution_count": 4,
   "id": "cfc86fe2",
   "metadata": {
    "execution": {
     "iopub.execute_input": "2022-06-07T06:45:09.485603Z",
     "iopub.status.busy": "2022-06-07T06:45:09.485268Z",
     "iopub.status.idle": "2022-06-07T06:45:09.486566Z",
     "shell.execute_reply": "2022-06-07T06:45:09.486819Z"
    },
    "papermill": {
     "duration": 0.010008,
     "end_time": "2022-06-07T06:45:09.486926",
     "exception": false,
     "start_time": "2022-06-07T06:45:09.476918",
     "status": "completed"
    },
    "tags": [
     "injected-parameters"
    ]
   },
   "outputs": [],
   "source": [
    "# Parameters\n",
    "variance = 1\n",
    "bias = 0.01\n"
   ]
  },
  {
   "cell_type": "markdown",
   "id": "391cdbfd",
   "metadata": {
    "id": "391cdbfd",
    "papermill": {
     "duration": 0.006755,
     "end_time": "2022-06-07T06:45:09.500576",
     "exception": false,
     "start_time": "2022-06-07T06:45:09.493821",
     "status": "completed"
    },
    "tags": []
   },
   "source": [
    "## Dataset \n"
   ]
  },
  {
   "cell_type": "code",
   "execution_count": 5,
   "id": "5b51f161",
   "metadata": {
    "execution": {
     "iopub.execute_input": "2022-06-07T06:45:09.516069Z",
     "iopub.status.busy": "2022-06-07T06:45:09.515692Z",
     "iopub.status.idle": "2022-06-07T06:45:09.517042Z",
     "shell.execute_reply": "2022-06-07T06:45:09.517270Z"
    },
    "id": "5b51f161",
    "papermill": {
     "duration": 0.009969,
     "end_time": "2022-06-07T06:45:09.517378",
     "exception": false,
     "start_time": "2022-06-07T06:45:09.507409",
     "status": "completed"
    },
    "tags": []
   },
   "outputs": [],
   "source": [
    "#Parameters \n",
    "n_features = 5\n",
    "n_samples= 100\n",
    "n_target = 1 "
   ]
  },
  {
   "cell_type": "code",
   "execution_count": 6,
   "id": "5d6eced4",
   "metadata": {
    "execution": {
     "iopub.execute_input": "2022-06-07T06:45:09.535026Z",
     "iopub.status.busy": "2022-06-07T06:45:09.534670Z",
     "iopub.status.idle": "2022-06-07T06:45:09.539556Z",
     "shell.execute_reply": "2022-06-07T06:45:09.539795Z"
    },
    "id": "5d6eced4",
    "papermill": {
     "duration": 0.015379,
     "end_time": "2022-06-07T06:45:09.539912",
     "exception": false,
     "start_time": "2022-06-07T06:45:09.524533",
     "status": "completed"
    },
    "tags": []
   },
   "outputs": [
    {
     "name": "stdout",
     "output_type": "stream",
     "text": [
      "         X0        X1        X2        X3        X4         Y\n",
      "0 -1.209175 -0.224423  1.227223 -1.329158  0.864436 -0.883488\n",
      "1 -0.218252  0.919442  0.626753 -0.512817 -0.227734  0.251667\n",
      "2 -1.519902 -0.294104 -1.930236 -1.668855  1.100487 -0.889555\n",
      "3  0.855487  0.774575 -1.279062 -1.920938 -1.488447 -0.658026\n",
      "4  0.428821 -1.714492  0.495122  1.372504  0.549646 -0.322112\n"
     ]
    }
   ],
   "source": [
    "X,Y = friedman1Dataset.friedman1_data(n_samples,n_features)"
   ]
  },
  {
   "cell_type": "code",
   "execution_count": 7,
   "id": "fe007438",
   "metadata": {
    "execution": {
     "iopub.execute_input": "2022-06-07T06:45:09.557094Z",
     "iopub.status.busy": "2022-06-07T06:45:09.556733Z",
     "iopub.status.idle": "2022-06-07T06:45:09.558050Z",
     "shell.execute_reply": "2022-06-07T06:45:09.558284Z"
    },
    "id": "fe007438",
    "papermill": {
     "duration": 0.011053,
     "end_time": "2022-06-07T06:45:09.558394",
     "exception": false,
     "start_time": "2022-06-07T06:45:09.547341",
     "status": "completed"
    },
    "tags": []
   },
   "outputs": [],
   "source": [
    "#Train test split for dataset \n",
    "X_train,X_test,Y_train,Y_test = train_test_split(X,Y,test_size = 0.2)\n",
    "train_data = dataset.CustomDataset(X_train,Y_train)\n",
    "test_data = dataset.CustomDataset(X_test,Y_test)\n"
   ]
  },
  {
   "cell_type": "markdown",
   "id": "a9a1af34",
   "metadata": {
    "id": "a9a1af34",
    "papermill": {
     "duration": 0.007076,
     "end_time": "2022-06-07T06:45:09.572589",
     "exception": false,
     "start_time": "2022-06-07T06:45:09.565513",
     "status": "completed"
    },
    "tags": []
   },
   "source": [
    "## Training Parameters "
   ]
  },
  {
   "cell_type": "code",
   "execution_count": 8,
   "id": "952b7fc8",
   "metadata": {
    "execution": {
     "iopub.execute_input": "2022-06-07T06:45:09.588875Z",
     "iopub.status.busy": "2022-06-07T06:45:09.588525Z",
     "iopub.status.idle": "2022-06-07T06:45:09.589818Z",
     "shell.execute_reply": "2022-06-07T06:45:09.590053Z"
    },
    "id": "952b7fc8",
    "papermill": {
     "duration": 0.010566,
     "end_time": "2022-06-07T06:45:09.590159",
     "exception": false,
     "start_time": "2022-06-07T06:45:09.579593",
     "status": "completed"
    },
    "tags": []
   },
   "outputs": [],
   "source": [
    "batch_size = 32\n",
    "n_epochs = 1000\n",
    "#Select the device \n",
    "device = torch.device('cuda' if torch.cuda.is_available() else 'cpu')"
   ]
  },
  {
   "cell_type": "markdown",
   "id": "a95e1600",
   "metadata": {
    "id": "a95e1600",
    "papermill": {
     "duration": 0.007046,
     "end_time": "2022-06-07T06:45:09.604340",
     "exception": false,
     "start_time": "2022-06-07T06:45:09.597294",
     "status": "completed"
    },
    "tags": []
   },
   "source": [
    "# ABC Pre-generator Model \n",
    "\n",
    "1. The catboost model is used as a pre-generator model for the ABC-GAN. \n",
    "2. The model is first trained on the entire dataset \n",
    "3. It generats X,Y pairs and we add some Gaussian noise with mean 0 and variance 1 to it which is then feed as input to the generator.\n"
   ]
  },
  {
   "cell_type": "code",
   "execution_count": 9,
   "id": "ff8ce7bd",
   "metadata": {
    "execution": {
     "iopub.execute_input": "2022-06-07T06:45:09.623375Z",
     "iopub.status.busy": "2022-06-07T06:45:09.622976Z",
     "iopub.status.idle": "2022-06-07T06:45:10.263648Z",
     "shell.execute_reply": "2022-06-07T06:45:10.263902Z"
    },
    "id": "ff8ce7bd",
    "papermill": {
     "duration": 0.652569,
     "end_time": "2022-06-07T06:45:10.264029",
     "exception": false,
     "start_time": "2022-06-07T06:45:09.611460",
     "status": "completed"
    },
    "tags": []
   },
   "outputs": [
    {
     "name": "stdout",
     "output_type": "stream",
     "text": [
      "Learning rate set to 0.024897\n",
      "0:\tlearn: 0.9518694\ttotal: 56.6ms\tremaining: 56.6s\n",
      "1:\tlearn: 0.9433806\ttotal: 57.1ms\tremaining: 28.5s\n",
      "2:\tlearn: 0.9356554\ttotal: 57.6ms\tremaining: 19.1s\n",
      "3:\tlearn: 0.9258238\ttotal: 58.1ms\tremaining: 14.5s\n",
      "4:\tlearn: 0.9187655\ttotal: 58.6ms\tremaining: 11.7s\n",
      "5:\tlearn: 0.9099962\ttotal: 59.3ms\tremaining: 9.82s\n",
      "6:\tlearn: 0.9020202\ttotal: 59.7ms\tremaining: 8.47s\n",
      "7:\tlearn: 0.8932143\ttotal: 60.4ms\tremaining: 7.49s\n",
      "8:\tlearn: 0.8855171\ttotal: 60.8ms\tremaining: 6.7s\n",
      "9:\tlearn: 0.8771999\ttotal: 61.3ms\tremaining: 6.07s\n",
      "10:\tlearn: 0.8694114\ttotal: 61.8ms\tremaining: 5.56s\n",
      "11:\tlearn: 0.8602226\ttotal: 62.4ms\tremaining: 5.13s\n",
      "12:\tlearn: 0.8515503\ttotal: 62.9ms\tremaining: 4.78s\n",
      "13:\tlearn: 0.8440039\ttotal: 63.5ms\tremaining: 4.47s\n",
      "14:\tlearn: 0.8377944\ttotal: 64ms\tremaining: 4.2s\n",
      "15:\tlearn: 0.8303515\ttotal: 64.5ms\tremaining: 3.96s\n",
      "16:\tlearn: 0.8222315\ttotal: 65.1ms\tremaining: 3.77s\n",
      "17:\tlearn: 0.8160544\ttotal: 65.5ms\tremaining: 3.57s\n",
      "18:\tlearn: 0.8096285\ttotal: 65.9ms\tremaining: 3.4s\n",
      "19:\tlearn: 0.8030256\ttotal: 66.5ms\tremaining: 3.26s\n",
      "20:\tlearn: 0.7960223\ttotal: 66.9ms\tremaining: 3.12s\n",
      "21:\tlearn: 0.7889672\ttotal: 67.4ms\tremaining: 3s\n",
      "22:\tlearn: 0.7824359\ttotal: 68ms\tremaining: 2.89s\n",
      "23:\tlearn: 0.7749452\ttotal: 68.5ms\tremaining: 2.78s\n",
      "24:\tlearn: 0.7674365\ttotal: 69ms\tremaining: 2.69s\n",
      "25:\tlearn: 0.7612036\ttotal: 69.5ms\tremaining: 2.6s\n",
      "26:\tlearn: 0.7550775\ttotal: 69.9ms\tremaining: 2.52s\n",
      "27:\tlearn: 0.7492081\ttotal: 70.5ms\tremaining: 2.45s\n",
      "28:\tlearn: 0.7422134\ttotal: 71ms\tremaining: 2.38s\n",
      "29:\tlearn: 0.7364856\ttotal: 71.5ms\tremaining: 2.31s\n",
      "30:\tlearn: 0.7297105\ttotal: 71.9ms\tremaining: 2.25s\n",
      "31:\tlearn: 0.7234491\ttotal: 72.3ms\tremaining: 2.19s\n",
      "32:\tlearn: 0.7177002\ttotal: 72.8ms\tremaining: 2.13s\n",
      "33:\tlearn: 0.7114874\ttotal: 73.2ms\tremaining: 2.08s\n",
      "34:\tlearn: 0.7058657\ttotal: 73.6ms\tremaining: 2.03s\n",
      "35:\tlearn: 0.7010180\ttotal: 74ms\tremaining: 1.98s\n",
      "36:\tlearn: 0.6955630\ttotal: 74.6ms\tremaining: 1.94s\n",
      "37:\tlearn: 0.6884293\ttotal: 75.1ms\tremaining: 1.9s\n",
      "38:\tlearn: 0.6828590\ttotal: 75.5ms\tremaining: 1.86s\n",
      "39:\tlearn: 0.6777309\ttotal: 75.9ms\tremaining: 1.82s\n",
      "40:\tlearn: 0.6730699\ttotal: 76.4ms\tremaining: 1.78s\n",
      "41:\tlearn: 0.6681069\ttotal: 76.7ms\tremaining: 1.75s\n",
      "42:\tlearn: 0.6625715\ttotal: 77.1ms\tremaining: 1.72s\n",
      "43:\tlearn: 0.6571247\ttotal: 78.3ms\tremaining: 1.7s\n",
      "44:\tlearn: 0.6508939\ttotal: 78.6ms\tremaining: 1.67s\n",
      "45:\tlearn: 0.6463917\ttotal: 79.1ms\tremaining: 1.64s\n",
      "46:\tlearn: 0.6412755\ttotal: 79.5ms\tremaining: 1.61s\n",
      "47:\tlearn: 0.6354131\ttotal: 79.9ms\tremaining: 1.58s\n",
      "48:\tlearn: 0.6307565\ttotal: 80.3ms\tremaining: 1.56s\n",
      "49:\tlearn: 0.6254238\ttotal: 80.7ms\tremaining: 1.53s\n",
      "50:\tlearn: 0.6199817\ttotal: 81.3ms\tremaining: 1.51s\n",
      "51:\tlearn: 0.6150154\ttotal: 81.8ms\tremaining: 1.49s\n",
      "52:\tlearn: 0.6097665\ttotal: 82.2ms\tremaining: 1.47s\n",
      "53:\tlearn: 0.6046923\ttotal: 82.7ms\tremaining: 1.45s\n",
      "54:\tlearn: 0.5997306\ttotal: 83.1ms\tremaining: 1.43s\n",
      "55:\tlearn: 0.5961814\ttotal: 83.5ms\tremaining: 1.41s\n",
      "56:\tlearn: 0.5916373\ttotal: 83.9ms\tremaining: 1.39s\n",
      "57:\tlearn: 0.5866584\ttotal: 84.3ms\tremaining: 1.37s\n",
      "58:\tlearn: 0.5821510\ttotal: 84.7ms\tremaining: 1.35s\n",
      "59:\tlearn: 0.5775364\ttotal: 85.2ms\tremaining: 1.33s\n",
      "60:\tlearn: 0.5733691\ttotal: 85.7ms\tremaining: 1.32s\n",
      "61:\tlearn: 0.5688666\ttotal: 86.1ms\tremaining: 1.3s\n",
      "62:\tlearn: 0.5640803\ttotal: 86.7ms\tremaining: 1.29s\n",
      "63:\tlearn: 0.5589208\ttotal: 87.2ms\tremaining: 1.28s\n",
      "64:\tlearn: 0.5550381\ttotal: 87.7ms\tremaining: 1.26s\n",
      "65:\tlearn: 0.5506722\ttotal: 88.2ms\tremaining: 1.25s\n",
      "66:\tlearn: 0.5464170\ttotal: 88.7ms\tremaining: 1.24s\n",
      "67:\tlearn: 0.5422331\ttotal: 89.3ms\tremaining: 1.22s\n",
      "68:\tlearn: 0.5378202\ttotal: 89.8ms\tremaining: 1.21s\n",
      "69:\tlearn: 0.5329215\ttotal: 90.4ms\tremaining: 1.2s\n",
      "70:\tlearn: 0.5293026\ttotal: 90.8ms\tremaining: 1.19s\n",
      "71:\tlearn: 0.5262326\ttotal: 91.4ms\tremaining: 1.18s\n",
      "72:\tlearn: 0.5220336\ttotal: 91.9ms\tremaining: 1.17s\n",
      "73:\tlearn: 0.5182143\ttotal: 92.4ms\tremaining: 1.16s\n",
      "74:\tlearn: 0.5134280\ttotal: 92.8ms\tremaining: 1.15s\n",
      "75:\tlearn: 0.5093406\ttotal: 93.3ms\tremaining: 1.13s\n",
      "76:\tlearn: 0.5054367\ttotal: 93.8ms\tremaining: 1.12s\n",
      "77:\tlearn: 0.5020504\ttotal: 94.2ms\tremaining: 1.11s\n",
      "78:\tlearn: 0.4984547\ttotal: 94.8ms\tremaining: 1.1s\n",
      "79:\tlearn: 0.4943575\ttotal: 95.4ms\tremaining: 1.1s\n",
      "80:\tlearn: 0.4910821\ttotal: 95.9ms\tremaining: 1.09s\n",
      "81:\tlearn: 0.4866202\ttotal: 96.4ms\tremaining: 1.08s\n",
      "82:\tlearn: 0.4828444\ttotal: 96.9ms\tremaining: 1.07s\n",
      "83:\tlearn: 0.4795509\ttotal: 97.4ms\tremaining: 1.06s\n",
      "84:\tlearn: 0.4759507\ttotal: 98ms\tremaining: 1.05s\n",
      "85:\tlearn: 0.4718478\ttotal: 98.4ms\tremaining: 1.04s\n",
      "86:\tlearn: 0.4682940\ttotal: 98.8ms\tremaining: 1.04s\n",
      "87:\tlearn: 0.4643312\ttotal: 99.4ms\tremaining: 1.03s\n",
      "88:\tlearn: 0.4613308\ttotal: 99.9ms\tremaining: 1.02s\n",
      "89:\tlearn: 0.4578508\ttotal: 100ms\tremaining: 1.01s\n",
      "90:\tlearn: 0.4548446\ttotal: 101ms\tremaining: 1.01s\n",
      "91:\tlearn: 0.4506916\ttotal: 101ms\tremaining: 1000ms\n",
      "92:\tlearn: 0.4477513\ttotal: 102ms\tremaining: 993ms\n",
      "93:\tlearn: 0.4450496\ttotal: 102ms\tremaining: 987ms\n",
      "94:\tlearn: 0.4421407\ttotal: 103ms\tremaining: 980ms\n",
      "95:\tlearn: 0.4384217\ttotal: 103ms\tremaining: 972ms\n",
      "96:\tlearn: 0.4348049\ttotal: 104ms\tremaining: 967ms\n",
      "97:\tlearn: 0.4314005\ttotal: 104ms\tremaining: 959ms\n",
      "98:\tlearn: 0.4284598\ttotal: 105ms\tremaining: 954ms\n",
      "99:\tlearn: 0.4251469\ttotal: 105ms\tremaining: 948ms\n",
      "100:\tlearn: 0.4228057\ttotal: 106ms\tremaining: 943ms\n",
      "101:\tlearn: 0.4191007\ttotal: 106ms\tremaining: 937ms\n"
     ]
    },
    {
     "name": "stdout",
     "output_type": "stream",
     "text": [
      "102:\tlearn: 0.4163338\ttotal: 107ms\tremaining: 933ms\n",
      "103:\tlearn: 0.4134427\ttotal: 108ms\tremaining: 928ms\n",
      "104:\tlearn: 0.4102877\ttotal: 108ms\tremaining: 923ms\n",
      "105:\tlearn: 0.4072362\ttotal: 109ms\tremaining: 917ms\n",
      "106:\tlearn: 0.4038354\ttotal: 109ms\tremaining: 911ms\n",
      "107:\tlearn: 0.4006920\ttotal: 110ms\tremaining: 907ms\n",
      "108:\tlearn: 0.3980427\ttotal: 110ms\tremaining: 901ms\n",
      "109:\tlearn: 0.3955085\ttotal: 111ms\tremaining: 896ms\n",
      "110:\tlearn: 0.3922696\ttotal: 111ms\tremaining: 890ms\n",
      "111:\tlearn: 0.3900732\ttotal: 112ms\tremaining: 884ms\n",
      "112:\tlearn: 0.3878936\ttotal: 112ms\tremaining: 878ms\n",
      "113:\tlearn: 0.3849748\ttotal: 112ms\tremaining: 873ms\n",
      "114:\tlearn: 0.3820918\ttotal: 113ms\tremaining: 868ms\n",
      "115:\tlearn: 0.3796454\ttotal: 113ms\tremaining: 863ms\n",
      "116:\tlearn: 0.3770126\ttotal: 114ms\tremaining: 858ms\n",
      "117:\tlearn: 0.3743754\ttotal: 114ms\tremaining: 855ms\n",
      "118:\tlearn: 0.3721822\ttotal: 115ms\tremaining: 849ms\n",
      "119:\tlearn: 0.3693778\ttotal: 115ms\tremaining: 845ms\n",
      "120:\tlearn: 0.3675912\ttotal: 116ms\tremaining: 840ms\n",
      "121:\tlearn: 0.3648895\ttotal: 116ms\tremaining: 835ms\n",
      "122:\tlearn: 0.3625369\ttotal: 117ms\tremaining: 831ms\n",
      "123:\tlearn: 0.3599487\ttotal: 117ms\tremaining: 827ms\n",
      "124:\tlearn: 0.3575008\ttotal: 117ms\tremaining: 822ms\n",
      "125:\tlearn: 0.3554437\ttotal: 118ms\tremaining: 818ms\n",
      "126:\tlearn: 0.3526608\ttotal: 118ms\tremaining: 814ms\n",
      "127:\tlearn: 0.3504309\ttotal: 119ms\tremaining: 811ms\n",
      "128:\tlearn: 0.3483861\ttotal: 119ms\tremaining: 806ms\n",
      "129:\tlearn: 0.3462965\ttotal: 120ms\tremaining: 802ms\n",
      "130:\tlearn: 0.3444116\ttotal: 120ms\tremaining: 798ms\n",
      "131:\tlearn: 0.3422860\ttotal: 121ms\tremaining: 794ms\n",
      "132:\tlearn: 0.3400658\ttotal: 121ms\tremaining: 790ms\n",
      "133:\tlearn: 0.3374726\ttotal: 122ms\tremaining: 787ms\n",
      "134:\tlearn: 0.3353911\ttotal: 122ms\tremaining: 784ms\n",
      "135:\tlearn: 0.3329067\ttotal: 123ms\tremaining: 780ms\n",
      "136:\tlearn: 0.3304833\ttotal: 123ms\tremaining: 777ms\n",
      "137:\tlearn: 0.3281157\ttotal: 124ms\tremaining: 774ms\n",
      "138:\tlearn: 0.3263336\ttotal: 125ms\tremaining: 771ms\n",
      "139:\tlearn: 0.3238777\ttotal: 125ms\tremaining: 768ms\n",
      "140:\tlearn: 0.3217626\ttotal: 126ms\tremaining: 765ms\n",
      "141:\tlearn: 0.3191682\ttotal: 126ms\tremaining: 761ms\n",
      "142:\tlearn: 0.3172510\ttotal: 126ms\tremaining: 757ms\n",
      "143:\tlearn: 0.3152669\ttotal: 127ms\tremaining: 754ms\n",
      "144:\tlearn: 0.3133324\ttotal: 127ms\tremaining: 751ms\n",
      "145:\tlearn: 0.3109909\ttotal: 128ms\tremaining: 748ms\n",
      "146:\tlearn: 0.3093590\ttotal: 128ms\tremaining: 745ms\n",
      "147:\tlearn: 0.3069633\ttotal: 129ms\tremaining: 741ms\n",
      "148:\tlearn: 0.3054386\ttotal: 129ms\tremaining: 739ms\n",
      "149:\tlearn: 0.3026750\ttotal: 130ms\tremaining: 735ms\n",
      "150:\tlearn: 0.3006766\ttotal: 130ms\tremaining: 733ms\n",
      "151:\tlearn: 0.2989483\ttotal: 131ms\tremaining: 730ms\n",
      "152:\tlearn: 0.2969401\ttotal: 131ms\tremaining: 727ms\n",
      "153:\tlearn: 0.2951489\ttotal: 132ms\tremaining: 725ms\n",
      "154:\tlearn: 0.2930645\ttotal: 132ms\tremaining: 722ms\n",
      "155:\tlearn: 0.2915590\ttotal: 133ms\tremaining: 719ms\n",
      "156:\tlearn: 0.2889911\ttotal: 133ms\tremaining: 716ms\n",
      "157:\tlearn: 0.2866002\ttotal: 134ms\tremaining: 713ms\n",
      "158:\tlearn: 0.2846140\ttotal: 134ms\tremaining: 710ms\n",
      "159:\tlearn: 0.2822616\ttotal: 135ms\tremaining: 707ms\n",
      "160:\tlearn: 0.2804573\ttotal: 135ms\tremaining: 704ms\n",
      "161:\tlearn: 0.2785192\ttotal: 136ms\tremaining: 701ms\n",
      "162:\tlearn: 0.2766994\ttotal: 136ms\tremaining: 699ms\n",
      "163:\tlearn: 0.2748985\ttotal: 137ms\tremaining: 697ms\n",
      "164:\tlearn: 0.2730003\ttotal: 137ms\tremaining: 694ms\n",
      "165:\tlearn: 0.2713634\ttotal: 138ms\tremaining: 692ms\n",
      "166:\tlearn: 0.2700374\ttotal: 138ms\tremaining: 689ms\n",
      "167:\tlearn: 0.2683440\ttotal: 139ms\tremaining: 687ms\n",
      "168:\tlearn: 0.2662257\ttotal: 139ms\tremaining: 685ms\n",
      "169:\tlearn: 0.2646609\ttotal: 140ms\tremaining: 682ms\n",
      "170:\tlearn: 0.2626112\ttotal: 140ms\tremaining: 680ms\n",
      "171:\tlearn: 0.2608267\ttotal: 141ms\tremaining: 678ms\n",
      "172:\tlearn: 0.2591906\ttotal: 141ms\tremaining: 676ms\n",
      "173:\tlearn: 0.2577990\ttotal: 142ms\tremaining: 674ms\n",
      "174:\tlearn: 0.2561515\ttotal: 143ms\tremaining: 672ms\n",
      "175:\tlearn: 0.2542058\ttotal: 143ms\tremaining: 669ms\n",
      "176:\tlearn: 0.2522961\ttotal: 144ms\tremaining: 668ms\n",
      "177:\tlearn: 0.2503886\ttotal: 144ms\tremaining: 666ms\n",
      "178:\tlearn: 0.2483365\ttotal: 145ms\tremaining: 663ms\n",
      "179:\tlearn: 0.2469071\ttotal: 145ms\tremaining: 660ms\n",
      "180:\tlearn: 0.2455586\ttotal: 146ms\tremaining: 659ms\n",
      "181:\tlearn: 0.2441450\ttotal: 146ms\tremaining: 656ms\n",
      "182:\tlearn: 0.2427195\ttotal: 147ms\tremaining: 655ms\n",
      "183:\tlearn: 0.2411446\ttotal: 147ms\tremaining: 652ms\n",
      "184:\tlearn: 0.2397421\ttotal: 148ms\tremaining: 650ms\n",
      "185:\tlearn: 0.2384405\ttotal: 148ms\tremaining: 648ms\n",
      "186:\tlearn: 0.2371328\ttotal: 149ms\tremaining: 646ms\n",
      "187:\tlearn: 0.2353066\ttotal: 149ms\tremaining: 644ms\n",
      "188:\tlearn: 0.2337013\ttotal: 150ms\tremaining: 642ms\n",
      "189:\tlearn: 0.2320249\ttotal: 150ms\tremaining: 639ms\n",
      "190:\tlearn: 0.2305910\ttotal: 151ms\tremaining: 638ms\n",
      "191:\tlearn: 0.2290820\ttotal: 151ms\tremaining: 636ms\n",
      "192:\tlearn: 0.2278752\ttotal: 152ms\tremaining: 634ms\n",
      "193:\tlearn: 0.2266473\ttotal: 152ms\tremaining: 632ms\n",
      "194:\tlearn: 0.2252904\ttotal: 153ms\tremaining: 630ms\n",
      "195:\tlearn: 0.2236786\ttotal: 153ms\tremaining: 628ms\n",
      "196:\tlearn: 0.2220142\ttotal: 153ms\tremaining: 626ms\n",
      "197:\tlearn: 0.2208574\ttotal: 154ms\tremaining: 623ms\n",
      "198:\tlearn: 0.2192371\ttotal: 154ms\tremaining: 621ms\n",
      "199:\tlearn: 0.2183072\ttotal: 155ms\tremaining: 619ms\n",
      "200:\tlearn: 0.2170860\ttotal: 155ms\tremaining: 617ms\n",
      "201:\tlearn: 0.2156394\ttotal: 156ms\tremaining: 615ms\n",
      "202:\tlearn: 0.2144184\ttotal: 156ms\tremaining: 613ms\n",
      "203:\tlearn: 0.2129729\ttotal: 157ms\tremaining: 612ms\n",
      "204:\tlearn: 0.2111793\ttotal: 157ms\tremaining: 610ms\n",
      "205:\tlearn: 0.2097774\ttotal: 158ms\tremaining: 609ms\n",
      "206:\tlearn: 0.2085526\ttotal: 158ms\tremaining: 607ms\n",
      "207:\tlearn: 0.2072260\ttotal: 159ms\tremaining: 605ms\n",
      "208:\tlearn: 0.2058957\ttotal: 159ms\tremaining: 603ms\n",
      "209:\tlearn: 0.2042436\ttotal: 160ms\tremaining: 601ms\n",
      "210:\tlearn: 0.2030643\ttotal: 160ms\tremaining: 599ms\n",
      "211:\tlearn: 0.2021509\ttotal: 161ms\tremaining: 597ms\n",
      "212:\tlearn: 0.2006178\ttotal: 161ms\tremaining: 596ms\n",
      "213:\tlearn: 0.1990293\ttotal: 162ms\tremaining: 594ms\n",
      "214:\tlearn: 0.1977394\ttotal: 163ms\tremaining: 594ms\n",
      "215:\tlearn: 0.1964237\ttotal: 163ms\tremaining: 593ms\n",
      "216:\tlearn: 0.1951266\ttotal: 164ms\tremaining: 592ms\n",
      "217:\tlearn: 0.1935662\ttotal: 164ms\tremaining: 590ms\n",
      "218:\tlearn: 0.1919307\ttotal: 165ms\tremaining: 589ms\n",
      "219:\tlearn: 0.1907611\ttotal: 165ms\tremaining: 587ms\n",
      "220:\tlearn: 0.1897574\ttotal: 166ms\tremaining: 585ms\n",
      "221:\tlearn: 0.1886149\ttotal: 166ms\tremaining: 583ms\n",
      "222:\tlearn: 0.1874373\ttotal: 167ms\tremaining: 581ms\n",
      "223:\tlearn: 0.1861616\ttotal: 167ms\tremaining: 580ms\n",
      "224:\tlearn: 0.1851423\ttotal: 168ms\tremaining: 578ms\n",
      "225:\tlearn: 0.1839757\ttotal: 168ms\tremaining: 576ms\n",
      "226:\tlearn: 0.1827034\ttotal: 169ms\tremaining: 575ms\n",
      "227:\tlearn: 0.1816112\ttotal: 169ms\tremaining: 573ms\n",
      "228:\tlearn: 0.1805304\ttotal: 170ms\tremaining: 571ms\n",
      "229:\tlearn: 0.1792573\ttotal: 170ms\tremaining: 569ms\n",
      "230:\tlearn: 0.1782481\ttotal: 170ms\tremaining: 568ms\n",
      "231:\tlearn: 0.1769156\ttotal: 171ms\tremaining: 566ms\n",
      "232:\tlearn: 0.1754775\ttotal: 171ms\tremaining: 564ms\n",
      "233:\tlearn: 0.1743610\ttotal: 172ms\tremaining: 563ms\n",
      "234:\tlearn: 0.1729657\ttotal: 172ms\tremaining: 561ms\n",
      "235:\tlearn: 0.1717348\ttotal: 173ms\tremaining: 560ms\n",
      "236:\tlearn: 0.1706712\ttotal: 173ms\tremaining: 558ms\n",
      "237:\tlearn: 0.1693701\ttotal: 174ms\tremaining: 557ms\n",
      "238:\tlearn: 0.1680775\ttotal: 174ms\tremaining: 555ms\n",
      "239:\tlearn: 0.1672974\ttotal: 175ms\tremaining: 554ms\n",
      "240:\tlearn: 0.1662556\ttotal: 175ms\tremaining: 552ms\n",
      "241:\tlearn: 0.1653543\ttotal: 176ms\tremaining: 551ms\n",
      "242:\tlearn: 0.1642678\ttotal: 176ms\tremaining: 549ms\n",
      "243:\tlearn: 0.1635825\ttotal: 177ms\tremaining: 548ms\n",
      "244:\tlearn: 0.1627382\ttotal: 177ms\tremaining: 547ms\n",
      "245:\tlearn: 0.1615904\ttotal: 178ms\tremaining: 545ms\n",
      "246:\tlearn: 0.1604201\ttotal: 178ms\tremaining: 543ms\n",
      "247:\tlearn: 0.1595277\ttotal: 179ms\tremaining: 542ms\n",
      "248:\tlearn: 0.1586322\ttotal: 179ms\tremaining: 540ms\n",
      "249:\tlearn: 0.1577894\ttotal: 179ms\tremaining: 538ms\n",
      "250:\tlearn: 0.1568258\ttotal: 180ms\tremaining: 537ms\n",
      "251:\tlearn: 0.1557035\ttotal: 180ms\tremaining: 535ms\n",
      "252:\tlearn: 0.1547707\ttotal: 181ms\tremaining: 533ms\n",
      "253:\tlearn: 0.1537204\ttotal: 181ms\tremaining: 532ms\n",
      "254:\tlearn: 0.1527029\ttotal: 182ms\tremaining: 531ms\n",
      "255:\tlearn: 0.1515333\ttotal: 182ms\tremaining: 529ms\n",
      "256:\tlearn: 0.1505150\ttotal: 183ms\tremaining: 528ms\n",
      "257:\tlearn: 0.1496030\ttotal: 183ms\tremaining: 527ms\n",
      "258:\tlearn: 0.1486863\ttotal: 184ms\tremaining: 525ms\n",
      "259:\tlearn: 0.1475493\ttotal: 184ms\tremaining: 524ms\n",
      "260:\tlearn: 0.1465275\ttotal: 185ms\tremaining: 522ms\n",
      "261:\tlearn: 0.1456832\ttotal: 185ms\tremaining: 521ms\n",
      "262:\tlearn: 0.1445529\ttotal: 185ms\tremaining: 520ms\n",
      "263:\tlearn: 0.1434723\ttotal: 186ms\tremaining: 518ms\n"
     ]
    },
    {
     "name": "stdout",
     "output_type": "stream",
     "text": [
      "264:\tlearn: 0.1425915\ttotal: 187ms\tremaining: 518ms\n",
      "265:\tlearn: 0.1417034\ttotal: 187ms\tremaining: 517ms\n",
      "266:\tlearn: 0.1407646\ttotal: 188ms\tremaining: 515ms\n",
      "267:\tlearn: 0.1398523\ttotal: 188ms\tremaining: 514ms\n",
      "268:\tlearn: 0.1388260\ttotal: 189ms\tremaining: 513ms\n",
      "269:\tlearn: 0.1379838\ttotal: 189ms\tremaining: 512ms\n",
      "270:\tlearn: 0.1369063\ttotal: 190ms\tremaining: 511ms\n",
      "271:\tlearn: 0.1359391\ttotal: 190ms\tremaining: 509ms\n",
      "272:\tlearn: 0.1352101\ttotal: 191ms\tremaining: 508ms\n",
      "273:\tlearn: 0.1341831\ttotal: 191ms\tremaining: 507ms\n",
      "274:\tlearn: 0.1333795\ttotal: 192ms\tremaining: 506ms\n",
      "275:\tlearn: 0.1326701\ttotal: 192ms\tremaining: 505ms\n",
      "276:\tlearn: 0.1317583\ttotal: 193ms\tremaining: 504ms\n",
      "277:\tlearn: 0.1310443\ttotal: 193ms\tremaining: 502ms\n",
      "278:\tlearn: 0.1301988\ttotal: 194ms\tremaining: 501ms\n",
      "279:\tlearn: 0.1292829\ttotal: 195ms\tremaining: 500ms\n",
      "280:\tlearn: 0.1286445\ttotal: 195ms\tremaining: 499ms\n",
      "281:\tlearn: 0.1278707\ttotal: 195ms\tremaining: 498ms\n",
      "282:\tlearn: 0.1269858\ttotal: 196ms\tremaining: 497ms\n",
      "283:\tlearn: 0.1263931\ttotal: 197ms\tremaining: 496ms\n",
      "284:\tlearn: 0.1255755\ttotal: 197ms\tremaining: 495ms\n",
      "285:\tlearn: 0.1246684\ttotal: 198ms\tremaining: 494ms\n",
      "286:\tlearn: 0.1240706\ttotal: 198ms\tremaining: 492ms\n",
      "287:\tlearn: 0.1231745\ttotal: 199ms\tremaining: 491ms\n",
      "288:\tlearn: 0.1224899\ttotal: 199ms\tremaining: 490ms\n",
      "289:\tlearn: 0.1215723\ttotal: 200ms\tremaining: 489ms\n",
      "290:\tlearn: 0.1208132\ttotal: 200ms\tremaining: 488ms\n",
      "291:\tlearn: 0.1200564\ttotal: 201ms\tremaining: 487ms\n",
      "292:\tlearn: 0.1194578\ttotal: 201ms\tremaining: 486ms\n",
      "293:\tlearn: 0.1187209\ttotal: 202ms\tremaining: 484ms\n",
      "294:\tlearn: 0.1180999\ttotal: 202ms\tremaining: 483ms\n",
      "295:\tlearn: 0.1175840\ttotal: 203ms\tremaining: 482ms\n",
      "296:\tlearn: 0.1166843\ttotal: 203ms\tremaining: 481ms\n",
      "297:\tlearn: 0.1158891\ttotal: 204ms\tremaining: 479ms\n",
      "298:\tlearn: 0.1153327\ttotal: 204ms\tremaining: 478ms\n",
      "299:\tlearn: 0.1145507\ttotal: 205ms\tremaining: 477ms\n",
      "300:\tlearn: 0.1139450\ttotal: 205ms\tremaining: 476ms\n",
      "301:\tlearn: 0.1131715\ttotal: 206ms\tremaining: 475ms\n",
      "302:\tlearn: 0.1124630\ttotal: 206ms\tremaining: 474ms\n",
      "303:\tlearn: 0.1118035\ttotal: 207ms\tremaining: 473ms\n",
      "304:\tlearn: 0.1110610\ttotal: 207ms\tremaining: 472ms\n",
      "305:\tlearn: 0.1103607\ttotal: 208ms\tremaining: 471ms\n",
      "306:\tlearn: 0.1096390\ttotal: 208ms\tremaining: 470ms\n",
      "307:\tlearn: 0.1091336\ttotal: 209ms\tremaining: 469ms\n",
      "308:\tlearn: 0.1086325\ttotal: 209ms\tremaining: 468ms\n",
      "309:\tlearn: 0.1080613\ttotal: 210ms\tremaining: 467ms\n",
      "310:\tlearn: 0.1073461\ttotal: 210ms\tremaining: 466ms\n",
      "311:\tlearn: 0.1068099\ttotal: 211ms\tremaining: 464ms\n",
      "312:\tlearn: 0.1062809\ttotal: 211ms\tremaining: 463ms\n",
      "313:\tlearn: 0.1056748\ttotal: 212ms\tremaining: 462ms\n",
      "314:\tlearn: 0.1049888\ttotal: 212ms\tremaining: 461ms\n",
      "315:\tlearn: 0.1043592\ttotal: 212ms\tremaining: 460ms\n",
      "316:\tlearn: 0.1036937\ttotal: 213ms\tremaining: 459ms\n",
      "317:\tlearn: 0.1030934\ttotal: 213ms\tremaining: 458ms\n",
      "318:\tlearn: 0.1024420\ttotal: 214ms\tremaining: 456ms\n",
      "319:\tlearn: 0.1018004\ttotal: 214ms\tremaining: 455ms\n",
      "320:\tlearn: 0.1011909\ttotal: 215ms\tremaining: 455ms\n",
      "321:\tlearn: 0.1004585\ttotal: 215ms\tremaining: 453ms\n",
      "322:\tlearn: 0.0999150\ttotal: 216ms\tremaining: 452ms\n",
      "323:\tlearn: 0.0993250\ttotal: 216ms\tremaining: 451ms\n",
      "324:\tlearn: 0.0989009\ttotal: 217ms\tremaining: 450ms\n",
      "325:\tlearn: 0.0983865\ttotal: 217ms\tremaining: 449ms\n",
      "326:\tlearn: 0.0977569\ttotal: 218ms\tremaining: 448ms\n",
      "327:\tlearn: 0.0972866\ttotal: 218ms\tremaining: 447ms\n",
      "328:\tlearn: 0.0967202\ttotal: 219ms\tremaining: 446ms\n",
      "329:\tlearn: 0.0961660\ttotal: 219ms\tremaining: 445ms\n",
      "330:\tlearn: 0.0955473\ttotal: 220ms\tremaining: 444ms\n",
      "331:\tlearn: 0.0949542\ttotal: 220ms\tremaining: 443ms\n",
      "332:\tlearn: 0.0942618\ttotal: 221ms\tremaining: 442ms\n",
      "333:\tlearn: 0.0936722\ttotal: 221ms\tremaining: 441ms\n",
      "334:\tlearn: 0.0930240\ttotal: 222ms\tremaining: 440ms\n",
      "335:\tlearn: 0.0922876\ttotal: 222ms\tremaining: 439ms\n",
      "336:\tlearn: 0.0916741\ttotal: 223ms\tremaining: 438ms\n",
      "337:\tlearn: 0.0911260\ttotal: 223ms\tremaining: 437ms\n",
      "338:\tlearn: 0.0905138\ttotal: 223ms\tremaining: 435ms\n",
      "339:\tlearn: 0.0898794\ttotal: 224ms\tremaining: 434ms\n",
      "340:\tlearn: 0.0893277\ttotal: 224ms\tremaining: 433ms\n",
      "341:\tlearn: 0.0888066\ttotal: 224ms\tremaining: 432ms\n",
      "342:\tlearn: 0.0882143\ttotal: 225ms\tremaining: 431ms\n",
      "343:\tlearn: 0.0876678\ttotal: 226ms\tremaining: 430ms\n",
      "344:\tlearn: 0.0871374\ttotal: 226ms\tremaining: 429ms\n",
      "345:\tlearn: 0.0865690\ttotal: 227ms\tremaining: 428ms\n",
      "346:\tlearn: 0.0861069\ttotal: 227ms\tremaining: 427ms\n",
      "347:\tlearn: 0.0855473\ttotal: 228ms\tremaining: 426ms\n",
      "348:\tlearn: 0.0850843\ttotal: 228ms\tremaining: 425ms\n",
      "349:\tlearn: 0.0845731\ttotal: 228ms\tremaining: 424ms\n",
      "350:\tlearn: 0.0841220\ttotal: 229ms\tremaining: 423ms\n",
      "351:\tlearn: 0.0836497\ttotal: 229ms\tremaining: 422ms\n",
      "352:\tlearn: 0.0832298\ttotal: 230ms\tremaining: 421ms\n",
      "353:\tlearn: 0.0827265\ttotal: 230ms\tremaining: 420ms\n",
      "354:\tlearn: 0.0822993\ttotal: 231ms\tremaining: 420ms\n",
      "355:\tlearn: 0.0818808\ttotal: 231ms\tremaining: 419ms\n",
      "356:\tlearn: 0.0814746\ttotal: 232ms\tremaining: 418ms\n",
      "357:\tlearn: 0.0808498\ttotal: 232ms\tremaining: 416ms\n",
      "358:\tlearn: 0.0804024\ttotal: 233ms\tremaining: 416ms\n",
      "359:\tlearn: 0.0797939\ttotal: 233ms\tremaining: 415ms\n",
      "360:\tlearn: 0.0792258\ttotal: 234ms\tremaining: 414ms\n",
      "361:\tlearn: 0.0787559\ttotal: 234ms\tremaining: 413ms\n",
      "362:\tlearn: 0.0783766\ttotal: 235ms\tremaining: 412ms\n",
      "363:\tlearn: 0.0780588\ttotal: 235ms\tremaining: 411ms\n",
      "364:\tlearn: 0.0775489\ttotal: 236ms\tremaining: 410ms\n",
      "365:\tlearn: 0.0769575\ttotal: 236ms\tremaining: 409ms\n",
      "366:\tlearn: 0.0763759\ttotal: 237ms\tremaining: 408ms\n",
      "367:\tlearn: 0.0758976\ttotal: 237ms\tremaining: 407ms\n",
      "368:\tlearn: 0.0754281\ttotal: 238ms\tremaining: 406ms\n",
      "369:\tlearn: 0.0750945\ttotal: 238ms\tremaining: 405ms\n",
      "370:\tlearn: 0.0747667\ttotal: 239ms\tremaining: 404ms\n",
      "371:\tlearn: 0.0742846\ttotal: 239ms\tremaining: 404ms\n",
      "372:\tlearn: 0.0739376\ttotal: 240ms\tremaining: 403ms\n",
      "373:\tlearn: 0.0735665\ttotal: 240ms\tremaining: 402ms\n",
      "374:\tlearn: 0.0730910\ttotal: 241ms\tremaining: 401ms\n",
      "375:\tlearn: 0.0727809\ttotal: 241ms\tremaining: 400ms\n",
      "376:\tlearn: 0.0724207\ttotal: 242ms\tremaining: 399ms\n",
      "377:\tlearn: 0.0719607\ttotal: 242ms\tremaining: 398ms\n",
      "378:\tlearn: 0.0715030\ttotal: 243ms\tremaining: 397ms\n",
      "379:\tlearn: 0.0711793\ttotal: 243ms\tremaining: 396ms\n",
      "380:\tlearn: 0.0708915\ttotal: 244ms\tremaining: 396ms\n",
      "381:\tlearn: 0.0705409\ttotal: 244ms\tremaining: 395ms\n",
      "382:\tlearn: 0.0701956\ttotal: 245ms\tremaining: 394ms\n",
      "383:\tlearn: 0.0699163\ttotal: 245ms\tremaining: 393ms\n",
      "384:\tlearn: 0.0695780\ttotal: 246ms\tremaining: 393ms\n",
      "385:\tlearn: 0.0691435\ttotal: 246ms\tremaining: 392ms\n",
      "386:\tlearn: 0.0687477\ttotal: 247ms\tremaining: 391ms\n",
      "387:\tlearn: 0.0684708\ttotal: 248ms\tremaining: 390ms\n",
      "388:\tlearn: 0.0681430\ttotal: 248ms\tremaining: 390ms\n",
      "389:\tlearn: 0.0677238\ttotal: 249ms\tremaining: 389ms\n",
      "390:\tlearn: 0.0674643\ttotal: 249ms\tremaining: 388ms\n",
      "391:\tlearn: 0.0670587\ttotal: 249ms\tremaining: 387ms\n",
      "392:\tlearn: 0.0667636\ttotal: 250ms\tremaining: 386ms\n",
      "393:\tlearn: 0.0663663\ttotal: 250ms\tremaining: 385ms\n",
      "394:\tlearn: 0.0659961\ttotal: 251ms\tremaining: 384ms\n",
      "395:\tlearn: 0.0657418\ttotal: 251ms\tremaining: 383ms\n",
      "396:\tlearn: 0.0654904\ttotal: 251ms\tremaining: 382ms\n",
      "397:\tlearn: 0.0650504\ttotal: 252ms\tremaining: 381ms\n",
      "398:\tlearn: 0.0646723\ttotal: 252ms\tremaining: 380ms\n",
      "399:\tlearn: 0.0643413\ttotal: 253ms\tremaining: 380ms\n",
      "400:\tlearn: 0.0640754\ttotal: 254ms\tremaining: 379ms\n",
      "401:\tlearn: 0.0636243\ttotal: 254ms\tremaining: 378ms\n",
      "402:\tlearn: 0.0631608\ttotal: 254ms\tremaining: 377ms\n",
      "403:\tlearn: 0.0629045\ttotal: 255ms\tremaining: 376ms\n",
      "404:\tlearn: 0.0624689\ttotal: 256ms\tremaining: 375ms\n",
      "405:\tlearn: 0.0621513\ttotal: 256ms\tremaining: 375ms\n",
      "406:\tlearn: 0.0617242\ttotal: 256ms\tremaining: 374ms\n",
      "407:\tlearn: 0.0613560\ttotal: 257ms\tremaining: 373ms\n",
      "408:\tlearn: 0.0610847\ttotal: 258ms\tremaining: 372ms\n",
      "409:\tlearn: 0.0607247\ttotal: 258ms\tremaining: 371ms\n",
      "410:\tlearn: 0.0603171\ttotal: 258ms\tremaining: 370ms\n",
      "411:\tlearn: 0.0599167\ttotal: 259ms\tremaining: 370ms\n",
      "412:\tlearn: 0.0595688\ttotal: 259ms\tremaining: 369ms\n",
      "413:\tlearn: 0.0592268\ttotal: 260ms\tremaining: 368ms\n",
      "414:\tlearn: 0.0589254\ttotal: 260ms\tremaining: 367ms\n",
      "415:\tlearn: 0.0585061\ttotal: 261ms\tremaining: 366ms\n",
      "416:\tlearn: 0.0582114\ttotal: 261ms\tremaining: 365ms\n",
      "417:\tlearn: 0.0578493\ttotal: 262ms\tremaining: 364ms\n",
      "418:\tlearn: 0.0575566\ttotal: 262ms\tremaining: 364ms\n",
      "419:\tlearn: 0.0573665\ttotal: 263ms\tremaining: 363ms\n",
      "420:\tlearn: 0.0569871\ttotal: 263ms\tremaining: 362ms\n",
      "421:\tlearn: 0.0566443\ttotal: 264ms\tremaining: 361ms\n",
      "422:\tlearn: 0.0562967\ttotal: 264ms\tremaining: 360ms\n",
      "423:\tlearn: 0.0559543\ttotal: 265ms\tremaining: 359ms\n",
      "424:\tlearn: 0.0556168\ttotal: 265ms\tremaining: 359ms\n",
      "425:\tlearn: 0.0554345\ttotal: 265ms\tremaining: 358ms\n",
      "426:\tlearn: 0.0550766\ttotal: 266ms\tremaining: 357ms\n",
      "427:\tlearn: 0.0547484\ttotal: 266ms\tremaining: 356ms\n",
      "428:\tlearn: 0.0544663\ttotal: 267ms\tremaining: 355ms\n",
      "429:\tlearn: 0.0540927\ttotal: 268ms\tremaining: 355ms\n",
      "430:\tlearn: 0.0537072\ttotal: 268ms\tremaining: 354ms\n",
      "431:\tlearn: 0.0533735\ttotal: 269ms\tremaining: 353ms\n",
      "432:\tlearn: 0.0530832\ttotal: 269ms\tremaining: 352ms\n",
      "433:\tlearn: 0.0527413\ttotal: 270ms\tremaining: 352ms\n",
      "434:\tlearn: 0.0523734\ttotal: 270ms\tremaining: 351ms\n",
      "435:\tlearn: 0.0520370\ttotal: 271ms\tremaining: 350ms\n",
      "436:\tlearn: 0.0516792\ttotal: 271ms\tremaining: 350ms\n",
      "437:\tlearn: 0.0513686\ttotal: 272ms\tremaining: 349ms\n",
      "438:\tlearn: 0.0511102\ttotal: 272ms\tremaining: 348ms\n",
      "439:\tlearn: 0.0507915\ttotal: 273ms\tremaining: 347ms\n",
      "440:\tlearn: 0.0505359\ttotal: 273ms\tremaining: 347ms\n"
     ]
    },
    {
     "name": "stdout",
     "output_type": "stream",
     "text": [
      "441:\tlearn: 0.0501945\ttotal: 274ms\tremaining: 346ms\n",
      "442:\tlearn: 0.0499470\ttotal: 275ms\tremaining: 345ms\n",
      "443:\tlearn: 0.0497026\ttotal: 275ms\tremaining: 345ms\n",
      "444:\tlearn: 0.0494557\ttotal: 276ms\tremaining: 344ms\n",
      "445:\tlearn: 0.0491258\ttotal: 276ms\tremaining: 343ms\n",
      "446:\tlearn: 0.0489738\ttotal: 277ms\tremaining: 343ms\n",
      "447:\tlearn: 0.0487360\ttotal: 277ms\tremaining: 342ms\n",
      "448:\tlearn: 0.0484196\ttotal: 278ms\tremaining: 341ms\n",
      "449:\tlearn: 0.0481863\ttotal: 278ms\tremaining: 340ms\n",
      "450:\tlearn: 0.0478706\ttotal: 279ms\tremaining: 339ms\n",
      "451:\tlearn: 0.0476019\ttotal: 279ms\tremaining: 339ms\n",
      "452:\tlearn: 0.0472942\ttotal: 280ms\tremaining: 338ms\n",
      "453:\tlearn: 0.0469927\ttotal: 280ms\tremaining: 337ms\n",
      "454:\tlearn: 0.0467275\ttotal: 281ms\tremaining: 336ms\n",
      "455:\tlearn: 0.0464517\ttotal: 281ms\tremaining: 336ms\n",
      "456:\tlearn: 0.0461644\ttotal: 282ms\tremaining: 335ms\n",
      "457:\tlearn: 0.0458831\ttotal: 282ms\tremaining: 334ms\n",
      "458:\tlearn: 0.0457436\ttotal: 283ms\tremaining: 333ms\n",
      "459:\tlearn: 0.0455246\ttotal: 283ms\tremaining: 333ms\n",
      "460:\tlearn: 0.0451957\ttotal: 284ms\tremaining: 332ms\n",
      "461:\tlearn: 0.0448965\ttotal: 284ms\tremaining: 331ms\n",
      "462:\tlearn: 0.0446020\ttotal: 285ms\tremaining: 330ms\n",
      "463:\tlearn: 0.0443105\ttotal: 285ms\tremaining: 330ms\n",
      "464:\tlearn: 0.0441033\ttotal: 286ms\tremaining: 329ms\n",
      "465:\tlearn: 0.0438949\ttotal: 286ms\tremaining: 328ms\n",
      "466:\tlearn: 0.0436370\ttotal: 287ms\tremaining: 328ms\n",
      "467:\tlearn: 0.0433843\ttotal: 287ms\tremaining: 327ms\n",
      "468:\tlearn: 0.0432276\ttotal: 288ms\tremaining: 326ms\n",
      "469:\tlearn: 0.0430246\ttotal: 289ms\tremaining: 325ms\n",
      "470:\tlearn: 0.0427784\ttotal: 289ms\tremaining: 325ms\n",
      "471:\tlearn: 0.0425047\ttotal: 289ms\tremaining: 324ms\n",
      "472:\tlearn: 0.0423256\ttotal: 290ms\tremaining: 323ms\n",
      "473:\tlearn: 0.0420643\ttotal: 291ms\tremaining: 322ms\n",
      "474:\tlearn: 0.0419152\ttotal: 291ms\tremaining: 322ms\n",
      "475:\tlearn: 0.0417694\ttotal: 292ms\tremaining: 321ms\n",
      "476:\tlearn: 0.0416215\ttotal: 292ms\tremaining: 320ms\n",
      "477:\tlearn: 0.0414336\ttotal: 293ms\tremaining: 320ms\n",
      "478:\tlearn: 0.0412627\ttotal: 293ms\tremaining: 319ms\n",
      "479:\tlearn: 0.0410745\ttotal: 294ms\tremaining: 318ms\n",
      "480:\tlearn: 0.0408893\ttotal: 295ms\tremaining: 318ms\n",
      "481:\tlearn: 0.0407234\ttotal: 295ms\tremaining: 317ms\n",
      "482:\tlearn: 0.0405421\ttotal: 296ms\tremaining: 316ms\n",
      "483:\tlearn: 0.0403650\ttotal: 296ms\tremaining: 316ms\n",
      "484:\tlearn: 0.0401439\ttotal: 297ms\tremaining: 315ms\n",
      "485:\tlearn: 0.0399409\ttotal: 297ms\tremaining: 314ms\n",
      "486:\tlearn: 0.0397714\ttotal: 298ms\tremaining: 313ms\n",
      "487:\tlearn: 0.0396589\ttotal: 298ms\tremaining: 313ms\n",
      "488:\tlearn: 0.0394123\ttotal: 298ms\tremaining: 312ms\n",
      "489:\tlearn: 0.0392481\ttotal: 299ms\tremaining: 311ms\n",
      "490:\tlearn: 0.0390065\ttotal: 300ms\tremaining: 311ms\n",
      "491:\tlearn: 0.0388977\ttotal: 300ms\tremaining: 310ms\n",
      "492:\tlearn: 0.0386604\ttotal: 301ms\tremaining: 309ms\n",
      "493:\tlearn: 0.0385083\ttotal: 301ms\tremaining: 308ms\n",
      "494:\tlearn: 0.0384025\ttotal: 302ms\tremaining: 308ms\n",
      "495:\tlearn: 0.0381705\ttotal: 302ms\tremaining: 307ms\n",
      "496:\tlearn: 0.0380440\ttotal: 303ms\tremaining: 306ms\n",
      "497:\tlearn: 0.0378163\ttotal: 303ms\tremaining: 306ms\n",
      "498:\tlearn: 0.0376295\ttotal: 304ms\tremaining: 305ms\n",
      "499:\tlearn: 0.0374463\ttotal: 304ms\tremaining: 304ms\n",
      "500:\tlearn: 0.0372495\ttotal: 305ms\tremaining: 304ms\n",
      "501:\tlearn: 0.0370718\ttotal: 305ms\tremaining: 303ms\n",
      "502:\tlearn: 0.0369070\ttotal: 306ms\tremaining: 302ms\n",
      "503:\tlearn: 0.0367402\ttotal: 306ms\tremaining: 301ms\n",
      "504:\tlearn: 0.0365686\ttotal: 307ms\tremaining: 301ms\n",
      "505:\tlearn: 0.0364296\ttotal: 307ms\tremaining: 300ms\n",
      "506:\tlearn: 0.0362682\ttotal: 308ms\tremaining: 299ms\n",
      "507:\tlearn: 0.0360066\ttotal: 308ms\tremaining: 299ms\n",
      "508:\tlearn: 0.0358538\ttotal: 309ms\tremaining: 298ms\n",
      "509:\tlearn: 0.0356462\ttotal: 309ms\tremaining: 297ms\n",
      "510:\tlearn: 0.0354419\ttotal: 310ms\tremaining: 297ms\n",
      "511:\tlearn: 0.0351902\ttotal: 311ms\tremaining: 296ms\n",
      "512:\tlearn: 0.0350794\ttotal: 311ms\tremaining: 295ms\n",
      "513:\tlearn: 0.0348800\ttotal: 312ms\tremaining: 295ms\n",
      "514:\tlearn: 0.0347718\ttotal: 312ms\tremaining: 294ms\n",
      "515:\tlearn: 0.0345762\ttotal: 313ms\tremaining: 293ms\n",
      "516:\tlearn: 0.0344089\ttotal: 313ms\tremaining: 293ms\n",
      "517:\tlearn: 0.0342168\ttotal: 314ms\tremaining: 292ms\n",
      "518:\tlearn: 0.0340278\ttotal: 314ms\tremaining: 291ms\n",
      "519:\tlearn: 0.0338418\ttotal: 315ms\tremaining: 291ms\n",
      "520:\tlearn: 0.0336587\ttotal: 316ms\tremaining: 290ms\n",
      "521:\tlearn: 0.0334844\ttotal: 316ms\tremaining: 290ms\n",
      "522:\tlearn: 0.0333730\ttotal: 317ms\tremaining: 289ms\n",
      "523:\tlearn: 0.0331380\ttotal: 317ms\tremaining: 288ms\n",
      "524:\tlearn: 0.0329604\ttotal: 318ms\tremaining: 287ms\n",
      "525:\tlearn: 0.0328527\ttotal: 318ms\tremaining: 287ms\n",
      "526:\tlearn: 0.0326248\ttotal: 319ms\tremaining: 286ms\n",
      "527:\tlearn: 0.0324515\ttotal: 319ms\tremaining: 285ms\n",
      "528:\tlearn: 0.0323649\ttotal: 320ms\tremaining: 285ms\n",
      "529:\tlearn: 0.0321915\ttotal: 320ms\tremaining: 284ms\n",
      "530:\tlearn: 0.0320428\ttotal: 320ms\tremaining: 283ms\n",
      "531:\tlearn: 0.0318961\ttotal: 321ms\tremaining: 282ms\n",
      "532:\tlearn: 0.0317527\ttotal: 321ms\tremaining: 281ms\n",
      "533:\tlearn: 0.0315866\ttotal: 321ms\tremaining: 280ms\n",
      "534:\tlearn: 0.0314882\ttotal: 322ms\tremaining: 280ms\n",
      "535:\tlearn: 0.0313253\ttotal: 322ms\tremaining: 279ms\n",
      "536:\tlearn: 0.0312514\ttotal: 322ms\tremaining: 278ms\n",
      "537:\tlearn: 0.0311717\ttotal: 322ms\tremaining: 277ms\n",
      "538:\tlearn: 0.0311000\ttotal: 323ms\tremaining: 276ms\n",
      "539:\tlearn: 0.0310298\ttotal: 323ms\tremaining: 275ms\n",
      "540:\tlearn: 0.0309207\ttotal: 323ms\tremaining: 274ms\n",
      "541:\tlearn: 0.0308019\ttotal: 324ms\tremaining: 274ms\n",
      "542:\tlearn: 0.0306438\ttotal: 324ms\tremaining: 273ms\n",
      "543:\tlearn: 0.0305004\ttotal: 325ms\tremaining: 272ms\n",
      "544:\tlearn: 0.0303817\ttotal: 325ms\tremaining: 271ms\n",
      "545:\tlearn: 0.0302444\ttotal: 326ms\tremaining: 271ms\n",
      "546:\tlearn: 0.0301235\ttotal: 326ms\tremaining: 270ms\n",
      "547:\tlearn: 0.0300351\ttotal: 327ms\tremaining: 269ms\n",
      "548:\tlearn: 0.0298850\ttotal: 327ms\tremaining: 269ms\n",
      "549:\tlearn: 0.0297738\ttotal: 328ms\tremaining: 268ms\n",
      "550:\tlearn: 0.0296610\ttotal: 328ms\tremaining: 267ms\n",
      "551:\tlearn: 0.0295324\ttotal: 329ms\tremaining: 267ms\n",
      "552:\tlearn: 0.0294261\ttotal: 329ms\tremaining: 266ms\n",
      "553:\tlearn: 0.0292803\ttotal: 330ms\tremaining: 265ms\n",
      "554:\tlearn: 0.0292083\ttotal: 330ms\tremaining: 265ms\n",
      "555:\tlearn: 0.0291378\ttotal: 331ms\tremaining: 264ms\n",
      "556:\tlearn: 0.0290301\ttotal: 331ms\tremaining: 263ms\n",
      "557:\tlearn: 0.0289234\ttotal: 332ms\tremaining: 263ms\n",
      "558:\tlearn: 0.0288001\ttotal: 332ms\tremaining: 262ms\n",
      "559:\tlearn: 0.0286791\ttotal: 333ms\tremaining: 261ms\n",
      "560:\tlearn: 0.0285383\ttotal: 333ms\tremaining: 261ms\n",
      "561:\tlearn: 0.0284325\ttotal: 334ms\tremaining: 260ms\n",
      "562:\tlearn: 0.0283041\ttotal: 334ms\tremaining: 259ms\n",
      "563:\tlearn: 0.0281931\ttotal: 335ms\tremaining: 259ms\n",
      "564:\tlearn: 0.0280565\ttotal: 335ms\tremaining: 258ms\n",
      "565:\tlearn: 0.0279415\ttotal: 336ms\tremaining: 258ms\n",
      "566:\tlearn: 0.0278291\ttotal: 336ms\tremaining: 257ms\n",
      "567:\tlearn: 0.0277067\ttotal: 337ms\tremaining: 256ms\n",
      "568:\tlearn: 0.0275871\ttotal: 337ms\tremaining: 256ms\n",
      "569:\tlearn: 0.0274807\ttotal: 338ms\tremaining: 255ms\n",
      "570:\tlearn: 0.0273763\ttotal: 338ms\tremaining: 254ms\n",
      "571:\tlearn: 0.0272801\ttotal: 339ms\tremaining: 254ms\n",
      "572:\tlearn: 0.0271658\ttotal: 340ms\tremaining: 253ms\n",
      "573:\tlearn: 0.0270647\ttotal: 340ms\tremaining: 252ms\n",
      "574:\tlearn: 0.0268693\ttotal: 341ms\tremaining: 252ms\n",
      "575:\tlearn: 0.0267760\ttotal: 341ms\tremaining: 251ms\n",
      "576:\tlearn: 0.0266424\ttotal: 342ms\tremaining: 250ms\n",
      "577:\tlearn: 0.0265988\ttotal: 342ms\tremaining: 250ms\n",
      "578:\tlearn: 0.0264728\ttotal: 343ms\tremaining: 249ms\n",
      "579:\tlearn: 0.0263489\ttotal: 343ms\tremaining: 249ms\n",
      "580:\tlearn: 0.0262417\ttotal: 344ms\tremaining: 248ms\n",
      "581:\tlearn: 0.0261462\ttotal: 344ms\tremaining: 247ms\n",
      "582:\tlearn: 0.0260534\ttotal: 345ms\tremaining: 247ms\n",
      "583:\tlearn: 0.0259603\ttotal: 345ms\tremaining: 246ms\n",
      "584:\tlearn: 0.0258708\ttotal: 346ms\tremaining: 245ms\n",
      "585:\tlearn: 0.0257775\ttotal: 347ms\tremaining: 245ms\n",
      "586:\tlearn: 0.0256339\ttotal: 347ms\tremaining: 244ms\n",
      "587:\tlearn: 0.0255436\ttotal: 348ms\tremaining: 244ms\n",
      "588:\tlearn: 0.0254248\ttotal: 348ms\tremaining: 243ms\n",
      "589:\tlearn: 0.0253365\ttotal: 349ms\tremaining: 242ms\n",
      "590:\tlearn: 0.0252396\ttotal: 349ms\tremaining: 242ms\n",
      "591:\tlearn: 0.0251058\ttotal: 350ms\tremaining: 241ms\n",
      "592:\tlearn: 0.0249272\ttotal: 351ms\tremaining: 241ms\n",
      "593:\tlearn: 0.0247963\ttotal: 351ms\tremaining: 240ms\n",
      "594:\tlearn: 0.0246220\ttotal: 351ms\tremaining: 239ms\n",
      "595:\tlearn: 0.0244900\ttotal: 352ms\tremaining: 239ms\n",
      "596:\tlearn: 0.0243199\ttotal: 352ms\tremaining: 238ms\n",
      "597:\tlearn: 0.0242072\ttotal: 353ms\tremaining: 237ms\n",
      "598:\tlearn: 0.0240785\ttotal: 353ms\tremaining: 237ms\n"
     ]
    },
    {
     "name": "stdout",
     "output_type": "stream",
     "text": [
      "599:\tlearn: 0.0239558\ttotal: 354ms\tremaining: 236ms\n",
      "600:\tlearn: 0.0237909\ttotal: 355ms\tremaining: 236ms\n",
      "601:\tlearn: 0.0236673\ttotal: 356ms\tremaining: 235ms\n",
      "602:\tlearn: 0.0235065\ttotal: 356ms\tremaining: 234ms\n",
      "603:\tlearn: 0.0233890\ttotal: 357ms\tremaining: 234ms\n",
      "604:\tlearn: 0.0232492\ttotal: 357ms\tremaining: 233ms\n",
      "605:\tlearn: 0.0231363\ttotal: 357ms\tremaining: 232ms\n",
      "606:\tlearn: 0.0230869\ttotal: 358ms\tremaining: 232ms\n",
      "607:\tlearn: 0.0229969\ttotal: 358ms\tremaining: 231ms\n",
      "608:\tlearn: 0.0228907\ttotal: 359ms\tremaining: 230ms\n",
      "609:\tlearn: 0.0228358\ttotal: 359ms\tremaining: 230ms\n",
      "610:\tlearn: 0.0227316\ttotal: 360ms\tremaining: 229ms\n",
      "611:\tlearn: 0.0226206\ttotal: 360ms\tremaining: 228ms\n",
      "612:\tlearn: 0.0225670\ttotal: 361ms\tremaining: 228ms\n",
      "613:\tlearn: 0.0224578\ttotal: 361ms\tremaining: 227ms\n",
      "614:\tlearn: 0.0223590\ttotal: 362ms\tremaining: 226ms\n",
      "615:\tlearn: 0.0222243\ttotal: 362ms\tremaining: 226ms\n",
      "616:\tlearn: 0.0221794\ttotal: 363ms\tremaining: 226ms\n",
      "617:\tlearn: 0.0220659\ttotal: 364ms\tremaining: 225ms\n",
      "618:\tlearn: 0.0219346\ttotal: 364ms\tremaining: 224ms\n",
      "619:\tlearn: 0.0218901\ttotal: 365ms\tremaining: 224ms\n",
      "620:\tlearn: 0.0218464\ttotal: 365ms\tremaining: 223ms\n",
      "621:\tlearn: 0.0217182\ttotal: 366ms\tremaining: 222ms\n",
      "622:\tlearn: 0.0215799\ttotal: 366ms\tremaining: 222ms\n",
      "623:\tlearn: 0.0215373\ttotal: 367ms\tremaining: 221ms\n",
      "624:\tlearn: 0.0214561\ttotal: 367ms\tremaining: 220ms\n",
      "625:\tlearn: 0.0213272\ttotal: 368ms\tremaining: 220ms\n",
      "626:\tlearn: 0.0212238\ttotal: 368ms\tremaining: 219ms\n",
      "627:\tlearn: 0.0211867\ttotal: 369ms\tremaining: 218ms\n",
      "628:\tlearn: 0.0211454\ttotal: 369ms\tremaining: 218ms\n",
      "629:\tlearn: 0.0210441\ttotal: 370ms\tremaining: 217ms\n",
      "630:\tlearn: 0.0209695\ttotal: 370ms\tremaining: 217ms\n",
      "631:\tlearn: 0.0209141\ttotal: 371ms\tremaining: 216ms\n",
      "632:\tlearn: 0.0208215\ttotal: 371ms\tremaining: 215ms\n",
      "633:\tlearn: 0.0207678\ttotal: 372ms\tremaining: 215ms\n",
      "634:\tlearn: 0.0206771\ttotal: 372ms\tremaining: 214ms\n",
      "635:\tlearn: 0.0206062\ttotal: 373ms\tremaining: 213ms\n",
      "636:\tlearn: 0.0205172\ttotal: 373ms\tremaining: 213ms\n",
      "637:\tlearn: 0.0203894\ttotal: 374ms\tremaining: 212ms\n",
      "638:\tlearn: 0.0202678\ttotal: 374ms\tremaining: 211ms\n",
      "639:\tlearn: 0.0201925\ttotal: 375ms\tremaining: 211ms\n",
      "640:\tlearn: 0.0201192\ttotal: 375ms\tremaining: 210ms\n",
      "641:\tlearn: 0.0200833\ttotal: 376ms\tremaining: 210ms\n",
      "642:\tlearn: 0.0200610\ttotal: 376ms\tremaining: 209ms\n",
      "643:\tlearn: 0.0200389\ttotal: 377ms\tremaining: 208ms\n",
      "644:\tlearn: 0.0199424\ttotal: 377ms\tremaining: 208ms\n",
      "645:\tlearn: 0.0198192\ttotal: 378ms\tremaining: 207ms\n",
      "646:\tlearn: 0.0196904\ttotal: 378ms\tremaining: 206ms\n",
      "647:\tlearn: 0.0196096\ttotal: 379ms\tremaining: 206ms\n",
      "648:\tlearn: 0.0195786\ttotal: 379ms\tremaining: 205ms\n",
      "649:\tlearn: 0.0194783\ttotal: 380ms\tremaining: 204ms\n",
      "650:\tlearn: 0.0194002\ttotal: 380ms\tremaining: 204ms\n",
      "651:\tlearn: 0.0193021\ttotal: 381ms\tremaining: 203ms\n",
      "652:\tlearn: 0.0191840\ttotal: 381ms\tremaining: 202ms\n",
      "653:\tlearn: 0.0190891\ttotal: 382ms\tremaining: 202ms\n",
      "654:\tlearn: 0.0190590\ttotal: 382ms\tremaining: 201ms\n",
      "655:\tlearn: 0.0189660\ttotal: 383ms\tremaining: 201ms\n",
      "656:\tlearn: 0.0189296\ttotal: 383ms\tremaining: 200ms\n",
      "657:\tlearn: 0.0189001\ttotal: 384ms\tremaining: 199ms\n",
      "658:\tlearn: 0.0188187\ttotal: 384ms\tremaining: 199ms\n",
      "659:\tlearn: 0.0187831\ttotal: 385ms\tremaining: 198ms\n",
      "660:\tlearn: 0.0186624\ttotal: 386ms\tremaining: 198ms\n",
      "661:\tlearn: 0.0186336\ttotal: 386ms\tremaining: 197ms\n",
      "662:\tlearn: 0.0186070\ttotal: 387ms\tremaining: 197ms\n",
      "663:\tlearn: 0.0185808\ttotal: 387ms\tremaining: 196ms\n",
      "664:\tlearn: 0.0185073\ttotal: 388ms\tremaining: 195ms\n",
      "665:\tlearn: 0.0184207\ttotal: 388ms\tremaining: 195ms\n",
      "666:\tlearn: 0.0183933\ttotal: 389ms\tremaining: 194ms\n",
      "667:\tlearn: 0.0183282\ttotal: 389ms\tremaining: 193ms\n",
      "668:\tlearn: 0.0183020\ttotal: 390ms\tremaining: 193ms\n",
      "669:\tlearn: 0.0182255\ttotal: 390ms\tremaining: 192ms\n",
      "670:\tlearn: 0.0181916\ttotal: 390ms\tremaining: 191ms\n",
      "671:\tlearn: 0.0181284\ttotal: 391ms\tremaining: 191ms\n",
      "672:\tlearn: 0.0181088\ttotal: 391ms\tremaining: 190ms\n",
      "673:\tlearn: 0.0180895\ttotal: 392ms\tremaining: 190ms\n",
      "674:\tlearn: 0.0180100\ttotal: 392ms\tremaining: 189ms\n",
      "675:\tlearn: 0.0179736\ttotal: 393ms\tremaining: 188ms\n",
      "676:\tlearn: 0.0179494\ttotal: 393ms\tremaining: 188ms\n",
      "677:\tlearn: 0.0178881\ttotal: 394ms\tremaining: 187ms\n",
      "678:\tlearn: 0.0178147\ttotal: 394ms\tremaining: 186ms\n",
      "679:\tlearn: 0.0177792\ttotal: 395ms\tremaining: 186ms\n",
      "680:\tlearn: 0.0177196\ttotal: 395ms\tremaining: 185ms\n",
      "681:\tlearn: 0.0177009\ttotal: 396ms\tremaining: 185ms\n",
      "682:\tlearn: 0.0176367\ttotal: 397ms\tremaining: 184ms\n",
      "683:\tlearn: 0.0175775\ttotal: 397ms\tremaining: 183ms\n",
      "684:\tlearn: 0.0175599\ttotal: 398ms\tremaining: 183ms\n",
      "685:\tlearn: 0.0174999\ttotal: 398ms\tremaining: 182ms\n",
      "686:\tlearn: 0.0174194\ttotal: 399ms\tremaining: 182ms\n",
      "687:\tlearn: 0.0173849\ttotal: 399ms\tremaining: 181ms\n",
      "688:\tlearn: 0.0173289\ttotal: 400ms\tremaining: 180ms\n",
      "689:\tlearn: 0.0172997\ttotal: 400ms\tremaining: 180ms\n",
      "690:\tlearn: 0.0172434\ttotal: 401ms\tremaining: 179ms\n",
      "691:\tlearn: 0.0171826\ttotal: 401ms\tremaining: 179ms\n",
      "692:\tlearn: 0.0171134\ttotal: 402ms\tremaining: 178ms\n",
      "693:\tlearn: 0.0170802\ttotal: 402ms\tremaining: 177ms\n",
      "694:\tlearn: 0.0170151\ttotal: 403ms\tremaining: 177ms\n",
      "695:\tlearn: 0.0169257\ttotal: 403ms\tremaining: 176ms\n",
      "696:\tlearn: 0.0168557\ttotal: 404ms\tremaining: 175ms\n",
      "697:\tlearn: 0.0168299\ttotal: 404ms\tremaining: 175ms\n",
      "698:\tlearn: 0.0167735\ttotal: 405ms\tremaining: 174ms\n",
      "699:\tlearn: 0.0167054\ttotal: 405ms\tremaining: 174ms\n",
      "700:\tlearn: 0.0166823\ttotal: 406ms\tremaining: 173ms\n",
      "701:\tlearn: 0.0166505\ttotal: 406ms\tremaining: 173ms\n",
      "702:\tlearn: 0.0166254\ttotal: 407ms\tremaining: 172ms\n",
      "703:\tlearn: 0.0165640\ttotal: 407ms\tremaining: 171ms\n",
      "704:\tlearn: 0.0164835\ttotal: 408ms\tremaining: 171ms\n",
      "705:\tlearn: 0.0164045\ttotal: 408ms\tremaining: 170ms\n",
      "706:\tlearn: 0.0163396\ttotal: 409ms\tremaining: 169ms\n",
      "707:\tlearn: 0.0163115\ttotal: 409ms\tremaining: 169ms\n",
      "708:\tlearn: 0.0162261\ttotal: 410ms\tremaining: 168ms\n",
      "709:\tlearn: 0.0162042\ttotal: 410ms\tremaining: 168ms\n",
      "710:\tlearn: 0.0161274\ttotal: 411ms\tremaining: 167ms\n",
      "711:\tlearn: 0.0160437\ttotal: 411ms\tremaining: 166ms\n",
      "712:\tlearn: 0.0159686\ttotal: 412ms\tremaining: 166ms\n",
      "713:\tlearn: 0.0159060\ttotal: 412ms\tremaining: 165ms\n",
      "714:\tlearn: 0.0158447\ttotal: 413ms\tremaining: 165ms\n",
      "715:\tlearn: 0.0157630\ttotal: 413ms\tremaining: 164ms\n",
      "716:\tlearn: 0.0157033\ttotal: 414ms\tremaining: 163ms\n",
      "717:\tlearn: 0.0156462\ttotal: 414ms\tremaining: 163ms\n",
      "718:\tlearn: 0.0155886\ttotal: 415ms\tremaining: 162ms\n",
      "719:\tlearn: 0.0155200\ttotal: 415ms\tremaining: 162ms\n",
      "720:\tlearn: 0.0154483\ttotal: 416ms\tremaining: 161ms\n",
      "721:\tlearn: 0.0153815\ttotal: 416ms\tremaining: 160ms\n",
      "722:\tlearn: 0.0153114\ttotal: 417ms\tremaining: 160ms\n",
      "723:\tlearn: 0.0152339\ttotal: 417ms\tremaining: 159ms\n",
      "724:\tlearn: 0.0151704\ttotal: 418ms\tremaining: 158ms\n",
      "725:\tlearn: 0.0150948\ttotal: 418ms\tremaining: 158ms\n",
      "726:\tlearn: 0.0150427\ttotal: 419ms\tremaining: 157ms\n",
      "727:\tlearn: 0.0149647\ttotal: 419ms\tremaining: 157ms\n",
      "728:\tlearn: 0.0148971\ttotal: 420ms\tremaining: 156ms\n",
      "729:\tlearn: 0.0148205\ttotal: 420ms\tremaining: 155ms\n",
      "730:\tlearn: 0.0147475\ttotal: 421ms\tremaining: 155ms\n",
      "731:\tlearn: 0.0146816\ttotal: 422ms\tremaining: 154ms\n",
      "732:\tlearn: 0.0146068\ttotal: 422ms\tremaining: 154ms\n",
      "733:\tlearn: 0.0145876\ttotal: 422ms\tremaining: 153ms\n",
      "734:\tlearn: 0.0145687\ttotal: 423ms\tremaining: 152ms\n",
      "735:\tlearn: 0.0144716\ttotal: 423ms\tremaining: 152ms\n",
      "736:\tlearn: 0.0143986\ttotal: 424ms\tremaining: 151ms\n",
      "737:\tlearn: 0.0143349\ttotal: 424ms\tremaining: 151ms\n",
      "738:\tlearn: 0.0142409\ttotal: 425ms\tremaining: 150ms\n",
      "739:\tlearn: 0.0141636\ttotal: 426ms\tremaining: 150ms\n",
      "740:\tlearn: 0.0141146\ttotal: 426ms\tremaining: 149ms\n",
      "741:\tlearn: 0.0140590\ttotal: 427ms\tremaining: 148ms\n",
      "742:\tlearn: 0.0139685\ttotal: 427ms\tremaining: 148ms\n",
      "743:\tlearn: 0.0138984\ttotal: 428ms\tremaining: 147ms\n",
      "744:\tlearn: 0.0138241\ttotal: 428ms\tremaining: 147ms\n",
      "745:\tlearn: 0.0137769\ttotal: 429ms\tremaining: 146ms\n",
      "746:\tlearn: 0.0136898\ttotal: 429ms\tremaining: 145ms\n",
      "747:\tlearn: 0.0136235\ttotal: 430ms\tremaining: 145ms\n",
      "748:\tlearn: 0.0135536\ttotal: 430ms\tremaining: 144ms\n",
      "749:\tlearn: 0.0134601\ttotal: 431ms\tremaining: 144ms\n",
      "750:\tlearn: 0.0133959\ttotal: 431ms\tremaining: 143ms\n",
      "751:\tlearn: 0.0133363\ttotal: 432ms\tremaining: 142ms\n",
      "752:\tlearn: 0.0132778\ttotal: 432ms\tremaining: 142ms\n",
      "753:\tlearn: 0.0132151\ttotal: 433ms\tremaining: 141ms\n",
      "754:\tlearn: 0.0131522\ttotal: 433ms\tremaining: 141ms\n",
      "755:\tlearn: 0.0131351\ttotal: 434ms\tremaining: 140ms\n",
      "756:\tlearn: 0.0131183\ttotal: 435ms\tremaining: 139ms\n",
      "757:\tlearn: 0.0130498\ttotal: 435ms\tremaining: 139ms\n",
      "758:\tlearn: 0.0130334\ttotal: 436ms\tremaining: 138ms\n",
      "759:\tlearn: 0.0129454\ttotal: 436ms\tremaining: 138ms\n",
      "760:\tlearn: 0.0129292\ttotal: 437ms\tremaining: 137ms\n",
      "761:\tlearn: 0.0128719\ttotal: 437ms\tremaining: 137ms\n",
      "762:\tlearn: 0.0127864\ttotal: 438ms\tremaining: 136ms\n",
      "763:\tlearn: 0.0127304\ttotal: 438ms\tremaining: 135ms\n",
      "764:\tlearn: 0.0126763\ttotal: 439ms\tremaining: 135ms\n",
      "765:\tlearn: 0.0126183\ttotal: 439ms\tremaining: 134ms\n",
      "766:\tlearn: 0.0126057\ttotal: 440ms\tremaining: 134ms\n",
      "767:\tlearn: 0.0125934\ttotal: 440ms\tremaining: 133ms\n",
      "768:\tlearn: 0.0125806\ttotal: 441ms\tremaining: 132ms\n",
      "769:\tlearn: 0.0125264\ttotal: 441ms\tremaining: 132ms\n",
      "770:\tlearn: 0.0124696\ttotal: 442ms\tremaining: 131ms\n",
      "771:\tlearn: 0.0124139\ttotal: 442ms\tremaining: 131ms\n",
      "772:\tlearn: 0.0123987\ttotal: 443ms\tremaining: 130ms\n",
      "773:\tlearn: 0.0123307\ttotal: 443ms\tremaining: 129ms\n",
      "774:\tlearn: 0.0123158\ttotal: 444ms\tremaining: 129ms\n",
      "775:\tlearn: 0.0122492\ttotal: 444ms\tremaining: 128ms\n",
      "776:\tlearn: 0.0122345\ttotal: 445ms\tremaining: 128ms\n",
      "777:\tlearn: 0.0122201\ttotal: 446ms\tremaining: 127ms\n",
      "778:\tlearn: 0.0122049\ttotal: 446ms\tremaining: 127ms\n",
      "779:\tlearn: 0.0121907\ttotal: 447ms\tremaining: 126ms\n",
      "780:\tlearn: 0.0121467\ttotal: 447ms\tremaining: 125ms\n",
      "781:\tlearn: 0.0120927\ttotal: 448ms\tremaining: 125ms\n",
      "782:\tlearn: 0.0120787\ttotal: 448ms\tremaining: 124ms\n",
      "783:\tlearn: 0.0120361\ttotal: 449ms\tremaining: 124ms\n",
      "784:\tlearn: 0.0119840\ttotal: 449ms\tremaining: 123ms\n",
      "785:\tlearn: 0.0119703\ttotal: 450ms\tremaining: 123ms\n",
      "786:\tlearn: 0.0119126\ttotal: 450ms\tremaining: 122ms\n",
      "787:\tlearn: 0.0118991\ttotal: 451ms\tremaining: 121ms\n",
      "788:\tlearn: 0.0118847\ttotal: 451ms\tremaining: 121ms\n",
      "789:\tlearn: 0.0118373\ttotal: 452ms\tremaining: 120ms\n",
      "790:\tlearn: 0.0118241\ttotal: 452ms\tremaining: 120ms\n",
      "791:\tlearn: 0.0118111\ttotal: 453ms\tremaining: 119ms\n",
      "792:\tlearn: 0.0117969\ttotal: 453ms\tremaining: 118ms\n",
      "793:\tlearn: 0.0117841\ttotal: 454ms\tremaining: 118ms\n",
      "794:\tlearn: 0.0117380\ttotal: 454ms\tremaining: 117ms\n",
      "795:\tlearn: 0.0117255\ttotal: 455ms\tremaining: 117ms\n",
      "796:\tlearn: 0.0117131\ttotal: 455ms\tremaining: 116ms\n",
      "797:\tlearn: 0.0116991\ttotal: 456ms\tremaining: 115ms\n",
      "798:\tlearn: 0.0116869\ttotal: 456ms\tremaining: 115ms\n",
      "799:\tlearn: 0.0116731\ttotal: 457ms\tremaining: 114ms\n",
      "800:\tlearn: 0.0116190\ttotal: 457ms\tremaining: 114ms\n",
      "801:\tlearn: 0.0116070\ttotal: 458ms\tremaining: 113ms\n",
      "802:\tlearn: 0.0115630\ttotal: 458ms\tremaining: 112ms\n"
     ]
    },
    {
     "name": "stdout",
     "output_type": "stream",
     "text": [
      "803:\tlearn: 0.0115512\ttotal: 458ms\tremaining: 112ms\n",
      "804:\tlearn: 0.0115396\ttotal: 459ms\tremaining: 111ms\n",
      "805:\tlearn: 0.0115226\ttotal: 460ms\tremaining: 111ms\n",
      "806:\tlearn: 0.0114796\ttotal: 460ms\tremaining: 110ms\n",
      "807:\tlearn: 0.0114702\ttotal: 461ms\tremaining: 109ms\n",
      "808:\tlearn: 0.0114316\ttotal: 461ms\tremaining: 109ms\n",
      "809:\tlearn: 0.0114224\ttotal: 462ms\tremaining: 108ms\n",
      "810:\tlearn: 0.0114106\ttotal: 462ms\tremaining: 108ms\n",
      "811:\tlearn: 0.0113598\ttotal: 462ms\tremaining: 107ms\n",
      "812:\tlearn: 0.0113508\ttotal: 463ms\tremaining: 106ms\n",
      "813:\tlearn: 0.0113132\ttotal: 464ms\tremaining: 106ms\n",
      "814:\tlearn: 0.0112602\ttotal: 464ms\tremaining: 105ms\n",
      "815:\tlearn: 0.0112514\ttotal: 465ms\tremaining: 105ms\n",
      "816:\tlearn: 0.0112221\ttotal: 465ms\tremaining: 104ms\n",
      "817:\tlearn: 0.0111706\ttotal: 466ms\tremaining: 104ms\n",
      "818:\tlearn: 0.0111636\ttotal: 466ms\tremaining: 103ms\n",
      "819:\tlearn: 0.0111351\ttotal: 467ms\tremaining: 102ms\n",
      "820:\tlearn: 0.0110852\ttotal: 467ms\tremaining: 102ms\n",
      "821:\tlearn: 0.0110783\ttotal: 468ms\tremaining: 101ms\n",
      "822:\tlearn: 0.0110429\ttotal: 468ms\tremaining: 101ms\n",
      "823:\tlearn: 0.0109943\ttotal: 469ms\tremaining: 100ms\n",
      "824:\tlearn: 0.0109725\ttotal: 469ms\tremaining: 99.5ms\n",
      "825:\tlearn: 0.0109379\ttotal: 469ms\tremaining: 98.9ms\n",
      "826:\tlearn: 0.0109166\ttotal: 470ms\tremaining: 98.3ms\n",
      "827:\tlearn: 0.0108897\ttotal: 470ms\tremaining: 97.7ms\n",
      "828:\tlearn: 0.0108780\ttotal: 471ms\tremaining: 97.2ms\n",
      "829:\tlearn: 0.0108443\ttotal: 472ms\tremaining: 96.6ms\n",
      "830:\tlearn: 0.0108230\ttotal: 472ms\tremaining: 96ms\n",
      "831:\tlearn: 0.0107912\ttotal: 473ms\tremaining: 95.5ms\n",
      "832:\tlearn: 0.0107601\ttotal: 473ms\tremaining: 94.9ms\n",
      "833:\tlearn: 0.0107272\ttotal: 474ms\tremaining: 94.3ms\n",
      "834:\tlearn: 0.0107157\ttotal: 474ms\tremaining: 93.7ms\n",
      "835:\tlearn: 0.0106941\ttotal: 475ms\tremaining: 93.2ms\n",
      "836:\tlearn: 0.0106484\ttotal: 475ms\tremaining: 92.6ms\n",
      "837:\tlearn: 0.0106206\ttotal: 476ms\tremaining: 92ms\n",
      "838:\tlearn: 0.0105886\ttotal: 476ms\tremaining: 91.4ms\n",
      "839:\tlearn: 0.0105442\ttotal: 477ms\tremaining: 90.8ms\n",
      "840:\tlearn: 0.0105124\ttotal: 477ms\tremaining: 90.3ms\n",
      "841:\tlearn: 0.0104853\ttotal: 478ms\tremaining: 89.7ms\n",
      "842:\tlearn: 0.0104604\ttotal: 479ms\tremaining: 89.1ms\n",
      "843:\tlearn: 0.0104175\ttotal: 479ms\tremaining: 88.6ms\n",
      "844:\tlearn: 0.0103865\ttotal: 480ms\tremaining: 88ms\n",
      "845:\tlearn: 0.0103554\ttotal: 480ms\tremaining: 87.4ms\n",
      "846:\tlearn: 0.0103249\ttotal: 481ms\tremaining: 86.8ms\n",
      "847:\tlearn: 0.0102913\ttotal: 481ms\tremaining: 86.2ms\n",
      "848:\tlearn: 0.0102526\ttotal: 482ms\tremaining: 85.7ms\n",
      "849:\tlearn: 0.0102223\ttotal: 482ms\tremaining: 85.1ms\n",
      "850:\tlearn: 0.0101928\ttotal: 483ms\tremaining: 84.5ms\n",
      "851:\tlearn: 0.0101631\ttotal: 483ms\tremaining: 83.9ms\n",
      "852:\tlearn: 0.0101305\ttotal: 484ms\tremaining: 83.3ms\n",
      "853:\tlearn: 0.0100926\ttotal: 484ms\tremaining: 82.7ms\n",
      "854:\tlearn: 0.0100554\ttotal: 485ms\tremaining: 82.2ms\n",
      "855:\tlearn: 0.0100268\ttotal: 485ms\tremaining: 81.6ms\n",
      "856:\tlearn: 0.0100036\ttotal: 486ms\tremaining: 81ms\n",
      "857:\tlearn: 0.0099755\ttotal: 486ms\tremaining: 80.5ms\n",
      "858:\tlearn: 0.0099468\ttotal: 487ms\tremaining: 79.9ms\n",
      "859:\tlearn: 0.0098855\ttotal: 487ms\tremaining: 79.3ms\n",
      "860:\tlearn: 0.0098639\ttotal: 488ms\tremaining: 78.7ms\n",
      "861:\tlearn: 0.0098368\ttotal: 488ms\tremaining: 78.2ms\n",
      "862:\tlearn: 0.0098156\ttotal: 489ms\tremaining: 77.6ms\n",
      "863:\tlearn: 0.0098028\ttotal: 489ms\tremaining: 77ms\n",
      "864:\tlearn: 0.0097844\ttotal: 490ms\tremaining: 76.4ms\n",
      "865:\tlearn: 0.0097229\ttotal: 490ms\tremaining: 75.9ms\n",
      "866:\tlearn: 0.0096653\ttotal: 491ms\tremaining: 75.3ms\n",
      "867:\tlearn: 0.0096093\ttotal: 492ms\tremaining: 74.8ms\n",
      "868:\tlearn: 0.0095840\ttotal: 492ms\tremaining: 74.2ms\n",
      "869:\tlearn: 0.0095633\ttotal: 493ms\tremaining: 73.6ms\n",
      "870:\tlearn: 0.0095092\ttotal: 493ms\tremaining: 73ms\n",
      "871:\tlearn: 0.0094847\ttotal: 494ms\tremaining: 72.5ms\n",
      "872:\tlearn: 0.0094644\ttotal: 494ms\tremaining: 71.9ms\n",
      "873:\tlearn: 0.0094404\ttotal: 495ms\tremaining: 71.3ms\n",
      "874:\tlearn: 0.0094237\ttotal: 495ms\tremaining: 70.7ms\n",
      "875:\tlearn: 0.0093719\ttotal: 496ms\tremaining: 70.2ms\n",
      "876:\tlearn: 0.0093486\ttotal: 496ms\tremaining: 69.6ms\n",
      "877:\tlearn: 0.0093289\ttotal: 497ms\tremaining: 69ms\n",
      "878:\tlearn: 0.0092789\ttotal: 497ms\tremaining: 68.5ms\n",
      "879:\tlearn: 0.0092577\ttotal: 498ms\tremaining: 67.9ms\n",
      "880:\tlearn: 0.0092407\ttotal: 498ms\tremaining: 67.3ms\n",
      "881:\tlearn: 0.0091946\ttotal: 499ms\tremaining: 66.7ms\n",
      "882:\tlearn: 0.0091470\ttotal: 499ms\tremaining: 66.2ms\n",
      "883:\tlearn: 0.0091251\ttotal: 500ms\tremaining: 65.6ms\n",
      "884:\tlearn: 0.0090790\ttotal: 500ms\tremaining: 65ms\n",
      "885:\tlearn: 0.0090339\ttotal: 501ms\tremaining: 64.5ms\n",
      "886:\tlearn: 0.0090236\ttotal: 502ms\tremaining: 63.9ms\n",
      "887:\tlearn: 0.0089863\ttotal: 502ms\tremaining: 63.3ms\n",
      "888:\tlearn: 0.0089783\ttotal: 503ms\tremaining: 62.8ms\n",
      "889:\tlearn: 0.0089396\ttotal: 503ms\tremaining: 62.2ms\n",
      "890:\tlearn: 0.0089022\ttotal: 504ms\tremaining: 61.6ms\n",
      "891:\tlearn: 0.0088658\ttotal: 504ms\tremaining: 61.1ms\n",
      "892:\tlearn: 0.0088579\ttotal: 505ms\tremaining: 60.5ms\n",
      "893:\tlearn: 0.0088481\ttotal: 505ms\tremaining: 59.9ms\n",
      "894:\tlearn: 0.0088356\ttotal: 506ms\tremaining: 59.3ms\n",
      "895:\tlearn: 0.0088020\ttotal: 506ms\tremaining: 58.8ms\n",
      "896:\tlearn: 0.0087559\ttotal: 507ms\tremaining: 58.2ms\n",
      "897:\tlearn: 0.0087481\ttotal: 507ms\tremaining: 57.6ms\n",
      "898:\tlearn: 0.0087258\ttotal: 508ms\tremaining: 57.1ms\n",
      "899:\tlearn: 0.0087150\ttotal: 508ms\tremaining: 56.5ms\n",
      "900:\tlearn: 0.0087074\ttotal: 509ms\tremaining: 55.9ms\n",
      "901:\tlearn: 0.0086967\ttotal: 509ms\tremaining: 55.3ms\n",
      "902:\tlearn: 0.0086863\ttotal: 510ms\tremaining: 54.7ms\n",
      "903:\tlearn: 0.0086437\ttotal: 510ms\tremaining: 54.2ms\n",
      "904:\tlearn: 0.0086037\ttotal: 511ms\tremaining: 53.6ms\n",
      "905:\tlearn: 0.0085674\ttotal: 511ms\tremaining: 53ms\n",
      "906:\tlearn: 0.0085229\ttotal: 512ms\tremaining: 52.5ms\n",
      "907:\tlearn: 0.0084797\ttotal: 512ms\tremaining: 51.9ms\n",
      "908:\tlearn: 0.0084294\ttotal: 513ms\tremaining: 51.3ms\n",
      "909:\tlearn: 0.0084075\ttotal: 513ms\tremaining: 50.8ms\n",
      "910:\tlearn: 0.0083764\ttotal: 514ms\tremaining: 50.2ms\n",
      "911:\tlearn: 0.0083679\ttotal: 514ms\tremaining: 49.6ms\n",
      "912:\tlearn: 0.0083594\ttotal: 515ms\tremaining: 49ms\n",
      "913:\tlearn: 0.0083425\ttotal: 515ms\tremaining: 48.5ms\n",
      "914:\tlearn: 0.0083008\ttotal: 516ms\tremaining: 47.9ms\n",
      "915:\tlearn: 0.0082842\ttotal: 516ms\tremaining: 47.3ms\n",
      "916:\tlearn: 0.0082681\ttotal: 517ms\tremaining: 46.8ms\n",
      "917:\tlearn: 0.0082253\ttotal: 517ms\tremaining: 46.2ms\n",
      "918:\tlearn: 0.0082065\ttotal: 518ms\tremaining: 45.6ms\n",
      "919:\tlearn: 0.0081658\ttotal: 518ms\tremaining: 45.1ms\n",
      "920:\tlearn: 0.0081476\ttotal: 519ms\tremaining: 44.5ms\n",
      "921:\tlearn: 0.0081393\ttotal: 519ms\tremaining: 43.9ms\n",
      "922:\tlearn: 0.0080995\ttotal: 520ms\tremaining: 43.3ms\n",
      "923:\tlearn: 0.0080818\ttotal: 520ms\tremaining: 42.8ms\n",
      "924:\tlearn: 0.0080660\ttotal: 520ms\tremaining: 42.2ms\n",
      "925:\tlearn: 0.0080191\ttotal: 521ms\tremaining: 41.6ms\n",
      "926:\tlearn: 0.0080018\ttotal: 522ms\tremaining: 41.1ms\n",
      "927:\tlearn: 0.0079630\ttotal: 522ms\tremaining: 40.5ms\n",
      "928:\tlearn: 0.0079462\ttotal: 523ms\tremaining: 39.9ms\n",
      "929:\tlearn: 0.0079109\ttotal: 523ms\tremaining: 39.4ms\n",
      "930:\tlearn: 0.0078817\ttotal: 523ms\tremaining: 38.8ms\n",
      "931:\tlearn: 0.0078463\ttotal: 524ms\tremaining: 38.2ms\n",
      "932:\tlearn: 0.0078078\ttotal: 524ms\tremaining: 37.7ms\n",
      "933:\tlearn: 0.0077704\ttotal: 525ms\tremaining: 37.1ms\n",
      "934:\tlearn: 0.0077421\ttotal: 526ms\tremaining: 36.5ms\n",
      "935:\tlearn: 0.0077058\ttotal: 526ms\tremaining: 36ms\n",
      "936:\tlearn: 0.0076671\ttotal: 527ms\tremaining: 35.4ms\n",
      "937:\tlearn: 0.0076567\ttotal: 527ms\tremaining: 34.8ms\n",
      "938:\tlearn: 0.0076499\ttotal: 528ms\tremaining: 34.3ms\n",
      "939:\tlearn: 0.0076225\ttotal: 528ms\tremaining: 33.7ms\n",
      "940:\tlearn: 0.0076123\ttotal: 529ms\tremaining: 33.1ms\n",
      "941:\tlearn: 0.0075950\ttotal: 529ms\tremaining: 32.6ms\n",
      "942:\tlearn: 0.0075849\ttotal: 529ms\tremaining: 32ms\n",
      "943:\tlearn: 0.0075750\ttotal: 530ms\tremaining: 31.4ms\n",
      "944:\tlearn: 0.0075661\ttotal: 531ms\tremaining: 30.9ms\n",
      "945:\tlearn: 0.0075553\ttotal: 531ms\tremaining: 30.3ms\n",
      "946:\tlearn: 0.0075384\ttotal: 531ms\tremaining: 29.7ms\n",
      "947:\tlearn: 0.0075038\ttotal: 532ms\tremaining: 29.2ms\n",
      "948:\tlearn: 0.0074701\ttotal: 532ms\tremaining: 28.6ms\n",
      "949:\tlearn: 0.0074456\ttotal: 533ms\tremaining: 28ms\n",
      "950:\tlearn: 0.0074063\ttotal: 533ms\tremaining: 27.5ms\n",
      "951:\tlearn: 0.0073994\ttotal: 534ms\tremaining: 26.9ms\n",
      "952:\tlearn: 0.0073669\ttotal: 534ms\tremaining: 26.3ms\n",
      "953:\tlearn: 0.0073408\ttotal: 535ms\tremaining: 25.8ms\n",
      "954:\tlearn: 0.0073025\ttotal: 535ms\tremaining: 25.2ms\n",
      "955:\tlearn: 0.0072931\ttotal: 536ms\tremaining: 24.7ms\n",
      "956:\tlearn: 0.0072839\ttotal: 536ms\tremaining: 24.1ms\n",
      "957:\tlearn: 0.0072677\ttotal: 537ms\tremaining: 23.6ms\n",
      "958:\tlearn: 0.0072364\ttotal: 538ms\tremaining: 23ms\n"
     ]
    },
    {
     "name": "stdout",
     "output_type": "stream",
     "text": [
      "959:\tlearn: 0.0072244\ttotal: 539ms\tremaining: 22.4ms\n",
      "960:\tlearn: 0.0072013\ttotal: 539ms\tremaining: 21.9ms\n",
      "961:\tlearn: 0.0071651\ttotal: 540ms\tremaining: 21.3ms\n",
      "962:\tlearn: 0.0071561\ttotal: 540ms\tremaining: 20.7ms\n",
      "963:\tlearn: 0.0071495\ttotal: 541ms\tremaining: 20.2ms\n",
      "964:\tlearn: 0.0071406\ttotal: 541ms\tremaining: 19.6ms\n",
      "965:\tlearn: 0.0071256\ttotal: 541ms\tremaining: 19.1ms\n",
      "966:\tlearn: 0.0071010\ttotal: 542ms\tremaining: 18.5ms\n",
      "967:\tlearn: 0.0070761\ttotal: 543ms\tremaining: 17.9ms\n",
      "968:\tlearn: 0.0070644\ttotal: 543ms\tremaining: 17.4ms\n",
      "969:\tlearn: 0.0070292\ttotal: 544ms\tremaining: 16.8ms\n",
      "970:\tlearn: 0.0070146\ttotal: 544ms\tremaining: 16.3ms\n",
      "971:\tlearn: 0.0069904\ttotal: 545ms\tremaining: 15.7ms\n",
      "972:\tlearn: 0.0069817\ttotal: 545ms\tremaining: 15.1ms\n",
      "973:\tlearn: 0.0069732\ttotal: 546ms\tremaining: 14.6ms\n",
      "974:\tlearn: 0.0069647\ttotal: 546ms\tremaining: 14ms\n",
      "975:\tlearn: 0.0069564\ttotal: 547ms\tremaining: 13.4ms\n",
      "976:\tlearn: 0.0069423\ttotal: 547ms\tremaining: 12.9ms\n",
      "977:\tlearn: 0.0069188\ttotal: 548ms\tremaining: 12.3ms\n",
      "978:\tlearn: 0.0068950\ttotal: 548ms\tremaining: 11.8ms\n",
      "979:\tlearn: 0.0068869\ttotal: 549ms\tremaining: 11.2ms\n",
      "980:\tlearn: 0.0068788\ttotal: 549ms\tremaining: 10.6ms\n",
      "981:\tlearn: 0.0068638\ttotal: 550ms\tremaining: 10.1ms\n",
      "982:\tlearn: 0.0068410\ttotal: 550ms\tremaining: 9.51ms\n",
      "983:\tlearn: 0.0068297\ttotal: 551ms\tremaining: 8.95ms\n",
      "984:\tlearn: 0.0067977\ttotal: 551ms\tremaining: 8.39ms\n",
      "985:\tlearn: 0.0067758\ttotal: 552ms\tremaining: 7.83ms\n",
      "986:\tlearn: 0.0067429\ttotal: 552ms\tremaining: 7.27ms\n",
      "987:\tlearn: 0.0067192\ttotal: 552ms\tremaining: 6.71ms\n",
      "988:\tlearn: 0.0067084\ttotal: 553ms\tremaining: 6.15ms\n",
      "989:\tlearn: 0.0066884\ttotal: 553ms\tremaining: 5.59ms\n",
      "990:\tlearn: 0.0066798\ttotal: 554ms\tremaining: 5.03ms\n",
      "991:\tlearn: 0.0066533\ttotal: 555ms\tremaining: 4.47ms\n",
      "992:\tlearn: 0.0066337\ttotal: 555ms\tremaining: 3.91ms\n",
      "993:\tlearn: 0.0066195\ttotal: 555ms\tremaining: 3.35ms\n",
      "994:\tlearn: 0.0066110\ttotal: 556ms\tremaining: 2.79ms\n",
      "995:\tlearn: 0.0065952\ttotal: 557ms\tremaining: 2.23ms\n",
      "996:\tlearn: 0.0065847\ttotal: 557ms\tremaining: 1.68ms\n",
      "997:\tlearn: 0.0065656\ttotal: 558ms\tremaining: 1.12ms\n",
      "998:\tlearn: 0.0065287\ttotal: 558ms\tremaining: 558us\n",
      "999:\tlearn: 0.0065100\ttotal: 559ms\tremaining: 0us\n"
     ]
    },
    {
     "data": {
      "text/plain": [
       "<catboost.core.CatBoostRegressor at 0x7f8379532100>"
      ]
     },
     "execution_count": 9,
     "metadata": {},
     "output_type": "execute_result"
    }
   ],
   "source": [
    "#Train the Model \n",
    "prior_model = ctb.CatBoostRegressor()\n",
    "prior_model.fit(X_train,Y_train)"
   ]
  },
  {
   "cell_type": "code",
   "execution_count": 10,
   "id": "af65dcda",
   "metadata": {
    "execution": {
     "iopub.execute_input": "2022-06-07T06:45:10.285659Z",
     "iopub.status.busy": "2022-06-07T06:45:10.285273Z",
     "iopub.status.idle": "2022-06-07T06:45:10.292755Z",
     "shell.execute_reply": "2022-06-07T06:45:10.293045Z"
    },
    "id": "af65dcda",
    "papermill": {
     "duration": 0.019919,
     "end_time": "2022-06-07T06:45:10.293157",
     "exception": false,
     "start_time": "2022-06-07T06:45:10.273238",
     "status": "completed"
    },
    "tags": []
   },
   "outputs": [
    {
     "data": {
      "application/scrapbook.scrap.json+json": {
       "data": 0.23153919575914844,
       "encoder": "json",
       "name": "Prior Model MSE",
       "version": 1
      }
     },
     "metadata": {
      "scrapbook": {
       "data": true,
       "display": false,
       "name": "Prior Model MSE"
      }
     },
     "output_type": "display_data"
    },
    {
     "data": {
      "application/scrapbook.scrap.json+json": {
       "data": 1.358924295740883,
       "encoder": "json",
       "name": "ABC Pre-generator MSE",
       "version": 1
      }
     },
     "metadata": {
      "scrapbook": {
       "data": true,
       "display": false,
       "name": "ABC Pre-generator MSE"
      }
     },
     "output_type": "display_data"
    },
    {
     "data": {
      "application/scrapbook.scrap.json+json": {
       "data": 0.3781236219622969,
       "encoder": "json",
       "name": "Prior Model MSE",
       "version": 1
      }
     },
     "metadata": {
      "scrapbook": {
       "data": true,
       "display": false,
       "name": "Prior Model MSE"
      }
     },
     "output_type": "display_data"
    },
    {
     "data": {
      "application/scrapbook.scrap.json+json": {
       "data": 0.9136228682946976,
       "encoder": "json",
       "name": "ABC Pre-generator MSE",
       "version": 1
      }
     },
     "metadata": {
      "scrapbook": {
       "data": true,
       "display": false,
       "name": "ABC Pre-generator MSE"
      }
     },
     "output_type": "display_data"
    }
   ],
   "source": [
    "y_pred = prior_model.predict(X_test)\n",
    "y_abc = y_pred + np.random.normal(0,variance, y_pred.shape) + bias \n",
    "mse = mean_squared_error(y_pred,Y_test)\n",
    "sb.glue(\"Prior Model MSE\",mse)\n",
    "mse = mean_squared_error(y_abc,Y_test)\n",
    "sb.glue(\"ABC Pre-generator MSE\",mse)\n",
    "mae = mean_absolute_error(y_pred,Y_test)\n",
    "sb.glue(\"Prior Model MSE\",mae)\n",
    "mae = mean_absolute_error(y_abc,Y_test)\n",
    "sb.glue(\"ABC Pre-generator MSE\",mae)"
   ]
  },
  {
   "cell_type": "markdown",
   "id": "25609da2",
   "metadata": {
    "papermill": {
     "duration": 0.009351,
     "end_time": "2022-06-07T06:45:10.312264",
     "exception": false,
     "start_time": "2022-06-07T06:45:10.302913",
     "status": "completed"
    },
    "tags": []
   },
   "source": [
    "# ABC GAN Model"
   ]
  },
  {
   "cell_type": "code",
   "execution_count": 11,
   "id": "dfc3464d",
   "metadata": {
    "execution": {
     "iopub.execute_input": "2022-06-07T06:45:10.334184Z",
     "iopub.status.busy": "2022-06-07T06:45:10.333824Z",
     "iopub.status.idle": "2022-06-07T06:45:10.336238Z",
     "shell.execute_reply": "2022-06-07T06:45:10.336483Z"
    },
    "papermill": {
     "duration": 0.014944,
     "end_time": "2022-06-07T06:45:10.336595",
     "exception": false,
     "start_time": "2022-06-07T06:45:10.321651",
     "status": "completed"
    },
    "tags": []
   },
   "outputs": [],
   "source": [
    "gen = network.Generator(n_features+1).to(device)\n",
    "disc = network.Discriminator(n_features+1).to(device)\n",
    "\n",
    "criterion = torch.nn.BCELoss()\n",
    "gen_opt = torch.optim.Adam(gen.parameters(), lr=0.001, betas=(0.5, 0.999))\n",
    "disc_opt = torch.optim.Adam(disc.parameters(), lr=0.001, betas=(0.5, 0.999))"
   ]
  },
  {
   "cell_type": "code",
   "execution_count": 12,
   "id": "b75fdd85",
   "metadata": {
    "execution": {
     "iopub.execute_input": "2022-06-07T06:45:10.358069Z",
     "iopub.status.busy": "2022-06-07T06:45:10.357691Z",
     "iopub.status.idle": "2022-06-07T06:45:23.783774Z",
     "shell.execute_reply": "2022-06-07T06:45:23.784059Z"
    },
    "papermill": {
     "duration": 13.437995,
     "end_time": "2022-06-07T06:45:23.784179",
     "exception": false,
     "start_time": "2022-06-07T06:45:10.346184",
     "status": "completed"
    },
    "tags": []
   },
   "outputs": [
    {
     "data": {
      "image/png": "[encoded data removed]",
      "text/plain": [
       "<Figure size 432x288 with 1 Axes>"
      ]
     },
     "metadata": {
      "needs_background": "light"
     },
     "output_type": "display_data"
    },
    {
     "data": {
      "image/png": "[encoded data removed]",
      "text/plain": [
       "<Figure size 432x288 with 1 Axes>"
      ]
     },
     "metadata": {
      "needs_background": "light"
     },
     "output_type": "display_data"
    }
   ],
   "source": [
    "#Training the ABC_GAN \n",
    "ABC_train_test2.training_GAN(disc,gen,disc_opt,gen_opt,train_data,batch_size,n_epochs,criterion,prior_model,variance,bias,device)"
   ]
  },
  {
   "cell_type": "code",
   "execution_count": 13,
   "id": "1fa7c368",
   "metadata": {
    "execution": {
     "iopub.execute_input": "2022-06-07T06:45:23.808159Z",
     "iopub.status.busy": "2022-06-07T06:45:23.807753Z",
     "iopub.status.idle": "2022-06-07T06:45:23.979260Z",
     "shell.execute_reply": "2022-06-07T06:45:23.979643Z"
    },
    "papermill": {
     "duration": 0.184618,
     "end_time": "2022-06-07T06:45:23.979766",
     "exception": false,
     "start_time": "2022-06-07T06:45:23.795148",
     "status": "completed"
    },
    "tags": []
   },
   "outputs": [
    {
     "data": {
      "application/scrapbook.scrap.json+json": {
       "data": 0.08749401685740066,
       "encoder": "json",
       "name": "ABC-GAN Model 1 MSE",
       "version": 1
      }
     },
     "metadata": {
      "scrapbook": {
       "data": true,
       "display": false,
       "name": "ABC-GAN Model 1 MSE"
      }
     },
     "output_type": "display_data"
    },
    {
     "data": {
      "application/scrapbook.scrap.json+json": {
       "data": 0.22879760214313866,
       "encoder": "json",
       "name": "ABC-GAN Model 1 MAE",
       "version": 1
      }
     },
     "metadata": {
      "scrapbook": {
       "data": true,
       "display": false,
       "name": "ABC-GAN Model 1 MAE"
      }
     },
     "output_type": "display_data"
    },
    {
     "data": {
      "application/scrapbook.scrap.json+json": {
       "data": 4.575952042862773,
       "encoder": "json",
       "name": "ABC-GAN Model 1 Manhattan Distance",
       "version": 1
      }
     },
     "metadata": {
      "scrapbook": {
       "data": true,
       "display": false,
       "name": "ABC-GAN Model 1 Manhattan Distance"
      }
     },
     "output_type": "display_data"
    },
    {
     "data": {
      "application/scrapbook.scrap.json+json": {
       "data": 1.3212100035333345,
       "encoder": "json",
       "name": "ABC-GAN Model 1 Euclidean distance",
       "version": 1
      }
     },
     "metadata": {
      "scrapbook": {
       "data": true,
       "display": false,
       "name": "ABC-GAN Model 1 Euclidean distance"
      }
     },
     "output_type": "display_data"
    },
    {
     "data": {
      "application/scrapbook.scrap.json+json": {
       "data": [
        [
         0.07875820070682577,
         0.10001956283501365,
         0.09598697951299634,
         0.08580992117116851,
         0.07891703567673233,
         0.09981218867348177,
         0.09047155580952418,
         0.08323119656469079,
         0.09344791899285956,
         0.08968173762410643,
         0.07097263376004156,
         0.08821562088758628,
         0.08946244161914532,
         0.07981834061941784,
         0.08873986373556687,
         0.09666413933579082,
         0.08600148265895033,
         0.0779792444478154,
         0.09368653557781453,
         0.08644085416493433,
         0.07563882133706742,
         0.09521213713868619,
         0.09351338742915909,
         0.09496459264427098,
         0.0849105115349568,
         0.09267490812499114,
         0.10635411158921597,
         0.09143055848967464,
         0.0888450243444177,
         0.08072856935043327,
         0.0829369147964193,
         0.1030823943368587,
         0.09660547852585598,
         0.09801596751117116,
         0.08394720818499313,
         0.08825108525953199,
         0.08784371821726901,
         0.09703581631857741,
         0.07053414926544367,
         0.08338940628452499,
         0.10140346575196835,
         0.09147261152783787,
         0.08222224256044641,
         0.08342265746439705,
         0.0807412002934287,
         0.10003230999071708,
         0.08336052181746256,
         0.09214652336279877,
         0.0767074395225083,
         0.09373194715309734,
         0.08088865235240436,
         0.0941526426372446,
         0.0865608137842112,
         0.09665915078554253,
         0.09374158035064094,
         0.06748768465078687,
         0.06907734534473714,
         0.08003653957157691,
         0.08341608421956793,
         0.08305034277774262,
         0.09112272125392042,
         0.0726586604448497,
         0.09558557015363747,
         0.10549588139192709,
         0.07703246811332937,
         0.07626012545936725,
         0.07670568496331337,
         0.08248906693341526,
         0.07555141316636133,
         0.09160897588358086,
         0.08536068696117166,
         0.0865748609579161,
         0.09341786325395515,
         0.08463917913309726,
         0.08048305457612875,
         0.09982221107445913,
         0.08586065101746515,
         0.07994113271081063,
         0.09270860783005445,
         0.10021229484689635,
         0.09943153372355537,
         0.0876270419987468,
         0.07897886520613459,
         0.07996810520775745,
         0.09657396412300692,
         0.09573797135804388,
         0.08852843256389865,
         0.08249951539085841,
         0.08653467047937385,
         0.09477254497106674,
         0.07340320753550414,
         0.08242721715097698,
         0.07978915880036258,
         0.09731003939498538,
         0.0950693722203279,
         0.07655441484132045,
         0.08311887239354808,
         0.092253120651564,
         0.09756632765191028,
         0.07738222897436746
        ],
        [
         0.22469375804066657,
         0.25079896338284013,
         0.22888310812413692,
         0.23425951916724444,
         0.22173122316598892,
         0.24263861179351806,
         0.2290490534156561,
         0.22746861837804316,
         0.23313876502215863,
         0.22581086456775665,
         0.21339244171977043,
         0.22356924712657927,
         0.22382591031491755,
         0.2111760526895523,
         0.23607247825711966,
         0.23595442697405816,
         0.23285686187446117,
         0.22033925279974936,
         0.23423001691699027,
         0.23393749240785838,
         0.21479529701173306,
         0.23987043369561434,
         0.23322102464735509,
         0.23923519235104324,
         0.22811732552945613,
         0.23473996445536613,
         0.2464481744915247,
         0.23272871151566504,
         0.22196820955723523,
         0.21672352403402328,
         0.2197388868778944,
         0.23946921937167645,
         0.23363232538104056,
         0.24475472681224347,
         0.22771673351526261,
         0.23171140253543854,
         0.22616731636226178,
         0.23447202239185572,
         0.20798464231193065,
         0.2280044237151742,
         0.24523626118898392,
         0.23412425108253956,
         0.2222026826813817,
         0.22953190729022027,
         0.21649777218699456,
         0.2428788147866726,
         0.2201550468802452,
         0.2347303681075573,
         0.22325507067143918,
         0.23056870307773353,
         0.22489935904741287,
         0.2476884877309203,
         0.2354597307741642,
         0.23784186355769635,
         0.23517860062420368,
         0.20827461499720812,
         0.20056959949433803,
         0.22265472933650016,
         0.22334836069494485,
         0.2220040773972869,
         0.22959480490535497,
         0.21409470736980438,
         0.24555497094988823,
         0.24677253365516663,
         0.20969480015337466,
         0.21468027010560037,
         0.2259813006967306,
         0.22442263960838318,
         0.2147946048527956,
         0.23095145970582961,
         0.2325943224132061,
         0.233338619209826,
         0.23212183080613613,
         0.2217206234112382,
         0.21076871044933795,
         0.24224348179996014,
         0.21757566146552562,
         0.21922312043607234,
         0.23350126147270203,
         0.24591900669038297,
         0.24762889444828035,
         0.22674583848565816,
         0.21534063294529915,
         0.22547549493610858,
         0.2332144159823656,
         0.23709561303257942,
         0.22947074994444847,
         0.2258703311905265,
         0.23439122680574656,
         0.2441909471526742,
         0.21169284749776124,
         0.22949910033494234,
         0.22010264936834573,
         0.24299542047083378,
         0.23023343235254287,
         0.21567270606756211,
         0.2186078542843461,
         0.23578946553170682,
         0.2474262434989214,
         0.22034109551459552
        ],
        [
         4.493875160813332,
         5.015979267656803,
         4.5776621624827385,
         4.685190383344889,
         4.434624463319778,
         4.852772235870361,
         4.580981068313122,
         4.5493723675608635,
         4.6627753004431725,
         4.516217291355133,
         4.267848834395409,
         4.471384942531586,
         4.476518206298351,
         4.223521053791046,
         4.721449565142393,
         4.719088539481163,
         4.6571372374892235,
         4.4067850559949875,
         4.684600338339806,
         4.678749848157167,
         4.295905940234661,
         4.797408673912287,
         4.664420492947102,
         4.7847038470208645,
         4.562346510589123,
         4.694799289107323,
         4.928963489830494,
         4.654574230313301,
         4.439364191144705,
         4.334470480680466,
         4.394777737557888,
         4.789384387433529,
         4.6726465076208115,
         4.895094536244869,
         4.554334670305252,
         4.634228050708771,
         4.523346327245235,
         4.689440447837114,
         4.159692846238613,
         4.560088474303484,
         4.904725223779678,
         4.682485021650791,
         4.444053653627634,
         4.590638145804405,
         4.329955443739891,
         4.857576295733452,
         4.403100937604904,
         4.694607362151146,
         4.465101413428783,
         4.61137406155467,
         4.4979871809482574,
         4.953769754618406,
         4.709194615483284,
         4.756837271153927,
         4.703572012484074,
         4.165492299944162,
         4.011391989886761,
         4.453094586730003,
         4.466967213898897,
         4.440081547945738,
         4.5918960981070995,
         4.281894147396088,
         4.911099418997765,
         4.9354506731033325,
         4.193896003067493,
         4.293605402112007,
         4.519626013934612,
         4.488452792167664,
         4.295892097055912,
         4.619029194116592,
         4.651886448264122,
         4.66677238419652,
         4.642436616122723,
         4.434412468224764,
         4.215374208986759,
         4.844869635999203,
         4.3515132293105125,
         4.384462408721447,
         4.6700252294540405,
         4.918380133807659,
         4.952577888965607,
         4.534916769713163,
         4.306812658905983,
         4.509509898722172,
         4.664288319647312,
         4.741912260651588,
         4.589414998888969,
         4.51740662381053,
         4.687824536114931,
         4.883818943053484,
         4.233856949955225,
         4.589982006698847,
         4.402052987366915,
         4.859908409416676,
         4.6046686470508575,
         4.313454121351242,
         4.372157085686922,
         4.715789310634136,
         4.948524869978428,
         4.40682191029191
        ],
        [
         1.2550553828961155,
         1.4143518857414066,
         1.385546675597732,
         1.3100375656535084,
         1.2563203069021238,
         1.4128849116151092,
         1.345150964089341,
         1.290203058163255,
         1.3670985260240724,
         1.3392664979316584,
         1.1914078542635311,
         1.328274225358501,
         1.3376280620497263,
         1.2634741043600208,
         1.3322151758298422,
         1.3904253977527226,
         1.3114990099801853,
         1.248833411210762,
         1.3688428366895489,
         1.3148448894446396,
         1.2299497659422307,
         1.3799430215678197,
         1.3675773281914196,
         1.3781479793133318,
         1.3031539551024414,
         1.3614323936574386,
         1.4584519984505213,
         1.3522615020008122,
         1.3330043086533343,
         1.2706578559976975,
         1.287920143459363,
         1.4358439632276114,
         1.3900034426277943,
         1.4001140490058026,
         1.2957407779721462,
         1.3285411943897862,
         1.3254713743968145,
         1.3930959501669469,
         1.1877217625811498,
         1.2914287149086083,
         1.424102986107173,
         1.3525724492820181,
         1.2823590960448357,
         1.2916861651685911,
         1.2707572568624481,
         1.4144420100570902,
         1.2912050326533162,
         1.3575457514411717,
         1.2386076014824736,
         1.3691745480624253,
         1.2719170755391593,
         1.372243729351638,
         1.315756921199438,
         1.3903895194192348,
         1.3692449039572208,
         1.1617890053773694,
         1.1753922353388007,
         1.2651999017671232,
         1.2916352752969231,
         1.2888005491754155,
         1.3499831202938828,
         1.2054763410772498,
         1.3826465213758539,
         1.4525555506893848,
         1.241228972537536,
         1.2349908943742642,
         1.2385934358239863,
         1.284438141238536,
         1.229238895954414,
         1.3535802590432593,
         1.3066038953039414,
         1.3158636780298794,
         1.3668786577743846,
         1.3010701682315007,
         1.268724198367232,
         1.4129558455554025,
         1.3104247480680846,
         1.2644455916393604,
         1.361679902400373,
         1.415713917759491,
         1.4101881698805687,
         1.3238356544431547,
         1.2568123583585147,
         1.264658888457733,
         1.3897767023734924,
         1.383748325079701,
         1.3306271646400327,
         1.2845194851839221,
         1.3155582121622278,
         1.3767537540974184,
         1.211636971501812,
         1.2839565191312126,
         1.2632431183296633,
         1.3950630049928596,
         1.3789080623473626,
         1.2373715274025052,
         1.28933217126967,
         1.3583307450806228,
         1.396898905804642,
         1.2440436405075785
        ]
       ],
       "encoder": "json",
       "name": "ABC_GAN_1 Metrics",
       "version": 1
      }
     },
     "metadata": {
      "scrapbook": {
       "data": true,
       "display": false,
       "name": "ABC_GAN_1 Metrics"
      }
     },
     "output_type": "display_data"
    },
    {
     "name": "stdout",
     "output_type": "stream",
     "text": [
      "MSE\n",
      "0.08749401685740066\n"
     ]
    }
   ],
   "source": [
    "ABC_GAN1_metrics=ABC_train_test2.test_generator(gen,test_data,prior_model,variance,bias,\"1\",device)\n",
    "sb.glue(\"ABC_GAN_1 Metrics\",ABC_GAN1_metrics)\n",
    "\n",
    "print(\"MSE\")\n",
    "print(mean(ABC_GAN1_metrics[0]))"
   ]
  },
  {
   "cell_type": "code",
   "execution_count": 14,
   "id": "eb22ce5c",
   "metadata": {
    "execution": {
     "iopub.execute_input": "2022-06-07T06:45:24.006132Z",
     "iopub.status.busy": "2022-06-07T06:45:24.005773Z",
     "iopub.status.idle": "2022-06-07T06:45:24.293361Z",
     "shell.execute_reply": "2022-06-07T06:45:24.293728Z"
    },
    "papermill": {
     "duration": 0.301913,
     "end_time": "2022-06-07T06:45:24.293848",
     "exception": false,
     "start_time": "2022-06-07T06:45:23.991935",
     "status": "completed"
    },
    "tags": []
   },
   "outputs": [
    {
     "data": {
      "image/png": "[encoded data removed]",
      "text/plain": [
       "<Figure size 432x288 with 1 Axes>"
      ]
     },
     "metadata": {
      "needs_background": "light"
     },
     "output_type": "display_data"
    },
    {
     "data": {
      "image/png": "[encoded data removed]",
      "text/plain": [
       "<Figure size 432x288 with 1 Axes>"
      ]
     },
     "metadata": {
      "needs_background": "light"
     },
     "output_type": "display_data"
    },
    {
     "data": {
      "image/png": "[encoded data removed]",
      "text/plain": [
       "<Figure size 432x288 with 1 Axes>"
      ]
     },
     "metadata": {
      "needs_background": "light"
     },
     "output_type": "display_data"
    },
    {
     "data": {
      "image/png": "[encoded data removed]",
      "text/plain": [
       "<Figure size 432x288 with 1 Axes>"
      ]
     },
     "metadata": {
      "needs_background": "light"
     },
     "output_type": "display_data"
    }
   ],
   "source": [
    "sanityChecks.discProbVsError(train_data,disc,device)\n",
    "sanityChecks.discProbVsError(test_data,disc,device)"
   ]
  },
  {
   "cell_type": "markdown",
   "id": "130f3a4d",
   "metadata": {
    "id": "130f3a4d",
    "papermill": {
     "duration": 0.035532,
     "end_time": "2022-06-07T06:45:24.343808",
     "exception": false,
     "start_time": "2022-06-07T06:45:24.308276",
     "status": "completed"
    },
    "tags": []
   },
   "source": [
    "# ABC - GAN Model with skip connection"
   ]
  },
  {
   "cell_type": "code",
   "execution_count": 15,
   "id": "4e43dad1",
   "metadata": {
    "execution": {
     "iopub.execute_input": "2022-06-07T06:45:24.375455Z",
     "iopub.status.busy": "2022-06-07T06:45:24.375082Z",
     "iopub.status.idle": "2022-06-07T06:45:24.377483Z",
     "shell.execute_reply": "2022-06-07T06:45:24.377730Z"
    },
    "id": "4e43dad1",
    "papermill": {
     "duration": 0.019782,
     "end_time": "2022-06-07T06:45:24.377847",
     "exception": false,
     "start_time": "2022-06-07T06:45:24.358065",
     "status": "completed"
    },
    "tags": []
   },
   "outputs": [],
   "source": [
    "#Generator\n",
    "gen3 = network.GeneratorWithSkipConnection(n_features+1).to(device)\n",
    "constraints=network.weightConstraint()\n",
    "#Discriminator \n",
    "disc3 = network.Discriminator(n_features+1).to(device)\n",
    "\n",
    "criterion = torch.nn.BCELoss()\n",
    "gen_opt = torch.optim.Adam(gen3.parameters(), lr=0.001, betas=(0.5, 0.999))\n",
    "disc_opt = torch.optim.Adam(disc3.parameters(), lr=0.001, betas=(0.5, 0.999))\n"
   ]
  },
  {
   "cell_type": "code",
   "execution_count": 16,
   "id": "26acbc37",
   "metadata": {
    "execution": {
     "iopub.execute_input": "2022-06-07T06:45:24.408583Z",
     "iopub.status.busy": "2022-06-07T06:45:24.408227Z",
     "iopub.status.idle": "2022-06-07T06:46:01.072215Z",
     "shell.execute_reply": "2022-06-07T06:46:01.072532Z"
    },
    "id": "26acbc37",
    "papermill": {
     "duration": 36.680517,
     "end_time": "2022-06-07T06:46:01.072702",
     "exception": false,
     "start_time": "2022-06-07T06:45:24.392185",
     "status": "completed"
    },
    "tags": []
   },
   "outputs": [
    {
     "data": {
      "image/png": "[encoded data removed]",
      "text/plain": [
       "<Figure size 432x288 with 1 Axes>"
      ]
     },
     "metadata": {
      "needs_background": "light"
     },
     "output_type": "display_data"
    },
    {
     "data": {
      "image/png": "[encoded data removed]",
      "text/plain": [
       "<Figure size 432x288 with 1 Axes>"
      ]
     },
     "metadata": {
      "needs_background": "light"
     },
     "output_type": "display_data"
    }
   ],
   "source": [
    "ABC_train_test2.training_GAN_skip_connection(disc3,gen3,disc_opt,gen_opt,train_data,batch_size,n_epochs,criterion,prior_model,variance,bias,device)"
   ]
  },
  {
   "cell_type": "code",
   "execution_count": 17,
   "id": "c5e0717b",
   "metadata": {
    "execution": {
     "iopub.execute_input": "2022-06-07T06:46:01.106413Z",
     "iopub.status.busy": "2022-06-07T06:46:01.105918Z",
     "iopub.status.idle": "2022-06-07T06:46:01.378507Z",
     "shell.execute_reply": "2022-06-07T06:46:01.378753Z"
    },
    "id": "c5e0717b",
    "papermill": {
     "duration": 0.290887,
     "end_time": "2022-06-07T06:46:01.378877",
     "exception": false,
     "start_time": "2022-06-07T06:46:01.087990",
     "status": "completed"
    },
    "tags": []
   },
   "outputs": [
    {
     "data": {
      "application/scrapbook.scrap.json+json": {
       "data": 0.05089771302195284,
       "encoder": "json",
       "name": "ABC-GAN Model 3 MSE",
       "version": 1
      }
     },
     "metadata": {
      "scrapbook": {
       "data": true,
       "display": false,
       "name": "ABC-GAN Model 3 MSE"
      }
     },
     "output_type": "display_data"
    },
    {
     "data": {
      "application/scrapbook.scrap.json+json": {
       "data": 0.18498456270247698,
       "encoder": "json",
       "name": "ABC-GAN Model 3 MAE",
       "version": 1
      }
     },
     "metadata": {
      "scrapbook": {
       "data": true,
       "display": false,
       "name": "ABC-GAN Model 3 MAE"
      }
     },
     "output_type": "display_data"
    },
    {
     "data": {
      "application/scrapbook.scrap.json+json": {
       "data": 3.6996912540495397,
       "encoder": "json",
       "name": "ABC-GAN Model 3 Manhattan Distance",
       "version": 1
      }
     },
     "metadata": {
      "scrapbook": {
       "data": true,
       "display": false,
       "name": "ABC-GAN Model 3 Manhattan Distance"
      }
     },
     "output_type": "display_data"
    },
    {
     "data": {
      "application/scrapbook.scrap.json+json": {
       "data": 1.007084471643805,
       "encoder": "json",
       "name": "ABC-GAN Model 3 Euclidean distance",
       "version": 1
      }
     },
     "metadata": {
      "scrapbook": {
       "data": true,
       "display": false,
       "name": "ABC-GAN Model 3 Euclidean distance"
      }
     },
     "output_type": "display_data"
    },
    {
     "data": {
      "application/scrapbook.scrap.json+json": {
       "data": [
        [
         0.04989982801994462,
         0.05264374294449612,
         0.04396977263202769,
         0.059914296041619,
         0.05341888693455369,
         0.04854983548727014,
         0.04334337563005268,
         0.05545477503841909,
         0.041620528430453184,
         0.04474542251965456,
         0.030582587973755328,
         0.05165917917964269,
         0.050897915544464725,
         0.05495158865627723,
         0.04813593666926284,
         0.05192449492996235,
         0.04705869091520307,
         0.050765372840598975,
         0.05433367408564636,
         0.05706428140477408,
         0.03999223721044879,
         0.051761426997136505,
         0.0490826274197816,
         0.06193325361416615,
         0.054417440701986765,
         0.0441980967527687,
         0.050040992537379946,
         0.053540848990870346,
         0.05064281671495078,
         0.051142086420559243,
         0.0521210214182273,
         0.04862596288999284,
         0.05308193998331998,
         0.05609569575623119,
         0.04431994220026451,
         0.04926716846280723,
         0.048060446230235886,
         0.04866671987566599,
         0.05199713197052398,
         0.053644231607597806,
         0.04944304244732228,
         0.049109305751840825,
         0.0532988687455828,
         0.05124445580594219,
         0.045320261025541056,
         0.050603255110366493,
         0.04947424792107837,
         0.04769257358231897,
         0.05452713917629056,
         0.048336801870890976,
         0.05166440958959735,
         0.0556944848458939,
         0.04694976585169226,
         0.054008478332176965,
         0.058030473435592735,
         0.05163569411794093,
         0.06728338581994768,
         0.05105027512213896,
         0.05362623815105831,
         0.04982601079940452,
         0.05263394225344122,
         0.0500982955108946,
         0.054280474094236496,
         0.05049437255363557,
         0.04974855852073488,
         0.05261838749186041,
         0.06756431300907766,
         0.04756477123857478,
         0.054865395238754576,
         0.04925623521360898,
         0.06389264053730918,
         0.052478720381539,
         0.03901408074472286,
         0.049779477284817,
         0.0447533013686557,
         0.0406264096423606,
         0.05648725376074124,
         0.04512994250246403,
         0.051259758353086916,
         0.051410623907806784,
         0.047782239317882946,
         0.043060234758369266,
         0.05355487489784806,
         0.04836399992048215,
         0.04449553862560653,
         0.04636389931900362,
         0.042450029891053134,
         0.04475935385852516,
         0.06637450902695849,
         0.049645536562728076,
         0.06660290988121875,
         0.06716067286537283,
         0.04263796894935756,
         0.04460681630687209,
         0.05026013184724071,
         0.05114120919694189,
         0.05580910751203775,
         0.04827123363518806,
         0.0610024369259148,
         0.049086204152747705
        ],
        [
         0.18302963748574258,
         0.1961170941591263,
         0.16024780198931693,
         0.19463655054569245,
         0.19735507294535637,
         0.17816080003976822,
         0.15989266335964203,
         0.1817407339811325,
         0.1732475459575653,
         0.17269114255905152,
         0.1372698500752449,
         0.17373156547546387,
         0.19315268248319625,
         0.1763305112719536,
         0.18674222081899644,
         0.1932460881769657,
         0.18484356254339218,
         0.1840156637132168,
         0.19016501307487488,
         0.18984206840395929,
         0.1581107534468174,
         0.1896325394511223,
         0.18520498424768447,
         0.21063131839036942,
         0.19951487258076667,
         0.18094005361199378,
         0.18189288079738616,
         0.1905237317085266,
         0.1816915325820446,
         0.18245850056409835,
         0.1954590857028961,
         0.1931150287389755,
         0.19410080313682557,
         0.2037202909588814,
         0.17548735216259956,
         0.18326830863952637,
         0.1865651935338974,
         0.16792858466506005,
         0.18375094532966613,
         0.18987541869282723,
         0.18888053372502328,
         0.17686170488595962,
         0.1960336834192276,
         0.18403140902519227,
         0.17160893380641937,
         0.19338801950216294,
         0.1788384035229683,
         0.1730990618467331,
         0.191083475202322,
         0.1826568588614464,
         0.19705462455749512,
         0.1932980924844742,
         0.174433197081089,
         0.19050052464008332,
         0.20222647935152055,
         0.18739818632602692,
         0.21921446025371552,
         0.17698958069086074,
         0.19536977112293244,
         0.170966674387455,
         0.19475672990083695,
         0.18319785445928574,
         0.17659071758389472,
         0.1945193536579609,
         0.17745987474918365,
         0.187167489528656,
         0.21781331449747085,
         0.17618885710835458,
         0.18881753981113433,
         0.17758393734693528,
         0.195103520154953,
         0.18823287785053253,
         0.1718471184372902,
         0.1856280595064163,
         0.1770368218421936,
         0.16925775408744811,
         0.2028882086277008,
         0.17285343557596206,
         0.17910723835229875,
         0.19088730290532113,
         0.17462320178747176,
         0.1741117238998413,
         0.19492046907544136,
         0.16946606040000917,
         0.1713329404592514,
         0.17853080481290817,
         0.16492890417575837,
         0.17428135871887207,
         0.20874447077512742,
         0.1836641937494278,
         0.2072364404797554,
         0.20355457961559295,
         0.17752319127321242,
         0.16858888268470765,
         0.18565601781010627,
         0.19220717251300812,
         0.19767605438828467,
         0.18674393445253373,
         0.2050561785697937,
         0.18840756192803382
        ],
        [
         3.6605927497148514,
         3.9223418831825256,
         3.204956039786339,
         3.892731010913849,
         3.9471014589071274,
         3.5632160007953644,
         3.1978532671928406,
         3.63481467962265,
         3.464950919151306,
         3.4538228511810303,
         2.745397001504898,
         3.4746313095092773,
         3.863053649663925,
         3.5266102254390717,
         3.7348444163799286,
         3.8649217635393143,
         3.6968712508678436,
         3.6803132742643356,
         3.8033002614974976,
         3.7968413680791855,
         3.162215068936348,
         3.7926507890224457,
         3.7040996849536896,
         4.212626367807388,
         3.9902974516153336,
         3.618801072239876,
         3.6378576159477234,
         3.8104746341705322,
         3.633830651640892,
         3.649170011281967,
         3.9091817140579224,
         3.8623005747795105,
         3.8820160627365112,
         4.074405819177628,
         3.5097470432519913,
         3.6653661727905273,
         3.731303870677948,
         3.358571693301201,
         3.6750189065933228,
         3.7975083738565445,
         3.7776106745004654,
         3.5372340977191925,
         3.920673668384552,
         3.680628180503845,
         3.4321786761283875,
         3.8677603900432587,
         3.576768070459366,
         3.461981236934662,
         3.82166950404644,
         3.6531371772289276,
         3.9410924911499023,
         3.8659618496894836,
         3.4886639416217804,
         3.8100104928016663,
         4.044529587030411,
         3.7479637265205383,
         4.38428920507431,
         3.539791613817215,
         3.9073954224586487,
         3.4193334877490997,
         3.895134598016739,
         3.6639570891857147,
         3.5318143516778946,
         3.890387073159218,
         3.549197494983673,
         3.74334979057312,
         4.356266289949417,
         3.5237771421670914,
         3.7763507962226868,
         3.5516787469387054,
         3.90207040309906,
         3.7646575570106506,
         3.436942368745804,
         3.7125611901283264,
         3.540736436843872,
         3.3851550817489624,
         4.057764172554016,
         3.4570687115192413,
         3.5821447670459747,
         3.8177460581064224,
         3.4924640357494354,
         3.482234477996826,
         3.898409381508827,
         3.389321208000183,
         3.426658809185028,
         3.5706160962581635,
         3.2985780835151672,
         3.4856271743774414,
         4.174889415502548,
         3.673283874988556,
         4.144728809595108,
         4.071091592311859,
         3.5504638254642487,
         3.371777653694153,
         3.7131203562021255,
         3.8441434502601624,
         3.9535210877656937,
         3.7348786890506744,
         4.101123571395874,
         3.7681512385606766
        ],
        [
         0.9989977779749525,
         1.0260969052140847,
         0.9377608717794499,
         1.094662468906457,
         1.0336235962336937,
         0.9853916529712452,
         0.9310572015730578,
         1.0531360314643032,
         0.9123653701281432,
         0.9459960097130914,
         0.782081683377834,
         1.0164563854848145,
         1.0089392007892717,
         1.0483471625017853,
         0.9811823140401873,
         1.0190632456325992,
         0.9701411331883941,
         1.0076246606807415,
         1.0424363202195743,
         1.0683097060756686,
         0.8943403961629911,
         1.0174618125230697,
         0.9907838050733531,
         1.112953310917993,
         1.043239576530595,
         0.9401924989359222,
         1.0004098413888174,
         1.0348028700276237,
         1.0064076382356284,
         1.011356380516376,
         1.0209899256919952,
         0.9861639102095842,
         1.0303585781980948,
         1.0592043783541607,
         0.9414875697561228,
         0.9926446339230091,
         0.9804126297660173,
         0.9865771117927477,
         1.0197757789879496,
         1.0358014443666104,
         0.9944148273967186,
         0.9910530334128524,
         1.0324618031247723,
         1.012368073439124,
         0.9520531605487275,
         1.0060144642137756,
         0.9947285853043369,
         0.9766531992710511,
         1.0442905647020906,
         0.983227357948211,
         1.016507841480796,
         1.0554097294026987,
         0.9690177072860151,
         1.0393120641287386,
         1.0773158630187596,
         1.0162253108237458,
         1.1600291877357887,
         1.0104481691025913,
         1.035627714490669,
         0.9982585917426858,
         1.0260013864848452,
         1.0009824724828562,
         1.0419258523929282,
         1.004931565367867,
         0.9974824160929843,
         1.0258497696238023,
         1.1624483903303204,
         0.9753437469792358,
         1.0475246559270535,
         0.9925344851803284,
         1.130421519056579,
         1.0244873877363156,
         0.8833355052835005,
         0.9977923359579086,
         0.9460792923286684,
         0.9014034573082199,
         1.0628946679774176,
         0.9500520249172045,
         1.0125192181197047,
         1.0140081252909838,
         0.9775708600186787,
         0.9280111503464736,
         1.0349384029771826,
         0.9835039391937599,
         0.9433508215463273,
         0.962952743586139,
         0.9214122843879728,
         0.9461432646119209,
         1.1521676008893715,
         0.9964490610435446,
         1.1541482563450742,
         1.1589708612848975,
         0.9234497165450598,
         0.9445296851541733,
         1.0025979438163706,
         1.011347706745231,
         1.0564952201693838,
         0.9825602641587747,
         1.1045581643889542,
         0.9908199044503264
        ]
       ],
       "encoder": "json",
       "name": "ABC_GAN_3 Metrics",
       "version": 1
      }
     },
     "metadata": {
      "scrapbook": {
       "data": true,
       "display": false,
       "name": "ABC_GAN_3 Metrics"
      }
     },
     "output_type": "display_data"
    },
    {
     "name": "stdout",
     "output_type": "stream",
     "text": [
      "MSE\n",
      "0.05089771302195284\n"
     ]
    }
   ],
   "source": [
    "ABC_GAN3_metrics=ABC_train_test2.test_generator(gen3,test_data,prior_model,variance,bias,\"3\",device)\n",
    "sb.glue(\"ABC_GAN_3 Metrics\",ABC_GAN3_metrics)\n",
    "\n",
    "print(\"MSE\")\n",
    "print(mean(ABC_GAN3_metrics[0]))"
   ]
  },
  {
   "cell_type": "code",
   "execution_count": 18,
   "id": "c8e46b48",
   "metadata": {
    "execution": {
     "iopub.execute_input": "2022-06-07T06:46:01.414885Z",
     "iopub.status.busy": "2022-06-07T06:46:01.414520Z",
     "iopub.status.idle": "2022-06-07T06:46:01.703282Z",
     "shell.execute_reply": "2022-06-07T06:46:01.703576Z"
    },
    "id": "c8e46b48",
    "papermill": {
     "duration": 0.307952,
     "end_time": "2022-06-07T06:46:01.703717",
     "exception": false,
     "start_time": "2022-06-07T06:46:01.395765",
     "status": "completed"
    },
    "tags": []
   },
   "outputs": [
    {
     "data": {
      "image/png": "[encoded data removed]",
      "text/plain": [
       "<Figure size 432x288 with 1 Axes>"
      ]
     },
     "metadata": {
      "needs_background": "light"
     },
     "output_type": "display_data"
    },
    {
     "data": {
      "image/png": "[encoded data removed]",
      "text/plain": [
       "<Figure size 432x288 with 1 Axes>"
      ]
     },
     "metadata": {
      "needs_background": "light"
     },
     "output_type": "display_data"
    },
    {
     "data": {
      "image/png": "[encoded data removed]",
      "text/plain": [
       "<Figure size 432x288 with 1 Axes>"
      ]
     },
     "metadata": {
      "needs_background": "light"
     },
     "output_type": "display_data"
    },
    {
     "data": {
      "image/png": "[encoded data removed]",
      "text/plain": [
       "<Figure size 432x288 with 1 Axes>"
      ]
     },
     "metadata": {
      "needs_background": "light"
     },
     "output_type": "display_data"
    }
   ],
   "source": [
    "sanityChecks.discProbVsError(train_data,disc3,device)\n",
    "sanityChecks.discProbVsError(test_data,disc3,device)"
   ]
  },
  {
   "cell_type": "markdown",
   "id": "a5bd74c3",
   "metadata": {
    "id": "a5bd74c3",
    "papermill": {
     "duration": 0.018933,
     "end_time": "2022-06-07T06:46:01.742189",
     "exception": false,
     "start_time": "2022-06-07T06:46:01.723256",
     "status": "completed"
    },
    "tags": []
   },
   "source": [
    "## Skip Connection Model Analysis - ABC-GAN "
   ]
  },
  {
   "cell_type": "markdown",
   "id": "5744a8bf",
   "metadata": {
    "id": "5744a8bf",
    "papermill": {
     "duration": 0.018692,
     "end_time": "2022-06-07T06:46:01.779573",
     "exception": false,
     "start_time": "2022-06-07T06:46:01.760881",
     "status": "completed"
    },
    "tags": []
   },
   "source": [
    "### Weight Analysis \n",
    "\n",
    "Study the weights of the skip connection layer\n",
    "\n",
    "Equation of the skip connection is \n",
    "\n",
    "$output = y_{gan} * w + y_{abc} * (1-w)$"
   ]
  },
  {
   "cell_type": "code",
   "execution_count": 19,
   "id": "52c31dea",
   "metadata": {
    "execution": {
     "iopub.execute_input": "2022-06-07T06:46:01.820148Z",
     "iopub.status.busy": "2022-06-07T06:46:01.819693Z",
     "iopub.status.idle": "2022-06-07T06:46:01.823208Z",
     "shell.execute_reply": "2022-06-07T06:46:01.823444Z"
    },
    "id": "52c31dea",
    "papermill": {
     "duration": 0.025066,
     "end_time": "2022-06-07T06:46:01.823560",
     "exception": false,
     "start_time": "2022-06-07T06:46:01.798494",
     "status": "completed"
    },
    "tags": []
   },
   "outputs": [
    {
     "name": "stdout",
     "output_type": "stream",
     "text": [
      "Weight of the node at skip connection\n",
      "Parameter containing:\n",
      "tensor([[0.1762]], requires_grad=True)\n"
     ]
    },
    {
     "data": {
      "application/scrapbook.scrap.json+json": {
       "data": 0.17621463537216187,
       "encoder": "json",
       "name": "Skip Connection Weight",
       "version": 1
      }
     },
     "metadata": {
      "scrapbook": {
       "data": true,
       "display": false,
       "name": "Skip Connection Weight"
      }
     },
     "output_type": "display_data"
    }
   ],
   "source": [
    "print(\"Weight of the node at skip connection\")\n",
    "for name,param in gen3.named_parameters():\n",
    "    if(name == \"skipNode.weight\"):\n",
    "        print(param)\n",
    "        sb.glue(\"Skip Connection Weight\",param.item())"
   ]
  }
 ],
 "metadata": {
  "colab": {
   "collapsed_sections": [],
   "name": "ABC_GAN_Model-Catboost_Pre-gen.ipynb",
   "provenance": []
  },
  "interpreter": {
   "hash": "31f2aee4e71d21fbe5cf8b01ff0e069b9275f58929596ceb00d14d90e3e16cd6"
  },
  "kernelspec": {
   "display_name": "Python 3 (ipykernel)",
   "language": "python",
   "name": "python3"
  },
  "language_info": {
   "codemirror_mode": {
    "name": "ipython",
    "version": 3
   },
   "file_extension": ".py",
   "mimetype": "text/x-python",
   "name": "python",
   "nbconvert_exporter": "python",
   "pygments_lexer": "ipython3",
   "version": "3.8.11"
  },
  "papermill": {
   "default_parameters": {},
   "duration": 55.485196,
   "end_time": "2022-06-07T06:46:02.150212",
   "environment_variables": {},
   "exception": null,
   "input_path": "ABC_GAN-Catboost.ipynb",
   "output_path": "./ABC_GAN_Catboost/ABC-GAN_output_6_6.ipynb",
   "parameters": {
    "bias": 0.01,
    "variance": 1
   },
   "start_time": "2022-06-07T06:45:06.665016",
   "version": "2.3.3"
  }
 },
 "nbformat": 4,
 "nbformat_minor": 5
}