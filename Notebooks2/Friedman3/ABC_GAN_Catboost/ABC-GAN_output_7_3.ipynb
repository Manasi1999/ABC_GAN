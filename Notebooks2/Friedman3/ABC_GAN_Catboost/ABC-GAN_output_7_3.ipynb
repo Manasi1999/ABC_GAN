{
 "cells": [
  {
   "cell_type": "markdown",
   "id": "622780e6",
   "metadata": {
    "id": "622780e6",
    "papermill": {
     "duration": 0.033962,
     "end_time": "2022-06-07T06:50:47.382055",
     "exception": false,
     "start_time": "2022-06-07T06:50:47.348093",
     "status": "completed"
    },
    "tags": []
   },
   "source": [
    "## Import Libraries "
   ]
  },
  {
   "cell_type": "code",
   "execution_count": 1,
   "id": "a62397e3",
   "metadata": {
    "execution": {
     "iopub.execute_input": "2022-06-07T06:50:47.417978Z",
     "iopub.status.busy": "2022-06-07T06:50:47.417461Z",
     "iopub.status.idle": "2022-06-07T06:50:47.419837Z",
     "shell.execute_reply": "2022-06-07T06:50:47.420172Z"
    },
    "id": "a62397e3",
    "papermill": {
     "duration": 0.02226,
     "end_time": "2022-06-07T06:50:47.420363",
     "exception": false,
     "start_time": "2022-06-07T06:50:47.398103",
     "status": "completed"
    },
    "tags": []
   },
   "outputs": [],
   "source": [
    "import warnings\n",
    "import sys\n",
    "sys.path.insert(0, '../../src')\n",
    "warnings.filterwarnings('ignore')"
   ]
  },
  {
   "cell_type": "code",
   "execution_count": 2,
   "id": "d6a4e155",
   "metadata": {
    "execution": {
     "iopub.execute_input": "2022-06-07T06:50:47.440830Z",
     "iopub.status.busy": "2022-06-07T06:50:47.440431Z",
     "iopub.status.idle": "2022-06-07T06:50:49.179715Z",
     "shell.execute_reply": "2022-06-07T06:50:49.179969Z"
    },
    "id": "d6a4e155",
    "papermill": {
     "duration": 1.750259,
     "end_time": "2022-06-07T06:50:49.180092",
     "exception": false,
     "start_time": "2022-06-07T06:50:47.429833",
     "status": "completed"
    },
    "tags": []
   },
   "outputs": [],
   "source": [
    "import ABC_train_test2\n",
    "import friedman1Dataset\n",
    "import network\n",
    "import dataset\n",
    "import sanityChecks\n",
    "import torch \n",
    "import scrapbook as sb\n",
    "from statistics import mean \n",
    "import catboost as ctb \n",
    "from sklearn.model_selection import train_test_split\n",
    "from sklearn.metrics import mean_squared_error,mean_absolute_error\n",
    "import numpy as np"
   ]
  },
  {
   "cell_type": "markdown",
   "id": "2fa5b0f7",
   "metadata": {
    "id": "2fa5b0f7",
    "papermill": {
     "duration": 0.006697,
     "end_time": "2022-06-07T06:50:49.193946",
     "exception": false,
     "start_time": "2022-06-07T06:50:49.187249",
     "status": "completed"
    },
    "tags": []
   },
   "source": [
    "## Parameters "
   ]
  },
  {
   "cell_type": "code",
   "execution_count": 3,
   "id": "783186fb",
   "metadata": {
    "execution": {
     "iopub.execute_input": "2022-06-07T06:50:49.209553Z",
     "iopub.status.busy": "2022-06-07T06:50:49.209189Z",
     "iopub.status.idle": "2022-06-07T06:50:49.210621Z",
     "shell.execute_reply": "2022-06-07T06:50:49.210871Z"
    },
    "id": "783186fb",
    "papermill": {
     "duration": 0.010375,
     "end_time": "2022-06-07T06:50:49.211000",
     "exception": false,
     "start_time": "2022-06-07T06:50:49.200625",
     "status": "completed"
    },
    "tags": [
     "parameters"
    ]
   },
   "outputs": [],
   "source": [
    "variance = 1\n",
    "bias = 1 "
   ]
  },
  {
   "cell_type": "code",
   "execution_count": 4,
   "id": "44db9983",
   "metadata": {
    "execution": {
     "iopub.execute_input": "2022-06-07T06:50:49.226543Z",
     "iopub.status.busy": "2022-06-07T06:50:49.226178Z",
     "iopub.status.idle": "2022-06-07T06:50:49.227638Z",
     "shell.execute_reply": "2022-06-07T06:50:49.227869Z"
    },
    "papermill": {
     "duration": 0.01005,
     "end_time": "2022-06-07T06:50:49.227972",
     "exception": false,
     "start_time": "2022-06-07T06:50:49.217922",
     "status": "completed"
    },
    "tags": [
     "injected-parameters"
    ]
   },
   "outputs": [],
   "source": [
    "# Parameters\n",
    "variance = 1\n",
    "bias = 0.1\n"
   ]
  },
  {
   "cell_type": "markdown",
   "id": "391cdbfd",
   "metadata": {
    "id": "391cdbfd",
    "papermill": {
     "duration": 0.006735,
     "end_time": "2022-06-07T06:50:49.241478",
     "exception": false,
     "start_time": "2022-06-07T06:50:49.234743",
     "status": "completed"
    },
    "tags": []
   },
   "source": [
    "## Dataset \n"
   ]
  },
  {
   "cell_type": "code",
   "execution_count": 5,
   "id": "5b51f161",
   "metadata": {
    "execution": {
     "iopub.execute_input": "2022-06-07T06:50:49.256886Z",
     "iopub.status.busy": "2022-06-07T06:50:49.256530Z",
     "iopub.status.idle": "2022-06-07T06:50:49.257926Z",
     "shell.execute_reply": "2022-06-07T06:50:49.258152Z"
    },
    "id": "5b51f161",
    "papermill": {
     "duration": 0.00999,
     "end_time": "2022-06-07T06:50:49.258256",
     "exception": false,
     "start_time": "2022-06-07T06:50:49.248266",
     "status": "completed"
    },
    "tags": []
   },
   "outputs": [],
   "source": [
    "#Parameters \n",
    "n_features = 5\n",
    "n_samples= 100\n",
    "n_target = 1 "
   ]
  },
  {
   "cell_type": "code",
   "execution_count": 6,
   "id": "5d6eced4",
   "metadata": {
    "execution": {
     "iopub.execute_input": "2022-06-07T06:50:49.275276Z",
     "iopub.status.busy": "2022-06-07T06:50:49.274912Z",
     "iopub.status.idle": "2022-06-07T06:50:49.279967Z",
     "shell.execute_reply": "2022-06-07T06:50:49.280200Z"
    },
    "id": "5d6eced4",
    "papermill": {
     "duration": 0.01516,
     "end_time": "2022-06-07T06:50:49.280312",
     "exception": false,
     "start_time": "2022-06-07T06:50:49.265152",
     "status": "completed"
    },
    "tags": []
   },
   "outputs": [
    {
     "name": "stdout",
     "output_type": "stream",
     "text": [
      "         X0        X1        X2        X3        X4         Y\n",
      "0 -1.483803  0.841762 -0.132713 -1.335020 -0.161817 -2.163069\n",
      "1  0.406135 -0.867367  0.017827 -0.767460 -1.661612 -1.392358\n",
      "2 -1.389056  0.560137 -1.191532  1.482223  0.528871  0.329462\n",
      "3  0.574189 -1.457259  1.217787 -0.059259 -0.408275 -0.625971\n",
      "4  1.298064 -0.954224  0.829454 -1.298547 -0.818208 -0.894086\n"
     ]
    }
   ],
   "source": [
    "X,Y = friedman1Dataset.friedman1_data(n_samples,n_features)"
   ]
  },
  {
   "cell_type": "code",
   "execution_count": 7,
   "id": "fe007438",
   "metadata": {
    "execution": {
     "iopub.execute_input": "2022-06-07T06:50:49.297387Z",
     "iopub.status.busy": "2022-06-07T06:50:49.297017Z",
     "iopub.status.idle": "2022-06-07T06:50:49.298481Z",
     "shell.execute_reply": "2022-06-07T06:50:49.298725Z"
    },
    "id": "fe007438",
    "papermill": {
     "duration": 0.01123,
     "end_time": "2022-06-07T06:50:49.298835",
     "exception": false,
     "start_time": "2022-06-07T06:50:49.287605",
     "status": "completed"
    },
    "tags": []
   },
   "outputs": [],
   "source": [
    "#Train test split for dataset \n",
    "X_train,X_test,Y_train,Y_test = train_test_split(X,Y,test_size = 0.2)\n",
    "train_data = dataset.CustomDataset(X_train,Y_train)\n",
    "test_data = dataset.CustomDataset(X_test,Y_test)\n"
   ]
  },
  {
   "cell_type": "markdown",
   "id": "a9a1af34",
   "metadata": {
    "id": "a9a1af34",
    "papermill": {
     "duration": 0.007015,
     "end_time": "2022-06-07T06:50:49.312981",
     "exception": false,
     "start_time": "2022-06-07T06:50:49.305966",
     "status": "completed"
    },
    "tags": []
   },
   "source": [
    "## Training Parameters "
   ]
  },
  {
   "cell_type": "code",
   "execution_count": 8,
   "id": "952b7fc8",
   "metadata": {
    "execution": {
     "iopub.execute_input": "2022-06-07T06:50:49.329201Z",
     "iopub.status.busy": "2022-06-07T06:50:49.328840Z",
     "iopub.status.idle": "2022-06-07T06:50:49.330336Z",
     "shell.execute_reply": "2022-06-07T06:50:49.330586Z"
    },
    "id": "952b7fc8",
    "papermill": {
     "duration": 0.01074,
     "end_time": "2022-06-07T06:50:49.330691",
     "exception": false,
     "start_time": "2022-06-07T06:50:49.319951",
     "status": "completed"
    },
    "tags": []
   },
   "outputs": [],
   "source": [
    "batch_size = 32\n",
    "n_epochs = 1000\n",
    "#Select the device \n",
    "device = torch.device('cuda' if torch.cuda.is_available() else 'cpu')"
   ]
  },
  {
   "cell_type": "markdown",
   "id": "a95e1600",
   "metadata": {
    "id": "a95e1600",
    "papermill": {
     "duration": 0.007047,
     "end_time": "2022-06-07T06:50:49.344828",
     "exception": false,
     "start_time": "2022-06-07T06:50:49.337781",
     "status": "completed"
    },
    "tags": []
   },
   "source": [
    "# ABC Pre-generator Model \n",
    "\n",
    "1. The catboost model is used as a pre-generator model for the ABC-GAN. \n",
    "2. The model is first trained on the entire dataset \n",
    "3. It generats X,Y pairs and we add some Gaussian noise with mean 0 and variance 1 to it which is then feed as input to the generator.\n"
   ]
  },
  {
   "cell_type": "code",
   "execution_count": 9,
   "id": "ff8ce7bd",
   "metadata": {
    "execution": {
     "iopub.execute_input": "2022-06-07T06:50:49.363488Z",
     "iopub.status.busy": "2022-06-07T06:50:49.363111Z",
     "iopub.status.idle": "2022-06-07T06:50:50.053524Z",
     "shell.execute_reply": "2022-06-07T06:50:50.053828Z"
    },
    "id": "ff8ce7bd",
    "papermill": {
     "duration": 0.701992,
     "end_time": "2022-06-07T06:50:50.053950",
     "exception": false,
     "start_time": "2022-06-07T06:50:49.351958",
     "status": "completed"
    },
    "tags": []
   },
   "outputs": [
    {
     "name": "stdout",
     "output_type": "stream",
     "text": [
      "Learning rate set to 0.024897\n",
      "0:\tlearn: 0.9876697\ttotal: 69ms\tremaining: 1m 8s\n",
      "1:\tlearn: 0.9757328\ttotal: 69.7ms\tremaining: 34.8s\n",
      "2:\tlearn: 0.9635974\ttotal: 70.3ms\tremaining: 23.4s\n",
      "3:\tlearn: 0.9533072\ttotal: 70.8ms\tremaining: 17.6s\n",
      "4:\tlearn: 0.9423982\ttotal: 71.4ms\tremaining: 14.2s\n",
      "5:\tlearn: 0.9324723\ttotal: 71.9ms\tremaining: 11.9s\n",
      "6:\tlearn: 0.9214324\ttotal: 72.4ms\tremaining: 10.3s\n",
      "7:\tlearn: 0.9096982\ttotal: 73.1ms\tremaining: 9.06s\n",
      "8:\tlearn: 0.9001933\ttotal: 73.6ms\tremaining: 8.1s\n",
      "9:\tlearn: 0.8901125\ttotal: 74.2ms\tremaining: 7.34s\n",
      "10:\tlearn: 0.8803897\ttotal: 74.6ms\tremaining: 6.7s\n",
      "11:\tlearn: 0.8699561\ttotal: 75.1ms\tremaining: 6.18s\n",
      "12:\tlearn: 0.8587268\ttotal: 75.5ms\tremaining: 5.74s\n",
      "13:\tlearn: 0.8497295\ttotal: 76ms\tremaining: 5.35s\n",
      "14:\tlearn: 0.8424869\ttotal: 76.5ms\tremaining: 5.02s\n",
      "15:\tlearn: 0.8352197\ttotal: 77ms\tremaining: 4.74s\n",
      "16:\tlearn: 0.8268221\ttotal: 77.5ms\tremaining: 4.48s\n",
      "17:\tlearn: 0.8193863\ttotal: 78.1ms\tremaining: 4.26s\n",
      "18:\tlearn: 0.8126628\ttotal: 78.7ms\tremaining: 4.06s\n",
      "19:\tlearn: 0.8040896\ttotal: 79.2ms\tremaining: 3.88s\n",
      "20:\tlearn: 0.7950829\ttotal: 79.7ms\tremaining: 3.71s\n",
      "21:\tlearn: 0.7859130\ttotal: 80.1ms\tremaining: 3.56s\n",
      "22:\tlearn: 0.7772940\ttotal: 80.6ms\tremaining: 3.42s\n",
      "23:\tlearn: 0.7688072\ttotal: 81ms\tremaining: 3.29s\n",
      "24:\tlearn: 0.7609229\ttotal: 81.4ms\tremaining: 3.17s\n",
      "25:\tlearn: 0.7521799\ttotal: 82ms\tremaining: 3.07s\n",
      "26:\tlearn: 0.7453937\ttotal: 82.5ms\tremaining: 2.97s\n",
      "27:\tlearn: 0.7376579\ttotal: 82.9ms\tremaining: 2.88s\n",
      "28:\tlearn: 0.7288698\ttotal: 83.4ms\tremaining: 2.79s\n",
      "29:\tlearn: 0.7232997\ttotal: 83.8ms\tremaining: 2.71s\n",
      "30:\tlearn: 0.7163246\ttotal: 84.2ms\tremaining: 2.63s\n",
      "31:\tlearn: 0.7072701\ttotal: 84.6ms\tremaining: 2.56s\n",
      "32:\tlearn: 0.6995753\ttotal: 85.1ms\tremaining: 2.49s\n",
      "33:\tlearn: 0.6931911\ttotal: 85.5ms\tremaining: 2.43s\n",
      "34:\tlearn: 0.6866747\ttotal: 86ms\tremaining: 2.37s\n",
      "35:\tlearn: 0.6806183\ttotal: 86.4ms\tremaining: 2.31s\n",
      "36:\tlearn: 0.6742632\ttotal: 86.8ms\tremaining: 2.26s\n",
      "37:\tlearn: 0.6680687\ttotal: 87.2ms\tremaining: 2.21s\n",
      "38:\tlearn: 0.6614784\ttotal: 87.7ms\tremaining: 2.16s\n",
      "39:\tlearn: 0.6544932\ttotal: 88.2ms\tremaining: 2.12s\n",
      "40:\tlearn: 0.6491607\ttotal: 88.5ms\tremaining: 2.07s\n",
      "41:\tlearn: 0.6425879\ttotal: 89ms\tremaining: 2.03s\n",
      "42:\tlearn: 0.6372956\ttotal: 89.5ms\tremaining: 1.99s\n",
      "43:\tlearn: 0.6306759\ttotal: 89.9ms\tremaining: 1.95s\n",
      "44:\tlearn: 0.6244137\ttotal: 90.3ms\tremaining: 1.92s\n",
      "45:\tlearn: 0.6186864\ttotal: 90.7ms\tremaining: 1.88s\n",
      "46:\tlearn: 0.6135786\ttotal: 91.1ms\tremaining: 1.85s\n",
      "47:\tlearn: 0.6075445\ttotal: 91.4ms\tremaining: 1.81s\n",
      "48:\tlearn: 0.6032196\ttotal: 91.8ms\tremaining: 1.78s\n",
      "49:\tlearn: 0.5970447\ttotal: 92.3ms\tremaining: 1.75s\n",
      "50:\tlearn: 0.5901900\ttotal: 92.7ms\tremaining: 1.72s\n",
      "51:\tlearn: 0.5841294\ttotal: 93.1ms\tremaining: 1.7s\n",
      "52:\tlearn: 0.5787873\ttotal: 93.5ms\tremaining: 1.67s\n",
      "53:\tlearn: 0.5728661\ttotal: 94ms\tremaining: 1.65s\n",
      "54:\tlearn: 0.5679048\ttotal: 94.3ms\tremaining: 1.62s\n",
      "55:\tlearn: 0.5625704\ttotal: 94.8ms\tremaining: 1.6s\n",
      "56:\tlearn: 0.5582686\ttotal: 95.3ms\tremaining: 1.58s\n",
      "57:\tlearn: 0.5532390\ttotal: 95.8ms\tremaining: 1.56s\n",
      "58:\tlearn: 0.5494158\ttotal: 96.3ms\tremaining: 1.53s\n",
      "59:\tlearn: 0.5443592\ttotal: 96.7ms\tremaining: 1.51s\n"
     ]
    },
    {
     "name": "stdout",
     "output_type": "stream",
     "text": [
      "60:\tlearn: 0.5400123\ttotal: 97ms\tremaining: 1.49s\n",
      "61:\tlearn: 0.5355064\ttotal: 97.9ms\tremaining: 1.48s\n",
      "62:\tlearn: 0.5304461\ttotal: 98.3ms\tremaining: 1.46s\n",
      "63:\tlearn: 0.5251295\ttotal: 98.9ms\tremaining: 1.45s\n",
      "64:\tlearn: 0.5212802\ttotal: 99.5ms\tremaining: 1.43s\n",
      "65:\tlearn: 0.5173602\ttotal: 100ms\tremaining: 1.42s\n",
      "66:\tlearn: 0.5134701\ttotal: 101ms\tremaining: 1.4s\n",
      "67:\tlearn: 0.5087344\ttotal: 101ms\tremaining: 1.39s\n",
      "68:\tlearn: 0.5051651\ttotal: 102ms\tremaining: 1.37s\n",
      "69:\tlearn: 0.5003635\ttotal: 102ms\tremaining: 1.36s\n",
      "70:\tlearn: 0.4961419\ttotal: 103ms\tremaining: 1.35s\n",
      "71:\tlearn: 0.4915473\ttotal: 103ms\tremaining: 1.33s\n",
      "72:\tlearn: 0.4865241\ttotal: 104ms\tremaining: 1.32s\n",
      "73:\tlearn: 0.4815631\ttotal: 104ms\tremaining: 1.31s\n",
      "74:\tlearn: 0.4765491\ttotal: 105ms\tremaining: 1.29s\n",
      "75:\tlearn: 0.4734108\ttotal: 105ms\tremaining: 1.28s\n",
      "76:\tlearn: 0.4693223\ttotal: 106ms\tremaining: 1.27s\n",
      "77:\tlearn: 0.4650265\ttotal: 106ms\tremaining: 1.26s\n",
      "78:\tlearn: 0.4615743\ttotal: 107ms\tremaining: 1.25s\n",
      "79:\tlearn: 0.4583218\ttotal: 107ms\tremaining: 1.24s\n",
      "80:\tlearn: 0.4541746\ttotal: 108ms\tremaining: 1.23s\n",
      "81:\tlearn: 0.4504101\ttotal: 108ms\tremaining: 1.21s\n",
      "82:\tlearn: 0.4458664\ttotal: 109ms\tremaining: 1.2s\n",
      "83:\tlearn: 0.4428149\ttotal: 109ms\tremaining: 1.19s\n",
      "84:\tlearn: 0.4385048\ttotal: 110ms\tremaining: 1.18s\n",
      "85:\tlearn: 0.4346093\ttotal: 110ms\tremaining: 1.17s\n",
      "86:\tlearn: 0.4308359\ttotal: 111ms\tremaining: 1.16s\n",
      "87:\tlearn: 0.4270870\ttotal: 112ms\tremaining: 1.16s\n",
      "88:\tlearn: 0.4232101\ttotal: 112ms\tremaining: 1.15s\n",
      "89:\tlearn: 0.4203488\ttotal: 113ms\tremaining: 1.14s\n",
      "90:\tlearn: 0.4166239\ttotal: 113ms\tremaining: 1.13s\n",
      "91:\tlearn: 0.4132901\ttotal: 114ms\tremaining: 1.12s\n",
      "92:\tlearn: 0.4097279\ttotal: 114ms\tremaining: 1.11s\n",
      "93:\tlearn: 0.4064365\ttotal: 114ms\tremaining: 1.1s\n",
      "94:\tlearn: 0.4028175\ttotal: 115ms\tremaining: 1.09s\n",
      "95:\tlearn: 0.3999621\ttotal: 115ms\tremaining: 1.08s\n",
      "96:\tlearn: 0.3970666\ttotal: 116ms\tremaining: 1.08s\n",
      "97:\tlearn: 0.3935875\ttotal: 116ms\tremaining: 1.07s\n",
      "98:\tlearn: 0.3901846\ttotal: 117ms\tremaining: 1.06s\n",
      "99:\tlearn: 0.3875715\ttotal: 117ms\tremaining: 1.05s\n",
      "100:\tlearn: 0.3845511\ttotal: 118ms\tremaining: 1.05s\n",
      "101:\tlearn: 0.3813178\ttotal: 118ms\tremaining: 1.04s\n",
      "102:\tlearn: 0.3786226\ttotal: 119ms\tremaining: 1.03s\n",
      "103:\tlearn: 0.3760620\ttotal: 119ms\tremaining: 1.03s\n",
      "104:\tlearn: 0.3730253\ttotal: 120ms\tremaining: 1.02s\n",
      "105:\tlearn: 0.3699682\ttotal: 120ms\tremaining: 1.01s\n",
      "106:\tlearn: 0.3669776\ttotal: 120ms\tremaining: 1s\n",
      "107:\tlearn: 0.3640428\ttotal: 121ms\tremaining: 998ms\n",
      "108:\tlearn: 0.3610282\ttotal: 121ms\tremaining: 991ms\n",
      "109:\tlearn: 0.3578316\ttotal: 122ms\tremaining: 984ms\n",
      "110:\tlearn: 0.3546012\ttotal: 122ms\tremaining: 978ms\n",
      "111:\tlearn: 0.3520419\ttotal: 122ms\tremaining: 971ms\n",
      "112:\tlearn: 0.3490783\ttotal: 123ms\tremaining: 965ms\n",
      "113:\tlearn: 0.3462665\ttotal: 123ms\tremaining: 959ms\n",
      "114:\tlearn: 0.3435734\ttotal: 124ms\tremaining: 952ms\n"
     ]
    },
    {
     "name": "stdout",
     "output_type": "stream",
     "text": [
      "115:\tlearn: 0.3410911\ttotal: 124ms\tremaining: 946ms\n",
      "116:\tlearn: 0.3383492\ttotal: 125ms\tremaining: 942ms\n",
      "117:\tlearn: 0.3362916\ttotal: 125ms\tremaining: 937ms\n",
      "118:\tlearn: 0.3344204\ttotal: 126ms\tremaining: 932ms\n",
      "119:\tlearn: 0.3321067\ttotal: 126ms\tremaining: 927ms\n",
      "120:\tlearn: 0.3298366\ttotal: 127ms\tremaining: 922ms\n",
      "121:\tlearn: 0.3277015\ttotal: 127ms\tremaining: 916ms\n",
      "122:\tlearn: 0.3256025\ttotal: 128ms\tremaining: 910ms\n",
      "123:\tlearn: 0.3230768\ttotal: 128ms\tremaining: 904ms\n",
      "124:\tlearn: 0.3208882\ttotal: 128ms\tremaining: 899ms\n",
      "125:\tlearn: 0.3185547\ttotal: 129ms\tremaining: 893ms\n",
      "126:\tlearn: 0.3164703\ttotal: 129ms\tremaining: 888ms\n",
      "127:\tlearn: 0.3136996\ttotal: 130ms\tremaining: 883ms\n",
      "128:\tlearn: 0.3108163\ttotal: 130ms\tremaining: 879ms\n",
      "129:\tlearn: 0.3089483\ttotal: 130ms\tremaining: 873ms\n",
      "130:\tlearn: 0.3070200\ttotal: 131ms\tremaining: 868ms\n",
      "131:\tlearn: 0.3046085\ttotal: 131ms\tremaining: 864ms\n",
      "132:\tlearn: 0.3021972\ttotal: 132ms\tremaining: 859ms\n",
      "133:\tlearn: 0.2995413\ttotal: 132ms\tremaining: 855ms\n",
      "134:\tlearn: 0.2974313\ttotal: 133ms\tremaining: 851ms\n",
      "135:\tlearn: 0.2953397\ttotal: 133ms\tremaining: 847ms\n",
      "136:\tlearn: 0.2932912\ttotal: 134ms\tremaining: 844ms\n",
      "137:\tlearn: 0.2911505\ttotal: 134ms\tremaining: 840ms\n",
      "138:\tlearn: 0.2890137\ttotal: 135ms\tremaining: 836ms\n",
      "139:\tlearn: 0.2870643\ttotal: 135ms\tremaining: 832ms\n",
      "140:\tlearn: 0.2845979\ttotal: 136ms\tremaining: 828ms\n",
      "141:\tlearn: 0.2822071\ttotal: 136ms\tremaining: 825ms\n",
      "142:\tlearn: 0.2803188\ttotal: 137ms\tremaining: 821ms\n",
      "143:\tlearn: 0.2785089\ttotal: 137ms\tremaining: 816ms\n",
      "144:\tlearn: 0.2766225\ttotal: 138ms\tremaining: 813ms\n",
      "145:\tlearn: 0.2750452\ttotal: 138ms\tremaining: 809ms\n",
      "146:\tlearn: 0.2731102\ttotal: 139ms\tremaining: 806ms\n",
      "147:\tlearn: 0.2710277\ttotal: 139ms\tremaining: 802ms\n",
      "148:\tlearn: 0.2695002\ttotal: 140ms\tremaining: 799ms\n",
      "149:\tlearn: 0.2672783\ttotal: 140ms\tremaining: 796ms\n",
      "150:\tlearn: 0.2653111\ttotal: 141ms\tremaining: 793ms\n",
      "151:\tlearn: 0.2634661\ttotal: 142ms\tremaining: 790ms\n",
      "152:\tlearn: 0.2618932\ttotal: 142ms\tremaining: 786ms\n",
      "153:\tlearn: 0.2600080\ttotal: 143ms\tremaining: 783ms\n",
      "154:\tlearn: 0.2582678\ttotal: 143ms\tremaining: 780ms\n",
      "155:\tlearn: 0.2567710\ttotal: 143ms\tremaining: 776ms\n",
      "156:\tlearn: 0.2548740\ttotal: 144ms\tremaining: 773ms\n",
      "157:\tlearn: 0.2532036\ttotal: 144ms\tremaining: 770ms\n",
      "158:\tlearn: 0.2511315\ttotal: 145ms\tremaining: 767ms\n",
      "159:\tlearn: 0.2495372\ttotal: 145ms\tremaining: 763ms\n",
      "160:\tlearn: 0.2480386\ttotal: 146ms\tremaining: 760ms\n",
      "161:\tlearn: 0.2463745\ttotal: 146ms\tremaining: 757ms\n",
      "162:\tlearn: 0.2447339\ttotal: 147ms\tremaining: 753ms\n",
      "163:\tlearn: 0.2427853\ttotal: 147ms\tremaining: 751ms\n",
      "164:\tlearn: 0.2410976\ttotal: 148ms\tremaining: 748ms\n",
      "165:\tlearn: 0.2396098\ttotal: 148ms\tremaining: 745ms\n",
      "166:\tlearn: 0.2382129\ttotal: 149ms\tremaining: 742ms\n",
      "167:\tlearn: 0.2367667\ttotal: 149ms\tremaining: 740ms\n",
      "168:\tlearn: 0.2349697\ttotal: 150ms\tremaining: 737ms\n",
      "169:\tlearn: 0.2334560\ttotal: 150ms\tremaining: 734ms\n",
      "170:\tlearn: 0.2320678\ttotal: 151ms\tremaining: 732ms\n",
      "171:\tlearn: 0.2306204\ttotal: 151ms\tremaining: 729ms\n",
      "172:\tlearn: 0.2291278\ttotal: 152ms\tremaining: 726ms\n",
      "173:\tlearn: 0.2278100\ttotal: 152ms\tremaining: 723ms\n",
      "174:\tlearn: 0.2256861\ttotal: 153ms\tremaining: 721ms\n",
      "175:\tlearn: 0.2238321\ttotal: 153ms\tremaining: 718ms\n",
      "176:\tlearn: 0.2221210\ttotal: 154ms\tremaining: 716ms\n",
      "177:\tlearn: 0.2205804\ttotal: 155ms\tremaining: 714ms\n",
      "178:\tlearn: 0.2194362\ttotal: 155ms\tremaining: 711ms\n",
      "179:\tlearn: 0.2178451\ttotal: 155ms\tremaining: 708ms\n",
      "180:\tlearn: 0.2165237\ttotal: 156ms\tremaining: 706ms\n",
      "181:\tlearn: 0.2149713\ttotal: 156ms\tremaining: 703ms\n",
      "182:\tlearn: 0.2135336\ttotal: 157ms\tremaining: 700ms\n",
      "183:\tlearn: 0.2115941\ttotal: 157ms\tremaining: 698ms\n",
      "184:\tlearn: 0.2104390\ttotal: 158ms\tremaining: 696ms\n",
      "185:\tlearn: 0.2087115\ttotal: 158ms\tremaining: 693ms\n",
      "186:\tlearn: 0.2074238\ttotal: 159ms\tremaining: 691ms\n",
      "187:\tlearn: 0.2061345\ttotal: 160ms\tremaining: 689ms\n",
      "188:\tlearn: 0.2046804\ttotal: 160ms\tremaining: 687ms\n",
      "189:\tlearn: 0.2030826\ttotal: 161ms\tremaining: 684ms\n",
      "190:\tlearn: 0.2015298\ttotal: 161ms\tremaining: 682ms\n",
      "191:\tlearn: 0.2003569\ttotal: 161ms\tremaining: 679ms\n",
      "192:\tlearn: 0.1991966\ttotal: 162ms\tremaining: 677ms\n",
      "193:\tlearn: 0.1979402\ttotal: 162ms\tremaining: 675ms\n",
      "194:\tlearn: 0.1965656\ttotal: 163ms\tremaining: 672ms\n",
      "195:\tlearn: 0.1953317\ttotal: 163ms\tremaining: 670ms\n",
      "196:\tlearn: 0.1940050\ttotal: 164ms\tremaining: 668ms\n",
      "197:\tlearn: 0.1928325\ttotal: 164ms\tremaining: 666ms\n",
      "198:\tlearn: 0.1913962\ttotal: 165ms\tremaining: 663ms\n",
      "199:\tlearn: 0.1901294\ttotal: 165ms\tremaining: 661ms\n",
      "200:\tlearn: 0.1889262\ttotal: 166ms\tremaining: 659ms\n",
      "201:\tlearn: 0.1876898\ttotal: 166ms\tremaining: 656ms\n",
      "202:\tlearn: 0.1863491\ttotal: 167ms\tremaining: 654ms\n",
      "203:\tlearn: 0.1852820\ttotal: 167ms\tremaining: 652ms\n",
      "204:\tlearn: 0.1842682\ttotal: 168ms\tremaining: 650ms\n",
      "205:\tlearn: 0.1832803\ttotal: 168ms\tremaining: 648ms\n",
      "206:\tlearn: 0.1821259\ttotal: 169ms\tremaining: 646ms\n",
      "207:\tlearn: 0.1810833\ttotal: 169ms\tremaining: 645ms\n",
      "208:\tlearn: 0.1800141\ttotal: 170ms\tremaining: 643ms\n",
      "209:\tlearn: 0.1788369\ttotal: 170ms\tremaining: 641ms\n",
      "210:\tlearn: 0.1777297\ttotal: 171ms\tremaining: 639ms\n",
      "211:\tlearn: 0.1766215\ttotal: 171ms\tremaining: 637ms\n",
      "212:\tlearn: 0.1755141\ttotal: 172ms\tremaining: 635ms\n",
      "213:\tlearn: 0.1744873\ttotal: 173ms\tremaining: 634ms\n",
      "214:\tlearn: 0.1734472\ttotal: 173ms\tremaining: 632ms\n",
      "215:\tlearn: 0.1722581\ttotal: 174ms\tremaining: 630ms\n",
      "216:\tlearn: 0.1712811\ttotal: 174ms\tremaining: 628ms\n",
      "217:\tlearn: 0.1700144\ttotal: 174ms\tremaining: 625ms\n",
      "218:\tlearn: 0.1690763\ttotal: 175ms\tremaining: 624ms\n",
      "219:\tlearn: 0.1679932\ttotal: 175ms\tremaining: 621ms\n",
      "220:\tlearn: 0.1668446\ttotal: 176ms\tremaining: 620ms\n",
      "221:\tlearn: 0.1657792\ttotal: 176ms\tremaining: 618ms\n",
      "222:\tlearn: 0.1647418\ttotal: 177ms\tremaining: 616ms\n",
      "223:\tlearn: 0.1636345\ttotal: 177ms\tremaining: 614ms\n",
      "224:\tlearn: 0.1623519\ttotal: 178ms\tremaining: 613ms\n",
      "225:\tlearn: 0.1612157\ttotal: 178ms\tremaining: 611ms\n",
      "226:\tlearn: 0.1602014\ttotal: 179ms\tremaining: 608ms\n",
      "227:\tlearn: 0.1590478\ttotal: 179ms\tremaining: 606ms\n",
      "228:\tlearn: 0.1578797\ttotal: 179ms\tremaining: 604ms\n",
      "229:\tlearn: 0.1568826\ttotal: 180ms\tremaining: 602ms\n",
      "230:\tlearn: 0.1558731\ttotal: 180ms\tremaining: 600ms\n",
      "231:\tlearn: 0.1547057\ttotal: 181ms\tremaining: 598ms\n",
      "232:\tlearn: 0.1536523\ttotal: 181ms\tremaining: 597ms\n",
      "233:\tlearn: 0.1526686\ttotal: 182ms\tremaining: 595ms\n",
      "234:\tlearn: 0.1515574\ttotal: 182ms\tremaining: 593ms\n",
      "235:\tlearn: 0.1502448\ttotal: 183ms\tremaining: 591ms\n",
      "236:\tlearn: 0.1490179\ttotal: 183ms\tremaining: 590ms\n",
      "237:\tlearn: 0.1479713\ttotal: 184ms\tremaining: 588ms\n",
      "238:\tlearn: 0.1467408\ttotal: 184ms\tremaining: 586ms\n",
      "239:\tlearn: 0.1457862\ttotal: 184ms\tremaining: 584ms\n",
      "240:\tlearn: 0.1449444\ttotal: 185ms\tremaining: 583ms\n",
      "241:\tlearn: 0.1440151\ttotal: 186ms\tremaining: 581ms\n",
      "242:\tlearn: 0.1429330\ttotal: 186ms\tremaining: 580ms\n",
      "243:\tlearn: 0.1419599\ttotal: 187ms\tremaining: 579ms\n",
      "244:\tlearn: 0.1410613\ttotal: 187ms\tremaining: 577ms\n",
      "245:\tlearn: 0.1401999\ttotal: 188ms\tremaining: 576ms\n",
      "246:\tlearn: 0.1391379\ttotal: 188ms\tremaining: 574ms\n",
      "247:\tlearn: 0.1383790\ttotal: 189ms\tremaining: 572ms\n",
      "248:\tlearn: 0.1374353\ttotal: 189ms\tremaining: 571ms\n",
      "249:\tlearn: 0.1366278\ttotal: 190ms\tremaining: 569ms\n",
      "250:\tlearn: 0.1357836\ttotal: 190ms\tremaining: 568ms\n",
      "251:\tlearn: 0.1347605\ttotal: 191ms\tremaining: 566ms\n",
      "252:\tlearn: 0.1337848\ttotal: 191ms\tremaining: 564ms\n",
      "253:\tlearn: 0.1330046\ttotal: 191ms\tremaining: 562ms\n",
      "254:\tlearn: 0.1320799\ttotal: 192ms\tremaining: 561ms\n",
      "255:\tlearn: 0.1311846\ttotal: 192ms\tremaining: 559ms\n",
      "256:\tlearn: 0.1302951\ttotal: 193ms\tremaining: 557ms\n",
      "257:\tlearn: 0.1294706\ttotal: 193ms\tremaining: 556ms\n",
      "258:\tlearn: 0.1285424\ttotal: 194ms\tremaining: 554ms\n",
      "259:\tlearn: 0.1276913\ttotal: 194ms\tremaining: 552ms\n",
      "260:\tlearn: 0.1268156\ttotal: 195ms\tremaining: 551ms\n",
      "261:\tlearn: 0.1259597\ttotal: 195ms\tremaining: 549ms\n",
      "262:\tlearn: 0.1251458\ttotal: 195ms\tremaining: 548ms\n",
      "263:\tlearn: 0.1245955\ttotal: 196ms\tremaining: 547ms\n",
      "264:\tlearn: 0.1237425\ttotal: 197ms\tremaining: 545ms\n",
      "265:\tlearn: 0.1230738\ttotal: 197ms\tremaining: 544ms\n",
      "266:\tlearn: 0.1222259\ttotal: 198ms\tremaining: 542ms\n",
      "267:\tlearn: 0.1213726\ttotal: 198ms\tremaining: 541ms\n",
      "268:\tlearn: 0.1207819\ttotal: 199ms\tremaining: 540ms\n",
      "269:\tlearn: 0.1200867\ttotal: 199ms\tremaining: 538ms\n",
      "270:\tlearn: 0.1191143\ttotal: 199ms\tremaining: 536ms\n",
      "271:\tlearn: 0.1184122\ttotal: 200ms\tremaining: 535ms\n",
      "272:\tlearn: 0.1177986\ttotal: 200ms\tremaining: 534ms\n",
      "273:\tlearn: 0.1171254\ttotal: 201ms\tremaining: 532ms\n",
      "274:\tlearn: 0.1163499\ttotal: 201ms\tremaining: 531ms\n",
      "275:\tlearn: 0.1154461\ttotal: 202ms\tremaining: 530ms\n",
      "276:\tlearn: 0.1148634\ttotal: 202ms\tremaining: 528ms\n",
      "277:\tlearn: 0.1140692\ttotal: 203ms\tremaining: 527ms\n",
      "278:\tlearn: 0.1132365\ttotal: 203ms\tremaining: 525ms\n",
      "279:\tlearn: 0.1124716\ttotal: 204ms\tremaining: 524ms\n",
      "280:\tlearn: 0.1116403\ttotal: 204ms\tremaining: 523ms\n",
      "281:\tlearn: 0.1109824\ttotal: 205ms\tremaining: 521ms\n",
      "282:\tlearn: 0.1103365\ttotal: 205ms\tremaining: 520ms\n",
      "283:\tlearn: 0.1096386\ttotal: 206ms\tremaining: 519ms\n",
      "284:\tlearn: 0.1088468\ttotal: 206ms\tremaining: 517ms\n",
      "285:\tlearn: 0.1082282\ttotal: 207ms\tremaining: 516ms\n",
      "286:\tlearn: 0.1074132\ttotal: 207ms\tremaining: 515ms\n",
      "287:\tlearn: 0.1068739\ttotal: 208ms\tremaining: 514ms\n",
      "288:\tlearn: 0.1062527\ttotal: 208ms\tremaining: 513ms\n",
      "289:\tlearn: 0.1055210\ttotal: 209ms\tremaining: 512ms\n",
      "290:\tlearn: 0.1048889\ttotal: 210ms\tremaining: 511ms\n",
      "291:\tlearn: 0.1041879\ttotal: 210ms\tremaining: 510ms\n",
      "292:\tlearn: 0.1034891\ttotal: 211ms\tremaining: 509ms\n",
      "293:\tlearn: 0.1028410\ttotal: 212ms\tremaining: 508ms\n",
      "294:\tlearn: 0.1022460\ttotal: 212ms\tremaining: 507ms\n",
      "295:\tlearn: 0.1015485\ttotal: 213ms\tremaining: 506ms\n",
      "296:\tlearn: 0.1009275\ttotal: 213ms\tremaining: 504ms\n",
      "297:\tlearn: 0.1002440\ttotal: 214ms\tremaining: 503ms\n",
      "298:\tlearn: 0.0996549\ttotal: 214ms\tremaining: 502ms\n",
      "299:\tlearn: 0.0991266\ttotal: 214ms\tremaining: 500ms\n",
      "300:\tlearn: 0.0986947\ttotal: 215ms\tremaining: 499ms\n",
      "301:\tlearn: 0.0982125\ttotal: 215ms\tremaining: 498ms\n",
      "302:\tlearn: 0.0975478\ttotal: 216ms\tremaining: 497ms\n",
      "303:\tlearn: 0.0971334\ttotal: 216ms\tremaining: 495ms\n",
      "304:\tlearn: 0.0967534\ttotal: 217ms\tremaining: 495ms\n",
      "305:\tlearn: 0.0962282\ttotal: 218ms\tremaining: 494ms\n",
      "306:\tlearn: 0.0958458\ttotal: 218ms\tremaining: 493ms\n",
      "307:\tlearn: 0.0952340\ttotal: 219ms\tremaining: 491ms\n",
      "308:\tlearn: 0.0946760\ttotal: 219ms\tremaining: 490ms\n",
      "309:\tlearn: 0.0941915\ttotal: 220ms\tremaining: 489ms\n",
      "310:\tlearn: 0.0936466\ttotal: 220ms\tremaining: 488ms\n",
      "311:\tlearn: 0.0931180\ttotal: 220ms\tremaining: 486ms\n",
      "312:\tlearn: 0.0926025\ttotal: 221ms\tremaining: 485ms\n",
      "313:\tlearn: 0.0922317\ttotal: 221ms\tremaining: 484ms\n",
      "314:\tlearn: 0.0918865\ttotal: 222ms\tremaining: 482ms\n",
      "315:\tlearn: 0.0915669\ttotal: 222ms\tremaining: 481ms\n",
      "316:\tlearn: 0.0912314\ttotal: 223ms\tremaining: 480ms\n",
      "317:\tlearn: 0.0906051\ttotal: 223ms\tremaining: 478ms\n",
      "318:\tlearn: 0.0899860\ttotal: 224ms\tremaining: 477ms\n",
      "319:\tlearn: 0.0896481\ttotal: 224ms\tremaining: 476ms\n",
      "320:\tlearn: 0.0893470\ttotal: 225ms\tremaining: 475ms\n",
      "321:\tlearn: 0.0890298\ttotal: 226ms\tremaining: 476ms\n",
      "322:\tlearn: 0.0884294\ttotal: 227ms\tremaining: 475ms\n",
      "323:\tlearn: 0.0879415\ttotal: 227ms\tremaining: 474ms\n",
      "324:\tlearn: 0.0876339\ttotal: 227ms\tremaining: 472ms\n",
      "325:\tlearn: 0.0874230\ttotal: 228ms\tremaining: 471ms\n",
      "326:\tlearn: 0.0871079\ttotal: 229ms\tremaining: 470ms\n",
      "327:\tlearn: 0.0868112\ttotal: 229ms\tremaining: 469ms\n",
      "328:\tlearn: 0.0862550\ttotal: 230ms\tremaining: 468ms\n",
      "329:\tlearn: 0.0856788\ttotal: 230ms\tremaining: 467ms\n",
      "330:\tlearn: 0.0852566\ttotal: 230ms\tremaining: 465ms\n",
      "331:\tlearn: 0.0847969\ttotal: 231ms\tremaining: 464ms\n",
      "332:\tlearn: 0.0842410\ttotal: 231ms\tremaining: 463ms\n",
      "333:\tlearn: 0.0837312\ttotal: 232ms\tremaining: 462ms\n",
      "334:\tlearn: 0.0834510\ttotal: 232ms\tremaining: 460ms\n"
     ]
    },
    {
     "name": "stdout",
     "output_type": "stream",
     "text": [
      "335:\tlearn: 0.0831580\ttotal: 233ms\tremaining: 460ms\n",
      "336:\tlearn: 0.0829270\ttotal: 233ms\tremaining: 459ms\n",
      "337:\tlearn: 0.0823006\ttotal: 233ms\tremaining: 457ms\n",
      "338:\tlearn: 0.0816889\ttotal: 234ms\tremaining: 456ms\n",
      "339:\tlearn: 0.0812575\ttotal: 234ms\tremaining: 455ms\n",
      "340:\tlearn: 0.0808343\ttotal: 235ms\tremaining: 454ms\n",
      "341:\tlearn: 0.0804192\ttotal: 235ms\tremaining: 452ms\n",
      "342:\tlearn: 0.0800094\ttotal: 236ms\tremaining: 451ms\n",
      "343:\tlearn: 0.0795943\ttotal: 236ms\tremaining: 450ms\n",
      "344:\tlearn: 0.0791114\ttotal: 237ms\tremaining: 449ms\n",
      "345:\tlearn: 0.0787182\ttotal: 237ms\tremaining: 448ms\n",
      "346:\tlearn: 0.0783020\ttotal: 237ms\tremaining: 447ms\n",
      "347:\tlearn: 0.0779859\ttotal: 238ms\tremaining: 446ms\n",
      "348:\tlearn: 0.0777782\ttotal: 239ms\tremaining: 445ms\n",
      "349:\tlearn: 0.0773856\ttotal: 239ms\tremaining: 444ms\n",
      "350:\tlearn: 0.0769656\ttotal: 239ms\tremaining: 443ms\n",
      "351:\tlearn: 0.0767997\ttotal: 240ms\tremaining: 441ms\n",
      "352:\tlearn: 0.0765416\ttotal: 240ms\tremaining: 441ms\n",
      "353:\tlearn: 0.0760719\ttotal: 241ms\tremaining: 440ms\n",
      "354:\tlearn: 0.0757888\ttotal: 241ms\tremaining: 438ms\n",
      "355:\tlearn: 0.0753958\ttotal: 242ms\tremaining: 437ms\n",
      "356:\tlearn: 0.0750343\ttotal: 242ms\tremaining: 436ms\n",
      "357:\tlearn: 0.0746802\ttotal: 243ms\tremaining: 435ms\n",
      "358:\tlearn: 0.0743007\ttotal: 243ms\tremaining: 434ms\n",
      "359:\tlearn: 0.0738618\ttotal: 243ms\tremaining: 433ms\n",
      "360:\tlearn: 0.0733838\ttotal: 244ms\tremaining: 432ms\n",
      "361:\tlearn: 0.0729138\ttotal: 244ms\tremaining: 431ms\n",
      "362:\tlearn: 0.0725528\ttotal: 245ms\tremaining: 430ms\n",
      "363:\tlearn: 0.0721995\ttotal: 246ms\tremaining: 429ms\n",
      "364:\tlearn: 0.0718520\ttotal: 246ms\tremaining: 428ms\n",
      "365:\tlearn: 0.0714073\ttotal: 246ms\tremaining: 427ms\n",
      "366:\tlearn: 0.0709688\ttotal: 247ms\tremaining: 426ms\n",
      "367:\tlearn: 0.0705935\ttotal: 247ms\tremaining: 425ms\n",
      "368:\tlearn: 0.0701653\ttotal: 248ms\tremaining: 424ms\n",
      "369:\tlearn: 0.0697468\ttotal: 248ms\tremaining: 422ms\n",
      "370:\tlearn: 0.0693347\ttotal: 249ms\tremaining: 422ms\n",
      "371:\tlearn: 0.0689592\ttotal: 249ms\tremaining: 420ms\n",
      "372:\tlearn: 0.0685556\ttotal: 250ms\tremaining: 420ms\n",
      "373:\tlearn: 0.0681454\ttotal: 250ms\tremaining: 419ms\n",
      "374:\tlearn: 0.0678284\ttotal: 251ms\tremaining: 418ms\n",
      "375:\tlearn: 0.0674448\ttotal: 251ms\tremaining: 417ms\n",
      "376:\tlearn: 0.0669071\ttotal: 252ms\tremaining: 416ms\n",
      "377:\tlearn: 0.0666088\ttotal: 252ms\tremaining: 415ms\n",
      "378:\tlearn: 0.0661807\ttotal: 253ms\tremaining: 414ms\n",
      "379:\tlearn: 0.0658349\ttotal: 253ms\tremaining: 414ms\n",
      "380:\tlearn: 0.0654976\ttotal: 254ms\tremaining: 413ms\n",
      "381:\tlearn: 0.0653642\ttotal: 254ms\tremaining: 412ms\n",
      "382:\tlearn: 0.0650067\ttotal: 255ms\tremaining: 411ms\n",
      "383:\tlearn: 0.0647040\ttotal: 255ms\tremaining: 410ms\n",
      "384:\tlearn: 0.0645070\ttotal: 256ms\tremaining: 409ms\n",
      "385:\tlearn: 0.0641738\ttotal: 256ms\tremaining: 408ms\n",
      "386:\tlearn: 0.0639825\ttotal: 257ms\tremaining: 407ms\n",
      "387:\tlearn: 0.0638550\ttotal: 257ms\tremaining: 406ms\n",
      "388:\tlearn: 0.0634989\ttotal: 258ms\tremaining: 404ms\n",
      "389:\tlearn: 0.0631511\ttotal: 258ms\tremaining: 404ms\n",
      "390:\tlearn: 0.0627814\ttotal: 258ms\tremaining: 403ms\n",
      "391:\tlearn: 0.0624563\ttotal: 259ms\tremaining: 402ms\n",
      "392:\tlearn: 0.0621281\ttotal: 259ms\tremaining: 401ms\n",
      "393:\tlearn: 0.0619465\ttotal: 260ms\tremaining: 400ms\n",
      "394:\tlearn: 0.0618262\ttotal: 260ms\tremaining: 399ms\n",
      "395:\tlearn: 0.0615182\ttotal: 261ms\tremaining: 398ms\n",
      "396:\tlearn: 0.0613416\ttotal: 262ms\tremaining: 397ms\n",
      "397:\tlearn: 0.0611725\ttotal: 262ms\tremaining: 396ms\n",
      "398:\tlearn: 0.0610062\ttotal: 263ms\tremaining: 396ms\n",
      "399:\tlearn: 0.0606655\ttotal: 263ms\tremaining: 395ms\n",
      "400:\tlearn: 0.0605034\ttotal: 264ms\tremaining: 394ms\n",
      "401:\tlearn: 0.0603423\ttotal: 264ms\tremaining: 393ms\n",
      "402:\tlearn: 0.0601838\ttotal: 265ms\tremaining: 392ms\n",
      "403:\tlearn: 0.0600281\ttotal: 265ms\tremaining: 392ms\n",
      "404:\tlearn: 0.0598714\ttotal: 266ms\tremaining: 391ms\n",
      "405:\tlearn: 0.0597616\ttotal: 266ms\tremaining: 390ms\n",
      "406:\tlearn: 0.0596350\ttotal: 267ms\tremaining: 389ms\n",
      "407:\tlearn: 0.0595278\ttotal: 267ms\tremaining: 388ms\n",
      "408:\tlearn: 0.0591836\ttotal: 268ms\tremaining: 387ms\n",
      "409:\tlearn: 0.0590335\ttotal: 269ms\tremaining: 386ms\n",
      "410:\tlearn: 0.0586141\ttotal: 269ms\tremaining: 385ms\n",
      "411:\tlearn: 0.0584665\ttotal: 270ms\tremaining: 385ms\n",
      "412:\tlearn: 0.0581338\ttotal: 270ms\tremaining: 384ms\n",
      "413:\tlearn: 0.0579561\ttotal: 271ms\tremaining: 383ms\n",
      "414:\tlearn: 0.0575668\ttotal: 271ms\tremaining: 382ms\n",
      "415:\tlearn: 0.0571673\ttotal: 272ms\tremaining: 381ms\n",
      "416:\tlearn: 0.0567883\ttotal: 272ms\tremaining: 381ms\n",
      "417:\tlearn: 0.0566486\ttotal: 273ms\tremaining: 380ms\n",
      "418:\tlearn: 0.0565113\ttotal: 273ms\tremaining: 379ms\n",
      "419:\tlearn: 0.0561266\ttotal: 274ms\tremaining: 378ms\n",
      "420:\tlearn: 0.0557500\ttotal: 274ms\tremaining: 377ms\n",
      "421:\tlearn: 0.0553815\ttotal: 275ms\tremaining: 376ms\n",
      "422:\tlearn: 0.0550208\ttotal: 275ms\tremaining: 376ms\n",
      "423:\tlearn: 0.0546679\ttotal: 276ms\tremaining: 375ms\n",
      "424:\tlearn: 0.0543224\ttotal: 276ms\tremaining: 374ms\n",
      "425:\tlearn: 0.0539608\ttotal: 277ms\tremaining: 373ms\n",
      "426:\tlearn: 0.0536047\ttotal: 278ms\tremaining: 372ms\n",
      "427:\tlearn: 0.0533058\ttotal: 278ms\tremaining: 371ms\n",
      "428:\tlearn: 0.0529966\ttotal: 279ms\tremaining: 371ms\n",
      "429:\tlearn: 0.0526516\ttotal: 279ms\tremaining: 370ms\n",
      "430:\tlearn: 0.0523512\ttotal: 280ms\tremaining: 369ms\n",
      "431:\tlearn: 0.0520238\ttotal: 280ms\tremaining: 368ms\n",
      "432:\tlearn: 0.0517335\ttotal: 281ms\tremaining: 368ms\n",
      "433:\tlearn: 0.0514025\ttotal: 281ms\tremaining: 367ms\n",
      "434:\tlearn: 0.0511217\ttotal: 282ms\tremaining: 366ms\n",
      "435:\tlearn: 0.0508063\ttotal: 282ms\tremaining: 365ms\n",
      "436:\tlearn: 0.0505325\ttotal: 283ms\tremaining: 364ms\n",
      "437:\tlearn: 0.0502654\ttotal: 283ms\tremaining: 363ms\n",
      "438:\tlearn: 0.0499578\ttotal: 284ms\tremaining: 363ms\n",
      "439:\tlearn: 0.0496674\ttotal: 284ms\tremaining: 362ms\n",
      "440:\tlearn: 0.0495633\ttotal: 285ms\tremaining: 361ms\n",
      "441:\tlearn: 0.0493068\ttotal: 285ms\tremaining: 360ms\n",
      "442:\tlearn: 0.0490074\ttotal: 286ms\tremaining: 359ms\n",
      "443:\tlearn: 0.0487269\ttotal: 286ms\tremaining: 359ms\n",
      "444:\tlearn: 0.0486119\ttotal: 287ms\tremaining: 358ms\n",
      "445:\tlearn: 0.0484004\ttotal: 287ms\tremaining: 357ms\n",
      "446:\tlearn: 0.0483016\ttotal: 288ms\tremaining: 356ms\n",
      "447:\tlearn: 0.0482043\ttotal: 289ms\tremaining: 356ms\n",
      "448:\tlearn: 0.0481015\ttotal: 289ms\tremaining: 355ms\n",
      "449:\tlearn: 0.0479621\ttotal: 289ms\tremaining: 354ms\n",
      "450:\tlearn: 0.0476731\ttotal: 290ms\tremaining: 353ms\n",
      "451:\tlearn: 0.0475733\ttotal: 290ms\tremaining: 352ms\n",
      "452:\tlearn: 0.0474382\ttotal: 291ms\tremaining: 351ms\n",
      "453:\tlearn: 0.0471550\ttotal: 291ms\tremaining: 350ms\n",
      "454:\tlearn: 0.0470468\ttotal: 292ms\tremaining: 349ms\n",
      "455:\tlearn: 0.0467572\ttotal: 292ms\tremaining: 348ms\n",
      "456:\tlearn: 0.0466838\ttotal: 293ms\tremaining: 348ms\n",
      "457:\tlearn: 0.0464094\ttotal: 293ms\tremaining: 347ms\n",
      "458:\tlearn: 0.0462123\ttotal: 293ms\tremaining: 346ms\n",
      "459:\tlearn: 0.0459326\ttotal: 294ms\tremaining: 345ms\n",
      "460:\tlearn: 0.0457410\ttotal: 294ms\tremaining: 344ms\n",
      "461:\tlearn: 0.0456523\ttotal: 295ms\tremaining: 344ms\n",
      "462:\tlearn: 0.0455507\ttotal: 296ms\tremaining: 343ms\n",
      "463:\tlearn: 0.0452740\ttotal: 296ms\tremaining: 342ms\n",
      "464:\tlearn: 0.0451878\ttotal: 297ms\tremaining: 341ms\n",
      "465:\tlearn: 0.0449253\ttotal: 297ms\tremaining: 341ms\n",
      "466:\tlearn: 0.0446564\ttotal: 298ms\tremaining: 340ms\n",
      "467:\tlearn: 0.0443868\ttotal: 298ms\tremaining: 339ms\n",
      "468:\tlearn: 0.0441228\ttotal: 299ms\tremaining: 338ms\n",
      "469:\tlearn: 0.0438644\ttotal: 299ms\tremaining: 337ms\n",
      "470:\tlearn: 0.0436115\ttotal: 300ms\tremaining: 337ms\n",
      "471:\tlearn: 0.0433706\ttotal: 300ms\tremaining: 336ms\n",
      "472:\tlearn: 0.0431850\ttotal: 301ms\tremaining: 335ms\n",
      "473:\tlearn: 0.0429514\ttotal: 301ms\tremaining: 335ms\n",
      "474:\tlearn: 0.0427432\ttotal: 302ms\tremaining: 334ms\n",
      "475:\tlearn: 0.0425755\ttotal: 302ms\tremaining: 333ms\n",
      "476:\tlearn: 0.0423375\ttotal: 303ms\tremaining: 332ms\n",
      "477:\tlearn: 0.0421749\ttotal: 303ms\tremaining: 331ms\n",
      "478:\tlearn: 0.0419523\ttotal: 304ms\tremaining: 331ms\n",
      "479:\tlearn: 0.0417347\ttotal: 304ms\tremaining: 330ms\n",
      "480:\tlearn: 0.0416115\ttotal: 305ms\tremaining: 329ms\n",
      "481:\tlearn: 0.0415490\ttotal: 305ms\tremaining: 328ms\n",
      "482:\tlearn: 0.0413926\ttotal: 306ms\tremaining: 327ms\n",
      "483:\tlearn: 0.0413118\ttotal: 306ms\tremaining: 327ms\n",
      "484:\tlearn: 0.0411696\ttotal: 307ms\tremaining: 326ms\n",
      "485:\tlearn: 0.0410899\ttotal: 307ms\tremaining: 325ms\n",
      "486:\tlearn: 0.0409718\ttotal: 308ms\tremaining: 324ms\n",
      "487:\tlearn: 0.0407317\ttotal: 308ms\tremaining: 323ms\n",
      "488:\tlearn: 0.0405805\ttotal: 309ms\tremaining: 323ms\n"
     ]
    },
    {
     "name": "stdout",
     "output_type": "stream",
     "text": [
      "489:\tlearn: 0.0405018\ttotal: 309ms\tremaining: 322ms\n",
      "490:\tlearn: 0.0403543\ttotal: 310ms\tremaining: 321ms\n",
      "491:\tlearn: 0.0402768\ttotal: 310ms\tremaining: 320ms\n",
      "492:\tlearn: 0.0401328\ttotal: 311ms\tremaining: 320ms\n",
      "493:\tlearn: 0.0398882\ttotal: 311ms\tremaining: 319ms\n",
      "494:\tlearn: 0.0398123\ttotal: 312ms\tremaining: 318ms\n",
      "495:\tlearn: 0.0396769\ttotal: 312ms\tremaining: 317ms\n",
      "496:\tlearn: 0.0396020\ttotal: 313ms\tremaining: 316ms\n",
      "497:\tlearn: 0.0394689\ttotal: 313ms\tremaining: 316ms\n",
      "498:\tlearn: 0.0393986\ttotal: 314ms\tremaining: 315ms\n",
      "499:\tlearn: 0.0391817\ttotal: 314ms\tremaining: 314ms\n",
      "500:\tlearn: 0.0391130\ttotal: 315ms\tremaining: 313ms\n",
      "501:\tlearn: 0.0390455\ttotal: 315ms\tremaining: 312ms\n",
      "502:\tlearn: 0.0388112\ttotal: 315ms\tremaining: 312ms\n",
      "503:\tlearn: 0.0386798\ttotal: 316ms\tremaining: 311ms\n",
      "504:\tlearn: 0.0384942\ttotal: 316ms\tremaining: 310ms\n",
      "505:\tlearn: 0.0384140\ttotal: 317ms\tremaining: 309ms\n",
      "506:\tlearn: 0.0381990\ttotal: 317ms\tremaining: 308ms\n",
      "507:\tlearn: 0.0380093\ttotal: 318ms\tremaining: 308ms\n",
      "508:\tlearn: 0.0379330\ttotal: 318ms\tremaining: 307ms\n",
      "509:\tlearn: 0.0377224\ttotal: 319ms\tremaining: 306ms\n",
      "510:\tlearn: 0.0376476\ttotal: 319ms\tremaining: 305ms\n",
      "511:\tlearn: 0.0374470\ttotal: 320ms\tremaining: 305ms\n",
      "512:\tlearn: 0.0372642\ttotal: 320ms\tremaining: 304ms\n",
      "513:\tlearn: 0.0372016\ttotal: 321ms\tremaining: 303ms\n",
      "514:\tlearn: 0.0371400\ttotal: 321ms\tremaining: 303ms\n",
      "515:\tlearn: 0.0369235\ttotal: 322ms\tremaining: 302ms\n",
      "516:\tlearn: 0.0368558\ttotal: 322ms\tremaining: 301ms\n",
      "517:\tlearn: 0.0367956\ttotal: 322ms\tremaining: 300ms\n",
      "518:\tlearn: 0.0367291\ttotal: 323ms\tremaining: 299ms\n",
      "519:\tlearn: 0.0365288\ttotal: 324ms\tremaining: 299ms\n",
      "520:\tlearn: 0.0364107\ttotal: 324ms\tremaining: 298ms\n",
      "521:\tlearn: 0.0362717\ttotal: 325ms\tremaining: 297ms\n",
      "522:\tlearn: 0.0361361\ttotal: 325ms\tremaining: 297ms\n",
      "523:\tlearn: 0.0359408\ttotal: 326ms\tremaining: 296ms\n",
      "524:\tlearn: 0.0358259\ttotal: 326ms\tremaining: 295ms\n",
      "525:\tlearn: 0.0356583\ttotal: 327ms\tremaining: 294ms\n",
      "526:\tlearn: 0.0355601\ttotal: 327ms\tremaining: 294ms\n",
      "527:\tlearn: 0.0353972\ttotal: 328ms\tremaining: 293ms\n",
      "528:\tlearn: 0.0353019\ttotal: 328ms\tremaining: 292ms\n",
      "529:\tlearn: 0.0351921\ttotal: 328ms\tremaining: 291ms\n",
      "530:\tlearn: 0.0350996\ttotal: 329ms\tremaining: 290ms\n",
      "531:\tlearn: 0.0349406\ttotal: 330ms\tremaining: 290ms\n",
      "532:\tlearn: 0.0348508\ttotal: 330ms\tremaining: 289ms\n",
      "533:\tlearn: 0.0346668\ttotal: 330ms\tremaining: 288ms\n",
      "534:\tlearn: 0.0344959\ttotal: 331ms\tremaining: 288ms\n",
      "535:\tlearn: 0.0343939\ttotal: 331ms\tremaining: 287ms\n",
      "536:\tlearn: 0.0343086\ttotal: 332ms\tremaining: 286ms\n",
      "537:\tlearn: 0.0342096\ttotal: 332ms\tremaining: 285ms\n",
      "538:\tlearn: 0.0341273\ttotal: 333ms\tremaining: 285ms\n",
      "539:\tlearn: 0.0339926\ttotal: 333ms\tremaining: 284ms\n",
      "540:\tlearn: 0.0339035\ttotal: 334ms\tremaining: 283ms\n",
      "541:\tlearn: 0.0338546\ttotal: 334ms\tremaining: 282ms\n",
      "542:\tlearn: 0.0338065\ttotal: 335ms\tremaining: 282ms\n",
      "543:\tlearn: 0.0337288\ttotal: 335ms\tremaining: 281ms\n",
      "544:\tlearn: 0.0335373\ttotal: 335ms\tremaining: 280ms\n",
      "545:\tlearn: 0.0334069\ttotal: 336ms\tremaining: 279ms\n",
      "546:\tlearn: 0.0333672\ttotal: 336ms\tremaining: 278ms\n",
      "547:\tlearn: 0.0332672\ttotal: 337ms\tremaining: 278ms\n",
      "548:\tlearn: 0.0331834\ttotal: 337ms\tremaining: 277ms\n",
      "549:\tlearn: 0.0330846\ttotal: 338ms\tremaining: 276ms\n",
      "550:\tlearn: 0.0329726\ttotal: 338ms\tremaining: 276ms\n",
      "551:\tlearn: 0.0328769\ttotal: 339ms\tremaining: 275ms\n",
      "552:\tlearn: 0.0328167\ttotal: 339ms\tremaining: 274ms\n",
      "553:\tlearn: 0.0327439\ttotal: 340ms\tremaining: 273ms\n",
      "554:\tlearn: 0.0326848\ttotal: 340ms\tremaining: 273ms\n",
      "555:\tlearn: 0.0326477\ttotal: 340ms\tremaining: 272ms\n",
      "556:\tlearn: 0.0324657\ttotal: 341ms\tremaining: 271ms\n",
      "557:\tlearn: 0.0323874\ttotal: 341ms\tremaining: 270ms\n",
      "558:\tlearn: 0.0322389\ttotal: 342ms\tremaining: 270ms\n",
      "559:\tlearn: 0.0320664\ttotal: 342ms\tremaining: 269ms\n",
      "560:\tlearn: 0.0319764\ttotal: 343ms\tremaining: 268ms\n",
      "561:\tlearn: 0.0319074\ttotal: 343ms\tremaining: 268ms\n",
      "562:\tlearn: 0.0318384\ttotal: 344ms\tremaining: 267ms\n",
      "563:\tlearn: 0.0317493\ttotal: 344ms\tremaining: 266ms\n",
      "564:\tlearn: 0.0316829\ttotal: 345ms\tremaining: 266ms\n",
      "565:\tlearn: 0.0316158\ttotal: 346ms\tremaining: 265ms\n",
      "566:\tlearn: 0.0314482\ttotal: 346ms\tremaining: 264ms\n",
      "567:\tlearn: 0.0313796\ttotal: 347ms\tremaining: 264ms\n",
      "568:\tlearn: 0.0311948\ttotal: 347ms\tremaining: 263ms\n",
      "569:\tlearn: 0.0311234\ttotal: 348ms\tremaining: 262ms\n",
      "570:\tlearn: 0.0309602\ttotal: 348ms\tremaining: 261ms\n",
      "571:\tlearn: 0.0309268\ttotal: 349ms\tremaining: 261ms\n",
      "572:\tlearn: 0.0307477\ttotal: 349ms\tremaining: 260ms\n",
      "573:\tlearn: 0.0305844\ttotal: 350ms\tremaining: 260ms\n",
      "574:\tlearn: 0.0304029\ttotal: 350ms\tremaining: 259ms\n",
      "575:\tlearn: 0.0302550\ttotal: 351ms\tremaining: 258ms\n",
      "576:\tlearn: 0.0301097\ttotal: 351ms\tremaining: 257ms\n",
      "577:\tlearn: 0.0299422\ttotal: 352ms\tremaining: 257ms\n",
      "578:\tlearn: 0.0298764\ttotal: 352ms\tremaining: 256ms\n",
      "579:\tlearn: 0.0297136\ttotal: 353ms\tremaining: 255ms\n",
      "580:\tlearn: 0.0296494\ttotal: 353ms\tremaining: 255ms\n",
      "581:\tlearn: 0.0295802\ttotal: 354ms\tremaining: 254ms\n",
      "582:\tlearn: 0.0294411\ttotal: 354ms\tremaining: 253ms\n",
      "583:\tlearn: 0.0292942\ttotal: 355ms\tremaining: 253ms\n",
      "584:\tlearn: 0.0291580\ttotal: 355ms\tremaining: 252ms\n",
      "585:\tlearn: 0.0290966\ttotal: 356ms\tremaining: 251ms\n",
      "586:\tlearn: 0.0289535\ttotal: 356ms\tremaining: 251ms\n",
      "587:\tlearn: 0.0288150\ttotal: 357ms\tremaining: 250ms\n",
      "588:\tlearn: 0.0287497\ttotal: 357ms\tremaining: 249ms\n",
      "589:\tlearn: 0.0285751\ttotal: 358ms\tremaining: 249ms\n",
      "590:\tlearn: 0.0284439\ttotal: 358ms\tremaining: 248ms\n",
      "591:\tlearn: 0.0283150\ttotal: 359ms\tremaining: 247ms\n",
      "592:\tlearn: 0.0281781\ttotal: 359ms\tremaining: 247ms\n",
      "593:\tlearn: 0.0280441\ttotal: 360ms\tremaining: 246ms\n",
      "594:\tlearn: 0.0279182\ttotal: 360ms\tremaining: 245ms\n",
      "595:\tlearn: 0.0277660\ttotal: 361ms\tremaining: 244ms\n",
      "596:\tlearn: 0.0276171\ttotal: 361ms\tremaining: 244ms\n",
      "597:\tlearn: 0.0275603\ttotal: 362ms\tremaining: 243ms\n",
      "598:\tlearn: 0.0274150\ttotal: 362ms\tremaining: 243ms\n",
      "599:\tlearn: 0.0272563\ttotal: 363ms\tremaining: 242ms\n",
      "600:\tlearn: 0.0271372\ttotal: 363ms\tremaining: 241ms\n",
      "601:\tlearn: 0.0269952\ttotal: 364ms\tremaining: 241ms\n",
      "602:\tlearn: 0.0268788\ttotal: 364ms\tremaining: 240ms\n",
      "603:\tlearn: 0.0267403\ttotal: 365ms\tremaining: 239ms\n",
      "604:\tlearn: 0.0266268\ttotal: 365ms\tremaining: 239ms\n",
      "605:\tlearn: 0.0264916\ttotal: 366ms\tremaining: 238ms\n",
      "606:\tlearn: 0.0263520\ttotal: 366ms\tremaining: 237ms\n",
      "607:\tlearn: 0.0262494\ttotal: 367ms\tremaining: 237ms\n",
      "608:\tlearn: 0.0261350\ttotal: 368ms\tremaining: 236ms\n",
      "609:\tlearn: 0.0259657\ttotal: 368ms\tremaining: 235ms\n",
      "610:\tlearn: 0.0258006\ttotal: 369ms\tremaining: 235ms\n",
      "611:\tlearn: 0.0256395\ttotal: 369ms\tremaining: 234ms\n",
      "612:\tlearn: 0.0255238\ttotal: 370ms\tremaining: 233ms\n",
      "613:\tlearn: 0.0254099\ttotal: 370ms\tremaining: 233ms\n",
      "614:\tlearn: 0.0253230\ttotal: 371ms\tremaining: 232ms\n",
      "615:\tlearn: 0.0252922\ttotal: 371ms\tremaining: 231ms\n",
      "616:\tlearn: 0.0251522\ttotal: 372ms\tremaining: 231ms\n",
      "617:\tlearn: 0.0250144\ttotal: 372ms\tremaining: 230ms\n",
      "618:\tlearn: 0.0248897\ttotal: 372ms\tremaining: 229ms\n",
      "619:\tlearn: 0.0247635\ttotal: 373ms\tremaining: 229ms\n",
      "620:\tlearn: 0.0246660\ttotal: 373ms\tremaining: 228ms\n",
      "621:\tlearn: 0.0245321\ttotal: 374ms\tremaining: 227ms\n",
      "622:\tlearn: 0.0244019\ttotal: 375ms\tremaining: 227ms\n",
      "623:\tlearn: 0.0242729\ttotal: 375ms\tremaining: 226ms\n",
      "624:\tlearn: 0.0241275\ttotal: 376ms\tremaining: 225ms\n",
      "625:\tlearn: 0.0239982\ttotal: 376ms\tremaining: 225ms\n",
      "626:\tlearn: 0.0238727\ttotal: 377ms\tremaining: 224ms\n",
      "627:\tlearn: 0.0237693\ttotal: 377ms\tremaining: 224ms\n",
      "628:\tlearn: 0.0236656\ttotal: 378ms\tremaining: 223ms\n",
      "629:\tlearn: 0.0235311\ttotal: 378ms\tremaining: 222ms\n",
      "630:\tlearn: 0.0234166\ttotal: 379ms\tremaining: 222ms\n",
      "631:\tlearn: 0.0232962\ttotal: 379ms\tremaining: 221ms\n",
      "632:\tlearn: 0.0231738\ttotal: 380ms\tremaining: 220ms\n",
      "633:\tlearn: 0.0230628\ttotal: 380ms\tremaining: 220ms\n",
      "634:\tlearn: 0.0229432\ttotal: 381ms\tremaining: 219ms\n",
      "635:\tlearn: 0.0228345\ttotal: 381ms\tremaining: 218ms\n",
      "636:\tlearn: 0.0227266\ttotal: 382ms\tremaining: 218ms\n",
      "637:\tlearn: 0.0226121\ttotal: 383ms\tremaining: 217ms\n",
      "638:\tlearn: 0.0225562\ttotal: 383ms\tremaining: 216ms\n",
      "639:\tlearn: 0.0225193\ttotal: 384ms\tremaining: 216ms\n",
      "640:\tlearn: 0.0224831\ttotal: 384ms\tremaining: 215ms\n",
      "641:\tlearn: 0.0223603\ttotal: 385ms\tremaining: 215ms\n",
      "642:\tlearn: 0.0222661\ttotal: 385ms\tremaining: 214ms\n",
      "643:\tlearn: 0.0221557\ttotal: 386ms\tremaining: 213ms\n",
      "644:\tlearn: 0.0220486\ttotal: 386ms\tremaining: 212ms\n",
      "645:\tlearn: 0.0219947\ttotal: 387ms\tremaining: 212ms\n",
      "646:\tlearn: 0.0218803\ttotal: 387ms\tremaining: 211ms\n",
      "647:\tlearn: 0.0217370\ttotal: 388ms\tremaining: 211ms\n",
      "648:\tlearn: 0.0216140\ttotal: 388ms\tremaining: 210ms\n",
      "649:\tlearn: 0.0215028\ttotal: 389ms\tremaining: 209ms\n",
      "650:\tlearn: 0.0213934\ttotal: 389ms\tremaining: 209ms\n",
      "651:\tlearn: 0.0212908\ttotal: 390ms\tremaining: 208ms\n",
      "652:\tlearn: 0.0211548\ttotal: 390ms\tremaining: 207ms\n",
      "653:\tlearn: 0.0210376\ttotal: 390ms\tremaining: 207ms\n",
      "654:\tlearn: 0.0209140\ttotal: 391ms\tremaining: 206ms\n",
      "655:\tlearn: 0.0208090\ttotal: 392ms\tremaining: 205ms\n",
      "656:\tlearn: 0.0206892\ttotal: 392ms\tremaining: 205ms\n",
      "657:\tlearn: 0.0205911\ttotal: 393ms\tremaining: 204ms\n",
      "658:\tlearn: 0.0205167\ttotal: 393ms\tremaining: 203ms\n",
      "659:\tlearn: 0.0204192\ttotal: 394ms\tremaining: 203ms\n",
      "660:\tlearn: 0.0203238\ttotal: 394ms\tremaining: 202ms\n",
      "661:\tlearn: 0.0202132\ttotal: 395ms\tremaining: 201ms\n",
      "662:\tlearn: 0.0201718\ttotal: 395ms\tremaining: 201ms\n",
      "663:\tlearn: 0.0201531\ttotal: 396ms\tremaining: 200ms\n",
      "664:\tlearn: 0.0200606\ttotal: 396ms\tremaining: 200ms\n",
      "665:\tlearn: 0.0200491\ttotal: 397ms\tremaining: 199ms\n",
      "666:\tlearn: 0.0199586\ttotal: 397ms\tremaining: 198ms\n",
      "667:\tlearn: 0.0198759\ttotal: 398ms\tremaining: 198ms\n",
      "668:\tlearn: 0.0197695\ttotal: 398ms\tremaining: 197ms\n",
      "669:\tlearn: 0.0197518\ttotal: 399ms\tremaining: 196ms\n",
      "670:\tlearn: 0.0197343\ttotal: 399ms\tremaining: 196ms\n",
      "671:\tlearn: 0.0197170\ttotal: 400ms\tremaining: 195ms\n",
      "672:\tlearn: 0.0196367\ttotal: 400ms\tremaining: 194ms\n",
      "673:\tlearn: 0.0195332\ttotal: 401ms\tremaining: 194ms\n",
      "674:\tlearn: 0.0195030\ttotal: 401ms\tremaining: 193ms\n",
      "675:\tlearn: 0.0194734\ttotal: 402ms\tremaining: 193ms\n",
      "676:\tlearn: 0.0194445\ttotal: 402ms\tremaining: 192ms\n",
      "677:\tlearn: 0.0193578\ttotal: 403ms\tremaining: 191ms\n",
      "678:\tlearn: 0.0193412\ttotal: 403ms\tremaining: 191ms\n",
      "679:\tlearn: 0.0193242\ttotal: 404ms\tremaining: 190ms\n",
      "680:\tlearn: 0.0193079\ttotal: 404ms\tremaining: 189ms\n",
      "681:\tlearn: 0.0192053\ttotal: 405ms\tremaining: 189ms\n",
      "682:\tlearn: 0.0191204\ttotal: 405ms\tremaining: 188ms\n",
      "683:\tlearn: 0.0190358\ttotal: 406ms\tremaining: 188ms\n",
      "684:\tlearn: 0.0190199\ttotal: 407ms\tremaining: 187ms\n",
      "685:\tlearn: 0.0189375\ttotal: 407ms\tremaining: 186ms\n",
      "686:\tlearn: 0.0189029\ttotal: 408ms\tremaining: 186ms\n",
      "687:\tlearn: 0.0187560\ttotal: 408ms\tremaining: 185ms\n",
      "688:\tlearn: 0.0186604\ttotal: 409ms\tremaining: 184ms\n",
      "689:\tlearn: 0.0186332\ttotal: 409ms\tremaining: 184ms\n",
      "690:\tlearn: 0.0186170\ttotal: 410ms\tremaining: 183ms\n",
      "691:\tlearn: 0.0185246\ttotal: 410ms\tremaining: 183ms\n",
      "692:\tlearn: 0.0183825\ttotal: 411ms\tremaining: 182ms\n",
      "693:\tlearn: 0.0183037\ttotal: 411ms\tremaining: 181ms\n",
      "694:\tlearn: 0.0182139\ttotal: 412ms\tremaining: 181ms\n",
      "695:\tlearn: 0.0181370\ttotal: 412ms\tremaining: 180ms\n",
      "696:\tlearn: 0.0179992\ttotal: 413ms\tremaining: 179ms\n",
      "697:\tlearn: 0.0178639\ttotal: 413ms\tremaining: 179ms\n",
      "698:\tlearn: 0.0177824\ttotal: 414ms\tremaining: 178ms\n",
      "699:\tlearn: 0.0177079\ttotal: 414ms\tremaining: 178ms\n",
      "700:\tlearn: 0.0176958\ttotal: 415ms\tremaining: 177ms\n",
      "701:\tlearn: 0.0176157\ttotal: 415ms\tremaining: 176ms\n"
     ]
    },
    {
     "name": "stdout",
     "output_type": "stream",
     "text": [
      "702:\tlearn: 0.0176037\ttotal: 416ms\tremaining: 176ms\n",
      "703:\tlearn: 0.0175310\ttotal: 417ms\tremaining: 175ms\n",
      "704:\tlearn: 0.0174598\ttotal: 417ms\tremaining: 175ms\n",
      "705:\tlearn: 0.0174479\ttotal: 418ms\tremaining: 174ms\n",
      "706:\tlearn: 0.0174002\ttotal: 418ms\tremaining: 173ms\n",
      "707:\tlearn: 0.0173306\ttotal: 419ms\tremaining: 173ms\n",
      "708:\tlearn: 0.0173190\ttotal: 419ms\tremaining: 172ms\n",
      "709:\tlearn: 0.0172725\ttotal: 420ms\tremaining: 171ms\n",
      "710:\tlearn: 0.0172046\ttotal: 420ms\tremaining: 171ms\n",
      "711:\tlearn: 0.0171745\ttotal: 421ms\tremaining: 170ms\n",
      "712:\tlearn: 0.0170461\ttotal: 421ms\tremaining: 170ms\n",
      "713:\tlearn: 0.0170014\ttotal: 422ms\tremaining: 169ms\n",
      "714:\tlearn: 0.0169724\ttotal: 422ms\tremaining: 168ms\n",
      "715:\tlearn: 0.0169065\ttotal: 423ms\tremaining: 168ms\n",
      "716:\tlearn: 0.0168138\ttotal: 423ms\tremaining: 167ms\n",
      "717:\tlearn: 0.0167363\ttotal: 424ms\tremaining: 166ms\n",
      "718:\tlearn: 0.0167084\ttotal: 424ms\tremaining: 166ms\n",
      "719:\tlearn: 0.0166178\ttotal: 425ms\tremaining: 165ms\n",
      "720:\tlearn: 0.0165391\ttotal: 425ms\tremaining: 164ms\n",
      "721:\tlearn: 0.0164740\ttotal: 425ms\tremaining: 164ms\n",
      "722:\tlearn: 0.0163996\ttotal: 426ms\tremaining: 163ms\n",
      "723:\tlearn: 0.0163366\ttotal: 426ms\tremaining: 163ms\n",
      "724:\tlearn: 0.0163101\ttotal: 427ms\tremaining: 162ms\n",
      "725:\tlearn: 0.0162231\ttotal: 427ms\tremaining: 161ms\n",
      "726:\tlearn: 0.0161606\ttotal: 428ms\tremaining: 161ms\n",
      "727:\tlearn: 0.0161209\ttotal: 428ms\tremaining: 160ms\n",
      "728:\tlearn: 0.0160992\ttotal: 429ms\tremaining: 159ms\n",
      "729:\tlearn: 0.0160280\ttotal: 429ms\tremaining: 159ms\n",
      "730:\tlearn: 0.0160067\ttotal: 430ms\tremaining: 158ms\n",
      "731:\tlearn: 0.0159906\ttotal: 430ms\tremaining: 157ms\n",
      "732:\tlearn: 0.0159063\ttotal: 431ms\tremaining: 157ms\n",
      "733:\tlearn: 0.0158460\ttotal: 431ms\tremaining: 156ms\n",
      "734:\tlearn: 0.0157724\ttotal: 432ms\tremaining: 156ms\n",
      "735:\tlearn: 0.0157137\ttotal: 432ms\tremaining: 155ms\n",
      "736:\tlearn: 0.0156687\ttotal: 432ms\tremaining: 154ms\n",
      "737:\tlearn: 0.0156007\ttotal: 433ms\tremaining: 154ms\n",
      "738:\tlearn: 0.0155286\ttotal: 433ms\tremaining: 153ms\n",
      "739:\tlearn: 0.0154624\ttotal: 434ms\tremaining: 152ms\n",
      "740:\tlearn: 0.0153959\ttotal: 434ms\tremaining: 152ms\n",
      "741:\tlearn: 0.0153388\ttotal: 435ms\tremaining: 151ms\n",
      "742:\tlearn: 0.0152741\ttotal: 435ms\tremaining: 151ms\n",
      "743:\tlearn: 0.0152340\ttotal: 436ms\tremaining: 150ms\n",
      "744:\tlearn: 0.0151738\ttotal: 436ms\tremaining: 149ms\n",
      "745:\tlearn: 0.0151419\ttotal: 437ms\tremaining: 149ms\n",
      "746:\tlearn: 0.0151004\ttotal: 437ms\tremaining: 148ms\n",
      "747:\tlearn: 0.0150313\ttotal: 437ms\tremaining: 147ms\n",
      "748:\tlearn: 0.0150133\ttotal: 438ms\tremaining: 147ms\n",
      "749:\tlearn: 0.0149507\ttotal: 438ms\tremaining: 146ms\n",
      "750:\tlearn: 0.0149124\ttotal: 439ms\tremaining: 146ms\n",
      "751:\tlearn: 0.0148576\ttotal: 439ms\tremaining: 145ms\n",
      "752:\tlearn: 0.0148276\ttotal: 440ms\tremaining: 144ms\n",
      "753:\tlearn: 0.0148103\ttotal: 440ms\tremaining: 144ms\n",
      "754:\tlearn: 0.0147810\ttotal: 441ms\tremaining: 143ms\n",
      "755:\tlearn: 0.0147452\ttotal: 441ms\tremaining: 142ms\n",
      "756:\tlearn: 0.0146827\ttotal: 442ms\tremaining: 142ms\n",
      "757:\tlearn: 0.0146643\ttotal: 442ms\tremaining: 141ms\n",
      "758:\tlearn: 0.0146310\ttotal: 443ms\tremaining: 141ms\n",
      "759:\tlearn: 0.0146140\ttotal: 443ms\tremaining: 140ms\n",
      "760:\tlearn: 0.0145792\ttotal: 443ms\tremaining: 139ms\n",
      "761:\tlearn: 0.0145133\ttotal: 444ms\tremaining: 139ms\n",
      "762:\tlearn: 0.0144966\ttotal: 444ms\tremaining: 138ms\n",
      "763:\tlearn: 0.0144376\ttotal: 445ms\tremaining: 137ms\n",
      "764:\tlearn: 0.0144213\ttotal: 445ms\tremaining: 137ms\n",
      "765:\tlearn: 0.0143888\ttotal: 446ms\tremaining: 136ms\n",
      "766:\tlearn: 0.0143691\ttotal: 446ms\tremaining: 136ms\n",
      "767:\tlearn: 0.0143354\ttotal: 447ms\tremaining: 135ms\n",
      "768:\tlearn: 0.0143224\ttotal: 447ms\tremaining: 134ms\n",
      "769:\tlearn: 0.0143032\ttotal: 448ms\tremaining: 134ms\n",
      "770:\tlearn: 0.0142396\ttotal: 448ms\tremaining: 133ms\n",
      "771:\tlearn: 0.0142269\ttotal: 449ms\tremaining: 133ms\n",
      "772:\tlearn: 0.0141939\ttotal: 449ms\tremaining: 132ms\n",
      "773:\tlearn: 0.0141752\ttotal: 450ms\tremaining: 131ms\n",
      "774:\tlearn: 0.0141185\ttotal: 450ms\tremaining: 131ms\n",
      "775:\tlearn: 0.0141088\ttotal: 451ms\tremaining: 130ms\n",
      "776:\tlearn: 0.0140772\ttotal: 451ms\tremaining: 130ms\n",
      "777:\tlearn: 0.0140649\ttotal: 452ms\tremaining: 129ms\n",
      "778:\tlearn: 0.0140482\ttotal: 452ms\tremaining: 128ms\n",
      "779:\tlearn: 0.0140161\ttotal: 453ms\tremaining: 128ms\n",
      "780:\tlearn: 0.0139608\ttotal: 453ms\tremaining: 127ms\n",
      "781:\tlearn: 0.0139512\ttotal: 454ms\tremaining: 126ms\n",
      "782:\tlearn: 0.0139417\ttotal: 454ms\tremaining: 126ms\n",
      "783:\tlearn: 0.0139077\ttotal: 455ms\tremaining: 125ms\n",
      "784:\tlearn: 0.0138763\ttotal: 455ms\tremaining: 125ms\n",
      "785:\tlearn: 0.0138381\ttotal: 455ms\tremaining: 124ms\n",
      "786:\tlearn: 0.0138205\ttotal: 456ms\tremaining: 123ms\n",
      "787:\tlearn: 0.0137665\ttotal: 457ms\tremaining: 123ms\n",
      "788:\tlearn: 0.0137566\ttotal: 457ms\tremaining: 122ms\n",
      "789:\tlearn: 0.0137475\ttotal: 457ms\tremaining: 122ms\n",
      "790:\tlearn: 0.0137142\ttotal: 458ms\tremaining: 121ms\n",
      "791:\tlearn: 0.0136668\ttotal: 458ms\tremaining: 120ms\n",
      "792:\tlearn: 0.0136368\ttotal: 459ms\tremaining: 120ms\n",
      "793:\tlearn: 0.0136196\ttotal: 460ms\tremaining: 119ms\n",
      "794:\tlearn: 0.0135649\ttotal: 460ms\tremaining: 119ms\n",
      "795:\tlearn: 0.0135540\ttotal: 461ms\tremaining: 118ms\n",
      "796:\tlearn: 0.0135426\ttotal: 461ms\tremaining: 117ms\n",
      "797:\tlearn: 0.0134850\ttotal: 462ms\tremaining: 117ms\n",
      "798:\tlearn: 0.0134616\ttotal: 462ms\tremaining: 116ms\n",
      "799:\tlearn: 0.0134087\ttotal: 463ms\tremaining: 116ms\n",
      "800:\tlearn: 0.0133569\ttotal: 463ms\tremaining: 115ms\n",
      "801:\tlearn: 0.0133482\ttotal: 464ms\tremaining: 115ms\n",
      "802:\tlearn: 0.0133389\ttotal: 464ms\tremaining: 114ms\n",
      "803:\tlearn: 0.0132694\ttotal: 465ms\tremaining: 113ms\n",
      "804:\tlearn: 0.0132188\ttotal: 465ms\tremaining: 113ms\n",
      "805:\tlearn: 0.0132105\ttotal: 466ms\tremaining: 112ms\n",
      "806:\tlearn: 0.0131426\ttotal: 466ms\tremaining: 112ms\n",
      "807:\tlearn: 0.0130858\ttotal: 467ms\tremaining: 111ms\n",
      "808:\tlearn: 0.0130167\ttotal: 467ms\tremaining: 110ms\n",
      "809:\tlearn: 0.0129511\ttotal: 468ms\tremaining: 110ms\n",
      "810:\tlearn: 0.0128972\ttotal: 468ms\tremaining: 109ms\n",
      "811:\tlearn: 0.0128448\ttotal: 469ms\tremaining: 108ms\n",
      "812:\tlearn: 0.0127920\ttotal: 469ms\tremaining: 108ms\n",
      "813:\tlearn: 0.0127407\ttotal: 470ms\tremaining: 107ms\n",
      "814:\tlearn: 0.0127134\ttotal: 470ms\tremaining: 107ms\n",
      "815:\tlearn: 0.0126502\ttotal: 471ms\tremaining: 106ms\n",
      "816:\tlearn: 0.0125817\ttotal: 471ms\tremaining: 106ms\n",
      "817:\tlearn: 0.0125319\ttotal: 471ms\tremaining: 105ms\n",
      "818:\tlearn: 0.0124831\ttotal: 472ms\tremaining: 104ms\n",
      "819:\tlearn: 0.0124320\ttotal: 472ms\tremaining: 104ms\n",
      "820:\tlearn: 0.0123627\ttotal: 473ms\tremaining: 103ms\n",
      "821:\tlearn: 0.0123167\ttotal: 473ms\tremaining: 103ms\n",
      "822:\tlearn: 0.0123080\ttotal: 474ms\tremaining: 102ms\n",
      "823:\tlearn: 0.0122662\ttotal: 474ms\tremaining: 101ms\n",
      "824:\tlearn: 0.0121969\ttotal: 475ms\tremaining: 101ms\n",
      "825:\tlearn: 0.0121484\ttotal: 475ms\tremaining: 100ms\n",
      "826:\tlearn: 0.0120803\ttotal: 476ms\tremaining: 99.5ms\n",
      "827:\tlearn: 0.0120593\ttotal: 476ms\tremaining: 98.9ms\n",
      "828:\tlearn: 0.0120152\ttotal: 477ms\tremaining: 98.3ms\n",
      "829:\tlearn: 0.0119684\ttotal: 477ms\tremaining: 97.7ms\n",
      "830:\tlearn: 0.0119165\ttotal: 478ms\tremaining: 97.1ms\n",
      "831:\tlearn: 0.0119089\ttotal: 478ms\tremaining: 96.6ms\n",
      "832:\tlearn: 0.0118695\ttotal: 479ms\tremaining: 96ms\n",
      "833:\tlearn: 0.0118035\ttotal: 479ms\tremaining: 95.4ms\n",
      "834:\tlearn: 0.0117831\ttotal: 480ms\tremaining: 94.9ms\n",
      "835:\tlearn: 0.0117406\ttotal: 481ms\tremaining: 94.3ms\n",
      "836:\tlearn: 0.0116759\ttotal: 481ms\tremaining: 93.7ms\n",
      "837:\tlearn: 0.0116686\ttotal: 482ms\tremaining: 93.1ms\n",
      "838:\tlearn: 0.0116428\ttotal: 482ms\tremaining: 92.5ms\n",
      "839:\tlearn: 0.0116161\ttotal: 482ms\tremaining: 91.9ms\n",
      "840:\tlearn: 0.0115709\ttotal: 483ms\tremaining: 91.3ms\n",
      "841:\tlearn: 0.0115096\ttotal: 484ms\tremaining: 90.7ms\n",
      "842:\tlearn: 0.0115017\ttotal: 484ms\tremaining: 90.1ms\n",
      "843:\tlearn: 0.0114576\ttotal: 485ms\tremaining: 89.6ms\n",
      "844:\tlearn: 0.0114504\ttotal: 485ms\tremaining: 89ms\n",
      "845:\tlearn: 0.0114071\ttotal: 486ms\tremaining: 88.4ms\n",
      "846:\tlearn: 0.0113811\ttotal: 486ms\tremaining: 87.8ms\n",
      "847:\tlearn: 0.0113271\ttotal: 487ms\tremaining: 87.2ms\n",
      "848:\tlearn: 0.0112789\ttotal: 487ms\tremaining: 86.6ms\n",
      "849:\tlearn: 0.0112718\ttotal: 487ms\tremaining: 86ms\n",
      "850:\tlearn: 0.0112228\ttotal: 488ms\tremaining: 85.4ms\n",
      "851:\tlearn: 0.0111644\ttotal: 488ms\tremaining: 84.8ms\n",
      "852:\tlearn: 0.0111574\ttotal: 489ms\tremaining: 84.3ms\n",
      "853:\tlearn: 0.0111506\ttotal: 490ms\tremaining: 83.7ms\n",
      "854:\tlearn: 0.0111031\ttotal: 490ms\tremaining: 83.1ms\n",
      "855:\tlearn: 0.0110840\ttotal: 490ms\tremaining: 82.5ms\n",
      "856:\tlearn: 0.0110652\ttotal: 491ms\tremaining: 81.9ms\n",
      "857:\tlearn: 0.0110407\ttotal: 491ms\tremaining: 81.3ms\n",
      "858:\tlearn: 0.0109947\ttotal: 492ms\tremaining: 80.7ms\n",
      "859:\tlearn: 0.0109821\ttotal: 492ms\tremaining: 80.1ms\n"
     ]
    },
    {
     "name": "stdout",
     "output_type": "stream",
     "text": [
      "860:\tlearn: 0.0109316\ttotal: 493ms\tremaining: 79.6ms\n",
      "861:\tlearn: 0.0108802\ttotal: 494ms\tremaining: 79ms\n",
      "862:\tlearn: 0.0108420\ttotal: 494ms\tremaining: 78.4ms\n",
      "863:\tlearn: 0.0107984\ttotal: 495ms\tremaining: 77.8ms\n",
      "864:\tlearn: 0.0107746\ttotal: 495ms\tremaining: 77.3ms\n",
      "865:\tlearn: 0.0107249\ttotal: 495ms\tremaining: 76.7ms\n",
      "866:\tlearn: 0.0106836\ttotal: 496ms\tremaining: 76.1ms\n",
      "867:\tlearn: 0.0106465\ttotal: 496ms\tremaining: 75.5ms\n",
      "868:\tlearn: 0.0106045\ttotal: 497ms\tremaining: 74.9ms\n",
      "869:\tlearn: 0.0105631\ttotal: 497ms\tremaining: 74.3ms\n",
      "870:\tlearn: 0.0105273\ttotal: 498ms\tremaining: 73.7ms\n",
      "871:\tlearn: 0.0104795\ttotal: 498ms\tremaining: 73.1ms\n",
      "872:\tlearn: 0.0104299\ttotal: 499ms\tremaining: 72.5ms\n",
      "873:\tlearn: 0.0104030\ttotal: 499ms\tremaining: 71.9ms\n",
      "874:\tlearn: 0.0103379\ttotal: 500ms\tremaining: 71.4ms\n",
      "875:\tlearn: 0.0102981\ttotal: 500ms\tremaining: 70.8ms\n",
      "876:\tlearn: 0.0102497\ttotal: 501ms\tremaining: 70.2ms\n",
      "877:\tlearn: 0.0102174\ttotal: 501ms\tremaining: 69.6ms\n",
      "878:\tlearn: 0.0101686\ttotal: 501ms\tremaining: 69ms\n",
      "879:\tlearn: 0.0101065\ttotal: 502ms\tremaining: 68.4ms\n",
      "880:\tlearn: 0.0100624\ttotal: 502ms\tremaining: 67.9ms\n",
      "881:\tlearn: 0.0100154\ttotal: 503ms\tremaining: 67.3ms\n",
      "882:\tlearn: 0.0099692\ttotal: 503ms\tremaining: 66.7ms\n",
      "883:\tlearn: 0.0099283\ttotal: 504ms\tremaining: 66.1ms\n",
      "884:\tlearn: 0.0098884\ttotal: 504ms\tremaining: 65.5ms\n",
      "885:\tlearn: 0.0098437\ttotal: 505ms\tremaining: 64.9ms\n",
      "886:\tlearn: 0.0098149\ttotal: 505ms\tremaining: 64.3ms\n",
      "887:\tlearn: 0.0097775\ttotal: 505ms\tremaining: 63.8ms\n",
      "888:\tlearn: 0.0097566\ttotal: 506ms\tremaining: 63.2ms\n",
      "889:\tlearn: 0.0097179\ttotal: 506ms\tremaining: 62.6ms\n",
      "890:\tlearn: 0.0096906\ttotal: 507ms\tremaining: 62ms\n",
      "891:\tlearn: 0.0096550\ttotal: 507ms\tremaining: 61.4ms\n",
      "892:\tlearn: 0.0096135\ttotal: 508ms\tremaining: 60.8ms\n",
      "893:\tlearn: 0.0095731\ttotal: 508ms\tremaining: 60.3ms\n",
      "894:\tlearn: 0.0095351\ttotal: 509ms\tremaining: 59.7ms\n",
      "895:\tlearn: 0.0095180\ttotal: 509ms\tremaining: 59.1ms\n",
      "896:\tlearn: 0.0094755\ttotal: 509ms\tremaining: 58.5ms\n",
      "897:\tlearn: 0.0094578\ttotal: 510ms\tremaining: 57.9ms\n",
      "898:\tlearn: 0.0094218\ttotal: 510ms\tremaining: 57.3ms\n",
      "899:\tlearn: 0.0093982\ttotal: 511ms\tremaining: 56.7ms\n",
      "900:\tlearn: 0.0093620\ttotal: 511ms\tremaining: 56.2ms\n",
      "901:\tlearn: 0.0093452\ttotal: 512ms\tremaining: 55.6ms\n",
      "902:\tlearn: 0.0093056\ttotal: 512ms\tremaining: 55ms\n",
      "903:\tlearn: 0.0092892\ttotal: 513ms\tremaining: 54.5ms\n",
      "904:\tlearn: 0.0092469\ttotal: 513ms\tremaining: 53.9ms\n",
      "905:\tlearn: 0.0092170\ttotal: 514ms\tremaining: 53.3ms\n",
      "906:\tlearn: 0.0091951\ttotal: 515ms\tremaining: 52.8ms\n",
      "907:\tlearn: 0.0091599\ttotal: 515ms\tremaining: 52.2ms\n",
      "908:\tlearn: 0.0091224\ttotal: 516ms\tremaining: 51.6ms\n",
      "909:\tlearn: 0.0091069\ttotal: 516ms\tremaining: 51.1ms\n",
      "910:\tlearn: 0.0090659\ttotal: 517ms\tremaining: 50.5ms\n",
      "911:\tlearn: 0.0090358\ttotal: 517ms\tremaining: 49.9ms\n",
      "912:\tlearn: 0.0090077\ttotal: 518ms\tremaining: 49.3ms\n",
      "913:\tlearn: 0.0089851\ttotal: 518ms\tremaining: 48.8ms\n",
      "914:\tlearn: 0.0089648\ttotal: 519ms\tremaining: 48.2ms\n",
      "915:\tlearn: 0.0089360\ttotal: 519ms\tremaining: 47.6ms\n",
      "916:\tlearn: 0.0089200\ttotal: 519ms\tremaining: 47ms\n",
      "917:\tlearn: 0.0088985\ttotal: 520ms\tremaining: 46.4ms\n",
      "918:\tlearn: 0.0088530\ttotal: 521ms\tremaining: 45.9ms\n",
      "919:\tlearn: 0.0088337\ttotal: 521ms\tremaining: 45.3ms\n",
      "920:\tlearn: 0.0088078\ttotal: 522ms\tremaining: 44.7ms\n",
      "921:\tlearn: 0.0087923\ttotal: 522ms\tremaining: 44.2ms\n",
      "922:\tlearn: 0.0087481\ttotal: 523ms\tremaining: 43.6ms\n",
      "923:\tlearn: 0.0087327\ttotal: 523ms\tremaining: 43ms\n",
      "924:\tlearn: 0.0087076\ttotal: 524ms\tremaining: 42.5ms\n",
      "925:\tlearn: 0.0086924\ttotal: 524ms\tremaining: 41.9ms\n",
      "926:\tlearn: 0.0086679\ttotal: 525ms\tremaining: 41.3ms\n",
      "927:\tlearn: 0.0086529\ttotal: 525ms\tremaining: 40.7ms\n",
      "928:\tlearn: 0.0086345\ttotal: 526ms\tremaining: 40.2ms\n",
      "929:\tlearn: 0.0085919\ttotal: 526ms\tremaining: 39.6ms\n",
      "930:\tlearn: 0.0085632\ttotal: 527ms\tremaining: 39ms\n",
      "931:\tlearn: 0.0085290\ttotal: 527ms\tremaining: 38.5ms\n",
      "932:\tlearn: 0.0085051\ttotal: 528ms\tremaining: 37.9ms\n",
      "933:\tlearn: 0.0084558\ttotal: 528ms\tremaining: 37.3ms\n",
      "934:\tlearn: 0.0084145\ttotal: 528ms\tremaining: 36.7ms\n",
      "935:\tlearn: 0.0083913\ttotal: 529ms\tremaining: 36.2ms\n",
      "936:\tlearn: 0.0083768\ttotal: 529ms\tremaining: 35.6ms\n",
      "937:\tlearn: 0.0083285\ttotal: 530ms\tremaining: 35ms\n",
      "938:\tlearn: 0.0083012\ttotal: 530ms\tremaining: 34.5ms\n",
      "939:\tlearn: 0.0082660\ttotal: 531ms\tremaining: 33.9ms\n",
      "940:\tlearn: 0.0082261\ttotal: 531ms\tremaining: 33.3ms\n",
      "941:\tlearn: 0.0081997\ttotal: 532ms\tremaining: 32.8ms\n",
      "942:\tlearn: 0.0081741\ttotal: 533ms\tremaining: 32.2ms\n",
      "943:\tlearn: 0.0081599\ttotal: 533ms\tremaining: 31.6ms\n",
      "944:\tlearn: 0.0081213\ttotal: 533ms\tremaining: 31ms\n",
      "945:\tlearn: 0.0081069\ttotal: 534ms\tremaining: 30.5ms\n",
      "946:\tlearn: 0.0080929\ttotal: 535ms\tremaining: 29.9ms\n",
      "947:\tlearn: 0.0080684\ttotal: 535ms\tremaining: 29.3ms\n",
      "948:\tlearn: 0.0080346\ttotal: 535ms\tremaining: 28.8ms\n",
      "949:\tlearn: 0.0079971\ttotal: 536ms\tremaining: 28.2ms\n",
      "950:\tlearn: 0.0079832\ttotal: 536ms\tremaining: 27.6ms\n",
      "951:\tlearn: 0.0079695\ttotal: 537ms\tremaining: 27.1ms\n",
      "952:\tlearn: 0.0079237\ttotal: 537ms\tremaining: 26.5ms\n",
      "953:\tlearn: 0.0078876\ttotal: 538ms\tremaining: 25.9ms\n",
      "954:\tlearn: 0.0078538\ttotal: 538ms\tremaining: 25.4ms\n",
      "955:\tlearn: 0.0078403\ttotal: 538ms\tremaining: 24.8ms\n",
      "956:\tlearn: 0.0078052\ttotal: 539ms\tremaining: 24.2ms\n",
      "957:\tlearn: 0.0077919\ttotal: 540ms\tremaining: 23.7ms\n",
      "958:\tlearn: 0.0077590\ttotal: 540ms\tremaining: 23.1ms\n",
      "959:\tlearn: 0.0077459\ttotal: 540ms\tremaining: 22.5ms\n",
      "960:\tlearn: 0.0077119\ttotal: 541ms\tremaining: 22ms\n",
      "961:\tlearn: 0.0076990\ttotal: 542ms\tremaining: 21.4ms\n",
      "962:\tlearn: 0.0076658\ttotal: 542ms\tremaining: 20.8ms\n",
      "963:\tlearn: 0.0076530\ttotal: 543ms\tremaining: 20.3ms\n",
      "964:\tlearn: 0.0076404\ttotal: 543ms\tremaining: 19.7ms\n",
      "965:\tlearn: 0.0076178\ttotal: 544ms\tremaining: 19.1ms\n",
      "966:\tlearn: 0.0075958\ttotal: 544ms\tremaining: 18.6ms\n",
      "967:\tlearn: 0.0075519\ttotal: 544ms\tremaining: 18ms\n",
      "968:\tlearn: 0.0075139\ttotal: 545ms\tremaining: 17.4ms\n",
      "969:\tlearn: 0.0075016\ttotal: 546ms\tremaining: 16.9ms\n",
      "970:\tlearn: 0.0074587\ttotal: 546ms\tremaining: 16.3ms\n",
      "971:\tlearn: 0.0074268\ttotal: 546ms\tremaining: 15.7ms\n",
      "972:\tlearn: 0.0073898\ttotal: 547ms\tremaining: 15.2ms\n",
      "973:\tlearn: 0.0073698\ttotal: 547ms\tremaining: 14.6ms\n",
      "974:\tlearn: 0.0073484\ttotal: 548ms\tremaining: 14ms\n",
      "975:\tlearn: 0.0073273\ttotal: 548ms\tremaining: 13.5ms\n",
      "976:\tlearn: 0.0073154\ttotal: 549ms\tremaining: 12.9ms\n",
      "977:\tlearn: 0.0072738\ttotal: 549ms\tremaining: 12.3ms\n",
      "978:\tlearn: 0.0072528\ttotal: 549ms\tremaining: 11.8ms\n",
      "979:\tlearn: 0.0072315\ttotal: 550ms\tremaining: 11.2ms\n",
      "980:\tlearn: 0.0072008\ttotal: 550ms\tremaining: 10.7ms\n",
      "981:\tlearn: 0.0071857\ttotal: 551ms\tremaining: 10.1ms\n",
      "982:\tlearn: 0.0071653\ttotal: 551ms\tremaining: 9.53ms\n",
      "983:\tlearn: 0.0071305\ttotal: 551ms\tremaining: 8.97ms\n",
      "984:\tlearn: 0.0071142\ttotal: 552ms\tremaining: 8.4ms\n",
      "985:\tlearn: 0.0070944\ttotal: 552ms\tremaining: 7.84ms\n",
      "986:\tlearn: 0.0070784\ttotal: 553ms\tremaining: 7.28ms\n",
      "987:\tlearn: 0.0070590\ttotal: 553ms\tremaining: 6.72ms\n",
      "988:\tlearn: 0.0070434\ttotal: 554ms\tremaining: 6.16ms\n",
      "989:\tlearn: 0.0070243\ttotal: 554ms\tremaining: 5.6ms\n",
      "990:\tlearn: 0.0070055\ttotal: 555ms\tremaining: 5.04ms\n",
      "991:\tlearn: 0.0069904\ttotal: 555ms\tremaining: 4.48ms\n",
      "992:\tlearn: 0.0069719\ttotal: 556ms\tremaining: 3.92ms\n",
      "993:\tlearn: 0.0069586\ttotal: 556ms\tremaining: 3.36ms\n",
      "994:\tlearn: 0.0069380\ttotal: 557ms\tremaining: 2.8ms\n",
      "995:\tlearn: 0.0069228\ttotal: 557ms\tremaining: 2.24ms\n",
      "996:\tlearn: 0.0068810\ttotal: 558ms\tremaining: 1.68ms\n",
      "997:\tlearn: 0.0068609\ttotal: 558ms\tremaining: 1.12ms\n",
      "998:\tlearn: 0.0068129\ttotal: 559ms\tremaining: 559us\n",
      "999:\tlearn: 0.0067924\ttotal: 559ms\tremaining: 0us\n"
     ]
    },
    {
     "data": {
      "text/plain": [
       "<catboost.core.CatBoostRegressor at 0x7fcfc01b86d0>"
      ]
     },
     "execution_count": 9,
     "metadata": {},
     "output_type": "execute_result"
    }
   ],
   "source": [
    "#Train the Model \n",
    "prior_model = ctb.CatBoostRegressor()\n",
    "prior_model.fit(X_train,Y_train)"
   ]
  },
  {
   "cell_type": "code",
   "execution_count": 10,
   "id": "af65dcda",
   "metadata": {
    "execution": {
     "iopub.execute_input": "2022-06-07T06:50:50.075475Z",
     "iopub.status.busy": "2022-06-07T06:50:50.075106Z",
     "iopub.status.idle": "2022-06-07T06:50:50.082396Z",
     "shell.execute_reply": "2022-06-07T06:50:50.082694Z"
    },
    "id": "af65dcda",
    "papermill": {
     "duration": 0.019779,
     "end_time": "2022-06-07T06:50:50.082812",
     "exception": false,
     "start_time": "2022-06-07T06:50:50.063033",
     "status": "completed"
    },
    "tags": []
   },
   "outputs": [
    {
     "data": {
      "application/scrapbook.scrap.json+json": {
       "data": 0.18793063181075662,
       "encoder": "json",
       "name": "Prior Model MSE",
       "version": 1
      }
     },
     "metadata": {
      "scrapbook": {
       "data": true,
       "display": false,
       "name": "Prior Model MSE"
      }
     },
     "output_type": "display_data"
    },
    {
     "data": {
      "application/scrapbook.scrap.json+json": {
       "data": 0.9314416214162456,
       "encoder": "json",
       "name": "ABC Pre-generator MSE",
       "version": 1
      }
     },
     "metadata": {
      "scrapbook": {
       "data": true,
       "display": false,
       "name": "ABC Pre-generator MSE"
      }
     },
     "output_type": "display_data"
    },
    {
     "data": {
      "application/scrapbook.scrap.json+json": {
       "data": 0.3659529529434548,
       "encoder": "json",
       "name": "Prior Model MSE",
       "version": 1
      }
     },
     "metadata": {
      "scrapbook": {
       "data": true,
       "display": false,
       "name": "Prior Model MSE"
      }
     },
     "output_type": "display_data"
    },
    {
     "data": {
      "application/scrapbook.scrap.json+json": {
       "data": 0.8418130667158911,
       "encoder": "json",
       "name": "ABC Pre-generator MSE",
       "version": 1
      }
     },
     "metadata": {
      "scrapbook": {
       "data": true,
       "display": false,
       "name": "ABC Pre-generator MSE"
      }
     },
     "output_type": "display_data"
    }
   ],
   "source": [
    "y_pred = prior_model.predict(X_test)\n",
    "y_abc = y_pred + np.random.normal(0,variance, y_pred.shape) + bias \n",
    "mse = mean_squared_error(y_pred,Y_test)\n",
    "sb.glue(\"Prior Model MSE\",mse)\n",
    "mse = mean_squared_error(y_abc,Y_test)\n",
    "sb.glue(\"ABC Pre-generator MSE\",mse)\n",
    "mae = mean_absolute_error(y_pred,Y_test)\n",
    "sb.glue(\"Prior Model MSE\",mae)\n",
    "mae = mean_absolute_error(y_abc,Y_test)\n",
    "sb.glue(\"ABC Pre-generator MSE\",mae)"
   ]
  },
  {
   "cell_type": "markdown",
   "id": "25609da2",
   "metadata": {
    "papermill": {
     "duration": 0.00933,
     "end_time": "2022-06-07T06:50:50.101862",
     "exception": false,
     "start_time": "2022-06-07T06:50:50.092532",
     "status": "completed"
    },
    "tags": []
   },
   "source": [
    "# ABC GAN Model"
   ]
  },
  {
   "cell_type": "code",
   "execution_count": 11,
   "id": "dfc3464d",
   "metadata": {
    "execution": {
     "iopub.execute_input": "2022-06-07T06:50:50.123579Z",
     "iopub.status.busy": "2022-06-07T06:50:50.123207Z",
     "iopub.status.idle": "2022-06-07T06:50:50.125910Z",
     "shell.execute_reply": "2022-06-07T06:50:50.126149Z"
    },
    "papermill": {
     "duration": 0.014946,
     "end_time": "2022-06-07T06:50:50.126257",
     "exception": false,
     "start_time": "2022-06-07T06:50:50.111311",
     "status": "completed"
    },
    "tags": []
   },
   "outputs": [],
   "source": [
    "gen = network.Generator(n_features+1).to(device)\n",
    "disc = network.Discriminator(n_features+1).to(device)\n",
    "\n",
    "criterion = torch.nn.BCELoss()\n",
    "gen_opt = torch.optim.Adam(gen.parameters(), lr=0.001, betas=(0.5, 0.999))\n",
    "disc_opt = torch.optim.Adam(disc.parameters(), lr=0.001, betas=(0.5, 0.999))"
   ]
  },
  {
   "cell_type": "code",
   "execution_count": 12,
   "id": "b75fdd85",
   "metadata": {
    "execution": {
     "iopub.execute_input": "2022-06-07T06:50:50.147402Z",
     "iopub.status.busy": "2022-06-07T06:50:50.147005Z",
     "iopub.status.idle": "2022-06-07T06:51:03.593635Z",
     "shell.execute_reply": "2022-06-07T06:51:03.593947Z"
    },
    "papermill": {
     "duration": 13.458287,
     "end_time": "2022-06-07T06:51:03.594071",
     "exception": false,
     "start_time": "2022-06-07T06:50:50.135784",
     "status": "completed"
    },
    "tags": []
   },
   "outputs": [
    {
     "data": {
      "image/png": "[encoded data removed]",
      "text/plain": [
       "<Figure size 432x288 with 1 Axes>"
      ]
     },
     "metadata": {
      "needs_background": "light"
     },
     "output_type": "display_data"
    },
    {
     "data": {
      "image/png": "[encoded data removed]",
      "text/plain": [
       "<Figure size 432x288 with 1 Axes>"
      ]
     },
     "metadata": {
      "needs_background": "light"
     },
     "output_type": "display_data"
    }
   ],
   "source": [
    "#Training the ABC_GAN \n",
    "ABC_train_test2.training_GAN(disc,gen,disc_opt,gen_opt,train_data,batch_size,n_epochs,criterion,prior_model,variance,bias,device)"
   ]
  },
  {
   "cell_type": "code",
   "execution_count": 13,
   "id": "1fa7c368",
   "metadata": {
    "execution": {
     "iopub.execute_input": "2022-06-07T06:51:03.618197Z",
     "iopub.status.busy": "2022-06-07T06:51:03.617761Z",
     "iopub.status.idle": "2022-06-07T06:51:03.789566Z",
     "shell.execute_reply": "2022-06-07T06:51:03.789812Z"
    },
    "papermill": {
     "duration": 0.18473,
     "end_time": "2022-06-07T06:51:03.789938",
     "exception": false,
     "start_time": "2022-06-07T06:51:03.605208",
     "status": "completed"
    },
    "tags": []
   },
   "outputs": [
    {
     "data": {
      "application/scrapbook.scrap.json+json": {
       "data": 0.15402845304608678,
       "encoder": "json",
       "name": "ABC-GAN Model 1 MSE",
       "version": 1
      }
     },
     "metadata": {
      "scrapbook": {
       "data": true,
       "display": false,
       "name": "ABC-GAN Model 1 MSE"
      }
     },
     "output_type": "display_data"
    },
    {
     "data": {
      "application/scrapbook.scrap.json+json": {
       "data": 0.30442051388695834,
       "encoder": "json",
       "name": "ABC-GAN Model 1 MAE",
       "version": 1
      }
     },
     "metadata": {
      "scrapbook": {
       "data": true,
       "display": false,
       "name": "ABC-GAN Model 1 MAE"
      }
     },
     "output_type": "display_data"
    },
    {
     "data": {
      "application/scrapbook.scrap.json+json": {
       "data": 6.088410277739167,
       "encoder": "json",
       "name": "ABC-GAN Model 1 Manhattan Distance",
       "version": 1
      }
     },
     "metadata": {
      "scrapbook": {
       "data": true,
       "display": false,
       "name": "ABC-GAN Model 1 Manhattan Distance"
      }
     },
     "output_type": "display_data"
    },
    {
     "data": {
      "application/scrapbook.scrap.json+json": {
       "data": 1.7548697121328272,
       "encoder": "json",
       "name": "ABC-GAN Model 1 Euclidean distance",
       "version": 1
      }
     },
     "metadata": {
      "scrapbook": {
       "data": true,
       "display": false,
       "name": "ABC-GAN Model 1 Euclidean distance"
      }
     },
     "output_type": "display_data"
    },
    {
     "data": {
      "application/scrapbook.scrap.json+json": {
       "data": [
        [
         0.15306924854554124,
         0.15352686162898663,
         0.16107485759052645,
         0.1517129048746412,
         0.14187658419579324,
         0.16202026172236783,
         0.1656601641205857,
         0.15506331870787973,
         0.14930744022585946,
         0.15113892660298367,
         0.16844032455511443,
         0.1692495460675969,
         0.15243095399712678,
         0.14492987116489978,
         0.1542505781551609,
         0.16186627960029387,
         0.1523254383801048,
         0.15791360512783412,
         0.15472370386457907,
         0.14620441054756766,
         0.1493334763006437,
         0.15559479576844837,
         0.150721245901054,
         0.16072435433570026,
         0.1538794772169445,
         0.1589223394488803,
         0.15323003207396804,
         0.16548110950952982,
         0.15358000947761585,
         0.15567149535172584,
         0.15198124524171183,
         0.1599187347381062,
         0.14218962970022847,
         0.15532284263966276,
         0.14945203065855373,
         0.1494987833586286,
         0.15559434457400637,
         0.1524659363639585,
         0.14370253158106233,
         0.15510405664820529,
         0.15462751401496821,
         0.15207298990629337,
         0.15309214581826175,
         0.15403956352805634,
         0.14364645622797773,
         0.1478561758526206,
         0.15252927678972342,
         0.15692730692626242,
         0.15266199815873654,
         0.15735294500738836,
         0.15336557796556263,
         0.15633978672934196,
         0.1580725050450939,
         0.14978709558294107,
         0.15525105562073155,
         0.1542325725086943,
         0.15434639703445036,
         0.15555284247071888,
         0.1520484740937388,
         0.14954719840777825,
         0.14889090808332442,
         0.15236138137333957,
         0.1605904852739045,
         0.15950026439695839,
         0.16406624416486867,
         0.15664736150274447,
         0.16127115559934627,
         0.14310170962468538,
         0.15257233169647408,
         0.1637524892228937,
         0.15610617355519246,
         0.1494427146167281,
         0.1579258392084335,
         0.14718462389475756,
         0.15424094498804714,
         0.1569850722917062,
         0.1558991103824341,
         0.15576232829871714,
         0.15145730735215426,
         0.1579330704789736,
         0.15059869229584638,
         0.15172061017828264,
         0.1486380127628105,
         0.16113127901395818,
         0.14579141205503005,
         0.1496472490156533,
         0.15486380584939297,
         0.14555083781930017,
         0.14755821566926555,
         0.1472520043743175,
         0.15361833562070304,
         0.15886234094776422,
         0.1514822820843787,
         0.16647081051947796,
         0.15313960003427346,
         0.14954152222226358,
         0.15128943795813243,
         0.15855744558450655,
         0.1541087672167471,
         0.1548274991274711
        ],
        [
         0.30723078083246946,
         0.30796486753970387,
         0.3100347934290767,
         0.2989695372059941,
         0.28397273179143667,
         0.31489971075206996,
         0.31440759282559155,
         0.3027237607166171,
         0.3071583705022931,
         0.29817540403455495,
         0.3253401955589652,
         0.32368781324476004,
         0.30175198819488286,
         0.2917571602389216,
         0.30564785543829204,
         0.3073516147211194,
         0.3065379960462451,
         0.30585582721978427,
         0.3009414097294211,
         0.2963698094710708,
         0.29503581430763004,
         0.3098866561427712,
         0.30120454225689175,
         0.3090035917237401,
         0.303176792152226,
         0.30883419755846264,
         0.3089179826900363,
         0.3118105800822377,
         0.298815387301147,
         0.30688853841274977,
         0.2990733152255416,
         0.31881856452673674,
         0.28527899365872145,
         0.3104702753946185,
         0.3022828342393041,
         0.29898302126675846,
         0.30947667416185143,
         0.30439424272626636,
         0.292568969540298,
         0.308900255151093,
         0.3044900117442012,
         0.30894851963967085,
         0.2985988503322005,
         0.307536487467587,
         0.2904046816751361,
         0.2985111763700843,
         0.3031316539272666,
         0.31521759647876024,
         0.29980487246066334,
         0.3112266240641475,
         0.3009729666635394,
         0.3092209296301007,
         0.3068871548399329,
         0.2960148764774203,
         0.31221145708113907,
         0.2991126080974936,
         0.3037532584741712,
         0.30540246684104205,
         0.2990298783406615,
         0.2977567734196782,
         0.29887540396302936,
         0.303885549493134,
         0.31570109631866217,
         0.3081651574000716,
         0.3114694258198142,
         0.3076155623421073,
         0.311061074025929,
         0.2875637011602521,
         0.30429425928741693,
         0.3125754239037633,
         0.3060923466458917,
         0.29326212164014576,
         0.30729128438979386,
         0.30165216233581305,
         0.30122329462319614,
         0.3077041717246175,
         0.30923716705292464,
         0.3064564706757665,
         0.2987401047721505,
         0.3122402695938945,
         0.3009197944775224,
         0.30846559088677167,
         0.30008392613381146,
         0.3124289343133569,
         0.2914245629683137,
         0.29725806694477797,
         0.30375231336802244,
         0.29591362420469525,
         0.2916542967781425,
         0.2991812976077199,
         0.31000778581947086,
         0.308984967507422,
         0.2974760876968503,
         0.3222412208095193,
         0.30848254431039096,
         0.2964701684191823,
         0.3002294940873981,
         0.3160406881943345,
         0.30953366253525016,
         0.30356302242726085
        ],
        [
         6.144615616649389,
         6.159297350794077,
         6.200695868581533,
         5.979390744119883,
         5.6794546358287334,
         6.297994215041399,
         6.288151856511831,
         6.054475214332342,
         6.143167410045862,
         5.963508080691099,
         6.506803911179304,
         6.473756264895201,
         6.035039763897657,
         5.835143204778433,
         6.1129571087658405,
         6.147032294422388,
         6.130759920924902,
         6.117116544395685,
         6.018828194588423,
         5.927396189421415,
         5.900716286152601,
         6.197733122855425,
         6.0240908451378345,
         6.180071834474802,
         6.063535843044519,
         6.176683951169252,
         6.178359653800726,
         6.236211601644754,
         5.97630774602294,
         6.137770768254995,
         5.981466304510832,
         6.376371290534735,
         5.705579873174429,
         6.20940550789237,
         6.045656684786081,
         5.979660425335169,
         6.189533483237028,
         6.087884854525328,
         5.85137939080596,
         6.17800510302186,
         6.089800234884024,
         6.178970392793417,
         5.9719770066440105,
         6.15072974935174,
         5.808093633502722,
         5.970223527401686,
         6.062633078545332,
         6.304351929575205,
         5.996097449213266,
         6.2245324812829494,
         6.019459333270788,
         6.1844185926020145,
         6.137743096798658,
         5.920297529548407,
         6.244229141622782,
         5.982252161949873,
         6.075065169483423,
         6.108049336820841,
         5.9805975668132305,
         5.955135468393564,
         5.977508079260588,
         6.07771098986268,
         6.314021926373243,
         6.163303148001432,
         6.229388516396284,
         6.152311246842146,
         6.2212214805185795,
         5.751274023205042,
         6.085885185748339,
         6.251508478075266,
         6.121846932917833,
         5.865242432802916,
         6.1458256877958775,
         6.033043246716261,
         6.0244658924639225,
         6.15408343449235,
         6.184743341058493,
         6.129129413515329,
         5.97480209544301,
         6.24480539187789,
         6.0183958895504475,
         6.169311817735434,
         6.0016785226762295,
         6.2485786862671375,
         5.828491259366274,
         5.945161338895559,
         6.075046267360449,
         5.9182724840939045,
         5.833085935562849,
         5.983625952154398,
         6.200155716389418,
         6.179699350148439,
         5.949521753937006,
         6.444824416190386,
         6.169650886207819,
         5.929403368383646,
         6.004589881747961,
         6.32081376388669,
         6.190673250705004,
         6.0712604485452175
        ],
        [
         1.749681391256941,
         1.7522948475013367,
         1.794852961055732,
         1.7419121956897896,
         1.684497457378866,
         1.8001125616047893,
         1.8202206686035938,
         1.7610412755405804,
         1.728047685834274,
         1.7386139686715028,
         1.8354308734197233,
         1.8398344820531922,
         1.7460295186343602,
         1.7025267760884102,
         1.7564200986959861,
         1.7992569555252182,
         1.7454250965315286,
         1.7771528078802572,
         1.7591117296213965,
         1.7099965529062782,
         1.728198346837791,
         1.7640566644439082,
         1.7362099291333064,
         1.7928990732090877,
         1.7543060007703588,
         1.7828198980765295,
         1.7506000803951085,
         1.8192367053768996,
         1.7525981255131813,
         1.7644914018023767,
         1.7434520081821112,
         1.7884000376767284,
         1.686354824467428,
         1.7625143553438807,
         1.7288842104580266,
         1.7291546105460238,
         1.7640541067325932,
         1.746229860951636,
         1.6953025192045361,
         1.7612725890571583,
         1.7585648353982757,
         1.7439781529955778,
         1.7498122517473795,
         1.7552182971246417,
         1.694971717923209,
         1.7196288893399099,
         1.7465925500226056,
         1.7715942364224513,
         1.7473522722034989,
         1.7739951804184158,
         1.7513741916881305,
         1.7682747904629639,
         1.7780467094263521,
         1.7308211668623714,
         1.7621070093540379,
         1.7563175823790769,
         1.7569655490899663,
         1.763818825564116,
         1.7438375732489468,
         1.7294345804787081,
         1.7256355819426326,
         1.7456310112583333,
         1.7921522551050426,
         1.786058590287331,
         1.811442762909547,
         1.7700133417731319,
         1.7959462998616984,
         1.691754767244268,
         1.746839040647272,
         1.8097098619551903,
         1.7669531604159316,
         1.7288303249117773,
         1.777221647451063,
         1.7157192304963977,
         1.7563652523780304,
         1.7719202707328916,
         1.7657809059021683,
         1.7650061093306002,
         1.7404442384181933,
         1.777262335610439,
         1.7355039169984399,
         1.7419564298700623,
         1.7241694392536395,
         1.7951672847618307,
         1.7075796441456548,
         1.7300130000416372,
         1.7599079853753319,
         1.7061702014705347,
         1.717895315025136,
         1.716111909954112,
         1.752816793739169,
         1.7824833292222635,
         1.7405877288110398,
         1.8246687947103055,
         1.7500834267786975,
         1.7294017591193989,
         1.739479450629598,
         1.78077199879438,
         1.755612526822175,
         1.7597016743043186
        ]
       ],
       "encoder": "json",
       "name": "ABC_GAN_1 Metrics",
       "version": 1
      }
     },
     "metadata": {
      "scrapbook": {
       "data": true,
       "display": false,
       "name": "ABC_GAN_1 Metrics"
      }
     },
     "output_type": "display_data"
    },
    {
     "name": "stdout",
     "output_type": "stream",
     "text": [
      "MSE\n",
      "0.15402845304608678\n"
     ]
    }
   ],
   "source": [
    "ABC_GAN1_metrics=ABC_train_test2.test_generator(gen,test_data,prior_model,variance,bias,\"1\",device)\n",
    "sb.glue(\"ABC_GAN_1 Metrics\",ABC_GAN1_metrics)\n",
    "\n",
    "print(\"MSE\")\n",
    "print(mean(ABC_GAN1_metrics[0]))"
   ]
  },
  {
   "cell_type": "code",
   "execution_count": 14,
   "id": "eb22ce5c",
   "metadata": {
    "execution": {
     "iopub.execute_input": "2022-06-07T06:51:03.816535Z",
     "iopub.status.busy": "2022-06-07T06:51:03.816163Z",
     "iopub.status.idle": "2022-06-07T06:51:04.101501Z",
     "shell.execute_reply": "2022-06-07T06:51:04.101866Z"
    },
    "papermill": {
     "duration": 0.299847,
     "end_time": "2022-06-07T06:51:04.101987",
     "exception": false,
     "start_time": "2022-06-07T06:51:03.802140",
     "status": "completed"
    },
    "tags": []
   },
   "outputs": [
    {
     "data": {
      "image/png": "[encoded data removed]",
      "text/plain": [
       "<Figure size 432x288 with 1 Axes>"
      ]
     },
     "metadata": {
      "needs_background": "light"
     },
     "output_type": "display_data"
    },
    {
     "data": {
      "image/png": "[encoded data removed]",
      "text/plain": [
       "<Figure size 432x288 with 1 Axes>"
      ]
     },
     "metadata": {
      "needs_background": "light"
     },
     "output_type": "display_data"
    },
    {
     "data": {
      "image/png": "[encoded data removed]",
      "text/plain": [
       "<Figure size 432x288 with 1 Axes>"
      ]
     },
     "metadata": {
      "needs_background": "light"
     },
     "output_type": "display_data"
    },
    {
     "data": {
      "image/png": "[encoded data removed]",
      "text/plain": [
       "<Figure size 432x288 with 1 Axes>"
      ]
     },
     "metadata": {
      "needs_background": "light"
     },
     "output_type": "display_data"
    }
   ],
   "source": [
    "sanityChecks.discProbVsError(train_data,disc,device)\n",
    "sanityChecks.discProbVsError(test_data,disc,device)"
   ]
  },
  {
   "cell_type": "markdown",
   "id": "130f3a4d",
   "metadata": {
    "id": "130f3a4d",
    "papermill": {
     "duration": 0.035356,
     "end_time": "2022-06-07T06:51:04.151658",
     "exception": false,
     "start_time": "2022-06-07T06:51:04.116302",
     "status": "completed"
    },
    "tags": []
   },
   "source": [
    "# ABC - GAN Model with skip connection"
   ]
  },
  {
   "cell_type": "code",
   "execution_count": 15,
   "id": "4e43dad1",
   "metadata": {
    "execution": {
     "iopub.execute_input": "2022-06-07T06:51:04.183175Z",
     "iopub.status.busy": "2022-06-07T06:51:04.182793Z",
     "iopub.status.idle": "2022-06-07T06:51:04.185207Z",
     "shell.execute_reply": "2022-06-07T06:51:04.185445Z"
    },
    "id": "4e43dad1",
    "papermill": {
     "duration": 0.019681,
     "end_time": "2022-06-07T06:51:04.185556",
     "exception": false,
     "start_time": "2022-06-07T06:51:04.165875",
     "status": "completed"
    },
    "tags": []
   },
   "outputs": [],
   "source": [
    "#Generator\n",
    "gen3 = network.GeneratorWithSkipConnection(n_features+1).to(device)\n",
    "constraints=network.weightConstraint()\n",
    "#Discriminator \n",
    "disc3 = network.Discriminator(n_features+1).to(device)\n",
    "\n",
    "criterion = torch.nn.BCELoss()\n",
    "gen_opt = torch.optim.Adam(gen3.parameters(), lr=0.001, betas=(0.5, 0.999))\n",
    "disc_opt = torch.optim.Adam(disc3.parameters(), lr=0.001, betas=(0.5, 0.999))\n"
   ]
  },
  {
   "cell_type": "code",
   "execution_count": 16,
   "id": "26acbc37",
   "metadata": {
    "execution": {
     "iopub.execute_input": "2022-06-07T06:51:04.216440Z",
     "iopub.status.busy": "2022-06-07T06:51:04.216058Z",
     "iopub.status.idle": "2022-06-07T06:51:40.030572Z",
     "shell.execute_reply": "2022-06-07T06:51:40.030888Z"
    },
    "id": "26acbc37",
    "papermill": {
     "duration": 35.831103,
     "end_time": "2022-06-07T06:51:40.031022",
     "exception": false,
     "start_time": "2022-06-07T06:51:04.199919",
     "status": "completed"
    },
    "tags": []
   },
   "outputs": [
    {
     "data": {
      "image/png": "[encoded data removed]",
      "text/plain": [
       "<Figure size 432x288 with 1 Axes>"
      ]
     },
     "metadata": {
      "needs_background": "light"
     },
     "output_type": "display_data"
    },
    {
     "data": {
      "image/png": "[encoded data removed]",
      "text/plain": [
       "<Figure size 432x288 with 1 Axes>"
      ]
     },
     "metadata": {
      "needs_background": "light"
     },
     "output_type": "display_data"
    }
   ],
   "source": [
    "ABC_train_test2.training_GAN_skip_connection(disc3,gen3,disc_opt,gen_opt,train_data,batch_size,n_epochs,criterion,prior_model,variance,bias,device)"
   ]
  },
  {
   "cell_type": "code",
   "execution_count": 17,
   "id": "c5e0717b",
   "metadata": {
    "execution": {
     "iopub.execute_input": "2022-06-07T06:51:40.064202Z",
     "iopub.status.busy": "2022-06-07T06:51:40.063686Z",
     "iopub.status.idle": "2022-06-07T06:51:40.336995Z",
     "shell.execute_reply": "2022-06-07T06:51:40.337240Z"
    },
    "id": "c5e0717b",
    "papermill": {
     "duration": 0.291122,
     "end_time": "2022-06-07T06:51:40.337363",
     "exception": false,
     "start_time": "2022-06-07T06:51:40.046241",
     "status": "completed"
    },
    "tags": []
   },
   "outputs": [
    {
     "data": {
      "application/scrapbook.scrap.json+json": {
       "data": 0.0942886015538699,
       "encoder": "json",
       "name": "ABC-GAN Model 3 MSE",
       "version": 1
      }
     },
     "metadata": {
      "scrapbook": {
       "data": true,
       "display": false,
       "name": "ABC-GAN Model 3 MSE"
      }
     },
     "output_type": "display_data"
    },
    {
     "data": {
      "application/scrapbook.scrap.json+json": {
       "data": 0.23872153284819797,
       "encoder": "json",
       "name": "ABC-GAN Model 3 MAE",
       "version": 1
      }
     },
     "metadata": {
      "scrapbook": {
       "data": true,
       "display": false,
       "name": "ABC-GAN Model 3 MAE"
      }
     },
     "output_type": "display_data"
    },
    {
     "data": {
      "application/scrapbook.scrap.json+json": {
       "data": 4.774430656963959,
       "encoder": "json",
       "name": "ABC-GAN Model 3 Manhattan Distance",
       "version": 1
      }
     },
     "metadata": {
      "scrapbook": {
       "data": true,
       "display": false,
       "name": "ABC-GAN Model 3 Manhattan Distance"
      }
     },
     "output_type": "display_data"
    },
    {
     "data": {
      "application/scrapbook.scrap.json+json": {
       "data": 1.3727777444829783,
       "encoder": "json",
       "name": "ABC-GAN Model 3 Euclidean distance",
       "version": 1
      }
     },
     "metadata": {
      "scrapbook": {
       "data": true,
       "display": false,
       "name": "ABC-GAN Model 3 Euclidean distance"
      }
     },
     "output_type": "display_data"
    },
    {
     "data": {
      "application/scrapbook.scrap.json+json": {
       "data": [
        [
         0.10365801889377253,
         0.09028945648688477,
         0.09590029344806317,
         0.09083981417249573,
         0.09017980352363651,
         0.0907504812574597,
         0.09376386533524853,
         0.10088545150489137,
         0.08954555110401652,
         0.09727715708858539,
         0.09237626848851134,
         0.09268019439401802,
         0.0962556615858096,
         0.09576511475065755,
         0.09110528949662569,
         0.10461750526913875,
         0.09053515326190749,
         0.08993411386139685,
         0.10533523618296188,
         0.09180543744283184,
         0.0907266907107748,
         0.09250664779352198,
         0.08763571060481239,
         0.09135336203368519,
         0.09363794842614487,
         0.09334831230029766,
         0.09582475203485284,
         0.09269142746172593,
         0.09465506518692064,
         0.08882641125557802,
         0.08583161631996614,
         0.08896930492973333,
         0.09040761064854155,
         0.09815039775657235,
         0.09525853629181096,
         0.09812928465260118,
         0.10026794126664766,
         0.10357411067584721,
         0.09176297267755733,
         0.0979478334810885,
         0.09980995065328616,
         0.09806971356953426,
         0.08991671606553406,
         0.1053186164879786,
         0.09519902833002988,
         0.10918340269058116,
         0.09431122447317174,
         0.09487018553282664,
         0.0886327403788825,
         0.09614058445140244,
         0.09686034177767591,
         0.0906963826532747,
         0.09035661653676899,
         0.09065483072354749,
         0.094131843365011,
         0.09293442972196211,
         0.09960904191472483,
         0.09090524635697993,
         0.08766714555630542,
         0.0905728386435815,
         0.0965591592015099,
         0.09371933495431956,
         0.10735078054552036,
         0.09144604107030653,
         0.09318651559359928,
         0.08626627287523676,
         0.09699370798500026,
         0.10007746144638516,
         0.1035890634121626,
         0.0917916018056213,
         0.09030862554863278,
         0.10169228384563538,
         0.0930612068809965,
         0.09530256222554274,
         0.0833824286487755,
         0.09710831270804253,
         0.09282657875908881,
         0.09847982659445402,
         0.09449216282561447,
         0.09657075188197665,
         0.10346041168282091,
         0.09231345607562853,
         0.0903073376965338,
         0.09162736638589677,
         0.09206464276502009,
         0.09133369985608297,
         0.09885511918537161,
         0.09628050172319103,
         0.09563742384669635,
         0.09774838504684917,
         0.09276489430877312,
         0.08938870913536512,
         0.09220885441182247,
         0.08964970543539319,
         0.08759365600771364,
         0.0943889737349933,
         0.09028941378201333,
         0.09179917712349703,
         0.09577007123956761,
         0.09032699319468564
        ],
        [
         0.25422299895435574,
         0.2327398093417287,
         0.24138772990554572,
         0.23996976744383575,
         0.2342094076797366,
         0.24043150916695594,
         0.22573071233928205,
         0.25436281990259885,
         0.2333441643975675,
         0.24767638966441155,
         0.2315762158483267,
         0.23830815274268388,
         0.2414823377504945,
         0.24534265790134668,
         0.23238027188926935,
         0.24988894653506577,
         0.23029390703886748,
         0.22465971908532084,
         0.2595385232940316,
         0.23730536904186011,
         0.22959260866045952,
         0.23622603751718999,
         0.22523213289678096,
         0.23125814478844403,
         0.23342725662514568,
         0.23984349127858878,
         0.23787236381322147,
         0.23689953554421664,
         0.24372590016573667,
         0.2336338018067181,
         0.22595186661928893,
         0.2355161914601922,
         0.23595763556659222,
         0.24145341273397208,
         0.24276249147951603,
         0.2547586502507329,
         0.23718330403789878,
         0.25798194645904005,
         0.23162545170634985,
         0.2403120307251811,
         0.2530974270775914,
         0.25126947555691004,
         0.2338478108868003,
         0.25183798726648093,
         0.23860358353704214,
         0.26150261554867027,
         0.23650288712233306,
         0.23892375584691763,
         0.22839780207723379,
         0.23426435682922603,
         0.23903838973492383,
         0.23312545362859965,
         0.24033631067723035,
         0.23165606912225484,
         0.23665759805589914,
         0.23953654700890184,
         0.23990502040833234,
         0.23448980282992124,
         0.22153555788099766,
         0.22956797182559968,
         0.24497095327824353,
         0.24480807650834321,
         0.25260587837547066,
         0.23415262456983327,
         0.24012381080538034,
         0.2242568088695407,
         0.243976273201406,
         0.25416697431355717,
         0.26557248663157224,
         0.237332902289927,
         0.23207594100385903,
         0.2452645583078265,
         0.23844609893858432,
         0.2430638974532485,
         0.22359204571694136,
         0.24532875511795282,
         0.2344735784456134,
         0.2476288815960288,
         0.23807349037379028,
         0.2463257148861885,
         0.2593212123960257,
         0.22555904295295476,
         0.2206312522292137,
         0.23580722305923701,
         0.23476240057498216,
         0.2306737349368632,
         0.2512353388592601,
         0.23774531818926334,
         0.23702890407294036,
         0.23985011857002975,
         0.24534124126657844,
         0.22957806177437307,
         0.23185773994773626,
         0.22698154281824828,
         0.23504978474229574,
         0.229281653650105,
         0.23628076259046793,
         0.23322122860699893,
         0.2386714221909642,
         0.23687346372753382
        ],
        [
         5.084459979087114,
         4.654796186834574,
         4.827754598110914,
         4.799395348876715,
         4.684188153594732,
         4.808630183339119,
         4.514614246785641,
         5.087256398051977,
         4.66688328795135,
         4.953527793288231,
         4.631524316966534,
         4.766163054853678,
         4.82964675500989,
         4.906853158026934,
         4.647605437785387,
         4.997778930701315,
         4.6058781407773495,
         4.493194381706417,
         5.190770465880632,
         4.746107380837202,
         4.59185217320919,
         4.7245207503438,
         4.504642657935619,
         4.625162895768881,
         4.6685451325029135,
         4.796869825571775,
         4.757447276264429,
         4.737990710884333,
         4.8745180033147335,
         4.672676036134362,
         4.519037332385778,
         4.710323829203844,
         4.719152711331844,
         4.8290682546794415,
         4.855249829590321,
         5.095173005014658,
         4.743666080757976,
         5.159638929180801,
         4.632509034126997,
         4.806240614503622,
         5.061948541551828,
         5.025389511138201,
         4.676956217736006,
         5.0367597453296185,
         4.772071670740843,
         5.230052310973406,
         4.730057742446661,
         4.778475116938353,
         4.567956041544676,
         4.68528713658452,
         4.780767794698477,
         4.662509072571993,
         4.806726213544607,
         4.633121382445097,
         4.733151961117983,
         4.790730940178037,
         4.798100408166647,
         4.689796056598425,
         4.430711157619953,
         4.591359436511993,
         4.899419065564871,
         4.896161530166864,
         5.052117567509413,
         4.683052491396666,
         4.802476216107607,
         4.485136177390814,
         4.87952546402812,
         5.083339486271143,
         5.311449732631445,
         4.74665804579854,
         4.641518820077181,
         4.90529116615653,
         4.7689219787716866,
         4.86127794906497,
         4.471840914338827,
         4.9065751023590565,
         4.689471568912268,
         4.952577631920576,
         4.761469807475805,
         4.92651429772377,
         5.186424247920513,
         4.511180859059095,
         4.412625044584274,
         4.71614446118474,
         4.695248011499643,
         4.613474698737264,
         5.024706777185202,
         4.754906363785267,
         4.740578081458807,
         4.797002371400595,
         4.906824825331569,
         4.591561235487461,
         4.637154798954725,
         4.539630856364965,
         4.700995694845915,
         4.5856330730021,
         4.725615251809359,
         4.664424572139978,
         4.773428443819284,
         4.737469274550676
        ],
        [
         1.4398473453375016,
         1.3437965358407855,
         1.3849208890623548,
         1.3478858569811891,
         1.342980294149073,
         1.3472229307539247,
         1.3694076481110256,
         1.420460851307711,
         1.3382492376535584,
         1.3948272802650898,
         1.3592370542956171,
         1.3614712218333374,
         1.387484497829144,
         1.3839444696277199,
         1.3498539883752294,
         1.446495802061926,
         1.3456236714765943,
         1.3411496103074918,
         1.451449180529321,
         1.355030903284732,
         1.3470463296470154,
         1.3601959255454485,
         1.3239011338072975,
         1.3516905121638252,
         1.368487840107795,
         1.3663697325416548,
         1.3843753250824202,
         1.3615537261652655,
         1.3759001794237884,
         1.3328646687160557,
         1.3102031622612285,
         1.3339363172935454,
         1.3446755047113899,
         1.4010738578431357,
         1.3802792202435779,
         1.4009231574401302,
         1.4161069258120846,
         1.4392644696222248,
         1.3547174810827336,
         1.3996273324073698,
         1.4128690714520307,
         1.4004978655430664,
         1.3410198810273772,
         1.4513346718657183,
         1.3798480230085477,
         1.4777239437092515,
         1.373398882140012,
         1.377462780134742,
         1.331410833506191,
         1.3866548557691092,
         1.3918357789457485,
         1.3468213144532182,
         1.3442962213498109,
         1.3465127606045737,
         1.3720921497116074,
         1.363337300318319,
         1.4114463639453312,
         1.3483712126634855,
         1.3241385543537763,
         1.345903701188027,
         1.389670170950718,
         1.3690824296171473,
         1.465269808230009,
         1.3523759911378679,
         1.3651850833758716,
         1.3135164473674226,
         1.3927936529507898,
         1.4147611914834615,
         1.4393683573857152,
         1.3549287937424705,
         1.3439391768129447,
         1.4261296143453117,
         1.3642668865071563,
         1.3805981473661533,
         1.2913746834189952,
         1.3936162506805274,
         1.362545990116215,
         1.4034231478385557,
         1.3747157002494332,
         1.3897535888205266,
         1.4384742728517665,
         1.3587748604947658,
         1.343929594112235,
         1.353716117846698,
         1.3569424657296276,
         1.3515450407299268,
         1.4060947278570646,
         1.3876635162977444,
         1.383021502701215,
         1.3982015952418962,
         1.362093200253001,
         1.337076730299089,
         1.3580048189297598,
         1.3390272994632573,
         1.323583439060142,
         1.3739648738959327,
         1.343796218048059,
         1.35498470193207,
         1.3839802833824448,
         1.3440758400825872
        ]
       ],
       "encoder": "json",
       "name": "ABC_GAN_3 Metrics",
       "version": 1
      }
     },
     "metadata": {
      "scrapbook": {
       "data": true,
       "display": false,
       "name": "ABC_GAN_3 Metrics"
      }
     },
     "output_type": "display_data"
    },
    {
     "name": "stdout",
     "output_type": "stream",
     "text": [
      "MSE\n",
      "0.0942886015538699\n"
     ]
    }
   ],
   "source": [
    "ABC_GAN3_metrics=ABC_train_test2.test_generator(gen3,test_data,prior_model,variance,bias,\"3\",device)\n",
    "sb.glue(\"ABC_GAN_3 Metrics\",ABC_GAN3_metrics)\n",
    "\n",
    "print(\"MSE\")\n",
    "print(mean(ABC_GAN3_metrics[0]))"
   ]
  },
  {
   "cell_type": "code",
   "execution_count": 18,
   "id": "c8e46b48",
   "metadata": {
    "execution": {
     "iopub.execute_input": "2022-06-07T06:51:40.373183Z",
     "iopub.status.busy": "2022-06-07T06:51:40.372811Z",
     "iopub.status.idle": "2022-06-07T06:51:40.662302Z",
     "shell.execute_reply": "2022-06-07T06:51:40.662595Z"
    },
    "id": "c8e46b48",
    "papermill": {
     "duration": 0.308672,
     "end_time": "2022-06-07T06:51:40.662717",
     "exception": false,
     "start_time": "2022-06-07T06:51:40.354045",
     "status": "completed"
    },
    "tags": []
   },
   "outputs": [
    {
     "data": {
      "image/png": "[encoded data removed]",
      "text/plain": [
       "<Figure size 432x288 with 1 Axes>"
      ]
     },
     "metadata": {
      "needs_background": "light"
     },
     "output_type": "display_data"
    },
    {
     "data": {
      "image/png": "[encoded data removed]",
      "text/plain": [
       "<Figure size 432x288 with 1 Axes>"
      ]
     },
     "metadata": {
      "needs_background": "light"
     },
     "output_type": "display_data"
    },
    {
     "data": {
      "image/png": "[encoded data removed]",
      "text/plain": [
       "<Figure size 432x288 with 1 Axes>"
      ]
     },
     "metadata": {
      "needs_background": "light"
     },
     "output_type": "display_data"
    },
    {
     "data": {
      "image/png": "[encoded data removed]",
      "text/plain": [
       "<Figure size 432x288 with 1 Axes>"
      ]
     },
     "metadata": {
      "needs_background": "light"
     },
     "output_type": "display_data"
    }
   ],
   "source": [
    "sanityChecks.discProbVsError(train_data,disc3,device)\n",
    "sanityChecks.discProbVsError(test_data,disc3,device)"
   ]
  },
  {
   "cell_type": "markdown",
   "id": "a5bd74c3",
   "metadata": {
    "id": "a5bd74c3",
    "papermill": {
     "duration": 0.018773,
     "end_time": "2022-06-07T06:51:40.700677",
     "exception": false,
     "start_time": "2022-06-07T06:51:40.681904",
     "status": "completed"
    },
    "tags": []
   },
   "source": [
    "## Skip Connection Model Analysis - ABC-GAN "
   ]
  },
  {
   "cell_type": "markdown",
   "id": "5744a8bf",
   "metadata": {
    "id": "5744a8bf",
    "papermill": {
     "duration": 0.018706,
     "end_time": "2022-06-07T06:51:40.737999",
     "exception": false,
     "start_time": "2022-06-07T06:51:40.719293",
     "status": "completed"
    },
    "tags": []
   },
   "source": [
    "### Weight Analysis \n",
    "\n",
    "Study the weights of the skip connection layer\n",
    "\n",
    "Equation of the skip connection is \n",
    "\n",
    "$output = y_{gan} * w + y_{abc} * (1-w)$"
   ]
  },
  {
   "cell_type": "code",
   "execution_count": 19,
   "id": "52c31dea",
   "metadata": {
    "execution": {
     "iopub.execute_input": "2022-06-07T06:51:40.778062Z",
     "iopub.status.busy": "2022-06-07T06:51:40.777682Z",
     "iopub.status.idle": "2022-06-07T06:51:40.781226Z",
     "shell.execute_reply": "2022-06-07T06:51:40.781476Z"
    },
    "id": "52c31dea",
    "papermill": {
     "duration": 0.024957,
     "end_time": "2022-06-07T06:51:40.781589",
     "exception": false,
     "start_time": "2022-06-07T06:51:40.756632",
     "status": "completed"
    },
    "tags": []
   },
   "outputs": [
    {
     "name": "stdout",
     "output_type": "stream",
     "text": [
      "Weight of the node at skip connection\n",
      "Parameter containing:\n",
      "tensor([[0.8649]], requires_grad=True)\n"
     ]
    },
    {
     "data": {
      "application/scrapbook.scrap.json+json": {
       "data": 0.8649390339851379,
       "encoder": "json",
       "name": "Skip Connection Weight",
       "version": 1
      }
     },
     "metadata": {
      "scrapbook": {
       "data": true,
       "display": false,
       "name": "Skip Connection Weight"
      }
     },
     "output_type": "display_data"
    }
   ],
   "source": [
    "print(\"Weight of the node at skip connection\")\n",
    "for name,param in gen3.named_parameters():\n",
    "    if(name == \"skipNode.weight\"):\n",
    "        print(param)\n",
    "        sb.glue(\"Skip Connection Weight\",param.item())"
   ]
  }
 ],
 "metadata": {
  "colab": {
   "collapsed_sections": [],
   "name": "ABC_GAN_Model-Catboost_Pre-gen.ipynb",
   "provenance": []
  },
  "interpreter": {
   "hash": "31f2aee4e71d21fbe5cf8b01ff0e069b9275f58929596ceb00d14d90e3e16cd6"
  },
  "kernelspec": {
   "display_name": "Python 3 (ipykernel)",
   "language": "python",
   "name": "python3"
  },
  "language_info": {
   "codemirror_mode": {
    "name": "ipython",
    "version": 3
   },
   "file_extension": ".py",
   "mimetype": "text/x-python",
   "name": "python",
   "nbconvert_exporter": "python",
   "pygments_lexer": "ipython3",
   "version": "3.8.11"
  },
  "papermill": {
   "default_parameters": {},
   "duration": 54.670005,
   "end_time": "2022-06-07T06:51:41.110989",
   "environment_variables": {},
   "exception": null,
   "input_path": "ABC_GAN-Catboost.ipynb",
   "output_path": "./ABC_GAN_Catboost/ABC-GAN_output_7_3.ipynb",
   "parameters": {
    "bias": 0.1,
    "variance": 1
   },
   "start_time": "2022-06-07T06:50:46.440984",
   "version": "2.3.3"
  }
 },
 "nbformat": 4,
 "nbformat_minor": 5
}