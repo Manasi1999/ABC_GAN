{
 "cells": [
  {
   "cell_type": "markdown",
   "id": "622780e6",
   "metadata": {
    "id": "622780e6",
    "papermill": {
     "duration": 0.024606,
     "end_time": "2022-06-07T06:06:37.432246",
     "exception": false,
     "start_time": "2022-06-07T06:06:37.407640",
     "status": "completed"
    },
    "tags": []
   },
   "source": [
    "## Import Libraries "
   ]
  },
  {
   "cell_type": "code",
   "execution_count": 1,
   "id": "a62397e3",
   "metadata": {
    "execution": {
     "iopub.execute_input": "2022-06-07T06:06:37.463350Z",
     "iopub.status.busy": "2022-06-07T06:06:37.462779Z",
     "iopub.status.idle": "2022-06-07T06:06:37.465720Z",
     "shell.execute_reply": "2022-06-07T06:06:37.466155Z"
    },
    "id": "a62397e3",
    "papermill": {
     "duration": 0.023056,
     "end_time": "2022-06-07T06:06:37.466409",
     "exception": false,
     "start_time": "2022-06-07T06:06:37.443353",
     "status": "completed"
    },
    "tags": []
   },
   "outputs": [],
   "source": [
    "import warnings\n",
    "import sys\n",
    "sys.path.insert(0, '../../src')\n",
    "warnings.filterwarnings('ignore')"
   ]
  },
  {
   "cell_type": "code",
   "execution_count": 2,
   "id": "d6a4e155",
   "metadata": {
    "execution": {
     "iopub.execute_input": "2022-06-07T06:06:37.491721Z",
     "iopub.status.busy": "2022-06-07T06:06:37.491281Z",
     "iopub.status.idle": "2022-06-07T06:06:39.396414Z",
     "shell.execute_reply": "2022-06-07T06:06:39.396676Z"
    },
    "id": "d6a4e155",
    "papermill": {
     "duration": 1.917941,
     "end_time": "2022-06-07T06:06:39.396813",
     "exception": false,
     "start_time": "2022-06-07T06:06:37.478872",
     "status": "completed"
    },
    "tags": []
   },
   "outputs": [],
   "source": [
    "import ABC_train_test2\n",
    "import friedman1Dataset\n",
    "import network\n",
    "import dataset\n",
    "import sanityChecks\n",
    "import torch \n",
    "import scrapbook as sb\n",
    "from statistics import mean \n",
    "import catboost as ctb \n",
    "from sklearn.model_selection import train_test_split\n",
    "from sklearn.metrics import mean_squared_error,mean_absolute_error\n",
    "import numpy as np"
   ]
  },
  {
   "cell_type": "markdown",
   "id": "2fa5b0f7",
   "metadata": {
    "id": "2fa5b0f7",
    "papermill": {
     "duration": 0.007052,
     "end_time": "2022-06-07T06:06:39.411456",
     "exception": false,
     "start_time": "2022-06-07T06:06:39.404404",
     "status": "completed"
    },
    "tags": []
   },
   "source": [
    "## Parameters "
   ]
  },
  {
   "cell_type": "code",
   "execution_count": 3,
   "id": "783186fb",
   "metadata": {
    "execution": {
     "iopub.execute_input": "2022-06-07T06:06:39.427802Z",
     "iopub.status.busy": "2022-06-07T06:06:39.427406Z",
     "iopub.status.idle": "2022-06-07T06:06:39.428500Z",
     "shell.execute_reply": "2022-06-07T06:06:39.428789Z"
    },
    "id": "783186fb",
    "papermill": {
     "duration": 0.010521,
     "end_time": "2022-06-07T06:06:39.428898",
     "exception": false,
     "start_time": "2022-06-07T06:06:39.418377",
     "status": "completed"
    },
    "tags": [
     "parameters"
    ]
   },
   "outputs": [],
   "source": [
    "variance = 1\n",
    "bias = 1 "
   ]
  },
  {
   "cell_type": "code",
   "execution_count": 4,
   "id": "4886c5cc",
   "metadata": {
    "execution": {
     "iopub.execute_input": "2022-06-07T06:06:39.444793Z",
     "iopub.status.busy": "2022-06-07T06:06:39.444420Z",
     "iopub.status.idle": "2022-06-07T06:06:39.445678Z",
     "shell.execute_reply": "2022-06-07T06:06:39.445914Z"
    },
    "papermill": {
     "duration": 0.01008,
     "end_time": "2022-06-07T06:06:39.446018",
     "exception": false,
     "start_time": "2022-06-07T06:06:39.435938",
     "status": "completed"
    },
    "tags": [
     "injected-parameters"
    ]
   },
   "outputs": [],
   "source": [
    "# Parameters\n",
    "variance = 0.01\n",
    "bias = 0.1\n"
   ]
  },
  {
   "cell_type": "markdown",
   "id": "391cdbfd",
   "metadata": {
    "id": "391cdbfd",
    "papermill": {
     "duration": 0.00686,
     "end_time": "2022-06-07T06:06:39.459914",
     "exception": false,
     "start_time": "2022-06-07T06:06:39.453054",
     "status": "completed"
    },
    "tags": []
   },
   "source": [
    "## Dataset \n"
   ]
  },
  {
   "cell_type": "code",
   "execution_count": 5,
   "id": "5b51f161",
   "metadata": {
    "execution": {
     "iopub.execute_input": "2022-06-07T06:06:39.476156Z",
     "iopub.status.busy": "2022-06-07T06:06:39.475755Z",
     "iopub.status.idle": "2022-06-07T06:06:39.477203Z",
     "shell.execute_reply": "2022-06-07T06:06:39.477452Z"
    },
    "id": "5b51f161",
    "papermill": {
     "duration": 0.010663,
     "end_time": "2022-06-07T06:06:39.477591",
     "exception": false,
     "start_time": "2022-06-07T06:06:39.466928",
     "status": "completed"
    },
    "tags": []
   },
   "outputs": [],
   "source": [
    "#Parameters \n",
    "n_features = 5\n",
    "n_samples= 100\n",
    "n_target = 1 "
   ]
  },
  {
   "cell_type": "code",
   "execution_count": 6,
   "id": "5d6eced4",
   "metadata": {
    "execution": {
     "iopub.execute_input": "2022-06-07T06:06:39.496281Z",
     "iopub.status.busy": "2022-06-07T06:06:39.495828Z",
     "iopub.status.idle": "2022-06-07T06:06:39.501036Z",
     "shell.execute_reply": "2022-06-07T06:06:39.501293Z"
    },
    "id": "5d6eced4",
    "papermill": {
     "duration": 0.016431,
     "end_time": "2022-06-07T06:06:39.501412",
     "exception": false,
     "start_time": "2022-06-07T06:06:39.484981",
     "status": "completed"
    },
    "tags": []
   },
   "outputs": [
    {
     "name": "stdout",
     "output_type": "stream",
     "text": [
      "         X0        X1        X2        X3        X4         Y\n",
      "0 -1.494822  0.018213 -0.490010 -1.163143  1.093355 -1.346105\n",
      "1 -1.625025 -0.421715  0.102224 -0.071627  0.102626 -1.315393\n",
      "2  0.677297  1.411832  0.607952 -1.608454 -0.725686 -0.881937\n",
      "3  0.835701 -1.564439  1.744495 -0.722961 -0.698108 -1.420079\n",
      "4  0.802321 -1.571158  1.556392 -1.628713  1.636603 -1.510246\n"
     ]
    }
   ],
   "source": [
    "X,Y = friedman1Dataset.friedman1_data(n_samples,n_features)"
   ]
  },
  {
   "cell_type": "code",
   "execution_count": 7,
   "id": "fe007438",
   "metadata": {
    "execution": {
     "iopub.execute_input": "2022-06-07T06:06:39.519034Z",
     "iopub.status.busy": "2022-06-07T06:06:39.518650Z",
     "iopub.status.idle": "2022-06-07T06:06:39.520028Z",
     "shell.execute_reply": "2022-06-07T06:06:39.520262Z"
    },
    "id": "fe007438",
    "papermill": {
     "duration": 0.011449,
     "end_time": "2022-06-07T06:06:39.520376",
     "exception": false,
     "start_time": "2022-06-07T06:06:39.508927",
     "status": "completed"
    },
    "tags": []
   },
   "outputs": [],
   "source": [
    "#Train test split for dataset \n",
    "X_train,X_test,Y_train,Y_test = train_test_split(X,Y,test_size = 0.2)\n",
    "train_data = dataset.CustomDataset(X_train,Y_train)\n",
    "test_data = dataset.CustomDataset(X_test,Y_test)\n"
   ]
  },
  {
   "cell_type": "markdown",
   "id": "a9a1af34",
   "metadata": {
    "id": "a9a1af34",
    "papermill": {
     "duration": 0.007138,
     "end_time": "2022-06-07T06:06:39.534855",
     "exception": false,
     "start_time": "2022-06-07T06:06:39.527717",
     "status": "completed"
    },
    "tags": []
   },
   "source": [
    "## Training Parameters "
   ]
  },
  {
   "cell_type": "code",
   "execution_count": 8,
   "id": "952b7fc8",
   "metadata": {
    "execution": {
     "iopub.execute_input": "2022-06-07T06:06:39.551591Z",
     "iopub.status.busy": "2022-06-07T06:06:39.551227Z",
     "iopub.status.idle": "2022-06-07T06:06:39.552463Z",
     "shell.execute_reply": "2022-06-07T06:06:39.552706Z"
    },
    "id": "952b7fc8",
    "papermill": {
     "duration": 0.010801,
     "end_time": "2022-06-07T06:06:39.552819",
     "exception": false,
     "start_time": "2022-06-07T06:06:39.542018",
     "status": "completed"
    },
    "tags": []
   },
   "outputs": [],
   "source": [
    "batch_size = 32\n",
    "n_epochs = 1000\n",
    "#Select the device \n",
    "device = torch.device('cuda' if torch.cuda.is_available() else 'cpu')"
   ]
  },
  {
   "cell_type": "markdown",
   "id": "a95e1600",
   "metadata": {
    "id": "a95e1600",
    "papermill": {
     "duration": 0.007149,
     "end_time": "2022-06-07T06:06:39.567241",
     "exception": false,
     "start_time": "2022-06-07T06:06:39.560092",
     "status": "completed"
    },
    "tags": []
   },
   "source": [
    "# ABC Pre-generator Model \n",
    "\n",
    "1. The catboost model is used as a pre-generator model for the ABC-GAN. \n",
    "2. The model is first trained on the entire dataset \n",
    "3. It generats X,Y pairs and we add some Gaussian noise with mean 0 and variance 1 to it which is then feed as input to the generator.\n"
   ]
  },
  {
   "cell_type": "code",
   "execution_count": 9,
   "id": "ff8ce7bd",
   "metadata": {
    "execution": {
     "iopub.execute_input": "2022-06-07T06:06:39.585287Z",
     "iopub.status.busy": "2022-06-07T06:06:39.584915Z",
     "iopub.status.idle": "2022-06-07T06:06:40.209207Z",
     "shell.execute_reply": "2022-06-07T06:06:40.209462Z"
    },
    "id": "ff8ce7bd",
    "papermill": {
     "duration": 0.635123,
     "end_time": "2022-06-07T06:06:40.209589",
     "exception": false,
     "start_time": "2022-06-07T06:06:39.574466",
     "status": "completed"
    },
    "tags": []
   },
   "outputs": [
    {
     "name": "stdout",
     "output_type": "stream",
     "text": [
      "Learning rate set to 0.024897\n",
      "0:\tlearn: 0.9179921\ttotal: 57.4ms\tremaining: 57.4s\n",
      "1:\tlearn: 0.9101902\ttotal: 58ms\tremaining: 29s\n",
      "2:\tlearn: 0.9024795\ttotal: 58.4ms\tremaining: 19.4s\n",
      "3:\tlearn: 0.8938065\ttotal: 58.9ms\tremaining: 14.7s\n",
      "4:\tlearn: 0.8868256\ttotal: 59.5ms\tremaining: 11.8s\n",
      "5:\tlearn: 0.8784443\ttotal: 60.1ms\tremaining: 9.96s\n",
      "6:\tlearn: 0.8688394\ttotal: 60.7ms\tremaining: 8.61s\n",
      "7:\tlearn: 0.8602032\ttotal: 61.2ms\tremaining: 7.59s\n",
      "8:\tlearn: 0.8534615\ttotal: 61.7ms\tremaining: 6.79s\n",
      "9:\tlearn: 0.8465251\ttotal: 62.2ms\tremaining: 6.16s\n",
      "10:\tlearn: 0.8386006\ttotal: 62.8ms\tremaining: 5.65s\n",
      "11:\tlearn: 0.8310013\ttotal: 63.4ms\tremaining: 5.22s\n",
      "12:\tlearn: 0.8232309\ttotal: 63.9ms\tremaining: 4.85s\n",
      "13:\tlearn: 0.8164583\ttotal: 64.3ms\tremaining: 4.53s\n",
      "14:\tlearn: 0.8112784\ttotal: 64.9ms\tremaining: 4.26s\n",
      "15:\tlearn: 0.8046304\ttotal: 65.3ms\tremaining: 4.02s\n",
      "16:\tlearn: 0.7987961\ttotal: 65.8ms\tremaining: 3.81s\n",
      "17:\tlearn: 0.7905563\ttotal: 66.3ms\tremaining: 3.62s\n",
      "18:\tlearn: 0.7835403\ttotal: 66.8ms\tremaining: 3.45s\n",
      "19:\tlearn: 0.7766173\ttotal: 67.3ms\tremaining: 3.3s\n",
      "20:\tlearn: 0.7710475\ttotal: 67.9ms\tremaining: 3.16s\n",
      "21:\tlearn: 0.7648082\ttotal: 68.3ms\tremaining: 3.04s\n",
      "22:\tlearn: 0.7588921\ttotal: 68.7ms\tremaining: 2.92s\n",
      "23:\tlearn: 0.7536601\ttotal: 69.2ms\tremaining: 2.81s\n",
      "24:\tlearn: 0.7473368\ttotal: 69.8ms\tremaining: 2.72s\n",
      "25:\tlearn: 0.7405356\ttotal: 70.2ms\tremaining: 2.63s\n",
      "26:\tlearn: 0.7345359\ttotal: 70.7ms\tremaining: 2.55s\n",
      "27:\tlearn: 0.7280408\ttotal: 71.1ms\tremaining: 2.47s\n",
      "28:\tlearn: 0.7217248\ttotal: 71.6ms\tremaining: 2.4s\n",
      "29:\tlearn: 0.7146950\ttotal: 72.1ms\tremaining: 2.33s\n",
      "30:\tlearn: 0.7087889\ttotal: 72.5ms\tremaining: 2.27s\n",
      "31:\tlearn: 0.7026417\ttotal: 72.9ms\tremaining: 2.21s\n",
      "32:\tlearn: 0.6958020\ttotal: 73.4ms\tremaining: 2.15s\n",
      "33:\tlearn: 0.6887409\ttotal: 73.8ms\tremaining: 2.1s\n",
      "34:\tlearn: 0.6837397\ttotal: 74.4ms\tremaining: 2.05s\n",
      "35:\tlearn: 0.6778382\ttotal: 74.9ms\tremaining: 2s\n",
      "36:\tlearn: 0.6721240\ttotal: 75.6ms\tremaining: 1.97s\n",
      "37:\tlearn: 0.6672280\ttotal: 76ms\tremaining: 1.92s\n",
      "38:\tlearn: 0.6625345\ttotal: 76.3ms\tremaining: 1.88s\n",
      "39:\tlearn: 0.6553229\ttotal: 76.7ms\tremaining: 1.84s\n",
      "40:\tlearn: 0.6504505\ttotal: 77.1ms\tremaining: 1.8s\n",
      "41:\tlearn: 0.6453672\ttotal: 77.5ms\tremaining: 1.77s\n",
      "42:\tlearn: 0.6393196\ttotal: 78ms\tremaining: 1.74s\n",
      "43:\tlearn: 0.6337366\ttotal: 78.5ms\tremaining: 1.71s\n",
      "44:\tlearn: 0.6290926\ttotal: 78.9ms\tremaining: 1.67s\n",
      "45:\tlearn: 0.6232386\ttotal: 79.4ms\tremaining: 1.65s\n",
      "46:\tlearn: 0.6188500\ttotal: 79.8ms\tremaining: 1.62s\n",
      "47:\tlearn: 0.6143907\ttotal: 80.3ms\tremaining: 1.59s\n",
      "48:\tlearn: 0.6096537\ttotal: 80.7ms\tremaining: 1.57s\n",
      "49:\tlearn: 0.6057301\ttotal: 81.1ms\tremaining: 1.54s\n",
      "50:\tlearn: 0.5999240\ttotal: 81.5ms\tremaining: 1.52s\n",
      "51:\tlearn: 0.5953452\ttotal: 82.1ms\tremaining: 1.5s\n",
      "52:\tlearn: 0.5901372\ttotal: 82.6ms\tremaining: 1.48s\n",
      "53:\tlearn: 0.5860699\ttotal: 83.1ms\tremaining: 1.46s\n",
      "54:\tlearn: 0.5819046\ttotal: 83.4ms\tremaining: 1.43s\n",
      "55:\tlearn: 0.5779146\ttotal: 83.9ms\tremaining: 1.41s\n",
      "56:\tlearn: 0.5730938\ttotal: 84.3ms\tremaining: 1.4s\n",
      "57:\tlearn: 0.5683293\ttotal: 84.8ms\tremaining: 1.38s\n",
      "58:\tlearn: 0.5649178\ttotal: 85.3ms\tremaining: 1.36s\n",
      "59:\tlearn: 0.5613848\ttotal: 86ms\tremaining: 1.35s\n",
      "60:\tlearn: 0.5565626\ttotal: 86.5ms\tremaining: 1.33s\n",
      "61:\tlearn: 0.5516234\ttotal: 87.1ms\tremaining: 1.32s\n",
      "62:\tlearn: 0.5473087\ttotal: 87.4ms\tremaining: 1.3s\n",
      "63:\tlearn: 0.5430460\ttotal: 87.8ms\tremaining: 1.28s\n",
      "64:\tlearn: 0.5392763\ttotal: 88.4ms\tremaining: 1.27s\n",
      "65:\tlearn: 0.5357343\ttotal: 88.9ms\tremaining: 1.26s\n",
      "66:\tlearn: 0.5311183\ttotal: 89.4ms\tremaining: 1.25s\n",
      "67:\tlearn: 0.5273778\ttotal: 89.8ms\tremaining: 1.23s\n",
      "68:\tlearn: 0.5221941\ttotal: 90.3ms\tremaining: 1.22s\n",
      "69:\tlearn: 0.5177864\ttotal: 90.7ms\tremaining: 1.2s\n",
      "70:\tlearn: 0.5144514\ttotal: 91.3ms\tremaining: 1.19s\n",
      "71:\tlearn: 0.5110288\ttotal: 91.8ms\tremaining: 1.18s\n",
      "72:\tlearn: 0.5082092\ttotal: 92.5ms\tremaining: 1.17s\n",
      "73:\tlearn: 0.5039017\ttotal: 92.9ms\tremaining: 1.16s\n",
      "74:\tlearn: 0.4995025\ttotal: 93.5ms\tremaining: 1.15s\n",
      "75:\tlearn: 0.4968388\ttotal: 94ms\tremaining: 1.14s\n",
      "76:\tlearn: 0.4938498\ttotal: 94.5ms\tremaining: 1.13s\n",
      "77:\tlearn: 0.4896873\ttotal: 95.1ms\tremaining: 1.12s\n",
      "78:\tlearn: 0.4860120\ttotal: 95.7ms\tremaining: 1.11s\n",
      "79:\tlearn: 0.4821791\ttotal: 96.2ms\tremaining: 1.1s\n",
      "80:\tlearn: 0.4785979\ttotal: 96.7ms\tremaining: 1.1s\n",
      "81:\tlearn: 0.4743812\ttotal: 97.2ms\tremaining: 1.09s\n",
      "82:\tlearn: 0.4702750\ttotal: 97.6ms\tremaining: 1.08s\n",
      "83:\tlearn: 0.4665577\ttotal: 98ms\tremaining: 1.07s\n",
      "84:\tlearn: 0.4631047\ttotal: 98.7ms\tremaining: 1.06s\n",
      "85:\tlearn: 0.4594424\ttotal: 99.1ms\tremaining: 1.05s\n",
      "86:\tlearn: 0.4562673\ttotal: 99.6ms\tremaining: 1.04s\n",
      "87:\tlearn: 0.4524910\ttotal: 100ms\tremaining: 1.04s\n",
      "88:\tlearn: 0.4493650\ttotal: 101ms\tremaining: 1.03s\n",
      "89:\tlearn: 0.4468995\ttotal: 101ms\tremaining: 1.02s\n",
      "90:\tlearn: 0.4437825\ttotal: 102ms\tremaining: 1.02s\n",
      "91:\tlearn: 0.4402938\ttotal: 102ms\tremaining: 1.01s\n",
      "92:\tlearn: 0.4371017\ttotal: 103ms\tremaining: 1s\n",
      "93:\tlearn: 0.4339315\ttotal: 103ms\tremaining: 995ms\n",
      "94:\tlearn: 0.4309546\ttotal: 104ms\tremaining: 987ms\n",
      "95:\tlearn: 0.4276033\ttotal: 104ms\tremaining: 982ms\n",
      "96:\tlearn: 0.4242587\ttotal: 105ms\tremaining: 976ms\n",
      "97:\tlearn: 0.4210320\ttotal: 105ms\tremaining: 970ms\n",
      "98:\tlearn: 0.4182791\ttotal: 106ms\tremaining: 963ms\n",
      "99:\tlearn: 0.4151096\ttotal: 106ms\tremaining: 956ms\n"
     ]
    },
    {
     "name": "stdout",
     "output_type": "stream",
     "text": [
      "100:\tlearn: 0.4119676\ttotal: 107ms\tremaining: 949ms\n",
      "101:\tlearn: 0.4085378\ttotal: 107ms\tremaining: 945ms\n",
      "102:\tlearn: 0.4060103\ttotal: 108ms\tremaining: 939ms\n",
      "103:\tlearn: 0.4033821\ttotal: 108ms\tremaining: 933ms\n",
      "104:\tlearn: 0.4009634\ttotal: 109ms\tremaining: 927ms\n",
      "105:\tlearn: 0.3972333\ttotal: 109ms\tremaining: 921ms\n",
      "106:\tlearn: 0.3944687\ttotal: 110ms\tremaining: 914ms\n",
      "107:\tlearn: 0.3924266\ttotal: 110ms\tremaining: 908ms\n",
      "108:\tlearn: 0.3895305\ttotal: 110ms\tremaining: 902ms\n",
      "109:\tlearn: 0.3870053\ttotal: 111ms\tremaining: 897ms\n",
      "110:\tlearn: 0.3840779\ttotal: 111ms\tremaining: 891ms\n",
      "111:\tlearn: 0.3815960\ttotal: 112ms\tremaining: 886ms\n",
      "112:\tlearn: 0.3794683\ttotal: 112ms\tremaining: 882ms\n",
      "113:\tlearn: 0.3768301\ttotal: 113ms\tremaining: 877ms\n",
      "114:\tlearn: 0.3744988\ttotal: 113ms\tremaining: 872ms\n",
      "115:\tlearn: 0.3726126\ttotal: 114ms\tremaining: 867ms\n",
      "116:\tlearn: 0.3706934\ttotal: 114ms\tremaining: 862ms\n",
      "117:\tlearn: 0.3678363\ttotal: 115ms\tremaining: 857ms\n",
      "118:\tlearn: 0.3654583\ttotal: 115ms\tremaining: 851ms\n",
      "119:\tlearn: 0.3634413\ttotal: 116ms\tremaining: 847ms\n",
      "120:\tlearn: 0.3607111\ttotal: 116ms\tremaining: 842ms\n",
      "121:\tlearn: 0.3590238\ttotal: 116ms\tremaining: 838ms\n",
      "122:\tlearn: 0.3564725\ttotal: 117ms\tremaining: 835ms\n",
      "123:\tlearn: 0.3542886\ttotal: 117ms\tremaining: 830ms\n",
      "124:\tlearn: 0.3522310\ttotal: 118ms\tremaining: 825ms\n",
      "125:\tlearn: 0.3500074\ttotal: 118ms\tremaining: 820ms\n",
      "126:\tlearn: 0.3478540\ttotal: 119ms\tremaining: 816ms\n",
      "127:\tlearn: 0.3457373\ttotal: 119ms\tremaining: 812ms\n",
      "128:\tlearn: 0.3435227\ttotal: 120ms\tremaining: 809ms\n",
      "129:\tlearn: 0.3412222\ttotal: 120ms\tremaining: 804ms\n",
      "130:\tlearn: 0.3392933\ttotal: 121ms\tremaining: 800ms\n",
      "131:\tlearn: 0.3375181\ttotal: 121ms\tremaining: 797ms\n",
      "132:\tlearn: 0.3355531\ttotal: 122ms\tremaining: 793ms\n",
      "133:\tlearn: 0.3333530\ttotal: 122ms\tremaining: 789ms\n",
      "134:\tlearn: 0.3316425\ttotal: 122ms\tremaining: 784ms\n",
      "135:\tlearn: 0.3298691\ttotal: 123ms\tremaining: 780ms\n",
      "136:\tlearn: 0.3279580\ttotal: 123ms\tremaining: 777ms\n",
      "137:\tlearn: 0.3257386\ttotal: 124ms\tremaining: 773ms\n",
      "138:\tlearn: 0.3238378\ttotal: 124ms\tremaining: 769ms\n",
      "139:\tlearn: 0.3216544\ttotal: 125ms\tremaining: 765ms\n",
      "140:\tlearn: 0.3195211\ttotal: 126ms\tremaining: 765ms\n",
      "141:\tlearn: 0.3172362\ttotal: 126ms\tremaining: 761ms\n",
      "142:\tlearn: 0.3151406\ttotal: 126ms\tremaining: 758ms\n",
      "143:\tlearn: 0.3131810\ttotal: 127ms\tremaining: 755ms\n",
      "144:\tlearn: 0.3110197\ttotal: 127ms\tremaining: 751ms\n",
      "145:\tlearn: 0.3091455\ttotal: 128ms\tremaining: 747ms\n",
      "146:\tlearn: 0.3076669\ttotal: 128ms\tremaining: 745ms\n",
      "147:\tlearn: 0.3060388\ttotal: 129ms\tremaining: 741ms\n",
      "148:\tlearn: 0.3043403\ttotal: 129ms\tremaining: 738ms\n",
      "149:\tlearn: 0.3024232\ttotal: 130ms\tremaining: 735ms\n",
      "150:\tlearn: 0.3005227\ttotal: 130ms\tremaining: 732ms\n",
      "151:\tlearn: 0.2987988\ttotal: 131ms\tremaining: 729ms\n",
      "152:\tlearn: 0.2976215\ttotal: 131ms\tremaining: 726ms\n",
      "153:\tlearn: 0.2960981\ttotal: 132ms\tremaining: 724ms\n",
      "154:\tlearn: 0.2943611\ttotal: 132ms\tremaining: 722ms\n",
      "155:\tlearn: 0.2924730\ttotal: 133ms\tremaining: 718ms\n",
      "156:\tlearn: 0.2906253\ttotal: 133ms\tremaining: 716ms\n",
      "157:\tlearn: 0.2890489\ttotal: 134ms\tremaining: 712ms\n",
      "158:\tlearn: 0.2870683\ttotal: 134ms\tremaining: 709ms\n",
      "159:\tlearn: 0.2853603\ttotal: 135ms\tremaining: 707ms\n",
      "160:\tlearn: 0.2834191\ttotal: 135ms\tremaining: 705ms\n",
      "161:\tlearn: 0.2818201\ttotal: 136ms\tremaining: 702ms\n",
      "162:\tlearn: 0.2803055\ttotal: 136ms\tremaining: 700ms\n",
      "163:\tlearn: 0.2790197\ttotal: 137ms\tremaining: 696ms\n",
      "164:\tlearn: 0.2775534\ttotal: 137ms\tremaining: 694ms\n",
      "165:\tlearn: 0.2760465\ttotal: 138ms\tremaining: 692ms\n",
      "166:\tlearn: 0.2746203\ttotal: 138ms\tremaining: 688ms\n",
      "167:\tlearn: 0.2727504\ttotal: 138ms\tremaining: 686ms\n",
      "168:\tlearn: 0.2713650\ttotal: 139ms\tremaining: 684ms\n",
      "169:\tlearn: 0.2699707\ttotal: 140ms\tremaining: 682ms\n",
      "170:\tlearn: 0.2682913\ttotal: 140ms\tremaining: 680ms\n",
      "171:\tlearn: 0.2665040\ttotal: 141ms\tremaining: 677ms\n",
      "172:\tlearn: 0.2648468\ttotal: 141ms\tremaining: 675ms\n",
      "173:\tlearn: 0.2633330\ttotal: 142ms\tremaining: 673ms\n",
      "174:\tlearn: 0.2617771\ttotal: 142ms\tremaining: 670ms\n",
      "175:\tlearn: 0.2602999\ttotal: 143ms\tremaining: 668ms\n",
      "176:\tlearn: 0.2588564\ttotal: 143ms\tremaining: 665ms\n",
      "177:\tlearn: 0.2574300\ttotal: 143ms\tremaining: 663ms\n",
      "178:\tlearn: 0.2558755\ttotal: 144ms\tremaining: 660ms\n",
      "179:\tlearn: 0.2547108\ttotal: 144ms\tremaining: 658ms\n",
      "180:\tlearn: 0.2529969\ttotal: 145ms\tremaining: 656ms\n",
      "181:\tlearn: 0.2510723\ttotal: 145ms\tremaining: 653ms\n",
      "182:\tlearn: 0.2496776\ttotal: 146ms\tremaining: 650ms\n",
      "183:\tlearn: 0.2479700\ttotal: 146ms\tremaining: 648ms\n",
      "184:\tlearn: 0.2465552\ttotal: 147ms\tremaining: 646ms\n",
      "185:\tlearn: 0.2454268\ttotal: 147ms\tremaining: 644ms\n",
      "186:\tlearn: 0.2441798\ttotal: 148ms\tremaining: 643ms\n",
      "187:\tlearn: 0.2434237\ttotal: 148ms\tremaining: 640ms\n",
      "188:\tlearn: 0.2424545\ttotal: 149ms\tremaining: 638ms\n",
      "189:\tlearn: 0.2410368\ttotal: 149ms\tremaining: 636ms\n",
      "190:\tlearn: 0.2392234\ttotal: 150ms\tremaining: 634ms\n",
      "191:\tlearn: 0.2379497\ttotal: 150ms\tremaining: 632ms\n",
      "192:\tlearn: 0.2367444\ttotal: 151ms\tremaining: 630ms\n",
      "193:\tlearn: 0.2350963\ttotal: 151ms\tremaining: 628ms\n",
      "194:\tlearn: 0.2341018\ttotal: 152ms\tremaining: 626ms\n",
      "195:\tlearn: 0.2327323\ttotal: 152ms\tremaining: 624ms\n",
      "196:\tlearn: 0.2311323\ttotal: 153ms\tremaining: 622ms\n",
      "197:\tlearn: 0.2299300\ttotal: 153ms\tremaining: 620ms\n",
      "198:\tlearn: 0.2286897\ttotal: 154ms\tremaining: 618ms\n",
      "199:\tlearn: 0.2276936\ttotal: 154ms\tremaining: 617ms\n",
      "200:\tlearn: 0.2264327\ttotal: 155ms\tremaining: 615ms\n",
      "201:\tlearn: 0.2252534\ttotal: 155ms\tremaining: 613ms\n",
      "202:\tlearn: 0.2238834\ttotal: 156ms\tremaining: 612ms\n",
      "203:\tlearn: 0.2225750\ttotal: 156ms\tremaining: 610ms\n",
      "204:\tlearn: 0.2208483\ttotal: 157ms\tremaining: 609ms\n",
      "205:\tlearn: 0.2190101\ttotal: 157ms\tremaining: 607ms\n",
      "206:\tlearn: 0.2173031\ttotal: 158ms\tremaining: 605ms\n",
      "207:\tlearn: 0.2159449\ttotal: 158ms\tremaining: 603ms\n",
      "208:\tlearn: 0.2149971\ttotal: 159ms\tremaining: 601ms\n",
      "209:\tlearn: 0.2136978\ttotal: 159ms\tremaining: 599ms\n",
      "210:\tlearn: 0.2124744\ttotal: 160ms\tremaining: 598ms\n",
      "211:\tlearn: 0.2112153\ttotal: 160ms\tremaining: 595ms\n",
      "212:\tlearn: 0.2097858\ttotal: 161ms\tremaining: 594ms\n",
      "213:\tlearn: 0.2086669\ttotal: 161ms\tremaining: 592ms\n",
      "214:\tlearn: 0.2074991\ttotal: 162ms\tremaining: 590ms\n",
      "215:\tlearn: 0.2065056\ttotal: 162ms\tremaining: 589ms\n",
      "216:\tlearn: 0.2051904\ttotal: 163ms\tremaining: 587ms\n",
      "217:\tlearn: 0.2044022\ttotal: 163ms\tremaining: 585ms\n",
      "218:\tlearn: 0.2037430\ttotal: 164ms\tremaining: 583ms\n",
      "219:\tlearn: 0.2023982\ttotal: 164ms\tremaining: 582ms\n",
      "220:\tlearn: 0.2011621\ttotal: 165ms\tremaining: 581ms\n",
      "221:\tlearn: 0.2000529\ttotal: 165ms\tremaining: 580ms\n",
      "222:\tlearn: 0.1987220\ttotal: 166ms\tremaining: 578ms\n",
      "223:\tlearn: 0.1977844\ttotal: 166ms\tremaining: 576ms\n",
      "224:\tlearn: 0.1966979\ttotal: 167ms\tremaining: 575ms\n",
      "225:\tlearn: 0.1957592\ttotal: 167ms\tremaining: 574ms\n",
      "226:\tlearn: 0.1945937\ttotal: 168ms\tremaining: 572ms\n",
      "227:\tlearn: 0.1932835\ttotal: 168ms\tremaining: 570ms\n",
      "228:\tlearn: 0.1920992\ttotal: 169ms\tremaining: 569ms\n",
      "229:\tlearn: 0.1912372\ttotal: 169ms\tremaining: 567ms\n",
      "230:\tlearn: 0.1903792\ttotal: 170ms\tremaining: 566ms\n",
      "231:\tlearn: 0.1890845\ttotal: 170ms\tremaining: 564ms\n",
      "232:\tlearn: 0.1879798\ttotal: 171ms\tremaining: 563ms\n",
      "233:\tlearn: 0.1869208\ttotal: 171ms\tremaining: 561ms\n",
      "234:\tlearn: 0.1857631\ttotal: 172ms\tremaining: 559ms\n",
      "235:\tlearn: 0.1851126\ttotal: 172ms\tremaining: 558ms\n",
      "236:\tlearn: 0.1840455\ttotal: 173ms\tremaining: 556ms\n",
      "237:\tlearn: 0.1831065\ttotal: 173ms\tremaining: 555ms\n",
      "238:\tlearn: 0.1821717\ttotal: 174ms\tremaining: 553ms\n",
      "239:\tlearn: 0.1811853\ttotal: 174ms\tremaining: 552ms\n",
      "240:\tlearn: 0.1797857\ttotal: 175ms\tremaining: 550ms\n",
      "241:\tlearn: 0.1788559\ttotal: 175ms\tremaining: 549ms\n",
      "242:\tlearn: 0.1775739\ttotal: 176ms\tremaining: 547ms\n",
      "243:\tlearn: 0.1768327\ttotal: 176ms\tremaining: 546ms\n",
      "244:\tlearn: 0.1762588\ttotal: 177ms\tremaining: 545ms\n",
      "245:\tlearn: 0.1752886\ttotal: 177ms\tremaining: 543ms\n",
      "246:\tlearn: 0.1741104\ttotal: 178ms\tremaining: 541ms\n",
      "247:\tlearn: 0.1730218\ttotal: 178ms\tremaining: 540ms\n",
      "248:\tlearn: 0.1723857\ttotal: 179ms\tremaining: 539ms\n",
      "249:\tlearn: 0.1718965\ttotal: 179ms\tremaining: 537ms\n",
      "250:\tlearn: 0.1707347\ttotal: 180ms\tremaining: 536ms\n",
      "251:\tlearn: 0.1696274\ttotal: 180ms\tremaining: 534ms\n",
      "252:\tlearn: 0.1690908\ttotal: 180ms\tremaining: 533ms\n",
      "253:\tlearn: 0.1679264\ttotal: 181ms\tremaining: 531ms\n",
      "254:\tlearn: 0.1673522\ttotal: 181ms\tremaining: 530ms\n",
      "255:\tlearn: 0.1663987\ttotal: 182ms\tremaining: 528ms\n",
      "256:\tlearn: 0.1655829\ttotal: 182ms\tremaining: 527ms\n",
      "257:\tlearn: 0.1645058\ttotal: 183ms\tremaining: 525ms\n",
      "258:\tlearn: 0.1635895\ttotal: 183ms\tremaining: 524ms\n",
      "259:\tlearn: 0.1624274\ttotal: 184ms\tremaining: 523ms\n",
      "260:\tlearn: 0.1615068\ttotal: 184ms\tremaining: 521ms\n",
      "261:\tlearn: 0.1611322\ttotal: 184ms\tremaining: 519ms\n",
      "262:\tlearn: 0.1602343\ttotal: 185ms\tremaining: 518ms\n",
      "263:\tlearn: 0.1592584\ttotal: 185ms\tremaining: 516ms\n",
      "264:\tlearn: 0.1586908\ttotal: 186ms\tremaining: 515ms\n"
     ]
    },
    {
     "name": "stdout",
     "output_type": "stream",
     "text": [
      "265:\tlearn: 0.1582276\ttotal: 186ms\tremaining: 514ms\n",
      "266:\tlearn: 0.1574777\ttotal: 187ms\tremaining: 513ms\n",
      "267:\tlearn: 0.1569948\ttotal: 187ms\tremaining: 512ms\n",
      "268:\tlearn: 0.1564373\ttotal: 188ms\tremaining: 510ms\n",
      "269:\tlearn: 0.1556303\ttotal: 188ms\tremaining: 509ms\n",
      "270:\tlearn: 0.1552296\ttotal: 189ms\tremaining: 508ms\n",
      "271:\tlearn: 0.1542250\ttotal: 189ms\tremaining: 506ms\n",
      "272:\tlearn: 0.1532344\ttotal: 190ms\tremaining: 505ms\n",
      "273:\tlearn: 0.1524271\ttotal: 190ms\tremaining: 504ms\n",
      "274:\tlearn: 0.1515559\ttotal: 191ms\tremaining: 502ms\n",
      "275:\tlearn: 0.1506379\ttotal: 191ms\tremaining: 501ms\n",
      "276:\tlearn: 0.1498357\ttotal: 191ms\tremaining: 500ms\n",
      "277:\tlearn: 0.1493408\ttotal: 192ms\tremaining: 498ms\n",
      "278:\tlearn: 0.1486785\ttotal: 192ms\tremaining: 497ms\n",
      "279:\tlearn: 0.1480144\ttotal: 193ms\tremaining: 496ms\n",
      "280:\tlearn: 0.1472679\ttotal: 193ms\tremaining: 495ms\n",
      "281:\tlearn: 0.1469098\ttotal: 194ms\tremaining: 493ms\n",
      "282:\tlearn: 0.1461556\ttotal: 194ms\tremaining: 492ms\n",
      "283:\tlearn: 0.1451714\ttotal: 195ms\tremaining: 491ms\n",
      "284:\tlearn: 0.1444244\ttotal: 195ms\tremaining: 490ms\n",
      "285:\tlearn: 0.1437947\ttotal: 196ms\tremaining: 489ms\n",
      "286:\tlearn: 0.1427637\ttotal: 196ms\tremaining: 488ms\n",
      "287:\tlearn: 0.1419370\ttotal: 197ms\tremaining: 486ms\n",
      "288:\tlearn: 0.1415975\ttotal: 197ms\tremaining: 485ms\n",
      "289:\tlearn: 0.1407271\ttotal: 198ms\tremaining: 484ms\n",
      "290:\tlearn: 0.1396978\ttotal: 198ms\tremaining: 483ms\n",
      "291:\tlearn: 0.1389344\ttotal: 199ms\tremaining: 482ms\n",
      "292:\tlearn: 0.1382109\ttotal: 199ms\tremaining: 480ms\n",
      "293:\tlearn: 0.1375203\ttotal: 199ms\tremaining: 479ms\n",
      "294:\tlearn: 0.1368756\ttotal: 200ms\tremaining: 478ms\n",
      "295:\tlearn: 0.1362835\ttotal: 200ms\tremaining: 476ms\n",
      "296:\tlearn: 0.1358134\ttotal: 201ms\tremaining: 475ms\n",
      "297:\tlearn: 0.1350560\ttotal: 201ms\tremaining: 474ms\n",
      "298:\tlearn: 0.1343684\ttotal: 202ms\tremaining: 473ms\n",
      "299:\tlearn: 0.1336849\ttotal: 202ms\tremaining: 471ms\n",
      "300:\tlearn: 0.1328522\ttotal: 203ms\tremaining: 471ms\n",
      "301:\tlearn: 0.1321301\ttotal: 203ms\tremaining: 469ms\n",
      "302:\tlearn: 0.1312375\ttotal: 203ms\tremaining: 468ms\n",
      "303:\tlearn: 0.1305617\ttotal: 204ms\tremaining: 467ms\n",
      "304:\tlearn: 0.1302558\ttotal: 204ms\tremaining: 465ms\n",
      "305:\tlearn: 0.1298672\ttotal: 205ms\tremaining: 464ms\n",
      "306:\tlearn: 0.1293438\ttotal: 205ms\tremaining: 463ms\n",
      "307:\tlearn: 0.1286836\ttotal: 206ms\tremaining: 462ms\n",
      "308:\tlearn: 0.1283437\ttotal: 206ms\tremaining: 461ms\n",
      "309:\tlearn: 0.1276393\ttotal: 206ms\tremaining: 460ms\n",
      "310:\tlearn: 0.1269713\ttotal: 207ms\tremaining: 458ms\n",
      "311:\tlearn: 0.1261429\ttotal: 207ms\tremaining: 457ms\n",
      "312:\tlearn: 0.1254717\ttotal: 208ms\tremaining: 456ms\n",
      "313:\tlearn: 0.1252262\ttotal: 208ms\tremaining: 455ms\n",
      "314:\tlearn: 0.1249805\ttotal: 209ms\tremaining: 454ms\n",
      "315:\tlearn: 0.1246648\ttotal: 209ms\tremaining: 453ms\n",
      "316:\tlearn: 0.1238362\ttotal: 210ms\tremaining: 452ms\n",
      "317:\tlearn: 0.1235103\ttotal: 210ms\tremaining: 451ms\n",
      "318:\tlearn: 0.1225165\ttotal: 210ms\tremaining: 449ms\n",
      "319:\tlearn: 0.1214795\ttotal: 211ms\tremaining: 448ms\n",
      "320:\tlearn: 0.1212645\ttotal: 211ms\tremaining: 447ms\n",
      "321:\tlearn: 0.1207052\ttotal: 212ms\tremaining: 446ms\n",
      "322:\tlearn: 0.1202447\ttotal: 212ms\tremaining: 445ms\n",
      "323:\tlearn: 0.1199905\ttotal: 213ms\tremaining: 444ms\n",
      "324:\tlearn: 0.1192674\ttotal: 213ms\tremaining: 443ms\n",
      "325:\tlearn: 0.1188225\ttotal: 214ms\tremaining: 442ms\n",
      "326:\tlearn: 0.1186180\ttotal: 214ms\tremaining: 441ms\n",
      "327:\tlearn: 0.1181840\ttotal: 215ms\tremaining: 440ms\n",
      "328:\tlearn: 0.1172388\ttotal: 215ms\tremaining: 439ms\n",
      "329:\tlearn: 0.1168152\ttotal: 216ms\tremaining: 438ms\n",
      "330:\tlearn: 0.1166034\ttotal: 216ms\tremaining: 437ms\n",
      "331:\tlearn: 0.1161905\ttotal: 217ms\tremaining: 436ms\n",
      "332:\tlearn: 0.1159559\ttotal: 217ms\tremaining: 435ms\n",
      "333:\tlearn: 0.1157252\ttotal: 217ms\tremaining: 434ms\n",
      "334:\tlearn: 0.1148565\ttotal: 218ms\tremaining: 433ms\n",
      "335:\tlearn: 0.1139004\ttotal: 218ms\tremaining: 432ms\n",
      "336:\tlearn: 0.1131609\ttotal: 219ms\tremaining: 431ms\n",
      "337:\tlearn: 0.1127610\ttotal: 219ms\tremaining: 430ms\n",
      "338:\tlearn: 0.1123774\ttotal: 220ms\tremaining: 429ms\n",
      "339:\tlearn: 0.1120017\ttotal: 220ms\tremaining: 428ms\n",
      "340:\tlearn: 0.1112249\ttotal: 221ms\tremaining: 427ms\n",
      "341:\tlearn: 0.1110478\ttotal: 221ms\tremaining: 426ms\n",
      "342:\tlearn: 0.1108346\ttotal: 222ms\tremaining: 425ms\n",
      "343:\tlearn: 0.1099822\ttotal: 222ms\tremaining: 424ms\n",
      "344:\tlearn: 0.1097737\ttotal: 223ms\tremaining: 423ms\n",
      "345:\tlearn: 0.1095994\ttotal: 223ms\tremaining: 422ms\n",
      "346:\tlearn: 0.1090377\ttotal: 224ms\tremaining: 421ms\n",
      "347:\tlearn: 0.1088345\ttotal: 224ms\tremaining: 420ms\n",
      "348:\tlearn: 0.1081721\ttotal: 225ms\tremaining: 419ms\n",
      "349:\tlearn: 0.1079734\ttotal: 225ms\tremaining: 418ms\n",
      "350:\tlearn: 0.1078104\ttotal: 226ms\tremaining: 417ms\n",
      "351:\tlearn: 0.1074638\ttotal: 226ms\tremaining: 416ms\n",
      "352:\tlearn: 0.1071244\ttotal: 227ms\tremaining: 415ms\n",
      "353:\tlearn: 0.1063112\ttotal: 227ms\tremaining: 414ms\n",
      "354:\tlearn: 0.1061284\ttotal: 228ms\tremaining: 414ms\n",
      "355:\tlearn: 0.1057996\ttotal: 228ms\tremaining: 413ms\n",
      "356:\tlearn: 0.1049813\ttotal: 229ms\tremaining: 412ms\n",
      "357:\tlearn: 0.1048298\ttotal: 229ms\tremaining: 411ms\n",
      "358:\tlearn: 0.1046470\ttotal: 230ms\tremaining: 410ms\n",
      "359:\tlearn: 0.1037920\ttotal: 230ms\tremaining: 409ms\n",
      "360:\tlearn: 0.1036134\ttotal: 231ms\tremaining: 408ms\n",
      "361:\tlearn: 0.1029483\ttotal: 231ms\tremaining: 407ms\n",
      "362:\tlearn: 0.1026480\ttotal: 232ms\tremaining: 406ms\n",
      "363:\tlearn: 0.1025055\ttotal: 232ms\tremaining: 406ms\n",
      "364:\tlearn: 0.1023329\ttotal: 233ms\tremaining: 405ms\n",
      "365:\tlearn: 0.1017297\ttotal: 233ms\tremaining: 404ms\n",
      "366:\tlearn: 0.1015917\ttotal: 233ms\tremaining: 402ms\n",
      "367:\tlearn: 0.1014556\ttotal: 234ms\tremaining: 402ms\n",
      "368:\tlearn: 0.1008103\ttotal: 234ms\tremaining: 401ms\n",
      "369:\tlearn: 0.1006770\ttotal: 235ms\tremaining: 399ms\n",
      "370:\tlearn: 0.1003803\ttotal: 235ms\tremaining: 398ms\n",
      "371:\tlearn: 0.1002182\ttotal: 235ms\tremaining: 397ms\n",
      "372:\tlearn: 0.1000589\ttotal: 236ms\tremaining: 396ms\n",
      "373:\tlearn: 0.0994820\ttotal: 236ms\tremaining: 396ms\n",
      "374:\tlearn: 0.0993557\ttotal: 237ms\tremaining: 395ms\n",
      "375:\tlearn: 0.0990805\ttotal: 237ms\tremaining: 394ms\n",
      "376:\tlearn: 0.0982887\ttotal: 238ms\tremaining: 393ms\n",
      "377:\tlearn: 0.0976468\ttotal: 238ms\tremaining: 392ms\n",
      "378:\tlearn: 0.0969709\ttotal: 239ms\tremaining: 392ms\n",
      "379:\tlearn: 0.0963899\ttotal: 240ms\tremaining: 391ms\n",
      "380:\tlearn: 0.0962591\ttotal: 240ms\tremaining: 390ms\n",
      "381:\tlearn: 0.0957484\ttotal: 241ms\tremaining: 389ms\n",
      "382:\tlearn: 0.0951852\ttotal: 241ms\tremaining: 388ms\n",
      "383:\tlearn: 0.0950581\ttotal: 242ms\tremaining: 387ms\n",
      "384:\tlearn: 0.0945025\ttotal: 242ms\tremaining: 387ms\n",
      "385:\tlearn: 0.0943775\ttotal: 243ms\tremaining: 386ms\n",
      "386:\tlearn: 0.0942650\ttotal: 243ms\tremaining: 385ms\n",
      "387:\tlearn: 0.0941541\ttotal: 243ms\tremaining: 384ms\n",
      "388:\tlearn: 0.0935929\ttotal: 244ms\tremaining: 383ms\n",
      "389:\tlearn: 0.0928915\ttotal: 244ms\tremaining: 382ms\n",
      "390:\tlearn: 0.0923567\ttotal: 245ms\tremaining: 381ms\n",
      "391:\tlearn: 0.0921121\ttotal: 245ms\tremaining: 380ms\n",
      "392:\tlearn: 0.0919944\ttotal: 246ms\tremaining: 379ms\n",
      "393:\tlearn: 0.0913130\ttotal: 246ms\tremaining: 379ms\n",
      "394:\tlearn: 0.0908425\ttotal: 247ms\tremaining: 378ms\n",
      "395:\tlearn: 0.0907274\ttotal: 248ms\tremaining: 378ms\n",
      "396:\tlearn: 0.0900594\ttotal: 248ms\tremaining: 377ms\n",
      "397:\tlearn: 0.0899266\ttotal: 249ms\tremaining: 376ms\n",
      "398:\tlearn: 0.0897962\ttotal: 249ms\tremaining: 376ms\n",
      "399:\tlearn: 0.0896852\ttotal: 250ms\tremaining: 375ms\n",
      "400:\tlearn: 0.0895754\ttotal: 250ms\tremaining: 374ms\n",
      "401:\tlearn: 0.0889412\ttotal: 251ms\tremaining: 373ms\n",
      "402:\tlearn: 0.0883747\ttotal: 251ms\tremaining: 372ms\n",
      "403:\tlearn: 0.0882562\ttotal: 252ms\tremaining: 372ms\n",
      "404:\tlearn: 0.0877699\ttotal: 252ms\tremaining: 371ms\n",
      "405:\tlearn: 0.0876641\ttotal: 253ms\tremaining: 370ms\n",
      "406:\tlearn: 0.0875594\ttotal: 253ms\tremaining: 369ms\n",
      "407:\tlearn: 0.0874560\ttotal: 254ms\tremaining: 368ms\n",
      "408:\tlearn: 0.0869114\ttotal: 254ms\tremaining: 368ms\n",
      "409:\tlearn: 0.0863688\ttotal: 255ms\tremaining: 367ms\n",
      "410:\tlearn: 0.0862677\ttotal: 255ms\tremaining: 366ms\n",
      "411:\tlearn: 0.0861676\ttotal: 256ms\tremaining: 365ms\n",
      "412:\tlearn: 0.0858079\ttotal: 256ms\tremaining: 364ms\n",
      "413:\tlearn: 0.0857099\ttotal: 257ms\tremaining: 363ms\n",
      "414:\tlearn: 0.0852006\ttotal: 257ms\tremaining: 363ms\n",
      "415:\tlearn: 0.0848537\ttotal: 258ms\tremaining: 362ms\n",
      "416:\tlearn: 0.0846121\ttotal: 258ms\tremaining: 361ms\n",
      "417:\tlearn: 0.0845173\ttotal: 259ms\tremaining: 360ms\n",
      "418:\tlearn: 0.0839974\ttotal: 259ms\tremaining: 359ms\n",
      "419:\tlearn: 0.0836074\ttotal: 260ms\tremaining: 359ms\n",
      "420:\tlearn: 0.0833756\ttotal: 260ms\tremaining: 358ms\n",
      "421:\tlearn: 0.0828736\ttotal: 261ms\tremaining: 357ms\n",
      "422:\tlearn: 0.0823452\ttotal: 261ms\tremaining: 356ms\n",
      "423:\tlearn: 0.0820172\ttotal: 262ms\tremaining: 356ms\n",
      "424:\tlearn: 0.0816264\ttotal: 262ms\tremaining: 355ms\n",
      "425:\tlearn: 0.0813090\ttotal: 263ms\tremaining: 354ms\n",
      "426:\tlearn: 0.0812207\ttotal: 263ms\tremaining: 353ms\n",
      "427:\tlearn: 0.0807312\ttotal: 264ms\tremaining: 353ms\n",
      "428:\tlearn: 0.0803642\ttotal: 264ms\tremaining: 352ms\n",
      "429:\tlearn: 0.0800534\ttotal: 265ms\tremaining: 351ms\n",
      "430:\tlearn: 0.0795856\ttotal: 265ms\tremaining: 350ms\n",
      "431:\tlearn: 0.0792840\ttotal: 266ms\tremaining: 349ms\n",
      "432:\tlearn: 0.0789885\ttotal: 266ms\tremaining: 348ms\n",
      "433:\tlearn: 0.0786322\ttotal: 267ms\tremaining: 348ms\n",
      "434:\tlearn: 0.0781640\ttotal: 267ms\tremaining: 347ms\n",
      "435:\tlearn: 0.0777948\ttotal: 267ms\tremaining: 346ms\n",
      "436:\tlearn: 0.0772947\ttotal: 268ms\tremaining: 345ms\n",
      "437:\tlearn: 0.0768687\ttotal: 268ms\tremaining: 344ms\n",
      "438:\tlearn: 0.0764564\ttotal: 269ms\tremaining: 344ms\n",
      "439:\tlearn: 0.0761260\ttotal: 269ms\tremaining: 343ms\n",
      "440:\tlearn: 0.0757170\ttotal: 270ms\tremaining: 342ms\n",
      "441:\tlearn: 0.0753545\ttotal: 270ms\tremaining: 341ms\n",
      "442:\tlearn: 0.0749110\ttotal: 271ms\tremaining: 340ms\n",
      "443:\tlearn: 0.0744555\ttotal: 271ms\tremaining: 340ms\n",
      "444:\tlearn: 0.0741030\ttotal: 272ms\tremaining: 339ms\n",
      "445:\tlearn: 0.0737572\ttotal: 272ms\tremaining: 338ms\n",
      "446:\tlearn: 0.0733301\ttotal: 273ms\tremaining: 338ms\n"
     ]
    },
    {
     "name": "stdout",
     "output_type": "stream",
     "text": [
      "447:\tlearn: 0.0730076\ttotal: 273ms\tremaining: 337ms\n",
      "448:\tlearn: 0.0725572\ttotal: 274ms\tremaining: 336ms\n",
      "449:\tlearn: 0.0722873\ttotal: 275ms\tremaining: 336ms\n",
      "450:\tlearn: 0.0719066\ttotal: 275ms\tremaining: 335ms\n",
      "451:\tlearn: 0.0716782\ttotal: 275ms\tremaining: 334ms\n",
      "452:\tlearn: 0.0712459\ttotal: 276ms\tremaining: 333ms\n",
      "453:\tlearn: 0.0708927\ttotal: 276ms\tremaining: 332ms\n",
      "454:\tlearn: 0.0705703\ttotal: 277ms\tremaining: 331ms\n",
      "455:\tlearn: 0.0703511\ttotal: 277ms\tremaining: 331ms\n",
      "456:\tlearn: 0.0701363\ttotal: 278ms\tremaining: 330ms\n",
      "457:\tlearn: 0.0699260\ttotal: 278ms\tremaining: 329ms\n",
      "458:\tlearn: 0.0695392\ttotal: 279ms\tremaining: 329ms\n",
      "459:\tlearn: 0.0692052\ttotal: 279ms\tremaining: 328ms\n",
      "460:\tlearn: 0.0688952\ttotal: 280ms\tremaining: 327ms\n",
      "461:\tlearn: 0.0685949\ttotal: 280ms\tremaining: 326ms\n",
      "462:\tlearn: 0.0683101\ttotal: 281ms\tremaining: 326ms\n",
      "463:\tlearn: 0.0680220\ttotal: 281ms\tremaining: 325ms\n",
      "464:\tlearn: 0.0676408\ttotal: 282ms\tremaining: 324ms\n",
      "465:\tlearn: 0.0672614\ttotal: 282ms\tremaining: 323ms\n",
      "466:\tlearn: 0.0669931\ttotal: 283ms\tremaining: 323ms\n",
      "467:\tlearn: 0.0667056\ttotal: 283ms\tremaining: 322ms\n",
      "468:\tlearn: 0.0664243\ttotal: 284ms\tremaining: 321ms\n",
      "469:\tlearn: 0.0661491\ttotal: 284ms\tremaining: 320ms\n",
      "470:\tlearn: 0.0657340\ttotal: 284ms\tremaining: 319ms\n",
      "471:\tlearn: 0.0654654\ttotal: 285ms\tremaining: 319ms\n",
      "472:\tlearn: 0.0650584\ttotal: 285ms\tremaining: 318ms\n",
      "473:\tlearn: 0.0647965\ttotal: 285ms\tremaining: 317ms\n",
      "474:\tlearn: 0.0645419\ttotal: 286ms\tremaining: 316ms\n",
      "475:\tlearn: 0.0642850\ttotal: 286ms\tremaining: 315ms\n",
      "476:\tlearn: 0.0638891\ttotal: 287ms\tremaining: 314ms\n",
      "477:\tlearn: 0.0634219\ttotal: 288ms\tremaining: 314ms\n",
      "478:\tlearn: 0.0631749\ttotal: 288ms\tremaining: 314ms\n",
      "479:\tlearn: 0.0627219\ttotal: 289ms\tremaining: 313ms\n",
      "480:\tlearn: 0.0624460\ttotal: 289ms\tremaining: 312ms\n",
      "481:\tlearn: 0.0622121\ttotal: 289ms\tremaining: 311ms\n",
      "482:\tlearn: 0.0617740\ttotal: 290ms\tremaining: 310ms\n",
      "483:\tlearn: 0.0615061\ttotal: 290ms\tremaining: 309ms\n",
      "484:\tlearn: 0.0610801\ttotal: 291ms\tremaining: 309ms\n",
      "485:\tlearn: 0.0608195\ttotal: 291ms\tremaining: 308ms\n",
      "486:\tlearn: 0.0605644\ttotal: 291ms\tremaining: 307ms\n",
      "487:\tlearn: 0.0602318\ttotal: 292ms\tremaining: 306ms\n",
      "488:\tlearn: 0.0599791\ttotal: 292ms\tremaining: 305ms\n",
      "489:\tlearn: 0.0596514\ttotal: 293ms\tremaining: 305ms\n",
      "490:\tlearn: 0.0594551\ttotal: 293ms\tremaining: 304ms\n",
      "491:\tlearn: 0.0591331\ttotal: 294ms\tremaining: 303ms\n",
      "492:\tlearn: 0.0588884\ttotal: 294ms\tremaining: 302ms\n",
      "493:\tlearn: 0.0584849\ttotal: 295ms\tremaining: 302ms\n",
      "494:\tlearn: 0.0582963\ttotal: 295ms\tremaining: 301ms\n",
      "495:\tlearn: 0.0579145\ttotal: 296ms\tremaining: 300ms\n",
      "496:\tlearn: 0.0577314\ttotal: 296ms\tremaining: 300ms\n",
      "497:\tlearn: 0.0574954\ttotal: 297ms\tremaining: 299ms\n",
      "498:\tlearn: 0.0571900\ttotal: 297ms\tremaining: 298ms\n",
      "499:\tlearn: 0.0570124\ttotal: 297ms\tremaining: 297ms\n",
      "500:\tlearn: 0.0568385\ttotal: 298ms\tremaining: 297ms\n",
      "501:\tlearn: 0.0565397\ttotal: 298ms\tremaining: 296ms\n",
      "502:\tlearn: 0.0561549\ttotal: 299ms\tremaining: 295ms\n",
      "503:\tlearn: 0.0559872\ttotal: 299ms\tremaining: 294ms\n",
      "504:\tlearn: 0.0555829\ttotal: 300ms\tremaining: 294ms\n",
      "505:\tlearn: 0.0551879\ttotal: 300ms\tremaining: 293ms\n",
      "506:\tlearn: 0.0548190\ttotal: 301ms\tremaining: 292ms\n",
      "507:\tlearn: 0.0544362\ttotal: 301ms\tremaining: 292ms\n",
      "508:\tlearn: 0.0540621\ttotal: 301ms\tremaining: 291ms\n",
      "509:\tlearn: 0.0537272\ttotal: 302ms\tremaining: 290ms\n",
      "510:\tlearn: 0.0534464\ttotal: 302ms\tremaining: 289ms\n",
      "511:\tlearn: 0.0531705\ttotal: 303ms\tremaining: 289ms\n",
      "512:\tlearn: 0.0528445\ttotal: 303ms\tremaining: 288ms\n",
      "513:\tlearn: 0.0525671\ttotal: 304ms\tremaining: 287ms\n",
      "514:\tlearn: 0.0522949\ttotal: 304ms\tremaining: 286ms\n",
      "515:\tlearn: 0.0520625\ttotal: 305ms\tremaining: 286ms\n",
      "516:\tlearn: 0.0518157\ttotal: 305ms\tremaining: 285ms\n",
      "517:\tlearn: 0.0515484\ttotal: 306ms\tremaining: 284ms\n",
      "518:\tlearn: 0.0512898\ttotal: 306ms\tremaining: 284ms\n",
      "519:\tlearn: 0.0510682\ttotal: 307ms\tremaining: 284ms\n",
      "520:\tlearn: 0.0508421\ttotal: 308ms\tremaining: 283ms\n",
      "521:\tlearn: 0.0506049\ttotal: 308ms\tremaining: 282ms\n",
      "522:\tlearn: 0.0503574\ttotal: 309ms\tremaining: 282ms\n",
      "523:\tlearn: 0.0502003\ttotal: 309ms\tremaining: 281ms\n",
      "524:\tlearn: 0.0499835\ttotal: 310ms\tremaining: 280ms\n",
      "525:\tlearn: 0.0497732\ttotal: 310ms\tremaining: 279ms\n",
      "526:\tlearn: 0.0495629\ttotal: 311ms\tremaining: 279ms\n",
      "527:\tlearn: 0.0492175\ttotal: 311ms\tremaining: 278ms\n",
      "528:\tlearn: 0.0488790\ttotal: 312ms\tremaining: 277ms\n",
      "529:\tlearn: 0.0486528\ttotal: 312ms\tremaining: 277ms\n",
      "530:\tlearn: 0.0484321\ttotal: 313ms\tremaining: 276ms\n",
      "531:\tlearn: 0.0482166\ttotal: 313ms\tremaining: 276ms\n",
      "532:\tlearn: 0.0480062\ttotal: 314ms\tremaining: 275ms\n",
      "533:\tlearn: 0.0476665\ttotal: 314ms\tremaining: 274ms\n",
      "534:\tlearn: 0.0474855\ttotal: 315ms\tremaining: 273ms\n",
      "535:\tlearn: 0.0472843\ttotal: 315ms\tremaining: 273ms\n",
      "536:\tlearn: 0.0471096\ttotal: 316ms\tremaining: 272ms\n",
      "537:\tlearn: 0.0468378\ttotal: 316ms\tremaining: 272ms\n",
      "538:\tlearn: 0.0466675\ttotal: 317ms\tremaining: 271ms\n",
      "539:\tlearn: 0.0463452\ttotal: 317ms\tremaining: 270ms\n",
      "540:\tlearn: 0.0461558\ttotal: 318ms\tremaining: 270ms\n",
      "541:\tlearn: 0.0459931\ttotal: 318ms\tremaining: 269ms\n",
      "542:\tlearn: 0.0457329\ttotal: 318ms\tremaining: 268ms\n",
      "543:\tlearn: 0.0455743\ttotal: 319ms\tremaining: 267ms\n",
      "544:\tlearn: 0.0453205\ttotal: 319ms\tremaining: 267ms\n",
      "545:\tlearn: 0.0450086\ttotal: 320ms\tremaining: 266ms\n",
      "546:\tlearn: 0.0448303\ttotal: 320ms\tremaining: 265ms\n",
      "547:\tlearn: 0.0446724\ttotal: 320ms\tremaining: 264ms\n",
      "548:\tlearn: 0.0445229\ttotal: 321ms\tremaining: 264ms\n",
      "549:\tlearn: 0.0442796\ttotal: 321ms\tremaining: 263ms\n",
      "550:\tlearn: 0.0441104\ttotal: 322ms\tremaining: 262ms\n",
      "551:\tlearn: 0.0438729\ttotal: 322ms\tremaining: 262ms\n",
      "552:\tlearn: 0.0435687\ttotal: 323ms\tremaining: 261ms\n",
      "553:\tlearn: 0.0432709\ttotal: 323ms\tremaining: 260ms\n",
      "554:\tlearn: 0.0429794\ttotal: 324ms\tremaining: 260ms\n",
      "555:\tlearn: 0.0427317\ttotal: 324ms\tremaining: 259ms\n",
      "556:\tlearn: 0.0424837\ttotal: 325ms\tremaining: 258ms\n",
      "557:\tlearn: 0.0422409\ttotal: 325ms\tremaining: 258ms\n",
      "558:\tlearn: 0.0420955\ttotal: 326ms\tremaining: 257ms\n",
      "559:\tlearn: 0.0418734\ttotal: 326ms\tremaining: 256ms\n",
      "560:\tlearn: 0.0417147\ttotal: 327ms\tremaining: 256ms\n",
      "561:\tlearn: 0.0414806\ttotal: 327ms\tremaining: 255ms\n",
      "562:\tlearn: 0.0412134\ttotal: 328ms\tremaining: 254ms\n",
      "563:\tlearn: 0.0409633\ttotal: 328ms\tremaining: 254ms\n",
      "564:\tlearn: 0.0407340\ttotal: 329ms\tremaining: 253ms\n",
      "565:\tlearn: 0.0406147\ttotal: 329ms\tremaining: 252ms\n",
      "566:\tlearn: 0.0403579\ttotal: 330ms\tremaining: 252ms\n",
      "567:\tlearn: 0.0401361\ttotal: 330ms\tremaining: 251ms\n",
      "568:\tlearn: 0.0398852\ttotal: 331ms\tremaining: 250ms\n",
      "569:\tlearn: 0.0397251\ttotal: 331ms\tremaining: 250ms\n",
      "570:\tlearn: 0.0395897\ttotal: 332ms\tremaining: 249ms\n",
      "571:\tlearn: 0.0394104\ttotal: 332ms\tremaining: 249ms\n",
      "572:\tlearn: 0.0392244\ttotal: 333ms\tremaining: 248ms\n",
      "573:\tlearn: 0.0389839\ttotal: 333ms\tremaining: 247ms\n",
      "574:\tlearn: 0.0388330\ttotal: 334ms\tremaining: 247ms\n",
      "575:\tlearn: 0.0387412\ttotal: 334ms\tremaining: 246ms\n",
      "576:\tlearn: 0.0386099\ttotal: 335ms\tremaining: 245ms\n",
      "577:\tlearn: 0.0384414\ttotal: 335ms\tremaining: 245ms\n",
      "578:\tlearn: 0.0383599\ttotal: 336ms\tremaining: 244ms\n",
      "579:\tlearn: 0.0381894\ttotal: 336ms\tremaining: 244ms\n",
      "580:\tlearn: 0.0379572\ttotal: 337ms\tremaining: 243ms\n",
      "581:\tlearn: 0.0378132\ttotal: 337ms\tremaining: 242ms\n",
      "582:\tlearn: 0.0375795\ttotal: 338ms\tremaining: 242ms\n",
      "583:\tlearn: 0.0374528\ttotal: 338ms\tremaining: 241ms\n",
      "584:\tlearn: 0.0373656\ttotal: 339ms\tremaining: 241ms\n",
      "585:\tlearn: 0.0372057\ttotal: 340ms\tremaining: 240ms\n",
      "586:\tlearn: 0.0370817\ttotal: 340ms\tremaining: 239ms\n",
      "587:\tlearn: 0.0369199\ttotal: 341ms\tremaining: 239ms\n",
      "588:\tlearn: 0.0367602\ttotal: 341ms\tremaining: 238ms\n",
      "589:\tlearn: 0.0366027\ttotal: 342ms\tremaining: 238ms\n",
      "590:\tlearn: 0.0363898\ttotal: 342ms\tremaining: 237ms\n",
      "591:\tlearn: 0.0362207\ttotal: 343ms\tremaining: 236ms\n",
      "592:\tlearn: 0.0361386\ttotal: 343ms\tremaining: 236ms\n",
      "593:\tlearn: 0.0359322\ttotal: 344ms\tremaining: 235ms\n",
      "594:\tlearn: 0.0356800\ttotal: 344ms\tremaining: 234ms\n",
      "595:\tlearn: 0.0354681\ttotal: 345ms\tremaining: 234ms\n",
      "596:\tlearn: 0.0352752\ttotal: 346ms\tremaining: 233ms\n",
      "597:\tlearn: 0.0351142\ttotal: 346ms\tremaining: 233ms\n",
      "598:\tlearn: 0.0348860\ttotal: 347ms\tremaining: 232ms\n",
      "599:\tlearn: 0.0347396\ttotal: 347ms\tremaining: 231ms\n",
      "600:\tlearn: 0.0345952\ttotal: 348ms\tremaining: 231ms\n",
      "601:\tlearn: 0.0344528\ttotal: 348ms\tremaining: 230ms\n",
      "602:\tlearn: 0.0342133\ttotal: 349ms\tremaining: 230ms\n",
      "603:\tlearn: 0.0340589\ttotal: 349ms\tremaining: 229ms\n",
      "604:\tlearn: 0.0338602\ttotal: 350ms\tremaining: 228ms\n",
      "605:\tlearn: 0.0336269\ttotal: 350ms\tremaining: 228ms\n",
      "606:\tlearn: 0.0334116\ttotal: 351ms\tremaining: 227ms\n",
      "607:\tlearn: 0.0332761\ttotal: 351ms\tremaining: 226ms\n",
      "608:\tlearn: 0.0331424\ttotal: 352ms\tremaining: 226ms\n",
      "609:\tlearn: 0.0329517\ttotal: 352ms\tremaining: 225ms\n",
      "610:\tlearn: 0.0327673\ttotal: 353ms\tremaining: 225ms\n"
     ]
    },
    {
     "name": "stdout",
     "output_type": "stream",
     "text": [
      "611:\tlearn: 0.0326518\ttotal: 353ms\tremaining: 224ms\n",
      "612:\tlearn: 0.0325388\ttotal: 354ms\tremaining: 223ms\n",
      "613:\tlearn: 0.0323935\ttotal: 355ms\tremaining: 223ms\n",
      "614:\tlearn: 0.0321876\ttotal: 355ms\tremaining: 222ms\n",
      "615:\tlearn: 0.0320598\ttotal: 356ms\tremaining: 222ms\n",
      "616:\tlearn: 0.0319337\ttotal: 356ms\tremaining: 221ms\n",
      "617:\tlearn: 0.0317859\ttotal: 356ms\tremaining: 220ms\n",
      "618:\tlearn: 0.0316775\ttotal: 357ms\tremaining: 220ms\n",
      "619:\tlearn: 0.0314883\ttotal: 358ms\tremaining: 219ms\n",
      "620:\tlearn: 0.0313501\ttotal: 358ms\tremaining: 218ms\n",
      "621:\tlearn: 0.0311611\ttotal: 358ms\tremaining: 218ms\n",
      "622:\tlearn: 0.0309909\ttotal: 359ms\tremaining: 217ms\n",
      "623:\tlearn: 0.0308066\ttotal: 359ms\tremaining: 217ms\n",
      "624:\tlearn: 0.0306781\ttotal: 360ms\tremaining: 216ms\n",
      "625:\tlearn: 0.0304986\ttotal: 360ms\tremaining: 215ms\n",
      "626:\tlearn: 0.0303158\ttotal: 361ms\tremaining: 215ms\n",
      "627:\tlearn: 0.0302498\ttotal: 361ms\tremaining: 214ms\n",
      "628:\tlearn: 0.0301408\ttotal: 362ms\tremaining: 213ms\n",
      "629:\tlearn: 0.0299622\ttotal: 362ms\tremaining: 213ms\n",
      "630:\tlearn: 0.0298558\ttotal: 363ms\tremaining: 212ms\n",
      "631:\tlearn: 0.0297913\ttotal: 363ms\tremaining: 211ms\n",
      "632:\tlearn: 0.0296425\ttotal: 364ms\tremaining: 211ms\n",
      "633:\tlearn: 0.0294471\ttotal: 364ms\tremaining: 210ms\n",
      "634:\tlearn: 0.0293015\ttotal: 365ms\tremaining: 210ms\n",
      "635:\tlearn: 0.0291752\ttotal: 365ms\tremaining: 209ms\n",
      "636:\tlearn: 0.0290794\ttotal: 366ms\tremaining: 208ms\n",
      "637:\tlearn: 0.0288820\ttotal: 366ms\tremaining: 208ms\n",
      "638:\tlearn: 0.0287142\ttotal: 367ms\tremaining: 207ms\n",
      "639:\tlearn: 0.0285214\ttotal: 367ms\tremaining: 206ms\n",
      "640:\tlearn: 0.0283667\ttotal: 368ms\tremaining: 206ms\n",
      "641:\tlearn: 0.0282039\ttotal: 368ms\tremaining: 205ms\n",
      "642:\tlearn: 0.0280446\ttotal: 368ms\tremaining: 205ms\n",
      "643:\tlearn: 0.0278982\ttotal: 369ms\tremaining: 204ms\n",
      "644:\tlearn: 0.0277127\ttotal: 369ms\tremaining: 203ms\n",
      "645:\tlearn: 0.0275694\ttotal: 370ms\tremaining: 203ms\n",
      "646:\tlearn: 0.0274102\ttotal: 370ms\tremaining: 202ms\n",
      "647:\tlearn: 0.0272355\ttotal: 371ms\tremaining: 201ms\n",
      "648:\tlearn: 0.0270833\ttotal: 371ms\tremaining: 201ms\n",
      "649:\tlearn: 0.0269134\ttotal: 372ms\tremaining: 200ms\n",
      "650:\tlearn: 0.0267390\ttotal: 372ms\tremaining: 200ms\n",
      "651:\tlearn: 0.0266002\ttotal: 373ms\tremaining: 199ms\n",
      "652:\tlearn: 0.0264524\ttotal: 373ms\tremaining: 198ms\n",
      "653:\tlearn: 0.0262840\ttotal: 374ms\tremaining: 198ms\n",
      "654:\tlearn: 0.0261964\ttotal: 374ms\tremaining: 197ms\n",
      "655:\tlearn: 0.0260382\ttotal: 374ms\tremaining: 196ms\n",
      "656:\tlearn: 0.0259254\ttotal: 375ms\tremaining: 196ms\n",
      "657:\tlearn: 0.0257927\ttotal: 375ms\tremaining: 195ms\n",
      "658:\tlearn: 0.0256313\ttotal: 376ms\tremaining: 194ms\n",
      "659:\tlearn: 0.0255472\ttotal: 376ms\tremaining: 194ms\n",
      "660:\tlearn: 0.0254177\ttotal: 377ms\tremaining: 193ms\n",
      "661:\tlearn: 0.0252671\ttotal: 377ms\tremaining: 193ms\n",
      "662:\tlearn: 0.0251180\ttotal: 378ms\tremaining: 192ms\n",
      "663:\tlearn: 0.0249714\ttotal: 378ms\tremaining: 191ms\n",
      "664:\tlearn: 0.0248262\ttotal: 379ms\tremaining: 191ms\n",
      "665:\tlearn: 0.0246936\ttotal: 379ms\tremaining: 190ms\n",
      "666:\tlearn: 0.0245879\ttotal: 380ms\tremaining: 190ms\n",
      "667:\tlearn: 0.0244986\ttotal: 380ms\tremaining: 189ms\n",
      "668:\tlearn: 0.0243585\ttotal: 381ms\tremaining: 188ms\n",
      "669:\tlearn: 0.0242389\ttotal: 381ms\tremaining: 188ms\n",
      "670:\tlearn: 0.0241003\ttotal: 382ms\tremaining: 187ms\n",
      "671:\tlearn: 0.0239650\ttotal: 382ms\tremaining: 186ms\n",
      "672:\tlearn: 0.0239440\ttotal: 382ms\tremaining: 186ms\n",
      "673:\tlearn: 0.0239235\ttotal: 382ms\tremaining: 185ms\n",
      "674:\tlearn: 0.0237914\ttotal: 383ms\tremaining: 184ms\n",
      "675:\tlearn: 0.0237714\ttotal: 383ms\tremaining: 184ms\n",
      "676:\tlearn: 0.0237519\ttotal: 383ms\tremaining: 183ms\n",
      "677:\tlearn: 0.0236875\ttotal: 384ms\tremaining: 182ms\n",
      "678:\tlearn: 0.0235535\ttotal: 384ms\tremaining: 182ms\n",
      "679:\tlearn: 0.0234399\ttotal: 385ms\tremaining: 181ms\n",
      "680:\tlearn: 0.0233170\ttotal: 385ms\tremaining: 180ms\n",
      "681:\tlearn: 0.0232055\ttotal: 386ms\tremaining: 180ms\n",
      "682:\tlearn: 0.0230855\ttotal: 386ms\tremaining: 179ms\n",
      "683:\tlearn: 0.0229752\ttotal: 386ms\tremaining: 179ms\n",
      "684:\tlearn: 0.0228669\ttotal: 387ms\tremaining: 178ms\n",
      "685:\tlearn: 0.0227391\ttotal: 387ms\tremaining: 177ms\n",
      "686:\tlearn: 0.0226327\ttotal: 388ms\tremaining: 177ms\n",
      "687:\tlearn: 0.0225055\ttotal: 388ms\tremaining: 176ms\n",
      "688:\tlearn: 0.0223915\ttotal: 389ms\tremaining: 176ms\n",
      "689:\tlearn: 0.0222715\ttotal: 389ms\tremaining: 175ms\n",
      "690:\tlearn: 0.0221333\ttotal: 390ms\tremaining: 174ms\n",
      "691:\tlearn: 0.0220057\ttotal: 390ms\tremaining: 174ms\n",
      "692:\tlearn: 0.0219102\ttotal: 391ms\tremaining: 173ms\n",
      "693:\tlearn: 0.0218269\ttotal: 391ms\tremaining: 173ms\n",
      "694:\tlearn: 0.0217095\ttotal: 392ms\tremaining: 172ms\n",
      "695:\tlearn: 0.0216881\ttotal: 392ms\tremaining: 171ms\n",
      "696:\tlearn: 0.0216677\ttotal: 393ms\tremaining: 171ms\n",
      "697:\tlearn: 0.0215669\ttotal: 393ms\tremaining: 170ms\n",
      "698:\tlearn: 0.0214867\ttotal: 394ms\tremaining: 170ms\n",
      "699:\tlearn: 0.0213881\ttotal: 394ms\tremaining: 169ms\n",
      "700:\tlearn: 0.0213213\ttotal: 395ms\tremaining: 168ms\n",
      "701:\tlearn: 0.0212345\ttotal: 395ms\tremaining: 168ms\n",
      "702:\tlearn: 0.0211427\ttotal: 396ms\tremaining: 167ms\n",
      "703:\tlearn: 0.0210657\ttotal: 396ms\tremaining: 167ms\n",
      "704:\tlearn: 0.0209539\ttotal: 397ms\tremaining: 166ms\n",
      "705:\tlearn: 0.0209346\ttotal: 397ms\tremaining: 166ms\n",
      "706:\tlearn: 0.0209145\ttotal: 398ms\tremaining: 165ms\n",
      "707:\tlearn: 0.0208401\ttotal: 398ms\tremaining: 164ms\n",
      "708:\tlearn: 0.0207455\ttotal: 399ms\tremaining: 164ms\n",
      "709:\tlearn: 0.0206526\ttotal: 399ms\tremaining: 163ms\n",
      "710:\tlearn: 0.0205697\ttotal: 400ms\tremaining: 163ms\n",
      "711:\tlearn: 0.0204978\ttotal: 400ms\tremaining: 162ms\n",
      "712:\tlearn: 0.0204074\ttotal: 401ms\tremaining: 161ms\n",
      "713:\tlearn: 0.0202998\ttotal: 401ms\tremaining: 161ms\n",
      "714:\tlearn: 0.0202818\ttotal: 402ms\tremaining: 160ms\n",
      "715:\tlearn: 0.0202641\ttotal: 403ms\tremaining: 160ms\n",
      "716:\tlearn: 0.0202045\ttotal: 403ms\tremaining: 159ms\n",
      "717:\tlearn: 0.0200997\ttotal: 403ms\tremaining: 158ms\n",
      "718:\tlearn: 0.0200824\ttotal: 404ms\tremaining: 158ms\n",
      "719:\tlearn: 0.0200153\ttotal: 404ms\tremaining: 157ms\n",
      "720:\tlearn: 0.0199982\ttotal: 405ms\tremaining: 157ms\n",
      "721:\tlearn: 0.0198963\ttotal: 405ms\tremaining: 156ms\n",
      "722:\tlearn: 0.0198783\ttotal: 405ms\tremaining: 155ms\n",
      "723:\tlearn: 0.0198619\ttotal: 406ms\tremaining: 155ms\n",
      "724:\tlearn: 0.0197941\ttotal: 407ms\tremaining: 154ms\n",
      "725:\tlearn: 0.0196948\ttotal: 407ms\tremaining: 154ms\n",
      "726:\tlearn: 0.0196774\ttotal: 408ms\tremaining: 153ms\n",
      "727:\tlearn: 0.0196257\ttotal: 408ms\tremaining: 153ms\n",
      "728:\tlearn: 0.0196087\ttotal: 409ms\tremaining: 152ms\n",
      "729:\tlearn: 0.0195919\ttotal: 409ms\tremaining: 151ms\n",
      "730:\tlearn: 0.0195410\ttotal: 410ms\tremaining: 151ms\n",
      "731:\tlearn: 0.0194676\ttotal: 410ms\tremaining: 150ms\n",
      "732:\tlearn: 0.0194523\ttotal: 411ms\tremaining: 150ms\n",
      "733:\tlearn: 0.0194373\ttotal: 411ms\tremaining: 149ms\n",
      "734:\tlearn: 0.0193473\ttotal: 412ms\tremaining: 149ms\n",
      "735:\tlearn: 0.0192976\ttotal: 412ms\tremaining: 148ms\n",
      "736:\tlearn: 0.0191923\ttotal: 413ms\tremaining: 147ms\n",
      "737:\tlearn: 0.0191378\ttotal: 413ms\tremaining: 147ms\n",
      "738:\tlearn: 0.0190743\ttotal: 414ms\tremaining: 146ms\n",
      "739:\tlearn: 0.0190257\ttotal: 414ms\tremaining: 146ms\n",
      "740:\tlearn: 0.0189725\ttotal: 415ms\tremaining: 145ms\n",
      "741:\tlearn: 0.0189028\ttotal: 415ms\tremaining: 144ms\n",
      "742:\tlearn: 0.0188882\ttotal: 416ms\tremaining: 144ms\n",
      "743:\tlearn: 0.0188356\ttotal: 416ms\tremaining: 143ms\n",
      "744:\tlearn: 0.0188213\ttotal: 417ms\tremaining: 143ms\n",
      "745:\tlearn: 0.0187220\ttotal: 417ms\tremaining: 142ms\n",
      "746:\tlearn: 0.0186665\ttotal: 418ms\tremaining: 141ms\n",
      "747:\tlearn: 0.0186193\ttotal: 418ms\tremaining: 141ms\n",
      "748:\tlearn: 0.0185326\ttotal: 418ms\tremaining: 140ms\n",
      "749:\tlearn: 0.0184399\ttotal: 419ms\tremaining: 140ms\n",
      "750:\tlearn: 0.0183447\ttotal: 420ms\tremaining: 139ms\n",
      "751:\tlearn: 0.0182455\ttotal: 420ms\tremaining: 139ms\n",
      "752:\tlearn: 0.0181873\ttotal: 421ms\tremaining: 138ms\n",
      "753:\tlearn: 0.0180788\ttotal: 421ms\tremaining: 137ms\n",
      "754:\tlearn: 0.0179866\ttotal: 422ms\tremaining: 137ms\n",
      "755:\tlearn: 0.0178812\ttotal: 422ms\tremaining: 136ms\n",
      "756:\tlearn: 0.0177901\ttotal: 423ms\tremaining: 136ms\n",
      "757:\tlearn: 0.0176952\ttotal: 423ms\tremaining: 135ms\n",
      "758:\tlearn: 0.0176061\ttotal: 424ms\tremaining: 135ms\n",
      "759:\tlearn: 0.0175045\ttotal: 424ms\tremaining: 134ms\n",
      "760:\tlearn: 0.0174175\ttotal: 424ms\tremaining: 133ms\n",
      "761:\tlearn: 0.0173317\ttotal: 425ms\tremaining: 133ms\n",
      "762:\tlearn: 0.0172327\ttotal: 425ms\tremaining: 132ms\n",
      "763:\tlearn: 0.0171369\ttotal: 426ms\tremaining: 132ms\n",
      "764:\tlearn: 0.0170538\ttotal: 426ms\tremaining: 131ms\n",
      "765:\tlearn: 0.0169687\ttotal: 427ms\tremaining: 130ms\n",
      "766:\tlearn: 0.0169274\ttotal: 427ms\tremaining: 130ms\n",
      "767:\tlearn: 0.0168322\ttotal: 427ms\tremaining: 129ms\n",
      "768:\tlearn: 0.0167629\ttotal: 428ms\tremaining: 129ms\n",
      "769:\tlearn: 0.0166714\ttotal: 428ms\tremaining: 128ms\n",
      "770:\tlearn: 0.0165893\ttotal: 429ms\tremaining: 127ms\n",
      "771:\tlearn: 0.0164974\ttotal: 429ms\tremaining: 127ms\n",
      "772:\tlearn: 0.0164307\ttotal: 430ms\tremaining: 126ms\n",
      "773:\tlearn: 0.0163445\ttotal: 431ms\tremaining: 126ms\n",
      "774:\tlearn: 0.0162707\ttotal: 431ms\tremaining: 125ms\n",
      "775:\tlearn: 0.0161813\ttotal: 431ms\tremaining: 125ms\n",
      "776:\tlearn: 0.0160983\ttotal: 432ms\tremaining: 124ms\n",
      "777:\tlearn: 0.0160201\ttotal: 432ms\tremaining: 123ms\n",
      "778:\tlearn: 0.0159336\ttotal: 433ms\tremaining: 123ms\n",
      "779:\tlearn: 0.0158626\ttotal: 433ms\tremaining: 122ms\n",
      "780:\tlearn: 0.0157868\ttotal: 433ms\tremaining: 122ms\n",
      "781:\tlearn: 0.0157241\ttotal: 434ms\tremaining: 121ms\n",
      "782:\tlearn: 0.0156403\ttotal: 434ms\tremaining: 120ms\n",
      "783:\tlearn: 0.0155716\ttotal: 436ms\tremaining: 120ms\n",
      "784:\tlearn: 0.0154896\ttotal: 436ms\tremaining: 119ms\n",
      "785:\tlearn: 0.0154290\ttotal: 436ms\tremaining: 119ms\n",
      "786:\tlearn: 0.0153566\ttotal: 437ms\tremaining: 118ms\n",
      "787:\tlearn: 0.0152899\ttotal: 437ms\tremaining: 118ms\n",
      "788:\tlearn: 0.0152106\ttotal: 438ms\tremaining: 117ms\n",
      "789:\tlearn: 0.0151353\ttotal: 438ms\tremaining: 116ms\n",
      "790:\tlearn: 0.0150824\ttotal: 439ms\tremaining: 116ms\n",
      "791:\tlearn: 0.0150225\ttotal: 439ms\tremaining: 115ms\n",
      "792:\tlearn: 0.0149551\ttotal: 440ms\tremaining: 115ms\n",
      "793:\tlearn: 0.0148964\ttotal: 440ms\tremaining: 114ms\n",
      "794:\tlearn: 0.0148304\ttotal: 441ms\tremaining: 114ms\n",
      "795:\tlearn: 0.0147728\ttotal: 441ms\tremaining: 113ms\n",
      "796:\tlearn: 0.0146934\ttotal: 442ms\tremaining: 112ms\n",
      "797:\tlearn: 0.0146370\ttotal: 442ms\tremaining: 112ms\n",
      "798:\tlearn: 0.0145800\ttotal: 442ms\tremaining: 111ms\n",
      "799:\tlearn: 0.0145110\ttotal: 443ms\tremaining: 111ms\n",
      "800:\tlearn: 0.0144469\ttotal: 443ms\tremaining: 110ms\n",
      "801:\tlearn: 0.0143922\ttotal: 444ms\tremaining: 110ms\n",
      "802:\tlearn: 0.0143293\ttotal: 444ms\tremaining: 109ms\n",
      "803:\tlearn: 0.0142677\ttotal: 445ms\tremaining: 108ms\n",
      "804:\tlearn: 0.0141927\ttotal: 445ms\tremaining: 108ms\n",
      "805:\tlearn: 0.0141235\ttotal: 445ms\tremaining: 107ms\n",
      "806:\tlearn: 0.0140628\ttotal: 446ms\tremaining: 107ms\n",
      "807:\tlearn: 0.0140241\ttotal: 446ms\tremaining: 106ms\n",
      "808:\tlearn: 0.0139860\ttotal: 447ms\tremaining: 105ms\n",
      "809:\tlearn: 0.0139303\ttotal: 447ms\tremaining: 105ms\n",
      "810:\tlearn: 0.0138713\ttotal: 448ms\tremaining: 104ms\n",
      "811:\tlearn: 0.0138171\ttotal: 448ms\tremaining: 104ms\n",
      "812:\tlearn: 0.0137674\ttotal: 449ms\tremaining: 103ms\n",
      "813:\tlearn: 0.0137105\ttotal: 449ms\tremaining: 103ms\n",
      "814:\tlearn: 0.0136533\ttotal: 450ms\tremaining: 102ms\n",
      "815:\tlearn: 0.0136103\ttotal: 450ms\tremaining: 102ms\n",
      "816:\tlearn: 0.0135507\ttotal: 451ms\tremaining: 101ms\n",
      "817:\tlearn: 0.0135073\ttotal: 451ms\tremaining: 100ms\n",
      "818:\tlearn: 0.0134646\ttotal: 452ms\tremaining: 99.8ms\n",
      "819:\tlearn: 0.0134057\ttotal: 452ms\tremaining: 99.2ms\n",
      "820:\tlearn: 0.0133644\ttotal: 453ms\tremaining: 98.7ms\n",
      "821:\tlearn: 0.0133071\ttotal: 453ms\tremaining: 98.1ms\n",
      "822:\tlearn: 0.0132336\ttotal: 453ms\tremaining: 97.5ms\n",
      "823:\tlearn: 0.0131617\ttotal: 454ms\tremaining: 96.9ms\n",
      "824:\tlearn: 0.0131060\ttotal: 454ms\tremaining: 96.4ms\n",
      "825:\tlearn: 0.0130629\ttotal: 455ms\tremaining: 95.8ms\n",
      "826:\tlearn: 0.0130084\ttotal: 455ms\tremaining: 95.2ms\n",
      "827:\tlearn: 0.0129659\ttotal: 456ms\tremaining: 94.7ms\n",
      "828:\tlearn: 0.0129126\ttotal: 456ms\tremaining: 94.1ms\n",
      "829:\tlearn: 0.0128434\ttotal: 457ms\tremaining: 93.5ms\n"
     ]
    },
    {
     "name": "stdout",
     "output_type": "stream",
     "text": [
      "830:\tlearn: 0.0127755\ttotal: 457ms\tremaining: 93ms\n",
      "831:\tlearn: 0.0127348\ttotal: 458ms\tremaining: 92.4ms\n",
      "832:\tlearn: 0.0126947\ttotal: 458ms\tremaining: 91.9ms\n",
      "833:\tlearn: 0.0126538\ttotal: 459ms\tremaining: 91.3ms\n",
      "834:\tlearn: 0.0126136\ttotal: 459ms\tremaining: 90.7ms\n",
      "835:\tlearn: 0.0125614\ttotal: 459ms\tremaining: 90.1ms\n",
      "836:\tlearn: 0.0124954\ttotal: 460ms\tremaining: 89.6ms\n",
      "837:\tlearn: 0.0124565\ttotal: 460ms\tremaining: 89ms\n",
      "838:\tlearn: 0.0124182\ttotal: 461ms\tremaining: 88.4ms\n",
      "839:\tlearn: 0.0123792\ttotal: 461ms\tremaining: 87.8ms\n",
      "840:\tlearn: 0.0123282\ttotal: 462ms\tremaining: 87.3ms\n",
      "841:\tlearn: 0.0122636\ttotal: 462ms\tremaining: 86.8ms\n",
      "842:\tlearn: 0.0121870\ttotal: 463ms\tremaining: 86.2ms\n",
      "843:\tlearn: 0.0121270\ttotal: 463ms\tremaining: 85.6ms\n",
      "844:\tlearn: 0.0120574\ttotal: 464ms\tremaining: 85ms\n",
      "845:\tlearn: 0.0119895\ttotal: 464ms\tremaining: 84.5ms\n",
      "846:\tlearn: 0.0119232\ttotal: 465ms\tremaining: 83.9ms\n",
      "847:\tlearn: 0.0118643\ttotal: 465ms\tremaining: 83.3ms\n",
      "848:\tlearn: 0.0118080\ttotal: 465ms\tremaining: 82.8ms\n",
      "849:\tlearn: 0.0117728\ttotal: 466ms\tremaining: 82.2ms\n",
      "850:\tlearn: 0.0117140\ttotal: 466ms\tremaining: 81.6ms\n",
      "851:\tlearn: 0.0116514\ttotal: 467ms\tremaining: 81.1ms\n",
      "852:\tlearn: 0.0115928\ttotal: 467ms\tremaining: 80.5ms\n",
      "853:\tlearn: 0.0115344\ttotal: 468ms\tremaining: 80ms\n",
      "854:\tlearn: 0.0114772\ttotal: 468ms\tremaining: 79.4ms\n",
      "855:\tlearn: 0.0114200\ttotal: 469ms\tremaining: 78.9ms\n",
      "856:\tlearn: 0.0113638\ttotal: 469ms\tremaining: 78.3ms\n",
      "857:\tlearn: 0.0113080\ttotal: 470ms\tremaining: 77.8ms\n",
      "858:\tlearn: 0.0112529\ttotal: 470ms\tremaining: 77.2ms\n",
      "859:\tlearn: 0.0112177\ttotal: 471ms\tremaining: 76.6ms\n",
      "860:\tlearn: 0.0111634\ttotal: 471ms\tremaining: 76.1ms\n",
      "861:\tlearn: 0.0111237\ttotal: 472ms\tremaining: 75.6ms\n",
      "862:\tlearn: 0.0110706\ttotal: 472ms\tremaining: 75ms\n",
      "863:\tlearn: 0.0110170\ttotal: 473ms\tremaining: 74.4ms\n",
      "864:\tlearn: 0.0109526\ttotal: 473ms\tremaining: 73.9ms\n",
      "865:\tlearn: 0.0109068\ttotal: 474ms\tremaining: 73.3ms\n",
      "866:\tlearn: 0.0108440\ttotal: 474ms\tremaining: 72.8ms\n",
      "867:\tlearn: 0.0107938\ttotal: 475ms\tremaining: 72.2ms\n",
      "868:\tlearn: 0.0107363\ttotal: 475ms\tremaining: 71.6ms\n",
      "869:\tlearn: 0.0106861\ttotal: 476ms\tremaining: 71.1ms\n",
      "870:\tlearn: 0.0106412\ttotal: 476ms\tremaining: 70.5ms\n",
      "871:\tlearn: 0.0105974\ttotal: 476ms\tremaining: 69.9ms\n",
      "872:\tlearn: 0.0105544\ttotal: 477ms\tremaining: 69.4ms\n",
      "873:\tlearn: 0.0105116\ttotal: 477ms\tremaining: 68.8ms\n",
      "874:\tlearn: 0.0104702\ttotal: 478ms\tremaining: 68.3ms\n",
      "875:\tlearn: 0.0104332\ttotal: 478ms\tremaining: 67.7ms\n",
      "876:\tlearn: 0.0103967\ttotal: 479ms\tremaining: 67.1ms\n",
      "877:\tlearn: 0.0103378\ttotal: 479ms\tremaining: 66.6ms\n",
      "878:\tlearn: 0.0102958\ttotal: 480ms\tremaining: 66ms\n",
      "879:\tlearn: 0.0102495\ttotal: 480ms\tremaining: 65.5ms\n",
      "880:\tlearn: 0.0102200\ttotal: 481ms\tremaining: 64.9ms\n",
      "881:\tlearn: 0.0101870\ttotal: 481ms\tremaining: 64.4ms\n",
      "882:\tlearn: 0.0101548\ttotal: 482ms\tremaining: 63.9ms\n",
      "883:\tlearn: 0.0101088\ttotal: 482ms\tremaining: 63.3ms\n",
      "884:\tlearn: 0.0100520\ttotal: 483ms\tremaining: 62.8ms\n",
      "885:\tlearn: 0.0100121\ttotal: 484ms\tremaining: 62.2ms\n",
      "886:\tlearn: 0.0099567\ttotal: 484ms\tremaining: 61.7ms\n",
      "887:\tlearn: 0.0099434\ttotal: 484ms\tremaining: 61.1ms\n",
      "888:\tlearn: 0.0099302\ttotal: 485ms\tremaining: 60.5ms\n",
      "889:\tlearn: 0.0098841\ttotal: 485ms\tremaining: 60ms\n",
      "890:\tlearn: 0.0098450\ttotal: 486ms\tremaining: 59.4ms\n",
      "891:\tlearn: 0.0098153\ttotal: 486ms\tremaining: 58.9ms\n",
      "892:\tlearn: 0.0097850\ttotal: 487ms\tremaining: 58.3ms\n",
      "893:\tlearn: 0.0097317\ttotal: 487ms\tremaining: 57.8ms\n",
      "894:\tlearn: 0.0097068\ttotal: 488ms\tremaining: 57.2ms\n",
      "895:\tlearn: 0.0096943\ttotal: 488ms\tremaining: 56.7ms\n",
      "896:\tlearn: 0.0096647\ttotal: 489ms\tremaining: 56.1ms\n",
      "897:\tlearn: 0.0096372\ttotal: 489ms\tremaining: 55.6ms\n",
      "898:\tlearn: 0.0096088\ttotal: 490ms\tremaining: 55.1ms\n",
      "899:\tlearn: 0.0095809\ttotal: 490ms\tremaining: 54.5ms\n",
      "900:\tlearn: 0.0095294\ttotal: 491ms\tremaining: 53.9ms\n",
      "901:\tlearn: 0.0094862\ttotal: 491ms\tremaining: 53.4ms\n",
      "902:\tlearn: 0.0094447\ttotal: 492ms\tremaining: 52.8ms\n",
      "903:\tlearn: 0.0094070\ttotal: 492ms\tremaining: 52.3ms\n",
      "904:\tlearn: 0.0093953\ttotal: 493ms\tremaining: 51.8ms\n",
      "905:\tlearn: 0.0093537\ttotal: 494ms\tremaining: 51.2ms\n",
      "906:\tlearn: 0.0093203\ttotal: 495ms\tremaining: 50.7ms\n",
      "907:\tlearn: 0.0092841\ttotal: 495ms\tremaining: 50.2ms\n",
      "908:\tlearn: 0.0092470\ttotal: 496ms\tremaining: 49.7ms\n",
      "909:\tlearn: 0.0092117\ttotal: 497ms\tremaining: 49.1ms\n",
      "910:\tlearn: 0.0091753\ttotal: 497ms\tremaining: 48.6ms\n",
      "911:\tlearn: 0.0091262\ttotal: 498ms\tremaining: 48ms\n",
      "912:\tlearn: 0.0090905\ttotal: 498ms\tremaining: 47.5ms\n",
      "913:\tlearn: 0.0090423\ttotal: 499ms\tremaining: 46.9ms\n",
      "914:\tlearn: 0.0090072\ttotal: 499ms\tremaining: 46.4ms\n",
      "915:\tlearn: 0.0089727\ttotal: 500ms\tremaining: 45.8ms\n",
      "916:\tlearn: 0.0089268\ttotal: 500ms\tremaining: 45.3ms\n",
      "917:\tlearn: 0.0088931\ttotal: 501ms\tremaining: 44.7ms\n",
      "918:\tlearn: 0.0088508\ttotal: 501ms\tremaining: 44.2ms\n",
      "919:\tlearn: 0.0088225\ttotal: 502ms\tremaining: 43.6ms\n",
      "920:\tlearn: 0.0087944\ttotal: 502ms\tremaining: 43.1ms\n",
      "921:\tlearn: 0.0087505\ttotal: 503ms\tremaining: 42.5ms\n",
      "922:\tlearn: 0.0087180\ttotal: 503ms\tremaining: 42ms\n",
      "923:\tlearn: 0.0086776\ttotal: 504ms\tremaining: 41.4ms\n",
      "924:\tlearn: 0.0086553\ttotal: 504ms\tremaining: 40.9ms\n",
      "925:\tlearn: 0.0086335\ttotal: 505ms\tremaining: 40.3ms\n",
      "926:\tlearn: 0.0086122\ttotal: 505ms\tremaining: 39.8ms\n",
      "927:\tlearn: 0.0085909\ttotal: 506ms\tremaining: 39.2ms\n",
      "928:\tlearn: 0.0085702\ttotal: 506ms\tremaining: 38.7ms\n",
      "929:\tlearn: 0.0085453\ttotal: 506ms\tremaining: 38.1ms\n",
      "930:\tlearn: 0.0085185\ttotal: 507ms\tremaining: 37.6ms\n",
      "931:\tlearn: 0.0084915\ttotal: 507ms\tremaining: 37ms\n",
      "932:\tlearn: 0.0084544\ttotal: 508ms\tremaining: 36.5ms\n",
      "933:\tlearn: 0.0084099\ttotal: 508ms\tremaining: 35.9ms\n",
      "934:\tlearn: 0.0083693\ttotal: 509ms\tremaining: 35.4ms\n",
      "935:\tlearn: 0.0083389\ttotal: 509ms\tremaining: 34.8ms\n",
      "936:\tlearn: 0.0082995\ttotal: 510ms\tremaining: 34.3ms\n",
      "937:\tlearn: 0.0082794\ttotal: 510ms\tremaining: 33.7ms\n",
      "938:\tlearn: 0.0082557\ttotal: 510ms\tremaining: 33.2ms\n",
      "939:\tlearn: 0.0082184\ttotal: 511ms\tremaining: 32.6ms\n",
      "940:\tlearn: 0.0081989\ttotal: 511ms\tremaining: 32.1ms\n",
      "941:\tlearn: 0.0081643\ttotal: 512ms\tremaining: 31.5ms\n",
      "942:\tlearn: 0.0081339\ttotal: 512ms\tremaining: 31ms\n",
      "943:\tlearn: 0.0080990\ttotal: 513ms\tremaining: 30.4ms\n",
      "944:\tlearn: 0.0080630\ttotal: 513ms\tremaining: 29.9ms\n",
      "945:\tlearn: 0.0080380\ttotal: 514ms\tremaining: 29.3ms\n",
      "946:\tlearn: 0.0080156\ttotal: 514ms\tremaining: 28.8ms\n",
      "947:\tlearn: 0.0079930\ttotal: 515ms\tremaining: 28.2ms\n",
      "948:\tlearn: 0.0079597\ttotal: 515ms\tremaining: 27.7ms\n",
      "949:\tlearn: 0.0079268\ttotal: 516ms\tremaining: 27.1ms\n",
      "950:\tlearn: 0.0078866\ttotal: 516ms\tremaining: 26.6ms\n",
      "951:\tlearn: 0.0078628\ttotal: 517ms\tremaining: 26.1ms\n",
      "952:\tlearn: 0.0078272\ttotal: 517ms\tremaining: 25.5ms\n",
      "953:\tlearn: 0.0077928\ttotal: 518ms\tremaining: 25ms\n",
      "954:\tlearn: 0.0077715\ttotal: 518ms\tremaining: 24.4ms\n",
      "955:\tlearn: 0.0077533\ttotal: 519ms\tremaining: 23.9ms\n",
      "956:\tlearn: 0.0077303\ttotal: 520ms\tremaining: 23.3ms\n",
      "957:\tlearn: 0.0076918\ttotal: 520ms\tremaining: 22.8ms\n",
      "958:\tlearn: 0.0076738\ttotal: 521ms\tremaining: 22.3ms\n",
      "959:\tlearn: 0.0076525\ttotal: 521ms\tremaining: 21.7ms\n",
      "960:\tlearn: 0.0076145\ttotal: 521ms\tremaining: 21.2ms\n",
      "961:\tlearn: 0.0075836\ttotal: 522ms\tremaining: 20.6ms\n",
      "962:\tlearn: 0.0075458\ttotal: 523ms\tremaining: 20.1ms\n",
      "963:\tlearn: 0.0075085\ttotal: 523ms\tremaining: 19.5ms\n",
      "964:\tlearn: 0.0074913\ttotal: 524ms\tremaining: 19ms\n",
      "965:\tlearn: 0.0074546\ttotal: 524ms\tremaining: 18.5ms\n",
      "966:\tlearn: 0.0074250\ttotal: 525ms\tremaining: 17.9ms\n",
      "967:\tlearn: 0.0073890\ttotal: 525ms\tremaining: 17.4ms\n",
      "968:\tlearn: 0.0073721\ttotal: 526ms\tremaining: 16.8ms\n",
      "969:\tlearn: 0.0073368\ttotal: 526ms\tremaining: 16.3ms\n",
      "970:\tlearn: 0.0073100\ttotal: 527ms\tremaining: 15.7ms\n",
      "971:\tlearn: 0.0072799\ttotal: 527ms\tremaining: 15.2ms\n",
      "972:\tlearn: 0.0072521\ttotal: 528ms\tremaining: 14.6ms\n",
      "973:\tlearn: 0.0072248\ttotal: 528ms\tremaining: 14.1ms\n",
      "974:\tlearn: 0.0072081\ttotal: 529ms\tremaining: 13.6ms\n",
      "975:\tlearn: 0.0071813\ttotal: 529ms\tremaining: 13ms\n",
      "976:\tlearn: 0.0071522\ttotal: 530ms\tremaining: 12.5ms\n",
      "977:\tlearn: 0.0071244\ttotal: 530ms\tremaining: 11.9ms\n",
      "978:\tlearn: 0.0070972\ttotal: 531ms\tremaining: 11.4ms\n",
      "979:\tlearn: 0.0070672\ttotal: 531ms\tremaining: 10.8ms\n",
      "980:\tlearn: 0.0070494\ttotal: 532ms\tremaining: 10.3ms\n",
      "981:\tlearn: 0.0070248\ttotal: 532ms\tremaining: 9.76ms\n",
      "982:\tlearn: 0.0070075\ttotal: 533ms\tremaining: 9.21ms\n",
      "983:\tlearn: 0.0069775\ttotal: 533ms\tremaining: 8.67ms\n",
      "984:\tlearn: 0.0069495\ttotal: 534ms\tremaining: 8.13ms\n",
      "985:\tlearn: 0.0069425\ttotal: 534ms\tremaining: 7.58ms\n",
      "986:\tlearn: 0.0069357\ttotal: 535ms\tremaining: 7.04ms\n",
      "987:\tlearn: 0.0069116\ttotal: 535ms\tremaining: 6.5ms\n",
      "988:\tlearn: 0.0069038\ttotal: 536ms\tremaining: 5.96ms\n"
     ]
    },
    {
     "name": "stdout",
     "output_type": "stream",
     "text": [
      "989:\tlearn: 0.0068762\ttotal: 536ms\tremaining: 5.42ms\n",
      "990:\tlearn: 0.0068472\ttotal: 537ms\tremaining: 4.88ms\n",
      "991:\tlearn: 0.0068396\ttotal: 538ms\tremaining: 4.33ms\n",
      "992:\tlearn: 0.0068321\ttotal: 538ms\tremaining: 3.79ms\n",
      "993:\tlearn: 0.0068247\ttotal: 539ms\tremaining: 3.25ms\n",
      "994:\tlearn: 0.0067976\ttotal: 539ms\tremaining: 2.71ms\n",
      "995:\tlearn: 0.0067651\ttotal: 540ms\tremaining: 2.17ms\n",
      "996:\tlearn: 0.0067410\ttotal: 540ms\tremaining: 1.63ms\n",
      "997:\tlearn: 0.0067091\ttotal: 541ms\tremaining: 1.08ms\n",
      "998:\tlearn: 0.0067017\ttotal: 541ms\tremaining: 541us\n",
      "999:\tlearn: 0.0066703\ttotal: 542ms\tremaining: 0us\n"
     ]
    },
    {
     "data": {
      "text/plain": [
       "<catboost.core.CatBoostRegressor at 0x7fd3725b8bb0>"
      ]
     },
     "execution_count": 9,
     "metadata": {},
     "output_type": "execute_result"
    }
   ],
   "source": [
    "#Train the Model \n",
    "prior_model = ctb.CatBoostRegressor()\n",
    "prior_model.fit(X_train,Y_train)"
   ]
  },
  {
   "cell_type": "code",
   "execution_count": 10,
   "id": "af65dcda",
   "metadata": {
    "execution": {
     "iopub.execute_input": "2022-06-07T06:06:40.232751Z",
     "iopub.status.busy": "2022-06-07T06:06:40.232352Z",
     "iopub.status.idle": "2022-06-07T06:06:40.239861Z",
     "shell.execute_reply": "2022-06-07T06:06:40.240160Z"
    },
    "id": "af65dcda",
    "papermill": {
     "duration": 0.021074,
     "end_time": "2022-06-07T06:06:40.240285",
     "exception": false,
     "start_time": "2022-06-07T06:06:40.219211",
     "status": "completed"
    },
    "tags": []
   },
   "outputs": [
    {
     "data": {
      "application/scrapbook.scrap.json+json": {
       "data": 0.23698547642282736,
       "encoder": "json",
       "name": "Prior Model MSE",
       "version": 1
      }
     },
     "metadata": {
      "scrapbook": {
       "data": true,
       "display": false,
       "name": "Prior Model MSE"
      }
     },
     "output_type": "display_data"
    },
    {
     "data": {
      "application/scrapbook.scrap.json+json": {
       "data": 0.2199262343359596,
       "encoder": "json",
       "name": "ABC Pre-generator MSE",
       "version": 1
      }
     },
     "metadata": {
      "scrapbook": {
       "data": true,
       "display": false,
       "name": "ABC Pre-generator MSE"
      }
     },
     "output_type": "display_data"
    },
    {
     "data": {
      "application/scrapbook.scrap.json+json": {
       "data": 0.391362855869919,
       "encoder": "json",
       "name": "Prior Model MSE",
       "version": 1
      }
     },
     "metadata": {
      "scrapbook": {
       "data": true,
       "display": false,
       "name": "Prior Model MSE"
      }
     },
     "output_type": "display_data"
    },
    {
     "data": {
      "application/scrapbook.scrap.json+json": {
       "data": 0.3643487375009408,
       "encoder": "json",
       "name": "ABC Pre-generator MSE",
       "version": 1
      }
     },
     "metadata": {
      "scrapbook": {
       "data": true,
       "display": false,
       "name": "ABC Pre-generator MSE"
      }
     },
     "output_type": "display_data"
    }
   ],
   "source": [
    "y_pred = prior_model.predict(X_test)\n",
    "y_abc = y_pred + np.random.normal(0,variance, y_pred.shape) + bias \n",
    "mse = mean_squared_error(y_pred,Y_test)\n",
    "sb.glue(\"Prior Model MSE\",mse)\n",
    "mse = mean_squared_error(y_abc,Y_test)\n",
    "sb.glue(\"ABC Pre-generator MSE\",mse)\n",
    "mae = mean_absolute_error(y_pred,Y_test)\n",
    "sb.glue(\"Prior Model MSE\",mae)\n",
    "mae = mean_absolute_error(y_abc,Y_test)\n",
    "sb.glue(\"ABC Pre-generator MSE\",mae)"
   ]
  },
  {
   "cell_type": "markdown",
   "id": "25609da2",
   "metadata": {
    "papermill": {
     "duration": 0.009918,
     "end_time": "2022-06-07T06:06:40.260284",
     "exception": false,
     "start_time": "2022-06-07T06:06:40.250366",
     "status": "completed"
    },
    "tags": []
   },
   "source": [
    "# ABC GAN Model"
   ]
  },
  {
   "cell_type": "code",
   "execution_count": 11,
   "id": "dfc3464d",
   "metadata": {
    "execution": {
     "iopub.execute_input": "2022-06-07T06:06:40.283248Z",
     "iopub.status.busy": "2022-06-07T06:06:40.282883Z",
     "iopub.status.idle": "2022-06-07T06:06:40.285287Z",
     "shell.execute_reply": "2022-06-07T06:06:40.285519Z"
    },
    "papermill": {
     "duration": 0.015564,
     "end_time": "2022-06-07T06:06:40.285647",
     "exception": false,
     "start_time": "2022-06-07T06:06:40.270083",
     "status": "completed"
    },
    "tags": []
   },
   "outputs": [],
   "source": [
    "gen = network.Generator(n_features+1).to(device)\n",
    "disc = network.Discriminator(n_features+1).to(device)\n",
    "\n",
    "criterion = torch.nn.BCELoss()\n",
    "gen_opt = torch.optim.Adam(gen.parameters(), lr=0.001, betas=(0.5, 0.999))\n",
    "disc_opt = torch.optim.Adam(disc.parameters(), lr=0.001, betas=(0.5, 0.999))"
   ]
  },
  {
   "cell_type": "code",
   "execution_count": 12,
   "id": "b75fdd85",
   "metadata": {
    "execution": {
     "iopub.execute_input": "2022-06-07T06:06:40.307615Z",
     "iopub.status.busy": "2022-06-07T06:06:40.307171Z",
     "iopub.status.idle": "2022-06-07T06:06:54.659948Z",
     "shell.execute_reply": "2022-06-07T06:06:54.660262Z"
    },
    "papermill": {
     "duration": 14.364854,
     "end_time": "2022-06-07T06:06:54.660386",
     "exception": false,
     "start_time": "2022-06-07T06:06:40.295532",
     "status": "completed"
    },
    "tags": []
   },
   "outputs": [
    {
     "data": {
      "image/png": "[encoded data removed]",
      "text/plain": [
       "<Figure size 432x288 with 1 Axes>"
      ]
     },
     "metadata": {
      "needs_background": "light"
     },
     "output_type": "display_data"
    },
    {
     "data": {
      "image/png": "[encoded data removed]",
      "text/plain": [
       "<Figure size 432x288 with 1 Axes>"
      ]
     },
     "metadata": {
      "needs_background": "light"
     },
     "output_type": "display_data"
    }
   ],
   "source": [
    "#Training the ABC_GAN \n",
    "ABC_train_test2.training_GAN(disc,gen,disc_opt,gen_opt,train_data,batch_size,n_epochs,criterion,prior_model,variance,bias,device)"
   ]
  },
  {
   "cell_type": "code",
   "execution_count": 13,
   "id": "1fa7c368",
   "metadata": {
    "execution": {
     "iopub.execute_input": "2022-06-07T06:06:54.701072Z",
     "iopub.status.busy": "2022-06-07T06:06:54.700628Z",
     "iopub.status.idle": "2022-06-07T06:06:54.902596Z",
     "shell.execute_reply": "2022-06-07T06:06:54.903080Z"
    },
    "papermill": {
     "duration": 0.229413,
     "end_time": "2022-06-07T06:06:54.903230",
     "exception": false,
     "start_time": "2022-06-07T06:06:54.673817",
     "status": "completed"
    },
    "tags": []
   },
   "outputs": [
    {
     "data": {
      "application/scrapbook.scrap.json+json": {
       "data": 0.18919921129269895,
       "encoder": "json",
       "name": "ABC-GAN Model 1 MSE",
       "version": 1
      }
     },
     "metadata": {
      "scrapbook": {
       "data": true,
       "display": false,
       "name": "ABC-GAN Model 1 MSE"
      }
     },
     "output_type": "display_data"
    },
    {
     "data": {
      "application/scrapbook.scrap.json+json": {
       "data": 0.3302109641293064,
       "encoder": "json",
       "name": "ABC-GAN Model 1 MAE",
       "version": 1
      }
     },
     "metadata": {
      "scrapbook": {
       "data": true,
       "display": false,
       "name": "ABC-GAN Model 1 MAE"
      }
     },
     "output_type": "display_data"
    },
    {
     "data": {
      "application/scrapbook.scrap.json+json": {
       "data": 6.6042192825861274,
       "encoder": "json",
       "name": "ABC-GAN Model 1 Manhattan Distance",
       "version": 1
      }
     },
     "metadata": {
      "scrapbook": {
       "data": true,
       "display": false,
       "name": "ABC-GAN Model 1 Manhattan Distance"
      }
     },
     "output_type": "display_data"
    },
    {
     "data": {
      "application/scrapbook.scrap.json+json": {
       "data": 1.9452299247713105,
       "encoder": "json",
       "name": "ABC-GAN Model 1 Euclidean distance",
       "version": 1
      }
     },
     "metadata": {
      "scrapbook": {
       "data": true,
       "display": false,
       "name": "ABC-GAN Model 1 Euclidean distance"
      }
     },
     "output_type": "display_data"
    },
    {
     "data": {
      "application/scrapbook.scrap.json+json": {
       "data": [
        [
         0.18847956777032612,
         0.19159554959753008,
         0.1902425490543105,
         0.18911763181834326,
         0.18960634502047896,
         0.18928046492274875,
         0.1875074400514525,
         0.18925569793371103,
         0.18786737083831723,
         0.18717563082986866,
         0.18969449355651155,
         0.18850394161998954,
         0.1925227914102772,
         0.18932222157378825,
         0.18699881177802238,
         0.18848568899312873,
         0.18952827038337566,
         0.18982882049361877,
         0.18949952361024866,
         0.18974203884117277,
         0.1918998655818075,
         0.18730827365881847,
         0.19118865228392493,
         0.18674953282910076,
         0.18754757407187267,
         0.19113499247748603,
         0.186000925839433,
         0.19085901432738556,
         0.18975194387714941,
         0.1926197360335959,
         0.18793059965327555,
         0.18934992718435092,
         0.18818772969756786,
         0.19078522590483157,
         0.1919822266299473,
         0.19174350917076496,
         0.18952948143274329,
         0.18959565220396885,
         0.19110163281448495,
         0.18961681052100973,
         0.1873405540944714,
         0.19195349996152475,
         0.1895721362673457,
         0.18787934295951064,
         0.1901278753055739,
         0.19039874589767003,
         0.18934816438246493,
         0.18727955226763868,
         0.18900117884179532,
         0.1873789745590247,
         0.19084269317147065,
         0.1875259422980644,
         0.18793406150516723,
         0.18777857345434504,
         0.1904291872659773,
         0.18696556759302435,
         0.18926555360337685,
         0.1893321352918553,
         0.1890613386614052,
         0.18865880622600864,
         0.1916831651884677,
         0.1884228393746482,
         0.18878615108810864,
         0.1857544067471582,
         0.18717666494953394,
         0.18857009225741755,
         0.18725179557541158,
         0.19032346157824717,
         0.18953222096591665,
         0.1908819987901052,
         0.19151954238584742,
         0.18768282122218086,
         0.18642311531224176,
         0.18892509950792608,
         0.18666189844611686,
         0.19221932826436616,
         0.18947236828594977,
         0.18790924904078304,
         0.19118166081259633,
         0.18791279776742775,
         0.19011653418288715,
         0.18834624372192102,
         0.18863462774266856,
         0.1903242483457394,
         0.18830893312302915,
         0.18997536620558345,
         0.18976297896751784,
         0.1874016490215523,
         0.18790057075891992,
         0.19066181404255284,
         0.18671542130701133,
         0.18975456907333846,
         0.19113936497145773,
         0.18997705350408317,
         0.18896079409474892,
         0.19064872211336903,
         0.18788482025510747,
         0.1896530450181191,
         0.18869747244065516,
         0.1895541829207291
        ],
        [
         0.3300406465306878,
         0.3326453112997115,
         0.33003598609939216,
         0.3294328666292131,
         0.33064434519037605,
         0.3325298797339201,
         0.32883314974606037,
         0.32978391721844674,
         0.3294063627719879,
         0.32754324181005356,
         0.32947140019387006,
         0.33190217525698246,
         0.3334733565337956,
         0.3314704241231084,
         0.328486261703074,
         0.32697003670036795,
         0.3288753813132644,
         0.329853418469429,
         0.3308482510969043,
         0.3287913579493761,
         0.33269042894244194,
         0.3307728786952794,
         0.33174325255677106,
         0.3282381758093834,
         0.3255203640088439,
         0.33386103371158243,
         0.3270862143486738,
         0.33268925324082377,
         0.33164464943110944,
         0.3336677451618016,
         0.3300813796930015,
         0.3288120310753584,
         0.3273258967325091,
         0.33106489665806293,
         0.33344900645315645,
         0.33288009725511075,
         0.3311993078328669,
         0.3301235865801573,
         0.33367304792627694,
         0.32962835803627966,
         0.32581323133781553,
         0.33425942305475476,
         0.33126660948619246,
         0.32931827595457436,
         0.32951062060892583,
         0.3334242888726294,
         0.32983173662796617,
         0.3265229927375913,
         0.3275040295906365,
         0.32768331523984673,
         0.3304125308059156,
         0.32886494928970933,
         0.32979646492749454,
         0.32857094015926125,
         0.33282556384801865,
         0.32734325071796777,
         0.3314026780426502,
         0.3307812888175249,
         0.3292337693274021,
         0.3292574878782034,
         0.3318510251119733,
         0.3298944938927889,
         0.33133136546239256,
         0.32947979457676413,
         0.3267323072068393,
         0.3284306972287595,
         0.32818904537707566,
         0.331200301181525,
         0.3305259342305362,
         0.33354559261351824,
         0.3308924407698214,
         0.3290503531694412,
         0.3295626761391759,
         0.3281911822967231,
         0.32766462080180647,
         0.33502253219485284,
         0.33069428158923986,
         0.32768219197168946,
         0.33311815969645975,
         0.33100821189582347,
         0.32944276966154573,
         0.3307766022160649,
         0.328636175300926,
         0.32862844662740825,
         0.3295088400132954,
         0.33000930985435845,
         0.33277180334553125,
         0.3289685673080385,
         0.330874195182696,
         0.3321169152855873,
         0.3268546797335148,
         0.33108462803065775,
         0.3318201480433345,
         0.3322287848219275,
         0.32907984545454383,
         0.33314744690433146,
         0.3288908480666578,
         0.33176655098795893,
         0.32860755901783706,
         0.33100226782262326
        ],
        [
         6.600812930613756,
         6.652906225994229,
         6.6007197219878435,
         6.588657332584262,
         6.612886903807521,
         6.650597594678402,
         6.576662994921207,
         6.595678344368935,
         6.588127255439758,
         6.550864836201072,
         6.589428003877401,
         6.638043505139649,
         6.669467130675912,
         6.629408482462168,
         6.56972523406148,
         6.5394007340073586,
         6.577507626265287,
         6.59706836938858,
         6.616965021938086,
         6.575827158987522,
         6.653808578848839,
         6.615457573905587,
         6.634865051135421,
         6.564763516187668,
         6.510407280176878,
         6.6772206742316484,
         6.541724286973476,
         6.653785064816475,
         6.632892988622189,
         6.6733549032360315,
         6.60162759386003,
         6.576240621507168,
         6.546517934650183,
         6.621297933161259,
         6.668980129063129,
         6.657601945102215,
         6.623986156657338,
         6.602471731603146,
         6.6734609585255384,
         6.592567160725594,
         6.5162646267563105,
         6.685188461095095,
         6.625332189723849,
         6.586365519091487,
         6.590212412178516,
         6.668485777452588,
         6.596634732559323,
         6.530459854751825,
         6.55008059181273,
         6.553666304796934,
         6.608250616118312,
         6.577298985794187,
         6.5959292985498905,
         6.5714188031852245,
         6.656511276960373,
         6.546865014359355,
         6.6280535608530045,
         6.615625776350498,
         6.584675386548042,
         6.585149757564068,
         6.637020502239466,
         6.597889877855778,
         6.626627309247851,
         6.589595891535282,
         6.5346461441367865,
         6.5686139445751905,
         6.563780907541513,
         6.6240060236305,
         6.6105186846107244,
         6.670911852270365,
         6.617848815396428,
         6.5810070633888245,
         6.591253522783518,
         6.5638236459344625,
         6.553292416036129,
         6.700450643897057,
         6.613885631784797,
         6.553643839433789,
         6.662363193929195,
         6.62016423791647,
         6.588855393230915,
         6.615532044321299,
         6.572723506018519,
         6.572568932548165,
         6.590176800265908,
         6.600186197087169,
         6.6554360669106245,
         6.5793713461607695,
         6.61748390365392,
         6.642338305711746,
         6.537093594670296,
         6.621692560613155,
         6.63640296086669,
         6.644575696438551,
         6.581596909090877,
         6.662948938086629,
         6.577816961333156,
         6.635331019759178,
         6.572151180356741,
         6.620045356452465
        ],
        [
         1.9415435497063986,
         1.957526753827544,
         1.9506027225158409,
         1.944827148197717,
         1.9473384144543493,
         1.945664230656198,
         1.9365300929830784,
         1.9455369332588421,
         1.9383878396147516,
         1.9348159128447784,
         1.9477910234751137,
         1.9416690841643927,
         1.9622578393793064,
         1.9458788326809469,
         1.9339018164220354,
         1.9415750770605227,
         1.9469374431828859,
         1.9484805387461215,
         1.946789786341857,
         1.9480351066711954,
         1.9590807312707024,
         1.9355013493088475,
         1.9554470193995281,
         1.9326123917076634,
         1.9367373289729954,
         1.955172588174691,
         1.9287349524464632,
         1.9537605499517363,
         1.9480859522985603,
         1.9627518235049273,
         1.9387140049696632,
         1.9460212084371071,
         1.9400398433927477,
         1.9533828396135335,
         1.9595010927781964,
         1.9582824575161009,
         1.9469436634517359,
         1.947283503776319,
         1.9550019581293772,
         1.9473921563003675,
         1.9356681228685428,
         1.9593544853421738,
         1.9471627372530818,
         1.9384496019216524,
         1.9500147451010408,
         1.951403320165619,
         1.94601214992335,
         1.9353529511055014,
         1.9442282728208398,
         1.9358665995312008,
         1.953677011030588,
         1.9366256339213546,
         1.9387318613215558,
         1.9379296863113742,
         1.9515593112481993,
         1.9337299066468634,
         1.9455875904383066,
         1.9459297792667407,
         1.944537675960048,
         1.9424665053792234,
         1.9579742857783793,
         1.9412513457800782,
         1.9431219780966331,
         1.9274563898939876,
         1.9348212576335517,
         1.9420097438345543,
         1.9352095265134035,
         1.9510174862273644,
         1.9469577343430784,
         1.9538781885783216,
         1.9571384334576205,
         1.937435527815988,
         1.9309226567226445,
         1.9438369247852356,
         1.9321588881151408,
         1.9607107296302846,
         1.9466502936375079,
         1.9386038741361427,
         1.9554112652462465,
         1.9386221796287577,
         1.9499565850699712,
         1.9408567372267382,
         1.9423420282878532,
         1.9510215188241231,
         1.9406644899262167,
         1.9492324961665473,
         1.948142597283463,
         1.935983724216463,
         1.9385591079919122,
         1.952750952080438,
         1.9324358789207539,
         1.9480994280238288,
         1.9551949517705784,
         1.9492411523671624,
         1.9440205456463104,
         1.9526839074124056,
         1.9384778577796933,
         1.947578214183549,
         1.9426655524853225,
         1.9470705324704038
        ]
       ],
       "encoder": "json",
       "name": "ABC_GAN_1 Metrics",
       "version": 1
      }
     },
     "metadata": {
      "scrapbook": {
       "data": true,
       "display": false,
       "name": "ABC_GAN_1 Metrics"
      }
     },
     "output_type": "display_data"
    },
    {
     "name": "stdout",
     "output_type": "stream",
     "text": [
      "MSE\n",
      "0.18919921129269895\n"
     ]
    }
   ],
   "source": [
    "ABC_GAN1_metrics=ABC_train_test2.test_generator(gen,test_data,prior_model,variance,bias,\"1\",device)\n",
    "sb.glue(\"ABC_GAN_1 Metrics\",ABC_GAN1_metrics)\n",
    "\n",
    "print(\"MSE\")\n",
    "print(mean(ABC_GAN1_metrics[0]))"
   ]
  },
  {
   "cell_type": "code",
   "execution_count": 14,
   "id": "eb22ce5c",
   "metadata": {
    "execution": {
     "iopub.execute_input": "2022-06-07T06:06:54.931990Z",
     "iopub.status.busy": "2022-06-07T06:06:54.931363Z",
     "iopub.status.idle": "2022-06-07T06:06:55.235765Z",
     "shell.execute_reply": "2022-06-07T06:06:55.236091Z"
    },
    "papermill": {
     "duration": 0.31989,
     "end_time": "2022-06-07T06:06:55.236218",
     "exception": false,
     "start_time": "2022-06-07T06:06:54.916328",
     "status": "completed"
    },
    "tags": []
   },
   "outputs": [
    {
     "data": {
      "image/png": "[encoded data removed]",
      "text/plain": [
       "<Figure size 432x288 with 1 Axes>"
      ]
     },
     "metadata": {
      "needs_background": "light"
     },
     "output_type": "display_data"
    },
    {
     "data": {
      "image/png": "[encoded data removed]",
      "text/plain": [
       "<Figure size 432x288 with 1 Axes>"
      ]
     },
     "metadata": {
      "needs_background": "light"
     },
     "output_type": "display_data"
    },
    {
     "data": {
      "image/png": "[encoded data removed]",
      "text/plain": [
       "<Figure size 432x288 with 1 Axes>"
      ]
     },
     "metadata": {
      "needs_background": "light"
     },
     "output_type": "display_data"
    },
    {
     "data": {
      "image/png": "[encoded data removed]",
      "text/plain": [
       "<Figure size 432x288 with 1 Axes>"
      ]
     },
     "metadata": {
      "needs_background": "light"
     },
     "output_type": "display_data"
    }
   ],
   "source": [
    "sanityChecks.discProbVsError(train_data,disc,device)\n",
    "sanityChecks.discProbVsError(test_data,disc,device)"
   ]
  },
  {
   "cell_type": "markdown",
   "id": "130f3a4d",
   "metadata": {
    "id": "130f3a4d",
    "papermill": {
     "duration": 0.042148,
     "end_time": "2022-06-07T06:06:55.293359",
     "exception": false,
     "start_time": "2022-06-07T06:06:55.251211",
     "status": "completed"
    },
    "tags": []
   },
   "source": [
    "# ABC - GAN Model with skip connection"
   ]
  },
  {
   "cell_type": "code",
   "execution_count": 15,
   "id": "4e43dad1",
   "metadata": {
    "execution": {
     "iopub.execute_input": "2022-06-07T06:06:55.327368Z",
     "iopub.status.busy": "2022-06-07T06:06:55.326983Z",
     "iopub.status.idle": "2022-06-07T06:06:55.329420Z",
     "shell.execute_reply": "2022-06-07T06:06:55.329667Z"
    },
    "id": "4e43dad1",
    "papermill": {
     "duration": 0.020982,
     "end_time": "2022-06-07T06:06:55.329786",
     "exception": false,
     "start_time": "2022-06-07T06:06:55.308804",
     "status": "completed"
    },
    "tags": []
   },
   "outputs": [],
   "source": [
    "#Generator\n",
    "gen3 = network.GeneratorWithSkipConnection(n_features+1).to(device)\n",
    "constraints=network.weightConstraint()\n",
    "#Discriminator \n",
    "disc3 = network.Discriminator(n_features+1).to(device)\n",
    "\n",
    "criterion = torch.nn.BCELoss()\n",
    "gen_opt = torch.optim.Adam(gen3.parameters(), lr=0.001, betas=(0.5, 0.999))\n",
    "disc_opt = torch.optim.Adam(disc3.parameters(), lr=0.001, betas=(0.5, 0.999))\n"
   ]
  },
  {
   "cell_type": "code",
   "execution_count": 16,
   "id": "26acbc37",
   "metadata": {
    "execution": {
     "iopub.execute_input": "2022-06-07T06:06:55.363331Z",
     "iopub.status.busy": "2022-06-07T06:06:55.362943Z",
     "iopub.status.idle": "2022-06-07T06:07:34.067601Z",
     "shell.execute_reply": "2022-06-07T06:07:34.067925Z"
    },
    "id": "26acbc37",
    "papermill": {
     "duration": 38.72299,
     "end_time": "2022-06-07T06:07:34.068050",
     "exception": false,
     "start_time": "2022-06-07T06:06:55.345060",
     "status": "completed"
    },
    "tags": []
   },
   "outputs": [
    {
     "data": {
      "image/png": "[encoded data removed]",
      "text/plain": [
       "<Figure size 432x288 with 1 Axes>"
      ]
     },
     "metadata": {
      "needs_background": "light"
     },
     "output_type": "display_data"
    },
    {
     "data": {
      "image/png": "[encoded data removed]",
      "text/plain": [
       "<Figure size 432x288 with 1 Axes>"
      ]
     },
     "metadata": {
      "needs_background": "light"
     },
     "output_type": "display_data"
    }
   ],
   "source": [
    "ABC_train_test2.training_GAN_skip_connection(disc3,gen3,disc_opt,gen_opt,train_data,batch_size,n_epochs,criterion,prior_model,variance,bias,device)"
   ]
  },
  {
   "cell_type": "code",
   "execution_count": 17,
   "id": "c5e0717b",
   "metadata": {
    "execution": {
     "iopub.execute_input": "2022-06-07T06:07:34.102567Z",
     "iopub.status.busy": "2022-06-07T06:07:34.102152Z",
     "iopub.status.idle": "2022-06-07T06:07:34.405078Z",
     "shell.execute_reply": "2022-06-07T06:07:34.405395Z"
    },
    "id": "c5e0717b",
    "papermill": {
     "duration": 0.321682,
     "end_time": "2022-06-07T06:07:34.405530",
     "exception": false,
     "start_time": "2022-06-07T06:07:34.083848",
     "status": "completed"
    },
    "tags": []
   },
   "outputs": [
    {
     "data": {
      "application/scrapbook.scrap.json+json": {
       "data": 0.23627539987500878,
       "encoder": "json",
       "name": "ABC-GAN Model 3 MSE",
       "version": 1
      }
     },
     "metadata": {
      "scrapbook": {
       "data": true,
       "display": false,
       "name": "ABC-GAN Model 3 MSE"
      }
     },
     "output_type": "display_data"
    },
    {
     "data": {
      "application/scrapbook.scrap.json+json": {
       "data": 0.3938823127243668,
       "encoder": "json",
       "name": "ABC-GAN Model 3 MAE",
       "version": 1
      }
     },
     "metadata": {
      "scrapbook": {
       "data": true,
       "display": false,
       "name": "ABC-GAN Model 3 MAE"
      }
     },
     "output_type": "display_data"
    },
    {
     "data": {
      "application/scrapbook.scrap.json+json": {
       "data": 7.877646254487336,
       "encoder": "json",
       "name": "ABC-GAN Model 3 Manhattan Distance",
       "version": 1
      }
     },
     "metadata": {
      "scrapbook": {
       "data": true,
       "display": false,
       "name": "ABC-GAN Model 3 Manhattan Distance"
      }
     },
     "output_type": "display_data"
    },
    {
     "data": {
      "application/scrapbook.scrap.json+json": {
       "data": 2.1738028548086072,
       "encoder": "json",
       "name": "ABC-GAN Model 3 Euclidean distance",
       "version": 1
      }
     },
     "metadata": {
      "scrapbook": {
       "data": true,
       "display": false,
       "name": "ABC-GAN Model 3 Euclidean distance"
      }
     },
     "output_type": "display_data"
    },
    {
     "data": {
      "application/scrapbook.scrap.json+json": {
       "data": [
        [
         0.23150470640315332,
         0.23413038607862618,
         0.23790299394991873,
         0.23840797737582245,
         0.23570662671841563,
         0.240180409224225,
         0.23727469916190783,
         0.235567955715995,
         0.236813779743095,
         0.23558888272914355,
         0.23826207352469173,
         0.2372091387376726,
         0.23923287537774204,
         0.23017290509917582,
         0.23541158344469487,
         0.23564874044209544,
         0.2366191927186933,
         0.23121840605894484,
         0.23280574277405086,
         0.23515960905363736,
         0.23459767149194072,
         0.23351520257597205,
         0.23601575733455174,
         0.23490204070771395,
         0.2364833779221966,
         0.23487155740144425,
         0.23854023831816326,
         0.23632906005842785,
         0.23676890505148976,
         0.23378899052415641,
         0.2348218033726736,
         0.23542581236032395,
         0.2394103023341108,
         0.23255247770598714,
         0.23421981713807677,
         0.2409815376508865,
         0.23733647909568675,
         0.23507180034445127,
         0.23743541479879418,
         0.23603495898191276,
         0.23262048670937768,
         0.2366364972518961,
         0.23525132170164373,
         0.23673172821522703,
         0.23862795645972082,
         0.2322659637873273,
         0.23839336347002069,
         0.2378739717603408,
         0.2343735020467011,
         0.23716489274707592,
         0.23692622055930151,
         0.2363478237438646,
         0.23714369506892016,
         0.23518730295088924,
         0.23670167479699064,
         0.2373980842068709,
         0.23606950682893602,
         0.2358780316005761,
         0.2351100812314535,
         0.23601116881148113,
         0.2350402624384606,
         0.23700439685342908,
         0.23542596682792077,
         0.23606921180410048,
         0.23481009424235424,
         0.23849757497785937,
         0.23756514383175348,
         0.23598027598652802,
         0.23741276911215073,
         0.2342117727160419,
         0.234389132840556,
         0.23833756166114717,
         0.23870851080351346,
         0.23752329325985438,
         0.23805613097691128,
         0.2379075694723237,
         0.23639487080093396,
         0.23477965125608186,
         0.23644995836590477,
         0.2324883169290704,
         0.23670347665464306,
         0.2364244894195652,
         0.23902077611499264,
         0.23461157000265356,
         0.2373870413487249,
         0.23738435312034722,
         0.23820942547959661,
         0.23686126756683895,
         0.23660128931424365,
         0.23876917136688114,
         0.23943427559246183,
         0.2354384432925532,
         0.24057209881163194,
         0.23736829040220667,
         0.24083082090893865,
         0.23776175913283648,
         0.23684642727051716,
         0.2346443842646999,
         0.2341040094125831,
         0.2348789894177914
        ],
        [
         0.3902373626828194,
         0.3907551966607571,
         0.39507203213870523,
         0.39677269756793976,
         0.3947141498327255,
         0.3971676744520664,
         0.39219401925802233,
         0.3944704048335552,
         0.39470181427896023,
         0.392571022734046,
         0.395049362629652,
         0.3941556431353092,
         0.3946599684655666,
         0.38775599710643294,
         0.3930664662271738,
         0.3933243568986654,
         0.39661803357303144,
         0.39010033905506136,
         0.3898090995848179,
         0.3925561476498842,
         0.3920026089996099,
         0.3894836280494928,
         0.3931804567575455,
         0.39133847802877425,
         0.39397397860884664,
         0.3903325855731964,
         0.3945219378918409,
         0.39356332644820213,
         0.3947058666497469,
         0.39184986129403115,
         0.39663763269782065,
         0.3946382850408554,
         0.39805261567234995,
         0.3919094383716583,
         0.39176857434213164,
         0.39931987784802914,
         0.39598625898361206,
         0.3911599896848202,
         0.3956044137477875,
         0.3965866506099701,
         0.39188850969076156,
         0.3951757475733757,
         0.39286559261381626,
         0.3943957190960646,
         0.3941628187894821,
         0.3908383078873158,
         0.3963604036718607,
         0.3975674632936716,
         0.38975869566202165,
         0.39340343698859215,
         0.3918986525386572,
         0.3953008260577917,
         0.39621134251356127,
         0.3939647566527128,
         0.3932599827647209,
         0.39906427897512914,
         0.3916022378951311,
         0.39373365677893163,
         0.39117715544998644,
         0.3930068913847208,
         0.39272185824811456,
         0.3962238375097513,
         0.39202045612037184,
         0.392978735268116,
         0.392274959012866,
         0.396136749535799,
         0.39292200058698656,
         0.39337617009878156,
         0.393281689286232,
         0.39374728724360464,
         0.39099213629961016,
         0.39680753387510775,
         0.3964903213083744,
         0.39458651281893253,
         0.39706258811056616,
         0.3925309143960476,
         0.3920253820717335,
         0.3948127429932356,
         0.3949194267392159,
         0.3919634114950895,
         0.39693362526595594,
         0.39470124803483486,
         0.39471080116927626,
         0.3943953949958086,
         0.39431958347558976,
         0.39552503153681756,
         0.39725375436246396,
         0.3949012292549014,
         0.3928351830691099,
         0.39712710678577423,
         0.3977836798876524,
         0.39265053905546665,
         0.3980909205973148,
         0.3939470577985048,
         0.3953426267951727,
         0.3921650692820549,
         0.39360090643167495,
         0.3920827053487301,
         0.3921459876000881,
         0.3918393783271313
        ],
        [
         7.804747253656387,
         7.815103933215141,
         7.901440642774105,
         7.935453951358795,
         7.8942829966545105,
         7.943353489041328,
         7.843880385160446,
         7.889408096671104,
         7.894036285579205,
         7.85142045468092,
         7.9009872525930405,
         7.883112862706184,
         7.893199369311333,
         7.755119942128658,
         7.861329324543476,
         7.866487137973309,
         7.9323606714606285,
         7.802006781101227,
         7.796181991696358,
         7.8511229529976845,
         7.840052179992199,
         7.789672560989857,
         7.863609135150909,
         7.826769560575485,
         7.879479572176933,
         7.806651711463928,
         7.890438757836819,
         7.871266528964043,
         7.894117332994938,
         7.836997225880623,
         7.932752653956413,
         7.892765700817108,
         7.961052313446999,
         7.8381887674331665,
         7.835371486842632,
         7.986397556960583,
         7.919725179672241,
         7.8231997936964035,
         7.9120882749557495,
         7.931733012199402,
         7.837770193815231,
         7.903514951467514,
         7.857311852276325,
         7.887914381921291,
         7.883256375789642,
         7.816766157746315,
         7.927208073437214,
         7.951349265873432,
         7.795173913240433,
         7.868068739771843,
         7.837973050773144,
         7.906016521155834,
         7.924226850271225,
         7.879295133054256,
         7.865199655294418,
         7.9812855795025826,
         7.832044757902622,
         7.874673135578632,
         7.823543108999729,
         7.860137827694416,
         7.854437164962292,
         7.924476750195026,
         7.840409122407436,
         7.85957470536232,
         7.84549918025732,
         7.9227349907159805,
         7.858440011739731,
         7.867523401975632,
         7.86563378572464,
         7.874945744872093,
         7.819842725992203,
         7.936150677502155,
         7.929806426167488,
         7.891730256378651,
         7.941251762211323,
         7.850618287920952,
         7.8405076414346695,
         7.896254859864712,
         7.898388534784317,
         7.839268229901791,
         7.9386725053191185,
         7.894024960696697,
         7.894216023385525,
         7.887907899916172,
         7.886391669511795,
         7.910500630736351,
         7.945075087249279,
         7.898024585098028,
         7.856703661382198,
         7.942542135715485,
         7.955673597753048,
         7.853010781109333,
         7.961818411946297,
         7.878941155970097,
         7.906852535903454,
         7.843301385641098,
         7.872018128633499,
         7.841654106974602,
         7.842919752001762,
         7.836787566542625
        ],
        [
         2.1517653515341926,
         2.1639333912051275,
         2.1812977511101908,
         2.183611583481927,
         2.171205318335489,
         2.1917135270113426,
         2.1784154753485745,
         2.170566542246494,
         2.1762985996553645,
         2.170662952782599,
         2.182943304461624,
         2.178114499918095,
         2.187385998756242,
         2.1455670816787613,
         2.1698460011931484,
         2.1709386930178174,
         2.1754042967627574,
         2.1504344029007014,
         2.157803247629639,
         2.168684435567505,
         2.166091740863903,
         2.1610886264842173,
         2.172628626040593,
         2.1674964392483504,
         2.174779887355024,
         2.1673557963631365,
         2.1842171976164058,
         2.1740701923278736,
         2.17609239257661,
         2.162355153642234,
         2.1671262232397708,
         2.169911575895773,
         2.188196985347118,
         2.1566292110883927,
         2.1643466318410125,
         2.1953657447035404,
         2.1786990572159652,
         2.168279503866839,
         2.1791531143946457,
         2.1727170040385504,
         2.1569445366507582,
         2.1754838415943065,
         2.1691072896546344,
         2.1759215436923594,
         2.184618760606623,
         2.155300275076897,
         2.183544657065757,
         2.181164696946752,
         2.165056590700119,
         2.177911351488283,
         2.176815199135202,
         2.1741564973288585,
         2.1778140190058477,
         2.1688121308720554,
         2.1757834211933442,
         2.1789817998637386,
         2.172876005799392,
         2.171994620622142,
         2.168456046275568,
         2.172607506253631,
         2.1681340476938256,
         2.177174301030715,
         2.1699122877569073,
         2.172874648037021,
         2.1670721918863447,
         2.1840218633423034,
         2.1797483516761904,
         2.1724653092122233,
         2.1790491922494577,
         2.164309463621328,
         2.165128785271472,
         2.1832890860403587,
         2.184987463595677,
         2.1795563459560037,
         2.1819996836705147,
         2.1813187271571466,
         2.1743728787902685,
         2.1669317075352508,
         2.1746262132417367,
         2.156331685660026,
         2.1757917025976687,
         2.1745090913563234,
         2.186416136580558,
         2.1661559039120593,
         2.178931120291437,
         2.1789187828845167,
         2.1827021119685415,
         2.1765167932586182,
         2.175321996000793,
         2.1852650702689647,
         2.1883065397355184,
         2.169969784547947,
         2.1934999375957682,
         2.1788450628817397,
         2.1946791150823786,
         2.1806501742958977,
         2.1764486084928225,
         2.166307384766529,
         2.1638114955447625,
         2.167390086799289
        ]
       ],
       "encoder": "json",
       "name": "ABC_GAN_3 Metrics",
       "version": 1
      }
     },
     "metadata": {
      "scrapbook": {
       "data": true,
       "display": false,
       "name": "ABC_GAN_3 Metrics"
      }
     },
     "output_type": "display_data"
    },
    {
     "name": "stdout",
     "output_type": "stream",
     "text": [
      "MSE\n",
      "0.23627539987500878\n"
     ]
    }
   ],
   "source": [
    "ABC_GAN3_metrics=ABC_train_test2.test_generator(gen3,test_data,prior_model,variance,bias,\"3\",device)\n",
    "sb.glue(\"ABC_GAN_3 Metrics\",ABC_GAN3_metrics)\n",
    "\n",
    "print(\"MSE\")\n",
    "print(mean(ABC_GAN3_metrics[0]))"
   ]
  },
  {
   "cell_type": "code",
   "execution_count": 18,
   "id": "c8e46b48",
   "metadata": {
    "execution": {
     "iopub.execute_input": "2022-06-07T06:07:34.443040Z",
     "iopub.status.busy": "2022-06-07T06:07:34.442664Z",
     "iopub.status.idle": "2022-06-07T06:07:34.754175Z",
     "shell.execute_reply": "2022-06-07T06:07:34.754476Z"
    },
    "id": "c8e46b48",
    "papermill": {
     "duration": 0.331866,
     "end_time": "2022-06-07T06:07:34.754595",
     "exception": false,
     "start_time": "2022-06-07T06:07:34.422729",
     "status": "completed"
    },
    "tags": []
   },
   "outputs": [
    {
     "data": {
      "image/png": "[encoded data removed]",
      "text/plain": [
       "<Figure size 432x288 with 1 Axes>"
      ]
     },
     "metadata": {
      "needs_background": "light"
     },
     "output_type": "display_data"
    },
    {
     "data": {
      "image/png": "[encoded data removed]",
      "text/plain": [
       "<Figure size 432x288 with 1 Axes>"
      ]
     },
     "metadata": {
      "needs_background": "light"
     },
     "output_type": "display_data"
    },
    {
     "data": {
      "image/png": "[encoded data removed]",
      "text/plain": [
       "<Figure size 432x288 with 1 Axes>"
      ]
     },
     "metadata": {
      "needs_background": "light"
     },
     "output_type": "display_data"
    },
    {
     "data": {
      "image/png": "[encoded data removed]",
      "text/plain": [
       "<Figure size 432x288 with 1 Axes>"
      ]
     },
     "metadata": {
      "needs_background": "light"
     },
     "output_type": "display_data"
    }
   ],
   "source": [
    "sanityChecks.discProbVsError(train_data,disc3,device)\n",
    "sanityChecks.discProbVsError(test_data,disc3,device)"
   ]
  },
  {
   "cell_type": "markdown",
   "id": "a5bd74c3",
   "metadata": {
    "id": "a5bd74c3",
    "papermill": {
     "duration": 0.019936,
     "end_time": "2022-06-07T06:07:34.794584",
     "exception": false,
     "start_time": "2022-06-07T06:07:34.774648",
     "status": "completed"
    },
    "tags": []
   },
   "source": [
    "## Skip Connection Model Analysis - ABC-GAN "
   ]
  },
  {
   "cell_type": "markdown",
   "id": "5744a8bf",
   "metadata": {
    "id": "5744a8bf",
    "papermill": {
     "duration": 0.020877,
     "end_time": "2022-06-07T06:07:34.835079",
     "exception": false,
     "start_time": "2022-06-07T06:07:34.814202",
     "status": "completed"
    },
    "tags": []
   },
   "source": [
    "### Weight Analysis \n",
    "\n",
    "Study the weights of the skip connection layer\n",
    "\n",
    "Equation of the skip connection is \n",
    "\n",
    "$output = y_{gan} * w + y_{abc} * (1-w)$"
   ]
  },
  {
   "cell_type": "code",
   "execution_count": 19,
   "id": "52c31dea",
   "metadata": {
    "execution": {
     "iopub.execute_input": "2022-06-07T06:07:34.877464Z",
     "iopub.status.busy": "2022-06-07T06:07:34.877076Z",
     "iopub.status.idle": "2022-06-07T06:07:34.880502Z",
     "shell.execute_reply": "2022-06-07T06:07:34.880736Z"
    },
    "id": "52c31dea",
    "papermill": {
     "duration": 0.025939,
     "end_time": "2022-06-07T06:07:34.880851",
     "exception": false,
     "start_time": "2022-06-07T06:07:34.854912",
     "status": "completed"
    },
    "tags": []
   },
   "outputs": [
    {
     "name": "stdout",
     "output_type": "stream",
     "text": [
      "Weight of the node at skip connection\n",
      "Parameter containing:\n",
      "tensor([[0.1090]], requires_grad=True)\n"
     ]
    },
    {
     "data": {
      "application/scrapbook.scrap.json+json": {
       "data": 0.10904351621866226,
       "encoder": "json",
       "name": "Skip Connection Weight",
       "version": 1
      }
     },
     "metadata": {
      "scrapbook": {
       "data": true,
       "display": false,
       "name": "Skip Connection Weight"
      }
     },
     "output_type": "display_data"
    }
   ],
   "source": [
    "print(\"Weight of the node at skip connection\")\n",
    "for name,param in gen3.named_parameters():\n",
    "    if(name == \"skipNode.weight\"):\n",
    "        print(param)\n",
    "        sb.glue(\"Skip Connection Weight\",param.item())"
   ]
  }
 ],
 "metadata": {
  "colab": {
   "collapsed_sections": [],
   "name": "ABC_GAN_Model-Catboost_Pre-gen.ipynb",
   "provenance": []
  },
  "interpreter": {
   "hash": "31f2aee4e71d21fbe5cf8b01ff0e069b9275f58929596ceb00d14d90e3e16cd6"
  },
  "kernelspec": {
   "display_name": "Python 3 (ipykernel)",
   "language": "python",
   "name": "python3"
  },
  "language_info": {
   "codemirror_mode": {
    "name": "ipython",
    "version": 3
   },
   "file_extension": ".py",
   "mimetype": "text/x-python",
   "name": "python",
   "nbconvert_exporter": "python",
   "pygments_lexer": "ipython3",
   "version": "3.8.11"
  },
  "papermill": {
   "default_parameters": {},
   "duration": 58.724167,
   "end_time": "2022-06-07T06:07:35.209067",
   "environment_variables": {},
   "exception": null,
   "input_path": "ABC_GAN-Catboost.ipynb",
   "output_path": "./ABC_GAN_Catboost/ABC-GAN_output_2_5.ipynb",
   "parameters": {
    "bias": 0.1,
    "variance": 0.01
   },
   "start_time": "2022-06-07T06:06:36.484900",
   "version": "2.3.3"
  }
 },
 "nbformat": 4,
 "nbformat_minor": 5
}