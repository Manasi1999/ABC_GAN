{
 "cells": [
  {
   "cell_type": "markdown",
   "id": "622780e6",
   "metadata": {
    "id": "622780e6",
    "papermill": {
     "duration": 0.032817,
     "end_time": "2022-06-07T07:01:17.105985",
     "exception": false,
     "start_time": "2022-06-07T07:01:17.073168",
     "status": "completed"
    },
    "tags": []
   },
   "source": [
    "## Import Libraries "
   ]
  },
  {
   "cell_type": "code",
   "execution_count": 1,
   "id": "a62397e3",
   "metadata": {
    "execution": {
     "iopub.execute_input": "2022-06-07T07:01:17.142408Z",
     "iopub.status.busy": "2022-06-07T07:01:17.141803Z",
     "iopub.status.idle": "2022-06-07T07:01:17.144152Z",
     "shell.execute_reply": "2022-06-07T07:01:17.144558Z"
    },
    "id": "a62397e3",
    "papermill": {
     "duration": 0.02234,
     "end_time": "2022-06-07T07:01:17.144766",
     "exception": false,
     "start_time": "2022-06-07T07:01:17.122426",
     "status": "completed"
    },
    "tags": []
   },
   "outputs": [],
   "source": [
    "import warnings\n",
    "import sys\n",
    "sys.path.insert(0, '../../src')\n",
    "warnings.filterwarnings('ignore')"
   ]
  },
  {
   "cell_type": "code",
   "execution_count": 2,
   "id": "d6a4e155",
   "metadata": {
    "execution": {
     "iopub.execute_input": "2022-06-07T07:01:17.165472Z",
     "iopub.status.busy": "2022-06-07T07:01:17.165056Z",
     "iopub.status.idle": "2022-06-07T07:01:18.952646Z",
     "shell.execute_reply": "2022-06-07T07:01:18.952898Z"
    },
    "id": "d6a4e155",
    "papermill": {
     "duration": 1.798629,
     "end_time": "2022-06-07T07:01:18.953026",
     "exception": false,
     "start_time": "2022-06-07T07:01:17.154397",
     "status": "completed"
    },
    "tags": []
   },
   "outputs": [],
   "source": [
    "import ABC_train_test2\n",
    "import friedman1Dataset\n",
    "import network\n",
    "import dataset\n",
    "import sanityChecks\n",
    "import torch \n",
    "import scrapbook as sb\n",
    "from statistics import mean \n",
    "import catboost as ctb \n",
    "from sklearn.model_selection import train_test_split\n",
    "from sklearn.metrics import mean_squared_error,mean_absolute_error\n",
    "import numpy as np"
   ]
  },
  {
   "cell_type": "markdown",
   "id": "2fa5b0f7",
   "metadata": {
    "id": "2fa5b0f7",
    "papermill": {
     "duration": 0.006839,
     "end_time": "2022-06-07T07:01:18.967180",
     "exception": false,
     "start_time": "2022-06-07T07:01:18.960341",
     "status": "completed"
    },
    "tags": []
   },
   "source": [
    "## Parameters "
   ]
  },
  {
   "cell_type": "code",
   "execution_count": 3,
   "id": "783186fb",
   "metadata": {
    "execution": {
     "iopub.execute_input": "2022-06-07T07:01:18.982756Z",
     "iopub.status.busy": "2022-06-07T07:01:18.982389Z",
     "iopub.status.idle": "2022-06-07T07:01:18.983712Z",
     "shell.execute_reply": "2022-06-07T07:01:18.983955Z"
    },
    "id": "783186fb",
    "papermill": {
     "duration": 0.010152,
     "end_time": "2022-06-07T07:01:18.984063",
     "exception": false,
     "start_time": "2022-06-07T07:01:18.973911",
     "status": "completed"
    },
    "tags": [
     "parameters"
    ]
   },
   "outputs": [],
   "source": [
    "variance = 1\n",
    "bias = 1 "
   ]
  },
  {
   "cell_type": "code",
   "execution_count": 4,
   "id": "2c31c921",
   "metadata": {
    "execution": {
     "iopub.execute_input": "2022-06-07T07:01:18.999593Z",
     "iopub.status.busy": "2022-06-07T07:01:18.999221Z",
     "iopub.status.idle": "2022-06-07T07:01:19.000453Z",
     "shell.execute_reply": "2022-06-07T07:01:19.000697Z"
    },
    "papermill": {
     "duration": 0.009907,
     "end_time": "2022-06-07T07:01:19.000803",
     "exception": false,
     "start_time": "2022-06-07T07:01:18.990896",
     "status": "completed"
    },
    "tags": [
     "injected-parameters"
    ]
   },
   "outputs": [],
   "source": [
    "# Parameters\n",
    "variance = 0.01\n",
    "bias = 0.1\n"
   ]
  },
  {
   "cell_type": "markdown",
   "id": "391cdbfd",
   "metadata": {
    "id": "391cdbfd",
    "papermill": {
     "duration": 0.006727,
     "end_time": "2022-06-07T07:01:19.014365",
     "exception": false,
     "start_time": "2022-06-07T07:01:19.007638",
     "status": "completed"
    },
    "tags": []
   },
   "source": [
    "## Dataset \n"
   ]
  },
  {
   "cell_type": "code",
   "execution_count": 5,
   "id": "5b51f161",
   "metadata": {
    "execution": {
     "iopub.execute_input": "2022-06-07T07:01:19.029904Z",
     "iopub.status.busy": "2022-06-07T07:01:19.029500Z",
     "iopub.status.idle": "2022-06-07T07:01:19.030747Z",
     "shell.execute_reply": "2022-06-07T07:01:19.030977Z"
    },
    "id": "5b51f161",
    "papermill": {
     "duration": 0.009912,
     "end_time": "2022-06-07T07:01:19.031080",
     "exception": false,
     "start_time": "2022-06-07T07:01:19.021168",
     "status": "completed"
    },
    "tags": []
   },
   "outputs": [],
   "source": [
    "#Parameters \n",
    "n_features = 5\n",
    "n_samples= 100\n",
    "n_target = 1 "
   ]
  },
  {
   "cell_type": "code",
   "execution_count": 6,
   "id": "5d6eced4",
   "metadata": {
    "execution": {
     "iopub.execute_input": "2022-06-07T07:01:19.047707Z",
     "iopub.status.busy": "2022-06-07T07:01:19.046435Z",
     "iopub.status.idle": "2022-06-07T07:01:19.052479Z",
     "shell.execute_reply": "2022-06-07T07:01:19.052729Z"
    },
    "id": "5d6eced4",
    "papermill": {
     "duration": 0.014858,
     "end_time": "2022-06-07T07:01:19.052841",
     "exception": false,
     "start_time": "2022-06-07T07:01:19.037983",
     "status": "completed"
    },
    "tags": []
   },
   "outputs": [
    {
     "name": "stdout",
     "output_type": "stream",
     "text": [
      "         X0        X1        X2        X3        X4         Y\n",
      "0  0.107029  1.333618  0.252498 -0.187742 -0.241147  0.527405\n",
      "1 -0.029878 -1.458483  0.356742 -0.478792  1.345163 -1.074751\n",
      "2  0.883007 -0.237027  0.734680  0.302011 -1.622139  0.357373\n",
      "3 -0.119898  1.006128  0.063147 -1.405782  1.483906  0.078675\n",
      "4 -0.005239  1.406408  1.405187  0.204434 -0.476089  1.422548\n"
     ]
    }
   ],
   "source": [
    "X,Y = friedman1Dataset.friedman1_data(n_samples,n_features)"
   ]
  },
  {
   "cell_type": "code",
   "execution_count": 7,
   "id": "fe007438",
   "metadata": {
    "execution": {
     "iopub.execute_input": "2022-06-07T07:01:19.069599Z",
     "iopub.status.busy": "2022-06-07T07:01:19.069254Z",
     "iopub.status.idle": "2022-06-07T07:01:19.070593Z",
     "shell.execute_reply": "2022-06-07T07:01:19.070823Z"
    },
    "id": "fe007438",
    "papermill": {
     "duration": 0.01087,
     "end_time": "2022-06-07T07:01:19.070928",
     "exception": false,
     "start_time": "2022-06-07T07:01:19.060058",
     "status": "completed"
    },
    "tags": []
   },
   "outputs": [],
   "source": [
    "#Train test split for dataset \n",
    "X_train,X_test,Y_train,Y_test = train_test_split(X,Y,test_size = 0.2)\n",
    "train_data = dataset.CustomDataset(X_train,Y_train)\n",
    "test_data = dataset.CustomDataset(X_test,Y_test)\n"
   ]
  },
  {
   "cell_type": "markdown",
   "id": "a9a1af34",
   "metadata": {
    "id": "a9a1af34",
    "papermill": {
     "duration": 0.007158,
     "end_time": "2022-06-07T07:01:19.085303",
     "exception": false,
     "start_time": "2022-06-07T07:01:19.078145",
     "status": "completed"
    },
    "tags": []
   },
   "source": [
    "## Training Parameters "
   ]
  },
  {
   "cell_type": "code",
   "execution_count": 8,
   "id": "952b7fc8",
   "metadata": {
    "execution": {
     "iopub.execute_input": "2022-06-07T07:01:19.101854Z",
     "iopub.status.busy": "2022-06-07T07:01:19.101481Z",
     "iopub.status.idle": "2022-06-07T07:01:19.102741Z",
     "shell.execute_reply": "2022-06-07T07:01:19.102977Z"
    },
    "id": "952b7fc8",
    "papermill": {
     "duration": 0.010664,
     "end_time": "2022-06-07T07:01:19.103081",
     "exception": false,
     "start_time": "2022-06-07T07:01:19.092417",
     "status": "completed"
    },
    "tags": []
   },
   "outputs": [],
   "source": [
    "batch_size = 32\n",
    "n_epochs = 1000\n",
    "#Select the device \n",
    "device = torch.device('cuda' if torch.cuda.is_available() else 'cpu')"
   ]
  },
  {
   "cell_type": "markdown",
   "id": "a95e1600",
   "metadata": {
    "id": "a95e1600",
    "papermill": {
     "duration": 0.007023,
     "end_time": "2022-06-07T07:01:19.117303",
     "exception": false,
     "start_time": "2022-06-07T07:01:19.110280",
     "status": "completed"
    },
    "tags": []
   },
   "source": [
    "# ABC Pre-generator Model \n",
    "\n",
    "1. The catboost model is used as a pre-generator model for the ABC-GAN. \n",
    "2. The model is first trained on the entire dataset \n",
    "3. It generats X,Y pairs and we add some Gaussian noise with mean 0 and variance 1 to it which is then feed as input to the generator.\n"
   ]
  },
  {
   "cell_type": "code",
   "execution_count": 9,
   "id": "ff8ce7bd",
   "metadata": {
    "execution": {
     "iopub.execute_input": "2022-06-07T07:01:19.135865Z",
     "iopub.status.busy": "2022-06-07T07:01:19.135505Z",
     "iopub.status.idle": "2022-06-07T07:01:19.828696Z",
     "shell.execute_reply": "2022-06-07T07:01:19.828948Z"
    },
    "id": "ff8ce7bd",
    "papermill": {
     "duration": 0.704613,
     "end_time": "2022-06-07T07:01:19.829069",
     "exception": false,
     "start_time": "2022-06-07T07:01:19.124456",
     "status": "completed"
    },
    "tags": []
   },
   "outputs": [
    {
     "name": "stdout",
     "output_type": "stream",
     "text": [
      "Learning rate set to 0.024897\n",
      "0:\tlearn: 0.9695425\ttotal: 59ms\tremaining: 59s\n",
      "1:\tlearn: 0.9606021\ttotal: 61.1ms\tremaining: 30.5s\n",
      "2:\tlearn: 0.9505296\ttotal: 61.8ms\tremaining: 20.5s\n",
      "3:\tlearn: 0.9413011\ttotal: 62.3ms\tremaining: 15.5s\n",
      "4:\tlearn: 0.9318407\ttotal: 62.9ms\tremaining: 12.5s\n",
      "5:\tlearn: 0.9237031\ttotal: 63.4ms\tremaining: 10.5s\n",
      "6:\tlearn: 0.9134528\ttotal: 64.8ms\tremaining: 9.19s\n",
      "7:\tlearn: 0.9033953\ttotal: 65.4ms\tremaining: 8.1s\n",
      "8:\tlearn: 0.8952500\ttotal: 65.9ms\tremaining: 7.26s\n",
      "9:\tlearn: 0.8868891\ttotal: 66.5ms\tremaining: 6.58s\n",
      "10:\tlearn: 0.8784108\ttotal: 66.9ms\tremaining: 6.01s\n",
      "11:\tlearn: 0.8688438\ttotal: 67.4ms\tremaining: 5.55s\n",
      "12:\tlearn: 0.8605071\ttotal: 68.4ms\tremaining: 5.19s\n",
      "13:\tlearn: 0.8525445\ttotal: 68.9ms\tremaining: 4.85s\n",
      "14:\tlearn: 0.8462654\ttotal: 69.4ms\tremaining: 4.56s\n",
      "15:\tlearn: 0.8391204\ttotal: 69.9ms\tremaining: 4.3s\n",
      "16:\tlearn: 0.8320983\ttotal: 70.4ms\tremaining: 4.07s\n",
      "17:\tlearn: 0.8245153\ttotal: 70.8ms\tremaining: 3.86s\n",
      "18:\tlearn: 0.8172261\ttotal: 71.3ms\tremaining: 3.68s\n",
      "19:\tlearn: 0.8099857\ttotal: 71.7ms\tremaining: 3.51s\n",
      "20:\tlearn: 0.8026645\ttotal: 72ms\tremaining: 3.36s\n",
      "21:\tlearn: 0.7958359\ttotal: 72.4ms\tremaining: 3.22s\n",
      "22:\tlearn: 0.7887874\ttotal: 72.9ms\tremaining: 3.1s\n",
      "23:\tlearn: 0.7831282\ttotal: 73.4ms\tremaining: 2.99s\n",
      "24:\tlearn: 0.7764875\ttotal: 73.9ms\tremaining: 2.88s\n",
      "25:\tlearn: 0.7691258\ttotal: 74.3ms\tremaining: 2.78s\n",
      "26:\tlearn: 0.7630878\ttotal: 74.8ms\tremaining: 2.7s\n",
      "27:\tlearn: 0.7557940\ttotal: 75.4ms\tremaining: 2.62s\n",
      "28:\tlearn: 0.7475593\ttotal: 75.9ms\tremaining: 2.54s\n",
      "29:\tlearn: 0.7413173\ttotal: 77.1ms\tremaining: 2.49s\n",
      "30:\tlearn: 0.7358526\ttotal: 77.6ms\tremaining: 2.42s\n",
      "31:\tlearn: 0.7291109\ttotal: 78ms\tremaining: 2.36s\n",
      "32:\tlearn: 0.7239034\ttotal: 78.5ms\tremaining: 2.3s\n",
      "33:\tlearn: 0.7177216\ttotal: 78.9ms\tremaining: 2.24s\n",
      "34:\tlearn: 0.7120587\ttotal: 79.3ms\tremaining: 2.19s\n",
      "35:\tlearn: 0.7072254\ttotal: 79.7ms\tremaining: 2.13s\n",
      "36:\tlearn: 0.7013603\ttotal: 80.1ms\tremaining: 2.08s\n",
      "37:\tlearn: 0.6939322\ttotal: 80.6ms\tremaining: 2.04s\n",
      "38:\tlearn: 0.6878450\ttotal: 81ms\tremaining: 2s\n",
      "39:\tlearn: 0.6824765\ttotal: 81.4ms\tremaining: 1.95s\n",
      "40:\tlearn: 0.6751459\ttotal: 82.2ms\tremaining: 1.92s\n",
      "41:\tlearn: 0.6697029\ttotal: 82.6ms\tremaining: 1.88s\n",
      "42:\tlearn: 0.6653921\ttotal: 83.1ms\tremaining: 1.85s\n",
      "43:\tlearn: 0.6600310\ttotal: 83.5ms\tremaining: 1.81s\n",
      "44:\tlearn: 0.6546337\ttotal: 83.9ms\tremaining: 1.78s\n",
      "45:\tlearn: 0.6487136\ttotal: 84.4ms\tremaining: 1.75s\n",
      "46:\tlearn: 0.6440766\ttotal: 84.9ms\tremaining: 1.72s\n",
      "47:\tlearn: 0.6387394\ttotal: 85.6ms\tremaining: 1.7s\n",
      "48:\tlearn: 0.6336105\ttotal: 86ms\tremaining: 1.67s\n",
      "49:\tlearn: 0.6275487\ttotal: 86.4ms\tremaining: 1.64s\n",
      "50:\tlearn: 0.6222997\ttotal: 86.8ms\tremaining: 1.61s\n",
      "51:\tlearn: 0.6172421\ttotal: 87.2ms\tremaining: 1.59s\n",
      "52:\tlearn: 0.6113595\ttotal: 87.7ms\tremaining: 1.57s\n",
      "53:\tlearn: 0.6061859\ttotal: 88ms\tremaining: 1.54s\n",
      "54:\tlearn: 0.6015548\ttotal: 88.4ms\tremaining: 1.52s\n",
      "55:\tlearn: 0.5975271\ttotal: 89.4ms\tremaining: 1.51s\n",
      "56:\tlearn: 0.5942042\ttotal: 89.9ms\tremaining: 1.49s\n",
      "57:\tlearn: 0.5891867\ttotal: 90.3ms\tremaining: 1.47s\n",
      "58:\tlearn: 0.5843570\ttotal: 90.7ms\tremaining: 1.45s\n",
      "59:\tlearn: 0.5801444\ttotal: 91.3ms\tremaining: 1.43s\n",
      "60:\tlearn: 0.5758134\ttotal: 91.8ms\tremaining: 1.41s\n",
      "61:\tlearn: 0.5712751\ttotal: 92.4ms\tremaining: 1.4s\n",
      "62:\tlearn: 0.5668550\ttotal: 92.7ms\tremaining: 1.38s\n",
      "63:\tlearn: 0.5623980\ttotal: 93.1ms\tremaining: 1.36s\n",
      "64:\tlearn: 0.5591481\ttotal: 93.4ms\tremaining: 1.34s\n",
      "65:\tlearn: 0.5549573\ttotal: 93.8ms\tremaining: 1.33s\n",
      "66:\tlearn: 0.5496397\ttotal: 94.2ms\tremaining: 1.31s\n",
      "67:\tlearn: 0.5457828\ttotal: 94.6ms\tremaining: 1.3s\n",
      "68:\tlearn: 0.5408243\ttotal: 95ms\tremaining: 1.28s\n",
      "69:\tlearn: 0.5365416\ttotal: 95.4ms\tremaining: 1.27s\n",
      "70:\tlearn: 0.5318003\ttotal: 95.8ms\tremaining: 1.25s\n",
      "71:\tlearn: 0.5277804\ttotal: 96.2ms\tremaining: 1.24s\n",
      "72:\tlearn: 0.5230567\ttotal: 96.5ms\tremaining: 1.23s\n",
      "73:\tlearn: 0.5197986\ttotal: 97ms\tremaining: 1.21s\n",
      "74:\tlearn: 0.5165023\ttotal: 97.5ms\tremaining: 1.2s\n",
      "75:\tlearn: 0.5139329\ttotal: 97.9ms\tremaining: 1.19s\n",
      "76:\tlearn: 0.5106909\ttotal: 98.3ms\tremaining: 1.18s\n",
      "77:\tlearn: 0.5071910\ttotal: 98.7ms\tremaining: 1.17s\n",
      "78:\tlearn: 0.5044633\ttotal: 99.1ms\tremaining: 1.16s\n",
      "79:\tlearn: 0.5008079\ttotal: 99.6ms\tremaining: 1.15s\n",
      "80:\tlearn: 0.4967980\ttotal: 100ms\tremaining: 1.14s\n",
      "81:\tlearn: 0.4929303\ttotal: 100ms\tremaining: 1.12s\n",
      "82:\tlearn: 0.4889390\ttotal: 101ms\tremaining: 1.11s\n",
      "83:\tlearn: 0.4857441\ttotal: 101ms\tremaining: 1.1s\n",
      "84:\tlearn: 0.4817190\ttotal: 102ms\tremaining: 1.1s\n",
      "85:\tlearn: 0.4781186\ttotal: 102ms\tremaining: 1.09s\n",
      "86:\tlearn: 0.4743522\ttotal: 103ms\tremaining: 1.08s\n",
      "87:\tlearn: 0.4702341\ttotal: 103ms\tremaining: 1.07s\n",
      "88:\tlearn: 0.4672336\ttotal: 104ms\tremaining: 1.06s\n",
      "89:\tlearn: 0.4649147\ttotal: 104ms\tremaining: 1.05s\n",
      "90:\tlearn: 0.4614350\ttotal: 105ms\tremaining: 1.05s\n",
      "91:\tlearn: 0.4581589\ttotal: 105ms\tremaining: 1.04s\n",
      "92:\tlearn: 0.4551999\ttotal: 106ms\tremaining: 1.03s\n",
      "93:\tlearn: 0.4524536\ttotal: 106ms\tremaining: 1.02s\n",
      "94:\tlearn: 0.4494083\ttotal: 107ms\tremaining: 1.02s\n",
      "95:\tlearn: 0.4462784\ttotal: 107ms\tremaining: 1.01s\n",
      "96:\tlearn: 0.4432778\ttotal: 108ms\tremaining: 1s\n"
     ]
    },
    {
     "name": "stdout",
     "output_type": "stream",
     "text": [
      "97:\tlearn: 0.4410445\ttotal: 108ms\tremaining: 997ms\n",
      "98:\tlearn: 0.4375350\ttotal: 109ms\tremaining: 992ms\n",
      "99:\tlearn: 0.4348642\ttotal: 109ms\tremaining: 985ms\n",
      "100:\tlearn: 0.4321251\ttotal: 110ms\tremaining: 979ms\n",
      "101:\tlearn: 0.4290201\ttotal: 110ms\tremaining: 972ms\n",
      "102:\tlearn: 0.4268156\ttotal: 111ms\tremaining: 965ms\n",
      "103:\tlearn: 0.4239031\ttotal: 111ms\tremaining: 959ms\n",
      "104:\tlearn: 0.4203055\ttotal: 112ms\tremaining: 954ms\n",
      "105:\tlearn: 0.4166022\ttotal: 112ms\tremaining: 949ms\n",
      "106:\tlearn: 0.4134694\ttotal: 113ms\tremaining: 942ms\n",
      "107:\tlearn: 0.4104891\ttotal: 113ms\tremaining: 935ms\n",
      "108:\tlearn: 0.4081734\ttotal: 114ms\tremaining: 928ms\n",
      "109:\tlearn: 0.4058128\ttotal: 114ms\tremaining: 923ms\n",
      "110:\tlearn: 0.4035137\ttotal: 114ms\tremaining: 917ms\n",
      "111:\tlearn: 0.4003790\ttotal: 116ms\tremaining: 918ms\n",
      "112:\tlearn: 0.3981393\ttotal: 116ms\tremaining: 913ms\n",
      "113:\tlearn: 0.3955471\ttotal: 117ms\tremaining: 906ms\n",
      "114:\tlearn: 0.3931110\ttotal: 117ms\tremaining: 902ms\n",
      "115:\tlearn: 0.3915922\ttotal: 118ms\tremaining: 897ms\n",
      "116:\tlearn: 0.3894278\ttotal: 118ms\tremaining: 891ms\n",
      "117:\tlearn: 0.3874996\ttotal: 119ms\tremaining: 886ms\n",
      "118:\tlearn: 0.3847582\ttotal: 119ms\tremaining: 881ms\n",
      "119:\tlearn: 0.3820853\ttotal: 120ms\tremaining: 877ms\n",
      "120:\tlearn: 0.3797313\ttotal: 120ms\tremaining: 873ms\n",
      "121:\tlearn: 0.3775686\ttotal: 121ms\tremaining: 868ms\n",
      "122:\tlearn: 0.3755751\ttotal: 121ms\tremaining: 863ms\n",
      "123:\tlearn: 0.3731594\ttotal: 122ms\tremaining: 858ms\n",
      "124:\tlearn: 0.3707815\ttotal: 122ms\tremaining: 854ms\n",
      "125:\tlearn: 0.3681973\ttotal: 122ms\tremaining: 850ms\n",
      "126:\tlearn: 0.3666546\ttotal: 123ms\tremaining: 845ms\n",
      "127:\tlearn: 0.3638900\ttotal: 124ms\tremaining: 842ms\n",
      "128:\tlearn: 0.3617490\ttotal: 124ms\tremaining: 838ms\n",
      "129:\tlearn: 0.3590522\ttotal: 125ms\tremaining: 833ms\n",
      "130:\tlearn: 0.3570757\ttotal: 125ms\tremaining: 829ms\n",
      "131:\tlearn: 0.3549997\ttotal: 125ms\tremaining: 824ms\n",
      "132:\tlearn: 0.3531804\ttotal: 126ms\tremaining: 820ms\n",
      "133:\tlearn: 0.3507847\ttotal: 126ms\tremaining: 816ms\n",
      "134:\tlearn: 0.3487275\ttotal: 127ms\tremaining: 811ms\n",
      "135:\tlearn: 0.3465685\ttotal: 127ms\tremaining: 809ms\n",
      "136:\tlearn: 0.3443356\ttotal: 128ms\tremaining: 804ms\n",
      "137:\tlearn: 0.3418767\ttotal: 128ms\tremaining: 801ms\n",
      "138:\tlearn: 0.3395682\ttotal: 129ms\tremaining: 797ms\n",
      "139:\tlearn: 0.3379161\ttotal: 129ms\tremaining: 793ms\n",
      "140:\tlearn: 0.3360222\ttotal: 130ms\tremaining: 789ms\n",
      "141:\tlearn: 0.3338935\ttotal: 130ms\tremaining: 785ms\n",
      "142:\tlearn: 0.3315283\ttotal: 130ms\tremaining: 780ms\n",
      "143:\tlearn: 0.3296568\ttotal: 131ms\tremaining: 777ms\n",
      "144:\tlearn: 0.3275535\ttotal: 131ms\tremaining: 773ms\n",
      "145:\tlearn: 0.3258543\ttotal: 132ms\tremaining: 770ms\n",
      "146:\tlearn: 0.3240437\ttotal: 132ms\tremaining: 767ms\n",
      "147:\tlearn: 0.3219702\ttotal: 133ms\tremaining: 763ms\n",
      "148:\tlearn: 0.3200419\ttotal: 133ms\tremaining: 762ms\n",
      "149:\tlearn: 0.3182174\ttotal: 134ms\tremaining: 758ms\n",
      "150:\tlearn: 0.3160808\ttotal: 134ms\tremaining: 755ms\n",
      "151:\tlearn: 0.3140095\ttotal: 135ms\tremaining: 751ms\n",
      "152:\tlearn: 0.3117385\ttotal: 135ms\tremaining: 747ms\n",
      "153:\tlearn: 0.3095660\ttotal: 135ms\tremaining: 743ms\n",
      "154:\tlearn: 0.3076535\ttotal: 136ms\tremaining: 739ms\n",
      "155:\tlearn: 0.3054789\ttotal: 136ms\tremaining: 736ms\n",
      "156:\tlearn: 0.3034591\ttotal: 136ms\tremaining: 732ms\n",
      "157:\tlearn: 0.3019146\ttotal: 137ms\tremaining: 730ms\n",
      "158:\tlearn: 0.2998849\ttotal: 138ms\tremaining: 728ms\n",
      "159:\tlearn: 0.2979476\ttotal: 138ms\tremaining: 726ms\n",
      "160:\tlearn: 0.2959739\ttotal: 139ms\tremaining: 724ms\n",
      "161:\tlearn: 0.2940698\ttotal: 139ms\tremaining: 720ms\n",
      "162:\tlearn: 0.2922207\ttotal: 140ms\tremaining: 717ms\n",
      "163:\tlearn: 0.2902717\ttotal: 140ms\tremaining: 714ms\n",
      "164:\tlearn: 0.2882353\ttotal: 141ms\tremaining: 711ms\n",
      "165:\tlearn: 0.2865224\ttotal: 141ms\tremaining: 708ms\n",
      "166:\tlearn: 0.2847415\ttotal: 141ms\tremaining: 705ms\n",
      "167:\tlearn: 0.2831547\ttotal: 142ms\tremaining: 704ms\n",
      "168:\tlearn: 0.2813098\ttotal: 142ms\tremaining: 701ms\n",
      "169:\tlearn: 0.2793607\ttotal: 143ms\tremaining: 699ms\n",
      "170:\tlearn: 0.2778070\ttotal: 143ms\tremaining: 695ms\n",
      "171:\tlearn: 0.2759043\ttotal: 144ms\tremaining: 693ms\n",
      "172:\tlearn: 0.2737547\ttotal: 144ms\tremaining: 690ms\n",
      "173:\tlearn: 0.2723041\ttotal: 145ms\tremaining: 688ms\n",
      "174:\tlearn: 0.2703544\ttotal: 145ms\tremaining: 686ms\n",
      "175:\tlearn: 0.2694605\ttotal: 146ms\tremaining: 683ms\n",
      "176:\tlearn: 0.2676114\ttotal: 146ms\tremaining: 680ms\n",
      "177:\tlearn: 0.2660273\ttotal: 147ms\tremaining: 677ms\n",
      "178:\tlearn: 0.2645694\ttotal: 147ms\tremaining: 675ms\n",
      "179:\tlearn: 0.2627291\ttotal: 148ms\tremaining: 672ms\n",
      "180:\tlearn: 0.2610000\ttotal: 148ms\tremaining: 669ms\n",
      "181:\tlearn: 0.2594487\ttotal: 148ms\tremaining: 667ms\n",
      "182:\tlearn: 0.2578479\ttotal: 149ms\tremaining: 666ms\n",
      "183:\tlearn: 0.2564665\ttotal: 150ms\tremaining: 663ms\n",
      "184:\tlearn: 0.2546207\ttotal: 150ms\tremaining: 660ms\n",
      "185:\tlearn: 0.2530020\ttotal: 150ms\tremaining: 658ms\n",
      "186:\tlearn: 0.2513133\ttotal: 151ms\tremaining: 656ms\n",
      "187:\tlearn: 0.2497967\ttotal: 151ms\tremaining: 653ms\n",
      "188:\tlearn: 0.2479758\ttotal: 152ms\tremaining: 651ms\n",
      "189:\tlearn: 0.2460014\ttotal: 152ms\tremaining: 649ms\n",
      "190:\tlearn: 0.2444747\ttotal: 153ms\tremaining: 646ms\n",
      "191:\tlearn: 0.2431809\ttotal: 153ms\tremaining: 644ms\n",
      "192:\tlearn: 0.2418553\ttotal: 153ms\tremaining: 642ms\n",
      "193:\tlearn: 0.2403576\ttotal: 154ms\tremaining: 640ms\n",
      "194:\tlearn: 0.2388861\ttotal: 154ms\tremaining: 638ms\n",
      "195:\tlearn: 0.2375298\ttotal: 155ms\tremaining: 636ms\n",
      "196:\tlearn: 0.2358556\ttotal: 156ms\tremaining: 635ms\n",
      "197:\tlearn: 0.2344279\ttotal: 156ms\tremaining: 633ms\n",
      "198:\tlearn: 0.2331539\ttotal: 157ms\tremaining: 631ms\n",
      "199:\tlearn: 0.2321610\ttotal: 157ms\tremaining: 629ms\n",
      "200:\tlearn: 0.2309427\ttotal: 158ms\tremaining: 627ms\n",
      "201:\tlearn: 0.2295475\ttotal: 158ms\tremaining: 625ms\n",
      "202:\tlearn: 0.2279206\ttotal: 158ms\tremaining: 622ms\n",
      "203:\tlearn: 0.2263801\ttotal: 159ms\tremaining: 620ms\n",
      "204:\tlearn: 0.2247602\ttotal: 159ms\tremaining: 618ms\n",
      "205:\tlearn: 0.2235314\ttotal: 160ms\tremaining: 616ms\n",
      "206:\tlearn: 0.2220086\ttotal: 160ms\tremaining: 614ms\n",
      "207:\tlearn: 0.2205032\ttotal: 161ms\tremaining: 612ms\n",
      "208:\tlearn: 0.2189135\ttotal: 161ms\tremaining: 610ms\n",
      "209:\tlearn: 0.2175725\ttotal: 162ms\tremaining: 608ms\n",
      "210:\tlearn: 0.2162405\ttotal: 162ms\tremaining: 607ms\n",
      "211:\tlearn: 0.2147778\ttotal: 163ms\tremaining: 604ms\n",
      "212:\tlearn: 0.2132863\ttotal: 163ms\tremaining: 602ms\n",
      "213:\tlearn: 0.2117804\ttotal: 163ms\tremaining: 600ms\n",
      "214:\tlearn: 0.2101853\ttotal: 164ms\tremaining: 599ms\n",
      "215:\tlearn: 0.2088107\ttotal: 164ms\tremaining: 597ms\n",
      "216:\tlearn: 0.2074568\ttotal: 165ms\tremaining: 594ms\n",
      "217:\tlearn: 0.2060301\ttotal: 165ms\tremaining: 593ms\n",
      "218:\tlearn: 0.2050421\ttotal: 166ms\tremaining: 591ms\n",
      "219:\tlearn: 0.2036042\ttotal: 166ms\tremaining: 589ms\n",
      "220:\tlearn: 0.2023963\ttotal: 167ms\tremaining: 588ms\n",
      "221:\tlearn: 0.2009597\ttotal: 167ms\tremaining: 586ms\n",
      "222:\tlearn: 0.1994701\ttotal: 168ms\tremaining: 584ms\n",
      "223:\tlearn: 0.1983921\ttotal: 168ms\tremaining: 582ms\n",
      "224:\tlearn: 0.1972205\ttotal: 168ms\tremaining: 580ms\n",
      "225:\tlearn: 0.1958177\ttotal: 169ms\tremaining: 579ms\n",
      "226:\tlearn: 0.1945888\ttotal: 170ms\tremaining: 577ms\n",
      "227:\tlearn: 0.1930560\ttotal: 170ms\tremaining: 576ms\n",
      "228:\tlearn: 0.1915321\ttotal: 170ms\tremaining: 574ms\n",
      "229:\tlearn: 0.1900326\ttotal: 171ms\tremaining: 572ms\n",
      "230:\tlearn: 0.1888076\ttotal: 171ms\tremaining: 570ms\n",
      "231:\tlearn: 0.1874432\ttotal: 172ms\tremaining: 569ms\n",
      "232:\tlearn: 0.1862082\ttotal: 173ms\tremaining: 568ms\n",
      "233:\tlearn: 0.1848722\ttotal: 173ms\tremaining: 567ms\n",
      "234:\tlearn: 0.1839747\ttotal: 173ms\tremaining: 565ms\n",
      "235:\tlearn: 0.1827001\ttotal: 174ms\tremaining: 563ms\n",
      "236:\tlearn: 0.1814788\ttotal: 174ms\tremaining: 561ms\n",
      "237:\tlearn: 0.1801880\ttotal: 175ms\tremaining: 559ms\n",
      "238:\tlearn: 0.1787873\ttotal: 175ms\tremaining: 558ms\n",
      "239:\tlearn: 0.1777703\ttotal: 176ms\tremaining: 557ms\n",
      "240:\tlearn: 0.1763512\ttotal: 176ms\tremaining: 555ms\n",
      "241:\tlearn: 0.1754230\ttotal: 177ms\tremaining: 554ms\n",
      "242:\tlearn: 0.1748093\ttotal: 177ms\tremaining: 552ms\n",
      "243:\tlearn: 0.1737437\ttotal: 178ms\tremaining: 551ms\n",
      "244:\tlearn: 0.1729299\ttotal: 178ms\tremaining: 549ms\n",
      "245:\tlearn: 0.1718930\ttotal: 179ms\tremaining: 548ms\n",
      "246:\tlearn: 0.1707157\ttotal: 179ms\tremaining: 546ms\n",
      "247:\tlearn: 0.1697541\ttotal: 180ms\tremaining: 545ms\n",
      "248:\tlearn: 0.1688457\ttotal: 180ms\tremaining: 543ms\n",
      "249:\tlearn: 0.1677405\ttotal: 180ms\tremaining: 541ms\n",
      "250:\tlearn: 0.1668220\ttotal: 181ms\tremaining: 540ms\n",
      "251:\tlearn: 0.1659461\ttotal: 181ms\tremaining: 538ms\n",
      "252:\tlearn: 0.1649843\ttotal: 182ms\tremaining: 537ms\n",
      "253:\tlearn: 0.1639654\ttotal: 182ms\tremaining: 535ms\n",
      "254:\tlearn: 0.1630541\ttotal: 183ms\tremaining: 534ms\n",
      "255:\tlearn: 0.1620191\ttotal: 183ms\tremaining: 532ms\n",
      "256:\tlearn: 0.1613152\ttotal: 184ms\tremaining: 531ms\n",
      "257:\tlearn: 0.1602326\ttotal: 184ms\tremaining: 529ms\n",
      "258:\tlearn: 0.1592199\ttotal: 184ms\tremaining: 528ms\n",
      "259:\tlearn: 0.1581122\ttotal: 185ms\tremaining: 526ms\n",
      "260:\tlearn: 0.1572142\ttotal: 185ms\tremaining: 524ms\n",
      "261:\tlearn: 0.1563141\ttotal: 186ms\tremaining: 523ms\n",
      "262:\tlearn: 0.1553551\ttotal: 186ms\tremaining: 521ms\n",
      "263:\tlearn: 0.1542904\ttotal: 187ms\tremaining: 520ms\n"
     ]
    },
    {
     "name": "stdout",
     "output_type": "stream",
     "text": [
      "264:\tlearn: 0.1532440\ttotal: 187ms\tremaining: 519ms\n",
      "265:\tlearn: 0.1523453\ttotal: 188ms\tremaining: 519ms\n",
      "266:\tlearn: 0.1516676\ttotal: 189ms\tremaining: 520ms\n",
      "267:\tlearn: 0.1509371\ttotal: 190ms\tremaining: 518ms\n",
      "268:\tlearn: 0.1498893\ttotal: 190ms\tremaining: 517ms\n",
      "269:\tlearn: 0.1488921\ttotal: 191ms\tremaining: 515ms\n",
      "270:\tlearn: 0.1481018\ttotal: 191ms\tremaining: 514ms\n",
      "271:\tlearn: 0.1470273\ttotal: 191ms\tremaining: 512ms\n",
      "272:\tlearn: 0.1460468\ttotal: 192ms\tremaining: 511ms\n",
      "273:\tlearn: 0.1450496\ttotal: 192ms\tremaining: 510ms\n",
      "274:\tlearn: 0.1440104\ttotal: 193ms\tremaining: 508ms\n",
      "275:\tlearn: 0.1433006\ttotal: 193ms\tremaining: 507ms\n",
      "276:\tlearn: 0.1423373\ttotal: 194ms\tremaining: 506ms\n",
      "277:\tlearn: 0.1415227\ttotal: 194ms\tremaining: 504ms\n",
      "278:\tlearn: 0.1406739\ttotal: 195ms\tremaining: 503ms\n",
      "279:\tlearn: 0.1399644\ttotal: 195ms\tremaining: 502ms\n",
      "280:\tlearn: 0.1390413\ttotal: 195ms\tremaining: 500ms\n",
      "281:\tlearn: 0.1381711\ttotal: 196ms\tremaining: 499ms\n",
      "282:\tlearn: 0.1372647\ttotal: 196ms\tremaining: 497ms\n",
      "283:\tlearn: 0.1363756\ttotal: 197ms\tremaining: 496ms\n",
      "284:\tlearn: 0.1354666\ttotal: 197ms\tremaining: 495ms\n",
      "285:\tlearn: 0.1346008\ttotal: 198ms\tremaining: 493ms\n",
      "286:\tlearn: 0.1337875\ttotal: 198ms\tremaining: 492ms\n",
      "287:\tlearn: 0.1329191\ttotal: 199ms\tremaining: 491ms\n",
      "288:\tlearn: 0.1322616\ttotal: 199ms\tremaining: 489ms\n",
      "289:\tlearn: 0.1314574\ttotal: 200ms\tremaining: 489ms\n",
      "290:\tlearn: 0.1304353\ttotal: 200ms\tremaining: 487ms\n",
      "291:\tlearn: 0.1296320\ttotal: 200ms\tremaining: 486ms\n",
      "292:\tlearn: 0.1290069\ttotal: 201ms\tremaining: 485ms\n",
      "293:\tlearn: 0.1287664\ttotal: 201ms\tremaining: 483ms\n",
      "294:\tlearn: 0.1279138\ttotal: 202ms\tremaining: 483ms\n",
      "295:\tlearn: 0.1268701\ttotal: 202ms\tremaining: 481ms\n",
      "296:\tlearn: 0.1259851\ttotal: 203ms\tremaining: 480ms\n",
      "297:\tlearn: 0.1255085\ttotal: 203ms\tremaining: 479ms\n",
      "298:\tlearn: 0.1247672\ttotal: 204ms\tremaining: 478ms\n",
      "299:\tlearn: 0.1240857\ttotal: 204ms\tremaining: 477ms\n",
      "300:\tlearn: 0.1233450\ttotal: 205ms\tremaining: 476ms\n",
      "301:\tlearn: 0.1226740\ttotal: 205ms\tremaining: 474ms\n",
      "302:\tlearn: 0.1219789\ttotal: 206ms\tremaining: 473ms\n",
      "303:\tlearn: 0.1212489\ttotal: 206ms\tremaining: 472ms\n",
      "304:\tlearn: 0.1204930\ttotal: 207ms\tremaining: 471ms\n",
      "305:\tlearn: 0.1199317\ttotal: 208ms\tremaining: 472ms\n",
      "306:\tlearn: 0.1191615\ttotal: 208ms\tremaining: 471ms\n",
      "307:\tlearn: 0.1184361\ttotal: 209ms\tremaining: 469ms\n",
      "308:\tlearn: 0.1177401\ttotal: 209ms\tremaining: 468ms\n",
      "309:\tlearn: 0.1170233\ttotal: 210ms\tremaining: 467ms\n",
      "310:\tlearn: 0.1167809\ttotal: 210ms\tremaining: 465ms\n",
      "311:\tlearn: 0.1160857\ttotal: 211ms\tremaining: 464ms\n",
      "312:\tlearn: 0.1154095\ttotal: 211ms\tremaining: 463ms\n",
      "313:\tlearn: 0.1149838\ttotal: 212ms\tremaining: 462ms\n",
      "314:\tlearn: 0.1142837\ttotal: 212ms\tremaining: 461ms\n",
      "315:\tlearn: 0.1135968\ttotal: 213ms\tremaining: 460ms\n",
      "316:\tlearn: 0.1128442\ttotal: 213ms\tremaining: 459ms\n",
      "317:\tlearn: 0.1125320\ttotal: 214ms\tremaining: 458ms\n",
      "318:\tlearn: 0.1118186\ttotal: 214ms\tremaining: 457ms\n",
      "319:\tlearn: 0.1111057\ttotal: 214ms\tremaining: 455ms\n",
      "320:\tlearn: 0.1109051\ttotal: 215ms\tremaining: 454ms\n",
      "321:\tlearn: 0.1102261\ttotal: 215ms\tremaining: 453ms\n",
      "322:\tlearn: 0.1095342\ttotal: 216ms\tremaining: 452ms\n",
      "323:\tlearn: 0.1089138\ttotal: 216ms\tremaining: 451ms\n",
      "324:\tlearn: 0.1086971\ttotal: 217ms\tremaining: 450ms\n",
      "325:\tlearn: 0.1084937\ttotal: 217ms\tremaining: 449ms\n",
      "326:\tlearn: 0.1083070\ttotal: 218ms\tremaining: 448ms\n",
      "327:\tlearn: 0.1076234\ttotal: 218ms\tremaining: 447ms\n",
      "328:\tlearn: 0.1069953\ttotal: 218ms\tremaining: 445ms\n",
      "329:\tlearn: 0.1063850\ttotal: 219ms\tremaining: 444ms\n",
      "330:\tlearn: 0.1056739\ttotal: 219ms\tremaining: 443ms\n",
      "331:\tlearn: 0.1054906\ttotal: 220ms\tremaining: 442ms\n",
      "332:\tlearn: 0.1049973\ttotal: 220ms\tremaining: 441ms\n",
      "333:\tlearn: 0.1048206\ttotal: 221ms\tremaining: 440ms\n",
      "334:\tlearn: 0.1042811\ttotal: 221ms\tremaining: 439ms\n",
      "335:\tlearn: 0.1036713\ttotal: 222ms\tremaining: 438ms\n",
      "336:\tlearn: 0.1030922\ttotal: 222ms\tremaining: 437ms\n",
      "337:\tlearn: 0.1024032\ttotal: 223ms\tremaining: 436ms\n",
      "338:\tlearn: 0.1017288\ttotal: 223ms\tremaining: 435ms\n",
      "339:\tlearn: 0.1011513\ttotal: 224ms\tremaining: 434ms\n",
      "340:\tlearn: 0.1006450\ttotal: 224ms\tremaining: 433ms\n",
      "341:\tlearn: 0.1000721\ttotal: 225ms\tremaining: 433ms\n",
      "342:\tlearn: 0.0995531\ttotal: 225ms\tremaining: 432ms\n",
      "343:\tlearn: 0.0989820\ttotal: 226ms\tremaining: 430ms\n",
      "344:\tlearn: 0.0983977\ttotal: 226ms\tremaining: 429ms\n",
      "345:\tlearn: 0.0978520\ttotal: 226ms\tremaining: 428ms\n",
      "346:\tlearn: 0.0972995\ttotal: 227ms\tremaining: 427ms\n",
      "347:\tlearn: 0.0967247\ttotal: 228ms\tremaining: 426ms\n",
      "348:\tlearn: 0.0961148\ttotal: 228ms\tremaining: 425ms\n",
      "349:\tlearn: 0.0955950\ttotal: 229ms\tremaining: 424ms\n",
      "350:\tlearn: 0.0950144\ttotal: 229ms\tremaining: 423ms\n",
      "351:\tlearn: 0.0944097\ttotal: 229ms\tremaining: 422ms\n",
      "352:\tlearn: 0.0941336\ttotal: 230ms\tremaining: 421ms\n",
      "353:\tlearn: 0.0935628\ttotal: 231ms\tremaining: 421ms\n",
      "354:\tlearn: 0.0932930\ttotal: 231ms\tremaining: 420ms\n",
      "355:\tlearn: 0.0928232\ttotal: 232ms\tremaining: 419ms\n",
      "356:\tlearn: 0.0922697\ttotal: 232ms\tremaining: 418ms\n",
      "357:\tlearn: 0.0917068\ttotal: 233ms\tremaining: 417ms\n",
      "358:\tlearn: 0.0914643\ttotal: 233ms\tremaining: 416ms\n",
      "359:\tlearn: 0.0909107\ttotal: 234ms\tremaining: 415ms\n",
      "360:\tlearn: 0.0903502\ttotal: 234ms\tremaining: 414ms\n",
      "361:\tlearn: 0.0899060\ttotal: 235ms\tremaining: 413ms\n",
      "362:\tlearn: 0.0896574\ttotal: 235ms\tremaining: 412ms\n",
      "363:\tlearn: 0.0890361\ttotal: 235ms\tremaining: 411ms\n",
      "364:\tlearn: 0.0885189\ttotal: 236ms\tremaining: 411ms\n",
      "365:\tlearn: 0.0880836\ttotal: 237ms\tremaining: 410ms\n",
      "366:\tlearn: 0.0875584\ttotal: 237ms\tremaining: 409ms\n",
      "367:\tlearn: 0.0870985\ttotal: 238ms\tremaining: 408ms\n",
      "368:\tlearn: 0.0868614\ttotal: 238ms\tremaining: 407ms\n",
      "369:\tlearn: 0.0862636\ttotal: 239ms\tremaining: 406ms\n",
      "370:\tlearn: 0.0858125\ttotal: 239ms\tremaining: 405ms\n",
      "371:\tlearn: 0.0852348\ttotal: 240ms\tremaining: 404ms\n",
      "372:\tlearn: 0.0848001\ttotal: 240ms\tremaining: 404ms\n",
      "373:\tlearn: 0.0843749\ttotal: 241ms\tremaining: 403ms\n",
      "374:\tlearn: 0.0838579\ttotal: 241ms\tremaining: 402ms\n",
      "375:\tlearn: 0.0833508\ttotal: 242ms\tremaining: 401ms\n",
      "376:\tlearn: 0.0827973\ttotal: 242ms\tremaining: 400ms\n",
      "377:\tlearn: 0.0826337\ttotal: 242ms\tremaining: 399ms\n",
      "378:\tlearn: 0.0821963\ttotal: 243ms\tremaining: 398ms\n",
      "379:\tlearn: 0.0816622\ttotal: 243ms\tremaining: 397ms\n",
      "380:\tlearn: 0.0814895\ttotal: 244ms\tremaining: 396ms\n",
      "381:\tlearn: 0.0813192\ttotal: 244ms\tremaining: 395ms\n",
      "382:\tlearn: 0.0807661\ttotal: 245ms\tremaining: 394ms\n",
      "383:\tlearn: 0.0802658\ttotal: 245ms\tremaining: 394ms\n",
      "384:\tlearn: 0.0798498\ttotal: 246ms\tremaining: 393ms\n",
      "385:\tlearn: 0.0794433\ttotal: 246ms\tremaining: 392ms\n",
      "386:\tlearn: 0.0792793\ttotal: 247ms\tremaining: 391ms\n",
      "387:\tlearn: 0.0786637\ttotal: 247ms\tremaining: 390ms\n",
      "388:\tlearn: 0.0780799\ttotal: 248ms\tremaining: 389ms\n",
      "389:\tlearn: 0.0776099\ttotal: 248ms\tremaining: 388ms\n",
      "390:\tlearn: 0.0772395\ttotal: 249ms\tremaining: 388ms\n",
      "391:\tlearn: 0.0766551\ttotal: 249ms\tremaining: 387ms\n",
      "392:\tlearn: 0.0763221\ttotal: 250ms\tremaining: 386ms\n",
      "393:\tlearn: 0.0759111\ttotal: 250ms\tremaining: 385ms\n",
      "394:\tlearn: 0.0754638\ttotal: 251ms\tremaining: 384ms\n",
      "395:\tlearn: 0.0750623\ttotal: 251ms\tremaining: 383ms\n",
      "396:\tlearn: 0.0745528\ttotal: 252ms\tremaining: 382ms\n",
      "397:\tlearn: 0.0741878\ttotal: 252ms\tremaining: 382ms\n",
      "398:\tlearn: 0.0738738\ttotal: 253ms\tremaining: 381ms\n",
      "399:\tlearn: 0.0734202\ttotal: 253ms\tremaining: 380ms\n",
      "400:\tlearn: 0.0730313\ttotal: 254ms\tremaining: 379ms\n",
      "401:\tlearn: 0.0726732\ttotal: 254ms\tremaining: 378ms\n",
      "402:\tlearn: 0.0723233\ttotal: 255ms\tremaining: 377ms\n",
      "403:\tlearn: 0.0719711\ttotal: 255ms\tremaining: 376ms\n",
      "404:\tlearn: 0.0716295\ttotal: 256ms\tremaining: 376ms\n",
      "405:\tlearn: 0.0712059\ttotal: 256ms\tremaining: 375ms\n",
      "406:\tlearn: 0.0708642\ttotal: 257ms\tremaining: 374ms\n",
      "407:\tlearn: 0.0703429\ttotal: 257ms\tremaining: 373ms\n",
      "408:\tlearn: 0.0698999\ttotal: 257ms\tremaining: 372ms\n",
      "409:\tlearn: 0.0694120\ttotal: 258ms\tremaining: 371ms\n",
      "410:\tlearn: 0.0689832\ttotal: 258ms\tremaining: 370ms\n",
      "411:\tlearn: 0.0686774\ttotal: 259ms\tremaining: 370ms\n",
      "412:\tlearn: 0.0683786\ttotal: 259ms\tremaining: 369ms\n",
      "413:\tlearn: 0.0680537\ttotal: 260ms\tremaining: 368ms\n",
      "414:\tlearn: 0.0675835\ttotal: 260ms\tremaining: 367ms\n",
      "415:\tlearn: 0.0672795\ttotal: 261ms\tremaining: 366ms\n",
      "416:\tlearn: 0.0669929\ttotal: 261ms\tremaining: 366ms\n",
      "417:\tlearn: 0.0665360\ttotal: 262ms\tremaining: 365ms\n",
      "418:\tlearn: 0.0662606\ttotal: 262ms\tremaining: 364ms\n",
      "419:\tlearn: 0.0658084\ttotal: 263ms\tremaining: 363ms\n",
      "420:\tlearn: 0.0653613\ttotal: 263ms\tremaining: 362ms\n",
      "421:\tlearn: 0.0650593\ttotal: 264ms\tremaining: 361ms\n",
      "422:\tlearn: 0.0647629\ttotal: 264ms\tremaining: 360ms\n",
      "423:\tlearn: 0.0643965\ttotal: 265ms\tremaining: 360ms\n",
      "424:\tlearn: 0.0639475\ttotal: 265ms\tremaining: 359ms\n",
      "425:\tlearn: 0.0636873\ttotal: 266ms\tremaining: 358ms\n",
      "426:\tlearn: 0.0632677\ttotal: 266ms\tremaining: 357ms\n",
      "427:\tlearn: 0.0628397\ttotal: 266ms\tremaining: 356ms\n",
      "428:\tlearn: 0.0625526\ttotal: 267ms\tremaining: 355ms\n",
      "429:\tlearn: 0.0621570\ttotal: 268ms\tremaining: 355ms\n",
      "430:\tlearn: 0.0617346\ttotal: 268ms\tremaining: 354ms\n",
      "431:\tlearn: 0.0613385\ttotal: 268ms\tremaining: 353ms\n",
      "432:\tlearn: 0.0609270\ttotal: 269ms\tremaining: 352ms\n",
      "433:\tlearn: 0.0606842\ttotal: 269ms\tremaining: 351ms\n",
      "434:\tlearn: 0.0602975\ttotal: 270ms\tremaining: 351ms\n",
      "435:\tlearn: 0.0598550\ttotal: 270ms\tremaining: 350ms\n",
      "436:\tlearn: 0.0594580\ttotal: 271ms\tremaining: 349ms\n",
      "437:\tlearn: 0.0590968\ttotal: 272ms\tremaining: 348ms\n",
      "438:\tlearn: 0.0589638\ttotal: 272ms\tremaining: 348ms\n",
      "439:\tlearn: 0.0586983\ttotal: 273ms\tremaining: 347ms\n",
      "440:\tlearn: 0.0583626\ttotal: 273ms\tremaining: 346ms\n",
      "441:\tlearn: 0.0579776\ttotal: 274ms\tremaining: 345ms\n",
      "442:\tlearn: 0.0577387\ttotal: 274ms\tremaining: 345ms\n",
      "443:\tlearn: 0.0573235\ttotal: 274ms\tremaining: 344ms\n",
      "444:\tlearn: 0.0571009\ttotal: 275ms\tremaining: 343ms\n",
      "445:\tlearn: 0.0566959\ttotal: 276ms\tremaining: 342ms\n",
      "446:\tlearn: 0.0563454\ttotal: 276ms\tremaining: 341ms\n",
      "447:\tlearn: 0.0560005\ttotal: 276ms\tremaining: 341ms\n",
      "448:\tlearn: 0.0556731\ttotal: 277ms\tremaining: 340ms\n",
      "449:\tlearn: 0.0553891\ttotal: 277ms\tremaining: 339ms\n",
      "450:\tlearn: 0.0551459\ttotal: 278ms\tremaining: 338ms\n",
      "451:\tlearn: 0.0550194\ttotal: 279ms\tremaining: 338ms\n",
      "452:\tlearn: 0.0547121\ttotal: 279ms\tremaining: 337ms\n",
      "453:\tlearn: 0.0543838\ttotal: 279ms\tremaining: 336ms\n",
      "454:\tlearn: 0.0540722\ttotal: 280ms\tremaining: 335ms\n",
      "455:\tlearn: 0.0539501\ttotal: 280ms\tremaining: 335ms\n",
      "456:\tlearn: 0.0536543\ttotal: 281ms\tremaining: 334ms\n",
      "457:\tlearn: 0.0534415\ttotal: 281ms\tremaining: 333ms\n",
      "458:\tlearn: 0.0531109\ttotal: 282ms\tremaining: 332ms\n",
      "459:\tlearn: 0.0527501\ttotal: 282ms\tremaining: 331ms\n",
      "460:\tlearn: 0.0525247\ttotal: 283ms\tremaining: 331ms\n",
      "461:\tlearn: 0.0524090\ttotal: 283ms\tremaining: 330ms\n",
      "462:\tlearn: 0.0521271\ttotal: 284ms\tremaining: 329ms\n",
      "463:\tlearn: 0.0518255\ttotal: 284ms\tremaining: 328ms\n",
      "464:\tlearn: 0.0515240\ttotal: 285ms\tremaining: 328ms\n",
      "465:\tlearn: 0.0513304\ttotal: 285ms\tremaining: 327ms\n",
      "466:\tlearn: 0.0509888\ttotal: 286ms\tremaining: 326ms\n",
      "467:\tlearn: 0.0506551\ttotal: 286ms\tremaining: 325ms\n",
      "468:\tlearn: 0.0503662\ttotal: 286ms\tremaining: 324ms\n",
      "469:\tlearn: 0.0501973\ttotal: 287ms\tremaining: 324ms\n",
      "470:\tlearn: 0.0499860\ttotal: 287ms\tremaining: 323ms\n",
      "471:\tlearn: 0.0497036\ttotal: 288ms\tremaining: 322ms\n",
      "472:\tlearn: 0.0494981\ttotal: 290ms\tremaining: 323ms\n",
      "473:\tlearn: 0.0491792\ttotal: 290ms\tremaining: 322ms\n"
     ]
    },
    {
     "name": "stdout",
     "output_type": "stream",
     "text": [
      "474:\tlearn: 0.0490150\ttotal: 291ms\tremaining: 322ms\n",
      "475:\tlearn: 0.0487891\ttotal: 292ms\tremaining: 322ms\n",
      "476:\tlearn: 0.0485902\ttotal: 293ms\tremaining: 321ms\n",
      "477:\tlearn: 0.0483318\ttotal: 293ms\tremaining: 320ms\n",
      "478:\tlearn: 0.0480811\ttotal: 294ms\tremaining: 319ms\n",
      "479:\tlearn: 0.0478035\ttotal: 294ms\tremaining: 319ms\n",
      "480:\tlearn: 0.0475010\ttotal: 294ms\tremaining: 318ms\n",
      "481:\tlearn: 0.0473029\ttotal: 295ms\tremaining: 317ms\n",
      "482:\tlearn: 0.0471441\ttotal: 295ms\tremaining: 316ms\n",
      "483:\tlearn: 0.0469299\ttotal: 296ms\tremaining: 316ms\n",
      "484:\tlearn: 0.0467449\ttotal: 296ms\tremaining: 315ms\n",
      "485:\tlearn: 0.0465078\ttotal: 297ms\tremaining: 314ms\n",
      "486:\tlearn: 0.0462506\ttotal: 297ms\tremaining: 313ms\n",
      "487:\tlearn: 0.0459937\ttotal: 298ms\tremaining: 313ms\n",
      "488:\tlearn: 0.0457640\ttotal: 299ms\tremaining: 312ms\n",
      "489:\tlearn: 0.0455141\ttotal: 299ms\tremaining: 311ms\n",
      "490:\tlearn: 0.0454211\ttotal: 299ms\tremaining: 310ms\n",
      "491:\tlearn: 0.0451373\ttotal: 300ms\tremaining: 309ms\n",
      "492:\tlearn: 0.0448840\ttotal: 300ms\tremaining: 309ms\n",
      "493:\tlearn: 0.0446552\ttotal: 301ms\tremaining: 308ms\n",
      "494:\tlearn: 0.0445848\ttotal: 301ms\tremaining: 307ms\n",
      "495:\tlearn: 0.0443677\ttotal: 302ms\tremaining: 306ms\n",
      "496:\tlearn: 0.0441254\ttotal: 302ms\tremaining: 306ms\n",
      "497:\tlearn: 0.0439227\ttotal: 302ms\tremaining: 305ms\n",
      "498:\tlearn: 0.0436829\ttotal: 303ms\tremaining: 304ms\n",
      "499:\tlearn: 0.0434855\ttotal: 303ms\tremaining: 303ms\n",
      "500:\tlearn: 0.0434186\ttotal: 304ms\tremaining: 302ms\n",
      "501:\tlearn: 0.0431466\ttotal: 304ms\tremaining: 302ms\n",
      "502:\tlearn: 0.0430806\ttotal: 304ms\tremaining: 301ms\n",
      "503:\tlearn: 0.0428776\ttotal: 305ms\tremaining: 300ms\n",
      "504:\tlearn: 0.0426124\ttotal: 305ms\tremaining: 299ms\n",
      "505:\tlearn: 0.0425333\ttotal: 306ms\tremaining: 298ms\n",
      "506:\tlearn: 0.0424556\ttotal: 306ms\tremaining: 298ms\n",
      "507:\tlearn: 0.0421951\ttotal: 307ms\tremaining: 297ms\n",
      "508:\tlearn: 0.0419719\ttotal: 307ms\tremaining: 296ms\n",
      "509:\tlearn: 0.0418959\ttotal: 308ms\tremaining: 296ms\n",
      "510:\tlearn: 0.0417049\ttotal: 308ms\tremaining: 295ms\n",
      "511:\tlearn: 0.0416436\ttotal: 308ms\tremaining: 294ms\n",
      "512:\tlearn: 0.0414002\ttotal: 309ms\tremaining: 293ms\n",
      "513:\tlearn: 0.0411861\ttotal: 309ms\tremaining: 292ms\n",
      "514:\tlearn: 0.0409480\ttotal: 310ms\tremaining: 292ms\n",
      "515:\tlearn: 0.0408877\ttotal: 310ms\tremaining: 291ms\n",
      "516:\tlearn: 0.0406529\ttotal: 311ms\tremaining: 290ms\n",
      "517:\tlearn: 0.0405750\ttotal: 311ms\tremaining: 290ms\n",
      "518:\tlearn: 0.0403123\ttotal: 312ms\tremaining: 289ms\n",
      "519:\tlearn: 0.0401327\ttotal: 312ms\tremaining: 288ms\n",
      "520:\tlearn: 0.0399617\ttotal: 312ms\tremaining: 287ms\n",
      "521:\tlearn: 0.0399044\ttotal: 313ms\tremaining: 286ms\n",
      "522:\tlearn: 0.0396711\ttotal: 313ms\tremaining: 286ms\n",
      "523:\tlearn: 0.0394934\ttotal: 314ms\tremaining: 285ms\n",
      "524:\tlearn: 0.0392691\ttotal: 314ms\tremaining: 284ms\n",
      "525:\tlearn: 0.0392004\ttotal: 315ms\tremaining: 284ms\n",
      "526:\tlearn: 0.0389742\ttotal: 315ms\tremaining: 283ms\n",
      "527:\tlearn: 0.0389017\ttotal: 316ms\tremaining: 282ms\n",
      "528:\tlearn: 0.0386830\ttotal: 316ms\tremaining: 282ms\n",
      "529:\tlearn: 0.0384888\ttotal: 317ms\tremaining: 281ms\n",
      "530:\tlearn: 0.0382692\ttotal: 317ms\tremaining: 280ms\n",
      "531:\tlearn: 0.0381984\ttotal: 318ms\tremaining: 279ms\n",
      "532:\tlearn: 0.0379885\ttotal: 318ms\tremaining: 279ms\n",
      "533:\tlearn: 0.0378277\ttotal: 319ms\tremaining: 278ms\n",
      "534:\tlearn: 0.0376634\ttotal: 319ms\tremaining: 278ms\n",
      "535:\tlearn: 0.0374509\ttotal: 320ms\tremaining: 277ms\n",
      "536:\tlearn: 0.0373865\ttotal: 320ms\tremaining: 276ms\n",
      "537:\tlearn: 0.0371811\ttotal: 321ms\tremaining: 276ms\n",
      "538:\tlearn: 0.0371191\ttotal: 321ms\tremaining: 275ms\n",
      "539:\tlearn: 0.0368918\ttotal: 322ms\tremaining: 274ms\n",
      "540:\tlearn: 0.0367413\ttotal: 322ms\tremaining: 274ms\n",
      "541:\tlearn: 0.0366958\ttotal: 323ms\tremaining: 273ms\n",
      "542:\tlearn: 0.0364956\ttotal: 324ms\tremaining: 272ms\n",
      "543:\tlearn: 0.0364505\ttotal: 324ms\tremaining: 272ms\n",
      "544:\tlearn: 0.0362341\ttotal: 325ms\tremaining: 271ms\n",
      "545:\tlearn: 0.0360344\ttotal: 325ms\tremaining: 270ms\n",
      "546:\tlearn: 0.0358177\ttotal: 326ms\tremaining: 270ms\n",
      "547:\tlearn: 0.0356243\ttotal: 326ms\tremaining: 269ms\n",
      "548:\tlearn: 0.0354799\ttotal: 327ms\tremaining: 268ms\n",
      "549:\tlearn: 0.0352949\ttotal: 327ms\tremaining: 268ms\n"
     ]
    },
    {
     "name": "stdout",
     "output_type": "stream",
     "text": [
      "550:\tlearn: 0.0352362\ttotal: 328ms\tremaining: 267ms\n",
      "551:\tlearn: 0.0350483\ttotal: 329ms\tremaining: 267ms\n",
      "552:\tlearn: 0.0348677\ttotal: 329ms\tremaining: 266ms\n",
      "553:\tlearn: 0.0346901\ttotal: 330ms\tremaining: 265ms\n",
      "554:\tlearn: 0.0345181\ttotal: 330ms\tremaining: 265ms\n",
      "555:\tlearn: 0.0343544\ttotal: 331ms\tremaining: 264ms\n",
      "556:\tlearn: 0.0341673\ttotal: 331ms\tremaining: 264ms\n",
      "557:\tlearn: 0.0340008\ttotal: 332ms\tremaining: 263ms\n",
      "558:\tlearn: 0.0338273\ttotal: 332ms\tremaining: 262ms\n",
      "559:\tlearn: 0.0336259\ttotal: 333ms\tremaining: 262ms\n",
      "560:\tlearn: 0.0334822\ttotal: 334ms\tremaining: 261ms\n",
      "561:\tlearn: 0.0334287\ttotal: 334ms\tremaining: 260ms\n",
      "562:\tlearn: 0.0332543\ttotal: 335ms\tremaining: 260ms\n",
      "563:\tlearn: 0.0330496\ttotal: 335ms\tremaining: 259ms\n",
      "564:\tlearn: 0.0328718\ttotal: 336ms\tremaining: 258ms\n",
      "565:\tlearn: 0.0326976\ttotal: 336ms\tremaining: 258ms\n",
      "566:\tlearn: 0.0325449\ttotal: 337ms\tremaining: 257ms\n",
      "567:\tlearn: 0.0323614\ttotal: 337ms\tremaining: 257ms\n",
      "568:\tlearn: 0.0321979\ttotal: 338ms\tremaining: 256ms\n",
      "569:\tlearn: 0.0320613\ttotal: 338ms\tremaining: 255ms\n",
      "570:\tlearn: 0.0320110\ttotal: 339ms\tremaining: 255ms\n",
      "571:\tlearn: 0.0318328\ttotal: 339ms\tremaining: 254ms\n",
      "572:\tlearn: 0.0316692\ttotal: 340ms\tremaining: 253ms\n",
      "573:\tlearn: 0.0315237\ttotal: 340ms\tremaining: 253ms\n",
      "574:\tlearn: 0.0313589\ttotal: 341ms\tremaining: 252ms\n",
      "575:\tlearn: 0.0311837\ttotal: 341ms\tremaining: 251ms\n",
      "576:\tlearn: 0.0311432\ttotal: 342ms\tremaining: 250ms\n",
      "577:\tlearn: 0.0310177\ttotal: 342ms\tremaining: 250ms\n",
      "578:\tlearn: 0.0308288\ttotal: 343ms\tremaining: 249ms\n",
      "579:\tlearn: 0.0306553\ttotal: 343ms\tremaining: 248ms\n",
      "580:\tlearn: 0.0305169\ttotal: 344ms\tremaining: 248ms\n",
      "581:\tlearn: 0.0303476\ttotal: 344ms\tremaining: 247ms\n",
      "582:\tlearn: 0.0301967\ttotal: 344ms\tremaining: 246ms\n",
      "583:\tlearn: 0.0300244\ttotal: 345ms\tremaining: 246ms\n",
      "584:\tlearn: 0.0298896\ttotal: 345ms\tremaining: 245ms\n",
      "585:\tlearn: 0.0297266\ttotal: 346ms\tremaining: 244ms\n",
      "586:\tlearn: 0.0296882\ttotal: 347ms\tremaining: 244ms\n",
      "587:\tlearn: 0.0296408\ttotal: 347ms\tremaining: 243ms\n",
      "588:\tlearn: 0.0295104\ttotal: 347ms\tremaining: 242ms\n",
      "589:\tlearn: 0.0294730\ttotal: 348ms\tremaining: 242ms\n",
      "590:\tlearn: 0.0293456\ttotal: 348ms\tremaining: 241ms\n",
      "591:\tlearn: 0.0293139\ttotal: 349ms\tremaining: 240ms\n",
      "592:\tlearn: 0.0291652\ttotal: 349ms\tremaining: 240ms\n",
      "593:\tlearn: 0.0290413\ttotal: 350ms\tremaining: 239ms\n",
      "594:\tlearn: 0.0288797\ttotal: 350ms\tremaining: 238ms\n",
      "595:\tlearn: 0.0287592\ttotal: 351ms\tremaining: 238ms\n",
      "596:\tlearn: 0.0287288\ttotal: 351ms\tremaining: 237ms\n",
      "597:\tlearn: 0.0286110\ttotal: 352ms\tremaining: 236ms\n",
      "598:\tlearn: 0.0285811\ttotal: 352ms\tremaining: 236ms\n",
      "599:\tlearn: 0.0284646\ttotal: 353ms\tremaining: 235ms\n",
      "600:\tlearn: 0.0284350\ttotal: 353ms\tremaining: 234ms\n",
      "601:\tlearn: 0.0283941\ttotal: 353ms\tremaining: 234ms\n",
      "602:\tlearn: 0.0282528\ttotal: 354ms\tremaining: 233ms\n",
      "603:\tlearn: 0.0281387\ttotal: 354ms\tremaining: 232ms\n",
      "604:\tlearn: 0.0280060\ttotal: 355ms\tremaining: 232ms\n",
      "605:\tlearn: 0.0278973\ttotal: 355ms\tremaining: 231ms\n",
      "606:\tlearn: 0.0278578\ttotal: 356ms\tremaining: 230ms\n",
      "607:\tlearn: 0.0277550\ttotal: 356ms\tremaining: 230ms\n",
      "608:\tlearn: 0.0276008\ttotal: 356ms\tremaining: 229ms\n",
      "609:\tlearn: 0.0275135\ttotal: 357ms\tremaining: 228ms\n",
      "610:\tlearn: 0.0274082\ttotal: 357ms\tremaining: 227ms\n",
      "611:\tlearn: 0.0272626\ttotal: 357ms\tremaining: 227ms\n",
      "612:\tlearn: 0.0271325\ttotal: 358ms\tremaining: 226ms\n",
      "613:\tlearn: 0.0270056\ttotal: 358ms\tremaining: 225ms\n",
      "614:\tlearn: 0.0268553\ttotal: 359ms\tremaining: 225ms\n",
      "615:\tlearn: 0.0267063\ttotal: 359ms\tremaining: 224ms\n",
      "616:\tlearn: 0.0266159\ttotal: 360ms\tremaining: 223ms\n",
      "617:\tlearn: 0.0265896\ttotal: 360ms\tremaining: 223ms\n",
      "618:\tlearn: 0.0264437\ttotal: 361ms\tremaining: 222ms\n",
      "619:\tlearn: 0.0264119\ttotal: 361ms\tremaining: 221ms\n",
      "620:\tlearn: 0.0263181\ttotal: 362ms\tremaining: 221ms\n",
      "621:\tlearn: 0.0262805\ttotal: 362ms\tremaining: 220ms\n",
      "622:\tlearn: 0.0261728\ttotal: 362ms\tremaining: 219ms\n",
      "623:\tlearn: 0.0260284\ttotal: 363ms\tremaining: 219ms\n",
      "624:\tlearn: 0.0259594\ttotal: 363ms\tremaining: 218ms\n",
      "625:\tlearn: 0.0258522\ttotal: 364ms\tremaining: 217ms\n",
      "626:\tlearn: 0.0257846\ttotal: 364ms\tremaining: 217ms\n",
      "627:\tlearn: 0.0256820\ttotal: 365ms\tremaining: 216ms\n",
      "628:\tlearn: 0.0255285\ttotal: 365ms\tremaining: 215ms\n",
      "629:\tlearn: 0.0254092\ttotal: 366ms\tremaining: 215ms\n",
      "630:\tlearn: 0.0252583\ttotal: 366ms\tremaining: 214ms\n",
      "631:\tlearn: 0.0251935\ttotal: 367ms\tremaining: 214ms\n",
      "632:\tlearn: 0.0250609\ttotal: 367ms\tremaining: 213ms\n",
      "633:\tlearn: 0.0249467\ttotal: 368ms\tremaining: 212ms\n",
      "634:\tlearn: 0.0247998\ttotal: 368ms\tremaining: 212ms\n",
      "635:\tlearn: 0.0247021\ttotal: 369ms\tremaining: 211ms\n",
      "636:\tlearn: 0.0245647\ttotal: 369ms\tremaining: 210ms\n",
      "637:\tlearn: 0.0244296\ttotal: 370ms\tremaining: 210ms\n",
      "638:\tlearn: 0.0243678\ttotal: 370ms\tremaining: 209ms\n",
      "639:\tlearn: 0.0242711\ttotal: 370ms\tremaining: 208ms\n",
      "640:\tlearn: 0.0242109\ttotal: 371ms\tremaining: 208ms\n",
      "641:\tlearn: 0.0240871\ttotal: 371ms\tremaining: 207ms\n",
      "642:\tlearn: 0.0239784\ttotal: 372ms\tremaining: 206ms\n",
      "643:\tlearn: 0.0238377\ttotal: 372ms\tremaining: 206ms\n",
      "644:\tlearn: 0.0237075\ttotal: 373ms\tremaining: 205ms\n",
      "645:\tlearn: 0.0236796\ttotal: 373ms\tremaining: 204ms\n",
      "646:\tlearn: 0.0235531\ttotal: 374ms\tremaining: 204ms\n",
      "647:\tlearn: 0.0234962\ttotal: 374ms\tremaining: 203ms\n",
      "648:\tlearn: 0.0234044\ttotal: 375ms\tremaining: 203ms\n",
      "649:\tlearn: 0.0233491\ttotal: 375ms\tremaining: 202ms\n",
      "650:\tlearn: 0.0232416\ttotal: 375ms\tremaining: 201ms\n",
      "651:\tlearn: 0.0231876\ttotal: 376ms\tremaining: 201ms\n",
      "652:\tlearn: 0.0230819\ttotal: 376ms\tremaining: 200ms\n",
      "653:\tlearn: 0.0230552\ttotal: 377ms\tremaining: 199ms\n",
      "654:\tlearn: 0.0229536\ttotal: 377ms\tremaining: 199ms\n",
      "655:\tlearn: 0.0228534\ttotal: 378ms\tremaining: 198ms\n",
      "656:\tlearn: 0.0227293\ttotal: 378ms\tremaining: 197ms\n",
      "657:\tlearn: 0.0226088\ttotal: 379ms\tremaining: 197ms\n",
      "658:\tlearn: 0.0225826\ttotal: 379ms\tremaining: 196ms\n",
      "659:\tlearn: 0.0224585\ttotal: 380ms\tremaining: 196ms\n",
      "660:\tlearn: 0.0224327\ttotal: 380ms\tremaining: 195ms\n",
      "661:\tlearn: 0.0223151\ttotal: 381ms\tremaining: 194ms\n",
      "662:\tlearn: 0.0222897\ttotal: 381ms\tremaining: 194ms\n",
      "663:\tlearn: 0.0222034\ttotal: 382ms\tremaining: 193ms\n",
      "664:\tlearn: 0.0220773\ttotal: 382ms\tremaining: 193ms\n",
      "665:\tlearn: 0.0219764\ttotal: 383ms\tremaining: 192ms\n",
      "666:\tlearn: 0.0219516\ttotal: 383ms\tremaining: 191ms\n",
      "667:\tlearn: 0.0218408\ttotal: 383ms\tremaining: 191ms\n",
      "668:\tlearn: 0.0218148\ttotal: 384ms\tremaining: 190ms\n",
      "669:\tlearn: 0.0217163\ttotal: 384ms\tremaining: 189ms\n",
      "670:\tlearn: 0.0216924\ttotal: 385ms\tremaining: 189ms\n",
      "671:\tlearn: 0.0215955\ttotal: 386ms\tremaining: 188ms\n",
      "672:\tlearn: 0.0215244\ttotal: 386ms\tremaining: 188ms\n",
      "673:\tlearn: 0.0215009\ttotal: 387ms\tremaining: 187ms\n",
      "674:\tlearn: 0.0213757\ttotal: 387ms\tremaining: 186ms\n",
      "675:\tlearn: 0.0212807\ttotal: 387ms\tremaining: 186ms\n",
      "676:\tlearn: 0.0212581\ttotal: 388ms\tremaining: 185ms\n",
      "677:\tlearn: 0.0211363\ttotal: 388ms\tremaining: 184ms\n",
      "678:\tlearn: 0.0210430\ttotal: 389ms\tremaining: 184ms\n",
      "679:\tlearn: 0.0210210\ttotal: 389ms\tremaining: 183ms\n",
      "680:\tlearn: 0.0209294\ttotal: 390ms\tremaining: 182ms\n",
      "681:\tlearn: 0.0208409\ttotal: 390ms\tremaining: 182ms\n",
      "682:\tlearn: 0.0208196\ttotal: 390ms\tremaining: 181ms\n",
      "683:\tlearn: 0.0207053\ttotal: 391ms\tremaining: 181ms\n",
      "684:\tlearn: 0.0206843\ttotal: 391ms\tremaining: 180ms\n"
     ]
    },
    {
     "name": "stdout",
     "output_type": "stream",
     "text": [
      "685:\tlearn: 0.0205754\ttotal: 392ms\tremaining: 179ms\n",
      "686:\tlearn: 0.0204870\ttotal: 392ms\tremaining: 179ms\n",
      "687:\tlearn: 0.0204077\ttotal: 392ms\tremaining: 178ms\n",
      "688:\tlearn: 0.0203626\ttotal: 393ms\tremaining: 177ms\n",
      "689:\tlearn: 0.0202589\ttotal: 393ms\tremaining: 177ms\n",
      "690:\tlearn: 0.0202149\ttotal: 394ms\tremaining: 176ms\n",
      "691:\tlearn: 0.0201430\ttotal: 394ms\tremaining: 175ms\n",
      "692:\tlearn: 0.0200895\ttotal: 394ms\tremaining: 175ms\n",
      "693:\tlearn: 0.0200598\ttotal: 395ms\tremaining: 174ms\n",
      "694:\tlearn: 0.0200294\ttotal: 395ms\tremaining: 174ms\n",
      "695:\tlearn: 0.0199841\ttotal: 396ms\tremaining: 173ms\n",
      "696:\tlearn: 0.0199587\ttotal: 396ms\tremaining: 172ms\n",
      "697:\tlearn: 0.0199392\ttotal: 397ms\tremaining: 172ms\n",
      "698:\tlearn: 0.0198697\ttotal: 397ms\tremaining: 171ms\n",
      "699:\tlearn: 0.0198505\ttotal: 398ms\tremaining: 170ms\n",
      "700:\tlearn: 0.0198316\ttotal: 398ms\tremaining: 170ms\n",
      "701:\tlearn: 0.0197469\ttotal: 399ms\tremaining: 169ms\n",
      "702:\tlearn: 0.0196964\ttotal: 400ms\tremaining: 169ms\n",
      "703:\tlearn: 0.0196779\ttotal: 400ms\tremaining: 168ms\n",
      "704:\tlearn: 0.0195752\ttotal: 401ms\tremaining: 168ms\n",
      "705:\tlearn: 0.0195073\ttotal: 401ms\tremaining: 167ms\n",
      "706:\tlearn: 0.0194891\ttotal: 402ms\tremaining: 166ms\n",
      "707:\tlearn: 0.0193886\ttotal: 402ms\tremaining: 166ms\n",
      "708:\tlearn: 0.0193059\ttotal: 403ms\tremaining: 165ms\n",
      "709:\tlearn: 0.0192369\ttotal: 403ms\tremaining: 165ms\n",
      "710:\tlearn: 0.0191393\ttotal: 404ms\tremaining: 164ms\n",
      "711:\tlearn: 0.0190592\ttotal: 404ms\tremaining: 163ms\n",
      "712:\tlearn: 0.0189642\ttotal: 405ms\tremaining: 163ms\n",
      "713:\tlearn: 0.0188866\ttotal: 405ms\tremaining: 162ms\n",
      "714:\tlearn: 0.0188199\ttotal: 405ms\tremaining: 162ms\n",
      "715:\tlearn: 0.0187108\ttotal: 406ms\tremaining: 161ms\n",
      "716:\tlearn: 0.0186711\ttotal: 406ms\tremaining: 160ms\n",
      "717:\tlearn: 0.0185959\ttotal: 407ms\tremaining: 160ms\n",
      "718:\tlearn: 0.0185274\ttotal: 408ms\tremaining: 159ms\n",
      "719:\tlearn: 0.0184778\ttotal: 408ms\tremaining: 159ms\n",
      "720:\tlearn: 0.0184394\ttotal: 408ms\tremaining: 158ms\n",
      "721:\tlearn: 0.0183931\ttotal: 409ms\tremaining: 158ms\n",
      "722:\tlearn: 0.0183556\ttotal: 410ms\tremaining: 157ms\n",
      "723:\tlearn: 0.0182622\ttotal: 410ms\tremaining: 156ms\n",
      "724:\tlearn: 0.0182155\ttotal: 411ms\tremaining: 156ms\n",
      "725:\tlearn: 0.0181600\ttotal: 411ms\tremaining: 155ms\n",
      "726:\tlearn: 0.0180988\ttotal: 411ms\tremaining: 154ms\n",
      "727:\tlearn: 0.0180552\ttotal: 412ms\tremaining: 154ms\n",
      "728:\tlearn: 0.0180191\ttotal: 412ms\tremaining: 153ms\n",
      "729:\tlearn: 0.0179149\ttotal: 413ms\tremaining: 153ms\n",
      "730:\tlearn: 0.0178787\ttotal: 413ms\tremaining: 152ms\n",
      "731:\tlearn: 0.0178641\ttotal: 414ms\tremaining: 151ms\n",
      "732:\tlearn: 0.0178497\ttotal: 414ms\tremaining: 151ms\n",
      "733:\tlearn: 0.0178355\ttotal: 414ms\tremaining: 150ms\n",
      "734:\tlearn: 0.0177923\ttotal: 415ms\tremaining: 150ms\n",
      "735:\tlearn: 0.0176918\ttotal: 415ms\tremaining: 149ms\n",
      "736:\tlearn: 0.0176782\ttotal: 416ms\tremaining: 148ms\n",
      "737:\tlearn: 0.0175890\ttotal: 416ms\tremaining: 148ms\n",
      "738:\tlearn: 0.0175661\ttotal: 416ms\tremaining: 147ms\n",
      "739:\tlearn: 0.0174788\ttotal: 417ms\tremaining: 147ms\n",
      "740:\tlearn: 0.0174213\ttotal: 418ms\tremaining: 146ms\n",
      "741:\tlearn: 0.0173358\ttotal: 418ms\tremaining: 145ms\n",
      "742:\tlearn: 0.0172519\ttotal: 419ms\tremaining: 145ms\n",
      "743:\tlearn: 0.0171832\ttotal: 419ms\tremaining: 144ms\n",
      "744:\tlearn: 0.0171012\ttotal: 420ms\tremaining: 144ms\n",
      "745:\tlearn: 0.0170202\ttotal: 420ms\tremaining: 143ms\n",
      "746:\tlearn: 0.0169298\ttotal: 421ms\tremaining: 143ms\n",
      "747:\tlearn: 0.0168915\ttotal: 421ms\tremaining: 142ms\n",
      "748:\tlearn: 0.0168542\ttotal: 422ms\tremaining: 141ms\n",
      "749:\tlearn: 0.0167754\ttotal: 422ms\tremaining: 141ms\n",
      "750:\tlearn: 0.0167392\ttotal: 423ms\tremaining: 140ms\n",
      "751:\tlearn: 0.0167040\ttotal: 423ms\tremaining: 140ms\n",
      "752:\tlearn: 0.0166263\ttotal: 424ms\tremaining: 139ms\n",
      "753:\tlearn: 0.0165921\ttotal: 424ms\tremaining: 138ms\n",
      "754:\tlearn: 0.0165409\ttotal: 424ms\tremaining: 138ms\n",
      "755:\tlearn: 0.0164599\ttotal: 425ms\tremaining: 137ms\n",
      "756:\tlearn: 0.0163848\ttotal: 425ms\tremaining: 137ms\n",
      "757:\tlearn: 0.0163122\ttotal: 426ms\tremaining: 136ms\n",
      "758:\tlearn: 0.0162267\ttotal: 426ms\tremaining: 135ms\n",
      "759:\tlearn: 0.0161613\ttotal: 426ms\tremaining: 135ms\n",
      "760:\tlearn: 0.0161141\ttotal: 427ms\tremaining: 134ms\n",
      "761:\tlearn: 0.0160817\ttotal: 427ms\tremaining: 133ms\n",
      "762:\tlearn: 0.0160359\ttotal: 427ms\tremaining: 133ms\n",
      "763:\tlearn: 0.0159916\ttotal: 428ms\tremaining: 132ms\n",
      "764:\tlearn: 0.0159486\ttotal: 428ms\tremaining: 132ms\n",
      "765:\tlearn: 0.0159278\ttotal: 429ms\tremaining: 131ms\n",
      "766:\tlearn: 0.0158492\ttotal: 429ms\tremaining: 130ms\n",
      "767:\tlearn: 0.0157641\ttotal: 430ms\tremaining: 130ms\n",
      "768:\tlearn: 0.0157332\ttotal: 430ms\tremaining: 129ms\n",
      "769:\tlearn: 0.0156436\ttotal: 431ms\tremaining: 129ms\n",
      "770:\tlearn: 0.0155573\ttotal: 431ms\tremaining: 128ms\n",
      "771:\tlearn: 0.0154729\ttotal: 431ms\tremaining: 127ms\n",
      "772:\tlearn: 0.0154331\ttotal: 432ms\tremaining: 127ms\n",
      "773:\tlearn: 0.0153506\ttotal: 432ms\tremaining: 126ms\n",
      "774:\tlearn: 0.0152700\ttotal: 433ms\tremaining: 126ms\n",
      "775:\tlearn: 0.0151811\ttotal: 433ms\tremaining: 125ms\n",
      "776:\tlearn: 0.0151006\ttotal: 434ms\tremaining: 124ms\n",
      "777:\tlearn: 0.0150270\ttotal: 434ms\tremaining: 124ms\n",
      "778:\tlearn: 0.0149547\ttotal: 435ms\tremaining: 123ms\n",
      "779:\tlearn: 0.0149145\ttotal: 435ms\tremaining: 123ms\n",
      "780:\tlearn: 0.0148480\ttotal: 435ms\tremaining: 122ms\n",
      "781:\tlearn: 0.0148363\ttotal: 436ms\tremaining: 121ms\n",
      "782:\tlearn: 0.0147595\ttotal: 436ms\tremaining: 121ms\n",
      "783:\tlearn: 0.0146752\ttotal: 437ms\tremaining: 120ms\n",
      "784:\tlearn: 0.0145929\ttotal: 437ms\tremaining: 120ms\n",
      "785:\tlearn: 0.0145176\ttotal: 438ms\tremaining: 119ms\n",
      "786:\tlearn: 0.0144382\ttotal: 438ms\tremaining: 119ms\n",
      "787:\tlearn: 0.0143860\ttotal: 439ms\tremaining: 118ms\n",
      "788:\tlearn: 0.0143394\ttotal: 439ms\tremaining: 117ms\n",
      "789:\tlearn: 0.0142878\ttotal: 439ms\tremaining: 117ms\n",
      "790:\tlearn: 0.0142400\ttotal: 440ms\tremaining: 116ms\n",
      "791:\tlearn: 0.0141888\ttotal: 440ms\tremaining: 116ms\n",
      "792:\tlearn: 0.0141211\ttotal: 441ms\tremaining: 115ms\n",
      "793:\tlearn: 0.0140268\ttotal: 441ms\tremaining: 114ms\n",
      "794:\tlearn: 0.0139635\ttotal: 442ms\tremaining: 114ms\n",
      "795:\tlearn: 0.0139231\ttotal: 442ms\tremaining: 113ms\n",
      "796:\tlearn: 0.0139105\ttotal: 443ms\tremaining: 113ms\n",
      "797:\tlearn: 0.0138711\ttotal: 443ms\tremaining: 112ms\n",
      "798:\tlearn: 0.0138337\ttotal: 443ms\tremaining: 112ms\n",
      "799:\tlearn: 0.0137430\ttotal: 444ms\tremaining: 111ms\n",
      "800:\tlearn: 0.0137066\ttotal: 444ms\tremaining: 110ms\n",
      "801:\tlearn: 0.0136696\ttotal: 445ms\tremaining: 110ms\n",
      "802:\tlearn: 0.0136368\ttotal: 445ms\tremaining: 109ms\n",
      "803:\tlearn: 0.0136083\ttotal: 446ms\tremaining: 109ms\n",
      "804:\tlearn: 0.0135736\ttotal: 446ms\tremaining: 108ms\n",
      "805:\tlearn: 0.0135208\ttotal: 446ms\tremaining: 107ms\n",
      "806:\tlearn: 0.0134934\ttotal: 447ms\tremaining: 107ms\n",
      "807:\tlearn: 0.0134630\ttotal: 447ms\tremaining: 106ms\n",
      "808:\tlearn: 0.0134548\ttotal: 448ms\tremaining: 106ms\n",
      "809:\tlearn: 0.0134472\ttotal: 448ms\tremaining: 105ms\n",
      "810:\tlearn: 0.0134124\ttotal: 449ms\tremaining: 105ms\n",
      "811:\tlearn: 0.0134049\ttotal: 450ms\tremaining: 104ms\n",
      "812:\tlearn: 0.0133975\ttotal: 451ms\tremaining: 104ms\n",
      "813:\tlearn: 0.0133902\ttotal: 451ms\tremaining: 103ms\n",
      "814:\tlearn: 0.0133530\ttotal: 451ms\tremaining: 102ms\n",
      "815:\tlearn: 0.0133452\ttotal: 452ms\tremaining: 102ms\n",
      "816:\tlearn: 0.0133381\ttotal: 453ms\tremaining: 101ms\n",
      "817:\tlearn: 0.0132817\ttotal: 453ms\tremaining: 101ms\n",
      "818:\tlearn: 0.0132741\ttotal: 454ms\tremaining: 100ms\n",
      "819:\tlearn: 0.0132665\ttotal: 454ms\tremaining: 99.7ms\n",
      "820:\tlearn: 0.0132253\ttotal: 455ms\tremaining: 99.2ms\n",
      "821:\tlearn: 0.0131891\ttotal: 456ms\tremaining: 98.7ms\n",
      "822:\tlearn: 0.0131816\ttotal: 456ms\tremaining: 98.1ms\n",
      "823:\tlearn: 0.0131413\ttotal: 456ms\tremaining: 97.5ms\n",
      "824:\tlearn: 0.0130949\ttotal: 457ms\tremaining: 96.9ms\n",
      "825:\tlearn: 0.0130876\ttotal: 457ms\tremaining: 96.3ms\n",
      "826:\tlearn: 0.0130482\ttotal: 458ms\tremaining: 95.8ms\n",
      "827:\tlearn: 0.0130027\ttotal: 458ms\tremaining: 95.2ms\n",
      "828:\tlearn: 0.0129958\ttotal: 459ms\tremaining: 94.6ms\n",
      "829:\tlearn: 0.0129573\ttotal: 459ms\tremaining: 94.1ms\n",
      "830:\tlearn: 0.0129127\ttotal: 460ms\tremaining: 93.6ms\n",
      "831:\tlearn: 0.0129059\ttotal: 461ms\tremaining: 93ms\n",
      "832:\tlearn: 0.0128621\ttotal: 461ms\tremaining: 92.5ms\n",
      "833:\tlearn: 0.0128245\ttotal: 462ms\tremaining: 91.9ms\n",
      "834:\tlearn: 0.0128178\ttotal: 462ms\tremaining: 91.3ms\n",
      "835:\tlearn: 0.0128111\ttotal: 463ms\tremaining: 90.8ms\n",
      "836:\tlearn: 0.0127682\ttotal: 463ms\tremaining: 90.2ms\n",
      "837:\tlearn: 0.0127419\ttotal: 464ms\tremaining: 89.6ms\n",
      "838:\tlearn: 0.0127353\ttotal: 464ms\tremaining: 89ms\n",
      "839:\tlearn: 0.0126599\ttotal: 464ms\tremaining: 88.5ms\n",
      "840:\tlearn: 0.0126342\ttotal: 465ms\tremaining: 87.9ms\n",
      "841:\tlearn: 0.0126278\ttotal: 465ms\tremaining: 87.3ms\n",
      "842:\tlearn: 0.0125648\ttotal: 466ms\tremaining: 86.8ms\n",
      "843:\tlearn: 0.0125584\ttotal: 466ms\tremaining: 86.2ms\n",
      "844:\tlearn: 0.0125521\ttotal: 467ms\tremaining: 85.7ms\n",
      "845:\tlearn: 0.0125157\ttotal: 467ms\tremaining: 85.1ms\n",
      "846:\tlearn: 0.0124630\ttotal: 468ms\tremaining: 84.5ms\n",
      "847:\tlearn: 0.0124567\ttotal: 468ms\tremaining: 84ms\n",
      "848:\tlearn: 0.0124505\ttotal: 469ms\tremaining: 83.5ms\n",
      "849:\tlearn: 0.0123940\ttotal: 470ms\tremaining: 82.9ms\n",
      "850:\tlearn: 0.0123225\ttotal: 470ms\tremaining: 82.3ms\n",
      "851:\tlearn: 0.0122526\ttotal: 470ms\tremaining: 81.7ms\n",
      "852:\tlearn: 0.0122178\ttotal: 471ms\tremaining: 81.1ms\n",
      "853:\tlearn: 0.0121670\ttotal: 471ms\tremaining: 80.6ms\n",
      "854:\tlearn: 0.0121607\ttotal: 472ms\tremaining: 80ms\n",
      "855:\tlearn: 0.0121037\ttotal: 472ms\tremaining: 79.4ms\n",
      "856:\tlearn: 0.0120636\ttotal: 473ms\tremaining: 78.8ms\n",
      "857:\tlearn: 0.0119987\ttotal: 473ms\tremaining: 78.3ms\n",
      "858:\tlearn: 0.0119598\ttotal: 474ms\tremaining: 77.8ms\n",
      "859:\tlearn: 0.0119256\ttotal: 475ms\tremaining: 77.2ms\n",
      "860:\tlearn: 0.0119198\ttotal: 475ms\tremaining: 76.7ms\n",
      "861:\tlearn: 0.0119140\ttotal: 475ms\tremaining: 76.1ms\n",
      "862:\tlearn: 0.0119084\ttotal: 476ms\tremaining: 75.5ms\n",
      "863:\tlearn: 0.0118743\ttotal: 476ms\tremaining: 75ms\n",
      "864:\tlearn: 0.0118043\ttotal: 477ms\tremaining: 74.4ms\n",
      "865:\tlearn: 0.0117598\ttotal: 477ms\tremaining: 73.8ms\n",
      "866:\tlearn: 0.0117161\ttotal: 477ms\tremaining: 73.2ms\n",
      "867:\tlearn: 0.0116549\ttotal: 478ms\tremaining: 72.7ms\n",
      "868:\tlearn: 0.0116178\ttotal: 478ms\tremaining: 72.1ms\n",
      "869:\tlearn: 0.0115853\ttotal: 479ms\tremaining: 71.6ms\n",
      "870:\tlearn: 0.0115587\ttotal: 479ms\tremaining: 71ms\n",
      "871:\tlearn: 0.0115038\ttotal: 480ms\tremaining: 70.4ms\n",
      "872:\tlearn: 0.0114983\ttotal: 480ms\tremaining: 69.9ms\n",
      "873:\tlearn: 0.0114392\ttotal: 481ms\tremaining: 69.3ms\n",
      "874:\tlearn: 0.0114037\ttotal: 481ms\tremaining: 68.7ms\n",
      "875:\tlearn: 0.0113728\ttotal: 481ms\tremaining: 68.1ms\n",
      "876:\tlearn: 0.0113674\ttotal: 482ms\tremaining: 67.7ms\n",
      "877:\tlearn: 0.0113620\ttotal: 483ms\tremaining: 67.1ms\n",
      "878:\tlearn: 0.0113566\ttotal: 483ms\tremaining: 66.5ms\n",
      "879:\tlearn: 0.0113041\ttotal: 484ms\tremaining: 66ms\n",
      "880:\tlearn: 0.0112988\ttotal: 484ms\tremaining: 65.4ms\n",
      "881:\tlearn: 0.0112936\ttotal: 485ms\tremaining: 64.9ms\n",
      "882:\tlearn: 0.0112364\ttotal: 485ms\tremaining: 64.3ms\n",
      "883:\tlearn: 0.0112312\ttotal: 486ms\tremaining: 63.8ms\n",
      "884:\tlearn: 0.0111798\ttotal: 487ms\tremaining: 63.2ms\n",
      "885:\tlearn: 0.0111747\ttotal: 487ms\tremaining: 62.7ms\n",
      "886:\tlearn: 0.0111697\ttotal: 488ms\tremaining: 62.1ms\n",
      "887:\tlearn: 0.0110989\ttotal: 488ms\tremaining: 61.6ms\n",
      "888:\tlearn: 0.0110653\ttotal: 489ms\tremaining: 61ms\n",
      "889:\tlearn: 0.0110406\ttotal: 489ms\tremaining: 60.5ms\n",
      "890:\tlearn: 0.0110356\ttotal: 490ms\tremaining: 59.9ms\n",
      "891:\tlearn: 0.0110307\ttotal: 490ms\tremaining: 59.4ms\n",
      "892:\tlearn: 0.0109820\ttotal: 491ms\tremaining: 58.8ms\n",
      "893:\tlearn: 0.0109771\ttotal: 491ms\tremaining: 58.2ms\n",
      "894:\tlearn: 0.0109723\ttotal: 492ms\tremaining: 57.7ms\n",
      "895:\tlearn: 0.0109435\ttotal: 493ms\tremaining: 57.2ms\n",
      "896:\tlearn: 0.0108891\ttotal: 493ms\tremaining: 56.6ms\n",
      "897:\tlearn: 0.0108567\ttotal: 493ms\tremaining: 56ms\n",
      "898:\tlearn: 0.0108287\ttotal: 494ms\tremaining: 55.5ms\n",
      "899:\tlearn: 0.0107633\ttotal: 494ms\tremaining: 54.9ms\n",
      "900:\tlearn: 0.0106987\ttotal: 495ms\tremaining: 54.4ms\n"
     ]
    },
    {
     "name": "stdout",
     "output_type": "stream",
     "text": [
      "901:\tlearn: 0.0106840\ttotal: 495ms\tremaining: 53.8ms\n",
      "902:\tlearn: 0.0106793\ttotal: 496ms\tremaining: 53.3ms\n",
      "903:\tlearn: 0.0106411\ttotal: 496ms\tremaining: 52.7ms\n",
      "904:\tlearn: 0.0105781\ttotal: 497ms\tremaining: 52.1ms\n",
      "905:\tlearn: 0.0105303\ttotal: 497ms\tremaining: 51.6ms\n",
      "906:\tlearn: 0.0104675\ttotal: 498ms\tremaining: 51ms\n",
      "907:\tlearn: 0.0104065\ttotal: 498ms\tremaining: 50.5ms\n",
      "908:\tlearn: 0.0103923\ttotal: 499ms\tremaining: 49.9ms\n",
      "909:\tlearn: 0.0103874\ttotal: 499ms\tremaining: 49.4ms\n",
      "910:\tlearn: 0.0103277\ttotal: 500ms\tremaining: 48.8ms\n",
      "911:\tlearn: 0.0103030\ttotal: 500ms\tremaining: 48.3ms\n",
      "912:\tlearn: 0.0102981\ttotal: 501ms\tremaining: 47.7ms\n",
      "913:\tlearn: 0.0102746\ttotal: 501ms\tremaining: 47.2ms\n",
      "914:\tlearn: 0.0102698\ttotal: 502ms\tremaining: 46.6ms\n",
      "915:\tlearn: 0.0102654\ttotal: 502ms\tremaining: 46.1ms\n",
      "916:\tlearn: 0.0102197\ttotal: 503ms\tremaining: 45.5ms\n",
      "917:\tlearn: 0.0102149\ttotal: 503ms\tremaining: 44.9ms\n",
      "918:\tlearn: 0.0102103\ttotal: 503ms\tremaining: 44.4ms\n",
      "919:\tlearn: 0.0101498\ttotal: 504ms\tremaining: 43.8ms\n",
      "920:\tlearn: 0.0100921\ttotal: 505ms\tremaining: 43.3ms\n",
      "921:\tlearn: 0.0100479\ttotal: 505ms\tremaining: 42.7ms\n",
      "922:\tlearn: 0.0100433\ttotal: 505ms\tremaining: 42.2ms\n",
      "923:\tlearn: 0.0100387\ttotal: 506ms\tremaining: 41.6ms\n",
      "924:\tlearn: 0.0100342\ttotal: 506ms\tremaining: 41ms\n",
      "925:\tlearn: 0.0099741\ttotal: 507ms\tremaining: 40.5ms\n",
      "926:\tlearn: 0.0099180\ttotal: 507ms\tremaining: 39.9ms\n",
      "927:\tlearn: 0.0098753\ttotal: 508ms\tremaining: 39.4ms\n",
      "928:\tlearn: 0.0098708\ttotal: 508ms\tremaining: 38.8ms\n",
      "929:\tlearn: 0.0098664\ttotal: 508ms\tremaining: 38.3ms\n",
      "930:\tlearn: 0.0098620\ttotal: 509ms\tremaining: 37.7ms\n",
      "931:\tlearn: 0.0098204\ttotal: 509ms\tremaining: 37.2ms\n",
      "932:\tlearn: 0.0098160\ttotal: 510ms\tremaining: 36.6ms\n",
      "933:\tlearn: 0.0097575\ttotal: 510ms\tremaining: 36ms\n",
      "934:\tlearn: 0.0097532\ttotal: 510ms\tremaining: 35.5ms\n",
      "935:\tlearn: 0.0096957\ttotal: 511ms\tremaining: 34.9ms\n",
      "936:\tlearn: 0.0096420\ttotal: 511ms\tremaining: 34.4ms\n",
      "937:\tlearn: 0.0095894\ttotal: 512ms\tremaining: 33.8ms\n",
      "938:\tlearn: 0.0095386\ttotal: 512ms\tremaining: 33.3ms\n",
      "939:\tlearn: 0.0095013\ttotal: 513ms\tremaining: 32.7ms\n",
      "940:\tlearn: 0.0094823\ttotal: 513ms\tremaining: 32.2ms\n",
      "941:\tlearn: 0.0094485\ttotal: 513ms\tremaining: 31.6ms\n",
      "942:\tlearn: 0.0094200\ttotal: 514ms\tremaining: 31.1ms\n",
      "943:\tlearn: 0.0093924\ttotal: 514ms\tremaining: 30.5ms\n",
      "944:\tlearn: 0.0093451\ttotal: 515ms\tremaining: 30ms\n",
      "945:\tlearn: 0.0093209\ttotal: 515ms\tremaining: 29.4ms\n",
      "946:\tlearn: 0.0092744\ttotal: 515ms\tremaining: 28.8ms\n",
      "947:\tlearn: 0.0092288\ttotal: 516ms\tremaining: 28.3ms\n",
      "948:\tlearn: 0.0091895\ttotal: 516ms\tremaining: 27.8ms\n",
      "949:\tlearn: 0.0091377\ttotal: 517ms\tremaining: 27.2ms\n",
      "950:\tlearn: 0.0090937\ttotal: 517ms\tremaining: 26.7ms\n",
      "951:\tlearn: 0.0090496\ttotal: 518ms\tremaining: 26.1ms\n",
      "952:\tlearn: 0.0090279\ttotal: 518ms\tremaining: 25.6ms\n",
      "953:\tlearn: 0.0089901\ttotal: 519ms\tremaining: 25ms\n",
      "954:\tlearn: 0.0089441\ttotal: 519ms\tremaining: 24.5ms\n",
      "955:\tlearn: 0.0089036\ttotal: 520ms\tremaining: 23.9ms\n",
      "956:\tlearn: 0.0088610\ttotal: 520ms\tremaining: 23.4ms\n",
      "957:\tlearn: 0.0088213\ttotal: 521ms\tremaining: 22.8ms\n",
      "958:\tlearn: 0.0087796\ttotal: 521ms\tremaining: 22.3ms\n",
      "959:\tlearn: 0.0087408\ttotal: 522ms\tremaining: 21.7ms\n",
      "960:\tlearn: 0.0086968\ttotal: 522ms\tremaining: 21.2ms\n",
      "961:\tlearn: 0.0086929\ttotal: 522ms\tremaining: 20.6ms\n",
      "962:\tlearn: 0.0086890\ttotal: 523ms\tremaining: 20.1ms\n",
      "963:\tlearn: 0.0086484\ttotal: 523ms\tremaining: 19.5ms\n",
      "964:\tlearn: 0.0086109\ttotal: 524ms\tremaining: 19ms\n",
      "965:\tlearn: 0.0086071\ttotal: 524ms\tremaining: 18.4ms\n",
      "966:\tlearn: 0.0085673\ttotal: 525ms\tremaining: 17.9ms\n",
      "967:\tlearn: 0.0085194\ttotal: 525ms\tremaining: 17.4ms\n",
      "968:\tlearn: 0.0085156\ttotal: 526ms\tremaining: 16.8ms\n",
      "969:\tlearn: 0.0084841\ttotal: 526ms\tremaining: 16.3ms\n",
      "970:\tlearn: 0.0084804\ttotal: 527ms\tremaining: 15.7ms\n",
      "971:\tlearn: 0.0084451\ttotal: 527ms\tremaining: 15.2ms\n",
      "972:\tlearn: 0.0084016\ttotal: 528ms\tremaining: 14.6ms\n",
      "973:\tlearn: 0.0083640\ttotal: 528ms\tremaining: 14.1ms\n",
      "974:\tlearn: 0.0083226\ttotal: 529ms\tremaining: 13.6ms\n",
      "975:\tlearn: 0.0083190\ttotal: 529ms\tremaining: 13ms\n",
      "976:\tlearn: 0.0083154\ttotal: 529ms\tremaining: 12.5ms\n",
      "977:\tlearn: 0.0083118\ttotal: 530ms\tremaining: 11.9ms\n",
      "978:\tlearn: 0.0082735\ttotal: 530ms\tremaining: 11.4ms\n",
      "979:\tlearn: 0.0082385\ttotal: 531ms\tremaining: 10.8ms\n",
      "980:\tlearn: 0.0081930\ttotal: 531ms\tremaining: 10.3ms\n",
      "981:\tlearn: 0.0081894\ttotal: 532ms\tremaining: 9.74ms\n",
      "982:\tlearn: 0.0081860\ttotal: 532ms\tremaining: 9.2ms\n",
      "983:\tlearn: 0.0081799\ttotal: 532ms\tremaining: 8.66ms\n",
      "984:\tlearn: 0.0081463\ttotal: 533ms\tremaining: 8.12ms\n",
      "985:\tlearn: 0.0081051\ttotal: 534ms\tremaining: 7.58ms\n",
      "986:\tlearn: 0.0080693\ttotal: 535ms\tremaining: 7.04ms\n",
      "987:\tlearn: 0.0080302\ttotal: 535ms\tremaining: 6.5ms\n",
      "988:\tlearn: 0.0080270\ttotal: 536ms\tremaining: 5.96ms\n",
      "989:\tlearn: 0.0080239\ttotal: 536ms\tremaining: 5.42ms\n",
      "990:\tlearn: 0.0079800\ttotal: 536ms\tremaining: 4.87ms\n",
      "991:\tlearn: 0.0079417\ttotal: 537ms\tremaining: 4.33ms\n",
      "992:\tlearn: 0.0079042\ttotal: 537ms\tremaining: 3.79ms\n",
      "993:\tlearn: 0.0078720\ttotal: 538ms\tremaining: 3.25ms\n",
      "994:\tlearn: 0.0078377\ttotal: 538ms\tremaining: 2.7ms\n",
      "995:\tlearn: 0.0077984\ttotal: 539ms\tremaining: 2.16ms\n",
      "996:\tlearn: 0.0077775\ttotal: 539ms\tremaining: 1.62ms\n",
      "997:\tlearn: 0.0077444\ttotal: 540ms\tremaining: 1.08ms\n",
      "998:\tlearn: 0.0076983\ttotal: 540ms\tremaining: 540us\n",
      "999:\tlearn: 0.0076530\ttotal: 541ms\tremaining: 0us\n"
     ]
    },
    {
     "data": {
      "text/plain": [
       "<catboost.core.CatBoostRegressor at 0x7fd5bb328b50>"
      ]
     },
     "execution_count": 9,
     "metadata": {},
     "output_type": "execute_result"
    }
   ],
   "source": [
    "#Train the Model \n",
    "prior_model = ctb.CatBoostRegressor()\n",
    "prior_model.fit(X_train,Y_train)"
   ]
  },
  {
   "cell_type": "code",
   "execution_count": 10,
   "id": "af65dcda",
   "metadata": {
    "execution": {
     "iopub.execute_input": "2022-06-07T07:01:19.851014Z",
     "iopub.status.busy": "2022-06-07T07:01:19.850650Z",
     "iopub.status.idle": "2022-06-07T07:01:19.858021Z",
     "shell.execute_reply": "2022-06-07T07:01:19.858258Z"
    },
    "id": "af65dcda",
    "papermill": {
     "duration": 0.020049,
     "end_time": "2022-06-07T07:01:19.858386",
     "exception": false,
     "start_time": "2022-06-07T07:01:19.838337",
     "status": "completed"
    },
    "tags": []
   },
   "outputs": [
    {
     "data": {
      "application/scrapbook.scrap.json+json": {
       "data": 0.16792103004055842,
       "encoder": "json",
       "name": "Prior Model MSE",
       "version": 1
      }
     },
     "metadata": {
      "scrapbook": {
       "data": true,
       "display": false,
       "name": "Prior Model MSE"
      }
     },
     "output_type": "display_data"
    },
    {
     "data": {
      "application/scrapbook.scrap.json+json": {
       "data": 0.18557729114442278,
       "encoder": "json",
       "name": "ABC Pre-generator MSE",
       "version": 1
      }
     },
     "metadata": {
      "scrapbook": {
       "data": true,
       "display": false,
       "name": "ABC Pre-generator MSE"
      }
     },
     "output_type": "display_data"
    },
    {
     "data": {
      "application/scrapbook.scrap.json+json": {
       "data": 0.3130837772678843,
       "encoder": "json",
       "name": "Prior Model MSE",
       "version": 1
      }
     },
     "metadata": {
      "scrapbook": {
       "data": true,
       "display": false,
       "name": "Prior Model MSE"
      }
     },
     "output_type": "display_data"
    },
    {
     "data": {
      "application/scrapbook.scrap.json+json": {
       "data": 0.3314894827189526,
       "encoder": "json",
       "name": "ABC Pre-generator MSE",
       "version": 1
      }
     },
     "metadata": {
      "scrapbook": {
       "data": true,
       "display": false,
       "name": "ABC Pre-generator MSE"
      }
     },
     "output_type": "display_data"
    }
   ],
   "source": [
    "y_pred = prior_model.predict(X_test)\n",
    "y_abc = y_pred + np.random.normal(0,variance, y_pred.shape) + bias \n",
    "mse = mean_squared_error(y_pred,Y_test)\n",
    "sb.glue(\"Prior Model MSE\",mse)\n",
    "mse = mean_squared_error(y_abc,Y_test)\n",
    "sb.glue(\"ABC Pre-generator MSE\",mse)\n",
    "mae = mean_absolute_error(y_pred,Y_test)\n",
    "sb.glue(\"Prior Model MSE\",mae)\n",
    "mae = mean_absolute_error(y_abc,Y_test)\n",
    "sb.glue(\"ABC Pre-generator MSE\",mae)"
   ]
  },
  {
   "cell_type": "markdown",
   "id": "25609da2",
   "metadata": {
    "papermill": {
     "duration": 0.009447,
     "end_time": "2022-06-07T07:01:19.877646",
     "exception": false,
     "start_time": "2022-06-07T07:01:19.868199",
     "status": "completed"
    },
    "tags": []
   },
   "source": [
    "# ABC GAN Model"
   ]
  },
  {
   "cell_type": "code",
   "execution_count": 11,
   "id": "dfc3464d",
   "metadata": {
    "execution": {
     "iopub.execute_input": "2022-06-07T07:01:19.900358Z",
     "iopub.status.busy": "2022-06-07T07:01:19.899967Z",
     "iopub.status.idle": "2022-06-07T07:01:19.902409Z",
     "shell.execute_reply": "2022-06-07T07:01:19.902664Z"
    },
    "papermill": {
     "duration": 0.015698,
     "end_time": "2022-06-07T07:01:19.902784",
     "exception": false,
     "start_time": "2022-06-07T07:01:19.887086",
     "status": "completed"
    },
    "tags": []
   },
   "outputs": [],
   "source": [
    "gen = network.Generator(n_features+1).to(device)\n",
    "disc = network.Discriminator(n_features+1).to(device)\n",
    "\n",
    "criterion = torch.nn.BCELoss()\n",
    "gen_opt = torch.optim.Adam(gen.parameters(), lr=0.001, betas=(0.5, 0.999))\n",
    "disc_opt = torch.optim.Adam(disc.parameters(), lr=0.001, betas=(0.5, 0.999))"
   ]
  },
  {
   "cell_type": "code",
   "execution_count": 12,
   "id": "b75fdd85",
   "metadata": {
    "execution": {
     "iopub.execute_input": "2022-06-07T07:01:19.925510Z",
     "iopub.status.busy": "2022-06-07T07:01:19.925134Z",
     "iopub.status.idle": "2022-06-07T07:01:34.863991Z",
     "shell.execute_reply": "2022-06-07T07:01:34.864350Z"
    },
    "papermill": {
     "duration": 14.951693,
     "end_time": "2022-06-07T07:01:34.864591",
     "exception": false,
     "start_time": "2022-06-07T07:01:19.912898",
     "status": "completed"
    },
    "tags": []
   },
   "outputs": [
    {
     "data": {
      "image/png": "[encoded data removed]",
      "text/plain": [
       "<Figure size 432x288 with 1 Axes>"
      ]
     },
     "metadata": {
      "needs_background": "light"
     },
     "output_type": "display_data"
    },
    {
     "data": {
      "image/png": "[encoded data removed]",
      "text/plain": [
       "<Figure size 432x288 with 1 Axes>"
      ]
     },
     "metadata": {
      "needs_background": "light"
     },
     "output_type": "display_data"
    }
   ],
   "source": [
    "#Training the ABC_GAN \n",
    "ABC_train_test2.training_GAN(disc,gen,disc_opt,gen_opt,train_data,batch_size,n_epochs,criterion,prior_model,variance,bias,device)"
   ]
  },
  {
   "cell_type": "code",
   "execution_count": 13,
   "id": "1fa7c368",
   "metadata": {
    "execution": {
     "iopub.execute_input": "2022-06-07T07:01:34.892286Z",
     "iopub.status.busy": "2022-06-07T07:01:34.891800Z",
     "iopub.status.idle": "2022-06-07T07:01:35.191951Z",
     "shell.execute_reply": "2022-06-07T07:01:35.192201Z"
    },
    "papermill": {
     "duration": 0.314479,
     "end_time": "2022-06-07T07:01:35.192325",
     "exception": false,
     "start_time": "2022-06-07T07:01:34.877846",
     "status": "completed"
    },
    "tags": []
   },
   "outputs": [
    {
     "data": {
      "application/scrapbook.scrap.json+json": {
       "data": 0.14172052317761294,
       "encoder": "json",
       "name": "ABC-GAN Model 1 MSE",
       "version": 1
      }
     },
     "metadata": {
      "scrapbook": {
       "data": true,
       "display": false,
       "name": "ABC-GAN Model 1 MSE"
      }
     },
     "output_type": "display_data"
    },
    {
     "data": {
      "application/scrapbook.scrap.json+json": {
       "data": 0.25605336868017914,
       "encoder": "json",
       "name": "ABC-GAN Model 1 MAE",
       "version": 1
      }
     },
     "metadata": {
      "scrapbook": {
       "data": true,
       "display": false,
       "name": "ABC-GAN Model 1 MAE"
      }
     },
     "output_type": "display_data"
    },
    {
     "data": {
      "application/scrapbook.scrap.json+json": {
       "data": 5.121067373603583,
       "encoder": "json",
       "name": "ABC-GAN Model 1 Manhattan Distance",
       "version": 1
      }
     },
     "metadata": {
      "scrapbook": {
       "data": true,
       "display": false,
       "name": "ABC-GAN Model 1 Manhattan Distance"
      }
     },
     "output_type": "display_data"
    },
    {
     "data": {
      "application/scrapbook.scrap.json+json": {
       "data": 1.6835438124978253,
       "encoder": "json",
       "name": "ABC-GAN Model 1 Euclidean distance",
       "version": 1
      }
     },
     "metadata": {
      "scrapbook": {
       "data": true,
       "display": false,
       "name": "ABC-GAN Model 1 Euclidean distance"
      }
     },
     "output_type": "display_data"
    },
    {
     "data": {
      "application/scrapbook.scrap.json+json": {
       "data": [
        [
         0.13906072906275324,
         0.1419426235717181,
         0.14183751572950204,
         0.14235512759167196,
         0.14109971029367202,
         0.14149283964519555,
         0.13948598903611864,
         0.13908054690242944,
         0.14122755043845664,
         0.1375861578018315,
         0.14390002428003107,
         0.14220313945182644,
         0.14170511827309973,
         0.14164156197506456,
         0.14159989775650117,
         0.14096957989722447,
         0.14327480107361312,
         0.14177283546806235,
         0.14036539563252678,
         0.14182281840996144,
         0.14209467754110552,
         0.1449075899878483,
         0.13945678820992394,
         0.14271857278191288,
         0.1411284765133763,
         0.14178193376031611,
         0.14058816429056104,
         0.14112878495513576,
         0.13979247937566225,
         0.1420299502189267,
         0.14149342477664317,
         0.1403849894306824,
         0.1396311364285161,
         0.1427216599050111,
         0.14094346702820224,
         0.14343486419320295,
         0.14278016270746016,
         0.1430003346332466,
         0.1423596684837229,
         0.1446292533828647,
         0.1425277686703667,
         0.144860209711214,
         0.14043818500674793,
         0.1443472125153021,
         0.14210349064448727,
         0.1432811500593915,
         0.14076158336057226,
         0.1409660112680749,
         0.14365252359264796,
         0.14029629284678397,
         0.14368274830971822,
         0.13938780777269932,
         0.14092539713185834,
         0.14010009226424555,
         0.139101322179012,
         0.14459963090788602,
         0.1422890184200905,
         0.13946776497634356,
         0.14056749614625613,
         0.14266753488660194,
         0.14217405928296975,
         0.14202177955975218,
         0.14247404871266592,
         0.14412173824388425,
         0.14064917518783865,
         0.14360582647230696,
         0.1412236612986475,
         0.14371861183339185,
         0.14143801342835738,
         0.14332618847627848,
         0.1415192319838388,
         0.14416219098677463,
         0.1425866759025994,
         0.14010789704404095,
         0.14299390793436534,
         0.14278769464448715,
         0.1415718457292959,
         0.1406690570717854,
         0.1445590540838805,
         0.14330885297564722,
         0.13967398892137312,
         0.1425907546590714,
         0.14036998262269773,
         0.1450714871031873,
         0.14266311893472222,
         0.14218404757589279,
         0.1404096356192822,
         0.1398511816922107,
         0.14093186810244102,
         0.1377540117786833,
         0.14224138127636282,
         0.14319537049348313,
         0.1403611079393241,
         0.14071329375184655,
         0.13949906030458345,
         0.14129451740859483,
         0.13978523253400107,
         0.14150295609867053,
         0.14375372821073606,
         0.1417325003154402
        ],
        [
         0.25396172646433113,
         0.257180873118341,
         0.2570658015087247,
         0.2565016085281968,
         0.25702353846281767,
         0.25354807283729314,
         0.25405245143920185,
         0.2540056025609374,
         0.25510052535682914,
         0.2498585281893611,
         0.2573659835383296,
         0.25598107259720565,
         0.25586039666086435,
         0.25294693987816574,
         0.25753899458795787,
         0.2565305480733514,
         0.2574928065761924,
         0.25578899700194596,
         0.25825595278292895,
         0.25492383185774087,
         0.25531805511564015,
         0.2584422053769231,
         0.2534107545390725,
         0.25645440090447663,
         0.2546575887128711,
         0.25635633151978254,
         0.2539624409750104,
         0.25537169333547355,
         0.2547464849427342,
         0.25919784475117924,
         0.25664555560797453,
         0.2544073289260268,
         0.2556832296773791,
         0.25756943952292205,
         0.2553459106013179,
         0.25977258030325173,
         0.2591974167153239,
         0.2556153183802962,
         0.25626262445002795,
         0.25784228947013615,
         0.2549694010987878,
         0.2610891154035926,
         0.25476206485182046,
         0.2583722690120339,
         0.2547168491408229,
         0.2567379469051957,
         0.2566612189635634,
         0.254360462538898,
         0.25626414697617295,
         0.2540371997281909,
         0.25772815439850094,
         0.2510131513699889,
         0.25561192277818917,
         0.25547467526048423,
         0.2527600763365626,
         0.2569090163335204,
         0.2571309385821223,
         0.2540218932554126,
         0.25582846682518723,
         0.2560485312715173,
         0.2572334805503488,
         0.25813446957617997,
         0.25862119663506744,
         0.25963673908263446,
         0.2557735266163945,
         0.25801485422998666,
         0.25398305859416725,
         0.2583853853866458,
         0.2570290768519044,
         0.25743681844323874,
         0.2555115545168519,
         0.25826620776206255,
         0.2570700438693166,
         0.2564175246283412,
         0.25401724558323624,
         0.255676637403667,
         0.25770248342305424,
         0.25519453901797534,
         0.2591230059042573,
         0.25651966128498316,
         0.2530733412131667,
         0.2568160446360707,
         0.2555694865062833,
         0.25905973743647337,
         0.2572959730401635,
         0.25736048761755226,
         0.25504789147526025,
         0.2538384785875678,
         0.2565536769106984,
         0.25448297839611767,
         0.25576363038271666,
         0.25593753922730683,
         0.25589306112378835,
         0.25355365555733445,
         0.2510908542200923,
         0.2552955048158765,
         0.25437713582068683,
         0.25771644432097673,
         0.2586174288764596,
         0.25650476161390545
        ],
        [
         5.079234529286623,
         5.143617462366819,
         5.141316030174494,
         5.130032170563936,
         5.140470769256353,
         5.070961456745863,
         5.081049028784037,
         5.080112051218748,
         5.102010507136583,
         4.997170563787222,
         5.147319670766592,
         5.119621451944113,
         5.117207933217287,
         5.058938797563314,
         5.150779891759157,
         5.130610961467028,
         5.149856131523848,
         5.1157799400389194,
         5.165119055658579,
         5.098476637154818,
         5.106361102312803,
         5.168844107538462,
         5.06821509078145,
         5.129088018089533,
         5.0931517742574215,
         5.127126630395651,
         5.079248819500208,
         5.107433866709471,
         5.094929698854685,
         5.183956895023584,
         5.132911112159491,
         5.088146578520536,
         5.113664593547583,
         5.151388790458441,
         5.106918212026358,
         5.195451606065035,
         5.1839483343064785,
         5.112306367605925,
         5.125252489000559,
         5.156845789402723,
         5.099388021975756,
         5.221782308071852,
         5.095241297036409,
         5.167445380240679,
         5.094336982816458,
         5.134758938103914,
         5.133224379271269,
         5.08720925077796,
         5.1252829395234585,
         5.080743994563818,
         5.154563087970018,
         5.020263027399778,
         5.112238455563784,
         5.109493505209684,
         5.055201526731253,
         5.138180326670408,
         5.1426187716424465,
         5.080437865108252,
         5.116569336503744,
         5.1209706254303455,
         5.144669611006975,
         5.1626893915236,
         5.172423932701349,
         5.192734781652689,
         5.11547053232789,
         5.160297084599733,
         5.079661171883345,
         5.167707707732916,
         5.140581537038088,
         5.148736368864775,
         5.110231090337038,
         5.165324155241251,
         5.141400877386332,
         5.128350492566824,
         5.080344911664724,
         5.1135327480733395,
         5.154049668461084,
         5.103890780359507,
         5.182460118085146,
         5.130393225699663,
         5.061466824263334,
         5.136320892721415,
         5.111389730125666,
         5.181194748729467,
         5.14591946080327,
         5.147209752351046,
         5.100957829505205,
         5.076769571751356,
         5.131073538213968,
         5.089659567922354,
         5.115272607654333,
         5.118750784546137,
         5.117861222475767,
         5.0710731111466885,
         5.021817084401846,
         5.10591009631753,
         5.087542716413736,
         5.154328886419535,
         5.172348577529192,
         5.130095232278109
        ],
        [
         1.6676973889932984,
         1.6848894537726686,
         1.684265511904237,
         1.687335933308314,
         1.679879223597173,
         1.6822178196963409,
         1.670245425296047,
         1.6678162183072176,
         1.6806400592539537,
         1.6588318649087466,
         1.696467059981013,
         1.6864349347177698,
         1.6834792441435074,
         1.683101672360078,
         1.6828541098770338,
         1.6791044035272165,
         1.6927776054379566,
         1.683881441598917,
         1.6755022866742186,
         1.6841782471577138,
         1.6857916688672152,
         1.7023958998296977,
         1.6700705865916203,
         1.6894885189424218,
         1.6800504546791224,
         1.6839354723997955,
         1.6768313230051557,
         1.6800522905858364,
         1.6720794202170077,
         1.6854076671175238,
         1.6822212980261733,
         1.6756192254249318,
         1.6711142176913947,
         1.6895067913744004,
         1.6789488796756276,
         1.6937229064590402,
         1.6898530273811398,
         1.6911554312554868,
         1.687362844700113,
         1.7007601440700844,
         1.6883587810081524,
         1.702117561810664,
         1.6759366635213153,
         1.6991010123903882,
         1.6858439467785105,
         1.6928151113420005,
         1.6778652112763544,
         1.6790831502226142,
         1.6950075138042777,
         1.6750898056330232,
         1.6951858205501733,
         1.6696574964506903,
         1.6788412499808214,
         1.6739181118814956,
         1.6679407793984293,
         1.7005859631779043,
         1.6869440916645133,
         1.6701363116604797,
         1.6767080613288416,
         1.6891864011209772,
         1.6862624901418506,
         1.6853591875903022,
         1.6880405724547374,
         1.6977734727806548,
         1.6771951298989551,
         1.6947319933978173,
         1.6806169182692854,
         1.6953973683676158,
         1.681891871841691,
         1.6930811467633704,
         1.6823747025192621,
         1.698011725441109,
         1.6887076473007363,
         1.673964737048191,
         1.6911174290058355,
         1.6898975983442734,
         1.6826874084588375,
         1.6773136681717309,
         1.700347341479855,
         1.6929787534145089,
         1.671370628683974,
         1.6887318002517238,
         1.6755296632569519,
         1.7033583715894156,
         1.6891602584404017,
         1.686321722423647,
         1.6757663060181287,
         1.6724304571025408,
         1.6788797938056257,
         1.6598434370667812,
         1.6866616808142811,
         1.6923083081606798,
         1.6754766959843046,
         1.6775773827269282,
         1.670323683030229,
         1.681038473138523,
         1.67203607935954,
         1.6822779562169299,
         1.6956044834261088,
         1.683641887786356
        ]
       ],
       "encoder": "json",
       "name": "ABC_GAN_1 Metrics",
       "version": 1
      }
     },
     "metadata": {
      "scrapbook": {
       "data": true,
       "display": false,
       "name": "ABC_GAN_1 Metrics"
      }
     },
     "output_type": "display_data"
    },
    {
     "name": "stdout",
     "output_type": "stream",
     "text": [
      "MSE\n",
      "0.14172052317761294\n"
     ]
    }
   ],
   "source": [
    "ABC_GAN1_metrics=ABC_train_test2.test_generator(gen,test_data,prior_model,variance,bias,\"1\",device)\n",
    "sb.glue(\"ABC_GAN_1 Metrics\",ABC_GAN1_metrics)\n",
    "\n",
    "print(\"MSE\")\n",
    "print(mean(ABC_GAN1_metrics[0]))"
   ]
  },
  {
   "cell_type": "code",
   "execution_count": 14,
   "id": "eb22ce5c",
   "metadata": {
    "execution": {
     "iopub.execute_input": "2022-06-07T07:01:35.220939Z",
     "iopub.status.busy": "2022-06-07T07:01:35.220497Z",
     "iopub.status.idle": "2022-06-07T07:01:35.520557Z",
     "shell.execute_reply": "2022-06-07T07:01:35.520862Z"
    },
    "papermill": {
     "duration": 0.316135,
     "end_time": "2022-06-07T07:01:35.520982",
     "exception": false,
     "start_time": "2022-06-07T07:01:35.204847",
     "status": "completed"
    },
    "tags": []
   },
   "outputs": [
    {
     "data": {
      "image/png": "[encoded data removed]",
      "text/plain": [
       "<Figure size 432x288 with 1 Axes>"
      ]
     },
     "metadata": {
      "needs_background": "light"
     },
     "output_type": "display_data"
    },
    {
     "data": {
      "image/png": "[encoded data removed]",
      "text/plain": [
       "<Figure size 432x288 with 1 Axes>"
      ]
     },
     "metadata": {
      "needs_background": "light"
     },
     "output_type": "display_data"
    },
    {
     "data": {
      "image/png": "[encoded data removed]",
      "text/plain": [
       "<Figure size 432x288 with 1 Axes>"
      ]
     },
     "metadata": {
      "needs_background": "light"
     },
     "output_type": "display_data"
    },
    {
     "data": {
      "image/png": "[encoded data removed]",
      "text/plain": [
       "<Figure size 432x288 with 1 Axes>"
      ]
     },
     "metadata": {
      "needs_background": "light"
     },
     "output_type": "display_data"
    }
   ],
   "source": [
    "sanityChecks.discProbVsError(train_data,disc,device)\n",
    "sanityChecks.discProbVsError(test_data,disc,device)"
   ]
  },
  {
   "cell_type": "markdown",
   "id": "130f3a4d",
   "metadata": {
    "id": "130f3a4d",
    "papermill": {
     "duration": 0.046707,
     "end_time": "2022-06-07T07:01:35.582152",
     "exception": false,
     "start_time": "2022-06-07T07:01:35.535445",
     "status": "completed"
    },
    "tags": []
   },
   "source": [
    "# ABC - GAN Model with skip connection"
   ]
  },
  {
   "cell_type": "code",
   "execution_count": 15,
   "id": "4e43dad1",
   "metadata": {
    "execution": {
     "iopub.execute_input": "2022-06-07T07:01:35.614488Z",
     "iopub.status.busy": "2022-06-07T07:01:35.614097Z",
     "iopub.status.idle": "2022-06-07T07:01:35.616355Z",
     "shell.execute_reply": "2022-06-07T07:01:35.616601Z"
    },
    "id": "4e43dad1",
    "papermill": {
     "duration": 0.02009,
     "end_time": "2022-06-07T07:01:35.616726",
     "exception": false,
     "start_time": "2022-06-07T07:01:35.596636",
     "status": "completed"
    },
    "tags": []
   },
   "outputs": [],
   "source": [
    "#Generator\n",
    "gen3 = network.GeneratorWithSkipConnection(n_features+1).to(device)\n",
    "constraints=network.weightConstraint()\n",
    "#Discriminator \n",
    "disc3 = network.Discriminator(n_features+1).to(device)\n",
    "\n",
    "criterion = torch.nn.BCELoss()\n",
    "gen_opt = torch.optim.Adam(gen3.parameters(), lr=0.001, betas=(0.5, 0.999))\n",
    "disc_opt = torch.optim.Adam(disc3.parameters(), lr=0.001, betas=(0.5, 0.999))\n"
   ]
  },
  {
   "cell_type": "code",
   "execution_count": 16,
   "id": "26acbc37",
   "metadata": {
    "execution": {
     "iopub.execute_input": "2022-06-07T07:01:35.648143Z",
     "iopub.status.busy": "2022-06-07T07:01:35.647784Z",
     "iopub.status.idle": "2022-06-07T07:02:14.286697Z",
     "shell.execute_reply": "2022-06-07T07:02:14.287187Z"
    },
    "id": "26acbc37",
    "papermill": {
     "duration": 38.655973,
     "end_time": "2022-06-07T07:02:14.287317",
     "exception": false,
     "start_time": "2022-06-07T07:01:35.631344",
     "status": "completed"
    },
    "tags": []
   },
   "outputs": [
    {
     "data": {
      "image/png": "[encoded data removed]",
      "text/plain": [
       "<Figure size 432x288 with 1 Axes>"
      ]
     },
     "metadata": {
      "needs_background": "light"
     },
     "output_type": "display_data"
    },
    {
     "data": {
      "image/png": "[encoded data removed]",
      "text/plain": [
       "<Figure size 432x288 with 1 Axes>"
      ]
     },
     "metadata": {
      "needs_background": "light"
     },
     "output_type": "display_data"
    }
   ],
   "source": [
    "ABC_train_test2.training_GAN_skip_connection(disc3,gen3,disc_opt,gen_opt,train_data,batch_size,n_epochs,criterion,prior_model,variance,bias,device)"
   ]
  },
  {
   "cell_type": "code",
   "execution_count": 17,
   "id": "c5e0717b",
   "metadata": {
    "execution": {
     "iopub.execute_input": "2022-06-07T07:02:14.322565Z",
     "iopub.status.busy": "2022-06-07T07:02:14.322185Z",
     "iopub.status.idle": "2022-06-07T07:02:14.620969Z",
     "shell.execute_reply": "2022-06-07T07:02:14.621230Z"
    },
    "id": "c5e0717b",
    "papermill": {
     "duration": 0.317884,
     "end_time": "2022-06-07T07:02:14.621358",
     "exception": false,
     "start_time": "2022-06-07T07:02:14.303474",
     "status": "completed"
    },
    "tags": []
   },
   "outputs": [
    {
     "data": {
      "application/scrapbook.scrap.json+json": {
       "data": 0.16618531850096627,
       "encoder": "json",
       "name": "ABC-GAN Model 3 MSE",
       "version": 1
      }
     },
     "metadata": {
      "scrapbook": {
       "data": true,
       "display": false,
       "name": "ABC-GAN Model 3 MSE"
      }
     },
     "output_type": "display_data"
    },
    {
     "data": {
      "application/scrapbook.scrap.json+json": {
       "data": 0.31344897058419885,
       "encoder": "json",
       "name": "ABC-GAN Model 3 MAE",
       "version": 1
      }
     },
     "metadata": {
      "scrapbook": {
       "data": true,
       "display": false,
       "name": "ABC-GAN Model 3 MAE"
      }
     },
     "output_type": "display_data"
    },
    {
     "data": {
      "application/scrapbook.scrap.json+json": {
       "data": 6.2689794116839765,
       "encoder": "json",
       "name": "ABC-GAN Model 3 Manhattan Distance",
       "version": 1
      }
     },
     "metadata": {
      "scrapbook": {
       "data": true,
       "display": false,
       "name": "ABC-GAN Model 3 Manhattan Distance"
      }
     },
     "output_type": "display_data"
    },
    {
     "data": {
      "application/scrapbook.scrap.json+json": {
       "data": 1.8230729093005154,
       "encoder": "json",
       "name": "ABC-GAN Model 3 Euclidean distance",
       "version": 1
      }
     },
     "metadata": {
      "scrapbook": {
       "data": true,
       "display": false,
       "name": "ABC-GAN Model 3 Euclidean distance"
      }
     },
     "output_type": "display_data"
    },
    {
     "data": {
      "application/scrapbook.scrap.json+json": {
       "data": [
        [
         0.16601865791983625,
         0.1670237965479823,
         0.16538958012817823,
         0.1637682845154637,
         0.16575813331911968,
         0.16390114207592918,
         0.1661930749547916,
         0.1693834040542169,
         0.16272505924613542,
         0.16559936844404105,
         0.16700983650611687,
         0.16595757059699462,
         0.1682830441336275,
         0.16677603534025934,
         0.16600037994516384,
         0.1628873993025029,
         0.1676494103596507,
         0.16567615858418222,
         0.1692621752981501,
         0.16604417096098828,
         0.16726267520847876,
         0.16424010011854623,
         0.16641313903248464,
         0.16313150527275883,
         0.16740995033105438,
         0.16856566905308804,
         0.16453115855404848,
         0.16852924636027375,
         0.16523626255264298,
         0.1682933458872323,
         0.16434436296390564,
         0.1665512810643893,
         0.16838156831575374,
         0.16644743197281966,
         0.1682434772169729,
         0.1633865353225749,
         0.16506936673845235,
         0.1654652528043909,
         0.16614331106946473,
         0.1686992347435484,
         0.16540790107832976,
         0.1675610307403345,
         0.16556332561451598,
         0.16621170975693972,
         0.16383088602309476,
         0.16876976658338808,
         0.16699435900633172,
         0.16741946324183768,
         0.16565264348629646,
         0.16500954273268792,
         0.16408327279593365,
         0.16705058551973312,
         0.16869343752088523,
         0.16716005092956038,
         0.16659609970927575,
         0.1651480394944776,
         0.1685586740159293,
         0.1633902057906665,
         0.17215484982873921,
         0.16642975595833023,
         0.16440925914651178,
         0.16365183648209136,
         0.16339962531627256,
         0.164572753725403,
         0.1634779085156727,
         0.16949495547069335,
         0.16679609122308697,
         0.1686536019895431,
         0.16791071922420875,
         0.16693243784710227,
         0.16535313064261498,
         0.16554818185562534,
         0.1677677699977202,
         0.1672265217806223,
         0.16771072132196446,
         0.16824428700141053,
         0.1662792126175538,
         0.16681063750865138,
         0.1632364183302022,
         0.16552905554671543,
         0.16817476311039173,
         0.16386122290739014,
         0.16791379193160222,
         0.16626429836617035,
         0.1598836677440618,
         0.1678230179216727,
         0.16419160406531524,
         0.16580307342924738,
         0.16503176078266674,
         0.16892404389071736,
         0.1652054840785439,
         0.16674944473871914,
         0.1647519432751654,
         0.1681553552881907,
         0.16733787638405706,
         0.1680364966390953,
         0.16399724427068896,
         0.16565281070082766,
         0.16447550329318278,
         0.1639561650917543
        ],
        [
         0.312520251236856,
         0.31377628464251756,
         0.31417394857853653,
         0.30834724511951206,
         0.3121859170496464,
         0.3101599408313632,
         0.31325161550194025,
         0.3186213349923491,
         0.3099438095465302,
         0.3133991029113531,
         0.3162168188020587,
         0.3128241689875722,
         0.315166406519711,
         0.31466271746903657,
         0.3132548874244094,
         0.3100849622860551,
         0.3151119461283088,
         0.312066194228828,
         0.3151625065132976,
         0.3128520330414176,
         0.3149153975769877,
         0.31261507961899043,
         0.31199613232165574,
         0.3114285239949822,
         0.3146174861118197,
         0.3161786114796996,
         0.3093668123707175,
         0.31780398581176994,
         0.3129376260563731,
         0.3156018966808915,
         0.31214792374521494,
         0.31345273200422524,
         0.31375473756343125,
         0.3149279156699777,
         0.3148605408146977,
         0.30975191853940487,
         0.313355746306479,
         0.3117090316489339,
         0.3163687655702233,
         0.3153725637122989,
         0.31267856154590845,
         0.3153815569356084,
         0.31047921497374775,
         0.31165541205555203,
         0.31125488597899675,
         0.31473257336765526,
         0.31190380472689866,
         0.31605992894619706,
         0.3115656213834882,
         0.31283042412251233,
         0.3124421561136842,
         0.31325264032930134,
         0.31471062172204256,
         0.3125183222815394,
         0.3126421066001058,
         0.3151154449209571,
         0.31576523538678886,
         0.31181049179285764,
         0.3176173156127334,
         0.3127117907628417,
         0.3125591786578298,
         0.31175528597086666,
         0.3125317236408591,
         0.31535484585911033,
         0.31104950811713933,
         0.3166576331481338,
         0.3127084543928504,
         0.31499906349927187,
         0.3139675686135888,
         0.31487572435289624,
         0.3127069162204862,
         0.31377791073173283,
         0.317882108874619,
         0.31316511165350674,
         0.3118950955569744,
         0.3168942162767053,
         0.3113815227523446,
         0.314674018882215,
         0.31290233973413706,
         0.3105042455717921,
         0.3172205241397023,
         0.311808287166059,
         0.3149476358667016,
         0.31467490959912536,
         0.3086610032245517,
         0.3151924470439553,
         0.311357862688601,
         0.31228170413523915,
         0.31103614438325167,
         0.31585383508354425,
         0.3130225045606494,
         0.31418868955224755,
         0.3150763988494873,
         0.3139107389375567,
         0.3144067881628871,
         0.3140268912538886,
         0.3106984471902251,
         0.31317222211509943,
         0.31397795360535385,
         0.3130659693852067
        ],
        [
         6.25040502473712,
         6.275525692850351,
         6.28347897157073,
         6.166944902390242,
         6.2437183409929276,
         6.203198816627264,
         6.265032310038805,
         6.372426699846983,
         6.198876190930605,
         6.267982058227062,
         6.324336376041174,
         6.256483379751444,
         6.30332813039422,
         6.293254349380732,
         6.265097748488188,
         6.201699245721102,
         6.3022389225661755,
         6.241323884576559,
         6.303250130265951,
         6.257040660828352,
         6.298307951539755,
         6.252301592379808,
         6.239922646433115,
         6.228570479899645,
         6.292349722236395,
         6.323572229593992,
         6.1873362474143505,
         6.356079716235399,
         6.258752521127462,
         6.31203793361783,
         6.242958474904299,
         6.269054640084505,
         6.275094751268625,
         6.298558313399553,
         6.297210816293955,
         6.195038370788097,
         6.2671149261295795,
         6.234180632978678,
         6.327375311404467,
         6.307451274245977,
         6.253571230918169,
         6.307631138712168,
         6.209584299474955,
         6.23310824111104,
         6.225097719579935,
         6.2946514673531055,
         6.238076094537973,
         6.321198578923941,
         6.231312427669764,
         6.256608482450247,
         6.2488431222736835,
         6.265052806586027,
         6.294212434440851,
         6.250366445630789,
         6.252842132002115,
         6.302308898419142,
         6.315304707735777,
         6.236209835857153,
         6.352346312254667,
         6.254235815256834,
         6.251183573156595,
         6.235105719417334,
         6.2506344728171825,
         6.307096917182207,
         6.220990162342787,
         6.333152662962675,
         6.254169087857008,
         6.299981269985437,
         6.279351372271776,
         6.297514487057924,
         6.254138324409723,
         6.275558214634657,
         6.35764217749238,
         6.263302233070135,
         6.237901911139488,
         6.337884325534105,
         6.227630455046892,
         6.2934803776443005,
         6.258046794682741,
         6.2100849114358425,
         6.344410482794046,
         6.23616574332118,
         6.298952717334032,
         6.293498191982508,
         6.1732200644910336,
         6.3038489408791065,
         6.22715725377202,
         6.2456340827047825,
         6.220722887665033,
         6.317076701670885,
         6.260450091212988,
         6.2837737910449505,
         6.301527976989746,
         6.278214778751135,
         6.288135763257742,
         6.280537825077772,
         6.2139689438045025,
         6.263444442301989,
         6.279559072107077,
         6.261319387704134
        ],
        [
         1.8221891115898825,
         1.8276968925288586,
         1.8187335160939782,
         1.8097971406512041,
         1.8207588160935522,
         1.8105310937729249,
         1.8231460443683145,
         1.840561892761104,
         1.8040236098573401,
         1.8198866362718369,
         1.8276205104239605,
         1.8218538393460362,
         1.8345737604884003,
         1.8263407970050898,
         1.822088801047654,
         1.8049232632026375,
         1.8311166558122434,
         1.820308537496774,
         1.839903124070124,
         1.8223291193469322,
         1.829003418304508,
         1.8124022738815257,
         1.8243527018232228,
         1.806275202026307,
         1.82980846173065,
         1.836113662348211,
         1.8140074892571336,
         1.8359152832321743,
         1.8178903297649338,
         1.834629913019148,
         1.8129774569139332,
         1.8251097559565523,
         1.8351107231758728,
         1.8245406653337144,
         1.8343580741882044,
         1.8076865620044584,
         1.8169720236616322,
         1.8191495419804875,
         1.8228730678215899,
         1.8368409552465255,
         1.818834247963952,
         1.8306339379588399,
         1.8196885756332921,
         1.8232482538422448,
         1.8101430110524126,
         1.8372248995884422,
         1.8275358218449878,
         1.8298604495525754,
         1.8201793509777902,
         1.8166427427135359,
         1.8115367663723176,
         1.8278434589413457,
         1.8368093941445596,
         1.8284422382430372,
         1.825355306285742,
         1.8174049603458091,
         1.8360755649805336,
         1.8077068666720637,
         1.8555584055951417,
         1.8244437835040588,
         1.8133353751940746,
         1.8091535948177058,
         1.8077589735153996,
         1.8142367746543062,
         1.8081919616880986,
         1.8411678656260182,
         1.826450608273254,
         1.8365925078228056,
         1.8325431466910063,
         1.8271969671992248,
         1.8185330936918085,
         1.8196053520234838,
         1.831762921328632,
         1.8288057402612357,
         1.8314514534759825,
         1.8343624887214116,
         1.8236184503209756,
         1.8265302489072082,
         1.8068559341032266,
         1.8195002365853952,
         1.8339834410942304,
         1.8103105971484017,
         1.8325599140633968,
         1.8235366646501536,
         1.788203946668622,
         1.8320645071703818,
         1.8121346752673504,
         1.821005620140956,
         1.8167650414000527,
         1.838064437884142,
         1.817721013129044,
         1.8261951962411858,
         1.815224191526575,
         1.833877614718009,
         1.829414531395534,
         1.8332293726595987,
         1.8110618115939001,
         1.8201802696481888,
         1.8137006549769055,
         1.8108349736613456
        ]
       ],
       "encoder": "json",
       "name": "ABC_GAN_3 Metrics",
       "version": 1
      }
     },
     "metadata": {
      "scrapbook": {
       "data": true,
       "display": false,
       "name": "ABC_GAN_3 Metrics"
      }
     },
     "output_type": "display_data"
    },
    {
     "name": "stdout",
     "output_type": "stream",
     "text": [
      "MSE\n",
      "0.16618531850096627\n"
     ]
    }
   ],
   "source": [
    "ABC_GAN3_metrics=ABC_train_test2.test_generator(gen3,test_data,prior_model,variance,bias,\"3\",device)\n",
    "sb.glue(\"ABC_GAN_3 Metrics\",ABC_GAN3_metrics)\n",
    "\n",
    "print(\"MSE\")\n",
    "print(mean(ABC_GAN3_metrics[0]))"
   ]
  },
  {
   "cell_type": "code",
   "execution_count": 18,
   "id": "c8e46b48",
   "metadata": {
    "execution": {
     "iopub.execute_input": "2022-06-07T07:02:14.666419Z",
     "iopub.status.busy": "2022-06-07T07:02:14.665990Z",
     "iopub.status.idle": "2022-06-07T07:02:14.996795Z",
     "shell.execute_reply": "2022-06-07T07:02:14.997196Z"
    },
    "id": "c8e46b48",
    "papermill": {
     "duration": 0.35272,
     "end_time": "2022-06-07T07:02:14.997322",
     "exception": false,
     "start_time": "2022-06-07T07:02:14.644602",
     "status": "completed"
    },
    "tags": []
   },
   "outputs": [
    {
     "data": {
      "image/png": "[encoded data removed]",
      "text/plain": [
       "<Figure size 432x288 with 1 Axes>"
      ]
     },
     "metadata": {
      "needs_background": "light"
     },
     "output_type": "display_data"
    },
    {
     "data": {
      "image/png": "[encoded data removed]",
      "text/plain": [
       "<Figure size 432x288 with 1 Axes>"
      ]
     },
     "metadata": {
      "needs_background": "light"
     },
     "output_type": "display_data"
    },
    {
     "data": {
      "image/png": "[encoded data removed]",
      "text/plain": [
       "<Figure size 432x288 with 1 Axes>"
      ]
     },
     "metadata": {
      "needs_background": "light"
     },
     "output_type": "display_data"
    },
    {
     "data": {
      "image/png": "[encoded data removed]",
      "text/plain": [
       "<Figure size 432x288 with 1 Axes>"
      ]
     },
     "metadata": {
      "needs_background": "light"
     },
     "output_type": "display_data"
    }
   ],
   "source": [
    "sanityChecks.discProbVsError(train_data,disc3,device)\n",
    "sanityChecks.discProbVsError(test_data,disc3,device)"
   ]
  },
  {
   "cell_type": "markdown",
   "id": "a5bd74c3",
   "metadata": {
    "id": "a5bd74c3",
    "papermill": {
     "duration": 0.020055,
     "end_time": "2022-06-07T07:02:15.037392",
     "exception": false,
     "start_time": "2022-06-07T07:02:15.017337",
     "status": "completed"
    },
    "tags": []
   },
   "source": [
    "## Skip Connection Model Analysis - ABC-GAN "
   ]
  },
  {
   "cell_type": "markdown",
   "id": "5744a8bf",
   "metadata": {
    "id": "5744a8bf",
    "papermill": {
     "duration": 0.020143,
     "end_time": "2022-06-07T07:02:15.077431",
     "exception": false,
     "start_time": "2022-06-07T07:02:15.057288",
     "status": "completed"
    },
    "tags": []
   },
   "source": [
    "### Weight Analysis \n",
    "\n",
    "Study the weights of the skip connection layer\n",
    "\n",
    "Equation of the skip connection is \n",
    "\n",
    "$output = y_{gan} * w + y_{abc} * (1-w)$"
   ]
  },
  {
   "cell_type": "code",
   "execution_count": 19,
   "id": "52c31dea",
   "metadata": {
    "execution": {
     "iopub.execute_input": "2022-06-07T07:02:15.120731Z",
     "iopub.status.busy": "2022-06-07T07:02:15.120326Z",
     "iopub.status.idle": "2022-06-07T07:02:15.123787Z",
     "shell.execute_reply": "2022-06-07T07:02:15.124028Z"
    },
    "id": "52c31dea",
    "papermill": {
     "duration": 0.026428,
     "end_time": "2022-06-07T07:02:15.124145",
     "exception": false,
     "start_time": "2022-06-07T07:02:15.097717",
     "status": "completed"
    },
    "tags": []
   },
   "outputs": [
    {
     "name": "stdout",
     "output_type": "stream",
     "text": [
      "Weight of the node at skip connection\n",
      "Parameter containing:\n",
      "tensor([[0.0393]], requires_grad=True)\n"
     ]
    },
    {
     "data": {
      "application/scrapbook.scrap.json+json": {
       "data": 0.03929750993847847,
       "encoder": "json",
       "name": "Skip Connection Weight",
       "version": 1
      }
     },
     "metadata": {
      "scrapbook": {
       "data": true,
       "display": false,
       "name": "Skip Connection Weight"
      }
     },
     "output_type": "display_data"
    }
   ],
   "source": [
    "print(\"Weight of the node at skip connection\")\n",
    "for name,param in gen3.named_parameters():\n",
    "    if(name == \"skipNode.weight\"):\n",
    "        print(param)\n",
    "        sb.glue(\"Skip Connection Weight\",param.item())"
   ]
  }
 ],
 "metadata": {
  "colab": {
   "collapsed_sections": [],
   "name": "ABC_GAN_Model-Catboost_Pre-gen.ipynb",
   "provenance": []
  },
  "interpreter": {
   "hash": "31f2aee4e71d21fbe5cf8b01ff0e069b9275f58929596ceb00d14d90e3e16cd6"
  },
  "kernelspec": {
   "display_name": "Python 3 (ipykernel)",
   "language": "python",
   "name": "python3"
  },
  "language_info": {
   "codemirror_mode": {
    "name": "ipython",
    "version": 3
   },
   "file_extension": ".py",
   "mimetype": "text/x-python",
   "name": "python",
   "nbconvert_exporter": "python",
   "pygments_lexer": "ipython3",
   "version": "3.8.11"
  },
  "papermill": {
   "default_parameters": {},
   "duration": 59.300392,
   "end_time": "2022-06-07T07:02:15.451717",
   "environment_variables": {},
   "exception": null,
   "input_path": "ABC_GAN-Catboost.ipynb",
   "output_path": "./ABC_GAN_Catboost/ABC-GAN_output_8_5.ipynb",
   "parameters": {
    "bias": 0.1,
    "variance": 0.01
   },
   "start_time": "2022-06-07T07:01:16.151325",
   "version": "2.3.3"
  }
 },
 "nbformat": 4,
 "nbformat_minor": 5
}