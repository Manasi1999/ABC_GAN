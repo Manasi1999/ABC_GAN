{
 "cells": [
  {
   "cell_type": "markdown",
   "id": "b5e2d986",
   "metadata": {
    "papermill": {
     "duration": 0.037214,
     "end_time": "2021-11-17T15:21:55.094965",
     "exception": false,
     "start_time": "2021-11-17T15:21:55.057751",
     "status": "completed"
    },
    "tags": []
   },
   "source": [
    "# Dataset 4 - Boston"
   ]
  },
  {
   "cell_type": "markdown",
   "id": "622780e6",
   "metadata": {
    "papermill": {
     "duration": 0.019695,
     "end_time": "2021-11-17T15:21:55.135578",
     "exception": false,
     "start_time": "2021-11-17T15:21:55.115883",
     "status": "completed"
    },
    "tags": []
   },
   "source": [
    "## Import Libraries "
   ]
  },
  {
   "cell_type": "code",
   "execution_count": 1,
   "id": "a62397e3",
   "metadata": {
    "execution": {
     "iopub.execute_input": "2021-11-17T15:21:55.173285Z",
     "iopub.status.busy": "2021-11-17T15:21:55.172772Z",
     "iopub.status.idle": "2021-11-17T15:21:55.174865Z",
     "shell.execute_reply": "2021-11-17T15:21:55.175129Z"
    },
    "papermill": {
     "duration": 0.022477,
     "end_time": "2021-11-17T15:21:55.175296",
     "exception": false,
     "start_time": "2021-11-17T15:21:55.152819",
     "status": "completed"
    },
    "tags": []
   },
   "outputs": [],
   "source": [
    "import warnings\n",
    "import sys\n",
    "sys.path.insert(0, '../src')\n",
    "warnings.filterwarnings('ignore')"
   ]
  },
  {
   "cell_type": "code",
   "execution_count": 2,
   "id": "d6a4e155",
   "metadata": {
    "execution": {
     "iopub.execute_input": "2021-11-17T15:21:55.208004Z",
     "iopub.status.busy": "2021-11-17T15:21:55.207589Z",
     "iopub.status.idle": "2021-11-17T15:21:57.043127Z",
     "shell.execute_reply": "2021-11-17T15:21:57.043396Z"
    },
    "papermill": {
     "duration": 1.853301,
     "end_time": "2021-11-17T15:21:57.043523",
     "exception": false,
     "start_time": "2021-11-17T15:21:55.190222",
     "status": "completed"
    },
    "tags": []
   },
   "outputs": [],
   "source": [
    "import train_test\n",
    "import ABC_train_test\n",
    "import bostonDataset\n",
    "import network\n",
    "import statsModel\n",
    "import performanceMetrics\n",
    "import dataset\n",
    "import sanityChecks\n",
    "import torch \n",
    "import matplotlib.pyplot as plt \n",
    "import seaborn as sns \n",
    "from torch.utils.data import random_split \n",
    "#import pycuda.driver as cuda"
   ]
  },
  {
   "cell_type": "markdown",
   "id": "e0c10419",
   "metadata": {
    "papermill": {
     "duration": 0.014815,
     "end_time": "2021-11-17T15:21:57.095406",
     "exception": false,
     "start_time": "2021-11-17T15:21:57.080591",
     "status": "completed"
    },
    "tags": []
   },
   "source": [
    "## Parameters\n",
    "\n",
    "General Parameters \n",
    "\n",
    "1. Number of Samples\n",
    "2. Number of features \n",
    "\n",
    "ABC-Generator parameters are as mentioned below: \n",
    "1. mean : 1 ($\\beta \\sim N(\\beta^{*},\\sigma)$ where $\\beta^{*}$ are coefficients of statistical model) or 1 ($\\beta \\sim N(0,\\sigma)$\n",
    "2. std : $\\sigma = 1, 0.1 , 0.01$ (standard deviation)"
   ]
  },
  {
   "cell_type": "code",
   "execution_count": 3,
   "id": "645f85d5",
   "metadata": {
    "execution": {
     "iopub.execute_input": "2021-11-17T15:21:57.128059Z",
     "iopub.status.busy": "2021-11-17T15:21:57.127519Z",
     "iopub.status.idle": "2021-11-17T15:21:57.129013Z",
     "shell.execute_reply": "2021-11-17T15:21:57.129284Z"
    },
    "papermill": {
     "duration": 0.019402,
     "end_time": "2021-11-17T15:21:57.129432",
     "exception": false,
     "start_time": "2021-11-17T15:21:57.110030",
     "status": "completed"
    },
    "tags": [
     "parameters"
    ]
   },
   "outputs": [],
   "source": [
    "n_features = 13\n",
    "n_samples= 506\n",
    " \n",
    "#ABC Generator Parameters\n",
    "mean = 1 \n",
    "variance = 0.01\n",
    "\n",
    "#Hyper-parameters \n",
    "n_epochs = 5000"
   ]
  },
  {
   "cell_type": "code",
   "execution_count": 4,
   "id": "8b68dfe9",
   "metadata": {
    "execution": {
     "iopub.execute_input": "2021-11-17T15:21:57.162541Z",
     "iopub.status.busy": "2021-11-17T15:21:57.162143Z",
     "iopub.status.idle": "2021-11-17T15:21:57.163444Z",
     "shell.execute_reply": "2021-11-17T15:21:57.163713Z"
    },
    "papermill": {
     "duration": 0.018669,
     "end_time": "2021-11-17T15:21:57.163829",
     "exception": false,
     "start_time": "2021-11-17T15:21:57.145160",
     "status": "completed"
    },
    "tags": [
     "injected-parameters"
    ]
   },
   "outputs": [],
   "source": [
    "# Parameters\n",
    "mean = 0\n",
    "variance = 0.1\n",
    "n_epochs = 8000\n"
   ]
  },
  {
   "cell_type": "markdown",
   "id": "391cdbfd",
   "metadata": {
    "papermill": {
     "duration": 0.014622,
     "end_time": "2021-11-17T15:21:57.193261",
     "exception": false,
     "start_time": "2021-11-17T15:21:57.178639",
     "status": "completed"
    },
    "tags": []
   },
   "source": [
    "## Dataset"
   ]
  },
  {
   "cell_type": "code",
   "execution_count": 5,
   "id": "5d6eced4",
   "metadata": {
    "execution": {
     "iopub.execute_input": "2021-11-17T15:21:57.225793Z",
     "iopub.status.busy": "2021-11-17T15:21:57.225338Z",
     "iopub.status.idle": "2021-11-17T15:21:57.238042Z",
     "shell.execute_reply": "2021-11-17T15:21:57.238355Z"
    },
    "papermill": {
     "duration": 0.030441,
     "end_time": "2021-11-17T15:21:57.238477",
     "exception": false,
     "start_time": "2021-11-17T15:21:57.208036",
     "status": "completed"
    },
    "tags": []
   },
   "outputs": [
    {
     "name": "stdout",
     "output_type": "stream",
     "text": [
      "        X1    X2    X3   X4     X5     X6    X7      X8   X9    X10   X11  \\\n",
      "0  0.00632  18.0  2.31  0.0  0.538  6.575  65.2  4.0900  1.0  296.0  15.3   \n",
      "1  0.02731   0.0  7.07  0.0  0.469  6.421  78.9  4.9671  2.0  242.0  17.8   \n",
      "2  0.02729   0.0  7.07  0.0  0.469  7.185  61.1  4.9671  2.0  242.0  17.8   \n",
      "3  0.03237   0.0  2.18  0.0  0.458  6.998  45.8  6.0622  3.0  222.0  18.7   \n",
      "4  0.06905   0.0  2.18  0.0  0.458  7.147  54.2  6.0622  3.0  222.0  18.7   \n",
      "\n",
      "      X12   X13     Y  \n",
      "0  396.90  4.98  24.0  \n",
      "1  396.90  9.14  21.6  \n",
      "2  392.83  4.03  34.7  \n",
      "3  394.63  2.94  33.4  \n",
      "4  396.90  5.33  36.2  \n"
     ]
    }
   ],
   "source": [
    "X,Y = bostonDataset.boston_data()"
   ]
  },
  {
   "cell_type": "markdown",
   "id": "c31c206a",
   "metadata": {
    "papermill": {
     "duration": 0.014942,
     "end_time": "2021-11-17T15:21:57.268629",
     "exception": false,
     "start_time": "2021-11-17T15:21:57.253687",
     "status": "completed"
    },
    "tags": []
   },
   "source": [
    "## Stats Model"
   ]
  },
  {
   "cell_type": "code",
   "execution_count": 6,
   "id": "532269fd",
   "metadata": {
    "execution": {
     "iopub.execute_input": "2021-11-17T15:21:57.300995Z",
     "iopub.status.busy": "2021-11-17T15:21:57.300599Z",
     "iopub.status.idle": "2021-11-17T15:21:57.402005Z",
     "shell.execute_reply": "2021-11-17T15:21:57.402267Z"
    },
    "papermill": {
     "duration": 0.118836,
     "end_time": "2021-11-17T15:21:57.402393",
     "exception": false,
     "start_time": "2021-11-17T15:21:57.283557",
     "status": "completed"
    },
    "tags": []
   },
   "outputs": [
    {
     "name": "stderr",
     "output_type": "stream",
     "text": [
      "No handles with labels found to put in legend.\n"
     ]
    },
    {
     "name": "stdout",
     "output_type": "stream",
     "text": [
      "                                 OLS Regression Results                                \n",
      "=======================================================================================\n",
      "Dep. Variable:                      Y   R-squared (uncentered):                   0.740\n",
      "Model:                            OLS   Adj. R-squared (uncentered):              0.732\n",
      "Method:                 Least Squares   F-statistic:                              85.72\n",
      "Date:                Wed, 17 Nov 2021   Prob (F-statistic):                   1.03e-105\n",
      "Time:                        20:51:57   Log-Likelihood:                         -298.41\n",
      "No. Observations:                 404   AIC:                                      622.8\n",
      "Df Residuals:                     391   BIC:                                      674.8\n",
      "Df Model:                          13                                                  \n",
      "Covariance Type:            nonrobust                                                  \n",
      "==============================================================================\n",
      "                 coef    std err          t      P>|t|      [0.025      0.975]\n",
      "------------------------------------------------------------------------------\n",
      "x1            -0.1190      0.041     -2.877      0.004      -0.200      -0.038\n",
      "x2             0.1161      0.040      2.872      0.004       0.037       0.196\n",
      "x3             0.0284      0.052      0.549      0.583      -0.073       0.130\n",
      "x4             0.0658      0.028      2.353      0.019       0.011       0.121\n",
      "x5            -0.2387      0.054     -4.402      0.000      -0.345      -0.132\n",
      "x6             0.3117      0.036      8.742      0.000       0.242       0.382\n",
      "x7             0.0023      0.046      0.051      0.959      -0.087       0.092\n",
      "x8            -0.3515      0.051     -6.860      0.000      -0.452      -0.251\n",
      "x9             0.2834      0.070      4.049      0.000       0.146       0.421\n",
      "x10           -0.2469      0.076     -3.260      0.001      -0.396      -0.098\n",
      "x11           -0.2256      0.035     -6.378      0.000      -0.295      -0.156\n",
      "x12            0.1006      0.029      3.427      0.001       0.043       0.158\n",
      "x13           -0.3637      0.045     -8.037      0.000      -0.453      -0.275\n",
      "==============================================================================\n",
      "Omnibus:                      139.315   Durbin-Watson:                   1.894\n",
      "Prob(Omnibus):                  0.000   Jarque-Bera (JB):              573.247\n",
      "Skew:                           1.475   Prob(JB):                    3.32e-125\n",
      "Kurtosis:                       8.035   Cond. No.                         9.61\n",
      "==============================================================================\n",
      "\n",
      "Notes:\n",
      "[1] R² is computed without centering (uncentered) since the model does not contain a constant.\n",
      "[2] Standard Errors assume that the covariance matrix of the errors is correctly specified.\n",
      "Parameters:  x1    -0.119048\n",
      "x2     0.116083\n",
      "x3     0.028383\n",
      "x4     0.065772\n",
      "x5    -0.238700\n",
      "x6     0.311734\n",
      "x7     0.002344\n",
      "x8    -0.351505\n",
      "x9     0.283356\n",
      "x10   -0.246882\n",
      "x11   -0.225555\n",
      "x12    0.100580\n",
      "x13   -0.363651\n",
      "dtype: float64\n"
     ]
    },
    {
     "data": {
      "image/png": "[encoded data removed]",
      "text/plain": [
       "<Figure size 432x288 with 1 Axes>"
      ]
     },
     "metadata": {
      "needs_background": "light"
     },
     "output_type": "display_data"
    },
    {
     "name": "stdout",
     "output_type": "stream",
     "text": [
      "Performance Metrics\n",
      "Mean Squared Error: 0.2786445924390874\n",
      "Mean Absolute Error: 0.3442273706752998\n",
      "Manhattan distance: 35.11119180888057\n",
      "Euclidean distance: 5.331205157259183\n"
     ]
    },
    {
     "data": {
      "application/scrapbook.scrap.json+json": {
       "data": 0.2786445924390874,
       "encoder": "json",
       "name": "Stats Model MSE",
       "version": 1
      }
     },
     "metadata": {
      "scrapbook": {
       "data": true,
       "display": false,
       "name": "Stats Model MSE"
      }
     },
     "output_type": "display_data"
    },
    {
     "data": {
      "application/scrapbook.scrap.json+json": {
       "data": 0.3442273706752998,
       "encoder": "json",
       "name": "Stats Model MAE",
       "version": 1
      }
     },
     "metadata": {
      "scrapbook": {
       "data": true,
       "display": false,
       "name": "Stats Model MAE"
      }
     },
     "output_type": "display_data"
    },
    {
     "data": {
      "application/scrapbook.scrap.json+json": {
       "data": 35.11119180888057,
       "encoder": "json",
       "name": "Stats Model Manhattan Distance",
       "version": 1
      }
     },
     "metadata": {
      "scrapbook": {
       "data": true,
       "display": false,
       "name": "Stats Model Manhattan Distance"
      }
     },
     "output_type": "display_data"
    },
    {
     "data": {
      "application/scrapbook.scrap.json+json": {
       "data": 5.331205157259183,
       "encoder": "json",
       "name": "Stats Model Euclidean distance",
       "version": 1
      }
     },
     "metadata": {
      "scrapbook": {
       "data": true,
       "display": false,
       "name": "Stats Model Euclidean distance"
      }
     },
     "output_type": "display_data"
    }
   ],
   "source": [
    "[coeff,y_pred] = statsModel.statsModel(X,Y)"
   ]
  },
  {
   "cell_type": "markdown",
   "id": "5730d0df",
   "metadata": {
    "papermill": {
     "duration": 0.016961,
     "end_time": "2021-11-17T15:21:57.436691",
     "exception": false,
     "start_time": "2021-11-17T15:21:57.419730",
     "status": "completed"
    },
    "tags": []
   },
   "source": [
    "## Common Training Parameters (GAN & ABC_GAN) "
   ]
  },
  {
   "cell_type": "code",
   "execution_count": 7,
   "id": "952b7fc8",
   "metadata": {
    "execution": {
     "iopub.execute_input": "2021-11-17T15:21:57.473047Z",
     "iopub.status.busy": "2021-11-17T15:21:57.472653Z",
     "iopub.status.idle": "2021-11-17T15:21:57.473892Z",
     "shell.execute_reply": "2021-11-17T15:21:57.474137Z"
    },
    "papermill": {
     "duration": 0.020806,
     "end_time": "2021-11-17T15:21:57.474252",
     "exception": false,
     "start_time": "2021-11-17T15:21:57.453446",
     "status": "completed"
    },
    "tags": []
   },
   "outputs": [],
   "source": [
    "threshold_mse = 0.99\n",
    "batch_size = 100"
   ]
  },
  {
   "cell_type": "code",
   "execution_count": 8,
   "id": "e131d7d8",
   "metadata": {
    "execution": {
     "iopub.execute_input": "2021-11-17T15:21:57.510627Z",
     "iopub.status.busy": "2021-11-17T15:21:57.510179Z",
     "iopub.status.idle": "2021-11-17T15:21:57.511666Z",
     "shell.execute_reply": "2021-11-17T15:21:57.511955Z"
    },
    "papermill": {
     "duration": 0.021001,
     "end_time": "2021-11-17T15:21:57.512076",
     "exception": false,
     "start_time": "2021-11-17T15:21:57.491075",
     "status": "completed"
    },
    "tags": []
   },
   "outputs": [],
   "source": [
    "# Train test split for dataset \n",
    "real_dataset = dataset.CustomDataset(X,Y)\n",
    "train_size = round(0.8 * n_samples)\n",
    "test_size = n_samples - train_size\n",
    "train_data, test_data = random_split(real_dataset,[train_size,test_size])"
   ]
  },
  {
   "cell_type": "code",
   "execution_count": 9,
   "id": "63bb18bc",
   "metadata": {
    "execution": {
     "iopub.execute_input": "2021-11-17T15:21:57.548374Z",
     "iopub.status.busy": "2021-11-17T15:21:57.547975Z",
     "iopub.status.idle": "2021-11-17T15:21:57.549281Z",
     "shell.execute_reply": "2021-11-17T15:21:57.549535Z"
    },
    "papermill": {
     "duration": 0.020517,
     "end_time": "2021-11-17T15:21:57.549650",
     "exception": false,
     "start_time": "2021-11-17T15:21:57.529133",
     "status": "completed"
    },
    "tags": []
   },
   "outputs": [],
   "source": [
    "# cuda.init()\n",
    "# ## Get Id of default device\n",
    "# torch.cuda.current_device()\n",
    "# #0\n",
    "# cuda.Device(0).name()"
   ]
  },
  {
   "cell_type": "code",
   "execution_count": 10,
   "id": "fe715b9e",
   "metadata": {
    "execution": {
     "iopub.execute_input": "2021-11-17T15:21:57.586155Z",
     "iopub.status.busy": "2021-11-17T15:21:57.585760Z",
     "iopub.status.idle": "2021-11-17T15:21:57.586831Z",
     "shell.execute_reply": "2021-11-17T15:21:57.587128Z"
    },
    "papermill": {
     "duration": 0.020474,
     "end_time": "2021-11-17T15:21:57.587241",
     "exception": false,
     "start_time": "2021-11-17T15:21:57.566767",
     "status": "completed"
    },
    "tags": []
   },
   "outputs": [],
   "source": [
    "#Select the device \n",
    "device = torch.device('cuda' if torch.cuda.is_available() else 'cpu')"
   ]
  },
  {
   "cell_type": "markdown",
   "id": "c42f28b9",
   "metadata": {
    "papermill": {
     "duration": 0.016932,
     "end_time": "2021-11-17T15:21:57.621206",
     "exception": false,
     "start_time": "2021-11-17T15:21:57.604274",
     "status": "completed"
    },
    "tags": []
   },
   "source": [
    "## GAN Model"
   ]
  },
  {
   "cell_type": "markdown",
   "id": "110f905d",
   "metadata": {
    "papermill": {
     "duration": 0.018264,
     "end_time": "2021-11-17T15:21:57.656826",
     "exception": false,
     "start_time": "2021-11-17T15:21:57.638562",
     "status": "completed"
    },
    "tags": []
   },
   "source": [
    "**Training GAN for n_epochs number of epochs** "
   ]
  },
  {
   "cell_type": "code",
   "execution_count": 11,
   "id": "ad4645eb",
   "metadata": {
    "execution": {
     "iopub.execute_input": "2021-11-17T15:21:57.695128Z",
     "iopub.status.busy": "2021-11-17T15:21:57.694643Z",
     "iopub.status.idle": "2021-11-17T15:21:57.697049Z",
     "shell.execute_reply": "2021-11-17T15:21:57.697310Z"
    },
    "papermill": {
     "duration": 0.023011,
     "end_time": "2021-11-17T15:21:57.697429",
     "exception": false,
     "start_time": "2021-11-17T15:21:57.674418",
     "status": "completed"
    },
    "tags": []
   },
   "outputs": [],
   "source": [
    "generator = network.Generator(n_features+1).to(device)\n",
    "discriminator = network.Discriminator(n_features+1).to(device)\n",
    "\n",
    "criterion = torch.nn.BCELoss()\n",
    "gen_opt = torch.optim.Adam(generator.parameters(), lr=0.01, betas=(0.5, 0.999))\n",
    "disc_opt = torch.optim.Adam(discriminator.parameters(), lr=0.01, betas=(0.5, 0.999))"
   ]
  },
  {
   "cell_type": "code",
   "execution_count": 12,
   "id": "8a479c2f",
   "metadata": {
    "execution": {
     "iopub.execute_input": "2021-11-17T15:21:57.733986Z",
     "iopub.status.busy": "2021-11-17T15:21:57.733548Z",
     "iopub.status.idle": "2021-11-17T15:21:57.735034Z",
     "shell.execute_reply": "2021-11-17T15:21:57.735280Z"
    },
    "papermill": {
     "duration": 0.020792,
     "end_time": "2021-11-17T15:21:57.735393",
     "exception": false,
     "start_time": "2021-11-17T15:21:57.714601",
     "status": "completed"
    },
    "tags": []
   },
   "outputs": [
    {
     "name": "stdout",
     "output_type": "stream",
     "text": [
      "Generator(\n",
      "  (hidden1): Linear(in_features=14, out_features=100, bias=True)\n",
      "  (hidden2): Linear(in_features=100, out_features=100, bias=True)\n",
      "  (output): Linear(in_features=100, out_features=1, bias=True)\n",
      "  (relu): ReLU()\n",
      ")\n",
      "Discriminator(\n",
      "  (hidden1): Linear(in_features=14, out_features=25, bias=True)\n",
      "  (hidden2): Linear(in_features=25, out_features=50, bias=True)\n",
      "  (output): Linear(in_features=50, out_features=1, bias=True)\n",
      "  (relu): ReLU()\n",
      "  (sigmoid): Sigmoid()\n",
      ")\n"
     ]
    }
   ],
   "source": [
    "print(generator)\n",
    "print(discriminator)"
   ]
  },
  {
   "cell_type": "code",
   "execution_count": 13,
   "id": "0b0246ee",
   "metadata": {
    "execution": {
     "iopub.execute_input": "2021-11-17T15:21:57.772894Z",
     "iopub.status.busy": "2021-11-17T15:21:57.772473Z",
     "iopub.status.idle": "2021-11-17T15:24:20.716871Z",
     "shell.execute_reply": "2021-11-17T15:24:20.717136Z"
    },
    "papermill": {
     "duration": 142.964471,
     "end_time": "2021-11-17T15:24:20.717293",
     "exception": false,
     "start_time": "2021-11-17T15:21:57.752822",
     "status": "completed"
    },
    "tags": []
   },
   "outputs": [],
   "source": [
    "discLossG1,genLossG1 = train_test.training_GAN(discriminator,generator,disc_opt,gen_opt,train_data,batch_size, n_epochs,criterion,device)"
   ]
  },
  {
   "cell_type": "code",
   "execution_count": 14,
   "id": "673b2f62",
   "metadata": {
    "execution": {
     "iopub.execute_input": "2021-11-17T15:24:20.755872Z",
     "iopub.status.busy": "2021-11-17T15:24:20.755476Z",
     "iopub.status.idle": "2021-11-17T15:24:22.866096Z",
     "shell.execute_reply": "2021-11-17T15:24:22.866403Z"
    },
    "papermill": {
     "duration": 2.131263,
     "end_time": "2021-11-17T15:24:22.866529",
     "exception": false,
     "start_time": "2021-11-17T15:24:20.735266",
     "status": "completed"
    },
    "tags": []
   },
   "outputs": [
    {
     "data": {
      "application/scrapbook.scrap.json+json": {
       "data": 0.32685939049873375,
       "encoder": "json",
       "name": "GAN Model MSE",
       "version": 1
      }
     },
     "metadata": {
      "scrapbook": {
       "data": true,
       "display": false,
       "name": "GAN Model MSE"
      }
     },
     "output_type": "display_data"
    },
    {
     "data": {
      "application/scrapbook.scrap.json+json": {
       "data": 0.33729970538188325,
       "encoder": "json",
       "name": "GAN Model MAE",
       "version": 1
      }
     },
     "metadata": {
      "scrapbook": {
       "data": true,
       "display": false,
       "name": "GAN Model MAE"
      }
     },
     "output_type": "display_data"
    },
    {
     "data": {
      "application/scrapbook.scrap.json+json": {
       "data": 34.067270243570206,
       "encoder": "json",
       "name": "GAN Model Manhattan Distance",
       "version": 1
      }
     },
     "metadata": {
      "scrapbook": {
       "data": true,
       "display": false,
       "name": "GAN Model Manhattan Distance"
      }
     },
     "output_type": "display_data"
    },
    {
     "data": {
      "application/scrapbook.scrap.json+json": {
       "data": 5.745581293492857,
       "encoder": "json",
       "name": "GAN Model Euclidean distance",
       "version": 1
      }
     },
     "metadata": {
      "scrapbook": {
       "data": true,
       "display": false,
       "name": "GAN Model Euclidean distance"
      }
     },
     "output_type": "display_data"
    }
   ],
   "source": [
    "GAN1_metrics = train_test.test_generator(generator,test_data,device)"
   ]
  },
  {
   "cell_type": "code",
   "execution_count": 15,
   "id": "eeee3d98",
   "metadata": {
    "execution": {
     "iopub.execute_input": "2021-11-17T15:24:22.905790Z",
     "iopub.status.busy": "2021-11-17T15:24:22.905379Z",
     "iopub.status.idle": "2021-11-17T15:24:23.143180Z",
     "shell.execute_reply": "2021-11-17T15:24:23.143547Z"
    },
    "papermill": {
     "duration": 0.258619,
     "end_time": "2021-11-17T15:24:23.143675",
     "exception": false,
     "start_time": "2021-11-17T15:24:22.885056",
     "status": "completed"
    },
    "tags": []
   },
   "outputs": [
    {
     "data": {
      "image/png": "[encoded data removed]",
      "text/plain": [
       "<Figure size 432x288 with 1 Axes>"
      ]
     },
     "metadata": {
      "needs_background": "light"
     },
     "output_type": "display_data"
    },
    {
     "data": {
      "image/png": "[encoded data removed]",
      "text/plain": [
       "<Figure size 432x288 with 1 Axes>"
      ]
     },
     "metadata": {
      "needs_background": "light"
     },
     "output_type": "display_data"
    }
   ],
   "source": [
    "sanityChecks.discProbVsError(real_dataset,discriminator,device)"
   ]
  },
  {
   "cell_type": "markdown",
   "id": "c9d0727e",
   "metadata": {
    "papermill": {
     "duration": 0.019039,
     "end_time": "2021-11-17T15:24:23.181871",
     "exception": false,
     "start_time": "2021-11-17T15:24:23.162832",
     "status": "completed"
    },
    "tags": []
   },
   "source": [
    "**Training GAN until mse of y_pred is > baseline_mse or n_epochs < 5000**"
   ]
  },
  {
   "cell_type": "code",
   "execution_count": 16,
   "id": "72b58352",
   "metadata": {
    "execution": {
     "iopub.execute_input": "2021-11-17T15:24:23.224450Z",
     "iopub.status.busy": "2021-11-17T15:24:23.224049Z",
     "iopub.status.idle": "2021-11-17T15:24:23.225416Z",
     "shell.execute_reply": "2021-11-17T15:24:23.225688Z"
    },
    "papermill": {
     "duration": 0.025007,
     "end_time": "2021-11-17T15:24:23.225807",
     "exception": false,
     "start_time": "2021-11-17T15:24:23.200800",
     "status": "completed"
    },
    "tags": []
   },
   "outputs": [],
   "source": [
    "generator2 = network.Generator(n_features+1).to(device)\n",
    "discriminator2 = network.Discriminator(n_features+1).to(device)\n",
    "criterion = torch.nn.BCELoss()\n",
    "gen_opt = torch.optim.Adam(generator2.parameters(), lr=0.01, betas=(0.5, 0.999))\n",
    "disc_opt = torch.optim.Adam(discriminator2.parameters(), lr=0.01, betas=(0.5, 0.999))"
   ]
  },
  {
   "cell_type": "code",
   "execution_count": 17,
   "id": "59ce63df",
   "metadata": {
    "execution": {
     "iopub.execute_input": "2021-11-17T15:24:23.266200Z",
     "iopub.status.busy": "2021-11-17T15:24:23.265761Z",
     "iopub.status.idle": "2021-11-17T15:24:23.328761Z",
     "shell.execute_reply": "2021-11-17T15:24:23.329053Z"
    },
    "papermill": {
     "duration": 0.084401,
     "end_time": "2021-11-17T15:24:23.329176",
     "exception": false,
     "start_time": "2021-11-17T15:24:23.244775",
     "status": "completed"
    },
    "tags": []
   },
   "outputs": [
    {
     "name": "stdout",
     "output_type": "stream",
     "text": [
      "Number of epochs needed 3\n"
     ]
    },
    {
     "data": {
      "application/scrapbook.scrap.json+json": {
       "data": 3,
       "encoder": "json",
       "name": "GAN Model n_epochs",
       "version": 1
      }
     },
     "metadata": {
      "scrapbook": {
       "data": true,
       "display": false,
       "name": "GAN Model n_epochs"
      }
     },
     "output_type": "display_data"
    }
   ],
   "source": [
    "discLossG2,genLossG2 = train_test.training_GAN_2(discriminator2,generator2,disc_opt,gen_opt,train_data,test_data,batch_size,threshold_mse,criterion,device)"
   ]
  },
  {
   "cell_type": "code",
   "execution_count": 18,
   "id": "edc7310a",
   "metadata": {
    "execution": {
     "iopub.execute_input": "2021-11-17T15:24:23.370634Z",
     "iopub.status.busy": "2021-11-17T15:24:23.370227Z",
     "iopub.status.idle": "2021-11-17T15:24:25.467208Z",
     "shell.execute_reply": "2021-11-17T15:24:25.467514Z"
    },
    "papermill": {
     "duration": 2.118947,
     "end_time": "2021-11-17T15:24:25.467638",
     "exception": false,
     "start_time": "2021-11-17T15:24:23.348691",
     "status": "completed"
    },
    "tags": []
   },
   "outputs": [
    {
     "data": {
      "application/scrapbook.scrap.json+json": {
       "data": 0.931160286739962,
       "encoder": "json",
       "name": "GAN Model 2 MSE",
       "version": 1
      }
     },
     "metadata": {
      "scrapbook": {
       "data": true,
       "display": false,
       "name": "GAN Model 2 MSE"
      }
     },
     "output_type": "display_data"
    },
    {
     "data": {
      "application/scrapbook.scrap.json+json": {
       "data": 0.7089398556194536,
       "encoder": "json",
       "name": "GAN Model 2 MAE",
       "version": 1
      }
     },
     "metadata": {
      "scrapbook": {
       "data": true,
       "display": false,
       "name": "GAN Model 2 MAE"
      }
     },
     "output_type": "display_data"
    },
    {
     "data": {
      "application/scrapbook.scrap.json+json": {
       "data": 71.6029254175648,
       "encoder": "json",
       "name": "GAN Model 2 Manhattan Distance",
       "version": 1
      }
     },
     "metadata": {
      "scrapbook": {
       "data": true,
       "display": false,
       "name": "GAN Model 2 Manhattan Distance"
      }
     },
     "output_type": "display_data"
    },
    {
     "data": {
      "application/scrapbook.scrap.json+json": {
       "data": 9.697792286248623,
       "encoder": "json",
       "name": "GAN Model 2 Euclidean distance",
       "version": 1
      }
     },
     "metadata": {
      "scrapbook": {
       "data": true,
       "display": false,
       "name": "GAN Model 2 Euclidean distance"
      }
     },
     "output_type": "display_data"
    }
   ],
   "source": [
    "GAN2_metrics=train_test.test_generator_2(generator2,test_data,device)"
   ]
  },
  {
   "cell_type": "code",
   "execution_count": 19,
   "id": "579473ee",
   "metadata": {
    "execution": {
     "iopub.execute_input": "2021-11-17T15:24:25.510404Z",
     "iopub.status.busy": "2021-11-17T15:24:25.510016Z",
     "iopub.status.idle": "2021-11-17T15:24:25.687034Z",
     "shell.execute_reply": "2021-11-17T15:24:25.687354Z"
    },
    "papermill": {
     "duration": 0.199687,
     "end_time": "2021-11-17T15:24:25.687485",
     "exception": false,
     "start_time": "2021-11-17T15:24:25.487798",
     "status": "completed"
    },
    "tags": []
   },
   "outputs": [
    {
     "data": {
      "image/png": "[encoded data removed]",
      "text/plain": [
       "<Figure size 432x288 with 1 Axes>"
      ]
     },
     "metadata": {
      "needs_background": "light"
     },
     "output_type": "display_data"
    },
    {
     "data": {
      "image/png": "[encoded data removed]",
      "text/plain": [
       "<Figure size 432x288 with 1 Axes>"
      ]
     },
     "metadata": {
      "needs_background": "light"
     },
     "output_type": "display_data"
    }
   ],
   "source": [
    "sanityChecks.discProbVsError(real_dataset,discriminator2,device)"
   ]
  },
  {
   "cell_type": "markdown",
   "id": "0cd0def6",
   "metadata": {
    "papermill": {
     "duration": 0.020828,
     "end_time": "2021-11-17T15:24:25.729405",
     "exception": false,
     "start_time": "2021-11-17T15:24:25.708577",
     "status": "completed"
    },
    "tags": []
   },
   "source": [
    "# ABC GAN Model"
   ]
  },
  {
   "cell_type": "markdown",
   "id": "70beaf4c",
   "metadata": {
    "papermill": {
     "duration": 0.020585,
     "end_time": "2021-11-17T15:24:25.770679",
     "exception": false,
     "start_time": "2021-11-17T15:24:25.750094",
     "status": "completed"
    },
    "tags": []
   },
   "source": [
    "### Training the network\n",
    "**Training ABC-GAN for n_epochs number of epochs** "
   ]
  },
  {
   "cell_type": "code",
   "execution_count": 20,
   "id": "dbaaafa1",
   "metadata": {
    "execution": {
     "iopub.execute_input": "2021-11-17T15:24:25.815633Z",
     "iopub.status.busy": "2021-11-17T15:24:25.815189Z",
     "iopub.status.idle": "2021-11-17T15:24:25.817670Z",
     "shell.execute_reply": "2021-11-17T15:24:25.817929Z"
    },
    "papermill": {
     "duration": 0.026483,
     "end_time": "2021-11-17T15:24:25.818059",
     "exception": false,
     "start_time": "2021-11-17T15:24:25.791576",
     "status": "completed"
    },
    "tags": []
   },
   "outputs": [],
   "source": [
    "gen = network.Generator(n_features+1).to(device)\n",
    "disc = network.Discriminator(n_features+1).to(device)\n",
    "\n",
    "criterion = torch.nn.BCELoss()\n",
    "gen_opt = torch.optim.Adam(gen.parameters(), lr=0.01, betas=(0.5, 0.999))\n",
    "disc_opt = torch.optim.Adam(disc.parameters(), lr=0.01, betas=(0.5, 0.999))"
   ]
  },
  {
   "cell_type": "code",
   "execution_count": null,
   "id": "111c67b8",
   "metadata": {
    "papermill": {
     "duration": null,
     "end_time": null,
     "exception": false,
     "start_time": "2021-11-17T15:24:25.839213",
     "status": "running"
    },
    "tags": []
   },
   "outputs": [],
   "source": [
    "discLossA1,genLossA1 = ABC_train_test.training_GAN(disc, gen,disc_opt,gen_opt,train_data,batch_size, n_epochs,criterion,coeff,mean,variance,device)"
   ]
  },
  {
   "cell_type": "code",
   "execution_count": null,
   "id": "11c3082e",
   "metadata": {
    "papermill": {
     "duration": null,
     "end_time": null,
     "exception": null,
     "start_time": null,
     "status": "pending"
    },
    "tags": []
   },
   "outputs": [],
   "source": [
    "ABC_GAN1_metrics=ABC_train_test.test_generator(gen,test_data,coeff,mean,variance,device)"
   ]
  },
  {
   "cell_type": "markdown",
   "id": "394a2b9d",
   "metadata": {
    "papermill": {
     "duration": null,
     "end_time": null,
     "exception": null,
     "start_time": null,
     "status": "pending"
    },
    "tags": []
   },
   "source": [
    "#### Sanity Checks "
   ]
  },
  {
   "cell_type": "code",
   "execution_count": null,
   "id": "a36b3b22",
   "metadata": {
    "papermill": {
     "duration": null,
     "end_time": null,
     "exception": null,
     "start_time": null,
     "status": "pending"
    },
    "tags": []
   },
   "outputs": [],
   "source": [
    "sanityChecks.discProbVsError(real_dataset,disc,device)"
   ]
  },
  {
   "cell_type": "markdown",
   "id": "50b7c8e2",
   "metadata": {
    "papermill": {
     "duration": null,
     "end_time": null,
     "exception": null,
     "start_time": null,
     "status": "pending"
    },
    "tags": []
   },
   "source": [
    "**Training ABC-GAN until mse of y_pred is > baseline_mse or n_epochs < 5000**"
   ]
  },
  {
   "cell_type": "code",
   "execution_count": null,
   "id": "72a6033a",
   "metadata": {
    "papermill": {
     "duration": null,
     "end_time": null,
     "exception": null,
     "start_time": null,
     "status": "pending"
    },
    "tags": []
   },
   "outputs": [],
   "source": [
    "gen2 = network.Generator(n_features+1).to(device)\n",
    "disc2 = network.Discriminator(n_features+1).to(device)\n",
    "\n",
    "criterion = torch.nn.BCELoss()\n",
    "gen_opt = torch.optim.Adam(gen2.parameters(), lr=0.01, betas=(0.5, 0.999))\n",
    "disc_opt = torch.optim.Adam(disc2.parameters(), lr=0.01, betas=(0.5, 0.999))"
   ]
  },
  {
   "cell_type": "code",
   "execution_count": null,
   "id": "24b21210",
   "metadata": {
    "papermill": {
     "duration": null,
     "end_time": null,
     "exception": null,
     "start_time": null,
     "status": "pending"
    },
    "tags": []
   },
   "outputs": [],
   "source": [
    "discLossA2,genLossA2 = ABC_train_test.training_GAN_2(disc2,gen2,disc_opt,gen_opt,train_data,test_data,batch_size,threshold_mse,criterion,coeff,mean,variance,device)"
   ]
  },
  {
   "cell_type": "code",
   "execution_count": null,
   "id": "f1aaef41",
   "metadata": {
    "papermill": {
     "duration": null,
     "end_time": null,
     "exception": null,
     "start_time": null,
     "status": "pending"
    },
    "tags": []
   },
   "outputs": [],
   "source": [
    "ABC_GAN2_metrics=ABC_train_test.test_generator_2(gen2,test_data,coeff,mean,variance,device)"
   ]
  },
  {
   "cell_type": "code",
   "execution_count": null,
   "id": "8c38302d",
   "metadata": {
    "papermill": {
     "duration": null,
     "end_time": null,
     "exception": null,
     "start_time": null,
     "status": "pending"
    },
    "tags": []
   },
   "outputs": [],
   "source": [
    "sanityChecks.discProbVsError(real_dataset,disc2,device)"
   ]
  },
  {
   "cell_type": "markdown",
   "id": "b6d1cda1",
   "metadata": {
    "papermill": {
     "duration": null,
     "end_time": null,
     "exception": null,
     "start_time": null,
     "status": "pending"
    },
    "tags": []
   },
   "source": [
    "# Model Analysis"
   ]
  },
  {
   "cell_type": "code",
   "execution_count": null,
   "id": "35f4e2d8",
   "metadata": {
    "papermill": {
     "duration": null,
     "end_time": null,
     "exception": null,
     "start_time": null,
     "status": "pending"
    },
    "tags": []
   },
   "outputs": [],
   "source": [
    "performanceMetrics.modelAnalysis(GAN1_metrics,ABC_GAN1_metrics,GAN2_metrics,ABC_GAN2_metrics)"
   ]
  },
  {
   "cell_type": "code",
   "execution_count": null,
   "id": "86143e6d",
   "metadata": {
    "papermill": {
     "duration": null,
     "end_time": null,
     "exception": null,
     "start_time": null,
     "status": "pending"
    },
    "tags": []
   },
   "outputs": [],
   "source": [
    "performanceMetrics.plotTrainingLoss(discLossG1,genLossG1,discLossA1,genLossA1,discLossG2,genLossG2,discLossA2,genLossA2)"
   ]
  },
  {
   "cell_type": "markdown",
   "id": "9d8fa6a1",
   "metadata": {
    "papermill": {
     "duration": null,
     "end_time": null,
     "exception": null,
     "start_time": null,
     "status": "pending"
    },
    "tags": []
   },
   "source": [
    "## GAN Model with skip connection"
   ]
  },
  {
   "cell_type": "code",
   "execution_count": null,
   "id": "e9472389",
   "metadata": {
    "papermill": {
     "duration": null,
     "end_time": null,
     "exception": null,
     "start_time": null,
     "status": "pending"
    },
    "tags": []
   },
   "outputs": [],
   "source": [
    "generator3 = network.GeneratorWithSkipConnection(n_features+1).to(device)\n",
    "discriminator3 = network.Discriminator(n_features+1).to(device)\n",
    "\n",
    "criterion = torch.nn.BCELoss()\n",
    "gen_opt = torch.optim.Adam(generator3.parameters(), lr=0.01, betas=(0.5, 0.999))\n",
    "disc_opt = torch.optim.Adam(discriminator3.parameters(), lr=0.01, betas=(0.5, 0.999))"
   ]
  },
  {
   "cell_type": "code",
   "execution_count": null,
   "id": "65c32bdd",
   "metadata": {
    "papermill": {
     "duration": null,
     "end_time": null,
     "exception": null,
     "start_time": null,
     "status": "pending"
    },
    "tags": []
   },
   "outputs": [],
   "source": [
    "discLossG3,genLossG3 = train_test.training_GAN(discriminator3,generator3 ,disc_opt,gen_opt,train_data,batch_size, n_epochs,criterion,device)"
   ]
  },
  {
   "cell_type": "code",
   "execution_count": null,
   "id": "4d87a246",
   "metadata": {
    "papermill": {
     "duration": null,
     "end_time": null,
     "exception": null,
     "start_time": null,
     "status": "pending"
    },
    "tags": []
   },
   "outputs": [],
   "source": [
    "GAN3_metrics=ABC_train_test.test_generator(generator3,test_data,coeff,mean,variance,device)"
   ]
  },
  {
   "cell_type": "code",
   "execution_count": null,
   "id": "54a75192",
   "metadata": {
    "papermill": {
     "duration": null,
     "end_time": null,
     "exception": null,
     "start_time": null,
     "status": "pending"
    },
    "tags": []
   },
   "outputs": [],
   "source": [
    "sanityChecks.discProbVsError(real_dataset,discriminator3,device)"
   ]
  },
  {
   "cell_type": "markdown",
   "id": "130f3a4d",
   "metadata": {
    "papermill": {
     "duration": null,
     "end_time": null,
     "exception": null,
     "start_time": null,
     "status": "pending"
    },
    "tags": []
   },
   "source": [
    "## ABC - GAN Model with skip connection"
   ]
  },
  {
   "cell_type": "code",
   "execution_count": null,
   "id": "4e43dad1",
   "metadata": {
    "papermill": {
     "duration": null,
     "end_time": null,
     "exception": null,
     "start_time": null,
     "status": "pending"
    },
    "tags": []
   },
   "outputs": [],
   "source": [
    "gen3 = network.GeneratorWithSkipConnection(n_features+1).to(device)\n",
    "disc3 = network.Discriminator(n_features+1).to(device)\n",
    "\n",
    "criterion = torch.nn.BCELoss()\n",
    "gen_opt = torch.optim.Adam(gen3.parameters(), lr=0.01, betas=(0.5, 0.999))\n",
    "disc_opt = torch.optim.Adam(disc3.parameters(), lr=0.01, betas=(0.5, 0.999))"
   ]
  },
  {
   "cell_type": "code",
   "execution_count": null,
   "id": "26acbc37",
   "metadata": {
    "papermill": {
     "duration": null,
     "end_time": null,
     "exception": null,
     "start_time": null,
     "status": "pending"
    },
    "tags": []
   },
   "outputs": [],
   "source": [
    "discLossA3,genLossA3 = ABC_train_test.training_GAN(disc3, gen3,disc_opt,gen_opt,train_data,batch_size, n_epochs,criterion,coeff,mean,variance,device)"
   ]
  },
  {
   "cell_type": "code",
   "execution_count": null,
   "id": "c5e0717b",
   "metadata": {
    "papermill": {
     "duration": null,
     "end_time": null,
     "exception": null,
     "start_time": null,
     "status": "pending"
    },
    "tags": []
   },
   "outputs": [],
   "source": [
    "ABC_GAN3_metrics=ABC_train_test.test_generator(gen3,test_data,coeff,mean,variance,device)"
   ]
  },
  {
   "cell_type": "code",
   "execution_count": null,
   "id": "c8e46b48",
   "metadata": {
    "papermill": {
     "duration": null,
     "end_time": null,
     "exception": null,
     "start_time": null,
     "status": "pending"
    },
    "tags": []
   },
   "outputs": [],
   "source": [
    "sanityChecks.discProbVsError(real_dataset,disc3,device)"
   ]
  },
  {
   "cell_type": "code",
   "execution_count": null,
   "id": "a5bd74c3",
   "metadata": {
    "papermill": {
     "duration": null,
     "end_time": null,
     "exception": null,
     "start_time": null,
     "status": "pending"
    },
    "tags": []
   },
   "outputs": [],
   "source": [
    "## Skip Connection Model Analysis - GAN and ABC-GAN "
   ]
  },
  {
   "cell_type": "code",
   "execution_count": null,
   "id": "5744a8bf",
   "metadata": {
    "papermill": {
     "duration": null,
     "end_time": null,
     "exception": null,
     "start_time": null,
     "status": "pending"
    },
    "tags": []
   },
   "outputs": [],
   "source": [
    "### Weight Analysis \n",
    "\n",
    "##Study the weights of the skip connection layer"
   ]
  },
  {
   "cell_type": "code",
   "execution_count": null,
   "id": "52c31dea",
   "metadata": {
    "papermill": {
     "duration": null,
     "end_time": null,
     "exception": null,
     "start_time": null,
     "status": "pending"
    },
    "tags": []
   },
   "outputs": [],
   "source": [
    "print(\"GAN Weights\")\n",
    "for name,param in generator3.named_parameters():\n",
    "    if(name == \"skipNode.weight\"):\n",
    "        print(param)\n",
    "print(\"ABC-GAN Weights\")\n",
    "for name,param in gen3.named_parameters():\n",
    "    if(name == \"skipNode.weight\"):\n",
    "        print(param)"
   ]
  },
  {
   "cell_type": "code",
   "execution_count": null,
   "id": "aa18207f",
   "metadata": {
    "papermill": {
     "duration": null,
     "end_time": null,
     "exception": null,
     "start_time": null,
     "status": "pending"
    },
    "tags": []
   },
   "outputs": [],
   "source": [
    "performanceMetrics.modelAnalysis2(GAN3_metrics,ABC_GAN3_metrics)"
   ]
  },
  {
   "cell_type": "code",
   "execution_count": null,
   "id": "03438fa7",
   "metadata": {
    "papermill": {
     "duration": null,
     "end_time": null,
     "exception": null,
     "start_time": null,
     "status": "pending"
    },
    "tags": []
   },
   "outputs": [],
   "source": [
    "performanceMetrics.plotTrainingLoss2(discLossG3,genLossG3,discLossA3,genLossA3)"
   ]
  },
  {
   "cell_type": "code",
   "execution_count": null,
   "id": "a699ff24",
   "metadata": {
    "papermill": {
     "duration": null,
     "end_time": null,
     "exception": null,
     "start_time": null,
     "status": "pending"
    },
    "tags": []
   },
   "outputs": [],
   "source": []
  }
 ],
 "metadata": {
  "celltoolbar": "Tags",
  "kernelspec": {
   "display_name": "papermill-tutorial",
   "language": "python",
   "name": "papermill-tutorial"
  },
  "language_info": {
   "codemirror_mode": {
    "name": "ipython",
    "version": 3
   },
   "file_extension": ".py",
   "mimetype": "text/x-python",
   "name": "python",
   "nbconvert_exporter": "python",
   "pygments_lexer": "ipython3",
   "version": "3.8.11"
  },
  "papermill": {
   "default_parameters": {},
   "duration": null,
   "end_time": null,
   "environment_variables": {},
   "exception": null,
   "input_path": "Dataset3-Boston.ipynb",
   "output_path": "../Boston_Output/Dataset3-Boston_output_10.ipynb",
   "parameters": {
    "mean": 0,
    "n_epochs": 8000,
    "variance": 0.1
   },
   "start_time": "2021-11-17T15:21:54.176143",
   "version": "2.3.3"
  }
 },
 "nbformat": 4,
 "nbformat_minor": 5
}