{
 "cells": [
  {
   "cell_type": "markdown",
   "id": "b5e2d986",
   "metadata": {
    "papermill": {
     "duration": 0.142742,
     "end_time": "2021-11-27T06:29:33.021127",
     "exception": false,
     "start_time": "2021-11-27T06:29:32.878385",
     "status": "completed"
    },
    "tags": []
   },
   "source": [
    "# Dataset 4 - Boston"
   ]
  },
  {
   "cell_type": "markdown",
   "id": "622780e6",
   "metadata": {
    "papermill": {
     "duration": 0.14,
     "end_time": "2021-11-27T06:29:33.301127",
     "exception": false,
     "start_time": "2021-11-27T06:29:33.161127",
     "status": "completed"
    },
    "tags": []
   },
   "source": [
    "## Import Libraries "
   ]
  },
  {
   "cell_type": "code",
   "execution_count": 1,
   "id": "a62397e3",
   "metadata": {
    "execution": {
     "iopub.execute_input": "2021-11-27T06:29:33.593130Z",
     "iopub.status.busy": "2021-11-27T06:29:33.593130Z",
     "iopub.status.idle": "2021-11-27T06:29:33.605471Z",
     "shell.execute_reply": "2021-11-27T06:29:33.605471Z"
    },
    "papermill": {
     "duration": 0.164338,
     "end_time": "2021-11-27T06:29:33.605471",
     "exception": false,
     "start_time": "2021-11-27T06:29:33.441133",
     "status": "completed"
    },
    "tags": []
   },
   "outputs": [],
   "source": [
    "import warnings\n",
    "import sys\n",
    "sys.path.insert(0, '../src')\n",
    "warnings.filterwarnings('ignore')"
   ]
  },
  {
   "cell_type": "code",
   "execution_count": 2,
   "id": "d6a4e155",
   "metadata": {
    "execution": {
     "iopub.execute_input": "2021-11-27T06:29:33.893471Z",
     "iopub.status.busy": "2021-11-27T06:29:33.893471Z",
     "iopub.status.idle": "2021-11-27T06:29:38.227501Z",
     "shell.execute_reply": "2021-11-27T06:29:38.227501Z"
    },
    "papermill": {
     "duration": 4.482031,
     "end_time": "2021-11-27T06:29:38.227501",
     "exception": false,
     "start_time": "2021-11-27T06:29:33.745470",
     "status": "completed"
    },
    "tags": []
   },
   "outputs": [],
   "source": [
    "import train_test\n",
    "import ABC_train_test\n",
    "import bostonDataset\n",
    "import baselineModels\n",
    "import network\n",
    "import statsModel\n",
    "import performanceMetrics\n",
    "import dataset\n",
    "import sanityChecks\n",
    "import torch \n",
    "import matplotlib.pyplot as plt \n",
    "import seaborn as sns \n",
    "from torch.utils.data import random_split \n",
    "from sklearn.model_selection import train_test_split"
   ]
  },
  {
   "cell_type": "markdown",
   "id": "e0c10419",
   "metadata": {
    "papermill": {
     "duration": 0.13998,
     "end_time": "2021-11-27T06:29:38.511479",
     "exception": false,
     "start_time": "2021-11-27T06:29:38.371499",
     "status": "completed"
    },
    "tags": []
   },
   "source": [
    "## Parameters\n",
    "\n",
    "General Parameters \n",
    "\n",
    "1. Number of Samples\n",
    "2. Number of features \n",
    "\n",
    "ABC-Generator parameters are as mentioned below: \n",
    "1. mean : 1 ($\\beta \\sim N(\\beta^{*},\\sigma)$ where $\\beta^{*}$ are coefficients of statistical model) or 1 ($\\beta \\sim N(0,\\sigma)$\n",
    "2. std : $\\sigma = 1, 0.1 , 0.01$ (standard deviation)"
   ]
  },
  {
   "cell_type": "code",
   "execution_count": 3,
   "id": "645f85d5",
   "metadata": {
    "execution": {
     "iopub.execute_input": "2021-11-27T06:29:38.802094Z",
     "iopub.status.busy": "2021-11-27T06:29:38.798094Z",
     "iopub.status.idle": "2021-11-27T06:29:38.806091Z",
     "shell.execute_reply": "2021-11-27T06:29:38.806091Z"
    },
    "papermill": {
     "duration": 0.154613,
     "end_time": "2021-11-27T06:29:38.806091",
     "exception": false,
     "start_time": "2021-11-27T06:29:38.651478",
     "status": "completed"
    },
    "tags": [
     "parameters"
    ]
   },
   "outputs": [],
   "source": [
    "n_features = 13\n",
    "n_samples= 506\n",
    "n_target = 1 \n",
    " \n",
    "#ABC Generator Parameters\n",
    "mean = 1 \n",
    "variance = 0.01\n",
    "\n",
    "#Hyper-parameters \n",
    "n_epochs = 100"
   ]
  },
  {
   "cell_type": "code",
   "execution_count": 4,
   "id": "404cbfbd",
   "metadata": {
    "execution": {
     "iopub.execute_input": "2021-11-27T06:29:39.103410Z",
     "iopub.status.busy": "2021-11-27T06:29:39.102090Z",
     "iopub.status.idle": "2021-11-27T06:29:39.108432Z",
     "shell.execute_reply": "2021-11-27T06:29:39.108432Z"
    },
    "papermill": {
     "duration": 0.154342,
     "end_time": "2021-11-27T06:29:39.108432",
     "exception": false,
     "start_time": "2021-11-27T06:29:38.954090",
     "status": "completed"
    },
    "tags": [
     "injected-parameters"
    ]
   },
   "outputs": [],
   "source": [
    "# Parameters\n",
    "mean = 1\n",
    "variance = 1\n",
    "n_epochs = 1000\n"
   ]
  },
  {
   "cell_type": "markdown",
   "id": "391cdbfd",
   "metadata": {
    "papermill": {
     "duration": 0.14,
     "end_time": "2021-11-27T06:29:39.392432",
     "exception": false,
     "start_time": "2021-11-27T06:29:39.252432",
     "status": "completed"
    },
    "tags": []
   },
   "source": [
    "## Dataset"
   ]
  },
  {
   "cell_type": "code",
   "execution_count": 5,
   "id": "5d6eced4",
   "metadata": {
    "execution": {
     "iopub.execute_input": "2021-11-27T06:29:39.679226Z",
     "iopub.status.busy": "2021-11-27T06:29:39.679226Z",
     "iopub.status.idle": "2021-11-27T06:29:39.719298Z",
     "shell.execute_reply": "2021-11-27T06:29:39.719298Z"
    },
    "papermill": {
     "duration": 0.182868,
     "end_time": "2021-11-27T06:29:39.719298",
     "exception": false,
     "start_time": "2021-11-27T06:29:39.536430",
     "status": "completed"
    },
    "tags": []
   },
   "outputs": [
    {
     "name": "stdout",
     "output_type": "stream",
     "text": [
      "        X1    X2    X3   X4     X5     X6    X7      X8   X9    X10   X11  \\\n",
      "0  0.00632  18.0  2.31  0.0  0.538  6.575  65.2  4.0900  1.0  296.0  15.3   \n",
      "1  0.02731   0.0  7.07  0.0  0.469  6.421  78.9  4.9671  2.0  242.0  17.8   \n",
      "2  0.02729   0.0  7.07  0.0  0.469  7.185  61.1  4.9671  2.0  242.0  17.8   \n",
      "3  0.03237   0.0  2.18  0.0  0.458  6.998  45.8  6.0622  3.0  222.0  18.7   \n",
      "4  0.06905   0.0  2.18  0.0  0.458  7.147  54.2  6.0622  3.0  222.0  18.7   \n",
      "\n",
      "      X12   X13     Y  \n",
      "0  396.90  4.98  24.0  \n",
      "1  396.90  9.14  21.6  \n",
      "2  392.83  4.03  34.7  \n",
      "3  394.63  2.94  33.4  \n",
      "4  396.90  5.33  36.2  \n"
     ]
    }
   ],
   "source": [
    "X,Y = bostonDataset.boston_data()"
   ]
  },
  {
   "cell_type": "code",
   "execution_count": 6,
   "id": "72d290e5",
   "metadata": {
    "execution": {
     "iopub.execute_input": "2021-11-27T06:29:40.012171Z",
     "iopub.status.busy": "2021-11-27T06:29:40.011590Z",
     "iopub.status.idle": "2021-11-27T06:29:40.016681Z",
     "shell.execute_reply": "2021-11-27T06:29:40.016681Z"
    },
    "papermill": {
     "duration": 0.153455,
     "end_time": "2021-11-27T06:29:40.016681",
     "exception": false,
     "start_time": "2021-11-27T06:29:39.863226",
     "status": "completed"
    },
    "tags": []
   },
   "outputs": [],
   "source": [
    "X_train, X_test, y_train, y_test = train_test_split(X, Y, test_size=0.2)"
   ]
  },
  {
   "cell_type": "markdown",
   "id": "c31c206a",
   "metadata": {
    "papermill": {
     "duration": 0.143997,
     "end_time": "2021-11-27T06:29:40.305130",
     "exception": false,
     "start_time": "2021-11-27T06:29:40.161133",
     "status": "completed"
    },
    "tags": []
   },
   "source": [
    "## Stats Model"
   ]
  },
  {
   "cell_type": "code",
   "execution_count": 7,
   "id": "532269fd",
   "metadata": {
    "execution": {
     "iopub.execute_input": "2021-11-27T06:29:40.594324Z",
     "iopub.status.busy": "2021-11-27T06:29:40.593813Z",
     "iopub.status.idle": "2021-11-27T06:29:40.938830Z",
     "shell.execute_reply": "2021-11-27T06:29:40.938830Z"
    },
    "papermill": {
     "duration": 0.4937,
     "end_time": "2021-11-27T06:29:40.938830",
     "exception": false,
     "start_time": "2021-11-27T06:29:40.445130",
     "status": "completed"
    },
    "tags": []
   },
   "outputs": [
    {
     "name": "stderr",
     "output_type": "stream",
     "text": [
      "No handles with labels found to put in legend.\n"
     ]
    },
    {
     "name": "stdout",
     "output_type": "stream",
     "text": [
      "                                 OLS Regression Results                                \n",
      "=======================================================================================\n",
      "Dep. Variable:                      Y   R-squared (uncentered):                   0.735\n",
      "Model:                            OLS   Adj. R-squared (uncentered):              0.726\n",
      "Method:                 Least Squares   F-statistic:                              83.24\n",
      "Date:                Sat, 27 Nov 2021   Prob (F-statistic):                   6.75e-104\n",
      "Time:                        11:59:40   Log-Likelihood:                         -301.59\n",
      "No. Observations:                 404   AIC:                                      629.2\n",
      "Df Residuals:                     391   BIC:                                      681.2\n",
      "Df Model:                          13                                                  \n",
      "Covariance Type:            nonrobust                                                  \n",
      "==============================================================================\n",
      "                 coef    std err          t      P>|t|      [0.025      0.975]\n",
      "------------------------------------------------------------------------------\n",
      "x1            -0.1144      0.040     -2.828      0.005      -0.194      -0.035\n",
      "x2             0.1196      0.039      3.073      0.002       0.043       0.196\n",
      "x3             0.0230      0.054      0.424      0.672      -0.084       0.130\n",
      "x4             0.0482      0.027      1.796      0.073      -0.005       0.101\n",
      "x5            -0.2515      0.054     -4.654      0.000      -0.358      -0.145\n",
      "x6             0.2632      0.036      7.387      0.000       0.193       0.333\n",
      "x7             0.0209      0.046      0.456      0.649      -0.069       0.111\n",
      "x8            -0.3512      0.052     -6.810      0.000      -0.453      -0.250\n",
      "x9             0.3097      0.069      4.497      0.000       0.174       0.445\n",
      "x10           -0.2216      0.077     -2.893      0.004      -0.372      -0.071\n",
      "x11           -0.2484      0.036     -6.860      0.000      -0.320      -0.177\n",
      "x12            0.0943      0.030      3.137      0.002       0.035       0.153\n",
      "x13           -0.4286      0.045     -9.454      0.000      -0.518      -0.339\n",
      "==============================================================================\n",
      "Omnibus:                      153.746   Durbin-Watson:                   1.987\n",
      "Prob(Omnibus):                  0.000   Jarque-Bera (JB):              724.240\n",
      "Skew:                           1.593   Prob(JB):                    5.41e-158\n",
      "Kurtosis:                       8.733   Cond. No.                         9.65\n",
      "==============================================================================\n",
      "\n",
      "Notes:\n",
      "[1] R² is computed without centering (uncentered) since the model does not contain a constant.\n",
      "[2] Standard Errors assume that the covariance matrix of the errors is correctly specified.\n",
      "Parameters:  x1    -0.114370\n",
      "x2     0.119632\n",
      "x3     0.023016\n",
      "x4     0.048247\n",
      "x5    -0.251459\n",
      "x6     0.263232\n",
      "x7     0.020885\n",
      "x8    -0.351161\n",
      "x9     0.309695\n",
      "x10   -0.221557\n",
      "x11   -0.248356\n",
      "x12    0.094305\n",
      "x13   -0.428603\n",
      "dtype: float64\n"
     ]
    },
    {
     "data": {
      "image/png": "[encoded data removed]",
      "text/plain": [
       "<Figure size 432x288 with 1 Axes>"
      ]
     },
     "metadata": {
      "needs_background": "light"
     },
     "output_type": "display_data"
    },
    {
     "name": "stdout",
     "output_type": "stream",
     "text": [
      "Performance Metrics\n",
      "Mean Squared Error: 0.2615613410288017\n",
      "Mean Absolute Error: 0.38149745453026074\n",
      "Manhattan distance: 38.912740362086595\n",
      "Euclidean distance: 5.165196684051613\n"
     ]
    },
    {
     "data": {
      "application/scrapbook.scrap.json+json": {
       "data": 0.2615613410288017,
       "encoder": "json",
       "name": "Stats Model MSE",
       "version": 1
      }
     },
     "metadata": {
      "scrapbook": {
       "data": true,
       "display": false,
       "name": "Stats Model MSE"
      }
     },
     "output_type": "display_data"
    },
    {
     "data": {
      "application/scrapbook.scrap.json+json": {
       "data": 0.38149745453026074,
       "encoder": "json",
       "name": "Stats Model MAE",
       "version": 1
      }
     },
     "metadata": {
      "scrapbook": {
       "data": true,
       "display": false,
       "name": "Stats Model MAE"
      }
     },
     "output_type": "display_data"
    },
    {
     "data": {
      "application/scrapbook.scrap.json+json": {
       "data": 38.912740362086595,
       "encoder": "json",
       "name": "Stats Model Manhattan Distance",
       "version": 1
      }
     },
     "metadata": {
      "scrapbook": {
       "data": true,
       "display": false,
       "name": "Stats Model Manhattan Distance"
      }
     },
     "output_type": "display_data"
    },
    {
     "data": {
      "application/scrapbook.scrap.json+json": {
       "data": 5.165196684051613,
       "encoder": "json",
       "name": "Stats Model Euclidean distance",
       "version": 1
      }
     },
     "metadata": {
      "scrapbook": {
       "data": true,
       "display": false,
       "name": "Stats Model Euclidean distance"
      }
     },
     "output_type": "display_data"
    }
   ],
   "source": [
    "[coeff,y_pred] = statsModel.statsModel(X,Y)"
   ]
  },
  {
   "cell_type": "markdown",
   "id": "3bcaf2ad",
   "metadata": {
    "papermill": {
     "duration": 0.156001,
     "end_time": "2021-11-27T06:29:41.250831",
     "exception": false,
     "start_time": "2021-11-27T06:29:41.094830",
     "status": "completed"
    },
    "tags": []
   },
   "source": [
    "## Random Forest"
   ]
  },
  {
   "cell_type": "code",
   "execution_count": 8,
   "id": "52ae8be2",
   "metadata": {
    "execution": {
     "iopub.execute_input": "2021-11-27T06:29:41.605313Z",
     "iopub.status.busy": "2021-11-27T06:29:41.605313Z",
     "iopub.status.idle": "2021-11-27T06:29:41.813313Z",
     "shell.execute_reply": "2021-11-27T06:29:41.813313Z"
    },
    "papermill": {
     "duration": 0.406484,
     "end_time": "2021-11-27T06:29:41.813313",
     "exception": false,
     "start_time": "2021-11-27T06:29:41.406829",
     "status": "completed"
    },
    "tags": []
   },
   "outputs": [
    {
     "name": "stdout",
     "output_type": "stream",
     "text": [
      "Mean Squared error 0.13652700282050556\n"
     ]
    }
   ],
   "source": [
    "mse_rf = baselineModels.randomForest(X_train,y_train,X_test,y_test)"
   ]
  },
  {
   "cell_type": "markdown",
   "id": "61b88599",
   "metadata": {
    "papermill": {
     "duration": 0.155971,
     "end_time": "2021-11-27T06:29:42.125312",
     "exception": false,
     "start_time": "2021-11-27T06:29:41.969341",
     "status": "completed"
    },
    "tags": []
   },
   "source": [
    "## Catboost"
   ]
  },
  {
   "cell_type": "code",
   "execution_count": 9,
   "id": "0564929c",
   "metadata": {
    "execution": {
     "iopub.execute_input": "2021-11-27T06:29:42.464018Z",
     "iopub.status.busy": "2021-11-27T06:29:42.451934Z",
     "iopub.status.idle": "2021-11-27T06:29:44.539189Z",
     "shell.execute_reply": "2021-11-27T06:29:44.539189Z"
    },
    "papermill": {
     "duration": 2.253878,
     "end_time": "2021-11-27T06:29:44.539189",
     "exception": false,
     "start_time": "2021-11-27T06:29:42.285311",
     "status": "completed"
    },
    "tags": []
   },
   "outputs": [
    {
     "name": "stdout",
     "output_type": "stream",
     "text": [
      "Learning rate set to 0.03548\n",
      "0:\tlearn: 0.9976936\ttotal: 160ms\tremaining: 2m 40s\n",
      "1:\tlearn: 0.9757694\ttotal: 162ms\tremaining: 1m 20s\n",
      "2:\tlearn: 0.9558748\ttotal: 164ms\tremaining: 54.5s\n"
     ]
    },
    {
     "name": "stdout",
     "output_type": "stream",
     "text": [
      "3:\tlearn: 0.9388601\ttotal: 166ms\tremaining: 41.4s\n",
      "4:\tlearn: 0.9179410\ttotal: 168ms\tremaining: 33.5s\n",
      "5:\tlearn: 0.9017384\ttotal: 170ms\tremaining: 28.2s\n",
      "6:\tlearn: 0.8842832\ttotal: 172ms\tremaining: 24.4s\n",
      "7:\tlearn: 0.8659629\ttotal: 174ms\tremaining: 21.6s\n",
      "8:\tlearn: 0.8502317\ttotal: 176ms\tremaining: 19.4s\n",
      "9:\tlearn: 0.8331299\ttotal: 178ms\tremaining: 17.6s\n",
      "10:\tlearn: 0.8173387\ttotal: 179ms\tremaining: 16.1s\n",
      "11:\tlearn: 0.8023940\ttotal: 181ms\tremaining: 14.9s\n",
      "12:\tlearn: 0.7869303\ttotal: 183ms\tremaining: 13.9s\n",
      "13:\tlearn: 0.7713680\ttotal: 185ms\tremaining: 13s\n",
      "14:\tlearn: 0.7584181\ttotal: 186ms\tremaining: 12.2s\n",
      "15:\tlearn: 0.7436494\ttotal: 188ms\tremaining: 11.6s\n",
      "16:\tlearn: 0.7301407\ttotal: 190ms\tremaining: 11s\n",
      "17:\tlearn: 0.7168504\ttotal: 192ms\tremaining: 10.5s\n",
      "18:\tlearn: 0.7040512\ttotal: 194ms\tremaining: 10s\n",
      "19:\tlearn: 0.6908369\ttotal: 196ms\tremaining: 9.58s\n",
      "20:\tlearn: 0.6759829\ttotal: 197ms\tremaining: 9.2s\n",
      "21:\tlearn: 0.6657283\ttotal: 199ms\tremaining: 8.85s\n",
      "22:\tlearn: 0.6553500\ttotal: 201ms\tremaining: 8.53s\n",
      "23:\tlearn: 0.6451507\ttotal: 203ms\tremaining: 8.24s\n",
      "24:\tlearn: 0.6347290\ttotal: 205ms\tremaining: 7.98s\n",
      "25:\tlearn: 0.6234427\ttotal: 206ms\tremaining: 7.73s\n",
      "26:\tlearn: 0.6148085\ttotal: 208ms\tremaining: 7.5s\n",
      "27:\tlearn: 0.6056124\ttotal: 210ms\tremaining: 7.28s\n",
      "28:\tlearn: 0.5956533\ttotal: 212ms\tremaining: 7.08s\n",
      "29:\tlearn: 0.5856337\ttotal: 213ms\tremaining: 6.89s\n",
      "30:\tlearn: 0.5739783\ttotal: 215ms\tremaining: 6.72s\n",
      "31:\tlearn: 0.5656174\ttotal: 217ms\tremaining: 6.56s\n",
      "32:\tlearn: 0.5570547\ttotal: 219ms\tremaining: 6.4s\n",
      "33:\tlearn: 0.5501322\ttotal: 220ms\tremaining: 6.26s\n",
      "34:\tlearn: 0.5443969\ttotal: 222ms\tremaining: 6.13s\n",
      "35:\tlearn: 0.5366373\ttotal: 224ms\tremaining: 6s\n",
      "36:\tlearn: 0.5300066\ttotal: 226ms\tremaining: 5.88s\n",
      "37:\tlearn: 0.5227417\ttotal: 228ms\tremaining: 5.76s\n",
      "38:\tlearn: 0.5152290\ttotal: 230ms\tremaining: 5.66s\n",
      "39:\tlearn: 0.5074438\ttotal: 231ms\tremaining: 5.55s\n",
      "40:\tlearn: 0.5021909\ttotal: 233ms\tremaining: 5.45s\n",
      "41:\tlearn: 0.4950764\ttotal: 235ms\tremaining: 5.36s\n",
      "42:\tlearn: 0.4891220\ttotal: 237ms\tremaining: 5.28s\n",
      "43:\tlearn: 0.4837139\ttotal: 239ms\tremaining: 5.19s\n",
      "44:\tlearn: 0.4783933\ttotal: 241ms\tremaining: 5.11s\n",
      "45:\tlearn: 0.4731949\ttotal: 243ms\tremaining: 5.03s\n",
      "46:\tlearn: 0.4672964\ttotal: 244ms\tremaining: 4.96s\n",
      "47:\tlearn: 0.4611593\ttotal: 246ms\tremaining: 4.89s\n",
      "48:\tlearn: 0.4554611\ttotal: 248ms\tremaining: 4.82s\n",
      "49:\tlearn: 0.4511324\ttotal: 250ms\tremaining: 4.76s\n",
      "50:\tlearn: 0.4462545\ttotal: 252ms\tremaining: 4.69s\n",
      "51:\tlearn: 0.4414570\ttotal: 254ms\tremaining: 4.63s\n",
      "52:\tlearn: 0.4356865\ttotal: 256ms\tremaining: 4.57s\n",
      "53:\tlearn: 0.4317021\ttotal: 257ms\tremaining: 4.5s\n",
      "54:\tlearn: 0.4271674\ttotal: 259ms\tremaining: 4.45s\n",
      "55:\tlearn: 0.4231179\ttotal: 260ms\tremaining: 4.39s\n",
      "56:\tlearn: 0.4190056\ttotal: 262ms\tremaining: 4.34s\n",
      "57:\tlearn: 0.4148836\ttotal: 264ms\tremaining: 4.29s\n",
      "58:\tlearn: 0.4107210\ttotal: 266ms\tremaining: 4.24s\n",
      "59:\tlearn: 0.4069497\ttotal: 268ms\tremaining: 4.19s\n",
      "60:\tlearn: 0.4033399\ttotal: 269ms\tremaining: 4.15s\n",
      "61:\tlearn: 0.4000685\ttotal: 271ms\tremaining: 4.1s\n",
      "62:\tlearn: 0.3975784\ttotal: 273ms\tremaining: 4.06s\n",
      "63:\tlearn: 0.3930058\ttotal: 275ms\tremaining: 4.02s\n",
      "64:\tlearn: 0.3895042\ttotal: 277ms\tremaining: 3.98s\n",
      "65:\tlearn: 0.3862312\ttotal: 278ms\tremaining: 3.94s\n",
      "66:\tlearn: 0.3827320\ttotal: 280ms\tremaining: 3.9s\n",
      "67:\tlearn: 0.3789938\ttotal: 282ms\tremaining: 3.87s\n",
      "68:\tlearn: 0.3762965\ttotal: 284ms\tremaining: 3.83s\n",
      "69:\tlearn: 0.3740232\ttotal: 286ms\tremaining: 3.8s\n",
      "70:\tlearn: 0.3702879\ttotal: 288ms\tremaining: 3.76s\n",
      "71:\tlearn: 0.3681137\ttotal: 290ms\tremaining: 3.73s\n",
      "72:\tlearn: 0.3660207\ttotal: 291ms\tremaining: 3.7s\n",
      "73:\tlearn: 0.3628345\ttotal: 293ms\tremaining: 3.67s\n",
      "74:\tlearn: 0.3598533\ttotal: 295ms\tremaining: 3.63s\n",
      "75:\tlearn: 0.3565192\ttotal: 296ms\tremaining: 3.6s\n",
      "76:\tlearn: 0.3534043\ttotal: 298ms\tremaining: 3.57s\n",
      "77:\tlearn: 0.3507633\ttotal: 300ms\tremaining: 3.54s\n",
      "78:\tlearn: 0.3476013\ttotal: 301ms\tremaining: 3.51s\n",
      "79:\tlearn: 0.3449252\ttotal: 303ms\tremaining: 3.48s\n",
      "80:\tlearn: 0.3423146\ttotal: 305ms\tremaining: 3.46s\n",
      "81:\tlearn: 0.3395226\ttotal: 307ms\tremaining: 3.43s\n",
      "82:\tlearn: 0.3380672\ttotal: 308ms\tremaining: 3.41s\n",
      "83:\tlearn: 0.3360885\ttotal: 310ms\tremaining: 3.38s\n",
      "84:\tlearn: 0.3340246\ttotal: 312ms\tremaining: 3.35s\n",
      "85:\tlearn: 0.3315583\ttotal: 313ms\tremaining: 3.33s\n",
      "86:\tlearn: 0.3291222\ttotal: 315ms\tremaining: 3.3s\n",
      "87:\tlearn: 0.3269075\ttotal: 317ms\tremaining: 3.28s\n",
      "88:\tlearn: 0.3245573\ttotal: 318ms\tremaining: 3.26s\n",
      "89:\tlearn: 0.3223834\ttotal: 320ms\tremaining: 3.23s\n",
      "90:\tlearn: 0.3203588\ttotal: 322ms\tremaining: 3.21s\n",
      "91:\tlearn: 0.3188640\ttotal: 323ms\tremaining: 3.19s\n",
      "92:\tlearn: 0.3167418\ttotal: 325ms\tremaining: 3.17s\n",
      "93:\tlearn: 0.3146845\ttotal: 326ms\tremaining: 3.15s\n",
      "94:\tlearn: 0.3129845\ttotal: 328ms\tremaining: 3.13s\n",
      "95:\tlearn: 0.3122713\ttotal: 330ms\tremaining: 3.1s\n",
      "96:\tlearn: 0.3100660\ttotal: 331ms\tremaining: 3.08s\n",
      "97:\tlearn: 0.3087098\ttotal: 333ms\tremaining: 3.06s\n",
      "98:\tlearn: 0.3060571\ttotal: 334ms\tremaining: 3.04s\n",
      "99:\tlearn: 0.3037494\ttotal: 336ms\tremaining: 3.02s\n"
     ]
    },
    {
     "name": "stdout",
     "output_type": "stream",
     "text": [
      "100:\tlearn: 0.3019985\ttotal: 338ms\tremaining: 3s\n",
      "101:\tlearn: 0.3002954\ttotal: 339ms\tremaining: 2.98s\n",
      "102:\tlearn: 0.2988880\ttotal: 341ms\tremaining: 2.96s\n",
      "103:\tlearn: 0.2970911\ttotal: 342ms\tremaining: 2.95s\n",
      "104:\tlearn: 0.2956894\ttotal: 344ms\tremaining: 2.93s\n",
      "105:\tlearn: 0.2938140\ttotal: 345ms\tremaining: 2.91s\n",
      "106:\tlearn: 0.2921037\ttotal: 347ms\tremaining: 2.89s\n",
      "107:\tlearn: 0.2907712\ttotal: 348ms\tremaining: 2.87s\n",
      "108:\tlearn: 0.2897337\ttotal: 350ms\tremaining: 2.86s\n",
      "109:\tlearn: 0.2886051\ttotal: 351ms\tremaining: 2.84s\n",
      "110:\tlearn: 0.2873481\ttotal: 352ms\tremaining: 2.82s\n",
      "111:\tlearn: 0.2861692\ttotal: 354ms\tremaining: 2.81s\n",
      "112:\tlearn: 0.2843057\ttotal: 355ms\tremaining: 2.79s\n",
      "113:\tlearn: 0.2832954\ttotal: 357ms\tremaining: 2.77s\n",
      "114:\tlearn: 0.2819798\ttotal: 359ms\tremaining: 2.76s\n",
      "115:\tlearn: 0.2806082\ttotal: 360ms\tremaining: 2.74s\n",
      "116:\tlearn: 0.2793906\ttotal: 361ms\tremaining: 2.73s\n",
      "117:\tlearn: 0.2777611\ttotal: 363ms\tremaining: 2.71s\n",
      "118:\tlearn: 0.2765519\ttotal: 364ms\tremaining: 2.7s\n",
      "119:\tlearn: 0.2755587\ttotal: 366ms\tremaining: 2.68s\n",
      "120:\tlearn: 0.2742955\ttotal: 367ms\tremaining: 2.67s\n",
      "121:\tlearn: 0.2734639\ttotal: 369ms\tremaining: 2.65s\n",
      "122:\tlearn: 0.2725662\ttotal: 370ms\tremaining: 2.64s\n",
      "123:\tlearn: 0.2718070\ttotal: 372ms\tremaining: 2.63s\n",
      "124:\tlearn: 0.2709236\ttotal: 373ms\tremaining: 2.61s\n",
      "125:\tlearn: 0.2698772\ttotal: 375ms\tremaining: 2.6s\n",
      "126:\tlearn: 0.2688348\ttotal: 376ms\tremaining: 2.59s\n",
      "127:\tlearn: 0.2674191\ttotal: 378ms\tremaining: 2.57s\n",
      "128:\tlearn: 0.2661531\ttotal: 379ms\tremaining: 2.56s\n",
      "129:\tlearn: 0.2653005\ttotal: 381ms\tremaining: 2.55s\n",
      "130:\tlearn: 0.2645027\ttotal: 382ms\tremaining: 2.54s\n",
      "131:\tlearn: 0.2635399\ttotal: 384ms\tremaining: 2.52s\n",
      "132:\tlearn: 0.2629358\ttotal: 385ms\tremaining: 2.51s\n",
      "133:\tlearn: 0.2619469\ttotal: 387ms\tremaining: 2.5s\n",
      "134:\tlearn: 0.2609279\ttotal: 404ms\tremaining: 2.59s\n",
      "135:\tlearn: 0.2600309\ttotal: 406ms\tremaining: 2.58s\n",
      "136:\tlearn: 0.2593190\ttotal: 407ms\tremaining: 2.56s\n",
      "137:\tlearn: 0.2580359\ttotal: 409ms\tremaining: 2.55s\n",
      "138:\tlearn: 0.2568486\ttotal: 410ms\tremaining: 2.54s\n",
      "139:\tlearn: 0.2560543\ttotal: 412ms\tremaining: 2.53s\n",
      "140:\tlearn: 0.2554460\ttotal: 413ms\tremaining: 2.52s\n",
      "141:\tlearn: 0.2541906\ttotal: 415ms\tremaining: 2.5s\n",
      "142:\tlearn: 0.2531784\ttotal: 416ms\tremaining: 2.49s\n",
      "143:\tlearn: 0.2520448\ttotal: 418ms\tremaining: 2.48s\n",
      "144:\tlearn: 0.2509956\ttotal: 419ms\tremaining: 2.47s\n",
      "145:\tlearn: 0.2502560\ttotal: 421ms\tremaining: 2.46s\n",
      "146:\tlearn: 0.2498415\ttotal: 422ms\tremaining: 2.45s\n",
      "147:\tlearn: 0.2487102\ttotal: 423ms\tremaining: 2.44s\n",
      "148:\tlearn: 0.2480367\ttotal: 425ms\tremaining: 2.43s\n",
      "149:\tlearn: 0.2475488\ttotal: 426ms\tremaining: 2.42s\n",
      "150:\tlearn: 0.2466346\ttotal: 428ms\tremaining: 2.4s\n",
      "151:\tlearn: 0.2459917\ttotal: 429ms\tremaining: 2.4s\n",
      "152:\tlearn: 0.2453182\ttotal: 431ms\tremaining: 2.38s\n",
      "153:\tlearn: 0.2445674\ttotal: 432ms\tremaining: 2.37s\n",
      "154:\tlearn: 0.2436488\ttotal: 434ms\tremaining: 2.37s\n",
      "155:\tlearn: 0.2426922\ttotal: 436ms\tremaining: 2.36s\n",
      "156:\tlearn: 0.2414736\ttotal: 437ms\tremaining: 2.35s\n",
      "157:\tlearn: 0.2408125\ttotal: 439ms\tremaining: 2.34s\n",
      "158:\tlearn: 0.2402016\ttotal: 440ms\tremaining: 2.33s\n",
      "159:\tlearn: 0.2395854\ttotal: 442ms\tremaining: 2.32s\n",
      "160:\tlearn: 0.2386905\ttotal: 443ms\tremaining: 2.31s\n",
      "161:\tlearn: 0.2379431\ttotal: 444ms\tremaining: 2.3s\n",
      "162:\tlearn: 0.2374083\ttotal: 446ms\tremaining: 2.29s\n",
      "163:\tlearn: 0.2366247\ttotal: 447ms\tremaining: 2.28s\n",
      "164:\tlearn: 0.2361354\ttotal: 449ms\tremaining: 2.27s\n",
      "165:\tlearn: 0.2355012\ttotal: 450ms\tremaining: 2.26s\n",
      "166:\tlearn: 0.2348710\ttotal: 452ms\tremaining: 2.25s\n",
      "167:\tlearn: 0.2337551\ttotal: 453ms\tremaining: 2.25s\n",
      "168:\tlearn: 0.2330926\ttotal: 455ms\tremaining: 2.24s\n",
      "169:\tlearn: 0.2322936\ttotal: 456ms\tremaining: 2.23s\n",
      "170:\tlearn: 0.2316530\ttotal: 458ms\tremaining: 2.22s\n",
      "171:\tlearn: 0.2310701\ttotal: 459ms\tremaining: 2.21s\n",
      "172:\tlearn: 0.2303580\ttotal: 461ms\tremaining: 2.2s\n",
      "173:\tlearn: 0.2300456\ttotal: 462ms\tremaining: 2.19s\n",
      "174:\tlearn: 0.2293940\ttotal: 465ms\tremaining: 2.19s\n",
      "175:\tlearn: 0.2283743\ttotal: 466ms\tremaining: 2.18s\n",
      "176:\tlearn: 0.2273922\ttotal: 468ms\tremaining: 2.17s\n",
      "177:\tlearn: 0.2266845\ttotal: 469ms\tremaining: 2.17s\n",
      "178:\tlearn: 0.2260297\ttotal: 471ms\tremaining: 2.16s\n",
      "179:\tlearn: 0.2253690\ttotal: 472ms\tremaining: 2.15s\n",
      "180:\tlearn: 0.2245565\ttotal: 474ms\tremaining: 2.14s\n",
      "181:\tlearn: 0.2236395\ttotal: 475ms\tremaining: 2.14s\n",
      "182:\tlearn: 0.2228143\ttotal: 477ms\tremaining: 2.13s\n",
      "183:\tlearn: 0.2221685\ttotal: 478ms\tremaining: 2.12s\n",
      "184:\tlearn: 0.2214882\ttotal: 480ms\tremaining: 2.11s\n",
      "185:\tlearn: 0.2208821\ttotal: 481ms\tremaining: 2.11s\n",
      "186:\tlearn: 0.2197914\ttotal: 483ms\tremaining: 2.1s\n",
      "187:\tlearn: 0.2193314\ttotal: 484ms\tremaining: 2.09s\n",
      "188:\tlearn: 0.2187288\ttotal: 486ms\tremaining: 2.08s\n",
      "189:\tlearn: 0.2182184\ttotal: 487ms\tremaining: 2.08s\n",
      "190:\tlearn: 0.2174857\ttotal: 489ms\tremaining: 2.07s\n",
      "191:\tlearn: 0.2166676\ttotal: 490ms\tremaining: 2.06s\n",
      "192:\tlearn: 0.2159278\ttotal: 492ms\tremaining: 2.06s\n",
      "193:\tlearn: 0.2153326\ttotal: 494ms\tremaining: 2.05s\n",
      "194:\tlearn: 0.2147471\ttotal: 495ms\tremaining: 2.04s\n",
      "195:\tlearn: 0.2140525\ttotal: 497ms\tremaining: 2.04s\n",
      "196:\tlearn: 0.2137910\ttotal: 498ms\tremaining: 2.03s\n",
      "197:\tlearn: 0.2131789\ttotal: 500ms\tremaining: 2.02s\n",
      "198:\tlearn: 0.2125297\ttotal: 501ms\tremaining: 2.02s\n",
      "199:\tlearn: 0.2116290\ttotal: 503ms\tremaining: 2.01s\n",
      "200:\tlearn: 0.2109664\ttotal: 504ms\tremaining: 2s\n",
      "201:\tlearn: 0.2106904\ttotal: 506ms\tremaining: 2s\n",
      "202:\tlearn: 0.2100729\ttotal: 507ms\tremaining: 1.99s\n",
      "203:\tlearn: 0.2095832\ttotal: 509ms\tremaining: 1.98s\n",
      "204:\tlearn: 0.2089961\ttotal: 510ms\tremaining: 1.98s\n"
     ]
    },
    {
     "name": "stdout",
     "output_type": "stream",
     "text": [
      "205:\tlearn: 0.2084148\ttotal: 512ms\tremaining: 1.97s\n",
      "206:\tlearn: 0.2077789\ttotal: 514ms\tremaining: 1.97s\n",
      "207:\tlearn: 0.2072413\ttotal: 515ms\tremaining: 1.96s\n",
      "208:\tlearn: 0.2062438\ttotal: 517ms\tremaining: 1.96s\n",
      "209:\tlearn: 0.2058744\ttotal: 518ms\tremaining: 1.95s\n",
      "210:\tlearn: 0.2052197\ttotal: 520ms\tremaining: 1.94s\n",
      "211:\tlearn: 0.2047343\ttotal: 521ms\tremaining: 1.94s\n",
      "212:\tlearn: 0.2042000\ttotal: 523ms\tremaining: 1.93s\n",
      "213:\tlearn: 0.2037226\ttotal: 524ms\tremaining: 1.92s\n",
      "214:\tlearn: 0.2029918\ttotal: 526ms\tremaining: 1.92s\n",
      "215:\tlearn: 0.2025371\ttotal: 527ms\tremaining: 1.91s\n",
      "216:\tlearn: 0.2017508\ttotal: 528ms\tremaining: 1.91s\n",
      "217:\tlearn: 0.2010482\ttotal: 530ms\tremaining: 1.9s\n",
      "218:\tlearn: 0.2006396\ttotal: 531ms\tremaining: 1.89s\n",
      "219:\tlearn: 0.2002075\ttotal: 533ms\tremaining: 1.89s\n",
      "220:\tlearn: 0.1996957\ttotal: 534ms\tremaining: 1.88s\n",
      "221:\tlearn: 0.1993045\ttotal: 536ms\tremaining: 1.88s\n",
      "222:\tlearn: 0.1990169\ttotal: 537ms\tremaining: 1.87s\n",
      "223:\tlearn: 0.1984181\ttotal: 539ms\tremaining: 1.87s\n",
      "224:\tlearn: 0.1977776\ttotal: 540ms\tremaining: 1.86s\n",
      "225:\tlearn: 0.1973991\ttotal: 542ms\tremaining: 1.85s\n",
      "226:\tlearn: 0.1967925\ttotal: 543ms\tremaining: 1.85s\n",
      "227:\tlearn: 0.1964912\ttotal: 545ms\tremaining: 1.84s\n",
      "228:\tlearn: 0.1961002\ttotal: 546ms\tremaining: 1.84s\n",
      "229:\tlearn: 0.1954527\ttotal: 548ms\tremaining: 1.83s\n",
      "230:\tlearn: 0.1951840\ttotal: 549ms\tremaining: 1.83s\n",
      "231:\tlearn: 0.1949005\ttotal: 550ms\tremaining: 1.82s\n",
      "232:\tlearn: 0.1942663\ttotal: 552ms\tremaining: 1.82s\n",
      "233:\tlearn: 0.1940299\ttotal: 553ms\tremaining: 1.81s\n",
      "234:\tlearn: 0.1936642\ttotal: 555ms\tremaining: 1.81s\n",
      "235:\tlearn: 0.1933019\ttotal: 556ms\tremaining: 1.8s\n",
      "236:\tlearn: 0.1929356\ttotal: 558ms\tremaining: 1.79s\n",
      "237:\tlearn: 0.1927310\ttotal: 559ms\tremaining: 1.79s\n",
      "238:\tlearn: 0.1922133\ttotal: 561ms\tremaining: 1.78s\n",
      "239:\tlearn: 0.1916456\ttotal: 562ms\tremaining: 1.78s\n",
      "240:\tlearn: 0.1912776\ttotal: 564ms\tremaining: 1.77s\n",
      "241:\tlearn: 0.1910554\ttotal: 565ms\tremaining: 1.77s\n",
      "242:\tlearn: 0.1906558\ttotal: 567ms\tremaining: 1.76s\n",
      "243:\tlearn: 0.1901680\ttotal: 568ms\tremaining: 1.76s\n",
      "244:\tlearn: 0.1897585\ttotal: 570ms\tremaining: 1.75s\n",
      "245:\tlearn: 0.1893173\ttotal: 571ms\tremaining: 1.75s\n",
      "246:\tlearn: 0.1889295\ttotal: 573ms\tremaining: 1.75s\n",
      "247:\tlearn: 0.1884434\ttotal: 574ms\tremaining: 1.74s\n",
      "248:\tlearn: 0.1879167\ttotal: 576ms\tremaining: 1.74s\n",
      "249:\tlearn: 0.1871712\ttotal: 577ms\tremaining: 1.73s\n",
      "250:\tlearn: 0.1865263\ttotal: 579ms\tremaining: 1.73s\n",
      "251:\tlearn: 0.1859216\ttotal: 580ms\tremaining: 1.72s\n",
      "252:\tlearn: 0.1856507\ttotal: 581ms\tremaining: 1.72s\n",
      "253:\tlearn: 0.1851371\ttotal: 583ms\tremaining: 1.71s\n",
      "254:\tlearn: 0.1845930\ttotal: 584ms\tremaining: 1.71s\n",
      "255:\tlearn: 0.1843620\ttotal: 586ms\tremaining: 1.7s\n",
      "256:\tlearn: 0.1840881\ttotal: 587ms\tremaining: 1.7s\n",
      "257:\tlearn: 0.1836420\ttotal: 589ms\tremaining: 1.69s\n",
      "258:\tlearn: 0.1832670\ttotal: 590ms\tremaining: 1.69s\n",
      "259:\tlearn: 0.1828935\ttotal: 592ms\tremaining: 1.68s\n",
      "260:\tlearn: 0.1824479\ttotal: 593ms\tremaining: 1.68s\n",
      "261:\tlearn: 0.1820513\ttotal: 595ms\tremaining: 1.68s\n",
      "262:\tlearn: 0.1815502\ttotal: 596ms\tremaining: 1.67s\n",
      "263:\tlearn: 0.1810881\ttotal: 598ms\tremaining: 1.67s\n",
      "264:\tlearn: 0.1806051\ttotal: 599ms\tremaining: 1.66s\n",
      "265:\tlearn: 0.1802969\ttotal: 601ms\tremaining: 1.66s\n",
      "266:\tlearn: 0.1798738\ttotal: 602ms\tremaining: 1.65s\n",
      "267:\tlearn: 0.1797913\ttotal: 604ms\tremaining: 1.65s\n",
      "268:\tlearn: 0.1795918\ttotal: 605ms\tremaining: 1.64s\n",
      "269:\tlearn: 0.1794439\ttotal: 606ms\tremaining: 1.64s\n",
      "270:\tlearn: 0.1792169\ttotal: 608ms\tremaining: 1.64s\n",
      "271:\tlearn: 0.1786666\ttotal: 610ms\tremaining: 1.63s\n",
      "272:\tlearn: 0.1780175\ttotal: 611ms\tremaining: 1.63s\n",
      "273:\tlearn: 0.1775237\ttotal: 613ms\tremaining: 1.62s\n",
      "274:\tlearn: 0.1769621\ttotal: 614ms\tremaining: 1.62s\n",
      "275:\tlearn: 0.1765944\ttotal: 615ms\tremaining: 1.61s\n",
      "276:\tlearn: 0.1760885\ttotal: 617ms\tremaining: 1.61s\n",
      "277:\tlearn: 0.1757213\ttotal: 618ms\tremaining: 1.61s\n",
      "278:\tlearn: 0.1752680\ttotal: 620ms\tremaining: 1.6s\n",
      "279:\tlearn: 0.1748455\ttotal: 621ms\tremaining: 1.6s\n",
      "280:\tlearn: 0.1745052\ttotal: 623ms\tremaining: 1.59s\n",
      "281:\tlearn: 0.1740907\ttotal: 625ms\tremaining: 1.59s\n",
      "282:\tlearn: 0.1738641\ttotal: 627ms\tremaining: 1.59s\n",
      "283:\tlearn: 0.1735347\ttotal: 629ms\tremaining: 1.58s\n",
      "284:\tlearn: 0.1732682\ttotal: 630ms\tremaining: 1.58s\n",
      "285:\tlearn: 0.1729214\ttotal: 632ms\tremaining: 1.58s\n",
      "286:\tlearn: 0.1724511\ttotal: 633ms\tremaining: 1.57s\n",
      "287:\tlearn: 0.1719719\ttotal: 635ms\tremaining: 1.57s\n",
      "288:\tlearn: 0.1715155\ttotal: 637ms\tremaining: 1.57s\n",
      "289:\tlearn: 0.1714271\ttotal: 638ms\tremaining: 1.56s\n",
      "290:\tlearn: 0.1710205\ttotal: 640ms\tremaining: 1.56s\n",
      "291:\tlearn: 0.1707287\ttotal: 641ms\tremaining: 1.55s\n",
      "292:\tlearn: 0.1703032\ttotal: 643ms\tremaining: 1.55s\n",
      "293:\tlearn: 0.1700908\ttotal: 644ms\tremaining: 1.55s\n",
      "294:\tlearn: 0.1698039\ttotal: 646ms\tremaining: 1.54s\n",
      "295:\tlearn: 0.1692958\ttotal: 648ms\tremaining: 1.54s\n",
      "296:\tlearn: 0.1688332\ttotal: 649ms\tremaining: 1.54s\n",
      "297:\tlearn: 0.1682605\ttotal: 651ms\tremaining: 1.53s\n",
      "298:\tlearn: 0.1679393\ttotal: 653ms\tremaining: 1.53s\n",
      "299:\tlearn: 0.1675096\ttotal: 654ms\tremaining: 1.53s\n",
      "300:\tlearn: 0.1673702\ttotal: 656ms\tremaining: 1.52s\n",
      "301:\tlearn: 0.1670505\ttotal: 658ms\tremaining: 1.52s\n",
      "302:\tlearn: 0.1667988\ttotal: 659ms\tremaining: 1.52s\n",
      "303:\tlearn: 0.1664000\ttotal: 661ms\tremaining: 1.51s\n",
      "304:\tlearn: 0.1662076\ttotal: 662ms\tremaining: 1.51s\n",
      "305:\tlearn: 0.1659239\ttotal: 664ms\tremaining: 1.5s\n",
      "306:\tlearn: 0.1655597\ttotal: 665ms\tremaining: 1.5s\n",
      "307:\tlearn: 0.1651493\ttotal: 667ms\tremaining: 1.5s\n",
      "308:\tlearn: 0.1646925\ttotal: 669ms\tremaining: 1.5s\n",
      "309:\tlearn: 0.1641027\ttotal: 670ms\tremaining: 1.49s\n",
      "310:\tlearn: 0.1637672\ttotal: 672ms\tremaining: 1.49s\n",
      "311:\tlearn: 0.1634336\ttotal: 673ms\tremaining: 1.48s\n",
      "312:\tlearn: 0.1630528\ttotal: 675ms\tremaining: 1.48s\n",
      "313:\tlearn: 0.1624694\ttotal: 676ms\tremaining: 1.48s\n",
      "314:\tlearn: 0.1621991\ttotal: 678ms\tremaining: 1.47s\n",
      "315:\tlearn: 0.1619189\ttotal: 679ms\tremaining: 1.47s\n",
      "316:\tlearn: 0.1617697\ttotal: 681ms\tremaining: 1.47s\n"
     ]
    },
    {
     "name": "stdout",
     "output_type": "stream",
     "text": [
      "317:\tlearn: 0.1614414\ttotal: 683ms\tremaining: 1.46s\n",
      "318:\tlearn: 0.1611698\ttotal: 684ms\tremaining: 1.46s\n",
      "319:\tlearn: 0.1610341\ttotal: 686ms\tremaining: 1.46s\n",
      "320:\tlearn: 0.1609353\ttotal: 687ms\tremaining: 1.45s\n",
      "321:\tlearn: 0.1605677\ttotal: 688ms\tremaining: 1.45s\n",
      "322:\tlearn: 0.1603375\ttotal: 690ms\tremaining: 1.45s\n",
      "323:\tlearn: 0.1600652\ttotal: 691ms\tremaining: 1.44s\n",
      "324:\tlearn: 0.1599241\ttotal: 693ms\tremaining: 1.44s\n",
      "325:\tlearn: 0.1598029\ttotal: 694ms\tremaining: 1.44s\n",
      "326:\tlearn: 0.1594124\ttotal: 696ms\tremaining: 1.43s\n",
      "327:\tlearn: 0.1591009\ttotal: 698ms\tremaining: 1.43s\n",
      "328:\tlearn: 0.1589708\ttotal: 699ms\tremaining: 1.43s\n",
      "329:\tlearn: 0.1585541\ttotal: 701ms\tremaining: 1.42s\n",
      "330:\tlearn: 0.1584613\ttotal: 702ms\tremaining: 1.42s\n",
      "331:\tlearn: 0.1581148\ttotal: 703ms\tremaining: 1.42s\n",
      "332:\tlearn: 0.1579001\ttotal: 705ms\tremaining: 1.41s\n",
      "333:\tlearn: 0.1575612\ttotal: 706ms\tremaining: 1.41s\n",
      "334:\tlearn: 0.1574361\ttotal: 708ms\tremaining: 1.41s\n",
      "335:\tlearn: 0.1570643\ttotal: 709ms\tremaining: 1.4s\n",
      "336:\tlearn: 0.1569935\ttotal: 711ms\tremaining: 1.4s\n",
      "337:\tlearn: 0.1565062\ttotal: 713ms\tremaining: 1.4s\n",
      "338:\tlearn: 0.1562344\ttotal: 714ms\tremaining: 1.39s\n",
      "339:\tlearn: 0.1557785\ttotal: 716ms\tremaining: 1.39s\n",
      "340:\tlearn: 0.1556518\ttotal: 717ms\tremaining: 1.39s\n",
      "341:\tlearn: 0.1553012\ttotal: 718ms\tremaining: 1.38s\n",
      "342:\tlearn: 0.1549940\ttotal: 720ms\tremaining: 1.38s\n",
      "343:\tlearn: 0.1548403\ttotal: 721ms\tremaining: 1.38s\n",
      "344:\tlearn: 0.1546672\ttotal: 723ms\tremaining: 1.37s\n",
      "345:\tlearn: 0.1543534\ttotal: 724ms\tremaining: 1.37s\n",
      "346:\tlearn: 0.1541716\ttotal: 726ms\tremaining: 1.37s\n",
      "347:\tlearn: 0.1535583\ttotal: 727ms\tremaining: 1.36s\n",
      "348:\tlearn: 0.1530625\ttotal: 729ms\tremaining: 1.36s\n",
      "349:\tlearn: 0.1526780\ttotal: 730ms\tremaining: 1.36s\n",
      "350:\tlearn: 0.1524963\ttotal: 732ms\tremaining: 1.35s\n",
      "351:\tlearn: 0.1523056\ttotal: 733ms\tremaining: 1.35s\n",
      "352:\tlearn: 0.1521357\ttotal: 735ms\tremaining: 1.35s\n",
      "353:\tlearn: 0.1520016\ttotal: 736ms\tremaining: 1.34s\n",
      "354:\tlearn: 0.1518178\ttotal: 738ms\tremaining: 1.34s\n",
      "355:\tlearn: 0.1515732\ttotal: 739ms\tremaining: 1.34s\n",
      "356:\tlearn: 0.1512778\ttotal: 741ms\tremaining: 1.33s\n",
      "357:\tlearn: 0.1507782\ttotal: 742ms\tremaining: 1.33s\n",
      "358:\tlearn: 0.1505722\ttotal: 744ms\tremaining: 1.33s\n",
      "359:\tlearn: 0.1504016\ttotal: 745ms\tremaining: 1.32s\n",
      "360:\tlearn: 0.1501124\ttotal: 747ms\tremaining: 1.32s\n",
      "361:\tlearn: 0.1496815\ttotal: 748ms\tremaining: 1.32s\n",
      "362:\tlearn: 0.1494896\ttotal: 750ms\tremaining: 1.31s\n",
      "363:\tlearn: 0.1493617\ttotal: 751ms\tremaining: 1.31s\n",
      "364:\tlearn: 0.1490258\ttotal: 753ms\tremaining: 1.31s\n",
      "365:\tlearn: 0.1485231\ttotal: 754ms\tremaining: 1.31s\n",
      "366:\tlearn: 0.1481036\ttotal: 756ms\tremaining: 1.3s\n",
      "367:\tlearn: 0.1479417\ttotal: 757ms\tremaining: 1.3s\n",
      "368:\tlearn: 0.1477203\ttotal: 759ms\tremaining: 1.3s\n",
      "369:\tlearn: 0.1473997\ttotal: 760ms\tremaining: 1.29s\n",
      "370:\tlearn: 0.1471748\ttotal: 762ms\tremaining: 1.29s\n",
      "371:\tlearn: 0.1469422\ttotal: 763ms\tremaining: 1.29s\n",
      "372:\tlearn: 0.1465700\ttotal: 765ms\tremaining: 1.28s\n",
      "373:\tlearn: 0.1464589\ttotal: 766ms\tremaining: 1.28s\n",
      "374:\tlearn: 0.1463843\ttotal: 768ms\tremaining: 1.28s\n",
      "375:\tlearn: 0.1459459\ttotal: 769ms\tremaining: 1.28s\n",
      "376:\tlearn: 0.1457279\ttotal: 771ms\tremaining: 1.27s\n",
      "377:\tlearn: 0.1455083\ttotal: 772ms\tremaining: 1.27s\n",
      "378:\tlearn: 0.1452806\ttotal: 774ms\tremaining: 1.27s\n",
      "379:\tlearn: 0.1448607\ttotal: 775ms\tremaining: 1.26s\n",
      "380:\tlearn: 0.1444732\ttotal: 777ms\tremaining: 1.26s\n",
      "381:\tlearn: 0.1441980\ttotal: 778ms\tremaining: 1.26s\n",
      "382:\tlearn: 0.1439114\ttotal: 779ms\tremaining: 1.25s\n",
      "383:\tlearn: 0.1436893\ttotal: 781ms\tremaining: 1.25s\n",
      "384:\tlearn: 0.1434572\ttotal: 782ms\tremaining: 1.25s\n",
      "385:\tlearn: 0.1429573\ttotal: 784ms\tremaining: 1.25s\n",
      "386:\tlearn: 0.1424903\ttotal: 785ms\tremaining: 1.24s\n",
      "387:\tlearn: 0.1421506\ttotal: 787ms\tremaining: 1.24s\n",
      "388:\tlearn: 0.1420019\ttotal: 788ms\tremaining: 1.24s\n",
      "389:\tlearn: 0.1419253\ttotal: 790ms\tremaining: 1.24s\n",
      "390:\tlearn: 0.1416492\ttotal: 791ms\tremaining: 1.23s\n",
      "391:\tlearn: 0.1411578\ttotal: 793ms\tremaining: 1.23s\n",
      "392:\tlearn: 0.1410568\ttotal: 794ms\tremaining: 1.23s\n",
      "393:\tlearn: 0.1406758\ttotal: 796ms\tremaining: 1.22s\n",
      "394:\tlearn: 0.1405151\ttotal: 797ms\tremaining: 1.22s\n",
      "395:\tlearn: 0.1402251\ttotal: 799ms\tremaining: 1.22s\n",
      "396:\tlearn: 0.1400929\ttotal: 801ms\tremaining: 1.22s\n",
      "397:\tlearn: 0.1398099\ttotal: 802ms\tremaining: 1.21s\n",
      "398:\tlearn: 0.1394969\ttotal: 804ms\tremaining: 1.21s\n",
      "399:\tlearn: 0.1392416\ttotal: 805ms\tremaining: 1.21s\n",
      "400:\tlearn: 0.1389456\ttotal: 807ms\tremaining: 1.2s\n",
      "401:\tlearn: 0.1388069\ttotal: 808ms\tremaining: 1.2s\n",
      "402:\tlearn: 0.1387034\ttotal: 810ms\tremaining: 1.2s\n",
      "403:\tlearn: 0.1384928\ttotal: 811ms\tremaining: 1.2s\n",
      "404:\tlearn: 0.1381960\ttotal: 812ms\tremaining: 1.19s\n",
      "405:\tlearn: 0.1378983\ttotal: 814ms\tremaining: 1.19s\n",
      "406:\tlearn: 0.1376905\ttotal: 815ms\tremaining: 1.19s\n",
      "407:\tlearn: 0.1374733\ttotal: 817ms\tremaining: 1.19s\n",
      "408:\tlearn: 0.1370724\ttotal: 818ms\tremaining: 1.18s\n",
      "409:\tlearn: 0.1369135\ttotal: 820ms\tremaining: 1.18s\n",
      "410:\tlearn: 0.1367929\ttotal: 821ms\tremaining: 1.18s\n",
      "411:\tlearn: 0.1363801\ttotal: 823ms\tremaining: 1.17s\n",
      "412:\tlearn: 0.1361256\ttotal: 824ms\tremaining: 1.17s\n",
      "413:\tlearn: 0.1359808\ttotal: 826ms\tremaining: 1.17s\n",
      "414:\tlearn: 0.1359200\ttotal: 827ms\tremaining: 1.17s\n",
      "415:\tlearn: 0.1356836\ttotal: 829ms\tremaining: 1.16s\n",
      "416:\tlearn: 0.1355906\ttotal: 830ms\tremaining: 1.16s\n",
      "417:\tlearn: 0.1353739\ttotal: 832ms\tremaining: 1.16s\n",
      "418:\tlearn: 0.1352809\ttotal: 833ms\tremaining: 1.16s\n",
      "419:\tlearn: 0.1351590\ttotal: 835ms\tremaining: 1.15s\n",
      "420:\tlearn: 0.1349758\ttotal: 836ms\tremaining: 1.15s\n",
      "421:\tlearn: 0.1347300\ttotal: 838ms\tremaining: 1.15s\n",
      "422:\tlearn: 0.1343768\ttotal: 839ms\tremaining: 1.14s\n",
      "423:\tlearn: 0.1341940\ttotal: 841ms\tremaining: 1.14s\n",
      "424:\tlearn: 0.1339277\ttotal: 842ms\tremaining: 1.14s\n",
      "425:\tlearn: 0.1338149\ttotal: 844ms\tremaining: 1.14s\n",
      "426:\tlearn: 0.1334488\ttotal: 845ms\tremaining: 1.13s\n",
      "427:\tlearn: 0.1331430\ttotal: 847ms\tremaining: 1.13s\n",
      "428:\tlearn: 0.1328818\ttotal: 848ms\tremaining: 1.13s\n",
      "429:\tlearn: 0.1325980\ttotal: 850ms\tremaining: 1.13s\n",
      "430:\tlearn: 0.1322845\ttotal: 851ms\tremaining: 1.12s\n",
      "431:\tlearn: 0.1321418\ttotal: 853ms\tremaining: 1.12s\n",
      "432:\tlearn: 0.1318678\ttotal: 854ms\tremaining: 1.12s\n"
     ]
    },
    {
     "name": "stdout",
     "output_type": "stream",
     "text": [
      "433:\tlearn: 0.1314669\ttotal: 856ms\tremaining: 1.12s\n",
      "434:\tlearn: 0.1313193\ttotal: 858ms\tremaining: 1.11s\n",
      "435:\tlearn: 0.1310719\ttotal: 859ms\tremaining: 1.11s\n",
      "436:\tlearn: 0.1309193\ttotal: 861ms\tremaining: 1.11s\n",
      "437:\tlearn: 0.1305961\ttotal: 862ms\tremaining: 1.11s\n",
      "438:\tlearn: 0.1303371\ttotal: 864ms\tremaining: 1.1s\n",
      "439:\tlearn: 0.1300766\ttotal: 865ms\tremaining: 1.1s\n",
      "440:\tlearn: 0.1299029\ttotal: 867ms\tremaining: 1.1s\n",
      "441:\tlearn: 0.1296275\ttotal: 868ms\tremaining: 1.1s\n",
      "442:\tlearn: 0.1293386\ttotal: 870ms\tremaining: 1.09s\n",
      "443:\tlearn: 0.1292820\ttotal: 871ms\tremaining: 1.09s\n",
      "444:\tlearn: 0.1291311\ttotal: 873ms\tremaining: 1.09s\n",
      "445:\tlearn: 0.1286689\ttotal: 874ms\tremaining: 1.09s\n",
      "446:\tlearn: 0.1284389\ttotal: 876ms\tremaining: 1.08s\n",
      "447:\tlearn: 0.1281208\ttotal: 877ms\tremaining: 1.08s\n",
      "448:\tlearn: 0.1280233\ttotal: 879ms\tremaining: 1.08s\n",
      "449:\tlearn: 0.1276625\ttotal: 880ms\tremaining: 1.07s\n",
      "450:\tlearn: 0.1275463\ttotal: 882ms\tremaining: 1.07s\n",
      "451:\tlearn: 0.1274825\ttotal: 883ms\tremaining: 1.07s\n",
      "452:\tlearn: 0.1272326\ttotal: 885ms\tremaining: 1.07s\n",
      "453:\tlearn: 0.1269683\ttotal: 886ms\tremaining: 1.06s\n",
      "454:\tlearn: 0.1266612\ttotal: 888ms\tremaining: 1.06s\n",
      "455:\tlearn: 0.1265279\ttotal: 889ms\tremaining: 1.06s\n",
      "456:\tlearn: 0.1264189\ttotal: 891ms\tremaining: 1.06s\n",
      "457:\tlearn: 0.1261432\ttotal: 892ms\tremaining: 1.05s\n",
      "458:\tlearn: 0.1258270\ttotal: 894ms\tremaining: 1.05s\n",
      "459:\tlearn: 0.1255512\ttotal: 895ms\tremaining: 1.05s\n",
      "460:\tlearn: 0.1253144\ttotal: 897ms\tremaining: 1.05s\n",
      "461:\tlearn: 0.1249778\ttotal: 898ms\tremaining: 1.05s\n",
      "462:\tlearn: 0.1246675\ttotal: 900ms\tremaining: 1.04s\n",
      "463:\tlearn: 0.1243992\ttotal: 901ms\tremaining: 1.04s\n",
      "464:\tlearn: 0.1240512\ttotal: 903ms\tremaining: 1.04s\n",
      "465:\tlearn: 0.1238153\ttotal: 904ms\tremaining: 1.04s\n",
      "466:\tlearn: 0.1237050\ttotal: 906ms\tremaining: 1.03s\n",
      "467:\tlearn: 0.1236185\ttotal: 907ms\tremaining: 1.03s\n",
      "468:\tlearn: 0.1235394\ttotal: 909ms\tremaining: 1.03s\n",
      "469:\tlearn: 0.1234605\ttotal: 911ms\tremaining: 1.03s\n",
      "470:\tlearn: 0.1231835\ttotal: 912ms\tremaining: 1.02s\n",
      "471:\tlearn: 0.1229046\ttotal: 913ms\tremaining: 1.02s\n",
      "472:\tlearn: 0.1225270\ttotal: 915ms\tremaining: 1.02s\n",
      "473:\tlearn: 0.1222678\ttotal: 916ms\tremaining: 1.02s\n",
      "474:\tlearn: 0.1220720\ttotal: 918ms\tremaining: 1.01s\n",
      "475:\tlearn: 0.1216994\ttotal: 919ms\tremaining: 1.01s\n",
      "476:\tlearn: 0.1213797\ttotal: 921ms\tremaining: 1.01s\n",
      "477:\tlearn: 0.1211992\ttotal: 922ms\tremaining: 1.01s\n",
      "478:\tlearn: 0.1209478\ttotal: 924ms\tremaining: 1s\n",
      "479:\tlearn: 0.1205514\ttotal: 925ms\tremaining: 1s\n",
      "480:\tlearn: 0.1203917\ttotal: 927ms\tremaining: 1s\n",
      "481:\tlearn: 0.1201167\ttotal: 929ms\tremaining: 998ms\n",
      "482:\tlearn: 0.1197949\ttotal: 930ms\tremaining: 996ms\n",
      "483:\tlearn: 0.1194903\ttotal: 932ms\tremaining: 993ms\n",
      "484:\tlearn: 0.1194310\ttotal: 933ms\tremaining: 991ms\n",
      "485:\tlearn: 0.1192362\ttotal: 935ms\tremaining: 989ms\n",
      "486:\tlearn: 0.1190212\ttotal: 936ms\tremaining: 986ms\n",
      "487:\tlearn: 0.1187138\ttotal: 938ms\tremaining: 984ms\n",
      "488:\tlearn: 0.1185251\ttotal: 939ms\tremaining: 982ms\n",
      "489:\tlearn: 0.1182915\ttotal: 941ms\tremaining: 979ms\n",
      "490:\tlearn: 0.1180436\ttotal: 943ms\tremaining: 977ms\n",
      "491:\tlearn: 0.1177115\ttotal: 944ms\tremaining: 975ms\n",
      "492:\tlearn: 0.1175231\ttotal: 946ms\tremaining: 973ms\n",
      "493:\tlearn: 0.1173428\ttotal: 948ms\tremaining: 971ms\n",
      "494:\tlearn: 0.1172057\ttotal: 949ms\tremaining: 968ms\n",
      "495:\tlearn: 0.1168690\ttotal: 951ms\tremaining: 966ms\n",
      "496:\tlearn: 0.1167766\ttotal: 952ms\tremaining: 964ms\n",
      "497:\tlearn: 0.1167345\ttotal: 954ms\tremaining: 961ms\n",
      "498:\tlearn: 0.1166406\ttotal: 955ms\tremaining: 959ms\n",
      "499:\tlearn: 0.1164638\ttotal: 957ms\tremaining: 957ms\n",
      "500:\tlearn: 0.1163249\ttotal: 959ms\tremaining: 955ms\n",
      "501:\tlearn: 0.1161739\ttotal: 960ms\tremaining: 953ms\n",
      "502:\tlearn: 0.1160824\ttotal: 962ms\tremaining: 951ms\n",
      "503:\tlearn: 0.1158788\ttotal: 964ms\tremaining: 948ms\n",
      "504:\tlearn: 0.1155484\ttotal: 965ms\tremaining: 946ms\n",
      "505:\tlearn: 0.1153256\ttotal: 967ms\tremaining: 944ms\n",
      "506:\tlearn: 0.1149393\ttotal: 969ms\tremaining: 942ms\n",
      "507:\tlearn: 0.1148841\ttotal: 970ms\tremaining: 940ms\n",
      "508:\tlearn: 0.1146098\ttotal: 972ms\tremaining: 938ms\n",
      "509:\tlearn: 0.1144147\ttotal: 973ms\tremaining: 935ms\n",
      "510:\tlearn: 0.1140686\ttotal: 975ms\tremaining: 933ms\n",
      "511:\tlearn: 0.1140126\ttotal: 977ms\tremaining: 931ms\n",
      "512:\tlearn: 0.1136847\ttotal: 978ms\tremaining: 929ms\n",
      "513:\tlearn: 0.1134786\ttotal: 980ms\tremaining: 926ms\n",
      "514:\tlearn: 0.1131732\ttotal: 981ms\tremaining: 924ms\n",
      "515:\tlearn: 0.1131139\ttotal: 983ms\tremaining: 922ms\n",
      "516:\tlearn: 0.1129334\ttotal: 985ms\tremaining: 920ms\n",
      "517:\tlearn: 0.1127768\ttotal: 986ms\tremaining: 918ms\n",
      "518:\tlearn: 0.1125228\ttotal: 988ms\tremaining: 916ms\n",
      "519:\tlearn: 0.1124285\ttotal: 990ms\tremaining: 914ms\n",
      "520:\tlearn: 0.1120720\ttotal: 991ms\tremaining: 911ms\n",
      "521:\tlearn: 0.1118797\ttotal: 993ms\tremaining: 909ms\n",
      "522:\tlearn: 0.1116803\ttotal: 995ms\tremaining: 907ms\n",
      "523:\tlearn: 0.1114497\ttotal: 996ms\tremaining: 905ms\n",
      "524:\tlearn: 0.1111869\ttotal: 998ms\tremaining: 903ms\n",
      "525:\tlearn: 0.1110576\ttotal: 999ms\tremaining: 901ms\n",
      "526:\tlearn: 0.1107490\ttotal: 1s\tremaining: 898ms\n",
      "527:\tlearn: 0.1104782\ttotal: 1s\tremaining: 897ms\n",
      "528:\tlearn: 0.1103688\ttotal: 1s\tremaining: 895ms\n",
      "529:\tlearn: 0.1101115\ttotal: 1.01s\tremaining: 893ms\n",
      "530:\tlearn: 0.1098169\ttotal: 1.01s\tremaining: 891ms\n",
      "531:\tlearn: 0.1096129\ttotal: 1.01s\tremaining: 889ms\n",
      "532:\tlearn: 0.1094134\ttotal: 1.01s\tremaining: 886ms\n",
      "533:\tlearn: 0.1090613\ttotal: 1.01s\tremaining: 884ms\n",
      "534:\tlearn: 0.1088604\ttotal: 1.01s\tremaining: 882ms\n",
      "535:\tlearn: 0.1086474\ttotal: 1.02s\tremaining: 880ms\n",
      "536:\tlearn: 0.1084024\ttotal: 1.02s\tremaining: 878ms\n",
      "537:\tlearn: 0.1082782\ttotal: 1.02s\tremaining: 876ms\n",
      "538:\tlearn: 0.1082165\ttotal: 1.02s\tremaining: 874ms\n",
      "539:\tlearn: 0.1079525\ttotal: 1.02s\tremaining: 872ms\n",
      "540:\tlearn: 0.1075845\ttotal: 1.02s\tremaining: 869ms\n",
      "541:\tlearn: 0.1074587\ttotal: 1.03s\tremaining: 867ms\n"
     ]
    },
    {
     "name": "stdout",
     "output_type": "stream",
     "text": [
      "542:\tlearn: 0.1073897\ttotal: 1.03s\tremaining: 865ms\n",
      "543:\tlearn: 0.1071186\ttotal: 1.03s\tremaining: 863ms\n",
      "544:\tlearn: 0.1068606\ttotal: 1.03s\tremaining: 861ms\n",
      "545:\tlearn: 0.1065479\ttotal: 1.03s\tremaining: 859ms\n",
      "546:\tlearn: 0.1063182\ttotal: 1.03s\tremaining: 857ms\n",
      "547:\tlearn: 0.1062581\ttotal: 1.04s\tremaining: 855ms\n",
      "548:\tlearn: 0.1059555\ttotal: 1.04s\tremaining: 853ms\n",
      "549:\tlearn: 0.1057943\ttotal: 1.04s\tremaining: 850ms\n",
      "550:\tlearn: 0.1055916\ttotal: 1.04s\tremaining: 848ms\n",
      "551:\tlearn: 0.1054074\ttotal: 1.04s\tremaining: 846ms\n",
      "552:\tlearn: 0.1053400\ttotal: 1.04s\tremaining: 844ms\n",
      "553:\tlearn: 0.1051461\ttotal: 1.04s\tremaining: 841ms\n",
      "554:\tlearn: 0.1049379\ttotal: 1.05s\tremaining: 839ms\n",
      "555:\tlearn: 0.1046913\ttotal: 1.05s\tremaining: 837ms\n",
      "556:\tlearn: 0.1045227\ttotal: 1.05s\tremaining: 835ms\n",
      "557:\tlearn: 0.1043084\ttotal: 1.05s\tremaining: 833ms\n",
      "558:\tlearn: 0.1042555\ttotal: 1.05s\tremaining: 831ms\n",
      "559:\tlearn: 0.1040443\ttotal: 1.05s\tremaining: 828ms\n",
      "560:\tlearn: 0.1038019\ttotal: 1.05s\tremaining: 826ms\n",
      "561:\tlearn: 0.1035003\ttotal: 1.06s\tremaining: 824ms\n",
      "562:\tlearn: 0.1032784\ttotal: 1.06s\tremaining: 822ms\n",
      "563:\tlearn: 0.1030448\ttotal: 1.06s\tremaining: 820ms\n",
      "564:\tlearn: 0.1027888\ttotal: 1.06s\tremaining: 817ms\n",
      "565:\tlearn: 0.1025474\ttotal: 1.06s\tremaining: 815ms\n",
      "566:\tlearn: 0.1023500\ttotal: 1.06s\tremaining: 813ms\n",
      "567:\tlearn: 0.1022885\ttotal: 1.07s\tremaining: 811ms\n",
      "568:\tlearn: 0.1020814\ttotal: 1.07s\tremaining: 809ms\n",
      "569:\tlearn: 0.1019064\ttotal: 1.07s\tremaining: 807ms\n",
      "570:\tlearn: 0.1018634\ttotal: 1.07s\tremaining: 804ms\n",
      "571:\tlearn: 0.1016295\ttotal: 1.07s\tremaining: 802ms\n",
      "572:\tlearn: 0.1013688\ttotal: 1.07s\tremaining: 800ms\n",
      "573:\tlearn: 0.1011591\ttotal: 1.07s\tremaining: 798ms\n",
      "574:\tlearn: 0.1010410\ttotal: 1.08s\tremaining: 796ms\n",
      "575:\tlearn: 0.1008690\ttotal: 1.08s\tremaining: 794ms\n",
      "576:\tlearn: 0.1006609\ttotal: 1.08s\tremaining: 792ms\n",
      "577:\tlearn: 0.1004009\ttotal: 1.08s\tremaining: 789ms\n",
      "578:\tlearn: 0.1002196\ttotal: 1.08s\tremaining: 787ms\n",
      "579:\tlearn: 0.0999874\ttotal: 1.08s\tremaining: 785ms\n",
      "580:\tlearn: 0.0998219\ttotal: 1.08s\tremaining: 783ms\n",
      "581:\tlearn: 0.0995570\ttotal: 1.09s\tremaining: 781ms\n",
      "582:\tlearn: 0.0993880\ttotal: 1.09s\tremaining: 779ms\n",
      "583:\tlearn: 0.0992008\ttotal: 1.09s\tremaining: 777ms\n",
      "584:\tlearn: 0.0989993\ttotal: 1.09s\tremaining: 774ms\n",
      "585:\tlearn: 0.0989242\ttotal: 1.09s\tremaining: 772ms\n",
      "586:\tlearn: 0.0987015\ttotal: 1.09s\tremaining: 770ms\n",
      "587:\tlearn: 0.0984386\ttotal: 1.1s\tremaining: 768ms\n",
      "588:\tlearn: 0.0981812\ttotal: 1.1s\tremaining: 766ms\n",
      "589:\tlearn: 0.0979835\ttotal: 1.1s\tremaining: 764ms\n",
      "590:\tlearn: 0.0977691\ttotal: 1.1s\tremaining: 762ms\n",
      "591:\tlearn: 0.0975735\ttotal: 1.1s\tremaining: 760ms\n",
      "592:\tlearn: 0.0974919\ttotal: 1.1s\tremaining: 758ms\n",
      "593:\tlearn: 0.0973956\ttotal: 1.1s\tremaining: 756ms\n",
      "594:\tlearn: 0.0971960\ttotal: 1.11s\tremaining: 754ms\n",
      "595:\tlearn: 0.0970729\ttotal: 1.11s\tremaining: 751ms\n",
      "596:\tlearn: 0.0968911\ttotal: 1.11s\tremaining: 749ms\n",
      "597:\tlearn: 0.0967008\ttotal: 1.11s\tremaining: 747ms\n",
      "598:\tlearn: 0.0964451\ttotal: 1.11s\tremaining: 745ms\n",
      "599:\tlearn: 0.0962094\ttotal: 1.11s\tremaining: 743ms\n",
      "600:\tlearn: 0.0960651\ttotal: 1.12s\tremaining: 741ms\n",
      "601:\tlearn: 0.0958929\ttotal: 1.12s\tremaining: 739ms\n",
      "602:\tlearn: 0.0957472\ttotal: 1.12s\tremaining: 737ms\n",
      "603:\tlearn: 0.0955280\ttotal: 1.12s\tremaining: 735ms\n",
      "604:\tlearn: 0.0953576\ttotal: 1.12s\tremaining: 733ms\n",
      "605:\tlearn: 0.0951746\ttotal: 1.12s\tremaining: 731ms\n",
      "606:\tlearn: 0.0949495\ttotal: 1.13s\tremaining: 729ms\n",
      "607:\tlearn: 0.0947051\ttotal: 1.13s\tremaining: 727ms\n",
      "608:\tlearn: 0.0945691\ttotal: 1.13s\tremaining: 725ms\n",
      "609:\tlearn: 0.0943992\ttotal: 1.13s\tremaining: 722ms\n",
      "610:\tlearn: 0.0942535\ttotal: 1.13s\tremaining: 720ms\n",
      "611:\tlearn: 0.0940608\ttotal: 1.13s\tremaining: 718ms\n",
      "612:\tlearn: 0.0939728\ttotal: 1.13s\tremaining: 716ms\n",
      "613:\tlearn: 0.0938009\ttotal: 1.14s\tremaining: 714ms\n",
      "614:\tlearn: 0.0936173\ttotal: 1.14s\tremaining: 712ms\n",
      "615:\tlearn: 0.0934802\ttotal: 1.14s\tremaining: 711ms\n",
      "616:\tlearn: 0.0934496\ttotal: 1.14s\tremaining: 709ms\n",
      "617:\tlearn: 0.0932727\ttotal: 1.14s\tremaining: 707ms\n",
      "618:\tlearn: 0.0930418\ttotal: 1.14s\tremaining: 705ms\n",
      "619:\tlearn: 0.0928005\ttotal: 1.15s\tremaining: 703ms\n",
      "620:\tlearn: 0.0926735\ttotal: 1.15s\tremaining: 701ms\n",
      "621:\tlearn: 0.0925584\ttotal: 1.15s\tremaining: 699ms\n",
      "622:\tlearn: 0.0924296\ttotal: 1.15s\tremaining: 697ms\n",
      "623:\tlearn: 0.0922567\ttotal: 1.15s\tremaining: 695ms\n",
      "624:\tlearn: 0.0920281\ttotal: 1.15s\tremaining: 693ms\n",
      "625:\tlearn: 0.0918430\ttotal: 1.16s\tremaining: 691ms\n",
      "626:\tlearn: 0.0916972\ttotal: 1.16s\tremaining: 689ms\n",
      "627:\tlearn: 0.0915444\ttotal: 1.16s\tremaining: 687ms\n",
      "628:\tlearn: 0.0914963\ttotal: 1.16s\tremaining: 685ms\n",
      "629:\tlearn: 0.0914460\ttotal: 1.16s\tremaining: 683ms\n",
      "630:\tlearn: 0.0912486\ttotal: 1.16s\tremaining: 681ms\n",
      "631:\tlearn: 0.0910980\ttotal: 1.17s\tremaining: 679ms\n",
      "632:\tlearn: 0.0909467\ttotal: 1.17s\tremaining: 677ms\n",
      "633:\tlearn: 0.0908389\ttotal: 1.17s\tremaining: 675ms\n",
      "634:\tlearn: 0.0906592\ttotal: 1.17s\tremaining: 673ms\n",
      "635:\tlearn: 0.0905446\ttotal: 1.17s\tremaining: 671ms\n",
      "636:\tlearn: 0.0903872\ttotal: 1.17s\tremaining: 669ms\n",
      "637:\tlearn: 0.0902454\ttotal: 1.18s\tremaining: 667ms\n",
      "638:\tlearn: 0.0901449\ttotal: 1.18s\tremaining: 665ms\n",
      "639:\tlearn: 0.0899035\ttotal: 1.18s\tremaining: 664ms\n",
      "640:\tlearn: 0.0897436\ttotal: 1.18s\tremaining: 662ms\n",
      "641:\tlearn: 0.0895404\ttotal: 1.18s\tremaining: 660ms\n",
      "642:\tlearn: 0.0893704\ttotal: 1.18s\tremaining: 658ms\n",
      "643:\tlearn: 0.0891468\ttotal: 1.19s\tremaining: 657ms\n",
      "644:\tlearn: 0.0890143\ttotal: 1.19s\tremaining: 655ms\n",
      "645:\tlearn: 0.0888547\ttotal: 1.19s\tremaining: 653ms\n",
      "646:\tlearn: 0.0887440\ttotal: 1.19s\tremaining: 652ms\n",
      "647:\tlearn: 0.0885868\ttotal: 1.2s\tremaining: 650ms\n"
     ]
    },
    {
     "name": "stdout",
     "output_type": "stream",
     "text": [
      "648:\tlearn: 0.0883763\ttotal: 1.2s\tremaining: 649ms\n",
      "649:\tlearn: 0.0882646\ttotal: 1.2s\tremaining: 647ms\n",
      "650:\tlearn: 0.0881157\ttotal: 1.2s\tremaining: 646ms\n",
      "651:\tlearn: 0.0879318\ttotal: 1.21s\tremaining: 644ms\n",
      "652:\tlearn: 0.0877687\ttotal: 1.21s\tremaining: 642ms\n",
      "653:\tlearn: 0.0875313\ttotal: 1.21s\tremaining: 641ms\n",
      "654:\tlearn: 0.0873343\ttotal: 1.21s\tremaining: 639ms\n",
      "655:\tlearn: 0.0872289\ttotal: 1.22s\tremaining: 637ms\n",
      "656:\tlearn: 0.0871229\ttotal: 1.22s\tremaining: 636ms\n",
      "657:\tlearn: 0.0869329\ttotal: 1.22s\tremaining: 634ms\n",
      "658:\tlearn: 0.0867240\ttotal: 1.22s\tremaining: 632ms\n",
      "659:\tlearn: 0.0865685\ttotal: 1.22s\tremaining: 630ms\n",
      "660:\tlearn: 0.0864256\ttotal: 1.22s\tremaining: 628ms\n",
      "661:\tlearn: 0.0862713\ttotal: 1.23s\tremaining: 626ms\n",
      "662:\tlearn: 0.0861664\ttotal: 1.23s\tremaining: 624ms\n",
      "663:\tlearn: 0.0861165\ttotal: 1.23s\tremaining: 622ms\n",
      "664:\tlearn: 0.0858899\ttotal: 1.23s\tremaining: 620ms\n",
      "665:\tlearn: 0.0857391\ttotal: 1.23s\tremaining: 618ms\n",
      "666:\tlearn: 0.0855882\ttotal: 1.23s\tremaining: 616ms\n",
      "667:\tlearn: 0.0854317\ttotal: 1.23s\tremaining: 614ms\n",
      "668:\tlearn: 0.0852249\ttotal: 1.24s\tremaining: 612ms\n",
      "669:\tlearn: 0.0851129\ttotal: 1.24s\tremaining: 610ms\n",
      "670:\tlearn: 0.0850033\ttotal: 1.24s\tremaining: 608ms\n",
      "671:\tlearn: 0.0848924\ttotal: 1.24s\tremaining: 606ms\n",
      "672:\tlearn: 0.0847439\ttotal: 1.24s\tremaining: 604ms\n",
      "673:\tlearn: 0.0846178\ttotal: 1.24s\tremaining: 602ms\n",
      "674:\tlearn: 0.0844895\ttotal: 1.25s\tremaining: 600ms\n",
      "675:\tlearn: 0.0842930\ttotal: 1.25s\tremaining: 598ms\n",
      "676:\tlearn: 0.0841149\ttotal: 1.25s\tremaining: 596ms\n",
      "677:\tlearn: 0.0839937\ttotal: 1.25s\tremaining: 594ms\n",
      "678:\tlearn: 0.0838476\ttotal: 1.25s\tremaining: 593ms\n",
      "679:\tlearn: 0.0837298\ttotal: 1.25s\tremaining: 591ms\n",
      "680:\tlearn: 0.0835950\ttotal: 1.26s\tremaining: 589ms\n",
      "681:\tlearn: 0.0834567\ttotal: 1.26s\tremaining: 587ms\n",
      "682:\tlearn: 0.0832826\ttotal: 1.26s\tremaining: 585ms\n",
      "683:\tlearn: 0.0831306\ttotal: 1.26s\tremaining: 583ms\n",
      "684:\tlearn: 0.0829851\ttotal: 1.26s\tremaining: 581ms\n",
      "685:\tlearn: 0.0828329\ttotal: 1.27s\tremaining: 580ms\n",
      "686:\tlearn: 0.0827097\ttotal: 1.27s\tremaining: 578ms\n",
      "687:\tlearn: 0.0825744\ttotal: 1.27s\tremaining: 576ms\n",
      "688:\tlearn: 0.0824105\ttotal: 1.27s\tremaining: 574ms\n",
      "689:\tlearn: 0.0823072\ttotal: 1.27s\tremaining: 572ms\n",
      "690:\tlearn: 0.0821846\ttotal: 1.27s\tremaining: 570ms\n",
      "691:\tlearn: 0.0820459\ttotal: 1.28s\tremaining: 568ms\n",
      "692:\tlearn: 0.0818361\ttotal: 1.28s\tremaining: 566ms\n",
      "693:\tlearn: 0.0816382\ttotal: 1.28s\tremaining: 565ms\n",
      "694:\tlearn: 0.0814628\ttotal: 1.28s\tremaining: 563ms\n",
      "695:\tlearn: 0.0812735\ttotal: 1.28s\tremaining: 561ms\n",
      "696:\tlearn: 0.0810930\ttotal: 1.28s\tremaining: 559ms\n",
      "697:\tlearn: 0.0809634\ttotal: 1.29s\tremaining: 557ms\n",
      "698:\tlearn: 0.0808415\ttotal: 1.29s\tremaining: 555ms\n",
      "699:\tlearn: 0.0806638\ttotal: 1.29s\tremaining: 553ms\n",
      "700:\tlearn: 0.0804602\ttotal: 1.29s\tremaining: 551ms\n",
      "701:\tlearn: 0.0804455\ttotal: 1.29s\tremaining: 549ms\n",
      "702:\tlearn: 0.0802888\ttotal: 1.29s\tremaining: 547ms\n",
      "703:\tlearn: 0.0800551\ttotal: 1.3s\tremaining: 545ms\n",
      "704:\tlearn: 0.0798825\ttotal: 1.3s\tremaining: 543ms\n",
      "705:\tlearn: 0.0797750\ttotal: 1.3s\tremaining: 542ms\n",
      "706:\tlearn: 0.0796212\ttotal: 1.3s\tremaining: 540ms\n",
      "707:\tlearn: 0.0795179\ttotal: 1.31s\tremaining: 543ms\n",
      "708:\tlearn: 0.0793347\ttotal: 1.32s\tremaining: 541ms\n",
      "709:\tlearn: 0.0792407\ttotal: 1.32s\tremaining: 539ms\n",
      "710:\tlearn: 0.0790961\ttotal: 1.32s\tremaining: 537ms\n",
      "711:\tlearn: 0.0789140\ttotal: 1.32s\tremaining: 535ms\n",
      "712:\tlearn: 0.0788160\ttotal: 1.32s\tremaining: 533ms\n",
      "713:\tlearn: 0.0787036\ttotal: 1.32s\tremaining: 531ms\n",
      "714:\tlearn: 0.0785889\ttotal: 1.33s\tremaining: 529ms\n",
      "715:\tlearn: 0.0784189\ttotal: 1.33s\tremaining: 527ms\n",
      "716:\tlearn: 0.0782781\ttotal: 1.33s\tremaining: 525ms\n",
      "717:\tlearn: 0.0780836\ttotal: 1.33s\tremaining: 523ms\n",
      "718:\tlearn: 0.0779195\ttotal: 1.33s\tremaining: 521ms\n",
      "719:\tlearn: 0.0777091\ttotal: 1.33s\tremaining: 519ms\n",
      "720:\tlearn: 0.0775709\ttotal: 1.34s\tremaining: 517ms\n",
      "721:\tlearn: 0.0774333\ttotal: 1.34s\tremaining: 515ms\n",
      "722:\tlearn: 0.0773688\ttotal: 1.34s\tremaining: 513ms\n",
      "723:\tlearn: 0.0773533\ttotal: 1.34s\tremaining: 511ms\n",
      "724:\tlearn: 0.0772486\ttotal: 1.34s\tremaining: 509ms\n",
      "725:\tlearn: 0.0771053\ttotal: 1.34s\tremaining: 508ms\n",
      "726:\tlearn: 0.0769650\ttotal: 1.35s\tremaining: 506ms\n",
      "727:\tlearn: 0.0768190\ttotal: 1.35s\tremaining: 504ms\n",
      "728:\tlearn: 0.0766901\ttotal: 1.35s\tremaining: 502ms\n",
      "729:\tlearn: 0.0765467\ttotal: 1.35s\tremaining: 500ms\n",
      "730:\tlearn: 0.0764755\ttotal: 1.35s\tremaining: 498ms\n",
      "731:\tlearn: 0.0763625\ttotal: 1.35s\tremaining: 496ms\n",
      "732:\tlearn: 0.0762063\ttotal: 1.35s\tremaining: 494ms\n",
      "733:\tlearn: 0.0760896\ttotal: 1.36s\tremaining: 492ms\n",
      "734:\tlearn: 0.0759087\ttotal: 1.36s\tremaining: 490ms\n",
      "735:\tlearn: 0.0757871\ttotal: 1.36s\tremaining: 488ms\n",
      "736:\tlearn: 0.0757007\ttotal: 1.36s\tremaining: 486ms\n",
      "737:\tlearn: 0.0755941\ttotal: 1.36s\tremaining: 484ms\n",
      "738:\tlearn: 0.0755377\ttotal: 1.36s\tremaining: 482ms\n",
      "739:\tlearn: 0.0753626\ttotal: 1.37s\tremaining: 480ms\n"
     ]
    },
    {
     "name": "stdout",
     "output_type": "stream",
     "text": [
      "740:\tlearn: 0.0751608\ttotal: 1.37s\tremaining: 478ms\n",
      "741:\tlearn: 0.0750284\ttotal: 1.37s\tremaining: 477ms\n",
      "742:\tlearn: 0.0749156\ttotal: 1.37s\tremaining: 475ms\n",
      "743:\tlearn: 0.0748601\ttotal: 1.37s\tremaining: 473ms\n",
      "744:\tlearn: 0.0748015\ttotal: 1.38s\tremaining: 471ms\n",
      "745:\tlearn: 0.0747103\ttotal: 1.38s\tremaining: 469ms\n",
      "746:\tlearn: 0.0745878\ttotal: 1.38s\tremaining: 467ms\n",
      "747:\tlearn: 0.0743918\ttotal: 1.38s\tremaining: 465ms\n",
      "748:\tlearn: 0.0742043\ttotal: 1.38s\tremaining: 463ms\n",
      "749:\tlearn: 0.0740753\ttotal: 1.38s\tremaining: 461ms\n",
      "750:\tlearn: 0.0739501\ttotal: 1.39s\tremaining: 459ms\n",
      "751:\tlearn: 0.0738124\ttotal: 1.39s\tremaining: 457ms\n",
      "752:\tlearn: 0.0736186\ttotal: 1.39s\tremaining: 456ms\n",
      "753:\tlearn: 0.0735077\ttotal: 1.39s\tremaining: 454ms\n",
      "754:\tlearn: 0.0734216\ttotal: 1.39s\tremaining: 452ms\n",
      "755:\tlearn: 0.0732299\ttotal: 1.39s\tremaining: 450ms\n",
      "756:\tlearn: 0.0730973\ttotal: 1.4s\tremaining: 448ms\n",
      "757:\tlearn: 0.0729561\ttotal: 1.4s\tremaining: 446ms\n",
      "758:\tlearn: 0.0728159\ttotal: 1.4s\tremaining: 444ms\n",
      "759:\tlearn: 0.0726597\ttotal: 1.4s\tremaining: 442ms\n",
      "760:\tlearn: 0.0725574\ttotal: 1.4s\tremaining: 440ms\n",
      "761:\tlearn: 0.0725457\ttotal: 1.4s\tremaining: 439ms\n",
      "762:\tlearn: 0.0725272\ttotal: 1.41s\tremaining: 437ms\n",
      "763:\tlearn: 0.0723768\ttotal: 1.41s\tremaining: 435ms\n",
      "764:\tlearn: 0.0722582\ttotal: 1.41s\tremaining: 433ms\n",
      "765:\tlearn: 0.0722199\ttotal: 1.41s\tremaining: 431ms\n",
      "766:\tlearn: 0.0721349\ttotal: 1.41s\tremaining: 429ms\n",
      "767:\tlearn: 0.0721138\ttotal: 1.41s\tremaining: 427ms\n",
      "768:\tlearn: 0.0719781\ttotal: 1.42s\tremaining: 425ms\n",
      "769:\tlearn: 0.0718231\ttotal: 1.42s\tremaining: 423ms\n",
      "770:\tlearn: 0.0717360\ttotal: 1.42s\tremaining: 421ms\n",
      "771:\tlearn: 0.0716650\ttotal: 1.42s\tremaining: 419ms\n",
      "772:\tlearn: 0.0715796\ttotal: 1.42s\tremaining: 417ms\n",
      "773:\tlearn: 0.0715315\ttotal: 1.42s\tremaining: 416ms\n",
      "774:\tlearn: 0.0713547\ttotal: 1.42s\tremaining: 414ms\n",
      "775:\tlearn: 0.0712389\ttotal: 1.43s\tremaining: 412ms\n",
      "776:\tlearn: 0.0710803\ttotal: 1.43s\tremaining: 410ms\n",
      "777:\tlearn: 0.0709573\ttotal: 1.43s\tremaining: 408ms\n",
      "778:\tlearn: 0.0709129\ttotal: 1.43s\tremaining: 406ms\n",
      "779:\tlearn: 0.0708278\ttotal: 1.43s\tremaining: 404ms\n",
      "780:\tlearn: 0.0707547\ttotal: 1.43s\tremaining: 402ms\n",
      "781:\tlearn: 0.0706446\ttotal: 1.44s\tremaining: 400ms\n",
      "782:\tlearn: 0.0704895\ttotal: 1.44s\tremaining: 398ms\n",
      "783:\tlearn: 0.0703387\ttotal: 1.44s\tremaining: 396ms\n",
      "784:\tlearn: 0.0702143\ttotal: 1.44s\tremaining: 395ms\n",
      "785:\tlearn: 0.0701792\ttotal: 1.44s\tremaining: 393ms\n",
      "786:\tlearn: 0.0700486\ttotal: 1.44s\tremaining: 391ms\n",
      "787:\tlearn: 0.0698134\ttotal: 1.45s\tremaining: 389ms\n",
      "788:\tlearn: 0.0696842\ttotal: 1.45s\tremaining: 387ms\n",
      "789:\tlearn: 0.0696024\ttotal: 1.45s\tremaining: 385ms\n",
      "790:\tlearn: 0.0695104\ttotal: 1.45s\tremaining: 383ms\n",
      "791:\tlearn: 0.0694269\ttotal: 1.45s\tremaining: 381ms\n",
      "792:\tlearn: 0.0692907\ttotal: 1.45s\tremaining: 380ms\n",
      "793:\tlearn: 0.0692112\ttotal: 1.46s\tremaining: 378ms\n",
      "794:\tlearn: 0.0691977\ttotal: 1.46s\tremaining: 376ms\n",
      "795:\tlearn: 0.0690995\ttotal: 1.46s\tremaining: 374ms\n",
      "796:\tlearn: 0.0689846\ttotal: 1.46s\tremaining: 372ms\n",
      "797:\tlearn: 0.0688827\ttotal: 1.46s\tremaining: 370ms\n",
      "798:\tlearn: 0.0687098\ttotal: 1.46s\tremaining: 368ms\n",
      "799:\tlearn: 0.0686682\ttotal: 1.46s\tremaining: 366ms\n",
      "800:\tlearn: 0.0686440\ttotal: 1.47s\tremaining: 364ms\n",
      "801:\tlearn: 0.0685408\ttotal: 1.47s\tremaining: 363ms\n",
      "802:\tlearn: 0.0684081\ttotal: 1.47s\tremaining: 361ms\n",
      "803:\tlearn: 0.0682622\ttotal: 1.47s\tremaining: 359ms\n",
      "804:\tlearn: 0.0681379\ttotal: 1.47s\tremaining: 357ms\n",
      "805:\tlearn: 0.0681232\ttotal: 1.47s\tremaining: 355ms\n",
      "806:\tlearn: 0.0679948\ttotal: 1.48s\tremaining: 353ms\n",
      "807:\tlearn: 0.0679802\ttotal: 1.48s\tremaining: 351ms\n",
      "808:\tlearn: 0.0678857\ttotal: 1.48s\tremaining: 349ms\n",
      "809:\tlearn: 0.0677192\ttotal: 1.48s\tremaining: 347ms\n",
      "810:\tlearn: 0.0677070\ttotal: 1.48s\tremaining: 346ms\n",
      "811:\tlearn: 0.0676359\ttotal: 1.49s\tremaining: 344ms\n",
      "812:\tlearn: 0.0675618\ttotal: 1.49s\tremaining: 342ms\n",
      "813:\tlearn: 0.0674392\ttotal: 1.49s\tremaining: 340ms\n",
      "814:\tlearn: 0.0673648\ttotal: 1.49s\tremaining: 338ms\n",
      "815:\tlearn: 0.0672670\ttotal: 1.49s\tremaining: 336ms\n",
      "816:\tlearn: 0.0671064\ttotal: 1.49s\tremaining: 335ms\n",
      "817:\tlearn: 0.0669626\ttotal: 1.5s\tremaining: 333ms\n",
      "818:\tlearn: 0.0668832\ttotal: 1.5s\tremaining: 331ms\n",
      "819:\tlearn: 0.0667441\ttotal: 1.5s\tremaining: 329ms\n",
      "820:\tlearn: 0.0665899\ttotal: 1.5s\tremaining: 327ms\n",
      "821:\tlearn: 0.0664199\ttotal: 1.5s\tremaining: 325ms\n",
      "822:\tlearn: 0.0663360\ttotal: 1.5s\tremaining: 323ms\n",
      "823:\tlearn: 0.0662705\ttotal: 1.5s\tremaining: 322ms\n",
      "824:\tlearn: 0.0661738\ttotal: 1.51s\tremaining: 320ms\n",
      "825:\tlearn: 0.0660910\ttotal: 1.51s\tremaining: 318ms\n",
      "826:\tlearn: 0.0659479\ttotal: 1.51s\tremaining: 316ms\n",
      "827:\tlearn: 0.0658596\ttotal: 1.51s\tremaining: 314ms\n",
      "828:\tlearn: 0.0658201\ttotal: 1.51s\tremaining: 312ms\n",
      "829:\tlearn: 0.0656935\ttotal: 1.51s\tremaining: 310ms\n",
      "830:\tlearn: 0.0655552\ttotal: 1.52s\tremaining: 308ms\n",
      "831:\tlearn: 0.0654753\ttotal: 1.52s\tremaining: 307ms\n",
      "832:\tlearn: 0.0654449\ttotal: 1.52s\tremaining: 305ms\n",
      "833:\tlearn: 0.0653272\ttotal: 1.52s\tremaining: 303ms\n",
      "834:\tlearn: 0.0652758\ttotal: 1.52s\tremaining: 301ms\n",
      "835:\tlearn: 0.0650747\ttotal: 1.52s\tremaining: 299ms\n",
      "836:\tlearn: 0.0649218\ttotal: 1.53s\tremaining: 297ms\n",
      "837:\tlearn: 0.0647557\ttotal: 1.53s\tremaining: 295ms\n",
      "838:\tlearn: 0.0647057\ttotal: 1.53s\tremaining: 294ms\n",
      "839:\tlearn: 0.0645894\ttotal: 1.53s\tremaining: 292ms\n",
      "840:\tlearn: 0.0645057\ttotal: 1.53s\tremaining: 290ms\n",
      "841:\tlearn: 0.0644374\ttotal: 1.53s\tremaining: 288ms\n",
      "842:\tlearn: 0.0643617\ttotal: 1.54s\tremaining: 286ms\n",
      "843:\tlearn: 0.0643123\ttotal: 1.54s\tremaining: 284ms\n",
      "844:\tlearn: 0.0642433\ttotal: 1.54s\tremaining: 282ms\n"
     ]
    },
    {
     "name": "stdout",
     "output_type": "stream",
     "text": [
      "845:\tlearn: 0.0641748\ttotal: 1.54s\tremaining: 281ms\n",
      "846:\tlearn: 0.0640290\ttotal: 1.54s\tremaining: 279ms\n",
      "847:\tlearn: 0.0638890\ttotal: 1.54s\tremaining: 277ms\n",
      "848:\tlearn: 0.0638349\ttotal: 1.55s\tremaining: 275ms\n",
      "849:\tlearn: 0.0637536\ttotal: 1.55s\tremaining: 273ms\n",
      "850:\tlearn: 0.0637411\ttotal: 1.55s\tremaining: 271ms\n",
      "851:\tlearn: 0.0636789\ttotal: 1.55s\tremaining: 269ms\n",
      "852:\tlearn: 0.0636155\ttotal: 1.55s\tremaining: 268ms\n",
      "853:\tlearn: 0.0635401\ttotal: 1.55s\tremaining: 266ms\n",
      "854:\tlearn: 0.0634584\ttotal: 1.56s\tremaining: 264ms\n",
      "855:\tlearn: 0.0633568\ttotal: 1.56s\tremaining: 262ms\n",
      "856:\tlearn: 0.0632736\ttotal: 1.56s\tremaining: 260ms\n",
      "857:\tlearn: 0.0631833\ttotal: 1.56s\tremaining: 258ms\n",
      "858:\tlearn: 0.0630795\ttotal: 1.56s\tremaining: 257ms\n",
      "859:\tlearn: 0.0630261\ttotal: 1.56s\tremaining: 255ms\n",
      "860:\tlearn: 0.0629710\ttotal: 1.57s\tremaining: 253ms\n",
      "861:\tlearn: 0.0628883\ttotal: 1.57s\tremaining: 251ms\n",
      "862:\tlearn: 0.0627246\ttotal: 1.57s\tremaining: 249ms\n",
      "863:\tlearn: 0.0626032\ttotal: 1.57s\tremaining: 247ms\n",
      "864:\tlearn: 0.0625059\ttotal: 1.57s\tremaining: 245ms\n",
      "865:\tlearn: 0.0624934\ttotal: 1.57s\tremaining: 244ms\n",
      "866:\tlearn: 0.0623640\ttotal: 1.57s\tremaining: 242ms\n",
      "867:\tlearn: 0.0622751\ttotal: 1.58s\tremaining: 240ms\n",
      "868:\tlearn: 0.0621865\ttotal: 1.58s\tremaining: 238ms\n",
      "869:\tlearn: 0.0621054\ttotal: 1.58s\tremaining: 236ms\n",
      "870:\tlearn: 0.0620653\ttotal: 1.58s\tremaining: 234ms\n",
      "871:\tlearn: 0.0619150\ttotal: 1.58s\tremaining: 233ms\n",
      "872:\tlearn: 0.0618010\ttotal: 1.58s\tremaining: 231ms\n",
      "873:\tlearn: 0.0616871\ttotal: 1.59s\tremaining: 229ms\n",
      "874:\tlearn: 0.0615498\ttotal: 1.59s\tremaining: 227ms\n",
      "875:\tlearn: 0.0614193\ttotal: 1.59s\tremaining: 225ms\n",
      "876:\tlearn: 0.0613871\ttotal: 1.59s\tremaining: 223ms\n",
      "877:\tlearn: 0.0612500\ttotal: 1.59s\tremaining: 221ms\n",
      "878:\tlearn: 0.0611433\ttotal: 1.59s\tremaining: 220ms\n",
      "879:\tlearn: 0.0610812\ttotal: 1.6s\tremaining: 218ms\n",
      "880:\tlearn: 0.0609332\ttotal: 1.6s\tremaining: 216ms\n",
      "881:\tlearn: 0.0608188\ttotal: 1.6s\tremaining: 214ms\n",
      "882:\tlearn: 0.0607276\ttotal: 1.6s\tremaining: 212ms\n",
      "883:\tlearn: 0.0606050\ttotal: 1.6s\tremaining: 210ms\n",
      "884:\tlearn: 0.0604579\ttotal: 1.6s\tremaining: 209ms\n",
      "885:\tlearn: 0.0603871\ttotal: 1.61s\tremaining: 207ms\n",
      "886:\tlearn: 0.0602205\ttotal: 1.61s\tremaining: 205ms\n",
      "887:\tlearn: 0.0601000\ttotal: 1.61s\tremaining: 203ms\n",
      "888:\tlearn: 0.0599943\ttotal: 1.61s\tremaining: 201ms\n",
      "889:\tlearn: 0.0598691\ttotal: 1.61s\tremaining: 200ms\n",
      "890:\tlearn: 0.0597512\ttotal: 1.62s\tremaining: 198ms\n",
      "891:\tlearn: 0.0596544\ttotal: 1.62s\tremaining: 196ms\n",
      "892:\tlearn: 0.0596409\ttotal: 1.62s\tremaining: 194ms\n",
      "893:\tlearn: 0.0596011\ttotal: 1.62s\tremaining: 192ms\n",
      "894:\tlearn: 0.0595802\ttotal: 1.62s\tremaining: 190ms\n",
      "895:\tlearn: 0.0595691\ttotal: 1.63s\tremaining: 189ms\n",
      "896:\tlearn: 0.0594406\ttotal: 1.63s\tremaining: 187ms\n",
      "897:\tlearn: 0.0593229\ttotal: 1.63s\tremaining: 185ms\n",
      "898:\tlearn: 0.0593125\ttotal: 1.63s\tremaining: 183ms\n",
      "899:\tlearn: 0.0592529\ttotal: 1.63s\tremaining: 181ms\n",
      "900:\tlearn: 0.0590851\ttotal: 1.63s\tremaining: 180ms\n",
      "901:\tlearn: 0.0590201\ttotal: 1.64s\tremaining: 178ms\n",
      "902:\tlearn: 0.0589212\ttotal: 1.64s\tremaining: 176ms\n",
      "903:\tlearn: 0.0588295\ttotal: 1.64s\tremaining: 174ms\n",
      "904:\tlearn: 0.0588179\ttotal: 1.64s\tremaining: 172ms\n",
      "905:\tlearn: 0.0587541\ttotal: 1.64s\tremaining: 171ms\n",
      "906:\tlearn: 0.0586424\ttotal: 1.65s\tremaining: 169ms\n",
      "907:\tlearn: 0.0586036\ttotal: 1.65s\tremaining: 167ms\n",
      "908:\tlearn: 0.0584959\ttotal: 1.65s\tremaining: 165ms\n",
      "909:\tlearn: 0.0583873\ttotal: 1.65s\tremaining: 163ms\n",
      "910:\tlearn: 0.0582834\ttotal: 1.65s\tremaining: 161ms\n",
      "911:\tlearn: 0.0582144\ttotal: 1.65s\tremaining: 160ms\n",
      "912:\tlearn: 0.0581306\ttotal: 1.66s\tremaining: 158ms\n",
      "913:\tlearn: 0.0581132\ttotal: 1.66s\tremaining: 156ms\n",
      "914:\tlearn: 0.0580466\ttotal: 1.66s\tremaining: 154ms\n",
      "915:\tlearn: 0.0579792\ttotal: 1.66s\tremaining: 152ms\n",
      "916:\tlearn: 0.0578809\ttotal: 1.66s\tremaining: 150ms\n",
      "917:\tlearn: 0.0577486\ttotal: 1.66s\tremaining: 149ms\n",
      "918:\tlearn: 0.0577059\ttotal: 1.67s\tremaining: 147ms\n",
      "919:\tlearn: 0.0576030\ttotal: 1.67s\tremaining: 145ms\n",
      "920:\tlearn: 0.0574774\ttotal: 1.67s\tremaining: 143ms\n",
      "921:\tlearn: 0.0573610\ttotal: 1.67s\tremaining: 141ms\n",
      "922:\tlearn: 0.0572446\ttotal: 1.67s\tremaining: 139ms\n",
      "923:\tlearn: 0.0571704\ttotal: 1.67s\tremaining: 138ms\n",
      "924:\tlearn: 0.0571132\ttotal: 1.68s\tremaining: 136ms\n",
      "925:\tlearn: 0.0570139\ttotal: 1.68s\tremaining: 134ms\n",
      "926:\tlearn: 0.0569611\ttotal: 1.68s\tremaining: 132ms\n",
      "927:\tlearn: 0.0568520\ttotal: 1.68s\tremaining: 130ms\n",
      "928:\tlearn: 0.0567247\ttotal: 1.68s\tremaining: 129ms\n",
      "929:\tlearn: 0.0566869\ttotal: 1.68s\tremaining: 127ms\n",
      "930:\tlearn: 0.0566469\ttotal: 1.69s\tremaining: 125ms\n",
      "931:\tlearn: 0.0565021\ttotal: 1.69s\tremaining: 123ms\n",
      "932:\tlearn: 0.0563946\ttotal: 1.69s\tremaining: 121ms\n",
      "933:\tlearn: 0.0563648\ttotal: 1.69s\tremaining: 119ms\n",
      "934:\tlearn: 0.0562734\ttotal: 1.69s\tremaining: 118ms\n",
      "935:\tlearn: 0.0562017\ttotal: 1.69s\tremaining: 116ms\n",
      "936:\tlearn: 0.0561321\ttotal: 1.7s\tremaining: 114ms\n",
      "937:\tlearn: 0.0560400\ttotal: 1.7s\tremaining: 112ms\n",
      "938:\tlearn: 0.0559325\ttotal: 1.7s\tremaining: 110ms\n",
      "939:\tlearn: 0.0558533\ttotal: 1.7s\tremaining: 109ms\n",
      "940:\tlearn: 0.0557936\ttotal: 1.7s\tremaining: 107ms\n",
      "941:\tlearn: 0.0556870\ttotal: 1.7s\tremaining: 105ms\n",
      "942:\tlearn: 0.0555668\ttotal: 1.7s\tremaining: 103ms\n",
      "943:\tlearn: 0.0554425\ttotal: 1.71s\tremaining: 101ms\n",
      "944:\tlearn: 0.0554338\ttotal: 1.71s\tremaining: 99.4ms\n"
     ]
    },
    {
     "name": "stdout",
     "output_type": "stream",
     "text": [
      "945:\tlearn: 0.0554060\ttotal: 1.71s\tremaining: 97.6ms\n",
      "946:\tlearn: 0.0552995\ttotal: 1.71s\tremaining: 95.8ms\n",
      "947:\tlearn: 0.0551644\ttotal: 1.71s\tremaining: 94ms\n",
      "948:\tlearn: 0.0551062\ttotal: 1.72s\tremaining: 92.2ms\n",
      "949:\tlearn: 0.0549857\ttotal: 1.72s\tremaining: 90.3ms\n",
      "950:\tlearn: 0.0549782\ttotal: 1.72s\tremaining: 88.5ms\n",
      "951:\tlearn: 0.0549355\ttotal: 1.72s\tremaining: 86.7ms\n",
      "952:\tlearn: 0.0549270\ttotal: 1.72s\tremaining: 84.9ms\n",
      "953:\tlearn: 0.0548940\ttotal: 1.72s\tremaining: 83.1ms\n",
      "954:\tlearn: 0.0548831\ttotal: 1.72s\tremaining: 81.3ms\n",
      "955:\tlearn: 0.0547712\ttotal: 1.73s\tremaining: 79.5ms\n",
      "956:\tlearn: 0.0547349\ttotal: 1.73s\tremaining: 77.6ms\n",
      "957:\tlearn: 0.0546789\ttotal: 1.73s\tremaining: 75.8ms\n",
      "958:\tlearn: 0.0546013\ttotal: 1.73s\tremaining: 74ms\n",
      "959:\tlearn: 0.0545230\ttotal: 1.73s\tremaining: 72.2ms\n",
      "960:\tlearn: 0.0544184\ttotal: 1.74s\tremaining: 70.4ms\n",
      "961:\tlearn: 0.0543253\ttotal: 1.74s\tremaining: 68.6ms\n",
      "962:\tlearn: 0.0543019\ttotal: 1.74s\tremaining: 66.8ms\n",
      "963:\tlearn: 0.0541940\ttotal: 1.74s\tremaining: 65ms\n",
      "964:\tlearn: 0.0540994\ttotal: 1.74s\tremaining: 63.2ms\n",
      "965:\tlearn: 0.0539879\ttotal: 1.74s\tremaining: 61.4ms\n",
      "966:\tlearn: 0.0538883\ttotal: 1.74s\tremaining: 59.5ms\n",
      "967:\tlearn: 0.0538137\ttotal: 1.75s\tremaining: 57.7ms\n",
      "968:\tlearn: 0.0537427\ttotal: 1.75s\tremaining: 55.9ms\n",
      "969:\tlearn: 0.0537321\ttotal: 1.75s\tremaining: 54.1ms\n",
      "970:\tlearn: 0.0536994\ttotal: 1.75s\tremaining: 52.3ms\n",
      "971:\tlearn: 0.0535889\ttotal: 1.75s\tremaining: 50.5ms\n",
      "972:\tlearn: 0.0535696\ttotal: 1.75s\tremaining: 48.7ms\n",
      "973:\tlearn: 0.0535057\ttotal: 1.76s\tremaining: 46.9ms\n",
      "974:\tlearn: 0.0534804\ttotal: 1.76s\tremaining: 45.1ms\n",
      "975:\tlearn: 0.0534156\ttotal: 1.76s\tremaining: 43.3ms\n",
      "976:\tlearn: 0.0532882\ttotal: 1.76s\tremaining: 41.5ms\n",
      "977:\tlearn: 0.0531789\ttotal: 1.76s\tremaining: 39.7ms\n",
      "978:\tlearn: 0.0530842\ttotal: 1.76s\tremaining: 37.9ms\n",
      "979:\tlearn: 0.0529705\ttotal: 1.77s\tremaining: 36ms\n",
      "980:\tlearn: 0.0529484\ttotal: 1.77s\tremaining: 34.2ms\n",
      "981:\tlearn: 0.0528656\ttotal: 1.77s\tremaining: 32.4ms\n",
      "982:\tlearn: 0.0527946\ttotal: 1.77s\tremaining: 30.6ms\n",
      "983:\tlearn: 0.0526848\ttotal: 1.77s\tremaining: 28.8ms\n",
      "984:\tlearn: 0.0525888\ttotal: 1.77s\tremaining: 27ms\n",
      "985:\tlearn: 0.0524961\ttotal: 1.78s\tremaining: 25.2ms\n",
      "986:\tlearn: 0.0523935\ttotal: 1.78s\tremaining: 23.4ms\n",
      "987:\tlearn: 0.0523358\ttotal: 1.78s\tremaining: 21.6ms\n",
      "988:\tlearn: 0.0522911\ttotal: 1.78s\tremaining: 19.8ms\n",
      "989:\tlearn: 0.0522500\ttotal: 1.78s\tremaining: 18ms\n",
      "990:\tlearn: 0.0522183\ttotal: 1.78s\tremaining: 16.2ms\n",
      "991:\tlearn: 0.0521280\ttotal: 1.79s\tremaining: 14.4ms\n",
      "992:\tlearn: 0.0520828\ttotal: 1.79s\tremaining: 12.6ms\n",
      "993:\tlearn: 0.0520629\ttotal: 1.79s\tremaining: 10.8ms\n",
      "994:\tlearn: 0.0519690\ttotal: 1.79s\tremaining: 9ms\n",
      "995:\tlearn: 0.0518899\ttotal: 1.79s\tremaining: 7.2ms\n",
      "996:\tlearn: 0.0518369\ttotal: 1.79s\tremaining: 5.4ms\n",
      "997:\tlearn: 0.0517342\ttotal: 1.8s\tremaining: 3.6ms\n",
      "998:\tlearn: 0.0516304\ttotal: 1.8s\tremaining: 1.8ms\n",
      "999:\tlearn: 0.0515130\ttotal: 1.8s\tremaining: 0us\n",
      "Mean Squared error 0.08126256265591283\n"
     ]
    }
   ],
   "source": [
    "mse_cb = baselineModels.catboost(X_train,y_train,X_test,y_test)"
   ]
  },
  {
   "cell_type": "markdown",
   "id": "5730d0df",
   "metadata": {
    "papermill": {
     "duration": 0.176003,
     "end_time": "2021-11-27T06:29:44.887193",
     "exception": false,
     "start_time": "2021-11-27T06:29:44.711190",
     "status": "completed"
    },
    "tags": []
   },
   "source": [
    "## Common Training Parameters (Vanilla NN & GAN & ABC_GAN) "
   ]
  },
  {
   "cell_type": "code",
   "execution_count": 10,
   "id": "952b7fc8",
   "metadata": {
    "execution": {
     "iopub.execute_input": "2021-11-27T06:29:46.387680Z",
     "iopub.status.busy": "2021-11-27T06:29:46.387680Z",
     "iopub.status.idle": "2021-11-27T06:29:46.391680Z",
     "shell.execute_reply": "2021-11-27T06:29:46.391680Z"
    },
    "papermill": {
     "duration": 1.333351,
     "end_time": "2021-11-27T06:29:46.391680",
     "exception": false,
     "start_time": "2021-11-27T06:29:45.058329",
     "status": "completed"
    },
    "tags": []
   },
   "outputs": [],
   "source": [
    "threshold_mse = mse_cb\n",
    "batch_size = 100\n",
    "#Select the device \n",
    "device = torch.device('cuda' if torch.cuda.is_available() else 'cpu')"
   ]
  },
  {
   "cell_type": "code",
   "execution_count": null,
   "id": "e131d7d8",
   "metadata": {
    "papermill": {
     "duration": null,
     "end_time": null,
     "exception": null,
     "start_time": null,
     "status": "pending"
    },
    "tags": []
   },
   "outputs": [],
   "source": [
    "# Train test split for dataset \n",
    "real_dataset = dataset.CustomDataset(X,Y)\n",
    "train_size = round(0.8 * n_samples)\n",
    "test_size = n_samples - train_size\n",
    "train_data, test_data = random_split(real_dataset,[train_size,test_size])"
   ]
  },
  {
   "cell_type": "markdown",
   "id": "c2eab2ad",
   "metadata": {
    "papermill": {
     "duration": null,
     "end_time": null,
     "exception": null,
     "start_time": null,
     "status": "pending"
    },
    "tags": []
   },
   "source": [
    "## Vanilla Neural Network "
   ]
  },
  {
   "cell_type": "code",
   "execution_count": null,
   "id": "fe715b9e",
   "metadata": {
    "papermill": {
     "duration": null,
     "end_time": null,
     "exception": null,
     "start_time": null,
     "status": "pending"
    },
    "tags": []
   },
   "outputs": [],
   "source": [
    "baselineModels.vanillaNeuralNetwork(train_data,test_data,batch_size,n_features,n_target,n_epochs)"
   ]
  },
  {
   "cell_type": "markdown",
   "id": "c42f28b9",
   "metadata": {
    "papermill": {
     "duration": null,
     "end_time": null,
     "exception": null,
     "start_time": null,
     "status": "pending"
    },
    "tags": []
   },
   "source": [
    "## GAN Model"
   ]
  },
  {
   "cell_type": "markdown",
   "id": "110f905d",
   "metadata": {
    "papermill": {
     "duration": null,
     "end_time": null,
     "exception": null,
     "start_time": null,
     "status": "pending"
    },
    "tags": []
   },
   "source": [
    "**Training GAN for n_epochs number of epochs** "
   ]
  },
  {
   "cell_type": "code",
   "execution_count": null,
   "id": "ad4645eb",
   "metadata": {
    "papermill": {
     "duration": null,
     "end_time": null,
     "exception": null,
     "start_time": null,
     "status": "pending"
    },
    "tags": []
   },
   "outputs": [],
   "source": [
    "generator = network.Generator(n_features+1).to(device)\n",
    "discriminator = network.Discriminator(n_features+1).to(device)\n",
    "\n",
    "criterion = torch.nn.BCELoss()\n",
    "gen_opt = torch.optim.Adam(generator.parameters(), lr=0.01, betas=(0.5, 0.999))\n",
    "disc_opt = torch.optim.Adam(discriminator.parameters(), lr=0.01, betas=(0.5, 0.999))"
   ]
  },
  {
   "cell_type": "code",
   "execution_count": null,
   "id": "8a479c2f",
   "metadata": {
    "papermill": {
     "duration": null,
     "end_time": null,
     "exception": null,
     "start_time": null,
     "status": "pending"
    },
    "tags": []
   },
   "outputs": [],
   "source": [
    "print(generator)\n",
    "print(discriminator)"
   ]
  },
  {
   "cell_type": "code",
   "execution_count": null,
   "id": "0b0246ee",
   "metadata": {
    "papermill": {
     "duration": null,
     "end_time": null,
     "exception": null,
     "start_time": null,
     "status": "pending"
    },
    "tags": []
   },
   "outputs": [],
   "source": [
    "discLossG1,genLossG1 = train_test.training_GAN(discriminator,generator,disc_opt,gen_opt,train_data,batch_size, n_epochs,criterion,device)"
   ]
  },
  {
   "cell_type": "code",
   "execution_count": null,
   "id": "673b2f62",
   "metadata": {
    "papermill": {
     "duration": null,
     "end_time": null,
     "exception": null,
     "start_time": null,
     "status": "pending"
    },
    "tags": []
   },
   "outputs": [],
   "source": [
    "GAN1_metrics = train_test.test_generator(generator,test_data,device)"
   ]
  },
  {
   "cell_type": "code",
   "execution_count": null,
   "id": "eeee3d98",
   "metadata": {
    "papermill": {
     "duration": null,
     "end_time": null,
     "exception": null,
     "start_time": null,
     "status": "pending"
    },
    "tags": []
   },
   "outputs": [],
   "source": [
    "sanityChecks.discProbVsError(real_dataset,discriminator,device)"
   ]
  },
  {
   "cell_type": "markdown",
   "id": "c9d0727e",
   "metadata": {
    "papermill": {
     "duration": null,
     "end_time": null,
     "exception": null,
     "start_time": null,
     "status": "pending"
    },
    "tags": []
   },
   "source": [
    "**Training GAN until mse of y_pred is > baseline_mse or n_epochs < 5000**"
   ]
  },
  {
   "cell_type": "code",
   "execution_count": null,
   "id": "72b58352",
   "metadata": {
    "papermill": {
     "duration": null,
     "end_time": null,
     "exception": null,
     "start_time": null,
     "status": "pending"
    },
    "tags": []
   },
   "outputs": [],
   "source": [
    "generator2 = network.Generator(n_features+1).to(device)\n",
    "discriminator2 = network.Discriminator(n_features+1).to(device)\n",
    "criterion = torch.nn.BCELoss()\n",
    "gen_opt = torch.optim.Adam(generator2.parameters(), lr=0.01, betas=(0.5, 0.999))\n",
    "disc_opt = torch.optim.Adam(discriminator2.parameters(), lr=0.01, betas=(0.5, 0.999))"
   ]
  },
  {
   "cell_type": "code",
   "execution_count": null,
   "id": "59ce63df",
   "metadata": {
    "papermill": {
     "duration": null,
     "end_time": null,
     "exception": null,
     "start_time": null,
     "status": "pending"
    },
    "tags": []
   },
   "outputs": [],
   "source": [
    "discLossG2,genLossG2 = train_test.training_GAN_2(discriminator2,generator2,disc_opt,gen_opt,train_data,test_data,batch_size,threshold_mse,criterion,device)"
   ]
  },
  {
   "cell_type": "code",
   "execution_count": null,
   "id": "edc7310a",
   "metadata": {
    "papermill": {
     "duration": null,
     "end_time": null,
     "exception": null,
     "start_time": null,
     "status": "pending"
    },
    "tags": []
   },
   "outputs": [],
   "source": [
    "GAN2_metrics=train_test.test_generator_2(generator2,test_data,device)"
   ]
  },
  {
   "cell_type": "code",
   "execution_count": null,
   "id": "579473ee",
   "metadata": {
    "papermill": {
     "duration": null,
     "end_time": null,
     "exception": null,
     "start_time": null,
     "status": "pending"
    },
    "tags": []
   },
   "outputs": [],
   "source": [
    "sanityChecks.discProbVsError(real_dataset,discriminator2,device)"
   ]
  },
  {
   "cell_type": "markdown",
   "id": "0cd0def6",
   "metadata": {
    "papermill": {
     "duration": null,
     "end_time": null,
     "exception": null,
     "start_time": null,
     "status": "pending"
    },
    "tags": []
   },
   "source": [
    "# ABC GAN Model"
   ]
  },
  {
   "cell_type": "markdown",
   "id": "70beaf4c",
   "metadata": {
    "papermill": {
     "duration": null,
     "end_time": null,
     "exception": null,
     "start_time": null,
     "status": "pending"
    },
    "tags": []
   },
   "source": [
    "### Training the network\n",
    "**Training ABC-GAN for n_epochs number of epochs** "
   ]
  },
  {
   "cell_type": "code",
   "execution_count": null,
   "id": "dbaaafa1",
   "metadata": {
    "papermill": {
     "duration": null,
     "end_time": null,
     "exception": null,
     "start_time": null,
     "status": "pending"
    },
    "tags": []
   },
   "outputs": [],
   "source": [
    "gen = network.Generator(n_features+1).to(device)\n",
    "disc = network.Discriminator(n_features+1).to(device)\n",
    "\n",
    "criterion = torch.nn.BCELoss()\n",
    "gen_opt = torch.optim.Adam(gen.parameters(), lr=0.01, betas=(0.5, 0.999))\n",
    "disc_opt = torch.optim.Adam(disc.parameters(), lr=0.01, betas=(0.5, 0.999))"
   ]
  },
  {
   "cell_type": "code",
   "execution_count": null,
   "id": "111c67b8",
   "metadata": {
    "papermill": {
     "duration": null,
     "end_time": null,
     "exception": null,
     "start_time": null,
     "status": "pending"
    },
    "tags": []
   },
   "outputs": [],
   "source": [
    "discLossA1,genLossA1 = ABC_train_test.training_GAN(disc, gen,disc_opt,gen_opt,train_data,batch_size, n_epochs,criterion,coeff,mean,variance,device)"
   ]
  },
  {
   "cell_type": "code",
   "execution_count": null,
   "id": "11c3082e",
   "metadata": {
    "papermill": {
     "duration": null,
     "end_time": null,
     "exception": null,
     "start_time": null,
     "status": "pending"
    },
    "tags": []
   },
   "outputs": [],
   "source": [
    "ABC_GAN1_metrics=ABC_train_test.test_generator(gen,test_data,coeff,mean,variance,device)"
   ]
  },
  {
   "cell_type": "markdown",
   "id": "394a2b9d",
   "metadata": {
    "papermill": {
     "duration": null,
     "end_time": null,
     "exception": null,
     "start_time": null,
     "status": "pending"
    },
    "tags": []
   },
   "source": [
    "#### Sanity Checks "
   ]
  },
  {
   "cell_type": "code",
   "execution_count": null,
   "id": "a36b3b22",
   "metadata": {
    "papermill": {
     "duration": null,
     "end_time": null,
     "exception": null,
     "start_time": null,
     "status": "pending"
    },
    "tags": []
   },
   "outputs": [],
   "source": [
    "sanityChecks.discProbVsError(real_dataset,disc,device)"
   ]
  },
  {
   "cell_type": "markdown",
   "id": "50b7c8e2",
   "metadata": {
    "papermill": {
     "duration": null,
     "end_time": null,
     "exception": null,
     "start_time": null,
     "status": "pending"
    },
    "tags": []
   },
   "source": [
    "**Training ABC-GAN until mse of y_pred is > baseline_mse or n_epochs < 5000**"
   ]
  },
  {
   "cell_type": "code",
   "execution_count": null,
   "id": "72a6033a",
   "metadata": {
    "papermill": {
     "duration": null,
     "end_time": null,
     "exception": null,
     "start_time": null,
     "status": "pending"
    },
    "tags": []
   },
   "outputs": [],
   "source": [
    "gen2 = network.Generator(n_features+1).to(device)\n",
    "disc2 = network.Discriminator(n_features+1).to(device)\n",
    "\n",
    "criterion = torch.nn.BCELoss()\n",
    "gen_opt = torch.optim.Adam(gen2.parameters(), lr=0.01, betas=(0.5, 0.999))\n",
    "disc_opt = torch.optim.Adam(disc2.parameters(), lr=0.01, betas=(0.5, 0.999))"
   ]
  },
  {
   "cell_type": "code",
   "execution_count": null,
   "id": "24b21210",
   "metadata": {
    "papermill": {
     "duration": null,
     "end_time": null,
     "exception": null,
     "start_time": null,
     "status": "pending"
    },
    "tags": []
   },
   "outputs": [],
   "source": [
    "discLossA2,genLossA2 = ABC_train_test.training_GAN_2(disc2,gen2,disc_opt,gen_opt,train_data,test_data,batch_size,threshold_mse,criterion,coeff,mean,variance,device)"
   ]
  },
  {
   "cell_type": "code",
   "execution_count": null,
   "id": "f1aaef41",
   "metadata": {
    "papermill": {
     "duration": null,
     "end_time": null,
     "exception": null,
     "start_time": null,
     "status": "pending"
    },
    "tags": []
   },
   "outputs": [],
   "source": [
    "ABC_GAN2_metrics=ABC_train_test.test_generator_2(gen2,test_data,coeff,mean,variance,device)"
   ]
  },
  {
   "cell_type": "code",
   "execution_count": null,
   "id": "8c38302d",
   "metadata": {
    "papermill": {
     "duration": null,
     "end_time": null,
     "exception": null,
     "start_time": null,
     "status": "pending"
    },
    "tags": []
   },
   "outputs": [],
   "source": [
    "sanityChecks.discProbVsError(real_dataset,disc2,device)"
   ]
  },
  {
   "cell_type": "markdown",
   "id": "b6d1cda1",
   "metadata": {
    "papermill": {
     "duration": null,
     "end_time": null,
     "exception": null,
     "start_time": null,
     "status": "pending"
    },
    "tags": []
   },
   "source": [
    "# Model Analysis"
   ]
  },
  {
   "cell_type": "code",
   "execution_count": null,
   "id": "35f4e2d8",
   "metadata": {
    "papermill": {
     "duration": null,
     "end_time": null,
     "exception": null,
     "start_time": null,
     "status": "pending"
    },
    "tags": []
   },
   "outputs": [],
   "source": [
    "performanceMetrics.modelAnalysis(GAN1_metrics,ABC_GAN1_metrics,GAN2_metrics,ABC_GAN2_metrics)"
   ]
  },
  {
   "cell_type": "code",
   "execution_count": null,
   "id": "86143e6d",
   "metadata": {
    "papermill": {
     "duration": null,
     "end_time": null,
     "exception": null,
     "start_time": null,
     "status": "pending"
    },
    "tags": []
   },
   "outputs": [],
   "source": [
    "performanceMetrics.plotTrainingLoss(discLossG1,genLossG1,discLossA1,genLossA1,discLossG2,genLossG2,discLossA2,genLossA2)"
   ]
  },
  {
   "cell_type": "markdown",
   "id": "130f3a4d",
   "metadata": {
    "papermill": {
     "duration": null,
     "end_time": null,
     "exception": null,
     "start_time": null,
     "status": "pending"
    },
    "tags": []
   },
   "source": [
    "# ABC - GAN Model with skip connection"
   ]
  },
  {
   "cell_type": "code",
   "execution_count": null,
   "id": "4e43dad1",
   "metadata": {
    "papermill": {
     "duration": null,
     "end_time": null,
     "exception": null,
     "start_time": null,
     "status": "pending"
    },
    "tags": []
   },
   "outputs": [],
   "source": [
    "gen3 = network.GeneratorWithSkipConnection(n_features+1).to(device)\n",
    "disc3 = network.Discriminator(n_features+1).to(device)\n",
    "\n",
    "criterion = torch.nn.BCELoss()\n",
    "gen_opt = torch.optim.Adam(gen3.parameters(), lr=0.01, betas=(0.5, 0.999))\n",
    "disc_opt = torch.optim.Adam(disc3.parameters(), lr=0.01, betas=(0.5, 0.999))"
   ]
  },
  {
   "cell_type": "code",
   "execution_count": null,
   "id": "26acbc37",
   "metadata": {
    "papermill": {
     "duration": null,
     "end_time": null,
     "exception": null,
     "start_time": null,
     "status": "pending"
    },
    "tags": []
   },
   "outputs": [],
   "source": [
    "discLossA3,genLossA3 = ABC_train_test.training_GAN(disc3, gen3,disc_opt,gen_opt,train_data,batch_size, n_epochs,criterion,coeff,mean,variance,device)"
   ]
  },
  {
   "cell_type": "code",
   "execution_count": null,
   "id": "c5e0717b",
   "metadata": {
    "papermill": {
     "duration": null,
     "end_time": null,
     "exception": null,
     "start_time": null,
     "status": "pending"
    },
    "tags": []
   },
   "outputs": [],
   "source": [
    "ABC_GAN3_metrics=ABC_train_test.test_generator(gen3,test_data,coeff,mean,variance,device)"
   ]
  },
  {
   "cell_type": "code",
   "execution_count": null,
   "id": "c8e46b48",
   "metadata": {
    "papermill": {
     "duration": null,
     "end_time": null,
     "exception": null,
     "start_time": null,
     "status": "pending"
    },
    "tags": []
   },
   "outputs": [],
   "source": [
    "sanityChecks.discProbVsError(real_dataset,disc3,device)"
   ]
  },
  {
   "cell_type": "markdown",
   "id": "a5bd74c3",
   "metadata": {
    "papermill": {
     "duration": null,
     "end_time": null,
     "exception": null,
     "start_time": null,
     "status": "pending"
    },
    "tags": []
   },
   "source": [
    "## Skip Connection Model Analysis - ABC-GAN "
   ]
  },
  {
   "cell_type": "markdown",
   "id": "5744a8bf",
   "metadata": {
    "papermill": {
     "duration": null,
     "end_time": null,
     "exception": null,
     "start_time": null,
     "status": "pending"
    },
    "tags": []
   },
   "source": [
    "### Weight Analysis \n",
    "\n",
    "Study the weights of the skip connection layer\n",
    "\n",
    "Equation of the skip connection is \n",
    "\n",
    "$output = y_{gan} * w + y_{abc} * (1-w)$"
   ]
  },
  {
   "cell_type": "code",
   "execution_count": null,
   "id": "52c31dea",
   "metadata": {
    "papermill": {
     "duration": null,
     "end_time": null,
     "exception": null,
     "start_time": null,
     "status": "pending"
    },
    "tags": []
   },
   "outputs": [],
   "source": [
    "print(\"Weight of the node at skip connection\")\n",
    "for name,param in gen3.named_parameters():\n",
    "    if(name == \"skipNode.weight\"):\n",
    "        print(param)"
   ]
  },
  {
   "cell_type": "code",
   "execution_count": null,
   "id": "aa18207f",
   "metadata": {
    "papermill": {
     "duration": null,
     "end_time": null,
     "exception": null,
     "start_time": null,
     "status": "pending"
    },
    "tags": []
   },
   "outputs": [],
   "source": [
    "performanceMetrics.modelAnalysis2(ABC_GAN3_metrics)"
   ]
  },
  {
   "cell_type": "code",
   "execution_count": null,
   "id": "03438fa7",
   "metadata": {
    "papermill": {
     "duration": null,
     "end_time": null,
     "exception": null,
     "start_time": null,
     "status": "pending"
    },
    "tags": []
   },
   "outputs": [],
   "source": [
    "performanceMetrics.plotTrainingLoss2(discLossA3,genLossA3)"
   ]
  },
  {
   "cell_type": "code",
   "execution_count": null,
   "id": "a699ff24",
   "metadata": {
    "papermill": {
     "duration": null,
     "end_time": null,
     "exception": null,
     "start_time": null,
     "status": "pending"
    },
    "tags": []
   },
   "outputs": [],
   "source": []
  }
 ],
 "metadata": {
  "interpreter": {
   "hash": "10498c76ddd8160350534c6544a2b2fb65f2138dbc70420f7c81a3268f830f23"
  },
  "kernelspec": {
   "display_name": "papermill-tut",
   "language": "python",
   "name": "papermill-tut"
  },
  "language_info": {
   "codemirror_mode": {
    "name": "ipython",
    "version": 3
   },
   "file_extension": ".py",
   "mimetype": "text/x-python",
   "name": "python",
   "nbconvert_exporter": "python",
   "pygments_lexer": "ipython3",
   "version": "3.9.7"
  },
  "papermill": {
   "default_parameters": {},
   "duration": null,
   "end_time": null,
   "environment_variables": {},
   "exception": null,
   "input_path": "Dataset3-Boston.ipynb",
   "output_path": "../Boston_Output/Dataset3-Boston_output_0.ipynb",
   "parameters": {
    "mean": 1,
    "n_epochs": 1000,
    "variance": 1
   },
   "start_time": "2021-11-27T06:29:30.435336",
   "version": "2.3.3"
  }
 },
 "nbformat": 4,
 "nbformat_minor": 5
}