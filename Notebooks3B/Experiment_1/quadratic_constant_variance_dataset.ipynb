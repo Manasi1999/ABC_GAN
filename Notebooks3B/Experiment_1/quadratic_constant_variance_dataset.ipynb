{
 "cells": [
  {
   "cell_type": "code",
   "execution_count": 1,
   "metadata": {},
   "outputs": [],
   "source": [
    "import pandas as pd\n",
    "import numpy as np\n",
    "import math"
   ]
  },
  {
   "cell_type": "code",
   "execution_count": 2,
   "metadata": {},
   "outputs": [],
   "source": [
    "#Dataset Size\n",
    "n = 5000\n",
    "variance = 1 "
   ]
  },
  {
   "cell_type": "code",
   "execution_count": 3,
   "metadata": {},
   "outputs": [],
   "source": [
    "x = np.random.uniform(0,1,(n,5))"
   ]
  },
  {
   "cell_type": "code",
   "execution_count": 5,
   "metadata": {},
   "outputs": [],
   "source": [
    "y = 10 * np.sin(math.pi * x[:,0]* x[:,1]) + 20 * np.square(x[:,2]+0.5) + 10 * x[:,3] + 5* x[:,4]\n",
    "y = y + + np.random.normal(0,variance,y.shape)\n",
    "y = np.reshape(y,(n,1))"
   ]
  },
  {
   "cell_type": "code",
   "execution_count": 6,
   "metadata": {},
   "outputs": [
    {
     "data": {
      "text/html": [
       "<div>\n",
       "<style scoped>\n",
       "    .dataframe tbody tr th:only-of-type {\n",
       "        vertical-align: middle;\n",
       "    }\n",
       "\n",
       "    .dataframe tbody tr th {\n",
       "        vertical-align: top;\n",
       "    }\n",
       "\n",
       "    .dataframe thead th {\n",
       "        text-align: right;\n",
       "    }\n",
       "</style>\n",
       "<table border=\"1\" class=\"dataframe\">\n",
       "  <thead>\n",
       "    <tr style=\"text-align: right;\">\n",
       "      <th></th>\n",
       "      <th>X0</th>\n",
       "      <th>X1</th>\n",
       "      <th>X2</th>\n",
       "      <th>X3</th>\n",
       "      <th>X4</th>\n",
       "      <th>Y</th>\n",
       "    </tr>\n",
       "  </thead>\n",
       "  <tbody>\n",
       "    <tr>\n",
       "      <th>0</th>\n",
       "      <td>0.306492</td>\n",
       "      <td>0.197657</td>\n",
       "      <td>0.658887</td>\n",
       "      <td>0.774573</td>\n",
       "      <td>0.122921</td>\n",
       "      <td>39.486720</td>\n",
       "    </tr>\n",
       "    <tr>\n",
       "      <th>1</th>\n",
       "      <td>0.158354</td>\n",
       "      <td>0.099183</td>\n",
       "      <td>0.637731</td>\n",
       "      <td>0.173998</td>\n",
       "      <td>0.283803</td>\n",
       "      <td>27.386589</td>\n",
       "    </tr>\n",
       "    <tr>\n",
       "      <th>2</th>\n",
       "      <td>0.310126</td>\n",
       "      <td>0.649864</td>\n",
       "      <td>0.040823</td>\n",
       "      <td>0.973468</td>\n",
       "      <td>0.593768</td>\n",
       "      <td>23.799509</td>\n",
       "    </tr>\n",
       "    <tr>\n",
       "      <th>3</th>\n",
       "      <td>0.250921</td>\n",
       "      <td>0.751322</td>\n",
       "      <td>0.687833</td>\n",
       "      <td>0.345985</td>\n",
       "      <td>0.459064</td>\n",
       "      <td>39.443564</td>\n",
       "    </tr>\n",
       "    <tr>\n",
       "      <th>4</th>\n",
       "      <td>0.105269</td>\n",
       "      <td>0.895031</td>\n",
       "      <td>0.764170</td>\n",
       "      <td>0.919737</td>\n",
       "      <td>0.373595</td>\n",
       "      <td>46.415396</td>\n",
       "    </tr>\n",
       "    <tr>\n",
       "      <th>...</th>\n",
       "      <td>...</td>\n",
       "      <td>...</td>\n",
       "      <td>...</td>\n",
       "      <td>...</td>\n",
       "      <td>...</td>\n",
       "      <td>...</td>\n",
       "    </tr>\n",
       "    <tr>\n",
       "      <th>4995</th>\n",
       "      <td>0.213036</td>\n",
       "      <td>0.629233</td>\n",
       "      <td>0.229058</td>\n",
       "      <td>0.154903</td>\n",
       "      <td>0.234479</td>\n",
       "      <td>17.689690</td>\n",
       "    </tr>\n",
       "    <tr>\n",
       "      <th>4996</th>\n",
       "      <td>0.128793</td>\n",
       "      <td>0.568890</td>\n",
       "      <td>0.122756</td>\n",
       "      <td>0.343256</td>\n",
       "      <td>0.057191</td>\n",
       "      <td>13.903030</td>\n",
       "    </tr>\n",
       "    <tr>\n",
       "      <th>4997</th>\n",
       "      <td>0.399960</td>\n",
       "      <td>0.574916</td>\n",
       "      <td>0.464770</td>\n",
       "      <td>0.433831</td>\n",
       "      <td>0.747722</td>\n",
       "      <td>34.485734</td>\n",
       "    </tr>\n",
       "    <tr>\n",
       "      <th>4998</th>\n",
       "      <td>0.183628</td>\n",
       "      <td>0.952610</td>\n",
       "      <td>0.175380</td>\n",
       "      <td>0.695844</td>\n",
       "      <td>0.578013</td>\n",
       "      <td>23.656996</td>\n",
       "    </tr>\n",
       "    <tr>\n",
       "      <th>4999</th>\n",
       "      <td>0.807441</td>\n",
       "      <td>0.176545</td>\n",
       "      <td>0.121704</td>\n",
       "      <td>0.197015</td>\n",
       "      <td>0.110651</td>\n",
       "      <td>14.738490</td>\n",
       "    </tr>\n",
       "  </tbody>\n",
       "</table>\n",
       "<p>5000 rows × 6 columns</p>\n",
       "</div>"
      ],
      "text/plain": [
       "            X0        X1        X2        X3        X4          Y\n",
       "0     0.306492  0.197657  0.658887  0.774573  0.122921  39.486720\n",
       "1     0.158354  0.099183  0.637731  0.173998  0.283803  27.386589\n",
       "2     0.310126  0.649864  0.040823  0.973468  0.593768  23.799509\n",
       "3     0.250921  0.751322  0.687833  0.345985  0.459064  39.443564\n",
       "4     0.105269  0.895031  0.764170  0.919737  0.373595  46.415396\n",
       "...        ...       ...       ...       ...       ...        ...\n",
       "4995  0.213036  0.629233  0.229058  0.154903  0.234479  17.689690\n",
       "4996  0.128793  0.568890  0.122756  0.343256  0.057191  13.903030\n",
       "4997  0.399960  0.574916  0.464770  0.433831  0.747722  34.485734\n",
       "4998  0.183628  0.952610  0.175380  0.695844  0.578013  23.656996\n",
       "4999  0.807441  0.176545  0.121704  0.197015  0.110651  14.738490\n",
       "\n",
       "[5000 rows x 6 columns]"
      ]
     },
     "metadata": {},
     "output_type": "display_data"
    }
   ],
   "source": [
    "dataset = np.concatenate((x,y), axis = 1)\n",
    "df = pd.DataFrame(dataset,columns=['X0','X1','X2','X3','X4','Y'])\n",
    "display(df)"
   ]
  },
  {
   "cell_type": "code",
   "execution_count": 7,
   "metadata": {},
   "outputs": [],
   "source": [
    "df.to_csv(\"quadratic_constant_variance_dataset.csv\")"
   ]
  }
 ],
 "metadata": {
  "interpreter": {
   "hash": "10498c76ddd8160350534c6544a2b2fb65f2138dbc70420f7c81a3268f830f23"
  },
  "kernelspec": {
   "display_name": "Python 3.8.11 ('papermill')",
   "language": "python",
   "name": "python3"
  },
  "language_info": {
   "codemirror_mode": {
    "name": "ipython",
    "version": 3
   },
   "file_extension": ".py",
   "mimetype": "text/x-python",
   "name": "python",
   "nbconvert_exporter": "python",
   "pygments_lexer": "ipython3",
   "version": "3.8.11"
  },
  "orig_nbformat": 4
 },
 "nbformat": 4,
 "nbformat_minor": 2
}
