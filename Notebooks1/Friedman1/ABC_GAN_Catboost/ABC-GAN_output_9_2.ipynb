{
 "cells": [
  {
   "cell_type": "markdown",
   "id": "622780e6",
   "metadata": {
    "id": "622780e6",
    "papermill": {
     "duration": 0.03626,
     "end_time": "2022-02-13T15:05:06.191162",
     "exception": false,
     "start_time": "2022-02-13T15:05:06.154902",
     "status": "completed"
    },
    "tags": []
   },
   "source": [
    "## Import Libraries "
   ]
  },
  {
   "cell_type": "code",
   "execution_count": 1,
   "id": "a62397e3",
   "metadata": {
    "execution": {
     "iopub.execute_input": "2022-02-13T15:05:06.227047Z",
     "iopub.status.busy": "2022-02-13T15:05:06.226572Z",
     "iopub.status.idle": "2022-02-13T15:05:06.228892Z",
     "shell.execute_reply": "2022-02-13T15:05:06.229271Z"
    },
    "id": "a62397e3",
    "papermill": {
     "duration": 0.021806,
     "end_time": "2022-02-13T15:05:06.229474",
     "exception": false,
     "start_time": "2022-02-13T15:05:06.207668",
     "status": "completed"
    },
    "tags": []
   },
   "outputs": [],
   "source": [
    "import warnings\n",
    "import sys\n",
    "sys.path.insert(0, '../../src')\n",
    "warnings.filterwarnings('ignore')"
   ]
  },
  {
   "cell_type": "code",
   "execution_count": 2,
   "id": "d6a4e155",
   "metadata": {
    "execution": {
     "iopub.execute_input": "2022-02-13T15:05:06.250153Z",
     "iopub.status.busy": "2022-02-13T15:05:06.249749Z",
     "iopub.status.idle": "2022-02-13T15:05:08.011723Z",
     "shell.execute_reply": "2022-02-13T15:05:08.011977Z"
    },
    "id": "d6a4e155",
    "papermill": {
     "duration": 1.772838,
     "end_time": "2022-02-13T15:05:08.012100",
     "exception": false,
     "start_time": "2022-02-13T15:05:06.239262",
     "status": "completed"
    },
    "tags": []
   },
   "outputs": [],
   "source": [
    "import ABC_train_test2\n",
    "import friedman1Dataset\n",
    "import network\n",
    "import dataset\n",
    "import sanityChecks\n",
    "import torch \n",
    "import scrapbook as sb\n",
    "from statistics import mean \n",
    "import catboost as ctb \n",
    "from sklearn.model_selection import train_test_split\n",
    "from sklearn.metrics import mean_squared_error,mean_absolute_error\n",
    "import numpy as np"
   ]
  },
  {
   "cell_type": "markdown",
   "id": "2fa5b0f7",
   "metadata": {
    "id": "2fa5b0f7",
    "papermill": {
     "duration": 0.00681,
     "end_time": "2022-02-13T15:05:08.026035",
     "exception": false,
     "start_time": "2022-02-13T15:05:08.019225",
     "status": "completed"
    },
    "tags": []
   },
   "source": [
    "## Parameters "
   ]
  },
  {
   "cell_type": "code",
   "execution_count": 3,
   "id": "783186fb",
   "metadata": {
    "execution": {
     "iopub.execute_input": "2022-02-13T15:05:08.041978Z",
     "iopub.status.busy": "2022-02-13T15:05:08.041546Z",
     "iopub.status.idle": "2022-02-13T15:05:08.042687Z",
     "shell.execute_reply": "2022-02-13T15:05:08.042955Z"
    },
    "id": "783186fb",
    "papermill": {
     "duration": 0.010252,
     "end_time": "2022-02-13T15:05:08.043065",
     "exception": false,
     "start_time": "2022-02-13T15:05:08.032813",
     "status": "completed"
    },
    "tags": [
     "parameters"
    ]
   },
   "outputs": [],
   "source": [
    "variance = 1"
   ]
  },
  {
   "cell_type": "code",
   "execution_count": 4,
   "id": "2323e112",
   "metadata": {
    "execution": {
     "iopub.execute_input": "2022-02-13T15:05:08.058655Z",
     "iopub.status.busy": "2022-02-13T15:05:08.058298Z",
     "iopub.status.idle": "2022-02-13T15:05:08.059551Z",
     "shell.execute_reply": "2022-02-13T15:05:08.059801Z"
    },
    "papermill": {
     "duration": 0.00995,
     "end_time": "2022-02-13T15:05:08.059909",
     "exception": false,
     "start_time": "2022-02-13T15:05:08.049959",
     "status": "completed"
    },
    "tags": [
     "injected-parameters"
    ]
   },
   "outputs": [],
   "source": [
    "# Parameters\n",
    "variance = 0.01\n"
   ]
  },
  {
   "cell_type": "markdown",
   "id": "391cdbfd",
   "metadata": {
    "id": "391cdbfd",
    "papermill": {
     "duration": 0.006859,
     "end_time": "2022-02-13T15:05:08.073730",
     "exception": false,
     "start_time": "2022-02-13T15:05:08.066871",
     "status": "completed"
    },
    "tags": []
   },
   "source": [
    "## Dataset \n"
   ]
  },
  {
   "cell_type": "code",
   "execution_count": 5,
   "id": "5b51f161",
   "metadata": {
    "execution": {
     "iopub.execute_input": "2022-02-13T15:05:08.089463Z",
     "iopub.status.busy": "2022-02-13T15:05:08.089104Z",
     "iopub.status.idle": "2022-02-13T15:05:08.090393Z",
     "shell.execute_reply": "2022-02-13T15:05:08.090623Z"
    },
    "id": "5b51f161",
    "papermill": {
     "duration": 0.010135,
     "end_time": "2022-02-13T15:05:08.090725",
     "exception": false,
     "start_time": "2022-02-13T15:05:08.080590",
     "status": "completed"
    },
    "tags": []
   },
   "outputs": [],
   "source": [
    "#Parameters \n",
    "n_features = 5\n",
    "n_samples= 100\n",
    "n_target = 1 "
   ]
  },
  {
   "cell_type": "code",
   "execution_count": 6,
   "id": "5d6eced4",
   "metadata": {
    "execution": {
     "iopub.execute_input": "2022-02-13T15:05:08.108029Z",
     "iopub.status.busy": "2022-02-13T15:05:08.107665Z",
     "iopub.status.idle": "2022-02-13T15:05:08.112646Z",
     "shell.execute_reply": "2022-02-13T15:05:08.112902Z"
    },
    "id": "5d6eced4",
    "papermill": {
     "duration": 0.01539,
     "end_time": "2022-02-13T15:05:08.113014",
     "exception": false,
     "start_time": "2022-02-13T15:05:08.097624",
     "status": "completed"
    },
    "tags": []
   },
   "outputs": [
    {
     "name": "stdout",
     "output_type": "stream",
     "text": [
      "         X0        X1        X2        X3        X4         Y\n",
      "0 -1.153159  1.644195  0.264009  0.965362  1.695163  0.763698\n",
      "1  1.321033  0.065356 -0.352862  0.623113 -0.046311  1.098696\n",
      "2 -0.127302 -1.152028  0.656563  1.113469  1.483839  0.334761\n",
      "3  1.473400  0.870595 -1.700196 -0.263309  1.711093  1.670460\n",
      "4 -0.734351  0.749519  1.572762  1.367480  0.215956  1.609453\n"
     ]
    }
   ],
   "source": [
    "X,Y = friedman1Dataset.friedman1_data(n_samples,n_features)"
   ]
  },
  {
   "cell_type": "code",
   "execution_count": 7,
   "id": "fe007438",
   "metadata": {
    "execution": {
     "iopub.execute_input": "2022-02-13T15:05:08.130261Z",
     "iopub.status.busy": "2022-02-13T15:05:08.129897Z",
     "iopub.status.idle": "2022-02-13T15:05:08.131217Z",
     "shell.execute_reply": "2022-02-13T15:05:08.131458Z"
    },
    "id": "fe007438",
    "papermill": {
     "duration": 0.011207,
     "end_time": "2022-02-13T15:05:08.131569",
     "exception": false,
     "start_time": "2022-02-13T15:05:08.120362",
     "status": "completed"
    },
    "tags": []
   },
   "outputs": [],
   "source": [
    "#Train test split for dataset \n",
    "X_train,X_test,Y_train,Y_test = train_test_split(X,Y,test_size = 0.2)\n",
    "train_data = dataset.CustomDataset(X_train,Y_train)\n",
    "test_data = dataset.CustomDataset(X_test,Y_test)\n"
   ]
  },
  {
   "cell_type": "markdown",
   "id": "a9a1af34",
   "metadata": {
    "id": "a9a1af34",
    "papermill": {
     "duration": 0.007254,
     "end_time": "2022-02-13T15:05:08.146460",
     "exception": false,
     "start_time": "2022-02-13T15:05:08.139206",
     "status": "completed"
    },
    "tags": []
   },
   "source": [
    "## Training Parameters "
   ]
  },
  {
   "cell_type": "code",
   "execution_count": 8,
   "id": "952b7fc8",
   "metadata": {
    "execution": {
     "iopub.execute_input": "2022-02-13T15:05:08.163474Z",
     "iopub.status.busy": "2022-02-13T15:05:08.163093Z",
     "iopub.status.idle": "2022-02-13T15:05:08.164324Z",
     "shell.execute_reply": "2022-02-13T15:05:08.164571Z"
    },
    "id": "952b7fc8",
    "papermill": {
     "duration": 0.011021,
     "end_time": "2022-02-13T15:05:08.164686",
     "exception": false,
     "start_time": "2022-02-13T15:05:08.153665",
     "status": "completed"
    },
    "tags": []
   },
   "outputs": [],
   "source": [
    "batch_size = 32\n",
    "n_epochs = 1000\n",
    "#Select the device \n",
    "device = torch.device('cuda' if torch.cuda.is_available() else 'cpu')"
   ]
  },
  {
   "cell_type": "markdown",
   "id": "a95e1600",
   "metadata": {
    "id": "a95e1600",
    "papermill": {
     "duration": 0.007107,
     "end_time": "2022-02-13T15:05:08.179089",
     "exception": false,
     "start_time": "2022-02-13T15:05:08.171982",
     "status": "completed"
    },
    "tags": []
   },
   "source": [
    "# ABC Pre-generator Model \n",
    "\n",
    "1. The catboost model is used as a pre-generator model for the ABC-GAN. \n",
    "2. The model is first trained on the entire dataset \n",
    "3. It generats X,Y pairs and we add some Gaussian noise with mean 0 and variance 1 to it which is then feed as input to the generator.\n"
   ]
  },
  {
   "cell_type": "code",
   "execution_count": 9,
   "id": "ff8ce7bd",
   "metadata": {
    "execution": {
     "iopub.execute_input": "2022-02-13T15:05:08.196973Z",
     "iopub.status.busy": "2022-02-13T15:05:08.196598Z",
     "iopub.status.idle": "2022-02-13T15:05:08.835007Z",
     "shell.execute_reply": "2022-02-13T15:05:08.835307Z"
    },
    "id": "ff8ce7bd",
    "papermill": {
     "duration": 0.649169,
     "end_time": "2022-02-13T15:05:08.835438",
     "exception": false,
     "start_time": "2022-02-13T15:05:08.186269",
     "status": "completed"
    },
    "tags": []
   },
   "outputs": [
    {
     "name": "stdout",
     "output_type": "stream",
     "text": [
      "Learning rate set to 0.024897\n",
      "0:\tlearn: 0.9696738\ttotal: 57.5ms\tremaining: 57.4s\n",
      "1:\tlearn: 0.9621471\ttotal: 58.1ms\tremaining: 29s\n",
      "2:\tlearn: 0.9541894\ttotal: 58.7ms\tremaining: 19.5s\n",
      "3:\tlearn: 0.9439798\ttotal: 59.3ms\tremaining: 14.8s\n",
      "4:\tlearn: 0.9373105\ttotal: 60ms\tremaining: 11.9s\n",
      "5:\tlearn: 0.9277594\ttotal: 60.5ms\tremaining: 10s\n",
      "6:\tlearn: 0.9178263\ttotal: 61ms\tremaining: 8.65s\n",
      "7:\tlearn: 0.9100535\ttotal: 61.5ms\tremaining: 7.63s\n",
      "8:\tlearn: 0.9027112\ttotal: 62ms\tremaining: 6.83s\n",
      "9:\tlearn: 0.8935168\ttotal: 62.6ms\tremaining: 6.2s\n",
      "10:\tlearn: 0.8866500\ttotal: 63.2ms\tremaining: 5.68s\n",
      "11:\tlearn: 0.8777160\ttotal: 63.6ms\tremaining: 5.24s\n",
      "12:\tlearn: 0.8685337\ttotal: 64ms\tremaining: 4.86s\n",
      "13:\tlearn: 0.8618709\ttotal: 64.5ms\tremaining: 4.54s\n",
      "14:\tlearn: 0.8550861\ttotal: 64.9ms\tremaining: 4.26s\n",
      "15:\tlearn: 0.8479554\ttotal: 65.4ms\tremaining: 4.02s\n",
      "16:\tlearn: 0.8420537\ttotal: 65.8ms\tremaining: 3.81s\n",
      "17:\tlearn: 0.8342208\ttotal: 66.3ms\tremaining: 3.61s\n",
      "18:\tlearn: 0.8281636\ttotal: 66.6ms\tremaining: 3.44s\n",
      "19:\tlearn: 0.8193034\ttotal: 67ms\tremaining: 3.29s\n",
      "20:\tlearn: 0.8119171\ttotal: 67.6ms\tremaining: 3.15s\n",
      "21:\tlearn: 0.8040788\ttotal: 68ms\tremaining: 3.02s\n",
      "22:\tlearn: 0.7976410\ttotal: 68.6ms\tremaining: 2.91s\n",
      "23:\tlearn: 0.7902372\ttotal: 69ms\tremaining: 2.81s\n",
      "24:\tlearn: 0.7836817\ttotal: 69.3ms\tremaining: 2.7s\n",
      "25:\tlearn: 0.7770933\ttotal: 69.7ms\tremaining: 2.61s\n",
      "26:\tlearn: 0.7706865\ttotal: 70.2ms\tremaining: 2.53s\n",
      "27:\tlearn: 0.7645284\ttotal: 70.7ms\tremaining: 2.45s\n",
      "28:\tlearn: 0.7582311\ttotal: 71ms\tremaining: 2.38s\n",
      "29:\tlearn: 0.7518204\ttotal: 71.5ms\tremaining: 2.31s\n",
      "30:\tlearn: 0.7452231\ttotal: 72ms\tremaining: 2.25s\n",
      "31:\tlearn: 0.7390460\ttotal: 72.4ms\tremaining: 2.19s\n",
      "32:\tlearn: 0.7326061\ttotal: 72.8ms\tremaining: 2.13s\n",
      "33:\tlearn: 0.7268320\ttotal: 73.4ms\tremaining: 2.08s\n",
      "34:\tlearn: 0.7209040\ttotal: 73.8ms\tremaining: 2.04s\n",
      "35:\tlearn: 0.7153777\ttotal: 74.3ms\tremaining: 1.99s\n",
      "36:\tlearn: 0.7100448\ttotal: 74.8ms\tremaining: 1.95s\n",
      "37:\tlearn: 0.7042668\ttotal: 75.2ms\tremaining: 1.9s\n",
      "38:\tlearn: 0.6993710\ttotal: 75.7ms\tremaining: 1.86s\n",
      "39:\tlearn: 0.6938960\ttotal: 76.1ms\tremaining: 1.82s\n",
      "40:\tlearn: 0.6876529\ttotal: 76.5ms\tremaining: 1.79s\n",
      "41:\tlearn: 0.6817094\ttotal: 76.9ms\tremaining: 1.75s\n",
      "42:\tlearn: 0.6756528\ttotal: 77.5ms\tremaining: 1.72s\n",
      "43:\tlearn: 0.6698725\ttotal: 78ms\tremaining: 1.69s\n",
      "44:\tlearn: 0.6649844\ttotal: 78.5ms\tremaining: 1.67s\n",
      "45:\tlearn: 0.6593946\ttotal: 78.9ms\tremaining: 1.64s\n",
      "46:\tlearn: 0.6551368\ttotal: 79.4ms\tremaining: 1.61s\n",
      "47:\tlearn: 0.6496696\ttotal: 79.8ms\tremaining: 1.58s\n",
      "48:\tlearn: 0.6433087\ttotal: 80.2ms\tremaining: 1.56s\n",
      "49:\tlearn: 0.6383369\ttotal: 80.7ms\tremaining: 1.53s\n",
      "50:\tlearn: 0.6329262\ttotal: 81.3ms\tremaining: 1.51s\n",
      "51:\tlearn: 0.6271752\ttotal: 81.7ms\tremaining: 1.49s\n",
      "52:\tlearn: 0.6217371\ttotal: 82.2ms\tremaining: 1.47s\n",
      "53:\tlearn: 0.6173926\ttotal: 82.7ms\tremaining: 1.45s\n",
      "54:\tlearn: 0.6116762\ttotal: 83.1ms\tremaining: 1.43s\n",
      "55:\tlearn: 0.6075325\ttotal: 83.5ms\tremaining: 1.41s\n",
      "56:\tlearn: 0.6034613\ttotal: 84ms\tremaining: 1.39s\n",
      "57:\tlearn: 0.5986484\ttotal: 84.5ms\tremaining: 1.37s\n",
      "58:\tlearn: 0.5938597\ttotal: 84.9ms\tremaining: 1.35s\n",
      "59:\tlearn: 0.5894657\ttotal: 85.5ms\tremaining: 1.34s\n",
      "60:\tlearn: 0.5841476\ttotal: 85.9ms\tremaining: 1.32s\n",
      "61:\tlearn: 0.5798559\ttotal: 86.6ms\tremaining: 1.31s\n",
      "62:\tlearn: 0.5753452\ttotal: 86.9ms\tremaining: 1.29s\n",
      "63:\tlearn: 0.5695489\ttotal: 87.4ms\tremaining: 1.28s\n",
      "64:\tlearn: 0.5651534\ttotal: 87.8ms\tremaining: 1.26s\n",
      "65:\tlearn: 0.5610280\ttotal: 88.4ms\tremaining: 1.25s\n",
      "66:\tlearn: 0.5568814\ttotal: 88.7ms\tremaining: 1.24s\n",
      "67:\tlearn: 0.5525487\ttotal: 89.2ms\tremaining: 1.22s\n",
      "68:\tlearn: 0.5483518\ttotal: 89.6ms\tremaining: 1.21s\n",
      "69:\tlearn: 0.5438170\ttotal: 90ms\tremaining: 1.2s\n",
      "70:\tlearn: 0.5394009\ttotal: 90.6ms\tremaining: 1.19s\n",
      "71:\tlearn: 0.5358270\ttotal: 91ms\tremaining: 1.17s\n",
      "72:\tlearn: 0.5312903\ttotal: 91.4ms\tremaining: 1.16s\n",
      "73:\tlearn: 0.5261837\ttotal: 91.8ms\tremaining: 1.15s\n",
      "74:\tlearn: 0.5218472\ttotal: 92.2ms\tremaining: 1.14s\n",
      "75:\tlearn: 0.5178088\ttotal: 92.7ms\tremaining: 1.13s\n",
      "76:\tlearn: 0.5142686\ttotal: 93.1ms\tremaining: 1.12s\n",
      "77:\tlearn: 0.5099472\ttotal: 93.6ms\tremaining: 1.11s\n",
      "78:\tlearn: 0.5056681\ttotal: 94ms\tremaining: 1.1s\n",
      "79:\tlearn: 0.5020981\ttotal: 94.4ms\tremaining: 1.08s\n",
      "80:\tlearn: 0.4984488\ttotal: 95ms\tremaining: 1.08s\n",
      "81:\tlearn: 0.4942973\ttotal: 95.4ms\tremaining: 1.07s\n",
      "82:\tlearn: 0.4904659\ttotal: 96ms\tremaining: 1.06s\n",
      "83:\tlearn: 0.4864796\ttotal: 96.4ms\tremaining: 1.05s\n",
      "84:\tlearn: 0.4824807\ttotal: 96.8ms\tremaining: 1.04s\n",
      "85:\tlearn: 0.4787383\ttotal: 97.2ms\tremaining: 1.03s\n",
      "86:\tlearn: 0.4744066\ttotal: 97.7ms\tremaining: 1.02s\n",
      "87:\tlearn: 0.4716340\ttotal: 98.1ms\tremaining: 1.02s\n",
      "88:\tlearn: 0.4676142\ttotal: 98.5ms\tremaining: 1.01s\n",
      "89:\tlearn: 0.4640496\ttotal: 99ms\tremaining: 1s\n",
      "90:\tlearn: 0.4603796\ttotal: 99.4ms\tremaining: 993ms\n",
      "91:\tlearn: 0.4568774\ttotal: 100ms\tremaining: 987ms\n",
      "92:\tlearn: 0.4530147\ttotal: 101ms\tremaining: 980ms\n",
      "93:\tlearn: 0.4487627\ttotal: 101ms\tremaining: 972ms\n",
      "94:\tlearn: 0.4444198\ttotal: 101ms\tremaining: 967ms\n",
      "95:\tlearn: 0.4409630\ttotal: 102ms\tremaining: 960ms\n",
      "96:\tlearn: 0.4381396\ttotal: 102ms\tremaining: 954ms\n",
      "97:\tlearn: 0.4345902\ttotal: 103ms\tremaining: 948ms\n",
      "98:\tlearn: 0.4319018\ttotal: 103ms\tremaining: 942ms\n",
      "99:\tlearn: 0.4284631\ttotal: 104ms\tremaining: 937ms\n",
      "100:\tlearn: 0.4260798\ttotal: 105ms\tremaining: 932ms\n",
      "101:\tlearn: 0.4227222\ttotal: 105ms\tremaining: 927ms\n",
      "102:\tlearn: 0.4197136\ttotal: 106ms\tremaining: 921ms\n",
      "103:\tlearn: 0.4169820\ttotal: 106ms\tremaining: 916ms\n"
     ]
    },
    {
     "name": "stdout",
     "output_type": "stream",
     "text": [
      "104:\tlearn: 0.4137819\ttotal: 107ms\tremaining: 912ms\n",
      "105:\tlearn: 0.4114936\ttotal: 108ms\tremaining: 908ms\n",
      "106:\tlearn: 0.4078218\ttotal: 108ms\tremaining: 902ms\n",
      "107:\tlearn: 0.4046617\ttotal: 108ms\tremaining: 896ms\n",
      "108:\tlearn: 0.4019379\ttotal: 109ms\tremaining: 890ms\n",
      "109:\tlearn: 0.3986921\ttotal: 109ms\tremaining: 884ms\n",
      "110:\tlearn: 0.3956056\ttotal: 110ms\tremaining: 878ms\n",
      "111:\tlearn: 0.3928394\ttotal: 110ms\tremaining: 873ms\n",
      "112:\tlearn: 0.3898863\ttotal: 110ms\tremaining: 867ms\n",
      "113:\tlearn: 0.3874724\ttotal: 111ms\tremaining: 863ms\n",
      "114:\tlearn: 0.3840025\ttotal: 112ms\tremaining: 859ms\n",
      "115:\tlearn: 0.3811562\ttotal: 112ms\tremaining: 854ms\n",
      "116:\tlearn: 0.3777022\ttotal: 112ms\tremaining: 849ms\n",
      "117:\tlearn: 0.3749920\ttotal: 113ms\tremaining: 845ms\n",
      "118:\tlearn: 0.3728712\ttotal: 114ms\tremaining: 842ms\n",
      "119:\tlearn: 0.3701337\ttotal: 114ms\tremaining: 837ms\n",
      "120:\tlearn: 0.3677917\ttotal: 115ms\tremaining: 833ms\n",
      "121:\tlearn: 0.3651941\ttotal: 115ms\tremaining: 828ms\n",
      "122:\tlearn: 0.3627046\ttotal: 116ms\tremaining: 824ms\n",
      "123:\tlearn: 0.3600085\ttotal: 116ms\tremaining: 819ms\n",
      "124:\tlearn: 0.3569692\ttotal: 117ms\tremaining: 816ms\n",
      "125:\tlearn: 0.3542559\ttotal: 117ms\tremaining: 812ms\n",
      "126:\tlearn: 0.3516515\ttotal: 118ms\tremaining: 809ms\n",
      "127:\tlearn: 0.3488942\ttotal: 118ms\tremaining: 805ms\n",
      "128:\tlearn: 0.3463474\ttotal: 119ms\tremaining: 802ms\n",
      "129:\tlearn: 0.3439796\ttotal: 119ms\tremaining: 799ms\n",
      "130:\tlearn: 0.3418216\ttotal: 120ms\tremaining: 795ms\n",
      "131:\tlearn: 0.3398900\ttotal: 120ms\tremaining: 791ms\n",
      "132:\tlearn: 0.3381275\ttotal: 121ms\tremaining: 788ms\n",
      "133:\tlearn: 0.3357501\ttotal: 121ms\tremaining: 785ms\n",
      "134:\tlearn: 0.3328356\ttotal: 122ms\tremaining: 781ms\n",
      "135:\tlearn: 0.3308079\ttotal: 122ms\tremaining: 777ms\n",
      "136:\tlearn: 0.3282987\ttotal: 123ms\tremaining: 773ms\n",
      "137:\tlearn: 0.3262024\ttotal: 123ms\tremaining: 771ms\n",
      "138:\tlearn: 0.3242119\ttotal: 124ms\tremaining: 768ms\n",
      "139:\tlearn: 0.3217607\ttotal: 125ms\tremaining: 766ms\n",
      "140:\tlearn: 0.3199040\ttotal: 125ms\tremaining: 763ms\n",
      "141:\tlearn: 0.3175485\ttotal: 126ms\tremaining: 760ms\n",
      "142:\tlearn: 0.3156336\ttotal: 126ms\tremaining: 757ms\n",
      "143:\tlearn: 0.3132149\ttotal: 127ms\tremaining: 753ms\n",
      "144:\tlearn: 0.3114427\ttotal: 127ms\tremaining: 751ms\n",
      "145:\tlearn: 0.3091094\ttotal: 128ms\tremaining: 748ms\n",
      "146:\tlearn: 0.3070888\ttotal: 128ms\tremaining: 744ms\n",
      "147:\tlearn: 0.3046273\ttotal: 129ms\tremaining: 741ms\n",
      "148:\tlearn: 0.3024362\ttotal: 129ms\tremaining: 738ms\n",
      "149:\tlearn: 0.2996592\ttotal: 130ms\tremaining: 735ms\n",
      "150:\tlearn: 0.2975111\ttotal: 130ms\tremaining: 733ms\n",
      "151:\tlearn: 0.2952081\ttotal: 131ms\tremaining: 729ms\n",
      "152:\tlearn: 0.2938408\ttotal: 131ms\tremaining: 726ms\n",
      "153:\tlearn: 0.2920690\ttotal: 131ms\tremaining: 722ms\n",
      "154:\tlearn: 0.2896767\ttotal: 132ms\tremaining: 719ms\n",
      "155:\tlearn: 0.2872236\ttotal: 132ms\tremaining: 716ms\n",
      "156:\tlearn: 0.2851315\ttotal: 133ms\tremaining: 713ms\n",
      "157:\tlearn: 0.2830727\ttotal: 133ms\tremaining: 710ms\n",
      "158:\tlearn: 0.2811267\ttotal: 134ms\tremaining: 707ms\n",
      "159:\tlearn: 0.2790429\ttotal: 134ms\tremaining: 703ms\n",
      "160:\tlearn: 0.2774806\ttotal: 134ms\tremaining: 701ms\n",
      "161:\tlearn: 0.2754239\ttotal: 135ms\tremaining: 698ms\n",
      "162:\tlearn: 0.2734263\ttotal: 135ms\tremaining: 695ms\n",
      "163:\tlearn: 0.2713900\ttotal: 136ms\tremaining: 693ms\n",
      "164:\tlearn: 0.2688950\ttotal: 136ms\tremaining: 690ms\n",
      "165:\tlearn: 0.2670395\ttotal: 137ms\tremaining: 687ms\n",
      "166:\tlearn: 0.2648217\ttotal: 137ms\tremaining: 685ms\n",
      "167:\tlearn: 0.2630652\ttotal: 138ms\tremaining: 683ms\n",
      "168:\tlearn: 0.2610824\ttotal: 138ms\tremaining: 680ms\n",
      "169:\tlearn: 0.2591159\ttotal: 139ms\tremaining: 677ms\n",
      "170:\tlearn: 0.2574102\ttotal: 139ms\tremaining: 675ms\n",
      "171:\tlearn: 0.2553204\ttotal: 140ms\tremaining: 673ms\n",
      "172:\tlearn: 0.2538522\ttotal: 140ms\tremaining: 670ms\n",
      "173:\tlearn: 0.2523359\ttotal: 141ms\tremaining: 668ms\n",
      "174:\tlearn: 0.2504864\ttotal: 141ms\tremaining: 665ms\n",
      "175:\tlearn: 0.2488836\ttotal: 141ms\tremaining: 662ms\n",
      "176:\tlearn: 0.2469246\ttotal: 142ms\tremaining: 660ms\n",
      "177:\tlearn: 0.2455486\ttotal: 142ms\tremaining: 657ms\n",
      "178:\tlearn: 0.2439876\ttotal: 143ms\tremaining: 655ms\n",
      "179:\tlearn: 0.2422265\ttotal: 143ms\tremaining: 653ms\n",
      "180:\tlearn: 0.2407665\ttotal: 144ms\tremaining: 651ms\n",
      "181:\tlearn: 0.2392058\ttotal: 144ms\tremaining: 648ms\n",
      "182:\tlearn: 0.2375772\ttotal: 145ms\tremaining: 646ms\n",
      "183:\tlearn: 0.2359851\ttotal: 145ms\tremaining: 644ms\n",
      "184:\tlearn: 0.2343257\ttotal: 146ms\tremaining: 642ms\n",
      "185:\tlearn: 0.2325629\ttotal: 146ms\tremaining: 639ms\n",
      "186:\tlearn: 0.2307557\ttotal: 147ms\tremaining: 637ms\n",
      "187:\tlearn: 0.2293250\ttotal: 147ms\tremaining: 635ms\n",
      "188:\tlearn: 0.2276688\ttotal: 148ms\tremaining: 634ms\n",
      "189:\tlearn: 0.2257085\ttotal: 148ms\tremaining: 632ms\n",
      "190:\tlearn: 0.2239496\ttotal: 149ms\tremaining: 630ms\n",
      "191:\tlearn: 0.2220560\ttotal: 149ms\tremaining: 628ms\n",
      "192:\tlearn: 0.2206159\ttotal: 150ms\tremaining: 627ms\n",
      "193:\tlearn: 0.2191086\ttotal: 150ms\tremaining: 624ms\n",
      "194:\tlearn: 0.2173837\ttotal: 151ms\tremaining: 622ms\n",
      "195:\tlearn: 0.2158957\ttotal: 151ms\tremaining: 621ms\n",
      "196:\tlearn: 0.2143001\ttotal: 152ms\tremaining: 618ms\n",
      "197:\tlearn: 0.2129538\ttotal: 152ms\tremaining: 617ms\n",
      "198:\tlearn: 0.2112955\ttotal: 153ms\tremaining: 615ms\n",
      "199:\tlearn: 0.2097819\ttotal: 153ms\tremaining: 613ms\n",
      "200:\tlearn: 0.2083465\ttotal: 154ms\tremaining: 612ms\n",
      "201:\tlearn: 0.2073235\ttotal: 155ms\tremaining: 610ms\n",
      "202:\tlearn: 0.2057580\ttotal: 155ms\tremaining: 609ms\n",
      "203:\tlearn: 0.2040398\ttotal: 155ms\tremaining: 607ms\n",
      "204:\tlearn: 0.2025992\ttotal: 156ms\tremaining: 605ms\n",
      "205:\tlearn: 0.2012559\ttotal: 156ms\tremaining: 603ms\n",
      "206:\tlearn: 0.1997615\ttotal: 157ms\tremaining: 601ms\n",
      "207:\tlearn: 0.1981006\ttotal: 157ms\tremaining: 600ms\n",
      "208:\tlearn: 0.1969013\ttotal: 158ms\tremaining: 598ms\n",
      "209:\tlearn: 0.1954362\ttotal: 159ms\tremaining: 596ms\n",
      "210:\tlearn: 0.1941254\ttotal: 159ms\tremaining: 595ms\n",
      "211:\tlearn: 0.1926741\ttotal: 160ms\tremaining: 593ms\n",
      "212:\tlearn: 0.1911698\ttotal: 160ms\tremaining: 592ms\n",
      "213:\tlearn: 0.1895553\ttotal: 161ms\tremaining: 590ms\n",
      "214:\tlearn: 0.1879751\ttotal: 161ms\tremaining: 589ms\n",
      "215:\tlearn: 0.1865834\ttotal: 162ms\tremaining: 588ms\n",
      "216:\tlearn: 0.1852631\ttotal: 162ms\tremaining: 586ms\n",
      "217:\tlearn: 0.1842689\ttotal: 163ms\tremaining: 585ms\n",
      "218:\tlearn: 0.1830463\ttotal: 163ms\tremaining: 583ms\n",
      "219:\tlearn: 0.1814848\ttotal: 164ms\tremaining: 581ms\n",
      "220:\tlearn: 0.1800907\ttotal: 164ms\tremaining: 580ms\n",
      "221:\tlearn: 0.1788410\ttotal: 165ms\tremaining: 578ms\n",
      "222:\tlearn: 0.1774917\ttotal: 166ms\tremaining: 577ms\n",
      "223:\tlearn: 0.1762642\ttotal: 166ms\tremaining: 576ms\n",
      "224:\tlearn: 0.1750264\ttotal: 167ms\tremaining: 574ms\n",
      "225:\tlearn: 0.1739423\ttotal: 167ms\tremaining: 572ms\n",
      "226:\tlearn: 0.1729445\ttotal: 168ms\tremaining: 571ms\n",
      "227:\tlearn: 0.1715839\ttotal: 168ms\tremaining: 569ms\n",
      "228:\tlearn: 0.1703164\ttotal: 169ms\tremaining: 568ms\n",
      "229:\tlearn: 0.1690046\ttotal: 169ms\tremaining: 566ms\n",
      "230:\tlearn: 0.1677817\ttotal: 170ms\tremaining: 565ms\n",
      "231:\tlearn: 0.1664209\ttotal: 170ms\tremaining: 563ms\n",
      "232:\tlearn: 0.1651491\ttotal: 171ms\tremaining: 561ms\n",
      "233:\tlearn: 0.1639446\ttotal: 171ms\tremaining: 560ms\n",
      "234:\tlearn: 0.1628423\ttotal: 171ms\tremaining: 558ms\n",
      "235:\tlearn: 0.1615760\ttotal: 172ms\tremaining: 557ms\n",
      "236:\tlearn: 0.1603462\ttotal: 173ms\tremaining: 555ms\n",
      "237:\tlearn: 0.1591063\ttotal: 173ms\tremaining: 554ms\n",
      "238:\tlearn: 0.1579427\ttotal: 174ms\tremaining: 553ms\n",
      "239:\tlearn: 0.1569106\ttotal: 174ms\tremaining: 551ms\n",
      "240:\tlearn: 0.1558320\ttotal: 174ms\tremaining: 549ms\n",
      "241:\tlearn: 0.1545243\ttotal: 175ms\tremaining: 548ms\n",
      "242:\tlearn: 0.1531171\ttotal: 175ms\tremaining: 546ms\n",
      "243:\tlearn: 0.1519781\ttotal: 176ms\tremaining: 545ms\n",
      "244:\tlearn: 0.1507592\ttotal: 176ms\tremaining: 543ms\n",
      "245:\tlearn: 0.1496727\ttotal: 177ms\tremaining: 542ms\n",
      "246:\tlearn: 0.1486754\ttotal: 177ms\tremaining: 541ms\n",
      "247:\tlearn: 0.1476676\ttotal: 178ms\tremaining: 540ms\n",
      "248:\tlearn: 0.1465702\ttotal: 178ms\tremaining: 538ms\n",
      "249:\tlearn: 0.1455457\ttotal: 179ms\tremaining: 537ms\n",
      "250:\tlearn: 0.1445514\ttotal: 180ms\tremaining: 536ms\n",
      "251:\tlearn: 0.1433328\ttotal: 180ms\tremaining: 534ms\n",
      "252:\tlearn: 0.1422165\ttotal: 181ms\tremaining: 533ms\n",
      "253:\tlearn: 0.1411742\ttotal: 181ms\tremaining: 532ms\n",
      "254:\tlearn: 0.1399319\ttotal: 182ms\tremaining: 531ms\n",
      "255:\tlearn: 0.1390434\ttotal: 182ms\tremaining: 530ms\n",
      "256:\tlearn: 0.1378528\ttotal: 183ms\tremaining: 529ms\n",
      "257:\tlearn: 0.1368920\ttotal: 184ms\tremaining: 528ms\n",
      "258:\tlearn: 0.1356423\ttotal: 184ms\tremaining: 527ms\n",
      "259:\tlearn: 0.1345711\ttotal: 185ms\tremaining: 525ms\n",
      "260:\tlearn: 0.1336907\ttotal: 185ms\tremaining: 524ms\n",
      "261:\tlearn: 0.1326987\ttotal: 186ms\tremaining: 523ms\n",
      "262:\tlearn: 0.1318520\ttotal: 186ms\tremaining: 522ms\n"
     ]
    },
    {
     "name": "stdout",
     "output_type": "stream",
     "text": [
      "263:\tlearn: 0.1309893\ttotal: 187ms\tremaining: 521ms\n",
      "264:\tlearn: 0.1299049\ttotal: 187ms\tremaining: 520ms\n",
      "265:\tlearn: 0.1290391\ttotal: 188ms\tremaining: 519ms\n",
      "266:\tlearn: 0.1280623\ttotal: 188ms\tremaining: 517ms\n",
      "267:\tlearn: 0.1271573\ttotal: 189ms\tremaining: 516ms\n",
      "268:\tlearn: 0.1263328\ttotal: 189ms\tremaining: 515ms\n",
      "269:\tlearn: 0.1254040\ttotal: 190ms\tremaining: 513ms\n",
      "270:\tlearn: 0.1244248\ttotal: 190ms\tremaining: 512ms\n",
      "271:\tlearn: 0.1234882\ttotal: 191ms\tremaining: 511ms\n",
      "272:\tlearn: 0.1224343\ttotal: 191ms\tremaining: 509ms\n",
      "273:\tlearn: 0.1214272\ttotal: 192ms\tremaining: 508ms\n",
      "274:\tlearn: 0.1205975\ttotal: 192ms\tremaining: 507ms\n",
      "275:\tlearn: 0.1197950\ttotal: 193ms\tremaining: 506ms\n",
      "276:\tlearn: 0.1189335\ttotal: 194ms\tremaining: 505ms\n",
      "277:\tlearn: 0.1181106\ttotal: 194ms\tremaining: 504ms\n",
      "278:\tlearn: 0.1173402\ttotal: 195ms\tremaining: 503ms\n",
      "279:\tlearn: 0.1165358\ttotal: 195ms\tremaining: 502ms\n",
      "280:\tlearn: 0.1156836\ttotal: 196ms\tremaining: 500ms\n",
      "281:\tlearn: 0.1148641\ttotal: 196ms\tremaining: 499ms\n",
      "282:\tlearn: 0.1140804\ttotal: 197ms\tremaining: 498ms\n",
      "283:\tlearn: 0.1133344\ttotal: 197ms\tremaining: 497ms\n",
      "284:\tlearn: 0.1124166\ttotal: 198ms\tremaining: 496ms\n",
      "285:\tlearn: 0.1117126\ttotal: 198ms\tremaining: 495ms\n",
      "286:\tlearn: 0.1109214\ttotal: 199ms\tremaining: 494ms\n",
      "287:\tlearn: 0.1101872\ttotal: 199ms\tremaining: 492ms\n",
      "288:\tlearn: 0.1094977\ttotal: 200ms\tremaining: 491ms\n",
      "289:\tlearn: 0.1088090\ttotal: 200ms\tremaining: 490ms\n",
      "290:\tlearn: 0.1081921\ttotal: 201ms\tremaining: 489ms\n",
      "291:\tlearn: 0.1073905\ttotal: 201ms\tremaining: 488ms\n",
      "292:\tlearn: 0.1067564\ttotal: 202ms\tremaining: 487ms\n",
      "293:\tlearn: 0.1060184\ttotal: 202ms\tremaining: 486ms\n",
      "294:\tlearn: 0.1053265\ttotal: 203ms\tremaining: 485ms\n",
      "295:\tlearn: 0.1046181\ttotal: 203ms\tremaining: 483ms\n",
      "296:\tlearn: 0.1039300\ttotal: 204ms\tremaining: 482ms\n",
      "297:\tlearn: 0.1032114\ttotal: 204ms\tremaining: 481ms\n",
      "298:\tlearn: 0.1025556\ttotal: 205ms\tremaining: 480ms\n",
      "299:\tlearn: 0.1018995\ttotal: 205ms\tremaining: 479ms\n",
      "300:\tlearn: 0.1012534\ttotal: 206ms\tremaining: 478ms\n",
      "301:\tlearn: 0.1006227\ttotal: 206ms\tremaining: 477ms\n",
      "302:\tlearn: 0.0999759\ttotal: 207ms\tremaining: 476ms\n",
      "303:\tlearn: 0.0993645\ttotal: 207ms\tremaining: 474ms\n",
      "304:\tlearn: 0.0987632\ttotal: 208ms\tremaining: 473ms\n",
      "305:\tlearn: 0.0981673\ttotal: 208ms\tremaining: 472ms\n",
      "306:\tlearn: 0.0975897\ttotal: 209ms\tremaining: 472ms\n",
      "307:\tlearn: 0.0969834\ttotal: 209ms\tremaining: 470ms\n",
      "308:\tlearn: 0.0962839\ttotal: 210ms\tremaining: 469ms\n",
      "309:\tlearn: 0.0956935\ttotal: 210ms\tremaining: 468ms\n",
      "310:\tlearn: 0.0950185\ttotal: 211ms\tremaining: 467ms\n",
      "311:\tlearn: 0.0943647\ttotal: 211ms\tremaining: 466ms\n",
      "312:\tlearn: 0.0937619\ttotal: 212ms\tremaining: 465ms\n",
      "313:\tlearn: 0.0931427\ttotal: 212ms\tremaining: 464ms\n",
      "314:\tlearn: 0.0925611\ttotal: 213ms\tremaining: 463ms\n",
      "315:\tlearn: 0.0920369\ttotal: 213ms\tremaining: 462ms\n",
      "316:\tlearn: 0.0915371\ttotal: 214ms\tremaining: 461ms\n",
      "317:\tlearn: 0.0910215\ttotal: 214ms\tremaining: 459ms\n",
      "318:\tlearn: 0.0905156\ttotal: 215ms\tremaining: 459ms\n",
      "319:\tlearn: 0.0899574\ttotal: 216ms\tremaining: 458ms\n",
      "320:\tlearn: 0.0894566\ttotal: 216ms\tremaining: 457ms\n",
      "321:\tlearn: 0.0888488\ttotal: 216ms\tremaining: 456ms\n",
      "322:\tlearn: 0.0882482\ttotal: 217ms\tremaining: 454ms\n",
      "323:\tlearn: 0.0876418\ttotal: 217ms\tremaining: 453ms\n",
      "324:\tlearn: 0.0871489\ttotal: 218ms\tremaining: 452ms\n",
      "325:\tlearn: 0.0865370\ttotal: 218ms\tremaining: 451ms\n",
      "326:\tlearn: 0.0859888\ttotal: 219ms\tremaining: 450ms\n",
      "327:\tlearn: 0.0854093\ttotal: 219ms\tremaining: 449ms\n",
      "328:\tlearn: 0.0848764\ttotal: 220ms\tremaining: 448ms\n",
      "329:\tlearn: 0.0844219\ttotal: 220ms\tremaining: 447ms\n",
      "330:\tlearn: 0.0838593\ttotal: 221ms\tremaining: 446ms\n",
      "331:\tlearn: 0.0833287\ttotal: 221ms\tremaining: 445ms\n",
      "332:\tlearn: 0.0828024\ttotal: 222ms\tremaining: 444ms\n",
      "333:\tlearn: 0.0823081\ttotal: 222ms\tremaining: 443ms\n",
      "334:\tlearn: 0.0819163\ttotal: 223ms\tremaining: 443ms\n",
      "335:\tlearn: 0.0814470\ttotal: 223ms\tremaining: 442ms\n",
      "336:\tlearn: 0.0809735\ttotal: 224ms\tremaining: 441ms\n",
      "337:\tlearn: 0.0805215\ttotal: 225ms\tremaining: 440ms\n",
      "338:\tlearn: 0.0800175\ttotal: 225ms\tremaining: 439ms\n",
      "339:\tlearn: 0.0795121\ttotal: 226ms\tremaining: 438ms\n",
      "340:\tlearn: 0.0790161\ttotal: 226ms\tremaining: 437ms\n",
      "341:\tlearn: 0.0785950\ttotal: 227ms\tremaining: 436ms\n",
      "342:\tlearn: 0.0780533\ttotal: 227ms\tremaining: 435ms\n",
      "343:\tlearn: 0.0775476\ttotal: 228ms\tremaining: 434ms\n",
      "344:\tlearn: 0.0771105\ttotal: 228ms\tremaining: 433ms\n",
      "345:\tlearn: 0.0766411\ttotal: 229ms\tremaining: 433ms\n",
      "346:\tlearn: 0.0762473\ttotal: 229ms\tremaining: 431ms\n",
      "347:\tlearn: 0.0757894\ttotal: 230ms\tremaining: 431ms\n",
      "348:\tlearn: 0.0754042\ttotal: 230ms\tremaining: 430ms\n",
      "349:\tlearn: 0.0749868\ttotal: 231ms\tremaining: 429ms\n",
      "350:\tlearn: 0.0745566\ttotal: 231ms\tremaining: 428ms\n",
      "351:\tlearn: 0.0741387\ttotal: 232ms\tremaining: 427ms\n",
      "352:\tlearn: 0.0737657\ttotal: 233ms\tremaining: 426ms\n",
      "353:\tlearn: 0.0733693\ttotal: 233ms\tremaining: 425ms\n",
      "354:\tlearn: 0.0730063\ttotal: 234ms\tremaining: 424ms\n",
      "355:\tlearn: 0.0725676\ttotal: 234ms\tremaining: 423ms\n",
      "356:\tlearn: 0.0721685\ttotal: 235ms\tremaining: 422ms\n",
      "357:\tlearn: 0.0717101\ttotal: 235ms\tremaining: 421ms\n",
      "358:\tlearn: 0.0713127\ttotal: 236ms\tremaining: 421ms\n",
      "359:\tlearn: 0.0708366\ttotal: 236ms\tremaining: 420ms\n",
      "360:\tlearn: 0.0704397\ttotal: 237ms\tremaining: 419ms\n",
      "361:\tlearn: 0.0700686\ttotal: 237ms\tremaining: 418ms\n",
      "362:\tlearn: 0.0696475\ttotal: 238ms\tremaining: 417ms\n",
      "363:\tlearn: 0.0692556\ttotal: 238ms\tremaining: 416ms\n",
      "364:\tlearn: 0.0688781\ttotal: 239ms\tremaining: 415ms\n",
      "365:\tlearn: 0.0683976\ttotal: 239ms\tremaining: 414ms\n",
      "366:\tlearn: 0.0679889\ttotal: 240ms\tremaining: 413ms\n",
      "367:\tlearn: 0.0676107\ttotal: 240ms\tremaining: 412ms\n",
      "368:\tlearn: 0.0672009\ttotal: 240ms\tremaining: 411ms\n",
      "369:\tlearn: 0.0668406\ttotal: 241ms\tremaining: 410ms\n",
      "370:\tlearn: 0.0664779\ttotal: 241ms\tremaining: 409ms\n",
      "371:\tlearn: 0.0661385\ttotal: 242ms\tremaining: 408ms\n",
      "372:\tlearn: 0.0657721\ttotal: 242ms\tremaining: 407ms\n",
      "373:\tlearn: 0.0654206\ttotal: 242ms\tremaining: 406ms\n",
      "374:\tlearn: 0.0650709\ttotal: 243ms\tremaining: 405ms\n",
      "375:\tlearn: 0.0646599\ttotal: 243ms\tremaining: 404ms\n",
      "376:\tlearn: 0.0643552\ttotal: 244ms\tremaining: 403ms\n",
      "377:\tlearn: 0.0640624\ttotal: 244ms\tremaining: 402ms\n",
      "378:\tlearn: 0.0637256\ttotal: 245ms\tremaining: 401ms\n",
      "379:\tlearn: 0.0633843\ttotal: 245ms\tremaining: 400ms\n",
      "380:\tlearn: 0.0629939\ttotal: 246ms\tremaining: 399ms\n",
      "381:\tlearn: 0.0625883\ttotal: 246ms\tremaining: 398ms\n",
      "382:\tlearn: 0.0623091\ttotal: 247ms\tremaining: 398ms\n",
      "383:\tlearn: 0.0619921\ttotal: 247ms\tremaining: 397ms\n",
      "384:\tlearn: 0.0616109\ttotal: 248ms\tremaining: 396ms\n",
      "385:\tlearn: 0.0612210\ttotal: 248ms\tremaining: 395ms\n",
      "386:\tlearn: 0.0608499\ttotal: 249ms\tremaining: 394ms\n",
      "387:\tlearn: 0.0604691\ttotal: 249ms\tremaining: 393ms\n",
      "388:\tlearn: 0.0601585\ttotal: 250ms\tremaining: 392ms\n",
      "389:\tlearn: 0.0599031\ttotal: 250ms\tremaining: 391ms\n",
      "390:\tlearn: 0.0596437\ttotal: 250ms\tremaining: 390ms\n",
      "391:\tlearn: 0.0593765\ttotal: 251ms\tremaining: 389ms\n",
      "392:\tlearn: 0.0590755\ttotal: 251ms\tremaining: 388ms\n",
      "393:\tlearn: 0.0588425\ttotal: 252ms\tremaining: 388ms\n",
      "394:\tlearn: 0.0585499\ttotal: 252ms\tremaining: 387ms\n",
      "395:\tlearn: 0.0582633\ttotal: 253ms\tremaining: 386ms\n",
      "396:\tlearn: 0.0579643\ttotal: 254ms\tremaining: 385ms\n",
      "397:\tlearn: 0.0576247\ttotal: 254ms\tremaining: 384ms\n",
      "398:\tlearn: 0.0573331\ttotal: 254ms\tremaining: 383ms\n",
      "399:\tlearn: 0.0570344\ttotal: 255ms\tremaining: 382ms\n",
      "400:\tlearn: 0.0567958\ttotal: 255ms\tremaining: 381ms\n",
      "401:\tlearn: 0.0565235\ttotal: 256ms\tremaining: 381ms\n",
      "402:\tlearn: 0.0562793\ttotal: 256ms\tremaining: 380ms\n",
      "403:\tlearn: 0.0560398\ttotal: 257ms\tremaining: 379ms\n",
      "404:\tlearn: 0.0557527\ttotal: 257ms\tremaining: 378ms\n",
      "405:\tlearn: 0.0554816\ttotal: 258ms\tremaining: 377ms\n",
      "406:\tlearn: 0.0552505\ttotal: 258ms\tremaining: 377ms\n",
      "407:\tlearn: 0.0550285\ttotal: 259ms\tremaining: 376ms\n",
      "408:\tlearn: 0.0547541\ttotal: 260ms\tremaining: 376ms\n",
      "409:\tlearn: 0.0545330\ttotal: 261ms\tremaining: 375ms\n",
      "410:\tlearn: 0.0543159\ttotal: 261ms\tremaining: 375ms\n",
      "411:\tlearn: 0.0540497\ttotal: 262ms\tremaining: 374ms\n",
      "412:\tlearn: 0.0537722\ttotal: 262ms\tremaining: 373ms\n",
      "413:\tlearn: 0.0535686\ttotal: 263ms\tremaining: 372ms\n",
      "414:\tlearn: 0.0533328\ttotal: 263ms\tremaining: 371ms\n",
      "415:\tlearn: 0.0530384\ttotal: 264ms\tremaining: 371ms\n",
      "416:\tlearn: 0.0526779\ttotal: 264ms\tremaining: 370ms\n",
      "417:\tlearn: 0.0524844\ttotal: 266ms\tremaining: 370ms\n",
      "418:\tlearn: 0.0521133\ttotal: 266ms\tremaining: 369ms\n",
      "419:\tlearn: 0.0518300\ttotal: 267ms\tremaining: 368ms\n",
      "420:\tlearn: 0.0514856\ttotal: 267ms\tremaining: 367ms\n",
      "421:\tlearn: 0.0511230\ttotal: 268ms\tremaining: 366ms\n",
      "422:\tlearn: 0.0508491\ttotal: 268ms\tremaining: 365ms\n",
      "423:\tlearn: 0.0504958\ttotal: 269ms\tremaining: 365ms\n",
      "424:\tlearn: 0.0501875\ttotal: 269ms\tremaining: 364ms\n",
      "425:\tlearn: 0.0499229\ttotal: 270ms\tremaining: 363ms\n",
      "426:\tlearn: 0.0495806\ttotal: 270ms\tremaining: 363ms\n",
      "427:\tlearn: 0.0493731\ttotal: 271ms\tremaining: 362ms\n",
      "428:\tlearn: 0.0490845\ttotal: 271ms\tremaining: 361ms\n",
      "429:\tlearn: 0.0488826\ttotal: 272ms\tremaining: 360ms\n",
      "430:\tlearn: 0.0486019\ttotal: 272ms\tremaining: 360ms\n",
      "431:\tlearn: 0.0483094\ttotal: 273ms\tremaining: 359ms\n",
      "432:\tlearn: 0.0480393\ttotal: 274ms\tremaining: 359ms\n",
      "433:\tlearn: 0.0477956\ttotal: 274ms\tremaining: 358ms\n",
      "434:\tlearn: 0.0475154\ttotal: 275ms\tremaining: 357ms\n",
      "435:\tlearn: 0.0472820\ttotal: 275ms\tremaining: 356ms\n",
      "436:\tlearn: 0.0470240\ttotal: 276ms\tremaining: 355ms\n",
      "437:\tlearn: 0.0467954\ttotal: 276ms\tremaining: 354ms\n",
      "438:\tlearn: 0.0465447\ttotal: 276ms\tremaining: 353ms\n",
      "439:\tlearn: 0.0463159\ttotal: 277ms\tremaining: 352ms\n",
      "440:\tlearn: 0.0460723\ttotal: 278ms\tremaining: 352ms\n",
      "441:\tlearn: 0.0458393\ttotal: 278ms\tremaining: 351ms\n",
      "442:\tlearn: 0.0456169\ttotal: 279ms\tremaining: 350ms\n",
      "443:\tlearn: 0.0453806\ttotal: 279ms\tremaining: 350ms\n",
      "444:\tlearn: 0.0451499\ttotal: 280ms\tremaining: 349ms\n",
      "445:\tlearn: 0.0449519\ttotal: 280ms\tremaining: 348ms\n",
      "446:\tlearn: 0.0447270\ttotal: 281ms\tremaining: 348ms\n",
      "447:\tlearn: 0.0445131\ttotal: 281ms\tremaining: 347ms\n",
      "448:\tlearn: 0.0443200\ttotal: 282ms\tremaining: 346ms\n",
      "449:\tlearn: 0.0440460\ttotal: 283ms\tremaining: 345ms\n",
      "450:\tlearn: 0.0438558\ttotal: 283ms\tremaining: 345ms\n",
      "451:\tlearn: 0.0437026\ttotal: 283ms\tremaining: 344ms\n",
      "452:\tlearn: 0.0435526\ttotal: 284ms\tremaining: 343ms\n",
      "453:\tlearn: 0.0433523\ttotal: 285ms\tremaining: 342ms\n",
      "454:\tlearn: 0.0432069\ttotal: 285ms\tremaining: 341ms\n",
      "455:\tlearn: 0.0430315\ttotal: 286ms\tremaining: 341ms\n",
      "456:\tlearn: 0.0428167\ttotal: 286ms\tremaining: 340ms\n",
      "457:\tlearn: 0.0425454\ttotal: 287ms\tremaining: 339ms\n",
      "458:\tlearn: 0.0424226\ttotal: 287ms\tremaining: 339ms\n",
      "459:\tlearn: 0.0422139\ttotal: 288ms\tremaining: 338ms\n",
      "460:\tlearn: 0.0420093\ttotal: 288ms\tremaining: 337ms\n",
      "461:\tlearn: 0.0417569\ttotal: 289ms\tremaining: 336ms\n",
      "462:\tlearn: 0.0416170\ttotal: 289ms\tremaining: 336ms\n",
      "463:\tlearn: 0.0414997\ttotal: 290ms\tremaining: 335ms\n"
     ]
    },
    {
     "name": "stdout",
     "output_type": "stream",
     "text": [
      "464:\tlearn: 0.0413358\ttotal: 290ms\tremaining: 334ms\n",
      "465:\tlearn: 0.0411996\ttotal: 291ms\tremaining: 333ms\n",
      "466:\tlearn: 0.0410665\ttotal: 291ms\tremaining: 333ms\n",
      "467:\tlearn: 0.0409056\ttotal: 292ms\tremaining: 332ms\n",
      "468:\tlearn: 0.0407925\ttotal: 292ms\tremaining: 331ms\n",
      "469:\tlearn: 0.0405917\ttotal: 293ms\tremaining: 330ms\n",
      "470:\tlearn: 0.0404890\ttotal: 294ms\tremaining: 330ms\n",
      "471:\tlearn: 0.0402931\ttotal: 294ms\tremaining: 329ms\n",
      "472:\tlearn: 0.0400566\ttotal: 294ms\tremaining: 328ms\n",
      "473:\tlearn: 0.0399297\ttotal: 295ms\tremaining: 327ms\n",
      "474:\tlearn: 0.0397761\ttotal: 295ms\tremaining: 326ms\n",
      "475:\tlearn: 0.0396337\ttotal: 296ms\tremaining: 326ms\n",
      "476:\tlearn: 0.0394677\ttotal: 296ms\tremaining: 325ms\n",
      "477:\tlearn: 0.0393445\ttotal: 297ms\tremaining: 324ms\n",
      "478:\tlearn: 0.0392079\ttotal: 297ms\tremaining: 323ms\n",
      "479:\tlearn: 0.0390475\ttotal: 298ms\tremaining: 322ms\n",
      "480:\tlearn: 0.0389627\ttotal: 298ms\tremaining: 322ms\n",
      "481:\tlearn: 0.0388790\ttotal: 298ms\tremaining: 321ms\n",
      "482:\tlearn: 0.0386841\ttotal: 299ms\tremaining: 320ms\n",
      "483:\tlearn: 0.0384418\ttotal: 299ms\tremaining: 319ms\n",
      "484:\tlearn: 0.0382060\ttotal: 300ms\tremaining: 318ms\n",
      "485:\tlearn: 0.0379766\ttotal: 300ms\tremaining: 318ms\n",
      "486:\tlearn: 0.0377533\ttotal: 301ms\tremaining: 317ms\n",
      "487:\tlearn: 0.0376402\ttotal: 301ms\tremaining: 316ms\n",
      "488:\tlearn: 0.0375608\ttotal: 302ms\tremaining: 316ms\n",
      "489:\tlearn: 0.0374826\ttotal: 302ms\tremaining: 315ms\n",
      "490:\tlearn: 0.0372396\ttotal: 303ms\tremaining: 314ms\n",
      "491:\tlearn: 0.0370378\ttotal: 304ms\tremaining: 313ms\n",
      "492:\tlearn: 0.0368050\ttotal: 304ms\tremaining: 313ms\n",
      "493:\tlearn: 0.0366083\ttotal: 305ms\tremaining: 312ms\n",
      "494:\tlearn: 0.0365300\ttotal: 305ms\tremaining: 311ms\n",
      "495:\tlearn: 0.0363372\ttotal: 306ms\tremaining: 311ms\n",
      "496:\tlearn: 0.0362600\ttotal: 307ms\tremaining: 310ms\n",
      "497:\tlearn: 0.0360709\ttotal: 307ms\tremaining: 310ms\n",
      "498:\tlearn: 0.0359949\ttotal: 308ms\tremaining: 309ms\n",
      "499:\tlearn: 0.0358094\ttotal: 308ms\tremaining: 308ms\n",
      "500:\tlearn: 0.0356069\ttotal: 308ms\tremaining: 307ms\n",
      "501:\tlearn: 0.0354259\ttotal: 309ms\tremaining: 307ms\n",
      "502:\tlearn: 0.0353423\ttotal: 309ms\tremaining: 306ms\n",
      "503:\tlearn: 0.0351650\ttotal: 310ms\tremaining: 305ms\n",
      "504:\tlearn: 0.0350917\ttotal: 311ms\tremaining: 305ms\n",
      "505:\tlearn: 0.0349178\ttotal: 311ms\tremaining: 304ms\n",
      "506:\tlearn: 0.0348455\ttotal: 312ms\tremaining: 303ms\n",
      "507:\tlearn: 0.0346750\ttotal: 312ms\tremaining: 303ms\n",
      "508:\tlearn: 0.0345676\ttotal: 313ms\tremaining: 302ms\n",
      "509:\tlearn: 0.0344004\ttotal: 313ms\tremaining: 301ms\n",
      "510:\tlearn: 0.0343205\ttotal: 314ms\tremaining: 301ms\n",
      "511:\tlearn: 0.0342421\ttotal: 315ms\tremaining: 300ms\n",
      "512:\tlearn: 0.0341475\ttotal: 315ms\tremaining: 299ms\n",
      "513:\tlearn: 0.0340678\ttotal: 316ms\tremaining: 299ms\n",
      "514:\tlearn: 0.0339892\ttotal: 316ms\tremaining: 298ms\n",
      "515:\tlearn: 0.0339118\ttotal: 317ms\tremaining: 297ms\n",
      "516:\tlearn: 0.0338447\ttotal: 317ms\tremaining: 296ms\n",
      "517:\tlearn: 0.0336832\ttotal: 318ms\tremaining: 296ms\n",
      "518:\tlearn: 0.0336125\ttotal: 319ms\tremaining: 295ms\n",
      "519:\tlearn: 0.0334469\ttotal: 319ms\tremaining: 294ms\n",
      "520:\tlearn: 0.0333722\ttotal: 320ms\tremaining: 294ms\n",
      "521:\tlearn: 0.0331899\ttotal: 320ms\tremaining: 293ms\n",
      "522:\tlearn: 0.0331170\ttotal: 321ms\tremaining: 292ms\n",
      "523:\tlearn: 0.0330451\ttotal: 321ms\tremaining: 292ms\n",
      "524:\tlearn: 0.0328688\ttotal: 321ms\tremaining: 291ms\n",
      "525:\tlearn: 0.0327319\ttotal: 322ms\tremaining: 290ms\n",
      "526:\tlearn: 0.0325610\ttotal: 322ms\tremaining: 289ms\n",
      "527:\tlearn: 0.0324287\ttotal: 323ms\tremaining: 289ms\n",
      "528:\tlearn: 0.0322457\ttotal: 323ms\tremaining: 288ms\n",
      "529:\tlearn: 0.0320920\ttotal: 324ms\tremaining: 287ms\n",
      "530:\tlearn: 0.0320245\ttotal: 324ms\tremaining: 287ms\n",
      "531:\tlearn: 0.0318739\ttotal: 325ms\tremaining: 286ms\n",
      "532:\tlearn: 0.0318036\ttotal: 325ms\tremaining: 285ms\n",
      "533:\tlearn: 0.0316115\ttotal: 326ms\tremaining: 284ms\n",
      "534:\tlearn: 0.0314653\ttotal: 326ms\tremaining: 284ms\n",
      "535:\tlearn: 0.0313220\ttotal: 327ms\tremaining: 283ms\n",
      "536:\tlearn: 0.0311341\ttotal: 327ms\tremaining: 282ms\n",
      "537:\tlearn: 0.0309492\ttotal: 328ms\tremaining: 281ms\n",
      "538:\tlearn: 0.0307667\ttotal: 328ms\tremaining: 281ms\n",
      "539:\tlearn: 0.0305863\ttotal: 329ms\tremaining: 280ms\n",
      "540:\tlearn: 0.0304500\ttotal: 329ms\tremaining: 279ms\n",
      "541:\tlearn: 0.0302736\ttotal: 330ms\tremaining: 278ms\n",
      "542:\tlearn: 0.0300996\ttotal: 330ms\tremaining: 278ms\n",
      "543:\tlearn: 0.0299255\ttotal: 330ms\tremaining: 277ms\n",
      "544:\tlearn: 0.0297672\ttotal: 331ms\tremaining: 276ms\n",
      "545:\tlearn: 0.0296372\ttotal: 331ms\tremaining: 276ms\n",
      "546:\tlearn: 0.0294703\ttotal: 332ms\tremaining: 275ms\n",
      "547:\tlearn: 0.0293025\ttotal: 332ms\tremaining: 274ms\n",
      "548:\tlearn: 0.0291769\ttotal: 333ms\tremaining: 273ms\n",
      "549:\tlearn: 0.0290123\ttotal: 333ms\tremaining: 273ms\n",
      "550:\tlearn: 0.0288523\ttotal: 334ms\tremaining: 272ms\n",
      "551:\tlearn: 0.0286904\ttotal: 334ms\tremaining: 271ms\n",
      "552:\tlearn: 0.0285349\ttotal: 335ms\tremaining: 271ms\n",
      "553:\tlearn: 0.0283768\ttotal: 336ms\tremaining: 270ms\n",
      "554:\tlearn: 0.0282258\ttotal: 336ms\tremaining: 269ms\n",
      "555:\tlearn: 0.0280599\ttotal: 336ms\tremaining: 269ms\n",
      "556:\tlearn: 0.0279813\ttotal: 337ms\tremaining: 268ms\n",
      "557:\tlearn: 0.0278281\ttotal: 338ms\tremaining: 267ms\n",
      "558:\tlearn: 0.0276668\ttotal: 338ms\tremaining: 267ms\n",
      "559:\tlearn: 0.0275086\ttotal: 339ms\tremaining: 266ms\n",
      "560:\tlearn: 0.0273948\ttotal: 339ms\tremaining: 265ms\n",
      "561:\tlearn: 0.0272404\ttotal: 340ms\tremaining: 265ms\n",
      "562:\tlearn: 0.0271652\ttotal: 340ms\tremaining: 264ms\n",
      "563:\tlearn: 0.0270188\ttotal: 341ms\tremaining: 263ms\n",
      "564:\tlearn: 0.0268687\ttotal: 341ms\tremaining: 263ms\n",
      "565:\tlearn: 0.0267643\ttotal: 342ms\tremaining: 262ms\n",
      "566:\tlearn: 0.0266916\ttotal: 342ms\tremaining: 261ms\n",
      "567:\tlearn: 0.0266028\ttotal: 343ms\tremaining: 261ms\n",
      "568:\tlearn: 0.0265393\ttotal: 343ms\tremaining: 260ms\n",
      "569:\tlearn: 0.0264276\ttotal: 344ms\tremaining: 259ms\n",
      "570:\tlearn: 0.0262873\ttotal: 344ms\tremaining: 258ms\n",
      "571:\tlearn: 0.0261849\ttotal: 344ms\tremaining: 258ms\n",
      "572:\tlearn: 0.0260534\ttotal: 345ms\tremaining: 257ms\n",
      "573:\tlearn: 0.0259172\ttotal: 345ms\tremaining: 256ms\n",
      "574:\tlearn: 0.0257898\ttotal: 346ms\tremaining: 255ms\n",
      "575:\tlearn: 0.0256687\ttotal: 346ms\tremaining: 255ms\n",
      "576:\tlearn: 0.0254965\ttotal: 347ms\tremaining: 254ms\n",
      "577:\tlearn: 0.0253738\ttotal: 347ms\tremaining: 254ms\n",
      "578:\tlearn: 0.0252740\ttotal: 348ms\tremaining: 253ms\n",
      "579:\tlearn: 0.0251762\ttotal: 348ms\tremaining: 252ms\n",
      "580:\tlearn: 0.0250437\ttotal: 349ms\tremaining: 251ms\n",
      "581:\tlearn: 0.0249488\ttotal: 349ms\tremaining: 251ms\n",
      "582:\tlearn: 0.0248319\ttotal: 350ms\tremaining: 250ms\n",
      "583:\tlearn: 0.0247386\ttotal: 350ms\tremaining: 249ms\n",
      "584:\tlearn: 0.0246471\ttotal: 351ms\tremaining: 249ms\n",
      "585:\tlearn: 0.0245995\ttotal: 351ms\tremaining: 248ms\n",
      "586:\tlearn: 0.0244736\ttotal: 352ms\tremaining: 247ms\n",
      "587:\tlearn: 0.0244269\ttotal: 352ms\tremaining: 247ms\n",
      "588:\tlearn: 0.0243384\ttotal: 353ms\tremaining: 246ms\n",
      "589:\tlearn: 0.0242928\ttotal: 353ms\tremaining: 245ms\n",
      "590:\tlearn: 0.0241960\ttotal: 353ms\tremaining: 244ms\n",
      "591:\tlearn: 0.0241096\ttotal: 354ms\tremaining: 244ms\n",
      "592:\tlearn: 0.0240652\ttotal: 354ms\tremaining: 243ms\n",
      "593:\tlearn: 0.0239708\ttotal: 355ms\tremaining: 242ms\n",
      "594:\tlearn: 0.0239161\ttotal: 355ms\tremaining: 242ms\n",
      "595:\tlearn: 0.0238320\ttotal: 356ms\tremaining: 241ms\n",
      "596:\tlearn: 0.0237893\ttotal: 356ms\tremaining: 240ms\n",
      "597:\tlearn: 0.0236974\ttotal: 356ms\tremaining: 240ms\n",
      "598:\tlearn: 0.0236448\ttotal: 357ms\tremaining: 239ms\n",
      "599:\tlearn: 0.0235618\ttotal: 357ms\tremaining: 238ms\n",
      "600:\tlearn: 0.0235207\ttotal: 358ms\tremaining: 238ms\n",
      "601:\tlearn: 0.0234313\ttotal: 358ms\tremaining: 237ms\n",
      "602:\tlearn: 0.0233509\ttotal: 359ms\tremaining: 236ms\n",
      "603:\tlearn: 0.0232273\ttotal: 359ms\tremaining: 236ms\n",
      "604:\tlearn: 0.0231774\ttotal: 360ms\tremaining: 235ms\n",
      "605:\tlearn: 0.0231468\ttotal: 360ms\tremaining: 234ms\n",
      "606:\tlearn: 0.0231021\ttotal: 361ms\tremaining: 233ms\n",
      "607:\tlearn: 0.0230250\ttotal: 361ms\tremaining: 233ms\n",
      "608:\tlearn: 0.0229397\ttotal: 361ms\tremaining: 232ms\n",
      "609:\tlearn: 0.0228330\ttotal: 362ms\tremaining: 231ms\n",
      "610:\tlearn: 0.0228012\ttotal: 362ms\tremaining: 231ms\n",
      "611:\tlearn: 0.0227449\ttotal: 363ms\tremaining: 230ms\n",
      "612:\tlearn: 0.0226264\ttotal: 363ms\tremaining: 229ms\n",
      "613:\tlearn: 0.0226038\ttotal: 364ms\tremaining: 229ms\n",
      "614:\tlearn: 0.0225223\ttotal: 364ms\tremaining: 228ms\n",
      "615:\tlearn: 0.0224462\ttotal: 365ms\tremaining: 227ms\n",
      "616:\tlearn: 0.0223411\ttotal: 365ms\tremaining: 227ms\n",
      "617:\tlearn: 0.0223194\ttotal: 365ms\tremaining: 226ms\n",
      "618:\tlearn: 0.0222589\ttotal: 366ms\tremaining: 225ms\n",
      "619:\tlearn: 0.0221827\ttotal: 366ms\tremaining: 225ms\n",
      "620:\tlearn: 0.0220806\ttotal: 367ms\tremaining: 224ms\n",
      "621:\tlearn: 0.0220058\ttotal: 367ms\tremaining: 223ms\n",
      "622:\tlearn: 0.0219061\ttotal: 368ms\tremaining: 223ms\n",
      "623:\tlearn: 0.0218532\ttotal: 368ms\tremaining: 222ms\n",
      "624:\tlearn: 0.0217407\ttotal: 369ms\tremaining: 221ms\n",
      "625:\tlearn: 0.0216708\ttotal: 369ms\tremaining: 221ms\n"
     ]
    },
    {
     "name": "stdout",
     "output_type": "stream",
     "text": [
      "626:\tlearn: 0.0216360\ttotal: 370ms\tremaining: 220ms\n",
      "627:\tlearn: 0.0216022\ttotal: 371ms\tremaining: 220ms\n",
      "628:\tlearn: 0.0215692\ttotal: 371ms\tremaining: 219ms\n",
      "629:\tlearn: 0.0215025\ttotal: 372ms\tremaining: 218ms\n",
      "630:\tlearn: 0.0214706\ttotal: 372ms\tremaining: 218ms\n",
      "631:\tlearn: 0.0214396\ttotal: 373ms\tremaining: 217ms\n",
      "632:\tlearn: 0.0214093\ttotal: 373ms\tremaining: 216ms\n",
      "633:\tlearn: 0.0213415\ttotal: 374ms\tremaining: 216ms\n",
      "634:\tlearn: 0.0213121\ttotal: 374ms\tremaining: 215ms\n",
      "635:\tlearn: 0.0212443\ttotal: 374ms\tremaining: 214ms\n",
      "636:\tlearn: 0.0211370\ttotal: 375ms\tremaining: 214ms\n",
      "637:\tlearn: 0.0211114\ttotal: 375ms\tremaining: 213ms\n",
      "638:\tlearn: 0.0210066\ttotal: 376ms\tremaining: 212ms\n",
      "639:\tlearn: 0.0209816\ttotal: 376ms\tremaining: 212ms\n",
      "640:\tlearn: 0.0208792\ttotal: 376ms\tremaining: 211ms\n",
      "641:\tlearn: 0.0208514\ttotal: 377ms\tremaining: 210ms\n",
      "642:\tlearn: 0.0208240\ttotal: 377ms\tremaining: 209ms\n",
      "643:\tlearn: 0.0207628\ttotal: 378ms\tremaining: 209ms\n",
      "644:\tlearn: 0.0207038\ttotal: 378ms\tremaining: 208ms\n",
      "645:\tlearn: 0.0206395\ttotal: 379ms\tremaining: 208ms\n",
      "646:\tlearn: 0.0206122\ttotal: 379ms\tremaining: 207ms\n",
      "647:\tlearn: 0.0205851\ttotal: 380ms\tremaining: 206ms\n",
      "648:\tlearn: 0.0204862\ttotal: 380ms\tremaining: 206ms\n",
      "649:\tlearn: 0.0204298\ttotal: 381ms\tremaining: 205ms\n",
      "650:\tlearn: 0.0204035\ttotal: 381ms\tremaining: 204ms\n",
      "651:\tlearn: 0.0203490\ttotal: 382ms\tremaining: 204ms\n",
      "652:\tlearn: 0.0202680\ttotal: 382ms\tremaining: 203ms\n",
      "653:\tlearn: 0.0202068\ttotal: 383ms\tremaining: 202ms\n",
      "654:\tlearn: 0.0201472\ttotal: 383ms\tremaining: 202ms\n",
      "655:\tlearn: 0.0200893\ttotal: 384ms\tremaining: 201ms\n",
      "656:\tlearn: 0.0200645\ttotal: 384ms\tremaining: 201ms\n",
      "657:\tlearn: 0.0200082\ttotal: 385ms\tremaining: 200ms\n",
      "658:\tlearn: 0.0199838\ttotal: 386ms\tremaining: 200ms\n",
      "659:\tlearn: 0.0199347\ttotal: 386ms\tremaining: 199ms\n",
      "660:\tlearn: 0.0198743\ttotal: 387ms\tremaining: 198ms\n",
      "661:\tlearn: 0.0198500\ttotal: 387ms\tremaining: 198ms\n",
      "662:\tlearn: 0.0197529\ttotal: 387ms\tremaining: 197ms\n",
      "663:\tlearn: 0.0197228\ttotal: 388ms\tremaining: 196ms\n",
      "664:\tlearn: 0.0196752\ttotal: 388ms\tremaining: 196ms\n",
      "665:\tlearn: 0.0195802\ttotal: 389ms\tremaining: 195ms\n",
      "666:\tlearn: 0.0195504\ttotal: 389ms\tremaining: 194ms\n",
      "667:\tlearn: 0.0194923\ttotal: 390ms\tremaining: 194ms\n",
      "668:\tlearn: 0.0194629\ttotal: 390ms\tremaining: 193ms\n",
      "669:\tlearn: 0.0193702\ttotal: 391ms\tremaining: 192ms\n",
      "670:\tlearn: 0.0192753\ttotal: 391ms\tremaining: 192ms\n",
      "671:\tlearn: 0.0191819\ttotal: 392ms\tremaining: 191ms\n",
      "672:\tlearn: 0.0190968\ttotal: 392ms\tremaining: 191ms\n",
      "673:\tlearn: 0.0190142\ttotal: 393ms\tremaining: 190ms\n",
      "674:\tlearn: 0.0189333\ttotal: 393ms\tremaining: 189ms\n",
      "675:\tlearn: 0.0189029\ttotal: 394ms\tremaining: 189ms\n",
      "676:\tlearn: 0.0187976\ttotal: 394ms\tremaining: 188ms\n",
      "677:\tlearn: 0.0187256\ttotal: 395ms\tremaining: 187ms\n",
      "678:\tlearn: 0.0186475\ttotal: 395ms\tremaining: 187ms\n",
      "679:\tlearn: 0.0185709\ttotal: 396ms\tremaining: 186ms\n",
      "680:\tlearn: 0.0184704\ttotal: 396ms\tremaining: 186ms\n",
      "681:\tlearn: 0.0184006\ttotal: 397ms\tremaining: 185ms\n",
      "682:\tlearn: 0.0183266\ttotal: 397ms\tremaining: 184ms\n",
      "683:\tlearn: 0.0182567\ttotal: 398ms\tremaining: 184ms\n",
      "684:\tlearn: 0.0181881\ttotal: 398ms\tremaining: 183ms\n",
      "685:\tlearn: 0.0181207\ttotal: 399ms\tremaining: 182ms\n",
      "686:\tlearn: 0.0180534\ttotal: 399ms\tremaining: 182ms\n",
      "687:\tlearn: 0.0179663\ttotal: 400ms\tremaining: 181ms\n",
      "688:\tlearn: 0.0178711\ttotal: 400ms\tremaining: 181ms\n",
      "689:\tlearn: 0.0178056\ttotal: 401ms\tremaining: 180ms\n",
      "690:\tlearn: 0.0177208\ttotal: 401ms\tremaining: 179ms\n",
      "691:\tlearn: 0.0176694\ttotal: 402ms\tremaining: 179ms\n",
      "692:\tlearn: 0.0176056\ttotal: 402ms\tremaining: 178ms\n",
      "693:\tlearn: 0.0175431\ttotal: 403ms\tremaining: 177ms\n",
      "694:\tlearn: 0.0174933\ttotal: 404ms\tremaining: 177ms\n",
      "695:\tlearn: 0.0174248\ttotal: 404ms\tremaining: 177ms\n",
      "696:\tlearn: 0.0173639\ttotal: 405ms\tremaining: 176ms\n",
      "697:\tlearn: 0.0172830\ttotal: 405ms\tremaining: 175ms\n",
      "698:\tlearn: 0.0172342\ttotal: 406ms\tremaining: 175ms\n",
      "699:\tlearn: 0.0171451\ttotal: 406ms\tremaining: 174ms\n",
      "700:\tlearn: 0.0170970\ttotal: 407ms\tremaining: 174ms\n",
      "701:\tlearn: 0.0170261\ttotal: 408ms\tremaining: 173ms\n",
      "702:\tlearn: 0.0169379\ttotal: 408ms\tremaining: 172ms\n",
      "703:\tlearn: 0.0168906\ttotal: 409ms\tremaining: 172ms\n",
      "704:\tlearn: 0.0168437\ttotal: 409ms\tremaining: 171ms\n",
      "705:\tlearn: 0.0168035\ttotal: 410ms\tremaining: 171ms\n",
      "706:\tlearn: 0.0167465\ttotal: 410ms\tremaining: 170ms\n",
      "707:\tlearn: 0.0166364\ttotal: 411ms\tremaining: 169ms\n",
      "708:\tlearn: 0.0165882\ttotal: 411ms\tremaining: 169ms\n",
      "709:\tlearn: 0.0164805\ttotal: 412ms\tremaining: 168ms\n",
      "710:\tlearn: 0.0164409\ttotal: 412ms\tremaining: 168ms\n",
      "711:\tlearn: 0.0163729\ttotal: 413ms\tremaining: 167ms\n",
      "712:\tlearn: 0.0163075\ttotal: 413ms\tremaining: 166ms\n",
      "713:\tlearn: 0.0162027\ttotal: 414ms\tremaining: 166ms\n",
      "714:\tlearn: 0.0161367\ttotal: 414ms\tremaining: 165ms\n",
      "715:\tlearn: 0.0160721\ttotal: 415ms\tremaining: 164ms\n",
      "716:\tlearn: 0.0160092\ttotal: 415ms\tremaining: 164ms\n",
      "717:\tlearn: 0.0159293\ttotal: 416ms\tremaining: 163ms\n",
      "718:\tlearn: 0.0158277\ttotal: 416ms\tremaining: 163ms\n",
      "719:\tlearn: 0.0157650\ttotal: 417ms\tremaining: 162ms\n",
      "720:\tlearn: 0.0156656\ttotal: 417ms\tremaining: 161ms\n",
      "721:\tlearn: 0.0155876\ttotal: 418ms\tremaining: 161ms\n",
      "722:\tlearn: 0.0155660\ttotal: 418ms\tremaining: 160ms\n",
      "723:\tlearn: 0.0154972\ttotal: 419ms\tremaining: 160ms\n",
      "724:\tlearn: 0.0154338\ttotal: 419ms\tremaining: 159ms\n",
      "725:\tlearn: 0.0153782\ttotal: 420ms\tremaining: 158ms\n",
      "726:\tlearn: 0.0153008\ttotal: 420ms\tremaining: 158ms\n",
      "727:\tlearn: 0.0152437\ttotal: 421ms\tremaining: 157ms\n",
      "728:\tlearn: 0.0151700\ttotal: 421ms\tremaining: 157ms\n",
      "729:\tlearn: 0.0151492\ttotal: 422ms\tremaining: 156ms\n",
      "730:\tlearn: 0.0150740\ttotal: 422ms\tremaining: 155ms\n",
      "731:\tlearn: 0.0150161\ttotal: 423ms\tremaining: 155ms\n",
      "732:\tlearn: 0.0149593\ttotal: 423ms\tremaining: 154ms\n",
      "733:\tlearn: 0.0149057\ttotal: 424ms\tremaining: 154ms\n",
      "734:\tlearn: 0.0148501\ttotal: 424ms\tremaining: 153ms\n",
      "735:\tlearn: 0.0147778\ttotal: 425ms\tremaining: 152ms\n",
      "736:\tlearn: 0.0147232\ttotal: 425ms\tremaining: 152ms\n",
      "737:\tlearn: 0.0146618\ttotal: 426ms\tremaining: 151ms\n",
      "738:\tlearn: 0.0146273\ttotal: 426ms\tremaining: 151ms\n",
      "739:\tlearn: 0.0145565\ttotal: 427ms\tremaining: 150ms\n",
      "740:\tlearn: 0.0145229\ttotal: 427ms\tremaining: 149ms\n",
      "741:\tlearn: 0.0144532\ttotal: 428ms\tremaining: 149ms\n",
      "742:\tlearn: 0.0144205\ttotal: 428ms\tremaining: 148ms\n",
      "743:\tlearn: 0.0143519\ttotal: 429ms\tremaining: 148ms\n",
      "744:\tlearn: 0.0143192\ttotal: 429ms\tremaining: 147ms\n",
      "745:\tlearn: 0.0142516\ttotal: 430ms\tremaining: 146ms\n",
      "746:\tlearn: 0.0142246\ttotal: 431ms\tremaining: 146ms\n",
      "747:\tlearn: 0.0141612\ttotal: 431ms\tremaining: 145ms\n",
      "748:\tlearn: 0.0141055\ttotal: 432ms\tremaining: 145ms\n",
      "749:\tlearn: 0.0140513\ttotal: 432ms\tremaining: 144ms\n",
      "750:\tlearn: 0.0140025\ttotal: 433ms\tremaining: 144ms\n",
      "751:\tlearn: 0.0139719\ttotal: 433ms\tremaining: 143ms\n",
      "752:\tlearn: 0.0139095\ttotal: 434ms\tremaining: 142ms\n",
      "753:\tlearn: 0.0138640\ttotal: 434ms\tremaining: 142ms\n",
      "754:\tlearn: 0.0138026\ttotal: 435ms\tremaining: 141ms\n",
      "755:\tlearn: 0.0137509\ttotal: 435ms\tremaining: 141ms\n",
      "756:\tlearn: 0.0137061\ttotal: 436ms\tremaining: 140ms\n",
      "757:\tlearn: 0.0136522\ttotal: 436ms\tremaining: 139ms\n",
      "758:\tlearn: 0.0135921\ttotal: 437ms\tremaining: 139ms\n",
      "759:\tlearn: 0.0135629\ttotal: 438ms\tremaining: 138ms\n",
      "760:\tlearn: 0.0135036\ttotal: 438ms\tremaining: 138ms\n",
      "761:\tlearn: 0.0134791\ttotal: 439ms\tremaining: 137ms\n",
      "762:\tlearn: 0.0134207\ttotal: 439ms\tremaining: 136ms\n",
      "763:\tlearn: 0.0133753\ttotal: 440ms\tremaining: 136ms\n",
      "764:\tlearn: 0.0133447\ttotal: 440ms\tremaining: 135ms\n",
      "765:\tlearn: 0.0132654\ttotal: 441ms\tremaining: 135ms\n",
      "766:\tlearn: 0.0131837\ttotal: 442ms\tremaining: 134ms\n",
      "767:\tlearn: 0.0131658\ttotal: 442ms\tremaining: 134ms\n",
      "768:\tlearn: 0.0130852\ttotal: 443ms\tremaining: 133ms\n",
      "769:\tlearn: 0.0130057\ttotal: 443ms\tremaining: 132ms\n",
      "770:\tlearn: 0.0129882\ttotal: 444ms\tremaining: 132ms\n",
      "771:\tlearn: 0.0129099\ttotal: 444ms\tremaining: 131ms\n",
      "772:\tlearn: 0.0128328\ttotal: 445ms\tremaining: 131ms\n",
      "773:\tlearn: 0.0127547\ttotal: 445ms\tremaining: 130ms\n",
      "774:\tlearn: 0.0127375\ttotal: 446ms\tremaining: 129ms\n",
      "775:\tlearn: 0.0126605\ttotal: 446ms\tremaining: 129ms\n",
      "776:\tlearn: 0.0126436\ttotal: 447ms\tremaining: 128ms\n",
      "777:\tlearn: 0.0125624\ttotal: 447ms\tremaining: 128ms\n",
      "778:\tlearn: 0.0124891\ttotal: 448ms\tremaining: 127ms\n",
      "779:\tlearn: 0.0124168\ttotal: 448ms\tremaining: 126ms\n",
      "780:\tlearn: 0.0124002\ttotal: 449ms\tremaining: 126ms\n",
      "781:\tlearn: 0.0123271\ttotal: 449ms\tremaining: 125ms\n",
      "782:\tlearn: 0.0122551\ttotal: 450ms\tremaining: 125ms\n",
      "783:\tlearn: 0.0122388\ttotal: 450ms\tremaining: 124ms\n",
      "784:\tlearn: 0.0121671\ttotal: 451ms\tremaining: 123ms\n",
      "785:\tlearn: 0.0121511\ttotal: 451ms\tremaining: 123ms\n",
      "786:\tlearn: 0.0120688\ttotal: 452ms\tremaining: 122ms\n",
      "787:\tlearn: 0.0119992\ttotal: 452ms\tremaining: 122ms\n",
      "788:\tlearn: 0.0119836\ttotal: 452ms\tremaining: 121ms\n",
      "789:\tlearn: 0.0119035\ttotal: 453ms\tremaining: 120ms\n",
      "790:\tlearn: 0.0118396\ttotal: 453ms\tremaining: 120ms\n",
      "791:\tlearn: 0.0118243\ttotal: 454ms\tremaining: 119ms\n",
      "792:\tlearn: 0.0117578\ttotal: 454ms\tremaining: 119ms\n",
      "793:\tlearn: 0.0117428\ttotal: 455ms\tremaining: 118ms\n",
      "794:\tlearn: 0.0116651\ttotal: 455ms\tremaining: 117ms\n",
      "795:\tlearn: 0.0116058\ttotal: 456ms\tremaining: 117ms\n",
      "796:\tlearn: 0.0115912\ttotal: 456ms\tremaining: 116ms\n",
      "797:\tlearn: 0.0115154\ttotal: 457ms\tremaining: 116ms\n",
      "798:\tlearn: 0.0114533\ttotal: 457ms\tremaining: 115ms\n",
      "799:\tlearn: 0.0113935\ttotal: 458ms\tremaining: 114ms\n",
      "800:\tlearn: 0.0113659\ttotal: 458ms\tremaining: 114ms\n",
      "801:\tlearn: 0.0113362\ttotal: 458ms\tremaining: 113ms\n",
      "802:\tlearn: 0.0112755\ttotal: 459ms\tremaining: 113ms\n",
      "803:\tlearn: 0.0112194\ttotal: 459ms\tremaining: 112ms\n",
      "804:\tlearn: 0.0111682\ttotal: 460ms\tremaining: 111ms\n",
      "805:\tlearn: 0.0111418\ttotal: 460ms\tremaining: 111ms\n",
      "806:\tlearn: 0.0110914\ttotal: 461ms\tremaining: 110ms\n",
      "807:\tlearn: 0.0110326\ttotal: 461ms\tremaining: 110ms\n",
      "808:\tlearn: 0.0109746\ttotal: 462ms\tremaining: 109ms\n",
      "809:\tlearn: 0.0109144\ttotal: 462ms\tremaining: 108ms\n",
      "810:\tlearn: 0.0108827\ttotal: 463ms\tremaining: 108ms\n",
      "811:\tlearn: 0.0108517\ttotal: 464ms\tremaining: 107ms\n",
      "812:\tlearn: 0.0108212\ttotal: 464ms\tremaining: 107ms\n",
      "813:\tlearn: 0.0107728\ttotal: 464ms\tremaining: 106ms\n",
      "814:\tlearn: 0.0107428\ttotal: 465ms\tremaining: 106ms\n",
      "815:\tlearn: 0.0107183\ttotal: 465ms\tremaining: 105ms\n",
      "816:\tlearn: 0.0106942\ttotal: 466ms\tremaining: 104ms\n",
      "817:\tlearn: 0.0106609\ttotal: 466ms\tremaining: 104ms\n",
      "818:\tlearn: 0.0106318\ttotal: 467ms\tremaining: 103ms\n",
      "819:\tlearn: 0.0105884\ttotal: 468ms\tremaining: 103ms\n",
      "820:\tlearn: 0.0105618\ttotal: 468ms\tremaining: 102ms\n",
      "821:\tlearn: 0.0105157\ttotal: 468ms\tremaining: 101ms\n",
      "822:\tlearn: 0.0104877\ttotal: 469ms\tremaining: 101ms\n",
      "823:\tlearn: 0.0104503\ttotal: 469ms\tremaining: 100ms\n",
      "824:\tlearn: 0.0104246\ttotal: 470ms\tremaining: 99.6ms\n",
      "825:\tlearn: 0.0103880\ttotal: 470ms\tremaining: 99.1ms\n",
      "826:\tlearn: 0.0103513\ttotal: 471ms\tremaining: 98.5ms\n",
      "827:\tlearn: 0.0103153\ttotal: 471ms\tremaining: 97.8ms\n",
      "828:\tlearn: 0.0102731\ttotal: 472ms\tremaining: 97.3ms\n",
      "829:\tlearn: 0.0102466\ttotal: 472ms\tremaining: 96.7ms\n",
      "830:\tlearn: 0.0102058\ttotal: 472ms\tremaining: 96.1ms\n",
      "831:\tlearn: 0.0101798\ttotal: 473ms\tremaining: 95.5ms\n"
     ]
    },
    {
     "name": "stdout",
     "output_type": "stream",
     "text": [
      "832:\tlearn: 0.0101399\ttotal: 474ms\tremaining: 94.9ms\n",
      "833:\tlearn: 0.0101006\ttotal: 474ms\tremaining: 94.4ms\n",
      "834:\tlearn: 0.0100617\ttotal: 475ms\tremaining: 93.8ms\n",
      "835:\tlearn: 0.0100377\ttotal: 475ms\tremaining: 93.2ms\n",
      "836:\tlearn: 0.0099986\ttotal: 475ms\tremaining: 92.6ms\n",
      "837:\tlearn: 0.0099713\ttotal: 476ms\tremaining: 92ms\n",
      "838:\tlearn: 0.0099292\ttotal: 476ms\tremaining: 91.4ms\n",
      "839:\tlearn: 0.0098920\ttotal: 477ms\tremaining: 90.8ms\n",
      "840:\tlearn: 0.0098454\ttotal: 477ms\tremaining: 90.2ms\n",
      "841:\tlearn: 0.0098079\ttotal: 478ms\tremaining: 89.7ms\n",
      "842:\tlearn: 0.0097782\ttotal: 479ms\tremaining: 89.2ms\n",
      "843:\tlearn: 0.0097351\ttotal: 480ms\tremaining: 88.7ms\n",
      "844:\tlearn: 0.0097090\ttotal: 481ms\tremaining: 88.1ms\n",
      "845:\tlearn: 0.0096777\ttotal: 481ms\tremaining: 87.5ms\n",
      "846:\tlearn: 0.0096471\ttotal: 481ms\tremaining: 86.9ms\n",
      "847:\tlearn: 0.0096185\ttotal: 482ms\tremaining: 86.3ms\n",
      "848:\tlearn: 0.0095890\ttotal: 482ms\tremaining: 85.8ms\n",
      "849:\tlearn: 0.0095605\ttotal: 483ms\tremaining: 85.1ms\n",
      "850:\tlearn: 0.0095153\ttotal: 483ms\tremaining: 84.6ms\n",
      "851:\tlearn: 0.0094870\ttotal: 483ms\tremaining: 84ms\n",
      "852:\tlearn: 0.0094586\ttotal: 484ms\tremaining: 83.4ms\n",
      "853:\tlearn: 0.0094309\ttotal: 484ms\tremaining: 82.8ms\n",
      "854:\tlearn: 0.0094045\ttotal: 485ms\tremaining: 82.2ms\n",
      "855:\tlearn: 0.0093487\ttotal: 485ms\tremaining: 81.7ms\n",
      "856:\tlearn: 0.0093050\ttotal: 486ms\tremaining: 81.1ms\n",
      "857:\tlearn: 0.0092571\ttotal: 487ms\tremaining: 80.6ms\n",
      "858:\tlearn: 0.0092103\ttotal: 487ms\tremaining: 80ms\n",
      "859:\tlearn: 0.0091564\ttotal: 488ms\tremaining: 79.4ms\n",
      "860:\tlearn: 0.0091275\ttotal: 488ms\tremaining: 78.8ms\n",
      "861:\tlearn: 0.0091013\ttotal: 489ms\tremaining: 78.3ms\n",
      "862:\tlearn: 0.0090560\ttotal: 489ms\tremaining: 77.7ms\n",
      "863:\tlearn: 0.0090058\ttotal: 490ms\tremaining: 77.1ms\n",
      "864:\tlearn: 0.0089700\ttotal: 491ms\tremaining: 76.6ms\n",
      "865:\tlearn: 0.0089215\ttotal: 491ms\tremaining: 76ms\n",
      "866:\tlearn: 0.0088868\ttotal: 491ms\tremaining: 75.4ms\n",
      "867:\tlearn: 0.0088606\ttotal: 492ms\tremaining: 74.8ms\n",
      "868:\tlearn: 0.0088122\ttotal: 493ms\tremaining: 74.3ms\n",
      "869:\tlearn: 0.0087788\ttotal: 493ms\tremaining: 73.7ms\n",
      "870:\tlearn: 0.0087533\ttotal: 494ms\tremaining: 73.1ms\n",
      "871:\tlearn: 0.0087290\ttotal: 494ms\tremaining: 72.5ms\n",
      "872:\tlearn: 0.0086951\ttotal: 495ms\tremaining: 72ms\n",
      "873:\tlearn: 0.0086621\ttotal: 495ms\tremaining: 71.4ms\n",
      "874:\tlearn: 0.0086298\ttotal: 496ms\tremaining: 70.8ms\n",
      "875:\tlearn: 0.0086010\ttotal: 496ms\tremaining: 70.2ms\n",
      "876:\tlearn: 0.0085696\ttotal: 497ms\tremaining: 69.7ms\n",
      "877:\tlearn: 0.0085383\ttotal: 497ms\tremaining: 69.1ms\n",
      "878:\tlearn: 0.0085104\ttotal: 498ms\tremaining: 68.5ms\n",
      "879:\tlearn: 0.0084832\ttotal: 498ms\tremaining: 68ms\n",
      "880:\tlearn: 0.0084507\ttotal: 499ms\tremaining: 67.4ms\n",
      "881:\tlearn: 0.0084056\ttotal: 499ms\tremaining: 66.8ms\n",
      "882:\tlearn: 0.0083601\ttotal: 500ms\tremaining: 66.3ms\n",
      "883:\tlearn: 0.0083162\ttotal: 501ms\tremaining: 65.7ms\n",
      "884:\tlearn: 0.0082872\ttotal: 501ms\tremaining: 65.1ms\n",
      "885:\tlearn: 0.0082579\ttotal: 502ms\tremaining: 64.6ms\n",
      "886:\tlearn: 0.0082147\ttotal: 502ms\tremaining: 64ms\n",
      "887:\tlearn: 0.0081726\ttotal: 503ms\tremaining: 63.4ms\n",
      "888:\tlearn: 0.0081601\ttotal: 503ms\tremaining: 62.8ms\n",
      "889:\tlearn: 0.0081153\ttotal: 504ms\tremaining: 62.3ms\n",
      "890:\tlearn: 0.0080688\ttotal: 504ms\tremaining: 61.7ms\n",
      "891:\tlearn: 0.0080560\ttotal: 505ms\tremaining: 61.1ms\n",
      "892:\tlearn: 0.0080240\ttotal: 505ms\tremaining: 60.5ms\n",
      "893:\tlearn: 0.0080028\ttotal: 506ms\tremaining: 60ms\n",
      "894:\tlearn: 0.0079773\ttotal: 506ms\tremaining: 59.4ms\n",
      "895:\tlearn: 0.0079648\ttotal: 507ms\tremaining: 58.8ms\n",
      "896:\tlearn: 0.0079337\ttotal: 507ms\tremaining: 58.2ms\n",
      "897:\tlearn: 0.0079132\ttotal: 508ms\tremaining: 57.7ms\n",
      "898:\tlearn: 0.0078849\ttotal: 508ms\tremaining: 57.1ms\n",
      "899:\tlearn: 0.0078467\ttotal: 509ms\tremaining: 56.6ms\n",
      "900:\tlearn: 0.0078346\ttotal: 510ms\tremaining: 56ms\n",
      "901:\tlearn: 0.0077972\ttotal: 510ms\tremaining: 55.4ms\n",
      "902:\tlearn: 0.0077848\ttotal: 510ms\tremaining: 54.8ms\n",
      "903:\tlearn: 0.0077656\ttotal: 511ms\tremaining: 54.3ms\n",
      "904:\tlearn: 0.0077413\ttotal: 511ms\tremaining: 53.7ms\n",
      "905:\tlearn: 0.0077336\ttotal: 512ms\tremaining: 53.1ms\n",
      "906:\tlearn: 0.0076971\ttotal: 512ms\tremaining: 52.5ms\n",
      "907:\tlearn: 0.0076810\ttotal: 513ms\tremaining: 52ms\n",
      "908:\tlearn: 0.0076519\ttotal: 513ms\tremaining: 51.4ms\n",
      "909:\tlearn: 0.0076233\ttotal: 514ms\tremaining: 50.8ms\n",
      "910:\tlearn: 0.0075972\ttotal: 514ms\tremaining: 50.2ms\n",
      "911:\tlearn: 0.0075720\ttotal: 515ms\tremaining: 49.7ms\n",
      "912:\tlearn: 0.0075528\ttotal: 515ms\tremaining: 49.1ms\n",
      "913:\tlearn: 0.0075281\ttotal: 516ms\tremaining: 48.5ms\n",
      "914:\tlearn: 0.0075094\ttotal: 516ms\tremaining: 48ms\n",
      "915:\tlearn: 0.0074853\ttotal: 517ms\tremaining: 47.5ms\n",
      "916:\tlearn: 0.0074669\ttotal: 518ms\tremaining: 46.9ms\n",
      "917:\tlearn: 0.0074245\ttotal: 518ms\tremaining: 46.3ms\n",
      "918:\tlearn: 0.0073969\ttotal: 519ms\tremaining: 45.7ms\n",
      "919:\tlearn: 0.0073736\ttotal: 519ms\tremaining: 45.2ms\n",
      "920:\tlearn: 0.0073557\ttotal: 520ms\tremaining: 44.6ms\n",
      "921:\tlearn: 0.0073145\ttotal: 520ms\tremaining: 44ms\n",
      "922:\tlearn: 0.0073016\ttotal: 521ms\tremaining: 43.4ms\n",
      "923:\tlearn: 0.0072747\ttotal: 521ms\tremaining: 42.9ms\n",
      "924:\tlearn: 0.0072572\ttotal: 522ms\tremaining: 42.3ms\n",
      "925:\tlearn: 0.0072172\ttotal: 522ms\tremaining: 41.7ms\n",
      "926:\tlearn: 0.0072048\ttotal: 523ms\tremaining: 41.2ms\n",
      "927:\tlearn: 0.0071830\ttotal: 523ms\tremaining: 40.6ms\n",
      "928:\tlearn: 0.0071593\ttotal: 524ms\tremaining: 40ms\n",
      "929:\tlearn: 0.0071492\ttotal: 524ms\tremaining: 39.5ms\n",
      "930:\tlearn: 0.0071260\ttotal: 525ms\tremaining: 38.9ms\n",
      "931:\tlearn: 0.0071037\ttotal: 526ms\tremaining: 38.3ms\n",
      "932:\tlearn: 0.0070868\ttotal: 526ms\tremaining: 37.8ms\n",
      "933:\tlearn: 0.0070551\ttotal: 527ms\tremaining: 37.2ms\n",
      "934:\tlearn: 0.0070454\ttotal: 527ms\tremaining: 36.6ms\n",
      "935:\tlearn: 0.0070239\ttotal: 527ms\tremaining: 36.1ms\n",
      "936:\tlearn: 0.0069943\ttotal: 528ms\tremaining: 35.5ms\n",
      "937:\tlearn: 0.0069566\ttotal: 528ms\tremaining: 34.9ms\n",
      "938:\tlearn: 0.0069279\ttotal: 529ms\tremaining: 34.4ms\n",
      "939:\tlearn: 0.0069181\ttotal: 529ms\tremaining: 33.8ms\n",
      "940:\tlearn: 0.0068872\ttotal: 530ms\tremaining: 33.2ms\n",
      "941:\tlearn: 0.0068763\ttotal: 530ms\tremaining: 32.6ms\n",
      "942:\tlearn: 0.0068666\ttotal: 531ms\tremaining: 32.1ms\n",
      "943:\tlearn: 0.0068296\ttotal: 531ms\tremaining: 31.5ms\n",
      "944:\tlearn: 0.0067993\ttotal: 532ms\tremaining: 31ms\n",
      "945:\tlearn: 0.0067720\ttotal: 532ms\tremaining: 30.4ms\n",
      "946:\tlearn: 0.0067290\ttotal: 533ms\tremaining: 29.8ms\n",
      "947:\tlearn: 0.0066952\ttotal: 533ms\tremaining: 29.3ms\n",
      "948:\tlearn: 0.0066658\ttotal: 534ms\tremaining: 28.7ms\n",
      "949:\tlearn: 0.0066356\ttotal: 534ms\tremaining: 28.1ms\n",
      "950:\tlearn: 0.0066146\ttotal: 535ms\tremaining: 27.5ms\n",
      "951:\tlearn: 0.0065939\ttotal: 535ms\tremaining: 27ms\n",
      "952:\tlearn: 0.0065526\ttotal: 536ms\tremaining: 26.4ms\n",
      "953:\tlearn: 0.0065203\ttotal: 536ms\tremaining: 25.8ms\n",
      "954:\tlearn: 0.0064923\ttotal: 536ms\tremaining: 25.3ms\n",
      "955:\tlearn: 0.0064607\ttotal: 537ms\tremaining: 24.7ms\n",
      "956:\tlearn: 0.0064335\ttotal: 537ms\tremaining: 24.1ms\n",
      "957:\tlearn: 0.0064001\ttotal: 538ms\tremaining: 23.6ms\n"
     ]
    },
    {
     "name": "stdout",
     "output_type": "stream",
     "text": [
      "958:\tlearn: 0.0063673\ttotal: 538ms\tremaining: 23ms\n",
      "959:\tlearn: 0.0063367\ttotal: 539ms\tremaining: 22.4ms\n",
      "960:\tlearn: 0.0063106\ttotal: 539ms\tremaining: 21.9ms\n",
      "961:\tlearn: 0.0062835\ttotal: 540ms\tremaining: 21.3ms\n",
      "962:\tlearn: 0.0062557\ttotal: 540ms\tremaining: 20.8ms\n",
      "963:\tlearn: 0.0062260\ttotal: 541ms\tremaining: 20.2ms\n",
      "964:\tlearn: 0.0062010\ttotal: 541ms\tremaining: 19.6ms\n",
      "965:\tlearn: 0.0061750\ttotal: 541ms\tremaining: 19.1ms\n",
      "966:\tlearn: 0.0061379\ttotal: 542ms\tremaining: 18.5ms\n",
      "967:\tlearn: 0.0061086\ttotal: 542ms\tremaining: 17.9ms\n",
      "968:\tlearn: 0.0060820\ttotal: 543ms\tremaining: 17.4ms\n",
      "969:\tlearn: 0.0060627\ttotal: 543ms\tremaining: 16.8ms\n",
      "970:\tlearn: 0.0060391\ttotal: 544ms\tremaining: 16.2ms\n",
      "971:\tlearn: 0.0060135\ttotal: 544ms\tremaining: 15.7ms\n",
      "972:\tlearn: 0.0059885\ttotal: 545ms\tremaining: 15.1ms\n",
      "973:\tlearn: 0.0059701\ttotal: 545ms\tremaining: 14.5ms\n",
      "974:\tlearn: 0.0059490\ttotal: 545ms\tremaining: 14ms\n",
      "975:\tlearn: 0.0059283\ttotal: 546ms\tremaining: 13.4ms\n",
      "976:\tlearn: 0.0058991\ttotal: 546ms\tremaining: 12.9ms\n",
      "977:\tlearn: 0.0058705\ttotal: 547ms\tremaining: 12.3ms\n",
      "978:\tlearn: 0.0058452\ttotal: 547ms\tremaining: 11.7ms\n",
      "979:\tlearn: 0.0058218\ttotal: 547ms\tremaining: 11.2ms\n",
      "980:\tlearn: 0.0057940\ttotal: 548ms\tremaining: 10.6ms\n",
      "981:\tlearn: 0.0057695\ttotal: 549ms\tremaining: 10.1ms\n",
      "982:\tlearn: 0.0057433\ttotal: 549ms\tremaining: 9.49ms\n",
      "983:\tlearn: 0.0057195\ttotal: 550ms\tremaining: 8.94ms\n",
      "984:\tlearn: 0.0056942\ttotal: 550ms\tremaining: 8.38ms\n",
      "985:\tlearn: 0.0056713\ttotal: 551ms\tremaining: 7.82ms\n",
      "986:\tlearn: 0.0056445\ttotal: 551ms\tremaining: 7.26ms\n",
      "987:\tlearn: 0.0056222\ttotal: 552ms\tremaining: 6.7ms\n",
      "988:\tlearn: 0.0056036\ttotal: 552ms\tremaining: 6.14ms\n",
      "989:\tlearn: 0.0055854\ttotal: 553ms\tremaining: 5.58ms\n",
      "990:\tlearn: 0.0055594\ttotal: 553ms\tremaining: 5.02ms\n",
      "991:\tlearn: 0.0055384\ttotal: 553ms\tremaining: 4.46ms\n",
      "992:\tlearn: 0.0055205\ttotal: 554ms\tremaining: 3.9ms\n",
      "993:\tlearn: 0.0055028\ttotal: 554ms\tremaining: 3.35ms\n",
      "994:\tlearn: 0.0054854\ttotal: 555ms\tremaining: 2.79ms\n",
      "995:\tlearn: 0.0054619\ttotal: 555ms\tremaining: 2.23ms\n",
      "996:\tlearn: 0.0054369\ttotal: 556ms\tremaining: 1.67ms\n",
      "997:\tlearn: 0.0054175\ttotal: 556ms\tremaining: 1.11ms\n",
      "998:\tlearn: 0.0053990\ttotal: 557ms\tremaining: 557us\n",
      "999:\tlearn: 0.0053735\ttotal: 557ms\tremaining: 0us\n"
     ]
    },
    {
     "data": {
      "text/plain": [
       "<catboost.core.CatBoostRegressor at 0x7fc6b17aa1c0>"
      ]
     },
     "execution_count": 9,
     "metadata": {},
     "output_type": "execute_result"
    }
   ],
   "source": [
    "#Train the Model \n",
    "prior_model = ctb.CatBoostRegressor()\n",
    "prior_model.fit(X_train,Y_train)"
   ]
  },
  {
   "cell_type": "code",
   "execution_count": 10,
   "id": "af65dcda",
   "metadata": {
    "execution": {
     "iopub.execute_input": "2022-02-13T15:05:08.857341Z",
     "iopub.status.busy": "2022-02-13T15:05:08.856955Z",
     "iopub.status.idle": "2022-02-13T15:05:08.864326Z",
     "shell.execute_reply": "2022-02-13T15:05:08.864566Z"
    },
    "id": "af65dcda",
    "papermill": {
     "duration": 0.019924,
     "end_time": "2022-02-13T15:05:08.864681",
     "exception": false,
     "start_time": "2022-02-13T15:05:08.844757",
     "status": "completed"
    },
    "tags": []
   },
   "outputs": [
    {
     "data": {
      "application/scrapbook.scrap.json+json": {
       "data": 0.17260417816741178,
       "encoder": "json",
       "name": "Prior Model MSE",
       "version": 1
      }
     },
     "metadata": {
      "scrapbook": {
       "data": true,
       "display": false,
       "name": "Prior Model MSE"
      }
     },
     "output_type": "display_data"
    },
    {
     "data": {
      "application/scrapbook.scrap.json+json": {
       "data": 0.17490905609299653,
       "encoder": "json",
       "name": "ABC Pre-generator MSE",
       "version": 1
      }
     },
     "metadata": {
      "scrapbook": {
       "data": true,
       "display": false,
       "name": "ABC Pre-generator MSE"
      }
     },
     "output_type": "display_data"
    },
    {
     "data": {
      "application/scrapbook.scrap.json+json": {
       "data": 0.3043168086129163,
       "encoder": "json",
       "name": "Prior Model MSE",
       "version": 1
      }
     },
     "metadata": {
      "scrapbook": {
       "data": true,
       "display": false,
       "name": "Prior Model MSE"
      }
     },
     "output_type": "display_data"
    },
    {
     "data": {
      "application/scrapbook.scrap.json+json": {
       "data": 0.30493089880610824,
       "encoder": "json",
       "name": "ABC Pre-generator MSE",
       "version": 1
      }
     },
     "metadata": {
      "scrapbook": {
       "data": true,
       "display": false,
       "name": "ABC Pre-generator MSE"
      }
     },
     "output_type": "display_data"
    }
   ],
   "source": [
    "y_pred = prior_model.predict(X_test)\n",
    "y_abc = y_pred + np.random.normal(0,variance, y_pred.shape)\n",
    "mse = mean_squared_error(y_pred,Y_test)\n",
    "sb.glue(\"Prior Model MSE\",mse)\n",
    "mse = mean_squared_error(y_abc,Y_test)\n",
    "sb.glue(\"ABC Pre-generator MSE\",mse)\n",
    "\n",
    "mae = mean_absolute_error(y_pred,Y_test)\n",
    "sb.glue(\"Prior Model MSE\",mae)\n",
    "mae = mean_absolute_error(y_abc,Y_test)\n",
    "sb.glue(\"ABC Pre-generator MSE\",mae)"
   ]
  },
  {
   "cell_type": "markdown",
   "id": "25609da2",
   "metadata": {
    "papermill": {
     "duration": 0.009471,
     "end_time": "2022-02-13T15:05:08.884081",
     "exception": false,
     "start_time": "2022-02-13T15:05:08.874610",
     "status": "completed"
    },
    "tags": []
   },
   "source": [
    "# ABC GAN Model"
   ]
  },
  {
   "cell_type": "code",
   "execution_count": 11,
   "id": "dfc3464d",
   "metadata": {
    "execution": {
     "iopub.execute_input": "2022-02-13T15:05:08.906182Z",
     "iopub.status.busy": "2022-02-13T15:05:08.905795Z",
     "iopub.status.idle": "2022-02-13T15:05:08.908146Z",
     "shell.execute_reply": "2022-02-13T15:05:08.908390Z"
    },
    "papermill": {
     "duration": 0.014916,
     "end_time": "2022-02-13T15:05:08.908497",
     "exception": false,
     "start_time": "2022-02-13T15:05:08.893581",
     "status": "completed"
    },
    "tags": []
   },
   "outputs": [],
   "source": [
    "gen = network.Generator(n_features+1).to(device)\n",
    "disc = network.Discriminator(n_features+1).to(device)\n",
    "\n",
    "criterion = torch.nn.BCELoss()\n",
    "gen_opt = torch.optim.Adam(gen.parameters(), lr=0.001, betas=(0.5, 0.999))\n",
    "disc_opt = torch.optim.Adam(disc.parameters(), lr=0.001, betas=(0.5, 0.999))"
   ]
  },
  {
   "cell_type": "code",
   "execution_count": 12,
   "id": "b75fdd85",
   "metadata": {
    "execution": {
     "iopub.execute_input": "2022-02-13T15:05:08.929936Z",
     "iopub.status.busy": "2022-02-13T15:05:08.929567Z",
     "iopub.status.idle": "2022-02-13T15:05:22.417245Z",
     "shell.execute_reply": "2022-02-13T15:05:22.417549Z"
    },
    "papermill": {
     "duration": 13.499513,
     "end_time": "2022-02-13T15:05:22.417677",
     "exception": false,
     "start_time": "2022-02-13T15:05:08.918164",
     "status": "completed"
    },
    "tags": []
   },
   "outputs": [
    {
     "data": {
      "image/png": "[encoded data removed]",
      "text/plain": [
       "<Figure size 432x288 with 1 Axes>"
      ]
     },
     "metadata": {
      "needs_background": "light"
     },
     "output_type": "display_data"
    },
    {
     "data": {
      "image/png": "[encoded data removed]",
      "text/plain": [
       "<Figure size 432x288 with 1 Axes>"
      ]
     },
     "metadata": {
      "needs_background": "light"
     },
     "output_type": "display_data"
    }
   ],
   "source": [
    "#Training the ABC_GAN \n",
    "ABC_train_test2.training_GAN(disc,gen,disc_opt,gen_opt,train_data,batch_size,n_epochs,criterion,prior_model,variance,device)"
   ]
  },
  {
   "cell_type": "code",
   "execution_count": 13,
   "id": "1fa7c368",
   "metadata": {
    "execution": {
     "iopub.execute_input": "2022-02-13T15:05:22.441681Z",
     "iopub.status.busy": "2022-02-13T15:05:22.441228Z",
     "iopub.status.idle": "2022-02-13T15:05:22.609498Z",
     "shell.execute_reply": "2022-02-13T15:05:22.609796Z"
    },
    "papermill": {
     "duration": 0.18134,
     "end_time": "2022-02-13T15:05:22.609916",
     "exception": false,
     "start_time": "2022-02-13T15:05:22.428576",
     "status": "completed"
    },
    "tags": []
   },
   "outputs": [
    {
     "data": {
      "application/scrapbook.scrap.json+json": {
       "data": 0.1184699040567043,
       "encoder": "json",
       "name": "ABC-GAN Model 1 MSE",
       "version": 1
      }
     },
     "metadata": {
      "scrapbook": {
       "data": true,
       "display": false,
       "name": "ABC-GAN Model 1 MSE"
      }
     },
     "output_type": "display_data"
    },
    {
     "data": {
      "application/scrapbook.scrap.json+json": {
       "data": 0.2626923967413604,
       "encoder": "json",
       "name": "ABC-GAN Model 1 MAE",
       "version": 1
      }
     },
     "metadata": {
      "scrapbook": {
       "data": true,
       "display": false,
       "name": "ABC-GAN Model 1 MAE"
      }
     },
     "output_type": "display_data"
    },
    {
     "data": {
      "application/scrapbook.scrap.json+json": {
       "data": 5.253847934827209,
       "encoder": "json",
       "name": "ABC-GAN Model 1 Manhattan Distance",
       "version": 1
      }
     },
     "metadata": {
      "scrapbook": {
       "data": true,
       "display": false,
       "name": "ABC-GAN Model 1 Manhattan Distance"
      }
     },
     "output_type": "display_data"
    },
    {
     "data": {
      "application/scrapbook.scrap.json+json": {
       "data": 1.5392596477818508,
       "encoder": "json",
       "name": "ABC-GAN Model 1 Euclidean distance",
       "version": 1
      }
     },
     "metadata": {
      "scrapbook": {
       "data": true,
       "display": false,
       "name": "ABC-GAN Model 1 Euclidean distance"
      }
     },
     "output_type": "display_data"
    },
    {
     "data": {
      "application/scrapbook.scrap.json+json": {
       "data": [
        [
         0.11582547107796351,
         0.11917024532298118,
         0.11903880772363076,
         0.11587033617659359,
         0.11828353586970967,
         0.1173877663351083,
         0.11655997616837314,
         0.11999510856877979,
         0.11841404442547146,
         0.11564074847747734,
         0.11855958710310137,
         0.11879599401673673,
         0.1182119596386311,
         0.11859674571804275,
         0.11868827497901728,
         0.11817095846973817,
         0.1151891152424089,
         0.11879527569513856,
         0.1159482448838974,
         0.11780441393212966,
         0.11672764982263847,
         0.11716177859640368,
         0.1170105820576488,
         0.11890368203227157,
         0.11617075739477545,
         0.11967623224722387,
         0.11887807733790559,
         0.1186215444526969,
         0.11921940545118917,
         0.11892167870522767,
         0.11830220040135261,
         0.1184182219143978,
         0.11754400899462872,
         0.11965270506934578,
         0.11909123855326938,
         0.1210029846443413,
         0.1207964845105007,
         0.12002936819255998,
         0.1180606977695013,
         0.11764427468907579,
         0.11764259785705604,
         0.11873149183102036,
         0.11900777678962449,
         0.11896998099330847,
         0.11987590430195028,
         0.11725479426556343,
         0.12103950821088097,
         0.11807889841087897,
         0.11874870841605582,
         0.11936545905591589,
         0.1187152916431637,
         0.11670167436819834,
         0.1185018627974935,
         0.11679997640159541,
         0.11645804575582572,
         0.11805104102200206,
         0.11959703742910528,
         0.11758645271155084,
         0.11839630946697074,
         0.12016697393245197,
         0.11766129066506563,
         0.11948761581962927,
         0.11668163011730706,
         0.11797182724974027,
         0.1171022619665141,
         0.11820932989503259,
         0.1177411226760269,
         0.11648342963418057,
         0.11728343125483502,
         0.12010958224042131,
         0.11923382290403366,
         0.12122056825207372,
         0.11844670570084084,
         0.11781250943117358,
         0.11792770850670835,
         0.11934447834211295,
         0.11916842711323003,
         0.12027153478232162,
         0.12082075227990355,
         0.11764058135807134,
         0.11932036826723269,
         0.11850366854011743,
         0.11797453100820028,
         0.12018946321150062,
         0.11728542257853221,
         0.1219940128143688,
         0.11733495031116044,
         0.12031201123903319,
         0.12062613916999379,
         0.1190138402475502,
         0.11950388491473211,
         0.11663780383416537,
         0.1188575739974334,
         0.11672275936524859,
         0.11905262328462178,
         0.11966229032493829,
         0.11851633888298836,
         0.11994694570697835,
         0.11845373778683052,
         0.11999346167308364
        ],
        [
         0.26038883039727806,
         0.2623289176262915,
         0.2663472299464047,
         0.26063106236979366,
         0.2616074805147946,
         0.2601420891471207,
         0.2618898940272629,
         0.2644502785988152,
         0.26314612263813614,
         0.26009969552978873,
         0.26360602555796503,
         0.26379808885976674,
         0.2623298623599112,
         0.2613322283141315,
         0.2615777530707419,
         0.26280273916199803,
         0.25868927044793966,
         0.2625833495520055,
         0.25917747458443047,
         0.2609168720431626,
         0.260994693543762,
         0.26156274462118745,
         0.26203602300956846,
         0.26204206245020034,
         0.25959403896704314,
         0.26395773151889446,
         0.2635386117734015,
         0.26237065335735676,
         0.26306877387687566,
         0.2625201561488211,
         0.2627848372794688,
         0.2624626816250384,
         0.2605951144360006,
         0.2642416159622371,
         0.26496534431353214,
         0.26417453018948434,
         0.2650204542092979,
         0.26332581816241146,
         0.2640266357921064,
         0.264061860088259,
         0.26136041423305867,
         0.26280608167871833,
         0.262971090618521,
         0.2638372310437262,
         0.2643451285548508,
         0.2616162492893636,
         0.2658876682631671,
         0.26212737346068027,
         0.2620188443921506,
         0.263774720672518,
         0.26315823281183837,
         0.26187674133107064,
         0.2626184624619782,
         0.2603075162507594,
         0.2592052646912634,
         0.2616834188811481,
         0.2641184925101697,
         0.262196006719023,
         0.26228696284815667,
         0.2653135529719293,
         0.26132147694006563,
         0.26446806387975813,
         0.259625952038914,
         0.2618006561882794,
         0.26020286371931434,
         0.26185105452314017,
         0.26212845658883455,
         0.2593397476710379,
         0.26225380012765526,
         0.2649934058077633,
         0.26247312417253854,
         0.2667428464628756,
         0.26270518759265543,
         0.2617587543092668,
         0.2611058707349002,
         0.26457554614171386,
         0.2660585173405707,
         0.26271133618429304,
         0.26628806730732324,
         0.25966768050566313,
         0.261408048402518,
         0.2635124049149454,
         0.26186515400186183,
         0.26602363111451266,
         0.2627743727527559,
         0.2670692645944655,
         0.2618269710801542,
         0.26529113249853253,
         0.2637418924830854,
         0.2635258098132908,
         0.2646095688454807,
         0.26112318644300103,
         0.2637336441315711,
         0.2625595648773015,
         0.2600030486471951,
         0.26413290658965705,
         0.2628016739152372,
         0.2645676859654486,
         0.2643036832101643,
         0.2635945218615234
        ],
        [
         5.207776607945561,
         5.24657835252583,
         5.326944598928094,
         5.212621247395873,
         5.232149610295892,
         5.202841782942414,
         5.2377978805452585,
         5.289005571976304,
         5.262922452762723,
         5.201993910595775,
         5.272120511159301,
         5.275961777195334,
         5.246597247198224,
         5.22664456628263,
         5.231555061414838,
         5.256054783239961,
         5.173785408958793,
         5.251666991040111,
         5.183549491688609,
         5.218337440863252,
         5.219893870875239,
         5.231254892423749,
         5.240720460191369,
         5.240841249004006,
         5.191880779340863,
         5.279154630377889,
         5.27077223546803,
         5.247413067147136,
         5.261375477537513,
         5.250403122976422,
         5.2556967455893755,
         5.249253632500768,
         5.211902288720012,
         5.284832319244742,
         5.299306886270642,
         5.283490603789687,
         5.300409084185958,
         5.266516363248229,
         5.280532715842128,
         5.28123720176518,
         5.227208284661174,
         5.256121633574367,
         5.2594218123704195,
         5.276744620874524,
         5.286902571097016,
         5.2323249857872725,
         5.317753365263343,
         5.242547469213605,
         5.240376887843013,
         5.27549441345036,
         5.263164656236768,
         5.237534826621413,
         5.252369249239564,
         5.206150325015187,
         5.184105293825269,
         5.233668377622962,
         5.282369850203395,
         5.24392013438046,
         5.245739256963134,
         5.306271059438586,
         5.2264295388013124,
         5.289361277595162,
         5.192519040778279,
         5.236013123765588,
         5.204057274386287,
         5.237021090462804,
         5.2425691317766905,
         5.186794953420758,
         5.245076002553105,
         5.299868116155267,
         5.24946248345077,
         5.334856929257512,
         5.254103751853108,
         5.235175086185336,
         5.222117414698005,
         5.291510922834277,
         5.321170346811414,
         5.254226723685861,
         5.325761346146464,
         5.193353610113263,
         5.228160968050361,
         5.270248098298907,
         5.237303080037236,
         5.320472622290254,
         5.255487455055118,
         5.34138529188931,
         5.236539421603084,
         5.305822649970651,
         5.274837849661708,
         5.270516196265817,
         5.292191376909614,
         5.222463728860021,
         5.274672882631421,
         5.251191297546029,
         5.200060972943902,
         5.282658131793141,
         5.256033478304744,
         5.291353719308972,
         5.286073664203286,
         5.271890437230468
        ],
        [
         1.5220083513434708,
         1.5438280041700319,
         1.5429763946582642,
         1.5223030984438912,
         1.5380737034986955,
         1.532238665059124,
         1.5268266186333872,
         1.549161764108447,
         1.5389219890915293,
         1.5207941903984072,
         1.5398674430164525,
         1.5414019204395504,
         1.5376082702602185,
         1.540108734590144,
         1.5407029238566226,
         1.5373415916427824,
         1.5178215655498435,
         1.541397260248886,
         1.5228147942799704,
         1.5349554647098376,
         1.527924407964206,
         1.5307630685145477,
         1.529775029588657,
         1.5421003990160405,
         1.5242752861263313,
         1.5471020150411794,
         1.5419343522855025,
         1.5402697455491159,
         1.5441464014217638,
         1.5422170969434084,
         1.5381950487591138,
         1.5389491344056683,
         1.533258027825902,
         1.546949934996901,
         1.5433161604368002,
         1.5556541045125762,
         1.5543261209315162,
         1.5493828977535538,
         1.536624207602505,
         1.5339118272513308,
         1.5339008954756892,
         1.5409833992033812,
         1.5427752706705178,
         1.542530265461968,
         1.5483920969957854,
         1.5313705904552524,
         1.5558888662811425,
         1.5367426486622864,
         1.541095119816138,
         1.5450919652623651,
         1.540878266724297,
         1.5277543936654108,
         1.5394925319565114,
         1.5283976995637976,
         1.5261588761057987,
         1.5365613624063443,
         1.5465900389508869,
         1.5335348232860633,
         1.5388067420372886,
         1.550270775912724,
         1.534022755144562,
         1.5458823746949784,
         1.5276231872900272,
         1.536045749642505,
         1.5303742154552533,
         1.5375911673460705,
         1.534543076463003,
         1.5263251923111312,
         1.5315575813846178,
         1.5499005273914925,
         1.544239767031232,
         1.5570521394742933,
         1.5391342092282976,
         1.5350082047414182,
         1.5357584999387655,
         1.5449561698774044,
         1.5438162268432734,
         1.5509450975603336,
         1.5544822435776071,
         1.5338877492050802,
         1.54480010530316,
         1.539504261378431,
         1.5360633516115165,
         1.5504158359066167,
         1.5315705832806545,
         1.5620116056826774,
         1.5318939278628951,
         1.5512060549071693,
         1.5532297909195136,
         1.5428145724457634,
         1.5459876125941767,
         1.5273362683716076,
         1.541801374998955,
         1.5278924004343275,
         1.5430659304425185,
         1.5470118960430672,
         1.5395865606258607,
         1.5488508366332656,
         1.5391798971324342,
         1.5491511331892938
        ]
       ],
       "encoder": "json",
       "name": "ABC_GAN_1 Metrics",
       "version": 1
      }
     },
     "metadata": {
      "scrapbook": {
       "data": true,
       "display": false,
       "name": "ABC_GAN_1 Metrics"
      }
     },
     "output_type": "display_data"
    },
    {
     "name": "stdout",
     "output_type": "stream",
     "text": [
      "MSE\n",
      "0.1184699040567043\n"
     ]
    }
   ],
   "source": [
    "ABC_GAN1_metrics=ABC_train_test2.test_generator(gen,test_data,prior_model,variance,\"1\",device)\n",
    "sb.glue(\"ABC_GAN_1 Metrics\",ABC_GAN1_metrics)\n",
    "\n",
    "print(\"MSE\")\n",
    "print(mean(ABC_GAN1_metrics[0]))"
   ]
  },
  {
   "cell_type": "code",
   "execution_count": 14,
   "id": "eb22ce5c",
   "metadata": {
    "execution": {
     "iopub.execute_input": "2022-02-13T15:05:22.636676Z",
     "iopub.status.busy": "2022-02-13T15:05:22.636291Z",
     "iopub.status.idle": "2022-02-13T15:05:22.929532Z",
     "shell.execute_reply": "2022-02-13T15:05:22.929842Z"
    },
    "papermill": {
     "duration": 0.307758,
     "end_time": "2022-02-13T15:05:22.929966",
     "exception": false,
     "start_time": "2022-02-13T15:05:22.622208",
     "status": "completed"
    },
    "tags": []
   },
   "outputs": [
    {
     "data": {
      "image/png": "[encoded data removed]",
      "text/plain": [
       "<Figure size 432x288 with 1 Axes>"
      ]
     },
     "metadata": {
      "needs_background": "light"
     },
     "output_type": "display_data"
    },
    {
     "data": {
      "image/png": "[encoded data removed]",
      "text/plain": [
       "<Figure size 432x288 with 1 Axes>"
      ]
     },
     "metadata": {
      "needs_background": "light"
     },
     "output_type": "display_data"
    },
    {
     "data": {
      "image/png": "[encoded data removed]",
      "text/plain": [
       "<Figure size 432x288 with 1 Axes>"
      ]
     },
     "metadata": {
      "needs_background": "light"
     },
     "output_type": "display_data"
    },
    {
     "data": {
      "image/png": "[encoded data removed]",
      "text/plain": [
       "<Figure size 432x288 with 1 Axes>"
      ]
     },
     "metadata": {
      "needs_background": "light"
     },
     "output_type": "display_data"
    }
   ],
   "source": [
    "sanityChecks.discProbVsError(train_data,disc,device)\n",
    "sanityChecks.discProbVsError(test_data,disc,device)"
   ]
  },
  {
   "cell_type": "markdown",
   "id": "130f3a4d",
   "metadata": {
    "id": "130f3a4d",
    "papermill": {
     "duration": 0.01417,
     "end_time": "2022-02-13T15:05:22.958724",
     "exception": false,
     "start_time": "2022-02-13T15:05:22.944554",
     "status": "completed"
    },
    "tags": []
   },
   "source": [
    "# ABC - GAN Model with skip connection"
   ]
  },
  {
   "cell_type": "code",
   "execution_count": 15,
   "id": "4e43dad1",
   "metadata": {
    "execution": {
     "iopub.execute_input": "2022-02-13T15:05:22.990697Z",
     "iopub.status.busy": "2022-02-13T15:05:22.990334Z",
     "iopub.status.idle": "2022-02-13T15:05:22.992482Z",
     "shell.execute_reply": "2022-02-13T15:05:22.992731Z"
    },
    "id": "4e43dad1",
    "papermill": {
     "duration": 0.019865,
     "end_time": "2022-02-13T15:05:22.992843",
     "exception": false,
     "start_time": "2022-02-13T15:05:22.972978",
     "status": "completed"
    },
    "tags": []
   },
   "outputs": [],
   "source": [
    "#Generator\n",
    "gen3 = network.GeneratorWithSkipConnection(n_features+1).to(device)\n",
    "constraints=network.weightConstraint()\n",
    "#Discriminator \n",
    "disc3 = network.Discriminator(n_features+1).to(device)\n",
    "\n",
    "criterion = torch.nn.BCELoss()\n",
    "gen_opt = torch.optim.Adam(gen3.parameters(), lr=0.001, betas=(0.5, 0.999))\n",
    "disc_opt = torch.optim.Adam(disc3.parameters(), lr=0.001, betas=(0.5, 0.999))\n"
   ]
  },
  {
   "cell_type": "code",
   "execution_count": 16,
   "id": "26acbc37",
   "metadata": {
    "execution": {
     "iopub.execute_input": "2022-02-13T15:05:23.023615Z",
     "iopub.status.busy": "2022-02-13T15:05:23.023264Z",
     "iopub.status.idle": "2022-02-13T15:05:59.517136Z",
     "shell.execute_reply": "2022-02-13T15:05:59.517464Z"
    },
    "id": "26acbc37",
    "papermill": {
     "duration": 36.510524,
     "end_time": "2022-02-13T15:05:59.517594",
     "exception": false,
     "start_time": "2022-02-13T15:05:23.007070",
     "status": "completed"
    },
    "tags": []
   },
   "outputs": [
    {
     "data": {
      "image/png": "[encoded data removed]",
      "text/plain": [
       "<Figure size 432x288 with 1 Axes>"
      ]
     },
     "metadata": {
      "needs_background": "light"
     },
     "output_type": "display_data"
    },
    {
     "data": {
      "image/png": "[encoded data removed]",
      "text/plain": [
       "<Figure size 432x288 with 1 Axes>"
      ]
     },
     "metadata": {
      "needs_background": "light"
     },
     "output_type": "display_data"
    }
   ],
   "source": [
    "ABC_train_test2.training_GAN_skip_connection(disc3,gen3,disc_opt,gen_opt,train_data,batch_size,n_epochs,criterion,prior_model,variance,device)"
   ]
  },
  {
   "cell_type": "code",
   "execution_count": 17,
   "id": "c5e0717b",
   "metadata": {
    "execution": {
     "iopub.execute_input": "2022-02-13T15:05:59.550654Z",
     "iopub.status.busy": "2022-02-13T15:05:59.550277Z",
     "iopub.status.idle": "2022-02-13T15:05:59.824191Z",
     "shell.execute_reply": "2022-02-13T15:05:59.824590Z"
    },
    "id": "c5e0717b",
    "papermill": {
     "duration": 0.291768,
     "end_time": "2022-02-13T15:05:59.824715",
     "exception": false,
     "start_time": "2022-02-13T15:05:59.532947",
     "status": "completed"
    },
    "tags": []
   },
   "outputs": [
    {
     "data": {
      "application/scrapbook.scrap.json+json": {
       "data": 0.17286649948633734,
       "encoder": "json",
       "name": "ABC-GAN Model 3 MSE",
       "version": 1
      }
     },
     "metadata": {
      "scrapbook": {
       "data": true,
       "display": false,
       "name": "ABC-GAN Model 3 MSE"
      }
     },
     "output_type": "display_data"
    },
    {
     "data": {
      "application/scrapbook.scrap.json+json": {
       "data": 0.3046959745430795,
       "encoder": "json",
       "name": "ABC-GAN Model 3 MAE",
       "version": 1
      }
     },
     "metadata": {
      "scrapbook": {
       "data": true,
       "display": false,
       "name": "ABC-GAN Model 3 MAE"
      }
     },
     "output_type": "display_data"
    },
    {
     "data": {
      "application/scrapbook.scrap.json+json": {
       "data": 6.09391949086159,
       "encoder": "json",
       "name": "ABC-GAN Model 3 Manhattan Distance",
       "version": 1
      }
     },
     "metadata": {
      "scrapbook": {
       "data": true,
       "display": false,
       "name": "ABC-GAN Model 3 Manhattan Distance"
      }
     },
     "output_type": "display_data"
    },
    {
     "data": {
      "application/scrapbook.scrap.json+json": {
       "data": 1.8593665838950397,
       "encoder": "json",
       "name": "ABC-GAN Model 3 Euclidean distance",
       "version": 1
      }
     },
     "metadata": {
      "scrapbook": {
       "data": true,
       "display": false,
       "name": "ABC-GAN Model 3 Euclidean distance"
      }
     },
     "output_type": "display_data"
    },
    {
     "data": {
      "application/scrapbook.scrap.json+json": {
       "data": [
        [
         0.16914201937559442,
         0.17185943569250853,
         0.17146816200651135,
         0.17520149109359817,
         0.17602551125654928,
         0.1723962586413488,
         0.1726674369838038,
         0.1738476409723012,
         0.17139743493494405,
         0.17416724343169626,
         0.1717126266396552,
         0.17395808961564682,
         0.17696767130825167,
         0.17298372422459002,
         0.1735268854745953,
         0.17090328864287088,
         0.17434267472143855,
         0.17323931499753004,
         0.17293101861161853,
         0.17350420668088168,
         0.17535871056828475,
         0.17203295121990153,
         0.17216862095022073,
         0.1742070058146088,
         0.17248118106648333,
         0.17370242440173445,
         0.1732099134478309,
         0.17191149170774928,
         0.17161262953430576,
         0.1718034973794674,
         0.17161064883418672,
         0.1714052135734415,
         0.17157480539191153,
         0.17126739721166556,
         0.17373300370203326,
         0.16974889708005222,
         0.17393785164709508,
         0.17209903336701377,
         0.1746947373239281,
         0.1724175277715912,
         0.17223451864690864,
         0.17219300081711017,
         0.17070817351336945,
         0.17246648443585125,
         0.1757886560337575,
         0.17457341298430587,
         0.17575338128216084,
         0.17142483649918594,
         0.1759846524303813,
         0.17413119241103303,
         0.17351252931622638,
         0.16989836807946299,
         0.17170545021555042,
         0.17497321965635976,
         0.17097269645542343,
         0.17111740552174265,
         0.17265976790075188,
         0.17544659680102068,
         0.1734297931632262,
         0.17282374806687234,
         0.1734897277679495,
         0.17472529332870032,
         0.17314712107439076,
         0.17237519456329747,
         0.17697834655575007,
         0.1750257747574436,
         0.17274987464869088,
         0.17552982794135616,
         0.17468922757132424,
         0.17107805900515324,
         0.17025611457813267,
         0.17349322950802218,
         0.17157791870690836,
         0.17395874961634405,
         0.17501487915766084,
         0.17200862062500288,
         0.16937389436508138,
         0.17358459023654593,
         0.17279413984613584,
         0.17119160090889968,
         0.17140754712097783,
         0.17073545289802494,
         0.1735472062472872,
         0.17426810855568584,
         0.17143035285330227,
         0.17209519984573898,
         0.17127703189133858,
         0.17106986313216885,
         0.17496674416443447,
         0.16972070022767152,
         0.17254076283691908,
         0.16958631269204374,
         0.17293259346585813,
         0.17539152593636184,
         0.17155698073220815,
         0.17397911154128853,
         0.17275901720838466,
         0.1738872403007034,
         0.17430733153429545,
         0.1711311191561093
        ],
        [
         0.2996409959203447,
         0.30163905713707206,
         0.305310546932742,
         0.3068108831066638,
         0.31029182132333516,
         0.3053202252311166,
         0.30600663176737725,
         0.3052806770429015,
         0.3035195444710553,
         0.306699243793264,
         0.30318707386031746,
         0.3029425048734993,
         0.3094563900027424,
         0.30611388348042967,
         0.3050793522968888,
         0.3008715631440282,
         0.30575295025482774,
         0.3039201160427183,
         0.30304800770245494,
         0.306581465434283,
         0.30617048414424064,
         0.3026324407663196,
         0.3028909574029967,
         0.30657489496516066,
         0.3054198901634663,
         0.3064715693471953,
         0.30627847304567696,
         0.30387567467987536,
         0.3013117836322635,
         0.30555220367386937,
         0.30516879200004043,
         0.3037091812118888,
         0.30344316067639737,
         0.30192353264428673,
         0.30491254245862365,
         0.3012359674336039,
         0.30607415777631103,
         0.30336871799081566,
         0.30695689246058466,
         0.30145107351709155,
         0.30302733364515005,
         0.3053187732119113,
         0.3043656351044774,
         0.30454890029504894,
         0.30452525299042466,
         0.3039324216544628,
         0.30681795720010996,
         0.30207493419293313,
         0.3083283101208508,
         0.30733720152638855,
         0.30617980044335125,
         0.30380768813192843,
         0.3044039213564247,
         0.30783321131020785,
         0.3037237724289298,
         0.30435106880031526,
         0.3044299083761871,
         0.30699774786480705,
         0.3050407398957759,
         0.3015481683891267,
         0.30318133123219015,
         0.30517526997136885,
         0.3029028933495283,
         0.3051369030959904,
         0.3075298573821783,
         0.30691260457970204,
         0.30217073423264085,
         0.3073685863055289,
         0.30671011926606295,
         0.3035830268636346,
         0.3029325128532946,
         0.30601083030924203,
         0.30190699445083735,
         0.3062877941760235,
         0.30952861772384493,
         0.30381177449598906,
         0.3026856568641961,
         0.30739734061062335,
         0.3041394752683118,
         0.3058661654824391,
         0.3025808430276811,
         0.3027525098994374,
         0.3054291379638016,
         0.3054107611067593,
         0.30366898169741036,
         0.30634121485054494,
         0.3017665321473032,
         0.3045604330487549,
         0.30782160023227334,
         0.3006451050750911,
         0.3053540749941021,
         0.304024713486433,
         0.3064796513877809,
         0.3080516531597823,
         0.3012590129859746,
         0.303015446010977,
         0.3043726810719818,
         0.30326130213215946,
         0.3076502832584083,
         0.3024249575100839
        ],
        [
         5.992819918406894,
         6.032781142741442,
         6.10621093865484,
         6.1362176621332765,
         6.205836426466703,
         6.106404504622333,
         6.120132635347545,
         6.10561354085803,
         6.070390889421105,
         6.133984875865281,
         6.063741477206349,
         6.0588500974699855,
         6.189127800054848,
         6.122277669608593,
         6.101587045937777,
         6.017431262880564,
         6.115059005096555,
         6.078402320854366,
         6.0609601540490985,
         6.13162930868566,
         6.123409682884812,
         6.052648815326393,
         6.057819148059934,
         6.131497899303213,
         6.108397803269327,
         6.1294313869439065,
         6.125569460913539,
         6.0775134935975075,
         6.026235672645271,
         6.111044073477387,
         6.103375840000808,
         6.074183624237776,
         6.068863213527948,
         6.038470652885735,
         6.098250849172473,
         6.024719348672079,
         6.121483155526221,
         6.067374359816313,
         6.139137849211693,
         6.0290214703418314,
         6.060546672903001,
         6.106375464238226,
         6.087312702089548,
         6.090978005900979,
         6.090505059808493,
         6.078648433089256,
         6.136359144002199,
         6.041498683858663,
         6.166566202417016,
         6.1467440305277705,
         6.123596008867025,
         6.076153762638569,
         6.088078427128494,
         6.156664226204157,
         6.074475448578596,
         6.087021376006305,
         6.088598167523742,
         6.1399549572961405,
         6.100814797915518,
         6.030963367782533,
         6.063626624643803,
         6.103505399427377,
         6.058057866990566,
         6.102738061919808,
         6.150597147643566,
         6.13825209159404,
         6.0434146846528165,
         6.147371726110578,
         6.1342023853212595,
         6.071660537272692,
         6.058650257065892,
         6.12021660618484,
         6.0381398890167475,
         6.125755883520469,
         6.190572354476899,
         6.076235489919782,
         6.053713137283921,
         6.147946812212467,
         6.082789505366236,
         6.117323309648782,
         6.051616860553622,
         6.0550501979887486,
         6.1085827592760324,
         6.108215222135186,
         6.073379633948207,
         6.126824297010899,
         6.0353306429460645,
         6.091208660975099,
         6.156432004645467,
         6.0129021015018225,
         6.107081499882042,
         6.080494269728661,
         6.129593027755618,
         6.161033063195646,
         6.025180259719491,
         6.060308920219541,
         6.087453621439636,
         6.065226042643189,
         6.153005665168166,
         6.048499150201678
        ],
        [
         1.8392499524294919,
         1.8539656722415792,
         1.8518540007598405,
         1.8719053987506857,
         1.8763022744565936,
         1.856858953401409,
         1.8583187938768944,
         1.8646589016348336,
         1.8514720356243248,
         1.8663721141921097,
         1.8531736380579948,
         1.8652511338457716,
         1.8813169393180493,
         1.8600200226050794,
         1.8629379242185997,
         1.8488011718022621,
         1.8673118364185375,
         1.8613936445444852,
         1.8597366405575737,
         1.8628161835290227,
         1.872745100478358,
         1.8549013516621389,
         1.8556326196217867,
         1.866585148417338,
         1.8573162416049849,
         1.8638799553712382,
         1.8612356833449701,
         1.854246432962724,
         1.8526339602539177,
         1.8536639252003984,
         1.8526232689577595,
         1.851514048412496,
         1.8524297848604763,
         1.8507695545997376,
         1.8640440107574352,
         1.8425465914329127,
         1.8651426307234258,
         1.8552575743923743,
         1.8691962835610823,
         1.8569734934650586,
         1.8559877081861758,
         1.8557639980186604,
         1.847745510146727,
         1.8572371116034228,
         1.875039498430673,
         1.8685470985999035,
         1.874851360946573,
         1.8516200285111735,
         1.876084499325024,
         1.8661789432475815,
         1.8628608606990829,
         1.8433576325795435,
         1.8531349126037768,
         1.870685540952085,
         1.8491765543366778,
         1.849958948310706,
         1.8582775244874048,
         1.8732143326433346,
         1.8624166728378813,
         1.8591597460512765,
         1.8627384559725473,
         1.8693597477676698,
         1.8608982834877932,
         1.8567455106357331,
         1.8813736819449243,
         1.8709664601881222,
         1.8587623551637302,
         1.8736586025279853,
         1.8691668067421068,
         1.8497462474899267,
         1.8452973450267176,
         1.8627572547598474,
         1.852446591440133,
         1.865254672243681,
         1.8709082241396064,
         1.854770177811811,
         1.8405102247207503,
         1.8632476498659318,
         1.8590004833035187,
         1.8503599698918027,
         1.8515266518253408,
         1.8478931402980256,
         1.8630470001977253,
         1.8669124701264697,
         1.8516498203132377,
         1.8552369112635667,
         1.8508216115624898,
         1.8497019388656588,
         1.8706509250228085,
         1.8423935531132944,
         1.8576370088740108,
         1.8416639904827574,
         1.8597451086955874,
         1.8729203183070113,
         1.8523335592285108,
         1.8653638333648936,
         1.8588115407882781,
         1.8648712572223498,
         1.867122553740356,
         1.850033076223824
        ]
       ],
       "encoder": "json",
       "name": "ABC_GAN_3 Metrics",
       "version": 1
      }
     },
     "metadata": {
      "scrapbook": {
       "data": true,
       "display": false,
       "name": "ABC_GAN_3 Metrics"
      }
     },
     "output_type": "display_data"
    },
    {
     "name": "stdout",
     "output_type": "stream",
     "text": [
      "MSE\n",
      "0.17286649948633734\n"
     ]
    }
   ],
   "source": [
    "ABC_GAN3_metrics=ABC_train_test2.test_generator(gen3,test_data,prior_model,variance,\"3\",device)\n",
    "sb.glue(\"ABC_GAN_3 Metrics\",ABC_GAN3_metrics)\n",
    "\n",
    "print(\"MSE\")\n",
    "print(mean(ABC_GAN3_metrics[0]))"
   ]
  },
  {
   "cell_type": "code",
   "execution_count": 18,
   "id": "c8e46b48",
   "metadata": {
    "execution": {
     "iopub.execute_input": "2022-02-13T15:05:59.884328Z",
     "iopub.status.busy": "2022-02-13T15:05:59.883954Z",
     "iopub.status.idle": "2022-02-13T15:06:00.176865Z",
     "shell.execute_reply": "2022-02-13T15:06:00.177157Z"
    },
    "id": "c8e46b48",
    "papermill": {
     "duration": 0.312327,
     "end_time": "2022-02-13T15:06:00.177276",
     "exception": false,
     "start_time": "2022-02-13T15:05:59.864949",
     "status": "completed"
    },
    "tags": []
   },
   "outputs": [
    {
     "data": {
      "image/png": "[encoded data removed]",
      "text/plain": [
       "<Figure size 432x288 with 1 Axes>"
      ]
     },
     "metadata": {
      "needs_background": "light"
     },
     "output_type": "display_data"
    },
    {
     "data": {
      "image/png": "[encoded data removed]",
      "text/plain": [
       "<Figure size 432x288 with 1 Axes>"
      ]
     },
     "metadata": {
      "needs_background": "light"
     },
     "output_type": "display_data"
    },
    {
     "data": {
      "image/png": "[encoded data removed]",
      "text/plain": [
       "<Figure size 432x288 with 1 Axes>"
      ]
     },
     "metadata": {
      "needs_background": "light"
     },
     "output_type": "display_data"
    },
    {
     "data": {
      "image/png": "[encoded data removed]",
      "text/plain": [
       "<Figure size 432x288 with 1 Axes>"
      ]
     },
     "metadata": {
      "needs_background": "light"
     },
     "output_type": "display_data"
    }
   ],
   "source": [
    "sanityChecks.discProbVsError(train_data,disc3,device)\n",
    "sanityChecks.discProbVsError(test_data,disc3,device)"
   ]
  },
  {
   "cell_type": "markdown",
   "id": "a5bd74c3",
   "metadata": {
    "id": "a5bd74c3",
    "papermill": {
     "duration": 0.019148,
     "end_time": "2022-02-13T15:06:00.216129",
     "exception": false,
     "start_time": "2022-02-13T15:06:00.196981",
     "status": "completed"
    },
    "tags": []
   },
   "source": [
    "## Skip Connection Model Analysis - ABC-GAN "
   ]
  },
  {
   "cell_type": "markdown",
   "id": "5744a8bf",
   "metadata": {
    "id": "5744a8bf",
    "papermill": {
     "duration": 0.018722,
     "end_time": "2022-02-13T15:06:00.253838",
     "exception": false,
     "start_time": "2022-02-13T15:06:00.235116",
     "status": "completed"
    },
    "tags": []
   },
   "source": [
    "### Weight Analysis \n",
    "\n",
    "Study the weights of the skip connection layer\n",
    "\n",
    "Equation of the skip connection is \n",
    "\n",
    "$output = y_{gan} * w + y_{abc} * (1-w)$"
   ]
  },
  {
   "cell_type": "code",
   "execution_count": 19,
   "id": "52c31dea",
   "metadata": {
    "execution": {
     "iopub.execute_input": "2022-02-13T15:06:00.294244Z",
     "iopub.status.busy": "2022-02-13T15:06:00.293859Z",
     "iopub.status.idle": "2022-02-13T15:06:00.297049Z",
     "shell.execute_reply": "2022-02-13T15:06:00.297295Z"
    },
    "id": "52c31dea",
    "papermill": {
     "duration": 0.02482,
     "end_time": "2022-02-13T15:06:00.297405",
     "exception": false,
     "start_time": "2022-02-13T15:06:00.272585",
     "status": "completed"
    },
    "tags": []
   },
   "outputs": [
    {
     "name": "stdout",
     "output_type": "stream",
     "text": [
      "Weight of the node at skip connection\n",
      "Parameter containing:\n",
      "tensor([[0.]], requires_grad=True)\n"
     ]
    },
    {
     "data": {
      "application/scrapbook.scrap.json+json": {
       "data": 0.0,
       "encoder": "json",
       "name": "Skip Connection Weight",
       "version": 1
      }
     },
     "metadata": {
      "scrapbook": {
       "data": true,
       "display": false,
       "name": "Skip Connection Weight"
      }
     },
     "output_type": "display_data"
    }
   ],
   "source": [
    "print(\"Weight of the node at skip connection\")\n",
    "for name,param in gen3.named_parameters():\n",
    "    if(name == \"skipNode.weight\"):\n",
    "        print(param)\n",
    "        sb.glue(\"Skip Connection Weight\",param.item())"
   ]
  }
 ],
 "metadata": {
  "colab": {
   "collapsed_sections": [],
   "name": "ABC_GAN_Model-Catboost_Pre-gen.ipynb",
   "provenance": []
  },
  "interpreter": {
   "hash": "31f2aee4e71d21fbe5cf8b01ff0e069b9275f58929596ceb00d14d90e3e16cd6"
  },
  "kernelspec": {
   "display_name": "Python 3 (ipykernel)",
   "language": "python",
   "name": "python3"
  },
  "language_info": {
   "codemirror_mode": {
    "name": "ipython",
    "version": 3
   },
   "file_extension": ".py",
   "mimetype": "text/x-python",
   "name": "python",
   "nbconvert_exporter": "python",
   "pygments_lexer": "ipython3",
   "version": "3.8.11"
  },
  "papermill": {
   "default_parameters": {},
   "duration": 55.287231,
   "end_time": "2022-02-13T15:06:00.624386",
   "environment_variables": {},
   "exception": null,
   "input_path": "ABC_GAN-Catboost.ipynb",
   "output_path": "./ABC_GAN_Catboost/ABC-GAN_output_9_2.ipynb",
   "parameters": {
    "variance": 0.01
   },
   "start_time": "2022-02-13T15:05:05.337155",
   "version": "2.3.3"
  }
 },
 "nbformat": 4,
 "nbformat_minor": 5
}