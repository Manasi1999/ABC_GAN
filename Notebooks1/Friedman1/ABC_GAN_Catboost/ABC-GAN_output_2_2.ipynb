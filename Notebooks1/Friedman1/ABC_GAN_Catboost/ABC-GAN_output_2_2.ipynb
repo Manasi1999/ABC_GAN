{
 "cells": [
  {
   "cell_type": "markdown",
   "id": "622780e6",
   "metadata": {
    "id": "622780e6",
    "papermill": {
     "duration": 0.03655,
     "end_time": "2022-02-13T14:45:23.934185",
     "exception": false,
     "start_time": "2022-02-13T14:45:23.897635",
     "status": "completed"
    },
    "tags": []
   },
   "source": [
    "## Import Libraries "
   ]
  },
  {
   "cell_type": "code",
   "execution_count": 1,
   "id": "a62397e3",
   "metadata": {
    "execution": {
     "iopub.execute_input": "2022-02-13T14:45:23.970776Z",
     "iopub.status.busy": "2022-02-13T14:45:23.970158Z",
     "iopub.status.idle": "2022-02-13T14:45:23.972433Z",
     "shell.execute_reply": "2022-02-13T14:45:23.972766Z"
    },
    "id": "a62397e3",
    "papermill": {
     "duration": 0.02222,
     "end_time": "2022-02-13T14:45:23.972981",
     "exception": false,
     "start_time": "2022-02-13T14:45:23.950761",
     "status": "completed"
    },
    "tags": []
   },
   "outputs": [],
   "source": [
    "import warnings\n",
    "import sys\n",
    "sys.path.insert(0, '../../src')\n",
    "warnings.filterwarnings('ignore')"
   ]
  },
  {
   "cell_type": "code",
   "execution_count": 2,
   "id": "d6a4e155",
   "metadata": {
    "execution": {
     "iopub.execute_input": "2022-02-13T14:45:23.993379Z",
     "iopub.status.busy": "2022-02-13T14:45:23.992937Z",
     "iopub.status.idle": "2022-02-13T14:45:25.746361Z",
     "shell.execute_reply": "2022-02-13T14:45:25.746621Z"
    },
    "id": "d6a4e155",
    "papermill": {
     "duration": 1.764235,
     "end_time": "2022-02-13T14:45:25.746746",
     "exception": false,
     "start_time": "2022-02-13T14:45:23.982511",
     "status": "completed"
    },
    "tags": []
   },
   "outputs": [],
   "source": [
    "import ABC_train_test2\n",
    "import friedman1Dataset\n",
    "import network\n",
    "import dataset\n",
    "import sanityChecks\n",
    "import torch \n",
    "import scrapbook as sb\n",
    "from statistics import mean \n",
    "import catboost as ctb \n",
    "from sklearn.model_selection import train_test_split\n",
    "from sklearn.metrics import mean_squared_error,mean_absolute_error\n",
    "import numpy as np"
   ]
  },
  {
   "cell_type": "markdown",
   "id": "2fa5b0f7",
   "metadata": {
    "id": "2fa5b0f7",
    "papermill": {
     "duration": 0.006833,
     "end_time": "2022-02-13T14:45:25.760692",
     "exception": false,
     "start_time": "2022-02-13T14:45:25.753859",
     "status": "completed"
    },
    "tags": []
   },
   "source": [
    "## Parameters "
   ]
  },
  {
   "cell_type": "code",
   "execution_count": 3,
   "id": "783186fb",
   "metadata": {
    "execution": {
     "iopub.execute_input": "2022-02-13T14:45:25.776357Z",
     "iopub.status.busy": "2022-02-13T14:45:25.775983Z",
     "iopub.status.idle": "2022-02-13T14:45:25.777213Z",
     "shell.execute_reply": "2022-02-13T14:45:25.777448Z"
    },
    "id": "783186fb",
    "papermill": {
     "duration": 0.010122,
     "end_time": "2022-02-13T14:45:25.777554",
     "exception": false,
     "start_time": "2022-02-13T14:45:25.767432",
     "status": "completed"
    },
    "tags": [
     "parameters"
    ]
   },
   "outputs": [],
   "source": [
    "variance = 1"
   ]
  },
  {
   "cell_type": "code",
   "execution_count": 4,
   "id": "7b87089e",
   "metadata": {
    "execution": {
     "iopub.execute_input": "2022-02-13T14:45:25.793020Z",
     "iopub.status.busy": "2022-02-13T14:45:25.792638Z",
     "iopub.status.idle": "2022-02-13T14:45:25.793840Z",
     "shell.execute_reply": "2022-02-13T14:45:25.794087Z"
    },
    "papermill": {
     "duration": 0.00975,
     "end_time": "2022-02-13T14:45:25.794193",
     "exception": false,
     "start_time": "2022-02-13T14:45:25.784443",
     "status": "completed"
    },
    "tags": [
     "injected-parameters"
    ]
   },
   "outputs": [],
   "source": [
    "# Parameters\n",
    "variance = 0.01\n"
   ]
  },
  {
   "cell_type": "markdown",
   "id": "391cdbfd",
   "metadata": {
    "id": "391cdbfd",
    "papermill": {
     "duration": 0.006844,
     "end_time": "2022-02-13T14:45:25.808001",
     "exception": false,
     "start_time": "2022-02-13T14:45:25.801157",
     "status": "completed"
    },
    "tags": []
   },
   "source": [
    "## Dataset \n"
   ]
  },
  {
   "cell_type": "code",
   "execution_count": 5,
   "id": "5b51f161",
   "metadata": {
    "execution": {
     "iopub.execute_input": "2022-02-13T14:45:25.823521Z",
     "iopub.status.busy": "2022-02-13T14:45:25.823178Z",
     "iopub.status.idle": "2022-02-13T14:45:25.824492Z",
     "shell.execute_reply": "2022-02-13T14:45:25.824748Z"
    },
    "id": "5b51f161",
    "papermill": {
     "duration": 0.009975,
     "end_time": "2022-02-13T14:45:25.824855",
     "exception": false,
     "start_time": "2022-02-13T14:45:25.814880",
     "status": "completed"
    },
    "tags": []
   },
   "outputs": [],
   "source": [
    "#Parameters \n",
    "n_features = 5\n",
    "n_samples= 100\n",
    "n_target = 1 "
   ]
  },
  {
   "cell_type": "code",
   "execution_count": 6,
   "id": "5d6eced4",
   "metadata": {
    "execution": {
     "iopub.execute_input": "2022-02-13T14:45:25.840740Z",
     "iopub.status.busy": "2022-02-13T14:45:25.840375Z",
     "iopub.status.idle": "2022-02-13T14:45:25.846767Z",
     "shell.execute_reply": "2022-02-13T14:45:25.847057Z"
    },
    "id": "5d6eced4",
    "papermill": {
     "duration": 0.01535,
     "end_time": "2022-02-13T14:45:25.847168",
     "exception": false,
     "start_time": "2022-02-13T14:45:25.831818",
     "status": "completed"
    },
    "tags": []
   },
   "outputs": [
    {
     "name": "stdout",
     "output_type": "stream",
     "text": [
      "         X0        X1        X2        X3        X4         Y\n",
      "0 -1.354424  1.215086  0.573879  1.819038  1.425524  0.814082\n",
      "1  0.822086 -0.597323 -0.892281  0.736202  0.721288  0.946525\n",
      "2  1.848187  0.629899  0.152183 -0.836586 -1.308101 -0.421667\n",
      "3  0.776742 -0.983618  0.129859 -1.317297  0.398226 -1.344158\n",
      "4 -1.120928  0.412281  0.523603  0.744914 -0.726158 -0.468014\n"
     ]
    }
   ],
   "source": [
    "X,Y = friedman1Dataset.friedman1_data(n_samples,n_features)"
   ]
  },
  {
   "cell_type": "code",
   "execution_count": 7,
   "id": "fe007438",
   "metadata": {
    "execution": {
     "iopub.execute_input": "2022-02-13T14:45:25.864629Z",
     "iopub.status.busy": "2022-02-13T14:45:25.864257Z",
     "iopub.status.idle": "2022-02-13T14:45:25.865502Z",
     "shell.execute_reply": "2022-02-13T14:45:25.865736Z"
    },
    "id": "fe007438",
    "papermill": {
     "duration": 0.011228,
     "end_time": "2022-02-13T14:45:25.865843",
     "exception": false,
     "start_time": "2022-02-13T14:45:25.854615",
     "status": "completed"
    },
    "tags": []
   },
   "outputs": [],
   "source": [
    "#Train test split for dataset \n",
    "X_train,X_test,Y_train,Y_test = train_test_split(X,Y,test_size = 0.2)\n",
    "train_data = dataset.CustomDataset(X_train,Y_train)\n",
    "test_data = dataset.CustomDataset(X_test,Y_test)\n"
   ]
  },
  {
   "cell_type": "markdown",
   "id": "a9a1af34",
   "metadata": {
    "id": "a9a1af34",
    "papermill": {
     "duration": 0.007117,
     "end_time": "2022-02-13T14:45:25.880172",
     "exception": false,
     "start_time": "2022-02-13T14:45:25.873055",
     "status": "completed"
    },
    "tags": []
   },
   "source": [
    "## Training Parameters "
   ]
  },
  {
   "cell_type": "code",
   "execution_count": 8,
   "id": "952b7fc8",
   "metadata": {
    "execution": {
     "iopub.execute_input": "2022-02-13T14:45:25.896710Z",
     "iopub.status.busy": "2022-02-13T14:45:25.896343Z",
     "iopub.status.idle": "2022-02-13T14:45:25.897606Z",
     "shell.execute_reply": "2022-02-13T14:45:25.897845Z"
    },
    "id": "952b7fc8",
    "papermill": {
     "duration": 0.010665,
     "end_time": "2022-02-13T14:45:25.897949",
     "exception": false,
     "start_time": "2022-02-13T14:45:25.887284",
     "status": "completed"
    },
    "tags": []
   },
   "outputs": [],
   "source": [
    "batch_size = 32\n",
    "n_epochs = 1000\n",
    "#Select the device \n",
    "device = torch.device('cuda' if torch.cuda.is_available() else 'cpu')"
   ]
  },
  {
   "cell_type": "markdown",
   "id": "a95e1600",
   "metadata": {
    "id": "a95e1600",
    "papermill": {
     "duration": 0.007089,
     "end_time": "2022-02-13T14:45:25.912252",
     "exception": false,
     "start_time": "2022-02-13T14:45:25.905163",
     "status": "completed"
    },
    "tags": []
   },
   "source": [
    "# ABC Pre-generator Model \n",
    "\n",
    "1. The catboost model is used as a pre-generator model for the ABC-GAN. \n",
    "2. The model is first trained on the entire dataset \n",
    "3. It generats X,Y pairs and we add some Gaussian noise with mean 0 and variance 1 to it which is then feed as input to the generator.\n"
   ]
  },
  {
   "cell_type": "code",
   "execution_count": 9,
   "id": "ff8ce7bd",
   "metadata": {
    "execution": {
     "iopub.execute_input": "2022-02-13T14:45:25.929971Z",
     "iopub.status.busy": "2022-02-13T14:45:25.929591Z",
     "iopub.status.idle": "2022-02-13T14:45:26.550982Z",
     "shell.execute_reply": "2022-02-13T14:45:26.551284Z"
    },
    "id": "ff8ce7bd",
    "papermill": {
     "duration": 0.63197,
     "end_time": "2022-02-13T14:45:26.551406",
     "exception": false,
     "start_time": "2022-02-13T14:45:25.919436",
     "status": "completed"
    },
    "tags": []
   },
   "outputs": [
    {
     "name": "stdout",
     "output_type": "stream",
     "text": [
      "Learning rate set to 0.024897\n",
      "0:\tlearn: 1.0076442\ttotal: 57.9ms\tremaining: 57.9s\n",
      "1:\tlearn: 0.9994765\ttotal: 58.5ms\tremaining: 29.2s\n",
      "2:\tlearn: 0.9903852\ttotal: 59ms\tremaining: 19.6s\n",
      "3:\tlearn: 0.9806484\ttotal: 59.6ms\tremaining: 14.8s\n",
      "4:\tlearn: 0.9717330\ttotal: 60.1ms\tremaining: 12s\n",
      "5:\tlearn: 0.9629709\ttotal: 60.6ms\tremaining: 10s\n",
      "6:\tlearn: 0.9527123\ttotal: 61.2ms\tremaining: 8.68s\n",
      "7:\tlearn: 0.9431094\ttotal: 61.7ms\tremaining: 7.65s\n",
      "8:\tlearn: 0.9355467\ttotal: 62.4ms\tremaining: 6.87s\n",
      "9:\tlearn: 0.9259356\ttotal: 63.1ms\tremaining: 6.25s\n",
      "10:\tlearn: 0.9166788\ttotal: 63.6ms\tremaining: 5.72s\n",
      "11:\tlearn: 0.9071567\ttotal: 64.2ms\tremaining: 5.29s\n",
      "12:\tlearn: 0.8975033\ttotal: 64.8ms\tremaining: 4.92s\n",
      "13:\tlearn: 0.8897959\ttotal: 65.3ms\tremaining: 4.6s\n",
      "14:\tlearn: 0.8820193\ttotal: 65.7ms\tremaining: 4.32s\n",
      "15:\tlearn: 0.8740408\ttotal: 66.2ms\tremaining: 4.07s\n",
      "16:\tlearn: 0.8654314\ttotal: 66.7ms\tremaining: 3.85s\n",
      "17:\tlearn: 0.8567666\ttotal: 67.1ms\tremaining: 3.66s\n",
      "18:\tlearn: 0.8488551\ttotal: 67.6ms\tremaining: 3.49s\n",
      "19:\tlearn: 0.8405511\ttotal: 68.1ms\tremaining: 3.33s\n",
      "20:\tlearn: 0.8320402\ttotal: 68.6ms\tremaining: 3.2s\n",
      "21:\tlearn: 0.8231054\ttotal: 69ms\tremaining: 3.07s\n",
      "22:\tlearn: 0.8133973\ttotal: 69.4ms\tremaining: 2.95s\n",
      "23:\tlearn: 0.8056985\ttotal: 70ms\tremaining: 2.85s\n",
      "24:\tlearn: 0.7965275\ttotal: 70.5ms\tremaining: 2.75s\n",
      "25:\tlearn: 0.7889657\ttotal: 71ms\tremaining: 2.66s\n",
      "26:\tlearn: 0.7809488\ttotal: 71.3ms\tremaining: 2.57s\n",
      "27:\tlearn: 0.7727262\ttotal: 71.8ms\tremaining: 2.49s\n",
      "28:\tlearn: 0.7653416\ttotal: 72.2ms\tremaining: 2.42s\n",
      "29:\tlearn: 0.7591323\ttotal: 72.6ms\tremaining: 2.35s\n",
      "30:\tlearn: 0.7505275\ttotal: 73.1ms\tremaining: 2.29s\n",
      "31:\tlearn: 0.7437034\ttotal: 73.6ms\tremaining: 2.23s\n",
      "32:\tlearn: 0.7371302\ttotal: 74.2ms\tremaining: 2.17s\n",
      "33:\tlearn: 0.7302237\ttotal: 74.6ms\tremaining: 2.12s\n",
      "34:\tlearn: 0.7231790\ttotal: 75ms\tremaining: 2.07s\n",
      "35:\tlearn: 0.7177364\ttotal: 75.4ms\tremaining: 2.02s\n",
      "36:\tlearn: 0.7108684\ttotal: 75.9ms\tremaining: 1.98s\n",
      "37:\tlearn: 0.7041541\ttotal: 76.5ms\tremaining: 1.94s\n",
      "38:\tlearn: 0.6982662\ttotal: 76.9ms\tremaining: 1.89s\n",
      "39:\tlearn: 0.6909316\ttotal: 77.4ms\tremaining: 1.86s\n",
      "40:\tlearn: 0.6840665\ttotal: 77.9ms\tremaining: 1.82s\n",
      "41:\tlearn: 0.6771579\ttotal: 78.3ms\tremaining: 1.78s\n",
      "42:\tlearn: 0.6711216\ttotal: 78.7ms\tremaining: 1.75s\n",
      "43:\tlearn: 0.6643992\ttotal: 79.3ms\tremaining: 1.72s\n",
      "44:\tlearn: 0.6571136\ttotal: 79.7ms\tremaining: 1.69s\n",
      "45:\tlearn: 0.6511714\ttotal: 80.1ms\tremaining: 1.66s\n",
      "46:\tlearn: 0.6463735\ttotal: 80.7ms\tremaining: 1.64s\n",
      "47:\tlearn: 0.6409064\ttotal: 81.3ms\tremaining: 1.61s\n",
      "48:\tlearn: 0.6358501\ttotal: 81.7ms\tremaining: 1.59s\n",
      "49:\tlearn: 0.6291947\ttotal: 82.3ms\tremaining: 1.56s\n",
      "50:\tlearn: 0.6234271\ttotal: 82.7ms\tremaining: 1.54s\n",
      "51:\tlearn: 0.6173498\ttotal: 83.1ms\tremaining: 1.51s\n",
      "52:\tlearn: 0.6123986\ttotal: 83.6ms\tremaining: 1.49s\n",
      "53:\tlearn: 0.6071242\ttotal: 84.3ms\tremaining: 1.48s\n",
      "54:\tlearn: 0.6013073\ttotal: 84.7ms\tremaining: 1.45s\n",
      "55:\tlearn: 0.5962279\ttotal: 85.3ms\tremaining: 1.44s\n",
      "56:\tlearn: 0.5906522\ttotal: 85.7ms\tremaining: 1.42s\n",
      "57:\tlearn: 0.5854203\ttotal: 86.1ms\tremaining: 1.4s\n",
      "58:\tlearn: 0.5804390\ttotal: 86.6ms\tremaining: 1.38s\n",
      "59:\tlearn: 0.5752581\ttotal: 87.2ms\tremaining: 1.36s\n",
      "60:\tlearn: 0.5708999\ttotal: 87.6ms\tremaining: 1.35s\n",
      "61:\tlearn: 0.5647962\ttotal: 88ms\tremaining: 1.33s\n",
      "62:\tlearn: 0.5593522\ttotal: 89.1ms\tremaining: 1.32s\n",
      "63:\tlearn: 0.5540139\ttotal: 89.7ms\tremaining: 1.31s\n",
      "64:\tlearn: 0.5486544\ttotal: 90.2ms\tremaining: 1.3s\n",
      "65:\tlearn: 0.5440372\ttotal: 90.8ms\tremaining: 1.28s\n",
      "66:\tlearn: 0.5395181\ttotal: 91.2ms\tremaining: 1.27s\n",
      "67:\tlearn: 0.5350857\ttotal: 91.7ms\tremaining: 1.26s\n",
      "68:\tlearn: 0.5306266\ttotal: 92.2ms\tremaining: 1.24s\n",
      "69:\tlearn: 0.5260615\ttotal: 92.7ms\tremaining: 1.23s\n",
      "70:\tlearn: 0.5212606\ttotal: 93.3ms\tremaining: 1.22s\n",
      "71:\tlearn: 0.5167749\ttotal: 93.8ms\tremaining: 1.21s\n",
      "72:\tlearn: 0.5120247\ttotal: 94.2ms\tremaining: 1.2s\n",
      "73:\tlearn: 0.5080263\ttotal: 94.6ms\tremaining: 1.18s\n",
      "74:\tlearn: 0.5033862\ttotal: 95.2ms\tremaining: 1.17s\n",
      "75:\tlearn: 0.4997068\ttotal: 95.7ms\tremaining: 1.16s\n",
      "76:\tlearn: 0.4956159\ttotal: 96.1ms\tremaining: 1.15s\n",
      "77:\tlearn: 0.4912452\ttotal: 96.5ms\tremaining: 1.14s\n",
      "78:\tlearn: 0.4882437\ttotal: 96.9ms\tremaining: 1.13s\n",
      "79:\tlearn: 0.4840450\ttotal: 97.4ms\tremaining: 1.12s\n",
      "80:\tlearn: 0.4793659\ttotal: 98ms\tremaining: 1.11s\n",
      "81:\tlearn: 0.4753351\ttotal: 98.4ms\tremaining: 1.1s\n",
      "82:\tlearn: 0.4714836\ttotal: 98.9ms\tremaining: 1.09s\n",
      "83:\tlearn: 0.4675993\ttotal: 99.4ms\tremaining: 1.08s\n",
      "84:\tlearn: 0.4633117\ttotal: 99.9ms\tremaining: 1.07s\n",
      "85:\tlearn: 0.4594556\ttotal: 101ms\tremaining: 1.07s\n",
      "86:\tlearn: 0.4550259\ttotal: 101ms\tremaining: 1.06s\n",
      "87:\tlearn: 0.4506895\ttotal: 102ms\tremaining: 1.05s\n",
      "88:\tlearn: 0.4463859\ttotal: 102ms\tremaining: 1.04s\n",
      "89:\tlearn: 0.4426341\ttotal: 102ms\tremaining: 1.04s\n",
      "90:\tlearn: 0.4393191\ttotal: 103ms\tremaining: 1.03s\n",
      "91:\tlearn: 0.4355043\ttotal: 104ms\tremaining: 1.02s\n",
      "92:\tlearn: 0.4325316\ttotal: 104ms\tremaining: 1.01s\n",
      "93:\tlearn: 0.4286022\ttotal: 104ms\tremaining: 1.01s\n",
      "94:\tlearn: 0.4251396\ttotal: 105ms\tremaining: 999ms\n",
      "95:\tlearn: 0.4215612\ttotal: 105ms\tremaining: 992ms\n",
      "96:\tlearn: 0.4188880\ttotal: 106ms\tremaining: 984ms\n",
      "97:\tlearn: 0.4157432\ttotal: 106ms\tremaining: 979ms\n",
      "98:\tlearn: 0.4126287\ttotal: 107ms\tremaining: 971ms\n",
      "99:\tlearn: 0.4093434\ttotal: 107ms\tremaining: 965ms\n",
      "100:\tlearn: 0.4062142\ttotal: 108ms\tremaining: 960ms\n"
     ]
    },
    {
     "name": "stdout",
     "output_type": "stream",
     "text": [
      "101:\tlearn: 0.4028240\ttotal: 109ms\tremaining: 956ms\n",
      "102:\tlearn: 0.3992299\ttotal: 109ms\tremaining: 952ms\n",
      "103:\tlearn: 0.3960897\ttotal: 110ms\tremaining: 946ms\n",
      "104:\tlearn: 0.3928873\ttotal: 110ms\tremaining: 940ms\n",
      "105:\tlearn: 0.3901337\ttotal: 111ms\tremaining: 935ms\n",
      "106:\tlearn: 0.3872049\ttotal: 111ms\tremaining: 929ms\n",
      "107:\tlearn: 0.3842262\ttotal: 112ms\tremaining: 923ms\n",
      "108:\tlearn: 0.3813659\ttotal: 112ms\tremaining: 918ms\n",
      "109:\tlearn: 0.3783049\ttotal: 113ms\tremaining: 913ms\n",
      "110:\tlearn: 0.3752728\ttotal: 113ms\tremaining: 909ms\n",
      "111:\tlearn: 0.3722917\ttotal: 114ms\tremaining: 903ms\n",
      "112:\tlearn: 0.3700091\ttotal: 114ms\tremaining: 898ms\n",
      "113:\tlearn: 0.3671844\ttotal: 115ms\tremaining: 893ms\n",
      "114:\tlearn: 0.3645044\ttotal: 115ms\tremaining: 888ms\n",
      "115:\tlearn: 0.3615497\ttotal: 116ms\tremaining: 883ms\n",
      "116:\tlearn: 0.3591203\ttotal: 116ms\tremaining: 879ms\n",
      "117:\tlearn: 0.3567214\ttotal: 117ms\tremaining: 874ms\n",
      "118:\tlearn: 0.3539926\ttotal: 118ms\tremaining: 874ms\n",
      "119:\tlearn: 0.3508544\ttotal: 119ms\tremaining: 870ms\n",
      "120:\tlearn: 0.3476871\ttotal: 119ms\tremaining: 865ms\n",
      "121:\tlearn: 0.3454532\ttotal: 120ms\tremaining: 860ms\n",
      "122:\tlearn: 0.3426862\ttotal: 120ms\tremaining: 855ms\n",
      "123:\tlearn: 0.3405135\ttotal: 120ms\tremaining: 851ms\n",
      "124:\tlearn: 0.3381490\ttotal: 121ms\tremaining: 846ms\n",
      "125:\tlearn: 0.3356258\ttotal: 121ms\tremaining: 841ms\n",
      "126:\tlearn: 0.3328786\ttotal: 122ms\tremaining: 838ms\n",
      "127:\tlearn: 0.3298818\ttotal: 122ms\tremaining: 833ms\n",
      "128:\tlearn: 0.3273464\ttotal: 123ms\tremaining: 828ms\n",
      "129:\tlearn: 0.3249725\ttotal: 123ms\tremaining: 825ms\n",
      "130:\tlearn: 0.3223882\ttotal: 124ms\tremaining: 821ms\n",
      "131:\tlearn: 0.3199231\ttotal: 124ms\tremaining: 816ms\n",
      "132:\tlearn: 0.3178602\ttotal: 125ms\tremaining: 812ms\n",
      "133:\tlearn: 0.3156346\ttotal: 126ms\tremaining: 811ms\n",
      "134:\tlearn: 0.3134455\ttotal: 126ms\tremaining: 807ms\n",
      "135:\tlearn: 0.3107257\ttotal: 126ms\tremaining: 803ms\n",
      "136:\tlearn: 0.3082960\ttotal: 127ms\tremaining: 799ms\n",
      "137:\tlearn: 0.3057269\ttotal: 127ms\tremaining: 795ms\n",
      "138:\tlearn: 0.3035663\ttotal: 128ms\tremaining: 792ms\n",
      "139:\tlearn: 0.3013144\ttotal: 128ms\tremaining: 789ms\n",
      "140:\tlearn: 0.2993854\ttotal: 129ms\tremaining: 785ms\n",
      "141:\tlearn: 0.2971374\ttotal: 129ms\tremaining: 782ms\n",
      "142:\tlearn: 0.2948107\ttotal: 130ms\tremaining: 778ms\n",
      "143:\tlearn: 0.2924651\ttotal: 130ms\tremaining: 775ms\n",
      "144:\tlearn: 0.2906756\ttotal: 131ms\tremaining: 772ms\n",
      "145:\tlearn: 0.2890438\ttotal: 131ms\tremaining: 769ms\n",
      "146:\tlearn: 0.2870838\ttotal: 132ms\tremaining: 766ms\n",
      "147:\tlearn: 0.2848087\ttotal: 132ms\tremaining: 762ms\n",
      "148:\tlearn: 0.2830585\ttotal: 133ms\tremaining: 759ms\n",
      "149:\tlearn: 0.2811533\ttotal: 133ms\tremaining: 756ms\n",
      "150:\tlearn: 0.2793598\ttotal: 134ms\tremaining: 752ms\n",
      "151:\tlearn: 0.2778486\ttotal: 134ms\tremaining: 749ms\n",
      "152:\tlearn: 0.2760546\ttotal: 135ms\tremaining: 746ms\n",
      "153:\tlearn: 0.2739353\ttotal: 135ms\tremaining: 742ms\n",
      "154:\tlearn: 0.2718754\ttotal: 136ms\tremaining: 740ms\n",
      "155:\tlearn: 0.2697433\ttotal: 136ms\tremaining: 736ms\n",
      "156:\tlearn: 0.2676041\ttotal: 137ms\tremaining: 734ms\n",
      "157:\tlearn: 0.2654567\ttotal: 137ms\tremaining: 730ms\n",
      "158:\tlearn: 0.2635979\ttotal: 138ms\tremaining: 728ms\n",
      "159:\tlearn: 0.2621465\ttotal: 138ms\tremaining: 725ms\n",
      "160:\tlearn: 0.2605154\ttotal: 139ms\tremaining: 723ms\n",
      "161:\tlearn: 0.2586406\ttotal: 139ms\tremaining: 720ms\n",
      "162:\tlearn: 0.2567354\ttotal: 140ms\tremaining: 717ms\n",
      "163:\tlearn: 0.2550617\ttotal: 140ms\tremaining: 714ms\n",
      "164:\tlearn: 0.2532397\ttotal: 140ms\tremaining: 711ms\n",
      "165:\tlearn: 0.2515760\ttotal: 141ms\tremaining: 709ms\n",
      "166:\tlearn: 0.2499873\ttotal: 142ms\tremaining: 707ms\n",
      "167:\tlearn: 0.2482822\ttotal: 142ms\tremaining: 704ms\n",
      "168:\tlearn: 0.2464462\ttotal: 143ms\tremaining: 701ms\n",
      "169:\tlearn: 0.2448793\ttotal: 143ms\tremaining: 699ms\n",
      "170:\tlearn: 0.2433498\ttotal: 144ms\tremaining: 697ms\n",
      "171:\tlearn: 0.2416954\ttotal: 144ms\tremaining: 694ms\n",
      "172:\tlearn: 0.2401148\ttotal: 145ms\tremaining: 691ms\n",
      "173:\tlearn: 0.2384527\ttotal: 145ms\tremaining: 689ms\n",
      "174:\tlearn: 0.2367100\ttotal: 146ms\tremaining: 687ms\n",
      "175:\tlearn: 0.2350511\ttotal: 146ms\tremaining: 684ms\n",
      "176:\tlearn: 0.2333922\ttotal: 147ms\tremaining: 681ms\n",
      "177:\tlearn: 0.2321643\ttotal: 147ms\tremaining: 679ms\n",
      "178:\tlearn: 0.2302785\ttotal: 148ms\tremaining: 677ms\n",
      "179:\tlearn: 0.2286177\ttotal: 148ms\tremaining: 674ms\n",
      "180:\tlearn: 0.2270391\ttotal: 149ms\tremaining: 672ms\n",
      "181:\tlearn: 0.2253434\ttotal: 149ms\tremaining: 670ms\n",
      "182:\tlearn: 0.2240012\ttotal: 150ms\tremaining: 669ms\n",
      "183:\tlearn: 0.2222908\ttotal: 150ms\tremaining: 666ms\n",
      "184:\tlearn: 0.2204435\ttotal: 151ms\tremaining: 664ms\n",
      "185:\tlearn: 0.2191302\ttotal: 151ms\tremaining: 662ms\n",
      "186:\tlearn: 0.2179322\ttotal: 152ms\tremaining: 660ms\n",
      "187:\tlearn: 0.2163561\ttotal: 152ms\tremaining: 658ms\n",
      "188:\tlearn: 0.2148834\ttotal: 153ms\tremaining: 656ms\n",
      "189:\tlearn: 0.2134127\ttotal: 153ms\tremaining: 654ms\n",
      "190:\tlearn: 0.2116895\ttotal: 154ms\tremaining: 652ms\n",
      "191:\tlearn: 0.2103731\ttotal: 154ms\tremaining: 649ms\n",
      "192:\tlearn: 0.2087730\ttotal: 155ms\tremaining: 647ms\n",
      "193:\tlearn: 0.2072346\ttotal: 155ms\tremaining: 645ms\n",
      "194:\tlearn: 0.2057955\ttotal: 156ms\tremaining: 643ms\n",
      "195:\tlearn: 0.2043710\ttotal: 156ms\tremaining: 641ms\n",
      "196:\tlearn: 0.2030164\ttotal: 157ms\tremaining: 638ms\n",
      "197:\tlearn: 0.2015764\ttotal: 157ms\tremaining: 636ms\n",
      "198:\tlearn: 0.1999058\ttotal: 157ms\tremaining: 634ms\n",
      "199:\tlearn: 0.1987281\ttotal: 158ms\tremaining: 631ms\n",
      "200:\tlearn: 0.1974366\ttotal: 158ms\tremaining: 629ms\n",
      "201:\tlearn: 0.1961001\ttotal: 159ms\tremaining: 628ms\n",
      "202:\tlearn: 0.1948515\ttotal: 160ms\tremaining: 626ms\n",
      "203:\tlearn: 0.1935133\ttotal: 160ms\tremaining: 625ms\n",
      "204:\tlearn: 0.1922369\ttotal: 161ms\tremaining: 623ms\n",
      "205:\tlearn: 0.1910554\ttotal: 161ms\tremaining: 621ms\n",
      "206:\tlearn: 0.1898968\ttotal: 162ms\tremaining: 622ms\n",
      "207:\tlearn: 0.1884926\ttotal: 163ms\tremaining: 620ms\n",
      "208:\tlearn: 0.1872023\ttotal: 163ms\tremaining: 618ms\n",
      "209:\tlearn: 0.1860994\ttotal: 164ms\tremaining: 617ms\n",
      "210:\tlearn: 0.1852912\ttotal: 164ms\tremaining: 614ms\n",
      "211:\tlearn: 0.1842075\ttotal: 165ms\tremaining: 612ms\n",
      "212:\tlearn: 0.1829405\ttotal: 165ms\tremaining: 610ms\n",
      "213:\tlearn: 0.1817577\ttotal: 165ms\tremaining: 607ms\n",
      "214:\tlearn: 0.1806173\ttotal: 166ms\tremaining: 605ms\n",
      "215:\tlearn: 0.1794655\ttotal: 166ms\tremaining: 604ms\n",
      "216:\tlearn: 0.1780320\ttotal: 167ms\tremaining: 602ms\n",
      "217:\tlearn: 0.1768772\ttotal: 167ms\tremaining: 600ms\n",
      "218:\tlearn: 0.1757273\ttotal: 168ms\tremaining: 599ms\n",
      "219:\tlearn: 0.1744410\ttotal: 169ms\tremaining: 598ms\n",
      "220:\tlearn: 0.1729480\ttotal: 169ms\tremaining: 597ms\n",
      "221:\tlearn: 0.1717709\ttotal: 170ms\tremaining: 595ms\n",
      "222:\tlearn: 0.1707271\ttotal: 170ms\tremaining: 593ms\n",
      "223:\tlearn: 0.1694996\ttotal: 171ms\tremaining: 591ms\n",
      "224:\tlearn: 0.1682502\ttotal: 171ms\tremaining: 590ms\n",
      "225:\tlearn: 0.1669877\ttotal: 172ms\tremaining: 588ms\n",
      "226:\tlearn: 0.1659140\ttotal: 172ms\tremaining: 587ms\n",
      "227:\tlearn: 0.1647455\ttotal: 173ms\tremaining: 585ms\n",
      "228:\tlearn: 0.1636061\ttotal: 173ms\tremaining: 584ms\n",
      "229:\tlearn: 0.1624120\ttotal: 174ms\tremaining: 582ms\n",
      "230:\tlearn: 0.1611858\ttotal: 174ms\tremaining: 580ms\n",
      "231:\tlearn: 0.1601439\ttotal: 175ms\tremaining: 579ms\n",
      "232:\tlearn: 0.1589608\ttotal: 175ms\tremaining: 577ms\n",
      "233:\tlearn: 0.1579681\ttotal: 176ms\tremaining: 575ms\n",
      "234:\tlearn: 0.1569902\ttotal: 176ms\tremaining: 574ms\n",
      "235:\tlearn: 0.1558549\ttotal: 177ms\tremaining: 573ms\n",
      "236:\tlearn: 0.1547514\ttotal: 177ms\tremaining: 571ms\n",
      "237:\tlearn: 0.1537256\ttotal: 179ms\tremaining: 572ms\n",
      "238:\tlearn: 0.1526607\ttotal: 179ms\tremaining: 570ms\n",
      "239:\tlearn: 0.1517741\ttotal: 180ms\tremaining: 569ms\n",
      "240:\tlearn: 0.1509053\ttotal: 180ms\tremaining: 567ms\n",
      "241:\tlearn: 0.1499981\ttotal: 181ms\tremaining: 566ms\n",
      "242:\tlearn: 0.1488664\ttotal: 181ms\tremaining: 565ms\n",
      "243:\tlearn: 0.1479138\ttotal: 182ms\tremaining: 563ms\n",
      "244:\tlearn: 0.1467498\ttotal: 182ms\tremaining: 562ms\n",
      "245:\tlearn: 0.1457347\ttotal: 183ms\tremaining: 560ms\n",
      "246:\tlearn: 0.1449091\ttotal: 183ms\tremaining: 559ms\n",
      "247:\tlearn: 0.1440036\ttotal: 184ms\tremaining: 557ms\n",
      "248:\tlearn: 0.1428252\ttotal: 184ms\tremaining: 555ms\n",
      "249:\tlearn: 0.1418533\ttotal: 185ms\tremaining: 554ms\n",
      "250:\tlearn: 0.1409029\ttotal: 185ms\tremaining: 553ms\n",
      "251:\tlearn: 0.1398743\ttotal: 186ms\tremaining: 551ms\n",
      "252:\tlearn: 0.1389886\ttotal: 186ms\tremaining: 550ms\n"
     ]
    },
    {
     "name": "stdout",
     "output_type": "stream",
     "text": [
      "253:\tlearn: 0.1381972\ttotal: 187ms\tremaining: 550ms\n",
      "254:\tlearn: 0.1372874\ttotal: 188ms\tremaining: 549ms\n",
      "255:\tlearn: 0.1364399\ttotal: 188ms\tremaining: 548ms\n",
      "256:\tlearn: 0.1354157\ttotal: 189ms\tremaining: 547ms\n",
      "257:\tlearn: 0.1344440\ttotal: 190ms\tremaining: 545ms\n",
      "258:\tlearn: 0.1335651\ttotal: 190ms\tremaining: 544ms\n",
      "259:\tlearn: 0.1325874\ttotal: 191ms\tremaining: 543ms\n",
      "260:\tlearn: 0.1316231\ttotal: 191ms\tremaining: 541ms\n",
      "261:\tlearn: 0.1307429\ttotal: 192ms\tremaining: 540ms\n",
      "262:\tlearn: 0.1298131\ttotal: 192ms\tremaining: 539ms\n",
      "263:\tlearn: 0.1289523\ttotal: 193ms\tremaining: 537ms\n",
      "264:\tlearn: 0.1283250\ttotal: 193ms\tremaining: 536ms\n",
      "265:\tlearn: 0.1275408\ttotal: 194ms\tremaining: 534ms\n",
      "266:\tlearn: 0.1267056\ttotal: 194ms\tremaining: 533ms\n",
      "267:\tlearn: 0.1259231\ttotal: 195ms\tremaining: 532ms\n",
      "268:\tlearn: 0.1250519\ttotal: 195ms\tremaining: 530ms\n",
      "269:\tlearn: 0.1244119\ttotal: 196ms\tremaining: 529ms\n",
      "270:\tlearn: 0.1235697\ttotal: 196ms\tremaining: 528ms\n",
      "271:\tlearn: 0.1226591\ttotal: 197ms\tremaining: 526ms\n",
      "272:\tlearn: 0.1219382\ttotal: 197ms\tremaining: 525ms\n",
      "273:\tlearn: 0.1211201\ttotal: 198ms\tremaining: 524ms\n",
      "274:\tlearn: 0.1205125\ttotal: 198ms\tremaining: 522ms\n",
      "275:\tlearn: 0.1198533\ttotal: 199ms\tremaining: 521ms\n",
      "276:\tlearn: 0.1190611\ttotal: 199ms\tremaining: 520ms\n",
      "277:\tlearn: 0.1182573\ttotal: 200ms\tremaining: 518ms\n",
      "278:\tlearn: 0.1176499\ttotal: 200ms\tremaining: 517ms\n",
      "279:\tlearn: 0.1170026\ttotal: 201ms\tremaining: 516ms\n",
      "280:\tlearn: 0.1162417\ttotal: 201ms\tremaining: 515ms\n",
      "281:\tlearn: 0.1156048\ttotal: 202ms\tremaining: 514ms\n",
      "282:\tlearn: 0.1150082\ttotal: 202ms\tremaining: 513ms\n",
      "283:\tlearn: 0.1144234\ttotal: 203ms\tremaining: 512ms\n",
      "284:\tlearn: 0.1136921\ttotal: 203ms\tremaining: 510ms\n",
      "285:\tlearn: 0.1130468\ttotal: 204ms\tremaining: 509ms\n",
      "286:\tlearn: 0.1123091\ttotal: 204ms\tremaining: 508ms\n",
      "287:\tlearn: 0.1116851\ttotal: 205ms\tremaining: 507ms\n",
      "288:\tlearn: 0.1110644\ttotal: 206ms\tremaining: 506ms\n",
      "289:\tlearn: 0.1103665\ttotal: 206ms\tremaining: 505ms\n",
      "290:\tlearn: 0.1097282\ttotal: 207ms\tremaining: 503ms\n",
      "291:\tlearn: 0.1091498\ttotal: 207ms\tremaining: 502ms\n",
      "292:\tlearn: 0.1086313\ttotal: 208ms\tremaining: 501ms\n",
      "293:\tlearn: 0.1077561\ttotal: 208ms\tremaining: 500ms\n",
      "294:\tlearn: 0.1071797\ttotal: 209ms\tremaining: 499ms\n",
      "295:\tlearn: 0.1065711\ttotal: 209ms\tremaining: 498ms\n",
      "296:\tlearn: 0.1059694\ttotal: 210ms\tremaining: 497ms\n",
      "297:\tlearn: 0.1051230\ttotal: 210ms\tremaining: 496ms\n",
      "298:\tlearn: 0.1045114\ttotal: 211ms\tremaining: 495ms\n",
      "299:\tlearn: 0.1038318\ttotal: 212ms\tremaining: 494ms\n",
      "300:\tlearn: 0.1032758\ttotal: 212ms\tremaining: 493ms\n",
      "301:\tlearn: 0.1027936\ttotal: 213ms\tremaining: 492ms\n",
      "302:\tlearn: 0.1022191\ttotal: 213ms\tremaining: 491ms\n",
      "303:\tlearn: 0.1015630\ttotal: 214ms\tremaining: 490ms\n",
      "304:\tlearn: 0.1010762\ttotal: 214ms\tremaining: 489ms\n",
      "305:\tlearn: 0.1005271\ttotal: 215ms\tremaining: 487ms\n",
      "306:\tlearn: 0.1000699\ttotal: 215ms\tremaining: 486ms\n",
      "307:\tlearn: 0.0993545\ttotal: 216ms\tremaining: 485ms\n",
      "308:\tlearn: 0.0988648\ttotal: 216ms\tremaining: 484ms\n",
      "309:\tlearn: 0.0982589\ttotal: 217ms\tremaining: 483ms\n",
      "310:\tlearn: 0.0974987\ttotal: 218ms\tremaining: 482ms\n",
      "311:\tlearn: 0.0969693\ttotal: 218ms\tremaining: 481ms\n",
      "312:\tlearn: 0.0963674\ttotal: 219ms\tremaining: 480ms\n",
      "313:\tlearn: 0.0958556\ttotal: 219ms\tremaining: 479ms\n",
      "314:\tlearn: 0.0951441\ttotal: 220ms\tremaining: 477ms\n",
      "315:\tlearn: 0.0944239\ttotal: 220ms\tremaining: 476ms\n",
      "316:\tlearn: 0.0940146\ttotal: 221ms\tremaining: 475ms\n",
      "317:\tlearn: 0.0935775\ttotal: 221ms\tremaining: 474ms\n",
      "318:\tlearn: 0.0929913\ttotal: 222ms\tremaining: 473ms\n",
      "319:\tlearn: 0.0924513\ttotal: 222ms\tremaining: 472ms\n",
      "320:\tlearn: 0.0920291\ttotal: 223ms\tremaining: 471ms\n",
      "321:\tlearn: 0.0915524\ttotal: 223ms\tremaining: 470ms\n",
      "322:\tlearn: 0.0910300\ttotal: 224ms\tremaining: 469ms\n",
      "323:\tlearn: 0.0904552\ttotal: 224ms\tremaining: 468ms\n",
      "324:\tlearn: 0.0898702\ttotal: 225ms\tremaining: 467ms\n",
      "325:\tlearn: 0.0893152\ttotal: 225ms\tremaining: 466ms\n",
      "326:\tlearn: 0.0889032\ttotal: 226ms\tremaining: 464ms\n",
      "327:\tlearn: 0.0884518\ttotal: 226ms\tremaining: 463ms\n",
      "328:\tlearn: 0.0880314\ttotal: 227ms\tremaining: 463ms\n",
      "329:\tlearn: 0.0875411\ttotal: 227ms\tremaining: 461ms\n",
      "330:\tlearn: 0.0870535\ttotal: 228ms\tremaining: 461ms\n",
      "331:\tlearn: 0.0864160\ttotal: 228ms\tremaining: 460ms\n",
      "332:\tlearn: 0.0858521\ttotal: 229ms\tremaining: 458ms\n",
      "333:\tlearn: 0.0853969\ttotal: 229ms\tremaining: 457ms\n",
      "334:\tlearn: 0.0849838\ttotal: 230ms\tremaining: 456ms\n",
      "335:\tlearn: 0.0845598\ttotal: 231ms\tremaining: 456ms\n",
      "336:\tlearn: 0.0840473\ttotal: 231ms\tremaining: 454ms\n",
      "337:\tlearn: 0.0836498\ttotal: 232ms\tremaining: 453ms\n",
      "338:\tlearn: 0.0832936\ttotal: 232ms\tremaining: 452ms\n",
      "339:\tlearn: 0.0828618\ttotal: 233ms\tremaining: 451ms\n",
      "340:\tlearn: 0.0822418\ttotal: 233ms\tremaining: 450ms\n",
      "341:\tlearn: 0.0818932\ttotal: 233ms\tremaining: 449ms\n",
      "342:\tlearn: 0.0813145\ttotal: 234ms\tremaining: 448ms\n",
      "343:\tlearn: 0.0809016\ttotal: 234ms\tremaining: 447ms\n",
      "344:\tlearn: 0.0805812\ttotal: 235ms\tremaining: 446ms\n",
      "345:\tlearn: 0.0802366\ttotal: 236ms\tremaining: 445ms\n",
      "346:\tlearn: 0.0799604\ttotal: 236ms\tremaining: 444ms\n",
      "347:\tlearn: 0.0795605\ttotal: 237ms\tremaining: 443ms\n",
      "348:\tlearn: 0.0792234\ttotal: 237ms\tremaining: 442ms\n",
      "349:\tlearn: 0.0786850\ttotal: 238ms\tremaining: 442ms\n",
      "350:\tlearn: 0.0783007\ttotal: 238ms\tremaining: 441ms\n",
      "351:\tlearn: 0.0778342\ttotal: 239ms\tremaining: 440ms\n",
      "352:\tlearn: 0.0774948\ttotal: 240ms\tremaining: 440ms\n",
      "353:\tlearn: 0.0770375\ttotal: 241ms\tremaining: 439ms\n",
      "354:\tlearn: 0.0766737\ttotal: 241ms\tremaining: 438ms\n",
      "355:\tlearn: 0.0764184\ttotal: 242ms\tremaining: 438ms\n",
      "356:\tlearn: 0.0758783\ttotal: 242ms\tremaining: 436ms\n",
      "357:\tlearn: 0.0753486\ttotal: 243ms\tremaining: 435ms\n",
      "358:\tlearn: 0.0750375\ttotal: 243ms\tremaining: 434ms\n",
      "359:\tlearn: 0.0745289\ttotal: 244ms\tremaining: 433ms\n",
      "360:\tlearn: 0.0742875\ttotal: 244ms\tremaining: 432ms\n",
      "361:\tlearn: 0.0737901\ttotal: 245ms\tremaining: 431ms\n",
      "362:\tlearn: 0.0735353\ttotal: 245ms\tremaining: 430ms\n",
      "363:\tlearn: 0.0731100\ttotal: 246ms\tremaining: 429ms\n",
      "364:\tlearn: 0.0726269\ttotal: 246ms\tremaining: 428ms\n",
      "365:\tlearn: 0.0723291\ttotal: 247ms\tremaining: 427ms\n",
      "366:\tlearn: 0.0720440\ttotal: 247ms\tremaining: 426ms\n",
      "367:\tlearn: 0.0715552\ttotal: 248ms\tremaining: 425ms\n",
      "368:\tlearn: 0.0711706\ttotal: 248ms\tremaining: 424ms\n",
      "369:\tlearn: 0.0707939\ttotal: 248ms\tremaining: 423ms\n",
      "370:\tlearn: 0.0703907\ttotal: 249ms\tremaining: 422ms\n",
      "371:\tlearn: 0.0700236\ttotal: 249ms\tremaining: 421ms\n",
      "372:\tlearn: 0.0695875\ttotal: 250ms\tremaining: 420ms\n",
      "373:\tlearn: 0.0691970\ttotal: 250ms\tremaining: 419ms\n",
      "374:\tlearn: 0.0689328\ttotal: 251ms\tremaining: 418ms\n",
      "375:\tlearn: 0.0685783\ttotal: 251ms\tremaining: 417ms\n",
      "376:\tlearn: 0.0682291\ttotal: 252ms\tremaining: 417ms\n",
      "377:\tlearn: 0.0678141\ttotal: 253ms\tremaining: 416ms\n",
      "378:\tlearn: 0.0676295\ttotal: 253ms\tremaining: 415ms\n",
      "379:\tlearn: 0.0672802\ttotal: 254ms\tremaining: 414ms\n",
      "380:\tlearn: 0.0668788\ttotal: 254ms\tremaining: 413ms\n",
      "381:\tlearn: 0.0664866\ttotal: 255ms\tremaining: 412ms\n",
      "382:\tlearn: 0.0661032\ttotal: 255ms\tremaining: 411ms\n",
      "383:\tlearn: 0.0657534\ttotal: 255ms\tremaining: 410ms\n",
      "384:\tlearn: 0.0654113\ttotal: 256ms\tremaining: 409ms\n",
      "385:\tlearn: 0.0650771\ttotal: 256ms\tremaining: 408ms\n",
      "386:\tlearn: 0.0647677\ttotal: 257ms\tremaining: 406ms\n",
      "387:\tlearn: 0.0644459\ttotal: 257ms\tremaining: 406ms\n",
      "388:\tlearn: 0.0641233\ttotal: 258ms\tremaining: 405ms\n",
      "389:\tlearn: 0.0639690\ttotal: 258ms\tremaining: 404ms\n",
      "390:\tlearn: 0.0636339\ttotal: 258ms\tremaining: 402ms\n",
      "391:\tlearn: 0.0632713\ttotal: 259ms\tremaining: 402ms\n",
      "392:\tlearn: 0.0629395\ttotal: 259ms\tremaining: 401ms\n",
      "393:\tlearn: 0.0626158\ttotal: 260ms\tremaining: 400ms\n",
      "394:\tlearn: 0.0622763\ttotal: 260ms\tremaining: 399ms\n",
      "395:\tlearn: 0.0619986\ttotal: 261ms\tremaining: 398ms\n",
      "396:\tlearn: 0.0618092\ttotal: 261ms\tremaining: 397ms\n",
      "397:\tlearn: 0.0615038\ttotal: 261ms\tremaining: 395ms\n",
      "398:\tlearn: 0.0612855\ttotal: 262ms\tremaining: 395ms\n",
      "399:\tlearn: 0.0610212\ttotal: 262ms\tremaining: 394ms\n",
      "400:\tlearn: 0.0607034\ttotal: 263ms\tremaining: 393ms\n",
      "401:\tlearn: 0.0604111\ttotal: 263ms\tremaining: 392ms\n",
      "402:\tlearn: 0.0602334\ttotal: 264ms\tremaining: 391ms\n",
      "403:\tlearn: 0.0599292\ttotal: 264ms\tremaining: 390ms\n",
      "404:\tlearn: 0.0597564\ttotal: 265ms\tremaining: 389ms\n",
      "405:\tlearn: 0.0594784\ttotal: 265ms\tremaining: 388ms\n",
      "406:\tlearn: 0.0593286\ttotal: 266ms\tremaining: 387ms\n",
      "407:\tlearn: 0.0591638\ttotal: 266ms\tremaining: 386ms\n",
      "408:\tlearn: 0.0590194\ttotal: 267ms\tremaining: 385ms\n",
      "409:\tlearn: 0.0588778\ttotal: 267ms\tremaining: 384ms\n",
      "410:\tlearn: 0.0587065\ttotal: 267ms\tremaining: 383ms\n",
      "411:\tlearn: 0.0583944\ttotal: 268ms\tremaining: 382ms\n",
      "412:\tlearn: 0.0582567\ttotal: 268ms\tremaining: 381ms\n",
      "413:\tlearn: 0.0579604\ttotal: 269ms\tremaining: 381ms\n",
      "414:\tlearn: 0.0578082\ttotal: 269ms\tremaining: 380ms\n",
      "415:\tlearn: 0.0576751\ttotal: 270ms\tremaining: 379ms\n",
      "416:\tlearn: 0.0573434\ttotal: 270ms\tremaining: 378ms\n",
      "417:\tlearn: 0.0570162\ttotal: 271ms\tremaining: 377ms\n",
      "418:\tlearn: 0.0566978\ttotal: 271ms\tremaining: 376ms\n",
      "419:\tlearn: 0.0563796\ttotal: 272ms\tremaining: 376ms\n",
      "420:\tlearn: 0.0560699\ttotal: 272ms\tremaining: 375ms\n",
      "421:\tlearn: 0.0556849\ttotal: 273ms\tremaining: 374ms\n",
      "422:\tlearn: 0.0554340\ttotal: 273ms\tremaining: 373ms\n",
      "423:\tlearn: 0.0551838\ttotal: 274ms\tremaining: 372ms\n",
      "424:\tlearn: 0.0548109\ttotal: 274ms\tremaining: 371ms\n",
      "425:\tlearn: 0.0546197\ttotal: 275ms\tremaining: 370ms\n",
      "426:\tlearn: 0.0544311\ttotal: 275ms\tremaining: 369ms\n",
      "427:\tlearn: 0.0541369\ttotal: 275ms\tremaining: 368ms\n",
      "428:\tlearn: 0.0539525\ttotal: 276ms\tremaining: 367ms\n",
      "429:\tlearn: 0.0535955\ttotal: 276ms\tremaining: 366ms\n",
      "430:\tlearn: 0.0534155\ttotal: 277ms\tremaining: 365ms\n",
      "431:\tlearn: 0.0531319\ttotal: 277ms\tremaining: 365ms\n",
      "432:\tlearn: 0.0529558\ttotal: 278ms\tremaining: 364ms\n",
      "433:\tlearn: 0.0528260\ttotal: 278ms\tremaining: 363ms\n",
      "434:\tlearn: 0.0526989\ttotal: 279ms\tremaining: 362ms\n",
      "435:\tlearn: 0.0525242\ttotal: 279ms\tremaining: 361ms\n",
      "436:\tlearn: 0.0523991\ttotal: 280ms\tremaining: 360ms\n",
      "437:\tlearn: 0.0522262\ttotal: 280ms\tremaining: 359ms\n",
      "438:\tlearn: 0.0521032\ttotal: 280ms\tremaining: 358ms\n",
      "439:\tlearn: 0.0519827\ttotal: 281ms\tremaining: 358ms\n",
      "440:\tlearn: 0.0518112\ttotal: 281ms\tremaining: 357ms\n",
      "441:\tlearn: 0.0516927\ttotal: 282ms\tremaining: 356ms\n",
      "442:\tlearn: 0.0515231\ttotal: 282ms\tremaining: 355ms\n",
      "443:\tlearn: 0.0514064\ttotal: 283ms\tremaining: 354ms\n",
      "444:\tlearn: 0.0512387\ttotal: 283ms\tremaining: 353ms\n",
      "445:\tlearn: 0.0511240\ttotal: 284ms\tremaining: 352ms\n",
      "446:\tlearn: 0.0510115\ttotal: 284ms\tremaining: 352ms\n",
      "447:\tlearn: 0.0508452\ttotal: 285ms\tremaining: 351ms\n",
      "448:\tlearn: 0.0506075\ttotal: 285ms\tremaining: 350ms\n",
      "449:\tlearn: 0.0504970\ttotal: 286ms\tremaining: 349ms\n",
      "450:\tlearn: 0.0503333\ttotal: 286ms\tremaining: 348ms\n",
      "451:\tlearn: 0.0500954\ttotal: 287ms\tremaining: 347ms\n",
      "452:\tlearn: 0.0499870\ttotal: 287ms\tremaining: 347ms\n",
      "453:\tlearn: 0.0498259\ttotal: 288ms\tremaining: 346ms\n",
      "454:\tlearn: 0.0497193\ttotal: 288ms\tremaining: 345ms\n",
      "455:\tlearn: 0.0495600\ttotal: 289ms\tremaining: 344ms\n",
      "456:\tlearn: 0.0493337\ttotal: 289ms\tremaining: 343ms\n",
      "457:\tlearn: 0.0492290\ttotal: 289ms\tremaining: 342ms\n",
      "458:\tlearn: 0.0490721\ttotal: 290ms\tremaining: 342ms\n",
      "459:\tlearn: 0.0488517\ttotal: 290ms\tremaining: 341ms\n",
      "460:\tlearn: 0.0487487\ttotal: 291ms\tremaining: 340ms\n",
      "461:\tlearn: 0.0485942\ttotal: 291ms\tremaining: 339ms\n",
      "462:\tlearn: 0.0483733\ttotal: 292ms\tremaining: 338ms\n"
     ]
    },
    {
     "name": "stdout",
     "output_type": "stream",
     "text": [
      "463:\tlearn: 0.0482723\ttotal: 292ms\tremaining: 338ms\n",
      "464:\tlearn: 0.0481203\ttotal: 293ms\tremaining: 337ms\n",
      "465:\tlearn: 0.0480210\ttotal: 293ms\tremaining: 336ms\n",
      "466:\tlearn: 0.0478706\ttotal: 294ms\tremaining: 335ms\n",
      "467:\tlearn: 0.0476607\ttotal: 294ms\tremaining: 335ms\n",
      "468:\tlearn: 0.0475184\ttotal: 295ms\tremaining: 334ms\n",
      "469:\tlearn: 0.0474209\ttotal: 295ms\tremaining: 333ms\n",
      "470:\tlearn: 0.0472162\ttotal: 296ms\tremaining: 332ms\n",
      "471:\tlearn: 0.0470701\ttotal: 296ms\tremaining: 331ms\n",
      "472:\tlearn: 0.0469743\ttotal: 297ms\tremaining: 330ms\n",
      "473:\tlearn: 0.0467359\ttotal: 297ms\tremaining: 330ms\n",
      "474:\tlearn: 0.0465520\ttotal: 298ms\tremaining: 329ms\n",
      "475:\tlearn: 0.0463009\ttotal: 298ms\tremaining: 328ms\n",
      "476:\tlearn: 0.0461210\ttotal: 299ms\tremaining: 328ms\n",
      "477:\tlearn: 0.0458909\ttotal: 299ms\tremaining: 327ms\n",
      "478:\tlearn: 0.0457515\ttotal: 300ms\tremaining: 326ms\n",
      "479:\tlearn: 0.0455766\ttotal: 300ms\tremaining: 325ms\n",
      "480:\tlearn: 0.0453240\ttotal: 301ms\tremaining: 325ms\n",
      "481:\tlearn: 0.0450999\ttotal: 302ms\tremaining: 324ms\n",
      "482:\tlearn: 0.0449288\ttotal: 302ms\tremaining: 323ms\n",
      "483:\tlearn: 0.0446831\ttotal: 303ms\tremaining: 323ms\n",
      "484:\tlearn: 0.0444888\ttotal: 303ms\tremaining: 322ms\n",
      "485:\tlearn: 0.0442973\ttotal: 303ms\tremaining: 321ms\n",
      "486:\tlearn: 0.0440920\ttotal: 304ms\tremaining: 320ms\n",
      "487:\tlearn: 0.0438906\ttotal: 304ms\tremaining: 319ms\n",
      "488:\tlearn: 0.0437049\ttotal: 305ms\tremaining: 319ms\n",
      "489:\tlearn: 0.0435086\ttotal: 305ms\tremaining: 318ms\n",
      "490:\tlearn: 0.0433159\ttotal: 306ms\tremaining: 317ms\n",
      "491:\tlearn: 0.0431358\ttotal: 306ms\tremaining: 316ms\n",
      "492:\tlearn: 0.0429481\ttotal: 307ms\tremaining: 315ms\n",
      "493:\tlearn: 0.0427638\ttotal: 307ms\tremaining: 315ms\n",
      "494:\tlearn: 0.0425555\ttotal: 308ms\tremaining: 314ms\n",
      "495:\tlearn: 0.0423823\ttotal: 308ms\tremaining: 313ms\n",
      "496:\tlearn: 0.0422117\ttotal: 308ms\tremaining: 312ms\n",
      "497:\tlearn: 0.0421217\ttotal: 309ms\tremaining: 311ms\n",
      "498:\tlearn: 0.0418715\ttotal: 309ms\tremaining: 311ms\n",
      "499:\tlearn: 0.0416522\ttotal: 310ms\tremaining: 310ms\n",
      "500:\tlearn: 0.0415650\ttotal: 310ms\tremaining: 309ms\n",
      "501:\tlearn: 0.0413981\ttotal: 311ms\tremaining: 308ms\n",
      "502:\tlearn: 0.0413126\ttotal: 311ms\tremaining: 308ms\n",
      "503:\tlearn: 0.0411000\ttotal: 312ms\tremaining: 307ms\n",
      "504:\tlearn: 0.0407795\ttotal: 312ms\tremaining: 306ms\n",
      "505:\tlearn: 0.0405734\ttotal: 313ms\tremaining: 305ms\n",
      "506:\tlearn: 0.0404132\ttotal: 313ms\tremaining: 305ms\n",
      "507:\tlearn: 0.0401603\ttotal: 314ms\tremaining: 304ms\n",
      "508:\tlearn: 0.0400032\ttotal: 314ms\tremaining: 303ms\n",
      "509:\tlearn: 0.0399214\ttotal: 315ms\tremaining: 303ms\n",
      "510:\tlearn: 0.0397809\ttotal: 315ms\tremaining: 302ms\n",
      "511:\tlearn: 0.0395405\ttotal: 316ms\tremaining: 301ms\n",
      "512:\tlearn: 0.0393822\ttotal: 317ms\tremaining: 300ms\n",
      "513:\tlearn: 0.0392306\ttotal: 317ms\tremaining: 300ms\n",
      "514:\tlearn: 0.0391511\ttotal: 317ms\tremaining: 299ms\n",
      "515:\tlearn: 0.0390010\ttotal: 318ms\tremaining: 298ms\n",
      "516:\tlearn: 0.0387637\ttotal: 318ms\tremaining: 297ms\n",
      "517:\tlearn: 0.0386171\ttotal: 319ms\tremaining: 297ms\n",
      "518:\tlearn: 0.0385451\ttotal: 320ms\tremaining: 296ms\n",
      "519:\tlearn: 0.0383097\ttotal: 320ms\tremaining: 296ms\n",
      "520:\tlearn: 0.0381659\ttotal: 321ms\tremaining: 295ms\n",
      "521:\tlearn: 0.0379660\ttotal: 321ms\tremaining: 294ms\n",
      "522:\tlearn: 0.0377992\ttotal: 322ms\tremaining: 293ms\n",
      "523:\tlearn: 0.0376403\ttotal: 322ms\tremaining: 293ms\n",
      "524:\tlearn: 0.0375702\ttotal: 323ms\tremaining: 292ms\n",
      "525:\tlearn: 0.0374319\ttotal: 323ms\tremaining: 291ms\n",
      "526:\tlearn: 0.0373632\ttotal: 324ms\tremaining: 291ms\n",
      "527:\tlearn: 0.0372262\ttotal: 324ms\tremaining: 290ms\n",
      "528:\tlearn: 0.0370722\ttotal: 325ms\tremaining: 289ms\n",
      "529:\tlearn: 0.0370048\ttotal: 325ms\tremaining: 288ms\n",
      "530:\tlearn: 0.0368535\ttotal: 326ms\tremaining: 288ms\n",
      "531:\tlearn: 0.0367484\ttotal: 326ms\tremaining: 287ms\n",
      "532:\tlearn: 0.0366003\ttotal: 327ms\tremaining: 286ms\n",
      "533:\tlearn: 0.0365352\ttotal: 327ms\tremaining: 286ms\n",
      "534:\tlearn: 0.0363898\ttotal: 328ms\tremaining: 285ms\n",
      "535:\tlearn: 0.0362672\ttotal: 328ms\tremaining: 284ms\n",
      "536:\tlearn: 0.0362032\ttotal: 329ms\tremaining: 283ms\n",
      "537:\tlearn: 0.0360488\ttotal: 329ms\tremaining: 283ms\n",
      "538:\tlearn: 0.0358761\ttotal: 330ms\tremaining: 282ms\n",
      "539:\tlearn: 0.0356961\ttotal: 330ms\tremaining: 282ms\n",
      "540:\tlearn: 0.0355776\ttotal: 331ms\tremaining: 281ms\n",
      "541:\tlearn: 0.0354023\ttotal: 332ms\tremaining: 280ms\n",
      "542:\tlearn: 0.0352658\ttotal: 332ms\tremaining: 280ms\n",
      "543:\tlearn: 0.0351196\ttotal: 333ms\tremaining: 279ms\n",
      "544:\tlearn: 0.0349257\ttotal: 333ms\tremaining: 278ms\n",
      "545:\tlearn: 0.0348514\ttotal: 334ms\tremaining: 277ms\n",
      "546:\tlearn: 0.0347690\ttotal: 334ms\tremaining: 277ms\n",
      "547:\tlearn: 0.0345884\ttotal: 335ms\tremaining: 276ms\n",
      "548:\tlearn: 0.0344733\ttotal: 335ms\tremaining: 275ms\n",
      "549:\tlearn: 0.0343333\ttotal: 336ms\tremaining: 275ms\n",
      "550:\tlearn: 0.0342228\ttotal: 336ms\tremaining: 274ms\n",
      "551:\tlearn: 0.0340561\ttotal: 337ms\tremaining: 273ms\n",
      "552:\tlearn: 0.0339175\ttotal: 337ms\tremaining: 273ms\n",
      "553:\tlearn: 0.0337979\ttotal: 338ms\tremaining: 272ms\n",
      "554:\tlearn: 0.0336385\ttotal: 338ms\tremaining: 271ms\n",
      "555:\tlearn: 0.0335224\ttotal: 339ms\tremaining: 271ms\n",
      "556:\tlearn: 0.0333670\ttotal: 339ms\tremaining: 270ms\n",
      "557:\tlearn: 0.0332324\ttotal: 340ms\tremaining: 269ms\n",
      "558:\tlearn: 0.0331414\ttotal: 340ms\tremaining: 268ms\n",
      "559:\tlearn: 0.0330521\ttotal: 341ms\tremaining: 268ms\n",
      "560:\tlearn: 0.0329124\ttotal: 342ms\tremaining: 267ms\n",
      "561:\tlearn: 0.0327437\ttotal: 342ms\tremaining: 267ms\n",
      "562:\tlearn: 0.0326127\ttotal: 343ms\tremaining: 266ms\n",
      "563:\tlearn: 0.0324480\ttotal: 343ms\tremaining: 265ms\n",
      "564:\tlearn: 0.0323200\ttotal: 344ms\tremaining: 265ms\n",
      "565:\tlearn: 0.0321593\ttotal: 345ms\tremaining: 264ms\n",
      "566:\tlearn: 0.0320915\ttotal: 345ms\tremaining: 264ms\n",
      "567:\tlearn: 0.0319345\ttotal: 346ms\tremaining: 263ms\n",
      "568:\tlearn: 0.0318350\ttotal: 346ms\tremaining: 262ms\n",
      "569:\tlearn: 0.0317103\ttotal: 346ms\tremaining: 261ms\n",
      "570:\tlearn: 0.0315882\ttotal: 347ms\tremaining: 261ms\n",
      "571:\tlearn: 0.0314286\ttotal: 348ms\tremaining: 260ms\n",
      "572:\tlearn: 0.0313635\ttotal: 348ms\tremaining: 259ms\n",
      "573:\tlearn: 0.0312302\ttotal: 349ms\tremaining: 259ms\n",
      "574:\tlearn: 0.0310994\ttotal: 349ms\tremaining: 258ms\n",
      "575:\tlearn: 0.0309244\ttotal: 350ms\tremaining: 257ms\n",
      "576:\tlearn: 0.0307956\ttotal: 350ms\tremaining: 257ms\n",
      "577:\tlearn: 0.0306687\ttotal: 351ms\tremaining: 256ms\n",
      "578:\tlearn: 0.0305166\ttotal: 351ms\tremaining: 255ms\n",
      "579:\tlearn: 0.0303920\ttotal: 352ms\tremaining: 255ms\n",
      "580:\tlearn: 0.0302830\ttotal: 352ms\tremaining: 254ms\n",
      "581:\tlearn: 0.0301610\ttotal: 353ms\tremaining: 253ms\n",
      "582:\tlearn: 0.0300408\ttotal: 353ms\tremaining: 253ms\n",
      "583:\tlearn: 0.0298895\ttotal: 354ms\tremaining: 252ms\n",
      "584:\tlearn: 0.0298210\ttotal: 354ms\tremaining: 251ms\n",
      "585:\tlearn: 0.0297031\ttotal: 355ms\tremaining: 250ms\n",
      "586:\tlearn: 0.0295870\ttotal: 355ms\tremaining: 250ms\n",
      "587:\tlearn: 0.0294402\ttotal: 356ms\tremaining: 249ms\n",
      "588:\tlearn: 0.0293641\ttotal: 356ms\tremaining: 248ms\n",
      "589:\tlearn: 0.0293099\ttotal: 357ms\tremaining: 248ms\n",
      "590:\tlearn: 0.0292569\ttotal: 357ms\tremaining: 247ms\n",
      "591:\tlearn: 0.0291434\ttotal: 357ms\tremaining: 246ms\n",
      "592:\tlearn: 0.0290915\ttotal: 358ms\tremaining: 246ms\n",
      "593:\tlearn: 0.0289798\ttotal: 358ms\tremaining: 245ms\n",
      "594:\tlearn: 0.0289290\ttotal: 359ms\tremaining: 244ms\n",
      "595:\tlearn: 0.0288793\ttotal: 360ms\tremaining: 244ms\n",
      "596:\tlearn: 0.0287595\ttotal: 360ms\tremaining: 243ms\n",
      "597:\tlearn: 0.0285753\ttotal: 361ms\tremaining: 242ms\n",
      "598:\tlearn: 0.0284583\ttotal: 361ms\tremaining: 242ms\n",
      "599:\tlearn: 0.0282749\ttotal: 362ms\tremaining: 241ms\n",
      "600:\tlearn: 0.0281672\ttotal: 362ms\tremaining: 240ms\n",
      "601:\tlearn: 0.0280696\ttotal: 362ms\tremaining: 240ms\n",
      "602:\tlearn: 0.0279736\ttotal: 363ms\tremaining: 239ms\n",
      "603:\tlearn: 0.0278198\ttotal: 363ms\tremaining: 238ms\n",
      "604:\tlearn: 0.0277152\ttotal: 364ms\tremaining: 237ms\n",
      "605:\tlearn: 0.0275901\ttotal: 364ms\tremaining: 237ms\n",
      "606:\tlearn: 0.0274908\ttotal: 365ms\tremaining: 236ms\n",
      "607:\tlearn: 0.0273692\ttotal: 365ms\tremaining: 236ms\n",
      "608:\tlearn: 0.0272720\ttotal: 366ms\tremaining: 235ms\n",
      "609:\tlearn: 0.0271255\ttotal: 366ms\tremaining: 234ms\n",
      "610:\tlearn: 0.0270304\ttotal: 367ms\tremaining: 233ms\n",
      "611:\tlearn: 0.0269112\ttotal: 367ms\tremaining: 233ms\n",
      "612:\tlearn: 0.0267692\ttotal: 368ms\tremaining: 232ms\n",
      "613:\tlearn: 0.0266765\ttotal: 368ms\tremaining: 232ms\n",
      "614:\tlearn: 0.0265616\ttotal: 369ms\tremaining: 231ms\n",
      "615:\tlearn: 0.0264708\ttotal: 369ms\tremaining: 230ms\n",
      "616:\tlearn: 0.0263080\ttotal: 369ms\tremaining: 229ms\n",
      "617:\tlearn: 0.0261967\ttotal: 370ms\tremaining: 229ms\n"
     ]
    },
    {
     "name": "stdout",
     "output_type": "stream",
     "text": [
      "618:\tlearn: 0.0261085\ttotal: 371ms\tremaining: 228ms\n",
      "619:\tlearn: 0.0259506\ttotal: 371ms\tremaining: 227ms\n",
      "620:\tlearn: 0.0258429\ttotal: 372ms\tremaining: 227ms\n",
      "621:\tlearn: 0.0257539\ttotal: 372ms\tremaining: 226ms\n",
      "622:\tlearn: 0.0256659\ttotal: 372ms\tremaining: 225ms\n",
      "623:\tlearn: 0.0255790\ttotal: 373ms\tremaining: 225ms\n",
      "624:\tlearn: 0.0254790\ttotal: 373ms\tremaining: 224ms\n",
      "625:\tlearn: 0.0253943\ttotal: 374ms\tremaining: 223ms\n",
      "626:\tlearn: 0.0252426\ttotal: 374ms\tremaining: 223ms\n",
      "627:\tlearn: 0.0251401\ttotal: 375ms\tremaining: 222ms\n",
      "628:\tlearn: 0.0250556\ttotal: 375ms\tremaining: 221ms\n",
      "629:\tlearn: 0.0249721\ttotal: 376ms\tremaining: 221ms\n",
      "630:\tlearn: 0.0248896\ttotal: 376ms\tremaining: 220ms\n",
      "631:\tlearn: 0.0248023\ttotal: 376ms\tremaining: 219ms\n",
      "632:\tlearn: 0.0247211\ttotal: 377ms\tremaining: 219ms\n",
      "633:\tlearn: 0.0246227\ttotal: 377ms\tremaining: 218ms\n",
      "634:\tlearn: 0.0245422\ttotal: 378ms\tremaining: 217ms\n",
      "635:\tlearn: 0.0244626\ttotal: 378ms\tremaining: 216ms\n",
      "636:\tlearn: 0.0243840\ttotal: 379ms\tremaining: 216ms\n",
      "637:\tlearn: 0.0242453\ttotal: 379ms\tremaining: 215ms\n",
      "638:\tlearn: 0.0241046\ttotal: 380ms\tremaining: 215ms\n",
      "639:\tlearn: 0.0240277\ttotal: 380ms\tremaining: 214ms\n",
      "640:\tlearn: 0.0238990\ttotal: 381ms\tremaining: 213ms\n",
      "641:\tlearn: 0.0238155\ttotal: 381ms\tremaining: 213ms\n",
      "642:\tlearn: 0.0236816\ttotal: 382ms\tremaining: 212ms\n",
      "643:\tlearn: 0.0235457\ttotal: 382ms\tremaining: 211ms\n",
      "644:\tlearn: 0.0234417\ttotal: 383ms\tremaining: 211ms\n",
      "645:\tlearn: 0.0233113\ttotal: 384ms\tremaining: 210ms\n",
      "646:\tlearn: 0.0232191\ttotal: 384ms\tremaining: 210ms\n",
      "647:\tlearn: 0.0231438\ttotal: 385ms\tremaining: 209ms\n",
      "648:\tlearn: 0.0230539\ttotal: 385ms\tremaining: 208ms\n",
      "649:\tlearn: 0.0229798\ttotal: 386ms\tremaining: 208ms\n",
      "650:\tlearn: 0.0228768\ttotal: 386ms\tremaining: 207ms\n",
      "651:\tlearn: 0.0227886\ttotal: 387ms\tremaining: 206ms\n",
      "652:\tlearn: 0.0226587\ttotal: 388ms\tremaining: 206ms\n",
      "653:\tlearn: 0.0225444\ttotal: 388ms\tremaining: 205ms\n",
      "654:\tlearn: 0.0224183\ttotal: 389ms\tremaining: 205ms\n",
      "655:\tlearn: 0.0223073\ttotal: 389ms\tremaining: 204ms\n",
      "656:\tlearn: 0.0221891\ttotal: 390ms\tremaining: 204ms\n",
      "657:\tlearn: 0.0220876\ttotal: 390ms\tremaining: 203ms\n",
      "658:\tlearn: 0.0220167\ttotal: 391ms\tremaining: 202ms\n",
      "659:\tlearn: 0.0219018\ttotal: 392ms\tremaining: 202ms\n",
      "660:\tlearn: 0.0218176\ttotal: 392ms\tremaining: 201ms\n",
      "661:\tlearn: 0.0217462\ttotal: 393ms\tremaining: 200ms\n",
      "662:\tlearn: 0.0216556\ttotal: 393ms\tremaining: 200ms\n",
      "663:\tlearn: 0.0215590\ttotal: 394ms\tremaining: 199ms\n",
      "664:\tlearn: 0.0214906\ttotal: 394ms\tremaining: 199ms\n",
      "665:\tlearn: 0.0213802\ttotal: 395ms\tremaining: 198ms\n",
      "666:\tlearn: 0.0212992\ttotal: 395ms\tremaining: 197ms\n",
      "667:\tlearn: 0.0212304\ttotal: 396ms\tremaining: 197ms\n",
      "668:\tlearn: 0.0211372\ttotal: 396ms\tremaining: 196ms\n",
      "669:\tlearn: 0.0209972\ttotal: 397ms\tremaining: 195ms\n",
      "670:\tlearn: 0.0209187\ttotal: 397ms\tremaining: 195ms\n",
      "671:\tlearn: 0.0208527\ttotal: 398ms\tremaining: 194ms\n",
      "672:\tlearn: 0.0207876\ttotal: 398ms\tremaining: 194ms\n",
      "673:\tlearn: 0.0207232\ttotal: 399ms\tremaining: 193ms\n",
      "674:\tlearn: 0.0206406\ttotal: 399ms\tremaining: 192ms\n",
      "675:\tlearn: 0.0205065\ttotal: 400ms\tremaining: 192ms\n",
      "676:\tlearn: 0.0204434\ttotal: 400ms\tremaining: 191ms\n",
      "677:\tlearn: 0.0203478\ttotal: 401ms\tremaining: 190ms\n",
      "678:\tlearn: 0.0202857\ttotal: 401ms\tremaining: 190ms\n",
      "679:\tlearn: 0.0201667\ttotal: 402ms\tremaining: 189ms\n",
      "680:\tlearn: 0.0200514\ttotal: 402ms\tremaining: 188ms\n",
      "681:\tlearn: 0.0199906\ttotal: 403ms\tremaining: 188ms\n",
      "682:\tlearn: 0.0198779\ttotal: 403ms\tremaining: 187ms\n",
      "683:\tlearn: 0.0197504\ttotal: 404ms\tremaining: 186ms\n",
      "684:\tlearn: 0.0196908\ttotal: 404ms\tremaining: 186ms\n",
      "685:\tlearn: 0.0196319\ttotal: 405ms\tremaining: 185ms\n",
      "686:\tlearn: 0.0195738\ttotal: 405ms\tremaining: 185ms\n",
      "687:\tlearn: 0.0194768\ttotal: 406ms\tremaining: 184ms\n",
      "688:\tlearn: 0.0193639\ttotal: 406ms\tremaining: 183ms\n",
      "689:\tlearn: 0.0192723\ttotal: 407ms\tremaining: 183ms\n",
      "690:\tlearn: 0.0192157\ttotal: 407ms\tremaining: 182ms\n",
      "691:\tlearn: 0.0191277\ttotal: 408ms\tremaining: 182ms\n",
      "692:\tlearn: 0.0190303\ttotal: 408ms\tremaining: 181ms\n",
      "693:\tlearn: 0.0189752\ttotal: 409ms\tremaining: 180ms\n",
      "694:\tlearn: 0.0189208\ttotal: 410ms\tremaining: 180ms\n",
      "695:\tlearn: 0.0188353\ttotal: 410ms\tremaining: 179ms\n",
      "696:\tlearn: 0.0187313\ttotal: 411ms\tremaining: 179ms\n",
      "697:\tlearn: 0.0186782\ttotal: 411ms\tremaining: 178ms\n",
      "698:\tlearn: 0.0185803\ttotal: 412ms\tremaining: 177ms\n",
      "699:\tlearn: 0.0185280\ttotal: 412ms\tremaining: 177ms\n",
      "700:\tlearn: 0.0184455\ttotal: 413ms\tremaining: 176ms\n",
      "701:\tlearn: 0.0183697\ttotal: 413ms\tremaining: 175ms\n",
      "702:\tlearn: 0.0182747\ttotal: 413ms\tremaining: 175ms\n",
      "703:\tlearn: 0.0182081\ttotal: 414ms\tremaining: 174ms\n",
      "704:\tlearn: 0.0181144\ttotal: 414ms\tremaining: 173ms\n",
      "705:\tlearn: 0.0180500\ttotal: 414ms\tremaining: 173ms\n",
      "706:\tlearn: 0.0179573\ttotal: 415ms\tremaining: 172ms\n",
      "707:\tlearn: 0.0178967\ttotal: 415ms\tremaining: 171ms\n",
      "708:\tlearn: 0.0178402\ttotal: 416ms\tremaining: 171ms\n",
      "709:\tlearn: 0.0177510\ttotal: 416ms\tremaining: 170ms\n",
      "710:\tlearn: 0.0176607\ttotal: 417ms\tremaining: 169ms\n",
      "711:\tlearn: 0.0176107\ttotal: 417ms\tremaining: 169ms\n",
      "712:\tlearn: 0.0175527\ttotal: 417ms\tremaining: 168ms\n",
      "713:\tlearn: 0.0174646\ttotal: 418ms\tremaining: 167ms\n",
      "714:\tlearn: 0.0173974\ttotal: 418ms\tremaining: 167ms\n",
      "715:\tlearn: 0.0173489\ttotal: 419ms\tremaining: 166ms\n",
      "716:\tlearn: 0.0173011\ttotal: 419ms\tremaining: 166ms\n",
      "717:\tlearn: 0.0172604\ttotal: 420ms\tremaining: 165ms\n",
      "718:\tlearn: 0.0171744\ttotal: 420ms\tremaining: 164ms\n",
      "719:\tlearn: 0.0170942\ttotal: 421ms\tremaining: 164ms\n",
      "720:\tlearn: 0.0170545\ttotal: 421ms\tremaining: 163ms\n",
      "721:\tlearn: 0.0169900\ttotal: 422ms\tremaining: 162ms\n",
      "722:\tlearn: 0.0169433\ttotal: 422ms\tremaining: 162ms\n",
      "723:\tlearn: 0.0168770\ttotal: 423ms\tremaining: 161ms\n",
      "724:\tlearn: 0.0167985\ttotal: 423ms\tremaining: 160ms\n",
      "725:\tlearn: 0.0167158\ttotal: 423ms\tremaining: 160ms\n",
      "726:\tlearn: 0.0166701\ttotal: 424ms\tremaining: 159ms\n",
      "727:\tlearn: 0.0166023\ttotal: 424ms\tremaining: 159ms\n",
      "728:\tlearn: 0.0165577\ttotal: 425ms\tremaining: 158ms\n",
      "729:\tlearn: 0.0165198\ttotal: 425ms\tremaining: 157ms\n",
      "730:\tlearn: 0.0164824\ttotal: 426ms\tremaining: 157ms\n",
      "731:\tlearn: 0.0164024\ttotal: 426ms\tremaining: 156ms\n",
      "732:\tlearn: 0.0163363\ttotal: 427ms\tremaining: 155ms\n",
      "733:\tlearn: 0.0162932\ttotal: 427ms\tremaining: 155ms\n",
      "734:\tlearn: 0.0162060\ttotal: 428ms\tremaining: 154ms\n",
      "735:\tlearn: 0.0161470\ttotal: 428ms\tremaining: 154ms\n",
      "736:\tlearn: 0.0160622\ttotal: 428ms\tremaining: 153ms\n",
      "737:\tlearn: 0.0159977\ttotal: 429ms\tremaining: 152ms\n",
      "738:\tlearn: 0.0159148\ttotal: 429ms\tremaining: 152ms\n",
      "739:\tlearn: 0.0158748\ttotal: 430ms\tremaining: 151ms\n",
      "740:\tlearn: 0.0158031\ttotal: 431ms\tremaining: 151ms\n",
      "741:\tlearn: 0.0157638\ttotal: 431ms\tremaining: 150ms\n",
      "742:\tlearn: 0.0157250\ttotal: 432ms\tremaining: 149ms\n",
      "743:\tlearn: 0.0156598\ttotal: 432ms\tremaining: 149ms\n",
      "744:\tlearn: 0.0155901\ttotal: 432ms\tremaining: 148ms\n",
      "745:\tlearn: 0.0155296\ttotal: 433ms\tremaining: 147ms\n",
      "746:\tlearn: 0.0154597\ttotal: 433ms\tremaining: 147ms\n",
      "747:\tlearn: 0.0153884\ttotal: 434ms\tremaining: 146ms\n",
      "748:\tlearn: 0.0153344\ttotal: 434ms\tremaining: 145ms\n",
      "749:\tlearn: 0.0152564\ttotal: 434ms\tremaining: 145ms\n",
      "750:\tlearn: 0.0151942\ttotal: 435ms\tremaining: 144ms\n",
      "751:\tlearn: 0.0151203\ttotal: 436ms\tremaining: 144ms\n",
      "752:\tlearn: 0.0150523\ttotal: 436ms\tremaining: 143ms\n",
      "753:\tlearn: 0.0149794\ttotal: 436ms\tremaining: 142ms\n",
      "754:\tlearn: 0.0149467\ttotal: 437ms\tremaining: 142ms\n",
      "755:\tlearn: 0.0148766\ttotal: 437ms\tremaining: 141ms\n",
      "756:\tlearn: 0.0147965\ttotal: 438ms\tremaining: 141ms\n",
      "757:\tlearn: 0.0147646\ttotal: 438ms\tremaining: 140ms\n",
      "758:\tlearn: 0.0147332\ttotal: 439ms\tremaining: 139ms\n",
      "759:\tlearn: 0.0146976\ttotal: 439ms\tremaining: 139ms\n",
      "760:\tlearn: 0.0146667\ttotal: 440ms\tremaining: 138ms\n",
      "761:\tlearn: 0.0146097\ttotal: 440ms\tremaining: 137ms\n",
      "762:\tlearn: 0.0145795\ttotal: 441ms\tremaining: 137ms\n",
      "763:\tlearn: 0.0145371\ttotal: 441ms\tremaining: 136ms\n",
      "764:\tlearn: 0.0144717\ttotal: 442ms\tremaining: 136ms\n",
      "765:\tlearn: 0.0144422\ttotal: 442ms\tremaining: 135ms\n",
      "766:\tlearn: 0.0144132\ttotal: 442ms\tremaining: 134ms\n",
      "767:\tlearn: 0.0143580\ttotal: 443ms\tremaining: 134ms\n",
      "768:\tlearn: 0.0143295\ttotal: 443ms\tremaining: 133ms\n",
      "769:\tlearn: 0.0142921\ttotal: 444ms\tremaining: 133ms\n",
      "770:\tlearn: 0.0142553\ttotal: 444ms\tremaining: 132ms\n",
      "771:\tlearn: 0.0142273\ttotal: 445ms\tremaining: 131ms\n",
      "772:\tlearn: 0.0141737\ttotal: 445ms\tremaining: 131ms\n",
      "773:\tlearn: 0.0141429\ttotal: 446ms\tremaining: 130ms\n",
      "774:\tlearn: 0.0141157\ttotal: 446ms\tremaining: 129ms\n",
      "775:\tlearn: 0.0140714\ttotal: 447ms\tremaining: 129ms\n",
      "776:\tlearn: 0.0140320\ttotal: 447ms\tremaining: 128ms\n",
      "777:\tlearn: 0.0139778\ttotal: 448ms\tremaining: 128ms\n",
      "778:\tlearn: 0.0139481\ttotal: 448ms\tremaining: 127ms\n",
      "779:\tlearn: 0.0139189\ttotal: 448ms\tremaining: 126ms\n",
      "780:\tlearn: 0.0138406\ttotal: 449ms\tremaining: 126ms\n",
      "781:\tlearn: 0.0137869\ttotal: 449ms\tremaining: 125ms\n",
      "782:\tlearn: 0.0137189\ttotal: 450ms\tremaining: 125ms\n",
      "783:\tlearn: 0.0136666\ttotal: 450ms\tremaining: 124ms\n",
      "784:\tlearn: 0.0135731\ttotal: 451ms\tremaining: 123ms\n",
      "785:\tlearn: 0.0135201\ttotal: 451ms\tremaining: 123ms\n",
      "786:\tlearn: 0.0134456\ttotal: 452ms\tremaining: 122ms\n",
      "787:\tlearn: 0.0133724\ttotal: 452ms\tremaining: 122ms\n",
      "788:\tlearn: 0.0133211\ttotal: 453ms\tremaining: 121ms\n",
      "789:\tlearn: 0.0132612\ttotal: 453ms\tremaining: 120ms\n",
      "790:\tlearn: 0.0131715\ttotal: 454ms\tremaining: 120ms\n",
      "791:\tlearn: 0.0131216\ttotal: 454ms\tremaining: 119ms\n",
      "792:\tlearn: 0.0130962\ttotal: 454ms\tremaining: 119ms\n",
      "793:\tlearn: 0.0130490\ttotal: 455ms\tremaining: 118ms\n",
      "794:\tlearn: 0.0130012\ttotal: 455ms\tremaining: 117ms\n",
      "795:\tlearn: 0.0129173\ttotal: 456ms\tremaining: 117ms\n",
      "796:\tlearn: 0.0128694\ttotal: 457ms\tremaining: 116ms\n",
      "797:\tlearn: 0.0128119\ttotal: 457ms\tremaining: 116ms\n",
      "798:\tlearn: 0.0127665\ttotal: 458ms\tremaining: 115ms\n",
      "799:\tlearn: 0.0127220\ttotal: 458ms\tremaining: 115ms\n",
      "800:\tlearn: 0.0126740\ttotal: 459ms\tremaining: 114ms\n",
      "801:\tlearn: 0.0126263\ttotal: 459ms\tremaining: 113ms\n",
      "802:\tlearn: 0.0125828\ttotal: 460ms\tremaining: 113ms\n",
      "803:\tlearn: 0.0125216\ttotal: 460ms\tremaining: 112ms\n",
      "804:\tlearn: 0.0124756\ttotal: 461ms\tremaining: 112ms\n",
      "805:\tlearn: 0.0124331\ttotal: 461ms\tremaining: 111ms\n",
      "806:\tlearn: 0.0123962\ttotal: 462ms\tremaining: 110ms\n",
      "807:\tlearn: 0.0123568\ttotal: 462ms\tremaining: 110ms\n",
      "808:\tlearn: 0.0123129\ttotal: 463ms\tremaining: 109ms\n",
      "809:\tlearn: 0.0122318\ttotal: 463ms\tremaining: 109ms\n",
      "810:\tlearn: 0.0121879\ttotal: 464ms\tremaining: 108ms\n",
      "811:\tlearn: 0.0121264\ttotal: 464ms\tremaining: 108ms\n",
      "812:\tlearn: 0.0120699\ttotal: 465ms\tremaining: 107ms\n",
      "813:\tlearn: 0.0119912\ttotal: 465ms\tremaining: 106ms\n",
      "814:\tlearn: 0.0119472\ttotal: 466ms\tremaining: 106ms\n",
      "815:\tlearn: 0.0119067\ttotal: 467ms\tremaining: 105ms\n",
      "816:\tlearn: 0.0118726\ttotal: 467ms\tremaining: 105ms\n",
      "817:\tlearn: 0.0118390\ttotal: 468ms\tremaining: 104ms\n",
      "818:\tlearn: 0.0117971\ttotal: 468ms\tremaining: 103ms\n",
      "819:\tlearn: 0.0117493\ttotal: 469ms\tremaining: 103ms\n",
      "820:\tlearn: 0.0117164\ttotal: 469ms\tremaining: 102ms\n",
      "821:\tlearn: 0.0116601\ttotal: 470ms\tremaining: 102ms\n",
      "822:\tlearn: 0.0116278\ttotal: 470ms\tremaining: 101ms\n",
      "823:\tlearn: 0.0116011\ttotal: 471ms\tremaining: 101ms\n",
      "824:\tlearn: 0.0115623\ttotal: 471ms\tremaining: 99.9ms\n",
      "825:\tlearn: 0.0115054\ttotal: 472ms\tremaining: 99.4ms\n",
      "826:\tlearn: 0.0114659\ttotal: 472ms\tremaining: 98.8ms\n",
      "827:\tlearn: 0.0114345\ttotal: 473ms\tremaining: 98.2ms\n",
      "828:\tlearn: 0.0113948\ttotal: 473ms\tremaining: 97.6ms\n",
      "829:\tlearn: 0.0113410\ttotal: 474ms\tremaining: 97ms\n",
      "830:\tlearn: 0.0113071\ttotal: 474ms\tremaining: 96.4ms\n",
      "831:\tlearn: 0.0112578\ttotal: 475ms\tremaining: 95.9ms\n",
      "832:\tlearn: 0.0111999\ttotal: 475ms\tremaining: 95.3ms\n"
     ]
    },
    {
     "name": "stdout",
     "output_type": "stream",
     "text": [
      "833:\tlearn: 0.0111728\ttotal: 476ms\tremaining: 94.7ms\n",
      "834:\tlearn: 0.0111210\ttotal: 476ms\tremaining: 94.2ms\n",
      "835:\tlearn: 0.0110735\ttotal: 477ms\tremaining: 93.5ms\n",
      "836:\tlearn: 0.0110162\ttotal: 477ms\tremaining: 92.9ms\n",
      "837:\tlearn: 0.0109651\ttotal: 478ms\tremaining: 92.3ms\n",
      "838:\tlearn: 0.0109390\ttotal: 478ms\tremaining: 91.7ms\n",
      "839:\tlearn: 0.0108928\ttotal: 479ms\tremaining: 91.2ms\n",
      "840:\tlearn: 0.0108410\ttotal: 479ms\tremaining: 90.6ms\n",
      "841:\tlearn: 0.0108197\ttotal: 480ms\tremaining: 90ms\n",
      "842:\tlearn: 0.0107702\ttotal: 480ms\tremaining: 89.4ms\n",
      "843:\tlearn: 0.0107257\ttotal: 481ms\tremaining: 88.8ms\n",
      "844:\tlearn: 0.0106774\ttotal: 481ms\tremaining: 88.2ms\n",
      "845:\tlearn: 0.0106565\ttotal: 481ms\tremaining: 87.6ms\n",
      "846:\tlearn: 0.0106043\ttotal: 482ms\tremaining: 87ms\n",
      "847:\tlearn: 0.0105661\ttotal: 482ms\tremaining: 86.5ms\n",
      "848:\tlearn: 0.0105414\ttotal: 483ms\tremaining: 85.9ms\n",
      "849:\tlearn: 0.0104985\ttotal: 483ms\tremaining: 85.3ms\n",
      "850:\tlearn: 0.0104611\ttotal: 484ms\tremaining: 84.7ms\n",
      "851:\tlearn: 0.0104087\ttotal: 484ms\tremaining: 84.2ms\n",
      "852:\tlearn: 0.0103668\ttotal: 485ms\tremaining: 83.6ms\n",
      "853:\tlearn: 0.0103158\ttotal: 486ms\tremaining: 83ms\n",
      "854:\tlearn: 0.0102805\ttotal: 486ms\tremaining: 82.4ms\n",
      "855:\tlearn: 0.0102445\ttotal: 487ms\tremaining: 81.9ms\n",
      "856:\tlearn: 0.0102010\ttotal: 487ms\tremaining: 81.3ms\n",
      "857:\tlearn: 0.0101736\ttotal: 488ms\tremaining: 80.7ms\n",
      "858:\tlearn: 0.0101325\ttotal: 488ms\tremaining: 80.1ms\n",
      "859:\tlearn: 0.0100811\ttotal: 489ms\tremaining: 79.5ms\n",
      "860:\tlearn: 0.0100578\ttotal: 489ms\tremaining: 79ms\n",
      "861:\tlearn: 0.0100120\ttotal: 490ms\tremaining: 78.4ms\n",
      "862:\tlearn: 0.0099723\ttotal: 490ms\tremaining: 77.8ms\n",
      "863:\tlearn: 0.0099235\ttotal: 491ms\tremaining: 77.2ms\n",
      "864:\tlearn: 0.0098975\ttotal: 491ms\tremaining: 76.7ms\n",
      "865:\tlearn: 0.0098497\ttotal: 492ms\tremaining: 76.1ms\n",
      "866:\tlearn: 0.0098243\ttotal: 492ms\tremaining: 75.5ms\n",
      "867:\tlearn: 0.0097993\ttotal: 493ms\tremaining: 75ms\n",
      "868:\tlearn: 0.0097730\ttotal: 494ms\tremaining: 74.4ms\n",
      "869:\tlearn: 0.0097326\ttotal: 494ms\tremaining: 73.8ms\n",
      "870:\tlearn: 0.0096945\ttotal: 494ms\tremaining: 73.2ms\n",
      "871:\tlearn: 0.0096636\ttotal: 495ms\tremaining: 72.7ms\n",
      "872:\tlearn: 0.0096157\ttotal: 496ms\tremaining: 72.1ms\n",
      "873:\tlearn: 0.0095846\ttotal: 496ms\tremaining: 71.5ms\n",
      "874:\tlearn: 0.0095607\ttotal: 497ms\tremaining: 70.9ms\n",
      "875:\tlearn: 0.0095347\ttotal: 497ms\tremaining: 70.4ms\n",
      "876:\tlearn: 0.0095114\ttotal: 498ms\tremaining: 69.8ms\n",
      "877:\tlearn: 0.0094837\ttotal: 498ms\tremaining: 69.2ms\n",
      "878:\tlearn: 0.0094470\ttotal: 499ms\tremaining: 68.6ms\n",
      "879:\tlearn: 0.0094084\ttotal: 499ms\tremaining: 68.1ms\n",
      "880:\tlearn: 0.0093613\ttotal: 500ms\tremaining: 67.5ms\n",
      "881:\tlearn: 0.0093385\ttotal: 500ms\tremaining: 66.9ms\n",
      "882:\tlearn: 0.0093160\ttotal: 501ms\tremaining: 66.4ms\n",
      "883:\tlearn: 0.0092788\ttotal: 501ms\tremaining: 65.8ms\n",
      "884:\tlearn: 0.0092140\ttotal: 502ms\tremaining: 65.2ms\n",
      "885:\tlearn: 0.0091788\ttotal: 502ms\tremaining: 64.6ms\n",
      "886:\tlearn: 0.0091226\ttotal: 503ms\tremaining: 64ms\n",
      "887:\tlearn: 0.0090964\ttotal: 503ms\tremaining: 63.5ms\n",
      "888:\tlearn: 0.0090623\ttotal: 504ms\tremaining: 62.9ms\n",
      "889:\tlearn: 0.0090172\ttotal: 504ms\tremaining: 62.3ms\n",
      "890:\tlearn: 0.0089727\ttotal: 505ms\tremaining: 61.7ms\n",
      "891:\tlearn: 0.0089440\ttotal: 505ms\tremaining: 61.2ms\n",
      "892:\tlearn: 0.0089183\ttotal: 506ms\tremaining: 60.6ms\n",
      "893:\tlearn: 0.0088726\ttotal: 506ms\tremaining: 60ms\n",
      "894:\tlearn: 0.0088360\ttotal: 507ms\tremaining: 59.4ms\n",
      "895:\tlearn: 0.0088136\ttotal: 507ms\tremaining: 58.9ms\n",
      "896:\tlearn: 0.0087777\ttotal: 508ms\tremaining: 58.3ms\n",
      "897:\tlearn: 0.0087370\ttotal: 508ms\tremaining: 57.7ms\n",
      "898:\tlearn: 0.0087055\ttotal: 509ms\tremaining: 57.2ms\n",
      "899:\tlearn: 0.0086634\ttotal: 509ms\tremaining: 56.6ms\n",
      "900:\tlearn: 0.0086429\ttotal: 510ms\tremaining: 56ms\n",
      "901:\tlearn: 0.0086123\ttotal: 510ms\tremaining: 55.4ms\n",
      "902:\tlearn: 0.0085712\ttotal: 511ms\tremaining: 54.8ms\n",
      "903:\tlearn: 0.0085316\ttotal: 511ms\tremaining: 54.3ms\n",
      "904:\tlearn: 0.0085117\ttotal: 511ms\tremaining: 53.7ms\n",
      "905:\tlearn: 0.0084818\ttotal: 512ms\tremaining: 53.1ms\n",
      "906:\tlearn: 0.0084525\ttotal: 512ms\tremaining: 52.5ms\n",
      "907:\tlearn: 0.0084180\ttotal: 513ms\tremaining: 52ms\n",
      "908:\tlearn: 0.0083804\ttotal: 513ms\tremaining: 51.4ms\n",
      "909:\tlearn: 0.0083405\ttotal: 514ms\tremaining: 50.8ms\n",
      "910:\tlearn: 0.0083153\ttotal: 514ms\tremaining: 50.2ms\n",
      "911:\tlearn: 0.0082779\ttotal: 515ms\tremaining: 49.7ms\n",
      "912:\tlearn: 0.0082546\ttotal: 515ms\tremaining: 49.1ms\n",
      "913:\tlearn: 0.0082279\ttotal: 516ms\tremaining: 48.5ms\n",
      "914:\tlearn: 0.0082001\ttotal: 516ms\tremaining: 48ms\n",
      "915:\tlearn: 0.0081671\ttotal: 517ms\tremaining: 47.4ms\n",
      "916:\tlearn: 0.0081403\ttotal: 517ms\tremaining: 46.8ms\n",
      "917:\tlearn: 0.0081160\ttotal: 518ms\tremaining: 46.2ms\n",
      "918:\tlearn: 0.0080897\ttotal: 518ms\tremaining: 45.7ms\n",
      "919:\tlearn: 0.0080683\ttotal: 519ms\tremaining: 45.1ms\n",
      "920:\tlearn: 0.0080369\ttotal: 519ms\tremaining: 44.5ms\n",
      "921:\tlearn: 0.0080143\ttotal: 520ms\tremaining: 44ms\n",
      "922:\tlearn: 0.0079885\ttotal: 520ms\tremaining: 43.4ms\n",
      "923:\tlearn: 0.0079474\ttotal: 521ms\tremaining: 42.8ms\n",
      "924:\tlearn: 0.0079222\ttotal: 521ms\tremaining: 42.2ms\n",
      "925:\tlearn: 0.0078818\ttotal: 521ms\tremaining: 41.7ms\n",
      "926:\tlearn: 0.0078418\ttotal: 522ms\tremaining: 41.1ms\n",
      "927:\tlearn: 0.0078170\ttotal: 522ms\tremaining: 40.5ms\n",
      "928:\tlearn: 0.0077779\ttotal: 523ms\tremaining: 40ms\n",
      "929:\tlearn: 0.0077577\ttotal: 523ms\tremaining: 39.4ms\n",
      "930:\tlearn: 0.0077373\ttotal: 524ms\tremaining: 38.8ms\n",
      "931:\tlearn: 0.0076987\ttotal: 524ms\tremaining: 38.3ms\n",
      "932:\tlearn: 0.0076788\ttotal: 525ms\tremaining: 37.7ms\n",
      "933:\tlearn: 0.0076635\ttotal: 525ms\tremaining: 37.1ms\n",
      "934:\tlearn: 0.0076436\ttotal: 526ms\tremaining: 36.5ms\n",
      "935:\tlearn: 0.0076060\ttotal: 526ms\tremaining: 36ms\n",
      "936:\tlearn: 0.0075725\ttotal: 527ms\tremaining: 35.4ms\n",
      "937:\tlearn: 0.0075357\ttotal: 527ms\tremaining: 34.8ms\n",
      "938:\tlearn: 0.0074995\ttotal: 528ms\tremaining: 34.3ms\n",
      "939:\tlearn: 0.0074798\ttotal: 528ms\tremaining: 33.7ms\n",
      "940:\tlearn: 0.0074439\ttotal: 529ms\tremaining: 33.1ms\n",
      "941:\tlearn: 0.0074245\ttotal: 529ms\tremaining: 32.6ms\n",
      "942:\tlearn: 0.0074053\ttotal: 530ms\tremaining: 32ms\n",
      "943:\tlearn: 0.0073800\ttotal: 530ms\tremaining: 31.5ms\n",
      "944:\tlearn: 0.0073610\ttotal: 531ms\tremaining: 30.9ms\n",
      "945:\tlearn: 0.0073275\ttotal: 531ms\tremaining: 30.3ms\n",
      "946:\tlearn: 0.0073043\ttotal: 532ms\tremaining: 29.7ms\n",
      "947:\tlearn: 0.0072698\ttotal: 532ms\tremaining: 29.2ms\n",
      "948:\tlearn: 0.0072373\ttotal: 533ms\tremaining: 28.6ms\n",
      "949:\tlearn: 0.0072146\ttotal: 533ms\tremaining: 28.1ms\n",
      "950:\tlearn: 0.0071811\ttotal: 534ms\tremaining: 27.5ms\n",
      "951:\tlearn: 0.0071630\ttotal: 534ms\tremaining: 26.9ms\n",
      "952:\tlearn: 0.0071316\ttotal: 535ms\tremaining: 26.4ms\n",
      "953:\tlearn: 0.0071089\ttotal: 535ms\tremaining: 25.8ms\n",
      "954:\tlearn: 0.0070723\ttotal: 536ms\tremaining: 25.2ms\n",
      "955:\tlearn: 0.0070319\ttotal: 536ms\tremaining: 24.7ms\n",
      "956:\tlearn: 0.0070098\ttotal: 537ms\tremaining: 24.1ms\n",
      "957:\tlearn: 0.0069836\ttotal: 537ms\tremaining: 23.5ms\n",
      "958:\tlearn: 0.0069515\ttotal: 538ms\tremaining: 23ms\n",
      "959:\tlearn: 0.0069215\ttotal: 538ms\tremaining: 22.4ms\n",
      "960:\tlearn: 0.0069042\ttotal: 539ms\tremaining: 21.9ms\n",
      "961:\tlearn: 0.0068827\ttotal: 539ms\tremaining: 21.3ms\n",
      "962:\tlearn: 0.0068476\ttotal: 540ms\tremaining: 20.7ms\n",
      "963:\tlearn: 0.0068091\ttotal: 540ms\tremaining: 20.2ms\n",
      "964:\tlearn: 0.0067946\ttotal: 541ms\tremaining: 19.6ms\n",
      "965:\tlearn: 0.0067777\ttotal: 541ms\tremaining: 19ms\n",
      "966:\tlearn: 0.0067472\ttotal: 542ms\tremaining: 18.5ms\n",
      "967:\tlearn: 0.0067273\ttotal: 542ms\tremaining: 17.9ms\n",
      "968:\tlearn: 0.0066927\ttotal: 543ms\tremaining: 17.4ms\n",
      "969:\tlearn: 0.0066689\ttotal: 543ms\tremaining: 16.8ms\n",
      "970:\tlearn: 0.0066525\ttotal: 544ms\tremaining: 16.2ms\n",
      "971:\tlearn: 0.0066154\ttotal: 544ms\tremaining: 15.7ms\n",
      "972:\tlearn: 0.0065980\ttotal: 545ms\tremaining: 15.1ms\n",
      "973:\tlearn: 0.0065820\ttotal: 546ms\tremaining: 14.6ms\n",
      "974:\tlearn: 0.0065526\ttotal: 546ms\tremaining: 14ms\n",
      "975:\tlearn: 0.0065355\ttotal: 547ms\tremaining: 13.4ms\n",
      "976:\tlearn: 0.0065168\ttotal: 547ms\tremaining: 12.9ms\n",
      "977:\tlearn: 0.0064985\ttotal: 548ms\tremaining: 12.3ms\n",
      "978:\tlearn: 0.0064660\ttotal: 548ms\tremaining: 11.8ms\n",
      "979:\tlearn: 0.0064438\ttotal: 549ms\tremaining: 11.2ms\n",
      "980:\tlearn: 0.0064285\ttotal: 549ms\tremaining: 10.6ms\n",
      "981:\tlearn: 0.0064135\ttotal: 550ms\tremaining: 10.1ms\n",
      "982:\tlearn: 0.0063915\ttotal: 550ms\tremaining: 9.52ms\n",
      "983:\tlearn: 0.0063547\ttotal: 551ms\tremaining: 8.96ms\n",
      "984:\tlearn: 0.0063340\ttotal: 551ms\tremaining: 8.39ms\n",
      "985:\tlearn: 0.0062981\ttotal: 552ms\tremaining: 7.83ms\n",
      "986:\tlearn: 0.0062708\ttotal: 552ms\tremaining: 7.27ms\n",
      "987:\tlearn: 0.0062544\ttotal: 553ms\tremaining: 6.71ms\n",
      "988:\tlearn: 0.0062281\ttotal: 553ms\tremaining: 6.15ms\n",
      "989:\tlearn: 0.0062139\ttotal: 554ms\tremaining: 5.59ms\n"
     ]
    },
    {
     "name": "stdout",
     "output_type": "stream",
     "text": [
      "990:\tlearn: 0.0061811\ttotal: 554ms\tremaining: 5.03ms\n",
      "991:\tlearn: 0.0061613\ttotal: 555ms\tremaining: 4.47ms\n",
      "992:\tlearn: 0.0061456\ttotal: 555ms\tremaining: 3.91ms\n",
      "993:\tlearn: 0.0061112\ttotal: 556ms\tremaining: 3.35ms\n",
      "994:\tlearn: 0.0060794\ttotal: 556ms\tremaining: 2.79ms\n",
      "995:\tlearn: 0.0060517\ttotal: 557ms\tremaining: 2.23ms\n",
      "996:\tlearn: 0.0060326\ttotal: 557ms\tremaining: 1.68ms\n",
      "997:\tlearn: 0.0060106\ttotal: 557ms\tremaining: 1.12ms\n",
      "998:\tlearn: 0.0059970\ttotal: 558ms\tremaining: 558us\n",
      "999:\tlearn: 0.0059702\ttotal: 558ms\tremaining: 0us\n"
     ]
    },
    {
     "data": {
      "text/plain": [
       "<catboost.core.CatBoostRegressor at 0x7ff6ab7c0f40>"
      ]
     },
     "execution_count": 9,
     "metadata": {},
     "output_type": "execute_result"
    }
   ],
   "source": [
    "#Train the Model \n",
    "prior_model = ctb.CatBoostRegressor()\n",
    "prior_model.fit(X_train,Y_train)"
   ]
  },
  {
   "cell_type": "code",
   "execution_count": 10,
   "id": "af65dcda",
   "metadata": {
    "execution": {
     "iopub.execute_input": "2022-02-13T14:45:26.573275Z",
     "iopub.status.busy": "2022-02-13T14:45:26.572884Z",
     "iopub.status.idle": "2022-02-13T14:45:26.580291Z",
     "shell.execute_reply": "2022-02-13T14:45:26.580529Z"
    },
    "id": "af65dcda",
    "papermill": {
     "duration": 0.019985,
     "end_time": "2022-02-13T14:45:26.580642",
     "exception": false,
     "start_time": "2022-02-13T14:45:26.560657",
     "status": "completed"
    },
    "tags": []
   },
   "outputs": [
    {
     "data": {
      "application/scrapbook.scrap.json+json": {
       "data": 0.10660217499942157,
       "encoder": "json",
       "name": "Prior Model MSE",
       "version": 1
      }
     },
     "metadata": {
      "scrapbook": {
       "data": true,
       "display": false,
       "name": "Prior Model MSE"
      }
     },
     "output_type": "display_data"
    },
    {
     "data": {
      "application/scrapbook.scrap.json+json": {
       "data": 0.109676762169936,
       "encoder": "json",
       "name": "ABC Pre-generator MSE",
       "version": 1
      }
     },
     "metadata": {
      "scrapbook": {
       "data": true,
       "display": false,
       "name": "ABC Pre-generator MSE"
      }
     },
     "output_type": "display_data"
    },
    {
     "data": {
      "application/scrapbook.scrap.json+json": {
       "data": 0.2562315775421348,
       "encoder": "json",
       "name": "Prior Model MSE",
       "version": 1
      }
     },
     "metadata": {
      "scrapbook": {
       "data": true,
       "display": false,
       "name": "Prior Model MSE"
      }
     },
     "output_type": "display_data"
    },
    {
     "data": {
      "application/scrapbook.scrap.json+json": {
       "data": 0.2584445555346043,
       "encoder": "json",
       "name": "ABC Pre-generator MSE",
       "version": 1
      }
     },
     "metadata": {
      "scrapbook": {
       "data": true,
       "display": false,
       "name": "ABC Pre-generator MSE"
      }
     },
     "output_type": "display_data"
    }
   ],
   "source": [
    "y_pred = prior_model.predict(X_test)\n",
    "y_abc = y_pred + np.random.normal(0,variance, y_pred.shape)\n",
    "mse = mean_squared_error(y_pred,Y_test)\n",
    "sb.glue(\"Prior Model MSE\",mse)\n",
    "mse = mean_squared_error(y_abc,Y_test)\n",
    "sb.glue(\"ABC Pre-generator MSE\",mse)\n",
    "\n",
    "mae = mean_absolute_error(y_pred,Y_test)\n",
    "sb.glue(\"Prior Model MSE\",mae)\n",
    "mae = mean_absolute_error(y_abc,Y_test)\n",
    "sb.glue(\"ABC Pre-generator MSE\",mae)"
   ]
  },
  {
   "cell_type": "markdown",
   "id": "25609da2",
   "metadata": {
    "papermill": {
     "duration": 0.009471,
     "end_time": "2022-02-13T14:45:26.599838",
     "exception": false,
     "start_time": "2022-02-13T14:45:26.590367",
     "status": "completed"
    },
    "tags": []
   },
   "source": [
    "# ABC GAN Model"
   ]
  },
  {
   "cell_type": "code",
   "execution_count": 11,
   "id": "dfc3464d",
   "metadata": {
    "execution": {
     "iopub.execute_input": "2022-02-13T14:45:26.621710Z",
     "iopub.status.busy": "2022-02-13T14:45:26.621343Z",
     "iopub.status.idle": "2022-02-13T14:45:26.623922Z",
     "shell.execute_reply": "2022-02-13T14:45:26.624164Z"
    },
    "papermill": {
     "duration": 0.014934,
     "end_time": "2022-02-13T14:45:26.624270",
     "exception": false,
     "start_time": "2022-02-13T14:45:26.609336",
     "status": "completed"
    },
    "tags": []
   },
   "outputs": [],
   "source": [
    "gen = network.Generator(n_features+1).to(device)\n",
    "disc = network.Discriminator(n_features+1).to(device)\n",
    "\n",
    "criterion = torch.nn.BCELoss()\n",
    "gen_opt = torch.optim.Adam(gen.parameters(), lr=0.001, betas=(0.5, 0.999))\n",
    "disc_opt = torch.optim.Adam(disc.parameters(), lr=0.001, betas=(0.5, 0.999))"
   ]
  },
  {
   "cell_type": "code",
   "execution_count": 12,
   "id": "b75fdd85",
   "metadata": {
    "execution": {
     "iopub.execute_input": "2022-02-13T14:45:26.645761Z",
     "iopub.status.busy": "2022-02-13T14:45:26.645397Z",
     "iopub.status.idle": "2022-02-13T14:45:40.210214Z",
     "shell.execute_reply": "2022-02-13T14:45:40.210456Z"
    },
    "papermill": {
     "duration": 13.576571,
     "end_time": "2022-02-13T14:45:40.210576",
     "exception": false,
     "start_time": "2022-02-13T14:45:26.634005",
     "status": "completed"
    },
    "tags": []
   },
   "outputs": [
    {
     "data": {
      "image/png": "[encoded data removed]",
      "text/plain": [
       "<Figure size 432x288 with 1 Axes>"
      ]
     },
     "metadata": {
      "needs_background": "light"
     },
     "output_type": "display_data"
    },
    {
     "data": {
      "image/png": "[encoded data removed]",
      "text/plain": [
       "<Figure size 432x288 with 1 Axes>"
      ]
     },
     "metadata": {
      "needs_background": "light"
     },
     "output_type": "display_data"
    }
   ],
   "source": [
    "#Training the ABC_GAN \n",
    "ABC_train_test2.training_GAN(disc,gen,disc_opt,gen_opt,train_data,batch_size,n_epochs,criterion,prior_model,variance,device)"
   ]
  },
  {
   "cell_type": "code",
   "execution_count": 13,
   "id": "1fa7c368",
   "metadata": {
    "execution": {
     "iopub.execute_input": "2022-02-13T14:45:40.234141Z",
     "iopub.status.busy": "2022-02-13T14:45:40.233751Z",
     "iopub.status.idle": "2022-02-13T14:45:40.404986Z",
     "shell.execute_reply": "2022-02-13T14:45:40.405282Z"
    },
    "papermill": {
     "duration": 0.184161,
     "end_time": "2022-02-13T14:45:40.405406",
     "exception": false,
     "start_time": "2022-02-13T14:45:40.221245",
     "status": "completed"
    },
    "tags": []
   },
   "outputs": [
    {
     "data": {
      "application/scrapbook.scrap.json+json": {
       "data": 0.07708285482265442,
       "encoder": "json",
       "name": "ABC-GAN Model 1 MSE",
       "version": 1
      }
     },
     "metadata": {
      "scrapbook": {
       "data": true,
       "display": false,
       "name": "ABC-GAN Model 1 MSE"
      }
     },
     "output_type": "display_data"
    },
    {
     "data": {
      "application/scrapbook.scrap.json+json": {
       "data": 0.21212802786007523,
       "encoder": "json",
       "name": "ABC-GAN Model 1 MAE",
       "version": 1
      }
     },
     "metadata": {
      "scrapbook": {
       "data": true,
       "display": false,
       "name": "ABC-GAN Model 1 MAE"
      }
     },
     "output_type": "display_data"
    },
    {
     "data": {
      "application/scrapbook.scrap.json+json": {
       "data": 4.242560557201505,
       "encoder": "json",
       "name": "ABC-GAN Model 1 Manhattan Distance",
       "version": 1
      }
     },
     "metadata": {
      "scrapbook": {
       "data": true,
       "display": false,
       "name": "ABC-GAN Model 1 Manhattan Distance"
      }
     },
     "output_type": "display_data"
    },
    {
     "data": {
      "application/scrapbook.scrap.json+json": {
       "data": 1.241606692529297,
       "encoder": "json",
       "name": "ABC-GAN Model 1 Euclidean distance",
       "version": 1
      }
     },
     "metadata": {
      "scrapbook": {
       "data": true,
       "display": false,
       "name": "ABC-GAN Model 1 Euclidean distance"
      }
     },
     "output_type": "display_data"
    },
    {
     "data": {
      "application/scrapbook.scrap.json+json": {
       "data": [
        [
         0.07507603483806699,
         0.07562134205871263,
         0.07791840804657689,
         0.07614379859346818,
         0.07690145644907652,
         0.07859668466585454,
         0.07688871712678233,
         0.07724127628156575,
         0.07803584757616354,
         0.07686052611355486,
         0.07720882736932469,
         0.07810882802458118,
         0.07520963917201047,
         0.07462254167702131,
         0.07841925775130083,
         0.07595712265258346,
         0.07697737946789038,
         0.07776841748752901,
         0.07587062270218504,
         0.07829094704698739,
         0.07694935555762562,
         0.07818767003701929,
         0.07800620256762814,
         0.07654414461336814,
         0.07818871721204682,
         0.07760102974912157,
         0.07678700395322366,
         0.07683456183412778,
         0.07812869156452444,
         0.07846625693288622,
         0.07711902381474771,
         0.07658157205423644,
         0.07662003867120355,
         0.07515681735827576,
         0.07734123568535829,
         0.07706303083356403,
         0.07613729336394927,
         0.07736574054711318,
         0.07631235022785242,
         0.07801168836973879,
         0.07700191487647581,
         0.07567417299278525,
         0.0781343001809336,
         0.07842540407586314,
         0.07800245613654634,
         0.07526839274952046,
         0.07746075880608264,
         0.07657053460436099,
         0.07816513626586545,
         0.07667570252942413,
         0.07668354904085425,
         0.07713087966920809,
         0.07715468996376329,
         0.07611780717934695,
         0.07891586542680909,
         0.07554140195553263,
         0.07684336571781145,
         0.07775702348992623,
         0.078382079992702,
         0.07671297573487337,
         0.07801656344680445,
         0.07791630441093832,
         0.0775512075504197,
         0.07599535109627527,
         0.0776144395237659,
         0.0764154254446149,
         0.07899232515416985,
         0.07859066040114347,
         0.07788878400179178,
         0.07686073029694937,
         0.07670088683009466,
         0.0774239550732668,
         0.07694976725778772,
         0.07571866143435821,
         0.07637448798714291,
         0.0762090481762396,
         0.07648191912717227,
         0.0772419389721262,
         0.07688626327012563,
         0.07574026844338091,
         0.07824932445950653,
         0.07847247016586877,
         0.07710080365251115,
         0.0766867006400702,
         0.07753573476448683,
         0.07569932083186871,
         0.07594973332358998,
         0.0771355228585299,
         0.07629377697158085,
         0.07638715036949895,
         0.07929048532320107,
         0.07625961799843506,
         0.07773747429810071,
         0.07550222992541714,
         0.07811227053020545,
         0.07574910885182559,
         0.07706563247355509,
         0.07761245803676438,
         0.08013700181388074,
         0.07600116564044465
        ],
        [
         0.2071805939078331,
         0.2096882913261652,
         0.2132278222590685,
         0.21025956124067308,
         0.21149281039834023,
         0.21484519429504872,
         0.21225936189293862,
         0.21277720369398595,
         0.21159108132123947,
         0.21209884099662304,
         0.21050294898450375,
         0.21317739151418208,
         0.20917731635272502,
         0.21055966578423976,
         0.213728691264987,
         0.21070646829903125,
         0.21208727918565273,
         0.2134518925100565,
         0.20953053571283817,
         0.21364343874156475,
         0.2144100319594145,
         0.21449900306761266,
         0.21332800351083278,
         0.21091876961290837,
         0.2136575199663639,
         0.21360049657523633,
         0.21291058473289012,
         0.2143086388707161,
         0.212720712646842,
         0.2128885742276907,
         0.21293742768466473,
         0.21187836043536662,
         0.21262108124792575,
         0.20849510766565799,
         0.21287442706525325,
         0.21043930277228357,
         0.20869247205555438,
         0.21152844727039338,
         0.21099046878516675,
         0.21539614014327527,
         0.21114227436482907,
         0.21231770440936087,
         0.21226329170167446,
         0.21378915719687938,
         0.21170280650258064,
         0.20906166397035122,
         0.2118339292705059,
         0.2130587574094534,
         0.21515512727200986,
         0.21117210425436497,
         0.21188382767140865,
         0.2133764524012804,
         0.2119254417717457,
         0.21072046756744384,
         0.21291974522173404,
         0.21105512417852879,
         0.21210925839841366,
         0.21369323544204236,
         0.2139517419040203,
         0.21127721928060056,
         0.21456453613936902,
         0.21244417689740658,
         0.21117714531719683,
         0.20990850888192653,
         0.21349405460059642,
         0.20891880095005036,
         0.2161943081766367,
         0.21509468145668506,
         0.21303686462342739,
         0.21126219518482686,
         0.21189621686935425,
         0.21453947462141515,
         0.20998693816363811,
         0.21119561977684498,
         0.20961520113050938,
         0.2116894733160734,
         0.21059120111167431,
         0.2103735487908125,
         0.2115128319710493,
         0.20942000411450862,
         0.21309097856283188,
         0.21554766334593295,
         0.21122790165245534,
         0.2133420530706644,
         0.21377499215304852,
         0.2102004550397396,
         0.21077052280306816,
         0.2145580891519785,
         0.21160423755645752,
         0.21214391253888606,
         0.215191463008523,
         0.21240059807896614,
         0.21415359452366828,
         0.20838815793395044,
         0.21155316792428494,
         0.208296474814415,
         0.21202631182968618,
         0.21306187622249126,
         0.217615220323205,
         0.21144804321229457
        ],
        [
         4.143611878156662,
         4.193765826523304,
         4.26455644518137,
         4.205191224813461,
         4.2298562079668045,
         4.296903885900974,
         4.245187237858772,
         4.255544073879719,
         4.231821626424789,
         4.241976819932461,
         4.210058979690075,
         4.263547830283642,
         4.183546327054501,
         4.211193315684795,
         4.27457382529974,
         4.214129365980625,
         4.241745583713055,
         4.26903785020113,
         4.1906107142567635,
         4.272868774831295,
         4.28820063918829,
         4.289980061352253,
         4.266560070216656,
         4.218375392258167,
         4.273150399327278,
         4.272009931504726,
         4.258211694657803,
         4.286172777414322,
         4.25441425293684,
         4.257771484553814,
         4.2587485536932945,
         4.237567208707333,
         4.252421624958515,
         4.16990215331316,
         4.257488541305065,
         4.208786055445671,
         4.173849441111088,
         4.230568945407867,
         4.219809375703335,
         4.307922802865505,
         4.222845487296581,
         4.246354088187218,
         4.245265834033489,
         4.275783143937588,
         4.234056130051613,
         4.181233279407024,
         4.236678585410118,
         4.261175148189068,
         4.303102545440197,
         4.223442085087299,
         4.237676553428173,
         4.267529048025608,
         4.238508835434914,
         4.214409351348877,
         4.258394904434681,
         4.221102483570576,
         4.242185167968273,
         4.273864708840847,
         4.279034838080406,
         4.225544385612011,
         4.29129072278738,
         4.248883537948132,
         4.223542906343937,
         4.198170177638531,
         4.269881092011929,
         4.178376019001007,
         4.323886163532734,
         4.301893629133701,
         4.260737292468548,
         4.225243903696537,
         4.237924337387085,
         4.290789492428303,
         4.199738763272762,
         4.2239123955369,
         4.1923040226101875,
         4.233789466321468,
         4.211824022233486,
         4.20747097581625,
         4.230256639420986,
         4.188400082290173,
         4.261819571256638,
         4.310953266918659,
         4.224558033049107,
         4.266841061413288,
         4.27549984306097,
         4.204009100794792,
         4.215410456061363,
         4.29116178303957,
         4.23208475112915,
         4.242878250777721,
         4.30382926017046,
         4.248011961579323,
         4.283071890473366,
         4.1677631586790085,
         4.231063358485699,
         4.1659294962883,
         4.240526236593723,
         4.261237524449825,
         4.3523044064641,
         4.228960864245892
        ],
        [
         1.225365535977465,
         1.2298076439729315,
         1.2483461703115597,
         1.2340486100107093,
         1.2401730238081823,
         1.2537677988037061,
         1.2400702974169031,
         1.2429101036001418,
         1.2492865770203692,
         1.2398429425822841,
         1.242649004098299,
         1.249870617500717,
         1.2264553736032182,
         1.2216590496289979,
         1.2523518495319184,
         1.2325349703159214,
         1.2407850697674467,
         1.2471440773826334,
         1.2318329651554634,
         1.2513268721400286,
         1.2405591929257194,
         1.2505012597916028,
         1.2490492589776285,
         1.2372885242607574,
         1.2505096338057282,
         1.2458011859772937,
         1.2392498049483298,
         1.239633509018918,
         1.250029532167336,
         1.2527270806754855,
         1.2419261154734424,
         1.237590982952255,
         1.2379017624286957,
         1.2260246111581592,
         1.2437140803686215,
         1.2414751776299358,
         1.2339958943525644,
         1.2439110944686778,
         1.2354136977373402,
         1.2490931780274743,
         1.240982795017528,
         1.2302371559401484,
         1.2500743992333705,
         1.2524009268270535,
         1.2490192643554088,
         1.2269343319796742,
         1.2446747270358038,
         1.2375017947814135,
         1.2503210488979657,
         1.2383513437584999,
         1.2384147046999585,
         1.2420215752490622,
         1.2422132664221814,
         1.2338379729879199,
         1.2563109919666315,
         1.2291574509031187,
         1.2397045270370795,
         1.2470527133199,
         1.2520549508124794,
         1.2386522977403576,
         1.2491322063481067,
         1.2483293188172608,
         1.2454012008218052,
         1.23284509242869,
         1.245908821092185,
         1.2362477538472205,
         1.25691944971959,
         1.253719748597297,
         1.2481088414220274,
         1.2398445894300574,
         1.2385546966532779,
         1.2443790023402581,
         1.2405625115872858,
         1.2305987277285655,
         1.2359165666592782,
         1.2345772408094975,
         1.2367855038540214,
         1.242915435354523,
         1.2400505092142466,
         1.2307742964766604,
         1.2509942003023558,
         1.2527766773521032,
         1.241779397900538,
         1.2384401530963876,
         1.2452769552552303,
         1.2304415535235202,
         1.2324750165710456,
         1.2420589588141933,
         1.235263348210258,
         1.2360190157881792,
         1.2592893656598636,
         1.2349867853417305,
         1.2468959403101825,
         1.2288387194861428,
         1.249898160093097,
         1.230846122403817,
         1.2414961334901942,
         1.2458929170419453,
         1.2659936951966289,
         1.2328922551500163
        ]
       ],
       "encoder": "json",
       "name": "ABC_GAN_1 Metrics",
       "version": 1
      }
     },
     "metadata": {
      "scrapbook": {
       "data": true,
       "display": false,
       "name": "ABC_GAN_1 Metrics"
      }
     },
     "output_type": "display_data"
    },
    {
     "name": "stdout",
     "output_type": "stream",
     "text": [
      "MSE\n",
      "0.07708285482265442\n"
     ]
    }
   ],
   "source": [
    "ABC_GAN1_metrics=ABC_train_test2.test_generator(gen,test_data,prior_model,variance,\"1\",device)\n",
    "sb.glue(\"ABC_GAN_1 Metrics\",ABC_GAN1_metrics)\n",
    "\n",
    "print(\"MSE\")\n",
    "print(mean(ABC_GAN1_metrics[0]))"
   ]
  },
  {
   "cell_type": "code",
   "execution_count": 14,
   "id": "eb22ce5c",
   "metadata": {
    "execution": {
     "iopub.execute_input": "2022-02-13T14:45:40.432117Z",
     "iopub.status.busy": "2022-02-13T14:45:40.431746Z",
     "iopub.status.idle": "2022-02-13T14:45:40.728326Z",
     "shell.execute_reply": "2022-02-13T14:45:40.728632Z"
    },
    "papermill": {
     "duration": 0.310989,
     "end_time": "2022-02-13T14:45:40.728753",
     "exception": false,
     "start_time": "2022-02-13T14:45:40.417764",
     "status": "completed"
    },
    "tags": []
   },
   "outputs": [
    {
     "data": {
      "image/png": "[encoded data removed]",
      "text/plain": [
       "<Figure size 432x288 with 1 Axes>"
      ]
     },
     "metadata": {
      "needs_background": "light"
     },
     "output_type": "display_data"
    },
    {
     "data": {
      "image/png": "[encoded data removed]",
      "text/plain": [
       "<Figure size 432x288 with 1 Axes>"
      ]
     },
     "metadata": {
      "needs_background": "light"
     },
     "output_type": "display_data"
    },
    {
     "data": {
      "image/png": "[encoded data removed]",
      "text/plain": [
       "<Figure size 432x288 with 1 Axes>"
      ]
     },
     "metadata": {
      "needs_background": "light"
     },
     "output_type": "display_data"
    },
    {
     "data": {
      "image/png": "[encoded data removed]",
      "text/plain": [
       "<Figure size 432x288 with 1 Axes>"
      ]
     },
     "metadata": {
      "needs_background": "light"
     },
     "output_type": "display_data"
    }
   ],
   "source": [
    "sanityChecks.discProbVsError(train_data,disc,device)\n",
    "sanityChecks.discProbVsError(test_data,disc,device)"
   ]
  },
  {
   "cell_type": "markdown",
   "id": "130f3a4d",
   "metadata": {
    "id": "130f3a4d",
    "papermill": {
     "duration": 0.014128,
     "end_time": "2022-02-13T14:45:40.757373",
     "exception": false,
     "start_time": "2022-02-13T14:45:40.743245",
     "status": "completed"
    },
    "tags": []
   },
   "source": [
    "# ABC - GAN Model with skip connection"
   ]
  },
  {
   "cell_type": "code",
   "execution_count": 15,
   "id": "4e43dad1",
   "metadata": {
    "execution": {
     "iopub.execute_input": "2022-02-13T14:45:40.789493Z",
     "iopub.status.busy": "2022-02-13T14:45:40.789105Z",
     "iopub.status.idle": "2022-02-13T14:45:40.791483Z",
     "shell.execute_reply": "2022-02-13T14:45:40.791723Z"
    },
    "id": "4e43dad1",
    "papermill": {
     "duration": 0.020236,
     "end_time": "2022-02-13T14:45:40.791835",
     "exception": false,
     "start_time": "2022-02-13T14:45:40.771599",
     "status": "completed"
    },
    "tags": []
   },
   "outputs": [],
   "source": [
    "#Generator\n",
    "gen3 = network.GeneratorWithSkipConnection(n_features+1).to(device)\n",
    "constraints=network.weightConstraint()\n",
    "#Discriminator \n",
    "disc3 = network.Discriminator(n_features+1).to(device)\n",
    "\n",
    "criterion = torch.nn.BCELoss()\n",
    "gen_opt = torch.optim.Adam(gen3.parameters(), lr=0.001, betas=(0.5, 0.999))\n",
    "disc_opt = torch.optim.Adam(disc3.parameters(), lr=0.001, betas=(0.5, 0.999))\n"
   ]
  },
  {
   "cell_type": "code",
   "execution_count": 16,
   "id": "26acbc37",
   "metadata": {
    "execution": {
     "iopub.execute_input": "2022-02-13T14:45:40.823137Z",
     "iopub.status.busy": "2022-02-13T14:45:40.822770Z",
     "iopub.status.idle": "2022-02-13T14:46:17.993126Z",
     "shell.execute_reply": "2022-02-13T14:46:17.993441Z"
    },
    "id": "26acbc37",
    "papermill": {
     "duration": 37.187148,
     "end_time": "2022-02-13T14:46:17.993565",
     "exception": false,
     "start_time": "2022-02-13T14:45:40.806417",
     "status": "completed"
    },
    "tags": []
   },
   "outputs": [
    {
     "data": {
      "image/png": "[encoded data removed]",
      "text/plain": [
       "<Figure size 432x288 with 1 Axes>"
      ]
     },
     "metadata": {
      "needs_background": "light"
     },
     "output_type": "display_data"
    },
    {
     "data": {
      "image/png": "[encoded data removed]",
      "text/plain": [
       "<Figure size 432x288 with 1 Axes>"
      ]
     },
     "metadata": {
      "needs_background": "light"
     },
     "output_type": "display_data"
    }
   ],
   "source": [
    "ABC_train_test2.training_GAN_skip_connection(disc3,gen3,disc_opt,gen_opt,train_data,batch_size,n_epochs,criterion,prior_model,variance,device)"
   ]
  },
  {
   "cell_type": "code",
   "execution_count": 17,
   "id": "c5e0717b",
   "metadata": {
    "execution": {
     "iopub.execute_input": "2022-02-13T14:46:18.026695Z",
     "iopub.status.busy": "2022-02-13T14:46:18.026263Z",
     "iopub.status.idle": "2022-02-13T14:46:18.303428Z",
     "shell.execute_reply": "2022-02-13T14:46:18.303736Z"
    },
    "id": "c5e0717b",
    "papermill": {
     "duration": 0.294888,
     "end_time": "2022-02-13T14:46:18.303859",
     "exception": false,
     "start_time": "2022-02-13T14:46:18.008971",
     "status": "completed"
    },
    "tags": []
   },
   "outputs": [
    {
     "data": {
      "application/scrapbook.scrap.json+json": {
       "data": 0.10688780223076218,
       "encoder": "json",
       "name": "ABC-GAN Model 3 MSE",
       "version": 1
      }
     },
     "metadata": {
      "scrapbook": {
       "data": true,
       "display": false,
       "name": "ABC-GAN Model 3 MSE"
      }
     },
     "output_type": "display_data"
    },
    {
     "data": {
      "application/scrapbook.scrap.json+json": {
       "data": 0.2566704272925854,
       "encoder": "json",
       "name": "ABC-GAN Model 3 MAE",
       "version": 1
      }
     },
     "metadata": {
      "scrapbook": {
       "data": true,
       "display": false,
       "name": "ABC-GAN Model 3 MAE"
      }
     },
     "output_type": "display_data"
    },
    {
     "data": {
      "application/scrapbook.scrap.json+json": {
       "data": 5.133408545851707,
       "encoder": "json",
       "name": "ABC-GAN Model 3 Manhattan Distance",
       "version": 1
      }
     },
     "metadata": {
      "scrapbook": {
       "data": true,
       "display": false,
       "name": "ABC-GAN Model 3 Manhattan Distance"
      }
     },
     "output_type": "display_data"
    },
    {
     "data": {
      "application/scrapbook.scrap.json+json": {
       "data": 1.4620669661293422,
       "encoder": "json",
       "name": "ABC-GAN Model 3 Euclidean distance",
       "version": 1
      }
     },
     "metadata": {
      "scrapbook": {
       "data": true,
       "display": false,
       "name": "ABC-GAN Model 3 Euclidean distance"
      }
     },
     "output_type": "display_data"
    },
    {
     "data": {
      "application/scrapbook.scrap.json+json": {
       "data": [
        [
         0.10698031252738302,
         0.10725687278066007,
         0.10492729118679907,
         0.10503091974767469,
         0.10631107153165745,
         0.10757317523822063,
         0.10557910374276895,
         0.10907818672687282,
         0.10707325837010309,
         0.10519969598222274,
         0.10498698002204612,
         0.10603418844648047,
         0.10911625237672504,
         0.10831827070023654,
         0.10631433194845355,
         0.1053936345370513,
         0.10650129701429015,
         0.10670895450288556,
         0.10691705564451677,
         0.10850301136072091,
         0.10952989886291772,
         0.10534161400518705,
         0.10736342452826579,
         0.10831719491009814,
         0.10888637475176402,
         0.10487920531951711,
         0.11009382218210502,
         0.1048314926816464,
         0.10652836115183817,
         0.10523013104929049,
         0.10976052520576354,
         0.10621014482931612,
         0.1036340360197785,
         0.10730114203712444,
         0.10820615203760968,
         0.10653633847446328,
         0.10780960127923982,
         0.10664888837221213,
         0.1063697611067275,
         0.1076333751957695,
         0.10883255203062729,
         0.10632548401129527,
         0.10748040339726184,
         0.10677059286177873,
         0.10909206638718923,
         0.1069572611793073,
         0.10624024339448002,
         0.10566536907306459,
         0.10786431518464346,
         0.1058326738272766,
         0.10579600397450975,
         0.10707763035779097,
         0.1052161641961383,
         0.10553029532209372,
         0.10820498745848753,
         0.1085225733775875,
         0.10321733772994954,
         0.106914031555017,
         0.10673412176544064,
         0.10726574118086334,
         0.10858267261591906,
         0.10868657397840087,
         0.10578043915643534,
         0.10404665489819236,
         0.10685464203375897,
         0.10491915657332969,
         0.10637743601511114,
         0.10743044566439468,
         0.10845763846099812,
         0.10860179928201368,
         0.10627972471004901,
         0.1063069318459771,
         0.1034544668849234,
         0.10453984471114249,
         0.10522050778983483,
         0.10961515483319469,
         0.10659296474658522,
         0.10751883281981307,
         0.10487477649068358,
         0.10413792217062408,
         0.10666034865861089,
         0.104324313299173,
         0.10734826550157713,
         0.10661356336483341,
         0.10865285641653974,
         0.10981622974835792,
         0.10817031951508364,
         0.1081259113126722,
         0.10615044786245105,
         0.10561236361585946,
         0.10669468691292408,
         0.10712255527448562,
         0.1090821317553011,
         0.10729202503954612,
         0.10650807942152576,
         0.11055335417745993,
         0.10832134225451293,
         0.10632750248089015,
         0.10934907117000461,
         0.10732107295982178
        ],
        [
         0.2569170664995909,
         0.26002632565796374,
         0.25236011333763597,
         0.2537035312503576,
         0.25611963905394075,
         0.25723271183669566,
         0.25701820142567156,
         0.255853284522891,
         0.25891338773071765,
         0.253868393227458,
         0.25419509001076224,
         0.2559096734970808,
         0.258988693729043,
         0.2568675059825182,
         0.25707125253975394,
         0.2550646629184484,
         0.2547274958342314,
         0.25775579176843166,
         0.25676535032689574,
         0.2564258430153131,
         0.2585918802767992,
         0.2545472953468561,
         0.25585872642695906,
         0.2566288571804762,
         0.25756690464913845,
         0.2527649957686663,
         0.26087777204811574,
         0.25470024086534976,
         0.25421368815004824,
         0.255875351652503,
         0.2585214052349329,
         0.25890808962285516,
         0.25260370709002017,
         0.2577733535319567,
         0.2579044234007597,
         0.25736615620553493,
         0.25965079925954343,
         0.257792841270566,
         0.25635587982833385,
         0.25599002502858637,
         0.2603928852826357,
         0.25642269738018514,
         0.25746625326573847,
         0.25774212218821047,
         0.2595452334731817,
         0.25751495622098447,
         0.25534951575100423,
         0.2544147167354822,
         0.2585083033889532,
         0.2543998409062624,
         0.2541708078235388,
         0.2578717302531004,
         0.2557288195937872,
         0.2529531318694353,
         0.2532577533274889,
         0.2580311607569456,
         0.2527055058628321,
         0.25548484809696675,
         0.2562960539013147,
         0.25713887996971607,
         0.25986276380717754,
         0.259276045486331,
         0.25507670305669305,
         0.25412552542984485,
         0.2576314102858305,
         0.2558313962072134,
         0.2574919622391462,
         0.26100510098040103,
         0.2558123003691435,
         0.2606003154069185,
         0.2558821689337492,
         0.25872055925428866,
         0.25338554941117764,
         0.2568606477230787,
         0.25442713908851144,
         0.2611609544605017,
         0.2558329749852419,
         0.25521225295960903,
         0.2525460716336966,
         0.2554067026823759,
         0.25759067945182323,
         0.25325075201690195,
         0.2561154555529356,
         0.256271056458354,
         0.2582176636904478,
         0.26158391274511816,
         0.25904969684779644,
         0.2578059513121843,
         0.25662515349686144,
         0.2541912417858839,
         0.2556988071650267,
         0.2572575856000185,
         0.2608090918511152,
         0.25536106489598753,
         0.25616579987108706,
         0.2601027872413397,
         0.26025132797658446,
         0.2563694562762976,
         0.25747886039316653,
         0.2550262171775103
        ],
        [
         5.1383413299918175,
         5.200526513159275,
         5.04720226675272,
         5.074070625007153,
         5.1223927810788155,
         5.144654236733913,
         5.1403640285134315,
         5.117065690457821,
         5.178267754614353,
         5.07736786454916,
         5.083901800215244,
         5.118193469941616,
         5.17977387458086,
         5.137350119650364,
         5.141425050795078,
         5.101293258368969,
         5.0945499166846275,
         5.155115835368633,
         5.135307006537914,
         5.128516860306263,
         5.171837605535984,
         5.090945906937122,
         5.117174528539181,
         5.132577143609524,
         5.151338092982769,
         5.055299915373325,
         5.217555440962315,
         5.094004817306995,
         5.084273763000965,
         5.11750703305006,
         5.170428104698658,
         5.178161792457104,
         5.052074141800404,
         5.1554670706391335,
         5.158088468015194,
         5.147323124110699,
         5.193015985190868,
         5.15585682541132,
         5.127117596566677,
         5.119800500571728,
         5.207857705652714,
         5.1284539476037025,
         5.14932506531477,
         5.15484244376421,
         5.1909046694636345,
         5.150299124419689,
         5.106990315020084,
         5.088294334709644,
         5.170166067779064,
         5.087996818125248,
         5.083416156470776,
         5.157434605062008,
         5.114576391875744,
         5.059062637388706,
         5.065155066549778,
         5.160623215138912,
         5.054110117256641,
         5.109696961939335,
         5.125921078026295,
         5.142777599394321,
         5.197255276143551,
         5.18552090972662,
         5.1015340611338615,
         5.082510508596897,
         5.15262820571661,
         5.116627924144268,
         5.149839244782925,
         5.220102019608021,
         5.11624600738287,
         5.2120063081383705,
         5.117643378674984,
         5.1744111850857735,
         5.067710988223553,
         5.1372129544615746,
         5.088542781770229,
         5.223219089210033,
         5.116659499704838,
         5.104245059192181,
         5.050921432673931,
         5.108134053647518,
         5.151813589036465,
         5.065015040338039,
         5.122309111058712,
         5.12542112916708,
         5.164353273808956,
         5.231678254902363,
         5.180993936955929,
         5.156119026243687,
         5.132503069937229,
         5.083824835717678,
         5.113976143300533,
         5.14515171200037,
         5.2161818370223045,
         5.10722129791975,
         5.1233159974217415,
         5.202055744826794,
         5.205026559531689,
         5.127389125525951,
         5.149577207863331,
         5.100524343550205
        ],
        [
         1.4627392968494626,
         1.4646287774085287,
         1.4486358492512814,
         1.4493510254432822,
         1.4581568607777247,
         1.4667867959469818,
         1.4531283752151354,
         1.4770117584289761,
         1.463374582054117,
         1.4505150532291813,
         1.4490478254498442,
         1.4562567661403705,
         1.4772694566444202,
         1.4718578103895534,
         1.4581792204557953,
         1.451851469931076,
         1.459460838901066,
         1.4608829830132566,
         1.4623067779677201,
         1.473112428572381,
         1.4800668826976553,
         1.4514931209288389,
         1.4653560968465364,
         1.4718505013084593,
         1.4757125380761933,
         1.448303872255523,
         1.4838721116194955,
         1.4479743967463403,
         1.4596462664072976,
         1.4507248605389687,
         1.481624278997638,
         1.4574645438522071,
         1.4396807703083243,
         1.46493100204156,
         1.471095863889296,
         1.4597009178216152,
         1.4683977749863273,
         1.4604717619468863,
         1.4585592967495526,
         1.467197159183247,
         1.4753477693793235,
         1.4582556978204835,
         1.4661541760487662,
         1.4613048474687185,
         1.4771057266640681,
         1.462581698089425,
         1.457671042413068,
         1.453721906508013,
         1.468770337286558,
         1.454872323107953,
         1.454620252674283,
         1.4634044578160268,
         1.450628582347241,
         1.45279245126132,
         1.4710879474626086,
         1.4732452163681884,
         1.4367834751969382,
         1.4622860975542167,
         1.4610552471788372,
         1.4646893266550647,
         1.4736530976856055,
         1.4743579889457028,
         1.45451324611662,
         1.4425439674283231,
         1.4618798995386657,
         1.4485796945513885,
         1.4586119155903747,
         1.4658133964757907,
         1.4728043893266893,
         1.4737828828020338,
         1.4579418692804524,
         1.4581284706498059,
         1.4384329451519344,
         1.4459588148432339,
         1.4506585248764425,
         1.4806427984709525,
         1.4600887969338388,
         1.4664162630018331,
         1.4482732925154946,
         1.4431765115232722,
         1.4605502295957569,
         1.4444674679560838,
         1.4652526437551794,
         1.4602298679648584,
         1.4741292780250974,
         1.4820002007311464,
         1.4708522666473587,
         1.4705503140843035,
         1.4570548916389598,
         1.4533572418084926,
         1.4607853155951704,
         1.4637114146886032,
         1.4770384677136956,
         1.464868765723033,
         1.4595073101668643,
         1.486965730455547,
         1.4718786787946412,
         1.4582695394260292,
         1.4788446244957894,
         1.465067049385944
        ]
       ],
       "encoder": "json",
       "name": "ABC_GAN_3 Metrics",
       "version": 1
      }
     },
     "metadata": {
      "scrapbook": {
       "data": true,
       "display": false,
       "name": "ABC_GAN_3 Metrics"
      }
     },
     "output_type": "display_data"
    },
    {
     "name": "stdout",
     "output_type": "stream",
     "text": [
      "MSE\n",
      "0.10688780223076218\n"
     ]
    }
   ],
   "source": [
    "ABC_GAN3_metrics=ABC_train_test2.test_generator(gen3,test_data,prior_model,variance,\"3\",device)\n",
    "sb.glue(\"ABC_GAN_3 Metrics\",ABC_GAN3_metrics)\n",
    "\n",
    "print(\"MSE\")\n",
    "print(mean(ABC_GAN3_metrics[0]))"
   ]
  },
  {
   "cell_type": "code",
   "execution_count": 18,
   "id": "c8e46b48",
   "metadata": {
    "execution": {
     "iopub.execute_input": "2022-02-13T14:46:18.362610Z",
     "iopub.status.busy": "2022-02-13T14:46:18.362230Z",
     "iopub.status.idle": "2022-02-13T14:46:18.648237Z",
     "shell.execute_reply": "2022-02-13T14:46:18.648602Z"
    },
    "id": "c8e46b48",
    "papermill": {
     "duration": 0.30576,
     "end_time": "2022-02-13T14:46:18.648752",
     "exception": false,
     "start_time": "2022-02-13T14:46:18.342992",
     "status": "completed"
    },
    "tags": []
   },
   "outputs": [
    {
     "data": {
      "image/png": "[encoded data removed]",
      "text/plain": [
       "<Figure size 432x288 with 1 Axes>"
      ]
     },
     "metadata": {
      "needs_background": "light"
     },
     "output_type": "display_data"
    },
    {
     "data": {
      "image/png": "[encoded data removed]",
      "text/plain": [
       "<Figure size 432x288 with 1 Axes>"
      ]
     },
     "metadata": {
      "needs_background": "light"
     },
     "output_type": "display_data"
    },
    {
     "data": {
      "image/png": "[encoded data removed]",
      "text/plain": [
       "<Figure size 432x288 with 1 Axes>"
      ]
     },
     "metadata": {
      "needs_background": "light"
     },
     "output_type": "display_data"
    },
    {
     "data": {
      "image/png": "[encoded data removed]",
      "text/plain": [
       "<Figure size 432x288 with 1 Axes>"
      ]
     },
     "metadata": {
      "needs_background": "light"
     },
     "output_type": "display_data"
    }
   ],
   "source": [
    "sanityChecks.discProbVsError(train_data,disc3,device)\n",
    "sanityChecks.discProbVsError(test_data,disc3,device)"
   ]
  },
  {
   "cell_type": "markdown",
   "id": "a5bd74c3",
   "metadata": {
    "id": "a5bd74c3",
    "papermill": {
     "duration": 0.018915,
     "end_time": "2022-02-13T14:46:18.686959",
     "exception": false,
     "start_time": "2022-02-13T14:46:18.668044",
     "status": "completed"
    },
    "tags": []
   },
   "source": [
    "## Skip Connection Model Analysis - ABC-GAN "
   ]
  },
  {
   "cell_type": "markdown",
   "id": "5744a8bf",
   "metadata": {
    "id": "5744a8bf",
    "papermill": {
     "duration": 0.018748,
     "end_time": "2022-02-13T14:46:18.724547",
     "exception": false,
     "start_time": "2022-02-13T14:46:18.705799",
     "status": "completed"
    },
    "tags": []
   },
   "source": [
    "### Weight Analysis \n",
    "\n",
    "Study the weights of the skip connection layer\n",
    "\n",
    "Equation of the skip connection is \n",
    "\n",
    "$output = y_{gan} * w + y_{abc} * (1-w)$"
   ]
  },
  {
   "cell_type": "code",
   "execution_count": 19,
   "id": "52c31dea",
   "metadata": {
    "execution": {
     "iopub.execute_input": "2022-02-13T14:46:18.765033Z",
     "iopub.status.busy": "2022-02-13T14:46:18.764661Z",
     "iopub.status.idle": "2022-02-13T14:46:18.767636Z",
     "shell.execute_reply": "2022-02-13T14:46:18.767889Z"
    },
    "id": "52c31dea",
    "papermill": {
     "duration": 0.024685,
     "end_time": "2022-02-13T14:46:18.768003",
     "exception": false,
     "start_time": "2022-02-13T14:46:18.743318",
     "status": "completed"
    },
    "tags": []
   },
   "outputs": [
    {
     "name": "stdout",
     "output_type": "stream",
     "text": [
      "Weight of the node at skip connection\n",
      "Parameter containing:\n",
      "tensor([[0.]], requires_grad=True)\n"
     ]
    },
    {
     "data": {
      "application/scrapbook.scrap.json+json": {
       "data": 0.0,
       "encoder": "json",
       "name": "Skip Connection Weight",
       "version": 1
      }
     },
     "metadata": {
      "scrapbook": {
       "data": true,
       "display": false,
       "name": "Skip Connection Weight"
      }
     },
     "output_type": "display_data"
    }
   ],
   "source": [
    "print(\"Weight of the node at skip connection\")\n",
    "for name,param in gen3.named_parameters():\n",
    "    if(name == \"skipNode.weight\"):\n",
    "        print(param)\n",
    "        sb.glue(\"Skip Connection Weight\",param.item())"
   ]
  }
 ],
 "metadata": {
  "colab": {
   "collapsed_sections": [],
   "name": "ABC_GAN_Model-Catboost_Pre-gen.ipynb",
   "provenance": []
  },
  "interpreter": {
   "hash": "31f2aee4e71d21fbe5cf8b01ff0e069b9275f58929596ceb00d14d90e3e16cd6"
  },
  "kernelspec": {
   "display_name": "Python 3 (ipykernel)",
   "language": "python",
   "name": "python3"
  },
  "language_info": {
   "codemirror_mode": {
    "name": "ipython",
    "version": 3
   },
   "file_extension": ".py",
   "mimetype": "text/x-python",
   "name": "python",
   "nbconvert_exporter": "python",
   "pygments_lexer": "ipython3",
   "version": "3.8.11"
  },
  "papermill": {
   "default_parameters": {},
   "duration": 56.025314,
   "end_time": "2022-02-13T14:46:19.095008",
   "environment_variables": {},
   "exception": null,
   "input_path": "ABC_GAN-Catboost.ipynb",
   "output_path": "./ABC_GAN_Catboost/ABC-GAN_output_2_2.ipynb",
   "parameters": {
    "variance": 0.01
   },
   "start_time": "2022-02-13T14:45:23.069694",
   "version": "2.3.3"
  }
 },
 "nbformat": 4,
 "nbformat_minor": 5
}