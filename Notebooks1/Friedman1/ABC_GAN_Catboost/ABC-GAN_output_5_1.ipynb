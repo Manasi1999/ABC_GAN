{
 "cells": [
  {
   "cell_type": "markdown",
   "id": "622780e6",
   "metadata": {
    "id": "622780e6",
    "papermill": {
     "duration": 0.036017,
     "end_time": "2022-02-13T14:52:54.442268",
     "exception": false,
     "start_time": "2022-02-13T14:52:54.406251",
     "status": "completed"
    },
    "tags": []
   },
   "source": [
    "## Import Libraries "
   ]
  },
  {
   "cell_type": "code",
   "execution_count": 1,
   "id": "a62397e3",
   "metadata": {
    "execution": {
     "iopub.execute_input": "2022-02-13T14:52:54.479510Z",
     "iopub.status.busy": "2022-02-13T14:52:54.478949Z",
     "iopub.status.idle": "2022-02-13T14:52:54.481278Z",
     "shell.execute_reply": "2022-02-13T14:52:54.481690Z"
    },
    "id": "a62397e3",
    "papermill": {
     "duration": 0.022235,
     "end_time": "2022-02-13T14:52:54.481895",
     "exception": false,
     "start_time": "2022-02-13T14:52:54.459660",
     "status": "completed"
    },
    "tags": []
   },
   "outputs": [],
   "source": [
    "import warnings\n",
    "import sys\n",
    "sys.path.insert(0, '../../src')\n",
    "warnings.filterwarnings('ignore')"
   ]
  },
  {
   "cell_type": "code",
   "execution_count": 2,
   "id": "d6a4e155",
   "metadata": {
    "execution": {
     "iopub.execute_input": "2022-02-13T14:52:54.502543Z",
     "iopub.status.busy": "2022-02-13T14:52:54.502153Z",
     "iopub.status.idle": "2022-02-13T14:52:56.064727Z",
     "shell.execute_reply": "2022-02-13T14:52:56.064959Z"
    },
    "id": "d6a4e155",
    "papermill": {
     "duration": 1.573537,
     "end_time": "2022-02-13T14:52:56.065086",
     "exception": false,
     "start_time": "2022-02-13T14:52:54.491549",
     "status": "completed"
    },
    "tags": []
   },
   "outputs": [],
   "source": [
    "import ABC_train_test2\n",
    "import friedman1Dataset\n",
    "import network\n",
    "import dataset\n",
    "import sanityChecks\n",
    "import torch \n",
    "import scrapbook as sb\n",
    "from statistics import mean \n",
    "import catboost as ctb \n",
    "from sklearn.model_selection import train_test_split\n",
    "from sklearn.metrics import mean_squared_error,mean_absolute_error\n",
    "import numpy as np"
   ]
  },
  {
   "cell_type": "markdown",
   "id": "2fa5b0f7",
   "metadata": {
    "id": "2fa5b0f7",
    "papermill": {
     "duration": 0.006926,
     "end_time": "2022-02-13T14:52:56.079197",
     "exception": false,
     "start_time": "2022-02-13T14:52:56.072271",
     "status": "completed"
    },
    "tags": []
   },
   "source": [
    "## Parameters "
   ]
  },
  {
   "cell_type": "code",
   "execution_count": 3,
   "id": "783186fb",
   "metadata": {
    "execution": {
     "iopub.execute_input": "2022-02-13T14:52:56.095101Z",
     "iopub.status.busy": "2022-02-13T14:52:56.094734Z",
     "iopub.status.idle": "2022-02-13T14:52:56.096048Z",
     "shell.execute_reply": "2022-02-13T14:52:56.096298Z"
    },
    "id": "783186fb",
    "papermill": {
     "duration": 0.01048,
     "end_time": "2022-02-13T14:52:56.096409",
     "exception": false,
     "start_time": "2022-02-13T14:52:56.085929",
     "status": "completed"
    },
    "tags": [
     "parameters"
    ]
   },
   "outputs": [],
   "source": [
    "variance = 1"
   ]
  },
  {
   "cell_type": "code",
   "execution_count": 4,
   "id": "227468c7",
   "metadata": {
    "execution": {
     "iopub.execute_input": "2022-02-13T14:52:56.111898Z",
     "iopub.status.busy": "2022-02-13T14:52:56.111529Z",
     "iopub.status.idle": "2022-02-13T14:52:56.112798Z",
     "shell.execute_reply": "2022-02-13T14:52:56.113022Z"
    },
    "papermill": {
     "duration": 0.009848,
     "end_time": "2022-02-13T14:52:56.113124",
     "exception": false,
     "start_time": "2022-02-13T14:52:56.103276",
     "status": "completed"
    },
    "tags": [
     "injected-parameters"
    ]
   },
   "outputs": [],
   "source": [
    "# Parameters\n",
    "variance = 0.1\n"
   ]
  },
  {
   "cell_type": "markdown",
   "id": "391cdbfd",
   "metadata": {
    "id": "391cdbfd",
    "papermill": {
     "duration": 0.006793,
     "end_time": "2022-02-13T14:52:56.126739",
     "exception": false,
     "start_time": "2022-02-13T14:52:56.119946",
     "status": "completed"
    },
    "tags": []
   },
   "source": [
    "## Dataset \n"
   ]
  },
  {
   "cell_type": "code",
   "execution_count": 5,
   "id": "5b51f161",
   "metadata": {
    "execution": {
     "iopub.execute_input": "2022-02-13T14:52:56.142320Z",
     "iopub.status.busy": "2022-02-13T14:52:56.141954Z",
     "iopub.status.idle": "2022-02-13T14:52:56.143249Z",
     "shell.execute_reply": "2022-02-13T14:52:56.143485Z"
    },
    "id": "5b51f161",
    "papermill": {
     "duration": 0.010044,
     "end_time": "2022-02-13T14:52:56.143587",
     "exception": false,
     "start_time": "2022-02-13T14:52:56.133543",
     "status": "completed"
    },
    "tags": []
   },
   "outputs": [],
   "source": [
    "#Parameters \n",
    "n_features = 5\n",
    "n_samples= 100\n",
    "n_target = 1 "
   ]
  },
  {
   "cell_type": "code",
   "execution_count": 6,
   "id": "5d6eced4",
   "metadata": {
    "execution": {
     "iopub.execute_input": "2022-02-13T14:52:56.161225Z",
     "iopub.status.busy": "2022-02-13T14:52:56.160176Z",
     "iopub.status.idle": "2022-02-13T14:52:56.164807Z",
     "shell.execute_reply": "2022-02-13T14:52:56.165047Z"
    },
    "id": "5d6eced4",
    "papermill": {
     "duration": 0.014658,
     "end_time": "2022-02-13T14:52:56.165154",
     "exception": false,
     "start_time": "2022-02-13T14:52:56.150496",
     "status": "completed"
    },
    "tags": []
   },
   "outputs": [
    {
     "name": "stdout",
     "output_type": "stream",
     "text": [
      "         X0        X1        X2        X3        X4         Y\n",
      "0  0.233190  0.882674  1.092579  0.829401 -1.314297  0.983998\n",
      "1 -0.917869  0.677570 -0.867610  1.321422  1.251739  1.099096\n",
      "2 -0.017036 -0.879620 -0.312517 -0.248316 -0.638175 -0.860215\n",
      "3  0.817825 -0.649416  0.361289  0.274493 -0.701385  0.080075\n",
      "4  0.031022 -1.809871 -0.571246 -1.074296 -0.188479 -1.953273\n"
     ]
    }
   ],
   "source": [
    "X,Y = friedman1Dataset.friedman1_data(n_samples,n_features)"
   ]
  },
  {
   "cell_type": "code",
   "execution_count": 7,
   "id": "fe007438",
   "metadata": {
    "execution": {
     "iopub.execute_input": "2022-02-13T14:52:56.182079Z",
     "iopub.status.busy": "2022-02-13T14:52:56.181722Z",
     "iopub.status.idle": "2022-02-13T14:52:56.183134Z",
     "shell.execute_reply": "2022-02-13T14:52:56.183373Z"
    },
    "id": "fe007438",
    "papermill": {
     "duration": 0.010994,
     "end_time": "2022-02-13T14:52:56.183477",
     "exception": false,
     "start_time": "2022-02-13T14:52:56.172483",
     "status": "completed"
    },
    "tags": []
   },
   "outputs": [],
   "source": [
    "#Train test split for dataset \n",
    "X_train,X_test,Y_train,Y_test = train_test_split(X,Y,test_size = 0.2)\n",
    "train_data = dataset.CustomDataset(X_train,Y_train)\n",
    "test_data = dataset.CustomDataset(X_test,Y_test)\n"
   ]
  },
  {
   "cell_type": "markdown",
   "id": "a9a1af34",
   "metadata": {
    "id": "a9a1af34",
    "papermill": {
     "duration": 0.007079,
     "end_time": "2022-02-13T14:52:56.197701",
     "exception": false,
     "start_time": "2022-02-13T14:52:56.190622",
     "status": "completed"
    },
    "tags": []
   },
   "source": [
    "## Training Parameters "
   ]
  },
  {
   "cell_type": "code",
   "execution_count": 8,
   "id": "952b7fc8",
   "metadata": {
    "execution": {
     "iopub.execute_input": "2022-02-13T14:52:56.213982Z",
     "iopub.status.busy": "2022-02-13T14:52:56.213624Z",
     "iopub.status.idle": "2022-02-13T14:52:56.215070Z",
     "shell.execute_reply": "2022-02-13T14:52:56.215347Z"
    },
    "id": "952b7fc8",
    "papermill": {
     "duration": 0.010682,
     "end_time": "2022-02-13T14:52:56.215452",
     "exception": false,
     "start_time": "2022-02-13T14:52:56.204770",
     "status": "completed"
    },
    "tags": []
   },
   "outputs": [],
   "source": [
    "batch_size = 32\n",
    "n_epochs = 1000\n",
    "#Select the device \n",
    "device = torch.device('cuda' if torch.cuda.is_available() else 'cpu')"
   ]
  },
  {
   "cell_type": "markdown",
   "id": "a95e1600",
   "metadata": {
    "id": "a95e1600",
    "papermill": {
     "duration": 0.007077,
     "end_time": "2022-02-13T14:52:56.229673",
     "exception": false,
     "start_time": "2022-02-13T14:52:56.222596",
     "status": "completed"
    },
    "tags": []
   },
   "source": [
    "# ABC Pre-generator Model \n",
    "\n",
    "1. The catboost model is used as a pre-generator model for the ABC-GAN. \n",
    "2. The model is first trained on the entire dataset \n",
    "3. It generats X,Y pairs and we add some Gaussian noise with mean 0 and variance 1 to it which is then feed as input to the generator.\n"
   ]
  },
  {
   "cell_type": "code",
   "execution_count": 9,
   "id": "ff8ce7bd",
   "metadata": {
    "execution": {
     "iopub.execute_input": "2022-02-13T14:52:56.247305Z",
     "iopub.status.busy": "2022-02-13T14:52:56.246930Z",
     "iopub.status.idle": "2022-02-13T14:52:56.863624Z",
     "shell.execute_reply": "2022-02-13T14:52:56.863987Z"
    },
    "id": "ff8ce7bd",
    "papermill": {
     "duration": 0.627277,
     "end_time": "2022-02-13T14:52:56.864109",
     "exception": false,
     "start_time": "2022-02-13T14:52:56.236832",
     "status": "completed"
    },
    "tags": []
   },
   "outputs": [
    {
     "name": "stdout",
     "output_type": "stream",
     "text": [
      "Learning rate set to 0.024897\n",
      "0:\tlearn: 0.9808202\ttotal: 58ms\tremaining: 57.9s\n",
      "1:\tlearn: 0.9704373\ttotal: 58.5ms\tremaining: 29.2s\n",
      "2:\tlearn: 0.9609509\ttotal: 59.1ms\tremaining: 19.6s\n",
      "3:\tlearn: 0.9513515\ttotal: 59.6ms\tremaining: 14.8s\n",
      "4:\tlearn: 0.9424828\ttotal: 60ms\tremaining: 11.9s\n",
      "5:\tlearn: 0.9340259\ttotal: 60.6ms\tremaining: 10s\n",
      "6:\tlearn: 0.9240555\ttotal: 61.1ms\tremaining: 8.67s\n",
      "7:\tlearn: 0.9146067\ttotal: 61.7ms\tremaining: 7.65s\n",
      "8:\tlearn: 0.9056531\ttotal: 62.2ms\tremaining: 6.85s\n",
      "9:\tlearn: 0.8977347\ttotal: 62.7ms\tremaining: 6.21s\n",
      "10:\tlearn: 0.8878247\ttotal: 63.3ms\tremaining: 5.69s\n",
      "11:\tlearn: 0.8787807\ttotal: 63.8ms\tremaining: 5.26s\n",
      "12:\tlearn: 0.8700804\ttotal: 64.2ms\tremaining: 4.88s\n",
      "13:\tlearn: 0.8627670\ttotal: 64.7ms\tremaining: 4.56s\n",
      "14:\tlearn: 0.8564679\ttotal: 65.2ms\tremaining: 4.28s\n",
      "15:\tlearn: 0.8476198\ttotal: 65.7ms\tremaining: 4.04s\n",
      "16:\tlearn: 0.8411704\ttotal: 66.1ms\tremaining: 3.82s\n",
      "17:\tlearn: 0.8336428\ttotal: 66.6ms\tremaining: 3.63s\n",
      "18:\tlearn: 0.8275379\ttotal: 67.2ms\tremaining: 3.47s\n",
      "19:\tlearn: 0.8213940\ttotal: 67.7ms\tremaining: 3.31s\n",
      "20:\tlearn: 0.8146428\ttotal: 68.1ms\tremaining: 3.17s\n",
      "21:\tlearn: 0.8066973\ttotal: 68.7ms\tremaining: 3.05s\n",
      "22:\tlearn: 0.8002364\ttotal: 69.2ms\tremaining: 2.94s\n",
      "23:\tlearn: 0.7933641\ttotal: 69.7ms\tremaining: 2.83s\n",
      "24:\tlearn: 0.7854141\ttotal: 70.1ms\tremaining: 2.73s\n",
      "25:\tlearn: 0.7784397\ttotal: 70.6ms\tremaining: 2.65s\n",
      "26:\tlearn: 0.7715391\ttotal: 71.2ms\tremaining: 2.56s\n",
      "27:\tlearn: 0.7644576\ttotal: 71.6ms\tremaining: 2.49s\n",
      "28:\tlearn: 0.7577932\ttotal: 72.1ms\tremaining: 2.41s\n",
      "29:\tlearn: 0.7523153\ttotal: 72.7ms\tremaining: 2.35s\n",
      "30:\tlearn: 0.7447234\ttotal: 73.2ms\tremaining: 2.29s\n",
      "31:\tlearn: 0.7390328\ttotal: 73.6ms\tremaining: 2.23s\n",
      "32:\tlearn: 0.7325252\ttotal: 74.2ms\tremaining: 2.17s\n",
      "33:\tlearn: 0.7271395\ttotal: 74.7ms\tremaining: 2.12s\n",
      "34:\tlearn: 0.7203735\ttotal: 75.4ms\tremaining: 2.08s\n",
      "35:\tlearn: 0.7156150\ttotal: 75.8ms\tremaining: 2.03s\n",
      "36:\tlearn: 0.7098673\ttotal: 76.2ms\tremaining: 1.98s\n",
      "37:\tlearn: 0.7042948\ttotal: 76.7ms\tremaining: 1.94s\n",
      "38:\tlearn: 0.6985597\ttotal: 77.1ms\tremaining: 1.9s\n",
      "39:\tlearn: 0.6915605\ttotal: 77.5ms\tremaining: 1.86s\n",
      "40:\tlearn: 0.6859352\ttotal: 78.1ms\tremaining: 1.82s\n",
      "41:\tlearn: 0.6808116\ttotal: 78.5ms\tremaining: 1.79s\n",
      "42:\tlearn: 0.6752520\ttotal: 79ms\tremaining: 1.76s\n",
      "43:\tlearn: 0.6698540\ttotal: 79.4ms\tremaining: 1.73s\n",
      "44:\tlearn: 0.6638433\ttotal: 79.9ms\tremaining: 1.7s\n",
      "45:\tlearn: 0.6582034\ttotal: 80.3ms\tremaining: 1.67s\n",
      "46:\tlearn: 0.6527403\ttotal: 80.9ms\tremaining: 1.64s\n",
      "47:\tlearn: 0.6471231\ttotal: 81.3ms\tremaining: 1.61s\n",
      "48:\tlearn: 0.6416650\ttotal: 81.9ms\tremaining: 1.59s\n",
      "49:\tlearn: 0.6352816\ttotal: 82.3ms\tremaining: 1.56s\n",
      "50:\tlearn: 0.6290641\ttotal: 82.8ms\tremaining: 1.54s\n",
      "51:\tlearn: 0.6230496\ttotal: 83.2ms\tremaining: 1.52s\n",
      "52:\tlearn: 0.6177905\ttotal: 83.7ms\tremaining: 1.5s\n",
      "53:\tlearn: 0.6127363\ttotal: 84.3ms\tremaining: 1.48s\n",
      "54:\tlearn: 0.6073771\ttotal: 84.9ms\tremaining: 1.46s\n",
      "55:\tlearn: 0.6028422\ttotal: 85.4ms\tremaining: 1.44s\n",
      "56:\tlearn: 0.5990254\ttotal: 86ms\tremaining: 1.42s\n",
      "57:\tlearn: 0.5946853\ttotal: 86.5ms\tremaining: 1.4s\n",
      "58:\tlearn: 0.5896553\ttotal: 86.9ms\tremaining: 1.39s\n",
      "59:\tlearn: 0.5857918\ttotal: 87.4ms\tremaining: 1.37s\n",
      "60:\tlearn: 0.5803071\ttotal: 87.8ms\tremaining: 1.35s\n",
      "61:\tlearn: 0.5761469\ttotal: 88.3ms\tremaining: 1.33s\n",
      "62:\tlearn: 0.5721396\ttotal: 88.8ms\tremaining: 1.32s\n",
      "63:\tlearn: 0.5678638\ttotal: 89.3ms\tremaining: 1.3s\n",
      "64:\tlearn: 0.5632650\ttotal: 89.7ms\tremaining: 1.29s\n",
      "65:\tlearn: 0.5594917\ttotal: 90.1ms\tremaining: 1.27s\n",
      "66:\tlearn: 0.5549023\ttotal: 90.7ms\tremaining: 1.26s\n",
      "67:\tlearn: 0.5508046\ttotal: 91.2ms\tremaining: 1.25s\n",
      "68:\tlearn: 0.5472445\ttotal: 91.7ms\tremaining: 1.24s\n",
      "69:\tlearn: 0.5429731\ttotal: 92.2ms\tremaining: 1.23s\n",
      "70:\tlearn: 0.5388068\ttotal: 92.6ms\tremaining: 1.21s\n",
      "71:\tlearn: 0.5339080\ttotal: 93.1ms\tremaining: 1.2s\n",
      "72:\tlearn: 0.5294045\ttotal: 93.6ms\tremaining: 1.19s\n",
      "73:\tlearn: 0.5251288\ttotal: 94ms\tremaining: 1.18s\n",
      "74:\tlearn: 0.5207545\ttotal: 94.6ms\tremaining: 1.17s\n",
      "75:\tlearn: 0.5161977\ttotal: 95ms\tremaining: 1.16s\n",
      "76:\tlearn: 0.5129419\ttotal: 95.6ms\tremaining: 1.15s\n",
      "77:\tlearn: 0.5084300\ttotal: 96.1ms\tremaining: 1.14s\n",
      "78:\tlearn: 0.5041585\ttotal: 96.6ms\tremaining: 1.13s\n",
      "79:\tlearn: 0.5002523\ttotal: 97ms\tremaining: 1.11s\n",
      "80:\tlearn: 0.4959388\ttotal: 97.5ms\tremaining: 1.11s\n",
      "81:\tlearn: 0.4922200\ttotal: 98.1ms\tremaining: 1.1s\n",
      "82:\tlearn: 0.4875083\ttotal: 98.6ms\tremaining: 1.09s\n",
      "83:\tlearn: 0.4837521\ttotal: 99ms\tremaining: 1.08s\n",
      "84:\tlearn: 0.4797687\ttotal: 99.5ms\tremaining: 1.07s\n",
      "85:\tlearn: 0.4759489\ttotal: 100ms\tremaining: 1.06s\n",
      "86:\tlearn: 0.4723094\ttotal: 101ms\tremaining: 1.05s\n",
      "87:\tlearn: 0.4690380\ttotal: 101ms\tremaining: 1.05s\n",
      "88:\tlearn: 0.4657359\ttotal: 102ms\tremaining: 1.04s\n",
      "89:\tlearn: 0.4619219\ttotal: 102ms\tremaining: 1.03s\n",
      "90:\tlearn: 0.4579098\ttotal: 103ms\tremaining: 1.03s\n",
      "91:\tlearn: 0.4542995\ttotal: 104ms\tremaining: 1.03s\n",
      "92:\tlearn: 0.4511626\ttotal: 105ms\tremaining: 1.02s\n",
      "93:\tlearn: 0.4476496\ttotal: 105ms\tremaining: 1.01s\n",
      "94:\tlearn: 0.4444934\ttotal: 106ms\tremaining: 1s\n",
      "95:\tlearn: 0.4412045\ttotal: 106ms\tremaining: 998ms\n",
      "96:\tlearn: 0.4381158\ttotal: 107ms\tremaining: 992ms\n",
      "97:\tlearn: 0.4346756\ttotal: 107ms\tremaining: 985ms\n",
      "98:\tlearn: 0.4307888\ttotal: 107ms\tremaining: 978ms\n"
     ]
    },
    {
     "name": "stdout",
     "output_type": "stream",
     "text": [
      "99:\tlearn: 0.4275912\ttotal: 108ms\tremaining: 973ms\n",
      "100:\tlearn: 0.4248397\ttotal: 109ms\tremaining: 966ms\n",
      "101:\tlearn: 0.4219061\ttotal: 109ms\tremaining: 961ms\n",
      "102:\tlearn: 0.4192842\ttotal: 110ms\tremaining: 955ms\n",
      "103:\tlearn: 0.4155663\ttotal: 110ms\tremaining: 948ms\n",
      "104:\tlearn: 0.4128563\ttotal: 111ms\tremaining: 942ms\n",
      "105:\tlearn: 0.4096632\ttotal: 111ms\tremaining: 936ms\n",
      "106:\tlearn: 0.4063437\ttotal: 112ms\tremaining: 931ms\n",
      "107:\tlearn: 0.4031987\ttotal: 112ms\tremaining: 926ms\n",
      "108:\tlearn: 0.4004750\ttotal: 113ms\tremaining: 921ms\n",
      "109:\tlearn: 0.3977345\ttotal: 113ms\tremaining: 915ms\n",
      "110:\tlearn: 0.3944130\ttotal: 114ms\tremaining: 910ms\n",
      "111:\tlearn: 0.3919333\ttotal: 114ms\tremaining: 906ms\n",
      "112:\tlearn: 0.3888264\ttotal: 115ms\tremaining: 900ms\n",
      "113:\tlearn: 0.3860177\ttotal: 115ms\tremaining: 895ms\n",
      "114:\tlearn: 0.3830208\ttotal: 116ms\tremaining: 891ms\n",
      "115:\tlearn: 0.3803808\ttotal: 116ms\tremaining: 886ms\n",
      "116:\tlearn: 0.3774337\ttotal: 117ms\tremaining: 881ms\n",
      "117:\tlearn: 0.3744189\ttotal: 117ms\tremaining: 876ms\n",
      "118:\tlearn: 0.3722689\ttotal: 118ms\tremaining: 872ms\n",
      "119:\tlearn: 0.3690459\ttotal: 118ms\tremaining: 867ms\n",
      "120:\tlearn: 0.3666007\ttotal: 119ms\tremaining: 863ms\n",
      "121:\tlearn: 0.3635807\ttotal: 119ms\tremaining: 858ms\n",
      "122:\tlearn: 0.3613110\ttotal: 120ms\tremaining: 854ms\n",
      "123:\tlearn: 0.3582608\ttotal: 120ms\tremaining: 850ms\n",
      "124:\tlearn: 0.3554055\ttotal: 121ms\tremaining: 845ms\n",
      "125:\tlearn: 0.3531414\ttotal: 121ms\tremaining: 841ms\n",
      "126:\tlearn: 0.3507758\ttotal: 122ms\tremaining: 836ms\n",
      "127:\tlearn: 0.3480237\ttotal: 122ms\tremaining: 831ms\n",
      "128:\tlearn: 0.3454606\ttotal: 122ms\tremaining: 826ms\n",
      "129:\tlearn: 0.3432692\ttotal: 123ms\tremaining: 822ms\n",
      "130:\tlearn: 0.3407353\ttotal: 123ms\tremaining: 818ms\n",
      "131:\tlearn: 0.3385484\ttotal: 124ms\tremaining: 814ms\n",
      "132:\tlearn: 0.3360860\ttotal: 124ms\tremaining: 810ms\n",
      "133:\tlearn: 0.3338560\ttotal: 125ms\tremaining: 806ms\n",
      "134:\tlearn: 0.3317942\ttotal: 125ms\tremaining: 803ms\n",
      "135:\tlearn: 0.3294366\ttotal: 126ms\tremaining: 799ms\n",
      "136:\tlearn: 0.3270852\ttotal: 126ms\tremaining: 796ms\n",
      "137:\tlearn: 0.3248185\ttotal: 127ms\tremaining: 793ms\n",
      "138:\tlearn: 0.3223504\ttotal: 127ms\tremaining: 789ms\n",
      "139:\tlearn: 0.3202532\ttotal: 128ms\tremaining: 786ms\n",
      "140:\tlearn: 0.3179910\ttotal: 128ms\tremaining: 782ms\n",
      "141:\tlearn: 0.3156031\ttotal: 129ms\tremaining: 779ms\n",
      "142:\tlearn: 0.3127406\ttotal: 129ms\tremaining: 776ms\n",
      "143:\tlearn: 0.3101254\ttotal: 130ms\tremaining: 773ms\n",
      "144:\tlearn: 0.3079148\ttotal: 130ms\tremaining: 769ms\n",
      "145:\tlearn: 0.3054151\ttotal: 131ms\tremaining: 766ms\n",
      "146:\tlearn: 0.3033188\ttotal: 131ms\tremaining: 763ms\n",
      "147:\tlearn: 0.3017564\ttotal: 132ms\tremaining: 759ms\n",
      "148:\tlearn: 0.2995924\ttotal: 132ms\tremaining: 755ms\n",
      "149:\tlearn: 0.2974334\ttotal: 133ms\tremaining: 752ms\n",
      "150:\tlearn: 0.2948268\ttotal: 133ms\tremaining: 750ms\n",
      "151:\tlearn: 0.2931009\ttotal: 134ms\tremaining: 747ms\n",
      "152:\tlearn: 0.2909872\ttotal: 134ms\tremaining: 745ms\n",
      "153:\tlearn: 0.2887126\ttotal: 135ms\tremaining: 742ms\n",
      "154:\tlearn: 0.2870304\ttotal: 136ms\tremaining: 739ms\n",
      "155:\tlearn: 0.2850862\ttotal: 136ms\tremaining: 736ms\n",
      "156:\tlearn: 0.2829824\ttotal: 137ms\tremaining: 733ms\n",
      "157:\tlearn: 0.2810484\ttotal: 137ms\tremaining: 730ms\n",
      "158:\tlearn: 0.2788158\ttotal: 138ms\tremaining: 728ms\n",
      "159:\tlearn: 0.2764779\ttotal: 138ms\tremaining: 725ms\n",
      "160:\tlearn: 0.2748433\ttotal: 139ms\tremaining: 723ms\n",
      "161:\tlearn: 0.2730666\ttotal: 139ms\tremaining: 720ms\n",
      "162:\tlearn: 0.2710812\ttotal: 140ms\tremaining: 717ms\n",
      "163:\tlearn: 0.2692123\ttotal: 140ms\tremaining: 715ms\n",
      "164:\tlearn: 0.2675508\ttotal: 141ms\tremaining: 712ms\n",
      "165:\tlearn: 0.2658890\ttotal: 142ms\tremaining: 713ms\n",
      "166:\tlearn: 0.2643715\ttotal: 142ms\tremaining: 709ms\n",
      "167:\tlearn: 0.2625739\ttotal: 143ms\tremaining: 706ms\n",
      "168:\tlearn: 0.2605078\ttotal: 143ms\tremaining: 703ms\n",
      "169:\tlearn: 0.2588271\ttotal: 143ms\tremaining: 700ms\n",
      "170:\tlearn: 0.2571229\ttotal: 144ms\tremaining: 697ms\n",
      "171:\tlearn: 0.2550943\ttotal: 144ms\tremaining: 695ms\n",
      "172:\tlearn: 0.2532569\ttotal: 145ms\tremaining: 692ms\n",
      "173:\tlearn: 0.2511132\ttotal: 145ms\tremaining: 690ms\n",
      "174:\tlearn: 0.2494248\ttotal: 146ms\tremaining: 687ms\n",
      "175:\tlearn: 0.2474786\ttotal: 146ms\tremaining: 685ms\n",
      "176:\tlearn: 0.2459238\ttotal: 147ms\tremaining: 682ms\n",
      "177:\tlearn: 0.2439572\ttotal: 147ms\tremaining: 679ms\n",
      "178:\tlearn: 0.2424202\ttotal: 147ms\tremaining: 676ms\n",
      "179:\tlearn: 0.2401385\ttotal: 148ms\tremaining: 674ms\n",
      "180:\tlearn: 0.2382503\ttotal: 148ms\tremaining: 672ms\n",
      "181:\tlearn: 0.2362829\ttotal: 149ms\tremaining: 669ms\n",
      "182:\tlearn: 0.2346062\ttotal: 149ms\tremaining: 667ms\n",
      "183:\tlearn: 0.2333371\ttotal: 150ms\tremaining: 665ms\n",
      "184:\tlearn: 0.2314493\ttotal: 150ms\tremaining: 663ms\n",
      "185:\tlearn: 0.2297776\ttotal: 151ms\tremaining: 661ms\n",
      "186:\tlearn: 0.2276949\ttotal: 152ms\tremaining: 659ms\n",
      "187:\tlearn: 0.2262996\ttotal: 152ms\tremaining: 657ms\n",
      "188:\tlearn: 0.2249102\ttotal: 153ms\tremaining: 656ms\n",
      "189:\tlearn: 0.2232212\ttotal: 153ms\tremaining: 654ms\n",
      "190:\tlearn: 0.2214745\ttotal: 154ms\tremaining: 651ms\n",
      "191:\tlearn: 0.2197655\ttotal: 154ms\tremaining: 649ms\n",
      "192:\tlearn: 0.2181524\ttotal: 155ms\tremaining: 647ms\n",
      "193:\tlearn: 0.2166975\ttotal: 155ms\tremaining: 645ms\n",
      "194:\tlearn: 0.2150393\ttotal: 156ms\tremaining: 643ms\n",
      "195:\tlearn: 0.2132134\ttotal: 156ms\tremaining: 641ms\n",
      "196:\tlearn: 0.2112785\ttotal: 157ms\tremaining: 639ms\n",
      "197:\tlearn: 0.2099961\ttotal: 157ms\tremaining: 637ms\n",
      "198:\tlearn: 0.2083201\ttotal: 158ms\tremaining: 635ms\n",
      "199:\tlearn: 0.2067465\ttotal: 158ms\tremaining: 633ms\n",
      "200:\tlearn: 0.2055309\ttotal: 159ms\tremaining: 632ms\n",
      "201:\tlearn: 0.2039283\ttotal: 160ms\tremaining: 630ms\n",
      "202:\tlearn: 0.2026487\ttotal: 160ms\tremaining: 628ms\n",
      "203:\tlearn: 0.2013577\ttotal: 161ms\tremaining: 626ms\n",
      "204:\tlearn: 0.1998272\ttotal: 161ms\tremaining: 625ms\n",
      "205:\tlearn: 0.1981451\ttotal: 162ms\tremaining: 623ms\n",
      "206:\tlearn: 0.1968495\ttotal: 162ms\tremaining: 621ms\n",
      "207:\tlearn: 0.1954621\ttotal: 163ms\tremaining: 619ms\n",
      "208:\tlearn: 0.1938330\ttotal: 163ms\tremaining: 617ms\n",
      "209:\tlearn: 0.1924336\ttotal: 164ms\tremaining: 615ms\n",
      "210:\tlearn: 0.1908716\ttotal: 164ms\tremaining: 613ms\n",
      "211:\tlearn: 0.1891696\ttotal: 165ms\tremaining: 612ms\n",
      "212:\tlearn: 0.1876039\ttotal: 165ms\tremaining: 610ms\n",
      "213:\tlearn: 0.1863933\ttotal: 166ms\tremaining: 609ms\n",
      "214:\tlearn: 0.1849863\ttotal: 166ms\tremaining: 607ms\n",
      "215:\tlearn: 0.1834103\ttotal: 167ms\tremaining: 605ms\n",
      "216:\tlearn: 0.1822821\ttotal: 167ms\tremaining: 603ms\n",
      "217:\tlearn: 0.1809972\ttotal: 168ms\tremaining: 601ms\n",
      "218:\tlearn: 0.1798950\ttotal: 168ms\tremaining: 599ms\n",
      "219:\tlearn: 0.1784798\ttotal: 168ms\tremaining: 597ms\n",
      "220:\tlearn: 0.1774211\ttotal: 169ms\tremaining: 595ms\n",
      "221:\tlearn: 0.1760059\ttotal: 169ms\tremaining: 593ms\n",
      "222:\tlearn: 0.1746082\ttotal: 170ms\tremaining: 592ms\n",
      "223:\tlearn: 0.1731994\ttotal: 170ms\tremaining: 590ms\n",
      "224:\tlearn: 0.1718116\ttotal: 171ms\tremaining: 589ms\n",
      "225:\tlearn: 0.1704711\ttotal: 171ms\tremaining: 587ms\n",
      "226:\tlearn: 0.1692878\ttotal: 172ms\tremaining: 586ms\n",
      "227:\tlearn: 0.1681018\ttotal: 172ms\tremaining: 584ms\n",
      "228:\tlearn: 0.1669236\ttotal: 173ms\tremaining: 582ms\n",
      "229:\tlearn: 0.1657601\ttotal: 173ms\tremaining: 580ms\n",
      "230:\tlearn: 0.1646495\ttotal: 174ms\tremaining: 579ms\n",
      "231:\tlearn: 0.1636694\ttotal: 174ms\tremaining: 577ms\n",
      "232:\tlearn: 0.1623850\ttotal: 175ms\tremaining: 576ms\n",
      "233:\tlearn: 0.1614432\ttotal: 175ms\tremaining: 574ms\n",
      "234:\tlearn: 0.1602118\ttotal: 176ms\tremaining: 572ms\n",
      "235:\tlearn: 0.1590061\ttotal: 176ms\tremaining: 571ms\n",
      "236:\tlearn: 0.1580137\ttotal: 177ms\tremaining: 569ms\n",
      "237:\tlearn: 0.1568604\ttotal: 177ms\tremaining: 568ms\n",
      "238:\tlearn: 0.1556521\ttotal: 178ms\tremaining: 566ms\n",
      "239:\tlearn: 0.1548224\ttotal: 178ms\tremaining: 564ms\n",
      "240:\tlearn: 0.1538781\ttotal: 179ms\tremaining: 563ms\n",
      "241:\tlearn: 0.1528164\ttotal: 179ms\tremaining: 561ms\n",
      "242:\tlearn: 0.1515628\ttotal: 180ms\tremaining: 560ms\n",
      "243:\tlearn: 0.1505390\ttotal: 180ms\tremaining: 558ms\n",
      "244:\tlearn: 0.1497562\ttotal: 180ms\tremaining: 556ms\n",
      "245:\tlearn: 0.1485643\ttotal: 181ms\tremaining: 554ms\n",
      "246:\tlearn: 0.1475496\ttotal: 181ms\tremaining: 553ms\n",
      "247:\tlearn: 0.1466068\ttotal: 182ms\tremaining: 552ms\n",
      "248:\tlearn: 0.1455395\ttotal: 182ms\tremaining: 550ms\n",
      "249:\tlearn: 0.1447740\ttotal: 183ms\tremaining: 548ms\n",
      "250:\tlearn: 0.1439623\ttotal: 183ms\tremaining: 547ms\n",
      "251:\tlearn: 0.1431087\ttotal: 184ms\tremaining: 545ms\n",
      "252:\tlearn: 0.1421606\ttotal: 184ms\tremaining: 544ms\n",
      "253:\tlearn: 0.1410924\ttotal: 185ms\tremaining: 542ms\n",
      "254:\tlearn: 0.1399300\ttotal: 185ms\tremaining: 540ms\n",
      "255:\tlearn: 0.1388012\ttotal: 185ms\tremaining: 539ms\n",
      "256:\tlearn: 0.1378139\ttotal: 186ms\tremaining: 537ms\n",
      "257:\tlearn: 0.1370495\ttotal: 186ms\tremaining: 536ms\n"
     ]
    },
    {
     "name": "stdout",
     "output_type": "stream",
     "text": [
      "258:\tlearn: 0.1362349\ttotal: 187ms\tremaining: 535ms\n",
      "259:\tlearn: 0.1353060\ttotal: 188ms\tremaining: 534ms\n",
      "260:\tlearn: 0.1341378\ttotal: 188ms\tremaining: 533ms\n",
      "261:\tlearn: 0.1331693\ttotal: 188ms\tremaining: 531ms\n",
      "262:\tlearn: 0.1325947\ttotal: 189ms\tremaining: 529ms\n",
      "263:\tlearn: 0.1315943\ttotal: 189ms\tremaining: 528ms\n",
      "264:\tlearn: 0.1307283\ttotal: 190ms\tremaining: 527ms\n",
      "265:\tlearn: 0.1297432\ttotal: 191ms\tremaining: 526ms\n",
      "266:\tlearn: 0.1289892\ttotal: 191ms\tremaining: 524ms\n",
      "267:\tlearn: 0.1281037\ttotal: 191ms\tremaining: 523ms\n",
      "268:\tlearn: 0.1276499\ttotal: 192ms\tremaining: 521ms\n",
      "269:\tlearn: 0.1270728\ttotal: 192ms\tremaining: 520ms\n",
      "270:\tlearn: 0.1262762\ttotal: 193ms\tremaining: 519ms\n",
      "271:\tlearn: 0.1254384\ttotal: 193ms\tremaining: 517ms\n",
      "272:\tlearn: 0.1243868\ttotal: 194ms\tremaining: 516ms\n",
      "273:\tlearn: 0.1235377\ttotal: 194ms\tremaining: 515ms\n",
      "274:\tlearn: 0.1228433\ttotal: 195ms\tremaining: 514ms\n",
      "275:\tlearn: 0.1219363\ttotal: 195ms\tremaining: 513ms\n",
      "276:\tlearn: 0.1210199\ttotal: 196ms\tremaining: 512ms\n",
      "277:\tlearn: 0.1201947\ttotal: 196ms\tremaining: 510ms\n",
      "278:\tlearn: 0.1193635\ttotal: 197ms\tremaining: 509ms\n",
      "279:\tlearn: 0.1189212\ttotal: 198ms\tremaining: 508ms\n",
      "280:\tlearn: 0.1184183\ttotal: 198ms\tremaining: 507ms\n",
      "281:\tlearn: 0.1179470\ttotal: 199ms\tremaining: 506ms\n",
      "282:\tlearn: 0.1176050\ttotal: 199ms\tremaining: 504ms\n",
      "283:\tlearn: 0.1168928\ttotal: 200ms\tremaining: 503ms\n",
      "284:\tlearn: 0.1165786\ttotal: 200ms\tremaining: 502ms\n",
      "285:\tlearn: 0.1159956\ttotal: 201ms\tremaining: 501ms\n",
      "286:\tlearn: 0.1154724\ttotal: 201ms\tremaining: 500ms\n",
      "287:\tlearn: 0.1152205\ttotal: 202ms\tremaining: 498ms\n",
      "288:\tlearn: 0.1145043\ttotal: 202ms\tremaining: 498ms\n",
      "289:\tlearn: 0.1141026\ttotal: 203ms\tremaining: 496ms\n",
      "290:\tlearn: 0.1137575\ttotal: 203ms\tremaining: 495ms\n",
      "291:\tlearn: 0.1130226\ttotal: 204ms\tremaining: 494ms\n",
      "292:\tlearn: 0.1123576\ttotal: 204ms\tremaining: 492ms\n",
      "293:\tlearn: 0.1119363\ttotal: 205ms\tremaining: 492ms\n",
      "294:\tlearn: 0.1112784\ttotal: 205ms\tremaining: 490ms\n",
      "295:\tlearn: 0.1107781\ttotal: 206ms\tremaining: 489ms\n",
      "296:\tlearn: 0.1100825\ttotal: 206ms\tremaining: 488ms\n",
      "297:\tlearn: 0.1092574\ttotal: 207ms\tremaining: 487ms\n",
      "298:\tlearn: 0.1085968\ttotal: 207ms\tremaining: 486ms\n",
      "299:\tlearn: 0.1079045\ttotal: 208ms\tremaining: 485ms\n",
      "300:\tlearn: 0.1071658\ttotal: 208ms\tremaining: 484ms\n",
      "301:\tlearn: 0.1066464\ttotal: 209ms\tremaining: 483ms\n",
      "302:\tlearn: 0.1059551\ttotal: 209ms\tremaining: 482ms\n",
      "303:\tlearn: 0.1052542\ttotal: 210ms\tremaining: 480ms\n",
      "304:\tlearn: 0.1045232\ttotal: 210ms\tremaining: 480ms\n",
      "305:\tlearn: 0.1039274\ttotal: 211ms\tremaining: 478ms\n",
      "306:\tlearn: 0.1036166\ttotal: 211ms\tremaining: 477ms\n",
      "307:\tlearn: 0.1033756\ttotal: 212ms\tremaining: 476ms\n",
      "308:\tlearn: 0.1027238\ttotal: 213ms\tremaining: 475ms\n",
      "309:\tlearn: 0.1024754\ttotal: 213ms\tremaining: 475ms\n",
      "310:\tlearn: 0.1018386\ttotal: 214ms\tremaining: 473ms\n",
      "311:\tlearn: 0.1015261\ttotal: 214ms\tremaining: 472ms\n",
      "312:\tlearn: 0.1012851\ttotal: 215ms\tremaining: 471ms\n",
      "313:\tlearn: 0.1009417\ttotal: 215ms\tremaining: 470ms\n",
      "314:\tlearn: 0.1005178\ttotal: 216ms\tremaining: 470ms\n",
      "315:\tlearn: 0.1001763\ttotal: 216ms\tremaining: 468ms\n",
      "316:\tlearn: 0.0995148\ttotal: 217ms\tremaining: 467ms\n",
      "317:\tlearn: 0.0992224\ttotal: 217ms\tremaining: 466ms\n",
      "318:\tlearn: 0.0988923\ttotal: 218ms\tremaining: 465ms\n",
      "319:\tlearn: 0.0983296\ttotal: 219ms\tremaining: 465ms\n",
      "320:\tlearn: 0.0976986\ttotal: 219ms\tremaining: 464ms\n",
      "321:\tlearn: 0.0970797\ttotal: 220ms\tremaining: 463ms\n",
      "322:\tlearn: 0.0963668\ttotal: 220ms\tremaining: 462ms\n",
      "323:\tlearn: 0.0956894\ttotal: 221ms\tremaining: 461ms\n",
      "324:\tlearn: 0.0949374\ttotal: 221ms\tremaining: 460ms\n",
      "325:\tlearn: 0.0946636\ttotal: 222ms\tremaining: 459ms\n",
      "326:\tlearn: 0.0944507\ttotal: 222ms\tremaining: 458ms\n",
      "327:\tlearn: 0.0937746\ttotal: 223ms\tremaining: 457ms\n",
      "328:\tlearn: 0.0931148\ttotal: 223ms\tremaining: 455ms\n",
      "329:\tlearn: 0.0928512\ttotal: 224ms\tremaining: 455ms\n",
      "330:\tlearn: 0.0925647\ttotal: 224ms\tremaining: 453ms\n",
      "331:\tlearn: 0.0922824\ttotal: 225ms\tremaining: 453ms\n",
      "332:\tlearn: 0.0915607\ttotal: 225ms\tremaining: 451ms\n",
      "333:\tlearn: 0.0909525\ttotal: 226ms\tremaining: 450ms\n",
      "334:\tlearn: 0.0903152\ttotal: 226ms\tremaining: 449ms\n",
      "335:\tlearn: 0.0896208\ttotal: 227ms\tremaining: 448ms\n",
      "336:\tlearn: 0.0894235\ttotal: 227ms\tremaining: 447ms\n",
      "337:\tlearn: 0.0888964\ttotal: 228ms\tremaining: 446ms\n",
      "338:\tlearn: 0.0887167\ttotal: 228ms\tremaining: 445ms\n",
      "339:\tlearn: 0.0881463\ttotal: 229ms\tremaining: 444ms\n",
      "340:\tlearn: 0.0874826\ttotal: 229ms\tremaining: 443ms\n",
      "341:\tlearn: 0.0868299\ttotal: 230ms\tremaining: 442ms\n",
      "342:\tlearn: 0.0863991\ttotal: 231ms\tremaining: 442ms\n",
      "343:\tlearn: 0.0859053\ttotal: 231ms\tremaining: 441ms\n",
      "344:\tlearn: 0.0853173\ttotal: 231ms\tremaining: 439ms\n",
      "345:\tlearn: 0.0848321\ttotal: 232ms\tremaining: 438ms\n",
      "346:\tlearn: 0.0846040\ttotal: 232ms\tremaining: 437ms\n",
      "347:\tlearn: 0.0840320\ttotal: 233ms\tremaining: 436ms\n",
      "348:\tlearn: 0.0834281\ttotal: 233ms\tremaining: 435ms\n",
      "349:\tlearn: 0.0828345\ttotal: 234ms\tremaining: 434ms\n",
      "350:\tlearn: 0.0825885\ttotal: 234ms\tremaining: 433ms\n",
      "351:\tlearn: 0.0824141\ttotal: 234ms\tremaining: 432ms\n",
      "352:\tlearn: 0.0818680\ttotal: 235ms\tremaining: 431ms\n",
      "353:\tlearn: 0.0813303\ttotal: 235ms\tremaining: 430ms\n",
      "354:\tlearn: 0.0808043\ttotal: 236ms\tremaining: 428ms\n",
      "355:\tlearn: 0.0801940\ttotal: 236ms\tremaining: 427ms\n",
      "356:\tlearn: 0.0796152\ttotal: 237ms\tremaining: 426ms\n",
      "357:\tlearn: 0.0790748\ttotal: 237ms\tremaining: 425ms\n",
      "358:\tlearn: 0.0785075\ttotal: 238ms\tremaining: 424ms\n",
      "359:\tlearn: 0.0779592\ttotal: 238ms\tremaining: 423ms\n",
      "360:\tlearn: 0.0774549\ttotal: 239ms\tremaining: 422ms\n",
      "361:\tlearn: 0.0768934\ttotal: 239ms\tremaining: 421ms\n",
      "362:\tlearn: 0.0764446\ttotal: 239ms\tremaining: 420ms\n",
      "363:\tlearn: 0.0760070\ttotal: 240ms\tremaining: 419ms\n",
      "364:\tlearn: 0.0755255\ttotal: 240ms\tremaining: 418ms\n",
      "365:\tlearn: 0.0751498\ttotal: 241ms\tremaining: 417ms\n",
      "366:\tlearn: 0.0745973\ttotal: 241ms\tremaining: 416ms\n",
      "367:\tlearn: 0.0741742\ttotal: 241ms\tremaining: 415ms\n",
      "368:\tlearn: 0.0737050\ttotal: 242ms\tremaining: 414ms\n",
      "369:\tlearn: 0.0731902\ttotal: 242ms\tremaining: 413ms\n",
      "370:\tlearn: 0.0726689\ttotal: 243ms\tremaining: 412ms\n",
      "371:\tlearn: 0.0721593\ttotal: 243ms\tremaining: 411ms\n",
      "372:\tlearn: 0.0717106\ttotal: 244ms\tremaining: 410ms\n",
      "373:\tlearn: 0.0712695\ttotal: 244ms\tremaining: 409ms\n",
      "374:\tlearn: 0.0707932\ttotal: 245ms\tremaining: 408ms\n",
      "375:\tlearn: 0.0703533\ttotal: 245ms\tremaining: 407ms\n",
      "376:\tlearn: 0.0699532\ttotal: 245ms\tremaining: 406ms\n",
      "377:\tlearn: 0.0695614\ttotal: 246ms\tremaining: 405ms\n",
      "378:\tlearn: 0.0694058\ttotal: 246ms\tremaining: 404ms\n",
      "379:\tlearn: 0.0689918\ttotal: 247ms\tremaining: 403ms\n",
      "380:\tlearn: 0.0685799\ttotal: 247ms\tremaining: 402ms\n",
      "381:\tlearn: 0.0684458\ttotal: 248ms\tremaining: 401ms\n",
      "382:\tlearn: 0.0680485\ttotal: 248ms\tremaining: 400ms\n",
      "383:\tlearn: 0.0676508\ttotal: 249ms\tremaining: 399ms\n",
      "384:\tlearn: 0.0672337\ttotal: 249ms\tremaining: 398ms\n",
      "385:\tlearn: 0.0668259\ttotal: 250ms\tremaining: 398ms\n",
      "386:\tlearn: 0.0664761\ttotal: 250ms\tremaining: 396ms\n",
      "387:\tlearn: 0.0661867\ttotal: 251ms\tremaining: 395ms\n",
      "388:\tlearn: 0.0658476\ttotal: 251ms\tremaining: 394ms\n",
      "389:\tlearn: 0.0657235\ttotal: 251ms\tremaining: 393ms\n",
      "390:\tlearn: 0.0656070\ttotal: 252ms\tremaining: 392ms\n",
      "391:\tlearn: 0.0653280\ttotal: 252ms\tremaining: 391ms\n",
      "392:\tlearn: 0.0650153\ttotal: 253ms\tremaining: 391ms\n",
      "393:\tlearn: 0.0648781\ttotal: 253ms\tremaining: 390ms\n",
      "394:\tlearn: 0.0645424\ttotal: 254ms\tremaining: 389ms\n",
      "395:\tlearn: 0.0644258\ttotal: 254ms\tremaining: 388ms\n",
      "396:\tlearn: 0.0643106\ttotal: 255ms\tremaining: 387ms\n",
      "397:\tlearn: 0.0639848\ttotal: 255ms\tremaining: 386ms\n",
      "398:\tlearn: 0.0637446\ttotal: 256ms\tremaining: 386ms\n",
      "399:\tlearn: 0.0636374\ttotal: 257ms\tremaining: 385ms\n",
      "400:\tlearn: 0.0632885\ttotal: 257ms\tremaining: 384ms\n",
      "401:\tlearn: 0.0629456\ttotal: 258ms\tremaining: 383ms\n",
      "402:\tlearn: 0.0626028\ttotal: 258ms\tremaining: 382ms\n",
      "403:\tlearn: 0.0624997\ttotal: 259ms\tremaining: 381ms\n",
      "404:\tlearn: 0.0621571\ttotal: 259ms\tremaining: 380ms\n",
      "405:\tlearn: 0.0620328\ttotal: 259ms\tremaining: 379ms\n",
      "406:\tlearn: 0.0617029\ttotal: 260ms\tremaining: 379ms\n",
      "407:\tlearn: 0.0614731\ttotal: 260ms\tremaining: 378ms\n",
      "408:\tlearn: 0.0613748\ttotal: 261ms\tremaining: 377ms\n",
      "409:\tlearn: 0.0609815\ttotal: 261ms\tremaining: 376ms\n",
      "410:\tlearn: 0.0607310\ttotal: 262ms\tremaining: 375ms\n",
      "411:\tlearn: 0.0603090\ttotal: 262ms\tremaining: 375ms\n",
      "412:\tlearn: 0.0598935\ttotal: 263ms\tremaining: 374ms\n",
      "413:\tlearn: 0.0594857\ttotal: 263ms\tremaining: 373ms\n",
      "414:\tlearn: 0.0591267\ttotal: 264ms\tremaining: 372ms\n",
      "415:\tlearn: 0.0587294\ttotal: 264ms\tremaining: 371ms\n",
      "416:\tlearn: 0.0584013\ttotal: 265ms\tremaining: 370ms\n",
      "417:\tlearn: 0.0580493\ttotal: 265ms\tremaining: 370ms\n",
      "418:\tlearn: 0.0579558\ttotal: 266ms\tremaining: 369ms\n",
      "419:\tlearn: 0.0576109\ttotal: 266ms\tremaining: 368ms\n",
      "420:\tlearn: 0.0574980\ttotal: 267ms\tremaining: 367ms\n",
      "421:\tlearn: 0.0571642\ttotal: 267ms\tremaining: 366ms\n",
      "422:\tlearn: 0.0568501\ttotal: 268ms\tremaining: 365ms\n",
      "423:\tlearn: 0.0565188\ttotal: 268ms\tremaining: 364ms\n",
      "424:\tlearn: 0.0562105\ttotal: 269ms\tremaining: 364ms\n",
      "425:\tlearn: 0.0561018\ttotal: 269ms\tremaining: 363ms\n",
      "426:\tlearn: 0.0557802\ttotal: 270ms\tremaining: 362ms\n",
      "427:\tlearn: 0.0554809\ttotal: 270ms\tremaining: 361ms\n",
      "428:\tlearn: 0.0551266\ttotal: 271ms\tremaining: 361ms\n",
      "429:\tlearn: 0.0548155\ttotal: 271ms\tremaining: 360ms\n",
      "430:\tlearn: 0.0544683\ttotal: 272ms\tremaining: 359ms\n",
      "431:\tlearn: 0.0541265\ttotal: 272ms\tremaining: 358ms\n",
      "432:\tlearn: 0.0538424\ttotal: 273ms\tremaining: 357ms\n",
      "433:\tlearn: 0.0535078\ttotal: 273ms\tremaining: 356ms\n",
      "434:\tlearn: 0.0531783\ttotal: 274ms\tremaining: 356ms\n",
      "435:\tlearn: 0.0529037\ttotal: 274ms\tremaining: 355ms\n",
      "436:\tlearn: 0.0526184\ttotal: 275ms\tremaining: 354ms\n",
      "437:\tlearn: 0.0522992\ttotal: 275ms\tremaining: 353ms\n",
      "438:\tlearn: 0.0519286\ttotal: 276ms\tremaining: 352ms\n",
      "439:\tlearn: 0.0516238\ttotal: 276ms\tremaining: 352ms\n",
      "440:\tlearn: 0.0513103\ttotal: 277ms\tremaining: 351ms\n",
      "441:\tlearn: 0.0510518\ttotal: 277ms\tremaining: 350ms\n",
      "442:\tlearn: 0.0507455\ttotal: 278ms\tremaining: 349ms\n",
      "443:\tlearn: 0.0504032\ttotal: 278ms\tremaining: 348ms\n",
      "444:\tlearn: 0.0501110\ttotal: 279ms\tremaining: 348ms\n",
      "445:\tlearn: 0.0497905\ttotal: 279ms\tremaining: 347ms\n",
      "446:\tlearn: 0.0494582\ttotal: 280ms\tremaining: 346ms\n",
      "447:\tlearn: 0.0491226\ttotal: 280ms\tremaining: 345ms\n",
      "448:\tlearn: 0.0488881\ttotal: 281ms\tremaining: 345ms\n",
      "449:\tlearn: 0.0485662\ttotal: 281ms\tremaining: 344ms\n",
      "450:\tlearn: 0.0482471\ttotal: 282ms\tremaining: 343ms\n",
      "451:\tlearn: 0.0479905\ttotal: 282ms\tremaining: 342ms\n",
      "452:\tlearn: 0.0476986\ttotal: 283ms\tremaining: 342ms\n",
      "453:\tlearn: 0.0473890\ttotal: 283ms\tremaining: 341ms\n",
      "454:\tlearn: 0.0471057\ttotal: 284ms\tremaining: 340ms\n",
      "455:\tlearn: 0.0468861\ttotal: 284ms\tremaining: 339ms\n",
      "456:\tlearn: 0.0465864\ttotal: 285ms\tremaining: 339ms\n",
      "457:\tlearn: 0.0463726\ttotal: 285ms\tremaining: 338ms\n",
      "458:\tlearn: 0.0460803\ttotal: 286ms\tremaining: 337ms\n",
      "459:\tlearn: 0.0457652\ttotal: 287ms\tremaining: 336ms\n",
      "460:\tlearn: 0.0455461\ttotal: 287ms\tremaining: 336ms\n",
      "461:\tlearn: 0.0453887\ttotal: 288ms\tremaining: 335ms\n",
      "462:\tlearn: 0.0451067\ttotal: 288ms\tremaining: 334ms\n",
      "463:\tlearn: 0.0448766\ttotal: 289ms\tremaining: 334ms\n",
      "464:\tlearn: 0.0446763\ttotal: 289ms\tremaining: 333ms\n",
      "465:\tlearn: 0.0443854\ttotal: 290ms\tremaining: 332ms\n",
      "466:\tlearn: 0.0440724\ttotal: 290ms\tremaining: 331ms\n",
      "467:\tlearn: 0.0437652\ttotal: 291ms\tremaining: 331ms\n"
     ]
    },
    {
     "name": "stdout",
     "output_type": "stream",
     "text": [
      "468:\tlearn: 0.0435665\ttotal: 292ms\tremaining: 330ms\n",
      "469:\tlearn: 0.0433728\ttotal: 292ms\tremaining: 330ms\n",
      "470:\tlearn: 0.0431279\ttotal: 293ms\tremaining: 329ms\n",
      "471:\tlearn: 0.0429848\ttotal: 293ms\tremaining: 328ms\n",
      "472:\tlearn: 0.0427468\ttotal: 294ms\tremaining: 327ms\n",
      "473:\tlearn: 0.0425085\ttotal: 294ms\tremaining: 327ms\n",
      "474:\tlearn: 0.0423696\ttotal: 295ms\tremaining: 326ms\n",
      "475:\tlearn: 0.0421397\ttotal: 295ms\tremaining: 325ms\n",
      "476:\tlearn: 0.0418582\ttotal: 296ms\tremaining: 324ms\n",
      "477:\tlearn: 0.0417237\ttotal: 296ms\tremaining: 323ms\n",
      "478:\tlearn: 0.0414980\ttotal: 297ms\tremaining: 323ms\n",
      "479:\tlearn: 0.0414233\ttotal: 297ms\tremaining: 322ms\n",
      "480:\tlearn: 0.0412017\ttotal: 297ms\tremaining: 321ms\n",
      "481:\tlearn: 0.0411282\ttotal: 298ms\tremaining: 320ms\n",
      "482:\tlearn: 0.0409216\ttotal: 298ms\tremaining: 319ms\n",
      "483:\tlearn: 0.0407939\ttotal: 299ms\tremaining: 319ms\n",
      "484:\tlearn: 0.0407226\ttotal: 299ms\tremaining: 318ms\n",
      "485:\tlearn: 0.0405072\ttotal: 300ms\tremaining: 317ms\n",
      "486:\tlearn: 0.0404371\ttotal: 300ms\tremaining: 317ms\n",
      "487:\tlearn: 0.0402830\ttotal: 301ms\tremaining: 316ms\n",
      "488:\tlearn: 0.0400152\ttotal: 301ms\tremaining: 315ms\n",
      "489:\tlearn: 0.0398645\ttotal: 302ms\tremaining: 314ms\n",
      "490:\tlearn: 0.0396569\ttotal: 302ms\tremaining: 313ms\n",
      "491:\tlearn: 0.0394945\ttotal: 303ms\tremaining: 313ms\n",
      "492:\tlearn: 0.0394268\ttotal: 303ms\tremaining: 312ms\n",
      "493:\tlearn: 0.0392509\ttotal: 304ms\tremaining: 311ms\n",
      "494:\tlearn: 0.0391328\ttotal: 304ms\tremaining: 310ms\n",
      "495:\tlearn: 0.0388778\ttotal: 305ms\tremaining: 310ms\n",
      "496:\tlearn: 0.0387625\ttotal: 305ms\tremaining: 309ms\n",
      "497:\tlearn: 0.0386073\ttotal: 306ms\tremaining: 308ms\n",
      "498:\tlearn: 0.0385430\ttotal: 306ms\tremaining: 308ms\n",
      "499:\tlearn: 0.0384795\ttotal: 307ms\tremaining: 307ms\n",
      "500:\tlearn: 0.0382832\ttotal: 307ms\tremaining: 306ms\n",
      "501:\tlearn: 0.0381770\ttotal: 309ms\tremaining: 306ms\n",
      "502:\tlearn: 0.0381153\ttotal: 309ms\tremaining: 305ms\n",
      "503:\tlearn: 0.0379124\ttotal: 310ms\tremaining: 305ms\n",
      "504:\tlearn: 0.0377462\ttotal: 310ms\tremaining: 304ms\n",
      "505:\tlearn: 0.0375483\ttotal: 311ms\tremaining: 303ms\n",
      "506:\tlearn: 0.0373545\ttotal: 311ms\tremaining: 303ms\n",
      "507:\tlearn: 0.0372947\ttotal: 312ms\tremaining: 302ms\n",
      "508:\tlearn: 0.0370647\ttotal: 312ms\tremaining: 301ms\n",
      "509:\tlearn: 0.0369386\ttotal: 313ms\tremaining: 300ms\n",
      "510:\tlearn: 0.0367964\ttotal: 313ms\tremaining: 300ms\n",
      "511:\tlearn: 0.0366966\ttotal: 313ms\tremaining: 299ms\n",
      "512:\tlearn: 0.0365141\ttotal: 314ms\tremaining: 298ms\n",
      "513:\tlearn: 0.0364170\ttotal: 314ms\tremaining: 297ms\n",
      "514:\tlearn: 0.0363624\ttotal: 315ms\tremaining: 296ms\n",
      "515:\tlearn: 0.0362674\ttotal: 315ms\tremaining: 296ms\n",
      "516:\tlearn: 0.0361108\ttotal: 315ms\tremaining: 295ms\n",
      "517:\tlearn: 0.0359136\ttotal: 316ms\tremaining: 294ms\n",
      "518:\tlearn: 0.0358333\ttotal: 316ms\tremaining: 293ms\n",
      "519:\tlearn: 0.0357789\ttotal: 317ms\tremaining: 292ms\n",
      "520:\tlearn: 0.0355861\ttotal: 317ms\tremaining: 292ms\n",
      "521:\tlearn: 0.0355326\ttotal: 318ms\tremaining: 291ms\n",
      "522:\tlearn: 0.0353999\ttotal: 318ms\tremaining: 290ms\n",
      "523:\tlearn: 0.0352856\ttotal: 319ms\tremaining: 289ms\n",
      "524:\tlearn: 0.0352080\ttotal: 319ms\tremaining: 289ms\n",
      "525:\tlearn: 0.0350789\ttotal: 319ms\tremaining: 288ms\n",
      "526:\tlearn: 0.0349673\ttotal: 320ms\tremaining: 287ms\n",
      "527:\tlearn: 0.0347749\ttotal: 320ms\tremaining: 286ms\n",
      "528:\tlearn: 0.0345882\ttotal: 321ms\tremaining: 286ms\n",
      "529:\tlearn: 0.0344047\ttotal: 321ms\tremaining: 285ms\n",
      "530:\tlearn: 0.0343542\ttotal: 322ms\tremaining: 284ms\n",
      "531:\tlearn: 0.0342793\ttotal: 322ms\tremaining: 284ms\n",
      "532:\tlearn: 0.0340926\ttotal: 323ms\tremaining: 283ms\n",
      "533:\tlearn: 0.0340394\ttotal: 323ms\tremaining: 282ms\n",
      "534:\tlearn: 0.0339905\ttotal: 324ms\tremaining: 281ms\n",
      "535:\tlearn: 0.0338833\ttotal: 324ms\tremaining: 281ms\n",
      "536:\tlearn: 0.0337084\ttotal: 325ms\tremaining: 280ms\n",
      "537:\tlearn: 0.0335374\ttotal: 325ms\tremaining: 279ms\n",
      "538:\tlearn: 0.0334901\ttotal: 326ms\tremaining: 279ms\n",
      "539:\tlearn: 0.0334176\ttotal: 326ms\tremaining: 278ms\n",
      "540:\tlearn: 0.0333711\ttotal: 327ms\tremaining: 277ms\n",
      "541:\tlearn: 0.0332669\ttotal: 327ms\tremaining: 277ms\n",
      "542:\tlearn: 0.0330920\ttotal: 328ms\tremaining: 276ms\n",
      "543:\tlearn: 0.0330462\ttotal: 328ms\tremaining: 275ms\n",
      "544:\tlearn: 0.0329757\ttotal: 329ms\tremaining: 274ms\n",
      "545:\tlearn: 0.0328189\ttotal: 329ms\tremaining: 274ms\n",
      "546:\tlearn: 0.0327178\ttotal: 330ms\tremaining: 273ms\n",
      "547:\tlearn: 0.0326828\ttotal: 330ms\tremaining: 272ms\n",
      "548:\tlearn: 0.0326482\ttotal: 331ms\tremaining: 272ms\n",
      "549:\tlearn: 0.0325496\ttotal: 331ms\tremaining: 271ms\n",
      "550:\tlearn: 0.0324711\ttotal: 331ms\tremaining: 270ms\n",
      "551:\tlearn: 0.0324248\ttotal: 332ms\tremaining: 269ms\n",
      "552:\tlearn: 0.0323491\ttotal: 332ms\tremaining: 269ms\n",
      "553:\tlearn: 0.0323042\ttotal: 333ms\tremaining: 268ms\n",
      "554:\tlearn: 0.0322354\ttotal: 333ms\tremaining: 267ms\n",
      "555:\tlearn: 0.0321402\ttotal: 334ms\tremaining: 267ms\n",
      "556:\tlearn: 0.0320964\ttotal: 334ms\tremaining: 266ms\n",
      "557:\tlearn: 0.0320533\ttotal: 335ms\tremaining: 265ms\n",
      "558:\tlearn: 0.0319821\ttotal: 336ms\tremaining: 265ms\n",
      "559:\tlearn: 0.0318897\ttotal: 336ms\tremaining: 264ms\n",
      "560:\tlearn: 0.0318481\ttotal: 337ms\tremaining: 263ms\n",
      "561:\tlearn: 0.0317649\ttotal: 337ms\tremaining: 263ms\n",
      "562:\tlearn: 0.0317242\ttotal: 338ms\tremaining: 262ms\n",
      "563:\tlearn: 0.0316568\ttotal: 338ms\tremaining: 261ms\n",
      "564:\tlearn: 0.0315760\ttotal: 339ms\tremaining: 261ms\n",
      "565:\tlearn: 0.0315368\ttotal: 339ms\tremaining: 260ms\n",
      "566:\tlearn: 0.0314983\ttotal: 340ms\tremaining: 259ms\n",
      "567:\tlearn: 0.0314321\ttotal: 340ms\tremaining: 259ms\n",
      "568:\tlearn: 0.0313754\ttotal: 341ms\tremaining: 258ms\n",
      "569:\tlearn: 0.0313384\ttotal: 341ms\tremaining: 257ms\n",
      "570:\tlearn: 0.0313020\ttotal: 342ms\tremaining: 257ms\n",
      "571:\tlearn: 0.0312391\ttotal: 342ms\tremaining: 256ms\n",
      "572:\tlearn: 0.0311722\ttotal: 343ms\tremaining: 255ms\n",
      "573:\tlearn: 0.0310998\ttotal: 343ms\tremaining: 255ms\n",
      "574:\tlearn: 0.0310648\ttotal: 343ms\tremaining: 254ms\n",
      "575:\tlearn: 0.0310045\ttotal: 344ms\tremaining: 253ms\n",
      "576:\tlearn: 0.0309706\ttotal: 345ms\tremaining: 253ms\n",
      "577:\tlearn: 0.0308453\ttotal: 345ms\tremaining: 252ms\n",
      "578:\tlearn: 0.0307749\ttotal: 346ms\tremaining: 251ms\n",
      "579:\tlearn: 0.0307419\ttotal: 346ms\tremaining: 251ms\n",
      "580:\tlearn: 0.0306913\ttotal: 347ms\tremaining: 250ms\n",
      "581:\tlearn: 0.0306343\ttotal: 347ms\tremaining: 249ms\n",
      "582:\tlearn: 0.0306025\ttotal: 348ms\tremaining: 249ms\n",
      "583:\tlearn: 0.0305713\ttotal: 348ms\tremaining: 248ms\n",
      "584:\tlearn: 0.0305168\ttotal: 349ms\tremaining: 247ms\n",
      "585:\tlearn: 0.0304499\ttotal: 349ms\tremaining: 247ms\n",
      "586:\tlearn: 0.0304198\ttotal: 350ms\tremaining: 246ms\n",
      "587:\tlearn: 0.0302970\ttotal: 350ms\tremaining: 245ms\n",
      "588:\tlearn: 0.0302504\ttotal: 351ms\tremaining: 245ms\n",
      "589:\tlearn: 0.0302209\ttotal: 351ms\tremaining: 244ms\n",
      "590:\tlearn: 0.0301693\ttotal: 352ms\tremaining: 243ms\n",
      "591:\tlearn: 0.0301406\ttotal: 352ms\tremaining: 243ms\n",
      "592:\tlearn: 0.0300716\ttotal: 353ms\tremaining: 242ms\n",
      "593:\tlearn: 0.0300436\ttotal: 353ms\tremaining: 241ms\n",
      "594:\tlearn: 0.0299231\ttotal: 354ms\tremaining: 241ms\n",
      "595:\tlearn: 0.0298794\ttotal: 354ms\tremaining: 240ms\n",
      "596:\tlearn: 0.0298304\ttotal: 354ms\tremaining: 239ms\n",
      "597:\tlearn: 0.0298032\ttotal: 355ms\tremaining: 239ms\n",
      "598:\tlearn: 0.0297765\ttotal: 356ms\tremaining: 238ms\n",
      "599:\tlearn: 0.0296899\ttotal: 356ms\tremaining: 237ms\n",
      "600:\tlearn: 0.0296237\ttotal: 356ms\tremaining: 237ms\n",
      "601:\tlearn: 0.0295771\ttotal: 357ms\tremaining: 236ms\n",
      "602:\tlearn: 0.0294720\ttotal: 357ms\tremaining: 235ms\n",
      "603:\tlearn: 0.0293689\ttotal: 358ms\tremaining: 235ms\n",
      "604:\tlearn: 0.0293003\ttotal: 358ms\tremaining: 234ms\n",
      "605:\tlearn: 0.0291605\ttotal: 359ms\tremaining: 233ms\n",
      "606:\tlearn: 0.0291016\ttotal: 359ms\tremaining: 233ms\n",
      "607:\tlearn: 0.0290764\ttotal: 360ms\tremaining: 232ms\n",
      "608:\tlearn: 0.0289929\ttotal: 360ms\tremaining: 231ms\n",
      "609:\tlearn: 0.0289350\ttotal: 361ms\tremaining: 231ms\n",
      "610:\tlearn: 0.0288868\ttotal: 361ms\tremaining: 230ms\n",
      "611:\tlearn: 0.0288262\ttotal: 362ms\tremaining: 229ms\n",
      "612:\tlearn: 0.0287829\ttotal: 362ms\tremaining: 229ms\n",
      "613:\tlearn: 0.0286849\ttotal: 363ms\tremaining: 228ms\n",
      "614:\tlearn: 0.0286259\ttotal: 363ms\tremaining: 227ms\n",
      "615:\tlearn: 0.0285796\ttotal: 364ms\tremaining: 227ms\n",
      "616:\tlearn: 0.0285196\ttotal: 364ms\tremaining: 226ms\n",
      "617:\tlearn: 0.0284615\ttotal: 365ms\tremaining: 225ms\n",
      "618:\tlearn: 0.0284381\ttotal: 365ms\tremaining: 225ms\n",
      "619:\tlearn: 0.0284034\ttotal: 366ms\tremaining: 224ms\n",
      "620:\tlearn: 0.0283088\ttotal: 366ms\tremaining: 223ms\n",
      "621:\tlearn: 0.0282643\ttotal: 367ms\tremaining: 223ms\n",
      "622:\tlearn: 0.0282055\ttotal: 367ms\tremaining: 222ms\n",
      "623:\tlearn: 0.0281543\ttotal: 368ms\tremaining: 222ms\n",
      "624:\tlearn: 0.0281042\ttotal: 368ms\tremaining: 221ms\n",
      "625:\tlearn: 0.0280666\ttotal: 369ms\tremaining: 220ms\n",
      "626:\tlearn: 0.0280304\ttotal: 369ms\tremaining: 219ms\n"
     ]
    },
    {
     "name": "stdout",
     "output_type": "stream",
     "text": [
      "627:\tlearn: 0.0279376\ttotal: 369ms\tremaining: 219ms\n",
      "628:\tlearn: 0.0279194\ttotal: 370ms\tremaining: 218ms\n",
      "629:\tlearn: 0.0279014\ttotal: 371ms\tremaining: 218ms\n",
      "630:\tlearn: 0.0278669\ttotal: 371ms\tremaining: 217ms\n",
      "631:\tlearn: 0.0277936\ttotal: 371ms\tremaining: 216ms\n",
      "632:\tlearn: 0.0277026\ttotal: 372ms\tremaining: 216ms\n",
      "633:\tlearn: 0.0276308\ttotal: 372ms\tremaining: 215ms\n",
      "634:\tlearn: 0.0275764\ttotal: 373ms\tremaining: 214ms\n",
      "635:\tlearn: 0.0274549\ttotal: 373ms\tremaining: 214ms\n",
      "636:\tlearn: 0.0274097\ttotal: 374ms\tremaining: 213ms\n",
      "637:\tlearn: 0.0273656\ttotal: 374ms\tremaining: 212ms\n",
      "638:\tlearn: 0.0273098\ttotal: 375ms\tremaining: 212ms\n",
      "639:\tlearn: 0.0272663\ttotal: 375ms\tremaining: 211ms\n",
      "640:\tlearn: 0.0271063\ttotal: 376ms\tremaining: 211ms\n",
      "641:\tlearn: 0.0270542\ttotal: 376ms\tremaining: 210ms\n",
      "642:\tlearn: 0.0270115\ttotal: 377ms\tremaining: 209ms\n",
      "643:\tlearn: 0.0268552\ttotal: 377ms\tremaining: 209ms\n",
      "644:\tlearn: 0.0268043\ttotal: 378ms\tremaining: 208ms\n",
      "645:\tlearn: 0.0267635\ttotal: 378ms\tremaining: 207ms\n",
      "646:\tlearn: 0.0266104\ttotal: 379ms\tremaining: 207ms\n",
      "647:\tlearn: 0.0265554\ttotal: 379ms\tremaining: 206ms\n",
      "648:\tlearn: 0.0265056\ttotal: 380ms\tremaining: 205ms\n",
      "649:\tlearn: 0.0264828\ttotal: 380ms\tremaining: 205ms\n",
      "650:\tlearn: 0.0264656\ttotal: 381ms\tremaining: 204ms\n",
      "651:\tlearn: 0.0264164\ttotal: 381ms\tremaining: 203ms\n",
      "652:\tlearn: 0.0263940\ttotal: 382ms\tremaining: 203ms\n",
      "653:\tlearn: 0.0263016\ttotal: 382ms\tremaining: 202ms\n",
      "654:\tlearn: 0.0262612\ttotal: 383ms\tremaining: 202ms\n",
      "655:\tlearn: 0.0262129\ttotal: 383ms\tremaining: 201ms\n",
      "656:\tlearn: 0.0261910\ttotal: 384ms\tremaining: 200ms\n",
      "657:\tlearn: 0.0261012\ttotal: 384ms\tremaining: 200ms\n",
      "658:\tlearn: 0.0260619\ttotal: 385ms\tremaining: 199ms\n",
      "659:\tlearn: 0.0260144\ttotal: 385ms\tremaining: 198ms\n",
      "660:\tlearn: 0.0259931\ttotal: 385ms\tremaining: 198ms\n",
      "661:\tlearn: 0.0258478\ttotal: 386ms\tremaining: 197ms\n",
      "662:\tlearn: 0.0257764\ttotal: 387ms\tremaining: 196ms\n",
      "663:\tlearn: 0.0257183\ttotal: 387ms\tremaining: 196ms\n",
      "664:\tlearn: 0.0256803\ttotal: 388ms\tremaining: 195ms\n",
      "665:\tlearn: 0.0255621\ttotal: 388ms\tremaining: 195ms\n",
      "666:\tlearn: 0.0255414\ttotal: 389ms\tremaining: 194ms\n",
      "667:\tlearn: 0.0254729\ttotal: 389ms\tremaining: 193ms\n",
      "668:\tlearn: 0.0254140\ttotal: 389ms\tremaining: 193ms\n",
      "669:\tlearn: 0.0253582\ttotal: 390ms\tremaining: 192ms\n",
      "670:\tlearn: 0.0253214\ttotal: 390ms\tremaining: 191ms\n",
      "671:\tlearn: 0.0251754\ttotal: 391ms\tremaining: 191ms\n",
      "672:\tlearn: 0.0251177\ttotal: 391ms\tremaining: 190ms\n",
      "673:\tlearn: 0.0250978\ttotal: 392ms\tremaining: 189ms\n",
      "674:\tlearn: 0.0250409\ttotal: 392ms\tremaining: 189ms\n",
      "675:\tlearn: 0.0250053\ttotal: 392ms\tremaining: 188ms\n",
      "676:\tlearn: 0.0249391\ttotal: 393ms\tremaining: 187ms\n",
      "677:\tlearn: 0.0248664\ttotal: 393ms\tremaining: 187ms\n",
      "678:\tlearn: 0.0248106\ttotal: 394ms\tremaining: 186ms\n",
      "679:\tlearn: 0.0247300\ttotal: 394ms\tremaining: 185ms\n",
      "680:\tlearn: 0.0247108\ttotal: 395ms\tremaining: 185ms\n",
      "681:\tlearn: 0.0246462\ttotal: 395ms\tremaining: 184ms\n",
      "682:\tlearn: 0.0245919\ttotal: 395ms\tremaining: 184ms\n",
      "683:\tlearn: 0.0245730\ttotal: 396ms\tremaining: 183ms\n",
      "684:\tlearn: 0.0245156\ttotal: 396ms\tremaining: 182ms\n",
      "685:\tlearn: 0.0244810\ttotal: 397ms\tremaining: 182ms\n",
      "686:\tlearn: 0.0244104\ttotal: 397ms\tremaining: 181ms\n",
      "687:\tlearn: 0.0243476\ttotal: 398ms\tremaining: 180ms\n",
      "688:\tlearn: 0.0242640\ttotal: 398ms\tremaining: 180ms\n",
      "689:\tlearn: 0.0241947\ttotal: 398ms\tremaining: 179ms\n",
      "690:\tlearn: 0.0241130\ttotal: 399ms\tremaining: 178ms\n",
      "691:\tlearn: 0.0239832\ttotal: 399ms\tremaining: 178ms\n",
      "692:\tlearn: 0.0238558\ttotal: 400ms\tremaining: 177ms\n",
      "693:\tlearn: 0.0237799\ttotal: 400ms\tremaining: 177ms\n",
      "694:\tlearn: 0.0237251\ttotal: 401ms\tremaining: 176ms\n",
      "695:\tlearn: 0.0236651\ttotal: 401ms\tremaining: 175ms\n",
      "696:\tlearn: 0.0236114\ttotal: 402ms\tremaining: 175ms\n",
      "697:\tlearn: 0.0235355\ttotal: 402ms\tremaining: 174ms\n",
      "698:\tlearn: 0.0234830\ttotal: 403ms\tremaining: 174ms\n",
      "699:\tlearn: 0.0233594\ttotal: 404ms\tremaining: 173ms\n",
      "700:\tlearn: 0.0233011\ttotal: 404ms\tremaining: 172ms\n",
      "701:\tlearn: 0.0232499\ttotal: 405ms\tremaining: 172ms\n",
      "702:\tlearn: 0.0231411\ttotal: 405ms\tremaining: 171ms\n",
      "703:\tlearn: 0.0230912\ttotal: 406ms\tremaining: 171ms\n",
      "704:\tlearn: 0.0230349\ttotal: 406ms\tremaining: 170ms\n",
      "705:\tlearn: 0.0229859\ttotal: 407ms\tremaining: 169ms\n",
      "706:\tlearn: 0.0229186\ttotal: 407ms\tremaining: 169ms\n",
      "707:\tlearn: 0.0228534\ttotal: 408ms\tremaining: 168ms\n",
      "708:\tlearn: 0.0227879\ttotal: 408ms\tremaining: 168ms\n",
      "709:\tlearn: 0.0227165\ttotal: 409ms\tremaining: 167ms\n",
      "710:\tlearn: 0.0226686\ttotal: 409ms\tremaining: 166ms\n",
      "711:\tlearn: 0.0225505\ttotal: 410ms\tremaining: 166ms\n",
      "712:\tlearn: 0.0224553\ttotal: 410ms\tremaining: 165ms\n",
      "713:\tlearn: 0.0223926\ttotal: 411ms\tremaining: 165ms\n",
      "714:\tlearn: 0.0223318\ttotal: 412ms\tremaining: 164ms\n",
      "715:\tlearn: 0.0222169\ttotal: 412ms\tremaining: 163ms\n",
      "716:\tlearn: 0.0221482\ttotal: 412ms\tremaining: 163ms\n",
      "717:\tlearn: 0.0220937\ttotal: 413ms\tremaining: 162ms\n",
      "718:\tlearn: 0.0220416\ttotal: 413ms\tremaining: 162ms\n",
      "719:\tlearn: 0.0219959\ttotal: 414ms\tremaining: 161ms\n",
      "720:\tlearn: 0.0218838\ttotal: 414ms\tremaining: 160ms\n",
      "721:\tlearn: 0.0217920\ttotal: 415ms\tremaining: 160ms\n",
      "722:\tlearn: 0.0217415\ttotal: 415ms\tremaining: 159ms\n",
      "723:\tlearn: 0.0216852\ttotal: 416ms\tremaining: 159ms\n",
      "724:\tlearn: 0.0215760\ttotal: 416ms\tremaining: 158ms\n",
      "725:\tlearn: 0.0214689\ttotal: 417ms\tremaining: 157ms\n",
      "726:\tlearn: 0.0213907\ttotal: 417ms\tremaining: 157ms\n",
      "727:\tlearn: 0.0213255\ttotal: 418ms\tremaining: 156ms\n",
      "728:\tlearn: 0.0212820\ttotal: 418ms\tremaining: 155ms\n",
      "729:\tlearn: 0.0212346\ttotal: 419ms\tremaining: 155ms\n",
      "730:\tlearn: 0.0211918\ttotal: 420ms\tremaining: 154ms\n",
      "731:\tlearn: 0.0211393\ttotal: 420ms\tremaining: 154ms\n",
      "732:\tlearn: 0.0210382\ttotal: 421ms\tremaining: 153ms\n",
      "733:\tlearn: 0.0209791\ttotal: 421ms\tremaining: 153ms\n",
      "734:\tlearn: 0.0208804\ttotal: 422ms\tremaining: 152ms\n",
      "735:\tlearn: 0.0208226\ttotal: 422ms\tremaining: 152ms\n",
      "736:\tlearn: 0.0207594\ttotal: 423ms\tremaining: 151ms\n",
      "737:\tlearn: 0.0207089\ttotal: 423ms\tremaining: 150ms\n",
      "738:\tlearn: 0.0206470\ttotal: 424ms\tremaining: 150ms\n",
      "739:\tlearn: 0.0206037\ttotal: 424ms\tremaining: 149ms\n",
      "740:\tlearn: 0.0205703\ttotal: 425ms\tremaining: 148ms\n",
      "741:\tlearn: 0.0205143\ttotal: 425ms\tremaining: 148ms\n",
      "742:\tlearn: 0.0204131\ttotal: 426ms\tremaining: 147ms\n",
      "743:\tlearn: 0.0203180\ttotal: 426ms\tremaining: 147ms\n",
      "744:\tlearn: 0.0201966\ttotal: 426ms\tremaining: 146ms\n",
      "745:\tlearn: 0.0200981\ttotal: 427ms\tremaining: 146ms\n",
      "746:\tlearn: 0.0200274\ttotal: 428ms\tremaining: 145ms\n",
      "747:\tlearn: 0.0199093\ttotal: 428ms\tremaining: 144ms\n",
      "748:\tlearn: 0.0198405\ttotal: 429ms\tremaining: 144ms\n",
      "749:\tlearn: 0.0197250\ttotal: 429ms\tremaining: 143ms\n",
      "750:\tlearn: 0.0196929\ttotal: 430ms\tremaining: 143ms\n",
      "751:\tlearn: 0.0196473\ttotal: 430ms\tremaining: 142ms\n",
      "752:\tlearn: 0.0195343\ttotal: 431ms\tremaining: 141ms\n",
      "753:\tlearn: 0.0195031\ttotal: 431ms\tremaining: 141ms\n",
      "754:\tlearn: 0.0194584\ttotal: 432ms\tremaining: 140ms\n",
      "755:\tlearn: 0.0194192\ttotal: 432ms\tremaining: 140ms\n",
      "756:\tlearn: 0.0193752\ttotal: 433ms\tremaining: 139ms\n",
      "757:\tlearn: 0.0192646\ttotal: 434ms\tremaining: 138ms\n",
      "758:\tlearn: 0.0192333\ttotal: 434ms\tremaining: 138ms\n",
      "759:\tlearn: 0.0191309\ttotal: 435ms\tremaining: 137ms\n",
      "760:\tlearn: 0.0191014\ttotal: 435ms\tremaining: 137ms\n",
      "761:\tlearn: 0.0190710\ttotal: 436ms\tremaining: 136ms\n",
      "762:\tlearn: 0.0190197\ttotal: 436ms\tremaining: 135ms\n",
      "763:\tlearn: 0.0189127\ttotal: 437ms\tremaining: 135ms\n",
      "764:\tlearn: 0.0188704\ttotal: 437ms\tremaining: 134ms\n",
      "765:\tlearn: 0.0187647\ttotal: 438ms\tremaining: 134ms\n",
      "766:\tlearn: 0.0186768\ttotal: 438ms\tremaining: 133ms\n",
      "767:\tlearn: 0.0185627\ttotal: 439ms\tremaining: 132ms\n",
      "768:\tlearn: 0.0185172\ttotal: 439ms\tremaining: 132ms\n",
      "769:\tlearn: 0.0184798\ttotal: 440ms\tremaining: 131ms\n",
      "770:\tlearn: 0.0184391\ttotal: 440ms\tremaining: 131ms\n",
      "771:\tlearn: 0.0183278\ttotal: 441ms\tremaining: 130ms\n",
      "772:\tlearn: 0.0183026\ttotal: 441ms\tremaining: 130ms\n",
      "773:\tlearn: 0.0182682\ttotal: 442ms\tremaining: 129ms\n",
      "774:\tlearn: 0.0181909\ttotal: 442ms\tremaining: 128ms\n",
      "775:\tlearn: 0.0180855\ttotal: 443ms\tremaining: 128ms\n",
      "776:\tlearn: 0.0180499\ttotal: 443ms\tremaining: 127ms\n",
      "777:\tlearn: 0.0180105\ttotal: 444ms\tremaining: 127ms\n",
      "778:\tlearn: 0.0179074\ttotal: 444ms\tremaining: 126ms\n",
      "779:\tlearn: 0.0178034\ttotal: 445ms\tremaining: 125ms\n",
      "780:\tlearn: 0.0177705\ttotal: 446ms\tremaining: 125ms\n",
      "781:\tlearn: 0.0176716\ttotal: 446ms\tremaining: 124ms\n",
      "782:\tlearn: 0.0176146\ttotal: 447ms\tremaining: 124ms\n",
      "783:\tlearn: 0.0175180\ttotal: 447ms\tremaining: 123ms\n",
      "784:\tlearn: 0.0174565\ttotal: 448ms\tremaining: 123ms\n",
      "785:\tlearn: 0.0174257\ttotal: 448ms\tremaining: 122ms\n",
      "786:\tlearn: 0.0173462\ttotal: 449ms\tremaining: 121ms\n",
      "787:\tlearn: 0.0173080\ttotal: 449ms\tremaining: 121ms\n",
      "788:\tlearn: 0.0172217\ttotal: 450ms\tremaining: 120ms\n",
      "789:\tlearn: 0.0171434\ttotal: 450ms\tremaining: 120ms\n",
      "790:\tlearn: 0.0171060\ttotal: 451ms\tremaining: 119ms\n",
      "791:\tlearn: 0.0170483\ttotal: 451ms\tremaining: 118ms\n",
      "792:\tlearn: 0.0169651\ttotal: 452ms\tremaining: 118ms\n",
      "793:\tlearn: 0.0169034\ttotal: 452ms\tremaining: 117ms\n",
      "794:\tlearn: 0.0168473\ttotal: 453ms\tremaining: 117ms\n",
      "795:\tlearn: 0.0167728\ttotal: 453ms\tremaining: 116ms\n",
      "796:\tlearn: 0.0167057\ttotal: 453ms\tremaining: 116ms\n",
      "797:\tlearn: 0.0166578\ttotal: 454ms\tremaining: 115ms\n",
      "798:\tlearn: 0.0166108\ttotal: 454ms\tremaining: 114ms\n",
      "799:\tlearn: 0.0165645\ttotal: 455ms\tremaining: 114ms\n",
      "800:\tlearn: 0.0165191\ttotal: 455ms\tremaining: 113ms\n",
      "801:\tlearn: 0.0164408\ttotal: 456ms\tremaining: 113ms\n",
      "802:\tlearn: 0.0163963\ttotal: 456ms\tremaining: 112ms\n",
      "803:\tlearn: 0.0163200\ttotal: 457ms\tremaining: 111ms\n",
      "804:\tlearn: 0.0162765\ttotal: 457ms\tremaining: 111ms\n",
      "805:\tlearn: 0.0162075\ttotal: 458ms\tremaining: 110ms\n",
      "806:\tlearn: 0.0161634\ttotal: 458ms\tremaining: 110ms\n",
      "807:\tlearn: 0.0161209\ttotal: 459ms\tremaining: 109ms\n",
      "808:\tlearn: 0.0160442\ttotal: 459ms\tremaining: 108ms\n",
      "809:\tlearn: 0.0160012\ttotal: 460ms\tremaining: 108ms\n",
      "810:\tlearn: 0.0159624\ttotal: 460ms\tremaining: 107ms\n",
      "811:\tlearn: 0.0158821\ttotal: 461ms\tremaining: 107ms\n",
      "812:\tlearn: 0.0158443\ttotal: 461ms\tremaining: 106ms\n",
      "813:\tlearn: 0.0157718\ttotal: 462ms\tremaining: 106ms\n",
      "814:\tlearn: 0.0157262\ttotal: 462ms\tremaining: 105ms\n",
      "815:\tlearn: 0.0156849\ttotal: 463ms\tremaining: 104ms\n",
      "816:\tlearn: 0.0156443\ttotal: 463ms\tremaining: 104ms\n",
      "817:\tlearn: 0.0155829\ttotal: 463ms\tremaining: 103ms\n",
      "818:\tlearn: 0.0155217\ttotal: 464ms\tremaining: 103ms\n",
      "819:\tlearn: 0.0154398\ttotal: 464ms\tremaining: 102ms\n",
      "820:\tlearn: 0.0153956\ttotal: 465ms\tremaining: 101ms\n",
      "821:\tlearn: 0.0153597\ttotal: 465ms\tremaining: 101ms\n",
      "822:\tlearn: 0.0153166\ttotal: 466ms\tremaining: 100ms\n",
      "823:\tlearn: 0.0152768\ttotal: 466ms\tremaining: 99.6ms\n",
      "824:\tlearn: 0.0152072\ttotal: 467ms\tremaining: 99ms\n",
      "825:\tlearn: 0.0151279\ttotal: 467ms\tremaining: 98.4ms\n",
      "826:\tlearn: 0.0150696\ttotal: 468ms\tremaining: 97.9ms\n",
      "827:\tlearn: 0.0149861\ttotal: 468ms\tremaining: 97.3ms\n",
      "828:\tlearn: 0.0149141\ttotal: 469ms\tremaining: 96.7ms\n",
      "829:\tlearn: 0.0148728\ttotal: 469ms\tremaining: 96.1ms\n",
      "830:\tlearn: 0.0148213\ttotal: 470ms\tremaining: 95.5ms\n",
      "831:\tlearn: 0.0147750\ttotal: 470ms\tremaining: 94.9ms\n",
      "832:\tlearn: 0.0147056\ttotal: 470ms\tremaining: 94.3ms\n",
      "833:\tlearn: 0.0146600\ttotal: 471ms\tremaining: 93.7ms\n",
      "834:\tlearn: 0.0146337\ttotal: 471ms\tremaining: 93.1ms\n",
      "835:\tlearn: 0.0146044\ttotal: 472ms\tremaining: 92.6ms\n",
      "836:\tlearn: 0.0145549\ttotal: 472ms\tremaining: 92ms\n",
      "837:\tlearn: 0.0145146\ttotal: 473ms\tremaining: 91.4ms\n",
      "838:\tlearn: 0.0144777\ttotal: 473ms\tremaining: 90.8ms\n",
      "839:\tlearn: 0.0144109\ttotal: 474ms\tremaining: 90.2ms\n",
      "840:\tlearn: 0.0143455\ttotal: 474ms\tremaining: 89.6ms\n"
     ]
    },
    {
     "name": "stdout",
     "output_type": "stream",
     "text": [
      "841:\tlearn: 0.0143128\ttotal: 475ms\tremaining: 89.1ms\n",
      "842:\tlearn: 0.0142479\ttotal: 475ms\tremaining: 88.5ms\n",
      "843:\tlearn: 0.0141793\ttotal: 476ms\tremaining: 88ms\n",
      "844:\tlearn: 0.0141546\ttotal: 476ms\tremaining: 87.4ms\n",
      "845:\tlearn: 0.0141304\ttotal: 477ms\tremaining: 86.8ms\n",
      "846:\tlearn: 0.0140668\ttotal: 477ms\tremaining: 86.2ms\n",
      "847:\tlearn: 0.0140277\ttotal: 478ms\tremaining: 85.6ms\n",
      "848:\tlearn: 0.0139913\ttotal: 478ms\tremaining: 85ms\n",
      "849:\tlearn: 0.0139489\ttotal: 479ms\tremaining: 84.5ms\n",
      "850:\tlearn: 0.0139131\ttotal: 479ms\tremaining: 83.9ms\n",
      "851:\tlearn: 0.0138672\ttotal: 480ms\tremaining: 83.3ms\n",
      "852:\tlearn: 0.0138441\ttotal: 480ms\tremaining: 82.8ms\n",
      "853:\tlearn: 0.0138095\ttotal: 481ms\tremaining: 82.2ms\n",
      "854:\tlearn: 0.0137649\ttotal: 481ms\tremaining: 81.6ms\n",
      "855:\tlearn: 0.0137391\ttotal: 482ms\tremaining: 81ms\n",
      "856:\tlearn: 0.0136954\ttotal: 482ms\tremaining: 80.4ms\n",
      "857:\tlearn: 0.0136621\ttotal: 483ms\tremaining: 79.9ms\n",
      "858:\tlearn: 0.0136242\ttotal: 483ms\tremaining: 79.3ms\n",
      "859:\tlearn: 0.0135572\ttotal: 484ms\tremaining: 78.7ms\n",
      "860:\tlearn: 0.0135408\ttotal: 484ms\tremaining: 78.1ms\n",
      "861:\tlearn: 0.0135072\ttotal: 484ms\tremaining: 77.6ms\n",
      "862:\tlearn: 0.0134915\ttotal: 485ms\tremaining: 77ms\n",
      "863:\tlearn: 0.0134761\ttotal: 485ms\tremaining: 76.4ms\n",
      "864:\tlearn: 0.0134390\ttotal: 486ms\tremaining: 75.8ms\n",
      "865:\tlearn: 0.0133716\ttotal: 486ms\tremaining: 75.3ms\n",
      "866:\tlearn: 0.0132899\ttotal: 487ms\tremaining: 74.7ms\n",
      "867:\tlearn: 0.0132244\ttotal: 487ms\tremaining: 74.1ms\n",
      "868:\tlearn: 0.0131668\ttotal: 488ms\tremaining: 73.5ms\n",
      "869:\tlearn: 0.0130873\ttotal: 488ms\tremaining: 73ms\n",
      "870:\tlearn: 0.0130310\ttotal: 489ms\tremaining: 72.4ms\n",
      "871:\tlearn: 0.0129533\ttotal: 489ms\tremaining: 71.8ms\n",
      "872:\tlearn: 0.0128895\ttotal: 489ms\tremaining: 71.2ms\n",
      "873:\tlearn: 0.0128209\ttotal: 490ms\tremaining: 70.6ms\n",
      "874:\tlearn: 0.0127453\ttotal: 490ms\tremaining: 70ms\n",
      "875:\tlearn: 0.0126877\ttotal: 491ms\tremaining: 69.5ms\n",
      "876:\tlearn: 0.0126139\ttotal: 491ms\tremaining: 68.9ms\n",
      "877:\tlearn: 0.0125483\ttotal: 492ms\tremaining: 68.3ms\n",
      "878:\tlearn: 0.0124762\ttotal: 492ms\tremaining: 67.8ms\n",
      "879:\tlearn: 0.0124210\ttotal: 493ms\tremaining: 67.2ms\n",
      "880:\tlearn: 0.0123572\ttotal: 493ms\tremaining: 66.6ms\n",
      "881:\tlearn: 0.0122871\ttotal: 494ms\tremaining: 66ms\n",
      "882:\tlearn: 0.0122357\ttotal: 494ms\tremaining: 65.5ms\n",
      "883:\tlearn: 0.0121744\ttotal: 494ms\tremaining: 64.9ms\n",
      "884:\tlearn: 0.0121064\ttotal: 495ms\tremaining: 64.3ms\n",
      "885:\tlearn: 0.0120569\ttotal: 495ms\tremaining: 63.7ms\n",
      "886:\tlearn: 0.0119906\ttotal: 496ms\tremaining: 63.2ms\n",
      "887:\tlearn: 0.0119317\ttotal: 496ms\tremaining: 62.6ms\n",
      "888:\tlearn: 0.0118670\ttotal: 497ms\tremaining: 62ms\n",
      "889:\tlearn: 0.0118102\ttotal: 497ms\tremaining: 61.5ms\n",
      "890:\tlearn: 0.0117546\ttotal: 498ms\tremaining: 60.9ms\n",
      "891:\tlearn: 0.0117060\ttotal: 498ms\tremaining: 60.3ms\n",
      "892:\tlearn: 0.0116424\ttotal: 499ms\tremaining: 59.8ms\n",
      "893:\tlearn: 0.0115858\ttotal: 499ms\tremaining: 59.2ms\n",
      "894:\tlearn: 0.0115237\ttotal: 500ms\tremaining: 58.6ms\n",
      "895:\tlearn: 0.0114765\ttotal: 500ms\tremaining: 58.1ms\n",
      "896:\tlearn: 0.0114313\ttotal: 501ms\tremaining: 57.5ms\n",
      "897:\tlearn: 0.0113704\ttotal: 501ms\tremaining: 57ms\n",
      "898:\tlearn: 0.0113261\ttotal: 502ms\tremaining: 56.4ms\n",
      "899:\tlearn: 0.0112783\ttotal: 502ms\tremaining: 55.8ms\n",
      "900:\tlearn: 0.0112216\ttotal: 503ms\tremaining: 55.3ms\n",
      "901:\tlearn: 0.0111683\ttotal: 503ms\tremaining: 54.7ms\n",
      "902:\tlearn: 0.0111138\ttotal: 504ms\tremaining: 54.1ms\n",
      "903:\tlearn: 0.0110670\ttotal: 504ms\tremaining: 53.6ms\n",
      "904:\tlearn: 0.0110152\ttotal: 505ms\tremaining: 53ms\n",
      "905:\tlearn: 0.0109688\ttotal: 505ms\tremaining: 52.4ms\n",
      "906:\tlearn: 0.0109376\ttotal: 506ms\tremaining: 51.9ms\n",
      "907:\tlearn: 0.0108808\ttotal: 506ms\tremaining: 51.3ms\n",
      "908:\tlearn: 0.0108354\ttotal: 507ms\tremaining: 50.8ms\n",
      "909:\tlearn: 0.0108052\ttotal: 507ms\tremaining: 50.2ms\n",
      "910:\tlearn: 0.0107512\ttotal: 508ms\tremaining: 49.6ms\n",
      "911:\tlearn: 0.0107218\ttotal: 509ms\tremaining: 49.1ms\n",
      "912:\tlearn: 0.0106777\ttotal: 509ms\tremaining: 48.5ms\n",
      "913:\tlearn: 0.0106491\ttotal: 510ms\tremaining: 48ms\n",
      "914:\tlearn: 0.0106058\ttotal: 510ms\tremaining: 47.4ms\n",
      "915:\tlearn: 0.0105780\ttotal: 511ms\tremaining: 46.8ms\n",
      "916:\tlearn: 0.0105355\ttotal: 511ms\tremaining: 46.3ms\n",
      "917:\tlearn: 0.0104831\ttotal: 512ms\tremaining: 45.7ms\n",
      "918:\tlearn: 0.0104610\ttotal: 512ms\tremaining: 45.1ms\n",
      "919:\tlearn: 0.0104098\ttotal: 513ms\tremaining: 44.6ms\n",
      "920:\tlearn: 0.0103596\ttotal: 513ms\tremaining: 44ms\n",
      "921:\tlearn: 0.0103184\ttotal: 514ms\tremaining: 43.5ms\n",
      "922:\tlearn: 0.0102924\ttotal: 514ms\tremaining: 42.9ms\n",
      "923:\tlearn: 0.0102376\ttotal: 514ms\tremaining: 42.3ms\n",
      "924:\tlearn: 0.0101896\ttotal: 515ms\tremaining: 41.8ms\n",
      "925:\tlearn: 0.0101536\ttotal: 515ms\tremaining: 41.2ms\n",
      "926:\tlearn: 0.0101183\ttotal: 516ms\tremaining: 40.6ms\n",
      "927:\tlearn: 0.0100726\ttotal: 516ms\tremaining: 40.1ms\n",
      "928:\tlearn: 0.0100385\ttotal: 517ms\tremaining: 39.5ms\n",
      "929:\tlearn: 0.0099945\ttotal: 517ms\tremaining: 38.9ms\n",
      "930:\tlearn: 0.0099423\ttotal: 518ms\tremaining: 38.4ms\n",
      "931:\tlearn: 0.0099063\ttotal: 518ms\tremaining: 37.8ms\n",
      "932:\tlearn: 0.0098763\ttotal: 519ms\tremaining: 37.2ms\n",
      "933:\tlearn: 0.0098438\ttotal: 519ms\tremaining: 36.7ms\n",
      "934:\tlearn: 0.0098144\ttotal: 519ms\tremaining: 36.1ms\n",
      "935:\tlearn: 0.0097827\ttotal: 520ms\tremaining: 35.5ms\n",
      "936:\tlearn: 0.0097539\ttotal: 520ms\tremaining: 35ms\n",
      "937:\tlearn: 0.0097379\ttotal: 521ms\tremaining: 34.4ms\n",
      "938:\tlearn: 0.0097223\ttotal: 521ms\tremaining: 33.9ms\n",
      "939:\tlearn: 0.0097071\ttotal: 522ms\tremaining: 33.3ms\n",
      "940:\tlearn: 0.0096660\ttotal: 522ms\tremaining: 32.7ms\n",
      "941:\tlearn: 0.0096379\ttotal: 523ms\tremaining: 32.2ms\n",
      "942:\tlearn: 0.0096070\ttotal: 523ms\tremaining: 31.6ms\n",
      "943:\tlearn: 0.0095603\ttotal: 524ms\tremaining: 31.1ms\n",
      "944:\tlearn: 0.0095347\ttotal: 525ms\tremaining: 30.5ms\n",
      "945:\tlearn: 0.0095074\ttotal: 526ms\tremaining: 30ms\n",
      "946:\tlearn: 0.0094697\ttotal: 526ms\tremaining: 29.4ms\n",
      "947:\tlearn: 0.0094450\ttotal: 527ms\tremaining: 28.9ms\n",
      "948:\tlearn: 0.0094184\ttotal: 527ms\tremaining: 28.3ms\n",
      "949:\tlearn: 0.0093818\ttotal: 528ms\tremaining: 27.8ms\n",
      "950:\tlearn: 0.0093670\ttotal: 528ms\tremaining: 27.2ms\n",
      "951:\tlearn: 0.0093430\ttotal: 529ms\tremaining: 26.7ms\n",
      "952:\tlearn: 0.0093286\ttotal: 529ms\tremaining: 26.1ms\n",
      "953:\tlearn: 0.0092783\ttotal: 530ms\tremaining: 25.5ms\n",
      "954:\tlearn: 0.0092425\ttotal: 530ms\tremaining: 25ms\n",
      "955:\tlearn: 0.0092285\ttotal: 531ms\tremaining: 24.4ms\n",
      "956:\tlearn: 0.0091796\ttotal: 531ms\tremaining: 23.9ms\n",
      "957:\tlearn: 0.0091542\ttotal: 532ms\tremaining: 23.3ms\n",
      "958:\tlearn: 0.0091193\ttotal: 532ms\tremaining: 22.8ms\n",
      "959:\tlearn: 0.0091128\ttotal: 533ms\tremaining: 22.2ms\n",
      "960:\tlearn: 0.0090970\ttotal: 533ms\tremaining: 21.6ms\n",
      "961:\tlearn: 0.0090908\ttotal: 534ms\tremaining: 21.1ms\n",
      "962:\tlearn: 0.0090565\ttotal: 534ms\tremaining: 20.5ms\n",
      "963:\tlearn: 0.0090504\ttotal: 534ms\tremaining: 20ms\n",
      "964:\tlearn: 0.0090260\ttotal: 535ms\tremaining: 19.4ms\n",
      "965:\tlearn: 0.0090200\ttotal: 535ms\tremaining: 18.8ms\n",
      "966:\tlearn: 0.0089814\ttotal: 536ms\tremaining: 18.3ms\n",
      "967:\tlearn: 0.0089349\ttotal: 536ms\tremaining: 17.7ms\n",
      "968:\tlearn: 0.0088972\ttotal: 537ms\tremaining: 17.2ms\n",
      "969:\tlearn: 0.0088520\ttotal: 538ms\tremaining: 16.6ms\n",
      "970:\tlearn: 0.0088189\ttotal: 538ms\tremaining: 16.1ms\n",
      "971:\tlearn: 0.0087749\ttotal: 539ms\tremaining: 15.5ms\n",
      "972:\tlearn: 0.0087385\ttotal: 539ms\tremaining: 15ms\n",
      "973:\tlearn: 0.0086980\ttotal: 540ms\tremaining: 14.4ms\n",
      "974:\tlearn: 0.0086517\ttotal: 540ms\tremaining: 13.9ms\n",
      "975:\tlearn: 0.0086446\ttotal: 541ms\tremaining: 13.3ms\n",
      "976:\tlearn: 0.0085965\ttotal: 541ms\tremaining: 12.7ms\n",
      "977:\tlearn: 0.0085514\ttotal: 542ms\tremaining: 12.2ms\n",
      "978:\tlearn: 0.0085446\ttotal: 542ms\tremaining: 11.6ms\n",
      "979:\tlearn: 0.0085036\ttotal: 543ms\tremaining: 11.1ms\n",
      "980:\tlearn: 0.0084634\ttotal: 543ms\tremaining: 10.5ms\n",
      "981:\tlearn: 0.0084372\ttotal: 544ms\tremaining: 9.97ms\n",
      "982:\tlearn: 0.0084323\ttotal: 544ms\tremaining: 9.41ms\n",
      "983:\tlearn: 0.0084258\ttotal: 545ms\tremaining: 8.86ms\n",
      "984:\tlearn: 0.0083864\ttotal: 545ms\tremaining: 8.3ms\n",
      "985:\tlearn: 0.0083611\ttotal: 546ms\tremaining: 7.75ms\n",
      "986:\tlearn: 0.0083205\ttotal: 546ms\tremaining: 7.2ms\n",
      "987:\tlearn: 0.0082806\ttotal: 547ms\tremaining: 6.64ms\n",
      "988:\tlearn: 0.0082592\ttotal: 547ms\tremaining: 6.09ms\n",
      "989:\tlearn: 0.0082200\ttotal: 548ms\tremaining: 5.54ms\n",
      "990:\tlearn: 0.0081769\ttotal: 548ms\tremaining: 4.98ms\n",
      "991:\tlearn: 0.0081411\ttotal: 549ms\tremaining: 4.43ms\n",
      "992:\tlearn: 0.0081204\ttotal: 549ms\tremaining: 3.87ms\n",
      "993:\tlearn: 0.0081154\ttotal: 550ms\tremaining: 3.32ms\n",
      "994:\tlearn: 0.0080775\ttotal: 550ms\tremaining: 2.77ms\n",
      "995:\tlearn: 0.0080426\ttotal: 551ms\tremaining: 2.21ms\n",
      "996:\tlearn: 0.0080091\ttotal: 552ms\tremaining: 1.66ms\n",
      "997:\tlearn: 0.0079748\ttotal: 552ms\tremaining: 1.11ms\n",
      "998:\tlearn: 0.0079699\ttotal: 552ms\tremaining: 552us\n"
     ]
    },
    {
     "name": "stdout",
     "output_type": "stream",
     "text": [
      "999:\tlearn: 0.0079286\ttotal: 553ms\tremaining: 0us\n"
     ]
    },
    {
     "data": {
      "text/plain": [
       "<catboost.core.CatBoostRegressor at 0x7fce76390df0>"
      ]
     },
     "execution_count": 9,
     "metadata": {},
     "output_type": "execute_result"
    }
   ],
   "source": [
    "#Train the Model \n",
    "prior_model = ctb.CatBoostRegressor()\n",
    "prior_model.fit(X_train,Y_train)"
   ]
  },
  {
   "cell_type": "code",
   "execution_count": 10,
   "id": "af65dcda",
   "metadata": {
    "execution": {
     "iopub.execute_input": "2022-02-13T14:52:56.885735Z",
     "iopub.status.busy": "2022-02-13T14:52:56.885365Z",
     "iopub.status.idle": "2022-02-13T14:52:56.892855Z",
     "shell.execute_reply": "2022-02-13T14:52:56.893099Z"
    },
    "id": "af65dcda",
    "papermill": {
     "duration": 0.019865,
     "end_time": "2022-02-13T14:52:56.893215",
     "exception": false,
     "start_time": "2022-02-13T14:52:56.873350",
     "status": "completed"
    },
    "tags": []
   },
   "outputs": [
    {
     "data": {
      "application/scrapbook.scrap.json+json": {
       "data": 0.30361872323824196,
       "encoder": "json",
       "name": "Prior Model MSE",
       "version": 1
      }
     },
     "metadata": {
      "scrapbook": {
       "data": true,
       "display": false,
       "name": "Prior Model MSE"
      }
     },
     "output_type": "display_data"
    },
    {
     "data": {
      "application/scrapbook.scrap.json+json": {
       "data": 0.3547387618115603,
       "encoder": "json",
       "name": "ABC Pre-generator MSE",
       "version": 1
      }
     },
     "metadata": {
      "scrapbook": {
       "data": true,
       "display": false,
       "name": "ABC Pre-generator MSE"
      }
     },
     "output_type": "display_data"
    },
    {
     "data": {
      "application/scrapbook.scrap.json+json": {
       "data": 0.41282228107652363,
       "encoder": "json",
       "name": "Prior Model MSE",
       "version": 1
      }
     },
     "metadata": {
      "scrapbook": {
       "data": true,
       "display": false,
       "name": "Prior Model MSE"
      }
     },
     "output_type": "display_data"
    },
    {
     "data": {
      "application/scrapbook.scrap.json+json": {
       "data": 0.4587594770696654,
       "encoder": "json",
       "name": "ABC Pre-generator MSE",
       "version": 1
      }
     },
     "metadata": {
      "scrapbook": {
       "data": true,
       "display": false,
       "name": "ABC Pre-generator MSE"
      }
     },
     "output_type": "display_data"
    }
   ],
   "source": [
    "y_pred = prior_model.predict(X_test)\n",
    "y_abc = y_pred + np.random.normal(0,variance, y_pred.shape)\n",
    "mse = mean_squared_error(y_pred,Y_test)\n",
    "sb.glue(\"Prior Model MSE\",mse)\n",
    "mse = mean_squared_error(y_abc,Y_test)\n",
    "sb.glue(\"ABC Pre-generator MSE\",mse)\n",
    "\n",
    "mae = mean_absolute_error(y_pred,Y_test)\n",
    "sb.glue(\"Prior Model MSE\",mae)\n",
    "mae = mean_absolute_error(y_abc,Y_test)\n",
    "sb.glue(\"ABC Pre-generator MSE\",mae)"
   ]
  },
  {
   "cell_type": "markdown",
   "id": "25609da2",
   "metadata": {
    "papermill": {
     "duration": 0.009448,
     "end_time": "2022-02-13T14:52:56.912503",
     "exception": false,
     "start_time": "2022-02-13T14:52:56.903055",
     "status": "completed"
    },
    "tags": []
   },
   "source": [
    "# ABC GAN Model"
   ]
  },
  {
   "cell_type": "code",
   "execution_count": 11,
   "id": "dfc3464d",
   "metadata": {
    "execution": {
     "iopub.execute_input": "2022-02-13T14:52:56.934448Z",
     "iopub.status.busy": "2022-02-13T14:52:56.934061Z",
     "iopub.status.idle": "2022-02-13T14:52:56.936526Z",
     "shell.execute_reply": "2022-02-13T14:52:56.936773Z"
    },
    "papermill": {
     "duration": 0.014899,
     "end_time": "2022-02-13T14:52:56.936878",
     "exception": false,
     "start_time": "2022-02-13T14:52:56.921979",
     "status": "completed"
    },
    "tags": []
   },
   "outputs": [],
   "source": [
    "gen = network.Generator(n_features+1).to(device)\n",
    "disc = network.Discriminator(n_features+1).to(device)\n",
    "\n",
    "criterion = torch.nn.BCELoss()\n",
    "gen_opt = torch.optim.Adam(gen.parameters(), lr=0.001, betas=(0.5, 0.999))\n",
    "disc_opt = torch.optim.Adam(disc.parameters(), lr=0.001, betas=(0.5, 0.999))"
   ]
  },
  {
   "cell_type": "code",
   "execution_count": 12,
   "id": "b75fdd85",
   "metadata": {
    "execution": {
     "iopub.execute_input": "2022-02-13T14:52:56.958220Z",
     "iopub.status.busy": "2022-02-13T14:52:56.957856Z",
     "iopub.status.idle": "2022-02-13T14:53:10.498876Z",
     "shell.execute_reply": "2022-02-13T14:53:10.499166Z"
    },
    "papermill": {
     "duration": 13.552779,
     "end_time": "2022-02-13T14:53:10.499287",
     "exception": false,
     "start_time": "2022-02-13T14:52:56.946508",
     "status": "completed"
    },
    "tags": []
   },
   "outputs": [
    {
     "data": {
      "image/png": "[encoded data removed]",
      "text/plain": [
       "<Figure size 432x288 with 1 Axes>"
      ]
     },
     "metadata": {
      "needs_background": "light"
     },
     "output_type": "display_data"
    },
    {
     "data": {
      "image/png": "[encoded data removed]",
      "text/plain": [
       "<Figure size 432x288 with 1 Axes>"
      ]
     },
     "metadata": {
      "needs_background": "light"
     },
     "output_type": "display_data"
    }
   ],
   "source": [
    "#Training the ABC_GAN \n",
    "ABC_train_test2.training_GAN(disc,gen,disc_opt,gen_opt,train_data,batch_size,n_epochs,criterion,prior_model,variance,device)"
   ]
  },
  {
   "cell_type": "code",
   "execution_count": 13,
   "id": "1fa7c368",
   "metadata": {
    "execution": {
     "iopub.execute_input": "2022-02-13T14:53:10.523744Z",
     "iopub.status.busy": "2022-02-13T14:53:10.523244Z",
     "iopub.status.idle": "2022-02-13T14:53:10.691826Z",
     "shell.execute_reply": "2022-02-13T14:53:10.692223Z"
    },
    "papermill": {
     "duration": 0.182045,
     "end_time": "2022-02-13T14:53:10.692346",
     "exception": false,
     "start_time": "2022-02-13T14:53:10.510301",
     "status": "completed"
    },
    "tags": []
   },
   "outputs": [
    {
     "data": {
      "application/scrapbook.scrap.json+json": {
       "data": 0.27185215134662105,
       "encoder": "json",
       "name": "ABC-GAN Model 1 MSE",
       "version": 1
      }
     },
     "metadata": {
      "scrapbook": {
       "data": true,
       "display": false,
       "name": "ABC-GAN Model 1 MSE"
      }
     },
     "output_type": "display_data"
    },
    {
     "data": {
      "application/scrapbook.scrap.json+json": {
       "data": 0.3504774668887258,
       "encoder": "json",
       "name": "ABC-GAN Model 1 MAE",
       "version": 1
      }
     },
     "metadata": {
      "scrapbook": {
       "data": true,
       "display": false,
       "name": "ABC-GAN Model 1 MAE"
      }
     },
     "output_type": "display_data"
    },
    {
     "data": {
      "application/scrapbook.scrap.json+json": {
       "data": 7.009549337774515,
       "encoder": "json",
       "name": "ABC-GAN Model 1 Manhattan Distance",
       "version": 1
      }
     },
     "metadata": {
      "scrapbook": {
       "data": true,
       "display": false,
       "name": "ABC-GAN Model 1 Manhattan Distance"
      }
     },
     "output_type": "display_data"
    },
    {
     "data": {
      "application/scrapbook.scrap.json+json": {
       "data": 2.3314016885605033,
       "encoder": "json",
       "name": "ABC-GAN Model 1 Euclidean distance",
       "version": 1
      }
     },
     "metadata": {
      "scrapbook": {
       "data": true,
       "display": false,
       "name": "ABC-GAN Model 1 Euclidean distance"
      }
     },
     "output_type": "display_data"
    },
    {
     "data": {
      "application/scrapbook.scrap.json+json": {
       "data": [
        [
         0.27958067323598684,
         0.27217871563817503,
         0.28748188636831223,
         0.2748402310073089,
         0.2816039469598129,
         0.2785191870342174,
         0.2613325816123216,
         0.27129256493460513,
         0.2591443551525497,
         0.26900990099342265,
         0.27173081638633517,
         0.26269100619598856,
         0.2550150680735951,
         0.2642699296982668,
         0.2676448860710131,
         0.27626987178049783,
         0.25670472607912587,
         0.2696372631355793,
         0.2522790336603201,
         0.2658657995665678,
         0.27136823687720935,
         0.25352994058818024,
         0.27240268015768637,
         0.27200380805466906,
         0.26585321874866163,
         0.27473569772977424,
         0.2643126309337009,
         0.2718843072157327,
         0.27034952909454646,
         0.2807091747722508,
         0.2871403830481656,
         0.26842234509524715,
         0.24991003960635924,
         0.2611820523884093,
         0.2748808495326118,
         0.27446859338609864,
         0.2594861382032158,
         0.27270421639166026,
         0.2720350764046392,
         0.2578853088399832,
         0.27602124416159957,
         0.2863637029341827,
         0.2864064344992248,
         0.27566444002891843,
         0.26048659518062334,
         0.27130698066694914,
         0.2580459196689513,
         0.2765713797987388,
         0.2714993380674246,
         0.2702752187750027,
         0.2845911627193167,
         0.26683013630595354,
         0.2882954050798192,
         0.27640406366484865,
         0.283226456181018,
         0.27260376663758945,
         0.29695788929008726,
         0.282548019580238,
         0.2719184613717352,
         0.26625061778016945,
         0.28086861800633084,
         0.27197609266585165,
         0.2739200304730153,
         0.287192774240964,
         0.2692747631230167,
         0.26729733186524013,
         0.274062308736324,
         0.28046716445523606,
         0.2878507900815023,
         0.269093955496135,
         0.2704062725795362,
         0.2625882527294533,
         0.2930272650615389,
         0.26153000154761064,
         0.2663692213011567,
         0.2843272422205465,
         0.2753491532315577,
         0.25748242526217585,
         0.2696627050629251,
         0.26578891116890335,
         0.26288724084582676,
         0.26606872295527684,
         0.2650339330173495,
         0.26593927718488397,
         0.2841484851784359,
         0.2666195947268076,
         0.28422712223541,
         0.2731483652230374,
         0.2714533937113365,
         0.28093109056066234,
         0.2842968938372449,
         0.26868646555132975,
         0.2665599124294652,
         0.2684737221592336,
         0.26645675803014823,
         0.27721740141869755,
         0.27400457571763337,
         0.261893053258641,
         0.2870848622547925,
         0.2669250820116797
        ],
        [
         0.3616544220596552,
         0.33917946815490724,
         0.36373547799885275,
         0.3504041492938995,
         0.3529220521450043,
         0.3434570860117674,
         0.3430391427129507,
         0.35966440886259077,
         0.3569166947156191,
         0.35458095781505106,
         0.35082980394363406,
         0.3412342857569456,
         0.33425903245806693,
         0.3429128408432007,
         0.3373712584376335,
         0.3582858495414257,
         0.34477654173970224,
         0.3449461903423071,
         0.3371266845613718,
         0.3534577120095491,
         0.35080142989754676,
         0.327394063770771,
         0.3551051627844572,
         0.35123831033706665,
         0.34496023543179033,
         0.3437103949487209,
         0.33963234424591066,
         0.3518530704081059,
         0.3519451417028904,
         0.3603717084974051,
         0.3710428338497877,
         0.348511453345418,
         0.3288171157240868,
         0.3472947493195534,
         0.36456471122801304,
         0.3506066635251045,
         0.3430230379104614,
         0.35890397503972055,
         0.3557291615754366,
         0.3328098710626364,
         0.3470602612942457,
         0.3558034885674715,
         0.3632964551448822,
         0.35423394851386547,
         0.34658444561064244,
         0.35764557532966135,
         0.3417575005441904,
         0.35460790283977983,
         0.3556705739349127,
         0.355029221996665,
         0.3593825899064541,
         0.34453707858920096,
         0.3610129427164793,
         0.3533010732382536,
         0.3493423338979483,
         0.35680189952254293,
         0.3726197000592947,
         0.34422200359404087,
         0.3548488527536392,
         0.3417369399219751,
         0.36095331236720085,
         0.34364436753094196,
         0.34547612592577936,
         0.3477447237819433,
         0.3479739461094141,
         0.3548562150448561,
         0.353330085799098,
         0.36496486216783525,
         0.3673545654863119,
         0.35306694023311136,
         0.3502835899591446,
         0.33733889907598497,
         0.3682510148733854,
         0.34710438214242456,
         0.3474768947809935,
         0.356093967705965,
         0.3467286601662636,
         0.33730379976332187,
         0.3491412606090307,
         0.3369946777820587,
         0.3352881148457527,
         0.3607272535562515,
         0.3460335828363895,
         0.34137310534715654,
         0.35488846711814404,
         0.34426507763564584,
         0.3544681791216135,
         0.36190141178667545,
         0.3505947008728981,
         0.3526137739419937,
         0.35361646488308907,
         0.3413075637072325,
         0.35649198554456235,
         0.3372693877667189,
         0.3568647041916847,
         0.35529566667973994,
         0.3587778232991695,
         0.3373273957520723,
         0.36908615902066233,
         0.3449092976748943
        ],
        [
         7.233088441193104,
         6.7835893630981445,
         7.274709559977055,
         7.008082985877991,
         7.0584410429000854,
         6.869141720235348,
         6.860782854259014,
         7.193288177251816,
         7.138333894312382,
         7.091619156301022,
         7.016596078872681,
         6.824685715138912,
         6.685180649161339,
         6.858256816864014,
         6.74742516875267,
         7.165716990828514,
         6.8955308347940445,
         6.898923806846142,
         6.742533691227436,
         7.069154240190983,
         7.016028597950935,
         6.5478812754154205,
         7.102103255689144,
         7.024766206741333,
         6.899204708635807,
         6.874207898974419,
         6.792646884918213,
         7.037061408162117,
         7.038902834057808,
         7.207434169948101,
         7.420856676995754,
         6.9702290669083595,
         6.576342314481735,
         6.9458949863910675,
         7.291294224560261,
         7.0121332705020905,
         6.8604607582092285,
         7.178079500794411,
         7.114583231508732,
         6.6561974212527275,
         6.941205225884914,
         7.11606977134943,
         7.265929102897644,
         7.084678970277309,
         6.931688912212849,
         7.152911506593227,
         6.835150010883808,
         7.092158056795597,
         7.113411478698254,
         7.1005844399333,
         7.187651798129082,
         6.8907415717840195,
         7.220258854329586,
         7.066021464765072,
         6.986846677958965,
         7.136037990450859,
         7.452394001185894,
         6.884440071880817,
         7.096977055072784,
         6.834738798439503,
         7.219066247344017,
         6.872887350618839,
         6.909522518515587,
         6.954894475638866,
         6.959478922188282,
         7.097124300897121,
         7.06660171598196,
         7.299297243356705,
         7.347091309726238,
         7.061338804662228,
         7.005671799182892,
         6.746777981519699,
         7.365020297467709,
         6.942087642848492,
         6.949537895619869,
         7.121879354119301,
         6.934573203325272,
         6.7460759952664375,
         6.9828252121806145,
         6.739893555641174,
         6.705762296915054,
         7.2145450711250305,
         6.920671656727791,
         6.8274621069431305,
         7.097769342362881,
         6.885301552712917,
         7.08936358243227,
         7.238028235733509,
         7.011894017457962,
         7.052275478839874,
         7.072329297661781,
         6.8261512741446495,
         7.129839710891247,
         6.745387755334377,
         7.1372940838336945,
         7.105913333594799,
         7.175556465983391,
         6.746547915041447,
         7.381723180413246,
         6.898185953497887
        ],
        [
         2.3646592703219924,
         2.3331468690940786,
         2.397840221400551,
         2.344526523660199,
         2.3732001473108535,
         2.3601660409141445,
         2.2861871385007904,
         2.329345680377239,
         2.2765955071226407,
         2.3195253867695547,
         2.3312263570332896,
         2.2921213152710247,
         2.2583846796929663,
         2.298999476721414,
         2.313633013556874,
         2.3506163948228465,
         2.265854038013596,
         2.322228512164896,
         2.246237002902054,
         2.3059306128614008,
         2.329670521242046,
         2.251799016733866,
         2.3341065963562433,
         2.3323970847806725,
         2.3058760536883227,
         2.3440806203276128,
         2.299185207562457,
         2.331884676461221,
         2.3252936549801464,
         2.3694268284640096,
         2.3964155860291245,
         2.3169909153695323,
         2.2356656261899244,
         2.2855286145152913,
         2.344699765567489,
         2.34294085877599,
         2.2780963026317207,
         2.33539810906689,
         2.332531141934183,
         2.2710583825167645,
         2.3495584443107584,
         2.393172383821035,
         2.393350933311807,
         2.348039352433934,
         2.2824837137671907,
         2.3294075670305063,
         2.271765479396812,
         2.351898721453536,
         2.3302331989199048,
         2.3249740591026073,
         2.3857542317653624,
         2.3101088126144775,
         2.4012305390354305,
         2.351187205072572,
         2.3800271266564086,
         2.33496795111877,
         2.437038732930141,
         2.3771748761091938,
         2.3320311377498166,
         2.307598829000264,
         2.370099651940107,
         2.332278253836157,
         2.340598344325721,
         2.396634199209233,
         2.320666986549413,
         2.3121303244637406,
         2.3412061367437254,
         2.3684052206294264,
         2.3993782114602205,
         2.319887736491294,
         2.325537669355352,
         2.2916729815986105,
         2.420856315693019,
         2.287050509051388,
         2.3081127411855635,
         2.3846477401098323,
         2.3466962020319446,
         2.269283698712772,
         2.322338067822707,
         2.305597151147196,
         2.2929772822504226,
         2.306810451490442,
         2.3023202775345983,
         2.3062492371159022,
         2.383898006117023,
         2.309197240284197,
         2.3842278508372896,
         2.33729914740513,
         2.3300360242336877,
         2.370363223477205,
         2.3845204710265957,
         2.3181305638437615,
         2.308938771078459,
         2.317212645223712,
         2.308491966761627,
         2.354643928150061,
         2.3409595285593188,
         2.2886373817564065,
         2.3961838921701837,
         2.310519777070431
        ]
       ],
       "encoder": "json",
       "name": "ABC_GAN_1 Metrics",
       "version": 1
      }
     },
     "metadata": {
      "scrapbook": {
       "data": true,
       "display": false,
       "name": "ABC_GAN_1 Metrics"
      }
     },
     "output_type": "display_data"
    },
    {
     "name": "stdout",
     "output_type": "stream",
     "text": [
      "MSE\n",
      "0.27185215134662105\n"
     ]
    }
   ],
   "source": [
    "ABC_GAN1_metrics=ABC_train_test2.test_generator(gen,test_data,prior_model,variance,\"1\",device)\n",
    "sb.glue(\"ABC_GAN_1 Metrics\",ABC_GAN1_metrics)\n",
    "\n",
    "print(\"MSE\")\n",
    "print(mean(ABC_GAN1_metrics[0]))"
   ]
  },
  {
   "cell_type": "code",
   "execution_count": 14,
   "id": "eb22ce5c",
   "metadata": {
    "execution": {
     "iopub.execute_input": "2022-02-13T14:53:10.719097Z",
     "iopub.status.busy": "2022-02-13T14:53:10.718737Z",
     "iopub.status.idle": "2022-02-13T14:53:11.012352Z",
     "shell.execute_reply": "2022-02-13T14:53:11.012594Z"
    },
    "papermill": {
     "duration": 0.307992,
     "end_time": "2022-02-13T14:53:11.012715",
     "exception": false,
     "start_time": "2022-02-13T14:53:10.704723",
     "status": "completed"
    },
    "tags": []
   },
   "outputs": [
    {
     "data": {
      "image/png": "[encoded data removed]",
      "text/plain": [
       "<Figure size 432x288 with 1 Axes>"
      ]
     },
     "metadata": {
      "needs_background": "light"
     },
     "output_type": "display_data"
    },
    {
     "data": {
      "image/png": "[encoded data removed]",
      "text/plain": [
       "<Figure size 432x288 with 1 Axes>"
      ]
     },
     "metadata": {
      "needs_background": "light"
     },
     "output_type": "display_data"
    },
    {
     "data": {
      "image/png": "[encoded data removed]",
      "text/plain": [
       "<Figure size 432x288 with 1 Axes>"
      ]
     },
     "metadata": {
      "needs_background": "light"
     },
     "output_type": "display_data"
    },
    {
     "data": {
      "image/png": "[encoded data removed]",
      "text/plain": [
       "<Figure size 432x288 with 1 Axes>"
      ]
     },
     "metadata": {
      "needs_background": "light"
     },
     "output_type": "display_data"
    }
   ],
   "source": [
    "sanityChecks.discProbVsError(train_data,disc,device)\n",
    "sanityChecks.discProbVsError(test_data,disc,device)"
   ]
  },
  {
   "cell_type": "markdown",
   "id": "130f3a4d",
   "metadata": {
    "id": "130f3a4d",
    "papermill": {
     "duration": 0.0142,
     "end_time": "2022-02-13T14:53:11.041458",
     "exception": false,
     "start_time": "2022-02-13T14:53:11.027258",
     "status": "completed"
    },
    "tags": []
   },
   "source": [
    "# ABC - GAN Model with skip connection"
   ]
  },
  {
   "cell_type": "code",
   "execution_count": 15,
   "id": "4e43dad1",
   "metadata": {
    "execution": {
     "iopub.execute_input": "2022-02-13T14:53:11.072847Z",
     "iopub.status.busy": "2022-02-13T14:53:11.072489Z",
     "iopub.status.idle": "2022-02-13T14:53:11.074929Z",
     "shell.execute_reply": "2022-02-13T14:53:11.075168Z"
    },
    "id": "4e43dad1",
    "papermill": {
     "duration": 0.019662,
     "end_time": "2022-02-13T14:53:11.075278",
     "exception": false,
     "start_time": "2022-02-13T14:53:11.055616",
     "status": "completed"
    },
    "tags": []
   },
   "outputs": [],
   "source": [
    "#Generator\n",
    "gen3 = network.GeneratorWithSkipConnection(n_features+1).to(device)\n",
    "constraints=network.weightConstraint()\n",
    "#Discriminator \n",
    "disc3 = network.Discriminator(n_features+1).to(device)\n",
    "\n",
    "criterion = torch.nn.BCELoss()\n",
    "gen_opt = torch.optim.Adam(gen3.parameters(), lr=0.001, betas=(0.5, 0.999))\n",
    "disc_opt = torch.optim.Adam(disc3.parameters(), lr=0.001, betas=(0.5, 0.999))\n"
   ]
  },
  {
   "cell_type": "code",
   "execution_count": 16,
   "id": "26acbc37",
   "metadata": {
    "execution": {
     "iopub.execute_input": "2022-02-13T14:53:11.106661Z",
     "iopub.status.busy": "2022-02-13T14:53:11.106311Z",
     "iopub.status.idle": "2022-02-13T14:53:47.961458Z",
     "shell.execute_reply": "2022-02-13T14:53:47.961788Z"
    },
    "id": "26acbc37",
    "papermill": {
     "duration": 36.872009,
     "end_time": "2022-02-13T14:53:47.961910",
     "exception": false,
     "start_time": "2022-02-13T14:53:11.089901",
     "status": "completed"
    },
    "tags": []
   },
   "outputs": [
    {
     "data": {
      "image/png": "[encoded data removed]",
      "text/plain": [
       "<Figure size 432x288 with 1 Axes>"
      ]
     },
     "metadata": {
      "needs_background": "light"
     },
     "output_type": "display_data"
    },
    {
     "data": {
      "image/png": "[encoded data removed]",
      "text/plain": [
       "<Figure size 432x288 with 1 Axes>"
      ]
     },
     "metadata": {
      "needs_background": "light"
     },
     "output_type": "display_data"
    }
   ],
   "source": [
    "ABC_train_test2.training_GAN_skip_connection(disc3,gen3,disc_opt,gen_opt,train_data,batch_size,n_epochs,criterion,prior_model,variance,device)"
   ]
  },
  {
   "cell_type": "code",
   "execution_count": 17,
   "id": "c5e0717b",
   "metadata": {
    "execution": {
     "iopub.execute_input": "2022-02-13T14:53:47.995204Z",
     "iopub.status.busy": "2022-02-13T14:53:47.994612Z",
     "iopub.status.idle": "2022-02-13T14:53:48.274028Z",
     "shell.execute_reply": "2022-02-13T14:53:48.274328Z"
    },
    "id": "c5e0717b",
    "papermill": {
     "duration": 0.297368,
     "end_time": "2022-02-13T14:53:48.274450",
     "exception": false,
     "start_time": "2022-02-13T14:53:47.977082",
     "status": "completed"
    },
    "tags": []
   },
   "outputs": [
    {
     "data": {
      "application/scrapbook.scrap.json+json": {
       "data": 0.280338402622002,
       "encoder": "json",
       "name": "ABC-GAN Model 3 MSE",
       "version": 1
      }
     },
     "metadata": {
      "scrapbook": {
       "data": true,
       "display": false,
       "name": "ABC-GAN Model 3 MSE"
      }
     },
     "output_type": "display_data"
    },
    {
     "data": {
      "application/scrapbook.scrap.json+json": {
       "data": 0.3564867357937619,
       "encoder": "json",
       "name": "ABC-GAN Model 3 MAE",
       "version": 1
      }
     },
     "metadata": {
      "scrapbook": {
       "data": true,
       "display": false,
       "name": "ABC-GAN Model 3 MAE"
      }
     },
     "output_type": "display_data"
    },
    {
     "data": {
      "application/scrapbook.scrap.json+json": {
       "data": 7.129734715875238,
       "encoder": "json",
       "name": "ABC-GAN Model 3 Manhattan Distance",
       "version": 1
      }
     },
     "metadata": {
      "scrapbook": {
       "data": true,
       "display": false,
       "name": "ABC-GAN Model 3 Manhattan Distance"
      }
     },
     "output_type": "display_data"
    },
    {
     "data": {
      "application/scrapbook.scrap.json+json": {
       "data": 2.36763082476661,
       "encoder": "json",
       "name": "ABC-GAN Model 3 Euclidean distance",
       "version": 1
      }
     },
     "metadata": {
      "scrapbook": {
       "data": true,
       "display": false,
       "name": "ABC-GAN Model 3 Euclidean distance"
      }
     },
     "output_type": "display_data"
    },
    {
     "data": {
      "application/scrapbook.scrap.json+json": {
       "data": [
        [
         0.2837536550242784,
         0.2834880748159728,
         0.28624572922280306,
         0.2889493513001997,
         0.2755643318951922,
         0.26818293126229553,
         0.28214067617710215,
         0.2826125998801477,
         0.28880524801661556,
         0.2866112229161303,
         0.2790436981290706,
         0.2846716483605477,
         0.26997803198005355,
         0.292336006685905,
         0.2665468228723072,
         0.2879024170703223,
         0.2823697669311041,
         0.28495462064545973,
         0.26850640902833445,
         0.2834000357807895,
         0.29020402766373504,
         0.2728041327414784,
         0.27475414932672815,
         0.26995703627943723,
         0.2679393758421496,
         0.276991770727079,
         0.2780798785949169,
         0.2889701500396321,
         0.28345252142116995,
         0.2831598015534348,
         0.28830076152210743,
         0.2753708371869248,
         0.2882230484982707,
         0.2871270746095001,
         0.28527830466147763,
         0.2896229592869516,
         0.27440500655518685,
         0.27211519472332696,
         0.2744691903496226,
         0.26738736268450447,
         0.28268650020916297,
         0.2744490848498723,
         0.26880560005686244,
         0.2611604983547205,
         0.27138752220998197,
         0.27452237639584276,
         0.278575984892467,
         0.27976874808342145,
         0.2801758803990217,
         0.2740394064696564,
         0.29276549079850855,
         0.2698723492396875,
         0.2786861861119031,
         0.28134357116853803,
         0.28662236080536074,
         0.2662700607062615,
         0.2687960307951492,
         0.2788313328911028,
         0.28476197560978156,
         0.26758690077661196,
         0.2752257275610732,
         0.28376308495851443,
         0.28896145315966226,
         0.28772987199669897,
         0.2731954739660888,
         0.27720712856581026,
         0.28329388584581416,
         0.29215926909550316,
         0.28825073989789046,
         0.2944344958734695,
         0.29007125215908414,
         0.27704560667483114,
         0.28256323446272213,
         0.28474805964280436,
         0.2887549074272466,
         0.2695675081250065,
         0.27918956811116785,
         0.28660783230083864,
         0.27194501347731886,
         0.288913237441381,
         0.2837893775129745,
         0.2806351361111651,
         0.28783841053952425,
         0.29278400894787004,
         0.27545160191278356,
         0.2688284279236299,
         0.2938302880207739,
         0.2730838833660413,
         0.27509931439225915,
         0.2934623313008009,
         0.27925632127922284,
         0.27706659626306485,
         0.2902018090355028,
         0.2795147578531137,
         0.27728318195179996,
         0.28946110893220395,
         0.27300327569681454,
         0.2890839129065511,
         0.27805668366706243,
         0.27669876075793226
        ],
        [
         0.35504894368350504,
         0.3601283024996519,
         0.3645797142758965,
         0.36296158079057933,
         0.3538167865946889,
         0.3404359735548496,
         0.35683204270899294,
         0.3550058787688613,
         0.36749690379947425,
         0.3621215416118503,
         0.3634177718311548,
         0.3544601446017623,
         0.3534570256248116,
         0.35613097678869965,
         0.34608120918273927,
         0.36456126533448696,
         0.3517212612554431,
         0.3629372393712401,
         0.33731986600905656,
         0.3612973321229219,
         0.3679399279877543,
         0.3435075134038925,
         0.3535816606134176,
         0.3387776525691152,
         0.3437692977488041,
         0.3603181906044483,
         0.3594671061262488,
         0.35525855962187053,
         0.36111700590699913,
         0.3590750992298126,
         0.3597396081313491,
         0.3570026557892561,
         0.36885571451857685,
         0.3684187447652221,
         0.3682459143921733,
         0.3682272845879197,
         0.3394353475421667,
         0.3511936403810978,
         0.35213956106454136,
         0.3495705148205161,
         0.35873089227825405,
         0.35022354777902365,
         0.3557254893705249,
         0.33664646092802286,
         0.3573524422943592,
         0.35290368385612964,
         0.3657244550064206,
         0.3460164850577712,
         0.3545681931078434,
         0.3410673541948199,
         0.37490521613508465,
         0.343921959772706,
         0.35398394130170346,
         0.3676773548126221,
         0.33886695224791763,
         0.3473659878596663,
         0.33816734831780193,
         0.3483180025592446,
         0.356266195140779,
         0.3418194718658924,
         0.3531385261565447,
         0.36374714132398367,
         0.37069882471114396,
         0.36340223234146835,
         0.35059890802949667,
         0.34974754247814416,
         0.3477066395804286,
         0.36839140132069587,
         0.3671631347388029,
         0.366479167714715,
         0.37161200381815435,
         0.3581932280212641,
         0.34982117991894485,
         0.35913215670734644,
         0.3643851703032851,
         0.3564940620213747,
         0.3516672542318702,
         0.365267994068563,
         0.3604187145829201,
         0.35816649049520494,
         0.3579794095829129,
         0.34707028046250343,
         0.3705060511827469,
         0.3734666248783469,
         0.3539369432255626,
         0.3500715795904398,
         0.36709791179746387,
         0.3433914799243212,
         0.35786005239933727,
         0.3689836187288165,
         0.34891896694898605,
         0.3644458718597889,
         0.36843217313289645,
         0.3517442224547267,
         0.3665823696181178,
         0.3560352049767971,
         0.345477450825274,
         0.36513764075934885,
         0.36308796275407074,
         0.34651179760694506
        ],
        [
         7.100978873670101,
         7.202566049993038,
         7.291594285517931,
         7.259231615811586,
         7.076335731893778,
         6.8087194710969925,
         7.136640854179859,
         7.100117575377226,
         7.349938075989485,
         7.242430832237005,
         7.2683554366230965,
         7.089202892035246,
         7.069140512496233,
         7.1226195357739925,
         6.921624183654785,
         7.291225306689739,
         7.034425225108862,
         7.258744787424803,
         6.746397320181131,
         7.225946642458439,
         7.358798559755087,
         6.87015026807785,
         7.0716332122683525,
         6.775553051382303,
         6.875385954976082,
         7.206363812088966,
         7.189342122524977,
         7.10517119243741,
         7.222340118139982,
         7.181501984596252,
         7.194792162626982,
         7.140053115785122,
         7.377114290371537,
         7.3683748953044415,
         7.364918287843466,
         7.364545691758394,
         6.788706950843334,
         7.023872807621956,
         7.042791221290827,
         6.991410296410322,
         7.174617845565081,
         7.004470955580473,
         7.114509787410498,
         6.732929218560457,
         7.147048845887184,
         7.058073677122593,
         7.314489100128412,
         6.920329701155424,
         7.091363862156868,
         6.8213470838963985,
         7.498104322701693,
         6.878439195454121,
         7.079678826034069,
         7.353547096252441,
         6.777339044958353,
         6.947319757193327,
         6.763346966356039,
         6.966360051184893,
         7.12532390281558,
         6.836389437317848,
         7.062770523130894,
         7.274942826479673,
         7.413976494222879,
         7.268044646829367,
         7.011978160589933,
         6.994950849562883,
         6.954132791608572,
         7.3678280264139175,
         7.343262694776058,
         7.3295833542943,
         7.432240076363087,
         7.1638645604252815,
         6.996423598378897,
         7.182643134146929,
         7.287703406065702,
         7.129881240427494,
         7.0333450846374035,
         7.30535988137126,
         7.2083742916584015,
         7.1633298099040985,
         7.159588191658258,
         6.941405609250069,
         7.410121023654938,
         7.469332497566938,
         7.0787388645112514,
         7.001431591808796,
         7.341958235949278,
         6.8678295984864235,
         7.157201047986746,
         7.37967237457633,
         6.978379338979721,
         7.288917437195778,
         7.3686434626579285,
         7.034884449094534,
         7.331647392362356,
         7.120704099535942,
         6.90954901650548,
         7.302752815186977,
         7.261759255081415,
         6.930235952138901
        ],
        [
         2.3822411927606253,
         2.381126098365951,
         2.3926793735174927,
         2.403952375985014,
         2.3476129659515523,
         2.315957388478016,
         2.375460697115834,
         2.3774465288630475,
         2.403352858057325,
         2.3942064360289836,
         2.3623873438920664,
         2.3860915672310137,
         2.32369547049545,
         2.417999200520567,
         2.308882079588766,
         2.3995933700121874,
         2.376424907002551,
         2.387277196495873,
         2.317353702084921,
         2.3807563326841725,
         2.4091659455659546,
         2.3358259042209393,
         2.3441593347156595,
         2.3236051139530454,
         2.314905509268789,
         2.353685496097892,
         2.358303960879161,
         2.4040388933610544,
         2.3809767803200854,
         2.3797470519088146,
         2.4012528460039664,
         2.3467886022687465,
         2.4009291888694704,
         2.396360050616351,
         2.3886326827768123,
         2.406752830213155,
         2.342669445547907,
         2.332874598958662,
         2.3429434066986023,
         2.3125196763898224,
         2.3777573476247023,
         2.342857592129203,
         2.318644431804335,
         2.285434306011531,
         2.3297533011457756,
         2.343170400956118,
         2.36040668060598,
         2.3654544936794766,
         2.3671750269003,
         2.341108312187441,
         2.419774744882294,
         2.3232406213721704,
         2.3608735083095964,
         2.372102743004772,
         2.3942529557478287,
         2.3076830835548523,
         2.3186031605048294,
         2.361488229448128,
         2.3864700945529638,
         2.313382375555809,
         2.34617018803442,
         2.38228077672853,
         2.4040027169687734,
         2.398874202607127,
         2.3375006907639144,
         2.3546002996933906,
         2.380310424485908,
         2.417268165080172,
         2.4010445222772963,
         2.426662299840954,
         2.4086147560748863,
         2.353914215407312,
         2.3772388792997736,
         2.3864117819136093,
         2.403143389093737,
         2.3219281131206735,
         2.3630047317395193,
         2.3941922742371324,
         2.332144993251144,
         2.4038021442763586,
         2.3823911413240877,
         2.3691143328727935,
         2.3993266161134637,
         2.419851272073844,
         2.3471327270215614,
         2.318742883217671,
         2.4241711491591262,
         2.3370232492041723,
         2.3456313196760448,
         2.4226528075677742,
         2.363287207595483,
         2.3540033825934272,
         2.4091567364349826,
         2.3643805017514152,
         2.354923276677183,
         2.4060802519126576,
         2.3366783077557534,
         2.404512062380021,
         2.3582056045521664,
         2.3524402681383103
        ]
       ],
       "encoder": "json",
       "name": "ABC_GAN_3 Metrics",
       "version": 1
      }
     },
     "metadata": {
      "scrapbook": {
       "data": true,
       "display": false,
       "name": "ABC_GAN_3 Metrics"
      }
     },
     "output_type": "display_data"
    },
    {
     "name": "stdout",
     "output_type": "stream",
     "text": [
      "MSE\n",
      "0.280338402622002\n"
     ]
    }
   ],
   "source": [
    "ABC_GAN3_metrics=ABC_train_test2.test_generator(gen3,test_data,prior_model,variance,\"3\",device)\n",
    "sb.glue(\"ABC_GAN_3 Metrics\",ABC_GAN3_metrics)\n",
    "\n",
    "print(\"MSE\")\n",
    "print(mean(ABC_GAN3_metrics[0]))"
   ]
  },
  {
   "cell_type": "code",
   "execution_count": 18,
   "id": "c8e46b48",
   "metadata": {
    "execution": {
     "iopub.execute_input": "2022-02-13T14:53:48.332615Z",
     "iopub.status.busy": "2022-02-13T14:53:48.332245Z",
     "iopub.status.idle": "2022-02-13T14:53:48.614315Z",
     "shell.execute_reply": "2022-02-13T14:53:48.614628Z"
    },
    "id": "c8e46b48",
    "papermill": {
     "duration": 0.301555,
     "end_time": "2022-02-13T14:53:48.614766",
     "exception": false,
     "start_time": "2022-02-13T14:53:48.313211",
     "status": "completed"
    },
    "tags": []
   },
   "outputs": [
    {
     "data": {
      "image/png": "[encoded data removed]",
      "text/plain": [
       "<Figure size 432x288 with 1 Axes>"
      ]
     },
     "metadata": {
      "needs_background": "light"
     },
     "output_type": "display_data"
    },
    {
     "data": {
      "image/png": "[encoded data removed]",
      "text/plain": [
       "<Figure size 432x288 with 1 Axes>"
      ]
     },
     "metadata": {
      "needs_background": "light"
     },
     "output_type": "display_data"
    },
    {
     "data": {
      "image/png": "[encoded data removed]",
      "text/plain": [
       "<Figure size 432x288 with 1 Axes>"
      ]
     },
     "metadata": {
      "needs_background": "light"
     },
     "output_type": "display_data"
    },
    {
     "data": {
      "image/png": "[encoded data removed]",
      "text/plain": [
       "<Figure size 432x288 with 1 Axes>"
      ]
     },
     "metadata": {
      "needs_background": "light"
     },
     "output_type": "display_data"
    }
   ],
   "source": [
    "sanityChecks.discProbVsError(train_data,disc3,device)\n",
    "sanityChecks.discProbVsError(test_data,disc3,device)"
   ]
  },
  {
   "cell_type": "markdown",
   "id": "a5bd74c3",
   "metadata": {
    "id": "a5bd74c3",
    "papermill": {
     "duration": 0.019461,
     "end_time": "2022-02-13T14:53:48.653933",
     "exception": false,
     "start_time": "2022-02-13T14:53:48.634472",
     "status": "completed"
    },
    "tags": []
   },
   "source": [
    "## Skip Connection Model Analysis - ABC-GAN "
   ]
  },
  {
   "cell_type": "markdown",
   "id": "5744a8bf",
   "metadata": {
    "id": "5744a8bf",
    "papermill": {
     "duration": 0.018651,
     "end_time": "2022-02-13T14:53:48.691398",
     "exception": false,
     "start_time": "2022-02-13T14:53:48.672747",
     "status": "completed"
    },
    "tags": []
   },
   "source": [
    "### Weight Analysis \n",
    "\n",
    "Study the weights of the skip connection layer\n",
    "\n",
    "Equation of the skip connection is \n",
    "\n",
    "$output = y_{gan} * w + y_{abc} * (1-w)$"
   ]
  },
  {
   "cell_type": "code",
   "execution_count": 19,
   "id": "52c31dea",
   "metadata": {
    "execution": {
     "iopub.execute_input": "2022-02-13T14:53:48.731825Z",
     "iopub.status.busy": "2022-02-13T14:53:48.731372Z",
     "iopub.status.idle": "2022-02-13T14:53:48.734906Z",
     "shell.execute_reply": "2022-02-13T14:53:48.735154Z"
    },
    "id": "52c31dea",
    "papermill": {
     "duration": 0.025156,
     "end_time": "2022-02-13T14:53:48.735265",
     "exception": false,
     "start_time": "2022-02-13T14:53:48.710109",
     "status": "completed"
    },
    "tags": []
   },
   "outputs": [
    {
     "name": "stdout",
     "output_type": "stream",
     "text": [
      "Weight of the node at skip connection\n",
      "Parameter containing:\n",
      "tensor([[0.7252]], requires_grad=True)\n"
     ]
    },
    {
     "data": {
      "application/scrapbook.scrap.json+json": {
       "data": 0.7251866459846497,
       "encoder": "json",
       "name": "Skip Connection Weight",
       "version": 1
      }
     },
     "metadata": {
      "scrapbook": {
       "data": true,
       "display": false,
       "name": "Skip Connection Weight"
      }
     },
     "output_type": "display_data"
    }
   ],
   "source": [
    "print(\"Weight of the node at skip connection\")\n",
    "for name,param in gen3.named_parameters():\n",
    "    if(name == \"skipNode.weight\"):\n",
    "        print(param)\n",
    "        sb.glue(\"Skip Connection Weight\",param.item())"
   ]
  }
 ],
 "metadata": {
  "colab": {
   "collapsed_sections": [],
   "name": "ABC_GAN_Model-Catboost_Pre-gen.ipynb",
   "provenance": []
  },
  "interpreter": {
   "hash": "31f2aee4e71d21fbe5cf8b01ff0e069b9275f58929596ceb00d14d90e3e16cd6"
  },
  "kernelspec": {
   "display_name": "Python 3 (ipykernel)",
   "language": "python",
   "name": "python3"
  },
  "language_info": {
   "codemirror_mode": {
    "name": "ipython",
    "version": 3
   },
   "file_extension": ".py",
   "mimetype": "text/x-python",
   "name": "python",
   "nbconvert_exporter": "python",
   "pygments_lexer": "ipython3",
   "version": "3.8.11"
  },
  "papermill": {
   "default_parameters": {},
   "duration": 55.509093,
   "end_time": "2022-02-13T14:53:49.061928",
   "environment_variables": {},
   "exception": null,
   "input_path": "ABC_GAN-Catboost.ipynb",
   "output_path": "./ABC_GAN_Catboost/ABC-GAN_output_5_1.ipynb",
   "parameters": {
    "variance": 0.1
   },
   "start_time": "2022-02-13T14:52:53.552835",
   "version": "2.3.3"
  }
 },
 "nbformat": 4,
 "nbformat_minor": 5
}