{
 "cells": [
  {
   "cell_type": "markdown",
   "id": "622780e6",
   "metadata": {
    "id": "622780e6",
    "papermill": {
     "duration": 0.033266,
     "end_time": "2022-02-13T14:50:05.296912",
     "exception": false,
     "start_time": "2022-02-13T14:50:05.263646",
     "status": "completed"
    },
    "tags": []
   },
   "source": [
    "## Import Libraries "
   ]
  },
  {
   "cell_type": "code",
   "execution_count": 1,
   "id": "a62397e3",
   "metadata": {
    "execution": {
     "iopub.execute_input": "2022-02-13T14:50:05.333351Z",
     "iopub.status.busy": "2022-02-13T14:50:05.332844Z",
     "iopub.status.idle": "2022-02-13T14:50:05.335067Z",
     "shell.execute_reply": "2022-02-13T14:50:05.335465Z"
    },
    "id": "a62397e3",
    "papermill": {
     "duration": 0.022185,
     "end_time": "2022-02-13T14:50:05.335669",
     "exception": false,
     "start_time": "2022-02-13T14:50:05.313484",
     "status": "completed"
    },
    "tags": []
   },
   "outputs": [],
   "source": [
    "import warnings\n",
    "import sys\n",
    "sys.path.insert(0, '../../src')\n",
    "warnings.filterwarnings('ignore')"
   ]
  },
  {
   "cell_type": "code",
   "execution_count": 2,
   "id": "d6a4e155",
   "metadata": {
    "execution": {
     "iopub.execute_input": "2022-02-13T14:50:05.356055Z",
     "iopub.status.busy": "2022-02-13T14:50:05.355643Z",
     "iopub.status.idle": "2022-02-13T14:50:06.916982Z",
     "shell.execute_reply": "2022-02-13T14:50:06.917207Z"
    },
    "id": "d6a4e155",
    "papermill": {
     "duration": 1.572204,
     "end_time": "2022-02-13T14:50:06.917334",
     "exception": false,
     "start_time": "2022-02-13T14:50:05.345130",
     "status": "completed"
    },
    "tags": []
   },
   "outputs": [],
   "source": [
    "import ABC_train_test2\n",
    "import friedman1Dataset\n",
    "import network\n",
    "import dataset\n",
    "import sanityChecks\n",
    "import torch \n",
    "import scrapbook as sb\n",
    "from statistics import mean \n",
    "import catboost as ctb \n",
    "from sklearn.model_selection import train_test_split\n",
    "from sklearn.metrics import mean_squared_error,mean_absolute_error\n",
    "import numpy as np"
   ]
  },
  {
   "cell_type": "markdown",
   "id": "2fa5b0f7",
   "metadata": {
    "id": "2fa5b0f7",
    "papermill": {
     "duration": 0.006717,
     "end_time": "2022-02-13T14:50:06.931174",
     "exception": false,
     "start_time": "2022-02-13T14:50:06.924457",
     "status": "completed"
    },
    "tags": []
   },
   "source": [
    "## Parameters "
   ]
  },
  {
   "cell_type": "code",
   "execution_count": 3,
   "id": "783186fb",
   "metadata": {
    "execution": {
     "iopub.execute_input": "2022-02-13T14:50:06.946748Z",
     "iopub.status.busy": "2022-02-13T14:50:06.946386Z",
     "iopub.status.idle": "2022-02-13T14:50:06.947657Z",
     "shell.execute_reply": "2022-02-13T14:50:06.947907Z"
    },
    "id": "783186fb",
    "papermill": {
     "duration": 0.010218,
     "end_time": "2022-02-13T14:50:06.948017",
     "exception": false,
     "start_time": "2022-02-13T14:50:06.937799",
     "status": "completed"
    },
    "tags": [
     "parameters"
    ]
   },
   "outputs": [],
   "source": [
    "variance = 1"
   ]
  },
  {
   "cell_type": "code",
   "execution_count": 4,
   "id": "17f1ea39",
   "metadata": {
    "execution": {
     "iopub.execute_input": "2022-02-13T14:50:06.963423Z",
     "iopub.status.busy": "2022-02-13T14:50:06.963067Z",
     "iopub.status.idle": "2022-02-13T14:50:06.964381Z",
     "shell.execute_reply": "2022-02-13T14:50:06.964635Z"
    },
    "papermill": {
     "duration": 0.009815,
     "end_time": "2022-02-13T14:50:06.964742",
     "exception": false,
     "start_time": "2022-02-13T14:50:06.954927",
     "status": "completed"
    },
    "tags": [
     "injected-parameters"
    ]
   },
   "outputs": [],
   "source": [
    "# Parameters\n",
    "variance = 0.1\n"
   ]
  },
  {
   "cell_type": "markdown",
   "id": "391cdbfd",
   "metadata": {
    "id": "391cdbfd",
    "papermill": {
     "duration": 0.006678,
     "end_time": "2022-02-13T14:50:06.978350",
     "exception": false,
     "start_time": "2022-02-13T14:50:06.971672",
     "status": "completed"
    },
    "tags": []
   },
   "source": [
    "## Dataset \n"
   ]
  },
  {
   "cell_type": "code",
   "execution_count": 5,
   "id": "5b51f161",
   "metadata": {
    "execution": {
     "iopub.execute_input": "2022-02-13T14:50:06.993671Z",
     "iopub.status.busy": "2022-02-13T14:50:06.993295Z",
     "iopub.status.idle": "2022-02-13T14:50:06.994515Z",
     "shell.execute_reply": "2022-02-13T14:50:06.994761Z"
    },
    "id": "5b51f161",
    "papermill": {
     "duration": 0.009772,
     "end_time": "2022-02-13T14:50:06.994866",
     "exception": false,
     "start_time": "2022-02-13T14:50:06.985094",
     "status": "completed"
    },
    "tags": []
   },
   "outputs": [],
   "source": [
    "#Parameters \n",
    "n_features = 5\n",
    "n_samples= 100\n",
    "n_target = 1 "
   ]
  },
  {
   "cell_type": "code",
   "execution_count": 6,
   "id": "5d6eced4",
   "metadata": {
    "execution": {
     "iopub.execute_input": "2022-02-13T14:50:07.011254Z",
     "iopub.status.busy": "2022-02-13T14:50:07.009991Z",
     "iopub.status.idle": "2022-02-13T14:50:07.015837Z",
     "shell.execute_reply": "2022-02-13T14:50:07.016122Z"
    },
    "id": "5d6eced4",
    "papermill": {
     "duration": 0.01459,
     "end_time": "2022-02-13T14:50:07.016232",
     "exception": false,
     "start_time": "2022-02-13T14:50:07.001642",
     "status": "completed"
    },
    "tags": []
   },
   "outputs": [
    {
     "name": "stdout",
     "output_type": "stream",
     "text": [
      "         X0        X1        X2        X3        X4         Y\n",
      "0 -1.386152  1.035888 -0.469657 -0.386228  1.718429 -0.488970\n",
      "1  0.556171 -0.423648 -0.899195  0.346005  0.306546  0.661344\n",
      "2 -0.804060  0.467254  1.408014  0.189050  1.786269  0.861535\n",
      "3 -0.934088 -0.182289  0.448335  0.920510 -1.123702 -0.516724\n",
      "4  1.019080  1.595359 -0.706119 -1.507550 -1.416537 -1.049736\n"
     ]
    }
   ],
   "source": [
    "X,Y = friedman1Dataset.friedman1_data(n_samples,n_features)"
   ]
  },
  {
   "cell_type": "code",
   "execution_count": 7,
   "id": "fe007438",
   "metadata": {
    "execution": {
     "iopub.execute_input": "2022-02-13T14:50:07.032935Z",
     "iopub.status.busy": "2022-02-13T14:50:07.032569Z",
     "iopub.status.idle": "2022-02-13T14:50:07.033898Z",
     "shell.execute_reply": "2022-02-13T14:50:07.034149Z"
    },
    "id": "fe007438",
    "papermill": {
     "duration": 0.010815,
     "end_time": "2022-02-13T14:50:07.034255",
     "exception": false,
     "start_time": "2022-02-13T14:50:07.023440",
     "status": "completed"
    },
    "tags": []
   },
   "outputs": [],
   "source": [
    "#Train test split for dataset \n",
    "X_train,X_test,Y_train,Y_test = train_test_split(X,Y,test_size = 0.2)\n",
    "train_data = dataset.CustomDataset(X_train,Y_train)\n",
    "test_data = dataset.CustomDataset(X_test,Y_test)\n"
   ]
  },
  {
   "cell_type": "markdown",
   "id": "a9a1af34",
   "metadata": {
    "id": "a9a1af34",
    "papermill": {
     "duration": 0.007121,
     "end_time": "2022-02-13T14:50:07.048659",
     "exception": false,
     "start_time": "2022-02-13T14:50:07.041538",
     "status": "completed"
    },
    "tags": []
   },
   "source": [
    "## Training Parameters "
   ]
  },
  {
   "cell_type": "code",
   "execution_count": 8,
   "id": "952b7fc8",
   "metadata": {
    "execution": {
     "iopub.execute_input": "2022-02-13T14:50:07.065142Z",
     "iopub.status.busy": "2022-02-13T14:50:07.064788Z",
     "iopub.status.idle": "2022-02-13T14:50:07.066070Z",
     "shell.execute_reply": "2022-02-13T14:50:07.066331Z"
    },
    "id": "952b7fc8",
    "papermill": {
     "duration": 0.010765,
     "end_time": "2022-02-13T14:50:07.066442",
     "exception": false,
     "start_time": "2022-02-13T14:50:07.055677",
     "status": "completed"
    },
    "tags": []
   },
   "outputs": [],
   "source": [
    "batch_size = 32\n",
    "n_epochs = 1000\n",
    "#Select the device \n",
    "device = torch.device('cuda' if torch.cuda.is_available() else 'cpu')"
   ]
  },
  {
   "cell_type": "markdown",
   "id": "a95e1600",
   "metadata": {
    "id": "a95e1600",
    "papermill": {
     "duration": 0.007033,
     "end_time": "2022-02-13T14:50:07.080648",
     "exception": false,
     "start_time": "2022-02-13T14:50:07.073615",
     "status": "completed"
    },
    "tags": []
   },
   "source": [
    "# ABC Pre-generator Model \n",
    "\n",
    "1. The catboost model is used as a pre-generator model for the ABC-GAN. \n",
    "2. The model is first trained on the entire dataset \n",
    "3. It generats X,Y pairs and we add some Gaussian noise with mean 0 and variance 1 to it which is then feed as input to the generator.\n"
   ]
  },
  {
   "cell_type": "code",
   "execution_count": 9,
   "id": "ff8ce7bd",
   "metadata": {
    "execution": {
     "iopub.execute_input": "2022-02-13T14:50:07.098253Z",
     "iopub.status.busy": "2022-02-13T14:50:07.097862Z",
     "iopub.status.idle": "2022-02-13T14:50:07.716405Z",
     "shell.execute_reply": "2022-02-13T14:50:07.716703Z"
    },
    "id": "ff8ce7bd",
    "papermill": {
     "duration": 0.629084,
     "end_time": "2022-02-13T14:50:07.716825",
     "exception": false,
     "start_time": "2022-02-13T14:50:07.087741",
     "status": "completed"
    },
    "tags": []
   },
   "outputs": [
    {
     "name": "stdout",
     "output_type": "stream",
     "text": [
      "Learning rate set to 0.024897\n",
      "0:\tlearn: 0.8909845\ttotal: 58.3ms\tremaining: 58.3s\n",
      "1:\tlearn: 0.8809178\ttotal: 58.9ms\tremaining: 29.4s\n",
      "2:\tlearn: 0.8724226\ttotal: 59.5ms\tremaining: 19.8s\n",
      "3:\tlearn: 0.8625260\ttotal: 60ms\tremaining: 14.9s\n",
      "4:\tlearn: 0.8558560\ttotal: 60.4ms\tremaining: 12s\n",
      "5:\tlearn: 0.8490201\ttotal: 60.8ms\tremaining: 10.1s\n",
      "6:\tlearn: 0.8419420\ttotal: 61.4ms\tremaining: 8.71s\n",
      "7:\tlearn: 0.8351560\ttotal: 61.9ms\tremaining: 7.68s\n",
      "8:\tlearn: 0.8269162\ttotal: 62.6ms\tremaining: 6.89s\n",
      "9:\tlearn: 0.8200397\ttotal: 63.1ms\tremaining: 6.25s\n",
      "10:\tlearn: 0.8125456\ttotal: 63.6ms\tremaining: 5.72s\n",
      "11:\tlearn: 0.8048392\ttotal: 64.2ms\tremaining: 5.29s\n",
      "12:\tlearn: 0.7975828\ttotal: 64.8ms\tremaining: 4.92s\n",
      "13:\tlearn: 0.7898768\ttotal: 65.3ms\tremaining: 4.59s\n",
      "14:\tlearn: 0.7834316\ttotal: 65.7ms\tremaining: 4.31s\n",
      "15:\tlearn: 0.7781796\ttotal: 66.1ms\tremaining: 4.06s\n",
      "16:\tlearn: 0.7719676\ttotal: 66.5ms\tremaining: 3.85s\n",
      "17:\tlearn: 0.7648964\ttotal: 66.9ms\tremaining: 3.65s\n",
      "18:\tlearn: 0.7582305\ttotal: 67.3ms\tremaining: 3.48s\n",
      "19:\tlearn: 0.7529106\ttotal: 67.8ms\tremaining: 3.32s\n",
      "20:\tlearn: 0.7464258\ttotal: 68.2ms\tremaining: 3.18s\n",
      "21:\tlearn: 0.7405649\ttotal: 68.6ms\tremaining: 3.05s\n",
      "22:\tlearn: 0.7326033\ttotal: 69ms\tremaining: 2.93s\n",
      "23:\tlearn: 0.7253104\ttotal: 69.5ms\tremaining: 2.83s\n",
      "24:\tlearn: 0.7193270\ttotal: 69.9ms\tremaining: 2.73s\n",
      "25:\tlearn: 0.7137819\ttotal: 70.4ms\tremaining: 2.64s\n",
      "26:\tlearn: 0.7083773\ttotal: 70.9ms\tremaining: 2.55s\n",
      "27:\tlearn: 0.7017406\ttotal: 71.3ms\tremaining: 2.47s\n",
      "28:\tlearn: 0.6952818\ttotal: 71.8ms\tremaining: 2.4s\n",
      "29:\tlearn: 0.6904972\ttotal: 72.1ms\tremaining: 2.33s\n",
      "30:\tlearn: 0.6839764\ttotal: 72.6ms\tremaining: 2.27s\n",
      "31:\tlearn: 0.6778018\ttotal: 73ms\tremaining: 2.21s\n",
      "32:\tlearn: 0.6726566\ttotal: 73.5ms\tremaining: 2.15s\n",
      "33:\tlearn: 0.6673543\ttotal: 73.9ms\tremaining: 2.1s\n",
      "34:\tlearn: 0.6616753\ttotal: 74.3ms\tremaining: 2.05s\n",
      "35:\tlearn: 0.6573864\ttotal: 74.9ms\tremaining: 2s\n",
      "36:\tlearn: 0.6524174\ttotal: 75.3ms\tremaining: 1.96s\n",
      "37:\tlearn: 0.6472555\ttotal: 75.7ms\tremaining: 1.92s\n",
      "38:\tlearn: 0.6417806\ttotal: 76.2ms\tremaining: 1.88s\n",
      "39:\tlearn: 0.6373082\ttotal: 76.7ms\tremaining: 1.84s\n",
      "40:\tlearn: 0.6334293\ttotal: 77.2ms\tremaining: 1.8s\n",
      "41:\tlearn: 0.6270314\ttotal: 77.6ms\tremaining: 1.77s\n",
      "42:\tlearn: 0.6223211\ttotal: 78.1ms\tremaining: 1.74s\n",
      "43:\tlearn: 0.6164641\ttotal: 78.5ms\tremaining: 1.71s\n",
      "44:\tlearn: 0.6107509\ttotal: 78.9ms\tremaining: 1.68s\n",
      "45:\tlearn: 0.6060544\ttotal: 79.4ms\tremaining: 1.65s\n",
      "46:\tlearn: 0.6012171\ttotal: 79.8ms\tremaining: 1.62s\n",
      "47:\tlearn: 0.5963132\ttotal: 80.2ms\tremaining: 1.59s\n",
      "48:\tlearn: 0.5918744\ttotal: 80.6ms\tremaining: 1.56s\n",
      "49:\tlearn: 0.5875327\ttotal: 81ms\tremaining: 1.54s\n",
      "50:\tlearn: 0.5819847\ttotal: 81.4ms\tremaining: 1.51s\n",
      "51:\tlearn: 0.5766549\ttotal: 81.8ms\tremaining: 1.49s\n",
      "52:\tlearn: 0.5728461\ttotal: 82.3ms\tremaining: 1.47s\n",
      "53:\tlearn: 0.5685432\ttotal: 82.8ms\tremaining: 1.45s\n",
      "54:\tlearn: 0.5643767\ttotal: 83.4ms\tremaining: 1.43s\n",
      "55:\tlearn: 0.5610689\ttotal: 83.9ms\tremaining: 1.41s\n",
      "56:\tlearn: 0.5567593\ttotal: 84.5ms\tremaining: 1.4s\n",
      "57:\tlearn: 0.5511426\ttotal: 85.1ms\tremaining: 1.38s\n",
      "58:\tlearn: 0.5470094\ttotal: 85.7ms\tremaining: 1.37s\n",
      "59:\tlearn: 0.5424189\ttotal: 86.2ms\tremaining: 1.35s\n",
      "60:\tlearn: 0.5382685\ttotal: 86.8ms\tremaining: 1.33s\n",
      "61:\tlearn: 0.5336571\ttotal: 87.3ms\tremaining: 1.32s\n",
      "62:\tlearn: 0.5302865\ttotal: 87.9ms\tremaining: 1.31s\n",
      "63:\tlearn: 0.5261516\ttotal: 88.4ms\tremaining: 1.29s\n",
      "64:\tlearn: 0.5225874\ttotal: 88.7ms\tremaining: 1.27s\n",
      "65:\tlearn: 0.5193524\ttotal: 89.1ms\tremaining: 1.26s\n",
      "66:\tlearn: 0.5150005\ttotal: 89.6ms\tremaining: 1.25s\n",
      "67:\tlearn: 0.5107816\ttotal: 90.1ms\tremaining: 1.24s\n",
      "68:\tlearn: 0.5066294\ttotal: 90.6ms\tremaining: 1.22s\n",
      "69:\tlearn: 0.5037664\ttotal: 91.1ms\tremaining: 1.21s\n",
      "70:\tlearn: 0.5010622\ttotal: 91.5ms\tremaining: 1.2s\n",
      "71:\tlearn: 0.4977367\ttotal: 92ms\tremaining: 1.19s\n",
      "72:\tlearn: 0.4941123\ttotal: 92.3ms\tremaining: 1.17s\n",
      "73:\tlearn: 0.4907044\ttotal: 92.7ms\tremaining: 1.16s\n",
      "74:\tlearn: 0.4869913\ttotal: 93.2ms\tremaining: 1.15s\n",
      "75:\tlearn: 0.4835290\ttotal: 93.7ms\tremaining: 1.14s\n",
      "76:\tlearn: 0.4809073\ttotal: 94.1ms\tremaining: 1.13s\n",
      "77:\tlearn: 0.4772904\ttotal: 94.7ms\tremaining: 1.12s\n",
      "78:\tlearn: 0.4732792\ttotal: 95ms\tremaining: 1.11s\n",
      "79:\tlearn: 0.4706008\ttotal: 95.4ms\tremaining: 1.1s\n",
      "80:\tlearn: 0.4674192\ttotal: 95.8ms\tremaining: 1.09s\n",
      "81:\tlearn: 0.4637087\ttotal: 96.3ms\tremaining: 1.08s\n",
      "82:\tlearn: 0.4603396\ttotal: 96.8ms\tremaining: 1.07s\n",
      "83:\tlearn: 0.4569013\ttotal: 97.3ms\tremaining: 1.06s\n",
      "84:\tlearn: 0.4543466\ttotal: 97.8ms\tremaining: 1.05s\n",
      "85:\tlearn: 0.4509686\ttotal: 98.2ms\tremaining: 1.04s\n",
      "86:\tlearn: 0.4477208\ttotal: 98.7ms\tremaining: 1.03s\n",
      "87:\tlearn: 0.4445211\ttotal: 99.2ms\tremaining: 1.03s\n",
      "88:\tlearn: 0.4409264\ttotal: 99.7ms\tremaining: 1.02s\n",
      "89:\tlearn: 0.4383295\ttotal: 100ms\tremaining: 1.01s\n",
      "90:\tlearn: 0.4355238\ttotal: 101ms\tremaining: 1s\n",
      "91:\tlearn: 0.4329121\ttotal: 101ms\tremaining: 997ms\n",
      "92:\tlearn: 0.4297102\ttotal: 101ms\tremaining: 989ms\n",
      "93:\tlearn: 0.4265602\ttotal: 102ms\tremaining: 982ms\n",
      "94:\tlearn: 0.4236562\ttotal: 102ms\tremaining: 976ms\n",
      "95:\tlearn: 0.4205511\ttotal: 103ms\tremaining: 970ms\n",
      "96:\tlearn: 0.4183600\ttotal: 104ms\tremaining: 964ms\n",
      "97:\tlearn: 0.4154871\ttotal: 104ms\tremaining: 957ms\n",
      "98:\tlearn: 0.4127564\ttotal: 104ms\tremaining: 949ms\n",
      "99:\tlearn: 0.4099717\ttotal: 105ms\tremaining: 942ms\n",
      "100:\tlearn: 0.4068362\ttotal: 105ms\tremaining: 935ms\n",
      "101:\tlearn: 0.4042306\ttotal: 105ms\tremaining: 929ms\n",
      "102:\tlearn: 0.4009368\ttotal: 106ms\tremaining: 922ms\n",
      "103:\tlearn: 0.3984396\ttotal: 106ms\tremaining: 916ms\n",
      "104:\tlearn: 0.3965090\ttotal: 107ms\tremaining: 910ms\n",
      "105:\tlearn: 0.3931302\ttotal: 107ms\tremaining: 904ms\n",
      "106:\tlearn: 0.3902165\ttotal: 108ms\tremaining: 898ms\n",
      "107:\tlearn: 0.3867041\ttotal: 108ms\tremaining: 892ms\n"
     ]
    },
    {
     "name": "stdout",
     "output_type": "stream",
     "text": [
      "108:\tlearn: 0.3844434\ttotal: 109ms\tremaining: 890ms\n",
      "109:\tlearn: 0.3812878\ttotal: 110ms\tremaining: 886ms\n",
      "110:\tlearn: 0.3788572\ttotal: 110ms\tremaining: 880ms\n",
      "111:\tlearn: 0.3765180\ttotal: 110ms\tremaining: 875ms\n",
      "112:\tlearn: 0.3731973\ttotal: 111ms\tremaining: 870ms\n",
      "113:\tlearn: 0.3710065\ttotal: 111ms\tremaining: 865ms\n",
      "114:\tlearn: 0.3686392\ttotal: 112ms\tremaining: 859ms\n",
      "115:\tlearn: 0.3665238\ttotal: 112ms\tremaining: 854ms\n",
      "116:\tlearn: 0.3632508\ttotal: 113ms\tremaining: 850ms\n",
      "117:\tlearn: 0.3604305\ttotal: 113ms\tremaining: 845ms\n",
      "118:\tlearn: 0.3583038\ttotal: 115ms\tremaining: 850ms\n",
      "119:\tlearn: 0.3556498\ttotal: 115ms\tremaining: 846ms\n",
      "120:\tlearn: 0.3527436\ttotal: 116ms\tremaining: 841ms\n",
      "121:\tlearn: 0.3499929\ttotal: 116ms\tremaining: 836ms\n",
      "122:\tlearn: 0.3481745\ttotal: 117ms\tremaining: 832ms\n",
      "123:\tlearn: 0.3458079\ttotal: 117ms\tremaining: 827ms\n",
      "124:\tlearn: 0.3434948\ttotal: 118ms\tremaining: 823ms\n",
      "125:\tlearn: 0.3411677\ttotal: 118ms\tremaining: 819ms\n",
      "126:\tlearn: 0.3388585\ttotal: 119ms\tremaining: 815ms\n",
      "127:\tlearn: 0.3369869\ttotal: 119ms\tremaining: 811ms\n",
      "128:\tlearn: 0.3348103\ttotal: 120ms\tremaining: 808ms\n",
      "129:\tlearn: 0.3321956\ttotal: 120ms\tremaining: 805ms\n",
      "130:\tlearn: 0.3301864\ttotal: 121ms\tremaining: 800ms\n",
      "131:\tlearn: 0.3283872\ttotal: 121ms\tremaining: 797ms\n",
      "132:\tlearn: 0.3261815\ttotal: 122ms\tremaining: 794ms\n",
      "133:\tlearn: 0.3239512\ttotal: 122ms\tremaining: 790ms\n",
      "134:\tlearn: 0.3219639\ttotal: 123ms\tremaining: 785ms\n",
      "135:\tlearn: 0.3205206\ttotal: 123ms\tremaining: 781ms\n",
      "136:\tlearn: 0.3185236\ttotal: 124ms\tremaining: 778ms\n",
      "137:\tlearn: 0.3168439\ttotal: 125ms\tremaining: 779ms\n",
      "138:\tlearn: 0.3149237\ttotal: 125ms\tremaining: 775ms\n",
      "139:\tlearn: 0.3132669\ttotal: 126ms\tremaining: 771ms\n",
      "140:\tlearn: 0.3111173\ttotal: 126ms\tremaining: 767ms\n",
      "141:\tlearn: 0.3096175\ttotal: 126ms\tremaining: 763ms\n",
      "142:\tlearn: 0.3075396\ttotal: 127ms\tremaining: 759ms\n",
      "143:\tlearn: 0.3056532\ttotal: 127ms\tremaining: 755ms\n",
      "144:\tlearn: 0.3032751\ttotal: 128ms\tremaining: 752ms\n",
      "145:\tlearn: 0.3010408\ttotal: 128ms\tremaining: 750ms\n",
      "146:\tlearn: 0.2985113\ttotal: 129ms\tremaining: 746ms\n",
      "147:\tlearn: 0.2964343\ttotal: 129ms\tremaining: 742ms\n",
      "148:\tlearn: 0.2946052\ttotal: 129ms\tremaining: 739ms\n",
      "149:\tlearn: 0.2922858\ttotal: 130ms\tremaining: 735ms\n",
      "150:\tlearn: 0.2901731\ttotal: 130ms\tremaining: 732ms\n",
      "151:\tlearn: 0.2881310\ttotal: 131ms\tremaining: 729ms\n",
      "152:\tlearn: 0.2863175\ttotal: 131ms\tremaining: 726ms\n",
      "153:\tlearn: 0.2845958\ttotal: 132ms\tremaining: 723ms\n",
      "154:\tlearn: 0.2828380\ttotal: 132ms\tremaining: 719ms\n",
      "155:\tlearn: 0.2812923\ttotal: 132ms\tremaining: 716ms\n",
      "156:\tlearn: 0.2791670\ttotal: 133ms\tremaining: 713ms\n",
      "157:\tlearn: 0.2772094\ttotal: 133ms\tremaining: 711ms\n",
      "158:\tlearn: 0.2754344\ttotal: 134ms\tremaining: 709ms\n",
      "159:\tlearn: 0.2732661\ttotal: 135ms\tremaining: 706ms\n",
      "160:\tlearn: 0.2715155\ttotal: 135ms\tremaining: 704ms\n",
      "161:\tlearn: 0.2697386\ttotal: 136ms\tremaining: 702ms\n",
      "162:\tlearn: 0.2679900\ttotal: 136ms\tremaining: 699ms\n",
      "163:\tlearn: 0.2661292\ttotal: 137ms\tremaining: 696ms\n",
      "164:\tlearn: 0.2649917\ttotal: 137ms\tremaining: 694ms\n",
      "165:\tlearn: 0.2630461\ttotal: 138ms\tremaining: 692ms\n",
      "166:\tlearn: 0.2614311\ttotal: 138ms\tremaining: 689ms\n",
      "167:\tlearn: 0.2598422\ttotal: 139ms\tremaining: 687ms\n",
      "168:\tlearn: 0.2581987\ttotal: 139ms\tremaining: 685ms\n",
      "169:\tlearn: 0.2567796\ttotal: 140ms\tremaining: 683ms\n",
      "170:\tlearn: 0.2551811\ttotal: 140ms\tremaining: 681ms\n",
      "171:\tlearn: 0.2535884\ttotal: 141ms\tremaining: 679ms\n",
      "172:\tlearn: 0.2519947\ttotal: 142ms\tremaining: 677ms\n",
      "173:\tlearn: 0.2503364\ttotal: 142ms\tremaining: 675ms\n",
      "174:\tlearn: 0.2484203\ttotal: 143ms\tremaining: 673ms\n",
      "175:\tlearn: 0.2465397\ttotal: 143ms\tremaining: 670ms\n",
      "176:\tlearn: 0.2446910\ttotal: 144ms\tremaining: 668ms\n",
      "177:\tlearn: 0.2433065\ttotal: 144ms\tremaining: 666ms\n",
      "178:\tlearn: 0.2416329\ttotal: 145ms\tremaining: 664ms\n",
      "179:\tlearn: 0.2400351\ttotal: 145ms\tremaining: 661ms\n",
      "180:\tlearn: 0.2383912\ttotal: 146ms\tremaining: 659ms\n",
      "181:\tlearn: 0.2372845\ttotal: 146ms\tremaining: 657ms\n",
      "182:\tlearn: 0.2356437\ttotal: 147ms\tremaining: 655ms\n",
      "183:\tlearn: 0.2341124\ttotal: 147ms\tremaining: 653ms\n",
      "184:\tlearn: 0.2325379\ttotal: 148ms\tremaining: 651ms\n",
      "185:\tlearn: 0.2310528\ttotal: 148ms\tremaining: 649ms\n",
      "186:\tlearn: 0.2296603\ttotal: 149ms\tremaining: 647ms\n",
      "187:\tlearn: 0.2277580\ttotal: 149ms\tremaining: 645ms\n",
      "188:\tlearn: 0.2258886\ttotal: 150ms\tremaining: 643ms\n",
      "189:\tlearn: 0.2242377\ttotal: 150ms\tremaining: 641ms\n",
      "190:\tlearn: 0.2226290\ttotal: 151ms\tremaining: 640ms\n",
      "191:\tlearn: 0.2209183\ttotal: 152ms\tremaining: 638ms\n",
      "192:\tlearn: 0.2192928\ttotal: 152ms\tremaining: 635ms\n",
      "193:\tlearn: 0.2179322\ttotal: 153ms\tremaining: 634ms\n",
      "194:\tlearn: 0.2163083\ttotal: 153ms\tremaining: 632ms\n",
      "195:\tlearn: 0.2147265\ttotal: 154ms\tremaining: 631ms\n",
      "196:\tlearn: 0.2130167\ttotal: 154ms\tremaining: 628ms\n",
      "197:\tlearn: 0.2114269\ttotal: 155ms\tremaining: 626ms\n",
      "198:\tlearn: 0.2098463\ttotal: 155ms\tremaining: 624ms\n",
      "199:\tlearn: 0.2083261\ttotal: 156ms\tremaining: 622ms\n",
      "200:\tlearn: 0.2071754\ttotal: 156ms\tremaining: 620ms\n",
      "201:\tlearn: 0.2058142\ttotal: 157ms\tremaining: 618ms\n",
      "202:\tlearn: 0.2046567\ttotal: 157ms\tremaining: 616ms\n",
      "203:\tlearn: 0.2029145\ttotal: 158ms\tremaining: 615ms\n",
      "204:\tlearn: 0.2013142\ttotal: 158ms\tremaining: 613ms\n",
      "205:\tlearn: 0.1995968\ttotal: 159ms\tremaining: 611ms\n",
      "206:\tlearn: 0.1987598\ttotal: 159ms\tremaining: 610ms\n",
      "207:\tlearn: 0.1971075\ttotal: 160ms\tremaining: 607ms\n",
      "208:\tlearn: 0.1959588\ttotal: 160ms\tremaining: 606ms\n",
      "209:\tlearn: 0.1944856\ttotal: 161ms\tremaining: 604ms\n",
      "210:\tlearn: 0.1930502\ttotal: 161ms\tremaining: 602ms\n",
      "211:\tlearn: 0.1916951\ttotal: 161ms\tremaining: 600ms\n",
      "212:\tlearn: 0.1905792\ttotal: 162ms\tremaining: 599ms\n",
      "213:\tlearn: 0.1891385\ttotal: 162ms\tremaining: 596ms\n",
      "214:\tlearn: 0.1878127\ttotal: 163ms\tremaining: 594ms\n",
      "215:\tlearn: 0.1862896\ttotal: 163ms\tremaining: 592ms\n",
      "216:\tlearn: 0.1851438\ttotal: 164ms\tremaining: 590ms\n",
      "217:\tlearn: 0.1838931\ttotal: 164ms\tremaining: 589ms\n",
      "218:\tlearn: 0.1826102\ttotal: 165ms\tremaining: 587ms\n",
      "219:\tlearn: 0.1810499\ttotal: 165ms\tremaining: 586ms\n",
      "220:\tlearn: 0.1795664\ttotal: 166ms\tremaining: 584ms\n",
      "221:\tlearn: 0.1782296\ttotal: 166ms\tremaining: 582ms\n",
      "222:\tlearn: 0.1770217\ttotal: 167ms\tremaining: 581ms\n",
      "223:\tlearn: 0.1756574\ttotal: 167ms\tremaining: 579ms\n",
      "224:\tlearn: 0.1744062\ttotal: 168ms\tremaining: 577ms\n",
      "225:\tlearn: 0.1734780\ttotal: 168ms\tremaining: 576ms\n",
      "226:\tlearn: 0.1725779\ttotal: 169ms\tremaining: 574ms\n",
      "227:\tlearn: 0.1711889\ttotal: 169ms\tremaining: 573ms\n",
      "228:\tlearn: 0.1700976\ttotal: 170ms\tremaining: 571ms\n",
      "229:\tlearn: 0.1686861\ttotal: 170ms\tremaining: 569ms\n",
      "230:\tlearn: 0.1674078\ttotal: 171ms\tremaining: 568ms\n",
      "231:\tlearn: 0.1660231\ttotal: 171ms\tremaining: 566ms\n",
      "232:\tlearn: 0.1646486\ttotal: 172ms\tremaining: 565ms\n",
      "233:\tlearn: 0.1633200\ttotal: 172ms\tremaining: 563ms\n",
      "234:\tlearn: 0.1621828\ttotal: 172ms\tremaining: 561ms\n",
      "235:\tlearn: 0.1609419\ttotal: 173ms\tremaining: 560ms\n",
      "236:\tlearn: 0.1597698\ttotal: 173ms\tremaining: 558ms\n",
      "237:\tlearn: 0.1585593\ttotal: 174ms\tremaining: 557ms\n",
      "238:\tlearn: 0.1572981\ttotal: 174ms\tremaining: 555ms\n",
      "239:\tlearn: 0.1564025\ttotal: 175ms\tremaining: 554ms\n",
      "240:\tlearn: 0.1552897\ttotal: 175ms\tremaining: 552ms\n",
      "241:\tlearn: 0.1542790\ttotal: 176ms\tremaining: 551ms\n",
      "242:\tlearn: 0.1529455\ttotal: 177ms\tremaining: 550ms\n",
      "243:\tlearn: 0.1518068\ttotal: 178ms\tremaining: 550ms\n",
      "244:\tlearn: 0.1508735\ttotal: 178ms\tremaining: 549ms\n",
      "245:\tlearn: 0.1497566\ttotal: 179ms\tremaining: 547ms\n",
      "246:\tlearn: 0.1487008\ttotal: 179ms\tremaining: 546ms\n",
      "247:\tlearn: 0.1476585\ttotal: 180ms\tremaining: 545ms\n",
      "248:\tlearn: 0.1466917\ttotal: 180ms\tremaining: 543ms\n",
      "249:\tlearn: 0.1456462\ttotal: 180ms\tremaining: 541ms\n",
      "250:\tlearn: 0.1445719\ttotal: 181ms\tremaining: 540ms\n",
      "251:\tlearn: 0.1435369\ttotal: 181ms\tremaining: 538ms\n",
      "252:\tlearn: 0.1424313\ttotal: 182ms\tremaining: 537ms\n",
      "253:\tlearn: 0.1416705\ttotal: 182ms\tremaining: 535ms\n",
      "254:\tlearn: 0.1407067\ttotal: 183ms\tremaining: 534ms\n",
      "255:\tlearn: 0.1395082\ttotal: 183ms\tremaining: 532ms\n",
      "256:\tlearn: 0.1385580\ttotal: 184ms\tremaining: 531ms\n",
      "257:\tlearn: 0.1374514\ttotal: 184ms\tremaining: 529ms\n",
      "258:\tlearn: 0.1364185\ttotal: 185ms\tremaining: 528ms\n",
      "259:\tlearn: 0.1354122\ttotal: 185ms\tremaining: 527ms\n",
      "260:\tlearn: 0.1342847\ttotal: 186ms\tremaining: 525ms\n",
      "261:\tlearn: 0.1331471\ttotal: 186ms\tremaining: 524ms\n"
     ]
    },
    {
     "name": "stdout",
     "output_type": "stream",
     "text": [
      "262:\tlearn: 0.1320933\ttotal: 187ms\tremaining: 523ms\n",
      "263:\tlearn: 0.1310947\ttotal: 187ms\tremaining: 523ms\n",
      "264:\tlearn: 0.1302745\ttotal: 188ms\tremaining: 521ms\n",
      "265:\tlearn: 0.1292507\ttotal: 188ms\tremaining: 520ms\n",
      "266:\tlearn: 0.1282152\ttotal: 189ms\tremaining: 519ms\n",
      "267:\tlearn: 0.1272472\ttotal: 190ms\tremaining: 518ms\n",
      "268:\tlearn: 0.1263276\ttotal: 190ms\tremaining: 517ms\n",
      "269:\tlearn: 0.1253862\ttotal: 191ms\tremaining: 516ms\n",
      "270:\tlearn: 0.1245014\ttotal: 192ms\tremaining: 515ms\n",
      "271:\tlearn: 0.1234206\ttotal: 192ms\tremaining: 514ms\n",
      "272:\tlearn: 0.1224041\ttotal: 193ms\tremaining: 513ms\n",
      "273:\tlearn: 0.1212270\ttotal: 193ms\tremaining: 512ms\n",
      "274:\tlearn: 0.1204292\ttotal: 194ms\tremaining: 510ms\n",
      "275:\tlearn: 0.1195842\ttotal: 194ms\tremaining: 509ms\n",
      "276:\tlearn: 0.1186111\ttotal: 195ms\tremaining: 508ms\n",
      "277:\tlearn: 0.1175794\ttotal: 195ms\tremaining: 507ms\n",
      "278:\tlearn: 0.1166954\ttotal: 196ms\tremaining: 506ms\n",
      "279:\tlearn: 0.1158057\ttotal: 196ms\tremaining: 505ms\n",
      "280:\tlearn: 0.1149299\ttotal: 197ms\tremaining: 503ms\n",
      "281:\tlearn: 0.1140075\ttotal: 197ms\tremaining: 502ms\n",
      "282:\tlearn: 0.1131460\ttotal: 198ms\tremaining: 501ms\n",
      "283:\tlearn: 0.1122215\ttotal: 198ms\tremaining: 500ms\n",
      "284:\tlearn: 0.1112621\ttotal: 199ms\tremaining: 499ms\n",
      "285:\tlearn: 0.1102778\ttotal: 199ms\tremaining: 498ms\n",
      "286:\tlearn: 0.1096729\ttotal: 200ms\tremaining: 496ms\n",
      "287:\tlearn: 0.1088357\ttotal: 200ms\tremaining: 495ms\n",
      "288:\tlearn: 0.1080623\ttotal: 201ms\tremaining: 494ms\n",
      "289:\tlearn: 0.1072696\ttotal: 201ms\tremaining: 493ms\n",
      "290:\tlearn: 0.1065638\ttotal: 202ms\tremaining: 492ms\n",
      "291:\tlearn: 0.1058421\ttotal: 202ms\tremaining: 491ms\n",
      "292:\tlearn: 0.1050488\ttotal: 203ms\tremaining: 489ms\n",
      "293:\tlearn: 0.1043805\ttotal: 203ms\tremaining: 489ms\n",
      "294:\tlearn: 0.1035847\ttotal: 204ms\tremaining: 488ms\n",
      "295:\tlearn: 0.1027765\ttotal: 205ms\tremaining: 487ms\n",
      "296:\tlearn: 0.1020889\ttotal: 205ms\tremaining: 485ms\n",
      "297:\tlearn: 0.1013254\ttotal: 205ms\tremaining: 484ms\n",
      "298:\tlearn: 0.1005241\ttotal: 206ms\tremaining: 483ms\n",
      "299:\tlearn: 0.0997467\ttotal: 206ms\tremaining: 482ms\n",
      "300:\tlearn: 0.0988775\ttotal: 207ms\tremaining: 480ms\n",
      "301:\tlearn: 0.0981330\ttotal: 207ms\tremaining: 479ms\n",
      "302:\tlearn: 0.0974228\ttotal: 208ms\tremaining: 478ms\n",
      "303:\tlearn: 0.0968248\ttotal: 208ms\tremaining: 477ms\n",
      "304:\tlearn: 0.0961090\ttotal: 209ms\tremaining: 475ms\n",
      "305:\tlearn: 0.0955067\ttotal: 209ms\tremaining: 474ms\n",
      "306:\tlearn: 0.0948325\ttotal: 210ms\tremaining: 473ms\n",
      "307:\tlearn: 0.0940408\ttotal: 210ms\tremaining: 472ms\n",
      "308:\tlearn: 0.0933653\ttotal: 211ms\tremaining: 471ms\n",
      "309:\tlearn: 0.0927552\ttotal: 211ms\tremaining: 471ms\n",
      "310:\tlearn: 0.0920598\ttotal: 212ms\tremaining: 470ms\n",
      "311:\tlearn: 0.0914957\ttotal: 213ms\tremaining: 469ms\n",
      "312:\tlearn: 0.0908426\ttotal: 213ms\tremaining: 467ms\n",
      "313:\tlearn: 0.0902184\ttotal: 213ms\tremaining: 466ms\n",
      "314:\tlearn: 0.0895318\ttotal: 214ms\tremaining: 465ms\n",
      "315:\tlearn: 0.0889153\ttotal: 214ms\tremaining: 464ms\n",
      "316:\tlearn: 0.0882300\ttotal: 215ms\tremaining: 463ms\n",
      "317:\tlearn: 0.0876066\ttotal: 215ms\tremaining: 462ms\n",
      "318:\tlearn: 0.0870150\ttotal: 216ms\tremaining: 461ms\n",
      "319:\tlearn: 0.0863571\ttotal: 216ms\tremaining: 460ms\n",
      "320:\tlearn: 0.0857156\ttotal: 217ms\tremaining: 459ms\n",
      "321:\tlearn: 0.0850729\ttotal: 217ms\tremaining: 457ms\n",
      "322:\tlearn: 0.0845303\ttotal: 218ms\tremaining: 456ms\n",
      "323:\tlearn: 0.0839770\ttotal: 218ms\tremaining: 455ms\n",
      "324:\tlearn: 0.0832305\ttotal: 218ms\tremaining: 453ms\n",
      "325:\tlearn: 0.0826922\ttotal: 219ms\tremaining: 452ms\n",
      "326:\tlearn: 0.0821222\ttotal: 219ms\tremaining: 451ms\n",
      "327:\tlearn: 0.0815148\ttotal: 220ms\tremaining: 450ms\n",
      "328:\tlearn: 0.0809245\ttotal: 220ms\tremaining: 449ms\n",
      "329:\tlearn: 0.0803466\ttotal: 221ms\tremaining: 448ms\n",
      "330:\tlearn: 0.0798368\ttotal: 221ms\tremaining: 448ms\n",
      "331:\tlearn: 0.0793456\ttotal: 222ms\tremaining: 446ms\n",
      "332:\tlearn: 0.0788625\ttotal: 222ms\tremaining: 446ms\n",
      "333:\tlearn: 0.0782390\ttotal: 223ms\tremaining: 444ms\n",
      "334:\tlearn: 0.0776716\ttotal: 223ms\tremaining: 443ms\n",
      "335:\tlearn: 0.0771590\ttotal: 224ms\tremaining: 442ms\n",
      "336:\tlearn: 0.0766093\ttotal: 224ms\tremaining: 441ms\n",
      "337:\tlearn: 0.0761770\ttotal: 225ms\tremaining: 441ms\n",
      "338:\tlearn: 0.0757592\ttotal: 225ms\tremaining: 439ms\n",
      "339:\tlearn: 0.0752443\ttotal: 226ms\tremaining: 439ms\n",
      "340:\tlearn: 0.0747409\ttotal: 226ms\tremaining: 438ms\n",
      "341:\tlearn: 0.0743035\ttotal: 227ms\tremaining: 437ms\n",
      "342:\tlearn: 0.0737855\ttotal: 227ms\tremaining: 436ms\n",
      "343:\tlearn: 0.0733044\ttotal: 228ms\tremaining: 435ms\n",
      "344:\tlearn: 0.0729108\ttotal: 228ms\tremaining: 434ms\n",
      "345:\tlearn: 0.0724369\ttotal: 229ms\tremaining: 432ms\n",
      "346:\tlearn: 0.0720189\ttotal: 229ms\tremaining: 431ms\n",
      "347:\tlearn: 0.0715166\ttotal: 230ms\tremaining: 431ms\n",
      "348:\tlearn: 0.0710753\ttotal: 230ms\tremaining: 430ms\n",
      "349:\tlearn: 0.0705740\ttotal: 231ms\tremaining: 429ms\n",
      "350:\tlearn: 0.0700789\ttotal: 231ms\tremaining: 428ms\n",
      "351:\tlearn: 0.0696220\ttotal: 232ms\tremaining: 426ms\n",
      "352:\tlearn: 0.0692185\ttotal: 232ms\tremaining: 425ms\n",
      "353:\tlearn: 0.0688454\ttotal: 233ms\tremaining: 424ms\n",
      "354:\tlearn: 0.0684434\ttotal: 233ms\tremaining: 423ms\n",
      "355:\tlearn: 0.0681323\ttotal: 234ms\tremaining: 423ms\n",
      "356:\tlearn: 0.0677871\ttotal: 234ms\tremaining: 422ms\n",
      "357:\tlearn: 0.0674271\ttotal: 235ms\tremaining: 421ms\n",
      "358:\tlearn: 0.0669969\ttotal: 235ms\tremaining: 420ms\n",
      "359:\tlearn: 0.0665589\ttotal: 236ms\tremaining: 419ms\n",
      "360:\tlearn: 0.0662277\ttotal: 236ms\tremaining: 418ms\n",
      "361:\tlearn: 0.0658486\ttotal: 237ms\tremaining: 417ms\n",
      "362:\tlearn: 0.0655071\ttotal: 237ms\tremaining: 416ms\n",
      "363:\tlearn: 0.0651360\ttotal: 238ms\tremaining: 416ms\n",
      "364:\tlearn: 0.0648250\ttotal: 238ms\tremaining: 415ms\n",
      "365:\tlearn: 0.0645184\ttotal: 239ms\tremaining: 414ms\n",
      "366:\tlearn: 0.0642034\ttotal: 239ms\tremaining: 413ms\n",
      "367:\tlearn: 0.0638913\ttotal: 240ms\tremaining: 412ms\n",
      "368:\tlearn: 0.0635529\ttotal: 240ms\tremaining: 411ms\n",
      "369:\tlearn: 0.0632752\ttotal: 241ms\tremaining: 410ms\n",
      "370:\tlearn: 0.0629020\ttotal: 241ms\tremaining: 409ms\n",
      "371:\tlearn: 0.0625939\ttotal: 242ms\tremaining: 408ms\n",
      "372:\tlearn: 0.0621643\ttotal: 242ms\tremaining: 408ms\n",
      "373:\tlearn: 0.0618366\ttotal: 243ms\tremaining: 407ms\n",
      "374:\tlearn: 0.0615527\ttotal: 243ms\tremaining: 406ms\n",
      "375:\tlearn: 0.0611941\ttotal: 244ms\tremaining: 405ms\n",
      "376:\tlearn: 0.0608398\ttotal: 244ms\tremaining: 404ms\n",
      "377:\tlearn: 0.0605222\ttotal: 245ms\tremaining: 403ms\n",
      "378:\tlearn: 0.0601444\ttotal: 245ms\tremaining: 402ms\n",
      "379:\tlearn: 0.0597993\ttotal: 246ms\tremaining: 401ms\n",
      "380:\tlearn: 0.0594647\ttotal: 246ms\tremaining: 400ms\n",
      "381:\tlearn: 0.0590950\ttotal: 247ms\tremaining: 399ms\n",
      "382:\tlearn: 0.0587010\ttotal: 247ms\tremaining: 398ms\n",
      "383:\tlearn: 0.0583289\ttotal: 247ms\tremaining: 397ms\n",
      "384:\tlearn: 0.0579734\ttotal: 248ms\tremaining: 396ms\n",
      "385:\tlearn: 0.0576236\ttotal: 248ms\tremaining: 395ms\n",
      "386:\tlearn: 0.0572320\ttotal: 249ms\tremaining: 394ms\n",
      "387:\tlearn: 0.0568910\ttotal: 249ms\tremaining: 393ms\n",
      "388:\tlearn: 0.0565417\ttotal: 249ms\tremaining: 392ms\n",
      "389:\tlearn: 0.0561858\ttotal: 250ms\tremaining: 391ms\n",
      "390:\tlearn: 0.0558251\ttotal: 250ms\tremaining: 390ms\n",
      "391:\tlearn: 0.0555768\ttotal: 251ms\tremaining: 389ms\n",
      "392:\tlearn: 0.0552044\ttotal: 251ms\tremaining: 388ms\n",
      "393:\tlearn: 0.0549441\ttotal: 252ms\tremaining: 387ms\n",
      "394:\tlearn: 0.0546876\ttotal: 252ms\tremaining: 386ms\n",
      "395:\tlearn: 0.0542272\ttotal: 253ms\tremaining: 385ms\n",
      "396:\tlearn: 0.0538921\ttotal: 253ms\tremaining: 384ms\n",
      "397:\tlearn: 0.0534438\ttotal: 253ms\tremaining: 383ms\n",
      "398:\tlearn: 0.0532242\ttotal: 254ms\tremaining: 382ms\n",
      "399:\tlearn: 0.0528923\ttotal: 254ms\tremaining: 381ms\n",
      "400:\tlearn: 0.0525638\ttotal: 255ms\tremaining: 380ms\n",
      "401:\tlearn: 0.0523504\ttotal: 255ms\tremaining: 380ms\n",
      "402:\tlearn: 0.0521308\ttotal: 256ms\tremaining: 379ms\n",
      "403:\tlearn: 0.0518023\ttotal: 256ms\tremaining: 378ms\n",
      "404:\tlearn: 0.0514854\ttotal: 256ms\tremaining: 377ms\n",
      "405:\tlearn: 0.0511359\ttotal: 257ms\tremaining: 376ms\n",
      "406:\tlearn: 0.0508988\ttotal: 258ms\tremaining: 375ms\n",
      "407:\tlearn: 0.0506653\ttotal: 258ms\tremaining: 374ms\n",
      "408:\tlearn: 0.0503643\ttotal: 258ms\tremaining: 373ms\n",
      "409:\tlearn: 0.0500689\ttotal: 259ms\tremaining: 372ms\n",
      "410:\tlearn: 0.0496644\ttotal: 259ms\tremaining: 372ms\n",
      "411:\tlearn: 0.0494658\ttotal: 260ms\tremaining: 371ms\n",
      "412:\tlearn: 0.0492365\ttotal: 260ms\tremaining: 370ms\n",
      "413:\tlearn: 0.0489572\ttotal: 261ms\tremaining: 369ms\n",
      "414:\tlearn: 0.0487320\ttotal: 261ms\tremaining: 368ms\n",
      "415:\tlearn: 0.0484064\ttotal: 262ms\tremaining: 367ms\n",
      "416:\tlearn: 0.0481821\ttotal: 262ms\tremaining: 366ms\n",
      "417:\tlearn: 0.0479373\ttotal: 262ms\tremaining: 365ms\n",
      "418:\tlearn: 0.0476231\ttotal: 263ms\tremaining: 365ms\n",
      "419:\tlearn: 0.0473137\ttotal: 264ms\tremaining: 364ms\n",
      "420:\tlearn: 0.0470970\ttotal: 264ms\tremaining: 363ms\n",
      "421:\tlearn: 0.0468598\ttotal: 264ms\tremaining: 362ms\n",
      "422:\tlearn: 0.0465581\ttotal: 265ms\tremaining: 361ms\n",
      "423:\tlearn: 0.0461668\ttotal: 265ms\tremaining: 360ms\n",
      "424:\tlearn: 0.0458742\ttotal: 266ms\tremaining: 360ms\n",
      "425:\tlearn: 0.0456710\ttotal: 266ms\tremaining: 359ms\n",
      "426:\tlearn: 0.0454047\ttotal: 267ms\tremaining: 358ms\n",
      "427:\tlearn: 0.0450085\ttotal: 267ms\tremaining: 357ms\n",
      "428:\tlearn: 0.0446705\ttotal: 268ms\tremaining: 356ms\n",
      "429:\tlearn: 0.0444652\ttotal: 268ms\tremaining: 356ms\n",
      "430:\tlearn: 0.0442637\ttotal: 269ms\tremaining: 355ms\n",
      "431:\tlearn: 0.0439458\ttotal: 269ms\tremaining: 354ms\n",
      "432:\tlearn: 0.0437378\ttotal: 270ms\tremaining: 353ms\n",
      "433:\tlearn: 0.0434501\ttotal: 270ms\tremaining: 353ms\n",
      "434:\tlearn: 0.0432480\ttotal: 271ms\tremaining: 352ms\n",
      "435:\tlearn: 0.0430386\ttotal: 271ms\tremaining: 351ms\n",
      "436:\tlearn: 0.0427894\ttotal: 272ms\tremaining: 350ms\n",
      "437:\tlearn: 0.0426005\ttotal: 272ms\tremaining: 349ms\n",
      "438:\tlearn: 0.0423246\ttotal: 273ms\tremaining: 348ms\n",
      "439:\tlearn: 0.0420535\ttotal: 273ms\tremaining: 348ms\n",
      "440:\tlearn: 0.0417633\ttotal: 274ms\tremaining: 347ms\n",
      "441:\tlearn: 0.0415759\ttotal: 274ms\tremaining: 346ms\n",
      "442:\tlearn: 0.0413912\ttotal: 275ms\tremaining: 345ms\n",
      "443:\tlearn: 0.0411886\ttotal: 275ms\tremaining: 345ms\n",
      "444:\tlearn: 0.0409909\ttotal: 276ms\tremaining: 344ms\n",
      "445:\tlearn: 0.0407702\ttotal: 276ms\tremaining: 343ms\n",
      "446:\tlearn: 0.0404978\ttotal: 277ms\tremaining: 342ms\n",
      "447:\tlearn: 0.0402293\ttotal: 277ms\tremaining: 342ms\n",
      "448:\tlearn: 0.0400530\ttotal: 278ms\tremaining: 341ms\n",
      "449:\tlearn: 0.0398793\ttotal: 278ms\tremaining: 340ms\n",
      "450:\tlearn: 0.0396502\ttotal: 279ms\tremaining: 339ms\n",
      "451:\tlearn: 0.0394251\ttotal: 279ms\tremaining: 339ms\n",
      "452:\tlearn: 0.0391476\ttotal: 280ms\tremaining: 338ms\n",
      "453:\tlearn: 0.0389276\ttotal: 280ms\tremaining: 337ms\n",
      "454:\tlearn: 0.0387454\ttotal: 281ms\tremaining: 336ms\n",
      "455:\tlearn: 0.0384868\ttotal: 281ms\tremaining: 336ms\n",
      "456:\tlearn: 0.0382748\ttotal: 282ms\tremaining: 335ms\n",
      "457:\tlearn: 0.0380991\ttotal: 282ms\tremaining: 334ms\n",
      "458:\tlearn: 0.0379201\ttotal: 283ms\tremaining: 333ms\n",
      "459:\tlearn: 0.0376770\ttotal: 283ms\tremaining: 332ms\n",
      "460:\tlearn: 0.0375170\ttotal: 284ms\tremaining: 332ms\n",
      "461:\tlearn: 0.0373085\ttotal: 284ms\tremaining: 331ms\n",
      "462:\tlearn: 0.0370471\ttotal: 285ms\tremaining: 330ms\n",
      "463:\tlearn: 0.0368434\ttotal: 285ms\tremaining: 329ms\n",
      "464:\tlearn: 0.0366096\ttotal: 286ms\tremaining: 329ms\n",
      "465:\tlearn: 0.0363560\ttotal: 286ms\tremaining: 328ms\n",
      "466:\tlearn: 0.0361341\ttotal: 287ms\tremaining: 327ms\n",
      "467:\tlearn: 0.0359720\ttotal: 287ms\tremaining: 326ms\n",
      "468:\tlearn: 0.0358120\ttotal: 288ms\tremaining: 326ms\n",
      "469:\tlearn: 0.0355903\ttotal: 288ms\tremaining: 325ms\n",
      "470:\tlearn: 0.0353455\ttotal: 289ms\tremaining: 324ms\n",
      "471:\tlearn: 0.0351323\ttotal: 289ms\tremaining: 324ms\n",
      "472:\tlearn: 0.0349228\ttotal: 290ms\tremaining: 323ms\n",
      "473:\tlearn: 0.0347532\ttotal: 290ms\tremaining: 322ms\n",
      "474:\tlearn: 0.0345153\ttotal: 291ms\tremaining: 321ms\n",
      "475:\tlearn: 0.0343119\ttotal: 291ms\tremaining: 320ms\n",
      "476:\tlearn: 0.0341183\ttotal: 292ms\tremaining: 320ms\n",
      "477:\tlearn: 0.0338863\ttotal: 292ms\tremaining: 319ms\n"
     ]
    },
    {
     "name": "stdout",
     "output_type": "stream",
     "text": [
      "478:\tlearn: 0.0337172\ttotal: 293ms\tremaining: 318ms\n",
      "479:\tlearn: 0.0334902\ttotal: 293ms\tremaining: 318ms\n",
      "480:\tlearn: 0.0333539\ttotal: 294ms\tremaining: 317ms\n",
      "481:\tlearn: 0.0330806\ttotal: 295ms\tremaining: 317ms\n",
      "482:\tlearn: 0.0328867\ttotal: 295ms\tremaining: 316ms\n",
      "483:\tlearn: 0.0327552\ttotal: 296ms\tremaining: 315ms\n",
      "484:\tlearn: 0.0325376\ttotal: 296ms\tremaining: 314ms\n",
      "485:\tlearn: 0.0323487\ttotal: 296ms\tremaining: 314ms\n",
      "486:\tlearn: 0.0322128\ttotal: 297ms\tremaining: 313ms\n",
      "487:\tlearn: 0.0320577\ttotal: 298ms\tremaining: 312ms\n",
      "488:\tlearn: 0.0318481\ttotal: 298ms\tremaining: 311ms\n",
      "489:\tlearn: 0.0316724\ttotal: 298ms\tremaining: 311ms\n",
      "490:\tlearn: 0.0315251\ttotal: 299ms\tremaining: 310ms\n",
      "491:\tlearn: 0.0314012\ttotal: 299ms\tremaining: 309ms\n",
      "492:\tlearn: 0.0312471\ttotal: 300ms\tremaining: 308ms\n",
      "493:\tlearn: 0.0310715\ttotal: 300ms\tremaining: 308ms\n",
      "494:\tlearn: 0.0309517\ttotal: 301ms\tremaining: 307ms\n",
      "495:\tlearn: 0.0308337\ttotal: 301ms\tremaining: 306ms\n",
      "496:\tlearn: 0.0306814\ttotal: 302ms\tremaining: 306ms\n",
      "497:\tlearn: 0.0304785\ttotal: 302ms\tremaining: 305ms\n",
      "498:\tlearn: 0.0303155\ttotal: 303ms\tremaining: 304ms\n",
      "499:\tlearn: 0.0302017\ttotal: 303ms\tremaining: 303ms\n",
      "500:\tlearn: 0.0300540\ttotal: 304ms\tremaining: 303ms\n",
      "501:\tlearn: 0.0298568\ttotal: 304ms\tremaining: 302ms\n",
      "502:\tlearn: 0.0297076\ttotal: 305ms\tremaining: 301ms\n",
      "503:\tlearn: 0.0295169\ttotal: 306ms\tremaining: 301ms\n",
      "504:\tlearn: 0.0293550\ttotal: 306ms\tremaining: 300ms\n",
      "505:\tlearn: 0.0291982\ttotal: 307ms\tremaining: 299ms\n",
      "506:\tlearn: 0.0290583\ttotal: 307ms\tremaining: 299ms\n",
      "507:\tlearn: 0.0289671\ttotal: 308ms\tremaining: 298ms\n",
      "508:\tlearn: 0.0288299\ttotal: 308ms\tremaining: 297ms\n",
      "509:\tlearn: 0.0287101\ttotal: 309ms\tremaining: 296ms\n",
      "510:\tlearn: 0.0284813\ttotal: 309ms\tremaining: 296ms\n",
      "511:\tlearn: 0.0283396\ttotal: 309ms\tremaining: 295ms\n",
      "512:\tlearn: 0.0281596\ttotal: 310ms\tremaining: 294ms\n",
      "513:\tlearn: 0.0279829\ttotal: 310ms\tremaining: 293ms\n",
      "514:\tlearn: 0.0278449\ttotal: 311ms\tremaining: 293ms\n",
      "515:\tlearn: 0.0276717\ttotal: 311ms\tremaining: 292ms\n",
      "516:\tlearn: 0.0275223\ttotal: 311ms\tremaining: 291ms\n",
      "517:\tlearn: 0.0274367\ttotal: 312ms\tremaining: 290ms\n",
      "518:\tlearn: 0.0273029\ttotal: 312ms\tremaining: 290ms\n",
      "519:\tlearn: 0.0271764\ttotal: 313ms\tremaining: 289ms\n",
      "520:\tlearn: 0.0270929\ttotal: 313ms\tremaining: 288ms\n",
      "521:\tlearn: 0.0270107\ttotal: 314ms\tremaining: 287ms\n",
      "522:\tlearn: 0.0268809\ttotal: 314ms\tremaining: 287ms\n",
      "523:\tlearn: 0.0267146\ttotal: 315ms\tremaining: 286ms\n",
      "524:\tlearn: 0.0265725\ttotal: 315ms\tremaining: 285ms\n",
      "525:\tlearn: 0.0264298\ttotal: 316ms\tremaining: 284ms\n",
      "526:\tlearn: 0.0262898\ttotal: 316ms\tremaining: 284ms\n",
      "527:\tlearn: 0.0262109\ttotal: 317ms\tremaining: 283ms\n",
      "528:\tlearn: 0.0260739\ttotal: 317ms\tremaining: 282ms\n",
      "529:\tlearn: 0.0259499\ttotal: 317ms\tremaining: 281ms\n",
      "530:\tlearn: 0.0257908\ttotal: 318ms\tremaining: 281ms\n",
      "531:\tlearn: 0.0257288\ttotal: 318ms\tremaining: 280ms\n",
      "532:\tlearn: 0.0255961\ttotal: 319ms\tremaining: 279ms\n",
      "533:\tlearn: 0.0254629\ttotal: 320ms\tremaining: 279ms\n",
      "534:\tlearn: 0.0253339\ttotal: 320ms\tremaining: 278ms\n",
      "535:\tlearn: 0.0252739\ttotal: 321ms\tremaining: 278ms\n",
      "536:\tlearn: 0.0251475\ttotal: 321ms\tremaining: 277ms\n",
      "537:\tlearn: 0.0250410\ttotal: 322ms\tremaining: 276ms\n",
      "538:\tlearn: 0.0248889\ttotal: 322ms\tremaining: 276ms\n",
      "539:\tlearn: 0.0247716\ttotal: 323ms\tremaining: 275ms\n",
      "540:\tlearn: 0.0246227\ttotal: 323ms\tremaining: 274ms\n",
      "541:\tlearn: 0.0245202\ttotal: 324ms\tremaining: 273ms\n",
      "542:\tlearn: 0.0243742\ttotal: 324ms\tremaining: 273ms\n",
      "543:\tlearn: 0.0242606\ttotal: 325ms\tremaining: 272ms\n",
      "544:\tlearn: 0.0241187\ttotal: 325ms\tremaining: 272ms\n",
      "545:\tlearn: 0.0240189\ttotal: 326ms\tremaining: 271ms\n",
      "546:\tlearn: 0.0239084\ttotal: 326ms\tremaining: 270ms\n",
      "547:\tlearn: 0.0237682\ttotal: 327ms\tremaining: 270ms\n",
      "548:\tlearn: 0.0236313\ttotal: 327ms\tremaining: 269ms\n",
      "549:\tlearn: 0.0235313\ttotal: 328ms\tremaining: 268ms\n",
      "550:\tlearn: 0.0234328\ttotal: 328ms\tremaining: 268ms\n",
      "551:\tlearn: 0.0233048\ttotal: 329ms\tremaining: 267ms\n",
      "552:\tlearn: 0.0232080\ttotal: 329ms\tremaining: 266ms\n",
      "553:\tlearn: 0.0231029\ttotal: 330ms\tremaining: 266ms\n",
      "554:\tlearn: 0.0230041\ttotal: 331ms\tremaining: 265ms\n",
      "555:\tlearn: 0.0229343\ttotal: 331ms\tremaining: 265ms\n",
      "556:\tlearn: 0.0228206\ttotal: 332ms\tremaining: 264ms\n",
      "557:\tlearn: 0.0227592\ttotal: 332ms\tremaining: 263ms\n",
      "558:\tlearn: 0.0226326\ttotal: 333ms\tremaining: 262ms\n",
      "559:\tlearn: 0.0225631\ttotal: 333ms\tremaining: 262ms\n",
      "560:\tlearn: 0.0224627\ttotal: 334ms\tremaining: 261ms\n",
      "561:\tlearn: 0.0223332\ttotal: 334ms\tremaining: 260ms\n",
      "562:\tlearn: 0.0222047\ttotal: 334ms\tremaining: 260ms\n",
      "563:\tlearn: 0.0221145\ttotal: 335ms\tremaining: 259ms\n",
      "564:\tlearn: 0.0219781\ttotal: 335ms\tremaining: 258ms\n",
      "565:\tlearn: 0.0218817\ttotal: 336ms\tremaining: 258ms\n",
      "566:\tlearn: 0.0217912\ttotal: 336ms\tremaining: 257ms\n",
      "567:\tlearn: 0.0217264\ttotal: 337ms\tremaining: 256ms\n",
      "568:\tlearn: 0.0216591\ttotal: 337ms\tremaining: 255ms\n",
      "569:\tlearn: 0.0215310\ttotal: 338ms\tremaining: 255ms\n",
      "570:\tlearn: 0.0214450\ttotal: 338ms\tremaining: 254ms\n",
      "571:\tlearn: 0.0213161\ttotal: 339ms\tremaining: 253ms\n",
      "572:\tlearn: 0.0212073\ttotal: 339ms\tremaining: 253ms\n",
      "573:\tlearn: 0.0210913\ttotal: 339ms\tremaining: 252ms\n",
      "574:\tlearn: 0.0210301\ttotal: 340ms\tremaining: 251ms\n",
      "575:\tlearn: 0.0209228\ttotal: 340ms\tremaining: 250ms\n",
      "576:\tlearn: 0.0208591\ttotal: 341ms\tremaining: 250ms\n",
      "577:\tlearn: 0.0207365\ttotal: 341ms\tremaining: 249ms\n",
      "578:\tlearn: 0.0206920\ttotal: 342ms\tremaining: 248ms\n",
      "579:\tlearn: 0.0205802\ttotal: 342ms\tremaining: 248ms\n",
      "580:\tlearn: 0.0205229\ttotal: 342ms\tremaining: 247ms\n",
      "581:\tlearn: 0.0204202\ttotal: 343ms\tremaining: 246ms\n",
      "582:\tlearn: 0.0203197\ttotal: 343ms\tremaining: 246ms\n",
      "583:\tlearn: 0.0202598\ttotal: 344ms\tremaining: 245ms\n",
      "584:\tlearn: 0.0201616\ttotal: 344ms\tremaining: 244ms\n",
      "585:\tlearn: 0.0201070\ttotal: 345ms\tremaining: 244ms\n",
      "586:\tlearn: 0.0199703\ttotal: 345ms\tremaining: 243ms\n",
      "587:\tlearn: 0.0198752\ttotal: 346ms\tremaining: 242ms\n",
      "588:\tlearn: 0.0197421\ttotal: 347ms\tremaining: 242ms\n",
      "589:\tlearn: 0.0196378\ttotal: 347ms\tremaining: 241ms\n",
      "590:\tlearn: 0.0195873\ttotal: 348ms\tremaining: 241ms\n",
      "591:\tlearn: 0.0195467\ttotal: 348ms\tremaining: 240ms\n",
      "592:\tlearn: 0.0194911\ttotal: 349ms\tremaining: 239ms\n",
      "593:\tlearn: 0.0193995\ttotal: 349ms\tremaining: 239ms\n",
      "594:\tlearn: 0.0193098\ttotal: 350ms\tremaining: 238ms\n",
      "595:\tlearn: 0.0192596\ttotal: 350ms\tremaining: 237ms\n",
      "596:\tlearn: 0.0191718\ttotal: 350ms\tremaining: 237ms\n",
      "597:\tlearn: 0.0190450\ttotal: 351ms\tremaining: 236ms\n",
      "598:\tlearn: 0.0189923\ttotal: 351ms\tremaining: 235ms\n",
      "599:\tlearn: 0.0189074\ttotal: 352ms\tremaining: 235ms\n",
      "600:\tlearn: 0.0188241\ttotal: 352ms\tremaining: 234ms\n",
      "601:\tlearn: 0.0187863\ttotal: 353ms\tremaining: 233ms\n",
      "602:\tlearn: 0.0187187\ttotal: 353ms\tremaining: 232ms\n",
      "603:\tlearn: 0.0186523\ttotal: 354ms\tremaining: 232ms\n",
      "604:\tlearn: 0.0185733\ttotal: 354ms\tremaining: 231ms\n",
      "605:\tlearn: 0.0184957\ttotal: 354ms\tremaining: 230ms\n",
      "606:\tlearn: 0.0183756\ttotal: 355ms\tremaining: 230ms\n",
      "607:\tlearn: 0.0182997\ttotal: 355ms\tremaining: 229ms\n",
      "608:\tlearn: 0.0182212\ttotal: 356ms\tremaining: 229ms\n",
      "609:\tlearn: 0.0181083\ttotal: 357ms\tremaining: 228ms\n",
      "610:\tlearn: 0.0180220\ttotal: 357ms\tremaining: 227ms\n",
      "611:\tlearn: 0.0179333\ttotal: 358ms\tremaining: 227ms\n",
      "612:\tlearn: 0.0178515\ttotal: 358ms\tremaining: 226ms\n",
      "613:\tlearn: 0.0177776\ttotal: 359ms\tremaining: 225ms\n",
      "614:\tlearn: 0.0177053\ttotal: 359ms\tremaining: 225ms\n",
      "615:\tlearn: 0.0176485\ttotal: 360ms\tremaining: 224ms\n",
      "616:\tlearn: 0.0176043\ttotal: 360ms\tremaining: 223ms\n",
      "617:\tlearn: 0.0175653\ttotal: 361ms\tremaining: 223ms\n",
      "618:\tlearn: 0.0175227\ttotal: 361ms\tremaining: 222ms\n",
      "619:\tlearn: 0.0174027\ttotal: 361ms\tremaining: 222ms\n",
      "620:\tlearn: 0.0173421\ttotal: 362ms\tremaining: 221ms\n",
      "621:\tlearn: 0.0172853\ttotal: 363ms\tremaining: 220ms\n",
      "622:\tlearn: 0.0172258\ttotal: 363ms\tremaining: 220ms\n",
      "623:\tlearn: 0.0171481\ttotal: 364ms\tremaining: 219ms\n",
      "624:\tlearn: 0.0170722\ttotal: 364ms\tremaining: 219ms\n",
      "625:\tlearn: 0.0170383\ttotal: 365ms\tremaining: 218ms\n",
      "626:\tlearn: 0.0169498\ttotal: 365ms\tremaining: 217ms\n",
      "627:\tlearn: 0.0168919\ttotal: 366ms\tremaining: 217ms\n",
      "628:\tlearn: 0.0168371\ttotal: 366ms\tremaining: 216ms\n",
      "629:\tlearn: 0.0167856\ttotal: 367ms\tremaining: 215ms\n",
      "630:\tlearn: 0.0167120\ttotal: 367ms\tremaining: 215ms\n",
      "631:\tlearn: 0.0166400\ttotal: 368ms\tremaining: 214ms\n",
      "632:\tlearn: 0.0165242\ttotal: 368ms\tremaining: 214ms\n",
      "633:\tlearn: 0.0164579\ttotal: 369ms\tremaining: 213ms\n",
      "634:\tlearn: 0.0164258\ttotal: 369ms\tremaining: 212ms\n"
     ]
    },
    {
     "name": "stdout",
     "output_type": "stream",
     "text": [
      "635:\tlearn: 0.0163947\ttotal: 370ms\tremaining: 212ms\n",
      "636:\tlearn: 0.0163637\ttotal: 371ms\tremaining: 211ms\n",
      "637:\tlearn: 0.0162656\ttotal: 371ms\tremaining: 211ms\n",
      "638:\tlearn: 0.0162169\ttotal: 372ms\tremaining: 210ms\n",
      "639:\tlearn: 0.0161652\ttotal: 372ms\tremaining: 209ms\n",
      "640:\tlearn: 0.0160997\ttotal: 373ms\tremaining: 209ms\n",
      "641:\tlearn: 0.0160168\ttotal: 373ms\tremaining: 208ms\n",
      "642:\tlearn: 0.0159524\ttotal: 374ms\tremaining: 207ms\n",
      "643:\tlearn: 0.0158594\ttotal: 374ms\tremaining: 207ms\n",
      "644:\tlearn: 0.0158092\ttotal: 375ms\tremaining: 206ms\n",
      "645:\tlearn: 0.0157596\ttotal: 375ms\tremaining: 206ms\n",
      "646:\tlearn: 0.0156756\ttotal: 376ms\tremaining: 205ms\n",
      "647:\tlearn: 0.0156264\ttotal: 376ms\tremaining: 204ms\n",
      "648:\tlearn: 0.0155781\ttotal: 377ms\tremaining: 204ms\n",
      "649:\tlearn: 0.0155298\ttotal: 377ms\tremaining: 203ms\n",
      "650:\tlearn: 0.0154825\ttotal: 378ms\tremaining: 202ms\n",
      "651:\tlearn: 0.0154058\ttotal: 378ms\tremaining: 202ms\n",
      "652:\tlearn: 0.0153380\ttotal: 379ms\tremaining: 201ms\n",
      "653:\tlearn: 0.0152715\ttotal: 379ms\tremaining: 201ms\n",
      "654:\tlearn: 0.0151950\ttotal: 380ms\tremaining: 200ms\n",
      "655:\tlearn: 0.0151603\ttotal: 380ms\tremaining: 200ms\n",
      "656:\tlearn: 0.0151329\ttotal: 381ms\tremaining: 199ms\n",
      "657:\tlearn: 0.0150875\ttotal: 382ms\tremaining: 198ms\n",
      "658:\tlearn: 0.0150229\ttotal: 382ms\tremaining: 198ms\n",
      "659:\tlearn: 0.0149484\ttotal: 383ms\tremaining: 197ms\n",
      "660:\tlearn: 0.0148851\ttotal: 383ms\tremaining: 196ms\n",
      "661:\tlearn: 0.0148123\ttotal: 384ms\tremaining: 196ms\n",
      "662:\tlearn: 0.0147841\ttotal: 384ms\tremaining: 195ms\n",
      "663:\tlearn: 0.0147519\ttotal: 384ms\tremaining: 195ms\n",
      "664:\tlearn: 0.0146711\ttotal: 385ms\tremaining: 194ms\n",
      "665:\tlearn: 0.0146005\ttotal: 386ms\tremaining: 193ms\n",
      "666:\tlearn: 0.0145668\ttotal: 386ms\tremaining: 193ms\n",
      "667:\tlearn: 0.0145137\ttotal: 387ms\tremaining: 192ms\n",
      "668:\tlearn: 0.0144555\ttotal: 388ms\tremaining: 192ms\n",
      "669:\tlearn: 0.0144036\ttotal: 388ms\tremaining: 191ms\n",
      "670:\tlearn: 0.0143772\ttotal: 388ms\tremaining: 190ms\n",
      "671:\tlearn: 0.0143262\ttotal: 389ms\tremaining: 190ms\n",
      "672:\tlearn: 0.0142650\ttotal: 389ms\tremaining: 189ms\n",
      "673:\tlearn: 0.0142056\ttotal: 390ms\tremaining: 189ms\n",
      "674:\tlearn: 0.0141822\ttotal: 390ms\tremaining: 188ms\n",
      "675:\tlearn: 0.0141263\ttotal: 391ms\tremaining: 187ms\n",
      "676:\tlearn: 0.0140396\ttotal: 391ms\tremaining: 187ms\n",
      "677:\tlearn: 0.0139910\ttotal: 392ms\tremaining: 186ms\n",
      "678:\tlearn: 0.0139619\ttotal: 392ms\tremaining: 185ms\n",
      "679:\tlearn: 0.0139124\ttotal: 393ms\tremaining: 185ms\n",
      "680:\tlearn: 0.0138900\ttotal: 393ms\tremaining: 184ms\n",
      "681:\tlearn: 0.0138414\ttotal: 394ms\tremaining: 184ms\n",
      "682:\tlearn: 0.0138135\ttotal: 394ms\tremaining: 183ms\n",
      "683:\tlearn: 0.0137398\ttotal: 395ms\tremaining: 182ms\n",
      "684:\tlearn: 0.0136569\ttotal: 395ms\tremaining: 182ms\n",
      "685:\tlearn: 0.0135602\ttotal: 396ms\tremaining: 181ms\n",
      "686:\tlearn: 0.0135142\ttotal: 397ms\tremaining: 181ms\n",
      "687:\tlearn: 0.0134930\ttotal: 397ms\tremaining: 180ms\n",
      "688:\tlearn: 0.0134464\ttotal: 397ms\tremaining: 179ms\n",
      "689:\tlearn: 0.0133731\ttotal: 398ms\tremaining: 179ms\n",
      "690:\tlearn: 0.0132935\ttotal: 398ms\tremaining: 178ms\n",
      "691:\tlearn: 0.0132751\ttotal: 399ms\tremaining: 177ms\n",
      "692:\tlearn: 0.0131820\ttotal: 399ms\tremaining: 177ms\n",
      "693:\tlearn: 0.0131630\ttotal: 400ms\tremaining: 176ms\n",
      "694:\tlearn: 0.0131181\ttotal: 400ms\tremaining: 176ms\n",
      "695:\tlearn: 0.0130472\ttotal: 400ms\tremaining: 175ms\n",
      "696:\tlearn: 0.0130276\ttotal: 401ms\tremaining: 174ms\n",
      "697:\tlearn: 0.0129375\ttotal: 401ms\tremaining: 174ms\n",
      "698:\tlearn: 0.0129201\ttotal: 402ms\tremaining: 173ms\n",
      "699:\tlearn: 0.0128340\ttotal: 402ms\tremaining: 172ms\n",
      "700:\tlearn: 0.0127913\ttotal: 403ms\tremaining: 172ms\n",
      "701:\tlearn: 0.0127229\ttotal: 403ms\tremaining: 171ms\n",
      "702:\tlearn: 0.0126479\ttotal: 404ms\tremaining: 171ms\n",
      "703:\tlearn: 0.0126309\ttotal: 404ms\tremaining: 170ms\n",
      "704:\tlearn: 0.0125453\ttotal: 405ms\tremaining: 169ms\n",
      "705:\tlearn: 0.0125029\ttotal: 405ms\tremaining: 169ms\n",
      "706:\tlearn: 0.0124846\ttotal: 406ms\tremaining: 168ms\n",
      "707:\tlearn: 0.0124430\ttotal: 406ms\tremaining: 168ms\n",
      "708:\tlearn: 0.0123771\ttotal: 407ms\tremaining: 167ms\n",
      "709:\tlearn: 0.0123606\ttotal: 407ms\tremaining: 166ms\n",
      "710:\tlearn: 0.0123400\ttotal: 408ms\tremaining: 166ms\n",
      "711:\tlearn: 0.0123203\ttotal: 408ms\tremaining: 165ms\n",
      "712:\tlearn: 0.0122399\ttotal: 409ms\tremaining: 165ms\n",
      "713:\tlearn: 0.0122198\ttotal: 409ms\tremaining: 164ms\n",
      "714:\tlearn: 0.0121387\ttotal: 410ms\tremaining: 163ms\n",
      "715:\tlearn: 0.0121216\ttotal: 411ms\tremaining: 163ms\n",
      "716:\tlearn: 0.0121024\ttotal: 411ms\tremaining: 162ms\n",
      "717:\tlearn: 0.0120253\ttotal: 412ms\tremaining: 162ms\n",
      "718:\tlearn: 0.0120031\ttotal: 412ms\tremaining: 161ms\n",
      "719:\tlearn: 0.0119864\ttotal: 412ms\tremaining: 160ms\n",
      "720:\tlearn: 0.0119645\ttotal: 413ms\tremaining: 160ms\n",
      "721:\tlearn: 0.0119266\ttotal: 413ms\tremaining: 159ms\n",
      "722:\tlearn: 0.0118641\ttotal: 414ms\tremaining: 159ms\n",
      "723:\tlearn: 0.0118426\ttotal: 414ms\tremaining: 158ms\n",
      "724:\tlearn: 0.0118255\ttotal: 415ms\tremaining: 157ms\n",
      "725:\tlearn: 0.0118053\ttotal: 415ms\tremaining: 157ms\n",
      "726:\tlearn: 0.0117896\ttotal: 416ms\tremaining: 156ms\n",
      "727:\tlearn: 0.0117128\ttotal: 416ms\tremaining: 156ms\n",
      "728:\tlearn: 0.0116762\ttotal: 417ms\tremaining: 155ms\n",
      "729:\tlearn: 0.0116106\ttotal: 417ms\tremaining: 154ms\n",
      "730:\tlearn: 0.0115902\ttotal: 418ms\tremaining: 154ms\n",
      "731:\tlearn: 0.0115240\ttotal: 418ms\tremaining: 153ms\n",
      "732:\tlearn: 0.0114645\ttotal: 419ms\tremaining: 153ms\n",
      "733:\tlearn: 0.0114118\ttotal: 419ms\tremaining: 152ms\n",
      "734:\tlearn: 0.0113613\ttotal: 420ms\tremaining: 151ms\n",
      "735:\tlearn: 0.0113050\ttotal: 420ms\tremaining: 151ms\n",
      "736:\tlearn: 0.0112566\ttotal: 421ms\tremaining: 150ms\n",
      "737:\tlearn: 0.0112378\ttotal: 422ms\tremaining: 150ms\n",
      "738:\tlearn: 0.0111890\ttotal: 422ms\tremaining: 149ms\n",
      "739:\tlearn: 0.0111704\ttotal: 423ms\tremaining: 149ms\n",
      "740:\tlearn: 0.0111225\ttotal: 423ms\tremaining: 148ms\n",
      "741:\tlearn: 0.0110665\ttotal: 424ms\tremaining: 147ms\n",
      "742:\tlearn: 0.0110466\ttotal: 424ms\tremaining: 147ms\n",
      "743:\tlearn: 0.0109998\ttotal: 425ms\tremaining: 146ms\n",
      "744:\tlearn: 0.0109539\ttotal: 426ms\tremaining: 146ms\n",
      "745:\tlearn: 0.0109350\ttotal: 426ms\tremaining: 145ms\n",
      "746:\tlearn: 0.0108811\ttotal: 427ms\tremaining: 145ms\n",
      "747:\tlearn: 0.0108637\ttotal: 427ms\tremaining: 144ms\n",
      "748:\tlearn: 0.0108257\ttotal: 428ms\tremaining: 143ms\n",
      "749:\tlearn: 0.0107511\ttotal: 428ms\tremaining: 143ms\n",
      "750:\tlearn: 0.0106850\ttotal: 429ms\tremaining: 142ms\n",
      "751:\tlearn: 0.0106328\ttotal: 430ms\tremaining: 142ms\n",
      "752:\tlearn: 0.0106174\ttotal: 430ms\tremaining: 141ms\n",
      "753:\tlearn: 0.0105504\ttotal: 431ms\tremaining: 140ms\n",
      "754:\tlearn: 0.0105110\ttotal: 431ms\tremaining: 140ms\n",
      "755:\tlearn: 0.0104392\ttotal: 432ms\tremaining: 139ms\n",
      "756:\tlearn: 0.0103837\ttotal: 432ms\tremaining: 139ms\n",
      "757:\tlearn: 0.0103396\ttotal: 433ms\tremaining: 138ms\n",
      "758:\tlearn: 0.0103014\ttotal: 433ms\tremaining: 138ms\n",
      "759:\tlearn: 0.0102315\ttotal: 434ms\tremaining: 137ms\n",
      "760:\tlearn: 0.0101701\ttotal: 434ms\tremaining: 136ms\n",
      "761:\tlearn: 0.0101171\ttotal: 435ms\tremaining: 136ms\n",
      "762:\tlearn: 0.0100750\ttotal: 435ms\tremaining: 135ms\n",
      "763:\tlearn: 0.0100305\ttotal: 436ms\tremaining: 135ms\n",
      "764:\tlearn: 0.0099791\ttotal: 436ms\tremaining: 134ms\n",
      "765:\tlearn: 0.0099320\ttotal: 436ms\tremaining: 133ms\n",
      "766:\tlearn: 0.0098889\ttotal: 437ms\tremaining: 133ms\n",
      "767:\tlearn: 0.0098343\ttotal: 438ms\tremaining: 132ms\n",
      "768:\tlearn: 0.0097847\ttotal: 438ms\tremaining: 132ms\n",
      "769:\tlearn: 0.0097395\ttotal: 439ms\tremaining: 131ms\n",
      "770:\tlearn: 0.0096977\ttotal: 439ms\tremaining: 130ms\n",
      "771:\tlearn: 0.0096450\ttotal: 439ms\tremaining: 130ms\n",
      "772:\tlearn: 0.0096039\ttotal: 440ms\tremaining: 129ms\n",
      "773:\tlearn: 0.0095563\ttotal: 441ms\tremaining: 129ms\n",
      "774:\tlearn: 0.0095053\ttotal: 441ms\tremaining: 128ms\n",
      "775:\tlearn: 0.0094632\ttotal: 442ms\tremaining: 127ms\n",
      "776:\tlearn: 0.0094202\ttotal: 442ms\tremaining: 127ms\n",
      "777:\tlearn: 0.0093873\ttotal: 443ms\tremaining: 126ms\n",
      "778:\tlearn: 0.0093538\ttotal: 443ms\tremaining: 126ms\n",
      "779:\tlearn: 0.0093045\ttotal: 444ms\tremaining: 125ms\n",
      "780:\tlearn: 0.0092563\ttotal: 444ms\tremaining: 125ms\n",
      "781:\tlearn: 0.0092234\ttotal: 445ms\tremaining: 124ms\n",
      "782:\tlearn: 0.0091799\ttotal: 445ms\tremaining: 123ms\n",
      "783:\tlearn: 0.0091400\ttotal: 446ms\tremaining: 123ms\n",
      "784:\tlearn: 0.0091006\ttotal: 446ms\tremaining: 122ms\n",
      "785:\tlearn: 0.0090607\ttotal: 447ms\tremaining: 122ms\n",
      "786:\tlearn: 0.0090165\ttotal: 447ms\tremaining: 121ms\n",
      "787:\tlearn: 0.0089704\ttotal: 448ms\tremaining: 120ms\n",
      "788:\tlearn: 0.0089429\ttotal: 448ms\tremaining: 120ms\n",
      "789:\tlearn: 0.0089122\ttotal: 449ms\tremaining: 119ms\n",
      "790:\tlearn: 0.0088696\ttotal: 449ms\tremaining: 119ms\n",
      "791:\tlearn: 0.0088389\ttotal: 450ms\tremaining: 118ms\n",
      "792:\tlearn: 0.0088089\ttotal: 451ms\tremaining: 118ms\n",
      "793:\tlearn: 0.0087677\ttotal: 451ms\tremaining: 117ms\n",
      "794:\tlearn: 0.0087381\ttotal: 452ms\tremaining: 117ms\n",
      "795:\tlearn: 0.0087116\ttotal: 452ms\tremaining: 116ms\n",
      "796:\tlearn: 0.0086862\ttotal: 453ms\tremaining: 115ms\n",
      "797:\tlearn: 0.0086658\ttotal: 453ms\tremaining: 115ms\n",
      "798:\tlearn: 0.0086230\ttotal: 454ms\tremaining: 114ms\n",
      "799:\tlearn: 0.0085812\ttotal: 455ms\tremaining: 114ms\n",
      "800:\tlearn: 0.0085709\ttotal: 455ms\tremaining: 113ms\n",
      "801:\tlearn: 0.0085459\ttotal: 455ms\tremaining: 112ms\n",
      "802:\tlearn: 0.0085051\ttotal: 456ms\tremaining: 112ms\n",
      "803:\tlearn: 0.0084678\ttotal: 456ms\tremaining: 111ms\n",
      "804:\tlearn: 0.0084318\ttotal: 457ms\tremaining: 111ms\n",
      "805:\tlearn: 0.0084217\ttotal: 457ms\tremaining: 110ms\n",
      "806:\tlearn: 0.0083976\ttotal: 458ms\tremaining: 109ms\n",
      "807:\tlearn: 0.0083584\ttotal: 458ms\tremaining: 109ms\n",
      "808:\tlearn: 0.0083202\ttotal: 459ms\tremaining: 108ms\n",
      "809:\tlearn: 0.0083088\ttotal: 459ms\tremaining: 108ms\n",
      "810:\tlearn: 0.0082724\ttotal: 459ms\tremaining: 107ms\n",
      "811:\tlearn: 0.0082426\ttotal: 460ms\tremaining: 106ms\n",
      "812:\tlearn: 0.0082013\ttotal: 460ms\tremaining: 106ms\n",
      "813:\tlearn: 0.0081780\ttotal: 461ms\tremaining: 105ms\n",
      "814:\tlearn: 0.0081436\ttotal: 462ms\tremaining: 105ms\n",
      "815:\tlearn: 0.0081074\ttotal: 462ms\tremaining: 104ms\n",
      "816:\tlearn: 0.0080787\ttotal: 463ms\tremaining: 104ms\n",
      "817:\tlearn: 0.0080393\ttotal: 463ms\tremaining: 103ms\n",
      "818:\tlearn: 0.0079988\ttotal: 464ms\tremaining: 102ms\n",
      "819:\tlearn: 0.0079755\ttotal: 464ms\tremaining: 102ms\n",
      "820:\tlearn: 0.0079354\ttotal: 465ms\tremaining: 101ms\n",
      "821:\tlearn: 0.0079079\ttotal: 465ms\tremaining: 101ms\n",
      "822:\tlearn: 0.0078860\ttotal: 466ms\tremaining: 100ms\n",
      "823:\tlearn: 0.0078545\ttotal: 466ms\tremaining: 99.6ms\n",
      "824:\tlearn: 0.0078277\ttotal: 467ms\tremaining: 99ms\n",
      "825:\tlearn: 0.0077947\ttotal: 467ms\tremaining: 98.4ms\n",
      "826:\tlearn: 0.0077724\ttotal: 468ms\tremaining: 97.8ms\n",
      "827:\tlearn: 0.0077344\ttotal: 468ms\tremaining: 97.3ms\n",
      "828:\tlearn: 0.0077085\ttotal: 469ms\tremaining: 96.7ms\n",
      "829:\tlearn: 0.0076855\ttotal: 469ms\tremaining: 96.1ms\n",
      "830:\tlearn: 0.0076647\ttotal: 470ms\tremaining: 95.5ms\n",
      "831:\tlearn: 0.0076288\ttotal: 470ms\tremaining: 94.9ms\n",
      "832:\tlearn: 0.0075950\ttotal: 470ms\tremaining: 94.3ms\n",
      "833:\tlearn: 0.0075837\ttotal: 471ms\tremaining: 93.8ms\n",
      "834:\tlearn: 0.0075726\ttotal: 472ms\tremaining: 93.2ms\n",
      "835:\tlearn: 0.0075410\ttotal: 472ms\tremaining: 92.6ms\n",
      "836:\tlearn: 0.0075050\ttotal: 473ms\tremaining: 92ms\n",
      "837:\tlearn: 0.0074942\ttotal: 473ms\tremaining: 91.5ms\n",
      "838:\tlearn: 0.0074576\ttotal: 473ms\tremaining: 90.9ms\n",
      "839:\tlearn: 0.0074256\ttotal: 474ms\tremaining: 90.3ms\n",
      "840:\tlearn: 0.0073899\ttotal: 474ms\tremaining: 89.7ms\n",
      "841:\tlearn: 0.0073655\ttotal: 475ms\tremaining: 89.1ms\n",
      "842:\tlearn: 0.0073295\ttotal: 475ms\tremaining: 88.5ms\n",
      "843:\tlearn: 0.0073058\ttotal: 476ms\tremaining: 87.9ms\n"
     ]
    },
    {
     "name": "stdout",
     "output_type": "stream",
     "text": [
      "844:\tlearn: 0.0072713\ttotal: 476ms\tremaining: 87.4ms\n",
      "845:\tlearn: 0.0072374\ttotal: 477ms\tremaining: 86.8ms\n",
      "846:\tlearn: 0.0072292\ttotal: 477ms\tremaining: 86.2ms\n",
      "847:\tlearn: 0.0071943\ttotal: 478ms\tremaining: 85.7ms\n",
      "848:\tlearn: 0.0071603\ttotal: 478ms\tremaining: 85ms\n",
      "849:\tlearn: 0.0071296\ttotal: 479ms\tremaining: 84.5ms\n",
      "850:\tlearn: 0.0071102\ttotal: 479ms\tremaining: 83.9ms\n",
      "851:\tlearn: 0.0070879\ttotal: 480ms\tremaining: 83.3ms\n",
      "852:\tlearn: 0.0070651\ttotal: 480ms\tremaining: 82.7ms\n",
      "853:\tlearn: 0.0070322\ttotal: 481ms\tremaining: 82.2ms\n",
      "854:\tlearn: 0.0070105\ttotal: 481ms\tremaining: 81.6ms\n",
      "855:\tlearn: 0.0069799\ttotal: 482ms\tremaining: 81ms\n",
      "856:\tlearn: 0.0069612\ttotal: 482ms\tremaining: 80.4ms\n",
      "857:\tlearn: 0.0069401\ttotal: 482ms\tremaining: 79.8ms\n",
      "858:\tlearn: 0.0069180\ttotal: 483ms\tremaining: 79.2ms\n",
      "859:\tlearn: 0.0068964\ttotal: 483ms\tremaining: 78.6ms\n",
      "860:\tlearn: 0.0068793\ttotal: 483ms\tremaining: 78ms\n",
      "861:\tlearn: 0.0068478\ttotal: 484ms\tremaining: 77.5ms\n",
      "862:\tlearn: 0.0068402\ttotal: 484ms\tremaining: 76.9ms\n",
      "863:\tlearn: 0.0068129\ttotal: 485ms\tremaining: 76.3ms\n",
      "864:\tlearn: 0.0067950\ttotal: 485ms\tremaining: 75.7ms\n",
      "865:\tlearn: 0.0067742\ttotal: 486ms\tremaining: 75.2ms\n",
      "866:\tlearn: 0.0067449\ttotal: 486ms\tremaining: 74.6ms\n",
      "867:\tlearn: 0.0067076\ttotal: 487ms\tremaining: 74ms\n",
      "868:\tlearn: 0.0066885\ttotal: 487ms\tremaining: 73.4ms\n",
      "869:\tlearn: 0.0066721\ttotal: 488ms\tremaining: 72.8ms\n",
      "870:\tlearn: 0.0066522\ttotal: 488ms\tremaining: 72.3ms\n",
      "871:\tlearn: 0.0066239\ttotal: 488ms\tremaining: 71.7ms\n",
      "872:\tlearn: 0.0065957\ttotal: 489ms\tremaining: 71.1ms\n",
      "873:\tlearn: 0.0065602\ttotal: 490ms\tremaining: 70.6ms\n",
      "874:\tlearn: 0.0065432\ttotal: 490ms\tremaining: 70ms\n",
      "875:\tlearn: 0.0065272\ttotal: 491ms\tremaining: 69.5ms\n",
      "876:\tlearn: 0.0065092\ttotal: 491ms\tremaining: 68.9ms\n",
      "877:\tlearn: 0.0064935\ttotal: 492ms\tremaining: 68.3ms\n",
      "878:\tlearn: 0.0064664\ttotal: 492ms\tremaining: 67.8ms\n",
      "879:\tlearn: 0.0064476\ttotal: 493ms\tremaining: 67.2ms\n",
      "880:\tlearn: 0.0064083\ttotal: 494ms\tremaining: 66.7ms\n",
      "881:\tlearn: 0.0063930\ttotal: 494ms\tremaining: 66.1ms\n",
      "882:\tlearn: 0.0063584\ttotal: 494ms\tremaining: 65.5ms\n",
      "883:\tlearn: 0.0063421\ttotal: 495ms\tremaining: 64.9ms\n",
      "884:\tlearn: 0.0063247\ttotal: 495ms\tremaining: 64.4ms\n",
      "885:\tlearn: 0.0062866\ttotal: 496ms\tremaining: 63.8ms\n",
      "886:\tlearn: 0.0062706\ttotal: 497ms\tremaining: 63.3ms\n",
      "887:\tlearn: 0.0062535\ttotal: 497ms\tremaining: 62.7ms\n",
      "888:\tlearn: 0.0062247\ttotal: 497ms\tremaining: 62.1ms\n",
      "889:\tlearn: 0.0061988\ttotal: 498ms\tremaining: 61.5ms\n",
      "890:\tlearn: 0.0061654\ttotal: 499ms\tremaining: 61ms\n",
      "891:\tlearn: 0.0061458\ttotal: 499ms\tremaining: 60.4ms\n",
      "892:\tlearn: 0.0061206\ttotal: 500ms\tremaining: 59.9ms\n",
      "893:\tlearn: 0.0061015\ttotal: 500ms\tremaining: 59.3ms\n",
      "894:\tlearn: 0.0060703\ttotal: 500ms\tremaining: 58.7ms\n",
      "895:\tlearn: 0.0060460\ttotal: 501ms\tremaining: 58.1ms\n",
      "896:\tlearn: 0.0060214\ttotal: 501ms\tremaining: 57.6ms\n",
      "897:\tlearn: 0.0060061\ttotal: 502ms\tremaining: 57ms\n",
      "898:\tlearn: 0.0059864\ttotal: 503ms\tremaining: 56.5ms\n",
      "899:\tlearn: 0.0059714\ttotal: 503ms\tremaining: 55.9ms\n",
      "900:\tlearn: 0.0059417\ttotal: 503ms\tremaining: 55.3ms\n",
      "901:\tlearn: 0.0059184\ttotal: 504ms\tremaining: 54.8ms\n",
      "902:\tlearn: 0.0058965\ttotal: 505ms\tremaining: 54.2ms\n",
      "903:\tlearn: 0.0058722\ttotal: 505ms\tremaining: 53.6ms\n",
      "904:\tlearn: 0.0058577\ttotal: 505ms\tremaining: 53.1ms\n",
      "905:\tlearn: 0.0058290\ttotal: 506ms\tremaining: 52.5ms\n",
      "906:\tlearn: 0.0058152\ttotal: 507ms\tremaining: 51.9ms\n",
      "907:\tlearn: 0.0057964\ttotal: 507ms\tremaining: 51.4ms\n",
      "908:\tlearn: 0.0057822\ttotal: 507ms\tremaining: 50.8ms\n",
      "909:\tlearn: 0.0057543\ttotal: 508ms\tremaining: 50.2ms\n",
      "910:\tlearn: 0.0057471\ttotal: 508ms\tremaining: 49.7ms\n",
      "911:\tlearn: 0.0057173\ttotal: 509ms\tremaining: 49.1ms\n",
      "912:\tlearn: 0.0057039\ttotal: 509ms\tremaining: 48.5ms\n",
      "913:\tlearn: 0.0056831\ttotal: 510ms\tremaining: 48ms\n",
      "914:\tlearn: 0.0056643\ttotal: 510ms\tremaining: 47.4ms\n",
      "915:\tlearn: 0.0056427\ttotal: 511ms\tremaining: 46.9ms\n",
      "916:\tlearn: 0.0056199\ttotal: 512ms\tremaining: 46.3ms\n",
      "917:\tlearn: 0.0056064\ttotal: 512ms\tremaining: 45.7ms\n",
      "918:\tlearn: 0.0055908\ttotal: 513ms\tremaining: 45.2ms\n",
      "919:\tlearn: 0.0055840\ttotal: 513ms\tremaining: 44.6ms\n",
      "920:\tlearn: 0.0055693\ttotal: 514ms\tremaining: 44.1ms\n",
      "921:\tlearn: 0.0055562\ttotal: 514ms\tremaining: 43.5ms\n",
      "922:\tlearn: 0.0055382\ttotal: 515ms\tremaining: 42.9ms\n",
      "923:\tlearn: 0.0055054\ttotal: 515ms\tremaining: 42.4ms\n",
      "924:\tlearn: 0.0054879\ttotal: 516ms\tremaining: 41.8ms\n",
      "925:\tlearn: 0.0054809\ttotal: 516ms\tremaining: 41.3ms\n",
      "926:\tlearn: 0.0054739\ttotal: 517ms\tremaining: 40.7ms\n",
      "927:\tlearn: 0.0054536\ttotal: 517ms\tremaining: 40.1ms\n",
      "928:\tlearn: 0.0054367\ttotal: 518ms\tremaining: 39.6ms\n",
      "929:\tlearn: 0.0054280\ttotal: 518ms\tremaining: 39ms\n",
      "930:\tlearn: 0.0054083\ttotal: 519ms\tremaining: 38.4ms\n",
      "931:\tlearn: 0.0054018\ttotal: 519ms\tremaining: 37.9ms\n",
      "932:\tlearn: 0.0053953\ttotal: 520ms\tremaining: 37.3ms\n",
      "933:\tlearn: 0.0053889\ttotal: 520ms\tremaining: 36.8ms\n",
      "934:\tlearn: 0.0053727\ttotal: 521ms\tremaining: 36.2ms\n",
      "935:\tlearn: 0.0053664\ttotal: 521ms\tremaining: 35.6ms\n",
      "936:\tlearn: 0.0053601\ttotal: 522ms\tremaining: 35.1ms\n",
      "937:\tlearn: 0.0053539\ttotal: 522ms\tremaining: 34.5ms\n",
      "938:\tlearn: 0.0053406\ttotal: 523ms\tremaining: 34ms\n",
      "939:\tlearn: 0.0053344\ttotal: 524ms\tremaining: 33.4ms\n",
      "940:\tlearn: 0.0053293\ttotal: 524ms\tremaining: 32.9ms\n",
      "941:\tlearn: 0.0053005\ttotal: 525ms\tremaining: 32.3ms\n",
      "942:\tlearn: 0.0052695\ttotal: 525ms\tremaining: 31.7ms\n",
      "943:\tlearn: 0.0052527\ttotal: 526ms\tremaining: 31.2ms\n",
      "944:\tlearn: 0.0052224\ttotal: 526ms\tremaining: 30.6ms\n",
      "945:\tlearn: 0.0051916\ttotal: 527ms\tremaining: 30.1ms\n",
      "946:\tlearn: 0.0051558\ttotal: 527ms\tremaining: 29.5ms\n",
      "947:\tlearn: 0.0051397\ttotal: 528ms\tremaining: 28.9ms\n",
      "948:\tlearn: 0.0051286\ttotal: 528ms\tremaining: 28.4ms\n",
      "949:\tlearn: 0.0050987\ttotal: 529ms\tremaining: 27.8ms\n",
      "950:\tlearn: 0.0050699\ttotal: 529ms\tremaining: 27.3ms\n",
      "951:\tlearn: 0.0050567\ttotal: 530ms\tremaining: 26.7ms\n",
      "952:\tlearn: 0.0050502\ttotal: 530ms\tremaining: 26.1ms\n",
      "953:\tlearn: 0.0050232\ttotal: 531ms\tremaining: 25.6ms\n",
      "954:\tlearn: 0.0049893\ttotal: 531ms\tremaining: 25ms\n",
      "955:\tlearn: 0.0049627\ttotal: 532ms\tremaining: 24.5ms\n",
      "956:\tlearn: 0.0049366\ttotal: 532ms\tremaining: 23.9ms\n",
      "957:\tlearn: 0.0049163\ttotal: 533ms\tremaining: 23.4ms\n",
      "958:\tlearn: 0.0048888\ttotal: 533ms\tremaining: 22.8ms\n",
      "959:\tlearn: 0.0048607\ttotal: 534ms\tremaining: 22.2ms\n",
      "960:\tlearn: 0.0048339\ttotal: 534ms\tremaining: 21.7ms\n",
      "961:\tlearn: 0.0048233\ttotal: 535ms\tremaining: 21.1ms\n",
      "962:\tlearn: 0.0048129\ttotal: 536ms\tremaining: 20.6ms\n",
      "963:\tlearn: 0.0047855\ttotal: 536ms\tremaining: 20ms\n",
      "964:\tlearn: 0.0047594\ttotal: 537ms\tremaining: 19.5ms\n",
      "965:\tlearn: 0.0047491\ttotal: 537ms\tremaining: 18.9ms\n",
      "966:\tlearn: 0.0047390\ttotal: 538ms\tremaining: 18.3ms\n",
      "967:\tlearn: 0.0047134\ttotal: 538ms\tremaining: 17.8ms\n",
      "968:\tlearn: 0.0047034\ttotal: 539ms\tremaining: 17.2ms\n",
      "969:\tlearn: 0.0046769\ttotal: 539ms\tremaining: 16.7ms\n",
      "970:\tlearn: 0.0046519\ttotal: 540ms\tremaining: 16.1ms\n",
      "971:\tlearn: 0.0046421\ttotal: 540ms\tremaining: 15.6ms\n",
      "972:\tlearn: 0.0046324\ttotal: 541ms\tremaining: 15ms\n",
      "973:\tlearn: 0.0046203\ttotal: 541ms\tremaining: 14.4ms\n",
      "974:\tlearn: 0.0046107\ttotal: 542ms\tremaining: 13.9ms\n",
      "975:\tlearn: 0.0045849\ttotal: 542ms\tremaining: 13.3ms\n",
      "976:\tlearn: 0.0045608\ttotal: 543ms\tremaining: 12.8ms\n",
      "977:\tlearn: 0.0045514\ttotal: 543ms\tremaining: 12.2ms\n",
      "978:\tlearn: 0.0045322\ttotal: 544ms\tremaining: 11.7ms\n",
      "979:\tlearn: 0.0045134\ttotal: 544ms\tremaining: 11.1ms\n",
      "980:\tlearn: 0.0045042\ttotal: 545ms\tremaining: 10.6ms\n",
      "981:\tlearn: 0.0044792\ttotal: 545ms\tremaining: 10ms\n",
      "982:\tlearn: 0.0044555\ttotal: 546ms\tremaining: 9.44ms\n",
      "983:\tlearn: 0.0044465\ttotal: 546ms\tremaining: 8.88ms\n",
      "984:\tlearn: 0.0044377\ttotal: 547ms\tremaining: 8.33ms\n",
      "985:\tlearn: 0.0044133\ttotal: 547ms\tremaining: 7.77ms\n",
      "986:\tlearn: 0.0043902\ttotal: 548ms\tremaining: 7.22ms\n",
      "987:\tlearn: 0.0043815\ttotal: 549ms\tremaining: 6.66ms\n",
      "988:\tlearn: 0.0043701\ttotal: 549ms\tremaining: 6.11ms\n",
      "989:\tlearn: 0.0043615\ttotal: 550ms\tremaining: 5.55ms\n",
      "990:\tlearn: 0.0043378\ttotal: 550ms\tremaining: 5ms\n",
      "991:\tlearn: 0.0043102\ttotal: 551ms\tremaining: 4.44ms\n",
      "992:\tlearn: 0.0043017\ttotal: 551ms\tremaining: 3.88ms\n",
      "993:\tlearn: 0.0042934\ttotal: 552ms\tremaining: 3.33ms\n",
      "994:\tlearn: 0.0042755\ttotal: 552ms\tremaining: 2.77ms\n",
      "995:\tlearn: 0.0042705\ttotal: 553ms\tremaining: 2.22ms\n",
      "996:\tlearn: 0.0042473\ttotal: 553ms\tremaining: 1.66ms\n",
      "997:\tlearn: 0.0042365\ttotal: 554ms\tremaining: 1.11ms\n",
      "998:\tlearn: 0.0042150\ttotal: 554ms\tremaining: 554us\n"
     ]
    },
    {
     "name": "stdout",
     "output_type": "stream",
     "text": [
      "999:\tlearn: 0.0041925\ttotal: 555ms\tremaining: 0us\n"
     ]
    },
    {
     "data": {
      "text/plain": [
       "<catboost.core.CatBoostRegressor at 0x7fb9316e35b0>"
      ]
     },
     "execution_count": 9,
     "metadata": {},
     "output_type": "execute_result"
    }
   ],
   "source": [
    "#Train the Model \n",
    "prior_model = ctb.CatBoostRegressor()\n",
    "prior_model.fit(X_train,Y_train)"
   ]
  },
  {
   "cell_type": "code",
   "execution_count": 10,
   "id": "af65dcda",
   "metadata": {
    "execution": {
     "iopub.execute_input": "2022-02-13T14:50:07.738871Z",
     "iopub.status.busy": "2022-02-13T14:50:07.738481Z",
     "iopub.status.idle": "2022-02-13T14:50:07.745842Z",
     "shell.execute_reply": "2022-02-13T14:50:07.746078Z"
    },
    "id": "af65dcda",
    "papermill": {
     "duration": 0.020208,
     "end_time": "2022-02-13T14:50:07.746188",
     "exception": false,
     "start_time": "2022-02-13T14:50:07.725980",
     "status": "completed"
    },
    "tags": []
   },
   "outputs": [
    {
     "data": {
      "application/scrapbook.scrap.json+json": {
       "data": 0.4733461664569029,
       "encoder": "json",
       "name": "Prior Model MSE",
       "version": 1
      }
     },
     "metadata": {
      "scrapbook": {
       "data": true,
       "display": false,
       "name": "Prior Model MSE"
      }
     },
     "output_type": "display_data"
    },
    {
     "data": {
      "application/scrapbook.scrap.json+json": {
       "data": 0.5214544953765495,
       "encoder": "json",
       "name": "ABC Pre-generator MSE",
       "version": 1
      }
     },
     "metadata": {
      "scrapbook": {
       "data": true,
       "display": false,
       "name": "ABC Pre-generator MSE"
      }
     },
     "output_type": "display_data"
    },
    {
     "data": {
      "application/scrapbook.scrap.json+json": {
       "data": 0.5091850345493966,
       "encoder": "json",
       "name": "Prior Model MSE",
       "version": 1
      }
     },
     "metadata": {
      "scrapbook": {
       "data": true,
       "display": false,
       "name": "Prior Model MSE"
      }
     },
     "output_type": "display_data"
    },
    {
     "data": {
      "application/scrapbook.scrap.json+json": {
       "data": 0.5483637845129977,
       "encoder": "json",
       "name": "ABC Pre-generator MSE",
       "version": 1
      }
     },
     "metadata": {
      "scrapbook": {
       "data": true,
       "display": false,
       "name": "ABC Pre-generator MSE"
      }
     },
     "output_type": "display_data"
    }
   ],
   "source": [
    "y_pred = prior_model.predict(X_test)\n",
    "y_abc = y_pred + np.random.normal(0,variance, y_pred.shape)\n",
    "mse = mean_squared_error(y_pred,Y_test)\n",
    "sb.glue(\"Prior Model MSE\",mse)\n",
    "mse = mean_squared_error(y_abc,Y_test)\n",
    "sb.glue(\"ABC Pre-generator MSE\",mse)\n",
    "\n",
    "mae = mean_absolute_error(y_pred,Y_test)\n",
    "sb.glue(\"Prior Model MSE\",mae)\n",
    "mae = mean_absolute_error(y_abc,Y_test)\n",
    "sb.glue(\"ABC Pre-generator MSE\",mae)"
   ]
  },
  {
   "cell_type": "markdown",
   "id": "25609da2",
   "metadata": {
    "papermill": {
     "duration": 0.009351,
     "end_time": "2022-02-13T14:50:07.765264",
     "exception": false,
     "start_time": "2022-02-13T14:50:07.755913",
     "status": "completed"
    },
    "tags": []
   },
   "source": [
    "# ABC GAN Model"
   ]
  },
  {
   "cell_type": "code",
   "execution_count": 11,
   "id": "dfc3464d",
   "metadata": {
    "execution": {
     "iopub.execute_input": "2022-02-13T14:50:07.786962Z",
     "iopub.status.busy": "2022-02-13T14:50:07.786580Z",
     "iopub.status.idle": "2022-02-13T14:50:07.789143Z",
     "shell.execute_reply": "2022-02-13T14:50:07.789386Z"
    },
    "papermill": {
     "duration": 0.014851,
     "end_time": "2022-02-13T14:50:07.789493",
     "exception": false,
     "start_time": "2022-02-13T14:50:07.774642",
     "status": "completed"
    },
    "tags": []
   },
   "outputs": [],
   "source": [
    "gen = network.Generator(n_features+1).to(device)\n",
    "disc = network.Discriminator(n_features+1).to(device)\n",
    "\n",
    "criterion = torch.nn.BCELoss()\n",
    "gen_opt = torch.optim.Adam(gen.parameters(), lr=0.001, betas=(0.5, 0.999))\n",
    "disc_opt = torch.optim.Adam(disc.parameters(), lr=0.001, betas=(0.5, 0.999))"
   ]
  },
  {
   "cell_type": "code",
   "execution_count": 12,
   "id": "b75fdd85",
   "metadata": {
    "execution": {
     "iopub.execute_input": "2022-02-13T14:50:07.810594Z",
     "iopub.status.busy": "2022-02-13T14:50:07.810255Z",
     "iopub.status.idle": "2022-02-13T14:50:21.352106Z",
     "shell.execute_reply": "2022-02-13T14:50:21.352422Z"
    },
    "papermill": {
     "duration": 13.553494,
     "end_time": "2022-02-13T14:50:21.352546",
     "exception": false,
     "start_time": "2022-02-13T14:50:07.799052",
     "status": "completed"
    },
    "tags": []
   },
   "outputs": [
    {
     "data": {
      "image/png": "[encoded data removed]",
      "text/plain": [
       "<Figure size 432x288 with 1 Axes>"
      ]
     },
     "metadata": {
      "needs_background": "light"
     },
     "output_type": "display_data"
    },
    {
     "data": {
      "image/png": "[encoded data removed]",
      "text/plain": [
       "<Figure size 432x288 with 1 Axes>"
      ]
     },
     "metadata": {
      "needs_background": "light"
     },
     "output_type": "display_data"
    }
   ],
   "source": [
    "#Training the ABC_GAN \n",
    "ABC_train_test2.training_GAN(disc,gen,disc_opt,gen_opt,train_data,batch_size,n_epochs,criterion,prior_model,variance,device)"
   ]
  },
  {
   "cell_type": "code",
   "execution_count": 13,
   "id": "1fa7c368",
   "metadata": {
    "execution": {
     "iopub.execute_input": "2022-02-13T14:50:21.376315Z",
     "iopub.status.busy": "2022-02-13T14:50:21.375790Z",
     "iopub.status.idle": "2022-02-13T14:50:21.546470Z",
     "shell.execute_reply": "2022-02-13T14:50:21.546720Z"
    },
    "papermill": {
     "duration": 0.183675,
     "end_time": "2022-02-13T14:50:21.546838",
     "exception": false,
     "start_time": "2022-02-13T14:50:21.363163",
     "status": "completed"
    },
    "tags": []
   },
   "outputs": [
    {
     "data": {
      "application/scrapbook.scrap.json+json": {
       "data": 0.23060004693124592,
       "encoder": "json",
       "name": "ABC-GAN Model 1 MSE",
       "version": 1
      }
     },
     "metadata": {
      "scrapbook": {
       "data": true,
       "display": false,
       "name": "ABC-GAN Model 1 MSE"
      }
     },
     "output_type": "display_data"
    },
    {
     "data": {
      "application/scrapbook.scrap.json+json": {
       "data": 0.384895689111203,
       "encoder": "json",
       "name": "ABC-GAN Model 1 MAE",
       "version": 1
      }
     },
     "metadata": {
      "scrapbook": {
       "data": true,
       "display": false,
       "name": "ABC-GAN Model 1 MAE"
      }
     },
     "output_type": "display_data"
    },
    {
     "data": {
      "application/scrapbook.scrap.json+json": {
       "data": 7.6979137822240595,
       "encoder": "json",
       "name": "ABC-GAN Model 1 Manhattan Distance",
       "version": 1
      }
     },
     "metadata": {
      "scrapbook": {
       "data": true,
       "display": false,
       "name": "ABC-GAN Model 1 Manhattan Distance"
      }
     },
     "output_type": "display_data"
    },
    {
     "data": {
      "application/scrapbook.scrap.json+json": {
       "data": 2.1470576023087493,
       "encoder": "json",
       "name": "ABC-GAN Model 1 Euclidean distance",
       "version": 1
      }
     },
     "metadata": {
      "scrapbook": {
       "data": true,
       "display": false,
       "name": "ABC-GAN Model 1 Euclidean distance"
      }
     },
     "output_type": "display_data"
    },
    {
     "data": {
      "application/scrapbook.scrap.json+json": {
       "data": [
        [
         0.22314171610568553,
         0.24085129712101047,
         0.2318584096845257,
         0.23177996393205968,
         0.23513514743556613,
         0.22240345419411578,
         0.23762489068529233,
         0.2328572600973396,
         0.25158295342246023,
         0.22213285978263175,
         0.229505008528975,
         0.2087869568993967,
         0.2306728618346144,
         0.2300664350481832,
         0.2193629178494514,
         0.24752762367786443,
         0.22109031460348164,
         0.2354208175312745,
         0.22965619987086314,
         0.22411526843980423,
         0.2475718417871276,
         0.2261455461683656,
         0.2277843510656236,
         0.23169047931600661,
         0.23525903804228143,
         0.24635385349270425,
         0.22103639730319502,
         0.23187956001230567,
         0.23337561710689206,
         0.23791784181085895,
         0.22617631439564495,
         0.2393235817720787,
         0.2270203169625641,
         0.2383113933155419,
         0.23156126952149442,
         0.23714408377406798,
         0.2294259412282024,
         0.21382761096894926,
         0.228303473638554,
         0.23732017043998693,
         0.23243358266900568,
         0.2471903124858767,
         0.23541895186612863,
         0.23961903419991254,
         0.2308747401220685,
         0.23218545289385278,
         0.2276173404975837,
         0.22229798553734867,
         0.23787716954653232,
         0.2077958983857867,
         0.24242679699402797,
         0.21797833185230736,
         0.25089353495483563,
         0.21444407649370154,
         0.2284038887820991,
         0.22603798023340635,
         0.25060903664219614,
         0.2215420847444856,
         0.23336232927904482,
         0.2280654738873678,
         0.2375083240412669,
         0.24386046080770343,
         0.22388409012117702,
         0.22515844055697753,
         0.21903787617559756,
         0.2258533611177489,
         0.20830933859486392,
         0.21675244376745342,
         0.22062263848980407,
         0.23419969837965415,
         0.2322100143639995,
         0.2175066099134503,
         0.22484726332644261,
         0.23172825635375816,
         0.24357761414015994,
         0.23185217423318677,
         0.22678967032516048,
         0.23820845207448813,
         0.239431572141568,
         0.2165918175135247,
         0.21536867441716886,
         0.23301589477823687,
         0.23386335830307484,
         0.22478498831335741,
         0.23300597225638628,
         0.2226477264123719,
         0.23800538223429002,
         0.23872606500643356,
         0.22228802749499027,
         0.2401353007495482,
         0.22487265609648546,
         0.23940248478871323,
         0.24941533185778572,
         0.22414433480808854,
         0.24387302550919018,
         0.23911879253763116,
         0.20533206371336896,
         0.2255427804060346,
         0.2269084974200736,
         0.2415481786487667
        ],
        [
         0.3787461193278432,
         0.3866687210276723,
         0.3803152931854129,
         0.38482153955847026,
         0.38789916355162857,
         0.38078692723065616,
         0.40189930349588393,
         0.3845069479197264,
         0.4054188283160329,
         0.3753209622576833,
         0.3852672317996621,
         0.3626922780647874,
         0.3939966121688485,
         0.3756838561967015,
         0.38143865317106246,
         0.3958826309069991,
         0.3737980963662267,
         0.39440941866487267,
         0.398756892606616,
         0.3835421450436115,
         0.4088480981066823,
         0.37929115500301125,
         0.3880448738113046,
         0.38796989135444165,
         0.38151293341070414,
         0.40231595039367674,
         0.379557497613132,
         0.4030063509941101,
         0.3759289551526308,
         0.39399173576384783,
         0.3718262607231736,
         0.3880675405263901,
         0.38674673326313497,
         0.39298112485557796,
         0.3921771220862865,
         0.38485932219773533,
         0.37456574067473414,
         0.37174400631338356,
         0.38820075113326313,
         0.3866868490353227,
         0.3822418060153723,
         0.39276845324784515,
         0.4028788471594453,
         0.3994041273370385,
         0.3912414664402604,
         0.3921183578670025,
         0.3877663888037205,
         0.3791087070479989,
         0.39255550019443036,
         0.3510303722694516,
         0.3905982876196504,
         0.3779694728553295,
         0.3971783762797713,
         0.3742496656253934,
         0.376165222376585,
         0.37947136387228964,
         0.4007213668897748,
         0.3812415849417448,
         0.39064095467329024,
         0.39010089803487064,
         0.3891603799536824,
         0.3978254096582532,
         0.37835716363042593,
         0.3841908037662506,
         0.37163151428103447,
         0.3745336772873998,
         0.3602224480360746,
         0.37904335726052524,
         0.3682450758293271,
         0.3921823749318719,
         0.3899483459070325,
         0.36493884958326817,
         0.3840054992586374,
         0.3934243403375149,
         0.4043324815109372,
         0.38732954263687136,
         0.3812278425320983,
         0.38925852421671153,
         0.39124816954135894,
         0.3759219298139215,
         0.3695479307323694,
         0.3863264570012689,
         0.39234929010272024,
         0.37267829682677983,
         0.38127461541444063,
         0.3798473920673132,
         0.3834969760850072,
         0.390650593675673,
         0.3776171810925007,
         0.3857126943767071,
         0.3797581510618329,
         0.39633299205452205,
         0.4050384620204568,
         0.3665263418108225,
         0.3916478008031845,
         0.38630392625927923,
         0.3561357997357845,
         0.37805320266634224,
         0.3815985294058919,
         0.39201881512999537
        ],
        [
         7.574922386556864,
         7.733374420553446,
         7.606305863708258,
         7.696430791169405,
         7.757983271032572,
         7.615738544613123,
         8.037986069917679,
         7.690138958394527,
         8.108376566320658,
         7.5064192451536655,
         7.705344635993242,
         7.253845561295748,
         7.87993224337697,
         7.5136771239340305,
         7.628773063421249,
         7.917652618139982,
         7.4759619273245335,
         7.888188373297453,
         7.97513785213232,
         7.6708429008722305,
         8.176961962133646,
         7.5858231000602245,
         7.760897476226091,
         7.759397827088833,
         7.630258668214083,
         8.046319007873535,
         7.59114995226264,
         8.060127019882202,
         7.518579103052616,
         7.879834715276957,
         7.436525214463472,
         7.7613508105278015,
         7.734934665262699,
         7.859622497111559,
         7.843542441725731,
         7.697186443954706,
         7.491314813494682,
         7.434880126267672,
         7.764015022665262,
         7.733736980706453,
         7.6448361203074455,
         7.8553690649569035,
         8.057576943188906,
         7.98808254674077,
         7.824829328805208,
         7.84236715734005,
         7.7553277760744095,
         7.582174140959978,
         7.851110003888607,
         7.020607445389032,
         7.811965752393007,
         7.55938945710659,
         7.943567525595427,
         7.484993312507868,
         7.5233044475317,
         7.589427277445793,
         8.014427337795496,
         7.624831698834896,
         7.812819093465805,
         7.8020179606974125,
         7.7832075990736485,
         7.956508193165064,
         7.567143272608519,
         7.683816075325012,
         7.432630285620689,
         7.490673545747995,
         7.204448960721493,
         7.5808671452105045,
         7.364901516586542,
         7.843647498637438,
         7.79896691814065,
         7.298776991665363,
         7.680109985172749,
         7.8684868067502975,
         8.086649630218744,
         7.746590852737427,
         7.624556850641966,
         7.78517048433423,
         7.824963390827179,
         7.518438596278429,
         7.3909586146473885,
         7.726529140025377,
         7.846985802054405,
         7.453565936535597,
         7.625492308288813,
         7.596947841346264,
         7.669939521700144,
         7.81301187351346,
         7.552343621850014,
         7.7142538875341415,
         7.595163021236658,
         7.926659841090441,
         8.100769240409136,
         7.33052683621645,
         7.83295601606369,
         7.726078525185585,
         7.122715994715691,
         7.561064053326845,
         7.631970588117838,
         7.840376302599907
        ],
        [
         2.1125421468254095,
         2.19477241244285,
         2.1534085059947436,
         2.1530441887339875,
         2.1685716379016218,
         2.1090445903020436,
         2.180022434220769,
         2.1580419833605626,
         2.243135989736067,
         2.107761180886638,
         2.1424519062465555,
         2.043462536477714,
         2.147896002299061,
         2.1450707915972527,
         2.0945783243863256,
         2.224983701863294,
         2.102809143044045,
         2.1698885571903204,
         2.1431574831116036,
         2.1171455709979146,
         2.2251824275197194,
         2.126713643950993,
         2.134405542841489,
         2.1526285295703325,
         2.1691428631709875,
         2.2197020227620836,
         2.1025527213518096,
         2.1535067216626262,
         2.16044262643974,
         2.1813658189806633,
         2.126858314019272,
         2.1878006388703644,
         2.1308229253627067,
         2.183169225303169,
         2.1520282039113448,
         2.177815803845991,
         2.142082823927228,
         2.0679826448447254,
         2.1368363233460537,
         2.178624200912066,
         2.1560778402878027,
         2.223467168571988,
         2.169879959196493,
         2.1891506764035795,
         2.1488356853052704,
         2.1549266943163183,
         2.1336229305928622,
         2.1085444531114286,
         2.181179357808671,
         2.0386068693388957,
         2.2019391317383317,
         2.0879575275963225,
         2.240060423090572,
         2.0709614988874203,
         2.1373061960425748,
         2.1262077990328527,
         2.2387900153529188,
         2.1049564591434455,
         2.1603811204463197,
         2.135722237967137,
         2.179487664756407,
         2.20844044885844,
         2.116053355287513,
         2.1220671080669318,
         2.093025925188685,
         2.125339319345261,
         2.041123899202907,
         2.082078018554797,
         2.100583911629355,
         2.1642536745014627,
         2.155040669518789,
         2.085697053329895,
         2.1206002137434705,
         2.1528040150174292,
         2.207159324290659,
         2.1533795496065564,
         2.1297402204267097,
         2.182697652330657,
         2.188294185622984,
         2.0813064047060665,
         2.0754212797269322,
         2.158776944374925,
         2.162699046576175,
         2.1203065264878918,
         2.1587309802584773,
         2.110202485129671,
         2.1817670922180947,
         2.185067802181129,
         2.108497225490184,
         2.191507703612051,
         2.1207199536783987,
         2.1881612590881563,
         2.2334517315482136,
         2.117282856909244,
         2.2084973421274032,
         2.1868643878285234,
         2.0264849553518474,
         2.123877493670643,
         2.130298089094921,
         2.1979453070937263
        ]
       ],
       "encoder": "json",
       "name": "ABC_GAN_1 Metrics",
       "version": 1
      }
     },
     "metadata": {
      "scrapbook": {
       "data": true,
       "display": false,
       "name": "ABC_GAN_1 Metrics"
      }
     },
     "output_type": "display_data"
    },
    {
     "name": "stdout",
     "output_type": "stream",
     "text": [
      "MSE\n",
      "0.23060004693124592\n"
     ]
    }
   ],
   "source": [
    "ABC_GAN1_metrics=ABC_train_test2.test_generator(gen,test_data,prior_model,variance,\"1\",device)\n",
    "sb.glue(\"ABC_GAN_1 Metrics\",ABC_GAN1_metrics)\n",
    "\n",
    "print(\"MSE\")\n",
    "print(mean(ABC_GAN1_metrics[0]))"
   ]
  },
  {
   "cell_type": "code",
   "execution_count": 14,
   "id": "eb22ce5c",
   "metadata": {
    "execution": {
     "iopub.execute_input": "2022-02-13T14:50:21.573060Z",
     "iopub.status.busy": "2022-02-13T14:50:21.572690Z",
     "iopub.status.idle": "2022-02-13T14:50:21.857953Z",
     "shell.execute_reply": "2022-02-13T14:50:21.858311Z"
    },
    "papermill": {
     "duration": 0.29949,
     "end_time": "2022-02-13T14:50:21.858430",
     "exception": false,
     "start_time": "2022-02-13T14:50:21.558940",
     "status": "completed"
    },
    "tags": []
   },
   "outputs": [
    {
     "data": {
      "image/png": "[encoded data removed]",
      "text/plain": [
       "<Figure size 432x288 with 1 Axes>"
      ]
     },
     "metadata": {
      "needs_background": "light"
     },
     "output_type": "display_data"
    },
    {
     "data": {
      "image/png": "[encoded data removed]",
      "text/plain": [
       "<Figure size 432x288 with 1 Axes>"
      ]
     },
     "metadata": {
      "needs_background": "light"
     },
     "output_type": "display_data"
    },
    {
     "data": {
      "image/png": "[encoded data removed]",
      "text/plain": [
       "<Figure size 432x288 with 1 Axes>"
      ]
     },
     "metadata": {
      "needs_background": "light"
     },
     "output_type": "display_data"
    },
    {
     "data": {
      "image/png": "[encoded data removed]",
      "text/plain": [
       "<Figure size 432x288 with 1 Axes>"
      ]
     },
     "metadata": {
      "needs_background": "light"
     },
     "output_type": "display_data"
    }
   ],
   "source": [
    "sanityChecks.discProbVsError(train_data,disc,device)\n",
    "sanityChecks.discProbVsError(test_data,disc,device)"
   ]
  },
  {
   "cell_type": "markdown",
   "id": "130f3a4d",
   "metadata": {
    "id": "130f3a4d",
    "papermill": {
     "duration": 0.014001,
     "end_time": "2022-02-13T14:50:21.886763",
     "exception": false,
     "start_time": "2022-02-13T14:50:21.872762",
     "status": "completed"
    },
    "tags": []
   },
   "source": [
    "# ABC - GAN Model with skip connection"
   ]
  },
  {
   "cell_type": "code",
   "execution_count": 15,
   "id": "4e43dad1",
   "metadata": {
    "execution": {
     "iopub.execute_input": "2022-02-13T14:50:21.918358Z",
     "iopub.status.busy": "2022-02-13T14:50:21.917970Z",
     "iopub.status.idle": "2022-02-13T14:50:21.920240Z",
     "shell.execute_reply": "2022-02-13T14:50:21.920476Z"
    },
    "id": "4e43dad1",
    "papermill": {
     "duration": 0.019719,
     "end_time": "2022-02-13T14:50:21.920587",
     "exception": false,
     "start_time": "2022-02-13T14:50:21.900868",
     "status": "completed"
    },
    "tags": []
   },
   "outputs": [],
   "source": [
    "#Generator\n",
    "gen3 = network.GeneratorWithSkipConnection(n_features+1).to(device)\n",
    "constraints=network.weightConstraint()\n",
    "#Discriminator \n",
    "disc3 = network.Discriminator(n_features+1).to(device)\n",
    "\n",
    "criterion = torch.nn.BCELoss()\n",
    "gen_opt = torch.optim.Adam(gen3.parameters(), lr=0.001, betas=(0.5, 0.999))\n",
    "disc_opt = torch.optim.Adam(disc3.parameters(), lr=0.001, betas=(0.5, 0.999))\n"
   ]
  },
  {
   "cell_type": "code",
   "execution_count": 16,
   "id": "26acbc37",
   "metadata": {
    "execution": {
     "iopub.execute_input": "2022-02-13T14:50:21.951599Z",
     "iopub.status.busy": "2022-02-13T14:50:21.951231Z",
     "iopub.status.idle": "2022-02-13T14:50:58.314009Z",
     "shell.execute_reply": "2022-02-13T14:50:58.314333Z"
    },
    "id": "26acbc37",
    "papermill": {
     "duration": 36.379488,
     "end_time": "2022-02-13T14:50:58.314457",
     "exception": false,
     "start_time": "2022-02-13T14:50:21.934969",
     "status": "completed"
    },
    "tags": []
   },
   "outputs": [
    {
     "data": {
      "image/png": "[encoded data removed]",
      "text/plain": [
       "<Figure size 432x288 with 1 Axes>"
      ]
     },
     "metadata": {
      "needs_background": "light"
     },
     "output_type": "display_data"
    },
    {
     "data": {
      "image/png": "[encoded data removed]",
      "text/plain": [
       "<Figure size 432x288 with 1 Axes>"
      ]
     },
     "metadata": {
      "needs_background": "light"
     },
     "output_type": "display_data"
    }
   ],
   "source": [
    "ABC_train_test2.training_GAN_skip_connection(disc3,gen3,disc_opt,gen_opt,train_data,batch_size,n_epochs,criterion,prior_model,variance,device)"
   ]
  },
  {
   "cell_type": "code",
   "execution_count": 17,
   "id": "c5e0717b",
   "metadata": {
    "execution": {
     "iopub.execute_input": "2022-02-13T14:50:58.347184Z",
     "iopub.status.busy": "2022-02-13T14:50:58.346786Z",
     "iopub.status.idle": "2022-02-13T14:50:58.630267Z",
     "shell.execute_reply": "2022-02-13T14:50:58.630704Z"
    },
    "id": "c5e0717b",
    "papermill": {
     "duration": 0.301199,
     "end_time": "2022-02-13T14:50:58.630829",
     "exception": false,
     "start_time": "2022-02-13T14:50:58.329630",
     "status": "completed"
    },
    "tags": []
   },
   "outputs": [
    {
     "data": {
      "application/scrapbook.scrap.json+json": {
       "data": 0.15598937589219056,
       "encoder": "json",
       "name": "ABC-GAN Model 3 MSE",
       "version": 1
      }
     },
     "metadata": {
      "scrapbook": {
       "data": true,
       "display": false,
       "name": "ABC-GAN Model 3 MSE"
      }
     },
     "output_type": "display_data"
    },
    {
     "data": {
      "application/scrapbook.scrap.json+json": {
       "data": 0.29445746409147977,
       "encoder": "json",
       "name": "ABC-GAN Model 3 MAE",
       "version": 1
      }
     },
     "metadata": {
      "scrapbook": {
       "data": true,
       "display": false,
       "name": "ABC-GAN Model 3 MAE"
      }
     },
     "output_type": "display_data"
    },
    {
     "data": {
      "application/scrapbook.scrap.json+json": {
       "data": 5.889149281829596,
       "encoder": "json",
       "name": "ABC-GAN Model 3 Manhattan Distance",
       "version": 1
      }
     },
     "metadata": {
      "scrapbook": {
       "data": true,
       "display": false,
       "name": "ABC-GAN Model 3 Manhattan Distance"
      }
     },
     "output_type": "display_data"
    },
    {
     "data": {
      "application/scrapbook.scrap.json+json": {
       "data": 1.7656182464540455,
       "encoder": "json",
       "name": "ABC-GAN Model 3 Euclidean distance",
       "version": 1
      }
     },
     "metadata": {
      "scrapbook": {
       "data": true,
       "display": false,
       "name": "ABC-GAN Model 3 Euclidean distance"
      }
     },
     "output_type": "display_data"
    },
    {
     "data": {
      "application/scrapbook.scrap.json+json": {
       "data": [
        [
         0.16139120148996372,
         0.16308357071671384,
         0.15380971318728892,
         0.15882270035607862,
         0.15719336648147691,
         0.15785447208692927,
         0.15368002703973893,
         0.1524200062483179,
         0.15564531010653884,
         0.1611016122016446,
         0.15162828531552966,
         0.1607550967518201,
         0.16485537955101773,
         0.16693313610455615,
         0.15550246717227795,
         0.15547552015546437,
         0.16987802520524925,
         0.15123822159803746,
         0.152001542424705,
         0.16440995750475346,
         0.15529098504665242,
         0.17318160271609456,
         0.1557891092713795,
         0.14975933387972576,
         0.1592630277277538,
         0.15900029254887652,
         0.15913386654286935,
         0.14781116258142876,
         0.14978570221830462,
         0.14461006025303808,
         0.1423709470759164,
         0.1696119398750499,
         0.15580141969264424,
         0.17116386172845272,
         0.1488595723512814,
         0.14086995723311227,
         0.15407402850683372,
         0.1402578394759741,
         0.15603830727149323,
         0.15652920291530265,
         0.16044026099311545,
         0.14565553177687943,
         0.1479715685790703,
         0.1665063694422476,
         0.15244390837648125,
         0.14744160178128504,
         0.15102850574662613,
         0.17297507034925036,
         0.14158352358838672,
         0.16135098192205982,
         0.15665557212123438,
         0.15729556549562695,
         0.15763649499506535,
         0.1527084174131062,
         0.1470724329910538,
         0.15468370895892672,
         0.15490931387145418,
         0.16519845556406773,
         0.15726512798707343,
         0.14802216526746262,
         0.1489161687193284,
         0.15397322664438576,
         0.16565572792829725,
         0.16882067300399775,
         0.1493248620143604,
         0.15066891189512044,
         0.16567302156350303,
         0.16685501814032705,
         0.16359627847120342,
         0.14811522304568872,
         0.15771139422259864,
         0.16992531261714866,
         0.1491913797030045,
         0.1355727732866533,
         0.17073641669496462,
         0.1486817834312427,
         0.17541098984624223,
         0.16100184039290605,
         0.15660323668074505,
         0.15231976226344351,
         0.159834800407863,
         0.16979491860150644,
         0.15861295730594618,
         0.15145760552574833,
         0.15172110424562393,
         0.15362540000444283,
         0.16017603298462016,
         0.15567522994006042,
         0.15419309475086088,
         0.14742933863128002,
         0.17120407543194896,
         0.16222638358540958,
         0.1620444645736004,
         0.1566117876204982,
         0.13417548422643724,
         0.1458512950487789,
         0.1471414053544064,
         0.136627551713672,
         0.14907399942441973,
         0.15698025144600955
        ],
        [
         0.29394924696534874,
         0.3096413953229785,
         0.2928054859861732,
         0.2968861123546958,
         0.29543961584568024,
         0.2882751075550914,
         0.3023372747004032,
         0.28904796186834575,
         0.30189308244735,
         0.303261905349791,
         0.2829121723771095,
         0.2964813893660903,
         0.29848505537956954,
         0.298067588545382,
         0.29839377496391534,
         0.2946821259334683,
         0.2992740897461772,
         0.2899785988032818,
         0.2960106311365962,
         0.30871798675507306,
         0.3121085023507476,
         0.2974543284624815,
         0.2979137744754553,
         0.29778528977185487,
         0.3086085690185428,
         0.2929378928616643,
         0.3015323027968407,
         0.2817353330552578,
         0.2878307566046715,
         0.2801584152504802,
         0.27729922737926244,
         0.30037698056548834,
         0.2946770487353206,
         0.30733517203480004,
         0.2857102328911424,
         0.28064934741705655,
         0.2880632679909468,
         0.27348429430276155,
         0.29124704040586946,
         0.29733786508440974,
         0.3047626165673137,
         0.2924763135612011,
         0.278075079806149,
         0.30532564241439103,
         0.2802897637709975,
         0.2877827541902661,
         0.2936113363131881,
         0.31850940715521575,
         0.2837519396096468,
         0.30245796088129284,
         0.3058520557358861,
         0.29256204040721057,
         0.2863705508410931,
         0.28424690924584867,
         0.28901611883193257,
         0.29381067864596844,
         0.2904556479305029,
         0.2970311133190989,
         0.30053582321852446,
         0.28925764095038176,
         0.29553706124424933,
         0.2737823650240898,
         0.2913526514545083,
         0.2971982451155782,
         0.27584816636517645,
         0.2902201671153307,
         0.3112577309831977,
         0.3034588208422065,
         0.30941863227635624,
         0.28676673769950867,
         0.2933163480833173,
         0.30711500700563193,
         0.29240950886160133,
         0.2751464804634452,
         0.3001503748819232,
         0.28352315444499254,
         0.30826871898025276,
         0.29268311727792024,
         0.29604954160749913,
         0.29273270182311534,
         0.2920613268390298,
         0.3136062124744058,
         0.30515839252620935,
         0.2944511154666543,
         0.2952470537275076,
         0.3021891938522458,
         0.295702257566154,
         0.2947315638884902,
         0.29584269430488347,
         0.30040189791470767,
         0.3049211656674743,
         0.300548361428082,
         0.30057537201792,
         0.2987925263121724,
         0.28300969731062653,
         0.2865702463313937,
         0.28797438498586414,
         0.2775388414040208,
         0.28707279432564975,
         0.28614814300090075
        ],
        [
         5.878984939306974,
         6.19282790645957,
         5.856109719723463,
         5.937722247093916,
         5.908792316913605,
         5.765502151101828,
         6.046745494008064,
         5.780959237366915,
         6.0378616489470005,
         6.065238106995821,
         5.6582434475421906,
         5.929627787321806,
         5.969701107591391,
         5.9613517709076405,
         5.967875499278307,
         5.893642518669367,
         5.985481794923544,
         5.799571976065636,
         5.920212622731924,
         6.174359735101461,
         6.242170047014952,
         5.94908656924963,
         5.958275489509106,
         5.9557057954370975,
         6.172171380370855,
         5.858757857233286,
         6.030646055936813,
         5.634706661105156,
         5.75661513209343,
         5.6031683050096035,
         5.545984547585249,
         6.007539611309767,
         5.893540974706411,
         6.146703440696001,
         5.714204657822847,
         5.612986948341131,
         5.761265359818935,
         5.469685886055231,
         5.82494080811739,
         5.946757301688194,
         6.095252331346273,
         5.849526271224022,
         5.56150159612298,
         6.106512848287821,
         5.6057952754199505,
         5.755655083805323,
         5.8722267262637615,
         6.370188143104315,
         5.675038792192936,
         6.049159217625856,
         6.117041114717722,
         5.851240808144212,
         5.727411016821861,
         5.684938184916973,
         5.780322376638651,
         5.876213572919369,
         5.809112958610058,
         5.940622266381979,
         6.010716464370489,
         5.785152819007635,
         5.910741224884987,
         5.475647300481796,
         5.827053029090166,
         5.9439649023115635,
         5.516963327303529,
         5.804403342306614,
         6.225154619663954,
         6.06917641684413,
         6.188372645527124,
         5.735334753990173,
         5.866326961666346,
         6.1423001401126385,
         5.848190177232027,
         5.502929609268904,
         6.003007497638464,
         5.670463088899851,
         6.165374379605055,
         5.853662345558405,
         5.9209908321499825,
         5.854654036462307,
         5.841226536780596,
         6.272124249488115,
         6.103167850524187,
         5.889022309333086,
         5.904941074550152,
         6.043783877044916,
         5.91404515132308,
         5.894631277769804,
         5.91685388609767,
         6.008037958294153,
         6.098423313349485,
         6.01096722856164,
         6.0115074403584,
         5.975850526243448,
         5.66019394621253,
         5.731404926627874,
         5.759487699717283,
         5.550776828080416,
         5.741455886512995,
         5.722962860018015
        ],
        [
         1.7966146024674503,
         1.8060098046063529,
         1.7539082825922734,
         1.78226092565639,
         1.7730954090599689,
         1.776820036396085,
         1.7531687142984211,
         1.7459668166853453,
         1.7643429944686992,
         1.795002017835326,
         1.741426342487845,
         1.7930705326440457,
         1.815793928566883,
         1.8272007886631187,
         1.7635331988498428,
         1.7633803909279722,
         1.8432472715577215,
         1.7391849907243189,
         1.7435684238062183,
         1.8133392264259518,
         1.762333595246101,
         1.861083569945716,
         1.7651578358400675,
         1.7306607632908637,
         1.7847298267679272,
         1.7832570905445828,
         1.7840059783692954,
         1.7193671078709676,
         1.7308131165339868,
         1.700647290022467,
         1.6874296849108492,
         1.8418031375532509,
         1.765227575655016,
         1.8502100514722792,
         1.7254539828768625,
         1.6785109903310866,
         1.755414643363976,
         1.6748602298459063,
         1.7665690321722118,
         1.7693456582324587,
         1.791313825063132,
         1.706783710825009,
         1.7202997911937923,
         1.8248636630841635,
         1.7461037104163157,
         1.7172163624964971,
         1.7379787440968668,
         1.8599734963125165,
         1.6827568070781156,
         1.7963907254384266,
         1.7700597284907331,
         1.7736717029688835,
         1.77559283055021,
         1.7476179068269253,
         1.7150652057053328,
         1.7588843563971266,
         1.7601665482076074,
         1.817682346088379,
         1.7735000873249116,
         1.7205938815854402,
         1.7257819602680309,
         1.7548403154953203,
         1.8201962967125125,
         1.8375019619254707,
         1.7281485006466337,
         1.7359084762459132,
         1.8202913039593582,
         1.826773210556401,
         1.8088464748076516,
         1.7211346434587198,
         1.7760146070491571,
         1.843503797756591,
         1.7273759272550053,
         1.6466497702101275,
         1.847898355943663,
         1.724423285804519,
         1.8730242382107192,
         1.794446100572018,
         1.7697640333148656,
         1.7453925762615325,
         1.7879306497057597,
         1.8427963457827155,
         1.7810836999194966,
         1.7404459516212984,
         1.7419592661461631,
         1.7528570963112926,
         1.7898381657827065,
         1.7645125669150696,
         1.7560927922570657,
         1.7171449480534833,
         1.850427385400189,
         1.8012572475102473,
         1.8002470084607856,
         1.7698123494907487,
         1.6381421441769772,
         1.7079302974581774,
         1.7154673144913395,
         1.6530429620168496,
         1.7266962641091208,
         1.77189306362438
        ]
       ],
       "encoder": "json",
       "name": "ABC_GAN_3 Metrics",
       "version": 1
      }
     },
     "metadata": {
      "scrapbook": {
       "data": true,
       "display": false,
       "name": "ABC_GAN_3 Metrics"
      }
     },
     "output_type": "display_data"
    },
    {
     "name": "stdout",
     "output_type": "stream",
     "text": [
      "MSE\n",
      "0.15598937589219056\n"
     ]
    }
   ],
   "source": [
    "ABC_GAN3_metrics=ABC_train_test2.test_generator(gen3,test_data,prior_model,variance,\"3\",device)\n",
    "sb.glue(\"ABC_GAN_3 Metrics\",ABC_GAN3_metrics)\n",
    "\n",
    "print(\"MSE\")\n",
    "print(mean(ABC_GAN3_metrics[0]))"
   ]
  },
  {
   "cell_type": "code",
   "execution_count": 18,
   "id": "c8e46b48",
   "metadata": {
    "execution": {
     "iopub.execute_input": "2022-02-13T14:50:58.688390Z",
     "iopub.status.busy": "2022-02-13T14:50:58.688029Z",
     "iopub.status.idle": "2022-02-13T14:50:58.976444Z",
     "shell.execute_reply": "2022-02-13T14:50:58.976746Z"
    },
    "id": "c8e46b48",
    "papermill": {
     "duration": 0.307684,
     "end_time": "2022-02-13T14:50:58.976867",
     "exception": false,
     "start_time": "2022-02-13T14:50:58.669183",
     "status": "completed"
    },
    "tags": []
   },
   "outputs": [
    {
     "data": {
      "image/png": "[encoded data removed]",
      "text/plain": [
       "<Figure size 432x288 with 1 Axes>"
      ]
     },
     "metadata": {
      "needs_background": "light"
     },
     "output_type": "display_data"
    },
    {
     "data": {
      "image/png": "[encoded data removed]",
      "text/plain": [
       "<Figure size 432x288 with 1 Axes>"
      ]
     },
     "metadata": {
      "needs_background": "light"
     },
     "output_type": "display_data"
    },
    {
     "data": {
      "image/png": "[encoded data removed]",
      "text/plain": [
       "<Figure size 432x288 with 1 Axes>"
      ]
     },
     "metadata": {
      "needs_background": "light"
     },
     "output_type": "display_data"
    },
    {
     "data": {
      "image/png": "[encoded data removed]",
      "text/plain": [
       "<Figure size 432x288 with 1 Axes>"
      ]
     },
     "metadata": {
      "needs_background": "light"
     },
     "output_type": "display_data"
    }
   ],
   "source": [
    "sanityChecks.discProbVsError(train_data,disc3,device)\n",
    "sanityChecks.discProbVsError(test_data,disc3,device)"
   ]
  },
  {
   "cell_type": "markdown",
   "id": "a5bd74c3",
   "metadata": {
    "id": "a5bd74c3",
    "papermill": {
     "duration": 0.018831,
     "end_time": "2022-02-13T14:50:59.014780",
     "exception": false,
     "start_time": "2022-02-13T14:50:58.995949",
     "status": "completed"
    },
    "tags": []
   },
   "source": [
    "## Skip Connection Model Analysis - ABC-GAN "
   ]
  },
  {
   "cell_type": "markdown",
   "id": "5744a8bf",
   "metadata": {
    "id": "5744a8bf",
    "papermill": {
     "duration": 0.018534,
     "end_time": "2022-02-13T14:50:59.051945",
     "exception": false,
     "start_time": "2022-02-13T14:50:59.033411",
     "status": "completed"
    },
    "tags": []
   },
   "source": [
    "### Weight Analysis \n",
    "\n",
    "Study the weights of the skip connection layer\n",
    "\n",
    "Equation of the skip connection is \n",
    "\n",
    "$output = y_{gan} * w + y_{abc} * (1-w)$"
   ]
  },
  {
   "cell_type": "code",
   "execution_count": 19,
   "id": "52c31dea",
   "metadata": {
    "execution": {
     "iopub.execute_input": "2022-02-13T14:50:59.092202Z",
     "iopub.status.busy": "2022-02-13T14:50:59.091808Z",
     "iopub.status.idle": "2022-02-13T14:50:59.095169Z",
     "shell.execute_reply": "2022-02-13T14:50:59.095391Z"
    },
    "id": "52c31dea",
    "papermill": {
     "duration": 0.024973,
     "end_time": "2022-02-13T14:50:59.095503",
     "exception": false,
     "start_time": "2022-02-13T14:50:59.070530",
     "status": "completed"
    },
    "tags": []
   },
   "outputs": [
    {
     "name": "stdout",
     "output_type": "stream",
     "text": [
      "Weight of the node at skip connection\n",
      "Parameter containing:\n",
      "tensor([[0.5955]], requires_grad=True)\n"
     ]
    },
    {
     "data": {
      "application/scrapbook.scrap.json+json": {
       "data": 0.5955345034599304,
       "encoder": "json",
       "name": "Skip Connection Weight",
       "version": 1
      }
     },
     "metadata": {
      "scrapbook": {
       "data": true,
       "display": false,
       "name": "Skip Connection Weight"
      }
     },
     "output_type": "display_data"
    }
   ],
   "source": [
    "print(\"Weight of the node at skip connection\")\n",
    "for name,param in gen3.named_parameters():\n",
    "    if(name == \"skipNode.weight\"):\n",
    "        print(param)\n",
    "        sb.glue(\"Skip Connection Weight\",param.item())"
   ]
  }
 ],
 "metadata": {
  "colab": {
   "collapsed_sections": [],
   "name": "ABC_GAN_Model-Catboost_Pre-gen.ipynb",
   "provenance": []
  },
  "interpreter": {
   "hash": "31f2aee4e71d21fbe5cf8b01ff0e069b9275f58929596ceb00d14d90e3e16cd6"
  },
  "kernelspec": {
   "display_name": "Python 3 (ipykernel)",
   "language": "python",
   "name": "python3"
  },
  "language_info": {
   "codemirror_mode": {
    "name": "ipython",
    "version": 3
   },
   "file_extension": ".py",
   "mimetype": "text/x-python",
   "name": "python",
   "nbconvert_exporter": "python",
   "pygments_lexer": "ipython3",
   "version": "3.8.11"
  },
  "papermill": {
   "default_parameters": {},
   "duration": 55.015491,
   "end_time": "2022-02-13T14:50:59.422411",
   "environment_variables": {},
   "exception": null,
   "input_path": "ABC_GAN-Catboost.ipynb",
   "output_path": "./ABC_GAN_Catboost/ABC-GAN_output_4_1.ipynb",
   "parameters": {
    "variance": 0.1
   },
   "start_time": "2022-02-13T14:50:04.406920",
   "version": "2.3.3"
  }
 },
 "nbformat": 4,
 "nbformat_minor": 5
}